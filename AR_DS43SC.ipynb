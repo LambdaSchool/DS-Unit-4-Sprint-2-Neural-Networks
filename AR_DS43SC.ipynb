{
  "nbformat": 4,
  "nbformat_minor": 0,
  "metadata": {
    "colab": {
      "name": "AR - DS43SC.ipynb",
      "version": "0.3.2",
      "provenance": [],
      "include_colab_link": true
    },
    "kernelspec": {
      "name": "python3",
      "display_name": "Python 3"
    }
  },
  "cells": [
    {
      "cell_type": "markdown",
      "metadata": {
        "id": "view-in-github",
        "colab_type": "text"
      },
      "source": [
        "<a href=\"https://colab.research.google.com/github/axrd/DS-Unit-4-Sprint-3-Neural-Networks/blob/master/AR_DS43SC.ipynb\" target=\"_parent\"><img src=\"https://colab.research.google.com/assets/colab-badge.svg\" alt=\"Open In Colab\"/></a>"
      ]
    },
    {
      "metadata": {
        "id": "Y6SKlgYrpcym",
        "colab_type": "text"
      },
      "cell_type": "markdown",
      "source": [
        "# Neural Networks Sprint Challenge"
      ]
    },
    {
      "metadata": {
        "id": "BrEbRrjVphPM",
        "colab_type": "text"
      },
      "cell_type": "markdown",
      "source": [
        "## 1) Define the following terms:\n",
        "\n",
        "- Neuron\n",
        "- Input Layer\n",
        "- Hidden Layer\n",
        "- Output Layer\n",
        "- Activation\n",
        "- Backpropagation"
      ]
    },
    {
      "metadata": {
        "id": "Q5EksLqnp4oB",
        "colab_type": "text"
      },
      "cell_type": "markdown",
      "source": [
        "\n",
        "---\n",
        "\n",
        "\n",
        "*   **Neuron:** In neurophysiology, it's the building block of our brains that acts as a single input/output node inside a larger network that collectively gives rise to our conscious expeierence. In computing, it refers to a specific type of model structure that draws inspiration from it's biological counterpart to help model the complex relationships in data: each neuron receives an input, but only passes an output if a certain threshold is reached.\n",
        "*   **Input Layer:** The layer that receives input from the dataset. \n",
        "*   **Hidden Layer:** The layers after the input that we don't directly interact with and are, therefore, ''hidden''. \n",
        "*   **Output Layer:** The final layer that usually outputs a vector of values suited to whatever is trying to be predicted by the Artificial Neural Network (ANN).\n",
        "*   **Activation:** Refers to the idea that not all neurons 'fire', but instead are subject to a sort of threshold. These are called activation functions and normally use Sigmoid, RELU, Step, or TANh curves. Put another way, it's the amount of signal that is transfered between layers in an ANN.\n",
        "*   **Backpropagation:** A way to train neural networks in which the appropriate weights are calculated by propagating errors backwards through the network.\n",
        "\n",
        "\n",
        "---\n",
        "\n",
        "\n",
        "\n"
      ]
    },
    {
      "metadata": {
        "id": "Ri_gRA2Jp728",
        "colab_type": "text"
      },
      "cell_type": "markdown",
      "source": [
        "## 2) Create a perceptron class that can model the behavior of an AND gate. You can use the following table as your training data:\n",
        "\n",
        "| x1 | x2 | x3 | y |\n",
        "|----|----|----|---|\n",
        "| 1  | 1  | 1  | 1 |\n",
        "| 1  | 0  | 1  | 0 |\n",
        "| 0  | 1  | 1  | 0 |\n",
        "| 0  | 0  | 1  | 0 |"
      ]
    },
    {
      "metadata": {
        "id": "Ig6ZTH8tpQ19",
        "colab_type": "code",
        "colab": {}
      },
      "cell_type": "code",
      "source": [
        "##### Your Code Here #####\n",
        "\n",
        "# Imports \n",
        "\n",
        "import numpy as np\n",
        "np.random.seed(42)\n",
        "import matplotlib.pyplot as plt\n"
      ],
      "execution_count": 0,
      "outputs": []
    },
    {
      "metadata": {
        "id": "OBK3TgZakABR",
        "colab_type": "code",
        "colab": {}
      },
      "cell_type": "code",
      "source": [
        "class Perceptronemeter():\n",
        "\n",
        "    def __init__(self, inputs, epochs=50, rate=0.01):\n",
        "        self.epochs = epochs\n",
        "        self.rate = rate\n",
        "        self.weights = np.zeros(inputs + 1)\n",
        "    \n",
        "  \n",
        "    def fit(self, inputs):\n",
        "        #simple step function\n",
        "        summation = np.dot(inputs, self.weights[1:]) + self.weights[0]\n",
        "        if summation > 0:\n",
        "            activation = 1\n",
        "        else:\n",
        "            activation = 0            \n",
        "        return activation\n",
        "    \n",
        "    \n",
        "   \n",
        "    def train(self, training_inputs, labels):      \n",
        "        for e in range(self.epochs):\n",
        "            preds = []\n",
        "            for inputs, label in zip(training_inputs, labels):\n",
        "                prediction = self.predict(inputs)\n",
        "                self.weights[1:] += self.rate * (label - prediction) * inputs\n",
        "                self.weights[0] += self.rate * (label - prediction)\n",
        "                preds.append(prediction)\n",
        "            print([int(x) for x in labels], preds, self.weights)"
      ],
      "execution_count": 0,
      "outputs": []
    },
    {
      "metadata": {
        "id": "hPWGcqQNkz2x",
        "colab_type": "code",
        "colab": {
          "base_uri": "https://localhost:8080/",
          "height": 386
        },
        "outputId": "6909691a-f99e-4ed7-f9e9-47134cdfe2e3"
      },
      "cell_type": "code",
      "source": [
        "# Training the perceptron\n",
        "\n",
        "X = np.array([[1,1,1],\n",
        "              [1,0,1],\n",
        "              [0,1,1],\n",
        "              [0,0,1]])\n",
        "\n",
        "y = np.array([[1],\n",
        "              [0],\n",
        "              [0],\n",
        "              [0]])\n",
        "\n",
        "print('Y, Y-hat, Weights: \\n')\n",
        "p1 = Perceptronemeter(inputs=3, epochs=20, rate=0.01)\n",
        "p1.train(X,y)"
      ],
      "execution_count": 16,
      "outputs": [
        {
          "output_type": "stream",
          "text": [
            "Y, Y-hat, Weights: \n",
            "\n",
            "[1, 0, 0, 0] [0, 1, 1, 0] [-0.01  0.    0.   -0.01]\n",
            "[1, 0, 0, 0] [0, 1, 0, 0] [-0.01  0.    0.01 -0.01]\n",
            "[1, 0, 0, 0] [0, 1, 0, 0] [-0.01  0.    0.02 -0.01]\n",
            "[1, 0, 0, 0] [0, 1, 1, 0] [-0.02  0.    0.02 -0.02]\n",
            "[1, 0, 0, 0] [0, 0, 1, 0] [-0.02  0.01  0.02 -0.02]\n",
            "[1, 0, 0, 0] [0, 0, 1, 0] [-0.02  0.02  0.02 -0.02]\n",
            "[1, 0, 0, 0] [0, 1, 0, 0] [-0.02  0.02  0.03 -0.02]\n",
            "[1, 0, 0, 0] [1, 0, 0, 0] [-0.02  0.02  0.03 -0.02]\n",
            "[1, 0, 0, 0] [1, 0, 0, 0] [-0.02  0.02  0.03 -0.02]\n",
            "[1, 0, 0, 0] [1, 0, 0, 0] [-0.02  0.02  0.03 -0.02]\n",
            "[1, 0, 0, 0] [1, 0, 0, 0] [-0.02  0.02  0.03 -0.02]\n",
            "[1, 0, 0, 0] [1, 0, 0, 0] [-0.02  0.02  0.03 -0.02]\n",
            "[1, 0, 0, 0] [1, 0, 0, 0] [-0.02  0.02  0.03 -0.02]\n",
            "[1, 0, 0, 0] [1, 0, 0, 0] [-0.02  0.02  0.03 -0.02]\n",
            "[1, 0, 0, 0] [1, 0, 0, 0] [-0.02  0.02  0.03 -0.02]\n",
            "[1, 0, 0, 0] [1, 0, 0, 0] [-0.02  0.02  0.03 -0.02]\n",
            "[1, 0, 0, 0] [1, 0, 0, 0] [-0.02  0.02  0.03 -0.02]\n",
            "[1, 0, 0, 0] [1, 0, 0, 0] [-0.02  0.02  0.03 -0.02]\n",
            "[1, 0, 0, 0] [1, 0, 0, 0] [-0.02  0.02  0.03 -0.02]\n",
            "[1, 0, 0, 0] [1, 0, 0, 0] [-0.02  0.02  0.03 -0.02]\n"
          ],
          "name": "stdout"
        }
      ]
    },
    {
      "metadata": {
        "id": "IlvbkKU-mOzb",
        "colab_type": "code",
        "colab": {
          "base_uri": "https://localhost:8080/",
          "height": 34
        },
        "outputId": "02d1b579-4872-4601-dec9-c7334a851fd9"
      },
      "cell_type": "code",
      "source": [
        "# to visualize convergence:\n",
        "\n",
        "\"\"\"\n",
        "plt.plot(range(1, len(pn.errors) + 1), pn.errors, marker='o')\n",
        "plt.xlabel('Epochs')\n",
        "plt.ylabel('Number of misclassifications')\n",
        "plt.show()\n",
        "\"\"\"\n"
      ],
      "execution_count": 23,
      "outputs": [
        {
          "output_type": "execute_result",
          "data": {
            "text/plain": [
              "\"\\nplt.plot(range(1, len(pn.errors) + 1), pn.errors, marker='o')\\nplt.xlabel('Epochs')\\nplt.ylabel('Number of misclassifications')\\nplt.show()\\n\""
            ]
          },
          "metadata": {
            "tags": []
          },
          "execution_count": 23
        }
      ]
    },
    {
      "metadata": {
        "id": "hQVp-fkEm5xB",
        "colab_type": "code",
        "colab": {}
      },
      "cell_type": "code",
      "source": [
        ""
      ],
      "execution_count": 0,
      "outputs": []
    },
    {
      "metadata": {
        "id": "86HyRi8Osr3U",
        "colab_type": "text"
      },
      "cell_type": "markdown",
      "source": [
        "## 3) Implement a Neural Network Multilayer Perceptron class that uses backpropagation to update the network's weights. \n",
        "- Your network must have one hidden layer. \n",
        "- You do not have to update weights via gradient descent. You can use something like the derivative of the sigmoid function to update weights.\n",
        "- Train your model on the Heart Disease dataset from UCI:\n",
        "\n",
        "[Github Dataset](https://github.com/ryanleeallred/datasets/blob/master/heart.csv)\n",
        "\n",
        "[Raw File on Github](https://raw.githubusercontent.com/ryanleeallred/datasets/master/heart.csv)\n"
      ]
    },
    {
      "metadata": {
        "id": "CNfiajv3v4Ed",
        "colab_type": "code",
        "colab": {}
      },
      "cell_type": "code",
      "source": [
        "##### Your Code Here #####\n",
        "import pandas as pd\n",
        "from sklearn.preprocessing import RobustScaler"
      ],
      "execution_count": 0,
      "outputs": []
    },
    {
      "metadata": {
        "id": "HPoUFPX5nSOT",
        "colab_type": "code",
        "colab": {
          "base_uri": "https://localhost:8080/",
          "height": 269
        },
        "outputId": "de428eb3-1be0-4c99-a3ed-7077a85ab478"
      },
      "cell_type": "code",
      "source": [
        "df = pd.read_csv('https://raw.githubusercontent.com/ryanleeallred/datasets/master/heart.csv')\n",
        "\n",
        "df.head()\n",
        "\n",
        "df.isnull().sum()\n",
        "\n",
        "df.dtypes\n",
        "\n",
        "#No missing values to clean, all features are numeric"
      ],
      "execution_count": 29,
      "outputs": [
        {
          "output_type": "execute_result",
          "data": {
            "text/plain": [
              "age           int64\n",
              "sex           int64\n",
              "cp            int64\n",
              "trestbps      int64\n",
              "chol          int64\n",
              "fbs           int64\n",
              "restecg       int64\n",
              "thalach       int64\n",
              "exang         int64\n",
              "oldpeak     float64\n",
              "slope         int64\n",
              "ca            int64\n",
              "thal          int64\n",
              "target        int64\n",
              "dtype: object"
            ]
          },
          "metadata": {
            "tags": []
          },
          "execution_count": 29
        }
      ]
    },
    {
      "metadata": {
        "id": "gk_ggI74nqYu",
        "colab_type": "code",
        "colab": {}
      },
      "cell_type": "code",
      "source": [
        "scaled = RobustScaler()\n",
        "\n",
        "# Setting up X and y for model:\n",
        "\n",
        "y = df.target.values\n",
        "X = scaled.fit_transform(df.drop(columns=['target']))"
      ],
      "execution_count": 0,
      "outputs": []
    },
    {
      "metadata": {
        "id": "ZG5Q7m4jpe7g",
        "colab_type": "code",
        "colab": {}
      },
      "cell_type": "code",
      "source": [
        "class MLP():\n",
        "    def __init__(self, X, y):\n",
        "      self.x = X\n",
        "      self.y = y\n",
        "      neurons = 9  \n",
        "      self.rate = 0.1 \n",
        "      input_dimensions = 13\n",
        "      output_dimensions = 1\n",
        "        \n",
        "      #weights and biases in hidden layers\n",
        "      self.wh = np.random.randn(input_dimensions, neurons)\n",
        "      self.bh = np.zeroes((1,neurons))\n",
        "        \n",
        "      #weights and biases in output layer\n",
        "      self.wo = np.random.randn(neurons,output_dimensions)\n",
        "      self.bo = np.zeroes(1, output_dimensions)\n",
        "        \n",
        "    def fforward(self):\n",
        "     # hidden layer: \n",
        "      w_inputs1 = np.dot(self.x, self.wh) + self.bh   # weighted inputs\n",
        "      self.act1 = sigmoid(w_inputs1) # activated sums\n",
        "      \n",
        "     #output layer: \n",
        "      w_inputs2 = np.dot(self.act1, self.wo) + self.bo   \n",
        "      self.act2 = sigmoid(w_inputs2)\n",
        "      \n",
        "      \n",
        "      \n",
        "    def predict(self, data):\n",
        "      self.X = data\n",
        "      self.fforward()\n",
        "      return self.act2"
      ],
      "execution_count": 0,
      "outputs": []
    },
    {
      "metadata": {
        "id": "GGT1oRzXw3H9",
        "colab_type": "text"
      },
      "cell_type": "markdown",
      "source": [
        "## 4) Implement a Multilayer Perceptron architecture of your choosing using the Keras library. Train your model and report its baseline accuracy. Then hyperparameter tune at least two parameters and report your model's accuracy. \n",
        "\n",
        "- Use the Heart Disease Dataset (binary classification)\n",
        "- Use an appropriate loss function for a binary classification task\n",
        "- Use an appropriate activation function on the final layer of your network. \n",
        "- Train your model using verbose output for ease of grading.\n",
        "- Use GridSearchCV to hyperparameter tune your model. (for at least two hyperparameters)\n",
        "- When hyperparameter tuning, show you work by adding code cells for each new experiment. \n",
        "- Report the accuracy for each combination of hyperparameters as you test them so that we can easily see which resulted in the highest accuracy.\n",
        "- You must hyperparameter tune at least 5 parameters in order to get a 3 on this section."
      ]
    },
    {
      "metadata": {
        "id": "XWw4IYxLxKwH",
        "colab_type": "code",
        "colab": {}
      },
      "cell_type": "code",
      "source": [
        "##### Your Code Here #####\n",
        "from keras.models import Sequential\n",
        "from keras.layers import Dense\n",
        "from sklearn.model_selection import StratifiedKFold\n",
        "from sklearn.model_selection import GridSearchCV\n",
        "from keras.wrappers.scikit_learn import KerasClassifier"
      ],
      "execution_count": 0,
      "outputs": []
    },
    {
      "metadata": {
        "id": "l48Y1FjotsUI",
        "colab_type": "code",
        "colab": {}
      },
      "cell_type": "code",
      "source": [
        "\n",
        "np.random.seed(42)"
      ],
      "execution_count": 0,
      "outputs": []
    },
    {
      "metadata": {
        "id": "mmjK6SeVtyrx",
        "colab_type": "code",
        "colab": {}
      },
      "cell_type": "code",
      "source": [
        "def model_frame():\n",
        "  # Standard out-of-the-box model framework:\n",
        "  model = Sequential()\n",
        "  model.add(Dense(13, input_dim=13, activation='relu'))\n",
        "  model.add(Dense(13, activation='relu'))\n",
        "  model.add(Dense(1, activation='sigmoid'))\n",
        "  model.compile(loss='binary_crossentropy', optimizer='adam', metrics=['accuracy'])\n",
        "  return model"
      ],
      "execution_count": 0,
      "outputs": []
    },
    {
      "metadata": {
        "id": "3pg9XEB8uIq4",
        "colab_type": "code",
        "colab": {
          "base_uri": "https://localhost:8080/",
          "height": 574
        },
        "outputId": "bdb7c78e-a04c-4fe8-f701-7d57ad24bab8"
      },
      "cell_type": "code",
      "source": [
        "m = KerasClassifier(build_fn=model_frame, batch_size=20, \n",
        "                        epochs=15,verbose=1)\n",
        "skf = StratifiedKFold(n_splits=5, shuffle=True, random_state=42)\n",
        "\n",
        "param_grid = {}\n",
        "\n",
        "g = GridSearchCV(estimator=m, param_grid=param_grid, \n",
        "                    n_jobs=-1, cv=skf)\n",
        "\n",
        "result1 = g.fit(X,y)"
      ],
      "execution_count": 51,
      "outputs": [
        {
          "output_type": "stream",
          "text": [
            "/usr/local/lib/python3.6/dist-packages/sklearn/model_selection/_search.py:841: DeprecationWarning: The default of the `iid` parameter will change from True to False in version 0.22 and will be removed in 0.24. This will change numeric results when test-set sizes are unequal.\n",
            "  DeprecationWarning)\n"
          ],
          "name": "stderr"
        },
        {
          "output_type": "stream",
          "text": [
            "Epoch 1/15\n",
            "303/303 [==============================] - 0s 1ms/step - loss: 0.7262 - acc: 0.4290\n",
            "Epoch 2/15\n",
            "303/303 [==============================] - 0s 80us/step - loss: 0.6989 - acc: 0.5017\n",
            "Epoch 3/15\n",
            "303/303 [==============================] - 0s 78us/step - loss: 0.6747 - acc: 0.5710\n",
            "Epoch 4/15\n",
            "303/303 [==============================] - 0s 73us/step - loss: 0.6537 - acc: 0.6568\n",
            "Epoch 5/15\n",
            "303/303 [==============================] - 0s 84us/step - loss: 0.6302 - acc: 0.7228\n",
            "Epoch 6/15\n",
            "303/303 [==============================] - 0s 91us/step - loss: 0.6039 - acc: 0.7459\n",
            "Epoch 7/15\n",
            "303/303 [==============================] - 0s 76us/step - loss: 0.5746 - acc: 0.7723\n",
            "Epoch 8/15\n",
            "303/303 [==============================] - 0s 75us/step - loss: 0.5448 - acc: 0.7855\n",
            "Epoch 9/15\n",
            "303/303 [==============================] - 0s 82us/step - loss: 0.5182 - acc: 0.7855\n",
            "Epoch 10/15\n",
            "303/303 [==============================] - 0s 83us/step - loss: 0.4905 - acc: 0.7888\n",
            "Epoch 11/15\n",
            "303/303 [==============================] - 0s 84us/step - loss: 0.4674 - acc: 0.8053\n",
            "Epoch 12/15\n",
            "303/303 [==============================] - 0s 110us/step - loss: 0.4445 - acc: 0.8053\n",
            "Epoch 13/15\n",
            "303/303 [==============================] - 0s 76us/step - loss: 0.4270 - acc: 0.8086\n",
            "Epoch 14/15\n",
            "303/303 [==============================] - 0s 85us/step - loss: 0.4118 - acc: 0.8152\n",
            "Epoch 15/15\n",
            "303/303 [==============================] - 0s 82us/step - loss: 0.3987 - acc: 0.8383\n"
          ],
          "name": "stdout"
        }
      ]
    },
    {
      "metadata": {
        "id": "vBjy2KLzutuR",
        "colab_type": "code",
        "colab": {
          "base_uri": "https://localhost:8080/",
          "height": 521
        },
        "outputId": "2d08cd32-4744-4825-d0ad-92ce49911e57"
      },
      "cell_type": "code",
      "source": [
        "# Decent best score of 84.8% accuracy on first pass using {}\n",
        "\n",
        "# Let's try tweaking learning rate:\n",
        "rate = [0.01, 0.1, 0.2]\n",
        "param_grid = dict(rate=rate)\n",
        "\n",
        "\n",
        "m = KerasClassifier(build_fn=model_frame, batch_size=20, \n",
        "                        epochs=15,verbose=1)\n",
        "skf = StratifiedKFold(n_splits=5, shuffle=True, random_state=42)\n",
        "\n",
        "param_grid = {}\n",
        "\n",
        "g = GridSearchCV(estimator=m, param_grid=param_grid, \n",
        "                    n_jobs=-1, cv=skf)\n",
        "\n",
        "result2 = g.fit(X,y)"
      ],
      "execution_count": 52,
      "outputs": [
        {
          "output_type": "stream",
          "text": [
            "Epoch 1/15\n",
            "303/303 [==============================] - 0s 1ms/step - loss: 0.7331 - acc: 0.4950\n",
            "Epoch 2/15\n",
            "303/303 [==============================] - 0s 82us/step - loss: 0.7023 - acc: 0.5446\n",
            "Epoch 3/15\n",
            "303/303 [==============================] - 0s 81us/step - loss: 0.6773 - acc: 0.5545\n",
            "Epoch 4/15\n",
            "303/303 [==============================] - 0s 79us/step - loss: 0.6563 - acc: 0.5644\n",
            "Epoch 5/15\n",
            "303/303 [==============================] - 0s 82us/step - loss: 0.6351 - acc: 0.5908\n",
            "Epoch 6/15\n",
            "303/303 [==============================] - 0s 76us/step - loss: 0.6154 - acc: 0.6040\n",
            "Epoch 7/15\n",
            "303/303 [==============================] - 0s 82us/step - loss: 0.5958 - acc: 0.6304\n",
            "Epoch 8/15\n",
            "303/303 [==============================] - 0s 83us/step - loss: 0.5782 - acc: 0.6601\n",
            "Epoch 9/15\n",
            "303/303 [==============================] - 0s 93us/step - loss: 0.5583 - acc: 0.7030\n",
            "Epoch 10/15\n",
            "303/303 [==============================] - 0s 85us/step - loss: 0.5376 - acc: 0.7558\n",
            "Epoch 11/15\n",
            "303/303 [==============================] - 0s 80us/step - loss: 0.5179 - acc: 0.7822\n",
            "Epoch 12/15\n",
            "303/303 [==============================] - 0s 83us/step - loss: 0.4984 - acc: 0.7987\n",
            "Epoch 13/15\n",
            "303/303 [==============================] - 0s 79us/step - loss: 0.4781 - acc: 0.8053\n",
            "Epoch 14/15\n",
            "303/303 [==============================] - 0s 81us/step - loss: 0.4604 - acc: 0.7987\n",
            "Epoch 15/15\n",
            "303/303 [==============================] - 0s 78us/step - loss: 0.4435 - acc: 0.8119\n"
          ],
          "name": "stdout"
        }
      ]
    },
    {
      "metadata": {
        "id": "Zg449CgTwcR_",
        "colab_type": "code",
        "colab": {}
      },
      "cell_type": "code",
      "source": [
        "# Just made things worse: best was 81%"
      ],
      "execution_count": 0,
      "outputs": []
    },
    {
      "metadata": {
        "id": "Uz0tLPmPwh8y",
        "colab_type": "code",
        "colab": {}
      },
      "cell_type": "code",
      "source": [
        ""
      ],
      "execution_count": 0,
      "outputs": []
    }
  ]
}