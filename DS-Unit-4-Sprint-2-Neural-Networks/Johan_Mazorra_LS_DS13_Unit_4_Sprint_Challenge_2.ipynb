{
  "nbformat": 4,
  "nbformat_minor": 0,
  "metadata": {
    "kernelspec": {
      "name": "python3",
      "display_name": "Python 3"
    },
    "colab": {
      "name": "Johan_Mazorra_LS_DS13_Unit_4_Sprint_Challenge_2.ipynb",
      "provenance": [],
      "include_colab_link": true
    },
    "accelerator": "GPU"
  },
  "cells": [
    {
      "cell_type": "markdown",
      "metadata": {
        "id": "view-in-github",
        "colab_type": "text"
      },
      "source": [
        "<a href=\"https://colab.research.google.com/github/jsmazorra/DS-Unit-4-Sprint-2-Neural-Networks/blob/master/DS-Unit-4-Sprint-2-Neural-Networks/Johan_Mazorra_LS_DS13_Unit_4_Sprint_Challenge_2.ipynb\" target=\"_parent\"><img src=\"https://colab.research.google.com/assets/colab-badge.svg\" alt=\"Open In Colab\"/></a>"
      ]
    },
    {
      "cell_type": "markdown",
      "metadata": {
        "id": "EQQUVQsK5HXO",
        "colab_type": "text"
      },
      "source": [
        "<img align=\"left\" src=\"https://lever-client-logos.s3.amazonaws.com/864372b1-534c-480e-acd5-9711f850815c-1524247202159.png\" width=200>\n",
        "<br></br>\n",
        "<br></br>\n",
        "\n",
        "## *Data Science Unit 4 Sprint 2*\n",
        "\n",
        "# Sprint Challenge - Neural Network Foundations\n",
        "\n",
        "Table of Problems\n",
        "\n",
        "1. [Defining Neural Networks](#Q1)\n",
        "2. [Simple Perceptron](#Q2)\n",
        "    - Perceptron\n",
        "    - Multilayer Perceptron\n",
        "    - Analyze and Compare\n",
        "4. [Keras MMP](#Q3)"
      ]
    },
    {
      "cell_type": "markdown",
      "metadata": {
        "id": "cEXPYgVR5HXR",
        "colab_type": "text"
      },
      "source": [
        "<a id=\"Q1\"></a>\n",
        "## 1. Defining Neural Networks \n",
        "\n",
        "Write *your own* definitions for the following terms:\n",
        "\n",
        "- **Neuron:** also known as a node, this is a function within a neural network which recieves input values either from the raw original data, or from one or more previous nodes. It applies weight coefficients and a bias intercept to those input values, and the sum of those weights and biases applied to each prior input are run through an activation function to relativize the output of the node compared to all other outputs in its layer. This final relativized output is the activation value, which is then input to one or many subsequent nodes, or is interpreted as an output value of the neural network in the case of the output layer.\n",
        "- **Input Layer:** the first layer of nodes in a neural network, recieving the normalized or transformed version of the original data, which enters the neural network as a vector. Each node corresponds to a feature of the observation. The input layer does itself have weights, biases, and an activation function, but it only outputs activation values to the next layer. It does not recieve activation values. It only recieves the vectorized raw data.\n",
        "- **Hidden Layer:** a layer of nodes which does not recieve inputs from the original data. It only recieves activation values from previous nodes of the neural network. However, nodes in a hidden layer also do not present a final output value from the neural network. They recieve activation values, and must also pass activation values on to other nodes in subsequent layers. Hidden layer nodes are therefore intermediating nodes. They also have weights, biases, and an activation function.\n",
        "- **Output Layer:** a layer of nodes which does not recive input activation values from the original data, but from previous nodes in the neural network; but unlike a hidden layer, it's output activation values are the final outputs of the neural network. These output activation values are interpreted as probablilities, each node either representing a class within the target, a target itself, or some medley of the two. Nodes in the output layer also have wights, biases, and activation functions, but their output activation values are the final interpretation of the neural network upon that data observation. No further nodes recieve activation values from the output layer.\n",
        "- **Activation Function:** a function which relates the nodes that are members of the same layer. Each node being a function that presents to the activation function its weighted sum, the activation function then returns to the node an activation value that is calculated relative to all of the other nodes encapsulated by that activation function. It is that activation value that is then passed from one node to the next layer, or as an output."
      ]
    },
    {
      "cell_type": "markdown",
      "metadata": {
        "id": "tXm5WF7u5HXV",
        "colab_type": "text"
      },
      "source": [
        "Explain how back propagation works as if you were explaining it to a five year-old. Use your own words, but feel free to reference external materials for this question. "
      ]
    },
    {
      "cell_type": "markdown",
      "metadata": {
        "id": "XTQ9rXlHVdUd",
        "colab_type": "text"
      },
      "source": [
        "Do you remember a few years ago, when you were 2, and the only thing that came out of your mouth was a question about this or that? Well sometimes, you would point at blue or green things, and ask: Is that red? And I would have to kindly tell you, \"No, silly. That's green!\" Or \"No, that's blue\", or \"Yes, it is red!\" if it was actually red. Anyway, you and I kept doing this until you finally understood that cardinals, stop signs, fire hydrants, fire fighters, and bricks were red; and that grass, violets, the midday sky, and your eyes were not red. That's what back propagation is. It's a neural network, in the computer's brain, changing its guesses about the world when it gets it wrong."
      ]
    },
    {
      "cell_type": "markdown",
      "metadata": {
        "id": "l7pUE3TR5HXg",
        "colab_type": "text"
      },
      "source": [
        "Remember our Simple Perceptron Class from Monday. In a simple prediction describe the process of making a prediction. How do you go from inputs to predicted output."
      ]
    },
    {
      "cell_type": "markdown",
      "metadata": {
        "id": "g9VZOJV2P_Kg",
        "colab_type": "text"
      },
      "source": [
        "1] The raw data is vectorized, usually into a float value from between 1 and 0\n",
        "\n",
        "2] A single observation is fed into the input layer as a vector, usually with each utilized feature being passed to a single input node.\n",
        "\n",
        "3] Input nodes take the input value, multipy it by a weight, add a bias to that product, and pass that weighted sum into the activation function for the input layer.\n",
        "\n",
        "4] The acivation function of the input layer uses a compression-type function to compress sometimes radically varying input values to within 1 and 0, relative to the range of other weighted sums it recieves from nodes of that layer. It then returns to the respective node its \"squishified\", or [1,0] compressed weighted sum (the activation value).\n",
        "\n",
        "5] The node then passes its activation value on to other nodes in the next layer, as an input to that node's weight/bias function.\n",
        "\n",
        "6] If the next node in the network, recieving that prior activation value, is a hidden layer node, steps 3-5 are repeated for that node and that layer, and it's activation value is passed onto one or many nodes in the subsequent layer.\n",
        "\n",
        "7] If the next node in the network, recieving that prior activation value, is an output layer node, steps 3-5 are repeated for that node and that layer, but it's activation value is not passed into another node. It is output to us, the consumer of that data, assigned to a target or target class, as a probability that the observation it came from represents a result in that target or that target class."
      ]
    },
    {
      "cell_type": "markdown",
      "metadata": {
        "id": "9K6_35U-5HXo",
        "colab_type": "text"
      },
      "source": [
        "<a id=\"Q2\"></a>\n",
        "## 2. Simple Perceptron\n",
        "\n",
        "In this question, you will build two neural networks using Tensorflow Keras. After you build these two models, compare the results of the model."
      ]
    },
    {
      "cell_type": "code",
      "metadata": {
        "id": "jYZczs9N5HXr",
        "colab_type": "code",
        "colab": {}
      },
      "source": [
        "\"\"\"\n",
        "Our Dataset\n",
        "\"\"\"\n",
        "import numpy as np\n",
        "\n",
        "xx, yy = np.meshgrid(np.linspace(-3, 3, 50),\n",
        "                     np.linspace(-3, 3, 50))\n",
        "rng = np.random.RandomState(0)\n",
        "\n",
        "\"Use this X & y in the following 2 models\"\n",
        "X = rng.randn(300, 2)\n",
        "y = np.array(np.logical_xor(X[:, 0] > 0, X[:, 1] > 0), \n",
        "             dtype=int)"
      ],
      "execution_count": 0,
      "outputs": []
    },
    {
      "cell_type": "code",
      "metadata": {
        "id": "OcRU4QXaQXZK",
        "colab_type": "code",
        "colab": {
          "base_uri": "https://localhost:8080/",
          "height": 51
        },
        "outputId": "5d325adf-cac5-44c2-c926-d4d8779a2421"
      },
      "source": [
        "# I'm going to see how these arrays look.\n",
        "X[:2]"
      ],
      "execution_count": 2,
      "outputs": [
        {
          "output_type": "execute_result",
          "data": {
            "text/plain": [
              "array([[1.76405235, 0.40015721],\n",
              "       [0.97873798, 2.2408932 ]])"
            ]
          },
          "metadata": {
            "tags": []
          },
          "execution_count": 2
        }
      ]
    },
    {
      "cell_type": "code",
      "metadata": {
        "id": "SbjRGKz6Qaht",
        "colab_type": "code",
        "colab": {
          "base_uri": "https://localhost:8080/",
          "height": 34
        },
        "outputId": "0883b7e4-e112-415a-943f-8216d500697d"
      },
      "source": [
        "y[:2]"
      ],
      "execution_count": 3,
      "outputs": [
        {
          "output_type": "execute_result",
          "data": {
            "text/plain": [
              "array([0, 0])"
            ]
          },
          "metadata": {
            "tags": []
          },
          "execution_count": 3
        }
      ]
    },
    {
      "cell_type": "code",
      "metadata": {
        "id": "O8nMiJiWQdOz",
        "colab_type": "code",
        "colab": {
          "base_uri": "https://localhost:8080/",
          "height": 34
        },
        "outputId": "28979909-af56-452d-8d9d-fb0ea31ac393"
      },
      "source": [
        "X.shape, y.shape"
      ],
      "execution_count": 4,
      "outputs": [
        {
          "output_type": "execute_result",
          "data": {
            "text/plain": [
              "((300, 2), (300,))"
            ]
          },
          "metadata": {
            "tags": []
          },
          "execution_count": 4
        }
      ]
    },
    {
      "cell_type": "markdown",
      "metadata": {
        "id": "REVo56C_5HXu",
        "colab_type": "text"
      },
      "source": [
        "### Simple Perceptron\n",
        "Construct a simple perceptron using Keras. You model should have 1 dense layer with a single neuron and a sigmoid activation function. Your model should be called `model1` and make sure to save the results of your fit statement to a variable called `h1`. "
      ]
    },
    {
      "cell_type": "code",
      "metadata": {
        "id": "nZPl0ckt5HXv",
        "colab_type": "code",
        "colab": {
          "base_uri": "https://localhost:8080/",
          "height": 561
        },
        "outputId": "cd06830c-833d-4efe-da28-ee3853e06957"
      },
      "source": [
        "from tensorflow.keras.callbacks import EarlyStopping\n",
        "from tensorflow.keras.models import Sequential\n",
        "from tensorflow.keras.layers import Dense, Dropout, Flatten\n",
        "\n",
        "stop = EarlyStopping(monitor='accuracy', min_delta=0.01, patience=8)\n",
        "\n",
        "model1 = Sequential([\n",
        "      Dense(1,activation='sigmoid', input_dim=2)\n",
        "])\n",
        "\n",
        "model1.compile(optimizer='sgd', loss='binary_crossentropy', metrics='accuracy')\n",
        "\n",
        "h1 = model1.fit(X,y,epochs=100,callbacks=[stop])"
      ],
      "execution_count": 5,
      "outputs": [
        {
          "output_type": "stream",
          "text": [
            "Epoch 1/100\n",
            "10/10 [==============================] - 0s 4ms/step - loss: 0.7590 - accuracy: 0.4833\n",
            "Epoch 2/100\n",
            "10/10 [==============================] - 0s 3ms/step - loss: 0.7560 - accuracy: 0.4867\n",
            "Epoch 3/100\n",
            "10/10 [==============================] - 0s 3ms/step - loss: 0.7529 - accuracy: 0.4867\n",
            "Epoch 4/100\n",
            "10/10 [==============================] - 0s 3ms/step - loss: 0.7501 - accuracy: 0.4933\n",
            "Epoch 5/100\n",
            "10/10 [==============================] - 0s 3ms/step - loss: 0.7471 - accuracy: 0.4967\n",
            "Epoch 6/100\n",
            "10/10 [==============================] - 0s 3ms/step - loss: 0.7444 - accuracy: 0.4967\n",
            "Epoch 7/100\n",
            "10/10 [==============================] - 0s 3ms/step - loss: 0.7416 - accuracy: 0.5033\n",
            "Epoch 8/100\n",
            "10/10 [==============================] - 0s 3ms/step - loss: 0.7390 - accuracy: 0.5067\n",
            "Epoch 9/100\n",
            "10/10 [==============================] - 0s 3ms/step - loss: 0.7368 - accuracy: 0.5033\n",
            "Epoch 10/100\n",
            "10/10 [==============================] - 0s 3ms/step - loss: 0.7342 - accuracy: 0.5100\n",
            "Epoch 11/100\n",
            "10/10 [==============================] - 0s 3ms/step - loss: 0.7321 - accuracy: 0.5133\n",
            "Epoch 12/100\n",
            "10/10 [==============================] - 0s 3ms/step - loss: 0.7299 - accuracy: 0.5133\n",
            "Epoch 13/100\n",
            "10/10 [==============================] - 0s 3ms/step - loss: 0.7279 - accuracy: 0.5133\n",
            "Epoch 14/100\n",
            "10/10 [==============================] - 0s 3ms/step - loss: 0.7260 - accuracy: 0.5133\n",
            "Epoch 15/100\n",
            "10/10 [==============================] - 0s 4ms/step - loss: 0.7241 - accuracy: 0.5133\n",
            "Epoch 16/100\n",
            "10/10 [==============================] - 0s 3ms/step - loss: 0.7227 - accuracy: 0.5100\n"
          ],
          "name": "stdout"
        }
      ]
    },
    {
      "cell_type": "markdown",
      "metadata": {
        "id": "cWlXNPAQ5HX3",
        "colab_type": "text"
      },
      "source": [
        "### Multi-Layer Perceptron\n",
        "Now construct a multi-layer perceptron using. Here are some architecture suggestions: \n",
        "- 2 Hidden Layers\n",
        "- 5-32 Neurons in the Hidden Layers\n",
        "- Your pick of activation function and optimizer\n",
        "- Incorporate the Callback function below into your model\n",
        "\n",
        "Your model should be called `model2` and make sure to save the results of your fit statement to a variable called `h2`. "
      ]
    },
    {
      "cell_type": "code",
      "metadata": {
        "id": "xrWzZw725HX4",
        "colab_type": "code",
        "colab": {}
      },
      "source": [
        "import tensorflow as tf\n",
        "\n",
        "class myCallback(tf.keras.callbacks.Callback): \n",
        "    def on_epoch_end(self, epoch, logs={}): \n",
        "        if(logs.get('accuracy') > .99999):   \n",
        "            self.model.stop_training = True"
      ],
      "execution_count": 0,
      "outputs": []
    },
    {
      "cell_type": "code",
      "metadata": {
        "id": "a-CyeWVK5HX-",
        "colab_type": "code",
        "colab": {
          "base_uri": "https://localhost:8080/",
          "height": 1000
        },
        "outputId": "68611f20-bbdf-4b8f-bdbf-e3a91e28e00c"
      },
      "source": [
        "model2 = Sequential([\n",
        "      Dense(32,activation='relu', input_dim=2),\n",
        "      Dense(8,activation='relu'),\n",
        "      Dense(1,activation='sigmoid')\n",
        "])\n",
        "\n",
        "model2.compile(optimizer='adam', loss='binary_crossentropy', metrics='accuracy')\n",
        "\n",
        "h2 = model2.fit(X,y,epochs=100,callbacks=[myCallback()])"
      ],
      "execution_count": 7,
      "outputs": [
        {
          "output_type": "stream",
          "text": [
            "Epoch 1/100\n",
            "10/10 [==============================] - 0s 3ms/step - loss: 0.7081 - accuracy: 0.5333\n",
            "Epoch 2/100\n",
            "10/10 [==============================] - 0s 4ms/step - loss: 0.6774 - accuracy: 0.5700\n",
            "Epoch 3/100\n",
            "10/10 [==============================] - 0s 3ms/step - loss: 0.6485 - accuracy: 0.7000\n",
            "Epoch 4/100\n",
            "10/10 [==============================] - 0s 3ms/step - loss: 0.6229 - accuracy: 0.8133\n",
            "Epoch 5/100\n",
            "10/10 [==============================] - 0s 4ms/step - loss: 0.5975 - accuracy: 0.8733\n",
            "Epoch 6/100\n",
            "10/10 [==============================] - 0s 3ms/step - loss: 0.5728 - accuracy: 0.9167\n",
            "Epoch 7/100\n",
            "10/10 [==============================] - 0s 3ms/step - loss: 0.5487 - accuracy: 0.9267\n",
            "Epoch 8/100\n",
            "10/10 [==============================] - 0s 3ms/step - loss: 0.5252 - accuracy: 0.9533\n",
            "Epoch 9/100\n",
            "10/10 [==============================] - 0s 3ms/step - loss: 0.5018 - accuracy: 0.9633\n",
            "Epoch 10/100\n",
            "10/10 [==============================] - 0s 3ms/step - loss: 0.4802 - accuracy: 0.9667\n",
            "Epoch 11/100\n",
            "10/10 [==============================] - 0s 3ms/step - loss: 0.4590 - accuracy: 0.9733\n",
            "Epoch 12/100\n",
            "10/10 [==============================] - 0s 3ms/step - loss: 0.4389 - accuracy: 0.9767\n",
            "Epoch 13/100\n",
            "10/10 [==============================] - 0s 3ms/step - loss: 0.4191 - accuracy: 0.9733\n",
            "Epoch 14/100\n",
            "10/10 [==============================] - 0s 3ms/step - loss: 0.4004 - accuracy: 0.9733\n",
            "Epoch 15/100\n",
            "10/10 [==============================] - 0s 3ms/step - loss: 0.3825 - accuracy: 0.9800\n",
            "Epoch 16/100\n",
            "10/10 [==============================] - 0s 3ms/step - loss: 0.3656 - accuracy: 0.9800\n",
            "Epoch 17/100\n",
            "10/10 [==============================] - 0s 3ms/step - loss: 0.3496 - accuracy: 0.9733\n",
            "Epoch 18/100\n",
            "10/10 [==============================] - 0s 3ms/step - loss: 0.3347 - accuracy: 0.9733\n",
            "Epoch 19/100\n",
            "10/10 [==============================] - 0s 4ms/step - loss: 0.3202 - accuracy: 0.9733\n",
            "Epoch 20/100\n",
            "10/10 [==============================] - 0s 3ms/step - loss: 0.3067 - accuracy: 0.9733\n",
            "Epoch 21/100\n",
            "10/10 [==============================] - 0s 4ms/step - loss: 0.2946 - accuracy: 0.9767\n",
            "Epoch 22/100\n",
            "10/10 [==============================] - 0s 3ms/step - loss: 0.2824 - accuracy: 0.9767\n",
            "Epoch 23/100\n",
            "10/10 [==============================] - 0s 3ms/step - loss: 0.2714 - accuracy: 0.9800\n",
            "Epoch 24/100\n",
            "10/10 [==============================] - 0s 3ms/step - loss: 0.2609 - accuracy: 0.9800\n",
            "Epoch 25/100\n",
            "10/10 [==============================] - 0s 3ms/step - loss: 0.2514 - accuracy: 0.9867\n",
            "Epoch 26/100\n",
            "10/10 [==============================] - 0s 3ms/step - loss: 0.2422 - accuracy: 0.9867\n",
            "Epoch 27/100\n",
            "10/10 [==============================] - 0s 3ms/step - loss: 0.2335 - accuracy: 0.9833\n",
            "Epoch 28/100\n",
            "10/10 [==============================] - 0s 3ms/step - loss: 0.2260 - accuracy: 0.9833\n",
            "Epoch 29/100\n",
            "10/10 [==============================] - 0s 4ms/step - loss: 0.2179 - accuracy: 0.9833\n",
            "Epoch 30/100\n",
            "10/10 [==============================] - 0s 3ms/step - loss: 0.2108 - accuracy: 0.9867\n",
            "Epoch 31/100\n",
            "10/10 [==============================] - 0s 3ms/step - loss: 0.2054 - accuracy: 0.9833\n",
            "Epoch 32/100\n",
            "10/10 [==============================] - 0s 3ms/step - loss: 0.1979 - accuracy: 0.9900\n",
            "Epoch 33/100\n",
            "10/10 [==============================] - 0s 3ms/step - loss: 0.1926 - accuracy: 0.9867\n",
            "Epoch 34/100\n",
            "10/10 [==============================] - 0s 3ms/step - loss: 0.1867 - accuracy: 0.9900\n",
            "Epoch 35/100\n",
            "10/10 [==============================] - 0s 3ms/step - loss: 0.1816 - accuracy: 0.9900\n",
            "Epoch 36/100\n",
            "10/10 [==============================] - 0s 3ms/step - loss: 0.1768 - accuracy: 0.9933\n",
            "Epoch 37/100\n",
            "10/10 [==============================] - 0s 3ms/step - loss: 0.1714 - accuracy: 0.9933\n",
            "Epoch 38/100\n",
            "10/10 [==============================] - 0s 4ms/step - loss: 0.1671 - accuracy: 0.9900\n",
            "Epoch 39/100\n",
            "10/10 [==============================] - 0s 3ms/step - loss: 0.1632 - accuracy: 0.9833\n",
            "Epoch 40/100\n",
            "10/10 [==============================] - 0s 3ms/step - loss: 0.1603 - accuracy: 0.9833\n",
            "Epoch 41/100\n",
            "10/10 [==============================] - 0s 3ms/step - loss: 0.1556 - accuracy: 0.9867\n",
            "Epoch 42/100\n",
            "10/10 [==============================] - 0s 3ms/step - loss: 0.1519 - accuracy: 0.9867\n",
            "Epoch 43/100\n",
            "10/10 [==============================] - 0s 3ms/step - loss: 0.1486 - accuracy: 0.9867\n",
            "Epoch 44/100\n",
            "10/10 [==============================] - 0s 3ms/step - loss: 0.1446 - accuracy: 0.9900\n",
            "Epoch 45/100\n",
            "10/10 [==============================] - 0s 3ms/step - loss: 0.1419 - accuracy: 0.9900\n",
            "Epoch 46/100\n",
            "10/10 [==============================] - 0s 4ms/step - loss: 0.1385 - accuracy: 0.9967\n",
            "Epoch 47/100\n",
            "10/10 [==============================] - 0s 3ms/step - loss: 0.1355 - accuracy: 0.9933\n",
            "Epoch 48/100\n",
            "10/10 [==============================] - 0s 4ms/step - loss: 0.1332 - accuracy: 0.9967\n",
            "Epoch 49/100\n",
            "10/10 [==============================] - 0s 5ms/step - loss: 0.1302 - accuracy: 0.9967\n",
            "Epoch 50/100\n",
            "10/10 [==============================] - 0s 4ms/step - loss: 0.1275 - accuracy: 0.9967\n",
            "Epoch 51/100\n",
            "10/10 [==============================] - 0s 3ms/step - loss: 0.1253 - accuracy: 0.9967\n",
            "Epoch 52/100\n",
            "10/10 [==============================] - 0s 3ms/step - loss: 0.1230 - accuracy: 0.9967\n",
            "Epoch 53/100\n",
            "10/10 [==============================] - 0s 4ms/step - loss: 0.1210 - accuracy: 0.9900\n",
            "Epoch 54/100\n",
            "10/10 [==============================] - 0s 3ms/step - loss: 0.1187 - accuracy: 0.9900\n",
            "Epoch 55/100\n",
            "10/10 [==============================] - 0s 3ms/step - loss: 0.1167 - accuracy: 0.9867\n",
            "Epoch 56/100\n",
            "10/10 [==============================] - 0s 4ms/step - loss: 0.1145 - accuracy: 0.9867\n",
            "Epoch 57/100\n",
            "10/10 [==============================] - 0s 3ms/step - loss: 0.1124 - accuracy: 0.9933\n",
            "Epoch 58/100\n",
            "10/10 [==============================] - 0s 3ms/step - loss: 0.1105 - accuracy: 0.9967\n",
            "Epoch 59/100\n",
            "10/10 [==============================] - 0s 3ms/step - loss: 0.1090 - accuracy: 0.9967\n",
            "Epoch 60/100\n",
            "10/10 [==============================] - 0s 3ms/step - loss: 0.1067 - accuracy: 0.9967\n",
            "Epoch 61/100\n",
            "10/10 [==============================] - 0s 3ms/step - loss: 0.1055 - accuracy: 0.9967\n",
            "Epoch 62/100\n",
            "10/10 [==============================] - 0s 3ms/step - loss: 0.1039 - accuracy: 0.9933\n",
            "Epoch 63/100\n",
            "10/10 [==============================] - 0s 3ms/step - loss: 0.1019 - accuracy: 0.9967\n",
            "Epoch 64/100\n",
            "10/10 [==============================] - 0s 3ms/step - loss: 0.1007 - accuracy: 0.9967\n",
            "Epoch 65/100\n",
            "10/10 [==============================] - 0s 3ms/step - loss: 0.0990 - accuracy: 0.9967\n",
            "Epoch 66/100\n",
            "10/10 [==============================] - 0s 3ms/step - loss: 0.0975 - accuracy: 0.9967\n",
            "Epoch 67/100\n",
            "10/10 [==============================] - 0s 3ms/step - loss: 0.0965 - accuracy: 0.9967\n",
            "Epoch 68/100\n",
            "10/10 [==============================] - 0s 3ms/step - loss: 0.0949 - accuracy: 0.9967\n",
            "Epoch 69/100\n",
            "10/10 [==============================] - 0s 3ms/step - loss: 0.0943 - accuracy: 0.9900\n",
            "Epoch 70/100\n",
            "10/10 [==============================] - 0s 3ms/step - loss: 0.0922 - accuracy: 0.9933\n",
            "Epoch 71/100\n",
            "10/10 [==============================] - 0s 3ms/step - loss: 0.0917 - accuracy: 0.9933\n",
            "Epoch 72/100\n",
            "10/10 [==============================] - 0s 3ms/step - loss: 0.0908 - accuracy: 0.9933\n",
            "Epoch 73/100\n",
            "10/10 [==============================] - 0s 4ms/step - loss: 0.0882 - accuracy: 0.9967\n",
            "Epoch 74/100\n",
            "10/10 [==============================] - 0s 3ms/step - loss: 0.0877 - accuracy: 1.0000\n"
          ],
          "name": "stdout"
        }
      ]
    },
    {
      "cell_type": "code",
      "metadata": {
        "id": "6PKeERXWR4G-",
        "colab_type": "code",
        "colab": {}
      },
      "source": [
        "# Nice, got 100% accuracy in 74 epochs."
      ],
      "execution_count": 0,
      "outputs": []
    },
    {
      "cell_type": "markdown",
      "metadata": {
        "id": "RyJ-AIJn5HYX",
        "colab_type": "text"
      },
      "source": [
        "### Analyze and Compare\n",
        "\n",
        "**Before you Start**: You will need to install an additional library for this next segment. Install the package `mlxtend` into the environment you are using for the sprint challenge.\n",
        "\n",
        "\n",
        "The cells below generate decision boundary plots of your models (`model1` & `model2`). Review the plots."
      ]
    },
    {
      "cell_type": "code",
      "metadata": {
        "id": "lmGRpSDiSw8R",
        "colab_type": "code",
        "colab": {}
      },
      "source": [
        "import mlxtend"
      ],
      "execution_count": 0,
      "outputs": []
    },
    {
      "cell_type": "code",
      "metadata": {
        "id": "_nvPiY4U5HYY",
        "colab_type": "code",
        "colab": {
          "base_uri": "https://localhost:8080/",
          "height": 444
        },
        "outputId": "ce9b7356-32e0-41ab-eae6-9694330a1af8"
      },
      "source": [
        "# Do Not change anything in this cell\n",
        "\n",
        "import matplotlib.pyplot as plt\n",
        "from mlxtend.plotting import plot_decision_regions\n",
        "\n",
        "h = .02  # step size in the mesh\n",
        "\n",
        "# create a mesh to plot in\n",
        "x_min, x_max = X[:, 0].min() - .2, X[:, 0].max() + .2\n",
        "y_min, y_max = X[:, 1].min() - .2, X[:, 1].max() + .2\n",
        "xx, yy = np.meshgrid(np.arange(x_min, x_max, h),\n",
        "                     np.arange(y_min, y_max, h))\n",
        "\n",
        "fig = plt.figure(figsize=(12,6))\n",
        "\n",
        "\n",
        "for clf, hist, name, grd in zip([model1,model2], [h1, h2],['Perceptron', 'Multi-Layer Perceptron'],[1,2]):\n",
        "\n",
        "    ax = plt.subplot(1,2, grd)\n",
        "    fig = plot_decision_regions(X=X, y=y, clf=clf, legend=2)\n",
        "    title = f\"{name} with {hist.history['accuracy'][-1]:,.2f} Accuracy\"\n",
        "    plt.title(title)\n",
        "\n",
        "plt.show()"
      ],
      "execution_count": 10,
      "outputs": [
        {
          "output_type": "stream",
          "text": [
            "/usr/local/lib/python3.6/dist-packages/mlxtend/plotting/decision_regions.py:244: MatplotlibDeprecationWarning: Passing unsupported keyword arguments to axis() will raise a TypeError in 3.3.\n",
            "  ax.axis(xmin=xx.min(), xmax=xx.max(), y_min=yy.min(), y_max=yy.max())\n"
          ],
          "name": "stderr"
        },
        {
          "output_type": "display_data",
          "data": {
            "image/png": "[encoded data removed]",
            "text/plain": [
              "<Figure size 864x432 with 2 Axes>"
            ]
          },
          "metadata": {
            "tags": [],
            "needs_background": "light"
          }
        }
      ]
    },
    {
      "cell_type": "markdown",
      "metadata": {
        "id": "7GMi1Nzv5HYd",
        "colab_type": "text"
      },
      "source": [
        "Why does the Perceptron (`model1`) only achieve ~70% accuracy? What is the architectural property of the Multi-Layer Perceptron that allows it more accurately learn the relationship between X and y? \n",
        "\n",
        "Why might this property be useful in more complex data such as images?"
      ]
    },
    {
      "cell_type": "markdown",
      "metadata": {
        "id": "iWeGEFTd9wPP",
        "colab_type": "text"
      },
      "source": [
        "The Single-Layer Perceptron performs much worse than the Multi-Layer Perceptron because it is unable to learn or apply meta-linear decision boundaries to the dataset, which is clearly quadrant in its characteristic.\n",
        "The ability of the MLP to recognize meta-linear and multi-linear decision boundaries is useful for image classification because in natural images there are many lines and curves."
      ]
    },
    {
      "cell_type": "markdown",
      "metadata": {
        "id": "O1DtQ0ik5HYj",
        "colab_type": "text"
      },
      "source": [
        "## 3. Keras MMP <a id=\"Q3\"></a>\n",
        "\n",
        "Implement a Multilayer Perceptron architecture of your choosing using the Keras library. Train your model and report its baseline accuracy. Then hyperparameter tune at least two parameters and report your model's accuracy.\n",
        "Use the Heart Disease Dataset (binary classification)\n",
        "Use an appropriate loss function for a binary classification task\n",
        "Use an appropriate activation function on the final layer of your network.\n",
        "Train your model using verbose output for ease of grading.\n",
        "Use GridSearchCV or RandomSearchCV to hyperparameter tune your model. (for at least two hyperparameters)\n",
        "When hyperparameter tuning, show you work by adding code cells for each new experiment.\n",
        "Report the accuracy for each combination of hyperparameters as you test them so that we can easily see which resulted in the highest accuracy.\n",
        "You must hyperparameter tune at least 3 parameters in order to get a 3 on this section."
      ]
    },
    {
      "cell_type": "code",
      "metadata": {
        "inputHidden": false,
        "jupyter": {
          "outputs_hidden": false
        },
        "outputHidden": false,
        "id": "8YfmKBs65HYk",
        "colab_type": "code",
        "colab": {
          "base_uri": "https://localhost:8080/",
          "height": 221
        },
        "outputId": "29a52eee-7f3e-4f1c-85fb-e0b1c3b5e2e5"
      },
      "source": [
        "import pandas as pd\n",
        "from sklearn.preprocessing import StandardScaler\n",
        "\n",
        "df = pd.read_csv('https://raw.githubusercontent.com/ryanleeallred/datasets/master/heart.csv')\n",
        "df = df.sample(frac=1)\n",
        "print(df.shape)\n",
        "df.head()"
      ],
      "execution_count": 11,
      "outputs": [
        {
          "output_type": "stream",
          "text": [
            "(303, 14)\n"
          ],
          "name": "stdout"
        },
        {
          "output_type": "execute_result",
          "data": {
            "text/html": [
              "<div>\n",
              "<style scoped>\n",
              "    .dataframe tbody tr th:only-of-type {\n",
              "        vertical-align: middle;\n",
              "    }\n",
              "\n",
              "    .dataframe tbody tr th {\n",
              "        vertical-align: top;\n",
              "    }\n",
              "\n",
              "    .dataframe thead th {\n",
              "        text-align: right;\n",
              "    }\n",
              "</style>\n",
              "<table border=\"1\" class=\"dataframe\">\n",
              "  <thead>\n",
              "    <tr style=\"text-align: right;\">\n",
              "      <th></th>\n",
              "      <th>age</th>\n",
              "      <th>sex</th>\n",
              "      <th>cp</th>\n",
              "      <th>trestbps</th>\n",
              "      <th>chol</th>\n",
              "      <th>fbs</th>\n",
              "      <th>restecg</th>\n",
              "      <th>thalach</th>\n",
              "      <th>exang</th>\n",
              "      <th>oldpeak</th>\n",
              "      <th>slope</th>\n",
              "      <th>ca</th>\n",
              "      <th>thal</th>\n",
              "      <th>target</th>\n",
              "    </tr>\n",
              "  </thead>\n",
              "  <tbody>\n",
              "    <tr>\n",
              "      <th>231</th>\n",
              "      <td>57</td>\n",
              "      <td>1</td>\n",
              "      <td>0</td>\n",
              "      <td>165</td>\n",
              "      <td>289</td>\n",
              "      <td>1</td>\n",
              "      <td>0</td>\n",
              "      <td>124</td>\n",
              "      <td>0</td>\n",
              "      <td>1.0</td>\n",
              "      <td>1</td>\n",
              "      <td>3</td>\n",
              "      <td>3</td>\n",
              "      <td>0</td>\n",
              "    </tr>\n",
              "    <tr>\n",
              "      <th>162</th>\n",
              "      <td>41</td>\n",
              "      <td>1</td>\n",
              "      <td>1</td>\n",
              "      <td>120</td>\n",
              "      <td>157</td>\n",
              "      <td>0</td>\n",
              "      <td>1</td>\n",
              "      <td>182</td>\n",
              "      <td>0</td>\n",
              "      <td>0.0</td>\n",
              "      <td>2</td>\n",
              "      <td>0</td>\n",
              "      <td>2</td>\n",
              "      <td>1</td>\n",
              "    </tr>\n",
              "    <tr>\n",
              "      <th>250</th>\n",
              "      <td>51</td>\n",
              "      <td>1</td>\n",
              "      <td>0</td>\n",
              "      <td>140</td>\n",
              "      <td>298</td>\n",
              "      <td>0</td>\n",
              "      <td>1</td>\n",
              "      <td>122</td>\n",
              "      <td>1</td>\n",
              "      <td>4.2</td>\n",
              "      <td>1</td>\n",
              "      <td>3</td>\n",
              "      <td>3</td>\n",
              "      <td>0</td>\n",
              "    </tr>\n",
              "    <tr>\n",
              "      <th>272</th>\n",
              "      <td>67</td>\n",
              "      <td>1</td>\n",
              "      <td>0</td>\n",
              "      <td>120</td>\n",
              "      <td>237</td>\n",
              "      <td>0</td>\n",
              "      <td>1</td>\n",
              "      <td>71</td>\n",
              "      <td>0</td>\n",
              "      <td>1.0</td>\n",
              "      <td>1</td>\n",
              "      <td>0</td>\n",
              "      <td>2</td>\n",
              "      <td>0</td>\n",
              "    </tr>\n",
              "    <tr>\n",
              "      <th>95</th>\n",
              "      <td>53</td>\n",
              "      <td>1</td>\n",
              "      <td>0</td>\n",
              "      <td>142</td>\n",
              "      <td>226</td>\n",
              "      <td>0</td>\n",
              "      <td>0</td>\n",
              "      <td>111</td>\n",
              "      <td>1</td>\n",
              "      <td>0.0</td>\n",
              "      <td>2</td>\n",
              "      <td>0</td>\n",
              "      <td>3</td>\n",
              "      <td>1</td>\n",
              "    </tr>\n",
              "  </tbody>\n",
              "</table>\n",
              "</div>"
            ],
            "text/plain": [
              "     age  sex  cp  trestbps  chol  fbs  ...  exang  oldpeak  slope  ca  thal  target\n",
              "231   57    1   0       165   289    1  ...      0      1.0      1   3     3       0\n",
              "162   41    1   1       120   157    0  ...      0      0.0      2   0     2       1\n",
              "250   51    1   0       140   298    0  ...      1      4.2      1   3     3       0\n",
              "272   67    1   0       120   237    0  ...      0      1.0      1   0     2       0\n",
              "95    53    1   0       142   226    0  ...      1      0.0      2   0     3       1\n",
              "\n",
              "[5 rows x 14 columns]"
            ]
          },
          "metadata": {
            "tags": []
          },
          "execution_count": 11
        }
      ]
    },
    {
      "cell_type": "code",
      "metadata": {
        "id": "krK4Yo535HY4",
        "colab_type": "code",
        "colab": {
          "base_uri": "https://localhost:8080/",
          "height": 68
        },
        "outputId": "ac34635a-1a07-4dae-a5c9-40030a2cbcdd"
      },
      "source": [
        "# Your Code Here\n",
        "df.target.value_counts(normalize=True)"
      ],
      "execution_count": 12,
      "outputs": [
        {
          "output_type": "execute_result",
          "data": {
            "text/plain": [
              "1    0.544554\n",
              "0    0.455446\n",
              "Name: target, dtype: float64"
            ]
          },
          "metadata": {
            "tags": []
          },
          "execution_count": 12
        }
      ]
    },
    {
      "cell_type": "code",
      "metadata": {
        "id": "MrXAJgYnTSdL",
        "colab_type": "code",
        "colab": {
          "base_uri": "https://localhost:8080/",
          "height": 34
        },
        "outputId": "13a646fa-c0a6-47f5-a02d-a2cecf9bb46e"
      },
      "source": [
        "# Ok, I have to beat this baseline of 55%.\n",
        "from sklearn.model_selection import train_test_split\n",
        "\n",
        "X = df.drop(columns='target')\n",
        "y = df['target']\n",
        "X.shape,y.shape"
      ],
      "execution_count": 13,
      "outputs": [
        {
          "output_type": "execute_result",
          "data": {
            "text/plain": [
              "((303, 13), (303,))"
            ]
          },
          "metadata": {
            "tags": []
          },
          "execution_count": 13
        }
      ]
    },
    {
      "cell_type": "code",
      "metadata": {
        "id": "wxZ8SAy1Tg-L",
        "colab_type": "code",
        "colab": {}
      },
      "source": [
        "X_train, X_test, y_train, y_test = train_test_split(\n",
        "    X, y, test_size=0.2, random_state=8\n",
        "    )"
      ],
      "execution_count": 0,
      "outputs": []
    },
    {
      "cell_type": "code",
      "metadata": {
        "id": "hbG2HPYjTztA",
        "colab_type": "code",
        "colab": {
          "base_uri": "https://localhost:8080/",
          "height": 204
        },
        "outputId": "edd65edc-1fa4-4037-855a-ceff8a5c7cff"
      },
      "source": [
        "X_train.head()"
      ],
      "execution_count": 15,
      "outputs": [
        {
          "output_type": "execute_result",
          "data": {
            "text/html": [
              "<div>\n",
              "<style scoped>\n",
              "    .dataframe tbody tr th:only-of-type {\n",
              "        vertical-align: middle;\n",
              "    }\n",
              "\n",
              "    .dataframe tbody tr th {\n",
              "        vertical-align: top;\n",
              "    }\n",
              "\n",
              "    .dataframe thead th {\n",
              "        text-align: right;\n",
              "    }\n",
              "</style>\n",
              "<table border=\"1\" class=\"dataframe\">\n",
              "  <thead>\n",
              "    <tr style=\"text-align: right;\">\n",
              "      <th></th>\n",
              "      <th>age</th>\n",
              "      <th>sex</th>\n",
              "      <th>cp</th>\n",
              "      <th>trestbps</th>\n",
              "      <th>chol</th>\n",
              "      <th>fbs</th>\n",
              "      <th>restecg</th>\n",
              "      <th>thalach</th>\n",
              "      <th>exang</th>\n",
              "      <th>oldpeak</th>\n",
              "      <th>slope</th>\n",
              "      <th>ca</th>\n",
              "      <th>thal</th>\n",
              "    </tr>\n",
              "  </thead>\n",
              "  <tbody>\n",
              "    <tr>\n",
              "      <th>124</th>\n",
              "      <td>39</td>\n",
              "      <td>0</td>\n",
              "      <td>2</td>\n",
              "      <td>94</td>\n",
              "      <td>199</td>\n",
              "      <td>0</td>\n",
              "      <td>1</td>\n",
              "      <td>179</td>\n",
              "      <td>0</td>\n",
              "      <td>0.0</td>\n",
              "      <td>2</td>\n",
              "      <td>0</td>\n",
              "      <td>2</td>\n",
              "    </tr>\n",
              "    <tr>\n",
              "      <th>291</th>\n",
              "      <td>58</td>\n",
              "      <td>1</td>\n",
              "      <td>0</td>\n",
              "      <td>114</td>\n",
              "      <td>318</td>\n",
              "      <td>0</td>\n",
              "      <td>2</td>\n",
              "      <td>140</td>\n",
              "      <td>0</td>\n",
              "      <td>4.4</td>\n",
              "      <td>0</td>\n",
              "      <td>3</td>\n",
              "      <td>1</td>\n",
              "    </tr>\n",
              "    <tr>\n",
              "      <th>136</th>\n",
              "      <td>60</td>\n",
              "      <td>0</td>\n",
              "      <td>2</td>\n",
              "      <td>120</td>\n",
              "      <td>178</td>\n",
              "      <td>1</td>\n",
              "      <td>1</td>\n",
              "      <td>96</td>\n",
              "      <td>0</td>\n",
              "      <td>0.0</td>\n",
              "      <td>2</td>\n",
              "      <td>0</td>\n",
              "      <td>2</td>\n",
              "    </tr>\n",
              "    <tr>\n",
              "      <th>287</th>\n",
              "      <td>57</td>\n",
              "      <td>1</td>\n",
              "      <td>1</td>\n",
              "      <td>154</td>\n",
              "      <td>232</td>\n",
              "      <td>0</td>\n",
              "      <td>0</td>\n",
              "      <td>164</td>\n",
              "      <td>0</td>\n",
              "      <td>0.0</td>\n",
              "      <td>2</td>\n",
              "      <td>1</td>\n",
              "      <td>2</td>\n",
              "    </tr>\n",
              "    <tr>\n",
              "      <th>123</th>\n",
              "      <td>54</td>\n",
              "      <td>0</td>\n",
              "      <td>2</td>\n",
              "      <td>108</td>\n",
              "      <td>267</td>\n",
              "      <td>0</td>\n",
              "      <td>0</td>\n",
              "      <td>167</td>\n",
              "      <td>0</td>\n",
              "      <td>0.0</td>\n",
              "      <td>2</td>\n",
              "      <td>0</td>\n",
              "      <td>2</td>\n",
              "    </tr>\n",
              "  </tbody>\n",
              "</table>\n",
              "</div>"
            ],
            "text/plain": [
              "     age  sex  cp  trestbps  chol  ...  exang  oldpeak  slope  ca  thal\n",
              "124   39    0   2        94   199  ...      0      0.0      2   0     2\n",
              "291   58    1   0       114   318  ...      0      4.4      0   3     1\n",
              "136   60    0   2       120   178  ...      0      0.0      2   0     2\n",
              "287   57    1   1       154   232  ...      0      0.0      2   1     2\n",
              "123   54    0   2       108   267  ...      0      0.0      2   0     2\n",
              "\n",
              "[5 rows x 13 columns]"
            ]
          },
          "metadata": {
            "tags": []
          },
          "execution_count": 15
        }
      ]
    },
    {
      "cell_type": "code",
      "metadata": {
        "id": "SDrZVUY2T2pn",
        "colab_type": "code",
        "colab": {
          "base_uri": "https://localhost:8080/",
          "height": 119
        },
        "outputId": "432257de-398f-4cce-96aa-017cc67a9827"
      },
      "source": [
        "# Let's scale and vectorize the data.\n",
        "from sklearn.preprocessing import StandardScaler\n",
        "\n",
        "scaler = StandardScaler()\n",
        "\n",
        "X_train_std = scaler.fit_transform(X_train)\n",
        "X_test_std = scaler.transform(X_test)\n",
        "print(X_train_std[:2])"
      ],
      "execution_count": 16,
      "outputs": [
        {
          "output_type": "stream",
          "text": [
            "[[-1.6822868  -1.46385011  1.04009595 -2.09146154 -0.84286138 -0.39036003\n",
            "   0.86473673  1.2598261  -0.70272837 -0.89413249  0.98186126 -0.71269665\n",
            "  -0.5146532 ]\n",
            " [ 0.40209873  0.68313005 -0.94965283 -0.96971133  1.32764046 -0.39036003\n",
            "   2.75001862 -0.42077301 -0.70272837  2.92791598 -2.29552392  2.22717702\n",
            "  -2.17526754]]\n"
          ],
          "name": "stdout"
        }
      ]
    },
    {
      "cell_type": "code",
      "metadata": {
        "id": "uXNO1z8cT-sN",
        "colab_type": "code",
        "colab": {}
      },
      "source": [
        "X_train0, X_val, y_train0, y_val = train_test_split(\n",
        "    X_train, y_train, test_size=0.2, random_state=8\n",
        "    )"
      ],
      "execution_count": 0,
      "outputs": []
    },
    {
      "cell_type": "code",
      "metadata": {
        "id": "5cGvsXURUJFJ",
        "colab_type": "code",
        "colab": {
          "base_uri": "https://localhost:8080/",
          "height": 1000
        },
        "outputId": "7761e82f-3afa-4621-e22e-0fb6e7889519"
      },
      "source": [
        "# Let's create the model now.\n",
        "stop = EarlyStopping(monitor='val_accuracy', min_delta=0.01, patience=16)\n",
        "\n",
        "model3 = Sequential([\n",
        "      Dense(32,activation='relu', input_dim=13),\n",
        "      Dense(64,activation='relu'),\n",
        "      Dense(16,activation='relu'),\n",
        "      Dense(4,activation='relu'),\n",
        "      Dense(1,activation='sigmoid')\n",
        "])\n",
        "\n",
        "model3.compile(optimizer='adam', loss='binary_crossentropy', metrics='accuracy')\n",
        "\n",
        "result3 = model3.fit(\n",
        "    X_train0,y_train0,\n",
        "    validation_data=(X_val,y_val),\n",
        "    epochs=100\n",
        "    )"
      ],
      "execution_count": 18,
      "outputs": [
        {
          "output_type": "stream",
          "text": [
            "Epoch 1/100\n",
            "7/7 [==============================] - 0s 41ms/step - loss: 29.4491 - accuracy: 0.4508 - val_loss: 4.8277 - val_accuracy: 0.3061\n",
            "Epoch 2/100\n",
            "7/7 [==============================] - 0s 13ms/step - loss: 6.8696 - accuracy: 0.5337 - val_loss: 6.3152 - val_accuracy: 0.5510\n",
            "Epoch 3/100\n",
            "7/7 [==============================] - 0s 14ms/step - loss: 4.1825 - accuracy: 0.5492 - val_loss: 0.7815 - val_accuracy: 0.5510\n",
            "Epoch 4/100\n",
            "7/7 [==============================] - 0s 12ms/step - loss: 0.6583 - accuracy: 0.5492 - val_loss: 0.6192 - val_accuracy: 0.5510\n",
            "Epoch 5/100\n",
            "7/7 [==============================] - 0s 13ms/step - loss: 0.6882 - accuracy: 0.5492 - val_loss: 0.5980 - val_accuracy: 0.5510\n",
            "Epoch 6/100\n",
            "7/7 [==============================] - 0s 13ms/step - loss: 0.6453 - accuracy: 0.5492 - val_loss: 0.6174 - val_accuracy: 0.5510\n",
            "Epoch 7/100\n",
            "7/7 [==============================] - 0s 12ms/step - loss: 0.6893 - accuracy: 0.5492 - val_loss: 0.5938 - val_accuracy: 0.5510\n",
            "Epoch 8/100\n",
            "7/7 [==============================] - 0s 12ms/step - loss: 0.6519 - accuracy: 0.5803 - val_loss: 0.6427 - val_accuracy: 0.5918\n",
            "Epoch 9/100\n",
            "7/7 [==============================] - 0s 14ms/step - loss: 0.6683 - accuracy: 0.5233 - val_loss: 0.6482 - val_accuracy: 0.5918\n",
            "Epoch 10/100\n",
            "7/7 [==============================] - 0s 13ms/step - loss: 0.6719 - accuracy: 0.5078 - val_loss: 0.6433 - val_accuracy: 0.5918\n",
            "Epoch 11/100\n",
            "7/7 [==============================] - 0s 14ms/step - loss: 0.6714 - accuracy: 0.5181 - val_loss: 0.6244 - val_accuracy: 0.6122\n",
            "Epoch 12/100\n",
            "7/7 [==============================] - 0s 12ms/step - loss: 0.6604 - accuracy: 0.5544 - val_loss: 0.5985 - val_accuracy: 0.6531\n",
            "Epoch 13/100\n",
            "7/7 [==============================] - 0s 12ms/step - loss: 0.6510 - accuracy: 0.6269 - val_loss: 0.5780 - val_accuracy: 0.6939\n",
            "Epoch 14/100\n",
            "7/7 [==============================] - 0s 15ms/step - loss: 0.6325 - accuracy: 0.6788 - val_loss: 0.5894 - val_accuracy: 0.6327\n",
            "Epoch 15/100\n",
            "7/7 [==============================] - 0s 12ms/step - loss: 0.6817 - accuracy: 0.7047 - val_loss: 0.6350 - val_accuracy: 0.6735\n",
            "Epoch 16/100\n",
            "7/7 [==============================] - 0s 13ms/step - loss: 0.6287 - accuracy: 0.7202 - val_loss: 0.5865 - val_accuracy: 0.6939\n",
            "Epoch 17/100\n",
            "7/7 [==============================] - 0s 12ms/step - loss: 0.6344 - accuracy: 0.6839 - val_loss: 0.5849 - val_accuracy: 0.6939\n",
            "Epoch 18/100\n",
            "7/7 [==============================] - 0s 12ms/step - loss: 0.6286 - accuracy: 0.6788 - val_loss: 0.5890 - val_accuracy: 0.6735\n",
            "Epoch 19/100\n",
            "7/7 [==============================] - 0s 14ms/step - loss: 0.6547 - accuracy: 0.5751 - val_loss: 0.6704 - val_accuracy: 0.5102\n",
            "Epoch 20/100\n",
            "7/7 [==============================] - 0s 12ms/step - loss: 0.6996 - accuracy: 0.4663 - val_loss: 0.6613 - val_accuracy: 0.5510\n",
            "Epoch 21/100\n",
            "7/7 [==============================] - 0s 13ms/step - loss: 0.6707 - accuracy: 0.5130 - val_loss: 0.6001 - val_accuracy: 0.6939\n",
            "Epoch 22/100\n",
            "7/7 [==============================] - 0s 12ms/step - loss: 0.6333 - accuracy: 0.6373 - val_loss: 0.5679 - val_accuracy: 0.6939\n",
            "Epoch 23/100\n",
            "7/7 [==============================] - 0s 14ms/step - loss: 0.6435 - accuracy: 0.6321 - val_loss: 0.6028 - val_accuracy: 0.6939\n",
            "Epoch 24/100\n",
            "7/7 [==============================] - 0s 12ms/step - loss: 0.6396 - accuracy: 0.6218 - val_loss: 0.5726 - val_accuracy: 0.6939\n",
            "Epoch 25/100\n",
            "7/7 [==============================] - 0s 12ms/step - loss: 0.6215 - accuracy: 0.6736 - val_loss: 0.5763 - val_accuracy: 0.6735\n",
            "Epoch 26/100\n",
            "7/7 [==============================] - 0s 13ms/step - loss: 0.6255 - accuracy: 0.7150 - val_loss: 0.6103 - val_accuracy: 0.6735\n",
            "Epoch 27/100\n",
            "7/7 [==============================] - 0s 12ms/step - loss: 0.6347 - accuracy: 0.7202 - val_loss: 0.6037 - val_accuracy: 0.6735\n",
            "Epoch 28/100\n",
            "7/7 [==============================] - 0s 13ms/step - loss: 0.6229 - accuracy: 0.6943 - val_loss: 0.5783 - val_accuracy: 0.6939\n",
            "Epoch 29/100\n",
            "7/7 [==============================] - 0s 13ms/step - loss: 0.6202 - accuracy: 0.6943 - val_loss: 0.5845 - val_accuracy: 0.6939\n",
            "Epoch 30/100\n",
            "7/7 [==============================] - 0s 13ms/step - loss: 0.6178 - accuracy: 0.7047 - val_loss: 0.5849 - val_accuracy: 0.6735\n",
            "Epoch 31/100\n",
            "7/7 [==============================] - 0s 13ms/step - loss: 0.6650 - accuracy: 0.5337 - val_loss: 0.6775 - val_accuracy: 0.4898\n",
            "Epoch 32/100\n",
            "7/7 [==============================] - 0s 12ms/step - loss: 0.6902 - accuracy: 0.4715 - val_loss: 0.6878 - val_accuracy: 0.4694\n",
            "Epoch 33/100\n",
            "7/7 [==============================] - 0s 13ms/step - loss: 0.6930 - accuracy: 0.4663 - val_loss: 0.6890 - val_accuracy: 0.4694\n",
            "Epoch 34/100\n",
            "7/7 [==============================] - 0s 12ms/step - loss: 0.6942 - accuracy: 0.4560 - val_loss: 0.6893 - val_accuracy: 0.4694\n",
            "Epoch 35/100\n",
            "7/7 [==============================] - 0s 12ms/step - loss: 0.6942 - accuracy: 0.4560 - val_loss: 0.6890 - val_accuracy: 0.4694\n",
            "Epoch 36/100\n",
            "7/7 [==============================] - 0s 12ms/step - loss: 0.6940 - accuracy: 0.4560 - val_loss: 0.6885 - val_accuracy: 0.4694\n",
            "Epoch 37/100\n",
            "7/7 [==============================] - 0s 13ms/step - loss: 0.6936 - accuracy: 0.4611 - val_loss: 0.6875 - val_accuracy: 0.4694\n",
            "Epoch 38/100\n",
            "7/7 [==============================] - 0s 12ms/step - loss: 0.6926 - accuracy: 0.4663 - val_loss: 0.6862 - val_accuracy: 0.4694\n",
            "Epoch 39/100\n",
            "7/7 [==============================] - 0s 13ms/step - loss: 0.6904 - accuracy: 0.4715 - val_loss: 0.6850 - val_accuracy: 0.4694\n",
            "Epoch 40/100\n",
            "7/7 [==============================] - 0s 13ms/step - loss: 0.6878 - accuracy: 0.4715 - val_loss: 0.6799 - val_accuracy: 0.4898\n",
            "Epoch 41/100\n",
            "7/7 [==============================] - 0s 12ms/step - loss: 0.6844 - accuracy: 0.4819 - val_loss: 0.6755 - val_accuracy: 0.4898\n",
            "Epoch 42/100\n",
            "7/7 [==============================] - 0s 14ms/step - loss: 0.6801 - accuracy: 0.4870 - val_loss: 0.6688 - val_accuracy: 0.5510\n",
            "Epoch 43/100\n",
            "7/7 [==============================] - 0s 13ms/step - loss: 0.6765 - accuracy: 0.4974 - val_loss: 0.6444 - val_accuracy: 0.5918\n",
            "Epoch 44/100\n",
            "7/7 [==============================] - 0s 12ms/step - loss: 0.6688 - accuracy: 0.5181 - val_loss: 0.6259 - val_accuracy: 0.5918\n",
            "Epoch 45/100\n",
            "7/7 [==============================] - 0s 12ms/step - loss: 0.6576 - accuracy: 0.5699 - val_loss: 0.5903 - val_accuracy: 0.6735\n",
            "Epoch 46/100\n",
            "7/7 [==============================] - 0s 13ms/step - loss: 0.6231 - accuracy: 0.6788 - val_loss: 0.6026 - val_accuracy: 0.7143\n",
            "Epoch 47/100\n",
            "7/7 [==============================] - 0s 14ms/step - loss: 0.6389 - accuracy: 0.7306 - val_loss: 0.6869 - val_accuracy: 0.6531\n",
            "Epoch 48/100\n",
            "7/7 [==============================] - 0s 12ms/step - loss: 0.6831 - accuracy: 0.6891 - val_loss: 0.5931 - val_accuracy: 0.6735\n",
            "Epoch 49/100\n",
            "7/7 [==============================] - 0s 13ms/step - loss: 0.6164 - accuracy: 0.6943 - val_loss: 0.5940 - val_accuracy: 0.6735\n",
            "Epoch 50/100\n",
            "7/7 [==============================] - 0s 13ms/step - loss: 0.6168 - accuracy: 0.6995 - val_loss: 0.5938 - val_accuracy: 0.6735\n",
            "Epoch 51/100\n",
            "7/7 [==============================] - 0s 12ms/step - loss: 0.6567 - accuracy: 0.5544 - val_loss: 0.6821 - val_accuracy: 0.4898\n",
            "Epoch 52/100\n",
            "7/7 [==============================] - 0s 14ms/step - loss: 0.6901 - accuracy: 0.4663 - val_loss: 0.6917 - val_accuracy: 0.4490\n",
            "Epoch 53/100\n",
            "7/7 [==============================] - 0s 13ms/step - loss: 0.6962 - accuracy: 0.4456 - val_loss: 0.6891 - val_accuracy: 0.4694\n",
            "Epoch 54/100\n",
            "7/7 [==============================] - 0s 13ms/step - loss: 0.6936 - accuracy: 0.4560 - val_loss: 0.6883 - val_accuracy: 0.4694\n",
            "Epoch 55/100\n",
            "7/7 [==============================] - 0s 13ms/step - loss: 0.6926 - accuracy: 0.4611 - val_loss: 0.6871 - val_accuracy: 0.4694\n",
            "Epoch 56/100\n",
            "7/7 [==============================] - 0s 14ms/step - loss: 0.6917 - accuracy: 0.4663 - val_loss: 0.6855 - val_accuracy: 0.4694\n",
            "Epoch 57/100\n",
            "7/7 [==============================] - 0s 13ms/step - loss: 0.6895 - accuracy: 0.4663 - val_loss: 0.6833 - val_accuracy: 0.4898\n",
            "Epoch 58/100\n",
            "7/7 [==============================] - 0s 13ms/step - loss: 0.6857 - accuracy: 0.4767 - val_loss: 0.6777 - val_accuracy: 0.4898\n",
            "Epoch 59/100\n",
            "7/7 [==============================] - 0s 14ms/step - loss: 0.6801 - accuracy: 0.4974 - val_loss: 0.6678 - val_accuracy: 0.5102\n",
            "Epoch 60/100\n",
            "7/7 [==============================] - 0s 12ms/step - loss: 0.6742 - accuracy: 0.4974 - val_loss: 0.6501 - val_accuracy: 0.5918\n",
            "Epoch 61/100\n",
            "7/7 [==============================] - 0s 12ms/step - loss: 0.6682 - accuracy: 0.5078 - val_loss: 0.6310 - val_accuracy: 0.5918\n",
            "Epoch 62/100\n",
            "7/7 [==============================] - 0s 14ms/step - loss: 0.6625 - accuracy: 0.5544 - val_loss: 0.6092 - val_accuracy: 0.5918\n",
            "Epoch 63/100\n",
            "7/7 [==============================] - 0s 13ms/step - loss: 0.6465 - accuracy: 0.6166 - val_loss: 0.5946 - val_accuracy: 0.6735\n",
            "Epoch 64/100\n",
            "7/7 [==============================] - 0s 12ms/step - loss: 0.6664 - accuracy: 0.5181 - val_loss: 0.6782 - val_accuracy: 0.5102\n",
            "Epoch 65/100\n",
            "7/7 [==============================] - 0s 13ms/step - loss: 0.6885 - accuracy: 0.4767 - val_loss: 0.6865 - val_accuracy: 0.4694\n",
            "Epoch 66/100\n",
            "7/7 [==============================] - 0s 13ms/step - loss: 0.6921 - accuracy: 0.4611 - val_loss: 0.6883 - val_accuracy: 0.4694\n",
            "Epoch 67/100\n",
            "7/7 [==============================] - 0s 13ms/step - loss: 0.6927 - accuracy: 0.4508 - val_loss: 0.6886 - val_accuracy: 0.5510\n",
            "Epoch 68/100\n",
            "7/7 [==============================] - 0s 12ms/step - loss: 0.6926 - accuracy: 0.5492 - val_loss: 0.6885 - val_accuracy: 0.5510\n",
            "Epoch 69/100\n",
            "7/7 [==============================] - 0s 15ms/step - loss: 0.6925 - accuracy: 0.5492 - val_loss: 0.6879 - val_accuracy: 0.5510\n",
            "Epoch 70/100\n",
            "7/7 [==============================] - 0s 13ms/step - loss: 0.6923 - accuracy: 0.5492 - val_loss: 0.6873 - val_accuracy: 0.5510\n",
            "Epoch 71/100\n",
            "7/7 [==============================] - 0s 12ms/step - loss: 0.6918 - accuracy: 0.5492 - val_loss: 0.6864 - val_accuracy: 0.5510\n",
            "Epoch 72/100\n",
            "7/7 [==============================] - 0s 14ms/step - loss: 0.6912 - accuracy: 0.5492 - val_loss: 0.6851 - val_accuracy: 0.5510\n",
            "Epoch 73/100\n",
            "7/7 [==============================] - 0s 12ms/step - loss: 0.6900 - accuracy: 0.5492 - val_loss: 0.6840 - val_accuracy: 0.5510\n",
            "Epoch 74/100\n",
            "7/7 [==============================] - 0s 13ms/step - loss: 0.6890 - accuracy: 0.5492 - val_loss: 0.6832 - val_accuracy: 0.5510\n",
            "Epoch 75/100\n",
            "7/7 [==============================] - 0s 12ms/step - loss: 0.6858 - accuracy: 0.5492 - val_loss: 0.6776 - val_accuracy: 0.5510\n",
            "Epoch 76/100\n",
            "7/7 [==============================] - 0s 13ms/step - loss: 0.6801 - accuracy: 0.5492 - val_loss: 0.6676 - val_accuracy: 0.5510\n",
            "Epoch 77/100\n",
            "7/7 [==============================] - 0s 12ms/step - loss: 0.6738 - accuracy: 0.5492 - val_loss: 0.6519 - val_accuracy: 0.5510\n",
            "Epoch 78/100\n",
            "7/7 [==============================] - 0s 12ms/step - loss: 0.6686 - accuracy: 0.5492 - val_loss: 0.6280 - val_accuracy: 0.5510\n",
            "Epoch 79/100\n",
            "7/7 [==============================] - 0s 14ms/step - loss: 0.6604 - accuracy: 0.5492 - val_loss: 0.6107 - val_accuracy: 0.5510\n",
            "Epoch 80/100\n",
            "7/7 [==============================] - 0s 12ms/step - loss: 0.6428 - accuracy: 0.5492 - val_loss: 0.5713 - val_accuracy: 0.5510\n",
            "Epoch 81/100\n",
            "7/7 [==============================] - 0s 12ms/step - loss: 0.6289 - accuracy: 0.5492 - val_loss: 0.5718 - val_accuracy: 0.5510\n",
            "Epoch 82/100\n",
            "7/7 [==============================] - 0s 14ms/step - loss: 0.6818 - accuracy: 0.5492 - val_loss: 0.5861 - val_accuracy: 0.5510\n",
            "Epoch 83/100\n",
            "7/7 [==============================] - 0s 13ms/step - loss: 0.6225 - accuracy: 0.5492 - val_loss: 0.5965 - val_accuracy: 0.5510\n",
            "Epoch 84/100\n",
            "7/7 [==============================] - 0s 12ms/step - loss: 0.6328 - accuracy: 0.5492 - val_loss: 0.5660 - val_accuracy: 0.5510\n",
            "Epoch 85/100\n",
            "7/7 [==============================] - 0s 12ms/step - loss: 0.7152 - accuracy: 0.5440 - val_loss: 0.6029 - val_accuracy: 0.6939\n",
            "Epoch 86/100\n",
            "7/7 [==============================] - 0s 13ms/step - loss: 0.6306 - accuracy: 0.6580 - val_loss: 0.6141 - val_accuracy: 0.6122\n",
            "Epoch 87/100\n",
            "7/7 [==============================] - 0s 13ms/step - loss: 0.6545 - accuracy: 0.5803 - val_loss: 0.6138 - val_accuracy: 0.6122\n",
            "Epoch 88/100\n",
            "7/7 [==============================] - 0s 14ms/step - loss: 0.6462 - accuracy: 0.6010 - val_loss: 0.5690 - val_accuracy: 0.5510\n",
            "Epoch 89/100\n",
            "7/7 [==============================] - 0s 14ms/step - loss: 0.6163 - accuracy: 0.5492 - val_loss: 0.5624 - val_accuracy: 0.5510\n",
            "Epoch 90/100\n",
            "7/7 [==============================] - 0s 13ms/step - loss: 0.6193 - accuracy: 0.5492 - val_loss: 0.5939 - val_accuracy: 0.5510\n",
            "Epoch 91/100\n",
            "7/7 [==============================] - 0s 13ms/step - loss: 0.6490 - accuracy: 0.5492 - val_loss: 0.6137 - val_accuracy: 0.5510\n",
            "Epoch 92/100\n",
            "7/7 [==============================] - 0s 14ms/step - loss: 0.6201 - accuracy: 0.6218 - val_loss: 0.5626 - val_accuracy: 0.7143\n",
            "Epoch 93/100\n",
            "7/7 [==============================] - 0s 13ms/step - loss: 0.6184 - accuracy: 0.6839 - val_loss: 0.5593 - val_accuracy: 0.6939\n",
            "Epoch 94/100\n",
            "7/7 [==============================] - 0s 13ms/step - loss: 0.6063 - accuracy: 0.6995 - val_loss: 0.6239 - val_accuracy: 0.7143\n",
            "Epoch 95/100\n",
            "7/7 [==============================] - 0s 13ms/step - loss: 0.6867 - accuracy: 0.6891 - val_loss: 0.5703 - val_accuracy: 0.6939\n",
            "Epoch 96/100\n",
            "7/7 [==============================] - 0s 13ms/step - loss: 0.6107 - accuracy: 0.6684 - val_loss: 0.6081 - val_accuracy: 0.6327\n",
            "Epoch 97/100\n",
            "7/7 [==============================] - 0s 13ms/step - loss: 0.6460 - accuracy: 0.6010 - val_loss: 0.5972 - val_accuracy: 0.6735\n",
            "Epoch 98/100\n",
            "7/7 [==============================] - 0s 13ms/step - loss: 0.6231 - accuracy: 0.6528 - val_loss: 0.5721 - val_accuracy: 0.6939\n",
            "Epoch 99/100\n",
            "7/7 [==============================] - 0s 13ms/step - loss: 0.6687 - accuracy: 0.6891 - val_loss: 0.5851 - val_accuracy: 0.7143\n",
            "Epoch 100/100\n",
            "7/7 [==============================] - 0s 13ms/step - loss: 0.5983 - accuracy: 0.7358 - val_loss: 0.5659 - val_accuracy: 0.6939\n"
          ],
          "name": "stdout"
        }
      ]
    },
    {
      "cell_type": "code",
      "metadata": {
        "id": "Riy_ZfdIUS5i",
        "colab_type": "code",
        "colab": {
          "base_uri": "https://localhost:8080/",
          "height": 34
        },
        "outputId": "1f80f99b-f696-49d9-ce39-ad12a7649b14"
      },
      "source": [
        "max(result3.history['val_accuracy'])"
      ],
      "execution_count": 19,
      "outputs": [
        {
          "output_type": "execute_result",
          "data": {
            "text/plain": [
              "0.7142857313156128"
            ]
          },
          "metadata": {
            "tags": []
          },
          "execution_count": 19
        }
      ]
    },
    {
      "cell_type": "code",
      "metadata": {
        "id": "hF-1kCBQUZnV",
        "colab_type": "code",
        "colab": {
          "base_uri": "https://localhost:8080/",
          "height": 1000
        },
        "outputId": "d2074ef3-17af-45b5-8259-e01341fe4bc6"
      },
      "source": [
        "# We beat the dummy baseline with 71% accuracy, but we can do much better.\n",
        "from sklearn.model_selection import GridSearchCV, RandomizedSearchCV\n",
        "from tensorflow.keras.wrappers.scikit_learn import KerasClassifier\n",
        "from tensorflow.keras.optimizers import Adam, SGD, Nadam, Adadelta\n",
        "import numpy as np\n",
        "\n",
        "np.random.seed(8)\n",
        "\n",
        "def create_model(learning_rate=0.01, optimizer=Adam()):\n",
        "  model = Sequential()\n",
        "  model.add(Dense(32,activation='relu', input_dim=13))\n",
        "  model.add(Dense(64,activation='relu'))\n",
        "  model.add(Dense(16,activation='relu'))\n",
        "  model.add(Dense(4,activation='relu'))\n",
        "  model.add(Dense(1,activation='relu'))\n",
        "  optim = optimizer(learning_rate=learning_rate)\n",
        "  model.compile(optimizer=optim, loss='binary_crossentropy', metrics='accuracy')\n",
        "  return model\n",
        "\n",
        "model4 = KerasClassifier(build_fn=create_model, verbose=0)\n",
        "\n",
        "para_grid = {\n",
        "    'batch_size': [8, 16, 32, 64], 'epochs': [20],\n",
        "    'learning_rate': [0.001, 0.01, 0.1, 1],\n",
        "    'optimizer': [Adam, SGD, Nadam, Adadelta],\n",
        "    }\n",
        "\n",
        "grid = GridSearchCV(estimator=model4, param_grid=para_grid, n_jobs=1)\n",
        "grid_result = grid.fit(X_train_std, y_train)\n",
        "\n",
        "print(f\"Best: {grid_result.best_score_} using {grid_result.best_params_}\")\n",
        "means = grid_result.cv_results_['mean_test_score']\n",
        "stds = grid_result.cv_results_['std_test_score']\n",
        "params = grid_result.cv_results_['params']\n",
        "for mean, stdev, param in zip(means, stds, params):\n",
        "    print(f\"Means: {mean}, Stdev: {stdev} with: {param}\")"
      ],
      "execution_count": 20,
      "outputs": [
        {
          "output_type": "stream",
          "text": [
            "Best: 0.8596938729286194 using {'batch_size': 8, 'epochs': 20, 'learning_rate': 0.001, 'optimizer': <class 'tensorflow.python.keras.optimizer_v2.adam.Adam'>}\n",
            "Means: 0.8596938729286194, Stdev: 0.03190306617064138 with: {'batch_size': 8, 'epochs': 20, 'learning_rate': 0.001, 'optimizer': <class 'tensorflow.python.keras.optimizer_v2.adam.Adam'>}\n",
            "Means: 0.6121598720550537, Stdev: 0.1516241113922098 with: {'batch_size': 8, 'epochs': 20, 'learning_rate': 0.001, 'optimizer': <class 'tensorflow.python.keras.optimizer_v2.gradient_descent.SGD'>}\n",
            "Means: 0.7693877577781677, Stdev: 0.12029311686570886 with: {'batch_size': 8, 'epochs': 20, 'learning_rate': 0.001, 'optimizer': <class 'tensorflow.python.keras.optimizer_v2.nadam.Nadam'>}\n",
            "Means: 0.4380102038383484, Stdev: 0.059561691098861974 with: {'batch_size': 8, 'epochs': 20, 'learning_rate': 0.001, 'optimizer': <class 'tensorflow.python.keras.optimizer_v2.adadelta.Adadelta'>}\n",
            "Means: 0.7556122362613678, Stdev: 0.15213209216003606 with: {'batch_size': 8, 'epochs': 20, 'learning_rate': 0.01, 'optimizer': <class 'tensorflow.python.keras.optimizer_v2.adam.Adam'>}\n",
            "Means: 0.5849489808082581, Stdev: 0.18118240451302564 with: {'batch_size': 8, 'epochs': 20, 'learning_rate': 0.01, 'optimizer': <class 'tensorflow.python.keras.optimizer_v2.gradient_descent.SGD'>}\n",
            "Means: 0.8470237970352172, Stdev: 0.0444154391585211 with: {'batch_size': 8, 'epochs': 20, 'learning_rate': 0.01, 'optimizer': <class 'tensorflow.python.keras.optimizer_v2.nadam.Nadam'>}\n",
            "Means: 0.4585884392261505, Stdev: 0.04043507302270235 with: {'batch_size': 8, 'epochs': 20, 'learning_rate': 0.01, 'optimizer': <class 'tensorflow.python.keras.optimizer_v2.adadelta.Adadelta'>}\n",
            "Means: 0.483588433265686, Stdev: 0.06420466605601195 with: {'batch_size': 8, 'epochs': 20, 'learning_rate': 0.1, 'optimizer': <class 'tensorflow.python.keras.optimizer_v2.adam.Adam'>}\n",
            "Means: 0.5252551019191742, Stdev: 0.06126792790519694 with: {'batch_size': 8, 'epochs': 20, 'learning_rate': 0.1, 'optimizer': <class 'tensorflow.python.keras.optimizer_v2.gradient_descent.SGD'>}\n",
            "Means: 0.479676878452301, Stdev: 0.06307575514183264 with: {'batch_size': 8, 'epochs': 20, 'learning_rate': 0.1, 'optimizer': <class 'tensorflow.python.keras.optimizer_v2.nadam.Nadam'>}\n",
            "Means: 0.5169217705726623, Stdev: 0.12335454641037717 with: {'batch_size': 8, 'epochs': 20, 'learning_rate': 0.1, 'optimizer': <class 'tensorflow.python.keras.optimizer_v2.adadelta.Adadelta'>}\n",
            "Means: 0.4914115726947784, Stdev: 0.0657101222594898 with: {'batch_size': 8, 'epochs': 20, 'learning_rate': 1, 'optimizer': <class 'tensorflow.python.keras.optimizer_v2.adam.Adam'>}\n",
            "Means: 0.4914115726947784, Stdev: 0.0657101222594898 with: {'batch_size': 8, 'epochs': 20, 'learning_rate': 1, 'optimizer': <class 'tensorflow.python.keras.optimizer_v2.gradient_descent.SGD'>}\n",
            "Means: 0.45467687845230104, Stdev: 0.04834661114625799 with: {'batch_size': 8, 'epochs': 20, 'learning_rate': 1, 'optimizer': <class 'tensorflow.python.keras.optimizer_v2.nadam.Nadam'>}\n",
            "Means: 0.7554421722888947, Stdev: 0.1773823388886335 with: {'batch_size': 8, 'epochs': 20, 'learning_rate': 1, 'optimizer': <class 'tensorflow.python.keras.optimizer_v2.adadelta.Adadelta'>}\n",
            "Means: 0.8391156435012818, Stdev: 0.05631704024105097 with: {'batch_size': 16, 'epochs': 20, 'learning_rate': 0.001, 'optimizer': <class 'tensorflow.python.keras.optimizer_v2.adam.Adam'>}\n",
            "Means: 0.6907312870025635, Stdev: 0.06839905905988104 with: {'batch_size': 16, 'epochs': 20, 'learning_rate': 0.001, 'optimizer': <class 'tensorflow.python.keras.optimizer_v2.gradient_descent.SGD'>}\n",
            "Means: 0.8142857193946839, Stdev: 0.04619891798123129 with: {'batch_size': 16, 'epochs': 20, 'learning_rate': 0.001, 'optimizer': <class 'tensorflow.python.keras.optimizer_v2.nadam.Nadam'>}\n",
            "Means: 0.45442177057266236, Stdev: 0.041310597208134 with: {'batch_size': 16, 'epochs': 20, 'learning_rate': 0.001, 'optimizer': <class 'tensorflow.python.keras.optimizer_v2.adadelta.Adadelta'>}\n",
            "Means: 0.7515306293964386, Stdev: 0.14738595445307998 with: {'batch_size': 16, 'epochs': 20, 'learning_rate': 0.01, 'optimizer': <class 'tensorflow.python.keras.optimizer_v2.adam.Adam'>}\n",
            "Means: 0.826360559463501, Stdev: 0.025366088300362324 with: {'batch_size': 16, 'epochs': 20, 'learning_rate': 0.01, 'optimizer': <class 'tensorflow.python.keras.optimizer_v2.gradient_descent.SGD'>}\n",
            "Means: 0.7056122422218323, Stdev: 0.1531742331700091 with: {'batch_size': 16, 'epochs': 20, 'learning_rate': 0.01, 'optimizer': <class 'tensorflow.python.keras.optimizer_v2.nadam.Nadam'>}\n",
            "Means: 0.4629251718521118, Stdev: 0.039349153166867226 with: {'batch_size': 16, 'epochs': 20, 'learning_rate': 0.01, 'optimizer': <class 'tensorflow.python.keras.optimizer_v2.adadelta.Adadelta'>}\n",
            "Means: 0.4880102097988129, Stdev: 0.06517533347575448 with: {'batch_size': 16, 'epochs': 20, 'learning_rate': 0.1, 'optimizer': <class 'tensorflow.python.keras.optimizer_v2.adam.Adam'>}\n",
            "Means: 0.483588433265686, Stdev: 0.06420466605601195 with: {'batch_size': 16, 'epochs': 20, 'learning_rate': 0.1, 'optimizer': <class 'tensorflow.python.keras.optimizer_v2.gradient_descent.SGD'>}\n",
            "Means: 0.4380102097988129, Stdev: 0.02342745334564438 with: {'batch_size': 16, 'epochs': 20, 'learning_rate': 0.1, 'optimizer': <class 'tensorflow.python.keras.optimizer_v2.nadam.Nadam'>}\n",
            "Means: 0.5336734771728515, Stdev: 0.12795440884954534 with: {'batch_size': 16, 'epochs': 20, 'learning_rate': 0.1, 'optimizer': <class 'tensorflow.python.keras.optimizer_v2.adadelta.Adadelta'>}\n",
            "Means: 0.5252551019191742, Stdev: 0.06126792790519694 with: {'batch_size': 16, 'epochs': 20, 'learning_rate': 1, 'optimizer': <class 'tensorflow.python.keras.optimizer_v2.adam.Adam'>}\n",
            "Means: 0.4963435411453247, Stdev: 0.06616803589863401 with: {'batch_size': 16, 'epochs': 20, 'learning_rate': 1, 'optimizer': <class 'tensorflow.python.keras.optimizer_v2.gradient_descent.SGD'>}\n",
            "Means: 0.5130102097988128, Stdev: 0.06497933212749389 with: {'batch_size': 16, 'epochs': 20, 'learning_rate': 1, 'optimizer': <class 'tensorflow.python.keras.optimizer_v2.nadam.Nadam'>}\n",
            "Means: 0.8096938848495483, Stdev: 0.028769415393181532 with: {'batch_size': 16, 'epochs': 20, 'learning_rate': 1, 'optimizer': <class 'tensorflow.python.keras.optimizer_v2.adadelta.Adadelta'>}\n",
            "Means: 0.8059523820877075, Stdev: 0.026566290658209257 with: {'batch_size': 32, 'epochs': 20, 'learning_rate': 0.001, 'optimizer': <class 'tensorflow.python.keras.optimizer_v2.adam.Adam'>}\n",
            "Means: 0.5244897961616516, Stdev: 0.07832994726277744 with: {'batch_size': 32, 'epochs': 20, 'learning_rate': 0.001, 'optimizer': <class 'tensorflow.python.keras.optimizer_v2.gradient_descent.SGD'>}\n",
            "Means: 0.6960884392261505, Stdev: 0.1928944476085656 with: {'batch_size': 32, 'epochs': 20, 'learning_rate': 0.001, 'optimizer': <class 'tensorflow.python.keras.optimizer_v2.nadam.Nadam'>}\n",
            "Means: 0.4502550959587097, Stdev: 0.05552661891904621 with: {'batch_size': 32, 'epochs': 20, 'learning_rate': 0.001, 'optimizer': <class 'tensorflow.python.keras.optimizer_v2.adadelta.Adadelta'>}\n",
            "Means: 0.7516156554222106, Stdev: 0.1617715796499059 with: {'batch_size': 32, 'epochs': 20, 'learning_rate': 0.01, 'optimizer': <class 'tensorflow.python.keras.optimizer_v2.adam.Adam'>}\n",
            "Means: 0.6752551019191741, Stdev: 0.18180272248830673 with: {'batch_size': 32, 'epochs': 20, 'learning_rate': 0.01, 'optimizer': <class 'tensorflow.python.keras.optimizer_v2.gradient_descent.SGD'>}\n",
            "Means: 0.7180272161960601, Stdev: 0.16896570122644194 with: {'batch_size': 32, 'epochs': 20, 'learning_rate': 0.01, 'optimizer': <class 'tensorflow.python.keras.optimizer_v2.nadam.Nadam'>}\n",
            "Means: 0.45025510191917417, Stdev: 0.043783841475797815 with: {'batch_size': 32, 'epochs': 20, 'learning_rate': 0.01, 'optimizer': <class 'tensorflow.python.keras.optimizer_v2.adadelta.Adadelta'>}\n",
            "Means: 0.5497449040412903, Stdev: 0.04378384153367893 with: {'batch_size': 32, 'epochs': 20, 'learning_rate': 0.1, 'optimizer': <class 'tensorflow.python.keras.optimizer_v2.adam.Adam'>}\n",
            "Means: 0.5497449040412903, Stdev: 0.04378384153367893 with: {'batch_size': 32, 'epochs': 20, 'learning_rate': 0.1, 'optimizer': <class 'tensorflow.python.keras.optimizer_v2.gradient_descent.SGD'>}\n",
            "Means: 0.5130102097988128, Stdev: 0.06497933212749389 with: {'batch_size': 32, 'epochs': 20, 'learning_rate': 0.1, 'optimizer': <class 'tensorflow.python.keras.optimizer_v2.nadam.Nadam'>}\n",
            "Means: 0.47542516589164735, Stdev: 0.0916406308041532 with: {'batch_size': 32, 'epochs': 20, 'learning_rate': 0.1, 'optimizer': <class 'tensorflow.python.keras.optimizer_v2.adadelta.Adadelta'>}\n",
            "Means: 0.5247449040412903, Stdev: 0.06147576743328075 with: {'batch_size': 32, 'epochs': 20, 'learning_rate': 1, 'optimizer': <class 'tensorflow.python.keras.optimizer_v2.adam.Adam'>}\n",
            "Means: 0.5247449040412903, Stdev: 0.06147576743328075 with: {'batch_size': 32, 'epochs': 20, 'learning_rate': 1, 'optimizer': <class 'tensorflow.python.keras.optimizer_v2.gradient_descent.SGD'>}\n",
            "Means: 0.479676878452301, Stdev: 0.06307575514183264 with: {'batch_size': 32, 'epochs': 20, 'learning_rate': 1, 'optimizer': <class 'tensorflow.python.keras.optimizer_v2.nadam.Nadam'>}\n",
            "Means: 0.8143707513809204, Stdev: 0.05063601871782114 with: {'batch_size': 32, 'epochs': 20, 'learning_rate': 1, 'optimizer': <class 'tensorflow.python.keras.optimizer_v2.adadelta.Adadelta'>}\n",
            "Means: 0.6937074780464172, Stdev: 0.14944678777466838 with: {'batch_size': 64, 'epochs': 20, 'learning_rate': 0.001, 'optimizer': <class 'tensorflow.python.keras.optimizer_v2.adam.Adam'>}\n",
            "Means: 0.6490646243095398, Stdev: 0.07082450181982432 with: {'batch_size': 64, 'epochs': 20, 'learning_rate': 0.001, 'optimizer': <class 'tensorflow.python.keras.optimizer_v2.gradient_descent.SGD'>}\n",
            "Means: 0.5863095283508301, Stdev: 0.13842325365070535 with: {'batch_size': 64, 'epochs': 20, 'learning_rate': 0.001, 'optimizer': <class 'tensorflow.python.keras.optimizer_v2.nadam.Nadam'>}\n",
            "Means: 0.4543367326259613, Stdev: 0.04049761795252836 with: {'batch_size': 64, 'epochs': 20, 'learning_rate': 0.001, 'optimizer': <class 'tensorflow.python.keras.optimizer_v2.adadelta.Adadelta'>}\n",
            "Means: 0.786139440536499, Stdev: 0.13427594927127426 with: {'batch_size': 64, 'epochs': 20, 'learning_rate': 0.01, 'optimizer': <class 'tensorflow.python.keras.optimizer_v2.adam.Adam'>}\n",
            "Means: 0.756462574005127, Stdev: 0.06973899515642892 with: {'batch_size': 64, 'epochs': 20, 'learning_rate': 0.01, 'optimizer': <class 'tensorflow.python.keras.optimizer_v2.gradient_descent.SGD'>}\n",
            "Means: 0.7268707454204559, Stdev: 0.1358982353139129 with: {'batch_size': 64, 'epochs': 20, 'learning_rate': 0.01, 'optimizer': <class 'tensorflow.python.keras.optimizer_v2.nadam.Nadam'>}\n",
            "Means: 0.45841837525367735, Stdev: 0.05912305224888741 with: {'batch_size': 64, 'epochs': 20, 'learning_rate': 0.01, 'optimizer': <class 'tensorflow.python.keras.optimizer_v2.adadelta.Adadelta'>}\n",
            "Means: 0.4963435411453247, Stdev: 0.06616803589863401 with: {'batch_size': 64, 'epochs': 20, 'learning_rate': 0.1, 'optimizer': <class 'tensorflow.python.keras.optimizer_v2.adam.Adam'>}\n",
            "Means: 0.5130102097988128, Stdev: 0.06497933212749389 with: {'batch_size': 64, 'epochs': 20, 'learning_rate': 0.1, 'optimizer': <class 'tensorflow.python.keras.optimizer_v2.gradient_descent.SGD'>}\n",
            "Means: 0.5619897961616516, Stdev: 0.023427450338446343 with: {'batch_size': 64, 'epochs': 20, 'learning_rate': 0.1, 'optimizer': <class 'tensorflow.python.keras.optimizer_v2.nadam.Nadam'>}\n",
            "Means: 0.47950680255889894, Stdev: 0.0769181432226642 with: {'batch_size': 64, 'epochs': 20, 'learning_rate': 0.1, 'optimizer': <class 'tensorflow.python.keras.optimizer_v2.adadelta.Adadelta'>}\n",
            "Means: 0.4880102097988129, Stdev: 0.06517533347575448 with: {'batch_size': 64, 'epochs': 20, 'learning_rate': 1, 'optimizer': <class 'tensorflow.python.keras.optimizer_v2.adam.Adam'>}\n",
            "Means: 0.5497449040412903, Stdev: 0.04378384153367893 with: {'batch_size': 64, 'epochs': 20, 'learning_rate': 1, 'optimizer': <class 'tensorflow.python.keras.optimizer_v2.gradient_descent.SGD'>}\n",
            "Means: 0.5497449040412903, Stdev: 0.04378384153367893 with: {'batch_size': 64, 'epochs': 20, 'learning_rate': 1, 'optimizer': <class 'tensorflow.python.keras.optimizer_v2.nadam.Nadam'>}\n",
            "Means: 0.6616496562957763, Stdev: 0.19029471222688898 with: {'batch_size': 64, 'epochs': 20, 'learning_rate': 1, 'optimizer': <class 'tensorflow.python.keras.optimizer_v2.adadelta.Adadelta'>}\n"
          ],
          "name": "stdout"
        }
      ]
    },
    {
      "cell_type": "code",
      "metadata": {
        "id": "F2kj3_aBXJyN",
        "colab_type": "code",
        "colab": {}
      },
      "source": [
        "# This GridSearch alleges that Adam (the optimizer I'm currently using) is the best optimizer. \n",
        "# It returns an accuracy of 85.96% (basically 86%) at a learning rate of 0.001, and a batch size of 8.\n",
        "# I'm going to try it again with the recommended batch size."
      ],
      "execution_count": 0,
      "outputs": []
    },
    {
      "cell_type": "code",
      "metadata": {
        "id": "FqiXR9JEUzhs",
        "colab_type": "code",
        "colab": {
          "base_uri": "https://localhost:8080/",
          "height": 119
        },
        "outputId": "5175ebd2-fe05-436e-f1b4-3394e4929067"
      },
      "source": [
        "def create_model(learning_rate=0.01, optimizer=Adam()):\n",
        "  model = Sequential()\n",
        "  model.add(Dense(32,activation='relu', input_dim=13))\n",
        "  model.add(Dense(64,activation='relu'))\n",
        "  model.add(Dense(16,activation='relu'))\n",
        "  model.add(Dense(4,activation='relu'))\n",
        "  model.add(Dense(1,activation='relu'))\n",
        "  optim = Adam(learning_rate=learning_rate)\n",
        "  model.compile(optimizer=optim, loss='binary_crossentropy', metrics='accuracy')\n",
        "  return model\n",
        "\n",
        "model4 = KerasClassifier(build_fn=create_model, verbose=0)\n",
        "\n",
        "para_grid = {\n",
        "    'batch_size': [8], 'epochs': [20],\n",
        "    'learning_rate': [0.0001, 0.0005, 0.001, 0.005, 0.01],\n",
        "    }\n",
        "\n",
        "grid = GridSearchCV(estimator=model4, param_grid=para_grid, n_jobs=1)\n",
        "grid_result = grid.fit(X_train_std, y_train)\n",
        "\n",
        "print(f\"Best: {grid_result.best_score_} using {grid_result.best_params_}\")\n",
        "means = grid_result.cv_results_['mean_test_score']\n",
        "stds = grid_result.cv_results_['std_test_score']\n",
        "params = grid_result.cv_results_['params']\n",
        "for mean, stdev, param in zip(means, stds, params):\n",
        "    print(f\"Means: {mean}, Stdev: {stdev} with: {param}\")"
      ],
      "execution_count": 21,
      "outputs": [
        {
          "output_type": "stream",
          "text": [
            "Best: 0.8307823181152344 using {'batch_size': 8, 'epochs': 20, 'learning_rate': 0.005}\n",
            "Means: 0.6034013748168945, Stdev: 0.12457741877020581 with: {'batch_size': 8, 'epochs': 20, 'learning_rate': 0.0001}\n",
            "Means: 0.7227040767669678, Stdev: 0.14473837916655716 with: {'batch_size': 8, 'epochs': 20, 'learning_rate': 0.0005}\n",
            "Means: 0.7326530635356903, Stdev: 0.1686911491028175 with: {'batch_size': 8, 'epochs': 20, 'learning_rate': 0.001}\n",
            "Means: 0.8307823181152344, Stdev: 0.029191576890177602 with: {'batch_size': 8, 'epochs': 20, 'learning_rate': 0.005}\n",
            "Means: 0.6933673441410064, Stdev: 0.1403023480313341 with: {'batch_size': 8, 'epochs': 20, 'learning_rate': 0.01}\n"
          ],
          "name": "stdout"
        }
      ]
    },
    {
      "cell_type": "code",
      "metadata": {
        "id": "2XgSxksTYtQ9",
        "colab_type": "code",
        "colab": {}
      },
      "source": [
        "# This one actually did worse than the last one with 83.07% accuracy using the adam optimizer, batch size of 8, and learning rate of 0.005.\n",
        "# Now I'm going to do the final test accuracy."
      ],
      "execution_count": 0,
      "outputs": []
    },
    {
      "cell_type": "code",
      "metadata": {
        "id": "R4FBn1EuZB89",
        "colab_type": "code",
        "colab": {
          "base_uri": "https://localhost:8080/",
          "height": 1000
        },
        "outputId": "4a593944-6b64-4c03-babd-06586b001971"
      },
      "source": [
        "stop = EarlyStopping(monitor='val_accuracy', min_delta=0.01, patience=16)\n",
        "\n",
        "model4 = Sequential([\n",
        "      Dense(32,activation='relu', input_dim=13),\n",
        "      Dense(64,activation='relu'),\n",
        "      Dense(16,activation='relu'),\n",
        "      Dense(4,activation='relu'),\n",
        "      Dense(1,activation='sigmoid')\n",
        "])\n",
        "\n",
        "optim = Nadam(learning_rate=0.005)\n",
        "\n",
        "model4.compile(optimizer=optim, loss='binary_crossentropy', metrics='accuracy')\n",
        "\n",
        "result4 = model3.fit(\n",
        "    X_train,y_train, batch_size=8, \n",
        "    validation_data=(X_test,y_test),\n",
        "    epochs=100 ,callbacks=[stop]\n",
        "    )"
      ],
      "execution_count": 23,
      "outputs": [
        {
          "output_type": "stream",
          "text": [
            "Epoch 1/100\n",
            "31/31 [==============================] - 0s 7ms/step - loss: 0.6008 - accuracy: 0.7355 - val_loss: 0.8024 - val_accuracy: 0.6230\n",
            "Epoch 2/100\n",
            "31/31 [==============================] - 0s 6ms/step - loss: 0.6040 - accuracy: 0.7025 - val_loss: 0.6928 - val_accuracy: 0.4918\n",
            "Epoch 3/100\n",
            "31/31 [==============================] - 0s 6ms/step - loss: 0.6939 - accuracy: 0.4876 - val_loss: 0.7000 - val_accuracy: 0.4754\n",
            "Epoch 4/100\n",
            "31/31 [==============================] - 0s 6ms/step - loss: 0.6448 - accuracy: 0.5785 - val_loss: 0.6740 - val_accuracy: 0.6066\n",
            "Epoch 5/100\n",
            "31/31 [==============================] - 0s 7ms/step - loss: 0.5838 - accuracy: 0.7314 - val_loss: 0.7005 - val_accuracy: 0.6393\n",
            "Epoch 6/100\n",
            "31/31 [==============================] - 0s 7ms/step - loss: 0.6036 - accuracy: 0.6901 - val_loss: 0.6956 - val_accuracy: 0.4918\n",
            "Epoch 7/100\n",
            "31/31 [==============================] - 0s 7ms/step - loss: 0.6598 - accuracy: 0.5785 - val_loss: 0.7128 - val_accuracy: 0.6230\n",
            "Epoch 8/100\n",
            "31/31 [==============================] - 0s 6ms/step - loss: 0.5898 - accuracy: 0.6570 - val_loss: 0.7680 - val_accuracy: 0.6393\n",
            "Epoch 9/100\n",
            "31/31 [==============================] - 0s 6ms/step - loss: 0.5795 - accuracy: 0.7479 - val_loss: 0.6869 - val_accuracy: 0.6230\n",
            "Epoch 10/100\n",
            "31/31 [==============================] - 0s 6ms/step - loss: 0.6077 - accuracy: 0.6653 - val_loss: 0.6658 - val_accuracy: 0.6230\n",
            "Epoch 11/100\n",
            "31/31 [==============================] - 0s 7ms/step - loss: 0.5802 - accuracy: 0.7314 - val_loss: 0.6610 - val_accuracy: 0.6230\n",
            "Epoch 12/100\n",
            "31/31 [==============================] - 0s 7ms/step - loss: 0.5927 - accuracy: 0.7273 - val_loss: 0.6760 - val_accuracy: 0.6230\n",
            "Epoch 13/100\n",
            "31/31 [==============================] - 0s 7ms/step - loss: 0.5736 - accuracy: 0.7066 - val_loss: 0.6718 - val_accuracy: 0.5738\n",
            "Epoch 14/100\n",
            "31/31 [==============================] - 0s 6ms/step - loss: 0.5936 - accuracy: 0.6901 - val_loss: 0.6939 - val_accuracy: 0.6230\n",
            "Epoch 15/100\n",
            "31/31 [==============================] - 0s 6ms/step - loss: 0.5860 - accuracy: 0.7066 - val_loss: 0.6595 - val_accuracy: 0.5902\n",
            "Epoch 16/100\n",
            "31/31 [==============================] - 0s 7ms/step - loss: 0.5916 - accuracy: 0.6942 - val_loss: 0.6586 - val_accuracy: 0.6066\n",
            "Epoch 17/100\n",
            "31/31 [==============================] - 0s 6ms/step - loss: 0.5746 - accuracy: 0.7231 - val_loss: 0.7219 - val_accuracy: 0.6393\n",
            "Epoch 18/100\n",
            "31/31 [==============================] - 0s 6ms/step - loss: 0.5790 - accuracy: 0.7397 - val_loss: 0.6569 - val_accuracy: 0.5902\n",
            "Epoch 19/100\n",
            "31/31 [==============================] - 0s 6ms/step - loss: 0.6291 - accuracy: 0.6157 - val_loss: 0.6566 - val_accuracy: 0.6557\n",
            "Epoch 20/100\n",
            "31/31 [==============================] - 0s 6ms/step - loss: 0.5746 - accuracy: 0.7231 - val_loss: 0.6778 - val_accuracy: 0.6230\n",
            "Epoch 21/100\n",
            "31/31 [==============================] - 0s 6ms/step - loss: 0.5774 - accuracy: 0.7355 - val_loss: 0.6637 - val_accuracy: 0.6393\n",
            "Epoch 22/100\n",
            "31/31 [==============================] - 0s 6ms/step - loss: 0.5593 - accuracy: 0.7314 - val_loss: 0.6653 - val_accuracy: 0.6230\n",
            "Epoch 23/100\n",
            "31/31 [==============================] - 0s 7ms/step - loss: 0.5533 - accuracy: 0.7314 - val_loss: 0.6899 - val_accuracy: 0.6393\n",
            "Epoch 24/100\n",
            "31/31 [==============================] - 0s 7ms/step - loss: 0.5747 - accuracy: 0.7314 - val_loss: 0.7057 - val_accuracy: 0.6885\n",
            "Epoch 25/100\n",
            "31/31 [==============================] - 0s 7ms/step - loss: 0.5751 - accuracy: 0.7273 - val_loss: 0.6914 - val_accuracy: 0.6557\n",
            "Epoch 26/100\n",
            "31/31 [==============================] - 0s 6ms/step - loss: 0.5504 - accuracy: 0.7314 - val_loss: 0.7035 - val_accuracy: 0.6393\n",
            "Epoch 27/100\n",
            "31/31 [==============================] - 0s 6ms/step - loss: 0.5767 - accuracy: 0.7149 - val_loss: 0.6462 - val_accuracy: 0.6721\n",
            "Epoch 28/100\n",
            "31/31 [==============================] - 0s 6ms/step - loss: 0.5504 - accuracy: 0.7273 - val_loss: 0.6607 - val_accuracy: 0.6230\n",
            "Epoch 29/100\n",
            "31/31 [==============================] - 0s 6ms/step - loss: 0.5506 - accuracy: 0.7479 - val_loss: 0.6521 - val_accuracy: 0.6230\n",
            "Epoch 30/100\n",
            "31/31 [==============================] - 0s 7ms/step - loss: 0.5601 - accuracy: 0.7314 - val_loss: 0.6451 - val_accuracy: 0.6393\n",
            "Epoch 31/100\n",
            "31/31 [==============================] - 0s 6ms/step - loss: 0.5800 - accuracy: 0.7066 - val_loss: 0.6481 - val_accuracy: 0.6066\n",
            "Epoch 32/100\n",
            "31/31 [==============================] - 0s 6ms/step - loss: 0.5554 - accuracy: 0.7273 - val_loss: 0.6593 - val_accuracy: 0.6393\n",
            "Epoch 33/100\n",
            "31/31 [==============================] - 0s 6ms/step - loss: 0.5457 - accuracy: 0.7438 - val_loss: 0.6533 - val_accuracy: 0.6393\n",
            "Epoch 34/100\n",
            "31/31 [==============================] - 0s 7ms/step - loss: 0.5575 - accuracy: 0.7066 - val_loss: 0.6473 - val_accuracy: 0.6721\n",
            "Epoch 35/100\n",
            "31/31 [==============================] - 0s 7ms/step - loss: 0.5421 - accuracy: 0.7355 - val_loss: 0.6513 - val_accuracy: 0.6066\n",
            "Epoch 36/100\n",
            "31/31 [==============================] - 0s 6ms/step - loss: 0.5790 - accuracy: 0.7314 - val_loss: 0.6382 - val_accuracy: 0.6230\n",
            "Epoch 37/100\n",
            "31/31 [==============================] - 0s 6ms/step - loss: 0.5393 - accuracy: 0.7562 - val_loss: 0.6499 - val_accuracy: 0.5902\n",
            "Epoch 38/100\n",
            "31/31 [==============================] - 0s 7ms/step - loss: 0.6233 - accuracy: 0.6612 - val_loss: 0.6808 - val_accuracy: 0.5574\n",
            "Epoch 39/100\n",
            "31/31 [==============================] - 0s 6ms/step - loss: 0.5822 - accuracy: 0.6942 - val_loss: 0.6498 - val_accuracy: 0.5574\n",
            "Epoch 40/100\n",
            "31/31 [==============================] - 0s 7ms/step - loss: 0.5351 - accuracy: 0.7645 - val_loss: 0.8446 - val_accuracy: 0.6557\n"
          ],
          "name": "stdout"
        }
      ]
    },
    {
      "cell_type": "code",
      "metadata": {
        "id": "KgxP9HdaaODk",
        "colab_type": "code",
        "colab": {
          "base_uri": "https://localhost:8080/",
          "height": 34
        },
        "outputId": "ad7b0be0-4f2c-4b6e-c2f0-e903147d70f0"
      },
      "source": [
        "max(result4.history['accuracy'])"
      ],
      "execution_count": 25,
      "outputs": [
        {
          "output_type": "execute_result",
          "data": {
            "text/plain": [
              "0.7644628286361694"
            ]
          },
          "metadata": {
            "tags": []
          },
          "execution_count": 25
        }
      ]
    },
    {
      "cell_type": "code",
      "metadata": {
        "id": "aIt_kX2xZPb4",
        "colab_type": "code",
        "colab": {}
      },
      "source": [
        "# Finally got a 76.45& accuracy after 40 epochs this time using the Nadam optimizer, learning rate of 0.005, and the batch size of 8."
      ],
      "execution_count": 0,
      "outputs": []
    }
  ]
}