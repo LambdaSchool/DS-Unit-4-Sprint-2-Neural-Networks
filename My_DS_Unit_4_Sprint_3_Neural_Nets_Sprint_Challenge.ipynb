{
  "nbformat": 4,
  "nbformat_minor": 0,
  "metadata": {
    "colab": {
      "name": "My DS_Unit_4_Sprint_3_Neural_Nets_Sprint_Challenge.ipynb",
      "version": "0.3.2",
      "provenance": [],
      "collapsed_sections": [],
      "include_colab_link": true
    },
    "kernelspec": {
      "name": "python3",
      "display_name": "Python 3"
    }
  },
  "cells": [
    {
      "cell_type": "markdown",
      "metadata": {
        "id": "view-in-github",
        "colab_type": "text"
      },
      "source": [
        "<a href=\"https://colab.research.google.com/github/wel51x/DS-Unit-4-Sprint-3-Neural-Networks/blob/master/My_DS_Unit_4_Sprint_3_Neural_Nets_Sprint_Challenge.ipynb\" target=\"_parent\"><img src=\"https://colab.research.google.com/assets/colab-badge.svg\" alt=\"Open In Colab\"/></a>"
      ]
    },
    {
      "cell_type": "markdown",
      "metadata": {
        "id": "Y6SKlgYrpcym",
        "colab_type": "text"
      },
      "source": [
        "# Neural Networks Sprint Challenge"
      ]
    },
    {
      "cell_type": "markdown",
      "metadata": {
        "id": "BrEbRrjVphPM",
        "colab_type": "text"
      },
      "source": [
        "## 1) Define the following terms:\n",
        "\n",
        "- Neuron\n",
        "- Input Layer\n",
        "- Hidden Layer\n",
        "- Output Layer\n",
        "- Activation\n",
        "- Backpropagation"
      ]
    },
    {
      "cell_type": "markdown",
      "metadata": {
        "id": "Q5EksLqnp4oB",
        "colab_type": "text"
      },
      "source": [
        "### Neuron:\n",
        "![Wikipedia Neuron Diagram](https://cdn4.explainthatstuff.com/neuron-labeled-diagram.png)\n",
        "\n",
        "In biology, a neuron is a basic building block of the brain, a cell that receives signals at the dendrite of the cell and sends them to the cell body. If the received signals surpass a certain threshold with a given timing then the neuron fires, sending a large spike of energy down the axon and through the axon terminals to other neurons down the line (reference above diagram). In AI a 'neuron' is one node in a neural network. It receives information from previous nodes in a network, computes an output based on weights given to those pieces of information, and passes on a output to other nodes via an activation \n",
        "### Input Layer:\n",
        "The Input Layer is what receives input from the features in a dataset.\n",
        "### Hidden Layer:\n",
        "Layers after the input layer are called Hidden Layers. This is because they cannot be accessed except through the input layer. They're composed of a user-specified number of neurons, and allow neural networks to fit non-linear patterns in data.\n",
        "### Output Layer:\n",
        "The final layer is called the Output Layer. The purpose of the output layer is to output values that are in a format suitable for interpretation in light of the type of problem that we're trying to address. \n",
        "function.\n",
        "### Activation:\n",
        "The activation function decides whether a cell \"fires\" or not. Sometimes it is said that the cell is \"activated\" or not.\n",
        "### Backpropagation:\n",
        "In backpropagation the error (the \"cost\" that computed by comparing the calculated output and the known correct target output) is used to update the model parameters. The total error at the output nodes is calculated and propagated back through the network in each layer.\n"
      ]
    },
    {
      "cell_type": "code",
      "metadata": {
        "id": "0K0ytzvPSD4d",
        "colab_type": "code",
        "colab": {}
      },
      "source": [
        "import sys\n",
        "import os\n",
        "import numpy as np\n",
        "import pandas as pd\n",
        "import matplotlib.pyplot as plt\n",
        "\n",
        "from keras.layers import Dense, Dropout\n",
        "from keras.models import Sequential\n",
        "from keras.optimizers import SGD, Adam, Nadam, RMSprop\n",
        "from keras.wrappers.scikit_learn import KerasClassifier\n",
        "\n",
        "from sklearn.model_selection import train_test_split, GridSearchCV, StratifiedKFold, cross_val_score\n",
        "from sklearn.preprocessing import StandardScaler\n",
        "from sklearn.pipeline import Pipeline\n",
        "from sklearn.preprocessing import RobustScaler\n",
        "from sklearn.preprocessing import MinMaxScaler\n",
        "pd.set_option('display.width', 1000)"
      ],
      "execution_count": 0,
      "outputs": []
    },
    {
      "cell_type": "markdown",
      "metadata": {
        "id": "Ri_gRA2Jp728",
        "colab_type": "text"
      },
      "source": [
        "## 2) Create a perceptron class that can model the behavior of an AND gate. You can use the following table as your training data:\n",
        "\n",
        "| x1 | x2 | x3 | y |\n",
        "|----|----|----|---|\n",
        "| 1  | 1  | 1  | 1 |\n",
        "| 1  | 0  | 1  | 0 |\n",
        "| 0  | 1  | 1  | 0 |\n",
        "| 0  | 0  | 1  | 0 |"
      ]
    },
    {
      "cell_type": "code",
      "metadata": {
        "id": "Ig6ZTH8tpQ19",
        "colab_type": "code",
        "colab": {}
      },
      "source": [
        "np.random.seed(1)\n",
        "\n",
        "inputs = np.array([\n",
        "    [0, 0, 1],\n",
        "    [0, 1, 1],\n",
        "    [1, 0, 1],\n",
        "    [1, 1, 1]    \n",
        "])\n",
        "\n",
        "correct_outputs = [[0], [0], [0], [1]]"
      ],
      "execution_count": 0,
      "outputs": []
    },
    {
      "cell_type": "code",
      "metadata": {
        "id": "C7fWxdDxewH6",
        "colab_type": "code",
        "colab": {
          "base_uri": "https://localhost:8080/",
          "height": 68
        },
        "outputId": "1a645e5a-0ea4-4574-c91a-3f8e10968a57"
      },
      "source": [
        "weights = 2 * np.random.random((3, 1)) - 1\n",
        "weights"
      ],
      "execution_count": 48,
      "outputs": [
        {
          "output_type": "execute_result",
          "data": {
            "text/plain": [
              "array([[-0.39533485],\n",
              "       [-0.70648822],\n",
              "       [-0.81532281]])"
            ]
          },
          "metadata": {
            "tags": []
          },
          "execution_count": 48
        }
      ]
    },
    {
      "cell_type": "code",
      "metadata": {
        "id": "2gHZxp2Tg1Yh",
        "colab_type": "code",
        "colab": {}
      },
      "source": [
        "def perceptrn(inputs, weights, iter):\n",
        "  def sigmoid(x):\n",
        "    return 1 / (1 + np.exp(-x))\n",
        "\n",
        "  def sigmoid_derivative(x):\n",
        "    return sigmoid(x) * (1 - sigmoid(x))\n",
        "  \n",
        "  for iteration in range(iter):\n",
        "    weighted_sum = np.dot(inputs, weights)\n",
        "    activated_output = sigmoid(weighted_sum)\n",
        "    error = correct_outputs - activated_output\n",
        "    sd = sigmoid_derivative(activated_output)\n",
        "    adjustments = error * sd\n",
        "    weights += np.dot(inputs.T, adjustments)\n",
        "\n",
        "  return (weights, activated_output)"
      ],
      "execution_count": 0,
      "outputs": []
    },
    {
      "cell_type": "code",
      "metadata": {
        "id": "2nb7QeeUhIkA",
        "colab_type": "code",
        "colab": {
          "base_uri": "https://localhost:8080/",
          "height": 391
        },
        "outputId": "82981245-e47c-4423-d2fd-237346fb2f5c"
      },
      "source": [
        "w, ao = perceptrn(inputs, weights, 1000)\n",
        "\n",
        "print(\"Input:\")\n",
        "print(inputs[:,:2])\n",
        "\n",
        "print(\"\\nWeights after training:\")\n",
        "print(w)\n",
        "\n",
        "print(\"\\nOutput after training:\")\n",
        "print(ao)\n",
        "print(\"\\nOutput after training rounded as int:\")\n",
        "for i in ao:\n",
        "  print(int(i+.5))"
      ],
      "execution_count": 49,
      "outputs": [
        {
          "output_type": "stream",
          "text": [
            "Input:\n",
            "[[0 0]\n",
            " [0 1]\n",
            " [1 0]\n",
            " [1 1]]\n",
            "\n",
            "Weights after training:\n",
            "[[  7.20591048]\n",
            " [  7.20591023]\n",
            " [-11.09703577]]\n",
            "\n",
            "Output after training:\n",
            "[[1.52026008e-05]\n",
            " [2.00332884e-02]\n",
            " [2.00332934e-02]\n",
            " [9.64898617e-01]]\n",
            "\n",
            "Output after training rounded as int:\n",
            "0\n",
            "0\n",
            "0\n",
            "1\n"
          ],
          "name": "stdout"
        }
      ]
    },
    {
      "cell_type": "markdown",
      "metadata": {
        "id": "86HyRi8Osr3U",
        "colab_type": "text"
      },
      "source": [
        "## 3) Implement a Neural Network Multilayer Perceptron class that uses backpropagation to update the network's weights. \n",
        "- Your network must have one hidden layer. \n",
        "- You do not have to update weights via gradient descent. You can use something like the derivative of the sigmoid function to update weights.\n",
        "- Train your model on the Heart Disease dataset from UCI:\n",
        "\n",
        "[Github Dataset](https://github.com/ryanleeallred/datasets/blob/master/heart.csv)\n",
        "\n",
        "[Raw File on Github](https://raw.githubusercontent.com/ryanleeallred/datasets/master/heart.csv)\n"
      ]
    },
    {
      "cell_type": "code",
      "metadata": {
        "id": "CNfiajv3v4Ed",
        "colab_type": "code",
        "colab": {
          "base_uri": "https://localhost:8080/",
          "height": 346
        },
        "outputId": "bc2db2c3-22f2-436f-fd3c-1d9f3cd11267"
      },
      "source": [
        "url = \"https://raw.githubusercontent.com/ryanleeallred/datasets/master/heart.csv\"\n",
        "\n",
        "df = pd.read_csv(url, header=0)\n",
        "print(\"df.shape=\", df.shape)\n",
        "print(\"\\n\", df.head(5))\n",
        "print(\"\\nTarget Value Counts\")\n",
        "print(df.target.value_counts())\n",
        "\n",
        "y = df.target\n",
        "X = df.drop(columns=[\"target\"],axis=1)\n",
        "\n",
        "X = MinMaxScaler().fit_transform(X)\n",
        "print(\"X.shape=\", X.shape)\n",
        "print(\"y.shape=\", y.shape)"
      ],
      "execution_count": 103,
      "outputs": [
        {
          "output_type": "stream",
          "text": [
            "df.shape= (303, 14)\n",
            "\n",
            "    age  sex  cp  trestbps  chol  fbs  restecg  thalach  exang  oldpeak  slope  ca  thal  target\n",
            "0   63    1   3       145   233    1        0      150      0      2.3      0   0     1       1\n",
            "1   37    1   2       130   250    0        1      187      0      3.5      0   0     2       1\n",
            "2   41    0   1       130   204    0        0      172      0      1.4      2   0     2       1\n",
            "3   56    1   1       120   236    0        1      178      0      0.8      2   0     2       1\n",
            "4   57    0   0       120   354    0        1      163      1      0.6      2   0     2       1\n",
            "\n",
            "Target Value Counts\n",
            "1    165\n",
            "0    138\n",
            "Name: target, dtype: int64\n",
            "X.shape= (303, 13)\n",
            "y.shape= (303,)\n"
          ],
          "name": "stdout"
        },
        {
          "output_type": "stream",
          "text": [
            "/usr/local/lib/python3.6/dist-packages/sklearn/preprocessing/data.py:334: DataConversionWarning: Data with input dtype int64, float64 were all converted to float64 by MinMaxScaler.\n",
            "  return self.partial_fit(X, y)\n"
          ],
          "name": "stderr"
        }
      ]
    },
    {
      "cell_type": "code",
      "metadata": {
        "id": "HFIHJl3vSVzY",
        "colab_type": "code",
        "colab": {}
      },
      "source": [
        "class NeuralNet(object):\n",
        "       \n",
        "    def __init__(self, n_hidden=30, l2=0.01, epochs=100, eta=0.001,\n",
        "                shuffle=True, minibatch_size=1, seed=None):\n",
        "      self.random = np.random.RandomState(seed)\n",
        "      self.n_hidden = n_hidden\n",
        "      self.l2 = l2\n",
        "      self.epochs = epochs\n",
        "      self.eta = eta\n",
        "      self.shuffle = shuffle\n",
        "      self.minibatch_size = minibatch_size\n",
        "        \n",
        "    def onehot(self, y, n_classes):        \n",
        "      onehot = np.zeros((n_classes, y.shape[0]))\n",
        "      for idx, val in enumerate(y.astype(int)):\n",
        "        onehot[val, idx] = 1.\n",
        "      return onehot.T\n",
        "    \n",
        "    def sigmoid(self, z):\n",
        "      return 1. / (1. + np.exp(-np.clip(z, -250, 250)))\n",
        "    \n",
        "    def forward(self, X):\n",
        "      # step 1: net input of hidden layer\n",
        "      z_h = np.dot(X, self.w_h) + self.b_h\n",
        "        \n",
        "      # step 2: activation of hidden layer\n",
        "      a_h = self.sigmoid(z_h)\n",
        "        \n",
        "      # step 3: net input of output layer\n",
        "      z_out = np.dot(a_h, self.w_out) + self.b_out\n",
        "        \n",
        "      # step 4: activation layer output\n",
        "      a_out = self.sigmoid(z_out)\n",
        "        \n",
        "      return z_h, a_h, z_out, a_out\n",
        "    \n",
        "    def compute_cost(self, y_enc, output):\n",
        "      e = 0.000000001\n",
        "      L2_term = (self.l2 * (np.sum(self.w_h ** 2.) + np.sum(self.w_out ** 2.)))\n",
        "      t1 = -y_enc * (np.log(output + e))\n",
        "      t2 = (1. - y_enc) * np.log(1. - output + e)\n",
        "      cost = np.sum(t1 - t2) + L2_term\n",
        "      return cost\n",
        "    \n",
        "    def predict(self, X):\n",
        "      z_h, a_h, z_out, a_out = self.forward(X)\n",
        "      y_pred = np.argmax(z_out, axis=1)\n",
        "      return y_pred\n",
        "    \n",
        "    def fit(self, X_train, y_train, X_val, y_val):\n",
        "      n_output = np.unique(y_train).shape[0]\n",
        "      n_features = X_train.shape[1]\n",
        "      \n",
        "      # weights for input -> hidden\n",
        "      self.b_h = np.zeros(self.n_hidden)\n",
        "      self.w_h = self.random.normal(loc=0.0, scale=0.1,\n",
        "                                    size=(n_features,\n",
        "                                          self.n_hidden))\n",
        "        \n",
        "      # weights for hidden -> output\n",
        "      self.b_out = np.zeros(n_output)\n",
        "      self.w_out = self.random.normal(loc=0.0, scale=0.1,\n",
        "                                       size=(self.n_hidden,\n",
        "                                       n_output))\n",
        "        \n",
        "      epoch_strlen = len(str(self.epochs)) # for progr. format\n",
        "      self.eval_ = {'cost' : [], 'train_acc' : [], 'val_acc' : []}\n",
        "        \n",
        "      y_train_enc = self.onehot(y_train, n_output)\n",
        "        \n",
        "      # iterate over training epochs\n",
        "      for i in range(self.epochs):\n",
        "            \n",
        "          # iterate over mini batches\n",
        "          indices = np.arange(X_train.shape[0])\n",
        "          \n",
        "          if self.shuffle:\n",
        "            self.random.shuffle(indices)\n",
        "          \n",
        "          for start_idx in range(0, indices.shape[0] - self.minibatch_size + 1, self.minibatch_size):\n",
        "            batch_idx = indices[start_idx:start_idx + self.minibatch_size]\n",
        "            \n",
        "            # Fwd propagation\n",
        "            z_h, a_h, z_out, a_out = self.forward(X_train[batch_idx])\n",
        "            \n",
        "            # Back propagation\n",
        "            \n",
        "            # [n_samples n_classlabels]\n",
        "            sigma_out = a_out - y_train_enc[batch_idx]\n",
        "            \n",
        "            # [n_samples n_hidden]\n",
        "            sigmoid_derivative_h = a_h * (1. - a_h)\n",
        "            \n",
        "            # [n_samples, n_classlabels] dot [n_classlabels, n_hidden]\n",
        "            # -> [n_samples, n_hidden]\n",
        "            sigma_h = (np.dot(sigma_out, self.w_out.T) * sigmoid_derivative_h)\n",
        "            \n",
        "            # [n_features, n_samples] dot [n_samples, n_hidden]\n",
        "            # -> [n_features, n_hidden]\n",
        "            grad_w_h = np.dot(X_train[batch_idx].T, sigma_h)\n",
        "            grad_b_h = np.sum(sigma_h, axis=0)\n",
        "            \n",
        "            # [n_hidden, n_samples] dot [n_samples, n_classlabels]\n",
        "            # -> [n_hidden, n_classlabels]\n",
        "            grad_w_out = np.dot(a_h.T, sigma_out)\n",
        "            grad_b_out = np.sum(sigma_out, axis=0)\n",
        "            \n",
        "            # Regularization and weight updates\n",
        "            delta_w_h = (grad_w_h + self.l2 * self.w_h)\n",
        "            delta_b_h = grad_b_h # bias not regularized\n",
        "            self.w_h -= self.eta * delta_w_h\n",
        "            self.b_h -= self.eta * delta_b_h\n",
        "            \n",
        "            delta_w_out = grad_w_out + self.l2 * self.w_out\n",
        "            delta_b_out = grad_b_out # bias not regularized\n",
        "            self.w_out -= self.eta * delta_w_out\n",
        "            self.b_out -= self.eta * delta_b_out\n",
        "\n",
        "          # evaluation after each epoch during training\n",
        "          z_h, a_h, z_out, a_out = self.forward(X_train)\n",
        "          \n",
        "          cost = self.compute_cost(y_enc=y_train_enc, output=a_out)\n",
        "          \n",
        "          y_train_pred = self.predict(X_train)\n",
        "          y_val_pred = self.predict(X_val)\n",
        "          \n",
        "          temp = (np.sum(y_train == y_train_pred)).astype(np.float)\n",
        "          train_acc = temp / X_train.shape[0]\n",
        "          temp = (np.sum(y_val == y_val_pred)).astype(np.float)\n",
        "          val_acc = temp / X_val.shape[0]\n",
        "          \n",
        "          self.eval_['cost'].append(cost)\n",
        "          self.eval_['train_acc'].append(train_acc)\n",
        "          self.eval_['val_acc'].append(val_acc)\n",
        "          \n",
        "          if self.epochs > 100 and i % 20 != 0:\n",
        "            continue\n",
        "          else:\n",
        "            print('Iteration: %0*d/%d; Cost: %.2f; Train/Test Accuracy: %.2f%%/%.2f%%'\n",
        "                        % (epoch_strlen, i+1, self.epochs, cost,\n",
        "                           train_acc*100, val_acc*100))\n",
        "            \n",
        "      print('Iteration: %0*d/%d; Cost: %.2f; Train/Test Accuracy: %.2f%%/%.2f%%'\n",
        "                      % (epoch_strlen, i+1, self.epochs, cost,\n",
        "                         train_acc*100, val_acc*100))\n",
        "\n",
        "      return self"
      ],
      "execution_count": 0,
      "outputs": []
    },
    {
      "cell_type": "code",
      "metadata": {
        "id": "eajeRC8fSs4T",
        "colab_type": "code",
        "colab": {
          "base_uri": "https://localhost:8080/",
          "height": 51
        },
        "outputId": "740c98cb-dc3e-4ec4-f328-f54d29fa033d"
      },
      "source": [
        "# Test Train Split\n",
        "from sklearn.model_selection import train_test_split\n",
        "X_train, X_test, y_train, y_test = train_test_split(X, y, test_size=0.15)\n",
        "\n",
        "print (\"X_train, y_test shapes=\", X_train.shape, y_train.shape)\n",
        "print (\"X_test, y_test shapes=\", X_test.shape, y_test.shape)"
      ],
      "execution_count": 144,
      "outputs": [
        {
          "output_type": "stream",
          "text": [
            "X_train, y_test shapes= (257, 13) (257,)\n",
            "X_test, y_test shapes= (46, 13) (46,)\n"
          ],
          "name": "stdout"
        }
      ]
    },
    {
      "cell_type": "code",
      "metadata": {
        "id": "bPbLRf0_S0Qi",
        "colab_type": "code",
        "colab": {
          "base_uri": "https://localhost:8080/",
          "height": 476
        },
        "outputId": "474eecda-8b6d-4676-fc88-58778ba5f57e"
      },
      "source": [
        "# Initialize a new NN\n",
        "nn = NeuralNet(epochs= 500, minibatch_size= 25, seed = 69)\n",
        "\n",
        "# Run the NN\n",
        "nn.fit(X_train, y_train, X_test, y_test)"
      ],
      "execution_count": 136,
      "outputs": [
        {
          "output_type": "stream",
          "text": [
            "Iteration: 001/500; Cost: 358.34; Train/Test Accuracy: 53.31%/60.87%\n",
            "Iteration: 021/500; Cost: 352.35; Train/Test Accuracy: 53.31%/60.87%\n",
            "Iteration: 041/500; Cost: 348.48; Train/Test Accuracy: 53.31%/60.87%\n",
            "Iteration: 061/500; Cost: 342.49; Train/Test Accuracy: 63.81%/71.74%\n",
            "Iteration: 081/500; Cost: 332.98; Train/Test Accuracy: 72.37%/76.09%\n",
            "Iteration: 101/500; Cost: 319.03; Train/Test Accuracy: 77.04%/76.09%\n",
            "Iteration: 121/500; Cost: 300.70; Train/Test Accuracy: 78.60%/78.26%\n",
            "Iteration: 141/500; Cost: 280.42; Train/Test Accuracy: 79.77%/78.26%\n",
            "Iteration: 161/500; Cost: 260.99; Train/Test Accuracy: 80.54%/78.26%\n",
            "Iteration: 181/500; Cost: 244.85; Train/Test Accuracy: 80.54%/80.43%\n",
            "Iteration: 201/500; Cost: 232.31; Train/Test Accuracy: 80.54%/78.26%\n",
            "Iteration: 221/500; Cost: 222.93; Train/Test Accuracy: 80.54%/78.26%\n",
            "Iteration: 241/500; Cost: 215.81; Train/Test Accuracy: 80.93%/78.26%\n",
            "Iteration: 261/500; Cost: 210.24; Train/Test Accuracy: 80.93%/78.26%\n",
            "Iteration: 281/500; Cost: 205.85; Train/Test Accuracy: 81.32%/78.26%\n",
            "Iteration: 301/500; Cost: 202.33; Train/Test Accuracy: 82.10%/78.26%\n",
            "Iteration: 321/500; Cost: 199.40; Train/Test Accuracy: 81.71%/78.26%\n",
            "Iteration: 341/500; Cost: 196.98; Train/Test Accuracy: 82.49%/78.26%\n",
            "Iteration: 361/500; Cost: 194.94; Train/Test Accuracy: 82.88%/78.26%\n",
            "Iteration: 381/500; Cost: 193.27; Train/Test Accuracy: 82.49%/82.61%\n",
            "Iteration: 401/500; Cost: 191.80; Train/Test Accuracy: 81.71%/82.61%\n",
            "Iteration: 421/500; Cost: 190.55; Train/Test Accuracy: 82.49%/82.61%\n",
            "Iteration: 441/500; Cost: 189.46; Train/Test Accuracy: 82.10%/82.61%\n",
            "Iteration: 461/500; Cost: 188.58; Train/Test Accuracy: 83.66%/82.61%\n",
            "Iteration: 481/500; Cost: 187.78; Train/Test Accuracy: 84.44%/80.43%\n",
            "Iteration: 500/500; Cost: 187.12; Train/Test Accuracy: 85.21%/80.43%\n"
          ],
          "name": "stdout"
        },
        {
          "output_type": "execute_result",
          "data": {
            "text/plain": [
              "<__main__.NeuralNet at 0x7fc7a4892e80>"
            ]
          },
          "metadata": {
            "tags": []
          },
          "execution_count": 136
        }
      ]
    },
    {
      "cell_type": "code",
      "metadata": {
        "id": "BSFcFXJOS-bG",
        "colab_type": "code",
        "colab": {
          "base_uri": "https://localhost:8080/",
          "height": 283
        },
        "outputId": "6a947233-7a92-456d-f644-4a5ca9376b6f"
      },
      "source": [
        "# Graph results\n",
        "plt.plot(range(nn.epochs), nn.eval_['train_acc'], label = \"Training\")\n",
        "plt.plot(range(nn.epochs), nn.eval_['val_acc'], label = \"Test\")\n",
        "plt.ylabel('Accuracy')\n",
        "plt.xlabel('Epochs')\n",
        "plt.legend()\n",
        "plt.show()"
      ],
      "execution_count": 137,
      "outputs": [
        {
          "output_type": "display_data",
          "data": {
            "image/png": "[encoded data removed]",
            "text/plain": [
              "<Figure size 432x288 with 1 Axes>"
            ]
          },
          "metadata": {
            "tags": []
          }
        }
      ]
    },
    {
      "cell_type": "markdown",
      "metadata": {
        "id": "GGT1oRzXw3H9",
        "colab_type": "text"
      },
      "source": [
        "## 4) Implement a Multilayer Perceptron architecture of your choosing using the Keras library. Train your model and report its baseline accuracy. Then hyperparameter tune at least two parameters and report your model's accuracy. \n",
        "\n",
        "- Use the Heart Disease Dataset (binary classification)\n",
        "- Use an appropriate loss function for a binary classification task\n",
        "- Use an appropriate activation function on the final layer of your network. \n",
        "- Train your model using verbose output for ease of grading.\n",
        "- Use GridSearchCV to hyperparameter tune your model. (for at least two hyperparameters)\n",
        "- When hyperparameter tuning, show you work by adding code cells for each new experiment. \n",
        "- Report the accuracy for each combination of hyperparameters as you test them so that we can easily see which resulted in the highest accuracy.\n",
        "- You must hyperparameter tune at least 5 parameters in order to get a 3 on this section."
      ]
    },
    {
      "cell_type": "markdown",
      "metadata": {
        "id": "xoULSLYoYimL",
        "colab_type": "text"
      },
      "source": [
        "#### Tune Batch and Epoch Hyperparameters\n",
        "\n"
      ]
    },
    {
      "cell_type": "code",
      "metadata": {
        "id": "XWw4IYxLxKwH",
        "colab_type": "code",
        "colab": {
          "base_uri": "https://localhost:8080/",
          "height": 567
        },
        "outputId": "415cd150-fe55-4ad2-bb68-0a6be9cd65e9"
      },
      "source": [
        "# Function to create model, required for KerasClassifier\n",
        "def create_model():\n",
        "\t# create model\n",
        "\tmodel = Sequential()\n",
        "\tmodel.add(Dense(12, input_dim=13, activation='relu'))\n",
        "\tmodel.add(Dense(16, kernel_initializer='normal', activation='relu'))\n",
        "\tmodel.add(Dense(1, activation='sigmoid'))\n",
        "\t# Compile model\n",
        "\tmodel.compile(loss='binary_crossentropy',\n",
        "                optimizer='adam', metrics=['accuracy'])\n",
        "\treturn model\n",
        "\n",
        "# create model\n",
        "model = KerasClassifier(build_fn=create_model, verbose=1)\n",
        "\n",
        "# define the grid search parameters\n",
        "# batch_size = [10, 20, 40, 60, 80, 100]\n",
        "# param_grid = dict(batch_size=batch_size, epochs=epochs)\n",
        "\n",
        "# define the grid search parameters\n",
        "param_grid = {'batch_size': [10, 20, 50, 80, 100],\n",
        "              'epochs': [20, 40, 60, 80, 100]}\n",
        "\n",
        "# Create Grid Search\n",
        "grid = GridSearchCV(estimator=model, param_grid=param_grid, n_jobs=-1)\n",
        "grid_result = grid.fit(X, y, verbose=0)\n",
        "\n",
        "# Report Results\n",
        "print(f\"Best: {grid_result.best_score_} using {grid_result.best_params_}\")\n",
        "means = grid_result.cv_results_['mean_test_score']\n",
        "stds = grid_result.cv_results_['std_test_score']\n",
        "params = grid_result.cv_results_['params']\n",
        "for mean, stdev, param in zip(means, stds, params):\n",
        "    print(f\"Means: {mean}, Stdev: {stdev} with: {param}\") "
      ],
      "execution_count": 141,
      "outputs": [
        {
          "output_type": "stream",
          "text": [
            "/usr/local/lib/python3.6/dist-packages/sklearn/model_selection/_split.py:2053: FutureWarning: You should specify a value for 'cv' instead of relying on the default value. The default value will change from 3 to 5 in version 0.22.\n",
            "  warnings.warn(CV_WARNING, FutureWarning)\n",
            "/usr/local/lib/python3.6/dist-packages/sklearn/externals/joblib/externals/loky/process_executor.py:706: UserWarning: A worker stopped while some jobs were given to the executor. This can be caused by a too short worker timeout or by a memory leak.\n",
            "  \"timeout or by a memory leak.\", UserWarning\n"
          ],
          "name": "stderr"
        },
        {
          "output_type": "stream",
          "text": [
            "Best: 0.6930693061438331 using {'batch_size': 10, 'epochs': 60}\n",
            "Means: 0.5016501660000766, Stdev: 0.23904051073659488 with: {'batch_size': 10, 'epochs': 20}\n",
            "Means: 0.6600660082727375, Stdev: 0.09334743118104609 with: {'batch_size': 10, 'epochs': 40}\n",
            "Means: 0.6930693061438331, Stdev: 0.09933937796101726 with: {'batch_size': 10, 'epochs': 60}\n",
            "Means: 0.6666666691256041, Stdev: 0.07851733860078751 with: {'batch_size': 10, 'epochs': 80}\n",
            "Means: 0.6600660050761188, Stdev: 0.104261178156353 with: {'batch_size': 10, 'epochs': 100}\n",
            "Means: 0.4851485215397951, Stdev: 0.19113442245680692 with: {'batch_size': 20, 'epochs': 20}\n",
            "Means: 0.66006601092839, Stdev: 0.10673902414339122 with: {'batch_size': 20, 'epochs': 40}\n",
            "Means: 0.66996699945368, Stdev: 0.09779228528919548 with: {'batch_size': 20, 'epochs': 60}\n",
            "Means: 0.6897689765042597, Stdev: 0.1042611942388907 with: {'batch_size': 20, 'epochs': 80}\n",
            "Means: 0.6402640267960703, Stdev: 0.11005499554696682 with: {'batch_size': 20, 'epochs': 100}\n",
            "Means: 0.2343234382446843, Stdev: 0.3313833843475269 with: {'batch_size': 50, 'epochs': 20}\n",
            "Means: 0.4191419171913229, Stdev: 0.2758491630416328 with: {'batch_size': 50, 'epochs': 40}\n",
            "Means: 0.5808580858085809, Stdev: 0.15472881760078352 with: {'batch_size': 50, 'epochs': 60}\n",
            "Means: 0.5280528071493206, Stdev: 0.2578485135331014 with: {'batch_size': 50, 'epochs': 80}\n",
            "Means: 0.66996699355223, Stdev: 0.15260234558627003 with: {'batch_size': 50, 'epochs': 100}\n",
            "Means: 0.26402640775485403, Stdev: 0.37338972667156345 with: {'batch_size': 80, 'epochs': 20}\n",
            "Means: 0.2673267341609245, Stdev: 0.36414472440625034 with: {'batch_size': 80, 'epochs': 40}\n",
            "Means: 0.6237623956140512, Stdev: 0.13503150677513076 with: {'batch_size': 80, 'epochs': 60}\n",
            "Means: 0.5973597461044198, Stdev: 0.12943018441672907 with: {'batch_size': 80, 'epochs': 80}\n",
            "Means: 0.6369637061070295, Stdev: 0.12269062722691221 with: {'batch_size': 80, 'epochs': 100}\n",
            "Means: 0.2541254093938141, Stdev: 0.3593876005083471 with: {'batch_size': 100, 'epochs': 20}\n",
            "Means: 0.2739274002144439, Stdev: 0.32641582947434894 with: {'batch_size': 100, 'epochs': 40}\n",
            "Means: 0.29702969640493393, Stdev: 0.33847293211394336 with: {'batch_size': 100, 'epochs': 60}\n",
            "Means: 0.3333333234975834, Stdev: 0.32960366843461847 with: {'batch_size': 100, 'epochs': 80}\n",
            "Means: 0.4488448758329889, Stdev: 0.32390347193168095 with: {'batch_size': 100, 'epochs': 100}\n"
          ],
          "name": "stdout"
        }
      ]
    },
    {
      "cell_type": "markdown",
      "metadata": {
        "id": "etLbqAG_Y9kg",
        "colab_type": "text"
      },
      "source": [
        "#### Tune Optimizer and Learning Rate Hyperparameters"
      ]
    },
    {
      "cell_type": "code",
      "metadata": {
        "id": "Uyj4PQN1iyeJ",
        "colab_type": "code",
        "colab": {}
      },
      "source": [
        "# Function to create model, add optimizer, learning rate params\n",
        "def create_opt_model(optimizer=SGD,\n",
        "                     lr=0.0001):\n",
        "\t# create model\n",
        "\tmodel = Sequential()\n",
        "\tmodel.add(Dense(12, input_dim=13, activation='relu'))\n",
        "\tmodel.add(Dense(16, kernel_initializer='normal', activation='relu'))\n",
        "\tmodel.add(Dense(1, activation='sigmoid'))\n",
        "\toptimizer=optimizer(lr=lr)\n",
        "  # Compile model\n",
        "\tmodel.compile(loss='binary_crossentropy',\n",
        "                optimizer='adam', metrics=['accuracy'])\n",
        "\treturn model"
      ],
      "execution_count": 0,
      "outputs": []
    },
    {
      "cell_type": "code",
      "metadata": {
        "id": "SBXqNIe5ZkZG",
        "colab_type": "code",
        "colab": {
          "base_uri": "https://localhost:8080/",
          "height": 414
        },
        "outputId": "b79401f7-4856-4db2-ff1b-624c938ac089"
      },
      "source": [
        "# use 'batch_size': 10, 'epochs': 60 - gave best results in previous step\n",
        "model = KerasClassifier(build_fn=create_opt_model, batch_size=10,\n",
        "                        epochs=60, verbose=0)\n",
        "\n",
        "# define the grid search parameters\n",
        "param_grid = {'optimizer': [SGD, Adam, RMSprop, Nadam],\n",
        "              'lr': [.01, .001, .0001, .00001]} # learning rate\n",
        "\n",
        "# Create Grid Search\n",
        "grid = GridSearchCV(estimator=model, param_grid=param_grid, n_jobs=-1)\n",
        "grid_result = grid.fit(X, y)\n",
        "\n",
        "# Report Results\n",
        "print(f\"Best: {grid_result.best_score_} using {grid_result.best_params_}\")\n",
        "means = grid_result.cv_results_['mean_test_score']\n",
        "stds = grid_result.cv_results_['std_test_score']\n",
        "params = grid_result.cv_results_['params']\n",
        "for mean, stdev, param in zip(means, stds, params):\n",
        "    print(f\"Means: {mean}, Stdev: {stdev} with: {param}\")"
      ],
      "execution_count": 143,
      "outputs": [
        {
          "output_type": "stream",
          "text": [
            "/usr/local/lib/python3.6/dist-packages/sklearn/model_selection/_split.py:2053: FutureWarning: You should specify a value for 'cv' instead of relying on the default value. The default value will change from 3 to 5 in version 0.22.\n",
            "  warnings.warn(CV_WARNING, FutureWarning)\n",
            "/usr/local/lib/python3.6/dist-packages/sklearn/externals/joblib/externals/loky/process_executor.py:706: UserWarning: A worker stopped while some jobs were given to the executor. This can be caused by a too short worker timeout or by a memory leak.\n",
            "  \"timeout or by a memory leak.\", UserWarning\n"
          ],
          "name": "stderr"
        },
        {
          "output_type": "stream",
          "text": [
            "Best: 0.6897689774878347 using {'lr': 0.001, 'optimizer': <class 'keras.optimizers.RMSprop'>}\n",
            "Means: 0.66006600896124, Stdev: 0.10172299415884367 with: {'lr': 0.01, 'optimizer': <class 'keras.optimizers.SGD'>}\n",
            "Means: 0.6468646871571494, Stdev: 0.11327393722677023 with: {'lr': 0.01, 'optimizer': <class 'keras.optimizers.Adam'>}\n",
            "Means: 0.66996699551938, Stdev: 0.10550736791334848 with: {'lr': 0.01, 'optimizer': <class 'keras.optimizers.RMSprop'>}\n",
            "Means: 0.6798679899461199, Stdev: 0.09299671409861901 with: {'lr': 0.01, 'optimizer': <class 'keras.optimizers.Nadam'>}\n",
            "Means: 0.6897689755206847, Stdev: 0.11356204915824429 with: {'lr': 0.001, 'optimizer': <class 'keras.optimizers.SGD'>}\n",
            "Means: 0.6699670017159024, Stdev: 0.12790641637584946 with: {'lr': 0.001, 'optimizer': <class 'keras.optimizers.Adam'>}\n",
            "Means: 0.6897689774878347, Stdev: 0.1132739373585937 with: {'lr': 0.001, 'optimizer': <class 'keras.optimizers.RMSprop'>}\n",
            "Means: 0.66006601289554, Stdev: 0.09644646488950359 with: {'lr': 0.001, 'optimizer': <class 'keras.optimizers.Nadam'>}\n",
            "Means: 0.6765676566673191, Stdev: 0.1314343705337075 with: {'lr': 0.0001, 'optimizer': <class 'keras.optimizers.SGD'>}\n",
            "Means: 0.6765676569623915, Stdev: 0.08137840111580065 with: {'lr': 0.0001, 'optimizer': <class 'keras.optimizers.Adam'>}\n",
            "Means: 0.6732673281096783, Stdev: 0.1012937883929235 with: {'lr': 0.0001, 'optimizer': <class 'keras.optimizers.RMSprop'>}\n",
            "Means: 0.6567656833543243, Stdev: 0.08414223781821827 with: {'lr': 0.0001, 'optimizer': <class 'keras.optimizers.Nadam'>}\n",
            "Means: 0.6666666708960391, Stdev: 0.08296900700498827 with: {'lr': 1e-05, 'optimizer': <class 'keras.optimizers.SGD'>}\n",
            "Means: 0.6666666733549766, Stdev: 0.1023634435489167 with: {'lr': 1e-05, 'optimizer': <class 'keras.optimizers.Adam'>}\n",
            "Means: 0.6666666715845416, Stdev: 0.0894139711243035 with: {'lr': 1e-05, 'optimizer': <class 'keras.optimizers.RMSprop'>}\n",
            "Means: 0.6369636972056757, Stdev: 0.10299990709153115 with: {'lr': 1e-05, 'optimizer': <class 'keras.optimizers.Nadam'>}\n"
          ],
          "name": "stdout"
        }
      ]
    }
  ]
}