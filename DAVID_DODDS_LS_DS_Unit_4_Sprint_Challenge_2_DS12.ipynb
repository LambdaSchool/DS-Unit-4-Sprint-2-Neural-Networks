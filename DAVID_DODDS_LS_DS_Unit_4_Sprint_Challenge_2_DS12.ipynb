{
  "nbformat": 4,
  "nbformat_minor": 0,
  "metadata": {
    "kernelspec": {
      "name": "python3",
      "display_name": "Python 3"
    },
    "nteract": {
      "version": "0.22.4"
    },
    "colab": {
      "name": "DAVID_DODDS_LS_DS_Unit_4_Sprint_Challenge_2_DS12.ipynb",
      "provenance": [],
      "collapsed_sections": [],
      "include_colab_link": true
    },
    "accelerator": "GPU"
  },
  "cells": [
    {
      "cell_type": "markdown",
      "metadata": {
        "id": "view-in-github",
        "colab_type": "text"
      },
      "source": [
        "<a href=\"https://colab.research.google.com/github/ddodds42/DS-Unit-4-Sprint-2-Neural-Networks/blob/master/DAVID_DODDS_LS_DS_Unit_4_Sprint_Challenge_2_DS12.ipynb\" target=\"_parent\"><img src=\"https://colab.research.google.com/assets/colab-badge.svg\" alt=\"Open In Colab\"/></a>"
      ]
    },
    {
      "cell_type": "markdown",
      "metadata": {
        "id": "omT98aVQqS3o",
        "colab_type": "text"
      },
      "source": [
        "<img align=\"left\" src=\"https://lever-client-logos.s3.amazonaws.com/864372b1-534c-480e-acd5-9711f850815c-1524247202159.png\" width=200>\n",
        "<br></br>\n",
        "<br></br>\n",
        "\n",
        "## *Data Science Unit 4 Sprint 2*\n",
        "\n",
        "# Sprint Challenge - Neural Network Foundations\n",
        "\n",
        "Table of Problems\n",
        "\n",
        "1. [Defining Neural Networks](#Q1)\n",
        "2. [Simple Perceptron](#Q2)\n",
        "    - Perceptron\n",
        "    - Multilayer Perceptron\n",
        "    - Analyze and Compare\n",
        "4. [Keras MMP](#Q3)"
      ]
    },
    {
      "cell_type": "markdown",
      "metadata": {
        "id": "Ucxg_gOoqS3x",
        "colab_type": "text"
      },
      "source": [
        "<a id=\"Q1\"></a>\n",
        "## 1. Defining Neural Networks \n",
        "\n",
        "Write *your own* definitions for the following terms:\n",
        "\n",
        "- **Neuron:** also known as a node, this is a function within a neural network which recieves input values either from the raw original data, or from one or more previous nodes. It applies weight coefficients and a bias intercept to those input values, and the sum of those weights and biases applied to each prior input are run through an activation function to relativize the output of the node compared to all other outputs in its layer. This final relativized output is the activation value, which is then input to one or many subsequent nodes, or is interpreted as an output value of the neural network in the case of the output layer.\n",
        "\n",
        "- **Input Layer:** the first layer of nodes in a neural network, recieving the normalized or transformed version of the original data, which enters the neural network as a vector. Each node corresponds to a feature of the observation. The input layer does itself have weights, biases, and an activation function, but it only outputs activation values to the next layer. It does not recieve activation values. It only recieves the vectorized raw data.\n",
        "\n",
        "- **Hidden Layer:** a layer of nodes which does not recieve inputs from the original data. It only recieves activation values from previous nodes of the neural network. However, nodes in a hidden layer also do not present a final output value from the neural network. They recieve activation values, and must also pass activation values on to other nodes in subsequent layers. Hidden layer nodes are therefore intermediating nodes. They also have weights, biases, and an activation function.\n",
        "\n",
        "- **Output Layer:** a layer of nodes which does not recive input activation values from the original data, but from previous nodes in the neural network; but unlike a hidden layer, it's output activation values are the final outputs of the neural network. These output activation values are interpreted as probablilities, each node either representing a class within the target, a target itself, or some medley of the two. Nodes in the output layer also have wights, biases, and activation functions, but their output activation values are the final interpretation of the neural network upon that data observation. No further nodes recieve activation values from the output layer.\n",
        "\n",
        "- **Activation Function:**  a function which relates the nodes that are members of the same layer. Each node being a function that presents to the activation function its weighted sum, the activation function then returns to the node an activation value that is calculated relative to all of the other nodes encapsulated by that activation function. It is that activation value that is then passed from one node to the next layer, or as an output."
      ]
    },
    {
      "cell_type": "markdown",
      "metadata": {
        "id": "K1XIMrAiqS31",
        "colab_type": "text"
      },
      "source": [
        "Explain how back propagation works as if you were explaining it to a five year-old. Use your own words, but feel free to reference external materials for this question. "
      ]
    },
    {
      "cell_type": "markdown",
      "metadata": {
        "id": "O1D3lklprVYU",
        "colab_type": "text"
      },
      "source": [
        "# Do you remember a few years ago, when you were 2, and the only thing that came out of your mouth was a question about this or that? Well... sometimes, you would point at blue or green things, and ask... RED? And I would have to kindly tell you... \"No... silly! that's green!\" Or \"No, that's blue\", or \"Yes, red!\" if it was actually red. Anyway, you and I kept doing this until you finally understood that cardinals, stop signs, fire hydrants, fire fighters, and bricks were red... and that grass, violets, the midday sky, and your eyes were not red. That's what back propagation is. It's a neural network, in the computer's brain, changing its guesses about the world when it gets it wrong."
      ]
    },
    {
      "cell_type": "markdown",
      "metadata": {
        "id": "vrXJq6eDqS4N",
        "colab_type": "text"
      },
      "source": [
        "Remember our Simple Perceptron Class from Monday. In a simple prediction describe the process of making a prediction. How do you go from inputs to predicted output."
      ]
    },
    {
      "cell_type": "markdown",
      "metadata": {
        "id": "q96jwLvAs41c",
        "colab_type": "text"
      },
      "source": [
        "# Ok, I'm going to explain this like you're 15 and know a little bit more about the world. Particularly math.\n",
        "\n",
        "1] The raw data is vectorized, usually into a float value from between 1 and 0\n",
        "\n",
        "2] A single observation is fed into the input layer as a vector, usually with each utilized feature being passed to a single input node.\n",
        "\n",
        "3] Input nodes take the input value, multipy it by a weight, add a bias to that product, and pass that weighted sum into the activation function for the input layer.\n",
        "\n",
        "4] The acivation function of the input layer uses a compression-type function to compress sometimes radically varying input values to within 1 and 0, relative to the range of other weighted sums it recieves from nodes of that layer. It then returns to the respective node its \"squishified\", or [1,0] compressed weighted sum (the activation value).\n",
        "\n",
        "5] The node then passes its activation value on to other nodes in the next layer, as an input to that node's weight/bias function.\n",
        "\n",
        "6] If the next node in the network, recieving that prior activation value, is a hidden layer node, steps 3-5 are repeated for that node and that layer, and it's activation value is passed onto one or many nodes in the subsequent layer.\n",
        "\n",
        "7] If the next node in the network, recieving that prior activation value, is an output layer node, steps 3-5 are repeated for that node and that layer, but it's activation value is not passed into another node. It is output to us, the consumer of that data, assigned to a target or target class, as a probability that the observation it came from represents a result in that target or that target class."
      ]
    },
    {
      "cell_type": "markdown",
      "metadata": {
        "id": "ohbt69Q_qS4g",
        "colab_type": "text"
      },
      "source": [
        "<a id=\"Q2\"></a>\n",
        "## 2. Simple Perceptron\n",
        "\n",
        "In this question, you will build two neural networks using Tensorflow Keras. After you build these two models, compare the results of the model."
      ]
    },
    {
      "cell_type": "code",
      "metadata": {
        "id": "jqPgfKkCqS4l",
        "colab_type": "code",
        "colab": {}
      },
      "source": [
        "\"\"\"\n",
        "Our Dataset\n",
        "\"\"\"\n",
        "import numpy as np\n",
        "\n",
        "xx, yy = np.meshgrid(np.linspace(-3, 3, 50),\n",
        "                     np.linspace(-3, 3, 50))\n",
        "rng = np.random.RandomState(0)\n",
        "\n",
        "\"Use this X & y in the following 2 models\"\n",
        "X = rng.randn(300, 2)\n",
        "y = np.array(np.logical_xor(X[:, 0] > 0, X[:, 1] > 0), \n",
        "             dtype=int)"
      ],
      "execution_count": 0,
      "outputs": []
    },
    {
      "cell_type": "markdown",
      "metadata": {
        "id": "ETIj79oqY4O1",
        "colab_type": "text"
      },
      "source": [
        "## Just to take a peak at these arrays..."
      ]
    },
    {
      "cell_type": "code",
      "metadata": {
        "id": "C5GYxCbRui7a",
        "colab_type": "code",
        "colab": {
          "base_uri": "https://localhost:8080/",
          "height": 52
        },
        "outputId": "28966b73-37b9-4bf2-c695-9667d23f3eef"
      },
      "source": [
        "X[:2]"
      ],
      "execution_count": 2,
      "outputs": [
        {
          "output_type": "execute_result",
          "data": {
            "text/plain": [
              "array([[1.76405235, 0.40015721],\n",
              "       [0.97873798, 2.2408932 ]])"
            ]
          },
          "metadata": {
            "tags": []
          },
          "execution_count": 2
        }
      ]
    },
    {
      "cell_type": "code",
      "metadata": {
        "id": "RfxWWh0BulJ6",
        "colab_type": "code",
        "colab": {
          "base_uri": "https://localhost:8080/",
          "height": 35
        },
        "outputId": "4e8e6788-979d-47e1-8c5f-4bdf0531dbd4"
      },
      "source": [
        "y[:2]"
      ],
      "execution_count": 3,
      "outputs": [
        {
          "output_type": "execute_result",
          "data": {
            "text/plain": [
              "array([0, 0])"
            ]
          },
          "metadata": {
            "tags": []
          },
          "execution_count": 3
        }
      ]
    },
    {
      "cell_type": "code",
      "metadata": {
        "id": "rF6IdDkJupCH",
        "colab_type": "code",
        "colab": {
          "base_uri": "https://localhost:8080/",
          "height": 35
        },
        "outputId": "6bbec548-ff03-416f-b28a-f49484e8ed45"
      },
      "source": [
        "X.shape, y.shape"
      ],
      "execution_count": 4,
      "outputs": [
        {
          "output_type": "execute_result",
          "data": {
            "text/plain": [
              "((300, 2), (300,))"
            ]
          },
          "metadata": {
            "tags": []
          },
          "execution_count": 4
        }
      ]
    },
    {
      "cell_type": "markdown",
      "metadata": {
        "id": "qoz5A-RrqS4s",
        "colab_type": "text"
      },
      "source": [
        "### Simple Perceptron\n",
        "Construct a simple perceptron using Keras. You model should have 1 dense layer with a single neuron and a sigmoid activation function. Your model should be called `model1` and make sure to save the results of your fit statement to a variable called `h1`. "
      ]
    },
    {
      "cell_type": "code",
      "metadata": {
        "id": "HThqz-AYqS4t",
        "colab_type": "code",
        "colab": {
          "base_uri": "https://localhost:8080/",
          "height": 337
        },
        "outputId": "8952a526-8a29-47b8-b33c-a62bf30890bb"
      },
      "source": [
        "from tensorflow.keras.callbacks import EarlyStopping\n",
        "from tensorflow.keras.models import Sequential\n",
        "from tensorflow.keras.layers import Dense, Dropout, Flatten\n",
        "\n",
        "stop = EarlyStopping(monitor='accuracy', min_delta=0.01, patience=8)\n",
        "\n",
        "model1 = Sequential([\n",
        "      Dense(1,activation='sigmoid', input_dim=2)\n",
        "])\n",
        "\n",
        "model1.compile(optimizer='sgd', loss='binary_crossentropy', metrics='accuracy')\n",
        "\n",
        "h1 = model1.fit(X,y,epochs=100,callbacks=[stop])"
      ],
      "execution_count": 8,
      "outputs": [
        {
          "output_type": "stream",
          "text": [
            "Epoch 1/100\n",
            "10/10 [==============================] - 0s 3ms/step - loss: 0.7939 - accuracy: 0.4733\n",
            "Epoch 2/100\n",
            "10/10 [==============================] - 0s 2ms/step - loss: 0.7843 - accuracy: 0.4733\n",
            "Epoch 3/100\n",
            "10/10 [==============================] - 0s 3ms/step - loss: 0.7776 - accuracy: 0.4700\n",
            "Epoch 4/100\n",
            "10/10 [==============================] - 0s 2ms/step - loss: 0.7715 - accuracy: 0.4733\n",
            "Epoch 5/100\n",
            "10/10 [==============================] - 0s 2ms/step - loss: 0.7606 - accuracy: 0.4633\n",
            "Epoch 6/100\n",
            "10/10 [==============================] - 0s 2ms/step - loss: 0.7603 - accuracy: 0.4600\n",
            "Epoch 7/100\n",
            "10/10 [==============================] - 0s 2ms/step - loss: 0.7569 - accuracy: 0.4600\n",
            "Epoch 8/100\n",
            "10/10 [==============================] - 0s 2ms/step - loss: 0.7624 - accuracy: 0.4600\n",
            "Epoch 9/100\n",
            "10/10 [==============================] - 0s 2ms/step - loss: 0.7543 - accuracy: 0.4500\n"
          ],
          "name": "stdout"
        }
      ]
    },
    {
      "cell_type": "markdown",
      "metadata": {
        "id": "W0Y6YSEvwWhP",
        "colab_type": "text"
      },
      "source": [
        "# 47.33% accuracy. Eww. It must not be a linear decision boundary."
      ]
    },
    {
      "cell_type": "markdown",
      "metadata": {
        "id": "821Qn8LQqS43",
        "colab_type": "text"
      },
      "source": [
        "### Multi-Layer Perceptron\n",
        "Now construct a multi-layer perceptron using Keras. Here are some architecture suggestions: \n",
        "- 2 Hidden Layers\n",
        "- 5-32 Neurons in the Hidden Layers\n",
        "- Your pick of activation function and optimizer\n",
        "- Incorporate the Callback function below into your model\n",
        "\n",
        "Your model should be called `model2` and make sure to save the results of your fit statement to a variable called `h2`. You must also monitor the metric 'accuracy'."
      ]
    },
    {
      "cell_type": "code",
      "metadata": {
        "id": "AxYR_S2gqS44",
        "colab_type": "code",
        "colab": {}
      },
      "source": [
        "import tensorflow as tf\n",
        "\n",
        "class myCallback(tf.keras.callbacks.Callback): \n",
        "    def on_epoch_end(self, epoch, logs={}): \n",
        "        if(logs.get('accuracy') > .99999):   \n",
        "            self.model.stop_training = True"
      ],
      "execution_count": 0,
      "outputs": []
    },
    {
      "cell_type": "markdown",
      "metadata": {
        "id": "zOQJlkYtZMEu",
        "colab_type": "text"
      },
      "source": [
        "## So relieved that the callback function fit in seemlessly..."
      ]
    },
    {
      "cell_type": "code",
      "metadata": {
        "id": "nYF2wyg0qS5A",
        "colab_type": "code",
        "colab": {
          "base_uri": "https://localhost:8080/",
          "height": 1000
        },
        "outputId": "60309f84-7edd-4641-f667-36283acb6619"
      },
      "source": [
        "model2 = Sequential([\n",
        "      Dense(32,activation='relu', input_dim=2),\n",
        "      Dense(8,activation='relu'),\n",
        "      Dense(1,activation='sigmoid')\n",
        "])\n",
        "\n",
        "model2.compile(optimizer='adam', loss='binary_crossentropy', metrics='accuracy')\n",
        "\n",
        "h2 = model2.fit(X,y,epochs=100,callbacks=[myCallback()])"
      ],
      "execution_count": 12,
      "outputs": [
        {
          "output_type": "stream",
          "text": [
            "Epoch 1/100\n",
            "10/10 [==============================] - 0s 2ms/step - loss: 0.6949 - accuracy: 0.5567\n",
            "Epoch 2/100\n",
            "10/10 [==============================] - 0s 2ms/step - loss: 0.6760 - accuracy: 0.6067\n",
            "Epoch 3/100\n",
            "10/10 [==============================] - 0s 2ms/step - loss: 0.6575 - accuracy: 0.6800\n",
            "Epoch 4/100\n",
            "10/10 [==============================] - 0s 2ms/step - loss: 0.6417 - accuracy: 0.7633\n",
            "Epoch 5/100\n",
            "10/10 [==============================] - 0s 2ms/step - loss: 0.6277 - accuracy: 0.8033\n",
            "Epoch 6/100\n",
            "10/10 [==============================] - 0s 2ms/step - loss: 0.6086 - accuracy: 0.8567\n",
            "Epoch 7/100\n",
            "10/10 [==============================] - 0s 2ms/step - loss: 0.5902 - accuracy: 0.9033\n",
            "Epoch 8/100\n",
            "10/10 [==============================] - 0s 2ms/step - loss: 0.5738 - accuracy: 0.9233\n",
            "Epoch 9/100\n",
            "10/10 [==============================] - 0s 2ms/step - loss: 0.5593 - accuracy: 0.9367\n",
            "Epoch 10/100\n",
            "10/10 [==============================] - 0s 2ms/step - loss: 0.5429 - accuracy: 0.9367\n",
            "Epoch 11/100\n",
            "10/10 [==============================] - 0s 2ms/step - loss: 0.5315 - accuracy: 0.9433\n",
            "Epoch 12/100\n",
            "10/10 [==============================] - 0s 2ms/step - loss: 0.5103 - accuracy: 0.9433\n",
            "Epoch 13/100\n",
            "10/10 [==============================] - 0s 2ms/step - loss: 0.4955 - accuracy: 0.9467\n",
            "Epoch 14/100\n",
            "10/10 [==============================] - 0s 2ms/step - loss: 0.4750 - accuracy: 0.9467\n",
            "Epoch 15/100\n",
            "10/10 [==============================] - 0s 2ms/step - loss: 0.4524 - accuracy: 0.9400\n",
            "Epoch 16/100\n",
            "10/10 [==============================] - 0s 2ms/step - loss: 0.4409 - accuracy: 0.9433\n",
            "Epoch 17/100\n",
            "10/10 [==============================] - 0s 2ms/step - loss: 0.4114 - accuracy: 0.9433\n",
            "Epoch 18/100\n",
            "10/10 [==============================] - 0s 3ms/step - loss: 0.3972 - accuracy: 0.9433\n",
            "Epoch 19/100\n",
            "10/10 [==============================] - 0s 2ms/step - loss: 0.3788 - accuracy: 0.9467\n",
            "Epoch 20/100\n",
            "10/10 [==============================] - 0s 2ms/step - loss: 0.3664 - accuracy: 0.9500\n",
            "Epoch 21/100\n",
            "10/10 [==============================] - 0s 3ms/step - loss: 0.3513 - accuracy: 0.9500\n",
            "Epoch 22/100\n",
            "10/10 [==============================] - 0s 2ms/step - loss: 0.3400 - accuracy: 0.9533\n",
            "Epoch 23/100\n",
            "10/10 [==============================] - 0s 2ms/step - loss: 0.3274 - accuracy: 0.9567\n",
            "Epoch 24/100\n",
            "10/10 [==============================] - 0s 2ms/step - loss: 0.3139 - accuracy: 0.9567\n",
            "Epoch 25/100\n",
            "10/10 [==============================] - 0s 2ms/step - loss: 0.2959 - accuracy: 0.9567\n",
            "Epoch 26/100\n",
            "10/10 [==============================] - 0s 2ms/step - loss: 0.2861 - accuracy: 0.9600\n",
            "Epoch 27/100\n",
            "10/10 [==============================] - 0s 2ms/step - loss: 0.2716 - accuracy: 0.9600\n",
            "Epoch 28/100\n",
            "10/10 [==============================] - 0s 2ms/step - loss: 0.2702 - accuracy: 0.9633\n",
            "Epoch 29/100\n",
            "10/10 [==============================] - 0s 2ms/step - loss: 0.2586 - accuracy: 0.9633\n",
            "Epoch 30/100\n",
            "10/10 [==============================] - 0s 2ms/step - loss: 0.2417 - accuracy: 0.9633\n",
            "Epoch 31/100\n",
            "10/10 [==============================] - 0s 2ms/step - loss: 0.2447 - accuracy: 0.9633\n",
            "Epoch 32/100\n",
            "10/10 [==============================] - 0s 2ms/step - loss: 0.2372 - accuracy: 0.9633\n",
            "Epoch 33/100\n",
            "10/10 [==============================] - 0s 2ms/step - loss: 0.2267 - accuracy: 0.9633\n",
            "Epoch 34/100\n",
            "10/10 [==============================] - 0s 2ms/step - loss: 0.2166 - accuracy: 0.9633\n",
            "Epoch 35/100\n",
            "10/10 [==============================] - 0s 2ms/step - loss: 0.2207 - accuracy: 0.9700\n",
            "Epoch 36/100\n",
            "10/10 [==============================] - 0s 2ms/step - loss: 0.2091 - accuracy: 0.9700\n",
            "Epoch 37/100\n",
            "10/10 [==============================] - 0s 2ms/step - loss: 0.2023 - accuracy: 0.9733\n",
            "Epoch 38/100\n",
            "10/10 [==============================] - 0s 2ms/step - loss: 0.1953 - accuracy: 0.9767\n",
            "Epoch 39/100\n",
            "10/10 [==============================] - 0s 2ms/step - loss: 0.1926 - accuracy: 0.9767\n",
            "Epoch 40/100\n",
            "10/10 [==============================] - 0s 2ms/step - loss: 0.1942 - accuracy: 0.9767\n",
            "Epoch 41/100\n",
            "10/10 [==============================] - 0s 2ms/step - loss: 0.1767 - accuracy: 0.9767\n",
            "Epoch 42/100\n",
            "10/10 [==============================] - 0s 2ms/step - loss: 0.1727 - accuracy: 0.9700\n",
            "Epoch 43/100\n",
            "10/10 [==============================] - 0s 2ms/step - loss: 0.1769 - accuracy: 0.9767\n",
            "Epoch 44/100\n",
            "10/10 [==============================] - 0s 2ms/step - loss: 0.1686 - accuracy: 0.9767\n",
            "Epoch 45/100\n",
            "10/10 [==============================] - 0s 2ms/step - loss: 0.1675 - accuracy: 0.9800\n",
            "Epoch 46/100\n",
            "10/10 [==============================] - 0s 2ms/step - loss: 0.1737 - accuracy: 0.9800\n",
            "Epoch 47/100\n",
            "10/10 [==============================] - 0s 2ms/step - loss: 0.1593 - accuracy: 0.9800\n",
            "Epoch 48/100\n",
            "10/10 [==============================] - 0s 2ms/step - loss: 0.1535 - accuracy: 0.9800\n",
            "Epoch 49/100\n",
            "10/10 [==============================] - 0s 2ms/step - loss: 0.1513 - accuracy: 0.9800\n",
            "Epoch 50/100\n",
            "10/10 [==============================] - 0s 2ms/step - loss: 0.1490 - accuracy: 0.9833\n",
            "Epoch 51/100\n",
            "10/10 [==============================] - 0s 2ms/step - loss: 0.1435 - accuracy: 0.9833\n",
            "Epoch 52/100\n",
            "10/10 [==============================] - 0s 2ms/step - loss: 0.1425 - accuracy: 0.9900\n",
            "Epoch 53/100\n",
            "10/10 [==============================] - 0s 2ms/step - loss: 0.1433 - accuracy: 0.9900\n",
            "Epoch 54/100\n",
            "10/10 [==============================] - 0s 2ms/step - loss: 0.1351 - accuracy: 0.9867\n",
            "Epoch 55/100\n",
            "10/10 [==============================] - 0s 3ms/step - loss: 0.1353 - accuracy: 0.9867\n",
            "Epoch 56/100\n",
            "10/10 [==============================] - 0s 2ms/step - loss: 0.1296 - accuracy: 0.9833\n",
            "Epoch 57/100\n",
            "10/10 [==============================] - 0s 2ms/step - loss: 0.1351 - accuracy: 0.9833\n",
            "Epoch 58/100\n",
            "10/10 [==============================] - 0s 3ms/step - loss: 0.1252 - accuracy: 0.9833\n",
            "Epoch 59/100\n",
            "10/10 [==============================] - 0s 2ms/step - loss: 0.1257 - accuracy: 0.9900\n",
            "Epoch 60/100\n",
            "10/10 [==============================] - 0s 2ms/step - loss: 0.1237 - accuracy: 0.9900\n",
            "Epoch 61/100\n",
            "10/10 [==============================] - 0s 2ms/step - loss: 0.1218 - accuracy: 0.9900\n",
            "Epoch 62/100\n",
            "10/10 [==============================] - 0s 2ms/step - loss: 0.1172 - accuracy: 0.9900\n",
            "Epoch 63/100\n",
            "10/10 [==============================] - 0s 2ms/step - loss: 0.1183 - accuracy: 0.9933\n",
            "Epoch 64/100\n",
            "10/10 [==============================] - 0s 2ms/step - loss: 0.1146 - accuracy: 0.9933\n",
            "Epoch 65/100\n",
            "10/10 [==============================] - 0s 2ms/step - loss: 0.1217 - accuracy: 0.9933\n",
            "Epoch 66/100\n",
            "10/10 [==============================] - 0s 2ms/step - loss: 0.1127 - accuracy: 0.9933\n",
            "Epoch 67/100\n",
            "10/10 [==============================] - 0s 2ms/step - loss: 0.1083 - accuracy: 0.9933\n",
            "Epoch 68/100\n",
            "10/10 [==============================] - 0s 2ms/step - loss: 0.1109 - accuracy: 0.9933\n",
            "Epoch 69/100\n",
            "10/10 [==============================] - 0s 2ms/step - loss: 0.1062 - accuracy: 0.9933\n",
            "Epoch 70/100\n",
            "10/10 [==============================] - 0s 2ms/step - loss: 0.1044 - accuracy: 0.9933\n",
            "Epoch 71/100\n",
            "10/10 [==============================] - 0s 2ms/step - loss: 0.1021 - accuracy: 0.9933\n",
            "Epoch 72/100\n",
            "10/10 [==============================] - 0s 2ms/step - loss: 0.1007 - accuracy: 0.9933\n",
            "Epoch 73/100\n",
            "10/10 [==============================] - 0s 2ms/step - loss: 0.1004 - accuracy: 0.9933\n",
            "Epoch 74/100\n",
            "10/10 [==============================] - 0s 2ms/step - loss: 0.0976 - accuracy: 0.9967\n",
            "Epoch 75/100\n",
            "10/10 [==============================] - 0s 2ms/step - loss: 0.0976 - accuracy: 0.9967\n",
            "Epoch 76/100\n",
            "10/10 [==============================] - 0s 2ms/step - loss: 0.1019 - accuracy: 0.9967\n",
            "Epoch 77/100\n",
            "10/10 [==============================] - 0s 2ms/step - loss: 0.0972 - accuracy: 0.9967\n",
            "Epoch 78/100\n",
            "10/10 [==============================] - 0s 2ms/step - loss: 0.0940 - accuracy: 0.9967\n",
            "Epoch 79/100\n",
            "10/10 [==============================] - 0s 2ms/step - loss: 0.0984 - accuracy: 0.9933\n",
            "Epoch 80/100\n",
            "10/10 [==============================] - 0s 2ms/step - loss: 0.0916 - accuracy: 0.9967\n",
            "Epoch 81/100\n",
            "10/10 [==============================] - 0s 3ms/step - loss: 0.0864 - accuracy: 0.9967\n",
            "Epoch 82/100\n",
            "10/10 [==============================] - 0s 2ms/step - loss: 0.0889 - accuracy: 0.9967\n",
            "Epoch 83/100\n",
            "10/10 [==============================] - 0s 2ms/step - loss: 0.0866 - accuracy: 1.0000\n"
          ],
          "name": "stdout"
        }
      ]
    },
    {
      "cell_type": "markdown",
      "metadata": {
        "id": "E0L59_64ZbeF",
        "colab_type": "text"
      },
      "source": [
        "## 100% accuracy in 83 epochs. I can live with that."
      ]
    },
    {
      "cell_type": "markdown",
      "metadata": {
        "id": "886zuuk9qS5L",
        "colab_type": "text"
      },
      "source": [
        "### Analyze and Compare\n",
        "\n",
        "**Before you Start**: You will need to install an additional library for this next segment. Install the package `mlxtend` into the environment you are using for the sprint challenge.\n",
        "\n",
        "\n",
        "The cells below generate decision boundary plots of your models (`model1` & `model2`). Review the plots."
      ]
    },
    {
      "cell_type": "code",
      "metadata": {
        "id": "weQqwfxNqS34",
        "colab_type": "code",
        "colab": {}
      },
      "source": [
        "import mlxtend"
      ],
      "execution_count": 0,
      "outputs": []
    },
    {
      "cell_type": "code",
      "metadata": {
        "id": "8DQLJVWHqS5M",
        "colab_type": "code",
        "colab": {
          "base_uri": "https://localhost:8080/",
          "height": 426
        },
        "outputId": "8b914f21-30fe-485f-e523-15550973277e"
      },
      "source": [
        "# Do Not change anything in this cell\n",
        "\n",
        "import matplotlib.pyplot as plt\n",
        "from mlxtend.plotting import plot_decision_regions\n",
        "\n",
        "h = .02  # step size in the mesh\n",
        "\n",
        "# create a mesh to plot in\n",
        "x_min, x_max = X[:, 0].min() - .2, X[:, 0].max() + .2\n",
        "y_min, y_max = X[:, 1].min() - .2, X[:, 1].max() + .2\n",
        "xx, yy = np.meshgrid(np.arange(x_min, x_max, h),\n",
        "                     np.arange(y_min, y_max, h))\n",
        "\n",
        "fig = plt.figure(figsize=(12,6))\n",
        "\n",
        "\n",
        "for clf, hist, name, grd in zip([model1,model2], [h1, h2],['Perceptron', 'Multi-Layer Perceptron'],[1,2]):\n",
        "\n",
        "    ax = plt.subplot(1,2, grd)\n",
        "    fig = plot_decision_regions(X=X, y=y, clf=clf, legend=2)\n",
        "    title = f\"{name} with {hist.history['accuracy'][-1]:,.2f} Accuracy\"\n",
        "    plt.title(title)\n",
        "\n",
        "plt.show()"
      ],
      "execution_count": 14,
      "outputs": [
        {
          "output_type": "stream",
          "text": [
            "/usr/local/lib/python3.6/dist-packages/mlxtend/plotting/decision_regions.py:244: MatplotlibDeprecationWarning: Passing unsupported keyword arguments to axis() will raise a TypeError in 3.3.\n",
            "  ax.axis(xmin=xx.min(), xmax=xx.max(), y_min=yy.min(), y_max=yy.max())\n"
          ],
          "name": "stderr"
        },
        {
          "output_type": "display_data",
          "data": {
            "image/png": "[encoded data removed]",
            "text/plain": [
              "<Figure size 864x432 with 2 Axes>"
            ]
          },
          "metadata": {
            "tags": [],
            "needs_background": "light"
          }
        }
      ]
    },
    {
      "cell_type": "markdown",
      "metadata": {
        "id": "HEQyI6NvqS5Y",
        "colab_type": "text"
      },
      "source": [
        "Why does the Perceptron (`model1`) only achieve ~70% accuracy? What is the architectural property of the Multi-Layer Perceptron that allows it more accurately learn the relationship between X and y? \n",
        "\n",
        "Why might this property be useful in more complex data such as images?"
      ]
    },
    {
      "cell_type": "markdown",
      "metadata": {
        "id": "m6FW_VXQzbO2",
        "colab_type": "text"
      },
      "source": [
        "# 70%???? Cheez whizz I only got 47% from model1!!!!\n",
        "\n",
        "# Anyway, the SLP performs much worse than the MLP because it is unable to learn or apply meta-linear decision boundaries to the dataset, which is clearly quadrant in its characteristic.\n",
        "\n",
        "# The ability of the MLP to recognize meta-linear and multi-linear decision boundaries is useful for image classification because in natural images there are many lines... so many lines... lines all over the place... AND CURVES!... curves galore! Don't even get me started on all of the curves. Atop this there's the color dimension. Nauseating complexity. That's why meta-linear boundaries are needed."
      ]
    },
    {
      "cell_type": "markdown",
      "metadata": {
        "colab_type": "text",
        "id": "PukZ4c7V81XG"
      },
      "source": [
        "## 3. Keras MMP <a id=\"Q3\"></a>\n",
        "\n",
        "Implement a Multilayer Perceptron architecture of your choosing using the Keras library. \n",
        "- [x] Train your model and report its baseline accuracy.\n",
        "- [x] Then hyperparameter tune at least two parameters and report your model's accuracy.\n",
        "- [x] Use the Heart Disease Dataset (binary classification)\n",
        "- [x] Use an appropriate loss function for a binary classification task\n",
        "- [x] Use an appropriate activation function on the final layer of your network\n",
        "- [x] Train your model using verbose output for ease of grading.\n",
        "- [x] Use GridSearchCV or RandomSearchCV to hyperparameter tune your model. (for at least two hyperparameters)\n",
        "- [x] When hyperparameter tuning, show you work by adding code cells for each new experiment.\n",
        "- [x] Report the accuracy for each combination of hyperparameters as you test them so that we can easily see which resulted in the highest accuracy.\n",
        "- [ ] You must hyperparameter tune at least 3 parameters in order to get a 3 on this section."
      ]
    },
    {
      "cell_type": "code",
      "metadata": {
        "inputHidden": false,
        "jupyter": {
          "outputs_hidden": false
        },
        "outputHidden": false,
        "id": "mOcV8zUuqS5f",
        "colab_type": "code",
        "colab": {
          "base_uri": "https://localhost:8080/",
          "height": 212
        },
        "outputId": "5854b8f7-0c23-4dbc-a1e9-22f4514edb42"
      },
      "source": [
        "import pandas as pd\n",
        "from sklearn.preprocessing import StandardScaler\n",
        "\n",
        "df = pd.read_csv('https://raw.githubusercontent.com/ryanleeallred/datasets/master/heart.csv')\n",
        "df = df.sample(frac=1)\n",
        "print(df.shape)\n",
        "df.head()"
      ],
      "execution_count": 15,
      "outputs": [
        {
          "output_type": "stream",
          "text": [
            "(303, 14)\n"
          ],
          "name": "stdout"
        },
        {
          "output_type": "execute_result",
          "data": {
            "text/html": [
              "<div>\n",
              "<style scoped>\n",
              "    .dataframe tbody tr th:only-of-type {\n",
              "        vertical-align: middle;\n",
              "    }\n",
              "\n",
              "    .dataframe tbody tr th {\n",
              "        vertical-align: top;\n",
              "    }\n",
              "\n",
              "    .dataframe thead th {\n",
              "        text-align: right;\n",
              "    }\n",
              "</style>\n",
              "<table border=\"1\" class=\"dataframe\">\n",
              "  <thead>\n",
              "    <tr style=\"text-align: right;\">\n",
              "      <th></th>\n",
              "      <th>age</th>\n",
              "      <th>sex</th>\n",
              "      <th>cp</th>\n",
              "      <th>trestbps</th>\n",
              "      <th>chol</th>\n",
              "      <th>fbs</th>\n",
              "      <th>restecg</th>\n",
              "      <th>thalach</th>\n",
              "      <th>exang</th>\n",
              "      <th>oldpeak</th>\n",
              "      <th>slope</th>\n",
              "      <th>ca</th>\n",
              "      <th>thal</th>\n",
              "      <th>target</th>\n",
              "    </tr>\n",
              "  </thead>\n",
              "  <tbody>\n",
              "    <tr>\n",
              "      <th>129</th>\n",
              "      <td>74</td>\n",
              "      <td>0</td>\n",
              "      <td>1</td>\n",
              "      <td>120</td>\n",
              "      <td>269</td>\n",
              "      <td>0</td>\n",
              "      <td>0</td>\n",
              "      <td>121</td>\n",
              "      <td>1</td>\n",
              "      <td>0.2</td>\n",
              "      <td>2</td>\n",
              "      <td>1</td>\n",
              "      <td>2</td>\n",
              "      <td>1</td>\n",
              "    </tr>\n",
              "    <tr>\n",
              "      <th>280</th>\n",
              "      <td>42</td>\n",
              "      <td>1</td>\n",
              "      <td>0</td>\n",
              "      <td>136</td>\n",
              "      <td>315</td>\n",
              "      <td>0</td>\n",
              "      <td>1</td>\n",
              "      <td>125</td>\n",
              "      <td>1</td>\n",
              "      <td>1.8</td>\n",
              "      <td>1</td>\n",
              "      <td>0</td>\n",
              "      <td>1</td>\n",
              "      <td>0</td>\n",
              "    </tr>\n",
              "    <tr>\n",
              "      <th>62</th>\n",
              "      <td>52</td>\n",
              "      <td>1</td>\n",
              "      <td>3</td>\n",
              "      <td>118</td>\n",
              "      <td>186</td>\n",
              "      <td>0</td>\n",
              "      <td>0</td>\n",
              "      <td>190</td>\n",
              "      <td>0</td>\n",
              "      <td>0.0</td>\n",
              "      <td>1</td>\n",
              "      <td>0</td>\n",
              "      <td>1</td>\n",
              "      <td>1</td>\n",
              "    </tr>\n",
              "    <tr>\n",
              "      <th>12</th>\n",
              "      <td>49</td>\n",
              "      <td>1</td>\n",
              "      <td>1</td>\n",
              "      <td>130</td>\n",
              "      <td>266</td>\n",
              "      <td>0</td>\n",
              "      <td>1</td>\n",
              "      <td>171</td>\n",
              "      <td>0</td>\n",
              "      <td>0.6</td>\n",
              "      <td>2</td>\n",
              "      <td>0</td>\n",
              "      <td>2</td>\n",
              "      <td>1</td>\n",
              "    </tr>\n",
              "    <tr>\n",
              "      <th>193</th>\n",
              "      <td>60</td>\n",
              "      <td>1</td>\n",
              "      <td>0</td>\n",
              "      <td>145</td>\n",
              "      <td>282</td>\n",
              "      <td>0</td>\n",
              "      <td>0</td>\n",
              "      <td>142</td>\n",
              "      <td>1</td>\n",
              "      <td>2.8</td>\n",
              "      <td>1</td>\n",
              "      <td>2</td>\n",
              "      <td>3</td>\n",
              "      <td>0</td>\n",
              "    </tr>\n",
              "  </tbody>\n",
              "</table>\n",
              "</div>"
            ],
            "text/plain": [
              "     age  sex  cp  trestbps  chol  fbs  ...  exang  oldpeak  slope  ca  thal  target\n",
              "129   74    0   1       120   269    0  ...      1      0.2      2   1     2       1\n",
              "280   42    1   0       136   315    0  ...      1      1.8      1   0     1       0\n",
              "62    52    1   3       118   186    0  ...      0      0.0      1   0     1       1\n",
              "12    49    1   1       130   266    0  ...      0      0.6      2   0     2       1\n",
              "193   60    1   0       145   282    0  ...      1      2.8      1   2     3       0\n",
              "\n",
              "[5 rows x 14 columns]"
            ]
          },
          "metadata": {
            "tags": []
          },
          "execution_count": 15
        }
      ]
    },
    {
      "cell_type": "code",
      "metadata": {
        "id": "P8Esy7OIqS5Z",
        "colab_type": "code",
        "colab": {
          "base_uri": "https://localhost:8080/",
          "height": 70
        },
        "outputId": "b193604e-b9e2-4eac-e732-f55778cc8a6e"
      },
      "source": [
        "df.target.value_counts(normalize=True)"
      ],
      "execution_count": 16,
      "outputs": [
        {
          "output_type": "execute_result",
          "data": {
            "text/plain": [
              "1    0.544554\n",
              "0    0.455446\n",
              "Name: target, dtype: float64"
            ]
          },
          "metadata": {
            "tags": []
          },
          "execution_count": 16
        }
      ]
    },
    {
      "cell_type": "markdown",
      "metadata": {
        "id": "RfMGaaLq3ROR",
        "colab_type": "text"
      },
      "source": [
        "# Dummy baseline: MUST.. BEAT... 55%!"
      ]
    },
    {
      "cell_type": "code",
      "metadata": {
        "id": "JrniXOJPqS58",
        "colab_type": "code",
        "colab": {}
      },
      "source": [
        "from sklearn.model_selection import train_test_split"
      ],
      "execution_count": 0,
      "outputs": []
    },
    {
      "cell_type": "markdown",
      "metadata": {
        "id": "4d8qRrNbaHE4",
        "colab_type": "text"
      },
      "source": [
        "## Make sure these sets are in the right shape..."
      ]
    },
    {
      "cell_type": "code",
      "metadata": {
        "id": "HkQAWnV54wss",
        "colab_type": "code",
        "colab": {
          "base_uri": "https://localhost:8080/",
          "height": 35
        },
        "outputId": "bc602683-f878-4673-c01c-a56ad11d7b75"
      },
      "source": [
        "X = df.drop(columns='target')\n",
        "y = df['target']\n",
        "X.shape,y.shape"
      ],
      "execution_count": 20,
      "outputs": [
        {
          "output_type": "execute_result",
          "data": {
            "text/plain": [
              "((303, 13), (303,))"
            ]
          },
          "metadata": {
            "tags": []
          },
          "execution_count": 20
        }
      ]
    },
    {
      "cell_type": "code",
      "metadata": {
        "id": "T_n2ED1e4TFC",
        "colab_type": "code",
        "colab": {}
      },
      "source": [
        "X_train, X_test, y_train, y_test = train_test_split(\n",
        "    X, y, test_size=0.2, random_state=8\n",
        "    )"
      ],
      "execution_count": 0,
      "outputs": []
    },
    {
      "cell_type": "code",
      "metadata": {
        "id": "Xt5Q4sDiFM4x",
        "colab_type": "code",
        "colab": {
          "base_uri": "https://localhost:8080/",
          "height": 35
        },
        "outputId": "03dc62e9-2ce3-4a47-ffc2-73dd4421b97f"
      },
      "source": [
        "y_train.shape"
      ],
      "execution_count": 38,
      "outputs": [
        {
          "output_type": "execute_result",
          "data": {
            "text/plain": [
              "(242,)"
            ]
          },
          "metadata": {
            "tags": []
          },
          "execution_count": 38
        }
      ]
    },
    {
      "cell_type": "markdown",
      "metadata": {
        "id": "dcIMaFIOaP4k",
        "colab_type": "text"
      },
      "source": [
        "## Target was indeed detected and lopped off the X sets"
      ]
    },
    {
      "cell_type": "code",
      "metadata": {
        "id": "YO36zR8q4pfc",
        "colab_type": "code",
        "colab": {
          "base_uri": "https://localhost:8080/",
          "height": 194
        },
        "outputId": "62def7c5-5378-41bb-8980-5ac39084bbcc"
      },
      "source": [
        "X_train.head()"
      ],
      "execution_count": 22,
      "outputs": [
        {
          "output_type": "execute_result",
          "data": {
            "text/html": [
              "<div>\n",
              "<style scoped>\n",
              "    .dataframe tbody tr th:only-of-type {\n",
              "        vertical-align: middle;\n",
              "    }\n",
              "\n",
              "    .dataframe tbody tr th {\n",
              "        vertical-align: top;\n",
              "    }\n",
              "\n",
              "    .dataframe thead th {\n",
              "        text-align: right;\n",
              "    }\n",
              "</style>\n",
              "<table border=\"1\" class=\"dataframe\">\n",
              "  <thead>\n",
              "    <tr style=\"text-align: right;\">\n",
              "      <th></th>\n",
              "      <th>age</th>\n",
              "      <th>sex</th>\n",
              "      <th>cp</th>\n",
              "      <th>trestbps</th>\n",
              "      <th>chol</th>\n",
              "      <th>fbs</th>\n",
              "      <th>restecg</th>\n",
              "      <th>thalach</th>\n",
              "      <th>exang</th>\n",
              "      <th>oldpeak</th>\n",
              "      <th>slope</th>\n",
              "      <th>ca</th>\n",
              "      <th>thal</th>\n",
              "    </tr>\n",
              "  </thead>\n",
              "  <tbody>\n",
              "    <tr>\n",
              "      <th>105</th>\n",
              "      <td>68</td>\n",
              "      <td>0</td>\n",
              "      <td>2</td>\n",
              "      <td>120</td>\n",
              "      <td>211</td>\n",
              "      <td>0</td>\n",
              "      <td>0</td>\n",
              "      <td>115</td>\n",
              "      <td>0</td>\n",
              "      <td>1.5</td>\n",
              "      <td>1</td>\n",
              "      <td>0</td>\n",
              "      <td>2</td>\n",
              "    </tr>\n",
              "    <tr>\n",
              "      <th>208</th>\n",
              "      <td>49</td>\n",
              "      <td>1</td>\n",
              "      <td>2</td>\n",
              "      <td>120</td>\n",
              "      <td>188</td>\n",
              "      <td>0</td>\n",
              "      <td>1</td>\n",
              "      <td>139</td>\n",
              "      <td>0</td>\n",
              "      <td>2.0</td>\n",
              "      <td>1</td>\n",
              "      <td>3</td>\n",
              "      <td>3</td>\n",
              "    </tr>\n",
              "    <tr>\n",
              "      <th>34</th>\n",
              "      <td>51</td>\n",
              "      <td>1</td>\n",
              "      <td>3</td>\n",
              "      <td>125</td>\n",
              "      <td>213</td>\n",
              "      <td>0</td>\n",
              "      <td>0</td>\n",
              "      <td>125</td>\n",
              "      <td>1</td>\n",
              "      <td>1.4</td>\n",
              "      <td>2</td>\n",
              "      <td>1</td>\n",
              "      <td>2</td>\n",
              "    </tr>\n",
              "    <tr>\n",
              "      <th>227</th>\n",
              "      <td>35</td>\n",
              "      <td>1</td>\n",
              "      <td>0</td>\n",
              "      <td>120</td>\n",
              "      <td>198</td>\n",
              "      <td>0</td>\n",
              "      <td>1</td>\n",
              "      <td>130</td>\n",
              "      <td>1</td>\n",
              "      <td>1.6</td>\n",
              "      <td>1</td>\n",
              "      <td>0</td>\n",
              "      <td>3</td>\n",
              "    </tr>\n",
              "    <tr>\n",
              "      <th>218</th>\n",
              "      <td>65</td>\n",
              "      <td>1</td>\n",
              "      <td>0</td>\n",
              "      <td>135</td>\n",
              "      <td>254</td>\n",
              "      <td>0</td>\n",
              "      <td>0</td>\n",
              "      <td>127</td>\n",
              "      <td>0</td>\n",
              "      <td>2.8</td>\n",
              "      <td>1</td>\n",
              "      <td>1</td>\n",
              "      <td>3</td>\n",
              "    </tr>\n",
              "  </tbody>\n",
              "</table>\n",
              "</div>"
            ],
            "text/plain": [
              "     age  sex  cp  trestbps  chol  ...  exang  oldpeak  slope  ca  thal\n",
              "105   68    0   2       120   211  ...      0      1.5      1   0     2\n",
              "208   49    1   2       120   188  ...      0      2.0      1   3     3\n",
              "34    51    1   3       125   213  ...      1      1.4      2   1     2\n",
              "227   35    1   0       120   198  ...      1      1.6      1   0     3\n",
              "218   65    1   0       135   254  ...      0      2.8      1   1     3\n",
              "\n",
              "[5 rows x 13 columns]"
            ]
          },
          "metadata": {
            "tags": []
          },
          "execution_count": 22
        }
      ]
    },
    {
      "cell_type": "markdown",
      "metadata": {
        "id": "4rqyn6zXaWrQ",
        "colab_type": "text"
      },
      "source": [
        "## Scale and vectorize the data so it tastes better to the NN..."
      ]
    },
    {
      "cell_type": "code",
      "metadata": {
        "id": "7QWoo1gE5T1G",
        "colab_type": "code",
        "colab": {
          "base_uri": "https://localhost:8080/",
          "height": 124
        },
        "outputId": "ea7f6d3f-dd34-42ef-fdcf-260056b061fb"
      },
      "source": [
        "from sklearn.preprocessing import StandardScaler\n",
        "\n",
        "scaler = StandardScaler()\n",
        "\n",
        "X_train_std = scaler.fit_transform(X_train)\n",
        "X_test_std = scaler.transform(X_test)\n",
        "print(X_train_std[:2])"
      ],
      "execution_count": 23,
      "outputs": [
        {
          "output_type": "stream",
          "text": [
            "[[ 1.53962979 -1.50674161  1.0212897  -0.66803275 -0.66975521 -0.44499416\n",
            "  -1.01891157 -1.50786247 -0.69617712  0.46818543 -0.68117412 -0.74288354\n",
            "  -0.47096058]\n",
            " [-0.57230869  0.6636838   1.0212897  -0.66803275 -1.11434167 -0.44499416\n",
            "   0.89253495 -0.46016954 -0.69617712  0.91495543 -0.68117412  2.15675867\n",
            "   1.11199026]]\n"
          ],
          "name": "stdout"
        }
      ]
    },
    {
      "cell_type": "code",
      "metadata": {
        "id": "yclwen2WFYxJ",
        "colab_type": "code",
        "colab": {
          "base_uri": "https://localhost:8080/",
          "height": 35
        },
        "outputId": "ba29a111-547f-43ec-ac7e-2eac5e20b22f"
      },
      "source": [
        "X_train_std.shape"
      ],
      "execution_count": 39,
      "outputs": [
        {
          "output_type": "execute_result",
          "data": {
            "text/plain": [
              "(242, 13)"
            ]
          },
          "metadata": {
            "tags": []
          },
          "execution_count": 39
        }
      ]
    },
    {
      "cell_type": "markdown",
      "metadata": {
        "id": "b5jEAPlHahGe",
        "colab_type": "text"
      },
      "source": [
        "## Validation set for an initial baseline of the net"
      ]
    },
    {
      "cell_type": "code",
      "metadata": {
        "id": "hLMoEoMz5kD-",
        "colab_type": "code",
        "colab": {}
      },
      "source": [
        "X_train0, X_val, y_train0, y_val = train_test_split(\n",
        "    X_train, y_train, test_size=0.2, random_state=8\n",
        "    )"
      ],
      "execution_count": 0,
      "outputs": []
    },
    {
      "cell_type": "code",
      "metadata": {
        "id": "7o5TyQOpqS4R",
        "colab_type": "code",
        "colab": {
          "base_uri": "https://localhost:8080/",
          "height": 1000
        },
        "outputId": "a23a1fa4-fb56-4fdf-9ecb-b5f85916501b"
      },
      "source": [
        "stop = EarlyStopping(monitor='val_accuracy', min_delta=0.01, patience=16)\n",
        "\n",
        "model3 = Sequential([\n",
        "      Dense(32,activation='relu', input_dim=13),\n",
        "      Dense(64,activation='relu'),\n",
        "      Dense(16,activation='relu'),\n",
        "      Dense(4,activation='relu'),\n",
        "      Dense(1,activation='sigmoid')\n",
        "])\n",
        "\n",
        "model3.compile(optimizer='adam', loss='binary_crossentropy', metrics='accuracy')\n",
        "\n",
        "result3 = model3.fit(\n",
        "    X_train0,y_train0,\n",
        "    validation_data=(X_val,y_val),\n",
        "    epochs=100 #,callbacks=[stop]\n",
        "    )"
      ],
      "execution_count": 27,
      "outputs": [
        {
          "output_type": "stream",
          "text": [
            "Epoch 1/100\n",
            "7/7 [==============================] - 0s 20ms/step - loss: 2.5368 - accuracy: 0.4870 - val_loss: 1.1002 - val_accuracy: 0.4286\n",
            "Epoch 2/100\n",
            "7/7 [==============================] - 0s 9ms/step - loss: 0.7974 - accuracy: 0.5751 - val_loss: 0.9665 - val_accuracy: 0.4286\n",
            "Epoch 3/100\n",
            "7/7 [==============================] - 0s 9ms/step - loss: 0.7219 - accuracy: 0.5699 - val_loss: 0.6893 - val_accuracy: 0.5306\n",
            "Epoch 4/100\n",
            "7/7 [==============================] - 0s 10ms/step - loss: 0.7527 - accuracy: 0.5751 - val_loss: 0.6386 - val_accuracy: 0.6327\n",
            "Epoch 5/100\n",
            "7/7 [==============================] - 0s 9ms/step - loss: 0.6323 - accuracy: 0.6321 - val_loss: 0.7531 - val_accuracy: 0.4286\n",
            "Epoch 6/100\n",
            "7/7 [==============================] - 0s 10ms/step - loss: 0.6441 - accuracy: 0.5699 - val_loss: 0.8446 - val_accuracy: 0.4286\n",
            "Epoch 7/100\n",
            "7/7 [==============================] - 0s 10ms/step - loss: 0.7738 - accuracy: 0.5751 - val_loss: 0.7906 - val_accuracy: 0.4286\n",
            "Epoch 8/100\n",
            "7/7 [==============================] - 0s 9ms/step - loss: 0.7018 - accuracy: 0.6114 - val_loss: 0.6754 - val_accuracy: 0.5714\n",
            "Epoch 9/100\n",
            "7/7 [==============================] - 0s 9ms/step - loss: 0.7210 - accuracy: 0.5751 - val_loss: 0.6446 - val_accuracy: 0.6735\n",
            "Epoch 10/100\n",
            "7/7 [==============================] - 0s 10ms/step - loss: 0.6613 - accuracy: 0.6269 - val_loss: 0.6968 - val_accuracy: 0.4694\n",
            "Epoch 11/100\n",
            "7/7 [==============================] - 0s 9ms/step - loss: 0.7489 - accuracy: 0.6010 - val_loss: 0.7692 - val_accuracy: 0.4286\n",
            "Epoch 12/100\n",
            "7/7 [==============================] - 0s 9ms/step - loss: 0.7203 - accuracy: 0.5751 - val_loss: 0.7003 - val_accuracy: 0.4694\n",
            "Epoch 13/100\n",
            "7/7 [==============================] - 0s 9ms/step - loss: 0.6397 - accuracy: 0.6425 - val_loss: 0.6633 - val_accuracy: 0.6122\n",
            "Epoch 14/100\n",
            "7/7 [==============================] - 0s 9ms/step - loss: 0.6788 - accuracy: 0.6269 - val_loss: 0.6713 - val_accuracy: 0.6327\n",
            "Epoch 15/100\n",
            "7/7 [==============================] - 0s 9ms/step - loss: 0.6930 - accuracy: 0.6425 - val_loss: 0.6648 - val_accuracy: 0.6122\n",
            "Epoch 16/100\n",
            "7/7 [==============================] - 0s 9ms/step - loss: 0.6795 - accuracy: 0.6218 - val_loss: 0.6611 - val_accuracy: 0.6327\n",
            "Epoch 17/100\n",
            "7/7 [==============================] - 0s 9ms/step - loss: 0.6449 - accuracy: 0.6425 - val_loss: 0.6581 - val_accuracy: 0.6122\n",
            "Epoch 18/100\n",
            "7/7 [==============================] - 0s 10ms/step - loss: 0.6761 - accuracy: 0.6425 - val_loss: 0.6917 - val_accuracy: 0.4694\n",
            "Epoch 19/100\n",
            "7/7 [==============================] - 0s 9ms/step - loss: 0.6247 - accuracy: 0.6632 - val_loss: 0.6807 - val_accuracy: 0.5510\n",
            "Epoch 20/100\n",
            "7/7 [==============================] - 0s 9ms/step - loss: 0.6689 - accuracy: 0.6477 - val_loss: 0.7109 - val_accuracy: 0.4490\n",
            "Epoch 21/100\n",
            "7/7 [==============================] - 0s 10ms/step - loss: 0.6097 - accuracy: 0.5699 - val_loss: 0.7964 - val_accuracy: 0.4286\n",
            "Epoch 22/100\n",
            "7/7 [==============================] - 0s 9ms/step - loss: 0.7312 - accuracy: 0.5751 - val_loss: 0.7266 - val_accuracy: 0.4490\n",
            "Epoch 23/100\n",
            "7/7 [==============================] - 0s 9ms/step - loss: 0.6465 - accuracy: 0.6891 - val_loss: 0.6560 - val_accuracy: 0.6122\n",
            "Epoch 24/100\n",
            "7/7 [==============================] - 0s 10ms/step - loss: 0.6130 - accuracy: 0.6528 - val_loss: 0.6792 - val_accuracy: 0.5510\n",
            "Epoch 25/100\n",
            "7/7 [==============================] - 0s 9ms/step - loss: 0.7006 - accuracy: 0.6632 - val_loss: 0.7103 - val_accuracy: 0.4490\n",
            "Epoch 26/100\n",
            "7/7 [==============================] - 0s 9ms/step - loss: 0.6086 - accuracy: 0.6736 - val_loss: 0.6524 - val_accuracy: 0.6327\n",
            "Epoch 27/100\n",
            "7/7 [==============================] - 0s 10ms/step - loss: 0.6180 - accuracy: 0.6373 - val_loss: 0.6323 - val_accuracy: 0.7551\n",
            "Epoch 28/100\n",
            "7/7 [==============================] - 0s 10ms/step - loss: 0.6090 - accuracy: 0.6269 - val_loss: 0.6360 - val_accuracy: 0.6735\n",
            "Epoch 29/100\n",
            "7/7 [==============================] - 0s 9ms/step - loss: 0.6465 - accuracy: 0.6788 - val_loss: 0.6919 - val_accuracy: 0.5306\n",
            "Epoch 30/100\n",
            "7/7 [==============================] - 0s 9ms/step - loss: 0.5763 - accuracy: 0.6425 - val_loss: 0.7775 - val_accuracy: 0.4490\n",
            "Epoch 31/100\n",
            "7/7 [==============================] - 0s 9ms/step - loss: 0.6465 - accuracy: 0.6062 - val_loss: 0.6970 - val_accuracy: 0.5102\n",
            "Epoch 32/100\n",
            "7/7 [==============================] - 0s 9ms/step - loss: 0.5705 - accuracy: 0.6632 - val_loss: 0.6186 - val_accuracy: 0.7143\n",
            "Epoch 33/100\n",
            "7/7 [==============================] - 0s 9ms/step - loss: 0.6489 - accuracy: 0.6010 - val_loss: 0.6202 - val_accuracy: 0.7551\n",
            "Epoch 34/100\n",
            "7/7 [==============================] - 0s 9ms/step - loss: 0.6767 - accuracy: 0.6477 - val_loss: 0.6448 - val_accuracy: 0.6122\n",
            "Epoch 35/100\n",
            "7/7 [==============================] - 0s 10ms/step - loss: 0.5872 - accuracy: 0.6632 - val_loss: 0.6712 - val_accuracy: 0.5510\n",
            "Epoch 36/100\n",
            "7/7 [==============================] - 0s 10ms/step - loss: 0.5888 - accuracy: 0.6839 - val_loss: 0.6839 - val_accuracy: 0.5102\n",
            "Epoch 37/100\n",
            "7/7 [==============================] - 0s 9ms/step - loss: 0.5542 - accuracy: 0.6788 - val_loss: 0.6540 - val_accuracy: 0.5714\n",
            "Epoch 38/100\n",
            "7/7 [==============================] - 0s 10ms/step - loss: 0.5624 - accuracy: 0.6736 - val_loss: 0.6976 - val_accuracy: 0.5306\n",
            "Epoch 39/100\n",
            "7/7 [==============================] - 0s 9ms/step - loss: 0.5368 - accuracy: 0.6632 - val_loss: 0.7084 - val_accuracy: 0.5102\n",
            "Epoch 40/100\n",
            "7/7 [==============================] - 0s 9ms/step - loss: 0.5869 - accuracy: 0.6788 - val_loss: 0.6664 - val_accuracy: 0.5306\n",
            "Epoch 41/100\n",
            "7/7 [==============================] - 0s 9ms/step - loss: 0.6055 - accuracy: 0.7047 - val_loss: 0.6891 - val_accuracy: 0.4898\n",
            "Epoch 42/100\n",
            "7/7 [==============================] - 0s 10ms/step - loss: 0.6056 - accuracy: 0.6580 - val_loss: 0.8119 - val_accuracy: 0.4490\n",
            "Epoch 43/100\n",
            "7/7 [==============================] - 0s 9ms/step - loss: 0.6553 - accuracy: 0.6736 - val_loss: 0.6726 - val_accuracy: 0.5306\n",
            "Epoch 44/100\n",
            "7/7 [==============================] - 0s 9ms/step - loss: 0.5890 - accuracy: 0.6839 - val_loss: 0.6727 - val_accuracy: 0.5306\n",
            "Epoch 45/100\n",
            "7/7 [==============================] - 0s 10ms/step - loss: 0.5391 - accuracy: 0.6373 - val_loss: 0.8218 - val_accuracy: 0.4898\n",
            "Epoch 46/100\n",
            "7/7 [==============================] - 0s 10ms/step - loss: 0.5734 - accuracy: 0.6373 - val_loss: 0.6834 - val_accuracy: 0.4898\n",
            "Epoch 47/100\n",
            "7/7 [==============================] - 0s 9ms/step - loss: 0.5181 - accuracy: 0.6995 - val_loss: 0.6821 - val_accuracy: 0.4898\n",
            "Epoch 48/100\n",
            "7/7 [==============================] - 0s 9ms/step - loss: 0.5057 - accuracy: 0.7202 - val_loss: 0.6830 - val_accuracy: 0.5714\n",
            "Epoch 49/100\n",
            "7/7 [==============================] - 0s 10ms/step - loss: 0.5495 - accuracy: 0.7306 - val_loss: 0.7105 - val_accuracy: 0.4898\n",
            "Epoch 50/100\n",
            "7/7 [==============================] - 0s 9ms/step - loss: 0.4846 - accuracy: 0.6839 - val_loss: 0.7434 - val_accuracy: 0.4898\n",
            "Epoch 51/100\n",
            "7/7 [==============================] - 0s 9ms/step - loss: 0.4949 - accuracy: 0.6943 - val_loss: 0.7069 - val_accuracy: 0.4898\n",
            "Epoch 52/100\n",
            "7/7 [==============================] - 0s 10ms/step - loss: 0.5243 - accuracy: 0.6995 - val_loss: 0.6882 - val_accuracy: 0.5918\n",
            "Epoch 53/100\n",
            "7/7 [==============================] - 0s 9ms/step - loss: 0.6187 - accuracy: 0.6943 - val_loss: 0.7148 - val_accuracy: 0.4898\n",
            "Epoch 54/100\n",
            "7/7 [==============================] - 0s 9ms/step - loss: 0.6397 - accuracy: 0.6632 - val_loss: 0.8267 - val_accuracy: 0.4490\n",
            "Epoch 55/100\n",
            "7/7 [==============================] - 0s 9ms/step - loss: 0.5265 - accuracy: 0.7306 - val_loss: 0.6789 - val_accuracy: 0.7143\n",
            "Epoch 56/100\n",
            "7/7 [==============================] - 0s 9ms/step - loss: 0.6535 - accuracy: 0.7098 - val_loss: 0.7224 - val_accuracy: 0.4898\n",
            "Epoch 57/100\n",
            "7/7 [==============================] - 0s 9ms/step - loss: 0.6971 - accuracy: 0.7150 - val_loss: 0.7106 - val_accuracy: 0.4898\n",
            "Epoch 58/100\n",
            "7/7 [==============================] - 0s 9ms/step - loss: 0.7939 - accuracy: 0.6788 - val_loss: 0.8459 - val_accuracy: 0.4694\n",
            "Epoch 59/100\n",
            "7/7 [==============================] - 0s 9ms/step - loss: 0.6026 - accuracy: 0.7254 - val_loss: 0.6672 - val_accuracy: 0.7143\n",
            "Epoch 60/100\n",
            "7/7 [==============================] - 0s 9ms/step - loss: 0.6059 - accuracy: 0.6684 - val_loss: 0.6687 - val_accuracy: 0.5306\n",
            "Epoch 61/100\n",
            "7/7 [==============================] - 0s 9ms/step - loss: 0.6907 - accuracy: 0.6684 - val_loss: 0.7986 - val_accuracy: 0.4694\n",
            "Epoch 62/100\n",
            "7/7 [==============================] - 0s 9ms/step - loss: 0.5159 - accuracy: 0.6943 - val_loss: 0.6346 - val_accuracy: 0.6939\n",
            "Epoch 63/100\n",
            "7/7 [==============================] - 0s 10ms/step - loss: 0.5520 - accuracy: 0.7098 - val_loss: 0.6541 - val_accuracy: 0.5714\n",
            "Epoch 64/100\n",
            "7/7 [==============================] - 0s 12ms/step - loss: 0.5513 - accuracy: 0.6995 - val_loss: 0.7456 - val_accuracy: 0.4694\n",
            "Epoch 65/100\n",
            "7/7 [==============================] - 0s 9ms/step - loss: 0.5213 - accuracy: 0.6684 - val_loss: 0.6796 - val_accuracy: 0.5306\n",
            "Epoch 66/100\n",
            "7/7 [==============================] - 0s 10ms/step - loss: 0.5373 - accuracy: 0.7202 - val_loss: 0.6732 - val_accuracy: 0.7143\n",
            "Epoch 67/100\n",
            "7/7 [==============================] - 0s 10ms/step - loss: 0.5475 - accuracy: 0.7254 - val_loss: 0.7724 - val_accuracy: 0.4694\n",
            "Epoch 68/100\n",
            "7/7 [==============================] - 0s 9ms/step - loss: 0.5350 - accuracy: 0.6580 - val_loss: 0.7986 - val_accuracy: 0.4490\n",
            "Epoch 69/100\n",
            "7/7 [==============================] - 0s 9ms/step - loss: 0.5408 - accuracy: 0.6891 - val_loss: 0.6881 - val_accuracy: 0.5714\n",
            "Epoch 70/100\n",
            "7/7 [==============================] - 0s 9ms/step - loss: 0.5534 - accuracy: 0.7617 - val_loss: 0.7604 - val_accuracy: 0.4898\n",
            "Epoch 71/100\n",
            "7/7 [==============================] - 0s 9ms/step - loss: 0.5616 - accuracy: 0.6528 - val_loss: 0.8786 - val_accuracy: 0.4694\n",
            "Epoch 72/100\n",
            "7/7 [==============================] - 0s 9ms/step - loss: 0.5421 - accuracy: 0.6736 - val_loss: 0.6963 - val_accuracy: 0.6327\n",
            "Epoch 73/100\n",
            "7/7 [==============================] - 0s 10ms/step - loss: 0.5606 - accuracy: 0.7098 - val_loss: 0.6973 - val_accuracy: 0.5918\n",
            "Epoch 74/100\n",
            "7/7 [==============================] - 0s 9ms/step - loss: 0.7084 - accuracy: 0.6736 - val_loss: 0.8598 - val_accuracy: 0.4694\n",
            "Epoch 75/100\n",
            "7/7 [==============================] - 0s 9ms/step - loss: 0.4794 - accuracy: 0.6891 - val_loss: 0.6780 - val_accuracy: 0.6735\n",
            "Epoch 76/100\n",
            "7/7 [==============================] - 0s 9ms/step - loss: 0.5527 - accuracy: 0.7098 - val_loss: 0.6730 - val_accuracy: 0.6735\n",
            "Epoch 77/100\n",
            "7/7 [==============================] - 0s 10ms/step - loss: 0.5155 - accuracy: 0.7150 - val_loss: 0.6766 - val_accuracy: 0.5918\n",
            "Epoch 78/100\n",
            "7/7 [==============================] - 0s 10ms/step - loss: 0.8807 - accuracy: 0.7358 - val_loss: 0.7641 - val_accuracy: 0.4694\n",
            "Epoch 79/100\n",
            "7/7 [==============================] - 0s 9ms/step - loss: 0.6645 - accuracy: 0.5959 - val_loss: 1.3058 - val_accuracy: 0.4286\n",
            "Epoch 80/100\n",
            "7/7 [==============================] - 0s 9ms/step - loss: 1.0092 - accuracy: 0.5751 - val_loss: 0.9507 - val_accuracy: 0.4286\n",
            "Epoch 81/100\n",
            "7/7 [==============================] - 0s 9ms/step - loss: 0.6581 - accuracy: 0.5751 - val_loss: 0.7201 - val_accuracy: 0.4286\n",
            "Epoch 82/100\n",
            "7/7 [==============================] - 0s 10ms/step - loss: 0.6601 - accuracy: 0.5751 - val_loss: 0.6949 - val_accuracy: 0.4286\n",
            "Epoch 83/100\n",
            "7/7 [==============================] - 0s 9ms/step - loss: 0.6562 - accuracy: 0.5959 - val_loss: 0.6952 - val_accuracy: 0.4286\n",
            "Epoch 84/100\n",
            "7/7 [==============================] - 0s 10ms/step - loss: 0.6743 - accuracy: 0.5803 - val_loss: 0.7035 - val_accuracy: 0.4286\n",
            "Epoch 85/100\n",
            "7/7 [==============================] - 0s 11ms/step - loss: 0.6576 - accuracy: 0.5803 - val_loss: 0.7051 - val_accuracy: 0.4286\n",
            "Epoch 86/100\n",
            "7/7 [==============================] - 0s 11ms/step - loss: 0.6561 - accuracy: 0.5803 - val_loss: 0.7008 - val_accuracy: 0.4286\n",
            "Epoch 87/100\n",
            "7/7 [==============================] - 0s 9ms/step - loss: 0.6164 - accuracy: 0.6062 - val_loss: 0.6948 - val_accuracy: 0.4694\n",
            "Epoch 88/100\n",
            "7/7 [==============================] - 0s 9ms/step - loss: 0.6551 - accuracy: 0.6062 - val_loss: 0.7033 - val_accuracy: 0.4490\n",
            "Epoch 89/100\n",
            "7/7 [==============================] - 0s 9ms/step - loss: 0.5947 - accuracy: 0.6321 - val_loss: 0.6990 - val_accuracy: 0.4694\n",
            "Epoch 90/100\n",
            "7/7 [==============================] - 0s 9ms/step - loss: 0.6074 - accuracy: 0.6528 - val_loss: 0.7112 - val_accuracy: 0.4898\n",
            "Epoch 91/100\n",
            "7/7 [==============================] - 0s 11ms/step - loss: 0.6088 - accuracy: 0.6684 - val_loss: 0.7149 - val_accuracy: 0.4490\n",
            "Epoch 92/100\n",
            "7/7 [==============================] - 0s 9ms/step - loss: 0.5757 - accuracy: 0.7098 - val_loss: 0.7077 - val_accuracy: 0.5102\n",
            "Epoch 93/100\n",
            "7/7 [==============================] - 0s 10ms/step - loss: 0.5935 - accuracy: 0.7098 - val_loss: 0.7389 - val_accuracy: 0.4898\n",
            "Epoch 94/100\n",
            "7/7 [==============================] - 0s 9ms/step - loss: 0.6090 - accuracy: 0.7047 - val_loss: 0.7340 - val_accuracy: 0.4898\n",
            "Epoch 95/100\n",
            "7/7 [==============================] - 0s 9ms/step - loss: 0.5317 - accuracy: 0.7306 - val_loss: 0.7107 - val_accuracy: 0.5102\n",
            "Epoch 96/100\n",
            "7/7 [==============================] - 0s 9ms/step - loss: 0.5262 - accuracy: 0.7202 - val_loss: 0.7336 - val_accuracy: 0.5102\n",
            "Epoch 97/100\n",
            "7/7 [==============================] - 0s 9ms/step - loss: 0.5506 - accuracy: 0.7098 - val_loss: 0.7493 - val_accuracy: 0.5102\n",
            "Epoch 98/100\n",
            "7/7 [==============================] - 0s 9ms/step - loss: 0.5363 - accuracy: 0.7150 - val_loss: 0.7780 - val_accuracy: 0.4898\n",
            "Epoch 99/100\n",
            "7/7 [==============================] - 0s 9ms/step - loss: 0.5955 - accuracy: 0.7202 - val_loss: 0.7539 - val_accuracy: 0.5102\n",
            "Epoch 100/100\n",
            "7/7 [==============================] - 0s 9ms/step - loss: 0.5141 - accuracy: 0.7202 - val_loss: 0.7560 - val_accuracy: 0.5102\n"
          ],
          "name": "stdout"
        }
      ]
    },
    {
      "cell_type": "code",
      "metadata": {
        "id": "Skz062s29bQg",
        "colab_type": "code",
        "colab": {
          "base_uri": "https://localhost:8080/",
          "height": 35
        },
        "outputId": "7bfe223c-ba28-41e4-c17d-13a04e6c2e4c"
      },
      "source": [
        "max(result3.history['val_accuracy'])"
      ],
      "execution_count": 30,
      "outputs": [
        {
          "output_type": "execute_result",
          "data": {
            "text/plain": [
              "0.7551020383834839"
            ]
          },
          "metadata": {
            "tags": []
          },
          "execution_count": 30
        }
      ]
    },
    {
      "cell_type": "markdown",
      "metadata": {
        "id": "K3NR1ilk-YK_",
        "colab_type": "text"
      },
      "source": [
        "## 75.51% accuracy. Baseline Net beats dummy baseline by 20%"
      ]
    },
    {
      "cell_type": "code",
      "metadata": {
        "id": "QPDUxAt--Rrb",
        "colab_type": "code",
        "colab": {}
      },
      "source": [
        "from sklearn.model_selection import GridSearchCV, RandomizedSearchCV\n",
        "from tensorflow.keras.wrappers.scikit_learn import KerasClassifier\n",
        "import numpy as np"
      ],
      "execution_count": 0,
      "outputs": []
    },
    {
      "cell_type": "markdown",
      "metadata": {
        "id": "XXStz3VKawBO",
        "colab_type": "text"
      },
      "source": [
        "## Hyperparameter tuning with GridSearchCV"
      ]
    },
    {
      "cell_type": "code",
      "metadata": {
        "id": "_i3TqvTo-xm7",
        "colab_type": "code",
        "colab": {
          "base_uri": "https://localhost:8080/",
          "height": 1000
        },
        "outputId": "0751bfe2-05ca-4b8f-c039-118bfdf704ca"
      },
      "source": [
        "from tensorflow.keras.optimizers import Adam, SGD, Nadam, Adadelta\n",
        "np.random.seed(8)\n",
        "\n",
        "def create_model(learning_rate=0.01, optimizer=Adam()):\n",
        "  model = Sequential()\n",
        "  model.add(Dense(32,activation='relu', input_dim=13))\n",
        "  # model.add(Dense(32,activation='relu'))\n",
        "  model.add(Dense(64,activation='relu'))\n",
        "  model.add(Dense(16,activation='relu'))\n",
        "  model.add(Dense(4,activation='relu'))\n",
        "  model.add(Dense(1,activation='relu'))\n",
        "  optim = optimizer(learning_rate=learning_rate)\n",
        "  model.compile(optimizer=optim, loss='binary_crossentropy', metrics='accuracy')\n",
        "  return model\n",
        "\n",
        "model4 = KerasClassifier(build_fn=create_model, verbose=0)\n",
        "\n",
        "para_grid = {\n",
        "    'batch_size': [8, 16, 32, 64], 'epochs': [20],\n",
        "    'learning_rate': [0.001, 0.01, 0.1, 1],\n",
        "    'optimizer': [Adam, SGD, Nadam, Adadelta],\n",
        "    }\n",
        "\n",
        "grid = GridSearchCV(estimator=model4, param_grid=para_grid, n_jobs=1)\n",
        "grid_result = grid.fit(X_train_std, y_train)\n",
        "\n",
        "print(f\"Best: {grid_result.best_score_} using {grid_result.best_params_}\")\n",
        "means = grid_result.cv_results_['mean_test_score']\n",
        "stds = grid_result.cv_results_['std_test_score']\n",
        "params = grid_result.cv_results_['params']\n",
        "for mean, stdev, param in zip(means, stds, params):\n",
        "    print(f\"Means: {mean}, Stdev: {stdev} with: {param}\") "
      ],
      "execution_count": 50,
      "outputs": [
        {
          "output_type": "stream",
          "text": [
            "Best: 0.8060374140739441 using {'batch_size': 8, 'epochs': 20, 'learning_rate': 0.001, 'optimizer': <class 'tensorflow.python.keras.optimizer_v2.nadam.Nadam'>}\n",
            "Means: 0.7238945603370667, Stdev: 0.09917628670246556 with: {'batch_size': 8, 'epochs': 20, 'learning_rate': 0.001, 'optimizer': <class 'tensorflow.python.keras.optimizer_v2.adam.Adam'>}\n",
            "Means: 0.7193877458572387, Stdev: 0.09600222082713292 with: {'batch_size': 8, 'epochs': 20, 'learning_rate': 0.001, 'optimizer': <class 'tensorflow.python.keras.optimizer_v2.gradient_descent.SGD'>}\n",
            "Means: 0.8060374140739441, Stdev: 0.07005140016116233 with: {'batch_size': 8, 'epochs': 20, 'learning_rate': 0.001, 'optimizer': <class 'tensorflow.python.keras.optimizer_v2.nadam.Nadam'>}\n",
            "Means: 0.44991496205329895, Stdev: 0.07468600550116017 with: {'batch_size': 8, 'epochs': 20, 'learning_rate': 0.001, 'optimizer': <class 'tensorflow.python.keras.optimizer_v2.adadelta.Adadelta'>}\n",
            "Means: 0.5415816247463227, Stdev: 0.18662716242649874 with: {'batch_size': 8, 'epochs': 20, 'learning_rate': 0.01, 'optimizer': <class 'tensorflow.python.keras.optimizer_v2.adam.Adam'>}\n",
            "Means: 0.7192176938056946, Stdev: 0.11771811381162876 with: {'batch_size': 8, 'epochs': 20, 'learning_rate': 0.01, 'optimizer': <class 'tensorflow.python.keras.optimizer_v2.gradient_descent.SGD'>}\n",
            "Means: 0.5520408153533936, Stdev: 0.17245048745823616 with: {'batch_size': 8, 'epochs': 20, 'learning_rate': 0.01, 'optimizer': <class 'tensorflow.python.keras.optimizer_v2.nadam.Nadam'>}\n",
            "Means: 0.46224490404129026, Stdev: 0.08184602743382084 with: {'batch_size': 8, 'epochs': 20, 'learning_rate': 0.01, 'optimizer': <class 'tensorflow.python.keras.optimizer_v2.adadelta.Adadelta'>}\n",
            "Means: 0.4663265228271484, Stdev: 0.07631601782862762 with: {'batch_size': 8, 'epochs': 20, 'learning_rate': 0.1, 'optimizer': <class 'tensorflow.python.keras.optimizer_v2.adam.Adam'>}\n",
            "Means: 0.5336734712123871, Stdev: 0.07631602444342245 with: {'batch_size': 8, 'epochs': 20, 'learning_rate': 0.1, 'optimizer': <class 'tensorflow.python.keras.optimizer_v2.gradient_descent.SGD'>}\n",
            "Means: 0.4959183633327484, Stdev: 0.0833149355905474 with: {'batch_size': 8, 'epochs': 20, 'learning_rate': 0.1, 'optimizer': <class 'tensorflow.python.keras.optimizer_v2.nadam.Nadam'>}\n",
            "Means: 0.474914962053299, Stdev: 0.05736361348173891 with: {'batch_size': 8, 'epochs': 20, 'learning_rate': 0.1, 'optimizer': <class 'tensorflow.python.keras.optimizer_v2.adadelta.Adadelta'>}\n",
            "Means: 0.5336734712123871, Stdev: 0.07631602444342245 with: {'batch_size': 8, 'epochs': 20, 'learning_rate': 1, 'optimizer': <class 'tensorflow.python.keras.optimizer_v2.adam.Adam'>}\n",
            "Means: 0.5336734712123871, Stdev: 0.07631602444342245 with: {'batch_size': 8, 'epochs': 20, 'learning_rate': 1, 'optimizer': <class 'tensorflow.python.keras.optimizer_v2.gradient_descent.SGD'>}\n",
            "Means: 0.4959183633327484, Stdev: 0.0833149355905474 with: {'batch_size': 8, 'epochs': 20, 'learning_rate': 1, 'optimizer': <class 'tensorflow.python.keras.optimizer_v2.nadam.Nadam'>}\n",
            "Means: 0.6068027257919312, Stdev: 0.17107069654812934 with: {'batch_size': 8, 'epochs': 20, 'learning_rate': 1, 'optimizer': <class 'tensorflow.python.keras.optimizer_v2.adadelta.Adadelta'>}\n",
            "Means: 0.6734693884849549, Stdev: 0.1825470641028649 with: {'batch_size': 16, 'epochs': 20, 'learning_rate': 0.001, 'optimizer': <class 'tensorflow.python.keras.optimizer_v2.adam.Adam'>}\n",
            "Means: 0.619812935590744, Stdev: 0.10044616663660969 with: {'batch_size': 16, 'epochs': 20, 'learning_rate': 0.001, 'optimizer': <class 'tensorflow.python.keras.optimizer_v2.gradient_descent.SGD'>}\n",
            "Means: 0.7393707513809205, Stdev: 0.1285516330929233 with: {'batch_size': 16, 'epochs': 20, 'learning_rate': 0.001, 'optimizer': <class 'tensorflow.python.keras.optimizer_v2.nadam.Nadam'>}\n",
            "Means: 0.4581632733345032, Stdev: 0.07554812323171135 with: {'batch_size': 16, 'epochs': 20, 'learning_rate': 0.001, 'optimizer': <class 'tensorflow.python.keras.optimizer_v2.adadelta.Adadelta'>}\n",
            "Means: 0.7278911590576171, Stdev: 0.134734235423411 with: {'batch_size': 16, 'epochs': 20, 'learning_rate': 0.01, 'optimizer': <class 'tensorflow.python.keras.optimizer_v2.adam.Adam'>}\n",
            "Means: 0.7393707394599914, Stdev: 0.18925484123939082 with: {'batch_size': 16, 'epochs': 20, 'learning_rate': 0.01, 'optimizer': <class 'tensorflow.python.keras.optimizer_v2.gradient_descent.SGD'>}\n",
            "Means: 0.7318027257919312, Stdev: 0.10014878043545831 with: {'batch_size': 16, 'epochs': 20, 'learning_rate': 0.01, 'optimizer': <class 'tensorflow.python.keras.optimizer_v2.nadam.Nadam'>}\n",
            "Means: 0.4665816366672516, Stdev: 0.07234370506559203 with: {'batch_size': 16, 'epochs': 20, 'learning_rate': 0.01, 'optimizer': <class 'tensorflow.python.keras.optimizer_v2.adadelta.Adadelta'>}\n",
            "Means: 0.4836734712123871, Stdev: 0.08180148353231598 with: {'batch_size': 16, 'epochs': 20, 'learning_rate': 0.1, 'optimizer': <class 'tensorflow.python.keras.optimizer_v2.adam.Adam'>}\n",
            "Means: 0.4459183633327484, Stdev: 0.06350759659861098 with: {'batch_size': 16, 'epochs': 20, 'learning_rate': 0.1, 'optimizer': <class 'tensorflow.python.keras.optimizer_v2.gradient_descent.SGD'>}\n",
            "Means: 0.5163265228271484, Stdev: 0.08180148100434716 with: {'batch_size': 16, 'epochs': 20, 'learning_rate': 0.1, 'optimizer': <class 'tensorflow.python.keras.optimizer_v2.nadam.Nadam'>}\n",
            "Means: 0.46241496205329896, Stdev: 0.11927262447046628 with: {'batch_size': 16, 'epochs': 20, 'learning_rate': 0.1, 'optimizer': <class 'tensorflow.python.keras.optimizer_v2.adadelta.Adadelta'>}\n",
            "Means: 0.5163265228271484, Stdev: 0.08180148100434714 with: {'batch_size': 16, 'epochs': 20, 'learning_rate': 1, 'optimizer': <class 'tensorflow.python.keras.optimizer_v2.adam.Adam'>}\n",
            "Means: 0.5459183633327485, Stdev: 0.06963865420283638 with: {'batch_size': 16, 'epochs': 20, 'learning_rate': 1, 'optimizer': <class 'tensorflow.python.keras.optimizer_v2.gradient_descent.SGD'>}\n",
            "Means: 0.4459183633327484, Stdev: 0.06350759659861098 with: {'batch_size': 16, 'epochs': 20, 'learning_rate': 1, 'optimizer': <class 'tensorflow.python.keras.optimizer_v2.nadam.Nadam'>}\n",
            "Means: 0.6776360511779785, Stdev: 0.18957940283388053 with: {'batch_size': 16, 'epochs': 20, 'learning_rate': 1, 'optimizer': <class 'tensorflow.python.keras.optimizer_v2.adadelta.Adadelta'>}\n",
            "Means: 0.8018707394599914, Stdev: 0.041585896969912356 with: {'batch_size': 32, 'epochs': 20, 'learning_rate': 0.001, 'optimizer': <class 'tensorflow.python.keras.optimizer_v2.adam.Adam'>}\n",
            "Means: 0.5370748281478882, Stdev: 0.1189024788778012 with: {'batch_size': 32, 'epochs': 20, 'learning_rate': 0.001, 'optimizer': <class 'tensorflow.python.keras.optimizer_v2.gradient_descent.SGD'>}\n",
            "Means: 0.6320578217506408, Stdev: 0.18715474172319113 with: {'batch_size': 32, 'epochs': 20, 'learning_rate': 0.001, 'optimizer': <class 'tensorflow.python.keras.optimizer_v2.nadam.Nadam'>}\n",
            "Means: 0.4540816307067871, Stdev: 0.06963864590571883 with: {'batch_size': 32, 'epochs': 20, 'learning_rate': 0.001, 'optimizer': <class 'tensorflow.python.keras.optimizer_v2.adadelta.Adadelta'>}\n",
            "Means: 0.7103741526603699, Stdev: 0.18001348951079685 with: {'batch_size': 32, 'epochs': 20, 'learning_rate': 0.01, 'optimizer': <class 'tensorflow.python.keras.optimizer_v2.adam.Adam'>}\n",
            "Means: 0.6749149680137634, Stdev: 0.14028102384267596 with: {'batch_size': 32, 'epochs': 20, 'learning_rate': 0.01, 'optimizer': <class 'tensorflow.python.keras.optimizer_v2.gradient_descent.SGD'>}\n",
            "Means: 0.7320578336715698, Stdev: 0.13694605380855654 with: {'batch_size': 32, 'epochs': 20, 'learning_rate': 0.01, 'optimizer': <class 'tensorflow.python.keras.optimizer_v2.nadam.Nadam'>}\n",
            "Means: 0.4580782353878021, Stdev: 0.08657515770162046 with: {'batch_size': 32, 'epochs': 20, 'learning_rate': 0.01, 'optimizer': <class 'tensorflow.python.keras.optimizer_v2.adadelta.Adadelta'>}\n",
            "Means: 0.5459183633327485, Stdev: 0.06963865420283638 with: {'batch_size': 32, 'epochs': 20, 'learning_rate': 0.1, 'optimizer': <class 'tensorflow.python.keras.optimizer_v2.adam.Adam'>}\n",
            "Means: 0.5540816307067871, Stdev: 0.0635075968859212 with: {'batch_size': 32, 'epochs': 20, 'learning_rate': 0.1, 'optimizer': <class 'tensorflow.python.keras.optimizer_v2.gradient_descent.SGD'>}\n",
            "Means: 0.4836734712123871, Stdev: 0.08180148353231598 with: {'batch_size': 32, 'epochs': 20, 'learning_rate': 0.1, 'optimizer': <class 'tensorflow.python.keras.optimizer_v2.nadam.Nadam'>}\n",
            "Means: 0.4540816307067871, Stdev: 0.06963864590571883 with: {'batch_size': 32, 'epochs': 20, 'learning_rate': 0.1, 'optimizer': <class 'tensorflow.python.keras.optimizer_v2.adadelta.Adadelta'>}\n",
            "Means: 0.46632652878761294, Stdev: 0.09568741084835132 with: {'batch_size': 32, 'epochs': 20, 'learning_rate': 1, 'optimizer': <class 'tensorflow.python.keras.optimizer_v2.adam.Adam'>}\n",
            "Means: 0.5663265228271485, Stdev: 0.05058487928017347 with: {'batch_size': 32, 'epochs': 20, 'learning_rate': 1, 'optimizer': <class 'tensorflow.python.keras.optimizer_v2.gradient_descent.SGD'>}\n",
            "Means: 0.5459183633327485, Stdev: 0.06963865420283638 with: {'batch_size': 32, 'epochs': 20, 'learning_rate': 1, 'optimizer': <class 'tensorflow.python.keras.optimizer_v2.nadam.Nadam'>}\n",
            "Means: 0.8016156554222107, Stdev: 0.04481913941419346 with: {'batch_size': 32, 'epochs': 20, 'learning_rate': 1, 'optimizer': <class 'tensorflow.python.keras.optimizer_v2.adadelta.Adadelta'>}\n",
            "Means: 0.6724489748477935, Stdev: 0.1501476780292913 with: {'batch_size': 64, 'epochs': 20, 'learning_rate': 0.001, 'optimizer': <class 'tensorflow.python.keras.optimizer_v2.adam.Adam'>}\n",
            "Means: 0.5411564588546753, Stdev: 0.10648396853905416 with: {'batch_size': 64, 'epochs': 20, 'learning_rate': 0.001, 'optimizer': <class 'tensorflow.python.keras.optimizer_v2.gradient_descent.SGD'>}\n",
            "Means: 0.7606292486190795, Stdev: 0.07015126797488423 with: {'batch_size': 64, 'epochs': 20, 'learning_rate': 0.001, 'optimizer': <class 'tensorflow.python.keras.optimizer_v2.nadam.Nadam'>}\n",
            "Means: 0.45841836333274844, Stdev: 0.08272388679835295 with: {'batch_size': 64, 'epochs': 20, 'learning_rate': 0.001, 'optimizer': <class 'tensorflow.python.keras.optimizer_v2.adadelta.Adadelta'>}\n",
            "Means: 0.657227897644043, Stdev: 0.19546366143923977 with: {'batch_size': 64, 'epochs': 20, 'learning_rate': 0.01, 'optimizer': <class 'tensorflow.python.keras.optimizer_v2.adam.Adam'>}\n",
            "Means: 0.7113095283508301, Stdev: 0.11737467585257622 with: {'batch_size': 64, 'epochs': 20, 'learning_rate': 0.01, 'optimizer': <class 'tensorflow.python.keras.optimizer_v2.gradient_descent.SGD'>}\n",
            "Means: 0.784948980808258, Stdev: 0.08951395150104713 with: {'batch_size': 64, 'epochs': 20, 'learning_rate': 0.01, 'optimizer': <class 'tensorflow.python.keras.optimizer_v2.nadam.Nadam'>}\n",
            "Means: 0.4540816307067871, Stdev: 0.06963864590571883 with: {'batch_size': 64, 'epochs': 20, 'learning_rate': 0.01, 'optimizer': <class 'tensorflow.python.keras.optimizer_v2.adadelta.Adadelta'>}\n",
            "Means: 0.5459183633327485, Stdev: 0.06963865420283638 with: {'batch_size': 64, 'epochs': 20, 'learning_rate': 0.1, 'optimizer': <class 'tensorflow.python.keras.optimizer_v2.adam.Adam'>}\n",
            "Means: 0.4836734712123871, Stdev: 0.08180148353231598 with: {'batch_size': 64, 'epochs': 20, 'learning_rate': 0.1, 'optimizer': <class 'tensorflow.python.keras.optimizer_v2.gradient_descent.SGD'>}\n",
            "Means: 0.6651360511779785, Stdev: 0.14471620217895223 with: {'batch_size': 64, 'epochs': 20, 'learning_rate': 0.1, 'optimizer': <class 'tensorflow.python.keras.optimizer_v2.nadam.Nadam'>}\n",
            "Means: 0.48316327333450315, Stdev: 0.17043871407960307 with: {'batch_size': 64, 'epochs': 20, 'learning_rate': 0.1, 'optimizer': <class 'tensorflow.python.keras.optimizer_v2.adadelta.Adadelta'>}\n",
            "Means: 0.4959183633327484, Stdev: 0.0833149355905474 with: {'batch_size': 64, 'epochs': 20, 'learning_rate': 1, 'optimizer': <class 'tensorflow.python.keras.optimizer_v2.adam.Adam'>}\n",
            "Means: 0.5459183633327485, Stdev: 0.06963865420283638 with: {'batch_size': 64, 'epochs': 20, 'learning_rate': 1, 'optimizer': <class 'tensorflow.python.keras.optimizer_v2.gradient_descent.SGD'>}\n",
            "Means: 0.4836734712123871, Stdev: 0.08180148353231598 with: {'batch_size': 64, 'epochs': 20, 'learning_rate': 1, 'optimizer': <class 'tensorflow.python.keras.optimizer_v2.nadam.Nadam'>}\n",
            "Means: 0.6947278857231141, Stdev: 0.15051044406945666 with: {'batch_size': 64, 'epochs': 20, 'learning_rate': 1, 'optimizer': <class 'tensorflow.python.keras.optimizer_v2.adadelta.Adadelta'>}\n"
          ],
          "name": "stdout"
        }
      ]
    },
    {
      "cell_type": "markdown",
      "metadata": {
        "id": "DfdKJE6JUoAl",
        "colab_type": "text"
      },
      "source": [
        "# This GridSearch CV alleges that Nadam is the best optimizer. It returns an accuracy of 80.604% at a learning rate of 0.001, and a batch size of 8. I will settle on Nadam and hone in on the batch sizes and learning rate from here."
      ]
    },
    {
      "cell_type": "code",
      "metadata": {
        "id": "6Du9AU71AALj",
        "colab_type": "code",
        "colab": {
          "base_uri": "https://localhost:8080/",
          "height": 479
        },
        "outputId": "c9d01578-c739-46bd-b0d5-c5e30e133a57"
      },
      "source": [
        "def create_model(learning_rate=0.01, optimizer=Nadam()):\n",
        "  model = Sequential()\n",
        "  model.add(Dense(32,activation='relu', input_dim=13))\n",
        "  # model.add(Dense(32,activation='relu'))\n",
        "  model.add(Dense(64,activation='relu'))\n",
        "  model.add(Dense(16,activation='relu'))\n",
        "  model.add(Dense(4,activation='relu'))\n",
        "  model.add(Dense(1,activation='relu'))\n",
        "  optim = Nadam(learning_rate=learning_rate)\n",
        "  model.compile(optimizer=optim, loss='binary_crossentropy', metrics='accuracy')\n",
        "  return model\n",
        "\n",
        "model4 = KerasClassifier(build_fn=create_model, verbose=0)\n",
        "\n",
        "para_grid = {\n",
        "    'batch_size': [4, 8, 10, 12, 14], 'epochs': [20],\n",
        "    'learning_rate': [0.0001, 0.0005, 0.001, 0.005, 0.01],\n",
        "    }\n",
        "\n",
        "grid = GridSearchCV(estimator=model4, param_grid=para_grid, n_jobs=1)\n",
        "grid_result = grid.fit(X_train_std, y_train)\n",
        "\n",
        "print(f\"Best: {grid_result.best_score_} using {grid_result.best_params_}\")\n",
        "means = grid_result.cv_results_['mean_test_score']\n",
        "stds = grid_result.cv_results_['std_test_score']\n",
        "params = grid_result.cv_results_['params']\n",
        "for mean, stdev, param in zip(means, stds, params):\n",
        "    print(f\"Means: {mean}, Stdev: {stdev} with: {param}\") "
      ],
      "execution_count": 51,
      "outputs": [
        {
          "output_type": "stream",
          "text": [
            "Best: 0.8059523820877075 using {'batch_size': 8, 'epochs': 20, 'learning_rate': 0.001}\n",
            "Means: 0.6286564588546752, Stdev: 0.08252312425152392 with: {'batch_size': 4, 'epochs': 20, 'learning_rate': 0.0001}\n",
            "Means: 0.7351190447807312, Stdev: 0.18555582743646312 with: {'batch_size': 4, 'epochs': 20, 'learning_rate': 0.0005}\n",
            "Means: 0.7226190447807312, Stdev: 0.11608329578753646 with: {'batch_size': 4, 'epochs': 20, 'learning_rate': 0.001}\n",
            "Means: 0.6957482933998108, Stdev: 0.16264421077784727 with: {'batch_size': 4, 'epochs': 20, 'learning_rate': 0.005}\n",
            "Means: 0.5520408153533936, Stdev: 0.17389353611155559 with: {'batch_size': 4, 'epochs': 20, 'learning_rate': 0.01}\n",
            "Means: 0.5207482933998108, Stdev: 0.10256998270991621 with: {'batch_size': 8, 'epochs': 20, 'learning_rate': 0.0001}\n",
            "Means: 0.7687925219535827, Stdev: 0.041004905614769084 with: {'batch_size': 8, 'epochs': 20, 'learning_rate': 0.0005}\n",
            "Means: 0.8059523820877075, Stdev: 0.04545989179140975 with: {'batch_size': 8, 'epochs': 20, 'learning_rate': 0.001}\n",
            "Means: 0.730867350101471, Stdev: 0.1834686453203376 with: {'batch_size': 8, 'epochs': 20, 'learning_rate': 0.005}\n",
            "Means: 0.6656462669372558, Stdev: 0.1272395992216065 with: {'batch_size': 8, 'epochs': 20, 'learning_rate': 0.01}\n",
            "Means: 0.5443877577781677, Stdev: 0.14868400958293543 with: {'batch_size': 10, 'epochs': 20, 'learning_rate': 0.0001}\n",
            "Means: 0.689455783367157, Stdev: 0.10085141319932171 with: {'batch_size': 10, 'epochs': 20, 'learning_rate': 0.0005}\n",
            "Means: 0.7977040767669678, Stdev: 0.04535941036590477 with: {'batch_size': 10, 'epochs': 20, 'learning_rate': 0.001}\n",
            "Means: 0.7977891325950622, Stdev: 0.056492676619921404 with: {'batch_size': 10, 'epochs': 20, 'learning_rate': 0.005}\n",
            "Means: 0.6561224460601807, Stdev: 0.19597017943599457 with: {'batch_size': 10, 'epochs': 20, 'learning_rate': 0.01}\n",
            "Means: 0.4788265347480774, Stdev: 0.09638537126904906 with: {'batch_size': 12, 'epochs': 20, 'learning_rate': 0.0001}\n",
            "Means: 0.6282312929630279, Stdev: 0.16787845388675002 with: {'batch_size': 12, 'epochs': 20, 'learning_rate': 0.0005}\n",
            "Means: 0.6653061151504517, Stdev: 0.17923637291931324 with: {'batch_size': 12, 'epochs': 20, 'learning_rate': 0.001}\n",
            "Means: 0.8017857193946838, Stdev: 0.07424029947859187 with: {'batch_size': 12, 'epochs': 20, 'learning_rate': 0.005}\n",
            "Means: 0.5817176818847656, Stdev: 0.19349683818357177 with: {'batch_size': 12, 'epochs': 20, 'learning_rate': 0.01}\n",
            "Means: 0.5618197202682496, Stdev: 0.13043718232326604 with: {'batch_size': 14, 'epochs': 20, 'learning_rate': 0.0001}\n",
            "Means: 0.6749149560928345, Stdev: 0.13966084664929448 with: {'batch_size': 14, 'epochs': 20, 'learning_rate': 0.0005}\n",
            "Means: 0.6904762029647827, Stdev: 0.17646801891668593 with: {'batch_size': 14, 'epochs': 20, 'learning_rate': 0.001}\n",
            "Means: 0.68630952835083, Stdev: 0.22162389149522593 with: {'batch_size': 14, 'epochs': 20, 'learning_rate': 0.005}\n",
            "Means: 0.7609693884849549, Stdev: 0.11966810264678056 with: {'batch_size': 14, 'epochs': 20, 'learning_rate': 0.01}\n"
          ],
          "name": "stdout"
        }
      ]
    },
    {
      "cell_type": "markdown",
      "metadata": {
        "id": "UKChW2B4YMGD",
        "colab_type": "text"
      },
      "source": [
        "# Doesn't beat the last run with the same hyperparameters. Wonder why...\n",
        "\n",
        "# 80.595% accuracy\n",
        "#Optimizer = Nadam\n",
        "#batch = 8\n",
        "#learn rate = 0.001"
      ]
    },
    {
      "cell_type": "markdown",
      "metadata": {
        "id": "ftEKbeQwba2X",
        "colab_type": "text"
      },
      "source": [
        "## Anyway, here's for the final test accuracy..."
      ]
    },
    {
      "cell_type": "code",
      "metadata": {
        "id": "1daVDZYLYJ4k",
        "colab_type": "code",
        "colab": {
          "base_uri": "https://localhost:8080/",
          "height": 1000
        },
        "outputId": "a3cc40e2-2143-45c3-bc92-5fd600a9d6dd"
      },
      "source": [
        "stop = EarlyStopping(monitor='val_accuracy', min_delta=0.01, patience=16)\n",
        "\n",
        "model4 = Sequential([\n",
        "      Dense(32,activation='relu', input_dim=13),\n",
        "      Dense(64,activation='relu'),\n",
        "      Dense(16,activation='relu'),\n",
        "      Dense(4,activation='relu'),\n",
        "      Dense(1,activation='sigmoid')\n",
        "])\n",
        "\n",
        "optim = Nadam(learning_rate=0.001)\n",
        "\n",
        "model4.compile(optimizer=optim, loss='binary_crossentropy', metrics='accuracy')\n",
        "\n",
        "result4 = model3.fit(\n",
        "    X_train,y_train, batch_size=8, \n",
        "    validation_data=(X_test,y_test),\n",
        "    epochs=100 ,callbacks=[stop]\n",
        "    )"
      ],
      "execution_count": 53,
      "outputs": [
        {
          "output_type": "stream",
          "text": [
            "Epoch 1/100\n",
            "31/31 [==============================] - 0s 4ms/step - loss: 0.6064 - accuracy: 0.7066 - val_loss: 0.6108 - val_accuracy: 0.6393\n",
            "Epoch 2/100\n",
            "31/31 [==============================] - 0s 4ms/step - loss: 0.6072 - accuracy: 0.6942 - val_loss: 0.6010 - val_accuracy: 0.7049\n",
            "Epoch 3/100\n",
            "31/31 [==============================] - 0s 4ms/step - loss: 0.5883 - accuracy: 0.7314 - val_loss: 0.5979 - val_accuracy: 0.7213\n",
            "Epoch 4/100\n",
            "31/31 [==============================] - 0s 4ms/step - loss: 0.6004 - accuracy: 0.7355 - val_loss: 0.5978 - val_accuracy: 0.7049\n",
            "Epoch 5/100\n",
            "31/31 [==============================] - 0s 4ms/step - loss: 0.6004 - accuracy: 0.6818 - val_loss: 0.6159 - val_accuracy: 0.6393\n",
            "Epoch 6/100\n",
            "31/31 [==============================] - 0s 5ms/step - loss: 0.6038 - accuracy: 0.6860 - val_loss: 0.5998 - val_accuracy: 0.6885\n",
            "Epoch 7/100\n",
            "31/31 [==============================] - 0s 5ms/step - loss: 0.5839 - accuracy: 0.7149 - val_loss: 0.6356 - val_accuracy: 0.6557\n",
            "Epoch 8/100\n",
            "31/31 [==============================] - 0s 4ms/step - loss: 0.5799 - accuracy: 0.7231 - val_loss: 0.5895 - val_accuracy: 0.6721\n",
            "Epoch 9/100\n",
            "31/31 [==============================] - 0s 4ms/step - loss: 0.5871 - accuracy: 0.7107 - val_loss: 0.5846 - val_accuracy: 0.7213\n",
            "Epoch 10/100\n",
            "31/31 [==============================] - 0s 4ms/step - loss: 0.5814 - accuracy: 0.7025 - val_loss: 0.6049 - val_accuracy: 0.6721\n",
            "Epoch 11/100\n",
            "31/31 [==============================] - 0s 4ms/step - loss: 0.5728 - accuracy: 0.7107 - val_loss: 0.5833 - val_accuracy: 0.7213\n",
            "Epoch 12/100\n",
            "31/31 [==============================] - 0s 5ms/step - loss: 0.5698 - accuracy: 0.7273 - val_loss: 0.5840 - val_accuracy: 0.7049\n",
            "Epoch 13/100\n",
            "31/31 [==============================] - 0s 4ms/step - loss: 0.5775 - accuracy: 0.7025 - val_loss: 0.5848 - val_accuracy: 0.7049\n",
            "Epoch 14/100\n",
            "31/31 [==============================] - 0s 5ms/step - loss: 0.5849 - accuracy: 0.7231 - val_loss: 0.5780 - val_accuracy: 0.7049\n",
            "Epoch 15/100\n",
            "31/31 [==============================] - 0s 5ms/step - loss: 0.5793 - accuracy: 0.7231 - val_loss: 0.6339 - val_accuracy: 0.7049\n",
            "Epoch 16/100\n",
            "31/31 [==============================] - 0s 4ms/step - loss: 0.5884 - accuracy: 0.7190 - val_loss: 0.5744 - val_accuracy: 0.7049\n",
            "Epoch 17/100\n",
            "31/31 [==============================] - 0s 4ms/step - loss: 0.5824 - accuracy: 0.6777 - val_loss: 0.5793 - val_accuracy: 0.7377\n",
            "Epoch 18/100\n",
            "31/31 [==============================] - 0s 4ms/step - loss: 0.5721 - accuracy: 0.7107 - val_loss: 0.5739 - val_accuracy: 0.7213\n",
            "Epoch 19/100\n",
            "31/31 [==============================] - 0s 4ms/step - loss: 0.5523 - accuracy: 0.7355 - val_loss: 0.5806 - val_accuracy: 0.7049\n",
            "Epoch 20/100\n",
            "31/31 [==============================] - 0s 5ms/step - loss: 0.5798 - accuracy: 0.7273 - val_loss: 0.5726 - val_accuracy: 0.7213\n",
            "Epoch 21/100\n",
            "31/31 [==============================] - 0s 5ms/step - loss: 0.5667 - accuracy: 0.7190 - val_loss: 0.5726 - val_accuracy: 0.7213\n",
            "Epoch 22/100\n",
            "31/31 [==============================] - 0s 4ms/step - loss: 0.5540 - accuracy: 0.7355 - val_loss: 0.5687 - val_accuracy: 0.7213\n",
            "Epoch 23/100\n",
            "31/31 [==============================] - 0s 4ms/step - loss: 0.5523 - accuracy: 0.7355 - val_loss: 0.5717 - val_accuracy: 0.7213\n",
            "Epoch 24/100\n",
            "31/31 [==============================] - 0s 4ms/step - loss: 0.5627 - accuracy: 0.7231 - val_loss: 0.5750 - val_accuracy: 0.7049\n",
            "Epoch 25/100\n",
            "31/31 [==============================] - 0s 5ms/step - loss: 0.5496 - accuracy: 0.7355 - val_loss: 0.5643 - val_accuracy: 0.7213\n",
            "Epoch 26/100\n",
            "31/31 [==============================] - 0s 4ms/step - loss: 0.5387 - accuracy: 0.7438 - val_loss: 0.6056 - val_accuracy: 0.6885\n",
            "Epoch 27/100\n",
            "31/31 [==============================] - 0s 4ms/step - loss: 0.5528 - accuracy: 0.7273 - val_loss: 0.5438 - val_accuracy: 0.7049\n",
            "Epoch 28/100\n",
            "31/31 [==============================] - 0s 5ms/step - loss: 0.5594 - accuracy: 0.7149 - val_loss: 0.5588 - val_accuracy: 0.7213\n",
            "Epoch 29/100\n",
            "31/31 [==============================] - 0s 4ms/step - loss: 0.5769 - accuracy: 0.7149 - val_loss: 0.5580 - val_accuracy: 0.7213\n",
            "Epoch 30/100\n",
            "31/31 [==============================] - 0s 4ms/step - loss: 0.5451 - accuracy: 0.7314 - val_loss: 0.5653 - val_accuracy: 0.7049\n",
            "Epoch 31/100\n",
            "31/31 [==============================] - 0s 5ms/step - loss: 0.5438 - accuracy: 0.7314 - val_loss: 0.5631 - val_accuracy: 0.7377\n",
            "Epoch 32/100\n",
            "31/31 [==============================] - 0s 5ms/step - loss: 0.5444 - accuracy: 0.7645 - val_loss: 0.5484 - val_accuracy: 0.7377\n",
            "Epoch 33/100\n",
            "31/31 [==============================] - 0s 5ms/step - loss: 0.5331 - accuracy: 0.7479 - val_loss: 0.5463 - val_accuracy: 0.7213\n"
          ],
          "name": "stdout"
        }
      ]
    },
    {
      "cell_type": "markdown",
      "metadata": {
        "id": "m9eVYnHkboz_",
        "colab_type": "text"
      },
      "source": [
        "# 73% test accuracy after 17 epochs using Nadam optimizer, learning rate of 0.001, batch size of 8."
      ]
    },
    {
      "cell_type": "markdown",
      "metadata": {
        "id": "c7G4NOG6qS5e",
        "colab_type": "text"
      },
      "source": [
        "## 3. Keras MMP <a id=\"Q3\"></a>\n",
        "\n",
        "Implement a Multilayer Perceptron architecture of your choosing using the Keras library. \n",
        "- [ ] Train your model and report its baseline accuracy.\n",
        "- [ ] Then hyperparameter tune at least two parameters and report your model's accuracy.\n",
        "- [ ] Use the Heart Disease Dataset (binary classification)\n",
        "- [ ] Use an appropriate loss function for a binary classification task\n",
        "- [ ] Use an appropriate activation function on the final layer of your network\n",
        "- [ ] Train your model using verbose output for ease of grading.\n",
        "- [ ] Use GridSearchCV or RandomSearchCV to hyperparameter tune your model. (for at least two hyperparameters)\n",
        "- [ ] When hyperparameter tuning, show you work by adding code cells for each new experiment.\n",
        "- [ ] Report the accuracy for each combination of hyperparameters as you test them so that we can easily see which resulted in the highest accuracy.\n",
        "- [ ] You must hyperparameter tune at least 3 parameters in order to get a 3 on this section."
      ]
    }
  ]
}