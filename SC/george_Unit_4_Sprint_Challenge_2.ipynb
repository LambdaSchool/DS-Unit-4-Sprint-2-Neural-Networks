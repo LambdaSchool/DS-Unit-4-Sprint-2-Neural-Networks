{
 "cells": [
  {
   "cell_type": "markdown",
   "metadata": {},
   "source": [
    "<img align=\"left\" src=\"https://lever-client-logos.s3.amazonaws.com/864372b1-534c-480e-acd5-9711f850815c-1524247202159.png\" width=200>\n",
    "<br></br>\n",
    "<br></br>\n",
    "\n",
    "## *Data Science Unit 4 Sprint 2*\n",
    "\n",
    "# Sprint Challenge - Neural Network Foundations\n",
    "\n",
    "Table of Problems\n",
    "\n",
    "1. [Defining Neural Networks](#Q1)\n",
    "2. [Perceptron on XOR Gates](#Q2)\n",
    "3. [Multilayer Perceptron](#Q3)\n",
    "4. [Keras MMP](#Q4)"
   ]
  },
  {
   "cell_type": "markdown",
   "metadata": {},
   "source": [
    "<a id=\"Q1\"></a>\n",
    "## 1. Define the following terms:\n",
    "\n",
    "- **Neuron:** A function that receives an input and pass it to the next layer of nodes through activation function\n",
    "- **Input Layer:** A layer that receives input from dataset to be passed to network\n",
    "- **Hidden Layer:** The layer in between input and output which they perform their functions, but we don't directly interact with them\n",
    "- **Output Layer:** Output a vector of values that is in a format that is suitable for the type of problem that we're trying to address through activation function\n",
    "- **Activation:** A function that transform the signal to pass onto the next layer\n",
    "- **Backpropagation:** An algorithm for how weights in a neural network are updated in reverse order at the end of each training epoch\n"
   ]
  },
  {
   "cell_type": "markdown",
   "metadata": {},
   "source": [
    "## 2. Perceptron <a id=\"Q3=2\"></a>\n",
    "\n",
    "Create a perceptron class that can model the behavior of an AND gate. You can use the following table as your training data:\n",
    "\n",
    "|x1\t|x2|x3|\ty|\n",
    "|---|---|---|---|\n",
    "1|\t1|\t1|\t1|\n",
    "1|\t0|\t1|\t0|\n",
    "0|\t1|\t1|\t0|\n",
    "0|\t0|\t1|\t0|"
   ]
  },
  {
   "cell_type": "code",
   "execution_count": 132,
   "metadata": {},
   "outputs": [],
   "source": [
    "import warnings\n",
    "warnings.simplefilter(action='ignore', category=FutureWarning)"
   ]
  },
  {
   "cell_type": "code",
   "execution_count": 44,
   "metadata": {},
   "outputs": [
    {
     "name": "stdout",
     "output_type": "stream",
     "text": [
      "3 inputs \n",
      " [[1. 1. 1.]\n",
      " [1. 0. 1.]\n",
      " [0. 1. 1.]\n",
      " [0. 0. 1.]]\n",
      "1 output \n",
      " [[1.]\n",
      " [0.]\n",
      " [0.]\n",
      " [0.]]\n"
     ]
    }
   ],
   "source": [
    "import numpy as np\n",
    "import pandas as pd\n",
    "\n",
    "np.random.seed(12)\n",
    "# 3 input nodes\n",
    "X = np.array(([1,1,1], [1,0,1], [0,1,1], [0,0,1]), dtype=float)\n",
    "# 1 output node\n",
    "y = np.array(([1], [0], [0], [0]), dtype=float)\n",
    "\n",
    "print(\"3 inputs \\n\", X)\n",
    "print(\"1 output \\n\", y)"
   ]
  },
  {
   "cell_type": "code",
   "execution_count": 51,
   "metadata": {},
   "outputs": [],
   "source": [
    "class Perceptron:\n",
    "    def __init__(self):\n",
    "        # Set up Architecture of Neural Network\n",
    "        self.inputs = X.shape[1]\n",
    "        self.hiddenNodes = 4\n",
    "        self.outputNodes = 1\n",
    "        \n",
    "        # Initial Weights\n",
    "        # 3x4 Matrix Array for the First Layer\n",
    "        self.weights1 = 2 * np.random.randn(self.inputs, self.hiddenNodes) - 1\n",
    "        # 4x1 Matrix Array for Hidden to Output\n",
    "        self.weights2 = 2 * np.random.rand(self.hiddenNodes, self.outputNodes) - 1\n",
    "        \n",
    "    def sigmoid(self, s):\n",
    "        return 1 / (1 + np.exp(-s))\n",
    "    \n",
    "    def sigmoidPrime(self, s):\n",
    "        return s * (1 - s)\n",
    "    \n",
    "    def feed_forward(self, X):\n",
    "        \"\"\"\n",
    "        Calculate the NN inference using feed forward.\n",
    "        aka \"predict\"\n",
    "        \"\"\"\n",
    "        \n",
    "        # Weighted sum of inputs => hidden layer\n",
    "        self.hidden_sum = np.dot(X, self.weights1)\n",
    "        \n",
    "        # Activations of weighted sum\n",
    "        self.activated_hidden = self.sigmoid(self.hidden_sum)\n",
    "        \n",
    "        # Weight sum between hidden and output\n",
    "        self.output_sum = np.dot(self.activated_hidden, self.weights2)\n",
    "        \n",
    "        # Final activation of output\n",
    "        self.activated_output = self.sigmoid(self.output_sum)\n",
    "        \n",
    "        return self.activated_output\n",
    "    def backward(self, X, y, o):\n",
    "        \"\"\"\n",
    "        Backward propagate through the network\n",
    "        \"\"\"\n",
    "        \n",
    "        # Error in output\n",
    "        self.o_error = y - o\n",
    "        \n",
    "        # Apply derivative of sigmoid to error\n",
    "        # How far off are we in relation to the Sigmoid f(x) of the output\n",
    "        # ^- hidden => output\n",
    "        self.o_delta = self.o_error * self.sigmoidPrime(o) # apply derivative of sigmoid to error\n",
    "        \n",
    "        # z2 error\n",
    "        self.z2_error = self.o_delta.dot(self.weights2.T) # how much the hidden layer weights were off\n",
    "        # How much of that \"far off\" can be explained by the inputs => hidden layer\n",
    "        self.z2_delta = self.z2_error * self.sigmoidPrime(self.activated_hidden)\n",
    "        \n",
    "        # Adjustment to first set of weights (input => hidden)\n",
    "        self.weights1 += X.T.dot(self.z2_delta)\n",
    "        \n",
    "        # Adjustment to second set of weights (hidden => output)\n",
    "        self.weights2 += self.activated_hidden.T.dot(self.o_delta)\n",
    "        \n",
    "    def train(self, X, y):\n",
    "        # Output\n",
    "        o = self.feed_forward(X)\n",
    "        self.backward(X, y, o)"
   ]
  },
  {
   "cell_type": "code",
   "execution_count": 56,
   "metadata": {},
   "outputs": [
    {
     "name": "stdout",
     "output_type": "stream",
     "text": [
      "+---------EPOCH 1---------+\n",
      "Loss: \n",
      " 0.2633356696845635\n",
      "+---------EPOCH 2---------+\n",
      "Loss: \n",
      " 0.37966202034086133\n",
      "+---------EPOCH 3---------+\n",
      "Loss: \n",
      " 0.41440460359441916\n",
      "+---------EPOCH 50---------+\n",
      "Loss: \n",
      " 0.0997924972764671\n",
      "+---------EPOCH 100---------+\n",
      "Loss: \n",
      " 0.07639776303537395\n",
      "+---------EPOCH 150---------+\n",
      "Loss: \n",
      " 0.07442462837890616\n",
      "+---------EPOCH 200---------+\n",
      "Loss: \n",
      " 0.09189831084695625\n",
      "+---------EPOCH 250---------+\n",
      "Loss: \n",
      " 0.06587368742008175\n",
      "+---------EPOCH 300---------+\n",
      "Loss: \n",
      " 0.06125323181180962\n",
      "+---------EPOCH 350---------+\n",
      "Loss: \n",
      " 0.06250213686947978\n",
      "+---------EPOCH 400---------+\n",
      "Loss: \n",
      " 0.05974213583991388\n",
      "+---------EPOCH 450---------+\n",
      "Loss: \n",
      " 0.05884994054877512\n",
      "+---------EPOCH 500---------+\n",
      "Loss: \n",
      " 0.058638556021806794\n",
      "+---------EPOCH 550---------+\n",
      "Loss: \n",
      " 0.05852033650005535\n",
      "+---------EPOCH 600---------+\n",
      "Loss: \n",
      " 0.05827280779848982\n",
      "+---------EPOCH 650---------+\n",
      "Loss: \n",
      " 0.05815970647427748\n",
      "+---------EPOCH 700---------+\n",
      "Loss: \n",
      " 0.05807205364193028\n",
      "+---------EPOCH 750---------+\n",
      "Loss: \n",
      " 0.05800367477200341\n",
      "+---------EPOCH 800---------+\n",
      "Loss: \n",
      " 0.0579483913305312\n",
      "+---------EPOCH 850---------+\n",
      "Loss: \n",
      " 0.05790650739843235\n",
      "+---------EPOCH 900---------+\n",
      "Loss: \n",
      " 0.05789941502202095\n",
      "+---------EPOCH 950---------+\n",
      "Loss: \n",
      " 0.05790534419043956\n",
      "+---------EPOCH 1000---------+\n",
      "Loss: \n",
      " 0.057823265421809704\n"
     ]
    }
   ],
   "source": [
    "nn = Perceptron()\n",
    "np.random.seed(12)\n",
    "loss_lst = []\n",
    "# number of epochs / iterations\n",
    "for i in range(1000):\n",
    "    if (i+1 in [1,2,3]) or ((i+1) % 50 ==0):\n",
    "        print('+' + '---' * 3 + f'EPOCH {i+1}' + '---'*3 + '+')\n",
    "#         print('Input: \\n', X)\n",
    "#         print('Actual Output: \\n', y)\n",
    "#         print('Predicted Output: \\n', str(nn.feed_forward(X)))\n",
    "        loss = np.mean(np.square(y - nn.feed_forward(X)))\n",
    "        if loss < .01:\n",
    "            print('Input: \\n', X)\n",
    "            print('Actual Output: \\n', y)\n",
    "            print('Predicted Output: \\n', str(nn.feed_forward(X)))\n",
    "            print(\"Loss: \\n\", str(loss))\n",
    "            break\n",
    "        print(\"Loss: \\n\", str(loss))\n",
    "    loss_lst.append(loss)\n",
    "    nn.train(X,y)"
   ]
  },
  {
   "cell_type": "code",
   "execution_count": 57,
   "metadata": {},
   "outputs": [
    {
     "data": {
      "text/plain": [
       "[<matplotlib.lines.Line2D at 0xa2a260cf60>]"
      ]
     },
     "execution_count": 57,
     "metadata": {},
     "output_type": "execute_result"
    },
    {
     "data": {
      "image/png": "[encoded data removed]",
      "text/plain": [
       "<Figure size 432x288 with 1 Axes>"
      ]
     },
     "metadata": {
      "needs_background": "light"
     },
     "output_type": "display_data"
    }
   ],
   "source": [
    "import matplotlib.pyplot as plt\n",
    "\n",
    "plt.plot(loss_lst)"
   ]
  },
  {
   "cell_type": "markdown",
   "metadata": {},
   "source": [
    "## 3. Multilayer Perceptron <a id=\"Q3\"></a>\n",
    "\n",
    "Implement a Neural Network Multilayer Perceptron class that uses backpropagation to update the network's weights.\n",
    "Your network must have one hidden layer.\n",
    "You do not have to update weights via gradient descent. You can use something like the derivative of the sigmoid function to update weights.\n",
    "Train your model on the Heart Disease dataset from UCI:\n",
    "\n"
   ]
  },
  {
   "cell_type": "code",
   "execution_count": 24,
   "metadata": {
    "collapsed": false,
    "inputHidden": false,
    "jupyter": {
     "outputs_hidden": false
    },
    "outputHidden": false
   },
   "outputs": [
    {
     "name": "stdout",
     "output_type": "stream",
     "text": [
      "(303, 14)\n"
     ]
    },
    {
     "data": {
      "text/html": [
       "<div>\n",
       "<style scoped>\n",
       "    .dataframe tbody tr th:only-of-type {\n",
       "        vertical-align: middle;\n",
       "    }\n",
       "\n",
       "    .dataframe tbody tr th {\n",
       "        vertical-align: top;\n",
       "    }\n",
       "\n",
       "    .dataframe thead th {\n",
       "        text-align: right;\n",
       "    }\n",
       "</style>\n",
       "<table border=\"1\" class=\"dataframe\">\n",
       "  <thead>\n",
       "    <tr style=\"text-align: right;\">\n",
       "      <th></th>\n",
       "      <th>age</th>\n",
       "      <th>sex</th>\n",
       "      <th>cp</th>\n",
       "      <th>trestbps</th>\n",
       "      <th>chol</th>\n",
       "      <th>fbs</th>\n",
       "      <th>restecg</th>\n",
       "      <th>thalach</th>\n",
       "      <th>exang</th>\n",
       "      <th>oldpeak</th>\n",
       "      <th>slope</th>\n",
       "      <th>ca</th>\n",
       "      <th>thal</th>\n",
       "      <th>target</th>\n",
       "    </tr>\n",
       "  </thead>\n",
       "  <tbody>\n",
       "    <tr>\n",
       "      <th>186</th>\n",
       "      <td>60</td>\n",
       "      <td>1</td>\n",
       "      <td>0</td>\n",
       "      <td>130</td>\n",
       "      <td>253</td>\n",
       "      <td>0</td>\n",
       "      <td>1</td>\n",
       "      <td>144</td>\n",
       "      <td>1</td>\n",
       "      <td>1.4</td>\n",
       "      <td>2</td>\n",
       "      <td>1</td>\n",
       "      <td>3</td>\n",
       "      <td>0</td>\n",
       "    </tr>\n",
       "    <tr>\n",
       "      <th>244</th>\n",
       "      <td>56</td>\n",
       "      <td>1</td>\n",
       "      <td>0</td>\n",
       "      <td>132</td>\n",
       "      <td>184</td>\n",
       "      <td>0</td>\n",
       "      <td>0</td>\n",
       "      <td>105</td>\n",
       "      <td>1</td>\n",
       "      <td>2.1</td>\n",
       "      <td>1</td>\n",
       "      <td>1</td>\n",
       "      <td>1</td>\n",
       "      <td>0</td>\n",
       "    </tr>\n",
       "    <tr>\n",
       "      <th>147</th>\n",
       "      <td>60</td>\n",
       "      <td>0</td>\n",
       "      <td>3</td>\n",
       "      <td>150</td>\n",
       "      <td>240</td>\n",
       "      <td>0</td>\n",
       "      <td>1</td>\n",
       "      <td>171</td>\n",
       "      <td>0</td>\n",
       "      <td>0.9</td>\n",
       "      <td>2</td>\n",
       "      <td>0</td>\n",
       "      <td>2</td>\n",
       "      <td>1</td>\n",
       "    </tr>\n",
       "    <tr>\n",
       "      <th>138</th>\n",
       "      <td>57</td>\n",
       "      <td>1</td>\n",
       "      <td>0</td>\n",
       "      <td>110</td>\n",
       "      <td>201</td>\n",
       "      <td>0</td>\n",
       "      <td>1</td>\n",
       "      <td>126</td>\n",
       "      <td>1</td>\n",
       "      <td>1.5</td>\n",
       "      <td>1</td>\n",
       "      <td>0</td>\n",
       "      <td>1</td>\n",
       "      <td>1</td>\n",
       "    </tr>\n",
       "    <tr>\n",
       "      <th>241</th>\n",
       "      <td>59</td>\n",
       "      <td>0</td>\n",
       "      <td>0</td>\n",
       "      <td>174</td>\n",
       "      <td>249</td>\n",
       "      <td>0</td>\n",
       "      <td>1</td>\n",
       "      <td>143</td>\n",
       "      <td>1</td>\n",
       "      <td>0.0</td>\n",
       "      <td>1</td>\n",
       "      <td>0</td>\n",
       "      <td>2</td>\n",
       "      <td>0</td>\n",
       "    </tr>\n",
       "  </tbody>\n",
       "</table>\n",
       "</div>"
      ],
      "text/plain": [
       "     age  sex  cp  trestbps  chol  fbs  restecg  thalach  exang  oldpeak  \\\n",
       "186   60    1   0       130   253    0        1      144      1      1.4   \n",
       "244   56    1   0       132   184    0        0      105      1      2.1   \n",
       "147   60    0   3       150   240    0        1      171      0      0.9   \n",
       "138   57    1   0       110   201    0        1      126      1      1.5   \n",
       "241   59    0   0       174   249    0        1      143      1      0.0   \n",
       "\n",
       "     slope  ca  thal  target  \n",
       "186      2   1     3       0  \n",
       "244      1   1     1       0  \n",
       "147      2   0     2       1  \n",
       "138      1   0     1       1  \n",
       "241      1   0     2       0  "
      ]
     },
     "execution_count": 24,
     "metadata": {},
     "output_type": "execute_result"
    }
   ],
   "source": [
    "import pandas as pd\n",
    "import numpy as np\n",
    "from sklearn.preprocessing import StandardScaler\n",
    "\n",
    "df = pd.read_csv('https://raw.githubusercontent.com/ryanleeallred/datasets/master/heart.csv')\n",
    "df = df.sample(frac=1)\n",
    "print(df.shape)\n",
    "df.head()"
   ]
  },
  {
   "cell_type": "code",
   "execution_count": 25,
   "metadata": {},
   "outputs": [
    {
     "name": "stdout",
     "output_type": "stream",
     "text": [
      "(303, 13)\n",
      "(303, 1)\n"
     ]
    }
   ],
   "source": [
    "sc = StandardScaler()\n",
    "dataset = df.values\n",
    "# split into input (X) and output (y) variables\n",
    "X = dataset[:,:-1]\n",
    "X = sc.fit_transform(X)\n",
    "y = dataset[:,-1]\n",
    "y = y.reshape(y.shape[0], 1)\n",
    "print(X.shape)\n",
    "print(y.shape)"
   ]
  },
  {
   "cell_type": "code",
   "execution_count": 34,
   "metadata": {},
   "outputs": [],
   "source": [
    "class NeuralNetwork:\n",
    "    def __init__(self):\n",
    "        # Set up Architecture of Neural Network\n",
    "        self.inputs = X.shape[1]\n",
    "        self.hiddenNodes = 13\n",
    "        self.outputNodes = 1\n",
    "        \n",
    "        # Initial Weights\n",
    "        # 13x26 Matrix Array for the First Layer\n",
    "        self.weights1 = 2 * np.random.randn(self.inputs, self.hiddenNodes) - 1\n",
    "        # 26x1 Matrix Array for Hidden to Output\n",
    "        self.weights2 = 2 * np.random.rand(self.hiddenNodes, self.outputNodes) - 1\n",
    "        \n",
    "    def sigmoid(self, s):\n",
    "        return 1 / (1 + np.exp(-s))\n",
    "    \n",
    "    def sigmoidPrime(self, s):\n",
    "        return s * (1 - s)\n",
    "    \n",
    "    def feed_forward(self, X):\n",
    "        \"\"\"\n",
    "        Calculate the NN inference using feed forward.\n",
    "        aka \"predict\"\n",
    "        \"\"\"\n",
    "        \n",
    "        # Weighted sum of inputs => hidden layer\n",
    "        self.hidden_sum = np.dot(X, self.weights1)\n",
    "        \n",
    "        # Activations of weighted sum\n",
    "        self.activated_hidden = self.sigmoid(self.hidden_sum)\n",
    "        \n",
    "        # Weight sum between hidden and output\n",
    "        self.output_sum = np.dot(self.activated_hidden, self.weights2)\n",
    "        \n",
    "        # Final activation of output\n",
    "        self.activated_output = self.sigmoid(self.output_sum)\n",
    "        \n",
    "        return self.activated_output\n",
    "    def backward(self, X, y, o):\n",
    "        \"\"\"\n",
    "        Backward propagate through the network\n",
    "        \"\"\"\n",
    "        \n",
    "        # Error in output\n",
    "        self.o_error = y - o\n",
    "        \n",
    "        # Apply derivative of sigmoid to error\n",
    "        # How far off are we in relation to the Sigmoid f(x) of the output\n",
    "        # ^- hidden => output\n",
    "        self.o_delta = self.o_error * self.sigmoidPrime(o) # apply derivative of sigmoid to error\n",
    "        \n",
    "        # z2 error\n",
    "        self.z2_error = self.o_delta.dot(self.weights2.T) # how much the hidden layer weights were off\n",
    "        # How much of that \"far off\" can be explained by the inputs => hidden layer\n",
    "        self.z2_delta = self.z2_error * self.sigmoidPrime(self.activated_hidden)\n",
    "        \n",
    "        # Adjustment to first set of weights (input => hidden)\n",
    "        self.weights1 += X.T.dot(self.z2_delta)\n",
    "        \n",
    "        # Adjustment to second set of weights (hidden => output)\n",
    "        self.weights2 += self.activated_hidden.T.dot(self.o_delta)\n",
    "        \n",
    "    def train(self, X, y):\n",
    "        # Output\n",
    "        o = self.feed_forward(X)\n",
    "        self.backward(X, y, o)"
   ]
  },
  {
   "cell_type": "code",
   "execution_count": 48,
   "metadata": {},
   "outputs": [
    {
     "name": "stdout",
     "output_type": "stream",
     "text": [
      "+---------EPOCH 1---------+\n",
      "Loss: \n",
      " 0.2978637787646219\n",
      "+---------EPOCH 2---------+\n",
      "Loss: \n",
      " 0.5405486976197587\n",
      "+---------EPOCH 3---------+\n",
      "Loss: \n",
      " 0.5287508850082298\n",
      "+---------EPOCH 4---------+\n",
      "Loss: \n",
      " 0.4962166761337012\n",
      "+---------EPOCH 5---------+\n",
      "Loss: \n",
      " 0.4450027480995814\n",
      "+---------EPOCH 50---------+\n",
      "Loss: \n",
      " 0.08933022163068424\n",
      "+---------EPOCH 100---------+\n",
      "Loss: \n",
      " 0.08919254714574228\n",
      "+---------EPOCH 150---------+\n",
      "Loss: \n",
      " 0.08589660132360263\n",
      "+---------EPOCH 200---------+\n",
      "Loss: \n",
      " 0.06294560232083063\n",
      "+---------EPOCH 250---------+\n",
      "Loss: \n",
      " 0.05963039822035064\n",
      "+---------EPOCH 300---------+\n",
      "Loss: \n",
      " 0.05953714306383379\n",
      "+---------EPOCH 350---------+\n",
      "Loss: \n",
      " 0.05950389650207643\n",
      "+---------EPOCH 400---------+\n",
      "Loss: \n",
      " 0.059484709633549286\n",
      "+---------EPOCH 450---------+\n",
      "Loss: \n",
      " 0.05947208235514174\n",
      "+---------EPOCH 500---------+\n",
      "Loss: \n",
      " 0.059463135403712876\n",
      "+---------EPOCH 550---------+\n",
      "Loss: \n",
      " 0.059456444547792524\n",
      "+---------EPOCH 600---------+\n",
      "Loss: \n",
      " 0.059451233896399946\n",
      "+---------EPOCH 650---------+\n",
      "Loss: \n",
      " 0.059447048765361374\n",
      "+---------EPOCH 700---------+\n",
      "Loss: \n",
      " 0.05944360542410568\n",
      "+---------EPOCH 750---------+\n",
      "Loss: \n",
      " 0.059440717319944575\n",
      "+---------EPOCH 800---------+\n",
      "Loss: \n",
      " 0.059438256434383364\n",
      "+---------EPOCH 850---------+\n",
      "Loss: \n",
      " 0.05943613177794947\n",
      "+---------EPOCH 900---------+\n",
      "Loss: \n",
      " 0.059434276766241564\n",
      "+---------EPOCH 950---------+\n",
      "Loss: \n",
      " 0.05943264146147903\n",
      "+---------EPOCH 1000---------+\n",
      "Loss: \n",
      " 0.05943118761356575\n"
     ]
    }
   ],
   "source": [
    "nn = NeuralNetwork()\n",
    "# number of epochs / iterations\n",
    "loss_lst = []\n",
    "for i in range(1000):\n",
    "    if (i+1 in [1,2,3,4,5]) or ((i+1) % 50 ==0):\n",
    "        print('+' + '---' * 3 + f'EPOCH {i+1}' + '---'*3 + '+')\n",
    "        loss = np.mean(np.square(y - nn.feed_forward(X)))\n",
    "#         if loss < .1:\n",
    "#             print('Input: \\n', X)\n",
    "#             print('First 5 Actual Output: \\n', y[:5])\n",
    "#             print('First 5 Predicted Output: \\n', str(nn.feed_forward(X)[:5]))\n",
    "#             print(\"Total Loss: \\n\", str(loss))\n",
    "#             break\n",
    "        print(\"Loss: \\n\", str(loss))\n",
    "    loss_lst.append(loss)\n",
    "    nn.train(X,y)"
   ]
  },
  {
   "cell_type": "code",
   "execution_count": 53,
   "metadata": {},
   "outputs": [
    {
     "data": {
      "text/plain": [
       "[<matplotlib.lines.Line2D at 0xa2a255ee48>]"
      ]
     },
     "execution_count": 53,
     "metadata": {},
     "output_type": "execute_result"
    },
    {
     "data": {
      "image/png": "[encoded data removed]",
      "text/plain": [
       "<Figure size 432x288 with 1 Axes>"
      ]
     },
     "metadata": {
      "needs_background": "light"
     },
     "output_type": "display_data"
    }
   ],
   "source": [
    "import matplotlib.pyplot as plt\n",
    "\n",
    "plt.plot(loss_lst)"
   ]
  },
  {
   "cell_type": "markdown",
   "metadata": {},
   "source": [
    "## 4. Keras MMP <a id=\"Q4\"></a>\n",
    "\n",
    "Implement a Multilayer Perceptron architecture of your choosing using the Keras library. Train your model and report its baseline accuracy. Then hyperparameter tune at least two parameters and report your model's accuracy.\n",
    "Use the Heart Disease Dataset (binary classification)\n",
    "Use an appropriate loss function for a binary classification task\n",
    "Use an appropriate activation function on the final layer of your network.\n",
    "Train your model using verbose output for ease of grading.\n",
    "Use GridSearchCV to hyperparameter tune your model. (for at least two hyperparameters)\n",
    "When hyperparameter tuning, show you work by adding code cells for each new experiment.\n",
    "Report the accuracy for each combination of hyperparameters as you test them so that we can easily see which resulted in the highest accuracy.\n",
    "You must hyperparameter tune at least 5 parameters in order to get a 3 on this section."
   ]
  },
  {
   "cell_type": "code",
   "execution_count": 73,
   "metadata": {
    "collapsed": false,
    "inputHidden": false,
    "jupyter": {
     "outputs_hidden": false
    },
    "outputHidden": false
   },
   "outputs": [
    {
     "name": "stdout",
     "output_type": "stream",
     "text": [
      "(303, 14)\n"
     ]
    },
    {
     "data": {
      "text/html": [
       "<div>\n",
       "<style scoped>\n",
       "    .dataframe tbody tr th:only-of-type {\n",
       "        vertical-align: middle;\n",
       "    }\n",
       "\n",
       "    .dataframe tbody tr th {\n",
       "        vertical-align: top;\n",
       "    }\n",
       "\n",
       "    .dataframe thead th {\n",
       "        text-align: right;\n",
       "    }\n",
       "</style>\n",
       "<table border=\"1\" class=\"dataframe\">\n",
       "  <thead>\n",
       "    <tr style=\"text-align: right;\">\n",
       "      <th></th>\n",
       "      <th>age</th>\n",
       "      <th>sex</th>\n",
       "      <th>cp</th>\n",
       "      <th>trestbps</th>\n",
       "      <th>chol</th>\n",
       "      <th>fbs</th>\n",
       "      <th>restecg</th>\n",
       "      <th>thalach</th>\n",
       "      <th>exang</th>\n",
       "      <th>oldpeak</th>\n",
       "      <th>slope</th>\n",
       "      <th>ca</th>\n",
       "      <th>thal</th>\n",
       "      <th>target</th>\n",
       "    </tr>\n",
       "  </thead>\n",
       "  <tbody>\n",
       "    <tr>\n",
       "      <th>94</th>\n",
       "      <td>45</td>\n",
       "      <td>0</td>\n",
       "      <td>1</td>\n",
       "      <td>112</td>\n",
       "      <td>160</td>\n",
       "      <td>0</td>\n",
       "      <td>1</td>\n",
       "      <td>138</td>\n",
       "      <td>0</td>\n",
       "      <td>0.0</td>\n",
       "      <td>1</td>\n",
       "      <td>0</td>\n",
       "      <td>2</td>\n",
       "      <td>1</td>\n",
       "    </tr>\n",
       "    <tr>\n",
       "      <th>102</th>\n",
       "      <td>63</td>\n",
       "      <td>0</td>\n",
       "      <td>1</td>\n",
       "      <td>140</td>\n",
       "      <td>195</td>\n",
       "      <td>0</td>\n",
       "      <td>1</td>\n",
       "      <td>179</td>\n",
       "      <td>0</td>\n",
       "      <td>0.0</td>\n",
       "      <td>2</td>\n",
       "      <td>2</td>\n",
       "      <td>2</td>\n",
       "      <td>1</td>\n",
       "    </tr>\n",
       "    <tr>\n",
       "      <th>129</th>\n",
       "      <td>74</td>\n",
       "      <td>0</td>\n",
       "      <td>1</td>\n",
       "      <td>120</td>\n",
       "      <td>269</td>\n",
       "      <td>0</td>\n",
       "      <td>0</td>\n",
       "      <td>121</td>\n",
       "      <td>1</td>\n",
       "      <td>0.2</td>\n",
       "      <td>2</td>\n",
       "      <td>1</td>\n",
       "      <td>2</td>\n",
       "      <td>1</td>\n",
       "    </tr>\n",
       "    <tr>\n",
       "      <th>104</th>\n",
       "      <td>50</td>\n",
       "      <td>1</td>\n",
       "      <td>2</td>\n",
       "      <td>129</td>\n",
       "      <td>196</td>\n",
       "      <td>0</td>\n",
       "      <td>1</td>\n",
       "      <td>163</td>\n",
       "      <td>0</td>\n",
       "      <td>0.0</td>\n",
       "      <td>2</td>\n",
       "      <td>0</td>\n",
       "      <td>2</td>\n",
       "      <td>1</td>\n",
       "    </tr>\n",
       "    <tr>\n",
       "      <th>82</th>\n",
       "      <td>60</td>\n",
       "      <td>0</td>\n",
       "      <td>2</td>\n",
       "      <td>102</td>\n",
       "      <td>318</td>\n",
       "      <td>0</td>\n",
       "      <td>1</td>\n",
       "      <td>160</td>\n",
       "      <td>0</td>\n",
       "      <td>0.0</td>\n",
       "      <td>2</td>\n",
       "      <td>1</td>\n",
       "      <td>2</td>\n",
       "      <td>1</td>\n",
       "    </tr>\n",
       "  </tbody>\n",
       "</table>\n",
       "</div>"
      ],
      "text/plain": [
       "     age  sex  cp  trestbps  chol  fbs  restecg  thalach  exang  oldpeak  \\\n",
       "94    45    0   1       112   160    0        1      138      0      0.0   \n",
       "102   63    0   1       140   195    0        1      179      0      0.0   \n",
       "129   74    0   1       120   269    0        0      121      1      0.2   \n",
       "104   50    1   2       129   196    0        1      163      0      0.0   \n",
       "82    60    0   2       102   318    0        1      160      0      0.0   \n",
       "\n",
       "     slope  ca  thal  target  \n",
       "94       1   0     2       1  \n",
       "102      2   2     2       1  \n",
       "129      2   1     2       1  \n",
       "104      2   0     2       1  \n",
       "82       2   1     2       1  "
      ]
     },
     "execution_count": 73,
     "metadata": {},
     "output_type": "execute_result"
    }
   ],
   "source": [
    "import pandas as pd\n",
    "from sklearn.preprocessing import StandardScaler\n",
    "\n",
    "from tensorflow import keras\n",
    "from sklearn.model_selection import GridSearchCV\n",
    "from tensorflow.keras.models import Sequential\n",
    "from tensorflow.keras.layers import Dense, Dropout\n",
    "from tensorflow.keras.wrappers.scikit_learn import KerasClassifier\n",
    "\n",
    "df = pd.read_csv('https://raw.githubusercontent.com/ryanleeallred/datasets/master/heart.csv')\n",
    "df = df.sample(frac=1)\n",
    "print(df.shape)\n",
    "df.head()"
   ]
  },
  {
   "cell_type": "code",
   "execution_count": 74,
   "metadata": {},
   "outputs": [
    {
     "name": "stdout",
     "output_type": "stream",
     "text": [
      "(303, 13)\n",
      "(303,)\n"
     ]
    }
   ],
   "source": [
    "sc = StandardScaler()\n",
    "df = sc.fit_transform(df)\n",
    "# split into input (X) and output (y) variables\n",
    "X = df[:,:-1]\n",
    "y = df[:,-1]\n",
    "\n",
    "print(X.shape)\n",
    "print(y.shape)"
   ]
  },
  {
   "cell_type": "code",
   "execution_count": 84,
   "metadata": {},
   "outputs": [],
   "source": [
    "from keras.optimizers import Adam\n",
    "# Function to create model, required for KerasClassifier\n",
    "def create_model():\n",
    "    # create model\n",
    "    model = Sequential()\n",
    "    # Input layer\n",
    "    model.add(Dense(num_neurons, input_dim=(X.shape[1]), activation='relu', kernel_initializer=init_mode))\n",
    "#     model.add(Dropout(0.05))\n",
    "    # Hidden Layers\n",
    "    model.add(Dense(num_neurons, activation='sigmoid', kernel_initializer=init_mode))\n",
    "#     model.add(Dropout(0.05))\n",
    "    model.add(Dense(num_neurons, activation='relu', kernel_initializer=init_mode))\n",
    "#     model.add(Dropout(0.05))\n",
    "    # Output Layer\n",
    "    model.add(Dense(1, activation='sigmoid', kernel_initializer=init_mode)) # sigmoid for binary output\n",
    "    # Compile model\n",
    "    adam = Adam(lr=learning_rate)\n",
    "    model.compile(loss='binary_crossentropy', optimizer=adam, metrics=['accuracy'])\n",
    "    return model"
   ]
  },
  {
   "cell_type": "markdown",
   "metadata": {},
   "source": [
    "## Baseline Model and Accuracy"
   ]
  },
  {
   "cell_type": "code",
   "execution_count": 91,
   "metadata": {},
   "outputs": [
    {
     "name": "stdout",
     "output_type": "stream",
     "text": [
      "Train on 272 samples, validate on 31 samples\n",
      "Epoch 1/10\n",
      "272/272 [==============================] - 4s 14ms/sample - loss: 0.6932 - acc: 0.5000 - val_loss: 0.6919 - val_acc: 0.6452\n",
      "Epoch 2/10\n",
      "272/272 [==============================] - 0s 497us/sample - loss: 0.6926 - acc: 0.5331 - val_loss: 0.6892 - val_acc: 0.6452\n",
      "Epoch 3/10\n",
      "272/272 [==============================] - 0s 438us/sample - loss: 0.6916 - acc: 0.5331 - val_loss: 0.6865 - val_acc: 0.6452\n",
      "Epoch 4/10\n",
      "272/272 [==============================] - 0s 456us/sample - loss: 0.6899 - acc: 0.5331 - val_loss: 0.6819 - val_acc: 0.6452\n",
      "Epoch 5/10\n",
      "272/272 [==============================] - 0s 557us/sample - loss: 0.6851 - acc: 0.5331 - val_loss: 0.6691 - val_acc: 0.6452\n",
      "Epoch 6/10\n",
      "272/272 [==============================] - 0s 510us/sample - loss: 0.6715 - acc: 0.5331 - val_loss: 0.6442 - val_acc: 0.6452\n",
      "Epoch 7/10\n",
      "272/272 [==============================] - 0s 453us/sample - loss: 0.6409 - acc: 0.5625 - val_loss: 0.5952 - val_acc: 0.7097\n",
      "Epoch 8/10\n",
      "272/272 [==============================] - 0s 530us/sample - loss: 0.5944 - acc: 0.7279 - val_loss: 0.5415 - val_acc: 0.8065\n",
      "Epoch 9/10\n",
      "272/272 [==============================] - 0s 453us/sample - loss: 0.5504 - acc: 0.7941 - val_loss: 0.5071 - val_acc: 0.8387\n",
      "Epoch 10/10\n",
      "272/272 [==============================] - 0s 515us/sample - loss: 0.5170 - acc: 0.8162 - val_loss: 0.4891 - val_acc: 0.8710\n"
     ]
    },
    {
     "data": {
      "text/plain": [
       "<tensorflow.python.keras.callbacks.History at 0x37096f1eb8>"
      ]
     },
     "execution_count": 91,
     "metadata": {},
     "output_type": "execute_result"
    }
   ],
   "source": [
    "# hyperparameters 83.9%\n",
    "num_neurons = 13\n",
    "epochs = 10\n",
    "batch_size = 13\n",
    "init_mode = 'normal'\n",
    "learning_rate = .5\n",
    "# create model\n",
    "model = KerasClassifier(build_fn=create_model, epochs=epochs, batch_size=batch_size, verbose=1)\n",
    "model.fit(X, y, validation_split=.1)\n",
    "# validation_split - reserve some data from dataset\n",
    "# verbose shows the print statements"
   ]
  },
  {
   "cell_type": "markdown",
   "metadata": {},
   "source": [
    "## GridSearchCV to hyperparameter tune your model"
   ]
  },
  {
   "cell_type": "code",
   "execution_count": 128,
   "metadata": {},
   "outputs": [
    {
     "name": "stderr",
     "output_type": "stream",
     "text": [
      "C:\\Users\\George\\Anaconda3\\lib\\site-packages\\sklearn\\model_selection\\_split.py:1978: FutureWarning: The default value of cv will change from 3 to 5 in version 0.22. Specify it explicitly to silence this warning.\n",
      "  warnings.warn(CV_WARNING, FutureWarning)\n"
     ]
    },
    {
     "name": "stdout",
     "output_type": "stream",
     "text": [
      "Best: 0.8085808555285136 using {'batch_size': 10, 'epochs': 20}\n",
      "\n",
      "Means: 0.7095709641774496, Stdev: 0.1289242458579567 with: {'batch_size': 10, 'epochs': 10}\n",
      "Means: 0.8085808555285136, Stdev: 0.03820407080172275 with: {'batch_size': 10, 'epochs': 20}\n",
      "Means: 0.5445544719696045, Stdev: 0.021388576788767738 with: {'batch_size': 30, 'epochs': 10}\n",
      "Means: 0.5445544719696045, Stdev: 0.021388576788767738 with: {'batch_size': 30, 'epochs': 20}\n",
      "Means: 0.5445544719696045, Stdev: 0.021388576788767738 with: {'batch_size': 50, 'epochs': 10}\n",
      "Means: 0.5445544719696045, Stdev: 0.021388576788767738 with: {'batch_size': 50, 'epochs': 20}\n",
      "Means: 0.495049516359965, Stdev: 0.04917382333385347 with: {'batch_size': 100, 'epochs': 10}\n",
      "Means: 0.5445544719696045, Stdev: 0.021388576788767738 with: {'batch_size': 100, 'epochs': 20}\n"
     ]
    }
   ],
   "source": [
    "# Hyperparameters\n",
    "num_neurons = 13\n",
    "init_mode = 'normal'\n",
    "learning_rate = .5\n",
    "# Grid Search parameters\n",
    "param_grid = {'batch_size': [10, 30, 50, 100],\n",
    "              'epochs': [10, 20]}\n",
    "# create model\n",
    "model = KerasClassifier(build_fn=create_model, verbose=0)\n",
    "# Create Grid Search\n",
    "grid = GridSearchCV(estimator=model, param_grid=param_grid, n_jobs=1)\n",
    "grid_result = grid.fit(X, y)\n",
    "\n",
    "# Report Results\n",
    "print(f\"Best: {grid_result.best_score_} using {grid_result.best_params_}\\n\")\n",
    "means = grid_result.cv_results_['mean_test_score']\n",
    "stds = grid_result.cv_results_['std_test_score']\n",
    "params = grid_result.cv_results_['params']\n",
    "for mean, stdev, param in zip(means, stds, params):\n",
    "    print(f\"Means: {mean}, Stdev: {stdev} with: {param}\") "
   ]
  },
  {
   "cell_type": "code",
   "execution_count": 129,
   "metadata": {},
   "outputs": [
    {
     "name": "stdout",
     "output_type": "stream",
     "text": [
      "Best: 0.8349835077921549 using {'batch_size': 10, 'epochs': 10}\n",
      "\n",
      "Means: 0.8349835077921549, Stdev: 0.07335350495647412 with: {'batch_size': 10, 'epochs': 10}\n",
      "Means: 0.8118811845779419, Stdev: 0.04917379533104063 with: {'batch_size': 10, 'epochs': 20}\n",
      "Means: 0.5445544719696045, Stdev: 0.021388576788767738 with: {'batch_size': 30, 'epochs': 10}\n",
      "Means: 0.8151815136273702, Stdev: 0.05502748195212182 with: {'batch_size': 30, 'epochs': 20}\n",
      "Means: 0.5445544719696045, Stdev: 0.021388576788767738 with: {'batch_size': 50, 'epochs': 10}\n",
      "Means: 0.5445544719696045, Stdev: 0.021388576788767738 with: {'batch_size': 50, 'epochs': 20}\n",
      "Means: 0.5445544719696045, Stdev: 0.021388576788767738 with: {'batch_size': 100, 'epochs': 10}\n",
      "Means: 0.5445544719696045, Stdev: 0.021388576788767738 with: {'batch_size': 100, 'epochs': 20}\n"
     ]
    }
   ],
   "source": [
    "# Hyperparameters\n",
    "num_neurons = 26\n",
    "init_mode = 'normal'\n",
    "learning_rate = .5\n",
    "# Grid Search parameters\n",
    "param_grid = {'batch_size': [10, 30, 50, 100],\n",
    "              'epochs': [10, 20]}\n",
    "# create model\n",
    "model = KerasClassifier(build_fn=create_model, verbose=0)\n",
    "# Create Grid Search\n",
    "grid = GridSearchCV(estimator=model, param_grid=param_grid, n_jobs=1)\n",
    "grid_result = grid.fit(X, y)\n",
    "\n",
    "# Report Results\n",
    "print(f\"Best: {grid_result.best_score_} using {grid_result.best_params_}\\n\")\n",
    "means = grid_result.cv_results_['mean_test_score']\n",
    "stds = grid_result.cv_results_['std_test_score']\n",
    "params = grid_result.cv_results_['params']\n",
    "for mean, stdev, param in zip(means, stds, params):\n",
    "    print(f\"Means: {mean}, Stdev: {stdev} with: {param}\") "
   ]
  },
  {
   "cell_type": "code",
   "execution_count": 130,
   "metadata": {},
   "outputs": [
    {
     "name": "stdout",
     "output_type": "stream",
     "text": [
      "Best: 0.8250825007756551 using {'batch_size': 10, 'epochs': 20}\n",
      "\n",
      "Means: 0.7788779139518738, Stdev: 0.08719369697853102 with: {'batch_size': 10, 'epochs': 10}\n",
      "Means: 0.8250825007756551, Stdev: 0.032671590713967885 with: {'batch_size': 10, 'epochs': 20}\n",
      "Means: 0.5445544719696045, Stdev: 0.021388576788767738 with: {'batch_size': 30, 'epochs': 10}\n",
      "Means: 0.5445544719696045, Stdev: 0.021388576788767738 with: {'batch_size': 30, 'epochs': 20}\n",
      "Means: 0.5445544719696045, Stdev: 0.021388576788767738 with: {'batch_size': 50, 'epochs': 10}\n",
      "Means: 0.5445544719696045, Stdev: 0.021388576788767738 with: {'batch_size': 50, 'epochs': 20}\n",
      "Means: 0.5445544719696045, Stdev: 0.021388576788767738 with: {'batch_size': 100, 'epochs': 10}\n",
      "Means: 0.5445544719696045, Stdev: 0.021388576788767738 with: {'batch_size': 100, 'epochs': 20}\n"
     ]
    }
   ],
   "source": [
    "# Hyperparameters\n",
    "num_neurons = 13\n",
    "init_mode = 'uniform'\n",
    "learning_rate = .5\n",
    "# Grid Search parameters\n",
    "param_grid = {'batch_size': [10, 30, 50, 100],\n",
    "              'epochs': [10, 20]}\n",
    "# create model\n",
    "model = KerasClassifier(build_fn=create_model, verbose=0)\n",
    "# Create Grid Search\n",
    "grid = GridSearchCV(estimator=model, param_grid=param_grid, n_jobs=1)\n",
    "grid_result = grid.fit(X, y)\n",
    "\n",
    "# Report Results\n",
    "print(f\"Best: {grid_result.best_score_} using {grid_result.best_params_}\\n\")\n",
    "means = grid_result.cv_results_['mean_test_score']\n",
    "stds = grid_result.cv_results_['std_test_score']\n",
    "params = grid_result.cv_results_['params']\n",
    "for mean, stdev, param in zip(means, stds, params):\n",
    "    print(f\"Means: {mean}, Stdev: {stdev} with: {param}\") "
   ]
  },
  {
   "cell_type": "code",
   "execution_count": 131,
   "metadata": {},
   "outputs": [
    {
     "name": "stdout",
     "output_type": "stream",
     "text": [
      "Best: 0.8250825007756551 using {'batch_size': 10, 'epochs': 20}\n",
      "\n",
      "Means: 0.6336633761723837, Stdev: 0.120721715539791 with: {'batch_size': 10, 'epochs': 10}\n",
      "Means: 0.8250825007756551, Stdev: 0.033656884448624094 with: {'batch_size': 10, 'epochs': 20}\n",
      "Means: 0.5445544719696045, Stdev: 0.021388576788767738 with: {'batch_size': 30, 'epochs': 10}\n",
      "Means: 0.7524752418200175, Stdev: 0.0889253680317193 with: {'batch_size': 30, 'epochs': 20}\n",
      "Means: 0.5445544719696045, Stdev: 0.021388576788767738 with: {'batch_size': 50, 'epochs': 10}\n",
      "Means: 0.5445544719696045, Stdev: 0.021388576788767738 with: {'batch_size': 50, 'epochs': 20}\n",
      "Means: 0.5445544719696045, Stdev: 0.021388576788767738 with: {'batch_size': 100, 'epochs': 10}\n",
      "Means: 0.5445544719696045, Stdev: 0.021388576788767738 with: {'batch_size': 100, 'epochs': 20}\n"
     ]
    }
   ],
   "source": [
    "# Hyperparameters\n",
    "num_neurons = 13\n",
    "init_mode = 'normal'\n",
    "learning_rate = .1\n",
    "# Grid Search parameters\n",
    "param_grid = {'batch_size': [10, 30, 50, 100],\n",
    "              'epochs': [10, 20]}\n",
    "# create model\n",
    "model = KerasClassifier(build_fn=create_model, verbose=0)\n",
    "# Create Grid Search\n",
    "grid = GridSearchCV(estimator=model, param_grid=param_grid, n_jobs=1)\n",
    "grid_result = grid.fit(X, y)\n",
    "\n",
    "# Report Results\n",
    "print(f\"Best: {grid_result.best_score_} using {grid_result.best_params_}\\n\")\n",
    "means = grid_result.cv_results_['mean_test_score']\n",
    "stds = grid_result.cv_results_['std_test_score']\n",
    "params = grid_result.cv_results_['params']\n",
    "for mean, stdev, param in zip(means, stds, params):\n",
    "    print(f\"Means: {mean}, Stdev: {stdev} with: {param}\") "
   ]
  },
  {
   "cell_type": "code",
   "execution_count": null,
   "metadata": {},
   "outputs": [],
   "source": []
  }
 ],
 "metadata": {
  "kernel_info": {
   "name": "python3"
  },
  "kernelspec": {
   "display_name": "Python 3",
   "language": "python",
   "name": "python3"
  },
  "language_info": {
   "codemirror_mode": {
    "name": "ipython",
    "version": 3
   },
   "file_extension": ".py",
   "mimetype": "text/x-python",
   "name": "python",
   "nbconvert_exporter": "python",
   "pygments_lexer": "ipython3",
   "version": "3.7.3"
  },
  "nteract": {
   "version": "0.14.3"
  }
 },
 "nbformat": 4,
 "nbformat_minor": 4
}
