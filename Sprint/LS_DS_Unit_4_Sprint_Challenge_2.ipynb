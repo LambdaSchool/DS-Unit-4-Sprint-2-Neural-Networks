{
 "cells": [
  {
   "cell_type": "markdown",
   "metadata": {},
   "source": [
    "<img align=\"left\" src=\"https://lever-client-logos.s3.amazonaws.com/864372b1-534c-480e-acd5-9711f850815c-1524247202159.png\" width=200>\n",
    "<br></br>\n",
    "<br></br>\n",
    "\n",
    "## *Data Science Unit 4 Sprint 2*\n",
    "\n",
    "# Sprint Challenge - Neural Network Foundations\n",
    "\n",
    "Table of Problems\n",
    "\n",
    "1. [Defining Neural Networks](#Q1)\n",
    "2. [Chocolate Gummy Bears](#Q2)\n",
    "    - Perceptron\n",
    "    - Multilayer Perceptron\n",
    "4. [Keras MMP](#Q3)"
   ]
  },
  {
   "cell_type": "markdown",
   "metadata": {},
   "source": [
    "<a id=\"Q1\"></a>\n",
    "## 1. Define the following terms:\n",
    "\n",
    "- **Neuron:** A neuron takes inputs and fires an output if the weighted sum of the input meets the activation threshold\n",
    "\n",
    "- **Input Layer:** Input layer is the layer of a neural network that directly interfaces with the input to the network.\n",
    "\n",
    "- **Hidden Layer:** Hidden layers are the layers of a neural network that neither the input or output have direct access to.\n",
    "\n",
    "- **Output Layer:** Output layer is the layer of a neural network that directly interfaces with the outputs of the network.\n",
    "\n",
    "- **Activation:** Activation is the function of a perceptron that takes weighted inputs of a perceptron and determines what should be the output. Common activation functions includes sigmoid, tanh, ReLU, leakyReLU, etc.\n",
    "\n",
    "- **Backpropagation:** Back propogation is one of the algorithms that is used to update the weights/parameters of neural networks. First, inputs are processed through a forward step and produce an output. That output is differenced against the expected target output. The differences are then back propogated to find attributions from weights and biases parameters. Update the parameters and go through the steps until it converges to a solution.\n"
   ]
  },
  {
   "cell_type": "markdown",
   "metadata": {},
   "source": [
    "## 2. Chocolate Gummy Bears <a id=\"Q2\"></a>\n",
    "\n",
    "Right now, you're probably thinking, \"yuck, who the hell would eat that?\". Great question. Your candy company wants to know too. And you thought I was kidding about the [Chocolate Gummy Bears](https://nuts.com/chocolatessweets/gummies/gummy-bears/milk-gummy-bears.html?utm_source=google&utm_medium=cpc&adpos=1o1&gclid=Cj0KCQjwrfvsBRD7ARIsAKuDvMOZrysDku3jGuWaDqf9TrV3x5JLXt1eqnVhN0KM6fMcbA1nod3h8AwaAvWwEALw_wcB). \n",
    "\n",
    "Let's assume that a candy company has gone out and collected information on the types of Halloween candy kids ate. Our candy company wants to predict the eating behavior of witches, warlocks, and ghosts -- aka costumed kids. They shared a sample dataset with us. Each row represents a piece of candy that a costumed child was presented with during \"trick\" or \"treat\". We know if the candy was `chocolate` (or not chocolate) or `gummy` (or not gummy). Your goal is to predict if the costumed kid `ate` the piece of candy. \n",
    "\n",
    "If both chocolate and gummy equal one, you've got a chocolate gummy bear on your hands!?!?!\n",
    "![Chocolate Gummy Bear](https://ed910ae2d60f0d25bcb8-80550f96b5feb12604f4f720bfefb46d.ssl.cf1.rackcdn.com/3fb630c04435b7b5-2leZuM7_-zoom.jpg)"
   ]
  },
  {
   "cell_type": "code",
   "execution_count": 1,
   "metadata": {
    "inputHidden": false,
    "outputHidden": false
   },
   "outputs": [],
   "source": [
    "import pandas as pd\n",
    "candy = pd.read_csv('chocolate_gummy_bears.csv')"
   ]
  },
  {
   "cell_type": "code",
   "execution_count": 2,
   "metadata": {
    "inputHidden": false,
    "outputHidden": false
   },
   "outputs": [
    {
     "name": "stdout",
     "output_type": "stream",
     "text": [
      "(10000, 3)\n"
     ]
    },
    {
     "data": {
      "text/html": [
       "<div>\n",
       "<style scoped>\n",
       "    .dataframe tbody tr th:only-of-type {\n",
       "        vertical-align: middle;\n",
       "    }\n",
       "\n",
       "    .dataframe tbody tr th {\n",
       "        vertical-align: top;\n",
       "    }\n",
       "\n",
       "    .dataframe thead th {\n",
       "        text-align: right;\n",
       "    }\n",
       "</style>\n",
       "<table border=\"1\" class=\"dataframe\">\n",
       "  <thead>\n",
       "    <tr style=\"text-align: right;\">\n",
       "      <th></th>\n",
       "      <th>chocolate</th>\n",
       "      <th>gummy</th>\n",
       "      <th>ate</th>\n",
       "    </tr>\n",
       "  </thead>\n",
       "  <tbody>\n",
       "    <tr>\n",
       "      <td>0</td>\n",
       "      <td>0</td>\n",
       "      <td>1</td>\n",
       "      <td>1</td>\n",
       "    </tr>\n",
       "    <tr>\n",
       "      <td>1</td>\n",
       "      <td>1</td>\n",
       "      <td>0</td>\n",
       "      <td>1</td>\n",
       "    </tr>\n",
       "    <tr>\n",
       "      <td>2</td>\n",
       "      <td>0</td>\n",
       "      <td>1</td>\n",
       "      <td>1</td>\n",
       "    </tr>\n",
       "    <tr>\n",
       "      <td>3</td>\n",
       "      <td>0</td>\n",
       "      <td>0</td>\n",
       "      <td>0</td>\n",
       "    </tr>\n",
       "    <tr>\n",
       "      <td>4</td>\n",
       "      <td>1</td>\n",
       "      <td>1</td>\n",
       "      <td>0</td>\n",
       "    </tr>\n",
       "  </tbody>\n",
       "</table>\n",
       "</div>"
      ],
      "text/plain": [
       "   chocolate  gummy  ate\n",
       "0          0      1    1\n",
       "1          1      0    1\n",
       "2          0      1    1\n",
       "3          0      0    0\n",
       "4          1      1    0"
      ]
     },
     "execution_count": 2,
     "metadata": {},
     "output_type": "execute_result"
    }
   ],
   "source": [
    "print(candy.shape)\n",
    "candy.head()"
   ]
  },
  {
   "cell_type": "markdown",
   "metadata": {},
   "source": [
    "### Perceptron\n",
    "\n",
    "To make predictions on the `candy` dataframe. Build and train a Perceptron using numpy. Your target column is `ate` and your features: `chocolate` and `gummy`. Do not do any feature engineering. :P\n",
    "\n",
    "Once you've trained your model, report your accuracy. Explain why you could not achieve a higher accuracy with a *simple perceptron*. It's possible to achieve ~95% accuracy on this dataset."
   ]
  },
  {
   "cell_type": "code",
   "execution_count": 2,
   "metadata": {},
   "outputs": [],
   "source": [
    "import numpy as np\n",
    "from sklearn.model_selection import train_test_split\n",
    "from sklearn.metrics import accuracy_score\n",
    "from sklearn.preprocessing import StandardScaler"
   ]
  },
  {
   "cell_type": "code",
   "execution_count": 3,
   "metadata": {
    "inputHidden": false,
    "outputHidden": false
   },
   "outputs": [],
   "source": [
    "# Start your candy perceptron here\n",
    "\n",
    "X = candy[['chocolate', 'gummy']].values\n",
    "y = candy['ate'].values"
   ]
  },
  {
   "cell_type": "code",
   "execution_count": 17,
   "metadata": {},
   "outputs": [
    {
     "data": {
      "text/plain": [
       "((8000, 2), (2000, 2), (8000,), (2000,))"
      ]
     },
     "execution_count": 17,
     "metadata": {},
     "output_type": "execute_result"
    }
   ],
   "source": [
    "X_train, X_test, y_train, y_test = train_test_split(X, y, test_size=0.20, random_state=42,\n",
    "                                                 )\n",
    "\n",
    "X_train.shape, X_test.shape, y_train.shape, y_test.shape"
   ]
  },
  {
   "cell_type": "code",
   "execution_count": 13,
   "metadata": {},
   "outputs": [],
   "source": [
    "def sigmoid(x):\n",
    "    return 1 / (1 + np.exp(-x))\n",
    "\n",
    "def sigmoid_derivative(x):\n",
    "    sx = sigmoid(x)\n",
    "    return sx * (1-sx)"
   ]
  },
  {
   "cell_type": "code",
   "execution_count": 14,
   "metadata": {},
   "outputs": [],
   "source": [
    "weights = 2*np.random.random((2, 1)) - 1"
   ]
  },
  {
   "cell_type": "code",
   "execution_count": 17,
   "metadata": {},
   "outputs": [
    {
     "name": "stderr",
     "output_type": "stream",
     "text": [
      "/usr/local/lib/python3.6/dist-packages/ipykernel_launcher.py:2: RuntimeWarning: overflow encountered in exp\n",
      "  \n"
     ]
    },
    {
     "name": "stdout",
     "output_type": "stream",
     "text": [
      "weights after training\n",
      "[[-316.45971145]\n",
      " [-158.72278313]]\n",
      "output after training\n",
      "[[0.5]\n",
      " [1. ]\n",
      " [1. ]\n",
      " ...\n",
      " [1. ]\n",
      " [1. ]\n",
      " [0.5]]\n"
     ]
    }
   ],
   "source": [
    "for iteration in range(10000):\n",
    "    \n",
    "    #weighted sum of inputs / weights\n",
    "    weighted_sum = np.dot(X_train, weights)\n",
    "    \n",
    "    #activate\n",
    "    activated_output = sigmoid(weighted_sum)\n",
    "    \n",
    "    #cac error\n",
    "    error = y_train - activated_output\n",
    "    \n",
    "    adjustments = error * sigmoid_derivative(activated_output)\n",
    "    \n",
    "    #update the weights\n",
    "    \n",
    "    weights += np.dot(X_train.T, adjustments)\n",
    "    \n",
    "print(\"weights after training\")\n",
    "print(weights)\n",
    "    \n",
    "print(\"output after training\")\n",
    "print(activated_output)"
   ]
  },
  {
   "cell_type": "code",
   "execution_count": 18,
   "metadata": {},
   "outputs": [],
   "source": [
    "activated_output[activated_output < .5] = 0\n",
    "activated_output[activated_output >= .5] = 1"
   ]
  },
  {
   "cell_type": "code",
   "execution_count": 19,
   "metadata": {},
   "outputs": [
    {
     "name": "stdout",
     "output_type": "stream",
     "text": [
      "accuracy: 0.5025\n"
     ]
    }
   ],
   "source": [
    "print(\"accuracy:\", accuracy_score(activated_output, y_train))"
   ]
  },
  {
   "cell_type": "markdown",
   "metadata": {},
   "source": [
    "Simple perceptrons do not utilize feed forward and back propagation, which limits them to only learning linearly separable patterns. "
   ]
  },
  {
   "cell_type": "markdown",
   "metadata": {},
   "source": [
    "### Multilayer Perceptron <a id=\"Q3\"></a>\n",
    "\n",
    "Using the sample candy dataset, implement a Neural Network Multilayer Perceptron class that uses backpropagation to update the network's weights. Your Multilayer Perceptron should be implemented in Numpy. \n",
    "Your network must have one hidden layer.\n",
    "\n",
    "Once you've trained your model, report your accuracy. Explain why your MLP's performance is considerably better than your simple perceptron's on the candy dataset. "
   ]
  },
  {
   "cell_type": "code",
   "execution_count": 22,
   "metadata": {},
   "outputs": [],
   "source": [
    "class NeuralNetwork: \n",
    "    def __init__(self):\n",
    "        # Set up Architecture \n",
    "        self.inputs = 2\n",
    "        self.hiddenNodes = 8\n",
    "        self.outputNodes = 1\n",
    "        \n",
    "        #Initial weights\n",
    "        self.weights1 = np.random.randn(self.inputs, self.hiddenNodes)\n",
    "        self.weights2 = np.random.randn(self.hiddenNodes, self.outputNodes)\n",
    "    \n",
    "    def sigmoid(self, s):\n",
    "        return 1 / (1+np.exp(-s))\n",
    "    \n",
    "    def sigmoidPrime(self, s):\n",
    "        return np.exp(-s)/((1+np.exp(-s))**2)\n",
    "    \n",
    "    def feed_forward(self, X):\n",
    "        \"\"\"\n",
    "        Calculate the NN inference using feed forward.\n",
    "        \"\"\"\n",
    "        \n",
    "        #Weighted sume of inputs and hidden layer\n",
    "        self.h2 = np.dot(X, self.weights1)\n",
    "        \n",
    "        #Acivations of weighted sum\n",
    "        self.a2 = self.sigmoid(self.h2)\n",
    "        \n",
    "        # Weight sum between hidden and output\n",
    "        self.h3 = np.dot(self.a2, self.weights2)\n",
    "        \n",
    "        #Final activation of output\n",
    "        self.a3 = self.sigmoid(self.h3)\n",
    "        \n",
    "        return self.a3\n",
    "    \n",
    "    def backward(self, X, y, o, learning_rate=0.1):\n",
    "        \"\"\"\n",
    "        Backward propagate through the network\n",
    "        \"\"\"\n",
    "        self.o_error = y - o #error in output\n",
    "        self.o_delta = learning_rate*(self.o_error * self.sigmoidPrime(o)) # apply derivative of sigmoid to error\n",
    "        \n",
    "        self.z2_error = self.o_delta.dot(self.weights2.T) # z2 error: how much our hidden layer weights were off\n",
    "        self.z2_delta = self.z2_error*self.sigmoidPrime(self.a2)\n",
    "        \n",
    "        self.weights1 += X.T.dot(self.z2_delta) #Adjust first set (input => hidden) weights\n",
    "        self.weights2 += self.a2.T.dot(self.o_delta) #adjust second set (hidden => output) weights\n",
    "        \n",
    "    def train(self, X, y, learning_rate=0.01):\n",
    "        for _ in range(10000):\n",
    "            o = self.feed_forward(X)\n",
    "            self.backward(X, y, o, learning_rate=learning_rate)\n",
    "        self.loss = np.mean(np.square(y-self.feed_forward(X)))\n",
    "        print(\"Loss: \" + str(self.loss))\n",
    "        \n",
    "    def predict(self, X, y):\n",
    "        preds = self.feed_forward(X)\n",
    "        \n",
    "        preds[preds < .5] = 0\n",
    "        preds[preds >= .5] = 1\n",
    "        \n",
    "        print(\"Accuracy:\", accuracy_score(y, preds))\n",
    "        "
   ]
  },
  {
   "cell_type": "code",
   "execution_count": 23,
   "metadata": {},
   "outputs": [],
   "source": [
    "y_train = y_train.reshape(-1,1)\n",
    "y_test = y_test.reshape(-1,1)"
   ]
  },
  {
   "cell_type": "code",
   "execution_count": 24,
   "metadata": {},
   "outputs": [
    {
     "name": "stdout",
     "output_type": "stream",
     "text": [
      "Loss: 0.20073220120943674\n",
      "Accuracy: 0.946\n"
     ]
    }
   ],
   "source": [
    "nn = NeuralNetwork()\n",
    "\n",
    "nn.train(X_train, y_train)\n",
    "\n",
    "nn.predict(X_test, y_test)"
   ]
  },
  {
   "cell_type": "markdown",
   "metadata": {},
   "source": [
    "With backpropagation, the weights are updated in reverse order to minimize loss. Combining weights into the input contributes to the output, so minimizing the error associated with weights helps with better accuracy. They can also account for non-linear patterns."
   ]
  },
  {
   "cell_type": "markdown",
   "metadata": {},
   "source": [
    "P.S. Don't try candy gummy bears. They're disgusting. "
   ]
  },
  {
   "cell_type": "markdown",
   "metadata": {},
   "source": [
    "## 3. Keras MMP <a id=\"Q3\"></a>\n",
    "\n",
    "Implement a Multilayer Perceptron architecture of your choosing using the Keras library. Train your model and report its baseline accuracy. Then hyperparameter tune at least two parameters and report your model's accuracy.\n",
    "Use the Heart Disease Dataset (binary classification)\n",
    "Use an appropriate loss function for a binary classification task\n",
    "Use an appropriate activation function on the final layer of your network.\n",
    "Train your model using verbose output for ease of grading.\n",
    "Use GridSearchCV or RandomSearchCV to hyperparameter tune your model. (for at least two hyperparameters)\n",
    "When hyperparameter tuning, show you work by adding code cells for each new experiment.\n",
    "Report the accuracy for each combination of hyperparameters as you test them so that we can easily see which resulted in the highest accuracy.\n",
    "You must hyperparameter tune at least 3 parameters in order to get a 3 on this section."
   ]
  },
  {
   "cell_type": "code",
   "execution_count": 17,
   "metadata": {},
   "outputs": [],
   "source": [
    "import tensorflow\n",
    "from tensorflow import keras \n",
    "from tensorflow.keras.models import Sequential, Model\n",
    "from tensorflow.keras.layers import Dense, Dropout, Activation, Flatten, Input\n",
    "from tensorflow.keras.utils import to_categorical\n",
    "from tensorflow.keras.optimizers import SGD\n",
    "from sklearn.preprocessing import OrdinalEncoder\n",
    "from sklearn.model_selection import GridSearchCV\n",
    "from tensorflow.keras.wrappers.scikit_learn import KerasClassifier\n",
    "import matplotlib.pyplot as plt"
   ]
  },
  {
   "cell_type": "code",
   "execution_count": 2,
   "metadata": {
    "inputHidden": false,
    "outputHidden": false
   },
   "outputs": [
    {
     "name": "stdout",
     "output_type": "stream",
     "text": [
      "(303, 14)\n"
     ]
    },
    {
     "data": {
      "text/html": [
       "<div>\n",
       "<style scoped>\n",
       "    .dataframe tbody tr th:only-of-type {\n",
       "        vertical-align: middle;\n",
       "    }\n",
       "\n",
       "    .dataframe tbody tr th {\n",
       "        vertical-align: top;\n",
       "    }\n",
       "\n",
       "    .dataframe thead th {\n",
       "        text-align: right;\n",
       "    }\n",
       "</style>\n",
       "<table border=\"1\" class=\"dataframe\">\n",
       "  <thead>\n",
       "    <tr style=\"text-align: right;\">\n",
       "      <th></th>\n",
       "      <th>age</th>\n",
       "      <th>sex</th>\n",
       "      <th>cp</th>\n",
       "      <th>trestbps</th>\n",
       "      <th>chol</th>\n",
       "      <th>fbs</th>\n",
       "      <th>restecg</th>\n",
       "      <th>thalach</th>\n",
       "      <th>exang</th>\n",
       "      <th>oldpeak</th>\n",
       "      <th>slope</th>\n",
       "      <th>ca</th>\n",
       "      <th>thal</th>\n",
       "      <th>target</th>\n",
       "    </tr>\n",
       "  </thead>\n",
       "  <tbody>\n",
       "    <tr>\n",
       "      <td>191</td>\n",
       "      <td>58</td>\n",
       "      <td>1</td>\n",
       "      <td>0</td>\n",
       "      <td>128</td>\n",
       "      <td>216</td>\n",
       "      <td>0</td>\n",
       "      <td>0</td>\n",
       "      <td>131</td>\n",
       "      <td>1</td>\n",
       "      <td>2.2</td>\n",
       "      <td>1</td>\n",
       "      <td>3</td>\n",
       "      <td>3</td>\n",
       "      <td>0</td>\n",
       "    </tr>\n",
       "    <tr>\n",
       "      <td>124</td>\n",
       "      <td>39</td>\n",
       "      <td>0</td>\n",
       "      <td>2</td>\n",
       "      <td>94</td>\n",
       "      <td>199</td>\n",
       "      <td>0</td>\n",
       "      <td>1</td>\n",
       "      <td>179</td>\n",
       "      <td>0</td>\n",
       "      <td>0.0</td>\n",
       "      <td>2</td>\n",
       "      <td>0</td>\n",
       "      <td>2</td>\n",
       "      <td>1</td>\n",
       "    </tr>\n",
       "    <tr>\n",
       "      <td>114</td>\n",
       "      <td>55</td>\n",
       "      <td>1</td>\n",
       "      <td>1</td>\n",
       "      <td>130</td>\n",
       "      <td>262</td>\n",
       "      <td>0</td>\n",
       "      <td>1</td>\n",
       "      <td>155</td>\n",
       "      <td>0</td>\n",
       "      <td>0.0</td>\n",
       "      <td>2</td>\n",
       "      <td>0</td>\n",
       "      <td>2</td>\n",
       "      <td>1</td>\n",
       "    </tr>\n",
       "    <tr>\n",
       "      <td>6</td>\n",
       "      <td>56</td>\n",
       "      <td>0</td>\n",
       "      <td>1</td>\n",
       "      <td>140</td>\n",
       "      <td>294</td>\n",
       "      <td>0</td>\n",
       "      <td>0</td>\n",
       "      <td>153</td>\n",
       "      <td>0</td>\n",
       "      <td>1.3</td>\n",
       "      <td>1</td>\n",
       "      <td>0</td>\n",
       "      <td>2</td>\n",
       "      <td>1</td>\n",
       "    </tr>\n",
       "    <tr>\n",
       "      <td>26</td>\n",
       "      <td>59</td>\n",
       "      <td>1</td>\n",
       "      <td>2</td>\n",
       "      <td>150</td>\n",
       "      <td>212</td>\n",
       "      <td>1</td>\n",
       "      <td>1</td>\n",
       "      <td>157</td>\n",
       "      <td>0</td>\n",
       "      <td>1.6</td>\n",
       "      <td>2</td>\n",
       "      <td>0</td>\n",
       "      <td>2</td>\n",
       "      <td>1</td>\n",
       "    </tr>\n",
       "  </tbody>\n",
       "</table>\n",
       "</div>"
      ],
      "text/plain": [
       "     age  sex  cp  trestbps  chol  fbs  restecg  thalach  exang  oldpeak  \\\n",
       "191   58    1   0       128   216    0        0      131      1      2.2   \n",
       "124   39    0   2        94   199    0        1      179      0      0.0   \n",
       "114   55    1   1       130   262    0        1      155      0      0.0   \n",
       "6     56    0   1       140   294    0        0      153      0      1.3   \n",
       "26    59    1   2       150   212    1        1      157      0      1.6   \n",
       "\n",
       "     slope  ca  thal  target  \n",
       "191      1   3     3       0  \n",
       "124      2   0     2       1  \n",
       "114      2   0     2       1  \n",
       "6        1   0     2       1  \n",
       "26       2   0     2       1  "
      ]
     },
     "execution_count": 2,
     "metadata": {},
     "output_type": "execute_result"
    }
   ],
   "source": [
    "import pandas as pd\n",
    "from sklearn.preprocessing import StandardScaler\n",
    "\n",
    "df = pd.read_csv('https://raw.githubusercontent.com/ryanleeallred/datasets/master/heart.csv')\n",
    "df = df.sample(frac=1)\n",
    "print(df.shape)\n",
    "df.head()"
   ]
  },
  {
   "cell_type": "code",
   "execution_count": 5,
   "metadata": {},
   "outputs": [
    {
     "name": "stdout",
     "output_type": "stream",
     "text": [
      "(242, 13) (61, 13) (242,) (61,)\n"
     ]
    }
   ],
   "source": [
    "# Scale values\n",
    "x = df.values \n",
    "min_max_scaler = StandardScaler()\n",
    "x_scaled = min_max_scaler.fit_transform(x)\n",
    "\n",
    "# Split values into x and y components\n",
    "X_train, X_test, y_train, y_test = train_test_split(x_scaled[:, :-1], x_scaled[:, -1], test_size=0.2)\n",
    "\n",
    "print(X_train.shape, X_test.shape, y_train.shape, y_test.shape)"
   ]
  },
  {
   "cell_type": "code",
   "execution_count": 22,
   "metadata": {},
   "outputs": [
    {
     "name": "stdout",
     "output_type": "stream",
     "text": [
      "Model: \"model_3\"\n",
      "_________________________________________________________________\n",
      "Layer (type)                 Output Shape              Param #   \n",
      "=================================================================\n",
      "input_4 (InputLayer)         [(None, 13)]              0         \n",
      "_________________________________________________________________\n",
      "dense_68 (Dense)             (None, 1)                 14        \n",
      "=================================================================\n",
      "Total params: 14\n",
      "Trainable params: 14\n",
      "Non-trainable params: 0\n",
      "_________________________________________________________________\n"
     ]
    }
   ],
   "source": [
    "# Baseline Model\n",
    "inputs = Input(shape=(X_train.shape[1],))\n",
    "x = Dense(64, activation='relu')(inputs)\n",
    "x = Dense(64, activation='relu')(x)\n",
    "predictions = Dense(1, activation='sigmoid')(inputs)\n",
    "\n",
    "model = Model(inputs=inputs, outputs=predictions)\n",
    "model.compile(optimizer='adam',\n",
    "              loss=\"binary_crossentropy\",\n",
    "              metrics=['accuracy'])\n",
    "model.summary()"
   ]
  },
  {
   "cell_type": "code",
   "execution_count": 23,
   "metadata": {},
   "outputs": [],
   "source": [
    "history = model.fit(X_train, y_train, validation_split=0.20, epochs=10, verbose=False)"
   ]
  },
  {
   "cell_type": "code",
   "execution_count": 9,
   "metadata": {},
   "outputs": [
    {
     "name": "stdout",
     "output_type": "stream",
     "text": [
      "accuracy: 0.0\n"
     ]
    }
   ],
   "source": [
    "scores = model.evaluate(X_test, y_test, verbose=False)\n",
    "print(f'{model.metrics_names[1]}: {scores[1]*100}')"
   ]
  },
  {
   "cell_type": "code",
   "execution_count": 15,
   "metadata": {},
   "outputs": [
    {
     "data": {
      "image/png": "[encoded data removed]",
      "text/plain": [
       "<Figure size 432x288 with 1 Axes>"
      ]
     },
     "metadata": {
      "needs_background": "light"
     },
     "output_type": "display_data"
    }
   ],
   "source": [
    "# Plot training & validation loss values\n",
    "plt.plot(history.history['loss'])\n",
    "plt.plot(history.history['val_loss'])\n",
    "plt.title('Model loss')\n",
    "plt.ylabel('Loss')\n",
    "plt.xlabel('Epoch')\n",
    "plt.legend(['Train', 'Test'], loc='upper right')\n",
    "plt.show();"
   ]
  },
  {
   "cell_type": "code",
   "execution_count": 30,
   "metadata": {},
   "outputs": [
    {
     "name": "stdout",
     "output_type": "stream",
     "text": [
      "Best: 0.8595041300147033 using {'batch_size': 32, 'epochs': 80}\n",
      "Means: 0.8512396736085908, Stdev: 0.03459863708372117 with: {'batch_size': 16, 'epochs': 20}\n",
      "Means: 0.8388429744677111, Stdev: 0.027400996599243277 with: {'batch_size': 16, 'epochs': 80}\n",
      "Means: 0.8305785104262927, Stdev: 0.030188114360189464 with: {'batch_size': 32, 'epochs': 20}\n",
      "Means: 0.8595041300147033, Stdev: 0.03201150516339827 with: {'batch_size': 32, 'epochs': 80}\n",
      "Means: 0.8512396721307897, Stdev: 0.03587449853312993 with: {'batch_size': 64, 'epochs': 20}\n",
      "Means: 0.8512396750863919, Stdev: 0.009387370432712922 with: {'batch_size': 64, 'epochs': 80}\n"
     ]
    }
   ],
   "source": [
    "inputs = X_train.shape[1]\n",
    "\n",
    "def create_model():\n",
    "    model = Sequential()\n",
    "    model.add(Dense(64, activation='relu', input_shape=(inputs,)))\n",
    "    model.add(Dense(64, activation='relu'))\n",
    "    model.add(Dense(1, activation='sigmoid'))\n",
    "    \n",
    "    model.compile(loss='binary_crossentropy', optimizer='adam', metrics=['accuracy'])\n",
    "    return model\n",
    "\n",
    "# create model\n",
    "model = KerasClassifier(build_fn=create_model, verbose=0)\n",
    "\n",
    "batch_size = [16, 32, 64]\n",
    "epochs = [20, 80]\n",
    "\n",
    "# define the grid search parameters\n",
    "param_grid = dict(\n",
    "                  batch_size=batch_size,\n",
    "                  epochs=epochs\n",
    "                )\n",
    "\n",
    "# Create Grid Search\n",
    "grid = GridSearchCV(estimator=model, \n",
    "                    param_grid=param_grid, \n",
    "                    cv=3)\n",
    "grid_result = grid.fit(X_train, y_train)\n",
    "\n",
    "# Report Results\n",
    "print(f\"Best: {grid_result.best_score_} using {grid_result.best_params_}\")\n",
    "means = grid_result.cv_results_['mean_test_score']\n",
    "stds = grid_result.cv_results_['std_test_score']\n",
    "params = grid_result.cv_results_['params']\n",
    "\n",
    "for mean, stdev, param in zip(means, stds, params):\n",
    "    print(f\"Means: {mean}, Stdev: {stdev} with: {param}\")"
   ]
  },
  {
   "cell_type": "code",
   "execution_count": 31,
   "metadata": {},
   "outputs": [
    {
     "name": "stdout",
     "output_type": "stream",
     "text": [
      "Best params: {'batch_size': 32, 'epochs': 80}, Best score: 0.8595041300147033\n"
     ]
    }
   ],
   "source": [
    "print(f'Best params: {grid_result.best_params_}, Best score: {grid_result.best_score_}')"
   ]
  },
  {
   "cell_type": "markdown",
   "metadata": {},
   "source": [
    "## Stretch Goal"
   ]
  },
  {
   "cell_type": "code",
   "execution_count": 36,
   "metadata": {},
   "outputs": [
    {
     "name": "stdout",
     "output_type": "stream",
     "text": [
      "Best: 0.8636363818625773 using {'init_mode': 'he_normal', 'momentum': 0.2, 'optimizer': 'Adamax'}\n",
      "Means: 0.847107446144435, Stdev: 0.01479978983247294 with: {'init_mode': 'normal', 'momentum': 0.0, 'optimizer': 'SGD'}\n",
      "Means: 0.851239676564193, Stdev: 0.01013852353280649 with: {'init_mode': 'normal', 'momentum': 0.0, 'optimizer': 'RMSprop'}\n",
      "Means: 0.8595041529206205, Stdev: 0.00547172314189714 with: {'init_mode': 'normal', 'momentum': 0.0, 'optimizer': 'Adagrad'}\n",
      "Means: 0.8471074446666339, Stdev: 0.04042360178874821 with: {'init_mode': 'normal', 'momentum': 0.0, 'optimizer': 'Adadelta'}\n",
      "Means: 0.8512396750863919, Stdev: 0.009387370432712922 with: {'init_mode': 'normal', 'momentum': 0.0, 'optimizer': 'Adam'}\n",
      "Means: 0.83884297298991, Stdev: 0.018005557528859278 with: {'init_mode': 'normal', 'momentum': 0.0, 'optimizer': 'Adamax'}\n",
      "Means: 0.8429752004540656, Stdev: 0.015632429986491916 with: {'init_mode': 'normal', 'momentum': 0.0, 'optimizer': 'Nadam'}\n",
      "Means: 0.8305785165837973, Stdev: 0.016230516651746664 with: {'init_mode': 'normal', 'momentum': 0.2, 'optimizer': 'SGD'}\n",
      "Means: 0.8305784951556813, Stdev: 0.006393382851959231 with: {'init_mode': 'normal', 'momentum': 0.2, 'optimizer': 'RMSprop'}\n",
      "Means: 0.8429752048874689, Stdev: 0.036333941560210824 with: {'init_mode': 'normal', 'momentum': 0.2, 'optimizer': 'Adagrad'}\n",
      "Means: 0.834710742570152, Stdev: 0.015277786653167662 with: {'init_mode': 'normal', 'momentum': 0.2, 'optimizer': 'Adadelta'}\n",
      "Means: 0.8264462676915255, Stdev: 0.01102525078263853 with: {'init_mode': 'normal', 'momentum': 0.2, 'optimizer': 'Adam'}\n",
      "Means: 0.8512396736085908, Stdev: 0.019514672310923034 with: {'init_mode': 'normal', 'momentum': 0.2, 'optimizer': 'Adamax'}\n",
      "Means: 0.8305784951556813, Stdev: 0.006393382851959231 with: {'init_mode': 'normal', 'momentum': 0.2, 'optimizer': 'Nadam'}\n",
      "Means: 0.8388429715121088, Stdev: 0.02022406496297069 with: {'init_mode': 'normal', 'momentum': 0.4, 'optimizer': 'SGD'}\n",
      "Means: 0.8553718872799361, Stdev: 0.023787666666076127 with: {'init_mode': 'normal', 'momentum': 0.4, 'optimizer': 'RMSprop'}\n",
      "Means: 0.8471074476222361, Stdev: 0.0054442325098005805 with: {'init_mode': 'normal', 'momentum': 0.4, 'optimizer': 'Adagrad'}\n",
      "Means: 0.8223140372717677, Stdev: 0.005391679127638451 with: {'init_mode': 'normal', 'momentum': 0.4, 'optimizer': 'Adadelta'}\n",
      "Means: 0.8595041329703055, Stdev: 0.03541616775493025 with: {'init_mode': 'normal', 'momentum': 0.4, 'optimizer': 'Adam'}\n",
      "Means: 0.851239676564193, Stdev: 0.02022080617380072 with: {'init_mode': 'normal', 'momentum': 0.4, 'optimizer': 'Adamax'}\n",
      "Means: 0.8305785119040938, Stdev: 0.020392090028223356 with: {'init_mode': 'normal', 'momentum': 0.4, 'optimizer': 'Nadam'}\n",
      "Means: 0.8223140586998837, Stdev: 0.03107792401540163 with: {'init_mode': 'normal', 'momentum': 0.6, 'optimizer': 'SGD'}\n",
      "Means: 0.8181818297579269, Stdev: 0.025566243734596827 with: {'init_mode': 'normal', 'momentum': 0.6, 'optimizer': 'RMSprop'}\n",
      "Means: 0.8512396750863919, Stdev: 0.009387370432712922 with: {'init_mode': 'normal', 'momentum': 0.6, 'optimizer': 'Adagrad'}\n",
      "Means: 0.8388429697880075, Stdev: 0.00932625885713924 with: {'init_mode': 'normal', 'momentum': 0.6, 'optimizer': 'Adadelta'}\n",
      "Means: 0.8471074431888328, Stdev: 0.03484005764288235 with: {'init_mode': 'normal', 'momentum': 0.6, 'optimizer': 'Adam'}\n",
      "Means: 0.8429752004540656, Stdev: 0.006349158040279714 with: {'init_mode': 'normal', 'momentum': 0.6, 'optimizer': 'Adamax'}\n",
      "Means: 0.8429752172024783, Stdev: 0.03792266216147917 with: {'init_mode': 'normal', 'momentum': 0.6, 'optimizer': 'Nadam'}\n",
      "Means: 0.8347107440479531, Stdev: 0.02132344762051113 with: {'init_mode': 'normal', 'momentum': 0.8, 'optimizer': 'SGD'}\n",
      "Means: 0.8595041314925044, Stdev: 0.014852929415775606 with: {'init_mode': 'normal', 'momentum': 0.8, 'optimizer': 'RMSprop'}\n",
      "Means: 0.8429752172024783, Stdev: 0.028739278213404523 with: {'init_mode': 'normal', 'momentum': 0.8, 'optimizer': 'Adagrad'}\n",
      "Means: 0.8388429715121088, Stdev: 0.010145021475251405 with: {'init_mode': 'normal', 'momentum': 0.8, 'optimizer': 'Adadelta'}\n",
      "Means: 0.8595041329703055, Stdev: 0.025340140987357294 with: {'init_mode': 'normal', 'momentum': 0.8, 'optimizer': 'Adam'}\n",
      "Means: 0.8595041314925044, Stdev: 0.02294996416387526 with: {'init_mode': 'normal', 'momentum': 0.8, 'optimizer': 'Adamax'}\n",
      "Means: 0.8347107593185645, Stdev: 0.03192248194705029 with: {'init_mode': 'normal', 'momentum': 0.8, 'optimizer': 'Nadam'}\n",
      "Means: 0.8553719072302511, Stdev: 0.012559112971866536 with: {'init_mode': 'normal', 'momentum': 0.9, 'optimizer': 'SGD'}\n",
      "Means: 0.8305785151059962, Stdev: 0.025555007069023375 with: {'init_mode': 'normal', 'momentum': 0.9, 'optimizer': 'RMSprop'}\n",
      "Means: 0.8429752186802794, Stdev: 0.02079642868653285 with: {'init_mode': 'normal', 'momentum': 0.9, 'optimizer': 'Adagrad'}\n",
      "Means: 0.842975215724677, Stdev: 0.03024210211114016 with: {'init_mode': 'normal', 'momentum': 0.9, 'optimizer': 'Adadelta'}\n",
      "Means: 0.8471074476222361, Stdev: 0.015287273369796612 with: {'init_mode': 'normal', 'momentum': 0.9, 'optimizer': 'Adam'}\n",
      "Means: 0.8388429744677111, Stdev: 0.021088463000858912 with: {'init_mode': 'normal', 'momentum': 0.9, 'optimizer': 'Adamax'}\n",
      "Means: 0.8347107455257542, Stdev: 0.021752754239875414 with: {'init_mode': 'normal', 'momentum': 0.9, 'optimizer': 'Nadam'}\n",
      "Means: 0.8388429882605214, Stdev: 0.026162852369242137 with: {'init_mode': 'he_normal', 'momentum': 0.0, 'optimizer': 'SGD'}\n",
      "Means: 0.8471074446666339, Stdev: 0.031966942118211286 with: {'init_mode': 'he_normal', 'momentum': 0.0, 'optimizer': 'RMSprop'}\n",
      "Means: 0.8595041300147033, Stdev: 0.02483173043712629 with: {'init_mode': 'he_normal', 'momentum': 0.0, 'optimizer': 'Adagrad'}\n",
      "Means: 0.8223140402273699, Stdev: 0.01647397783782909 with: {'init_mode': 'he_normal', 'momentum': 0.0, 'optimizer': 'Adadelta'}\n",
      "Means: 0.8595041529206205, Stdev: 0.00547172314189714 with: {'init_mode': 'he_normal', 'momentum': 0.0, 'optimizer': 'Adam'}\n",
      "Means: 0.8305785136281951, Stdev: 0.020779309918272926 with: {'init_mode': 'he_normal', 'momentum': 0.0, 'optimizer': 'Adamax'}\n",
      "Means: 0.8223140402273699, Stdev: 0.01647397783782909 with: {'init_mode': 'he_normal', 'momentum': 0.0, 'optimizer': 'Nadam'}\n",
      "Means: 0.8429751972521632, Stdev: 0.014620655418194592 with: {'init_mode': 'he_normal', 'momentum': 0.2, 'optimizer': 'SGD'}\n",
      "Means: 0.8636363803847762, Stdev: 0.009448618208374795 with: {'init_mode': 'he_normal', 'momentum': 0.2, 'optimizer': 'RMSprop'}\n",
      "Means: 0.8305785136281951, Stdev: 0.020779309918272926 with: {'init_mode': 'he_normal', 'momentum': 0.2, 'optimizer': 'Adagrad'}\n",
      "Means: 0.8512396782882943, Stdev: 0.010896420198480722 with: {'init_mode': 'he_normal', 'momentum': 0.2, 'optimizer': 'Adadelta'}\n",
      "Means: 0.8305785165837973, Stdev: 0.023864639399659326 with: {'init_mode': 'he_normal', 'momentum': 0.2, 'optimizer': 'Adam'}\n",
      "Means: 0.8636363818625773, Stdev: 0.0007985593955914432 with: {'init_mode': 'he_normal', 'momentum': 0.2, 'optimizer': 'Adamax'}\n",
      "Means: 0.8429752004540656, Stdev: 0.006349158040279714 with: {'init_mode': 'he_normal', 'momentum': 0.2, 'optimizer': 'Nadam'}\n",
      "Means: 0.8553719040283487, Stdev: 0.011274843484554807 with: {'init_mode': 'he_normal', 'momentum': 0.4, 'optimizer': 'SGD'}\n",
      "Means: 0.8305785136281951, Stdev: 0.020779309918272926 with: {'init_mode': 'he_normal', 'momentum': 0.4, 'optimizer': 'RMSprop'}\n",
      "Means: 0.8553719040283487, Stdev: 0.0407133617485315 with: {'init_mode': 'he_normal', 'momentum': 0.4, 'optimizer': 'Adagrad'}\n",
      "Means: 0.8512396736085908, Stdev: 0.019514672310923034 with: {'init_mode': 'he_normal', 'momentum': 0.4, 'optimizer': 'Adadelta'}\n",
      "Means: 0.8347107607963656, Stdev: 0.022881431960035996 with: {'init_mode': 'he_normal', 'momentum': 0.4, 'optimizer': 'Adam'}\n",
      "Means: 0.8553719055061498, Stdev: 0.02553313394253581 with: {'init_mode': 'he_normal', 'momentum': 0.4, 'optimizer': 'Adamax'}\n",
      "Means: 0.8512396782882943, Stdev: 0.010896420198480722 with: {'init_mode': 'he_normal', 'momentum': 0.4, 'optimizer': 'Nadam'}\n",
      "Means: 0.8595041329703055, Stdev: 0.025340140987357294 with: {'init_mode': 'he_normal', 'momentum': 0.6, 'optimizer': 'SGD'}\n",
      "Means: 0.8512396782882943, Stdev: 0.010896420198480722 with: {'init_mode': 'he_normal', 'momentum': 0.6, 'optimizer': 'RMSprop'}\n",
      "Means: 0.8429752004540656, Stdev: 0.025543971766480274 with: {'init_mode': 'he_normal', 'momentum': 0.6, 'optimizer': 'Adagrad'}\n",
      "Means: 0.8264462876418406, Stdev: 0.018044881140658397 with: {'init_mode': 'he_normal', 'momentum': 0.6, 'optimizer': 'Adadelta'}\n",
      "Means: 0.8388429697880075, Stdev: 0.00932625885713924 with: {'init_mode': 'he_normal', 'momentum': 0.6, 'optimizer': 'Adam'}\n",
      "Means: 0.8471074476222361, Stdev: 0.0054442325098005805 with: {'init_mode': 'he_normal', 'momentum': 0.6, 'optimizer': 'Adamax'}\n",
      "Means: 0.8429752172024783, Stdev: 0.020440755512047444 with: {'init_mode': 'he_normal', 'momentum': 0.6, 'optimizer': 'Nadam'}\n",
      "Means: 0.8512396750863919, Stdev: 0.026463284176898107 with: {'init_mode': 'he_normal', 'momentum': 0.8, 'optimizer': 'SGD'}\n",
      "Means: 0.8305785151059962, Stdev: 0.025555007069023375 with: {'init_mode': 'he_normal', 'momentum': 0.8, 'optimizer': 'RMSprop'}\n",
      "Means: 0.8553719025505476, Stdev: 0.02877400642768289 with: {'init_mode': 'he_normal', 'momentum': 0.8, 'optimizer': 'Adagrad'}\n",
      "Means: 0.8553719254564648, Stdev: 0.006305402658703168 with: {'init_mode': 'he_normal', 'momentum': 0.8, 'optimizer': 'Adadelta'}\n",
      "Means: 0.8553719239786637, Stdev: 0.005009109613231354 with: {'init_mode': 'he_normal', 'momentum': 0.8, 'optimizer': 'Adam'}\n",
      "Means: 0.8636363604344612, Stdev: 0.017127110547886158 with: {'init_mode': 'he_normal', 'momentum': 0.8, 'optimizer': 'Adamax'}\n",
      "Means: 0.83884297298991, Stdev: 0.010960795703913924 with: {'init_mode': 'he_normal', 'momentum': 0.8, 'optimizer': 'Nadam'}\n",
      "Means: 0.8553719040283487, Stdev: 0.011274843484554807 with: {'init_mode': 'he_normal', 'momentum': 0.9, 'optimizer': 'SGD'}\n",
      "Means: 0.8512396583379793, Stdev: 0.017966441166171916 with: {'init_mode': 'he_normal', 'momentum': 0.9, 'optimizer': 'RMSprop'}\n",
      "Means: 0.834710742570152, Stdev: 0.015277786653167662 with: {'init_mode': 'he_normal', 'momentum': 0.9, 'optimizer': 'Adagrad'}\n",
      "Means: 0.8388429683102064, Stdev: 0.019452595578469272 with: {'init_mode': 'he_normal', 'momentum': 0.9, 'optimizer': 'Adadelta'}\n",
      "Means: 0.8388429744677111, Stdev: 0.021088463000858912 with: {'init_mode': 'he_normal', 'momentum': 0.9, 'optimizer': 'Adam'}\n",
      "Means: 0.8388429897383225, Stdev: 0.01705990006402624 with: {'init_mode': 'he_normal', 'momentum': 0.9, 'optimizer': 'Adamax'}\n",
      "Means: 0.851239676564193, Stdev: 0.01013852353280649 with: {'init_mode': 'he_normal', 'momentum': 0.9, 'optimizer': 'Nadam'}\n"
     ]
    }
   ],
   "source": [
    "# Incorporating best params into model\n",
    "def create_model(init_mode, momentum, optimizer):\n",
    "    model = Sequential()\n",
    "    model.add(Dense(64, activation='relu', input_shape=(inputs,)))\n",
    "    model.add(Dense(64, activation='relu'))\n",
    "    model.add(Dense(1, activation='sigmoid'))\n",
    "    \n",
    "    model.compile(loss='binary_crossentropy', optimizer='adam', metrics=['accuracy'])\n",
    "    return model\n",
    "\n",
    "# create model\n",
    "model = KerasClassifier(build_fn=create_model, batch_size=32, epochs=80, verbose=0)\n",
    "\n",
    "# Fine-tuning 3 more parameters\n",
    "init_mode = ['normal', 'he_normal']\n",
    "momentum = [0.0, 0.2, 0.4, 0.6, 0.8, 0.9]\n",
    "optimizer = ['SGD', 'RMSprop', 'Adagrad', 'Adadelta', 'Adam', 'Adamax', 'Nadam']\n",
    "\n",
    "\n",
    "# define the grid search parameters\n",
    "param_grid = dict(\n",
    "                  init_mode=init_mode,\n",
    "                  momentum=momentum,\n",
    "                  optimizer=optimizer\n",
    "                )\n",
    "\n",
    "# Create Grid Search\n",
    "grid = GridSearchCV(estimator=model, \n",
    "                    param_grid=param_grid, \n",
    "                    cv=3)\n",
    "\n",
    "grid_result = grid.fit(X_train, y_train)\n",
    "\n",
    "# Report Results\n",
    "print(f\"Best: {grid_result.best_score_} using {grid_result.best_params_}\")\n",
    "means = grid_result.cv_results_['mean_test_score']\n",
    "stds = grid_result.cv_results_['std_test_score']\n",
    "params = grid_result.cv_results_['params']\n",
    "\n",
    "for mean, stdev, param in zip(means, stds, params):\n",
    "    print(f\"Means: {mean}, Stdev: {stdev} with: {param}\")\n"
   ]
  },
  {
   "cell_type": "code",
   "execution_count": 37,
   "metadata": {},
   "outputs": [
    {
     "name": "stdout",
     "output_type": "stream",
     "text": [
      "Best params: {'init_mode': 'he_normal', 'momentum': 0.2, 'optimizer': 'Adamax'}, Best score: 0.8636363818625773\n"
     ]
    }
   ],
   "source": [
    "print(f'Best params: {grid_result.best_params_}, Best score: {grid_result.best_score_}')"
   ]
  }
 ],
 "metadata": {
  "kernel_info": {
   "name": "python3"
  },
  "kernelspec": {
   "display_name": "Python 3",
   "language": "python",
   "name": "python3"
  },
  "language_info": {
   "codemirror_mode": {
    "name": "ipython",
    "version": 3
   },
   "file_extension": ".py",
   "mimetype": "text/x-python",
   "name": "python",
   "nbconvert_exporter": "python",
   "pygments_lexer": "ipython3",
   "version": "3.6.8"
  },
  "nteract": {
   "version": "0.15.0"
  }
 },
 "nbformat": 4,
 "nbformat_minor": 4
}
