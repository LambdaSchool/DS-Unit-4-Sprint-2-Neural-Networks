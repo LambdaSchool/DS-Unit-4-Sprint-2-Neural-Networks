{
 "cells": [
  {
   "cell_type": "markdown",
   "metadata": {
    "colab_type": "text",
    "id": "pBQsZEJmubLs"
   },
   "source": [
    "<img align=\"left\" src=\"https://lever-client-logos.s3.amazonaws.com/864372b1-534c-480e-acd5-9711f850815c-1524247202159.png\" width=200>\n",
    "<br></br>\n",
    "\n",
    "# Neural Network Framework (Keras)\n",
    "\n",
    "## *Data Science Unit 4 Sprint 2 Assignment 3*\n",
    "\n",
    "## Use the Keras Library to build a Multi-Layer Perceptron Model on the Boston Housing dataset\n",
    "\n",
    "- The Boston Housing dataset comes with the Keras library so use Keras to import it into your notebook. \n",
    "- Normalize the data (all features should have roughly the same scale)\n",
    "- Import the type of model and layers that you will need from Keras.\n",
    "- Instantiate a model object and use `model.add()` to add layers to your model\n",
    "- Since this is a regression model you will have a single output node in the final layer.\n",
    "- Use activation functions that are appropriate for this task\n",
    "- Compile your model\n",
    "- Fit your model and report its accuracy in terms of Mean Squared Error\n",
    "- Use the history object that is returned from model.fit to make graphs of the model's loss or train/validation accuracies by epoch. \n",
    "- Run this same data through a linear regression model. Which achieves higher accuracy?\n",
    "- Do a little bit of feature engineering and see how that affects your neural network model. (you will need to change your model to accept more inputs)\n",
    "- After feature engineering, which model sees a greater accuracy boost due to the new features?"
   ]
  },
  {
   "cell_type": "code",
   "execution_count": 37,
   "metadata": {
    "colab": {},
    "colab_type": "code",
    "id": "8NLTAR87uYJ-"
   },
   "outputs": [],
   "source": [
    "# 1. Load Data\n",
    "from tensorflow.keras.datasets import boston_housing\n",
    "from tensorflow import keras\n",
    "from tensorflow.keras.datasets import mnist\n",
    "from tensorflow.keras.models import Sequential\n",
    "from tensorflow.keras.layers import Dense, Dropout\n",
    "import numpy as np"
   ]
  },
  {
   "cell_type": "code",
   "execution_count": 38,
   "metadata": {},
   "outputs": [],
   "source": [
    "(X_train, y_train), (X_test, y_test) = boston_housing.load_data()"
   ]
  },
  {
   "cell_type": "code",
   "execution_count": 39,
   "metadata": {},
   "outputs": [
    {
     "name": "stdout",
     "output_type": "stream",
     "text": [
      "[  1.23247   0.        8.14      0.        0.538     6.142    91.7\n",
      "   3.9769    4.      307.       21.      396.9      18.72   ]\n"
     ]
    }
   ],
   "source": [
    "print(X_train[0])"
   ]
  },
  {
   "cell_type": "code",
   "execution_count": 40,
   "metadata": {},
   "outputs": [
    {
     "name": "stdout",
     "output_type": "stream",
     "text": [
      "15.2\n"
     ]
    }
   ],
   "source": [
    "print(y_train[0])"
   ]
  },
  {
   "cell_type": "code",
   "execution_count": 41,
   "metadata": {},
   "outputs": [
    {
     "data": {
      "text/plain": [
       "(404, 13)"
      ]
     },
     "execution_count": 41,
     "metadata": {},
     "output_type": "execute_result"
    }
   ],
   "source": [
    "X_train.shape"
   ]
  },
  {
   "cell_type": "code",
   "execution_count": 42,
   "metadata": {},
   "outputs": [
    {
     "data": {
      "text/plain": [
       "(13,)"
      ]
     },
     "execution_count": 42,
     "metadata": {},
     "output_type": "execute_result"
    }
   ],
   "source": [
    "X_train[0].shape"
   ]
  },
  {
   "cell_type": "code",
   "execution_count": 43,
   "metadata": {},
   "outputs": [
    {
     "data": {
      "text/plain": [
       "(404,)"
      ]
     },
     "execution_count": 43,
     "metadata": {},
     "output_type": "execute_result"
    }
   ],
   "source": [
    "y_train.shape"
   ]
  },
  {
   "cell_type": "code",
   "execution_count": 44,
   "metadata": {},
   "outputs": [
    {
     "name": "stdout",
     "output_type": "stream",
     "text": [
      "[-0.27224633 -0.48361547 -0.43576161 -0.25683275 -0.1652266  -0.1764426\n",
      "  0.81306188  0.1166983  -0.62624905 -0.59517003  1.14850044  0.44807713\n",
      "  0.8252202 ]\n"
     ]
    }
   ],
   "source": [
    "# 2. Normalize Data\n",
    "\n",
    "from sklearn.preprocessing import StandardScaler \n",
    "\n",
    "scaler = StandardScaler() \n",
    "\n",
    "X_train = scaler.fit_transform(X_train)\n",
    "X_test = scaler.fit_transform(X_test)\n",
    "print(X_train[0])"
   ]
  },
  {
   "cell_type": "code",
   "execution_count": 45,
   "metadata": {},
   "outputs": [],
   "source": [
    "# 3. Import Model & Layers \n",
    "\n",
    "from tensorflow.keras.models import Sequential\n",
    "from tensorflow.keras.layers import Dense\n",
    "\n",
    "import numpy as np\n",
    "\n",
    "np.random.seed(812)"
   ]
  },
  {
   "cell_type": "code",
   "execution_count": 46,
   "metadata": {},
   "outputs": [],
   "source": [
    "# 4. Instantiate Model & layers \n",
    "\n",
    "inputs = X_train.shape[1]\n",
    "epochs = 50 \n",
    "batch_size = 10 \n",
    "\n",
    "from keras.callbacks import History \n",
    "history = History()\n",
    "\n",
    "model = Sequential()\n",
    "    \n",
    "model.add(Dense(64, input_dim=13, activation=\"relu\"))\n",
    "model.add(Dense(64, activation=\"relu\"))\n",
    "model.add(Dense(1, activation='linear'))"
   ]
  },
  {
   "cell_type": "code",
   "execution_count": 47,
   "metadata": {},
   "outputs": [],
   "source": [
    "# 5. Compile Model \n",
    "\n",
    "model.compile(loss='mean_squared_error', optimizer='adam', metrics=['mse','mae'])"
   ]
  },
  {
   "cell_type": "code",
   "execution_count": 48,
   "metadata": {},
   "outputs": [
    {
     "name": "stdout",
     "output_type": "stream",
     "text": [
      "Model: \"sequential_3\"\n",
      "_________________________________________________________________\n",
      "Layer (type)                 Output Shape              Param #   \n",
      "=================================================================\n",
      "dense_9 (Dense)              (None, 64)                896       \n",
      "_________________________________________________________________\n",
      "dense_10 (Dense)             (None, 64)                4160      \n",
      "_________________________________________________________________\n",
      "dense_11 (Dense)             (None, 1)                 65        \n",
      "=================================================================\n",
      "Total params: 5,121\n",
      "Trainable params: 5,121\n",
      "Non-trainable params: 0\n",
      "_________________________________________________________________\n"
     ]
    }
   ],
   "source": [
    "model.summary()"
   ]
  },
  {
   "cell_type": "code",
   "execution_count": 50,
   "metadata": {},
   "outputs": [
    {
     "name": "stdout",
     "output_type": "stream",
     "text": [
      "Epoch 1/50\n",
      "41/41 [==============================] - 0s 5ms/step - loss: 496.5319 - mse: 496.5319 - mae: 20.2707 - val_loss: 397.4509 - val_mse: 397.4509 - val_mae: 17.8037\n",
      "Epoch 2/50\n",
      "41/41 [==============================] - 0s 1ms/step - loss: 228.5244 - mse: 228.5244 - mae: 12.4983 - val_loss: 102.6202 - val_mse: 102.6202 - val_mae: 8.2583\n",
      "Epoch 3/50\n",
      "41/41 [==============================] - 0s 1ms/step - loss: 59.8875 - mse: 59.8875 - mae: 5.7808 - val_loss: 46.3141 - val_mse: 46.3141 - val_mae: 5.2211\n",
      "Epoch 4/50\n",
      "41/41 [==============================] - 0s 1ms/step - loss: 33.0650 - mse: 33.0650 - mae: 4.1446 - val_loss: 32.1367 - val_mse: 32.1367 - val_mae: 4.2948\n",
      "Epoch 5/50\n",
      "41/41 [==============================] - 0s 1ms/step - loss: 24.6061 - mse: 24.6061 - mae: 3.5052 - val_loss: 27.3791 - val_mse: 27.3791 - val_mae: 4.0686\n",
      "Epoch 6/50\n",
      "41/41 [==============================] - 0s 1ms/step - loss: 21.4903 - mse: 21.4903 - mae: 3.3093 - val_loss: 26.0272 - val_mse: 26.0272 - val_mae: 3.8890\n",
      "Epoch 7/50\n",
      "41/41 [==============================] - 0s 1ms/step - loss: 18.9389 - mse: 18.9389 - mae: 3.0827 - val_loss: 24.7137 - val_mse: 24.7137 - val_mae: 3.7472\n",
      "Epoch 8/50\n",
      "41/41 [==============================] - 0s 1ms/step - loss: 17.3172 - mse: 17.3172 - mae: 2.9582 - val_loss: 24.0726 - val_mse: 24.0726 - val_mae: 3.6228\n",
      "Epoch 9/50\n",
      "41/41 [==============================] - 0s 1ms/step - loss: 16.3601 - mse: 16.3601 - mae: 2.9292 - val_loss: 23.7652 - val_mse: 23.7652 - val_mae: 3.6024\n",
      "Epoch 10/50\n",
      "41/41 [==============================] - 0s 1ms/step - loss: 14.9990 - mse: 14.9990 - mae: 2.7145 - val_loss: 22.9884 - val_mse: 22.9884 - val_mae: 3.4726\n",
      "Epoch 11/50\n",
      "41/41 [==============================] - 0s 1ms/step - loss: 14.1340 - mse: 14.1340 - mae: 2.6866 - val_loss: 22.7740 - val_mse: 22.7740 - val_mae: 3.4228\n",
      "Epoch 12/50\n",
      "41/41 [==============================] - 0s 1ms/step - loss: 13.4335 - mse: 13.4335 - mae: 2.6428 - val_loss: 23.0278 - val_mse: 23.0278 - val_mae: 3.4808\n",
      "Epoch 13/50\n",
      "41/41 [==============================] - 0s 1ms/step - loss: 12.6079 - mse: 12.6079 - mae: 2.5541 - val_loss: 22.8952 - val_mse: 22.8952 - val_mae: 3.3641\n",
      "Epoch 14/50\n",
      "41/41 [==============================] - 0s 1ms/step - loss: 12.2102 - mse: 12.2102 - mae: 2.5076 - val_loss: 22.4435 - val_mse: 22.4435 - val_mae: 3.3748\n",
      "Epoch 15/50\n",
      "41/41 [==============================] - 0s 1ms/step - loss: 11.5786 - mse: 11.5786 - mae: 2.4576 - val_loss: 22.0006 - val_mse: 22.0006 - val_mae: 3.2550\n",
      "Epoch 16/50\n",
      "41/41 [==============================] - 0s 1ms/step - loss: 11.2997 - mse: 11.2997 - mae: 2.4322 - val_loss: 22.3269 - val_mse: 22.3269 - val_mae: 3.3025\n",
      "Epoch 17/50\n",
      "41/41 [==============================] - 0s 1ms/step - loss: 10.9611 - mse: 10.9611 - mae: 2.4161 - val_loss: 21.9580 - val_mse: 21.9580 - val_mae: 3.2273\n",
      "Epoch 18/50\n",
      "41/41 [==============================] - 0s 1ms/step - loss: 10.7268 - mse: 10.7268 - mae: 2.3669 - val_loss: 21.9548 - val_mse: 21.9548 - val_mae: 3.2870\n",
      "Epoch 19/50\n",
      "41/41 [==============================] - 0s 2ms/step - loss: 10.5964 - mse: 10.5964 - mae: 2.3609 - val_loss: 22.1942 - val_mse: 22.1942 - val_mae: 3.2917\n",
      "Epoch 20/50\n",
      "41/41 [==============================] - 0s 1ms/step - loss: 10.5324 - mse: 10.5324 - mae: 2.3438 - val_loss: 21.2084 - val_mse: 21.2084 - val_mae: 3.1670\n",
      "Epoch 21/50\n",
      "41/41 [==============================] - 0s 1ms/step - loss: 10.0390 - mse: 10.0390 - mae: 2.2905 - val_loss: 21.2214 - val_mse: 21.2214 - val_mae: 3.0916\n",
      "Epoch 22/50\n",
      "41/41 [==============================] - 0s 1ms/step - loss: 10.1686 - mse: 10.1686 - mae: 2.2960 - val_loss: 21.1813 - val_mse: 21.1813 - val_mae: 3.1737\n",
      "Epoch 23/50\n",
      "41/41 [==============================] - 0s 1ms/step - loss: 9.6859 - mse: 9.6859 - mae: 2.2550 - val_loss: 21.9076 - val_mse: 21.9076 - val_mae: 3.1953\n",
      "Epoch 24/50\n",
      "41/41 [==============================] - 0s 1ms/step - loss: 9.7351 - mse: 9.7351 - mae: 2.2668 - val_loss: 21.2177 - val_mse: 21.2177 - val_mae: 3.0726\n",
      "Epoch 25/50\n",
      "41/41 [==============================] - 0s 1ms/step - loss: 9.5045 - mse: 9.5045 - mae: 2.2298 - val_loss: 21.0592 - val_mse: 21.0592 - val_mae: 3.0690\n",
      "Epoch 26/50\n",
      "41/41 [==============================] - 0s 1ms/step - loss: 9.4540 - mse: 9.4540 - mae: 2.1977 - val_loss: 20.7935 - val_mse: 20.7935 - val_mae: 3.0801\n",
      "Epoch 27/50\n",
      "41/41 [==============================] - 0s 1ms/step - loss: 9.1969 - mse: 9.1969 - mae: 2.1759 - val_loss: 20.7853 - val_mse: 20.7853 - val_mae: 3.0593\n",
      "Epoch 28/50\n",
      "41/41 [==============================] - 0s 1ms/step - loss: 8.9751 - mse: 8.9751 - mae: 2.1725 - val_loss: 20.7472 - val_mse: 20.7472 - val_mae: 3.0233\n",
      "Epoch 29/50\n",
      "41/41 [==============================] - 0s 1ms/step - loss: 9.1329 - mse: 9.1329 - mae: 2.1826 - val_loss: 20.1353 - val_mse: 20.1353 - val_mae: 2.9543\n",
      "Epoch 30/50\n",
      "41/41 [==============================] - 0s 1ms/step - loss: 8.7468 - mse: 8.7468 - mae: 2.1813 - val_loss: 20.9686 - val_mse: 20.9686 - val_mae: 3.1315\n",
      "Epoch 31/50\n",
      "41/41 [==============================] - 0s 1ms/step - loss: 8.8253 - mse: 8.8253 - mae: 2.1256 - val_loss: 20.1970 - val_mse: 20.1970 - val_mae: 2.9726\n",
      "Epoch 32/50\n",
      "41/41 [==============================] - 0s 1ms/step - loss: 8.5970 - mse: 8.5970 - mae: 2.1056 - val_loss: 20.0691 - val_mse: 20.0691 - val_mae: 2.9846\n",
      "Epoch 33/50\n",
      "41/41 [==============================] - 0s 1ms/step - loss: 8.3765 - mse: 8.3765 - mae: 2.0936 - val_loss: 20.0579 - val_mse: 20.0579 - val_mae: 2.9814\n",
      "Epoch 34/50\n",
      "41/41 [==============================] - 0s 1ms/step - loss: 8.6340 - mse: 8.6340 - mae: 2.1246 - val_loss: 19.7739 - val_mse: 19.7739 - val_mae: 2.9680\n",
      "Epoch 35/50\n",
      "41/41 [==============================] - 0s 1ms/step - loss: 8.1476 - mse: 8.1476 - mae: 2.0409 - val_loss: 19.4425 - val_mse: 19.4425 - val_mae: 2.8559\n",
      "Epoch 36/50\n",
      "41/41 [==============================] - 0s 1ms/step - loss: 8.6509 - mse: 8.6509 - mae: 2.1435 - val_loss: 19.6756 - val_mse: 19.6756 - val_mae: 2.9149\n",
      "Epoch 37/50\n",
      "41/41 [==============================] - 0s 2ms/step - loss: 8.1432 - mse: 8.1432 - mae: 2.0606 - val_loss: 19.3992 - val_mse: 19.3992 - val_mae: 2.8958\n",
      "Epoch 38/50\n",
      "41/41 [==============================] - 0s 1ms/step - loss: 8.1791 - mse: 8.1791 - mae: 2.0566 - val_loss: 19.5152 - val_mse: 19.5152 - val_mae: 2.9181\n",
      "Epoch 39/50\n",
      "41/41 [==============================] - 0s 1ms/step - loss: 8.0369 - mse: 8.0369 - mae: 2.0586 - val_loss: 19.4916 - val_mse: 19.4916 - val_mae: 3.0171\n",
      "Epoch 40/50\n",
      "41/41 [==============================] - 0s 1ms/step - loss: 8.1464 - mse: 8.1464 - mae: 2.1170 - val_loss: 19.6223 - val_mse: 19.6223 - val_mae: 2.9619\n",
      "Epoch 41/50\n",
      "41/41 [==============================] - 0s 1ms/step - loss: 7.8438 - mse: 7.8438 - mae: 2.0120 - val_loss: 19.4040 - val_mse: 19.4040 - val_mae: 2.9700\n",
      "Epoch 42/50\n",
      "41/41 [==============================] - 0s 1ms/step - loss: 7.6861 - mse: 7.6861 - mae: 2.0050 - val_loss: 18.7653 - val_mse: 18.7653 - val_mae: 2.8300\n",
      "Epoch 43/50\n",
      "41/41 [==============================] - 0s 1ms/step - loss: 7.5722 - mse: 7.5722 - mae: 1.9858 - val_loss: 19.2447 - val_mse: 19.2447 - val_mae: 2.9472\n",
      "Epoch 44/50\n",
      "41/41 [==============================] - 0s 1ms/step - loss: 7.5605 - mse: 7.5605 - mae: 1.9844 - val_loss: 18.9828 - val_mse: 18.9828 - val_mae: 2.9661\n",
      "Epoch 45/50\n",
      "41/41 [==============================] - 0s 1ms/step - loss: 7.6194 - mse: 7.6194 - mae: 1.9849 - val_loss: 18.5033 - val_mse: 18.5033 - val_mae: 2.8369\n",
      "Epoch 46/50\n",
      "41/41 [==============================] - 0s 1ms/step - loss: 7.2884 - mse: 7.2884 - mae: 1.9479 - val_loss: 18.5630 - val_mse: 18.5630 - val_mae: 2.8089\n",
      "Epoch 47/50\n",
      "41/41 [==============================] - 0s 1ms/step - loss: 7.2812 - mse: 7.2812 - mae: 1.9328 - val_loss: 18.4710 - val_mse: 18.4710 - val_mae: 2.8400\n",
      "Epoch 48/50\n",
      "41/41 [==============================] - 0s 1ms/step - loss: 7.1852 - mse: 7.1852 - mae: 1.9136 - val_loss: 18.5491 - val_mse: 18.5491 - val_mae: 2.8255\n",
      "Epoch 49/50\n",
      "41/41 [==============================] - 0s 1ms/step - loss: 7.1959 - mse: 7.1959 - mae: 1.9192 - val_loss: 17.9593 - val_mse: 17.9593 - val_mae: 2.8022\n",
      "Epoch 50/50\n",
      "41/41 [==============================] - 0s 1ms/step - loss: 7.0231 - mse: 7.0231 - mae: 1.9162 - val_loss: 18.3991 - val_mse: 18.3991 - val_mae: 2.8044\n"
     ]
    }
   ],
   "source": [
    "# 6. Fit Model\n",
    "\n",
    "results = model.fit(X_train, y_train, \n",
    "          validation_data = (X_test, y_test),\n",
    "          epochs = epochs,\n",
    "          batch_size = batch_size) \n",
    "          "
   ]
  },
  {
   "cell_type": "code",
   "execution_count": 53,
   "metadata": {},
   "outputs": [
    {
     "data": {
      "text/plain": [
       "dict_keys(['loss', 'mse', 'mae', 'val_loss', 'val_mse', 'val_mae'])"
      ]
     },
     "execution_count": 53,
     "metadata": {},
     "output_type": "execute_result"
    }
   ],
   "source": [
    "# 7. Graph of Model's loss \n",
    "\n",
    "results.history.keys()"
   ]
  },
  {
   "cell_type": "code",
   "execution_count": 54,
   "metadata": {},
   "outputs": [
    {
     "data": {
      "image/png": "[encoded data removed]",
      "text/plain": [
       "<Figure size 576x432 with 1 Axes>"
      ]
     },
     "metadata": {},
     "output_type": "display_data"
    }
   ],
   "source": [
    "import matplotlib.pyplot as plt\n",
    "import seaborn as sns\n",
    "sns.set()\n",
    "\n",
    "plt.figure(figsize=(8,6))\n",
    "plt.plot(results.history['loss'], label='Training')\n",
    "plt.plot(results.history['val_loss'], label='Validation')\n",
    "plt.title('Learning Curve for Boston Housing Dataset')\n",
    "plt.xlabel('Epochs')\n",
    "plt.ylabel('Loss')\n",
    "plt.legend();"
   ]
  },
  {
   "cell_type": "code",
   "execution_count": 55,
   "metadata": {},
   "outputs": [
    {
     "name": "stdout",
     "output_type": "stream",
     "text": [
      "Train error: 20.982945190702573\n"
     ]
    }
   ],
   "source": [
    "# Linear Regression Model \n",
    "\n",
    "from sklearn.linear_model import LinearRegression\n",
    "from sklearn.metrics import mean_squared_error\n",
    "\n",
    "model = LinearRegression()\n",
    "\n",
    "# Fit the model\n",
    "model.fit(X_train, y_train)\n",
    "y_pred = model.predict(X_test)\n",
    "mse = mean_squared_error(y_test, y_pred)\n",
    "print(\"Train error:\", mse)"
   ]
  },
  {
   "cell_type": "markdown",
   "metadata": {
    "colab_type": "text",
    "id": "SfcFnOONyuNm"
   },
   "source": [
    "## Use the Keras Library to build an image recognition network using the Fashion-MNIST dataset (also comes with keras)\n",
    "\n",
    "- Load and preprocess the image data similar to how we preprocessed the MNIST data in class.\n",
    "- Make sure to one-hot encode your category labels\n",
    "- The number of nodes in your output layer should equal the number of classes you want to predict for Fashion-MNIST.\n",
    "- Try different hyperparameters. What is the highest accuracy that you are able to achieve.\n",
    "- Use the history object that is returned from model.fit to make graphs of the model's loss or train/validation accuracies by epoch. \n",
    "- Remember that neural networks fall prey to randomness so you may need to run your model multiple times (or use Cross Validation) in order to tell if a change to a hyperparameter is truly producing better results."
   ]
  },
  {
   "cell_type": "code",
   "execution_count": 56,
   "metadata": {
    "colab": {},
    "colab_type": "code",
    "id": "szi6-IpuzaH1"
   },
   "outputs": [],
   "source": [
    "from tensorflow import keras\n",
    "from tensorflow.keras.datasets import fashion_mnist\n",
    "from tensorflow.keras.models import Sequential\n",
    "from tensorflow.keras.layers import Dense, Dropout, Flatten\n",
    "\n",
    "import numpy as np"
   ]
  },
  {
   "cell_type": "code",
   "execution_count": 57,
   "metadata": {},
   "outputs": [],
   "source": [
    "# Load the Data\n",
    "(X_train, y_train), (X_test, y_test) = fashion_mnist.load_data()"
   ]
  },
  {
   "cell_type": "code",
   "execution_count": 60,
   "metadata": {},
   "outputs": [],
   "source": [
    "X_train = X_train / 255\n",
    "X_test = X_test / 255\n",
    "# X Variable Types\n",
    "X_train = X_train.astype('float32')\n",
    "X_test = X_test.astype('float32')"
   ]
  },
  {
   "cell_type": "code",
   "execution_count": 61,
   "metadata": {},
   "outputs": [
    {
     "name": "stdout",
     "output_type": "stream",
     "text": [
      "X_train shape:  (60000, 28, 28)\n",
      "y_train shape:  (60000, 10)\n"
     ]
    }
   ],
   "source": [
    "# Correct encoding on y\n",
    "num_classes = 10\n",
    "y_train = keras.utils.to_categorical(y_train, num_classes)\n",
    "y_test = keras.utils.to_categorical(y_test, num_classes)\n",
    "\n",
    "print(\"X_train shape: \", X_train.shape)\n",
    "print(\"y_train shape: \", y_train.shape)"
   ]
  },
  {
   "cell_type": "code",
   "execution_count": 65,
   "metadata": {},
   "outputs": [
    {
     "name": "stdout",
     "output_type": "stream",
     "text": [
      "Model: \"sequential_6\"\n",
      "_________________________________________________________________\n",
      "Layer (type)                 Output Shape              Param #   \n",
      "=================================================================\n",
      "flatten_2 (Flatten)          (None, 784)               0         \n",
      "_________________________________________________________________\n",
      "dense_19 (Dense)             (None, 64)                50240     \n",
      "_________________________________________________________________\n",
      "dense_20 (Dense)             (None, 32)                2080      \n",
      "_________________________________________________________________\n",
      "dense_21 (Dense)             (None, 16)                528       \n",
      "_________________________________________________________________\n",
      "dense_22 (Dense)             (None, 10)                170       \n",
      "=================================================================\n",
      "Total params: 53,018\n",
      "Trainable params: 53,018\n",
      "Non-trainable params: 0\n",
      "_________________________________________________________________\n"
     ]
    }
   ],
   "source": [
    "model = Sequential([Flatten(input_shape=(28, 28))])\n",
    "\n",
    "model.add(Dense(64, input_dim=784, activation='relu'))\n",
    "model.add(Dense(32, activation='relu'))\n",
    "model.add(Dense(16, activation='relu'))\n",
    "model.add(Dense(10,activation='softmax'))\n",
    "\n",
    "model.compile(loss='categorical_crossentropy',\n",
    "                    optimizer='adam',\n",
    "                    metrics=['accuracy'])\n",
    "\n",
    "model.summary()"
   ]
  },
  {
   "cell_type": "code",
   "execution_count": 66,
   "metadata": {},
   "outputs": [
    {
     "name": "stdout",
     "output_type": "stream",
     "text": [
      "Epoch 1/10\n",
      "1875/1875 [==============================] - 2s 837us/step - loss: 1.0209 - accuracy: 0.6176\n",
      "Epoch 2/10\n",
      "1875/1875 [==============================] - 2s 837us/step - loss: 0.6637 - accuracy: 0.7576\n",
      "Epoch 3/10\n",
      "1875/1875 [==============================] - 2s 831us/step - loss: 0.5837 - accuracy: 0.7898\n",
      "Epoch 4/10\n",
      "1875/1875 [==============================] - 2s 834us/step - loss: 0.5353 - accuracy: 0.8098\n",
      "Epoch 5/10\n",
      "1875/1875 [==============================] - 2s 837us/step - loss: 0.5025 - accuracy: 0.8209\n",
      "Epoch 6/10\n",
      "1875/1875 [==============================] - 2s 863us/step - loss: 0.4771 - accuracy: 0.8309\n",
      "Epoch 7/10\n",
      "1875/1875 [==============================] - 2s 842us/step - loss: 0.4561 - accuracy: 0.8386\n",
      "Epoch 8/10\n",
      "1875/1875 [==============================] - 2s 839us/step - loss: 0.4404 - accuracy: 0.8432\n",
      "Epoch 9/10\n",
      "1875/1875 [==============================] - 2s 907us/step - loss: 0.4254 - accuracy: 0.8463\n",
      "Epoch 10/10\n",
      "1875/1875 [==============================] - 2s 895us/step - loss: 0.4127 - accuracy: 0.8514\n"
     ]
    },
    {
     "data": {
      "text/plain": [
       "<tensorflow.python.keras.callbacks.History at 0x103b293d0>"
      ]
     },
     "execution_count": 66,
     "metadata": {},
     "output_type": "execute_result"
    }
   ],
   "source": [
    "model.fit(X_train, y_train, epochs=10)"
   ]
  },
  {
   "cell_type": "code",
   "execution_count": 67,
   "metadata": {},
   "outputs": [
    {
     "name": "stdout",
     "output_type": "stream",
     "text": [
      "313/313 [==============================] - 0s 649us/step - loss: 0.4485 - accuracy: 0.8405\n"
     ]
    },
    {
     "data": {
      "text/plain": [
       "[0.4484764039516449, 0.840499997138977]"
      ]
     },
     "execution_count": 67,
     "metadata": {},
     "output_type": "execute_result"
    }
   ],
   "source": [
    "model.evaluate(X_test, y_test)"
   ]
  },
  {
   "cell_type": "markdown",
   "metadata": {
    "colab_type": "text",
    "id": "zv_3xNMjzdLI"
   },
   "source": [
    "## Stretch Goals:\n",
    "\n",
    "- Use Hyperparameter Tuning to make the accuracy of your models as high as possible. (error as low as possible)\n",
    "- Use Cross Validation techniques to get more consistent results with your model.\n",
    "- Use GridSearchCV to try different combinations of hyperparameters. \n",
    "- Start looking into other types of Keras layers for CNNs and RNNs maybe try and build a CNN model for fashion-MNIST to see how the results compare."
   ]
  }
 ],
 "metadata": {
  "colab": {
   "name": "LS_DS_433_Keras_Assignment.ipynb",
   "provenance": [],
   "version": "0.3.2"
  },
  "kernelspec": {
   "display_name": "Python 3",
   "language": "python",
   "name": "python3"
  },
  "language_info": {
   "codemirror_mode": {
    "name": "ipython",
    "version": 3
   },
   "file_extension": ".py",
   "mimetype": "text/x-python",
   "name": "python",
   "nbconvert_exporter": "python",
   "pygments_lexer": "ipython3",
   "version": "3.7.6"
  }
 },
 "nbformat": 4,
 "nbformat_minor": 4
}
