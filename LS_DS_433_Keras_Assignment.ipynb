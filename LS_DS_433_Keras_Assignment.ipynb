{
 "cells": [
  {
   "cell_type": "markdown",
   "metadata": {
    "colab_type": "text",
    "id": "pBQsZEJmubLs"
   },
   "source": [
    "## Use the Keras Library to build a Multi-Layer Perceptron Model on the Boston Housing dataset\n",
    "\n",
    "- The Boston Housing dataset comes with the Keras library so use Keras to import it into your notebook. \n",
    "- Normalize the data (all features should have roughly the same scale)\n",
    "- Import the type of model and layers that you will need from Keras.\n",
    "- Instantiate a model object and use `model.add()` to add layers to your model\n",
    "- Since this is a regression model you will have a single output node in the final layer.\n",
    "- Use activation functions that are appropriate for this task\n",
    "- Compile your model\n",
    "- Fit your model and report its accuracy in terms of Mean Squared Error\n",
    "- Use the history object that is returned from model.fit to make graphs of the model's loss or train/validation accuracies by epoch. \n",
    "- Run this same data through a linear regression model. Which achieves higher accuracy?\n",
    "- Do a little bit of feature engineering and see how that affects your neural network model. (you will need to change your model to accept more inputs)\n",
    "- After feature engineering, which model sees a greater accuracy boost due to the new features?"
   ]
  },
  {
   "cell_type": "code",
   "execution_count": null,
   "metadata": {},
   "outputs": [],
   "source": []
  },
  {
   "cell_type": "code",
   "execution_count": 115,
   "metadata": {
    "colab": {},
    "colab_type": "code",
    "id": "8NLTAR87uYJ-"
   },
   "outputs": [],
   "source": [
    "from keras.datasets import boston_housing\n",
    "\n",
    "(x_train, y_train), (x_test, y_test) = boston_housing.load_data()"
   ]
  },
  {
   "cell_type": "code",
   "execution_count": 116,
   "metadata": {
    "scrolled": true
   },
   "outputs": [
    {
     "data": {
      "text/plain": [
       "array([[1.23247e+00, 0.00000e+00, 8.14000e+00, ..., 2.10000e+01,\n",
       "        3.96900e+02, 1.87200e+01],\n",
       "       [2.17700e-02, 8.25000e+01, 2.03000e+00, ..., 1.47000e+01,\n",
       "        3.95380e+02, 3.11000e+00],\n",
       "       [4.89822e+00, 0.00000e+00, 1.81000e+01, ..., 2.02000e+01,\n",
       "        3.75520e+02, 3.26000e+00],\n",
       "       ...,\n",
       "       [3.46600e-02, 3.50000e+01, 6.06000e+00, ..., 1.69000e+01,\n",
       "        3.62250e+02, 7.83000e+00],\n",
       "       [2.14918e+00, 0.00000e+00, 1.95800e+01, ..., 1.47000e+01,\n",
       "        2.61950e+02, 1.57900e+01],\n",
       "       [1.43900e-02, 6.00000e+01, 2.93000e+00, ..., 1.56000e+01,\n",
       "        3.76700e+02, 4.38000e+00]])"
      ]
     },
     "execution_count": 116,
     "metadata": {},
     "output_type": "execute_result"
    }
   ],
   "source": [
    "x_train"
   ]
  },
  {
   "cell_type": "code",
   "execution_count": 117,
   "metadata": {},
   "outputs": [],
   "source": [
    "from sklearn import preprocessing\n",
    "# normalize the data attributes\n",
    "# normalized_X_train = preprocessing.normalize(x_train)\n",
    "# normalized_X_test = preprocessing.normalize(x_test)"
   ]
  },
  {
   "cell_type": "code",
   "execution_count": 118,
   "metadata": {},
   "outputs": [],
   "source": [
    "import numpy as np\n",
    "# y_train = np.reshape(y_train, (-1,1))\n",
    "# normalized_y_train =preprocessing.normalize(y_train)\n",
    "\n"
   ]
  },
  {
   "cell_type": "code",
   "execution_count": 119,
   "metadata": {},
   "outputs": [],
   "source": [
    "y_train = np.reshape(y_train, (-1,1))\n",
    "y_test = np.reshape(y_test, (-1,1))\n",
    "# normalized_y_test =preprocessing.normalize(y_test)"
   ]
  },
  {
   "cell_type": "markdown",
   "metadata": {},
   "source": [
    "### let's normalize y using the max price "
   ]
  },
  {
   "cell_type": "code",
   "execution_count": 120,
   "metadata": {},
   "outputs": [],
   "source": [
    "max_y = y_train.max()\n",
    "max_y_test = y_test.max()\n",
    "max_y_test\n",
    "\n",
    "y_train = y_train/max_y\n",
    "y_test = y_test/max_y"
   ]
  },
  {
   "cell_type": "code",
   "execution_count": 121,
   "metadata": {},
   "outputs": [],
   "source": [
    "\n",
    "normalized_X_test = preprocessing.normalize(x_test)\n",
    "normalized_X_test = preprocessing.normalize(x_test)"
   ]
  },
  {
   "cell_type": "code",
   "execution_count": 122,
   "metadata": {},
   "outputs": [
    {
     "data": {
      "text/plain": [
       "((404, 13), (404, 1), (102, 13), (102, 1))"
      ]
     },
     "execution_count": 122,
     "metadata": {},
     "output_type": "execute_result"
    }
   ],
   "source": [
    "normalized_X_train.shape, y_train.shape, normalized_X_test.shape, y_test.shape"
   ]
  },
  {
   "cell_type": "markdown",
   "metadata": {},
   "source": [
    "## Define Model"
   ]
  },
  {
   "cell_type": "code",
   "execution_count": 61,
   "metadata": {},
   "outputs": [],
   "source": [
    "from keras.models import Sequential\n",
    "from keras.layers import Dense\n",
    "import numpy\n",
    "# fix random seed for reproducibility \n",
    "numpy.random.seed(42)"
   ]
  },
  {
   "cell_type": "code",
   "execution_count": 164,
   "metadata": {},
   "outputs": [
    {
     "name": "stdout",
     "output_type": "stream",
     "text": [
      "_________________________________________________________________\n",
      "Layer (type)                 Output Shape              Param #   \n",
      "=================================================================\n",
      "dense_63 (Dense)             (None, 13)                182       \n",
      "_________________________________________________________________\n",
      "dense_64 (Dense)             (None, 3)                 42        \n",
      "_________________________________________________________________\n",
      "dense_65 (Dense)             (None, 1)                 4         \n",
      "=================================================================\n",
      "Total params: 228\n",
      "Trainable params: 228\n",
      "Non-trainable params: 0\n",
      "_________________________________________________________________\n"
     ]
    }
   ],
   "source": [
    "# https://keras.io/getting-started/sequential-model-guide\n",
    "model = Sequential()\n",
    "model.add(Dense(13, input_dim=13, activation ='relu'))\n",
    "model.add(Dense(3, activation='relu'))\n",
    "model.add(Dense(1, activation='relu'))\n",
    "model.compile(optimizer='rmsprop',loss='mse', metrics=['mean_squared_error'])\n",
    "# model.compile(loss='mean_squared_error', optimizer='adam')\n",
    "# model.compile(loss='mean_squared_error',\n",
    "#               optimizer='sgd',\n",
    "#               metrics=['mae', 'acc'])\n",
    "model.summary()"
   ]
  },
  {
   "cell_type": "code",
   "execution_count": 165,
   "metadata": {},
   "outputs": [
    {
     "name": "stdout",
     "output_type": "stream",
     "text": [
      "Epoch 1/50\n",
      "404/404 [==============================] - 1s 2ms/step - loss: 0.2345 - mean_squared_error: 0.2345\n",
      "Epoch 2/50\n",
      "404/404 [==============================] - 0s 36us/step - loss: 0.2345 - mean_squared_error: 0.2345\n",
      "Epoch 3/50\n",
      "404/404 [==============================] - 0s 40us/step - loss: 0.2345 - mean_squared_error: 0.2345\n",
      "Epoch 4/50\n",
      "404/404 [==============================] - 0s 46us/step - loss: 0.2345 - mean_squared_error: 0.2345\n",
      "Epoch 5/50\n",
      "404/404 [==============================] - 0s 44us/step - loss: 0.2345 - mean_squared_error: 0.2345\n",
      "Epoch 6/50\n",
      "404/404 [==============================] - 0s 43us/step - loss: 0.2345 - mean_squared_error: 0.2345\n",
      "Epoch 7/50\n",
      "404/404 [==============================] - 0s 44us/step - loss: 0.2345 - mean_squared_error: 0.2345\n",
      "Epoch 8/50\n",
      "404/404 [==============================] - 0s 43us/step - loss: 0.2345 - mean_squared_error: 0.2345\n",
      "Epoch 9/50\n",
      "404/404 [==============================] - 0s 43us/step - loss: 0.2345 - mean_squared_error: 0.2345\n",
      "Epoch 10/50\n",
      "404/404 [==============================] - 0s 45us/step - loss: 0.2345 - mean_squared_error: 0.2345\n",
      "Epoch 11/50\n",
      "404/404 [==============================] - 0s 50us/step - loss: 0.2345 - mean_squared_error: 0.2345\n",
      "Epoch 12/50\n",
      "404/404 [==============================] - 0s 50us/step - loss: 0.2345 - mean_squared_error: 0.2345\n",
      "Epoch 13/50\n",
      "404/404 [==============================] - 0s 48us/step - loss: 0.2345 - mean_squared_error: 0.2345\n",
      "Epoch 14/50\n",
      "404/404 [==============================] - 0s 48us/step - loss: 0.2345 - mean_squared_error: 0.2345\n",
      "Epoch 15/50\n",
      "404/404 [==============================] - 0s 52us/step - loss: 0.2345 - mean_squared_error: 0.2345\n",
      "Epoch 16/50\n",
      "404/404 [==============================] - 0s 51us/step - loss: 0.2345 - mean_squared_error: 0.2345\n",
      "Epoch 17/50\n",
      "404/404 [==============================] - 0s 48us/step - loss: 0.2345 - mean_squared_error: 0.2345\n",
      "Epoch 18/50\n",
      "404/404 [==============================] - 0s 54us/step - loss: 0.2345 - mean_squared_error: 0.2345\n",
      "Epoch 19/50\n",
      "404/404 [==============================] - 0s 46us/step - loss: 0.2345 - mean_squared_error: 0.2345\n",
      "Epoch 20/50\n",
      "404/404 [==============================] - 0s 36us/step - loss: 0.2345 - mean_squared_error: 0.2345\n",
      "Epoch 21/50\n",
      "404/404 [==============================] - 0s 35us/step - loss: 0.2345 - mean_squared_error: 0.2345\n",
      "Epoch 22/50\n",
      "404/404 [==============================] - 0s 41us/step - loss: 0.2345 - mean_squared_error: 0.2345\n",
      "Epoch 23/50\n",
      "404/404 [==============================] - 0s 34us/step - loss: 0.2345 - mean_squared_error: 0.2345\n",
      "Epoch 24/50\n",
      "404/404 [==============================] - 0s 35us/step - loss: 0.2345 - mean_squared_error: 0.2345\n",
      "Epoch 25/50\n",
      "404/404 [==============================] - 0s 44us/step - loss: 0.2345 - mean_squared_error: 0.2345\n",
      "Epoch 26/50\n",
      "404/404 [==============================] - 0s 40us/step - loss: 0.2345 - mean_squared_error: 0.2345\n",
      "Epoch 27/50\n",
      "404/404 [==============================] - 0s 45us/step - loss: 0.2345 - mean_squared_error: 0.2345\n",
      "Epoch 28/50\n",
      "404/404 [==============================] - 0s 41us/step - loss: 0.2345 - mean_squared_error: 0.2345\n",
      "Epoch 29/50\n",
      "404/404 [==============================] - 0s 44us/step - loss: 0.2345 - mean_squared_error: 0.2345\n",
      "Epoch 30/50\n",
      "404/404 [==============================] - 0s 48us/step - loss: 0.2345 - mean_squared_error: 0.2345\n",
      "Epoch 31/50\n",
      "404/404 [==============================] - 0s 56us/step - loss: 0.2345 - mean_squared_error: 0.2345\n",
      "Epoch 32/50\n",
      "404/404 [==============================] - 0s 50us/step - loss: 0.2345 - mean_squared_error: 0.2345\n",
      "Epoch 33/50\n",
      "404/404 [==============================] - 0s 47us/step - loss: 0.2345 - mean_squared_error: 0.2345\n",
      "Epoch 34/50\n",
      "404/404 [==============================] - 0s 44us/step - loss: 0.2345 - mean_squared_error: 0.2345\n",
      "Epoch 35/50\n",
      "404/404 [==============================] - 0s 46us/step - loss: 0.2345 - mean_squared_error: 0.2345\n",
      "Epoch 36/50\n",
      "404/404 [==============================] - 0s 49us/step - loss: 0.2345 - mean_squared_error: 0.2345\n",
      "Epoch 37/50\n",
      "404/404 [==============================] - 0s 57us/step - loss: 0.2345 - mean_squared_error: 0.2345\n",
      "Epoch 38/50\n",
      "404/404 [==============================] - 0s 37us/step - loss: 0.2345 - mean_squared_error: 0.2345\n",
      "Epoch 39/50\n",
      "404/404 [==============================] - 0s 41us/step - loss: 0.2345 - mean_squared_error: 0.2345\n",
      "Epoch 40/50\n",
      "404/404 [==============================] - 0s 39us/step - loss: 0.2345 - mean_squared_error: 0.2345\n",
      "Epoch 41/50\n",
      "404/404 [==============================] - 0s 44us/step - loss: 0.2345 - mean_squared_error: 0.2345\n",
      "Epoch 42/50\n",
      "404/404 [==============================] - 0s 42us/step - loss: 0.2345 - mean_squared_error: 0.2345\n",
      "Epoch 43/50\n",
      "404/404 [==============================] - 0s 42us/step - loss: 0.2345 - mean_squared_error: 0.2345\n",
      "Epoch 44/50\n",
      "404/404 [==============================] - 0s 38us/step - loss: 0.2345 - mean_squared_error: 0.2345\n",
      "Epoch 45/50\n",
      "404/404 [==============================] - 0s 41us/step - loss: 0.2345 - mean_squared_error: 0.2345\n",
      "Epoch 46/50\n",
      "404/404 [==============================] - 0s 47us/step - loss: 0.2345 - mean_squared_error: 0.2345\n",
      "Epoch 47/50\n",
      "404/404 [==============================] - 0s 43us/step - loss: 0.2345 - mean_squared_error: 0.2345\n",
      "Epoch 48/50\n",
      "404/404 [==============================] - 0s 41us/step - loss: 0.2345 - mean_squared_error: 0.2345\n",
      "Epoch 49/50\n",
      "404/404 [==============================] - 0s 43us/step - loss: 0.2345 - mean_squared_error: 0.2345\n",
      "Epoch 50/50\n",
      "404/404 [==============================] - 0s 32us/step - loss: 0.2345 - mean_squared_error: 0.2345\n"
     ]
    }
   ],
   "source": [
    " hisotry = model.fit(normalized_X_train, y_train, epochs=50)"
   ]
  },
  {
   "cell_type": "code",
   "execution_count": 166,
   "metadata": {},
   "outputs": [
    {
     "name": "stdout",
     "output_type": "stream",
     "text": [
      "102/102 [==============================] - 0s 3ms/step\n",
      "mean_squared_error: 22649.067710427677\n"
     ]
    },
    {
     "data": {
      "text/plain": [
       "0.24634314927400328"
      ]
     },
     "execution_count": 166,
     "metadata": {},
     "output_type": "execute_result"
    }
   ],
   "source": [
    "#Evaluate the model\n",
    "# scores = model.evaluate(normalized_X_test, y_test)\n",
    "test_mse_score, test_mae_score = model.evaluate(normalized_X_test, y_test)\n",
    "print(f\"{model.metrics_names[1]}: {scores[1]*1000}\")\n",
    "test_mse_score"
   ]
  },
  {
   "cell_type": "code",
   "execution_count": 167,
   "metadata": {},
   "outputs": [
    {
     "data": {
      "image/png": "[encoded data removed]",
      "text/plain": [
       "<Figure size 432x288 with 1 Axes>"
      ]
     },
     "metadata": {
      "needs_background": "light"
     },
     "output_type": "display_data"
    }
   ],
   "source": [
    "import matplotlib.pyplot as plt\n",
    "training_loss = history.history['loss']\n",
    "epoch_count = range(1, len(training_loss) + 1)\n",
    "\n",
    "plt.plot(epoch_count, training_loss, 'r--')\n",
    "plt.show();"
   ]
  },
  {
   "cell_type": "code",
   "execution_count": 170,
   "metadata": {},
   "outputs": [
    {
     "data": {
      "text/plain": [
       "{'loss': [0.23446419790829762,\n",
       "  0.23446419628539888,\n",
       "  0.2344641982033701,\n",
       "  0.23446419510510888,\n",
       "  0.23446419835090637,\n",
       "  0.23446419687554387,\n",
       "  0.23446420130163137,\n",
       "  0.23446419805583388,\n",
       "  0.23446419466250012,\n",
       "  0.23446420071148635,\n",
       "  0.23446420277699387,\n",
       "  0.23446419318713765,\n",
       "  0.2344641959903264,\n",
       "  0.23446419894105136,\n",
       "  0.23446419776076138,\n",
       "  0.23446420218684885,\n",
       "  0.23446419894105136,\n",
       "  0.23446419717061637,\n",
       "  0.23446419672800764,\n",
       "  0.23446419746568886,\n",
       "  0.23446419864597887,\n",
       "  0.23446419569525387,\n",
       "  0.2344641959903264,\n",
       "  0.23446419938366012,\n",
       "  0.23446419407235514,\n",
       "  0.23446419805583388,\n",
       "  0.2344642017442401,\n",
       "  0.23446420130163137,\n",
       "  0.23446419776076138,\n",
       "  0.23446419776076138,\n",
       "  0.23446419658047138,\n",
       "  0.23446419894105136,\n",
       "  0.23446419805583388,\n",
       "  0.23446419687554387,\n",
       "  0.23446419658047138,\n",
       "  0.23446420543264634,\n",
       "  0.23446420277699387,\n",
       "  0.23446419923612388,\n",
       "  0.23446419481003639,\n",
       "  0.23446419554771764,\n",
       "  0.23446419805583388,\n",
       "  0.23446419318713765,\n",
       "  0.23446419864597887,\n",
       "  0.23446419953119638,\n",
       "  0.2344641927445289,\n",
       "  0.2344641927445289,\n",
       "  0.23446419938366012,\n",
       "  0.23446419746568886,\n",
       "  0.23446420307206636,\n",
       "  0.2344641930396014],\n",
       " 'mean_squared_error': [0.23446419790829762,\n",
       "  0.23446419628539888,\n",
       "  0.2344641982033701,\n",
       "  0.23446419510510888,\n",
       "  0.23446419835090637,\n",
       "  0.23446419687554387,\n",
       "  0.23446420130163137,\n",
       "  0.23446419805583388,\n",
       "  0.23446419466250012,\n",
       "  0.23446420071148635,\n",
       "  0.23446420277699387,\n",
       "  0.23446419318713765,\n",
       "  0.2344641959903264,\n",
       "  0.23446419894105136,\n",
       "  0.23446419776076138,\n",
       "  0.23446420218684885,\n",
       "  0.23446419894105136,\n",
       "  0.23446419717061637,\n",
       "  0.23446419672800764,\n",
       "  0.23446419746568886,\n",
       "  0.23446419864597887,\n",
       "  0.23446419569525387,\n",
       "  0.2344641959903264,\n",
       "  0.23446419938366012,\n",
       "  0.23446419407235514,\n",
       "  0.23446419805583388,\n",
       "  0.2344642017442401,\n",
       "  0.23446420130163137,\n",
       "  0.23446419776076138,\n",
       "  0.23446419776076138,\n",
       "  0.23446419658047138,\n",
       "  0.23446419894105136,\n",
       "  0.23446419805583388,\n",
       "  0.23446419687554387,\n",
       "  0.23446419658047138,\n",
       "  0.23446420543264634,\n",
       "  0.23446420277699387,\n",
       "  0.23446419923612388,\n",
       "  0.23446419481003639,\n",
       "  0.23446419554771764,\n",
       "  0.23446419805583388,\n",
       "  0.23446419318713765,\n",
       "  0.23446419864597887,\n",
       "  0.23446419953119638,\n",
       "  0.2344641927445289,\n",
       "  0.2344641927445289,\n",
       "  0.23446419938366012,\n",
       "  0.23446419746568886,\n",
       "  0.23446420307206636,\n",
       "  0.2344641930396014]}"
      ]
     },
     "execution_count": 170,
     "metadata": {},
     "output_type": "execute_result"
    }
   ],
   "source": [
    "hisotry.history"
   ]
  },
  {
   "cell_type": "code",
   "execution_count": 175,
   "metadata": {},
   "outputs": [
    {
     "data": {
      "image/png": "[encoded data removed]",
      "text/plain": [
       "<Figure size 432x288 with 1 Axes>"
      ]
     },
     "metadata": {
      "needs_background": "light"
     },
     "output_type": "display_data"
    }
   ],
   "source": [
    "import matplotlib.pyplot as plt\n",
    "plt.plot(hisotry.history['mean_squared_error'])\n",
    "plt.plot(hisotry.history['loss'])\n",
    "# pyplot.plot(history.history['mean_absolute_percentage_error'])\n",
    "# pyplot.plot(history.history['cosine_proximity'])\n",
    "plt.show()"
   ]
  },
  {
   "cell_type": "code",
   "execution_count": 176,
   "metadata": {},
   "outputs": [
    {
     "data": {
      "image/png": "[encoded data removed]",
      "text/plain": [
       "<Figure size 432x288 with 1 Axes>"
      ]
     },
     "metadata": {
      "needs_background": "light"
     },
     "output_type": "display_data"
    }
   ],
   "source": [
    "training_accuracy = hisotry.history['mean_squared_error']\n",
    "epoch_count = range(1, len(training_accuracy) + 1)\n",
    "\n",
    "plt.plot(epoch_count, training_accuracy, 'r--')\n",
    "plt.show();"
   ]
  },
  {
   "cell_type": "markdown",
   "metadata": {
    "colab_type": "text",
    "id": "SfcFnOONyuNm"
   },
   "source": [
    "## Use the Keras Library to build an image recognition network using the Fashion-MNIST dataset (also comes with keras)\n",
    "\n",
    "- Load and preprocess the image data similar to how we preprocessed the MNIST data in class.\n",
    "- Make sure to one-hot encode your category labels\n",
    "- Make sure to have your final layer have as many nodes as the number of classes that you want to predict.\n",
    "- Try different hyperparameters. What is the highest accuracy that you are able to achieve.\n",
    "- Use the history object that is returned from model.fit to make graphs of the model's loss or train/validation accuracies by epoch. \n",
    "- Remember that neural networks fall prey to randomness so you may need to run your model multiple times (or use Cross Validation) in order to tell if a change to a hyperparameter is truly producing better results."
   ]
  },
  {
   "cell_type": "code",
   "execution_count": 113,
   "metadata": {
    "colab": {},
    "colab_type": "code",
    "id": "szi6-IpuzaH1"
   },
   "outputs": [
    {
     "name": "stdout",
     "output_type": "stream",
     "text": [
      "Downloading data from http://fashion-mnist.s3-website.eu-central-1.amazonaws.com/train-labels-idx1-ubyte.gz\n",
      "32768/29515 [=================================] - 0s 5us/step\n",
      "Downloading data from http://fashion-mnist.s3-website.eu-central-1.amazonaws.com/train-images-idx3-ubyte.gz\n",
      "26427392/26421880 [==============================] - 7s 0us/step\n",
      "Downloading data from http://fashion-mnist.s3-website.eu-central-1.amazonaws.com/t10k-labels-idx1-ubyte.gz\n",
      "8192/5148 [===============================================] - 0s 0us/step\n",
      "Downloading data from http://fashion-mnist.s3-website.eu-central-1.amazonaws.com/t10k-images-idx3-ubyte.gz\n",
      "4423680/4422102 [==============================] - 1s 0us/step\n"
     ]
    }
   ],
   "source": [
    "from keras.datasets import fashion_mnist\n",
    "\n",
    "(x_train, y_train), (x_test, y_test) = fashion_mnist.load_data()"
   ]
  },
  {
   "cell_type": "markdown",
   "metadata": {
    "colab_type": "text",
    "id": "zv_3xNMjzdLI"
   },
   "source": [
    "## Stretch Goals:\n",
    "\n",
    "- Use Hyperparameter Tuning to make the accuracy of your models as high as possible. (error as low as possible)\n",
    "- Use Cross Validation techniques to get more consistent results with your model.\n",
    "- Use GridSearchCV to try different combinations of hyperparameters. \n",
    "- Start looking into other types of Keras layers for CNNs and RNNs maybe try and build a CNN model for fashion-MNIST to see how the results compare."
   ]
  }
 ],
 "metadata": {
  "colab": {
   "name": "LS_DS_433_Keras_Assignment.ipynb",
   "provenance": [],
   "version": "0.3.2"
  },
  "kernelspec": {
   "display_name": "Python 3",
   "language": "python",
   "name": "python3"
  },
  "language_info": {
   "codemirror_mode": {
    "name": "ipython",
    "version": 3
   },
   "file_extension": ".py",
   "mimetype": "text/x-python",
   "name": "python",
   "nbconvert_exporter": "python",
   "pygments_lexer": "ipython3",
   "version": "3.6.8"
  },
  "latex_envs": {
   "LaTeX_envs_menu_present": true,
   "autoclose": true,
   "autocomplete": true,
   "bibliofile": "biblio.bib",
   "cite_by": "apalike",
   "current_citInitial": 1,
   "eqLabelWithNumbers": true,
   "eqNumInitial": 1,
   "hotkeys": {
    "equation": "Ctrl-E",
    "itemize": "Ctrl-I"
   },
   "labels_anchors": false,
   "latex_user_defs": false,
   "report_style_numbering": false,
   "user_envs_cfg": false
  }
 },
 "nbformat": 4,
 "nbformat_minor": 1
}
