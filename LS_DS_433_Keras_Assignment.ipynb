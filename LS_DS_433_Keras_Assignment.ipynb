{
 "cells": [
  {
   "cell_type": "markdown",
   "metadata": {
    "colab_type": "text",
    "id": "pBQsZEJmubLs"
   },
   "source": [
    "## Use the Keras Library to build a Multi-Layer Perceptron Model on the Boston Housing dataset\n",
    "\n",
    "- The Boston Housing dataset comes with the Keras library so use Keras to import it into your notebook. \n",
    "- Normalize the data (all features should have roughly the same scale)\n",
    "- Import the type of model and layers that you will need from Keras.\n",
    "- Instantiate a model object and use `model.add()` to add layers to your model\n",
    "- Since this is a regression model you will have a single output node in the final layer.\n",
    "- Use activation functions that are appropriate for this task\n",
    "- Compile your model\n",
    "- Fit your model and report its accuracy in terms of Mean Squared Error\n",
    "- Use the history object that is returned from model.fit to make graphs of the model's loss or train/validation accuracies by epoch. \n",
    "- Run this same data through a linear regression model. Which achieves higher accuracy?\n",
    "- Do a little bit of feature engineering and see how that affects your neural network model. (you will need to change your model to accept more inputs)\n",
    "- After feature engineering, which model sees a greater accuracy boost due to the new features?"
   ]
  },
  {
   "cell_type": "code",
   "execution_count": null,
   "metadata": {},
   "outputs": [],
   "source": []
  },
  {
   "cell_type": "code",
   "execution_count": 207,
   "metadata": {
    "colab": {},
    "colab_type": "code",
    "id": "8NLTAR87uYJ-"
   },
   "outputs": [],
   "source": [
    "from keras.datasets import boston_housing\n",
    "\n",
    "(x_train, y_train), (x_test, y_test) = boston_housing.load_data()"
   ]
  },
  {
   "cell_type": "code",
   "execution_count": 208,
   "metadata": {
    "scrolled": true
   },
   "outputs": [
    {
     "data": {
      "text/plain": [
       "array([[1.23247e+00, 0.00000e+00, 8.14000e+00, ..., 2.10000e+01,\n",
       "        3.96900e+02, 1.87200e+01],\n",
       "       [2.17700e-02, 8.25000e+01, 2.03000e+00, ..., 1.47000e+01,\n",
       "        3.95380e+02, 3.11000e+00],\n",
       "       [4.89822e+00, 0.00000e+00, 1.81000e+01, ..., 2.02000e+01,\n",
       "        3.75520e+02, 3.26000e+00],\n",
       "       ...,\n",
       "       [3.46600e-02, 3.50000e+01, 6.06000e+00, ..., 1.69000e+01,\n",
       "        3.62250e+02, 7.83000e+00],\n",
       "       [2.14918e+00, 0.00000e+00, 1.95800e+01, ..., 1.47000e+01,\n",
       "        2.61950e+02, 1.57900e+01],\n",
       "       [1.43900e-02, 6.00000e+01, 2.93000e+00, ..., 1.56000e+01,\n",
       "        3.76700e+02, 4.38000e+00]])"
      ]
     },
     "execution_count": 208,
     "metadata": {},
     "output_type": "execute_result"
    }
   ],
   "source": [
    "x_train"
   ]
  },
  {
   "cell_type": "code",
   "execution_count": 209,
   "metadata": {},
   "outputs": [],
   "source": [
    "from sklearn import preprocessing\n",
    "# normalize the data attributes\n",
    "# normalized_X_train = preprocessing.normalize(x_train)\n",
    "# normalized_X_test = preprocessing.normalize(x_test)"
   ]
  },
  {
   "cell_type": "code",
   "execution_count": 210,
   "metadata": {},
   "outputs": [],
   "source": [
    "import numpy as np\n",
    "# y_train = np.reshape(y_train, (-1,1))\n",
    "# normalized_y_train =preprocessing.normalize(y_train)\n",
    "\n"
   ]
  },
  {
   "cell_type": "code",
   "execution_count": 211,
   "metadata": {},
   "outputs": [],
   "source": [
    "y_train = np.reshape(y_train, (-1,1))\n",
    "y_test = np.reshape(y_test, (-1,1))\n",
    "# normalized_y_test =preprocessing.normalize(y_test)"
   ]
  },
  {
   "cell_type": "markdown",
   "metadata": {},
   "source": [
    "### let's normalize y using the max price "
   ]
  },
  {
   "cell_type": "code",
   "execution_count": 212,
   "metadata": {},
   "outputs": [],
   "source": [
    "# max_y = y_train.max()\n",
    "# max_y_test = y_test.max()\n",
    "# max_y_test\n",
    "\n",
    "# y_train = y_train/max_y\n",
    "# y_test = y_test/max_y"
   ]
  },
  {
   "cell_type": "code",
   "execution_count": 219,
   "metadata": {},
   "outputs": [],
   "source": [
    "\n",
    "normalized_X_train = preprocessing.normalize(x_train)\n",
    "normalized_X_test = preprocessing.normalize(x_test)"
   ]
  },
  {
   "cell_type": "code",
   "execution_count": 220,
   "metadata": {},
   "outputs": [
    {
     "data": {
      "text/plain": [
       "((404, 13), (404, 1), (102, 13), (102, 1))"
      ]
     },
     "execution_count": 220,
     "metadata": {},
     "output_type": "execute_result"
    }
   ],
   "source": [
    "normalized_X_train.shape, y_train.shape, normalized_X_test.shape, y_test.shape"
   ]
  },
  {
   "cell_type": "markdown",
   "metadata": {},
   "source": [
    "## Define Model"
   ]
  },
  {
   "cell_type": "code",
   "execution_count": 194,
   "metadata": {},
   "outputs": [],
   "source": [
    "from keras.models import Sequential\n",
    "from keras.layers import Dense\n",
    "import numpy\n",
    "# fix random seed for reproducibility \n",
    "numpy.random.seed(42)"
   ]
  },
  {
   "cell_type": "code",
   "execution_count": 221,
   "metadata": {},
   "outputs": [
    {
     "name": "stdout",
     "output_type": "stream",
     "text": [
      "_________________________________________________________________\n",
      "Layer (type)                 Output Shape              Param #   \n",
      "=================================================================\n",
      "dense_88 (Dense)             (None, 13)                182       \n",
      "_________________________________________________________________\n",
      "dense_89 (Dense)             (None, 10)                140       \n",
      "_________________________________________________________________\n",
      "dense_90 (Dense)             (None, 1)                 11        \n",
      "=================================================================\n",
      "Total params: 333\n",
      "Trainable params: 333\n",
      "Non-trainable params: 0\n",
      "_________________________________________________________________\n"
     ]
    }
   ],
   "source": [
    "# https://keras.io/getting-started/sequential-model-guide\n",
    "model = Sequential()\n",
    "model.add(Dense(13, input_dim=13, activation ='relu'))\n",
    "model.add(Dense(10, activation='relu'))\n",
    "#model.add(Dense(5, activation='relu'))\n",
    "model.add(Dense(1, activation='relu'))\n",
    "model.compile(optimizer='rmsprop',loss='mse', metrics=['mean_squared_error'])\n",
    "# model.compile(loss='mean_squared_error', optimizer='adam')\n",
    "# model.compile(loss='mean_squared_error',\n",
    "#               optimizer='sgd',\n",
    "#               metrics=['mae', 'acc'])\n",
    "model.summary()"
   ]
  },
  {
   "cell_type": "code",
   "execution_count": 222,
   "metadata": {},
   "outputs": [
    {
     "name": "stdout",
     "output_type": "stream",
     "text": [
      "Epoch 1/50\n",
      "404/404 [==============================] - 1s 3ms/step - loss: 575.6686 - mean_squared_error: 575.6686\n",
      "Epoch 2/50\n",
      "404/404 [==============================] - 0s 49us/step - loss: 570.0216 - mean_squared_error: 570.0216\n",
      "Epoch 3/50\n",
      "404/404 [==============================] - 0s 53us/step - loss: 564.3184 - mean_squared_error: 564.3184\n",
      "Epoch 4/50\n",
      "404/404 [==============================] - 0s 52us/step - loss: 557.1815 - mean_squared_error: 557.1815\n",
      "Epoch 5/50\n",
      "404/404 [==============================] - 0s 45us/step - loss: 548.2889 - mean_squared_error: 548.2889\n",
      "Epoch 6/50\n",
      "404/404 [==============================] - 0s 49us/step - loss: 538.3306 - mean_squared_error: 538.3306\n",
      "Epoch 7/50\n",
      "404/404 [==============================] - 0s 52us/step - loss: 527.3492 - mean_squared_error: 527.3492\n",
      "Epoch 8/50\n",
      "404/404 [==============================] - 0s 44us/step - loss: 515.1142 - mean_squared_error: 515.1142\n",
      "Epoch 9/50\n",
      "404/404 [==============================] - 0s 47us/step - loss: 501.6739 - mean_squared_error: 501.6739\n",
      "Epoch 10/50\n",
      "404/404 [==============================] - 0s 48us/step - loss: 486.8639 - mean_squared_error: 486.8639\n",
      "Epoch 11/50\n",
      "404/404 [==============================] - 0s 45us/step - loss: 470.9321 - mean_squared_error: 470.9321\n",
      "Epoch 12/50\n",
      "404/404 [==============================] - 0s 53us/step - loss: 453.5456 - mean_squared_error: 453.5456\n",
      "Epoch 13/50\n",
      "404/404 [==============================] - 0s 55us/step - loss: 435.0281 - mean_squared_error: 435.0281\n",
      "Epoch 14/50\n",
      "404/404 [==============================] - 0s 41us/step - loss: 415.4287 - mean_squared_error: 415.4287\n",
      "Epoch 15/50\n",
      "404/404 [==============================] - 0s 46us/step - loss: 394.8511 - mean_squared_error: 394.8511\n",
      "Epoch 16/50\n",
      "404/404 [==============================] - 0s 42us/step - loss: 373.3048 - mean_squared_error: 373.3048\n",
      "Epoch 17/50\n",
      "404/404 [==============================] - 0s 44us/step - loss: 351.0097 - mean_squared_error: 351.0097\n",
      "Epoch 18/50\n",
      "404/404 [==============================] - 0s 47us/step - loss: 328.0651 - mean_squared_error: 328.0651\n",
      "Epoch 19/50\n",
      "404/404 [==============================] - 0s 45us/step - loss: 304.9073 - mean_squared_error: 304.9073\n",
      "Epoch 20/50\n",
      "404/404 [==============================] - 0s 46us/step - loss: 281.4970 - mean_squared_error: 281.4970\n",
      "Epoch 21/50\n",
      "404/404 [==============================] - 0s 52us/step - loss: 257.9722 - mean_squared_error: 257.9722\n",
      "Epoch 22/50\n",
      "404/404 [==============================] - 0s 46us/step - loss: 234.9323 - mean_squared_error: 234.9323\n",
      "Epoch 23/50\n",
      "404/404 [==============================] - 0s 42us/step - loss: 212.2415 - mean_squared_error: 212.2415\n",
      "Epoch 24/50\n",
      "404/404 [==============================] - 0s 44us/step - loss: 190.6351 - mean_squared_error: 190.6351\n",
      "Epoch 25/50\n",
      "404/404 [==============================] - 0s 48us/step - loss: 170.2075 - mean_squared_error: 170.2075\n",
      "Epoch 26/50\n",
      "404/404 [==============================] - 0s 47us/step - loss: 150.9168 - mean_squared_error: 150.9168\n",
      "Epoch 27/50\n",
      "404/404 [==============================] - 0s 51us/step - loss: 133.8593 - mean_squared_error: 133.8593\n",
      "Epoch 28/50\n",
      "404/404 [==============================] - 0s 48us/step - loss: 118.6462 - mean_squared_error: 118.6462\n",
      "Epoch 29/50\n",
      "404/404 [==============================] - 0s 49us/step - loss: 105.8269 - mean_squared_error: 105.8269\n",
      "Epoch 30/50\n",
      "404/404 [==============================] - 0s 49us/step - loss: 95.8470 - mean_squared_error: 95.8470\n",
      "Epoch 31/50\n",
      "404/404 [==============================] - 0s 42us/step - loss: 88.7524 - mean_squared_error: 88.7524\n",
      "Epoch 32/50\n",
      "404/404 [==============================] - 0s 48us/step - loss: 84.5640 - mean_squared_error: 84.5640\n",
      "Epoch 33/50\n",
      "404/404 [==============================] - 0s 46us/step - loss: 82.3233 - mean_squared_error: 82.3233\n",
      "Epoch 34/50\n",
      "404/404 [==============================] - 0s 52us/step - loss: 81.0610 - mean_squared_error: 81.0610\n",
      "Epoch 35/50\n",
      "404/404 [==============================] - 0s 36us/step - loss: 80.3508 - mean_squared_error: 80.3508\n",
      "Epoch 36/50\n",
      "404/404 [==============================] - 0s 44us/step - loss: 79.8981 - mean_squared_error: 79.8981\n",
      "Epoch 37/50\n",
      "404/404 [==============================] - 0s 38us/step - loss: 79.3281 - mean_squared_error: 79.3281\n",
      "Epoch 38/50\n",
      "404/404 [==============================] - 0s 41us/step - loss: 78.8385 - mean_squared_error: 78.8385\n",
      "Epoch 39/50\n",
      "404/404 [==============================] - 0s 45us/step - loss: 78.4723 - mean_squared_error: 78.4723\n",
      "Epoch 40/50\n",
      "404/404 [==============================] - 0s 36us/step - loss: 77.9418 - mean_squared_error: 77.9418\n",
      "Epoch 41/50\n",
      "404/404 [==============================] - 0s 59us/step - loss: 77.5925 - mean_squared_error: 77.5925\n",
      "Epoch 42/50\n",
      "404/404 [==============================] - 0s 51us/step - loss: 77.0656 - mean_squared_error: 77.0656\n",
      "Epoch 43/50\n",
      "404/404 [==============================] - 0s 49us/step - loss: 76.7991 - mean_squared_error: 76.7991\n",
      "Epoch 44/50\n",
      "404/404 [==============================] - 0s 45us/step - loss: 76.3221 - mean_squared_error: 76.3221\n",
      "Epoch 45/50\n",
      "404/404 [==============================] - 0s 52us/step - loss: 75.8963 - mean_squared_error: 75.8963\n",
      "Epoch 46/50\n",
      "404/404 [==============================] - 0s 62us/step - loss: 75.4941 - mean_squared_error: 75.4941\n",
      "Epoch 47/50\n",
      "404/404 [==============================] - 0s 53us/step - loss: 75.0781 - mean_squared_error: 75.0781\n",
      "Epoch 48/50\n",
      "404/404 [==============================] - 0s 40us/step - loss: 74.6838 - mean_squared_error: 74.6838\n",
      "Epoch 49/50\n",
      "404/404 [==============================] - 0s 40us/step - loss: 74.2900 - mean_squared_error: 74.2900\n",
      "Epoch 50/50\n",
      "404/404 [==============================] - 0s 45us/step - loss: 73.8670 - mean_squared_error: 73.8670\n"
     ]
    }
   ],
   "source": [
    " history = model.fit(normalized_X_train, y_train, epochs=50)"
   ]
  },
  {
   "cell_type": "code",
   "execution_count": 223,
   "metadata": {},
   "outputs": [
    {
     "name": "stdout",
     "output_type": "stream",
     "text": [
      "102/102 [==============================] - 1s 5ms/step\n",
      "mean_squared_error: 22649.067710427677\n"
     ]
    },
    {
     "data": {
      "text/plain": [
       "72.75972343893612"
      ]
     },
     "execution_count": 223,
     "metadata": {},
     "output_type": "execute_result"
    }
   ],
   "source": [
    "#Evaluate the model\n",
    "# scores = model.evaluate(normalized_X_test, y_test)\n",
    "test_mse_score, test_mae_score = model.evaluate(normalized_X_test, y_test)\n",
    "print(f\"{model.metrics_names[1]}: {scores[1]*1000}\")\n",
    "test_mse_score"
   ]
  },
  {
   "cell_type": "code",
   "execution_count": 224,
   "metadata": {},
   "outputs": [
    {
     "data": {
      "image/png": "[encoded data removed]",
      "text/plain": [
       "<Figure size 432x288 with 1 Axes>"
      ]
     },
     "metadata": {
      "needs_background": "light"
     },
     "output_type": "display_data"
    }
   ],
   "source": [
    "import matplotlib.pyplot as plt\n",
    "training_loss = history.history['loss']\n",
    "epoch_count = range(1, len(training_loss) + 1)\n",
    "\n",
    "plt.plot(epoch_count, training_loss, 'r--')\n",
    "plt.show();"
   ]
  },
  {
   "cell_type": "code",
   "execution_count": 225,
   "metadata": {
    "scrolled": true
   },
   "outputs": [
    {
     "data": {
      "text/plain": [
       "{'loss': [575.6686268419322,\n",
       "  570.0215695824953,\n",
       "  564.3183678353187,\n",
       "  557.1815079792891,\n",
       "  548.288872747138,\n",
       "  538.330614448774,\n",
       "  527.3491760858215,\n",
       "  515.1142348487779,\n",
       "  501.67394928884977,\n",
       "  486.8639329966932,\n",
       "  470.93211440284654,\n",
       "  453.5456029306544,\n",
       "  435.02808281926826,\n",
       "  415.42874870677986,\n",
       "  394.85109325446706,\n",
       "  373.30477029026144,\n",
       "  351.0096928058284,\n",
       "  328.0650556205523,\n",
       "  304.9072685619392,\n",
       "  281.4969835942334,\n",
       "  257.97216555151607,\n",
       "  234.93227756613553,\n",
       "  212.2415359043839,\n",
       "  190.6350789589457,\n",
       "  170.2074510933149,\n",
       "  150.91675643165513,\n",
       "  133.85934584211594,\n",
       "  118.64616250519705,\n",
       "  105.8269007465627,\n",
       "  95.84700873346613,\n",
       "  88.7524204065304,\n",
       "  84.56397005591062,\n",
       "  82.32328815271359,\n",
       "  81.06099557404471,\n",
       "  80.3508479052251,\n",
       "  79.8980889273162,\n",
       "  79.3281381437094,\n",
       "  78.83848473577216,\n",
       "  78.47234555990389,\n",
       "  77.94176638008344,\n",
       "  77.59247264295522,\n",
       "  77.0655742683033,\n",
       "  76.79906992392965,\n",
       "  76.3221279937442,\n",
       "  75.8963175103216,\n",
       "  75.49412151374439,\n",
       "  75.07810611536007,\n",
       "  74.68379785518835,\n",
       "  74.28996261747757,\n",
       "  73.8669981248308],\n",
       " 'mean_squared_error': [575.6686268419322,\n",
       "  570.0215695824953,\n",
       "  564.3183678353187,\n",
       "  557.1815079792891,\n",
       "  548.288872747138,\n",
       "  538.330614448774,\n",
       "  527.3491760858215,\n",
       "  515.1142348487779,\n",
       "  501.67394928884977,\n",
       "  486.8639329966932,\n",
       "  470.93211440284654,\n",
       "  453.5456029306544,\n",
       "  435.02808281926826,\n",
       "  415.42874870677986,\n",
       "  394.85109325446706,\n",
       "  373.30477029026144,\n",
       "  351.0096928058284,\n",
       "  328.0650556205523,\n",
       "  304.9072685619392,\n",
       "  281.4969835942334,\n",
       "  257.97216555151607,\n",
       "  234.93227756613553,\n",
       "  212.2415359043839,\n",
       "  190.6350789589457,\n",
       "  170.2074510933149,\n",
       "  150.91675643165513,\n",
       "  133.85934584211594,\n",
       "  118.64616250519705,\n",
       "  105.8269007465627,\n",
       "  95.84700873346613,\n",
       "  88.7524204065304,\n",
       "  84.56397005591062,\n",
       "  82.32328815271359,\n",
       "  81.06099557404471,\n",
       "  80.3508479052251,\n",
       "  79.8980889273162,\n",
       "  79.3281381437094,\n",
       "  78.83848473577216,\n",
       "  78.47234555990389,\n",
       "  77.94176638008344,\n",
       "  77.59247264295522,\n",
       "  77.0655742683033,\n",
       "  76.79906992392965,\n",
       "  76.3221279937442,\n",
       "  75.8963175103216,\n",
       "  75.49412151374439,\n",
       "  75.07810611536007,\n",
       "  74.68379785518835,\n",
       "  74.28996261747757,\n",
       "  73.8669981248308]}"
      ]
     },
     "execution_count": 225,
     "metadata": {},
     "output_type": "execute_result"
    }
   ],
   "source": [
    "history.history"
   ]
  },
  {
   "cell_type": "code",
   "execution_count": 228,
   "metadata": {},
   "outputs": [
    {
     "data": {
      "image/png": "[encoded data removed]",
      "text/plain": [
       "<Figure size 432x288 with 1 Axes>"
      ]
     },
     "metadata": {
      "needs_background": "light"
     },
     "output_type": "display_data"
    }
   ],
   "source": [
    "import matplotlib.pyplot as plt\n",
    "plt.plot(history.history['mean_squared_error'])\n",
    "plt.plot(history.history['loss'])\n",
    "# pyplot.plot(history.history['mean_absolute_percentage_error'])\n",
    "# pyplot.plot(history.history['cosine_proximity'])\n",
    "plt.show()"
   ]
  },
  {
   "cell_type": "code",
   "execution_count": 230,
   "metadata": {},
   "outputs": [
    {
     "data": {
      "image/png": "[encoded data removed]",
      "text/plain": [
       "<Figure size 432x288 with 1 Axes>"
      ]
     },
     "metadata": {
      "needs_background": "light"
     },
     "output_type": "display_data"
    }
   ],
   "source": [
    "training_accuracy = history.history['mean_squared_error']\n",
    "epoch_count = range(1, len(training_accuracy) + 1)\n",
    "\n",
    "plt.plot(epoch_count, training_accuracy, 'r--')\n",
    "plt.show();"
   ]
  },
  {
   "cell_type": "markdown",
   "metadata": {
    "colab_type": "text",
    "id": "SfcFnOONyuNm"
   },
   "source": [
    "## Use the Keras Library to build an image recognition network using the Fashion-MNIST dataset (also comes with keras)\n",
    "\n",
    "- Load and preprocess the image data similar to how we preprocessed the MNIST data in class.\n",
    "- Make sure to one-hot encode your category labels\n",
    "- Make sure to have your final layer have as many nodes as the number of classes that you want to predict.\n",
    "- Try different hyperparameters. What is the highest accuracy that you are able to achieve.\n",
    "- Use the history object that is returned from model.fit to make graphs of the model's loss or train/validation accuracies by epoch. \n",
    "- Remember that neural networks fall prey to randomness so you may need to run your model multiple times (or use Cross Validation) in order to tell if a change to a hyperparameter is truly producing better results."
   ]
  },
  {
   "cell_type": "code",
   "execution_count": 265,
   "metadata": {
    "colab": {},
    "colab_type": "code",
    "id": "szi6-IpuzaH1"
   },
   "outputs": [],
   "source": [
    "from keras.datasets import fashion_mnist\n",
    "\n",
    "(x_train, y_train), (x_test, y_test) = fashion_mnist.load_data()"
   ]
  },
  {
   "cell_type": "code",
   "execution_count": 248,
   "metadata": {},
   "outputs": [],
   "source": [
    "# Let's import again\n",
    "import keras\n",
    "from keras.models import Sequential\n",
    "from keras.layers import Dense, Dropout\n",
    "import numpy as np"
   ]
  },
  {
   "cell_type": "code",
   "execution_count": 247,
   "metadata": {},
   "outputs": [],
   "source": [
    "# global hyperparameters\n",
    "\n",
    "batch_size = 128\n",
    "num_classes = 10\n",
    "epochs = 20"
   ]
  },
  {
   "cell_type": "code",
   "execution_count": 235,
   "metadata": {},
   "outputs": [
    {
     "data": {
      "text/plain": [
       "((60000, 28, 28), (60000,), (10000, 28, 28), (10000,))"
      ]
     },
     "execution_count": 235,
     "metadata": {},
     "output_type": "execute_result"
    }
   ],
   "source": [
    "x_train.shape, y_train.shape, x_test.shape, y_test.shape"
   ]
  },
  {
   "cell_type": "markdown",
   "metadata": {},
   "source": [
    "## Flatten the images"
   ]
  },
  {
   "cell_type": "markdown",
   "metadata": {},
   "source": [
    "### Let's reshape the data from 3 dimesional array to 2 dimensional"
   ]
  },
  {
   "cell_type": "code",
   "execution_count": 241,
   "metadata": {},
   "outputs": [],
   "source": [
    "x_train = x_train.reshape(60000, 784)\n",
    "x_test = x_test.reshape(10000, 784)\n",
    "y_train = np.reshape(y_train, (-1,1))\n",
    "y_test = np.reshape(y_test, (-1,1))"
   ]
  },
  {
   "cell_type": "code",
   "execution_count": 244,
   "metadata": {},
   "outputs": [
    {
     "data": {
      "text/plain": [
       "(dtype('uint8'), dtype('uint8'), dtype('uint8'), dtype('uint8'))"
      ]
     },
     "execution_count": 244,
     "metadata": {},
     "output_type": "execute_result"
    }
   ],
   "source": [
    "x_train.dtype, x_test.dtype, y_train.dtype, y_test.dtype"
   ]
  },
  {
   "cell_type": "markdown",
   "metadata": {},
   "source": [
    "### Since the data type is unit8, let's change it to float"
   ]
  },
  {
   "cell_type": "code",
   "execution_count": 245,
   "metadata": {},
   "outputs": [],
   "source": [
    "x_train = x_train.astype('float32')\n",
    "x_test = x_test.astype('float32')"
   ]
  },
  {
   "cell_type": "markdown",
   "metadata": {},
   "source": [
    "### Converting y numerics to catergoical classes "
   ]
  },
  {
   "cell_type": "code",
   "execution_count": 249,
   "metadata": {},
   "outputs": [],
   "source": [
    "y_train = keras.utils.to_categorical(y_train, num_classes)\n",
    "y_test = keras.utils.to_categorical(y_test, num_classes)"
   ]
  },
  {
   "cell_type": "markdown",
   "metadata": {},
   "source": [
    "### Let's normalize x_train, x_test"
   ]
  },
  {
   "cell_type": "code",
   "execution_count": 250,
   "metadata": {},
   "outputs": [],
   "source": [
    "x_train /= 255\n",
    "x_test /= 255"
   ]
  },
  {
   "cell_type": "code",
   "execution_count": 251,
   "metadata": {},
   "outputs": [
    {
     "name": "stdout",
     "output_type": "stream",
     "text": [
      "60000 train samples\n",
      "10000 test samples\n"
     ]
    }
   ],
   "source": [
    "print(x_train.shape[0], 'train samples')\n",
    "print(x_test.shape[0], 'test samples')"
   ]
  },
  {
   "cell_type": "markdown",
   "metadata": {},
   "source": [
    "#### Putting it all in one place"
   ]
  },
  {
   "cell_type": "code",
   "execution_count": 266,
   "metadata": {},
   "outputs": [
    {
     "name": "stdout",
     "output_type": "stream",
     "text": [
      "60000 train samples\n",
      "10000 test samples\n"
     ]
    }
   ],
   "source": [
    "\n",
    "batch_size = 64\n",
    "num_classes = 10\n",
    "epochs = 50\n",
    "\n",
    "# (x_train, y_train), (x_test, y_test) = mnist.load_data()\n",
    "\n",
    "# Flatten the images\n",
    "x_train = x_train.reshape(60000, 784)\n",
    "x_test = x_test.reshape(10000, 784)\n",
    "\n",
    "x_train = x_train.astype('float32')\n",
    "x_test = x_test.astype('float32')\n",
    "\n",
    "y_train = keras.utils.to_categorical(y_train, num_classes)\n",
    "y_test = keras.utils.to_categorical(y_test, num_classes)\n",
    "\n",
    "x_train /= 255\n",
    "x_test /= 255\n",
    "\n",
    "print(x_train.shape[0], 'train samples')\n",
    "print(x_test.shape[0], 'test samples')"
   ]
  },
  {
   "cell_type": "markdown",
   "metadata": {},
   "source": [
    "### Model"
   ]
  },
  {
   "cell_type": "code",
   "execution_count": 267,
   "metadata": {},
   "outputs": [
    {
     "name": "stdout",
     "output_type": "stream",
     "text": [
      "_________________________________________________________________\n",
      "Layer (type)                 Output Shape              Param #   \n",
      "=================================================================\n",
      "dense_108 (Dense)            (None, 25)                19625     \n",
      "_________________________________________________________________\n",
      "dropout_13 (Dropout)         (None, 25)                0         \n",
      "_________________________________________________________________\n",
      "dense_109 (Dense)            (None, 20)                520       \n",
      "_________________________________________________________________\n",
      "dropout_14 (Dropout)         (None, 20)                0         \n",
      "_________________________________________________________________\n",
      "dense_110 (Dense)            (None, 16)                336       \n",
      "_________________________________________________________________\n",
      "dropout_15 (Dropout)         (None, 16)                0         \n",
      "_________________________________________________________________\n",
      "dense_111 (Dense)            (None, 10)                170       \n",
      "=================================================================\n",
      "Total params: 20,651\n",
      "Trainable params: 20,651\n",
      "Non-trainable params: 0\n",
      "_________________________________________________________________\n"
     ]
    }
   ],
   "source": [
    "model = Sequential()\n",
    "model.add(Dense(25, activation = 'relu', input_shape=(784,)))\n",
    "model.add(Dropout(0.1))\n",
    "model.add(Dense(20, activation='relu'))\n",
    "model.add(Dropout(0.1))\n",
    "model.add(Dense(16, activation='relu'))\n",
    "model.add(Dropout(0.1))\n",
    "model.add(Dense(num_classes, activation='softmax'))\n",
    "model.compile(loss='categorical_crossentropy', optimizer='adam', metrics=['accuracy'])\n",
    "model.summary()"
   ]
  },
  {
   "cell_type": "code",
   "execution_count": 268,
   "metadata": {},
   "outputs": [
    {
     "name": "stdout",
     "output_type": "stream",
     "text": [
      "Train on 54000 samples, validate on 6000 samples\n",
      "Epoch 1/50\n",
      "54000/54000 [==============================] - 5s 97us/step - loss: 0.8877 - acc: 0.6756 - val_loss: 0.5172 - val_acc: 0.8063\n",
      "Epoch 2/50\n",
      "54000/54000 [==============================] - 3s 64us/step - loss: 0.5890 - acc: 0.7865 - val_loss: 0.4499 - val_acc: 0.8383\n",
      "Epoch 3/50\n",
      "54000/54000 [==============================] - 3s 65us/step - loss: 0.5289 - acc: 0.8112 - val_loss: 0.4343 - val_acc: 0.8490\n",
      "Epoch 4/50\n",
      "54000/54000 [==============================] - 4s 65us/step - loss: 0.4992 - acc: 0.8239 - val_loss: 0.4266 - val_acc: 0.8475\n",
      "Epoch 5/50\n",
      "54000/54000 [==============================] - 3s 64us/step - loss: 0.4785 - acc: 0.8321 - val_loss: 0.3995 - val_acc: 0.8613\n",
      "Epoch 6/50\n",
      "54000/54000 [==============================] - 3s 65us/step - loss: 0.4656 - acc: 0.8352 - val_loss: 0.3971 - val_acc: 0.8585\n",
      "Epoch 7/50\n",
      "54000/54000 [==============================] - 3s 65us/step - loss: 0.4505 - acc: 0.8421 - val_loss: 0.4052 - val_acc: 0.8545\n",
      "Epoch 8/50\n",
      "54000/54000 [==============================] - 3s 64us/step - loss: 0.4476 - acc: 0.8428 - val_loss: 0.4112 - val_acc: 0.8563\n",
      "Epoch 9/50\n",
      "54000/54000 [==============================] - 4s 65us/step - loss: 0.4410 - acc: 0.8435 - val_loss: 0.3908 - val_acc: 0.8630\n",
      "Epoch 10/50\n",
      "54000/54000 [==============================] - 4s 65us/step - loss: 0.4360 - acc: 0.8464 - val_loss: 0.3817 - val_acc: 0.8633\n",
      "Epoch 11/50\n",
      "54000/54000 [==============================] - 4s 65us/step - loss: 0.4257 - acc: 0.8481 - val_loss: 0.3945 - val_acc: 0.8607\n",
      "Epoch 12/50\n",
      "54000/54000 [==============================] - 4s 69us/step - loss: 0.4225 - acc: 0.8501 - val_loss: 0.3768 - val_acc: 0.8638\n",
      "Epoch 13/50\n",
      "54000/54000 [==============================] - 4s 66us/step - loss: 0.4210 - acc: 0.8506 - val_loss: 0.3796 - val_acc: 0.8642\n",
      "Epoch 14/50\n",
      "54000/54000 [==============================] - 5s 95us/step - loss: 0.4135 - acc: 0.8518 - val_loss: 0.3800 - val_acc: 0.8627\n",
      "Epoch 15/50\n",
      "54000/54000 [==============================] - 6s 108us/step - loss: 0.4132 - acc: 0.8535 - val_loss: 0.3871 - val_acc: 0.8623\n",
      "Epoch 16/50\n",
      "54000/54000 [==============================] - 4s 73us/step - loss: 0.4075 - acc: 0.8539 - val_loss: 0.3792 - val_acc: 0.8627\n",
      "Epoch 17/50\n",
      "54000/54000 [==============================] - 4s 74us/step - loss: 0.4082 - acc: 0.8545 - val_loss: 0.3773 - val_acc: 0.8658\n",
      "Epoch 18/50\n",
      "54000/54000 [==============================] - 4s 75us/step - loss: 0.4013 - acc: 0.8564 - val_loss: 0.3880 - val_acc: 0.8648\n",
      "Epoch 19/50\n",
      "54000/54000 [==============================] - 7s 124us/step - loss: 0.3966 - acc: 0.8592 - val_loss: 0.3766 - val_acc: 0.8667\n",
      "Epoch 20/50\n",
      "54000/54000 [==============================] - 5s 84us/step - loss: 0.4004 - acc: 0.8587 - val_loss: 0.3806 - val_acc: 0.8667\n",
      "Epoch 21/50\n",
      "54000/54000 [==============================] - 4s 75us/step - loss: 0.3950 - acc: 0.8581 - val_loss: 0.3851 - val_acc: 0.8657\n",
      "Epoch 22/50\n",
      "54000/54000 [==============================] - 4s 78us/step - loss: 0.3932 - acc: 0.8610 - val_loss: 0.3739 - val_acc: 0.8682\n",
      "Epoch 23/50\n",
      "54000/54000 [==============================] - 4s 81us/step - loss: 0.3902 - acc: 0.8615 - val_loss: 0.3794 - val_acc: 0.8670\n",
      "Epoch 24/50\n",
      "54000/54000 [==============================] - 3s 62us/step - loss: 0.3898 - acc: 0.8595 - val_loss: 0.3822 - val_acc: 0.8660\n",
      "Epoch 25/50\n",
      "54000/54000 [==============================] - 4s 65us/step - loss: 0.3892 - acc: 0.8611 - val_loss: 0.3788 - val_acc: 0.8660\n",
      "Epoch 26/50\n",
      "54000/54000 [==============================] - 8s 144us/step - loss: 0.3850 - acc: 0.8624 - val_loss: 0.3776 - val_acc: 0.8677\n",
      "Epoch 27/50\n",
      "54000/54000 [==============================] - 5s 88us/step - loss: 0.3868 - acc: 0.8617 - val_loss: 0.3852 - val_acc: 0.8635\n",
      "Epoch 28/50\n",
      "54000/54000 [==============================] - 4s 67us/step - loss: 0.3824 - acc: 0.8637 - val_loss: 0.3800 - val_acc: 0.8665\n",
      "Epoch 29/50\n",
      "54000/54000 [==============================] - 4s 67us/step - loss: 0.3810 - acc: 0.8638 - val_loss: 0.3799 - val_acc: 0.8675\n",
      "Epoch 30/50\n",
      "54000/54000 [==============================] - 4s 65us/step - loss: 0.3817 - acc: 0.8647 - val_loss: 0.3807 - val_acc: 0.8675\n",
      "Epoch 31/50\n",
      "54000/54000 [==============================] - 3s 63us/step - loss: 0.3757 - acc: 0.8652 - val_loss: 0.3725 - val_acc: 0.8705\n",
      "Epoch 32/50\n",
      "54000/54000 [==============================] - 4s 67us/step - loss: 0.3779 - acc: 0.8641 - val_loss: 0.3791 - val_acc: 0.8662\n",
      "Epoch 33/50\n",
      "54000/54000 [==============================] - 3s 63us/step - loss: 0.3770 - acc: 0.8651 - val_loss: 0.3770 - val_acc: 0.8677\n",
      "Epoch 34/50\n",
      "54000/54000 [==============================] - 4s 71us/step - loss: 0.3759 - acc: 0.8661 - val_loss: 0.3775 - val_acc: 0.8678\n",
      "Epoch 35/50\n",
      "54000/54000 [==============================] - 3s 63us/step - loss: 0.3737 - acc: 0.8660 - val_loss: 0.3814 - val_acc: 0.8622\n",
      "Epoch 36/50\n",
      "54000/54000 [==============================] - 4s 68us/step - loss: 0.3766 - acc: 0.8657 - val_loss: 0.3741 - val_acc: 0.8665\n",
      "Epoch 37/50\n",
      "54000/54000 [==============================] - 6s 120us/step - loss: 0.3740 - acc: 0.8654 - val_loss: 0.4063 - val_acc: 0.8577\n",
      "Epoch 38/50\n",
      "54000/54000 [==============================] - 5s 89us/step - loss: 0.3697 - acc: 0.8682 - val_loss: 0.3790 - val_acc: 0.8715\n",
      "Epoch 39/50\n",
      "54000/54000 [==============================] - 4s 67us/step - loss: 0.3702 - acc: 0.8690 - val_loss: 0.3813 - val_acc: 0.8690\n",
      "Epoch 40/50\n",
      "54000/54000 [==============================] - 3s 64us/step - loss: 0.3691 - acc: 0.8677 - val_loss: 0.3784 - val_acc: 0.8695\n",
      "Epoch 41/50\n",
      "54000/54000 [==============================] - 4s 69us/step - loss: 0.3646 - acc: 0.8688 - val_loss: 0.3762 - val_acc: 0.8642\n",
      "Epoch 42/50\n",
      "54000/54000 [==============================] - 3s 61us/step - loss: 0.3658 - acc: 0.8693 - val_loss: 0.3753 - val_acc: 0.8668\n",
      "Epoch 43/50\n",
      "54000/54000 [==============================] - 4s 69us/step - loss: 0.3650 - acc: 0.8688 - val_loss: 0.3942 - val_acc: 0.8677\n",
      "Epoch 44/50\n",
      "54000/54000 [==============================] - 3s 61us/step - loss: 0.3629 - acc: 0.8693 - val_loss: 0.3799 - val_acc: 0.8677\n",
      "Epoch 45/50\n",
      "54000/54000 [==============================] - 4s 66us/step - loss: 0.3630 - acc: 0.8703 - val_loss: 0.3789 - val_acc: 0.8698\n",
      "Epoch 46/50\n",
      "54000/54000 [==============================] - 6s 116us/step - loss: 0.3630 - acc: 0.8697 - val_loss: 0.3866 - val_acc: 0.8655\n",
      "Epoch 47/50\n",
      "54000/54000 [==============================] - 5s 92us/step - loss: 0.3618 - acc: 0.8703 - val_loss: 0.3910 - val_acc: 0.8673\n",
      "Epoch 48/50\n",
      "54000/54000 [==============================] - 4s 80us/step - loss: 0.3612 - acc: 0.8711 - val_loss: 0.3832 - val_acc: 0.8653\n",
      "Epoch 49/50\n",
      "54000/54000 [==============================] - 4s 79us/step - loss: 0.3560 - acc: 0.8734 - val_loss: 0.3969 - val_acc: 0.8655\n",
      "Epoch 50/50\n",
      "54000/54000 [==============================] - 8s 139us/step - loss: 0.3565 - acc: 0.8717 - val_loss: 0.3800 - val_acc: 0.8678\n",
      "10000/10000 [==============================] - 1s 59us/step\n"
     ]
    }
   ],
   "source": [
    "history = model.fit(x_train, y_train, epochs=epochs, validation_split=.1)\n",
    "scores = model.evaluate(x_test, y_test)"
   ]
  },
  {
   "cell_type": "code",
   "execution_count": 272,
   "metadata": {},
   "outputs": [],
   "source": [
    "y_pred = model.predict_classes(x_test)"
   ]
  },
  {
   "cell_type": "code",
   "execution_count": 273,
   "metadata": {},
   "outputs": [
    {
     "data": {
      "text/plain": [
       "array([9, 2, 1, ..., 8, 1, 5])"
      ]
     },
     "execution_count": 273,
     "metadata": {},
     "output_type": "execute_result"
    }
   ],
   "source": [
    "y_pred"
   ]
  },
  {
   "cell_type": "code",
   "execution_count": 269,
   "metadata": {},
   "outputs": [
    {
     "name": "stdout",
     "output_type": "stream",
     "text": [
      "acc: 86.05000000000001\n"
     ]
    }
   ],
   "source": [
    "print(f'{model.metrics_names[1]}: {scores[1]*100}')"
   ]
  },
  {
   "cell_type": "code",
   "execution_count": 270,
   "metadata": {},
   "outputs": [
    {
     "data": {
      "image/png": "[encoded data removed]",
      "text/plain": [
       "<Figure size 432x288 with 1 Axes>"
      ]
     },
     "metadata": {
      "needs_background": "light"
     },
     "output_type": "display_data"
    }
   ],
   "source": [
    "import matplotlib.pyplot as plt\n",
    "training_loss = history.history['loss']\n",
    "epoch_count = range(1, len(training_loss) + 1)\n",
    "\n",
    "plt.plot(epoch_count, training_loss, 'r--')\n",
    "plt.show();"
   ]
  },
  {
   "cell_type": "code",
   "execution_count": 271,
   "metadata": {},
   "outputs": [
    {
     "data": {
      "image/png": "[encoded data removed]",
      "text/plain": [
       "<Figure size 432x288 with 1 Axes>"
      ]
     },
     "metadata": {
      "needs_background": "light"
     },
     "output_type": "display_data"
    }
   ],
   "source": [
    "training_accuracy = history.history['acc']\n",
    "epoch_count = range(1, len(training_accuracy) + 1)\n",
    "\n",
    "plt.plot(epoch_count, training_accuracy, 'r--')\n",
    "plt.show();"
   ]
  },
  {
   "cell_type": "code",
   "execution_count": null,
   "metadata": {},
   "outputs": [],
   "source": []
  },
  {
   "cell_type": "markdown",
   "metadata": {
    "colab_type": "text",
    "id": "zv_3xNMjzdLI"
   },
   "source": [
    "## Stretch Goals:\n",
    "\n",
    "- Use Hyperparameter Tuning to make the accuracy of your models as high as possible. (error as low as possible)\n",
    "- Use Cross Validation techniques to get more consistent results with your model.\n",
    "- Use GridSearchCV to try different combinations of hyperparameters. \n",
    "- Start looking into other types of Keras layers for CNNs and RNNs maybe try and build a CNN model for fashion-MNIST to see how the results compare."
   ]
  }
 ],
 "metadata": {
  "colab": {
   "name": "LS_DS_433_Keras_Assignment.ipynb",
   "provenance": [],
   "version": "0.3.2"
  },
  "kernelspec": {
   "display_name": "Python 3",
   "language": "python",
   "name": "python3"
  },
  "language_info": {
   "codemirror_mode": {
    "name": "ipython",
    "version": 3
   },
   "file_extension": ".py",
   "mimetype": "text/x-python",
   "name": "python",
   "nbconvert_exporter": "python",
   "pygments_lexer": "ipython3",
   "version": "3.6.8"
  },
  "latex_envs": {
   "LaTeX_envs_menu_present": true,
   "autoclose": true,
   "autocomplete": true,
   "bibliofile": "biblio.bib",
   "cite_by": "apalike",
   "current_citInitial": 1,
   "eqLabelWithNumbers": true,
   "eqNumInitial": 1,
   "hotkeys": {
    "equation": "Ctrl-E",
    "itemize": "Ctrl-I"
   },
   "labels_anchors": false,
   "latex_user_defs": false,
   "report_style_numbering": false,
   "user_envs_cfg": false
  }
 },
 "nbformat": 4,
 "nbformat_minor": 1
}
