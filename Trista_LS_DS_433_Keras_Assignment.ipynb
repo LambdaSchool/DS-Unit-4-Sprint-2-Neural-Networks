{
  "nbformat": 4,
  "nbformat_minor": 0,
  "metadata": {
    "colab": {
      "name": "Trista LS_DS_433_Keras_Assignment.ipynb",
      "version": "0.3.2",
      "provenance": [],
      "collapsed_sections": [],
      "include_colab_link": true
    },
    "kernelspec": {
      "name": "python3",
      "display_name": "Python 3"
    }
  },
  "cells": [
    {
      "cell_type": "markdown",
      "metadata": {
        "id": "view-in-github",
        "colab_type": "text"
      },
      "source": [
        "<a href=\"https://colab.research.google.com/github/trista-paul/DS-Unit-4-Sprint-3-Neural-Networks/blob/master/Trista_LS_DS_433_Keras_Assignment.ipynb\" target=\"_parent\"><img src=\"https://colab.research.google.com/assets/colab-badge.svg\" alt=\"Open In Colab\"/></a>"
      ]
    },
    {
      "cell_type": "markdown",
      "metadata": {
        "id": "pBQsZEJmubLs",
        "colab_type": "text"
      },
      "source": [
        "## Use the Keras Library to build a Multi-Layer Perceptron Model on the Boston Housing dataset\n",
        "\n",
        "- The Boston Housing dataset comes with the Keras library so use Keras to import it into your notebook. \n",
        "- Normalize the data (all features should have roughly the same scale)\n",
        "- Import the type of model and layers that you will need from Keras.\n",
        "- Instantiate a model object and use `model.add()` to add layers to your model\n",
        "- Since this is a regression model you will have a single output node in the final layer.\n",
        "- Use activation functions that are appropriate for this task\n",
        "- Compile your model\n",
        "- Fit your model and report its accuracy in terms of Mean Squared Error\n",
        "- Use the history object that is returned from model.fit to make graphs of the model's loss or train/validation accuracies by epoch. \n",
        "- Run this same data through a linear regression model. Which achieves higher accuracy?\n",
        "- Do a little bit of feature engineering and see how that affects your neural network model. (you will need to change your model to accept more inputs)\n",
        "- After feature engineering, which model sees a greater accuracy boost due to the new features?"
      ]
    },
    {
      "cell_type": "code",
      "metadata": {
        "id": "O8M0waXgGXGa",
        "colab_type": "code",
        "colab": {}
      },
      "source": [
        "import keras\n",
        "from keras.datasets import boston_housing\n",
        "from keras.models import Sequential\n",
        "from keras.layers import Dense\n",
        "import numpy as np\n",
        "\n",
        "np.random.seed(42)"
      ],
      "execution_count": 0,
      "outputs": []
    },
    {
      "cell_type": "code",
      "metadata": {
        "id": "A84mpMJ7HM79",
        "colab_type": "code",
        "colab": {
          "base_uri": "https://localhost:8080/",
          "height": 50
        },
        "outputId": "6a235dab-92ca-42f4-b91a-ff00d15f3f3e"
      },
      "source": [
        "(Xtrain, ytrain), (Xtest, ytest) = boston_housing.load_data()"
      ],
      "execution_count": 3,
      "outputs": [
        {
          "output_type": "stream",
          "text": [
            "Downloading data from https://s3.amazonaws.com/keras-datasets/boston_housing.npz\n",
            "57344/57026 [==============================] - 0s 1us/step\n"
          ],
          "name": "stdout"
        }
      ]
    },
    {
      "cell_type": "code",
      "metadata": {
        "id": "ijRn-qMgHb75",
        "colab_type": "code",
        "colab": {
          "base_uri": "https://localhost:8080/",
          "height": 34
        },
        "outputId": "2622b8c5-2c28-4d54-83b3-67cc6eacdc48"
      },
      "source": [
        "Xtrain.shape"
      ],
      "execution_count": 4,
      "outputs": [
        {
          "output_type": "execute_result",
          "data": {
            "text/plain": [
              "(404, 13)"
            ]
          },
          "metadata": {
            "tags": []
          },
          "execution_count": 4
        }
      ]
    },
    {
      "cell_type": "code",
      "metadata": {
        "id": "cW2-jrFvMBrE",
        "colab_type": "code",
        "colab": {
          "base_uri": "https://localhost:8080/",
          "height": 215
        },
        "outputId": "0fa8e106-aacd-4d33-e457-e8dc705ada69"
      },
      "source": [
        "from sklearn import preprocessing\n",
        "Xtrain = preprocessing.normalize(Xtrain)\n",
        "pd.DataFrame(Xtrain).head()"
      ],
      "execution_count": 11,
      "outputs": [
        {
          "output_type": "execute_result",
          "data": {
            "text/html": [
              "<div>\n",
              "<style scoped>\n",
              "    .dataframe tbody tr th:only-of-type {\n",
              "        vertical-align: middle;\n",
              "    }\n",
              "\n",
              "    .dataframe tbody tr th {\n",
              "        vertical-align: top;\n",
              "    }\n",
              "\n",
              "    .dataframe thead th {\n",
              "        text-align: right;\n",
              "    }\n",
              "</style>\n",
              "<table border=\"1\" class=\"dataframe\">\n",
              "  <thead>\n",
              "    <tr style=\"text-align: right;\">\n",
              "      <th></th>\n",
              "      <th>0</th>\n",
              "      <th>1</th>\n",
              "      <th>2</th>\n",
              "      <th>3</th>\n",
              "      <th>4</th>\n",
              "      <th>5</th>\n",
              "      <th>6</th>\n",
              "      <th>7</th>\n",
              "      <th>8</th>\n",
              "      <th>9</th>\n",
              "      <th>10</th>\n",
              "      <th>11</th>\n",
              "      <th>12</th>\n",
              "    </tr>\n",
              "  </thead>\n",
              "  <tbody>\n",
              "    <tr>\n",
              "      <th>0</th>\n",
              "      <td>0.002412</td>\n",
              "      <td>0.000000</td>\n",
              "      <td>0.015930</td>\n",
              "      <td>0.0</td>\n",
              "      <td>0.001053</td>\n",
              "      <td>0.012020</td>\n",
              "      <td>0.179454</td>\n",
              "      <td>0.007783</td>\n",
              "      <td>0.007828</td>\n",
              "      <td>0.600788</td>\n",
              "      <td>0.041096</td>\n",
              "      <td>0.776719</td>\n",
              "      <td>0.036634</td>\n",
              "    </tr>\n",
              "    <tr>\n",
              "      <th>1</th>\n",
              "      <td>0.000041</td>\n",
              "      <td>0.154587</td>\n",
              "      <td>0.003804</td>\n",
              "      <td>0.0</td>\n",
              "      <td>0.000778</td>\n",
              "      <td>0.014260</td>\n",
              "      <td>0.029418</td>\n",
              "      <td>0.011749</td>\n",
              "      <td>0.003748</td>\n",
              "      <td>0.652077</td>\n",
              "      <td>0.027545</td>\n",
              "      <td>0.740857</td>\n",
              "      <td>0.005827</td>\n",
              "    </tr>\n",
              "    <tr>\n",
              "      <th>2</th>\n",
              "      <td>0.006345</td>\n",
              "      <td>0.000000</td>\n",
              "      <td>0.023446</td>\n",
              "      <td>0.0</td>\n",
              "      <td>0.000817</td>\n",
              "      <td>0.006438</td>\n",
              "      <td>0.129538</td>\n",
              "      <td>0.001726</td>\n",
              "      <td>0.031089</td>\n",
              "      <td>0.862723</td>\n",
              "      <td>0.026167</td>\n",
              "      <td>0.486441</td>\n",
              "      <td>0.004223</td>\n",
              "    </tr>\n",
              "    <tr>\n",
              "      <th>3</th>\n",
              "      <td>0.000087</td>\n",
              "      <td>0.000000</td>\n",
              "      <td>0.011339</td>\n",
              "      <td>0.0</td>\n",
              "      <td>0.001125</td>\n",
              "      <td>0.013190</td>\n",
              "      <td>0.075376</td>\n",
              "      <td>0.013077</td>\n",
              "      <td>0.010924</td>\n",
              "      <td>0.489400</td>\n",
              "      <td>0.044133</td>\n",
              "      <td>0.867155</td>\n",
              "      <td>0.017500</td>\n",
              "    </tr>\n",
              "    <tr>\n",
              "      <th>4</th>\n",
              "      <td>0.004743</td>\n",
              "      <td>0.000000</td>\n",
              "      <td>0.023248</td>\n",
              "      <td>0.0</td>\n",
              "      <td>0.000916</td>\n",
              "      <td>0.008189</td>\n",
              "      <td>0.113541</td>\n",
              "      <td>0.003297</td>\n",
              "      <td>0.030826</td>\n",
              "      <td>0.855411</td>\n",
              "      <td>0.025945</td>\n",
              "      <td>0.502753</td>\n",
              "      <td>0.018816</td>\n",
              "    </tr>\n",
              "  </tbody>\n",
              "</table>\n",
              "</div>"
            ],
            "text/plain": [
              "         0         1         2    3         4         5         6         7   \\\n",
              "0  0.002412  0.000000  0.015930  0.0  0.001053  0.012020  0.179454  0.007783   \n",
              "1  0.000041  0.154587  0.003804  0.0  0.000778  0.014260  0.029418  0.011749   \n",
              "2  0.006345  0.000000  0.023446  0.0  0.000817  0.006438  0.129538  0.001726   \n",
              "3  0.000087  0.000000  0.011339  0.0  0.001125  0.013190  0.075376  0.013077   \n",
              "4  0.004743  0.000000  0.023248  0.0  0.000916  0.008189  0.113541  0.003297   \n",
              "\n",
              "         8         9         10        11        12  \n",
              "0  0.007828  0.600788  0.041096  0.776719  0.036634  \n",
              "1  0.003748  0.652077  0.027545  0.740857  0.005827  \n",
              "2  0.031089  0.862723  0.026167  0.486441  0.004223  \n",
              "3  0.010924  0.489400  0.044133  0.867155  0.017500  \n",
              "4  0.030826  0.855411  0.025945  0.502753  0.018816  "
            ]
          },
          "metadata": {
            "tags": []
          },
          "execution_count": 11
        }
      ]
    },
    {
      "cell_type": "code",
      "metadata": {
        "id": "onjbJ2iGYEgQ",
        "colab_type": "code",
        "colab": {}
      },
      "source": [
        "Xtest = preprocessing.normalize(Xtest)"
      ],
      "execution_count": 0,
      "outputs": []
    },
    {
      "cell_type": "code",
      "metadata": {
        "id": "1IIpga1yTynv",
        "colab_type": "code",
        "colab": {
          "base_uri": "https://localhost:8080/",
          "height": 212
        },
        "outputId": "1826d2ef-1150-4bf8-86ed-2871678f6f01"
      },
      "source": [
        "print(ytrain.shape)\n",
        "pd.DataFrame(ytrain).head()"
      ],
      "execution_count": 12,
      "outputs": [
        {
          "output_type": "stream",
          "text": [
            "(404,)\n"
          ],
          "name": "stdout"
        },
        {
          "output_type": "execute_result",
          "data": {
            "text/html": [
              "<div>\n",
              "<style scoped>\n",
              "    .dataframe tbody tr th:only-of-type {\n",
              "        vertical-align: middle;\n",
              "    }\n",
              "\n",
              "    .dataframe tbody tr th {\n",
              "        vertical-align: top;\n",
              "    }\n",
              "\n",
              "    .dataframe thead th {\n",
              "        text-align: right;\n",
              "    }\n",
              "</style>\n",
              "<table border=\"1\" class=\"dataframe\">\n",
              "  <thead>\n",
              "    <tr style=\"text-align: right;\">\n",
              "      <th></th>\n",
              "      <th>0</th>\n",
              "    </tr>\n",
              "  </thead>\n",
              "  <tbody>\n",
              "    <tr>\n",
              "      <th>0</th>\n",
              "      <td>15.2</td>\n",
              "    </tr>\n",
              "    <tr>\n",
              "      <th>1</th>\n",
              "      <td>42.3</td>\n",
              "    </tr>\n",
              "    <tr>\n",
              "      <th>2</th>\n",
              "      <td>50.0</td>\n",
              "    </tr>\n",
              "    <tr>\n",
              "      <th>3</th>\n",
              "      <td>21.1</td>\n",
              "    </tr>\n",
              "    <tr>\n",
              "      <th>4</th>\n",
              "      <td>17.7</td>\n",
              "    </tr>\n",
              "  </tbody>\n",
              "</table>\n",
              "</div>"
            ],
            "text/plain": [
              "      0\n",
              "0  15.2\n",
              "1  42.3\n",
              "2  50.0\n",
              "3  21.1\n",
              "4  17.7"
            ]
          },
          "metadata": {
            "tags": []
          },
          "execution_count": 12
        }
      ]
    },
    {
      "cell_type": "code",
      "metadata": {
        "id": "8NLTAR87uYJ-",
        "colab_type": "code",
        "colab": {}
      },
      "source": [
        "model = Sequential()\n",
        "\n",
        "#input layer: input_dim is number of features\n",
        "#activation and nodes are arbitrary first run\n",
        "model.add(Dense(8, input_dim=13, activation='relu'))\n",
        "\n",
        "#hidden layer 1\n",
        "model.add(Dense(8, activation='relu'))\n",
        "\n",
        "#hidden layer 2\n",
        "model.add(Dense(4, activation='relu'))\n",
        "\n",
        "#output layer: 1 node and sigmoid because we are predicting a regression\n",
        "#sigmoid for binary classification\n",
        "#tanh is similar to sigmoid, but centered at 0. Swap it in HIDDEN LAYER INSTANCES ONLY.\n",
        "#the mnist dataset, that trains the NN to recognize a picture as one of 10 digits, would have better results with softmax\n",
        "model.add(Dense(1, activation='sigmoid'))\n",
        "\n",
        "#compiler: mean_squared_error because output is continuous regression\n",
        "#binary_crossentropy loss when output is binary classification\n",
        "#categorical_crossentropy loss because output is multi classification\n",
        "#mean squared error\n",
        "model.compile(loss='mean_squared_error', optimizer='adam',\n",
        "              metrics=['mse'])"
      ],
      "execution_count": 0,
      "outputs": []
    },
    {
      "cell_type": "code",
      "metadata": {
        "id": "9MHPRSHpmuy9",
        "colab_type": "code",
        "colab": {
          "base_uri": "https://localhost:8080/",
          "height": 50
        },
        "outputId": "5bb650fd-4a31-45c0-f3ec-5d8cd5e33711"
      },
      "source": [
        "history = model.fit(Xtrain, ytrain, batch_size=128, epochs=20, verbose=0, callbacks=[history])\n",
        "\n",
        "scores = model.evaluate(Xtest, ytest)\n",
        "scores[1]"
      ],
      "execution_count": 30,
      "outputs": [
        {
          "output_type": "stream",
          "text": [
            "102/102 [==============================] - 0s 40us/step\n"
          ],
          "name": "stdout"
        },
        {
          "output_type": "execute_result",
          "data": {
            "text/plain": [
              "570.7291570925245"
            ]
          },
          "metadata": {
            "tags": []
          },
          "execution_count": 30
        }
      ]
    },
    {
      "cell_type": "code",
      "metadata": {
        "id": "gj5Tw6Pbtd1Y",
        "colab_type": "code",
        "colab": {
          "base_uri": "https://localhost:8080/",
          "height": 34
        },
        "outputId": "da94d33e-e139-4fca-efcc-dd78fa4dc6a7"
      },
      "source": [
        "print(history.history.keys())"
      ],
      "execution_count": 31,
      "outputs": [
        {
          "output_type": "stream",
          "text": [
            "dict_keys(['loss', 'mean_squared_error'])\n"
          ],
          "name": "stdout"
        }
      ]
    },
    {
      "cell_type": "code",
      "metadata": {
        "id": "fj3s5it9uggj",
        "colab_type": "code",
        "colab": {
          "base_uri": "https://localhost:8080/",
          "height": 353
        },
        "outputId": "066d9910-fa07-47fc-db06-4a55b59d734d"
      },
      "source": [
        "history.history['mean_squared_error']"
      ],
      "execution_count": 34,
      "outputs": [
        {
          "output_type": "execute_result",
          "data": {
            "text/plain": [
              "[542.4043038245475,\n",
              " 542.4039028658725,\n",
              " 542.4035076481281,\n",
              " 542.4030991355971,\n",
              " 542.402715701868,\n",
              " 542.4023250164372,\n",
              " 542.4019476257929,\n",
              " 542.4015841342435,\n",
              " 542.4012360525603,\n",
              " 542.4009018699721,\n",
              " 542.4005404935025,\n",
              " 542.4002014764465,\n",
              " 542.3998878403465,\n",
              " 542.3995312983446,\n",
              " 542.3992122234685,\n",
              " 542.3988901270499,\n",
              " 542.3985752823329,\n",
              " 542.3982846099551,\n",
              " 542.3979534489093,\n",
              " 542.3976733519299]"
            ]
          },
          "metadata": {
            "tags": []
          },
          "execution_count": 34
        }
      ]
    },
    {
      "cell_type": "code",
      "metadata": {
        "id": "kRV6ny9ntl9Y",
        "colab_type": "code",
        "colab": {
          "base_uri": "https://localhost:8080/",
          "height": 290
        },
        "outputId": "02817e9f-4a46-4f27-ef25-08abbb92a284"
      },
      "source": [
        "import matplotlib.pyplot as plt\n",
        "plt.plot(history.history['mean_squared_error'])\n",
        "plt.xlabel('epoch')\n",
        "plt.ylabel('mean-squared-error')\n",
        "plt.legend(['train', 'validation'], loc='upper left')\n",
        "plt.show()"
      ],
      "execution_count": 33,
      "outputs": [
        {
          "output_type": "display_data",
          "data": {
            "image/png": "[encoded data removed]",
            "text/plain": [
              "<Figure size 432x288 with 1 Axes>"
            ]
          },
          "metadata": {
            "tags": []
          }
        }
      ]
    },
    {
      "cell_type": "code",
      "metadata": {
        "id": "D-j26MZJu-fD",
        "colab_type": "code",
        "colab": {}
      },
      "source": [
        ""
      ],
      "execution_count": 0,
      "outputs": []
    },
    {
      "cell_type": "markdown",
      "metadata": {
        "id": "SfcFnOONyuNm",
        "colab_type": "text"
      },
      "source": [
        "## Use the Keras Library to build an image recognition network using the Fashion-MNIST dataset (also comes with keras)\n",
        "\n",
        "- Load and preprocess the image data similar to how we preprocessed the MNIST data in class.\n",
        "- Make sure to one-hot encode your category labels\n",
        "- Make sure to have your final layer have as many nodes as the number of classes that you want to predict.\n",
        "- Try different hyperparameters. What is the highest accuracy that you are able to achieve.\n",
        "- Use the history object that is returned from model.fit to make graphs of the model's loss or train/validation accuracies by epoch. \n",
        "- Remember that neural networks fall prey to randomness so you may need to run your model multiple times (or use Cross Validation) in order to tell if a change to a hyperparameter is truly producing better results."
      ]
    },
    {
      "cell_type": "code",
      "metadata": {
        "id": "szi6-IpuzaH1",
        "colab_type": "code",
        "colab": {}
      },
      "source": [
        "##### Your Code Here #####"
      ],
      "execution_count": 0,
      "outputs": []
    },
    {
      "cell_type": "markdown",
      "metadata": {
        "id": "zv_3xNMjzdLI",
        "colab_type": "text"
      },
      "source": [
        "## Stretch Goals:\n",
        "\n",
        "- Use Hyperparameter Tuning to make the accuracy of your models as high as possible. (error as low as possible)\n",
        "- Use Cross Validation techniques to get more consistent results with your model.\n",
        "- Use GridSearchCV to try different combinations of hyperparameters. \n",
        "- Start looking into other types of Keras layers for CNNs and RNNs maybe try and build a CNN model for fashion-MNIST to see how the results compare."
      ]
    }
  ]
}