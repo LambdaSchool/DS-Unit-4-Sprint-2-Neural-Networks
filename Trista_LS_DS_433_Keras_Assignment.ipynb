{
  "nbformat": 4,
  "nbformat_minor": 0,
  "metadata": {
    "colab": {
      "name": "Trista LS_DS_433_Keras_Assignment.ipynb",
      "version": "0.3.2",
      "provenance": [],
      "collapsed_sections": [
        "EZpRnx0MLbaY",
        "onAhIbBILKPD",
        "KXBhJFiZLB3G"
      ],
      "include_colab_link": true
    },
    "kernelspec": {
      "name": "python3",
      "display_name": "Python 3"
    }
  },
  "cells": [
    {
      "cell_type": "markdown",
      "metadata": {
        "id": "view-in-github",
        "colab_type": "text"
      },
      "source": [
        "<a href=\"https://colab.research.google.com/github/trista-paul/DS-Unit-4-Sprint-3-Neural-Networks/blob/master/Trista_LS_DS_433_Keras_Assignment.ipynb\" target=\"_parent\"><img src=\"https://colab.research.google.com/assets/colab-badge.svg\" alt=\"Open In Colab\"/></a>"
      ]
    },
    {
      "cell_type": "markdown",
      "metadata": {
        "id": "pBQsZEJmubLs",
        "colab_type": "text"
      },
      "source": [
        "## Use the Keras Library to build a Multi-Layer Perceptron Model on the Boston Housing dataset\n",
        "\n",
        "- The Boston Housing dataset comes with the Keras library so use Keras to import it into your notebook. \n",
        "- Normalize the data (all features should have roughly the same scale)\n",
        "- Import the type of model and layers that you will need from Keras.\n",
        "- Instantiate a model object and use `model.add()` to add layers to your model\n",
        "- Since this is a regression model you will have a single output node in the final layer.\n",
        "- Use activation functions that are appropriate for this task\n",
        "- Compile your model\n",
        "- Fit your model and report its accuracy in terms of Mean Squared Error\n",
        "- Use the history object that is returned from model.fit to make graphs of the model's loss or train/validation accuracies by epoch. \n",
        "- Run this same data through a linear regression model. Which achieves higher accuracy?\n",
        "- Do a little bit of feature engineering and see how that affects your neural network model. (you will need to change your model to accept more inputs)\n",
        "- After feature engineering, which model sees a greater accuracy boost due to the new features?"
      ]
    },
    {
      "cell_type": "markdown",
      "metadata": {
        "id": "EZpRnx0MLbaY",
        "colab_type": "text"
      },
      "source": [
        "# Imports and Normalization"
      ]
    },
    {
      "cell_type": "code",
      "metadata": {
        "id": "O8M0waXgGXGa",
        "colab_type": "code",
        "colab": {
          "base_uri": "https://localhost:8080/",
          "height": 34
        },
        "outputId": "15deab1e-9d1e-44f9-ad8d-bdd8abe69aca"
      },
      "source": [
        "import keras\n",
        "from keras.datasets import boston_housing\n",
        "from keras.models import Sequential\n",
        "from keras.layers import Dense\n",
        "import numpy as np\n",
        "import matplotlib.pyplot as plt\n",
        "\n",
        "np.random.seed(42)"
      ],
      "execution_count": 1,
      "outputs": [
        {
          "output_type": "stream",
          "text": [
            "Using TensorFlow backend.\n"
          ],
          "name": "stderr"
        }
      ]
    },
    {
      "cell_type": "code",
      "metadata": {
        "id": "A84mpMJ7HM79",
        "colab_type": "code",
        "colab": {
          "base_uri": "https://localhost:8080/",
          "height": 70
        },
        "outputId": "d0de7fe8-bae5-453e-d341-e1df533116c1"
      },
      "source": [
        "(Xtrain, ytrain), (Xtest, ytest) = boston_housing.load_data()"
      ],
      "execution_count": 2,
      "outputs": [
        {
          "output_type": "stream",
          "text": [
            "Downloading data from https://s3.amazonaws.com/keras-datasets/boston_housing.npz\n",
            "57344/57026 [==============================] - 0s 5us/step\n"
          ],
          "name": "stdout"
        }
      ]
    },
    {
      "cell_type": "code",
      "metadata": {
        "id": "ijRn-qMgHb75",
        "colab_type": "code",
        "colab": {
          "base_uri": "https://localhost:8080/",
          "height": 34
        },
        "outputId": "86e1906f-a955-4ef1-c046-1843557250a4"
      },
      "source": [
        "Xtrain.shape"
      ],
      "execution_count": 3,
      "outputs": [
        {
          "output_type": "execute_result",
          "data": {
            "text/plain": [
              "(404, 13)"
            ]
          },
          "metadata": {
            "tags": []
          },
          "execution_count": 3
        }
      ]
    },
    {
      "cell_type": "code",
      "metadata": {
        "id": "cW2-jrFvMBrE",
        "colab_type": "code",
        "colab": {
          "base_uri": "https://localhost:8080/",
          "height": 215
        },
        "outputId": "6ca36c8c-dc8e-4ca4-f1e7-e18f09911910"
      },
      "source": [
        "#was using sklearn.preprocessing normalize\n",
        "Xtrain = keras.utils.normalize(Xtrain, axis=-1, order=2)\n",
        "Xtest = keras.utils.normalize(Xtest, axis=-1, order=2)\n",
        "\n",
        "import pandas as pd\n",
        "pd.DataFrame(Xtrain).head()"
      ],
      "execution_count": 5,
      "outputs": [
        {
          "output_type": "execute_result",
          "data": {
            "text/html": [
              "<div>\n",
              "<style scoped>\n",
              "    .dataframe tbody tr th:only-of-type {\n",
              "        vertical-align: middle;\n",
              "    }\n",
              "\n",
              "    .dataframe tbody tr th {\n",
              "        vertical-align: top;\n",
              "    }\n",
              "\n",
              "    .dataframe thead th {\n",
              "        text-align: right;\n",
              "    }\n",
              "</style>\n",
              "<table border=\"1\" class=\"dataframe\">\n",
              "  <thead>\n",
              "    <tr style=\"text-align: right;\">\n",
              "      <th></th>\n",
              "      <th>0</th>\n",
              "      <th>1</th>\n",
              "      <th>2</th>\n",
              "      <th>3</th>\n",
              "      <th>4</th>\n",
              "      <th>5</th>\n",
              "      <th>6</th>\n",
              "      <th>7</th>\n",
              "      <th>8</th>\n",
              "      <th>9</th>\n",
              "      <th>10</th>\n",
              "      <th>11</th>\n",
              "      <th>12</th>\n",
              "    </tr>\n",
              "  </thead>\n",
              "  <tbody>\n",
              "    <tr>\n",
              "      <th>0</th>\n",
              "      <td>0.002412</td>\n",
              "      <td>0.000000</td>\n",
              "      <td>0.015930</td>\n",
              "      <td>0.0</td>\n",
              "      <td>0.001053</td>\n",
              "      <td>0.012020</td>\n",
              "      <td>0.179454</td>\n",
              "      <td>0.007783</td>\n",
              "      <td>0.007828</td>\n",
              "      <td>0.600788</td>\n",
              "      <td>0.041096</td>\n",
              "      <td>0.776719</td>\n",
              "      <td>0.036634</td>\n",
              "    </tr>\n",
              "    <tr>\n",
              "      <th>1</th>\n",
              "      <td>0.000041</td>\n",
              "      <td>0.154587</td>\n",
              "      <td>0.003804</td>\n",
              "      <td>0.0</td>\n",
              "      <td>0.000778</td>\n",
              "      <td>0.014260</td>\n",
              "      <td>0.029418</td>\n",
              "      <td>0.011749</td>\n",
              "      <td>0.003748</td>\n",
              "      <td>0.652077</td>\n",
              "      <td>0.027545</td>\n",
              "      <td>0.740857</td>\n",
              "      <td>0.005827</td>\n",
              "    </tr>\n",
              "    <tr>\n",
              "      <th>2</th>\n",
              "      <td>0.006345</td>\n",
              "      <td>0.000000</td>\n",
              "      <td>0.023446</td>\n",
              "      <td>0.0</td>\n",
              "      <td>0.000817</td>\n",
              "      <td>0.006438</td>\n",
              "      <td>0.129538</td>\n",
              "      <td>0.001726</td>\n",
              "      <td>0.031089</td>\n",
              "      <td>0.862723</td>\n",
              "      <td>0.026167</td>\n",
              "      <td>0.486441</td>\n",
              "      <td>0.004223</td>\n",
              "    </tr>\n",
              "    <tr>\n",
              "      <th>3</th>\n",
              "      <td>0.000087</td>\n",
              "      <td>0.000000</td>\n",
              "      <td>0.011339</td>\n",
              "      <td>0.0</td>\n",
              "      <td>0.001125</td>\n",
              "      <td>0.013190</td>\n",
              "      <td>0.075376</td>\n",
              "      <td>0.013077</td>\n",
              "      <td>0.010924</td>\n",
              "      <td>0.489400</td>\n",
              "      <td>0.044133</td>\n",
              "      <td>0.867155</td>\n",
              "      <td>0.017500</td>\n",
              "    </tr>\n",
              "    <tr>\n",
              "      <th>4</th>\n",
              "      <td>0.004743</td>\n",
              "      <td>0.000000</td>\n",
              "      <td>0.023248</td>\n",
              "      <td>0.0</td>\n",
              "      <td>0.000916</td>\n",
              "      <td>0.008189</td>\n",
              "      <td>0.113541</td>\n",
              "      <td>0.003297</td>\n",
              "      <td>0.030826</td>\n",
              "      <td>0.855411</td>\n",
              "      <td>0.025945</td>\n",
              "      <td>0.502753</td>\n",
              "      <td>0.018816</td>\n",
              "    </tr>\n",
              "  </tbody>\n",
              "</table>\n",
              "</div>"
            ],
            "text/plain": [
              "         0         1         2    3         4         5         6         7   \\\n",
              "0  0.002412  0.000000  0.015930  0.0  0.001053  0.012020  0.179454  0.007783   \n",
              "1  0.000041  0.154587  0.003804  0.0  0.000778  0.014260  0.029418  0.011749   \n",
              "2  0.006345  0.000000  0.023446  0.0  0.000817  0.006438  0.129538  0.001726   \n",
              "3  0.000087  0.000000  0.011339  0.0  0.001125  0.013190  0.075376  0.013077   \n",
              "4  0.004743  0.000000  0.023248  0.0  0.000916  0.008189  0.113541  0.003297   \n",
              "\n",
              "         8         9         10        11        12  \n",
              "0  0.007828  0.600788  0.041096  0.776719  0.036634  \n",
              "1  0.003748  0.652077  0.027545  0.740857  0.005827  \n",
              "2  0.031089  0.862723  0.026167  0.486441  0.004223  \n",
              "3  0.010924  0.489400  0.044133  0.867155  0.017500  \n",
              "4  0.030826  0.855411  0.025945  0.502753  0.018816  "
            ]
          },
          "metadata": {
            "tags": []
          },
          "execution_count": 5
        }
      ]
    },
    {
      "cell_type": "code",
      "metadata": {
        "id": "1IIpga1yTynv",
        "colab_type": "code",
        "colab": {
          "base_uri": "https://localhost:8080/",
          "height": 212
        },
        "outputId": "dbb8ddba-a111-442b-cd80-44deeab779c3"
      },
      "source": [
        "print(ytrain.shape)\n",
        "pd.DataFrame(ytrain).head()"
      ],
      "execution_count": 6,
      "outputs": [
        {
          "output_type": "stream",
          "text": [
            "(404,)\n"
          ],
          "name": "stdout"
        },
        {
          "output_type": "execute_result",
          "data": {
            "text/html": [
              "<div>\n",
              "<style scoped>\n",
              "    .dataframe tbody tr th:only-of-type {\n",
              "        vertical-align: middle;\n",
              "    }\n",
              "\n",
              "    .dataframe tbody tr th {\n",
              "        vertical-align: top;\n",
              "    }\n",
              "\n",
              "    .dataframe thead th {\n",
              "        text-align: right;\n",
              "    }\n",
              "</style>\n",
              "<table border=\"1\" class=\"dataframe\">\n",
              "  <thead>\n",
              "    <tr style=\"text-align: right;\">\n",
              "      <th></th>\n",
              "      <th>0</th>\n",
              "    </tr>\n",
              "  </thead>\n",
              "  <tbody>\n",
              "    <tr>\n",
              "      <th>0</th>\n",
              "      <td>15.2</td>\n",
              "    </tr>\n",
              "    <tr>\n",
              "      <th>1</th>\n",
              "      <td>42.3</td>\n",
              "    </tr>\n",
              "    <tr>\n",
              "      <th>2</th>\n",
              "      <td>50.0</td>\n",
              "    </tr>\n",
              "    <tr>\n",
              "      <th>3</th>\n",
              "      <td>21.1</td>\n",
              "    </tr>\n",
              "    <tr>\n",
              "      <th>4</th>\n",
              "      <td>17.7</td>\n",
              "    </tr>\n",
              "  </tbody>\n",
              "</table>\n",
              "</div>"
            ],
            "text/plain": [
              "      0\n",
              "0  15.2\n",
              "1  42.3\n",
              "2  50.0\n",
              "3  21.1\n",
              "4  17.7"
            ]
          },
          "metadata": {
            "tags": []
          },
          "execution_count": 6
        }
      ]
    },
    {
      "cell_type": "markdown",
      "metadata": {
        "id": "onAhIbBILKPD",
        "colab_type": "text"
      },
      "source": [
        "# First NN"
      ]
    },
    {
      "cell_type": "code",
      "metadata": {
        "id": "8NLTAR87uYJ-",
        "colab_type": "code",
        "colab": {
          "base_uri": "https://localhost:8080/",
          "height": 235
        },
        "outputId": "96d4f065-02c9-4f45-ca3b-f5ca8c742ad4"
      },
      "source": [
        "model = Sequential()\n",
        "\n",
        "#input layer: input_dim is number of features\n",
        "model.add(Dense(12, input_dim=13, activation='relu'))\n",
        "\n",
        "#hidden layer 1\n",
        "model.add(Dense(12, activation='relu'))\n",
        "\n",
        "#output layer: 1 node and sigmoid\n",
        "model.add(Dense(1, activation='sigmoid'))\n",
        "\n",
        "#compiler: mean_squared_error because output is continuous regression\n",
        "model.compile(loss='mean_squared_error',\n",
        "              optimizer='adam',\n",
        "              metrics=['mse'])\n",
        "\n",
        "model.summary()"
      ],
      "execution_count": 19,
      "outputs": [
        {
          "output_type": "stream",
          "text": [
            "_________________________________________________________________\n",
            "Layer (type)                 Output Shape              Param #   \n",
            "=================================================================\n",
            "dense_10 (Dense)             (None, 12)                168       \n",
            "_________________________________________________________________\n",
            "dense_11 (Dense)             (None, 12)                156       \n",
            "_________________________________________________________________\n",
            "dense_12 (Dense)             (None, 1)                 13        \n",
            "=================================================================\n",
            "Total params: 337\n",
            "Trainable params: 337\n",
            "Non-trainable params: 0\n",
            "_________________________________________________________________\n"
          ],
          "name": "stdout"
        }
      ]
    },
    {
      "cell_type": "code",
      "metadata": {
        "id": "9MHPRSHpmuy9",
        "colab_type": "code",
        "colab": {
          "base_uri": "https://localhost:8080/",
          "height": 50
        },
        "outputId": "96dbb95d-9dc7-441b-db44-0dc90bd0a3a0"
      },
      "source": [
        "history = model.fit(Xtrain, ytrain, batch_size=128, epochs=50, verbose=0, validation_split=0.33)\n",
        "\n",
        "scores = model.evaluate(Xtest, ytest)\n",
        "scores[1]"
      ],
      "execution_count": 24,
      "outputs": [
        {
          "output_type": "stream",
          "text": [
            "102/102 [==============================] - 0s 70us/step\n"
          ],
          "name": "stdout"
        },
        {
          "output_type": "execute_result",
          "data": {
            "text/plain": [
              "571.1346399643842"
            ]
          },
          "metadata": {
            "tags": []
          },
          "execution_count": 24
        }
      ]
    },
    {
      "cell_type": "code",
      "metadata": {
        "id": "gj5Tw6Pbtd1Y",
        "colab_type": "code",
        "colab": {
          "base_uri": "https://localhost:8080/",
          "height": 54
        },
        "outputId": "7e90b71a-7f6d-45c4-887e-82bd0b57f0fe"
      },
      "source": [
        "print(history.history.keys())"
      ],
      "execution_count": 25,
      "outputs": [
        {
          "output_type": "stream",
          "text": [
            "dict_keys(['val_loss', 'val_mean_squared_error', 'loss', 'mean_squared_error'])\n"
          ],
          "name": "stdout"
        }
      ]
    },
    {
      "cell_type": "code",
      "metadata": {
        "id": "fj3s5it9uggj",
        "colab_type": "code",
        "colab": {
          "base_uri": "https://localhost:8080/",
          "height": 857
        },
        "outputId": "4e0721f5-c7a1-46f2-fc27-d5e80b1132ed"
      },
      "source": [
        "history.history['mean_squared_error']"
      ],
      "execution_count": 26,
      "outputs": [
        {
          "output_type": "execute_result",
          "data": {
            "text/plain": [
              "[519.7464690031828,\n",
              " 519.3468248155382,\n",
              " 518.9660142686632,\n",
              " 518.6052171495226,\n",
              " 518.2644707573785,\n",
              " 517.9479641384548,\n",
              " 517.6522996690538,\n",
              " 517.373781105324,\n",
              " 517.1152171947338,\n",
              " 516.8762299714265,\n",
              " 516.6491617838542,\n",
              " 516.4429617422599,\n",
              " 516.2532264992043,\n",
              " 516.0796309859664,\n",
              " 515.9207897044994,\n",
              " 515.7733782732928,\n",
              " 515.6387500904225,\n",
              " 515.5125427246094,\n",
              " 515.3974539297599,\n",
              " 515.290594708478,\n",
              " 515.1917634186922,\n",
              " 515.1009652596933,\n",
              " 515.0172709147135,\n",
              " 514.9398220486111,\n",
              " 514.8681170428241,\n",
              " 514.8022214536313,\n",
              " 514.7407371238426,\n",
              " 514.6836733217592,\n",
              " 514.6305650499132,\n",
              " 514.5810442889178,\n",
              " 514.5347728587963,\n",
              " 514.4920685944734,\n",
              " 514.4522989908854,\n",
              " 514.4149814181858,\n",
              " 514.3802987557871,\n",
              " 514.3482295283565,\n",
              " 514.317857530382,\n",
              " 514.289405879268,\n",
              " 514.2628180609809,\n",
              " 514.238165057147,\n",
              " 514.2150738751446,\n",
              " 514.1931211118344,\n",
              " 514.1724417227285,\n",
              " 514.1528948748553,\n",
              " 514.1341588903357,\n",
              " 514.1165724012587,\n",
              " 514.0997095178675,\n",
              " 514.0837499547888,\n",
              " 514.0686116536458,\n",
              " 514.0542681658709]"
            ]
          },
          "metadata": {
            "tags": []
          },
          "execution_count": 26
        }
      ]
    },
    {
      "cell_type": "code",
      "metadata": {
        "id": "G1akSJSnw-BM",
        "colab_type": "code",
        "colab": {
          "base_uri": "https://localhost:8080/",
          "height": 857
        },
        "outputId": "da7c11ae-af9a-4766-809f-90f78da111af"
      },
      "source": [
        "history.history['val_mean_squared_error']"
      ],
      "execution_count": 27,
      "outputs": [
        {
          "output_type": "execute_result",
          "data": {
            "text/plain": [
              "[606.5269852823286,\n",
              " 606.1115299054046,\n",
              " 605.7191112005888,\n",
              " 605.349329250962,\n",
              " 605.0032945319788,\n",
              " 604.6781475010202,\n",
              " 604.3743627747493,\n",
              " 604.0922578270755,\n",
              " 603.8289990780959,\n",
              " 603.5829326572702,\n",
              " 603.3555994745511,\n",
              " 603.145458619986,\n",
              " 602.9534023911206,\n",
              " 602.7778953438375,\n",
              " 602.6164732975747,\n",
              " 602.4677310772796,\n",
              " 602.3302689737349,\n",
              " 602.2030006522563,\n",
              " 602.0861620547166,\n",
              " 601.9785989789821,\n",
              " 601.8791517570837,\n",
              " 601.7878786912605,\n",
              " 601.7034534055796,\n",
              " 601.6255652584247,\n",
              " 601.5536703992245,\n",
              " 601.4869293668377,\n",
              " 601.4249080828766,\n",
              " 601.3670695290637,\n",
              " 601.3134597095091,\n",
              " 601.2634318337512,\n",
              " 601.2170305394415,\n",
              " 601.173476034136,\n",
              " 601.1330680277811,\n",
              " 601.0955095433477,\n",
              " 601.060609276615,\n",
              " 601.0278315757638,\n",
              " 600.9969906024079,\n",
              " 600.9682056939424,\n",
              " 600.9414754839086,\n",
              " 600.91644332658,\n",
              " 600.8929220171117,\n",
              " 600.8704884087862,\n",
              " 600.8492700377507,\n",
              " 600.829258705253,\n",
              " 600.8102130035855,\n",
              " 600.7921356656658,\n",
              " 600.7748490518599,\n",
              " 600.7585267024253,\n",
              " 600.7431713502798,\n",
              " 600.7284222503207]"
            ]
          },
          "metadata": {
            "tags": []
          },
          "execution_count": 27
        }
      ]
    },
    {
      "cell_type": "code",
      "metadata": {
        "id": "kRV6ny9ntl9Y",
        "colab_type": "code",
        "colab": {
          "base_uri": "https://localhost:8080/",
          "height": 283
        },
        "outputId": "480220f1-98d1-4a34-e0e6-5991d3d94e6a"
      },
      "source": [
        "import matplotlib.pyplot as plt\n",
        "plt.plot(history.history['mean_squared_error'])\n",
        "plt.plot(history.history['val_mean_squared_error'])\n",
        "plt.xlabel('epoch')\n",
        "plt.ylabel('mean-squared-error')\n",
        "plt.legend(['train', 'validation'], loc='upper left')\n",
        "plt.show()\n",
        "\n",
        "#oh oof\n",
        "#train and val are stuck and not near another"
      ],
      "execution_count": 28,
      "outputs": [
        {
          "output_type": "display_data",
          "data": {
            "image/png": "[encoded data removed]",
            "text/plain": [
              "<Figure size 432x288 with 1 Axes>"
            ]
          },
          "metadata": {
            "tags": []
          }
        }
      ]
    },
    {
      "cell_type": "code",
      "metadata": {
        "id": "D-j26MZJu-fD",
        "colab_type": "code",
        "colab": {
          "base_uri": "https://localhost:8080/",
          "height": 87
        },
        "outputId": "fb9bcc41-cf82-4ae4-bc5d-cab5ea2fefa9"
      },
      "source": [
        "from sklearn.linear_model import LinearRegression\n",
        "from sklearn.model_selection import cross_validate\n",
        "\n",
        "scores = cross_validate(LinearRegression(), Xtrain, ytrain,\n",
        "                       scoring='neg_mean_squared_error', cv=5)\n",
        "\n",
        "scores['test_score'].mean()"
      ],
      "execution_count": 32,
      "outputs": [
        {
          "output_type": "stream",
          "text": [
            "/usr/local/lib/python3.6/dist-packages/sklearn/utils/deprecation.py:125: FutureWarning: You are accessing a training score ('train_score'), which will not be available by default any more in 0.21. If you need training scores, please set return_train_score=True\n",
            "  warnings.warn(*warn_args, **warn_kwargs)\n"
          ],
          "name": "stderr"
        },
        {
          "output_type": "execute_result",
          "data": {
            "text/plain": [
              "-24.689153269941254"
            ]
          },
          "metadata": {
            "tags": []
          },
          "execution_count": 32
        }
      ]
    },
    {
      "cell_type": "code",
      "metadata": {
        "id": "jIqQmhEdHdMq",
        "colab_type": "code",
        "colab": {
          "base_uri": "https://localhost:8080/",
          "height": 249
        },
        "outputId": "d1d6a097-1f6d-4031-a38c-4611322ae984"
      },
      "source": [
        "pd.DataFrame(scores)"
      ],
      "execution_count": 34,
      "outputs": [
        {
          "output_type": "stream",
          "text": [
            "/usr/local/lib/python3.6/dist-packages/sklearn/utils/deprecation.py:125: FutureWarning: You are accessing a training score ('train_score'), which will not be available by default any more in 0.21. If you need training scores, please set return_train_score=True\n",
            "  warnings.warn(*warn_args, **warn_kwargs)\n"
          ],
          "name": "stderr"
        },
        {
          "output_type": "execute_result",
          "data": {
            "text/html": [
              "<div>\n",
              "<style scoped>\n",
              "    .dataframe tbody tr th:only-of-type {\n",
              "        vertical-align: middle;\n",
              "    }\n",
              "\n",
              "    .dataframe tbody tr th {\n",
              "        vertical-align: top;\n",
              "    }\n",
              "\n",
              "    .dataframe thead th {\n",
              "        text-align: right;\n",
              "    }\n",
              "</style>\n",
              "<table border=\"1\" class=\"dataframe\">\n",
              "  <thead>\n",
              "    <tr style=\"text-align: right;\">\n",
              "      <th></th>\n",
              "      <th>fit_time</th>\n",
              "      <th>score_time</th>\n",
              "      <th>test_score</th>\n",
              "      <th>train_score</th>\n",
              "    </tr>\n",
              "  </thead>\n",
              "  <tbody>\n",
              "    <tr>\n",
              "      <th>0</th>\n",
              "      <td>0.032656</td>\n",
              "      <td>0.000631</td>\n",
              "      <td>-29.342719</td>\n",
              "      <td>-21.354353</td>\n",
              "    </tr>\n",
              "    <tr>\n",
              "      <th>1</th>\n",
              "      <td>0.001253</td>\n",
              "      <td>0.000351</td>\n",
              "      <td>-20.326994</td>\n",
              "      <td>-23.766188</td>\n",
              "    </tr>\n",
              "    <tr>\n",
              "      <th>2</th>\n",
              "      <td>0.000665</td>\n",
              "      <td>0.000320</td>\n",
              "      <td>-16.089846</td>\n",
              "      <td>-24.734954</td>\n",
              "    </tr>\n",
              "    <tr>\n",
              "      <th>3</th>\n",
              "      <td>0.000634</td>\n",
              "      <td>0.000277</td>\n",
              "      <td>-33.807328</td>\n",
              "      <td>-20.231042</td>\n",
              "    </tr>\n",
              "    <tr>\n",
              "      <th>4</th>\n",
              "      <td>0.000675</td>\n",
              "      <td>0.000252</td>\n",
              "      <td>-23.878879</td>\n",
              "      <td>-22.743887</td>\n",
              "    </tr>\n",
              "  </tbody>\n",
              "</table>\n",
              "</div>"
            ],
            "text/plain": [
              "   fit_time  score_time  test_score  train_score\n",
              "0  0.032656    0.000631  -29.342719   -21.354353\n",
              "1  0.001253    0.000351  -20.326994   -23.766188\n",
              "2  0.000665    0.000320  -16.089846   -24.734954\n",
              "3  0.000634    0.000277  -33.807328   -20.231042\n",
              "4  0.000675    0.000252  -23.878879   -22.743887"
            ]
          },
          "metadata": {
            "tags": []
          },
          "execution_count": 34
        }
      ]
    },
    {
      "cell_type": "code",
      "metadata": {
        "id": "cz9Pg1PxIJ4l",
        "colab_type": "code",
        "colab": {
          "base_uri": "https://localhost:8080/",
          "height": 34
        },
        "outputId": "4c4a274b-a1ff-4756-b0d6-f293d600081b"
      },
      "source": [
        "from sklearn.metrics import mean_squared_error\n",
        "linear = LinearRegression()\n",
        "linear.fit(Xtrain, ytrain)\n",
        "ypred = linear.predict(Xtest)\n",
        "mean_squared_error(ytest, ypred)"
      ],
      "execution_count": 37,
      "outputs": [
        {
          "output_type": "execute_result",
          "data": {
            "text/plain": [
              "18.165510493496445"
            ]
          },
          "metadata": {
            "tags": []
          },
          "execution_count": 37
        }
      ]
    },
    {
      "cell_type": "markdown",
      "metadata": {
        "id": "KXBhJFiZLB3G",
        "colab_type": "text"
      },
      "source": [
        "# NN with feature engineering"
      ]
    },
    {
      "cell_type": "code",
      "metadata": {
        "id": "tHSHT5KQJJSf",
        "colab_type": "code",
        "colab": {
          "base_uri": "https://localhost:8080/",
          "height": 34
        },
        "outputId": "87f168c9-13a8-4ca3-8faf-de0548b16530"
      },
      "source": [
        "from sklearn.preprocessing import PolynomialFeatures\n",
        "\n",
        "newfeatures = PolynomialFeatures(2) #multiply every two features\n",
        "Xtrain = newfeatures.fit_transform(Xtrain)\n",
        "Xtest = newfeatures.fit_transform(Xtest)\n",
        "\n",
        "Xtrain.shape"
      ],
      "execution_count": 38,
      "outputs": [
        {
          "output_type": "execute_result",
          "data": {
            "text/plain": [
              "(404, 105)"
            ]
          },
          "metadata": {
            "tags": []
          },
          "execution_count": 38
        }
      ]
    },
    {
      "cell_type": "code",
      "metadata": {
        "id": "T5q7UmcdJ-Zi",
        "colab_type": "code",
        "colab": {
          "base_uri": "https://localhost:8080/",
          "height": 235
        },
        "outputId": "3b0ed52e-9cff-470b-a4b3-a518b268e325"
      },
      "source": [
        "model = Sequential()\n",
        "\n",
        "#input layer: input_dim is number of features\n",
        "model.add(Dense(12, input_dim=105, activation='relu'))\n",
        "\n",
        "#hidden layer 1\n",
        "model.add(Dense(12, activation='relu'))\n",
        "\n",
        "#output layer: 1 node and sigmoid\n",
        "model.add(Dense(1, activation='sigmoid'))\n",
        "\n",
        "#compiler: mean_squared_error because output is continuous regression\n",
        "model.compile(loss='mean_squared_error',\n",
        "              optimizer='adam',\n",
        "              metrics=['mse'])\n",
        "\n",
        "model.summary()"
      ],
      "execution_count": 39,
      "outputs": [
        {
          "output_type": "stream",
          "text": [
            "_________________________________________________________________\n",
            "Layer (type)                 Output Shape              Param #   \n",
            "=================================================================\n",
            "dense_13 (Dense)             (None, 12)                1272      \n",
            "_________________________________________________________________\n",
            "dense_14 (Dense)             (None, 12)                156       \n",
            "_________________________________________________________________\n",
            "dense_15 (Dense)             (None, 1)                 13        \n",
            "=================================================================\n",
            "Total params: 1,441\n",
            "Trainable params: 1,441\n",
            "Non-trainable params: 0\n",
            "_________________________________________________________________\n"
          ],
          "name": "stdout"
        }
      ]
    },
    {
      "cell_type": "code",
      "metadata": {
        "id": "EeJNQFWCKHEX",
        "colab_type": "code",
        "colab": {
          "base_uri": "https://localhost:8080/",
          "height": 50
        },
        "outputId": "f12bf1cd-74c7-4818-c437-1b07c49cca15"
      },
      "source": [
        "history = model.fit(Xtrain, ytrain, batch_size=128, epochs=50, verbose=0, validation_split=0.33)\n",
        "\n",
        "scores = model.evaluate(Xtest, ytest)\n",
        "scores[1]"
      ],
      "execution_count": 40,
      "outputs": [
        {
          "output_type": "stream",
          "text": [
            "102/102 [==============================] - 0s 65us/step\n"
          ],
          "name": "stdout"
        },
        {
          "output_type": "execute_result",
          "data": {
            "text/plain": [
              "572.0893470913757"
            ]
          },
          "metadata": {
            "tags": []
          },
          "execution_count": 40
        }
      ]
    },
    {
      "cell_type": "code",
      "metadata": {
        "id": "WBJoQAsrKRKh",
        "colab_type": "code",
        "colab": {
          "base_uri": "https://localhost:8080/",
          "height": 283
        },
        "outputId": "de2e9309-264a-4612-a873-b949f14eba26"
      },
      "source": [
        "plt.plot(history.history['mean_squared_error'])\n",
        "plt.plot(history.history['val_mean_squared_error'])\n",
        "plt.xlabel('epoch')\n",
        "plt.ylabel('mean-squared-error')\n",
        "plt.legend(['train', 'validation'], loc='upper left')\n",
        "plt.show()"
      ],
      "execution_count": 41,
      "outputs": [
        {
          "output_type": "display_data",
          "data": {
            "image/png": "[encoded data removed]",
            "text/plain": [
              "<Figure size 432x288 with 1 Axes>"
            ]
          },
          "metadata": {
            "tags": []
          }
        }
      ]
    },
    {
      "cell_type": "code",
      "metadata": {
        "id": "drnUGDGIKiAo",
        "colab_type": "code",
        "colab": {
          "base_uri": "https://localhost:8080/",
          "height": 50
        },
        "outputId": "1c7d1c93-6404-4419-be87-2e185669a054"
      },
      "source": [
        "#trying more epochs\n",
        "#doesn't accomplish much\n",
        "history = model.fit(Xtrain, ytrain, batch_size=128, epochs=500, verbose=0, validation_split=0.33)\n",
        "\n",
        "scores = model.evaluate(Xtest, ytest)\n",
        "scores[1]"
      ],
      "execution_count": 43,
      "outputs": [
        {
          "output_type": "stream",
          "text": [
            "102/102 [==============================] - 0s 59us/step\n"
          ],
          "name": "stdout"
        },
        {
          "output_type": "execute_result",
          "data": {
            "text/plain": [
              "570.7043600643383"
            ]
          },
          "metadata": {
            "tags": []
          },
          "execution_count": 43
        }
      ]
    },
    {
      "cell_type": "code",
      "metadata": {
        "id": "qHF_ENsUKvqP",
        "colab_type": "code",
        "colab": {
          "base_uri": "https://localhost:8080/",
          "height": 34
        },
        "outputId": "4e0381b4-8d78-4961-cea3-c4ee3b761527"
      },
      "source": [
        "#on the other hand linear improved a lot\n",
        "linear.fit(Xtrain, ytrain)\n",
        "ypred = linear.predict(Xtest)\n",
        "mean_squared_error(ytest, ypred)"
      ],
      "execution_count": 44,
      "outputs": [
        {
          "output_type": "execute_result",
          "data": {
            "text/plain": [
              "13.6442076439951"
            ]
          },
          "metadata": {
            "tags": []
          },
          "execution_count": 44
        }
      ]
    },
    {
      "cell_type": "markdown",
      "metadata": {
        "id": "SfcFnOONyuNm",
        "colab_type": "text"
      },
      "source": [
        "# Use the Keras Library to build an image recognition network using the Fashion-MNIST dataset (also comes with keras)\n",
        "\n",
        "- Load and preprocess the image data similar to how we preprocessed the MNIST data in class.\n",
        "- Make sure to one-hot encode your category labels\n",
        "- Make sure to have your final layer have as many nodes as the number of classes that you want to predict.\n",
        "- Try different hyperparameters. What is the highest accuracy that you are able to achieve.\n",
        "- Use the history object that is returned from model.fit to make graphs of the model's loss or train/validation accuracies by epoch. \n",
        "- Remember that neural networks fall prey to randomness so you may need to run your model multiple times (or use Cross Validation) in order to tell if a change to a hyperparameter is truly producing better results."
      ]
    },
    {
      "cell_type": "code",
      "metadata": {
        "id": "szi6-IpuzaH1",
        "colab_type": "code",
        "colab": {}
      },
      "source": [
        "##### Your Code Here #####"
      ],
      "execution_count": 0,
      "outputs": []
    },
    {
      "cell_type": "markdown",
      "metadata": {
        "id": "zv_3xNMjzdLI",
        "colab_type": "text"
      },
      "source": [
        "## Stretch Goals:\n",
        "\n",
        "- Use Hyperparameter Tuning to make the accuracy of your models as high as possible. (error as low as possible)\n",
        "- Use Cross Validation techniques to get more consistent results with your model.\n",
        "- Use GridSearchCV to try different combinations of hyperparameters. \n",
        "- Start looking into other types of Keras layers for CNNs and RNNs maybe try and build a CNN model for fashion-MNIST to see how the results compare."
      ]
    }
  ]
}