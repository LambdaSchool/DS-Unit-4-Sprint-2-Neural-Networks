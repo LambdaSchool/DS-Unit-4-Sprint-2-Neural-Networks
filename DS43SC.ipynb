{
 "cells": [
  {
   "cell_type": "markdown",
   "metadata": {
    "colab_type": "text",
    "id": "Y6SKlgYrpcym"
   },
   "source": [
    "# Neural Networks Sprint Challenge"
   ]
  },
  {
   "cell_type": "markdown",
   "metadata": {
    "colab_type": "text",
    "id": "BrEbRrjVphPM"
   },
   "source": [
    "## 1) Define the following terms:\n",
    "\n",
    "- Neuron\n",
    "- Input Layer\n",
    "- Hidden Layer\n",
    "- Output Layer\n",
    "- Activation\n",
    "- Backpropagation"
   ]
  },
  {
   "cell_type": "markdown",
   "metadata": {
    "colab_type": "text",
    "id": "Q5EksLqnp4oB"
   },
   "source": [
    "**Neuron:**\n",
    "A node in A Neural Network. They modeled after biological neurons. Neurons read the activation state of all the neurons in the previous layer, weighs them individually, and passes the sum  thru a function that decides on a final output\n"
   ]
  },
  {
   "cell_type": "markdown",
   "metadata": {},
   "source": [
    "**Input Layer:**\n",
    "The first/input layer of a neural network. A set of variables that correspond directly to a feature in the data. \n",
    "\n",
    "**Hidden Layer:**\n",
    "Internal layers of a neural network. Existing between them, it connects input and output layers. \n",
    "\n",
    "**Output Layer:**\n",
    "The last/output layer of a neural network. Each node is a function like the hidden layers, but its output corresponds to the NN's predictions for a single outcome variable. Note that the nodes in this layer don't usually have an activation function."
   ]
  },
  {
   "cell_type": "markdown",
   "metadata": {},
   "source": [
    "**Activation Function:**\n",
    "Each neuron must sum and weight inputs then produce a single output. The activation function shapes that output to be within useful bounds. All the nodes in a layer of the NN usually have the same activation function."
   ]
  },
  {
   "cell_type": "markdown",
   "metadata": {},
   "source": [
    "**Backpropagation:** Short for \"Backwards Propagation of errors\" and refers to a specific algorithm for how weights in a neural network are updated in reverse order at the end of each training epoch. It 'assigns blame' to weights and works backwards to nudge the weights until they 'improve' the prediction"
   ]
  },
  {
   "cell_type": "markdown",
   "metadata": {
    "colab_type": "text",
    "id": "Ri_gRA2Jp728"
   },
   "source": [
    "## 2) Create a perceptron class that can model the behavior of an AND gate. You can use the following table as your training data:\n",
    "\n",
    "| x1 | x2 | x3 | y |\n",
    "|----|----|----|---|\n",
    "| 1  | 1  | 1  | 1 |\n",
    "| 1  | 0  | 1  | 0 |\n",
    "| 0  | 1  | 1  | 0 |\n",
    "| 0  | 0  | 1  | 0 |"
   ]
  },
  {
   "cell_type": "code",
   "execution_count": 1,
   "metadata": {},
   "outputs": [],
   "source": [
    "import numpy as np\n",
    "import pandas as pd"
   ]
  },
  {
   "cell_type": "code",
   "execution_count": 2,
   "metadata": {
    "colab": {},
    "colab_type": "code",
    "id": "Ig6ZTH8tpQ19"
   },
   "outputs": [],
   "source": [
    "class Perceptron(object):\n",
    "\n",
    "    def __init__(self, no_of_inputs, threshold=100, learning_rate=0.01):\n",
    "        self.threshold = threshold\n",
    "        self.learning_rate = learning_rate\n",
    "        self.weights = np.zeros(no_of_inputs + 1)\n",
    "           \n",
    "    def predict(self, inputs):\n",
    "        summation = np.dot(inputs, self.weights[1:]) + self.weights[0]\n",
    "        if summation > 0:\n",
    "            activation = 1\n",
    "        else:\n",
    "            activation = 0            \n",
    "        return activation\n",
    "\n",
    "    def train(self, training_inputs, labels):\n",
    "        for _ in range(self.threshold):\n",
    "            for inputs, label in zip(training_inputs, labels):\n",
    "                prediction = self.predict(inputs)\n",
    "                self.weights[1:] += self.learning_rate * (label - prediction) * inputs\n",
    "                self.weights[0] += self.learning_rate * (label - prediction)\n",
    "\n",
    "inputs = np.array([[1,1,1],\n",
    "                   [1,0,1],\n",
    "                   [0,1,1],\n",
    "                   [0,0,1]])\n",
    "\n",
    "correct_outputs = np.array([[1],\n",
    "                            [0],\n",
    "                            [0],\n",
    "                            [0]])\n",
    "\n",
    "pn = Perceptron(no_of_inputs=3, threshold=100, learning_rate=0.01)\n",
    "pn.train(inputs, correct_outputs)"
   ]
  },
  {
   "cell_type": "code",
   "execution_count": 3,
   "metadata": {},
   "outputs": [
    {
     "name": "stdout",
     "output_type": "stream",
     "text": [
      "     AND Gate\n",
      "1 1 1 --> 1\n",
      "1 0 1 --> 0\n",
      "0 1 1 --> 0\n",
      "0 0 1 --> 0\n"
     ]
    }
   ],
   "source": [
    "print(\"     AND Gate\")\n",
    "for row in inputs:\n",
    "    print(f'{row[0]} {row[1]} {row[2]} --> {pn.predict(row)}')"
   ]
  },
  {
   "cell_type": "markdown",
   "metadata": {
    "colab_type": "text",
    "id": "86HyRi8Osr3U"
   },
   "source": [
    "## 3) Implement a Neural Network Multilayer Perceptron class that uses backpropagation to update the network's weights. \n",
    "- Your network must have one hidden layer. \n",
    "- You do not have to update weights via gradient descent. You can use something like the derivative of the sigmoid function to update weights.\n",
    "- Train your model on the Heart Disease dataset from UCI:\n",
    "\n",
    "[Github Dataset](https://github.com/ryanleeallred/datasets/blob/master/heart.csv)\n",
    "\n",
    "[Raw File on Github](https://raw.githubusercontent.com/ryanleeallred/datasets/master/heart.csv)\n"
   ]
  },
  {
   "cell_type": "markdown",
   "metadata": {},
   "source": [
    "### Imports"
   ]
  },
  {
   "cell_type": "code",
   "execution_count": 4,
   "metadata": {
    "colab": {},
    "colab_type": "code",
    "id": "CNfiajv3v4Ed"
   },
   "outputs": [],
   "source": [
    "import matplotlib.pyplot as plt\n",
    "#from mlxtend.preprocessing import shuffle_arrays_unison\n",
    "from sklearn.preprocessing import StandardScaler"
   ]
  },
  {
   "cell_type": "markdown",
   "metadata": {},
   "source": [
    "### Load and Inspect Data"
   ]
  },
  {
   "cell_type": "code",
   "execution_count": 5,
   "metadata": {},
   "outputs": [
    {
     "name": "stdout",
     "output_type": "stream",
     "text": [
      "Index(['age', 'sex', 'cp', 'trestbps', 'chol', 'fbs', 'restecg', 'thalach',\n",
      "       'exang', 'oldpeak', 'slope', 'ca', 'thal', 'target'],\n",
      "      dtype='object')\n",
      "(303, 14)\n"
     ]
    },
    {
     "data": {
      "text/html": [
       "<div>\n",
       "<style scoped>\n",
       "    .dataframe tbody tr th:only-of-type {\n",
       "        vertical-align: middle;\n",
       "    }\n",
       "\n",
       "    .dataframe tbody tr th {\n",
       "        vertical-align: top;\n",
       "    }\n",
       "\n",
       "    .dataframe thead th {\n",
       "        text-align: right;\n",
       "    }\n",
       "</style>\n",
       "<table border=\"1\" class=\"dataframe\">\n",
       "  <thead>\n",
       "    <tr style=\"text-align: right;\">\n",
       "      <th></th>\n",
       "      <th>age</th>\n",
       "      <th>sex</th>\n",
       "      <th>cp</th>\n",
       "      <th>trestbps</th>\n",
       "      <th>chol</th>\n",
       "      <th>fbs</th>\n",
       "      <th>restecg</th>\n",
       "      <th>thalach</th>\n",
       "      <th>exang</th>\n",
       "      <th>oldpeak</th>\n",
       "      <th>slope</th>\n",
       "      <th>ca</th>\n",
       "      <th>thal</th>\n",
       "      <th>target</th>\n",
       "    </tr>\n",
       "  </thead>\n",
       "  <tbody>\n",
       "    <tr>\n",
       "      <th>0</th>\n",
       "      <td>63</td>\n",
       "      <td>1</td>\n",
       "      <td>3</td>\n",
       "      <td>145</td>\n",
       "      <td>233</td>\n",
       "      <td>1</td>\n",
       "      <td>0</td>\n",
       "      <td>150</td>\n",
       "      <td>0</td>\n",
       "      <td>2.3</td>\n",
       "      <td>0</td>\n",
       "      <td>0</td>\n",
       "      <td>1</td>\n",
       "      <td>1</td>\n",
       "    </tr>\n",
       "    <tr>\n",
       "      <th>1</th>\n",
       "      <td>37</td>\n",
       "      <td>1</td>\n",
       "      <td>2</td>\n",
       "      <td>130</td>\n",
       "      <td>250</td>\n",
       "      <td>0</td>\n",
       "      <td>1</td>\n",
       "      <td>187</td>\n",
       "      <td>0</td>\n",
       "      <td>3.5</td>\n",
       "      <td>0</td>\n",
       "      <td>0</td>\n",
       "      <td>2</td>\n",
       "      <td>1</td>\n",
       "    </tr>\n",
       "    <tr>\n",
       "      <th>2</th>\n",
       "      <td>41</td>\n",
       "      <td>0</td>\n",
       "      <td>1</td>\n",
       "      <td>130</td>\n",
       "      <td>204</td>\n",
       "      <td>0</td>\n",
       "      <td>0</td>\n",
       "      <td>172</td>\n",
       "      <td>0</td>\n",
       "      <td>1.4</td>\n",
       "      <td>2</td>\n",
       "      <td>0</td>\n",
       "      <td>2</td>\n",
       "      <td>1</td>\n",
       "    </tr>\n",
       "    <tr>\n",
       "      <th>3</th>\n",
       "      <td>56</td>\n",
       "      <td>1</td>\n",
       "      <td>1</td>\n",
       "      <td>120</td>\n",
       "      <td>236</td>\n",
       "      <td>0</td>\n",
       "      <td>1</td>\n",
       "      <td>178</td>\n",
       "      <td>0</td>\n",
       "      <td>0.8</td>\n",
       "      <td>2</td>\n",
       "      <td>0</td>\n",
       "      <td>2</td>\n",
       "      <td>1</td>\n",
       "    </tr>\n",
       "    <tr>\n",
       "      <th>4</th>\n",
       "      <td>57</td>\n",
       "      <td>0</td>\n",
       "      <td>0</td>\n",
       "      <td>120</td>\n",
       "      <td>354</td>\n",
       "      <td>0</td>\n",
       "      <td>1</td>\n",
       "      <td>163</td>\n",
       "      <td>1</td>\n",
       "      <td>0.6</td>\n",
       "      <td>2</td>\n",
       "      <td>0</td>\n",
       "      <td>2</td>\n",
       "      <td>1</td>\n",
       "    </tr>\n",
       "  </tbody>\n",
       "</table>\n",
       "</div>"
      ],
      "text/plain": [
       "   age  sex  cp  trestbps  chol  fbs  restecg  thalach  exang  oldpeak  slope  \\\n",
       "0   63    1   3       145   233    1        0      150      0      2.3      0   \n",
       "1   37    1   2       130   250    0        1      187      0      3.5      0   \n",
       "2   41    0   1       130   204    0        0      172      0      1.4      2   \n",
       "3   56    1   1       120   236    0        1      178      0      0.8      2   \n",
       "4   57    0   0       120   354    0        1      163      1      0.6      2   \n",
       "\n",
       "   ca  thal  target  \n",
       "0   0     1       1  \n",
       "1   0     2       1  \n",
       "2   0     2       1  \n",
       "3   0     2       1  \n",
       "4   0     2       1  "
      ]
     },
     "execution_count": 5,
     "metadata": {},
     "output_type": "execute_result"
    }
   ],
   "source": [
    "url=\"https://raw.githubusercontent.com/ryanleeallred/datasets/master/heart.csv\"\n",
    "df=pd.read_csv(url)\n",
    "print(df.columns)\n",
    "print(df.shape)\n",
    "\n",
    "df.head()"
   ]
  },
  {
   "cell_type": "code",
   "execution_count": 6,
   "metadata": {},
   "outputs": [],
   "source": [
    "y = df.target.values\n",
    "X = df.drop(columns = ['target']).values"
   ]
  },
  {
   "cell_type": "code",
   "execution_count": 7,
   "metadata": {},
   "outputs": [
    {
     "data": {
      "text/plain": [
       "(303, 13)"
      ]
     },
     "execution_count": 7,
     "metadata": {},
     "output_type": "execute_result"
    }
   ],
   "source": [
    "X.shape"
   ]
  },
  {
   "cell_type": "code",
   "execution_count": 8,
   "metadata": {},
   "outputs": [],
   "source": [
    "y=y.reshape(-1,1)"
   ]
  },
  {
   "cell_type": "code",
   "execution_count": 9,
   "metadata": {},
   "outputs": [
    {
     "name": "stdout",
     "output_type": "stream",
     "text": [
      "(303, 1)\n"
     ]
    },
    {
     "data": {
      "text/plain": [
       "array([1])"
      ]
     },
     "execution_count": 9,
     "metadata": {},
     "output_type": "execute_result"
    }
   ],
   "source": [
    "print(y.shape)\n",
    "y[0]"
   ]
  },
  {
   "cell_type": "markdown",
   "metadata": {},
   "source": [
    "### NN Model"
   ]
  },
  {
   "cell_type": "code",
   "execution_count": 10,
   "metadata": {},
   "outputs": [],
   "source": [
    "# inputs = 13\n",
    "# 2 hidden layers of 16 each, \n",
    "# output of 1 variables (the probability prediction)\n",
    "class NN_2L16(object):\n",
    "    def __init__(self):\n",
    "        self.inputs = 13\n",
    "        self.L1Nodes = 16\n",
    "        self.L2Nodes = 16\n",
    "        self.outputNodes = 1\n",
    "\n",
    "        # Initlize Weights\n",
    "        self.L1_weights = np.random.randn(self.inputs, self.L1Nodes) # (784x16)\n",
    "        self.L2_weights = np.random.randn(self.L1Nodes, self.L2Nodes) # (16x16)\n",
    "        self.output_weights = np.random.randn(self.L2Nodes, self.outputNodes) # (16x10)\n",
    "\n",
    "    def feed_forward(self, X):\n",
    "        # Sum and activate flows to L1\n",
    "        self.activated_L1 = self.sigmoid(np.dot(X, self.L1_weights)) \n",
    "        # Sum and activate flows to L2\n",
    "        self.activated_L2 = self.sigmoid(np.dot(self.activated_L1, self.L2_weights))\n",
    "        # Sum and activate flows to output\n",
    "        self.activated_output = self.sigmoid(np.dot(self.activated_L2, self.output_weights))\n",
    "        return self.activated_output\n",
    "        \n",
    "    def sigmoid(self, s):\n",
    "        return 1/(1+np.exp(-s))\n",
    "    \n",
    "    def sigmoidPrime(self, s):\n",
    "        return s * (1 - s)\n",
    "    \n",
    "    def backward(self, X, y, output):\n",
    "        ## backward propgate through the network, calculating error and delta at each layer\n",
    "        # Output\n",
    "        self.output_error = y - output # error in this layer\n",
    "        self.output_delta = self.output_error*self.sigmoidPrime(output) # apply derivative of sigmoid to error\n",
    "        \n",
    "        # L2\n",
    "        self.L2_error = self.output_delta.dot(self.output_weights.T) \n",
    "        self.L2_delta = self.L2_error*self.sigmoidPrime(self.activated_L2)\n",
    "        \n",
    "        # L1\n",
    "        self.L1_error = self.L2_delta.dot(self.L2_weights.T) \n",
    "        self.L1_delta = self.L1_error*self.sigmoidPrime(self.activated_L1)\n",
    "        \n",
    "        \n",
    "        ## Update all weights\n",
    "        self.L1_weights += X.T.dot(self.L1_delta) \n",
    "        self.L2_weights += self.activated_L1.T.dot(self.L2_delta)\n",
    "        self.output_weights += self.activated_L2.T.dot(self.output_delta)\n",
    "        \n",
    "    def train (self, X, y):\n",
    "        output = self.feed_forward(X)\n",
    "        self.backward(X, y, output)"
   ]
  },
  {
   "cell_type": "code",
   "execution_count": 11,
   "metadata": {},
   "outputs": [
    {
     "name": "stdout",
     "output_type": "stream",
     "text": [
      "+---------- EPOCH 1 -----------+\n",
      "Loss: \n",
      "0.48727738719106406\n",
      "\n",
      "\n",
      "+---------- EPOCH 2 -----------+\n",
      "Loss: \n",
      "0.45544554455445546\n",
      "\n",
      "\n",
      "+---------- EPOCH 3 -----------+\n",
      "Loss: \n",
      "0.45544554455445546\n",
      "\n",
      "\n",
      "+---------- EPOCH 500 -----------+\n",
      "Loss: \n",
      "0.45544554455445546\n",
      "\n",
      "\n"
     ]
    },
    {
     "name": "stderr",
     "output_type": "stream",
     "text": [
      "/home/ec2-user/anaconda3/envs/tensorflow_p36/lib/python3.6/site-packages/ipykernel/__main__.py:26: RuntimeWarning: overflow encountered in exp\n"
     ]
    },
    {
     "name": "stdout",
     "output_type": "stream",
     "text": [
      "+---------- EPOCH 1000 -----------+\n",
      "Loss: \n",
      "0.45544554455445546\n",
      "\n",
      "\n"
     ]
    }
   ],
   "source": [
    "model = NN_2L16()\n",
    "epochs=1000\n",
    "for i in range(epochs): \n",
    "    if i+1 in [1,2,3] or (i+1) % 500 == 0:\n",
    "        print('+---------- EPOCH', i+1, '-----------+')\n",
    "        #print(\"Input: \\n\", X) \n",
    "        #print(\"Actual Output: \\n\", y)  \n",
    "        #print(\"Predicted Output: \\n\" + str(model.feed_forward(X))) \n",
    "        print(\"Loss: \\n\" + str(np.mean(np.square(y - model.feed_forward(X))))) # mean sum squared loss\n",
    "        print(\"\\n\")\n",
    "    model.train(X, y)"
   ]
  },
  {
   "cell_type": "markdown",
   "metadata": {
    "colab_type": "text",
    "id": "GGT1oRzXw3H9"
   },
   "source": [
    "## 4) Implement a Multilayer Perceptron architecture of your choosing using the Keras library. Train your model and report its baseline accuracy. Then hyperparameter tune at least two parameters and report your model's accuracy. \n",
    "\n",
    "- Use the Heart Disease Dataset (binary classification)\n",
    "- Use an appropriate loss function for a binary classification task\n",
    "- Use an appropriate activation function on the final layer of your network. \n",
    "- Train your model using verbose output for ease of grading.\n",
    "- Use GridSearchCV to hyperparameter tune your model. (for at least two hyperparameters)\n",
    "- When hyperparameter tuning, show you work by adding code cells for each new experiment. \n",
    "- Report the accuracy for each combination of hyperparameters as you test them so that we can easily see which resulted in the highest accuracy.\n",
    "- You must hyperparameter tune at least 5 parameters in order to get a 3 on this section."
   ]
  },
  {
   "cell_type": "code",
   "execution_count": 12,
   "metadata": {
    "colab": {},
    "colab_type": "code",
    "id": "XWw4IYxLxKwH"
   },
   "outputs": [
    {
     "name": "stderr",
     "output_type": "stream",
     "text": [
      "Using TensorFlow backend.\n"
     ]
    }
   ],
   "source": [
    "from keras.models import Sequential\n",
    "from keras.layers import Dense\n",
    "from sklearn.model_selection import StratifiedKFold\n",
    "from sklearn.model_selection import GridSearchCV\n",
    "from keras.wrappers.scikit_learn import KerasClassifier"
   ]
  },
  {
   "cell_type": "markdown",
   "metadata": {},
   "source": [
    "### Baseline : 1 Hidden 16 node Layer "
   ]
  },
  {
   "cell_type": "code",
   "execution_count": 13,
   "metadata": {},
   "outputs": [
    {
     "name": "stdout",
     "output_type": "stream",
     "text": [
      "WARNING:tensorflow:From /home/ec2-user/anaconda3/envs/tensorflow_p36/lib/python3.6/site-packages/tensorflow/python/framework/op_def_library.py:263: colocate_with (from tensorflow.python.framework.ops) is deprecated and will be removed in a future version.\n",
      "Instructions for updating:\n",
      "Colocations handled automatically by placer.WARNING:tensorflow:From /home/ec2-user/anaconda3/envs/tensorflow_p36/lib/python3.6/site-packages/tensorflow/python/framework/op_def_library.py:263: colocate_with (from tensorflow.python.framework.ops) is deprecated and will be removed in a future version.\n",
      "Instructions for updating:\n",
      "Colocations handled automatically by placer.WARNING:tensorflow:From /home/ec2-user/anaconda3/envs/tensorflow_p36/lib/python3.6/site-packages/tensorflow/python/framework/op_def_library.py:263: colocate_with (from tensorflow.python.framework.ops) is deprecated and will be removed in a future version.\n",
      "Instructions for updating:\n",
      "Colocations handled automatically by placer.\n",
      "\n",
      "\n",
      "WARNING:tensorflow:From /home/ec2-user/anaconda3/envs/tensorflow_p36/lib/python3.6/site-packages/tensorflow/python/framework/op_def_library.py:263: colocate_with (from tensorflow.python.framework.ops) is deprecated and will be removed in a future version.\n",
      "Instructions for updating:\n",
      "Colocations handled automatically by placer.\n",
      "WARNING:tensorflow:From /home/ec2-user/anaconda3/envs/tensorflow_p36/lib/python3.6/site-packages/tensorflow/python/ops/math_ops.py:3066: to_int32 (from tensorflow.python.ops.math_ops) is deprecated and will be removed in a future version.\n",
      "Instructions for updating:\n",
      "Use tf.cast instead.WARNING:tensorflow:From /home/ec2-user/anaconda3/envs/tensorflow_p36/lib/python3.6/site-packages/tensorflow/python/ops/math_ops.py:3066: to_int32 (from tensorflow.python.ops.math_ops) is deprecated and will be removed in a future version.\n",
      "Instructions for updating:\n",
      "Use tf.cast instead.WARNING:tensorflow:From /home/ec2-user/anaconda3/envs/tensorflow_p36/lib/python3.6/site-packages/tensorflow/python/ops/math_ops.py:3066: to_int32 (from tensorflow.python.ops.math_ops) is deprecated and will be removed in a future version.\n",
      "Instructions for updating:\n",
      "Use tf.cast instead.\n",
      "\n",
      "\n",
      "WARNING:tensorflow:From /home/ec2-user/anaconda3/envs/tensorflow_p36/lib/python3.6/site-packages/tensorflow/python/ops/math_ops.py:3066: to_int32 (from tensorflow.python.ops.math_ops) is deprecated and will be removed in a future version.\n",
      "Instructions for updating:\n",
      "Use tf.cast instead.\n",
      "WARNING:tensorflow:From /home/ec2-user/anaconda3/envs/tensorflow_p36/lib/python3.6/site-packages/tensorflow/python/framework/op_def_library.py:263: colocate_with (from tensorflow.python.framework.ops) is deprecated and will be removed in a future version.\n",
      "Instructions for updating:\n",
      "Colocations handled automatically by placer.\n",
      "WARNING:tensorflow:From /home/ec2-user/anaconda3/envs/tensorflow_p36/lib/python3.6/site-packages/tensorflow/python/ops/math_ops.py:3066: to_int32 (from tensorflow.python.ops.math_ops) is deprecated and will be removed in a future version.\n",
      "Instructions for updating:\n",
      "Use tf.cast instead.\n"
     ]
    },
    {
     "data": {
      "image/png": "[encoded data removed]",
      "text/plain": [
       "<Figure size 432x288 with 1 Axes>"
      ]
     },
     "metadata": {},
     "output_type": "display_data"
    },
    {
     "name": "stdout",
     "output_type": "stream",
     "text": [
      "Baseline Cross Validation Score: 0.72277228 used {'batch_size': 20, 'epochs': 20}\n",
      "\n",
      "CPU times: user 4.56 s, sys: 3.9 s, total: 8.46 s\n",
      "Wall time: 6.63 s\n"
     ]
    }
   ],
   "source": [
    "%%time\n",
    "# random seed to reproduce later\n",
    "seed = 42\n",
    "np.random.seed(seed)\n",
    "\n",
    "def create_model():\n",
    "    model = Sequential()\n",
    "    model.add(Dense(16, input_dim=13, activation='relu'))\n",
    "    model.add(Dense(1, activation='sigmoid'))\n",
    "    # Compile model\n",
    "    model.compile(loss='binary_crossentropy', optimizer='adam', metrics=['accuracy'])\n",
    "    return model\n",
    "\n",
    "# instantiate model obj\n",
    "model = KerasClassifier(build_fn=create_model, verbose=0)\n",
    "\n",
    "# GridSearchCV hyperparameters\n",
    "batch_size = [20]\n",
    "epochs = [20]\n",
    "param_grid = dict(batch_size=batch_size, epochs=epochs)\n",
    "c_v = StratifiedKFold(n_splits=4,\n",
    "                      shuffle=True,\n",
    "                      random_state=seed) # 4-fold CV\n",
    "\n",
    "# instantiate GridSearchCV obj\n",
    "cv_grid = GridSearchCV(estimator=model, \n",
    "                    param_grid=param_grid, \n",
    "                    n_jobs=-1, \n",
    "                    cv=c_v)\n",
    "\n",
    "# run the cross validation\n",
    "xval_result = cv_grid.fit(X, y)\n",
    "\n",
    "# Plot the accuracy \n",
    "acc = [x*100 for x in xval_result.best_estimator_.model.history.history['acc']]\n",
    "fig, ax = plt.subplots()\n",
    "ax.plot(acc)\n",
    "ax.set_xlabel('# Epochs', fontsize=16)\n",
    "ax.set_ylabel('% Accuracy', fontsize=16)\n",
    "ax.set_ylim(60,100)\n",
    "ax.axhline(80, color='k', linestyle='--', linewidth=1)\n",
    "ax.axhline(90, color='k', linestyle='--')\n",
    "plt.title('Best Estimator', fontsize=20, y=1.05)\n",
    "plt.show()\n",
    "\n",
    "# Report Results\n",
    "print(f\"Baseline Cross Validation Score: {xval_result.best_score_:.8f} used {xval_result.best_params_}\\n\")"
   ]
  },
  {
   "cell_type": "markdown",
   "metadata": {},
   "source": [
    "### Hypertune Optimizers"
   ]
  },
  {
   "cell_type": "code",
   "execution_count": null,
   "metadata": {},
   "outputs": [
    {
     "name": "stdout",
     "output_type": "stream",
     "text": [
      "Epoch 1/20\n",
      "Epoch 1/20\n",
      "Epoch 1/20\n",
      "Epoch 1/20\n",
      "Epoch 1/20\n",
      "Epoch 1/20\n",
      "Epoch 1/20\n",
      "Epoch 1/20\n",
      "Epoch 1/20\n",
      "Epoch 1/20\n",
      "Epoch 1/20\n",
      "Epoch 1/20\n",
      "Epoch 1/20\n",
      "Epoch 1/20\n",
      "Epoch 1/20\n",
      "Epoch 1/20\n"
     ]
    }
   ],
   "source": [
    "%%time\n",
    "# Parameters -----------------------------------------------\n",
    "batch_size = [20]\n",
    "epochs = [20]\n",
    "optimizer = ['adam','sgd','rmsprop','nadam']\n",
    "param_grid = dict(batch_size=batch_size, \n",
    "                  epochs=epochs,\n",
    "                  optimizer=optimizer)\n",
    "# -----------------------------------------------\n",
    "\n",
    "# random seed to reproduce later\n",
    "seed = 42\n",
    "np.random.seed(seed)\n",
    "\n",
    "def create_model(optimizer='adam'):\n",
    "    model = Sequential()\n",
    "    model.add(Dense(16, input_dim=13, activation='relu'))\n",
    "    model.add(Dense(1, activation='sigmoid'))\n",
    "    # Compile model\n",
    "    model.compile(loss='binary_crossentropy', optimizer=optimizer, metrics=['accuracy'])\n",
    "    return model\n",
    "\n",
    "# instantiate model obj\n",
    "model = KerasClassifier(build_fn=create_model, verbose=1)\n",
    "\n",
    "# GridSearchCV hyperparameters\n",
    "c_v = StratifiedKFold(n_splits=4,\n",
    "                      shuffle=True,\n",
    "                      random_state=seed) # 4-fold CV\n",
    "\n",
    "# instantiate GridSearchCV obj\n",
    "cv_grid = GridSearchCV(estimator=model, \n",
    "                    param_grid=param_grid, \n",
    "                    n_jobs=-1, \n",
    "                    cv=c_v)\n",
    "\n",
    "# run the cross validation\n",
    "xval_result = cv_grid.fit(X, y)\n",
    "\n",
    "# Plot the accuracy \n",
    "acc = [x*100 for x in xval_result.best_estimator_.model.history.history['acc']]\n",
    "fig, ax = plt.subplots()\n",
    "ax.plot(acc)\n",
    "ax.set_xlabel('# Epochs', fontsize=16)\n",
    "ax.set_ylabel('% Accuracy', fontsize=16)\n",
    "ax.set_ylim(60,100)\n",
    "ax.axhline(80, color='k', linestyle='--', linewidth=1)\n",
    "ax.axhline(90, color='k', linestyle='--')\n",
    "plt.title('Best Estimator', fontsize=20, y=1.05)\n",
    "plt.show()\n",
    "\n",
    "# Report Results\n",
    "print(f\"Best Cross Validation Score: {xval_result.best_score_:.8f} used {xval_result.best_params_}\\n\")\n",
    "mean_scores = [x*100 for x in grid_result.cv_results_['mean_test_score']]\n",
    "std_scores  = [x*100 for x in grid_result.cv_results_['std_test_score']]\n",
    "params = grid_result.cv_results_['params']\n",
    "for mean, stdev, param in zip(mean_scores, std_scorse, params):\n",
    "    print(f\"Means: {mean:.3f}, Stdev: {stdev:.3f} with: {param}\") \n"
   ]
  },
  {
   "cell_type": "markdown",
   "metadata": {},
   "source": [
    "### Hypertune Batch size\n"
   ]
  },
  {
   "cell_type": "code",
   "execution_count": null,
   "metadata": {},
   "outputs": [],
   "source": [
    "%%time\n",
    "# Parameters -----------------------------------------------\n",
    "batch_size = [10, 50, 100, 150, 250, 300]\n",
    "epochs = [20]\n",
    "param_grid = dict(batch_size=batch_size, \n",
    "                  epochs=epochs)\n",
    "# -----------------------------------------------\n",
    "\n",
    "# random seed to reproduce later\n",
    "seed = 42\n",
    "np.random.seed(seed)\n",
    "\n",
    "def create_model(optimizer='adam'):\n",
    "    model = Sequential()\n",
    "    model.add(Dense(16, input_dim=13, activation='relu'))\n",
    "    model.add(Dense(1, activation='sigmoid'))\n",
    "    # Compile model\n",
    "    model.compile(loss='binary_crossentropy', optimizer=optimizer, metrics=['accuracy'])\n",
    "    return model\n",
    "\n",
    "# instantiate model obj\n",
    "model = KerasClassifier(build_fn=create_model, verbose=1)\n",
    "\n",
    "# GridSearchCV hyperparameters\n",
    "c_v = StratifiedKFold(n_splits=4,\n",
    "                      shuffle=True,\n",
    "                      random_state=seed) # 4-fold CV\n",
    "\n",
    "# instantiate GridSearchCV obj\n",
    "cv_grid = GridSearchCV(estimator=model, \n",
    "                    param_grid=param_grid, \n",
    "                    n_jobs=-1, \n",
    "                    cv=c_v)\n",
    "\n",
    "# run the cross validation\n",
    "xval_result = cv_grid.fit(X, y)\n",
    "\n",
    "# Plot the accuracy \n",
    "acc = [x*100 for x in xval_result.best_estimator_.model.history.history['acc']]\n",
    "fig, ax = plt.subplots()\n",
    "ax.plot(acc)\n",
    "ax.set_xlabel('# Epochs', fontsize=16)\n",
    "ax.set_ylabel('% Accuracy', fontsize=16)\n",
    "ax.set_ylim(60,100)\n",
    "ax.axhline(80, color='k', linestyle='--', linewidth=1)\n",
    "ax.axhline(90, color='k', linestyle='--')\n",
    "plt.title('Best Estimator', fontsize=20, y=1.05)\n",
    "plt.show()\n",
    "\n",
    "# Report Results\n",
    "print(f\"Best Cross Validation Score: {xval_result.best_score_:.8f} used {xval_result.best_params_}\\n\")\n",
    "mean_scores = [x*100 for x in grid_result.cv_results_['mean_test_score']]\n",
    "std_scores  = [x*100 for x in grid_result.cv_results_['std_test_score']]\n",
    "params = grid_result.cv_results_['params']\n",
    "for mean, stdev, param in zip(mean_scores, std_scorse, params):\n",
    "    print(f\"Means: {mean:.3f}, Stdev: {stdev:.3f} with: {param}\") "
   ]
  }
 ],
 "metadata": {
  "colab": {
   "name": "DS43SC.ipynb",
   "provenance": [],
   "version": "0.3.2"
  },
  "kernelspec": {
   "display_name": "conda_tensorflow_p36",
   "language": "python",
   "name": "conda_tensorflow_p36"
  },
  "language_info": {
   "codemirror_mode": {
    "name": "ipython",
    "version": 3
   },
   "file_extension": ".py",
   "mimetype": "text/x-python",
   "name": "python",
   "nbconvert_exporter": "python",
   "pygments_lexer": "ipython3",
   "version": "3.6.5"
  }
 },
 "nbformat": 4,
 "nbformat_minor": 2
}
