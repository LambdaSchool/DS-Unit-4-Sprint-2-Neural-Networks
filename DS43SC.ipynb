{
 "cells": [
  {
   "cell_type": "markdown",
   "metadata": {
    "colab_type": "text",
    "id": "Y6SKlgYrpcym"
   },
   "source": [
    "# Neural Networks Sprint Challenge"
   ]
  },
  {
   "cell_type": "markdown",
   "metadata": {
    "colab_type": "text",
    "id": "BrEbRrjVphPM"
   },
   "source": [
    "## 1) Define the following terms:\n",
    "\n",
    "- Neuron - Adjustable weights for inputs and an activation function for it's output\n",
    "- Input Layer - Layer that has weighted input data for inputs\n",
    "- Hidden Layer - Neither the Input or Output layers, in between them\n",
    "- Output Layer - Weighting inputs from previous layer, returns the result of the neural net\n",
    "- Activation - Determines the output of the weighted inputs\n",
    "- Backpropagation - adjusting weights to make better predictions starting with the Output Layer and going to the Input layer"
   ]
  },
  {
   "cell_type": "markdown",
   "metadata": {
    "colab_type": "text",
    "id": "Q5EksLqnp4oB"
   },
   "source": [
    " YOUR ANSWER HERE"
   ]
  },
  {
   "cell_type": "markdown",
   "metadata": {
    "colab_type": "text",
    "id": "Ri_gRA2Jp728"
   },
   "source": [
    "## 2) Create a perceptron class that can model the behavior of an AND gate. You can use the following table as your training data:\n",
    "\n",
    "| x1 | x2 | x3 | y |\n",
    "|----|----|----|---|\n",
    "| 1  | 1  | 1  | 1 |\n",
    "| 1  | 0  | 1  | 0 |\n",
    "| 0  | 1  | 1  | 0 |\n",
    "| 0  | 0  | 1  | 0 |"
   ]
  },
  {
   "cell_type": "code",
   "execution_count": 12,
   "metadata": {
    "ExecuteTime": {
     "end_time": "2019-04-05T18:50:26.261510Z",
     "start_time": "2019-04-05T18:50:26.249635Z"
    },
    "colab": {},
    "colab_type": "code",
    "id": "Ig6ZTH8tpQ19"
   },
   "outputs": [],
   "source": [
    "%matplotlib inline"
   ]
  },
  {
   "cell_type": "code",
   "execution_count": 13,
   "metadata": {
    "ExecuteTime": {
     "end_time": "2019-04-05T18:50:26.514289Z",
     "start_time": "2019-04-05T18:50:26.509831Z"
    }
   },
   "outputs": [],
   "source": [
    "import numpy as np\n",
    "import pandas as pd\n",
    "import matplotlib.pyplot as plt\n",
    "from sklearn.metrics import confusion_matrix\n",
    "from functools import reduce\n",
    "import requests\n",
    "from sklearn.preprocessing import StandardScaler\n",
    "from scipy import optimize"
   ]
  },
  {
   "cell_type": "code",
   "execution_count": 14,
   "metadata": {
    "ExecuteTime": {
     "end_time": "2019-04-05T18:50:26.740486Z",
     "start_time": "2019-04-05T18:50:26.735207Z"
    }
   },
   "outputs": [],
   "source": [
    "def sigmoid(x):\n",
    "    return 1 / (1 + np.exp(-x))\n",
    "def sigmoid_derivative(x):\n",
    "    return sigmoid(x) * (1 - sigmoid(x))"
   ]
  },
  {
   "cell_type": "code",
   "execution_count": 15,
   "metadata": {
    "ExecuteTime": {
     "end_time": "2019-04-05T18:50:26.980390Z",
     "start_time": "2019-04-05T18:50:26.970257Z"
    }
   },
   "outputs": [],
   "source": [
    "class Perceptron_AND(object):\n",
    "    def __init__(self, rate=0.01, niter=10):\n",
    "        self.rate = rate\n",
    "        self.niter = niter\n",
    "        \n",
    "    def fit(self, X, y):\n",
    "        self.weight = np.zeros(X.shape[1])\n",
    "        self.errors = []\n",
    "        self.pa = []\n",
    "        min_y = 0.2\n",
    "        for i in range(self.niter):\n",
    "\n",
    "                  # Weighted sum of inputs and weights\n",
    "            weighted_sum = self.net_input(X)\n",
    "\n",
    "            # Activate with sigmoid function\n",
    "            activated_output = sigmoid(weighted_sum)\n",
    "\n",
    "            predicty = np.array([1 if a >= min_y else 0 for a in activated_output])\n",
    "            \n",
    "            # Calculate Error   \n",
    "            error = y - predicty\n",
    "            err = reduce((lambda sum_,e: sum_ + int(e != 0)),error,0)                    \n",
    "            self.errors.append(err)\n",
    "\n",
    "            # Calculate weight adjustments with sigmoid_derivative\n",
    "            adjustments = self.rate * error * sigmoid_derivative(activated_output)\n",
    "\n",
    "            # Update weights\n",
    "            self.weight += np.dot(X.T, adjustments)                    \n",
    "            self.pa.append(predicty)\n",
    "\n",
    "        print('weights', self.weight)\n",
    "        return self\n",
    "\n",
    "    def net_input(self, X):\n",
    "        return np.dot(X, self.weight)   \n",
    "    \n",
    "    def predict(self, X):\n",
    "        return np.where(self.net_input(X) >= min_y, 1, 0)"
   ]
  },
  {
   "cell_type": "code",
   "execution_count": 16,
   "metadata": {
    "ExecuteTime": {
     "end_time": "2019-04-05T18:50:27.238897Z",
     "start_time": "2019-04-05T18:50:27.235543Z"
    }
   },
   "outputs": [],
   "source": [
    "X = np.array([[1, 1, 1, 1],\n",
    "              [1, 0, 1, 0],\n",
    "              [0, 1, 1, 0],\n",
    "              [0, 0, 1, 0]])\n",
    "y = [1, 0, 0, 0]"
   ]
  },
  {
   "cell_type": "code",
   "execution_count": 17,
   "metadata": {
    "ExecuteTime": {
     "end_time": "2019-04-05T18:50:27.693129Z",
     "start_time": "2019-04-05T18:50:27.484337Z"
    }
   },
   "outputs": [
    {
     "name": "stdout",
     "output_type": "stream",
     "text": [
      "weights [-0.14009505 -0.14009505 -1.40790354  0.32218799]\n"
     ]
    },
    {
     "data": {
      "image/png": "[encoded data removed]",
      "text/plain": [
       "<Figure size 432x288 with 1 Axes>"
      ]
     },
     "metadata": {
      "needs_background": "light"
     },
     "output_type": "display_data"
    }
   ],
   "source": [
    "pn = Perceptron_AND(0.1, 34)\n",
    "pn.fit(X, y)\n",
    "plt.plot(range(1, len(pn.errors) + 1), pn.errors, marker='o')\n",
    "plt.xlabel('Epochs')\n",
    "plt.ylabel('Number of misclassifications')\n",
    "plt.show()"
   ]
  },
  {
   "cell_type": "code",
   "execution_count": 18,
   "metadata": {
    "ExecuteTime": {
     "end_time": "2019-04-05T18:50:27.778390Z",
     "start_time": "2019-04-05T18:50:27.771786Z"
    }
   },
   "outputs": [
    {
     "name": "stdout",
     "output_type": "stream",
     "text": [
      "0\n"
     ]
    },
    {
     "data": {
      "text/plain": [
       "33"
      ]
     },
     "execution_count": 18,
     "metadata": {},
     "output_type": "execute_result"
    }
   ],
   "source": [
    "print(min(pn.errors))\n",
    "index = min(range(len(pn.errors)), key=pn.errors.__getitem__)\n",
    "index"
   ]
  },
  {
   "cell_type": "code",
   "execution_count": 19,
   "metadata": {
    "ExecuteTime": {
     "end_time": "2019-04-05T18:50:28.188615Z",
     "start_time": "2019-04-05T18:50:28.179788Z"
    }
   },
   "outputs": [
    {
     "data": {
      "text/plain": [
       "array([[3, 0],\n",
       "       [0, 1]])"
      ]
     },
     "execution_count": 19,
     "metadata": {},
     "output_type": "execute_result"
    }
   ],
   "source": [
    "confusion_matrix(y, pn.pa[index])"
   ]
  },
  {
   "cell_type": "markdown",
   "metadata": {
    "colab_type": "text",
    "id": "86HyRi8Osr3U"
   },
   "source": [
    "## 3) Implement a Neural Network Multilayer Perceptron class that uses backpropagation to update the network's weights. \n",
    "- Your network must have one hidden layer. \n",
    "- You do not have to update weights via gradient descent. You can use something like the derivative of the sigmoid function to update weights.\n",
    "- Train your model on the Heart Disease dataset from UCI:\n",
    "\n",
    "[Github Dataset](https://github.com/ryanleeallred/datasets/blob/master/heart.csv)\n",
    "\n",
    "[Raw File on Github](https://raw.githubusercontent.com/ryanleeallred/datasets/master/heart.csv)\n"
   ]
  },
  {
   "cell_type": "code",
   "execution_count": 20,
   "metadata": {
    "ExecuteTime": {
     "end_time": "2019-04-05T18:50:31.590618Z",
     "start_time": "2019-04-05T18:50:31.349246Z"
    },
    "colab": {},
    "colab_type": "code",
    "id": "CNfiajv3v4Ed"
   },
   "outputs": [],
   "source": [
    "url=\"https://raw.githubusercontent.com/ryanleeallred/datasets/master/heart.csv\"\n",
    "df = pd.read_csv(url)"
   ]
  },
  {
   "cell_type": "code",
   "execution_count": 21,
   "metadata": {
    "ExecuteTime": {
     "end_time": "2019-04-05T18:50:32.015181Z",
     "start_time": "2019-04-05T18:50:32.010164Z"
    }
   },
   "outputs": [],
   "source": [
    "# df.tail(1000)"
   ]
  },
  {
   "cell_type": "code",
   "execution_count": 64,
   "metadata": {
    "ExecuteTime": {
     "end_time": "2019-04-05T19:49:57.249588Z",
     "start_time": "2019-04-05T19:49:57.230887Z"
    }
   },
   "outputs": [
    {
     "name": "stderr",
     "output_type": "stream",
     "text": [
      "/home/mark/anaconda3/envs/myf/lib/python3.6/site-packages/sklearn/preprocessing/data.py:625: DataConversionWarning: Data with input dtype int64, float64 were all converted to float64 by StandardScaler.\n",
      "  return self.partial_fit(X, y)\n",
      "/home/mark/anaconda3/envs/myf/lib/python3.6/site-packages/sklearn/base.py:462: DataConversionWarning: Data with input dtype int64, float64 were all converted to float64 by StandardScaler.\n",
      "  return self.fit(X, **fit_params).transform(X)\n"
     ]
    }
   ],
   "source": [
    "X = StandardScaler().fit_transform(df.drop('target', axis=1))\n",
    "y = df.target.values"
   ]
  },
  {
   "cell_type": "code",
   "execution_count": 23,
   "metadata": {
    "ExecuteTime": {
     "end_time": "2019-04-05T18:50:33.693778Z",
     "start_time": "2019-04-05T18:50:33.687718Z"
    }
   },
   "outputs": [
    {
     "data": {
      "text/plain": [
       "((303, 13), (303, 1), numpy.ndarray, numpy.ndarray)"
      ]
     },
     "execution_count": 23,
     "metadata": {},
     "output_type": "execute_result"
    }
   ],
   "source": [
    "X.shape,y.shape,type(X),type(y)"
   ]
  },
  {
   "cell_type": "code",
   "execution_count": 24,
   "metadata": {
    "ExecuteTime": {
     "end_time": "2019-04-05T18:50:34.329377Z",
     "start_time": "2019-04-05T18:50:34.318712Z"
    }
   },
   "outputs": [
    {
     "data": {
      "text/plain": [
       "array([1, 0])"
      ]
     },
     "execution_count": 24,
     "metadata": {},
     "output_type": "execute_result"
    }
   ],
   "source": [
    "df.target.unique()"
   ]
  },
  {
   "cell_type": "code",
   "execution_count": 26,
   "metadata": {
    "ExecuteTime": {
     "end_time": "2019-04-05T18:55:44.614016Z",
     "start_time": "2019-04-05T18:55:44.596978Z"
    }
   },
   "outputs": [],
   "source": [
    "class Neural_Network(object):\n",
    "    def __init__(self):\n",
    "        self.inputs = X.shape[1]\n",
    "        self.hiddenNodes = 3\n",
    "        self.outputNodes = 1\n",
    "        self.L1_weights = np.random.randn(self.inputs, self.hiddenNodes) # (2x3)\n",
    "        self.L2_weights = np.random.randn(self.hiddenNodes, self.outputNodes) # (3x1)\n",
    "        self.min_y = 0.1\n",
    "    def feed_forward(self, X):\n",
    "        # Weighted sum between inputs and hidden layer\n",
    "        self.hidden_sum = np.dot(X, self.L1_weights)\n",
    "        # Activations of weighted sum\n",
    "        self.activated_hidden = self.sigmoid(self.hidden_sum)\n",
    "        # Weighted sum between hidden and output\n",
    "        self.output_sum = np.dot(self.activated_hidden, self.L2_weights)\n",
    "        # final activation of output\n",
    "        self.activated_output = self.sigmoid(self.output_sum)\n",
    "#         print('ot',self.activated_output.shape)\n",
    "        nd = np.ndarray((X.shape[0],1), dtype=int)\n",
    "        for i,x in enumerate(self.activated_output):\n",
    "            nd[i] = 1 if x > self.min_y else 0\n",
    "        return nd\n",
    "\n",
    "    def sigmoid(self, s):\n",
    "        return 1/(1+np.exp(-s))        \n",
    "    \n",
    "    def sigmoidPrime(self,z):\n",
    "        #Gradient of sigmoid\n",
    "        return np.exp(-z)/((1+np.exp(-z))**2)\n",
    "    \n",
    "    def backward(self, X, y, o):\n",
    "        # backward propgate through the network\n",
    "        self.o_error = y - o # error in output\n",
    "        self.o_delta = self.o_error*self.sigmoidPrime(o) # applying derivative of sigmoid to error\n",
    "\n",
    "        self.z2_error = self.o_delta.dot(self.L2_weights.T) # z2 error: how much our hidden layer weights contributed to output error\n",
    "        self.z2_delta = self.z2_error*self.sigmoidPrime(self.activated_hidden) # applying derivative of sigmoid to z2 error\n",
    "\n",
    "        self.L1_weights += X.T.dot(self.z2_delta) # adjusting first set (input --> hidden) weights\n",
    "        self.L2_weights += self.activated_hidden.T.dot(self.o_delta) # adjusting second set (hidden --> output) weights\n",
    "\n",
    "    def train (self, X, y):\n",
    "        o = self.feed_forward(X)\n",
    "        self.backward(X, y, o)  "
   ]
  },
  {
   "cell_type": "code",
   "execution_count": 27,
   "metadata": {
    "ExecuteTime": {
     "end_time": "2019-04-05T18:55:48.032720Z",
     "start_time": "2019-04-05T18:55:48.028143Z"
    }
   },
   "outputs": [
    {
     "name": "stdout",
     "output_type": "stream",
     "text": [
      "output:  [[1]\n",
      " [1]\n",
      " [1]]\n",
      "[[ 0.9521966   0.68100522  1.97312292  0.76395577 -0.25633371  2.394438\n",
      "  -1.00583187  0.01544279 -0.69663055  1.08733806 -2.27457861 -0.71442887\n",
      "  -2.14887271]\n",
      " [-1.91531289  0.68100522  1.00257707 -0.09273778  0.07219949 -0.41763453\n",
      "   0.89896224  1.63347147 -0.69663055  2.12257273 -2.27457861 -0.71442887\n",
      "  -0.51292188]\n",
      " [-1.47415758 -1.46841752  0.03203122 -0.09273778 -0.81677269 -0.41763453\n",
      "  -1.00583187  0.97751389 -0.69663055  0.31091206  0.97635214 -0.71442887\n",
      "  -0.51292188]\n",
      " [ 0.18017482  0.68100522  0.03203122 -0.66386682 -0.19835726 -0.41763453\n",
      "   0.89896224  1.23989692 -0.69663055 -0.20670527  0.97635214 -0.71442887\n",
      "  -0.51292188]]\n"
     ]
    }
   ],
   "source": [
    "NN = Neural_Network()\n",
    "output = NN.feed_forward(X[0:3])\n",
    "print(\"output: \", output)\n",
    "print(X[0:4])"
   ]
  },
  {
   "cell_type": "code",
   "execution_count": 28,
   "metadata": {
    "ExecuteTime": {
     "end_time": "2019-04-05T18:55:56.941846Z",
     "start_time": "2019-04-05T18:55:56.278837Z"
    }
   },
   "outputs": [
    {
     "name": "stdout",
     "output_type": "stream",
     "text": [
      "+---------- EPOCH 1 -----------+\n",
      "Loss: \n",
      "0.45544554455445546\n",
      "\n",
      "\n",
      "+---------- EPOCH 2 -----------+\n",
      "Loss: \n",
      "0.5313531353135313\n",
      "\n",
      "\n",
      "+---------- EPOCH 3 -----------+\n",
      "Loss: \n",
      "0.46864686468646866\n",
      "\n",
      "\n",
      "+---------- EPOCH 4 -----------+\n",
      "Loss: \n",
      "0.16831683168316833\n",
      "\n",
      "\n",
      "+---------- EPOCH 5 -----------+\n",
      "Loss: \n",
      "0.1617161716171617\n",
      "\n",
      "\n",
      "+---------- EPOCH 50 -----------+\n",
      "Loss: \n",
      "0.17491749174917492\n",
      "\n",
      "\n",
      "+---------- EPOCH 100 -----------+\n",
      "Loss: \n",
      "0.45544554455445546\n",
      "\n",
      "\n",
      "+---------- EPOCH 150 -----------+\n",
      "Loss: \n",
      "0.1782178217821782\n",
      "\n",
      "\n",
      "+---------- EPOCH 200 -----------+\n",
      "Loss: \n",
      "0.1419141914191419\n",
      "\n",
      "\n",
      "+---------- EPOCH 250 -----------+\n",
      "Loss: \n",
      "0.15841584158415842\n",
      "\n",
      "\n",
      "+---------- EPOCH 300 -----------+\n",
      "Loss: \n",
      "0.44554455445544555\n",
      "\n",
      "\n",
      "+---------- EPOCH 350 -----------+\n",
      "Loss: \n",
      "0.13861386138613863\n",
      "\n",
      "\n",
      "+---------- EPOCH 400 -----------+\n",
      "Loss: \n",
      "0.15841584158415842\n",
      "\n",
      "\n",
      "+---------- EPOCH 450 -----------+\n",
      "Loss: \n",
      "0.49834983498349833\n",
      "\n",
      "\n",
      "+---------- EPOCH 500 -----------+\n",
      "Loss: \n",
      "0.16831683168316833\n",
      "\n",
      "\n",
      "+---------- EPOCH 550 -----------+\n",
      "Loss: \n",
      "0.1419141914191419\n",
      "\n",
      "\n",
      "+---------- EPOCH 600 -----------+\n",
      "Loss: \n",
      "0.1617161716171617\n",
      "\n",
      "\n",
      "+---------- EPOCH 650 -----------+\n",
      "Loss: \n",
      "0.1617161716171617\n",
      "\n",
      "\n",
      "+---------- EPOCH 700 -----------+\n",
      "Loss: \n",
      "0.17491749174917492\n",
      "\n",
      "\n",
      "+---------- EPOCH 750 -----------+\n",
      "Loss: \n",
      "0.16501650165016502\n",
      "\n",
      "\n",
      "+---------- EPOCH 800 -----------+\n",
      "Loss: \n",
      "0.1617161716171617\n",
      "\n",
      "\n",
      "+---------- EPOCH 850 -----------+\n",
      "Loss: \n",
      "0.16831683168316833\n",
      "\n",
      "\n",
      "+---------- EPOCH 900 -----------+\n",
      "Loss: \n",
      "0.1419141914191419\n",
      "\n",
      "\n",
      "+---------- EPOCH 950 -----------+\n",
      "Loss: \n",
      "0.15841584158415842\n",
      "\n",
      "\n",
      "+---------- EPOCH 1000 -----------+\n",
      "Loss: \n",
      "0.17491749174917492\n",
      "\n",
      "\n"
     ]
    }
   ],
   "source": [
    "NN = Neural_Network()\n",
    "for i in range(1000): # trains the NN 1,000 times\n",
    "    if i+1 in [1,2,3,4,5] or (i+1) % 50 == 0:\n",
    "        print('+---------- EPOCH', i+1, '-----------+')\n",
    "#         print(\"Input: \\n\", X) \n",
    "#         print(\"Actual Output: \\n\", y)  \n",
    "#         print(\"Predicted Output: \\n\" + str(NN.feed_forward(X))) \n",
    "        print(\"Loss: \\n\" + str(np.mean(np.square(y - NN.feed_forward(X))))) # mean sum squared loss\n",
    "        print(\"\\n\")\n",
    "    NN.train(X, y)"
   ]
  },
  {
   "cell_type": "markdown",
   "metadata": {
    "colab_type": "text",
    "id": "GGT1oRzXw3H9"
   },
   "source": [
    "## 4) Implement a Multilayer Perceptron architecture of your choosing using the Keras library. Train your model and report its baseline accuracy. Then hyperparameter tune at least two parameters and report your model's accuracy. \n",
    "\n",
    "- Use the Heart Disease Dataset (binary classification)\n",
    "- Use an appropriate loss function for a binary classification task\n",
    "- Use an appropriate activation function on the final layer of your network. \n",
    "- Train your model using verbose output for ease of grading.\n",
    "- Use GridSearchCV to hyperparameter tune your model. (for at least two hyperparameters)\n",
    "- When hyperparameter tuning, show you work by adding code cells for each new experiment. \n",
    "- Report the accuracy for each combination of hyperparameters as you test them so that we can easily see which resulted in the highest accuracy.\n",
    "- You must hyperparameter tune at least 5 parameters in order to get a 3 on this section."
   ]
  },
  {
   "cell_type": "code",
   "execution_count": 87,
   "metadata": {
    "ExecuteTime": {
     "end_time": "2019-04-05T19:55:17.329769Z",
     "start_time": "2019-04-05T19:55:17.317108Z"
    }
   },
   "outputs": [],
   "source": [
    "from keras.models import Sequential\n",
    "from keras.layers import Dense\n",
    "from keras import optimizers\n",
    "import numpy\n",
    "# fix random seed for reproducibility\n",
    "numpy.random.seed(42)\n",
    "from sklearn.metrics import mean_squared_error\n",
    "from sklearn.linear_model import LinearRegression\n",
    "import seaborn as sns\n",
    "import pandas as pd\n",
    "import numpy as np\n",
    "from sklearn.preprocessing import StandardScaler\n",
    "from keras.callbacks import ReduceLROnPlateau\n",
    "from sklearn.model_selection import GridSearchCV\n",
    "from keras.wrappers.scikit_learn import KerasClassifier"
   ]
  },
  {
   "cell_type": "code",
   "execution_count": 88,
   "metadata": {
    "ExecuteTime": {
     "end_time": "2019-04-05T19:55:18.220942Z",
     "start_time": "2019-04-05T19:55:18.208657Z"
    }
   },
   "outputs": [
    {
     "data": {
      "text/plain": [
       "((303, 13), (303,), numpy.ndarray, numpy.ndarray)"
      ]
     },
     "execution_count": 88,
     "metadata": {},
     "output_type": "execute_result"
    }
   ],
   "source": [
    "X.shape,y.shape,type(X),type(y)"
   ]
  },
  {
   "cell_type": "code",
   "execution_count": 105,
   "metadata": {
    "ExecuteTime": {
     "end_time": "2019-04-05T20:25:13.171454Z",
     "start_time": "2019-04-05T20:25:13.137673Z"
    },
    "colab": {},
    "colab_type": "code",
    "id": "XWw4IYxLxKwH"
   },
   "outputs": [],
   "source": [
    "opt = optimizers.adam(lr=0.1)"
   ]
  },
  {
   "cell_type": "code",
   "execution_count": 90,
   "metadata": {
    "ExecuteTime": {
     "end_time": "2019-04-05T19:55:21.356819Z",
     "start_time": "2019-04-05T19:55:21.349944Z"
    }
   },
   "outputs": [],
   "source": [
    "reduce_lr = ReduceLROnPlateau(monitor='val_loss', factor=0.2,\n",
    "                              patience=5, min_lr=0.001)"
   ]
  },
  {
   "cell_type": "code",
   "execution_count": 198,
   "metadata": {
    "ExecuteTime": {
     "end_time": "2019-04-05T21:40:37.367250Z",
     "start_time": "2019-04-05T21:40:37.355632Z"
    }
   },
   "outputs": [],
   "source": [
    "# Important Hyperparameters\n",
    "inputs = X.shape[1]\n",
    "epochs = 50\n",
    "batch_size = 10\n",
    "\n",
    "def create_model(shape=15):\n",
    "    # Create Model\n",
    "    model = Sequential()\n",
    "    model.add(Dense(3, activation='relu', input_shape=(shape,)))\n",
    "    model.add(Dense(2, activation='relu'))\n",
    "    model.add(Dense(1, activation='sigmoid'))\n",
    "    # Compile Model  \n",
    "    model.compile(optimizer=optimizers.adam(lr=0.1), loss='binary_crossentropy', metrics=['accuracy'])\n",
    "    return model"
   ]
  },
  {
   "cell_type": "code",
   "execution_count": 192,
   "metadata": {
    "ExecuteTime": {
     "end_time": "2019-04-05T21:37:51.606086Z",
     "start_time": "2019-04-05T21:37:30.003730Z"
    }
   },
   "outputs": [],
   "source": [
    "model = create_model(X.shape[1])\n",
    "# Fit Model\n",
    "history = model.fit(X, y, validation_split=0.20, epochs=epochs,\n",
    "                    batch_size=batch_size, verbose=0, callbacks=[reduce_lr])"
   ]
  },
  {
   "cell_type": "code",
   "execution_count": 194,
   "metadata": {
    "ExecuteTime": {
     "end_time": "2019-04-05T21:38:02.551678Z",
     "start_time": "2019-04-05T21:38:02.127790Z"
    }
   },
   "outputs": [
    {
     "data": {
      "image/png": "[encoded data removed]",
      "text/plain": [
       "<Figure size 432x288 with 1 Axes>"
      ]
     },
     "metadata": {
      "needs_background": "light"
     },
     "output_type": "display_data"
    },
    {
     "data": {
      "image/png": "[encoded data removed]",
      "text/plain": [
       "<Figure size 432x288 with 1 Axes>"
      ]
     },
     "metadata": {
      "needs_background": "light"
     },
     "output_type": "display_data"
    },
    {
     "data": {
      "image/png": "[encoded data removed]",
      "text/plain": [
       "<Figure size 432x288 with 1 Axes>"
      ]
     },
     "metadata": {
      "needs_background": "light"
     },
     "output_type": "display_data"
    }
   ],
   "source": [
    "plt.plot(history.history['acc'])\n",
    "plt.plot(history.history['val_acc'])\n",
    "plt.title('Accuracy')\n",
    "plt.ylabel('Accuracy')\n",
    "plt.xlabel('Epoch')\n",
    "plt.legend(['Train', 'Test'], loc='upper left')\n",
    "plt.show()\n",
    "\n",
    "# Plot training & validation loss values\n",
    "plt.plot(history.history['loss'])\n",
    "plt.plot(history.history['val_loss'])\n",
    "plt.title('Model loss')\n",
    "plt.ylabel('Loss')\n",
    "plt.xlabel('Epoch')\n",
    "plt.legend(['Train', 'Test'], loc='upper left')\n",
    "plt.show()\n",
    "\n",
    "plt.plot(history.history['lr'])\n",
    "plt.title('Learning Rate')\n",
    "plt.ylabel('Learning Rate')\n",
    "plt.xlabel('Epoch')\n",
    "plt.legend(['Train'], loc='upper left')\n",
    "plt.show()"
   ]
  },
  {
   "cell_type": "code",
   "execution_count": 195,
   "metadata": {
    "ExecuteTime": {
     "end_time": "2019-04-05T21:38:03.646225Z",
     "start_time": "2019-04-05T21:38:03.641258Z"
    }
   },
   "outputs": [
    {
     "data": {
      "text/plain": [
       "(0.5737705015745319, 0.9090909031797046)"
      ]
     },
     "execution_count": 195,
     "metadata": {},
     "output_type": "execute_result"
    }
   ],
   "source": [
    "history.history['val_acc'][-1], history.history['acc'][-1]"
   ]
  },
  {
   "cell_type": "code",
   "execution_count": 196,
   "metadata": {
    "ExecuteTime": {
     "end_time": "2019-04-05T21:38:17.904072Z",
     "start_time": "2019-04-05T21:38:17.899991Z"
    }
   },
   "outputs": [
    {
     "data": {
      "text/plain": [
       "(303, 15)"
      ]
     },
     "execution_count": 196,
     "metadata": {},
     "output_type": "execute_result"
    }
   ],
   "source": [
    "X.shape"
   ]
  },
  {
   "cell_type": "code",
   "execution_count": 211,
   "metadata": {
    "ExecuteTime": {
     "end_time": "2019-04-05T22:40:22.367080Z",
     "start_time": "2019-04-05T22:31:32.952986Z"
    }
   },
   "outputs": [],
   "source": [
    "Y = y\n",
    "# create model\n",
    "model = KerasClassifier(build_fn=create_model, verbose=0)\n",
    "# define the grid search parameters\n",
    "# batch_size = [10, 20, 40, 60, 80, 100]\n",
    "# epochs = [20]\n",
    "# param_grid = dict(batch_size=batch_size, epochs=epochs)\n",
    "\n",
    "# define the grid search parameters\n",
    "param_grid = {'batch_size': [40, 45, 50, 55, 60], 'epochs': [50]}\n",
    "\n",
    "# Create Grid Search\n",
    "grid = GridSearchCV(estimator=model, param_grid=param_grid, n_jobs=1)\n",
    "grid_result = grid.fit(X, Y)"
   ]
  },
  {
   "cell_type": "code",
   "execution_count": 212,
   "metadata": {
    "ExecuteTime": {
     "end_time": "2019-04-05T22:51:01.173189Z",
     "start_time": "2019-04-05T22:51:01.168292Z"
    }
   },
   "outputs": [
    {
     "name": "stdout",
     "output_type": "stream",
     "text": [
      "Best: 0.6798680046997448 using {'batch_size': 55, 'epochs': 50}\n",
      "Means: 0.6633663388958858, Stdev: 0.18220691405165826 with: {'batch_size': 40, 'epochs': 50}\n",
      "Means: 0.41254126681353, Stdev: 0.29794505898523155 with: {'batch_size': 45, 'epochs': 50}\n",
      "Means: 0.6633663366336634, Stdev: 0.08517153290686233 with: {'batch_size': 50, 'epochs': 50}\n",
      "Means: 0.6798680046997448, Stdev: 0.07511423884358648 with: {'batch_size': 55, 'epochs': 50}\n",
      "Means: 0.6336633767625286, Stdev: 0.13010168180652432 with: {'batch_size': 60, 'epochs': 50}\n"
     ]
    }
   ],
   "source": [
    "# Report Results\n",
    "print(f\"Best: {grid_result.best_score_} using {grid_result.best_params_}\")\n",
    "means = grid_result.cv_results_['mean_test_score']\n",
    "stds = grid_result.cv_results_['std_test_score']\n",
    "params = grid_result.cv_results_['params']\n",
    "for mean, stdev, param in zip(means, stds, params):\n",
    "    print(f\"Means: {mean}, Stdev: {stdev} with: {param}\") "
   ]
  },
  {
   "cell_type": "code",
   "execution_count": 223,
   "metadata": {
    "ExecuteTime": {
     "end_time": "2019-04-06T00:44:36.877795Z",
     "start_time": "2019-04-06T00:26:24.497017Z"
    }
   },
   "outputs": [
    {
     "name": "stdout",
     "output_type": "stream",
     "text": [
      "Best: 0.6996699703408547 using {'activation': 'tanh'}\n",
      "Means: 0.6435643505341936, Stdev: 0.11113832197555099 with: {'activation': 'softmax'}\n",
      "Means: 0.6963696279148064, Stdev: 0.09576645001645688 with: {'activation': 'softplus'}\n",
      "Means: 0.48514851288433514, Stdev: 0.34592119145880534 with: {'activation': 'softsign'}\n",
      "Means: 0.6006600668918182, Stdev: 0.1684785340716263 with: {'activation': 'relu'}\n",
      "Means: 0.6996699703408547, Stdev: 0.044523901162090346 with: {'activation': 'tanh'}\n",
      "Means: 0.39273928061570273, Stdev: 0.31541902363702246 with: {'activation': 'sigmoid'}\n",
      "Means: 0.26072606611566573, Stdev: 0.36872233876495875 with: {'activation': 'hard_sigmoid'}\n",
      "Means: 0.6831683042419232, Stdev: 0.09531042230445236 with: {'activation': 'linear'}\n"
     ]
    }
   ],
   "source": [
    "# define the grid search parameters\n",
    "activation = [\n",
    "    'softmax', 'softplus', 'softsign', 'relu', 'tanh', 'sigmoid',\n",
    "    'hard_sigmoid', 'linear'\n",
    "]\n",
    "param_grid = dict(activation=activation)\n",
    "\n",
    "\n",
    "# Function to create model, required for KerasClassifier\n",
    "def create_model(activation='relu'):\n",
    "    # create model\n",
    "    model = Sequential()\n",
    "    model.add(Dense(15, input_dim=15, activation=activation))\n",
    "    model.add(Dense(5, activation='relu'))\n",
    "    model.add(Dense(1, activation='sigmoid'))\n",
    "    # Compile model\n",
    "    model.compile(\n",
    "        loss='binary_crossentropy', optimizer=opt, metrics=['accuracy'])\n",
    "    return model\n",
    "\n",
    "\n",
    "# create model\n",
    "model = KerasClassifier(\n",
    "    build_fn=create_model, epochs=20, batch_size=60, verbose=0)\n",
    "\n",
    "# Create Grid Search\n",
    "grid = GridSearchCV(estimator=model, param_grid=param_grid, n_jobs=1)\n",
    "grid_result = grid.fit(X, Y)\n",
    "\n",
    "# Report Results\n",
    "print(f\"Best: {grid_result.best_score_} using {grid_result.best_params_}\")\n",
    "means = grid_result.cv_results_['mean_test_score']\n",
    "stds = grid_result.cv_results_['std_test_score']\n",
    "params = grid_result.cv_results_['params']\n",
    "for mean, stdev, param in zip(means, stds, params):\n",
    "    print(f\"Means: {mean}, Stdev: {stdev} with: {param}\")"
   ]
  },
  {
   "cell_type": "code",
   "execution_count": 226,
   "metadata": {
    "ExecuteTime": {
     "end_time": "2019-04-06T02:31:34.377457Z",
     "start_time": "2019-04-06T02:06:38.383239Z"
    }
   },
   "outputs": [
    {
     "name": "stdout",
     "output_type": "stream",
     "text": [
      "Best: 0.6897689778812648 using {'activation': 'softsign'}\n",
      "Means: 0.43564356482363376, Stdev: 0.312783546363225 with: {'activation': 'softmax'}\n",
      "Means: 0.6270627111885021, Stdev: 0.12636429052709722 with: {'activation': 'softplus'}\n",
      "Means: 0.6897689778812648, Stdev: 0.06584138203448132 with: {'activation': 'softsign'}\n",
      "Means: 0.5280527996741505, Stdev: 0.17344796243182328 with: {'activation': 'relu'}\n",
      "Means: 0.6831683117170931, Stdev: 0.10129378656626709 with: {'activation': 'tanh'}\n",
      "Means: 0.587458749120385, Stdev: 0.16613482435190763 with: {'activation': 'sigmoid'}\n",
      "Means: 0.6468646845998544, Stdev: 0.1253256485070655 with: {'activation': 'hard_sigmoid'}\n",
      "Means: 0.669967000437255, Stdev: 0.05958901244856987 with: {'activation': 'linear'}\n"
     ]
    }
   ],
   "source": [
    "def create_model(activation='relu'):\n",
    "    # create model\n",
    "    model = Sequential()\n",
    "    model.add(Dense(15, input_dim=15, activation=activation))\n",
    "    model.add(Dense(5, activation='relu'))\n",
    "    model.add(Dense(1, activation='sigmoid'))\n",
    "    # Compile model\n",
    "    model.compile(\n",
    "        loss='binary_crossentropy', optimizer=opt, metrics=['accuracy'])\n",
    "    return model\n",
    "\n",
    "\n",
    "# create model\n",
    "model = KerasClassifier(\n",
    "    build_fn=create_model, epochs=20, batch_size=60, verbose=0)\n",
    "\n",
    "# Create Grid Search\n",
    "grid = GridSearchCV(estimator=model, param_grid=param_grid, n_jobs=1)\n",
    "grid_result = grid.fit(X, Y)\n",
    "\n",
    "# Report Results\n",
    "print(f\"Best: {grid_result.best_score_} using {grid_result.best_params_}\")\n",
    "means = grid_result.cv_results_['mean_test_score']\n",
    "stds = grid_result.cv_results_['std_test_score']\n",
    "params = grid_result.cv_results_['params']\n",
    "for mean, stdev, param in zip(means, stds, params):\n",
    "    print(f\"Means: {mean}, Stdev: {stdev} with: {param}\")"
   ]
  },
  {
   "cell_type": "code",
   "execution_count": 227,
   "metadata": {
    "ExecuteTime": {
     "end_time": "2019-04-06T02:31:34.731750Z",
     "start_time": "2019-04-06T02:31:34.379700Z"
    }
   },
   "outputs": [
    {
     "name": "stderr",
     "output_type": "stream",
     "text": [
      "/home/mark/anaconda3/envs/myf/lib/python3.6/site-packages/sklearn/preprocessing/data.py:625: DataConversionWarning: Data with input dtype int64, float64 were all converted to float64 by StandardScaler.\n",
      "  return self.partial_fit(X, y)\n",
      "/home/mark/anaconda3/envs/myf/lib/python3.6/site-packages/sklearn/base.py:462: DataConversionWarning: Data with input dtype int64, float64 were all converted to float64 by StandardScaler.\n",
      "  return self.fit(X, **fit_params).transform(X)\n"
     ]
    }
   ],
   "source": [
    "df = pd.read_csv(url)\n",
    "X = StandardScaler().fit_transform(df.drop('target', axis=1))\n",
    "y = df.target.values"
   ]
  },
  {
   "cell_type": "code",
   "execution_count": 231,
   "metadata": {
    "ExecuteTime": {
     "end_time": "2019-04-06T02:49:30.768185Z",
     "start_time": "2019-04-06T02:49:30.753214Z"
    }
   },
   "outputs": [],
   "source": [
    "# Important Hyperparameters\n",
    "inputs = X.shape[1]\n",
    "epochs = 50\n",
    "batch_size = 55\n",
    "activation = \"softsign\"\n",
    "\n",
    "def create_model(shape = inputs):\n",
    "    # Create Model\n",
    "    model = Sequential()\n",
    "    model.add(Dense(15, activation=activation, input_shape=(shape,)))\n",
    "    model.add(Dense(2, activation='relu'))\n",
    "    model.add(Dense(1, activation=\"sigmoid\"))\n",
    "    # Compile Model  \n",
    "    model.compile(optimizer=optimizers.adam(lr=0.1), loss='binary_crossentropy', metrics=['accuracy'])\n",
    "    return model"
   ]
  },
  {
   "cell_type": "code",
   "execution_count": 232,
   "metadata": {
    "ExecuteTime": {
     "end_time": "2019-04-06T02:50:48.572591Z",
     "start_time": "2019-04-06T02:49:33.391597Z"
    }
   },
   "outputs": [
    {
     "name": "stdout",
     "output_type": "stream",
     "text": [
      "Train on 242 samples, validate on 61 samples\n",
      "Epoch 1/50\n",
      "242/242 [==============================] - 46s 190ms/step - loss: 0.5087 - acc: 0.6446 - val_loss: 1.2840 - val_acc: 0.0000e+00\n",
      "Epoch 2/50\n",
      "242/242 [==============================] - 0s 803us/step - loss: 0.4079 - acc: 0.7851 - val_loss: 1.0051 - val_acc: 0.6557\n",
      "Epoch 3/50\n",
      "242/242 [==============================] - 0s 783us/step - loss: 0.3239 - acc: 0.8843 - val_loss: 0.7279 - val_acc: 0.7049\n",
      "Epoch 4/50\n",
      "242/242 [==============================] - 0s 421us/step - loss: 0.2910 - acc: 0.9050 - val_loss: 0.7318 - val_acc: 0.7049\n",
      "Epoch 5/50\n",
      "242/242 [==============================] - 0s 391us/step - loss: 0.2495 - acc: 0.9091 - val_loss: 0.9050 - val_acc: 0.6721\n",
      "Epoch 6/50\n",
      "242/242 [==============================] - 0s 427us/step - loss: 0.2578 - acc: 0.8926 - val_loss: 0.9711 - val_acc: 0.6557\n",
      "Epoch 7/50\n",
      "242/242 [==============================] - 0s 386us/step - loss: 0.2333 - acc: 0.9132 - val_loss: 0.9015 - val_acc: 0.6885\n",
      "Epoch 8/50\n",
      "242/242 [==============================] - 0s 419us/step - loss: 0.2260 - acc: 0.9174 - val_loss: 0.9265 - val_acc: 0.7377\n",
      "Epoch 9/50\n",
      "242/242 [==============================] - 0s 829us/step - loss: 0.2087 - acc: 0.9298 - val_loss: 0.8981 - val_acc: 0.7377\n",
      "Epoch 10/50\n",
      "242/242 [==============================] - 0s 488us/step - loss: 0.2040 - acc: 0.9298 - val_loss: 0.8608 - val_acc: 0.7377\n",
      "Epoch 11/50\n",
      "242/242 [==============================] - 0s 433us/step - loss: 0.1966 - acc: 0.9298 - val_loss: 0.8700 - val_acc: 0.7377\n",
      "Epoch 12/50\n",
      "242/242 [==============================] - 0s 387us/step - loss: 0.1915 - acc: 0.9298 - val_loss: 0.8304 - val_acc: 0.7541\n",
      "Epoch 13/50\n",
      "242/242 [==============================] - 0s 398us/step - loss: 0.1901 - acc: 0.9339 - val_loss: 0.8280 - val_acc: 0.7213\n",
      "Epoch 14/50\n",
      "242/242 [==============================] - 0s 395us/step - loss: 0.1857 - acc: 0.9380 - val_loss: 0.8370 - val_acc: 0.7213\n",
      "Epoch 15/50\n",
      "242/242 [==============================] - 0s 467us/step - loss: 0.1847 - acc: 0.9380 - val_loss: 0.8476 - val_acc: 0.7213\n",
      "Epoch 16/50\n",
      "242/242 [==============================] - 0s 462us/step - loss: 0.1837 - acc: 0.9380 - val_loss: 0.8601 - val_acc: 0.7213\n",
      "Epoch 17/50\n",
      "242/242 [==============================] - 0s 426us/step - loss: 0.1829 - acc: 0.9380 - val_loss: 0.8763 - val_acc: 0.7213\n",
      "Epoch 18/50\n",
      "242/242 [==============================] - 0s 413us/step - loss: 0.1817 - acc: 0.9380 - val_loss: 0.8784 - val_acc: 0.7213\n",
      "Epoch 19/50\n",
      "242/242 [==============================] - 0s 461us/step - loss: 0.1807 - acc: 0.9380 - val_loss: 0.8790 - val_acc: 0.7213\n",
      "Epoch 20/50\n",
      "242/242 [==============================] - 0s 417us/step - loss: 0.1803 - acc: 0.9380 - val_loss: 0.8820 - val_acc: 0.7213\n",
      "Epoch 21/50\n",
      "242/242 [==============================] - 0s 457us/step - loss: 0.1801 - acc: 0.9380 - val_loss: 0.8863 - val_acc: 0.7213\n",
      "Epoch 22/50\n",
      "242/242 [==============================] - 0s 385us/step - loss: 0.1796 - acc: 0.9380 - val_loss: 0.8890 - val_acc: 0.7213\n",
      "Epoch 23/50\n",
      "242/242 [==============================] - 0s 415us/step - loss: 0.1793 - acc: 0.9380 - val_loss: 0.8899 - val_acc: 0.7213\n",
      "Epoch 24/50\n",
      "242/242 [==============================] - 0s 403us/step - loss: 0.1789 - acc: 0.9380 - val_loss: 0.8911 - val_acc: 0.7213\n",
      "Epoch 25/50\n",
      "242/242 [==============================] - 0s 428us/step - loss: 0.1785 - acc: 0.9380 - val_loss: 0.8884 - val_acc: 0.7213\n",
      "Epoch 26/50\n",
      "242/242 [==============================] - 0s 410us/step - loss: 0.1782 - acc: 0.9380 - val_loss: 0.8887 - val_acc: 0.7213\n",
      "Epoch 27/50\n",
      "242/242 [==============================] - 0s 412us/step - loss: 0.1779 - acc: 0.9380 - val_loss: 0.8905 - val_acc: 0.7213\n",
      "Epoch 28/50\n",
      "242/242 [==============================] - 0s 408us/step - loss: 0.1778 - acc: 0.9380 - val_loss: 0.8934 - val_acc: 0.7213\n",
      "Epoch 29/50\n",
      "242/242 [==============================] - 0s 422us/step - loss: 0.1775 - acc: 0.9380 - val_loss: 0.8940 - val_acc: 0.7213\n",
      "Epoch 30/50\n",
      "242/242 [==============================] - 0s 427us/step - loss: 0.1773 - acc: 0.9380 - val_loss: 0.8965 - val_acc: 0.7213\n",
      "Epoch 31/50\n",
      "242/242 [==============================] - 0s 444us/step - loss: 0.1770 - acc: 0.9380 - val_loss: 0.8974 - val_acc: 0.7213\n",
      "Epoch 32/50\n",
      "242/242 [==============================] - 0s 449us/step - loss: 0.1768 - acc: 0.9380 - val_loss: 0.8987 - val_acc: 0.7213\n",
      "Epoch 33/50\n",
      "242/242 [==============================] - 0s 428us/step - loss: 0.1766 - acc: 0.9380 - val_loss: 0.8999 - val_acc: 0.7213\n",
      "Epoch 34/50\n",
      "242/242 [==============================] - 0s 404us/step - loss: 0.1764 - acc: 0.9380 - val_loss: 0.9015 - val_acc: 0.7213\n",
      "Epoch 35/50\n",
      "242/242 [==============================] - 0s 390us/step - loss: 0.1762 - acc: 0.9380 - val_loss: 0.9012 - val_acc: 0.7213\n",
      "Epoch 36/50\n",
      "242/242 [==============================] - 0s 418us/step - loss: 0.1759 - acc: 0.9380 - val_loss: 0.9034 - val_acc: 0.7213\n",
      "Epoch 37/50\n",
      "242/242 [==============================] - 0s 419us/step - loss: 0.1757 - acc: 0.9380 - val_loss: 0.9058 - val_acc: 0.7213\n",
      "Epoch 38/50\n",
      "242/242 [==============================] - 0s 398us/step - loss: 0.1756 - acc: 0.9421 - val_loss: 0.9093 - val_acc: 0.7213\n",
      "Epoch 39/50\n",
      "242/242 [==============================] - 0s 424us/step - loss: 0.1752 - acc: 0.9421 - val_loss: 0.9099 - val_acc: 0.7213\n",
      "Epoch 40/50\n",
      "242/242 [==============================] - 0s 433us/step - loss: 0.1750 - acc: 0.9421 - val_loss: 0.9107 - val_acc: 0.7213\n",
      "Epoch 41/50\n",
      "242/242 [==============================] - 0s 429us/step - loss: 0.1749 - acc: 0.9421 - val_loss: 0.9111 - val_acc: 0.7213\n",
      "Epoch 42/50\n",
      "242/242 [==============================] - 0s 453us/step - loss: 0.1746 - acc: 0.9421 - val_loss: 0.9139 - val_acc: 0.7213\n",
      "Epoch 43/50\n",
      "242/242 [==============================] - 0s 416us/step - loss: 0.1744 - acc: 0.9421 - val_loss: 0.9139 - val_acc: 0.7213\n",
      "Epoch 44/50\n",
      "242/242 [==============================] - 0s 418us/step - loss: 0.1742 - acc: 0.9421 - val_loss: 0.9145 - val_acc: 0.7213\n",
      "Epoch 45/50\n",
      "242/242 [==============================] - 0s 360us/step - loss: 0.1739 - acc: 0.9421 - val_loss: 0.9172 - val_acc: 0.7213\n",
      "Epoch 46/50\n",
      "242/242 [==============================] - 0s 410us/step - loss: 0.1737 - acc: 0.9421 - val_loss: 0.9194 - val_acc: 0.7213\n",
      "Epoch 47/50\n",
      "242/242 [==============================] - 0s 401us/step - loss: 0.1735 - acc: 0.9421 - val_loss: 0.9220 - val_acc: 0.7213\n",
      "Epoch 48/50\n",
      "242/242 [==============================] - 0s 369us/step - loss: 0.1734 - acc: 0.9421 - val_loss: 0.9247 - val_acc: 0.7213\n",
      "Epoch 49/50\n",
      "242/242 [==============================] - 0s 363us/step - loss: 0.1732 - acc: 0.9421 - val_loss: 0.9262 - val_acc: 0.7213\n",
      "Epoch 50/50\n",
      "242/242 [==============================] - 0s 383us/step - loss: 0.1730 - acc: 0.9421 - val_loss: 0.9259 - val_acc: 0.7213\n"
     ]
    }
   ],
   "source": [
    "# model = KerasClassifier(build_fn=create_model, epochs=50, batch_size=20, verbose=1)\n",
    "model = create_model()\n",
    "history = model.fit(X, y, validation_split=0.20, epochs=epochs,\n",
    "                    batch_size=batch_size, verbose=1, callbacks=[reduce_lr])"
   ]
  },
  {
   "cell_type": "code",
   "execution_count": 233,
   "metadata": {
    "ExecuteTime": {
     "end_time": "2019-04-06T02:51:02.715774Z",
     "start_time": "2019-04-06T02:51:02.283688Z"
    }
   },
   "outputs": [
    {
     "data": {
      "image/png": "[encoded data removed]",
      "text/plain": [
       "<Figure size 432x288 with 1 Axes>"
      ]
     },
     "metadata": {
      "needs_background": "light"
     },
     "output_type": "display_data"
    },
    {
     "data": {
      "image/png": "[encoded data removed]",
      "text/plain": [
       "<Figure size 432x288 with 1 Axes>"
      ]
     },
     "metadata": {
      "needs_background": "light"
     },
     "output_type": "display_data"
    },
    {
     "data": {
      "image/png": "[encoded data removed]",
      "text/plain": [
       "<Figure size 432x288 with 1 Axes>"
      ]
     },
     "metadata": {
      "needs_background": "light"
     },
     "output_type": "display_data"
    }
   ],
   "source": [
    "plt.plot(history.history['acc'])\n",
    "plt.plot(history.history['val_acc'])\n",
    "plt.title('Accuracy')\n",
    "plt.ylabel('Accuracy')\n",
    "plt.xlabel('Epoch')\n",
    "plt.legend(['Train', 'Test'], loc='upper left')\n",
    "plt.show()\n",
    "\n",
    "# Plot training & validation loss values\n",
    "plt.plot(history.history['loss'])\n",
    "plt.plot(history.history['val_loss'])\n",
    "plt.title('Model loss')\n",
    "plt.ylabel('Loss')\n",
    "plt.xlabel('Epoch')\n",
    "plt.legend(['Train', 'Test'], loc='upper left')\n",
    "plt.show()\n",
    "\n",
    "plt.plot(history.history['lr'])\n",
    "plt.title('Learning Rate')\n",
    "plt.ylabel('Learning Rate')\n",
    "plt.xlabel('Epoch')\n",
    "plt.legend(['Train'], loc='upper left')\n",
    "plt.show()"
   ]
  },
  {
   "cell_type": "code",
   "execution_count": 234,
   "metadata": {
    "ExecuteTime": {
     "end_time": "2019-04-06T02:51:10.410283Z",
     "start_time": "2019-04-06T02:51:10.399885Z"
    }
   },
   "outputs": [
    {
     "data": {
      "text/plain": [
       "dict_keys(['val_loss', 'val_acc', 'loss', 'acc', 'lr'])"
      ]
     },
     "execution_count": 234,
     "metadata": {},
     "output_type": "execute_result"
    }
   ],
   "source": [
    "history.history.keys()"
   ]
  },
  {
   "cell_type": "code",
   "execution_count": 235,
   "metadata": {
    "ExecuteTime": {
     "end_time": "2019-04-06T02:51:11.785740Z",
     "start_time": "2019-04-06T02:51:11.773062Z"
    }
   },
   "outputs": [
    {
     "data": {
      "text/plain": [
       "(0.7213114793183374,\n",
       " 0.9421487613157793,\n",
       " 0.7540983508844845,\n",
       " 0.9421487748622894)"
      ]
     },
     "execution_count": 235,
     "metadata": {},
     "output_type": "execute_result"
    }
   ],
   "source": [
    "history.history['val_acc'][-1], history.history['acc'][-1], \\\n",
    "max(history.history['val_acc']), max(history.history['acc'])"
   ]
  },
  {
   "cell_type": "code",
   "execution_count": 236,
   "metadata": {
    "ExecuteTime": {
     "end_time": "2019-04-06T02:51:20.909830Z",
     "start_time": "2019-04-06T02:51:20.881777Z"
    }
   },
   "outputs": [
    {
     "data": {
      "text/html": [
       "<div>\n",
       "<style scoped>\n",
       "    .dataframe tbody tr th:only-of-type {\n",
       "        vertical-align: middle;\n",
       "    }\n",
       "\n",
       "    .dataframe tbody tr th {\n",
       "        vertical-align: top;\n",
       "    }\n",
       "\n",
       "    .dataframe thead th {\n",
       "        text-align: right;\n",
       "    }\n",
       "</style>\n",
       "<table border=\"1\" class=\"dataframe\">\n",
       "  <thead>\n",
       "    <tr style=\"text-align: right;\">\n",
       "      <th></th>\n",
       "      <th>age</th>\n",
       "      <th>sex</th>\n",
       "      <th>cp</th>\n",
       "      <th>trestbps</th>\n",
       "      <th>chol</th>\n",
       "      <th>fbs</th>\n",
       "      <th>restecg</th>\n",
       "      <th>thalach</th>\n",
       "      <th>exang</th>\n",
       "      <th>oldpeak</th>\n",
       "      <th>slope</th>\n",
       "      <th>ca</th>\n",
       "      <th>thal</th>\n",
       "      <th>target</th>\n",
       "    </tr>\n",
       "  </thead>\n",
       "  <tbody>\n",
       "    <tr>\n",
       "      <th>0</th>\n",
       "      <td>63</td>\n",
       "      <td>1</td>\n",
       "      <td>3</td>\n",
       "      <td>145</td>\n",
       "      <td>233</td>\n",
       "      <td>1</td>\n",
       "      <td>0</td>\n",
       "      <td>150</td>\n",
       "      <td>0</td>\n",
       "      <td>2.3</td>\n",
       "      <td>0</td>\n",
       "      <td>0</td>\n",
       "      <td>1</td>\n",
       "      <td>1</td>\n",
       "    </tr>\n",
       "    <tr>\n",
       "      <th>1</th>\n",
       "      <td>37</td>\n",
       "      <td>1</td>\n",
       "      <td>2</td>\n",
       "      <td>130</td>\n",
       "      <td>250</td>\n",
       "      <td>0</td>\n",
       "      <td>1</td>\n",
       "      <td>187</td>\n",
       "      <td>0</td>\n",
       "      <td>3.5</td>\n",
       "      <td>0</td>\n",
       "      <td>0</td>\n",
       "      <td>2</td>\n",
       "      <td>1</td>\n",
       "    </tr>\n",
       "    <tr>\n",
       "      <th>2</th>\n",
       "      <td>41</td>\n",
       "      <td>0</td>\n",
       "      <td>1</td>\n",
       "      <td>130</td>\n",
       "      <td>204</td>\n",
       "      <td>0</td>\n",
       "      <td>0</td>\n",
       "      <td>172</td>\n",
       "      <td>0</td>\n",
       "      <td>1.4</td>\n",
       "      <td>2</td>\n",
       "      <td>0</td>\n",
       "      <td>2</td>\n",
       "      <td>1</td>\n",
       "    </tr>\n",
       "    <tr>\n",
       "      <th>3</th>\n",
       "      <td>56</td>\n",
       "      <td>1</td>\n",
       "      <td>1</td>\n",
       "      <td>120</td>\n",
       "      <td>236</td>\n",
       "      <td>0</td>\n",
       "      <td>1</td>\n",
       "      <td>178</td>\n",
       "      <td>0</td>\n",
       "      <td>0.8</td>\n",
       "      <td>2</td>\n",
       "      <td>0</td>\n",
       "      <td>2</td>\n",
       "      <td>1</td>\n",
       "    </tr>\n",
       "    <tr>\n",
       "      <th>4</th>\n",
       "      <td>57</td>\n",
       "      <td>0</td>\n",
       "      <td>0</td>\n",
       "      <td>120</td>\n",
       "      <td>354</td>\n",
       "      <td>0</td>\n",
       "      <td>1</td>\n",
       "      <td>163</td>\n",
       "      <td>1</td>\n",
       "      <td>0.6</td>\n",
       "      <td>2</td>\n",
       "      <td>0</td>\n",
       "      <td>2</td>\n",
       "      <td>1</td>\n",
       "    </tr>\n",
       "  </tbody>\n",
       "</table>\n",
       "</div>"
      ],
      "text/plain": [
       "   age  sex  cp  trestbps  chol  fbs  restecg  thalach  exang  oldpeak  slope  \\\n",
       "0   63    1   3       145   233    1        0      150      0      2.3      0   \n",
       "1   37    1   2       130   250    0        1      187      0      3.5      0   \n",
       "2   41    0   1       130   204    0        0      172      0      1.4      2   \n",
       "3   56    1   1       120   236    0        1      178      0      0.8      2   \n",
       "4   57    0   0       120   354    0        1      163      1      0.6      2   \n",
       "\n",
       "   ca  thal  target  \n",
       "0   0     1       1  \n",
       "1   0     2       1  \n",
       "2   0     2       1  \n",
       "3   0     2       1  \n",
       "4   0     2       1  "
      ]
     },
     "execution_count": 236,
     "metadata": {},
     "output_type": "execute_result"
    }
   ],
   "source": [
    "df.head()"
   ]
  },
  {
   "cell_type": "code",
   "execution_count": 237,
   "metadata": {
    "ExecuteTime": {
     "end_time": "2019-04-06T02:51:23.785119Z",
     "start_time": "2019-04-06T02:51:23.770072Z"
    }
   },
   "outputs": [],
   "source": [
    "df['Trestbps'] = df.trestbps.apply(lambda x: x // 10)\n",
    "df['Age'] = df.trestbps.apply(lambda x: x // 10)"
   ]
  },
  {
   "cell_type": "code",
   "execution_count": 238,
   "metadata": {
    "ExecuteTime": {
     "end_time": "2019-04-06T02:51:25.208291Z",
     "start_time": "2019-04-06T02:51:25.196075Z"
    }
   },
   "outputs": [
    {
     "name": "stderr",
     "output_type": "stream",
     "text": [
      "/home/mark/anaconda3/envs/myf/lib/python3.6/site-packages/sklearn/preprocessing/data.py:625: DataConversionWarning: Data with input dtype int64, float64 were all converted to float64 by StandardScaler.\n",
      "  return self.partial_fit(X, y)\n",
      "/home/mark/anaconda3/envs/myf/lib/python3.6/site-packages/sklearn/base.py:462: DataConversionWarning: Data with input dtype int64, float64 were all converted to float64 by StandardScaler.\n",
      "  return self.fit(X, **fit_params).transform(X)\n"
     ]
    }
   ],
   "source": [
    "X = StandardScaler().fit_transform(df.drop(['target'], axis=1))\n",
    "y = df.target.values"
   ]
  },
  {
   "cell_type": "code",
   "execution_count": 239,
   "metadata": {
    "ExecuteTime": {
     "end_time": "2019-04-06T02:52:52.610737Z",
     "start_time": "2019-04-06T02:51:34.060034Z"
    }
   },
   "outputs": [
    {
     "name": "stdout",
     "output_type": "stream",
     "text": [
      "Train on 242 samples, validate on 61 samples\n",
      "Epoch 1/50\n",
      "242/242 [==============================] - 48s 199ms/step - loss: 0.5780 - acc: 0.7438 - val_loss: 0.6650 - val_acc: 0.6557\n",
      "Epoch 2/50\n",
      "242/242 [==============================] - 0s 963us/step - loss: 0.3231 - acc: 0.8884 - val_loss: 0.9395 - val_acc: 0.6721\n",
      "Epoch 3/50\n",
      "242/242 [==============================] - 0s 660us/step - loss: 0.2909 - acc: 0.8843 - val_loss: 1.0765 - val_acc: 0.5246\n",
      "Epoch 4/50\n",
      "242/242 [==============================] - 0s 449us/step - loss: 0.2648 - acc: 0.8967 - val_loss: 0.9920 - val_acc: 0.5574\n",
      "Epoch 5/50\n",
      "242/242 [==============================] - 0s 430us/step - loss: 0.2456 - acc: 0.9008 - val_loss: 0.9198 - val_acc: 0.6230\n",
      "Epoch 6/50\n",
      "242/242 [==============================] - 0s 466us/step - loss: 0.2263 - acc: 0.9132 - val_loss: 0.9329 - val_acc: 0.5738\n",
      "Epoch 7/50\n",
      "242/242 [==============================] - 0s 861us/step - loss: 0.2072 - acc: 0.9132 - val_loss: 0.9709 - val_acc: 0.5574\n",
      "Epoch 8/50\n",
      "242/242 [==============================] - 0s 470us/step - loss: 0.2017 - acc: 0.9132 - val_loss: 1.0286 - val_acc: 0.5246\n",
      "Epoch 9/50\n",
      "242/242 [==============================] - 0s 400us/step - loss: 0.1933 - acc: 0.9174 - val_loss: 1.0793 - val_acc: 0.5410\n",
      "Epoch 10/50\n",
      "242/242 [==============================] - 0s 414us/step - loss: 0.1892 - acc: 0.9215 - val_loss: 1.1323 - val_acc: 0.5082\n",
      "Epoch 11/50\n",
      "242/242 [==============================] - 0s 414us/step - loss: 0.1842 - acc: 0.9215 - val_loss: 1.1760 - val_acc: 0.4918\n",
      "Epoch 12/50\n",
      "242/242 [==============================] - 0s 416us/step - loss: 0.1805 - acc: 0.9215 - val_loss: 1.1811 - val_acc: 0.4918\n",
      "Epoch 13/50\n",
      "242/242 [==============================] - 0s 374us/step - loss: 0.1792 - acc: 0.9215 - val_loss: 1.1880 - val_acc: 0.4918\n",
      "Epoch 14/50\n",
      "242/242 [==============================] - 0s 404us/step - loss: 0.1782 - acc: 0.9215 - val_loss: 1.1933 - val_acc: 0.4918\n",
      "Epoch 15/50\n",
      "242/242 [==============================] - 0s 413us/step - loss: 0.1766 - acc: 0.9215 - val_loss: 1.1941 - val_acc: 0.4918\n",
      "Epoch 16/50\n",
      "242/242 [==============================] - 0s 416us/step - loss: 0.1753 - acc: 0.9256 - val_loss: 1.2012 - val_acc: 0.4754\n",
      "Epoch 17/50\n",
      "242/242 [==============================] - 0s 455us/step - loss: 0.1739 - acc: 0.9256 - val_loss: 1.2017 - val_acc: 0.4754\n",
      "Epoch 18/50\n",
      "242/242 [==============================] - 0s 417us/step - loss: 0.1736 - acc: 0.9256 - val_loss: 1.2007 - val_acc: 0.4754\n",
      "Epoch 19/50\n",
      "242/242 [==============================] - 0s 432us/step - loss: 0.1732 - acc: 0.9298 - val_loss: 1.2008 - val_acc: 0.4754\n",
      "Epoch 20/50\n",
      "242/242 [==============================] - 0s 418us/step - loss: 0.1729 - acc: 0.9298 - val_loss: 1.2012 - val_acc: 0.4754\n",
      "Epoch 21/50\n",
      "242/242 [==============================] - 0s 459us/step - loss: 0.1725 - acc: 0.9298 - val_loss: 1.2019 - val_acc: 0.4754\n",
      "Epoch 22/50\n",
      "242/242 [==============================] - 0s 443us/step - loss: 0.1722 - acc: 0.9298 - val_loss: 1.2019 - val_acc: 0.4754\n",
      "Epoch 23/50\n",
      "242/242 [==============================] - 0s 428us/step - loss: 0.1718 - acc: 0.9298 - val_loss: 1.2024 - val_acc: 0.4754\n",
      "Epoch 24/50\n",
      "242/242 [==============================] - 0s 438us/step - loss: 0.1715 - acc: 0.9298 - val_loss: 1.2033 - val_acc: 0.4754\n",
      "Epoch 25/50\n",
      "242/242 [==============================] - 0s 445us/step - loss: 0.1711 - acc: 0.9339 - val_loss: 1.2046 - val_acc: 0.4754\n",
      "Epoch 26/50\n",
      "242/242 [==============================] - 0s 463us/step - loss: 0.1707 - acc: 0.9339 - val_loss: 1.2061 - val_acc: 0.4754\n",
      "Epoch 27/50\n",
      "242/242 [==============================] - 0s 395us/step - loss: 0.1703 - acc: 0.9339 - val_loss: 1.2078 - val_acc: 0.4754\n",
      "Epoch 28/50\n",
      "242/242 [==============================] - 0s 428us/step - loss: 0.1699 - acc: 0.9339 - val_loss: 1.2097 - val_acc: 0.4754\n",
      "Epoch 29/50\n",
      "242/242 [==============================] - 0s 420us/step - loss: 0.1695 - acc: 0.9339 - val_loss: 1.2111 - val_acc: 0.4754\n",
      "Epoch 30/50\n",
      "242/242 [==============================] - 0s 466us/step - loss: 0.1692 - acc: 0.9339 - val_loss: 1.2111 - val_acc: 0.4754\n",
      "Epoch 31/50\n",
      "242/242 [==============================] - 0s 436us/step - loss: 0.1687 - acc: 0.9339 - val_loss: 1.2111 - val_acc: 0.4754\n",
      "Epoch 32/50\n",
      "242/242 [==============================] - 0s 442us/step - loss: 0.1683 - acc: 0.9339 - val_loss: 1.2121 - val_acc: 0.4754\n",
      "Epoch 33/50\n",
      "242/242 [==============================] - 0s 468us/step - loss: 0.1680 - acc: 0.9339 - val_loss: 1.2127 - val_acc: 0.4754\n",
      "Epoch 34/50\n",
      "242/242 [==============================] - 0s 491us/step - loss: 0.1675 - acc: 0.9339 - val_loss: 1.2148 - val_acc: 0.4754\n",
      "Epoch 35/50\n",
      "242/242 [==============================] - 0s 492us/step - loss: 0.1671 - acc: 0.9339 - val_loss: 1.2173 - val_acc: 0.4754\n",
      "Epoch 36/50\n",
      "242/242 [==============================] - 0s 455us/step - loss: 0.1667 - acc: 0.9339 - val_loss: 1.2192 - val_acc: 0.4754\n",
      "Epoch 37/50\n",
      "242/242 [==============================] - 0s 445us/step - loss: 0.1663 - acc: 0.9380 - val_loss: 1.2226 - val_acc: 0.4754\n",
      "Epoch 38/50\n",
      "242/242 [==============================] - 0s 435us/step - loss: 0.1659 - acc: 0.9380 - val_loss: 1.2254 - val_acc: 0.4918\n",
      "Epoch 39/50\n",
      "242/242 [==============================] - 0s 432us/step - loss: 0.1655 - acc: 0.9380 - val_loss: 1.2276 - val_acc: 0.4918\n",
      "Epoch 40/50\n",
      "242/242 [==============================] - 0s 447us/step - loss: 0.1651 - acc: 0.9380 - val_loss: 1.2295 - val_acc: 0.4918\n",
      "Epoch 41/50\n",
      "242/242 [==============================] - 0s 359us/step - loss: 0.1645 - acc: 0.9380 - val_loss: 1.2288 - val_acc: 0.4754\n",
      "Epoch 42/50\n",
      "242/242 [==============================] - 0s 383us/step - loss: 0.1642 - acc: 0.9380 - val_loss: 1.2275 - val_acc: 0.4754\n",
      "Epoch 43/50\n",
      "242/242 [==============================] - 0s 386us/step - loss: 0.1638 - acc: 0.9380 - val_loss: 1.2256 - val_acc: 0.4754\n",
      "Epoch 44/50\n",
      "242/242 [==============================] - 0s 377us/step - loss: 0.1634 - acc: 0.9380 - val_loss: 1.2252 - val_acc: 0.4754\n",
      "Epoch 45/50\n",
      "242/242 [==============================] - 0s 358us/step - loss: 0.1629 - acc: 0.9380 - val_loss: 1.2255 - val_acc: 0.4754\n",
      "Epoch 46/50\n",
      "242/242 [==============================] - 0s 402us/step - loss: 0.1625 - acc: 0.9380 - val_loss: 1.2242 - val_acc: 0.4754\n",
      "Epoch 47/50\n",
      "242/242 [==============================] - 0s 448us/step - loss: 0.1622 - acc: 0.9380 - val_loss: 1.2236 - val_acc: 0.4754\n",
      "Epoch 48/50\n",
      "242/242 [==============================] - 0s 425us/step - loss: 0.1618 - acc: 0.9380 - val_loss: 1.2232 - val_acc: 0.4754\n",
      "Epoch 49/50\n",
      "242/242 [==============================] - 0s 422us/step - loss: 0.1615 - acc: 0.9380 - val_loss: 1.2233 - val_acc: 0.4754\n",
      "Epoch 50/50\n",
      "242/242 [==============================] - 0s 444us/step - loss: 0.1610 - acc: 0.9380 - val_loss: 1.2246 - val_acc: 0.4754\n"
     ]
    }
   ],
   "source": [
    "model = create_model(X.shape[1])\n",
    "history = model.fit(X, y, validation_split=0.20, epochs=epochs,\n",
    "                    batch_size=batch_size, verbose=1, callbacks=[reduce_lr])"
   ]
  },
  {
   "cell_type": "code",
   "execution_count": 240,
   "metadata": {
    "ExecuteTime": {
     "end_time": "2019-04-06T02:52:59.260425Z",
     "start_time": "2019-04-06T02:52:59.254906Z"
    }
   },
   "outputs": [
    {
     "data": {
      "text/plain": [
       "dict_keys(['val_loss', 'val_acc', 'loss', 'acc', 'lr'])"
      ]
     },
     "execution_count": 240,
     "metadata": {},
     "output_type": "execute_result"
    }
   ],
   "source": [
    "history.history.keys()"
   ]
  },
  {
   "cell_type": "code",
   "execution_count": 246,
   "metadata": {
    "ExecuteTime": {
     "end_time": "2019-04-06T02:53:42.672599Z",
     "start_time": "2019-04-06T02:53:42.659259Z"
    }
   },
   "outputs": [
    {
     "data": {
      "text/plain": [
       "(0.47540984485970167,\n",
       " 0.9380165284330194,\n",
       " 0.6721311621978635,\n",
       " 0.9380165419795297)"
      ]
     },
     "execution_count": 246,
     "metadata": {},
     "output_type": "execute_result"
    }
   ],
   "source": [
    "history.history['val_acc'][-1], history.history['acc'][-1], \\\n",
    "max(history.history['val_acc']), max(history.history['acc'])"
   ]
  },
  {
   "cell_type": "code",
   "execution_count": 247,
   "metadata": {
    "ExecuteTime": {
     "end_time": "2019-04-06T02:54:56.515554Z",
     "start_time": "2019-04-06T02:54:56.086361Z"
    }
   },
   "outputs": [
    {
     "data": {
      "image/png": "[encoded data removed]",
      "text/plain": [
       "<Figure size 432x288 with 1 Axes>"
      ]
     },
     "metadata": {
      "needs_background": "light"
     },
     "output_type": "display_data"
    },
    {
     "data": {
      "image/png": "[encoded data removed]",
      "text/plain": [
       "<Figure size 432x288 with 1 Axes>"
      ]
     },
     "metadata": {
      "needs_background": "light"
     },
     "output_type": "display_data"
    },
    {
     "data": {
      "image/png": "[encoded data removed]",
      "text/plain": [
       "<Figure size 432x288 with 1 Axes>"
      ]
     },
     "metadata": {
      "needs_background": "light"
     },
     "output_type": "display_data"
    }
   ],
   "source": [
    "plt.plot(history.history['acc'])\n",
    "plt.plot(history.history['val_acc'])\n",
    "plt.title('Accuracy')\n",
    "plt.ylabel('Accuracy')\n",
    "plt.xlabel('Epoch')\n",
    "plt.legend(['Train', 'Test'], loc='upper left')\n",
    "plt.show()\n",
    "\n",
    "# Plot training & validation loss values\n",
    "plt.plot(history.history['loss'])\n",
    "plt.plot(history.history['val_loss'])\n",
    "plt.title('Model loss')\n",
    "plt.ylabel('Loss')\n",
    "plt.xlabel('Epoch')\n",
    "plt.legend(['Train', 'Test'], loc='upper left')\n",
    "plt.show()\n",
    "\n",
    "plt.plot(history.history['lr'])\n",
    "plt.title('Learning Rate')\n",
    "plt.ylabel('Learning Rate')\n",
    "plt.xlabel('Epoch')\n",
    "plt.legend(['Train'], loc='upper left')\n",
    "plt.show()"
   ]
  },
  {
   "cell_type": "code",
   "execution_count": 147,
   "metadata": {
    "ExecuteTime": {
     "end_time": "2019-04-05T20:56:43.474554Z",
     "start_time": "2019-04-05T20:56:43.449787Z"
    }
   },
   "outputs": [
    {
     "ename": "AttributeError",
     "evalue": "'Adam' object has no attribute 'keys'",
     "output_type": "error",
     "traceback": [
      "\u001b[0;31m---------------------------------------------------------------------------\u001b[0m",
      "\u001b[0;31mAttributeError\u001b[0m                            Traceback (most recent call last)",
      "\u001b[0;32m<ipython-input-147-91cb1545d2af>\u001b[0m in \u001b[0;36m<module>\u001b[0;34m\u001b[0m\n\u001b[0;32m----> 1\u001b[0;31m \u001b[0mopt\u001b[0m\u001b[0;34m.\u001b[0m\u001b[0mkeys\u001b[0m\u001b[0;34m\u001b[0m\u001b[0m\n\u001b[0m",
      "\u001b[0;31mAttributeError\u001b[0m: 'Adam' object has no attribute 'keys'"
     ]
    }
   ],
   "source": []
  },
  {
   "cell_type": "code",
   "execution_count": null,
   "metadata": {},
   "outputs": [],
   "source": []
  }
 ],
 "metadata": {
  "colab": {
   "name": "DS43SC.ipynb",
   "provenance": [],
   "version": "0.3.2"
  },
  "kernelspec": {
   "display_name": "Python 3",
   "language": "python",
   "name": "python3"
  },
  "language_info": {
   "codemirror_mode": {
    "name": "ipython",
    "version": 3
   },
   "file_extension": ".py",
   "mimetype": "text/x-python",
   "name": "python",
   "nbconvert_exporter": "python",
   "pygments_lexer": "ipython3",
   "version": "3.6.6"
  },
  "latex_envs": {
   "LaTeX_envs_menu_present": true,
   "autoclose": false,
   "autocomplete": true,
   "bibliofile": "biblio.bib",
   "cite_by": "apalike",
   "current_citInitial": 1,
   "eqLabelWithNumbers": true,
   "eqNumInitial": 1,
   "hotkeys": {
    "equation": "Ctrl-E",
    "itemize": "Ctrl-I"
   },
   "labels_anchors": false,
   "latex_user_defs": false,
   "report_style_numbering": false,
   "user_envs_cfg": false
  }
 },
 "nbformat": 4,
 "nbformat_minor": 1
}
