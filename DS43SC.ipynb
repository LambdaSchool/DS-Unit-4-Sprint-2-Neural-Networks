{
 "cells": [
  {
   "cell_type": "code",
   "execution_count": 44,
   "metadata": {},
   "outputs": [
    {
     "name": "stderr",
     "output_type": "stream",
     "text": [
      "Using TensorFlow backend.\n"
     ]
    }
   ],
   "source": [
    "import numpy as np\n",
    "import pandas as pd\n",
    "import matplotlib.pyplot as plt\n",
    "\n",
    "from keras.layers import Dense, Dropout\n",
    "from keras.models import Sequential\n",
    "from keras.optimizers import SGD, Adam, Nadam\n",
    "from keras.wrappers.scikit_learn import KerasClassifier\n",
    "\n",
    "from sklearn.model_selection import train_test_split, GridSearchCV, StratifiedKFold, cross_val_score\n",
    "from sklearn.preprocessing import StandardScaler\n",
    "from sklearn.pipeline import Pipeline"
   ]
  },
  {
   "cell_type": "markdown",
   "metadata": {
    "colab_type": "text",
    "id": "Y6SKlgYrpcym"
   },
   "source": [
    "# Neural Networks Sprint Challenge"
   ]
  },
  {
   "cell_type": "markdown",
   "metadata": {
    "colab_type": "text",
    "id": "BrEbRrjVphPM"
   },
   "source": [
    "## 1) Define the following terms:\n",
    "\n",
    "- Neuron\n",
    "- Input Layer\n",
    "- Hidden Layer\n",
    "- Output Layer\n",
    "- Activation\n",
    "- Backpropagation"
   ]
  },
  {
   "cell_type": "markdown",
   "metadata": {
    "colab_type": "text",
    "id": "Q5EksLqnp4oB"
   },
   "source": [
    "**Neuron**\n",
    "\n",
    "A 'neuron' is one node in a neural network, inspired by the analogy drawn to biological neurons. In the simplest terms, a neuron receives information from previous nodes in the network, computes an output based on weights given to those pieces of information, and passes on a signal to other nodes via an activation function.\n",
    "\n",
    "**Input Layer**\n",
    "\n",
    "An input layer is the first layer in a standard feed forward neural network. This layer receives information directly from the features in the data, meaning each neuron is fully connected to all input features.\n",
    "\n",
    "**Hidden Layer**\n",
    "\n",
    "Hidden layers lie between the input layer and output layer. Hidden layers are composed of a user-specified number of neurons, and allow neural networks to fit non-linear patterns in data.\n",
    "\n",
    "**Output Layer**\n",
    "\n",
    "The output layer receives information from the last hidden layer (or input layer in the case of a perceptron) and transforms this information into output.\n",
    "\n",
    "The exact functional form of the output layer is determined by the task the network needs to perform. For example, in multi-class classification problems, the output layer generally must use a softmax activation function.\n",
    "\n",
    "**Activation**\n",
    "\n",
    "Activation refers to a function that controls how much 'signal' gets passed from one layer of a neural network to the next. Examples include sigmoid, ReLU, leaky ReLU, linear, etc.\n",
    "\n",
    "**Backpropagation**\n",
    "\n",
    "Backpropagation refers to an algorithm for updating parameters (weights and biases) of neural networks. A common method of backpropagation in gradient descent (or some version of it), in which weights are updated in the inverse direction of the cost function's gradient.\n",
    "\n",
    "This 'updating' is performed from the output layer backwards through the network."
   ]
  },
  {
   "cell_type": "markdown",
   "metadata": {
    "colab_type": "text",
    "id": "Ri_gRA2Jp728"
   },
   "source": [
    "## 2) Create a perceptron class that can model the behavior of an AND gate. You can use the following table as your training data:\n",
    "\n",
    "| x1 | x2 | x3 | y |\n",
    "|----|----|----|---|\n",
    "| 1  | 1  | 1  | 1 |\n",
    "| 1  | 0  | 1  | 0 |\n",
    "| 0  | 1  | 1  | 0 |\n",
    "| 0  | 0  | 1  | 0 |"
   ]
  },
  {
   "cell_type": "markdown",
   "metadata": {},
   "source": [
    "### Perceptron Class"
   ]
  },
  {
   "cell_type": "code",
   "execution_count": 4,
   "metadata": {
    "colab": {},
    "colab_type": "code",
    "id": "Ig6ZTH8tpQ19"
   },
   "outputs": [],
   "source": [
    "class PerceptronClassifier():\n",
    "    \"\"\"\n",
    "    Basic perceptron class for binary classification\n",
    "    \"\"\"\n",
    "    def __init__(self, learning_rate=0.1, n_iter=100, tolerance=0.000001):\n",
    "        self.learning_rate = learning_rate\n",
    "        self.n_iter = n_iter\n",
    "        self.tolerance = tolerance\n",
    "    \n",
    "    def fit(self, X, y):\n",
    "        \"\"\"\n",
    "        Fit perceptron to a set of training data using gradient descent\n",
    "        \"\"\"\n",
    "        # initialize weights and cost list\n",
    "        self.weights_ = np.random.uniform(-0.01, 0.01, X.shape[1] + 1)\n",
    "        self.costs_ = []\n",
    "        # iterate until fit is adequate\n",
    "        for i in range(self.n_iter):\n",
    "            preds = self.predict_proba(X)\n",
    "            errors = preds - y\n",
    "            cost = np.sum(errors ** 2)\n",
    "            self.costs_.append(cost)\n",
    "            gradient = np.dot(X.T, errors)\n",
    "            self.weights_[1:] -= self.learning_rate * gradient\n",
    "            self.weights_[0] -= np.mean(errors)\n",
    "            \n",
    "            # break the loop if we are close enough\n",
    "            if cost < self.tolerance:\n",
    "                break\n",
    "            \n",
    "        return self\n",
    "    \n",
    "    def predict_proba(self, X):\n",
    "        \"\"\"\n",
    "        Computes sigmoid output value given X\n",
    "        \"\"\"\n",
    "        return 1. / (1. + np.exp(-(np.dot(X, self.weights_[1:]) + self.weights_[0])))\n",
    "    \n",
    "    def predict(self, X):\n",
    "        \"\"\"\n",
    "        Predicts the binary class of X values\n",
    "        \"\"\"\n",
    "        return np.where(self.predict_proba(X)>=0.5, 1, 0)\n",
    "    \n",
    "    def show_loss(self):\n",
    "        \"\"\"\n",
    "        Shows loss along epochs\n",
    "        \"\"\"\n",
    "        try:\n",
    "            iters = range(len(self.costs_))\n",
    "            fig, ax = plt.subplots()\n",
    "            ax.plot(iters, self.costs_)\n",
    "            ax.set_xlabel('Number of Iterations')\n",
    "            ax.set_ylabel('Training Loss (SSE)')\n",
    "            ax.set_title('Training Loss')\n",
    "            plt.show()\n",
    "        except:\n",
    "            print ('Please train me first :)')"
   ]
  },
  {
   "cell_type": "markdown",
   "metadata": {},
   "source": [
    "### Fitting NAND Gate"
   ]
  },
  {
   "cell_type": "code",
   "execution_count": 5,
   "metadata": {},
   "outputs": [
    {
     "data": {
      "text/plain": [
       "array([1, 1, 0, 0])"
      ]
     },
     "execution_count": 5,
     "metadata": {},
     "output_type": "execute_result"
    }
   ],
   "source": [
    "X = np.array([[1,0,1],\n",
    "            [1,1,1],\n",
    "            [0,0,1],\n",
    "            [0,1,1]])\n",
    "y = np.array([1,1,0,0])\n",
    "\n",
    "ppn = PerceptronClassifier(learning_rate = 1.0, n_iter=100)\n",
    "ppn.fit(X, y)\n",
    "ppn.predict(X)"
   ]
  },
  {
   "cell_type": "markdown",
   "metadata": {
    "colab_type": "text",
    "id": "86HyRi8Osr3U"
   },
   "source": [
    "## 3) Implement a Neural Network Multilayer Perceptron class that uses backpropagation to update the network's weights. \n",
    "- Your network must have one hidden layer. \n",
    "- You do not have to update weights via gradient descent. You can use something like the derivative of the sigmoid function to update weights.\n",
    "- Train your model on the Heart Disease dataset from UCI:\n",
    "\n",
    "[Github Dataset](https://github.com/ryanleeallred/datasets/blob/master/heart.csv)\n",
    "\n",
    "[Raw File on Github](https://raw.githubusercontent.com/ryanleeallred/datasets/master/heart.csv)\n"
   ]
  },
  {
   "cell_type": "code",
   "execution_count": 6,
   "metadata": {},
   "outputs": [
    {
     "data": {
      "text/html": [
       "<div>\n",
       "<style scoped>\n",
       "    .dataframe tbody tr th:only-of-type {\n",
       "        vertical-align: middle;\n",
       "    }\n",
       "\n",
       "    .dataframe tbody tr th {\n",
       "        vertical-align: top;\n",
       "    }\n",
       "\n",
       "    .dataframe thead th {\n",
       "        text-align: right;\n",
       "    }\n",
       "</style>\n",
       "<table border=\"1\" class=\"dataframe\">\n",
       "  <thead>\n",
       "    <tr style=\"text-align: right;\">\n",
       "      <th></th>\n",
       "      <th>age</th>\n",
       "      <th>sex</th>\n",
       "      <th>cp</th>\n",
       "      <th>trestbps</th>\n",
       "      <th>chol</th>\n",
       "      <th>fbs</th>\n",
       "      <th>restecg</th>\n",
       "      <th>thalach</th>\n",
       "      <th>exang</th>\n",
       "      <th>oldpeak</th>\n",
       "      <th>slope</th>\n",
       "      <th>ca</th>\n",
       "      <th>thal</th>\n",
       "      <th>target</th>\n",
       "    </tr>\n",
       "  </thead>\n",
       "  <tbody>\n",
       "    <tr>\n",
       "      <th>0</th>\n",
       "      <td>63</td>\n",
       "      <td>1</td>\n",
       "      <td>3</td>\n",
       "      <td>145</td>\n",
       "      <td>233</td>\n",
       "      <td>1</td>\n",
       "      <td>0</td>\n",
       "      <td>150</td>\n",
       "      <td>0</td>\n",
       "      <td>2.3</td>\n",
       "      <td>0</td>\n",
       "      <td>0</td>\n",
       "      <td>1</td>\n",
       "      <td>1</td>\n",
       "    </tr>\n",
       "    <tr>\n",
       "      <th>1</th>\n",
       "      <td>37</td>\n",
       "      <td>1</td>\n",
       "      <td>2</td>\n",
       "      <td>130</td>\n",
       "      <td>250</td>\n",
       "      <td>0</td>\n",
       "      <td>1</td>\n",
       "      <td>187</td>\n",
       "      <td>0</td>\n",
       "      <td>3.5</td>\n",
       "      <td>0</td>\n",
       "      <td>0</td>\n",
       "      <td>2</td>\n",
       "      <td>1</td>\n",
       "    </tr>\n",
       "    <tr>\n",
       "      <th>2</th>\n",
       "      <td>41</td>\n",
       "      <td>0</td>\n",
       "      <td>1</td>\n",
       "      <td>130</td>\n",
       "      <td>204</td>\n",
       "      <td>0</td>\n",
       "      <td>0</td>\n",
       "      <td>172</td>\n",
       "      <td>0</td>\n",
       "      <td>1.4</td>\n",
       "      <td>2</td>\n",
       "      <td>0</td>\n",
       "      <td>2</td>\n",
       "      <td>1</td>\n",
       "    </tr>\n",
       "    <tr>\n",
       "      <th>3</th>\n",
       "      <td>56</td>\n",
       "      <td>1</td>\n",
       "      <td>1</td>\n",
       "      <td>120</td>\n",
       "      <td>236</td>\n",
       "      <td>0</td>\n",
       "      <td>1</td>\n",
       "      <td>178</td>\n",
       "      <td>0</td>\n",
       "      <td>0.8</td>\n",
       "      <td>2</td>\n",
       "      <td>0</td>\n",
       "      <td>2</td>\n",
       "      <td>1</td>\n",
       "    </tr>\n",
       "    <tr>\n",
       "      <th>4</th>\n",
       "      <td>57</td>\n",
       "      <td>0</td>\n",
       "      <td>0</td>\n",
       "      <td>120</td>\n",
       "      <td>354</td>\n",
       "      <td>0</td>\n",
       "      <td>1</td>\n",
       "      <td>163</td>\n",
       "      <td>1</td>\n",
       "      <td>0.6</td>\n",
       "      <td>2</td>\n",
       "      <td>0</td>\n",
       "      <td>2</td>\n",
       "      <td>1</td>\n",
       "    </tr>\n",
       "  </tbody>\n",
       "</table>\n",
       "</div>"
      ],
      "text/plain": [
       "   age  sex  cp  trestbps  chol  fbs  restecg  thalach  exang  oldpeak  slope  \\\n",
       "0   63    1   3       145   233    1        0      150      0      2.3      0   \n",
       "1   37    1   2       130   250    0        1      187      0      3.5      0   \n",
       "2   41    0   1       130   204    0        0      172      0      1.4      2   \n",
       "3   56    1   1       120   236    0        1      178      0      0.8      2   \n",
       "4   57    0   0       120   354    0        1      163      1      0.6      2   \n",
       "\n",
       "   ca  thal  target  \n",
       "0   0     1       1  \n",
       "1   0     2       1  \n",
       "2   0     2       1  \n",
       "3   0     2       1  \n",
       "4   0     2       1  "
      ]
     },
     "execution_count": 6,
     "metadata": {},
     "output_type": "execute_result"
    }
   ],
   "source": [
    "# loading data\n",
    "data = pd.read_csv('https://raw.githubusercontent.com/ryanleeallred/datasets/master/heart.csv')\n",
    "data.head()"
   ]
  },
  {
   "cell_type": "markdown",
   "metadata": {},
   "source": [
    "### Neural Network MLP Class"
   ]
  },
  {
   "cell_type": "code",
   "execution_count": 48,
   "metadata": {
    "colab": {},
    "colab_type": "code",
    "id": "CNfiajv3v4Ed"
   },
   "outputs": [],
   "source": [
    "import sys\n",
    "import numpy as np\n",
    "\n",
    "class NeuralNetMLP(object):\n",
    "    \"\"\"\n",
    "    Feed forward nueral network / multi-layer perceptron classifier\n",
    "    \n",
    "    Parameters\n",
    "    ----------\n",
    "    n_hidden : int (default: 30)\n",
    "        Number of hidden units\n",
    "    l2 : float (default 0.)\n",
    "        Lambda value for l2 normalization\n",
    "    epochs : int (default: 100)\n",
    "        Number of training epochs\n",
    "    eta : float (default = 0.001)\n",
    "        Learning rate\n",
    "    shuffle : bool (default: True)\n",
    "        Shuffles the training data every epoch if True\n",
    "    minibatch_size : int (default : 1)\n",
    "        Number of training samples per minibatch\n",
    "    seed : int (default: None)\n",
    "        Random seed for initalizing weights and shuffling\n",
    "    \n",
    "    Attributes\n",
    "    ----------\n",
    "    eval_ : dict\n",
    "        Dictionary collecting the cost, training accuracy,\n",
    "        and validation accuracy for each epoch during training\n",
    "    \n",
    "    \"\"\"\n",
    "    \n",
    "    def __init__(self, n_hidden=30, l2=0.,\n",
    "                epochs=100, eta=0.0001,\n",
    "                shuffle=True, minibatch_size=1, seed=None):\n",
    "        self.random = np.random.RandomState(seed)\n",
    "        self.n_hidden = n_hidden\n",
    "        self.l2 = l2\n",
    "        self.epochs = epochs\n",
    "        self.eta = eta\n",
    "        self.shuffle = shuffle\n",
    "        self.minibatch_size = minibatch_size\n",
    "        \n",
    "    def _onehot(self, y, n_classes):\n",
    "        \"\"\"\n",
    "        Encode labels into one hot representation\n",
    "        \n",
    "        Parameters\n",
    "        ----------\n",
    "        y : array, shape = [n_samples]\n",
    "            Target values\n",
    "        \n",
    "        Returns\n",
    "        -------\n",
    "        onehot : array, shape = (n_samples, n_labels)\n",
    "        \"\"\"\n",
    "        \n",
    "        onehot = np.zeros((n_classes, y.shape[0]))\n",
    "        for idx, val in enumerate(y.astype(int)):\n",
    "            onehot[val, idx] = 1.\n",
    "        return onehot.T\n",
    "    \n",
    "    def _sigmoid(self, z):\n",
    "        \"\"\"\n",
    "        Compute logistic function (sigmoid)\n",
    "        \"\"\"\n",
    "        return 1. / (1. + np.exp(-np.clip(z, -250, 250)))\n",
    "    \n",
    "    def _forward(self, X):\n",
    "        \"\"\"\n",
    "        Compute forward propogation step\n",
    "        \"\"\"\n",
    "        # step 1: net input of hidden layer\n",
    "        z_h = np.dot(X, self.w_h) + self.b_h\n",
    "        \n",
    "        # step 2: activation of hidden layer\n",
    "        a_h = self._sigmoid(z_h)\n",
    "        \n",
    "        # step 3: net input of output layer\n",
    "        z_out = np.dot(a_h, self.w_out) + self.b_out\n",
    "        \n",
    "        # step 4: activation layer output\n",
    "        a_out = self._sigmoid(z_out)\n",
    "        \n",
    "        return z_h, a_h, z_out, a_out\n",
    "    \n",
    "    def _compute_cost(self, y_enc, output):\n",
    "        \"\"\"\n",
    "        Compute cost function\n",
    "        \n",
    "        Parameters\n",
    "        ----------\n",
    "        y_enc : array, shape = (n_samples, n_labels)\n",
    "            one-hot encoded class labels\n",
    "        output : array, shape = [n_samples, n_output_units]\n",
    "            Activation of the output layer (forward propoagation)\n",
    "        Returns\n",
    "        -------\n",
    "        cost : float\n",
    "            Regularized cost\n",
    "        \"\"\"\n",
    "        e = 0.000000001\n",
    "        L2_term = (self.l2 *\n",
    "                  (np.sum(self.w_h ** 2.) + \n",
    "                  np.sum(self.w_out ** 2.)))\n",
    "        term1 = -y_enc * (np.log(output + e))\n",
    "        term2 = (1. - y_enc) * np.log(1. - output + e)\n",
    "        cost = np.sum(term1 - term2) + L2_term\n",
    "        return cost\n",
    "    \n",
    "    def predict(self, X):\n",
    "        \"\"\"\n",
    "        Predict class labels\n",
    "        \n",
    "        Paramters\n",
    "        ---------\n",
    "        X : array, shape = [n_samples, n_features]\n",
    "            Input layer with original features\n",
    "        \n",
    "        Returns\n",
    "        -------\n",
    "        y_pred : array, shape = [n_samples]\n",
    "            Predicted class labels\n",
    "        \"\"\"\n",
    "        z_h, a_h, z_out, a_out = self._forward(X)\n",
    "        y_pred = np.argmax(z_out, axis=1)\n",
    "        return y_pred\n",
    "    \n",
    "    def fit(self, X_train, y_train, X_valid, y_valid):\n",
    "        \"\"\"\n",
    "        Learn weights from training data\n",
    "        \n",
    "        Parameters\n",
    "        ----------\n",
    "        X_train : array, shape = [n_samples, n_features]\n",
    "            Input layer with original features\n",
    "        y_train : array, shape = [n_samples]\n",
    "            Target class labels\n",
    "        X_test : array, shape = [n_samples, n_features]\n",
    "            Sample features for validation during training\n",
    "        y_test : array, shape = [n_samples]\n",
    "            Samples test class labels for validation during training\n",
    "            \n",
    "        Returns\n",
    "        -------\n",
    "        self\n",
    "        \"\"\"\n",
    "        n_output = np.unique(y_train).shape[0]\n",
    "        n_features = X_train.shape[1]\n",
    "        \n",
    "        #######################\n",
    "        # Weight Initialization\n",
    "        #######################\n",
    "        \n",
    "        # weights for input -> hidden\n",
    "        self.b_h = np.zeros(self.n_hidden)\n",
    "        self.w_h = self.random.normal(loc=0.0,\n",
    "                                     scale=0.1,\n",
    "                                     size=(n_features,\n",
    "                                          self.n_hidden))\n",
    "        \n",
    "        # weights for hidden -> output\n",
    "        self.b_out = np.zeros(n_output)\n",
    "        self.w_out = self.random.normal(loc=0.0,\n",
    "                                       scale=0.1,\n",
    "                                       size=(self.n_hidden,\n",
    "                                       n_output))\n",
    "        \n",
    "        epoch_strlen = len(str(self.epochs)) # for progr. format\n",
    "        self.eval_ = {'train_cost' : [],\n",
    "                      'val_cost' : [],\n",
    "                     'train_acc' : [],\n",
    "                     'valid_acc' : []}\n",
    "        \n",
    "        y_train_enc = self._onehot(y_train, n_output)\n",
    "        y_valid_enc = self._onehot(y_valid, n_output)\n",
    "        \n",
    "        # iterate over training epochs\n",
    "        for i in range(self.epochs):\n",
    "            \n",
    "            # iterate over mini batches\n",
    "            indices = np.arange(X_train.shape[0])\n",
    "            \n",
    "            if self.shuffle:\n",
    "                self.random.shuffle(indices)\n",
    "            \n",
    "            for start_idx in range(0, indices.shape[0] - self.minibatch_size + 1, self.minibatch_size):\n",
    "                batch_idx = indices[start_idx:start_idx + self.minibatch_size]\n",
    "                \n",
    "                # forward propagation\n",
    "                z_h, a_h, z_out, a_out = self._forward(X_train[batch_idx])\n",
    "                \n",
    "                #################\n",
    "                # Backpropagation\n",
    "                #################\n",
    "                \n",
    "                # [n_samples, n_classlabels]\n",
    "                sigma_out = a_out - y_train_enc[batch_idx]\n",
    "                \n",
    "                # [n_samples, n_hidden]\n",
    "                sigmoid_derivative_h = a_h * (1. - a_h)\n",
    "                \n",
    "                # [n_samples, n_classlabels] dot [n_classlabels, n_hidden]\n",
    "                # -> [n_samples, n_hidden]\n",
    "                sigma_h = (np.dot(sigma_out, self.w_out.T) * sigmoid_derivative_h)\n",
    "                \n",
    "                # [n_features, n_samples] dot [n_samples, n_hidden]\n",
    "                # -> [n_features, n_hidden]\n",
    "                grad_w_h = np.dot(X_train[batch_idx].T, sigma_h)\n",
    "                grad_b_h = np.sum(sigma_h, axis=0)\n",
    "                \n",
    "                # [n_hidden, n_samples] dot [n_samples, n_classlabels]\n",
    "                # -> [n_hidden, n_classlabels]\n",
    "                grad_w_out = np.dot(a_h.T, sigma_out)\n",
    "                grad_b_out = np.sum(sigma_out, axis=0)\n",
    "                \n",
    "                # Regularization and weight updates\n",
    "                delta_w_h = (grad_w_h + self.l2 * self.w_h)\n",
    "                delta_b_h = grad_b_h # bias is not regularized\n",
    "                self.w_h -= self.eta * delta_w_h\n",
    "                self.b_h -= self.eta * delta_b_h\n",
    "                \n",
    "                delta_w_out = grad_w_out + self.l2 * self.w_out\n",
    "                delta_b_out = grad_b_out # bias is not regularized\n",
    "                self.w_out -= self.eta * delta_w_out\n",
    "                self.b_out -= self.eta * delta_b_out\n",
    "                \n",
    "            ############\n",
    "            # Evaluation\n",
    "            ############\n",
    "\n",
    "            # evaluation after each epoch during training\n",
    "            z_h, a_h, z_out, a_out = self._forward(X_train)\n",
    "            z_h_val, a_h_val, z_out_val, a_out_val = self._forward(X_valid)\n",
    "            \n",
    "            cost = self._compute_cost(y_enc=y_train_enc, output=a_out) / a_out.shape[0]\n",
    "            cost_val = self._compute_cost(y_enc=y_valid_enc, output=a_out_val) / a_out_val.shape[0]\n",
    "            \n",
    "            y_train_pred = self.predict(X_train)\n",
    "            y_valid_pred = self.predict(X_valid)\n",
    "            \n",
    "            train_acc = ((np.sum(y_train == y_train_pred)).astype(np.float) / X_train.shape[0])\n",
    "            valid_acc = ((np.sum(y_valid == y_valid_pred)).astype(np.float) / X_valid.shape[0])\n",
    "            \n",
    "            sys.stderr.write('\\r%0*d/%d | Cost: %.2f | Train/Valid Acc: %.2f%%/%.2f%%'\n",
    "                            % (epoch_strlen, i+1, self.epochs, cost, train_acc*100, valid_acc*100))\n",
    "            sys.stderr.flush()\n",
    "            \n",
    "            self.eval_['train_cost'].append(cost)\n",
    "            self.eval_['val_cost'].append(cost_val)\n",
    "            self.eval_['train_acc'].append(train_acc)\n",
    "            self.eval_['valid_acc'].append(valid_acc)\n",
    "            \n",
    "        return self\n",
    "    \n",
    "    def plot_training(self):\n",
    "        \"\"\"\n",
    "        Plots training loss and accuracy\n",
    "        \"\"\"\n",
    "        fig, ax = plt.subplots(ncols=2, figsize=(12,7))\n",
    "        \n",
    "        # plotting loss\n",
    "        ax[0].plot(range(self.epochs), self.eval_['train_cost'], label='Train')\n",
    "        ax[0].plot(range(self.epochs), self.eval_['val_cost'], label='Validation')\n",
    "        ax[0].set_xlabel('Epochs')\n",
    "        ax[0].set_ylabel('Cost')\n",
    "        ax[0].set_title('Training Cost')\n",
    "        ax[0].legend(loc='best')\n",
    "        \n",
    "        ax[1].plot(range(self.epochs), self.eval_['train_acc'], label='Train')\n",
    "        ax[1].plot(range(self.epochs), self.eval_['valid_acc'], label='Validation')\n",
    "        ax[1].set_xlabel('Epochs')\n",
    "        ax[1].set_ylabel('Cost')\n",
    "        ax[1].set_title('Training Accuracy')\n",
    "        ax[0].legend(loc='best')\n",
    "        \n",
    "        plt.show()"
   ]
  },
  {
   "cell_type": "markdown",
   "metadata": {},
   "source": [
    "### Fitting the Data"
   ]
  },
  {
   "cell_type": "code",
   "execution_count": 52,
   "metadata": {},
   "outputs": [
    {
     "name": "stderr",
     "output_type": "stream",
     "text": [
      "/Users/zach/anaconda3/lib/python3.6/site-packages/sklearn/preprocessing/data.py:645: DataConversionWarning: Data with input dtype int64, float64 were all converted to float64 by StandardScaler.\n",
      "  return self.partial_fit(X, y)\n",
      "/Users/zach/anaconda3/lib/python3.6/site-packages/sklearn/base.py:464: DataConversionWarning: Data with input dtype int64, float64 were all converted to float64 by StandardScaler.\n",
      "  return self.fit(X, **fit_params).transform(X)\n",
      "/Users/zach/anaconda3/lib/python3.6/site-packages/ipykernel_launcher.py:10: DataConversionWarning: Data with input dtype int64, float64 were all converted to float64 by StandardScaler.\n",
      "  # Remove the CWD from sys.path while we load stuff.\n"
     ]
    }
   ],
   "source": [
    "X = data.drop(columns='target')\n",
    "y = data.target\n",
    "\n",
    "X_train, X_val, y_train, y_val = train_test_split(X, \n",
    "                                                  y,\n",
    "                                                 stratify=y)\n",
    "# scale data\n",
    "scale = StandardScaler()\n",
    "X_train = scale.fit_transform(X_train)\n",
    "X_val = scale.transform(X_val)"
   ]
  },
  {
   "cell_type": "code",
   "execution_count": 60,
   "metadata": {},
   "outputs": [
    {
     "name": "stderr",
     "output_type": "stream",
     "text": [
      "100/100 | Cost: 0.73 | Train/Valid Acc: 86.34%/82.89%"
     ]
    }
   ],
   "source": [
    "mlp = NeuralNetMLP(n_hidden=30,\n",
    "                  eta=0.001)\n",
    "mlp.fit(X_train=X_train, \n",
    "        y_train=y_train.values, \n",
    "        X_valid=X_val, \n",
    "        y_valid=y_val.values);"
   ]
  },
  {
   "cell_type": "code",
   "execution_count": 61,
   "metadata": {},
   "outputs": [
    {
     "data": {
      "image/png": "[encoded data removed]",
      "text/plain": [
       "<Figure size 864x504 with 2 Axes>"
      ]
     },
     "metadata": {
      "needs_background": "light"
     },
     "output_type": "display_data"
    }
   ],
   "source": [
    "# plotting training\n",
    "mlp.plot_training()"
   ]
  },
  {
   "cell_type": "markdown",
   "metadata": {
    "colab_type": "text",
    "id": "GGT1oRzXw3H9"
   },
   "source": [
    "## 4) Implement a Multilayer Perceptron architecture of your choosing using the Keras library. Train your model and report its baseline accuracy. Then hyperparameter tune at least two parameters and report your model's accuracy. \n",
    "\n",
    "- Use the Heart Disease Dataset (binary classification)\n",
    "- Use an appropriate loss function for a binary classification task\n",
    "- Use an appropriate activation function on the final layer of your network. \n",
    "- Train your model using verbose output for ease of grading.\n",
    "- Use GridSearchCV to hyperparameter tune your model. (for at least two hyperparameters)\n",
    "- When hyperparameter tuning, show you work by adding code cells for each new experiment. \n",
    "- Report the accuracy for each combination of hyperparameters as you test them so that we can easily see which resulted in the highest accuracy.\n",
    "- You must hyperparameter tune at least 5 parameters in order to get a 3 on this section."
   ]
  },
  {
   "cell_type": "code",
   "execution_count": 62,
   "metadata": {
    "colab": {},
    "colab_type": "code",
    "id": "XWw4IYxLxKwH"
   },
   "outputs": [],
   "source": [
    "# harness for hyper parameter tuning\n",
    "def create_model(dense_layers=2,\n",
    "                 dense_nodes=5,\n",
    "                 dropout=False,\n",
    "                 dropout_pct=0.0,\n",
    "                 activation='sigmoid',\n",
    "                 weight_initializer='glorot_uniform',\n",
    "                 optimizer=SGD,\n",
    "                 lr=0.0001,\n",
    "                 input_shape=(X_train.shape[1],)):\n",
    "    \n",
    "    model = Sequential()\n",
    "    \n",
    "    # add input layer\n",
    "    model.add(Dense(dense_nodes, \n",
    "                    input_shape=input_shape,\n",
    "                    kernel_initializer=weight_initializer,\n",
    "                    activation=activation))\n",
    "    \n",
    "    # add dense layers and drop out\n",
    "    for _ in range(dense_layers):\n",
    "        # dense\n",
    "        model.add(Dense(dense_nodes,\n",
    "                        kernel_initializer=weight_initializer,\n",
    "                        activation=activation))\n",
    "        # dropout\n",
    "        if dropout:\n",
    "            model.add(Dropout(rate=dropout_pct))\n",
    "\n",
    "    # add final activation layer\n",
    "    model.add(Dense(1, activation='sigmoid'))\n",
    "    # optimizer\n",
    "    optimizer=optimizer(lr=lr)\n",
    "    # compile model\n",
    "    model.compile(optimizer=optimizer, loss='binary_crossentropy', metrics=['acc'])\n",
    "              \n",
    "    return model"
   ]
  },
  {
   "cell_type": "markdown",
   "metadata": {},
   "source": [
    "### Baseline Model"
   ]
  },
  {
   "cell_type": "code",
   "execution_count": 71,
   "metadata": {},
   "outputs": [
    {
     "name": "stderr",
     "output_type": "stream",
     "text": [
      "/Users/zach/anaconda3/lib/python3.6/site-packages/sklearn/model_selection/_search.py:841: DeprecationWarning: The default of the `iid` parameter will change from True to False in version 0.22 and will be removed in 0.24. This will change numeric results when test-set sizes are unequal.\n",
      "  DeprecationWarning)\n"
     ]
    },
    {
     "name": "stdout",
     "output_type": "stream",
     "text": [
      "Best: 0.47577092156536255 using {}\n",
      "Means: 0.47577092156536255, Stdev: 0.08628836569890079 with: {}\n"
     ]
    }
   ],
   "source": [
    "epochs = 20\n",
    "batch_size = 20\n",
    "\n",
    "# create model\n",
    "model = KerasClassifier(build_fn=create_model, \n",
    "                               epochs=epochs,\n",
    "                               batch_size=batch_size,\n",
    "                               verbose=0)\n",
    "\n",
    "# define the grid search parameters\n",
    "param_grid = {}\n",
    "\n",
    "# Create Grid Search\n",
    "grid = GridSearchCV(estimator=model, \n",
    "                    param_grid=param_grid, \n",
    "                    cv=5,\n",
    "                    n_jobs=1)\n",
    "grid_result = grid.fit(X_train, y_train)\n",
    "\n",
    "# Report Results\n",
    "print(f\"Best: {grid_result.best_score_} using {grid_result.best_params_}\")\n",
    "means = grid_result.cv_results_['mean_test_score']\n",
    "stds = grid_result.cv_results_['std_test_score']\n",
    "params = grid_result.cv_results_['params']\n",
    "for mean, stdev, param in zip(means, stds, params):\n",
    "    print(f\"Means: {mean}, Stdev: {stdev} with: {param}\") "
   ]
  },
  {
   "cell_type": "markdown",
   "metadata": {},
   "source": [
    "### Tuning Batch Size and Epochs\n",
    "\n",
    "That was pretty bad, worse than my custom NN above. Let's see if batch size/epochs makes a difference."
   ]
  },
  {
   "cell_type": "code",
   "execution_count": 72,
   "metadata": {},
   "outputs": [
    {
     "name": "stderr",
     "output_type": "stream",
     "text": [
      "/Users/zach/anaconda3/lib/python3.6/site-packages/sklearn/model_selection/_search.py:841: DeprecationWarning: The default of the `iid` parameter will change from True to False in version 0.22 and will be removed in 0.24. This will change numeric results when test-set sizes are unequal.\n",
      "  DeprecationWarning)\n"
     ]
    },
    {
     "name": "stdout",
     "output_type": "stream",
     "text": [
      "Best: 0.581497804643299 using {'batch_size': 10, 'epochs': 30}\n",
      "Means: 0.581497804643299, Stdev: 0.03729396406797063 with: {'batch_size': 10, 'epochs': 30}\n",
      "Means: 0.4669603579369936, Stdev: 0.08331334300258571 with: {'batch_size': 10, 'epochs': 60}\n",
      "Means: 0.47577093279046634, Stdev: 0.08628837365236437 with: {'batch_size': 10, 'epochs': 90}\n",
      "Means: 0.4757709291800528, Stdev: 0.12672989193586745 with: {'batch_size': 20, 'epochs': 30}\n",
      "Means: 0.47577092812975075, Stdev: 0.08628837030581885 with: {'batch_size': 20, 'epochs': 60}\n",
      "Means: 0.4889867910335768, Stdev: 0.08894628178698452 with: {'batch_size': 20, 'epochs': 90}\n",
      "Means: 0.4889867784299514, Stdev: 0.08894628394859308 with: {'batch_size': 40, 'epochs': 30}\n",
      "Means: 0.524229075349375, Stdev: 0.08628838145129525 with: {'batch_size': 40, 'epochs': 60}\n",
      "Means: 0.5462555116625084, Stdev: 0.0767669237337744 with: {'batch_size': 40, 'epochs': 90}\n",
      "Means: 0.4889867905740696, Stdev: 0.08894627777438986 with: {'batch_size': 60, 'epochs': 30}\n",
      "Means: 0.5110132150713043, Stdev: 0.08894628076547172 with: {'batch_size': 60, 'epochs': 60}\n",
      "Means: 0.49779736299871874, Stdev: 0.08959844789503058 with: {'batch_size': 60, 'epochs': 90}\n",
      "Means: 0.5242290792223641, Stdev: 0.08628837628624599 with: {'batch_size': 80, 'epochs': 30}\n",
      "Means: 0.5242290792223641, Stdev: 0.08628837628624599 with: {'batch_size': 80, 'epochs': 60}\n",
      "Means: 0.4537444901098764, Stdev: 0.07676690606166567 with: {'batch_size': 80, 'epochs': 90}\n"
     ]
    }
   ],
   "source": [
    "# define the grid search parameters\n",
    "param_grid = {'batch_size': [10, 20, 40, 60, 80],\n",
    "              'epochs': [30, 60, 90]}\n",
    "\n",
    "# create model\n",
    "model = KerasClassifier(build_fn=create_model, \n",
    "                               epochs=epochs,\n",
    "                               batch_size=batch_size,\n",
    "                               verbose=0)\n",
    "\n",
    "# Create Grid Search\n",
    "grid = GridSearchCV(estimator=model, \n",
    "                    param_grid=param_grid, \n",
    "                    cv=5,\n",
    "                    n_jobs=1)\n",
    "grid_result = grid.fit(X_train, y_train)\n",
    "\n",
    "# Report Results\n",
    "print(f\"Best: {grid_result.best_score_} using {grid_result.best_params_}\")\n",
    "means = grid_result.cv_results_['mean_test_score']\n",
    "stds = grid_result.cv_results_['std_test_score']\n",
    "params = grid_result.cv_results_['params']\n",
    "for mean, stdev, param in zip(means, stds, params):\n",
    "    print(f\"Means: {mean}, Stdev: {stdev} with: {param}\") "
   ]
  },
  {
   "cell_type": "markdown",
   "metadata": {},
   "source": [
    "### Optimizer\n",
    "\n",
    "Still not very good. I suspect our optimizer/learning rate is poorly specified.\n",
    "\n",
    "Let's try out some different optimizers and learning rates."
   ]
  },
  {
   "cell_type": "code",
   "execution_count": 73,
   "metadata": {},
   "outputs": [
    {
     "name": "stderr",
     "output_type": "stream",
     "text": [
      "/Users/zach/anaconda3/lib/python3.6/site-packages/sklearn/model_selection/_search.py:841: DeprecationWarning: The default of the `iid` parameter will change from True to False in version 0.22 and will be removed in 0.24. This will change numeric results when test-set sizes are unequal.\n",
      "  DeprecationWarning)\n"
     ]
    },
    {
     "name": "stdout",
     "output_type": "stream",
     "text": [
      "Best: 0.7797356754672685 using {'lr': 0.01, 'optimizer': <class 'keras.optimizers.Adam'>}\n",
      "Means: 0.5462555159950047, Stdev: 0.033552196045384924 with: {'lr': 0.01, 'optimizer': <class 'keras.optimizers.SGD'>}\n",
      "Means: 0.7797356754672685, Stdev: 0.01521847293301942 with: {'lr': 0.01, 'optimizer': <class 'keras.optimizers.Adam'>}\n",
      "Means: 0.7665198185370357, Stdev: 0.01514131870576511 with: {'lr': 0.01, 'optimizer': <class 'keras.optimizers.Nadam'>}\n",
      "Means: 0.5242290832922847, Stdev: 0.05175204079553771 with: {'lr': 0.001, 'optimizer': <class 'keras.optimizers.SGD'>}\n",
      "Means: 0.6872246730170061, Stdev: 0.13890650084315634 with: {'lr': 0.001, 'optimizer': <class 'keras.optimizers.Adam'>}\n",
      "Means: 0.5462555159950047, Stdev: 0.033552196045384924 with: {'lr': 0.001, 'optimizer': <class 'keras.optimizers.Nadam'>}\n",
      "Means: 0.4845815081690902, Stdev: 0.05502355653536972 with: {'lr': 0.0001, 'optimizer': <class 'keras.optimizers.SGD'>}\n",
      "Means: 0.5242290832922847, Stdev: 0.05175204079553771 with: {'lr': 0.0001, 'optimizer': <class 'keras.optimizers.Adam'>}\n",
      "Means: 0.5242290832922847, Stdev: 0.05175204079553771 with: {'lr': 0.0001, 'optimizer': <class 'keras.optimizers.Nadam'>}\n",
      "Means: 0.5242290832922847, Stdev: 0.05175204079553771 with: {'lr': 1e-05, 'optimizer': <class 'keras.optimizers.SGD'>}\n",
      "Means: 0.5154185071915782, Stdev: 0.05502355619207511 with: {'lr': 1e-05, 'optimizer': <class 'keras.optimizers.Adam'>}\n",
      "Means: 0.5462555159950047, Stdev: 0.033552196045384924 with: {'lr': 1e-05, 'optimizer': <class 'keras.optimizers.Nadam'>}\n"
     ]
    }
   ],
   "source": [
    "# create model\n",
    "model = KerasClassifier(build_fn=create_model, \n",
    "                               epochs=30,\n",
    "                               batch_size=10,\n",
    "                               verbose=0)\n",
    "\n",
    "# define the grid search parameters\n",
    "param_grid = {'optimizer': [SGD, Adam, Nadam],\n",
    "              'lr': [.01, .001, .0001, .00001]}\n",
    "\n",
    "# Create Grid Search\n",
    "grid = GridSearchCV(estimator=model, param_grid=param_grid, n_jobs=-1)\n",
    "grid_result = grid.fit(X_train, y_train)\n",
    "\n",
    "# Report Results\n",
    "print(f\"Best: {grid_result.best_score_} using {grid_result.best_params_}\")\n",
    "means = grid_result.cv_results_['mean_test_score']\n",
    "stds = grid_result.cv_results_['std_test_score']\n",
    "params = grid_result.cv_results_['params']\n",
    "for mean, stdev, param in zip(means, stds, params):\n",
    "    print(f\"Means: {mean}, Stdev: {stdev} with: {param}\") "
   ]
  },
  {
   "cell_type": "markdown",
   "metadata": {},
   "source": [
    "### Activation Functions\n",
    "\n",
    "Learning rate and optimizer made a big difference for us! We'll stick with Adam and LR=0.01 from now on.\n",
    "\n",
    "Let's test out a few activation functions."
   ]
  },
  {
   "cell_type": "code",
   "execution_count": 74,
   "metadata": {},
   "outputs": [
    {
     "name": "stderr",
     "output_type": "stream",
     "text": [
      "/Users/zach/anaconda3/lib/python3.6/site-packages/sklearn/externals/joblib/externals/loky/process_executor.py:706: UserWarning: A worker stopped while some jobs were given to the executor. This can be caused by a too short worker timeout or by a memory leak.\n",
      "  \"timeout or by a memory leak.\", UserWarning\n"
     ]
    },
    {
     "name": "stdout",
     "output_type": "stream",
     "text": [
      "Best: 0.7797356846574119 using {'activation': 'relu', 'lr': 0.01, 'optimizer': <class 'keras.optimizers.Adam'>}\n",
      "Means: 0.7797356762549951, Stdev: 0.00486859543559746 with: {'activation': 'sigmoid', 'lr': 0.01, 'optimizer': <class 'keras.optimizers.Adam'>}\n",
      "Means: 0.7797356775678727, Stdev: 0.013863117810513203 with: {'activation': 'tanh', 'lr': 0.01, 'optimizer': <class 'keras.optimizers.Adam'>}\n",
      "Means: 0.7797356846574119, Stdev: 0.021528095280969405 with: {'activation': 'relu', 'lr': 0.01, 'optimizer': <class 'keras.optimizers.Adam'>}\n"
     ]
    }
   ],
   "source": [
    "# create model\n",
    "model = KerasClassifier(build_fn=create_model, \n",
    "                               epochs=30,\n",
    "                               batch_size=10,\n",
    "                               verbose=0)\n",
    "\n",
    "# define the grid search parameters\n",
    "param_grid = {'activation': ['sigmoid', 'tanh', 'relu'],\n",
    "              'optimizer': [Adam],\n",
    "              'lr': [.01]}\n",
    "\n",
    "# Create Grid Search\n",
    "grid = GridSearchCV(estimator=model, param_grid=param_grid, n_jobs=-1)\n",
    "grid_result = grid.fit(X_train, y_train)\n",
    "\n",
    "# Report Results\n",
    "print(f\"Best: {grid_result.best_score_} using {grid_result.best_params_}\")\n",
    "means = grid_result.cv_results_['mean_test_score']\n",
    "stds = grid_result.cv_results_['std_test_score']\n",
    "params = grid_result.cv_results_['params']\n",
    "for mean, stdev, param in zip(means, stds, params):\n",
    "    print(f\"Means: {mean}, Stdev: {stdev} with: {param}\") "
   ]
  },
  {
   "cell_type": "markdown",
   "metadata": {},
   "source": [
    "### Network Weight Initialization\n",
    "\n",
    "Relu seems to give *slightly* better results.\n",
    "\n",
    "Let's look at some different network weight initializations."
   ]
  },
  {
   "cell_type": "code",
   "execution_count": 77,
   "metadata": {},
   "outputs": [
    {
     "name": "stderr",
     "output_type": "stream",
     "text": [
      "/Users/zach/anaconda3/lib/python3.6/site-packages/sklearn/model_selection/_search.py:841: DeprecationWarning: The default of the `iid` parameter will change from True to False in version 0.22 and will be removed in 0.24. This will change numeric results when test-set sizes are unequal.\n",
      "  DeprecationWarning)\n"
     ]
    },
    {
     "name": "stdout",
     "output_type": "stream",
     "text": [
      "Best: 0.8061673979927265 using {'activation': 'relu', 'lr': 0.01, 'optimizer': <class 'keras.optimizers.Adam'>, 'weight_initializer': 'random_uniform'}\n",
      "Means: 0.7885462541937303, Stdev: 0.045826304959705015 with: {'activation': 'relu', 'lr': 0.01, 'optimizer': <class 'keras.optimizers.Adam'>, 'weight_initializer': 'glorot_uniform'}\n",
      "Means: 0.8061673979927265, Stdev: 0.005033634466795536 with: {'activation': 'relu', 'lr': 0.01, 'optimizer': <class 'keras.optimizers.Adam'>, 'weight_initializer': 'random_uniform'}\n",
      "Means: 0.6916299608704277, Stdev: 0.1123605559438172 with: {'activation': 'relu', 'lr': 0.01, 'optimizer': <class 'keras.optimizers.Adam'>, 'weight_initializer': 'random_normal'}\n"
     ]
    }
   ],
   "source": [
    "# create model\n",
    "model = KerasClassifier(build_fn=create_model, \n",
    "                               epochs=30,\n",
    "                               batch_size=10,\n",
    "                               verbose=0)\n",
    "\n",
    "# define the grid search parameters\n",
    "param_grid = {'weight_initializer': ['glorot_uniform', \n",
    "                                     'random_uniform', \n",
    "                                     'random_normal'],\n",
    "              'activation' : ['relu'],\n",
    "             'optimizer' : [Adam],\n",
    "             'lr' : [0.01]}\n",
    "\n",
    "# Create Grid Search\n",
    "grid = GridSearchCV(estimator=model, param_grid=param_grid, n_jobs=-1)\n",
    "grid_result = grid.fit(X_train, y_train)\n",
    "\n",
    "# Report Results\n",
    "print(f\"Best: {grid_result.best_score_} using {grid_result.best_params_}\")\n",
    "means = grid_result.cv_results_['mean_test_score']\n",
    "stds = grid_result.cv_results_['std_test_score']\n",
    "params = grid_result.cv_results_['params']\n",
    "for mean, stdev, param in zip(means, stds, params):\n",
    "    print(f\"Means: {mean}, Stdev: {stdev} with: {param}\") "
   ]
  },
  {
   "cell_type": "markdown",
   "metadata": {},
   "source": [
    "### Dropout Regularization\n",
    "\n",
    "Random uniform gave us slightly better results.\n",
    "\n",
    "Let's test out the use of dropout regularization."
   ]
  },
  {
   "cell_type": "code",
   "execution_count": 78,
   "metadata": {},
   "outputs": [
    {
     "name": "stdout",
     "output_type": "stream",
     "text": [
      "WARNING:tensorflow:From /Users/zach/anaconda3/lib/python3.6/site-packages/keras/backend/tensorflow_backend.py:3445: calling dropout (from tensorflow.python.ops.nn_ops) with keep_prob is deprecated and will be removed in a future version.\n",
      "Instructions for updating:\n",
      "Please use `rate` instead of `keep_prob`. Rate should be set to `rate = 1 - keep_prob`.\n"
     ]
    },
    {
     "name": "stderr",
     "output_type": "stream",
     "text": [
      "/Users/zach/anaconda3/lib/python3.6/site-packages/sklearn/model_selection/_search.py:841: DeprecationWarning: The default of the `iid` parameter will change from True to False in version 0.22 and will be removed in 0.24. This will change numeric results when test-set sizes are unequal.\n",
      "  DeprecationWarning)\n"
     ]
    },
    {
     "name": "stdout",
     "output_type": "stream",
     "text": [
      "Best: 0.7753303993641018 using {'activation': 'relu', 'dropout': False, 'dropout_pct': 0.2, 'lr': 0.01, 'optimizer': <class 'keras.optimizers.Adam'>, 'weight_initializer': 'random_uniform'}\n",
      "Means: 0.7224669590395453, Stdev: 0.09472069582062491 with: {'activation': 'relu', 'dropout': True, 'dropout_pct': 0.1, 'lr': 0.01, 'optimizer': <class 'keras.optimizers.Adam'>, 'weight_initializer': 'random_uniform'}\n",
      "Means: 0.7709251080315543, Stdev: 0.0337885577851833 with: {'activation': 'relu', 'dropout': True, 'dropout_pct': 0.2, 'lr': 0.01, 'optimizer': <class 'keras.optimizers.Adam'>, 'weight_initializer': 'random_uniform'}\n",
      "Means: 0.7356828185955333, Stdev: 0.10206357915174222 with: {'activation': 'relu', 'dropout': True, 'dropout_pct': 0.3, 'lr': 0.01, 'optimizer': <class 'keras.optimizers.Adam'>, 'weight_initializer': 'random_uniform'}\n",
      "Means: 0.7400881033636925, Stdev: 0.10564713566135996 with: {'activation': 'relu', 'dropout': False, 'dropout_pct': 0.1, 'lr': 0.01, 'optimizer': <class 'keras.optimizers.Adam'>, 'weight_initializer': 'random_uniform'}\n",
      "Means: 0.7753303993641018, Stdev: 0.04910156302727074 with: {'activation': 'relu', 'dropout': False, 'dropout_pct': 0.2, 'lr': 0.01, 'optimizer': <class 'keras.optimizers.Adam'>, 'weight_initializer': 'random_uniform'}\n",
      "Means: 0.7004405264681132, Stdev: 0.11750604853095319 with: {'activation': 'relu', 'dropout': False, 'dropout_pct': 0.3, 'lr': 0.01, 'optimizer': <class 'keras.optimizers.Adam'>, 'weight_initializer': 'random_uniform'}\n"
     ]
    }
   ],
   "source": [
    "# create model\n",
    "model = KerasClassifier(build_fn=create_model, \n",
    "                               epochs=30,\n",
    "                               batch_size=10,\n",
    "                               verbose=0)\n",
    "\n",
    "# define the grid search parameters\n",
    "param_grid = {'dropout' : [True, False],\n",
    "             'dropout_pct' : [0.1, 0.2, 0.3],\n",
    "              'weight_initializer': ['random_uniform'],\n",
    "              'activation' : ['relu'],\n",
    "             'optimizer' : [Adam],\n",
    "             'lr' : [0.01]}\n",
    "\n",
    "# Create Grid Search\n",
    "grid = GridSearchCV(estimator=model, param_grid=param_grid, n_jobs=-1)\n",
    "grid_result = grid.fit(X_train, y_train)\n",
    "\n",
    "# Report Results\n",
    "print(f\"Best: {grid_result.best_score_} using {grid_result.best_params_}\")\n",
    "means = grid_result.cv_results_['mean_test_score']\n",
    "stds = grid_result.cv_results_['std_test_score']\n",
    "params = grid_result.cv_results_['params']\n",
    "for mean, stdev, param in zip(means, stds, params):\n",
    "    print(f\"Means: {mean}, Stdev: {stdev} with: {param}\") "
   ]
  },
  {
   "cell_type": "markdown",
   "metadata": {},
   "source": [
    "### Number of Neurons in Hidden Layers and Number of Hidden Layers\n",
    "\n",
    "I suspect that dropout may actually be helpful if we add more neurons. I'll re-tune that parameter after we tune the neuron count."
   ]
  },
  {
   "cell_type": "code",
   "execution_count": 81,
   "metadata": {},
   "outputs": [
    {
     "name": "stderr",
     "output_type": "stream",
     "text": [
      "/Users/zach/anaconda3/lib/python3.6/site-packages/sklearn/model_selection/_search.py:841: DeprecationWarning: The default of the `iid` parameter will change from True to False in version 0.22 and will be removed in 0.24. This will change numeric results when test-set sizes are unequal.\n",
      "  DeprecationWarning)\n"
     ]
    },
    {
     "name": "stdout",
     "output_type": "stream",
     "text": [
      "Best: 0.8149779675290448 using {'activation': 'relu', 'dense_layers': 1, 'dense_nodes': 5, 'lr': 0.01, 'optimizer': <class 'keras.optimizers.Adam'>, 'weight_initializer': 'random_uniform'}\n",
      "Means: 0.8149779675290448, Stdev: 0.021564989582932906 with: {'activation': 'relu', 'dense_layers': 1, 'dense_nodes': 5, 'lr': 0.01, 'optimizer': <class 'keras.optimizers.Adam'>, 'weight_initializer': 'random_uniform'}\n",
      "Means: 0.7665198298277834, Stdev: 0.04742083036873768 with: {'activation': 'relu', 'dense_layers': 1, 'dense_nodes': 10, 'lr': 0.01, 'optimizer': <class 'keras.optimizers.Adam'>, 'weight_initializer': 'random_uniform'}\n",
      "Means: 0.7709251119701873, Stdev: 0.0316753038246943 with: {'activation': 'relu', 'dense_layers': 1, 'dense_nodes': 15, 'lr': 0.01, 'optimizer': <class 'keras.optimizers.Adam'>, 'weight_initializer': 'random_uniform'}\n",
      "Means: 0.8017621137497184, Stdev: 0.02054181555003272 with: {'activation': 'relu', 'dense_layers': 1, 'dense_nodes': 20, 'lr': 0.01, 'optimizer': <class 'keras.optimizers.Adam'>, 'weight_initializer': 'random_uniform'}\n",
      "Means: 0.7753303967383465, Stdev: 0.01800692338194564 with: {'activation': 'relu', 'dense_layers': 1, 'dense_nodes': 25, 'lr': 0.01, 'optimizer': <class 'keras.optimizers.Adam'>, 'weight_initializer': 'random_uniform'}\n",
      "Means: 0.7753303993641018, Stdev: 0.019411428798401256 with: {'activation': 'relu', 'dense_layers': 2, 'dense_nodes': 5, 'lr': 0.01, 'optimizer': <class 'keras.optimizers.Adam'>, 'weight_initializer': 'random_uniform'}\n",
      "Means: 0.7841409694255711, Stdev: 0.00566831506225597 with: {'activation': 'relu', 'dense_layers': 2, 'dense_nodes': 10, 'lr': 0.01, 'optimizer': <class 'keras.optimizers.Adam'>, 'weight_initializer': 'random_uniform'}\n",
      "Means: 0.7797356820316567, Stdev: 0.015218469868713336 with: {'activation': 'relu', 'dense_layers': 2, 'dense_nodes': 15, 'lr': 0.01, 'optimizer': <class 'keras.optimizers.Adam'>, 'weight_initializer': 'random_uniform'}\n",
      "Means: 0.7797356820316567, Stdev: 0.025940380866681288 with: {'activation': 'relu', 'dense_layers': 2, 'dense_nodes': 20, 'lr': 0.01, 'optimizer': <class 'keras.optimizers.Adam'>, 'weight_initializer': 'random_uniform'}\n",
      "Means: 0.7709251098695831, Stdev: 0.03675746354090927 with: {'activation': 'relu', 'dense_layers': 2, 'dense_nodes': 25, 'lr': 0.01, 'optimizer': <class 'keras.optimizers.Adam'>, 'weight_initializer': 'random_uniform'}\n"
     ]
    }
   ],
   "source": [
    "# create model\n",
    "model = KerasClassifier(build_fn=create_model, \n",
    "                               epochs=30,\n",
    "                               batch_size=10,\n",
    "                               verbose=0)\n",
    "\n",
    "# define the grid search parameters\n",
    "param_grid = {'dense_layers' : [1,2],\n",
    "              'dense_nodes' : [5, 10, 15, 20, 25],\n",
    "              'weight_initializer': ['random_uniform'],\n",
    "              'activation' : ['relu'],\n",
    "             'optimizer' : [Adam],\n",
    "             'lr' : [0.01]}\n",
    "\n",
    "# Create Grid Search\n",
    "grid = GridSearchCV(estimator=model, param_grid=param_grid, n_jobs=-1)\n",
    "grid_result = grid.fit(X_train, y_train)\n",
    "\n",
    "# Report Results\n",
    "print(f\"Best: {grid_result.best_score_} using {grid_result.best_params_}\")\n",
    "means = grid_result.cv_results_['mean_test_score']\n",
    "stds = grid_result.cv_results_['std_test_score']\n",
    "params = grid_result.cv_results_['params']\n",
    "for mean, stdev, param in zip(means, stds, params):\n",
    "    print(f\"Means: {mean}, Stdev: {stdev} with: {param}\") "
   ]
  },
  {
   "cell_type": "markdown",
   "metadata": {},
   "source": [
    "### Final Best Parameters\n",
    "\n",
    "- Activation : 'relu'\n",
    "- Hidden Layers : 1\n",
    "- Hidden Layer Neurons : 1\n",
    "- Learning Rate : 0.01\n",
    "- Kernel Initializer : 'random_uniform'\n",
    "- Optimizer : Adam\n",
    "\n",
    "However, this all is giving me worse accuracy than the my network from Part III. It could be that my training set is too small for adequate info to be extracted from 3 cross-folds.\n",
    "\n",
    "Let's try one more time with fewer epochs to prevent overfitting, which I suspect will result in better accuracy. now that the other parameters have been tuned."
   ]
  },
  {
   "cell_type": "code",
   "execution_count": 97,
   "metadata": {},
   "outputs": [
    {
     "name": "stdout",
     "output_type": "stream",
     "text": [
      "Epoch 1/5\n",
      "227/227 [==============================] - 7s 32ms/step - loss: 0.6425 - acc: 0.7577\n",
      "Epoch 2/5\n",
      "227/227 [==============================] - 0s 576us/step - loss: 0.4427 - acc: 0.8194\n",
      "Epoch 3/5\n",
      "227/227 [==============================] - 0s 588us/step - loss: 0.3626 - acc: 0.8458\n",
      "Epoch 4/5\n",
      "227/227 [==============================] - 0s 600us/step - loss: 0.3437 - acc: 0.8546\n",
      "Epoch 5/5\n",
      "227/227 [==============================] - 0s 593us/step - loss: 0.3328 - acc: 0.8590\n",
      "Best: 0.8061674024565104 using {'activation': 'relu', 'dense_layers': 1, 'dense_nodes': 5, 'lr': 0.01, 'optimizer': <class 'keras.optimizers.Adam'>, 'weight_initializer': 'random_uniform'}\n",
      "Means: 0.8061674024565104, Stdev: 0.032070329431680956 with: {'activation': 'relu', 'dense_layers': 1, 'dense_nodes': 5, 'lr': 0.01, 'optimizer': <class 'keras.optimizers.Adam'>, 'weight_initializer': 'random_uniform'}\n"
     ]
    }
   ],
   "source": [
    "# create model\n",
    "model = KerasClassifier(build_fn=create_model, \n",
    "                               epochs=5,\n",
    "                               batch_size=10,\n",
    "                               verbose=1)\n",
    "\n",
    "# define the grid search parameters\n",
    "param_grid = {'dense_layers' : [1],\n",
    "              'dense_nodes' : [5],\n",
    "              'weight_initializer': ['random_uniform'],\n",
    "              'activation' : ['relu'],\n",
    "             'optimizer' : [Adam],\n",
    "             'lr' : [0.01]}\n",
    "\n",
    "# Create Grid Search\n",
    "grid = GridSearchCV(estimator=model, param_grid=param_grid, n_jobs=-1)\n",
    "grid_result = grid.fit(X_train, y_train)\n",
    "\n",
    "# Report Results\n",
    "print(f\"Best: {grid_result.best_score_} using {grid_result.best_params_}\")\n",
    "means = grid_result.cv_results_['mean_test_score']\n",
    "stds = grid_result.cv_results_['std_test_score']\n",
    "params = grid_result.cv_results_['params']\n",
    "for mean, stdev, param in zip(means, stds, params):\n",
    "    print(f\"Means: {mean}, Stdev: {stdev} with: {param}\") "
   ]
  },
  {
   "cell_type": "code",
   "execution_count": null,
   "metadata": {},
   "outputs": [],
   "source": []
  }
 ],
 "metadata": {
  "colab": {
   "name": "DS43SC.ipynb",
   "provenance": [],
   "version": "0.3.2"
  },
  "kernelspec": {
   "display_name": "Python 3",
   "language": "python",
   "name": "python3"
  },
  "language_info": {
   "codemirror_mode": {
    "name": "ipython",
    "version": 3
   },
   "file_extension": ".py",
   "mimetype": "text/x-python",
   "name": "python",
   "nbconvert_exporter": "python",
   "pygments_lexer": "ipython3",
   "version": "3.6.8"
  }
 },
 "nbformat": 4,
 "nbformat_minor": 1
}
