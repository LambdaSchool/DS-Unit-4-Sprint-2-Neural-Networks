{
 "cells": [
  {
   "cell_type": "markdown",
   "metadata": {
    "colab_type": "text",
    "id": "dVfaLrjLvxvQ"
   },
   "source": [
    "<img align=\"left\" src=\"https://lever-client-logos.s3.amazonaws.com/864372b1-534c-480e-acd5-9711f850815c-1524247202159.png\" width=200>\n",
    "<br></br>\n",
    "<br></br>\n",
    "\n",
    "# Neural Networks\n",
    "\n",
    "## *Data Science Unit 4 Sprint 2 Assignment 1*"
   ]
  },
  {
   "cell_type": "markdown",
   "metadata": {
    "colab_type": "text",
    "id": "wxtoY12mwmih"
   },
   "source": [
    "## Define the Following:\n",
    "You can add image, diagrams, whatever you need to ensure that you understand the concepts below.\n",
    "\n",
    "### Input Layer:\n",
    "Also known as the visible level, the input layer is what receives input from the dataset; it is the only part of the network that is exposed to the data and interacts with it directly.\n",
    "### Hidden Layer:\n",
    "Hidden layers are layers that come after the input layers in the neural net. They are \"hidden\" because they can only be accessed through the input layer; they are not exposed to the data, so we do not interact with hidden layers directly. Neural networks must have at least one hidden layer to output values. The word \"deep\" in \"deep learning\" is a reference to the depth of a neural network; a neural network is deep when it has multiple layers.\n",
    "### Output Layer:\n",
    "The final layer in a neural network is called an output layer. It outputs a vector of values appropriate for the problem we are using the neural network to solve. For instance, it might output a vector representing the probability that an observed phenomenon belongs to one class rather than to another.\n",
    "### Neuron:\n",
    "Neurons are the basic units in a neural network. A neuron receives a number of inputs, multiplies each input by a weight, sums all of these weighted inputs, adds a bias value to the sum of weighted inputs, and passes the sum of weighted inputs plus the bias value through an activation function.\n",
    "### Weight:\n",
    "Neurons multiply each input by a weight before summing these inputs, adding a bias value, and passing the sum of weighted inputs plus the bias value through an activation function.\n",
    "### Activation Function:\n",
    "Also known as transfer functions, each neuron in a neural network passes the sum of its weighted inputs plus a bias value through an activation function. Each neuron in a given layer usually has the same activation function. The activation function determines how much signal is transferred onto the next layer, determining whether the cell \"fires\" or not.\n",
    "### Node Map:\n",
    "Node maps are visual diagrams showing the architecture of a neural network, flow charts showing the path from input to output.\n",
    "### Perceptron:\n",
    "A perceptron is just a single neuron in a neural network with nothing else. It takes any number of inputs, multiples each of them by a weight, sums the weighted inputs, adds a bias value, passes the sum of weighted inputs plus the bias value through an activation function, and spits out the output."
   ]
  },
  {
   "cell_type": "markdown",
   "metadata": {
    "colab_type": "text",
    "id": "NXuy9WcWzxa4"
   },
   "source": [
    "## Inputs -> Outputs\n",
    "\n",
    "### Explain the flow of information through a neural network from inputs to outputs. Be sure to include: inputs, weights, bias, and activation functions. How does it all flow from beginning to end?"
   ]
  },
  {
   "cell_type": "markdown",
   "metadata": {
    "colab_type": "text",
    "id": "PlSwIJMC0A8F"
   },
   "source": [
    "Each neuron in a neural network receives a number of inputs, multiplies each input by a weight, sums all of these weighted inputs, adds a bias value to the sum of weighted inputs, passes the sum of weighted inputs plus the bias value through an activation function, and spits out the output. In a neural network, some neurons are in the input layer, and others are in hidden layers. Neurons in the input layer take their input from the dataset; neurons in hidden layers have no direct interaction with the dataset, taking their input from neurons in previous layers. The final layer is the output layer; it outputs a vector of values appropriate for the problem we are using the neural network to solve."
   ]
  },
  {
   "cell_type": "markdown",
   "metadata": {
    "colab_type": "text",
    "id": "6sWR43PTwhSk"
   },
   "source": [
    "## Write your own perceptron code that can correctly classify a NAND gate. \n",
    "\n",
    "| x1 | x2 | y |\n",
    "|----|----|---|\n",
    "| 0  | 0  | 1 |\n",
    "| 1  | 0  | 1 |\n",
    "| 0  | 1  | 1 |\n",
    "| 1  | 1  | 0 |"
   ]
  },
  {
   "cell_type": "code",
   "execution_count": 115,
   "metadata": {
    "colab": {},
    "colab_type": "code",
    "id": "Sgh7VFGwnXGH"
   },
   "outputs": [],
   "source": [
    "import numpy as np\n",
    "\n",
    "inputs = np.array([\n",
    "    [0, 0, 1],\n",
    "    [1, 0, 1],\n",
    "    [0, 1, 1],\n",
    "    [1, 1, 1]\n",
    "])\n",
    "\n",
    "correct_outputs = [[1], [1], [1], [0]]"
   ]
  },
  {
   "cell_type": "code",
   "execution_count": 116,
   "metadata": {},
   "outputs": [],
   "source": [
    "def sigmoid(x):\n",
    "    return 1 / (1 + np.exp(-x))\n",
    "\n",
    "def sigmoid_derivative(x):\n",
    "    sx = sigmoid(x)\n",
    "    return sx * (1-sx)"
   ]
  },
  {
   "cell_type": "code",
   "execution_count": 117,
   "metadata": {},
   "outputs": [
    {
     "data": {
      "text/plain": [
       "array([[ 0.9545181 ],\n",
       "       [ 0.23932432],\n",
       "       [-0.8566763 ]])"
      ]
     },
     "execution_count": 117,
     "metadata": {},
     "output_type": "execute_result"
    }
   ],
   "source": [
    "weights = 2 * np.random.random((3, 1)) - 1\n",
    "weights"
   ]
  },
  {
   "cell_type": "code",
   "execution_count": 118,
   "metadata": {},
   "outputs": [
    {
     "name": "stdout",
     "output_type": "stream",
     "text": [
      "Weights after training\n",
      "[[-7.18947003]\n",
      " [-7.18947026]\n",
      " [10.84004041]]\n",
      "Output after training\n",
      "[[0.99998034]\n",
      " [0.97465662]\n",
      " [0.97465662]\n",
      " [0.0282534 ]]\n"
     ]
    }
   ],
   "source": [
    "for iteration in range(1000):\n",
    "    \n",
    "    # Weighted sum of inputs / weights\n",
    "    weighted_sum = np.dot(inputs, weights)\n",
    "    \n",
    "    # Activate!\n",
    "    activated_output = sigmoid(weighted_sum)\n",
    "    \n",
    "    # Cac error\n",
    "    error = correct_outputs - activated_output\n",
    "    \n",
    "    adjustments = error * sigmoid_derivative(activated_output)\n",
    "    \n",
    "    # Update the Weights\n",
    "    weights += np.dot(inputs.T, adjustments)\n",
    "    \n",
    "print(\"Weights after training\")\n",
    "print(weights)\n",
    "\n",
    "print(\"Output after training\")\n",
    "print(activated_output)"
   ]
  },
  {
   "cell_type": "markdown",
   "metadata": {
    "colab_type": "text",
    "id": "Xf7sdqVs0s4x"
   },
   "source": [
    "## Implement your own Perceptron Class and use it to classify a binary dataset like: \n",
    "- [The Pima Indians Diabetes dataset](https://raw.githubusercontent.com/ryanleeallred/datasets/master/diabetes.csv) \n",
    "- [Titanic](https://raw.githubusercontent.com/ryanleeallred/datasets/master/titanic.csv)\n",
    "- [A two-class version of the Iris dataset](https://raw.githubusercontent.com/ryanleeallred/datasets/master/Iris.csv)\n",
    "\n",
    "You may need to search for other's implementations in order to get inspiration for your own. There are *lots* of perceptron implementations on the internet with varying levels of sophistication and complexity. Whatever your approach, make sure you understand **every** line of your implementation and what its purpose is."
   ]
  },
  {
   "cell_type": "code",
   "execution_count": 119,
   "metadata": {
    "colab": {},
    "colab_type": "code",
    "id": "-W0tiX1F1hh2"
   },
   "outputs": [],
   "source": [
    "import pandas as pd\n",
    "\n",
    "url = ('https://raw.githubusercontent.com/ryanleeallred/datasets/master/' +\n",
    "       'titanic.csv')\n",
    "\n",
    "df = pd.read_csv(url, index_col = 0)\n",
    "df['sex'] = df['sex'].replace({'male': 1, 'female': 0})\n",
    "df['embarked'] = df['embarked'].replace({'S': 0, 'C': 1, 'Q': 2})\n",
    "df['class'] = df['class'].replace({'First': 1, 'Second': 2, 'Third': 3})\n",
    "df['deck'] = df['deck'].replace({'A': 0, 'B': 1, 'C': 2, 'D': 3, 'E': 4,\n",
    "                                 'F': 5, 'G': 6})\n",
    "df['alone'] = df['alone'].replace({True: 1, False: 0})\n",
    "df = df.drop(columns=['embark_town', 'who', 'adult_male', 'alive'])\n",
    "df = df.fillna(0)\n",
    "\n",
    "y = df.iloc[0:891, 0].values.reshape(-1, 1)\n",
    "X = df.iloc[0:891, [i for i in range(1, 11)]].values"
   ]
  },
  {
   "cell_type": "code",
   "execution_count": 120,
   "metadata": {},
   "outputs": [],
   "source": [
    "class Perceptron(object):\n",
    "  def __init__(self, rate = 0.01, niter = 10):\n",
    "    self.rate = rate\n",
    "    self.niter = niter\n",
    "\n",
    "  def fit(self, X, y):\n",
    "    \"\"\"Fit training data\n",
    "    X : Training vectors, X.shape : [#samples, #features]\n",
    "    y : Target values, y.shape : [#samples]\n",
    "    \"\"\"\n",
    "\n",
    "    # weights\n",
    "    self.weight = np.zeros(1 + X.shape[1])\n",
    "\n",
    "    # Number of misclassifications\n",
    "    self.errors = []  # Number of misclassifications\n",
    "\n",
    "    for i in range(self.niter):\n",
    "      err = 0\n",
    "      for xi, target in zip(X, y):\n",
    "        delta_w = self.rate * (target - self.predict(xi))\n",
    "        self.weight[1:] += delta_w * xi\n",
    "        self.weight[0] += delta_w\n",
    "        err += int(delta_w != 0.0)\n",
    "      self.errors.append(err)\n",
    "    return self\n",
    "\n",
    "  def net_input(self, X):\n",
    "    \"\"\"Calculate net input\"\"\"\n",
    "    return np.dot(X, self.weight[1:]) + self.weight[0]\n",
    "\n",
    "  def predict(self, X):\n",
    "    \"\"\"Return class label after unit step\"\"\"\n",
    "    return np.where(self.net_input(X) >= 0.0, 1, -1)"
   ]
  },
  {
   "cell_type": "code",
   "execution_count": 121,
   "metadata": {},
   "outputs": [
    {
     "data": {
      "image/png": "[encoded data removed]",
      "text/plain": [
       "<Figure size 432x288 with 1 Axes>"
      ]
     },
     "metadata": {
      "needs_background": "light"
     },
     "output_type": "display_data"
    }
   ],
   "source": [
    "import matplotlib.pyplot as plt\n",
    "\n",
    "pn = Perceptron(0.1, 10)\n",
    "pn.fit(X, y)\n",
    "plt.plot(range(1, len(pn.errors) + 1), pn.errors, marker='o')\n",
    "plt.xlabel('Epochs')\n",
    "plt.ylabel('Number of misclassifications')\n",
    "plt.show()"
   ]
  },
  {
   "cell_type": "markdown",
   "metadata": {
    "colab_type": "text",
    "id": "6QR4oAW1xdyu"
   },
   "source": [
    "## Stretch Goals:\n",
    "\n",
    "- Research \"backpropagation\" to learn how weights get updated in neural networks (tomorrow's lecture). \n",
    "- Implement a multi-layer perceptron. (for non-linearly separable classes)\n",
    "- Try and implement your own backpropagation algorithm.\n",
    "- What are the pros and cons of the different activation functions? How should you decide between them for the different layers of a neural network?"
   ]
  }
 ],
 "metadata": {
  "colab": {
   "collapsed_sections": [],
   "name": "LS_DS_431_Intro_to_NN_Assignment.ipynb",
   "provenance": [],
   "version": "0.3.2"
  },
  "kernelspec": {
   "display_name": "Python 3",
   "language": "python",
   "name": "python3"
  },
  "language_info": {
   "codemirror_mode": {
    "name": "ipython",
    "version": 3
   },
   "file_extension": ".py",
   "mimetype": "text/x-python",
   "name": "python",
   "nbconvert_exporter": "python",
   "pygments_lexer": "ipython3",
   "version": "3.7.3"
  }
 },
 "nbformat": 4,
 "nbformat_minor": 2
}
