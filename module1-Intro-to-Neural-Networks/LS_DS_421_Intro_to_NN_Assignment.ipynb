{
 "cells": [
  {
   "cell_type": "markdown",
   "metadata": {
    "colab_type": "text",
    "id": "dVfaLrjLvxvQ"
   },
   "source": [
    "<img align=\"left\" src=\"https://lever-client-logos.s3.amazonaws.com/864372b1-534c-480e-acd5-9711f850815c-1524247202159.png\" width=200>\n",
    "<br></br>\n",
    "<br></br>\n",
    "\n",
    "# Neural Networks\n",
    "\n",
    "## *Data Science Unit 4 Sprint 2 Assignment 1*"
   ]
  },
  {
   "cell_type": "markdown",
   "metadata": {
    "colab_type": "text",
    "id": "wxtoY12mwmih"
   },
   "source": [
    "## Define the Following:\n",
    "You can add image, diagrams, whatever you need to ensure that you understand the concepts below.\n",
    "\n",
    "### Input Layer: This is where data interacts with the NN directly. It is the only part exposed to our data.\n",
    "### Hidden Layer: These are the layers between the input layer and output layer that do all the magic, but are never interacted with directly.\n",
    "### Output Layer: The output layer produces one or more values in a format useful for the problem that is being attempted.\n",
    "### Neuron: Neurons receive inputs, apply a function to the inputs, and pass the outputs to the next layer of neurons.\n",
    "### Weight: A constant coefficient on an input; it is basically a simple linear function.\n",
    "### Activation Function: A function that determines how much signal any individual node sends to the next layer.\n",
    "### Node Map: A visual diagram showing the type of and relations between each cell.\n",
    "### Perceptron: A simple neural network consisting of a single node, that takes each input value, multiplies it by a weight coefficient, and passes the result through an activation function."
   ]
  },
  {
   "cell_type": "markdown",
   "metadata": {
    "colab_type": "text",
    "id": "NXuy9WcWzxa4"
   },
   "source": [
    "## Inputs -> Outputs\n",
    "\n",
    "### Explain the flow of information through a neural network from inputs to outputs. Be sure to include: inputs, weights, bias, and activation functions. How does it all flow from beginning to end?"
   ]
  },
  {
   "cell_type": "markdown",
   "metadata": {
    "colab_type": "text",
    "id": "PlSwIJMC0A8F"
   },
   "source": [
    "Information first flows into a network through the input nodes, which accept raw input data and insert it into the network. Next, once that data is passed onto the first hidden layer, each node that interacts with it applies weights to each input, adds a bias, and then runs the output through an activation function to determine how much of the output is passed on to the next layer. Next, each node passes on their information to the next hidden layer, and the process repeats. If there are no more hidden layers, the data passes to the output nodes, which parses the information into a format useful for solving the problem."
   ]
  },
  {
   "cell_type": "markdown",
   "metadata": {
    "colab_type": "text",
    "id": "6sWR43PTwhSk"
   },
   "source": [
    "## Write your own perceptron code that can correctly classify (99.0% accuracy) a NAND gate. \n",
    "\n",
    "| x1 | x2 | y |\n",
    "|----|----|---|\n",
    "| 0  | 0  | 1 |\n",
    "| 1  | 0  | 1 |\n",
    "| 0  | 1  | 1 |\n",
    "| 1  | 1  | 0 |"
   ]
  },
  {
   "cell_type": "code",
   "execution_count": 1,
   "metadata": {},
   "outputs": [],
   "source": [
    "import pandas as pd\n",
    "data = { 'x1': [0,1,0,1],\n",
    "         'x2': [0,0,1,1],\n",
    "         'y':  [1,1,1,0]\n",
    "       }\n",
    "\n",
    "df = pd.DataFrame.from_dict(data).astype('int')"
   ]
  },
  {
   "cell_type": "code",
   "execution_count": 2,
   "metadata": {
    "colab": {},
    "colab_type": "code",
    "id": "Sgh7VFGwnXGH"
   },
   "outputs": [],
   "source": [
    "def sigmoid(x):\n",
    "    return 1 / (1 + np.exp(-x))\n",
    "\n",
    "def sigmoid_derivative(x):\n",
    "    sx = sigmoid(x)\n",
    "    return sx * (1 - sx)\n"
   ]
  },
  {
   "cell_type": "code",
   "execution_count": 3,
   "metadata": {},
   "outputs": [],
   "source": [
    "import numpy as np\n",
    "np.random.seed(0)"
   ]
  },
  {
   "cell_type": "code",
   "execution_count": 4,
   "metadata": {},
   "outputs": [
    {
     "name": "stdout",
     "output_type": "stream",
     "text": [
      "array([[0, 0, 1],\n",
      "       [1, 0, 1],\n",
      "       [0, 1, 1],\n",
      "       [1, 1, 0]])\n",
      "array([[1],\n",
      "       [1],\n",
      "       [1],\n",
      "       [0]])\n"
     ]
    }
   ],
   "source": [
    "inputs = df.values\n",
    "correct_outputs = df['y'].values.reshape(-1, 1)\n",
    "print(repr(inputs))\n",
    "print(repr(correct_outputs))"
   ]
  },
  {
   "cell_type": "code",
   "execution_count": 5,
   "metadata": {},
   "outputs": [
    {
     "data": {
      "text/plain": [
       "array([[0.09762701],\n",
       "       [0.43037873],\n",
       "       [0.20552675]])"
      ]
     },
     "execution_count": 5,
     "metadata": {},
     "output_type": "execute_result"
    }
   ],
   "source": [
    "weights = 2 * np.random.random((3, 1)) - 1\n",
    "weights"
   ]
  },
  {
   "cell_type": "code",
   "execution_count": 6,
   "metadata": {},
   "outputs": [
    {
     "data": {
      "text/plain": [
       "array([[0.20552675],\n",
       "       [0.30315376],\n",
       "       [0.63590548],\n",
       "       [0.52800574]])"
      ]
     },
     "execution_count": 6,
     "metadata": {},
     "output_type": "execute_result"
    }
   ],
   "source": [
    "weighted_sum = np.dot(inputs, weights)\n",
    "weighted_sum"
   ]
  },
  {
   "cell_type": "code",
   "execution_count": 7,
   "metadata": {},
   "outputs": [
    {
     "data": {
      "text/plain": [
       "array([[0.55120158],\n",
       "       [0.5752133 ],\n",
       "       [0.6538273 ],\n",
       "       [0.62901786]])"
      ]
     },
     "execution_count": 7,
     "metadata": {},
     "output_type": "execute_result"
    }
   ],
   "source": [
    "activated_output = sigmoid(weighted_sum)\n",
    "activated_output"
   ]
  },
  {
   "cell_type": "code",
   "execution_count": 8,
   "metadata": {},
   "outputs": [
    {
     "data": {
      "text/plain": [
       "array([[ 0.44879842],\n",
       "       [ 0.4247867 ],\n",
       "       [ 0.3461727 ],\n",
       "       [-0.62901786]])"
      ]
     },
     "execution_count": 8,
     "metadata": {},
     "output_type": "execute_result"
    }
   ],
   "source": [
    "error = correct_outputs - activated_output\n",
    "error"
   ]
  },
  {
   "cell_type": "code",
   "execution_count": 9,
   "metadata": {},
   "outputs": [
    {
     "data": {
      "text/plain": [
       "array([[ 0.11102303],\n",
       "       [ 0.10379364],\n",
       "       [ 0.07835174],\n",
       "       [-0.14678408]])"
      ]
     },
     "execution_count": 9,
     "metadata": {},
     "output_type": "execute_result"
    }
   ],
   "source": [
    "adjustments = error * sigmoid_derivative(weighted_sum)\n",
    "adjustments"
   ]
  },
  {
   "cell_type": "code",
   "execution_count": 10,
   "metadata": {},
   "outputs": [
    {
     "data": {
      "text/plain": [
       "array([[0.05463657],\n",
       "       [0.3619464 ],\n",
       "       [0.49869517]])"
      ]
     },
     "execution_count": 10,
     "metadata": {},
     "output_type": "execute_result"
    }
   ],
   "source": [
    "weights += np.dot(inputs.T, adjustments)\n",
    "weights"
   ]
  },
  {
   "cell_type": "code",
   "execution_count": 11,
   "metadata": {},
   "outputs": [],
   "source": [
    "for iteration in range(10000):\n",
    "    weighted_sum = np.dot(inputs, weights)\n",
    "    \n",
    "    activated_output = sigmoid(weighted_sum)\n",
    "    \n",
    "    error = correct_outputs - activated_output\n",
    "    \n",
    "    adjustments = error * sigmoid_derivative(weighted_sum)\n",
    "    \n",
    "    weights += np.dot(inputs.T, adjustments)"
   ]
  },
  {
   "cell_type": "code",
   "execution_count": 12,
   "metadata": {},
   "outputs": [
    {
     "name": "stdout",
     "output_type": "stream",
     "text": [
      "Weights after training:\n",
      "array([[-2.41089422],\n",
      "       [-2.40961964],\n",
      "       [ 7.49030711]])\n",
      "Output after training\n",
      "array([[0.9994418 ],\n",
      "       [0.99381462],\n",
      "       [0.99382245],\n",
      "       [0.00799856]])\n"
     ]
    }
   ],
   "source": [
    "print(\"Weights after training:\")\n",
    "print(repr(weights))\n",
    "\n",
    "print(\"Output after training\")\n",
    "print(repr(activated_output))"
   ]
  },
  {
   "cell_type": "markdown",
   "metadata": {
    "colab_type": "text",
    "id": "Xf7sdqVs0s4x"
   },
   "source": [
    "## Implement your own Perceptron Class and use it to classify a binary dataset: \n",
    "- [The Pima Indians Diabetes dataset](https://raw.githubusercontent.com/ryanleeallred/datasets/master/diabetes.csv) \n",
    "\n",
    "You may need to search for other's implementations in order to get inspiration for your own. There are *lots* of perceptron implementations on the internet with varying levels of sophistication and complexity. Whatever your approach, make sure you understand **every** line of your implementation and what its purpose is."
   ]
  },
  {
   "cell_type": "code",
   "execution_count": 13,
   "metadata": {},
   "outputs": [
    {
     "data": {
      "text/html": [
       "<div>\n",
       "<style scoped>\n",
       "    .dataframe tbody tr th:only-of-type {\n",
       "        vertical-align: middle;\n",
       "    }\n",
       "\n",
       "    .dataframe tbody tr th {\n",
       "        vertical-align: top;\n",
       "    }\n",
       "\n",
       "    .dataframe thead th {\n",
       "        text-align: right;\n",
       "    }\n",
       "</style>\n",
       "<table border=\"1\" class=\"dataframe\">\n",
       "  <thead>\n",
       "    <tr style=\"text-align: right;\">\n",
       "      <th></th>\n",
       "      <th>Pregnancies</th>\n",
       "      <th>Glucose</th>\n",
       "      <th>BloodPressure</th>\n",
       "      <th>SkinThickness</th>\n",
       "      <th>Insulin</th>\n",
       "      <th>BMI</th>\n",
       "      <th>DiabetesPedigreeFunction</th>\n",
       "      <th>Age</th>\n",
       "      <th>Outcome</th>\n",
       "    </tr>\n",
       "  </thead>\n",
       "  <tbody>\n",
       "    <tr>\n",
       "      <td>0</td>\n",
       "      <td>6</td>\n",
       "      <td>148</td>\n",
       "      <td>72</td>\n",
       "      <td>35</td>\n",
       "      <td>0</td>\n",
       "      <td>33.6</td>\n",
       "      <td>0.627</td>\n",
       "      <td>50</td>\n",
       "      <td>1</td>\n",
       "    </tr>\n",
       "    <tr>\n",
       "      <td>1</td>\n",
       "      <td>1</td>\n",
       "      <td>85</td>\n",
       "      <td>66</td>\n",
       "      <td>29</td>\n",
       "      <td>0</td>\n",
       "      <td>26.6</td>\n",
       "      <td>0.351</td>\n",
       "      <td>31</td>\n",
       "      <td>0</td>\n",
       "    </tr>\n",
       "    <tr>\n",
       "      <td>2</td>\n",
       "      <td>8</td>\n",
       "      <td>183</td>\n",
       "      <td>64</td>\n",
       "      <td>0</td>\n",
       "      <td>0</td>\n",
       "      <td>23.3</td>\n",
       "      <td>0.672</td>\n",
       "      <td>32</td>\n",
       "      <td>1</td>\n",
       "    </tr>\n",
       "    <tr>\n",
       "      <td>3</td>\n",
       "      <td>1</td>\n",
       "      <td>89</td>\n",
       "      <td>66</td>\n",
       "      <td>23</td>\n",
       "      <td>94</td>\n",
       "      <td>28.1</td>\n",
       "      <td>0.167</td>\n",
       "      <td>21</td>\n",
       "      <td>0</td>\n",
       "    </tr>\n",
       "    <tr>\n",
       "      <td>4</td>\n",
       "      <td>0</td>\n",
       "      <td>137</td>\n",
       "      <td>40</td>\n",
       "      <td>35</td>\n",
       "      <td>168</td>\n",
       "      <td>43.1</td>\n",
       "      <td>2.288</td>\n",
       "      <td>33</td>\n",
       "      <td>1</td>\n",
       "    </tr>\n",
       "  </tbody>\n",
       "</table>\n",
       "</div>"
      ],
      "text/plain": [
       "   Pregnancies  Glucose  BloodPressure  SkinThickness  Insulin   BMI  \\\n",
       "0            6      148             72             35        0  33.6   \n",
       "1            1       85             66             29        0  26.6   \n",
       "2            8      183             64              0        0  23.3   \n",
       "3            1       89             66             23       94  28.1   \n",
       "4            0      137             40             35      168  43.1   \n",
       "\n",
       "   DiabetesPedigreeFunction  Age  Outcome  \n",
       "0                     0.627   50        1  \n",
       "1                     0.351   31        0  \n",
       "2                     0.672   32        1  \n",
       "3                     0.167   21        0  \n",
       "4                     2.288   33        1  "
      ]
     },
     "execution_count": 13,
     "metadata": {},
     "output_type": "execute_result"
    }
   ],
   "source": [
    "diabetes = pd.read_csv('https://raw.githubusercontent.com/ryanleeallred/datasets/master/diabetes.csv')\n",
    "diabetes.head()"
   ]
  },
  {
   "cell_type": "markdown",
   "metadata": {},
   "source": [
    "Although neural networks can handle non-normalized data, scaling or normalizing your data will improve your neural network's learning speed. Try to apply the sklearn `MinMaxScaler` or `Normalizer` to your diabetes dataset. "
   ]
  },
  {
   "cell_type": "code",
   "execution_count": 52,
   "metadata": {},
   "outputs": [],
   "source": [
    "from sklearn.preprocessing import MinMaxScaler, Normalizer\n",
    "from sklearn.model_selection import train_test_split\n",
    "from sklearn.pipeline import make_pipeline\n",
    "from sklearn.metrics import accuracy_score\n",
    "feats = list(diabetes)[:-1]\n",
    "\n",
    "train, test = train_test_split(diabetes, random_state=0)\n",
    "\n",
    "X_train = train[feats]\n",
    "y_train = train[\"Outcome\"].values\n",
    "X_test = test[feats]\n",
    "y_test = test[\"Outcome\"].values\n",
    "\n",
    "pipeline = make_pipeline(\n",
    "    Normalizer(norm='max')\n",
    ")\n",
    "\n",
    "X_train_transformed = pipeline.fit_transform(X_train, y_train)\n",
    "X_test_transformed = pipeline.transform(X_test)"
   ]
  },
  {
   "cell_type": "code",
   "execution_count": 71,
   "metadata": {
    "colab": {},
    "colab_type": "code",
    "id": "-W0tiX1F1hh2"
   },
   "outputs": [],
   "source": [
    "class Perceptron:\n",
    "    def __init__(self, niter = 10):\n",
    "        self.niter = niter\n",
    "    \n",
    "    def __sigmoid(self, x):\n",
    "        return 1 / (1 + np.exp(-x))\n",
    "    \n",
    "    def __sigmoid_derivative(self, x):\n",
    "        sx = self.__sigmoid(x)\n",
    "        return sx * (1 - sx)\n",
    "    \n",
    "    def __loop(self, X, y=None):\n",
    "        # Weighted sum of inputs / weights\n",
    "        weighted_sum = np.dot(X, self.weights_)\n",
    "        # Activate!\n",
    "        activated_output = self.__sigmoid(weighted_sum)\n",
    "        \n",
    "        # detect if fit call or predict call\n",
    "        if y is None:\n",
    "            return activated_output#.round()\n",
    "        \n",
    "        else:\n",
    "            # Calc error\n",
    "            error = y - activated_output\n",
    "            # Update the Weights\n",
    "            adjustments = error * self.__sigmoid_derivative(weighted_sum)\n",
    "            return self.weights_ + np.dot(X.T, adjustments)\n",
    "        \n",
    "    def fit(self, X, y):\n",
    "        \"\"\"Fit training data\n",
    "        X : Training vectors, X.shape : [#samples, #features]\n",
    "        y : Target values, y.shape : [#samples]\n",
    "        \"\"\"\n",
    "        \n",
    "        if y.ndim == 1:\n",
    "            y_ = y.reshape(-1, 1)\n",
    "        else:\n",
    "            y_ = y.copy()\n",
    "            \n",
    "        # Randomly Initialize Weights\n",
    "        weights = 2 * np.random.random((X.shape[1], 1)) - 1\n",
    "        self.weights_ = weights\n",
    "        \n",
    "        for i in range(self.niter):\n",
    "            self.weights_ = self.__loop(X, y_)\n",
    "        \n",
    "        return self\n",
    "    \n",
    "    def predict(self, X):\n",
    "        \"\"\"Return class label after unit step\"\"\"\n",
    "        return(self.__loop(X))"
   ]
  },
  {
   "cell_type": "code",
   "execution_count": 72,
   "metadata": {},
   "outputs": [],
   "source": [
    "perceptron = Perceptron(niter=100).fit(X_train_transformed, y_train)"
   ]
  },
  {
   "cell_type": "code",
   "execution_count": 43,
   "metadata": {},
   "outputs": [
    {
     "data": {
      "text/plain": [
       "array([[0.9994418 ],\n",
       "       [0.99381462],\n",
       "       [0.99382245],\n",
       "       [0.00799856]])"
      ]
     },
     "execution_count": 43,
     "metadata": {},
     "output_type": "execute_result"
    }
   ],
   "source": [
    "perceptron.outputs_"
   ]
  },
  {
   "cell_type": "code",
   "execution_count": 73,
   "metadata": {},
   "outputs": [
    {
     "data": {
      "text/plain": [
       "array([[2.30221303e-21],\n",
       "       [5.58463851e-32],\n",
       "       [4.32684035e-27],\n",
       "       [4.28751863e-28],\n",
       "       [1.29291542e-23],\n",
       "       [3.92873540e-31],\n",
       "       [1.10210281e-27],\n",
       "       [3.93807941e-29],\n",
       "       [1.00617129e-17],\n",
       "       [4.90946229e-22],\n",
       "       [8.23259868e-22],\n",
       "       [3.84591993e-27],\n",
       "       [3.56423446e-25],\n",
       "       [2.80996314e-25],\n",
       "       [2.69156977e-29],\n",
       "       [1.09272056e-24],\n",
       "       [6.14019120e-27],\n",
       "       [2.33009707e-25],\n",
       "       [1.28058340e-25],\n",
       "       [2.33046418e-30],\n",
       "       [4.36523377e-24],\n",
       "       [1.01655411e-24],\n",
       "       [6.87026755e-19],\n",
       "       [9.85301266e-27],\n",
       "       [2.25341971e-24],\n",
       "       [4.96351062e-23],\n",
       "       [8.48709469e-25],\n",
       "       [1.36970694e-30],\n",
       "       [7.38203251e-24],\n",
       "       [5.32539728e-24],\n",
       "       [7.15298952e-31],\n",
       "       [7.45332160e-31],\n",
       "       [5.04332130e-33],\n",
       "       [7.12051780e-25],\n",
       "       [5.01815613e-25],\n",
       "       [2.47089458e-21],\n",
       "       [2.56413318e-31],\n",
       "       [1.23775320e-29],\n",
       "       [4.10391318e-26],\n",
       "       [1.14004033e-23],\n",
       "       [7.90939351e-29],\n",
       "       [2.63980259e-27],\n",
       "       [1.69016480e-28],\n",
       "       [5.55094912e-21],\n",
       "       [2.97554331e-15],\n",
       "       [2.07101817e-24],\n",
       "       [1.61558288e-27],\n",
       "       [3.75794268e-29],\n",
       "       [3.59823351e-31],\n",
       "       [4.55829251e-24],\n",
       "       [8.41829576e-23],\n",
       "       [3.09653054e-27],\n",
       "       [3.26510245e-20],\n",
       "       [3.97100543e-25],\n",
       "       [4.61953951e-19],\n",
       "       [9.61771856e-16],\n",
       "       [4.64282500e-27],\n",
       "       [3.79428106e-27],\n",
       "       [1.60324845e-22],\n",
       "       [8.18296243e-17],\n",
       "       [4.90049724e-25],\n",
       "       [7.36247923e-19],\n",
       "       [1.22449267e-22],\n",
       "       [1.56796701e-17],\n",
       "       [4.09609707e-21],\n",
       "       [7.91530121e-21],\n",
       "       [4.85065830e-23],\n",
       "       [3.14580641e-24],\n",
       "       [1.68431592e-23],\n",
       "       [4.82549896e-29],\n",
       "       [1.31149036e-23],\n",
       "       [6.90605133e-18],\n",
       "       [2.16199172e-27],\n",
       "       [8.79541194e-23],\n",
       "       [1.34924279e-21],\n",
       "       [1.10738922e-23],\n",
       "       [2.49640365e-27],\n",
       "       [2.40887181e-25],\n",
       "       [9.42958631e-29],\n",
       "       [8.82677244e-27],\n",
       "       [1.12990881e-26],\n",
       "       [3.97617828e-23],\n",
       "       [2.62395087e-29],\n",
       "       [2.56792348e-30],\n",
       "       [1.40744205e-25],\n",
       "       [1.29969307e-27],\n",
       "       [5.31643813e-21],\n",
       "       [3.66028032e-28],\n",
       "       [2.48419421e-28],\n",
       "       [6.81488603e-29],\n",
       "       [2.89093561e-24],\n",
       "       [5.70989016e-24],\n",
       "       [1.40195062e-27],\n",
       "       [6.34839968e-31],\n",
       "       [3.04915325e-26],\n",
       "       [2.88189997e-26],\n",
       "       [5.41585812e-34],\n",
       "       [1.86003124e-20],\n",
       "       [1.31142073e-21],\n",
       "       [1.15953013e-24],\n",
       "       [8.26683531e-18],\n",
       "       [7.75446581e-30],\n",
       "       [1.29538210e-26],\n",
       "       [1.08379318e-27],\n",
       "       [1.55676008e-23],\n",
       "       [1.21022045e-24],\n",
       "       [3.02147847e-31],\n",
       "       [4.11485839e-23],\n",
       "       [1.30077759e-30],\n",
       "       [1.85619967e-20],\n",
       "       [1.27404647e-26],\n",
       "       [4.42183789e-24],\n",
       "       [1.56885499e-22],\n",
       "       [2.33650898e-29],\n",
       "       [1.31822365e-15],\n",
       "       [4.84820060e-23],\n",
       "       [1.54118248e-16],\n",
       "       [2.17517742e-17],\n",
       "       [8.10226917e-26],\n",
       "       [4.07310730e-28],\n",
       "       [2.28670637e-26],\n",
       "       [8.19603933e-30],\n",
       "       [2.51399873e-27],\n",
       "       [1.52790715e-25],\n",
       "       [1.44660869e-25],\n",
       "       [1.35206902e-24],\n",
       "       [1.73085696e-27],\n",
       "       [4.47358170e-25],\n",
       "       [2.06993470e-22],\n",
       "       [8.82421333e-22],\n",
       "       [2.39479834e-29],\n",
       "       [1.14267000e-16],\n",
       "       [1.95066348e-26],\n",
       "       [5.02513551e-14],\n",
       "       [2.69277150e-32],\n",
       "       [3.08824789e-27],\n",
       "       [5.35866625e-23],\n",
       "       [1.11760039e-25],\n",
       "       [2.23985088e-17],\n",
       "       [4.72560931e-22],\n",
       "       [1.02905219e-29],\n",
       "       [2.32024695e-28],\n",
       "       [5.31487041e-23],\n",
       "       [1.41874433e-26],\n",
       "       [3.15766065e-24],\n",
       "       [9.98984887e-24],\n",
       "       [3.70651621e-28],\n",
       "       [2.48385880e-28],\n",
       "       [2.62119528e-25],\n",
       "       [4.94578898e-22],\n",
       "       [6.99028902e-30],\n",
       "       [1.10316894e-23],\n",
       "       [1.71572395e-30],\n",
       "       [1.52378778e-30],\n",
       "       [1.09428673e-29],\n",
       "       [1.36269617e-24],\n",
       "       [3.13596445e-13],\n",
       "       [8.90148242e-26],\n",
       "       [4.48518568e-18],\n",
       "       [1.42936292e-18],\n",
       "       [7.31224777e-28],\n",
       "       [1.75341121e-21],\n",
       "       [7.25209261e-31],\n",
       "       [8.85270217e-29],\n",
       "       [2.69600151e-21],\n",
       "       [1.18111610e-17],\n",
       "       [1.06493013e-27],\n",
       "       [6.16483199e-23],\n",
       "       [3.50312830e-22],\n",
       "       [3.09257960e-27],\n",
       "       [4.01634619e-23],\n",
       "       [3.00293746e-35],\n",
       "       [5.54237658e-25],\n",
       "       [2.95186879e-26],\n",
       "       [2.32996458e-24],\n",
       "       [1.76200607e-33],\n",
       "       [2.11332342e-27],\n",
       "       [3.98906970e-33],\n",
       "       [1.81378939e-31],\n",
       "       [1.26074447e-25],\n",
       "       [1.81125553e-26],\n",
       "       [3.30321842e-25],\n",
       "       [6.64778469e-33],\n",
       "       [2.11059830e-21],\n",
       "       [1.80715360e-22],\n",
       "       [1.83989639e-25],\n",
       "       [7.01360265e-18],\n",
       "       [2.07946809e-23],\n",
       "       [1.99303618e-28],\n",
       "       [4.02520863e-21],\n",
       "       [2.98549122e-24],\n",
       "       [2.04511604e-28]])"
      ]
     },
     "execution_count": 73,
     "metadata": {},
     "output_type": "execute_result"
    }
   ],
   "source": [
    "perceptron.predict(X_test_transformed)"
   ]
  },
  {
   "cell_type": "markdown",
   "metadata": {
    "colab_type": "text",
    "id": "6QR4oAW1xdyu"
   },
   "source": [
    "## Stretch Goals:\n",
    "\n",
    "- Research \"backpropagation\" to learn how weights get updated in neural networks (tomorrow's lecture). \n",
    "- Implement a multi-layer perceptron. (for non-linearly separable classes)\n",
    "- Try and implement your own backpropagation algorithm.\n",
    "- What are the pros and cons of the different activation functions? How should you decide between them for the different layers of a neural network?"
   ]
  },
  {
   "cell_type": "code",
   "execution_count": null,
   "metadata": {},
   "outputs": [],
   "source": []
  }
 ],
 "metadata": {
  "colab": {
   "collapsed_sections": [],
   "name": "LS_DS_431_Intro_to_NN_Assignment.ipynb",
   "provenance": [],
   "version": "0.3.2"
  },
  "kernelspec": {
   "display_name": "Python 3",
   "language": "python",
   "name": "python3"
  },
  "language_info": {
   "codemirror_mode": {
    "name": "ipython",
    "version": 3
   },
   "file_extension": ".py",
   "mimetype": "text/x-python",
   "name": "python",
   "nbconvert_exporter": "python",
   "pygments_lexer": "ipython3",
   "version": "3.7.4"
  }
 },
 "nbformat": 4,
 "nbformat_minor": 4
}
