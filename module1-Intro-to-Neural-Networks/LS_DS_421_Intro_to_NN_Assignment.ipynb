{
 "cells": [
  {
   "cell_type": "code",
   "execution_count": 1,
   "metadata": {
    "ExecuteTime": {
     "end_time": "2019-10-08T05:14:20.583914Z",
     "start_time": "2019-10-08T05:14:18.988124Z"
    }
   },
   "outputs": [],
   "source": [
    "%matplotlib inline\n",
    "\n",
    "import numpy as np\n",
    "import pandas as pd\n",
    "import matplotlib.pyplot as plt\n",
    "import seaborn as sns\n",
    "sns.set()"
   ]
  },
  {
   "cell_type": "markdown",
   "metadata": {
    "colab_type": "text",
    "id": "dVfaLrjLvxvQ"
   },
   "source": [
    "<img align=\"left\" src=\"https://lever-client-logos.s3.amazonaws.com/864372b1-534c-480e-acd5-9711f850815c-1524247202159.png\" width=200>\n",
    "<br></br>\n",
    "<br></br>\n",
    "\n",
    "# Neural Networks\n",
    "\n",
    "## *Data Science Unit 4 Sprint 2 Assignment 1*"
   ]
  },
  {
   "cell_type": "markdown",
   "metadata": {
    "colab_type": "text",
    "id": "wxtoY12mwmih"
   },
   "source": [
    "## Define the Following:\n",
    "You can add image, diagrams, whatever you need to ensure that you understand the concepts below.\n",
    "\n",
    "### Input Layer: \n",
    "Input layer is layer in neural network, which takes inputs from a training set, where size of input layer corresponds to feature size in the data set.\n",
    "\n",
    "### Hidden Layer:\n",
    "Sits between Input Layer and Output layer and applies activation function before passing results to next layer. There are often multiple hidden layers in a neural network.\n",
    "\n",
    "### Output Layer: \n",
    "The final layer in a neural network, that receives inputs from previous Hidden layer, optionally applies an activation function, and returns an output representing model's prediction.\n",
    "\n",
    "### Neuron:\n",
    "\n",
    "A neuron aka perceptron takes a group of weighted inputs, applies an activation function, and returns an output.\n",
    "\n",
    "![](https://i.imgur.com/SLMfH3B.png)\n",
    "\n",
    "### Weight:\n",
    "\n",
    "Weights affect the activation of neurons, as such they are important to learn via backpropogation.\n",
    "\n",
    "### Activation Function:\n",
    "\n",
    "Activation function takes a real value input and outputs another value between 0 and 1. \n",
    "\n",
    "### Node Map:\n",
    "\n",
    "A node map is graph of neural networks with each layer representing different operation.\n",
    "\n",
    "### Perceptron:\n",
    "\n",
    "A perceptron is a single layer of neuron"
   ]
  },
  {
   "cell_type": "markdown",
   "metadata": {
    "colab_type": "text",
    "id": "NXuy9WcWzxa4"
   },
   "source": [
    "## Inputs -> Outputs\n",
    "\n",
    "### Explain the flow of information through a neural network from inputs to outputs. Be sure to include: inputs, weights, bias, and activation functions. How does it all flow from beginning to end?"
   ]
  },
  {
   "cell_type": "markdown",
   "metadata": {
    "colab_type": "text",
    "id": "PlSwIJMC0A8F"
   },
   "source": [
    "![](https://cdn-images-1.medium.com/max/1600/1%2An6sJ4yZQzwKL9wnF5wnVNg.png)"
   ]
  },
  {
   "cell_type": "markdown",
   "metadata": {
    "colab_type": "text",
    "id": "6sWR43PTwhSk"
   },
   "source": [
    "## Write your own perceptron code that can correctly classify (99.0% accuracy) a NAND gate. \n",
    "\n",
    "| x1 | x2 | y |\n",
    "|----|----|---|\n",
    "| 0  | 0  | 1 |\n",
    "| 1  | 0  | 1 |\n",
    "| 0  | 1  | 1 |\n",
    "| 1  | 1  | 0 |"
   ]
  },
  {
   "cell_type": "code",
   "execution_count": 2,
   "metadata": {
    "ExecuteTime": {
     "end_time": "2019-10-08T05:14:20.608078Z",
     "start_time": "2019-10-08T05:14:20.589176Z"
    },
    "scrolled": true
   },
   "outputs": [
    {
     "data": {
      "text/html": [
       "<div>\n",
       "<style scoped>\n",
       "    .dataframe tbody tr th:only-of-type {\n",
       "        vertical-align: middle;\n",
       "    }\n",
       "\n",
       "    .dataframe tbody tr th {\n",
       "        vertical-align: top;\n",
       "    }\n",
       "\n",
       "    .dataframe thead th {\n",
       "        text-align: right;\n",
       "    }\n",
       "</style>\n",
       "<table border=\"1\" class=\"dataframe\">\n",
       "  <thead>\n",
       "    <tr style=\"text-align: right;\">\n",
       "      <th></th>\n",
       "      <th>x1</th>\n",
       "      <th>x2</th>\n",
       "      <th>y</th>\n",
       "    </tr>\n",
       "  </thead>\n",
       "  <tbody>\n",
       "    <tr>\n",
       "      <th>0</th>\n",
       "      <td>0</td>\n",
       "      <td>0</td>\n",
       "      <td>1</td>\n",
       "    </tr>\n",
       "    <tr>\n",
       "      <th>1</th>\n",
       "      <td>1</td>\n",
       "      <td>0</td>\n",
       "      <td>1</td>\n",
       "    </tr>\n",
       "    <tr>\n",
       "      <th>2</th>\n",
       "      <td>0</td>\n",
       "      <td>1</td>\n",
       "      <td>1</td>\n",
       "    </tr>\n",
       "    <tr>\n",
       "      <th>3</th>\n",
       "      <td>1</td>\n",
       "      <td>1</td>\n",
       "      <td>0</td>\n",
       "    </tr>\n",
       "  </tbody>\n",
       "</table>\n",
       "</div>"
      ],
      "text/plain": [
       "   x1  x2  y\n",
       "0   0   0  1\n",
       "1   1   0  1\n",
       "2   0   1  1\n",
       "3   1   1  0"
      ]
     },
     "execution_count": 2,
     "metadata": {},
     "output_type": "execute_result"
    }
   ],
   "source": [
    "data = { 'x1': [0,1,0,1],\n",
    "         'x2': [0,0,1,1],\n",
    "         'y':  [1,1,1,0]\n",
    "       }\n",
    "\n",
    "df = pd.DataFrame.from_dict(data).astype('int')\n",
    "df"
   ]
  },
  {
   "cell_type": "code",
   "execution_count": 3,
   "metadata": {
    "ExecuteTime": {
     "end_time": "2019-10-08T05:14:20.636831Z",
     "start_time": "2019-10-08T05:14:20.610014Z"
    }
   },
   "outputs": [],
   "source": [
    "import pandas as pd\n",
    "import numpy as np\n",
    "import matplotlib.pyplot as plt\n",
    "\n",
    "\n",
    "class Perceptron():\n",
    "\n",
    "    def __init__(self, input_size=2, output_size=1, lr=0.01, niter=10):\n",
    "        self.input_size = input_size\n",
    "        self.output_size = output_size\n",
    "        self.lr = lr\n",
    "        self.niter = niter\n",
    "\n",
    "        # Initialize weights once\n",
    "        self.W = self.__init_weights(type_='custom')\n",
    "        self.b = self.__init_bias()\n",
    "        self.loss = []\n",
    "\n",
    "    def __init_weights(self, type_='custom'):\n",
    "        if type_ == 'uniform':\n",
    "            W = np.random.random(self.input_size, self.output_size)\n",
    "        elif type_ == 'normal':\n",
    "            W = np.random.randn(self.input_size, self.output_size)\n",
    "        elif type_ == 'custom':\n",
    "            W = 2 * np.random.random((self.input_size, self.output_size)) - 1\n",
    "        else:\n",
    "            raise ValueError(\n",
    "                'Parameter passed is wrong type, can only be \"uniform\", \"normal\", or \"custom\"')\n",
    "        return W\n",
    "\n",
    "    def __init_bias(self):\n",
    "        return np.full((1, self.output_size), 0.1)\n",
    "\n",
    "    def __sigmoid(self, X):\n",
    "        return 1 / (1 + np.exp(-X))\n",
    "\n",
    "    def __sigmoid_derivative(self, X):\n",
    "        sx = self.__sigmoid(X)\n",
    "        return sx * (1-sx)\n",
    "\n",
    "    def __feed_forward(self, X):\n",
    "        \"\"\"\n",
    "        Computes Z values, which passing through sigmoid gives prediction probability\n",
    "        \"\"\"\n",
    "        # Weighted sum of inputs / weights + bias\n",
    "        Z = (X @ self.W) + self.b\n",
    "        return Z\n",
    "\n",
    "    def __backprop(self, dO, X):\n",
    "        \"\"\"\n",
    "        Calculate weight adjustments\n",
    "        \"\"\"\n",
    "        dW = np.dot(X.T, dO)\n",
    "        db = np.sum(dO)\n",
    "        return dW, db\n",
    "\n",
    "    def fit(self, X, y):\n",
    "        \"\"\"Fit training data\n",
    "        X : Training vectors, X.shape : [#samples, #features]\n",
    "        y : Target values, y.shape : [#samples]\n",
    "        \"\"\"\n",
    "        try:\n",
    "            y.shape[1]\n",
    "        except IndexError:\n",
    "            y = y.reshape(-1, 1)\n",
    "        \n",
    "        for i in range(self.niter):\n",
    "            # Forward Prop\n",
    "            Z = self.__feed_forward(X)\n",
    "            y_hat = self.__sigmoid(Z)\n",
    "\n",
    "            # Calculate cost/error MAE\n",
    "            E = (y - y_hat)\n",
    "            self.loss.append(np.sum(E.T))\n",
    "\n",
    "            # Calculate adjustments/gradient\n",
    "            dO = E * self.__sigmoid_derivative(y_hat)\n",
    "            dW, db = self.__backprop(dO, X)\n",
    "\n",
    "            # Update the Weights with new gradient\n",
    "            self.W += self.lr * dW\n",
    "            self.b += self.lr * db\n",
    "\n",
    "    def predict_proba(self, X):\n",
    "        \"\"\"Return prediction probabilites\"\"\"\n",
    "        return self.__sigmoid(self.__feed_forward(X))\n",
    "\n",
    "    def predict(self, X, threshold=0.5):\n",
    "        \"\"\"Return class labels\"\"\"\n",
    "        pred_probas = self.predict_proba(X)\n",
    "        return (pred_probas > threshold).astype('int32')\n",
    "\n",
    "    def plot_loss(self):\n",
    "        plt.figure(figsize=(10, 6))\n",
    "        plt.plot(np.arange(1, len(self.loss)+1), np.array(self.loss),\n",
    "                 marker='o', color='steelblue')\n",
    "        plt.xlabel('Epochs')\n",
    "        plt.ylabel('MAE Error')\n",
    "        plt.show()\n",
    "\n",
    "    def accuracy_score(self, y_true, y_pred):\n",
    "        return (y_true == y_pred).sum()"
   ]
  },
  {
   "cell_type": "code",
   "execution_count": 4,
   "metadata": {
    "ExecuteTime": {
     "end_time": "2019-10-08T05:14:20.695075Z",
     "start_time": "2019-10-08T05:14:20.641001Z"
    }
   },
   "outputs": [
    {
     "name": "stdout",
     "output_type": "stream",
     "text": [
      "----- Shape of data ------\n",
      "X.shape: (4, 2)\n",
      "y.shape: (4, 1)\n"
     ]
    }
   ],
   "source": [
    "X = df[['x1', 'x2']].to_numpy()\n",
    "y = df['y'].to_numpy().reshape(-1, 1)\n",
    "\n",
    "print('----- Shape of data ------')\n",
    "print(f'X.shape: {X.shape}')\n",
    "print(f'y.shape: {y.shape}')\n",
    "\n",
    "nand = Perceptron(input_size=2, output_size=1, lr=0.1, niter=1000)\n",
    "nand.fit(X, y)"
   ]
  },
  {
   "cell_type": "code",
   "execution_count": 5,
   "metadata": {
    "ExecuteTime": {
     "end_time": "2019-10-08T05:14:20.705617Z",
     "start_time": "2019-10-08T05:14:20.698132Z"
    }
   },
   "outputs": [
    {
     "name": "stdout",
     "output_type": "stream",
     "text": [
      "Weights after training\n",
      "[[-2.89044989]\n",
      " [-2.88592605]]\n",
      "Bias after training\n",
      "[[4.45858339]]\n",
      "Predict X1: 0, X2: 0, y = [[1]]\n",
      "Predict X1: 0, X2: 1, y = [[1]]\n",
      "Predict X1: 1, X2: 0, y = [[1]]\n",
      "Predict X1: 1, X2: 1, y = [[0]]\n"
     ]
    }
   ],
   "source": [
    "print('Weights after training')\n",
    "print(nand.W)\n",
    "print('Bias after training')\n",
    "print(nand.b)\n",
    "\n",
    "test_X = np.array\n",
    "\n",
    "print(f'Predict X1: 0, X2: 0, y = {nand.predict(np.array([0, 0]))}')\n",
    "print(f'Predict X1: 0, X2: 1, y = {nand.predict(np.array([0, 1]))}')\n",
    "print(f'Predict X1: 1, X2: 0, y = {nand.predict(np.array([1, 0]))}')\n",
    "print(f'Predict X1: 1, X2: 1, y = {nand.predict(np.array([1, 1]))}')"
   ]
  },
  {
   "cell_type": "code",
   "execution_count": 6,
   "metadata": {
    "ExecuteTime": {
     "end_time": "2019-10-08T05:14:21.002185Z",
     "start_time": "2019-10-08T05:14:20.710638Z"
    }
   },
   "outputs": [
    {
     "data": {
      "image/png": "[encoded data removed]",
      "text/plain": [
       "<Figure size 720x432 with 1 Axes>"
      ]
     },
     "metadata": {
      "needs_background": "light"
     },
     "output_type": "display_data"
    }
   ],
   "source": [
    "nand.plot_loss();"
   ]
  },
  {
   "cell_type": "code",
   "execution_count": 7,
   "metadata": {
    "ExecuteTime": {
     "end_time": "2019-10-08T05:14:21.009973Z",
     "start_time": "2019-10-08T05:14:21.004385Z"
    }
   },
   "outputs": [
    {
     "data": {
      "text/plain": [
       "array([[1],\n",
       "       [2],\n",
       "       [3],\n",
       "       [4]])"
      ]
     },
     "execution_count": 7,
     "metadata": {},
     "output_type": "execute_result"
    }
   ],
   "source": [
    "np.array([1, 2, 3, 4]).reshape(-1, 1)"
   ]
  },
  {
   "cell_type": "code",
   "execution_count": 8,
   "metadata": {
    "ExecuteTime": {
     "end_time": "2019-10-08T05:14:21.023089Z",
     "start_time": "2019-10-08T05:14:21.015061Z"
    }
   },
   "outputs": [
    {
     "data": {
      "text/plain": [
       "array([[1, 2, 3, 4]])"
      ]
     },
     "execution_count": 8,
     "metadata": {},
     "output_type": "execute_result"
    }
   ],
   "source": [
    "np.array([1, 2, 3, 4]).reshape(1, -1)"
   ]
  },
  {
   "cell_type": "code",
   "execution_count": 9,
   "metadata": {
    "ExecuteTime": {
     "end_time": "2019-10-08T05:14:21.035237Z",
     "start_time": "2019-10-08T05:14:21.025630Z"
    }
   },
   "outputs": [
    {
     "data": {
      "text/plain": [
       "array([[0, 1, 1]])"
      ]
     },
     "execution_count": 9,
     "metadata": {},
     "output_type": "execute_result"
    }
   ],
   "source": [
    "(np.array([[1, 2, 3]]) > np.array([[1, 1, 1]])).astype(int)"
   ]
  },
  {
   "cell_type": "code",
   "execution_count": 10,
   "metadata": {
    "ExecuteTime": {
     "end_time": "2019-10-08T05:14:21.274093Z",
     "start_time": "2019-10-08T05:14:21.036964Z"
    }
   },
   "outputs": [
    {
     "data": {
      "image/png": "[encoded data removed]",
      "text/plain": [
       "<Figure size 720x432 with 1 Axes>"
      ]
     },
     "metadata": {
      "needs_background": "light"
     },
     "output_type": "display_data"
    }
   ],
   "source": [
    "nand.plot_loss()"
   ]
  },
  {
   "cell_type": "markdown",
   "metadata": {
    "colab_type": "text",
    "id": "Xf7sdqVs0s4x"
   },
   "source": [
    "## Implement your own Perceptron Class and use it to classify a binary dataset: \n",
    "- [The Pima Indians Diabetes dataset](https://raw.githubusercontent.com/ryanleeallred/datasets/master/diabetes.csv) \n",
    "\n",
    "You may need to search for other's implementations in order to get inspiration for your own. There are *lots* of perceptron implementations on the internet with varying levels of sophistication and complexity. Whatever your approach, make sure you understand **every** line of your implementation and what its purpose is."
   ]
  },
  {
   "cell_type": "code",
   "execution_count": 11,
   "metadata": {
    "ExecuteTime": {
     "end_time": "2019-10-08T05:14:21.653925Z",
     "start_time": "2019-10-08T05:14:21.275962Z"
    }
   },
   "outputs": [
    {
     "data": {
      "text/html": [
       "<div>\n",
       "<style scoped>\n",
       "    .dataframe tbody tr th:only-of-type {\n",
       "        vertical-align: middle;\n",
       "    }\n",
       "\n",
       "    .dataframe tbody tr th {\n",
       "        vertical-align: top;\n",
       "    }\n",
       "\n",
       "    .dataframe thead th {\n",
       "        text-align: right;\n",
       "    }\n",
       "</style>\n",
       "<table border=\"1\" class=\"dataframe\">\n",
       "  <thead>\n",
       "    <tr style=\"text-align: right;\">\n",
       "      <th></th>\n",
       "      <th>Pregnancies</th>\n",
       "      <th>Glucose</th>\n",
       "      <th>BloodPressure</th>\n",
       "      <th>SkinThickness</th>\n",
       "      <th>Insulin</th>\n",
       "      <th>BMI</th>\n",
       "      <th>DiabetesPedigreeFunction</th>\n",
       "      <th>Age</th>\n",
       "      <th>Outcome</th>\n",
       "    </tr>\n",
       "  </thead>\n",
       "  <tbody>\n",
       "    <tr>\n",
       "      <th>0</th>\n",
       "      <td>6</td>\n",
       "      <td>148</td>\n",
       "      <td>72</td>\n",
       "      <td>35</td>\n",
       "      <td>0</td>\n",
       "      <td>33.6</td>\n",
       "      <td>0.627</td>\n",
       "      <td>50</td>\n",
       "      <td>1</td>\n",
       "    </tr>\n",
       "    <tr>\n",
       "      <th>1</th>\n",
       "      <td>1</td>\n",
       "      <td>85</td>\n",
       "      <td>66</td>\n",
       "      <td>29</td>\n",
       "      <td>0</td>\n",
       "      <td>26.6</td>\n",
       "      <td>0.351</td>\n",
       "      <td>31</td>\n",
       "      <td>0</td>\n",
       "    </tr>\n",
       "    <tr>\n",
       "      <th>2</th>\n",
       "      <td>8</td>\n",
       "      <td>183</td>\n",
       "      <td>64</td>\n",
       "      <td>0</td>\n",
       "      <td>0</td>\n",
       "      <td>23.3</td>\n",
       "      <td>0.672</td>\n",
       "      <td>32</td>\n",
       "      <td>1</td>\n",
       "    </tr>\n",
       "    <tr>\n",
       "      <th>3</th>\n",
       "      <td>1</td>\n",
       "      <td>89</td>\n",
       "      <td>66</td>\n",
       "      <td>23</td>\n",
       "      <td>94</td>\n",
       "      <td>28.1</td>\n",
       "      <td>0.167</td>\n",
       "      <td>21</td>\n",
       "      <td>0</td>\n",
       "    </tr>\n",
       "    <tr>\n",
       "      <th>4</th>\n",
       "      <td>0</td>\n",
       "      <td>137</td>\n",
       "      <td>40</td>\n",
       "      <td>35</td>\n",
       "      <td>168</td>\n",
       "      <td>43.1</td>\n",
       "      <td>2.288</td>\n",
       "      <td>33</td>\n",
       "      <td>1</td>\n",
       "    </tr>\n",
       "  </tbody>\n",
       "</table>\n",
       "</div>"
      ],
      "text/plain": [
       "   Pregnancies  Glucose  BloodPressure  SkinThickness  Insulin   BMI  \\\n",
       "0            6      148             72             35        0  33.6   \n",
       "1            1       85             66             29        0  26.6   \n",
       "2            8      183             64              0        0  23.3   \n",
       "3            1       89             66             23       94  28.1   \n",
       "4            0      137             40             35      168  43.1   \n",
       "\n",
       "   DiabetesPedigreeFunction  Age  Outcome  \n",
       "0                     0.627   50        1  \n",
       "1                     0.351   31        0  \n",
       "2                     0.672   32        1  \n",
       "3                     0.167   21        0  \n",
       "4                     2.288   33        1  "
      ]
     },
     "execution_count": 11,
     "metadata": {},
     "output_type": "execute_result"
    }
   ],
   "source": [
    "diabetes = pd.read_csv('https://raw.githubusercontent.com/ryanleeallred/datasets/master/diabetes.csv')\n",
    "diabetes.head()"
   ]
  },
  {
   "cell_type": "markdown",
   "metadata": {},
   "source": [
    "Although neural networks can handle non-normalized data, scaling or normalizing your data will improve your neural network's learning speed. Try to apply the sklearn `MinMaxScaler` or `Normalizer` to your diabetes dataset. "
   ]
  },
  {
   "cell_type": "code",
   "execution_count": 12,
   "metadata": {
    "ExecuteTime": {
     "end_time": "2019-10-08T05:14:21.738806Z",
     "start_time": "2019-10-08T05:14:21.656020Z"
    }
   },
   "outputs": [
    {
     "name": "stdout",
     "output_type": "stream",
     "text": [
      "---------- Shape ----------\n",
      "(514, 8) (254, 8)\n",
      "(514,) (254,)\n"
     ]
    }
   ],
   "source": [
    "from sklearn.preprocessing import MinMaxScaler, Normalizer\n",
    "from sklearn.pipeline import Pipeline\n",
    "from sklearn.model_selection import train_test_split\n",
    "from sklearn.metrics import accuracy_score\n",
    "\n",
    "features = list(diabetes)[:-1]\n",
    "target = 'Outcome'\n",
    "\n",
    "# Split train, test, X, y\n",
    "X = diabetes[features].to_numpy()\n",
    "y = diabetes[target].to_numpy()\n",
    "\n",
    "X_train, X_test, y_train, y_test = train_test_split(X, y, test_size=0.33, random_state=42)\n",
    "print(\"---------- Shape ----------\")\n",
    "print(X_train.shape, X_test.shape)\n",
    "print(y_train.shape, y_test.shape)"
   ]
  },
  {
   "cell_type": "code",
   "execution_count": 17,
   "metadata": {
    "ExecuteTime": {
     "end_time": "2019-10-08T05:15:12.223412Z",
     "start_time": "2019-10-08T05:15:11.434747Z"
    }
   },
   "outputs": [
    {
     "name": "stdout",
     "output_type": "stream",
     "text": [
      "Accuracy Train Score: 0.3540856031128405\n",
      "Accuracy Test Score: 0.33858267716535434\n"
     ]
    }
   ],
   "source": [
    "scaler = MinMaxScaler()\n",
    "X_train_scaled = scaler.fit_transform(X_train)\n",
    "X_test_scaled = scaler.transform(X_test)\n",
    "\n",
    "clf = Perceptron(input_size = X_train.shape[1], output_size=1, lr=0.01, niter=10000)\n",
    "\n",
    "\n",
    "clf.fit(X_train_scaled, y_train.reshape(-1, 1))\n",
    "\n",
    "y_test_hat = clf.predict(X_test)\n",
    "y_train_hat = clf.predict(X_train)\n",
    "\n",
    "\n",
    "print(f'Accuracy Train Score: {accuracy_score(y_train, y_train_hat) }')\n",
    "print(f'Accuracy Test Score: {accuracy_score(y_test_hat, y_test)}')"
   ]
  },
  {
   "cell_type": "code",
   "execution_count": 18,
   "metadata": {
    "ExecuteTime": {
     "end_time": "2019-10-08T05:15:12.486347Z",
     "start_time": "2019-10-08T05:15:12.227223Z"
    }
   },
   "outputs": [
    {
     "data": {
      "image/png": "[encoded data removed]",
      "text/plain": [
       "<Figure size 720x432 with 1 Axes>"
      ]
     },
     "metadata": {
      "needs_background": "light"
     },
     "output_type": "display_data"
    }
   ],
   "source": [
    "clf.plot_loss()"
   ]
  },
  {
   "cell_type": "code",
   "execution_count": 15,
   "metadata": {
    "ExecuteTime": {
     "end_time": "2019-10-08T05:14:23.177777Z",
     "start_time": "2019-10-08T05:14:23.035216Z"
    }
   },
   "outputs": [
    {
     "name": "stderr",
     "output_type": "stream",
     "text": [
      "/home/asura/miniconda3/envs/U4-S2-NNF/lib/python3.7/site-packages/sklearn/linear_model/logistic.py:947: ConvergenceWarning: lbfgs failed to converge. Increase the number of iterations.\n",
      "  \"of iterations.\", ConvergenceWarning)\n"
     ]
    },
    {
     "data": {
      "text/plain": [
       "0.7480314960629921"
      ]
     },
     "execution_count": 15,
     "metadata": {},
     "output_type": "execute_result"
    }
   ],
   "source": [
    "from sklearn.linear_model import LogisticRegression\n",
    "\n",
    "logit = LogisticRegression(random_state=42, solver='lbfgs')\n",
    "\n",
    "logit.fit(X_train, y_train)\n",
    "\n",
    "logit.score(X_test, y_test)"
   ]
  },
  {
   "cell_type": "markdown",
   "metadata": {
    "colab_type": "text",
    "id": "6QR4oAW1xdyu"
   },
   "source": [
    "## Stretch Goals:\n",
    "\n",
    "- Research \"backpropagation\" to learn how weights get updated in neural networks (tomorrow's lecture). \n",
    "- Implement a multi-layer perceptron. (for non-linearly separable classes)\n",
    "- Try and implement your own backpropagation algorithm.\n",
    "- What are the pros and cons of the different activation functions? How should you decide between them for the different layers of a neural network?"
   ]
  }
 ],
 "metadata": {
  "colab": {
   "collapsed_sections": [],
   "name": "LS_DS_431_Intro_to_NN_Assignment.ipynb",
   "provenance": [],
   "version": "0.3.2"
  },
  "kernelspec": {
   "display_name": "Python 3",
   "language": "python",
   "name": "python3"
  },
  "language_info": {
   "codemirror_mode": {
    "name": "ipython",
    "version": 3
   },
   "file_extension": ".py",
   "mimetype": "text/x-python",
   "name": "python",
   "nbconvert_exporter": "python",
   "pygments_lexer": "ipython3",
   "version": "3.7.3"
  }
 },
 "nbformat": 4,
 "nbformat_minor": 2
}
