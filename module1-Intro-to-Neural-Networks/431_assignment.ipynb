{
 "cells": [
  {
   "cell_type": "markdown",
   "metadata": {},
   "source": [
    "## Define the Following:\n",
    "### Input Layer:   inputs into the neural net\n",
    "### Hidden Layer: any layer not directly connected to the input or output\n",
    "### Output Layer: the layer directly connected to the output\n",
    "### Neuron: see Perceptron \n",
    "### Weight: adjustable multiplier of an input\n",
    "### Activation Function: function that produces output from the weighed inputs and and potentially a constant\n",
    "### Node Map: arraignment of  Perceptrons and their connections\n",
    "### Perceptron: input layer one or more inputs, input weights and bias layer, summing layer, and Activation Function layer\n",
    "### Bias: adujstable constant added to the weighed inputs that are sent to the summing layer."
   ]
  },
  {
   "cell_type": "code",
   "execution_count": 3,
   "metadata": {
    "ExecuteTime": {
     "end_time": "2019-04-02T23:19:01.176750Z",
     "start_time": "2019-04-02T23:19:00.931082Z"
    }
   },
   "outputs": [],
   "source": [
    "%matplotlib inline"
   ]
  },
  {
   "cell_type": "code",
   "execution_count": 4,
   "metadata": {
    "ExecuteTime": {
     "end_time": "2019-04-02T23:19:02.105485Z",
     "start_time": "2019-04-02T23:19:01.395062Z"
    }
   },
   "outputs": [],
   "source": [
    "import numpy as np\n",
    "import pandas as pd\n",
    "import matplotlib.pyplot as plt\n",
    "from sklearn.metrics import confusion_matrix\n",
    "from functools import reduce"
   ]
  },
  {
   "cell_type": "code",
   "execution_count": 5,
   "metadata": {
    "ExecuteTime": {
     "end_time": "2019-04-02T23:19:02.110987Z",
     "start_time": "2019-04-02T23:19:02.107672Z"
    }
   },
   "outputs": [],
   "source": [
    "def sigmoid(x):\n",
    "    return 1 / (1 + np.exp(-x))\n",
    "def sigmoid_derivative(x):\n",
    "    return sigmoid(x) * (1 - sigmoid(x))"
   ]
  },
  {
   "cell_type": "code",
   "execution_count": 6,
   "metadata": {
    "ExecuteTime": {
     "end_time": "2019-04-02T23:19:02.379675Z",
     "start_time": "2019-04-02T23:19:02.367707Z"
    }
   },
   "outputs": [],
   "source": [
    "class Perceptron_NAND(object):\n",
    "    def __init__(self, rate=0.01, niter=10):\n",
    "        self.rate = rate\n",
    "        self.niter = niter\n",
    "        \n",
    "    def fit(self, X, y):\n",
    "        self.weight = np.zeros(X.shape[1])\n",
    "        self.errors = []\n",
    "        self.pa = []\n",
    "        min_y = 0.1\n",
    "        for i in range(self.niter):\n",
    "\n",
    "                  # Weighted sum of inputs and weights\n",
    "            weighted_sum = np.dot(X, self.weight)\n",
    "\n",
    "            # Activate with sigmoid function\n",
    "            activated_output = sigmoid(weighted_sum)\n",
    "\n",
    "            predicty = np.array([1 if a >= min_y else 0 for a in activated_output])\n",
    "            # Calculate Error\n",
    "            error = y - predicty        \n",
    "            err = reduce((lambda sum_,e: sum_ + int(e != 0)),y - predicty,0)                    \n",
    "            self.errors.append(err)\n",
    "\n",
    "            # Calculate weight adjustments with sigmoid_derivative\n",
    "            adjustments = self.rate * error * sigmoid_derivative(activated_output)\n",
    "\n",
    "            # Update weights\n",
    "            self.weight += np.dot(X.T, adjustments)                    \n",
    "            self.pa.append(predicty)\n",
    "\n",
    "        print('weights', self.weight)\n",
    "        return self\n",
    "\n",
    "    def net_input(self, X):\n",
    "        return np.dot(X, self.weight)   \n",
    "    \n",
    "    def predict(self, X):\n",
    "        return np.where(self.net_input(X) >= min_y, 1, 0)"
   ]
  },
  {
   "cell_type": "code",
   "execution_count": 7,
   "metadata": {
    "ExecuteTime": {
     "end_time": "2019-04-02T23:19:03.001520Z",
     "start_time": "2019-04-02T23:19:02.994681Z"
    }
   },
   "outputs": [],
   "source": [
    "X = np.array([[0, 0],\n",
    "              [1, 0],\n",
    "              [0, 1],\n",
    "              [1, 1]])\n",
    "y = [1, 1, 1, 0]"
   ]
  },
  {
   "cell_type": "code",
   "execution_count": 8,
   "metadata": {
    "ExecuteTime": {
     "end_time": "2019-04-02T23:19:03.739396Z",
     "start_time": "2019-04-02T23:19:03.544322Z"
    }
   },
   "outputs": [
    {
     "name": "stdout",
     "output_type": "stream",
     "text": [
      "weights [-1.10049729 -1.10049729]\n"
     ]
    },
    {
     "data": {
      "image/png": "[encoded data removed]",
      "text/plain": [
       "<Figure size 432x288 with 1 Axes>"
      ]
     },
     "metadata": {
      "needs_background": "light"
     },
     "output_type": "display_data"
    }
   ],
   "source": [
    "pn = Perceptron_NAND(0.1, 46)\n",
    "pn.fit(X, y)\n",
    "plt.plot(range(1, len(pn.errors) + 1), pn.errors, marker='o')\n",
    "plt.xlabel('Epochs')\n",
    "plt.ylabel('Number of misclassifications')\n",
    "plt.show()"
   ]
  },
  {
   "cell_type": "code",
   "execution_count": 9,
   "metadata": {
    "ExecuteTime": {
     "end_time": "2019-04-02T23:19:05.036478Z",
     "start_time": "2019-04-02T23:19:05.025428Z"
    }
   },
   "outputs": [
    {
     "name": "stdout",
     "output_type": "stream",
     "text": [
      "0\n"
     ]
    },
    {
     "data": {
      "text/plain": [
       "45"
      ]
     },
     "execution_count": 9,
     "metadata": {},
     "output_type": "execute_result"
    }
   ],
   "source": [
    "print(min(pn.errors))\n",
    "index = min(range(len(pn.errors)), key=pn.errors.__getitem__)\n",
    "index"
   ]
  },
  {
   "cell_type": "code",
   "execution_count": 10,
   "metadata": {
    "ExecuteTime": {
     "end_time": "2019-04-02T23:19:07.165899Z",
     "start_time": "2019-04-02T23:19:07.155611Z"
    }
   },
   "outputs": [
    {
     "data": {
      "text/plain": [
       "array([[1, 0],\n",
       "       [0, 3]])"
      ]
     },
     "execution_count": 10,
     "metadata": {},
     "output_type": "execute_result"
    }
   ],
   "source": [
    "confusion_matrix(y, pn.pa[index])"
   ]
  },
  {
   "cell_type": "code",
   "execution_count": 11,
   "metadata": {
    "ExecuteTime": {
     "end_time": "2019-04-02T23:19:10.942613Z",
     "start_time": "2019-04-02T23:19:10.570579Z"
    }
   },
   "outputs": [],
   "source": [
    "df = pd.read_csv(\"https://raw.githubusercontent.com/ryanleeallred/datasets/master/diabetes.csv\")"
   ]
  },
  {
   "cell_type": "code",
   "execution_count": 12,
   "metadata": {
    "ExecuteTime": {
     "end_time": "2019-04-02T23:19:11.081169Z",
     "start_time": "2019-04-02T23:19:11.060276Z"
    }
   },
   "outputs": [
    {
     "data": {
      "text/html": [
       "<div>\n",
       "<style scoped>\n",
       "    .dataframe tbody tr th:only-of-type {\n",
       "        vertical-align: middle;\n",
       "    }\n",
       "\n",
       "    .dataframe tbody tr th {\n",
       "        vertical-align: top;\n",
       "    }\n",
       "\n",
       "    .dataframe thead th {\n",
       "        text-align: right;\n",
       "    }\n",
       "</style>\n",
       "<table border=\"1\" class=\"dataframe\">\n",
       "  <thead>\n",
       "    <tr style=\"text-align: right;\">\n",
       "      <th></th>\n",
       "      <th>Pregnancies</th>\n",
       "      <th>Glucose</th>\n",
       "      <th>BloodPressure</th>\n",
       "      <th>SkinThickness</th>\n",
       "      <th>Insulin</th>\n",
       "      <th>BMI</th>\n",
       "      <th>DiabetesPedigreeFunction</th>\n",
       "      <th>Age</th>\n",
       "      <th>Outcome</th>\n",
       "    </tr>\n",
       "  </thead>\n",
       "  <tbody>\n",
       "    <tr>\n",
       "      <th>0</th>\n",
       "      <td>6</td>\n",
       "      <td>148</td>\n",
       "      <td>72</td>\n",
       "      <td>35</td>\n",
       "      <td>0</td>\n",
       "      <td>33.6</td>\n",
       "      <td>0.627</td>\n",
       "      <td>50</td>\n",
       "      <td>1</td>\n",
       "    </tr>\n",
       "    <tr>\n",
       "      <th>1</th>\n",
       "      <td>1</td>\n",
       "      <td>85</td>\n",
       "      <td>66</td>\n",
       "      <td>29</td>\n",
       "      <td>0</td>\n",
       "      <td>26.6</td>\n",
       "      <td>0.351</td>\n",
       "      <td>31</td>\n",
       "      <td>0</td>\n",
       "    </tr>\n",
       "    <tr>\n",
       "      <th>2</th>\n",
       "      <td>8</td>\n",
       "      <td>183</td>\n",
       "      <td>64</td>\n",
       "      <td>0</td>\n",
       "      <td>0</td>\n",
       "      <td>23.3</td>\n",
       "      <td>0.672</td>\n",
       "      <td>32</td>\n",
       "      <td>1</td>\n",
       "    </tr>\n",
       "    <tr>\n",
       "      <th>3</th>\n",
       "      <td>1</td>\n",
       "      <td>89</td>\n",
       "      <td>66</td>\n",
       "      <td>23</td>\n",
       "      <td>94</td>\n",
       "      <td>28.1</td>\n",
       "      <td>0.167</td>\n",
       "      <td>21</td>\n",
       "      <td>0</td>\n",
       "    </tr>\n",
       "    <tr>\n",
       "      <th>4</th>\n",
       "      <td>0</td>\n",
       "      <td>137</td>\n",
       "      <td>40</td>\n",
       "      <td>35</td>\n",
       "      <td>168</td>\n",
       "      <td>43.1</td>\n",
       "      <td>2.288</td>\n",
       "      <td>33</td>\n",
       "      <td>1</td>\n",
       "    </tr>\n",
       "  </tbody>\n",
       "</table>\n",
       "</div>"
      ],
      "text/plain": [
       "   Pregnancies  Glucose  BloodPressure  SkinThickness  Insulin   BMI  \\\n",
       "0            6      148             72             35        0  33.6   \n",
       "1            1       85             66             29        0  26.6   \n",
       "2            8      183             64              0        0  23.3   \n",
       "3            1       89             66             23       94  28.1   \n",
       "4            0      137             40             35      168  43.1   \n",
       "\n",
       "   DiabetesPedigreeFunction  Age  Outcome  \n",
       "0                     0.627   50        1  \n",
       "1                     0.351   31        0  \n",
       "2                     0.672   32        1  \n",
       "3                     0.167   21        0  \n",
       "4                     2.288   33        1  "
      ]
     },
     "execution_count": 12,
     "metadata": {},
     "output_type": "execute_result"
    }
   ],
   "source": [
    "df.head()"
   ]
  },
  {
   "cell_type": "code",
   "execution_count": 13,
   "metadata": {
    "ExecuteTime": {
     "end_time": "2019-04-02T23:19:11.497727Z",
     "start_time": "2019-04-02T23:19:11.489293Z"
    }
   },
   "outputs": [
    {
     "data": {
      "text/plain": [
       "(768, 9)"
      ]
     },
     "execution_count": 13,
     "metadata": {},
     "output_type": "execute_result"
    }
   ],
   "source": [
    "df.shape"
   ]
  },
  {
   "cell_type": "code",
   "execution_count": 22,
   "metadata": {
    "ExecuteTime": {
     "end_time": "2019-04-02T23:41:33.154442Z",
     "start_time": "2019-04-02T23:41:33.131804Z"
    }
   },
   "outputs": [],
   "source": [
    "class Perceptron(object):\n",
    "    def __init__(self, rate=0.01, niter=10):\n",
    "        self.rate = rate\n",
    "        self.niter = niter\n",
    "        print('rate', rate)\n",
    "        \n",
    "    def fit(self, X, y):\n",
    "        \n",
    "        \n",
    "        self.weight = np.zeros(1 + X.shape[1])\n",
    "        self.errors = []\n",
    "        self.pa = []\n",
    "        self.min_pos = 0.0001\n",
    "        for i in range(self.niter):\n",
    "            err = 0\n",
    "            predictions = []\n",
    "        \n",
    "            for xi, target in zip(X, y):\n",
    "                p = self.predict(xi)\n",
    "                delta_w = self.rate * (target - p)\n",
    "                self.weight[1:] += delta_w * xi\n",
    "                self.weight[0] = delta_w\n",
    "                err += int(delta_w != 0.0)\n",
    "                predictions.append(self.predict(xi))\n",
    "            \n",
    "#             print(f'i: {i}, weights: {self.weight}')\n",
    "            \n",
    "            self.pa.append(predictions)\n",
    "            self.errors.append(err)\n",
    "            \n",
    "        print('weights', self.weight)\n",
    "        return self\n",
    "\n",
    "    def net_input(self, X):\n",
    "        return np.dot(X, self.weight[1:]) + self.weight[0]    \n",
    "    \n",
    "    def predict(self, X):\n",
    "        return np.where(self.net_input(X) >= self.min_pos, 1, 0)\n"
   ]
  },
  {
   "cell_type": "code",
   "execution_count": 23,
   "metadata": {
    "ExecuteTime": {
     "end_time": "2019-04-02T23:41:34.702463Z",
     "start_time": "2019-04-02T23:41:34.688235Z"
    }
   },
   "outputs": [],
   "source": [
    "y = pd.to_numeric(df.Outcome, downcast='unsigned').tolist()\n",
    "X = df.drop(['Outcome', 'Pregnancies'], axis=1).values # Pregnancies not a factor"
   ]
  },
  {
   "cell_type": "code",
   "execution_count": 31,
   "metadata": {
    "ExecuteTime": {
     "end_time": "2019-04-02T23:55:05.129384Z",
     "start_time": "2019-04-02T23:51:54.983254Z"
    }
   },
   "outputs": [
    {
     "name": "stdout",
     "output_type": "stream",
     "text": [
      "rate 1e-13\n",
      "weights [ 0.00000000e+00  3.58531300e-07  1.28412300e-07  8.31157000e-08\n",
      " -2.63728000e-08  9.55335710e-07  2.74891264e-08  3.23552600e-07]\n"
     ]
    },
    {
     "data": {
      "image/png": "[encoded data removed]",
      "text/plain": [
       "<Figure size 432x288 with 1 Axes>"
      ]
     },
     "metadata": {
      "needs_background": "light"
     },
     "output_type": "display_data"
    }
   ],
   "source": [
    "pn = Perceptron(1e-13, 16000)\n",
    "pn.fit(X, y)\n",
    "plt.plot(range(1, len(pn.errors) + 1), pn.errors, marker='o')\n",
    "plt.xlabel('Epochs')\n",
    "plt.ylabel('Number of misclassifications')\n",
    "plt.show()"
   ]
  },
  {
   "cell_type": "code",
   "execution_count": 32,
   "metadata": {
    "ExecuteTime": {
     "end_time": "2019-04-03T00:09:58.964170Z",
     "start_time": "2019-04-03T00:09:58.947529Z"
    }
   },
   "outputs": [
    {
     "name": "stdout",
     "output_type": "stream",
     "text": [
      "189\n"
     ]
    },
    {
     "data": {
      "text/plain": [
       "10270"
      ]
     },
     "execution_count": 32,
     "metadata": {},
     "output_type": "execute_result"
    }
   ],
   "source": [
    "print(min(pn.errors))\n",
    "index = min(range(len(pn.errors)), key=pn.errors.__getitem__)\n",
    "index"
   ]
  },
  {
   "cell_type": "code",
   "execution_count": 33,
   "metadata": {
    "ExecuteTime": {
     "end_time": "2019-04-03T00:10:01.754018Z",
     "start_time": "2019-04-03T00:10:01.735306Z"
    }
   },
   "outputs": [
    {
     "data": {
      "text/plain": [
       "array([[416,  84],\n",
       "       [105, 163]])"
      ]
     },
     "execution_count": 33,
     "metadata": {},
     "output_type": "execute_result"
    }
   ],
   "source": [
    "confusion_matrix(y, pn.pa[index])"
   ]
  },
  {
   "cell_type": "markdown",
   "metadata": {},
   "source": [
    "array([[430,  70],\n",
    "       [126, 142]])\n",
    "of the 500 0's 430 where classified as 0 and 70 as 1\n",
    "of the 268 1's 126 where classified as 0 and 142 as 1       "
   ]
  },
  {
   "cell_type": "code",
   "execution_count": 35,
   "metadata": {
    "ExecuteTime": {
     "end_time": "2019-04-02T02:38:47.917231Z",
     "start_time": "2019-04-02T02:38:47.909439Z"
    }
   },
   "outputs": [
    {
     "data": {
      "text/plain": [
       "268"
      ]
     },
     "execution_count": 35,
     "metadata": {},
     "output_type": "execute_result"
    }
   ],
   "source": [
    "df.Outcome[df.Outcome == 1].count()"
   ]
  },
  {
   "cell_type": "code",
   "execution_count": 36,
   "metadata": {
    "ExecuteTime": {
     "end_time": "2019-04-02T02:39:03.315907Z",
     "start_time": "2019-04-02T02:39:03.308163Z"
    }
   },
   "outputs": [
    {
     "data": {
      "text/plain": [
       "(768, 9)"
      ]
     },
     "execution_count": 36,
     "metadata": {},
     "output_type": "execute_result"
    }
   ],
   "source": [
    "df.shape"
   ]
  },
  {
   "cell_type": "code",
   "execution_count": 22,
   "metadata": {
    "ExecuteTime": {
     "end_time": "2019-04-02T02:30:03.952402Z",
     "start_time": "2019-04-02T02:30:03.939921Z"
    }
   },
   "outputs": [
    {
     "data": {
      "text/plain": [
       "list"
      ]
     },
     "execution_count": 22,
     "metadata": {},
     "output_type": "execute_result"
    }
   ],
   "source": [
    "type(y)"
   ]
  },
  {
   "cell_type": "code",
   "execution_count": 30,
   "metadata": {
    "ExecuteTime": {
     "end_time": "2019-04-02T02:32:58.381148Z",
     "start_time": "2019-04-02T02:32:58.375306Z"
    }
   },
   "outputs": [],
   "source": [
    "count = 0\n",
    "total = 0\n",
    "for j in y:\n",
    "    if j == 1:\n",
    "        count += 1\n",
    "    total += 1"
   ]
  },
  {
   "cell_type": "code",
   "execution_count": 31,
   "metadata": {
    "ExecuteTime": {
     "end_time": "2019-04-02T02:32:59.053646Z",
     "start_time": "2019-04-02T02:32:59.042267Z"
    }
   },
   "outputs": [
    {
     "data": {
      "text/plain": [
       "(268, 768)"
      ]
     },
     "execution_count": 31,
     "metadata": {},
     "output_type": "execute_result"
    }
   ],
   "source": [
    "count, total"
   ]
  },
  {
   "cell_type": "code",
   "execution_count": 28,
   "metadata": {
    "ExecuteTime": {
     "end_time": "2019-04-02T02:32:07.349619Z",
     "start_time": "2019-04-02T02:32:07.335114Z"
    }
   },
   "outputs": [
    {
     "data": {
      "text/plain": [
       "[1, 0, 1, 0, 1, 0, 1, 0, 1, 1]"
      ]
     },
     "execution_count": 28,
     "metadata": {},
     "output_type": "execute_result"
    }
   ],
   "source": [
    "y[0:10]"
   ]
  },
  {
   "cell_type": "code",
   "execution_count": 29,
   "metadata": {
    "ExecuteTime": {
     "end_time": "2019-04-02T02:32:21.959538Z",
     "start_time": "2019-04-02T02:32:21.955510Z"
    }
   },
   "outputs": [
    {
     "data": {
      "text/plain": [
       "int"
      ]
     },
     "execution_count": 29,
     "metadata": {},
     "output_type": "execute_result"
    }
   ],
   "source": [
    "type(y[0])"
   ]
  },
  {
   "cell_type": "code",
   "execution_count": null,
   "metadata": {},
   "outputs": [],
   "source": []
  }
 ],
 "metadata": {
  "kernelspec": {
   "display_name": "Python 3",
   "language": "python",
   "name": "python3"
  },
  "language_info": {
   "codemirror_mode": {
    "name": "ipython",
    "version": 3
   },
   "file_extension": ".py",
   "mimetype": "text/x-python",
   "name": "python",
   "nbconvert_exporter": "python",
   "pygments_lexer": "ipython3",
   "version": "3.6.6"
  },
  "latex_envs": {
   "LaTeX_envs_menu_present": true,
   "autoclose": false,
   "autocomplete": true,
   "bibliofile": "biblio.bib",
   "cite_by": "apalike",
   "current_citInitial": 1,
   "eqLabelWithNumbers": true,
   "eqNumInitial": 1,
   "hotkeys": {
    "equation": "Ctrl-E",
    "itemize": "Ctrl-I"
   },
   "labels_anchors": false,
   "latex_user_defs": false,
   "report_style_numbering": false,
   "user_envs_cfg": false
  }
 },
 "nbformat": 4,
 "nbformat_minor": 2
}
