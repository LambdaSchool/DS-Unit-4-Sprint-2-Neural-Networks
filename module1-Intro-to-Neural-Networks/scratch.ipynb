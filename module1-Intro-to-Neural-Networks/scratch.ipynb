{
 "cells": [
  {
   "cell_type": "code",
   "execution_count": 22,
   "metadata": {},
   "outputs": [],
   "source": [
    "import pandas as pd\n",
    "def toy_predict(x, y, w, b=0):\n",
    "    df = pd.DataFrame({'x':x, 'y':y})\n",
    "    df['pred'] = df['x'] * w + b\n",
    "    df['diff'] = df['pred'] - df['y']\n",
    "    df['diff2'] = df['diff'] * df['diff']\n",
    "    return df\n",
    "sqft = [2104, 1600, 2400]\n",
    "price = [399.9, 329.9, 369]"
   ]
  },
  {
   "cell_type": "code",
   "execution_count": 23,
   "metadata": {},
   "outputs": [
    {
     "data": {
      "text/html": [
       "<div>\n",
       "<style scoped>\n",
       "    .dataframe tbody tr th:only-of-type {\n",
       "        vertical-align: middle;\n",
       "    }\n",
       "\n",
       "    .dataframe tbody tr th {\n",
       "        vertical-align: top;\n",
       "    }\n",
       "\n",
       "    .dataframe thead th {\n",
       "        text-align: right;\n",
       "    }\n",
       "</style>\n",
       "<table border=\"1\" class=\"dataframe\">\n",
       "  <thead>\n",
       "    <tr style=\"text-align: right;\">\n",
       "      <th></th>\n",
       "      <th>x</th>\n",
       "      <th>y</th>\n",
       "      <th>pred</th>\n",
       "      <th>diff</th>\n",
       "      <th>diff2</th>\n",
       "    </tr>\n",
       "  </thead>\n",
       "  <tbody>\n",
       "    <tr>\n",
       "      <th>0</th>\n",
       "      <td>2104</td>\n",
       "      <td>399.9</td>\n",
       "      <td>378.72</td>\n",
       "      <td>-21.18</td>\n",
       "      <td>448.5924</td>\n",
       "    </tr>\n",
       "    <tr>\n",
       "      <th>1</th>\n",
       "      <td>1600</td>\n",
       "      <td>329.9</td>\n",
       "      <td>288.00</td>\n",
       "      <td>-41.90</td>\n",
       "      <td>1755.6100</td>\n",
       "    </tr>\n",
       "    <tr>\n",
       "      <th>2</th>\n",
       "      <td>2400</td>\n",
       "      <td>369.0</td>\n",
       "      <td>432.00</td>\n",
       "      <td>63.00</td>\n",
       "      <td>3969.0000</td>\n",
       "    </tr>\n",
       "  </tbody>\n",
       "</table>\n",
       "</div>"
      ],
      "text/plain": [
       "      x      y    pred   diff      diff2\n",
       "0  2104  399.9  378.72 -21.18   448.5924\n",
       "1  1600  329.9  288.00 -41.90  1755.6100\n",
       "2  2400  369.0  432.00  63.00  3969.0000"
      ]
     },
     "execution_count": 23,
     "metadata": {},
     "output_type": "execute_result"
    }
   ],
   "source": [
    "houses = toy_predict(sqft, price, 0.18)\n",
    "houses.head()"
   ]
  },
  {
   "cell_type": "code",
   "execution_count": 24,
   "metadata": {},
   "outputs": [
    {
     "data": {
      "text/plain": [
       "45.36225450011643"
      ]
     },
     "execution_count": 24,
     "metadata": {},
     "output_type": "execute_result"
    }
   ],
   "source": [
    "import math\n",
    "rmse = math.sqrt(houses['diff2'].mean())\n",
    "rmse"
   ]
  },
  {
   "cell_type": "markdown",
   "metadata": {},
   "source": [
    "Our \"model\" has an \"error\" of about $45,000 dollars, or a little over 10% of the highest price in the dataset"
   ]
  },
  {
   "cell_type": "code",
   "execution_count": 25,
   "metadata": {},
   "outputs": [
    {
     "data": {
      "image/png": "[encoded data removed]",
      "text/plain": [
       "<Figure size 432x288 with 1 Axes>"
      ]
     },
     "metadata": {
      "needs_background": "light"
     },
     "output_type": "display_data"
    }
   ],
   "source": [
    "import matplotlib.pyplot as plt\n",
    "\n",
    "plt.xlabel('Square Feet')\n",
    "plt.ylabel('Price in Thousands')\n",
    "plt.title('Guessing Home Price')\n",
    "\n",
    "plt.scatter(houses['x'], houses['y'])\n",
    "plt.plot(houses['x'], houses['pred'], color='C1')\n",
    "\n",
    "plt.show()"
   ]
  },
  {
   "cell_type": "code",
   "execution_count": 26,
   "metadata": {},
   "outputs": [
    {
     "data": {
      "text/html": [
       "<div>\n",
       "<style scoped>\n",
       "    .dataframe tbody tr th:only-of-type {\n",
       "        vertical-align: middle;\n",
       "    }\n",
       "\n",
       "    .dataframe tbody tr th {\n",
       "        vertical-align: top;\n",
       "    }\n",
       "\n",
       "    .dataframe thead th {\n",
       "        text-align: right;\n",
       "    }\n",
       "</style>\n",
       "<table border=\"1\" class=\"dataframe\">\n",
       "  <thead>\n",
       "    <tr style=\"text-align: right;\">\n",
       "      <th></th>\n",
       "      <th>x</th>\n",
       "      <th>y</th>\n",
       "      <th>pred</th>\n",
       "      <th>diff</th>\n",
       "      <th>diff2</th>\n",
       "    </tr>\n",
       "  </thead>\n",
       "  <tbody>\n",
       "    <tr>\n",
       "      <th>0</th>\n",
       "      <td>2104</td>\n",
       "      <td>399.9</td>\n",
       "      <td>370.4</td>\n",
       "      <td>-29.5</td>\n",
       "      <td>870.25</td>\n",
       "    </tr>\n",
       "    <tr>\n",
       "      <th>1</th>\n",
       "      <td>1600</td>\n",
       "      <td>329.9</td>\n",
       "      <td>320.0</td>\n",
       "      <td>-9.9</td>\n",
       "      <td>98.01</td>\n",
       "    </tr>\n",
       "    <tr>\n",
       "      <th>2</th>\n",
       "      <td>2400</td>\n",
       "      <td>369.0</td>\n",
       "      <td>400.0</td>\n",
       "      <td>31.0</td>\n",
       "      <td>961.00</td>\n",
       "    </tr>\n",
       "  </tbody>\n",
       "</table>\n",
       "</div>"
      ],
      "text/plain": [
       "      x      y   pred  diff   diff2\n",
       "0  2104  399.9  370.4 -29.5  870.25\n",
       "1  1600  329.9  320.0  -9.9   98.01\n",
       "2  2400  369.0  400.0  31.0  961.00"
      ]
     },
     "execution_count": 26,
     "metadata": {},
     "output_type": "execute_result"
    }
   ],
   "source": [
    "houses2 = toy_predict(sqft, price, 0.1, 160)\n",
    "houses2.head()"
   ]
  },
  {
   "cell_type": "code",
   "execution_count": 28,
   "metadata": {},
   "outputs": [
    {
     "data": {
      "text/plain": [
       "25.359153508480254"
      ]
     },
     "execution_count": 28,
     "metadata": {},
     "output_type": "execute_result"
    }
   ],
   "source": [
    "rmse = math.sqrt(houses2['diff2'].mean())\n",
    "rmse"
   ]
  },
  {
   "cell_type": "code",
   "execution_count": 33,
   "metadata": {},
   "outputs": [
    {
     "data": {
      "image/png": "[encoded data removed]",
      "text/plain": [
       "<Figure size 432x288 with 1 Axes>"
      ]
     },
     "metadata": {
      "needs_background": "light"
     },
     "output_type": "display_data"
    }
   ],
   "source": [
    "plt.xlabel('Square Feet')\n",
    "plt.ylabel('Price in Thousands')\n",
    "plt.title('Guessing Home Price')\n",
    "\n",
    "plt.scatter(houses['x'], houses['y'])\n",
    "plt.plot(houses['x'], houses['pred'], color='C2')\n",
    "plt.plot(houses['x'], houses2['pred'], color='C3')\n",
    "\n",
    "plt.show()"
   ]
  },
  {
   "cell_type": "markdown",
   "metadata": {},
   "source": [
    "# Perceptron"
   ]
  },
  {
   "cell_type": "code",
   "execution_count": 39,
   "metadata": {},
   "outputs": [],
   "source": [
    "import numpy as np\n",
    "np.random.seed(143)\n",
    "\n",
    "eg = np.array([\n",
    "    [0,0,1],\n",
    "    [1,1,1],\n",
    "    [1,0,1],\n",
    "    [0,1,1]\n",
    "])\n",
    "cf = np.array([\n",
    "    [0], [1], [1], [0]\n",
    "])\n",
    "\n",
    "def sigmoid(x):\n",
    "    return 1 / (1 + np.exp(-x))\n",
    "def sigmoid_deriv(x):\n",
    "    sx = sigmoid(x)\n",
    "    return sx * (1 - sx)"
   ]
  },
  {
   "cell_type": "code",
   "execution_count": 45,
   "metadata": {},
   "outputs": [
    {
     "data": {
      "text/plain": [
       "array([[7.22175548e-04],\n",
       "       [9.99388102e-01],\n",
       "       [9.99592463e-01],\n",
       "       [4.81002089e-04]])"
      ]
     },
     "execution_count": 45,
     "metadata": {},
     "output_type": "execute_result"
    }
   ],
   "source": [
    "def train_perceptron(X, y):\n",
    "    weights = 2 * np.random.random((len(X[0]), 1)) - 1\n",
    "    output = lambda x: sigmoid(np.dot(x, weights))\n",
    "    for _ in range(10000):\n",
    "        activated_output = output(X)\n",
    "        error = y - activated_output\n",
    "        adjusted = error * sigmoid_deriv(activated_output)\n",
    "        weights += np.dot(X.T, adjusted)\n",
    "    return output(X)\n",
    "\n",
    "train_perceptron(eg, cf)"
   ]
  },
  {
   "cell_type": "code",
   "execution_count": 38,
   "metadata": {},
   "outputs": [
    {
     "data": {
      "text/plain": [
       "array([0.5       , 0.73105858, 0.73105858, 0.5       ])"
      ]
     },
     "execution_count": 38,
     "metadata": {},
     "output_type": "execute_result"
    }
   ],
   "source": [
    "1 / (1 + np.exp(-np.array([0,1,1,0])))"
   ]
  }
 ],
 "metadata": {
  "kernelspec": {
   "display_name": "Python [conda env:u4s1nlp]",
   "language": "python",
   "name": "conda-env-u4s1nlp-py"
  },
  "language_info": {
   "codemirror_mode": {
    "name": "ipython",
    "version": 3
   },
   "file_extension": ".py",
   "mimetype": "text/x-python",
   "name": "python",
   "nbconvert_exporter": "python",
   "pygments_lexer": "ipython3",
   "version": "3.7.0"
  }
 },
 "nbformat": 4,
 "nbformat_minor": 4
}
