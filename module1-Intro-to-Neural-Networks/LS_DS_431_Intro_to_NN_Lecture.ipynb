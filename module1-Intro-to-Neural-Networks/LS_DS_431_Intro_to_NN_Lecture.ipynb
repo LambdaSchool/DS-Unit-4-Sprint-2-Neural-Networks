{
  "nbformat": 4,
  "nbformat_minor": 0,
  "metadata": {
    "colab": {
      "name": "LS_DS_431_Intro_to_NN_Lecture.ipynb",
      "version": "0.3.2",
      "provenance": [],
      "include_colab_link": true
    },
    "kernelspec": {
      "name": "python3",
      "display_name": "Python 3"
    }
  },
  "cells": [
    {
      "cell_type": "markdown",
      "metadata": {
        "id": "view-in-github",
        "colab_type": "text"
      },
      "source": [
        "<a href=\"https://colab.research.google.com/github/donw385/DS-Unit-4-Sprint-3-Neural-Networks/blob/master/module1-Intro-to-Neural-Networks/LS_DS_431_Intro_to_NN_Lecture.ipynb\" target=\"_parent\"><img src=\"https://colab.research.google.com/assets/colab-badge.svg\" alt=\"Open In Colab\"/></a>"
      ]
    },
    {
      "cell_type": "markdown",
      "metadata": {
        "id": "iAJaRSseDCrU",
        "colab_type": "text"
      },
      "source": [
        "# Neural Networks\n",
        "\n",
        "Neural Networks are a whole new area of study and application that can be intimidating, but which represents some of the most powerful tools and techniques that we possess in machine learning today. In spite of the hype surrounding these topics I hope that you will come to see them as just another tool in your toolbag with their own strengths and weaknesses. They are useful, but they are not a silver bullet, and they are not always preferable to other -perhaps more simple- machine learning methods. \n",
        "\n",
        "The goal of this week is to familiarize you with the fundamental theory, terminology and libraries that will enable you to approach different neural network architectures (called topologies) in a sophisticated manner. This week will not be a run-through of the history of Neural Networks and each of the individual advancements leading up to current technologies -we don't have time for that. We will spend some time on some older methods, but only to the degree that they will help introduce us to relevant terminology and understand more complex versions of these technologies."
      ]
    },
    {
      "cell_type": "markdown",
      "metadata": {
        "id": "vCyHLvj4HsrQ",
        "colab_type": "text"
      },
      "source": [
        "## \"Neural\" Networks\n",
        "\n",
        "![Wikipedia Neuron Diagram](http://www.ryanleeallred.com/wp-content/uploads/2019/03/Screen-Shot-2019-03-31-at-10.19.43-PM.png)\n",
        "\n",
        "Neural Networks aren't exactly a new technology, but recent breakthroughs have revitalized the area. For example the \"Perceptron\" -one of the basic building blocks of the technology- was invented in 1957. \n",
        "\n",
        "Artificial Neural Networks are a computational model that was inspired by how neural networks in the brain process information. In the brain electrochemical signals flow from earlier neurons through the dendrites of the cell toward the cell body. If the received signals surpass a certain threshold with a given timing then the neuron fires sending a large spike of energy down the axon and through the axon terminals to other neurons down the line. \n",
        "\n",
        "In Artificial Neural Networks the neurons or \"nodes\" are similar in that they receive inputs and pass on their signal to the next layer of nodes if a certain threshold is reached, but that's about where the similarities end. Remember that ANNs are not brains. Don't fall into the common trap of assuming that if an Artificial Neural Network has as many nodes as the human brain that it will be just as powerful or just as capable. The goal with ANNs is not to create a realistic model of the brain but to craft robust algorithms and data structures that can model the complex relationships found in data."
      ]
    },
    {
      "cell_type": "markdown",
      "metadata": {
        "id": "WUaY3-inOrea",
        "colab_type": "text"
      },
      "source": [
        "## Starting off Very Simple\n",
        "\n",
        "Portions of this part of lecture taken liberally from Jay Alammar's \"[A Visual and Interactive Guide to the Basics of Neural Networks](http://jalammar.github.io/visual-interactive-guide-basics-neural-networks/)\" -> Jay's work here will be very good for helping us connect some of the principles of Neural Networks to past concepts, and for establishing some beginning terminology, but we're going to need more than this post if we want to start writing and using neural networks with code. I also want to elaborate a little bit on what he has written."
      ]
    },
    {
      "cell_type": "markdown",
      "metadata": {
        "id": "28tLn2-XSe7y",
        "colab_type": "text"
      },
      "source": [
        "### Buying a House\n",
        "\n",
        "Say you want to buy a house, you're quoted $400,000 for a 2000 square foot house. Is that good? Is that bad? How can we know? Well, we can gather up some more prices of other homes in the area and their square footages to compare.\n",
        "\n",
        "| Square Footage | Price  |\n",
        "|----------------|--------|\n",
        "| 2104           | 399900 |\n",
        "| 1600           | 329900 |\n",
        "| 2400           | 369000 |\n",
        "\n",
        "Ok, so now we have a little bit more data to compare to, how can we compare the price that we're getting to the prices of these houses? We can't compare price directly because all of these homes are different sizes, so we decide to calculate an average price per square foot for these three homes and we'll compare that to the average square footage price for the house that we have been looking at.\n",
        "\n",
        "It turns out that these houses cost about $180 per square foot. Now, assuming that information we gathered about houses in the area is representative of housing prices in the area we can create a little diagram for ourselves to help us evaluate the price of any home:\n",
        "\n",
        "![First NN](http://jalammar.github.io/images/simple_NN_1.png)\n",
        "\n",
        "What does our neural network predict should be the price of the house that we are looking at?"
      ]
    },
    {
      "cell_type": "markdown",
      "metadata": {
        "id": "LhhsQFuyVuR0",
        "colab_type": "text"
      },
      "source": [
        "## Node Maps\n",
        "\n",
        "We've created our first *extremely* basic neural network, it takes an input, modifies it by a weight (180) and reports an output. Please, instead of thinking about neural networks as if they were brains think about them as a function or a \"mapping\" from inputs to outputs just like we have established many times before. \n",
        "\n",
        "![A Mapping](http://jalammar.github.io/images/NNs_formula_no_bias.png)\n",
        "\n",
        "What we have here above is what's known as a \"Node Map\" it's a visual diagram of the architecture or \"topology\" of our neural network. It's kind of like a flow chart in that it shows the path from inputs to outputs. They are usually color coded and help us understand at a very high level, some of the differences in architecture between kinds of neural networks. Just like with all the areas of machine learning that we have studied before there is a \"[zoo](http://www.asimovinstitute.org/neural-network-zoo/)\" of neural network architectures:\n",
        "\n",
        "![Neural Network Zoo](http://www.asimovinstitute.org/wp-content/uploads/2016/09/neuralnetworks.png)\n",
        "\n",
        "  "
      ]
    },
    {
      "cell_type": "markdown",
      "metadata": {
        "id": "6fYbPmJ-ZDWt",
        "colab_type": "text"
      },
      "source": [
        "### Types of Layers:\n",
        "\n",
        "There are three main types of neuron layers in a typical NN topology:\n",
        "\n",
        "### Input or Visible Layers\n",
        "\n",
        "The Input Layer is what receives input from our dataset. Sometimes it is called the visible layer because it's the only part that is exposed to our data and that our data interacts with directly. Typically node maps are drawn with one input node for each of the different inputs/features/columns of our dataset that will be passed to the network. \n",
        "\n",
        "### Hidden Layers\n",
        "\n",
        "Layers after the input layer are called Hidden Layers. This is because they cannot be accessed except through the input layer. They're inside of the network and they perform their functions, but we don't directly interact with them. The simplest possible network is to have a single neuron in the hidden layer that just outputs the value. \"Deep Learning\" apart from being a big buzzword simply means that we are using a Neural Network that has multiple hidden layers. \"Deep Learning\" is a big part of the renewed hype around ANNs because it allows networks that are structured in specific ways to accomplish tasks that were previously out of reach (image recognition for example).  \n",
        "\n",
        "### Output Layers\n",
        "\n",
        "The final layer is called the Output Layer. The purpose of the output layer is to output a vector of values that is in a format that is suitable for the type of problem that we're trying to address. Typically the output value is modified by an \"activation function\" to transform it into a format that makes sense for our context, here's a couple of examples:\n",
        "\n",
        "- NNs applied to a regression problem might have a single output node with no activation function because what we want is an unbounded continuous value.\n",
        "\n",
        "- NNS applied to a binary classification problem might use a sigmoid function as its activation function in order to squishify values down to represent a probability. Outputs in this case would represent the probability of predicting the primary class of interest. We can turn this into a class-specific prediction by rounding the outputted sigmoid probability up to 1 or down to 0. \n",
        "\n",
        "- NNS applied to multiclass classification problems might have multiple output nodes in the output layer, one for each class that we're trying to predict. This output layer would probably employ what's called a \"softmax function\" for accomplishing this. Don't worry about how that activation function works just yet, we'll get to it soon."
      ]
    },
    {
      "cell_type": "markdown",
      "metadata": {
        "id": "hbOJUGsddcJA",
        "colab_type": "text"
      },
      "source": [
        "## Back to our House Problem\n",
        "\n",
        " Is a neural network that predicts home prices based on the average square footage of homes in the are a good one? How can we evaluate the quality of our predictions?\n",
        " \n",
        "We evaluate the quality of our predictions just like we would any machine learning algorithm. We look at what the algorithm predicted and compare it to the actual price to see how far off we are. We know that our predictions are getting better if our predictions get closer to the actual prices in our training data / testing data. \n",
        "\n",
        "So how is our Neural Network doing?"
      ]
    },
    {
      "cell_type": "code",
      "metadata": {
        "id": "zxnRa-bzB-m2",
        "colab_type": "code",
        "outputId": "5ff2a01e-76c0-4c6b-d950-f042cc9e43de",
        "colab": {
          "base_uri": "https://localhost:8080/",
          "height": 141
        }
      },
      "source": [
        "import pandas as pd\n",
        "import matplotlib.pyplot as plt\n",
        "\n",
        "x = [2104, 1600, 2400]\n",
        "y = [399.9, 329.9, 369]\n",
        "predictions = [379, 288, 432]\n",
        "difference = [21, 42, -63]\n",
        "difference_squared = [449, 1756, 3969]\n",
        "\n",
        "df = pd.DataFrame({'sqft': x, \"price_in_thous\": y, \"predictions\": predictions, \n",
        "                   \"difference\": difference, \"diff_squared\": difference_squared})\n",
        "df.head()"
      ],
      "execution_count": 3,
      "outputs": [
        {
          "output_type": "execute_result",
          "data": {
            "text/html": [
              "<div>\n",
              "<style scoped>\n",
              "    .dataframe tbody tr th:only-of-type {\n",
              "        vertical-align: middle;\n",
              "    }\n",
              "\n",
              "    .dataframe tbody tr th {\n",
              "        vertical-align: top;\n",
              "    }\n",
              "\n",
              "    .dataframe thead th {\n",
              "        text-align: right;\n",
              "    }\n",
              "</style>\n",
              "<table border=\"1\" class=\"dataframe\">\n",
              "  <thead>\n",
              "    <tr style=\"text-align: right;\">\n",
              "      <th></th>\n",
              "      <th>sqft</th>\n",
              "      <th>price_in_thous</th>\n",
              "      <th>predictions</th>\n",
              "      <th>difference</th>\n",
              "      <th>diff_squared</th>\n",
              "    </tr>\n",
              "  </thead>\n",
              "  <tbody>\n",
              "    <tr>\n",
              "      <th>0</th>\n",
              "      <td>2104</td>\n",
              "      <td>399.9</td>\n",
              "      <td>379</td>\n",
              "      <td>21</td>\n",
              "      <td>449</td>\n",
              "    </tr>\n",
              "    <tr>\n",
              "      <th>1</th>\n",
              "      <td>1600</td>\n",
              "      <td>329.9</td>\n",
              "      <td>288</td>\n",
              "      <td>42</td>\n",
              "      <td>1756</td>\n",
              "    </tr>\n",
              "    <tr>\n",
              "      <th>2</th>\n",
              "      <td>2400</td>\n",
              "      <td>369.0</td>\n",
              "      <td>432</td>\n",
              "      <td>-63</td>\n",
              "      <td>3969</td>\n",
              "    </tr>\n",
              "  </tbody>\n",
              "</table>\n",
              "</div>"
            ],
            "text/plain": [
              "   sqft  price_in_thous  predictions  difference  diff_squared\n",
              "0  2104           399.9          379          21           449\n",
              "1  1600           329.9          288          42          1756\n",
              "2  2400           369.0          432         -63          3969"
            ]
          },
          "metadata": {
            "tags": []
          },
          "execution_count": 3
        }
      ]
    },
    {
      "cell_type": "code",
      "metadata": {
        "id": "JgKs9py9fBuM",
        "colab_type": "code",
        "outputId": "daa379d4-41a5-4bdd-e3ec-72b3800067be",
        "colab": {
          "base_uri": "https://localhost:8080/",
          "height": 295
        }
      },
      "source": [
        "plt.scatter(df.sqft, df.price_in_thous)\n",
        "plt.xlabel(\"Square Feet\")\n",
        "plt.ylabel(\"Price in Thousands of Dollars\")\n",
        "plt.title(\"Home Price Estimates\")\n",
        "\n",
        "# Plot the line\n",
        "price_per_sqft = .180\n",
        "\n",
        "y_hat = [price_per_sqft*x for x in df.sqft]\n",
        "plt.plot(df.sqft, y_hat, color=\"red\")\n",
        "\n",
        "plt.show()"
      ],
      "execution_count": 4,
      "outputs": [
        {
          "output_type": "display_data",
          "data": {
            "image/png": "[encoded data removed]",
            "text/plain": [
              "<Figure size 432x288 with 1 Axes>"
            ]
          },
          "metadata": {
            "tags": []
          }
        }
      ]
    },
    {
      "cell_type": "markdown",
      "metadata": {
        "id": "D_422Q5XgTo5",
        "colab_type": "text"
      },
      "source": [
        "## Look Familiar?\n",
        "\n",
        "Well it should because we've just plotted a regression line hypothesis based on the average square foot price of the three homes that we looked at. Our average error for this line is:"
      ]
    },
    {
      "cell_type": "code",
      "metadata": {
        "id": "CY6xiQ-BgxLR",
        "colab_type": "code",
        "outputId": "61676f3c-189c-4489-e0ad-110ca0685b04",
        "colab": {
          "base_uri": "https://localhost:8080/",
          "height": 35
        }
      },
      "source": [
        "print(\"Mean Squared Error:\", df.diff_squared.mean())"
      ],
      "execution_count": 5,
      "outputs": [
        {
          "output_type": "stream",
          "text": [
            "Mean Squared Error: 2058.0\n"
          ],
          "name": "stdout"
        }
      ]
    },
    {
      "cell_type": "markdown",
      "metadata": {
        "id": "Mesjb_tfg2zQ",
        "colab_type": "text"
      },
      "source": [
        "Now, we didn't fit this line using any regression techniques so it's likely that it's **not** the line of best fit. But we could try out other lines and see if the error gets bigger or smaller. Well it just so happens that in this two dimensional world that if our line is stuck to the origin on one end then we don't have all of the freedom that we want to control our predictions. We need some way to slide it up and down the y axis so that we can make any line that we want in this two-dimensional world. This y-intercept is a constant value, or in other words it's always weighted by 1. We're going to call this y-intercept our \"bias\" term. We'll define this a little bit better in a minute. \n",
        "\n",
        "![New Network with Bias](http://jalammar.github.io/images/NNs_bias.png)\n",
        "\n",
        "Now I don't love this diagram because it shows our \"bias\" term as if it was a new horizontal layer, in reality the bias term interacts with a single layer to affect all layers after the hidden layer that it is associated with. This diagram will give you a better idea: \n",
        "\n",
        "![Bias Terms](https://i.stack.imgur.com/6S6Bz.png)\n"
      ]
    },
    {
      "cell_type": "markdown",
      "metadata": {
        "id": "xzPvDJvTi7xc",
        "colab_type": "text"
      },
      "source": [
        ""
      ]
    },
    {
      "cell_type": "code",
      "metadata": {
        "id": "y_7t3vOBfYDz",
        "colab_type": "code",
        "outputId": "45cc7da5-0ee3-463e-b4c6-896b6268dfd6",
        "colab": {
          "base_uri": "https://localhost:8080/",
          "height": 87
        }
      },
      "source": [
        "import numpy as np\n",
        "\n",
        "weight = .100\n",
        "bias = 150\n",
        "\n",
        "X = np.array([2104, 1600, 2400])\n",
        "y = np.array([399.9, 329.9, 369])\n",
        "predictions = [weight*x + bias for x in X]\n",
        "print(\"Predictions:\", predictions)\n",
        "difference = y-predictions\n",
        "print(\"Difference:\", difference)\n",
        "difference_squared = difference**2\n",
        "print(\"Difference Squared:\", difference_squared)\n",
        "MSE = difference_squared.sum()/len(difference_squared)\n",
        "print(\"Mean Squared Error\", MSE)"
      ],
      "execution_count": 6,
      "outputs": [
        {
          "output_type": "stream",
          "text": [
            "Predictions: [360.4, 310.0, 390.0]\n",
            "Difference: [ 39.5  19.9 -21. ]\n",
            "Difference Squared: [1560.25  396.01  441.  ]\n",
            "Mean Squared Error 799.0866666666665\n"
          ],
          "name": "stdout"
        }
      ]
    },
    {
      "cell_type": "code",
      "metadata": {
        "id": "gdCy8l7Sj6nW",
        "colab_type": "code",
        "outputId": "c5cda70b-5be1-4578-c8f6-a8dfab3c8fcb",
        "colab": {
          "base_uri": "https://localhost:8080/",
          "height": 295
        }
      },
      "source": [
        "plt.scatter(X, y)\n",
        "plt.xlabel(\"Square Feet\")\n",
        "plt.ylabel(\"Price in Thousands of Dollars\")\n",
        "plt.title(\"Home Price Estimates\")\n",
        "\n",
        "# Plot the line\n",
        "price_per_sqft = .180\n",
        "\n",
        "y_hat = [weight*x + bias for x in X]\n",
        "plt.plot(X, y_hat, color=\"green\")\n",
        "\n",
        "y_hat = [price_per_sqft*x for x in df.sqft]\n",
        "plt.plot(df.sqft, y_hat, color=\"red\")\n",
        "\n",
        "plt.show()"
      ],
      "execution_count": 7,
      "outputs": [
        {
          "output_type": "display_data",
          "data": {
            "image/png": "[encoded data removed]",
            "text/plain": [
              "<Figure size 432x288 with 1 Axes>"
            ]
          },
          "metadata": {
            "tags": []
          }
        }
      ]
    },
    {
      "cell_type": "markdown",
      "metadata": {
        "id": "ra7k-EJBj5_o",
        "colab_type": "text"
      },
      "source": [
        "The bias value in coordination with our weight gives our network the full range of motion that it needs to find the best way to explain the patterns in the data. \n",
        "\n",
        "Well, what if instead of only looking at square footage we collected a second data point like number of bathrooms there is in each house. Lets also get a few more data points while we're at it:"
      ]
    },
    {
      "cell_type": "code",
      "metadata": {
        "id": "UTZYAnU6myqP",
        "colab_type": "code",
        "outputId": "88986fcf-ea49-400c-af79-22141a953c1c",
        "colab": {
          "base_uri": "https://localhost:8080/",
          "height": 355
        }
      },
      "source": [
        "sqft = [2104, 1600, 2400, 1416, 3000, 1985, 1534, 1427, 1380, 1419]\n",
        "bathrooms = [3, 3, 3, 2, 4, 4, 3, 3, 3, 3]\n",
        "price = [399900, 329900, 369000, 232000, 539000, 299900, 314900, 198999,\n",
        "        212000, 242500]\n",
        "\n",
        "df = pd.DataFrame({'sqft': sqft, 'bathrooms': bathrooms, 'price': price})\n",
        "df.head(10)"
      ],
      "execution_count": 8,
      "outputs": [
        {
          "output_type": "execute_result",
          "data": {
            "text/html": [
              "<div>\n",
              "<style scoped>\n",
              "    .dataframe tbody tr th:only-of-type {\n",
              "        vertical-align: middle;\n",
              "    }\n",
              "\n",
              "    .dataframe tbody tr th {\n",
              "        vertical-align: top;\n",
              "    }\n",
              "\n",
              "    .dataframe thead th {\n",
              "        text-align: right;\n",
              "    }\n",
              "</style>\n",
              "<table border=\"1\" class=\"dataframe\">\n",
              "  <thead>\n",
              "    <tr style=\"text-align: right;\">\n",
              "      <th></th>\n",
              "      <th>sqft</th>\n",
              "      <th>bathrooms</th>\n",
              "      <th>price</th>\n",
              "    </tr>\n",
              "  </thead>\n",
              "  <tbody>\n",
              "    <tr>\n",
              "      <th>0</th>\n",
              "      <td>2104</td>\n",
              "      <td>3</td>\n",
              "      <td>399900</td>\n",
              "    </tr>\n",
              "    <tr>\n",
              "      <th>1</th>\n",
              "      <td>1600</td>\n",
              "      <td>3</td>\n",
              "      <td>329900</td>\n",
              "    </tr>\n",
              "    <tr>\n",
              "      <th>2</th>\n",
              "      <td>2400</td>\n",
              "      <td>3</td>\n",
              "      <td>369000</td>\n",
              "    </tr>\n",
              "    <tr>\n",
              "      <th>3</th>\n",
              "      <td>1416</td>\n",
              "      <td>2</td>\n",
              "      <td>232000</td>\n",
              "    </tr>\n",
              "    <tr>\n",
              "      <th>4</th>\n",
              "      <td>3000</td>\n",
              "      <td>4</td>\n",
              "      <td>539000</td>\n",
              "    </tr>\n",
              "    <tr>\n",
              "      <th>5</th>\n",
              "      <td>1985</td>\n",
              "      <td>4</td>\n",
              "      <td>299900</td>\n",
              "    </tr>\n",
              "    <tr>\n",
              "      <th>6</th>\n",
              "      <td>1534</td>\n",
              "      <td>3</td>\n",
              "      <td>314900</td>\n",
              "    </tr>\n",
              "    <tr>\n",
              "      <th>7</th>\n",
              "      <td>1427</td>\n",
              "      <td>3</td>\n",
              "      <td>198999</td>\n",
              "    </tr>\n",
              "    <tr>\n",
              "      <th>8</th>\n",
              "      <td>1380</td>\n",
              "      <td>3</td>\n",
              "      <td>212000</td>\n",
              "    </tr>\n",
              "    <tr>\n",
              "      <th>9</th>\n",
              "      <td>1419</td>\n",
              "      <td>3</td>\n",
              "      <td>242500</td>\n",
              "    </tr>\n",
              "  </tbody>\n",
              "</table>\n",
              "</div>"
            ],
            "text/plain": [
              "   sqft  bathrooms   price\n",
              "0  2104          3  399900\n",
              "1  1600          3  329900\n",
              "2  2400          3  369000\n",
              "3  1416          2  232000\n",
              "4  3000          4  539000\n",
              "5  1985          4  299900\n",
              "6  1534          3  314900\n",
              "7  1427          3  198999\n",
              "8  1380          3  212000\n",
              "9  1419          3  242500"
            ]
          },
          "metadata": {
            "tags": []
          },
          "execution_count": 8
        }
      ]
    },
    {
      "cell_type": "markdown",
      "metadata": {
        "id": "TIEht5FKoFfg",
        "colab_type": "text"
      },
      "source": [
        "## Two Input Nodes\n",
        "\n",
        "Now that we have two inputs or two x variables how might we modify the architecture of our network to accept these inputs?\n",
        "\n",
        "![Two input Nodes](http://jalammar.github.io/images/NNs_2_variables.png)\n",
        "\n",
        "You'll notice that now we need a weight for each one of our input nodes, or for each feature of our dataset. If we were to write out the calculation that is happening as our data flows through this network it might look something like this:\n",
        "\n",
        "![Equation](http://jalammar.github.io/images/NNs_formula_two_variables.png)\n",
        "\n",
        "## I hope this looks extremely familiar.\n",
        "\n",
        "Now we have a new network that takes in two inputs. But now instead of guessing at slope and coefficient values and evaluating them. How can we explore more combinations of weights and bias until we find the values that minimize our Mean-Squared Error?\n",
        "\n",
        "[Lets Try It!](http://jalammar.github.io/visual-interactive-guide-basics-neural-networks/)"
      ]
    },
    {
      "cell_type": "markdown",
      "metadata": {
        "id": "iIpNgBlupRpn",
        "colab_type": "text"
      },
      "source": [
        "## ANNs are not Linear Regression\n",
        "\n",
        "It just so happens that the one that we have defined in this way acts the same way. We've defined a neural network that does the same thing as Linear Regression for a couple of different reasons\n",
        "\n",
        "1) To familiarize you with node maps (even if I don't love the ones in the article).\n",
        "\n",
        "2) To introduce the concepts of \"weights\" and \"biases\" in a context that you're already familiar with.\n",
        "\n",
        "3) Each layer in a feed-forward neural network affects the next layer by a weighted sum of inputs plus a bias term. \n",
        "\n",
        "4) To make it plain to you that we can search out the optimal weights and biases of a neural network through gradient descent if we have a loss function that evaluates the quality of our predictions compared to the y values in our training data. \n",
        "\n"
      ]
    },
    {
      "cell_type": "markdown",
      "metadata": {
        "id": "OZC5EFQeu4Me",
        "colab_type": "text"
      },
      "source": [
        "# Why are Neural Networks so Powerful?\n",
        "\n",
        "So if we can use a very simple neural network to represent a linear regression problem, what do neural networks with lots of additional features/layers represent? Why can't we just use linear regression for everything?\n",
        "\n",
        "## Nonlinearities\n",
        "\n",
        "Linear regression is built to fit more or less linear models in n-dimensional space. While it is true that we can fit non-linear features using linear regression as we include polynomial features, the reality is that in order to fit really curvy nonlinear patterns in data in really complex high dimensional features spaces, the number of polynomial terms that we would have to include in a linear or logistic regression model faces a problem of combinatorial explosion in terms of the number of features that would be required. \n",
        "\n",
        "Well what kinds of data exhibit these really strong nonlinearities? Well, how about images for example:\n",
        "\n",
        "![Cars](https://ak7.picdn.net/shutterstock/videos/4939097/thumb/1.jpg)\n",
        "\n",
        "Think about all of the different forms a car could take in an image yet our human brains recognize them as cars flawlessly. Think about all of the complexity that we would have to take into account. How could you even begin to feature engineer a dataset of pixel values in order to give a regression algorithm something that it could cue on as being a car or not a car?\n",
        "\n",
        "[Andrew Ng can probably explain this better than I can](https://www.youtube.com/watch?v=1ZhtwInuOD0)\n",
        "\n",
        "The interactions between layers of neurons in neural networks in a way accounts for that combinatorial explosion within the structure of the algorithm as needed instead of us having to provide it beforehand.\n",
        "\n",
        "![Neural Network](https://cdn-images-1.medium.com/max/1200/1*DW0Ccmj1hZ0OvSXi7Kz5MQ.jpeg)"
      ]
    },
    {
      "cell_type": "markdown",
      "metadata": {
        "id": "dGb0yyBtBCBD",
        "colab_type": "text"
      },
      "source": [
        "# The Perceptron\n",
        "\n",
        "The first and simplest kind of neural network that we could talk about is the perceptron. A perceptron is just a single node or neuron of a neural network with nothing else. It can take any number of inputs and spit out an output. What a neuron does is it takes each of the input values, multplies each of them by a weight, sums all of these products up, and then passes the sum through what is called an \"activation function\" the result of which is the final value.\n",
        "\n",
        "I really like figure 2.1 found in this [pdf](http://www.uta.fi/sis/tie/neuro/index/Neurocomputing2.pdf) even though it doesn't have bias term represented there.\n",
        "\n",
        "![Figure 2.1](http://www.ryanleeallred.com/wp-content/uploads/2019/04/Screen-Shot-2019-04-01-at-2.34.58-AM.png)\n",
        "\n",
        "If we were to write what is happening in some verbose mathematical notation, it might look something like this:\n",
        "\n",
        "\\begin{align}\n",
        " y = sigmoid(\\sum(weight_{1}input_{1} + weight_{2}input_{2} + weight_{3}input_{3}) + bias)\n",
        "\\end{align}\n",
        "\n",
        "Understanding what happens with a single neuron is important because this is the same pattern that will take place for all of our networks. \n",
        "\n",
        "When imagining a neural network I like to think about the arrows as representing the weights, like a wire that has a certain amount of resistance and only lets a certain amount of current through. And I like to think about the node itselef as containing the prescribed activation function that neuron will use to decide how much signal to pass onto the next layer."
      ]
    },
    {
      "cell_type": "markdown",
      "metadata": {
        "id": "kXZIF45EEuex",
        "colab_type": "text"
      },
      "source": [
        "# Activation Functions (transfer functions)\n",
        "\n",
        "In Neural Networks, each node has an activation function. Each node in a given layer typically has the same activation function. These activation functions are the biggest piece of neural networks that have been inspired by actual biology. The activation function decides whether a cell \"fires\" or not. Sometimes it is said that the cell is \"activated\" or not. In Artificial Neural Networks activation functions decide how much signal to pass onto the next layer. This is why they are sometimes referred to as transfer functions because they determine how much signal is transferred to the next layer.\n",
        "\n",
        "## Common Activation Functions:\n",
        "\n",
        "![Activation Functions](http://www.snee.com/bobdc.blog/img/activationfunctions.png)"
      ]
    },
    {
      "cell_type": "markdown",
      "metadata": {
        "id": "-9x3x5XgtD3i",
        "colab_type": "text"
      },
      "source": [
        "# Implementing a Perceptron from scratch in Python"
      ]
    },
    {
      "cell_type": "markdown",
      "metadata": {
        "id": "A47bcPUYYf8S",
        "colab_type": "text"
      },
      "source": [
        "### Establish training data"
      ]
    },
    {
      "cell_type": "code",
      "metadata": {
        "id": "q9Sj_AVzReca",
        "colab_type": "code",
        "colab": {}
      },
      "source": [
        "import numpy as np\n",
        "np.random.seed(1)\n",
        "\n",
        "inputs = np.array([\n",
        "    [0,0,1],\n",
        "    [1,1,1],\n",
        "    [1,0,1],\n",
        "    [0,1,1]\n",
        "    \n",
        "])\n",
        "\n",
        "correct_outputs = [[0],[1],[1],[0]]"
      ],
      "execution_count": 0,
      "outputs": []
    },
    {
      "cell_type": "markdown",
      "metadata": {
        "id": "wJYHTTThYlcj",
        "colab_type": "text"
      },
      "source": [
        "### Sigmoid activation function and its derivative for updating weights"
      ]
    },
    {
      "cell_type": "code",
      "metadata": {
        "id": "BXtmF6m1Ry2E",
        "colab_type": "code",
        "colab": {}
      },
      "source": [
        "def sigmoid(x):\n",
        "  return 1 / (1+np.exp(-x))\n",
        "\n",
        "def sigmoid_derivative(x):\n",
        "  return sigmoid(x) * (1 - sigmoid(x))\n"
      ],
      "execution_count": 0,
      "outputs": []
    },
    {
      "cell_type": "markdown",
      "metadata": {
        "id": "vWyVzV-oUTC8",
        "colab_type": "text"
      },
      "source": [
        "## Updating weights with derivative of sigmoid function:\n",
        "\n",
        "![Sigmoid Function](https://upload.wikimedia.org/wikipedia/commons/thumb/8/88/Logistic-curve.svg/320px-Logistic-curve.svg.png)"
      ]
    },
    {
      "cell_type": "markdown",
      "metadata": {
        "id": "iHpgMkpQX9HK",
        "colab_type": "text"
      },
      "source": [
        "### Initialize random weights for our three inputs"
      ]
    },
    {
      "cell_type": "code",
      "metadata": {
        "id": "Vgv4L0SjSCML",
        "colab_type": "code",
        "colab": {
          "base_uri": "https://localhost:8080/",
          "height": 69
        },
        "outputId": "70065310-3e1d-4cac-9f58-400b3d8d27f6"
      },
      "source": [
        "weights = 2* np.random.random((3,1)) - 1\n",
        "\n",
        "weights"
      ],
      "execution_count": 15,
      "outputs": [
        {
          "output_type": "execute_result",
          "data": {
            "text/plain": [
              "array([[ 0.07763347],\n",
              "       [-0.16161097],\n",
              "       [ 0.370439  ]])"
            ]
          },
          "metadata": {
            "tags": []
          },
          "execution_count": 15
        }
      ]
    },
    {
      "cell_type": "markdown",
      "metadata": {
        "id": "bNhy_Qk2YBJO",
        "colab_type": "text"
      },
      "source": [
        "### Calculate weighted sum of inputs and weights"
      ]
    },
    {
      "cell_type": "code",
      "metadata": {
        "id": "Ex5b896fWrMQ",
        "colab_type": "code",
        "colab": {}
      },
      "source": [
        "weighted_sum = np.dot(inputs, weights)"
      ],
      "execution_count": 0,
      "outputs": []
    },
    {
      "cell_type": "markdown",
      "metadata": {
        "id": "c4z3LqLFaWMy",
        "colab_type": "text"
      },
      "source": [
        "### Output the activated value for the end of 1 training epoch"
      ]
    },
    {
      "cell_type": "code",
      "metadata": {
        "id": "llmNHRH5W4BA",
        "colab_type": "code",
        "colab": {}
      },
      "source": [
        "activated_output = sigmoid(weighted_sum)"
      ],
      "execution_count": 0,
      "outputs": []
    },
    {
      "cell_type": "markdown",
      "metadata": {
        "id": "o_P2i3KEaiVC",
        "colab_type": "text"
      },
      "source": [
        "### take difference of output and true values to calculate error"
      ]
    },
    {
      "cell_type": "code",
      "metadata": {
        "id": "6mg175C6XaYO",
        "colab_type": "code",
        "colab": {}
      },
      "source": [
        "error = correct_outputs - activated_output"
      ],
      "execution_count": 0,
      "outputs": []
    },
    {
      "cell_type": "code",
      "metadata": {
        "id": "hJH_wpb-XmKJ",
        "colab_type": "code",
        "colab": {}
      },
      "source": [
        "adjustments = error * sigmoid_derivative(activated_output)"
      ],
      "execution_count": 0,
      "outputs": []
    },
    {
      "cell_type": "code",
      "metadata": {
        "id": "6Ot9nBlyNpuy",
        "colab_type": "code",
        "colab": {}
      },
      "source": [
        "weights += np.dot(inputs.T, adjustments)"
      ],
      "execution_count": 0,
      "outputs": []
    },
    {
      "cell_type": "markdown",
      "metadata": {
        "id": "tc928NEda0UE",
        "colab_type": "text"
      },
      "source": [
        "### Put it all together"
      ]
    },
    {
      "cell_type": "code",
      "metadata": {
        "id": "5PGZR_caa18g",
        "colab_type": "code",
        "colab": {
          "base_uri": "https://localhost:8080/",
          "height": 173
        },
        "outputId": "13706276-8c21-4e49-8a41-0bc5dfe8e03d"
      },
      "source": [
        "for iteration in range (10000):\n",
        "  weighted_sum = np.dot(inputs, weights)\n",
        "  activated_output = sigmoid(weighted_sum)\n",
        "  error = correct_outputs - activated_output\n",
        "  adjustments = error * sigmoid(activated_output)\n",
        "  weights += np.dot(inputs.T, adjustments)\n",
        "  \n",
        "print('Weights after training')\n",
        "print(weights)\n",
        "\n",
        "print('Output after training')\n",
        "print(activated_output)"
      ],
      "execution_count": 23,
      "outputs": [
        {
          "output_type": "stream",
          "text": [
            "Weights after training\n",
            "[[17.04814357]\n",
            " [-0.40593864]\n",
            " [-7.92840284]]\n",
            "Output after training\n",
            "[[3.60267741e-04]\n",
            " [9.99835708e-01]\n",
            " [9.99890518e-01]\n",
            " [2.40093639e-04]]\n"
          ],
          "name": "stdout"
        }
      ]
    },
    {
      "cell_type": "markdown",
      "metadata": {
        "colab_type": "text",
        "id": "sCeW6EVAu-jt"
      },
      "source": [
        "# Perceptrons can classify linearly separable classes\n",
        "\n",
        "<https://www.bogotobogo.com/python/scikit-learn/Perceptron_Model_with_Iris_DataSet.php>"
      ]
    },
    {
      "cell_type": "code",
      "metadata": {
        "colab_type": "code",
        "outputId": "f99180f3-ed5f-418e-8a81-cf9ea27de579",
        "id": "EYbebbPwu91r",
        "colab": {
          "base_uri": "https://localhost:8080/",
          "height": 202
        }
      },
      "source": [
        "import pandas as pd\n",
        "import numpy as np\n",
        "import matplotlib.pyplot as plt\n",
        "\n",
        "df = pd.read_csv('https://archive.ics.uci.edu/ml/machine-learning-databases/iris/iris.data', header=None)\n",
        "\n",
        "# Grab 50 versicolor and 50 virginica\n",
        "df.iloc[145:150, 0:5]"
      ],
      "execution_count": 24,
      "outputs": [
        {
          "output_type": "execute_result",
          "data": {
            "text/html": [
              "<div>\n",
              "<style scoped>\n",
              "    .dataframe tbody tr th:only-of-type {\n",
              "        vertical-align: middle;\n",
              "    }\n",
              "\n",
              "    .dataframe tbody tr th {\n",
              "        vertical-align: top;\n",
              "    }\n",
              "\n",
              "    .dataframe thead th {\n",
              "        text-align: right;\n",
              "    }\n",
              "</style>\n",
              "<table border=\"1\" class=\"dataframe\">\n",
              "  <thead>\n",
              "    <tr style=\"text-align: right;\">\n",
              "      <th></th>\n",
              "      <th>0</th>\n",
              "      <th>1</th>\n",
              "      <th>2</th>\n",
              "      <th>3</th>\n",
              "      <th>4</th>\n",
              "    </tr>\n",
              "  </thead>\n",
              "  <tbody>\n",
              "    <tr>\n",
              "      <th>145</th>\n",
              "      <td>6.7</td>\n",
              "      <td>3.0</td>\n",
              "      <td>5.2</td>\n",
              "      <td>2.3</td>\n",
              "      <td>Iris-virginica</td>\n",
              "    </tr>\n",
              "    <tr>\n",
              "      <th>146</th>\n",
              "      <td>6.3</td>\n",
              "      <td>2.5</td>\n",
              "      <td>5.0</td>\n",
              "      <td>1.9</td>\n",
              "      <td>Iris-virginica</td>\n",
              "    </tr>\n",
              "    <tr>\n",
              "      <th>147</th>\n",
              "      <td>6.5</td>\n",
              "      <td>3.0</td>\n",
              "      <td>5.2</td>\n",
              "      <td>2.0</td>\n",
              "      <td>Iris-virginica</td>\n",
              "    </tr>\n",
              "    <tr>\n",
              "      <th>148</th>\n",
              "      <td>6.2</td>\n",
              "      <td>3.4</td>\n",
              "      <td>5.4</td>\n",
              "      <td>2.3</td>\n",
              "      <td>Iris-virginica</td>\n",
              "    </tr>\n",
              "    <tr>\n",
              "      <th>149</th>\n",
              "      <td>5.9</td>\n",
              "      <td>3.0</td>\n",
              "      <td>5.1</td>\n",
              "      <td>1.8</td>\n",
              "      <td>Iris-virginica</td>\n",
              "    </tr>\n",
              "  </tbody>\n",
              "</table>\n",
              "</div>"
            ],
            "text/plain": [
              "       0    1    2    3               4\n",
              "145  6.7  3.0  5.2  2.3  Iris-virginica\n",
              "146  6.3  2.5  5.0  1.9  Iris-virginica\n",
              "147  6.5  3.0  5.2  2.0  Iris-virginica\n",
              "148  6.2  3.4  5.4  2.3  Iris-virginica\n",
              "149  5.9  3.0  5.1  1.8  Iris-virginica"
            ]
          },
          "metadata": {
            "tags": []
          },
          "execution_count": 24
        }
      ]
    },
    {
      "cell_type": "code",
      "metadata": {
        "colab_type": "code",
        "outputId": "0fd7a8a7-004e-4ccd-964d-5f893b444cc9",
        "id": "CgwUISn9u8xo",
        "colab": {
          "base_uri": "https://localhost:8080/",
          "height": 537
        }
      },
      "source": [
        "y = df.iloc[0:100, 4].values\n",
        "y"
      ],
      "execution_count": 25,
      "outputs": [
        {
          "output_type": "execute_result",
          "data": {
            "text/plain": [
              "array(['Iris-setosa', 'Iris-setosa', 'Iris-setosa', 'Iris-setosa',\n",
              "       'Iris-setosa', 'Iris-setosa', 'Iris-setosa', 'Iris-setosa',\n",
              "       'Iris-setosa', 'Iris-setosa', 'Iris-setosa', 'Iris-setosa',\n",
              "       'Iris-setosa', 'Iris-setosa', 'Iris-setosa', 'Iris-setosa',\n",
              "       'Iris-setosa', 'Iris-setosa', 'Iris-setosa', 'Iris-setosa',\n",
              "       'Iris-setosa', 'Iris-setosa', 'Iris-setosa', 'Iris-setosa',\n",
              "       'Iris-setosa', 'Iris-setosa', 'Iris-setosa', 'Iris-setosa',\n",
              "       'Iris-setosa', 'Iris-setosa', 'Iris-setosa', 'Iris-setosa',\n",
              "       'Iris-setosa', 'Iris-setosa', 'Iris-setosa', 'Iris-setosa',\n",
              "       'Iris-setosa', 'Iris-setosa', 'Iris-setosa', 'Iris-setosa',\n",
              "       'Iris-setosa', 'Iris-setosa', 'Iris-setosa', 'Iris-setosa',\n",
              "       'Iris-setosa', 'Iris-setosa', 'Iris-setosa', 'Iris-setosa',\n",
              "       'Iris-setosa', 'Iris-setosa', 'Iris-versicolor', 'Iris-versicolor',\n",
              "       'Iris-versicolor', 'Iris-versicolor', 'Iris-versicolor',\n",
              "       'Iris-versicolor', 'Iris-versicolor', 'Iris-versicolor',\n",
              "       'Iris-versicolor', 'Iris-versicolor', 'Iris-versicolor',\n",
              "       'Iris-versicolor', 'Iris-versicolor', 'Iris-versicolor',\n",
              "       'Iris-versicolor', 'Iris-versicolor', 'Iris-versicolor',\n",
              "       'Iris-versicolor', 'Iris-versicolor', 'Iris-versicolor',\n",
              "       'Iris-versicolor', 'Iris-versicolor', 'Iris-versicolor',\n",
              "       'Iris-versicolor', 'Iris-versicolor', 'Iris-versicolor',\n",
              "       'Iris-versicolor', 'Iris-versicolor', 'Iris-versicolor',\n",
              "       'Iris-versicolor', 'Iris-versicolor', 'Iris-versicolor',\n",
              "       'Iris-versicolor', 'Iris-versicolor', 'Iris-versicolor',\n",
              "       'Iris-versicolor', 'Iris-versicolor', 'Iris-versicolor',\n",
              "       'Iris-versicolor', 'Iris-versicolor', 'Iris-versicolor',\n",
              "       'Iris-versicolor', 'Iris-versicolor', 'Iris-versicolor',\n",
              "       'Iris-versicolor', 'Iris-versicolor', 'Iris-versicolor',\n",
              "       'Iris-versicolor', 'Iris-versicolor', 'Iris-versicolor'],\n",
              "      dtype=object)"
            ]
          },
          "metadata": {
            "tags": []
          },
          "execution_count": 25
        }
      ]
    },
    {
      "cell_type": "code",
      "metadata": {
        "colab_type": "code",
        "outputId": "913d1861-88e9-47ad-a40a-01ef2fbd5cbc",
        "id": "HpLmUPCau8Nm",
        "colab": {
          "base_uri": "https://localhost:8080/",
          "height": 121
        }
      },
      "source": [
        "y = np.where(y == 'Iris-setosa', -1, 1)\n",
        "y"
      ],
      "execution_count": 26,
      "outputs": [
        {
          "output_type": "execute_result",
          "data": {
            "text/plain": [
              "array([-1, -1, -1, -1, -1, -1, -1, -1, -1, -1, -1, -1, -1, -1, -1, -1, -1,\n",
              "       -1, -1, -1, -1, -1, -1, -1, -1, -1, -1, -1, -1, -1, -1, -1, -1, -1,\n",
              "       -1, -1, -1, -1, -1, -1, -1, -1, -1, -1, -1, -1, -1, -1, -1, -1,  1,\n",
              "        1,  1,  1,  1,  1,  1,  1,  1,  1,  1,  1,  1,  1,  1,  1,  1,  1,\n",
              "        1,  1,  1,  1,  1,  1,  1,  1,  1,  1,  1,  1,  1,  1,  1,  1,  1,\n",
              "        1,  1,  1,  1,  1,  1,  1,  1,  1,  1,  1,  1,  1,  1,  1])"
            ]
          },
          "metadata": {
            "tags": []
          },
          "execution_count": 26
        }
      ]
    },
    {
      "cell_type": "code",
      "metadata": {
        "colab_type": "code",
        "outputId": "00bf6b96-1566-4c87-8322-1610539609ad",
        "id": "3ngdKVNhu7h1",
        "colab": {
          "base_uri": "https://localhost:8080/",
          "height": 1751
        }
      },
      "source": [
        "X = df.iloc[0:100, [0, 2]].values\n",
        "X"
      ],
      "execution_count": 27,
      "outputs": [
        {
          "output_type": "execute_result",
          "data": {
            "text/plain": [
              "array([[5.1, 1.4],\n",
              "       [4.9, 1.4],\n",
              "       [4.7, 1.3],\n",
              "       [4.6, 1.5],\n",
              "       [5. , 1.4],\n",
              "       [5.4, 1.7],\n",
              "       [4.6, 1.4],\n",
              "       [5. , 1.5],\n",
              "       [4.4, 1.4],\n",
              "       [4.9, 1.5],\n",
              "       [5.4, 1.5],\n",
              "       [4.8, 1.6],\n",
              "       [4.8, 1.4],\n",
              "       [4.3, 1.1],\n",
              "       [5.8, 1.2],\n",
              "       [5.7, 1.5],\n",
              "       [5.4, 1.3],\n",
              "       [5.1, 1.4],\n",
              "       [5.7, 1.7],\n",
              "       [5.1, 1.5],\n",
              "       [5.4, 1.7],\n",
              "       [5.1, 1.5],\n",
              "       [4.6, 1. ],\n",
              "       [5.1, 1.7],\n",
              "       [4.8, 1.9],\n",
              "       [5. , 1.6],\n",
              "       [5. , 1.6],\n",
              "       [5.2, 1.5],\n",
              "       [5.2, 1.4],\n",
              "       [4.7, 1.6],\n",
              "       [4.8, 1.6],\n",
              "       [5.4, 1.5],\n",
              "       [5.2, 1.5],\n",
              "       [5.5, 1.4],\n",
              "       [4.9, 1.5],\n",
              "       [5. , 1.2],\n",
              "       [5.5, 1.3],\n",
              "       [4.9, 1.5],\n",
              "       [4.4, 1.3],\n",
              "       [5.1, 1.5],\n",
              "       [5. , 1.3],\n",
              "       [4.5, 1.3],\n",
              "       [4.4, 1.3],\n",
              "       [5. , 1.6],\n",
              "       [5.1, 1.9],\n",
              "       [4.8, 1.4],\n",
              "       [5.1, 1.6],\n",
              "       [4.6, 1.4],\n",
              "       [5.3, 1.5],\n",
              "       [5. , 1.4],\n",
              "       [7. , 4.7],\n",
              "       [6.4, 4.5],\n",
              "       [6.9, 4.9],\n",
              "       [5.5, 4. ],\n",
              "       [6.5, 4.6],\n",
              "       [5.7, 4.5],\n",
              "       [6.3, 4.7],\n",
              "       [4.9, 3.3],\n",
              "       [6.6, 4.6],\n",
              "       [5.2, 3.9],\n",
              "       [5. , 3.5],\n",
              "       [5.9, 4.2],\n",
              "       [6. , 4. ],\n",
              "       [6.1, 4.7],\n",
              "       [5.6, 3.6],\n",
              "       [6.7, 4.4],\n",
              "       [5.6, 4.5],\n",
              "       [5.8, 4.1],\n",
              "       [6.2, 4.5],\n",
              "       [5.6, 3.9],\n",
              "       [5.9, 4.8],\n",
              "       [6.1, 4. ],\n",
              "       [6.3, 4.9],\n",
              "       [6.1, 4.7],\n",
              "       [6.4, 4.3],\n",
              "       [6.6, 4.4],\n",
              "       [6.8, 4.8],\n",
              "       [6.7, 5. ],\n",
              "       [6. , 4.5],\n",
              "       [5.7, 3.5],\n",
              "       [5.5, 3.8],\n",
              "       [5.5, 3.7],\n",
              "       [5.8, 3.9],\n",
              "       [6. , 5.1],\n",
              "       [5.4, 4.5],\n",
              "       [6. , 4.5],\n",
              "       [6.7, 4.7],\n",
              "       [6.3, 4.4],\n",
              "       [5.6, 4.1],\n",
              "       [5.5, 4. ],\n",
              "       [5.5, 4.4],\n",
              "       [6.1, 4.6],\n",
              "       [5.8, 4. ],\n",
              "       [5. , 3.3],\n",
              "       [5.6, 4.2],\n",
              "       [5.7, 4.2],\n",
              "       [5.7, 4.2],\n",
              "       [6.2, 4.3],\n",
              "       [5.1, 3. ],\n",
              "       [5.7, 4.1]])"
            ]
          },
          "metadata": {
            "tags": []
          },
          "execution_count": 27
        }
      ]
    },
    {
      "cell_type": "code",
      "metadata": {
        "colab_type": "code",
        "outputId": "d88304c7-f25e-46d9-afb5-b19235f60a6e",
        "id": "qMwijtrju62D",
        "colab": {
          "base_uri": "https://localhost:8080/",
          "height": 283
        }
      },
      "source": [
        "plt.scatter(X[:50, 0], X[:50, 1], color='red', marker='o', label='setosa')\n",
        "plt.scatter(X[50:100, 0], X[50:100, 1], color='blue', marker='x', label='versicolor')\n",
        "plt.xlabel('petal length')\n",
        "plt.ylabel('sepal length')\n",
        "plt.legend(loc='upper left')\n",
        "plt.show()"
      ],
      "execution_count": 28,
      "outputs": [
        {
          "output_type": "display_data",
          "data": {
            "image/png": "[encoded data removed]",
            "text/plain": [
              "<Figure size 432x288 with 1 Axes>"
            ]
          },
          "metadata": {
            "tags": []
          }
        }
      ]
    },
    {
      "cell_type": "code",
      "metadata": {
        "colab_type": "code",
        "id": "4Ax_1Ewsu59o",
        "colab": {}
      },
      "source": [
        "class Perceptron(object):\n",
        "  def __init__(self, rate = 0.01, niter = 10):\n",
        "    self.rate = rate\n",
        "    self.niter = niter\n",
        "\n",
        "  def fit(self, X, y):\n",
        "    \"\"\"Fit training data\n",
        "    X : Training vectors, X.shape : [#samples, #features]\n",
        "    y : Target values, y.shape : [#samples]\n",
        "    \"\"\"\n",
        "\n",
        "    # weights\n",
        "    self.weight = np.zeros(1 + X.shape[1])\n",
        "\n",
        "    # Number of misclassifications\n",
        "    self.errors = []  # Number of misclassifications\n",
        "\n",
        "    for i in range(self.niter):\n",
        "      err = 0\n",
        "      for xi, target in zip(X, y):\n",
        "        delta_w = self.rate * (target - self.predict(xi))\n",
        "        self.weight[1:] += delta_w * xi\n",
        "        self.weight[0] += delta_w\n",
        "        err += int(delta_w != 0.0)\n",
        "      self.errors.append(err)\n",
        "    return self\n",
        "\n",
        "  def net_input(self, X):\n",
        "    \"\"\"Calculate net input\"\"\"\n",
        "    return np.dot(X, self.weight[1:]) + self.weight[0]\n",
        "\n",
        "  def predict(self, X):\n",
        "    \"\"\"Return class label after unit step\"\"\"\n",
        "    return np.where(self.net_input(X) >= 0.0, 1, -1)"
      ],
      "execution_count": 0,
      "outputs": []
    },
    {
      "cell_type": "code",
      "metadata": {
        "colab_type": "code",
        "outputId": "0897c22f-d50c-40b5-c6af-7f6ba5d479c6",
        "id": "ftFsGyvpu5iC",
        "colab": {
          "base_uri": "https://localhost:8080/",
          "height": 283
        }
      },
      "source": [
        "pn = Perceptron(0.1, 10)\n",
        "pn.fit(X, y)\n",
        "plt.plot(range(1, len(pn.errors) + 1), pn.errors, marker='o')\n",
        "plt.xlabel('Epochs')\n",
        "plt.ylabel('Number of misclassifications')\n",
        "plt.show()"
      ],
      "execution_count": 30,
      "outputs": [
        {
          "output_type": "display_data",
          "data": {
            "image/png": "[encoded data removed]",
            "text/plain": [
              "<Figure size 432x288 with 1 Axes>"
            ]
          },
          "metadata": {
            "tags": []
          }
        }
      ]
    },
    {
      "cell_type": "code",
      "metadata": {
        "colab_type": "code",
        "id": "4VAnfC7fu5P7",
        "colab": {}
      },
      "source": [
        "from matplotlib.colors import ListedColormap\n",
        "def plot_decision_regions(X, y, classifier, resolution=0.02):\n",
        "  # setup marker generator and color map\n",
        "  markers = ('s', 'x', 'o', '^', 'v')\n",
        "  colors = ('red', 'blue', 'lightgreen', 'gray', 'cyan')\n",
        "  cmap = ListedColormap(colors[:len(np.unique(y))])\n",
        "\n",
        "  # plot the decision surface\n",
        "  x1_min, x1_max = X[:,  0].min() - 1, X[:, 0].max() + 1\n",
        "  x2_min, x2_max = X[:, 1].min() - 1, X[:, 1].max() + 1\n",
        "  xx1, xx2 = np.meshgrid(np.arange(x1_min, x1_max, resolution),\n",
        "  np.arange(x2_min, x2_max, resolution))\n",
        "  Z = classifier.predict(np.array([xx1.ravel(), xx2.ravel()]).T)\n",
        "  Z = Z.reshape(xx1.shape)\n",
        "  plt.contourf(xx1, xx2, Z, alpha=0.4, cmap=cmap)\n",
        "  plt.xlim(xx1.min(), xx1.max())\n",
        "  plt.ylim(xx2.min(), xx2.max())\n",
        "\n",
        "  # plot class samples\n",
        "  for idx, cl in enumerate(np.unique(y)):\n",
        "    plt.scatter(x=X[y == cl, 0], y=X[y == cl, 1],\n",
        "    alpha=0.8, c=cmap(idx),\n",
        "    marker=markers[idx], label=cl)"
      ],
      "execution_count": 0,
      "outputs": []
    },
    {
      "cell_type": "code",
      "metadata": {
        "id": "ntqksaQjr7Cm",
        "colab_type": "code",
        "outputId": "968e0a5c-bf9a-43d0-a7ea-595e54951d2d",
        "colab": {
          "base_uri": "https://localhost:8080/",
          "height": 338
        }
      },
      "source": [
        ">>> plot_decision_regions(X, y, classifier=pn)\n",
        ">>> plt.xlabel('sepal length [cm]')\n",
        ">>> plt.ylabel('petal length [cm]')\n",
        ">>> plt.legend(loc='upper left')\n",
        "plt.show()"
      ],
      "execution_count": 32,
      "outputs": [
        {
          "output_type": "stream",
          "text": [
            "'c' argument looks like a single numeric RGB or RGBA sequence, which should be avoided as value-mapping will have precedence in case its length matches with 'x' & 'y'.  Please use a 2-D array with a single row if you really want to specify the same RGB or RGBA value for all points.\n",
            "'c' argument looks like a single numeric RGB or RGBA sequence, which should be avoided as value-mapping will have precedence in case its length matches with 'x' & 'y'.  Please use a 2-D array with a single row if you really want to specify the same RGB or RGBA value for all points.\n"
          ],
          "name": "stderr"
        },
        {
          "output_type": "display_data",
          "data": {
            "image/png": "[encoded data removed]",
            "text/plain": [
              "<Figure size 432x288 with 1 Axes>"
            ]
          },
          "metadata": {
            "tags": []
          }
        }
      ]
    },
    {
      "cell_type": "markdown",
      "metadata": {
        "id": "ucUP72uiyQ_0",
        "colab_type": "text"
      },
      "source": [
        "## Additional Resources:\n",
        "\n",
        "- 3 Blue 1 Brown Neural Network Video: <https://youtu.be/aircAruvnKk>\n",
        "- Andrew Ng Neural Network Introduction Videos: <https://www.youtube.com/watch?v=1ZhtwInuOD0&list=PLLssT5z_DsK-h9vYZkQkYNWcItqhlRJLN&index=43>"
      ]
    }
  ]
}