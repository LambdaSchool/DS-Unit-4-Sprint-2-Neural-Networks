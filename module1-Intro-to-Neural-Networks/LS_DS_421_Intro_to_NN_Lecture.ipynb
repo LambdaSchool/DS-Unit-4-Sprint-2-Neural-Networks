{
 "cells": [
  {
   "cell_type": "markdown",
   "metadata": {
    "colab_type": "text",
    "id": "iAJaRSseDCrU"
   },
   "source": [
    "<img align=\"left\" src=\"https://lever-client-logos.s3.amazonaws.com/864372b1-534c-480e-acd5-9711f850815c-1524247202159.png\" width=200>\n",
    "<br></br>\n",
    "<br></br>\n",
    "\n",
    "# Neural Networks\n",
    "\n",
    "## *Data Science Unit 4 Sprint 2 Lesson 1*\n",
    "\n",
    "Neural Networks are a whole new area of study and application that can be intimidating, but which represents some of the most powerful tools and techniques that we possess in machine learning today. In spite of the hype surrounding these topics I hope that you will come to see them as just another tool in your toolbag with their own strengths and weaknesses. They are useful, but they are not a silver bullet, and they are not always preferable to other -perhaps more simple- machine learning methods. \n",
    "\n",
    "The goal of this week is to familiarize you with the fundamental theory, terminology and libraries that will enable you to approach different neural network architectures (called topologies) in a sophisticated manner. This week will not be a run-through of the history of Neural Networks and each of the individual advancements leading up to current technologies -we don't have time for that. We will spend some time on some older methods, but only to the degree that they will help introduce us to relevant terminology and understand more complex versions of these technologies.\n",
    "\n",
    "## Learning Objectives\n",
    "* <a href=\"#p1\">Part 1</a>: Describe the foundational components of a neural network\n",
    "* <a href=\"#p2\">Part 2</a>: Implement a Perceptron from Scratch in Python"
   ]
  },
  {
   "cell_type": "markdown",
   "metadata": {
    "colab_type": "text",
    "id": "vCyHLvj4HsrQ"
   },
   "source": [
    "## \"Neural\" Networks\n",
    "<a id=\"p1\"></a>\n",
    "\n",
    "![Wikipedia Neuron Diagram](https://upload.wikimedia.org/wikipedia/commons/thumb/b/bc/Neuron_Hand-tuned.svg/1280px-Neuron_Hand-tuned.svg.png)\n",
    "\n",
    "Neural Networks aren't exactly a new technology, but recent breakthroughs have revitalized the area. For example the \"Perceptron\" -one of the basic building blocks of the technology- was invented in 1957. \n",
    "\n",
    "Artificial Neural Networks are a computational model that was inspired by how neural networks in the brain process information. In the brain electrochemical signals flow from earlier neurons through the dendrites of the cell toward the cell body. If the received signals surpass a certain threshold with a given timing then the neuron fires sending a large spike of energy down the axon and through the axon terminals to other neurons down the line. \n",
    "\n",
    "In Artificial Neural Networks the neurons or \"nodes\" are similar in that they receive inputs and pass on their signal to the next layer of nodes if a certain threshold is reached, but that's about where the similarities end. Remember that ANNs are not brains. Don't fall into the common trap of assuming that if an Artificial Neural Network has as many nodes as the human brain that it will be just as powerful or just as capable. The goal with ANNs is not to create a realistic model of the brain but to craft robust algorithms and data structures that can model the complex relationships found in data."
   ]
  },
  {
   "cell_type": "markdown",
   "metadata": {
    "colab_type": "text",
    "id": "WUaY3-inOrea"
   },
   "source": [
    "## Starting off Very Simple\n",
    "\n",
    "Portions of this part of lecture taken liberally from Jay Alammar's \"[A Visual and Interactive Guide to the Basics of Neural Networks](http://jalammar.github.io/visual-interactive-guide-basics-neural-networks/)\" -> Jay's work here will be very good for helping us connect some of the principles of Neural Networks to past concepts, and for establishing some beginning terminology, but we're going to need more than this post if we want to start writing and using neural networks with code. I also want to elaborate a little bit on what he has written."
   ]
  },
  {
   "cell_type": "markdown",
   "metadata": {
    "colab_type": "text",
    "id": "28tLn2-XSe7y"
   },
   "source": [
    "### Buying a House\n",
    "\n",
    "Say you want to buy a house, you're quoted $400,000 for a 2000 square foot house. Is that good? Is that bad? How can we know? Well, we can gather up some more prices of other homes in the area and their square footages to compare.\n",
    "\n",
    "| Square Footage | Price  |\n",
    "|----------------|--------|\n",
    "| 2104           | 399900 |\n",
    "| 1600           | 329900 |\n",
    "| 2400           | 369000 |\n",
    "\n",
    "Ok, so now we have a little bit more data to compare to, how can we compare the price that we're getting to the prices of these houses? We can't compare price directly because all of these homes are different sizes, so we decide to calculate an average price per square foot for these three homes and we'll compare that to the average square footage price for the house that we have been looking at.\n",
    "\n",
    "It turns out that these houses cost about $180 per square foot. Now, assuming that information we gathered about houses in the area is representative of housing prices in the area we can create a little diagram for ourselves to help us evaluate the price of any home:\n",
    "\n",
    "![First NN](http://jalammar.github.io/images/simple_NN_1.png)\n",
    "\n",
    "What does our neural network predict should be the price of the house that we are looking at?"
   ]
  },
  {
   "cell_type": "markdown",
   "metadata": {
    "colab_type": "text",
    "id": "LhhsQFuyVuR0"
   },
   "source": [
    "## Node Maps\n",
    "\n",
    "We've created our first *extremely* basic neural network, it takes an input, modifies it by a weight (180) and reports an output. Please, instead of thinking about neural networks as if they were brains think about them as a function or a \"mapping\" from inputs to outputs just like we have established many times before. \n",
    "\n",
    "![A Mapping](http://jalammar.github.io/images/NNs_formula_no_bias.png)\n",
    "\n",
    "What we have here above is what's known as a \"Node Map\" it's a visual diagram of the architecture or \"topology\" of our neural network. It's kind of like a flow chart in that it shows the path from inputs to outputs. They are usually color coded and help us understand at a very high level, some of the differences in architecture between kinds of neural networks. Just like with all the areas of machine learning that we have studied before there is a \"[zoo](http://www.asimovinstitute.org/neural-network-zoo/)\" of neural network architectures:\n",
    "\n",
    "![Neural Network Zoo](http://www.asimovinstitute.org/wp-content/uploads/2016/09/neuralnetworks.png)\n",
    "\n",
    "  "
   ]
  },
  {
   "cell_type": "markdown",
   "metadata": {
    "colab_type": "text",
    "id": "6fYbPmJ-ZDWt"
   },
   "source": [
    "### Types of Layers:\n",
    "\n",
    "There are three main types of neuron layers in a typical NN topology:\n",
    "\n",
    "### Input or Visible Layers\n",
    "\n",
    "The Input Layer is what receives input from our dataset. Sometimes it is called the visible layer because it's the only part that is exposed to our data and that our data interacts with directly. Typically node maps are drawn with one input node for each of the different inputs/features/columns of our dataset that will be passed to the network. \n",
    "\n",
    "### Hidden Layers\n",
    "\n",
    "Layers after the input layer are called Hidden Layers. This is because they cannot be accessed except through the input layer. They're inside of the network and they perform their functions, but we don't directly interact with them. The simplest possible network is to have a single neuron in the hidden layer that just outputs the value. \"Deep Learning\" apart from being a big buzzword simply means that we are using a Neural Network that has multiple hidden layers. \"Deep Learning\" is a big part of the renewed hype around ANNs because it allows networks that are structured in specific ways to accomplish tasks that were previously out of reach (image recognition for example).  \n",
    "\n",
    "### Output Layers\n",
    "\n",
    "The final layer is called the Output Layer. The purpose of the output layer is to output a vector of values that is in a format that is suitable for the type of problem that we're trying to address. Typically the output value is modified by an \"activation function\" to transform it into a format that makes sense for our context, here's a couple of examples:\n",
    "\n",
    "- NNs applied to a regression problem might have a single output node with no activation function because what we want is an unbounded continuous value.\n",
    "\n",
    "- NNS applied to a binary classification problem might use a sigmoid function as its activation function in order to squishify values down to represent a probability. Outputs in this case would represent the probability of predicting the primary class of interest. We can turn this into a class-specific prediction by rounding the outputted sigmoid probability up to 1 or down to 0. \n",
    "\n",
    "- NNS applied to multiclass classification problems might have multiple output nodes in the output layer, one for each class that we're trying to predict. This output layer would probably employ what's called a \"softmax function\" for accomplishing this. Don't worry about how that activation function works just yet, we'll get to it soon."
   ]
  },
  {
   "cell_type": "markdown",
   "metadata": {
    "colab_type": "text",
    "id": "hbOJUGsddcJA"
   },
   "source": [
    "## Back to our House Problem\n",
    "\n",
    " Is a neural network that predicts home prices based on the average square footage of homes in the are a good one? How can we evaluate the quality of our predictions?\n",
    " \n",
    "We evaluate the quality of our predictions just like we would any machine learning algorithm. We look at what the algorithm predicted and compare it to the actual price to see how far off we are. We know that our predictions are getting better if our predictions get closer to the actual prices in our training data / testing data. \n",
    "\n",
    "So how is our Neural Network doing?"
   ]
  },
  {
   "cell_type": "code",
   "execution_count": 1,
   "metadata": {
    "colab": {
     "base_uri": "https://localhost:8080/",
     "height": 136
    },
    "colab_type": "code",
    "id": "zxnRa-bzB-m2",
    "outputId": "ed67e674-3755-4fe1-c22c-befc91380c41"
   },
   "outputs": [
    {
     "data": {
      "text/html": [
       "<div>\n",
       "<style scoped>\n",
       "    .dataframe tbody tr th:only-of-type {\n",
       "        vertical-align: middle;\n",
       "    }\n",
       "\n",
       "    .dataframe tbody tr th {\n",
       "        vertical-align: top;\n",
       "    }\n",
       "\n",
       "    .dataframe thead th {\n",
       "        text-align: right;\n",
       "    }\n",
       "</style>\n",
       "<table border=\"1\" class=\"dataframe\">\n",
       "  <thead>\n",
       "    <tr style=\"text-align: right;\">\n",
       "      <th></th>\n",
       "      <th>sqft</th>\n",
       "      <th>price_in_thous</th>\n",
       "      <th>predictions</th>\n",
       "      <th>difference</th>\n",
       "      <th>diff_squared</th>\n",
       "    </tr>\n",
       "  </thead>\n",
       "  <tbody>\n",
       "    <tr>\n",
       "      <th>0</th>\n",
       "      <td>2104</td>\n",
       "      <td>399.9</td>\n",
       "      <td>379</td>\n",
       "      <td>21</td>\n",
       "      <td>449</td>\n",
       "    </tr>\n",
       "    <tr>\n",
       "      <th>1</th>\n",
       "      <td>1600</td>\n",
       "      <td>329.9</td>\n",
       "      <td>288</td>\n",
       "      <td>42</td>\n",
       "      <td>1756</td>\n",
       "    </tr>\n",
       "    <tr>\n",
       "      <th>2</th>\n",
       "      <td>2400</td>\n",
       "      <td>369.0</td>\n",
       "      <td>432</td>\n",
       "      <td>-63</td>\n",
       "      <td>3969</td>\n",
       "    </tr>\n",
       "  </tbody>\n",
       "</table>\n",
       "</div>"
      ],
      "text/plain": [
       "   sqft  price_in_thous  predictions  difference  diff_squared\n",
       "0  2104           399.9          379          21           449\n",
       "1  1600           329.9          288          42          1756\n",
       "2  2400           369.0          432         -63          3969"
      ]
     },
     "execution_count": 1,
     "metadata": {},
     "output_type": "execute_result"
    }
   ],
   "source": [
    "import pandas as pd\n",
    "import matplotlib.pyplot as plt\n",
    "\n",
    "x = [2104, 1600, 2400]\n",
    "y = [399.9, 329.9, 369]\n",
    "predictions = [379, 288, 432]\n",
    "difference = [21, 42, -63]\n",
    "difference_squared = [449, 1756, 3969]\n",
    "\n",
    "df = pd.DataFrame({'sqft': x, \"price_in_thous\": y, \"predictions\": predictions, \n",
    "                   \"difference\": difference, \"diff_squared\": difference_squared})\n",
    "df.head()"
   ]
  },
  {
   "cell_type": "code",
   "execution_count": 2,
   "metadata": {
    "colab": {
     "base_uri": "https://localhost:8080/",
     "height": 376
    },
    "colab_type": "code",
    "id": "JgKs9py9fBuM",
    "outputId": "2d16ce33-a8ad-4052-e4b7-3d4717305389"
   },
   "outputs": [
    {
     "data": {
      "image/png": "[encoded data removed]",
      "text/plain": [
       "<Figure size 432x288 with 1 Axes>"
      ]
     },
     "metadata": {
      "needs_background": "light"
     },
     "output_type": "display_data"
    }
   ],
   "source": [
    "plt.scatter(df.sqft, df.price_in_thous)\n",
    "plt.xlabel(\"Square Feet\")\n",
    "plt.ylabel(\"Price in Thousands of Dollars\")\n",
    "plt.title(\"Home Price Estimates\")\n",
    "\n",
    "# Plot the line\n",
    "price_per_sqft = .180\n",
    "\n",
    "y_hat = [price_per_sqft*x for x in df.sqft]\n",
    "plt.plot(df.sqft, y_hat, color=\"red\")\n",
    "\n",
    "plt.show()"
   ]
  },
  {
   "cell_type": "markdown",
   "metadata": {
    "colab_type": "text",
    "id": "D_422Q5XgTo5"
   },
   "source": [
    "## Look Familiar?\n",
    "\n",
    "Well it should because we've just plotted a regression line hypothesis based on the average square foot price of the three homes that we looked at. Our average error for this line is:"
   ]
  },
  {
   "cell_type": "code",
   "execution_count": 3,
   "metadata": {
    "colab": {
     "base_uri": "https://localhost:8080/",
     "height": 34
    },
    "colab_type": "code",
    "id": "CY6xiQ-BgxLR",
    "outputId": "68de5027-fa5a-4555-e909-f1f5fda536a3"
   },
   "outputs": [
    {
     "name": "stdout",
     "output_type": "stream",
     "text": [
      "Mean Squared Error: 2058.0\n"
     ]
    }
   ],
   "source": [
    "print(\"Mean Squared Error:\", df.diff_squared.mean())"
   ]
  },
  {
   "cell_type": "markdown",
   "metadata": {
    "colab_type": "text",
    "id": "Mesjb_tfg2zQ"
   },
   "source": [
    "Now, we didn't fit this line using any regression techniques so it's likely that it's **not** the line of best fit. But we could try out other lines and see if the error gets bigger or smaller. Well it just so happens that in this two dimensional world that if our line is stuck to the origin on one end then we don't have all of the freedom that we want to control our predictions. We need some way to slide it up and down the y axis so that we can make any line that we want in this two-dimensional world. This y-intercept is a constant value, or in other words it's always weighted by 1. We're going to call this y-intercept our \"bias\" term. We'll define this a little bit better in a minute. \n",
    "\n",
    "![New Network with Bias](http://jalammar.github.io/images/NNs_bias.png)\n",
    "\n",
    "Now I don't love this diagram because it shows our \"bias\" term as if it was a new horizontal layer, in reality the bias term interacts with a single layer to affect all layers after the hidden layer that it is associated with. This diagram will give you a better idea: \n",
    "\n",
    "![Bias Terms](https://i.stack.imgur.com/6S6Bz.png)\n"
   ]
  },
  {
   "cell_type": "markdown",
   "metadata": {
    "colab_type": "text",
    "id": "xzPvDJvTi7xc"
   },
   "source": []
  },
  {
   "cell_type": "code",
   "execution_count": 8,
   "metadata": {
    "colab": {
     "base_uri": "https://localhost:8080/",
     "height": 84
    },
    "colab_type": "code",
    "id": "y_7t3vOBfYDz",
    "outputId": "a0ad47ab-f923-47d0-9268-85154768427f"
   },
   "outputs": [
    {
     "name": "stdout",
     "output_type": "stream",
     "text": [
      "Predictions: [370.4, 320.0, 400.0]\n",
      "Difference: [ 29.5   9.9 -31. ]\n",
      "Difference Squared: [870.25  98.01 961.  ]\n",
      "Mean Squared Error 643.0866666666665\n"
     ]
    }
   ],
   "source": [
    "import numpy as np\n",
    "\n",
    "weight = .100\n",
    "bias = 160\n",
    "\n",
    "X = np.array([2104, 1600, 2400])\n",
    "y = np.array([399.9, 329.9, 369])\n",
    "predictions = [weight*x + bias for x in X]\n",
    "print(\"Predictions:\", predictions)\n",
    "difference = y-predictions\n",
    "print(\"Difference:\", difference)\n",
    "difference_squared = difference**2\n",
    "print(\"Difference Squared:\", difference_squared)\n",
    "MSE = difference_squared.sum()/len(difference_squared)\n",
    "print(\"Mean Squared Error\", MSE)"
   ]
  },
  {
   "cell_type": "code",
   "execution_count": 9,
   "metadata": {
    "colab": {
     "base_uri": "https://localhost:8080/",
     "height": 376
    },
    "colab_type": "code",
    "id": "gdCy8l7Sj6nW",
    "outputId": "2ae1aa54-ff2f-4a15-9eb7-709d36ed501a"
   },
   "outputs": [
    {
     "data": {
      "image/png": "[encoded data removed]",
      "text/plain": [
       "<Figure size 432x288 with 1 Axes>"
      ]
     },
     "metadata": {
      "needs_background": "light"
     },
     "output_type": "display_data"
    }
   ],
   "source": [
    "plt.scatter(X, y)\n",
    "plt.xlabel(\"Square Feet\")\n",
    "plt.ylabel(\"Price in Thousands of Dollars\")\n",
    "plt.title(\"Home Price Estimates\")\n",
    "\n",
    "# Plot the line\n",
    "price_per_sqft = .180\n",
    "\n",
    "y_hat = [weight*x + bias for x in X]\n",
    "plt.plot(X, y_hat, color=\"green\")\n",
    "\n",
    "y_hat = [price_per_sqft*x for x in df.sqft]\n",
    "plt.plot(df.sqft, y_hat, color=\"red\")\n",
    "\n",
    "plt.show()"
   ]
  },
  {
   "cell_type": "markdown",
   "metadata": {
    "colab_type": "text",
    "id": "ra7k-EJBj5_o"
   },
   "source": [
    "The bias value in coordination with our weight gives our network the full range of motion that it needs to find the best way to explain the patterns in the data. \n",
    "\n",
    "Well, what if instead of only looking at square footage we collected a second data point like number of bathrooms there is in each house. Lets also get a few more data points while we're at it:"
   ]
  },
  {
   "cell_type": "code",
   "execution_count": 10,
   "metadata": {
    "colab": {
     "base_uri": "https://localhost:8080/",
     "height": 343
    },
    "colab_type": "code",
    "id": "UTZYAnU6myqP",
    "outputId": "e865a9a6-fea9-4139-c2b3-2b6fdd3b35a9"
   },
   "outputs": [
    {
     "data": {
      "text/html": [
       "<div>\n",
       "<style scoped>\n",
       "    .dataframe tbody tr th:only-of-type {\n",
       "        vertical-align: middle;\n",
       "    }\n",
       "\n",
       "    .dataframe tbody tr th {\n",
       "        vertical-align: top;\n",
       "    }\n",
       "\n",
       "    .dataframe thead th {\n",
       "        text-align: right;\n",
       "    }\n",
       "</style>\n",
       "<table border=\"1\" class=\"dataframe\">\n",
       "  <thead>\n",
       "    <tr style=\"text-align: right;\">\n",
       "      <th></th>\n",
       "      <th>sqft</th>\n",
       "      <th>bathrooms</th>\n",
       "      <th>price</th>\n",
       "    </tr>\n",
       "  </thead>\n",
       "  <tbody>\n",
       "    <tr>\n",
       "      <th>0</th>\n",
       "      <td>2104</td>\n",
       "      <td>3</td>\n",
       "      <td>399900</td>\n",
       "    </tr>\n",
       "    <tr>\n",
       "      <th>1</th>\n",
       "      <td>1600</td>\n",
       "      <td>3</td>\n",
       "      <td>329900</td>\n",
       "    </tr>\n",
       "    <tr>\n",
       "      <th>2</th>\n",
       "      <td>2400</td>\n",
       "      <td>3</td>\n",
       "      <td>369000</td>\n",
       "    </tr>\n",
       "    <tr>\n",
       "      <th>3</th>\n",
       "      <td>1416</td>\n",
       "      <td>2</td>\n",
       "      <td>232000</td>\n",
       "    </tr>\n",
       "    <tr>\n",
       "      <th>4</th>\n",
       "      <td>3000</td>\n",
       "      <td>4</td>\n",
       "      <td>539000</td>\n",
       "    </tr>\n",
       "    <tr>\n",
       "      <th>5</th>\n",
       "      <td>1985</td>\n",
       "      <td>4</td>\n",
       "      <td>299900</td>\n",
       "    </tr>\n",
       "    <tr>\n",
       "      <th>6</th>\n",
       "      <td>1534</td>\n",
       "      <td>3</td>\n",
       "      <td>314900</td>\n",
       "    </tr>\n",
       "    <tr>\n",
       "      <th>7</th>\n",
       "      <td>1427</td>\n",
       "      <td>3</td>\n",
       "      <td>198999</td>\n",
       "    </tr>\n",
       "    <tr>\n",
       "      <th>8</th>\n",
       "      <td>1380</td>\n",
       "      <td>3</td>\n",
       "      <td>212000</td>\n",
       "    </tr>\n",
       "    <tr>\n",
       "      <th>9</th>\n",
       "      <td>1419</td>\n",
       "      <td>3</td>\n",
       "      <td>242500</td>\n",
       "    </tr>\n",
       "  </tbody>\n",
       "</table>\n",
       "</div>"
      ],
      "text/plain": [
       "   sqft  bathrooms   price\n",
       "0  2104          3  399900\n",
       "1  1600          3  329900\n",
       "2  2400          3  369000\n",
       "3  1416          2  232000\n",
       "4  3000          4  539000\n",
       "5  1985          4  299900\n",
       "6  1534          3  314900\n",
       "7  1427          3  198999\n",
       "8  1380          3  212000\n",
       "9  1419          3  242500"
      ]
     },
     "execution_count": 10,
     "metadata": {},
     "output_type": "execute_result"
    }
   ],
   "source": [
    "sqft = [2104, 1600, 2400, 1416, 3000, 1985, 1534, 1427, 1380, 1419]\n",
    "bathrooms = [3, 3, 3, 2, 4, 4, 3, 3, 3, 3]\n",
    "price = [399900, 329900, 369000, 232000, 539000, 299900, 314900, 198999,\n",
    "        212000, 242500]\n",
    "\n",
    "df = pd.DataFrame({'sqft': sqft, 'bathrooms': bathrooms, 'price': price})\n",
    "df.head(10)"
   ]
  },
  {
   "cell_type": "markdown",
   "metadata": {
    "colab_type": "text",
    "id": "TIEht5FKoFfg"
   },
   "source": [
    "## Two Input Nodes\n",
    "\n",
    "Now that we have two inputs or two x variables how might we modify the architecture of our network to accept these inputs?\n",
    "\n",
    "![Two input Nodes](http://jalammar.github.io/images/NNs_2_variables.png)\n",
    "\n",
    "You'll notice that now we need a weight for each one of our input nodes, or for each feature of our dataset. If we were to write out the calculation that is happening as our data flows through this network it might look something like this:\n",
    "\n",
    "![Equation](http://jalammar.github.io/images/NNs_formula_two_variables.png)\n",
    "\n",
    "## I hope this looks extremely familiar.\n",
    "\n",
    "Now we have a new network that takes in two inputs. But now instead of guessing at slope and coefficient values and evaluating them. How can we explore more combinations of weights and bias until we find the values that minimize our Mean-Squared Error?\n",
    "\n",
    "[Lets Try It!](http://jalammar.github.io/visual-interactive-guide-basics-neural-networks/)"
   ]
  },
  {
   "cell_type": "markdown",
   "metadata": {
    "colab_type": "text",
    "id": "iIpNgBlupRpn"
   },
   "source": [
    "## ANNs are not Linear Regression\n",
    "\n",
    "It just so happens that the one that we have defined in this way acts the same way. We've defined a neural network that does the same thing as Linear Regression for a couple of different reasons\n",
    "\n",
    "1) To familiarize you with node maps (even if I don't love the ones in the article).\n",
    "\n",
    "2) To introduce the concepts of \"weights\" and \"biases\" in a context that you're already familiar with.\n",
    "\n",
    "3) Each layer in a feed-forward neural network affects the next layer by a weighted sum of inputs plus a bias term. \n",
    "\n",
    "4) To make it plain to you that we can search out the optimal weights and biases of a neural network through gradient descent if we have a loss function that evaluates the quality of our predictions compared to the y values in our training data. \n",
    "\n"
   ]
  },
  {
   "cell_type": "markdown",
   "metadata": {
    "colab_type": "text",
    "id": "OZC5EFQeu4Me"
   },
   "source": [
    "# Why are Neural Networks so Powerful?\n",
    "\n",
    "So if we can use a very simple neural network to represent a linear regression problem, what do neural networks with lots of additional features/layers represent? Why can't we just use linear regression for everything?\n",
    "\n",
    "## Nonlinearities\n",
    "\n",
    "Linear regression is built to fit more or less linear models in n-dimensional space. While it is true that we can fit non-linear features using linear regression as we include polynomial features, the reality is that in order to fit really curvy nonlinear patterns in data in really complex high dimensional features spaces, the number of polynomial terms that we would have to include in a linear or logistic regression model faces a problem of combinatorial explosion in terms of the number of features that would be required. \n",
    "\n",
    "Well what kinds of data exhibit these really strong nonlinearities? Well, how about images for example:\n",
    "\n",
    "![Cars](https://ak7.picdn.net/shutterstock/videos/4939097/thumb/1.jpg)\n",
    "\n",
    "Think about all of the different forms a car could take in an image yet our human brains recognize them as cars flawlessly. Think about all of the complexity that we would have to take into account. How could you even begin to feature engineer a dataset of pixel values in order to give a regression algorithm something that it could cue on as being a car or not a car?\n",
    "\n",
    "[Andrew Ng can probably explain this better than I can](https://www.youtube.com/watch?v=1ZhtwInuOD0)\n",
    "\n",
    "The interactions between layers of neurons in neural networks in a way accounts for that combinatorial explosion within the structure of the algorithm as needed instead of us having to provide it beforehand.\n",
    "\n",
    "![Neural Network](https://cdn-images-1.medium.com/max/1200/1*DW0Ccmj1hZ0OvSXi7Kz5MQ.jpeg)"
   ]
  },
  {
   "cell_type": "markdown",
   "metadata": {
    "colab_type": "text",
    "id": "dGb0yyBtBCBD"
   },
   "source": [
    "# The Perceptron\n",
    "\n",
    "The first and simplest kind of neural network that we could talk about is the perceptron. A perceptron is just a single node or neuron of a neural network with nothing else. It can take any number of inputs and spit out an output. What a neuron does is it takes each of the input values, multplies each of them by a weight, sums all of these products up, and then passes the sum through what is called an \"activation function\" the result of which is the final value.\n",
    "\n",
    "I really like figure 2.1 found in this [pdf](http://www.uta.fi/sis/tie/neuro/index/Neurocomputing2.pdf) even though it doesn't have bias term represented there.\n",
    "\n",
    "![Figure 2.1](http://www.ryanleeallred.com/wp-content/uploads/2019/04/Screen-Shot-2019-04-01-at-2.34.58-AM.png)\n",
    "\n",
    "If we were to write what is happening in some verbose mathematical notation, it might look something like this:\n",
    "\n",
    "\\begin{align}\n",
    " y = sigmoid(\\sum(weight_{1}input_{1} + weight_{2}input_{2} + weight_{3}input_{3}) + bias)\n",
    "\\end{align}\n",
    "\n",
    "Understanding what happens with a single neuron is important because this is the same pattern that will take place for all of our networks. \n",
    "\n",
    "When imagining a neural network I like to think about the arrows as representing the weights, like a wire that has a certain amount of resistance and only lets a certain amount of current through. And I like to think about the node itselef as containing the prescribed activation function that neuron will use to decide how much signal to pass onto the next layer."
   ]
  },
  {
   "cell_type": "markdown",
   "metadata": {
    "colab_type": "text",
    "id": "kXZIF45EEuex"
   },
   "source": [
    "# Activation Functions (transfer functions)\n",
    "\n",
    "In Neural Networks, each node has an activation function. Each node in a given layer typically has the same activation function. These activation functions are the biggest piece of neural networks that have been inspired by actual biology. The activation function decides whether a cell \"fires\" or not. Sometimes it is said that the cell is \"activated\" or not. In Artificial Neural Networks activation functions decide how much signal to pass onto the next layer. This is why they are sometimes referred to as transfer functions because they determine how much signal is transferred to the next layer.\n",
    "\n",
    "## Common Activation Functions:\n",
    "\n",
    "![Activation Functions](http://www.snee.com/bobdc.blog/img/activationfunctions.png)"
   ]
  },
  {
   "cell_type": "markdown",
   "metadata": {
    "colab_type": "text",
    "id": "-9x3x5XgtD3i"
   },
   "source": [
    "# Implementing a Perceptron from scratch in Python\n",
    "<a id=\"p2\"></a>"
   ]
  },
  {
   "cell_type": "markdown",
   "metadata": {
    "colab_type": "text",
    "id": "A47bcPUYYf8S"
   },
   "source": [
    "### Establish training data"
   ]
  },
  {
   "cell_type": "code",
   "execution_count": 11,
   "metadata": {
    "colab": {},
    "colab_type": "code",
    "id": "q9Sj_AVzReca"
   },
   "outputs": [],
   "source": [
    "import numpy as np\n",
    "\n",
    "np.random.seed(812)\n",
    "\n",
    "inputs = np.array([\n",
    "    [0,0,1],\n",
    "    [1,1,1],\n",
    "    [1,0,1],\n",
    "    [0,1,1]\n",
    "])\n",
    "\n",
    "ground_truth = [[0], [1], [1], [0]]"
   ]
  },
  {
   "cell_type": "markdown",
   "metadata": {
    "colab_type": "text",
    "id": "wJYHTTThYlcj"
   },
   "source": [
    "### Sigmoid activation function and its derivative for updating weights"
   ]
  },
  {
   "cell_type": "code",
   "execution_count": 13,
   "metadata": {
    "colab": {},
    "colab_type": "code",
    "id": "BXtmF6m1Ry2E"
   },
   "outputs": [],
   "source": [
    "def sigmoid(x):\n",
    "    return 1 / (1+np.exp(-x))\n",
    "\n",
    "def sigmoid_derivate(x):\n",
    "    sx = sigmoid(x)\n",
    "    return sx * (1-sx)"
   ]
  },
  {
   "cell_type": "markdown",
   "metadata": {
    "colab_type": "text",
    "id": "vWyVzV-oUTC8"
   },
   "source": [
    "# Updating weights with derivative of sigmoid function:\n",
    "\n",
    "![Sigmoid Function](https://upload.wikimedia.org/wikipedia/commons/thumb/8/88/Logistic-curve.svg/320px-Logistic-curve.svg.png)"
   ]
  },
  {
   "cell_type": "markdown",
   "metadata": {
    "colab_type": "text",
    "id": "iHpgMkpQX9HK"
   },
   "source": [
    "### Initialize random weights for our three inputs"
   ]
  },
  {
   "cell_type": "code",
   "execution_count": 14,
   "metadata": {
    "colab": {},
    "colab_type": "code",
    "id": "Vgv4L0SjSCML"
   },
   "outputs": [
    {
     "data": {
      "text/plain": [
       "array([[0.5049808 ],\n",
       "       [0.60592761],\n",
       "       [0.45748719]])"
      ]
     },
     "execution_count": 14,
     "metadata": {},
     "output_type": "execute_result"
    }
   ],
   "source": [
    " "
   ]
  },
  {
   "cell_type": "markdown",
   "metadata": {
    "colab_type": "text",
    "id": "bNhy_Qk2YBJO"
   },
   "source": [
    "### Calculate weighted sum of inputs and weights"
   ]
  },
  {
   "cell_type": "code",
   "execution_count": 15,
   "metadata": {
    "colab": {},
    "colab_type": "code",
    "id": "Ex5b896fWrMQ"
   },
   "outputs": [
    {
     "data": {
      "text/plain": [
       "array([[0.45748719],\n",
       "       [1.5683956 ],\n",
       "       [0.96246799],\n",
       "       [1.06341479]])"
      ]
     },
     "execution_count": 15,
     "metadata": {},
     "output_type": "execute_result"
    }
   ],
   "source": [
    "weighted_sum = np.dot(inputs, weights)\n",
    "weighted_sum"
   ]
  },
  {
   "cell_type": "markdown",
   "metadata": {
    "colab_type": "text",
    "id": "c4z3LqLFaWMy"
   },
   "source": [
    "### Output the activated value for the end of 1 training epoch"
   ]
  },
  {
   "cell_type": "code",
   "execution_count": 17,
   "metadata": {
    "colab": {},
    "colab_type": "code",
    "id": "llmNHRH5W4BA"
   },
   "outputs": [
    {
     "data": {
      "text/plain": [
       "array([[0.6124179 ],\n",
       "       [0.82755477],\n",
       "       [0.72361567],\n",
       "       [0.74334258]])"
      ]
     },
     "execution_count": 17,
     "metadata": {},
     "output_type": "execute_result"
    }
   ],
   "source": [
    "activated_output = sigmoid(weighted_sum)\n",
    "activated_output"
   ]
  },
  {
   "cell_type": "markdown",
   "metadata": {
    "colab_type": "text",
    "id": "o_P2i3KEaiVC"
   },
   "source": [
    "### take difference of output and true values to calculate error"
   ]
  },
  {
   "cell_type": "code",
   "execution_count": 18,
   "metadata": {
    "colab": {},
    "colab_type": "code",
    "id": "6mg175C6XaYO"
   },
   "outputs": [
    {
     "data": {
      "text/plain": [
       "array([[-0.6124179 ],\n",
       "       [ 0.17244523],\n",
       "       [ 0.27638433],\n",
       "       [-0.74334258]])"
      ]
     },
     "execution_count": 18,
     "metadata": {},
     "output_type": "execute_result"
    }
   ],
   "source": [
    "error = ground_truth - activated_output\n",
    "error"
   ]
  },
  {
   "cell_type": "markdown",
   "metadata": {},
   "source": [
    "### Gradient descent/backprop - magic!"
   ]
  },
  {
   "cell_type": "code",
   "execution_count": 21,
   "metadata": {
    "colab": {},
    "colab_type": "code",
    "id": "hJH_wpb-XmKJ"
   },
   "outputs": [
    {
     "data": {
      "text/plain": [
       "array([[-0.13960071],\n",
       "       [ 0.03649762],\n",
       "       [ 0.06078562],\n",
       "       [-0.16235594]])"
      ]
     },
     "execution_count": 21,
     "metadata": {},
     "output_type": "execute_result"
    }
   ],
   "source": [
    "adjustments = error * sigmoid_derivate(activated_output)\n",
    "adjustments"
   ]
  },
  {
   "cell_type": "code",
   "execution_count": 22,
   "metadata": {},
   "outputs": [
    {
     "data": {
      "text/plain": [
       "array([[0.60226404],\n",
       "       [0.48006929],\n",
       "       [0.25281379]])"
      ]
     },
     "execution_count": 22,
     "metadata": {},
     "output_type": "execute_result"
    }
   ],
   "source": [
    "weights += np.dot(inputs.T, adjustments)\n",
    "weights"
   ]
  },
  {
   "cell_type": "markdown",
   "metadata": {
    "colab_type": "text",
    "id": "tc928NEda0UE"
   },
   "source": [
    "### Put it all together"
   ]
  },
  {
   "cell_type": "code",
   "execution_count": 23,
   "metadata": {
    "colab": {},
    "colab_type": "code",
    "id": "5PGZR_caa18g"
   },
   "outputs": [
    {
     "name": "stdout",
     "output_type": "stream",
     "text": [
      "Weights after training\n",
      "[[15.03837858]\n",
      " [-0.40656048]\n",
      " [-7.2330098 ]]\n",
      "Output after training\n",
      "[[7.21894408e-04]\n",
      " [9.99388331e-01]\n",
      " [9.99592584e-01]\n",
      " [4.80851985e-04]]\n"
     ]
    }
   ],
   "source": [
    "for iteration in range(10000):\n",
    "    \n",
    "    # Weighted sum of inputs/weights\n",
    "    weighted_sum = np.dot(inputs, weights)\n",
    "    \n",
    "    # Activate!\n",
    "    activated_output = sigmoid(weighted_sum)\n",
    "    \n",
    "    # Calculate the error\n",
    "    error = ground_truth - activated_output\n",
    "    \n",
    "    # Adjustments\n",
    "    adjustments = error * sigmoid_derivate(activated_output)\n",
    "    \n",
    "    weights += np.dot(inputs.T, adjustments)\n",
    "    \n",
    "print(\"Weights after training\")\n",
    "print(weights)\n",
    "\n",
    "print(\"Output after training\")\n",
    "print(activated_output)"
   ]
  },
  {
   "cell_type": "markdown",
   "metadata": {
    "colab_type": "text",
    "id": "sCeW6EVAu-jt"
   },
   "source": [
    "# Perceptrons can classify linearly separable classes\n",
    "\n",
    "<https://www.bogotobogo.com/python/scikit-learn/Perceptron_Model_with_Iris_DataSet.php>"
   ]
  },
  {
   "cell_type": "code",
   "execution_count": 33,
   "metadata": {
    "colab": {
     "base_uri": "https://localhost:8080/",
     "height": 202
    },
    "colab_type": "code",
    "id": "EYbebbPwu91r",
    "outputId": "b5e143ab-4148-41c6-bee4-20219aa9633d"
   },
   "outputs": [
    {
     "data": {
      "text/html": [
       "<div>\n",
       "<style scoped>\n",
       "    .dataframe tbody tr th:only-of-type {\n",
       "        vertical-align: middle;\n",
       "    }\n",
       "\n",
       "    .dataframe tbody tr th {\n",
       "        vertical-align: top;\n",
       "    }\n",
       "\n",
       "    .dataframe thead th {\n",
       "        text-align: right;\n",
       "    }\n",
       "</style>\n",
       "<table border=\"1\" class=\"dataframe\">\n",
       "  <thead>\n",
       "    <tr style=\"text-align: right;\">\n",
       "      <th></th>\n",
       "      <th>0</th>\n",
       "      <th>1</th>\n",
       "      <th>2</th>\n",
       "      <th>3</th>\n",
       "      <th>4</th>\n",
       "    </tr>\n",
       "  </thead>\n",
       "  <tbody>\n",
       "    <tr>\n",
       "      <th>145</th>\n",
       "      <td>6.7</td>\n",
       "      <td>3.0</td>\n",
       "      <td>5.2</td>\n",
       "      <td>2.3</td>\n",
       "      <td>Iris-virginica</td>\n",
       "    </tr>\n",
       "    <tr>\n",
       "      <th>146</th>\n",
       "      <td>6.3</td>\n",
       "      <td>2.5</td>\n",
       "      <td>5.0</td>\n",
       "      <td>1.9</td>\n",
       "      <td>Iris-virginica</td>\n",
       "    </tr>\n",
       "    <tr>\n",
       "      <th>147</th>\n",
       "      <td>6.5</td>\n",
       "      <td>3.0</td>\n",
       "      <td>5.2</td>\n",
       "      <td>2.0</td>\n",
       "      <td>Iris-virginica</td>\n",
       "    </tr>\n",
       "    <tr>\n",
       "      <th>148</th>\n",
       "      <td>6.2</td>\n",
       "      <td>3.4</td>\n",
       "      <td>5.4</td>\n",
       "      <td>2.3</td>\n",
       "      <td>Iris-virginica</td>\n",
       "    </tr>\n",
       "    <tr>\n",
       "      <th>149</th>\n",
       "      <td>5.9</td>\n",
       "      <td>3.0</td>\n",
       "      <td>5.1</td>\n",
       "      <td>1.8</td>\n",
       "      <td>Iris-virginica</td>\n",
       "    </tr>\n",
       "  </tbody>\n",
       "</table>\n",
       "</div>"
      ],
      "text/plain": [
       "       0    1    2    3               4\n",
       "145  6.7  3.0  5.2  2.3  Iris-virginica\n",
       "146  6.3  2.5  5.0  1.9  Iris-virginica\n",
       "147  6.5  3.0  5.2  2.0  Iris-virginica\n",
       "148  6.2  3.4  5.4  2.3  Iris-virginica\n",
       "149  5.9  3.0  5.1  1.8  Iris-virginica"
      ]
     },
     "execution_count": 33,
     "metadata": {},
     "output_type": "execute_result"
    }
   ],
   "source": [
    "import pandas as pd\n",
    "import numpy as np\n",
    "import matplotlib.pyplot as plt\n",
    "\n",
    "df = pd.read_csv('https://archive.ics.uci.edu/ml/machine-learning-databases/iris/iris.data', header=None)\n",
    "\n",
    "# Grab 50 versicolor and 50 virginica\n",
    "df.iloc[145:150, 0:5]"
   ]
  },
  {
   "cell_type": "code",
   "execution_count": 34,
   "metadata": {
    "colab": {
     "base_uri": "https://localhost:8080/",
     "height": 537
    },
    "colab_type": "code",
    "id": "CgwUISn9u8xo",
    "outputId": "7b73e9e7-fc69-47bd-f16d-9c4bbdf4c5bc"
   },
   "outputs": [
    {
     "data": {
      "text/plain": [
       "array(['Iris-setosa', 'Iris-setosa', 'Iris-setosa', 'Iris-setosa',\n",
       "       'Iris-setosa', 'Iris-setosa', 'Iris-setosa', 'Iris-setosa',\n",
       "       'Iris-setosa', 'Iris-setosa', 'Iris-setosa', 'Iris-setosa',\n",
       "       'Iris-setosa', 'Iris-setosa', 'Iris-setosa', 'Iris-setosa',\n",
       "       'Iris-setosa', 'Iris-setosa', 'Iris-setosa', 'Iris-setosa',\n",
       "       'Iris-setosa', 'Iris-setosa', 'Iris-setosa', 'Iris-setosa',\n",
       "       'Iris-setosa', 'Iris-setosa', 'Iris-setosa', 'Iris-setosa',\n",
       "       'Iris-setosa', 'Iris-setosa', 'Iris-setosa', 'Iris-setosa',\n",
       "       'Iris-setosa', 'Iris-setosa', 'Iris-setosa', 'Iris-setosa',\n",
       "       'Iris-setosa', 'Iris-setosa', 'Iris-setosa', 'Iris-setosa',\n",
       "       'Iris-setosa', 'Iris-setosa', 'Iris-setosa', 'Iris-setosa',\n",
       "       'Iris-setosa', 'Iris-setosa', 'Iris-setosa', 'Iris-setosa',\n",
       "       'Iris-setosa', 'Iris-setosa', 'Iris-versicolor', 'Iris-versicolor',\n",
       "       'Iris-versicolor', 'Iris-versicolor', 'Iris-versicolor',\n",
       "       'Iris-versicolor', 'Iris-versicolor', 'Iris-versicolor',\n",
       "       'Iris-versicolor', 'Iris-versicolor', 'Iris-versicolor',\n",
       "       'Iris-versicolor', 'Iris-versicolor', 'Iris-versicolor',\n",
       "       'Iris-versicolor', 'Iris-versicolor', 'Iris-versicolor',\n",
       "       'Iris-versicolor', 'Iris-versicolor', 'Iris-versicolor',\n",
       "       'Iris-versicolor', 'Iris-versicolor', 'Iris-versicolor',\n",
       "       'Iris-versicolor', 'Iris-versicolor', 'Iris-versicolor',\n",
       "       'Iris-versicolor', 'Iris-versicolor', 'Iris-versicolor',\n",
       "       'Iris-versicolor', 'Iris-versicolor', 'Iris-versicolor',\n",
       "       'Iris-versicolor', 'Iris-versicolor', 'Iris-versicolor',\n",
       "       'Iris-versicolor', 'Iris-versicolor', 'Iris-versicolor',\n",
       "       'Iris-versicolor', 'Iris-versicolor', 'Iris-versicolor',\n",
       "       'Iris-versicolor', 'Iris-versicolor', 'Iris-versicolor',\n",
       "       'Iris-versicolor', 'Iris-versicolor', 'Iris-versicolor',\n",
       "       'Iris-versicolor', 'Iris-versicolor', 'Iris-versicolor'],\n",
       "      dtype=object)"
      ]
     },
     "execution_count": 34,
     "metadata": {},
     "output_type": "execute_result"
    }
   ],
   "source": [
    "y = df.iloc[0:100, 4].values\n",
    "y"
   ]
  },
  {
   "cell_type": "code",
   "execution_count": 35,
   "metadata": {
    "colab": {
     "base_uri": "https://localhost:8080/",
     "height": 121
    },
    "colab_type": "code",
    "id": "HpLmUPCau8Nm",
    "outputId": "e930dd42-04ed-462c-a247-2ca71f686b13"
   },
   "outputs": [
    {
     "data": {
      "text/plain": [
       "array([-1, -1, -1, -1, -1, -1, -1, -1, -1, -1, -1, -1, -1, -1, -1, -1, -1,\n",
       "       -1, -1, -1, -1, -1, -1, -1, -1, -1, -1, -1, -1, -1, -1, -1, -1, -1,\n",
       "       -1, -1, -1, -1, -1, -1, -1, -1, -1, -1, -1, -1, -1, -1, -1, -1,  1,\n",
       "        1,  1,  1,  1,  1,  1,  1,  1,  1,  1,  1,  1,  1,  1,  1,  1,  1,\n",
       "        1,  1,  1,  1,  1,  1,  1,  1,  1,  1,  1,  1,  1,  1,  1,  1,  1,\n",
       "        1,  1,  1,  1,  1,  1,  1,  1,  1,  1,  1,  1,  1,  1,  1])"
      ]
     },
     "execution_count": 35,
     "metadata": {},
     "output_type": "execute_result"
    }
   ],
   "source": [
    "y = np.where(y == 'Iris-setosa', -1, 1)\n",
    "y"
   ]
  },
  {
   "cell_type": "code",
   "execution_count": 36,
   "metadata": {
    "colab": {
     "base_uri": "https://localhost:8080/",
     "height": 1751
    },
    "colab_type": "code",
    "id": "3ngdKVNhu7h1",
    "outputId": "6373c6d3-fd87-4d7e-c5dc-1d5bce64ae5d"
   },
   "outputs": [
    {
     "data": {
      "text/plain": [
       "array([[5.1, 1.4],\n",
       "       [4.9, 1.4],\n",
       "       [4.7, 1.3],\n",
       "       [4.6, 1.5],\n",
       "       [5. , 1.4],\n",
       "       [5.4, 1.7],\n",
       "       [4.6, 1.4],\n",
       "       [5. , 1.5],\n",
       "       [4.4, 1.4],\n",
       "       [4.9, 1.5],\n",
       "       [5.4, 1.5],\n",
       "       [4.8, 1.6],\n",
       "       [4.8, 1.4],\n",
       "       [4.3, 1.1],\n",
       "       [5.8, 1.2],\n",
       "       [5.7, 1.5],\n",
       "       [5.4, 1.3],\n",
       "       [5.1, 1.4],\n",
       "       [5.7, 1.7],\n",
       "       [5.1, 1.5],\n",
       "       [5.4, 1.7],\n",
       "       [5.1, 1.5],\n",
       "       [4.6, 1. ],\n",
       "       [5.1, 1.7],\n",
       "       [4.8, 1.9],\n",
       "       [5. , 1.6],\n",
       "       [5. , 1.6],\n",
       "       [5.2, 1.5],\n",
       "       [5.2, 1.4],\n",
       "       [4.7, 1.6],\n",
       "       [4.8, 1.6],\n",
       "       [5.4, 1.5],\n",
       "       [5.2, 1.5],\n",
       "       [5.5, 1.4],\n",
       "       [4.9, 1.5],\n",
       "       [5. , 1.2],\n",
       "       [5.5, 1.3],\n",
       "       [4.9, 1.5],\n",
       "       [4.4, 1.3],\n",
       "       [5.1, 1.5],\n",
       "       [5. , 1.3],\n",
       "       [4.5, 1.3],\n",
       "       [4.4, 1.3],\n",
       "       [5. , 1.6],\n",
       "       [5.1, 1.9],\n",
       "       [4.8, 1.4],\n",
       "       [5.1, 1.6],\n",
       "       [4.6, 1.4],\n",
       "       [5.3, 1.5],\n",
       "       [5. , 1.4],\n",
       "       [7. , 4.7],\n",
       "       [6.4, 4.5],\n",
       "       [6.9, 4.9],\n",
       "       [5.5, 4. ],\n",
       "       [6.5, 4.6],\n",
       "       [5.7, 4.5],\n",
       "       [6.3, 4.7],\n",
       "       [4.9, 3.3],\n",
       "       [6.6, 4.6],\n",
       "       [5.2, 3.9],\n",
       "       [5. , 3.5],\n",
       "       [5.9, 4.2],\n",
       "       [6. , 4. ],\n",
       "       [6.1, 4.7],\n",
       "       [5.6, 3.6],\n",
       "       [6.7, 4.4],\n",
       "       [5.6, 4.5],\n",
       "       [5.8, 4.1],\n",
       "       [6.2, 4.5],\n",
       "       [5.6, 3.9],\n",
       "       [5.9, 4.8],\n",
       "       [6.1, 4. ],\n",
       "       [6.3, 4.9],\n",
       "       [6.1, 4.7],\n",
       "       [6.4, 4.3],\n",
       "       [6.6, 4.4],\n",
       "       [6.8, 4.8],\n",
       "       [6.7, 5. ],\n",
       "       [6. , 4.5],\n",
       "       [5.7, 3.5],\n",
       "       [5.5, 3.8],\n",
       "       [5.5, 3.7],\n",
       "       [5.8, 3.9],\n",
       "       [6. , 5.1],\n",
       "       [5.4, 4.5],\n",
       "       [6. , 4.5],\n",
       "       [6.7, 4.7],\n",
       "       [6.3, 4.4],\n",
       "       [5.6, 4.1],\n",
       "       [5.5, 4. ],\n",
       "       [5.5, 4.4],\n",
       "       [6.1, 4.6],\n",
       "       [5.8, 4. ],\n",
       "       [5. , 3.3],\n",
       "       [5.6, 4.2],\n",
       "       [5.7, 4.2],\n",
       "       [5.7, 4.2],\n",
       "       [6.2, 4.3],\n",
       "       [5.1, 3. ],\n",
       "       [5.7, 4.1]])"
      ]
     },
     "execution_count": 36,
     "metadata": {},
     "output_type": "execute_result"
    }
   ],
   "source": [
    "X = df.iloc[0:100, [0, 2]].values\n",
    "X"
   ]
  },
  {
   "cell_type": "code",
   "execution_count": 37,
   "metadata": {
    "colab": {
     "base_uri": "https://localhost:8080/",
     "height": 361
    },
    "colab_type": "code",
    "id": "qMwijtrju62D",
    "outputId": "b36afd2f-71e9-4bbf-f0a9-472f7ee4cc2a"
   },
   "outputs": [
    {
     "data": {
      "image/png": "[encoded data removed]",
      "text/plain": [
       "<Figure size 432x288 with 1 Axes>"
      ]
     },
     "metadata": {
      "needs_background": "light"
     },
     "output_type": "display_data"
    }
   ],
   "source": [
    "plt.scatter(X[:50, 0], X[:50, 1], color='red', marker='o', label='setosa')\n",
    "plt.scatter(X[50:100, 0], X[50:100, 1], color='blue', marker='x', label='versicolor')\n",
    "plt.xlabel('petal length')\n",
    "plt.ylabel('sepal length')\n",
    "plt.legend(loc='upper left')\n",
    "plt.show()"
   ]
  },
  {
   "cell_type": "code",
   "execution_count": 38,
   "metadata": {
    "colab": {},
    "colab_type": "code",
    "id": "4Ax_1Ewsu59o"
   },
   "outputs": [],
   "source": [
    "class Perceptron(object):\n",
    "  def __init__(self, rate = 0.01, niter = 10):\n",
    "    self.rate = rate\n",
    "    self.niter = niter\n",
    "\n",
    "  def fit(self, X, y):\n",
    "    \"\"\"Fit training data\n",
    "    X : Training vectors, X.shape : [#samples, #features]\n",
    "    y : Target values, y.shape : [#samples]\n",
    "    \"\"\"\n",
    "\n",
    "    # weights\n",
    "    self.weight = np.zeros(1 + X.shape[1])\n",
    "\n",
    "    # Number of misclassifications\n",
    "    self.errors = []  # Number of misclassifications\n",
    "\n",
    "    for i in range(self.niter):\n",
    "      err = 0\n",
    "      for xi, target in zip(X, y):\n",
    "        delta_w = self.rate * (target - self.predict(xi))\n",
    "        self.weight[1:] += delta_w * xi\n",
    "        self.weight[0] += delta_w\n",
    "        err += int(delta_w != 0.0)\n",
    "      self.errors.append(err)\n",
    "    return self\n",
    "\n",
    "  def net_input(self, X):\n",
    "    \"\"\"Calculate net input\"\"\"\n",
    "    return np.dot(X, self.weight[1:]) + self.weight[0]\n",
    "\n",
    "  def predict(self, X):\n",
    "    \"\"\"Return class label after unit step\"\"\"\n",
    "    return np.where(self.net_input(X) >= 0.0, 1, -1)"
   ]
  },
  {
   "cell_type": "code",
   "execution_count": 39,
   "metadata": {
    "colab": {
     "base_uri": "https://localhost:8080/",
     "height": 361
    },
    "colab_type": "code",
    "id": "ftFsGyvpu5iC",
    "outputId": "b9ce6e1e-f84f-498b-9dd9-04eb8b328f5f"
   },
   "outputs": [
    {
     "data": {
      "image/png": "[encoded data removed]",
      "text/plain": [
       "<Figure size 432x288 with 1 Axes>"
      ]
     },
     "metadata": {
      "needs_background": "light"
     },
     "output_type": "display_data"
    }
   ],
   "source": [
    "pn = Perceptron(0.1, 10)\n",
    "pn.fit(X, y)\n",
    "plt.plot(range(1, len(pn.errors) + 1), pn.errors, marker='o')\n",
    "plt.xlabel('Epochs')\n",
    "plt.ylabel('Number of misclassifications')\n",
    "plt.show()"
   ]
  },
  {
   "cell_type": "code",
   "execution_count": null,
   "metadata": {
    "colab": {},
    "colab_type": "code",
    "id": "4VAnfC7fu5P7"
   },
   "outputs": [],
   "source": [
    "from matplotlib.colors import ListedColormap\n",
    "def plot_decision_regions(X, y, classifier, resolution=0.02):\n",
    "  # setup marker generator and color map\n",
    "  markers = ('s', 'x', 'o', '^', 'v')\n",
    "  colors = ('red', 'blue', 'lightgreen', 'gray', 'cyan')\n",
    "  cmap = ListedColormap(colors[:len(np.unique(y))])\n",
    "\n",
    "  # plot the decision surface\n",
    "  x1_min, x1_max = X[:,  0].min() - 1, X[:, 0].max() + 1\n",
    "  x2_min, x2_max = X[:, 1].min() - 1, X[:, 1].max() + 1\n",
    "  xx1, xx2 = np.meshgrid(np.arange(x1_min, x1_max, resolution),\n",
    "  np.arange(x2_min, x2_max, resolution))\n",
    "  Z = classifier.predict(np.array([xx1.ravel(), xx2.ravel()]).T)\n",
    "  Z = Z.reshape(xx1.shape)\n",
    "  plt.contourf(xx1, xx2, Z, alpha=0.4, cmap=cmap)\n",
    "  plt.xlim(xx1.min(), xx1.max())\n",
    "  plt.ylim(xx2.min(), xx2.max())\n",
    "\n",
    "  # plot class samples\n",
    "  for idx, cl in enumerate(np.unique(y)):\n",
    "    plt.scatter(x=X[y == cl, 0], y=X[y == cl, 1],\n",
    "    alpha=0.8, c=cmap(idx),\n",
    "    marker=markers[idx], label=cl)"
   ]
  },
  {
   "cell_type": "code",
   "execution_count": 83,
   "metadata": {
    "colab": {
     "base_uri": "https://localhost:8080/",
     "height": 416
    },
    "colab_type": "code",
    "id": "ntqksaQjr7Cm",
    "outputId": "4967f3f7-3c05-4606-f757-6f5aac802696"
   },
   "outputs": [
    {
     "name": "stderr",
     "output_type": "stream",
     "text": [
      "'c' argument looks like a single numeric RGB or RGBA sequence, which should be avoided as value-mapping will have precedence in case its length matches with 'x' & 'y'.  Please use a 2-D array with a single row if you really want to specify the same RGB or RGBA value for all points.\n",
      "'c' argument looks like a single numeric RGB or RGBA sequence, which should be avoided as value-mapping will have precedence in case its length matches with 'x' & 'y'.  Please use a 2-D array with a single row if you really want to specify the same RGB or RGBA value for all points.\n"
     ]
    },
    {
     "data": {
      "image/png": "[encoded data removed]",
      "text/plain": [
       "<Figure size 576x396 with 1 Axes>"
      ]
     },
     "metadata": {
      "tags": []
     },
     "output_type": "display_data"
    }
   ],
   "source": [
    ">>> plot_decision_regions(X, y, classifier=pn)\n",
    ">>> plt.xlabel('sepal length [cm]')\n",
    ">>> plt.ylabel('petal length [cm]')\n",
    ">>> plt.legend(loc='upper left')\n",
    "plt.show()"
   ]
  },
  {
   "cell_type": "markdown",
   "metadata": {
    "colab_type": "text",
    "id": "ucUP72uiyQ_0"
   },
   "source": [
    "## Additional Resources:\n",
    "\n",
    "- 3 Blue 1 Brown Neural Network Video: <https://youtu.be/aircAruvnKk>\n",
    "- Andrew Ng Neural Network Introduction Videos: <https://www.youtube.com/watch?v=1ZhtwInuOD0&list=PLLssT5z_DsK-h9vYZkQkYNWcItqhlRJLN&index=43>"
   ]
  }
 ],
 "metadata": {
  "colab": {
   "name": "LS_DS_431_Intro_to_NN_Lecture.ipynb",
   "provenance": [],
   "version": "0.3.2"
  },
  "kernelspec": {
   "display_name": "Python 3",
   "language": "python",
   "name": "python3"
  },
  "language_info": {
   "codemirror_mode": {
    "name": "ipython",
    "version": 3
   },
   "file_extension": ".py",
   "mimetype": "text/x-python",
   "name": "python",
   "nbconvert_exporter": "python",
   "pygments_lexer": "ipython3",
   "version": "3.7.1"
  },
  "toc-autonumbering": false,
  "toc-showcode": false,
  "toc-showmarkdowntxt": false
 },
 "nbformat": 4,
 "nbformat_minor": 2
}
