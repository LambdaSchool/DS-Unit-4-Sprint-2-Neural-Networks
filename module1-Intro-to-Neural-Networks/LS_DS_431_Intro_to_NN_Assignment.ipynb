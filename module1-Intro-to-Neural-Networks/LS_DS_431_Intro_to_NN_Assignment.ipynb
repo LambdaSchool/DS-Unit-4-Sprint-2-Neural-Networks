{
  "nbformat": 4,
  "nbformat_minor": 0,
  "metadata": {
    "colab": {
      "name": "LS_DS_431_Intro_to_NN_Assignment.ipynb",
      "version": "0.3.2",
      "provenance": [],
      "collapsed_sections": [],
      "include_colab_link": true
    },
    "kernelspec": {
      "name": "python3",
      "display_name": "Python 3"
    }
  },
  "cells": [
    {
      "cell_type": "markdown",
      "metadata": {
        "id": "view-in-github",
        "colab_type": "text"
      },
      "source": [
        "<a href=\"https://colab.research.google.com/github/DimaKav/DS-Unit-4-Sprint-3-Neural-Networks/blob/master/module1-Intro-to-Neural-Networks/LS_DS_431_Intro_to_NN_Assignment.ipynb\" target=\"_parent\"><img src=\"https://colab.research.google.com/assets/colab-badge.svg\" alt=\"Open In Colab\"/></a>"
      ]
    },
    {
      "cell_type": "markdown",
      "metadata": {
        "id": "dVfaLrjLvxvQ",
        "colab_type": "text"
      },
      "source": [
        "# Intro to Neural Networks Assignment"
      ]
    },
    {
      "cell_type": "markdown",
      "metadata": {
        "id": "wxtoY12mwmih",
        "colab_type": "text"
      },
      "source": [
        "## Define the Following:\n",
        "You can add image, diagrams, whatever you need to ensure that you understand the concepts below.\n",
        "\n",
        "### Input Layer:\n",
        "\n",
        "The input layer is what receives input from our data. Each input node in an input layer receives a different features of the dataset that will propagate down the rest of the network.\n",
        "### Hidden Layer:\n",
        "\n",
        "The layer between the input and output layers. They are hidden because the data can only access them through the input layer. \n",
        "\n",
        "### Output Layer:\n",
        "\n",
        "The output layer is the final layer in the network. It outputs a vector of values that is in a format that is suitable from the type of problem that we're trying to address. This is also where the ouput layer gets modified by an activation function to transform it into a context-specific format.\n",
        "\n",
        "### Neuron:\n",
        "\n",
        "A single node in the neural network. It's called a neuron because it receives inputs and propagates a signal to the next neuron if a certain threshold is reached.\n",
        "\n",
        "### Weight:\n",
        "\n",
        "A negative weight decreases the output, a positive weight increasese it. You can tune the output value by changing the weight.\n",
        "\n",
        "### Activation Function:\n",
        "\n",
        "Each node in a given layer has the same activation function. The activation function decides the extent to which a signal gets propagated to downstream neurons. Activation functions are sometimes referred to as transfer functions because they decide how much of the signal to pass onto the next layer.\n",
        "\n",
        "### Node Map:\n",
        "\n",
        "A visual diagram of the architecture of a neural network. It shows the path from from inputs to outputs.\n",
        "\n",
        "### Perceptron:\n",
        "\n",
        "A neuron (artificial) which takes in several binary inputs and produces a single binary output.\n"
      ]
    },
    {
      "cell_type": "markdown",
      "metadata": {
        "id": "NXuy9WcWzxa4",
        "colab_type": "text"
      },
      "source": [
        "## Inputs -> Outputs\n",
        "\n",
        "### Explain the flow of information through a neural network from inputs to outputs. Be sure to include: inputs, weights, bias, and activation functions. How does it all flow from beginning to end?"
      ]
    },
    {
      "cell_type": "markdown",
      "metadata": {
        "id": "PlSwIJMC0A8F",
        "colab_type": "text"
      },
      "source": [
        "The flow of information through a neural network is as follows:\n",
        "\n",
        "1. The data gets passed into the inputs. Each input node receives a weight term and the whole layer receives a bias term where applicable. Each layer in a feed-forward neural network affects the next layer by a weighted sum of inputs plus a bias term.\n",
        "2. The inputs propagate the data to the hidden layer(s).\n",
        "3. The data is processed and propagated to the hidden layer(s) which take it further to the output layer.\n",
        "4. The final layer, the output layer, modifies the output using an activation function and transforms it into the final value of our model. Depending on the specific use case of our NN, activation functions can do the following:\n",
        "  * There often is **no activation function** for a single node neural network regression problem because what we want is an unbounded continuous value.\n",
        "  * Binary classification problems might use a **sigmoid activation function** to squishify values down to represent probability outputs where outputs represent the classes of interest.\n",
        "  * Multiclass classfication provlems usually have multiple output nodes in the output layer and would most likely involve a **softmax activation function**.\n",
        "  \n",
        "  "
      ]
    },
    {
      "cell_type": "markdown",
      "metadata": {
        "id": "6sWR43PTwhSk",
        "colab_type": "text"
      },
      "source": [
        "## Write your own perceptron code that can correctly classify a NAND gate. \n",
        "\n",
        "| x1 | x2 | y |\n",
        "|----|----|---|\n",
        "| 0  | 0  | 1 |\n",
        "| 1  | 0  | 1 |\n",
        "| 0  | 1  | 1 |\n",
        "| 1  | 1  | 0 |"
      ]
    },
    {
      "cell_type": "code",
      "metadata": {
        "id": "ZmQDWshVTqW-",
        "colab_type": "code",
        "colab": {
          "base_uri": "https://localhost:8080/",
          "height": 85
        },
        "outputId": "3cd891f3-67ac-451e-ef17-84500ac41845"
      },
      "source": [
        "def NAND(x1, x2):\n",
        "    x = np.array([1, x1, x2])\n",
        "    w = np.array([1.5, -1, -1])\n",
        "    y = np.sum(w*x)\n",
        "    if y <= 0:\n",
        "        return 0\n",
        "    else:\n",
        "        return 1\n",
        "      \n",
        "input = [(0,0), (1,0), (0,1), (1,1)]\n",
        "\n",
        "for x in input:\n",
        "  y = NAND(x[0], x[1])\n",
        "  print(str(x), str(y))"
      ],
      "execution_count": 60,
      "outputs": [
        {
          "output_type": "stream",
          "text": [
            "(0, 0) 1\n",
            "(1, 0) 1\n",
            "(0, 1) 1\n",
            "(1, 1) 0\n"
          ],
          "name": "stdout"
        }
      ]
    },
    {
      "cell_type": "code",
      "metadata": {
        "id": "Sgh7VFGwnXGH",
        "colab_type": "code",
        "colab": {}
      },
      "source": [
        "# Training data\n",
        "\n",
        "import numpy as np\n",
        "np.random.seed(42)\n",
        "\n",
        "inputs = np.array([\n",
        "    [0,0,0],\n",
        "    [1,0,0],\n",
        "    [0,1,0],\n",
        "    [1,1,0]\n",
        "])\n",
        "\n",
        "correct_outputs = [[1],[1],[1],[0]]"
      ],
      "execution_count": 0,
      "outputs": []
    },
    {
      "cell_type": "code",
      "metadata": {
        "id": "w_JfE10jGvam",
        "colab_type": "code",
        "colab": {
          "base_uri": "https://localhost:8080/",
          "height": 493
        },
        "outputId": "f260f64c-40ae-4c82-fa55-fd41fd9238d7"
      },
      "source": [
        "\n",
        "# Sigmoid activation function and its derivate for updating weights\n",
        "def sigmoid(x):\n",
        "  return 1 / (1 + np.exp(-x))\n",
        "\n",
        "def sigmoid_derivative(x):\n",
        "  return sigmoid(x) * (1 - sigmoid(x))\n",
        "\n",
        "# Initialize random weights for our two inputs\n",
        "weights = 2 * np.random.random((3, 1)) - 1\n",
        "print('Weights:\\n', weights)\n",
        "\n",
        "# Calculate the weighted sum of inputs and weights\n",
        "weighted_sum = np.dot(inputs, weights)\n",
        "print('Weighted sum:\\n', weighted_sum)\n",
        "\n",
        "# Output the activated value for the end of 1 training epoch\n",
        "activated_output = sigmoid(weighted_sum)\n",
        "print('Activated value for 1 training epoch:\\n', activated_output)\n",
        "\n",
        "# Take the difference of output and true values to calculate the error\n",
        "error = correct_outputs - activated_output\n",
        "print('Error:\\n', error)\n",
        "\n",
        "# Gradient descent/backpropagation\n",
        "adjustments = error * sigmoid_derivative(activated_output)\n",
        "print('Adjustments with GD/backprop:\\n', adjustments)\n",
        "\n",
        "# Update the weights\n",
        "weights += np.dot(inputs.T, adjustments)\n",
        "print('Updated weights:\\n', weights)"
      ],
      "execution_count": 63,
      "outputs": [
        {
          "output_type": "stream",
          "text": [
            "Weights:\n",
            " [[ 0.46398788]\n",
            " [ 0.19731697]\n",
            " [-0.68796272]]\n",
            "Weighted sum:\n",
            " [[0.        ]\n",
            " [0.46398788]\n",
            " [0.19731697]\n",
            " [0.66130485]]\n",
            "Activated value for 1 training epoch:\n",
            " [[0.5       ]\n",
            " [0.61395979]\n",
            " [0.54916981]\n",
            " [0.65955344]]\n",
            "Error:\n",
            " [[ 0.5       ]\n",
            " [ 0.38604021]\n",
            " [ 0.45083019]\n",
            " [-0.65955344]]\n",
            "Adjustments with GD/backprop:\n",
            " [[ 0.11750186]\n",
            " [ 0.08795756]\n",
            " [ 0.10461933]\n",
            " [-0.1481806 ]]\n",
            "Updated weights:\n",
            " [[ 0.40376485]\n",
            " [ 0.1537557 ]\n",
            " [-0.68796272]]\n"
          ],
          "name": "stdout"
        }
      ]
    },
    {
      "cell_type": "code",
      "metadata": {
        "id": "8KVtbo3EGvYK",
        "colab_type": "code",
        "colab": {
          "base_uri": "https://localhost:8080/",
          "height": 170
        },
        "outputId": "69a41b41-993c-4492-c2f2-30fdd478bca5"
      },
      "source": [
        "for iteration in range(10000):\n",
        "  # Weighted sum of inputs/weights\n",
        "  weighted_sum = np.dot(inputs, weights)\n",
        "  \n",
        "  # Activate!\n",
        "  activated_output = sigmoid(weighted_sum)\n",
        "  \n",
        "  # Calculate error\n",
        "  error = correct_outputs - activated_output\n",
        "  \n",
        "  # Calculate weight adjustments\n",
        "  adjustments = error * sigmoid(activated_output)\n",
        "  \n",
        "  # Update weights\n",
        "  weights += np.dot(inputs.T, adjustments)\n",
        "  \n",
        "print('Weights after training')\n",
        "print(weights)\n",
        "\n",
        "print('Output after training')\n",
        "print(activated_output)"
      ],
      "execution_count": 64,
      "outputs": [
        {
          "output_type": "stream",
          "text": [
            "Weights after training\n",
            "[[ 6.10622664e-16]\n",
            " [-4.99600361e-16]\n",
            " [-6.87962719e-01]]\n",
            "Output after training\n",
            "[[0.5]\n",
            " [0.5]\n",
            " [0.5]\n",
            " [0.5]]\n"
          ],
          "name": "stdout"
        }
      ]
    },
    {
      "cell_type": "markdown",
      "metadata": {
        "id": "Xf7sdqVs0s4x",
        "colab_type": "text"
      },
      "source": [
        "## Implement your own Perceptron Class and use it to classify a binary dataset like: \n",
        "- [The Pima Indians Diabetes dataset](https://raw.githubusercontent.com/ryanleeallred/datasets/master/diabetes.csv) \n",
        "- [Titanic](https://raw.githubusercontent.com/ryanleeallred/datasets/master/titanic.csv)\n",
        "- [A two-class version of the Iris dataset](https://raw.githubusercontent.com/ryanleeallred/datasets/master/Iris.csv)\n",
        "\n",
        "You may need to search for other's implementations in order to get inspiration for your own. There are *lots* of perceptron implementations on the internet with varying levels of sophistication and complexity. Whatever your approach, make sure you understand **every** line of your implementation and what its purpose is."
      ]
    },
    {
      "cell_type": "code",
      "metadata": {
        "id": "-W0tiX1F1hh2",
        "colab_type": "code",
        "colab": {
          "base_uri": "https://localhost:8080/",
          "height": 170
        },
        "outputId": "f43368c6-6fe1-4f6b-941b-84e9c399ee5f"
      },
      "source": [
        "import pandas as pd\n",
        "import numpy as np\n",
        "import matplotlib.pyplot as plt\n",
        "\n",
        "df = pd.read_csv('https://raw.githubusercontent.com/ryanleeallred/datasets/master/Iris.csv')\n",
        "df.columns, df.dtypes, df.shape"
      ],
      "execution_count": 142,
      "outputs": [
        {
          "output_type": "execute_result",
          "data": {
            "text/plain": [
              "(Index(['Id', 'SepalLengthCm', 'SepalWidthCm', 'PetalLengthCm', 'PetalWidthCm',\n",
              "        'Species'],\n",
              "       dtype='object'), Id                 int64\n",
              " SepalLengthCm    float64\n",
              " SepalWidthCm     float64\n",
              " PetalLengthCm    float64\n",
              " PetalWidthCm     float64\n",
              " Species           object\n",
              " dtype: object, (150, 6))"
            ]
          },
          "metadata": {
            "tags": []
          },
          "execution_count": 142
        }
      ]
    },
    {
      "cell_type": "code",
      "metadata": {
        "id": "VTxrlXsLipYL",
        "colab_type": "code",
        "colab": {
          "base_uri": "https://localhost:8080/",
          "height": 85
        },
        "outputId": "0c7da04c-5b65-453f-ed5f-d6309d1ae21f"
      },
      "source": [
        "df['Species'].value_counts()"
      ],
      "execution_count": 143,
      "outputs": [
        {
          "output_type": "execute_result",
          "data": {
            "text/plain": [
              "Iris-versicolor    50\n",
              "Iris-virginica     50\n",
              "Iris-setosa        50\n",
              "Name: Species, dtype: int64"
            ]
          },
          "metadata": {
            "tags": []
          },
          "execution_count": 143
        }
      ]
    },
    {
      "cell_type": "code",
      "metadata": {
        "id": "Av8wrLu0iWPL",
        "colab_type": "code",
        "colab": {}
      },
      "source": [
        "# Set X and y\n",
        "y = df.iloc[0:100, 5].values\n",
        "y = np.where(y == 'Iris-versicolor', -1, 1)\n",
        "# pick two of the most relevant features...\n",
        "X = df.iloc[0:100, [1,3]].values"
      ],
      "execution_count": 0,
      "outputs": []
    },
    {
      "cell_type": "code",
      "metadata": {
        "id": "AvvCKrcgt3WO",
        "colab_type": "code",
        "colab": {
          "base_uri": "https://localhost:8080/",
          "height": 34
        },
        "outputId": "c5c726d0-a3e5-460d-8917-c7edbaa31353"
      },
      "source": [
        "y.shape, X.shape"
      ],
      "execution_count": 168,
      "outputs": [
        {
          "output_type": "execute_result",
          "data": {
            "text/plain": [
              "((100,), (100, 2))"
            ]
          },
          "metadata": {
            "tags": []
          },
          "execution_count": 168
        }
      ]
    },
    {
      "cell_type": "code",
      "metadata": {
        "id": "W-IN3Fu6uCYg",
        "colab_type": "code",
        "colab": {
          "base_uri": "https://localhost:8080/",
          "height": 283
        },
        "outputId": "2e21129d-307a-49b4-9c05-7798bf70d1ae"
      },
      "source": [
        "plt.scatter(X[:50, 0], X[:50, 1], color='red', marker='o', label='setosa')\n",
        "plt.scatter(X[50:100, 0], X[50:100, 1], color='blue', marker='x', label='versicolor')\n",
        "plt.xlabel('petal length')\n",
        "plt.ylabel('sepal length')\n",
        "plt.legend(loc='upper left')\n",
        "plt.show()"
      ],
      "execution_count": 169,
      "outputs": [
        {
          "output_type": "display_data",
          "data": {
            "image/png": "[encoded data removed]",
            "text/plain": [
              "<Figure size 432x288 with 1 Axes>"
            ]
          },
          "metadata": {
            "tags": []
          }
        }
      ]
    },
    {
      "cell_type": "code",
      "metadata": {
        "id": "eNiuqNxMaVuJ",
        "colab_type": "code",
        "colab": {}
      },
      "source": [
        "class Perceptron(object):\n",
        "  def __init__(self, rate = 0.01, niter = 10):\n",
        "    self.rate = rate\n",
        "    self.niter = niter\n",
        "\n",
        "  def fit(self, X, y):\n",
        "    \"\"\"Fit training data\n",
        "    X : Training vectors, X.shape : [#samples, #features]\n",
        "    y : Target values, y.shape : [#samples]\n",
        "    \"\"\"\n",
        "\n",
        "    # weights\n",
        "    self.weight = np.zeros(1 + X.shape[1])\n",
        "\n",
        "    # Number of misclassifications\n",
        "    self.errors = []  # Number of misclassifications\n",
        "\n",
        "    for i in range(self.niter):\n",
        "      err = 0\n",
        "      for xi, target in zip(X, y):\n",
        "        delta_w = self.rate * (target - self.predict(xi))\n",
        "        self.weight[1:] += delta_w * xi\n",
        "        self.weight[0] += delta_w\n",
        "        err += int(delta_w != 0.0)\n",
        "      self.errors.append(err)\n",
        "    return self\n",
        "\n",
        "  def net_input(self, X):\n",
        "    \"\"\"Calculate net input\"\"\"\n",
        "    return np.dot(X, self.weight[1:]) + self.weight[0]\n",
        "\n",
        "  def predict(self, X):\n",
        "    \"\"\"Return class label after unit step\"\"\"\n",
        "    return np.where(self.net_input(X) >= 0.0, 1, -1)"
      ],
      "execution_count": 0,
      "outputs": []
    },
    {
      "cell_type": "code",
      "metadata": {
        "id": "xJTWBTZhgnu6",
        "colab_type": "code",
        "colab": {
          "base_uri": "https://localhost:8080/",
          "height": 283
        },
        "outputId": "da89f69a-c8c4-4f8f-d762-36cf1830a04a"
      },
      "source": [
        "pn = Perceptron(0.1, 7)\n",
        "pn.fit(X, y)\n",
        "plt.plot(range(1, len(pn.errors) + 1), pn.errors, marker='o')\n",
        "plt.xlabel('Epochs')\n",
        "plt.ylabel('Number of misclassifications')\n",
        "plt.show()"
      ],
      "execution_count": 171,
      "outputs": [
        {
          "output_type": "display_data",
          "data": {
            "image/png": "[encoded data removed]",
            "text/plain": [
              "<Figure size 432x288 with 1 Axes>"
            ]
          },
          "metadata": {
            "tags": []
          }
        }
      ]
    },
    {
      "cell_type": "code",
      "metadata": {
        "id": "eUWHLjMjnwsE",
        "colab_type": "code",
        "colab": {}
      },
      "source": [
        "from matplotlib.colors import ListedColormap\n",
        "def plot_decision_regions(X, y, classifier, resolution=0.02):\n",
        "  # setup marker generator and color map\n",
        "  markers = ('s', 'x', 'o', '^', 'v')\n",
        "  colors = ('red', 'blue', 'lightgreen', 'gray', 'cyan')\n",
        "  cmap = ListedColormap(colors[:len(np.unique(y))])\n",
        "\n",
        "  # plot the decision surface\n",
        "  x1_min, x1_max = X[:,  0].min() - 1, X[:, 0].max() + 1\n",
        "  x2_min, x2_max = X[:, 1].min() - 1, X[:, 1].max() + 1\n",
        "  xx1, xx2 = np.meshgrid(np.arange(x1_min, x1_max, resolution),\n",
        "  np.arange(x2_min, x2_max, resolution))\n",
        "  Z = classifier.predict(np.array([xx1.ravel(), xx2.ravel()]).T)\n",
        "  Z = Z.reshape(xx1.shape)\n",
        "  plt.contourf(xx1, xx2, Z, alpha=0.4, cmap=cmap)\n",
        "  plt.xlim(xx1.min(), xx1.max())\n",
        "  plt.ylim(xx2.min(), xx2.max())\n",
        "\n",
        "  # plot class samples\n",
        "  for idx, cl in enumerate(np.unique(y)):\n",
        "    plt.scatter(x=X[y == cl, 0], y=X[y == cl, 1],\n",
        "    alpha=0.8, c=cmap(idx),\n",
        "    marker=markers[idx], label=cl)"
      ],
      "execution_count": 0,
      "outputs": []
    },
    {
      "cell_type": "code",
      "metadata": {
        "id": "915UVcP2moG6",
        "colab_type": "code",
        "colab": {
          "base_uri": "https://localhost:8080/",
          "height": 337
        },
        "outputId": "59a5b50a-4e6f-4b64-836c-13ca41dbd55b"
      },
      "source": [
        "plot_decision_regions(X, y, classifier=pn)\n",
        "plt.xlabel('sepal length')\n",
        "plt.ylabel('petal lenght')\n",
        "plt.legend(loc='upper left')\n",
        "plt.show()"
      ],
      "execution_count": 173,
      "outputs": [
        {
          "output_type": "stream",
          "text": [
            "'c' argument looks like a single numeric RGB or RGBA sequence, which should be avoided as value-mapping will have precedence in case its length matches with 'x' & 'y'.  Please use a 2-D array with a single row if you really want to specify the same RGB or RGBA value for all points.\n",
            "'c' argument looks like a single numeric RGB or RGBA sequence, which should be avoided as value-mapping will have precedence in case its length matches with 'x' & 'y'.  Please use a 2-D array with a single row if you really want to specify the same RGB or RGBA value for all points.\n"
          ],
          "name": "stderr"
        },
        {
          "output_type": "display_data",
          "data": {
            "image/png": "[encoded data removed]",
            "text/plain": [
              "<Figure size 432x288 with 1 Axes>"
            ]
          },
          "metadata": {
            "tags": []
          }
        }
      ]
    },
    {
      "cell_type": "markdown",
      "metadata": {
        "id": "6QR4oAW1xdyu",
        "colab_type": "text"
      },
      "source": [
        "## Stretch Goals:\n",
        "\n",
        "- Research \"backpropagation\" to learn how weights get updated in neural networks (tomorrow's lecture). \n",
        "- Implement a multi-layer perceptron. (for non-linearly separable classes)\n",
        "- Try and implement your own backpropagation algorithm.\n",
        "- What are the pros and cons of the different activation functions? How should you decide between them for the different layers of a neural network?"
      ]
    }
  ]
}