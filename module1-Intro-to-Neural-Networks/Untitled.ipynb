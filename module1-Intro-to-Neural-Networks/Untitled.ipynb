{
 "cells": [
  {
   "cell_type": "markdown",
   "metadata": {},
   "source": [
    "Neural Networks: Logistic Regressions tied together in a big graph\n",
    "\n",
    "-Better when you have lots of complex data\n",
    "    -Video\n",
    "    -Audio\n",
    "    -Sound\n",
    "    \n",
    "-Goal: Fundamental terminology, and libraries\n",
    "\n",
    "1. Describe the foundational components of a neural network\n",
    "\n",
    "Input Cells - Yellow Cells - 1 Input per Variable in model\n",
    "Takes raw data and sends it into network\n",
    "\n",
    "Output Cells - Red cells - 1 output Neuron for each output we're trying to predict\n",
    "\n",
    "*Can handle multi-target regression*\n",
    "\n",
    "Hidden Cells - Green Cells - We don't directly inspect output at any point in model\n",
    "Magic sauce that makes deep learning good. More hidden cells, more magic sauce. \n",
    "\n",
    "2. Implement a Perceptron from scratch in Python\n",
    "\n",
    "\n",
    "Artificial computational models inspired by biological neural networks\n",
    "\n",
    "I want coffee\n",
    "Brain passes signal down hand, prompts thirst, and activates the neurons to my hand so I take a drink of coffee. \n",
    "\n",
    "So we're taking the signal, we're gonna pass it to the artificial connections that look back to other neurons in the signal area. \n",
    "\n",
    "Input Cells: aka visible layer\n",
    "features/columns\n"
   ]
  },
  {
   "cell_type": "code",
   "execution_count": 3,
   "metadata": {},
   "outputs": [
    {
     "data": {
      "text/html": [
       "<div>\n",
       "<style scoped>\n",
       "    .dataframe tbody tr th:only-of-type {\n",
       "        vertical-align: middle;\n",
       "    }\n",
       "\n",
       "    .dataframe tbody tr th {\n",
       "        vertical-align: top;\n",
       "    }\n",
       "\n",
       "    .dataframe thead th {\n",
       "        text-align: right;\n",
       "    }\n",
       "</style>\n",
       "<table border=\"1\" class=\"dataframe\">\n",
       "  <thead>\n",
       "    <tr style=\"text-align: right;\">\n",
       "      <th></th>\n",
       "      <th>sqft</th>\n",
       "      <th>price_in_thous</th>\n",
       "      <th>predictions</th>\n",
       "      <th>difference</th>\n",
       "      <th>diff_squared</th>\n",
       "    </tr>\n",
       "  </thead>\n",
       "  <tbody>\n",
       "    <tr>\n",
       "      <th>0</th>\n",
       "      <td>2104</td>\n",
       "      <td>399.9</td>\n",
       "      <td>379</td>\n",
       "      <td>21</td>\n",
       "      <td>449</td>\n",
       "    </tr>\n",
       "    <tr>\n",
       "      <th>1</th>\n",
       "      <td>1600</td>\n",
       "      <td>329.9</td>\n",
       "      <td>288</td>\n",
       "      <td>42</td>\n",
       "      <td>1756</td>\n",
       "    </tr>\n",
       "    <tr>\n",
       "      <th>2</th>\n",
       "      <td>2400</td>\n",
       "      <td>369.0</td>\n",
       "      <td>432</td>\n",
       "      <td>-63</td>\n",
       "      <td>3969</td>\n",
       "    </tr>\n",
       "  </tbody>\n",
       "</table>\n",
       "</div>"
      ],
      "text/plain": [
       "   sqft  price_in_thous  predictions  difference  diff_squared\n",
       "0  2104           399.9          379          21           449\n",
       "1  1600           329.9          288          42          1756\n",
       "2  2400           369.0          432         -63          3969"
      ]
     },
     "execution_count": 3,
     "metadata": {},
     "output_type": "execute_result"
    }
   ],
   "source": [
    "import pandas as pd\n",
    "import matplotlib.pyplot as plt\n",
    "#sqftage\n",
    "x = [2104, 1600, 2400]\n",
    "#price of house in thousands\n",
    "y = [399.9, 329.9, 369]\n",
    "#arbitrary predictions\n",
    "predictions = [379, 288, 432]\n",
    "#shows difference between pred and target\n",
    "difference = [21, 42, -63]\n",
    "#MAE: square difference to show outliers more easily\n",
    "difference_squared = [449, 1756, 3969]\n",
    "\n",
    "df = pd.DataFrame({'sqft': x, 'price_in_thous': y, \"predictions\": predictions, \"difference\": difference, \"diff_squared\": difference_squared})\n",
    "df.head()\n",
    "#two metrics we can use to evaluate logistic regressions: MAE"
   ]
  },
  {
   "cell_type": "code",
   "execution_count": 5,
   "metadata": {},
   "outputs": [
    {
     "data": {
      "text/plain": [
       "<function matplotlib.pyplot.show(*args, **kw)>"
      ]
     },
     "execution_count": 5,
     "metadata": {},
     "output_type": "execute_result"
    },
    {
     "data": {
      "image/png": "[encoded data removed]",
      "text/plain": [
       "<Figure size 432x288 with 1 Axes>"
      ]
     },
     "metadata": {
      "needs_background": "light"
     },
     "output_type": "display_data"
    }
   ],
   "source": [
    "plt.scatter(df.sqft, df.price_in_thous)\n",
    "plt.xlabel(\"Square Feet\")\n",
    "plt.ylabel(\"Price in Thousands of Dollars\")\n",
    "plt.title(\"Home Price Estimates\")\n",
    "\n",
    "#Plot the line\n",
    "price_per_sqft= .180\n",
    "\n",
    "#a list with .180 (weight) * sq_ftg for each row in the df\n",
    "#column called sqft\n",
    "y_hat = [price_per_sqft*x for x in df.sqft]\n",
    "plt.plot(df.sqft, y_hat, color='red')\n",
    "\n",
    "plt.show\n",
    "#Assuming this is Mean Squared Error"
   ]
  },
  {
   "cell_type": "code",
   "execution_count": 6,
   "metadata": {},
   "outputs": [
    {
     "name": "stdout",
     "output_type": "stream",
     "text": [
      "MSE: <bound method Series.mean of 0     449\n",
      "1    1756\n",
      "2    3969\n",
      "Name: diff_squared, dtype: int64>\n"
     ]
    }
   ],
   "source": [
    "#red line - regression line\n",
    "#blue dots - \n",
    "\n",
    "print(\"MSE:\", df.diff_squared.mean)"
   ]
  },
  {
   "cell_type": "code",
   "execution_count": null,
   "metadata": {},
   "outputs": [],
   "source": [
    "#So far we have used no regression techniques"
   ]
  },
  {
   "cell_type": "code",
   "execution_count": null,
   "metadata": {},
   "outputs": [],
   "source": [
    "#Abstract: Under the hood when ML models are accounting for bias, the bias is baked into the connection to the hidden cells/output. **?**"
   ]
  },
  {
   "cell_type": "code",
   "execution_count": null,
   "metadata": {},
   "outputs": [],
   "source": []
  }
 ],
 "metadata": {
  "kernelspec": {
   "display_name": "U4-S1-NLP (Python3)",
   "language": "python",
   "name": "u4-s1-nlp"
  },
  "language_info": {
   "codemirror_mode": {
    "name": "ipython",
    "version": 3
   },
   "file_extension": ".py",
   "mimetype": "text/x-python",
   "name": "python",
   "nbconvert_exporter": "python",
   "pygments_lexer": "ipython3",
   "version": "3.7.3"
  }
 },
 "nbformat": 4,
 "nbformat_minor": 2
}
