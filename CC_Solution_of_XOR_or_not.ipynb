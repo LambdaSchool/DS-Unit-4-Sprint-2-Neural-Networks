{
  "nbformat": 4,
  "nbformat_minor": 0,
  "metadata": {
    "colab": {
      "name": "Solution of XOR (or not).ipynb",
      "provenance": [],
      "collapsed_sections": []
    },
    "kernelspec": {
      "name": "python3",
      "display_name": "Python 3"
    }
  },
  "cells": [
    {
      "cell_type": "code",
      "metadata": {
        "id": "ZyKe-2CrqasR",
        "colab_type": "code",
        "colab": {}
      },
      "source": [
        ""
      ],
      "execution_count": 0,
      "outputs": []
    },
    {
      "cell_type": "markdown",
      "metadata": {
        "id": "PlJrdCkzqmcg",
        "colab_type": "text"
      },
      "source": [
        "In this challenge we jump directly into building neural networks. We won't get into much theory or generality, but by the end of this exercise you'll build a very simple example of one, and in the mean time gain some intuition for how they work. First, we import numpy as usual."
      ]
    },
    {
      "cell_type": "code",
      "metadata": {
        "id": "5wjq6pOrq8FN",
        "colab_type": "code",
        "colab": {}
      },
      "source": [
        "# LAMBDA SCHOOL\n",
        "#\n",
        "# MACHINE LEARNING\n",
        "#\n",
        "# MIT LICENSE\n",
        "\n",
        "import numpy as np"
      ],
      "execution_count": 0,
      "outputs": []
    },
    {
      "cell_type": "markdown",
      "metadata": {
        "id": "P0rnp70Yq9wg",
        "colab_type": "text"
      },
      "source": [
        "Next, look at the Wikipedia article for the XOR function (https://en.wikipedia.org/wiki/XOR_gate). Basically, it's a function that takes in two truth values (aka booleans) x and y and spits out a third truth value f(x,y) according to the following rule: f(x,y) is true when x is true OR y is true, but not both. If we use the common representation wherein \"1\" means \"True\" and \"0\" means \"False\", this means that f(0,0) = f(1,1) = 0 and f(0,1) = f(1,0) = 1. Check that this makes sense!\n",
        "\n",
        "Your first task for today is to implement the XOR function. There are slick ways to do this using modular arithmetic (if you're in to that sort of thing), but implement it however you like. Check that it gives the right values for each of the inputs (0,0), (0,1), (1,0), and (1,1).\n",
        "\n",
        "![The simplest neural net: $\\sigma(w_1x+b)$](https://www.lucidchart.com/publicSegments/view/21af3bf0-68c0-41a5-8270-4a9f8f5bb019/image.png)"
      ]
    },
    {
      "cell_type": "code",
      "metadata": {
        "id": "xoBdblQaq8tz",
        "colab_type": "code",
        "outputId": "0d9bc4b8-5bc2-49cc-bd6a-b405ba6d0207",
        "colab": {
          "base_uri": "https://localhost:8080/",
          "height": 87
        }
      },
      "source": [
        "def xorFunction(x, y):\n",
        "  return (x+y)%2\n",
        "\n",
        "print(xorFunction(0,0))\n",
        "print(xorFunction(1,1))\n",
        "print(xorFunction(0,1))\n",
        "print(xorFunction(1,0))"
      ],
      "execution_count": 0,
      "outputs": [
        {
          "output_type": "stream",
          "text": [
            "0\n",
            "0\n",
            "1\n",
            "1\n"
          ],
          "name": "stdout"
        }
      ]
    },
    {
      "cell_type": "markdown",
      "metadata": {
        "id": "3k71Zs36slNz",
        "colab_type": "text"
      },
      "source": [
        "Great. Now, define a function sigma(x) that acts the way that the sigmoid function does. If you don't remember exactly how this works, check Wikipedia or ask one of your classmates."
      ]
    },
    {
      "cell_type": "code",
      "metadata": {
        "id": "MePiuRkbsP3O",
        "colab_type": "code",
        "outputId": "0534fb42-8852-4237-ad69-7471d12d7f02",
        "colab": {
          "base_uri": "https://localhost:8080/",
          "height": 365
        }
      },
      "source": [
        "def sigma(x):\n",
        "  return np.exp(x) / (1 + np.exp(x))\n",
        "\n",
        "import matplotlib.pyplot as plt\n",
        "plt.plot(np.linspace(-5,5,30),sigma(np.linspace(-5,5,30)))"
      ],
      "execution_count": 0,
      "outputs": [
        {
          "output_type": "execute_result",
          "data": {
            "text/plain": [
              "[<matplotlib.lines.Line2D at 0x7ff184c08710>]"
            ]
          },
          "metadata": {
            "tags": []
          },
          "execution_count": 22
        },
        {
          "output_type": "display_data",
          "data": {
            "image/png": "[encoded data removed]",
            "text/plain": [
              "<matplotlib.figure.Figure at 0x7ff184c324a8>"
            ]
          },
          "metadata": {
            "tags": []
          }
        }
      ]
    },
    {
      "cell_type": "markdown",
      "metadata": {
        "id": "KuwFEeMmtU1d",
        "colab_type": "text"
      },
      "source": [
        "Most machine learning algorithms have free parameters that we tweak to get the behavior we want, and this is no exception. Introduce two variables a and b and assign them both to the value 10 (for now)."
      ]
    },
    {
      "cell_type": "code",
      "metadata": {
        "id": "JYgJFgIvtFt3",
        "colab_type": "code",
        "colab": {}
      },
      "source": [
        "a = 10\n",
        "b = 10\n",
        "c = 10"
      ],
      "execution_count": 0,
      "outputs": []
    },
    {
      "cell_type": "markdown",
      "metadata": {
        "id": "yyazrFrntlGM",
        "colab_type": "text"
      },
      "source": [
        "Finally, here's our first neural network. Just like linear and logistic regression, it's nothing more than a function that takes in our inputs (x and y) and returns an output according to some prescribed rule. Today our rule consists of the following steps:\n",
        "\n",
        "Step 1: Take x and y and calculate ax + by.\n",
        "\n",
        "Step 2: Plug the result of step 1 into the sigma function we introduced earlier.\n",
        "\n",
        "Step 3: Take the result of step 2 and round it to the nearest whole number.\n",
        "\n",
        "Define a function NN(x,y) that takes in x and y and returns the result of performing these steps."
      ]
    },
    {
      "cell_type": "code",
      "metadata": {
        "id": "0pjkc4h4tHOB",
        "colab_type": "code",
        "colab": {}
      },
      "source": [
        "def NN(x,y):\n",
        "  return sigma(a*x+b*y+c)"
      ],
      "execution_count": 0,
      "outputs": []
    },
    {
      "cell_type": "markdown",
      "metadata": {
        "id": "GtOLsTqxub-n",
        "colab_type": "text"
      },
      "source": [
        "See what happens when you plug the values (0,0), (0,1), (1,0), and (1,1) into NN. The last (and possible trickiest) part of this assignment is to try and find values of a and b such that NN and XOR give the same outputs on each of those inputs. If you find a solution, share it. If you can't, talk with your classmates and see how they do. Feel free to collaborate!"
      ]
    },
    {
      "cell_type": "code",
      "metadata": {
        "id": "wmUokEnVl4JQ",
        "colab_type": "code",
        "outputId": "7f777bca-2689-42ab-a09d-168d567e8969",
        "colab": {
          "base_uri": "https://localhost:8080/",
          "height": 87
        }
      },
      "source": [
        "print(NN(0,0))\n",
        "print(NN(0,1))\n",
        "print(NN(1,0))\n",
        "print(NN(1,1))"
      ],
      "execution_count": 0,
      "outputs": [
        {
          "output_type": "stream",
          "text": [
            "0.5\n",
            "0.9999546021312976\n",
            "0.9999546021312976\n",
            "0.9999999979388464\n"
          ],
          "name": "stdout"
        }
      ]
    },
    {
      "cell_type": "code",
      "metadata": {
        "id": "g6vJQuKLl9nA",
        "colab_type": "code",
        "colab": {}
      },
      "source": [
        "# Add a hidden layer\n",
        "\n",
        "w1 = 20\n",
        "w2 = 20\n",
        "b1 = -10\n",
        "\n",
        "w3 = -20\n",
        "w4 = -20\n",
        "b2 = 30\n",
        "\n",
        "w5 = 20\n",
        "w6 = 20\n",
        "b3 = -30"
      ],
      "execution_count": 0,
      "outputs": []
    },
    {
      "cell_type": "code",
      "metadata": {
        "id": "z8bu1uFBm9sO",
        "colab_type": "code",
        "colab": {}
      },
      "source": [
        "def NN_hidden(x,y):\n",
        "    h1 = sigma(w1*x + w2*y + b1)\n",
        "    h2 = sigma(w3*x + w4*y + b2)\n",
        "    return sigma(w5*h1 + w6*h2 + b3)"
      ],
      "execution_count": 0,
      "outputs": []
    },
    {
      "cell_type": "code",
      "metadata": {
        "id": "nBcMY_VlnC3S",
        "colab_type": "code",
        "outputId": "ce75b164-0f2b-4344-8b29-21123534e89b",
        "colab": {
          "base_uri": "https://localhost:8080/",
          "height": 87
        }
      },
      "source": [
        "print(NN_hidden(0,0))\n",
        "print(NN_hidden(0,1))\n",
        "print(NN_hidden(1,0))\n",
        "print(NN_hidden(1,1))"
      ],
      "execution_count": 0,
      "outputs": [
        {
          "output_type": "stream",
          "text": [
            "4.543910487654575e-05\n",
            "0.9999545196214948\n",
            "0.9999545196214948\n",
            "4.543910487654575e-05\n"
          ],
          "name": "stdout"
        }
      ]
    },
    {
      "cell_type": "code",
      "metadata": {
        "id": "mXmjwgjjtg-d",
        "colab_type": "code",
        "colab": {}
      },
      "source": [
        ""
      ],
      "execution_count": 0,
      "outputs": []
    }
  ]
}