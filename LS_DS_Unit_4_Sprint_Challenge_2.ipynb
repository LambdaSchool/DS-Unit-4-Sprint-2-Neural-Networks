{
 "cells": [
  {
   "cell_type": "markdown",
   "metadata": {},
   "source": [
    "<img align=\"left\" src=\"https://lever-client-logos.s3.amazonaws.com/864372b1-534c-480e-acd5-9711f850815c-1524247202159.png\" width=200>\n",
    "<br></br>\n",
    "<br></br>\n",
    "\n",
    "## *Data Science Unit 4 Sprint 2*\n",
    "\n",
    "# Sprint Challenge - Neural Network Foundations\n",
    "\n",
    "Table of Problems\n",
    "\n",
    "1. [Defining Neural Networks](#Q1)\n",
    "2. [Perceptron on XOR Gates](#Q2)\n",
    "3. [Multilayer Perceptron](#Q3)\n",
    "4. [Keras MMP](#Q4)"
   ]
  },
  {
   "cell_type": "markdown",
   "metadata": {},
   "source": [
    "<a id=\"Q1\"></a>\n",
    "## 1. Define the following terms:\n",
    "\n",
    "- **Neuron:**\n",
    "A Neuron is a single node within a neural network, it takes an input has bias and weight values and an activation function. A perceptron can also be considered a Neuron.\n",
    "- **Input Layer:**\n",
    "The Input Layer is where data flows into a neural network, the input layer must have the same dimensions as the data which is being fed in. The input layer passes each \n",
    "- **Hidden Layer:**\n",
    "Hidden Layers are Neurons within a Neural Network which accept input from either the input layer or a previous hidden layer. Like all neurons each neuron in the hidden layer \n",
    "- **Output Layer:**\n",
    "The output layer is the end result of the neural network, it's shape will be the same as the data you're trying to predict.\n",
    "- **Activation:**\n",
    "An activation function takes the result of a node's input * weight + bias as input and if the result is sufficient the node activates.\n",
    "- **Backpropagation:**\n",
    "Backpropagation takes the passes the error (desired output - predicted output) from the output layer back down the network and adjusts the weights of the network based off how much the nodes affected the final result."
   ]
  },
  {
   "cell_type": "markdown",
   "metadata": {},
   "source": [
    "## 2. Perceptron on XOR Gates <a id=\"Q2\"></a>\n",
    "\n",
    "The XOr, or “exclusive or”, problem is a classic problem in ANN research. It is the problem of using a neural network to predict the outputs of XOr logic gates given two binary inputs. An XOr function should return a true value if the two inputs are not equal and a false value if they are equal. Create a perceptron class that can model the behavior of an AND gate. You can use the following table as your training data:\n",
    "\n",
    "|x1\t|x2 | y |\n",
    "|---|---|---|\n",
    "| 0 | 0 | 0 |\n",
    "| 0 | 1 | 1 |\n",
    "| 1 | 1 | 0 |\n",
    "| 1 | 0 | 1 |\n"
   ]
  },
  {
   "cell_type": "code",
   "execution_count": 48,
   "metadata": {},
   "outputs": [],
   "source": [
    "import numpy as np\n",
    "import matplotlib.pyplot as plt\n",
    "from sklearn.model_selection import train_test_split\n",
    "from tensorflow.keras.utils import to_categorical\n",
    "import pandas as pd"
   ]
  },
  {
   "cell_type": "code",
   "execution_count": 202,
   "metadata": {
    "collapsed": false,
    "inputHidden": false,
    "outputHidden": false
   },
   "outputs": [],
   "source": [
    "X = np.array([[0.0,0.0],\n",
    "             [0.0,1.0],\n",
    "             [1.0,1.0],\n",
    "             [1.0,0.0]])\n",
    "y = np.array([0.0, 1.0, 0.0, 1.0])"
   ]
  },
  {
   "cell_type": "code",
   "execution_count": 213,
   "metadata": {},
   "outputs": [],
   "source": [
    "class Perceptron:\n",
    "    def __init__(self, lr=0.01):\n",
    "        self.lr = lr\n",
    "    \n",
    "    def fit(self,X, y, epochs=10):\n",
    "        self.weights = np.zeros(1+X.shape[1])\n",
    "        self.errors = []\n",
    "        for i in range(epochs):\n",
    "            err = 0\n",
    "            for xi, target in zip(X, y):\n",
    "                delta_w = self.lr * (target - self.predict(xi))\n",
    "                self.weights[1:] += delta_w * xi\n",
    "                self.weights[0] += delta_w\n",
    "                err += int(delta_w != 0.0)\n",
    "            self.errors.append(err)\n",
    "        return self\n",
    "    \n",
    "    def net_input(self, X):\n",
    "        return np.dot(X, self.weights[1:]) + self.weights[0]\n",
    "    \n",
    "    def predict(self, X):\n",
    "        return np.where(self.net_input(X) >= 0.0, 1.0, 0.0)"
   ]
  },
  {
   "cell_type": "code",
   "execution_count": null,
   "metadata": {},
   "outputs": [],
   "source": []
  },
  {
   "cell_type": "code",
   "execution_count": 216,
   "metadata": {},
   "outputs": [
    {
     "data": {
      "text/plain": [
       "<__main__.Perceptron at 0x7fb1ff390278>"
      ]
     },
     "execution_count": 216,
     "metadata": {},
     "output_type": "execute_result"
    }
   ],
   "source": [
    "pn = Perceptron(0.01)\n",
    "pn.fit(X, y, 10)"
   ]
  },
  {
   "cell_type": "code",
   "execution_count": 219,
   "metadata": {},
   "outputs": [
    {
     "data": {
      "text/plain": [
       "array([1., 1., 1., 1.])"
      ]
     },
     "execution_count": 219,
     "metadata": {},
     "output_type": "execute_result"
    }
   ],
   "source": [
    "pn.predict(X)"
   ]
  },
  {
   "cell_type": "code",
   "execution_count": 218,
   "metadata": {},
   "outputs": [
    {
     "data": {
      "image/png": "[encoded data removed]",
      "text/plain": [
       "<Figure size 432x288 with 1 Axes>"
      ]
     },
     "metadata": {
      "needs_background": "light"
     },
     "output_type": "display_data"
    }
   ],
   "source": [
    "plt.plot(range(1, len(pn.errors) + 1), pn.errors, marker='o')\n",
    "plt.xlabel('Epochs')\n",
    "plt.ylabel('Misclassified')\n",
    "plt.show()"
   ]
  },
  {
   "cell_type": "code",
   "execution_count": null,
   "metadata": {},
   "outputs": [],
   "source": [
    "# Guess I need to put some more time into this later..."
   ]
  },
  {
   "cell_type": "markdown",
   "metadata": {},
   "source": [
    "## 3. Multilayer Perceptron <a id=\"Q3\"></a>\n",
    "\n",
    "Implement a Neural Network Multilayer Perceptron class that uses backpropagation to update the network's weights.\n",
    "Your network must have one hidden layer.\n",
    "You do not have to update weights via gradient descent. You can use something like the derivative of the sigmoid function to update weights.\n",
    "Train your model on the Heart Disease dataset from UCI:\n",
    "\n"
   ]
  },
  {
   "cell_type": "code",
   "execution_count": 179,
   "metadata": {
    "collapsed": false,
    "inputHidden": false,
    "outputHidden": false
   },
   "outputs": [],
   "source": [
    "class NeuralNet:\n",
    "    def __init__(self, inputs, hiddenNodes, outputNodes):\n",
    "        self.inputs = inputs\n",
    "        self.hiddenNodes = hiddenNodes\n",
    "        self.outputNodes = outputNodes\n",
    "        \n",
    "        self.weights1 = np.random.randn(self.inputs, self.hiddenNodes)\n",
    "        self.weights2 = np.random.randn(self.hiddenNodes, self.outputNodes)\n",
    "        \n",
    "    def sigmoid(self, s):\n",
    "        return 1 / (1 + np.exp(-s))\n",
    "    \n",
    "    def sigmoidPrime(self, s):\n",
    "        return s * (1 - s)\n",
    "    \n",
    "    def forward(self, X):\n",
    "        # multiply inputs by weights of first hidden node\n",
    "        self.hidden_sum = np.dot(X, self.weights1)\n",
    "        # pass values through sigmoid function to decide activation\n",
    "        self.activated_hidden = self.sigmoid(self.hidden_sum)\n",
    "        # multiply hidden output by output layer weights\n",
    "        self.output_sum = np.dot(self.activated_hidden, self.weights2)\n",
    "        # pass output values through sigmoid to determine output\n",
    "        self.activated_output = self.sigmoid(self.output_sum)\n",
    "        \n",
    "        return self.activated_output\n",
    "    \n",
    "    def backward(self, X, y, o):\n",
    "        # Subtract result from feeding foward from\n",
    "        # actual output to determine error rate\n",
    "        self.o_error = y - o\n",
    "        # Use derivative of the output(from sigmoid function)\n",
    "        # multiplied by error\n",
    "        self.o_delta = self.o_error * self.sigmoidPrime(o)\n",
    "        \n",
    "        self.z2_error = self.o_delta.dot(self.weights2.T)\n",
    "        self.z2_delta = self.z2_error * self.sigmoidPrime(self.activated_hidden)\n",
    "        \n",
    "        self.weights2 += self.activated_hidden.T.dot(self.o_delta)\n",
    "        \n",
    "        self.weights1 += X.T.dot(self.z2_delta)\n",
    "        \n",
    "    def train(self, X, y):\n",
    "        o = self.forward(X)\n",
    "        self.backward(X, y, o)\n",
    "        "
   ]
  },
  {
   "cell_type": "code",
   "execution_count": 28,
   "metadata": {},
   "outputs": [],
   "source": [
    "from sklearn.datasets import fetch_openml\n",
    "\n",
    "heartdisease = fetch_openml(data_id=194)"
   ]
  },
  {
   "cell_type": "code",
   "execution_count": 180,
   "metadata": {},
   "outputs": [],
   "source": [
    "X = pd.DataFrame(heartdisease['data'])"
   ]
  },
  {
   "cell_type": "code",
   "execution_count": 181,
   "metadata": {},
   "outputs": [],
   "source": [
    "X = X.fillna(value=0.0).values"
   ]
  },
  {
   "cell_type": "code",
   "execution_count": 99,
   "metadata": {},
   "outputs": [
    {
     "data": {
      "text/plain": [
       "(303, 13)"
      ]
     },
     "execution_count": 99,
     "metadata": {},
     "output_type": "execute_result"
    }
   ],
   "source": [
    "X.shape"
   ]
  },
  {
   "cell_type": "code",
   "execution_count": 100,
   "metadata": {},
   "outputs": [
    {
     "data": {
      "text/plain": [
       "(303,)"
      ]
     },
     "execution_count": 100,
     "metadata": {},
     "output_type": "execute_result"
    }
   ],
   "source": [
    "y.shape"
   ]
  },
  {
   "cell_type": "code",
   "execution_count": 195,
   "metadata": {},
   "outputs": [],
   "source": [
    "y = heartdisease['target']\n",
    "y = to_categorical(y)"
   ]
  },
  {
   "cell_type": "code",
   "execution_count": 46,
   "metadata": {},
   "outputs": [
    {
     "data": {
      "text/plain": [
       "0.0"
      ]
     },
     "execution_count": 46,
     "metadata": {},
     "output_type": "execute_result"
    }
   ],
   "source": [
    "y.min()"
   ]
  },
  {
   "cell_type": "code",
   "execution_count": 196,
   "metadata": {},
   "outputs": [],
   "source": [
    "X_train, X_val, y_train, y_val = train_test_split(X, y, test_size=0.33, shuffle=True)"
   ]
  },
  {
   "cell_type": "code",
   "execution_count": 186,
   "metadata": {},
   "outputs": [
    {
     "data": {
      "text/plain": [
       "(203, 13)"
      ]
     },
     "execution_count": 186,
     "metadata": {},
     "output_type": "execute_result"
    }
   ],
   "source": [
    "X_train.shape"
   ]
  },
  {
   "cell_type": "code",
   "execution_count": 191,
   "metadata": {},
   "outputs": [],
   "source": [
    "y_train = y_train.reshape(203, 1)"
   ]
  },
  {
   "cell_type": "code",
   "execution_count": 197,
   "metadata": {},
   "outputs": [],
   "source": [
    "NN = NeuralNet(13, 30, 5)"
   ]
  },
  {
   "cell_type": "code",
   "execution_count": 198,
   "metadata": {},
   "outputs": [],
   "source": [
    "NN.train(X_train, y_train)"
   ]
  },
  {
   "cell_type": "code",
   "execution_count": 199,
   "metadata": {},
   "outputs": [
    {
     "name": "stdout",
     "output_type": "stream",
     "text": [
      "+---------EPOCH 1---------+\n",
      "Input: \n",
      " [[41.  0.  2. ...  0.  0.  1.]\n",
      " [67.  1.  2. ...  1.  0.  2.]\n",
      " [51.  1.  0. ...  0.  1.  1.]\n",
      " ...\n",
      " [53.  0.  1. ...  0.  0.  1.]\n",
      " [65.  0.  2. ...  0.  1.  1.]\n",
      " [51.  0.  2. ...  0.  0.  1.]]\n",
      "Actual Output: \n",
      " [[1. 0. 0. 0. 0.]\n",
      " [0. 1. 0. 0. 0.]\n",
      " [1. 0. 0. 0. 0.]\n",
      " ...\n",
      " [1. 0. 0. 0. 0.]\n",
      " [1. 0. 0. 0. 0.]\n",
      " [1. 0. 0. 0. 0.]]\n",
      "Predicted Output: \n",
      " [[9.98241108e-01 8.24819324e-01 6.88872497e-77 1.01552039e-63\n",
      "  1.04295890e-03]\n",
      " [9.98241108e-01 8.24819324e-01 6.88872497e-77 1.01552039e-63\n",
      "  1.04295890e-03]\n",
      " [9.98241108e-01 8.24819324e-01 6.88872497e-77 1.01552039e-63\n",
      "  1.04295890e-03]\n",
      " ...\n",
      " [9.98241108e-01 8.24819324e-01 6.88872497e-77 1.01552039e-63\n",
      "  1.04295890e-03]\n",
      " [9.98241108e-01 8.24819324e-01 6.88872497e-77 1.01552039e-63\n",
      "  1.04295890e-03]\n",
      " [9.98241108e-01 8.24819324e-01 6.88872497e-77 1.01552039e-63\n",
      "  1.04295890e-03]]\n",
      "Loss: \n",
      " 0.26199639690842735\n",
      "+---------EPOCH 100---------+\n",
      "Input: \n",
      " [[41.  0.  2. ...  0.  0.  1.]\n",
      " [67.  1.  2. ...  1.  0.  2.]\n",
      " [51.  1.  0. ...  0.  1.  1.]\n",
      " ...\n",
      " [53.  0.  1. ...  0.  0.  1.]\n",
      " [65.  0.  2. ...  0.  1.  1.]\n",
      " [51.  0.  2. ...  0.  0.  1.]]\n",
      "Actual Output: \n",
      " [[1. 0. 0. 0. 0.]\n",
      " [0. 1. 0. 0. 0.]\n",
      " [1. 0. 0. 0. 0.]\n",
      " ...\n",
      " [1. 0. 0. 0. 0.]\n",
      " [1. 0. 0. 0. 0.]\n",
      " [1. 0. 0. 0. 0.]]\n",
      "Predicted Output: \n",
      " [[1.00000000e+00 1.46349520e-91 6.88872497e-77 1.01552039e-63\n",
      "  4.18876654e-05]\n",
      " [1.00000000e+00 1.46349520e-91 6.88872497e-77 1.01552039e-63\n",
      "  4.18876654e-05]\n",
      " [1.00000000e+00 1.46349520e-91 6.88872497e-77 1.01552039e-63\n",
      "  4.18876654e-05]\n",
      " ...\n",
      " [1.00000000e+00 1.46349520e-91 6.88872497e-77 1.01552039e-63\n",
      "  4.18876654e-05]\n",
      " [1.00000000e+00 1.46349520e-91 6.88872497e-77 1.01552039e-63\n",
      "  4.18876654e-05]\n",
      " [1.00000000e+00 1.46349520e-91 6.88872497e-77 1.01552039e-63\n",
      "  4.18876654e-05]]\n",
      "Loss: \n",
      " 0.18325040652146504\n",
      "+---------EPOCH 200---------+\n",
      "Input: \n",
      " [[41.  0.  2. ...  0.  0.  1.]\n",
      " [67.  1.  2. ...  1.  0.  2.]\n",
      " [51.  1.  0. ...  0.  1.  1.]\n",
      " ...\n",
      " [53.  0.  1. ...  0.  0.  1.]\n",
      " [65.  0.  2. ...  0.  1.  1.]\n",
      " [51.  0.  2. ...  0.  0.  1.]]\n",
      "Actual Output: \n",
      " [[1. 0. 0. 0. 0.]\n",
      " [0. 1. 0. 0. 0.]\n",
      " [1. 0. 0. 0. 0.]\n",
      " ...\n",
      " [1. 0. 0. 0. 0.]\n",
      " [1. 0. 0. 0. 0.]\n",
      " [1. 0. 0. 0. 0.]]\n",
      "Predicted Output: \n",
      " [[1.00000000e+00 1.46349520e-91 6.88872497e-77 1.01552039e-63\n",
      "  7.73915504e-05]\n",
      " [1.00000000e+00 1.46349520e-91 6.88872497e-77 1.01552039e-63\n",
      "  7.73915504e-05]\n",
      " [1.00000000e+00 1.46349520e-91 6.88872497e-77 1.01552039e-63\n",
      "  7.73915504e-05]\n",
      " ...\n",
      " [1.00000000e+00 1.46349520e-91 6.88872497e-77 1.01552039e-63\n",
      "  7.73915504e-05]\n",
      " [1.00000000e+00 1.46349520e-91 6.88872497e-77 1.01552039e-63\n",
      "  7.73915504e-05]\n",
      " [1.00000000e+00 1.46349520e-91 6.88872497e-77 1.01552039e-63\n",
      "  7.73915504e-05]]\n",
      "Loss: \n",
      " 0.18324970782352368\n",
      "+---------EPOCH 300---------+\n",
      "Input: \n",
      " [[41.  0.  2. ...  0.  0.  1.]\n",
      " [67.  1.  2. ...  1.  0.  2.]\n",
      " [51.  1.  0. ...  0.  1.  1.]\n",
      " ...\n",
      " [53.  0.  1. ...  0.  0.  1.]\n",
      " [65.  0.  2. ...  0.  1.  1.]\n",
      " [51.  0.  2. ...  0.  0.  1.]]\n",
      "Actual Output: \n",
      " [[1. 0. 0. 0. 0.]\n",
      " [0. 1. 0. 0. 0.]\n",
      " [1. 0. 0. 0. 0.]\n",
      " ...\n",
      " [1. 0. 0. 0. 0.]\n",
      " [1. 0. 0. 0. 0.]\n",
      " [1. 0. 0. 0. 0.]]\n",
      "Predicted Output: \n",
      " [[1.00000000e+00 1.46349520e-91 6.88872497e-77 1.01552039e-63\n",
      "  4.84558487e-04]\n",
      " [1.00000000e+00 1.46349520e-91 6.88872497e-77 1.01552039e-63\n",
      "  4.84558487e-04]\n",
      " [1.00000000e+00 1.46349520e-91 6.88872497e-77 1.01552039e-63\n",
      "  4.84558487e-04]\n",
      " ...\n",
      " [1.00000000e+00 1.46349520e-91 6.88872497e-77 1.01552039e-63\n",
      "  4.84558487e-04]\n",
      " [1.00000000e+00 1.46349520e-91 6.88872497e-77 1.01552039e-63\n",
      "  4.84558487e-04]\n",
      " [1.00000000e+00 1.46349520e-91 6.88872497e-77 1.01552039e-63\n",
      "  4.84558487e-04]]\n",
      "Loss: \n",
      " 0.18324173269518987\n",
      "+---------EPOCH 400---------+\n",
      "Input: \n",
      " [[41.  0.  2. ...  0.  0.  1.]\n",
      " [67.  1.  2. ...  1.  0.  2.]\n",
      " [51.  1.  0. ...  0.  1.  1.]\n",
      " ...\n",
      " [53.  0.  1. ...  0.  0.  1.]\n",
      " [65.  0.  2. ...  0.  1.  1.]\n",
      " [51.  0.  2. ...  0.  0.  1.]]\n",
      "Actual Output: \n",
      " [[1. 0. 0. 0. 0.]\n",
      " [0. 1. 0. 0. 0.]\n",
      " [1. 0. 0. 0. 0.]\n",
      " ...\n",
      " [1. 0. 0. 0. 0.]\n",
      " [1. 0. 0. 0. 0.]\n",
      " [1. 0. 0. 0. 0.]]\n",
      "Predicted Output: \n",
      " [[1.00000000e+00 1.46349520e-91 6.88872497e-77 1.01552039e-63\n",
      "  9.07425008e-05]\n",
      " [1.00000000e+00 1.46349520e-91 6.88872497e-77 1.01552039e-63\n",
      "  9.07425008e-05]\n",
      " [1.00000000e+00 1.46349520e-91 6.88872497e-77 1.01552039e-63\n",
      "  9.07425008e-05]\n",
      " ...\n",
      " [1.00000000e+00 1.46349520e-91 6.88872497e-77 1.01552039e-63\n",
      "  9.07425008e-05]\n",
      " [1.00000000e+00 1.46349520e-91 6.88872497e-77 1.01552039e-63\n",
      "  9.07425008e-05]\n",
      " [1.00000000e+00 1.46349520e-91 6.88872497e-77 1.01552039e-63\n",
      "  9.07425008e-05]]\n",
      "Loss: \n",
      " 0.1832494452047689\n",
      "+---------EPOCH 500---------+\n",
      "Input: \n",
      " [[41.  0.  2. ...  0.  0.  1.]\n",
      " [67.  1.  2. ...  1.  0.  2.]\n",
      " [51.  1.  0. ...  0.  1.  1.]\n",
      " ...\n",
      " [53.  0.  1. ...  0.  0.  1.]\n",
      " [65.  0.  2. ...  0.  1.  1.]\n",
      " [51.  0.  2. ...  0.  0.  1.]]\n",
      "Actual Output: \n",
      " [[1. 0. 0. 0. 0.]\n",
      " [0. 1. 0. 0. 0.]\n",
      " [1. 0. 0. 0. 0.]\n",
      " ...\n",
      " [1. 0. 0. 0. 0.]\n",
      " [1. 0. 0. 0. 0.]\n",
      " [1. 0. 0. 0. 0.]]\n",
      "Predicted Output: \n",
      " [[1.00000000e+00 1.46349520e-91 6.88872497e-77 1.01552039e-63\n",
      "  3.38883634e-03]\n",
      " [1.00000000e+00 1.46349520e-91 6.88872497e-77 1.01552039e-63\n",
      "  3.38883634e-03]\n",
      " [1.00000000e+00 1.46349520e-91 6.88872497e-77 1.01552039e-63\n",
      "  3.38883634e-03]\n",
      " ...\n",
      " [1.00000000e+00 1.46349520e-91 6.88872497e-77 1.01552039e-63\n",
      "  3.38883634e-03]\n",
      " [1.00000000e+00 1.46349520e-91 6.88872497e-77 1.01552039e-63\n",
      "  3.38883634e-03]\n",
      " [1.00000000e+00 1.46349520e-91 6.88872497e-77 1.01552039e-63\n",
      "  3.38883634e-03]]\n",
      "Loss: \n",
      " 0.18318683624026177\n",
      "+---------EPOCH 600---------+\n",
      "Input: \n",
      " [[41.  0.  2. ...  0.  0.  1.]\n",
      " [67.  1.  2. ...  1.  0.  2.]\n",
      " [51.  1.  0. ...  0.  1.  1.]\n",
      " ...\n",
      " [53.  0.  1. ...  0.  0.  1.]\n",
      " [65.  0.  2. ...  0.  1.  1.]\n",
      " [51.  0.  2. ...  0.  0.  1.]]\n",
      "Actual Output: \n",
      " [[1. 0. 0. 0. 0.]\n",
      " [0. 1. 0. 0. 0.]\n",
      " [1. 0. 0. 0. 0.]\n",
      " ...\n",
      " [1. 0. 0. 0. 0.]\n",
      " [1. 0. 0. 0. 0.]\n",
      " [1. 0. 0. 0. 0.]]\n",
      "Predicted Output: \n",
      " [[1.00000000e+00 1.46349520e-91 6.88872497e-77 1.01552039e-63\n",
      "  5.74385295e-04]\n",
      " [1.00000000e+00 1.46349520e-91 6.88872497e-77 1.01552039e-63\n",
      "  5.74385295e-04]\n",
      " [1.00000000e+00 1.46349520e-91 6.88872497e-77 1.01552039e-63\n",
      "  5.74385295e-04]\n",
      " ...\n",
      " [1.00000000e+00 1.46349520e-91 6.88872497e-77 1.01552039e-63\n",
      "  5.74385295e-04]\n",
      " [1.00000000e+00 1.46349520e-91 6.88872497e-77 1.01552039e-63\n",
      "  5.74385295e-04]\n",
      " [1.00000000e+00 1.46349520e-91 6.88872497e-77 1.01552039e-63\n",
      "  5.74385295e-04]]\n",
      "Loss: \n",
      " 0.18323998094474614\n",
      "+---------EPOCH 700---------+\n",
      "Input: \n",
      " [[41.  0.  2. ...  0.  0.  1.]\n",
      " [67.  1.  2. ...  1.  0.  2.]\n",
      " [51.  1.  0. ...  0.  1.  1.]\n",
      " ...\n",
      " [53.  0.  1. ...  0.  0.  1.]\n",
      " [65.  0.  2. ...  0.  1.  1.]\n",
      " [51.  0.  2. ...  0.  0.  1.]]\n",
      "Actual Output: \n",
      " [[1. 0. 0. 0. 0.]\n",
      " [0. 1. 0. 0. 0.]\n",
      " [1. 0. 0. 0. 0.]\n",
      " ...\n",
      " [1. 0. 0. 0. 0.]\n",
      " [1. 0. 0. 0. 0.]\n",
      " [1. 0. 0. 0. 0.]]\n",
      "Predicted Output: \n",
      " [[1.00000000e+00 1.46349520e-91 6.88872497e-77 1.01552039e-63\n",
      "  1.68244944e-05]\n",
      " [1.00000000e+00 1.46349520e-91 6.88872497e-77 1.01552039e-63\n",
      "  1.68244944e-05]\n",
      " [1.00000000e+00 1.46349520e-91 6.88872497e-77 1.01552039e-63\n",
      "  1.68244944e-05]\n",
      " ...\n",
      " [1.00000000e+00 1.46349520e-91 6.88872497e-77 1.01552039e-63\n",
      "  1.68244944e-05]\n",
      " [1.00000000e+00 1.46349520e-91 6.88872497e-77 1.01552039e-63\n",
      "  1.68244944e-05]\n",
      " [1.00000000e+00 1.46349520e-91 6.88872497e-77 1.01552039e-63\n",
      "  1.68244944e-05]]\n",
      "Loss: \n",
      " 0.18325090006756448\n",
      "+---------EPOCH 800---------+\n",
      "Input: \n",
      " [[41.  0.  2. ...  0.  0.  1.]\n",
      " [67.  1.  2. ...  1.  0.  2.]\n",
      " [51.  1.  0. ...  0.  1.  1.]\n",
      " ...\n",
      " [53.  0.  1. ...  0.  0.  1.]\n",
      " [65.  0.  2. ...  0.  1.  1.]\n",
      " [51.  0.  2. ...  0.  0.  1.]]\n",
      "Actual Output: \n",
      " [[1. 0. 0. 0. 0.]\n",
      " [0. 1. 0. 0. 0.]\n",
      " [1. 0. 0. 0. 0.]\n",
      " ...\n",
      " [1. 0. 0. 0. 0.]\n",
      " [1. 0. 0. 0. 0.]\n",
      " [1. 0. 0. 0. 0.]]\n",
      "Predicted Output: \n",
      " [[1.00000000e+00 1.46349520e-91 6.88872497e-77 1.01552039e-63\n",
      "  2.06385542e-05]\n",
      " [1.00000000e+00 1.46349520e-91 6.88872497e-77 1.01552039e-63\n",
      "  2.06385542e-05]\n",
      " [1.00000000e+00 1.46349520e-91 6.88872497e-77 1.01552039e-63\n",
      "  2.06385542e-05]\n",
      " ...\n",
      " [1.00000000e+00 1.46349520e-91 6.88872497e-77 1.01552039e-63\n",
      "  2.06385542e-05]\n",
      " [1.00000000e+00 1.46349520e-91 6.88872497e-77 1.01552039e-63\n",
      "  2.06385542e-05]\n",
      " [1.00000000e+00 1.46349520e-91 6.88872497e-77 1.01552039e-63\n",
      "  2.06385542e-05]]\n",
      "Loss: \n",
      " 0.18325082494275433\n",
      "+---------EPOCH 900---------+\n",
      "Input: \n",
      " [[41.  0.  2. ...  0.  0.  1.]\n",
      " [67.  1.  2. ...  1.  0.  2.]\n",
      " [51.  1.  0. ...  0.  1.  1.]\n",
      " ...\n",
      " [53.  0.  1. ...  0.  0.  1.]\n",
      " [65.  0.  2. ...  0.  1.  1.]\n",
      " [51.  0.  2. ...  0.  0.  1.]]\n",
      "Actual Output: \n",
      " [[1. 0. 0. 0. 0.]\n",
      " [0. 1. 0. 0. 0.]\n",
      " [1. 0. 0. 0. 0.]\n",
      " ...\n",
      " [1. 0. 0. 0. 0.]\n",
      " [1. 0. 0. 0. 0.]\n",
      " [1. 0. 0. 0. 0.]]\n",
      "Predicted Output: \n",
      " [[1.00000000e+00 1.46349520e-91 6.88872497e-77 1.01552039e-63\n",
      "  2.66859194e-05]\n",
      " [1.00000000e+00 1.46349520e-91 6.88872497e-77 1.01552039e-63\n",
      "  2.66859194e-05]\n",
      " [1.00000000e+00 1.46349520e-91 6.88872497e-77 1.01552039e-63\n",
      "  2.66859194e-05]\n",
      " ...\n",
      " [1.00000000e+00 1.46349520e-91 6.88872497e-77 1.01552039e-63\n",
      "  2.66859194e-05]\n",
      " [1.00000000e+00 1.46349520e-91 6.88872497e-77 1.01552039e-63\n",
      "  2.66859194e-05]\n",
      " [1.00000000e+00 1.46349520e-91 6.88872497e-77 1.01552039e-63\n",
      "  2.66859194e-05]]\n",
      "Loss: \n",
      " 0.18325070584108646\n",
      "+---------EPOCH 1000---------+\n",
      "Input: \n",
      " [[41.  0.  2. ...  0.  0.  1.]\n",
      " [67.  1.  2. ...  1.  0.  2.]\n",
      " [51.  1.  0. ...  0.  1.  1.]\n",
      " ...\n",
      " [53.  0.  1. ...  0.  0.  1.]\n",
      " [65.  0.  2. ...  0.  1.  1.]\n",
      " [51.  0.  2. ...  0.  0.  1.]]\n",
      "Actual Output: \n",
      " [[1. 0. 0. 0. 0.]\n",
      " [0. 1. 0. 0. 0.]\n",
      " [1. 0. 0. 0. 0.]\n",
      " ...\n",
      " [1. 0. 0. 0. 0.]\n",
      " [1. 0. 0. 0. 0.]\n",
      " [1. 0. 0. 0. 0.]]\n",
      "Predicted Output: \n",
      " [[1.00000000e+00 1.46349520e-91 6.88872497e-77 1.01552039e-63\n",
      "  3.77361037e-05]\n",
      " [1.00000000e+00 1.46349520e-91 6.88872497e-77 1.01552039e-63\n",
      "  3.77361037e-05]\n",
      " [1.00000000e+00 1.46349520e-91 6.88872497e-77 1.01552039e-63\n",
      "  3.77361037e-05]\n",
      " ...\n",
      " [1.00000000e+00 1.46349520e-91 6.88872497e-77 1.01552039e-63\n",
      "  3.77361037e-05]\n",
      " [1.00000000e+00 1.46349520e-91 6.88872497e-77 1.01552039e-63\n",
      "  3.77361037e-05]\n",
      " [1.00000000e+00 1.46349520e-91 6.88872497e-77 1.01552039e-63\n",
      "  3.77361037e-05]]\n",
      "Loss: \n",
      " 0.1832504882483281\n"
     ]
    }
   ],
   "source": [
    "for i in range(1000):\n",
    "    if (i == 0) or ((i+1) % 100 == 0):\n",
    "        print('+' + '---' * 3 + f'EPOCH {i+1}' + '---'*3 + '+')\n",
    "        print('Input: \\n', X_train)\n",
    "        print('Actual Output: \\n', y_train)\n",
    "        print('Predicted Output: \\n', str(NN.forward(X_train)))\n",
    "        print(\"Loss: \\n\", str(np.mean(np.square(y_train - NN.forward(X_train)))))\n",
    "        \n",
    "    NN.train(X_train,y_train) "
   ]
  },
  {
   "cell_type": "code",
   "execution_count": null,
   "metadata": {},
   "outputs": [],
   "source": [
    "# Looks reasonable."
   ]
  },
  {
   "cell_type": "markdown",
   "metadata": {},
   "source": [
    "## 4. Keras MMP <a id=\"Q4\"></a>\n",
    "\n",
    "Implement a Multilayer Perceptron architecture of your choosing using the Keras library. Train your model and report its baseline accuracy. Then hyperparameter tune at least two parameters and report your model's accuracy.\n",
    "Use the Heart Disease Dataset (binary classification)\n",
    "Use an appropriate loss function for a binary classification task\n",
    "Use an appropriate activation function on the final layer of your network.\n",
    "Train your model using verbose output for ease of grading.\n",
    "Use GridSearchCV to hyperparameter tune your model. (for at least two hyperparameters)\n",
    "When hyperparameter tuning, show you work by adding code cells for each new experiment.\n",
    "Report the accuracy for each combination of hyperparameters as you test them so that we can easily see which resulted in the highest accuracy.\n",
    "You must hyperparameter tune at least 5 parameters in order to get a 3 on this section."
   ]
  },
  {
   "cell_type": "code",
   "execution_count": 124,
   "metadata": {},
   "outputs": [],
   "source": [
    "from tensorflow import keras\n",
    "from tensorflow.keras.models import Sequential\n",
    "from tensorflow.keras.layers import Dense\n",
    "from tensorflow.keras.wrappers.scikit_learn import KerasClassifier\n",
    "from sklearn.model_selection import GridSearchCV\n",
    "from sklearn.model_selection import cross_val_score\n",
    "from sklearn.model_selection import KFold, StratifiedKFold\n",
    "from sklearn.preprocessing import StandardScaler\n",
    "from sklearn.pipeline import Pipeline\n"
   ]
  },
  {
   "cell_type": "code",
   "execution_count": 168,
   "metadata": {},
   "outputs": [],
   "source": [
    "def base_model(inputs=13):\n",
    "    model = Sequential()\n",
    "    model.add(Dense(30, activation='relu', input_dim=inputs))\n",
    "    model.add(Dense(10, activation='relu'))\n",
    "    model.add(Dense(5, activation='softmax'))\n",
    "    \n",
    "    model.compile(loss='categorical_crossentropy',\n",
    "                  optimizer='adam',\n",
    "                  metrics=['accuracy'])\n",
    "    return model"
   ]
  },
  {
   "cell_type": "code",
   "execution_count": 169,
   "metadata": {
    "collapsed": false,
    "inputHidden": false,
    "outputHidden": false
   },
   "outputs": [],
   "source": [
    "X = pd.DataFrame(heartdisease['data'])\n",
    "X = X.fillna(value=0.0).values\n",
    "y = heartdisease['target']\n",
    "y = to_categorical(y)\n",
    "X_train, X_val, y_train, y_val = train_test_split(X, y, test_size=0.33, shuffle=True)"
   ]
  },
  {
   "cell_type": "code",
   "execution_count": 157,
   "metadata": {},
   "outputs": [
    {
     "data": {
      "text/plain": [
       "array([ 54. ,   1. ,   1. , 124. , 266. ,   1. ,   0. , 109. ,   1. ,\n",
       "         2.2,   1. ,   1. ,   2. ])"
      ]
     },
     "execution_count": 157,
     "metadata": {},
     "output_type": "execute_result"
    }
   ],
   "source": [
    "X_train[0]"
   ]
  },
  {
   "cell_type": "code",
   "execution_count": 170,
   "metadata": {},
   "outputs": [
    {
     "name": "stdout",
     "output_type": "stream",
     "text": [
      "Train on 203 samples\n",
      "Epoch 1/20\n",
      "203/203 [==============================] - 0s 594us/sample - loss: 12.5151 - accuracy: 0.1133\n",
      "Epoch 2/20\n",
      "203/203 [==============================] - 0s 30us/sample - loss: 11.4018 - accuracy: 0.1823\n",
      "Epoch 3/20\n",
      "203/203 [==============================] - 0s 31us/sample - loss: 11.0922 - accuracy: 0.1478\n",
      "Epoch 4/20\n",
      "203/203 [==============================] - 0s 33us/sample - loss: 10.7278 - accuracy: 0.1133\n",
      "Epoch 5/20\n",
      "203/203 [==============================] - 0s 37us/sample - loss: 10.5296 - accuracy: 0.1330\n",
      "Epoch 6/20\n",
      "203/203 [==============================] - 0s 33us/sample - loss: 10.3746 - accuracy: 0.1626\n",
      "Epoch 7/20\n",
      "203/203 [==============================] - 0s 31us/sample - loss: 10.2205 - accuracy: 0.1379\n",
      "Epoch 8/20\n",
      "203/203 [==============================] - 0s 32us/sample - loss: 10.0424 - accuracy: 0.1724\n",
      "Epoch 9/20\n",
      "203/203 [==============================] - 0s 36us/sample - loss: 9.8871 - accuracy: 0.1773\n",
      "Epoch 10/20\n",
      "203/203 [==============================] - 0s 32us/sample - loss: 9.8102 - accuracy: 0.1823\n",
      "Epoch 11/20\n",
      "203/203 [==============================] - 0s 33us/sample - loss: 9.7523 - accuracy: 0.1724\n",
      "Epoch 12/20\n",
      "203/203 [==============================] - 0s 35us/sample - loss: 9.7024 - accuracy: 0.1626\n",
      "Epoch 13/20\n",
      "203/203 [==============================] - 0s 29us/sample - loss: 9.6320 - accuracy: 0.2069\n",
      "Epoch 14/20\n",
      "203/203 [==============================] - 0s 33us/sample - loss: 9.6161 - accuracy: 0.1921\n",
      "Epoch 15/20\n",
      "203/203 [==============================] - 0s 32us/sample - loss: 9.5727 - accuracy: 0.1970\n",
      "Epoch 16/20\n",
      "203/203 [==============================] - 0s 31us/sample - loss: 9.5583 - accuracy: 0.1823\n",
      "Epoch 17/20\n",
      "203/203 [==============================] - 0s 40us/sample - loss: 9.5623 - accuracy: 0.1872\n",
      "Epoch 18/20\n",
      "203/203 [==============================] - 0s 30us/sample - loss: 9.5498 - accuracy: 0.1823\n",
      "Epoch 19/20\n",
      "203/203 [==============================] - 0s 29us/sample - loss: 9.5503 - accuracy: 0.1675\n",
      "Epoch 20/20\n",
      "203/203 [==============================] - 0s 28us/sample - loss: 9.5220 - accuracy: 0.1675\n",
      "100/100 [==============================] - 0s 312us/sample - loss: 9.0580 - accuracy: 0.2000\n",
      "accuracy: 20.000000298023224\n"
     ]
    }
   ],
   "source": [
    "model = base_model()\n",
    "model.fit(X_train, y_train, batch_size=32, epochs=20)\n",
    "scores = model.evaluate(X_val, y_val)\n",
    "print(f'{model.metrics_names[1]}: {scores[1]*100}')"
   ]
  },
  {
   "cell_type": "code",
   "execution_count": 171,
   "metadata": {},
   "outputs": [],
   "source": [
    "# estimators = []\n",
    "# estimators.append(('standardize', StandardScaler()))\n",
    "model = KerasClassifier(build_fn=base_model, verbose=0)\n",
    "# pipeline = Pipeline(estimators)\n",
    "param_grid = {'batch_size': [10, 20, 40, 60, 80, 120],\n",
    "          'epochs': [20]}\n",
    "\n",
    "grid = GridSearchCV(estimator=model, param_grid=param_grid, n_jobs=1)\n",
    "grid_result = grid.fit(X, y)\n",
    "# kfold = StratifiedKFold(n_splits=5, shuffle=True, random_state=42)\n",
    "# cvscores = []\n",
    "# for train, test in kfold.split(X, y):\n",
    "#     model = base_model(inputs=13)\n",
    "#     model.fit(X[train], y[train], epochs=150, batch_size=20, verbose=0)\n",
    "#     scores = model.evaluate(X[test], y[test], verbose=0)\n",
    "#     print(f'{model.metrics_names[1]}: {(scores[1]*100):.2f}%')\n",
    "#     cvscores.append(scores[1]*100)\n",
    "\n",
    "# print(f'{np.mean(cvscores):.2f}% +/- {np.std(cvscores):.2f}%')"
   ]
  },
  {
   "cell_type": "code",
   "execution_count": 172,
   "metadata": {},
   "outputs": [
    {
     "name": "stdout",
     "output_type": "stream",
     "text": [
      "Best: 0.41584159930547077 using {'batch_size': 10, 'epochs': 20}\n",
      "Means: 0.41584159930547077, Stdev: 0.1610750489913242 with: {'batch_size': 10, 'epochs': 20}\n",
      "Means: 0.2706270714600881, Stdev: 0.18333920990084213 with: {'batch_size': 20, 'epochs': 20}\n",
      "Means: 0.277227724591891, Stdev: 0.21142729609902622 with: {'batch_size': 40, 'epochs': 20}\n",
      "Means: 0.2805280536413193, Stdev: 0.2096164336235203 with: {'batch_size': 60, 'epochs': 20}\n",
      "Means: 0.26072607934474945, Stdev: 0.18190778532074292 with: {'batch_size': 80, 'epochs': 20}\n",
      "Means: 0.3300330173224211, Stdev: 0.21332492908764966 with: {'batch_size': 120, 'epochs': 20}\n"
     ]
    }
   ],
   "source": [
    "print(f\"Best: {grid_result.best_score_} using {grid_result.best_params_}\")\n",
    "means = grid_result.cv_results_['mean_test_score']\n",
    "stds = grid_result.cv_results_['std_test_score']\n",
    "params = grid_result.cv_results_['params']\n",
    "for mean, stdev, param in zip(means, stds, params):\n",
    "    print(f\"Means: {mean}, Stdev: {stdev} with: {param}\") "
   ]
  },
  {
   "cell_type": "code",
   "execution_count": 173,
   "metadata": {},
   "outputs": [
    {
     "name": "stdout",
     "output_type": "stream",
     "text": [
      "Best: 0.5412541429201762 using {'batch_size': 10, 'epochs': 60}\n",
      "Means: 0.13861386477947235, Stdev: 0.037046113647242716 with: {'batch_size': 10, 'epochs': 20}\n",
      "Means: 0.257425744086504, Stdev: 0.22330336981061608 with: {'batch_size': 10, 'epochs': 40}\n",
      "Means: 0.5412541429201762, Stdev: 0.02333685050997706 with: {'batch_size': 10, 'epochs': 60}\n",
      "Means: 0.30363036692142487, Stdev: 0.19153291541841347 with: {'batch_size': 10, 'epochs': 80}\n",
      "Means: 0.41584159433841705, Stdev: 0.18363601775050853 with: {'batch_size': 10, 'epochs': 100}\n"
     ]
    }
   ],
   "source": [
    "param_grid = {'batch_size': [10],\n",
    "          'epochs': [20, 40, 60, 80, 100]}\n",
    "\n",
    "grid = GridSearchCV(estimator=model, param_grid=param_grid, n_jobs=1)\n",
    "grid_result = grid.fit(X, y)\n",
    "print(f\"Best: {grid_result.best_score_} using {grid_result.best_params_}\")\n",
    "means = grid_result.cv_results_['mean_test_score']\n",
    "stds = grid_result.cv_results_['std_test_score']\n",
    "params = grid_result.cv_results_['params']\n",
    "for mean, stdev, param in zip(means, stds, params):\n",
    "    print(f\"Means: {mean}, Stdev: {stdev} with: {param}\") "
   ]
  },
  {
   "cell_type": "code",
   "execution_count": null,
   "metadata": {},
   "outputs": [],
   "source": []
  }
 ],
 "metadata": {
  "kernel_info": {
   "name": "python3"
  },
  "kernelspec": {
   "display_name": "Python 3",
   "language": "python",
   "name": "python3"
  },
  "language_info": {
   "codemirror_mode": {
    "name": "ipython",
    "version": 3
   },
   "file_extension": ".py",
   "mimetype": "text/x-python",
   "name": "python",
   "nbconvert_exporter": "python",
   "pygments_lexer": "ipython3",
   "version": "3.7.3"
  },
  "nteract": {
   "version": "0.14.5"
  }
 },
 "nbformat": 4,
 "nbformat_minor": 2
}
