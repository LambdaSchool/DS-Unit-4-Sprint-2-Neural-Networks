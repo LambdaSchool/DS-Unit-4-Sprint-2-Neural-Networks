{
  "nbformat": 4,
  "nbformat_minor": 0,
  "metadata": {
    "kernelspec": {
      "display_name": "U4-S2-NNF-DS10",
      "language": "python",
      "name": "u4-s2-nnf-ds10"
    },
    "language_info": {
      "codemirror_mode": {
        "name": "ipython",
        "version": 3
      },
      "file_extension": ".py",
      "mimetype": "text/x-python",
      "name": "python",
      "nbconvert_exporter": "python",
      "pygments_lexer": "ipython3",
      "version": "3.7.6"
    },
    "colab": {
      "name": "LS_DS_Unit_4_Sprint_Challenge_2.ipynb",
      "provenance": [],
      "collapsed_sections": []
    }
  },
  "cells": [
    {
      "cell_type": "markdown",
      "metadata": {
        "id": "9xom50Ym20E-",
        "colab_type": "text"
      },
      "source": [
        "<img align=\"left\" src=\"https://lever-client-logos.s3.amazonaws.com/864372b1-534c-480e-acd5-9711f850815c-1524247202159.png\" width=200>\n",
        "<br></br>\n",
        "<br></br>\n",
        "\n",
        "## *Data Science Unit 4 Sprint 2*\n",
        "\n",
        "# Sprint Challenge - Neural Network Foundations\n",
        "\n",
        "Table of Problems\n",
        "\n",
        "1. [Defining Neural Networks](#Q1)\n",
        "2. [Simple Perceptron](#Q2)\n",
        "    - Perceptron\n",
        "    - Multilayer Perceptron\n",
        "    - Analyze and Compare\n",
        "4. [Keras MMP](#Q3)"
      ]
    },
    {
      "cell_type": "code",
      "metadata": {
        "id": "AXnZLrWG4VYk",
        "colab_type": "code",
        "colab": {}
      },
      "source": [
        "# imports\n",
        "import pandas as pd\n",
        "import numpy as np\n",
        "\n",
        "from sklearn.preprocessing import StandardScaler\n",
        "from tensorflow.keras.models import Sequential\n",
        "from tensorflow.keras.layers import Dense, Activation, Flatten\n",
        "from sklearn.model_selection import GridSearchCV\n",
        "from tensorflow.keras.wrappers.scikit_learn import KerasClassifier"
      ],
      "execution_count": 0,
      "outputs": []
    },
    {
      "cell_type": "markdown",
      "metadata": {
        "id": "mXf0YXbg20E_",
        "colab_type": "text"
      },
      "source": [
        "<a id=\"Q1\"></a>\n",
        "## 1. Defining Neural Networks \n",
        "\n",
        "Write *your own* definitions for the following terms:\n",
        "\n",
        "- **Neuron:**a neuron is a node or singal point in a Neural Network that recieves inputs and passes a signal to other nodes in the network\n",
        "\n",
        "- **Input Layer:** The input layer is the layer that recieves input from our dataset. This is the only visible layer that is exposed to our data or that interacts directly with our data. It's standard to have an input layer for each feature in our dataset\n",
        "\n",
        "- **Hidden Layer:** Hidden layers are nodes that are only accessed via the input layer. These nodes perform various functions that we cannot see. The amount of hidden nodes in a network can vary depening on the type of network being used\n",
        "\n",
        "- **Output Layer:**the output layer is the final layer that provides the ouptu of a vector of values. The Output layer is modified by an activation function which transforms the Network output into a format that makes sense for the context of the problem (i.e. accuracy, mae)\n",
        "\n",
        "- **Activation Function:** an activation function determines whether a neuron should be activated typically by calculating the weighted sum and adding bias. If a node/neuron's input is not relevant to the model prediction, the activation funciton will not use that node/neuron. "
      ]
    },
    {
      "cell_type": "markdown",
      "metadata": {
        "id": "2_qmc9iD20FA",
        "colab_type": "text"
      },
      "source": [
        "Explain how back propagation works as if you were explaining it to a five year-old. Use your own words, but feel free to reference external materials for this question. "
      ]
    },
    {
      "cell_type": "markdown",
      "metadata": {
        "id": "_aYiVgp93noS",
        "colab_type": "text"
      },
      "source": [
        "#### **Backpropagation ELI5** \n",
        "Alright Jimmy, listen up. Backpropagation is very similar to a game of telephone(or whatever you call that game these days). \n",
        "When you play a game of telephone, it's hard to know who's lying and who's telling the truth. Image you played a game you could choose to get the \"telephone word\" from Sarah or Jack. Now the first time you'd probably just pick Jack becuase he's your friend. \n",
        "\n",
        "But what if you found out that Jack lied to you about what the Telephone word was and that Sarah actually told the truth. Well the next time you played that game you'd probably ask Sarah instead of Jack becuase her information is more reliable/right. \n",
        "\n",
        "Now imagine if you played this game with 100 of your friends(all of kindergarden)? That's a lot of people!! So Backpropagation allows you to ask all your friends what the Telephone word is and then you can play the game again and pick your friends that provided the best infromation/answer. \n",
        "\n",
        "Now, your chances of winning the game of Telephone are much higher becuase your listening to people who are better at telling you the correct word. "
      ]
    },
    {
      "cell_type": "markdown",
      "metadata": {
        "id": "jAnl3Tyl20FE",
        "colab_type": "text"
      },
      "source": [
        "Remember our Simple Perceptron Class from Monday. In a simple prediction describe the process of making a prediction. How do you go from inputs to predicted output."
      ]
    },
    {
      "cell_type": "markdown",
      "metadata": {
        "id": "UdrXwy6ZKpAl",
        "colab_type": "text"
      },
      "source": [
        "**Simple Perceptron**\n",
        "\n",
        "A perceptron acts as a single node in a Nueral Network. At the most simplistic level, a perceptron takes an input and returns a given output(signal). More specifically, the perceptron takes the input values and multiplies each input value by a weight. Those weights are then summed and that summed product is passed through an activation function. If the node is determined to be valuable/provide a good signal then the nueron/node will fire and return the final output. "
      ]
    },
    {
      "cell_type": "markdown",
      "metadata": {
        "id": "uWvV72BR20FH",
        "colab_type": "text"
      },
      "source": [
        "<a id=\"Q2\"></a>\n",
        "## 2. Simple Perceptron\n",
        "\n",
        "In this question, you will build two neural networks using Tensorflow Keras. After you build these two models, compare the results of the model."
      ]
    },
    {
      "cell_type": "code",
      "metadata": {
        "id": "cQr-MDwn20FH",
        "colab_type": "code",
        "colab": {}
      },
      "source": [
        "\"\"\"\n",
        "Our Dataset\n",
        "\"\"\"\n",
        "import numpy as np\n",
        "\n",
        "xx, yy = np.meshgrid(np.linspace(-3, 3, 50),\n",
        "                     np.linspace(-3, 3, 50))\n",
        "rng = np.random.RandomState(0)\n",
        "\n",
        "\"Use this X & y in the following 2 models\"\n",
        "X = rng.randn(300, 2)\n",
        "y = np.array(np.logical_xor(X[:, 0] > 0, X[:, 1] > 0), \n",
        "             dtype=int)"
      ],
      "execution_count": 0,
      "outputs": []
    },
    {
      "cell_type": "code",
      "metadata": {
        "id": "xKDF8PlB7WcX",
        "colab_type": "code",
        "colab": {
          "base_uri": "https://localhost:8080/",
          "height": 51
        },
        "outputId": "29743838-896f-441c-e6f7-67993d6be17c"
      },
      "source": [
        "print(X.shape)\n",
        "print(y.shape)"
      ],
      "execution_count": 97,
      "outputs": [
        {
          "output_type": "stream",
          "text": [
            "(300, 2)\n",
            "(300,)\n"
          ],
          "name": "stdout"
        }
      ]
    },
    {
      "cell_type": "markdown",
      "metadata": {
        "id": "RbRZ6zyC20FJ",
        "colab_type": "text"
      },
      "source": [
        "### Simple Perceptron\n",
        "Construct a simple perceptron using Keras. You model should have 1 dense layer with a single neuron and a sigmoid activation function. Your model should be called `model1` and make sure to save the results of your fit statement to a variable called `h1`. "
      ]
    },
    {
      "cell_type": "code",
      "metadata": {
        "id": "Z9xOIBb720FK",
        "colab_type": "code",
        "colab": {
          "base_uri": "https://localhost:8080/",
          "height": 867
        },
        "outputId": "7708b343-0f0e-413a-8044-f7fadef86b1b"
      },
      "source": [
        "model1 = Sequential([\n",
        "        Dense(1, input_dim=2, activation='sigmoid'),\n",
        "        Dense(1, activation='sigmoid')\n",
        "])\n",
        "\n",
        "model1.compile(optimizer='adam', loss='mean_squared_error', metrics=['accuracy'])\n",
        "\n",
        "h1 = model1.fit(X, y, epochs=25)"
      ],
      "execution_count": 98,
      "outputs": [
        {
          "output_type": "stream",
          "text": [
            "Epoch 1/25\n",
            "10/10 [==============================] - 0s 1ms/step - loss: 0.2533 - accuracy: 0.5267\n",
            "Epoch 2/25\n",
            "10/10 [==============================] - 0s 1ms/step - loss: 0.2531 - accuracy: 0.5267\n",
            "Epoch 3/25\n",
            "10/10 [==============================] - 0s 1ms/step - loss: 0.2529 - accuracy: 0.5267\n",
            "Epoch 4/25\n",
            "10/10 [==============================] - 0s 1ms/step - loss: 0.2528 - accuracy: 0.5267\n",
            "Epoch 5/25\n",
            "10/10 [==============================] - 0s 1ms/step - loss: 0.2526 - accuracy: 0.5267\n",
            "Epoch 6/25\n",
            "10/10 [==============================] - 0s 1ms/step - loss: 0.2525 - accuracy: 0.5267\n",
            "Epoch 7/25\n",
            "10/10 [==============================] - 0s 1ms/step - loss: 0.2524 - accuracy: 0.5267\n",
            "Epoch 8/25\n",
            "10/10 [==============================] - 0s 1ms/step - loss: 0.2522 - accuracy: 0.5267\n",
            "Epoch 9/25\n",
            "10/10 [==============================] - 0s 1ms/step - loss: 0.2520 - accuracy: 0.5267\n",
            "Epoch 10/25\n",
            "10/10 [==============================] - 0s 1ms/step - loss: 0.2519 - accuracy: 0.5267\n",
            "Epoch 11/25\n",
            "10/10 [==============================] - 0s 1ms/step - loss: 0.2518 - accuracy: 0.5267\n",
            "Epoch 12/25\n",
            "10/10 [==============================] - 0s 1ms/step - loss: 0.2517 - accuracy: 0.5267\n",
            "Epoch 13/25\n",
            "10/10 [==============================] - 0s 1ms/step - loss: 0.2516 - accuracy: 0.5267\n",
            "Epoch 14/25\n",
            "10/10 [==============================] - 0s 1ms/step - loss: 0.2515 - accuracy: 0.5267\n",
            "Epoch 15/25\n",
            "10/10 [==============================] - 0s 2ms/step - loss: 0.2514 - accuracy: 0.5267\n",
            "Epoch 16/25\n",
            "10/10 [==============================] - 0s 1ms/step - loss: 0.2513 - accuracy: 0.5267\n",
            "Epoch 17/25\n",
            "10/10 [==============================] - 0s 1ms/step - loss: 0.2513 - accuracy: 0.5267\n",
            "Epoch 18/25\n",
            "10/10 [==============================] - 0s 1ms/step - loss: 0.2512 - accuracy: 0.5267\n",
            "Epoch 19/25\n",
            "10/10 [==============================] - 0s 1ms/step - loss: 0.2511 - accuracy: 0.5267\n",
            "Epoch 20/25\n",
            "10/10 [==============================] - 0s 1ms/step - loss: 0.2510 - accuracy: 0.5267\n",
            "Epoch 21/25\n",
            "10/10 [==============================] - 0s 1ms/step - loss: 0.2510 - accuracy: 0.5267\n",
            "Epoch 22/25\n",
            "10/10 [==============================] - 0s 1ms/step - loss: 0.2509 - accuracy: 0.5267\n",
            "Epoch 23/25\n",
            "10/10 [==============================] - 0s 1ms/step - loss: 0.2508 - accuracy: 0.5267\n",
            "Epoch 24/25\n",
            "10/10 [==============================] - 0s 1ms/step - loss: 0.2507 - accuracy: 0.5267\n",
            "Epoch 25/25\n",
            "10/10 [==============================] - 0s 1ms/step - loss: 0.2507 - accuracy: 0.5267\n"
          ],
          "name": "stdout"
        }
      ]
    },
    {
      "cell_type": "markdown",
      "metadata": {
        "id": "PuDiuxRC8v_X",
        "colab_type": "text"
      },
      "source": [
        "## Model 1 Accuracy = 58.33%"
      ]
    },
    {
      "cell_type": "markdown",
      "metadata": {
        "id": "JXTKJmPN20FM",
        "colab_type": "text"
      },
      "source": [
        "### Multi-Layer Perceptron\n",
        "Now construct a multi-layer perceptron using. Here are some architecture suggestions: \n",
        "- 2 Hidden Layers\n",
        "- 5-32 Neurons in the Hidden Layers\n",
        "- Your pick of activation function and optimizer\n",
        "- Incorporate the Callback function below into your model\n",
        "\n",
        "Your model should be called `model2` and make sure to save the results of your fit statement to a variable called `h2`. "
      ]
    },
    {
      "cell_type": "code",
      "metadata": {
        "id": "gnJs8YJI20FM",
        "colab_type": "code",
        "colab": {}
      },
      "source": [
        "import tensorflow as tf\n",
        "\n",
        "class myCallback(tf.keras.callbacks.Callback): \n",
        "    def on_epoch_end(self, epoch, logs={}): \n",
        "        if(logs.get('accuracy') > .99999):   \n",
        "            self.model.stop_training = True"
      ],
      "execution_count": 0,
      "outputs": []
    },
    {
      "cell_type": "code",
      "metadata": {
        "id": "xeMsLXnW20FP",
        "colab_type": "code",
        "colab": {
          "base_uri": "https://localhost:8080/",
          "height": 867
        },
        "outputId": "b57ef4ce-75e0-4fec-add9-2f95cca77b1a"
      },
      "source": [
        "# create model and add layers\n",
        "model2 = Sequential([\n",
        "        Flatten(),\n",
        "        Dense(10, input_dim=2, activation ='relu'),\n",
        "        Dense(20, activation='linear'),\n",
        "        Dense(1, activation='linear'),\n",
        "])\n",
        "\n",
        "# compile and fit\n",
        "model2.compile(optimizer='adam', loss='mean_squared_error', metrics =['accuracy'])\n",
        "h2 = model2.fit(X, y, \n",
        "                epochs=25,\n",
        "                callbacks=[myCallback()]\n",
        "                )"
      ],
      "execution_count": 100,
      "outputs": [
        {
          "output_type": "stream",
          "text": [
            "Epoch 1/25\n",
            "10/10 [==============================] - 0s 2ms/step - loss: 0.3457 - accuracy: 0.5967\n",
            "Epoch 2/25\n",
            "10/10 [==============================] - 0s 1ms/step - loss: 0.2735 - accuracy: 0.6033\n",
            "Epoch 3/25\n",
            "10/10 [==============================] - 0s 1ms/step - loss: 0.2285 - accuracy: 0.6267\n",
            "Epoch 4/25\n",
            "10/10 [==============================] - 0s 1ms/step - loss: 0.1965 - accuracy: 0.7267\n",
            "Epoch 5/25\n",
            "10/10 [==============================] - 0s 1ms/step - loss: 0.1755 - accuracy: 0.7733\n",
            "Epoch 6/25\n",
            "10/10 [==============================] - 0s 1ms/step - loss: 0.1612 - accuracy: 0.7933\n",
            "Epoch 7/25\n",
            "10/10 [==============================] - 0s 1ms/step - loss: 0.1473 - accuracy: 0.8133\n",
            "Epoch 8/25\n",
            "10/10 [==============================] - 0s 1ms/step - loss: 0.1364 - accuracy: 0.8400\n",
            "Epoch 9/25\n",
            "10/10 [==============================] - 0s 1ms/step - loss: 0.1277 - accuracy: 0.8667\n",
            "Epoch 10/25\n",
            "10/10 [==============================] - 0s 2ms/step - loss: 0.1206 - accuracy: 0.8667\n",
            "Epoch 11/25\n",
            "10/10 [==============================] - 0s 1ms/step - loss: 0.1148 - accuracy: 0.8700\n",
            "Epoch 12/25\n",
            "10/10 [==============================] - 0s 2ms/step - loss: 0.1099 - accuracy: 0.8800\n",
            "Epoch 13/25\n",
            "10/10 [==============================] - 0s 2ms/step - loss: 0.1060 - accuracy: 0.8833\n",
            "Epoch 14/25\n",
            "10/10 [==============================] - 0s 2ms/step - loss: 0.1034 - accuracy: 0.8867\n",
            "Epoch 15/25\n",
            "10/10 [==============================] - 0s 1ms/step - loss: 0.1007 - accuracy: 0.8900\n",
            "Epoch 16/25\n",
            "10/10 [==============================] - 0s 1ms/step - loss: 0.0987 - accuracy: 0.8933\n",
            "Epoch 17/25\n",
            "10/10 [==============================] - 0s 2ms/step - loss: 0.0972 - accuracy: 0.8933\n",
            "Epoch 18/25\n",
            "10/10 [==============================] - 0s 1ms/step - loss: 0.0956 - accuracy: 0.8967\n",
            "Epoch 19/25\n",
            "10/10 [==============================] - 0s 1ms/step - loss: 0.0940 - accuracy: 0.9067\n",
            "Epoch 20/25\n",
            "10/10 [==============================] - 0s 1ms/step - loss: 0.0933 - accuracy: 0.9000\n",
            "Epoch 21/25\n",
            "10/10 [==============================] - 0s 2ms/step - loss: 0.0923 - accuracy: 0.9000\n",
            "Epoch 22/25\n",
            "10/10 [==============================] - 0s 2ms/step - loss: 0.0908 - accuracy: 0.9333\n",
            "Epoch 23/25\n",
            "10/10 [==============================] - 0s 1ms/step - loss: 0.0902 - accuracy: 0.9333\n",
            "Epoch 24/25\n",
            "10/10 [==============================] - 0s 1ms/step - loss: 0.0893 - accuracy: 0.9367\n",
            "Epoch 25/25\n",
            "10/10 [==============================] - 0s 1ms/step - loss: 0.0881 - accuracy: 0.9500\n"
          ],
          "name": "stdout"
        }
      ]
    },
    {
      "cell_type": "markdown",
      "metadata": {
        "id": "Rr81PTtF20FR",
        "colab_type": "text"
      },
      "source": [
        "### Analyze and Compare\n",
        "\n",
        "**Before you Start**: You will need to install an additional library for this next segment. Install the package `mlxtend` into the environment you are using for the sprint challenge.\n",
        "\n",
        "\n",
        "The cells below generate decision boundary plots of your models (`model1` & `model2`). Review the plots."
      ]
    },
    {
      "cell_type": "code",
      "metadata": {
        "id": "EYjBRDBj20FS",
        "colab_type": "code",
        "colab": {
          "base_uri": "https://localhost:8080/",
          "height": 444
        },
        "outputId": "f77c8493-33b2-4728-b2b9-b250012b29ed"
      },
      "source": [
        "# Do Not change anything in this cell\n",
        "\n",
        "import matplotlib.pyplot as plt\n",
        "from mlxtend.plotting import plot_decision_regions\n",
        "\n",
        "h = .02  # step size in the mesh\n",
        "\n",
        "# create a mesh to plot in\n",
        "x_min, x_max = X[:, 0].min() - .2, X[:, 0].max() + .2\n",
        "y_min, y_max = X[:, 1].min() - .2, X[:, 1].max() + .2\n",
        "xx, yy = np.meshgrid(np.arange(x_min, x_max, h),\n",
        "                     np.arange(y_min, y_max, h))\n",
        "\n",
        "fig = plt.figure(figsize=(12,6))\n",
        "\n",
        "\n",
        "for clf, hist, name, grd in zip([model1,model2], [h1, h2],['Perceptron', 'Multi-Layer Perceptron'],[1,2]):\n",
        "\n",
        "    ax = plt.subplot(1,2, grd)\n",
        "    fig = plot_decision_regions(X=X, y=y, clf=clf, legend=2)\n",
        "    title = f\"{name} with {hist.history['accuracy'][-1]:,.2f} Accuracy\"\n",
        "    plt.title(title)\n",
        "\n",
        "plt.show()"
      ],
      "execution_count": 101,
      "outputs": [
        {
          "output_type": "stream",
          "text": [
            "/usr/local/lib/python3.6/dist-packages/mlxtend/plotting/decision_regions.py:244: MatplotlibDeprecationWarning: Passing unsupported keyword arguments to axis() will raise a TypeError in 3.3.\n",
            "  ax.axis(xmin=xx.min(), xmax=xx.max(), y_min=yy.min(), y_max=yy.max())\n"
          ],
          "name": "stderr"
        },
        {
          "output_type": "display_data",
          "data": {
            "image/png": "[encoded data removed]",
            "text/plain": [
              "<Figure size 864x432 with 2 Axes>"
            ]
          },
          "metadata": {
            "tags": [],
            "needs_background": "light"
          }
        }
      ]
    },
    {
      "cell_type": "markdown",
      "metadata": {
        "id": "0fa04bZz20FU",
        "colab_type": "text"
      },
      "source": [
        "Why does the Perceptron (`model1`) only achieve ~70% accuracy? What is the architectural property of the Multi-Layer Perceptron that allows it more accurately learn the relationship between X and y? \n",
        "\n",
        "Why might this property be useful in more complex data such as images?"
      ]
    },
    {
      "cell_type": "markdown",
      "metadata": {
        "id": "X5VaKK1HBiOt",
        "colab_type": "text"
      },
      "source": [
        "### **Single vs Mulit-layer Perceptron**\n",
        "Since our multi-layer perceptron contains more hidden layers it can learn functions that are non-linear which helps reduce error and increase model accuracy. Since the single perceptron is only looking for a linear relationship, it is limited in the conclusions/predictions that the model can make. \n",
        "\n",
        "In each nueral network, nodes provide a signal and since there are more nodes in the Multi-layer perceptron, they can be definition provide more signals, some of which will be more helpful for evaluating a certian problem. \n",
        "\n",
        "Images are comprosed of various hex colors which are all various shades of Red, Green, or Blue making tens of millions of combinations. A standard image could have a complex array of colors which then make up people, places, or objects from those colors. This accounts for a vast assortment of possibilities. Therefore, for a computer to to dycipher images into an actual actionable solution (e.g. this is an apple) requires non-linear prediction capabilities. \n",
        "\n",
        "Without the ability to evaluate strong nonlinearities, neural networks functionality would be very limited. "
      ]
    },
    {
      "cell_type": "markdown",
      "metadata": {
        "id": "KD2M142X20FX",
        "colab_type": "text"
      },
      "source": [
        "## 3. Keras MMP <a id=\"Q3\"></a>\n",
        "\n",
        "Implement a Multilayer Perceptron architecture of your choosing using the Keras library. Train your model and report its baseline accuracy. Then hyperparameter tune at least two parameters and report your model's accuracy.\n",
        "Use the Heart Disease Dataset (binary classification)\n",
        "Use an appropriate loss function for a binary classification task\n",
        "Use an appropriate activation function on the final layer of your network.\n",
        "Train your model using verbose output for ease of grading.\n",
        "Use GridSearchCV or RandomSearchCV to hyperparameter tune your model. (for at least two hyperparameters)\n",
        "When hyperparameter tuning, show you work by adding code cells for each new experiment.\n",
        "Report the accuracy for each combination of hyperparameters as you test them so that we can easily see which resulted in the highest accuracy.\n",
        "You must hyperparameter tune at least 3 parameters in order to get a 3 on this section."
      ]
    },
    {
      "cell_type": "code",
      "metadata": {
        "inputHidden": false,
        "jupyter": {
          "outputs_hidden": false
        },
        "outputHidden": false,
        "id": "36qVjjg320FX",
        "colab_type": "code",
        "colab": {
          "base_uri": "https://localhost:8080/",
          "height": 221
        },
        "outputId": "fb28c139-8f63-45c6-bccf-877ce78d3807"
      },
      "source": [
        "import pandas as pd\n",
        "from sklearn.preprocessing import StandardScaler\n",
        "\n",
        "df = pd.read_csv('https://raw.githubusercontent.com/ryanleeallred/datasets/master/heart.csv')\n",
        "df = df.sample(frac=1)\n",
        "print(df.shape)\n",
        "df.head()"
      ],
      "execution_count": 102,
      "outputs": [
        {
          "output_type": "stream",
          "text": [
            "(303, 14)\n"
          ],
          "name": "stdout"
        },
        {
          "output_type": "execute_result",
          "data": {
            "text/html": [
              "<div>\n",
              "<style scoped>\n",
              "    .dataframe tbody tr th:only-of-type {\n",
              "        vertical-align: middle;\n",
              "    }\n",
              "\n",
              "    .dataframe tbody tr th {\n",
              "        vertical-align: top;\n",
              "    }\n",
              "\n",
              "    .dataframe thead th {\n",
              "        text-align: right;\n",
              "    }\n",
              "</style>\n",
              "<table border=\"1\" class=\"dataframe\">\n",
              "  <thead>\n",
              "    <tr style=\"text-align: right;\">\n",
              "      <th></th>\n",
              "      <th>age</th>\n",
              "      <th>sex</th>\n",
              "      <th>cp</th>\n",
              "      <th>trestbps</th>\n",
              "      <th>chol</th>\n",
              "      <th>fbs</th>\n",
              "      <th>restecg</th>\n",
              "      <th>thalach</th>\n",
              "      <th>exang</th>\n",
              "      <th>oldpeak</th>\n",
              "      <th>slope</th>\n",
              "      <th>ca</th>\n",
              "      <th>thal</th>\n",
              "      <th>target</th>\n",
              "    </tr>\n",
              "  </thead>\n",
              "  <tbody>\n",
              "    <tr>\n",
              "      <th>19</th>\n",
              "      <td>69</td>\n",
              "      <td>0</td>\n",
              "      <td>3</td>\n",
              "      <td>140</td>\n",
              "      <td>239</td>\n",
              "      <td>0</td>\n",
              "      <td>1</td>\n",
              "      <td>151</td>\n",
              "      <td>0</td>\n",
              "      <td>1.8</td>\n",
              "      <td>2</td>\n",
              "      <td>2</td>\n",
              "      <td>2</td>\n",
              "      <td>1</td>\n",
              "    </tr>\n",
              "    <tr>\n",
              "      <th>107</th>\n",
              "      <td>45</td>\n",
              "      <td>0</td>\n",
              "      <td>0</td>\n",
              "      <td>138</td>\n",
              "      <td>236</td>\n",
              "      <td>0</td>\n",
              "      <td>0</td>\n",
              "      <td>152</td>\n",
              "      <td>1</td>\n",
              "      <td>0.2</td>\n",
              "      <td>1</td>\n",
              "      <td>0</td>\n",
              "      <td>2</td>\n",
              "      <td>1</td>\n",
              "    </tr>\n",
              "    <tr>\n",
              "      <th>52</th>\n",
              "      <td>62</td>\n",
              "      <td>1</td>\n",
              "      <td>2</td>\n",
              "      <td>130</td>\n",
              "      <td>231</td>\n",
              "      <td>0</td>\n",
              "      <td>1</td>\n",
              "      <td>146</td>\n",
              "      <td>0</td>\n",
              "      <td>1.8</td>\n",
              "      <td>1</td>\n",
              "      <td>3</td>\n",
              "      <td>3</td>\n",
              "      <td>1</td>\n",
              "    </tr>\n",
              "    <tr>\n",
              "      <th>236</th>\n",
              "      <td>58</td>\n",
              "      <td>1</td>\n",
              "      <td>0</td>\n",
              "      <td>125</td>\n",
              "      <td>300</td>\n",
              "      <td>0</td>\n",
              "      <td>0</td>\n",
              "      <td>171</td>\n",
              "      <td>0</td>\n",
              "      <td>0.0</td>\n",
              "      <td>2</td>\n",
              "      <td>2</td>\n",
              "      <td>3</td>\n",
              "      <td>0</td>\n",
              "    </tr>\n",
              "    <tr>\n",
              "      <th>229</th>\n",
              "      <td>64</td>\n",
              "      <td>1</td>\n",
              "      <td>2</td>\n",
              "      <td>125</td>\n",
              "      <td>309</td>\n",
              "      <td>0</td>\n",
              "      <td>1</td>\n",
              "      <td>131</td>\n",
              "      <td>1</td>\n",
              "      <td>1.8</td>\n",
              "      <td>1</td>\n",
              "      <td>0</td>\n",
              "      <td>3</td>\n",
              "      <td>0</td>\n",
              "    </tr>\n",
              "  </tbody>\n",
              "</table>\n",
              "</div>"
            ],
            "text/plain": [
              "     age  sex  cp  trestbps  chol  fbs  ...  exang  oldpeak  slope  ca  thal  target\n",
              "19    69    0   3       140   239    0  ...      0      1.8      2   2     2       1\n",
              "107   45    0   0       138   236    0  ...      1      0.2      1   0     2       1\n",
              "52    62    1   2       130   231    0  ...      0      1.8      1   3     3       1\n",
              "236   58    1   0       125   300    0  ...      0      0.0      2   2     3       0\n",
              "229   64    1   2       125   309    0  ...      1      1.8      1   0     3       0\n",
              "\n",
              "[5 rows x 14 columns]"
            ]
          },
          "metadata": {
            "tags": []
          },
          "execution_count": 102
        }
      ]
    },
    {
      "cell_type": "code",
      "metadata": {
        "id": "xh4OITdQ20Fa",
        "colab_type": "code",
        "colab": {
          "base_uri": "https://localhost:8080/",
          "height": 34
        },
        "outputId": "978fcd20-b9a3-4b46-9c18-630a138499b1"
      },
      "source": [
        "X = np.array(df.drop(columns=['target']))\n",
        "X.shape"
      ],
      "execution_count": 103,
      "outputs": [
        {
          "output_type": "execute_result",
          "data": {
            "text/plain": [
              "(303, 13)"
            ]
          },
          "metadata": {
            "tags": []
          },
          "execution_count": 103
        }
      ]
    },
    {
      "cell_type": "code",
      "metadata": {
        "id": "Eh9Mijep4fzq",
        "colab_type": "code",
        "colab": {
          "base_uri": "https://localhost:8080/",
          "height": 34
        },
        "outputId": "6e94226f-ad9b-4973-ec95-97c94c256e70"
      },
      "source": [
        "y = np.array(df['target'])\n",
        "y.shape"
      ],
      "execution_count": 104,
      "outputs": [
        {
          "output_type": "execute_result",
          "data": {
            "text/plain": [
              "(303,)"
            ]
          },
          "metadata": {
            "tags": []
          },
          "execution_count": 104
        }
      ]
    },
    {
      "cell_type": "code",
      "metadata": {
        "id": "Fdp8rovy4lbK",
        "colab_type": "code",
        "colab": {
          "base_uri": "https://localhost:8080/",
          "height": 374
        },
        "outputId": "fb30a636-65b1-46bd-fd97-a518877c12f0"
      },
      "source": [
        "# baseline model \n",
        "\n",
        "# create model\n",
        "model = Sequential()\n",
        "model.add(Dense(32, activation='relu', input_dim=13))\n",
        "model.add(Dense(32, activation='relu'))\n",
        "model.add(Dense(1))\n",
        "\n",
        "# compile model\n",
        "model.compile(loss='binary_crossentropy', optimizer='adam', metrics=['accuracy'])\n",
        "\n",
        "# fit model\n",
        "model.fit(X,y, epochs=10, batch_size=20)"
      ],
      "execution_count": 105,
      "outputs": [
        {
          "output_type": "stream",
          "text": [
            "Epoch 1/10\n",
            "16/16 [==============================] - 0s 1ms/step - loss: 6.9679 - accuracy: 0.5314\n",
            "Epoch 2/10\n",
            "16/16 [==============================] - 0s 1ms/step - loss: 6.9452 - accuracy: 0.5446\n",
            "Epoch 3/10\n",
            "16/16 [==============================] - 0s 1ms/step - loss: 6.9452 - accuracy: 0.5446\n",
            "Epoch 4/10\n",
            "16/16 [==============================] - 0s 1ms/step - loss: 6.9452 - accuracy: 0.5446\n",
            "Epoch 5/10\n",
            "16/16 [==============================] - 0s 1ms/step - loss: 6.9452 - accuracy: 0.5446\n",
            "Epoch 6/10\n",
            "16/16 [==============================] - 0s 1ms/step - loss: 6.9452 - accuracy: 0.5446\n",
            "Epoch 7/10\n",
            "16/16 [==============================] - 0s 2ms/step - loss: 6.9452 - accuracy: 0.5446\n",
            "Epoch 8/10\n",
            "16/16 [==============================] - 0s 1ms/step - loss: 6.9452 - accuracy: 0.5446\n",
            "Epoch 9/10\n",
            "16/16 [==============================] - 0s 2ms/step - loss: 6.9452 - accuracy: 0.5446\n",
            "Epoch 10/10\n",
            "16/16 [==============================] - 0s 1ms/step - loss: 6.9452 - accuracy: 0.5446\n"
          ],
          "name": "stdout"
        },
        {
          "output_type": "execute_result",
          "data": {
            "text/plain": [
              "<tensorflow.python.keras.callbacks.History at 0x7f826e24bc88>"
            ]
          },
          "metadata": {
            "tags": []
          },
          "execution_count": 105
        }
      ]
    },
    {
      "cell_type": "markdown",
      "metadata": {
        "id": "v-q2kiP16350",
        "colab_type": "text"
      },
      "source": [
        "Baseline Accuracy = 54.46%"
      ]
    },
    {
      "cell_type": "code",
      "metadata": {
        "id": "r2298unhHAFv",
        "colab_type": "code",
        "colab": {}
      },
      "source": [
        "# from tensorflow.keras.optimizers import Adam\n",
        "from keras import models\n",
        "from keras import layers\n",
        "from keras.wrappers.scikit_learn import KerasClassifier\n",
        "from sklearn.model_selection import GridSearchCV\n",
        "from sklearn.datasets import make_classification"
      ],
      "execution_count": 0,
      "outputs": []
    },
    {
      "cell_type": "code",
      "metadata": {
        "id": "ZWBw-6W25S0e",
        "colab_type": "code",
        "colab": {}
      },
      "source": [
        "# hyperparameter tuning using GridSearchCV\n",
        "epochs = [5, 10, 15, 20]\n",
        "batch_size = [5, 10, 25, 32]\n",
        "optimizers = ['rmsprop', 'adam']\n",
        "\n",
        "# Function to create model and required for KerasClassifier\n",
        "def create_model(optimizer = 'adam'):\n",
        "    model = Sequential()\n",
        "    model.add(Dense(32, input_dim=13, activation='relu'))\n",
        "    model.add(Dense(1, activation='sigmoid'))\n",
        "    # Compile model\n",
        "    model.compile(loss='binary_crossentropy', optimizer=optimizer, metrics=['accuracy'])\n",
        "    return model\n",
        "\n",
        "# create model\n",
        "model = KerasClassifier(build_fn=create_model, verbose=0)\n",
        "\n",
        "# define the grid search hyperparameters\n",
        "params = dict(optimizer=optimizers, epochs=epochs, batch_size=batch_size)\n",
        "\n",
        "# Create Grid Search\n",
        "grid = GridSearchCV(estimator=model, scoring='accuracy', param_grid=params)\n",
        "grid_result = grid.fit(X, y)"
      ],
      "execution_count": 0,
      "outputs": []
    },
    {
      "cell_type": "code",
      "metadata": {
        "id": "UjrmS99s50B0",
        "colab_type": "code",
        "colab": {
          "base_uri": "https://localhost:8080/",
          "height": 34
        },
        "outputId": "0332f1a1-e238-45a3-87e5-93768a9fb966"
      },
      "source": [
        "# results\n",
        "print(\"Accuracy:\", grid_result.best_score_, \"best params\", grid_result.best_params_)"
      ],
      "execution_count": 110,
      "outputs": [
        {
          "output_type": "stream",
          "text": [
            "Accuracy: 0.7856830601092896 best params {'batch_size': 5, 'epochs': 20, 'optimizer': 'adam'}\n"
          ],
          "name": "stdout"
        }
      ]
    }
  ]
}