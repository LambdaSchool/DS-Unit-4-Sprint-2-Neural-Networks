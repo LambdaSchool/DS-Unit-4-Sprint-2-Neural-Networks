{
  "nbformat": 4,
  "nbformat_minor": 0,
  "metadata": {
    "kernel_info": {
      "name": "python3"
    },
    "kernelspec": {
      "name": "python3",
      "language": "python",
      "display_name": "Python 3"
    },
    "language_info": {
      "name": "python",
      "version": "3.7.3",
      "mimetype": "text/x-python",
      "codemirror_mode": {
        "name": "ipython",
        "version": 3
      },
      "pygments_lexer": "ipython3",
      "nbconvert_exporter": "python",
      "file_extension": ".py"
    },
    "nteract": {
      "version": "0.15.0"
    },
    "colab": {
      "name": "LS_DS_Unit_4_Sprint_Challenge_2.ipynb",
      "provenance": [],
      "collapsed_sections": []
    }
  },
  "cells": [
    {
      "cell_type": "markdown",
      "metadata": {
        "id": "fJCjZZbnVLLi",
        "colab_type": "text"
      },
      "source": [
        "<img align=\"left\" src=\"https://lever-client-logos.s3.amazonaws.com/864372b1-534c-480e-acd5-9711f850815c-1524247202159.png\" width=200>\n",
        "<br></br>\n",
        "<br></br>\n",
        "\n",
        "## *Data Science Unit 4 Sprint 2*\n",
        "\n",
        "# Sprint Challenge - Neural Network Foundations\n",
        "\n",
        "Table of Problems\n",
        "\n",
        "1. [Defining Neural Networks](#Q1)\n",
        "2. [Chocolate Gummy Bears](#Q2)\n",
        "    - Perceptron\n",
        "    - Multilayer Perceptron\n",
        "4. [Keras MMP](#Q3)"
      ]
    },
    {
      "cell_type": "markdown",
      "metadata": {
        "id": "gSTnfiIIVLLp",
        "colab_type": "text"
      },
      "source": [
        "<a id=\"Q1\"></a>\n",
        "## 1. Define the following terms:\n",
        "\n",
        "- **Neuron:**\n",
        "-- a perceptron that takes a weighted sum of inputs, adds bias, as passes through an activation function to determine whether it passes info to the next stage; where output = activation_function(WX + b)\n",
        "- **Input Layer:**\n",
        "-- the layer that takes the input neurons/ brings the data into the system\n",
        "- **Hidden Layer:**\n",
        "-- the \"black box\" of the NN, in between the input and output layers, doesn't look outside\n",
        "- **Output Layer:**\n",
        "-- the final layer that outputs the numbers/makes inferences\n",
        "- **Activation:**\n",
        "-- transforms a matrix into a desirable shape for output. (sigmoid, tanh, step, relu)\n",
        "- **Backpropagation:**\n",
        "-- goal is to adjust each weight in the network proportional to how much it contributes to the overall error\n"
      ]
    },
    {
      "cell_type": "markdown",
      "metadata": {
        "id": "M78UOOvLVLLr",
        "colab_type": "text"
      },
      "source": [
        "## 2. Chocolate Gummy Bears <a id=\"Q2\"></a>\n",
        "\n",
        "Right now, you're probably thinking, \"yuck, who the hell would eat that?\". Great question. Your candy company wants to know too. And you thought I was kidding about the [Chocolate Gummy Bears](https://nuts.com/chocolatessweets/gummies/gummy-bears/milk-gummy-bears.html?utm_source=google&utm_medium=cpc&adpos=1o1&gclid=Cj0KCQjwrfvsBRD7ARIsAKuDvMOZrysDku3jGuWaDqf9TrV3x5JLXt1eqnVhN0KM6fMcbA1nod3h8AwaAvWwEALw_wcB). \n",
        "\n",
        "Let's assume that a candy company has gone out and collected information on the types of Halloween candy kids ate. Our candy company wants to predict the eating behavior of witches, warlocks, and ghosts -- aka costumed kids. They shared a sample dataset with us. Each row represents a piece of candy that a costumed child was presented with during \"trick\" or \"treat\". We know if the candy was `chocolate` (or not chocolate) or `gummy` (or not gummy). Your goal is to predict if the costumed kid `ate` the piece of candy. \n",
        "\n",
        "If both chocolate and gummy equal one, you've got a chocolate gummy bear on your hands!?!?!\n",
        "![Chocolate Gummy Bear](https://ed910ae2d60f0d25bcb8-80550f96b5feb12604f4f720bfefb46d.ssl.cf1.rackcdn.com/3fb630c04435b7b5-2leZuM7_-zoom.jpg)"
      ]
    },
    {
      "cell_type": "code",
      "metadata": {
        "id": "Bh1vDjUkXONp",
        "colab_type": "code",
        "outputId": "6332d317-89c6-42c7-baed-cb4432f8765c",
        "colab": {
          "resources": {
            "http://localhost:8080/nbextensions/google.colab/files.js": {
              "data": "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",
              "ok": true,
              "headers": [
                [
                  "content-type",
                  "application/javascript"
                ]
              ],
              "status": 200,
              "status_text": "OK"
            }
          },
          "base_uri": "https://localhost:8080/",
          "height": 71
        }
      },
      "source": [
        "from google.colab import files\n",
        "uploaded = files.upload()"
      ],
      "execution_count": 0,
      "outputs": [
        {
          "output_type": "display_data",
          "data": {
            "text/html": [
              "\n",
              "     <input type=\"file\" id=\"files-5fd8dc6a-bfda-469e-a194-fcba7e7e6a59\" name=\"files[]\" multiple disabled />\n",
              "     <output id=\"result-5fd8dc6a-bfda-469e-a194-fcba7e7e6a59\">\n",
              "      Upload widget is only available when the cell has been executed in the\n",
              "      current browser session. Please rerun this cell to enable.\n",
              "      </output>\n",
              "      <script src=\"/nbextensions/google.colab/files.js\"></script> "
            ],
            "text/plain": [
              "<IPython.core.display.HTML object>"
            ]
          },
          "metadata": {
            "tags": []
          }
        },
        {
          "output_type": "stream",
          "text": [
            "Saving chocolate_gummy_bears.csv to chocolate_gummy_bears (1).csv\n"
          ],
          "name": "stdout"
        }
      ]
    },
    {
      "cell_type": "code",
      "metadata": {
        "inputHidden": false,
        "outputHidden": false,
        "id": "FeeCtyM3VLLt",
        "colab_type": "code",
        "colab": {}
      },
      "source": [
        "import pandas as pd\n",
        "candy = pd.read_csv('chocolate_gummy_bears.csv')"
      ],
      "execution_count": 0,
      "outputs": []
    },
    {
      "cell_type": "code",
      "metadata": {
        "outputHidden": false,
        "inputHidden": false,
        "id": "KEFGu_GuVLL2",
        "colab_type": "code",
        "outputId": "94e2d816-7c5d-4ff3-e181-e19b63c3ba8e",
        "colab": {
          "base_uri": "https://localhost:8080/",
          "height": 224
        }
      },
      "source": [
        "print(candy.shape)\n",
        "candy.head()"
      ],
      "execution_count": 0,
      "outputs": [
        {
          "output_type": "stream",
          "text": [
            "(10000, 3)\n"
          ],
          "name": "stdout"
        },
        {
          "output_type": "execute_result",
          "data": {
            "text/html": [
              "<div>\n",
              "<style scoped>\n",
              "    .dataframe tbody tr th:only-of-type {\n",
              "        vertical-align: middle;\n",
              "    }\n",
              "\n",
              "    .dataframe tbody tr th {\n",
              "        vertical-align: top;\n",
              "    }\n",
              "\n",
              "    .dataframe thead th {\n",
              "        text-align: right;\n",
              "    }\n",
              "</style>\n",
              "<table border=\"1\" class=\"dataframe\">\n",
              "  <thead>\n",
              "    <tr style=\"text-align: right;\">\n",
              "      <th></th>\n",
              "      <th>chocolate</th>\n",
              "      <th>gummy</th>\n",
              "      <th>ate</th>\n",
              "    </tr>\n",
              "  </thead>\n",
              "  <tbody>\n",
              "    <tr>\n",
              "      <th>0</th>\n",
              "      <td>0</td>\n",
              "      <td>1</td>\n",
              "      <td>1</td>\n",
              "    </tr>\n",
              "    <tr>\n",
              "      <th>1</th>\n",
              "      <td>1</td>\n",
              "      <td>0</td>\n",
              "      <td>1</td>\n",
              "    </tr>\n",
              "    <tr>\n",
              "      <th>2</th>\n",
              "      <td>0</td>\n",
              "      <td>1</td>\n",
              "      <td>1</td>\n",
              "    </tr>\n",
              "    <tr>\n",
              "      <th>3</th>\n",
              "      <td>0</td>\n",
              "      <td>0</td>\n",
              "      <td>0</td>\n",
              "    </tr>\n",
              "    <tr>\n",
              "      <th>4</th>\n",
              "      <td>1</td>\n",
              "      <td>1</td>\n",
              "      <td>0</td>\n",
              "    </tr>\n",
              "  </tbody>\n",
              "</table>\n",
              "</div>"
            ],
            "text/plain": [
              "   chocolate  gummy  ate\n",
              "0          0      1    1\n",
              "1          1      0    1\n",
              "2          0      1    1\n",
              "3          0      0    0\n",
              "4          1      1    0"
            ]
          },
          "metadata": {
            "tags": []
          },
          "execution_count": 73
        }
      ]
    },
    {
      "cell_type": "markdown",
      "metadata": {
        "id": "1_TypWygVLMA",
        "colab_type": "text"
      },
      "source": [
        "### Perceptron\n",
        "\n",
        "To make predictions on the `candy` dataframe. Build and train a Perceptron using numpy. Your target column is `ate` and your features: `chocolate` and `gummy`. Do not do any feature engineering. :P\n",
        "\n",
        "Once you've trained your model, report your accuracy. Explain why you could not achieve a higher accuracy with a *simple perceptron*. It's possible to achieve ~95% accuracy on this dataset."
      ]
    },
    {
      "cell_type": "code",
      "metadata": {
        "id": "Xc9bvFMJXvdr",
        "colab_type": "code",
        "colab": {}
      },
      "source": [
        "import numpy as np\n",
        "import matplotlib.pyplot as plt\n",
        "\n",
        "from tensorflow import keras\n",
        "from tensorflow.keras.models import Sequential, Model\n",
        "from tensorflow.keras.layers import Dense, Dropout, Activation, Flatten, Input\n",
        "from tensorflow.keras.wrappers.scikit_learn import KerasClassifier\n",
        "from tensorflow.keras.utils import to_categorical\n",
        "from tensorflow.keras.optimizers import SGD\n",
        "\n",
        "from sklearn.preprocessing import OrdinalEncoder\n",
        "from sklearn.model_selection import GridSearchCV\n",
        "from sklearn.model_selection import train_test_split\n",
        "from sklearn.metrics import accuracy_score\n",
        "\n",
        "%matplotlib inline\n",
        "np.random.seed(42)"
      ],
      "execution_count": 0,
      "outputs": []
    },
    {
      "cell_type": "code",
      "metadata": {
        "outputHidden": false,
        "inputHidden": false,
        "id": "hXUKwWREVLMD",
        "colab_type": "code",
        "colab": {}
      },
      "source": [
        "# Start your candy perceptron here\n",
        "\n",
        "X = candy[['chocolate', 'gummy']].values\n",
        "y = candy['ate'].values"
      ],
      "execution_count": 0,
      "outputs": []
    },
    {
      "cell_type": "code",
      "metadata": {
        "id": "NsvqfKU_XhBj",
        "colab_type": "code",
        "colab": {}
      },
      "source": [
        "class Perceptron():\n",
        "    def __init__(self, inputs=2, output=1, rate=0.01, n_iter=100):\n",
        "        self.input = inputs\n",
        "        self.output = output\n",
        "        self.rate = rate\n",
        "        self.n_iter = n_iter\n",
        "        \n",
        "        # Initialize random weights\n",
        "        self.weight = np.random.randn(inputs, output)\n",
        "        \n",
        "        # Initialize bias\n",
        "        self.bias = np.zeros(output)\n",
        "        \n",
        "        # Initialize loss function (empty list for empty perceptron)\n",
        "        self.loss = []\n",
        "        pass\n",
        "    \n",
        "    # Define sigmoid function\n",
        "    def sigmoid(self, x):\n",
        "        \"\"\"\n",
        "        Sigmoid function\n",
        "        \"\"\"\n",
        "        return 1 / (1 + np.exp(-x))\n",
        "    \n",
        "    # Sigmoid derivative function\n",
        "    def sigmoid_derivative(self, x):\n",
        "        \"\"\"\n",
        "        Sigmoid derivative\n",
        "        \"\"\"\n",
        "        sx = self.sigmoid(x)\n",
        "        return sx * (1-sx)\n",
        "    \n",
        "    # Define neural network affine function\n",
        "    def affine_func(self, x, w, b):\n",
        "        '''\n",
        "        y = Wx + b\n",
        "        '''\n",
        "        scores = x.dot(w) + b\n",
        "        cache = (x, w, b)\n",
        "        return scores, cache\n",
        "    \n",
        "    # Define back-propagation\n",
        "    def back_prop(self, d_out, cache):\n",
        "        '''\n",
        "        dY\n",
        "        '''\n",
        "        x, w, b = cache\n",
        "        dx = d_out.dot(w.T)\n",
        "        dw = x.reshape(-1, 1).dot(d_out.reshape(-1, 1))\n",
        "        db = np.sum(d_out, axis=0)\n",
        "        \n",
        "        return dx, dw, db\n",
        "    \n",
        "    def fit(self, x, y):\n",
        "        '''\n",
        "        Fit the perceptron\n",
        "        '''\n",
        "        for i in range(self.n_iter):            \n",
        "            for j in range(x.shape[0]):\n",
        "                # forward prop\n",
        "                scores, cache = self.affine_func(x[j], self.weight, self.bias)\n",
        "                \n",
        "                # scoring\n",
        "                out = self.sigmoid(scores)\n",
        "                loss = y[j] - out.reshape(-1,)\n",
        "                self.loss.append(loss)\n",
        "                \n",
        "                # back prop\n",
        "                dout = loss * self.sigmoid_derivative(out)\n",
        "                _, dw, db = self.back_prop(dout.reshape(-1,), cache)\n",
        "        \n",
        "                # gradient update\n",
        "                self.weight += dw\n",
        "                self.bias += db\n",
        "        pass\n",
        "        \n",
        "    def predict(self, x):\n",
        "        '''\n",
        "        Make predictions\n",
        "        '''\n",
        "        return self.sigmoid(self.affine_func(x, self.weight, self.bias)[0])"
      ],
      "execution_count": 0,
      "outputs": []
    },
    {
      "cell_type": "code",
      "metadata": {
        "id": "duLGCYVxXhIB",
        "colab_type": "code",
        "colab": {}
      },
      "source": [
        "choco_gum = Perceptron(inputs=2, output=1)\n",
        "choco_gum.fit(X, y)"
      ],
      "execution_count": 0,
      "outputs": []
    },
    {
      "cell_type": "code",
      "metadata": {
        "id": "MNY9k_foXhKW",
        "colab_type": "code",
        "outputId": "792dbd39-d20e-4a2d-be6f-e404037e2889",
        "colab": {
          "base_uri": "https://localhost:8080/",
          "height": 269
        }
      },
      "source": [
        "# Plot loss\n",
        "plt.plot(choco_gum.loss);"
      ],
      "execution_count": 0,
      "outputs": [
        {
          "output_type": "display_data",
          "data": {
            "image/png": "[encoded data removed]",
            "text/plain": [
              "<Figure size 432x288 with 1 Axes>"
            ]
          },
          "metadata": {
            "tags": []
          }
        }
      ]
    },
    {
      "cell_type": "code",
      "metadata": {
        "id": "mfJxkVOPXhNi",
        "colab_type": "code",
        "outputId": "99e7333b-2cd1-4115-b683-308d6574e20c",
        "colab": {
          "base_uri": "https://localhost:8080/",
          "height": 86
        }
      },
      "source": [
        "# Score accuracy of model\n",
        "test1 = np.array([0, 0])\n",
        "test2 = np.array([0, 1])\n",
        "test3 = np.array([1, 0])\n",
        "test4 = np.array([1, 1])\n",
        "print(\"{}\".format(test1), choco_gum.predict(test1))\n",
        "print(\"{}\".format(test2), choco_gum.predict(test2))\n",
        "print(\"{}\".format(test3), choco_gum.predict(test3))\n",
        "print(\"{}\".format(test4), choco_gum.predict(test4))"
      ],
      "execution_count": 0,
      "outputs": [
        {
          "output_type": "stream",
          "text": [
            "[0 0] [0.62055029]\n",
            "[0 1] [0.74881462]\n",
            "[1 0] [0.63797195]\n",
            "[1 1] [0.7626002]\n"
          ],
          "name": "stdout"
        }
      ]
    },
    {
      "cell_type": "code",
      "metadata": {
        "id": "u0v6zi0zme8d",
        "colab_type": "code",
        "outputId": "1d438fae-4818-42bc-d10c-4903414bcb6f",
        "colab": {
          "base_uri": "https://localhost:8080/",
          "height": 34
        }
      },
      "source": [
        "y_pred = choco_gum.predict(X)\n",
        "y_pred = np.where(y_pred > 0.5, 1, 0)\n",
        "print(f'accuracy is {accuracy_score(y, y_pred.reshape(-1,))}')"
      ],
      "execution_count": 0,
      "outputs": [
        {
          "output_type": "stream",
          "text": [
            "accuracy is 0.5\n"
          ],
          "name": "stdout"
        }
      ]
    },
    {
      "cell_type": "code",
      "metadata": {
        "id": "wLRMbfPyXhGz",
        "colab_type": "code",
        "outputId": "c7962187-0ac7-4cef-e354-7f6850cea05f",
        "colab": {
          "base_uri": "https://localhost:8080/",
          "height": 54
        }
      },
      "source": [
        "'''\n",
        "There is only so much we can do with a simple perceptron because of it's\n",
        "linear limitations (i.e. y = mx + b, or in this instance a = wX + b). There is\n",
        "only a binary linear relationship between the inputs and outputs. Thus, there is\n",
        "only so much we are able to achieve with a singular perceptron.\n",
        "'''"
      ],
      "execution_count": 0,
      "outputs": [
        {
          "output_type": "execute_result",
          "data": {
            "text/plain": [
              "\"\\nThere is only so much we can do with a simple perceptron because of it's\\nlinear limitations (i.e. y = mx + b, or in this instance a = wX + b). There is\\nonly a binary linear relationship between the inputs and outputs. Thus, there is\\nonly so much we are able to achieve with a singular perceptron.\\n\""
            ]
          },
          "metadata": {
            "tags": []
          },
          "execution_count": 81
        }
      ]
    },
    {
      "cell_type": "markdown",
      "metadata": {
        "id": "cYfw92tdVLML",
        "colab_type": "text"
      },
      "source": [
        "### Multilayer Perceptron <a id=\"Q3\"></a>\n",
        "\n",
        "Using the sample candy dataset, implement a Neural Network Multilayer Perceptron class that uses backpropagation to update the network's weights. Your Multilayer Perceptron should be implemented in Numpy. \n",
        "Your network must have one hidden layer.\n",
        "\n",
        "Once you've trained your model, report your accuracy. Explain why your MLP's performance is considerably better than your simple perceptron's on the candy dataset. "
      ]
    },
    {
      "cell_type": "code",
      "metadata": {
        "outputHidden": false,
        "inputHidden": false,
        "id": "Qc0qtlWFVLMM",
        "colab_type": "code",
        "colab": {}
      },
      "source": [
        "# Create Perceptron class that has input, hidden, and output layers\n",
        "class SkyNet(object):\n",
        "    def __init__(self, inputs=2, hidden=3, output=1, n_iter=1000):\n",
        "        self.n_iter = n_iter\n",
        "        \n",
        "        # Initialize random weights\n",
        "        self.weight1 = np.random.rand(inputs, hidden) / np.sqrt(inputs)\n",
        "        self.weight2 = np.random.rand(hidden, output) / np.sqrt(hidden)\n",
        "        \n",
        "        # Initialize bias\n",
        "        self.bias1 = np.zeros(hidden)\n",
        "        self.bias2 = np.zeros(output)\n",
        "        \n",
        "        # Initialize loss function list\n",
        "        self.loss = []\n",
        "    \n",
        "    # Define sigmoid function\n",
        "    def sigmoid(self, x):\n",
        "        \"\"\"\n",
        "        Sigmoid function\n",
        "        \"\"\"\n",
        "        return 1 / (1 + np.exp(-x))\n",
        "    \n",
        "    # Sigmoid derivative function\n",
        "    def sigmoid_derivative(self, x):\n",
        "        \"\"\"\n",
        "        Sigmoid derivative\n",
        "        \"\"\"\n",
        "        sx = self.sigmoid(x)\n",
        "        return sx * (1-sx)\n",
        "    \n",
        "    # Define neural network affine function\n",
        "    def affine_func(self, x, w, b):\n",
        "        '''\n",
        "        y = Wx + b\n",
        "        '''\n",
        "        scores = x.dot(w) + b\n",
        "        cache = (x, w, b)\n",
        "        return scores, cache\n",
        "    \n",
        "    # Define back-propagation (affine backwards - not actual backpropagation)\n",
        "    def back_prop(self, d_out, cache):\n",
        "        '''\n",
        "        dY\n",
        "        '''\n",
        "        x, w, b = cache\n",
        "        dx = d_out.dot(w.T).reshape(x.shape) # reshaping for useability\n",
        "        dw = x.T.dot(d_out)\n",
        "        db = np.sum(d_out, axis=0)\n",
        "        \n",
        "        return dx, dw, db\n",
        "    \n",
        "    def fit(self, x, y):\n",
        "        '''\n",
        "        Fit the network\n",
        "        '''\n",
        "        for i in range(self.n_iter):           \n",
        "            # forward prop\n",
        "            a1, cache_l1 = self.affine_func(x, self.weight1, self.bias1)\n",
        "            out_l1 = self.sigmoid(a1)\n",
        "            a2, cache_l2 = self.affine_func(out_l1, self.weight2, self.bias2)\n",
        "\n",
        "            # scoring\n",
        "            out_l2 = self.sigmoid(a2)\n",
        "            loss = y.reshape(-1, 1) - out_l2\n",
        "            self.loss.append(loss[0][0])\n",
        "\n",
        "            # back prop\n",
        "            da2 = loss * self.sigmoid_derivative(out_l2)\n",
        "            dout_l2, dW2, db2 = self.back_prop(da2, cache_l2)\n",
        "            da1 = dout_l2 * self.sigmoid_derivative(out_l1)\n",
        "            _, dW1, db1 = self.back_prop(da1, cache_l1)\n",
        "\n",
        "            # gradient update\n",
        "            self.weight1 += dW1\n",
        "            self.bias1 += db1\n",
        "            self.weight2 += dW2\n",
        "            self.bias2 += db2\n",
        "        \n",
        "    def predict(self, x):\n",
        "        '''\n",
        "        Make predictions\n",
        "        '''\n",
        "        x = np.array(x)\n",
        "        a1, _ = self.affine_func(x, self.weight1, self.bias1)\n",
        "        out1 = self.sigmoid(a1)\n",
        "        scores = self.affine_func(out1, self.weight2, self.bias2)\n",
        "        out = self.sigmoid(scores[0])\n",
        "        return out"
      ],
      "execution_count": 0,
      "outputs": []
    },
    {
      "cell_type": "code",
      "metadata": {
        "id": "pjbzMXZpjuKN",
        "colab_type": "code",
        "outputId": "7cd1b985-90d8-451f-ef04-cea7980ee1e0",
        "colab": {
          "base_uri": "https://localhost:8080/",
          "height": 34
        }
      },
      "source": [
        "# train, test split\n",
        "X_train, X_test, y_train, y_test = train_test_split(candy.iloc[:, :-1].values, \n",
        "                                                    candy.iloc[:, -1].values, \n",
        "                                                    test_size=0.2)\n",
        "X_train.shape, X_test.shape, y_train.shape, y_test.shape"
      ],
      "execution_count": 0,
      "outputs": [
        {
          "output_type": "execute_result",
          "data": {
            "text/plain": [
              "((8000, 2), (2000, 2), (8000,), (2000,))"
            ]
          },
          "metadata": {
            "tags": []
          },
          "execution_count": 108
        }
      ]
    },
    {
      "cell_type": "code",
      "metadata": {
        "id": "cE0ADLltd3XD",
        "colab_type": "code",
        "outputId": "0e54ff90-eea2-4198-e73d-ed188a0a0304",
        "colab": {
          "base_uri": "https://localhost:8080/",
          "height": 34
        }
      },
      "source": [
        "nn = SkyNet(inputs=2, hidden=3, output=1, n_iter=100)\n",
        "nn.fit(X_train, y_train)"
      ],
      "execution_count": 0,
      "outputs": [
        {
          "output_type": "stream",
          "text": [
            "/usr/local/lib/python3.6/dist-packages/ipykernel_launcher.py:21: RuntimeWarning: overflow encountered in exp\n"
          ],
          "name": "stderr"
        }
      ]
    },
    {
      "cell_type": "code",
      "metadata": {
        "id": "VuT6ur9wd3fb",
        "colab_type": "code",
        "outputId": "6dd80594-60b3-439c-fbd4-f5d6f8098233",
        "colab": {
          "base_uri": "https://localhost:8080/",
          "height": 269
        }
      },
      "source": [
        "plt.plot(nn.loss);"
      ],
      "execution_count": 0,
      "outputs": [
        {
          "output_type": "display_data",
          "data": {
            "image/png": "[encoded data removed]",
            "text/plain": [
              "<Figure size 432x288 with 1 Axes>"
            ]
          },
          "metadata": {
            "tags": []
          }
        }
      ]
    },
    {
      "cell_type": "code",
      "metadata": {
        "id": "6JTpLGzxd3dA",
        "colab_type": "code",
        "outputId": "e39a85ee-f9ed-4550-e86a-8c21f7fcbd59",
        "colab": {
          "base_uri": "https://localhost:8080/",
          "height": 52
        }
      },
      "source": [
        "y_pred = nn.predict(X_test)\n",
        "y_pred = np.where(y_pred > 0.5, 1, 0)\n",
        "print(f'accuracy is {accuracy_score(y_test, y_pred.reshape(-1,))}')"
      ],
      "execution_count": 0,
      "outputs": [
        {
          "output_type": "stream",
          "text": [
            "accuracy is 0.506\n"
          ],
          "name": "stdout"
        },
        {
          "output_type": "stream",
          "text": [
            "/usr/local/lib/python3.6/dist-packages/ipykernel_launcher.py:21: RuntimeWarning: overflow encountered in exp\n"
          ],
          "name": "stderr"
        }
      ]
    },
    {
      "cell_type": "code",
      "metadata": {
        "id": "75rd8gpId3ZX",
        "colab_type": "code",
        "outputId": "05f4d050-e815-442d-ff76-2b67cbd5f268",
        "colab": {
          "base_uri": "https://localhost:8080/",
          "height": 34
        }
      },
      "source": [
        "'''\n",
        "Multilayer are able to identify non-linear relationships, which makes them\n",
        "much more durable than a singular perceptron.\n",
        "'''"
      ],
      "execution_count": 0,
      "outputs": [
        {
          "output_type": "execute_result",
          "data": {
            "text/plain": [
              "'\\nMultilayer are able to identify non-linear relationships, which makes them\\nmuch more durable than a singular perceptron.\\n'"
            ]
          },
          "metadata": {
            "tags": []
          },
          "execution_count": 87
        }
      ]
    },
    {
      "cell_type": "markdown",
      "metadata": {
        "id": "Mzk3JUwrVLMT",
        "colab_type": "text"
      },
      "source": [
        "P.S. Don't try candy gummy bears. They're disgusting. "
      ]
    },
    {
      "cell_type": "markdown",
      "metadata": {
        "id": "YLEHMhOIVLMV",
        "colab_type": "text"
      },
      "source": [
        "## 3. Keras MMP <a id=\"Q3\"></a>\n",
        "\n",
        "Implement a Multilayer Perceptron architecture of your choosing using the Keras library. Train your model and report its baseline accuracy. Then hyperparameter tune at least two parameters and report your model's accuracy.\n",
        "Use the Heart Disease Dataset (binary classification)\n",
        "Use an appropriate loss function for a binary classification task\n",
        "Use an appropriate activation function on the final layer of your network.\n",
        "Train your model using verbose output for ease of grading.\n",
        "Use GridSearchCV or RandomSearchCV to hyperparameter tune your model. (for at least two hyperparameters)\n",
        "When hyperparameter tuning, show you work by adding code cells for each new experiment.\n",
        "Report the accuracy for each combination of hyperparameters as you test them so that we can easily see which resulted in the highest accuracy.\n",
        "You must hyperparameter tune at least 3 parameters in order to get a 3 on this section."
      ]
    },
    {
      "cell_type": "code",
      "metadata": {
        "inputHidden": false,
        "outputHidden": false,
        "id": "fTpY2fTdVLMa",
        "colab_type": "code",
        "outputId": "0b50c121-034a-4e7d-b03d-f8e3f964630b",
        "colab": {
          "base_uri": "https://localhost:8080/",
          "height": 224
        }
      },
      "source": [
        "import pandas as pd\n",
        "from sklearn.preprocessing import StandardScaler\n",
        "\n",
        "df = pd.read_csv('https://raw.githubusercontent.com/ryanleeallred/datasets/master/heart.csv')\n",
        "df = df.sample(frac=1)\n",
        "print(df.shape)\n",
        "df.head()"
      ],
      "execution_count": 0,
      "outputs": [
        {
          "output_type": "stream",
          "text": [
            "(303, 14)\n"
          ],
          "name": "stdout"
        },
        {
          "output_type": "execute_result",
          "data": {
            "text/html": [
              "<div>\n",
              "<style scoped>\n",
              "    .dataframe tbody tr th:only-of-type {\n",
              "        vertical-align: middle;\n",
              "    }\n",
              "\n",
              "    .dataframe tbody tr th {\n",
              "        vertical-align: top;\n",
              "    }\n",
              "\n",
              "    .dataframe thead th {\n",
              "        text-align: right;\n",
              "    }\n",
              "</style>\n",
              "<table border=\"1\" class=\"dataframe\">\n",
              "  <thead>\n",
              "    <tr style=\"text-align: right;\">\n",
              "      <th></th>\n",
              "      <th>age</th>\n",
              "      <th>sex</th>\n",
              "      <th>cp</th>\n",
              "      <th>trestbps</th>\n",
              "      <th>chol</th>\n",
              "      <th>fbs</th>\n",
              "      <th>restecg</th>\n",
              "      <th>thalach</th>\n",
              "      <th>exang</th>\n",
              "      <th>oldpeak</th>\n",
              "      <th>slope</th>\n",
              "      <th>ca</th>\n",
              "      <th>thal</th>\n",
              "      <th>target</th>\n",
              "    </tr>\n",
              "  </thead>\n",
              "  <tbody>\n",
              "    <tr>\n",
              "      <th>44</th>\n",
              "      <td>39</td>\n",
              "      <td>1</td>\n",
              "      <td>2</td>\n",
              "      <td>140</td>\n",
              "      <td>321</td>\n",
              "      <td>0</td>\n",
              "      <td>0</td>\n",
              "      <td>182</td>\n",
              "      <td>0</td>\n",
              "      <td>0.0</td>\n",
              "      <td>2</td>\n",
              "      <td>0</td>\n",
              "      <td>2</td>\n",
              "      <td>1</td>\n",
              "    </tr>\n",
              "    <tr>\n",
              "      <th>175</th>\n",
              "      <td>40</td>\n",
              "      <td>1</td>\n",
              "      <td>0</td>\n",
              "      <td>110</td>\n",
              "      <td>167</td>\n",
              "      <td>0</td>\n",
              "      <td>0</td>\n",
              "      <td>114</td>\n",
              "      <td>1</td>\n",
              "      <td>2.0</td>\n",
              "      <td>1</td>\n",
              "      <td>0</td>\n",
              "      <td>3</td>\n",
              "      <td>0</td>\n",
              "    </tr>\n",
              "    <tr>\n",
              "      <th>81</th>\n",
              "      <td>45</td>\n",
              "      <td>1</td>\n",
              "      <td>1</td>\n",
              "      <td>128</td>\n",
              "      <td>308</td>\n",
              "      <td>0</td>\n",
              "      <td>0</td>\n",
              "      <td>170</td>\n",
              "      <td>0</td>\n",
              "      <td>0.0</td>\n",
              "      <td>2</td>\n",
              "      <td>0</td>\n",
              "      <td>2</td>\n",
              "      <td>1</td>\n",
              "    </tr>\n",
              "    <tr>\n",
              "      <th>172</th>\n",
              "      <td>58</td>\n",
              "      <td>1</td>\n",
              "      <td>1</td>\n",
              "      <td>120</td>\n",
              "      <td>284</td>\n",
              "      <td>0</td>\n",
              "      <td>0</td>\n",
              "      <td>160</td>\n",
              "      <td>0</td>\n",
              "      <td>1.8</td>\n",
              "      <td>1</td>\n",
              "      <td>0</td>\n",
              "      <td>2</td>\n",
              "      <td>0</td>\n",
              "    </tr>\n",
              "    <tr>\n",
              "      <th>144</th>\n",
              "      <td>76</td>\n",
              "      <td>0</td>\n",
              "      <td>2</td>\n",
              "      <td>140</td>\n",
              "      <td>197</td>\n",
              "      <td>0</td>\n",
              "      <td>2</td>\n",
              "      <td>116</td>\n",
              "      <td>0</td>\n",
              "      <td>1.1</td>\n",
              "      <td>1</td>\n",
              "      <td>0</td>\n",
              "      <td>2</td>\n",
              "      <td>1</td>\n",
              "    </tr>\n",
              "  </tbody>\n",
              "</table>\n",
              "</div>"
            ],
            "text/plain": [
              "     age  sex  cp  trestbps  chol  fbs  ...  exang  oldpeak  slope  ca  thal  target\n",
              "44    39    1   2       140   321    0  ...      0      0.0      2   0     2       1\n",
              "175   40    1   0       110   167    0  ...      1      2.0      1   0     3       0\n",
              "81    45    1   1       128   308    0  ...      0      0.0      2   0     2       1\n",
              "172   58    1   1       120   284    0  ...      0      1.8      1   0     2       0\n",
              "144   76    0   2       140   197    0  ...      0      1.1      1   0     2       1\n",
              "\n",
              "[5 rows x 14 columns]"
            ]
          },
          "metadata": {
            "tags": []
          },
          "execution_count": 116
        }
      ]
    },
    {
      "cell_type": "code",
      "metadata": {
        "id": "X1LF8yYom4PR",
        "colab_type": "code",
        "outputId": "4eddf06d-7f1a-40f4-856f-d7a6b174d3de",
        "colab": {
          "base_uri": "https://localhost:8080/",
          "height": 34
        }
      },
      "source": [
        "x = df.values \n",
        "min_max_scaler = StandardScaler()\n",
        "x_scaled = min_max_scaler.fit_transform(x)\n",
        "\n",
        "X_train, X_test, y_train, y_test = train_test_split(x_scaled[:, :-1], \n",
        "                                                    x_scaled[:, -1], \n",
        "                                                    test_size=0.2)\n",
        "print(X_train.shape, X_test.shape, y_train.shape, y_test.shape)"
      ],
      "execution_count": 0,
      "outputs": [
        {
          "output_type": "stream",
          "text": [
            "(242, 13) (61, 13) (242,) (61,)\n"
          ],
          "name": "stdout"
        }
      ]
    },
    {
      "cell_type": "code",
      "metadata": {
        "id": "xBrmdoQgm4UU",
        "colab_type": "code",
        "outputId": "24835fa7-fdf9-4dec-98aa-462b82d573d6",
        "colab": {
          "base_uri": "https://localhost:8080/",
          "height": 1000
        }
      },
      "source": [
        "from tensorflow.keras.layers import BatchNormalization\n",
        "\n",
        "# Instantiate the model\n",
        "model = Sequential()\n",
        "\n",
        "# Add layers to the model (1 hidden layer as base model)\n",
        "\n",
        "# Input -> Hidden\n",
        "model.add(Dense(64, input_dim=13, activation='relu'))\n",
        "model.add(BatchNormalization())\n",
        "\n",
        "# Hidden\n",
        "model.add(Dense(64, activation='relu'))\n",
        "model.add(BatchNormalization())\n",
        "\n",
        "# Hidden -> Output\n",
        "model.add(Dense(1, activation='sigmoid'))\n",
        "\n",
        "# Compile model\n",
        "model.compile(\n",
        "    loss='binary_crossentropy',\n",
        "    optimizer='adam',\n",
        "    metrics=['accuracy']\n",
        ")\n",
        "\n",
        "# Fit model\n",
        "history = model.fit(X_train, y_train, validation_split=0.2,\n",
        "                    epochs=100, batch_size=50)\n",
        "\n",
        "# Inspect architecture\n",
        "model.summary()"
      ],
      "execution_count": 0,
      "outputs": [
        {
          "output_type": "stream",
          "text": [
            "Train on 193 samples, validate on 49 samples\n",
            "Epoch 1/100\n",
            "193/193 [==============================] - 1s 5ms/sample - loss: 0.1696 - acc: 0.0000e+00 - val_loss: 0.4243 - val_acc: 0.0000e+00\n",
            "Epoch 2/100\n",
            "193/193 [==============================] - 0s 96us/sample - loss: -0.2961 - acc: 0.0000e+00 - val_loss: 0.3297 - val_acc: 0.0000e+00\n",
            "Epoch 3/100\n",
            "193/193 [==============================] - 0s 76us/sample - loss: -0.6814 - acc: 0.0000e+00 - val_loss: 0.2361 - val_acc: 0.0000e+00\n",
            "Epoch 4/100\n",
            "193/193 [==============================] - 0s 80us/sample - loss: -0.9599 - acc: 0.0000e+00 - val_loss: 0.1446 - val_acc: 0.0000e+00\n",
            "Epoch 5/100\n",
            "193/193 [==============================] - 0s 97us/sample - loss: -1.2166 - acc: 0.0000e+00 - val_loss: 0.0582 - val_acc: 0.0000e+00\n",
            "Epoch 6/100\n",
            "193/193 [==============================] - 0s 80us/sample - loss: -1.4937 - acc: 0.0000e+00 - val_loss: -0.0314 - val_acc: 0.0000e+00\n",
            "Epoch 7/100\n",
            "193/193 [==============================] - 0s 89us/sample - loss: -1.7347 - acc: 0.0000e+00 - val_loss: -0.1231 - val_acc: 0.0000e+00\n",
            "Epoch 8/100\n",
            "193/193 [==============================] - 0s 88us/sample - loss: -1.9414 - acc: 0.0000e+00 - val_loss: -0.2197 - val_acc: 0.0000e+00\n",
            "Epoch 9/100\n",
            "193/193 [==============================] - 0s 86us/sample - loss: -2.1113 - acc: 0.0000e+00 - val_loss: -0.3167 - val_acc: 0.0000e+00\n",
            "Epoch 10/100\n",
            "193/193 [==============================] - 0s 98us/sample - loss: -2.3988 - acc: 0.0000e+00 - val_loss: -0.4164 - val_acc: 0.0000e+00\n",
            "Epoch 11/100\n",
            "193/193 [==============================] - 0s 97us/sample - loss: -2.6852 - acc: 0.0000e+00 - val_loss: -0.5174 - val_acc: 0.0000e+00\n",
            "Epoch 12/100\n",
            "193/193 [==============================] - 0s 94us/sample - loss: -2.8861 - acc: 0.0000e+00 - val_loss: -0.6269 - val_acc: 0.0000e+00\n",
            "Epoch 13/100\n",
            "193/193 [==============================] - 0s 99us/sample - loss: -3.1440 - acc: 0.0000e+00 - val_loss: -0.7398 - val_acc: 0.0000e+00\n",
            "Epoch 14/100\n",
            "193/193 [==============================] - 0s 97us/sample - loss: -3.2067 - acc: 0.0000e+00 - val_loss: -0.8573 - val_acc: 0.0000e+00\n",
            "Epoch 15/100\n",
            "193/193 [==============================] - 0s 102us/sample - loss: -3.5917 - acc: 0.0000e+00 - val_loss: -0.9755 - val_acc: 0.0000e+00\n",
            "Epoch 16/100\n",
            "193/193 [==============================] - 0s 83us/sample - loss: -3.8172 - acc: 0.0000e+00 - val_loss: -1.0994 - val_acc: 0.0000e+00\n",
            "Epoch 17/100\n",
            "193/193 [==============================] - 0s 81us/sample - loss: -4.0547 - acc: 0.0000e+00 - val_loss: -1.2270 - val_acc: 0.0000e+00\n",
            "Epoch 18/100\n",
            "193/193 [==============================] - 0s 85us/sample - loss: -4.2783 - acc: 0.0000e+00 - val_loss: -1.3566 - val_acc: 0.0000e+00\n",
            "Epoch 19/100\n",
            "193/193 [==============================] - 0s 103us/sample - loss: -4.4939 - acc: 0.0000e+00 - val_loss: -1.4843 - val_acc: 0.0000e+00\n",
            "Epoch 20/100\n",
            "193/193 [==============================] - 0s 103us/sample - loss: -4.8266 - acc: 0.0000e+00 - val_loss: -1.6168 - val_acc: 0.0000e+00\n",
            "Epoch 21/100\n",
            "193/193 [==============================] - 0s 85us/sample - loss: -5.0152 - acc: 0.0000e+00 - val_loss: -1.7508 - val_acc: 0.0000e+00\n",
            "Epoch 22/100\n",
            "193/193 [==============================] - 0s 111us/sample - loss: -5.2936 - acc: 0.0000e+00 - val_loss: -1.8916 - val_acc: 0.0000e+00\n",
            "Epoch 23/100\n",
            "193/193 [==============================] - 0s 77us/sample - loss: -5.3539 - acc: 0.0000e+00 - val_loss: -2.0154 - val_acc: 0.0000e+00\n",
            "Epoch 24/100\n",
            "193/193 [==============================] - 0s 84us/sample - loss: -5.7887 - acc: 0.0000e+00 - val_loss: -2.1507 - val_acc: 0.0000e+00\n",
            "Epoch 25/100\n",
            "193/193 [==============================] - 0s 82us/sample - loss: -6.0112 - acc: 0.0000e+00 - val_loss: -2.2836 - val_acc: 0.0000e+00\n",
            "Epoch 26/100\n",
            "193/193 [==============================] - 0s 93us/sample - loss: -6.3349 - acc: 0.0000e+00 - val_loss: -2.4114 - val_acc: 0.0000e+00\n",
            "Epoch 27/100\n",
            "193/193 [==============================] - 0s 89us/sample - loss: -6.5691 - acc: 0.0000e+00 - val_loss: -2.5458 - val_acc: 0.0000e+00\n",
            "Epoch 28/100\n",
            "193/193 [==============================] - 0s 95us/sample - loss: -6.8421 - acc: 0.0000e+00 - val_loss: -2.6742 - val_acc: 0.0000e+00\n",
            "Epoch 29/100\n",
            "193/193 [==============================] - 0s 109us/sample - loss: -7.0627 - acc: 0.0000e+00 - val_loss: -2.7821 - val_acc: 0.0000e+00\n",
            "Epoch 30/100\n",
            "193/193 [==============================] - 0s 106us/sample - loss: -7.4809 - acc: 0.0000e+00 - val_loss: -2.9083 - val_acc: 0.0000e+00\n",
            "Epoch 31/100\n",
            "193/193 [==============================] - 0s 79us/sample - loss: -7.7914 - acc: 0.0000e+00 - val_loss: -3.0305 - val_acc: 0.0000e+00\n",
            "Epoch 32/100\n",
            "193/193 [==============================] - 0s 80us/sample - loss: -7.9284 - acc: 0.0000e+00 - val_loss: -3.1683 - val_acc: 0.0000e+00\n",
            "Epoch 33/100\n",
            "193/193 [==============================] - 0s 97us/sample - loss: -8.3356 - acc: 0.0000e+00 - val_loss: -3.3055 - val_acc: 0.0000e+00\n",
            "Epoch 34/100\n",
            "193/193 [==============================] - 0s 71us/sample - loss: -8.6972 - acc: 0.0000e+00 - val_loss: -3.4384 - val_acc: 0.0000e+00\n",
            "Epoch 35/100\n",
            "193/193 [==============================] - 0s 73us/sample - loss: -8.8142 - acc: 0.0000e+00 - val_loss: -3.5977 - val_acc: 0.0000e+00\n",
            "Epoch 36/100\n",
            "193/193 [==============================] - 0s 90us/sample - loss: -9.1229 - acc: 0.0000e+00 - val_loss: -3.7608 - val_acc: 0.0000e+00\n",
            "Epoch 37/100\n",
            "193/193 [==============================] - 0s 75us/sample - loss: -9.6058 - acc: 0.0000e+00 - val_loss: -3.9155 - val_acc: 0.0000e+00\n",
            "Epoch 38/100\n",
            "193/193 [==============================] - 0s 76us/sample - loss: -9.9027 - acc: 0.0000e+00 - val_loss: -4.0397 - val_acc: 0.0000e+00\n",
            "Epoch 39/100\n",
            "193/193 [==============================] - 0s 74us/sample - loss: -10.3668 - acc: 0.0000e+00 - val_loss: -4.1846 - val_acc: 0.0000e+00\n",
            "Epoch 40/100\n",
            "193/193 [==============================] - 0s 94us/sample - loss: -10.5907 - acc: 0.0000e+00 - val_loss: -4.2974 - val_acc: 0.0000e+00\n",
            "Epoch 41/100\n",
            "193/193 [==============================] - 0s 88us/sample - loss: -11.0867 - acc: 0.0000e+00 - val_loss: -4.4300 - val_acc: 0.0000e+00\n",
            "Epoch 42/100\n",
            "193/193 [==============================] - 0s 89us/sample - loss: -11.3848 - acc: 0.0000e+00 - val_loss: -4.5711 - val_acc: 0.0000e+00\n",
            "Epoch 43/100\n",
            "193/193 [==============================] - 0s 92us/sample - loss: -11.8276 - acc: 0.0000e+00 - val_loss: -4.7167 - val_acc: 0.0000e+00\n",
            "Epoch 44/100\n",
            "193/193 [==============================] - 0s 89us/sample - loss: -12.0801 - acc: 0.0000e+00 - val_loss: -4.8572 - val_acc: 0.0000e+00\n",
            "Epoch 45/100\n",
            "193/193 [==============================] - 0s 89us/sample - loss: -12.5342 - acc: 0.0000e+00 - val_loss: -4.9790 - val_acc: 0.0000e+00\n",
            "Epoch 46/100\n",
            "193/193 [==============================] - 0s 100us/sample - loss: -12.7266 - acc: 0.0000e+00 - val_loss: -5.1371 - val_acc: 0.0000e+00\n",
            "Epoch 47/100\n",
            "193/193 [==============================] - 0s 89us/sample - loss: -13.1309 - acc: 0.0000e+00 - val_loss: -5.3041 - val_acc: 0.0000e+00\n",
            "Epoch 48/100\n",
            "193/193 [==============================] - 0s 83us/sample - loss: -13.6361 - acc: 0.0000e+00 - val_loss: -5.4120 - val_acc: 0.0000e+00\n",
            "Epoch 49/100\n",
            "193/193 [==============================] - 0s 83us/sample - loss: -14.1153 - acc: 0.0000e+00 - val_loss: -5.5560 - val_acc: 0.0000e+00\n",
            "Epoch 50/100\n",
            "193/193 [==============================] - 0s 75us/sample - loss: -14.6253 - acc: 0.0000e+00 - val_loss: -5.6974 - val_acc: 0.0000e+00\n",
            "Epoch 51/100\n",
            "193/193 [==============================] - 0s 78us/sample - loss: -15.0175 - acc: 0.0000e+00 - val_loss: -5.8602 - val_acc: 0.0000e+00\n",
            "Epoch 52/100\n",
            "193/193 [==============================] - 0s 82us/sample - loss: -15.1468 - acc: 0.0000e+00 - val_loss: -6.0430 - val_acc: 0.0000e+00\n",
            "Epoch 53/100\n",
            "193/193 [==============================] - 0s 78us/sample - loss: -15.3198 - acc: 0.0000e+00 - val_loss: -6.2105 - val_acc: 0.0000e+00\n",
            "Epoch 54/100\n",
            "193/193 [==============================] - 0s 112us/sample - loss: -16.4359 - acc: 0.0000e+00 - val_loss: -6.2431 - val_acc: 0.0000e+00\n",
            "Epoch 55/100\n",
            "193/193 [==============================] - 0s 90us/sample - loss: -16.2148 - acc: 0.0000e+00 - val_loss: -6.2975 - val_acc: 0.0000e+00\n",
            "Epoch 56/100\n",
            "193/193 [==============================] - 0s 85us/sample - loss: -16.1803 - acc: 0.0000e+00 - val_loss: -6.3546 - val_acc: 0.0000e+00\n",
            "Epoch 57/100\n",
            "193/193 [==============================] - 0s 102us/sample - loss: -17.7994 - acc: 0.0000e+00 - val_loss: -6.4886 - val_acc: 0.0000e+00\n",
            "Epoch 58/100\n",
            "193/193 [==============================] - 0s 91us/sample - loss: -18.2063 - acc: 0.0000e+00 - val_loss: -6.5497 - val_acc: 0.0000e+00\n",
            "Epoch 59/100\n",
            "193/193 [==============================] - 0s 146us/sample - loss: -18.6410 - acc: 0.0000e+00 - val_loss: -6.6428 - val_acc: 0.0000e+00\n",
            "Epoch 60/100\n",
            "193/193 [==============================] - 0s 90us/sample - loss: -19.1404 - acc: 0.0000e+00 - val_loss: -6.7810 - val_acc: 0.0000e+00\n",
            "Epoch 61/100\n",
            "193/193 [==============================] - 0s 81us/sample - loss: -19.6968 - acc: 0.0000e+00 - val_loss: -6.9442 - val_acc: 0.0000e+00\n",
            "Epoch 62/100\n",
            "193/193 [==============================] - 0s 82us/sample - loss: -20.1191 - acc: 0.0000e+00 - val_loss: -7.0463 - val_acc: 0.0000e+00\n",
            "Epoch 63/100\n",
            "193/193 [==============================] - 0s 79us/sample - loss: -20.7164 - acc: 0.0000e+00 - val_loss: -7.1397 - val_acc: 0.0000e+00\n",
            "Epoch 64/100\n",
            "193/193 [==============================] - 0s 91us/sample - loss: -21.3122 - acc: 0.0000e+00 - val_loss: -7.2778 - val_acc: 0.0000e+00\n",
            "Epoch 65/100\n",
            "193/193 [==============================] - 0s 100us/sample - loss: -21.3671 - acc: 0.0000e+00 - val_loss: -7.3577 - val_acc: 0.0000e+00\n",
            "Epoch 66/100\n",
            "193/193 [==============================] - 0s 78us/sample - loss: -22.0061 - acc: 0.0000e+00 - val_loss: -7.5477 - val_acc: 0.0000e+00\n",
            "Epoch 67/100\n",
            "193/193 [==============================] - 0s 75us/sample - loss: -22.9742 - acc: 0.0000e+00 - val_loss: -7.6455 - val_acc: 0.0000e+00\n",
            "Epoch 68/100\n",
            "193/193 [==============================] - 0s 99us/sample - loss: -23.3974 - acc: 0.0000e+00 - val_loss: -7.7840 - val_acc: 0.0000e+00\n",
            "Epoch 69/100\n",
            "193/193 [==============================] - 0s 85us/sample - loss: -23.8747 - acc: 0.0000e+00 - val_loss: -8.0105 - val_acc: 0.0000e+00\n",
            "Epoch 70/100\n",
            "193/193 [==============================] - 0s 87us/sample - loss: -24.2925 - acc: 0.0000e+00 - val_loss: -8.1534 - val_acc: 0.0000e+00\n",
            "Epoch 71/100\n",
            "193/193 [==============================] - 0s 81us/sample - loss: -24.9669 - acc: 0.0000e+00 - val_loss: -8.4252 - val_acc: 0.0000e+00\n",
            "Epoch 72/100\n",
            "193/193 [==============================] - 0s 89us/sample - loss: -25.3028 - acc: 0.0000e+00 - val_loss: -8.5279 - val_acc: 0.0000e+00\n",
            "Epoch 73/100\n",
            "193/193 [==============================] - 0s 83us/sample - loss: -26.2422 - acc: 0.0000e+00 - val_loss: -8.6977 - val_acc: 0.0000e+00\n",
            "Epoch 74/100\n",
            "193/193 [==============================] - 0s 85us/sample - loss: -26.5607 - acc: 0.0000e+00 - val_loss: -8.8569 - val_acc: 0.0000e+00\n",
            "Epoch 75/100\n",
            "193/193 [==============================] - 0s 80us/sample - loss: -27.3308 - acc: 0.0000e+00 - val_loss: -9.2203 - val_acc: 0.0000e+00\n",
            "Epoch 76/100\n",
            "193/193 [==============================] - 0s 73us/sample - loss: -27.4797 - acc: 0.0000e+00 - val_loss: -9.4933 - val_acc: 0.0000e+00\n",
            "Epoch 77/100\n",
            "193/193 [==============================] - 0s 75us/sample - loss: -28.5325 - acc: 0.0000e+00 - val_loss: -9.6341 - val_acc: 0.0000e+00\n",
            "Epoch 78/100\n",
            "193/193 [==============================] - 0s 79us/sample - loss: -29.3625 - acc: 0.0000e+00 - val_loss: -9.8113 - val_acc: 0.0000e+00\n",
            "Epoch 79/100\n",
            "193/193 [==============================] - 0s 73us/sample - loss: -29.7693 - acc: 0.0000e+00 - val_loss: -10.0947 - val_acc: 0.0000e+00\n",
            "Epoch 80/100\n",
            "193/193 [==============================] - 0s 73us/sample - loss: -30.0997 - acc: 0.0000e+00 - val_loss: -10.3912 - val_acc: 0.0000e+00\n",
            "Epoch 81/100\n",
            "193/193 [==============================] - 0s 86us/sample - loss: -29.5641 - acc: 0.0000e+00 - val_loss: -10.7917 - val_acc: 0.0000e+00\n",
            "Epoch 82/100\n",
            "193/193 [==============================] - 0s 87us/sample - loss: -31.8065 - acc: 0.0000e+00 - val_loss: -11.0009 - val_acc: 0.0000e+00\n",
            "Epoch 83/100\n",
            "193/193 [==============================] - 0s 81us/sample - loss: -31.8173 - acc: 0.0000e+00 - val_loss: -11.1643 - val_acc: 0.0000e+00\n",
            "Epoch 84/100\n",
            "193/193 [==============================] - 0s 75us/sample - loss: -32.6313 - acc: 0.0000e+00 - val_loss: -11.2489 - val_acc: 0.0000e+00\n",
            "Epoch 85/100\n",
            "193/193 [==============================] - 0s 79us/sample - loss: -33.3863 - acc: 0.0000e+00 - val_loss: -11.0613 - val_acc: 0.0000e+00\n",
            "Epoch 86/100\n",
            "193/193 [==============================] - 0s 102us/sample - loss: -34.0018 - acc: 0.0000e+00 - val_loss: -10.9887 - val_acc: 0.0000e+00\n",
            "Epoch 87/100\n",
            "193/193 [==============================] - 0s 78us/sample - loss: -34.4280 - acc: 0.0000e+00 - val_loss: -11.2680 - val_acc: 0.0000e+00\n",
            "Epoch 88/100\n",
            "193/193 [==============================] - 0s 108us/sample - loss: -35.1101 - acc: 0.0000e+00 - val_loss: -11.7999 - val_acc: 0.0000e+00\n",
            "Epoch 89/100\n",
            "193/193 [==============================] - 0s 89us/sample - loss: -35.8626 - acc: 0.0000e+00 - val_loss: -12.2960 - val_acc: 0.0000e+00\n",
            "Epoch 90/100\n",
            "193/193 [==============================] - 0s 90us/sample - loss: -36.2801 - acc: 0.0000e+00 - val_loss: -12.7178 - val_acc: 0.0000e+00\n",
            "Epoch 91/100\n",
            "193/193 [==============================] - 0s 91us/sample - loss: -36.3675 - acc: 0.0000e+00 - val_loss: -12.5431 - val_acc: 0.0000e+00\n",
            "Epoch 92/100\n",
            "193/193 [==============================] - 0s 119us/sample - loss: -38.1216 - acc: 0.0000e+00 - val_loss: -12.6711 - val_acc: 0.0000e+00\n",
            "Epoch 93/100\n",
            "193/193 [==============================] - 0s 100us/sample - loss: -38.4262 - acc: 0.0000e+00 - val_loss: -12.9496 - val_acc: 0.0000e+00\n",
            "Epoch 94/100\n",
            "193/193 [==============================] - 0s 82us/sample - loss: -38.7415 - acc: 0.0000e+00 - val_loss: -13.4069 - val_acc: 0.0000e+00\n",
            "Epoch 95/100\n",
            "193/193 [==============================] - 0s 75us/sample - loss: -39.0744 - acc: 0.0000e+00 - val_loss: -13.8560 - val_acc: 0.0000e+00\n",
            "Epoch 96/100\n",
            "193/193 [==============================] - 0s 75us/sample - loss: -40.9450 - acc: 0.0000e+00 - val_loss: -14.2453 - val_acc: 0.0000e+00\n",
            "Epoch 97/100\n",
            "193/193 [==============================] - 0s 91us/sample - loss: -41.1175 - acc: 0.0000e+00 - val_loss: -14.6460 - val_acc: 0.0000e+00\n",
            "Epoch 98/100\n",
            "193/193 [==============================] - 0s 93us/sample - loss: -41.7146 - acc: 0.0000e+00 - val_loss: -14.7993 - val_acc: 0.0000e+00\n",
            "Epoch 99/100\n",
            "193/193 [==============================] - 0s 109us/sample - loss: -42.4001 - acc: 0.0000e+00 - val_loss: -14.6374 - val_acc: 0.0000e+00\n",
            "Epoch 100/100\n",
            "193/193 [==============================] - 0s 98us/sample - loss: -43.5828 - acc: 0.0000e+00 - val_loss: -14.3250 - val_acc: 0.0000e+00\n",
            "Model: \"sequential_26\"\n",
            "_________________________________________________________________\n",
            "Layer (type)                 Output Shape              Param #   \n",
            "=================================================================\n",
            "dense_78 (Dense)             (None, 64)                896       \n",
            "_________________________________________________________________\n",
            "batch_normalization_10 (Batc (None, 64)                256       \n",
            "_________________________________________________________________\n",
            "dense_79 (Dense)             (None, 64)                4160      \n",
            "_________________________________________________________________\n",
            "batch_normalization_11 (Batc (None, 64)                256       \n",
            "_________________________________________________________________\n",
            "dense_80 (Dense)             (None, 1)                 65        \n",
            "=================================================================\n",
            "Total params: 5,633\n",
            "Trainable params: 5,377\n",
            "Non-trainable params: 256\n",
            "_________________________________________________________________\n"
          ],
          "name": "stdout"
        }
      ]
    },
    {
      "cell_type": "code",
      "metadata": {
        "id": "oxmyxE40m4Yh",
        "colab_type": "code",
        "outputId": "37348976-f24f-4174-8c2c-b6e048967622",
        "colab": {
          "base_uri": "https://localhost:8080/",
          "height": 295
        }
      },
      "source": [
        "# Plot training & validation loss values\n",
        "plt.plot(history.history['loss'])\n",
        "plt.plot(history.history['val_loss'])\n",
        "plt.title('Model loss')\n",
        "plt.ylabel('Loss')\n",
        "plt.xlabel('Epoch')\n",
        "plt.legend(['Train', 'Val'], loc='upper left')\n",
        "plt.show();"
      ],
      "execution_count": 0,
      "outputs": [
        {
          "output_type": "display_data",
          "data": {
            "image/png": "[encoded data removed]",
            "text/plain": [
              "<Figure size 432x288 with 1 Axes>"
            ]
          },
          "metadata": {
            "tags": []
          }
        }
      ]
    },
    {
      "cell_type": "code",
      "metadata": {
        "id": "VbMwifqUm4Ry",
        "colab_type": "code",
        "outputId": "412dd340-b7fc-4a50-f717-c9ec0030c149",
        "colab": {
          "base_uri": "https://localhost:8080/",
          "height": 34
        }
      },
      "source": [
        "scores = model.evaluate(X_test, y_test, verbose=0)\n",
        "print(f\"Test accuracy is {scores[1]}\")"
      ],
      "execution_count": 0,
      "outputs": [
        {
          "output_type": "stream",
          "text": [
            "Test accuracy is 0.0\n"
          ],
          "name": "stdout"
        }
      ]
    },
    {
      "cell_type": "code",
      "metadata": {
        "id": "LN50ToGxm4Mr",
        "colab_type": "code",
        "outputId": "9bb3534b-5bd7-40cc-b962-8ec46c8ed0a4",
        "colab": {
          "base_uri": "https://localhost:8080/",
          "height": 139
        }
      },
      "source": [
        "# GridSearch for accuracy\n",
        "inputs = X_train.shape[1]\n",
        "\n",
        "def create_model():\n",
        "    model = Sequential()\n",
        "    model.add(Dense(64, activation='relu', input_shape=(inputs,)))\n",
        "    model.add(Dense(64, activation='relu'))\n",
        "    model.add(Dense(1, activation='sigmoid'))\n",
        "    \n",
        "    model.compile(loss='binary_crossentropy', optimizer='adam', metrics=['accuracy'])\n",
        "    return model\n",
        "\n",
        "# create model\n",
        "model = KerasClassifier(build_fn=create_model, verbose=0)\n",
        "\n",
        "# define the grid search parameters\n",
        "param_grid = {'batch_size': [16, 32, 64],\n",
        "              'epochs': [20, 80]}\n",
        "\n",
        "# Create Grid Search\n",
        "grid = GridSearchCV(estimator=model, param_grid=param_grid, cv=3)\n",
        "grid_result = grid.fit(X_train, y_train)\n",
        "\n",
        "# Report Results\n",
        "print(f\"Best: {grid_result.best_score_} using {grid_result.best_params_}\")\n",
        "means = grid_result.cv_results_['mean_test_score']\n",
        "stds = grid_result.cv_results_['std_test_score']\n",
        "params = grid_result.cv_results_['params']\n",
        "for mean, stdev, param in zip(means, stds, params):\n",
        "    print(f\"Means: {mean}, Stdev: {stdev} with: {param}\")"
      ],
      "execution_count": 0,
      "outputs": [
        {
          "output_type": "stream",
          "text": [
            "Best: 0.8305785195393995 using {'batch_size': 64, 'epochs': 20}\n",
            "Means: 0.8223140402273699, Stdev: 0.01647397783782909 with: {'batch_size': 16, 'epochs': 20}\n",
            "Means: 0.8181818098076119, Stdev: 0.006438149940411827 with: {'batch_size': 16, 'epochs': 80}\n",
            "Means: 0.8305785165837973, Stdev: 0.023864639399659326 with: {'batch_size': 32, 'epochs': 20}\n",
            "Means: 0.8305785151059962, Stdev: 0.025555007069023375 with: {'batch_size': 32, 'epochs': 80}\n",
            "Means: 0.8305785195393995, Stdev: 0.04283336474787829 with: {'batch_size': 64, 'epochs': 20}\n",
            "Means: 0.818181831235728, Stdev: 0.023903363515775548 with: {'batch_size': 64, 'epochs': 80}\n"
          ],
          "name": "stdout"
        }
      ]
    },
    {
      "cell_type": "code",
      "metadata": {
        "id": "vpTfJLwXszFj",
        "colab_type": "code",
        "outputId": "283cf4fc-0b48-458c-b588-ea050b298e75",
        "colab": {
          "base_uri": "https://localhost:8080/",
          "height": 34
        }
      },
      "source": [
        "print(f'{grid_result.best_params_} {grid_result.best_score_}')"
      ],
      "execution_count": 0,
      "outputs": [
        {
          "output_type": "stream",
          "text": [
            "{'batch_size': 64, 'epochs': 20} 0.8305785195393995\n"
          ],
          "name": "stdout"
        }
      ]
    },
    {
      "cell_type": "code",
      "metadata": {
        "id": "kSkJMASwtchL",
        "colab_type": "code",
        "colab": {}
      },
      "source": [
        ""
      ],
      "execution_count": 0,
      "outputs": []
    }
  ]
}