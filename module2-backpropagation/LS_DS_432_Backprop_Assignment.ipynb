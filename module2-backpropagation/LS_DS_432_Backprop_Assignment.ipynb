{
 "cells": [
  {
   "cell_type": "markdown",
   "metadata": {},
   "source": [
    "# <u>Intro to Neural Networks 2</u>\n",
    "## Gradient Descent, Backpropogation of Errors, and Combinitorial Explosions\n",
    "<img src=\"https://blog.paperspace.com/content/images/2018/05/challenges-1.png\" alt=\"title\" title=\"titl\"/>\n",
    "<img src=\"https://cdn-images-1.medium.com/max/1000/1*lIthvknHt9Tok5aIj4e__g.png\" alt=\"abstraction\" title=\"abstraction\"/>\n",
    "\n",
    "\n",
    "___\n",
    "<p style=\"page-break-after:always;\"></p>"
   ]
  },
  {
   "cell_type": "markdown",
   "metadata": {},
   "source": [
    "# 1. The Limitations of The Perceptron\n",
    "<img src=\"https://www.lucidarme.me/wp-content/uploads/2017/12/perceptron-2.png\" alt=\"perc\" title=\"percs\"/>\n",
    "\n",
    "___\n",
    "\n",
    "<p style=\"page-break-after:always;\"></p>"
   ]
  },
  {
   "cell_type": "markdown",
   "metadata": {},
   "source": [
    "## The Perceptron (Revisited)\n",
    "___\n",
    "\n",
    "\n",
    "The Artificial Neuron, or Perceptron is not a new invention. The Perceptron has existed since 1957, but until recent years it was all but forgotten.\n",
    "\n",
    "The first Perceptron was invented in 1957 at the Cornell Aeronautical Laboratory by Frank Rosenblatt, heavily funded by the US Navy.\n",
    "\n",
    "The Perceptron was intended to be a standalone machine, not a program. It's first implementation was in software for the IBM 704. Soon custom hardware was developed for it, and it was named the \"Mark 1 Perceptron\".\n",
    "\n",
    "It was designed for image recognition and used 400 photocells. Weights were encoded in potentiometers, not software. Weight updates during learning were performed by electric motors.\n",
    "\n",
    "\n",
    "<img src=\"https://upload.wikimedia.org/wikipedia/en/thumb/5/52/Mark_I_perceptron.jpeg/220px-Mark_I_perceptron.jpeg\" alt=\"perc1\" title=\"perc1\"/>\n",
    "\n",
    "> Mark I Perceptron machine, the first implementation of the perceptron algorithm. It was connected to a camera with 20×20 cadmium sulfide photocells to make a 400-pixel image. The main visible feature is a patch panel that set different combinations of input features. To the right, arrays of potentiometers that implemented the adaptive weights.\n",
    "___\n",
    "\n",
    "**At first, the peceptron seemed promising. The Navy believed the perceptron could become a computer concious of its own existence, until in 1969 a famous book titled *Perceptrons* by Marvin Minsky and Seymour Papert showed that it was impossible for the perceptron to learn the XOR function. It is often believed (incorrectly that they also conjectured that a similar result would hold for a multi-layer perceptron network. However, this is not true. Nevertheless, The young Artificial Intelligence community quickly became skeptical. The often miscited Minsky/Papert text caused a significant decline in further research and support.**\n",
    "\n",
    "\n",
    "\n",
    "\n",
    "___\n",
    "\n",
    "\n",
    "\n",
    "<p style=\"page-break-after:always;\"></p>\n"
   ]
  },
  {
   "cell_type": "markdown",
   "metadata": {},
   "source": [
    "## The XOR Function (Exclusive OR)\n",
    "\n",
    "\n",
    "The XOR, or “exclusive or”, problem was a classic problem in neural network research. It is the problem of using a neural network to predict the outputs of XOR logic gates given two binary inputs. An XOR function should return a true value if the two inputs are not equal and a false value if they are equal. All possible inputs and predicted outputs are shown in figure 1.\n",
    "\n",
    "<img src=\"https://www.dyclassroom.com/image/topic/logic-gate/xor-xnor/xor-table.png\" alt=\"XOR\" title=\"XOR\" height=\"200\" width=\"300\"/>\n",
    "\n",
    "**A single Neuron cannot be used to handle the XOR function, because its outputs are not linearly seperable - in 2 dimensional space, a single line cannot be drawn to represent a proper decision boundary.**\n",
    "___\n",
    ">*The figure below shows that both the **AND** and **OR** functions are linearly seperable*\n",
    "\n",
    "<img src=\"https://i.imgur.com/ZUgEwLw.jpg\" alt=\"andor\" title=\"andor\"/>\n",
    "<p style=\"page-break-before:always;\"></p>"
   ]
  },
  {
   "cell_type": "markdown",
   "metadata": {},
   "source": [
    "### However, solving the XOR function with a single neuron is impossible\n",
    "<img src=\"https://cdn-images-1.medium.com/max/800/1*wEomny4n9fzKL7X9TABWjw.png\" alt=\"XOR\" title=\"XOR\"/>\n",
    "\n",
    "\n",
    "### Correct classification of XOR requires atleast two decision boundaries - but contrary to the doubts decades earlier, a Neural Network can learn the concept of XOR.\n",
    "<img src=\"https://i.imgur.com/hc1PTO8.jpg\" alt=\"XOR\" title=\"XOR\"/>\n",
    "<p style=\"page-break-after:always;\"></p>"
   ]
  },
  {
   "cell_type": "markdown",
   "metadata": {},
   "source": [
    "# 2. Connecting the Dots\n",
    "___\n",
    "\n",
    "<img src=\"http://aa.ssdi.di.fct.unl.pt/Lectures/lec/images08/L08-xorplot-2.png\" alt=\"bounds\" title=\"bound\" height=\"300\" width=\"400\"/>\n",
    "\n",
    "\n",
    "<img src=\"https://i.imgur.com/Z7X1LtI.jpg\" alt=\"hyperplane\" title=\"hyperplane\"/>\n",
    "<p style=\"page-break-after:always;\"></p>\n",
    "\n"
   ]
  },
  {
   "cell_type": "markdown",
   "metadata": {},
   "source": [
    "## Computational Limits\n",
    "An obvious solution to the aforementioned problem was to stack multiple perceptrons together. Although, there was a problem with that. When Rosenblatt introduced the perceptron, he also introduced the perceptron learning rule (the algorithm used to calculate the correct weights for a perceptron automatically). The rule wasn't designed for use with multiple perceptrons, and as such it didn't scale well on multi-layered networks of perceptrons, thus making the training process of these machines exponentially more complex.\n",
    "\n",
    "<img src=\"https://www.wikitechy.com/technology/wp-content/uploads/2017/05/A-Time-Complexity.png\" alt=\"complexity\" title=\"complexity\"/>\n",
    "\n",
    "\n",
    "**It is possible to model the XOR function if perceptrons are arranged in sequence, but if the output of the network is determined by a relationship of neurons, error must be calculated in terms of that relationship of neurons. Multilayer Neural Networks were thought to be impractical because attempts to train them resulted in combinitorial explosions. A widely accepted solution to this problem was not found until *Learning representations by back-propogating errors* was published in 1986.**\n",
    "<p style=\"page-break-before:always;\"></p>"
   ]
  },
  {
   "cell_type": "markdown",
   "metadata": {},
   "source": [
    "______"
   ]
  },
  {
   "cell_type": "markdown",
   "metadata": {},
   "source": [
    "\n",
    "\n",
    "# 3. Solving XOR\n",
    "____"
   ]
  },
  {
   "cell_type": "code",
   "execution_count": 4,
   "metadata": {},
   "outputs": [],
   "source": [
    "import numpy as np\n",
    "np.random.seed(42)"
   ]
  },
  {
   "cell_type": "markdown",
   "metadata": {},
   "source": [
    "<img src=\"http://hyperphysics.phy-astr.gsu.edu/hbase/Electronic/ietron/xor.gif\" alt=\"xor2\" title=\"xor2\"/>"
   ]
  },
  {
   "cell_type": "markdown",
   "metadata": {},
   "source": [
    "### Defining XOR"
   ]
  },
  {
   "cell_type": "code",
   "execution_count": 98,
   "metadata": {},
   "outputs": [],
   "source": [
    "                   #A|B\n",
    "inputs = np.array([[0,0],\n",
    "                   [0,1],\n",
    "                   [1,0],\n",
    "                   [1,1]])\n",
    "\n",
    "                  #Out\n",
    "outputs= np.array([0,1,1,0])\n",
    "\n",
    "X = inputs\n",
    "y = outputs"
   ]
  },
  {
   "cell_type": "markdown",
   "metadata": {},
   "source": [
    "<p style=\"page-break-before:always;\"></p>\n"
   ]
  },
  {
   "cell_type": "markdown",
   "metadata": {},
   "source": [
    "______\n",
    "<p style=\"page-break-before:always;\"></p>"
   ]
  },
  {
   "cell_type": "markdown",
   "metadata": {},
   "source": [
    "<p style=\"page-break-before:always;\"></p>\n"
   ]
  },
  {
   "cell_type": "markdown",
   "metadata": {},
   "source": [
    "\n",
    "<p style=\"page-break-before:always;\"></p>\n"
   ]
  },
  {
   "cell_type": "markdown",
   "metadata": {},
   "source": [
    "### Creating a network structure"
   ]
  },
  {
   "cell_type": "code",
   "execution_count": 127,
   "metadata": {},
   "outputs": [],
   "source": [
    "class Neural_Network(object):\n",
    "    def __init__(self):\n",
    "    \n",
    "    #Define Network Structure\n",
    "    \n",
    "        self.inputLayerSize = 2\n",
    "        self.outputLayerSize = 1\n",
    "        self.hiddenLayerSize = 3\n",
    "        \n",
    "    #Define Weights (Parameters)\n",
    "        \n",
    "        #Assigning a random weight to each input\n",
    "        self.W1 = np.random.randn(self.inputLayerSize, self.hiddenLayerSize)\n",
    "        \n",
    "        #Assigning a random weight to the output of each neuron in the hidden layer\n",
    "        self.W2 = np.random.randn(self.hiddenLayerSize, self.outputLayerSize)\n",
    "    \n",
    "    #Propagate inputs through the network\n",
    "    \n",
    "    def forward(self, X):\n",
    "        \n",
    "        #The set of values of the hidden layer, determined by the dot product of inputs and their weights \n",
    "        self.z2 = np.dot(X, self.W1)\n",
    "        #The output of the hidden layer after the activation function has been applied\n",
    "        self.a2 = self.sigmoid(self.z2)\n",
    "        #Values entering the output layer, determined by the dot product of the hidden layer's activations and their weights\n",
    "        self.z3 = np.dot(self.a2, self.W2)\n",
    "        #The ouput of the network, applying the activation function on the output layer\n",
    "        yHat = self.sigmoid(self.z3)\n",
    "        return yHat\n",
    "\n",
    "    #Apply sigmoid activation function to scalar, vector, or matrix\n",
    "\n",
    "    def sigmoid(self, z):\n",
    "        return 1/(1+np.exp(-z))\n",
    "        "
   ]
  },
  {
   "cell_type": "code",
   "execution_count": 94,
   "metadata": {},
   "outputs": [],
   "source": [
    "NN = Neural_Network()"
   ]
  },
  {
   "cell_type": "markdown",
   "metadata": {},
   "source": [
    "<p style=\"page-break-before:always;\"></p>\n",
    "\n",
    "<p style=\"page-break-before:always;\"></p>\n",
    "\n",
    "<p style=\"page-break-before:always;\"></p>\n"
   ]
  },
  {
   "cell_type": "markdown",
   "metadata": {},
   "source": [
    "<p style=\"page-break-before:always;\"></p>"
   ]
  },
  {
   "cell_type": "markdown",
   "metadata": {},
   "source": [
    "### Introducing XOR to the network"
   ]
  },
  {
   "cell_type": "code",
   "execution_count": 95,
   "metadata": {},
   "outputs": [],
   "source": [
    "yHat = NN.forward(X)"
   ]
  },
  {
   "cell_type": "code",
   "execution_count": 96,
   "metadata": {},
   "outputs": [
    {
     "data": {
      "text/plain": [
       "array([[0.5389532 ],\n",
       "       [0.56661758],\n",
       "       [0.4884118 ],\n",
       "       [0.51250773]])"
      ]
     },
     "execution_count": 96,
     "metadata": {},
     "output_type": "execute_result"
    }
   ],
   "source": [
    "yHat"
   ]
  },
  {
   "cell_type": "code",
   "execution_count": 97,
   "metadata": {},
   "outputs": [
    {
     "data": {
      "text/plain": [
       "array([[0.],\n",
       "       [1.],\n",
       "       [1.],\n",
       "       [0.]])"
      ]
     },
     "execution_count": 97,
     "metadata": {},
     "output_type": "execute_result"
    }
   ],
   "source": [
    "y"
   ]
  },
  {
   "cell_type": "markdown",
   "metadata": {},
   "source": [
    "### The network fails to solve XOR (A learning algorithm has not yet been defined)"
   ]
  },
  {
   "cell_type": "markdown",
   "metadata": {},
   "source": [
    "| Output | Actual |\n",
    "|----|----|\n",
    "| 0.71  | 1 |\n",
    "| 0.80  | 1  |\n",
    "| 0.73  | 1  |\n",
    "| 0.80  | 0  |"
   ]
  },
  {
   "cell_type": "markdown",
   "metadata": {},
   "source": [
    "## Training the Network\n",
    "___\n",
    "\n",
    "In order for the model to learn, we need to quantify exactly how wrong its outputs are.\n",
    "\n",
    "A cost function is needed to interpret the network's errors.\n",
    "\n",
    "Cost must be calculated from the set of inputs, and the set of their weights. The inputs cannot be changed, so only the weights can be changed to reduce cost.\n",
    "\n",
    "**But, can it be proved that there exists a combination of weights that solves XOR?**\n",
    "\n",
    "**If such a combination even exists, how could it be found?**\n",
    "\n",
    "___\n",
    "### Imagine this:\n",
    "\n",
    "   > This network has 9 weights. Suppose there exists a combination of these 9 weights that correctly solves XOR.                                                                                                                    \n",
    "   > Testing every possible combination of the weights will eventually yield the correct combination.\n",
    "\n",
    "<p style=\"page-break-before:always;\"></p>\n"
   ]
  },
  {
   "cell_type": "markdown",
   "metadata": {},
   "source": [
    "___\n",
    "\n",
    "<p style=\"page-break-before:always;\"></p>\n"
   ]
  },
  {
   "cell_type": "markdown",
   "metadata": {},
   "source": [
    "\n",
    "<p style=\"page-break-before:always;\"></p>\n"
   ]
  },
  {
   "cell_type": "markdown",
   "metadata": {},
   "source": [
    "\n",
    "<p style=\"page-break-before:always;\"></p>\n"
   ]
  },
  {
   "cell_type": "markdown",
   "metadata": {},
   "source": [
    "\n",
    "<p style=\"page-break-before:always;\"></p>\n"
   ]
  },
  {
   "cell_type": "markdown",
   "metadata": {},
   "source": [
    "<p style=\"page-break-before:always;\"></p>\n",
    "<p style=\"page-break-before:always;\"></p>\n",
    "<p style=\"page-break-before:always;\"></p>\n",
    "<p style=\"page-break-before:always;\"></p>\n",
    "<p style=\"page-break-before:always;\"></p>\n"
   ]
  },
  {
   "cell_type": "markdown",
   "metadata": {},
   "source": [
    "____"
   ]
  },
  {
   "cell_type": "markdown",
   "metadata": {},
   "source": [
    "<p style=\"page-break-before:always;\"></p>"
   ]
  },
  {
   "cell_type": "markdown",
   "metadata": {},
   "source": [
    "## The Curse of Dimensionality\n",
    "\n",
    "___\n",
    "\n",
    ">Suppose the network only has 1 weight.                                                                                                                                                                                       \n",
    ">To find the optimal value of this weight, such that error is minimized, one can simply test a massive range of values.\n",
    "\n",
    "### Testing 1000 Possible Values for a Single Weight:\n"
   ]
  },
  {
   "cell_type": "code",
   "execution_count": null,
   "metadata": {},
   "outputs": [],
   "source": [
    "import time \n",
    "\n",
    "weights_to_try = np.linspace(-10,10,1000)\n",
    "costs = np.zeros(1000)\n",
    "\n",
    "start_time = time.clock()\n",
    "\n",
    "#Trying 1000 different weights in the network\n",
    "for i in range(1000):\n",
    "    NN.W1[0,0] = weights_to_try[i]\n",
    "    yHat = NN.forward(X)\n",
    "    costs[i] = 0.5*sum((y-yHat)**2)\n",
    "\n",
    "end_time = time.clock()"
   ]
  },
  {
   "cell_type": "code",
   "execution_count": 15,
   "metadata": {},
   "outputs": [
    {
     "data": {
      "text/plain": [
       "0.025193000000000243"
      ]
     },
     "execution_count": 15,
     "metadata": {},
     "output_type": "execute_result"
    }
   ],
   "source": [
    "time_elapsed = end_time - start_time\n",
    "time_elapsed"
   ]
  },
  {
   "cell_type": "markdown",
   "metadata": {},
   "source": [
    "> 1000 Different Weights can be tested in 0.025 seconds!                                                                                                                                                                  \n",
    "> So, 2 weights should take 0.5 seconds? Right?\n"
   ]
  },
  {
   "cell_type": "markdown",
   "metadata": {},
   "source": [
    "<p style=\"page-break-before:always;\"></p>\n"
   ]
  },
  {
   "cell_type": "markdown",
   "metadata": {},
   "source": [
    "___"
   ]
  },
  {
   "cell_type": "markdown",
   "metadata": {},
   "source": [
    "<p style=\"page-break-before:always;\"></p>"
   ]
  },
  {
   "cell_type": "markdown",
   "metadata": {},
   "source": []
  },
  {
   "cell_type": "markdown",
   "metadata": {},
   "source": [
    "### Testing 1000 Possible Values for Two Different Weights"
   ]
  },
  {
   "cell_type": "code",
   "execution_count": null,
   "metadata": {},
   "outputs": [],
   "source": [
    "\n",
    "weights_to_try = np.linspace(-10,10,1000)\n",
    "costs = np.zeros((1000,1000))\n",
    "\n",
    "start_time = time.clock()\n",
    "\n",
    "#Trying 1000 different weights in the network\n",
    "for i in range(1000):\n",
    "    for j in range(1000):\n",
    "        NN.W1[0,0] = weights_to_try[i]\n",
    "        NN.W1[0,1] = weights_to_try[j]\n",
    "        yHat = NN.forward(X)\n",
    "        costs[i] = 0.5*sum((y-yHat)**2)\n",
    "\n",
    "end_time = time.clock()"
   ]
  },
  {
   "cell_type": "code",
   "execution_count": 19,
   "metadata": {},
   "outputs": [
    {
     "data": {
      "text/plain": [
       "17.723762999999998"
      ]
     },
     "execution_count": 19,
     "metadata": {},
     "output_type": "execute_result"
    }
   ],
   "source": [
    "time_elapsed = end_time - start_time\n",
    "time_elapsed"
   ]
  },
  {
   "cell_type": "markdown",
   "metadata": {},
   "source": [
    ">Searching through two weights would only take 17.7 seconds\n",
    "\n",
    "**But searching for three weights would take approximately *Eleven Hours***"
   ]
  },
  {
   "cell_type": "code",
   "execution_count": 20,
   "metadata": {},
   "outputs": [
    {
     "data": {
      "text/plain": [
       "792744799594114.8"
      ]
     },
     "execution_count": 20,
     "metadata": {},
     "output_type": "execute_result"
    }
   ],
   "source": [
    "0.025*(1000**(9-1))/(3600*24*365)"
   ]
  },
  {
   "cell_type": "markdown",
   "metadata": {},
   "source": [
    "***And searching all nine weights would take (792744799594114.8)...Years. (Longer than the universe has existed)***"
   ]
  },
  {
   "cell_type": "markdown",
   "metadata": {},
   "source": [
    "### This is the Combinitorial Explosion, and lack of a solution for this exact problem is why research and funding halted for decades."
   ]
  },
  {
   "cell_type": "markdown",
   "metadata": {},
   "source": [
    "## Gradient Descent - Navigating N-Dimensional Space\n",
    "\n",
    "___\n",
    "\n",
    "\n",
    "\n",
    "<img src=\"http://www.its.caltech.edu/~nazizanr/imgs/nonconvex3.jpg\" alt=\"gd\" title=\"gd\"/>\n"
   ]
  },
  {
   "cell_type": "markdown",
   "metadata": {},
   "source": [
    "___\n",
    "#### Consider the 3-dimensional graph below in the context of a cost function. Our goal is to move from the mountain in the top right corner (high cost) to the dark blue sea in the bottom left (low cost). The arrows represent the direction of steepest descent (negative gradient) from any given point–the direction that decreases the cost function as quickly as possible\n",
    "\n",
    "<img src=\"https://ml-cheatsheet.readthedocs.io/en/latest/_images/gradient_descent.png\" alt=\"gd\" title=\"gd\"/>\n",
    "\n",
    "#### Starting at the top of the mountain, we take our first step downhill in the direction specified by the negative gradient. Next we recalculate the negative gradient (passing in the coordinates of our new point) and take another step in the direction it specifies. We continue this process iteratively until we get to the bottom of our graph, or to a point where we can no longer move downhill–a local minimum. \n",
    "\n",
    "<img src=\"https://ml-cheatsheet.readthedocs.io/en/latest/_images/gradient_descent_demystified.png\" alt=\"gd\" title=\"gd\"/>\n",
    "\n",
    "#### The size of these steps is called the learning rate. With a high learning rate we can cover more ground each step, but we risk overshooting the lowest point since the slope of the hill is constantly changing. With a very low learning rate, we can confidently move in the direction of the negative gradient since we are recalculating it so frequently. A low learning rate is more precise, but calculating the gradient is time-consuming, so it will take us a very long time to get to the bottom.\n"
   ]
  },
  {
   "cell_type": "markdown",
   "metadata": {},
   "source": [
    "## Calcluating Gradients\n",
    "___\n",
    "<img src=\"https://image.slidesharecdn.com/machinelearning-talk-140315185910-phpapp02/95/utah-code-camp-2014-learning-from-data-by-thomas-holloway-19-638.jpg?cb=1394910152\" alt=\"gd\" title=\"gd\"/>\n",
    "\n",
    "The goal of Gradient Descent is to move in the direction of a local or global minimum in N-dimensional space.                                                                                                              \n",
    "This can be described as the rate of change of the cost function(J), with respect to weights(W).\n",
    "This can be achieved by solving for a partial derivative for each weight \n",
    "\n",
    "We can derive an expression for $\\frac{\\partial J}{\\partial W}$ that will give us the rate of change of J with respect to W for any value of W. \n",
    "\n",
    "\n",
    "> If $\\frac{\\partial J}{\\partial W}$ is positive, the cost function (error) is increasing                                                                                                                                  \n",
    "If $\\frac{\\partial J}{\\partial W}$ is negative, the cost function (error) is decreasing\n",
    "\n",
    "**Moving along a bounded gradient like this allows optimal weights to be found, while avoiding the combinitorial explosion.**"
   ]
  },
  {
   "cell_type": "markdown",
   "metadata": {},
   "source": [
    "<p style=\"page-break-before:always;\"></p>"
   ]
  },
  {
   "cell_type": "markdown",
   "metadata": {},
   "source": [
    "____\n",
    "<p style=\"page-break-before:always;\"></p>\n"
   ]
  },
  {
   "cell_type": "markdown",
   "metadata": {},
   "source": [
    "<p style=\"page-break-before:always;\"></p>\n"
   ]
  },
  {
   "cell_type": "markdown",
   "metadata": {},
   "source": [
    "<p style=\"page-break-before:always;\"></p>\n",
    "\n"
   ]
  },
  {
   "cell_type": "markdown",
   "metadata": {},
   "source": [
    "# Solving XOR:\n"
   ]
  },
  {
   "cell_type": "code",
   "execution_count": 57,
   "metadata": {},
   "outputs": [],
   "source": [
    "import numpy\n",
    "import tensorflow as tf\n",
    "from matplotlib.colors import ListedColormap\n",
    "import matplotlib.pyplot as plt"
   ]
  },
  {
   "cell_type": "code",
   "execution_count": 73,
   "metadata": {},
   "outputs": [],
   "source": [
    "def tanh(x):\n",
    "    return (1.0 - numpy.exp(-2*x))/(1.0 + numpy.exp(-2*x))\n",
    "\n",
    "def tanh_derivative(x):\n",
    "    return (1 + tanh(x))*(1 - tanh(x))\n",
    "\n",
    "def softmax(A):\n",
    "    e = np.exp(A)\n",
    "    return  e / e.sum(axis=0).reshape((-1,1))"
   ]
  },
  {
   "cell_type": "code",
   "execution_count": 88,
   "metadata": {},
   "outputs": [],
   "source": [
    "class NeuralNetwork:\n",
    "    #########\n",
    "    # parameters\n",
    "    # ----------\n",
    "    # self:      the class object itself\n",
    "    # net_arch:  consists of a list of integers, indicating\n",
    "    #            the number of neurons in each layer, i.e. the network architecture\n",
    "    #########\n",
    "    def __init__(self, net_arch):\n",
    "        numpy.random.seed(0)\n",
    "        \n",
    "        # Initialized the weights, making sure we also \n",
    "        # initialize the weights for the biases that we will add later\n",
    "        self.activity = tanh\n",
    "        self.softmax = softmax\n",
    "        self.activity_derivative = tanh_derivative\n",
    "        self.layers = len(net_arch)\n",
    "        self.steps_per_epoch = 1\n",
    "        self.arch = net_arch\n",
    "        self.weights = []\n",
    "        self.multi = False\n",
    "\n",
    "        # Random initialization with range of weight values (-1,1)\n",
    "        for layer in range(self.layers - 1):\n",
    "            w = 2*numpy.random.rand(net_arch[layer] + 1, net_arch[layer+1]) - 1\n",
    "            self.weights.append(w)\n",
    "    \n",
    "    def _forward_prop(self, x):\n",
    "        y = x\n",
    "\n",
    "        for i in range(len(self.weights)-1):\n",
    "            activation = numpy.dot(y[i], self.weights[i])\n",
    "            activity = self.activity(activation)\n",
    "\n",
    "            # add the bias for the next layer\n",
    "            activity = numpy.concatenate((numpy.ones(1), numpy.array(activity)))\n",
    "            y.append(activity)\n",
    "\n",
    "        # last layer\n",
    "        if self.multi == True:\n",
    "            activation = numpy.dot(y[-1], self.weights[-1])\n",
    "            activity = self.softmax(activation)\n",
    "            y.append(activity)\n",
    "            \n",
    "        else:\n",
    "            activation = numpy.dot(y[-1], self.weights[-1])\n",
    "            activity = self.activity(activation)\n",
    "            y.append(activity)\n",
    "        \n",
    "        return y\n",
    "    \n",
    "    def _back_prop(self, y, target, learning_rate):\n",
    "        error = target - y[-1]\n",
    "        delta_vec = [error * self.activity_derivative(y[-1])]\n",
    "\n",
    "        # we need to begin from the back, from the next to last layer\n",
    "        for i in range(self.layers-2, 0, -1):\n",
    "            error = delta_vec[-1].dot(self.weights[i][1:].T)\n",
    "            error = error*self.activity_derivative(y[i][1:])\n",
    "            delta_vec.append(error)\n",
    "\n",
    "        # Now we need to set the values from back to front\n",
    "        delta_vec.reverse()\n",
    "        \n",
    "        # Finally, we adjust the weights, using the backpropagation rules\n",
    "        for i in range(len(self.weights)):\n",
    "            layer = y[i].reshape(1, self.arch[i]+1)\n",
    "            delta = delta_vec[i].reshape(1, self.arch[i+1])\n",
    "            self.weights[i] += learning_rate*layer.T.dot(delta)\n",
    "    \n",
    "    #########\n",
    "    # parameters\n",
    "    # ----------\n",
    "    # self:    the class object itself\n",
    "    # data:    the set of all possible pairs of booleans True or False indicated by the integers 1 or 0\n",
    "    # labels:  the result of the logical operation 'xor' on each of those input pairs\n",
    "    #########\n",
    "    def fit(self, data, labels, learning_rate=0.1, epochs=100, multi = False):\n",
    "        \n",
    "        self.multi = multi\n",
    "        # Add bias units to the input layer - \n",
    "        # add a \"1\" to the input data (the always-on bias neuron)\n",
    "        ones = numpy.ones((1, data.shape[0]))\n",
    "        Z = numpy.concatenate((ones.T, data), axis=1)\n",
    "        \n",
    "        for k in range(epochs):\n",
    "            if (k+1) % 75000 == 0:\n",
    "                print('epochs: {}'.format(k+1))\n",
    "        \n",
    "            sample = numpy.random.randint(X.shape[0])\n",
    "\n",
    "            # We will now go ahead and set up our feed-forward propagation:\n",
    "            x = [Z[sample]]\n",
    "            y = self._forward_prop(x)\n",
    "\n",
    "            # Now we do our back-propagation of the error to adjust the weights:\n",
    "            target = labels[sample]\n",
    "            self._back_prop(y, target, learning_rate)\n",
    "    \n",
    "    #########\n",
    "    # the predict function is used to check the prediction result of\n",
    "    # this neural network.\n",
    "    # \n",
    "    # parameters\n",
    "    # ----------\n",
    "    # self:   the class object itself\n",
    "    # x:      single input data\n",
    "    #########\n",
    "    def predict_single_data(self, x):\n",
    "        val = numpy.concatenate((numpy.ones(1).T, numpy.array(x)))\n",
    "        for i in range(0, len(self.weights)):\n",
    "            val = self.activity(numpy.dot(val, self.weights[i]))\n",
    "            val = numpy.concatenate((numpy.ones(1).T, numpy.array(val)))\n",
    "        return val[1]\n",
    "    \n",
    "    #########\n",
    "    # the predict function is used to check the prediction result of\n",
    "    # this neural network.\n",
    "    # \n",
    "    # parameters\n",
    "    # ----------\n",
    "    # self:   the class object itself\n",
    "    # X:      the input data array\n",
    "    #########\n",
    "    def predict(self, X):\n",
    "        Y = numpy.array([]).reshape(0, self.arch[-1])\n",
    "        for x in X:\n",
    "            y = numpy.array([[self.predict_single_data(x)]])\n",
    "            Y = numpy.vstack((Y,y))\n",
    "        return Y"
   ]
  },
  {
   "cell_type": "code",
   "execution_count": 91,
   "metadata": {},
   "outputs": [
    {
     "name": "stdout",
     "output_type": "stream",
     "text": [
      "epochs: 75000\n",
      "Final prediction\n",
      "[0 0] 0.0004044491966922296\n",
      "[0 1] 0.9981341165702956\n",
      "[1 0] 0.9988066954493169\n",
      "[1 1] 0.0005535045751147875\n"
     ]
    }
   ],
   "source": [
    "nn = NeuralNetwork([2,3,1])\n",
    "\n",
    "# Set the input data\n",
    "X = numpy.array([[0, 0], [0, 1],\n",
    "                [1, 0], [1, 1]])\n",
    "\n",
    "# Set the labels, the correct results for the xor operation\n",
    "y = numpy.array([0, 1, \n",
    "                 1, 0])\n",
    "\n",
    "# Call the fit function and train the network for a chosen number of epochs\n",
    "nn.fit(X, y, learning_rate = 0.025, epochs=75000)\n",
    "\n",
    "# Show the prediction results\n",
    "print(\"Final prediction\")\n",
    "for s in X:\n",
    "    print(s, nn.predict_single_data(s))\n"
   ]
  },
  {
   "cell_type": "markdown",
   "metadata": {},
   "source": [
    "\n",
    "| Output | Actual |\n",
    "|----|----|\n",
    "| 0.00 | 0 |\n",
    "| 0.99  | 1  |\n",
    "| 0.99  | 1  |\n",
    "| 0.00  | 0  |\n"
   ]
  },
  {
   "cell_type": "code",
   "execution_count": 141,
   "metadata": {},
   "outputs": [],
   "source": [
    "import numpy as np\n",
    "def plot_decision_regions(X, y, classifier, test_idx=None, resolution=0.02):\n",
    "\n",
    "    # setup marker generator and color map\n",
    "    markers = ('s', 'x', 'o', '^', 'v')\n",
    "    colors = ('red', 'blue', 'lightgreen', 'gray', 'cyan')\n",
    "    cmap = ListedColormap(colors[:len(np.unique(y))])\n",
    "\n",
    "    # plot the decision surface\n",
    "    x1_min, x1_max = X[:, 0].min() - 1, X[:, 0].max() + 1\n",
    "    x2_min, x2_max = X[:, 1].min() - 1, X[:, 1].max() + 1\n",
    "    xx1, xx2 = np.meshgrid(np.arange(x1_min, x1_max, resolution),\n",
    "                           np.arange(x2_min, x2_max, resolution))\n",
    "    Z = classifier.predict(np.array([xx1.ravel(), xx2.ravel()]).T)\n",
    "    Z = Z.reshape(xx1.shape)\n",
    "    plt.contourf(xx1, xx2, Z, alpha=0.4, cmap=cmap)\n",
    "    plt.xlim(xx1.min(), xx1.max())\n",
    "    plt.ylim(xx2.min(), xx2.max())\n",
    "\n",
    "    # plot class samples\n",
    "    for idx, cl in enumerate(np.unique(y)):\n",
    "        plt.scatter(x=X[y == cl, 0], y=X[y == cl, 1],\n",
    "                    alpha=0.8, c=cmap(idx),\n",
    "                    marker=markers[idx], label=cl)\n",
    "\n",
    "    # highlight test samples\n",
    "    if test_idx:\n",
    "        # plot all samples\n",
    "        X_test, y_test = X[test_idx, :], y[test_idx]\n",
    "\n",
    "        plt.scatter(X_test[:, 0],\n",
    "                    X_test[:, 1],\n",
    "                    c='',\n",
    "                    alpha=1.0,\n",
    "                    linewidths=1,\n",
    "                    marker='o',\n",
    "                    s=55, label='test set')\n"
   ]
  },
  {
   "cell_type": "code",
   "execution_count": 143,
   "metadata": {},
   "outputs": [
    {
     "name": "stderr",
     "output_type": "stream",
     "text": [
      "'c' argument looks like a single numeric RGB or RGBA sequence, which should be avoided as value-mapping will have precedence in case its length matches with 'x' & 'y'.  Please use a 2-D array with a single row if you really want to specify the same RGB or RGBA value for all points.\n",
      "'c' argument looks like a single numeric RGB or RGBA sequence, which should be avoided as value-mapping will have precedence in case its length matches with 'x' & 'y'.  Please use a 2-D array with a single row if you really want to specify the same RGB or RGBA value for all points.\n"
     ]
    },
    {
     "data": {
      "image/png": "[encoded data removed]",
      "text/plain": [
       "<Figure size 432x288 with 1 Axes>"
      ]
     },
     "metadata": {
      "needs_background": "light"
     },
     "output_type": "display_data"
    }
   ],
   "source": [
    "plot_decision_regions(X, y, nn)\n",
    "plt.xlabel('x-axis')\n",
    "plt.ylabel('y-axis')\n",
    "plt.legend(loc='upper left')\n",
    "plt.tight_layout()\n",
    "plt.show()"
   ]
  },
  {
   "cell_type": "markdown",
   "metadata": {},
   "source": [
    "# 4. What is the point?\n",
    "> What is the point of this? What is so special about a sequence of Ones and Zeros?\n",
    "\n",
    "___\n",
    "\n",
    "#### Venn Diagram of A (XOR) B:\n",
    "\n",
    "<img src=\"https://upload.wikimedia.org/wikipedia/commons/thumb/4/47/Venn1001.svg/1200px-Venn1001.svg.png\" alt=\"xorv\" title=\"xorv\" height=\"200\" width=\"300\"  />\n",
    "\n",
    "___\n",
    "\n",
    "### XOR Represents the fundamental logical operation for differentiating between two or more distinct ideas. The ability of the human brain to perform XOR logic gives humans the ability assign independent meanings to words. It allows humans to identify distinct objects. XOR is the key to simulating vision.\n",
    "___\n",
    "\n",
    "#### Venn Diagram of A (XOR) B (XOR) C:\n",
    "<img src=\"https://upload.wikimedia.org/wikipedia/commons/thumb/a/ae/Venn_0110_1001.svg/1024px-Venn_0110_1001.svg.png\" alt=\"xorvs\" title=\"xorvs\" height=\"200\" width=\"300\"  />\n"
   ]
  },
  {
   "cell_type": "markdown",
   "metadata": {},
   "source": [
    "# 5. Classification of Handwritten Digits\n",
    "____\n",
    "\n",
    "<img src=\"https://ml4a.github.io/images/figures/mnist-input.png\" alt=\"mnist2\" title=\"mnist2\"  />\n",
    "\n",
    "___\n",
    "\n",
    "<img src=\"https://3qeqpr26caki16dnhd19sv6by6v-wpengine.netdna-ssl.com/wp-content/uploads/2016/05/Examples-from-the-MNIST-dataset.png\" alt=\"mnist1\" title=\"mnist1\" height=\"200\" width=\"300\"  />\n"
   ]
  },
  {
   "cell_type": "markdown",
   "metadata": {
    "colab": {},
    "colab_type": "code",
    "id": "nEREYT-3wI1f"
   },
   "source": [
    "## Context: \n",
    "\n",
    "The data files train.csv and test.csv contain gray-scale images of hand-drawn digits, from zero through nine.\n",
    "\n",
    "Each image is 28 pixels in height and 28 pixels in width, for a total of 784 pixels in total. Each pixel has a single pixel-value associated with it, indicating the lightness or darkness of that pixel, with higher numbers meaning darker. This pixel-value is an integer between 0 and 255, inclusive.\n",
    "\n",
    "The training data set, (train.csv), has 785 columns. The first column, called \"label\", is the digit that was drawn by the user. The rest of the columns contain the pixel-values of the associated image.\n",
    "\n",
    "Each pixel column in the training set has a name like pixelx, where x is an integer between 0 and 783, inclusive. To locate this pixel on the image, suppose that we have decomposed x as x = i * 28 + j, where i and j are integers between 0 and 27, inclusive. Then pixelx is located on row i and column j of a 28 x 28 matrix, (indexing by zero).\n",
    "\n"
   ]
  },
  {
   "cell_type": "markdown",
   "metadata": {},
   "source": [
    "## Setup"
   ]
  },
  {
   "cell_type": "code",
   "execution_count": 102,
   "metadata": {},
   "outputs": [],
   "source": [
    "import numpy as np # linear algebra\n",
    "import pandas as pd # data processing, CSV file I/O (e.g. pd.read_csv)\n",
    "\n",
    "import matplotlib.pyplot as plt\n",
    "import seaborn as sns  # visualization tool\n",
    "# keras imports for the dataset and building our neural network\n",
    "from keras.datasets import mnist\n",
    "from keras.preprocessing import image\n",
    "from keras.utils import to_categorical\n",
    "from keras.models import Sequential, load_model\n",
    "from keras.layers.core import Dense, Dropout, Activation\n",
    "from keras.utils import np_utils\n",
    "\n",
    "from keras.optimizers import Adam\n",
    "from keras.callbacks import ModelCheckpoint\n",
    "import tensorflow as tf\n",
    "\n",
    "seed = 42\n",
    "np.random.seed(seed)\n",
    "\n",
    "from collections import Counter\n",
    "import itertools\n",
    "import os\n"
   ]
  },
  {
   "cell_type": "markdown",
   "metadata": {},
   "source": [
    "<p style=\"page-break-before:always;\"></p>\n"
   ]
  },
  {
   "cell_type": "markdown",
   "metadata": {},
   "source": [
    "____"
   ]
  },
  {
   "cell_type": "markdown",
   "metadata": {},
   "source": [
    "## Loading the Data"
   ]
  },
  {
   "cell_type": "code",
   "execution_count": 105,
   "metadata": {},
   "outputs": [
    {
     "name": "stdout",
     "output_type": "stream",
     "text": [
      "\n",
      "Train Data Info :\n",
      "------------------\n",
      "<class 'pandas.core.frame.DataFrame'>\n",
      "RangeIndex: 60000 entries, 0 to 59999\n",
      "Columns: 785 entries, label to 28x28\n",
      "dtypes: int64(785)\n",
      "memory usage: 359.3 MB\n",
      "\n"
     ]
    }
   ],
   "source": [
    "# Reading the data frames\n",
    "#Training Data\n",
    "train_raw = pd.read_csv(\"mnist_train.csv\") \n",
    "# data info\n",
    "print('')\n",
    "print('Train Data Info :' )\n",
    "print('------------------' )\n",
    "train_raw.info()\n",
    "print('')\n"
   ]
  },
  {
   "cell_type": "code",
   "execution_count": 106,
   "metadata": {},
   "outputs": [
    {
     "name": "stdout",
     "output_type": "stream",
     "text": [
      "data_train shape: (60000, 785)\n",
      "Number of images in train  : 60000\n"
     ]
    },
    {
     "data": {
      "text/html": [
       "<div>\n",
       "<style scoped>\n",
       "    .dataframe tbody tr th:only-of-type {\n",
       "        vertical-align: middle;\n",
       "    }\n",
       "\n",
       "    .dataframe tbody tr th {\n",
       "        vertical-align: top;\n",
       "    }\n",
       "\n",
       "    .dataframe thead th {\n",
       "        text-align: right;\n",
       "    }\n",
       "</style>\n",
       "<table border=\"1\" class=\"dataframe\">\n",
       "  <thead>\n",
       "    <tr style=\"text-align: right;\">\n",
       "      <th></th>\n",
       "      <th>label</th>\n",
       "      <th>1x1</th>\n",
       "      <th>1x2</th>\n",
       "      <th>1x3</th>\n",
       "      <th>1x4</th>\n",
       "      <th>1x5</th>\n",
       "      <th>1x6</th>\n",
       "      <th>1x7</th>\n",
       "      <th>1x8</th>\n",
       "      <th>1x9</th>\n",
       "      <th>...</th>\n",
       "      <th>28x19</th>\n",
       "      <th>28x20</th>\n",
       "      <th>28x21</th>\n",
       "      <th>28x22</th>\n",
       "      <th>28x23</th>\n",
       "      <th>28x24</th>\n",
       "      <th>28x25</th>\n",
       "      <th>28x26</th>\n",
       "      <th>28x27</th>\n",
       "      <th>28x28</th>\n",
       "    </tr>\n",
       "  </thead>\n",
       "  <tbody>\n",
       "    <tr>\n",
       "      <th>0</th>\n",
       "      <td>5</td>\n",
       "      <td>0</td>\n",
       "      <td>0</td>\n",
       "      <td>0</td>\n",
       "      <td>0</td>\n",
       "      <td>0</td>\n",
       "      <td>0</td>\n",
       "      <td>0</td>\n",
       "      <td>0</td>\n",
       "      <td>0</td>\n",
       "      <td>...</td>\n",
       "      <td>0</td>\n",
       "      <td>0</td>\n",
       "      <td>0</td>\n",
       "      <td>0</td>\n",
       "      <td>0</td>\n",
       "      <td>0</td>\n",
       "      <td>0</td>\n",
       "      <td>0</td>\n",
       "      <td>0</td>\n",
       "      <td>0</td>\n",
       "    </tr>\n",
       "    <tr>\n",
       "      <th>1</th>\n",
       "      <td>0</td>\n",
       "      <td>0</td>\n",
       "      <td>0</td>\n",
       "      <td>0</td>\n",
       "      <td>0</td>\n",
       "      <td>0</td>\n",
       "      <td>0</td>\n",
       "      <td>0</td>\n",
       "      <td>0</td>\n",
       "      <td>0</td>\n",
       "      <td>...</td>\n",
       "      <td>0</td>\n",
       "      <td>0</td>\n",
       "      <td>0</td>\n",
       "      <td>0</td>\n",
       "      <td>0</td>\n",
       "      <td>0</td>\n",
       "      <td>0</td>\n",
       "      <td>0</td>\n",
       "      <td>0</td>\n",
       "      <td>0</td>\n",
       "    </tr>\n",
       "    <tr>\n",
       "      <th>2</th>\n",
       "      <td>4</td>\n",
       "      <td>0</td>\n",
       "      <td>0</td>\n",
       "      <td>0</td>\n",
       "      <td>0</td>\n",
       "      <td>0</td>\n",
       "      <td>0</td>\n",
       "      <td>0</td>\n",
       "      <td>0</td>\n",
       "      <td>0</td>\n",
       "      <td>...</td>\n",
       "      <td>0</td>\n",
       "      <td>0</td>\n",
       "      <td>0</td>\n",
       "      <td>0</td>\n",
       "      <td>0</td>\n",
       "      <td>0</td>\n",
       "      <td>0</td>\n",
       "      <td>0</td>\n",
       "      <td>0</td>\n",
       "      <td>0</td>\n",
       "    </tr>\n",
       "    <tr>\n",
       "      <th>3</th>\n",
       "      <td>1</td>\n",
       "      <td>0</td>\n",
       "      <td>0</td>\n",
       "      <td>0</td>\n",
       "      <td>0</td>\n",
       "      <td>0</td>\n",
       "      <td>0</td>\n",
       "      <td>0</td>\n",
       "      <td>0</td>\n",
       "      <td>0</td>\n",
       "      <td>...</td>\n",
       "      <td>0</td>\n",
       "      <td>0</td>\n",
       "      <td>0</td>\n",
       "      <td>0</td>\n",
       "      <td>0</td>\n",
       "      <td>0</td>\n",
       "      <td>0</td>\n",
       "      <td>0</td>\n",
       "      <td>0</td>\n",
       "      <td>0</td>\n",
       "    </tr>\n",
       "    <tr>\n",
       "      <th>4</th>\n",
       "      <td>9</td>\n",
       "      <td>0</td>\n",
       "      <td>0</td>\n",
       "      <td>0</td>\n",
       "      <td>0</td>\n",
       "      <td>0</td>\n",
       "      <td>0</td>\n",
       "      <td>0</td>\n",
       "      <td>0</td>\n",
       "      <td>0</td>\n",
       "      <td>...</td>\n",
       "      <td>0</td>\n",
       "      <td>0</td>\n",
       "      <td>0</td>\n",
       "      <td>0</td>\n",
       "      <td>0</td>\n",
       "      <td>0</td>\n",
       "      <td>0</td>\n",
       "      <td>0</td>\n",
       "      <td>0</td>\n",
       "      <td>0</td>\n",
       "    </tr>\n",
       "  </tbody>\n",
       "</table>\n",
       "<p>5 rows × 785 columns</p>\n",
       "</div>"
      ],
      "text/plain": [
       "   label  1x1  1x2  1x3  1x4  1x5  1x6  1x7  1x8  1x9  ...    28x19  28x20  \\\n",
       "0      5    0    0    0    0    0    0    0    0    0  ...        0      0   \n",
       "1      0    0    0    0    0    0    0    0    0    0  ...        0      0   \n",
       "2      4    0    0    0    0    0    0    0    0    0  ...        0      0   \n",
       "3      1    0    0    0    0    0    0    0    0    0  ...        0      0   \n",
       "4      9    0    0    0    0    0    0    0    0    0  ...        0      0   \n",
       "\n",
       "   28x21  28x22  28x23  28x24  28x25  28x26  28x27  28x28  \n",
       "0      0      0      0      0      0      0      0      0  \n",
       "1      0      0      0      0      0      0      0      0  \n",
       "2      0      0      0      0      0      0      0      0  \n",
       "3      0      0      0      0      0      0      0      0  \n",
       "4      0      0      0      0      0      0      0      0  \n",
       "\n",
       "[5 rows x 785 columns]"
      ]
     },
     "execution_count": 106,
     "metadata": {},
     "output_type": "execute_result"
    }
   ],
   "source": [
    "print('data_train shape:', train_raw.shape)\n",
    "print('Number of images in train  :', train_raw.shape[0])\n",
    "train_raw.head() \n",
    "#The Head Table = 5 rows × 785 columns \n",
    "#The Row = 784 features, 1 label"
   ]
  },
  {
   "cell_type": "code",
   "execution_count": 107,
   "metadata": {},
   "outputs": [
    {
     "name": "stdout",
     "output_type": "stream",
     "text": [
      "Counter({1: 6742, 7: 6265, 3: 6131, 2: 5958, 9: 5949, 0: 5923, 6: 5918, 8: 5851, 4: 5842, 5: 5421})\n"
     ]
    }
   ],
   "source": [
    "z_train = Counter(train_raw['label'])\n",
    "print(z_train)"
   ]
  },
  {
   "cell_type": "code",
   "execution_count": 109,
   "metadata": {},
   "outputs": [
    {
     "name": "stdout",
     "output_type": "stream",
     "text": [
      "\n",
      "Test Data Info :\n",
      "------------------\n",
      "<class 'pandas.core.frame.DataFrame'>\n",
      "RangeIndex: 10000 entries, 0 to 9999\n",
      "Columns: 785 entries, label to 28x28\n",
      "dtypes: int64(785)\n",
      "memory usage: 59.9 MB\n",
      "\n"
     ]
    }
   ],
   "source": [
    "# Reading the data frames\n",
    "#Test Data\n",
    "test_raw = pd.read_csv(\"mnist_test.csv\") \n",
    "# data info\n",
    "print('')\n",
    "print('Test Data Info :' )\n",
    "print('------------------' )\n",
    "test_raw.info()\n",
    "print('')\n"
   ]
  },
  {
   "cell_type": "code",
   "execution_count": 110,
   "metadata": {},
   "outputs": [
    {
     "name": "stdout",
     "output_type": "stream",
     "text": [
      "X_train: [[0. 0. 0. ... 0. 0. 0.]\n",
      " [0. 0. 0. ... 0. 0. 0.]\n",
      " [0. 0. 0. ... 0. 0. 0.]\n",
      " ...\n",
      " [0. 0. 0. ... 0. 0. 0.]\n",
      " [0. 0. 0. ... 0. 0. 0.]\n",
      " [0. 0. 0. ... 0. 0. 0.]]\n",
      "X_train_shape: (60000, 784)\n",
      "X_test.shape: (10000, 784)\n",
      "X_test: [[0. 0. 0. ... 0. 0. 0.]\n",
      " [0. 0. 0. ... 0. 0. 0.]\n",
      " [0. 0. 0. ... 0. 0. 0.]\n",
      " ...\n",
      " [0. 0. 0. ... 0. 0. 0.]\n",
      " [0. 0. 0. ... 0. 0. 0.]\n",
      " [0. 0. 0. ... 0. 0. 0.]]\n",
      "y_train_label: [5 0 4 ... 5 6 8]\n",
      "y_train_label.shape: (60000,)\n",
      "y_test_label: [7 2 1 ... 4 5 6]\n",
      "y_test_label.shape: (10000,)\n",
      "Label: ['5' '0' '4' ... '5' '6' '8']\n"
     ]
    }
   ],
   "source": [
    "# Assign features and corresponding labels\n",
    "#Converting the Pandas frame to numpy \n",
    "\n",
    "#Train data\n",
    "X_train = train_raw.iloc[:,1:].values.astype('float32') # all pixel values in train\n",
    "y_train_label = train_raw.iloc[:,0].values.astype('int32') # only train labels i.e targets digits\n",
    "\n",
    "#Test data\n",
    "X_test = test_raw.iloc[:,1:].values.astype('float32') # or np.array(test.iloc[:,1:],np.float32)  # all pixel values in test\n",
    "y_test_label = test_raw.iloc[:,0].values.astype('int32') # only test labels i.e targets digits\n",
    "\n",
    "#X_train = train_raw.iloc[:, 1:785]\n",
    "#train_label = train_raw.iloc[:, 0]\n",
    "#X_test = test_raw.iloc[:, 1:785]\n",
    "#X_test = test_raw.iloc[:, 1:785]\n",
    "\n",
    "#label values == ['0','1','2','3','4','5','6','7','8','9']\n",
    "label = np.array(train_raw.iloc[:,0],np.str) #or label =  train_raw.iloc[:,0].values.astype('str')\n",
    "\n",
    "print('X_train:', X_train)\n",
    "print('X_train_shape:', X_train.shape)\n",
    "print('X_test.shape:',X_test.shape)\n",
    "print('X_test:', X_test)\n",
    "print('y_train_label:', y_train_label)\n",
    "print('y_train_label.shape:',y_train_label.shape)\n",
    "print('y_test_label:', y_test_label)\n",
    "print('y_test_label.shape:',y_test_label.shape)\n",
    "print('Label:',label)"
   ]
  },
  {
   "cell_type": "code",
   "execution_count": 111,
   "metadata": {},
   "outputs": [
    {
     "data": {
      "image/png": "[encoded data removed]",
      "text/plain": [
       "<Figure size 864x864 with 1 Axes>"
      ]
     },
     "metadata": {
      "needs_background": "light"
     },
     "output_type": "display_data"
    }
   ],
   "source": [
    "def visualize_input(img, ax):\n",
    "    ax.imshow(img, cmap='gray')\n",
    "    width, height = img.shape\n",
    "    thresh = img.max()/2.5\n",
    "    for x in range(width):\n",
    "        for y in range(height):\n",
    "            ax.annotate(str(round(img[x][y],2)), xy=(y,x),\n",
    "                        horizontalalignment='center',\n",
    "                        verticalalignment='center',\n",
    "                        color='white' if img[x][y]<thresh else 'black')\n",
    "\n",
    "fig = plt.figure(figsize = (12,12)) \n",
    "ax = fig.add_subplot(111)\n",
    "#\n",
    "visualize_input(X_test[10].reshape(28,28), ax)"
   ]
  },
  {
   "cell_type": "code",
   "execution_count": 112,
   "metadata": {},
   "outputs": [
    {
     "data": {
      "image/png": "[encoded data removed]",
      "text/plain": [
       "<Figure size 1440x1440 with 14 Axes>"
      ]
     },
     "metadata": {
      "needs_background": "light"
     },
     "output_type": "display_data"
    }
   ],
   "source": [
    "#Drawing Train Data\n",
    "fig = plt.figure(figsize=(20,20))\n",
    "for i in range(14):\n",
    "    ax = fig.add_subplot(7,7,i+1)\n",
    "    ax.imshow(np.reshape(X_train[i],(28,28)),cmap='gray')\n",
    "    plt.tight_layout()\n",
    "    ax.set_title(\"Digit: {}\".format(label[i]))\n",
    "    #ax.set_title(str(label[i]))\n",
    "#fig    "
   ]
  },
  {
   "cell_type": "code",
   "execution_count": 113,
   "metadata": {},
   "outputs": [],
   "source": [
    "# Making sure that the values are float so that we can get decimal points after division\n",
    "X_train = X_train.reshape(60000, 784)\n",
    "X_test = X_test.reshape(10000, 784)\n",
    "X_train = X_train.astype('float32')\n",
    "X_test  = X_test.astype('float32')"
   ]
  },
  {
   "cell_type": "code",
   "execution_count": 114,
   "metadata": {},
   "outputs": [
    {
     "name": "stdout",
     "output_type": "stream",
     "text": [
      "X_train matrix shape: (60000, 784)\n",
      "Number of images in X_train : 60000\n",
      "X_test matrix shape: (10000, 784)\n",
      "Number of images in X_test  : 10000\n"
     ]
    }
   ],
   "source": [
    "# Normalizing the RGB codes by dividing it to the max RGB value(255).\n",
    "#print((min(X_train[1]), max(X_train[1])))\n",
    "X_train = X_train / 255\n",
    "X_test  = X_test / 255\n",
    "\n",
    "print('X_train matrix shape:', X_train.shape) #_train shape: (42000, 28, 28, 1)\n",
    "print('Number of images in X_train :', X_train.shape[0]) #Number of images in X_train : 42000\n",
    "print('X_test matrix shape:', X_test.shape) #X_test shape: (28000, 28, 28, 1)\n",
    "print('Number of images in X_test  :', X_test.shape[0])#Number of images in X_test  : 28000"
   ]
  },
  {
   "cell_type": "code",
   "execution_count": 115,
   "metadata": {},
   "outputs": [
    {
     "name": "stdout",
     "output_type": "stream",
     "text": [
      "Shape before one-hot encoding Y_train:  (60000,)\n",
      "Shape before one-hot encoding Y_test:  (10000,)\n",
      "Shape after one-hot encoding Y_train:  (60000, 10)\n",
      "Shape after one-hot encoding Y_test:  (10000, 10)\n"
     ]
    }
   ],
   "source": [
    "# one-hot encoding using keras' numpy-related utilities\n",
    "from keras.utils import np_utils\n",
    "num_classes = 10\n",
    "\n",
    "print(\"Shape before one-hot encoding Y_train: \", y_train_label.shape)\n",
    "print(\"Shape before one-hot encoding Y_test: \", y_test_label.shape)\n",
    "Y_train = np_utils.to_categorical(y_train_label, num_classes)\n",
    "Y_test = np_utils.to_categorical(y_test_label, num_classes)\n",
    "print(\"Shape after one-hot encoding Y_train: \", Y_train.shape)\n",
    "print(\"Shape after one-hot encoding Y_test: \", Y_test.shape)"
   ]
  },
  {
   "cell_type": "code",
   "execution_count": 116,
   "metadata": {},
   "outputs": [
    {
     "data": {
      "image/png": "[encoded data removed]",
      "text/plain": [
       "<Figure size 432x288 with 1 Axes>"
      ]
     },
     "metadata": {
      "needs_background": "light"
     },
     "output_type": "display_data"
    },
    {
     "data": {
      "image/png": "[encoded data removed]",
      "text/plain": [
       "<Figure size 432x288 with 1 Axes>"
      ]
     },
     "metadata": {
      "needs_background": "light"
     },
     "output_type": "display_data"
    },
    {
     "data": {
      "image/png": "[encoded data removed]",
      "text/plain": [
       "<Figure size 432x288 with 1 Axes>"
      ]
     },
     "metadata": {
      "needs_background": "light"
     },
     "output_type": "display_data"
    }
   ],
   "source": [
    "#python simple code\n",
    "def sigmoid(z):\n",
    "    output = 1 / (1+np.exp(-z))\n",
    "    return output\n",
    "\n",
    "def relu(z):\n",
    "    return np.maximum(z, 0)\n",
    "\n",
    "def tanh(z):\n",
    "    return (np.exp(z) - np.exp(-z)) / (np.exp(z) + np.exp(-z))\n",
    "    \n",
    "#plot all activation function\n",
    "import matplotlib.pylab as plt\n",
    "def plot_function(function, title=\"sigmoid\"):\n",
    "    x = np.arange(-7, 7, 0.01)\n",
    "    y = function(x)\n",
    "    \n",
    "    plt.plot(x, y)\n",
    "    plt.xlabel(\"x\")\n",
    "    plt.ylabel(\"y\")\n",
    "    plt.title(title)\n",
    "    plt.show()\n",
    "    \n",
    "plot_function(sigmoid, \"sigmoid\")    \n",
    "plot_function(tanh, \"tanh\")\n",
    "plot_function(relu, \"relu\")"
   ]
  },
  {
   "cell_type": "code",
   "execution_count": 117,
   "metadata": {},
   "outputs": [],
   "source": [
    "from keras.models import  Sequential\n",
    "from keras.layers.core import  Lambda , Dense, Flatten, Dropout\n",
    "from keras.callbacks import EarlyStopping\n",
    "from keras.layers import BatchNormalization, Convolution2D , MaxPooling2D\n",
    "from keras.optimizers import Adam\n",
    "from keras.callbacks import ModelCheckpoint\n",
    "import os"
   ]
  },
  {
   "cell_type": "code",
   "execution_count": 118,
   "metadata": {},
   "outputs": [],
   "source": [
    "def create_model(input_length, hidden_lenght1, hidden_lenght2, activation_func , \n",
    "                 dropout_val,lr_val,num_epochs, batch_size):\n",
    "\n",
    "    # training the model and saving metrics in history\n",
    "    model = Sequential()\n",
    "\n",
    "    model.add(Dense(hidden_lenght1, input_dim=input_length, activation=activation_func))\n",
    "    model.add(Dropout(dropout_val))\n",
    "\n",
    "    model.add(Dense(hidden_lenght2, activation=activation_func))\n",
    "    model.add(Dropout(dropout_val))\n",
    "    model.add(Dense(10, activation='softmax'))\n",
    "\n",
    "    lr = lr_val#.001\n",
    "    adam0 = Adam(lr=lr)\n",
    "\n",
    "    # Modeli derleyip ve daha iyi bir sonuç elde edildiğinde ağırlıkları kaydedelim\n",
    "    model.compile(loss='categorical_crossentropy', optimizer=adam0, metrics=['accuracy'])\n",
    "    filepath = 'tmp_weights.best.hdf5'\n",
    "    checkpoint = ModelCheckpoint(filepath, monitor='acc', verbose=1, save_best_only=True, mode='max')\n",
    "    callbacks_list = [checkpoint]\n",
    "\n",
    "    # training the model and saving metrics in history\n",
    "    history_model = model.fit(X_train, Y_train, callbacks=callbacks_list,\n",
    "                              epochs=num_epochs, batch_size=batch_size, verbose=2,\n",
    "                                validation_data = (X_test, Y_test))  # verbose 2 or 0 \n",
    "    return model, history_model"
   ]
  },
  {
   "cell_type": "code",
   "execution_count": 122,
   "metadata": {},
   "outputs": [],
   "source": [
    "def saving_the_model(model, model_name = 'model_history.h5'):  \n",
    "    model.save(model_name)\n",
    "    print('Saved trained model at %s ' % model_name)"
   ]
  },
  {
   "cell_type": "code",
   "execution_count": 119,
   "metadata": {},
   "outputs": [],
   "source": [
    "def draw_model(training):\n",
    "    plt.figure()\n",
    "    plt.subplot(2,1,1)\n",
    "    plt.plot(training.history['acc'])\n",
    "    plt.plot(training.history['val_acc'])\n",
    "    plt.title('model accuracy')\n",
    "    plt.ylabel('accuracy')\n",
    "    plt.xlabel('epoch')\n",
    "    plt.legend(['train', 'test'], loc='lower right')\n",
    "\n",
    "    plt.subplot(2,1,2)\n",
    "    plt.plot(training.history['loss'])\n",
    "    plt.plot(training.history['val_loss'])\n",
    "    plt.title('model loss')\n",
    "    plt.ylabel('loss')\n",
    "    plt.xlabel('epoch')\n",
    "    plt.legend(['train', 'test'], loc='upper right')\n",
    "\n",
    "    plt.tight_layout()\n",
    "    plt.show()    "
   ]
  },
  {
   "cell_type": "code",
   "execution_count": 120,
   "metadata": {},
   "outputs": [],
   "source": [
    " #evaluate test accuracy\n",
    "def scoring_the_model(model_name=\"model_history.h5\"):\n",
    "    # load the model and create predictions on the test set\n",
    "    mnist_model = load_model(model_name)\n",
    "    #1- genel bakış\n",
    "    loss_and_metrics = mnist_model.evaluate(X_test, Y_test, verbose=2)\n",
    "    print(\"Test Loss\", loss_and_metrics[0])\n",
    "    print(\"Test Accuracy\", loss_and_metrics[1])\n",
    "\n",
    "    #2- test sonrası\n",
    "    predicted_classes = mnist_model.predict_classes(X_test)\n",
    "    # see which we predicted correctly and which not\n",
    "    correct_indices = np.nonzero(predicted_classes == y_test_label)[0]\n",
    "    incorrect_indices = np.nonzero(predicted_classes != y_test_label)[0]\n",
    "    print()\n",
    "    print(len(correct_indices),\" classified correctly\")\n",
    "    print(len(incorrect_indices),\" classified incorrectly\")\n",
    "    \n",
    "def draw_9_correct_9_incorrect_predictions(model_name=\"model_history.h5\"):  \n",
    "    # load the model and create predictions on the test set\n",
    "    mnist_model = load_model(model_name) \n",
    "    predicted_classes = mnist_model.predict_classes(X_test)\n",
    "    correct_indices = np.nonzero(predicted_classes == y_test_label)[0]\n",
    "    incorrect_indices = np.nonzero(predicted_classes != y_test_label)[0]\n",
    "    # adapt figure size to accomodate 18 subplots\n",
    "    plt.rcParams['figure.figsize'] = (7,14)\n",
    "\n",
    "    plt.figure()\n",
    "   # print(\"plot 9 correct predictions\")\n",
    "    # plot 9 correct predictions\n",
    "    for i, correct in enumerate(correct_indices[:9]):\n",
    "        plt.subplot(6,3,i+1)\n",
    "        plt.imshow(X_test[correct].reshape(28,28), cmap='gray', interpolation='none')\n",
    "        plt.title(\n",
    "          \"Predicted: {}, Truth: {}\".format(predicted_classes[correct],\n",
    "                                            y_test_label[correct]))\n",
    "        plt.xticks([])\n",
    "        plt.yticks([])\n",
    "\n",
    "    #print(\"plot 9 incorrect predictions\")\n",
    "    # plot 9 incorrect predictions\n",
    "    for i, incorrect in enumerate(incorrect_indices[:9]):\n",
    "        plt.subplot(6,3,i+10)\n",
    "        plt.imshow(X_test[incorrect].reshape(28,28), cmap='gray', interpolation='none')\n",
    "        plt.title(\n",
    "          \"Predicted {}, Truth: {}\".format(predicted_classes[incorrect],\n",
    "                                           y_test_label[incorrect]))\n",
    "        plt.xticks([])\n",
    "        plt.yticks([])"
   ]
  },
  {
   "cell_type": "code",
   "execution_count": null,
   "metadata": {},
   "outputs": [],
   "source": [
    "#parameters\n",
    "num_epochs = 20\n",
    "lengh_features = 784 #lengh_features = input layer = 28 pixel  * 28 pixel == 784 node\n",
    "\n",
    "# Create Model1 # 784-128-128-10 Dropout 0.2,Learning Rate==0.001,Activation Function =relu\n",
    "# hidden layer start 128 and 2 hidden layer\n",
    "# activation relu for popular and fast\n",
    "model1, history_model1 = create_model(input_length=lengh_features,hidden_lenght1=128,hidden_lenght2=128,\n",
    "                                    activation_func='relu',dropout_val=0.20,\n",
    "                                    lr_val=0.001,num_epochs=20, batch_size=128\n",
    "                                    )\n",
    "# saving the model\n",
    "saving_the_model(model1,'model1_history.h5')\n",
    "#model scoring\n",
    "scoring_the_model('model1_history.h5')"
   ]
  },
  {
   "cell_type": "code",
   "execution_count": 124,
   "metadata": {},
   "outputs": [
    {
     "data": {
      "image/png": "[encoded data removed]",
      "text/plain": [
       "<Figure size 432x288 with 2 Axes>"
      ]
     },
     "metadata": {
      "needs_background": "light"
     },
     "output_type": "display_data"
    }
   ],
   "source": [
    "#Model Drawing to visualize the behavior\n",
    "draw_model(history_model1) "
   ]
  },
  {
   "cell_type": "code",
   "execution_count": 125,
   "metadata": {},
   "outputs": [
    {
     "data": {
      "image/png": "[encoded data removed]",
      "text/plain": [
       "<Figure size 504x1008 with 18 Axes>"
      ]
     },
     "metadata": {},
     "output_type": "display_data"
    }
   ],
   "source": [
    "#draw_9 correct_9_incorrect_predictions\n",
    "draw_9_correct_9_incorrect_predictions('model1_history.h5')"
   ]
  },
  {
   "cell_type": "code",
   "execution_count": null,
   "metadata": {},
   "outputs": [],
   "source": []
  }
 ],
 "metadata": {
  "colab": {
   "name": "LS_DS_432_Backprop_Assignment.ipynb",
   "provenance": [],
   "version": "0.3.2"
  },
  "kernelspec": {
   "display_name": "Python 3",
   "language": "python",
   "name": "python3"
  },
  "language_info": {
   "codemirror_mode": {
    "name": "ipython",
    "version": 3
   },
   "file_extension": ".py",
   "mimetype": "text/x-python",
   "name": "python",
   "nbconvert_exporter": "python",
   "pygments_lexer": "ipython3",
   "version": "3.7.1"
  }
 },
 "nbformat": 4,
 "nbformat_minor": 2
}
