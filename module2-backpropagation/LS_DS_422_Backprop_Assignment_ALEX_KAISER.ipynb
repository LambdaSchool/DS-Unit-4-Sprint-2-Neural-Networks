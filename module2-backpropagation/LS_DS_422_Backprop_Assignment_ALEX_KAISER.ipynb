{
  "nbformat": 4,
  "nbformat_minor": 0,
  "metadata": {
    "colab": {
      "name": "LS_DS_422_Backprop_Assignment_ALEX_KAISER.ipynb",
      "provenance": [],
      "collapsed_sections": [],
      "include_colab_link": true
    },
    "kernelspec": {
      "display_name": "Python 3",
      "language": "python",
      "name": "python3"
    },
    "language_info": {
      "codemirror_mode": {
        "name": "ipython",
        "version": 3
      },
      "file_extension": ".py",
      "mimetype": "text/x-python",
      "name": "python",
      "nbconvert_exporter": "python",
      "pygments_lexer": "ipython3",
      "version": "3.7.3"
    },
    "nteract": {
      "version": "0.22.4"
    },
    "accelerator": "GPU"
  },
  "cells": [
    {
      "cell_type": "markdown",
      "metadata": {
        "id": "view-in-github",
        "colab_type": "text"
      },
      "source": [
        "<a href=\"https://colab.research.google.com/github/Lord-Kanzler/DS-Unit-4-Sprint-2-Neural-Networks/blob/master/module2-backpropagation/LS_DS_422_Backprop_Assignment_ALEX_KAISER.ipynb\" target=\"_parent\"><img src=\"https://colab.research.google.com/assets/colab-badge.svg\" alt=\"Open In Colab\"/></a>"
      ]
    },
    {
      "cell_type": "markdown",
      "metadata": {
        "colab_type": "text",
        "id": "NGGrt9EYlCqY"
      },
      "source": [
        "<img align=\"left\" src=\"https://lever-client-logos.s3.amazonaws.com/864372b1-534c-480e-acd5-9711f850815c-1524247202159.png\" width=200>\n",
        "<br></br>\n",
        "\n",
        "# Backpropagation Practice\n",
        "\n",
        "## *Data Science Unit 4 Sprint 2 Assignment 2*\n",
        "\n",
        "Using TensorFlow Keras, Implement a 3 input, 4 node hidden-layer, 1 output node Multilayer Perceptron on the following dataset:\n",
        "\n",
        "| x1 | x2 | x3 | y |\n",
        "|----|----|----|---|\n",
        "| 0  | 0  | 1  | 0 |\n",
        "| 0  | 1  | 1  | 1 |\n",
        "| 1  | 0  | 1  | 1 |\n",
        "| 0  | 1  | 0  | 1 |\n",
        "| 1  | 0  | 0  | 1 |\n",
        "| 1  | 1  | 1  | 0 |\n",
        "| 0  | 0  | 0  | 0 |\n",
        "\n",
        "If you look at the data you'll notice that the first two columns behave like an XOR gate while the last column is mostly just noise. Remember that creating an XOR gate was what the perceptron was criticized for not being able to learn.\n",
        "\n",
        "This is your \"Hello World!\" of TensorFlow.\n",
        "\n",
        "### Example TensorFlow Starter Code\n",
        "\n",
        "```python \n",
        "from tensorflow.keras.models import Sequential\n",
        "from tensorflow.keras.layers import Dense\n",
        "\n",
        "model = Sequential([\n",
        "    Dense(3, activation='sigmoid', input_dim=2),\n",
        "    Dense(1, activation='sigmoid')\n",
        "])\n",
        "\n",
        "model.compile(optimizer='sgd', loss='binary_crossentropy', metrics=['acc'])\n",
        "\n",
        "results = model.fit(X,y, epochs=100)\n",
        "\n",
        "```\n",
        "\n",
        "### Additional Written Tasks:\n",
        "1. Investigate the various [loss functions](https://www.tensorflow.org/api_docs/python/tf/keras/losses). Which is best suited for the task at hand (predicting 1 / 0) and why? \n",
        "2. What is the difference between a loss function and a metric? Why might we need both in Keras? \n",
        "3. Investigate the various [optimizers](https://www.tensorflow.org/api_docs/python/tf/keras/optimizers). Stochastic Gradient Descent (`sgd`) is not the learning algorithm dejour anyone. Why is that? What do newer optimizers such as `adam` have to offer? "
      ]
    },
    {
      "cell_type": "code",
      "metadata": {
        "colab_type": "code",
        "id": "nEREYT-3wI1f",
        "colab": {}
      },
      "source": [
        "##### Your Code Here #####\n",
        "import numpy as np\n",
        "\n",
        "X=np.array([\n",
        "            [0,0,1],\n",
        "            [0,1,1],\n",
        "            [1,0,1],\n",
        "            [0,1,0],\n",
        "            [1,0,0],\n",
        "            [1,1,1],\n",
        "            [0,0,0]\n",
        "            ])\n",
        "\n",
        "y=np.array([\n",
        "            [0],\n",
        "            [1],\n",
        "            [1],\n",
        "            [1],\n",
        "            [1],\n",
        "            [0],\n",
        "            [0]\n",
        "            ])\n"
      ],
      "execution_count": 0,
      "outputs": []
    },
    {
      "cell_type": "code",
      "metadata": {
        "id": "0pNG3xS-U7rS",
        "colab_type": "code",
        "colab": {}
      },
      "source": [
        "# and activations that correspond to positive weights to be higher\n",
        "\n",
        "class NeuralNetwork:\n",
        "    def __init__(self):\n",
        "        # Set up Architecture of Neural Network\n",
        "        self.inputs = 3\n",
        "        self.hiddenNodes = 4\n",
        "        self.outputNodes = 1\n",
        "\n",
        "        # Initial Weights\n",
        "        # 3x3 Matrix Array for the First Layer\n",
        "        self.weights1 = np.random.rand(self.inputs, self.hiddenNodes)\n",
        "       \n",
        "        # 3x1 Matrix Array for Hidden to Output\n",
        "        self.weights2 = np.random.rand(self.hiddenNodes, self.outputNodes)\n",
        "        \n",
        "    def sigmoid(self, s):\n",
        "        return 1 / (1+np.exp(-s))\n",
        "    \n",
        "    def sigmoidPrime(self, s):\n",
        "        return s * (1 - s)\n",
        "    \n",
        "    def feed_forward(self, X):\n",
        "        \"\"\"\n",
        "        Calculate the NN inference using feed forward.\n",
        "        aka \"predict\"\n",
        "        \"\"\"\n",
        "        \n",
        "        # Weighted sum of inputs => hidden layer\n",
        "        self.hidden_sum = np.dot(X, self.weights1)\n",
        "        \n",
        "        # Activations of weighted sum\n",
        "        self.activated_hidden = self.sigmoid(self.hidden_sum)\n",
        "        \n",
        "        # Weight sum between hidden and output\n",
        "        self.output_sum = np.dot(self.activated_hidden, self.weights2)\n",
        "        \n",
        "        # Final activation of output\n",
        "        self.activated_output = self.sigmoid(self.output_sum)\n",
        "        \n",
        "        return self.activated_output\n",
        "        \n",
        "    def backward(self, X,y,o):\n",
        "        \"\"\"\n",
        "        Backward propagate through the network\n",
        "        \"\"\"\n",
        "        \n",
        "        # Error in Output\n",
        "        self.o_error = y - o\n",
        "        \n",
        "        # Apply Derivative of Sigmoid to error\n",
        "        # How far off are we in relation to the Sigmoid f(x) of the output\n",
        "        # ^- aka hidden => output\n",
        "        self.o_delta = self.o_error * self.sigmoidPrime(o)\n",
        "        \n",
        "        # z2 error\n",
        "        self.z2_error = self.o_delta.dot(self.weights2.T)\n",
        "        \n",
        "        # How much of that \"far off\" can explained by the input => hidden\n",
        "        self.z2_delta = self.z2_error * self.sigmoidPrime(self.activated_hidden)\n",
        "        \n",
        "        # Adjustment to first set of weights (input => hidden)\n",
        "        self.weights1 += X.T.dot(self.z2_delta)\n",
        "        # Adjustment to second set of weights (hidden => output)\n",
        "        self.weights2 += self.activated_hidden.T.dot(self.o_delta)\n",
        "        \n",
        "\n",
        "    def train(self, X, y):\n",
        "        o = self.feed_forward(X)\n",
        "        self.backward(X,y,o)"
      ],
      "execution_count": 0,
      "outputs": []
    },
    {
      "cell_type": "code",
      "metadata": {
        "id": "7zlVxtAs5vp8",
        "colab_type": "code",
        "colab": {}
      },
      "source": [
        "nn = NeuralNetwork()\n",
        "\n",
        "nn.train(X,y)"
      ],
      "execution_count": 0,
      "outputs": []
    },
    {
      "cell_type": "code",
      "metadata": {
        "id": "aO-R3PB0589g",
        "colab_type": "code",
        "colab": {
          "base_uri": "https://localhost:8080/",
          "height": 1000
        },
        "outputId": "0ae7ddde-064b-4181-8954-dfa4e050ddc5"
      },
      "source": [
        "# Number of Epochs / Iterations\n",
        "for i in range(10000):\n",
        "    if (i+1 in [1,2,3,4,5]) or ((i+1) % 1000 ==0):\n",
        "        print('+' + '---' * 3 + f'EPOCH {i+1}' + '---'*3 + '+')\n",
        "        print('Input: \\n', X)\n",
        "        print('Actual Output: \\n', y)\n",
        "        print('Predicted Output: \\n', str(nn.feed_forward(X)))\n",
        "        print(\"Loss: \\n\", str(np.mean(np.square(y - nn.feed_forward(X)))))\n",
        "    nn.train(X,y)"
      ],
      "execution_count": 4,
      "outputs": [
        {
          "output_type": "stream",
          "text": [
            "+---------EPOCH 1---------+\n",
            "Input: \n",
            " [[0 0 1]\n",
            " [0 1 1]\n",
            " [1 0 1]\n",
            " [0 1 0]\n",
            " [1 0 0]\n",
            " [1 1 1]\n",
            " [0 0 0]]\n",
            "Actual Output: \n",
            " [[0]\n",
            " [1]\n",
            " [1]\n",
            " [1]\n",
            " [1]\n",
            " [0]\n",
            " [0]]\n",
            "Predicted Output: \n",
            " [[0.70858594]\n",
            " [0.73660636]\n",
            " [0.74831494]\n",
            " [0.71204522]\n",
            " [0.72891952]\n",
            " [0.76537372]\n",
            " [0.68003212]]\n",
            "Loss: \n",
            " 0.2627798311009866\n",
            "+---------EPOCH 2---------+\n",
            "Input: \n",
            " [[0 0 1]\n",
            " [0 1 1]\n",
            " [1 0 1]\n",
            " [0 1 0]\n",
            " [1 0 0]\n",
            " [1 1 1]\n",
            " [0 0 0]]\n",
            "Actual Output: \n",
            " [[0]\n",
            " [1]\n",
            " [1]\n",
            " [1]\n",
            " [1]\n",
            " [0]\n",
            " [0]]\n",
            "Predicted Output: \n",
            " [[0.64195355]\n",
            " [0.66252032]\n",
            " [0.67222946]\n",
            " [0.64494495]\n",
            " [0.6584146 ]\n",
            " [0.68499259]\n",
            " [0.6222934 ]]\n",
            "Loss: \n",
            " 0.2475198593095984\n",
            "+---------EPOCH 3---------+\n",
            "Input: \n",
            " [[0 0 1]\n",
            " [0 1 1]\n",
            " [1 0 1]\n",
            " [0 1 0]\n",
            " [1 0 0]\n",
            " [1 1 1]\n",
            " [0 0 0]]\n",
            "Actual Output: \n",
            " [[0]\n",
            " [1]\n",
            " [1]\n",
            " [1]\n",
            " [1]\n",
            " [0]\n",
            " [0]]\n",
            "Predicted Output: \n",
            " [[0.60168589]\n",
            " [0.61719393]\n",
            " [0.62496946]\n",
            " [0.60472019]\n",
            " [0.6153484 ]\n",
            " [0.63438275]\n",
            " [0.58793239]]\n",
            "Loss: \n",
            " 0.2430747509536735\n",
            "+---------EPOCH 4---------+\n",
            "Input: \n",
            " [[0 0 1]\n",
            " [0 1 1]\n",
            " [1 0 1]\n",
            " [0 1 0]\n",
            " [1 0 0]\n",
            " [1 1 1]\n",
            " [0 0 0]]\n",
            "Actual Output: \n",
            " [[0]\n",
            " [1]\n",
            " [1]\n",
            " [1]\n",
            " [1]\n",
            " [0]\n",
            " [0]]\n",
            "Predicted Output: \n",
            " [[0.58498075]\n",
            " [0.59900317]\n",
            " [0.60568892]\n",
            " [0.58900249]\n",
            " [0.59809088]\n",
            " [0.61395313]\n",
            " [0.57393347]]\n",
            "Loss: \n",
            " 0.24218144635469185\n",
            "+---------EPOCH 5---------+\n",
            "Input: \n",
            " [[0 0 1]\n",
            " [0 1 1]\n",
            " [1 0 1]\n",
            " [0 1 0]\n",
            " [1 0 0]\n",
            " [1 1 1]\n",
            " [0 0 0]]\n",
            "Actual Output: \n",
            " [[0]\n",
            " [1]\n",
            " [1]\n",
            " [1]\n",
            " [1]\n",
            " [0]\n",
            " [0]]\n",
            "Predicted Output: \n",
            " [[0.57892047]\n",
            " [0.59324556]\n",
            " [0.59932741]\n",
            " [0.58442987]\n",
            " [0.59266985]\n",
            " [0.60759609]\n",
            " [0.56908418]]\n",
            "Loss: \n",
            " 0.24182611437919593\n",
            "+---------EPOCH 1000---------+\n",
            "Input: \n",
            " [[0 0 1]\n",
            " [0 1 1]\n",
            " [1 0 1]\n",
            " [0 1 0]\n",
            " [1 0 0]\n",
            " [1 1 1]\n",
            " [0 0 0]]\n",
            "Actual Output: \n",
            " [[0]\n",
            " [1]\n",
            " [1]\n",
            " [1]\n",
            " [1]\n",
            " [0]\n",
            " [0]]\n",
            "Predicted Output: \n",
            " [[0.00981341]\n",
            " [0.94841093]\n",
            " [0.95504706]\n",
            " [0.95707747]\n",
            " [0.95909144]\n",
            " [0.04471379]\n",
            " [0.08972119]]\n",
            "Loss: \n",
            " 0.002620510324517344\n",
            "+---------EPOCH 2000---------+\n",
            "Input: \n",
            " [[0 0 1]\n",
            " [0 1 1]\n",
            " [1 0 1]\n",
            " [0 1 0]\n",
            " [1 0 0]\n",
            " [1 1 1]\n",
            " [0 0 0]]\n",
            "Actual Output: \n",
            " [[0]\n",
            " [1]\n",
            " [1]\n",
            " [1]\n",
            " [1]\n",
            " [0]\n",
            " [0]]\n",
            "Predicted Output: \n",
            " [[0.00571954]\n",
            " [0.96636166]\n",
            " [0.97063938]\n",
            " [0.97107855]\n",
            " [0.97284003]\n",
            " [0.02496345]\n",
            " [0.06240265]]\n",
            "Loss: \n",
            " 0.0011596678901995752\n",
            "+---------EPOCH 3000---------+\n",
            "Input: \n",
            " [[0 0 1]\n",
            " [0 1 1]\n",
            " [1 0 1]\n",
            " [0 1 0]\n",
            " [1 0 0]\n",
            " [1 1 1]\n",
            " [0 0 0]]\n",
            "Actual Output: \n",
            " [[0]\n",
            " [1]\n",
            " [1]\n",
            " [1]\n",
            " [1]\n",
            " [0]\n",
            " [0]]\n",
            "Predicted Output: \n",
            " [[0.0042942 ]\n",
            " [0.97324677]\n",
            " [0.97662937]\n",
            " [0.9766688 ]\n",
            " [0.9782194 ]\n",
            " [0.01832028]\n",
            " [0.0508558 ]]\n",
            "Loss: \n",
            " 0.0007458637973706984\n",
            "+---------EPOCH 4000---------+\n",
            "Input: \n",
            " [[0 0 1]\n",
            " [0 1 1]\n",
            " [1 0 1]\n",
            " [0 1 0]\n",
            " [1 0 0]\n",
            " [1 1 1]\n",
            " [0 0 0]]\n",
            "Actual Output: \n",
            " [[0]\n",
            " [1]\n",
            " [1]\n",
            " [1]\n",
            " [1]\n",
            " [0]\n",
            " [0]]\n",
            "Predicted Output: \n",
            " [[0.00353133]\n",
            " [0.97713992]\n",
            " [0.98001951]\n",
            " [0.97989226]\n",
            " [0.98129406]\n",
            " [0.01484004]\n",
            " [0.0440562 ]]\n",
            "Loss: \n",
            " 0.0005499546150744323\n",
            "+---------EPOCH 5000---------+\n",
            "Input: \n",
            " [[0 0 1]\n",
            " [0 1 1]\n",
            " [1 0 1]\n",
            " [0 1 0]\n",
            " [1 0 0]\n",
            " [1 1 1]\n",
            " [0 0 0]]\n",
            "Actual Output: \n",
            " [[0]\n",
            " [1]\n",
            " [1]\n",
            " [1]\n",
            " [1]\n",
            " [0]\n",
            " [0]]\n",
            "Predicted Output: \n",
            " [[0.00304431]\n",
            " [0.97972267]\n",
            " [0.98227002]\n",
            " [0.98205751]\n",
            " [0.98334833]\n",
            " [0.01265204]\n",
            " [0.03943678]]\n",
            "Loss: \n",
            " 0.0004356192814095646\n",
            "+---------EPOCH 6000---------+\n",
            "Input: \n",
            " [[0 0 1]\n",
            " [0 1 1]\n",
            " [1 0 1]\n",
            " [0 1 0]\n",
            " [1 0 0]\n",
            " [1 1 1]\n",
            " [0 0 0]]\n",
            "Actual Output: \n",
            " [[0]\n",
            " [1]\n",
            " [1]\n",
            " [1]\n",
            " [1]\n",
            " [0]\n",
            " [0]]\n",
            "Predicted Output: \n",
            " [[0.00270142]\n",
            " [0.98159541]\n",
            " [0.98390266]\n",
            " [0.98364154]\n",
            " [0.98484557]\n",
            " [0.0111297 ]\n",
            " [0.03603295]]\n",
            "Loss: \n",
            " 0.00036066441011992637\n",
            "+---------EPOCH 7000---------+\n",
            "Input: \n",
            " [[0 0 1]\n",
            " [0 1 1]\n",
            " [1 0 1]\n",
            " [0 1 0]\n",
            " [1 0 0]\n",
            " [1 1 1]\n",
            " [0 0 0]]\n",
            "Actual Output: \n",
            " [[0]\n",
            " [1]\n",
            " [1]\n",
            " [1]\n",
            " [1]\n",
            " [0]\n",
            " [0]]\n",
            "Predicted Output: \n",
            " [[0.0024444 ]\n",
            " [0.98303292]\n",
            " [0.98515635]\n",
            " [0.98486574]\n",
            " [0.98599944]\n",
            " [0.00999952]\n",
            " [0.03338914]]\n",
            "Loss: \n",
            " 0.0003077253059772211\n",
            "+---------EPOCH 8000---------+\n",
            "Input: \n",
            " [[0 0 1]\n",
            " [0 1 1]\n",
            " [1 0 1]\n",
            " [0 1 0]\n",
            " [1 0 0]\n",
            " [1 1 1]\n",
            " [0 0 0]]\n",
            "Actual Output: \n",
            " [[0]\n",
            " [1]\n",
            " [1]\n",
            " [1]\n",
            " [1]\n",
            " [0]\n",
            " [0]]\n",
            "Predicted Output: \n",
            " [[0.00224316]\n",
            " [0.98418103]\n",
            " [0.98615799]\n",
            " [0.98584882]\n",
            " [0.98692399]\n",
            " [0.00912172]\n",
            " [0.03125814]]\n",
            "Loss: \n",
            " 0.00026834114400543937\n",
            "+---------EPOCH 9000---------+\n",
            "Input: \n",
            " [[0 0 1]\n",
            " [0 1 1]\n",
            " [1 0 1]\n",
            " [0 1 0]\n",
            " [1 0 0]\n",
            " [1 1 1]\n",
            " [0 0 0]]\n",
            "Actual Output: \n",
            " [[0]\n",
            " [1]\n",
            " [1]\n",
            " [1]\n",
            " [1]\n",
            " [0]\n",
            " [0]]\n",
            "Predicted Output: \n",
            " [[0.00208047]\n",
            " [0.98512527]\n",
            " [0.98698198]\n",
            " [0.98666096]\n",
            " [0.98768638]\n",
            " [0.00841687]\n",
            " [0.0294926 ]]\n",
            "Loss: \n",
            " 0.00023789531447682139\n",
            "+---------EPOCH 10000---------+\n",
            "Input: \n",
            " [[0 0 1]\n",
            " [0 1 1]\n",
            " [1 0 1]\n",
            " [0 1 0]\n",
            " [1 0 0]\n",
            " [1 1 1]\n",
            " [0 0 0]]\n",
            "Actual Output: \n",
            " [[0]\n",
            " [1]\n",
            " [1]\n",
            " [1]\n",
            " [1]\n",
            " [0]\n",
            " [0]]\n",
            "Predicted Output: \n",
            " [[0.00194564]\n",
            " [0.98591951]\n",
            " [0.98767524]\n",
            " [0.98734669]\n",
            " [0.98832911]\n",
            " [0.00783627]\n",
            " [0.02799844]]\n",
            "Loss: \n",
            " 0.00021365440227880396\n"
          ],
          "name": "stdout"
        }
      ]
    },
    {
      "cell_type": "code",
      "metadata": {
        "id": "Yfap23PzVYG7",
        "colab_type": "code",
        "colab": {}
      },
      "source": [
        "# Keras approach\n",
        "\n",
        "import pandas as pd\n",
        "\n",
        "data = {'x1' : [0,0,1,0,1,1,0],\n",
        "        'x2' : [0,1,0,1,0,1,0],\n",
        "        'x3' : [1,1,1,0,0,1,0],\n",
        "        'y' : [0,1,1,1,1,0,0]\n",
        "        }\n",
        "\n",
        "df = pd.DataFrame.from_dict(data).astype('int')\n",
        "X = df[['x1', 'x2', 'x3']].values\n",
        "y = df['y'].values"
      ],
      "execution_count": 0,
      "outputs": []
    },
    {
      "cell_type": "code",
      "metadata": {
        "id": "8lIOKmafZrMp",
        "colab_type": "code",
        "colab": {
          "base_uri": "https://localhost:8080/",
          "height": 1000
        },
        "outputId": "b9dd3439-4bb9-4cf4-b299-8bedecb49a83"
      },
      "source": [
        "from tensorflow.keras.models import Sequential\n",
        "from tensorflow.keras.layers import Dense\n",
        "\n",
        "# This is our perceptron from Monday's by-hand: \n",
        "model = Sequential()\n",
        "model.add(Dense(1,input_dim=3, activation='sigmoid'))\n",
        "model.compile(loss='binary_crossentropy', optimizer='adam', metrics=['accuracy'])\n",
        "model.fit(X,y, epochs=100)"
      ],
      "execution_count": 9,
      "outputs": [
        {
          "output_type": "stream",
          "text": [
            "Epoch 1/100\n",
            "1/1 [==============================] - 0s 1ms/step - loss: 0.6388 - accuracy: 0.8571\n",
            "Epoch 2/100\n",
            "1/1 [==============================] - 0s 847us/step - loss: 0.6387 - accuracy: 0.8571\n",
            "Epoch 3/100\n",
            "1/1 [==============================] - 0s 791us/step - loss: 0.6386 - accuracy: 0.8571\n",
            "Epoch 4/100\n",
            "1/1 [==============================] - 0s 2ms/step - loss: 0.6384 - accuracy: 0.8571\n",
            "Epoch 5/100\n",
            "1/1 [==============================] - 0s 3ms/step - loss: 0.6383 - accuracy: 0.8571\n",
            "Epoch 6/100\n",
            "1/1 [==============================] - 0s 810us/step - loss: 0.6382 - accuracy: 0.8571\n",
            "Epoch 7/100\n",
            "1/1 [==============================] - 0s 1ms/step - loss: 0.6381 - accuracy: 0.8571\n",
            "Epoch 8/100\n",
            "1/1 [==============================] - 0s 862us/step - loss: 0.6380 - accuracy: 0.8571\n",
            "Epoch 9/100\n",
            "1/1 [==============================] - 0s 741us/step - loss: 0.6379 - accuracy: 0.8571\n",
            "Epoch 10/100\n",
            "1/1 [==============================] - 0s 2ms/step - loss: 0.6378 - accuracy: 0.8571\n",
            "Epoch 11/100\n",
            "1/1 [==============================] - 0s 926us/step - loss: 0.6377 - accuracy: 0.8571\n",
            "Epoch 12/100\n",
            "1/1 [==============================] - 0s 860us/step - loss: 0.6376 - accuracy: 0.8571\n",
            "Epoch 13/100\n",
            "1/1 [==============================] - 0s 961us/step - loss: 0.6375 - accuracy: 0.8571\n",
            "Epoch 14/100\n",
            "1/1 [==============================] - 0s 969us/step - loss: 0.6374 - accuracy: 0.8571\n",
            "Epoch 15/100\n",
            "1/1 [==============================] - 0s 814us/step - loss: 0.6373 - accuracy: 0.8571\n",
            "Epoch 16/100\n",
            "1/1 [==============================] - 0s 824us/step - loss: 0.6372 - accuracy: 0.8571\n",
            "Epoch 17/100\n",
            "1/1 [==============================] - 0s 1ms/step - loss: 0.6372 - accuracy: 0.8571\n",
            "Epoch 18/100\n",
            "1/1 [==============================] - 0s 803us/step - loss: 0.6371 - accuracy: 0.8571\n",
            "Epoch 19/100\n",
            "1/1 [==============================] - 0s 811us/step - loss: 0.6370 - accuracy: 0.8571\n",
            "Epoch 20/100\n",
            "1/1 [==============================] - 0s 812us/step - loss: 0.6369 - accuracy: 0.8571\n",
            "Epoch 21/100\n",
            "1/1 [==============================] - 0s 977us/step - loss: 0.6368 - accuracy: 0.8571\n",
            "Epoch 22/100\n",
            "1/1 [==============================] - 0s 1ms/step - loss: 0.6367 - accuracy: 0.8571\n",
            "Epoch 23/100\n",
            "1/1 [==============================] - 0s 965us/step - loss: 0.6366 - accuracy: 0.8571\n",
            "Epoch 24/100\n",
            "1/1 [==============================] - 0s 947us/step - loss: 0.6365 - accuracy: 0.8571\n",
            "Epoch 25/100\n",
            "1/1 [==============================] - 0s 2ms/step - loss: 0.6364 - accuracy: 0.8571\n",
            "Epoch 26/100\n",
            "1/1 [==============================] - 0s 1ms/step - loss: 0.6363 - accuracy: 0.8571\n",
            "Epoch 27/100\n",
            "1/1 [==============================] - 0s 2ms/step - loss: 0.6363 - accuracy: 0.8571\n",
            "Epoch 28/100\n",
            "1/1 [==============================] - 0s 2ms/step - loss: 0.6362 - accuracy: 0.8571\n",
            "Epoch 29/100\n",
            "1/1 [==============================] - 0s 1ms/step - loss: 0.6361 - accuracy: 0.8571\n",
            "Epoch 30/100\n",
            "1/1 [==============================] - 0s 1ms/step - loss: 0.6360 - accuracy: 0.8571\n",
            "Epoch 31/100\n",
            "1/1 [==============================] - 0s 2ms/step - loss: 0.6359 - accuracy: 0.8571\n",
            "Epoch 32/100\n",
            "1/1 [==============================] - 0s 2ms/step - loss: 0.6358 - accuracy: 0.8571\n",
            "Epoch 33/100\n",
            "1/1 [==============================] - 0s 2ms/step - loss: 0.6358 - accuracy: 0.8571\n",
            "Epoch 34/100\n",
            "1/1 [==============================] - 0s 2ms/step - loss: 0.6357 - accuracy: 0.8571\n",
            "Epoch 35/100\n",
            "1/1 [==============================] - 0s 2ms/step - loss: 0.6356 - accuracy: 0.8571\n",
            "Epoch 36/100\n",
            "1/1 [==============================] - 0s 2ms/step - loss: 0.6355 - accuracy: 0.8571\n",
            "Epoch 37/100\n",
            "1/1 [==============================] - 0s 2ms/step - loss: 0.6355 - accuracy: 0.8571\n",
            "Epoch 38/100\n",
            "1/1 [==============================] - 0s 2ms/step - loss: 0.6354 - accuracy: 0.8571\n",
            "Epoch 39/100\n",
            "1/1 [==============================] - 0s 2ms/step - loss: 0.6353 - accuracy: 0.8571\n",
            "Epoch 40/100\n",
            "1/1 [==============================] - 0s 2ms/step - loss: 0.6352 - accuracy: 0.8571\n",
            "Epoch 41/100\n",
            "1/1 [==============================] - 0s 2ms/step - loss: 0.6352 - accuracy: 0.8571\n",
            "Epoch 42/100\n",
            "1/1 [==============================] - 0s 1ms/step - loss: 0.6351 - accuracy: 0.8571\n",
            "Epoch 43/100\n",
            "1/1 [==============================] - 0s 2ms/step - loss: 0.6350 - accuracy: 0.8571\n",
            "Epoch 44/100\n",
            "1/1 [==============================] - 0s 2ms/step - loss: 0.6349 - accuracy: 0.8571\n",
            "Epoch 45/100\n",
            "1/1 [==============================] - 0s 2ms/step - loss: 0.6349 - accuracy: 0.8571\n",
            "Epoch 46/100\n",
            "1/1 [==============================] - 0s 1ms/step - loss: 0.6348 - accuracy: 0.8571\n",
            "Epoch 47/100\n",
            "1/1 [==============================] - 0s 2ms/step - loss: 0.6347 - accuracy: 0.8571\n",
            "Epoch 48/100\n",
            "1/1 [==============================] - 0s 2ms/step - loss: 0.6347 - accuracy: 0.8571\n",
            "Epoch 49/100\n",
            "1/1 [==============================] - 0s 1ms/step - loss: 0.6346 - accuracy: 0.8571\n",
            "Epoch 50/100\n",
            "1/1 [==============================] - 0s 2ms/step - loss: 0.6345 - accuracy: 0.8571\n",
            "Epoch 51/100\n",
            "1/1 [==============================] - 0s 3ms/step - loss: 0.6345 - accuracy: 0.8571\n",
            "Epoch 52/100\n",
            "1/1 [==============================] - 0s 2ms/step - loss: 0.6344 - accuracy: 0.8571\n",
            "Epoch 53/100\n",
            "1/1 [==============================] - 0s 2ms/step - loss: 0.6343 - accuracy: 0.8571\n",
            "Epoch 54/100\n",
            "1/1 [==============================] - 0s 2ms/step - loss: 0.6343 - accuracy: 0.8571\n",
            "Epoch 55/100\n",
            "1/1 [==============================] - 0s 2ms/step - loss: 0.6342 - accuracy: 0.8571\n",
            "Epoch 56/100\n",
            "1/1 [==============================] - 0s 2ms/step - loss: 0.6341 - accuracy: 0.8571\n",
            "Epoch 57/100\n",
            "1/1 [==============================] - 0s 1ms/step - loss: 0.6341 - accuracy: 0.8571\n",
            "Epoch 58/100\n",
            "1/1 [==============================] - 0s 2ms/step - loss: 0.6340 - accuracy: 0.8571\n",
            "Epoch 59/100\n",
            "1/1 [==============================] - 0s 2ms/step - loss: 0.6339 - accuracy: 0.8571\n",
            "Epoch 60/100\n",
            "1/1 [==============================] - 0s 2ms/step - loss: 0.6339 - accuracy: 0.8571\n",
            "Epoch 61/100\n",
            "1/1 [==============================] - 0s 2ms/step - loss: 0.6338 - accuracy: 0.8571\n",
            "Epoch 62/100\n",
            "1/1 [==============================] - 0s 2ms/step - loss: 0.6338 - accuracy: 0.8571\n",
            "Epoch 63/100\n",
            "1/1 [==============================] - 0s 2ms/step - loss: 0.6337 - accuracy: 0.8571\n",
            "Epoch 64/100\n",
            "1/1 [==============================] - 0s 2ms/step - loss: 0.6336 - accuracy: 0.8571\n",
            "Epoch 65/100\n",
            "1/1 [==============================] - 0s 1ms/step - loss: 0.6336 - accuracy: 0.8571\n",
            "Epoch 66/100\n",
            "1/1 [==============================] - 0s 2ms/step - loss: 0.6335 - accuracy: 0.8571\n",
            "Epoch 67/100\n",
            "1/1 [==============================] - 0s 2ms/step - loss: 0.6335 - accuracy: 0.8571\n",
            "Epoch 68/100\n",
            "1/1 [==============================] - 0s 2ms/step - loss: 0.6334 - accuracy: 0.8571\n",
            "Epoch 69/100\n",
            "1/1 [==============================] - 0s 2ms/step - loss: 0.6334 - accuracy: 0.8571\n",
            "Epoch 70/100\n",
            "1/1 [==============================] - 0s 2ms/step - loss: 0.6333 - accuracy: 0.8571\n",
            "Epoch 71/100\n",
            "1/1 [==============================] - 0s 2ms/step - loss: 0.6333 - accuracy: 0.8571\n",
            "Epoch 72/100\n",
            "1/1 [==============================] - 0s 2ms/step - loss: 0.6332 - accuracy: 0.8571\n",
            "Epoch 73/100\n",
            "1/1 [==============================] - 0s 2ms/step - loss: 0.6331 - accuracy: 0.8571\n",
            "Epoch 74/100\n",
            "1/1 [==============================] - 0s 2ms/step - loss: 0.6331 - accuracy: 0.8571\n",
            "Epoch 75/100\n",
            "1/1 [==============================] - 0s 2ms/step - loss: 0.6330 - accuracy: 0.8571\n",
            "Epoch 76/100\n",
            "1/1 [==============================] - 0s 3ms/step - loss: 0.6330 - accuracy: 0.8571\n",
            "Epoch 77/100\n",
            "1/1 [==============================] - 0s 885us/step - loss: 0.6329 - accuracy: 0.8571\n",
            "Epoch 78/100\n",
            "1/1 [==============================] - 0s 1ms/step - loss: 0.6329 - accuracy: 0.8571\n",
            "Epoch 79/100\n",
            "1/1 [==============================] - 0s 1ms/step - loss: 0.6328 - accuracy: 0.8571\n",
            "Epoch 80/100\n",
            "1/1 [==============================] - 0s 1ms/step - loss: 0.6328 - accuracy: 0.8571\n",
            "Epoch 81/100\n",
            "1/1 [==============================] - 0s 2ms/step - loss: 0.6327 - accuracy: 0.8571\n",
            "Epoch 82/100\n",
            "1/1 [==============================] - 0s 2ms/step - loss: 0.6327 - accuracy: 0.8571\n",
            "Epoch 83/100\n",
            "1/1 [==============================] - 0s 2ms/step - loss: 0.6326 - accuracy: 0.8571\n",
            "Epoch 84/100\n",
            "1/1 [==============================] - 0s 2ms/step - loss: 0.6326 - accuracy: 0.8571\n",
            "Epoch 85/100\n",
            "1/1 [==============================] - 0s 1ms/step - loss: 0.6325 - accuracy: 0.8571\n",
            "Epoch 86/100\n",
            "1/1 [==============================] - 0s 2ms/step - loss: 0.6325 - accuracy: 0.8571\n",
            "Epoch 87/100\n",
            "1/1 [==============================] - 0s 2ms/step - loss: 0.6324 - accuracy: 0.8571\n",
            "Epoch 88/100\n",
            "1/1 [==============================] - 0s 2ms/step - loss: 0.6324 - accuracy: 0.8571\n",
            "Epoch 89/100\n",
            "1/1 [==============================] - 0s 2ms/step - loss: 0.6323 - accuracy: 0.8571\n",
            "Epoch 90/100\n",
            "1/1 [==============================] - 0s 4ms/step - loss: 0.6323 - accuracy: 0.8571\n",
            "Epoch 91/100\n",
            "1/1 [==============================] - 0s 2ms/step - loss: 0.6322 - accuracy: 0.8571\n",
            "Epoch 92/100\n",
            "1/1 [==============================] - 0s 2ms/step - loss: 0.6322 - accuracy: 0.8571\n",
            "Epoch 93/100\n",
            "1/1 [==============================] - 0s 2ms/step - loss: 0.6322 - accuracy: 0.8571\n",
            "Epoch 94/100\n",
            "1/1 [==============================] - 0s 950us/step - loss: 0.6321 - accuracy: 0.8571\n",
            "Epoch 95/100\n",
            "1/1 [==============================] - 0s 2ms/step - loss: 0.6321 - accuracy: 0.8571\n",
            "Epoch 96/100\n",
            "1/1 [==============================] - 0s 1ms/step - loss: 0.6320 - accuracy: 0.8571\n",
            "Epoch 97/100\n",
            "1/1 [==============================] - 0s 2ms/step - loss: 0.6320 - accuracy: 0.8571\n",
            "Epoch 98/100\n",
            "1/1 [==============================] - 0s 998us/step - loss: 0.6319 - accuracy: 0.8571\n",
            "Epoch 99/100\n",
            "1/1 [==============================] - 0s 2ms/step - loss: 0.6319 - accuracy: 0.8571\n",
            "Epoch 100/100\n",
            "1/1 [==============================] - 0s 8ms/step - loss: 0.6318 - accuracy: 0.8571\n"
          ],
          "name": "stdout"
        },
        {
          "output_type": "execute_result",
          "data": {
            "text/plain": [
              "<tensorflow.python.keras.callbacks.History at 0x7efb4a162668>"
            ]
          },
          "metadata": {
            "tags": []
          },
          "execution_count": 9
        }
      ]
    },
    {
      "cell_type": "code",
      "metadata": {
        "id": "3fn5JfAea6hq",
        "colab_type": "code",
        "colab": {
          "base_uri": "https://localhost:8080/",
          "height": 194
        },
        "outputId": "c961d800-1092-4868-b2d8-5091891f099e"
      },
      "source": [
        "model.summary()"
      ],
      "execution_count": 10,
      "outputs": [
        {
          "output_type": "stream",
          "text": [
            "Model: \"sequential_3\"\n",
            "_________________________________________________________________\n",
            "Layer (type)                 Output Shape              Param #   \n",
            "=================================================================\n",
            "dense_3 (Dense)              (None, 1)                 4         \n",
            "=================================================================\n",
            "Total params: 4\n",
            "Trainable params: 4\n",
            "Non-trainable params: 0\n",
            "_________________________________________________________________\n"
          ],
          "name": "stdout"
        }
      ]
    },
    {
      "cell_type": "code",
      "metadata": {
        "id": "Yg77L26HZ4Gx",
        "colab_type": "code",
        "colab": {
          "base_uri": "https://localhost:8080/",
          "height": 52
        },
        "outputId": "3f9748f8-d2a7-42ff-eb06-71e1cb339b09"
      },
      "source": [
        "# evaluate the model\n",
        "scores = model.evaluate(X, y)\n",
        "print(f\"{model.metrics_names[1]}: {scores[1]*100}\")"
      ],
      "execution_count": 11,
      "outputs": [
        {
          "output_type": "stream",
          "text": [
            "1/1 [==============================] - 0s 1ms/step - loss: 0.6318 - accuracy: 0.8571\n",
            "accuracy: 85.71428656578064\n"
          ],
          "name": "stdout"
        }
      ]
    },
    {
      "cell_type": "markdown",
      "metadata": {
        "id": "zV-7C_YSmqTU",
        "colab_type": "text"
      },
      "source": [
        "### Build a Tensor Keras Perceptron\n",
        "\n",
        "Try to match the architecture we used on Monday - inputs nodes and one output node. Apply this architecture to the XOR-ish dataset above. \n",
        "\n",
        "After fitting your model answer these questions: \n",
        "\n",
        "Are you able to achieve the same results as a bigger architecture from the first part of the assignment? Why is this disparity the case? What properties of the XOR dataset would cause this disparity? \n",
        "\n",
        "Now extrapolate this behavior on a much larger dataset in terms of features. What kind of architecture decisions could we make to avoid the problems the XOR dataset presents at scale? \n",
        "\n",
        "*Note:* The bias term is baked in by default in the Dense layer."
      ]
    },
    {
      "cell_type": "code",
      "metadata": {
        "id": "IeN53z-AmqTV",
        "colab_type": "code",
        "colab": {}
      },
      "source": [
        "### Compare "
      ],
      "execution_count": 0,
      "outputs": []
    },
    {
      "cell_type": "markdown",
      "metadata": {
        "colab_type": "text",
        "id": "8b-r70o8p2Dm"
      },
      "source": [
        "## Try building/training a more complex MLP on a bigger dataset.\n",
        "\n",
        "Use TensorFlow Keras & the [MNIST dataset](http://yann.lecun.com/exdb/mnist/) to build the canonical handwriting digit recognizer and see what kind of accuracy you can achieve. \n",
        "\n",
        "If you need inspiration, the Internet is chalk-full of tutorials, but I want you to see how far you can get on your own first. I've linked to the original MNIST dataset above but it will probably be easier to download data through a neural network library. If you reference outside resources make sure you understand every line of code that you're using from other sources, and share with your fellow students helpful resources that you find.\n",
        "\n",
        "\n",
        "### Parts\n",
        "1. Gathering & Transforming the Data\n",
        "2. Making MNIST a Binary Problem\n",
        "3. Estimating your Neural Network (the part you focus on)"
      ]
    },
    {
      "cell_type": "markdown",
      "metadata": {
        "id": "YkCJkpwqmqTX",
        "colab_type": "text"
      },
      "source": [
        "### Gathering the Data \n",
        "\n",
        "`keras` has a handy method to pull the mnist dataset for you. You'll notice that each observation is a 28x28 arrary which represents an image. Although most Neural Network frameworks can handle higher dimensional data, that is more overhead than necessary for us. We need to flatten the image to one long row which will be 784 values (28X28). Basically, you will be appending each row to one another to make on really long row. "
      ]
    },
    {
      "cell_type": "code",
      "metadata": {
        "id": "hlQPtozwmqTX",
        "colab_type": "code",
        "colab": {}
      },
      "source": [
        "import numpy as np\n",
        "from tensorflow import keras\n",
        "from tensorflow.keras.datasets import mnist\n",
        "from tensorflow.keras.utils import to_categorical\n",
        "from tensorflow.keras.models import Sequential\n",
        "from tensorflow.keras.layers import Dense, Dropout\n"
      ],
      "execution_count": 0,
      "outputs": []
    },
    {
      "cell_type": "code",
      "metadata": {
        "id": "pcT33gCdmqTZ",
        "colab_type": "code",
        "colab": {}
      },
      "source": [
        "# input image dimensions\n",
        "img_rows, img_cols = 28, 28"
      ],
      "execution_count": 0,
      "outputs": []
    },
    {
      "cell_type": "code",
      "metadata": {
        "id": "h9uBNM6omqTb",
        "colab_type": "code",
        "colab": {
          "base_uri": "https://localhost:8080/",
          "height": 52
        },
        "outputId": "e14084f5-4064-4397-bac4-8e7ff9d2f8a8"
      },
      "source": [
        "# the data, split between train and test sets\n",
        "(x_train, y_train), (x_test, y_test) = mnist.load_data()"
      ],
      "execution_count": 3,
      "outputs": [
        {
          "output_type": "stream",
          "text": [
            "Downloading data from https://storage.googleapis.com/tensorflow/tf-keras-datasets/mnist.npz\n",
            "11493376/11490434 [==============================] - 0s 0us/step\n"
          ],
          "name": "stdout"
        }
      ]
    },
    {
      "cell_type": "code",
      "metadata": {
        "id": "dtmPbYzumqTd",
        "colab_type": "code",
        "colab": {}
      },
      "source": [
        "x_train = x_train.reshape(x_train.shape[0], img_rows * img_cols)\n",
        "x_test = x_test.reshape(x_test.shape[0], img_rows * img_cols)\n",
        "\n",
        "# Normalize Our Data\n",
        "x_train = x_train / 255\n",
        "x_test = x_test / 255"
      ],
      "execution_count": 0,
      "outputs": []
    },
    {
      "cell_type": "code",
      "metadata": {
        "id": "vG_L1RwEmqTg",
        "colab_type": "code",
        "outputId": "49d94294-c1a7-4296-cd97-35177d14cb23",
        "colab": {
          "base_uri": "https://localhost:8080/",
          "height": 34
        }
      },
      "source": [
        "# Now the data should be in a format you're more familiar with\n",
        "x_train.shape"
      ],
      "execution_count": 5,
      "outputs": [
        {
          "output_type": "execute_result",
          "data": {
            "text/plain": [
              "(60000, 784)"
            ]
          },
          "metadata": {
            "tags": []
          },
          "execution_count": 5
        }
      ]
    },
    {
      "cell_type": "code",
      "metadata": {
        "id": "Dc2QAMsb0wLl",
        "colab_type": "code",
        "colab": {
          "base_uri": "https://localhost:8080/",
          "height": 34
        },
        "outputId": "af41049f-6f0c-4d57-9e1d-ab251996b23f"
      },
      "source": [
        "x_test.shape"
      ],
      "execution_count": 6,
      "outputs": [
        {
          "output_type": "execute_result",
          "data": {
            "text/plain": [
              "(10000, 784)"
            ]
          },
          "metadata": {
            "tags": []
          },
          "execution_count": 6
        }
      ]
    },
    {
      "cell_type": "code",
      "metadata": {
        "id": "hB0u2_J30wRi",
        "colab_type": "code",
        "colab": {
          "base_uri": "https://localhost:8080/",
          "height": 34
        },
        "outputId": "dafc9025-9994-4946-eef9-86796a526b14"
      },
      "source": [
        "y_train.shape"
      ],
      "execution_count": 7,
      "outputs": [
        {
          "output_type": "execute_result",
          "data": {
            "text/plain": [
              "(60000,)"
            ]
          },
          "metadata": {
            "tags": []
          },
          "execution_count": 7
        }
      ]
    },
    {
      "cell_type": "code",
      "metadata": {
        "id": "s_juiWPK02BZ",
        "colab_type": "code",
        "colab": {
          "base_uri": "https://localhost:8080/",
          "height": 34
        },
        "outputId": "02f59f58-9d4f-4e90-f2c3-8c99bb80ba58"
      },
      "source": [
        "y_test.shape"
      ],
      "execution_count": 8,
      "outputs": [
        {
          "output_type": "execute_result",
          "data": {
            "text/plain": [
              "(10000,)"
            ]
          },
          "metadata": {
            "tags": []
          },
          "execution_count": 8
        }
      ]
    },
    {
      "cell_type": "markdown",
      "metadata": {
        "id": "VRET_aMymqTi",
        "colab_type": "text"
      },
      "source": [
        "### Making MNIST a Binary Problem \n",
        "MNIST is multiclass classification problem; however we haven't covered all the necessary techniques to handle this yet. You would need to one-hot encode the target, use a different loss metric, and use softmax activations for the last layer. This is all stuff we'll cover later this week, but let us simplify the problem for now: Zero or all else."
      ]
    },
    {
      "cell_type": "code",
      "metadata": {
        "id": "Dxm8JbiVmqTj",
        "colab_type": "code",
        "colab": {}
      },
      "source": [
        "import numpy as np\n",
        "\n",
        "y_temp = np.zeros(y_train.shape)\n",
        "y_temp[np.where(y_train == 0.0)[0]] = 1\n",
        "y_train = y_temp\n",
        "\n",
        "y_temp = np.zeros(y_test.shape)\n",
        "y_temp[np.where(y_test == 0.0)[0]] = 1\n",
        "y_test = y_temp"
      ],
      "execution_count": 0,
      "outputs": []
    },
    {
      "cell_type": "code",
      "metadata": {
        "id": "eytWfYdJmqTk",
        "colab_type": "code",
        "outputId": "22f35db1-0656-41f0-b4e5-a353f04b45e3",
        "colab": {
          "base_uri": "https://localhost:8080/",
          "height": 34
        }
      },
      "source": [
        "# A Nice Binary target for ya to work with\n",
        "y_train"
      ],
      "execution_count": 11,
      "outputs": [
        {
          "output_type": "execute_result",
          "data": {
            "text/plain": [
              "array([0., 1., 0., ..., 0., 0., 0.])"
            ]
          },
          "metadata": {
            "tags": []
          },
          "execution_count": 11
        }
      ]
    },
    {
      "cell_type": "code",
      "metadata": {
        "id": "tLkByerpCA1l",
        "colab_type": "code",
        "colab": {
          "base_uri": "https://localhost:8080/",
          "height": 34
        },
        "outputId": "6d1acc5c-da9a-4f98-a765-5a603edb9590"
      },
      "source": [
        "y_test.shape"
      ],
      "execution_count": 12,
      "outputs": [
        {
          "output_type": "execute_result",
          "data": {
            "text/plain": [
              "(10000,)"
            ]
          },
          "metadata": {
            "tags": []
          },
          "execution_count": 12
        }
      ]
    },
    {
      "cell_type": "code",
      "metadata": {
        "id": "8LKD7IAFDEyN",
        "colab_type": "code",
        "colab": {
          "base_uri": "https://localhost:8080/",
          "height": 194
        },
        "outputId": "527e46eb-5284-4c48-8e2a-e2161037cc88"
      },
      "source": [
        "model.summary()"
      ],
      "execution_count": 24,
      "outputs": [
        {
          "output_type": "stream",
          "text": [
            "Model: \"sequential_5\"\n",
            "_________________________________________________________________\n",
            "Layer (type)                 Output Shape              Param #   \n",
            "=================================================================\n",
            "dense_5 (Dense)              multiple                  785       \n",
            "=================================================================\n",
            "Total params: 785\n",
            "Trainable params: 785\n",
            "Non-trainable params: 0\n",
            "_________________________________________________________________\n"
          ],
          "name": "stdout"
        }
      ]
    },
    {
      "cell_type": "code",
      "metadata": {
        "id": "XYSNORzl2UjW",
        "colab_type": "code",
        "colab": {
          "base_uri": "https://localhost:8080/",
          "height": 390
        },
        "outputId": "2307f725-807d-410a-cf1a-56244e1906e2"
      },
      "source": [
        "# Keras Estimate: \n",
        "model = Sequential()\n",
        "model.add(Dense(2, input_dim=784, activation='softmax'))\n",
        "model.compile(loss='binary_crossentropy', optimizer='adam', metrics=['accuracy'])\n",
        "model.fit(x_train,y_train, epochs=10)"
      ],
      "execution_count": 44,
      "outputs": [
        {
          "output_type": "stream",
          "text": [
            "Epoch 1/10\n",
            "1875/1875 [==============================] - 4s 2ms/step - loss: 0.6941 - accuracy: 0.5004\n",
            "Epoch 2/10\n",
            "1875/1875 [==============================] - 4s 2ms/step - loss: 0.6932 - accuracy: 0.4980\n",
            "Epoch 3/10\n",
            "1875/1875 [==============================] - 4s 2ms/step - loss: 0.6932 - accuracy: 0.5025\n",
            "Epoch 4/10\n",
            "1875/1875 [==============================] - 4s 2ms/step - loss: 0.6932 - accuracy: 0.4982\n",
            "Epoch 5/10\n",
            "1875/1875 [==============================] - 4s 2ms/step - loss: 0.6932 - accuracy: 0.4999\n",
            "Epoch 6/10\n",
            "1875/1875 [==============================] - 4s 2ms/step - loss: 0.6932 - accuracy: 0.4972\n",
            "Epoch 7/10\n",
            "1875/1875 [==============================] - 4s 2ms/step - loss: 0.6932 - accuracy: 0.4997\n",
            "Epoch 8/10\n",
            "1875/1875 [==============================] - 4s 2ms/step - loss: 0.6932 - accuracy: 0.5032\n",
            "Epoch 9/10\n",
            "1875/1875 [==============================] - 4s 2ms/step - loss: 0.6932 - accuracy: 0.5003\n",
            "Epoch 10/10\n",
            "1875/1875 [==============================] - 4s 2ms/step - loss: 0.6932 - accuracy: 0.4975\n"
          ],
          "name": "stdout"
        },
        {
          "output_type": "execute_result",
          "data": {
            "text/plain": [
              "<tensorflow.python.keras.callbacks.History at 0x7fa43d8ff5c0>"
            ]
          },
          "metadata": {
            "tags": []
          },
          "execution_count": 44
        }
      ]
    },
    {
      "cell_type": "code",
      "metadata": {
        "id": "R5ddRnoy59Wv",
        "colab_type": "code",
        "colab": {
          "base_uri": "https://localhost:8080/",
          "height": 87
        },
        "outputId": "c1348ae1-913e-48e3-b5f4-f07339dd51df"
      },
      "source": [
        "### Evaluating the Model\n",
        "\n",
        "scores = model.evaluate(x_test, y_test)\n",
        "print(\"Validation Data Metrics:\")\n",
        "print(f\"{model.metrics_names[0]}: {scores[0]}\")\n",
        "print(f\"{model.metrics_names[1]}: {scores[1]*100}\")"
      ],
      "execution_count": 42,
      "outputs": [
        {
          "output_type": "stream",
          "text": [
            "313/313 [==============================] - 1s 2ms/step - loss: 0.6933 - accuracy: 0.6185\n",
            "Validation Data Metrics:\n",
            "loss: 0.6932697296142578\n",
            "accuracy: 61.84999942779541\n"
          ],
          "name": "stdout"
        }
      ]
    },
    {
      "cell_type": "markdown",
      "metadata": {
        "id": "T6lwuGt6mqTm",
        "colab_type": "text"
      },
      "source": [
        "### Estimating Your `net"
      ]
    },
    {
      "cell_type": "code",
      "metadata": {
        "colab_type": "code",
        "id": "5MOPtYdk1HgA",
        "colab": {}
      },
      "source": [
        "##### Your Code Here #####\n",
        "\n",
        "class NeuralNetwork:\n",
        "    def __init__(self):\n",
        "        # Set up Architecture of Neural Network\n",
        "        self.inputs = 784\n",
        "        self.hiddenNodes = 128\n",
        "        self.outputNodes = 1\n",
        "\n",
        "        # Initial Weights\n",
        "        # 3x3 Matrix Array for the First Layer\n",
        "        self.weights1 = np.random.rand(self.inputs, self.hiddenNodes)\n",
        "       \n",
        "        # 3x1 Matrix Array for Hidden to Output\n",
        "        self.weights2 = np.random.rand(self.hiddenNodes, self.outputNodes)\n",
        "        \n",
        "    def sigmoid(self, s):\n",
        "        return 1 / (1+np.exp(-s))\n",
        "    \n",
        "    def sigmoidPrime(self, s):\n",
        "        return s * (1 - s)\n",
        "    \n",
        "    def feed_forward(self, X):\n",
        "        \"\"\"\n",
        "        Calculate the NN inference using feed forward.\n",
        "        aka \"predict\"\n",
        "        \"\"\"\n",
        "        \n",
        "        # Weighted sum of inputs => hidden layer\n",
        "        self.hidden_sum = np.dot(X, self.weights1)\n",
        "        \n",
        "        # Activations of weighted sum\n",
        "        self.activated_hidden = self.sigmoid(self.hidden_sum)\n",
        "        \n",
        "        # Weight sum between hidden and output\n",
        "        self.output_sum = np.dot(self.activated_hidden, self.weights2)\n",
        "        \n",
        "        # Final activation of output\n",
        "        self.activated_output = self.sigmoid(self.output_sum)\n",
        "        \n",
        "        return self.activated_output\n",
        "        \n",
        "    def backward(self, X,y,o):\n",
        "        \"\"\"\n",
        "        Backward propagate through the network\n",
        "        \"\"\"\n",
        "        \n",
        "        # Error in Output\n",
        "        # Categorical Cross Entropy - Would a function to do this. \n",
        "        self.o_error = y - o\n",
        "        \n",
        "        # Apply Derivative of Sigmoid to error\n",
        "        # How far off are we in relation to the Sigmoid f(x) of the output\n",
        "        # ^- aka hidden => output\n",
        "        self.o_delta = self.o_error * self.sigmoidPrime(o)\n",
        "        \n",
        "        # z2 error\n",
        "        self.o_delta = np.expand_dims(self.o_delta, axis=1)\n",
        "        self.z2_error = self.o_delta * self.weights2.T\n",
        "        \n",
        "        # How much of that \"far off\" can explained by the input => hidden\n",
        "        self.z2_delta = self.z2_error * self.sigmoidPrime(self.activated_hidden)\n",
        "        \n",
        "        # Adjustment to first set of weights (input => hidden)\n",
        "        self.weights1 += X.T.dot(self.z2_delta)\n",
        "        # Adjustment to second set of weights (hidden => output)\n",
        "        self.weights2 += self.activated_hidden.T.dot(self.o_delta)\n",
        "        \n",
        "\n",
        "    def train(self, X, y):\n",
        "        o = self.feed_forward(X)[:,0]\n",
        "        self.backward(X,y,o)"
      ],
      "execution_count": 0,
      "outputs": []
    },
    {
      "cell_type": "code",
      "metadata": {
        "id": "iFoejKnXGlIr",
        "colab_type": "code",
        "colab": {
          "base_uri": "https://localhost:8080/",
          "height": 34
        },
        "outputId": "7c6c3780-70c7-46f8-bdfb-abb452f160d0"
      },
      "source": [
        "nn.o_error.shape"
      ],
      "execution_count": 56,
      "outputs": [
        {
          "output_type": "execute_result",
          "data": {
            "text/plain": [
              "(7, 1)"
            ]
          },
          "metadata": {
            "tags": []
          },
          "execution_count": 56
        }
      ]
    },
    {
      "cell_type": "code",
      "metadata": {
        "id": "HiPb3l78GlLj",
        "colab_type": "code",
        "colab": {}
      },
      "source": [
        "t = nn.o_error * nn.sigmoidPrime(nn.feed_forward(x_test[:500]))\n",
        "t.shape"
      ],
      "execution_count": 0,
      "outputs": []
    },
    {
      "cell_type": "code",
      "metadata": {
        "id": "rfcfksL4GsIf",
        "colab_type": "code",
        "colab": {
          "base_uri": "https://localhost:8080/",
          "height": 816
        },
        "outputId": "8e7639c2-518a-42b4-b659-6873c9b9ff62"
      },
      "source": [
        "nn = NeuralNetwork()\n",
        "\n",
        "# Number of Epochs / Iterations\n",
        "for i in range(10000):\n",
        "    if (i+1 in [1,2,3,4,5]) or ((i+1) % 1000 ==0):\n",
        "        print('+' + '---' * 3 + f'EPOCH {i+1}' + '---'*3 + '+')\n",
        "        print(\"Loss: \\n\", str(np.mean(np.square(y_test- nn.feed_forward(x_test)))))\n",
        "    nn.train(x_train[:500],y_train[:500])"
      ],
      "execution_count": 32,
      "outputs": [
        {
          "output_type": "stream",
          "text": [
            "+---------EPOCH 1---------+\n",
            "Loss: \n",
            " 0.098\n",
            "+---------EPOCH 2---------+\n",
            "Loss: \n",
            " 0.098\n",
            "+---------EPOCH 3---------+\n",
            "Loss: \n",
            " 0.098\n",
            "+---------EPOCH 4---------+\n",
            "Loss: \n",
            " 0.098\n",
            "+---------EPOCH 5---------+\n",
            "Loss: \n",
            " 0.098\n",
            "+---------EPOCH 1000---------+\n",
            "Loss: \n",
            " 0.098\n",
            "+---------EPOCH 2000---------+\n",
            "Loss: \n",
            " 0.098\n",
            "+---------EPOCH 3000---------+\n",
            "Loss: \n",
            " 0.098\n",
            "+---------EPOCH 4000---------+\n",
            "Loss: \n",
            " 0.098\n",
            "+---------EPOCH 5000---------+\n",
            "Loss: \n",
            " 0.098\n",
            "+---------EPOCH 6000---------+\n",
            "Loss: \n",
            " 0.098\n",
            "+---------EPOCH 7000---------+\n",
            "Loss: \n",
            " 0.098\n",
            "+---------EPOCH 8000---------+\n",
            "Loss: \n",
            " 0.098\n",
            "+---------EPOCH 9000---------+\n",
            "Loss: \n",
            " 0.098\n",
            "+---------EPOCH 10000---------+\n",
            "Loss: \n",
            " 0.098\n"
          ],
          "name": "stdout"
        }
      ]
    },
    {
      "cell_type": "markdown",
      "metadata": {
        "colab_type": "text",
        "id": "FwlRJSfBlCvy"
      },
      "source": [
        "## Stretch Goals: \n",
        "\n",
        "- Make MNIST a multiclass problem using cross entropy & soft-max\n",
        "- Implement Cross Validation model evaluation on your MNIST implementation \n",
        "- Research different [Gradient Descent Based Optimizers](https://keras.io/optimizers/)\n",
        " - [Siraj Raval the evolution of gradient descent](https://www.youtube.com/watch?v=nhqo0u1a6fw)\n",
        "- Build a housing price estimation model using a neural network. How does its accuracy compare with the regression models that we fit earlier on in class?"
      ]
    }
  ]
}