{
  "nbformat": 4,
  "nbformat_minor": 0,
  "metadata": {
    "colab": {
      "name": "LS_DS_432_Backprop_Assignment.ipynb",
      "provenance": []
    },
    "kernelspec": {
      "display_name": "Python 3",
      "language": "python",
      "name": "python3"
    },
    "language_info": {
      "codemirror_mode": {
        "name": "ipython",
        "version": 3
      },
      "file_extension": ".py",
      "mimetype": "text/x-python",
      "name": "python",
      "nbconvert_exporter": "python",
      "pygments_lexer": "ipython3",
      "version": "3.7.3"
    }
  },
  "cells": [
    {
      "cell_type": "markdown",
      "metadata": {
        "colab_type": "text",
        "id": "NGGrt9EYlCqY"
      },
      "source": [
        "<img align=\"left\" src=\"https://lever-client-logos.s3.amazonaws.com/864372b1-534c-480e-acd5-9711f850815c-1524247202159.png\" width=200>\n",
        "<br></br>\n",
        "\n",
        "# Backpropagation Practice\n",
        "\n",
        "## *Data Science Unit 4 Sprint 2 Assignment 2*\n",
        "\n",
        "Implement a 3 input, 4 node hidden-layer, 1 output node Multilayer Perceptron on the following dataset:\n",
        "\n",
        "| x1 | x2 | x3 | y |\n",
        "|----|----|----|---|\n",
        "| 0  | 0  | 1  | 0 |\n",
        "| 0  | 1  | 1  | 1 |\n",
        "| 1  | 0  | 1  | 1 |\n",
        "| 0  | 1  | 0  | 1 |\n",
        "| 1  | 0  | 0  | 1 |\n",
        "| 1  | 1  | 1  | 0 |\n",
        "| 0  | 0  | 0  | 0 |\n",
        "\n",
        "If you look at the data you'll notice that the first two columns behave like an XOR gate while the last column is mostly just noise. Remember that creating an XOR gate was what the perceptron was criticized for not being able to learn. "
      ]
    },
    {
      "cell_type": "code",
      "metadata": {
        "colab_type": "code",
        "id": "nEREYT-3wI1f",
        "colab": {}
      },
      "source": [
        "import numpy as np\n",
        "import matplotlib.pyplot as plt"
      ],
      "execution_count": 0,
      "outputs": []
    },
    {
      "cell_type": "code",
      "metadata": {
        "id": "DQ0rbvi7zVLs",
        "colab_type": "code",
        "colab": {}
      },
      "source": [
        "class NeuralNetwork:\n",
        "    def __init__(self, input_nodes, hidden_nodes, output_nodes):\n",
        "        # Set up Architecture of Neural Network\n",
        "        self.input_nodes = input_nodes\n",
        "        self.hidden_nodes = hidden_nodes\n",
        "        self.output_nodes = output_nodes\n",
        "\n",
        "        self.weights1 = np.random.rand(self.input_nodes, self.hidden_nodes)\n",
        "        self.weights2 = np.random.rand(self.hidden_nodes, self.output_nodes)\n",
        "        \n",
        "    def sigmoid(self, x):\n",
        "        return 1 / (1 + np.exp(-x))\n",
        "    \n",
        "    def sigmoid_prime(self, x):\n",
        "        return x * (1 - x)\n",
        "    \n",
        "    def feed_forward(self, X):\n",
        "        self.hidden_sum = np.dot(X, self.weights1)\n",
        "        self.hidden_activated = self.sigmoid(self.hidden_sum)\n",
        "\n",
        "        self.output_sum = np.dot(self.hidden_activated, self.weights2)\n",
        "        self.output_activated = self.sigmoid(self.output_sum)\n",
        "        \n",
        "        return self.output_activated\n",
        "        \n",
        "    def backward(self, X, y, output):\n",
        "        self.out_error = y - output\n",
        "        self.out_delta = self.out_error * self.sigmoid_prime(output)\n",
        "        \n",
        "        self.hidden_error = np.dot(self.out_delta, self.weights2.T)\n",
        "        self.hidden_delta = self.hidden_error * self.sigmoid_prime(self.hidden_activated)\n",
        "        \n",
        "        self.weights1 += np.dot(X.T, self.hidden_delta)\n",
        "        self.weights2 += np.dot(self.hidden_activated.T, self.out_delta)\n",
        "\n",
        "    def train(self, X, y):\n",
        "        out = self.feed_forward(X)\n",
        "        self.backward(X, y, out)\n",
        "\n",
        "    def loss(self, X, y):\n",
        "        return np.mean(np.square(y - self.feed_forward(X)))"
      ],
      "execution_count": 0,
      "outputs": []
    },
    {
      "cell_type": "code",
      "metadata": {
        "id": "RkZWt4cIzcmR",
        "colab_type": "code",
        "colab": {
          "base_uri": "https://localhost:8080/",
          "height": 747
        },
        "outputId": "b7b3a3a1-3945-4569-a8d4-fb107d9879f9"
      },
      "source": [
        "network = NeuralNetwork(3, 4, 1)\n",
        "X = np.array([[0, 0, 1],\n",
        "[0, 1, 1],\n",
        "[1, 0, 1],\n",
        "[0, 1, 0],\n",
        "[1, 0, 0],\n",
        "[1, 1, 1],\n",
        "[0, 0, 0]])\n",
        "y = np.array([[0], [1], [1],[ 1], [1], [0], [0]])\n",
        "\n",
        "losses = []\n",
        "\n",
        "for i in range(1000):\n",
        "    network.train(X,y)\n",
        "    losses.append(network.loss(X, y))\n",
        "\n",
        "print(\"=\"*16 + f\"[ EPOCH {i+1} ]\" + \"=\"*16)\n",
        "print(\"Input:\", np.array2string(X), sep=\"\\n\")\n",
        "print(\"Actual Output:\", np.array2string(y), sep=\"\\n\")\n",
        "print(\"Predicted Output:\", np.array2string(network.feed_forward(X)), sep=\"\\n\")\n",
        "print(\"Loss: \\n\", network.loss(X, y))\n",
        "\n",
        "plt.plot(range(1, len(losses) + 1), losses, marker=\"o\");"
      ],
      "execution_count": 29,
      "outputs": [
        {
          "output_type": "stream",
          "text": [
            "================[ EPOCH 1000 ]================\n",
            "Input:\n",
            "[[0 0 1]\n",
            " [0 1 1]\n",
            " [1 0 1]\n",
            " [0 1 0]\n",
            " [1 0 0]\n",
            " [1 1 1]\n",
            " [0 0 0]]\n",
            "Actual Output:\n",
            "[[0]\n",
            " [1]\n",
            " [1]\n",
            " [1]\n",
            " [1]\n",
            " [0]\n",
            " [0]]\n",
            "Predicted Output:\n",
            "[[0.01890926]\n",
            " [0.93784483]\n",
            " [0.94487892]\n",
            " [0.96310725]\n",
            " [0.96433503]\n",
            " [0.06444645]\n",
            " [0.08086715]]\n",
            "Loss: \n",
            " 0.002940723552583\n"
          ],
          "name": "stdout"
        },
        {
          "output_type": "display_data",
          "data": {
            "image/png": "[encoded data removed]",
            "text/plain": [
              "<Figure size 432x288 with 1 Axes>"
            ]
          },
          "metadata": {
            "tags": []
          }
        }
      ]
    },
    {
      "cell_type": "markdown",
      "metadata": {
        "colab_type": "text",
        "id": "8b-r70o8p2Dm"
      },
      "source": [
        "## Try building/training a more complex MLP on a bigger dataset.\n",
        "\n",
        "Use the [MNIST dataset](http://yann.lecun.com/exdb/mnist/) to build the cannonical handwriting digit recognizer and see what kind of accuracy you can achieve. \n",
        "\n",
        "If you need inspiration, the internet is chalk-full of tutorials, but I want you to see how far you can get on your own first. I've linked to the original MNIST dataset above but it will probably be easier to download data through a neural network library. If you reference outside resources make sure you understand every line of code that you're using from other sources, and share with your fellow students helpful resources that you find.\n",
        "\n",
        "\n",
        "### Parts\n",
        "1. Gathering & Transforming the Data\n",
        "2. Making MNIST a Binary Problem\n",
        "3. Estimating your Neural Network (the part you focus on)"
      ]
    },
    {
      "cell_type": "markdown",
      "metadata": {
        "id": "GHHDVbainV_h",
        "colab_type": "text"
      },
      "source": [
        "### Gathering the Data \n",
        "\n",
        "`keras` has a handy method to pull the mnist dataset for you. You'll notice that each observation is a 28x28 arrary which represents an image. Although most Neural Network frameworks can handle higher dimensional data, that is more overhead than necessary for us. We need to flatten the image to one long row which will be 784 values (28X28). Basically, you will be appending each row to one another to make on really long row. "
      ]
    },
    {
      "cell_type": "code",
      "metadata": {
        "id": "LxtdkfJKnV_i",
        "colab_type": "code",
        "colab": {
          "base_uri": "https://localhost:8080/",
          "height": 64
        },
        "outputId": "815d28a7-7471-454c-fa14-f5fff2bf58ae"
      },
      "source": [
        "import numpy as np\n",
        "from tensorflow.keras.datasets import mnist\n",
        "from tensorflow.keras.utils import to_categorical"
      ],
      "execution_count": 4,
      "outputs": [
        {
          "output_type": "display_data",
          "data": {
            "text/html": [
              "<p style=\"color: red;\">\n",
              "The default version of TensorFlow in Colab will soon switch to TensorFlow 2.x.<br>\n",
              "We recommend you <a href=\"https://www.tensorflow.org/guide/migrate\" target=\"_blank\">upgrade</a> now \n",
              "or ensure your notebook will continue to use TensorFlow 1.x via the <code>%tensorflow_version 1.x</code> magic:\n",
              "<a href=\"https://colab.research.google.com/notebooks/tensorflow_version.ipynb\" target=\"_blank\">more info</a>.</p>\n"
            ],
            "text/plain": [
              "<IPython.core.display.HTML object>"
            ]
          },
          "metadata": {
            "tags": []
          }
        }
      ]
    },
    {
      "cell_type": "code",
      "metadata": {
        "id": "wO1Jq39ynV_o",
        "colab_type": "code",
        "colab": {}
      },
      "source": [
        "# input image dimensions\n",
        "img_rows, img_cols = 28, 28"
      ],
      "execution_count": 0,
      "outputs": []
    },
    {
      "cell_type": "code",
      "metadata": {
        "id": "bX7vPD2mnV_w",
        "colab_type": "code",
        "colab": {}
      },
      "source": [
        "# the data, split between train and test sets\n",
        "(x_train, y_train), (x_test, y_test) = mnist.load_data()"
      ],
      "execution_count": 0,
      "outputs": []
    },
    {
      "cell_type": "code",
      "metadata": {
        "id": "R6znWTEqnV_3",
        "colab_type": "code",
        "colab": {}
      },
      "source": [
        "x_train = x_train.reshape(x_train.shape[0], img_rows * img_cols)\n",
        "x_test = x_test.reshape(x_test.shape[0], img_rows * img_cols)\n",
        "\n",
        "# Normalize Our Data\n",
        "x_train = x_train / 255\n",
        "x_test = x_test / 255"
      ],
      "execution_count": 0,
      "outputs": []
    },
    {
      "cell_type": "code",
      "metadata": {
        "id": "VxpEduE4nV_9",
        "colab_type": "code",
        "colab": {
          "base_uri": "https://localhost:8080/",
          "height": 35
        },
        "outputId": "0afdbc0c-ffc9-4ea5-ead9-285766a45d25"
      },
      "source": [
        "# Now the data should be in a format you're more familiar with\n",
        "x_train.shape"
      ],
      "execution_count": 8,
      "outputs": [
        {
          "output_type": "execute_result",
          "data": {
            "text/plain": [
              "(60000, 784)"
            ]
          },
          "metadata": {
            "tags": []
          },
          "execution_count": 8
        }
      ]
    },
    {
      "cell_type": "markdown",
      "metadata": {
        "id": "SIsqH2zsnWAE",
        "colab_type": "text"
      },
      "source": [
        "### Making MNIST a Binary Problem \n",
        "MNIST is multiclass classification problem; however we haven't covered all the necessary techniques to handle this yet. You would need to one-hot encode the target, use a different loss metric, and use softmax activations for the last layer. This is all stuff we'll cover later this week, but let us simply the problem for now: Zero or all else."
      ]
    },
    {
      "cell_type": "code",
      "metadata": {
        "id": "aK1Fb-ySnWAG",
        "colab_type": "code",
        "colab": {}
      },
      "source": [
        "import numpy as np\n",
        "\n",
        "y_temp = np.zeros(y_train.shape)\n",
        "y_temp[np.where(y_train == 0.0)[0]] = 1\n",
        "y_train = y_temp\n",
        "\n",
        "y_temp = np.zeros(y_test.shape)\n",
        "y_temp[np.where(y_test == 0.0)[0]] = 1\n",
        "y_test = y_temp"
      ],
      "execution_count": 0,
      "outputs": []
    },
    {
      "cell_type": "code",
      "metadata": {
        "id": "snsoAS9EnWAM",
        "colab_type": "code",
        "colab": {
          "base_uri": "https://localhost:8080/",
          "height": 35
        },
        "outputId": "ffa509be-d694-4c58-9bfd-67787f38865a"
      },
      "source": [
        "# A Nice Binary target for ya to work with\n",
        "y_train"
      ],
      "execution_count": 10,
      "outputs": [
        {
          "output_type": "execute_result",
          "data": {
            "text/plain": [
              "array([0., 1., 0., ..., 0., 0., 0.])"
            ]
          },
          "metadata": {
            "tags": []
          },
          "execution_count": 10
        }
      ]
    },
    {
      "cell_type": "code",
      "metadata": {
        "id": "R68QCaiSgT-l",
        "colab_type": "code",
        "colab": {
          "base_uri": "https://localhost:8080/",
          "height": 142
        },
        "outputId": "b9d897aa-31de-4f99-8362-7d4cc1cb5aa7"
      },
      "source": [
        "import pandas as pd\n",
        "\n",
        "sample_index = np.random.randint(x_train.shape[0], size=5000)\n",
        "\n",
        "X_sample = x_train[sample_index]\n",
        "y_sample = np.array(pd.DataFrame(data=y_train[sample_index]))\n",
        "y_sample"
      ],
      "execution_count": 31,
      "outputs": [
        {
          "output_type": "execute_result",
          "data": {
            "text/plain": [
              "array([[0.],\n",
              "       [0.],\n",
              "       [1.],\n",
              "       ...,\n",
              "       [0.],\n",
              "       [1.],\n",
              "       [0.]])"
            ]
          },
          "metadata": {
            "tags": []
          },
          "execution_count": 31
        }
      ]
    },
    {
      "cell_type": "markdown",
      "metadata": {
        "id": "OfLm8P6HnWAT",
        "colab_type": "text"
      },
      "source": [
        "### Estimating Your `net"
      ]
    },
    {
      "cell_type": "code",
      "metadata": {
        "id": "WdTormcPaAE5",
        "colab_type": "code",
        "colab": {}
      },
      "source": [
        "class NeuralNetwork2:\n",
        "    def __init__(self, input_nodes=784, hidden_nodes=32, output_nodes=1):\n",
        "        # Set up Architecture of Neural Network\n",
        "        self.input_nodes = input_nodes\n",
        "        self.hidden1_nodes = hidden_nodes\n",
        "        self.hidden2_nodes = hidden_nodes\n",
        "        self.output_nodes = output_nodes\n",
        "\n",
        "        self.weights1 = np.random.rand(self.input_nodes, self.hidden1_nodes)\n",
        "        self.weights2 = np.random.rand(self.hidden1_nodes, self.hidden2_nodes)\n",
        "        self.weights3 = np.random.rand(self.hidden2_nodes, self.output_nodes)\n",
        "        \n",
        "    def sigmoid(self, x):\n",
        "        return 1 / (1 + np.exp(-x))\n",
        "    \n",
        "    def sigmoid_prime(self, x):\n",
        "        return x * (1 - x)\n",
        "    \n",
        "    def feed_forward(self, X):\n",
        "        self.hidden1_sum = np.dot(X, self.weights1)\n",
        "        self.hidden1_activated = self.sigmoid(self.hidden1_sum)\n",
        "\n",
        "        self.hidden2_sum = np.dot(self.hidden1_activated, self.weights2)\n",
        "        self.hidden2_activated = self.sigmoid(self.hidden2_sum)\n",
        "\n",
        "        self.output_sum = np.dot(self.hidden2_activated, self.weights3)\n",
        "        self.output_activated = self.sigmoid(self.output_sum)\n",
        "        \n",
        "    def backward(self, X, y):\n",
        "        self.out_error = y - self.output_activated\n",
        "        self.out_delta = self.out_error * self.sigmoid_prime(self.output_activated)\n",
        "        \n",
        "        self.hidden2_error = np.dot(self.out_delta, self.weights3.T)\n",
        "        self.hidden2_delta = self.hidden2_error * self.sigmoid_prime(self.hidden2_activated)\n",
        "\n",
        "        self.hidden1_error = np.dot(self.hidden2_delta, self.weights2.T)\n",
        "        self.hidden1_delta = self.hidden1_error * self.sigmoid_prime(self.hidden1_activated)\n",
        "        \n",
        "        self.weights1 += np.dot(X.T, self.hidden1_delta)\n",
        "        self.weights2 += np.dot(self.hidden1_activated.T, self.hidden2_delta)\n",
        "        self.weights3 += np.dot(self.hidden2_activated.T, self.out_delta)\n",
        "\n",
        "    def train(self, X, y):\n",
        "        self.feed_forward(X)\n",
        "        self.backward(X, y)\n",
        "\n",
        "    def loss(self, X, y):\n",
        "        self.feed_forward(X)\n",
        "        return np.mean(np.square(y - self.output_activated))"
      ],
      "execution_count": 0,
      "outputs": []
    },
    {
      "cell_type": "code",
      "metadata": {
        "colab_type": "code",
        "id": "5MOPtYdk1HgA",
        "colab": {
          "base_uri": "https://localhost:8080/",
          "height": 901
        },
        "outputId": "f3728db3-8314-4e04-a1d4-a36c90b0ed3c"
      },
      "source": [
        "##### Your Code Here #####\n",
        "\n",
        "network2 = NeuralNetwork2()\n",
        "\n",
        "losses = []\n",
        "\n",
        "for i in range(100):\n",
        "    network2.train(X_sample, y_sample)\n",
        "    losses.append(network2.loss(X_sample, y_sample))\n",
        "\n",
        "print(\"=\"*16 + f\"[ EPOCH {i+1} ]\" + \"=\"*16)\n",
        "print(\"Input:\", np.array2string(X), sep=\"\\n\")\n",
        "print(\"Actual Output:\", np.array2string(y), sep=\"\\n\")\n",
        "print(\"Predicted Output:\", np.array2string(network2.output_activated), sep=\"\\n\")\n",
        "print(\"Loss: \\n\", network2.loss(X_sample, y_sample))\n",
        "print(\"Weights: \\n\", network2.weights2)\n",
        "\n",
        "plt.plot(range(1, len(losses) + 1), losses, marker=\"o\");\n"
      ],
      "execution_count": 35,
      "outputs": [
        {
          "output_type": "stream",
          "text": [
            "================[ EPOCH 100 ]================\n",
            "Input:\n",
            "[[0 0 1]\n",
            " [0 1 1]\n",
            " [1 0 1]\n",
            " [0 1 0]\n",
            " [1 0 0]\n",
            " [1 1 1]\n",
            " [0 0 0]]\n",
            "Actual Output:\n",
            "[[0]\n",
            " [1]\n",
            " [1]\n",
            " [1]\n",
            " [1]\n",
            " [0]\n",
            " [0]]\n",
            "Predicted Output:\n",
            "[[0.99999998]\n",
            " [0.99999998]\n",
            " [0.99999998]\n",
            " ...\n",
            " [0.99999998]\n",
            " [0.99999998]\n",
            " [0.99999998]]\n",
            "Loss: \n",
            " 0.9031999619916372\n",
            "Weights: \n",
            " [[0.42521573 0.64151572 0.44010847 ... 0.45452647 0.89269294 0.96371713]\n",
            " [0.25981781 0.15829854 0.75720897 ... 0.94025541 0.3634275  0.53752323]\n",
            " [0.56591759 0.90289046 0.79924982 ... 0.65431636 0.94998239 0.43183084]\n",
            " ...\n",
            " [0.81286978 0.88468882 0.03537155 ... 0.57645084 0.4011842  0.64217293]\n",
            " [0.98607503 0.52141208 0.06526268 ... 0.5382251  0.08201568 0.47111267]\n",
            " [0.77845993 0.99826813 0.52855291 ... 0.15642456 0.64027452 0.48938041]]\n"
          ],
          "name": "stdout"
        },
        {
          "output_type": "display_data",
          "data": {
            "image/png": "[encoded data removed]",
            "text/plain": [
              "<Figure size 432x288 with 1 Axes>"
            ]
          },
          "metadata": {
            "tags": []
          }
        }
      ]
    },
    {
      "cell_type": "markdown",
      "metadata": {
        "colab_type": "text",
        "id": "FwlRJSfBlCvy"
      },
      "source": [
        "## Stretch Goals: \n",
        "\n",
        "- Make MNIST a multiclass problem using cross entropy & soft-max\n",
        "- Implement Cross Validation model evaluation on your MNIST implementation \n",
        "- Research different [Gradient Descent Based Optimizers](https://keras.io/optimizers/)\n",
        " - [Siraj Raval the evolution of gradient descent](https://www.youtube.com/watch?v=nhqo0u1a6fw)\n",
        "- Build a housing price estimation model using a neural network. How does its accuracy compare with the regression models that we fit earlier on in class?"
      ]
    }
  ]
}