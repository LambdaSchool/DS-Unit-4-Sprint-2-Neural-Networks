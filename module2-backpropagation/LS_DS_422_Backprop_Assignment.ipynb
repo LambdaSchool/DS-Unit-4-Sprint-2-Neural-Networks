{
 "cells": [
  {
   "cell_type": "markdown",
   "metadata": {
    "colab_type": "text",
    "id": "NGGrt9EYlCqY"
   },
   "source": [
    "<img align=\"left\" src=\"https://lever-client-logos.s3.amazonaws.com/864372b1-534c-480e-acd5-9711f850815c-1524247202159.png\" width=200>\n",
    "<br></br>\n",
    "\n",
    "# Backpropagation Practice\n",
    "\n",
    "## *Data Science Unit 4 Sprint 2 Assignment 2*\n",
    "\n",
    "Implement a 3 input, 4 node hidden-layer, 1 output node Multilayer Perceptron on the following dataset:\n",
    "\n",
    "| x1 | x2 | x3 | y |\n",
    "|----|----|----|---|\n",
    "| 0  | 0  | 1  | 0 |\n",
    "| 0  | 1  | 1  | 1 |\n",
    "| 1  | 0  | 1  | 1 |\n",
    "| 0  | 1  | 0  | 1 |\n",
    "| 1  | 0  | 0  | 1 |\n",
    "| 1  | 1  | 1  | 0 |\n",
    "| 0  | 0  | 0  | 0 |\n",
    "\n",
    "If you look at the data you'll notice that the first two columns behave like an XOR gate while the last column is mostly just noise. Remember that creating an XOR gate was what the perceptron was criticized for not being able to learn. This multi-layer one shouldn't have any such problems."
   ]
  },
  {
   "cell_type": "code",
   "execution_count": 1,
   "metadata": {},
   "outputs": [],
   "source": [
    "# imports \n",
    "import numpy as np\n",
    "import pandas as pd "
   ]
  },
  {
   "cell_type": "code",
   "execution_count": 2,
   "metadata": {},
   "outputs": [],
   "source": [
    "# features\n",
    "features = np.array((\n",
    "                    [0,0,1],\n",
    "                    [0,1,1],\n",
    "                    [1,0,1],\n",
    "                    [0,1,0],\n",
    "                    [1,0,0],\n",
    "                    [1,1,1],\n",
    "                    [0,0,0]), dtype=float)\n",
    "\n",
    "# target\n",
    "target = np.array(([0],[1],[1],[1],[1],[0],[0]), dtype=float)"
   ]
  },
  {
   "cell_type": "code",
   "execution_count": 3,
   "metadata": {
    "colab": {},
    "colab_type": "code",
    "id": "nEREYT-3wI1f"
   },
   "outputs": [],
   "source": [
    "##### Your Code Here #####\n",
    "\n",
    "class NeuralNetwork:\n",
    "    \n",
    "    def __init__(self):\n",
    "        # inputs, hidden, output per spec above\n",
    "        self.inputs = 3\n",
    "        self.hiddenNodes = 4\n",
    "        self.outputNodes = 1\n",
    "        \n",
    "        # initialize weights for input -> hidden which is 3 x 4 array\n",
    "        self.weights_one = np.random.randn(self.inputs, self.hiddenNodes)\n",
    "        # initialize weights for hidden -> output which is 4 x 1 array\n",
    "        self.weights_two = np.random.randn(self.hiddenNodes, self.outputNodes)\n",
    "        \n",
    "    # sigmoid function \n",
    "    def sigmoid(self, s):\n",
    "        return 1 / (1+np.exp(-s))\n",
    "    \n",
    "    # derivative of sigmoid helper\n",
    "    def derivative(self, s):\n",
    "        sx = self.sigmoid(s)\n",
    "        return sx * (1-sx)\n",
    "    \n",
    "    def feed_forward(self, X):\n",
    "        \"\"\"\n",
    "        Calculate NN inference using feed forward\n",
    "        \"\"\"\n",
    "        # weighted sum\n",
    "        self.hidden_sum = np.dot(X, self.weights_one)\n",
    "        \n",
    "        # activate\n",
    "        self.activated_hidden = self.sigmoid(self.hidden_sum)\n",
    "        \n",
    "        # weighted sum of activated hidden which output will use\n",
    "        self.output_sum = np.dot(self.activated_hidden, self.weights_two)\n",
    "        \n",
    "        # final activation of output (predictions)\n",
    "        self.activated_output = self.sigmoid(self.output_sum)\n",
    "        \n",
    "        return self.activated_output\n",
    "    \n",
    "    def backward(self, X, y, o):\n",
    "        \"\"\"\n",
    "        Back prop thru with errors and make adjustments\n",
    "        \"\"\"\n",
    "        # absolute error\n",
    "        self.o_error = y - o\n",
    "        # partial derivative of error \n",
    "        self.o_delta = self.o_error * self.derivative(o)\n",
    "        # z2 error: amount output layer weights were off by \n",
    "        self.z2_error = self.o_delta.dot(self.weights_two.T)\n",
    "        \n",
    "        # z2 delta\n",
    "        self.z2_delta = self.z2_error*self.derivative(self.activated_hidden)\n",
    "        \n",
    "        # adjust weights by the deltas\n",
    "        self.weights_one += X.T.dot(self.z2_delta)\n",
    "        self.weights_two += self.activated_hidden.T.dot(self.o_delta)\n",
    "    \n",
    "    def train(self, X, y):\n",
    "        o = self.feed_forward(X)\n",
    "        self.backward(X, y, o)\n",
    "        "
   ]
  },
  {
   "cell_type": "code",
   "execution_count": 4,
   "metadata": {},
   "outputs": [],
   "source": [
    "nn = NeuralNetwork()\n",
    "\n",
    "nn.train(features, target)"
   ]
  },
  {
   "cell_type": "code",
   "execution_count": 5,
   "metadata": {},
   "outputs": [
    {
     "data": {
      "text/plain": [
       "(array([[-0.21737236],\n",
       "        [ 0.7775212 ],\n",
       "        [ 0.74182982],\n",
       "        [ 0.71450602],\n",
       "        [ 0.65363123],\n",
       "        [-0.27527812],\n",
       "        [-0.27462314]]),\n",
       " array([[-0.05370617],\n",
       "        [ 0.1919947 ],\n",
       "        [ 0.18240119],\n",
       "        [ 0.17503557],\n",
       "        [ 0.1586031 ],\n",
       "        [-0.06753207],\n",
       "        [-0.06737742]]),\n",
       " array([[ 0.00680858, -0.01850975,  0.05064994,  0.06537994],\n",
       "        [-0.02434005,  0.06617069, -0.18106895, -0.23372736],\n",
       "        [-0.02312383,  0.0628643 , -0.17202137, -0.22204857],\n",
       "        [-0.02219006,  0.06032575, -0.16507489, -0.21308192],\n",
       "        [-0.02010684,  0.05466232, -0.14957755, -0.19307764],\n",
       "        [ 0.00856135, -0.02327483,  0.06368905,  0.08221108],\n",
       "        [ 0.00854174, -0.02322153,  0.0635432 ,  0.08202281]]),\n",
       " array([[ 0.00153697, -0.00402602,  0.01205571,  0.01369189],\n",
       "        [-0.00598643,  0.01568374, -0.04358978, -0.04941069],\n",
       "        [-0.00531704,  0.01275008, -0.04149244, -0.04793159],\n",
       "        [-0.00551237,  0.01490161, -0.03930425, -0.05060054],\n",
       "        [-0.00479626,  0.01163323, -0.03569629, -0.04664318],\n",
       "        [ 0.00211705, -0.00499688,  0.01550211,  0.01795702],\n",
       "        [ 0.00200734, -0.00545714,  0.01493289,  0.01927567]]))"
      ]
     },
     "execution_count": 5,
     "metadata": {},
     "output_type": "execute_result"
    }
   ],
   "source": [
    "nn.o_error, nn.o_delta, nn.z2_error, nn.z2_delta # one iteration's numbers\n"
   ]
  },
  {
   "cell_type": "code",
   "execution_count": 6,
   "metadata": {},
   "outputs": [
    {
     "name": "stdout",
     "output_type": "stream",
     "text": [
      "Input: \n",
      " [[0. 0. 1.]\n",
      " [0. 1. 1.]\n",
      " [1. 0. 1.]\n",
      " [0. 1. 0.]\n",
      " [1. 0. 0.]\n",
      " [1. 1. 1.]\n",
      " [0. 0. 0.]]\n",
      "Output: \n",
      " [[0.]\n",
      " [1.]\n",
      " [1.]\n",
      " [1.]\n",
      " [1.]\n",
      " [0.]\n",
      " [0.]]\n",
      "Predicted Output \n",
      " [[3.26290138e-04]\n",
      " [9.36138891e-01]\n",
      " [9.27535134e-01]\n",
      " [9.28638637e-01]\n",
      " [9.34937286e-01]\n",
      " [1.17039748e-01]\n",
      " [7.06410349e-02]]\n",
      "Loss: \n",
      " 0.005334794822805138\n",
      "Input: \n",
      " [[0. 0. 1.]\n",
      " [0. 1. 1.]\n",
      " [1. 0. 1.]\n",
      " [0. 1. 0.]\n",
      " [1. 0. 0.]\n",
      " [1. 1. 1.]\n",
      " [0. 0. 0.]]\n",
      "Output: \n",
      " [[0.]\n",
      " [1.]\n",
      " [1.]\n",
      " [1.]\n",
      " [1.]\n",
      " [0.]\n",
      " [0.]]\n",
      "Predicted Output \n",
      " [[1.09659787e-05]\n",
      " [9.74033902e-01]\n",
      " [9.74576472e-01]\n",
      " [9.74002023e-01]\n",
      " [9.74607817e-01]\n",
      " [4.31577135e-02]\n",
      " [2.42194066e-02]]\n",
      "Loss: \n",
      " 0.0007272028303748739\n",
      "Input: \n",
      " [[0. 0. 1.]\n",
      " [0. 1. 1.]\n",
      " [1. 0. 1.]\n",
      " [0. 1. 0.]\n",
      " [1. 0. 0.]\n",
      " [1. 1. 1.]\n",
      " [0. 0. 0.]]\n",
      "Output: \n",
      " [[0.]\n",
      " [1.]\n",
      " [1.]\n",
      " [1.]\n",
      " [1.]\n",
      " [0.]\n",
      " [0.]]\n",
      "Predicted Output \n",
      " [[2.73913645e-06]\n",
      " [9.83368674e-01]\n",
      " [9.83938971e-01]\n",
      " [9.83379003e-01]\n",
      " [9.83929109e-01]\n",
      " [2.73504191e-02]\n",
      " [1.50358121e-02]]\n",
      "Loss: \n",
      " 0.00029188711614152517\n",
      "Input: \n",
      " [[0. 0. 1.]\n",
      " [0. 1. 1.]\n",
      " [1. 0. 1.]\n",
      " [0. 1. 0.]\n",
      " [1. 0. 0.]\n",
      " [1. 1. 1.]\n",
      " [0. 0. 0.]]\n",
      "Output: \n",
      " [[0.]\n",
      " [1.]\n",
      " [1.]\n",
      " [1.]\n",
      " [1.]\n",
      " [0.]\n",
      " [0.]]\n",
      "Predicted Output \n",
      " [[1.08298307e-06]\n",
      " [9.87689006e-01]\n",
      " [9.88183765e-01]\n",
      " [9.87693360e-01]\n",
      " [9.88178413e-01]\n",
      " [2.01546316e-02]\n",
      " [1.09642276e-02]]\n",
      "Loss: \n",
      " 0.00015840153664379217\n",
      "Input: \n",
      " [[0. 0. 1.]\n",
      " [0. 1. 1.]\n",
      " [1. 0. 1.]\n",
      " [0. 1. 0.]\n",
      " [1. 0. 0.]\n",
      " [1. 1. 1.]\n",
      " [0. 0. 0.]]\n",
      "Output: \n",
      " [[0.]\n",
      " [1.]\n",
      " [1.]\n",
      " [1.]\n",
      " [1.]\n",
      " [0.]\n",
      " [0.]]\n",
      "Predicted Output \n",
      " [[5.34685031e-07]\n",
      " [9.90207040e-01]\n",
      " [9.90637405e-01]\n",
      " [9.90208607e-01]\n",
      " [9.90634465e-01]\n",
      " [1.59890908e-02]\n",
      " [8.63901458e-03]]\n",
      "Loss: \n",
      " 9.963263911551527e-05\n",
      "Input: \n",
      " [[0. 0. 1.]\n",
      " [0. 1. 1.]\n",
      " [1. 0. 1.]\n",
      " [0. 1. 0.]\n",
      " [1. 0. 0.]\n",
      " [1. 1. 1.]\n",
      " [0. 0. 0.]]\n",
      "Output: \n",
      " [[0.]\n",
      " [1.]\n",
      " [1.]\n",
      " [1.]\n",
      " [1.]\n",
      " [0.]\n",
      " [0.]]\n",
      "Predicted Output \n",
      " [[3.01983392e-07]\n",
      " [9.91862414e-01]\n",
      " [9.92242008e-01]\n",
      " [9.91862902e-01]\n",
      " [9.92240174e-01]\n",
      " [1.32618183e-02]\n",
      " [7.12977348e-03]]\n",
      "Loss: \n",
      " 6.850621513861009e-05\n",
      "Input: \n",
      " [[0. 0. 1.]\n",
      " [0. 1. 1.]\n",
      " [1. 0. 1.]\n",
      " [0. 1. 0.]\n",
      " [1. 0. 0.]\n",
      " [1. 1. 1.]\n",
      " [0. 0. 0.]]\n",
      "Output: \n",
      " [[0.]\n",
      " [1.]\n",
      " [1.]\n",
      " [1.]\n",
      " [1.]\n",
      " [0.]\n",
      " [0.]]\n",
      "Predicted Output \n",
      " [[1.86792731e-07]\n",
      " [9.93035583e-01]\n",
      " [9.93374837e-01]\n",
      " [9.93035646e-01]\n",
      " [9.93373570e-01]\n",
      " [1.13344808e-02]\n",
      " [6.06984099e-03]]\n",
      "Loss: \n",
      " 5.0017304521113145e-05\n",
      "Input: \n",
      " [[0. 0. 1.]\n",
      " [0. 1. 1.]\n",
      " [1. 0. 1.]\n",
      " [0. 1. 0.]\n",
      " [1. 0. 0.]\n",
      " [1. 1. 1.]\n",
      " [0. 0. 0.]]\n",
      "Output: \n",
      " [[0.]\n",
      " [1.]\n",
      " [1.]\n",
      " [1.]\n",
      " [1.]\n",
      " [0.]\n",
      " [0.]]\n",
      "Predicted Output \n",
      " [[1.23398870e-07]\n",
      " [9.93911192e-01]\n",
      " [9.94217813e-01]\n",
      " [9.93911091e-01]\n",
      " [9.94216873e-01]\n",
      " [9.89903720e-03]\n",
      " [5.28423113e-03]]\n",
      "Loss: \n",
      " 3.813438255502308e-05\n",
      "Input: \n",
      " [[0. 0. 1.]\n",
      " [0. 1. 1.]\n",
      " [1. 0. 1.]\n",
      " [0. 1. 0.]\n",
      " [1. 0. 0.]\n",
      " [1. 1. 1.]\n",
      " [0. 0. 0.]]\n",
      "Output: \n",
      " [[0.]\n",
      " [1.]\n",
      " [1.]\n",
      " [1.]\n",
      " [1.]\n",
      " [0.]\n",
      " [0.]]\n",
      "Predicted Output \n",
      " [[8.56891721e-08]\n",
      " [9.94590033e-01]\n",
      " [9.94869775e-01]\n",
      " [9.94589873e-01]\n",
      " [9.94869044e-01]\n",
      " [8.78801301e-03]\n",
      " [4.67855711e-03]]\n",
      "Loss: \n",
      " 3.004302877104297e-05\n",
      "Input: \n",
      " [[0. 0. 1.]\n",
      " [0. 1. 1.]\n",
      " [1. 0. 1.]\n",
      " [0. 1. 0.]\n",
      " [1. 0. 0.]\n",
      " [1. 1. 1.]\n",
      " [0. 0. 0.]]\n",
      "Output: \n",
      " [[0.]\n",
      " [1.]\n",
      " [1.]\n",
      " [1.]\n",
      " [1.]\n",
      " [0.]\n",
      " [0.]]\n",
      "Predicted Output \n",
      " [[6.18786734e-08]\n",
      " [9.95131895e-01]\n",
      " [9.95389138e-01]\n",
      " [9.95131721e-01]\n",
      " [9.95388552e-01]\n",
      " [7.90236058e-03]\n",
      " [4.19733242e-03]]\n",
      "Loss: \n",
      " 2.4284142924100252e-05\n"
     ]
    }
   ],
   "source": [
    "for i in range(10000):\n",
    "    if ((i+1) % 1000 == 0):\n",
    "        print('Input: \\n', features)\n",
    "        print('Output: \\n', target)\n",
    "        print('Predicted Output \\n', str(nn.feed_forward(features)))\n",
    "        print(\"Loss: \\n\", str(np.mean(np.square(target - nn.feed_forward(features)))))\n",
    "    \n",
    "    nn.train(features, target)"
   ]
  },
  {
   "cell_type": "markdown",
   "metadata": {
    "colab_type": "text",
    "id": "8b-r70o8p2Dm"
   },
   "source": [
    "## Try building/training a more complex MLP on a bigger dataset.\n",
    "\n",
    "Use the [MNIST dataset](http://yann.lecun.com/exdb/mnist/) to build the cannonical handwriting digit recognizer and see what kind of accuracy you can achieve. \n",
    "\n",
    "If you need inspiration, the internet is chalk-full of tutorials, but I want you to see how far you can get on your own first. I've linked to the original MNIST dataset above but it will probably be easier to download data through a neural network library. If you reference outside resources make sure you understand every line of code that you're using from other sources, and share with your fellow students helpful resources that you find.\n",
    "\n",
    "\n",
    "### Parts\n",
    "1. Gathering & Transforming the Data\n",
    "2. Making MNIST a Binary Problem\n",
    "3. Estimating your Neural Network (the part you focus on)"
   ]
  },
  {
   "cell_type": "markdown",
   "metadata": {},
   "source": [
    "### STRETCH GOAL SOFTMAX MNIST\n",
    "\n",
    "\n",
    "`keras` has a handy method to pull the mnist dataset for you. You'll notice that each observation is a 28x28 arrary which represents an image. Although most Neural Network frameworks can handle higher dimensional data, that is more overhead than necessary for us. We need to flatten the image to one long row which will be 784 values (28X28). Basically, you will be appending each row to one another to make on really long row. "
   ]
  },
  {
   "cell_type": "code",
   "execution_count": 7,
   "metadata": {},
   "outputs": [],
   "source": [
    "# we are just categorizing 0 or not 0 since we do not know 'softmax'\n",
    "# resource:\n",
    "# https://medium.com/swlh/hyper-parameter-tuning-for-keras-models-with-scikit-learn-library-dba47cf41551\n",
    "import numpy as np\n",
    "from tensorflow.keras.datasets import mnist # like the iris of neural networks\n",
    "# mnist is some hand written digits\n",
    "from tensorflow.keras.utils import to_categorical\n",
    "\n",
    "from tensorflow.keras import Sequential\n",
    "from tensorflow.keras.layers import Dense, Flatten\n",
    "from tensorflow.keras.wrappers.scikit_learn import KerasClassifier\n",
    "from sklearn.model_selection import RandomizedSearchCV\n"
   ]
  },
  {
   "cell_type": "code",
   "execution_count": 9,
   "metadata": {},
   "outputs": [],
   "source": [
    "# the data, split between train and test sets\n",
    "(x_train, y_train), (x_test, y_test) = mnist.load_data()"
   ]
  },
  {
   "cell_type": "code",
   "execution_count": 11,
   "metadata": {},
   "outputs": [
    {
     "name": "stdout",
     "output_type": "stream",
     "text": [
      "(60000, 28, 28) (60000,)\n"
     ]
    }
   ],
   "source": [
    "print(x_train.shape, y_train.shape)"
   ]
  },
  {
   "cell_type": "code",
   "execution_count": 12,
   "metadata": {},
   "outputs": [],
   "source": [
    "import matplotlib.pyplot as plt"
   ]
  },
  {
   "cell_type": "code",
   "execution_count": 16,
   "metadata": {},
   "outputs": [
    {
     "data": {
      "image/png": "[encoded data removed]",
      "text/plain": [
       "<Figure size 432x288 with 12 Axes>"
      ]
     },
     "metadata": {},
     "output_type": "display_data"
    }
   ],
   "source": [
    "def preview(data, result):\n",
    "    fig = plt.figure()\n",
    "    for i in range(12):\n",
    "        plt.subplot(2,6,i+1)\n",
    "        plt.imshow(data[i], interpolation='none')\n",
    "        plt.title(\"label:{}\".format(result[i]))\n",
    "        plt.xticks([])\n",
    "        plt.yticks([])\n",
    "preview(x_train[12:],y_train[12:])"
   ]
  },
  {
   "cell_type": "code",
   "execution_count": 32,
   "metadata": {},
   "outputs": [],
   "source": [
    "# apparently you can just use keras.flatten to do this in the model below\n",
    "# # reshape into 1 x 784 instead of 28 x 28 because of formatting limits\n",
    "# x_train = x_train.reshape(x_train.shape[0], img_rows * img_cols)\n",
    "# x_test = x_test.reshape(x_test.shape[0], img_rows * img_cols)\n",
    "\n",
    "# # Normalize Our Data\n",
    "# x_train = x_train / 255\n",
    "# x_test = x_test / 255\n",
    "\n",
    "# # Now the data should be in a format you're more familiar with\n",
    "# x_train.shape"
   ]
  },
  {
   "cell_type": "code",
   "execution_count": 17,
   "metadata": {},
   "outputs": [],
   "source": [
    "def build_model(var_activation='relu', var_optimizer='adam'):\n",
    "    model = Sequential()\n",
    "    model.add(Flatten(input_shape=[28, 28, 1])) # flatten image here instead of outside, better encapsulation\n",
    "    model.add(Dense(64,activation=var_activation))\n",
    "    model.add(Dense(32,activation=var_activation))\n",
    "    model.add(Dense(16,activation=var_activation))\n",
    "    model.add(Dense(10,activation='softmax'))\n",
    "    model.compile(loss=\"sparse_categorical_crossentropy\",\n",
    "                optimizer=var_optimizer,\n",
    "                metrics=[\"accuracy\"])\n",
    "    return model"
   ]
  },
  {
   "cell_type": "code",
   "execution_count": 18,
   "metadata": {},
   "outputs": [
    {
     "name": "stdout",
     "output_type": "stream",
     "text": [
      "Model: \"sequential\"\n",
      "_________________________________________________________________\n",
      "Layer (type)                 Output Shape              Param #   \n",
      "=================================================================\n",
      "flatten (Flatten)            (None, 784)               0         \n",
      "_________________________________________________________________\n",
      "dense (Dense)                (None, 64)                50240     \n",
      "_________________________________________________________________\n",
      "dense_1 (Dense)              (None, 32)                2080      \n",
      "_________________________________________________________________\n",
      "dense_2 (Dense)              (None, 16)                528       \n",
      "_________________________________________________________________\n",
      "dense_3 (Dense)              (None, 10)                170       \n",
      "=================================================================\n",
      "Total params: 53,018\n",
      "Trainable params: 53,018\n",
      "Non-trainable params: 0\n",
      "_________________________________________________________________\n"
     ]
    }
   ],
   "source": [
    "model_default = build_model()\n",
    "model_default.summary()"
   ]
  },
  {
   "cell_type": "code",
   "execution_count": 19,
   "metadata": {},
   "outputs": [
    {
     "name": "stdout",
     "output_type": "stream",
     "text": [
      "{'var_activation': ['tanh', 'relu', 'selu'], 'var_optimizer': ['sgd', 'adam'], 'batch_size': [16, 32, 64]}\n"
     ]
    }
   ],
   "source": [
    "_activations=['tanh','relu','selu']\n",
    "_optimizers=['sgd','adam']\n",
    "_batch_size=[16,32,64]\n",
    "params=dict(var_activation=_activations,\n",
    "            var_optimizer=_optimizers,\n",
    "            batch_size=_batch_size)\n",
    "print(params)"
   ]
  },
  {
   "cell_type": "code",
   "execution_count": null,
   "metadata": {},
   "outputs": [],
   "source": [
    "rscv = RandomizedSearchCV(model, param_distribution=params, cv=3,n_iter=10)"
   ]
  },
  {
   "cell_type": "markdown",
   "metadata": {},
   "source": [
    "### Making MNIST a Binary Problem \n",
    "MNIST is multiclass classification problem; however we haven't covered all the necessary techniques to handle this yet. You would need to one-hot encode the target, use a different loss metric, and use softmax activations for the last layer. This is all stuff we'll cover later this week, but let us simply the problem for now: Zero or all else."
   ]
  },
  {
   "cell_type": "code",
   "execution_count": 33,
   "metadata": {},
   "outputs": [],
   "source": [
    "# import numpy as np\n",
    "\n",
    "# y_temp = np.zeros(y_train.shape)\n",
    "# y_temp[np.where(y_train == 0.0)[0]] = 1\n",
    "# y_train = y_temp\n",
    "\n",
    "# y_temp = np.zeros(y_test.shape)\n",
    "# y_temp[np.where(y_test == 0.0)[0]] = 1\n",
    "# y_test = y_temp"
   ]
  },
  {
   "cell_type": "code",
   "execution_count": 40,
   "metadata": {},
   "outputs": [
    {
     "data": {
      "text/plain": [
       "array([0., 1., 0., ..., 0., 0., 0.])"
      ]
     },
     "execution_count": 40,
     "metadata": {},
     "output_type": "execute_result"
    }
   ],
   "source": [
    "# A Nice Binary target for ya to work with\n",
    "y_train"
   ]
  },
  {
   "cell_type": "markdown",
   "metadata": {},
   "source": [
    "### Estimating Your `net"
   ]
  },
  {
   "cell_type": "code",
   "execution_count": null,
   "metadata": {
    "colab": {},
    "colab_type": "code",
    "id": "5MOPtYdk1HgA"
   },
   "outputs": [],
   "source": [
    "# mnist = NeuralNetwork()\n",
    "\n",
    "# mnist.train(x_train, y_train)\n",
    "\n",
    "# for i in range(10000):\n",
    "#     if ((i+1) % 1000 == 0):\n",
    "#         print('Input: \\n', x_train)\n",
    "#         print('Output: \\n', y_train)\n",
    "#         print('Predicted Output \\n', str(nn.feed_forward(features)))\n",
    "#         print(\"Loss: \\n\", str(np.mean(np.square(target - nn.feed_forward(features)))))\n",
    "#     mnist.train(x_train, y_train)\n"
   ]
  },
  {
   "cell_type": "markdown",
   "metadata": {
    "colab_type": "text",
    "id": "FwlRJSfBlCvy"
   },
   "source": [
    "## Stretch Goals: \n",
    "\n",
    "- Make MNIST a multiclass problem using cross entropy & soft-max\n",
    "- Implement Cross Validation model evaluation on your MNIST implementation \n",
    "- Research different [Gradient Descent Based Optimizers](https://keras.io/optimizers/)\n",
    " - [Siraj Raval the evolution of gradient descent](https://www.youtube.com/watch?v=nhqo0u1a6fw)\n",
    "- Build a housing price estimation model using a neural network. How does its accuracy compare with the regression models that we fit earlier on in class?"
   ]
  }
 ],
 "metadata": {
  "colab": {
   "name": "LS_DS_432_Backprop_Assignment.ipynb",
   "provenance": [],
   "version": "0.3.2"
  },
  "kernelspec": {
   "display_name": "U4-S2-NN",
   "language": "python",
   "name": "u4-s2-nn"
  },
  "language_info": {
   "codemirror_mode": {
    "name": "ipython",
    "version": 3
   },
   "file_extension": ".py",
   "mimetype": "text/x-python",
   "name": "python",
   "nbconvert_exporter": "python",
   "pygments_lexer": "ipython3",
   "version": "3.7.0"
  }
 },
 "nbformat": 4,
 "nbformat_minor": 4
}
