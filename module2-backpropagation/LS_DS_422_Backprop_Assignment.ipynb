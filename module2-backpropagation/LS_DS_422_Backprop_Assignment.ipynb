{
 "cells": [
  {
   "cell_type": "markdown",
   "metadata": {
    "colab_type": "text",
    "id": "NGGrt9EYlCqY"
   },
   "source": [
    "<img align=\"left\" src=\"https://lever-client-logos.s3.amazonaws.com/864372b1-534c-480e-acd5-9711f850815c-1524247202159.png\" width=200>\n",
    "<br></br>\n",
    "\n",
    "# Backpropagation Practice\n",
    "\n",
    "## *Data Science Unit 4 Sprint 2 Assignment 2*\n",
    "\n",
    "Using TensorFlow Keras, Implement a 3 input, 4 node hidden-layer, 1 output node Multilayer Perceptron on the following dataset:\n",
    "\n",
    "| x1 | x2 | x3 | y |\n",
    "|----|----|----|---|\n",
    "| 0  | 0  | 1  | 0 |\n",
    "| 0  | 1  | 1  | 1 |\n",
    "| 1  | 0  | 1  | 1 |\n",
    "| 0  | 1  | 0  | 1 |\n",
    "| 1  | 0  | 0  | 1 |\n",
    "| 1  | 1  | 1  | 0 |\n",
    "| 0  | 0  | 0  | 0 |\n",
    "\n",
    "If you look at the data you'll notice that the first two columns behave like an XOR gate while the last column is mostly just noise. Remember that creating an XOR gate was what the perceptron was criticized for not being able to learn.\n",
    "\n",
    "This is your \"Hello World!\" of TensorFlow.\n",
    "\n",
    "### Example TensorFlow Starter Code\n",
    "\n",
    "```python \n",
    "from tensorflow.keras.models import Sequential\n",
    "from tensorflow.keras.layers import Dense\n",
    "\n",
    "model = Sequential([\n",
    "    Dense(3, activation='sigmoid', input_dim=2),\n",
    "    Dense(1, activation='sigmoid')\n",
    "])\n",
    "\n",
    "model.compile(optimizer='sgd', loss='binary_crossentropy', metrics=['acc'])\n",
    "\n",
    "results = model.fit(X,y, epochs=100)\n",
    "\n",
    "```\n",
    "\n",
    "### Additional Written Tasks:\n",
    "1. Investigate the various [loss functions](https://www.tensorflow.org/api_docs/python/tf/keras/losses). Which is best suited for the task at hand (predicting 1 / 0) and why? \n",
    "2. What is the difference between a loss function and a metric? Why might we need both in Keras? \n",
    "3. Investigate the various [optimizers](https://www.tensorflow.org/api_docs/python/tf/keras/optimizers). Stochastic Gradient Descent (`sgd`) is not the learning algorithm dejour anyone. Why is that? What do newer optimizers such as `adam` have to offer? "
   ]
  },
  {
   "cell_type": "code",
   "execution_count": 1,
   "metadata": {
    "colab": {},
    "colab_type": "code",
    "id": "nEREYT-3wI1f"
   },
   "outputs": [],
   "source": [
    "import pandas as pd\n",
    "\n",
    "data = {\n",
    "    'x1': (0, 0, 1, 0, 1, 1, 0),\n",
    "    'x2': (0, 1, 0, 1, 0, 1, 0),\n",
    "    'x3': (1, 1, 1, 0, 0, 1, 0),\n",
    "    'y' : (0, 1, 1, 1, 1, 0, 0)\n",
    "}\n",
    "\n",
    "df = pd.DataFrame.from_dict(data).astype('int')\n",
    "\n",
    "X = df.drop('y', axis=1).values\n",
    "y = df['y'].values"
   ]
  },
  {
   "cell_type": "code",
   "execution_count": 37,
   "metadata": {},
   "outputs": [],
   "source": [
    "from tensorflow.keras.models import Sequential\n",
    "from tensorflow.keras.layers import Dense\n",
    "\n",
    "model = Sequential([\n",
    "    Dense(4, activation='sigmoid', input_dim=3),\n",
    "    Dense(1, activation='sigmoid')\n",
    "])\n",
    "\n",
    "model.compile(optimizer='sgd', loss='binary_crossentropy', metrics=['binary_accuracy'])"
   ]
  },
  {
   "cell_type": "code",
   "execution_count": 32,
   "metadata": {},
   "outputs": [
    {
     "name": "stdout",
     "output_type": "stream",
     "text": [
      "Train on 7 samples\n",
      "Epoch 1/100\n",
      "7/7 [==============================] - 0s 48ms/sample - loss: 0.7518 - binary_accuracy: 0.5714\n",
      "Epoch 2/100\n",
      "7/7 [==============================] - 0s 429us/sample - loss: 0.7512 - binary_accuracy: 0.5714\n",
      "Epoch 3/100\n",
      "7/7 [==============================] - 0s 428us/sample - loss: 0.7507 - binary_accuracy: 0.5714\n",
      "Epoch 4/100\n",
      "7/7 [==============================] - 0s 571us/sample - loss: 0.7502 - binary_accuracy: 0.5714\n",
      "Epoch 5/100\n",
      "7/7 [==============================] - 0s 571us/sample - loss: 0.7496 - binary_accuracy: 0.5714\n",
      "Epoch 6/100\n",
      "7/7 [==============================] - 0s 708us/sample - loss: 0.7491 - binary_accuracy: 0.5714\n",
      "Epoch 7/100\n",
      "7/7 [==============================] - 0s 429us/sample - loss: 0.7486 - binary_accuracy: 0.5714\n",
      "Epoch 8/100\n",
      "7/7 [==============================] - 0s 429us/sample - loss: 0.7481 - binary_accuracy: 0.5714\n",
      "Epoch 9/100\n",
      "7/7 [==============================] - 0s 571us/sample - loss: 0.7476 - binary_accuracy: 0.5714\n",
      "Epoch 10/100\n",
      "7/7 [==============================] - 0s 571us/sample - loss: 0.7470 - binary_accuracy: 0.5714\n",
      "Epoch 11/100\n",
      "7/7 [==============================] - 0s 572us/sample - loss: 0.7465 - binary_accuracy: 0.5714\n",
      "Epoch 12/100\n",
      "7/7 [==============================] - 0s 572us/sample - loss: 0.7460 - binary_accuracy: 0.5714\n",
      "Epoch 13/100\n",
      "7/7 [==============================] - 0s 571us/sample - loss: 0.7455 - binary_accuracy: 0.5714\n",
      "Epoch 14/100\n",
      "7/7 [==============================] - 0s 428us/sample - loss: 0.7451 - binary_accuracy: 0.5714\n",
      "Epoch 15/100\n",
      "7/7 [==============================] - 0s 572us/sample - loss: 0.7446 - binary_accuracy: 0.5714\n",
      "Epoch 16/100\n",
      "7/7 [==============================] - 0s 429us/sample - loss: 0.7441 - binary_accuracy: 0.5714\n",
      "Epoch 17/100\n",
      "7/7 [==============================] - 0s 572us/sample - loss: 0.7436 - binary_accuracy: 0.5714\n",
      "Epoch 18/100\n",
      "7/7 [==============================] - 0s 572us/sample - loss: 0.7431 - binary_accuracy: 0.5714\n",
      "Epoch 19/100\n",
      "7/7 [==============================] - 0s 572us/sample - loss: 0.7427 - binary_accuracy: 0.5714\n",
      "Epoch 20/100\n",
      "7/7 [==============================] - 0s 428us/sample - loss: 0.7422 - binary_accuracy: 0.5714\n",
      "Epoch 21/100\n",
      "7/7 [==============================] - 0s 429us/sample - loss: 0.7417 - binary_accuracy: 0.5714\n",
      "Epoch 22/100\n",
      "7/7 [==============================] - 0s 429us/sample - loss: 0.7413 - binary_accuracy: 0.5714\n",
      "Epoch 23/100\n",
      "7/7 [==============================] - 0s 571us/sample - loss: 0.7408 - binary_accuracy: 0.5714\n",
      "Epoch 24/100\n",
      "7/7 [==============================] - 0s 429us/sample - loss: 0.7404 - binary_accuracy: 0.5714\n",
      "Epoch 25/100\n",
      "7/7 [==============================] - 0s 572us/sample - loss: 0.7399 - binary_accuracy: 0.5714\n",
      "Epoch 26/100\n",
      "7/7 [==============================] - 0s 714us/sample - loss: 0.7395 - binary_accuracy: 0.5714\n",
      "Epoch 27/100\n",
      "7/7 [==============================] - 0s 429us/sample - loss: 0.7391 - binary_accuracy: 0.5714\n",
      "Epoch 28/100\n",
      "7/7 [==============================] - 0s 286us/sample - loss: 0.7386 - binary_accuracy: 0.5714\n",
      "Epoch 29/100\n",
      "7/7 [==============================] - 0s 428us/sample - loss: 0.7382 - binary_accuracy: 0.5714\n",
      "Epoch 30/100\n",
      "7/7 [==============================] - 0s 571us/sample - loss: 0.7378 - binary_accuracy: 0.5714\n",
      "Epoch 31/100\n",
      "7/7 [==============================] - 0s 429us/sample - loss: 0.7374 - binary_accuracy: 0.5714\n",
      "Epoch 32/100\n",
      "7/7 [==============================] - 0s 429us/sample - loss: 0.7369 - binary_accuracy: 0.5714\n",
      "Epoch 33/100\n",
      "7/7 [==============================] - 0s 429us/sample - loss: 0.7365 - binary_accuracy: 0.5714\n",
      "Epoch 34/100\n",
      "7/7 [==============================] - 0s 429us/sample - loss: 0.7361 - binary_accuracy: 0.5714\n",
      "Epoch 35/100\n",
      "7/7 [==============================] - 0s 286us/sample - loss: 0.7357 - binary_accuracy: 0.5714\n",
      "Epoch 36/100\n",
      "7/7 [==============================] - 0s 429us/sample - loss: 0.7353 - binary_accuracy: 0.5714\n",
      "Epoch 37/100\n",
      "7/7 [==============================] - 0s 429us/sample - loss: 0.7349 - binary_accuracy: 0.5714\n",
      "Epoch 38/100\n",
      "7/7 [==============================] - 0s 571us/sample - loss: 0.7345 - binary_accuracy: 0.5714\n",
      "Epoch 39/100\n",
      "7/7 [==============================] - 0s 428us/sample - loss: 0.7341 - binary_accuracy: 0.5714\n",
      "Epoch 40/100\n",
      "7/7 [==============================] - 0s 572us/sample - loss: 0.7337 - binary_accuracy: 0.5714\n",
      "Epoch 41/100\n",
      "7/7 [==============================] - 0s 714us/sample - loss: 0.7334 - binary_accuracy: 0.5714\n",
      "Epoch 42/100\n",
      "7/7 [==============================] - 0s 428us/sample - loss: 0.7330 - binary_accuracy: 0.5714\n",
      "Epoch 43/100\n",
      "7/7 [==============================] - 0s 429us/sample - loss: 0.7326 - binary_accuracy: 0.5714\n",
      "Epoch 44/100\n",
      "7/7 [==============================] - 0s 286us/sample - loss: 0.7322 - binary_accuracy: 0.5714\n",
      "Epoch 45/100\n",
      "7/7 [==============================] - 0s 571us/sample - loss: 0.7318 - binary_accuracy: 0.5714\n",
      "Epoch 46/100\n",
      "7/7 [==============================] - 0s 572us/sample - loss: 0.7315 - binary_accuracy: 0.5714\n",
      "Epoch 47/100\n",
      "7/7 [==============================] - 0s 286us/sample - loss: 0.7311 - binary_accuracy: 0.5714\n",
      "Epoch 48/100\n",
      "7/7 [==============================] - 0s 322us/sample - loss: 0.7308 - binary_accuracy: 0.5714\n",
      "Epoch 49/100\n",
      "7/7 [==============================] - 0s 714us/sample - loss: 0.7304 - binary_accuracy: 0.5714\n",
      "Epoch 50/100\n",
      "7/7 [==============================] - 0s 429us/sample - loss: 0.7300 - binary_accuracy: 0.5714\n",
      "Epoch 51/100\n",
      "7/7 [==============================] - 0s 428us/sample - loss: 0.7297 - binary_accuracy: 0.5714\n",
      "Epoch 52/100\n",
      "7/7 [==============================] - 0s 429us/sample - loss: 0.7293 - binary_accuracy: 0.5714\n",
      "Epoch 53/100\n",
      "7/7 [==============================] - 0s 572us/sample - loss: 0.7290 - binary_accuracy: 0.5714\n",
      "Epoch 54/100\n",
      "7/7 [==============================] - 0s 429us/sample - loss: 0.7286 - binary_accuracy: 0.5714\n",
      "Epoch 55/100\n",
      "7/7 [==============================] - 0s 571us/sample - loss: 0.7283 - binary_accuracy: 0.5714\n",
      "Epoch 56/100\n",
      "7/7 [==============================] - 0s 286us/sample - loss: 0.7280 - binary_accuracy: 0.5714\n",
      "Epoch 57/100\n",
      "7/7 [==============================] - 0s 571us/sample - loss: 0.7276 - binary_accuracy: 0.5714\n",
      "Epoch 58/100\n",
      "7/7 [==============================] - 0s 427us/sample - loss: 0.7273 - binary_accuracy: 0.5714\n",
      "Epoch 59/100\n",
      "7/7 [==============================] - 0s 286us/sample - loss: 0.7270 - binary_accuracy: 0.5714\n",
      "Epoch 60/100\n",
      "7/7 [==============================] - 0s 286us/sample - loss: 0.7267 - binary_accuracy: 0.5714\n",
      "Epoch 61/100\n",
      "7/7 [==============================] - 0s 572us/sample - loss: 0.7263 - binary_accuracy: 0.5714\n",
      "Epoch 62/100\n",
      "7/7 [==============================] - 0s 429us/sample - loss: 0.7260 - binary_accuracy: 0.5714\n",
      "Epoch 63/100\n",
      "7/7 [==============================] - 0s 429us/sample - loss: 0.7257 - binary_accuracy: 0.5714\n",
      "Epoch 64/100\n",
      "7/7 [==============================] - 0s 429us/sample - loss: 0.7254 - binary_accuracy: 0.5714\n",
      "Epoch 65/100\n",
      "7/7 [==============================] - 0s 572us/sample - loss: 0.7251 - binary_accuracy: 0.5714\n",
      "Epoch 66/100\n",
      "7/7 [==============================] - 0s 429us/sample - loss: 0.7248 - binary_accuracy: 0.5714\n",
      "Epoch 67/100\n",
      "7/7 [==============================] - 0s 286us/sample - loss: 0.7245 - binary_accuracy: 0.5714\n",
      "Epoch 68/100\n",
      "7/7 [==============================] - 0s 571us/sample - loss: 0.7242 - binary_accuracy: 0.5714\n",
      "Epoch 69/100\n",
      "7/7 [==============================] - 0s 429us/sample - loss: 0.7239 - binary_accuracy: 0.5714\n",
      "Epoch 70/100\n",
      "7/7 [==============================] - 0s 286us/sample - loss: 0.7236 - binary_accuracy: 0.5714\n",
      "Epoch 71/100\n",
      "7/7 [==============================] - 0s 429us/sample - loss: 0.7233 - binary_accuracy: 0.5714\n",
      "Epoch 72/100\n",
      "7/7 [==============================] - 0s 425us/sample - loss: 0.7230 - binary_accuracy: 0.5714\n",
      "Epoch 73/100\n",
      "7/7 [==============================] - 0s 567us/sample - loss: 0.7227 - binary_accuracy: 0.5714\n",
      "Epoch 74/100\n",
      "7/7 [==============================] - 0s 429us/sample - loss: 0.7224 - binary_accuracy: 0.5714\n",
      "Epoch 75/100\n",
      "7/7 [==============================] - 0s 429us/sample - loss: 0.7221 - binary_accuracy: 0.5714\n",
      "Epoch 76/100\n",
      "7/7 [==============================] - 0s 428us/sample - loss: 0.7218 - binary_accuracy: 0.5714\n"
     ]
    },
    {
     "name": "stdout",
     "output_type": "stream",
     "text": [
      "Epoch 77/100\n",
      "7/7 [==============================] - 0s 571us/sample - loss: 0.7216 - binary_accuracy: 0.5714\n",
      "Epoch 78/100\n",
      "7/7 [==============================] - 0s 286us/sample - loss: 0.7213 - binary_accuracy: 0.5714\n",
      "Epoch 79/100\n",
      "7/7 [==============================] - 0s 572us/sample - loss: 0.7210 - binary_accuracy: 0.5714\n",
      "Epoch 80/100\n",
      "7/7 [==============================] - 0s 571us/sample - loss: 0.7208 - binary_accuracy: 0.5714\n",
      "Epoch 81/100\n",
      "7/7 [==============================] - 0s 571us/sample - loss: 0.7205 - binary_accuracy: 0.5714\n",
      "Epoch 82/100\n",
      "7/7 [==============================] - 0s 429us/sample - loss: 0.7202 - binary_accuracy: 0.5714\n",
      "Epoch 83/100\n",
      "7/7 [==============================] - 0s 429us/sample - loss: 0.7200 - binary_accuracy: 0.5714\n",
      "Epoch 84/100\n",
      "7/7 [==============================] - 0s 429us/sample - loss: 0.7197 - binary_accuracy: 0.5714\n",
      "Epoch 85/100\n",
      "7/7 [==============================] - 0s 571us/sample - loss: 0.7194 - binary_accuracy: 0.5714\n",
      "Epoch 86/100\n",
      "7/7 [==============================] - 0s 715us/sample - loss: 0.7192 - binary_accuracy: 0.5714\n",
      "Epoch 87/100\n",
      "7/7 [==============================] - 0s 429us/sample - loss: 0.7189 - binary_accuracy: 0.5714\n",
      "Epoch 88/100\n",
      "7/7 [==============================] - 0s 570us/sample - loss: 0.7187 - binary_accuracy: 0.5714\n",
      "Epoch 89/100\n",
      "7/7 [==============================] - 0s 571us/sample - loss: 0.7184 - binary_accuracy: 0.5714\n",
      "Epoch 90/100\n",
      "7/7 [==============================] - 0s 429us/sample - loss: 0.7182 - binary_accuracy: 0.5714\n",
      "Epoch 91/100\n",
      "7/7 [==============================] - 0s 428us/sample - loss: 0.7179 - binary_accuracy: 0.5714\n",
      "Epoch 92/100\n",
      "7/7 [==============================] - 0s 429us/sample - loss: 0.7177 - binary_accuracy: 0.5714\n",
      "Epoch 93/100\n",
      "7/7 [==============================] - 0s 428us/sample - loss: 0.7175 - binary_accuracy: 0.5714\n",
      "Epoch 94/100\n",
      "7/7 [==============================] - 0s 429us/sample - loss: 0.7172 - binary_accuracy: 0.5714\n",
      "Epoch 95/100\n",
      "7/7 [==============================] - 0s 429us/sample - loss: 0.7170 - binary_accuracy: 0.5714\n",
      "Epoch 96/100\n",
      "7/7 [==============================] - 0s 286us/sample - loss: 0.7167 - binary_accuracy: 0.5714\n",
      "Epoch 97/100\n",
      "7/7 [==============================] - 0s 286us/sample - loss: 0.7165 - binary_accuracy: 0.5714\n",
      "Epoch 98/100\n",
      "7/7 [==============================] - 0s 429us/sample - loss: 0.7163 - binary_accuracy: 0.5714\n",
      "Epoch 99/100\n",
      "7/7 [==============================] - 0s 286us/sample - loss: 0.7161 - binary_accuracy: 0.5714\n",
      "Epoch 100/100\n",
      "7/7 [==============================] - 0s 429us/sample - loss: 0.7158 - binary_accuracy: 0.5714\n"
     ]
    }
   ],
   "source": [
    "results = model.fit(X,y, epochs=100, verbose=1)"
   ]
  },
  {
   "cell_type": "code",
   "execution_count": 68,
   "metadata": {
    "scrolled": false
   },
   "outputs": [],
   "source": [
    "maxloss = (0,)\n",
    "for optimizer in ['adadelta', 'adagrad', 'adam', 'adamax', 'ftrl', 'nadam', 'rmsprop', 'sgd']:\n",
    "    for metric in ['accuracy', 'binary_accuracy', 'binary_crossentropy', 'hinge',\n",
    "                   'poisson', 'squared_hinge']:\n",
    "        for loss in ['binary_crossentropy', 'poisson', 'reduction', 'hinge', 'squared_hinge']:\n",
    "            model = Sequential([\n",
    "                Dense(4, activation='sigmoid', input_dim=3),\n",
    "                Dense(1, activation='sigmoid')\n",
    "            ])\n",
    "            model.compile(optimizer=optimizer, loss='binary_crossentropy', metrics=[metric])\n",
    "            results = model.fit(X,y, epochs=10, verbose=0)\n",
    "            if max(results.history[metric]) - min(results.history[metric]) > maxloss[0]:\n",
    "                maxloss = (max(results.history[metric]) - min(results.history[metric]), max(results.history[metric]), optimizer, metric, loss)"
   ]
  },
  {
   "cell_type": "code",
   "execution_count": 69,
   "metadata": {},
   "outputs": [
    {
     "data": {
      "text/plain": [
       "(0.2857143, 0.71428573, 'ftrl', 'binary_accuracy', 'poisson')"
      ]
     },
     "execution_count": 69,
     "metadata": {},
     "output_type": "execute_result"
    }
   ],
   "source": [
    "maxloss"
   ]
  },
  {
   "cell_type": "code",
   "execution_count": 88,
   "metadata": {},
   "outputs": [
    {
     "name": "stdout",
     "output_type": "stream",
     "text": [
      "Train on 7 samples\n",
      "Epoch 1/10\n",
      "7/7 [==============================] - 1s 167ms/sample - loss: 6.5354 - binary_accuracy: 0.5714\n",
      "Epoch 2/10\n",
      "7/7 [==============================] - 0s 714us/sample - loss: 6.5354 - binary_accuracy: 0.5714\n",
      "Epoch 3/10\n",
      "7/7 [==============================] - 0s 857us/sample - loss: 6.5354 - binary_accuracy: 0.5714\n",
      "Epoch 4/10\n",
      "7/7 [==============================] - 0s 572us/sample - loss: 6.5354 - binary_accuracy: 0.5714\n",
      "Epoch 5/10\n",
      "7/7 [==============================] - 0s 572us/sample - loss: 6.5354 - binary_accuracy: 0.5714\n",
      "Epoch 6/10\n",
      "7/7 [==============================] - 0s 572us/sample - loss: 6.5354 - binary_accuracy: 0.5714\n",
      "Epoch 7/10\n",
      "7/7 [==============================] - 0s 570us/sample - loss: 6.5354 - binary_accuracy: 0.5714\n",
      "Epoch 8/10\n",
      "7/7 [==============================] - 0s 714us/sample - loss: 6.5354 - binary_accuracy: 0.5714\n",
      "Epoch 9/10\n",
      "7/7 [==============================] - 0s 858us/sample - loss: 6.5354 - binary_accuracy: 0.5714\n",
      "Epoch 10/10\n",
      "7/7 [==============================] - 0s 714us/sample - loss: 6.5354 - binary_accuracy: 0.5714\n"
     ]
    }
   ],
   "source": [
    "model = Sequential([\n",
    "    Dense(4, activation='relu', input_dim=3),\n",
    "    Dense(1, activation='softmax')\n",
    "])\n",
    "\n",
    "model.compile(optimizer='adam', loss='binary_crossentropy', metrics=['binary_accuracy'])\n",
    "results = model.fit(X,y, epochs=10, verbose=1)"
   ]
  },
  {
   "cell_type": "code",
   "execution_count": 90,
   "metadata": {},
   "outputs": [
    {
     "data": {
      "text/plain": [
       "array([[1.],\n",
       "       [1.],\n",
       "       [1.],\n",
       "       [1.]], dtype=float32)"
      ]
     },
     "execution_count": 90,
     "metadata": {},
     "output_type": "execute_result"
    }
   ],
   "source": [
    "import numpy as np\n",
    "model.predict([[0, 1, 1],\n",
    "               [1, 0, 0],\n",
    "               [1, 1, 0],\n",
    "               [0, 0, 1]])"
   ]
  },
  {
   "cell_type": "markdown",
   "metadata": {},
   "source": [
    "### Build a Tensor Keras Perceptron\n",
    "\n",
    "Try to match the architecture we used on Monday - inputs nodes and one output node. Apply this architecture to the XOR-ish dataset above. \n",
    "\n",
    "After fitting your model answer these questions: \n",
    "\n",
    "Are you able to achieve the same results as a bigger architecture from the first part of the assignment? Why is this disparity the case? What properties of the XOR dataset would cause this disparity? \n",
    "\n",
    "Now extrapolate this behavior on a much larger dataset in terms of features. What kind of architecture decisions could we make to avoid the problems the XOR dataset presents at scale? \n",
    "\n",
    "*Note:* The bias term is baked in by default in the Dense layer."
   ]
  },
  {
   "cell_type": "code",
   "execution_count": 94,
   "metadata": {},
   "outputs": [
    {
     "name": "stdout",
     "output_type": "stream",
     "text": [
      "Train on 7 samples\n",
      "Epoch 1/10\n",
      "7/7 [==============================] - 1s 135ms/sample - loss: 6.5354 - binary_accuracy: 0.5714\n",
      "Epoch 2/10\n",
      "7/7 [==============================] - 0s 683us/sample - loss: 6.5354 - binary_accuracy: 0.5714\n",
      "Epoch 3/10\n",
      "7/7 [==============================] - 0s 714us/sample - loss: 6.5354 - binary_accuracy: 0.5714\n",
      "Epoch 4/10\n",
      "7/7 [==============================] - 0s 569us/sample - loss: 6.5354 - binary_accuracy: 0.5714\n",
      "Epoch 5/10\n",
      "7/7 [==============================] - 0s 690us/sample - loss: 6.5354 - binary_accuracy: 0.5714\n",
      "Epoch 6/10\n",
      "7/7 [==============================] - 0s 714us/sample - loss: 6.5354 - binary_accuracy: 0.5714\n",
      "Epoch 7/10\n",
      "7/7 [==============================] - 0s 574us/sample - loss: 6.5354 - binary_accuracy: 0.5714\n",
      "Epoch 8/10\n",
      "7/7 [==============================] - 0s 571us/sample - loss: 6.5354 - binary_accuracy: 0.5714\n",
      "Epoch 9/10\n",
      "7/7 [==============================] - 0s 427us/sample - loss: 6.5354 - binary_accuracy: 0.5714\n",
      "Epoch 10/10\n",
      "7/7 [==============================] - 0s 1ms/sample - loss: 6.5354 - binary_accuracy: 0.5714\n"
     ]
    }
   ],
   "source": [
    "model = Sequential([\n",
    "    Dense(2000, activation='relu', input_dim=3),\n",
    "    Dense(1, activation='softmax')\n",
    "])\n",
    "\n",
    "model.compile(optimizer='adam', loss='binary_crossentropy', metrics=['binary_accuracy'])\n",
    "results = model.fit(X,y, epochs=10, verbose=1)"
   ]
  },
  {
   "cell_type": "markdown",
   "metadata": {
    "colab_type": "text",
    "id": "8b-r70o8p2Dm"
   },
   "source": [
    "## Try building/training a more complex MLP on a bigger dataset.\n",
    "\n",
    "Use TensorFlow Keras & the [MNIST dataset](http://yann.lecun.com/exdb/mnist/) to build the canonical handwriting digit recognizer and see what kind of accuracy you can achieve. \n",
    "\n",
    "If you need inspiration, the Internet is chalk-full of tutorials, but I want you to see how far you can get on your own first. I've linked to the original MNIST dataset above but it will probably be easier to download data through a neural network library. If you reference outside resources make sure you understand every line of code that you're using from other sources, and share with your fellow students helpful resources that you find.\n",
    "\n",
    "\n",
    "### Parts\n",
    "1. Gathering & Transforming the Data\n",
    "2. Making MNIST a Binary Problem\n",
    "3. Estimating your Neural Network (the part you focus on)"
   ]
  },
  {
   "cell_type": "markdown",
   "metadata": {},
   "source": [
    "### Gathering the Data \n",
    "\n",
    "`keras` has a handy method to pull the mnist dataset for you. You'll notice that each observation is a 28x28 arrary which represents an image. Although most Neural Network frameworks can handle higher dimensional data, that is more overhead than necessary for us. We need to flatten the image to one long row which will be 784 values (28X28). Basically, you will be appending each row to one another to make on really long row. "
   ]
  },
  {
   "cell_type": "code",
   "execution_count": 95,
   "metadata": {},
   "outputs": [],
   "source": [
    "import numpy as np\n",
    "from tensorflow.keras.datasets import mnist\n",
    "from tensorflow.keras.utils import to_categorical"
   ]
  },
  {
   "cell_type": "code",
   "execution_count": 96,
   "metadata": {},
   "outputs": [],
   "source": [
    "# input image dimensions\n",
    "img_rows, img_cols = 28, 28"
   ]
  },
  {
   "cell_type": "code",
   "execution_count": 97,
   "metadata": {},
   "outputs": [
    {
     "name": "stdout",
     "output_type": "stream",
     "text": [
      "Downloading data from https://storage.googleapis.com/tensorflow/tf-keras-datasets/mnist.npz\n",
      "11493376/11490434 [==============================] - 1s 0us/step\n"
     ]
    }
   ],
   "source": [
    "# the data, split between train and test sets\n",
    "(x_train, y_train), (x_test, y_test) = mnist.load_data()"
   ]
  },
  {
   "cell_type": "code",
   "execution_count": 98,
   "metadata": {},
   "outputs": [],
   "source": [
    "x_train = x_train.reshape(x_train.shape[0], img_rows * img_cols)\n",
    "x_test = x_test.reshape(x_test.shape[0], img_rows * img_cols)\n",
    "\n",
    "# Normalize Our Data\n",
    "x_train = x_train / 255\n",
    "x_test = x_test / 255"
   ]
  },
  {
   "cell_type": "code",
   "execution_count": 99,
   "metadata": {},
   "outputs": [
    {
     "data": {
      "text/plain": [
       "(60000, 784)"
      ]
     },
     "execution_count": 99,
     "metadata": {},
     "output_type": "execute_result"
    }
   ],
   "source": [
    "# Now the data should be in a format you're more familiar with\n",
    "x_train.shape"
   ]
  },
  {
   "cell_type": "markdown",
   "metadata": {},
   "source": [
    "### Making MNIST a Binary Problem \n",
    "MNIST is multiclass classification problem; however we haven't covered all the necessary techniques to handle this yet. You would need to one-hot encode the target, use a different loss metric, and use softmax activations for the last layer. This is all stuff we'll cover later this week, but let us simplify the problem for now: Zero or all else."
   ]
  },
  {
   "cell_type": "code",
   "execution_count": 100,
   "metadata": {},
   "outputs": [],
   "source": [
    "import numpy as np\n",
    "\n",
    "y_temp = np.zeros(y_train.shape)\n",
    "y_temp[np.where(y_train == 0.0)[0]] = 1\n",
    "y_train = y_temp\n",
    "\n",
    "y_temp = np.zeros(y_test.shape)\n",
    "y_temp[np.where(y_test == 0.0)[0]] = 1\n",
    "y_test = y_temp"
   ]
  },
  {
   "cell_type": "code",
   "execution_count": 101,
   "metadata": {},
   "outputs": [
    {
     "data": {
      "text/plain": [
       "array([0., 1., 0., ..., 0., 0., 0.])"
      ]
     },
     "execution_count": 101,
     "metadata": {},
     "output_type": "execute_result"
    }
   ],
   "source": [
    "# A Nice Binary target for ya to work with\n",
    "y_train"
   ]
  },
  {
   "cell_type": "markdown",
   "metadata": {},
   "source": [
    "### Estimating Your `net"
   ]
  },
  {
   "cell_type": "code",
   "execution_count": 105,
   "metadata": {
    "colab": {},
    "colab_type": "code",
    "id": "5MOPtYdk1HgA"
   },
   "outputs": [],
   "source": [
    "model = Sequential([\n",
    "    Dense(10, activation='sigmoid', input_dim=784),\n",
    "    Dense(10, activation='sigmoid'),\n",
    "    Dense(10, activation='sigmoid'),\n",
    "    Dense(1, activation='sigmoid')\n",
    "])\n",
    "\n",
    "model.compile(optimizer='adam', loss='binary_crossentropy', metrics=['accuracy'])"
   ]
  },
  {
   "cell_type": "code",
   "execution_count": 107,
   "metadata": {},
   "outputs": [],
   "source": [
    "from tensorflow.keras.callbacks import EarlyStopping\n",
    "\n",
    "stop = EarlyStopping(monitor='val_accuracy',\n",
    "                     min_delta=0.01,\n",
    "                     patience=3)"
   ]
  },
  {
   "cell_type": "code",
   "execution_count": 108,
   "metadata": {},
   "outputs": [
    {
     "name": "stdout",
     "output_type": "stream",
     "text": [
      "Train on 60000 samples, validate on 10000 samples\n",
      "Epoch 1/50\n",
      "60000/60000 [==============================] - 5s 82us/sample - loss: 0.0104 - accuracy: 0.9971 - val_loss: 0.0135 - val_accuracy: 0.9968\n",
      "Epoch 2/50\n",
      "60000/60000 [==============================] - 5s 78us/sample - loss: 0.0087 - accuracy: 0.9977 - val_loss: 0.0142 - val_accuracy: 0.9967\n",
      "Epoch 3/50\n",
      "60000/60000 [==============================] - 5s 78us/sample - loss: 0.0074 - accuracy: 0.9980 - val_loss: 0.0134 - val_accuracy: 0.9968\n",
      "Epoch 4/50\n",
      "60000/60000 [==============================] - 5s 77us/sample - loss: 0.0062 - accuracy: 0.9983 - val_loss: 0.0172 - val_accuracy: 0.9959\n"
     ]
    },
    {
     "data": {
      "text/plain": [
       "<tensorflow.python.keras.callbacks.History at 0x19d345c3e80>"
      ]
     },
     "execution_count": 108,
     "metadata": {},
     "output_type": "execute_result"
    }
   ],
   "source": [
    "model.fit(x_train, y_train,\n",
    "          epochs=50,\n",
    "          verbose=1,\n",
    "          validation_data=(x_test,y_test),\n",
    "          callbacks=[stop])"
   ]
  },
  {
   "cell_type": "markdown",
   "metadata": {
    "colab_type": "text",
    "id": "FwlRJSfBlCvy"
   },
   "source": [
    "## Stretch Goals: \n",
    "\n",
    "- Make MNIST a multiclass problem using cross entropy & soft-max\n",
    "- Implement Cross Validation model evaluation on your MNIST implementation \n",
    "- Research different [Gradient Descent Based Optimizers](https://keras.io/optimizers/)\n",
    " - [Siraj Raval the evolution of gradient descent](https://www.youtube.com/watch?v=nhqo0u1a6fw)\n",
    "- Build a housing price estimation model using a neural network. How does its accuracy compare with the regression models that we fit earlier on in class?"
   ]
  }
 ],
 "metadata": {
  "colab": {
   "name": "LS_DS_432_Backprop_Assignment.ipynb",
   "provenance": [],
   "version": "0.3.2"
  },
  "kernelspec": {
   "display_name": "U4-S1-NLP (Python3)",
   "language": "python",
   "name": "u4-s1-nlp"
  },
  "language_info": {
   "codemirror_mode": {
    "name": "ipython",
    "version": 3
   },
   "file_extension": ".py",
   "mimetype": "text/x-python",
   "name": "python",
   "nbconvert_exporter": "python",
   "pygments_lexer": "ipython3",
   "version": "3.7.0"
  },
  "nteract": {
   "version": "0.22.4"
  }
 },
 "nbformat": 4,
 "nbformat_minor": 4
}
