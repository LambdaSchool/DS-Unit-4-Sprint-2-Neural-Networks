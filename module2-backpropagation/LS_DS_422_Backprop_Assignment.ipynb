{
  "cells": [
    {
      "cell_type": "markdown",
      "source": [
        "<img align=\"left\" src=\"https://lever-client-logos.s3.amazonaws.com/864372b1-534c-480e-acd5-9711f850815c-1524247202159.png\" width=200>\n",
        "<br></br>\n",
        "\n",
        "# Backpropagation Practice\n",
        "\n",
        "## *Data Science Unit 4 Sprint 2 Assignment 2*\n",
        "\n",
        "Using TensorFlow Keras, Implement a 3 input, 4 node hidden-layer, 1 output node Multilayer Perceptron on the following dataset:\n",
        "\n",
        "| x1 | x2 | x3 | y |\n",
        "|----|----|----|---|\n",
        "| 0  | 0  | 1  | 0 |\n",
        "| 0  | 1  | 1  | 1 |\n",
        "| 1  | 0  | 1  | 1 |\n",
        "| 0  | 1  | 0  | 1 |\n",
        "| 1  | 0  | 0  | 1 |\n",
        "| 1  | 1  | 1  | 0 |\n",
        "| 0  | 0  | 0  | 0 |\n",
        "\n",
        "If you look at the data you'll notice that the first two columns behave like an XOR gate while the last column is mostly just noise. Remember that creating an XOR gate was what the perceptron was criticized for not being able to learn.\n",
        "\n",
        "This is your \"Hello World!\" of TensorFlow.\n",
        "\n",
        "### Example TensorFlow Starter Code\n",
        "\n",
        "```python \n",
        "from tensorflow.keras.models import Sequential\n",
        "from tensorflow.keras.layers import Dense\n",
        "\n",
        "model = Sequential([\n",
        "    Dense(3, activation='sigmoid', input_dim=2),\n",
        "    Dense(1, activation='sigmoid')\n",
        "])\n",
        "\n",
        "model.compile(optimizer='sgd', loss='binary_crossentropy', metrics=['acc'])\n",
        "\n",
        "results = model.fit(X,y, epochs=100)\n",
        "\n",
        "```\n",
        "\n",
        "### Additional Written Tasks:\n",
        "1. Investigate the various [loss functions](https://www.tensorflow.org/api_docs/python/tf/keras/losses). Which is best suited for the task at hand (predicting 1 / 0) and why? \n",
        "2. What is the difference between a loss function and a metric? Why might we need both in Keras? \n",
        "3. Investigate the various [optimizers](https://www.tensorflow.org/api_docs/python/tf/keras/optimizers). Stochastic Gradient Descent (`sgd`) is not the learning algorithm dejour anyone. Why is that? What do newer optimizers such as `adam` have to offer? "
      ],
      "metadata": {
        "colab_type": "text",
        "id": "NGGrt9EYlCqY"
      }
    },
    {
      "cell_type": "markdown",
      "metadata": {},
      "source": [
        "1. Investigate the various loss functions. Which is best suited for the task at hand (predicting 1 / 0) and why?\n",
        "- there are two types of loss functions, one is regression and the other is classificaion (binary or multiple)\n",
        "- the best suited for the task at hand (predicting 1 / 0 ) seems to be a binary cross-entropy loss function\n",
        "- Mathematically, it is the preferred loss function under the inference framework of maximum likelihood. It is the loss function to be evaluated first and only changed if you have a good reason.\n",
        "\n",
        "\n",
        "2. What is the difference between a loss function and a metric? Why might we need both in Keras?\n",
        "- The loss function is used to optimize your model. This is the function that will get minimized by the optimizer.\n",
        "\n",
        "- A metric is used to judge the performance of your model. This is only for you to look at and has nothing to do with the optimization process.\n",
        "\n",
        "3. Investigate the various optimizers. Stochastic Gradient Descent (sgd) is not the learning algorithm dejour anyone. Why is that? What do newer optimizers such as adam have to offer?"
      ]
    },
    {
      "cell_type": "code",
      "source": [
        "##### Your Code Here #####\n",
        "from tensorflow.keras.models import Sequential\n",
        "from tensorflow.keras.layers import Dense\n"
      ],
      "outputs": [],
      "execution_count": 1,
      "metadata": {
        "colab": {},
        "colab_type": "code",
        "id": "nEREYT-3wI1f"
      }
    },
    {
      "cell_type": "code",
      "execution_count": 2,
      "metadata": {},
      "outputs": [],
      "source": [
        "import numpy as np"
      ]
    },
    {
      "cell_type": "markdown",
      "metadata": {},
      "source": [
        "| x1 | x2 | x3 | y |\n",
        "|----|----|----|---|\n",
        "| 0  | 0  | 1  | 0 |\n",
        "| 0  | 1  | 1  | 1 |\n",
        "| 1  | 0  | 1  | 1 |\n",
        "| 0  | 1  | 0  | 1 |\n",
        "| 1  | 0  | 0  | 1 |\n",
        "| 1  | 1  | 1  | 0 |\n",
        "| 0  | 0  | 0  | 0 |\n"
      ]
    },
    {
      "cell_type": "code",
      "execution_count": 5,
      "metadata": {},
      "outputs": [],
      "source": [
        "X = np.array([[0,0,1],[0,1,1],[1,0,1],[0,1,0],[1,0,0],[1,1,1],[0,0,0]])\n",
        "y = np.array([[0],[1],[1],[1],[1],[0],[0]])"
      ]
    },
    {
      "cell_type": "code",
      "execution_count": 31,
      "metadata": {
        "tags": [
          "outputPrepend"
        ]
      },
      "outputs": [
        {
          "output_type": "stream",
          "name": "stdout",
          "text": "================] - 0s 2ms/step - loss: 0.6835 - acc: 0.5714\nEpoch 1795/2000\n1/1 [==============================] - 0s 1ms/step - loss: 0.6835 - acc: 0.5714\nEpoch 1796/2000\n1/1 [==============================] - 0s 2ms/step - loss: 0.6835 - acc: 0.5714\nEpoch 1797/2000\n1/1 [==============================] - 0s 2ms/step - loss: 0.6835 - acc: 0.5714\nEpoch 1798/2000\n1/1 [==============================] - 0s 4ms/step - loss: 0.6835 - acc: 0.5714\nEpoch 1799/2000\n1/1 [==============================] - 0s 2ms/step - loss: 0.6835 - acc: 0.5714\nEpoch 1800/2000\n1/1 [==============================] - 0s 3ms/step - loss: 0.6835 - acc: 0.5714\nEpoch 1801/2000\n1/1 [==============================] - 0s 1ms/step - loss: 0.6835 - acc: 0.5714\nEpoch 1802/2000\n1/1 [==============================] - 0s 2ms/step - loss: 0.6835 - acc: 0.5714\nEpoch 1803/2000\n1/1 [==============================] - 0s 1ms/step - loss: 0.6835 - acc: 0.5714\nEpoch 1804/2000\n1/1 [==============================] - 0s 2ms/step - loss: 0.6835 - acc: 0.5714\nEpoch 1805/2000\n1/1 [==============================] - 0s 2ms/step - loss: 0.6835 - acc: 0.5714\nEpoch 1806/2000\n1/1 [==============================] - 0s 1ms/step - loss: 0.6835 - acc: 0.5714\nEpoch 1807/2000\n1/1 [==============================] - 0s 1ms/step - loss: 0.6835 - acc: 0.5714\nEpoch 1808/2000\n1/1 [==============================] - 0s 2ms/step - loss: 0.6835 - acc: 0.5714\nEpoch 1809/2000\n1/1 [==============================] - 0s 1ms/step - loss: 0.6835 - acc: 0.5714\nEpoch 1810/2000\n1/1 [==============================] - 0s 942us/step - loss: 0.6835 - acc: 0.5714\nEpoch 1811/2000\n1/1 [==============================] - 0s 1ms/step - loss: 0.6835 - acc: 0.5714\nEpoch 1812/2000\n1/1 [==============================] - 0s 2ms/step - loss: 0.6835 - acc: 0.5714\nEpoch 1813/2000\n1/1 [==============================] - 0s 2ms/step - loss: 0.6835 - acc: 0.5714\nEpoch 1814/2000\n1/1 [==============================] - 0s 1ms/step - loss: 0.6835 - acc: 0.5714\nEpoch 1815/2000\n1/1 [==============================] - 0s 1ms/step - loss: 0.6835 - acc: 0.5714\nEpoch 1816/2000\n1/1 [==============================] - 0s 1ms/step - loss: 0.6835 - acc: 0.5714\nEpoch 1817/2000\n1/1 [==============================] - 0s 1ms/step - loss: 0.6835 - acc: 0.5714\nEpoch 1818/2000\n1/1 [==============================] - 0s 884us/step - loss: 0.6835 - acc: 0.5714\nEpoch 1819/2000\n1/1 [==============================] - 0s 1ms/step - loss: 0.6835 - acc: 0.5714\nEpoch 1820/2000\n1/1 [==============================] - 0s 822us/step - loss: 0.6835 - acc: 0.5714\nEpoch 1821/2000\n1/1 [==============================] - 0s 1ms/step - loss: 0.6835 - acc: 0.5714\nEpoch 1822/2000\n1/1 [==============================] - 0s 819us/step - loss: 0.6835 - acc: 0.5714\nEpoch 1823/2000\n1/1 [==============================] - 0s 1ms/step - loss: 0.6835 - acc: 0.5714\nEpoch 1824/2000\n1/1 [==============================] - 0s 838us/step - loss: 0.6835 - acc: 0.5714\nEpoch 1825/2000\n1/1 [==============================] - 0s 2ms/step - loss: 0.6835 - acc: 0.5714\nEpoch 1826/2000\n1/1 [==============================] - 0s 2ms/step - loss: 0.6835 - acc: 0.5714\nEpoch 1827/2000\n1/1 [==============================] - 0s 1ms/step - loss: 0.6835 - acc: 0.5714\nEpoch 1828/2000\n1/1 [==============================] - 0s 1ms/step - loss: 0.6835 - acc: 0.5714\nEpoch 1829/2000\n1/1 [==============================] - 0s 905us/step - loss: 0.6835 - acc: 0.5714\nEpoch 1830/2000\n1/1 [==============================] - 0s 682us/step - loss: 0.6835 - acc: 0.5714\nEpoch 1831/2000\n1/1 [==============================] - 0s 2ms/step - loss: 0.6835 - acc: 0.5714\nEpoch 1832/2000\n1/1 [==============================] - 0s 978us/step - loss: 0.6835 - acc: 0.5714\nEpoch 1833/2000\n1/1 [==============================] - 0s 2ms/step - loss: 0.6835 - acc: 0.5714\nEpoch 1834/2000\n1/1 [==============================] - 0s 1ms/step - loss: 0.6834 - acc: 0.5714\nEpoch 1835/2000\n1/1 [==============================] - 0s 954us/step - loss: 0.6834 - acc: 0.5714\nEpoch 1836/2000\n1/1 [==============================] - 0s 2ms/step - loss: 0.6834 - acc: 0.5714\nEpoch 1837/2000\n1/1 [==============================] - 0s 2ms/step - loss: 0.6834 - acc: 0.5714\nEpoch 1838/2000\n1/1 [==============================] - 0s 2ms/step - loss: 0.6834 - acc: 0.5714\nEpoch 1839/2000\n1/1 [==============================] - 0s 2ms/step - loss: 0.6834 - acc: 0.5714\nEpoch 1840/2000\n1/1 [==============================] - 0s 3ms/step - loss: 0.6834 - acc: 0.5714\nEpoch 1841/2000\n1/1 [==============================] - 0s 2ms/step - loss: 0.6834 - acc: 0.5714\nEpoch 1842/2000\n1/1 [==============================] - 0s 915us/step - loss: 0.6834 - acc: 0.5714\nEpoch 1843/2000\n1/1 [==============================] - 0s 707us/step - loss: 0.6834 - acc: 0.5714\nEpoch 1844/2000\n1/1 [==============================] - 0s 2ms/step - loss: 0.6834 - acc: 0.5714\nEpoch 1845/2000\n1/1 [==============================] - 0s 1ms/step - loss: 0.6834 - acc: 0.5714\nEpoch 1846/2000\n1/1 [==============================] - 0s 927us/step - loss: 0.6834 - acc: 0.5714\nEpoch 1847/2000\n1/1 [==============================] - 0s 1ms/step - loss: 0.6834 - acc: 0.5714\nEpoch 1848/2000\n1/1 [==============================] - 0s 1ms/step - loss: 0.6834 - acc: 0.5714\nEpoch 1849/2000\n1/1 [==============================] - 0s 923us/step - loss: 0.6834 - acc: 0.5714\nEpoch 1850/2000\n1/1 [==============================] - 0s 1ms/step - loss: 0.6834 - acc: 0.5714\nEpoch 1851/2000\n1/1 [==============================] - 0s 1ms/step - loss: 0.6834 - acc: 0.5714\nEpoch 1852/2000\n1/1 [==============================] - 0s 817us/step - loss: 0.6834 - acc: 0.5714\nEpoch 1853/2000\n1/1 [==============================] - 0s 865us/step - loss: 0.6834 - acc: 0.5714\nEpoch 1854/2000\n1/1 [==============================] - 0s 1ms/step - loss: 0.6834 - acc: 0.5714\nEpoch 1855/2000\n1/1 [==============================] - 0s 640us/step - loss: 0.6834 - acc: 0.5714\nEpoch 1856/2000\n1/1 [==============================] - 0s 903us/step - loss: 0.6834 - acc: 0.5714\nEpoch 1857/2000\n1/1 [==============================] - 0s 2ms/step - loss: 0.6834 - acc: 0.5714\nEpoch 1858/2000\n1/1 [==============================] - 0s 1ms/step - loss: 0.6834 - acc: 0.5714\nEpoch 1859/2000\n1/1 [==============================] - 0s 1ms/step - loss: 0.6834 - acc: 0.5714\nEpoch 1860/2000\n1/1 [==============================] - 0s 1ms/step - loss: 0.6834 - acc: 0.5714\nEpoch 1861/2000\n1/1 [==============================] - 0s 1ms/step - loss: 0.6834 - acc: 0.5714\nEpoch 1862/2000\n1/1 [==============================] - 0s 976us/step - loss: 0.6834 - acc: 0.5714\nEpoch 1863/2000\n1/1 [==============================] - 0s 955us/step - loss: 0.6834 - acc: 0.5714\nEpoch 1864/2000\n1/1 [==============================] - 0s 1ms/step - loss: 0.6834 - acc: 0.5714\nEpoch 1865/2000\n1/1 [==============================] - 0s 1ms/step - loss: 0.6834 - acc: 0.5714\nEpoch 1866/2000\n1/1 [==============================] - 0s 1ms/step - loss: 0.6834 - acc: 0.5714\nEpoch 1867/2000\n1/1 [==============================] - 0s 858us/step - loss: 0.6834 - acc: 0.5714\nEpoch 1868/2000\n1/1 [==============================] - 0s 736us/step - loss: 0.6834 - acc: 0.5714\nEpoch 1869/2000\n1/1 [==============================] - 0s 1ms/step - loss: 0.6834 - acc: 0.5714\nEpoch 1870/2000\n1/1 [==============================] - 0s 2ms/step - loss: 0.6834 - acc: 0.5714\nEpoch 1871/2000\n1/1 [==============================] - 0s 1ms/step - loss: 0.6834 - acc: 0.5714\nEpoch 1872/2000\n1/1 [==============================] - 0s 996us/step - loss: 0.6834 - acc: 0.5714\nEpoch 1873/2000\n1/1 [==============================] - 0s 842us/step - loss: 0.6834 - acc: 0.5714\nEpoch 1874/2000\n1/1 [==============================] - 0s 1ms/step - loss: 0.6834 - acc: 0.5714\nEpoch 1875/2000\n1/1 [==============================] - 0s 686us/step - loss: 0.6834 - acc: 0.5714\nEpoch 1876/2000\n1/1 [==============================] - 0s 1ms/step - loss: 0.6834 - acc: 0.5714\nEpoch 1877/2000\n1/1 [==============================] - 0s 887us/step - loss: 0.6834 - acc: 0.5714\nEpoch 1878/2000\n1/1 [==============================] - 0s 1ms/step - loss: 0.6834 - acc: 0.5714\nEpoch 1879/2000\n1/1 [==============================] - 0s 1ms/step - loss: 0.6834 - acc: 0.5714\nEpoch 1880/2000\n1/1 [==============================] - 0s 1ms/step - loss: 0.6834 - acc: 0.5714\nEpoch 1881/2000\n1/1 [==============================] - 0s 879us/step - loss: 0.6834 - acc: 0.5714\nEpoch 1882/2000\n1/1 [==============================] - 0s 2ms/step - loss: 0.6834 - acc: 0.5714\nEpoch 1883/2000\n1/1 [==============================] - 0s 1ms/step - loss: 0.6834 - acc: 0.5714\nEpoch 1884/2000\n1/1 [==============================] - 0s 1ms/step - loss: 0.6834 - acc: 0.5714\nEpoch 1885/2000\n1/1 [==============================] - 0s 2ms/step - loss: 0.6834 - acc: 0.5714\nEpoch 1886/2000\n1/1 [==============================] - 0s 1ms/step - loss: 0.6834 - acc: 0.5714\nEpoch 1887/2000\n1/1 [==============================] - 0s 1ms/step - loss: 0.6834 - acc: 0.5714\nEpoch 1888/2000\n1/1 [==============================] - 0s 1ms/step - loss: 0.6834 - acc: 0.5714\nEpoch 1889/2000\n1/1 [==============================] - 0s 951us/step - loss: 0.6834 - acc: 0.5714\nEpoch 1890/2000\n1/1 [==============================] - 0s 972us/step - loss: 0.6834 - acc: 0.5714\nEpoch 1891/2000\n1/1 [==============================] - 0s 1ms/step - loss: 0.6834 - acc: 0.5714\nEpoch 1892/2000\n1/1 [==============================] - 0s 1ms/step - loss: 0.6834 - acc: 0.5714\nEpoch 1893/2000\n1/1 [==============================] - 0s 1ms/step - loss: 0.6834 - acc: 0.5714\nEpoch 1894/2000\n1/1 [==============================] - 0s 883us/step - loss: 0.6834 - acc: 0.5714\nEpoch 1895/2000\n1/1 [==============================] - 0s 1ms/step - loss: 0.6834 - acc: 0.5714\nEpoch 1896/2000\n1/1 [==============================] - 0s 668us/step - loss: 0.6834 - acc: 0.5714\nEpoch 1897/2000\n1/1 [==============================] - 0s 1ms/step - loss: 0.6834 - acc: 0.5714\nEpoch 1898/2000\n1/1 [==============================] - 0s 1ms/step - loss: 0.6834 - acc: 0.5714\nEpoch 1899/2000\n1/1 [==============================] - 0s 764us/step - loss: 0.6834 - acc: 0.5714\nEpoch 1900/2000\n1/1 [==============================] - 0s 1ms/step - loss: 0.6834 - acc: 0.5714\nEpoch 1901/2000\n1/1 [==============================] - 0s 939us/step - loss: 0.6834 - acc: 0.5714\nEpoch 1902/2000\n1/1 [==============================] - 0s 1ms/step - loss: 0.6834 - acc: 0.5714\nEpoch 1903/2000\n1/1 [==============================] - 0s 1ms/step - loss: 0.6834 - acc: 0.5714\nEpoch 1904/2000\n1/1 [==============================] - 0s 952us/step - loss: 0.6834 - acc: 0.5714\nEpoch 1905/2000\n1/1 [==============================] - 0s 855us/step - loss: 0.6834 - acc: 0.5714\nEpoch 1906/2000\n1/1 [==============================] - 0s 1ms/step - loss: 0.6834 - acc: 0.5714\nEpoch 1907/2000\n1/1 [==============================] - 0s 1ms/step - loss: 0.6834 - acc: 0.5714\nEpoch 1908/2000\n1/1 [==============================] - 0s 1ms/step - loss: 0.6834 - acc: 0.5714\nEpoch 1909/2000\n1/1 [==============================] - 0s 753us/step - loss: 0.6834 - acc: 0.5714\nEpoch 1910/2000\n1/1 [==============================] - 0s 615us/step - loss: 0.6834 - acc: 0.5714\nEpoch 1911/2000\n1/1 [==============================] - 0s 1ms/step - loss: 0.6834 - acc: 0.5714\nEpoch 1912/2000\n1/1 [==============================] - 0s 1ms/step - loss: 0.6834 - acc: 0.5714\nEpoch 1913/2000\n1/1 [==============================] - 0s 838us/step - loss: 0.6834 - acc: 0.5714\nEpoch 1914/2000\n1/1 [==============================] - 0s 1ms/step - loss: 0.6834 - acc: 0.5714\nEpoch 1915/2000\n1/1 [==============================] - 0s 2ms/step - loss: 0.6834 - acc: 0.5714\nEpoch 1916/2000\n1/1 [==============================] - 0s 1ms/step - loss: 0.6834 - acc: 0.5714\nEpoch 1917/2000\n1/1 [==============================] - 0s 1ms/step - loss: 0.6834 - acc: 0.5714\nEpoch 1918/2000\n1/1 [==============================] - 0s 2ms/step - loss: 0.6834 - acc: 0.5714\nEpoch 1919/2000\n1/1 [==============================] - 0s 1ms/step - loss: 0.6834 - acc: 0.5714\nEpoch 1920/2000\n1/1 [==============================] - 0s 1ms/step - loss: 0.6834 - acc: 0.5714\nEpoch 1921/2000\n1/1 [==============================] - 0s 823us/step - loss: 0.6834 - acc: 0.5714\nEpoch 1922/2000\n1/1 [==============================] - 0s 1ms/step - loss: 0.6834 - acc: 0.5714\nEpoch 1923/2000\n1/1 [==============================] - 0s 1ms/step - loss: 0.6834 - acc: 0.5714\nEpoch 1924/2000\n1/1 [==============================] - 0s 2ms/step - loss: 0.6834 - acc: 0.5714\nEpoch 1925/2000\n1/1 [==============================] - 0s 1ms/step - loss: 0.6834 - acc: 0.5714\nEpoch 1926/2000\n1/1 [==============================] - 0s 969us/step - loss: 0.6834 - acc: 0.5714\nEpoch 1927/2000\n1/1 [==============================] - 0s 2ms/step - loss: 0.6834 - acc: 0.5714\nEpoch 1928/2000\n1/1 [==============================] - 0s 2ms/step - loss: 0.6834 - acc: 0.5714\nEpoch 1929/2000\n1/1 [==============================] - 0s 1ms/step - loss: 0.6834 - acc: 0.5714\nEpoch 1930/2000\n1/1 [==============================] - 0s 956us/step - loss: 0.6834 - acc: 0.5714\nEpoch 1931/2000\n1/1 [==============================] - 0s 1ms/step - loss: 0.6834 - acc: 0.5714\nEpoch 1932/2000\n1/1 [==============================] - 0s 1ms/step - loss: 0.6834 - acc: 0.5714\nEpoch 1933/2000\n1/1 [==============================] - 0s 1ms/step - loss: 0.6834 - acc: 0.5714\nEpoch 1934/2000\n1/1 [==============================] - 0s 1ms/step - loss: 0.6834 - acc: 0.5714\nEpoch 1935/2000\n1/1 [==============================] - 0s 2ms/step - loss: 0.6834 - acc: 0.5714\nEpoch 1936/2000\n1/1 [==============================] - 0s 948us/step - loss: 0.6834 - acc: 0.5714\nEpoch 1937/2000\n1/1 [==============================] - 0s 1ms/step - loss: 0.6834 - acc: 0.5714\nEpoch 1938/2000\n1/1 [==============================] - 0s 1ms/step - loss: 0.6834 - acc: 0.5714\nEpoch 1939/2000\n1/1 [==============================] - 0s 1ms/step - loss: 0.6834 - acc: 0.5714\nEpoch 1940/2000\n1/1 [==============================] - 0s 1ms/step - loss: 0.6834 - acc: 0.5714\nEpoch 1941/2000\n1/1 [==============================] - 0s 1ms/step - loss: 0.6834 - acc: 0.5714\nEpoch 1942/2000\n1/1 [==============================] - 0s 2ms/step - loss: 0.6834 - acc: 0.5714\nEpoch 1943/2000\n1/1 [==============================] - 0s 2ms/step - loss: 0.6834 - acc: 0.5714\nEpoch 1944/2000\n1/1 [==============================] - 0s 2ms/step - loss: 0.6834 - acc: 0.5714\nEpoch 1945/2000\n1/1 [==============================] - 0s 2ms/step - loss: 0.6834 - acc: 0.5714\nEpoch 1946/2000\n1/1 [==============================] - 0s 2ms/step - loss: 0.6834 - acc: 0.5714\nEpoch 1947/2000\n1/1 [==============================] - 0s 1ms/step - loss: 0.6834 - acc: 0.5714\nEpoch 1948/2000\n1/1 [==============================] - 0s 2ms/step - loss: 0.6834 - acc: 0.5714\nEpoch 1949/2000\n1/1 [==============================] - 0s 2ms/step - loss: 0.6834 - acc: 0.5714\nEpoch 1950/2000\n1/1 [==============================] - ETA: 0s - loss: 0.6834 - acc: 0.5711/1 [==============================] - 0s 1ms/step - loss: 0.6834 - acc: 0.5714\nEpoch 1951/2000\n1/1 [==============================] - 0s 2ms/step - loss: 0.6834 - acc: 0.5714\nEpoch 1952/2000\n1/1 [==============================] - 0s 3ms/step - loss: 0.6834 - acc: 0.5714\nEpoch 1953/2000\n1/1 [==============================] - 0s 3ms/step - loss: 0.6834 - acc: 0.5714\nEpoch 1954/2000\n1/1 [==============================] - 0s 1ms/step - loss: 0.6834 - acc: 0.5714\nEpoch 1955/2000\n1/1 [==============================] - 0s 1ms/step - loss: 0.6834 - acc: 0.5714\nEpoch 1956/2000\n1/1 [==============================] - 0s 2ms/step - loss: 0.6834 - acc: 0.5714\nEpoch 1957/2000\n1/1 [==============================] - 0s 4ms/step - loss: 0.6834 - acc: 0.5714\nEpoch 1958/2000\n1/1 [==============================] - 0s 1ms/step - loss: 0.6834 - acc: 0.5714\nEpoch 1959/2000\n1/1 [==============================] - 0s 1ms/step - loss: 0.6834 - acc: 0.5714\nEpoch 1960/2000\n1/1 [==============================] - 0s 1ms/step - loss: 0.6834 - acc: 0.5714\nEpoch 1961/2000\n1/1 [==============================] - 0s 3ms/step - loss: 0.6834 - acc: 0.5714\nEpoch 1962/2000\n1/1 [==============================] - 0s 2ms/step - loss: 0.6834 - acc: 0.5714\nEpoch 1963/2000\n1/1 [==============================] - 0s 1ms/step - loss: 0.6834 - acc: 0.5714\nEpoch 1964/2000\n1/1 [==============================] - 0s 2ms/step - loss: 0.6834 - acc: 0.5714\nEpoch 1965/2000\n1/1 [==============================] - 0s 1ms/step - loss: 0.6834 - acc: 0.5714\nEpoch 1966/2000\n1/1 [==============================] - 0s 1ms/step - loss: 0.6834 - acc: 0.5714\nEpoch 1967/2000\n1/1 [==============================] - 0s 906us/step - loss: 0.6834 - acc: 0.5714\nEpoch 1968/2000\n1/1 [==============================] - 0s 899us/step - loss: 0.6834 - acc: 0.5714\nEpoch 1969/2000\n1/1 [==============================] - 0s 1ms/step - loss: 0.6834 - acc: 0.5714\nEpoch 1970/2000\n1/1 [==============================] - 0s 1ms/step - loss: 0.6834 - acc: 0.5714\nEpoch 1971/2000\n1/1 [==============================] - 0s 1ms/step - loss: 0.6834 - acc: 0.5714\nEpoch 1972/2000\n1/1 [==============================] - 0s 4ms/step - loss: 0.6834 - acc: 0.5714\nEpoch 1973/2000\n1/1 [==============================] - 0s 2ms/step - loss: 0.6834 - acc: 0.5714\nEpoch 1974/2000\n1/1 [==============================] - 0s 2ms/step - loss: 0.6834 - acc: 0.5714\nEpoch 1975/2000\n1/1 [==============================] - 0s 1ms/step - loss: 0.6834 - acc: 0.5714\nEpoch 1976/2000\n1/1 [==============================] - 0s 1ms/step - loss: 0.6834 - acc: 0.5714\nEpoch 1977/2000\n1/1 [==============================] - 0s 942us/step - loss: 0.6834 - acc: 0.5714\nEpoch 1978/2000\n1/1 [==============================] - 0s 2ms/step - loss: 0.6834 - acc: 0.5714\nEpoch 1979/2000\n1/1 [==============================] - 0s 2ms/step - loss: 0.6834 - acc: 0.5714\nEpoch 1980/2000\n1/1 [==============================] - 0s 2ms/step - loss: 0.6834 - acc: 0.5714\nEpoch 1981/2000\n1/1 [==============================] - 0s 1ms/step - loss: 0.6834 - acc: 0.5714\nEpoch 1982/2000\n1/1 [==============================] - 0s 2ms/step - loss: 0.6834 - acc: 0.5714\nEpoch 1983/2000\n1/1 [==============================] - 0s 2ms/step - loss: 0.6834 - acc: 0.5714\nEpoch 1984/2000\n1/1 [==============================] - 0s 2ms/step - loss: 0.6834 - acc: 0.5714\nEpoch 1985/2000\n1/1 [==============================] - 0s 2ms/step - loss: 0.6834 - acc: 0.5714\nEpoch 1986/2000\n1/1 [==============================] - 0s 2ms/step - loss: 0.6834 - acc: 0.5714\nEpoch 1987/2000\n1/1 [==============================] - 0s 1ms/step - loss: 0.6834 - acc: 0.5714\nEpoch 1988/2000\n1/1 [==============================] - 0s 2ms/step - loss: 0.6834 - acc: 0.5714\nEpoch 1989/2000\n1/1 [==============================] - 0s 2ms/step - loss: 0.6834 - acc: 0.5714\nEpoch 1990/2000\n1/1 [==============================] - 0s 2ms/step - loss: 0.6834 - acc: 0.5714\nEpoch 1991/2000\n1/1 [==============================] - 0s 1ms/step - loss: 0.6834 - acc: 0.5714\nEpoch 1992/2000\n1/1 [==============================] - 0s 12ms/step - loss: 0.6834 - acc: 0.5714\nEpoch 1993/2000\n1/1 [==============================] - 0s 2ms/step - loss: 0.6834 - acc: 0.5714\nEpoch 1994/2000\n1/1 [==============================] - 0s 2ms/step - loss: 0.6834 - acc: 0.5714\nEpoch 1995/2000\n1/1 [==============================] - 0s 3ms/step - loss: 0.6834 - acc: 0.5714\nEpoch 1996/2000\n1/1 [==============================] - 0s 3ms/step - loss: 0.6834 - acc: 0.5714\nEpoch 1997/2000\n1/1 [==============================] - 0s 3ms/step - loss: 0.6834 - acc: 0.5714\nEpoch 1998/2000\n1/1 [==============================] - 0s 5ms/step - loss: 0.6834 - acc: 0.5714\nEpoch 1999/2000\n1/1 [==============================] - 0s 1ms/step - loss: 0.6834 - acc: 0.5714\nEpoch 2000/2000\n1/1 [==============================] - 0s 4ms/step - loss: 0.6834 - acc: 0.5714\n"
        }
      ],
      "source": [
        "model = Sequential([\n",
        "    Dense(3, activation='sigmoid', input_dim=3),\n",
        "    Dense(4, activation='sigmoid'),\n",
        "    Dense(1, activation='sigmoid')\n",
        "])\n",
        "\n",
        "model.compile(optimizer='sgd', loss='binary_crossentropy', metrics=['acc'])\n",
        "\n",
        "results = model.fit(X,y, epochs=2000)"
      ]
    },
    {
      "cell_type": "code",
      "execution_count": 8,
      "metadata": {},
      "outputs": [],
      "source": [
        "import seaborn as sns"
      ]
    },
    {
      "cell_type": "code",
      "execution_count": 9,
      "metadata": {},
      "outputs": [
        {
          "output_type": "execute_result",
          "data": {
            "text/plain": "dict_keys(['loss', 'acc'])"
          },
          "metadata": {},
          "execution_count": 9
        }
      ],
      "source": [
        "results.history.keys()"
      ]
    },
    {
      "cell_type": "code",
      "execution_count": 32,
      "metadata": {},
      "outputs": [
        {
          "output_type": "execute_result",
          "data": {
            "text/plain": "2000"
          },
          "metadata": {},
          "execution_count": 32
        }
      ],
      "source": [
        "epochs = [i for i in range(2000)]\n",
        "len(epochs)"
      ]
    },
    {
      "cell_type": "code",
      "execution_count": 33,
      "metadata": {},
      "outputs": [
        {
          "output_type": "display_data",
          "data": {
            "text/plain": "<Figure size 432x288 with 1 Axes>",
            "image/svg+xml": "<?xml version=\"1.0\" encoding=\"utf-8\" standalone=\"no\"?>\n<!DOCTYPE svg PUBLIC \"-//W3C//DTD SVG 1.1//EN\"\n  \"http://www.w3.org/Graphics/SVG/1.1/DTD/svg11.dtd\">\n<!-- Created with matplotlib (https://matplotlib.org/) -->\n<svg height=\"248.518125pt\" version=\"1.1\" viewBox=\"0 0 384.828125 248.518125\" width=\"384.828125pt\" xmlns=\"http://www.w3.org/2000/svg\" xmlns:xlink=\"http://www.w3.org/1999/xlink\">\n <defs>\n  <style type=\"text/css\">\n*{stroke-linecap:butt;stroke-linejoin:round;}\n  </style>\n </defs>\n <g id=\"figure_1\">\n  <g id=\"patch_1\">\n   <path d=\"M 0 248.518125 \nL 384.828125 248.518125 \nL 384.828125 0 \nL 0 0 \nz\n\" style=\"fill:none;\"/>\n  </g>\n  <g id=\"axes_1\">\n   <g id=\"patch_2\">\n    <path d=\"M 42.828125 224.64 \nL 377.628125 224.64 \nL 377.628125 7.2 \nL 42.828125 7.2 \nz\n\" style=\"fill:#ffffff;\"/>\n   </g>\n   <g id=\"matplotlib.axis_1\">\n    <g id=\"xtick_1\">\n     <g id=\"line2d_1\">\n      <defs>\n       <path d=\"M 0 0 \nL 0 3.5 \n\" id=\"m2e113d6b5f\" style=\"stroke:#000000;stroke-width:0.8;\"/>\n      </defs>\n      <g>\n       <use style=\"stroke:#000000;stroke-width:0.8;\" x=\"58.046307\" xlink:href=\"#m2e113d6b5f\" y=\"224.64\"/>\n      </g>\n     </g>\n     <g id=\"text_1\">\n      <!-- 0 -->\n      <defs>\n       <path d=\"M 31.78125 66.40625 \nQ 24.171875 66.40625 20.328125 58.90625 \nQ 16.5 51.421875 16.5 36.375 \nQ 16.5 21.390625 20.328125 13.890625 \nQ 24.171875 6.390625 31.78125 6.390625 \nQ 39.453125 6.390625 43.28125 13.890625 \nQ 47.125 21.390625 47.125 36.375 \nQ 47.125 51.421875 43.28125 58.90625 \nQ 39.453125 66.40625 31.78125 66.40625 \nz\nM 31.78125 74.21875 \nQ 44.046875 74.21875 50.515625 64.515625 \nQ 56.984375 54.828125 56.984375 36.375 \nQ 56.984375 17.96875 50.515625 8.265625 \nQ 44.046875 -1.421875 31.78125 -1.421875 \nQ 19.53125 -1.421875 13.0625 8.265625 \nQ 6.59375 17.96875 6.59375 36.375 \nQ 6.59375 54.828125 13.0625 64.515625 \nQ 19.53125 74.21875 31.78125 74.21875 \nz\n\" id=\"DejaVuSans-48\"/>\n      </defs>\n      <g transform=\"translate(54.865057 239.238438)scale(0.1 -0.1)\">\n       <use xlink:href=\"#DejaVuSans-48\"/>\n      </g>\n     </g>\n    </g>\n    <g id=\"xtick_2\">\n     <g id=\"line2d_2\">\n      <g>\n       <use style=\"stroke:#000000;stroke-width:0.8;\" x=\"96.110794\" xlink:href=\"#m2e113d6b5f\" y=\"224.64\"/>\n      </g>\n     </g>\n     <g id=\"text_2\">\n      <!-- 250 -->\n      <defs>\n       <path d=\"M 19.1875 8.296875 \nL 53.609375 8.296875 \nL 53.609375 0 \nL 7.328125 0 \nL 7.328125 8.296875 \nQ 12.9375 14.109375 22.625 23.890625 \nQ 32.328125 33.6875 34.8125 36.53125 \nQ 39.546875 41.84375 41.421875 45.53125 \nQ 43.3125 49.21875 43.3125 52.78125 \nQ 43.3125 58.59375 39.234375 62.25 \nQ 35.15625 65.921875 28.609375 65.921875 \nQ 23.96875 65.921875 18.8125 64.3125 \nQ 13.671875 62.703125 7.8125 59.421875 \nL 7.8125 69.390625 \nQ 13.765625 71.78125 18.9375 73 \nQ 24.125 74.21875 28.421875 74.21875 \nQ 39.75 74.21875 46.484375 68.546875 \nQ 53.21875 62.890625 53.21875 53.421875 \nQ 53.21875 48.921875 51.53125 44.890625 \nQ 49.859375 40.875 45.40625 35.40625 \nQ 44.1875 33.984375 37.640625 27.21875 \nQ 31.109375 20.453125 19.1875 8.296875 \nz\n\" id=\"DejaVuSans-50\"/>\n       <path d=\"M 10.796875 72.90625 \nL 49.515625 72.90625 \nL 49.515625 64.59375 \nL 19.828125 64.59375 \nL 19.828125 46.734375 \nQ 21.96875 47.46875 24.109375 47.828125 \nQ 26.265625 48.1875 28.421875 48.1875 \nQ 40.625 48.1875 47.75 41.5 \nQ 54.890625 34.8125 54.890625 23.390625 \nQ 54.890625 11.625 47.5625 5.09375 \nQ 40.234375 -1.421875 26.90625 -1.421875 \nQ 22.3125 -1.421875 17.546875 -0.640625 \nQ 12.796875 0.140625 7.71875 1.703125 \nL 7.71875 11.625 \nQ 12.109375 9.234375 16.796875 8.0625 \nQ 21.484375 6.890625 26.703125 6.890625 \nQ 35.15625 6.890625 40.078125 11.328125 \nQ 45.015625 15.765625 45.015625 23.390625 \nQ 45.015625 31 40.078125 35.4375 \nQ 35.15625 39.890625 26.703125 39.890625 \nQ 22.75 39.890625 18.8125 39.015625 \nQ 14.890625 38.140625 10.796875 36.28125 \nz\n\" id=\"DejaVuSans-53\"/>\n      </defs>\n      <g transform=\"translate(86.567044 239.238438)scale(0.1 -0.1)\">\n       <use xlink:href=\"#DejaVuSans-50\"/>\n       <use x=\"63.623047\" xlink:href=\"#DejaVuSans-53\"/>\n       <use x=\"127.246094\" xlink:href=\"#DejaVuSans-48\"/>\n      </g>\n     </g>\n    </g>\n    <g id=\"xtick_3\">\n     <g id=\"line2d_3\">\n      <g>\n       <use style=\"stroke:#000000;stroke-width:0.8;\" x=\"134.17528\" xlink:href=\"#m2e113d6b5f\" y=\"224.64\"/>\n      </g>\n     </g>\n     <g id=\"text_3\">\n      <!-- 500 -->\n      <g transform=\"translate(124.63153 239.238438)scale(0.1 -0.1)\">\n       <use xlink:href=\"#DejaVuSans-53\"/>\n       <use x=\"63.623047\" xlink:href=\"#DejaVuSans-48\"/>\n       <use x=\"127.246094\" xlink:href=\"#DejaVuSans-48\"/>\n      </g>\n     </g>\n    </g>\n    <g id=\"xtick_4\">\n     <g id=\"line2d_4\">\n      <g>\n       <use style=\"stroke:#000000;stroke-width:0.8;\" x=\"172.239767\" xlink:href=\"#m2e113d6b5f\" y=\"224.64\"/>\n      </g>\n     </g>\n     <g id=\"text_4\">\n      <!-- 750 -->\n      <defs>\n       <path d=\"M 8.203125 72.90625 \nL 55.078125 72.90625 \nL 55.078125 68.703125 \nL 28.609375 0 \nL 18.3125 0 \nL 43.21875 64.59375 \nL 8.203125 64.59375 \nz\n\" id=\"DejaVuSans-55\"/>\n      </defs>\n      <g transform=\"translate(162.696017 239.238438)scale(0.1 -0.1)\">\n       <use xlink:href=\"#DejaVuSans-55\"/>\n       <use x=\"63.623047\" xlink:href=\"#DejaVuSans-53\"/>\n       <use x=\"127.246094\" xlink:href=\"#DejaVuSans-48\"/>\n      </g>\n     </g>\n    </g>\n    <g id=\"xtick_5\">\n     <g id=\"line2d_5\">\n      <g>\n       <use style=\"stroke:#000000;stroke-width:0.8;\" x=\"210.304254\" xlink:href=\"#m2e113d6b5f\" y=\"224.64\"/>\n      </g>\n     </g>\n     <g id=\"text_5\">\n      <!-- 1000 -->\n      <defs>\n       <path d=\"M 12.40625 8.296875 \nL 28.515625 8.296875 \nL 28.515625 63.921875 \nL 10.984375 60.40625 \nL 10.984375 69.390625 \nL 28.421875 72.90625 \nL 38.28125 72.90625 \nL 38.28125 8.296875 \nL 54.390625 8.296875 \nL 54.390625 0 \nL 12.40625 0 \nz\n\" id=\"DejaVuSans-49\"/>\n      </defs>\n      <g transform=\"translate(197.579254 239.238438)scale(0.1 -0.1)\">\n       <use xlink:href=\"#DejaVuSans-49\"/>\n       <use x=\"63.623047\" xlink:href=\"#DejaVuSans-48\"/>\n       <use x=\"127.246094\" xlink:href=\"#DejaVuSans-48\"/>\n       <use x=\"190.869141\" xlink:href=\"#DejaVuSans-48\"/>\n      </g>\n     </g>\n    </g>\n    <g id=\"xtick_6\">\n     <g id=\"line2d_6\">\n      <g>\n       <use style=\"stroke:#000000;stroke-width:0.8;\" x=\"248.368741\" xlink:href=\"#m2e113d6b5f\" y=\"224.64\"/>\n      </g>\n     </g>\n     <g id=\"text_6\">\n      <!-- 1250 -->\n      <g transform=\"translate(235.643741 239.238438)scale(0.1 -0.1)\">\n       <use xlink:href=\"#DejaVuSans-49\"/>\n       <use x=\"63.623047\" xlink:href=\"#DejaVuSans-50\"/>\n       <use x=\"127.246094\" xlink:href=\"#DejaVuSans-53\"/>\n       <use x=\"190.869141\" xlink:href=\"#DejaVuSans-48\"/>\n      </g>\n     </g>\n    </g>\n    <g id=\"xtick_7\">\n     <g id=\"line2d_7\">\n      <g>\n       <use style=\"stroke:#000000;stroke-width:0.8;\" x=\"286.433228\" xlink:href=\"#m2e113d6b5f\" y=\"224.64\"/>\n      </g>\n     </g>\n     <g id=\"text_7\">\n      <!-- 1500 -->\n      <g transform=\"translate(273.708228 239.238438)scale(0.1 -0.1)\">\n       <use xlink:href=\"#DejaVuSans-49\"/>\n       <use x=\"63.623047\" xlink:href=\"#DejaVuSans-53\"/>\n       <use x=\"127.246094\" xlink:href=\"#DejaVuSans-48\"/>\n       <use x=\"190.869141\" xlink:href=\"#DejaVuSans-48\"/>\n      </g>\n     </g>\n    </g>\n    <g id=\"xtick_8\">\n     <g id=\"line2d_8\">\n      <g>\n       <use style=\"stroke:#000000;stroke-width:0.8;\" x=\"324.497714\" xlink:href=\"#m2e113d6b5f\" y=\"224.64\"/>\n      </g>\n     </g>\n     <g id=\"text_8\">\n      <!-- 1750 -->\n      <g transform=\"translate(311.772714 239.238438)scale(0.1 -0.1)\">\n       <use xlink:href=\"#DejaVuSans-49\"/>\n       <use x=\"63.623047\" xlink:href=\"#DejaVuSans-55\"/>\n       <use x=\"127.246094\" xlink:href=\"#DejaVuSans-53\"/>\n       <use x=\"190.869141\" xlink:href=\"#DejaVuSans-48\"/>\n      </g>\n     </g>\n    </g>\n    <g id=\"xtick_9\">\n     <g id=\"line2d_9\">\n      <g>\n       <use style=\"stroke:#000000;stroke-width:0.8;\" x=\"362.562201\" xlink:href=\"#m2e113d6b5f\" y=\"224.64\"/>\n      </g>\n     </g>\n     <g id=\"text_9\">\n      <!-- 2000 -->\n      <g transform=\"translate(349.837201 239.238438)scale(0.1 -0.1)\">\n       <use xlink:href=\"#DejaVuSans-50\"/>\n       <use x=\"63.623047\" xlink:href=\"#DejaVuSans-48\"/>\n       <use x=\"127.246094\" xlink:href=\"#DejaVuSans-48\"/>\n       <use x=\"190.869141\" xlink:href=\"#DejaVuSans-48\"/>\n      </g>\n     </g>\n    </g>\n   </g>\n   <g id=\"matplotlib.axis_2\">\n    <g id=\"ytick_1\">\n     <g id=\"line2d_10\">\n      <defs>\n       <path d=\"M 0 0 \nL -3.5 0 \n\" id=\"m689e2c64fe\" style=\"stroke:#000000;stroke-width:0.8;\"/>\n      </defs>\n      <g>\n       <use style=\"stroke:#000000;stroke-width:0.8;\" x=\"42.828125\" xlink:href=\"#m689e2c64fe\" y=\"201.65391\"/>\n      </g>\n     </g>\n     <g id=\"text_10\">\n      <!-- 0.684 -->\n      <defs>\n       <path d=\"M 10.6875 12.40625 \nL 21 12.40625 \nL 21 0 \nL 10.6875 0 \nz\n\" id=\"DejaVuSans-46\"/>\n       <path d=\"M 33.015625 40.375 \nQ 26.375 40.375 22.484375 35.828125 \nQ 18.609375 31.296875 18.609375 23.390625 \nQ 18.609375 15.53125 22.484375 10.953125 \nQ 26.375 6.390625 33.015625 6.390625 \nQ 39.65625 6.390625 43.53125 10.953125 \nQ 47.40625 15.53125 47.40625 23.390625 \nQ 47.40625 31.296875 43.53125 35.828125 \nQ 39.65625 40.375 33.015625 40.375 \nz\nM 52.59375 71.296875 \nL 52.59375 62.3125 \nQ 48.875 64.0625 45.09375 64.984375 \nQ 41.3125 65.921875 37.59375 65.921875 \nQ 27.828125 65.921875 22.671875 59.328125 \nQ 17.53125 52.734375 16.796875 39.40625 \nQ 19.671875 43.65625 24.015625 45.921875 \nQ 28.375 48.1875 33.59375 48.1875 \nQ 44.578125 48.1875 50.953125 41.515625 \nQ 57.328125 34.859375 57.328125 23.390625 \nQ 57.328125 12.15625 50.6875 5.359375 \nQ 44.046875 -1.421875 33.015625 -1.421875 \nQ 20.359375 -1.421875 13.671875 8.265625 \nQ 6.984375 17.96875 6.984375 36.375 \nQ 6.984375 53.65625 15.1875 63.9375 \nQ 23.390625 74.21875 37.203125 74.21875 \nQ 40.921875 74.21875 44.703125 73.484375 \nQ 48.484375 72.75 52.59375 71.296875 \nz\n\" id=\"DejaVuSans-54\"/>\n       <path d=\"M 31.78125 34.625 \nQ 24.75 34.625 20.71875 30.859375 \nQ 16.703125 27.09375 16.703125 20.515625 \nQ 16.703125 13.921875 20.71875 10.15625 \nQ 24.75 6.390625 31.78125 6.390625 \nQ 38.8125 6.390625 42.859375 10.171875 \nQ 46.921875 13.96875 46.921875 20.515625 \nQ 46.921875 27.09375 42.890625 30.859375 \nQ 38.875 34.625 31.78125 34.625 \nz\nM 21.921875 38.8125 \nQ 15.578125 40.375 12.03125 44.71875 \nQ 8.5 49.078125 8.5 55.328125 \nQ 8.5 64.0625 14.71875 69.140625 \nQ 20.953125 74.21875 31.78125 74.21875 \nQ 42.671875 74.21875 48.875 69.140625 \nQ 55.078125 64.0625 55.078125 55.328125 \nQ 55.078125 49.078125 51.53125 44.71875 \nQ 48 40.375 41.703125 38.8125 \nQ 48.828125 37.15625 52.796875 32.3125 \nQ 56.78125 27.484375 56.78125 20.515625 \nQ 56.78125 9.90625 50.3125 4.234375 \nQ 43.84375 -1.421875 31.78125 -1.421875 \nQ 19.734375 -1.421875 13.25 4.234375 \nQ 6.78125 9.90625 6.78125 20.515625 \nQ 6.78125 27.484375 10.78125 32.3125 \nQ 14.796875 37.15625 21.921875 38.8125 \nz\nM 18.3125 54.390625 \nQ 18.3125 48.734375 21.84375 45.5625 \nQ 25.390625 42.390625 31.78125 42.390625 \nQ 38.140625 42.390625 41.71875 45.5625 \nQ 45.3125 48.734375 45.3125 54.390625 \nQ 45.3125 60.0625 41.71875 63.234375 \nQ 38.140625 66.40625 31.78125 66.40625 \nQ 25.390625 66.40625 21.84375 63.234375 \nQ 18.3125 60.0625 18.3125 54.390625 \nz\n\" id=\"DejaVuSans-56\"/>\n       <path d=\"M 37.796875 64.3125 \nL 12.890625 25.390625 \nL 37.796875 25.390625 \nz\nM 35.203125 72.90625 \nL 47.609375 72.90625 \nL 47.609375 25.390625 \nL 58.015625 25.390625 \nL 58.015625 17.1875 \nL 47.609375 17.1875 \nL 47.609375 0 \nL 37.796875 0 \nL 37.796875 17.1875 \nL 4.890625 17.1875 \nL 4.890625 26.703125 \nz\n\" id=\"DejaVuSans-52\"/>\n      </defs>\n      <g transform=\"translate(7.2 205.453129)scale(0.1 -0.1)\">\n       <use xlink:href=\"#DejaVuSans-48\"/>\n       <use x=\"63.623047\" xlink:href=\"#DejaVuSans-46\"/>\n       <use x=\"95.410156\" xlink:href=\"#DejaVuSans-54\"/>\n       <use x=\"159.033203\" xlink:href=\"#DejaVuSans-56\"/>\n       <use x=\"222.65625\" xlink:href=\"#DejaVuSans-52\"/>\n      </g>\n     </g>\n    </g>\n    <g id=\"ytick_2\">\n     <g id=\"line2d_11\">\n      <g>\n       <use style=\"stroke:#000000;stroke-width:0.8;\" x=\"42.828125\" xlink:href=\"#m689e2c64fe\" y=\"159.154512\"/>\n      </g>\n     </g>\n     <g id=\"text_11\">\n      <!-- 0.686 -->\n      <g transform=\"translate(7.2 162.95373)scale(0.1 -0.1)\">\n       <use xlink:href=\"#DejaVuSans-48\"/>\n       <use x=\"63.623047\" xlink:href=\"#DejaVuSans-46\"/>\n       <use x=\"95.410156\" xlink:href=\"#DejaVuSans-54\"/>\n       <use x=\"159.033203\" xlink:href=\"#DejaVuSans-56\"/>\n       <use x=\"222.65625\" xlink:href=\"#DejaVuSans-54\"/>\n      </g>\n     </g>\n    </g>\n    <g id=\"ytick_3\">\n     <g id=\"line2d_12\">\n      <g>\n       <use style=\"stroke:#000000;stroke-width:0.8;\" x=\"42.828125\" xlink:href=\"#m689e2c64fe\" y=\"116.655113\"/>\n      </g>\n     </g>\n     <g id=\"text_12\">\n      <!-- 0.688 -->\n      <g transform=\"translate(7.2 120.454332)scale(0.1 -0.1)\">\n       <use xlink:href=\"#DejaVuSans-48\"/>\n       <use x=\"63.623047\" xlink:href=\"#DejaVuSans-46\"/>\n       <use x=\"95.410156\" xlink:href=\"#DejaVuSans-54\"/>\n       <use x=\"159.033203\" xlink:href=\"#DejaVuSans-56\"/>\n       <use x=\"222.65625\" xlink:href=\"#DejaVuSans-56\"/>\n      </g>\n     </g>\n    </g>\n    <g id=\"ytick_4\">\n     <g id=\"line2d_13\">\n      <g>\n       <use style=\"stroke:#000000;stroke-width:0.8;\" x=\"42.828125\" xlink:href=\"#m689e2c64fe\" y=\"74.155715\"/>\n      </g>\n     </g>\n     <g id=\"text_13\">\n      <!-- 0.690 -->\n      <defs>\n       <path d=\"M 10.984375 1.515625 \nL 10.984375 10.5 \nQ 14.703125 8.734375 18.5 7.8125 \nQ 22.3125 6.890625 25.984375 6.890625 \nQ 35.75 6.890625 40.890625 13.453125 \nQ 46.046875 20.015625 46.78125 33.40625 \nQ 43.953125 29.203125 39.59375 26.953125 \nQ 35.25 24.703125 29.984375 24.703125 \nQ 19.046875 24.703125 12.671875 31.3125 \nQ 6.296875 37.9375 6.296875 49.421875 \nQ 6.296875 60.640625 12.9375 67.421875 \nQ 19.578125 74.21875 30.609375 74.21875 \nQ 43.265625 74.21875 49.921875 64.515625 \nQ 56.59375 54.828125 56.59375 36.375 \nQ 56.59375 19.140625 48.40625 8.859375 \nQ 40.234375 -1.421875 26.421875 -1.421875 \nQ 22.703125 -1.421875 18.890625 -0.6875 \nQ 15.09375 0.046875 10.984375 1.515625 \nz\nM 30.609375 32.421875 \nQ 37.25 32.421875 41.125 36.953125 \nQ 45.015625 41.5 45.015625 49.421875 \nQ 45.015625 57.28125 41.125 61.84375 \nQ 37.25 66.40625 30.609375 66.40625 \nQ 23.96875 66.40625 20.09375 61.84375 \nQ 16.21875 57.28125 16.21875 49.421875 \nQ 16.21875 41.5 20.09375 36.953125 \nQ 23.96875 32.421875 30.609375 32.421875 \nz\n\" id=\"DejaVuSans-57\"/>\n      </defs>\n      <g transform=\"translate(7.2 77.954934)scale(0.1 -0.1)\">\n       <use xlink:href=\"#DejaVuSans-48\"/>\n       <use x=\"63.623047\" xlink:href=\"#DejaVuSans-46\"/>\n       <use x=\"95.410156\" xlink:href=\"#DejaVuSans-54\"/>\n       <use x=\"159.033203\" xlink:href=\"#DejaVuSans-57\"/>\n       <use x=\"222.65625\" xlink:href=\"#DejaVuSans-48\"/>\n      </g>\n     </g>\n    </g>\n    <g id=\"ytick_5\">\n     <g id=\"line2d_14\">\n      <g>\n       <use style=\"stroke:#000000;stroke-width:0.8;\" x=\"42.828125\" xlink:href=\"#m689e2c64fe\" y=\"31.656317\"/>\n      </g>\n     </g>\n     <g id=\"text_14\">\n      <!-- 0.692 -->\n      <g transform=\"translate(7.2 35.455536)scale(0.1 -0.1)\">\n       <use xlink:href=\"#DejaVuSans-48\"/>\n       <use x=\"63.623047\" xlink:href=\"#DejaVuSans-46\"/>\n       <use x=\"95.410156\" xlink:href=\"#DejaVuSans-54\"/>\n       <use x=\"159.033203\" xlink:href=\"#DejaVuSans-57\"/>\n       <use x=\"222.65625\" xlink:href=\"#DejaVuSans-50\"/>\n      </g>\n     </g>\n    </g>\n   </g>\n   <g id=\"line2d_15\">\n    <path clip-path=\"url(#p889d5b078c)\" d=\"M 58.046307 17.083636 \nL 59.873402 39.471718 \nL 61.700498 59.083455 \nL 63.527593 76.265889 \nL 65.354688 91.325535 \nL 67.181784 104.52204 \nL 69.008879 116.093522 \nL 70.835974 126.238834 \nL 72.66307 135.140363 \nL 74.490165 142.947567 \nL 76.31726 149.804835 \nL 78.296614 156.289729 \nL 80.123709 161.519441 \nL 81.950805 166.117129 \nL 83.7779 170.158788 \nL 85.604995 173.715347 \nL 87.584349 177.089518 \nL 89.563702 180.031785 \nL 91.543055 182.600411 \nL 93.674666 185.001848 \nL 95.958536 187.218365 \nL 98.242405 189.123302 \nL 100.526274 190.759724 \nL 102.962401 192.258089 \nL 105.703044 193.688059 \nL 108.748203 195.014169 \nL 111.793362 196.117361 \nL 115.295295 197.168623 \nL 119.863033 198.270548 \nL 126.410125 199.467467 \nL 132.348185 200.298344 \nL 139.961082 201.139354 \nL 149.857849 202.015828 \nL 174.675894 203.763709 \nL 202.386841 205.497658 \nL 362.409943 214.756364 \nL 362.409943 214.756364 \n\" style=\"fill:none;stroke:#1f77b4;stroke-linecap:square;stroke-width:1.5;\"/>\n   </g>\n   <g id=\"patch_3\">\n    <path d=\"M 42.828125 224.64 \nL 42.828125 7.2 \n\" style=\"fill:none;stroke:#000000;stroke-linecap:square;stroke-linejoin:miter;stroke-width:0.8;\"/>\n   </g>\n   <g id=\"patch_4\">\n    <path d=\"M 377.628125 224.64 \nL 377.628125 7.2 \n\" style=\"fill:none;stroke:#000000;stroke-linecap:square;stroke-linejoin:miter;stroke-width:0.8;\"/>\n   </g>\n   <g id=\"patch_5\">\n    <path d=\"M 42.828125 224.64 \nL 377.628125 224.64 \n\" style=\"fill:none;stroke:#000000;stroke-linecap:square;stroke-linejoin:miter;stroke-width:0.8;\"/>\n   </g>\n   <g id=\"patch_6\">\n    <path d=\"M 42.828125 7.2 \nL 377.628125 7.2 \n\" style=\"fill:none;stroke:#000000;stroke-linecap:square;stroke-linejoin:miter;stroke-width:0.8;\"/>\n   </g>\n  </g>\n </g>\n <defs>\n  <clipPath id=\"p889d5b078c\">\n   <rect height=\"217.44\" width=\"334.8\" x=\"42.828125\" y=\"7.2\"/>\n  </clipPath>\n </defs>\n</svg>\n",
            "image/png": "[encoded data removed]"
          },
          "metadata": {
            "needs_background": "light"
          }
        }
      ],
      "source": [
        "sns.lineplot(range(2000), results.history['loss']);"
      ]
    },
    {
      "cell_type": "code",
      "execution_count": 35,
      "metadata": {
        "tags": []
      },
      "outputs": [
        {
          "output_type": "stream",
          "name": "stdout",
          "text": "[[0.5703135 ]\n [0.55508906]\n [0.5782927 ]\n [0.562315  ]\n [0.58726186]\n [0.5637653 ]\n [0.57900226]]\n"
        }
      ],
      "source": [
        "print(model.predict(X))"
      ]
    },
    {
      "cell_type": "markdown",
      "source": [
        "### Build a Tensor Keras Perceptron\n",
        "\n",
        "Try to match the architecture we used on Monday - inputs nodes and one output node. Apply this architecture to the XOR-ish dataset above. \n",
        "\n",
        "After fitting your model answer these questions: \n",
        "\n",
        "Are you able to achieve the same results as a bigger architecture from the first part of the assignment? Why is this disparity the case? What properties of the XOR dataset would cause this disparity? \n",
        "\n",
        "Now extrapolate this behavior on a much larger dataset in terms of features. What kind of architecture decisions could we make to avoid the problems the XOR dataset presents at scale? \n",
        "\n",
        "*Note:* The bias term is baked in by default in the Dense layer."
      ],
      "metadata": {}
    },
    {
      "cell_type": "code",
      "execution_count": null,
      "metadata": {},
      "outputs": [],
      "source": []
    },
    {
      "cell_type": "code",
      "source": [
        "### Compare "
      ],
      "outputs": [],
      "execution_count": null,
      "metadata": {}
    },
    {
      "cell_type": "markdown",
      "source": [
        "## Try building/training a more complex MLP on a bigger dataset.\n",
        "\n",
        "Use TensorFlow Keras & the [MNIST dataset](http://yann.lecun.com/exdb/mnist/) to build the canonical handwriting digit recognizer and see what kind of accuracy you can achieve. \n",
        "\n",
        "If you need inspiration, the Internet is chalk-full of tutorials, but I want you to see how far you can get on your own first. I've linked to the original MNIST dataset above but it will probably be easier to download data through a neural network library. If you reference outside resources make sure you understand every line of code that you're using from other sources, and share with your fellow students helpful resources that you find.\n",
        "\n",
        "\n",
        "### Parts\n",
        "1. Gathering & Transforming the Data\n",
        "2. Making MNIST a Binary Problem\n",
        "3. Estimating your Neural Network (the part you focus on)"
      ],
      "metadata": {
        "colab_type": "text",
        "id": "8b-r70o8p2Dm"
      }
    },
    {
      "cell_type": "markdown",
      "source": [
        "### Gathering the Data \n",
        "\n",
        "`keras` has a handy method to pull the mnist dataset for you. You'll notice that each observation is a 28x28 arrary which represents an image. Although most Neural Network frameworks can handle higher dimensional data, that is more overhead than necessary for us. We need to flatten the image to one long row which will be 784 values (28X28). Basically, you will be appending each row to one another to make on really long row. "
      ],
      "metadata": {}
    },
    {
      "cell_type": "code",
      "source": [
        "import numpy as np\n",
        "from tensorflow.keras.datasets import mnist\n",
        "from tensorflow.keras.utils import to_categorical"
      ],
      "outputs": [],
      "execution_count": 1,
      "metadata": {}
    },
    {
      "cell_type": "code",
      "source": [
        "# input image dimensions\n",
        "img_rows, img_cols = 28, 28"
      ],
      "outputs": [],
      "execution_count": 2,
      "metadata": {}
    },
    {
      "cell_type": "code",
      "source": [
        "# the data, split between train and test sets\n",
        "(x_train, y_train), (x_test, y_test) = mnist.load_data()"
      ],
      "outputs": [],
      "execution_count": 3,
      "metadata": {}
    },
    {
      "cell_type": "code",
      "source": [
        "x_train = x_train.reshape(x_train.shape[0], img_rows * img_cols)\n",
        "x_test = x_test.reshape(x_test.shape[0], img_rows * img_cols)\n",
        "\n",
        "# Normalize Our Data\n",
        "x_train = x_train / 255\n",
        "x_test = x_test / 255"
      ],
      "outputs": [],
      "execution_count": 32,
      "metadata": {}
    },
    {
      "cell_type": "code",
      "source": [
        "# Now the data should be in a format you're more familiar with\n",
        "x_train.shape"
      ],
      "outputs": [
        {
          "output_type": "execute_result",
          "execution_count": 4,
          "data": {
            "text/plain": [
              "(60000, 28, 28)"
            ]
          },
          "metadata": {}
        }
      ],
      "execution_count": 4,
      "metadata": {}
    },
    {
      "cell_type": "markdown",
      "source": [
        "### Making MNIST a Binary Problem \n",
        "MNIST is multiclass classification problem; however we haven't covered all the necessary techniques to handle this yet. You would need to one-hot encode the target, use a different loss metric, and use softmax activations for the last layer. This is all stuff we'll cover later this week, but let us simplify the problem for now: Zero or all else."
      ],
      "metadata": {}
    },
    {
      "cell_type": "code",
      "source": [
        "import numpy as np\n",
        "\n",
        "y_temp = np.zeros(y_train.shape)\n",
        "y_temp[np.where(y_train == 0.0)[0]] = 1\n",
        "y_train = y_temp\n",
        "\n",
        "y_temp = np.zeros(y_test.shape)\n",
        "y_temp[np.where(y_test == 0.0)[0]] = 1\n",
        "y_test = y_temp"
      ],
      "outputs": [],
      "execution_count": 5,
      "metadata": {}
    },
    {
      "cell_type": "code",
      "source": [
        "# A Nice Binary target for ya to work with\n",
        "y_train"
      ],
      "outputs": [
        {
          "output_type": "execute_result",
          "execution_count": 6,
          "data": {
            "text/plain": [
              "array([0., 1., 0., ..., 0., 0., 0.])"
            ]
          },
          "metadata": {}
        }
      ],
      "execution_count": 6,
      "metadata": {}
    },
    {
      "cell_type": "markdown",
      "source": [
        "### Estimating Your `net"
      ],
      "metadata": {}
    },
    {
      "cell_type": "code",
      "source": [
        "##### Your Code Here #####\n",
        "\n"
      ],
      "outputs": [],
      "execution_count": null,
      "metadata": {
        "colab": {},
        "colab_type": "code",
        "id": "5MOPtYdk1HgA"
      }
    },
    {
      "cell_type": "markdown",
      "source": [
        "## Stretch Goals: \n",
        "\n",
        "- Make MNIST a multiclass problem using cross entropy & soft-max\n",
        "- Implement Cross Validation model evaluation on your MNIST implementation \n",
        "- Research different [Gradient Descent Based Optimizers](https://keras.io/optimizers/)\n",
        " - [Siraj Raval the evolution of gradient descent](https://www.youtube.com/watch?v=nhqo0u1a6fw)\n",
        "- Build a housing price estimation model using a neural network. How does its accuracy compare with the regression models that we fit earlier on in class?"
      ],
      "metadata": {
        "colab_type": "text",
        "id": "FwlRJSfBlCvy"
      }
    }
  ],
  "metadata": {
    "colab": {
      "name": "LS_DS_432_Backprop_Assignment.ipynb",
      "provenance": [],
      "version": "0.3.2"
    },
    "kernelspec": {
      "display_name": "nn",
      "language": "python",
      "name": "nn"
    },
    "language_info": {
      "codemirror_mode": {
        "name": "ipython",
        "version": 3
      },
      "file_extension": ".py",
      "mimetype": "text/x-python",
      "name": "python",
      "nbconvert_exporter": "python",
      "pygments_lexer": "ipython3",
      "version": "3.8.3-final"
    },
    "nteract": {
      "version": "0.22.4"
    }
  },
  "nbformat": 4,
  "nbformat_minor": 4
}