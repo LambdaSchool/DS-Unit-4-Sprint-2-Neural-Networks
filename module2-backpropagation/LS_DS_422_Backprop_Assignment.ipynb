{
 "cells": [
  {
   "cell_type": "markdown",
   "metadata": {
    "colab_type": "text",
    "id": "NGGrt9EYlCqY"
   },
   "source": [
    "# Backpropagation Practice\n",
    "\n",
    "Implement a 3 input, 4 node hidden-layer, 1 output node Multilayer Perceptron on the following dataset:\n",
    "\n",
    "| x1 | x2 | x3 | y |\n",
    "|----|----|----|---|\n",
    "| 0  | 0  | 1  | 0 |\n",
    "| 0  | 1  | 1  | 1 |\n",
    "| 1  | 0  | 1  | 1 |\n",
    "| 0  | 1  | 0  | 1 |\n",
    "| 1  | 0  | 0  | 1 |\n",
    "| 1  | 1  | 1  | 0 |\n",
    "| 0  | 0  | 0  | 0 |\n",
    "\n",
    "If you look at the data you'll notice that the first two columns behave like an XOR gate while the last column is mostly just noise. Remember that creating an XOR gate was what the perceptron was criticized for not being able to learn. "
   ]
  },
  {
   "cell_type": "code",
   "execution_count": 20,
   "metadata": {
    "colab": {},
    "colab_type": "code",
    "id": "nEREYT-3wI1f"
   },
   "outputs": [],
   "source": [
    "import numpy as np\n",
    "\n",
    "X = np.array((\n",
    "    [0,0,1],\n",
    "    [0,1,1],\n",
    "    [1,0,1],\n",
    "    [0,1,0],\n",
    "    [1,0,0],\n",
    "    [1,1,1],\n",
    "    [0,0,0]\n",
    "             ), dtype=float)\n",
    "\n",
    "y = np.array((\n",
    "    [0],\n",
    "    [1],\n",
    "    [1],\n",
    "    [1],\n",
    "    [1],\n",
    "    [0],\n",
    "    [0]\n",
    "        ), dtype=float)\n"
   ]
  },
  {
   "cell_type": "code",
   "execution_count": 27,
   "metadata": {},
   "outputs": [
    {
     "data": {
      "text/plain": [
       "(7, 3)"
      ]
     },
     "execution_count": 27,
     "metadata": {},
     "output_type": "execute_result"
    }
   ],
   "source": [
    "X.shape"
   ]
  },
  {
   "cell_type": "code",
   "execution_count": 21,
   "metadata": {},
   "outputs": [],
   "source": [
    "class NeuralNetwork:\n",
    "    def __init__(self):\n",
    "        # 3 input, 4 hidden, 1 output layers\n",
    "        self.input = 3\n",
    "        self.hiddenNodes = 4\n",
    "        self.outputNodes = 1\n",
    "        \n",
    "        # initial weights\n",
    "        self.weights1 = np.random.randn(self.input, self.hiddenNodes)\n",
    "        \n",
    "        self.weights2 = np.random.randn(self.hiddenNodes, self.outputNodes)\n",
    "    \n",
    "    def sigmoid(self, s):\n",
    "        return 1 / (1 + np.exp(-s))\n",
    "    \n",
    "    def sigmoidPrime(self, s):\n",
    "        return s * (1 - s)\n",
    "    \n",
    "    def feed_forward(self, X):\n",
    "        # weighted sums of inputs and hidden\n",
    "        self.hidden_sum = np.dot(X, self.weights1)\n",
    "        \n",
    "        #activations of weighted sums\n",
    "        self.activated_hidden = self.sigmoid(self.hidden_sum)\n",
    "        \n",
    "        # weighted sum between hidden and output\n",
    "        self.output_sum = np.dot(self.activated_hidden, self.weights2)\n",
    "        \n",
    "        # final activation of output\n",
    "        self.activated_output = self.sigmoid(self.output_sum)\n",
    "        \n",
    "        return self.activated_output\n",
    "    \n",
    "    def backward(self, X, y, o):\n",
    "        \n",
    "        self.o_error = y - o # error in output\n",
    "        self.o_delta = self.o_error * self.sigmoidPrime(o) # apply derivative of sigmoid error\n",
    "        \n",
    "        self.z2_error = self.o_delta.dot(self.weights2.T) # z2 error: how much our hidden layer weights were off\n",
    "        self.z2_delta = self.z2_error * self.sigmoidPrime(self.activated_hidden)\n",
    "        \n",
    "        self.weights1 += X.T.dot(self.z2_delta) # adjust first set (input => hidden) weights\n",
    "        self.weights2 += self.activated_hidden.T.dot(self.o_delta) # adjust second set (hidden => output) weights\n",
    "        \n",
    "    def train(self, X, y):\n",
    "        o = self.feed_forward(X)\n",
    "        self.backward(X, y, o)        "
   ]
  },
  {
   "cell_type": "code",
   "execution_count": 22,
   "metadata": {},
   "outputs": [
    {
     "data": {
      "text/plain": [
       "(7, 1)"
      ]
     },
     "execution_count": 22,
     "metadata": {},
     "output_type": "execute_result"
    }
   ],
   "source": [
    "nn = NeuralNetwork()\n",
    "\n",
    "nn.train(X, y)\n",
    "nn.feed_forward(X).shape"
   ]
  },
  {
   "cell_type": "code",
   "execution_count": 3,
   "metadata": {},
   "outputs": [
    {
     "name": "stdout",
     "output_type": "stream",
     "text": [
      "+---------EPOCH 1000---------+\n",
      "Input: \n",
      " [[0. 0. 1.]\n",
      " [0. 1. 1.]\n",
      " [1. 0. 1.]\n",
      " [0. 1. 0.]\n",
      " [1. 0. 0.]\n",
      " [1. 1. 1.]\n",
      " [0. 0. 0.]]\n",
      "Actual Output: \n",
      " [[0.]\n",
      " [1.]\n",
      " [1.]\n",
      " [1.]\n",
      " [1.]\n",
      " [0.]\n",
      " [0.]]\n",
      "Weights1:  [[ 1.36920918  3.67880761  3.41247584 -5.99568638]\n",
      " [ 1.44623696  3.67956849  2.7875351  -6.03396476]\n",
      " [-5.92391277 -5.15983317  2.70126155  1.17453544]]\n",
      "Weights2: [[  7.9284813 ]\n",
      " [ -7.63694166]\n",
      " [  4.23034784]\n",
      " [-10.06571759]]\n",
      "Predicted Output: \n",
      " [[0.02302148]\n",
      " [0.94314627]\n",
      " [0.94311511]\n",
      " [0.94928113]\n",
      " [0.9499095 ]\n",
      " [0.09066361]\n",
      " [0.05886084]]\n",
      "Loss: \n",
      " 0.0033948824076551463\n"
     ]
    }
   ],
   "source": [
    "nn = NeuralNetwork()\n",
    "\n",
    "for epoch in range(1000):\n",
    "    nn.train(X, y)\n",
    "print('+' + '---' * 3 + f'EPOCH {epoch+1}' + '---'*3 + '+')\n",
    "print('Input: \\n', X)\n",
    "print('Actual Output: \\n', y)\n",
    "print('Weights1: ', nn.weights1)\n",
    "print('Weights2:', nn.weights2)\n",
    "print('Predicted Output: \\n', str(nn.feed_forward(X)))\n",
    "print('Loss: \\n', str(np.mean(np.square(y - nn.feed_forward(X)))))\n",
    "\n",
    "    "
   ]
  },
  {
   "cell_type": "markdown",
   "metadata": {
    "colab_type": "text",
    "id": "8b-r70o8p2Dm"
   },
   "source": [
    "## Try building/training a more complex MLP on a bigger dataset.\n",
    "\n",
    "Use the [MNIST dataset](http://yann.lecun.com/exdb/mnist/) to build the cannonical handwriting digit recognizer and see what kind of accuracy you can achieve. \n",
    "\n",
    "If you need inspiration, the internet is chalk-full of tutorials, but I want you to see how far you can get on your own first. I've linked to the original MNIST dataset above but it will probably be easier to download data through a neural network library. If you reference outside resources make sure you understand every line of code that you're using from other sources, and share with your fellow students helpful resources that you find.\n"
   ]
  },
  {
   "cell_type": "code",
   "execution_count": 36,
   "metadata": {
    "colab": {},
    "colab_type": "code",
    "id": "5MOPtYdk1HgA"
   },
   "outputs": [],
   "source": [
    "from keras.datasets import mnist"
   ]
  },
  {
   "cell_type": "code",
   "execution_count": 37,
   "metadata": {},
   "outputs": [],
   "source": [
    "(x_train, y_train), (x_test, y_test) = mnist.load_data()"
   ]
  },
  {
   "cell_type": "code",
   "execution_count": 74,
   "metadata": {},
   "outputs": [],
   "source": [
    "x_train = x_train.reshape(60000, 784)\n",
    "x_test = x_train.reshape(60000, 784)\n",
    "y_train = y_train.reshape(-1,1)"
   ]
  },
  {
   "cell_type": "code",
   "execution_count": 75,
   "metadata": {},
   "outputs": [
    {
     "data": {
      "text/plain": [
       "((60000, 784), (60000, 1), (60000, 784), (10000,))"
      ]
     },
     "execution_count": 75,
     "metadata": {},
     "output_type": "execute_result"
    }
   ],
   "source": [
    "test.shape, y_train.shape, x_test.shape, y_test.shape"
   ]
  },
  {
   "cell_type": "code",
   "execution_count": 76,
   "metadata": {},
   "outputs": [],
   "source": [
    "class NeuralNetwork:\n",
    "    def __init__(self):\n",
    "        # 28 input, 4 hidden, 9 output layers\n",
    "        self.input = 784\n",
    "        self.hiddenNodes = 29\n",
    "        self.outputNodes = 10\n",
    "        \n",
    "        # initial weights\n",
    "        self.weights1 = np.random.randn(self.input, self.hiddenNodes)\n",
    "        \n",
    "        self.weights2 = np.random.randn(self.hiddenNodes, self.outputNodes)\n",
    "    \n",
    "    def sigmoid(self, s):\n",
    "        return 1 / (1 + np.exp(-s))\n",
    "    \n",
    "    def sigmoidPrime(self, s):\n",
    "        return s * (1 - s)\n",
    "    \n",
    "    def feed_forward(self, X):\n",
    "        # weighted sums of inputs and hidden\n",
    "        self.hidden_sum = np.dot(X, self.weights1)\n",
    "        \n",
    "        #activations of weighted sums\n",
    "        self.activated_hidden = self.sigmoid(self.hidden_sum)\n",
    "        \n",
    "        # weighted sum between hidden and output\n",
    "        self.output_sum = np.dot(self.activated_hidden, self.weights2)\n",
    "        \n",
    "        # final activation of output\n",
    "        self.activated_output = self.sigmoid(self.output_sum)\n",
    "        \n",
    "        return self.activated_output\n",
    "    \n",
    "    def backward(self, X, y, o):\n",
    "        \n",
    "        self.o_error = y - o # error in output\n",
    "        self.o_delta = self.o_error * self.sigmoidPrime(o) # apply derivative of sigmoid error\n",
    "        \n",
    "        self.z2_error = self.o_delta.dot(self.weights2.T) # z2 error: how much our hidden layer weights were off\n",
    "        self.z2_delta = self.z2_error * self.sigmoidPrime(self.activated_hidden)\n",
    "        \n",
    "        self.weights1 += X.T.dot(self.z2_delta) # adjust first set (input => hidden) weights\n",
    "        self.weights2 += self.activated_hidden.T.dot(self.o_delta) # adjust second set (hidden => output) weights\n",
    "        \n",
    "    def train(self, X, y):\n",
    "        o = self.feed_forward(X)\n",
    "        self.backward(X, y, o)"
   ]
  },
  {
   "cell_type": "code",
   "execution_count": 77,
   "metadata": {},
   "outputs": [
    {
     "data": {
      "text/plain": [
       "(60000, 784)"
      ]
     },
     "execution_count": 77,
     "metadata": {},
     "output_type": "execute_result"
    }
   ],
   "source": [
    "x_train.shape"
   ]
  },
  {
   "cell_type": "code",
   "execution_count": 83,
   "metadata": {},
   "outputs": [
    {
     "data": {
      "text/plain": [
       "(60000, 10)"
      ]
     },
     "execution_count": 83,
     "metadata": {},
     "output_type": "execute_result"
    }
   ],
   "source": [
    "nn = NeuralNetwork()\n",
    "nn.feed_forward(x_train).shape"
   ]
  },
  {
   "cell_type": "code",
   "execution_count": 85,
   "metadata": {},
   "outputs": [
    {
     "name": "stdout",
     "output_type": "stream",
     "text": [
      "+---------EPOCH 1000---------+\n",
      "Input: \n",
      " [[0. 0. 1.]\n",
      " [0. 1. 1.]\n",
      " [1. 0. 1.]\n",
      " [0. 1. 0.]\n",
      " [1. 0. 0.]\n",
      " [1. 1. 1.]\n",
      " [0. 0. 0.]]\n",
      "Actual Output: \n",
      " [[0.]\n",
      " [1.]\n",
      " [1.]\n",
      " [1.]\n",
      " [1.]\n",
      " [0.]\n",
      " [0.]]\n",
      "Weights1:  [[-0.08101486  0.92281143  0.54840516 ... -1.99680555  0.67089227\n",
      "  -0.54099493]\n",
      " [ 1.71299292 -0.51024578  2.05140543 ... -0.99487538 -0.87578296\n",
      "  -0.54148332]\n",
      " [ 0.54690869  0.63304584 -0.30859894 ...  1.58846236 -2.44694893\n",
      "   1.2233685 ]\n",
      " ...\n",
      " [-0.75737281 -0.80547039 -1.24994506 ... -0.80843293  0.3201998\n",
      "   1.85294493]\n",
      " [-1.24576957  2.09947368 -1.82301659 ...  1.66091673  1.37813904\n",
      "  -0.15192817]\n",
      " [-0.42099593 -0.22573661 -0.79918381 ... -0.40461682 -0.66454027\n",
      "  -0.32730944]]\n",
      "Weights2: [[-1.56283465e-01 -1.71458241e+00  7.98086469e-01  1.93914943e+00\n",
      "   1.63318516e+00 -7.17501114e-01 -1.21104384e+00  1.37976034e+00\n",
      "   3.09163730e-01  4.75930939e-01]\n",
      " [ 5.25103338e-01 -1.66554673e+00 -7.36723888e-02 -7.35160920e-01\n",
      "   1.52036195e-02  6.03511503e-01 -2.66429387e-01 -8.73314715e-01\n",
      "   7.04303451e-01  1.57591925e+00]\n",
      " [-3.01403083e-01  1.10214737e+00 -6.81299325e-02  3.16588879e-01\n",
      "   3.53011176e-01  5.13771332e-01  5.76194822e-01 -5.14697041e-01\n",
      "  -2.66855895e-01  3.34257973e-01]\n",
      " [ 8.59851096e-01  1.16170824e+00  1.31327690e+00  1.98515069e+00\n",
      "  -5.33462049e-01 -4.02423132e-02 -1.00676369e+00 -2.08485905e+00\n",
      "  -1.31492908e+00  3.92497081e-02]\n",
      " [ 1.36983164e+00  1.24434084e+00  2.79322691e-01  1.67437889e-01\n",
      "   1.95936626e-01 -3.12433913e-01 -2.83960041e-01 -8.38211079e-01\n",
      "  -8.62671448e-01 -1.08153406e+00]\n",
      " [ 4.56197020e-01 -3.15269083e-01 -2.66656728e-01  1.98123916e-01\n",
      "   7.91577709e-01 -4.34926595e-01  7.69558584e-02 -1.18138555e+00\n",
      "  -8.48390434e-01  3.84025288e-01]\n",
      " [-1.25855966e+00  3.93266086e-01  3.74880403e-01 -1.01899267e+00\n",
      "   1.64737052e+00  1.35801346e+00 -1.39271212e+00  4.83596636e-01\n",
      "  -2.61817145e-01  1.64133892e-02]\n",
      " [-1.08727323e+00 -1.64690065e-03  3.13130059e-01 -9.36768332e-01\n",
      "   6.90837788e-01  9.54381925e-01 -9.12824876e-01 -1.98230402e+00\n",
      "  -7.17761516e-02 -5.13756571e-01]\n",
      " [-5.70685437e-01 -1.05041862e+00  1.13775145e+00  2.87659269e-01\n",
      "  -7.56650359e-01  6.79651321e-02  8.38918904e-01 -2.37765379e+00\n",
      "   2.37658958e-01  8.67564754e-01]\n",
      " [ 2.42497025e-01 -5.35644394e-01 -4.61470793e-01  2.79211716e-01\n",
      "   6.53449966e-01  3.90902867e-01  2.48330708e-01 -5.14509281e-01\n",
      "   1.02276662e+00 -5.18447864e-01]\n",
      " [ 1.64803498e-01 -4.42351844e-02 -5.86558522e-01 -1.16258960e+00\n",
      "  -2.09444815e+00 -7.33153980e-01  5.37769257e-01 -5.61058993e-01\n",
      "  -1.04779386e+00  6.10128708e-01]\n",
      " [-6.34278350e-01 -5.88435966e-01 -1.31351908e+00 -7.38301677e-01\n",
      "  -9.50397977e-01 -6.12008279e-01 -7.30796633e-01  3.42131329e-01\n",
      "  -1.34077580e+00 -3.57932985e-01]\n",
      " [-6.36406940e-01 -2.90171800e-01 -9.20162664e-01  2.33710169e-01\n",
      "  -1.62204592e-01  1.66825649e-01  8.51702113e-02 -6.98935810e-01\n",
      "  -3.44851873e-01 -6.61795313e-01]\n",
      " [-9.15692728e-01  2.11704982e-02  3.73653595e-01 -3.43822691e-01\n",
      "   1.60014272e+00  5.41087962e-01 -1.03085309e+00 -5.14973400e-01\n",
      "  -8.82804314e-01 -2.00124953e+00]\n",
      " [-1.21548679e+00 -2.21562493e+00  1.32082492e-01 -2.79221882e-01\n",
      "  -9.76784920e-01  8.94774573e-01 -2.29097058e-01 -9.08996068e-01\n",
      "   6.68976145e-01  5.45302030e-01]\n",
      " [ 1.05591055e+00  3.17888378e-01 -2.48317971e-01 -2.82218517e-01\n",
      "  -6.31307865e-02  1.40345708e+00 -6.50634891e-01 -6.63731026e-01\n",
      "  -2.02670406e+00  1.26625285e+00]\n",
      " [ 9.21279471e-01  1.97729767e-01  7.53523097e-02  7.60176378e-01\n",
      "  -4.50931807e-01 -9.52091260e-01 -4.49209949e-02 -1.07973431e+00\n",
      "   3.30766478e-01 -3.82419292e-01]\n",
      " [ 1.06012729e+00  1.52910031e-01 -6.11091455e-01 -1.42253046e+00\n",
      "  -1.15291066e+00  1.28970887e+00 -8.54603021e-01 -7.43088034e-03\n",
      "  -1.45886432e+00 -2.14094038e-01]\n",
      " [-5.01444305e-01 -3.00092243e+00  2.52023403e-01  4.31658685e-02\n",
      "   1.06535717e+00  5.24719609e-01 -4.61075058e-01 -2.38947079e+00\n",
      "   8.39969922e-01 -1.30727470e+00]\n",
      " [ 6.53713120e-01  7.62565637e-01  9.05293455e-01 -2.56702633e-01\n",
      "   4.24973280e-01  8.47635668e-01  1.62092777e+00 -8.05649022e-01\n",
      "  -4.13278938e-01 -1.15233727e+00]\n",
      " [-3.30752836e+00  4.50861691e-01  3.29597062e-01  7.86638560e-02\n",
      "   4.13717400e-01  7.08607478e-01  1.74601543e-01  1.89244952e-01\n",
      "   7.61244039e-02 -1.68831290e+00]\n",
      " [ 2.26813655e-01  2.06366391e+00  1.13791040e+00 -8.29750088e-01\n",
      "  -1.28445748e+00 -1.19815432e-01 -1.49885479e+00 -1.02581470e+00\n",
      "  -4.18288022e-01 -1.63020148e+00]\n",
      " [ 1.64347265e+00 -6.44499510e-01 -3.99318365e-01 -3.18190807e-01\n",
      "   1.19887523e+00 -3.14642543e-01 -1.83640979e+00 -1.19757558e+00\n",
      "  -3.59405202e-01  1.13381986e+00]\n",
      " [-1.38622226e+00 -6.68169479e-01  4.66205904e-02 -1.35077825e+00\n",
      "  -1.54206171e+00  1.86791800e+00 -1.71924145e-02 -1.80969582e+00\n",
      "  -3.35333527e-01  1.86901871e+00]\n",
      " [-2.80398393e-01 -2.13058136e+00 -1.23212410e+00  1.18581401e+00\n",
      "   1.40303611e-01  5.09808187e-01 -6.60670553e-01  1.05599040e+00\n",
      "  -1.25072081e+00  7.64920818e-01]\n",
      " [-3.00432854e-01  1.84599772e+00  7.45714755e-01 -3.16309032e-01\n",
      "   7.67607081e-02  9.75009424e-01  7.87839322e-01 -3.86395121e-01\n",
      "   1.17328827e+00  1.68173169e+00]\n",
      " [-6.44601395e-01  1.40752378e+00  1.34409084e+00 -3.16268499e-01\n",
      "  -9.32635863e-01  1.33930011e+00  1.80139005e+00  1.70530756e+00\n",
      "  -5.27177040e-01 -5.76180832e-01]\n",
      " [ 5.90054741e-01 -2.16857890e-01 -2.64908967e-01  6.91891412e-02\n",
      "   8.00065977e-01  7.15873113e-02  2.11948564e-01  4.24959240e-01\n",
      "   9.45745218e-01  1.48417688e+00]\n",
      " [-1.92765124e+00 -1.28543173e+00 -2.24169767e+00 -6.07414486e-01\n",
      "   1.19168485e+00  8.51095996e-02 -2.96224246e-01  1.79036772e+00\n",
      "  -1.86585910e-01 -1.22989987e+00]]\n",
      "Predicted Output: \n",
      " [[8.34353277e-01 3.03356642e-01 9.84554902e-01 ... 3.14636887e-06\n",
      "  1.90326644e-01 5.95115819e-02]\n",
      " [8.58288198e-02 1.48378803e-02 8.29008649e-01 ... 3.09540618e-03\n",
      "  1.97422187e-02 9.80409309e-01]\n",
      " [2.18934868e-01 1.34336940e-02 9.32302260e-01 ... 1.81229664e-03\n",
      "  1.78268955e-03 2.98131730e-02]\n",
      " ...\n",
      " [6.73984878e-01 3.17323171e-01 9.84339551e-01 ... 1.09556578e-05\n",
      "  7.98107293e-03 3.42475302e-01]\n",
      " [2.39329352e-01 3.75706756e-01 9.38617319e-01 ... 1.35310785e-03\n",
      "  9.58696014e-04 6.97662900e-01]\n",
      " [6.25608768e-01 5.38544232e-02 9.92235274e-01 ... 5.83298784e-04\n",
      "  5.17653393e-03 9.48932795e-01]]\n",
      "Loss: \n",
      " 24.605530441287215\n"
     ]
    }
   ],
   "source": [
    "# for epoch in range(1000):\n",
    "#     nn.train(x_train, y_train)\n",
    "print('+' + '---' * 3 + f'EPOCH {epoch+1}' + '---'*3 + '+')\n",
    "print('Input: \\n', X)\n",
    "print('Actual Output: \\n', y)\n",
    "print('Weights1: ', nn.weights1)\n",
    "print('Weights2:', nn.weights2)\n",
    "print('Predicted Output: \\n', str(nn.feed_forward(x_train)))\n",
    "print('Loss: \\n', str(np.mean(np.square(y_train - nn.feed_forward(x_train)))))"
   ]
  },
  {
   "cell_type": "code",
   "execution_count": 82,
   "metadata": {},
   "outputs": [
    {
     "data": {
      "text/plain": [
       "(60000, 784)"
      ]
     },
     "execution_count": 82,
     "metadata": {},
     "output_type": "execute_result"
    }
   ],
   "source": [
    "x_train.shape"
   ]
  },
  {
   "cell_type": "markdown",
   "metadata": {
    "colab_type": "text",
    "id": "FwlRJSfBlCvy"
   },
   "source": [
    "## Stretch Goals: \n",
    "\n",
    "- Implement Cross Validation model evaluation on your MNIST implementation \n",
    "- Research different [Gradient Descent Based Optimizers](https://keras.io/optimizers/)\n",
    " - [Siraj Raval the evolution of gradient descent](https://www.youtube.com/watch?v=nhqo0u1a6fw)\n",
    "- Build a housing price estimation model using a neural network. How does its accuracy compare with the regression models that we fit earlier on in class?"
   ]
  },
  {
   "cell_type": "markdown",
   "metadata": {},
   "source": [
    "## Using Tensorflow"
   ]
  },
  {
   "cell_type": "code",
   "execution_count": 50,
   "metadata": {},
   "outputs": [
    {
     "name": "stdout",
     "output_type": "stream",
     "text": [
      "Extracting MNIST_data/train-images-idx3-ubyte.gz\n",
      "Extracting MNIST_data/train-labels-idx1-ubyte.gz\n",
      "Extracting MNIST_data/t10k-images-idx3-ubyte.gz\n",
      "Extracting MNIST_data/t10k-labels-idx1-ubyte.gz\n",
      "Step 0, training batch accuracy 11 %\n",
      "Step 100, training batch accuracy 82 %\n",
      "Step 200, training batch accuracy 86 %\n",
      "Step 300, training batch accuracy 88 %\n",
      "Step 400, training batch accuracy 86 %\n",
      "Step 500, training batch accuracy 85 %\n",
      "Step 600, training batch accuracy 87 %\n",
      "Step 700, training batch accuracy 91 %\n",
      "Step 800, training batch accuracy 93 %\n",
      "Step 900, training batch accuracy 89 %\n",
      "Test accuracy: 89.86 %\n"
     ]
    }
   ],
   "source": [
    "import tensorflow as tf\n",
    "from tensorflow.examples.tutorials.mnist import input_data\n",
    "\n",
    "mnist = input_data.read_data_sets(\"MNIST_data/\", one_hot=True)\n",
    "\n",
    "image_size = 28\n",
    "labels_size = 10\n",
    "learning_rate = .05\n",
    "steps_number = 1000\n",
    "batch_size = 100\n",
    "\n",
    "training_data = tf.placeholder(tf.float32, [None, image_size*image_size])\n",
    "labels = tf.placeholder(tf.float32, [None, labels_size])\n",
    "\n",
    "W = tf.Variable(tf.truncated_normal([image_size*image_size, labels_size], stddev=0.1))\n",
    "b = tf.Variable(tf.constant(0.1, shape=[labels_size]))\n",
    "\n",
    "output = tf.matmul(training_data, W) + b\n",
    "\n",
    "loss = tf.reduce_mean(tf.nn.softmax_cross_entropy_with_logits(labels=labels, logits=output))\n",
    "\n",
    "train_step = tf.train.GradientDescentOptimizer(learning_rate).minimize(loss)\n",
    "\n",
    "correct_prediction = tf.equal(tf.argmax(output, 1), tf.argmax(labels, 1))\n",
    "\n",
    "accuracy = tf.reduce_mean(tf.cast(correct_prediction, tf.float32))\n",
    "\n",
    "sess = tf.InteractiveSession()\n",
    "sess.run(tf.global_variables_initializer())\n",
    "\n",
    "for i in range(steps_number):\n",
    "    input_batch, labels_batch = mnist.train.next_batch(batch_size)\n",
    "    \n",
    "    feed_dict = {training_data: input_batch, labels: labels_batch}\n",
    "    \n",
    "    train_step.run(feed_dict=feed_dict)\n",
    "    \n",
    "    if i%100 == 0:\n",
    "        train_accuracy = accuracy.eval(feed_dict=feed_dict)\n",
    "        print(\"Step %d, training batch accuracy %g %%\"%(i, train_accuracy*100))\n",
    "        \n",
    "test_accuracy = accuracy.eval(feed_dict={training_data: mnist.test.images, labels: mnist.test.labels})\n",
    "print(\"Test accuracy: %g %%\"%(test_accuracy*100))"
   ]
  },
  {
   "cell_type": "code",
   "execution_count": null,
   "metadata": {},
   "outputs": [],
   "source": []
  }
 ],
 "metadata": {
  "colab": {
   "name": "LS_DS_432_Backprop_Assignment.ipynb",
   "provenance": [],
   "version": "0.3.2"
  },
  "kernelspec": {
   "display_name": "Python 3",
   "language": "python",
   "name": "python3"
  },
  "language_info": {
   "codemirror_mode": {
    "name": "ipython",
    "version": 3
   },
   "file_extension": ".py",
   "mimetype": "text/x-python",
   "name": "python",
   "nbconvert_exporter": "python",
   "pygments_lexer": "ipython3",
   "version": "3.7.3"
  }
 },
 "nbformat": 4,
 "nbformat_minor": 2
}
