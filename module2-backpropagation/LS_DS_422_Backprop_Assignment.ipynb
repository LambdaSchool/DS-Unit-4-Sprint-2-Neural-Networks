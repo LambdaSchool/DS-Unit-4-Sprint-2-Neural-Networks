{
  "nbformat": 4,
  "nbformat_minor": 0,
  "metadata": {
    "colab": {
      "name": "LS_DS_422_Backprop_Assignment.ipynb",
      "version": "0.3.2",
      "provenance": [],
      "include_colab_link": true
    },
    "language_info": {
      "codemirror_mode": {
        "name": "ipython",
        "version": 3
      },
      "file_extension": ".py",
      "mimetype": "text/x-python",
      "name": "python",
      "nbconvert_exporter": "python",
      "pygments_lexer": "ipython3",
      "version": "3.7.3"
    },
    "kernelspec": {
      "display_name": "Python 3",
      "language": "python",
      "name": "python3"
    }
  },
  "cells": [
    {
      "cell_type": "markdown",
      "metadata": {
        "id": "view-in-github",
        "colab_type": "text"
      },
      "source": [
        "<a href=\"https://colab.research.google.com/github/nickwinters1/DS-Unit-4-Sprint-2-Neural-Networks/blob/master/LS_DS_422_Backprop_Assignment.ipynb\" target=\"_parent\"><img src=\"https://colab.research.google.com/assets/colab-badge.svg\" alt=\"Open In Colab\"/></a>"
      ]
    },
    {
      "cell_type": "markdown",
      "metadata": {
        "colab_type": "text",
        "id": "NGGrt9EYlCqY"
      },
      "source": [
        "# Backpropagation Practice\n",
        "\n",
        "Implement a 3 input, 4 node hidden-layer, 1 output node Multilayer Perceptron on the following dataset:\n",
        "\n",
        "| x1 | x2 | x3 | y |\n",
        "|----|----|----|---|\n",
        "| 0  | 0  | 1  | 0 |\n",
        "| 0  | 1  | 1  | 1 |\n",
        "| 1  | 0  | 1  | 1 |\n",
        "| 0  | 1  | 0  | 1 |\n",
        "| 1  | 0  | 0  | 1 |\n",
        "| 1  | 1  | 1  | 0 |\n",
        "| 0  | 0  | 0  | 0 |\n",
        "\n",
        "If you look at the data you'll notice that the first two columns behave like an XOR gate while the last column is mostly just noise. Remember that creating an XOR gate was what the perceptron was criticized for not being able to learn. "
      ]
    },
    {
      "cell_type": "code",
      "metadata": {
        "colab_type": "code",
        "id": "nEREYT-3wI1f",
        "colab": {}
      },
      "source": [
        "import numpy as np\n",
        "\n",
        "X = np.array((\n",
        "    [0,0,1],\n",
        "    [0,1,1],\n",
        "    [1,0,1],\n",
        "    [0,1,0],\n",
        "    [1,0,0],\n",
        "    [1,1,1],\n",
        "    [0,0,0]\n",
        "             ), dtype=float)\n",
        "\n",
        "y = np.array((\n",
        "    [0],\n",
        "    [1],\n",
        "    [1],\n",
        "    [1],\n",
        "    [1],\n",
        "    [0],\n",
        "    [0]\n",
        "        ), dtype=float)\n"
      ],
      "execution_count": 0,
      "outputs": []
    },
    {
      "cell_type": "code",
      "metadata": {
        "id": "G53elbZl3qE_",
        "colab_type": "code",
        "colab": {
          "base_uri": "https://localhost:8080/",
          "height": 34
        },
        "outputId": "14c47780-a66f-414e-c37b-40da755d363e"
      },
      "source": [
        "X.shape"
      ],
      "execution_count": 12,
      "outputs": [
        {
          "output_type": "execute_result",
          "data": {
            "text/plain": [
              "(7, 3)"
            ]
          },
          "metadata": {
            "tags": []
          },
          "execution_count": 12
        }
      ]
    },
    {
      "cell_type": "code",
      "metadata": {
        "id": "p9cAlSV83qFE",
        "colab_type": "code",
        "colab": {}
      },
      "source": [
        "class NeuralNetwork:\n",
        "    def __init__(self):\n",
        "        \n",
        "        self.input = 3\n",
        "        self.hiddenNodes = 4\n",
        "        self.outputNodes = 1\n",
        "        \n",
        "        \n",
        "        self.weights1 = np.random.randn(self.input, self.hiddenNodes)\n",
        "        \n",
        "        self.weights2 = np.random.randn(self.hiddenNodes, self.outputNodes)\n",
        "    \n",
        "    def sigmoid(self, s):\n",
        "        return 1 / (1 + np.exp(-s))\n",
        "    \n",
        "    def sigmoidPrime(self, s):\n",
        "        return s * (1 - s)\n",
        "    \n",
        "    def feed_forward(self, X):\n",
        "        \n",
        "        self.hidden_sum = np.dot(X, self.weights1)\n",
        "        \n",
        "        \n",
        "        self.activated_hidden = self.sigmoid(self.hidden_sum)\n",
        "        \n",
        "        \n",
        "        self.output_sum = np.dot(self.activated_hidden, self.weights2)\n",
        "        \n",
        "        \n",
        "        self.activated_output = self.sigmoid(self.output_sum)\n",
        "        \n",
        "        return self.activated_output\n",
        "    \n",
        "    def backward(self, X, y, o):\n",
        "        \n",
        "        self.o_error = y - o \n",
        "        self.o_delta = self.o_error * self.sigmoidPrime(o) \n",
        "        \n",
        "        self.z2_error = self.o_delta.dot(self.weights2.T) \n",
        "        self.z2_delta = self.z2_error * self.sigmoidPrime(self.activated_hidden)\n",
        "        \n",
        "        self.weights1 += X.T.dot(self.z2_delta) \n",
        "        self.weights2 += self.activated_hidden.T.dot(self.o_delta) \n",
        "        \n",
        "    def train(self, X, y):\n",
        "        o = self.feed_forward(X)\n",
        "        self.backward(X, y, o)        "
      ],
      "execution_count": 0,
      "outputs": []
    },
    {
      "cell_type": "code",
      "metadata": {
        "id": "MddKUmhH3qFG",
        "colab_type": "code",
        "colab": {
          "base_uri": "https://localhost:8080/",
          "height": 34
        },
        "outputId": "50c03e9f-cdc0-4f68-e4ad-872b9e74c9b4"
      },
      "source": [
        "nn = NeuralNetwork()\n",
        "\n",
        "nn.train(X, y)\n",
        "nn.feed_forward(X).shape"
      ],
      "execution_count": 14,
      "outputs": [
        {
          "output_type": "execute_result",
          "data": {
            "text/plain": [
              "(7, 1)"
            ]
          },
          "metadata": {
            "tags": []
          },
          "execution_count": 14
        }
      ]
    },
    {
      "cell_type": "code",
      "metadata": {
        "id": "8sM356-r3qFJ",
        "colab_type": "code",
        "colab": {
          "base_uri": "https://localhost:8080/",
          "height": 595
        },
        "outputId": "d9208a7f-73ba-48e2-bc83-81cd1976e090"
      },
      "source": [
        "nn = NeuralNetwork()\n",
        "\n",
        "for epoch in range(1000):\n",
        "    nn.train(X, y)\n",
        "print('+' + '---' * 3 + f'EPOCH {epoch+1}' + '---'*3 + '+')\n",
        "print('Input: \\n', X)\n",
        "print('Actual Output: \\n', y)\n",
        "print('Weights1: ', nn.weights1)\n",
        "print('Weights2:', nn.weights2)\n",
        "print('Predicted Output: \\n', str(nn.feed_forward(X)))\n",
        "print('Loss: \\n', str(np.mean(np.square(y - nn.feed_forward(X)))))\n",
        "\n",
        "    "
      ],
      "execution_count": 15,
      "outputs": [
        {
          "output_type": "stream",
          "text": [
            "+---------EPOCH 1000---------+\n",
            "Input: \n",
            " [[0. 0. 1.]\n",
            " [0. 1. 1.]\n",
            " [1. 0. 1.]\n",
            " [0. 1. 0.]\n",
            " [1. 0. 0.]\n",
            " [1. 1. 1.]\n",
            " [0. 0. 0.]]\n",
            "Actual Output: \n",
            " [[0.]\n",
            " [1.]\n",
            " [1.]\n",
            " [1.]\n",
            " [1.]\n",
            " [0.]\n",
            " [0.]]\n",
            "Weights1:  [[ 5.84819654 -2.83368386  5.13214093 -3.74075524]\n",
            " [-3.09278081  5.71752398  5.24904849 -3.86982328]\n",
            " [ 0.68085259  0.48772492 -0.15015152 -1.32525018]]\n",
            "Weights2: [[-6.54951966]\n",
            " [-6.6280888 ]\n",
            " [10.21916966]\n",
            " [-4.11528001]]\n",
            "Predicted Output: \n",
            " [[0.01002823]\n",
            " [0.95170554]\n",
            " [0.95277989]\n",
            " [0.96049488]\n",
            " [0.95949699]\n",
            " [0.07343378]\n",
            " [0.02828147]]\n",
            "Loss: \n",
            " 0.002008024113478174\n"
          ],
          "name": "stdout"
        }
      ]
    },
    {
      "cell_type": "markdown",
      "metadata": {
        "colab_type": "text",
        "id": "8b-r70o8p2Dm"
      },
      "source": [
        "## Try building/training a more complex MLP on a bigger dataset.\n",
        "\n",
        "Use the [MNIST dataset](http://yann.lecun.com/exdb/mnist/) to build the cannonical handwriting digit recognizer and see what kind of accuracy you can achieve. \n",
        "\n",
        "If you need inspiration, the internet is chalk-full of tutorials, but I want you to see how far you can get on your own first. I've linked to the original MNIST dataset above but it will probably be easier to download data through a neural network library. If you reference outside resources make sure you understand every line of code that you're using from other sources, and share with your fellow students helpful resources that you find.\n"
      ]
    },
    {
      "cell_type": "code",
      "metadata": {
        "colab_type": "code",
        "id": "5MOPtYdk1HgA",
        "colab": {}
      },
      "source": [
        "from keras.datasets import mnist"
      ],
      "execution_count": 0,
      "outputs": []
    },
    {
      "cell_type": "code",
      "metadata": {
        "id": "nQqwmbYs3qFP",
        "colab_type": "code",
        "colab": {
          "base_uri": "https://localhost:8080/",
          "height": 51
        },
        "outputId": "a505f7df-c30a-4773-bd06-1e3de88ba204"
      },
      "source": [
        "(x_train, y_train), (x_test, y_test) = mnist.load_data()"
      ],
      "execution_count": 17,
      "outputs": [
        {
          "output_type": "stream",
          "text": [
            "Downloading data from https://s3.amazonaws.com/img-datasets/mnist.npz\n",
            "11493376/11490434 [==============================] - 1s 0us/step\n"
          ],
          "name": "stdout"
        }
      ]
    },
    {
      "cell_type": "code",
      "metadata": {
        "id": "Dl74psfC3qFR",
        "colab_type": "code",
        "colab": {}
      },
      "source": [
        "class NeuralNetwork:\n",
        "    def __init__(self):\n",
        "        \n",
        "        self.input = 28\n",
        "        self.hiddenNodes = 29\n",
        "        self.outputNodes = 9\n",
        "        \n",
        "        \n",
        "        self.weights1 = np.random.randn(self.input, self.hiddenNodes)\n",
        "        \n",
        "        self.weights2 = np.random.randn(self.hiddenNodes, self.outputNodes)\n",
        "    \n",
        "    def sigmoid(self, s):\n",
        "        return 1 / (1 + np.exp(-s))\n",
        "    \n",
        "    def sigmoidPrime(self, s):\n",
        "        return s * (1 - s)\n",
        "    \n",
        "    def feed_forward(self, X):\n",
        "        \n",
        "        self.hidden_sum = np.dot(X, self.weights1)\n",
        "        \n",
        "        \n",
        "        self.activated_hidden = self.sigmoid(self.hidden_sum)\n",
        "        \n",
        "        \n",
        "        self.output_sum = np.dot(self.activated_hidden, self.weights2)\n",
        "        \n",
        "        \n",
        "        self.activated_output = self.sigmoid(self.output_sum)\n",
        "        \n",
        "        return self.activated_output\n",
        "    \n",
        "    def backward(self, X, y, o):\n",
        "        \n",
        "        self.o_error = y - o \n",
        "        self.o_delta = self.o_error * self.sigmoidPrime(o) \n",
        "        \n",
        "        self.z2_error = self.o_delta.dot(self.weights2.T) \n",
        "        self.z2_delta = self.z2_error * self.sigmoidPrime(self.activated_hidden)\n",
        "        \n",
        "        self.weights1 += X.T.dot(self.z2_delta) \n",
        "        self.weights2 += self.activated_hidden.T.dot(self.o_delta) \n",
        "        \n",
        "    def train(self, X, y):\n",
        "        o = self.feed_forward(X)\n",
        "        self.backward(X, y, o)"
      ],
      "execution_count": 0,
      "outputs": []
    },
    {
      "cell_type": "code",
      "metadata": {
        "id": "MB39G7Q03qFU",
        "colab_type": "code",
        "colab": {
          "base_uri": "https://localhost:8080/",
          "height": 34
        },
        "outputId": "935e6dc8-925c-4ef0-fc37-cfa2899af46f"
      },
      "source": [
        "x_train.shape"
      ],
      "execution_count": 19,
      "outputs": [
        {
          "output_type": "execute_result",
          "data": {
            "text/plain": [
              "(60000, 28, 28)"
            ]
          },
          "metadata": {
            "tags": []
          },
          "execution_count": 19
        }
      ]
    },
    {
      "cell_type": "code",
      "metadata": {
        "id": "5KCyEvNz3qFX",
        "colab_type": "code",
        "colab": {
          "base_uri": "https://localhost:8080/",
          "height": 68
        },
        "outputId": "b9c85bfa-01bf-4f39-f5b7-8dcdb312320e"
      },
      "source": [
        "nn = NeuralNetwork()\n",
        "nn.feed_forward(x_train).shape"
      ],
      "execution_count": 20,
      "outputs": [
        {
          "output_type": "stream",
          "text": [
            "/usr/local/lib/python3.6/dist-packages/ipykernel_launcher.py:14: RuntimeWarning: overflow encountered in exp\n",
            "  \n"
          ],
          "name": "stderr"
        },
        {
          "output_type": "execute_result",
          "data": {
            "text/plain": [
              "(60000, 28, 9)"
            ]
          },
          "metadata": {
            "tags": []
          },
          "execution_count": 20
        }
      ]
    },
    {
      "cell_type": "code",
      "metadata": {
        "id": "yXq09KO83qFb",
        "colab_type": "code",
        "colab": {}
      },
      "source": [
        "for epoch in range(1000):\n",
        "    nn.train(x_train, y_train)\n",
        "print('+' + '---' * 3 + f'EPOCH {epoch+1}' + '---'*3 + '+')\n",
        "print('Input: \\n', X)\n",
        "print('Actual Output: \\n', y)\n",
        "print('Weights1: ', nn.weights1)\n",
        "print('Weights2:', nn.weights2)\n",
        "print('Predicted Output: \\n', str(nn.feed_forward(X)))\n",
        "print('Loss: \\n', str(np.mean(np.square(y - nn.feed_forward(X)))))"
      ],
      "execution_count": 0,
      "outputs": []
    },
    {
      "cell_type": "markdown",
      "metadata": {
        "colab_type": "text",
        "id": "FwlRJSfBlCvy"
      },
      "source": [
        "## Stretch Goals: \n",
        "\n",
        "- Implement Cross Validation model evaluation on your MNIST implementation \n",
        "- Research different [Gradient Descent Based Optimizers](https://keras.io/optimizers/)\n",
        " - [Siraj Raval the evolution of gradient descent](https://www.youtube.com/watch?v=nhqo0u1a6fw)\n",
        "- Build a housing price estimation model using a neural network. How does its accuracy compare with the regression models that we fit earlier on in class?"
      ]
    },
    {
      "cell_type": "code",
      "metadata": {
        "id": "g-xhYhkm3qFf",
        "colab_type": "code",
        "colab": {
          "base_uri": "https://localhost:8080/",
          "height": 870
        },
        "outputId": "6f637c6b-e69d-4e69-9e56-0912a39ec8dc"
      },
      "source": [
        "import tensorflow as tf\n",
        "from tensorflow.examples.tutorials.mnist import input_data\n",
        "\n",
        "mnist = input_data.read_data_sets(\"MNIST_data/\", one_hot=True)\n",
        "\n",
        "image_size = 28\n",
        "labels_size = 10\n",
        "learning_rate = .05\n",
        "steps_number = 1000\n",
        "batch_size = 100\n",
        "\n",
        "training_data = tf.placeholder(tf.float32, [None, image_size*image_size])\n",
        "labels = tf.placeholder(tf.float32, [None, labels_size])\n",
        "\n",
        "W = tf.Variable(tf.truncated_normal([image_size*image_size, labels_size], stddev=0.1))\n",
        "b = tf.Variable(tf.constant(0.1, shape=[labels_size]))\n",
        "\n",
        "output = tf.matmul(training_data, W) + b\n",
        "\n",
        "loss = tf.reduce_mean(tf.nn.softmax_cross_entropy_with_logits(labels=labels, logits=output))\n",
        "\n",
        "train_step = tf.train.GradientDescentOptimizer(learning_rate).minimize(loss)\n",
        "\n",
        "correct_prediction = tf.equal(tf.argmax(output, 1), tf.argmax(labels, 1))\n",
        "\n",
        "accuracy = tf.reduce_mean(tf.cast(correct_prediction, tf.float32))\n",
        "\n",
        "sess = tf.InteractiveSession()\n",
        "sess.run(tf.global_variables_initializer())\n",
        "\n",
        "for i in range(steps_number):\n",
        "    input_batch, labels_batch = mnist.train.next_batch(batch_size)\n",
        "    \n",
        "    feed_dict = {training_data: input_batch, labels: labels_batch}\n",
        "    \n",
        "    train_step.run(feed_dict=feed_dict)\n",
        "    \n",
        "    if i%100 == 0:\n",
        "        train_accuracy = accuracy.eval(feed_dict=feed_dict)\n",
        "        print(\"Step %d, training batch accuracy %g %%\"%(i, train_accuracy*100))\n",
        "        \n",
        "test_accuracy = accuracy.eval(feed_dict={training_data: mnist.test.images, labels: mnist.test.labels})\n",
        "print(\"Test accuracy: %g %%\"%(test_accuracy*100))"
      ],
      "execution_count": 26,
      "outputs": [
        {
          "output_type": "stream",
          "text": [
            "WARNING: Logging before flag parsing goes to stderr.\n",
            "W0716 23:04:04.727574 140194899007360 deprecation.py:323] From <ipython-input-26-25b6734dbc7d>:4: read_data_sets (from tensorflow.contrib.learn.python.learn.datasets.mnist) is deprecated and will be removed in a future version.\n",
            "Instructions for updating:\n",
            "Please use alternatives such as official/mnist/dataset.py from tensorflow/models.\n",
            "W0716 23:04:04.729189 140194899007360 deprecation.py:323] From /usr/local/lib/python3.6/dist-packages/tensorflow/contrib/learn/python/learn/datasets/mnist.py:260: maybe_download (from tensorflow.contrib.learn.python.learn.datasets.base) is deprecated and will be removed in a future version.\n",
            "Instructions for updating:\n",
            "Please write your own downloading logic.\n",
            "W0716 23:04:04.738780 140194899007360 deprecation.py:323] From /usr/local/lib/python3.6/dist-packages/tensorflow/contrib/learn/python/learn/datasets/base.py:252: _internal_retry.<locals>.wrap.<locals>.wrapped_fn (from tensorflow.contrib.learn.python.learn.datasets.base) is deprecated and will be removed in a future version.\n",
            "Instructions for updating:\n",
            "Please use urllib or similar directly.\n",
            "W0716 23:04:05.037220 140194899007360 deprecation.py:323] From /usr/local/lib/python3.6/dist-packages/tensorflow/contrib/learn/python/learn/datasets/mnist.py:262: extract_images (from tensorflow.contrib.learn.python.learn.datasets.mnist) is deprecated and will be removed in a future version.\n",
            "Instructions for updating:\n",
            "Please use tf.data to implement this functionality.\n"
          ],
          "name": "stderr"
        },
        {
          "output_type": "stream",
          "text": [
            "Successfully downloaded train-images-idx3-ubyte.gz 9912422 bytes.\n",
            "Extracting MNIST_data/train-images-idx3-ubyte.gz\n"
          ],
          "name": "stdout"
        },
        {
          "output_type": "stream",
          "text": [
            "W0716 23:04:05.425171 140194899007360 deprecation.py:323] From /usr/local/lib/python3.6/dist-packages/tensorflow/contrib/learn/python/learn/datasets/mnist.py:267: extract_labels (from tensorflow.contrib.learn.python.learn.datasets.mnist) is deprecated and will be removed in a future version.\n",
            "Instructions for updating:\n",
            "Please use tf.data to implement this functionality.\n",
            "W0716 23:04:05.427873 140194899007360 deprecation.py:323] From /usr/local/lib/python3.6/dist-packages/tensorflow/contrib/learn/python/learn/datasets/mnist.py:110: dense_to_one_hot (from tensorflow.contrib.learn.python.learn.datasets.mnist) is deprecated and will be removed in a future version.\n",
            "Instructions for updating:\n",
            "Please use tf.one_hot on tensors.\n"
          ],
          "name": "stderr"
        },
        {
          "output_type": "stream",
          "text": [
            "Successfully downloaded train-labels-idx1-ubyte.gz 28881 bytes.\n",
            "Extracting MNIST_data/train-labels-idx1-ubyte.gz\n",
            "Successfully downloaded t10k-images-idx3-ubyte.gz 1648877 bytes.\n",
            "Extracting MNIST_data/t10k-images-idx3-ubyte.gz\n"
          ],
          "name": "stdout"
        },
        {
          "output_type": "stream",
          "text": [
            "W0716 23:04:05.702711 140194899007360 deprecation.py:323] From /usr/local/lib/python3.6/dist-packages/tensorflow/contrib/learn/python/learn/datasets/mnist.py:290: DataSet.__init__ (from tensorflow.contrib.learn.python.learn.datasets.mnist) is deprecated and will be removed in a future version.\n",
            "Instructions for updating:\n",
            "Please use alternatives such as official/mnist/dataset.py from tensorflow/models.\n",
            "W0716 23:04:05.890154 140194899007360 deprecation.py:323] From <ipython-input-26-25b6734dbc7d>:20: softmax_cross_entropy_with_logits (from tensorflow.python.ops.nn_ops) is deprecated and will be removed in a future version.\n",
            "Instructions for updating:\n",
            "\n",
            "Future major versions of TensorFlow will allow gradients to flow\n",
            "into the labels input on backprop by default.\n",
            "\n",
            "See `tf.nn.softmax_cross_entropy_with_logits_v2`.\n",
            "\n"
          ],
          "name": "stderr"
        },
        {
          "output_type": "stream",
          "text": [
            "Successfully downloaded t10k-labels-idx1-ubyte.gz 4542 bytes.\n",
            "Extracting MNIST_data/t10k-labels-idx1-ubyte.gz\n",
            "Step 0, training batch accuracy 14 %\n",
            "Step 100, training batch accuracy 88 %\n",
            "Step 200, training batch accuracy 82 %\n",
            "Step 300, training batch accuracy 89 %\n",
            "Step 400, training batch accuracy 84 %\n",
            "Step 500, training batch accuracy 86 %\n",
            "Step 600, training batch accuracy 90 %\n",
            "Step 700, training batch accuracy 88 %\n",
            "Step 800, training batch accuracy 89 %\n",
            "Step 900, training batch accuracy 91 %\n",
            "Test accuracy: 89.86 %\n"
          ],
          "name": "stdout"
        }
      ]
    }
  ]
}
