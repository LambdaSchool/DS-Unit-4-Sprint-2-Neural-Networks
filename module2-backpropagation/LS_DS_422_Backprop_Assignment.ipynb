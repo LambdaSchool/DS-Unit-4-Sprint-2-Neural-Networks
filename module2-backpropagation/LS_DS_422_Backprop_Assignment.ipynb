{
 "cells": [
  {
   "cell_type": "markdown",
   "metadata": {
    "colab_type": "text",
    "id": "NGGrt9EYlCqY"
   },
   "source": [
    "<img align=\"left\" src=\"https://lever-client-logos.s3.amazonaws.com/864372b1-534c-480e-acd5-9711f850815c-1524247202159.png\" width=200>\n",
    "<br></br>\n",
    "\n",
    "# Backpropagation Practice\n",
    "\n",
    "## *Data Science Unit 4 Sprint 2 Assignment 2*\n",
    "\n",
    "Implement a 3 input, 4 node hidden-layer, 1 output node Multilayer Perceptron on the following dataset:\n",
    "\n",
    "| x1 | x2 | x3 | y |\n",
    "|----|----|----|---|\n",
    "| 0  | 0  | 1  | 0 |\n",
    "| 0  | 1  | 1  | 1 |\n",
    "| 1  | 0  | 1  | 1 |\n",
    "| 0  | 1  | 0  | 1 |\n",
    "| 1  | 0  | 0  | 1 |\n",
    "| 1  | 1  | 1  | 0 |\n",
    "| 0  | 0  | 0  | 0 |\n",
    "\n",
    "If you look at the data you'll notice that the first two columns behave like an XOR gate while the last column is mostly just noise. Remember that creating an XOR gate was what the perceptron was criticized for not being able to learn. "
   ]
  },
  {
   "cell_type": "code",
   "execution_count": 1,
   "metadata": {},
   "outputs": [],
   "source": [
    "import warnings\n",
    "warnings.simplefilter(action='ignore', category=FutureWarning)\n",
    "\n",
    "import numpy as np\n",
    "from tensorflow.keras.datasets import mnist\n",
    "from tensorflow.keras.utils import to_categorical\n",
    "import matplotlib.pyplot as plt\n",
    "\n",
    "%matplotlib inline\n",
    "np.random.seed(45)"
   ]
  },
  {
   "cell_type": "code",
   "execution_count": 2,
   "metadata": {},
   "outputs": [
    {
     "name": "stdout",
     "output_type": "stream",
     "text": [
      "(7, 3) (7, 1)\n"
     ]
    }
   ],
   "source": [
    "x1 = np.array([0, 0, 1, 0, 1, 1, 0])\n",
    "x2 = np.array([0, 1, 0, 1, 0, 1, 0])\n",
    "x3 = np.array([1, 1, 1, 0, 0, 1, 0])\n",
    "y = np.array([[0], [1], [1], [1], [1], [0], [0]])\n",
    "X = np.vstack([x1, x2, x3]).T\n",
    "print(X.shape, y.shape)"
   ]
  },
  {
   "cell_type": "code",
   "execution_count": 3,
   "metadata": {
    "colab": {},
    "colab_type": "code",
    "id": "nEREYT-3wI1f"
   },
   "outputs": [],
   "source": [
    "##### Your Code Here #####\n",
    "class TwoLayerNetSimple(object):\n",
    "    \"\"\"\n",
    "    Simple two fully connected layers net with simple loss function loss = y - y_pred\n",
    "    \"\"\"\n",
    "    def __init__(self, input_dim = 3, hidden_dim = 100, output_dim = 1, iterations=10000):\n",
    "        self.iterations = iterations\n",
    "\n",
    "        # initiailize weights\n",
    "        self.W1 = np.random.rand(input_dim, hidden_dim) / np.sqrt(input_dim)\n",
    "        self.b1 = np.zeros(hidden_dim)\n",
    "        self.W2 = np.random.rand(hidden_dim, output_dim) / np.sqrt(hidden_dim)\n",
    "        self.b2 = np.zeros(output_dim)\n",
    "        self.loss = []\n",
    "        pass\n",
    "        \n",
    "    def sigmoid(self, x):\n",
    "        return 1 / (1 + np.exp(-x))\n",
    "\n",
    "    def dsigmoid(self, x):\n",
    "        s = self.sigmoid(x)\n",
    "        return s * (1 - s)\n",
    "    \n",
    "    def affine_forward(self, x, w, b):\n",
    "        scores = x.dot(w) + b\n",
    "        cache = (x, w, b)\n",
    "        return scores, cache\n",
    "    \n",
    "    def affine_backward(self, dout, cache):\n",
    "        x, w, b = cache\n",
    "        dx = dout.dot(w.T)#.reshape(x.shape)\n",
    "        dw = x.T.dot(dout)\n",
    "        db = np.sum(dout, axis=0)\n",
    "        return dx, dw, db\n",
    "        \n",
    "    def fit(self, x, y):\n",
    "        for i in range(self.iterations):            \n",
    "            # forward prop\n",
    "            a1, cache_l1 = self.affine_forward(x, self.W1, self.b1)\n",
    "            out_l1 = self.sigmoid(a1)\n",
    "            a2, cache_l2 = self.affine_forward(out_l1, self.W2, self.b2)\n",
    "\n",
    "            # scoring\n",
    "            out_l2 = self.sigmoid(a2)\n",
    "            loss = y - out_l2\n",
    "            self.loss.append(np.sqrt(np.sum(loss**2)))\n",
    "\n",
    "            # back prop\n",
    "            da2 = loss * self.dsigmoid(out_l2)\n",
    "            dout_l2, dW2, db2 = self.affine_backward(da2, cache_l2)\n",
    "            da1 = dout_l2 * self.dsigmoid(out_l1)\n",
    "            _, dW1, db1 = self.affine_backward(da1, cache_l1)\n",
    "\n",
    "            # gradient update\n",
    "            self.W1 += dW1\n",
    "            self.b1 += db1\n",
    "            self.W2 += dW2\n",
    "            self.b2 += db2\n",
    "        pass\n",
    "        \n",
    "    def predict(self, x):\n",
    "        x = np.array(x)\n",
    "        a1, _ = self.affine_forward(x.reshape(1, -1), self.W1, self.b1)\n",
    "        out1 = self.sigmoid(a1)\n",
    "        scores = self.affine_forward(out1, self.W2, self.b2)\n",
    "        out = self.sigmoid(scores[0])\n",
    "        return out"
   ]
  },
  {
   "cell_type": "code",
   "execution_count": 4,
   "metadata": {
    "scrolled": true
   },
   "outputs": [],
   "source": [
    "nn = TwoLayerNetSimple(input_dim=3, hidden_dim=100, output_dim=1, iterations=10000)\n",
    "nn.fit(X, y)"
   ]
  },
  {
   "cell_type": "code",
   "execution_count": 5,
   "metadata": {
    "scrolled": true
   },
   "outputs": [
    {
     "data": {
      "image/png": "[encoded data removed]",
      "text/plain": [
       "<Figure size 432x288 with 1 Axes>"
      ]
     },
     "metadata": {
      "needs_background": "light"
     },
     "output_type": "display_data"
    }
   ],
   "source": [
    "plt.plot(np.array(nn.loss));"
   ]
  },
  {
   "cell_type": "code",
   "execution_count": 6,
   "metadata": {},
   "outputs": [
    {
     "name": "stdout",
     "output_type": "stream",
     "text": [
      "[0 0 1], [[6.66037658e-09]], [0]\n",
      "[0 1 1], [[0.99753136]], [1]\n",
      "[1 0 1], [[0.98363523]], [1]\n",
      "[0 1 0], [[0.9834246]], [1]\n",
      "[1 0 0], [[0.99762126]], [1]\n",
      "[1 1 1], [[0.01492947]], [0]\n",
      "[0 0 0], [[0.0147206]], [0]\n"
     ]
    }
   ],
   "source": [
    "test1, test2, test3, test4, test5, test6, test7 = X[0], X[1], X[2], X[3], X[4], X[5], X[6]\n",
    "print(f\"{test1}, {nn.predict(test1)}, {y[0]}\")\n",
    "print(f\"{test2}, {nn.predict(test2)}, {y[1]}\")\n",
    "print(f\"{test3}, {nn.predict(test3)}, {y[2]}\")\n",
    "print(f\"{test4}, {nn.predict(test4)}, {y[3]}\")\n",
    "print(f\"{test5}, {nn.predict(test5)}, {y[4]}\")\n",
    "print(f\"{test6}, {nn.predict(test6)}, {y[5]}\")\n",
    "print(f\"{test7}, {nn.predict(test7)}, {y[6]}\")"
   ]
  },
  {
   "cell_type": "markdown",
   "metadata": {},
   "source": [
    "# Implementation without biases"
   ]
  },
  {
   "cell_type": "code",
   "execution_count": 7,
   "metadata": {},
   "outputs": [],
   "source": [
    "class NeuralNetwork:\n",
    "    def __init__(self):\n",
    "        # Set up Architecture of Neural Network\n",
    "        self.inputs = 3\n",
    "        self.hiddenNodes = 3\n",
    "        self.outputNodes = 1\n",
    "\n",
    "        # Initial Weights\n",
    "        # 2x3 Matrix Array for the First Layer\n",
    "        self.weights1 = np.random.rand(self.inputs, self.hiddenNodes)\n",
    "        # 3x1 Matrix Array for Hidden to Output\n",
    "        self.weights2 = np.random.rand(self.hiddenNodes, self.outputNodes)\n",
    "        \n",
    "    def sigmoid(self, s):\n",
    "        return 1 / (1 + np.exp(-s))\n",
    "    \n",
    "    def sigmoidPrime(self, s):\n",
    "        return s * (1 - s)\n",
    "    \n",
    "    def feed_forward(self, X):\n",
    "        \"\"\"\n",
    "        Calculate the NN infernece using feed forward.\n",
    "        aka \"predict\"\n",
    "        \"\"\"\n",
    "        # weighted sum of inputs => hidden layer\n",
    "        self.hidden_sum = X.dot(self.weights1)\n",
    "        # activations of weighted sum\n",
    "        self.activated_hidden = self.sigmoid(self.hidden_sum)\n",
    "        #weighted sum between hidden and output\n",
    "        self.output_sum = self.activated_hidden.dot(self.weights2)\n",
    "        # final activation of output\n",
    "        self.activated_output = self.sigmoid(self.output_sum)\n",
    "        \n",
    "        return self.activated_output\n",
    "    \n",
    "    def backward(self, loss, y, y_pred):\n",
    "        # error in output\n",
    "        self.o_error = y - y_pred\n",
    "        \n",
    "        # apply derivative of sigmoid to error\n",
    "        # how far off are we in relation to the sigmoid f(x) of the output\n",
    "        self.o_delta = self.o_error * self.sigmoidPrime(y_pred)\n",
    "        \n",
    "        # z2 error\n",
    "        self.z2_error = self.o_delta.dot(self.weights2.T)\n",
    "        # how much of that 'far off' can be explained by the hidden -> output weights\n",
    "        self.z2_delta = self.z2_error * self.sigmoidPrime(self.activated_hidden)\n",
    "#         # z1 error\n",
    "#         self.z1_error = self.z2_delta.dot(self.X.T)\n",
    "        \n",
    "        self.weights1 += X.T.dot(self.z2_delta)\n",
    "        self.weights2 += self.activated_hidden.T.dot(self.o_delta)\n",
    "        \n",
    "    def train(self, X, y):\n",
    "        o = self.feed_forward(X)\n",
    "        self.backward(X, y, o)"
   ]
  },
  {
   "cell_type": "code",
   "execution_count": 8,
   "metadata": {
    "scrolled": true
   },
   "outputs": [
    {
     "name": "stdout",
     "output_type": "stream",
     "text": [
      "+---------EPOCH 1---------+\n",
      "Loss: \n",
      " 0.24667342000908388\n",
      "+---------EPOCH 2---------+\n",
      "Loss: \n",
      " 0.24330853172275063\n",
      "+---------EPOCH 3---------+\n",
      "Loss: \n",
      " 0.242119623157949\n",
      "+---------EPOCH 4---------+\n",
      "Loss: \n",
      " 0.2416639657831719\n",
      "+---------EPOCH 5---------+\n",
      "Loss: \n",
      " 0.24141754708998345\n",
      "+---------EPOCH 100---------+\n",
      "Loss: \n",
      " 0.1596334835585045\n",
      "+---------EPOCH 200---------+\n",
      "Loss: \n",
      " 0.10241588729490761\n",
      "+---------EPOCH 300---------+\n",
      "Loss: \n",
      " 0.06299721923481134\n",
      "+---------EPOCH 400---------+\n",
      "Loss: \n",
      " 0.03783509731206431\n",
      "+---------EPOCH 500---------+\n",
      "Loss: \n",
      " 0.010566471280767408\n",
      "+---------EPOCH 600---------+\n",
      "Loss: \n",
      " 0.006238041512691672\n",
      "+---------EPOCH 700---------+\n",
      "Loss: \n",
      " 0.004607993694518714\n",
      "+---------EPOCH 800---------+\n",
      "Loss: \n",
      " 0.0037149162045489064\n",
      "+---------EPOCH 900---------+\n",
      "Loss: \n",
      " 0.0031375532872161558\n",
      "+---------EPOCH 1000---------+\n",
      "Loss: \n",
      " 0.002728135277071776\n"
     ]
    }
   ],
   "source": [
    "nn = NeuralNetwork()\n",
    "\n",
    "# Number of Epochs/Iterations\n",
    "for i in range(1000):\n",
    "   if (i+1 in [1,2,3,4,5]) or ((i+1) % 100 ==0):\n",
    "       print('+' + '---' * 3 + f'EPOCH {i+1}' + '---'*3 + '+')\n",
    "       # print('Input: \\n', X)\n",
    "       # print('Actual Output: \\n', y)\n",
    "       # print('Predicted Output: \\n', str(nn.feed_forward(X)))\n",
    "       print(\"Loss: \\n\", str(np.mean(np.square(y - nn.feed_forward(X)))))\n",
    "   nn.train(X, y)"
   ]
  },
  {
   "cell_type": "markdown",
   "metadata": {
    "colab_type": "text",
    "id": "8b-r70o8p2Dm"
   },
   "source": [
    "## Try building/training a more complex MLP on a bigger dataset.\n",
    "\n",
    "Use the [MNIST dataset](http://yann.lecun.com/exdb/mnist/) to build the cannonical handwriting digit recognizer and see what kind of accuracy you can achieve. \n",
    "\n",
    "If you need inspiration, the internet is chalk-full of tutorials, but I want you to see how far you can get on your own first. I've linked to the original MNIST dataset above but it will probably be easier to download data through a neural network library. If you reference outside resources make sure you understand every line of code that you're using from other sources, and share with your fellow students helpful resources that you find.\n"
   ]
  },
  {
   "cell_type": "code",
   "execution_count": 9,
   "metadata": {
    "colab": {},
    "colab_type": "code",
    "id": "5MOPtYdk1HgA"
   },
   "outputs": [
    {
     "data": {
      "text/plain": [
       "(60000, 784)"
      ]
     },
     "execution_count": 9,
     "metadata": {},
     "output_type": "execute_result"
    }
   ],
   "source": [
    "##### Your Code Here #####\n",
    "\n",
    "# input image dimensions\n",
    "img_rows, img_cols = 28, 28\n",
    "\n",
    "# the data, split between train and test sets\n",
    "(x_train, y_train), (x_test, y_test) = mnist.load_data()\n",
    "\n",
    "x_train = x_train.reshape(x_train.shape[0], img_rows * img_cols)\n",
    "x_test = x_test.reshape(x_test.shape[0], img_rows * img_cols)\n",
    "\n",
    "# Normalize Our Data\n",
    "x_train = x_train / 255\n",
    "x_test = x_test / 255\n",
    "\n",
    "# Now the data should be in a format you're more familiar with\n",
    "x_train.shape"
   ]
  },
  {
   "cell_type": "code",
   "execution_count": 10,
   "metadata": {},
   "outputs": [],
   "source": [
    "# one-hot encoding\n",
    "num_classes = 10\n",
    "targets = y_train.reshape(-1)\n",
    "y_oh_train = np.eye(num_classes)[targets]\n",
    "\n",
    "\n",
    "# size = y.shape[0]\n",
    "# y = y.reshape(1, examples)\n",
    "# Y_new = np.eye(digits)[y.astype('int32')]\n",
    "# Y_new = Y_new.T.reshape(num_classes, size)"
   ]
  },
  {
   "cell_type": "code",
   "execution_count": 11,
   "metadata": {},
   "outputs": [
    {
     "data": {
      "text/plain": [
       "((60000, 784), (60000, 10))"
      ]
     },
     "execution_count": 11,
     "metadata": {},
     "output_type": "execute_result"
    }
   ],
   "source": [
    "x_train.shape, y_oh_train.shape"
   ]
  },
  {
   "cell_type": "code",
   "execution_count": 12,
   "metadata": {},
   "outputs": [],
   "source": [
    "class TwoLayerNet(object):\n",
    "    def __init__(self, input_dim = 28*28, hidden_dim = 100, output_dim = 10, iterations=21):\n",
    "        self.iterations = iterations\n",
    "\n",
    "        # initiailize weights\n",
    "        self.W1 = np.random.randn(input_dim, hidden_dim) / np.sqrt(input_dim)\n",
    "        self.b1 = np.zeros(hidden_dim)\n",
    "        self.W2 = np.random.randn(hidden_dim, output_dim) / np.sqrt(hidden_dim)\n",
    "        self.b2 = np.zeros(output_dim)\n",
    "        self.loss = []\n",
    "        pass\n",
    "\n",
    "    def sigmoid(self, x):\n",
    "        return 1 / (1 + np.exp(-x))\n",
    "    \n",
    "    def dsigmoid(self, x):\n",
    "        s = self.sigmoid(x)\n",
    "        return s * (1 - s)\n",
    "    \n",
    "    def cross_entropy_loss(self, y, y_pred):\n",
    "        loss = np.sum(np.multiply(y, np.log(y_pred)))\n",
    "        m = y.shape[1]\n",
    "        loss = -(1./m) *loss\n",
    "        return loss\n",
    "    \n",
    "    def forward(self, x):        \n",
    "        # first fully connected layer with sigmoid activation\n",
    "        a1 = x.dot(self.W1) + self.b1\n",
    "        out_l1 = self.sigmoid(a1)\n",
    "        \n",
    "        # second fully connected layer with softmax activation\n",
    "        # https://nolanbconaway.github.io/blog/2017/softmax-numpy\n",
    "        a2 = out_l1.dot(self.W2) + self.b2\n",
    "        out_l2 = np.exp(a2) / np.sum(np.exp(a2), axis=0)\n",
    "\n",
    "        return (out_l2, a2, out_l1, a1)\n",
    "\n",
    "    def backward(self, x, y, cache):\n",
    "        out_l2, a2, out_l1, a1 = cache\n",
    "        \n",
    "        loss = y - out_l2\n",
    "        # backprop loss through softmax and then layer2 \n",
    "        dout_l2 = loss * np.exp(loss) / np.sum(np.exp(a2), axis=0)\n",
    "        dW2 = out_l1.T.dot(dout_l2)\n",
    "        db2 = np.sum(dout_l2, axis=0)\n",
    "        da2 = dout_l2.dot(self.W2.T)\n",
    "        \n",
    "        # backprop loss through sigmoid and then layer 1\n",
    "        dout_l1 = da2 * self.dsigmoid(out_l1)\n",
    "        dW1 = x.T.dot(dout_l1)\n",
    "        db1 = np.sum(dout_l1, axis=0)\n",
    "        return dW2, db2, dW1, db1\n",
    "        \n",
    "    def fit(self, x, y):\n",
    "        for i in range(self.iterations):\n",
    "            # forward pass\n",
    "            cache = self.forward(x)\n",
    "            out_l2, a2, out_l1, a1 = cache\n",
    "\n",
    "            loss = y - out_l2\n",
    "            self.loss.append(self.cross_entropy_loss(y, out_l2))\n",
    "\n",
    "            # backward pass\n",
    "            dW2, db2, dW1, db1 = self.backward(x, y, cache)\n",
    "            \n",
    "            # gradient update\n",
    "            self.W1 += dW1 * (1/1000)\n",
    "            self.b1 += db1 * (1/1000)\n",
    "            self.W2 += dW2 * (1/1000)\n",
    "            self.b2 += db2 * (1/1000)\n",
    "\n",
    "            if i % 100 == 0:\n",
    "                print(f'(Iteration {i+1}) loss: {self.loss[-1]}')\n",
    "        pass\n",
    "        \n",
    "    def predict(self, x):\n",
    "        out, _, _, _ = self.forward(x)\n",
    "        return out"
   ]
  },
  {
   "cell_type": "code",
   "execution_count": 13,
   "metadata": {},
   "outputs": [],
   "source": [
    "model = TwoLayerNet(input_dim=28*28, hidden_dim=1000, output_dim=10, iterations=1000)"
   ]
  },
  {
   "cell_type": "code",
   "execution_count": 14,
   "metadata": {
    "scrolled": true
   },
   "outputs": [
    {
     "name": "stdout",
     "output_type": "stream",
     "text": [
      "(Iteration 1) loss: 46.18529636299745\n",
      "(Iteration 101) loss: 45.982586277232635\n",
      "(Iteration 201) loss: 45.927752279854474\n",
      "(Iteration 301) loss: 45.894699758122485\n",
      "(Iteration 401) loss: 45.87100963604202\n",
      "(Iteration 501) loss: 45.85255534199584\n",
      "(Iteration 601) loss: 45.83744956513804\n",
      "(Iteration 701) loss: 45.82467010201088\n",
      "(Iteration 801) loss: 45.813600756551956\n",
      "(Iteration 901) loss: 45.80384136150909\n"
     ]
    }
   ],
   "source": [
    "model.fit(x_train[:100], y_oh_train[:100])"
   ]
  },
  {
   "cell_type": "code",
   "execution_count": 15,
   "metadata": {
    "scrolled": true
   },
   "outputs": [
    {
     "data": {
      "image/png": "[encoded data removed]",
      "text/plain": [
       "<Figure size 432x288 with 1 Axes>"
      ]
     },
     "metadata": {
      "needs_background": "light"
     },
     "output_type": "display_data"
    }
   ],
   "source": [
    "plt.plot(np.array(model.loss));"
   ]
  },
  {
   "cell_type": "markdown",
   "metadata": {
    "colab_type": "text",
    "id": "FwlRJSfBlCvy"
   },
   "source": [
    "## Stretch Goals: \n",
    "\n",
    "- Implement Cross Validation model evaluation on your MNIST implementation \n",
    "- Research different [Gradient Descent Based Optimizers](https://keras.io/optimizers/)\n",
    " - [Siraj Raval the evolution of gradient descent](https://www.youtube.com/watch?v=nhqo0u1a6fw)\n",
    "- Build a housing price estimation model using a neural network. How does its accuracy compare with the regression models that we fit earlier on in class?"
   ]
  }
 ],
 "metadata": {
  "colab": {
   "name": "LS_DS_432_Backprop_Assignment.ipynb",
   "provenance": [],
   "version": "0.3.2"
  },
  "kernelspec": {
   "display_name": "Python 3",
   "language": "python",
   "name": "python3"
  },
  "language_info": {
   "codemirror_mode": {
    "name": "ipython",
    "version": 3
   },
   "file_extension": ".py",
   "mimetype": "text/x-python",
   "name": "python",
   "nbconvert_exporter": "python",
   "pygments_lexer": "ipython3",
   "version": "3.7.3"
  }
 },
 "nbformat": 4,
 "nbformat_minor": 2
}
