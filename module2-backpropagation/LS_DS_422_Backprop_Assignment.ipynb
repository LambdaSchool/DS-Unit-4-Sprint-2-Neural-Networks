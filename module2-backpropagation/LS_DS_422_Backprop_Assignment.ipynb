{
  "nbformat": 4,
  "nbformat_minor": 0,
  "metadata": {
    "colab": {
      "name": "LS_DS_422_Backprop_Assignment.ipynb",
      "provenance": [],
      "collapsed_sections": []
    },
    "kernelspec": {
      "display_name": "Python 3",
      "language": "python",
      "name": "python3"
    },
    "language_info": {
      "codemirror_mode": {
        "name": "ipython",
        "version": 3
      },
      "file_extension": ".py",
      "mimetype": "text/x-python",
      "name": "python",
      "nbconvert_exporter": "python",
      "pygments_lexer": "ipython3",
      "version": "3.6.8"
    }
  },
  "cells": [
    {
      "cell_type": "markdown",
      "metadata": {
        "colab_type": "text",
        "id": "NGGrt9EYlCqY"
      },
      "source": [
        "<img align=\"left\" src=\"https://lever-client-logos.s3.amazonaws.com/864372b1-534c-480e-acd5-9711f850815c-1524247202159.png\" width=200>\n",
        "<br></br>\n",
        "\n",
        "# Backpropagation Practice\n",
        "\n",
        "## *Data Science Unit 4 Sprint 2 Assignment 2*\n",
        "\n",
        "Implement a 3 input, 4 node hidden-layer, 1 output node Multilayer Perceptron on the following dataset:\n",
        "\n",
        "| x1 | x2 | x3 | y |\n",
        "|----|----|----|---|\n",
        "| 0  | 0  | 1  | 0 |\n",
        "| 0  | 1  | 1  | 1 |\n",
        "| 1  | 0  | 1  | 1 |\n",
        "| 0  | 1  | 0  | 1 |\n",
        "| 1  | 0  | 0  | 1 |\n",
        "| 1  | 1  | 1  | 0 |\n",
        "| 0  | 0  | 0  | 0 |\n",
        "\n",
        "If you look at the data you'll notice that the first two columns behave like an XOR gate while the last column is mostly just noise. Remember that creating an XOR gate was what the perceptron was criticized for not being able to learn. "
      ]
    },
    {
      "cell_type": "code",
      "metadata": {
        "colab_type": "code",
        "id": "nEREYT-3wI1f",
        "colab": {}
      },
      "source": [
        "##### Your Code Here #####\n",
        "import numpy as np\n",
        "import matplotlib.pyplot as plt\n",
        "%matplotlib inline\n",
        "np.random.seed(42)\n",
        "\n",
        "\n",
        "# Create Perceptron class that has input, hidden, and output layers\n",
        "class SkyNet(object):\n",
        "    def __init__(self, inputs=3, hidden=4, output=1, n_iter=10000):\n",
        "        self.input = inputs\n",
        "        self.hidden = hidden\n",
        "        self.output = output\n",
        "        self.n_iter = n_iter\n",
        "        \n",
        "        # Initialize random weights\n",
        "        self.weight1 = np.random.rand(inputs, hidden) / np.sqrt(inputs)\n",
        "        self.weight2 = np.random.rand(hidden, output) / np.sqrt(hidden)\n",
        "        \n",
        "        # Initialize bias\n",
        "        self.bias1 = np.zeros(hidden)\n",
        "        self.bias2 = np.zeros(output)\n",
        "        \n",
        "        # Initialize loss function list\n",
        "        self.loss = []\n",
        "    \n",
        "    # Define sigmoid function\n",
        "    def sigmoid(self, x):\n",
        "        \"\"\"\n",
        "        Sigmoid function\n",
        "        \"\"\"\n",
        "        return 1 / (1 + np.exp(-x))\n",
        "    \n",
        "    # Sigmoid derivative function\n",
        "    def sigmoid_derivative(self, x):\n",
        "        \"\"\"\n",
        "        Sigmoid derivative\n",
        "        \"\"\"\n",
        "        sx = self.sigmoid(x)\n",
        "        return sx * (1-sx)\n",
        "    \n",
        "    # Define neural network affine function\n",
        "    def affine_func(self, x, w, b):\n",
        "        '''\n",
        "        y = Wx + b\n",
        "        '''\n",
        "        scores = x.dot(w) + b\n",
        "        cache = (x, w, b)\n",
        "        return scores, cache\n",
        "    \n",
        "    # Define back-propagation (affine backwards - not actual backpropagation)\n",
        "    def back_prop(self, d_out, cache):\n",
        "        '''\n",
        "        dY\n",
        "        '''\n",
        "        x, w, b = cache\n",
        "        dx = d_out.dot(w.T) # reshaping for useability\n",
        "        dw = x.T.dot(d_out)\n",
        "        db = np.sum(d_out, axis=0)\n",
        "        \n",
        "        return dx, dw, db\n",
        "    \n",
        "    def fit(self, x, y):\n",
        "        '''\n",
        "        Fit the network\n",
        "        '''\n",
        "        for i in range(self.n_iter):            \n",
        "\n",
        "            # forward prop (cache to \"store\" values in memory)\n",
        "            alpha1, cache1 = self.affine_func(x, self.weight1, self.bias1)\n",
        "            out1 = self.sigmoid(alpha1)\n",
        "            alpha2, cache2 = self.affine_func(out1, self.weight2, self.bias2)\n",
        "\n",
        "            # scoring\n",
        "            out2 = self.sigmoid(alpha2)\n",
        "            loss = y - out2\n",
        "            self.loss.append(np.sqrt(np.sum(loss**2)))\n",
        "\n",
        "            # back prop\n",
        "            dalpha2 = loss * self.sigmoid_derivative(out2)\n",
        "            dout2, dW2, db2 = self.back_prop(dalpha2, cache2)\n",
        "            dalpha1 = dout2 * self.sigmoid_derivative(out1)\n",
        "            _, dW1, db1 = self.back_prop(dalpha1, cache1)\n",
        "\n",
        "            # gradient update\n",
        "            self.weight1 += dW1\n",
        "            self.bias1 += db1\n",
        "            self.weight2 += dW2\n",
        "            self.bias2 += db2\n",
        "        \n",
        "    def predict(self, x):\n",
        "        '''\n",
        "        Make predictions\n",
        "        '''\n",
        "        x = np.array(x)\n",
        "        a1, _ = self.affine_func(x.reshape(1, -1), self.weight1, self.bias1)\n",
        "        out1 = self.sigmoid(a1)\n",
        "        scores = self.affine_func(out1, self.weight2, self.bias2)\n",
        "        out = self.sigmoid(scores[0])\n",
        "        return out\n"
      ],
      "execution_count": 0,
      "outputs": []
    },
    {
      "cell_type": "code",
      "metadata": {
        "id": "Z5AnsgB_loyH",
        "colab_type": "code",
        "colab": {
          "base_uri": "https://localhost:8080/",
          "height": 34
        },
        "outputId": "abb28a90-2212-4a29-8a4e-d90a411e92ed"
      },
      "source": [
        "X = np.array([\n",
        "    [0,0,1],\n",
        "    [0,1,1],\n",
        "    [1,0,1],\n",
        "    [0,1,0],\n",
        "    [1,0,0],\n",
        "    [1,1,1],\n",
        "    [0,0,0]\n",
        "])\n",
        "\n",
        "y = np.array([[0], [1], [1], [1], [1], [0], [0]])\n",
        "\n",
        "print(X.shape, y.shape)"
      ],
      "execution_count": 27,
      "outputs": [
        {
          "output_type": "stream",
          "text": [
            "(7, 3) (7, 1)\n"
          ],
          "name": "stdout"
        }
      ]
    },
    {
      "cell_type": "code",
      "metadata": {
        "id": "WHrWgGqvlo2L",
        "colab_type": "code",
        "colab": {}
      },
      "source": [
        "nn = SkyNet(inputs=3, hidden=4, output=1, n_iter=10000)\n",
        "nn.fit(X, y)"
      ],
      "execution_count": 0,
      "outputs": []
    },
    {
      "cell_type": "code",
      "metadata": {
        "id": "me20RraOlo5D",
        "colab_type": "code",
        "colab": {
          "base_uri": "https://localhost:8080/",
          "height": 269
        },
        "outputId": "d0e7b73f-a136-436e-dd86-acb6ebc21ea8"
      },
      "source": [
        "# Plot loss function\n",
        "plt.plot(np.array(nn.loss));"
      ],
      "execution_count": 29,
      "outputs": [
        {
          "output_type": "display_data",
          "data": {
            "image/png": "[encoded data removed]",
            "text/plain": [
              "<Figure size 432x288 with 1 Axes>"
            ]
          },
          "metadata": {
            "tags": []
          }
        }
      ]
    },
    {
      "cell_type": "code",
      "metadata": {
        "id": "2Y1lHciulo7m",
        "colab_type": "code",
        "colab": {
          "base_uri": "https://localhost:8080/",
          "height": 260
        },
        "outputId": "3f99622d-06d4-4090-b6c5-c8a356146fd4"
      },
      "source": [
        "test1 = np.array([0,0,1])\n",
        "test2 = np.array([0,1,1])\n",
        "test3 = np.array([1,0,1])\n",
        "test4 = np.array([0,1,0])\n",
        "test5 = np.array([1,0,0])\n",
        "test6 = np.array([1,1,1])\n",
        "test7 = np.array([0,0,0])\n",
        "print(\"{}\".format(test1), nn.predict(test1))\n",
        "print(\"{}\".format(test2), nn.predict(test2))\n",
        "print(\"{}\".format(test3), nn.predict(test3))\n",
        "print(\"{}\".format(test4), nn.predict(test4))\n",
        "print(\"{}\".format(test5), nn.predict(test5))\n",
        "print(\"{}\".format(test6), nn.predict(test6))\n",
        "print(\"{}\".format(test6), nn.predict(test6))\n",
        "print(y)"
      ],
      "execution_count": 31,
      "outputs": [
        {
          "output_type": "stream",
          "text": [
            "[0 0 1] [[0.00244334]]\n",
            "[0 1 1] [[0.9954521]]\n",
            "[1 0 1] [[0.99539526]]\n",
            "[0 1 0] [[0.99850918]]\n",
            "[1 0 0] [[0.9986433]]\n",
            "[1 1 1] [[0.00509788]]\n",
            "[1 1 1] [[0.00509788]]\n",
            "[[0]\n",
            " [1]\n",
            " [1]\n",
            " [1]\n",
            " [1]\n",
            " [0]\n",
            " [0]]\n"
          ],
          "name": "stdout"
        }
      ]
    },
    {
      "cell_type": "code",
      "metadata": {
        "id": "Yf6VNIxIlo_d",
        "colab_type": "code",
        "colab": {}
      },
      "source": [
        "# Without biases - class from lecture\n",
        "class NeuralNetwork:\n",
        "    def __init__(self):\n",
        "        # Set up Architecture of Neural Network\n",
        "        self.inputs = 3\n",
        "        self.hiddenNodes = 3\n",
        "        self.outputNodes = 1\n",
        "\n",
        "        # Initial Weights\n",
        "        # 2x3 Matrix Array for the First Layer\n",
        "        self.weights1 = np.random.rand(self.inputs, self.hiddenNodes)\n",
        "        # 3x1 Matrix Array for Hidden to Output\n",
        "        self.weights2 = np.random.rand(self.hiddenNodes, self.outputNodes)\n",
        "        \n",
        "    def sigmoid(self, s):\n",
        "        return 1 / (1 + np.exp(-s))\n",
        "    \n",
        "    def sigmoidPrime(self, s):\n",
        "        return s * (1 - s)\n",
        "    \n",
        "    def feed_forward(self, X):\n",
        "        \"\"\"\n",
        "        Calculate the NN infernece using feed forward.\n",
        "        aka \"predict\"\n",
        "        \"\"\"\n",
        "        # weighted sum of inputs => hidden layer\n",
        "        self.hidden_sum = X.dot(self.weights1)\n",
        "        # activations of weighted sum\n",
        "        self.activated_hidden = self.sigmoid(self.hidden_sum)\n",
        "        #weighted sum between hidden and output\n",
        "        self.output_sum = self.activated_hidden.dot(self.weights2)\n",
        "        # final activation of output\n",
        "        self.activated_output = self.sigmoid(self.output_sum)\n",
        "        \n",
        "        return self.activated_output\n",
        "    \n",
        "    def backward(self, loss, y, y_pred):\n",
        "        # error in output\n",
        "        self.o_error = y - y_pred\n",
        "        \n",
        "        # apply derivative of sigmoid to error\n",
        "        # how far off are we in relation to the sigmoid f(x) of the output\n",
        "        self.o_delta = self.o_error * self.sigmoidPrime(y_pred)\n",
        "        \n",
        "        # z2 error\n",
        "        self.z2_error = self.o_delta.dot(self.weights2.T)\n",
        "        # how much of that 'far off' can be explained by the hidden -> output weights\n",
        "        self.z2_delta = self.z2_error * self.sigmoidPrime(self.activated_hidden)\n",
        "#         # z1 error\n",
        "#         self.z1_error = self.z2_delta.dot(self.X.T)\n",
        "        \n",
        "        self.weights1 += X.T.dot(self.z2_delta)\n",
        "        self.weights2 += self.activated_hidden.T.dot(self.o_delta)\n",
        "        \n",
        "    def train(self, X, y):\n",
        "        o = self.feed_forward(X)\n",
        "        self.backward(X, y, o)"
      ],
      "execution_count": 0,
      "outputs": []
    },
    {
      "cell_type": "code",
      "metadata": {
        "id": "l98Ny_kflpB4",
        "colab_type": "code",
        "colab": {
          "base_uri": "https://localhost:8080/",
          "height": 799
        },
        "outputId": "673cc8ba-bff5-4d7e-f0e1-593c27f15080"
      },
      "source": [
        "nn = NeuralNetwork()\n",
        "\n",
        "# Number of Epochs/Iterations\n",
        "for i in range(1000):\n",
        "   if (i+1 in [1,2,3,4,5]) or ((i+1) % 100 ==0):\n",
        "       print('+' + '---' * 3 + f'EPOCH {i+1}' + '---'*3 + '+')\n",
        "       # print('Input: \\n', X)\n",
        "       # print('Actual Output: \\n', y)\n",
        "       # print('Predicted Output: \\n', str(nn.feed_forward(X)))\n",
        "       print(\"Loss: \\n\", str(np.mean(np.square(y - nn.feed_forward(X)))))\n",
        "   nn.train(X, y)"
      ],
      "execution_count": 33,
      "outputs": [
        {
          "output_type": "stream",
          "text": [
            "+---------EPOCH 1---------+\n",
            "Loss: \n",
            " 0.26332539948632344\n",
            "+---------EPOCH 2---------+\n",
            "Loss: \n",
            " 0.25208464519894275\n",
            "+---------EPOCH 3---------+\n",
            "Loss: \n",
            " 0.24694071343093818\n",
            "+---------EPOCH 4---------+\n",
            "Loss: \n",
            " 0.245066181972683\n",
            "+---------EPOCH 5---------+\n",
            "Loss: \n",
            " 0.244431011812888\n",
            "+---------EPOCH 100---------+\n",
            "Loss: \n",
            " 0.19352927840741788\n",
            "+---------EPOCH 200---------+\n",
            "Loss: \n",
            " 0.1170768846426763\n",
            "+---------EPOCH 300---------+\n",
            "Loss: \n",
            " 0.03575684338477819\n",
            "+---------EPOCH 400---------+\n",
            "Loss: \n",
            " 0.014387180205085797\n",
            "+---------EPOCH 500---------+\n",
            "Loss: \n",
            " 0.008965720594379821\n",
            "+---------EPOCH 600---------+\n",
            "Loss: \n",
            " 0.006540358131057422\n",
            "+---------EPOCH 700---------+\n",
            "Loss: \n",
            " 0.005160230086726532\n",
            "+---------EPOCH 800---------+\n",
            "Loss: \n",
            " 0.004266577072980576\n",
            "+---------EPOCH 900---------+\n",
            "Loss: \n",
            " 0.0036393993669423938\n",
            "+---------EPOCH 1000---------+\n",
            "Loss: \n",
            " 0.003174331654062179\n"
          ],
          "name": "stdout"
        }
      ]
    },
    {
      "cell_type": "markdown",
      "metadata": {
        "colab_type": "text",
        "id": "8b-r70o8p2Dm"
      },
      "source": [
        "## Try building/training a more complex MLP on a bigger dataset.\n",
        "\n",
        "Use the [MNIST dataset](http://yann.lecun.com/exdb/mnist/) to build the cannonical handwriting digit recognizer and see what kind of accuracy you can achieve. \n",
        "\n",
        "If you need inspiration, the internet is chalk-full of tutorials, but I want you to see how far you can get on your own first. I've linked to the original MNIST dataset above but it will probably be easier to download data through a neural network library. If you reference outside resources make sure you understand every line of code that you're using from other sources, and share with your fellow students helpful resources that you find.\n",
        "\n",
        "\n",
        "### Parts\n",
        "1. Gathering & Transforming the Data\n",
        "2. Making MNIST a Binary Problem\n",
        "3. Estimating your Neural Network (the part you focus on)"
      ]
    },
    {
      "cell_type": "markdown",
      "metadata": {
        "id": "XQMEpKlZezsg",
        "colab_type": "text"
      },
      "source": [
        "### Gathering the Data \n",
        "\n",
        "`keras` has a handy method to pull the mnist dataset for you. You'll notice that each observation is a 28x28 arrary which represents an image. Although most Neural Network frameworks can handle higher dimensional data, that is more overhead than necessary for us. We need to flatten the image to one long row which will be 784 values (28X28). Basically, you will be appending each row to one another to make on really long row. "
      ]
    },
    {
      "cell_type": "code",
      "metadata": {
        "id": "0KplUgnaezsi",
        "colab_type": "code",
        "colab": {}
      },
      "source": [
        "import numpy as np\n",
        "from tensorflow.keras.datasets import mnist\n",
        "from tensorflow.keras.utils import to_categorical"
      ],
      "execution_count": 0,
      "outputs": []
    },
    {
      "cell_type": "code",
      "metadata": {
        "id": "I29eOamzezso",
        "colab_type": "code",
        "colab": {}
      },
      "source": [
        "# input image dimensions\n",
        "img_rows, img_cols = 28, 28"
      ],
      "execution_count": 0,
      "outputs": []
    },
    {
      "cell_type": "code",
      "metadata": {
        "id": "xRSvHcqvezsw",
        "colab_type": "code",
        "colab": {
          "base_uri": "https://localhost:8080/",
          "height": 52
        },
        "outputId": "cde3194b-c19a-46aa-c773-eda1f95bbce1"
      },
      "source": [
        "# the data, split between train and test sets\n",
        "(x_train, y_train), (x_test, y_test) = mnist.load_data()"
      ],
      "execution_count": 36,
      "outputs": [
        {
          "output_type": "stream",
          "text": [
            "Downloading data from https://storage.googleapis.com/tensorflow/tf-keras-datasets/mnist.npz\n",
            "11493376/11490434 [==============================] - 0s 0us/step\n"
          ],
          "name": "stdout"
        }
      ]
    },
    {
      "cell_type": "code",
      "metadata": {
        "id": "sP0z2qQIezs1",
        "colab_type": "code",
        "colab": {}
      },
      "source": [
        "x_train = x_train.reshape(x_train.shape[0], img_rows * img_cols)\n",
        "x_test = x_test.reshape(x_test.shape[0], img_rows * img_cols)\n",
        "\n",
        "# Normalize Our Data\n",
        "x_train = x_train / 255\n",
        "x_test = x_test / 255"
      ],
      "execution_count": 0,
      "outputs": []
    },
    {
      "cell_type": "code",
      "metadata": {
        "id": "VA9TOHxGezs7",
        "colab_type": "code",
        "colab": {
          "base_uri": "https://localhost:8080/",
          "height": 34
        },
        "outputId": "d485971b-4a8e-43d0-8555-9b710ff1dc25"
      },
      "source": [
        "# Now the data should be in a format you're more familiar with\n",
        "x_train.shape"
      ],
      "execution_count": 38,
      "outputs": [
        {
          "output_type": "execute_result",
          "data": {
            "text/plain": [
              "(60000, 784)"
            ]
          },
          "metadata": {
            "tags": []
          },
          "execution_count": 38
        }
      ]
    },
    {
      "cell_type": "markdown",
      "metadata": {
        "id": "0ajsDYCBeztD",
        "colab_type": "text"
      },
      "source": [
        "### Making MNIST a Binary Problem \n",
        "MNIST is multiclass classification problem; however we haven't covered all the necessary techniques to handle this yet. You would need to one-hot encode the target, use a different loss metric, and use softmax activations for the last layer. This is all stuff we'll cover later this week, but let us simply the problem for now: Zero or all else."
      ]
    },
    {
      "cell_type": "code",
      "metadata": {
        "id": "FXRRzJa7eztG",
        "colab_type": "code",
        "colab": {}
      },
      "source": [
        "import numpy as np\n",
        "\n",
        "y_temp = np.zeros(y_train.shape)\n",
        "y_temp[np.where(y_train == 0.0)[0]] = 1\n",
        "y_train = y_temp\n",
        "\n",
        "y_temp = np.zeros(y_test.shape)\n",
        "y_temp[np.where(y_test == 0.0)[0]] = 1\n",
        "y_test = y_temp"
      ],
      "execution_count": 0,
      "outputs": []
    },
    {
      "cell_type": "code",
      "metadata": {
        "id": "04mL7hqmeztM",
        "colab_type": "code",
        "colab": {
          "base_uri": "https://localhost:8080/",
          "height": 34
        },
        "outputId": "2bb5f1ae-cb5e-4a02-ce40-3b7f309a349b"
      },
      "source": [
        "# A Nice Binary target for ya to work with\n",
        "y_train"
      ],
      "execution_count": 40,
      "outputs": [
        {
          "output_type": "execute_result",
          "data": {
            "text/plain": [
              "array([0., 1., 0., ..., 0., 0., 0.])"
            ]
          },
          "metadata": {
            "tags": []
          },
          "execution_count": 40
        }
      ]
    },
    {
      "cell_type": "markdown",
      "metadata": {
        "id": "_izcrvY6eztS",
        "colab_type": "text"
      },
      "source": [
        "### Estimating Your `net"
      ]
    },
    {
      "cell_type": "code",
      "metadata": {
        "colab_type": "code",
        "id": "5MOPtYdk1HgA",
        "colab": {
          "base_uri": "https://localhost:8080/",
          "height": 176
        },
        "outputId": "51b4fca2-dd76-4419-b1b2-1cb21da1fb74"
      },
      "source": [
        "##### Your Code Here #####\n",
        "from tensorflow.keras.models import Sequential\n",
        "from tensorflow.keras.layers import Dense\n",
        "\n",
        "# define keras model\n",
        "# https://keras.io/getting-started/sequential-model-guide/\n",
        "model = Sequential()  # Sequential model is a linear stack of layers\n",
        "# https://keras.io/layers/core/\n",
        "model.add(Dense(32, input_dim=784, activation='relu'))  # Dense - one of keras core layers (along with Dropout, Activation, & Flatten)\n",
        "                                                        # activation specifies the activation function\n",
        "model.add(Dense(1, activation='sigmoid'))\n",
        "\n",
        "# compile the keras model\n",
        "# https://keras.io/models/sequential/\n",
        "model.compile(loss='binary_crossentropy', optimizer='adam', metrics=['accuracy'])  # loss specifies the loss function to minimize\n",
        "\n",
        "# fit the keras model\n",
        "# https://keras.io/models/sequential/\n",
        "model.fit(x_train, y_train, epochs=150, batch_size=128, verbose=False)  # batch size - number of samples per gradient\n",
        "\n",
        "# evaluate the keras model\n",
        "# https://keras.io/models/sequential/\n",
        "_, accuracy = model.evaluate(x_test, y_test)  # returns loss values & metric values\n",
        "print('Accuracy: %.2f' % (accuracy*100))"
      ],
      "execution_count": 41,
      "outputs": [
        {
          "output_type": "stream",
          "text": [
            "WARNING:tensorflow:From /usr/local/lib/python3.6/dist-packages/tensorflow_core/python/ops/resource_variable_ops.py:1630: calling BaseResourceVariable.__init__ (from tensorflow.python.ops.resource_variable_ops) with constraint is deprecated and will be removed in a future version.\n",
            "Instructions for updating:\n",
            "If using Keras pass *_constraint arguments to layers.\n",
            "WARNING:tensorflow:From /usr/local/lib/python3.6/dist-packages/tensorflow_core/python/ops/nn_impl.py:183: where (from tensorflow.python.ops.array_ops) is deprecated and will be removed in a future version.\n",
            "Instructions for updating:\n",
            "Use tf.where in 2.0, which has the same broadcast rule as np.where\n",
            "10000/10000 [==============================] - 0s 24us/sample - loss: 0.0218 - acc: 0.9979\n",
            "Accuracy: 99.79\n"
          ],
          "name": "stdout"
        }
      ]
    },
    {
      "cell_type": "markdown",
      "metadata": {
        "colab_type": "text",
        "id": "FwlRJSfBlCvy"
      },
      "source": [
        "## Stretch Goals: \n",
        "\n",
        "- Make MNIST a multiclass problem using cross entropy & soft-max\n",
        "- Implement Cross Validation model evaluation on your MNIST implementation \n",
        "- Research different [Gradient Descent Based Optimizers](https://keras.io/optimizers/)\n",
        " - [Siraj Raval the evolution of gradient descent](https://www.youtube.com/watch?v=nhqo0u1a6fw)\n",
        "- Build a housing price estimation model using a neural network. How does its accuracy compare with the regression models that we fit earlier on in class?"
      ]
    }
  ]
}