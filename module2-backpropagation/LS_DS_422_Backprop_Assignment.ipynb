{
 "cells": [
  {
   "cell_type": "markdown",
   "metadata": {
    "colab_type": "text",
    "id": "NGGrt9EYlCqY"
   },
   "source": [
    "<img align=\"left\" src=\"https://lever-client-logos.s3.amazonaws.com/864372b1-534c-480e-acd5-9711f850815c-1524247202159.png\" width=200>\n",
    "<br></br>\n",
    "\n",
    "# Backpropagation Practice\n",
    "\n",
    "## *Data Science Unit 4 Sprint 2 Assignment 2*\n",
    "\n",
    "Implement a 3 input, 4 node hidden-layer, 1 output node Multilayer Perceptron on the following dataset:\n",
    "\n",
    "| x1 | x2 | x3 | y |\n",
    "|----|----|----|---|\n",
    "| 0  | 0  | 1  | 0 |\n",
    "| 0  | 1  | 1  | 1 |\n",
    "| 1  | 0  | 1  | 1 |\n",
    "| 0  | 1  | 0  | 1 |\n",
    "| 1  | 0  | 0  | 1 |\n",
    "| 1  | 1  | 1  | 0 |\n",
    "| 0  | 0  | 0  | 0 |\n",
    "\n",
    "If you look at the data you'll notice that the first two columns behave like an XOR gate while the last column is mostly just noise. Remember that creating an XOR gate was what the perceptron was criticized for not being able to learn. "
   ]
  },
  {
   "cell_type": "code",
   "execution_count": 1,
   "metadata": {
    "colab": {},
    "colab_type": "code",
    "id": "nEREYT-3wI1f"
   },
   "outputs": [],
   "source": [
    "import numpy as np\n",
    "import pandas as pd\n",
    "\n",
    "from sklearn.metrics import accuracy_score"
   ]
  },
  {
   "cell_type": "code",
   "execution_count": 2,
   "metadata": {
    "colab": {},
    "colab_type": "code",
    "id": "jcJNNZ3WMAlb"
   },
   "outputs": [],
   "source": [
    "df = pd.DataFrame({'x1': [0, 0, 1, 0, 1, 1, 0],\n",
    "                   'x2': [0, 1, 0, 1, 0, 1, 0],\n",
    "                   'x3': [1, 1, 1, 0, 0, 1, 0],\n",
    "                   'y':  [0, 1, 1, 1, 1, 0, 0]})"
   ]
  },
  {
   "cell_type": "code",
   "execution_count": 3,
   "metadata": {
    "colab": {
     "base_uri": "https://localhost:8080/",
     "height": 269
    },
    "colab_type": "code",
    "id": "lluO9ocPMZUp",
    "outputId": "51660d07-9a5f-4e2d-a463-80d216ac5871"
   },
   "outputs": [
    {
     "data": {
      "text/html": [
       "<div>\n",
       "<style scoped>\n",
       "    .dataframe tbody tr th:only-of-type {\n",
       "        vertical-align: middle;\n",
       "    }\n",
       "\n",
       "    .dataframe tbody tr th {\n",
       "        vertical-align: top;\n",
       "    }\n",
       "\n",
       "    .dataframe thead th {\n",
       "        text-align: right;\n",
       "    }\n",
       "</style>\n",
       "<table border=\"1\" class=\"dataframe\">\n",
       "  <thead>\n",
       "    <tr style=\"text-align: right;\">\n",
       "      <th></th>\n",
       "      <th>x1</th>\n",
       "      <th>x2</th>\n",
       "      <th>x3</th>\n",
       "      <th>y</th>\n",
       "    </tr>\n",
       "  </thead>\n",
       "  <tbody>\n",
       "    <tr>\n",
       "      <th>0</th>\n",
       "      <td>0</td>\n",
       "      <td>0</td>\n",
       "      <td>1</td>\n",
       "      <td>0</td>\n",
       "    </tr>\n",
       "    <tr>\n",
       "      <th>1</th>\n",
       "      <td>0</td>\n",
       "      <td>1</td>\n",
       "      <td>1</td>\n",
       "      <td>1</td>\n",
       "    </tr>\n",
       "    <tr>\n",
       "      <th>2</th>\n",
       "      <td>1</td>\n",
       "      <td>0</td>\n",
       "      <td>1</td>\n",
       "      <td>1</td>\n",
       "    </tr>\n",
       "    <tr>\n",
       "      <th>3</th>\n",
       "      <td>0</td>\n",
       "      <td>1</td>\n",
       "      <td>0</td>\n",
       "      <td>1</td>\n",
       "    </tr>\n",
       "    <tr>\n",
       "      <th>4</th>\n",
       "      <td>1</td>\n",
       "      <td>0</td>\n",
       "      <td>0</td>\n",
       "      <td>1</td>\n",
       "    </tr>\n",
       "    <tr>\n",
       "      <th>5</th>\n",
       "      <td>1</td>\n",
       "      <td>1</td>\n",
       "      <td>1</td>\n",
       "      <td>0</td>\n",
       "    </tr>\n",
       "    <tr>\n",
       "      <th>6</th>\n",
       "      <td>0</td>\n",
       "      <td>0</td>\n",
       "      <td>0</td>\n",
       "      <td>0</td>\n",
       "    </tr>\n",
       "  </tbody>\n",
       "</table>\n",
       "</div>"
      ],
      "text/plain": [
       "   x1  x2  x3  y\n",
       "0   0   0   1  0\n",
       "1   0   1   1  1\n",
       "2   1   0   1  1\n",
       "3   0   1   0  1\n",
       "4   1   0   0  1\n",
       "5   1   1   1  0\n",
       "6   0   0   0  0"
      ]
     },
     "execution_count": 3,
     "metadata": {},
     "output_type": "execute_result"
    }
   ],
   "source": [
    "df"
   ]
  },
  {
   "cell_type": "code",
   "execution_count": 4,
   "metadata": {
    "colab": {},
    "colab_type": "code",
    "id": "xAbyXW57McSL"
   },
   "outputs": [],
   "source": [
    "feat = ['x1', 'x2', 'x3']\n",
    "X = df[feat].values\n",
    "y = np.expand_dims(df['y'], axis=1)"
   ]
  },
  {
   "cell_type": "code",
   "execution_count": 5,
   "metadata": {
    "colab": {},
    "colab_type": "code",
    "id": "u7w9E2kJMsYC"
   },
   "outputs": [],
   "source": [
    "class NeuralNetwork:\n",
    "    def __init__(self, inputs=2, hiddenNodes=3, outputNodes=1):\n",
    "        # Set up Architecture of Neural Network\n",
    "        self.inputs = inputs\n",
    "        self.hiddenNodes = hiddenNodes\n",
    "        self.outputNodes = outputNodes\n",
    "\n",
    "        # Initial Weights\n",
    "        # Inputs x hidden nodes Matrix Array for the First Layer\n",
    "        self.weights1 = np.random.rand(self.inputs, self.hiddenNodes)\n",
    "       \n",
    "        # Hidden nodes x outputs Matrix Array for Hidden to Output\n",
    "        self.weights2 = np.random.rand(self.hiddenNodes, self.outputNodes)\n",
    "        \n",
    "    def sigmoid(self, s):\n",
    "        return 1 / (1 + np.exp(-s))\n",
    "    \n",
    "    def sigmoidPrime(self, s):\n",
    "        return s * (1 - s)\n",
    "    \n",
    "    def feed_forward(self, X):\n",
    "        \"\"\"\n",
    "        Calculate the NN inference using feed forward.\n",
    "        aka \"predict\"\n",
    "        \"\"\"\n",
    "        \n",
    "        # Weighted sum of inputs => hidden layer\n",
    "        self.hidden_sum = np.dot(X, self.weights1)\n",
    "        \n",
    "        # Activations of weighted sum\n",
    "        self.activated_hidden = self.sigmoid(self.hidden_sum)\n",
    "        \n",
    "        # Weight sum between hidden and output\n",
    "        self.output_sum = np.dot(self.activated_hidden, self.weights2)\n",
    "        \n",
    "        # Final activation of output\n",
    "        self.activated_output = self.sigmoid(self.output_sum)\n",
    "        \n",
    "        return self.activated_output\n",
    "        \n",
    "    def backward(self, X, y, o):\n",
    "        \"\"\"\n",
    "        Backward propagate through the network\n",
    "        \"\"\"\n",
    "        \n",
    "        # Error in Output\n",
    "        self.o_error = y - o\n",
    "        \n",
    "        # Apply Derivative of Sigmoid to error\n",
    "        # How far off are we in relation to the Sigmoid f(x) of the output\n",
    "        # ^- aka hidden => output\n",
    "        self.o_delta = self.o_error * self.sigmoidPrime(o)\n",
    "        \n",
    "        # z2 error\n",
    "        self.z2_error = self.o_delta.dot(self.weights2.T)\n",
    "        \n",
    "        # How much of that \"far off\" can explained by the input => hidden\n",
    "        self.z2_delta = self.z2_error * self.sigmoidPrime(self.activated_hidden)\n",
    "        \n",
    "        # Adjustment to first set of weights (input => hidden)\n",
    "        self.weights1 += X.T.dot(self.z2_delta)\n",
    "        # Adjustment to second set of weights (hidden => output)\n",
    "        self.weights2 += self.activated_hidden.T.dot(self.o_delta)\n",
    "        \n",
    "\n",
    "    def train(self, X, y):\n",
    "        o = self.feed_forward(X)\n",
    "        self.backward(X, y, o)\n",
    "\n",
    "    def fit(self, X, y, max_epochs, print_epochs):\n",
    "        for i in range(max_epochs):\n",
    "            if (i+ 1 in print_epochs): \n",
    "                print('+' + '---' * 3 + f'EPOCH {i + 1}' + '---' * 3 + '+')\n",
    "                print('Input: \\n', X)\n",
    "                print('Actual Output: \\n', y)\n",
    "                print('Predicted Output: \\n', str(self.feed_forward(X)))\n",
    "                print(\"Loss: \\n\", str(np.mean(np.square(y - self.feed_forward(X)))))\n",
    "            self.train(X, y)"
   ]
  },
  {
   "cell_type": "code",
   "execution_count": 6,
   "metadata": {
    "colab": {},
    "colab_type": "code",
    "id": "YGHuxM47Q2pU"
   },
   "outputs": [],
   "source": [
    "nn = NeuralNetwork(inputs=3, hiddenNodes=4, outputNodes=1)"
   ]
  },
  {
   "cell_type": "code",
   "execution_count": 7,
   "metadata": {
    "colab": {
     "base_uri": "https://localhost:8080/",
     "height": 1000
    },
    "colab_type": "code",
    "id": "zEafcKnbQ-4y",
    "outputId": "8ca4cea5-4a38-45a1-f047-7d599b34e9ee"
   },
   "outputs": [
    {
     "name": "stdout",
     "output_type": "stream",
     "text": [
      "+---------EPOCH 1---------+\n",
      "Input: \n",
      " [[0 0 1]\n",
      " [0 1 1]\n",
      " [1 0 1]\n",
      " [0 1 0]\n",
      " [1 0 0]\n",
      " [1 1 1]\n",
      " [0 0 0]]\n",
      "Actual Output: \n",
      " [[0]\n",
      " [1]\n",
      " [1]\n",
      " [1]\n",
      " [1]\n",
      " [0]\n",
      " [0]]\n",
      "Predicted Output: \n",
      " [[0.76600761]\n",
      " [0.78860613]\n",
      " [0.79394564]\n",
      " [0.7407078 ]\n",
      " [0.74945748]\n",
      " [0.80994432]\n",
      " [0.70973549]]\n",
      "Loss: \n",
      " 0.2805216725620296\n",
      "+---------EPOCH 2---------+\n",
      "Input: \n",
      " [[0 0 1]\n",
      " [0 1 1]\n",
      " [1 0 1]\n",
      " [0 1 0]\n",
      " [1 0 0]\n",
      " [1 1 1]\n",
      " [0 0 0]]\n",
      "Actual Output: \n",
      " [[0]\n",
      " [1]\n",
      " [1]\n",
      " [1]\n",
      " [1]\n",
      " [0]\n",
      " [0]]\n",
      "Predicted Output: \n",
      " [[0.68340443]\n",
      " [0.69964654]\n",
      " [0.70449704]\n",
      " [0.66206152]\n",
      " [0.66939356]\n",
      " [0.71685403]\n",
      " [0.64179154]]\n",
      "Loss: \n",
      " 0.2562649899291947\n",
      "+---------EPOCH 3000---------+\n",
      "Input: \n",
      " [[0 0 1]\n",
      " [0 1 1]\n",
      " [1 0 1]\n",
      " [0 1 0]\n",
      " [1 0 0]\n",
      " [1 1 1]\n",
      " [0 0 0]]\n",
      "Actual Output: \n",
      " [[0]\n",
      " [1]\n",
      " [1]\n",
      " [1]\n",
      " [1]\n",
      " [0]\n",
      " [0]]\n",
      "Predicted Output: \n",
      " [[2.98041847e-04]\n",
      " [9.23067952e-01]\n",
      " [9.23067955e-01]\n",
      " [9.18446091e-01]\n",
      " [9.18446220e-01]\n",
      " [1.62548456e-01]\n",
      " [9.16142894e-02]]\n",
      "Loss: \n",
      " 0.008564915172455004\n",
      "+---------EPOCH 6000---------+\n",
      "Input: \n",
      " [[0 0 1]\n",
      " [0 1 1]\n",
      " [1 0 1]\n",
      " [0 1 0]\n",
      " [1 0 0]\n",
      " [1 1 1]\n",
      " [0 0 0]]\n",
      "Actual Output: \n",
      " [[0]\n",
      " [1]\n",
      " [1]\n",
      " [1]\n",
      " [1]\n",
      " [0]\n",
      " [0]]\n",
      "Predicted Output: \n",
      " [[1.36558673e-04]\n",
      " [9.44496879e-01]\n",
      " [9.44496902e-01]\n",
      " [9.44446066e-01]\n",
      " [9.44446074e-01]\n",
      " [1.08379950e-01]\n",
      " [3.97818217e-02]]\n",
      "Loss: \n",
      " 0.00366607058311505\n"
     ]
    }
   ],
   "source": [
    "nn.fit(X, y, 6000, [1, 2, 3000, 6000])"
   ]
  },
  {
   "cell_type": "code",
   "execution_count": 8,
   "metadata": {
    "colab": {},
    "colab_type": "code",
    "id": "V0Z9mPgYRI-v"
   },
   "outputs": [],
   "source": [
    "predictions = np.rint(nn.feed_forward(X)).astype(int)"
   ]
  },
  {
   "cell_type": "code",
   "execution_count": 9,
   "metadata": {
    "colab": {
     "base_uri": "https://localhost:8080/",
     "height": 146
    },
    "colab_type": "code",
    "id": "mGLSvwh1RRwb",
    "outputId": "63266304-6d3d-4230-f610-be6e06575b58"
   },
   "outputs": [
    {
     "data": {
      "text/plain": [
       "array([[0],\n",
       "       [1],\n",
       "       [1],\n",
       "       [1],\n",
       "       [1],\n",
       "       [0],\n",
       "       [0]])"
      ]
     },
     "execution_count": 9,
     "metadata": {},
     "output_type": "execute_result"
    }
   ],
   "source": [
    "predictions"
   ]
  },
  {
   "cell_type": "code",
   "execution_count": 10,
   "metadata": {
    "colab": {
     "base_uri": "https://localhost:8080/",
     "height": 35
    },
    "colab_type": "code",
    "id": "VbOTNNcpSFrz",
    "outputId": "259a59db-90b7-47a7-c715-4b74039c4273"
   },
   "outputs": [
    {
     "data": {
      "text/plain": [
       "1.0"
      ]
     },
     "execution_count": 10,
     "metadata": {},
     "output_type": "execute_result"
    }
   ],
   "source": [
    "accuracy_score(df['y'], predictions)"
   ]
  },
  {
   "cell_type": "code",
   "execution_count": 11,
   "metadata": {
    "colab": {
     "base_uri": "https://localhost:8080/",
     "height": 72
    },
    "colab_type": "code",
    "id": "wQD5CcKRFwHQ",
    "outputId": "37eed82a-2a60-4384-9aaf-0c72d026ba9e"
   },
   "outputs": [
    {
     "data": {
      "text/plain": [
       "array([[ 9.63500890e-01,  6.95302436e+00,  6.51903117e+00,\n",
       "         7.89879779e+00],\n",
       "       [ 9.63502091e-01,  6.95325493e+00,  6.51981291e+00,\n",
       "         7.89828574e+00],\n",
       "       [-4.29451655e-03, -7.59234493e-01, -4.24841299e-01,\n",
       "        -1.40423730e+00]])"
      ]
     },
     "execution_count": 11,
     "metadata": {},
     "output_type": "execute_result"
    }
   ],
   "source": [
    "nn.weights1"
   ]
  },
  {
   "cell_type": "code",
   "execution_count": 12,
   "metadata": {
    "colab": {
     "base_uri": "https://localhost:8080/",
     "height": 90
    },
    "colab_type": "code",
    "id": "CuvHpZb6F1JY",
    "outputId": "ad102315-06b4-488c-f7ea-b53965531bec"
   },
   "outputs": [
    {
     "data": {
      "text/plain": [
       "array([[-33.39849508],\n",
       "       [  8.377109  ],\n",
       "       [  7.1474559 ],\n",
       "       [ 11.50615635]])"
      ]
     },
     "execution_count": 12,
     "metadata": {},
     "output_type": "execute_result"
    }
   ],
   "source": [
    "nn.weights2"
   ]
  },
  {
   "cell_type": "markdown",
   "metadata": {
    "colab_type": "text",
    "id": "8b-r70o8p2Dm"
   },
   "source": [
    "## Try building/training a more complex MLP on a bigger dataset.\n",
    "\n",
    "Use the [MNIST dataset](http://yann.lecun.com/exdb/mnist/) to build the cannonical handwriting digit recognizer and see what kind of accuracy you can achieve. \n",
    "\n",
    "If you need inspiration, the internet is chock-full of tutorials, but I want you to see how far you can get on your own first. I've linked to the original MNIST dataset above but it will probably be easier to download data through a neural network library. If you reference outside resources make sure you understand every line of code that you're using from other sources, and share with your fellow students helpful resources that you find.\n",
    "\n",
    "\n",
    "### Parts\n",
    "1. Gathering & Transforming the Data\n",
    "2. Making MNIST a Binary Problem\n",
    "3. Estimating your Neural Network (the part you focus on)"
   ]
  },
  {
   "cell_type": "markdown",
   "metadata": {
    "colab_type": "text",
    "id": "p-iTeIIgJiTL"
   },
   "source": [
    "### Gathering the Data \n",
    "\n",
    "`keras` has a handy method to pull the mnist dataset for you. You'll notice that each observation is a 28x28 arrary which represents an image. Although most Neural Network frameworks can handle higher dimensional data, that is more overhead than necessary for us. We need to flatten the image to one long row which will be 784 values (28X28). Basically, you will be appending each row to one another to make on really long row. "
   ]
  },
  {
   "cell_type": "code",
   "execution_count": 13,
   "metadata": {
    "colab": {
     "base_uri": "https://localhost:8080/",
     "height": 82
    },
    "colab_type": "code",
    "id": "qdVfZ1L3JiTM",
    "outputId": "3dea2859-4c48-4fe8-d31d-0cb2dcca4575"
   },
   "outputs": [],
   "source": [
    "from tensorflow.keras.datasets import mnist\n",
    "from tensorflow.keras.utils import to_categorical"
   ]
  },
  {
   "cell_type": "code",
   "execution_count": 14,
   "metadata": {
    "colab": {},
    "colab_type": "code",
    "id": "vSTIJrBpJiTT"
   },
   "outputs": [],
   "source": [
    "# input image dimensions\n",
    "img_rows, img_cols = 28, 28"
   ]
  },
  {
   "cell_type": "code",
   "execution_count": 15,
   "metadata": {
    "colab": {
     "base_uri": "https://localhost:8080/",
     "height": 54
    },
    "colab_type": "code",
    "id": "TMTQy5BRJiTY",
    "outputId": "e44776dc-1df4-4e2b-ac95-ce41655abee1"
   },
   "outputs": [],
   "source": [
    "# the data, split between train and test sets\n",
    "(x_train, y_train), (x_test, y_test) = mnist.load_data()"
   ]
  },
  {
   "cell_type": "code",
   "execution_count": 16,
   "metadata": {
    "colab": {},
    "colab_type": "code",
    "id": "6EEf9nvtJiTd"
   },
   "outputs": [],
   "source": [
    "x_train = x_train.reshape(x_train.shape[0], img_rows * img_cols)\n",
    "x_test = x_test.reshape(x_test.shape[0], img_rows * img_cols)\n",
    "\n",
    "# Normalize Our Data\n",
    "x_train = x_train / 255\n",
    "x_test = x_test / 255"
   ]
  },
  {
   "cell_type": "code",
   "execution_count": 17,
   "metadata": {
    "colab": {
     "base_uri": "https://localhost:8080/",
     "height": 35
    },
    "colab_type": "code",
    "id": "ST3VddGYJiTi",
    "outputId": "a7d46640-c8b4-493f-c9e9-da78acb991c8"
   },
   "outputs": [
    {
     "data": {
      "text/plain": [
       "(60000, 784)"
      ]
     },
     "execution_count": 17,
     "metadata": {},
     "output_type": "execute_result"
    }
   ],
   "source": [
    "# Now the data should be in a format you're more familiar with\n",
    "x_train.shape"
   ]
  },
  {
   "cell_type": "markdown",
   "metadata": {
    "colab_type": "text",
    "id": "-Vz0FML7JiTn"
   },
   "source": [
    "### Making MNIST a Binary Problem \n",
    "MNIST is multiclass classification problem; however we haven't covered all the necessary techniques to handle this yet. You would need to one-hot encode the target, use a different loss metric, and use softmax activations for the last layer. This is all stuff we'll cover later this week, but let us simply the problem for now: Zero or all else."
   ]
  },
  {
   "cell_type": "code",
   "execution_count": 18,
   "metadata": {
    "colab": {},
    "colab_type": "code",
    "id": "RRieSBaHJiTp"
   },
   "outputs": [],
   "source": [
    "y_temp = np.zeros(y_train.shape)\n",
    "y_temp[np.where(y_train == 0.0)[0]] = 1\n",
    "y_train = y_temp\n",
    "\n",
    "y_temp = np.zeros(y_test.shape)\n",
    "y_temp[np.where(y_test == 0.0)[0]] = 1\n",
    "y_test = y_temp"
   ]
  },
  {
   "cell_type": "code",
   "execution_count": 19,
   "metadata": {
    "colab": {
     "base_uri": "https://localhost:8080/",
     "height": 35
    },
    "colab_type": "code",
    "id": "TI2GzsnIJiTv",
    "outputId": "881a659f-8aaf-4f37-d0d7-8a4397ddd53d"
   },
   "outputs": [
    {
     "data": {
      "text/plain": [
       "array([0., 1., 0., ..., 0., 0., 0.])"
      ]
     },
     "execution_count": 19,
     "metadata": {},
     "output_type": "execute_result"
    }
   ],
   "source": [
    "# A Nice Binary target for ya to work with\n",
    "y_train"
   ]
  },
  {
   "cell_type": "markdown",
   "metadata": {
    "colab_type": "text",
    "id": "7Cy3aQwDJiTz"
   },
   "source": [
    "### Estimating Your `net"
   ]
  },
  {
   "cell_type": "code",
   "execution_count": 20,
   "metadata": {
    "colab": {},
    "colab_type": "code",
    "id": "5MOPtYdk1HgA"
   },
   "outputs": [],
   "source": [
    "class NeuralNetwork2:\n",
    "    def __init__(self, inputs=2, hiddenNodes=[3], outputNodes=1):\n",
    "        # Set up Architecture of Neural Network\n",
    "        self.inputs = inputs\n",
    "        self.hiddenNodes = hiddenNodes\n",
    "        self.outputNodes = outputNodes\n",
    "\n",
    "        # Initial Weights\n",
    "        if len(hiddenNodes) == 0:\n",
    "            self.weights = [np.random.rand(self.inputs, self.outputNodes)]\n",
    "        else:\n",
    "            self.weights = [np.random.rand(self.inputs, self.hiddenNodes[0])]\n",
    "            for i in range(1, len(hiddenNodes)):\n",
    "                self.weights.append(np.random.rand((hiddenNodes[i-1]), hiddenNodes[i]))\n",
    "            self.weights.append(np.random.rand(hiddenNodes[-1], outputNodes))\n",
    "        \n",
    "    def sigmoid(self, s):\n",
    "        return 1 / (1 + np.exp(-s))\n",
    "    \n",
    "    def sigmoidPrime(self, s):\n",
    "        return s * (1 - s)\n",
    "    \n",
    "    def feed_forward(self, X):\n",
    "        \"\"\"\n",
    "        Calculate the NN inference using feed forward.\n",
    "        aka \"predict\"\n",
    "        \"\"\"\n",
    "        \n",
    "        # Weighted sum of inputs => hidden layer\n",
    "        weighted_sum = np.dot(X, self.weights[0])\n",
    "        self.activated_outputs = [self.sigmoid(weighted_sum)]\n",
    "        for i in range(1, len(self.weights)):\n",
    "            weighted_sum = np.dot(self.activated_outputs[i-1], self.weights[i])\n",
    "            self.activated_outputs.append(self.sigmoid(weighted_sum))\n",
    "                \n",
    "        return self.activated_outputs[-1]\n",
    "        \n",
    "    def backward(self, X, y, o):\n",
    "        \"\"\"\n",
    "        Backward propagate through the network\n",
    "        \"\"\"\n",
    "        \n",
    "        # Error in Output\n",
    "        self.o_error = y - o\n",
    "        \n",
    "        # Apply Derivative of Sigmoid to error\n",
    "        # How far off are we in relation to the Sigmoid f(x) of the output\n",
    "        # ^- aka hidden => output\n",
    "        self.o_delta = self.o_error * self.sigmoidPrime(o)\n",
    "        z2_error = self.o_delta.dot(self.weights[-1].T)\n",
    "\n",
    "        # Adjustment to final set of weights (hidden => output)\n",
    "        if len(self.weights) == 1:\n",
    "            self.weights[0] += X.T.dot(self.o_delta)\n",
    "            return\n",
    "        \n",
    "        self.weights[-1] += self.activated_outputs[-2].T.dot(self.o_delta)\n",
    "        \n",
    "        # Hidden layer error\n",
    "        for i in reversed(range(2, len(self.weights))):\n",
    "            z2_delta = z2_error * self.sigmoidPrime(self.activated_outputs[i-1])\n",
    "            z2_error = z2_delta.dot(self.weights[i-1].T)\n",
    "        \n",
    "            # Adjustment to interior set of weights (hidden => hidden)\n",
    "            self.weights[i-1] += self.activated_outputs[i-2].T.dot(z2_delta)\n",
    "        \n",
    "        # Input layer error\n",
    "        z2_delta = z2_error * self.sigmoidPrime(self.activated_outputs[0])\n",
    "        self.weights[0] += X.T.dot(z2_delta)\n",
    "\n",
    "    def train(self, X, y):\n",
    "        o = self.feed_forward(X)\n",
    "        self.backward(X, y, o)\n",
    "\n",
    "    def fit(self, X, y, max_epochs, print_epochs):\n",
    "        for i in range(max_epochs):\n",
    "            if (i+ 1 in print_epochs): \n",
    "                print('+' + '---' * 3 + f'EPOCH {i + 1}' + '---' * 3 + '+')\n",
    "                print('Input: \\n', X)\n",
    "                print('Actual Output: \\n', y)\n",
    "                print('Predicted Output: \\n', str(self.feed_forward(X)))\n",
    "                print(\"Loss: \\n\", str(np.mean(np.square(y - self.feed_forward(X)))))\n",
    "            self.train(X, y)"
   ]
  },
  {
   "cell_type": "code",
   "execution_count": 21,
   "metadata": {
    "colab": {},
    "colab_type": "code",
    "id": "J4ryJT8cZdvS"
   },
   "outputs": [],
   "source": [
    "nn2 = NeuralNetwork2(inputs=3, hiddenNodes=[4], outputNodes=1)"
   ]
  },
  {
   "cell_type": "code",
   "execution_count": 22,
   "metadata": {
    "colab": {
     "base_uri": "https://localhost:8080/",
     "height": 1000
    },
    "colab_type": "code",
    "id": "b2tcUty3aKjc",
    "outputId": "a472cacf-b895-4a2b-ea49-e9f9d4581c5a"
   },
   "outputs": [
    {
     "name": "stdout",
     "output_type": "stream",
     "text": [
      "+---------EPOCH 1---------+\n",
      "Input: \n",
      " [[0 0 1]\n",
      " [0 1 1]\n",
      " [1 0 1]\n",
      " [0 1 0]\n",
      " [1 0 0]\n",
      " [1 1 1]\n",
      " [0 0 0]]\n",
      "Actual Output: \n",
      " [[0]\n",
      " [1]\n",
      " [1]\n",
      " [1]\n",
      " [1]\n",
      " [0]\n",
      " [0]]\n",
      "Predicted Output: \n",
      " [[0.81884995]\n",
      " [0.85515717]\n",
      " [0.86084247]\n",
      " [0.82547055]\n",
      " [0.8315232 ]\n",
      " [0.88369043]\n",
      " [0.77724508]]\n",
      "Loss: \n",
      " 0.307817591791039\n",
      "+---------EPOCH 2---------+\n",
      "Input: \n",
      " [[0 0 1]\n",
      " [0 1 1]\n",
      " [1 0 1]\n",
      " [0 1 0]\n",
      " [1 0 0]\n",
      " [1 1 1]\n",
      " [0 0 0]]\n",
      "Actual Output: \n",
      " [[0]\n",
      " [1]\n",
      " [1]\n",
      " [1]\n",
      " [1]\n",
      " [0]\n",
      " [0]]\n",
      "Predicted Output: \n",
      " [[0.75477619]\n",
      " [0.79098627]\n",
      " [0.79490713]\n",
      " [0.76296851]\n",
      " [0.76663509]\n",
      " [0.81978185]\n",
      " [0.7182116 ]]\n",
      "Loss: \n",
      " 0.2791357436765027\n",
      "+---------EPOCH 3---------+\n",
      "Input: \n",
      " [[0 0 1]\n",
      " [0 1 1]\n",
      " [1 0 1]\n",
      " [0 1 0]\n",
      " [1 0 0]\n",
      " [1 1 1]\n",
      " [0 0 0]]\n",
      "Actual Output: \n",
      " [[0]\n",
      " [1]\n",
      " [1]\n",
      " [1]\n",
      " [1]\n",
      " [0]\n",
      " [0]]\n",
      "Predicted Output: \n",
      " [[0.68204714]\n",
      " [0.71336668]\n",
      " [0.71385449]\n",
      " [0.69030237]\n",
      " [0.69020045]\n",
      " [0.73689787]\n",
      " [0.65354828]]\n",
      "Loss: \n",
      " 0.25589406072004406\n",
      "+---------EPOCH 5000---------+\n",
      "Input: \n",
      " [[0 0 1]\n",
      " [0 1 1]\n",
      " [1 0 1]\n",
      " [0 1 0]\n",
      " [1 0 0]\n",
      " [1 1 1]\n",
      " [0 0 0]]\n",
      "Actual Output: \n",
      " [[0]\n",
      " [1]\n",
      " [1]\n",
      " [1]\n",
      " [1]\n",
      " [0]\n",
      " [0]]\n",
      "Predicted Output: \n",
      " [[0.00367046]\n",
      " [0.98274659]\n",
      " [0.98263849]\n",
      " [0.98407765]\n",
      " [0.98419346]\n",
      " [0.00930843]\n",
      " [0.04018264]]\n",
      "Loss: \n",
      " 0.00040246198615970935\n"
     ]
    }
   ],
   "source": [
    "nn2.fit(X, y, 5000, [1, 2, 3, 5000])"
   ]
  },
  {
   "cell_type": "code",
   "execution_count": 23,
   "metadata": {
    "colab": {},
    "colab_type": "code",
    "id": "PIAc9bZmb-qr"
   },
   "outputs": [],
   "source": [
    "predictions2 = np.rint(nn2.feed_forward(X))"
   ]
  },
  {
   "cell_type": "code",
   "execution_count": 24,
   "metadata": {
    "colab": {
     "base_uri": "https://localhost:8080/",
     "height": 35
    },
    "colab_type": "code",
    "id": "ZKTgDOxNIPKg",
    "outputId": "f8e6af35-c160-4ebc-cab6-67d5e631fcc8"
   },
   "outputs": [
    {
     "data": {
      "text/plain": [
       "1.0"
      ]
     },
     "execution_count": 24,
     "metadata": {},
     "output_type": "execute_result"
    }
   ],
   "source": [
    "accuracy_score(y, predictions2)"
   ]
  },
  {
   "cell_type": "code",
   "execution_count": 25,
   "metadata": {
    "colab": {},
    "colab_type": "code",
    "id": "YsTSvMJdIW6_"
   },
   "outputs": [],
   "source": [
    "nn2 = NeuralNetwork2(inputs=3, hiddenNodes=[2, 3], outputNodes=1)"
   ]
  },
  {
   "cell_type": "code",
   "execution_count": 26,
   "metadata": {
    "colab": {
     "base_uri": "https://localhost:8080/",
     "height": 1000
    },
    "colab_type": "code",
    "id": "V2dNVqN9Ioxe",
    "outputId": "f48a46a4-7af6-4205-b522-57740ea33a4c"
   },
   "outputs": [
    {
     "name": "stdout",
     "output_type": "stream",
     "text": [
      "+---------EPOCH 1---------+\n",
      "Input: \n",
      " [[0 0 1]\n",
      " [0 1 1]\n",
      " [1 0 1]\n",
      " [0 1 0]\n",
      " [1 0 0]\n",
      " [1 1 1]\n",
      " [0 0 0]]\n",
      "Actual Output: \n",
      " [[0]\n",
      " [1]\n",
      " [1]\n",
      " [1]\n",
      " [1]\n",
      " [0]\n",
      " [0]]\n",
      "Predicted Output: \n",
      " [[0.59792454]\n",
      " [0.60172331]\n",
      " [0.60157671]\n",
      " [0.59832441]\n",
      " [0.59815954]\n",
      " [0.60399552]\n",
      " [0.5933822 ]]\n",
      "Loss: \n",
      " 0.24494446679891915\n",
      "+---------EPOCH 2---------+\n",
      "Input: \n",
      " [[0 0 1]\n",
      " [0 1 1]\n",
      " [1 0 1]\n",
      " [0 1 0]\n",
      " [1 0 0]\n",
      " [1 1 1]\n",
      " [0 0 0]]\n",
      "Actual Output: \n",
      " [[0]\n",
      " [1]\n",
      " [1]\n",
      " [1]\n",
      " [1]\n",
      " [0]\n",
      " [0]]\n",
      "Predicted Output: \n",
      " [[0.58675306]\n",
      " [0.59024584]\n",
      " [0.59011735]\n",
      " [0.58713788]\n",
      " [0.5869944 ]\n",
      " [0.59232891]\n",
      " [0.58258743]]\n",
      "Loss: \n",
      " 0.24449597374741047\n",
      "+---------EPOCH 3---------+\n",
      "Input: \n",
      " [[0 0 1]\n",
      " [0 1 1]\n",
      " [1 0 1]\n",
      " [0 1 0]\n",
      " [1 0 0]\n",
      " [1 1 1]\n",
      " [0 0 0]]\n",
      "Actual Output: \n",
      " [[0]\n",
      " [1]\n",
      " [1]\n",
      " [1]\n",
      " [1]\n",
      " [0]\n",
      " [0]]\n",
      "Predicted Output: \n",
      " [[0.58049815]\n",
      " [0.5838263 ]\n",
      " [0.58370805]\n",
      " [0.5808785 ]\n",
      " [0.58074714]\n",
      " [0.58580631]\n",
      " [0.57653747]]\n",
      "Loss: \n",
      " 0.24435398891909615\n",
      "+---------EPOCH 5000---------+\n",
      "Input: \n",
      " [[0 0 1]\n",
      " [0 1 1]\n",
      " [1 0 1]\n",
      " [0 1 0]\n",
      " [1 0 0]\n",
      " [1 1 1]\n",
      " [0 0 0]]\n",
      "Actual Output: \n",
      " [[0]\n",
      " [1]\n",
      " [1]\n",
      " [1]\n",
      " [1]\n",
      " [0]\n",
      " [0]]\n",
      "Predicted Output: \n",
      " [[1.92802435e-06]\n",
      " [9.85854186e-01]\n",
      " [9.85853905e-01]\n",
      " [9.85835609e-01]\n",
      " [9.85835936e-01]\n",
      " [2.36861186e-02]\n",
      " [1.12375110e-03]]\n",
      "Loss: \n",
      " 0.00019482310749223297\n"
     ]
    }
   ],
   "source": [
    "nn2.fit(X, y, 5000, [1, 2, 3, 5000])"
   ]
  },
  {
   "cell_type": "code",
   "execution_count": 27,
   "metadata": {},
   "outputs": [],
   "source": [
    "predictions2 = np.rint(nn2.feed_forward(X))"
   ]
  },
  {
   "cell_type": "code",
   "execution_count": 28,
   "metadata": {},
   "outputs": [
    {
     "data": {
      "text/plain": [
       "1.0"
      ]
     },
     "execution_count": 28,
     "metadata": {},
     "output_type": "execute_result"
    }
   ],
   "source": [
    "accuracy_score(y, predictions2)"
   ]
  },
  {
   "cell_type": "code",
   "execution_count": 29,
   "metadata": {},
   "outputs": [],
   "source": [
    "nn2 = NeuralNetwork2(inputs=3, hiddenNodes=[], outputNodes=1)"
   ]
  },
  {
   "cell_type": "code",
   "execution_count": 30,
   "metadata": {},
   "outputs": [
    {
     "name": "stdout",
     "output_type": "stream",
     "text": [
      "+---------EPOCH 1---------+\n",
      "Input: \n",
      " [[0 0 1]\n",
      " [0 1 1]\n",
      " [1 0 1]\n",
      " [0 1 0]\n",
      " [1 0 0]\n",
      " [1 1 1]\n",
      " [0 0 0]]\n",
      "Actual Output: \n",
      " [[0]\n",
      " [1]\n",
      " [1]\n",
      " [1]\n",
      " [1]\n",
      " [0]\n",
      " [0]]\n",
      "Predicted Output: \n",
      " [[0.52181481]\n",
      " [0.5961948 ]\n",
      " [0.58406893]\n",
      " [0.57500961]\n",
      " [0.56271419]\n",
      " [0.65516469]\n",
      " [0.5       ]]\n",
      "Loss: \n",
      " 0.23706063780145983\n",
      "+---------EPOCH 2---------+\n",
      "Input: \n",
      " [[0 0 1]\n",
      " [0 1 1]\n",
      " [1 0 1]\n",
      " [0 1 0]\n",
      " [1 0 0]\n",
      " [1 1 1]\n",
      " [0 0 0]]\n",
      "Actual Output: \n",
      " [[0]\n",
      " [1]\n",
      " [1]\n",
      " [1]\n",
      " [1]\n",
      " [0]\n",
      " [0]]\n",
      "Predicted Output: \n",
      " [[0.50183743]\n",
      " [0.58969961]\n",
      " [0.57936371]\n",
      " [0.58792014]\n",
      " [0.57757153]\n",
      " [0.66274162]\n",
      " [0.5       ]]\n",
      "Loss: \n",
      " 0.23351488416822988\n",
      "+---------EPOCH 3---------+\n",
      "Input: \n",
      " [[0 0 1]\n",
      " [0 1 1]\n",
      " [1 0 1]\n",
      " [0 1 0]\n",
      " [1 0 0]\n",
      " [1 1 1]\n",
      " [0 0 0]]\n",
      "Actual Output: \n",
      " [[0]\n",
      " [1]\n",
      " [1]\n",
      " [1]\n",
      " [1]\n",
      " [0]\n",
      " [0]]\n",
      "Predicted Output: \n",
      " [[0.48389127]\n",
      " [0.58465012]\n",
      " [0.57585902]\n",
      " [0.60021225]\n",
      " [0.59152041]\n",
      " [0.6708753 ]\n",
      " [0.5       ]]\n",
      "Loss: \n",
      " 0.23047447617754782\n",
      "+---------EPOCH 5000---------+\n",
      "Input: \n",
      " [[0 0 1]\n",
      " [0 1 1]\n",
      " [1 0 1]\n",
      " [0 1 0]\n",
      " [1 0 0]\n",
      " [1 1 1]\n",
      " [0 0 0]]\n",
      "Actual Output: \n",
      " [[0]\n",
      " [1]\n",
      " [1]\n",
      " [1]\n",
      " [1]\n",
      " [0]\n",
      " [0]]\n",
      "Predicted Output: \n",
      " [[0.02377106]\n",
      " [0.98492157]\n",
      " [0.98492157]\n",
      " [0.99962736]\n",
      " [0.99962736]\n",
      " [0.99999429]\n",
      " [0.5       ]]\n",
      "Loss: \n",
      " 0.17871552078294536\n"
     ]
    }
   ],
   "source": [
    "nn2.fit(X, y, 5000, [1, 2, 3, 5000])"
   ]
  },
  {
   "cell_type": "code",
   "execution_count": 31,
   "metadata": {
    "colab": {},
    "colab_type": "code",
    "id": "lU-xxLumLApO"
   },
   "outputs": [],
   "source": [
    "nn_mnist = NeuralNetwork2(inputs=784, hiddenNodes=[3], outputNodes=1)"
   ]
  },
  {
   "cell_type": "code",
   "execution_count": 32,
   "metadata": {
    "colab": {
     "base_uri": "https://localhost:8080/",
     "height": 366
    },
    "colab_type": "code",
    "id": "xedulkwPKql3",
    "outputId": "c8eb8c76-bb18-4ae0-f190-b3281f3ba7d6"
   },
   "outputs": [
    {
     "name": "stdout",
     "output_type": "stream",
     "text": [
      "+---------EPOCH 1---------+\n",
      "Input: \n",
      " [[0. 0. 0. ... 0. 0. 0.]\n",
      " [0. 0. 0. ... 0. 0. 0.]\n",
      " [0. 0. 0. ... 0. 0. 0.]\n",
      " ...\n",
      " [0. 0. 0. ... 0. 0. 0.]\n",
      " [0. 0. 0. ... 0. 0. 0.]\n",
      " [0. 0. 0. ... 0. 0. 0.]]\n",
      "Actual Output: \n",
      " [[0.]\n",
      " [1.]\n",
      " [0.]\n",
      " [0.]\n",
      " [0.]\n",
      " [0.]\n",
      " [0.]\n",
      " [0.]\n",
      " [0.]\n",
      " [0.]]\n",
      "Predicted Output: \n",
      " [[0.81706208]\n",
      " [0.81706208]\n",
      " [0.81706208]\n",
      " [0.81706208]\n",
      " [0.81706208]\n",
      " [0.81706208]\n",
      " [0.81706208]\n",
      " [0.81706208]\n",
      " [0.81706208]\n",
      " [0.81706208]]\n",
      "Loss: \n",
      " 0.6041780244539172\n",
      "+---------EPOCH 2---------+\n",
      "Input: \n",
      " [[0. 0. 0. ... 0. 0. 0.]\n",
      " [0. 0. 0. ... 0. 0. 0.]\n",
      " [0. 0. 0. ... 0. 0. 0.]\n",
      " ...\n",
      " [0. 0. 0. ... 0. 0. 0.]\n",
      " [0. 0. 0. ... 0. 0. 0.]\n",
      " [0. 0. 0. ... 0. 0. 0.]]\n",
      "Actual Output: \n",
      " [[0.]\n",
      " [1.]\n",
      " [0.]\n",
      " [0.]\n",
      " [0.]\n",
      " [0.]\n",
      " [0.]\n",
      " [0.]\n",
      " [0.]\n",
      " [0.]]\n",
      "Predicted Output: \n",
      " [[0.15201998]\n",
      " [0.15201998]\n",
      " [0.15201998]\n",
      " [0.15201998]\n",
      " [0.15201998]\n",
      " [0.15201998]\n",
      " [0.15201998]\n",
      " [0.15201998]\n",
      " [0.15201998]\n",
      " [0.15201998]]\n",
      "Loss: \n",
      " 0.09270607852568466\n",
      "+---------EPOCH 3---------+\n",
      "Input: \n",
      " [[0. 0. 0. ... 0. 0. 0.]\n",
      " [0. 0. 0. ... 0. 0. 0.]\n",
      " [0. 0. 0. ... 0. 0. 0.]\n",
      " ...\n",
      " [0. 0. 0. ... 0. 0. 0.]\n",
      " [0. 0. 0. ... 0. 0. 0.]\n",
      " [0. 0. 0. ... 0. 0. 0.]]\n",
      "Actual Output: \n",
      " [[0.]\n",
      " [1.]\n",
      " [0.]\n",
      " [0.]\n",
      " [0.]\n",
      " [0.]\n",
      " [0.]\n",
      " [0.]\n",
      " [0.]\n",
      " [0.]]\n",
      "Predicted Output: \n",
      " [[0.12785913]\n",
      " [0.12785913]\n",
      " [0.12785913]\n",
      " [0.12785913]\n",
      " [0.12785913]\n",
      " [0.12785913]\n",
      " [0.12785913]\n",
      " [0.12785913]\n",
      " [0.12785913]\n",
      " [0.12785913]]\n",
      "Loss: \n",
      " 0.09077613125115729\n",
      "+---------EPOCH 1000---------+\n",
      "Input: \n",
      " [[0. 0. 0. ... 0. 0. 0.]\n",
      " [0. 0. 0. ... 0. 0. 0.]\n",
      " [0. 0. 0. ... 0. 0. 0.]\n",
      " ...\n",
      " [0. 0. 0. ... 0. 0. 0.]\n",
      " [0. 0. 0. ... 0. 0. 0.]\n",
      " [0. 0. 0. ... 0. 0. 0.]]\n",
      "Actual Output: \n",
      " [[0.]\n",
      " [1.]\n",
      " [0.]\n",
      " [0.]\n",
      " [0.]\n",
      " [0.]\n",
      " [0.]\n",
      " [0.]\n",
      " [0.]\n",
      " [0.]]\n",
      "Predicted Output: \n",
      " [[0.1]\n",
      " [0.1]\n",
      " [0.1]\n",
      " [0.1]\n",
      " [0.1]\n",
      " [0.1]\n",
      " [0.1]\n",
      " [0.1]\n",
      " [0.1]\n",
      " [0.1]]\n",
      "Loss: \n",
      " 0.09000000001918365\n"
     ]
    }
   ],
   "source": [
    "nn_mnist.fit(x_train[:10], np.expand_dims(y_train[:10], axis=1), 1000, [1, 2, 3, 1000])"
   ]
  },
  {
   "cell_type": "code",
   "execution_count": 33,
   "metadata": {},
   "outputs": [],
   "source": [
    "mnist_predict = nn_mnist.feed_forward(x_train[:10])"
   ]
  },
  {
   "cell_type": "code",
   "execution_count": 34,
   "metadata": {},
   "outputs": [
    {
     "data": {
      "text/plain": [
       "0.9"
      ]
     },
     "execution_count": 34,
     "metadata": {},
     "output_type": "execute_result"
    }
   ],
   "source": [
    "accuracy_score(y_train[:10], np.rint(mnist_predict))"
   ]
  },
  {
   "cell_type": "code",
   "execution_count": 35,
   "metadata": {},
   "outputs": [
    {
     "data": {
      "text/plain": [
       "array([9, 1], dtype=int64)"
      ]
     },
     "execution_count": 35,
     "metadata": {},
     "output_type": "execute_result"
    }
   ],
   "source": [
    "np.bincount(y_train[:10].astype(int))"
   ]
  },
  {
   "cell_type": "code",
   "execution_count": 36,
   "metadata": {},
   "outputs": [
    {
     "data": {
      "text/plain": [
       "array([1], dtype=int64)"
      ]
     },
     "execution_count": 36,
     "metadata": {},
     "output_type": "execute_result"
    }
   ],
   "source": [
    "np.bincount(np.rint(mnist_predict[0]).astype(int))"
   ]
  },
  {
   "cell_type": "markdown",
   "metadata": {
    "colab_type": "text",
    "id": "FwlRJSfBlCvy"
   },
   "source": [
    "## Stretch Goals: \n",
    "\n",
    "- Make MNIST a multiclass problem using cross entropy & soft-max\n",
    "- Implement Cross Validation model evaluation on your MNIST implementation \n",
    "- Research different [Gradient Descent Based Optimizers](https://keras.io/optimizers/)\n",
    " - [Siraj Raval the evolution of gradient descent](https://www.youtube.com/watch?v=nhqo0u1a6fw)\n",
    "- Build a housing price estimation model using a neural network. How does its accuracy compare with the regression models that we fit earlier on in class?"
   ]
  },
  {
   "cell_type": "code",
   "execution_count": null,
   "metadata": {
    "colab": {},
    "colab_type": "code",
    "id": "c42YQ8N3a-Ll"
   },
   "outputs": [],
   "source": []
  }
 ],
 "metadata": {
  "colab": {
   "collapsed_sections": [],
   "machine_shape": "hm",
   "name": "LS_DS_422_Backprop_Assignment.ipynb",
   "provenance": []
  },
  "kernelspec": {
   "display_name": "Python 3",
   "language": "python",
   "name": "python3"
  },
  "language_info": {
   "codemirror_mode": {
    "name": "ipython",
    "version": 3
   },
   "file_extension": ".py",
   "mimetype": "text/x-python",
   "name": "python",
   "nbconvert_exporter": "python",
   "pygments_lexer": "ipython3",
   "version": "3.7.3"
  }
 },
 "nbformat": 4,
 "nbformat_minor": 1
}
