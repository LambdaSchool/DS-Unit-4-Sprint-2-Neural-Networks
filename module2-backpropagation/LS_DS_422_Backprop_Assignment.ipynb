{
 "cells": [
  {
   "cell_type": "markdown",
   "metadata": {
    "colab_type": "text",
    "id": "NGGrt9EYlCqY"
   },
   "source": [
    "# Backpropagation Practice\n",
    "\n",
    "Implement a 3 input, 4 node hidden-layer, 1 output node Multilayer Perceptron on the following dataset:\n",
    "\n",
    "| x1 | x2 | x3 | y |\n",
    "|----|----|----|---|\n",
    "| 0  | 0  | 1  | 0 |\n",
    "| 0  | 1  | 1  | 1 |\n",
    "| 1  | 0  | 1  | 1 |\n",
    "| 0  | 1  | 0  | 1 |\n",
    "| 1  | 0  | 0  | 1 |\n",
    "| 1  | 1  | 1  | 0 |\n",
    "| 0  | 0  | 0  | 0 |\n",
    "\n",
    "If you look at the data you'll notice that the first two columns behave like an XOR gate while the last column is mostly just noise. Remember that creating an XOR gate was what the perceptron was criticized for not being able to learn. "
   ]
  },
  {
   "cell_type": "code",
   "execution_count": 6,
   "metadata": {
    "colab": {},
    "colab_type": "code",
    "id": "nEREYT-3wI1f"
   },
   "outputs": [],
   "source": [
    "# training data\n",
    "\n",
    "import numpy as np\n",
    "\n",
    "X = np.array([[0,0,1],[0,1,1],[1,0,1],[0,1,0], [1,0,0], [1,1,1], [0,0,0]])\n",
    "y = [[0], [1], [1], [1], [1], [0], [0]]\n"
   ]
  },
  {
   "cell_type": "code",
   "execution_count": 3,
   "metadata": {},
   "outputs": [],
   "source": [
    "class NeuralNetwork:\n",
    "    def __init__(self):\n",
    "        # Set up Architecture of Neural Network\n",
    "        self.input = 3\n",
    "        self.hiddenNodes = 4\n",
    "        self.outputNodes = 1\n",
    "        \n",
    "        # Initial Weights\n",
    "        # 3x4 Matrix Array for the First Layer\n",
    "        self.weights1 = np.random.randn(self.input,self.hiddenNodes)\n",
    "        # 4x1 Matrix Array for Hidden to Output\n",
    "        self.weights2 = np.random.randn(self.hiddenNodes, self.outputNodes)"
   ]
  },
  {
   "cell_type": "code",
   "execution_count": 4,
   "metadata": {},
   "outputs": [
    {
     "name": "stdout",
     "output_type": "stream",
     "text": [
      "Layer 1 weights: \n",
      " [[-0.09576852 -0.79719475 -0.08461359 -0.89554281]\n",
      " [-0.50106216 -0.46304678  0.85022985 -0.67078977]\n",
      " [-0.88560674 -0.30941571 -0.68014494  0.42957375]]\n",
      "Layer 2 weights: \n",
      " [[-1.41734931]\n",
      " [ 0.88558848]\n",
      " [-0.34277147]\n",
      " [ 0.41367125]]\n"
     ]
    }
   ],
   "source": [
    "nn = NeuralNetwork()\n",
    "\n",
    "print(\"Layer 1 weights: \\n\", nn.weights1)\n",
    "print(\"Layer 2 weights: \\n\", nn.weights2)"
   ]
  },
  {
   "cell_type": "code",
   "execution_count": 8,
   "metadata": {},
   "outputs": [],
   "source": [
    "class NeuralNetwork:\n",
    "    def __init__(self):\n",
    "        # Set up Architecture of Neural Network\n",
    "        self.input = 3\n",
    "        self.hiddenNodes = 4\n",
    "        self.outputNodes = 1\n",
    "        \n",
    "        # Initial Weights\n",
    "        # 3x4 Matrix Array for the First Layer\n",
    "        self.weights1 = np.random.randn(self.input,self.hiddenNodes)\n",
    "        # 4x1 Matrix Array for Hidden to Output\n",
    "        self.weights2 = np.random.randn(self.hiddenNodes, self.outputNodes)\n",
    "    \n",
    "    def sigmoid(self, x):\n",
    "        return 1 / (1+np.exp(-x))\n",
    "    \n",
    "    def feed_forward(self,X):\n",
    "        \"\"\"\n",
    "        Calculate the NN inference using feed forward.\n",
    "        \"\"\"\n",
    "        \n",
    "        # Weighted sum of inputs & hidden\n",
    "        self.hidden_sum = np.dot(X, self.weights1)\n",
    "        \n",
    "        # Activations of weighted sum\n",
    "        self.activated_hidden = self.sigmoid(self.hidden_sum)\n",
    "        \n",
    "        # Weighted sum between hidden and output\n",
    "        self.output_sum = np.dot(self.activated_hidden, self.weights2)\n",
    "        \n",
    "        # Final Activation of output\n",
    "        self.activated_output = self.sigmoid(self.output_sum)\n",
    "        \n",
    "        return self.activated_output"
   ]
  },
  {
   "cell_type": "code",
   "execution_count": 9,
   "metadata": {},
   "outputs": [
    {
     "name": "stdout",
     "output_type": "stream",
     "text": [
      "[0 0 1]\n",
      "output [0.28078773]\n"
     ]
    }
   ],
   "source": [
    "# generate an output\n",
    "\n",
    "nn = NeuralNetwork()\n",
    "\n",
    "print(X[0])\n",
    "output = nn.feed_forward(X[0])\n",
    "print(\"output\", output)"
   ]
  },
  {
   "cell_type": "code",
   "execution_count": 11,
   "metadata": {},
   "outputs": [
    {
     "name": "stdout",
     "output_type": "stream",
     "text": [
      "[[0.28078773]\n",
      " [0.36811065]\n",
      " [0.2645386 ]\n",
      " [0.35927458]\n",
      " [0.26308314]\n",
      " [0.36424986]\n",
      " [0.28351458]]\n",
      "[[-0.28078773]\n",
      " [ 0.63188935]\n",
      " [ 0.7354614 ]\n",
      " [ 0.64072542]\n",
      " [ 0.73691686]\n",
      " [-0.36424986]\n",
      " [-0.28351458]]\n"
     ]
    }
   ],
   "source": [
    "# calculate error\n",
    "\n",
    "output_all = nn.feed_forward(X)\n",
    "error_all = y - output_all\n",
    "print(output_all)\n",
    "print(error_all)"
   ]
  },
  {
   "cell_type": "code",
   "execution_count": 12,
   "metadata": {},
   "outputs": [],
   "source": [
    "class NeuralNetwork:\n",
    "    def __init__(self):\n",
    "        # Set up Architecture of Neural Network\n",
    "        self.input = 3\n",
    "        self.hiddenNodes = 4\n",
    "        self.outputNodes = 1\n",
    "        \n",
    "        # Initial Weights\n",
    "        # 3x4 Matrix Array for the First Layer\n",
    "        self.weights1 = np.random.randn(self.input,self.hiddenNodes)\n",
    "        # 4x1 Matrix Array for Hidden to Output\n",
    "        self.weights2 = np.random.randn(self.hiddenNodes, self.outputNodes)\n",
    "    \n",
    "    def sigmoid(self, x):\n",
    "        return 1 / (1+np.exp(-x))\n",
    "    \n",
    "    def sigmoidPrime(self, x):\n",
    "        return x * (1 - x)\n",
    "    \n",
    "    def feed_forward(self,X):\n",
    "        \"\"\"\n",
    "        Calculate the NN inference using feed forward.\n",
    "        \"\"\"\n",
    "        \n",
    "        # Weighted sum of inputs & hidden\n",
    "        self.hidden_sum = np.dot(X, self.weights1)\n",
    "        \n",
    "        # Activations of weighted sum\n",
    "        self.activated_hidden = self.sigmoid(self.hidden_sum)\n",
    "        \n",
    "        # Weighted sum between hidden and output\n",
    "        self.output_sum = np.dot(self.activated_hidden, self.weights2)\n",
    "        \n",
    "        # Final Activation of output\n",
    "        self.activated_output = self.sigmoid(self.output_sum)\n",
    "        \n",
    "        return self.activated_output\n",
    "    \n",
    "    def backward(self, X, y, o):\n",
    "        \"\"\"\n",
    "        Backward propagate through the network\n",
    "        \"\"\"\n",
    "        self.o_error = y - o #error in output\n",
    "        self.o_delta = self.o_error * self.sigmoidPrime(o) # apply derivative of sigmoid to error\n",
    "        \n",
    "        self.z2_error = self.o_delta.dot(self.weights2.T) # z2 error: how much our hidden layer weights were off\n",
    "        self.z2_delta = self.z2_error*self.sigmoidPrime(self.activated_hidden)\n",
    "        \n",
    "        self.weights1 += X.T.dot(self.z2_delta) #Adjust first set (input => hidden) weights\n",
    "        self.weights2 += self.activated_hidden.T.dot(self.o_delta) #adjust second set (hidden => output) weights\n",
    "        \n",
    "    def train(self, X, y):\n",
    "        o = self.feed_forward(X)\n",
    "        self.backward(X, y, o)"
   ]
  },
  {
   "cell_type": "code",
   "execution_count": 14,
   "metadata": {},
   "outputs": [
    {
     "name": "stdout",
     "output_type": "stream",
     "text": [
      "+---------EPOCH 100---------+\n",
      "Predicted Output: \n",
      " [[0.13544093]\n",
      " [0.67572397]\n",
      " [0.65640884]\n",
      " [0.8272057 ]\n",
      " [0.80602869]\n",
      " [0.64864557]\n",
      " [0.2346043 ]]\n",
      "Loss: \n",
      " 0.11211672304612329\n",
      "+---------EPOCH 200---------+\n",
      "Predicted Output: \n",
      " [[0.05819767]\n",
      " [0.7996175 ]\n",
      " [0.79737584]\n",
      " [0.86177908]\n",
      " [0.86032445]\n",
      " [0.32554651]\n",
      " [0.1022775 ]]\n",
      "Loss: \n",
      " 0.03423602379754021\n",
      "+---------EPOCH 300---------+\n",
      "Predicted Output: \n",
      " [[0.03349886]\n",
      " [0.87698323]\n",
      " [0.87649251]\n",
      " [0.90677842]\n",
      " [0.90659006]\n",
      " [0.18983864]\n",
      " [0.07002269]]\n",
      "Loss: \n",
      " 0.012838137822597804\n",
      "+---------EPOCH 400---------+\n",
      "Predicted Output: \n",
      " [[0.02395483]\n",
      " [0.90737594]\n",
      " [0.90712577]\n",
      " [0.92747625]\n",
      " [0.92740037]\n",
      " [0.14080384]\n",
      " [0.05688848]]\n",
      "Loss: \n",
      " 0.007338727684544891\n",
      "+---------EPOCH 500---------+\n",
      "Predicted Output: \n",
      " [[0.01900635]\n",
      " [0.92357648]\n",
      " [0.92340883]\n",
      " [0.93907398]\n",
      " [0.93903086]\n",
      " [0.11532392]\n",
      " [0.04931362]]\n",
      "Loss: \n",
      " 0.005032665493381891\n",
      "+---------EPOCH 600---------+\n",
      "Predicted Output: \n",
      " [[0.0159613 ]\n",
      " [0.93382366]\n",
      " [0.93369661]\n",
      " [0.94660803]\n",
      " [0.94657992]\n",
      " [0.09941306]\n",
      " [0.04421613]]\n",
      "Loss: \n",
      " 0.0037960915776297705\n",
      "+---------EPOCH 700---------+\n",
      "Predicted Output: \n",
      " [[0.01388338]\n",
      " [0.94098842]\n",
      " [0.94088534]\n",
      " [0.95196871]\n",
      " [0.95194904]\n",
      " [0.08837727]\n",
      " [0.04047625]]\n",
      "Loss: \n",
      " 0.0030334896232830717\n",
      "+---------EPOCH 800---------+\n",
      "Predicted Output: \n",
      " [[0.01236552]\n",
      " [0.94633417]\n",
      " [0.94624689]\n",
      " [0.95601969]\n",
      " [0.95600536]\n",
      " [0.08018948]\n",
      " [0.03757653]]\n",
      "Loss: \n",
      " 0.0025192099715948815\n",
      "+---------EPOCH 900---------+\n",
      "Predicted Output: \n",
      " [[0.01120231]\n",
      " [0.95050763]\n",
      " [0.95043156]\n",
      " [0.95921378]\n",
      " [0.95920307]\n",
      " [0.07382419]\n",
      " [0.03524023]]\n",
      "Loss: \n",
      " 0.002150258036868858\n",
      "+---------EPOCH 1000---------+\n",
      "Predicted Output: \n",
      " [[0.01027869]\n",
      " [0.95387636]\n",
      " [0.95380867]\n",
      " [0.96181274]\n",
      " [0.96180463]\n",
      " [0.06870337]\n",
      " [0.03330392]]\n",
      "Loss: \n",
      " 0.0018733055930179863\n"
     ]
    }
   ],
   "source": [
    "nn = NeuralNetwork()\n",
    "\n",
    "for i in range(1000):\n",
    "    if ((i+1) % 100 ==0):\n",
    "        print('+' + '---' * 3 + f'EPOCH {i+1}' + '---'*3 + '+')\n",
    "        print('Predicted Output: \\n', str(nn.feed_forward(X)))\n",
    "        print(\"Loss: \\n\", str(np.mean(np.square(y - nn.feed_forward(X)))))\n",
    "    nn.train(X,y)"
   ]
  },
  {
   "cell_type": "markdown",
   "metadata": {
    "colab_type": "text",
    "id": "8b-r70o8p2Dm"
   },
   "source": [
    "## Try building/training a more complex MLP on a bigger dataset.\n",
    "\n",
    "Use the [MNIST dataset](http://yann.lecun.com/exdb/mnist/) to build the cannonical handwriting digit recognizer and see what kind of accuracy you can achieve. \n",
    "\n",
    "If you need inspiration, the internet is chalk-full of tutorials, but I want you to see how far you can get on your own first. I've linked to the original MNIST dataset above but it will probably be easier to download data through a neural network library. If you reference outside resources make sure you understand every line of code that you're using from other sources, and share with your fellow students helpful resources that you find.\n"
   ]
  },
  {
   "cell_type": "code",
   "execution_count": null,
   "metadata": {
    "colab": {},
    "colab_type": "code",
    "id": "5MOPtYdk1HgA"
   },
   "outputs": [],
   "source": [
    "##### Your Code Here #####"
   ]
  },
  {
   "cell_type": "markdown",
   "metadata": {
    "colab_type": "text",
    "id": "FwlRJSfBlCvy"
   },
   "source": [
    "## Stretch Goals: \n",
    "\n",
    "- Implement Cross Validation model evaluation on your MNIST implementation \n",
    "- Research different [Gradient Descent Based Optimizers](https://keras.io/optimizers/)\n",
    " - [Siraj Raval the evolution of gradient descent](https://www.youtube.com/watch?v=nhqo0u1a6fw)\n",
    "- Build a housing price estimation model using a neural network. How does its accuracy compare with the regression models that we fit earlier on in class?"
   ]
  }
 ],
 "metadata": {
  "colab": {
   "name": "LS_DS_432_Backprop_Assignment.ipynb",
   "provenance": [],
   "version": "0.3.2"
  },
  "kernelspec": {
   "display_name": "Python 3",
   "language": "python",
   "name": "python3"
  },
  "language_info": {
   "codemirror_mode": {
    "name": "ipython",
    "version": 3
   },
   "file_extension": ".py",
   "mimetype": "text/x-python",
   "name": "python",
   "nbconvert_exporter": "python",
   "pygments_lexer": "ipython3",
   "version": "3.7.3"
  }
 },
 "nbformat": 4,
 "nbformat_minor": 2
}
