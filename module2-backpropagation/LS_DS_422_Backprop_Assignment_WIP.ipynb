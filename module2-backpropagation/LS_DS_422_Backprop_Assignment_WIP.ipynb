{
 "cells": [
  {
   "cell_type": "markdown",
   "metadata": {
    "colab_type": "text",
    "id": "NGGrt9EYlCqY"
   },
   "source": [
    "<img align=\"left\" src=\"https://lever-client-logos.s3.amazonaws.com/864372b1-534c-480e-acd5-9711f850815c-1524247202159.png\" width=200>\n",
    "<br></br>\n",
    "\n",
    "# Backpropagation Practice\n",
    "\n",
    "## *Data Science Unit 4 Sprint 2 Assignment 2*\n",
    "\n",
    "Using TensorFlow Keras, Implement a 3 input, 4 node hidden-layer, 1 output node Multilayer Perceptron on the following dataset:\n",
    "\n",
    "| x1 | x2 | x3 | y |\n",
    "|----|----|----|---|\n",
    "| 0  | 0  | 1  | 0 |\n",
    "| 0  | 1  | 1  | 1 |\n",
    "| 1  | 0  | 1  | 1 |\n",
    "| 0  | 1  | 0  | 1 |\n",
    "| 1  | 0  | 0  | 1 |\n",
    "| 1  | 1  | 1  | 0 |\n",
    "| 0  | 0  | 0  | 0 |\n",
    "\n",
    "If you look at the data you'll notice that the first two columns behave like an XOR gate while the last column is mostly just noise. Remember that creating an XOR gate was what the perceptron was criticized for not being able to learn.\n",
    "\n",
    "This is your \"Hello World!\" of TensorFlow.\n",
    "\n",
    "### Example TensorFlow Starter Code\n",
    "\n",
    "```python \n",
    "from tensorflow.keras.models import Sequential\n",
    "from tensorflow.keras.layers import Dense\n",
    "\n",
    "model = Sequential([\n",
    "    Dense(3, activation='sigmoid', input_dim=2),\n",
    "    Dense(1, activation='sigmoid')\n",
    "])\n",
    "\n",
    "model.compile(optimizer='sgd', loss='binary_crossentropy', metrics=['acc'])\n",
    "\n",
    "results = model.fit(X,y, epochs=100)\n",
    "\n",
    "```\n",
    "\n",
    "### Additional Written Tasks:\n",
    "1. Investigate the various [loss functions](https://www.tensorflow.org/api_docs/python/tf/keras/losses). Which is best suited for the task at hand (predicting 1 / 0) and why? \n",
    "2. What is the difference between a loss function and a metric? Why might we need both in Keras? \n",
    "3. Investigate the various [optimizers](https://www.tensorflow.org/api_docs/python/tf/keras/optimizers). Stochastic Gradient Descent (`sgd`) is not the learning algorithm dejour anyone. Why is that? What do newer optimizers such as `adam` have to offer? "
   ]
  },
  {
   "cell_type": "code",
   "execution_count": 5,
   "metadata": {},
   "outputs": [],
   "source": [
    "# Import statements\n",
    "import pandas as pd\n",
    "import numpy as np"
   ]
  },
  {
   "cell_type": "code",
   "execution_count": 11,
   "metadata": {
    "colab": {},
    "colab_type": "code",
    "id": "nEREYT-3wI1f"
   },
   "outputs": [],
   "source": [
    "data = {'x1': [0,0,1,0,1,1,0],\n",
    "        'x2': [0,1,0,1,0,1,0],\n",
    "        'x3': [1,1,1,0,0,1,0],\n",
    "        'y':  [0,1,1,1,1,0,0]}\n",
    "\n",
    "df = pd.DataFrame.from_dict(data).astype('int')\n",
    "\n",
    "X = df[['x1', 'x2', 'x3']].values\n",
    "y = df[['y']].values"
   ]
  },
  {
   "cell_type": "code",
   "execution_count": 60,
   "metadata": {},
   "outputs": [
    {
     "name": "stdout",
     "output_type": "stream",
     "text": [
      "Epoch 1/10\n",
      "1/1 [==============================] - 0s 2ms/step - loss: 0.7822 - acc: 0.5714\n",
      "Epoch 2/10\n",
      "1/1 [==============================] - 0s 1ms/step - loss: 0.7814 - acc: 0.5714\n",
      "Epoch 3/10\n",
      "1/1 [==============================] - 0s 999us/step - loss: 0.7806 - acc: 0.5714\n",
      "Epoch 4/10\n",
      "1/1 [==============================] - 0s 1ms/step - loss: 0.7798 - acc: 0.5714\n",
      "Epoch 5/10\n",
      "1/1 [==============================] - 0s 988us/step - loss: 0.7791 - acc: 0.5714\n",
      "Epoch 6/10\n",
      "1/1 [==============================] - 0s 1ms/step - loss: 0.7783 - acc: 0.5714\n",
      "Epoch 7/10\n",
      "1/1 [==============================] - 0s 998us/step - loss: 0.7776 - acc: 0.5714\n",
      "Epoch 8/10\n",
      "1/1 [==============================] - 0s 1ms/step - loss: 0.7768 - acc: 0.5714\n",
      "Epoch 9/10\n",
      "1/1 [==============================] - 0s 1ms/step - loss: 0.7761 - acc: 0.5714\n",
      "Epoch 10/10\n",
      "1/1 [==============================] - 0s 1ms/step - loss: 0.7754 - acc: 0.5714\n"
     ]
    }
   ],
   "source": [
    "from tensorflow.keras.models import Sequential\n",
    "from tensorflow.keras.layers import Dense\n",
    "\n",
    "model = Sequential([\n",
    "    Dense(4, activation='sigmoid', input_dim=3),\n",
    "    Dense(1, activation='sigmoid')\n",
    "    Dense(1, activation='sigmoid')\n",
    "])\n",
    "\n",
    "model.compile(optimizer='sgd', loss='binary_crossentropy', metrics=['acc'])\n",
    "\n",
    "results = model.fit(X,y, epochs=10)"
   ]
  },
  {
   "cell_type": "markdown",
   "metadata": {},
   "source": [
    "##### List of loss functions\n",
    "\n",
    "**BinaryCrossentropy: Computes the cross-entropy loss between true labels and predicted labels.\n",
    "\n",
    "CategoricalCrossentropy: Computes the crossentropy loss between the labels and predictions.\n",
    "\n",
    "CategoricalHinge: Computes the categorical hinge loss between y_true and y_pred.\n",
    "\n",
    "CosineSimilarity: Computes the cosine similarity between y_true and y_pred.\n",
    "\n",
    "Hinge: Computes the hinge loss between y_true and y_pred.\n",
    "\n",
    "Huber: Computes the Huber loss between y_true and y_pred.\n",
    "\n",
    "KLDivergence: Computes Kullback-Leibler divergence loss between y_true and y_pred.\n",
    "\n",
    "LogCosh: Computes the logarithm of the hyperbolic cosine of the prediction error.\n",
    "\n",
    "Loss: Loss base class.\n",
    "\n",
    "MeanAbsoluteError: Computes the mean of absolute difference between labels and predictions.\n",
    "\n",
    "MeanAbsolutePercentageError: Computes the mean absolute percentage error between y_true and y_pred.\n",
    "\n",
    "MeanSquaredError: Computes the mean of squares of errors between labels and predictions.\n",
    "\n",
    "MeanSquaredLogarithmicError: Computes the mean squared logarithmic error between y_true and y_pred.\n",
    "\n",
    "Poisson: Computes the Poisson loss between y_true and y_pred.\n",
    "\n",
    "Reduction: Types of loss reduction.\n",
    "\n",
    "SparseCategoricalCrossentropy: Computes the crossentropy loss between the labels and predictions.\n",
    "\n",
    "SquaredHinge: Computes the squared hinge loss between y_true and y_pred."
   ]
  },
  {
   "cell_type": "markdown",
   "metadata": {},
   "source": [
    "##### List of optimizers\n",
    "\n",
    "Adadelta: Optimizer that implements the Adadelta algorithm.\n",
    "\n",
    "Adagrad: Optimizer that implements the Adagrad algorithm.\n",
    "\n",
    "Adam: Optimizer that implements the Adam algorithm.\n",
    "\n",
    "Adamax: Optimizer that implements the Adamax algorithm.\n",
    "\n",
    "Ftrl: Optimizer that implements the FTRL algorithm.\n",
    "\n",
    "Nadam: Optimizer that implements the NAdam algorithm.\n",
    "\n",
    "Optimizer: Updated base class for optimizers.\n",
    "\n",
    "RMSprop: Optimizer that implements the RMSprop algorithm.\n",
    "\n",
    "**SGD: Stochastic gradient descent and momentum optimizer."
   ]
  },
  {
   "cell_type": "markdown",
   "metadata": {},
   "source": [
    "### Build a Tensor Keras Perceptron\n",
    "\n",
    "Try to match the architecture we used on Monday - inputs nodes and one output node. Apply this architecture to the XOR-ish dataset above. \n",
    "\n",
    "After fitting your model answer these questions: \n",
    "\n",
    "Are you able to achieve the same results as a bigger architecture from the first part of the assignment? Why is this disparity the case? What properties of the XOR dataset would cause this disparity? \n",
    "\n",
    "Now extrapolate this behavior on a much larger dataset in terms of features. What kind of architecture decisions could we make to avoid the problems the XOR dataset presents at scale? \n",
    "\n",
    "*Note:* The bias term is baked in by default in the Dense layer."
   ]
  },
  {
   "cell_type": "code",
   "execution_count": 61,
   "metadata": {},
   "outputs": [
    {
     "name": "stdout",
     "output_type": "stream",
     "text": [
      "Epoch 1/10\n",
      "1/1 [==============================] - 0s 2ms/step - loss: 0.6815 - acc: 0.5714\n",
      "Epoch 2/10\n",
      "1/1 [==============================] - 0s 0s/step - loss: 0.6815 - acc: 0.5714\n",
      "Epoch 3/10\n",
      "1/1 [==============================] - 0s 1ms/step - loss: 0.6815 - acc: 0.5714\n",
      "Epoch 4/10\n",
      "1/1 [==============================] - 0s 0s/step - loss: 0.6815 - acc: 0.5714\n",
      "Epoch 5/10\n",
      "1/1 [==============================] - 0s 999us/step - loss: 0.6815 - acc: 0.5714\n",
      "Epoch 6/10\n",
      "1/1 [==============================] - 0s 0s/step - loss: 0.6815 - acc: 0.5714\n",
      "Epoch 7/10\n",
      "1/1 [==============================] - 0s 998us/step - loss: 0.6814 - acc: 0.5714\n",
      "Epoch 8/10\n",
      "1/1 [==============================] - 0s 1ms/step - loss: 0.6814 - acc: 0.5714\n",
      "Epoch 9/10\n",
      "1/1 [==============================] - 0s 1ms/step - loss: 0.6814 - acc: 0.5714\n",
      "Epoch 10/10\n",
      "1/1 [==============================] - 0s 0s/step - loss: 0.6814 - acc: 0.5714\n"
     ]
    }
   ],
   "source": [
    "model = Sequential([\n",
    "    Dense(4, activation='sigmoid', input_dim=3),\n",
    "    Dense(1, activation='sigmoid')\n",
    "])\n",
    " \n",
    "model.compile(optimizer='sgd', loss='binary_crossentropy', metrics=['acc'])\n",
    " \n",
    "results = model.fit(X,y, epochs=10)"
   ]
  },
  {
   "cell_type": "markdown",
   "metadata": {
    "colab_type": "text",
    "id": "8b-r70o8p2Dm"
   },
   "source": [
    "## Try building/training a more complex MLP on a bigger dataset.\n",
    "\n",
    "Use TensorFlow Keras & the [MNIST dataset](http://yann.lecun.com/exdb/mnist/) to build the canonical handwriting digit recognizer and see what kind of accuracy you can achieve. \n",
    "\n",
    "If you need inspiration, the Internet is chalk-full of tutorials, but I want you to see how far you can get on your own first. I've linked to the original MNIST dataset above but it will probably be easier to download data through a neural network library. If you reference outside resources make sure you understand every line of code that you're using from other sources, and share with your fellow students helpful resources that you find.\n",
    "\n",
    "\n",
    "### Parts\n",
    "1. Gathering & Transforming the Data\n",
    "2. Making MNIST a Binary Problem\n",
    "3. Estimating your Neural Network (the part you focus on)"
   ]
  },
  {
   "cell_type": "markdown",
   "metadata": {},
   "source": [
    "### Gathering the Data \n",
    "\n",
    "`keras` has a handy method to pull the mnist dataset for you. You'll notice that each observation is a 28x28 arrary which represents an image. Although most Neural Network frameworks can handle higher dimensional data, that is more overhead than necessary for us. We need to flatten the image to one long row which will be 784 values (28X28). Basically, you will be appending each row to one another to make on really long row. "
   ]
  },
  {
   "cell_type": "code",
   "execution_count": 55,
   "metadata": {},
   "outputs": [],
   "source": [
    "import numpy as np\n",
    "from tensorflow.keras.datasets import mnist\n",
    "from tensorflow.keras.utils import to_categorical"
   ]
  },
  {
   "cell_type": "code",
   "execution_count": 56,
   "metadata": {},
   "outputs": [],
   "source": [
    "# input image dimensions\n",
    "img_rows, img_cols = 28, 28"
   ]
  },
  {
   "cell_type": "code",
   "execution_count": 57,
   "metadata": {},
   "outputs": [
    {
     "name": "stdout",
     "output_type": "stream",
     "text": [
      "Downloading data from https://storage.googleapis.com/tensorflow/tf-keras-datasets/mnist.npz\n",
      "11493376/11490434 [==============================] - 53s 5us/step\n"
     ]
    }
   ],
   "source": [
    "# the data, split between train and test sets\n",
    "(x_train, y_train), (x_test, y_test) = mnist.load_data()"
   ]
  },
  {
   "cell_type": "code",
   "execution_count": 58,
   "metadata": {},
   "outputs": [],
   "source": [
    "x_train = x_train.reshape(x_train.shape[0], img_rows * img_cols)\n",
    "x_test = x_test.reshape(x_test.shape[0], img_rows * img_cols)\n",
    "\n",
    "# Normalize Our Data\n",
    "x_train = x_train / 255\n",
    "x_test = x_test / 255"
   ]
  },
  {
   "cell_type": "code",
   "execution_count": 59,
   "metadata": {},
   "outputs": [
    {
     "data": {
      "text/plain": [
       "(60000, 784)"
      ]
     },
     "execution_count": 59,
     "metadata": {},
     "output_type": "execute_result"
    }
   ],
   "source": [
    "# Now the data should be in a format you're more familiar with\n",
    "x_train.shape"
   ]
  },
  {
   "cell_type": "markdown",
   "metadata": {},
   "source": [
    "### Making MNIST a Binary Problem \n",
    "MNIST is multiclass classification problem; however we haven't covered all the necessary techniques to handle this yet. You would need to one-hot encode the target, use a different loss metric, and use softmax activations for the last layer. This is all stuff we'll cover later this week, but let us simplify the problem for now: Zero or all else."
   ]
  },
  {
   "cell_type": "code",
   "execution_count": 62,
   "metadata": {},
   "outputs": [],
   "source": [
    "import numpy as np\n",
    "\n",
    "y_temp = np.zeros(y_train.shape)\n",
    "y_temp[np.where(y_train == 0.0)[0]] = 1\n",
    "y_train = y_temp\n",
    "\n",
    "y_temp = np.zeros(y_test.shape)\n",
    "y_temp[np.where(y_test == 0.0)[0]] = 1\n",
    "y_test = y_temp"
   ]
  },
  {
   "cell_type": "code",
   "execution_count": 303,
   "metadata": {},
   "outputs": [
    {
     "data": {
      "text/plain": [
       "array([0., 1., 0., ..., 0., 0., 0.])"
      ]
     },
     "execution_count": 303,
     "metadata": {},
     "output_type": "execute_result"
    }
   ],
   "source": [
    "# A Nice Binary target for ya to work with\n",
    "y_train"
   ]
  },
  {
   "cell_type": "markdown",
   "metadata": {},
   "source": [
    "### Estimating Your `net"
   ]
  },
  {
   "cell_type": "code",
   "execution_count": 67,
   "metadata": {
    "colab": {},
    "colab_type": "code",
    "id": "5MOPtYdk1HgA"
   },
   "outputs": [
    {
     "name": "stdout",
     "output_type": "stream",
     "text": [
      "Epoch 1/30\n",
      "1875/1875 [==============================] - 2s 961us/step - loss: 0.3227 - acc: 0.9013\n",
      "Epoch 2/30\n",
      "1875/1875 [==============================] - 2s 957us/step - loss: 0.3180 - acc: 0.9013\n",
      "Epoch 3/30\n",
      "1875/1875 [==============================] - 2s 956us/step - loss: 0.3123 - acc: 0.9013\n",
      "Epoch 4/30\n",
      "1875/1875 [==============================] - 2s 964us/step - loss: 0.3008 - acc: 0.9013\n",
      "Epoch 5/30\n",
      "1875/1875 [==============================] - 2s 958us/step - loss: 0.2741 - acc: 0.9013\n",
      "Epoch 6/30\n",
      "1875/1875 [==============================] - 2s 961us/step - loss: 0.2153 - acc: 0.9013\n",
      "Epoch 7/30\n",
      "1875/1875 [==============================] - 2s 962us/step - loss: 0.1381 - acc: 0.9408\n",
      "Epoch 8/30\n",
      "1875/1875 [==============================] - 2s 960us/step - loss: 0.0901 - acc: 0.9801\n",
      "Epoch 9/30\n",
      "1875/1875 [==============================] - 2s 956us/step - loss: 0.0679 - acc: 0.9842\n",
      "Epoch 10/30\n",
      "1875/1875 [==============================] - 2s 976us/step - loss: 0.0563 - acc: 0.9858\n",
      "Epoch 11/30\n",
      "1875/1875 [==============================] - 2s 957us/step - loss: 0.0492 - acc: 0.9872\n",
      "Epoch 12/30\n",
      "1875/1875 [==============================] - 2s 959us/step - loss: 0.0445 - acc: 0.9880\n",
      "Epoch 13/30\n",
      "1875/1875 [==============================] - 2s 959us/step - loss: 0.0411 - acc: 0.9889\n",
      "Epoch 14/30\n",
      "1875/1875 [==============================] - 2s 959us/step - loss: 0.0386 - acc: 0.9893\n",
      "Epoch 15/30\n",
      "1875/1875 [==============================] - 2s 956us/step - loss: 0.0366 - acc: 0.9898\n",
      "Epoch 16/30\n",
      "1875/1875 [==============================] - 2s 960us/step - loss: 0.0351 - acc: 0.9902\n",
      "Epoch 17/30\n",
      "1875/1875 [==============================] - 2s 959us/step - loss: 0.0339 - acc: 0.9904\n",
      "Epoch 18/30\n",
      "1875/1875 [==============================] - 2s 959us/step - loss: 0.0329 - acc: 0.9907\n",
      "Epoch 19/30\n",
      "1875/1875 [==============================] - 2s 959us/step - loss: 0.0320 - acc: 0.9908\n",
      "Epoch 20/30\n",
      "1875/1875 [==============================] - 2s 960us/step - loss: 0.0313 - acc: 0.9908\n",
      "Epoch 21/30\n",
      "1875/1875 [==============================] - 2s 959us/step - loss: 0.0307 - acc: 0.9910\n",
      "Epoch 22/30\n",
      "1875/1875 [==============================] - 2s 961us/step - loss: 0.0302 - acc: 0.9910\n",
      "Epoch 23/30\n",
      "1875/1875 [==============================] - 2s 963us/step - loss: 0.0297 - acc: 0.9913\n",
      "Epoch 24/30\n",
      "1875/1875 [==============================] - 2s 960us/step - loss: 0.0293 - acc: 0.9913\n",
      "Epoch 25/30\n",
      "1875/1875 [==============================] - 2s 958us/step - loss: 0.0289 - acc: 0.9915\n",
      "Epoch 26/30\n",
      "1875/1875 [==============================] - 2s 961us/step - loss: 0.0286 - acc: 0.9915\n",
      "Epoch 27/30\n",
      "1875/1875 [==============================] - 2s 959us/step - loss: 0.0283 - acc: 0.9916\n",
      "Epoch 28/30\n",
      "1875/1875 [==============================] - 2s 960us/step - loss: 0.0280 - acc: 0.9916\n",
      "Epoch 29/30\n",
      "1875/1875 [==============================] - 2s 958us/step - loss: 0.0277 - acc: 0.9917\n",
      "Epoch 30/30\n",
      "1875/1875 [==============================] - 2s 957us/step - loss: 0.0275 - acc: 0.9918\n"
     ]
    }
   ],
   "source": [
    "model = Sequential([\n",
    "    Dense(64, activation='sigmoid', input_dim=784),\n",
    "    Dense(16, activation='sigmoid'),\n",
    "    Dense(16, activation='sigmoid'),\n",
    "    Dense(1, activation='sigmoid')\n",
    "])\n",
    " \n",
    "model.compile(optimizer='sgd', loss='binary_crossentropy', metrics=['acc'])\n",
    " \n",
    "results = model.fit(x_train,y_train, epochs=30)"
   ]
  },
  {
   "cell_type": "markdown",
   "metadata": {
    "colab_type": "text",
    "id": "FwlRJSfBlCvy"
   },
   "source": [
    "## Stretch Goals: \n",
    "\n",
    "- Make MNIST a multiclass problem using cross entropy & soft-max\n",
    "- Implement Cross Validation model evaluation on your MNIST implementation \n",
    "- Research different [Gradient Descent Based Optimizers](https://keras.io/optimizers/)\n",
    " - [Siraj Raval the evolution of gradient descent](https://www.youtube.com/watch?v=nhqo0u1a6fw)\n",
    "- Build a housing price estimation model using a neural network. How does its accuracy compare with the regression models that we fit earlier on in class?"
   ]
  }
 ],
 "metadata": {
  "colab": {
   "name": "LS_DS_432_Backprop_Assignment.ipynb",
   "provenance": [],
   "version": "0.3.2"
  },
  "kernelspec": {
   "display_name": "U4S1NLP (Python3)",
   "language": "python",
   "name": "u4s1nlp"
  },
  "language_info": {
   "codemirror_mode": {
    "name": "ipython",
    "version": 3
   },
   "file_extension": ".py",
   "mimetype": "text/x-python",
   "name": "python",
   "nbconvert_exporter": "python",
   "pygments_lexer": "ipython3",
   "version": "3.7.0"
  },
  "nteract": {
   "version": "0.22.4"
  }
 },
 "nbformat": 4,
 "nbformat_minor": 4
}
