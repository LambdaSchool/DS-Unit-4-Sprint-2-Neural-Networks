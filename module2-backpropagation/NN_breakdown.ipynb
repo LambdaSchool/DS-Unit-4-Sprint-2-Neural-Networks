{
 "cells": [
  {
   "cell_type": "code",
   "execution_count": 2,
   "metadata": {},
   "outputs": [],
   "source": [
    "#Generate some Fake Data\n",
    "\n",
    "import numpy as np\n",
    "\n",
    "np.random.seed(812)\n",
    "\n",
    "#hours studying, hours asleep\n",
    "X = np.array(([2,9],\n",
    "              [1,5],\n",
    "              [3,6]), dtype=float)\n",
    "\n",
    "y = np.array(([92],\n",
    "              [86],\n",
    "              [89]), dtype=float)"
   ]
  },
  {
   "cell_type": "code",
   "execution_count": 3,
   "metadata": {},
   "outputs": [
    {
     "name": "stdout",
     "output_type": "stream",
     "text": [
      "Studying, Sleeping, \n",
      " [[0.66666667 1.        ]\n",
      " [0.33333333 0.55555556]\n",
      " [1.         0.66666667]]\n",
      "Test Score \n",
      " [[0.92]\n",
      " [0.86]\n",
      " [0.89]]\n"
     ]
    }
   ],
   "source": [
    "X = X / np.amax(X, axis=0)\n",
    "y = y/ 100\n",
    "\n",
    "print(\"Studying, Sleeping, \\n\", X)\n",
    "print(\"Test Score \\n\", y)"
   ]
  },
  {
   "cell_type": "code",
   "execution_count": null,
   "metadata": {},
   "outputs": [],
   "source": [
    "#create NN class to contain functionality\n",
    "\n",
    "class NeuralNetwork:\n",
    "    def __init__(self):\n",
    "        #Step 1: set up architecture\n",
    "        \n",
    "        #x variables: sleeping, studying\n",
    "        self.inputs = 2\n",
    "        \n",
    "        #hidden layer\n",
    "        self.hiddenNodes = 3\n",
    "        \n",
    "        #y variable: test score\n",
    "        self.outputNodes = 1\n",
    "        \n",
    "        #Step 2: Initial Weights setup\n",
    "        \n",
    "        self.weights1 = np.random.rand(self.inputs, self.hiddenNodes)\n",
    "        "
   ]
  }
 ],
 "metadata": {
  "kernelspec": {
   "display_name": "Python 3",
   "language": "python",
   "name": "python3"
  },
  "language_info": {
   "codemirror_mode": {
    "name": "ipython",
    "version": 3
   },
   "file_extension": ".py",
   "mimetype": "text/x-python",
   "name": "python",
   "nbconvert_exporter": "python",
   "pygments_lexer": "ipython3",
   "version": "3.7.6"
  }
 },
 "nbformat": 4,
 "nbformat_minor": 2
}
