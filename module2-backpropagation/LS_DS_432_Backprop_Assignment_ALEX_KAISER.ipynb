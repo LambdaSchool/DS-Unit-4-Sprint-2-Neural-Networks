{
  "nbformat": 4,
  "nbformat_minor": 0,
  "metadata": {
    "colab": {
      "name": "LS_DS_432_Backprop_Assignment_ALEX_KAISER.ipynb",
      "provenance": [],
      "collapsed_sections": [],
      "include_colab_link": true
    },
    "kernelspec": {
      "display_name": "Python 3",
      "language": "python",
      "name": "python3"
    },
    "language_info": {
      "codemirror_mode": {
        "name": "ipython",
        "version": 3
      },
      "file_extension": ".py",
      "mimetype": "text/x-python",
      "name": "python",
      "nbconvert_exporter": "python",
      "pygments_lexer": "ipython3",
      "version": "3.7.3"
    },
    "nteract": {
      "version": "0.22.4"
    },
    "accelerator": "GPU"
  },
  "cells": [
    {
      "cell_type": "markdown",
      "metadata": {
        "id": "view-in-github",
        "colab_type": "text"
      },
      "source": [
        "<a href=\"https://colab.research.google.com/github/Lord-Kanzler/DS-Unit-4-Sprint-2-Neural-Networks/blob/master/module2-backpropagation/LS_DS_432_Backprop_Assignment_ALEX_KAISER.ipynb\" target=\"_parent\"><img src=\"https://colab.research.google.com/assets/colab-badge.svg\" alt=\"Open In Colab\"/></a>"
      ]
    },
    {
      "cell_type": "markdown",
      "metadata": {
        "colab_type": "text",
        "id": "NGGrt9EYlCqY"
      },
      "source": [
        "<img align=\"left\" src=\"https://lever-client-logos.s3.amazonaws.com/864372b1-534c-480e-acd5-9711f850815c-1524247202159.png\" width=200>\n",
        "<br></br>\n",
        "\n",
        "# Backpropagation Practice\n",
        "\n",
        "## *Data Science Unit 4 Sprint 2 Assignment 2*\n",
        "\n",
        "Using TensorFlow Keras, Implement a 3 input, 4 node hidden-layer, 1 output node Multilayer Perceptron on the following dataset:\n",
        "\n",
        "| x1 | x2 | x3 | y |\n",
        "|----|----|----|---|\n",
        "| 0  | 0  | 1  | 0 |\n",
        "| 0  | 1  | 1  | 1 |\n",
        "| 1  | 0  | 1  | 1 |\n",
        "| 0  | 1  | 0  | 1 |\n",
        "| 1  | 0  | 0  | 1 |\n",
        "| 1  | 1  | 1  | 0 |\n",
        "| 0  | 0  | 0  | 0 |\n",
        "\n",
        "If you look at the data you'll notice that the first two columns behave like an XOR gate while the last column is mostly just noise. Remember that creating an XOR gate was what the perceptron was criticized for not being able to learn.\n",
        "\n",
        "This is your \"Hello World!\" of TensorFlow.\n",
        "\n",
        "### Example TensorFlow Starter Code\n",
        "\n",
        "```python \n",
        "from tensorflow.keras.models import Sequential\n",
        "from tensorflow.keras.layers import Dense\n",
        "\n",
        "model = Sequential([\n",
        "    Dense(3, activation='sigmoid', input_dim=2),\n",
        "    Dense(1, activation='sigmoid')\n",
        "])\n",
        "\n",
        "model.compile(optimizer='sgd', loss='binary_crossentropy', metrics=['acc'])\n",
        "\n",
        "results = model.fit(X,y, epochs=100)\n",
        "\n",
        "```\n",
        "\n",
        "### Additional Written Tasks:\n",
        "1. Investigate the various [loss functions](https://www.tensorflow.org/api_docs/python/tf/keras/losses). Which is best suited for the task at hand (predicting 1 / 0) and why? \n",
        "2. What is the difference between a loss function and a metric? Why might we need both in Keras? \n",
        "3. Investigate the various [optimizers](https://www.tensorflow.org/api_docs/python/tf/keras/optimizers). Stochastic Gradient Descent (`sgd`) is not the learning algorithm dejour anyone. Why is that? What do newer optimizers such as `adam` have to offer? "
      ]
    },
    {
      "cell_type": "code",
      "metadata": {
        "colab_type": "code",
        "id": "nEREYT-3wI1f",
        "colab": {}
      },
      "source": [
        "##### Your Code Here #####\n",
        "import numpy as np\n",
        "\n",
        "X=np.array([\n",
        "            [0,0,1],\n",
        "            [0,1,1],\n",
        "            [1,0,1],\n",
        "            [0,1,0],\n",
        "            [1,0,0],\n",
        "            [1,1,1],\n",
        "            [0,0,0]\n",
        "            ])\n",
        "\n",
        "y=np.array([\n",
        "            [0],\n",
        "            [1],\n",
        "            [1],\n",
        "            [1],\n",
        "            [1],\n",
        "            [0],\n",
        "            [0]\n",
        "            ])\n"
      ],
      "execution_count": 0,
      "outputs": []
    },
    {
      "cell_type": "code",
      "metadata": {
        "id": "0pNG3xS-U7rS",
        "colab_type": "code",
        "colab": {}
      },
      "source": [
        "# and activations that correspond to positive weights to be higher\n",
        "\n",
        "class NeuralNetwork:\n",
        "    def __init__(self):\n",
        "        # Set up Architecture of Neural Network\n",
        "        self.inputs = 3\n",
        "        self.hiddenNodes = 4\n",
        "        self.outputNodes = 1\n",
        "\n",
        "        # Initial Weights\n",
        "        # 3x3 Matrix Array for the First Layer\n",
        "        self.weights1 = np.random.rand(self.inputs, self.hiddenNodes)\n",
        "       \n",
        "        # 3x1 Matrix Array for Hidden to Output\n",
        "        self.weights2 = np.random.rand(self.hiddenNodes, self.outputNodes)\n",
        "        \n",
        "    def sigmoid(self, s):\n",
        "        return 1 / (1+np.exp(-s))\n",
        "    \n",
        "    def sigmoidPrime(self, s):\n",
        "        return s * (1 - s)\n",
        "    \n",
        "    def feed_forward(self, X):\n",
        "        \"\"\"\n",
        "        Calculate the NN inference using feed forward.\n",
        "        aka \"predict\"\n",
        "        \"\"\"\n",
        "        \n",
        "        # Weighted sum of inputs => hidden layer\n",
        "        self.hidden_sum = np.dot(X, self.weights1)\n",
        "        \n",
        "        # Activations of weighted sum\n",
        "        self.activated_hidden = self.sigmoid(self.hidden_sum)\n",
        "        \n",
        "        # Weight sum between hidden and output\n",
        "        self.output_sum = np.dot(self.activated_hidden, self.weights2)\n",
        "        \n",
        "        # Final activation of output\n",
        "        self.activated_output = self.sigmoid(self.output_sum)\n",
        "        \n",
        "        return self.activated_output\n",
        "        \n",
        "    def backward(self, X,y,o):\n",
        "        \"\"\"\n",
        "        Backward propagate through the network\n",
        "        \"\"\"\n",
        "        \n",
        "        # Error in Output\n",
        "        self.o_error = y - o\n",
        "        \n",
        "        # Apply Derivative of Sigmoid to error\n",
        "        # How far off are we in relation to the Sigmoid f(x) of the output\n",
        "        # ^- aka hidden => output\n",
        "        self.o_delta = self.o_error * self.sigmoidPrime(o)\n",
        "        \n",
        "        # z2 error\n",
        "        self.z2_error = self.o_delta.dot(self.weights2.T)\n",
        "        \n",
        "        # How much of that \"far off\" can explained by the input => hidden\n",
        "        self.z2_delta = self.z2_error * self.sigmoidPrime(self.activated_hidden)\n",
        "        \n",
        "        # Adjustment to first set of weights (input => hidden)\n",
        "        self.weights1 += X.T.dot(self.z2_delta)\n",
        "        # Adjustment to second set of weights (hidden => output)\n",
        "        self.weights2 += self.activated_hidden.T.dot(self.o_delta)\n",
        "        \n",
        "\n",
        "    def train(self, X, y):\n",
        "        o = self.feed_forward(X)\n",
        "        self.backward(X,y,o)"
      ],
      "execution_count": 0,
      "outputs": []
    },
    {
      "cell_type": "code",
      "metadata": {
        "id": "7zlVxtAs5vp8",
        "colab_type": "code",
        "colab": {}
      },
      "source": [
        "nn = NeuralNetwork()\n",
        "\n",
        "nn.train(X,y)"
      ],
      "execution_count": 0,
      "outputs": []
    },
    {
      "cell_type": "code",
      "metadata": {
        "id": "aO-R3PB0589g",
        "colab_type": "code",
        "colab": {
          "base_uri": "https://localhost:8080/",
          "height": 1000
        },
        "outputId": "b1fb45cf-8160-4e17-9684-8f7eaaa4fb6e"
      },
      "source": [
        "# Number of Epochs / Iterations\n",
        "for i in range(10000):\n",
        "    if (i+1 in [1,2,3,4,5]) or ((i+1) % 1000 ==0):\n",
        "        print('+' + '---' * 3 + f'EPOCH {i+1}' + '---'*3 + '+')\n",
        "        print('Input: \\n', X)\n",
        "        print('Actual Output: \\n', y)\n",
        "        print('Predicted Output: \\n', str(nn.feed_forward(X)))\n",
        "        print(\"Loss: \\n\", str(np.mean(np.square(y - nn.feed_forward(X)))))\n",
        "    nn.train(X,y)"
      ],
      "execution_count": 46,
      "outputs": [
        {
          "output_type": "stream",
          "text": [
            "+---------EPOCH 1---------+\n",
            "Input: \n",
            " [[0 0 1]\n",
            " [0 1 1]\n",
            " [1 0 1]\n",
            " [0 1 0]\n",
            " [1 0 0]\n",
            " [1 1 1]\n",
            " [0 0 0]]\n",
            "Actual Output: \n",
            " [[0]\n",
            " [1]\n",
            " [1]\n",
            " [1]\n",
            " [1]\n",
            " [0]\n",
            " [0]]\n",
            "Predicted Output: \n",
            " [[0.69718513]\n",
            " [0.72348032]\n",
            " [0.71905346]\n",
            " [0.69690414]\n",
            " [0.69142608]\n",
            " [0.7415793 ]\n",
            " [0.666771  ]]\n",
            "Loss: \n",
            " 0.2604385120670353\n",
            "+---------EPOCH 2---------+\n",
            "Input: \n",
            " [[0 0 1]\n",
            " [0 1 1]\n",
            " [1 0 1]\n",
            " [0 1 0]\n",
            " [1 0 0]\n",
            " [1 1 1]\n",
            " [0 0 0]]\n",
            "Actual Output: \n",
            " [[0]\n",
            " [1]\n",
            " [1]\n",
            " [1]\n",
            " [1]\n",
            " [0]\n",
            " [0]]\n",
            "Predicted Output: \n",
            " [[0.62927807]\n",
            " [0.64815762]\n",
            " [0.64457227]\n",
            " [0.63217946]\n",
            " [0.62805405]\n",
            " [0.66227939]\n",
            " [0.61189249]]\n",
            "Loss: \n",
            " 0.2475392810006413\n",
            "+---------EPOCH 3---------+\n",
            "Input: \n",
            " [[0 0 1]\n",
            " [0 1 1]\n",
            " [1 0 1]\n",
            " [0 1 0]\n",
            " [1 0 0]\n",
            " [1 1 1]\n",
            " [0 0 0]]\n",
            "Actual Output: \n",
            " [[0]\n",
            " [1]\n",
            " [1]\n",
            " [1]\n",
            " [1]\n",
            " [0]\n",
            " [0]]\n",
            "Predicted Output: \n",
            " [[0.59238508]\n",
            " [0.60698262]\n",
            " [0.60406411]\n",
            " [0.59784307]\n",
            " [0.59463653]\n",
            " [0.61860419]\n",
            " [0.58279812]]\n",
            "Loss: \n",
            " 0.2443603561936419\n",
            "+---------EPOCH 4---------+\n",
            "Input: \n",
            " [[0 0 1]\n",
            " [0 1 1]\n",
            " [1 0 1]\n",
            " [0 1 0]\n",
            " [1 0 0]\n",
            " [1 1 1]\n",
            " [0 0 0]]\n",
            "Actual Output: \n",
            " [[0]\n",
            " [1]\n",
            " [1]\n",
            " [1]\n",
            " [1]\n",
            " [0]\n",
            " [0]]\n",
            "Predicted Output: \n",
            " [[0.57822683]\n",
            " [0.59185221]\n",
            " [0.5892743 ]\n",
            " [0.58589561]\n",
            " [0.58313504]\n",
            " [0.60295837]\n",
            " [0.57209206]]\n",
            "Loss: \n",
            " 0.24367620680062857\n",
            "+---------EPOCH 5---------+\n",
            "Input: \n",
            " [[0 0 1]\n",
            " [0 1 1]\n",
            " [1 0 1]\n",
            " [0 1 0]\n",
            " [1 0 0]\n",
            " [1 1 1]\n",
            " [0 0 0]]\n",
            "Actual Output: \n",
            " [[0]\n",
            " [1]\n",
            " [1]\n",
            " [1]\n",
            " [1]\n",
            " [0]\n",
            " [0]]\n",
            "Predicted Output: \n",
            " [[0.5730336 ]\n",
            " [0.58709239]\n",
            " [0.58470386]\n",
            " [0.58280319]\n",
            " [0.58028485]\n",
            " [0.59856364]\n",
            " [0.56860352]]\n",
            "Loss: \n",
            " 0.24330478010243467\n",
            "+---------EPOCH 1000---------+\n",
            "Input: \n",
            " [[0 0 1]\n",
            " [0 1 1]\n",
            " [1 0 1]\n",
            " [0 1 0]\n",
            " [1 0 0]\n",
            " [1 1 1]\n",
            " [0 0 0]]\n",
            "Actual Output: \n",
            " [[0]\n",
            " [1]\n",
            " [1]\n",
            " [1]\n",
            " [1]\n",
            " [0]\n",
            " [0]]\n",
            "Predicted Output: \n",
            " [[0.01676511]\n",
            " [0.93136874]\n",
            " [0.94378578]\n",
            " [0.92741024]\n",
            " [0.95606891]\n",
            " [0.09804913]\n",
            " [0.08706577]]\n",
            "Loss: \n",
            " 0.004649235946617082\n",
            "+---------EPOCH 2000---------+\n",
            "Input: \n",
            " [[0 0 1]\n",
            " [0 1 1]\n",
            " [1 0 1]\n",
            " [0 1 0]\n",
            " [1 0 0]\n",
            " [1 1 1]\n",
            " [0 0 0]]\n",
            "Actual Output: \n",
            " [[0]\n",
            " [1]\n",
            " [1]\n",
            " [1]\n",
            " [1]\n",
            " [0]\n",
            " [0]]\n",
            "Predicted Output: \n",
            " [[0.00601468]\n",
            " [0.96920121]\n",
            " [0.97933085]\n",
            " [0.97045653]\n",
            " [0.98105888]\n",
            " [0.03244452]\n",
            " [0.04869469]]\n",
            "Loss: \n",
            " 0.0008667654600355631\n",
            "+---------EPOCH 3000---------+\n",
            "Input: \n",
            " [[0 0 1]\n",
            " [0 1 1]\n",
            " [1 0 1]\n",
            " [0 1 0]\n",
            " [1 0 0]\n",
            " [1 1 1]\n",
            " [0 0 0]]\n",
            "Actual Output: \n",
            " [[0]\n",
            " [1]\n",
            " [1]\n",
            " [1]\n",
            " [1]\n",
            " [0]\n",
            " [0]]\n",
            "Predicted Output: \n",
            " [[0.00413632]\n",
            " [0.97725316]\n",
            " [0.98478054]\n",
            " [0.97837675]\n",
            " [0.98573638]\n",
            " [0.02175537]\n",
            " [0.03841203]]\n",
            "Loss: \n",
            " 0.00048370790934113066\n",
            "+---------EPOCH 4000---------+\n",
            "Input: \n",
            " [[0 0 1]\n",
            " [0 1 1]\n",
            " [1 0 1]\n",
            " [0 1 0]\n",
            " [1 0 0]\n",
            " [1 1 1]\n",
            " [0 0 0]]\n",
            "Actual Output: \n",
            " [[0]\n",
            " [1]\n",
            " [1]\n",
            " [1]\n",
            " [1]\n",
            " [0]\n",
            " [0]]\n",
            "Predicted Output: \n",
            " [[0.00328617]\n",
            " [0.98117298]\n",
            " [0.98723013]\n",
            " [0.98215477]\n",
            " [0.98792025]\n",
            " [0.01698925]\n",
            " [0.03301584]]\n",
            "Loss: \n",
            " 0.0003387683381707709\n",
            "+---------EPOCH 5000---------+\n",
            "Input: \n",
            " [[0 0 1]\n",
            " [0 1 1]\n",
            " [1 0 1]\n",
            " [0 1 0]\n",
            " [1 0 0]\n",
            " [1 1 1]\n",
            " [0 0 0]]\n",
            "Actual Output: \n",
            " [[0]\n",
            " [1]\n",
            " [1]\n",
            " [1]\n",
            " [1]\n",
            " [0]\n",
            " [0]]\n",
            "Predicted Output: \n",
            " [[0.00278433]\n",
            " [0.98359395]\n",
            " [0.98868268]\n",
            " [0.9844686 ]\n",
            " [0.98923926]\n",
            " [0.01420479]\n",
            " [0.02954161]]\n",
            "Loss: \n",
            " 0.000262356246929658\n",
            "+---------EPOCH 6000---------+\n",
            "Input: \n",
            " [[0 0 1]\n",
            " [0 1 1]\n",
            " [1 0 1]\n",
            " [0 1 0]\n",
            " [1 0 0]\n",
            " [1 1 1]\n",
            " [0 0 0]]\n",
            "Actual Output: \n",
            " [[0]\n",
            " [1]\n",
            " [1]\n",
            " [1]\n",
            " [1]\n",
            " [0]\n",
            " [0]]\n",
            "Predicted Output: \n",
            " [[0.00244672]\n",
            " [0.98527633]\n",
            " [0.98966845]\n",
            " [0.98606915]\n",
            " [0.99014441]\n",
            " [0.01234711]\n",
            " [0.02705876]]\n",
            "Loss: \n",
            " 0.00021504894511396847\n",
            "+---------EPOCH 7000---------+\n",
            "Input: \n",
            " [[0 0 1]\n",
            " [0 1 1]\n",
            " [1 0 1]\n",
            " [0 1 0]\n",
            " [1 0 0]\n",
            " [1 1 1]\n",
            " [0 0 0]]\n",
            "Actual Output: \n",
            " [[0]\n",
            " [1]\n",
            " [1]\n",
            " [1]\n",
            " [1]\n",
            " [0]\n",
            " [0]]\n",
            "Predicted Output: \n",
            " [[0.00220104]\n",
            " [0.98653149]\n",
            " [0.99039371]\n",
            " [0.98725982]\n",
            " [0.99081541]\n",
            " [0.01100483]\n",
            " [0.02516715]]\n",
            "Loss: \n",
            " 0.0001828123311106453\n",
            "+---------EPOCH 8000---------+\n",
            "Input: \n",
            " [[0 0 1]\n",
            " [0 1 1]\n",
            " [1 0 1]\n",
            " [0 1 0]\n",
            " [1 0 0]\n",
            " [1 1 1]\n",
            " [0 0 0]]\n",
            "Actual Output: \n",
            " [[0]\n",
            " [1]\n",
            " [1]\n",
            " [1]\n",
            " [1]\n",
            " [0]\n",
            " [0]]\n",
            "Predicted Output: \n",
            " [[0.00201262]\n",
            " [0.98751355]\n",
            " [0.9909569 ]\n",
            " [0.98818959]\n",
            " [0.99133933]\n",
            " [0.00998171]\n",
            " [0.023662  ]]\n",
            "Loss: \n",
            " 0.00015939392036321256\n",
            "+---------EPOCH 9000---------+\n",
            "Input: \n",
            " [[0 0 1]\n",
            " [0 1 1]\n",
            " [1 0 1]\n",
            " [0 1 0]\n",
            " [1 0 0]\n",
            " [1 1 1]\n",
            " [0 0 0]]\n",
            "Actual Output: \n",
            " [[0]\n",
            " [1]\n",
            " [1]\n",
            " [1]\n",
            " [1]\n",
            " [0]\n",
            " [0]]\n",
            "Predicted Output: \n",
            " [[0.00186257]\n",
            " [0.98830864]\n",
            " [0.99141145]\n",
            " [0.98894125]\n",
            " [0.99176395]\n",
            " [0.00917137]\n",
            " [0.02242605]]\n",
            "Loss: \n",
            " 0.00014158432671522477\n",
            "+---------EPOCH 10000---------+\n",
            "Input: \n",
            " [[0 0 1]\n",
            " [0 1 1]\n",
            " [1 0 1]\n",
            " [0 1 0]\n",
            " [1 0 0]\n",
            " [1 1 1]\n",
            " [0 0 0]]\n",
            "Actual Output: \n",
            " [[0]\n",
            " [1]\n",
            " [1]\n",
            " [1]\n",
            " [1]\n",
            " [0]\n",
            " [0]]\n",
            "Predicted Output: \n",
            " [[0.00173966]\n",
            " [0.98896914]\n",
            " [0.9917891 ]\n",
            " [0.989565  ]\n",
            " [0.99211789]\n",
            " [0.00851073]\n",
            " [0.0213866 ]]\n",
            "Loss: \n",
            " 0.0001275658593904699\n"
          ],
          "name": "stdout"
        }
      ]
    },
    {
      "cell_type": "code",
      "metadata": {
        "id": "Yfap23PzVYG7",
        "colab_type": "code",
        "colab": {}
      },
      "source": [
        "# Keras approach\n",
        "\n",
        "import pandas as pd\n",
        "\n",
        "data = {'x1' : [0,0,1,0,1,1,0],\n",
        "        'x2' : [0,1,0,1,0,1,0],\n",
        "        'x3' : [1,1,1,0,0,1,0],\n",
        "        'y' : [0,1,1,1,1,0,0]\n",
        "        }\n",
        "\n",
        "df = pd.DataFrame.from_dict(data).astype('int')\n",
        "X = df[['x1', 'x2', 'x3']].values\n",
        "y = df['y'].values"
      ],
      "execution_count": 0,
      "outputs": []
    },
    {
      "cell_type": "code",
      "metadata": {
        "id": "8lIOKmafZrMp",
        "colab_type": "code",
        "colab": {
          "base_uri": "https://localhost:8080/",
          "height": 1000
        },
        "outputId": "75b34b86-9824-45ee-feb6-9b70bb32b364"
      },
      "source": [
        "from tensorflow.keras.models import Sequential\n",
        "from tensorflow.keras.layers import Dense\n",
        "\n",
        "# This is our perceptron from Monday's by-hand: \n",
        "model = Sequential()\n",
        "model.add(Dense(1,input_dim=3, activation='sigmoid'))\n",
        "model.compile(loss='binary_crossentropy', optimizer='adam', metrics=['accuracy'])\n",
        "model.fit(X,y, epochs=80)"
      ],
      "execution_count": 61,
      "outputs": [
        {
          "output_type": "stream",
          "text": [
            "Epoch 1/80\n",
            "1/1 [==============================] - 0s 2ms/step - loss: 0.6651 - accuracy: 0.7143\n",
            "Epoch 2/80\n",
            "1/1 [==============================] - 0s 1ms/step - loss: 0.6650 - accuracy: 0.7143\n",
            "Epoch 3/80\n",
            "1/1 [==============================] - 0s 1ms/step - loss: 0.6648 - accuracy: 0.7143\n",
            "Epoch 4/80\n",
            "1/1 [==============================] - 0s 1ms/step - loss: 0.6647 - accuracy: 0.7143\n",
            "Epoch 5/80\n",
            "1/1 [==============================] - 0s 1ms/step - loss: 0.6645 - accuracy: 0.7143\n",
            "Epoch 6/80\n",
            "1/1 [==============================] - 0s 1ms/step - loss: 0.6644 - accuracy: 0.7143\n",
            "Epoch 7/80\n",
            "1/1 [==============================] - 0s 1ms/step - loss: 0.6642 - accuracy: 0.7143\n",
            "Epoch 8/80\n",
            "1/1 [==============================] - 0s 1ms/step - loss: 0.6641 - accuracy: 0.7143\n",
            "Epoch 9/80\n",
            "1/1 [==============================] - 0s 2ms/step - loss: 0.6639 - accuracy: 0.7143\n",
            "Epoch 10/80\n",
            "1/1 [==============================] - 0s 1ms/step - loss: 0.6638 - accuracy: 0.7143\n",
            "Epoch 11/80\n",
            "1/1 [==============================] - 0s 3ms/step - loss: 0.6636 - accuracy: 0.7143\n",
            "Epoch 12/80\n",
            "1/1 [==============================] - 0s 1ms/step - loss: 0.6635 - accuracy: 0.7143\n",
            "Epoch 13/80\n",
            "1/1 [==============================] - 0s 1ms/step - loss: 0.6634 - accuracy: 0.7143\n",
            "Epoch 14/80\n",
            "1/1 [==============================] - 0s 1ms/step - loss: 0.6632 - accuracy: 0.7143\n",
            "Epoch 15/80\n",
            "1/1 [==============================] - 0s 3ms/step - loss: 0.6631 - accuracy: 0.7143\n",
            "Epoch 16/80\n",
            "1/1 [==============================] - 0s 2ms/step - loss: 0.6629 - accuracy: 0.7143\n",
            "Epoch 17/80\n",
            "1/1 [==============================] - 0s 2ms/step - loss: 0.6628 - accuracy: 0.7143\n",
            "Epoch 18/80\n",
            "1/1 [==============================] - 0s 3ms/step - loss: 0.6627 - accuracy: 0.7143\n",
            "Epoch 19/80\n",
            "1/1 [==============================] - 0s 2ms/step - loss: 0.6625 - accuracy: 0.7143\n",
            "Epoch 20/80\n",
            "1/1 [==============================] - 0s 2ms/step - loss: 0.6624 - accuracy: 0.7143\n",
            "Epoch 21/80\n",
            "1/1 [==============================] - 0s 3ms/step - loss: 0.6622 - accuracy: 0.7143\n",
            "Epoch 22/80\n",
            "1/1 [==============================] - 0s 2ms/step - loss: 0.6621 - accuracy: 0.7143\n",
            "Epoch 23/80\n",
            "1/1 [==============================] - 0s 2ms/step - loss: 0.6620 - accuracy: 0.7143\n",
            "Epoch 24/80\n",
            "1/1 [==============================] - 0s 3ms/step - loss: 0.6618 - accuracy: 0.7143\n",
            "Epoch 25/80\n",
            "1/1 [==============================] - 0s 4ms/step - loss: 0.6617 - accuracy: 0.7143\n",
            "Epoch 26/80\n",
            "1/1 [==============================] - 0s 1ms/step - loss: 0.6616 - accuracy: 0.7143\n",
            "Epoch 27/80\n",
            "1/1 [==============================] - 0s 5ms/step - loss: 0.6615 - accuracy: 0.7143\n",
            "Epoch 28/80\n",
            "1/1 [==============================] - 0s 2ms/step - loss: 0.6613 - accuracy: 0.7143\n",
            "Epoch 29/80\n",
            "1/1 [==============================] - 0s 3ms/step - loss: 0.6612 - accuracy: 0.7143\n",
            "Epoch 30/80\n",
            "1/1 [==============================] - 0s 3ms/step - loss: 0.6611 - accuracy: 0.7143\n",
            "Epoch 31/80\n",
            "1/1 [==============================] - 0s 3ms/step - loss: 0.6609 - accuracy: 0.7143\n",
            "Epoch 32/80\n",
            "1/1 [==============================] - 0s 1ms/step - loss: 0.6608 - accuracy: 0.7143\n",
            "Epoch 33/80\n",
            "1/1 [==============================] - 0s 3ms/step - loss: 0.6607 - accuracy: 0.7143\n",
            "Epoch 34/80\n",
            "1/1 [==============================] - 0s 1ms/step - loss: 0.6606 - accuracy: 0.7143\n",
            "Epoch 35/80\n",
            "1/1 [==============================] - 0s 1ms/step - loss: 0.6604 - accuracy: 0.7143\n",
            "Epoch 36/80\n",
            "1/1 [==============================] - 0s 1ms/step - loss: 0.6603 - accuracy: 0.7143\n",
            "Epoch 37/80\n",
            "1/1 [==============================] - 0s 1ms/step - loss: 0.6602 - accuracy: 0.7143\n",
            "Epoch 38/80\n",
            "1/1 [==============================] - 0s 3ms/step - loss: 0.6601 - accuracy: 0.7143\n",
            "Epoch 39/80\n",
            "1/1 [==============================] - 0s 2ms/step - loss: 0.6600 - accuracy: 0.7143\n",
            "Epoch 40/80\n",
            "1/1 [==============================] - 0s 2ms/step - loss: 0.6598 - accuracy: 0.7143\n",
            "Epoch 41/80\n",
            "1/1 [==============================] - 0s 3ms/step - loss: 0.6597 - accuracy: 0.7143\n",
            "Epoch 42/80\n",
            "1/1 [==============================] - 0s 2ms/step - loss: 0.6596 - accuracy: 0.8571\n",
            "Epoch 43/80\n",
            "1/1 [==============================] - 0s 3ms/step - loss: 0.6595 - accuracy: 0.8571\n",
            "Epoch 44/80\n",
            "1/1 [==============================] - 0s 3ms/step - loss: 0.6594 - accuracy: 0.8571\n",
            "Epoch 45/80\n",
            "1/1 [==============================] - 0s 3ms/step - loss: 0.6593 - accuracy: 0.8571\n",
            "Epoch 46/80\n",
            "1/1 [==============================] - 0s 3ms/step - loss: 0.6592 - accuracy: 0.8571\n",
            "Epoch 47/80\n",
            "1/1 [==============================] - 0s 3ms/step - loss: 0.6590 - accuracy: 0.8571\n",
            "Epoch 48/80\n",
            "1/1 [==============================] - 0s 3ms/step - loss: 0.6589 - accuracy: 0.8571\n",
            "Epoch 49/80\n",
            "1/1 [==============================] - 0s 3ms/step - loss: 0.6588 - accuracy: 0.8571\n",
            "Epoch 50/80\n",
            "1/1 [==============================] - 0s 4ms/step - loss: 0.6587 - accuracy: 0.8571\n",
            "Epoch 51/80\n",
            "1/1 [==============================] - 0s 3ms/step - loss: 0.6586 - accuracy: 0.8571\n",
            "Epoch 52/80\n",
            "1/1 [==============================] - 0s 3ms/step - loss: 0.6585 - accuracy: 0.8571\n",
            "Epoch 53/80\n",
            "1/1 [==============================] - 0s 3ms/step - loss: 0.6584 - accuracy: 0.8571\n",
            "Epoch 54/80\n",
            "1/1 [==============================] - 0s 2ms/step - loss: 0.6583 - accuracy: 0.8571\n",
            "Epoch 55/80\n",
            "1/1 [==============================] - 0s 2ms/step - loss: 0.6582 - accuracy: 0.8571\n",
            "Epoch 56/80\n",
            "1/1 [==============================] - 0s 4ms/step - loss: 0.6581 - accuracy: 0.8571\n",
            "Epoch 57/80\n",
            "1/1 [==============================] - 0s 2ms/step - loss: 0.6580 - accuracy: 0.8571\n",
            "Epoch 58/80\n",
            "1/1 [==============================] - 0s 2ms/step - loss: 0.6578 - accuracy: 0.8571\n",
            "Epoch 59/80\n",
            "1/1 [==============================] - 0s 1ms/step - loss: 0.6577 - accuracy: 0.8571\n",
            "Epoch 60/80\n",
            "1/1 [==============================] - 0s 2ms/step - loss: 0.6576 - accuracy: 0.8571\n",
            "Epoch 61/80\n",
            "1/1 [==============================] - 0s 1ms/step - loss: 0.6575 - accuracy: 0.8571\n",
            "Epoch 62/80\n",
            "1/1 [==============================] - 0s 2ms/step - loss: 0.6574 - accuracy: 0.8571\n",
            "Epoch 63/80\n",
            "1/1 [==============================] - 0s 2ms/step - loss: 0.6573 - accuracy: 0.8571\n",
            "Epoch 64/80\n",
            "1/1 [==============================] - 0s 3ms/step - loss: 0.6572 - accuracy: 0.8571\n",
            "Epoch 65/80\n",
            "1/1 [==============================] - 0s 2ms/step - loss: 0.6571 - accuracy: 0.8571\n",
            "Epoch 66/80\n",
            "1/1 [==============================] - 0s 2ms/step - loss: 0.6570 - accuracy: 0.8571\n",
            "Epoch 67/80\n",
            "1/1 [==============================] - 0s 3ms/step - loss: 0.6569 - accuracy: 0.8571\n",
            "Epoch 68/80\n",
            "1/1 [==============================] - 0s 3ms/step - loss: 0.6568 - accuracy: 0.8571\n",
            "Epoch 69/80\n",
            "1/1 [==============================] - 0s 3ms/step - loss: 0.6567 - accuracy: 0.8571\n",
            "Epoch 70/80\n",
            "1/1 [==============================] - 0s 3ms/step - loss: 0.6567 - accuracy: 0.8571\n",
            "Epoch 71/80\n",
            "1/1 [==============================] - 0s 3ms/step - loss: 0.6566 - accuracy: 0.8571\n",
            "Epoch 72/80\n",
            "1/1 [==============================] - 0s 4ms/step - loss: 0.6565 - accuracy: 0.8571\n",
            "Epoch 73/80\n",
            "1/1 [==============================] - 0s 2ms/step - loss: 0.6564 - accuracy: 0.8571\n",
            "Epoch 74/80\n",
            "1/1 [==============================] - 0s 3ms/step - loss: 0.6563 - accuracy: 0.8571\n",
            "Epoch 75/80\n",
            "1/1 [==============================] - 0s 1ms/step - loss: 0.6562 - accuracy: 0.8571\n",
            "Epoch 76/80\n",
            "1/1 [==============================] - 0s 1ms/step - loss: 0.6561 - accuracy: 0.8571\n",
            "Epoch 77/80\n",
            "1/1 [==============================] - 0s 2ms/step - loss: 0.6560 - accuracy: 0.8571\n",
            "Epoch 78/80\n",
            "1/1 [==============================] - 0s 2ms/step - loss: 0.6559 - accuracy: 0.8571\n",
            "Epoch 79/80\n",
            "1/1 [==============================] - 0s 2ms/step - loss: 0.6558 - accuracy: 0.8571\n",
            "Epoch 80/80\n",
            "1/1 [==============================] - 0s 2ms/step - loss: 0.6557 - accuracy: 0.8571\n"
          ],
          "name": "stdout"
        },
        {
          "output_type": "execute_result",
          "data": {
            "text/plain": [
              "<tensorflow.python.keras.callbacks.History at 0x7f4b83262358>"
            ]
          },
          "metadata": {
            "tags": []
          },
          "execution_count": 61
        }
      ]
    },
    {
      "cell_type": "code",
      "metadata": {
        "id": "3fn5JfAea6hq",
        "colab_type": "code",
        "colab": {
          "base_uri": "https://localhost:8080/",
          "height": 194
        },
        "outputId": "2b04dfce-5209-4763-c612-b926850597a7"
      },
      "source": [
        "model.summary()"
      ],
      "execution_count": 63,
      "outputs": [
        {
          "output_type": "stream",
          "text": [
            "Model: \"sequential_9\"\n",
            "_________________________________________________________________\n",
            "Layer (type)                 Output Shape              Param #   \n",
            "=================================================================\n",
            "dense_9 (Dense)              (None, 1)                 4         \n",
            "=================================================================\n",
            "Total params: 4\n",
            "Trainable params: 4\n",
            "Non-trainable params: 0\n",
            "_________________________________________________________________\n"
          ],
          "name": "stdout"
        }
      ]
    },
    {
      "cell_type": "code",
      "metadata": {
        "id": "Yg77L26HZ4Gx",
        "colab_type": "code",
        "colab": {
          "base_uri": "https://localhost:8080/",
          "height": 52
        },
        "outputId": "4c1b4046-ec77-42f3-bc09-69492bdc0ce9"
      },
      "source": [
        "# evaluate the model\n",
        "scores = model.evaluate(X, y)\n",
        "print(f\"{model.metrics_names[1]}: {scores[1]*100}\")"
      ],
      "execution_count": 64,
      "outputs": [
        {
          "output_type": "stream",
          "text": [
            "1/1 [==============================] - 0s 1ms/step - loss: 0.6556 - accuracy: 0.8571\n",
            "accuracy: 85.71428656578064\n"
          ],
          "name": "stdout"
        }
      ]
    },
    {
      "cell_type": "markdown",
      "metadata": {
        "id": "zV-7C_YSmqTU",
        "colab_type": "text"
      },
      "source": [
        "### Build a Tensor Keras Perceptron\n",
        "\n",
        "Try to match the architecture we used on Monday - inputs nodes and one output node. Apply this architecture to the XOR-ish dataset above. \n",
        "\n",
        "After fitting your model answer these questions: \n",
        "\n",
        "Are you able to achieve the same results as a bigger architecture from the first part of the assignment? Why is this disparity the case? What properties of the XOR dataset would cause this disparity? \n",
        "\n",
        "Now extrapolate this behavior on a much larger dataset in terms of features. What kind of architecture decisions could we make to avoid the problems the XOR dataset presents at scale? \n",
        "\n",
        "*Note:* The bias term is baked in by default in the Dense layer."
      ]
    },
    {
      "cell_type": "code",
      "metadata": {
        "id": "IeN53z-AmqTV",
        "colab_type": "code",
        "colab": {}
      },
      "source": [
        "### Compare "
      ],
      "execution_count": 0,
      "outputs": []
    },
    {
      "cell_type": "markdown",
      "metadata": {
        "colab_type": "text",
        "id": "8b-r70o8p2Dm"
      },
      "source": [
        "## Try building/training a more complex MLP on a bigger dataset.\n",
        "\n",
        "Use TensorFlow Keras & the [MNIST dataset](http://yann.lecun.com/exdb/mnist/) to build the canonical handwriting digit recognizer and see what kind of accuracy you can achieve. \n",
        "\n",
        "If you need inspiration, the Internet is chalk-full of tutorials, but I want you to see how far you can get on your own first. I've linked to the original MNIST dataset above but it will probably be easier to download data through a neural network library. If you reference outside resources make sure you understand every line of code that you're using from other sources, and share with your fellow students helpful resources that you find.\n",
        "\n",
        "\n",
        "### Parts\n",
        "1. Gathering & Transforming the Data\n",
        "2. Making MNIST a Binary Problem\n",
        "3. Estimating your Neural Network (the part you focus on)"
      ]
    },
    {
      "cell_type": "markdown",
      "metadata": {
        "id": "YkCJkpwqmqTX",
        "colab_type": "text"
      },
      "source": [
        "### Gathering the Data \n",
        "\n",
        "`keras` has a handy method to pull the mnist dataset for you. You'll notice that each observation is a 28x28 arrary which represents an image. Although most Neural Network frameworks can handle higher dimensional data, that is more overhead than necessary for us. We need to flatten the image to one long row which will be 784 values (28X28). Basically, you will be appending each row to one another to make on really long row. "
      ]
    },
    {
      "cell_type": "code",
      "metadata": {
        "id": "hlQPtozwmqTX",
        "colab_type": "code",
        "colab": {}
      },
      "source": [
        "import numpy as np\n",
        "from tensorflow.keras.datasets import mnist\n",
        "from tensorflow.keras.utils import to_categorical"
      ],
      "execution_count": 0,
      "outputs": []
    },
    {
      "cell_type": "code",
      "metadata": {
        "id": "pcT33gCdmqTZ",
        "colab_type": "code",
        "colab": {}
      },
      "source": [
        "# input image dimensions\n",
        "img_rows, img_cols = 28, 28"
      ],
      "execution_count": 0,
      "outputs": []
    },
    {
      "cell_type": "code",
      "metadata": {
        "id": "h9uBNM6omqTb",
        "colab_type": "code",
        "colab": {
          "base_uri": "https://localhost:8080/",
          "height": 52
        },
        "outputId": "ebf82c43-8899-4ca5-e350-5a72131da631"
      },
      "source": [
        "# the data, split between train and test sets\n",
        "(x_train, y_train), (x_test, y_test) = mnist.load_data()"
      ],
      "execution_count": 15,
      "outputs": [
        {
          "output_type": "stream",
          "text": [
            "Downloading data from https://storage.googleapis.com/tensorflow/tf-keras-datasets/mnist.npz\n",
            "11493376/11490434 [==============================] - 1s 0us/step\n"
          ],
          "name": "stdout"
        }
      ]
    },
    {
      "cell_type": "code",
      "metadata": {
        "id": "dtmPbYzumqTd",
        "colab_type": "code",
        "colab": {}
      },
      "source": [
        "x_train = x_train.reshape(x_train.shape[0], img_rows * img_cols)\n",
        "x_test = x_test.reshape(x_test.shape[0], img_rows * img_cols)\n",
        "\n",
        "# Normalize Our Data\n",
        "x_train = x_train / 255\n",
        "x_test = x_test / 255"
      ],
      "execution_count": 0,
      "outputs": []
    },
    {
      "cell_type": "code",
      "metadata": {
        "id": "vG_L1RwEmqTg",
        "colab_type": "code",
        "outputId": "5d20f642-d313-4206-a021-e985a04a452b",
        "colab": {
          "base_uri": "https://localhost:8080/",
          "height": 34
        }
      },
      "source": [
        "# Now the data should be in a format you're more familiar with\n",
        "x_train.shape"
      ],
      "execution_count": 17,
      "outputs": [
        {
          "output_type": "execute_result",
          "data": {
            "text/plain": [
              "(60000, 784)"
            ]
          },
          "metadata": {
            "tags": []
          },
          "execution_count": 17
        }
      ]
    },
    {
      "cell_type": "markdown",
      "metadata": {
        "id": "VRET_aMymqTi",
        "colab_type": "text"
      },
      "source": [
        "### Making MNIST a Binary Problem \n",
        "MNIST is multiclass classification problem; however we haven't covered all the necessary techniques to handle this yet. You would need to one-hot encode the target, use a different loss metric, and use softmax activations for the last layer. This is all stuff we'll cover later this week, but let us simplify the problem for now: Zero or all else."
      ]
    },
    {
      "cell_type": "code",
      "metadata": {
        "id": "Dxm8JbiVmqTj",
        "colab_type": "code",
        "colab": {}
      },
      "source": [
        "import numpy as np\n",
        "\n",
        "y_temp = np.zeros(y_train.shape)\n",
        "y_temp[np.where(y_train == 0.0)[0]] = 1\n",
        "y_train = y_temp\n",
        "\n",
        "y_temp = np.zeros(y_test.shape)\n",
        "y_temp[np.where(y_test == 0.0)[0]] = 1\n",
        "y_test = y_temp"
      ],
      "execution_count": 0,
      "outputs": []
    },
    {
      "cell_type": "code",
      "metadata": {
        "id": "eytWfYdJmqTk",
        "colab_type": "code",
        "outputId": "5aa97601-39ed-49ff-b78c-391d5a82ea48",
        "colab": {
          "base_uri": "https://localhost:8080/",
          "height": 34
        }
      },
      "source": [
        "# A Nice Binary target for ya to work with\n",
        "y_train"
      ],
      "execution_count": 25,
      "outputs": [
        {
          "output_type": "execute_result",
          "data": {
            "text/plain": [
              "array([1., 0., 1., ..., 1., 1., 1.])"
            ]
          },
          "metadata": {
            "tags": []
          },
          "execution_count": 25
        }
      ]
    },
    {
      "cell_type": "markdown",
      "metadata": {
        "id": "T6lwuGt6mqTm",
        "colab_type": "text"
      },
      "source": [
        "### Estimating Your `net"
      ]
    },
    {
      "cell_type": "code",
      "metadata": {
        "colab_type": "code",
        "id": "5MOPtYdk1HgA",
        "colab": {}
      },
      "source": [
        "##### Your Code Here #####\n",
        "\n",
        "class NeuralNetwork:\n",
        "    def __init__(self):\n",
        "        # Set up Architecture of Neural Network\n",
        "        self.inputs = 784\n",
        "        self.hiddenNodes = 128\n",
        "        self.outputNodes = 1\n",
        "\n",
        "        # Initial Weights\n",
        "        # 3x3 Matrix Array for the First Layer\n",
        "        self.weights1 = np.random.rand(self.inputs, self.hiddenNodes)\n",
        "       \n",
        "        # 3x1 Matrix Array for Hidden to Output\n",
        "        self.weights2 = np.random.rand(self.hiddenNodes, self.outputNodes)\n",
        "        \n",
        "    def sigmoid(self, s):\n",
        "        return 1 / (1+np.exp(-s))\n",
        "    \n",
        "    def sigmoidPrime(self, s):\n",
        "        return s * (1 - s)\n",
        "    \n",
        "    def feed_forward(self, X):\n",
        "        \"\"\"\n",
        "        Calculate the NN inference using feed forward.\n",
        "        aka \"predict\"\n",
        "        \"\"\"\n",
        "        \n",
        "        # Weighted sum of inputs => hidden layer\n",
        "        self.hidden_sum = np.dot(X, self.weights1)\n",
        "        \n",
        "        # Activations of weighted sum\n",
        "        self.activated_hidden = self.sigmoid(self.hidden_sum)\n",
        "        \n",
        "        # Weight sum between hidden and output\n",
        "        self.output_sum = np.dot(self.activated_hidden, self.weights2)\n",
        "        \n",
        "        # Final activation of output\n",
        "        self.activated_output = self.sigmoid(self.output_sum)\n",
        "        \n",
        "        return self.activated_output\n",
        "        \n",
        "    def backward(self, X,y,o):\n",
        "        \"\"\"\n",
        "        Backward propagate through the network\n",
        "        \"\"\"\n",
        "        \n",
        "        # Error in Output\n",
        "        # Categorical Cross Entropy - Would a function to do this. \n",
        "        self.o_error = y - o\n",
        "        \n",
        "        # Apply Derivative of Sigmoid to error\n",
        "        # How far off are we in relation to the Sigmoid f(x) of the output\n",
        "        # ^- aka hidden => output\n",
        "        self.o_delta = self.o_error * self.sigmoidPrime(o)\n",
        "        \n",
        "        # z2 error\n",
        "        self.o_delta = np.expand_dims(self.o_delta, axis=1)\n",
        "        self.z2_error = self.o_delta * self.weights2.T\n",
        "        \n",
        "        # How much of that \"far off\" can explained by the input => hidden\n",
        "        self.z2_delta = self.z2_error * self.sigmoidPrime(self.activated_hidden)\n",
        "        \n",
        "        # Adjustment to first set of weights (input => hidden)\n",
        "        self.weights1 += X.T.dot(self.z2_delta)\n",
        "        # Adjustment to second set of weights (hidden => output)\n",
        "        self.weights2 += self.activated_hidden.T.dot(self.o_delta)\n",
        "        \n",
        "\n",
        "    def train(self, X, y):\n",
        "        o = self.feed_forward(X)[:,0]\n",
        "        self.backward(X,y,o)"
      ],
      "execution_count": 0,
      "outputs": []
    },
    {
      "cell_type": "code",
      "metadata": {
        "id": "iFoejKnXGlIr",
        "colab_type": "code",
        "colab": {
          "base_uri": "https://localhost:8080/",
          "height": 34
        },
        "outputId": "8031e070-c6aa-433e-91a8-79c4d5be1bee"
      },
      "source": [
        "nn.o_error.shape"
      ],
      "execution_count": 27,
      "outputs": [
        {
          "output_type": "execute_result",
          "data": {
            "text/plain": [
              "(500,)"
            ]
          },
          "metadata": {
            "tags": []
          },
          "execution_count": 27
        }
      ]
    },
    {
      "cell_type": "code",
      "metadata": {
        "id": "HiPb3l78GlLj",
        "colab_type": "code",
        "colab": {
          "base_uri": "https://localhost:8080/",
          "height": 34
        },
        "outputId": "dabcf6d5-f9d7-4a3f-adfa-12ef0af0e228"
      },
      "source": [
        "t = nn.o_error * nn.sigmoidPrime(nn.feed_forward(x_test[:500]))\n",
        "t.shape"
      ],
      "execution_count": 29,
      "outputs": [
        {
          "output_type": "execute_result",
          "data": {
            "text/plain": [
              "(500, 500)"
            ]
          },
          "metadata": {
            "tags": []
          },
          "execution_count": 29
        }
      ]
    },
    {
      "cell_type": "code",
      "metadata": {
        "id": "rfcfksL4GsIf",
        "colab_type": "code",
        "colab": {
          "base_uri": "https://localhost:8080/",
          "height": 816
        },
        "outputId": "2321c259-1fe4-4136-a995-da4354717c4b"
      },
      "source": [
        "nn = NeuralNetwork()\n",
        "\n",
        "# Number of Epochs / Iterations\n",
        "for i in range(10000):\n",
        "    if (i+1 in [1,2,3,4,5]) or ((i+1) % 1000 ==0):\n",
        "        print('+' + '---' * 3 + f'EPOCH {i+1}' + '---'*3 + '+')\n",
        "        print(\"Loss: \\n\", str(np.mean(np.square(y_test- nn.feed_forward(x_test)))))\n",
        "    nn.train(x_train[:500],y_train[:500])"
      ],
      "execution_count": 30,
      "outputs": [
        {
          "output_type": "stream",
          "text": [
            "+---------EPOCH 1---------+\n",
            "Loss: \n",
            " 0.098\n",
            "+---------EPOCH 2---------+\n",
            "Loss: \n",
            " 0.098\n",
            "+---------EPOCH 3---------+\n",
            "Loss: \n",
            " 0.098\n",
            "+---------EPOCH 4---------+\n",
            "Loss: \n",
            " 0.098\n",
            "+---------EPOCH 5---------+\n",
            "Loss: \n",
            " 0.098\n",
            "+---------EPOCH 1000---------+\n",
            "Loss: \n",
            " 0.098\n",
            "+---------EPOCH 2000---------+\n",
            "Loss: \n",
            " 0.098\n",
            "+---------EPOCH 3000---------+\n",
            "Loss: \n",
            " 0.098\n",
            "+---------EPOCH 4000---------+\n",
            "Loss: \n",
            " 0.098\n",
            "+---------EPOCH 5000---------+\n",
            "Loss: \n",
            " 0.098\n",
            "+---------EPOCH 6000---------+\n",
            "Loss: \n",
            " 0.098\n",
            "+---------EPOCH 7000---------+\n",
            "Loss: \n",
            " 0.098\n",
            "+---------EPOCH 8000---------+\n",
            "Loss: \n",
            " 0.098\n",
            "+---------EPOCH 9000---------+\n",
            "Loss: \n",
            " 0.098\n",
            "+---------EPOCH 10000---------+\n",
            "Loss: \n",
            " 0.098\n"
          ],
          "name": "stdout"
        }
      ]
    },
    {
      "cell_type": "markdown",
      "metadata": {
        "colab_type": "text",
        "id": "FwlRJSfBlCvy"
      },
      "source": [
        "## Stretch Goals: \n",
        "\n",
        "- Make MNIST a multiclass problem using cross entropy & soft-max\n",
        "- Implement Cross Validation model evaluation on your MNIST implementation \n",
        "- Research different [Gradient Descent Based Optimizers](https://keras.io/optimizers/)\n",
        " - [Siraj Raval the evolution of gradient descent](https://www.youtube.com/watch?v=nhqo0u1a6fw)\n",
        "- Build a housing price estimation model using a neural network. How does its accuracy compare with the regression models that we fit earlier on in class?"
      ]
    }
  ]
}