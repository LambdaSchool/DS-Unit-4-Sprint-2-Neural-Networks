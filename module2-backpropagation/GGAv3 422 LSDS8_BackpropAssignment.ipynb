{
 "cells": [
  {
   "cell_type": "markdown",
   "metadata": {
    "colab_type": "text",
    "id": "NGGrt9EYlCqY"
   },
   "source": [
    "<img align=\"left\" src=\"https://lever-client-logos.s3.amazonaws.com/864372b1-534c-480e-acd5-9711f850815c-1524247202159.png\" width=200>\n",
    "<br></br>\n",
    "\n",
    "# Backpropagation Practice\n",
    "\n",
    "## *Data Science Unit 4 Sprint 2 Assignment 2*\n",
    "\n",
    "Implement a 3 input, 4 node hidden-layer, 1 output node Multilayer Perceptron on the following dataset:\n",
    "\n",
    "| x1 | x2 | x3 | y |\n",
    "|----|----|----|---|\n",
    "| 0  | 0  | 1  | 0 |\n",
    "| 0  | 1  | 1  | 1 |\n",
    "| 1  | 0  | 1  | 1 |\n",
    "| 0  | 1  | 0  | 1 |\n",
    "| 1  | 0  | 0  | 1 |\n",
    "| 1  | 1  | 1  | 0 |\n",
    "| 0  | 0  | 0  | 0 |\n",
    "\n",
    "If you look at the data you'll notice that the first two columns behave like an XOR gate while the last column is mostly just noise. Remember that creating an XOR gate was what the perceptron was criticized for not being able to learn. "
   ]
  },
  {
   "cell_type": "code",
   "execution_count": 6,
   "metadata": {},
   "outputs": [],
   "source": [
    "# import libraries\n",
    "import numpy as np\n",
    "import pandas as pd\n"
   ]
  },
  {
   "cell_type": "code",
   "execution_count": 7,
   "metadata": {
    "colab": {},
    "colab_type": "code",
    "id": "nEREYT-3wI1f"
   },
   "outputs": [],
   "source": [
    "#the data\n",
    "\n",
    "data = { 'x1': [0,0,1,0,1,1,0],\n",
    "         'x2': [0,1,0,1,0,1,0],\n",
    "         'x3': [1,1,1,0,0,1,0],\n",
    "         'y':  [0,1,1,1,1,0,0]\n",
    "       }\n",
    "df = pd.DataFrame.from_dict(data).astype('int') \n",
    "\n",
    "# note, this (maybe?) should be split into train,validate,test sets in a real-life situation\n"
   ]
  },
  {
   "cell_type": "code",
   "execution_count": 57,
   "metadata": {},
   "outputs": [],
   "source": [
    "## making a class for the NN\n",
    "\n",
    "class ThreeLayerNNetwork:\n",
    "    def __init__(self):\n",
    "        self.inputs = 3\n",
    "        self.hiddenNodes = 4\n",
    "        self.outputNodes = 1\n",
    "        \n",
    "        # weights in shape of 3 x 4\n",
    "        self.weights = np.random.rand(self.inputs, self.hiddenNodes)\n",
    "        \n",
    "        # weights of hidden layer to output arrows\n",
    "        self.weights2 = np.random.rand(self.hiddenNodes, self.outputNodes)\n",
    "        \n",
    "    def sigmoid(self, s):\n",
    "        return 1 / (1 + np.exp(-s))\n",
    "    \n",
    "    def sigmoid_derivative(self, s):\n",
    "        return s * (1 - s)\n",
    "    \n",
    "    def feed_forward(self, X):\n",
    "        # steps 2-5\n",
    "        self.first_weighted_sum = np.dot(X, self.weights)\n",
    "        \n",
    "        self.activated_hidden = self.sigmoid(self.first_weighted_sum)\n",
    "        \n",
    "        self.second_weighted_sum = np.dot(self.activated_hidden, self.weights2)\n",
    "    \n",
    "        self.activated_output = self.sigmoid(self.second_weighted_sum)\n",
    "\n",
    "        return self.activated_output\n",
    "    \n",
    "    def back_propagation(self, X, y):\n",
    "        \n",
    "        # backpropagation\n",
    "        # computing error differen of actual and predicted\n",
    "        self.error_output = y - self.activated_output\n",
    "        \n",
    "        self.delta_output = self.error_output * self.sigmoid_derivative(self.activated_output)\n",
    "        \n",
    "        self.error_hidden = np.dot(self.delta_output, self.weights2.T)\n",
    "        \n",
    "        self.delta_hidden = self.error_hidden * self.sigmoid_derivative(self.activated_hidden)\n",
    "        \n",
    "        # adjustments to weights and wights\n",
    "        self.weights += np.dot(X.T, self.delta_hidden)\n",
    "        self.weights2 += np.dot(self.activated_hidden.T, self.delta_output)\n",
    "        \n",
    "        return True\n",
    "        \n",
    "    def train (self, X, y, iter=10):\n",
    "        for epoch in range(iter):\n",
    "            self.feed_forward(X)\n",
    "            self.back_propagation(X, y)    \n",
    "        return self.__dict__\n",
    "    \n",
    "    def predict(self, X):\n",
    "        #return self.feed_forward(X)\n",
    "        return[1 if prediction > 0.5 else 0 for prediction in self.feed_forward(X)]\n",
    "    \n",
    "    #or prediction in self.feed_forward(X):\n",
    "    #   prediction = []\n",
    "    #   if prediction\n",
    "    "
   ]
  },
  {
   "cell_type": "code",
   "execution_count": 58,
   "metadata": {},
   "outputs": [],
   "source": [
    "features = ['x1' ,'x2' ,'x3']\n",
    "X = df[features].values\n",
    "y = df[['y']].values"
   ]
  },
  {
   "cell_type": "code",
   "execution_count": 59,
   "metadata": {},
   "outputs": [
    {
     "data": {
      "text/plain": [
       "{'inputs': 3,\n",
       " 'hiddenNodes': 4,\n",
       " 'outputNodes': 1,\n",
       " 'weights': array([[ 5.62893933, -4.28878382,  6.24629333,  3.11514146],\n",
       "        [ 5.62848634,  6.0156396 , -4.15464482,  3.15455153],\n",
       "        [-0.36204749,  0.64437275,  0.40529275,  1.56262391]]),\n",
       " 'weights2': array([[ 12.15383499],\n",
       "        [-11.88595015],\n",
       "        [-11.87501232],\n",
       "        [  4.54465272]]),\n",
       " 'first_weighted_sum': array([[-0.36205139,  0.6443725 ,  0.40528971,  1.56261588],\n",
       "        [ 5.26642085,  6.65998714, -3.7493231 ,  4.71713773],\n",
       "        [ 5.26687375, -3.64438101,  6.65156035,  4.67772733],\n",
       "        [ 5.62847224,  6.01561464, -4.15461281,  3.15452185],\n",
       "        [ 5.62892514, -4.28875351,  6.24627064,  3.11511145],\n",
       "        [10.89534599,  2.37123363,  2.49694755,  7.83224918],\n",
       "        [ 0.        ,  0.        ,  0.        ,  0.        ]]),\n",
       " 'activated_hidden': array([[0.41046307, 0.6557412 , 0.5999579 , 0.82672839],\n",
       "        [0.99486446, 0.99872048, 0.02299257, 0.9911385 ],\n",
       "        [0.99486677, 0.02547181, 0.99870966, 0.99078557],\n",
       "        [0.99641881, 0.99756559, 0.01544944, 0.95908653],\n",
       "        [0.99642042, 0.01353627, 0.99806608, 0.95751179],\n",
       "        [0.99998146, 0.91460726, 0.92392755, 0.99960343],\n",
       "        [0.5       , 0.5       , 0.5       , 0.5       ]]),\n",
       " 'second_weighted_sum': array([[-6.17265024],\n",
       "        [ 4.4519767 ],\n",
       "        [ 4.43173411],\n",
       "        [ 4.4285062 ],\n",
       "        [ 4.448908  ],\n",
       "        [-5.14608683],\n",
       "        [-3.53118481]]),\n",
       " 'activated_output': array([[0.00208136],\n",
       "        [0.98847878],\n",
       "        [0.98824595],\n",
       "        [0.9882084 ],\n",
       "        [0.98844378],\n",
       "        [0.00578844],\n",
       "        [0.02843783]]),\n",
       " 'error_output': array([[-0.00208136],\n",
       "        [ 0.01152122],\n",
       "        [ 0.01175405],\n",
       "        [ 0.0117916 ],\n",
       "        [ 0.01155622],\n",
       "        [-0.00578844],\n",
       "        [-0.02843783]]),\n",
       " 'delta_output': array([[-4.32304274e-06],\n",
       "        [ 1.31209181e-04],\n",
       "        [ 1.36533679e-04],\n",
       "        [ 1.37402304e-04],\n",
       "        [ 1.32002916e-04],\n",
       "        [-3.33121139e-05],\n",
       "        [-7.85712435e-04]]),\n",
       " 'error_hidden': array([[-5.25410862e-05,  5.13828101e-05,  5.13355245e-05,\n",
       "         -1.96463226e-05],\n",
       "        [ 1.59468071e-03, -1.55952574e-03, -1.55809057e-03,\n",
       "          5.96287859e-04],\n",
       "        [ 1.65939321e-03, -1.62281164e-03, -1.62131823e-03,\n",
       "          6.20485354e-04],\n",
       "        [ 1.66995024e-03, -1.63313594e-03, -1.63163303e-03,\n",
       "          6.24432871e-04],\n",
       "        [ 1.60432756e-03, -1.56895992e-03, -1.56751606e-03,\n",
       "          5.99895036e-04],\n",
       "        [-4.04866375e-04,  3.95941036e-04,  3.95576667e-04,\n",
       "         -1.51388866e-04],\n",
       "        [-9.54933532e-03,  9.33881879e-03,  9.33022465e-03,\n",
       "         -3.57071648e-03]]),\n",
       " 'delta_hidden': array([[-1.27140569e-05,  1.15993959e-05,  1.23209580e-05,\n",
       "         -2.81430735e-06],\n",
       "        [ 8.14749418e-06, -1.99289672e-06, -3.50008104e-05,\n",
       "          5.23718325e-06],\n",
       "        [ 8.47432183e-06, -4.02830518e-05, -2.08934815e-06,\n",
       "          5.66473650e-06],\n",
       "        [ 5.95899375e-06, -3.96603934e-06, -2.48183624e-05,\n",
       "          2.45024722e-05],\n",
       "        [ 5.72225433e-06, -2.09503897e-05, -3.02558752e-06,\n",
       "          2.44055061e-05],\n",
       "        [-7.50770086e-09,  3.09233204e-05,  2.78032756e-05,\n",
       "         -6.00132032e-08],\n",
       "        [-2.38733383e-03,  2.33470470e-03,  2.33255616e-03,\n",
       "         -8.92679121e-04]])}"
      ]
     },
     "execution_count": 59,
     "metadata": {},
     "output_type": "execute_result"
    }
   ],
   "source": [
    "perceptron = ThreeLayerNNetwork()\n",
    "perceptron.train(X,y, iter=10000)"
   ]
  },
  {
   "cell_type": "code",
   "execution_count": 60,
   "metadata": {},
   "outputs": [
    {
     "data": {
      "text/plain": [
       "array([[0.41046307, 0.6557412 , 0.5999579 , 0.82672839],\n",
       "       [0.99486446, 0.99872048, 0.02299257, 0.9911385 ],\n",
       "       [0.99486677, 0.02547181, 0.99870966, 0.99078557],\n",
       "       [0.99641881, 0.99756559, 0.01544944, 0.95908653],\n",
       "       [0.99642042, 0.01353627, 0.99806608, 0.95751179],\n",
       "       [0.99998146, 0.91460726, 0.92392755, 0.99960343],\n",
       "       [0.5       , 0.5       , 0.5       , 0.5       ]])"
      ]
     },
     "execution_count": 60,
     "metadata": {},
     "output_type": "execute_result"
    }
   ],
   "source": [
    "perceptron.activated_hidden"
   ]
  },
  {
   "cell_type": "code",
   "execution_count": 61,
   "metadata": {},
   "outputs": [
    {
     "data": {
      "text/plain": [
       "[0, 1, 1, 1, 1, 0, 0]"
      ]
     },
     "execution_count": 61,
     "metadata": {},
     "output_type": "execute_result"
    }
   ],
   "source": [
    "perceptron.predict(X)"
   ]
  },
  {
   "cell_type": "code",
   "execution_count": 62,
   "metadata": {},
   "outputs": [
    {
     "data": {
      "text/plain": [
       "(7, 1)"
      ]
     },
     "execution_count": 62,
     "metadata": {},
     "output_type": "execute_result"
    }
   ],
   "source": [
    "perceptron.delta_output.shape"
   ]
  },
  {
   "cell_type": "code",
   "execution_count": null,
   "metadata": {},
   "outputs": [],
   "source": []
  },
  {
   "cell_type": "code",
   "execution_count": null,
   "metadata": {},
   "outputs": [],
   "source": []
  },
  {
   "cell_type": "code",
   "execution_count": null,
   "metadata": {},
   "outputs": [],
   "source": []
  },
  {
   "cell_type": "code",
   "execution_count": null,
   "metadata": {},
   "outputs": [],
   "source": []
  },
  {
   "cell_type": "markdown",
   "metadata": {
    "colab_type": "text",
    "id": "8b-r70o8p2Dm"
   },
   "source": [
    "## Try building/training a more complex MLP on a bigger dataset.\n",
    "\n",
    "Use the [MNIST dataset](http://yann.lecun.com/exdb/mnist/) to build the cannonical handwriting digit recognizer and see what kind of accuracy you can achieve. \n",
    "\n",
    "If you need inspiration, the internet is chalk-full of tutorials, but I want you to see how far you can get on your own first. I've linked to the original MNIST dataset above but it will probably be easier to download data through a neural network library. If you reference outside resources make sure you understand every line of code that you're using from other sources, and share with your fellow students helpful resources that you find.\n",
    "\n",
    "\n",
    "### Parts\n",
    "1. Gathering & Transforming the Data\n",
    "2. Making MNIST a Binary Problem\n",
    "3. Estimating your Neural Network (the part you focus on)"
   ]
  },
  {
   "cell_type": "code",
   "execution_count": null,
   "metadata": {},
   "outputs": [],
   "source": []
  },
  {
   "cell_type": "markdown",
   "metadata": {},
   "source": [
    "### Gathering the Data \n",
    "\n",
    "`keras` has a handy method to pull the mnist dataset for you. You'll notice that each observation is a 28x28 arrary which represents an image. Although most Neural Network frameworks can handle higher dimensional data, that is more overhead than necessary for us. We need to flatten the image to one long row which will be 784 values (28X28). Basically, you will be appending each row to one another to make on really long row. "
   ]
  },
  {
   "cell_type": "code",
   "execution_count": 39,
   "metadata": {},
   "outputs": [],
   "source": [
    "import numpy as np\n",
    "from tensorflow.keras.datasets import mnist\n",
    "from tensorflow.keras.utils import to_categorical"
   ]
  },
  {
   "cell_type": "code",
   "execution_count": 2,
   "metadata": {},
   "outputs": [],
   "source": [
    "# input image dimensions\n",
    "img_rows, img_cols = 28, 28"
   ]
  },
  {
   "cell_type": "code",
   "execution_count": 31,
   "metadata": {},
   "outputs": [],
   "source": [
    "# the data, split between train and test sets\n",
    "(x_train, y_train), (x_test, y_test) = mnist.load_data()"
   ]
  },
  {
   "cell_type": "code",
   "execution_count": 32,
   "metadata": {},
   "outputs": [],
   "source": [
    "x_train = x_train.reshape(x_train.shape[0], img_rows * img_cols)\n",
    "x_test = x_test.reshape(x_test.shape[0], img_rows * img_cols)\n",
    "\n",
    "# Normalize Our Data\n",
    "x_train = x_train / 255\n",
    "x_test = x_test / 255"
   ]
  },
  {
   "cell_type": "code",
   "execution_count": 16,
   "metadata": {},
   "outputs": [
    {
     "data": {
      "text/plain": [
       "(60000, 784)"
      ]
     },
     "execution_count": 16,
     "metadata": {},
     "output_type": "execute_result"
    }
   ],
   "source": [
    "# Now the data should be in a format you're more familiar with\n",
    "x_train.shape"
   ]
  },
  {
   "cell_type": "markdown",
   "metadata": {},
   "source": [
    "### Making MNIST a Binary Problem \n",
    "MNIST is multiclass classification problem; however we haven't covered all the necessary techniques to handle this yet. You would need to one-hot encode the target, use a different loss metric, and use softmax activations for the last layer. This is all stuff we'll cover later this week, but let us simply the problem for now: Zero or all else."
   ]
  },
  {
   "cell_type": "code",
   "execution_count": 33,
   "metadata": {},
   "outputs": [],
   "source": [
    "import numpy as np\n",
    "\n",
    "y_temp = np.zeros(y_train.shape)\n",
    "y_temp[np.where(y_train == 0.0)[0]] = 1\n",
    "y_train = y_temp\n",
    "\n",
    "y_temp = np.zeros(y_test.shape)\n",
    "y_temp[np.where(y_test == 0.0)[0]] = 1\n",
    "y_test = y_temp"
   ]
  },
  {
   "cell_type": "code",
   "execution_count": 40,
   "metadata": {},
   "outputs": [
    {
     "data": {
      "text/plain": [
       "array([0., 1., 0., ..., 0., 0., 0.])"
      ]
     },
     "execution_count": 40,
     "metadata": {},
     "output_type": "execute_result"
    }
   ],
   "source": [
    "# A Nice Binary target for ya to work with\n",
    "y_train"
   ]
  },
  {
   "cell_type": "markdown",
   "metadata": {},
   "source": [
    "### Estimating Your `net"
   ]
  },
  {
   "cell_type": "code",
   "execution_count": null,
   "metadata": {
    "colab": {},
    "colab_type": "code",
    "id": "5MOPtYdk1HgA"
   },
   "outputs": [],
   "source": [
    "##### Your Code Here #####\n",
    "\n"
   ]
  },
  {
   "cell_type": "markdown",
   "metadata": {
    "colab_type": "text",
    "id": "FwlRJSfBlCvy"
   },
   "source": [
    "## Stretch Goals: \n",
    "\n",
    "- Make MNIST a multiclass problem using cross entropy & soft-max\n",
    "- Implement Cross Validation model evaluation on your MNIST implementation \n",
    "- Research different [Gradient Descent Based Optimizers](https://keras.io/optimizers/)\n",
    " - [Siraj Raval the evolution of gradient descent](https://www.youtube.com/watch?v=nhqo0u1a6fw)\n",
    "- Build a housing price estimation model using a neural network. How does its accuracy compare with the regression models that we fit earlier on in class?"
   ]
  }
 ],
 "metadata": {
  "colab": {
   "name": "LS_DS_432_Backprop_Assignment.ipynb",
   "provenance": [],
   "version": "0.3.2"
  },
  "kernelspec": {
   "display_name": "Python 3",
   "language": "python",
   "name": "python3"
  },
  "language_info": {
   "codemirror_mode": {
    "name": "ipython",
    "version": 3
   },
   "file_extension": ".py",
   "mimetype": "text/x-python",
   "name": "python",
   "nbconvert_exporter": "python",
   "pygments_lexer": "ipython3",
   "version": "3.7.5"
  }
 },
 "nbformat": 4,
 "nbformat_minor": 4
}
