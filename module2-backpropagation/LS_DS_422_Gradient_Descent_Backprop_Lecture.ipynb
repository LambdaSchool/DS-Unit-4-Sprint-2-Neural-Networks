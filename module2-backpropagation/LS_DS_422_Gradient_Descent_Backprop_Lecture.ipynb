{
  "nbformat": 4,
  "nbformat_minor": 0,
  "metadata": {
    "kernelspec": {
      "display_name": "U4-S2-NNF (Python 3.7)",
      "language": "python",
      "name": "u4-s2-nnf"
    },
    "language_info": {
      "codemirror_mode": {
        "name": "ipython",
        "version": 3
      },
      "file_extension": ".py",
      "mimetype": "text/x-python",
      "name": "python",
      "nbconvert_exporter": "python",
      "pygments_lexer": "ipython3",
      "version": "3.7.3"
    },
    "colab": {
      "name": "LS_DS_422_Gradient_Descent_Backprop_Lecture.ipynb",
      "provenance": [],
      "collapsed_sections": [],
      "include_colab_link": true
    },
    "accelerator": "GPU"
  },
  "cells": [
    {
      "cell_type": "markdown",
      "metadata": {
        "id": "view-in-github",
        "colab_type": "text"
      },
      "source": [
        "<a href=\"https://colab.research.google.com/github/Lord-Kanzler/DS-Unit-4-Sprint-2-Neural-Networks/blob/master/module2-backpropagation/LS_DS_422_Gradient_Descent_Backprop_Lecture.ipynb\" target=\"_parent\"><img src=\"https://colab.research.google.com/assets/colab-badge.svg\" alt=\"Open In Colab\"/></a>"
      ]
    },
    {
      "cell_type": "markdown",
      "metadata": {
        "id": "1Sd2j6vkmcJr",
        "colab_type": "text"
      },
      "source": [
        "Lambda School Data Science\n",
        "\n",
        "*Unit 4, Sprint 2, Module 2*\n",
        "\n",
        "---"
      ]
    },
    {
      "cell_type": "markdown",
      "metadata": {
        "toc-hr-collapsed": false,
        "id": "yYLr0GpomcJs",
        "colab_type": "text"
      },
      "source": [
        "# Backpropagation & Gradient Descent (Prepare)"
      ]
    },
    {
      "cell_type": "markdown",
      "metadata": {
        "id": "CkiB5N0pmcJs",
        "colab_type": "text"
      },
      "source": [
        "## Learning Objectives\n",
        "* <a href=\"#p1\">Part 1</a>: Explain the intutition behind backproprogation\n",
        "* <a href=\"#p2\">Part 2</a>: Implement gradient descent + backpropagation on a feedforward neural network. \n",
        "* <a href=\"#p3\">Part 3</a>: Introduce the Keras Sequential Model API"
      ]
    },
    {
      "cell_type": "markdown",
      "metadata": {
        "id": "Lgxz4ri5mcJt",
        "colab_type": "text"
      },
      "source": [
        "## Summary of Yesterday\n",
        "\n",
        "Yesterday, we learned about some of the principal components of Neural Networks: Neurons, Weights, Activation Functions, and layers (input, output, & hidden). Today, we will reinforce our understanding of those components and introduce the mechanics of training a neural network. Feed-forward neural networks, such as multi-layer perceptrons (MLPs), are almost always trained using some variation of gradient descent where the gradient has been calculated by backpropagation.\n",
        "\n",
        "<center><img src=\"https://cdn-images-1.medium.com/max/1600/1*_M4bZyuwaGby6KMiYVYXvg.jpeg\" width=\"400\"></center>\n",
        "\n",
        "- There are three kinds of layers: input, hidden, and output layers.\n",
        "- Each layer is made up of **n** individual neurons (aka activation units) which have a corresponding weight and bias.\n",
        "- Signal is passed from layer to layer through a network by:\n",
        " - Taking in inputs from the training data (or previous layer)\n",
        " - Multiplying each input by its corresponding weight (think arrow/connecting line)\n",
        " - Adding a bias to this weighted some of inputs and weights\n",
        " - Activating this weighted sum + bias by squishifying it with sigmoid or some other activation function. With a single perceptron with three inputs, calculating the output from the node is done like so:\n",
        "\\begin{align}\n",
        " y = sigmoid(\\sum(weight_{1}input_{1} + weight_{2}input_{2} + weight_{3}input_{3}) + bias)\n",
        "\\end{align}\n",
        " - this final activated value is the signal that gets passed onto the next layer of the network.\n",
        " "
      ]
    },
    {
      "cell_type": "markdown",
      "metadata": {
        "id": "TajjlShRmcJt",
        "colab_type": "text"
      },
      "source": [
        "## Training a Neural Network: *Formal Summary*\n",
        "\n",
        "0. Pick a network architecture\n",
        "   - No. of input units = No. of features\n",
        "   - No. of output units = Number of Classes (or expected targets)\n",
        "   - Select the number of hidden layers and number of neurons within each hidden layer\n",
        "1. Randomly initialize weights\n",
        "2. Implement forward propagation to get $h_{\\theta}(x^{(i)})$ for any $x^{(i)}$\n",
        "3. Implement code to compute a cost function $J(\\theta)$\n",
        "4. Implement backpropagation to compute partial derivatives $\\frac{\\delta}{\\delta\\theta_{jk}^{l}}{J(\\theta)}$\n",
        "5. Use gradient descent (or other advanced optimizer) with backpropagation to minimize $J(\\theta)$ as a function of parameters $\\theta\\$\n",
        "6. Repeat steps 2 - 5 until cost function is 'minimized' or some other stopping criteria is met. One pass over steps 2 - 5 is called an iteration or epoch."
      ]
    },
    {
      "cell_type": "markdown",
      "metadata": {
        "toc-hr-collapsed": false,
        "id": "Ukfll4zFmcJu",
        "colab_type": "text"
      },
      "source": [
        "## Calculating *\"cost\"*, *\"loss\"* or *\"error\"*\n",
        "\n",
        "We've talked about how in order to evaluate a network's performance, the data is \"fed forward\" until predictions are obtained and then the \"loss\" or \"error\" for a given observation is ascertained by looking at what the network predicted for that observation and comparing it to what it *should* have predicted. \n",
        "\n",
        "The error for a given observation is calculated by taking the square of the difference between the predicted value and the actual value. \n",
        "\n",
        "We can summarize the overall quality of a network's predictions by finding the average error across all observations. This gives us the \"Mean Squared Error.\" which hopefully is a fairly familiar model evaluation metric by now. Graphing the MSE over each epoch (training cycle) is a common practice with Neural Networks. This is what you're seeing in the top right corner of the Tensorflow Playground website as the number of \"epochs\" climbs higher and higher."
      ]
    },
    {
      "cell_type": "markdown",
      "metadata": {
        "id": "8LgH4DM3mcJu",
        "colab_type": "text"
      },
      "source": [
        "## What is an \"Epoch\"?\n",
        "\n",
        "An \"Epoch\" is one cycle of passing our data forward through the network, measuring error given our specified cost function, and then -via gradient descent- updating weights within our network to hopefully improve the quality of our predictions on the next iteration."
      ]
    },
    {
      "cell_type": "markdown",
      "metadata": {
        "id": "CyiJz9CKmcJu",
        "colab_type": "text"
      },
      "source": [
        "### A note about Hyperparameters\n",
        "\n",
        "Neural Networks have many more hyperparameters than other machine learning algorithms which is part of what makes them a beast to train.\n",
        "\n",
        "1. You need more data to train them on. \n",
        "2. They're complex so they take longer to train. \n",
        "3. They have lots and lots of hyperparameters which we need to find the most optimal combination of, so we might end up training our model dozens or hundreds of times with different combinations of hyperparameters in order to try and squeeze out a few more tenths of a percent of accuracy. "
      ]
    },
    {
      "cell_type": "markdown",
      "metadata": {
        "colab_type": "text",
        "id": "aM4CK1IarId4",
        "toc-hr-collapsed": false
      },
      "source": [
        "# Backpropagation (Learn)\n",
        "<a id=\"p1\"></a>"
      ]
    },
    {
      "cell_type": "markdown",
      "metadata": {
        "colab_type": "text",
        "toc-hr-collapsed": true,
        "id": "G2QaN-ismcJv"
      },
      "source": [
        "## Overview\n",
        "\n",
        "Backpropagation is short for [\"Backwards Propagation of errors\"](https://en.wikipedia.org/wiki/Backpropagation) and refers to a specific (rather calculus intensive) algorithm for how weights in a neural network are updated in reverse order at the end of each training epoch. Our purpose today is to demonstrate the backpropagation algorithm on a simple Feedforward Neural Network and in so doing help you get a grasp on the main process. If you want to understand all of the underlying calculus of how the gradients are calculated then you'll need to dive into it yourself, [3Blue1Brown's video is a great starting place](https://www.youtube.com/watch?v=tIeHLnjs5U8). I also highly recommend this Welch Labs series [Neural Networks Demystified](https://www.youtube.com/watch?v=bxe2T-V8XRs) if you want a rapid yet orderly walk through of the main intuitions and math behind the backpropagation algorithm. "
      ]
    },
    {
      "cell_type": "markdown",
      "metadata": {
        "id": "5x5pmbSmmcJw",
        "colab_type": "text"
      },
      "source": [
        "### What is a Gradient?\n",
        "\n",
        "> In vector calculus, the gradient is a multi-variable generalization of the derivative. \n",
        "\n",
        "The gradients that we will deal with today will be vector representations of the derivative of the activation function. "
      ]
    },
    {
      "cell_type": "markdown",
      "metadata": {
        "toc-hr-collapsed": true,
        "id": "yzDxYxV7mcJw",
        "colab_type": "text"
      },
      "source": [
        "## Follow Along\n",
        "\n",
        "In this section, we will again implement a multi-layer perceptron using numpy. We'll focus on using a __Feed Forward Neural Network__ to predict test scores. "
      ]
    },
    {
      "cell_type": "markdown",
      "metadata": {
        "colab_type": "text",
        "id": "Dm2HPETcrgy6",
        "toc-hr-collapsed": true
      },
      "source": [
        "![231 Neural Network](https://cdn-images-1.medium.com/max/1600/1*IjY3wFF24sK9UhiOlf36Bw.png)"
      ]
    },
    {
      "cell_type": "markdown",
      "metadata": {
        "colab_type": "text",
        "id": "4d4tzpwO6B47"
      },
      "source": [
        "### Generate some Fake Data"
      ]
    },
    {
      "cell_type": "code",
      "metadata": {
        "colab_type": "code",
        "id": "ERyVgeO_IWyV",
        "colab": {}
      },
      "source": [
        "import numpy as np\n",
        "\n",
        "np.random.seed(812)\n",
        "\n",
        "# hours studying, hours sleep\n",
        "X = np.array(([2,9],\n",
        "              [1,5],\n",
        "              [3,6]), dtype=float)\n",
        "\n",
        "# Exam Scores\n",
        "y = np.array(([90],\n",
        "              [72],\n",
        "              [80]), dtype=float)\n",
        "\n",
        "# y = 2*hours_studying + 4*hours_sleeping + 50\n",
        "# ^ what the network is trying to learn"
      ],
      "execution_count": 0,
      "outputs": []
    },
    {
      "cell_type": "markdown",
      "metadata": {
        "id": "C0NfIEzhmcJz",
        "colab_type": "text"
      },
      "source": [
        "### Feature Normalization"
      ]
    },
    {
      "cell_type": "code",
      "metadata": {
        "colab_type": "code",
        "id": "cDeUBW6k4Ri4",
        "outputId": "1aa753fe-db9a-4b14-9227-d29f9fde6cfc",
        "colab": {
          "base_uri": "https://localhost:8080/",
          "height": 158
        }
      },
      "source": [
        "# Normalizing Data on feature \n",
        "# Neural Network would probably do this on its own, but it will help us converge on a solution faster\n",
        "X = X / np.amax(X, axis=0)\n",
        "y = y / 100\n",
        "\n",
        "print(\"Studying, Sleeping \\n\", X)\n",
        "print(\"Test Score \\n\", y)"
      ],
      "execution_count": 32,
      "outputs": [
        {
          "output_type": "stream",
          "text": [
            "Studying, Sleeping \n",
            " [[0.66666667 1.        ]\n",
            " [0.33333333 0.55555556]\n",
            " [1.         0.66666667]]\n",
            "Test Score \n",
            " [[0.9 ]\n",
            " [0.72]\n",
            " [0.8 ]]\n"
          ],
          "name": "stdout"
        }
      ]
    },
    {
      "cell_type": "markdown",
      "metadata": {
        "colab_type": "text",
        "id": "bgTf6vTS69Sw"
      },
      "source": [
        "### Neural Network Architecture\n",
        "Lets create a Neural_Network class to contain this functionality"
      ]
    },
    {
      "cell_type": "code",
      "metadata": {
        "colab_type": "code",
        "id": "RUI8VSR5zyBv",
        "colab": {}
      },
      "source": [
        "class NeuralNetwork: \n",
        "    \n",
        "    def __init__(self):\n",
        "        # Setup Arch\n",
        "        self.inputs = 2\n",
        "        self.hiddenNodes = 3 \n",
        "        self.outputNodes = 1\n",
        "        \n",
        "        # Initialize Weights\n",
        "        # 2x3\n",
        "        self.weights1 = np.random.randn(self.inputs, self.hiddenNodes)\n",
        "        \n",
        "        # 3x1\n",
        "        self.weights2 = np.random.randn(self.hiddenNodes, self.outputNodes)"
      ],
      "execution_count": 0,
      "outputs": []
    },
    {
      "cell_type": "markdown",
      "metadata": {
        "colab_type": "text",
        "id": "gbyT_FJ88IlK"
      },
      "source": [
        "### Randomly Initialize Weights\n",
        "How many random weights do we need to initialize? \"Fully-connected Layers\""
      ]
    },
    {
      "cell_type": "code",
      "metadata": {
        "colab_type": "code",
        "id": "IreIDe6P8H0H",
        "colab": {}
      },
      "source": [
        "nn = NeuralNetwork()"
      ],
      "execution_count": 0,
      "outputs": []
    },
    {
      "cell_type": "code",
      "metadata": {
        "id": "9tr6Tgx8mcJ7",
        "colab_type": "code",
        "outputId": "03b6819a-1e91-4915-dcb2-dc2974b1679c",
        "colab": {
          "base_uri": "https://localhost:8080/",
          "height": 141
        }
      },
      "source": [
        "print(\"Layer 1 weights: \\n\", nn.weights1)\n",
        "print(\"Layer 2 weights: \\n\", nn.weights2)"
      ],
      "execution_count": 35,
      "outputs": [
        {
          "output_type": "stream",
          "text": [
            "Layer 1 weights: \n",
            " [[ 2.48783189  0.11697987 -1.97118428]\n",
            " [-0.48325593 -1.50361209  0.57515126]]\n",
            "Layer 2 weights: \n",
            " [[-0.20672583]\n",
            " [ 0.41271104]\n",
            " [-0.57757999]]\n"
          ],
          "name": "stdout"
        }
      ]
    },
    {
      "cell_type": "markdown",
      "metadata": {
        "colab_type": "text",
        "id": "hbxDhyjQ-RwS"
      },
      "source": [
        "### Implement Feedforward Functionality\n",
        "\n",
        "After this step our neural network should be able to generate an output even though it has not been trained."
      ]
    },
    {
      "cell_type": "code",
      "metadata": {
        "colab_type": "code",
        "id": "0gGivpEk-VdP",
        "colab": {}
      },
      "source": [
        "class NeuralNetwork:\n",
        "    \n",
        "    def __init__(self):\n",
        "        # Set up Arch\n",
        "        self.inputs = 2\n",
        "        self.hiddenNodes = 3\n",
        "        self.outputNodes = 1\n",
        "        \n",
        "        # Initialize Weights\n",
        "        # 2x3\n",
        "        # Input to Hidden (1st set of weights)\n",
        "        self.weights1 = np.random.randn(self.inputs,self.hiddenNodes)\n",
        "        \n",
        "        # 3x1\n",
        "        # Hidden to Output (2nd set of weights)\n",
        "        self.weights2 = np.random.randn(self.hiddenNodes, self.outputNodes)\n",
        "        \n",
        "    def sigmoid(self, s):\n",
        "        return 1 / (1+np.exp(-s))\n",
        "    \n",
        "    def feed_forward(self, X):\n",
        "        \"\"\"\n",
        "        Calculate the NN inference using feed forward.\n",
        "        \"\"\"\n",
        "        \n",
        "        # Weighted Sum\n",
        "        self.hidden_sum = np.dot(X, self.weights1)\n",
        "        \n",
        "        # Activate\n",
        "        self.activated_hidden = self.sigmoid(self.hidden_sum)\n",
        "        \n",
        "        # Weighted sum of activated hidden (which output layer will use)\n",
        "        self.output_sum = np.dot(self.activated_hidden, self.weights2)\n",
        "        \n",
        "        # Final Activation of Output (My Predictions)\n",
        "        self.activated_output = self.sigmoid(self.output_sum)\n",
        "        \n",
        "        return self.activated_output"
      ],
      "execution_count": 0,
      "outputs": []
    },
    {
      "cell_type": "code",
      "metadata": {
        "id": "9b7KPu2cmcJ_",
        "colab_type": "code",
        "outputId": "7964475d-2c15-4d0f-c970-0b848272f053",
        "colab": {
          "base_uri": "https://localhost:8080/",
          "height": 70
        }
      },
      "source": [
        "X"
      ],
      "execution_count": 37,
      "outputs": [
        {
          "output_type": "execute_result",
          "data": {
            "text/plain": [
              "array([[0.66666667, 1.        ],\n",
              "       [0.33333333, 0.55555556],\n",
              "       [1.        , 0.66666667]])"
            ]
          },
          "metadata": {
            "tags": []
          },
          "execution_count": 37
        }
      ]
    },
    {
      "cell_type": "markdown",
      "metadata": {
        "colab_type": "text",
        "id": "a1pxdfmDAaJg"
      },
      "source": [
        "### Make a Prediction"
      ]
    },
    {
      "cell_type": "code",
      "metadata": {
        "id": "6NbUhrOJmcKC",
        "colab_type": "code",
        "outputId": "93259d71-c716-460a-b6e2-902820c0b58b",
        "colab": {
          "base_uri": "https://localhost:8080/",
          "height": 70
        }
      },
      "source": [
        "# Try to make a prediction with our updated 'net\n",
        "nn = NeuralNetwork()\n",
        "print(X[0])\n",
        "output = nn.feed_forward(X[0])\n",
        "print(\"output\", output)\n",
        "print(\"true_output\", y[0])"
      ],
      "execution_count": 38,
      "outputs": [
        {
          "output_type": "stream",
          "text": [
            "[0.66666667 1.        ]\n",
            "output [0.25814933]\n",
            "true_output [0.9]\n"
          ],
          "name": "stdout"
        }
      ]
    },
    {
      "cell_type": "markdown",
      "metadata": {
        "colab_type": "text",
        "id": "3V61yNmAB2T5"
      },
      "source": [
        "### Calculate Error"
      ]
    },
    {
      "cell_type": "code",
      "metadata": {
        "id": "kvojscP3mcKF",
        "colab_type": "code",
        "outputId": "46189209-58df-4100-9fa9-f0e4304cf8d9",
        "colab": {
          "base_uri": "https://localhost:8080/",
          "height": 34
        }
      },
      "source": [
        "error = y[0] - output\n",
        "error"
      ],
      "execution_count": 39,
      "outputs": [
        {
          "output_type": "execute_result",
          "data": {
            "text/plain": [
              "array([0.64185067])"
            ]
          },
          "metadata": {
            "tags": []
          },
          "execution_count": 39
        }
      ]
    },
    {
      "cell_type": "code",
      "metadata": {
        "id": "yPrsHNdOmcKG",
        "colab_type": "code",
        "outputId": "bc7cb86c-1b03-48f4-b583-3875f7b72df3",
        "colab": {
          "base_uri": "https://localhost:8080/",
          "height": 176
        }
      },
      "source": [
        "output_all = nn.feed_forward(X)\n",
        "error_all = y - output_all\n",
        "print(output_all)\n",
        "print(error_all)\n",
        "print(y)"
      ],
      "execution_count": 40,
      "outputs": [
        {
          "output_type": "stream",
          "text": [
            "[[0.25814933]\n",
            " [0.33067192]\n",
            " [0.22642076]]\n",
            "[[0.64185067]\n",
            " [0.38932808]\n",
            " [0.57357924]]\n",
            "[[0.9 ]\n",
            " [0.72]\n",
            " [0.8 ]]\n"
          ],
          "name": "stdout"
        }
      ]
    },
    {
      "cell_type": "markdown",
      "metadata": {
        "colab_type": "text",
        "id": "26wgCLU0TLvy"
      },
      "source": [
        "Why is my error so big?\n",
        "\n",
        "My error is so big because my prediction is low.\n",
        "\n",
        "Why are my prediction low?\n",
        "\n",
        "Because either:\n",
        "\n",
        "  1) Second layer **weights** are low\n",
        "  \n",
        "  (or)\n",
        "  \n",
        "  2) Activations coming from the first layer are low\n",
        "  \n",
        "How are activations from the first layer determined? \n",
        "\n",
        "  1) By inputs - fixed\n",
        "  \n",
        "  2) by **weights** - variable\n",
        "  \n",
        "The only thing that I have control over throughout this process in order to increase the value of my final predictions is to either increase weights in layer 2 or increase weights in layer 1. \n",
        "\n",
        "Imagine that you could only change your weights by a fixed amount. Say you have .3 and you have to split that up and disperse it over your weights so as to increase your predictions as much as possible. (This isn't actually what happens, but it will help us identify which weights we would benefit the most from moving.)\n",
        "\n",
        "I need to increase weights of my model somewhere, I'll get the biggest bang for my buck if I increase weights in places where I'm already seeing high activation values -because they end up getting multiplied together before being passed to the sigmoid function. \n",
        "\n",
        "> \"Neurons that fire together, wire together\""
      ]
    },
    {
      "cell_type": "markdown",
      "metadata": {
        "colab_type": "text",
        "id": "j_eyzItYIxgm"
      },
      "source": [
        "### Implement Backpropagation \n",
        "\n",
        "> *Assigning blame for bad predictions and delivering justice - repeatedly and a little bit at a time*\n",
        "\n",
        "What in our model could be causing our predictions to suck so bad? \n",
        "\n",
        "Well, we know that our inputs (X) and outputs (y) are correct, if they weren't then we would have bigger problems than understanding backpropagation.\n",
        "\n",
        "We also know that our activation function (sigmoid) is working correctly. It can't be blamed because it just does whatever we tell it to and transforms the data in a known way.\n",
        "\n",
        "So what are the potential culprits for these terrible predictions? The **weights** of our model. Here's the problem though. I have weights that exist in both layers of my model. How do I know if the weights in the first layer are to blame, or the second layer, or both? \n",
        "\n",
        "Lets investigate. And see if we can just eyeball what should be updated."
      ]
    },
    {
      "cell_type": "code",
      "metadata": {
        "id": "ZbZDcQUPmcKK",
        "colab_type": "code",
        "outputId": "3919dbc4-a873-4837-fb3b-6f036825f529",
        "colab": {
          "base_uri": "https://localhost:8080/",
          "height": 461
        }
      },
      "source": [
        "attributes = ['weights1', 'hidden_sum', 'activated_hidden', 'weights2', 'activated_output']\n",
        "[print(i+'\\n', getattr(nn,i), '\\n'+'---'*3) for i in attributes if i[:2]!= '__'] "
      ],
      "execution_count": 41,
      "outputs": [
        {
          "output_type": "stream",
          "text": [
            "weights1\n",
            " [[-1.75351135  1.23279898  0.24464757]\n",
            " [-0.06568225  0.30190098  0.79723428]] \n",
            "---------\n",
            "hidden_sum\n",
            " [[-1.23468981  1.12376697  0.96033266]\n",
            " [-0.62099392  0.57865576  0.52445712]\n",
            " [-1.79729952  1.4340663   0.77613709]] \n",
            "---------\n",
            "activated_hidden\n",
            " [[0.22536165 0.75468678 0.7231884 ]\n",
            " [0.34955543 0.64075804 0.6281894 ]\n",
            " [0.14218011 0.8075341  0.68484697]] \n",
            "---------\n",
            "weights2\n",
            " [[ 1.23073545]\n",
            " [-1.52187331]\n",
            " [-0.25502715]] \n",
            "---------\n",
            "activated_output\n",
            " [[0.25814933]\n",
            " [0.33067192]\n",
            " [0.22642076]] \n",
            "---------\n"
          ],
          "name": "stdout"
        },
        {
          "output_type": "execute_result",
          "data": {
            "text/plain": [
              "[None, None, None, None, None]"
            ]
          },
          "metadata": {
            "tags": []
          },
          "execution_count": 41
        }
      ]
    },
    {
      "cell_type": "markdown",
      "metadata": {
        "colab_type": "text",
        "id": "16Ujj6vNYQyX",
        "toc-hr-collapsed": true
      },
      "source": [
        "### Update Weights Based on Gradient\n",
        "\n",
        "Repeat steps 2-4 for every observation in a given batch, and then given the network's cost function, calculate its gradient using calculus and update weights associated with the (negative) gradient of the cost function. \n",
        "\n",
        "Remember that we have 9 weights in our network therefore the gradient that comes from our gradient descent calculation will be the vector that takes us in the most downward direction along some function in 9-dimensional hyperspace.\n",
        "\n",
        "\\begin{align}\n",
        "C(w1, w2, w3, w4, w5, w6, w7, w8, w9)\n",
        "\\end{align}\n",
        "\n",
        "You should also know that with neural networks it is common to have gradients that are not convex (like what we saw when we applied gradient descent to linear regression). Due to the high complexity of these models and their nonlinearity, it is common for gradient descent to get stuck in a local minimum, but there are ways to combat this:\n",
        "\n",
        "1) Stochastic Gradient Descent\n",
        "\n",
        "2) More advanced Gradient-Descent-based \"Optimizers\" - See Stretch Goals on assignment."
      ]
    },
    {
      "cell_type": "code",
      "metadata": {
        "id": "PcAO6sXtmcKM",
        "colab_type": "code",
        "colab": {}
      },
      "source": [
        "# I want activations that correspond to negative weights to be lower\n",
        "# and activations that correspond to positive weights to be higher\n",
        "\n",
        "class NeuralNetwork:\n",
        "    \n",
        "    def __init__(self):\n",
        "        # Set up Arch\n",
        "        self.inputs = 2\n",
        "        self.hiddenNodes = 3\n",
        "        self.outputNodes = 1\n",
        "        \n",
        "        # Initialize Weights\n",
        "        # 2x3\n",
        "        # Input to Hidden (1st set of weights)\n",
        "        self.weights1 = np.random.randn(self.inputs,self.hiddenNodes)\n",
        "        \n",
        "        # 3x1\n",
        "        # Hidden to Output (2nd set of weights)\n",
        "        self.weights2 = np.random.randn(self.hiddenNodes, self.outputNodes)\n",
        "        \n",
        "    def sigmoid(self, s):\n",
        "        return 1 / (1+np.exp(-s))\n",
        "    \n",
        "    def sigmoidPrime(self, s):\n",
        "        sx = self.sigmoid(s)\n",
        "        return sx * (1-sx)\n",
        "    \n",
        "    def feed_forward(self, X):\n",
        "        \"\"\"\n",
        "        Calculate the NN inference using feed forward.\n",
        "        \"\"\"\n",
        "        \n",
        "        # Weighted Sum\n",
        "        self.hidden_sum = np.dot(X, self.weights1)\n",
        "        \n",
        "        # Activate\n",
        "        self.activated_hidden = self.sigmoid(self.hidden_sum)\n",
        "        \n",
        "        # Weighted sum of activated hidden (which output layer will use)\n",
        "        self.output_sum = np.dot(self.activated_hidden, self.weights2)\n",
        "        \n",
        "        # Final Activation of Output (My Predictions)\n",
        "        self.activated_output = self.sigmoid(self.output_sum)\n",
        "        \n",
        "        return self.activated_output\n",
        "    \n",
        "    def backward(self, X, y, o):\n",
        "        \"\"\"\n",
        "        Back prop thru the network\n",
        "        \"\"\"\n",
        "        \n",
        "        self.o_error = y - o # Error in the output\n",
        "        \n",
        "        # Apply derivative of sigmoid to error\n",
        "        self.o_delta = self.o_error * self.sigmoidPrime(o)\n",
        "        \n",
        "        # z2 error: how much were our output layer weights off\n",
        "        self.z2_error = self.o_delta.dot(self.weights2.T)\n",
        "        \n",
        "        # z2 delta: how much were the weights off?\n",
        "        self.z2_delta = self.z2_error*self.sigmoidPrime(self.output_sum)\n",
        "\n",
        "        self.weights1 += X.T.dot(self.z2_delta) #Adjust first set (input => hidden) weights\n",
        "        self.weights2 += self.activated_hidden.T.dot(self.o_delta) #adjust second set (hidden => output) weights\n",
        "        \n",
        "    def train(self, X,y):\n",
        "        o = self.feed_forward(X)\n",
        "        self.backward(X,y,o)"
      ],
      "execution_count": 0,
      "outputs": []
    },
    {
      "cell_type": "markdown",
      "metadata": {
        "toc-hr-collapsed": true,
        "id": "qFgDv-YDmcKO",
        "colab_type": "text"
      },
      "source": [
        "#### Let's look at the shape of the Gradient Componets\n"
      ]
    },
    {
      "cell_type": "code",
      "metadata": {
        "id": "jj5ilT5OmcKO",
        "colab_type": "code",
        "colab": {}
      },
      "source": [
        "nn = NeuralNetwork()\n",
        "\n",
        "nn.train(X,y)"
      ],
      "execution_count": 0,
      "outputs": []
    },
    {
      "cell_type": "markdown",
      "metadata": {
        "id": "tUrblrIgmcKQ",
        "colab_type": "text"
      },
      "source": [
        "##### Our Error Associated with Each Observation \n",
        "aka how wrong were we?"
      ]
    },
    {
      "cell_type": "code",
      "metadata": {
        "id": "w6B1iUVymcKQ",
        "colab_type": "code",
        "outputId": "ef3777f5-644f-43f8-cc6c-c2f04fc7eab4",
        "colab": {
          "base_uri": "https://localhost:8080/",
          "height": 70
        }
      },
      "source": [
        "nn.o_error"
      ],
      "execution_count": 15,
      "outputs": [
        {
          "output_type": "execute_result",
          "data": {
            "text/plain": [
              "array([[0.52228666],\n",
              "       [0.30522145],\n",
              "       [0.39651516]])"
            ]
          },
          "metadata": {
            "tags": []
          },
          "execution_count": 15
        }
      ]
    },
    {
      "cell_type": "markdown",
      "metadata": {
        "id": "3_8tPeEHmcKS",
        "colab_type": "text"
      },
      "source": [
        "##### 1st Gradient \n",
        "Simple interpretation - how much more sigmoid activation would have pushed us towards the right answer?\n",
        "\n",
        "`self.o_delta = self.o_error * self.sigmoidPrime(self.output_sum)`"
      ]
    },
    {
      "cell_type": "code",
      "metadata": {
        "id": "EsqXFkOgmcKS",
        "colab_type": "code",
        "outputId": "a9bd9126-e524-4b42-ae63-f13d2cabeb48",
        "colab": {
          "base_uri": "https://localhost:8080/",
          "height": 70
        }
      },
      "source": [
        "nn.o_delta"
      ],
      "execution_count": 16,
      "outputs": [
        {
          "output_type": "execute_result",
          "data": {
            "text/plain": [
              "array([[0.12602312],\n",
              "       [0.07311531],\n",
              "       [0.09520125]])"
            ]
          },
          "metadata": {
            "tags": []
          },
          "execution_count": 16
        }
      ]
    },
    {
      "cell_type": "code",
      "metadata": {
        "id": "1h_Rdw4Hzqh8",
        "colab_type": "code",
        "colab": {
          "base_uri": "https://localhost:8080/",
          "height": 70
        },
        "outputId": "43bb2086-39e7-432d-ae3f-e4ad69926ea7"
      },
      "source": [
        "nn.sigmoid(nn.output_sum)"
      ],
      "execution_count": 17,
      "outputs": [
        {
          "output_type": "execute_result",
          "data": {
            "text/plain": [
              "array([[0.37771334],\n",
              "       [0.41477855],\n",
              "       [0.40348484]])"
            ]
          },
          "metadata": {
            "tags": []
          },
          "execution_count": 17
        }
      ]
    },
    {
      "cell_type": "code",
      "metadata": {
        "id": "IYG9yjKpzqlF",
        "colab_type": "code",
        "colab": {
          "base_uri": "https://localhost:8080/",
          "height": 70
        },
        "outputId": "e7feaad7-7305-4010-9b7b-e3593b48bd8c"
      },
      "source": [
        "nn.sigmoidPrime(nn.output_sum)"
      ],
      "execution_count": 18,
      "outputs": [
        {
          "output_type": "execute_result",
          "data": {
            "text/plain": [
              "array([[0.23504597],\n",
              "       [0.2427373 ],\n",
              "       [0.24068482]])"
            ]
          },
          "metadata": {
            "tags": []
          },
          "execution_count": 18
        }
      ]
    },
    {
      "cell_type": "code",
      "metadata": {
        "id": "871CSMRvzqoH",
        "colab_type": "code",
        "colab": {
          "base_uri": "https://localhost:8080/",
          "height": 70
        },
        "outputId": "b3dc876c-a4a0-41b9-9ffc-3230abdb3d92"
      },
      "source": [
        "nn.o_delta"
      ],
      "execution_count": 19,
      "outputs": [
        {
          "output_type": "execute_result",
          "data": {
            "text/plain": [
              "array([[0.12602312],\n",
              "       [0.07311531],\n",
              "       [0.09520125]])"
            ]
          },
          "metadata": {
            "tags": []
          },
          "execution_count": 19
        }
      ]
    },
    {
      "cell_type": "markdown",
      "metadata": {
        "id": "Btw61HA9mcKV",
        "colab_type": "text"
      },
      "source": [
        "Let's take a look at the derivate of the sigmoid function to understand what's happening. "
      ]
    },
    {
      "cell_type": "code",
      "metadata": {
        "id": "sw6YFnxCmcKV",
        "colab_type": "code",
        "colab": {}
      },
      "source": [
        "import matplotlib.pyplot as plt\n",
        "\n",
        "line_x = np.arange(-5, 5, 0.01)\n",
        "\n",
        "def sigmoid(x):\n",
        "    return 1 / (1+ np.exp(-x))\n",
        "\n",
        "def sigmoid_derivative(x):\n",
        "    sx = sigmoid(x)\n",
        "    return sx * (1-sx)\n",
        "\n",
        "# sigmoid\n",
        "y = sigmoid(line_x)\n",
        "y_d = sigmoid_derivative(line_x)\n",
        "\n",
        "x = nn.output_sum\n",
        "s = sigmoid(x)\n",
        "sx = sigmoid_derivative(x)"
      ],
      "execution_count": 0,
      "outputs": []
    },
    {
      "cell_type": "code",
      "metadata": {
        "id": "6B7iTCIZmcKX",
        "colab_type": "code",
        "outputId": "89ce2109-0e87-4e07-8df6-2c4ce328fd99",
        "colab": {
          "base_uri": "https://localhost:8080/",
          "height": 386
        }
      },
      "source": [
        "# call regplot on each axes\n",
        "import seaborn as sns\n",
        "plt.style.use('seaborn-darkgrid')\n",
        "fig, (ax1, ax2) = plt.subplots(ncols=2, sharey=True, figsize=(15,5))\n",
        "sns.lineplot(x=line_x, y=y, ax=ax1)\n",
        "ax1.plot(x[0], s[0], 'ro')\n",
        "ax1.set_title(\"Sigmoid of Weighted Sum\")\n",
        "sns.lineplot(x=line_x, y=y_d, ax=ax2) \n",
        "ax2.plot(x[0],sx[0],'ro');\n",
        "ax2.set_title(\"Sigmoid Derivative of Weighted Sum\");"
      ],
      "execution_count": 21,
      "outputs": [
        {
          "output_type": "stream",
          "text": [
            "/usr/local/lib/python3.6/dist-packages/statsmodels/tools/_testing.py:19: FutureWarning: pandas.util.testing is deprecated. Use the functions in the public API at pandas.testing instead.\n",
            "  import pandas.util.testing as tm\n"
          ],
          "name": "stderr"
        },
        {
          "output_type": "display_data",
          "data": {
            "image/png": "[encoded data removed]",
            "text/plain": [
              "<Figure size 1080x360 with 2 Axes>"
            ]
          },
          "metadata": {
            "tags": []
          }
        }
      ]
    },
    {
      "cell_type": "markdown",
      "metadata": {
        "id": "YBDmaaSymcKZ",
        "colab_type": "text"
      },
      "source": [
        "Look at the derivate graph. The derivative multiplied by the error tells us where to assign blame and update the weights most effective. "
      ]
    },
    {
      "cell_type": "markdown",
      "metadata": {
        "id": "JsV1slJmmcKZ",
        "colab_type": "text"
      },
      "source": [
        "##### 2nd Error\n",
        "Justice hasn't been served yet - tho. We still have neurons to blame. Let's go back another layer. \n",
        "\n",
        "`self.z2_error = self.o_delta.dot(self.weights2.T)`\n",
        "\n",
        "__Discussion:__ Why is this shape different?"
      ]
    },
    {
      "cell_type": "code",
      "metadata": {
        "id": "G7T7JIq_mcKZ",
        "colab_type": "code",
        "outputId": "6e3b35f1-80c9-4a2d-ae62-84caa171cdc4",
        "colab": {
          "base_uri": "https://localhost:8080/",
          "height": 70
        }
      },
      "source": [
        "nn.o_delta.dot(nn.weights2.T)"
      ],
      "execution_count": 22,
      "outputs": [
        {
          "output_type": "execute_result",
          "data": {
            "text/plain": [
              "array([[ 0.11816637, -0.11602622,  0.03300763],\n",
              "       [ 0.06855702, -0.06731537,  0.01915016],\n",
              "       [ 0.08926604, -0.08764932,  0.02493485]])"
            ]
          },
          "metadata": {
            "tags": []
          },
          "execution_count": 22
        }
      ]
    },
    {
      "cell_type": "markdown",
      "metadata": {
        "id": "qt47dsR-mcKb",
        "colab_type": "text"
      },
      "source": [
        "##### 2nd Gradient\n",
        "For each observation, how much more sigmoid activation from this layer would have pushed us towards the right answer?\n",
        "\n",
        "`self.z2_delta = self.z2_error * self.sigmoidPrime(self.activated_hidden)`"
      ]
    },
    {
      "cell_type": "code",
      "metadata": {
        "id": "74tJm_82mcKb",
        "colab_type": "code",
        "outputId": "bc2e367e-5c40-4b6a-9ade-7a3aa3e3f984",
        "colab": {
          "base_uri": "https://localhost:8080/",
          "height": 70
        }
      },
      "source": [
        "nn.z2_delta"
      ],
      "execution_count": 23,
      "outputs": [
        {
          "output_type": "execute_result",
          "data": {
            "text/plain": [
              "array([[ 0.0240459 , -0.03359246,  0.00235685],\n",
              "       [ 0.01440731, -0.02012721,  0.00141213],\n",
              "       [ 0.0186007 , -0.02598544,  0.00182314]])"
            ]
          },
          "metadata": {
            "tags": []
          },
          "execution_count": 23
        }
      ]
    },
    {
      "cell_type": "code",
      "metadata": {
        "id": "AD-x_4RTmcKd",
        "colab_type": "code",
        "outputId": "38d7471c-9005-4afd-bc92-5bc8ccf18db7",
        "colab": {
          "base_uri": "https://localhost:8080/",
          "height": 34
        }
      },
      "source": [
        "X.T.shape == nn.weights1.shape"
      ],
      "execution_count": 24,
      "outputs": [
        {
          "output_type": "execute_result",
          "data": {
            "text/plain": [
              "True"
            ]
          },
          "metadata": {
            "tags": []
          },
          "execution_count": 24
        }
      ]
    },
    {
      "cell_type": "code",
      "metadata": {
        "id": "Wn2SGpa_mcKf",
        "colab_type": "code",
        "colab": {}
      },
      "source": [
        ""
      ],
      "execution_count": 0,
      "outputs": []
    },
    {
      "cell_type": "markdown",
      "metadata": {
        "id": "cJ9xW8j_mcKh",
        "colab_type": "text"
      },
      "source": [
        "##### Descent\n",
        "\n",
        "*Discussion:* Input to Hidden Weight Update\n",
        "- We multiply the gradient by the inputs. Why?\n",
        "- Why do we need to transpose the inputs? "
      ]
    },
    {
      "cell_type": "code",
      "metadata": {
        "id": "nxWSu1K3mcKh",
        "colab_type": "code",
        "outputId": "4eb31e97-3195-49c5-f9b3-99166309a24f",
        "colab": {
          "base_uri": "https://localhost:8080/",
          "height": 52
        }
      },
      "source": [
        "X.T"
      ],
      "execution_count": 25,
      "outputs": [
        {
          "output_type": "execute_result",
          "data": {
            "text/plain": [
              "array([[0.66666667, 0.33333333, 1.        ],\n",
              "       [1.        , 0.55555556, 0.66666667]])"
            ]
          },
          "metadata": {
            "tags": []
          },
          "execution_count": 25
        }
      ]
    },
    {
      "cell_type": "code",
      "metadata": {
        "id": "VAFTQeGSmcKi",
        "colab_type": "code",
        "outputId": "f00e292c-a688-4ad9-9cdb-2555a9ce26e2",
        "colab": {
          "base_uri": "https://localhost:8080/",
          "height": 52
        }
      },
      "source": [
        "X.T.dot(nn.z2_delta)"
      ],
      "execution_count": 26,
      "outputs": [
        {
          "output_type": "execute_result",
          "data": {
            "text/plain": [
              "array([[ 0.03943374, -0.05508949,  0.00386508],\n",
              "       [ 0.04445043, -0.06209788,  0.00435679]])"
            ]
          },
          "metadata": {
            "tags": []
          },
          "execution_count": 26
        }
      ]
    },
    {
      "cell_type": "markdown",
      "metadata": {
        "id": "1RWdXJ6zmcKk",
        "colab_type": "text"
      },
      "source": [
        "*Discussion:* Hidden to Output Weight Update\n",
        "- Why is output the shape 3x1? \n",
        "- We multiply the gradient by the inputs. Why?\n",
        "- Why do we need to transpose the inputs?"
      ]
    },
    {
      "cell_type": "code",
      "metadata": {
        "id": "uApk8U-xmcKk",
        "colab_type": "code",
        "outputId": "7686fed0-1503-4dc8-eebc-a68a25569749",
        "colab": {
          "base_uri": "https://localhost:8080/",
          "height": 70
        }
      },
      "source": [
        "nn.activated_hidden.T.dot(nn.o_delta)"
      ],
      "execution_count": 27,
      "outputs": [
        {
          "output_type": "execute_result",
          "data": {
            "text/plain": [
              "array([[0.12587682],\n",
              "       [0.21339318],\n",
              "       [0.18235102]])"
            ]
          },
          "metadata": {
            "tags": []
          },
          "execution_count": 27
        }
      ]
    },
    {
      "cell_type": "markdown",
      "metadata": {
        "id": "bur7ObxNmcKm",
        "colab_type": "text"
      },
      "source": [
        "### Train the Network (fo real this time)"
      ]
    },
    {
      "cell_type": "code",
      "metadata": {
        "id": "OzCM0bXWmcKm",
        "colab_type": "code",
        "outputId": "fb73037b-3cc0-474a-acb7-228837859302",
        "colab": {
          "base_uri": "https://localhost:8080/",
          "height": 1000
        }
      },
      "source": [
        "# Train my 'net\n",
        "nn = NeuralNetwork()\n",
        "\n",
        "# Number of Epochs / Iterations\n",
        "for i in range(10000):\n",
        "    if (i+1 in [1,2,3,4,5]) or ((i+1) % 1000 ==0):\n",
        "        print('+' + '---' * 3 + f'EPOCH {i+1}' + '---'*3 + '+')\n",
        "        print('Input: \\n', X)\n",
        "        print('Actual Output: \\n', y)\n",
        "        print('Predicted Output: \\n', str(nn.feed_forward(X)))\n",
        "        print(\"Loss: \\n\", str(np.mean(np.square(y - nn.feed_forward(X)))))\n",
        "    nn.train(X,y)"
      ],
      "execution_count": 45,
      "outputs": [
        {
          "output_type": "stream",
          "text": [
            "+---------EPOCH 1---------+\n",
            "Input: \n",
            " [[0.66666667 1.        ]\n",
            " [0.33333333 0.55555556]\n",
            " [1.         0.66666667]]\n",
            "Actual Output: \n",
            " [[0.9 ]\n",
            " [0.72]\n",
            " [0.8 ]]\n",
            "Predicted Output: \n",
            " [[0.73733449]\n",
            " [0.75875845]\n",
            " [0.75936043]]\n",
            "Loss: \n",
            " 0.009871287050858673\n",
            "+---------EPOCH 2---------+\n",
            "Input: \n",
            " [[0.66666667 1.        ]\n",
            " [0.33333333 0.55555556]\n",
            " [1.         0.66666667]]\n",
            "Actual Output: \n",
            " [[0.9 ]\n",
            " [0.72]\n",
            " [0.8 ]]\n",
            "Predicted Output: \n",
            " [[0.74198298]\n",
            " [0.76294485]\n",
            " [0.76426296]]\n",
            "Loss: \n",
            " 0.009363591839420324\n",
            "+---------EPOCH 3---------+\n",
            "Input: \n",
            " [[0.66666667 1.        ]\n",
            " [0.33333333 0.55555556]\n",
            " [1.         0.66666667]]\n",
            "Actual Output: \n",
            " [[0.9 ]\n",
            " [0.72]\n",
            " [0.8 ]]\n",
            "Predicted Output: \n",
            " [[0.74625407]\n",
            " [0.76676427]\n",
            " [0.76873938]]\n",
            "Loss: \n",
            " 0.008933977502568803\n",
            "+---------EPOCH 4---------+\n",
            "Input: \n",
            " [[0.66666667 1.        ]\n",
            " [0.33333333 0.55555556]\n",
            " [1.         0.66666667]]\n",
            "Actual Output: \n",
            " [[0.9 ]\n",
            " [0.72]\n",
            " [0.8 ]]\n",
            "Predicted Output: \n",
            " [[0.7501795 ]\n",
            " [0.77025051]\n",
            " [0.77282865]]\n",
            "Loss: \n",
            " 0.008569859159718547\n",
            "+---------EPOCH 5---------+\n",
            "Input: \n",
            " [[0.66666667 1.        ]\n",
            " [0.33333333 0.55555556]\n",
            " [1.         0.66666667]]\n",
            "Actual Output: \n",
            " [[0.9 ]\n",
            " [0.72]\n",
            " [0.8 ]]\n",
            "Predicted Output: \n",
            " [[0.75378848]\n",
            " [0.77343416]\n",
            " [0.77656608]]\n",
            "Loss: \n",
            " 0.008260721786707741\n",
            "+---------EPOCH 1000---------+\n",
            "Input: \n",
            " [[0.66666667 1.        ]\n",
            " [0.33333333 0.55555556]\n",
            " [1.         0.66666667]]\n",
            "Actual Output: \n",
            " [[0.9 ]\n",
            " [0.72]\n",
            " [0.8 ]]\n",
            "Predicted Output: \n",
            " [[0.82903607]\n",
            " [0.79163366]\n",
            " [0.80775802]]\n",
            "Loss: \n",
            " 0.003409149189251681\n",
            "+---------EPOCH 2000---------+\n",
            "Input: \n",
            " [[0.66666667 1.        ]\n",
            " [0.33333333 0.55555556]\n",
            " [1.         0.66666667]]\n",
            "Actual Output: \n",
            " [[0.9 ]\n",
            " [0.72]\n",
            " [0.8 ]]\n",
            "Predicted Output: \n",
            " [[0.84538765]\n",
            " [0.78081459]\n",
            " [0.80112166]]\n",
            "Loss: \n",
            " 0.0022273939597098284\n",
            "+---------EPOCH 3000---------+\n",
            "Input: \n",
            " [[0.66666667 1.        ]\n",
            " [0.33333333 0.55555556]\n",
            " [1.         0.66666667]]\n",
            "Actual Output: \n",
            " [[0.9 ]\n",
            " [0.72]\n",
            " [0.8 ]]\n",
            "Predicted Output: \n",
            " [[0.86031447]\n",
            " [0.76240725]\n",
            " [0.8014898 ]]\n",
            "Loss: \n",
            " 0.0011251786373762747\n",
            "+---------EPOCH 4000---------+\n",
            "Input: \n",
            " [[0.66666667 1.        ]\n",
            " [0.33333333 0.55555556]\n",
            " [1.         0.66666667]]\n",
            "Actual Output: \n",
            " [[0.9 ]\n",
            " [0.72]\n",
            " [0.8 ]]\n",
            "Predicted Output: \n",
            " [[0.87056514]\n",
            " [0.7503848 ]\n",
            " [0.80126005]]\n",
            "Loss: \n",
            " 0.0005970782145258694\n",
            "+---------EPOCH 5000---------+\n",
            "Input: \n",
            " [[0.66666667 1.        ]\n",
            " [0.33333333 0.55555556]\n",
            " [1.         0.66666667]]\n",
            "Actual Output: \n",
            " [[0.9 ]\n",
            " [0.72]\n",
            " [0.8 ]]\n",
            "Predicted Output: \n",
            " [[0.87560261]\n",
            " [0.74500584]\n",
            " [0.80075038]]\n",
            "Loss: \n",
            " 0.0004070292729519078\n",
            "+---------EPOCH 6000---------+\n",
            "Input: \n",
            " [[0.66666667 1.        ]\n",
            " [0.33333333 0.55555556]\n",
            " [1.         0.66666667]]\n",
            "Actual Output: \n",
            " [[0.9 ]\n",
            " [0.72]\n",
            " [0.8 ]]\n",
            "Predicted Output: \n",
            " [[0.87643926]\n",
            " [0.74378548]\n",
            " [0.80085964]]\n",
            "Loss: \n",
            " 0.0003738654577190573\n",
            "+---------EPOCH 7000---------+\n",
            "Input: \n",
            " [[0.66666667 1.        ]\n",
            " [0.33333333 0.55555556]\n",
            " [1.         0.66666667]]\n",
            "Actual Output: \n",
            " [[0.9 ]\n",
            " [0.72]\n",
            " [0.8 ]]\n",
            "Predicted Output: \n",
            " [[0.87452744]\n",
            " [0.74543012]\n",
            " [0.80126918]]\n",
            "Loss: \n",
            " 0.00043238427934144723\n",
            "+---------EPOCH 8000---------+\n",
            "Input: \n",
            " [[0.66666667 1.        ]\n",
            " [0.33333333 0.55555556]\n",
            " [1.         0.66666667]]\n",
            "Actual Output: \n",
            " [[0.9 ]\n",
            " [0.72]\n",
            " [0.8 ]]\n",
            "Predicted Output: \n",
            " [[0.8715107 ]\n",
            " [0.74839375]\n",
            " [0.80177134]]\n",
            "Loss: \n",
            " 0.0005403276307451129\n",
            "+---------EPOCH 9000---------+\n",
            "Input: \n",
            " [[0.66666667 1.        ]\n",
            " [0.33333333 0.55555556]\n",
            " [1.         0.66666667]]\n",
            "Actual Output: \n",
            " [[0.9 ]\n",
            " [0.72]\n",
            " [0.8 ]]\n",
            "Predicted Output: \n",
            " [[0.86890015]\n",
            " [0.75112908]\n",
            " [0.80217604]]\n",
            "Loss: \n",
            " 0.0006469851306644649\n",
            "+---------EPOCH 10000---------+\n",
            "Input: \n",
            " [[0.66666667 1.        ]\n",
            " [0.33333333 0.55555556]\n",
            " [1.         0.66666667]]\n",
            "Actual Output: \n",
            " [[0.9 ]\n",
            " [0.72]\n",
            " [0.8 ]]\n",
            "Predicted Output: \n",
            " [[0.867235  ]\n",
            " [0.75295827]\n",
            " [0.80242321]]\n",
            "Loss: \n",
            " 0.000721888212573368\n"
          ],
          "name": "stdout"
        }
      ]
    },
    {
      "cell_type": "code",
      "metadata": {
        "id": "tm6CwOQV1UuB",
        "colab_type": "code",
        "colab": {
          "base_uri": "https://localhost:8080/",
          "height": 34
        },
        "outputId": "a7870cd2-e70b-4286-aaea-55d1320da780"
      },
      "source": [
        "nn = NeuralNetwork()\n",
        "output = nn.feed_forward([4, 11])\n",
        "print(\"output\", output)"
      ],
      "execution_count": 46,
      "outputs": [
        {
          "output_type": "stream",
          "text": [
            "output [0.11046957]\n"
          ],
          "name": "stdout"
        }
      ]
    },
    {
      "cell_type": "markdown",
      "metadata": {
        "id": "zgcP6assmcKo",
        "colab_type": "text"
      },
      "source": [
        "## Challenge\n",
        "\n",
        "In the module project, you will implement backpropagation inside a multi-layer perceptron (aka a feedforward neural network). "
      ]
    },
    {
      "cell_type": "markdown",
      "metadata": {
        "toc-hr-collapsed": true,
        "id": "4xD3tsgmmcKo",
        "colab_type": "text"
      },
      "source": [
        "# Stochastic Gradient Descent (Learn)"
      ]
    },
    {
      "cell_type": "markdown",
      "metadata": {
        "id": "zH04--EXmcKp",
        "colab_type": "text"
      },
      "source": [
        "## Overview\n",
        "\n",
        "The What - Stochastic Gradient Descent calculates an approximation of the gradient over the entire dataset by reviewing the predictions of a random sample. \n",
        "\n",
        "The Why - *Speed*. Calculating the gradient over the entire dataset is extremely expensive computationally. "
      ]
    },
    {
      "cell_type": "markdown",
      "metadata": {
        "colab_type": "text",
        "id": "ZF7UE-KluPsX"
      },
      "source": [
        "## Follow Along\n",
        "\n",
        "A true Stochastic GD-based implementation from [Welch Labs](https://www.youtube.com/watch?v=bxe2T-V8XRs)"
      ]
    },
    {
      "cell_type": "code",
      "metadata": {
        "id": "_3OtRr-BmcKq",
        "colab_type": "code",
        "colab": {}
      },
      "source": [
        "model.evaluate(X,y)\n",
        "model.predict(X)"
      ],
      "execution_count": 0,
      "outputs": []
    },
    {
      "cell_type": "code",
      "metadata": {
        "id": "lmXFDotTmcKr",
        "colab_type": "code",
        "colab": {}
      },
      "source": [
        "class Neural_Network(object):\n",
        "    def __init__(self):        \n",
        "        #Define Hyperparameters\n",
        "        self.inputLayerSize = 2\n",
        "        self.outputLayerSize = 1\n",
        "        self.hiddenLayerSize = 3\n",
        "        \n",
        "        #Weights (parameters)\n",
        "        self.W1 = np.random.randn(self.inputLayerSize,self.hiddenLayerSize)\n",
        "        self.W2 = np.random.randn(self.hiddenLayerSize,self.outputLayerSize)\n",
        "        \n",
        "    def forward(self, X):\n",
        "        #Propogate inputs though network\n",
        "        self.z2 = np.dot(X, self.W1)\n",
        "        self.a2 = self.sigmoid(self.z2)\n",
        "        self.z3 = np.dot(self.a2, self.W2)\n",
        "        yHat = self.sigmoid(self.z3) \n",
        "        return yHat\n",
        "        \n",
        "    def sigmoid(self, z):\n",
        "        #Apply sigmoid activation function to scalar, vector, or matrix\n",
        "        return 1/(1+np.exp(-z))\n",
        "    \n",
        "    def sigmoidPrime(self,z):\n",
        "        #Gradient of sigmoid\n",
        "        return np.exp(-z)/((1+np.exp(-z))**2)\n",
        "    \n",
        "    def costFunction(self, X, y):\n",
        "        #Compute cost for given X,y, use weights already stored in class.\n",
        "        self.yHat = self.forward(X)\n",
        "        J = 0.5*sum((y-self.yHat)**2)\n",
        "        return J\n",
        "        \n",
        "    def costFunctionPrime(self, X, y):\n",
        "        #Compute derivative with respect to W and W2 for a given X and y:\n",
        "        self.yHat = self.forward(X)\n",
        "        \n",
        "        delta3 = np.multiply(-(y-self.yHat), self.sigmoidPrime(self.z3))\n",
        "        dJdW2 = np.dot(self.a2.T, delta3)\n",
        "        \n",
        "        delta2 = np.dot(delta3, self.W2.T)*self.sigmoidPrime(self.z2)\n",
        "        dJdW1 = np.dot(X.T, delta2)  \n",
        "        \n",
        "        return dJdW1, dJdW2\n",
        "    \n",
        "    #Helper Functions for interacting with other classes:\n",
        "    def getParams(self):\n",
        "        #Get W1 and W2 unrolled into vector:\n",
        "        params = np.concatenate((self.W1.ravel(), self.W2.ravel()))\n",
        "        return params\n",
        "    \n",
        "    def setParams(self, params):\n",
        "        #Set W1 and W2 using single paramater vector.\n",
        "        W1_start = 0\n",
        "        W1_end = self.hiddenLayerSize * self.inputLayerSize\n",
        "        self.W1 = np.reshape(params[W1_start:W1_end], (self.inputLayerSize , self.hiddenLayerSize))\n",
        "        W2_end = W1_end + self.hiddenLayerSize*self.outputLayerSize\n",
        "        self.W2 = np.reshape(params[W1_end:W2_end], (self.hiddenLayerSize, self.outputLayerSize))\n",
        "        \n",
        "    def computeGradients(self, X, y):\n",
        "        dJdW1, dJdW2 = self.costFunctionPrime(X, y)\n",
        "        return np.concatenate((dJdW1.ravel(), dJdW2.ravel()))"
      ],
      "execution_count": 0,
      "outputs": []
    },
    {
      "cell_type": "code",
      "metadata": {
        "colab_type": "code",
        "id": "uA9LaTgKr6rP",
        "colab": {}
      },
      "source": [
        "from scipy import optimize\n",
        "class trainer(object):\n",
        "    def __init__(self, N):\n",
        "        #Make Local reference to network:\n",
        "        self.N = N\n",
        "        \n",
        "    def callbackF(self, params):\n",
        "        self.N.setParams(params)\n",
        "        self.J.append(self.N.costFunction(self.X, self.y))   \n",
        "        \n",
        "    def costFunctionWrapper(self, params, X, y):\n",
        "        self.N.setParams(params)\n",
        "        cost = self.N.costFunction(X, y)\n",
        "        grad = self.N.computeGradients(X,y)\n",
        "        \n",
        "        return cost, grad\n",
        "        \n",
        "    def train(self, X, y):\n",
        "        #Make an internal variable for the callback function:\n",
        "        self.X = X\n",
        "        self.y = y\n",
        "\n",
        "        #Make empty list to store costs:\n",
        "        self.J = []\n",
        "        \n",
        "        params0 = self.N.getParams()\n",
        "\n",
        "        options = {'maxiter': 200, 'disp' : True}\n",
        "        _res = optimize.minimize(self.costFunctionWrapper, params0, jac=True, method='BFGS', \\\n",
        "                                 args=(X, y), options=options, callback=self.callbackF)\n",
        "\n",
        "        self.N.setParams(_res.x)\n",
        "        self.optimizationResults = _res"
      ],
      "execution_count": 0,
      "outputs": []
    },
    {
      "cell_type": "code",
      "metadata": {
        "colab_type": "code",
        "id": "g_kHb6Se1u9y",
        "colab": {}
      },
      "source": [
        "NN = Neural_Network()"
      ],
      "execution_count": 0,
      "outputs": []
    },
    {
      "cell_type": "code",
      "metadata": {
        "colab_type": "code",
        "id": "hYYVhFf4rn3q",
        "colab": {}
      },
      "source": [
        "T = trainer(NN)"
      ],
      "execution_count": 0,
      "outputs": []
    },
    {
      "cell_type": "code",
      "metadata": {
        "colab_type": "code",
        "id": "L-gYdVfgrysE",
        "outputId": "da11eb88-237a-4f0a-801d-d509ab551f12",
        "colab": {
          "base_uri": "https://localhost:8080/",
          "height": 105
        }
      },
      "source": [
        "T.train(X,y)"
      ],
      "execution_count": 52,
      "outputs": [
        {
          "output_type": "stream",
          "text": [
            "Optimization terminated successfully.\n",
            "         Current function value: 0.000000\n",
            "         Iterations: 52\n",
            "         Function evaluations: 60\n",
            "         Gradient evaluations: 60\n"
          ],
          "name": "stdout"
        }
      ]
    },
    {
      "cell_type": "code",
      "metadata": {
        "colab_type": "code",
        "id": "Jyv_L8Z2sKOA",
        "outputId": "42436aba-ae72-43a6-d0f0-4d3cec5e2d7e",
        "colab": {
          "base_uri": "https://localhost:8080/",
          "height": 123
        }
      },
      "source": [
        "print(\"Predicted Output: \\n\" + str(NN.forward(X))) \n",
        "print(\"Loss: \\n\" + str(np.mean(np.square(y - NN.forward(X))))) # mean sum squared loss"
      ],
      "execution_count": 53,
      "outputs": [
        {
          "output_type": "stream",
          "text": [
            "Predicted Output: \n",
            "[[0.89992487]\n",
            " [0.71999617]\n",
            " [0.7999904 ]]\n",
            "Loss: \n",
            "1.9173278971203227e-09\n"
          ],
          "name": "stdout"
        }
      ]
    },
    {
      "cell_type": "code",
      "metadata": {
        "colab_type": "code",
        "id": "Gtf9WI9FtGPk",
        "outputId": "6383bc1d-3ca9-45ac-f906-fb692b5c6bd7",
        "colab": {
          "base_uri": "https://localhost:8080/",
          "height": 278
        }
      },
      "source": [
        "import matplotlib.pyplot as plt\n",
        "plt.plot(T.J)\n",
        "plt.xlabel('Iterations')\n",
        "plt.ylabel('Cost')\n",
        "plt.show()     "
      ],
      "execution_count": 54,
      "outputs": [
        {
          "output_type": "display_data",
          "data": {
            "image/png": "[encoded data removed]",
            "text/plain": [
              "<Figure size 432x288 with 1 Axes>"
            ]
          },
          "metadata": {
            "tags": []
          }
        }
      ]
    },
    {
      "cell_type": "markdown",
      "metadata": {
        "id": "sqobnqCymcK2",
        "colab_type": "text"
      },
      "source": [
        "## Challenge\n",
        "\n",
        "This is a reference implementation for you to explore. You will not be expected to apply it to today's module project. "
      ]
    },
    {
      "cell_type": "markdown",
      "metadata": {
        "id": "0gCmExQtmcK3",
        "colab_type": "text"
      },
      "source": [
        "# Keras Sequential API (Learn)"
      ]
    },
    {
      "cell_type": "markdown",
      "metadata": {
        "toc-hr-collapsed": true,
        "id": "rtPFwg2wmcK3",
        "colab_type": "text"
      },
      "source": [
        "## Overview\n",
        "\n",
        "> \"Keras is a high-level neural networks API, written in Python and capable of running on top of TensorFlow, CNTK, or Theano. It was developed with a focus on enabling fast experimentation. Being able to go from idea to result with the least possible delay is key to doing good research. Use Keras if you need a deep learning library that:\n",
        "\n",
        "> Allows for easy and fast prototyping (through user friendliness, modularity, and extensibility).\n",
        "Supports both convolutional networks and recurrent networks, as well as combinations of the two.\n",
        "Runs seamlessly on CPU and GPU.\" "
      ]
    },
    {
      "cell_type": "markdown",
      "metadata": {
        "colab_type": "text",
        "id": "AIJoRBxHy27n"
      },
      "source": [
        "### Keras Perceptron Sample"
      ]
    },
    {
      "cell_type": "code",
      "metadata": {
        "id": "g6UPY15TmcK4",
        "colab_type": "code",
        "colab": {}
      },
      "source": [
        "import pandas as pd\n",
        "\n",
        "data = { 'x1': [0,1,0,1],\n",
        "         'x2': [0,0,1,1],\n",
        "         'y':  [1,1,1,0]\n",
        "       }\n",
        "\n",
        "df = pd.DataFrame.from_dict(data).astype('int')\n",
        "X = df[['x1', 'x2']].values\n",
        "y = df['y'].values"
      ],
      "execution_count": 0,
      "outputs": []
    },
    {
      "cell_type": "code",
      "metadata": {
        "colab_type": "code",
        "id": "TQxyONqKvFxB",
        "outputId": "4a167b92-82f2-438c-8b66-feb677fe92cc",
        "colab": {
          "base_uri": "https://localhost:8080/",
          "height": 1000
        }
      },
      "source": [
        "from tensorflow.keras.models import Sequential\n",
        "from tensorflow.keras.layers import Dense\n",
        "\n",
        "# This is our perceptron from Monday's by-hand: \n",
        "model = Sequential()\n",
        "model.add(Dense(1,input_dim=2, activation='sigmoid'))\n",
        "model.compile(loss='binary_crossentropy', optimizer='adam', metrics=['accuracy'])\n",
        "model.fit(X,y, epochs=50)"
      ],
      "execution_count": 59,
      "outputs": [
        {
          "output_type": "stream",
          "text": [
            "Epoch 1/50\n",
            "1/1 [==============================] - 0s 1ms/step - loss: 0.7478 - accuracy: 0.5000\n",
            "Epoch 2/50\n",
            "1/1 [==============================] - 0s 909us/step - loss: 0.7474 - accuracy: 0.7500\n",
            "Epoch 3/50\n",
            "1/1 [==============================] - 0s 905us/step - loss: 0.7470 - accuracy: 0.7500\n",
            "Epoch 4/50\n",
            "1/1 [==============================] - 0s 1ms/step - loss: 0.7466 - accuracy: 0.7500\n",
            "Epoch 5/50\n",
            "1/1 [==============================] - 0s 1ms/step - loss: 0.7462 - accuracy: 0.7500\n",
            "Epoch 6/50\n",
            "1/1 [==============================] - 0s 926us/step - loss: 0.7458 - accuracy: 0.7500\n",
            "Epoch 7/50\n",
            "1/1 [==============================] - 0s 1ms/step - loss: 0.7454 - accuracy: 0.7500\n",
            "Epoch 8/50\n",
            "1/1 [==============================] - 0s 737us/step - loss: 0.7450 - accuracy: 0.7500\n",
            "Epoch 9/50\n",
            "1/1 [==============================] - 0s 1ms/step - loss: 0.7446 - accuracy: 0.7500\n",
            "Epoch 10/50\n",
            "1/1 [==============================] - 0s 1ms/step - loss: 0.7442 - accuracy: 0.7500\n",
            "Epoch 11/50\n",
            "1/1 [==============================] - 0s 1ms/step - loss: 0.7438 - accuracy: 0.7500\n",
            "Epoch 12/50\n",
            "1/1 [==============================] - 0s 1ms/step - loss: 0.7434 - accuracy: 0.7500\n",
            "Epoch 13/50\n",
            "1/1 [==============================] - 0s 809us/step - loss: 0.7430 - accuracy: 0.7500\n",
            "Epoch 14/50\n",
            "1/1 [==============================] - 0s 790us/step - loss: 0.7426 - accuracy: 0.7500\n",
            "Epoch 15/50\n",
            "1/1 [==============================] - 0s 2ms/step - loss: 0.7422 - accuracy: 0.7500\n",
            "Epoch 16/50\n",
            "1/1 [==============================] - 0s 1ms/step - loss: 0.7418 - accuracy: 0.7500\n",
            "Epoch 17/50\n",
            "1/1 [==============================] - 0s 752us/step - loss: 0.7415 - accuracy: 0.7500\n",
            "Epoch 18/50\n",
            "1/1 [==============================] - 0s 1ms/step - loss: 0.7411 - accuracy: 0.7500\n",
            "Epoch 19/50\n",
            "1/1 [==============================] - 0s 1ms/step - loss: 0.7407 - accuracy: 0.7500\n",
            "Epoch 20/50\n",
            "1/1 [==============================] - 0s 935us/step - loss: 0.7403 - accuracy: 0.7500\n",
            "Epoch 21/50\n",
            "1/1 [==============================] - 0s 748us/step - loss: 0.7399 - accuracy: 0.7500\n",
            "Epoch 22/50\n",
            "1/1 [==============================] - 0s 912us/step - loss: 0.7395 - accuracy: 0.7500\n",
            "Epoch 23/50\n",
            "1/1 [==============================] - 0s 2ms/step - loss: 0.7391 - accuracy: 0.7500\n",
            "Epoch 24/50\n",
            "1/1 [==============================] - 0s 713us/step - loss: 0.7387 - accuracy: 0.7500\n",
            "Epoch 25/50\n",
            "1/1 [==============================] - 0s 1ms/step - loss: 0.7383 - accuracy: 0.7500\n",
            "Epoch 26/50\n",
            "1/1 [==============================] - 0s 1ms/step - loss: 0.7379 - accuracy: 0.7500\n",
            "Epoch 27/50\n",
            "1/1 [==============================] - 0s 2ms/step - loss: 0.7375 - accuracy: 0.7500\n",
            "Epoch 28/50\n",
            "1/1 [==============================] - 0s 2ms/step - loss: 0.7371 - accuracy: 0.7500\n",
            "Epoch 29/50\n",
            "1/1 [==============================] - 0s 759us/step - loss: 0.7367 - accuracy: 0.7500\n",
            "Epoch 30/50\n",
            "1/1 [==============================] - 0s 804us/step - loss: 0.7363 - accuracy: 0.7500\n",
            "Epoch 31/50\n",
            "1/1 [==============================] - 0s 2ms/step - loss: 0.7359 - accuracy: 0.7500\n",
            "Epoch 32/50\n",
            "1/1 [==============================] - 0s 1ms/step - loss: 0.7356 - accuracy: 0.7500\n",
            "Epoch 33/50\n",
            "1/1 [==============================] - 0s 3ms/step - loss: 0.7352 - accuracy: 0.7500\n",
            "Epoch 34/50\n",
            "1/1 [==============================] - 0s 960us/step - loss: 0.7348 - accuracy: 0.7500\n",
            "Epoch 35/50\n",
            "1/1 [==============================] - 0s 1ms/step - loss: 0.7344 - accuracy: 0.7500\n",
            "Epoch 36/50\n",
            "1/1 [==============================] - 0s 1ms/step - loss: 0.7340 - accuracy: 0.7500\n",
            "Epoch 37/50\n",
            "1/1 [==============================] - 0s 2ms/step - loss: 0.7336 - accuracy: 0.7500\n",
            "Epoch 38/50\n",
            "1/1 [==============================] - 0s 2ms/step - loss: 0.7332 - accuracy: 0.7500\n",
            "Epoch 39/50\n",
            "1/1 [==============================] - 0s 1ms/step - loss: 0.7328 - accuracy: 0.7500\n",
            "Epoch 40/50\n",
            "1/1 [==============================] - 0s 1ms/step - loss: 0.7324 - accuracy: 0.7500\n",
            "Epoch 41/50\n",
            "1/1 [==============================] - 0s 2ms/step - loss: 0.7321 - accuracy: 0.7500\n",
            "Epoch 42/50\n",
            "1/1 [==============================] - 0s 2ms/step - loss: 0.7317 - accuracy: 0.7500\n",
            "Epoch 43/50\n",
            "1/1 [==============================] - 0s 1ms/step - loss: 0.7313 - accuracy: 0.7500\n",
            "Epoch 44/50\n",
            "1/1 [==============================] - 0s 1ms/step - loss: 0.7309 - accuracy: 0.7500\n",
            "Epoch 45/50\n",
            "1/1 [==============================] - 0s 3ms/step - loss: 0.7305 - accuracy: 0.7500\n",
            "Epoch 46/50\n",
            "1/1 [==============================] - 0s 2ms/step - loss: 0.7301 - accuracy: 0.7500\n",
            "Epoch 47/50\n",
            "1/1 [==============================] - 0s 2ms/step - loss: 0.7297 - accuracy: 0.7500\n",
            "Epoch 48/50\n",
            "1/1 [==============================] - 0s 2ms/step - loss: 0.7294 - accuracy: 0.7500\n",
            "Epoch 49/50\n",
            "1/1 [==============================] - 0s 2ms/step - loss: 0.7290 - accuracy: 0.7500\n",
            "Epoch 50/50\n",
            "1/1 [==============================] - 0s 2ms/step - loss: 0.7286 - accuracy: 0.7500\n"
          ],
          "name": "stdout"
        },
        {
          "output_type": "execute_result",
          "data": {
            "text/plain": [
              "<tensorflow.python.keras.callbacks.History at 0x7f3c25f72cc0>"
            ]
          },
          "metadata": {
            "tags": []
          },
          "execution_count": 59
        }
      ]
    },
    {
      "cell_type": "code",
      "metadata": {
        "colab_type": "code",
        "id": "Z1wfKUxszPKa",
        "outputId": "b1063af8-13f3-4e63-b789-5816d26f8a52",
        "colab": {
          "base_uri": "https://localhost:8080/",
          "height": 52
        }
      },
      "source": [
        "# evaluate the model\n",
        "scores = model.evaluate(X, y)\n",
        "print(f\"{model.metrics_names[1]}: {scores[1]*100}\")"
      ],
      "execution_count": 60,
      "outputs": [
        {
          "output_type": "stream",
          "text": [
            "1/1 [==============================] - 0s 1ms/step - loss: 0.7282 - accuracy: 0.7500\n",
            "accuracy: 75.0\n"
          ],
          "name": "stdout"
        }
      ]
    },
    {
      "cell_type": "markdown",
      "metadata": {
        "toc-hr-collapsed": true,
        "id": "77advzh9mcK_",
        "colab_type": "text"
      },
      "source": [
        "## Follow Along\n",
        "\n",
        "In the `Sequential` api model, you specify a model architecture by 'sequentially specifying layers. This type of specification works well for feed forward neural networks in which the data flows in one direction (forward propagation) and the error flows in the opposite direction (backwards propagation). The Keras `Sequential` API follows a standardarized worklow to estimate a 'net: \n",
        "\n",
        "1. Load Data\n",
        "2. Define Model\n",
        "3. Compile Model\n",
        "4. Fit Model\n",
        "5. Evaluate Model\n",
        "\n",
        "You saw these steps in our Keras Perceptron Sample, but let's walk thru each step in detail."
      ]
    },
    {
      "cell_type": "markdown",
      "metadata": {
        "colab_type": "text",
        "id": "Md5D67XwqVAf",
        "toc-hr-collapsed": false
      },
      "source": [
        "### Load Data"
      ]
    },
    {
      "cell_type": "code",
      "metadata": {
        "colab_type": "code",
        "id": "bn09phMBpY1J",
        "colab": {}
      },
      "source": [
        "from tensorflow import keras\n",
        "from tensorflow.keras.datasets import mnist\n",
        "from tensorflow.keras.models import Sequential\n",
        "from tensorflow.keras.layers import Dense, Dropout\n",
        "\n",
        "# Stretch - use dropout \n",
        "import numpy as np"
      ],
      "execution_count": 0,
      "outputs": []
    },
    {
      "cell_type": "code",
      "metadata": {
        "id": "bYV02oNvmcLC",
        "colab_type": "code",
        "colab": {
          "base_uri": "https://localhost:8080/",
          "height": 52
        },
        "outputId": "b823fa04-69b5-4034-e168-09a03be00bbe"
      },
      "source": [
        "# Load the Data\n",
        "(X_train, y_train), (X_test, y_test) = mnist.load_data()"
      ],
      "execution_count": 62,
      "outputs": [
        {
          "output_type": "stream",
          "text": [
            "Downloading data from https://storage.googleapis.com/tensorflow/tf-keras-datasets/mnist.npz\n",
            "11493376/11490434 [==============================] - 0s 0us/step\n"
          ],
          "name": "stdout"
        }
      ]
    },
    {
      "cell_type": "code",
      "metadata": {
        "id": "JuCYgR07mcLE",
        "colab_type": "code",
        "outputId": "a1d0692d-cfcc-49c1-cd30-f42e918ca63a",
        "colab": {
          "base_uri": "https://localhost:8080/",
          "height": 34
        }
      },
      "source": [
        "X_train[0].shape"
      ],
      "execution_count": 63,
      "outputs": [
        {
          "output_type": "execute_result",
          "data": {
            "text/plain": [
              "(28, 28)"
            ]
          },
          "metadata": {
            "tags": []
          },
          "execution_count": 63
        }
      ]
    },
    {
      "cell_type": "code",
      "metadata": {
        "id": "ZoRpxe3bmcLF",
        "colab_type": "code",
        "outputId": "292d6c78-8f2e-44ef-e038-793df15ab19f",
        "colab": {
          "base_uri": "https://localhost:8080/",
          "height": 34
        }
      },
      "source": [
        "X_train.shape"
      ],
      "execution_count": 64,
      "outputs": [
        {
          "output_type": "execute_result",
          "data": {
            "text/plain": [
              "(60000, 28, 28)"
            ]
          },
          "metadata": {
            "tags": []
          },
          "execution_count": 64
        }
      ]
    },
    {
      "cell_type": "code",
      "metadata": {
        "id": "UZRnZ-J5mcLG",
        "colab_type": "code",
        "colab": {}
      },
      "source": [
        "# X Variable Types\n",
        "X_train = X_train.astype('float32') / 255.\n",
        "X_test = X_test.astype('float32') /255.\n",
        "\n",
        "# Correct Encoding on Y\n",
        "# What softmax expects = [0,0,0,0,0,1,0,0,0,0]\n",
        "num_classes = 10\n",
        "y_train = keras.utils.to_categorical(y_train, num_classes)\n",
        "y_test = keras.utils.to_categorical(y_test, num_classes)"
      ],
      "execution_count": 0,
      "outputs": []
    },
    {
      "cell_type": "markdown",
      "metadata": {
        "colab_type": "text",
        "id": "o0xMqOyTs5xt"
      },
      "source": [
        "### Define Model"
      ]
    },
    {
      "cell_type": "code",
      "metadata": {
        "colab_type": "code",
        "id": "Bp9USczrfu6M",
        "colab": {}
      },
      "source": [
        "from tensorflow.keras.models import Sequential\n",
        "from tensorflow.keras.layers import Dense, Flatten\n",
        "\n",
        "import numpy as np\n",
        "\n",
        "np.random.seed(812)"
      ],
      "execution_count": 0,
      "outputs": []
    },
    {
      "cell_type": "markdown",
      "metadata": {
        "colab_type": "text",
        "id": "wAzHLg27thoN"
      },
      "source": [
        "I'll instantiate my model as a \"sequential\" model. This just means that I'm going to tell Keras what my model's architecture should be one layer at a time."
      ]
    },
    {
      "cell_type": "code",
      "metadata": {
        "colab_type": "code",
        "id": "DSNsL49Xp6KI",
        "colab": {}
      },
      "source": [
        "# https://keras.io/getting-started/sequential-model-guide/\n",
        "model = Sequential()"
      ],
      "execution_count": 0,
      "outputs": []
    },
    {
      "cell_type": "markdown",
      "metadata": {
        "colab_type": "text",
        "id": "ZCYX6QzJtvpG"
      },
      "source": [
        "Adding a \"Dense\" layer to our model is how we add \"vanilla\" perceptron-based layers to our neural network. These are also called \"fully-connected\" or \"densely-connected\" layers. They're used as a layer type in lots of other Neural Net Architectures but they're not referred to as perceptrons or multi-layer perceptrons very often in those situations even though that's what they are.\n",
        "\n",
        " > [\"Just your regular densely-connected NN layer.\"](https://keras.io/layers/core/)\n",
        " \n",
        " The first argument is how many neurons we want to have in that layer. To create a perceptron-esque model we will just set it to 10. Our architecture is just an input and output layer. We will tell it that there will be 784 inputs coming into this layer from our dataset and set it to use the sigmoid activation function."
      ]
    },
    {
      "cell_type": "code",
      "metadata": {
        "colab_type": "code",
        "id": "GNzOLidxtvFa",
        "colab": {}
      },
      "source": [
        "model.add(Flatten(input_shape=(28,28)))\n",
        "model.add(Dense(10,activation=\"softmax\")) #Relu is valid option. "
      ],
      "execution_count": 0,
      "outputs": []
    },
    {
      "cell_type": "code",
      "metadata": {
        "id": "o5SQSt-R_lWG",
        "colab_type": "code",
        "colab": {
          "base_uri": "https://localhost:8080/",
          "height": 230
        },
        "outputId": "f7a88a02-8df1-43fd-dd9b-671b0e79b975"
      },
      "source": [
        "model.summary()"
      ],
      "execution_count": 69,
      "outputs": [
        {
          "output_type": "stream",
          "text": [
            "Model: \"sequential_3\"\n",
            "_________________________________________________________________\n",
            "Layer (type)                 Output Shape              Param #   \n",
            "=================================================================\n",
            "flatten (Flatten)            (None, 784)               0         \n",
            "_________________________________________________________________\n",
            "dense_3 (Dense)              (None, 10)                7850      \n",
            "=================================================================\n",
            "Total params: 7,850\n",
            "Trainable params: 7,850\n",
            "Non-trainable params: 0\n",
            "_________________________________________________________________\n"
          ],
          "name": "stdout"
        }
      ]
    },
    {
      "cell_type": "markdown",
      "metadata": {
        "colab_type": "text",
        "id": "EnI3jwKMtBL2",
        "toc-hr-collapsed": false
      },
      "source": [
        "### Compile Model\n",
        "Using binary_crossentropy as the loss function here is just telling keras that I'm doing binary classification so that it can use the appropriate loss function accordingly. If we were predicting non-binary categories we might assign something like `categorical_crossentropy`. We're also telling keras that we want it to report model accuracy as our main error metric for each epoch. We will also be able to see the overall accuracy once the model has finished training.\n",
        "\n",
        "#### Adam Optimizer\n",
        "Check out this links for more background on the Adam optimizer and Stohastic Gradient Descent\n",
        "* [Adam Optimization Algorithm](https://machinelearningmastery.com/adam-optimization-algorithm-for-deep-learning/)\n",
        "* [Adam Optimizer - original paper](https://arxiv.org/abs/1412.6980)"
      ]
    },
    {
      "cell_type": "code",
      "metadata": {
        "colab_type": "code",
        "id": "qp6xwYaqurRO",
        "colab": {}
      },
      "source": [
        "model.compile(loss='categorical_crossentropy', optimizer='adam', metrics=['accuracy'])"
      ],
      "execution_count": 0,
      "outputs": []
    },
    {
      "cell_type": "markdown",
      "metadata": {
        "colab_type": "text",
        "id": "5dW8SZ2Ls9SX",
        "toc-hr-collapsed": false
      },
      "source": [
        "### Fit Model\n",
        "\n",
        "Lets train it up! `model.fit()` has a `batch_size` parameter that we can use if we want to do mini-batch epochs, but since this tabular dataset is pretty small we're just going to delete that parameter. Keras' default `batch_size` is `None` so omiting it will tell Keras to do batch epochs."
      ]
    },
    {
      "cell_type": "code",
      "metadata": {
        "id": "wf14_8AomcLR",
        "colab_type": "code",
        "outputId": "0fd24c5b-d01f-43a8-805a-2fc4a823b88e",
        "colab": {
          "base_uri": "https://localhost:8080/",
          "height": 390
        }
      },
      "source": [
        "model.fit(X_train, y_train, epochs=10)"
      ],
      "execution_count": 71,
      "outputs": [
        {
          "output_type": "stream",
          "text": [
            "Epoch 1/10\n",
            "1875/1875 [==============================] - 3s 2ms/step - loss: 0.4683 - accuracy: 0.8753\n",
            "Epoch 2/10\n",
            "1875/1875 [==============================] - 3s 2ms/step - loss: 0.3036 - accuracy: 0.9148\n",
            "Epoch 3/10\n",
            "1875/1875 [==============================] - 3s 2ms/step - loss: 0.2830 - accuracy: 0.9206\n",
            "Epoch 4/10\n",
            "1875/1875 [==============================] - 3s 2ms/step - loss: 0.2725 - accuracy: 0.9235\n",
            "Epoch 5/10\n",
            "1875/1875 [==============================] - 3s 2ms/step - loss: 0.2663 - accuracy: 0.9255\n",
            "Epoch 6/10\n",
            "1875/1875 [==============================] - 3s 2ms/step - loss: 0.2613 - accuracy: 0.9270\n",
            "Epoch 7/10\n",
            "1875/1875 [==============================] - 3s 2ms/step - loss: 0.2584 - accuracy: 0.9281\n",
            "Epoch 8/10\n",
            "1875/1875 [==============================] - 3s 2ms/step - loss: 0.2554 - accuracy: 0.9291\n",
            "Epoch 9/10\n",
            "1875/1875 [==============================] - 3s 2ms/step - loss: 0.2529 - accuracy: 0.9294\n",
            "Epoch 10/10\n",
            "1875/1875 [==============================] - 3s 2ms/step - loss: 0.2510 - accuracy: 0.9307\n"
          ],
          "name": "stdout"
        },
        {
          "output_type": "execute_result",
          "data": {
            "text/plain": [
              "<tensorflow.python.keras.callbacks.History at 0x7f3c241aa048>"
            ]
          },
          "metadata": {
            "tags": []
          },
          "execution_count": 71
        }
      ]
    },
    {
      "cell_type": "markdown",
      "metadata": {
        "id": "Li7JT_HrmcLV",
        "colab_type": "text"
      },
      "source": [
        "### Evaluate Model"
      ]
    },
    {
      "cell_type": "code",
      "metadata": {
        "id": "jBlRXnxGmcLV",
        "colab_type": "code",
        "outputId": "d2a284aa-39c3-4d6f-890a-063974ae4000",
        "colab": {
          "base_uri": "https://localhost:8080/",
          "height": 123
        }
      },
      "source": [
        "scores = model.evaluate(X_test,y_test)\n",
        "print(\"\\n\")\n",
        "print(\"Validation Data Metrics:\")\n",
        "print(f\"{model.metrics_names[0]}: {scores[0]}\")\n",
        "print(f\"{model.metrics_names[1]}: {scores[1]*100}\")"
      ],
      "execution_count": 72,
      "outputs": [
        {
          "output_type": "stream",
          "text": [
            "313/313 [==============================] - 1s 2ms/step - loss: 0.2678 - accuracy: 0.9246\n",
            "\n",
            "\n",
            "Validation Data Metrics:\n",
            "loss: 0.2678353786468506\n",
            "accuracy: 92.46000051498413\n"
          ],
          "name": "stdout"
        }
      ]
    },
    {
      "cell_type": "markdown",
      "metadata": {
        "colab_type": "text",
        "id": "zHYB7k9q3O8T"
      },
      "source": [
        "### Unstable Results\n",
        "\n",
        "You'll notice that if we rerun the results might differ from the origin run. This can be explain by a bunch of factors. Check out some of them in this article: \n",
        "\n",
        "<https://machinelearningmastery.com/randomness-in-machine-learning/>"
      ]
    },
    {
      "cell_type": "markdown",
      "metadata": {
        "id": "kMLxfyj5mcLX",
        "colab_type": "text"
      },
      "source": [
        "## Challenge\n",
        "\n",
        "You will be expected to leverage the Keras `Sequential` api to estimate a feed forward neural networks on a dataset.\n",
        "\n",
        "---"
      ]
    }
  ]
}