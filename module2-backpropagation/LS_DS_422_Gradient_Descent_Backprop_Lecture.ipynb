{
<<<<<<< HEAD
  "nbformat": 4,
  "nbformat_minor": 0,
  "metadata": {
    "kernelspec": {
      "display_name": "U4-S2-NNF (Python 3.7)",
      "language": "python",
      "name": "u4-s2-nnf"
    },
    "language_info": {
      "codemirror_mode": {
        "name": "ipython",
        "version": 3
      },
      "file_extension": ".py",
      "mimetype": "text/x-python",
      "name": "python",
      "nbconvert_exporter": "python",
      "pygments_lexer": "ipython3",
      "version": "3.7.3"
    },
    "colab": {
      "name": "LS_DS_422_Gradient_Descent_Backprop_Lecture.ipynb",
      "provenance": []
    }
  },
  "cells": [
    {
      "cell_type": "markdown",
      "metadata": {
        "id": "phIA2EQmfDJ2",
        "colab_type": "text"
      },
      "source": [
        "Lambda School Data Science\n",
        "\n",
        "*Unit 4, Sprint 2, Module 2*\n",
        "\n",
        "---"
      ]
    },
    {
      "cell_type": "markdown",
      "metadata": {
        "toc-hr-collapsed": false,
        "id": "DSj2_kcBfDJ3",
        "colab_type": "text"
      },
      "source": [
        "# Backpropagation & Gradient Descent (Prepare)"
      ]
    },
    {
      "cell_type": "markdown",
      "metadata": {
        "id": "om18WmpSfDJ3",
        "colab_type": "text"
      },
      "source": [
        "## Learning Objectives\n",
        "* <a href=\"#p1\">Part 1</a>: Explain the intutition behind backproprogation\n",
        "* <a href=\"#p2\">Part 2</a>: Implement gradient descent + backpropagation on a feedforward neural network. \n",
        "* <a href=\"#p3\">Part 3</a>: Introduce the Keras Sequential Model API"
      ]
    },
    {
      "cell_type": "markdown",
      "metadata": {
        "id": "GfuI4p8RfDJ4",
        "colab_type": "text"
      },
      "source": [
        "## Summary of Yesterday\n",
        "\n",
        "Yesterday, we learned about some of the principal components of Neural Networks: Neurons, Weights, Activation Functions, and layers (input, output, & hidden). Today, we will reinforce our understanding of those components and introduce the mechanics of training a neural network. Feed-forward neural networks, such as multi-layer perceptrons (MLPs), are almost always trained using some variation of gradient descent where the gradient has been calculated by backpropagation.\n",
        "\n",
        "<center><img src=\"https://cdn-images-1.medium.com/max/1600/1*_M4bZyuwaGby6KMiYVYXvg.jpeg\" width=\"400\"></center>\n",
        "\n",
        "- There are three kinds of layers: input, hidden, and output layers.\n",
        "- Each layer is made up of **n** individual neurons (aka activation units) which have a corresponding weight and bias.\n",
        "- Signal is passed from layer to layer through a network by:\n",
        " - Taking in inputs from the training data (or previous layer)\n",
        " - Multiplying each input by its corresponding weight (think arrow/connecting line)\n",
        " - Adding a bias to this weighted some of inputs and weights\n",
        " - Activating this weighted sum + bias by squishifying it with sigmoid or some other activation function. With a single perceptron with three inputs, calculating the output from the node is done like so:\n",
        "\\begin{align}\n",
        " y = sigmoid(\\sum(weight_{1}input_{1} + weight_{2}input_{2} + weight_{3}input_{3}) + bias)\n",
        "\\end{align}\n",
        " - this final activated value is the signal that gets passed onto the next layer of the network.\n",
        " "
      ]
    },
    {
      "cell_type": "markdown",
      "metadata": {
        "id": "6w-yg8vafDJ4",
        "colab_type": "text"
      },
      "source": [
        "## Training a Neural Network: *Formal Summary*\n",
        "\n",
        "0. Pick a network architecture\n",
        "   - No. of input units = No. of features\n",
        "   - No. of output units = Number of Classes (or expected targets)\n",
        "   - Select the number of hidden layers and number of neurons within each hidden layer\n",
        "1. Randomly initialize weights\n",
        "2. Implement forward propagation to get $h_{\\theta}(x^{(i)})$ for any $x^{(i)}$\n",
        "3. Implement code to compute a cost function $J(\\theta)$\n",
        "4. Implement backpropagation to compute partial derivatives $\\frac{\\delta}{\\delta\\theta_{jk}^{l}}{J(\\theta)}$\n",
        "5. Use gradient descent (or other advanced optimizer) with backpropagation to minimize $J(\\theta)$ as a function of parameters $\\theta\\$\n",
        "6. Repeat steps 2 - 5 until cost function is 'minimized' or some other stopping criteria is met. One pass over steps 2 - 5 is called an iteration or epoch."
      ]
    },
    {
      "cell_type": "markdown",
      "metadata": {
        "toc-hr-collapsed": false,
        "id": "f_7HOgG7fDJ5",
        "colab_type": "text"
      },
      "source": [
        "## Calculating *\"cost\"*, *\"loss\"* or *\"error\"*\n",
        "\n",
        "We've talked about how in order to evaluate a network's performance, the data is \"fed forward\" until predictions are obtained and then the \"loss\" or \"error\" for a given observation is ascertained by looking at what the network predicted for that observation and comparing it to what it *should* have predicted. \n",
        "\n",
        "The error for a given observation is calculated by taking the square of the difference between the predicted value and the actual value. \n",
        "\n",
        "We can summarize the overall quality of a network's predictions by finding the average error across all observations. This gives us the \"Mean Squared Error.\" which hopefully is a fairly familiar model evaluation metric by now. Graphing the MSE over each epoch (training cycle) is a common practice with Neural Networks. This is what you're seeing in the top right corner of the Tensorflow Playground website as the number of \"epochs\" climbs higher and higher."
      ]
    },
    {
      "cell_type": "markdown",
      "metadata": {
        "id": "xs7UaCsgfDJ5",
        "colab_type": "text"
      },
      "source": [
        "## What is an \"Epoch\"?\n",
        "\n",
        "An \"Epoch\" is one cycle of passing our data forward through the network, measuring error given our specified cost function, and then -via gradient descent- updating weights within our network to hopefully improve the quality of our predictions on the next iteration."
      ]
    },
    {
      "cell_type": "markdown",
      "metadata": {
        "id": "9ZmeSOA7fDJ6",
        "colab_type": "text"
      },
      "source": [
        "### A note about Hyperparameters\n",
        "\n",
        "Neural Networks have many more hyperparameters than other machine learning algorithms which is part of what makes them a beast to train.\n",
        "\n",
        "1. You need more data to train them on. \n",
        "2. They're complex so they take longer to train. \n",
        "3. They have lots and lots of hyperparameters which we need to find the most optimal combination of, so we might end up training our model dozens or hundreds of times with different combinations of hyperparameters in order to try and squeeze out a few more tenths of a percent of accuracy. "
      ]
    },
    {
      "cell_type": "markdown",
      "metadata": {
        "colab_type": "text",
        "id": "aM4CK1IarId4",
        "toc-hr-collapsed": false
      },
      "source": [
        "# Backpropagation (Learn)\n",
        "<a id=\"p1\"></a>"
      ]
    },
    {
      "cell_type": "markdown",
      "metadata": {
        "colab_type": "text",
        "toc-hr-collapsed": true,
        "id": "K14VjBjSfDJ7"
      },
      "source": [
        "## Overview\n",
        "\n",
        "Backpropagation is short for [\"Backwards Propagation of errors\"](https://en.wikipedia.org/wiki/Backpropagation) and refers to a specific (rather calculus intensive) algorithm for how weights in a neural network are updated in reverse order at the end of each training epoch. Our purpose today is to demonstrate the backpropagation algorithm on a simple Feedforward Neural Network and in so doing help you get a grasp on the main process. If you want to understand all of the underlying calculus of how the gradients are calculated then you'll need to dive into it yourself, [3Blue1Brown's video is a great starting place](https://www.youtube.com/watch?v=tIeHLnjs5U8). I also highly recommend this Welch Labs series [Neural Networks Demystified](https://www.youtube.com/watch?v=bxe2T-V8XRs) if you want a rapid yet orderly walk through of the main intuitions and math behind the backpropagation algorithm. "
      ]
    },
    {
      "cell_type": "markdown",
      "metadata": {
        "id": "IArXPcGHfDJ8",
        "colab_type": "text"
      },
      "source": [
        "### What is a Gradient?\n",
        "\n",
        "> In vector calculus, the gradient is a multi-variable generalization of the derivative. \n",
        "\n",
        "The gradients that we will deal with today will be vector representations of the derivative of the activation function. "
      ]
    },
    {
      "cell_type": "markdown",
      "metadata": {
        "toc-hr-collapsed": true,
        "id": "MiO1cAZDfDJ8",
        "colab_type": "text"
      },
      "source": [
        "## Follow Along\n",
        "\n",
        "In this section, we will again implement a multi-layer perceptron using numpy. We'll focus on using a __Feed Forward Neural Network__ to predict test scores. "
      ]
    },
    {
      "cell_type": "markdown",
      "metadata": {
        "colab_type": "text",
        "id": "Dm2HPETcrgy6",
        "toc-hr-collapsed": true
      },
      "source": [
        "![231 Neural Network](https://cdn-images-1.medium.com/max/1600/1*IjY3wFF24sK9UhiOlf36Bw.png)"
      ]
    },
    {
      "cell_type": "markdown",
      "metadata": {
        "colab_type": "text",
        "id": "4d4tzpwO6B47"
      },
      "source": [
        "### Generate some Fake Data"
      ]
    },
    {
      "cell_type": "code",
      "metadata": {
        "colab_type": "code",
        "id": "ERyVgeO_IWyV",
        "colab": {}
      },
      "source": [
        "import numpy as np\n",
        "\n",
        "np.random.seed(812)\n",
        "\n",
        "# Imagine that our data is drawn from a linear function\n",
        "# y = 2*hours_studying + 4*hours_sleeping + 50\n",
        "\n",
        "# hours studying, hours sleep\n",
        "X = np.array(([2,9],\n",
        "              [1,5],\n",
        "              [3,6]), dtype=float)\n",
        "\n",
        "# Exam Scores\n",
        "y = np.array(([90],\n",
        "              [72],\n",
        "              [80]), dtype=float)"
      ],
      "execution_count": 0,
      "outputs": []
    },
    {
      "cell_type": "markdown",
      "metadata": {
        "id": "wFUmVXQpfDKB",
        "colab_type": "text"
      },
      "source": [
        "### Feature Normalization"
      ]
    },
    {
      "cell_type": "code",
      "metadata": {
        "colab_type": "code",
        "id": "cDeUBW6k4Ri4",
        "colab": {
          "base_uri": "https://localhost:8080/",
          "height": 151
        },
        "outputId": "11cfc73e-32a7-4266-e1c7-611bd82bd55b"
      },
      "source": [
        "# Normalizing Data on feature \n",
        "# Neural Network would probably do this on its own, but it will help us converge on a solution faster\n",
        "X = X / np.amax(X, axis=0)\n",
        "y = y / 100\n",
        "\n",
        "print(\"Studying, Sleeping \\n\", X)\n",
        "print(\"Test Score \\n\", y)"
      ],
      "execution_count": 58,
      "outputs": [
        {
          "output_type": "stream",
          "text": [
            "Studying, Sleeping \n",
            " [[0.66666667 1.        ]\n",
            " [0.33333333 0.55555556]\n",
            " [1.         0.66666667]]\n",
            "Test Score \n",
            " [[0.9 ]\n",
            " [0.72]\n",
            " [0.8 ]]\n"
          ],
          "name": "stdout"
        }
      ]
    },
    {
      "cell_type": "markdown",
      "metadata": {
        "colab_type": "text",
        "id": "bgTf6vTS69Sw"
      },
      "source": [
        "### Neural Network Architecture\n",
        "Lets create a Neural_Network class to contain this functionality"
      ]
    },
    {
      "cell_type": "code",
      "metadata": {
        "colab_type": "code",
        "id": "RUI8VSR5zyBv",
        "colab": {}
      },
      "source": [
        "class NeuralNetwork:\n",
        "    \n",
        "    def __init__(self):\n",
        "        # Set up Arch\n",
        "        self.inputs = 2\n",
        "        self.hiddenNodes = 3\n",
        "        self.outputNodes = 1\n",
        "        \n",
        "        # Initialize Weights\n",
        "        # 2x3\n",
        "        self.weights1 = np.random.randn(self.inputs,self.hiddenNodes)\n",
        "        \n",
        "        # 3x1\n",
        "        self.weights2 = np.random.randn(self.hiddenNodes, self.outputNodes)"
      ],
      "execution_count": 0,
      "outputs": []
    },
    {
      "cell_type": "markdown",
      "metadata": {
        "colab_type": "text",
        "id": "gbyT_FJ88IlK"
      },
      "source": [
        "### Randomly Initialize Weights\n",
        "How many random weights do we need to initialize? \"Fully-connected Layers\""
      ]
    },
    {
      "cell_type": "code",
      "metadata": {
        "colab_type": "code",
        "id": "IreIDe6P8H0H",
        "colab": {}
      },
      "source": [
        "nn = NeuralNetwork()"
      ],
      "execution_count": 0,
      "outputs": []
    },
    {
      "cell_type": "code",
      "metadata": {
        "id": "gfb4_6txfDKM",
        "colab_type": "code",
        "colab": {
          "base_uri": "https://localhost:8080/",
          "height": 134
        },
        "outputId": "b54c9246-29fb-4a5a-84d3-0b04ef985874"
      },
      "source": [
        "print(\"Layer 1 weights: \\n\", nn.weights1)\n",
        "print(\"Layer 2 weights: \\n\", nn.weights2)"
      ],
      "execution_count": 61,
      "outputs": [
        {
          "output_type": "stream",
          "text": [
            "Layer 1 weights: \n",
            " [[ 2.48783189  0.11697987 -1.97118428]\n",
            " [-0.48325593 -1.50361209  0.57515126]]\n",
            "Layer 2 weights: \n",
            " [[-0.20672583]\n",
            " [ 0.41271104]\n",
            " [-0.57757999]]\n"
          ],
          "name": "stdout"
        }
      ]
    },
    {
      "cell_type": "markdown",
      "metadata": {
        "colab_type": "text",
        "id": "hbxDhyjQ-RwS"
      },
      "source": [
        "### Implement Feedforward Functionality\n",
        "\n",
        "After this step our neural network should be able to generate an output even though it has not been trained."
      ]
    },
    {
      "cell_type": "code",
      "metadata": {
        "colab_type": "code",
        "id": "0gGivpEk-VdP",
        "colab": {}
      },
      "source": [
        "class NeuralNetwork:\n",
        "    \n",
        "    def __init__(self):\n",
        "        # Set up Arch\n",
        "        self.inputs = 2\n",
        "        self.hiddenNodes = 3\n",
        "        self.outputNodes = 1\n",
        "        \n",
        "        # Initialize Weights\n",
        "        # 2x3\n",
        "        # Input to Hidden (1st set of weights)\n",
        "        self.weights1 = np.random.randn(self.inputs,self.hiddenNodes)\n",
        "        \n",
        "        # 3x1\n",
        "        # Hidden to Output (2nd set of weights)\n",
        "        self.weights2 = np.random.randn(self.hiddenNodes, self.outputNodes)\n",
        "        \n",
        "    def sigmoid(self, s):\n",
        "        return 1 / (1+np.exp(-s))\n",
        "    \n",
        "    def feed_forward(self, X):\n",
        "        \"\"\"\n",
        "        Calculate the NN inference using feed forward.\n",
        "        \"\"\"\n",
        "        \n",
        "        # Weighted Sum\n",
        "        self.hidden_sum = np.dot(X, self.weights1)\n",
        "        \n",
        "        # Activate\n",
        "        self.activated_hidden = self.sigmoid(self.hidden_sum)\n",
        "        \n",
        "        # Weighted sum of activated hidden (which output layer will use)\n",
        "        self.output_sum = np.dot(self.activated_hidden, self.weights2)\n",
        "        \n",
        "        # Final Activation of Output (My Predictions)\n",
        "        self.activated_output = self.sigmoid(self.output_sum)\n",
        "        \n",
        "        return self.activated_output"
      ],
      "execution_count": 0,
      "outputs": []
    },
    {
      "cell_type": "code",
      "metadata": {
        "id": "RYsATwvDfDKS",
        "colab_type": "code",
        "colab": {
          "base_uri": "https://localhost:8080/",
          "height": 67
        },
        "outputId": "374ce237-5ace-486e-ccdc-4d01dc410a69"
      },
      "source": [
        "X"
      ],
      "execution_count": 63,
      "outputs": [
        {
          "output_type": "execute_result",
          "data": {
            "text/plain": [
              "array([[0.66666667, 1.        ],\n",
              "       [0.33333333, 0.55555556],\n",
              "       [1.        , 0.66666667]])"
            ]
          },
          "metadata": {
            "tags": []
          },
          "execution_count": 63
        }
      ]
    },
    {
      "cell_type": "markdown",
      "metadata": {
        "colab_type": "text",
        "id": "a1pxdfmDAaJg"
      },
      "source": [
        "### Make a Prediction"
      ]
    },
    {
      "cell_type": "code",
      "metadata": {
        "id": "-gJLdPW3fDKV",
        "colab_type": "code",
        "colab": {
          "base_uri": "https://localhost:8080/",
          "height": 50
        },
        "outputId": "5a49c111-a7f4-41ff-84d8-91cabd10631e"
      },
      "source": [
        "# Try to make a prediction with our updated 'net\n",
        "nn = NeuralNetwork()\n",
        "print(X[0])\n",
        "output = nn.feed_forward(X[0])\n",
        "print(\"output\", output)"
      ],
      "execution_count": 64,
      "outputs": [
        {
          "output_type": "stream",
          "text": [
            "[0.66666667 1.        ]\n",
            "output [0.25814933]\n"
          ],
          "name": "stdout"
        }
      ]
    },
    {
      "cell_type": "markdown",
      "metadata": {
        "colab_type": "text",
        "id": "3V61yNmAB2T5"
      },
      "source": [
        "### Calculate Error"
      ]
    },
    {
      "cell_type": "code",
      "metadata": {
        "id": "gVI_GVOTfDKZ",
        "colab_type": "code",
        "colab": {
          "base_uri": "https://localhost:8080/",
          "height": 34
        },
        "outputId": "349efdc5-126e-4cc3-c6b9-52db0baf3f74"
      },
      "source": [
        "error = y[0] - output\n",
        "error"
      ],
      "execution_count": 65,
      "outputs": [
        {
          "output_type": "execute_result",
          "data": {
            "text/plain": [
              "array([0.64185067])"
            ]
          },
          "metadata": {
            "tags": []
          },
          "execution_count": 65
        }
      ]
    },
    {
      "cell_type": "code",
      "metadata": {
        "id": "4KfzBDI6fDKb",
        "colab_type": "code",
        "colab": {
          "base_uri": "https://localhost:8080/",
          "height": 118
        },
        "outputId": "35d13a9b-7bfa-432d-a7e0-1a3f9fa91a10"
      },
      "source": [
        "output_all = nn.feed_forward(X)\n",
        "error_all = y - output_all\n",
        "print(output_all)\n",
        "print(error_all)"
      ],
      "execution_count": 66,
      "outputs": [
        {
          "output_type": "stream",
          "text": [
            "[[0.25814933]\n",
            " [0.33067192]\n",
            " [0.22642076]]\n",
            "[[0.64185067]\n",
            " [0.38932808]\n",
            " [0.57357924]]\n"
          ],
          "name": "stdout"
        }
      ]
    },
    {
      "cell_type": "markdown",
      "metadata": {
        "colab_type": "text",
        "id": "26wgCLU0TLvy"
      },
      "source": [
        "Why is my error so big?\n",
        "\n",
        "My error is so big because my prediction is low.\n",
        "\n",
        "Why are my prediction low?\n",
        "\n",
        "Because either:\n",
        "\n",
        "  1) Second layer **weights** are low\n",
        "  \n",
        "  (or)\n",
        "  \n",
        "  2) Activations coming from the first layer are low\n",
        "  \n",
        "How are activations from the first layer determined? \n",
        "\n",
        "  1) By inputs - fixed\n",
        "  \n",
        "  2) by **weights** - variable\n",
        "  \n",
        "The only thing that I have control over throughout this process in order to increase the value of my final predictions is to either increase weights in layer 2 or increase weights in layer 1. \n",
        "\n",
        "Imagine that you could only change your weights by a fixed amount. Say you have .3 and you have to split that up and disperse it over your weights so as to increase your predictions as much as possible. (This isn't actually what happens, but it will help us identify which weights we would benefit the most from moving.)\n",
        "\n",
        "I need to increase weights of my model somewhere, I'll get the biggest bang for my buck if I increase weights in places where I'm already seeing high activation values -because they end up getting multiplied together before being passed to the sigmoid function. \n",
        "\n",
        "> \"Neurons that fire together, wire together\""
      ]
    },
    {
      "cell_type": "markdown",
      "metadata": {
        "colab_type": "text",
        "id": "j_eyzItYIxgm"
      },
      "source": [
        "### Implement Backpropagation \n",
        "\n",
        "> *Assigning blame for bad predictions and delivering justice - repeatedly and a little bit at a time*\n",
        "\n",
        "What in our model could be causing our predictions to suck so bad? \n",
        "\n",
        "Well, we know that our inputs (X) and outputs (y) are correct, if they weren't then we would have bigger problems than understanding backpropagation.\n",
        "\n",
        "We also know that our activation function (sigmoid) is working correctly. It can't be blamed because it just does whatever we tell it to and transforms the data in a known way.\n",
        "\n",
        "So what are the potential culprits for these terrible predictions? The **weights** of our model. Here's the problem though. I have weights that exist in both layers of my model. How do I know if the weights in the first layer are to blame, or the second layer, or both? \n",
        "\n",
        "Lets investigate. And see if we can just eyeball what should be updated."
      ]
    },
    {
      "cell_type": "code",
      "metadata": {
        "id": "mok8MFoEfDKe",
        "colab_type": "code",
        "colab": {
          "base_uri": "https://localhost:8080/",
          "height": 437
        },
        "outputId": "f9e848d6-31d4-47fe-defb-15517f6c2b00"
      },
      "source": [
        "attributes = ['weights1', 'hidden_sum', 'activated_hidden', 'weights2', 'activated_output']\n",
        "[print(i+'\\n', getattr(nn,i), '\\n'+'---'*3) for i in attributes if i[:2]!= '__'] "
      ],
      "execution_count": 67,
      "outputs": [
        {
          "output_type": "stream",
          "text": [
            "weights1\n",
            " [[-1.75351135  1.23279898  0.24464757]\n",
            " [-0.06568225  0.30190098  0.79723428]] \n",
            "---------\n",
            "hidden_sum\n",
            " [[-1.23468981  1.12376697  0.96033266]\n",
            " [-0.62099392  0.57865576  0.52445712]\n",
            " [-1.79729952  1.4340663   0.77613709]] \n",
            "---------\n",
            "activated_hidden\n",
            " [[0.22536165 0.75468678 0.7231884 ]\n",
            " [0.34955543 0.64075804 0.6281894 ]\n",
            " [0.14218011 0.8075341  0.68484697]] \n",
            "---------\n",
            "weights2\n",
            " [[ 1.23073545]\n",
            " [-1.52187331]\n",
            " [-0.25502715]] \n",
            "---------\n",
            "activated_output\n",
            " [[0.25814933]\n",
            " [0.33067192]\n",
            " [0.22642076]] \n",
            "---------\n"
          ],
          "name": "stdout"
        },
        {
          "output_type": "execute_result",
          "data": {
            "text/plain": [
              "[None, None, None, None, None]"
            ]
          },
          "metadata": {
            "tags": []
          },
          "execution_count": 67
        }
      ]
    },
    {
      "cell_type": "markdown",
      "metadata": {
        "colab_type": "text",
        "id": "16Ujj6vNYQyX",
        "toc-hr-collapsed": true
      },
      "source": [
        "### Update Weights Based on Gradient\n",
        "\n",
        "Repeat steps 2-4 for every observation in a given batch, and then given the network's cost function, calculate its gradient using calculus and update weights associated with the (negative) gradient of the cost function. \n",
        "\n",
        "Remember that we have 9 weights in our network therefore the gradient that comes from our gradient descent calculation will be the vector that takes us in the most downward direction along some function in 9-dimensional hyperspace.\n",
        "\n",
        "\\begin{align}\n",
        "C(w1, w2, w3, w4, w5, w6, w7, w8, w9)\n",
        "\\end{align}\n",
        "\n",
        "You should also know that with neural networks it is common to have gradients that are not convex (like what we saw when we applied gradient descent to linear regression). Due to the high complexity of these models and their nonlinearity, it is common for gradient descent to get stuck in a local minimum, but there are ways to combat this:\n",
        "\n",
        "1) Stochastic Gradient Descent\n",
        "\n",
        "2) More advanced Gradient-Descent-based \"Optimizers\" - See Stretch Goals on assignment."
      ]
    },
    {
      "cell_type": "code",
      "metadata": {
        "id": "ZdP0ZwFXfDKh",
        "colab_type": "code",
        "colab": {}
      },
      "source": [
        "# I want activations that correspond to negative weights to be lower\n",
        "# and activations that correspond to positive weights to be higher\n",
        "\n",
        "class NeuralNetwork:\n",
        "    \n",
        "    def __init__(self):\n",
        "        # Set up Arch\n",
        "        self.inputs = 2\n",
        "        self.hiddenNodes = 3\n",
        "        self.outputNodes = 1\n",
        "        \n",
        "        # Initialize Weights\n",
        "        # 2x3\n",
        "        # Input to Hidden (1st set of weights)\n",
        "        self.weights1 = np.random.randn(self.inputs,self.hiddenNodes)\n",
        "        \n",
        "        # 3x1\n",
        "        # Hidden to Output (2nd set of weights)\n",
        "        self.weights2 = np.random.randn(self.hiddenNodes, self.outputNodes)\n",
        "        \n",
        "    def sigmoid(self, s):\n",
        "        return 1 / (1+np.exp(-s))\n",
        "    \n",
        "    def sigmoidPrime(self, s):\n",
        "        sx = self.sigmoid(s)\n",
        "        return sx * (1-sx)\n",
        "    \n",
        "    def feed_forward(self, X):\n",
        "        \"\"\"\n",
        "        Calculate the NN inference using feed forward.\n",
        "        \"\"\"\n",
        "        \n",
        "        # Weighted Sum\n",
        "        self.hidden_sum = np.dot(X, self.weights1)\n",
        "        \n",
        "        # Activate\n",
        "        self.activated_hidden = self.sigmoid(self.hidden_sum)\n",
        "        \n",
        "        # Weighted sum of activated hidden (which output layer will use)\n",
        "        self.output_sum = np.dot(self.activated_hidden, self.weights2)\n",
        "        \n",
        "        # Final Activation of Output (My Predictions)\n",
        "        self.activated_output = self.sigmoid(self.output_sum)\n",
        "        \n",
        "        return self.activated_output\n",
        "    \n",
        "    def backward(self, X, y, o):\n",
        "        \"\"\"\n",
        "        Back prop thru the network\n",
        "        \"\"\"\n",
        "        \n",
        "        self.o_error = y - o # Error in the output\n",
        "        \n",
        "        # Apply derivative of sigmoid to error\n",
        "        self.o_delta = self.o_error * self.sigmoidPrime(o)\n",
        "        \n",
        "        # z2 error: how much were our output layer weights off\n",
        "        self.z2_error = self.o_delta.dot(self.weights2.T)\n",
        "        \n",
        "        # z2 delta: how much were the weights off?\n",
        "        self.z2_delta = self.z2_error*self.sigmoidPrime(self.output_sum)\n",
        "\n",
        "        self.weights1 += X.T.dot(self.z2_delta) #Adjust first set (input => hidden) weights\n",
        "        self.weights2 += self.activated_hidden.T.dot(self.o_delta) #adjust second set (hidden => output) weights\n",
        "        \n",
        "    def train(self, X, y):\n",
        "        o = self.feed_forward(X)\n",
        "        self.backward(X, y, o)"
      ],
      "execution_count": 0,
      "outputs": []
    },
    {
      "cell_type": "markdown",
      "metadata": {
        "toc-hr-collapsed": true,
        "id": "gOtJbEikfDKj",
        "colab_type": "text"
      },
      "source": [
        "#### Let's look at the shape of the Gradient Componets\n"
      ]
    },
    {
      "cell_type": "code",
      "metadata": {
        "id": "t15MEAJwfDKl",
        "colab_type": "code",
        "colab": {}
      },
      "source": [
        "nn = NeuralNetwork()\n",
        "\n",
        "nn.train(X,y)"
      ],
      "execution_count": 0,
      "outputs": []
    },
    {
      "cell_type": "markdown",
      "metadata": {
        "id": "Ow2JSYo4fDKn",
        "colab_type": "text"
      },
      "source": [
        "##### Our Error Associated with Each Observation \n",
        "aka how wrong were we?"
      ]
    },
    {
      "cell_type": "code",
      "metadata": {
        "id": "GSdNOUxWfDKo",
        "colab_type": "code",
        "colab": {
          "base_uri": "https://localhost:8080/",
          "height": 67
        },
        "outputId": "b1d459f5-3c68-4970-baae-aa8d76b35b23"
      },
      "source": [
        "nn.o_error"
      ],
      "execution_count": 88,
      "outputs": [
        {
          "output_type": "execute_result",
          "data": {
            "text/plain": [
              "array([[0.78112341],\n",
              "       [0.59922654],\n",
              "       [0.70202301]])"
            ]
          },
          "metadata": {
            "tags": []
          },
          "execution_count": 88
        }
      ]
    },
    {
      "cell_type": "markdown",
      "metadata": {
        "id": "4fNGvOPAfDKq",
        "colab_type": "text"
      },
      "source": [
        "##### 1st Gradient \n",
        "Simple interpretation - how much more sigmoid activation would have pushed us towards the right answer?\n",
        "\n",
        "`self.o_delta = self.o_error * self.sigmoidPrime(self.output_sum)`"
      ]
    },
    {
      "cell_type": "code",
      "metadata": {
        "id": "RJxBwGgTfDKq",
        "colab_type": "code",
        "colab": {
          "base_uri": "https://localhost:8080/",
          "height": 67
        },
        "outputId": "5e4980b2-e0b1-4767-e235-ef3ea126d88c"
      },
      "source": [
        "nn.o_delta"
      ],
      "execution_count": 89,
      "outputs": [
        {
          "output_type": "execute_result",
          "data": {
            "text/plain": [
              "array([[0.19459256],\n",
              "       [0.14926168],\n",
              "       [0.17508523]])"
            ]
          },
          "metadata": {
            "tags": []
          },
          "execution_count": 89
        }
      ]
    },
    {
      "cell_type": "markdown",
      "metadata": {
        "id": "K3P30ku2fDKs",
        "colab_type": "text"
      },
      "source": [
        "Let's take a look at the derivate of the sigmoid function to understand what's happening. "
      ]
    },
    {
      "cell_type": "code",
      "metadata": {
        "id": "ITI_ppd6fDKs",
        "colab_type": "code",
        "colab": {}
      },
      "source": [
        "import matplotlib.pyplot as plt\n",
        "\n",
        "line_x = np.arange(-5, 5, 0.01)\n",
        "\n",
        "def sigmoid(x):\n",
        "    return 1 / (1+ np.exp(-x))\n",
        "\n",
        "def sigmoid_derivative(x):\n",
        "    sx = sigmoid(x)\n",
        "    return sx * (1-sx)\n",
        "\n",
        "# sigmoid\n",
        "y_s = sigmoid(line_x)\n",
        "y_d = sigmoid_derivative(line_x)\n",
        "\n",
        "x = nn.output_sum\n",
        "s = sigmoid(x)\n",
        "sx = sigmoid_derivative(x)"
      ],
      "execution_count": 0,
      "outputs": []
    },
    {
      "cell_type": "code",
      "metadata": {
        "id": "74YaE9d2fDKu",
        "colab_type": "code",
        "colab": {
          "base_uri": "https://localhost:8080/",
          "height": 331
        },
        "outputId": "636eefcb-ad93-4de7-cc7f-274570a6b9b0"
      },
      "source": [
        "# call regplot on each axes\n",
        "import seaborn as sns\n",
        "plt.style.use('seaborn-darkgrid')\n",
        "fig, (ax1, ax2) = plt.subplots(ncols=2, sharey=True, figsize=(15,5))\n",
        "sns.lineplot(x=line_x, y=y_s, ax=ax1)\n",
        "ax1.plot(x[0], s[0], 'ro')\n",
        "ax1.set_title(\"Sigmoid of Weighted Sum\")\n",
        "sns.lineplot(x=line_x, y=y_d, ax=ax2) \n",
        "ax2.plot(x[0],sx[0],'ro');\n",
        "ax2.set_title(\"Sigmoid Derivative of Weighted Sum\");"
      ],
      "execution_count": 91,
      "outputs": [
        {
          "output_type": "display_data",
          "data": {
            "image/png": "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\n",
            "text/plain": [
              "<Figure size 1080x360 with 2 Axes>"
            ]
          },
          "metadata": {
            "tags": []
          }
        }
      ]
    },
    {
      "cell_type": "markdown",
      "metadata": {
        "id": "vqb0O3GwfDKw",
        "colab_type": "text"
      },
      "source": [
        "Look at the derivate graph. The derivative multiplied by the error tells us where to assign blame and update the weights most effective. "
      ]
    },
    {
      "cell_type": "markdown",
      "metadata": {
        "id": "ioHAZuf7fDKx",
        "colab_type": "text"
      },
      "source": [
        "##### 2nd Error\n",
        "Justice hasn't been served yet - tho. We still have neurons to blame. Let's go back another layer. \n",
        "\n",
        "`self.z2_error = self.o_delta.dot(self.weights2.T)`\n",
        "\n",
        "__Discussion:__ Why is this shape different?"
      ]
    },
    {
      "cell_type": "code",
      "metadata": {
        "id": "17HLDwO1fDKx",
        "colab_type": "code",
        "colab": {
          "base_uri": "https://localhost:8080/",
          "height": 67
        },
        "outputId": "e077a4fe-254a-45cf-f4b6-218f3c09507f"
      },
      "source": [
        "nn.o_delta.dot(nn.weights2.T)"
      ],
      "execution_count": 74,
      "outputs": [
        {
          "output_type": "execute_result",
          "data": {
            "text/plain": [
              "array([[-0.23952061, -0.19347426,  0.1111231 ],\n",
              "       [-0.1847631 , -0.14924354,  0.08571892],\n",
              "       [-0.21246478, -0.17161974,  0.09857082]])"
            ]
          },
          "metadata": {
            "tags": []
          },
          "execution_count": 74
        }
      ]
    },
    {
      "cell_type": "markdown",
      "metadata": {
        "id": "ZPjTouoEfDKz",
        "colab_type": "text"
      },
      "source": [
        "##### 2nd Gradient\n",
        "For each observation, how much more sigmoid activation from this layer would have pushed us towards the right answer?\n",
        "\n",
        "`self.z2_delta = self.z2_error * self.sigmoidPrime(self.activated_hidden)`"
      ]
    },
    {
      "cell_type": "code",
      "metadata": {
        "id": "EClrBmIKfDK0",
        "colab_type": "code",
        "colab": {
          "base_uri": "https://localhost:8080/",
          "height": 67
        },
        "outputId": "72707278-87ee-4335-ff41-2023d6804212"
      },
      "source": [
        "nn.z2_delta"
      ],
      "execution_count": 75,
      "outputs": [
        {
          "output_type": "execute_result",
          "data": {
            "text/plain": [
              "array([[-0.05483346, -0.04408088,  0.01744341],\n",
              "       [-0.03871267, -0.0311213 ,  0.01231513],\n",
              "       [-0.04559029, -0.03665025,  0.01450301]])"
            ]
          },
          "metadata": {
            "tags": []
          },
          "execution_count": 75
        }
      ]
    },
    {
      "cell_type": "code",
      "metadata": {
        "id": "J9ILyha8fDK3",
        "colab_type": "code",
        "colab": {
          "base_uri": "https://localhost:8080/",
          "height": 34
        },
        "outputId": "86f3cded-65ca-463c-c413-8b0d0babbfeb"
      },
      "source": [
        "X.T.shape == nn.weights1.shape"
      ],
      "execution_count": 76,
      "outputs": [
        {
          "output_type": "execute_result",
          "data": {
            "text/plain": [
              "True"
            ]
          },
          "metadata": {
            "tags": []
          },
          "execution_count": 76
        }
      ]
    },
    {
      "cell_type": "code",
      "metadata": {
        "id": "BRqhjKO_fDK6",
        "colab_type": "code",
        "colab": {}
      },
      "source": [
        ""
      ],
      "execution_count": 0,
      "outputs": []
    },
    {
      "cell_type": "markdown",
      "metadata": {
        "id": "CFSxHJLWfDK8",
        "colab_type": "text"
      },
      "source": [
        "##### Descent\n",
        "\n",
        "*Discussion:* Input to Hidden Weight Update\n",
        "- We multiply the gradient by the inputs. Why?\n",
        "- Why do we need to transpose the inputs? "
      ]
    },
    {
      "cell_type": "code",
      "metadata": {
        "id": "VQya3PHUfDK8",
        "colab_type": "code",
        "colab": {
          "base_uri": "https://localhost:8080/",
          "height": 50
        },
        "outputId": "55aef677-6cd5-4e04-d5ac-51932edfd4c8"
      },
      "source": [
        "X.T"
      ],
      "execution_count": 77,
      "outputs": [
        {
          "output_type": "execute_result",
          "data": {
            "text/plain": [
              "array([[0.66666667, 0.33333333, 1.        ],\n",
              "       [1.        , 0.55555556, 0.66666667]])"
            ]
          },
          "metadata": {
            "tags": []
          },
          "execution_count": 77
        }
      ]
    },
    {
      "cell_type": "code",
      "metadata": {
        "id": "r9o0ffwofDK-",
        "colab_type": "code",
        "colab": {
          "base_uri": "https://localhost:8080/",
          "height": 50
        },
        "outputId": "e4ee147a-4343-4209-a97c-331b87e3dd81"
      },
      "source": [
        "X.T.dot(nn.z2_delta)"
      ],
      "execution_count": 78,
      "outputs": [
        {
          "output_type": "execute_result",
          "data": {
            "text/plain": [
              "array([[-0.09505015, -0.07641127,  0.03023699],\n",
              "       [-0.10673402, -0.08580399,  0.03395382]])"
            ]
          },
          "metadata": {
            "tags": []
          },
          "execution_count": 78
        }
      ]
    },
    {
      "cell_type": "markdown",
      "metadata": {
        "id": "J-E7uybyfDLA",
        "colab_type": "text"
      },
      "source": [
        "*Discussion:* Hidden to Output Weight Update\n",
        "- Why is output the shape 3x1? \n",
        "- We multiply the gradient by the inputs. Why?\n",
        "- Why do we need to transpose the inputs?"
      ]
    },
    {
      "cell_type": "code",
      "metadata": {
        "id": "l31nCLYSfDLA",
        "colab_type": "code",
        "colab": {
          "base_uri": "https://localhost:8080/",
          "height": 67
        },
        "outputId": "e6b2113a-0b3b-4c09-cd9e-b3f93c4d2f18"
      },
      "source": [
        "nn.activated_hidden.T.dot(nn.o_delta)"
      ],
      "execution_count": 79,
      "outputs": [
        {
          "output_type": "execute_result",
          "data": {
            "text/plain": [
              "array([[0.17103686],\n",
              "       [0.13129211],\n",
              "       [0.18053762]])"
            ]
          },
          "metadata": {
            "tags": []
          },
          "execution_count": 79
        }
      ]
    },
    {
      "cell_type": "markdown",
      "metadata": {
        "id": "OYOnbw2wfDLC",
        "colab_type": "text"
      },
      "source": [
        "### Train the Network (fo real this time)"
      ]
    },
    {
      "cell_type": "code",
      "metadata": {
        "id": "s1xGPZp5fDLD",
        "colab_type": "code",
        "colab": {
          "base_uri": "https://localhost:8080/",
          "height": 1000
        },
        "outputId": "c8f5e571-c120-4488-d336-c8556c3e7dd0"
      },
      "source": [
        "# Train my 'net\n",
        "nn = NeuralNetwork()\n",
        "\n",
        "# Number of Epochs / Iterations\n",
        "for i in range(5000):\n",
        "    if (i+1 in [1,2,3,4,5]) or ((i+1) % 500 == 0):\n",
        "        print('+' + '---' * 3 + f'EPOCH {i+1}' + '---'*3 + '+')\n",
        "        print('Input: \\n', X)\n",
        "        print('Actual Output: \\n', y)\n",
        "        print('Predicted Output: \\n', str(nn.feed_forward(X)))\n",
        "        print(\"Loss: \\n\", str(np.mean(np.square(y - nn.feed_forward(X)))))\n",
        "    nn.train(X,y)"
      ],
      "execution_count": 92,
      "outputs": [
        {
          "output_type": "stream",
          "text": [
            "+---------EPOCH 1---------+\n",
            "Input: \n",
            " [[0.66666667 1.        ]\n",
            " [0.33333333 0.55555556]\n",
            " [1.         0.66666667]]\n",
            "Actual Output: \n",
            " [[0.9 ]\n",
            " [0.72]\n",
            " [0.8 ]]\n",
            "Predicted Output: \n",
            " [[0.42909308]\n",
            " [0.39972368]\n",
            " [0.40927219]]\n",
            "Loss: \n",
            " 0.15899949041385866\n",
            "+---------EPOCH 2---------+\n",
            "Input: \n",
            " [[0.66666667 1.        ]\n",
            " [0.33333333 0.55555556]\n",
            " [1.         0.66666667]]\n",
            "Actual Output: \n",
            " [[0.9 ]\n",
            " [0.72]\n",
            " [0.8 ]]\n",
            "Predicted Output: \n",
            " [[0.47501141]\n",
            " [0.44254978]\n",
            " [0.4570298 ]]\n",
            "Loss: \n",
            " 0.12507415996912372\n",
            "+---------EPOCH 3---------+\n",
            "Input: \n",
            " [[0.66666667 1.        ]\n",
            " [0.33333333 0.55555556]\n",
            " [1.         0.66666667]]\n",
            "Actual Output: \n",
            " [[0.9 ]\n",
            " [0.72]\n",
            " [0.8 ]]\n",
            "Predicted Output: \n",
            " [[0.51485402]\n",
            " [0.48017279]\n",
            " [0.49879903]]\n",
            "Loss: \n",
            " 0.09885884599968627\n",
            "+---------EPOCH 4---------+\n",
            "Input: \n",
            " [[0.66666667 1.        ]\n",
            " [0.33333333 0.55555556]\n",
            " [1.         0.66666667]]\n",
            "Actual Output: \n",
            " [[0.9 ]\n",
            " [0.72]\n",
            " [0.8 ]]\n",
            "Predicted Output: \n",
            " [[0.54964596]\n",
            " [0.51325916]\n",
            " [0.53542644]]\n",
            "Loss: \n",
            " 0.07849629843552863\n",
            "+---------EPOCH 5---------+\n",
            "Input: \n",
            " [[0.66666667 1.        ]\n",
            " [0.33333333 0.55555556]\n",
            " [1.         0.66666667]]\n",
            "Actual Output: \n",
            " [[0.9 ]\n",
            " [0.72]\n",
            " [0.8 ]]\n",
            "Predicted Output: \n",
            " [[0.58018852]\n",
            " [0.54240475]\n",
            " [0.56763654]]\n",
            "Loss: \n",
            " 0.0626040768152804\n",
            "+---------EPOCH 500---------+\n",
            "Input: \n",
            " [[0.66666667 1.        ]\n",
            " [0.33333333 0.55555556]\n",
            " [1.         0.66666667]]\n",
            "Actual Output: \n",
            " [[0.9 ]\n",
            " [0.72]\n",
            " [0.8 ]]\n",
            "Predicted Output: \n",
            " [[0.83732011]\n",
            " [0.76615773]\n",
            " [0.82046329]]\n",
            "Loss: \n",
            " 0.0021593505581533556\n",
            "+---------EPOCH 1000---------+\n",
            "Input: \n",
            " [[0.66666667 1.        ]\n",
            " [0.33333333 0.55555556]\n",
            " [1.         0.66666667]]\n",
            "Actual Output: \n",
            " [[0.9 ]\n",
            " [0.72]\n",
            " [0.8 ]]\n",
            "Predicted Output: \n",
            " [[0.84804146]\n",
            " [0.75897621]\n",
            " [0.81577907]]\n",
            "Loss: \n",
            " 0.0014892713888195635\n",
            "+---------EPOCH 1500---------+\n",
            "Input: \n",
            " [[0.66666667 1.        ]\n",
            " [0.33333333 0.55555556]\n",
            " [1.         0.66666667]]\n",
            "Actual Output: \n",
            " [[0.9 ]\n",
            " [0.72]\n",
            " [0.8 ]]\n",
            "Predicted Output: \n",
            " [[0.85745325]\n",
            " [0.75435187]\n",
            " [0.81009365]]\n",
            "Loss: \n",
            " 0.0010307196465846812\n",
            "+---------EPOCH 2000---------+\n",
            "Input: \n",
            " [[0.66666667 1.        ]\n",
            " [0.33333333 0.55555556]\n",
            " [1.         0.66666667]]\n",
            "Actual Output: \n",
            " [[0.9 ]\n",
            " [0.72]\n",
            " [0.8 ]]\n",
            "Predicted Output: \n",
            " [[0.86532495]\n",
            " [0.75051139]\n",
            " [0.80543811]]\n",
            "Loss: \n",
            " 0.000720958870783537\n",
            "+---------EPOCH 2500---------+\n",
            "Input: \n",
            " [[0.66666667 1.        ]\n",
            " [0.33333333 0.55555556]\n",
            " [1.         0.66666667]]\n",
            "Actual Output: \n",
            " [[0.9 ]\n",
            " [0.72]\n",
            " [0.8 ]]\n",
            "Predicted Output: \n",
            " [[0.87139112]\n",
            " [0.74662592]\n",
            " [0.80276959]]\n",
            "Loss: \n",
            " 0.0005116927191741795\n",
            "+---------EPOCH 3000---------+\n",
            "Input: \n",
            " [[0.66666667 1.        ]\n",
            " [0.33333333 0.55555556]\n",
            " [1.         0.66666667]]\n",
            "Actual Output: \n",
            " [[0.9 ]\n",
            " [0.72]\n",
            " [0.8 ]]\n",
            "Predicted Output: \n",
            " [[0.87598472]\n",
            " [0.74281057]\n",
            " [0.80156117]]\n",
            "Loss: \n",
            " 0.00036649764667224215\n",
            "+---------EPOCH 3500---------+\n",
            "Input: \n",
            " [[0.66666667 1.        ]\n",
            " [0.33333333 0.55555556]\n",
            " [1.         0.66666667]]\n",
            "Actual Output: \n",
            " [[0.9 ]\n",
            " [0.72]\n",
            " [0.8 ]]\n",
            "Predicted Output: \n",
            " [[0.87954269]\n",
            " [0.73941815]\n",
            " [0.80104358]]\n",
            "Loss: \n",
            " 0.000265551768055856\n",
            "+---------EPOCH 4000---------+\n",
            "Input: \n",
            " [[0.66666667 1.        ]\n",
            " [0.33333333 0.55555556]\n",
            " [1.         0.66666667]]\n",
            "Actual Output: \n",
            " [[0.9 ]\n",
            " [0.72]\n",
            " [0.8 ]]\n",
            "Predicted Output: \n",
            " [[0.8823539]\n",
            " [0.7365947]\n",
            " [0.8007966]]\n",
            "Loss: \n",
            " 0.00019580119729634238\n",
            "+---------EPOCH 4500---------+\n",
            "Input: \n",
            " [[0.66666667 1.        ]\n",
            " [0.33333333 0.55555556]\n",
            " [1.         0.66666667]]\n",
            "Actual Output: \n",
            " [[0.9 ]\n",
            " [0.72]\n",
            " [0.8 ]]\n",
            "Predicted Output: \n",
            " [[0.88459509]\n",
            " [0.7343145 ]\n",
            " [0.80065759]]\n",
            "Loss: \n",
            " 0.00014754947793958216\n",
            "+---------EPOCH 5000---------+\n",
            "Input: \n",
            " [[0.66666667 1.        ]\n",
            " [0.33333333 0.55555556]\n",
            " [1.         0.66666667]]\n",
            "Actual Output: \n",
            " [[0.9 ]\n",
            " [0.72]\n",
            " [0.8 ]]\n",
            "Predicted Output: \n",
            " [[0.88638856]\n",
            " [0.73249259]\n",
            " [0.80056877]]\n",
            "Loss: \n",
            " 0.00011388660188195644\n"
          ],
          "name": "stdout"
        }
      ]
    },
    {
      "cell_type": "markdown",
      "metadata": {
        "id": "-nzf9sIkfDLF",
        "colab_type": "text"
      },
      "source": [
        "## Challenge\n",
        "\n",
        "In the module project, you will implement backpropagation inside a multi-layer perceptron (aka a feedforward neural network). "
      ]
    },
    {
      "cell_type": "markdown",
      "metadata": {
        "toc-hr-collapsed": true,
        "id": "drjwyloDfDLG",
        "colab_type": "text"
      },
      "source": [
        "# Stochastic Gradient Descent (Learn)"
      ]
    },
    {
      "cell_type": "markdown",
      "metadata": {
        "id": "pg2FprmQfDLG",
        "colab_type": "text"
      },
      "source": [
        "## Overview\n",
        "\n",
        "The What - Stochastic Gradient Descent calculates an approximation of the gradient over the entire dataset by reviewing the predictions of a random sample. \n",
        "\n",
        "The Why - *Speed*. Calculating the gradient over the entire dataset is extremely expensive computationally. "
      ]
    },
    {
      "cell_type": "markdown",
      "metadata": {
        "colab_type": "text",
        "id": "ZF7UE-KluPsX"
      },
      "source": [
        "## Follow Along\n",
        "\n",
        "A true Stochastic GD-based implementation from [Welch Labs](https://www.youtube.com/watch?v=bxe2T-V8XRs)"
      ]
    },
    {
      "cell_type": "code",
      "metadata": {
        "id": "QzpYlgUgfDLH",
        "colab_type": "code",
        "colab": {
          "base_uri": "https://localhost:8080/",
          "height": 179
        },
        "outputId": "06e5f0e2-ba44-426d-ce62-af4e73fba152"
      },
      "source": [
        "model.evaluate(X,y)\n",
        "model.predict(X)"
      ],
      "execution_count": 81,
      "outputs": [
        {
          "output_type": "error",
          "ename": "NameError",
          "evalue": "ignored",
          "traceback": [
            "\u001b[0;31m---------------------------------------------------------------------------\u001b[0m",
            "\u001b[0;31mNameError\u001b[0m                                 Traceback (most recent call last)",
            "\u001b[0;32m<ipython-input-81-22177f8d7734>\u001b[0m in \u001b[0;36m<module>\u001b[0;34m()\u001b[0m\n\u001b[0;32m----> 1\u001b[0;31m \u001b[0mmodel\u001b[0m\u001b[0;34m.\u001b[0m\u001b[0mevaluate\u001b[0m\u001b[0;34m(\u001b[0m\u001b[0mX\u001b[0m\u001b[0;34m,\u001b[0m\u001b[0my\u001b[0m\u001b[0;34m)\u001b[0m\u001b[0;34m\u001b[0m\u001b[0;34m\u001b[0m\u001b[0m\n\u001b[0m\u001b[1;32m      2\u001b[0m \u001b[0mmodel\u001b[0m\u001b[0;34m.\u001b[0m\u001b[0mpredict\u001b[0m\u001b[0;34m(\u001b[0m\u001b[0mX\u001b[0m\u001b[0;34m)\u001b[0m\u001b[0;34m\u001b[0m\u001b[0;34m\u001b[0m\u001b[0m\n",
            "\u001b[0;31mNameError\u001b[0m: name 'model' is not defined"
          ]
        }
      ]
    },
    {
      "cell_type": "code",
      "metadata": {
        "id": "ujauQgUNfDLK",
        "colab_type": "code",
        "colab": {}
      },
      "source": [
        "class Neural_Network(object):\n",
        "    def __init__(self):        \n",
        "        #Define Hyperparameters\n",
        "        self.inputLayerSize = 2\n",
        "        self.outputLayerSize = 1\n",
        "        self.hiddenLayerSize = 3\n",
        "        \n",
        "        #Weights (parameters)\n",
        "        self.W1 = np.random.randn(self.inputLayerSize,self.hiddenLayerSize)\n",
        "        self.W2 = np.random.randn(self.hiddenLayerSize,self.outputLayerSize)\n",
        "        \n",
        "    def forward(self, X):\n",
        "        #Propogate inputs though network\n",
        "        self.z2 = np.dot(X, self.W1)\n",
        "        self.a2 = self.sigmoid(self.z2)\n",
        "        self.z3 = np.dot(self.a2, self.W2)\n",
        "        yHat = self.sigmoid(self.z3) \n",
        "        return yHat\n",
        "        \n",
        "    def sigmoid(self, z):\n",
        "        #Apply sigmoid activation function to scalar, vector, or matrix\n",
        "        return 1/(1+np.exp(-z))\n",
        "    \n",
        "    def sigmoidPrime(self,z):\n",
        "        #Gradient of sigmoid\n",
        "        return np.exp(-z)/((1+np.exp(-z))**2)\n",
        "    \n",
        "    def costFunction(self, X, y):\n",
        "        #Compute cost for given X,y, use weights already stored in class.\n",
        "        self.yHat = self.forward(X)\n",
        "        J = 0.5*sum((y-self.yHat)**2)\n",
        "        return J\n",
        "        \n",
        "    def costFunctionPrime(self, X, y):\n",
        "        #Compute derivative with respect to W and W2 for a given X and y:\n",
        "        self.yHat = self.forward(X)\n",
        "        \n",
        "        delta3 = np.multiply(-(y-self.yHat), self.sigmoidPrime(self.z3))\n",
        "        dJdW2 = np.dot(self.a2.T, delta3)\n",
        "        \n",
        "        delta2 = np.dot(delta3, self.W2.T)*self.sigmoidPrime(self.z2)\n",
        "        dJdW1 = np.dot(X.T, delta2)  \n",
        "        \n",
        "        return dJdW1, dJdW2\n",
        "    \n",
        "    #Helper Functions for interacting with other classes:\n",
        "    def getParams(self):\n",
        "        #Get W1 and W2 unrolled into vector:\n",
        "        params = np.concatenate((self.W1.ravel(), self.W2.ravel()))\n",
        "        return params\n",
        "    \n",
        "    def setParams(self, params):\n",
        "        #Set W1 and W2 using single paramater vector.\n",
        "        W1_start = 0\n",
        "        W1_end = self.hiddenLayerSize * self.inputLayerSize\n",
        "        self.W1 = np.reshape(params[W1_start:W1_end], (self.inputLayerSize , self.hiddenLayerSize))\n",
        "        W2_end = W1_end + self.hiddenLayerSize*self.outputLayerSize\n",
        "        self.W2 = np.reshape(params[W1_end:W2_end], (self.hiddenLayerSize, self.outputLayerSize))\n",
        "        \n",
        "    def computeGradients(self, X, y):\n",
        "        dJdW1, dJdW2 = self.costFunctionPrime(X, y)\n",
        "        return np.concatenate((dJdW1.ravel(), dJdW2.ravel()))"
      ],
      "execution_count": 0,
      "outputs": []
    },
    {
      "cell_type": "code",
      "metadata": {
        "colab_type": "code",
        "id": "uA9LaTgKr6rP",
        "colab": {}
      },
      "source": [
        "from scipy import optimize\n",
        "class trainer(object):\n",
        "    def __init__(self, N):\n",
        "        #Make Local reference to network:\n",
        "        self.N = N\n",
        "        \n",
        "    def callbackF(self, params):\n",
        "        self.N.setParams(params)\n",
        "        self.J.append(self.N.costFunction(self.X, self.y))   \n",
        "        \n",
        "    def costFunctionWrapper(self, params, X, y):\n",
        "        self.N.setParams(params)\n",
        "        cost = self.N.costFunction(X, y)\n",
        "        grad = self.N.computeGradients(X,y)\n",
        "        \n",
        "        return cost, grad\n",
        "        \n",
        "    def train(self, X, y):\n",
        "        #Make an internal variable for the callback function:\n",
        "        self.X = X\n",
        "        self.y = y\n",
        "\n",
        "        #Make empty list to store costs:\n",
        "        self.J = []\n",
        "        \n",
        "        params0 = self.N.getParams()\n",
        "\n",
        "        options = {'maxiter': 200, 'disp' : True}\n",
        "        _res = optimize.minimize(self.costFunctionWrapper, params0, jac=True, method='BFGS', \\\n",
        "                                 args=(X, y), options=options, callback=self.callbackF)\n",
        "\n",
        "        self.N.setParams(_res.x)\n",
        "        self.optimizationResults = _res"
      ],
      "execution_count": 0,
      "outputs": []
    },
    {
      "cell_type": "code",
      "metadata": {
        "colab_type": "code",
        "id": "g_kHb6Se1u9y",
        "colab": {}
      },
      "source": [
        "NN = Neural_Network()"
      ],
      "execution_count": 0,
      "outputs": []
    },
    {
      "cell_type": "code",
      "metadata": {
        "colab_type": "code",
        "id": "hYYVhFf4rn3q",
        "colab": {}
      },
      "source": [
        "T = trainer(NN)"
      ],
      "execution_count": 0,
      "outputs": []
    },
    {
      "cell_type": "code",
      "metadata": {
        "colab_type": "code",
        "id": "L-gYdVfgrysE",
        "outputId": "03e4828c-f9f0-4b2d-c28c-85e13f07beda",
        "colab": {
          "base_uri": "https://localhost:8080/",
          "height": 101
        }
      },
      "source": [
        "T.train(X,y)"
      ],
      "execution_count": 97,
      "outputs": [
        {
          "output_type": "stream",
          "text": [
            "Optimization terminated successfully.\n",
            "         Current function value: 0.000000\n",
            "         Iterations: 47\n",
            "         Function evaluations: 50\n",
            "         Gradient evaluations: 50\n"
          ],
          "name": "stdout"
        }
      ]
    },
    {
      "cell_type": "code",
      "metadata": {
        "colab_type": "code",
        "id": "Jyv_L8Z2sKOA",
        "outputId": "f4c1b21c-412e-4b91-dd7a-2f2dcb719d25",
        "colab": {
          "base_uri": "https://localhost:8080/",
          "height": 118
        }
      },
      "source": [
        "print(\"Predicted Output: \\n\" + str(NN.forward(X))) \n",
        "print(\"Loss: \\n\" + str(np.mean(np.square(y - NN.forward(X))))) # mean sum squared loss"
      ],
      "execution_count": 98,
      "outputs": [
        {
          "output_type": "stream",
          "text": [
            "Predicted Output: \n",
            "[[0.90000054]\n",
            " [0.71999271]\n",
            " [0.79999838]]\n",
            "Loss: \n",
            "1.8669485415658492e-11\n"
          ],
          "name": "stdout"
        }
      ]
    },
    {
      "cell_type": "code",
      "metadata": {
        "colab_type": "code",
        "id": "Gtf9WI9FtGPk",
        "outputId": "5b7aa5ec-6e99-40cd-fb37-321cfe997281",
        "colab": {
          "base_uri": "https://localhost:8080/",
          "height": 280
        }
      },
      "source": [
        "import matplotlib.pyplot as plt\n",
        "plt.plot(T.J)\n",
        "plt.xlabel('Iterations')\n",
        "plt.ylabel('Cost')\n",
        "plt.show()     "
      ],
      "execution_count": 99,
      "outputs": [
        {
          "output_type": "display_data",
          "data": {
            "image/png": "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\n",
            "text/plain": [
              "<Figure size 432x288 with 1 Axes>"
            ]
          },
          "metadata": {
            "tags": []
          }
        }
      ]
    },
    {
      "cell_type": "markdown",
      "metadata": {
        "id": "ucM8x6RufDLZ",
        "colab_type": "text"
      },
      "source": [
        "## Challenge\n",
        "\n",
        "This is a reference implementation for you to explore. You will not be expected to apply it to today's module project. "
      ]
    },
    {
      "cell_type": "markdown",
      "metadata": {
        "id": "LbJOFp5IfDLc",
        "colab_type": "text"
      },
      "source": [
        "# Keras Sequential API (Learn)"
      ]
    },
    {
      "cell_type": "markdown",
      "metadata": {
        "toc-hr-collapsed": true,
        "id": "-wSSeKqWfDLc",
        "colab_type": "text"
      },
      "source": [
        "## Overview\n",
        "\n",
        "> \"Keras is a high-level neural networks API, written in Python and capable of running on top of TensorFlow, CNTK, or Theano. It was developed with a focus on enabling fast experimentation. Being able to go from idea to result with the least possible delay is key to doing good research. Use Keras if you need a deep learning library that:\n",
        "\n",
        "> Allows for easy and fast prototyping (through user friendliness, modularity, and extensibility).\n",
        "Supports both convolutional networks and recurrent networks, as well as combinations of the two.\n",
        "Runs seamlessly on CPU and GPU.\" "
      ]
    },
    {
      "cell_type": "markdown",
      "metadata": {
        "colab_type": "text",
        "id": "AIJoRBxHy27n"
      },
      "source": [
        "### Keras Perceptron Sample"
      ]
    },
    {
      "cell_type": "code",
      "metadata": {
        "id": "vNueKJ0yfDLd",
        "colab_type": "code",
        "colab": {}
      },
      "source": [
        "import pandas as pd\n",
        "\n",
        "data = { 'x1': [0,1,0,1],\n",
        "         'x2': [0,0,1,1],\n",
        "         'y':  [1,1,1,0]\n",
        "       }\n",
        "\n",
        "df = pd.DataFrame.from_dict(data).astype('int')\n",
        "X = df[['x1', 'x2']].values\n",
        "y = df['y'].values"
      ],
      "execution_count": 0,
      "outputs": []
    },
    {
      "cell_type": "code",
      "metadata": {
        "colab_type": "code",
        "id": "TQxyONqKvFxB",
        "outputId": "9848f5f2-ea84-4430-e783-9527b779566a",
        "colab": {
          "base_uri": "https://localhost:8080/",
          "height": 202
        }
      },
      "source": [
        "from tensorflow.keras.models import Sequential\n",
        "from tensorflow.keras.layers import Dense\n",
        "\n",
        "# This is our perceptron from Monday's by-hand: \n",
        "model = Sequential()\n",
        "model.add(Dense(1,input_dim=2, activation='sigmoid'))\n",
        "model.compile(loss='binary_crossentropy', optimizer='adam', metrics=['accuracy'])\n",
        "model.fit(X,y, epochs=5)"
      ],
      "execution_count": 101,
      "outputs": [
        {
          "output_type": "stream",
          "text": [
            "Epoch 1/5\n",
            "1/1 [==============================] - 0s 1ms/step - loss: 0.7561 - accuracy: 0.2500\n",
            "Epoch 2/5\n",
            "1/1 [==============================] - 0s 2ms/step - loss: 0.7558 - accuracy: 0.5000\n",
            "Epoch 3/5\n",
            "1/1 [==============================] - 0s 1ms/step - loss: 0.7555 - accuracy: 0.5000\n",
            "Epoch 4/5\n",
            "1/1 [==============================] - 0s 2ms/step - loss: 0.7552 - accuracy: 0.5000\n",
            "Epoch 5/5\n",
            "1/1 [==============================] - 0s 2ms/step - loss: 0.7549 - accuracy: 0.5000\n"
          ],
          "name": "stdout"
        },
        {
          "output_type": "execute_result",
          "data": {
            "text/plain": [
              "<tensorflow.python.keras.callbacks.History at 0x7f550659fd30>"
            ]
          },
          "metadata": {
            "tags": []
          },
          "execution_count": 101
        }
      ]
    },
    {
      "cell_type": "code",
      "metadata": {
        "colab_type": "code",
        "id": "Z1wfKUxszPKa",
        "outputId": "5b9f18e3-beb7-428d-ba41-1bbd19bccf74",
        "colab": {
          "base_uri": "https://localhost:8080/",
          "height": 50
        }
      },
      "source": [
        "# evaluate the model\n",
        "scores = model.evaluate(X, y)\n",
        "print(f\"{model.metrics_names[1]}: {scores[1]*100}\")"
      ],
      "execution_count": 102,
      "outputs": [
        {
          "output_type": "stream",
          "text": [
            "1/1 [==============================] - 0s 1ms/step - loss: 0.7546 - accuracy: 0.5000\n",
            "accuracy: 50.0\n"
          ],
          "name": "stdout"
        }
      ]
    },
    {
      "cell_type": "markdown",
      "metadata": {
        "toc-hr-collapsed": true,
        "id": "ZQp3kQbKfDLj",
        "colab_type": "text"
      },
      "source": [
        "## Follow Along\n",
        "\n",
        "In the `Sequential` api model, you specify a model architecture by 'sequentially specifying layers. This type of specification works well for feed forward neural networks in which the data flows in one direction (forward propagation) and the error flows in the opposite direction (backwards propagation). The Keras `Sequential` API follows a standardarized worklow to estimate a 'net: \n",
        "\n",
        "1. Load Data\n",
        "2. Define Model\n",
        "3. Compile Model\n",
        "4. Fit Model\n",
        "5. Evaluate Model\n",
        "\n",
        "You saw these steps in our Keras Perceptron Sample, but let's walk thru each step in detail."
      ]
    },
    {
      "cell_type": "markdown",
      "metadata": {
        "colab_type": "text",
        "id": "Md5D67XwqVAf",
        "toc-hr-collapsed": false
      },
      "source": [
        "### Load Data"
      ]
    },
    {
      "cell_type": "code",
      "metadata": {
        "colab_type": "code",
        "id": "bn09phMBpY1J",
        "colab": {}
      },
      "source": [
        "from tensorflow import keras\n",
        "from tensorflow.keras.datasets import mnist\n",
        "from tensorflow.keras.models import Sequential\n",
        "from tensorflow.keras.layers import Dense, Dropout\n",
        "\n",
        "# Stretch - use dropout \n",
        "import numpy as np"
      ],
      "execution_count": 0,
      "outputs": []
    },
    {
      "cell_type": "code",
      "metadata": {
        "id": "vRDU2bPofDLn",
        "colab_type": "code",
        "colab": {
          "base_uri": "https://localhost:8080/",
          "height": 50
        },
        "outputId": "fcd5e5c1-bd2c-48d6-99c6-f0fc00e18479"
      },
      "source": [
        "# Load the Data\n",
        "(X_train, y_train), (X_test, y_test) = mnist.load_data()"
      ],
      "execution_count": 104,
      "outputs": [
        {
          "output_type": "stream",
          "text": [
            "Downloading data from https://storage.googleapis.com/tensorflow/tf-keras-datasets/mnist.npz\n",
            "11493376/11490434 [==============================] - 0s 0us/step\n"
          ],
          "name": "stdout"
        }
      ]
    },
    {
      "cell_type": "code",
      "metadata": {
        "id": "BSvTZHXSfDLp",
        "colab_type": "code",
        "colab": {
          "base_uri": "https://localhost:8080/",
          "height": 34
        },
        "outputId": "252c36b2-3835-48f3-b58b-802c370bdae8"
      },
      "source": [
        "X_train[0].shape"
      ],
      "execution_count": 105,
      "outputs": [
        {
          "output_type": "execute_result",
          "data": {
            "text/plain": [
              "(28, 28)"
            ]
          },
          "metadata": {
            "tags": []
          },
          "execution_count": 105
        }
      ]
    },
    {
      "cell_type": "code",
      "metadata": {
        "id": "CjezrF_mfDLr",
        "colab_type": "code",
        "colab": {
          "base_uri": "https://localhost:8080/",
          "height": 34
        },
        "outputId": "9ee56b2f-3fc6-467b-d797-9f5126819b68"
      },
      "source": [
        "X_train.shape"
      ],
      "execution_count": 106,
      "outputs": [
        {
          "output_type": "execute_result",
          "data": {
            "text/plain": [
              "(60000, 28, 28)"
            ]
          },
          "metadata": {
            "tags": []
          },
          "execution_count": 106
        }
      ]
    },
    {
      "cell_type": "code",
      "metadata": {
        "id": "Nt6zfitvfDLs",
        "colab_type": "code",
        "colab": {}
      },
      "source": [
        "# X Variable Types\n",
        "X_train = X_train.astype('float32') / 255.\n",
        "X_test = X_test.astype('float32') /255.\n",
        "\n",
        "# Correct Encoding on Y\n",
        "# What softmax expects = [0,0,0,0,0,1,0,0,0,0]\n",
        "num_classes = 10\n",
        "y_train = keras.utils.to_categorical(y_train, num_classes)\n",
        "y_test = keras.utils.to_categorical(y_test, num_classes)"
      ],
      "execution_count": 0,
      "outputs": []
    },
    {
      "cell_type": "code",
      "metadata": {
        "id": "CYwipM-D088P",
        "colab_type": "code",
        "colab": {
          "base_uri": "https://localhost:8080/",
          "height": 34
        },
        "outputId": "c20ac79d-d4ed-458a-95de-c26568e2299a"
      },
      "source": [
        "X_train.shape"
      ],
      "execution_count": 114,
      "outputs": [
        {
          "output_type": "execute_result",
          "data": {
            "text/plain": [
              "(60000, 28, 28)"
            ]
          },
          "metadata": {
            "tags": []
          },
          "execution_count": 114
        }
      ]
    },
    {
      "cell_type": "markdown",
      "metadata": {
        "colab_type": "text",
        "id": "o0xMqOyTs5xt"
      },
      "source": [
        "### Define Model"
      ]
    },
    {
      "cell_type": "code",
      "metadata": {
        "colab_type": "code",
        "id": "Bp9USczrfu6M",
        "colab": {}
      },
      "source": [
        "from tensorflow.keras.models import Sequential\n",
        "from tensorflow.keras.layers import Dense, Flatten\n",
        "\n",
        "import numpy as np\n",
        "\n",
        "np.random.seed(812)"
      ],
      "execution_count": 0,
      "outputs": []
    },
    {
      "cell_type": "markdown",
      "metadata": {
        "colab_type": "text",
        "id": "wAzHLg27thoN"
      },
      "source": [
        "I'll instantiate my model as a \"sequential\" model. This just means that I'm going to tell Keras what my model's architecture should be one layer at a time."
      ]
    },
    {
      "cell_type": "code",
      "metadata": {
        "colab_type": "code",
        "id": "DSNsL49Xp6KI",
        "colab": {}
      },
      "source": [
        "# https://keras.io/getting-started/sequential-model-guide/\n",
        "model = Sequential()"
      ],
      "execution_count": 0,
      "outputs": []
    },
    {
      "cell_type": "markdown",
      "metadata": {
        "colab_type": "text",
        "id": "ZCYX6QzJtvpG"
      },
      "source": [
        "Adding a \"Dense\" layer to our model is how we add \"vanilla\" perceptron-based layers to our neural network. These are also called \"fully-connected\" or \"densely-connected\" layers. They're used as a layer type in lots of other Neural Net Architectures but they're not referred to as perceptrons or multi-layer perceptrons very often in those situations even though that's what they are.\n",
        "\n",
        " > [\"Just your regular densely-connected NN layer.\"](https://keras.io/layers/core/)\n",
        " \n",
        " The first argument is how many neurons we want to have in that layer. To create a perceptron-esque model we will just set it to 10. Our architecture is just an input and output layer. We will tell it that there will be 784 inputs coming into this layer from our dataset and set it to use the sigmoid activation function."
      ]
    },
    {
      "cell_type": "code",
      "metadata": {
        "colab_type": "code",
        "id": "GNzOLidxtvFa",
        "colab": {}
      },
      "source": [
        "model.add(Flatten(input_shape=(28,28)))\n",
        "model.add(Dense(10,activation=\"softmax\")) #Relu is valid option. "
      ],
      "execution_count": 0,
      "outputs": []
    },
    {
      "cell_type": "markdown",
      "metadata": {
        "colab_type": "text",
        "id": "EnI3jwKMtBL2",
        "toc-hr-collapsed": false
      },
      "source": [
        "### Compile Model\n",
        "Using binary_crossentropy as the loss function here is just telling keras that I'm doing binary classification so that it can use the appropriate loss function accordingly. If we were predicting non-binary categories we might assign something like `categorical_crossentropy`. We're also telling keras that we want it to report model accuracy as our main error metric for each epoch. We will also be able to see the overall accuracy once the model has finished training.\n",
        "\n",
        "#### Adam Optimizer\n",
        "Check out this links for more background on the Adam optimizer and Stohastic Gradient Descent\n",
        "* [Adam Optimization Algorithm](https://machinelearningmastery.com/adam-optimization-algorithm-for-deep-learning/)\n",
        "* [Adam Optimizer - original paper](https://arxiv.org/abs/1412.6980)"
      ]
    },
    {
      "cell_type": "code",
      "metadata": {
        "colab_type": "code",
        "id": "qp6xwYaqurRO",
        "colab": {}
      },
      "source": [
        "model.compile(loss='categorical_crossentropy', optimizer='adam', metrics=['accuracy'])"
      ],
      "execution_count": 0,
      "outputs": []
    },
    {
      "cell_type": "markdown",
      "metadata": {
        "colab_type": "text",
        "id": "5dW8SZ2Ls9SX",
        "toc-hr-collapsed": false
      },
      "source": [
        "### Fit Model\n",
        "\n",
        "Lets train it up! `model.fit()` has a `batch_size` parameter that we can use if we want to do mini-batch epochs, but since this tabular dataset is pretty small we're just going to delete that parameter. Keras' default `batch_size` is `None` so omiting it will tell Keras to do batch epochs."
      ]
    },
    {
      "cell_type": "code",
      "metadata": {
        "id": "afnjbw-3fDL4",
        "colab_type": "code",
        "colab": {
          "base_uri": "https://localhost:8080/",
          "height": 370
        },
        "outputId": "28ca0979-78fd-4b0d-a3b9-c5f27c6ebb56"
      },
      "source": [
        "model.fit(X_train, y_train, epochs=10)"
      ],
      "execution_count": 112,
      "outputs": [
        {
          "output_type": "stream",
          "text": [
            "Epoch 1/10\n",
            "1875/1875 [==============================] - 2s 1ms/step - loss: 0.4704 - accuracy: 0.8769\n",
            "Epoch 2/10\n",
            "1875/1875 [==============================] - 2s 1ms/step - loss: 0.3036 - accuracy: 0.9149\n",
            "Epoch 3/10\n",
            "1875/1875 [==============================] - 2s 1ms/step - loss: 0.2832 - accuracy: 0.9213\n",
            "Epoch 4/10\n",
            "1875/1875 [==============================] - 2s 1ms/step - loss: 0.2729 - accuracy: 0.9234\n",
            "Epoch 5/10\n",
            "1875/1875 [==============================] - 2s 1ms/step - loss: 0.2670 - accuracy: 0.9252\n",
            "Epoch 6/10\n",
            "1875/1875 [==============================] - 2s 1ms/step - loss: 0.2617 - accuracy: 0.9273\n",
            "Epoch 7/10\n",
            "1875/1875 [==============================] - 2s 1ms/step - loss: 0.2584 - accuracy: 0.9284\n",
            "Epoch 8/10\n",
            "1875/1875 [==============================] - 2s 1ms/step - loss: 0.2553 - accuracy: 0.9294\n",
            "Epoch 9/10\n",
            "1875/1875 [==============================] - 2s 1ms/step - loss: 0.2531 - accuracy: 0.9301\n",
            "Epoch 10/10\n",
            "1875/1875 [==============================] - 2s 1ms/step - loss: 0.2511 - accuracy: 0.9302\n"
          ],
          "name": "stdout"
        },
        {
          "output_type": "execute_result",
          "data": {
            "text/plain": [
              "<tensorflow.python.keras.callbacks.History at 0x7f5503295048>"
            ]
          },
          "metadata": {
            "tags": []
          },
          "execution_count": 112
        }
      ]
    },
    {
      "cell_type": "markdown",
      "metadata": {
        "id": "g8m7k-2ufDL9",
        "colab_type": "text"
      },
      "source": [
        "### Evaluate Model"
      ]
    },
    {
      "cell_type": "code",
      "metadata": {
        "id": "9wwi7zNjfDL-",
        "colab_type": "code",
        "colab": {
          "base_uri": "https://localhost:8080/",
          "height": 118
        },
        "outputId": "0165e4cc-428f-4b91-cb82-05108f988e53"
      },
      "source": [
        "scores = model.evaluate(X_test,y_test)\n",
        "print(\"\\n\")\n",
        "print(\"Validation Data Metrics:\")\n",
        "print(f\"{model.metrics_names[0]}: {scores[0]}\")\n",
        "print(f\"{model.metrics_names[1]}: {scores[1]*100}\")"
      ],
      "execution_count": 113,
      "outputs": [
        {
          "output_type": "stream",
          "text": [
            "313/313 [==============================] - 0s 1ms/step - loss: 0.2661 - accuracy: 0.9266\n",
            "\n",
            "\n",
            "Validation Data Metrics:\n",
            "loss: 0.26610541343688965\n",
            "accuracy: 92.65999794006348\n"
          ],
          "name": "stdout"
        }
      ]
    },
    {
      "cell_type": "markdown",
      "metadata": {
        "colab_type": "text",
        "id": "zHYB7k9q3O8T"
      },
      "source": [
        "### Unstable Results\n",
        "\n",
        "You'll notice that if we rerun the results might differ from the origin run. This can be explain by a bunch of factors. Check out some of them in this article: \n",
        "\n",
        "<https://machinelearningmastery.com/randomness-in-machine-learning/>"
      ]
    },
    {
      "cell_type": "markdown",
      "metadata": {
        "id": "GiXUMqrGfDL_",
        "colab_type": "text"
      },
      "source": [
        "## Challenge\n",
        "\n",
        "You will be expected to leverage the Keras `Sequential` api to estimate a feed forward neural networks on a dataset.\n",
        "\n",
        "---"
      ]
    }
  ]
}
=======
 "cells": [
  {
   "cell_type": "markdown",
   "metadata": {},
   "source": [
    "Lambda School Data Science\n",
    "\n",
    "*Unit 4, Sprint 2, Module 2*\n",
    "\n",
    "---"
   ]
  },
  {
   "cell_type": "markdown",
   "metadata": {
    "toc-hr-collapsed": false
   },
   "source": [
    "# Backpropagation & Gradient Descent (Prepare)"
   ]
  },
  {
   "cell_type": "markdown",
   "metadata": {},
   "source": [
    "## Learning Objectives\n",
    "* <a href=\"#p1\">Part 1</a>: Explain the intutition behind backproprogation\n",
    "* <a href=\"#p2\">Part 2</a>: Implement gradient descent + backpropagation on a feedforward neural network. \n",
    "* <a href=\"#p3\">Part 3</a>: Introduce the Keras Sequential Model API"
   ]
  },
  {
   "cell_type": "markdown",
   "metadata": {},
   "source": [
    "## Summary of Yesterday\n",
    "\n",
    "Yesterday, we learned about some of the principal components of Neural Networks: Neurons, Weights, Activation Functions, and layers (input, output, & hidden). Today, we will reinforce our understanding of those components and introduce the mechanics of training a neural network. Feed-forward neural networks, such as multi-layer perceptrons (MLPs), are almost always trained using some variation of gradient descent where the gradient has been calculated by backpropagation.\n",
    "\n",
    "<center><img src=\"https://cdn-images-1.medium.com/max/1600/1*_M4bZyuwaGby6KMiYVYXvg.jpeg\" width=\"400\"></center>\n",
    "\n",
    "- There are three kinds of layers: input, hidden, and output layers.\n",
    "- Each layer is made up of **n** individual neurons (aka activation units) which have a corresponding weight and bias.\n",
    "- Signal is passed from layer to layer through a network by:\n",
    " - Taking in inputs from the training data (or previous layer)\n",
    " - Multiplying each input by its corresponding weight (think arrow/connecting line)\n",
    " - Adding a bias to this weighted some of inputs and weights\n",
    " - Activating this weighted sum + bias by squishifying it with sigmoid or some other activation function. With a single perceptron with three inputs, calculating the output from the node is done like so:\n",
    "\\begin{align}\n",
    " y = sigmoid(\\sum(weight_{1}input_{1} + weight_{2}input_{2} + weight_{3}input_{3}) + bias)\n",
    "\\end{align}\n",
    " - this final activated value is the signal that gets passed onto the next layer of the network.\n",
    " "
   ]
  },
  {
   "cell_type": "markdown",
   "metadata": {},
   "source": [
    "## Training a Neural Network: *Formal Summary*\n",
    "\n",
    "0. Pick a network architecture\n",
    "   - No. of input units = No. of features\n",
    "   - No. of output units = Number of Classes (or expected targets)\n",
    "   - Select the number of hidden layers and number of neurons within each hidden layer\n",
    "1. Randomly initialize weights\n",
    "2. Implement forward propagation to get $h_{\\theta}(x^{(i)})$ for any $x^{(i)}$\n",
    "3. Implement code to compute a cost function $J(\\theta)$\n",
    "4. Implement backpropagation to compute partial derivatives $\\frac{\\delta}{\\delta\\theta_{jk}^{l}}{J(\\theta)}$\n",
    "5. Use gradient descent (or other advanced optimizer) with backpropagation to minimize $J(\\theta)$ as a function of parameters $\\theta\\$\n",
    "6. Repeat steps 2 - 5 until cost function is 'minimized' or some other stopping criteria is met. One pass over steps 2 - 5 is called an iteration or epoch."
   ]
  },
  {
   "cell_type": "markdown",
   "metadata": {
    "toc-hr-collapsed": false
   },
   "source": [
    "## Calculating *\"cost\"*, *\"loss\"* or *\"error\"*\n",
    "\n",
    "We've talked about how in order to evaluate a network's performance, the data is \"fed forward\" until predictions are obtained and then the \"loss\" or \"error\" for a given observation is ascertained by looking at what the network predicted for that observation and comparing it to what it *should* have predicted. \n",
    "\n",
    "The error for a given observation is calculated by taking the square of the difference between the predicted value and the actual value. \n",
    "\n",
    "We can summarize the overall quality of a network's predictions by finding the average error across all observations. This gives us the \"Mean Squared Error.\" which hopefully is a fairly familiar model evaluation metric by now. Graphing the MSE over each epoch (training cycle) is a common practice with Neural Networks. This is what you're seeing in the top right corner of the Tensorflow Playground website as the number of \"epochs\" climbs higher and higher."
   ]
  },
  {
   "cell_type": "markdown",
   "metadata": {},
   "source": [
    "## What is an \"Epoch\"?\n",
    "\n",
    "An \"Epoch\" is one cycle of passing our data forward through the network, measuring error given our specified cost function, and then -via gradient descent- updating weights within our network to hopefully improve the quality of our predictions on the next iteration."
   ]
  },
  {
   "cell_type": "markdown",
   "metadata": {},
   "source": [
    "### A note about Hyperparameters\n",
    "\n",
    "Neural Networks have many more hyperparameters than other machine learning algorithms which is part of what makes them a beast to train.\n",
    "\n",
    "1. You need more data to train them on. \n",
    "2. They're complex so they take longer to train. \n",
    "3. They have lots and lots of hyperparameters which we need to find the most optimal combination of, so we might end up training our model dozens or hundreds of times with different combinations of hyperparameters in order to try and squeeze out a few more tenths of a percent of accuracy. "
   ]
  },
  {
   "cell_type": "markdown",
   "metadata": {
    "colab_type": "text",
    "id": "aM4CK1IarId4",
    "toc-hr-collapsed": false
   },
   "source": [
    "# Backpropagation (Learn)\n",
    "<a id=\"p1\"></a>"
   ]
  },
  {
   "cell_type": "markdown",
   "metadata": {
    "colab_type": "text",
    "id": "aM4CK1IarId4",
    "toc-hr-collapsed": true
   },
   "source": [
    "## Overview\n",
    "\n",
    "Backpropagation is short for [\"Backwards Propagation of errors\"](https://en.wikipedia.org/wiki/Backpropagation) and refers to a specific (rather calculus intensive) algorithm for how weights in a neural network are updated in reverse order at the end of each training epoch. Our purpose today is to demonstrate the backpropagation algorithm on a simple Feedforward Neural Network and in so doing help you get a grasp on the main process. If you want to understand all of the underlying calculus of how the gradients are calculated then you'll need to dive into it yourself, [3Blue1Brown's video is a great starting place](https://www.youtube.com/watch?v=tIeHLnjs5U8). I also highly recommend this Welch Labs series [Neural Networks Demystified](https://www.youtube.com/watch?v=bxe2T-V8XRs) if you want a rapid yet orderly walk through of the main intuitions and math behind the backpropagation algorithm. "
   ]
  },
  {
   "cell_type": "markdown",
   "metadata": {},
   "source": [
    "### What is a Gradient?\n",
    "\n",
    "> In vector calculus, the gradient is a multi-variable generalization of the derivative. \n",
    "\n",
    "The gradients that we will deal with today will be vector representations of the derivative of the activation function. "
   ]
  },
  {
   "cell_type": "markdown",
   "metadata": {
    "toc-hr-collapsed": true
   },
   "source": [
    "## Follow Along\n",
    "\n",
    "In this section, we will again implement a multi-layer perceptron using numpy. We'll focus on using a __Feed Forward Neural Network__ to predict test scores. "
   ]
  },
  {
   "cell_type": "markdown",
   "metadata": {
    "colab_type": "text",
    "id": "Dm2HPETcrgy6",
    "toc-hr-collapsed": true
   },
   "source": [
    "![231 Neural Network](https://cdn-images-1.medium.com/max/1600/1*IjY3wFF24sK9UhiOlf36Bw.png)"
   ]
  },
  {
   "cell_type": "markdown",
   "metadata": {
    "colab_type": "text",
    "id": "4d4tzpwO6B47"
   },
   "source": [
    "### Generate some Fake Data"
   ]
  },
  {
   "cell_type": "code",
   "execution_count": 1,
   "metadata": {
    "colab": {},
    "colab_type": "code",
    "id": "ERyVgeO_IWyV"
   },
   "outputs": [],
   "source": [
    "import numpy as np\n",
    "\n",
    "np.random.seed(812)\n",
    "\n",
    "# Imagine that our data is drawn from a linear function\n",
    "# y = 2*hours_studying + 4*hours_sleeping + 50\n",
    "\n",
    "# hours studying, hours sleep\n",
    "X = np.array(([2,9],\n",
    "              [1,5],\n",
    "              [3,6]), dtype=float)\n",
    "\n",
    "# Exam Scores\n",
    "y = np.array(([90],\n",
    "              [72],\n",
    "              [80]), dtype=float)"
   ]
  },
  {
   "cell_type": "markdown",
   "metadata": {},
   "source": [
    "### Feature Normalization"
   ]
  },
  {
   "cell_type": "code",
   "execution_count": 2,
   "metadata": {
    "colab": {},
    "colab_type": "code",
    "id": "cDeUBW6k4Ri4"
   },
   "outputs": [
    {
     "name": "stdout",
     "output_type": "stream",
     "text": [
      "Studying, Sleeping \n",
      " [[0.66666667 1.        ]\n",
      " [0.33333333 0.55555556]\n",
      " [1.         0.66666667]]\n",
      "Test Score \n",
      " [[0.9 ]\n",
      " [0.72]\n",
      " [0.8 ]]\n"
     ]
    }
   ],
   "source": [
    "# Normalizing Data on feature \n",
    "# Neural Network would probably do this on its own, but it will help us converge on a solution faster\n",
    "X = X / np.amax(X, axis=0)\n",
    "y = y / 100\n",
    "\n",
    "print(\"Studying, Sleeping \\n\", X)\n",
    "print(\"Test Score \\n\", y)"
   ]
  },
  {
   "cell_type": "markdown",
   "metadata": {
    "colab_type": "text",
    "id": "bgTf6vTS69Sw"
   },
   "source": [
    "### Neural Network Architecture\n",
    "Lets create a Neural_Network class to contain this functionality"
   ]
  },
  {
   "cell_type": "code",
   "execution_count": 3,
   "metadata": {
    "colab": {},
    "colab_type": "code",
    "id": "RUI8VSR5zyBv"
   },
   "outputs": [],
   "source": [
    "class NeuralNetwork:\n",
    "    \n",
    "    def __init__(self):\n",
    "        # Set up Arch\n",
    "        self.inputs = 2\n",
    "        self.hiddenNodes = 3\n",
    "        self.outputNodes = 1\n",
    "        \n",
    "        # Initialize Weights\n",
    "        # 2x3\n",
    "        self.weights1 = np.random.randn(self.inputs,self.hiddenNodes)\n",
    "        \n",
    "        # 3x1\n",
    "        self.weights2 = np.random.randn(self.hiddenNodes, self.outputNodes)"
   ]
  },
  {
   "cell_type": "markdown",
   "metadata": {
    "colab_type": "text",
    "id": "gbyT_FJ88IlK"
   },
   "source": [
    "### Randomly Initialize Weights\n",
    "How many random weights do we need to initialize? \"Fully-connected Layers\""
   ]
  },
  {
   "cell_type": "code",
   "execution_count": 4,
   "metadata": {
    "colab": {},
    "colab_type": "code",
    "id": "IreIDe6P8H0H"
   },
   "outputs": [],
   "source": [
    "nn = NeuralNetwork()"
   ]
  },
  {
   "cell_type": "code",
   "execution_count": 5,
   "metadata": {},
   "outputs": [
    {
     "name": "stdout",
     "output_type": "stream",
     "text": [
      "Layer 1 weights: \n",
      " [[ 2.48783189  0.11697987 -1.97118428]\n",
      " [-0.48325593 -1.50361209  0.57515126]]\n",
      "Layer 2 weights: \n",
      " [[-0.20672583]\n",
      " [ 0.41271104]\n",
      " [-0.57757999]]\n"
     ]
    }
   ],
   "source": [
    "print(\"Layer 1 weights: \\n\", nn.weights1)\n",
    "print(\"Layer 2 weights: \\n\", nn.weights2)"
   ]
  },
  {
   "cell_type": "markdown",
   "metadata": {
    "colab_type": "text",
    "id": "hbxDhyjQ-RwS"
   },
   "source": [
    "### Implement Feedforward Functionality\n",
    "\n",
    "After this step our neural network should be able to generate an output even though it has not been trained."
   ]
  },
  {
   "cell_type": "code",
   "execution_count": 6,
   "metadata": {
    "colab": {},
    "colab_type": "code",
    "id": "0gGivpEk-VdP"
   },
   "outputs": [],
   "source": [
    "class NeuralNetwork:\n",
    "    \n",
    "    def __init__(self):\n",
    "        # Set up Arch\n",
    "        self.inputs = 2\n",
    "        self.hiddenNodes = 3\n",
    "        self.outputNodes = 1\n",
    "        \n",
    "        # Initialize Weights\n",
    "        # 2x3\n",
    "        # Input to Hidden (1st set of weights)\n",
    "        self.weights1 = np.random.randn(self.inputs,self.hiddenNodes)\n",
    "        \n",
    "        # 3x1\n",
    "        # Hidden to Output (2nd set of weights)\n",
    "        self.weights2 = np.random.randn(self.hiddenNodes, self.outputNodes)\n",
    "        \n",
    "    def sigmoid(self, s):\n",
    "        return 1 / (1+np.exp(-s))\n",
    "    \n",
    "    def feed_forward(self, X):\n",
    "        \"\"\"\n",
    "        Calculate the NN inference using feed forward.\n",
    "        \"\"\"\n",
    "        \n",
    "        # Weighted Sum\n",
    "        self.hidden_sum = np.dot(X, self.weights1)\n",
    "        \n",
    "        # Activate\n",
    "        self.activated_hidden = self.sigmoid(self.hidden_sum)\n",
    "        \n",
    "        # Weighted sum of activated hidden (which output layer will use)\n",
    "        self.output_sum = np.dot(self.activated_hidden, self.weights2)\n",
    "        \n",
    "        # Final Activation of Output (My Predictions)\n",
    "        self.activated_output = self.sigmoid(self.output_sum)\n",
    "        \n",
    "        return self.activated_output"
   ]
  },
  {
   "cell_type": "code",
   "execution_count": 7,
   "metadata": {},
   "outputs": [
    {
     "data": {
      "text/plain": [
       "array([[0.66666667, 1.        ],\n",
       "       [0.33333333, 0.55555556],\n",
       "       [1.        , 0.66666667]])"
      ]
     },
     "execution_count": 7,
     "metadata": {},
     "output_type": "execute_result"
    }
   ],
   "source": [
    "X"
   ]
  },
  {
   "cell_type": "markdown",
   "metadata": {
    "colab_type": "text",
    "id": "a1pxdfmDAaJg"
   },
   "source": [
    "### Make a Prediction"
   ]
  },
  {
   "cell_type": "code",
   "execution_count": 7,
   "metadata": {},
   "outputs": [
    {
     "name": "stdout",
     "output_type": "stream",
     "text": [
      "[0.66666667 1.        ]\n",
      "output [0.25814933]\n"
     ]
    }
   ],
   "source": [
    "# Try to make a prediction with our updated 'net\n",
    "nn = NeuralNetwork()\n",
    "print(X[0])\n",
    "output = nn.feed_forward(X[0])\n",
    "print(\"output\", output)"
   ]
  },
  {
   "cell_type": "markdown",
   "metadata": {
    "colab_type": "text",
    "id": "3V61yNmAB2T5"
   },
   "source": [
    "### Calculate Error"
   ]
  },
  {
   "cell_type": "code",
   "execution_count": 8,
   "metadata": {},
   "outputs": [
    {
     "data": {
      "text/plain": [
       "array([0.64185067])"
      ]
     },
     "execution_count": 8,
     "metadata": {},
     "output_type": "execute_result"
    }
   ],
   "source": [
    "error = y[0] - output\n",
    "error"
   ]
  },
  {
   "cell_type": "code",
   "execution_count": 9,
   "metadata": {},
   "outputs": [
    {
     "name": "stdout",
     "output_type": "stream",
     "text": [
      "[[0.25814933]\n",
      " [0.33067192]\n",
      " [0.22642076]]\n",
      "[[0.64185067]\n",
      " [0.38932808]\n",
      " [0.57357924]]\n"
     ]
    }
   ],
   "source": [
    "output_all = nn.feed_forward(X)\n",
    "error_all = y - output_all\n",
    "print(output_all)\n",
    "print(error_all)"
   ]
  },
  {
   "cell_type": "markdown",
   "metadata": {
    "colab_type": "text",
    "id": "26wgCLU0TLvy"
   },
   "source": [
    "Why is my error so big?\n",
    "\n",
    "My error is so big because my prediction is low.\n",
    "\n",
    "Why are my prediction low?\n",
    "\n",
    "Because either:\n",
    "\n",
    "  1) Second layer **weights** are low\n",
    "  \n",
    "  (or)\n",
    "  \n",
    "  2) Activations coming from the first layer are low\n",
    "  \n",
    "How are activations from the first layer determined? \n",
    "\n",
    "  1) By inputs - fixed\n",
    "  \n",
    "  2) by **weights** - variable\n",
    "  \n",
    "The only thing that I have control over throughout this process in order to increase the value of my final predictions is to either increase weights in layer 2 or increase weights in layer 1. \n",
    "\n",
    "Imagine that you could only change your weights by a fixed amount. Say you have .3 and you have to split that up and disperse it over your weights so as to increase your predictions as much as possible. (This isn't actually what happens, but it will help us identify which weights we would benefit the most from moving.)\n",
    "\n",
    "I need to increase weights of my model somewhere, I'll get the biggest bang for my buck if I increase weights in places where I'm already seeing high activation values -because they end up getting multiplied together before being passed to the sigmoid function. \n",
    "\n",
    "> \"Neurons that fire together, wire together\""
   ]
  },
  {
   "cell_type": "markdown",
   "metadata": {
    "colab_type": "text",
    "id": "j_eyzItYIxgm"
   },
   "source": [
    "### Implement Backpropagation \n",
    "\n",
    "> *Assigning blame for bad predictions and delivering justice - repeatedly and a little bit at a time*\n",
    "\n",
    "What in our model could be causing our predictions to suck so bad? \n",
    "\n",
    "Well, we know that our inputs (X) and outputs (y) are correct, if they weren't then we would have bigger problems than understanding backpropagation.\n",
    "\n",
    "We also know that our activation function (sigmoid) is working correctly. It can't be blamed because it just does whatever we tell it to and transforms the data in a known way.\n",
    "\n",
    "So what are the potential culprits for these terrible predictions? The **weights** of our model. Here's the problem though. I have weights that exist in both layers of my model. How do I know if the weights in the first layer are to blame, or the second layer, or both? \n",
    "\n",
    "Lets investigate. And see if we can just eyeball what should be updated."
   ]
  },
  {
   "cell_type": "code",
   "execution_count": 10,
   "metadata": {},
   "outputs": [
    {
     "name": "stdout",
     "output_type": "stream",
     "text": [
      "weights1\n",
      " [[-1.75351135  1.23279898  0.24464757]\n",
      " [-0.06568225  0.30190098  0.79723428]] \n",
      "---------\n",
      "hidden_sum\n",
      " [[-1.23468981  1.12376697  0.96033266]\n",
      " [-0.62099392  0.57865576  0.52445712]\n",
      " [-1.79729952  1.4340663   0.77613709]] \n",
      "---------\n",
      "activated_hidden\n",
      " [[0.22536165 0.75468678 0.7231884 ]\n",
      " [0.34955543 0.64075804 0.6281894 ]\n",
      " [0.14218011 0.8075341  0.68484697]] \n",
      "---------\n",
      "weights2\n",
      " [[ 1.23073545]\n",
      " [-1.52187331]\n",
      " [-0.25502715]] \n",
      "---------\n",
      "activated_output\n",
      " [[0.25814933]\n",
      " [0.33067192]\n",
      " [0.22642076]] \n",
      "---------\n"
     ]
    },
    {
     "data": {
      "text/plain": [
       "[None, None, None, None, None]"
      ]
     },
     "execution_count": 10,
     "metadata": {},
     "output_type": "execute_result"
    }
   ],
   "source": [
    "attributes = ['weights1', 'hidden_sum', 'activated_hidden', 'weights2', 'activated_output']\n",
    "[print(i+'\\n', getattr(nn,i), '\\n'+'---'*3) for i in attributes if i[:2]!= '__'] "
   ]
  },
  {
   "cell_type": "markdown",
   "metadata": {
    "colab_type": "text",
    "id": "16Ujj6vNYQyX",
    "toc-hr-collapsed": true
   },
   "source": [
    "### Update Weights Based on Gradient\n",
    "\n",
    "Repeat steps 2-4 for every observation in a given batch, and then given the network's cost function, calculate its gradient using calculus and update weights associated with the (negative) gradient of the cost function. \n",
    "\n",
    "Remember that we have 9 weights in our network therefore the gradient that comes from our gradient descent calculation will be the vector that takes us in the most downward direction along some function in 9-dimensional hyperspace.\n",
    "\n",
    "\\begin{align}\n",
    "C(w1, w2, w3, w4, w5, w6, w7, w8, w9)\n",
    "\\end{align}\n",
    "\n",
    "You should also know that with neural networks it is common to have gradients that are not convex (like what we saw when we applied gradient descent to linear regression). Due to the high complexity of these models and their nonlinearity, it is common for gradient descent to get stuck in a local minimum, but there are ways to combat this:\n",
    "\n",
    "1) Stochastic Gradient Descent\n",
    "\n",
    "2) More advanced Gradient-Descent-based \"Optimizers\" - See Stretch Goals on assignment."
   ]
  },
  {
   "cell_type": "code",
   "execution_count": 11,
   "metadata": {},
   "outputs": [],
   "source": [
    "# I want activations that correspond to negative weights to be lower\n",
    "# and activations that correspond to positive weights to be higher\n",
    "\n",
    "class NeuralNetwork:\n",
    "    \n",
    "    def __init__(self):\n",
    "        # Set up Arch\n",
    "        self.inputs = 2\n",
    "        self.hiddenNodes = 3\n",
    "        self.outputNodes = 1\n",
    "        \n",
    "        # Initialize Weights\n",
    "        # 2x3\n",
    "        # Input to Hidden (1st set of weights)\n",
    "        self.weights1 = np.random.randn(self.inputs,self.hiddenNodes)\n",
    "        \n",
    "        # 3x1\n",
    "        # Hidden to Output (2nd set of weights)\n",
    "        self.weights2 = np.random.randn(self.hiddenNodes, self.outputNodes)\n",
    "        \n",
    "    def sigmoid(self, s):\n",
    "        return 1 / (1+np.exp(-s))\n",
    "    \n",
    "    def sigmoidPrime(self, s):\n",
    "        sx = self.sigmoid(s)\n",
    "        return sx * (1-sx)\n",
    "    \n",
    "    def feed_forward(self, X):\n",
    "        \"\"\"\n",
    "        Calculate the NN inference using feed forward.\n",
    "        \"\"\"\n",
    "        \n",
    "        # Weighted Sum\n",
    "        self.hidden_sum = np.dot(X, self.weights1)\n",
    "        \n",
    "        # Activate\n",
    "        self.activated_hidden = self.sigmoid(self.hidden_sum)\n",
    "        \n",
    "        # Weighted sum of activated hidden (which output layer will use)\n",
    "        self.output_sum = np.dot(self.activated_hidden, self.weights2)\n",
    "        \n",
    "        # Final Activation of Output (My Predictions)\n",
    "        self.activated_output = self.sigmoid(self.output_sum)\n",
    "        \n",
    "        return self.activated_output\n",
    "    \n",
    "    def backward(self, X, y, o):\n",
    "        \"\"\"\n",
    "        Back prop thru the network\n",
    "        \"\"\"\n",
    "        \n",
    "        self.o_error = y - o # Error in the output\n",
    "        \n",
    "        # Apply derivative of sigmoid to error\n",
    "        self.o_delta = self.o_error * self.sigmoidPrime(o)\n",
    "        \n",
    "        # z2 error: how much were our output layer weights off\n",
    "        self.z2_error = self.o_delta.dot(self.weights2.T)\n",
    "        \n",
    "        # z2 delta: how much were the weights off?\n",
    "        self.z2_delta = self.z2_error*self.sigmoidPrime(self.output_sum)\n",
    "\n",
    "        self.weights1 += X.T.dot(self.z2_delta) #Adjust first set (input => hidden) weights\n",
    "        self.weights2 += self.activated_hidden.T.dot(self.o_delta) #adjust second set (hidden => output) weights\n",
    "        \n",
    "    def train(self, X,y):\n",
    "        o = self.feed_forward(X)\n",
    "        self.backward(X,y,o)"
   ]
  },
  {
   "cell_type": "markdown",
   "metadata": {
    "toc-hr-collapsed": true
   },
   "source": [
    "#### Let's look at the shape of the Gradient Componets\n"
   ]
  },
  {
   "cell_type": "code",
   "execution_count": 12,
   "metadata": {},
   "outputs": [],
   "source": [
    "nn = NeuralNetwork()\n",
    "\n",
    "nn.train(X,y)"
   ]
  },
  {
   "cell_type": "markdown",
   "metadata": {},
   "source": [
    "##### Our Error Associated with Each Observation \n",
    "aka how wrong were we?"
   ]
  },
  {
   "cell_type": "code",
   "execution_count": 13,
   "metadata": {},
   "outputs": [
    {
     "data": {
      "text/plain": [
       "array([[0.60746115],\n",
       "       [0.46613403],\n",
       "       [0.53667427]])"
      ]
     },
     "execution_count": 13,
     "metadata": {},
     "output_type": "execute_result"
    }
   ],
   "source": [
    "nn.o_error"
   ]
  },
  {
   "cell_type": "markdown",
   "metadata": {},
   "source": [
    "##### 1st Gradient \n",
    "Simple interpretation - how much more sigmoid activation would have pushed us towards the right answer?\n",
    "\n",
    "`self.o_delta = self.o_error * self.sigmoidPrime(self.output_sum)`"
   ]
  },
  {
   "cell_type": "code",
   "execution_count": 14,
   "metadata": {},
   "outputs": [
    {
     "data": {
      "text/plain": [
       "array([[0.14866196],\n",
       "       [0.11467591],\n",
       "       [0.13186936]])"
      ]
     },
     "execution_count": 14,
     "metadata": {},
     "output_type": "execute_result"
    }
   ],
   "source": [
    "nn.o_delta"
   ]
  },
  {
   "cell_type": "markdown",
   "metadata": {},
   "source": [
    "Let's take a look at the derivate of the sigmoid function to understand what's happening. "
   ]
  },
  {
   "cell_type": "code",
   "execution_count": 20,
   "metadata": {},
   "outputs": [],
   "source": [
    "import matplotlib.pyplot as plt\n",
    "\n",
    "line_x = np.arange(-5, 5, 0.01)\n",
    "\n",
    "def sigmoid(x):\n",
    "    return 1 / (1+ np.exp(-x))\n",
    "\n",
    "def sigmoid_derivative(x):\n",
    "    sx = sigmoid(x)\n",
    "    return sx * (1-sx)\n",
    "\n",
    "# sigmoid\n",
    "y = sigmoid(line_x)\n",
    "y_d = sigmoid_derivative(line_x)\n",
    "\n",
    "x = nn.output_sum\n",
    "s = sigmoid(x)\n",
    "sx = sigmoid_derivative(x)"
   ]
  },
  {
   "cell_type": "code",
   "execution_count": 24,
   "metadata": {},
   "outputs": [
    {
     "data": {
      "image/png": "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\n",
      "text/plain": [
       "<Figure size 1080x360 with 2 Axes>"
      ]
     },
     "metadata": {},
     "output_type": "display_data"
    }
   ],
   "source": [
    "# call regplot on each axes\n",
    "import seaborn as sns\n",
    "plt.style.use('seaborn-darkgrid')\n",
    "fig, (ax1, ax2) = plt.subplots(ncols=2, sharey=True, figsize=(15,5))\n",
    "sns.lineplot(x=line_x, y=y, ax=ax1)\n",
    "ax1.plot(x[0], s[0], 'ro')\n",
    "ax1.set_title(\"Sigmoid of Weighted Sum\")\n",
    "sns.lineplot(x=line_x, y=y_d, ax=ax2) \n",
    "ax2.plot(x[0],sx[0],'ro');\n",
    "ax2.set_title(\"Sigmoid Derivative of Weighted Sum\");"
   ]
  },
  {
   "cell_type": "markdown",
   "metadata": {},
   "source": [
    "Look at the derivate graph. The derivative multiplied by the error tells us where to assign blame and update the weights most effective. "
   ]
  },
  {
   "cell_type": "markdown",
   "metadata": {},
   "source": [
    "##### 2nd Error\n",
    "Justice hasn't been served yet - tho. We still have neurons to blame. Let's go back another layer. \n",
    "\n",
    "`self.z2_error = self.o_delta.dot(self.weights2.T)`\n",
    "\n",
    "__Discussion:__ Why is this shape different?"
   ]
  },
  {
   "cell_type": "code",
   "execution_count": 19,
   "metadata": {},
   "outputs": [
    {
     "data": {
      "text/plain": [
       "array([[ 0.12617681, -0.1150625 ,  0.03893199],\n",
       "       [ 0.10284393, -0.0937849 ,  0.0317326 ],\n",
       "       [ 0.11263893, -0.10271711,  0.03475486]])"
      ]
     },
     "execution_count": 19,
     "metadata": {},
     "output_type": "execute_result"
    }
   ],
   "source": [
    "nn.o_delta.dot(nn.weights2.T)"
   ]
  },
  {
   "cell_type": "markdown",
   "metadata": {},
   "source": [
    "##### 2nd Gradient\n",
    "For each observation, how much more sigmoid activation from this layer would have pushed us towards the right answer?\n",
    "\n",
    "`self.z2_delta = self.z2_error * self.sigmoidPrime(self.activated_hidden)`"
   ]
  },
  {
   "cell_type": "code",
   "execution_count": 20,
   "metadata": {},
   "outputs": [
    {
     "data": {
      "text/plain": [
       "array([[ 0.0249667 , -0.03487882,  0.0024471 ],\n",
       "       [ 0.0210157 , -0.02935923,  0.00205985],\n",
       "       [ 0.02282264, -0.03188355,  0.00223695]])"
      ]
     },
     "execution_count": 20,
     "metadata": {},
     "output_type": "execute_result"
    }
   ],
   "source": [
    "nn.z2_delta"
   ]
  },
  {
   "cell_type": "code",
   "execution_count": 21,
   "metadata": {},
   "outputs": [
    {
     "data": {
      "text/plain": [
       "True"
      ]
     },
     "execution_count": 21,
     "metadata": {},
     "output_type": "execute_result"
    }
   ],
   "source": [
    "X.T.shape == nn.weights1.shape"
   ]
  },
  {
   "cell_type": "code",
   "execution_count": 44,
   "metadata": {},
   "outputs": [
    {
     "data": {
      "text/plain": [
       "array([[0.66666667, 1.        ],\n",
       "       [0.33333333, 0.55555556],\n",
       "       [1.        , 0.66666667]])"
      ]
     },
     "execution_count": 44,
     "metadata": {},
     "output_type": "execute_result"
    }
   ],
   "source": []
  },
  {
   "cell_type": "markdown",
   "metadata": {},
   "source": [
    "##### Descent\n",
    "\n",
    "*Discussion:* Input to Hidden Weight Update\n",
    "- We multiply the gradient by the inputs. Why?\n",
    "- Why do we need to transpose the inputs? "
   ]
  },
  {
   "cell_type": "code",
   "execution_count": 22,
   "metadata": {},
   "outputs": [
    {
     "data": {
      "text/plain": [
       "array([[0.66666667, 0.33333333, 1.        ],\n",
       "       [1.        , 0.55555556, 0.66666667]])"
      ]
     },
     "execution_count": 22,
     "metadata": {},
     "output_type": "execute_result"
    }
   ],
   "source": [
    "X.T"
   ]
  },
  {
   "cell_type": "code",
   "execution_count": 23,
   "metadata": {},
   "outputs": [
    {
     "data": {
      "text/plain": [
       "array([[ 0.04647234, -0.06492251,  0.00455497],\n",
       "       [ 0.05185718, -0.07244521,  0.00508276]])"
      ]
     },
     "execution_count": 23,
     "metadata": {},
     "output_type": "execute_result"
    }
   ],
   "source": [
    "X.T.dot(nn.z2_delta)"
   ]
  },
  {
   "cell_type": "markdown",
   "metadata": {},
   "source": [
    "*Discussion:* Hidden to Output Weight Update\n",
    "- Why is output the shape 3x1? \n",
    "- We multiply the gradient by the inputs. Why?\n",
    "- Why do we need to transpose the inputs?"
   ]
  },
  {
   "cell_type": "code",
   "execution_count": 24,
   "metadata": {},
   "outputs": [
    {
     "data": {
      "text/plain": [
       "array([[0.15251427],\n",
       "       [0.25471353],\n",
       "       [0.21796758]])"
      ]
     },
     "execution_count": 24,
     "metadata": {},
     "output_type": "execute_result"
    }
   ],
   "source": [
    "nn.activated_hidden.T.dot(nn.o_delta)"
   ]
  },
  {
   "cell_type": "markdown",
   "metadata": {},
   "source": [
    "### Train the Network (fo real this time)"
   ]
  },
  {
   "cell_type": "code",
   "execution_count": 30,
   "metadata": {},
   "outputs": [
    {
     "name": "stdout",
     "output_type": "stream",
     "text": [
      "+---------EPOCH 1---------+\n",
      "Input: \n",
      " [[0.66666667 1.        ]\n",
      " [0.33333333 0.55555556]\n",
      " [1.         0.66666667]]\n",
      "Actual Output: \n",
      " [[0.9 ]\n",
      " [0.72]\n",
      " [0.8 ]]\n",
      "Predicted Output: \n",
      " [[0.25814933]\n",
      " [0.33067192]\n",
      " [0.22642076]]\n",
      "Loss: \n",
      " 0.2975139279136551\n",
      "+---------EPOCH 2---------+\n",
      "Input: \n",
      " [[0.66666667 1.        ]\n",
      " [0.33333333 0.55555556]\n",
      " [1.         0.66666667]]\n",
      "Actual Output: \n",
      " [[0.9 ]\n",
      " [0.72]\n",
      " [0.8 ]]\n",
      "Predicted Output: \n",
      " [[0.3641282 ]\n",
      " [0.43154456]\n",
      " [0.3214717 ]]\n",
      "Loss: \n",
      " 0.19978482310830625\n",
      "+---------EPOCH 3---------+\n",
      "Input: \n",
      " [[0.66666667 1.        ]\n",
      " [0.33333333 0.55555556]\n",
      " [1.         0.66666667]]\n",
      "Actual Output: \n",
      " [[0.9 ]\n",
      " [0.72]\n",
      " [0.8 ]]\n",
      "Predicted Output: \n",
      " [[0.45923322]\n",
      " [0.51595304]\n",
      " [0.40906549]]\n",
      "Loss: \n",
      " 0.12958010176535534\n",
      "+---------EPOCH 4---------+\n",
      "Input: \n",
      " [[0.66666667 1.        ]\n",
      " [0.33333333 0.55555556]\n",
      " [1.         0.66666667]]\n",
      "Actual Output: \n",
      " [[0.9 ]\n",
      " [0.72]\n",
      " [0.8 ]]\n",
      "Predicted Output: \n",
      " [[0.53596514]\n",
      " [0.58131764]\n",
      " [0.48180761]]\n",
      "Loss: \n",
      " 0.08433352590924598\n",
      "+---------EPOCH 5---------+\n",
      "Input: \n",
      " [[0.66666667 1.        ]\n",
      " [0.33333333 0.55555556]\n",
      " [1.         0.66666667]]\n",
      "Actual Output: \n",
      " [[0.9 ]\n",
      " [0.72]\n",
      " [0.8 ]]\n",
      "Predicted Output: \n",
      " [[0.59522825]\n",
      " [0.63070626]\n",
      " [0.5395584 ]]\n",
      "Loss: \n",
      " 0.05622967401952095\n",
      "+---------EPOCH 500---------+\n",
      "Input: \n",
      " [[0.66666667 1.        ]\n",
      " [0.33333333 0.55555556]\n",
      " [1.         0.66666667]]\n",
      "Actual Output: \n",
      " [[0.9 ]\n",
      " [0.72]\n",
      " [0.8 ]]\n",
      "Predicted Output: \n",
      " [[0.82873934]\n",
      " [0.80050493]\n",
      " [0.80075531]]\n",
      "Loss: \n",
      " 0.003853232317193865\n",
      "+---------EPOCH 1000---------+\n",
      "Input: \n",
      " [[0.66666667 1.        ]\n",
      " [0.33333333 0.55555556]\n",
      " [1.         0.66666667]]\n",
      "Actual Output: \n",
      " [[0.9 ]\n",
      " [0.72]\n",
      " [0.8 ]]\n",
      "Predicted Output: \n",
      " [[0.82873657]\n",
      " [0.79594272]\n",
      " [0.80447936]]\n",
      "Loss: \n",
      " 0.0036219459645128013\n",
      "+---------EPOCH 1500---------+\n",
      "Input: \n",
      " [[0.66666667 1.        ]\n",
      " [0.33333333 0.55555556]\n",
      " [1.         0.66666667]]\n",
      "Actual Output: \n",
      " [[0.9 ]\n",
      " [0.72]\n",
      " [0.8 ]]\n",
      "Predicted Output: \n",
      " [[0.82925461]\n",
      " [0.79589156]\n",
      " [0.80328259]]\n",
      "Loss: \n",
      " 0.0035917386086966475\n",
      "+---------EPOCH 2000---------+\n",
      "Input: \n",
      " [[0.66666667 1.        ]\n",
      " [0.33333333 0.55555556]\n",
      " [1.         0.66666667]]\n",
      "Actual Output: \n",
      " [[0.9 ]\n",
      " [0.72]\n",
      " [0.8 ]]\n",
      "Predicted Output: \n",
      " [[0.83219558]\n",
      " [0.7947219 ]\n",
      " [0.80042151]]\n",
      "Loss: \n",
      " 0.003393659883290401\n",
      "+---------EPOCH 2500---------+\n",
      "Input: \n",
      " [[0.66666667 1.        ]\n",
      " [0.33333333 0.55555556]\n",
      " [1.         0.66666667]]\n",
      "Actual Output: \n",
      " [[0.9 ]\n",
      " [0.72]\n",
      " [0.8 ]]\n",
      "Predicted Output: \n",
      " [[0.83918755]\n",
      " [0.7865899 ]\n",
      " [0.80000598]]\n",
      "Loss: \n",
      " 0.0027107893500704556\n",
      "+---------EPOCH 3000---------+\n",
      "Input: \n",
      " [[0.66666667 1.        ]\n",
      " [0.33333333 0.55555556]\n",
      " [1.         0.66666667]]\n",
      "Actual Output: \n",
      " [[0.9 ]\n",
      " [0.72]\n",
      " [0.8 ]]\n",
      "Predicted Output: \n",
      " [[0.8482196 ]\n",
      " [0.77235509]\n",
      " [0.80337698]]\n",
      "Loss: \n",
      " 0.0018112231518961084\n",
      "+---------EPOCH 3500---------+\n",
      "Input: \n",
      " [[0.66666667 1.        ]\n",
      " [0.33333333 0.55555556]\n",
      " [1.         0.66666667]]\n",
      "Actual Output: \n",
      " [[0.9 ]\n",
      " [0.72]\n",
      " [0.8 ]]\n",
      "Predicted Output: \n",
      " [[0.85669459]\n",
      " [0.76034251]\n",
      " [0.80541631]]\n",
      "Loss: \n",
      " 0.001177404445006416\n",
      "+---------EPOCH 4000---------+\n",
      "Input: \n",
      " [[0.66666667 1.        ]\n",
      " [0.33333333 0.55555556]\n",
      " [1.         0.66666667]]\n",
      "Actual Output: \n",
      " [[0.9 ]\n",
      " [0.72]\n",
      " [0.8 ]]\n",
      "Predicted Output: \n",
      " [[0.86418915]\n",
      " [0.75279332]\n",
      " [0.80451197]]\n",
      "Loss: \n",
      " 0.0007927255007351078\n",
      "+---------EPOCH 4500---------+\n",
      "Input: \n",
      " [[0.66666667 1.        ]\n",
      " [0.33333333 0.55555556]\n",
      " [1.         0.66666667]]\n",
      "Actual Output: \n",
      " [[0.9 ]\n",
      " [0.72]\n",
      " [0.8 ]]\n",
      "Predicted Output: \n",
      " [[0.87043335]\n",
      " [0.74778938]\n",
      " [0.80269071]]\n",
      "Loss: \n",
      " 0.0005512255230043662\n",
      "+---------EPOCH 5000---------+\n",
      "Input: \n",
      " [[0.66666667 1.        ]\n",
      " [0.33333333 0.55555556]\n",
      " [1.         0.66666667]]\n",
      "Actual Output: \n",
      " [[0.9 ]\n",
      " [0.72]\n",
      " [0.8 ]]\n",
      "Predicted Output: \n",
      " [[0.87525816]\n",
      " [0.74390294]\n",
      " [0.80137031]]\n",
      "Loss: \n",
      " 0.0003951290101906994\n"
     ]
    }
   ],
   "source": [
    "# Train my 'net\n",
    "nn = NeuralNetwork()\n",
    "\n",
    "# Number of Epochs / Iterations\n",
    "for i in range(5000):\n",
    "    if (i+1 in [1,2,3,4,5]) or ((i+1) % 500 ==0):\n",
    "        print('+' + '---' * 3 + f'EPOCH {i+1}' + '---'*3 + '+')\n",
    "        print('Input: \\n', X)\n",
    "        print('Actual Output: \\n', y)\n",
    "        print('Predicted Output: \\n', str(nn.feed_forward(X)))\n",
    "        print(\"Loss: \\n\", str(np.mean(np.square(y - nn.feed_forward(X)))))\n",
    "    nn.train(X,y)"
   ]
  },
  {
   "cell_type": "markdown",
   "metadata": {},
   "source": [
    "## Challenge\n",
    "\n",
    "In the module project, you will implement backpropagation inside a multi-layer perceptron (aka a feedforward neural network). "
   ]
  },
  {
   "cell_type": "markdown",
   "metadata": {
    "toc-hr-collapsed": true
   },
   "source": [
    "# Stochastic Gradient Descent (Learn)"
   ]
  },
  {
   "cell_type": "markdown",
   "metadata": {},
   "source": [
    "## Overview\n",
    "\n",
    "The What - Stochastic Gradient Descent calculates an approximation of the gradient over the entire dataset by reviewing the predictions of a random sample. \n",
    "\n",
    "The Why - *Speed*. Calculating the gradient over the entire dataset is extremely expensive computationally. "
   ]
  },
  {
   "cell_type": "markdown",
   "metadata": {
    "colab_type": "text",
    "id": "ZF7UE-KluPsX"
   },
   "source": [
    "## Follow Along\n",
    "\n",
    "A true Stochastic GD-based implementation from [Welch Labs](https://www.youtube.com/watch?v=bxe2T-V8XRs)"
   ]
  },
  {
   "cell_type": "code",
   "execution_count": 38,
   "metadata": {},
   "outputs": [
    {
     "name": "stdout",
     "output_type": "stream",
     "text": [
      "3/3 [==============================] - 0s 8ms/sample - loss: 0.0428 - mean_absolute_error: 0.1932\n"
     ]
    },
    {
     "data": {
      "text/plain": [
       "array([[0.99991727],\n",
       "       [0.99989295],\n",
       "       [0.999887  ]], dtype=float32)"
      ]
     },
     "execution_count": 38,
     "metadata": {},
     "output_type": "execute_result"
    }
   ],
   "source": [
    "model.evaluate(X,y)\n",
    "model.predict(X)"
   ]
  },
  {
   "cell_type": "code",
   "execution_count": 34,
   "metadata": {},
   "outputs": [],
   "source": [
    "class Neural_Network(object):\n",
    "    def __init__(self):        \n",
    "        #Define Hyperparameters\n",
    "        self.inputLayerSize = 2\n",
    "        self.outputLayerSize = 1\n",
    "        self.hiddenLayerSize = 3\n",
    "        \n",
    "        #Weights (parameters)\n",
    "        self.W1 = np.random.randn(self.inputLayerSize,self.hiddenLayerSize)\n",
    "        self.W2 = np.random.randn(self.hiddenLayerSize,self.outputLayerSize)\n",
    "        \n",
    "    def forward(self, X):\n",
    "        #Propogate inputs though network\n",
    "        self.z2 = np.dot(X, self.W1)\n",
    "        self.a2 = self.sigmoid(self.z2)\n",
    "        self.z3 = np.dot(self.a2, self.W2)\n",
    "        yHat = self.sigmoid(self.z3) \n",
    "        return yHat\n",
    "        \n",
    "    def sigmoid(self, z):\n",
    "        #Apply sigmoid activation function to scalar, vector, or matrix\n",
    "        return 1/(1+np.exp(-z))\n",
    "    \n",
    "    def sigmoidPrime(self,z):\n",
    "        #Gradient of sigmoid\n",
    "        return np.exp(-z)/((1+np.exp(-z))**2)\n",
    "    \n",
    "    def costFunction(self, X, y):\n",
    "        #Compute cost for given X,y, use weights already stored in class.\n",
    "        self.yHat = self.forward(X)\n",
    "        J = 0.5*sum((y-self.yHat)**2)\n",
    "        return J\n",
    "        \n",
    "    def costFunctionPrime(self, X, y):\n",
    "        #Compute derivative with respect to W and W2 for a given X and y:\n",
    "        self.yHat = self.forward(X)\n",
    "        \n",
    "        delta3 = np.multiply(-(y-self.yHat), self.sigmoidPrime(self.z3))\n",
    "        dJdW2 = np.dot(self.a2.T, delta3)\n",
    "        \n",
    "        delta2 = np.dot(delta3, self.W2.T)*self.sigmoidPrime(self.z2)\n",
    "        dJdW1 = np.dot(X.T, delta2)  \n",
    "        \n",
    "        return dJdW1, dJdW2\n",
    "    \n",
    "    #Helper Functions for interacting with other classes:\n",
    "    def getParams(self):\n",
    "        #Get W1 and W2 unrolled into vector:\n",
    "        params = np.concatenate((self.W1.ravel(), self.W2.ravel()))\n",
    "        return params\n",
    "    \n",
    "    def setParams(self, params):\n",
    "        #Set W1 and W2 using single paramater vector.\n",
    "        W1_start = 0\n",
    "        W1_end = self.hiddenLayerSize * self.inputLayerSize\n",
    "        self.W1 = np.reshape(params[W1_start:W1_end], (self.inputLayerSize , self.hiddenLayerSize))\n",
    "        W2_end = W1_end + self.hiddenLayerSize*self.outputLayerSize\n",
    "        self.W2 = np.reshape(params[W1_end:W2_end], (self.hiddenLayerSize, self.outputLayerSize))\n",
    "        \n",
    "    def computeGradients(self, X, y):\n",
    "        dJdW1, dJdW2 = self.costFunctionPrime(X, y)\n",
    "        return np.concatenate((dJdW1.ravel(), dJdW2.ravel()))"
   ]
  },
  {
   "cell_type": "code",
   "execution_count": 35,
   "metadata": {
    "colab": {},
    "colab_type": "code",
    "id": "uA9LaTgKr6rP"
   },
   "outputs": [],
   "source": [
    "from scipy import optimize\n",
    "class trainer(object):\n",
    "    def __init__(self, N):\n",
    "        #Make Local reference to network:\n",
    "        self.N = N\n",
    "        \n",
    "    def callbackF(self, params):\n",
    "        self.N.setParams(params)\n",
    "        self.J.append(self.N.costFunction(self.X, self.y))   \n",
    "        \n",
    "    def costFunctionWrapper(self, params, X, y):\n",
    "        self.N.setParams(params)\n",
    "        cost = self.N.costFunction(X, y)\n",
    "        grad = self.N.computeGradients(X,y)\n",
    "        \n",
    "        return cost, grad\n",
    "        \n",
    "    def train(self, X, y):\n",
    "        #Make an internal variable for the callback function:\n",
    "        self.X = X\n",
    "        self.y = y\n",
    "\n",
    "        #Make empty list to store costs:\n",
    "        self.J = []\n",
    "        \n",
    "        params0 = self.N.getParams()\n",
    "\n",
    "        options = {'maxiter': 200, 'disp' : True}\n",
    "        _res = optimize.minimize(self.costFunctionWrapper, params0, jac=True, method='BFGS', \\\n",
    "                                 args=(X, y), options=options, callback=self.callbackF)\n",
    "\n",
    "        self.N.setParams(_res.x)\n",
    "        self.optimizationResults = _res"
   ]
  },
  {
   "cell_type": "code",
   "execution_count": 36,
   "metadata": {
    "colab": {},
    "colab_type": "code",
    "id": "g_kHb6Se1u9y"
   },
   "outputs": [],
   "source": [
    "NN = Neural_Network()"
   ]
  },
  {
   "cell_type": "code",
   "execution_count": 37,
   "metadata": {
    "colab": {},
    "colab_type": "code",
    "id": "hYYVhFf4rn3q"
   },
   "outputs": [],
   "source": [
    "T = trainer(NN)"
   ]
  },
  {
   "cell_type": "code",
   "execution_count": 38,
   "metadata": {
    "colab": {
     "base_uri": "https://localhost:8080/",
     "height": 104
    },
    "colab_type": "code",
    "id": "L-gYdVfgrysE",
    "outputId": "ae371bf9-692c-49b4-b165-8562dab9c06e"
   },
   "outputs": [
    {
     "name": "stdout",
     "output_type": "stream",
     "text": [
      "Optimization terminated successfully.\n",
      "         Current function value: 0.000000\n",
      "         Iterations: 36\n",
      "         Function evaluations: 45\n",
      "         Gradient evaluations: 45\n"
     ]
    }
   ],
   "source": [
    "T.train(X,y)"
   ]
  },
  {
   "cell_type": "code",
   "execution_count": 39,
   "metadata": {
    "colab": {
     "base_uri": "https://localhost:8080/",
     "height": 121
    },
    "colab_type": "code",
    "id": "Jyv_L8Z2sKOA",
    "outputId": "08725651-6d21-401b-85c0-3487370b8bc0"
   },
   "outputs": [
    {
     "name": "stdout",
     "output_type": "stream",
     "text": [
      "Predicted Output: \n",
      "[[0.91991809]\n",
      " [0.85998334]\n",
      " [0.88999529]]\n",
      "Loss: \n",
      "2.3365414324478e-09\n"
     ]
    }
   ],
   "source": [
    "print(\"Predicted Output: \\n\" + str(NN.forward(X))) \n",
    "print(\"Loss: \\n\" + str(np.mean(np.square(y - NN.forward(X))))) # mean sum squared loss"
   ]
  },
  {
   "cell_type": "code",
   "execution_count": 41,
   "metadata": {
    "colab": {
     "base_uri": "https://localhost:8080/",
     "height": 361
    },
    "colab_type": "code",
    "id": "Gtf9WI9FtGPk",
    "outputId": "d062b2a3-5a92-403e-8ce0-c070aa79907b"
   },
   "outputs": [
    {
     "data": {
      "image/png": "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\n",
      "text/plain": [
       "<Figure size 432x288 with 1 Axes>"
      ]
     },
     "metadata": {
      "needs_background": "light"
     },
     "output_type": "display_data"
    }
   ],
   "source": [
    "import matplotlib.pyplot as plt\n",
    "plt.plot(T.J)\n",
    "plt.xlabel('Iterations')\n",
    "plt.ylabel('Cost')\n",
    "plt.show()     "
   ]
  },
  {
   "cell_type": "markdown",
   "metadata": {},
   "source": [
    "## Challenge\n",
    "\n",
    "This is a reference implementation for you to explore. You will not be expected to apply it to today's module project. "
   ]
  },
  {
   "cell_type": "markdown",
   "metadata": {},
   "source": [
    "# Keras Sequential API (Learn)"
   ]
  },
  {
   "cell_type": "markdown",
   "metadata": {
    "toc-hr-collapsed": true
   },
   "source": [
    "## Overview\n",
    "\n",
    "> \"Keras is a high-level neural networks API, written in Python and capable of running on top of TensorFlow, CNTK, or Theano. It was developed with a focus on enabling fast experimentation. Being able to go from idea to result with the least possible delay is key to doing good research. Use Keras if you need a deep learning library that:\n",
    "\n",
    "> Allows for easy and fast prototyping (through user friendliness, modularity, and extensibility).\n",
    "Supports both convolutional networks and recurrent networks, as well as combinations of the two.\n",
    "Runs seamlessly on CPU and GPU.\" "
   ]
  },
  {
   "cell_type": "markdown",
   "metadata": {
    "colab_type": "text",
    "id": "AIJoRBxHy27n"
   },
   "source": [
    "### Keras Perceptron Sample"
   ]
  },
  {
   "cell_type": "code",
   "execution_count": 1,
   "metadata": {},
   "outputs": [],
   "source": [
    "import pandas as pd\n",
    "\n",
    "data = { 'x1': [0,1,0,1],\n",
    "         'x2': [0,0,1,1],\n",
    "         'y':  [1,1,1,0]\n",
    "       }\n",
    "\n",
    "df = pd.DataFrame.from_dict(data).astype('int')\n",
    "X = df[['x1', 'x2']].values\n",
    "y = df['y'].values"
   ]
  },
  {
   "cell_type": "code",
   "execution_count": 2,
   "metadata": {
    "colab": {
     "base_uri": "https://localhost:8080/",
     "height": 5216
    },
    "colab_type": "code",
    "id": "TQxyONqKvFxB",
    "outputId": "12966e66-2297-4f82-85b3-c275a9c38563"
   },
   "outputs": [
    {
     "name": "stdout",
     "output_type": "stream",
     "text": [
      "Train on 4 samples\n",
      "Epoch 1/10\n",
      "4/4 [==============================] - 0s 59ms/sample - loss: 0.7140 - accuracy: 0.2500\n",
      "Epoch 2/10\n",
      "4/4 [==============================] - 0s 463us/sample - loss: 0.7137 - accuracy: 0.5000\n",
      "Epoch 3/10\n",
      "4/4 [==============================] - 0s 460us/sample - loss: 0.7134 - accuracy: 0.5000\n",
      "Epoch 4/10\n",
      "4/4 [==============================] - 0s 455us/sample - loss: 0.7131 - accuracy: 0.5000\n",
      "Epoch 5/10\n",
      "4/4 [==============================] - 0s 461us/sample - loss: 0.7129 - accuracy: 0.5000\n",
      "Epoch 6/10\n",
      "4/4 [==============================] - 0s 356us/sample - loss: 0.7126 - accuracy: 0.5000\n",
      "Epoch 7/10\n",
      "4/4 [==============================] - 0s 353us/sample - loss: 0.7123 - accuracy: 0.5000\n",
      "Epoch 8/10\n",
      "4/4 [==============================] - 0s 344us/sample - loss: 0.7121 - accuracy: 0.5000\n",
      "Epoch 9/10\n",
      "4/4 [==============================] - 0s 362us/sample - loss: 0.7118 - accuracy: 0.5000\n",
      "Epoch 10/10\n",
      "4/4 [==============================] - 0s 336us/sample - loss: 0.7115 - accuracy: 0.5000\n"
     ]
    },
    {
     "data": {
      "text/plain": [
       "<tensorflow.python.keras.callbacks.History at 0x7fe780318350>"
      ]
     },
     "execution_count": 2,
     "metadata": {},
     "output_type": "execute_result"
    }
   ],
   "source": [
    "from tensorflow.keras.models import Sequential\n",
    "from tensorflow.keras.layers import Dense\n",
    "\n",
    "# This is our perceptron from Monday's by-hand: \n",
    "model = Sequential()\n",
    "model.add(Dense(1,input_dim=2, activation='sigmoid'))\n",
    "model.compile(loss='binary_crossentropy', optimizer='adam', metrics=['accuracy'])\n",
    "model.fit(X,y, epochs=5)"
   ]
  },
  {
   "cell_type": "code",
   "execution_count": 3,
   "metadata": {
    "colab": {
     "base_uri": "https://localhost:8080/",
     "height": 69
    },
    "colab_type": "code",
    "id": "Z1wfKUxszPKa",
    "outputId": "0cdacd1d-6e5a-4bbe-fabb-568cd94724be"
   },
   "outputs": [
    {
     "name": "stdout",
     "output_type": "stream",
     "text": [
      "4/4 [==============================] - 0s 15ms/sample - loss: 0.7112 - accuracy: 0.5000\n",
      "accuracy: 50.0\n"
     ]
    }
   ],
   "source": [
    "# evaluate the model\n",
    "scores = model.evaluate(X, y)\n",
    "print(f\"{model.metrics_names[1]}: {scores[1]*100}\")"
   ]
  },
  {
   "cell_type": "markdown",
   "metadata": {
    "toc-hr-collapsed": true
   },
   "source": [
    "## Follow Along\n",
    "\n",
    "In the `Sequential` api model, you specify a model architecture by 'sequentially specifying layers. This type of specification works well for feed forward neural networks in which the data flows in one direction (forward propagation) and the error flows in the opposite direction (backwards propagation). The Keras `Sequential` API follows a standardarized worklow to estimate a 'net: \n",
    "\n",
    "1. Load Data\n",
    "2. Define Model\n",
    "3. Compile Model\n",
    "4. Fit Model\n",
    "5. Evaluate Model\n",
    "\n",
    "You saw these steps in our Keras Perceptron Sample, but let's walk thru each step in detail."
   ]
  },
  {
   "cell_type": "markdown",
   "metadata": {
    "colab_type": "text",
    "id": "Md5D67XwqVAf",
    "toc-hr-collapsed": false
   },
   "source": [
    "### Load Data"
   ]
  },
  {
   "cell_type": "code",
   "execution_count": 1,
   "metadata": {
    "colab": {
     "base_uri": "https://localhost:8080/",
     "height": 109,
     "resources": {
      "http://localhost:8080/nbextensions/google.colab/files.js": {
       "data": "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",
       "headers": [
        [
         "content-type",
         "application/javascript"
        ]
       ],
       "ok": true,
       "status": 200,
       "status_text": ""
      }
     }
    },
    "colab_type": "code",
    "id": "bn09phMBpY1J",
    "outputId": "1c45fb6a-e3cb-4ec1-fb85-de52b3c60bae"
   },
   "outputs": [],
   "source": [
    "from tensorflow import keras\n",
    "from tensorflow.keras.datasets import mnist\n",
    "from tensorflow.keras.models import Sequential\n",
    "from tensorflow.keras.layers import Dense, Dropout\n",
    "\n",
    "# Stretch - use dropout \n",
    "import numpy as np"
   ]
  },
  {
   "cell_type": "code",
   "execution_count": 2,
   "metadata": {},
   "outputs": [],
   "source": [
    "# Load the Data\n",
    "(X_train, y_train), (X_test, y_test) = mnist.load_data()"
   ]
  },
  {
   "cell_type": "code",
   "execution_count": 3,
   "metadata": {},
   "outputs": [
    {
     "data": {
      "text/plain": [
       "(28, 28)"
      ]
     },
     "execution_count": 3,
     "metadata": {},
     "output_type": "execute_result"
    }
   ],
   "source": [
    "X_train[0].shape"
   ]
  },
  {
   "cell_type": "code",
   "execution_count": 4,
   "metadata": {},
   "outputs": [
    {
     "data": {
      "text/plain": [
       "(60000, 28, 28)"
      ]
     },
     "execution_count": 4,
     "metadata": {},
     "output_type": "execute_result"
    }
   ],
   "source": [
    "X_train.shape"
   ]
  },
  {
   "cell_type": "code",
   "execution_count": 6,
   "metadata": {},
   "outputs": [],
   "source": [
    "# X Variable Types\n",
    "X_train = X_train.astype('float32') / 255.\n",
    "X_test = X_test.astype('float32') /255.\n",
    "\n",
    "# Correct Encoding on Y\n",
    "# What softmax expects = [0,0,0,0,0,1,0,0,0,0]\n",
    "num_classes = 10\n",
    "y_train = keras.utils.to_categorical(y_train, num_classes)\n",
    "y_test = keras.utils.to_categorical(y_test, num_classes)"
   ]
  },
  {
   "cell_type": "markdown",
   "metadata": {
    "colab_type": "text",
    "id": "o0xMqOyTs5xt"
   },
   "source": [
    "### Define Model"
   ]
  },
  {
   "cell_type": "code",
   "execution_count": 7,
   "metadata": {
    "colab": {},
    "colab_type": "code",
    "id": "Bp9USczrfu6M"
   },
   "outputs": [],
   "source": [
    "from tensorflow.keras.models import Sequential\n",
    "from tensorflow.keras.layers import Dense, Flatten\n",
    "\n",
    "import numpy as np\n",
    "\n",
    "np.random.seed(812)"
   ]
  },
  {
   "cell_type": "markdown",
   "metadata": {
    "colab_type": "text",
    "id": "wAzHLg27thoN"
   },
   "source": [
    "I'll instantiate my model as a \"sequential\" model. This just means that I'm going to tell Keras what my model's architecture should be one layer at a time."
   ]
  },
  {
   "cell_type": "code",
   "execution_count": 8,
   "metadata": {
    "colab": {},
    "colab_type": "code",
    "id": "DSNsL49Xp6KI"
   },
   "outputs": [],
   "source": [
    "# https://keras.io/getting-started/sequential-model-guide/\n",
    "model = Sequential()"
   ]
  },
  {
   "cell_type": "markdown",
   "metadata": {
    "colab_type": "text",
    "id": "ZCYX6QzJtvpG"
   },
   "source": [
    "Adding a \"Dense\" layer to our model is how we add \"vanilla\" perceptron-based layers to our neural network. These are also called \"fully-connected\" or \"densely-connected\" layers. They're used as a layer type in lots of other Neural Net Architectures but they're not referred to as perceptrons or multi-layer perceptrons very often in those situations even though that's what they are.\n",
    "\n",
    " > [\"Just your regular densely-connected NN layer.\"](https://keras.io/layers/core/)\n",
    " \n",
    " The first argument is how many neurons we want to have in that layer. To create a perceptron-esque model we will just set it to 10. Our architecture is just an input and output layer. We will tell it that there will be 784 inputs coming into this layer from our dataset and set it to use the sigmoid activation function."
   ]
  },
  {
   "cell_type": "code",
   "execution_count": 13,
   "metadata": {
    "colab": {
     "base_uri": "https://localhost:8080/",
     "height": 89
    },
    "colab_type": "code",
    "id": "GNzOLidxtvFa",
    "outputId": "35b1457d-0189-49f1-aa6d-3ef15b29bd6e"
   },
   "outputs": [],
   "source": [
    "model.add(Flatten(input_shape=(28,28)))\n",
    "model.add(Dense(10,activation=\"softmax\")) #Relu is valid option. "
   ]
  },
  {
   "cell_type": "markdown",
   "metadata": {
    "colab_type": "text",
    "id": "EnI3jwKMtBL2",
    "toc-hr-collapsed": false
   },
   "source": [
    "### Compile Model\n",
    "Using binary_crossentropy as the loss function here is just telling keras that I'm doing binary classification so that it can use the appropriate loss function accordingly. If we were predicting non-binary categories we might assign something like `categorical_crossentropy`. We're also telling keras that we want it to report model accuracy as our main error metric for each epoch. We will also be able to see the overall accuracy once the model has finished training.\n",
    "\n",
    "#### Adam Optimizer\n",
    "Check out this links for more background on the Adam optimizer and Stohastic Gradient Descent\n",
    "* [Adam Optimization Algorithm](https://machinelearningmastery.com/adam-optimization-algorithm-for-deep-learning/)\n",
    "* [Adam Optimizer - original paper](https://arxiv.org/abs/1412.6980)"
   ]
  },
  {
   "cell_type": "code",
   "execution_count": 10,
   "metadata": {
    "colab": {},
    "colab_type": "code",
    "id": "qp6xwYaqurRO"
   },
   "outputs": [],
   "source": [
    "model.compile(loss='categorical_crossentropy', optimizer='adam', metrics=['accuracy'])"
   ]
  },
  {
   "cell_type": "markdown",
   "metadata": {
    "colab_type": "text",
    "id": "5dW8SZ2Ls9SX",
    "toc-hr-collapsed": false
   },
   "source": [
    "### Fit Model\n",
    "\n",
    "Lets train it up! `model.fit()` has a `batch_size` parameter that we can use if we want to do mini-batch epochs, but since this tabular dataset is pretty small we're just going to delete that parameter. Keras' default `batch_size` is `None` so omiting it will tell Keras to do batch epochs."
   ]
  },
  {
   "cell_type": "code",
   "execution_count": 14,
   "metadata": {},
   "outputs": [
    {
     "name": "stdout",
     "output_type": "stream",
     "text": [
      "Train on 60000 samples\n",
      "Epoch 1/10\n",
      "60000/60000 [==============================] - 1s 23us/sample - loss: 0.9538 - accuracy: 0.8279\n",
      "Epoch 2/10\n",
      "60000/60000 [==============================] - 2s 25us/sample - loss: 0.9022 - accuracy: 0.8329\n",
      "Epoch 3/10\n",
      "60000/60000 [==============================] - 1s 23us/sample - loss: 0.8571 - accuracy: 0.8376\n",
      "Epoch 4/10\n",
      "60000/60000 [==============================] - 1s 22us/sample - loss: 0.8174 - accuracy: 0.8426\n",
      "Epoch 5/10\n",
      "60000/60000 [==============================] - 1s 23us/sample - loss: 0.7825 - accuracy: 0.8466\n",
      "Epoch 6/10\n",
      "60000/60000 [==============================] - 2s 25us/sample - loss: 0.7514 - accuracy: 0.8500\n",
      "Epoch 7/10\n",
      "60000/60000 [==============================] - 1s 24us/sample - loss: 0.7238 - accuracy: 0.8529\n",
      "Epoch 8/10\n",
      "60000/60000 [==============================] - 1s 23us/sample - loss: 0.6990 - accuracy: 0.8557\n",
      "Epoch 9/10\n",
      "60000/60000 [==============================] - 1s 23us/sample - loss: 0.6768 - accuracy: 0.8582\n",
      "Epoch 10/10\n",
      "60000/60000 [==============================] - 1s 22us/sample - loss: 0.6567 - accuracy: 0.8604\n"
     ]
    },
    {
     "data": {
      "text/plain": [
       "<tensorflow.python.keras.callbacks.History at 0x7f9c8100bd10>"
      ]
     },
     "execution_count": 14,
     "metadata": {},
     "output_type": "execute_result"
    }
   ],
   "source": [
    "model.fit(X_train, y_train, epochs=10)"
   ]
  },
  {
   "cell_type": "markdown",
   "metadata": {},
   "source": [
    "### Evaluate Model"
   ]
  },
  {
   "cell_type": "code",
   "execution_count": 12,
   "metadata": {},
   "outputs": [
    {
     "name": "stdout",
     "output_type": "stream",
     "text": [
      "10000/10000 [==============================] - 0s 21us/sample - loss: 0.9627 - accuracy: 0.8367\n",
      "\n",
      "\n",
      "Validation Data Metrics:\n",
      "loss: 0.9627341601371765\n",
      "accuracy: 83.67000222206116\n"
     ]
    }
   ],
   "source": [
    "scores = model.evaluate(X_test,y_test)\n",
    "print(\"\\n\")\n",
    "print(\"Validation Data Metrics:\")\n",
    "print(f\"{model.metrics_names[0]}: {scores[0]}\")\n",
    "print(f\"{model.metrics_names[1]}: {scores[1]*100}\")"
   ]
  },
  {
   "cell_type": "markdown",
   "metadata": {
    "colab_type": "text",
    "id": "zHYB7k9q3O8T"
   },
   "source": [
    "### Unstable Results\n",
    "\n",
    "You'll notice that if we rerun the results might differ from the origin run. This can be explain by a bunch of factors. Check out some of them in this article: \n",
    "\n",
    "<https://machinelearningmastery.com/randomness-in-machine-learning/>"
   ]
  },
  {
   "cell_type": "markdown",
   "metadata": {},
   "source": [
    "## Challenge\n",
    "\n",
    "You will be expected to leverage the Keras `Sequential` api to estimate a feed forward neural networks on a dataset.\n",
    "\n",
    "---"
   ]
  }
 ],
 "metadata": {
  "kernelspec": {
   "display_name": "U4-S2-NNF (Python 3.7)",
   "language": "python",
   "name": "u4-s2-nnf"
  },
  "language_info": {
   "codemirror_mode": {
    "name": "ipython",
    "version": 3
   },
   "file_extension": ".py",
   "mimetype": "text/x-python",
   "name": "python",
   "nbconvert_exporter": "python",
   "pygments_lexer": "ipython3",
   "version": "3.7.3"
  }
 },
 "nbformat": 4,
 "nbformat_minor": 4
}
>>>>>>> upstream/master
