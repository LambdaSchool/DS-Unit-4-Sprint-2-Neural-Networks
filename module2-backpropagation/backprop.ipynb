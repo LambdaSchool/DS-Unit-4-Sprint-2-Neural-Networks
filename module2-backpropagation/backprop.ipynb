{
 "cells": [
  {
   "cell_type": "code",
   "execution_count": 1,
   "metadata": {},
   "outputs": [],
   "source": [
    "import numpy as np"
   ]
  },
  {
   "cell_type": "code",
   "execution_count": 39,
   "metadata": {},
   "outputs": [],
   "source": [
    "# fake data\n",
    "def fake(): \n",
    "    X = np.array([[1,9],[1,5],[3,6]], dtype=float)\n",
    "    y = np.array([[92], [86], [89]], dtype=float)\n",
    "    return X/np.amax(X, axis=0), y/100\n",
    "\n",
    "def squish(x: np.number) -> np.number: \n",
    "    return np.divide(1, 1 + np.exp(-x))\n",
    "\n",
    "def del_squish(x: np.number) -> np.number: \n",
    "    s = squish(x)\n",
    "    return s * (1 - s)\n",
    "\n",
    "X, y = fake()"
   ]
  },
  {
   "cell_type": "code",
   "execution_count": 49,
   "metadata": {},
   "outputs": [
    {
     "data": {
      "text/plain": [
       "(array([[ 0.04151353, -0.02174404, -0.00131355],\n",
       "        [ 0.03634194, -0.01903525, -0.00114992],\n",
       "        [ 0.03861174, -0.02022413, -0.00122174]]),\n",
       " array([[ 0.06456357, -0.03381723, -0.00204289],\n",
       "        [ 0.08744466, -0.04580193, -0.00276689]]),\n",
       " array([[0.40561474],\n",
       "        [0.4054553 ],\n",
       "        [0.4056714 ]]))"
      ]
     },
     "execution_count": 49,
     "metadata": {},
     "output_type": "execute_result"
    }
   ],
   "source": [
    "class NeuralNetwork: \n",
    "    def __init__(self, X, y): \n",
    "        self.X = X\n",
    "        self.y = y\n",
    "        self.inputs = X.shape[1]\n",
    "        self.hidden_1 = 3\n",
    "        self.hidden_2 = 3\n",
    "        self.output_nodes = 1\n",
    "        # init weights: \n",
    "        self.L1_weights = np.random.randn(self.inputs, self.hidden_1)\n",
    "        self.L2_weights = np.random.randn(self.hidden_1, self.hidden_2)\n",
    "        self.L3_weights = np.random.randn(self.hidden_2, self.output_nodes)\n",
    "        self.predictions = self.feed_forward()\n",
    "        \n",
    "    def feed_forward(self): \n",
    "        hidden_sum_1 = self.X @ self.L1_weights\n",
    "        self.activated_hidden_1 = squish(hidden_sum_1)\n",
    "        hidden_sum_2 = self.activated_hidden_1 @ self.L2_weights\n",
    "        self.activated_hidden_2 = squish(hidden_sum_2)\n",
    "        hidden_sum_3 = self.activated_hidden_2 @ self.L3_weights\n",
    "        self.activated_hidden_3 = squish(hidden_sum_3)\n",
    "        return self.activated_hidden_3\n",
    "\n",
    "    def loss(self): \n",
    "        n = len(self.y)\n",
    "        assert len(self.predictions)==n\n",
    "        return np.divide(sum([Y**2 for Y in self.predictions - self.y]), n)\n",
    "    \n",
    "    def back(self): \n",
    "        ''' will modify values of Lk_weights '''\n",
    "        output_error = self.predictions - self.y\n",
    "        del_output_error = output_error * del_squish(self.predictions) # ??????? \n",
    "        \n",
    "        s3_error = del_output_error @ self.L3_weights.T\n",
    "        del_s3_error = s3_error * del_squish(self.activated_hidden_3)\n",
    "        \n",
    "        s2_error = del_s3_error @ self.L2_weights.T\n",
    "        del_s2_error = s2_error * del_squish(self.activated_hidden_2)\n",
    "        \n",
    "        s1_error = del_s2_error @ self.L1_weights.T\n",
    "        del_s1_error = s1_error * del_squish(self.activated_hidden_1)\n",
    "        \n",
    "        self.L1_weights = X.T @ del_s3_error\n",
    "        self.L2_weights = \n",
    "        \n",
    "        return del_s3_error\n",
    "    \n",
    "NN = NeuralNetwork(X,y)\n",
    "\n",
    "NN.back(), NN.L1_weights"
   ]
  },
  {
   "cell_type": "code",
   "execution_count": null,
   "metadata": {},
   "outputs": [],
   "source": []
  },
  {
   "cell_type": "code",
   "execution_count": null,
   "metadata": {},
   "outputs": [],
   "source": []
  },
  {
   "cell_type": "code",
   "execution_count": null,
   "metadata": {},
   "outputs": [],
   "source": []
  },
  {
   "cell_type": "code",
   "execution_count": null,
   "metadata": {},
   "outputs": [],
   "source": []
  }
 ],
 "metadata": {
  "kernelspec": {
   "display_name": "Python 3",
   "language": "python",
   "name": "python3"
  },
  "language_info": {
   "codemirror_mode": {
    "name": "ipython",
    "version": 3
   },
   "file_extension": ".py",
   "mimetype": "text/x-python",
   "name": "python",
   "nbconvert_exporter": "python",
   "pygments_lexer": "ipython3",
   "version": "3.6.6"
  }
 },
 "nbformat": 4,
 "nbformat_minor": 2
}
