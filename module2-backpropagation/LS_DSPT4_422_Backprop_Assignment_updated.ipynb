{
 "cells": [
  {
   "cell_type": "markdown",
   "metadata": {
    "toc": true
   },
   "source": [
    "<h1>Table of Contents<span class=\"tocSkip\"></span></h1>\n",
    "<div class=\"toc\"><ul class=\"toc-item\"><li><span><a href=\"#Backpropagation-Practice\" data-toc-modified-id=\"Backpropagation-Practice-1\"><span class=\"toc-item-num\">1&nbsp;&nbsp;</span>Backpropagation Practice</a></span><ul class=\"toc-item\"><li><span><a href=\"#Data-Science-Unit-4-Sprint-2-Assignment-2\" data-toc-modified-id=\"Data-Science-Unit-4-Sprint-2-Assignment-2-1.1\"><span class=\"toc-item-num\">1.1&nbsp;&nbsp;</span><em>Data Science Unit 4 Sprint 2 Assignment 2</em></a></span></li><li><span><a href=\"#Try-building/training-a-more-complex-MLP-on-a-bigger-dataset.\" data-toc-modified-id=\"Try-building/training-a-more-complex-MLP-on-a-bigger-dataset.-1.2\"><span class=\"toc-item-num\">1.2&nbsp;&nbsp;</span>Try building/training a more complex MLP on a bigger dataset.</a></span></li><li><span><a href=\"#Stretch-Goals:\" data-toc-modified-id=\"Stretch-Goals:-1.3\"><span class=\"toc-item-num\">1.3&nbsp;&nbsp;</span>Stretch Goals:</a></span></li></ul></li></ul></div>"
   ]
  },
  {
   "cell_type": "markdown",
   "metadata": {
    "colab_type": "text",
    "id": "NGGrt9EYlCqY"
   },
   "source": [
    "<img align=\"left\" src=\"https://lever-client-logos.s3.amazonaws.com/864372b1-534c-480e-acd5-9711f850815c-1524247202159.png\" width=200>\n",
    "<br></br>\n",
    "\n",
    "# Backpropagation Practice\n",
    "\n",
    "## *Data Science Unit 4 Sprint 2 Assignment 2*\n",
    "\n",
    "Implement a 3 input, 4 node hidden-layer, 1 output node Multilayer Perceptron on the following dataset:\n",
    "\n",
    "| x1 | x2 | x3 | y |\n",
    "|----|----|----|---|\n",
    "| 0  | 0  | 1  | 0 |\n",
    "| 0  | 1  | 1  | 1 |\n",
    "| 1  | 0  | 1  | 1 |\n",
    "| 0  | 1  | 0  | 1 |\n",
    "| 1  | 0  | 0  | 1 |\n",
    "| 1  | 1  | 1  | 0 |\n",
    "| 0  | 0  | 0  | 0 |\n",
    "\n",
    "If you look at the data you'll notice that the first two columns behave like an XOR gate while the last column is mostly just noise. Remember that creating an XOR gate was what the perceptron was criticized for not being able to learn. "
   ]
  },
  {
   "cell_type": "code",
   "execution_count": 1,
   "metadata": {
    "colab": {},
    "colab_type": "code",
    "id": "nEREYT-3wI1f"
   },
   "outputs": [],
   "source": [
    "# doing some imports\n",
    "import numpy as np\n",
    "import pandas as pd"
   ]
  },
  {
   "cell_type": "code",
   "execution_count": 2,
   "metadata": {},
   "outputs": [
    {
     "output_type": "execute_result",
     "data": {
      "text/plain": "   x1  x2  x3  y\n0   0   0   1  0\n1   0   1   1  1\n2   1   0   1  1\n3   0   1   0  1\n4   1   0   0  1\n5   1   1   1  0\n6   0   0   0  0",
      "text/html": "<div>\n<style scoped>\n    .dataframe tbody tr th:only-of-type {\n        vertical-align: middle;\n    }\n\n    .dataframe tbody tr th {\n        vertical-align: top;\n    }\n\n    .dataframe thead th {\n        text-align: right;\n    }\n</style>\n<table border=\"1\" class=\"dataframe\">\n  <thead>\n    <tr style=\"text-align: right;\">\n      <th></th>\n      <th>x1</th>\n      <th>x2</th>\n      <th>x3</th>\n      <th>y</th>\n    </tr>\n  </thead>\n  <tbody>\n    <tr>\n      <td>0</td>\n      <td>0</td>\n      <td>0</td>\n      <td>1</td>\n      <td>0</td>\n    </tr>\n    <tr>\n      <td>1</td>\n      <td>0</td>\n      <td>1</td>\n      <td>1</td>\n      <td>1</td>\n    </tr>\n    <tr>\n      <td>2</td>\n      <td>1</td>\n      <td>0</td>\n      <td>1</td>\n      <td>1</td>\n    </tr>\n    <tr>\n      <td>3</td>\n      <td>0</td>\n      <td>1</td>\n      <td>0</td>\n      <td>1</td>\n    </tr>\n    <tr>\n      <td>4</td>\n      <td>1</td>\n      <td>0</td>\n      <td>0</td>\n      <td>1</td>\n    </tr>\n    <tr>\n      <td>5</td>\n      <td>1</td>\n      <td>1</td>\n      <td>1</td>\n      <td>0</td>\n    </tr>\n    <tr>\n      <td>6</td>\n      <td>0</td>\n      <td>0</td>\n      <td>0</td>\n      <td>0</td>\n    </tr>\n  </tbody>\n</table>\n</div>"
     },
     "metadata": {},
     "execution_count": 2
    }
   ],
   "source": [
    "np.random.seed(42)\n",
    "\n",
    "# creating the df\n",
    "df = pd.DataFrame({\"x1\": [0,0,1,0,1,1,0], \"x2\": [0,1,0,1,0,1,0], \"x3\": [1,1,1,0,0,1,0], \"y\": [0,1,1,1,1,0,0]})\n",
    "\n",
    "df"
   ]
  },
  {
   "cell_type": "code",
   "execution_count": 3,
   "metadata": {},
   "outputs": [
    {
     "output_type": "execute_result",
     "data": {
      "text/plain": "((7, 3), (7,))"
     },
     "metadata": {},
     "execution_count": 3
    }
   ],
   "source": [
    "# Doing normalization\n",
    "X = df[[\"x1\", \"x2\", \"x3\"]]\n",
    "y = df[\"y\"]\n",
    "\n",
    "X.shape, y.shape"
   ]
  },
  {
   "cell_type": "code",
   "execution_count": 4,
   "metadata": {},
   "outputs": [],
   "source": [
    "# Creating my class for the multilayered percetron\n",
    "\n",
    "class Network:\n",
    "\n",
    "    def __init__(self, inputs=3, hidden=4, output=1):\n",
    "        # setting up the architecture\n",
    "        self.inputs = inputs\n",
    "        self.hidden = hidden\n",
    "        self.output = output\n",
    "\n",
    "        # Will initialize the weights randomly\n",
    "        self.weights1 = np.random.randn(self.inputs, self.hidden)\n",
    "        self.weights2 = np.random.randn(self.hidden, self.output)\n",
    "\n",
    "    # doing the sigmoid function \n",
    "    def __sigmoid(self, x):\n",
    "        return 1/(1 + np.exp(-x))\n",
    "\n",
    "    # doing the feedforward\n",
    "    def feedforward(self, X):\n",
    "\n",
    "        # creating the sums for the specific nodes\n",
    "        self.hidden_sum = np.dot(X, self.weights1)\n",
    "\n",
    "        self.activated_hidden = self.__sigmoid(self.hidden_sum)\n",
    "        # now sending to the  output\n",
    "        self.output_sum = np.dot(self.activated_hidden, self.weights2)\n",
    "        # do the acitivation for the output layer\n",
    "        self.activated_output = self.__sigmoid(self.output_sum)\n",
    "\n",
    "        return self.activated_output\n",
    "\n"
   ]
  },
  {
   "cell_type": "code",
   "execution_count": 5,
   "metadata": {},
   "outputs": [
    {
     "output_type": "execute_result",
     "data": {
      "text/plain": "x1    0\nx2    0\nx3    1\nName: 0, dtype: int64"
     },
     "metadata": {},
     "execution_count": 5
    }
   ],
   "source": [
    "X.iloc[0]"
   ]
  },
  {
   "cell_type": "code",
   "execution_count": 6,
   "metadata": {},
   "outputs": [
    {
     "output_type": "stream",
     "name": "stdout",
     "text": "correct was  0\nguess was  [0.11922027]\n"
    }
   ],
   "source": [
    "# trying a prediction with just the feed forward\n",
    "net = Network()\n",
    "output = net.feedforward(X.iloc[0])\n",
    "print(\"correct was \", y.iloc[0])\n",
    "print(\"guess was \", output)"
   ]
  },
  {
   "cell_type": "code",
   "execution_count": 52,
   "metadata": {},
   "outputs": [],
   "source": [
    "# Creating my class for the multilayered percetron\n",
    "\n",
    "class Network:\n",
    "\n",
    "    def __init__(self, inputs=3, hidden=4, output=1):\n",
    "        # setting up the architecture\n",
    "        self.inputs = inputs\n",
    "        self.hidden = hidden\n",
    "        self.output = output\n",
    "\n",
    "        # Will initialize the weights randomly\n",
    "        self.weights1 = np.random.randn(self.inputs, self.hidden)\n",
    "        self.weights2 = np.random.randn(self.hidden, self.output)\n",
    "\n",
    "    # doing the sigmoid function \n",
    "    def __sigmoid(self, x):\n",
    "        return 1/(1 + np.exp(-x))\n",
    "\n",
    "    # the sigmoid prime or derivitive method\n",
    "    def __sigmoidPrime(self, x):\n",
    "        sig = self.__sigmoid(x)\n",
    "        return sig * (1 - sig)\n",
    "\n",
    "    # making a function that will make the y the same shape as the 0\n",
    "    def __make_right_shape(self, o, y):\n",
    "        if o.shape != y.shape:\n",
    "            # turning the y into a numpy array\n",
    "            numpy_y = np.array(y)\n",
    "            newShape = np.reshape(numpy_y, o.shape)\n",
    "            return newShape\n",
    "        else:\n",
    "            return y\n",
    "        \n",
    "\n",
    "    # function to change the output to a whole number (1 or 0)\n",
    "    def change_to_whole_num(self, output):\n",
    "        #min = a if a < b else b \n",
    "        #output = 1 if output > .5 else 0 \n",
    "        theList = []\n",
    "        for val in output:\n",
    "            if val < .5:\n",
    "                theList.append(0)\n",
    "            else:\n",
    "                theList.append(1)\n",
    "        return theList\n",
    "            \n",
    "\n",
    "    # doing the feedforward\n",
    "    def feedforward(self, X):\n",
    "\n",
    "        # creating the sums for the specific nodes\n",
    "        self.hidden_sum = np.dot(X, self.weights1)\n",
    "\n",
    "        self.activated_hidden = self.__sigmoid(self.hidden_sum)\n",
    "        # now sending to the  output\n",
    "        self.output_sum = np.dot(self.activated_hidden, self.weights2)\n",
    "        # do the acitivation for the output layer\n",
    "        self.activated_output = self.__sigmoid(self.output_sum)\n",
    "\n",
    "        return self.activated_output\n",
    "\n",
    "    # doing some more methods\n",
    "    def backprop(self, X, y, o):\n",
    "        #breakpoint()\n",
    "\n",
    "        # making sure the shape is the right shape\n",
    "        y = self.__make_right_shape(o, y)\n",
    "\n",
    "        self.o_error = y - o\n",
    "\n",
    "        # Apply derivative of sigmoid to the  error \n",
    "        # to find the amount to adjust\n",
    "        self.o_delta = self.o_error * self.__sigmoidPrime(self.output_sum)\n",
    "\n",
    "        self.z2_error = self.o_delta.dot(self.weights2.T)\n",
    "\n",
    "        # getting the z2 delta\n",
    "        self.z2_delta = self.z2_error * self.__sigmoidPrime(self.hidden_sum)\n",
    "\n",
    "        self.weights1 = self.weights1 + X.T.dot(self.z2_delta)\n",
    "        self.weights2 = self.weights2 + self.activated_hidden.T.dot(self.o_delta)\n",
    "    \n",
    "    # run Epoch\n",
    "    def __run_epoch_W_back_prop(self, X, y):\n",
    "        output = self.feedforward(X)\n",
    "        self.backprop(X,y, output)\n",
    "    # building the function that will do the training for the neural network\n",
    "\n",
    "    def  train(self, X, y, numEpoch=10000):\n",
    "        for i in range(numEpoch):\n",
    "            self.__run_epoch_W_back_prop(X,y)\n",
    "\n",
    "    def predict(self, x, make_whole=True):\n",
    "        # to do the prediction we wil do feedforward for what is passed \n",
    "        # in using the weghts that are now stored\n",
    "        output = self.feedforward(x)\n",
    "        if make_whole == True:\n",
    "            output = self.change_to_whole_num(output)\n",
    "        return output"
   ]
  },
  {
   "cell_type": "code",
   "execution_count": 53,
   "metadata": {},
   "outputs": [],
   "source": [
    "# Trying the class to see how it is working\n",
    "\n",
    "n = Network()\n"
   ]
  },
  {
   "cell_type": "code",
   "execution_count": 54,
   "metadata": {},
   "outputs": [],
   "source": [
    "n.train(X, y)"
   ]
  },
  {
   "cell_type": "code",
   "execution_count": 56,
   "metadata": {},
   "outputs": [
    {
     "output_type": "execute_result",
     "data": {
      "text/plain": "array([[0.00110028],\n       [0.98975404],\n       [0.99054681],\n       [0.9885931 ],\n       [0.98853537],\n       [0.01374017],\n       [0.0164758 ]])"
     },
     "metadata": {},
     "execution_count": 56
    }
   ],
   "source": [
    "# Running the predict function\n",
    "output = n.predict(X, make_whole=False)\n",
    "output"
   ]
  },
  {
   "cell_type": "code",
   "execution_count": 57,
   "metadata": {},
   "outputs": [
    {
     "output_type": "execute_result",
     "data": {
      "text/plain": "[0, 1, 1, 1, 1, 0, 0]"
     },
     "metadata": {},
     "execution_count": 57
    }
   ],
   "source": [
    "# Running it with the whole number predictions\n",
    "output = n.predict(X)\n",
    "output"
   ]
  },
  {
   "cell_type": "code",
   "execution_count": 3,
   "metadata": {},
   "outputs": [
    {
     "output_type": "execute_result",
     "data": {
      "text/plain": "'2.0.0'"
     },
     "metadata": {},
     "execution_count": 3
    }
   ],
   "source": [
    "import tensorflow as tf\n",
    "tf.__version__"
   ]
  },
  {
   "cell_type": "code",
   "execution_count": 1,
   "metadata": {
    "tags": [
     "outputPrepend"
    ]
   },
   "outputs": [],
   "source": [
    "import numbers as np\n",
    "# Doing the same thing but now with Tensor Flow\n",
    "from tensorflow.keras.models import Sequential\n",
    "from tensorflow.keras.layers import Dense"
   ]
  },
  {
   "cell_type": "markdown",
   "metadata": {
    "colab_type": "text",
    "id": "8b-r70o8p2Dm"
   },
   "source": [
    "## Try building/training a more complex MLP on a bigger dataset.\n",
    "\n",
    "Use the [MNIST dataset](http://yann.lecun.com/exdb/mnist/) to build the cannonical handwriting digit recognizer and see what kind of accuracy you can achieve. \n",
    "\n",
    "If you need inspiration, the internet is chalk-full of tutorials, but I want you to see how far you can get on your own first. I've linked to the original MNIST dataset above but it will probably be easier to download data through a neural network library. If you reference outside resources make sure you understand every line of code that you're using from other sources, and share with your fellow students helpful resources that you find.\n"
   ]
  },
  {
   "cell_type": "code",
   "execution_count": null,
   "metadata": {
    "colab": {},
    "colab_type": "code",
    "id": "5MOPtYdk1HgA"
   },
   "outputs": [],
   "source": [
    "##### Your Code Here #####"
   ]
  },
  {
   "cell_type": "markdown",
   "metadata": {
    "colab_type": "text",
    "id": "FwlRJSfBlCvy"
   },
   "source": [
    "## Stretch Goals: \n",
    "\n",
    "- Implement Cross Validation model evaluation on your MNIST implementation \n",
    "- Research different [Gradient Descent Based Optimizers](https://keras.io/optimizers/)\n",
    " - [Siraj Raval the evolution of gradient descent](https://www.youtube.com/watch?v=nhqo0u1a6fw)\n",
    "- Build a housing price estimation model using a neural network. How does its accuracy compare with the regression models that we fit earlier on in class?"
   ]
  }
 ],
 "metadata": {
  "colab": {
   "name": "LS_DS_432_Backprop_Assignment.ipynb",
   "provenance": []
  },
  "kernelspec": {
   "display_name": "Python 3.7.0 64-bit ('lam4-nnf-s2': conda)",
   "language": "python",
   "name": "python37064bitlam4nnfs2condaa223e28e4e5343f49ecebf6cc0bb1d2c"
  },
  "language_info": {
   "codemirror_mode": {
    "name": "ipython",
    "version": 3
   },
   "file_extension": ".py",
   "mimetype": "text/x-python",
   "name": "python",
   "nbconvert_exporter": "python",
   "pygments_lexer": "ipython3",
   "version": "3.7.0-final"
  },
  "toc": {
   "base_numbering": 1,
   "nav_menu": {},
   "number_sections": true,
   "sideBar": true,
   "skip_h1_title": false,
   "title_cell": "Table of Contents",
   "title_sidebar": "Contents",
   "toc_cell": true,
   "toc_position": {},
   "toc_section_display": true,
   "toc_window_display": false
  }
 },
 "nbformat": 4,
 "nbformat_minor": 4
}