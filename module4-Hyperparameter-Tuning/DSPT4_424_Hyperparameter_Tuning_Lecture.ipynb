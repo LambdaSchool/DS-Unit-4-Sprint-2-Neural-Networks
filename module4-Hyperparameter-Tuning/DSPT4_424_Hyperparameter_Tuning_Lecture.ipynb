{
  "nbformat": 4,
  "nbformat_minor": 0,
  "metadata": {
    "kernelspec": {
      "name": "python3",
      "display_name": "Python 3"
    },
    "colab": {
      "name": "DSPT4_424_Hyperparameter_Tuning_Lecture.ipynb",
      "provenance": [],
      "collapsed_sections": [],
      "include_colab_link": true
    },
    "accelerator": "GPU"
  },
  "cells": [
    {
      "cell_type": "markdown",
      "metadata": {
        "id": "view-in-github",
        "colab_type": "text"
      },
      "source": [
        "<a href=\"https://colab.research.google.com/github/andrewwhite5/DS-Unit-4-Sprint-2-Neural-Networks/blob/master/module4-Hyperparameter-Tuning/DSPT4_424_Hyperparameter_Tuning_Lecture.ipynb\" target=\"_parent\"><img src=\"https://colab.research.google.com/assets/colab-badge.svg\" alt=\"Open In Colab\"/></a>"
      ]
    },
    {
      "cell_type": "markdown",
      "metadata": {
        "colab_type": "text",
        "id": "41TS0Sa0rDNx"
      },
      "source": [
        "Lambda School Data Science\n",
        "\n",
        "*Unit 4, Sprint 2, Module 4*\n",
        "\n",
        "---"
      ]
    },
    {
      "cell_type": "markdown",
      "metadata": {
        "colab_type": "text",
        "id": "5i1SHgOuyytz"
      },
      "source": [
        "# Neural Networks & GPUs (Prepare)\n",
        "*aka Hyperparameter Tuning*\n",
        "\n",
        "*aka Big Servers for Big Problems*"
      ]
    },
    {
      "cell_type": "markdown",
      "metadata": {
        "colab_type": "text",
        "id": "N0AhmEvdyyt0"
      },
      "source": [
        "## Learning Objectives\n",
        "* <a href=\"#p1\">Part 1</a>: Describe the major hyperparemeters to tune\n",
        "* <a href=\"#p2\">Part 2</a>: Implement an experiment tracking framework\n",
        "* <a href=\"#p3\">Part 3</a>: Search the hyperparameter space using RandomSearch (Optional)"
      ]
    },
    {
      "cell_type": "code",
      "metadata": {
        "id": "N39NgMlPyyt0",
        "colab_type": "code",
        "colab": {}
      },
      "source": [
        "wandb_group = \"bjanota\"\n",
        "wandb_project = \"dspt4_inclass\""
      ],
      "execution_count": 0,
      "outputs": []
    },
    {
      "cell_type": "code",
      "metadata": {
        "id": "Ry-c9m93z2so",
        "colab_type": "code",
        "outputId": "4b7845fb-f51a-475f-a62e-b3f81342f819",
        "colab": {
          "base_uri": "https://localhost:8080/",
          "height": 1000
        }
      },
      "source": [
        "!pip install wandb"
      ],
      "execution_count": 0,
      "outputs": [
        {
          "output_type": "stream",
          "text": [
            "Collecting wandb\n",
            "\u001b[?25l  Downloading https://files.pythonhosted.org/packages/d1/c7/8bf2c62c3f133f45e135a8a116e4e0f162043248e3db54de30996eaf1a8a/wandb-0.8.36-py2.py3-none-any.whl (1.4MB)\n",
            "\r\u001b[K     |▎                               | 10kB 21.6MB/s eta 0:00:01\r\u001b[K     |▌                               | 20kB 4.2MB/s eta 0:00:01\r\u001b[K     |▊                               | 30kB 6.0MB/s eta 0:00:01\r\u001b[K     |█                               | 40kB 7.5MB/s eta 0:00:01\r\u001b[K     |█▏                              | 51kB 4.9MB/s eta 0:00:01\r\u001b[K     |█▍                              | 61kB 5.8MB/s eta 0:00:01\r\u001b[K     |█▋                              | 71kB 6.6MB/s eta 0:00:01\r\u001b[K     |██                              | 81kB 7.4MB/s eta 0:00:01\r\u001b[K     |██▏                             | 92kB 5.8MB/s eta 0:00:01\r\u001b[K     |██▍                             | 102kB 6.3MB/s eta 0:00:01\r\u001b[K     |██▋                             | 112kB 6.3MB/s eta 0:00:01\r\u001b[K     |██▉                             | 122kB 6.3MB/s eta 0:00:01\r\u001b[K     |███                             | 133kB 6.3MB/s eta 0:00:01\r\u001b[K     |███▎                            | 143kB 6.3MB/s eta 0:00:01\r\u001b[K     |███▌                            | 153kB 6.3MB/s eta 0:00:01\r\u001b[K     |███▉                            | 163kB 6.3MB/s eta 0:00:01\r\u001b[K     |████                            | 174kB 6.3MB/s eta 0:00:01\r\u001b[K     |████▎                           | 184kB 6.3MB/s eta 0:00:01\r\u001b[K     |████▌                           | 194kB 6.3MB/s eta 0:00:01\r\u001b[K     |████▊                           | 204kB 6.3MB/s eta 0:00:01\r\u001b[K     |█████                           | 215kB 6.3MB/s eta 0:00:01\r\u001b[K     |█████▏                          | 225kB 6.3MB/s eta 0:00:01\r\u001b[K     |█████▍                          | 235kB 6.3MB/s eta 0:00:01\r\u001b[K     |█████▊                          | 245kB 6.3MB/s eta 0:00:01\r\u001b[K     |██████                          | 256kB 6.3MB/s eta 0:00:01\r\u001b[K     |██████▏                         | 266kB 6.3MB/s eta 0:00:01\r\u001b[K     |██████▍                         | 276kB 6.3MB/s eta 0:00:01\r\u001b[K     |██████▋                         | 286kB 6.3MB/s eta 0:00:01\r\u001b[K     |██████▉                         | 296kB 6.3MB/s eta 0:00:01\r\u001b[K     |███████                         | 307kB 6.3MB/s eta 0:00:01\r\u001b[K     |███████▍                        | 317kB 6.3MB/s eta 0:00:01\r\u001b[K     |███████▋                        | 327kB 6.3MB/s eta 0:00:01\r\u001b[K     |███████▉                        | 337kB 6.3MB/s eta 0:00:01\r\u001b[K     |████████                        | 348kB 6.3MB/s eta 0:00:01\r\u001b[K     |████████▎                       | 358kB 6.3MB/s eta 0:00:01\r\u001b[K     |████████▌                       | 368kB 6.3MB/s eta 0:00:01\r\u001b[K     |████████▊                       | 378kB 6.3MB/s eta 0:00:01\r\u001b[K     |█████████                       | 389kB 6.3MB/s eta 0:00:01\r\u001b[K     |█████████▎                      | 399kB 6.3MB/s eta 0:00:01\r\u001b[K     |█████████▌                      | 409kB 6.3MB/s eta 0:00:01\r\u001b[K     |█████████▊                      | 419kB 6.3MB/s eta 0:00:01\r\u001b[K     |██████████                      | 430kB 6.3MB/s eta 0:00:01\r\u001b[K     |██████████▏                     | 440kB 6.3MB/s eta 0:00:01\r\u001b[K     |██████████▍                     | 450kB 6.3MB/s eta 0:00:01\r\u001b[K     |██████████▋                     | 460kB 6.3MB/s eta 0:00:01\r\u001b[K     |██████████▉                     | 471kB 6.3MB/s eta 0:00:01\r\u001b[K     |███████████▏                    | 481kB 6.3MB/s eta 0:00:01\r\u001b[K     |███████████▍                    | 491kB 6.3MB/s eta 0:00:01\r\u001b[K     |███████████▋                    | 501kB 6.3MB/s eta 0:00:01\r\u001b[K     |███████████▉                    | 512kB 6.3MB/s eta 0:00:01\r\u001b[K     |████████████                    | 522kB 6.3MB/s eta 0:00:01\r\u001b[K     |████████████▎                   | 532kB 6.3MB/s eta 0:00:01\r\u001b[K     |████████████▌                   | 542kB 6.3MB/s eta 0:00:01\r\u001b[K     |████████████▊                   | 552kB 6.3MB/s eta 0:00:01\r\u001b[K     |█████████████                   | 563kB 6.3MB/s eta 0:00:01\r\u001b[K     |█████████████▎                  | 573kB 6.3MB/s eta 0:00:01\r\u001b[K     |█████████████▌                  | 583kB 6.3MB/s eta 0:00:01\r\u001b[K     |█████████████▊                  | 593kB 6.3MB/s eta 0:00:01\r\u001b[K     |██████████████                  | 604kB 6.3MB/s eta 0:00:01\r\u001b[K     |██████████████▏                 | 614kB 6.3MB/s eta 0:00:01\r\u001b[K     |██████████████▍                 | 624kB 6.3MB/s eta 0:00:01\r\u001b[K     |██████████████▊                 | 634kB 6.3MB/s eta 0:00:01\r\u001b[K     |███████████████                 | 645kB 6.3MB/s eta 0:00:01\r\u001b[K     |███████████████▏                | 655kB 6.3MB/s eta 0:00:01\r\u001b[K     |███████████████▍                | 665kB 6.3MB/s eta 0:00:01\r\u001b[K     |███████████████▋                | 675kB 6.3MB/s eta 0:00:01\r\u001b[K     |███████████████▉                | 686kB 6.3MB/s eta 0:00:01\r\u001b[K     |████████████████                | 696kB 6.3MB/s eta 0:00:01\r\u001b[K     |████████████████▎               | 706kB 6.3MB/s eta 0:00:01\r\u001b[K     |████████████████▋               | 716kB 6.3MB/s eta 0:00:01\r\u001b[K     |████████████████▉               | 727kB 6.3MB/s eta 0:00:01\r\u001b[K     |█████████████████               | 737kB 6.3MB/s eta 0:00:01\r\u001b[K     |█████████████████▎              | 747kB 6.3MB/s eta 0:00:01\r\u001b[K     |█████████████████▌              | 757kB 6.3MB/s eta 0:00:01\r\u001b[K     |█████████████████▊              | 768kB 6.3MB/s eta 0:00:01\r\u001b[K     |██████████████████              | 778kB 6.3MB/s eta 0:00:01\r\u001b[K     |██████████████████▏             | 788kB 6.3MB/s eta 0:00:01\r\u001b[K     |██████████████████▌             | 798kB 6.3MB/s eta 0:00:01\r\u001b[K     |██████████████████▊             | 808kB 6.3MB/s eta 0:00:01\r\u001b[K     |███████████████████             | 819kB 6.3MB/s eta 0:00:01\r\u001b[K     |███████████████████▏            | 829kB 6.3MB/s eta 0:00:01\r\u001b[K     |███████████████████▍            | 839kB 6.3MB/s eta 0:00:01\r\u001b[K     |███████████████████▋            | 849kB 6.3MB/s eta 0:00:01\r\u001b[K     |███████████████████▉            | 860kB 6.3MB/s eta 0:00:01\r\u001b[K     |████████████████████            | 870kB 6.3MB/s eta 0:00:01\r\u001b[K     |████████████████████▍           | 880kB 6.3MB/s eta 0:00:01\r\u001b[K     |████████████████████▋           | 890kB 6.3MB/s eta 0:00:01\r\u001b[K     |████████████████████▉           | 901kB 6.3MB/s eta 0:00:01\r\u001b[K     |█████████████████████           | 911kB 6.3MB/s eta 0:00:01\r\u001b[K     |█████████████████████▎          | 921kB 6.3MB/s eta 0:00:01\r\u001b[K     |█████████████████████▌          | 931kB 6.3MB/s eta 0:00:01\r\u001b[K     |█████████████████████▊          | 942kB 6.3MB/s eta 0:00:01\r\u001b[K     |██████████████████████          | 952kB 6.3MB/s eta 0:00:01\r\u001b[K     |██████████████████████▎         | 962kB 6.3MB/s eta 0:00:01\r\u001b[K     |██████████████████████▌         | 972kB 6.3MB/s eta 0:00:01\r\u001b[K     |██████████████████████▊         | 983kB 6.3MB/s eta 0:00:01\r\u001b[K     |███████████████████████         | 993kB 6.3MB/s eta 0:00:01\r\u001b[K     |███████████████████████▏        | 1.0MB 6.3MB/s eta 0:00:01\r\u001b[K     |███████████████████████▍        | 1.0MB 6.3MB/s eta 0:00:01\r\u001b[K     |███████████████████████▋        | 1.0MB 6.3MB/s eta 0:00:01\r\u001b[K     |████████████████████████        | 1.0MB 6.3MB/s eta 0:00:01\r\u001b[K     |████████████████████████▏       | 1.0MB 6.3MB/s eta 0:00:01\r\u001b[K     |████████████████████████▍       | 1.1MB 6.3MB/s eta 0:00:01\r\u001b[K     |████████████████████████▋       | 1.1MB 6.3MB/s eta 0:00:01\r\u001b[K     |████████████████████████▉       | 1.1MB 6.3MB/s eta 0:00:01\r\u001b[K     |█████████████████████████       | 1.1MB 6.3MB/s eta 0:00:01\r\u001b[K     |█████████████████████████▎      | 1.1MB 6.3MB/s eta 0:00:01\r\u001b[K     |█████████████████████████▌      | 1.1MB 6.3MB/s eta 0:00:01\r\u001b[K     |█████████████████████████▉      | 1.1MB 6.3MB/s eta 0:00:01\r\u001b[K     |██████████████████████████      | 1.1MB 6.3MB/s eta 0:00:01\r\u001b[K     |██████████████████████████▎     | 1.1MB 6.3MB/s eta 0:00:01\r\u001b[K     |██████████████████████████▌     | 1.1MB 6.3MB/s eta 0:00:01\r\u001b[K     |██████████████████████████▊     | 1.2MB 6.3MB/s eta 0:00:01\r\u001b[K     |███████████████████████████     | 1.2MB 6.3MB/s eta 0:00:01\r\u001b[K     |███████████████████████████▏    | 1.2MB 6.3MB/s eta 0:00:01\r\u001b[K     |███████████████████████████▍    | 1.2MB 6.3MB/s eta 0:00:01\r\u001b[K     |███████████████████████████▊    | 1.2MB 6.3MB/s eta 0:00:01\r\u001b[K     |████████████████████████████    | 1.2MB 6.3MB/s eta 0:00:01\r\u001b[K     |████████████████████████████▏   | 1.2MB 6.3MB/s eta 0:00:01\r\u001b[K     |████████████████████████████▍   | 1.2MB 6.3MB/s eta 0:00:01\r\u001b[K     |████████████████████████████▋   | 1.2MB 6.3MB/s eta 0:00:01\r\u001b[K     |████████████████████████████▉   | 1.2MB 6.3MB/s eta 0:00:01\r\u001b[K     |█████████████████████████████   | 1.3MB 6.3MB/s eta 0:00:01\r\u001b[K     |█████████████████████████████▍  | 1.3MB 6.3MB/s eta 0:00:01\r\u001b[K     |█████████████████████████████▋  | 1.3MB 6.3MB/s eta 0:00:01\r\u001b[K     |█████████████████████████████▉  | 1.3MB 6.3MB/s eta 0:00:01\r\u001b[K     |██████████████████████████████  | 1.3MB 6.3MB/s eta 0:00:01\r\u001b[K     |██████████████████████████████▎ | 1.3MB 6.3MB/s eta 0:00:01\r\u001b[K     |██████████████████████████████▌ | 1.3MB 6.3MB/s eta 0:00:01\r\u001b[K     |██████████████████████████████▊ | 1.3MB 6.3MB/s eta 0:00:01\r\u001b[K     |███████████████████████████████ | 1.3MB 6.3MB/s eta 0:00:01\r\u001b[K     |███████████████████████████████▎| 1.4MB 6.3MB/s eta 0:00:01\r\u001b[K     |███████████████████████████████▌| 1.4MB 6.3MB/s eta 0:00:01\r\u001b[K     |███████████████████████████████▊| 1.4MB 6.3MB/s eta 0:00:01\r\u001b[K     |████████████████████████████████| 1.4MB 6.3MB/s eta 0:00:01\r\u001b[K     |████████████████████████████████| 1.4MB 6.3MB/s \n",
            "\u001b[?25hCollecting configparser>=3.8.1\n",
            "  Downloading https://files.pythonhosted.org/packages/4b/6b/01baa293090240cf0562cc5eccb69c6f5006282127f2b846fad011305c79/configparser-5.0.0-py3-none-any.whl\n",
            "Requirement already satisfied: six>=1.10.0 in /usr/local/lib/python3.6/dist-packages (from wandb) (1.12.0)\n",
            "Collecting GitPython>=1.0.0\n",
            "\u001b[?25l  Downloading https://files.pythonhosted.org/packages/44/33/917e6fde1cad13daa7053f39b7c8af3be287314f75f1b1ea8d3fe37a8571/GitPython-3.1.2-py3-none-any.whl (451kB)\n",
            "\u001b[K     |████████████████████████████████| 460kB 47.4MB/s \n",
            "\u001b[?25hCollecting gql==0.2.0\n",
            "  Downloading https://files.pythonhosted.org/packages/c4/6f/cf9a3056045518f06184e804bae89390eb706168349daa9dff8ac609962a/gql-0.2.0.tar.gz\n",
            "Requirement already satisfied: python-dateutil>=2.6.1 in /usr/local/lib/python3.6/dist-packages (from wandb) (2.8.1)\n",
            "Collecting watchdog>=0.8.3\n",
            "\u001b[?25l  Downloading https://files.pythonhosted.org/packages/73/c3/ed6d992006837e011baca89476a4bbffb0a91602432f73bd4473816c76e2/watchdog-0.10.2.tar.gz (95kB)\n",
            "\u001b[K     |████████████████████████████████| 102kB 10.5MB/s \n",
            "\u001b[?25hRequirement already satisfied: psutil>=5.0.0 in /usr/local/lib/python3.6/dist-packages (from wandb) (5.4.8)\n",
            "Requirement already satisfied: nvidia-ml-py3>=7.352.0 in /usr/local/lib/python3.6/dist-packages (from wandb) (7.352.0)\n",
            "Requirement already satisfied: requests>=2.0.0 in /usr/local/lib/python3.6/dist-packages (from wandb) (2.23.0)\n",
            "Requirement already satisfied: PyYAML>=3.10 in /usr/local/lib/python3.6/dist-packages (from wandb) (3.13)\n",
            "Collecting docker-pycreds>=0.4.0\n",
            "  Downloading https://files.pythonhosted.org/packages/f5/e8/f6bd1eee09314e7e6dee49cbe2c5e22314ccdb38db16c9fc72d2fa80d054/docker_pycreds-0.4.0-py2.py3-none-any.whl\n",
            "Collecting sentry-sdk>=0.4.0\n",
            "\u001b[?25l  Downloading https://files.pythonhosted.org/packages/1b/95/9a20eebcedab2c1c63fad59fe19a0469edfc2a25b8576497e8084629c2ff/sentry_sdk-0.14.4-py2.py3-none-any.whl (104kB)\n",
            "\u001b[K     |████████████████████████████████| 112kB 48.5MB/s \n",
            "\u001b[?25hRequirement already satisfied: Click>=7.0 in /usr/local/lib/python3.6/dist-packages (from wandb) (7.1.2)\n",
            "Collecting subprocess32>=3.5.3\n",
            "\u001b[?25l  Downloading https://files.pythonhosted.org/packages/32/c8/564be4d12629b912ea431f1a50eb8b3b9d00f1a0b1ceff17f266be190007/subprocess32-3.5.4.tar.gz (97kB)\n",
            "\u001b[K     |████████████████████████████████| 102kB 11.7MB/s \n",
            "\u001b[?25hCollecting shortuuid>=0.5.0\n",
            "  Downloading https://files.pythonhosted.org/packages/25/a6/2ecc1daa6a304e7f1b216f0896b26156b78e7c38e1211e9b798b4716c53d/shortuuid-1.0.1-py3-none-any.whl\n",
            "Collecting gitdb<5,>=4.0.1\n",
            "\u001b[?25l  Downloading https://files.pythonhosted.org/packages/48/11/d1800bca0a3bae820b84b7d813ad1eff15a48a64caea9c823fc8c1b119e8/gitdb-4.0.5-py3-none-any.whl (63kB)\n",
            "\u001b[K     |████████████████████████████████| 71kB 8.6MB/s \n",
            "\u001b[?25hCollecting graphql-core<2,>=0.5.0\n",
            "\u001b[?25l  Downloading https://files.pythonhosted.org/packages/b0/89/00ad5e07524d8c523b14d70c685e0299a8b0de6d0727e368c41b89b7ed0b/graphql-core-1.1.tar.gz (70kB)\n",
            "\u001b[K     |████████████████████████████████| 71kB 8.5MB/s \n",
            "\u001b[?25hRequirement already satisfied: promise<3,>=2.0 in /usr/local/lib/python3.6/dist-packages (from gql==0.2.0->wandb) (2.3)\n",
            "Collecting pathtools>=0.1.1\n",
            "  Downloading https://files.pythonhosted.org/packages/e7/7f/470d6fcdf23f9f3518f6b0b76be9df16dcc8630ad409947f8be2eb0ed13a/pathtools-0.1.2.tar.gz\n",
            "Requirement already satisfied: idna<3,>=2.5 in /usr/local/lib/python3.6/dist-packages (from requests>=2.0.0->wandb) (2.9)\n",
            "Requirement already satisfied: chardet<4,>=3.0.2 in /usr/local/lib/python3.6/dist-packages (from requests>=2.0.0->wandb) (3.0.4)\n",
            "Requirement already satisfied: certifi>=2017.4.17 in /usr/local/lib/python3.6/dist-packages (from requests>=2.0.0->wandb) (2020.4.5.1)\n",
            "Requirement already satisfied: urllib3!=1.25.0,!=1.25.1,<1.26,>=1.21.1 in /usr/local/lib/python3.6/dist-packages (from requests>=2.0.0->wandb) (1.24.3)\n",
            "Collecting smmap<4,>=3.0.1\n",
            "  Downloading https://files.pythonhosted.org/packages/b0/9a/4d409a6234eb940e6a78dfdfc66156e7522262f5f2fecca07dc55915952d/smmap-3.0.4-py2.py3-none-any.whl\n",
            "Building wheels for collected packages: gql, watchdog, subprocess32, graphql-core, pathtools\n",
            "  Building wheel for gql (setup.py) ... \u001b[?25l\u001b[?25hdone\n",
            "  Created wheel for gql: filename=gql-0.2.0-cp36-none-any.whl size=7630 sha256=4180bc76ef2cc8bed48001363acf70a72d8ac0e9a0df7604994d5eef63397e40\n",
            "  Stored in directory: /root/.cache/pip/wheels/ce/0e/7b/58a8a5268655b3ad74feef5aa97946f0addafb3cbb6bd2da23\n",
            "  Building wheel for watchdog (setup.py) ... \u001b[?25l\u001b[?25hdone\n",
            "  Created wheel for watchdog: filename=watchdog-0.10.2-cp36-none-any.whl size=73605 sha256=1402907b1626c55a6a10efb52e72bcf2936f7f757c7043ae6df418053f2cc20d\n",
            "  Stored in directory: /root/.cache/pip/wheels/bc/ed/6c/028dea90d31b359cd2a7c8b0da4db80e41d24a59614154072e\n",
            "  Building wheel for subprocess32 (setup.py) ... \u001b[?25l\u001b[?25hdone\n",
            "  Created wheel for subprocess32: filename=subprocess32-3.5.4-cp36-none-any.whl size=6489 sha256=775c6a635c64d1a51747997106919b992ac7463717bf28df5ac7e27a9fc39192\n",
            "  Stored in directory: /root/.cache/pip/wheels/68/39/1a/5e402bdfdf004af1786c8b853fd92f8c4a04f22aad179654d1\n",
            "  Building wheel for graphql-core (setup.py) ... \u001b[?25l\u001b[?25hdone\n",
            "  Created wheel for graphql-core: filename=graphql_core-1.1-cp36-none-any.whl size=104650 sha256=517e05e9958a2fec6bdfe5def02c75f4f2896045cd19353996ab70efb2cec4cb\n",
            "  Stored in directory: /root/.cache/pip/wheels/45/99/d7/c424029bb0fe910c63b68dbf2aa20d3283d023042521bcd7d5\n",
            "  Building wheel for pathtools (setup.py) ... \u001b[?25l\u001b[?25hdone\n",
            "  Created wheel for pathtools: filename=pathtools-0.1.2-cp36-none-any.whl size=8784 sha256=6ec644d753727efde39476021f0a2f534af8842cc6ab6db4f342451c7cd63c5d\n",
            "  Stored in directory: /root/.cache/pip/wheels/0b/04/79/c3b0c3a0266a3cb4376da31e5bfe8bba0c489246968a68e843\n",
            "Successfully built gql watchdog subprocess32 graphql-core pathtools\n",
            "Installing collected packages: configparser, smmap, gitdb, GitPython, graphql-core, gql, pathtools, watchdog, docker-pycreds, sentry-sdk, subprocess32, shortuuid, wandb\n",
            "Successfully installed GitPython-3.1.2 configparser-5.0.0 docker-pycreds-0.4.0 gitdb-4.0.5 gql-0.2.0 graphql-core-1.1 pathtools-0.1.2 sentry-sdk-0.14.4 shortuuid-1.0.1 smmap-3.0.4 subprocess32-3.5.4 wandb-0.8.36 watchdog-0.10.2\n"
          ],
          "name": "stdout"
        }
      ]
    },
    {
      "cell_type": "code",
      "metadata": {
        "id": "JVJNai9fzz36",
        "colab_type": "code",
        "outputId": "56840c2d-1204-475e-c503-2a908dcdb090",
        "colab": {
          "base_uri": "https://localhost:8080/",
          "height": 51
        }
      },
      "source": [
        "!wandb login c119c487db48c124313723d01dade4a5ba75c210"
      ],
      "execution_count": 0,
      "outputs": [
        {
          "output_type": "stream",
          "text": [
            "\u001b[34m\u001b[1mwandb\u001b[0m: Appending key for api.wandb.ai to your netrc file: /root/.netrc\n",
            "\u001b[32mSuccessfully logged in to Weights & Biases!\u001b[0m\n"
          ],
          "name": "stdout"
        }
      ]
    },
    {
      "cell_type": "markdown",
      "metadata": {
        "id": "SXbtQW5Oyyt3",
        "colab_type": "text"
      },
      "source": [
        "# Hyperparameter Options (Learn)\n",
        "<a id=\"p1\"></a>"
      ]
    },
    {
      "cell_type": "markdown",
      "metadata": {
        "id": "HyGF_2Tsyyt4",
        "colab_type": "text"
      },
      "source": [
        "## Overview\n",
        "\n",
        "Hyperparameter tuning is much more important with neural networks than it has been with any other models that we have considered up to this point. Other supervised learning models might have a couple of parameters, but neural networks can have dozens. These can substantially affect the accuracy of our models and although it can be a time consuming process is a necessary step when working with neural networks.\n",
        "​\n",
        "Hyperparameter tuning comes with a challenge. How can we compare models specified with different hyperparameters if our model's final error metric can vary somewhat erratically? How do we avoid just getting unlucky and selecting the wrong hyperparameter? This is a problem that to a certain degree we just have to live with as we test and test again. However, we can minimize it somewhat by pairing our experiments with Cross Validation to reduce the variance of our final accuracy values."
      ]
    },
    {
      "cell_type": "markdown",
      "metadata": {
        "colab_type": "text",
        "id": "0s0o2pqBs88q"
      },
      "source": [
        "### Load Boston Housing Data"
      ]
    },
    {
      "cell_type": "code",
      "metadata": {
        "id": "iDUd2Mq2yyt5",
        "colab_type": "code",
        "outputId": "dbd49bf6-3cb5-43ee-b2c3-f84a081675d2",
        "colab": {
          "base_uri": "https://localhost:8080/",
          "height": 51
        }
      },
      "source": [
        "from tensorflow.keras.datasets import boston_housing\n",
        "\n",
        "(X_train, y_train), (X_test, y_test) = boston_housing.load_data()"
      ],
      "execution_count": 0,
      "outputs": [
        {
          "output_type": "stream",
          "text": [
            "Downloading data from https://storage.googleapis.com/tensorflow/tf-keras-datasets/boston_housing.npz\n",
            "57344/57026 [==============================] - 0s 0us/step\n"
          ],
          "name": "stdout"
        }
      ]
    },
    {
      "cell_type": "markdown",
      "metadata": {
        "colab_type": "text",
        "id": "Pm7zow5IvaTt"
      },
      "source": [
        "### Normalizing Input Data\n",
        "\n",
        "It's not 100% necessary to normalize/scale your input data before feeding it to a neural network, the network can learn the appropriate weights to deal with data of as long as it is numerically represented,  but it is recommended as it can help **make training faster** and **reduces the chances that gradient descent might get stuck in a local optimum**.\n",
        "\n",
        "<https://stackoverflow.com/questions/4674623/why-do-we-have-to-normalize-the-input-for-an-artificial-neural-network>"
      ]
    },
    {
      "cell_type": "code",
      "metadata": {
        "id": "TNkw8wzayyt7",
        "colab_type": "code",
        "outputId": "75e3f312-0583-4a6a-d4b6-188e2374e569",
        "colab": {
          "base_uri": "https://localhost:8080/",
          "height": 537
        }
      },
      "source": [
        "from sklearn.preprocessing import StandardScaler\n",
        "\n",
        "scaler = StandardScaler()\n",
        "\n",
        "X_train = scaler.fit_transform(X_train)\n",
        "X_test = scaler.transform(X_test)\n",
        "print(X_train[:10])"
      ],
      "execution_count": 0,
      "outputs": [
        {
          "output_type": "stream",
          "text": [
            "[[-0.27224633 -0.48361547 -0.43576161 -0.25683275 -0.1652266  -0.1764426\n",
            "   0.81306188  0.1166983  -0.62624905 -0.59517003  1.14850044  0.44807713\n",
            "   0.8252202 ]\n",
            " [-0.40342651  2.99178419 -1.33391162 -0.25683275 -1.21518188  1.89434613\n",
            "  -1.91036058  1.24758524 -0.85646254 -0.34843254 -1.71818909  0.43190599\n",
            "  -1.32920239]\n",
            " [ 0.1249402  -0.48361547  1.0283258  -0.25683275  0.62864202 -1.82968811\n",
            "   1.11048828 -1.18743907  1.67588577  1.5652875   0.78447637  0.22061726\n",
            "  -1.30850006]\n",
            " [-0.40149354 -0.48361547 -0.86940196 -0.25683275 -0.3615597  -0.3245576\n",
            "  -1.23667187  1.10717989 -0.51114231 -1.094663    0.78447637  0.44807713\n",
            "  -0.65292624]\n",
            " [-0.0056343  -0.48361547  1.0283258  -0.25683275  1.32861221  0.15364225\n",
            "   0.69480801 -0.57857203  1.67588577  1.5652875   0.78447637  0.3898823\n",
            "   0.26349695]\n",
            " [-0.37502238 -0.48361547 -0.54747912 -0.25683275 -0.54935658 -0.78865126\n",
            "   0.18954148  0.48371503 -0.51114231 -0.71552978  0.51145832  0.38669063\n",
            "  -0.13812828]\n",
            " [ 0.58963463 -0.48361547  1.0283258  -0.25683275  1.21764133 -1.03127774\n",
            "   1.11048828 -1.06518235  1.67588577  1.5652875   0.78447637  0.44807713\n",
            "   1.49873604]\n",
            " [ 0.0381708  -0.48361547  1.24588095 -0.25683275  2.67733525 -1.12719983\n",
            "   1.11048828 -1.14833073 -0.51114231 -0.01744323 -1.71818909  0.44807713\n",
            "   1.88793986]\n",
            " [-0.17228416 -0.48361547  1.24588095 -0.25683275  2.67733525 -0.90150078\n",
            "   1.11048828 -1.09664657 -0.51114231 -0.01744323 -1.71818909 -1.97365769\n",
            "   0.53952803]\n",
            " [-0.22932104 -0.48361547  1.58544339 -0.25683275  0.56888847 -1.76056777\n",
            "   1.11048828 -1.13471925 -0.62624905  0.18716835  1.23950646  0.44807713\n",
            "   2.99068404]]\n"
          ],
          "name": "stdout"
        }
      ]
    },
    {
      "cell_type": "markdown",
      "metadata": {
        "colab_type": "text",
        "id": "l6hgCWbir90R"
      },
      "source": [
        "### Model Validation using an automatic verification Dataset\n",
        "\n",
        "Instead of doing seperate train test split class, Keras has a really nice feature that you can set the validation.data argument when fitting your model and Keras will take that portion of your test data and use it as a validation dataset. "
      ]
    },
    {
      "cell_type": "code",
      "metadata": {
        "id": "rJszlrjSD10m",
        "colab_type": "code",
        "outputId": "53168fbd-a288-4781-ca43-8cd5c0719f81",
        "colab": {
          "base_uri": "https://localhost:8080/",
          "height": 34
        }
      },
      "source": [
        "y_train.mean(), y_train.std()"
      ],
      "execution_count": 0,
      "outputs": [
        {
          "output_type": "execute_result",
          "data": {
            "text/plain": [
              "(22.395049504950492, 9.199035423364862)"
            ]
          },
          "metadata": {
            "tags": []
          },
          "execution_count": 8
        }
      ]
    },
    {
      "cell_type": "code",
      "metadata": {
        "colab_type": "code",
        "id": "GMXVfmzXp1Oo",
        "outputId": "a03bd59a-0691-4d35-a8de-476a75cbb401",
        "colab": {
          "base_uri": "https://localhost:8080/",
          "height": 1000
        }
      },
      "source": [
        "from tensorflow import keras\n",
        "from tensorflow.keras.models import Sequential\n",
        "from tensorflow.keras.layers import Dense\n",
        "\n",
        "# Important Hyperparameters\n",
        "inputs = X_train.shape[1]\n",
        "epochs = 75\n",
        "batch_size = 10\n",
        "\n",
        "# Create Model\n",
        "model = Sequential()\n",
        "model.add(Dense(64, activation='relu', input_shape=(inputs,)))\n",
        "model.add(Dense(64, activation='relu'))\n",
        "model.add(Dense(1))\n",
        "\n",
        "# Compile Model\n",
        "model.compile(optimizer='adam', loss='mse', metrics=['mae'])\n",
        "\n",
        "# Fit Model\n",
        "results = model.fit(X_train, y_train, \n",
        "                    validation_data=(X_test, y_test), \n",
        "                    epochs=epochs, \n",
        "                    batch_size=batch_size)"
      ],
      "execution_count": 0,
      "outputs": [
        {
          "output_type": "stream",
          "text": [
            "Epoch 1/75\n",
            "41/41 [==============================] - 0s 5ms/step - loss: 490.0453 - mae: 20.2023 - val_loss: 388.6302 - val_mae: 17.7174\n",
            "Epoch 2/75\n",
            "41/41 [==============================] - 0s 4ms/step - loss: 217.8541 - mae: 12.1903 - val_loss: 90.2550 - val_mae: 7.5446\n",
            "Epoch 3/75\n",
            "41/41 [==============================] - 0s 4ms/step - loss: 59.2661 - mae: 5.6787 - val_loss: 44.1996 - val_mae: 5.2279\n",
            "Epoch 4/75\n",
            "41/41 [==============================] - 0s 4ms/step - loss: 33.9444 - mae: 4.1684 - val_loss: 30.8163 - val_mae: 4.4285\n",
            "Epoch 5/75\n",
            "41/41 [==============================] - 0s 4ms/step - loss: 25.8358 - mae: 3.6274 - val_loss: 26.0387 - val_mae: 4.0445\n",
            "Epoch 6/75\n",
            "41/41 [==============================] - 0s 4ms/step - loss: 22.1877 - mae: 3.3286 - val_loss: 24.2229 - val_mae: 3.8638\n",
            "Epoch 7/75\n",
            "41/41 [==============================] - 0s 4ms/step - loss: 19.6168 - mae: 3.1336 - val_loss: 22.7411 - val_mae: 3.6261\n",
            "Epoch 8/75\n",
            "41/41 [==============================] - 0s 4ms/step - loss: 17.6919 - mae: 2.9485 - val_loss: 22.7176 - val_mae: 3.5753\n",
            "Epoch 9/75\n",
            "41/41 [==============================] - 0s 4ms/step - loss: 16.0883 - mae: 2.8168 - val_loss: 21.7429 - val_mae: 3.4804\n",
            "Epoch 10/75\n",
            "41/41 [==============================] - 0s 4ms/step - loss: 14.9408 - mae: 2.7290 - val_loss: 21.1622 - val_mae: 3.3758\n",
            "Epoch 11/75\n",
            "41/41 [==============================] - 0s 5ms/step - loss: 13.7455 - mae: 2.6259 - val_loss: 22.1329 - val_mae: 3.3343\n",
            "Epoch 12/75\n",
            "41/41 [==============================] - 0s 4ms/step - loss: 13.0583 - mae: 2.5502 - val_loss: 20.8694 - val_mae: 3.2029\n",
            "Epoch 13/75\n",
            "41/41 [==============================] - 0s 4ms/step - loss: 12.2158 - mae: 2.4608 - val_loss: 21.0312 - val_mae: 3.2006\n",
            "Epoch 14/75\n",
            "41/41 [==============================] - 0s 4ms/step - loss: 11.7589 - mae: 2.4475 - val_loss: 20.6590 - val_mae: 3.1245\n",
            "Epoch 15/75\n",
            "41/41 [==============================] - 0s 4ms/step - loss: 11.3080 - mae: 2.3708 - val_loss: 21.9969 - val_mae: 3.2060\n",
            "Epoch 16/75\n",
            "41/41 [==============================] - 0s 4ms/step - loss: 10.6992 - mae: 2.3421 - val_loss: 21.0393 - val_mae: 3.0947\n",
            "Epoch 17/75\n",
            "41/41 [==============================] - 0s 4ms/step - loss: 10.5459 - mae: 2.3095 - val_loss: 20.0337 - val_mae: 3.0360\n",
            "Epoch 18/75\n",
            "41/41 [==============================] - 0s 4ms/step - loss: 10.1558 - mae: 2.2643 - val_loss: 21.5532 - val_mae: 3.0675\n",
            "Epoch 19/75\n",
            "41/41 [==============================] - 0s 4ms/step - loss: 9.7968 - mae: 2.2266 - val_loss: 21.0169 - val_mae: 3.0327\n",
            "Epoch 20/75\n",
            "41/41 [==============================] - 0s 4ms/step - loss: 9.7928 - mae: 2.2201 - val_loss: 20.3929 - val_mae: 2.9618\n",
            "Epoch 21/75\n",
            "41/41 [==============================] - 0s 4ms/step - loss: 9.4872 - mae: 2.2045 - val_loss: 21.6363 - val_mae: 3.0468\n",
            "Epoch 22/75\n",
            "41/41 [==============================] - 0s 4ms/step - loss: 9.3156 - mae: 2.1465 - val_loss: 21.5200 - val_mae: 3.0141\n",
            "Epoch 23/75\n",
            "41/41 [==============================] - 0s 4ms/step - loss: 9.8509 - mae: 2.2539 - val_loss: 20.7297 - val_mae: 2.9459\n",
            "Epoch 24/75\n",
            "41/41 [==============================] - 0s 4ms/step - loss: 9.1228 - mae: 2.1590 - val_loss: 20.3189 - val_mae: 2.9089\n",
            "Epoch 25/75\n",
            "41/41 [==============================] - 0s 4ms/step - loss: 8.9089 - mae: 2.1113 - val_loss: 20.8396 - val_mae: 2.9509\n",
            "Epoch 26/75\n",
            "41/41 [==============================] - 0s 4ms/step - loss: 8.9645 - mae: 2.1158 - val_loss: 19.9446 - val_mae: 2.8675\n",
            "Epoch 27/75\n",
            "41/41 [==============================] - 0s 4ms/step - loss: 8.4730 - mae: 2.0939 - val_loss: 21.6038 - val_mae: 2.9240\n",
            "Epoch 28/75\n",
            "41/41 [==============================] - 0s 4ms/step - loss: 8.4825 - mae: 2.0623 - val_loss: 21.0041 - val_mae: 2.8806\n",
            "Epoch 29/75\n",
            "41/41 [==============================] - 0s 4ms/step - loss: 8.4517 - mae: 2.0736 - val_loss: 22.5828 - val_mae: 3.0051\n",
            "Epoch 30/75\n",
            "41/41 [==============================] - 0s 4ms/step - loss: 8.2784 - mae: 2.0343 - val_loss: 21.6826 - val_mae: 2.9485\n",
            "Epoch 31/75\n",
            "41/41 [==============================] - 0s 4ms/step - loss: 8.2396 - mae: 2.0277 - val_loss: 19.6377 - val_mae: 2.8385\n",
            "Epoch 32/75\n",
            "41/41 [==============================] - 0s 4ms/step - loss: 8.2898 - mae: 2.0489 - val_loss: 21.3989 - val_mae: 2.8962\n",
            "Epoch 33/75\n",
            "41/41 [==============================] - 0s 4ms/step - loss: 8.1034 - mae: 2.0452 - val_loss: 20.9749 - val_mae: 2.9987\n",
            "Epoch 34/75\n",
            "41/41 [==============================] - 0s 4ms/step - loss: 7.9166 - mae: 1.9934 - val_loss: 20.7346 - val_mae: 2.8267\n",
            "Epoch 35/75\n",
            "41/41 [==============================] - 0s 4ms/step - loss: 8.0322 - mae: 2.0251 - val_loss: 21.5591 - val_mae: 2.8752\n",
            "Epoch 36/75\n",
            "41/41 [==============================] - 0s 4ms/step - loss: 7.7827 - mae: 2.0014 - val_loss: 21.6298 - val_mae: 2.9193\n",
            "Epoch 37/75\n",
            "41/41 [==============================] - 0s 4ms/step - loss: 7.7633 - mae: 1.9714 - val_loss: 21.1840 - val_mae: 2.8239\n",
            "Epoch 38/75\n",
            "41/41 [==============================] - 0s 4ms/step - loss: 7.5297 - mae: 1.9755 - val_loss: 20.0727 - val_mae: 2.7407\n",
            "Epoch 39/75\n",
            "41/41 [==============================] - 0s 4ms/step - loss: 7.5026 - mae: 1.9387 - val_loss: 19.8291 - val_mae: 2.7508\n",
            "Epoch 40/75\n",
            "41/41 [==============================] - 0s 4ms/step - loss: 7.5704 - mae: 1.9761 - val_loss: 20.6796 - val_mae: 2.7909\n",
            "Epoch 41/75\n",
            "41/41 [==============================] - 0s 4ms/step - loss: 7.4959 - mae: 1.9110 - val_loss: 22.3870 - val_mae: 3.0124\n",
            "Epoch 42/75\n",
            "41/41 [==============================] - 0s 4ms/step - loss: 7.3973 - mae: 1.9575 - val_loss: 20.1620 - val_mae: 2.7933\n",
            "Epoch 43/75\n",
            "41/41 [==============================] - 0s 4ms/step - loss: 7.6256 - mae: 1.9410 - val_loss: 21.9712 - val_mae: 2.9640\n",
            "Epoch 44/75\n",
            "41/41 [==============================] - 0s 4ms/step - loss: 7.1906 - mae: 1.8714 - val_loss: 21.2114 - val_mae: 2.8313\n",
            "Epoch 45/75\n",
            "41/41 [==============================] - 0s 4ms/step - loss: 7.1526 - mae: 1.9088 - val_loss: 20.8484 - val_mae: 2.8375\n",
            "Epoch 46/75\n",
            "41/41 [==============================] - 0s 4ms/step - loss: 6.8018 - mae: 1.8537 - val_loss: 19.6171 - val_mae: 2.7080\n",
            "Epoch 47/75\n",
            "41/41 [==============================] - 0s 4ms/step - loss: 7.0438 - mae: 1.8877 - val_loss: 18.9545 - val_mae: 2.7186\n",
            "Epoch 48/75\n",
            "41/41 [==============================] - 0s 4ms/step - loss: 6.5764 - mae: 1.8329 - val_loss: 23.0396 - val_mae: 3.0141\n",
            "Epoch 49/75\n",
            "41/41 [==============================] - 0s 4ms/step - loss: 6.7973 - mae: 1.8500 - val_loss: 19.9757 - val_mae: 2.7247\n",
            "Epoch 50/75\n",
            "41/41 [==============================] - 0s 4ms/step - loss: 6.6287 - mae: 1.8233 - val_loss: 20.2117 - val_mae: 2.7516\n",
            "Epoch 51/75\n",
            "41/41 [==============================] - 0s 5ms/step - loss: 6.6941 - mae: 1.8509 - val_loss: 18.5554 - val_mae: 2.6519\n",
            "Epoch 52/75\n",
            "41/41 [==============================] - 0s 7ms/step - loss: 6.6844 - mae: 1.8443 - val_loss: 18.8911 - val_mae: 2.7034\n",
            "Epoch 53/75\n",
            "41/41 [==============================] - 0s 4ms/step - loss: 6.4527 - mae: 1.8089 - val_loss: 18.4293 - val_mae: 2.6464\n",
            "Epoch 54/75\n",
            "41/41 [==============================] - 0s 4ms/step - loss: 6.2998 - mae: 1.7843 - val_loss: 20.2690 - val_mae: 2.8361\n",
            "Epoch 55/75\n",
            "41/41 [==============================] - 0s 4ms/step - loss: 6.4230 - mae: 1.8397 - val_loss: 19.5380 - val_mae: 2.7613\n",
            "Epoch 56/75\n",
            "41/41 [==============================] - 0s 4ms/step - loss: 6.4374 - mae: 1.8328 - val_loss: 18.6018 - val_mae: 2.6393\n",
            "Epoch 57/75\n",
            "41/41 [==============================] - 0s 4ms/step - loss: 6.4886 - mae: 1.8031 - val_loss: 19.1027 - val_mae: 2.6757\n",
            "Epoch 58/75\n",
            "41/41 [==============================] - 0s 4ms/step - loss: 6.2405 - mae: 1.7769 - val_loss: 19.7262 - val_mae: 2.8098\n",
            "Epoch 59/75\n",
            "41/41 [==============================] - 0s 5ms/step - loss: 6.2122 - mae: 1.7995 - val_loss: 18.6087 - val_mae: 2.6517\n",
            "Epoch 60/75\n",
            "41/41 [==============================] - 0s 4ms/step - loss: 6.1053 - mae: 1.7687 - val_loss: 20.9043 - val_mae: 2.9564\n",
            "Epoch 61/75\n",
            "41/41 [==============================] - 0s 4ms/step - loss: 6.1063 - mae: 1.7805 - val_loss: 18.6636 - val_mae: 2.7226\n",
            "Epoch 62/75\n",
            "41/41 [==============================] - 0s 4ms/step - loss: 5.9611 - mae: 1.7519 - val_loss: 18.2732 - val_mae: 2.7030\n",
            "Epoch 63/75\n",
            "41/41 [==============================] - 0s 4ms/step - loss: 5.9090 - mae: 1.7212 - val_loss: 20.1791 - val_mae: 2.8299\n",
            "Epoch 64/75\n",
            "41/41 [==============================] - 0s 4ms/step - loss: 5.8574 - mae: 1.7083 - val_loss: 18.6520 - val_mae: 2.6438\n",
            "Epoch 65/75\n",
            "41/41 [==============================] - 0s 4ms/step - loss: 5.5204 - mae: 1.6951 - val_loss: 19.1113 - val_mae: 2.7938\n",
            "Epoch 66/75\n",
            "41/41 [==============================] - 0s 4ms/step - loss: 5.8034 - mae: 1.6927 - val_loss: 19.3005 - val_mae: 2.7993\n",
            "Epoch 67/75\n",
            "41/41 [==============================] - 0s 4ms/step - loss: 5.9969 - mae: 1.7640 - val_loss: 19.0424 - val_mae: 2.7080\n",
            "Epoch 68/75\n",
            "41/41 [==============================] - 0s 4ms/step - loss: 5.7045 - mae: 1.7281 - val_loss: 18.8238 - val_mae: 2.6466\n",
            "Epoch 69/75\n",
            "41/41 [==============================] - 0s 4ms/step - loss: 5.6865 - mae: 1.7127 - val_loss: 18.4029 - val_mae: 2.6601\n",
            "Epoch 70/75\n",
            "41/41 [==============================] - 0s 4ms/step - loss: 5.5765 - mae: 1.6927 - val_loss: 17.9500 - val_mae: 2.6105\n",
            "Epoch 71/75\n",
            "41/41 [==============================] - 0s 4ms/step - loss: 5.5952 - mae: 1.6505 - val_loss: 17.4051 - val_mae: 2.6197\n",
            "Epoch 72/75\n",
            "41/41 [==============================] - 0s 4ms/step - loss: 5.3815 - mae: 1.6481 - val_loss: 19.0492 - val_mae: 2.7127\n",
            "Epoch 73/75\n",
            "41/41 [==============================] - 0s 4ms/step - loss: 5.2770 - mae: 1.6444 - val_loss: 18.5846 - val_mae: 2.6719\n",
            "Epoch 74/75\n",
            "41/41 [==============================] - 0s 4ms/step - loss: 5.2897 - mae: 1.6589 - val_loss: 19.8341 - val_mae: 2.8202\n",
            "Epoch 75/75\n",
            "41/41 [==============================] - 0s 4ms/step - loss: 5.1981 - mae: 1.6177 - val_loss: 17.8158 - val_mae: 2.6644\n"
          ],
          "name": "stdout"
        }
      ]
    },
    {
      "cell_type": "code",
      "metadata": {
        "id": "kqT533cD0Cq9",
        "colab_type": "code",
        "outputId": "a653efc4-b898-42e6-eb74-35ef02959522",
        "colab": {
          "base_uri": "https://localhost:8080/",
          "height": 34
        }
      },
      "source": [
        "results.history.keys()"
      ],
      "execution_count": 0,
      "outputs": [
        {
          "output_type": "execute_result",
          "data": {
            "text/plain": [
              "dict_keys(['loss', 'mae', 'val_loss', 'val_mae'])"
            ]
          },
          "metadata": {
            "tags": []
          },
          "execution_count": 14
        }
      ]
    },
    {
      "cell_type": "code",
      "metadata": {
        "id": "oyZO6ILy0Bku",
        "colab_type": "code",
        "outputId": "a97131c1-e5e8-4ee0-8c49-e567148f3d70",
        "colab": {
          "base_uri": "https://localhost:8080/",
          "height": 445
        }
      },
      "source": [
        "import matplotlib.pyplot as plt\n",
        "import seaborn as sns\n",
        "sns.set()\n",
        "\n",
        "plt.figure(figsize=(8,6))\n",
        "plt.plot(results.history['loss'], label='Training')\n",
        "plt.plot(results.history['val_loss'], label='Validation')\n",
        "plt.title('Learning Curve for Boston Housing Dataset')\n",
        "plt.xlabel('Epochs')\n",
        "plt.ylabel('Loss')\n",
        "plt.legend();"
      ],
      "execution_count": 0,
      "outputs": [
        {
          "output_type": "stream",
          "text": [
            "/usr/local/lib/python3.6/dist-packages/statsmodels/tools/_testing.py:19: FutureWarning: pandas.util.testing is deprecated. Use the functions in the public API at pandas.testing instead.\n",
            "  import pandas.util.testing as tm\n"
          ],
          "name": "stderr"
        },
        {
          "output_type": "display_data",
          "data": {
            "image/png": "[encoded data removed]",
            "text/plain": [
              "<Figure size 576x432 with 1 Axes>"
            ]
          },
          "metadata": {
            "tags": []
          }
        }
      ]
    },
    {
      "cell_type": "code",
      "metadata": {
        "id": "VhqJWZK-Ji_S",
        "colab_type": "code",
        "outputId": "54d5cd4c-c0bd-4d04-a2e6-e3af7b51ef17",
        "colab": {
          "base_uri": "https://localhost:8080/",
          "height": 259
        }
      },
      "source": [
        "model.summary()"
      ],
      "execution_count": 0,
      "outputs": [
        {
          "output_type": "stream",
          "text": [
            "Model: \"sequential_3\"\n",
            "_________________________________________________________________\n",
            "Layer (type)                 Output Shape              Param #   \n",
            "=================================================================\n",
            "dense_9 (Dense)              (None, 64)                896       \n",
            "_________________________________________________________________\n",
            "dense_10 (Dense)             (None, 64)                4160      \n",
            "_________________________________________________________________\n",
            "dense_11 (Dense)             (None, 1)                 65        \n",
            "=================================================================\n",
            "Total params: 5,121\n",
            "Trainable params: 5,121\n",
            "Non-trainable params: 0\n",
            "_________________________________________________________________\n"
          ],
          "name": "stdout"
        }
      ]
    },
    {
      "cell_type": "code",
      "metadata": {
        "id": "hbh2-3_OYWqj",
        "colab_type": "code",
        "outputId": "ac485bad-8c0a-41f2-9f81-96eb4e033f64",
        "colab": {
          "base_uri": "https://localhost:8080/",
          "height": 34
        }
      },
      "source": [
        "13*64 + 64"
      ],
      "execution_count": 0,
      "outputs": [
        {
          "output_type": "execute_result",
          "data": {
            "text/plain": [
              "896"
            ]
          },
          "metadata": {
            "tags": []
          },
          "execution_count": 22
        }
      ]
    },
    {
      "cell_type": "markdown",
      "metadata": {
        "colab_type": "text",
        "id": "sYJ8t_ezHP4W"
      },
      "source": [
        "### Hyperparameter Tuning Approaches:\n",
        "\n",
        "#### 1) Babysitting AKA \"Grad Student Descent\".\n",
        "\n",
        "If you fiddled with any hyperparameters yesterday, this is basically what you did. This approach is 100% manual and is pretty common among researchers where finding that 1 exact specification that jumps your model to a level of accuracy never seen before is the difference between publishing and not publishing a paper. Of course the professors don't do this themselves, that's grunt work. This is also known as the fiddle with hyperparameters until you run out of time method.\n",
        "\n",
        "#### 2) Grid Search\n",
        "\n",
        "Grid Search is the Grad Student galaxy brain realization of: why don't I just specify all the experiments I want to run and let the computer try every possible combination of them while I go and grab lunch. This has a specific downside in that if I specify 5 hyperparameters with 5 options each then I've just created 5^5 combinations of hyperparameters to check. Which means that I have to train 3125 different versions of my model Then if I use 5-fold Cross Validation on that then my model has to run 15,525 times. This is the brute-force method of hyperparameter tuning, but it can be very profitable if done wisely. \n",
        "\n",
        "When using Grid Search here's what I suggest: don't use it to test combinations of different hyperparameters, only use it to test different specifications of **a single** hyperparameter. It's rare that combinations between different hyperparameters lead to big performance gains. You'll get 90-95% of the way there if you just Grid Search one parameter and take the best result, then retain that best result while you test another, and then retain the best specification from that while you train another. This at least makes the situation much more manageable and leads to pretty good results. \n",
        "\n",
        "#### 3) Random Search\n",
        "\n",
        "Do Grid Search for a couple of hours and you'll say to yourself - \"There's got to be a better way.\" Enter Random Search. For Random search you specify a hyperparameter space and it picks specifications from that randomly, tries them out, gives you the best results and says - That's going to have to be good enough, go home and spend time with your family. \n",
        "\n",
        "Grid Search treats every parameter as if it was equally important, but this just isn't the case, some are known to move the needle a lot more than others (we'll talk about that in a minute). Random Search allows searching to be specified along the most important parameter and experiments less along the dimensions of less important hyperparameters. The downside of Random search is that it won't find the absolute best hyperparameters, but it is much less costly to perform than Grid Search. \n",
        "\n",
        "#### 4) Bayesian Methods\n",
        "\n",
        "One thing that can make more manual methods like babysitting and gridsearch effective is that as the experimenter sees results he can then make updates to his future searches taking into account the results of past specifications. If only we could hyperparameter tune our hyperparameter tuning. Well, we kind of can. Enter Bayesian Optimization. Neural Networks are like an optimization problem within an optimization problem, and Bayesian Optimization is a search strategy that tries to take into account the results of past searches in order to improve future ones. Check out the new library `keras-tuner` for easy implementations of Bayesian methods. \n"
      ]
    },
    {
      "cell_type": "markdown",
      "metadata": {
        "colab_type": "text",
        "id": "HfQ7D043OMMn"
      },
      "source": [
        "## What Hyperparameters are there to test?\n",
        "\n",
        "- batch_size\n",
        "- training epochs\n",
        "- optimization algorithms\n",
        "- learning rate\n",
        "- momentum\n",
        "- activation functions\n",
        "- dropout regularization\n",
        "- number of neurons in the hidden layer\n",
        "\n",
        "There are more, but these are the most important."
      ]
    },
    {
      "cell_type": "markdown",
      "metadata": {
        "id": "TkqRNmhwyyuC",
        "colab_type": "text"
      },
      "source": [
        "## Follow Along"
      ]
    },
    {
      "cell_type": "markdown",
      "metadata": {
        "colab_type": "text",
        "id": "Mri5-kXzVKAa"
      },
      "source": [
        "## Batch Size\n",
        "\n",
        "Batch size determines how many observations the model is shown before it calculates loss/error and updates the model weights via gradient descent. You're looking for a sweet spot here where you're showing it enough observations that you have enough information to updates the weights, but not such a large batch size that you don't get a lot of weight update iterations performed in a given epoch. Feed-forward Neural Networks aren't as sensitive to bach_size as other networks, but it is still an important hyperparameter to tune. Smaller batch sizes will also take longer to train. \n",
        "\n",
        "Traditionally, batch size is set in powers of 2 starting at 32 up to 512. Keras defaults to a batch size of 32 if you do not specify it. Yann LeCun famously Twitted: \n",
        "\n",
        "> Training with large minibatches is bad for your health.\n",
        "More importantly, it's bad for your test error.\n",
        "Friends dont let friends use minibatches larger than 32.\n",
        "\n",
        "Check out this paper for more reference on his tweet. https://arxiv.org/abs/1804.07612. \n",
        "\n",
        "Check out this SO question on why batch size is typically set in powers of two: https://datascience.stackexchange.com/questions/20179/what-is-the-advantage-of-keeping-batch-size-a-power-of-2\n",
        "\n"
      ]
    },
    {
      "cell_type": "code",
      "metadata": {
        "colab_type": "code",
        "id": "2smXfriNAGn7",
        "outputId": "5a513042-cf1e-49b3-9732-3fce2b8564ca",
        "colab": {
          "base_uri": "https://localhost:8080/",
          "height": 121
        }
      },
      "source": [
        "import numpy\n",
        "import pandas as pd\n",
        "from sklearn.model_selection import GridSearchCV\n",
        "from tensorflow.keras.models import Sequential\n",
        "from tensorflow.keras.layers import Dense\n",
        "from tensorflow.keras.wrappers.scikit_learn import KerasRegressor\n",
        "\n",
        "# fix random seed for reproducibility\n",
        "seed = 7\n",
        "numpy.random.seed(seed)\n",
        "\n",
        "# Function to create model, required for KerasRegressor\n",
        "def create_model():\n",
        "    # Create Model\n",
        "    model = Sequential()\n",
        "    model.add(Dense(64, activation='relu', input_shape=(inputs,)))\n",
        "    model.add(Dense(64, activation='relu'))\n",
        "    model.add(Dense(1))\n",
        "    \n",
        "    # Compile Model\n",
        "    model.compile(optimizer='adam', loss='mse', metrics=['mae'])\n",
        "    return model\n",
        "\n",
        "# Create model\n",
        "model = KerasRegressor(build_fn=create_model, verbose=0)\n",
        "\n",
        "# define the grid search parameters\n",
        "param_grid = {'batch_size': [8, 16, 32, 64, 128],\n",
        "              'epochs': [20]}\n",
        "\n",
        "# Create Grid Search\n",
        "grid = GridSearchCV(estimator=model, param_grid=param_grid, n_jobs=1)\n",
        "grid_result = grid.fit(X_train, y_train)\n",
        "\n",
        "# Report Results\n",
        "print(f\"Best: {-grid_result.best_score_} using {grid_result.best_params_}\")\n",
        "means = -grid_result.cv_results_['mean_test_score']\n",
        "stds = grid_result.cv_results_['std_test_score']\n",
        "params = grid_result.cv_results_['params']\n",
        "for mean, stdev, param in zip(means, stds, params):\n",
        "    print(f\"Means: {mean}, Stdev: {stdev} with: {param}\") "
      ],
      "execution_count": 0,
      "outputs": [
        {
          "output_type": "stream",
          "text": [
            "Best: 14.038501358032226 using {'batch_size': 8, 'epochs': 20}\n",
            "Means: 14.038501358032226, Stdev: 3.8908066070834377 with: {'batch_size': 8, 'epochs': 20}\n",
            "Means: 15.494979667663575, Stdev: 5.168291164902994 with: {'batch_size': 16, 'epochs': 20}\n",
            "Means: 23.000717163085938, Stdev: 6.698178138807771 with: {'batch_size': 32, 'epochs': 20}\n",
            "Means: 38.248587417602536, Stdev: 6.773311597854397 with: {'batch_size': 64, 'epochs': 20}\n",
            "Means: 176.56523742675782, Stdev: 48.90580683213148 with: {'batch_size': 128, 'epochs': 20}\n"
          ],
          "name": "stdout"
        }
      ]
    },
    {
      "cell_type": "markdown",
      "metadata": {
        "colab_type": "text",
        "id": "EKcuY6OiaLfz"
      },
      "source": [
        "## Optimizer\n",
        "\n",
        "Remember that there's a different optimizers [optimizers](https://keras.io/optimizers/). At some point, take some time to read up on them a little bit. \"adam\" usually gives the best results. The thing to know about choosing an optimizer is that different optimizers have different hyperparameters like learning rate, momentum, etc. So based on the optimizer you choose you might also have to tune the learning rate and momentum of those optimizers after that. "
      ]
    },
    {
      "cell_type": "markdown",
      "metadata": {
        "colab_type": "text",
        "id": "DG3wq5iOaLig"
      },
      "source": [
        "## Learning Rate\n",
        "\n",
        "Remember that the Learning Rate is a hyperparameter that is specific to your gradient-descent based optimizer selection. A learning rate that is too high will cause divergent behavior, but a Learning Rate that is too low will fail to converge, again, you're looking for the sweet spot. I would start out tuning learning rates by orders of magnitude: [.001, .01, .1, .2, .3, .5] etc. I wouldn't go above .5, but you can try it and see what the behavior is like. \n",
        "\n",
        "Once you have narrowed it down, make the window even smaller and try it again. If after running the above specification your model reports that .1 is the best optimizer, then you should probably try things like [.05, .08, .1, .12, .15] to try and narrow it down. \n",
        "\n",
        "It can also be good to tune the number of epochs in combination with the learning rate since the number of iterations that you allow the learning rate to reach the minimum can determine if you have let it run long enough to converge to the minimum. "
      ]
    },
    {
      "cell_type": "code",
      "metadata": {
        "id": "pc1i5G33yyuG",
        "colab_type": "code",
        "outputId": "51199fae-93e7-4eb4-e700-323a7b308ffe",
        "colab": {
          "base_uri": "https://localhost:8080/",
          "height": 242
        }
      },
      "source": [
        "from tensorflow.keras.optimizers import Adam\n",
        "\n",
        "# Function to create model, required for KerasRegressor\n",
        "def create_model(lr=0.001, dropout_1=True):\n",
        "\n",
        "    # Define Adam optimizer\n",
        "    opt = Adam(learning_rate=lr)\n",
        "\n",
        "    # Create Model\n",
        "    model = Sequential()\n",
        "    model.add(Dense(64, activation='relu', input_shape=(inputs,)))\n",
        "    if dropout_1 == True:\n",
        "      model.add(Dropout(0.2))\n",
        "    model.add(Dense(64, activation='relu'))\n",
        "    model.add(Dense(1))\n",
        "    \n",
        "    # Compile Model\n",
        "    model.compile(optimizer=opt, loss='mse', metrics=['mae'])\n",
        "    return model\n",
        "\n",
        "# Create model\n",
        "model = KerasRegressor(build_fn=create_model, verbose=0)\n",
        "\n",
        "# define the grid search parameters\n",
        "param_grid = {'lr': [0.0001, 0.001, 0.01, 0.05, 0.1, 0.25],\n",
        "              'dropout_1': [True, False]\n",
        "              'batch_size': [8, 16],\n",
        "              'epochs': [20]}\n",
        "\n",
        "# Create Grid Search\n",
        "grid = GridSearchCV(estimator=model, param_grid=param_grid, n_jobs=1)\n",
        "grid_result = grid.fit(X_train, y_train)\n",
        "\n",
        "# Report Results\n",
        "print(f\"Best: {-grid_result.best_score_} using {grid_result.best_params_}\")\n",
        "means = -grid_result.cv_results_['mean_test_score']\n",
        "stds = grid_result.cv_results_['std_test_score']\n",
        "params = grid_result.cv_results_['params']\n",
        "for mean, stdev, param in zip(means, stds, params):\n",
        "    print(f\"Means: {mean}, Stdev: {stdev} with: {param}\") "
      ],
      "execution_count": 0,
      "outputs": [
        {
          "output_type": "stream",
          "text": [
            "Best: 12.443542194366454 using {'batch_size': 16, 'epochs': 20, 'lr': 0.01}\n",
            "Means: 113.70496444702148, Stdev: 51.724171398490746 with: {'batch_size': 8, 'epochs': 20, 'lr': 0.0001}\n",
            "Means: 13.391143798828125, Stdev: 4.2750307654067665 with: {'batch_size': 8, 'epochs': 20, 'lr': 0.001}\n",
            "Means: 12.479919815063477, Stdev: 3.682346678101448 with: {'batch_size': 8, 'epochs': 20, 'lr': 0.01}\n",
            "Means: 16.21868476867676, Stdev: 4.473357130303802 with: {'batch_size': 8, 'epochs': 20, 'lr': 0.05}\n",
            "Means: 16.125278568267824, Stdev: 8.096610595916518 with: {'batch_size': 8, 'epochs': 20, 'lr': 0.1}\n",
            "Means: 69.49094085693359, Stdev: 36.52701507397393 with: {'batch_size': 8, 'epochs': 20, 'lr': 0.25}\n",
            "Means: 346.28603515625, Stdev: 61.620032387612554 with: {'batch_size': 16, 'epochs': 20, 'lr': 0.0001}\n",
            "Means: 15.620001411437988, Stdev: 4.078442861798731 with: {'batch_size': 16, 'epochs': 20, 'lr': 0.001}\n",
            "Means: 12.443542194366454, Stdev: 3.706867767890124 with: {'batch_size': 16, 'epochs': 20, 'lr': 0.01}\n",
            "Means: 15.526981449127197, Stdev: 5.195833204128144 with: {'batch_size': 16, 'epochs': 20, 'lr': 0.05}\n",
            "Means: 20.24890003204346, Stdev: 9.679311870206753 with: {'batch_size': 16, 'epochs': 20, 'lr': 0.1}\n",
            "Means: 76.56207828521728, Stdev: 35.268638320118036 with: {'batch_size': 16, 'epochs': 20, 'lr': 0.25}\n"
          ],
          "name": "stdout"
        }
      ]
    },
    {
      "cell_type": "markdown",
      "metadata": {
        "colab_type": "text",
        "id": "gNTBUWd1aLlA"
      },
      "source": [
        "## Momentum\n",
        "\n",
        "Momentum is a hyperparameter that is more commonly associated with Stochastic Gradient Descent. SGD is a common optimizer because it's what people understand and know, but I doubt it will get you the best results, you can try hyperparameter tuning its attributes and see if you can beat the performance from adam. Momentum is a property that decides the willingness of an optimizer to overshoot the minimum. Imagine a ball rolling down one side of a bowl and then up the opposite side a little bit before settling back to the bottom. The purpose of momentum is to try and escale local minima."
      ]
    },
    {
      "cell_type": "markdown",
      "metadata": {
        "colab_type": "text",
        "id": "xnEG-bCJaLnZ"
      },
      "source": [
        "## Activation Functions\n",
        "\n",
        "We've talked about this a little bit, typically you'l want to use ReLU for hidden layers and either Sigmoid, or Softmax for output layers of binary and multi-class classification implementations respectively, but try other activation functions and see if you can get any better results with sigmoid or tanh or something. There are a lot of activation functions that we haven't really talked about. Maybe you'll get good results with them. Maybe you won't. :) <https://keras.io/activations/>"
      ]
    },
    {
      "cell_type": "markdown",
      "metadata": {
        "colab_type": "text",
        "id": "oul9sPq-dU-h"
      },
      "source": [
        "## Network Weight Initialization\n",
        "\n",
        "You saw how big of an effect the way that we initialize our network's weights can have on our results. There are **a lot** of what are called initialization modes. I don't understand all of them, but they can have a big affect on your model's initial accuracy. Your model will get further with less epochs if you initialize it with weights that are well suited to the problem you're trying to solve.\n",
        "\n",
        "`init_mode = ['uniform', 'lecun_uniform', 'normal', 'zero', 'glorot_normal', 'glorot_uniform', 'he_normal', 'he_uniform']`"
      ]
    },
    {
      "cell_type": "markdown",
      "metadata": {
        "colab_type": "text",
        "id": "bqtEuxeQaLqE"
      },
      "source": [
        "## Dropout Regularization and the Weight Constraint\n",
        "\n",
        "the Dropout Regularization value is a percentage of neurons that you want to be randomly deactivated during training. The weight constraint is a second regularization parameter that works in tandem with dropout regularization. You should tune these two values at the same time. \n",
        "\n",
        "Using dropout on visible vs hidden layers might have a different effect. Using dropout on hidden layers might not have any effect while using dropout on hidden layers might have a substantial effect. You don't necessarily need to turn use dropout unless you see that your model has overfitting and generalizability problems."
      ]
    },
    {
      "cell_type": "markdown",
      "metadata": {
        "colab_type": "text",
        "id": "P2c5Cv6oaLtO"
      },
      "source": [
        "## Neurons in Hidden Layer \n",
        "\n",
        "Remember that when we only had a single perceptron our model was only able to fit to linearly separable data, but as we have added layers and nodes to those layers our network has become a powerhouse of fitting nonlinearity in data. The larger the network and the more nodes generally the stronger the network's capacity to fit nonlinear patterns in data. The more nodes and layers the longer it will take to train a network, and higher the probability of overfitting. The larger your network gets the more you'll need dropout regularization or other regularization techniques to keep it in check. \n",
        "\n",
        "Typically depth (more layers) is more important than width (more nodes) for neural networks. This is part of why Deep Learning is so highly touted. Certain deep learning architectures have truly been huge breakthroughs for certain machine learning tasks. \n",
        "\n",
        "You might borrow ideas from other network architectures. For example if I was doing image recognition and I wasn't taking cues from state of the art architectures like resnet, alexnet, googlenet, etc. Then I'm probably going to have to do a lot more experimentation on my own before I find something that works.\n",
        "\n",
        "There are some heuristics, but I am highly skeptical of them. I think you're better off experimenting on your own and forming your own intuition for these kinds of problems. \n",
        "\n",
        "- https://machinelearningmastery.com/how-to-configure-the-number-of-layers-and-nodes-in-a-neural-network/"
      ]
    },
    {
      "cell_type": "markdown",
      "metadata": {
        "id": "LnFTs5xzyyuK",
        "colab_type": "text"
      },
      "source": [
        "## Challenge\n",
        "You will be expected to tune several hyperparameters in today's module project. "
      ]
    },
    {
      "cell_type": "markdown",
      "metadata": {
        "id": "GikpbVv7yyuK",
        "colab_type": "text"
      },
      "source": [
        "# Experiment Tracking Framework (Learn)\n",
        "<a id=\"p2\"></a>"
      ]
    },
    {
      "cell_type": "markdown",
      "metadata": {
        "id": "q4ix9DqByyuL",
        "colab_type": "text"
      },
      "source": [
        "## Overview\n",
        "\n",
        "You will notice quickly that managing the results of all the experiments you are running becomes challenging. Which set of parameters did the best? Are my results today different than my results yesterday? Although we use Ipython Notebooks to work, the format is not well suited to logging experimental results. Enter experiment tracking frameworks like [Comet.ml](https://comet.ml) and [Weights and Biases](https://wandb.ai/).\n",
        "\n",
        "Those tools will help you track your experiments, store the results, and the code associated with those experiments. Experimental results can also be readily visualized to see changes in performance across any metric you care about. Data is sent to the tool as each epoch is completed, so you can also see if your model is converging. Let's check out Weights & Biases today. "
      ]
    },
    {
      "cell_type": "markdown",
      "metadata": {
        "id": "DFnIAS3jyyuM",
        "colab_type": "text"
      },
      "source": [
        "## Follow Along\n",
        "\n",
        "Make sure you login into `wandb` in the terminal before running the next cell. "
      ]
    },
    {
      "cell_type": "code",
      "metadata": {
        "id": "JgpZuNodyyuM",
        "colab_type": "code",
        "colab": {}
      },
      "source": [
        "import wandb\n",
        "from wandb.keras import WandbCallback"
      ],
      "execution_count": 0,
      "outputs": []
    },
    {
      "cell_type": "code",
      "metadata": {
        "colab_type": "code",
        "id": "NBuxcn9xyyuP",
        "outputId": "713f0b3e-b9e8-4dcc-891e-d4557c60c355",
        "colab": {
          "base_uri": "https://localhost:8080/",
          "height": 1000
        }
      },
      "source": [
        "wandb.init(project=wandb_project, entity=wandb_group) #Initializes and Experiment\n",
        "\n",
        "# Important Hyperparameters\n",
        "X =  X_train\n",
        "y =  y_train\n",
        "\n",
        "inputs = X.shape[1]\n",
        "wandb.config.epochs = 50\n",
        "wandb.config.batch_size = 256\n",
        "\n",
        "# Create Model\n",
        "model = Sequential()\n",
        "model.add(Dense(2, activation='relu', input_shape=(inputs,)))\n",
        "model.add(Dense(2, activation='relu'))\n",
        "model.add(Dense(1))\n",
        "# Compile Model\n",
        "model.compile(optimizer='adam', loss='mse', metrics=['mse', 'mae'])\n",
        "\n",
        "# Fit Model\n",
        "model.fit(X, y, \n",
        "          validation_split=0.33, \n",
        "          epochs=wandb.config.epochs, \n",
        "          batch_size=wandb.config.batch_size, \n",
        "          callbacks=[WandbCallback()])"
      ],
      "execution_count": 0,
      "outputs": [
        {
          "output_type": "display_data",
          "data": {
            "text/html": [
              "\n",
              "                Logging results to <a href=\"https://wandb.com\" target=\"_blank\">Weights & Biases</a> <a href=\"https://docs.wandb.com/integrations/jupyter.html\" target=\"_blank\">(Documentation)</a>.<br/>\n",
              "                Project page: <a href=\"https://app.wandb.ai/bjanota/dspt4_inclass\" target=\"_blank\">https://app.wandb.ai/bjanota/dspt4_inclass</a><br/>\n",
              "                Run page: <a href=\"https://app.wandb.ai/bjanota/dspt4_inclass/runs/2qqadwgn\" target=\"_blank\">https://app.wandb.ai/bjanota/dspt4_inclass/runs/2qqadwgn</a><br/>\n",
              "            "
            ],
            "text/plain": [
              "<IPython.core.display.HTML object>"
            ]
          },
          "metadata": {
            "tags": []
          }
        },
        {
          "output_type": "stream",
          "text": [
            "Epoch 1/50\n",
            "2/2 [==============================] - 0s 91ms/step - loss: 521.5303 - mse: 521.5303 - mae: 21.2904 - val_loss: 609.4602 - val_mse: 609.4602 - val_mae: 22.7993\n",
            "Epoch 2/50\n",
            "2/2 [==============================] - 0s 38ms/step - loss: 520.6945 - mse: 520.6945 - mae: 21.2745 - val_loss: 608.5870 - val_mse: 608.5870 - val_mae: 22.7825\n",
            "Epoch 3/50\n",
            "2/2 [==============================] - 0s 46ms/step - loss: 519.8419 - mse: 519.8419 - mae: 21.2582 - val_loss: 607.7077 - val_mse: 607.7077 - val_mae: 22.7656\n",
            "Epoch 4/50\n",
            "2/2 [==============================] - 0s 40ms/step - loss: 519.0210 - mse: 519.0210 - mae: 21.2423 - val_loss: 606.8323 - val_mse: 606.8323 - val_mae: 22.7487\n",
            "Epoch 5/50\n",
            "2/2 [==============================] - 0s 39ms/step - loss: 518.1779 - mse: 518.1779 - mae: 21.2262 - val_loss: 605.9573 - val_mse: 605.9573 - val_mae: 22.7318\n",
            "Epoch 6/50\n",
            "2/2 [==============================] - 0s 38ms/step - loss: 517.3510 - mse: 517.3510 - mae: 21.2101 - val_loss: 605.0775 - val_mse: 605.0775 - val_mae: 22.7149\n",
            "Epoch 7/50\n",
            "2/2 [==============================] - 0s 43ms/step - loss: 516.5168 - mse: 516.5168 - mae: 21.1939 - val_loss: 604.2067 - val_mse: 604.2067 - val_mae: 22.6980\n",
            "Epoch 8/50\n",
            "2/2 [==============================] - 0s 38ms/step - loss: 515.6734 - mse: 515.6734 - mae: 21.1777 - val_loss: 603.3313 - val_mse: 603.3313 - val_mae: 22.6810\n",
            "Epoch 9/50\n",
            "2/2 [==============================] - 0s 39ms/step - loss: 514.8387 - mse: 514.8387 - mae: 21.1614 - val_loss: 602.4387 - val_mse: 602.4387 - val_mae: 22.6636\n",
            "Epoch 10/50\n",
            "2/2 [==============================] - 0s 40ms/step - loss: 513.9778 - mse: 513.9778 - mae: 21.1448 - val_loss: 601.5280 - val_mse: 601.5280 - val_mae: 22.6459\n",
            "Epoch 11/50\n",
            "2/2 [==============================] - 0s 37ms/step - loss: 513.1174 - mse: 513.1174 - mae: 21.1280 - val_loss: 600.6081 - val_mse: 600.6081 - val_mae: 22.6281\n",
            "Epoch 12/50\n",
            "2/2 [==============================] - 0s 40ms/step - loss: 512.2286 - mse: 512.2286 - mae: 21.1107 - val_loss: 599.6813 - val_mse: 599.6813 - val_mae: 22.6100\n",
            "Epoch 13/50\n",
            "2/2 [==============================] - 0s 42ms/step - loss: 511.3468 - mse: 511.3468 - mae: 21.0934 - val_loss: 598.7465 - val_mse: 598.7465 - val_mae: 22.5918\n",
            "Epoch 14/50\n",
            "2/2 [==============================] - 0s 46ms/step - loss: 510.4529 - mse: 510.4529 - mae: 21.0759 - val_loss: 597.8169 - val_mse: 597.8169 - val_mae: 22.5736\n",
            "Epoch 15/50\n",
            "2/2 [==============================] - 0s 40ms/step - loss: 509.5582 - mse: 509.5582 - mae: 21.0584 - val_loss: 596.8832 - val_mse: 596.8832 - val_mae: 22.5553\n",
            "Epoch 16/50\n",
            "2/2 [==============================] - 0s 38ms/step - loss: 508.6678 - mse: 508.6678 - mae: 21.0409 - val_loss: 595.9426 - val_mse: 595.9426 - val_mae: 22.5369\n",
            "Epoch 17/50\n",
            "2/2 [==============================] - 0s 44ms/step - loss: 507.7620 - mse: 507.7620 - mae: 21.0231 - val_loss: 594.9917 - val_mse: 594.9917 - val_mae: 22.5182\n",
            "Epoch 18/50\n",
            "2/2 [==============================] - 0s 43ms/step - loss: 506.8587 - mse: 506.8587 - mae: 21.0054 - val_loss: 594.0372 - val_mse: 594.0372 - val_mae: 22.4994\n",
            "Epoch 19/50\n",
            "2/2 [==============================] - 0s 45ms/step - loss: 505.9441 - mse: 505.9441 - mae: 20.9873 - val_loss: 593.0901 - val_mse: 593.0901 - val_mae: 22.4807\n",
            "Epoch 20/50\n",
            "2/2 [==============================] - 0s 50ms/step - loss: 505.0229 - mse: 505.0229 - mae: 20.9692 - val_loss: 592.1238 - val_mse: 592.1238 - val_mae: 22.4617\n",
            "Epoch 21/50\n",
            "2/2 [==============================] - 0s 44ms/step - loss: 504.1040 - mse: 504.1040 - mae: 20.9510 - val_loss: 591.1259 - val_mse: 591.1259 - val_mae: 22.4420\n",
            "Epoch 22/50\n",
            "2/2 [==============================] - 0s 48ms/step - loss: 503.1391 - mse: 503.1391 - mae: 20.9322 - val_loss: 590.0942 - val_mse: 590.0942 - val_mae: 22.4218\n",
            "Epoch 23/50\n",
            "2/2 [==============================] - 0s 40ms/step - loss: 502.1542 - mse: 502.1542 - mae: 20.9126 - val_loss: 589.0193 - val_mse: 589.0193 - val_mae: 22.4007\n",
            "Epoch 24/50\n",
            "2/2 [==============================] - 0s 47ms/step - loss: 501.1413 - mse: 501.1413 - mae: 20.8927 - val_loss: 587.9232 - val_mse: 587.9232 - val_mae: 22.3791\n",
            "Epoch 25/50\n",
            "2/2 [==============================] - 0s 41ms/step - loss: 500.0996 - mse: 500.0996 - mae: 20.8722 - val_loss: 586.8251 - val_mse: 586.8251 - val_mae: 22.3574\n",
            "Epoch 26/50\n",
            "2/2 [==============================] - 0s 38ms/step - loss: 499.0389 - mse: 499.0389 - mae: 20.8514 - val_loss: 585.7057 - val_mse: 585.7057 - val_mae: 22.3353\n",
            "Epoch 27/50\n",
            "2/2 [==============================] - 0s 39ms/step - loss: 497.9793 - mse: 497.9793 - mae: 20.8303 - val_loss: 584.5536 - val_mse: 584.5536 - val_mae: 22.3126\n",
            "Epoch 28/50\n",
            "2/2 [==============================] - 0s 43ms/step - loss: 496.8904 - mse: 496.8904 - mae: 20.8087 - val_loss: 583.3852 - val_mse: 583.3852 - val_mae: 22.2895\n",
            "Epoch 29/50\n",
            "2/2 [==============================] - 0s 43ms/step - loss: 495.7740 - mse: 495.7740 - mae: 20.7868 - val_loss: 582.1981 - val_mse: 582.1981 - val_mae: 22.2660\n",
            "Epoch 30/50\n",
            "2/2 [==============================] - 0s 38ms/step - loss: 494.6426 - mse: 494.6426 - mae: 20.7644 - val_loss: 580.9796 - val_mse: 580.9796 - val_mae: 22.2419\n",
            "Epoch 31/50\n",
            "2/2 [==============================] - 0s 38ms/step - loss: 493.5063 - mse: 493.5063 - mae: 20.7418 - val_loss: 579.7525 - val_mse: 579.7525 - val_mae: 22.2176\n",
            "Epoch 32/50\n",
            "2/2 [==============================] - 0s 39ms/step - loss: 492.3407 - mse: 492.3407 - mae: 20.7187 - val_loss: 578.5397 - val_mse: 578.5397 - val_mae: 22.1935\n",
            "Epoch 33/50\n",
            "2/2 [==============================] - 0s 38ms/step - loss: 491.1870 - mse: 491.1870 - mae: 20.6957 - val_loss: 577.3332 - val_mse: 577.3332 - val_mae: 22.1696\n",
            "Epoch 34/50\n",
            "2/2 [==============================] - 0s 39ms/step - loss: 490.0454 - mse: 490.0454 - mae: 20.6729 - val_loss: 576.1398 - val_mse: 576.1398 - val_mae: 22.1457\n",
            "Epoch 35/50\n",
            "2/2 [==============================] - 0s 39ms/step - loss: 488.8632 - mse: 488.8632 - mae: 20.6494 - val_loss: 574.9139 - val_mse: 574.9139 - val_mae: 22.1212\n",
            "Epoch 36/50\n",
            "2/2 [==============================] - 0s 40ms/step - loss: 487.6929 - mse: 487.6929 - mae: 20.6258 - val_loss: 573.6226 - val_mse: 573.6226 - val_mae: 22.0953\n",
            "Epoch 37/50\n",
            "2/2 [==============================] - 0s 39ms/step - loss: 486.4669 - mse: 486.4669 - mae: 20.6011 - val_loss: 572.3209 - val_mse: 572.3209 - val_mae: 22.0692\n",
            "Epoch 38/50\n",
            "2/2 [==============================] - 0s 43ms/step - loss: 485.2094 - mse: 485.2094 - mae: 20.5757 - val_loss: 571.0427 - val_mse: 571.0427 - val_mae: 22.0435\n",
            "Epoch 39/50\n",
            "2/2 [==============================] - 0s 37ms/step - loss: 483.9555 - mse: 483.9555 - mae: 20.5504 - val_loss: 569.7665 - val_mse: 569.7665 - val_mae: 22.0178\n",
            "Epoch 40/50\n",
            "2/2 [==============================] - 0s 43ms/step - loss: 482.7224 - mse: 482.7224 - mae: 20.5252 - val_loss: 568.4788 - val_mse: 568.4788 - val_mae: 21.9918\n",
            "Epoch 41/50\n",
            "2/2 [==============================] - 0s 40ms/step - loss: 481.4806 - mse: 481.4806 - mae: 20.5000 - val_loss: 567.1932 - val_mse: 567.1932 - val_mae: 21.9658\n",
            "Epoch 42/50\n",
            "2/2 [==============================] - 0s 38ms/step - loss: 480.2364 - mse: 480.2364 - mae: 20.4745 - val_loss: 565.9075 - val_mse: 565.9075 - val_mae: 21.9397\n",
            "Epoch 43/50\n",
            "2/2 [==============================] - 0s 37ms/step - loss: 478.9882 - mse: 478.9882 - mae: 20.4491 - val_loss: 564.6013 - val_mse: 564.6013 - val_mae: 21.9133\n",
            "Epoch 44/50\n",
            "2/2 [==============================] - 0s 38ms/step - loss: 477.7392 - mse: 477.7392 - mae: 20.4236 - val_loss: 563.2849 - val_mse: 563.2849 - val_mae: 21.8867\n",
            "Epoch 45/50\n",
            "2/2 [==============================] - 0s 39ms/step - loss: 476.4525 - mse: 476.4525 - mae: 20.3974 - val_loss: 561.9377 - val_mse: 561.9377 - val_mae: 21.8594\n",
            "Epoch 46/50\n",
            "2/2 [==============================] - 0s 38ms/step - loss: 475.1654 - mse: 475.1654 - mae: 20.3708 - val_loss: 560.5469 - val_mse: 560.5469 - val_mae: 21.8312\n",
            "Epoch 47/50\n",
            "2/2 [==============================] - 0s 40ms/step - loss: 473.8406 - mse: 473.8406 - mae: 20.3437 - val_loss: 559.1654 - val_mse: 559.1654 - val_mae: 21.8031\n",
            "Epoch 48/50\n",
            "2/2 [==============================] - 0s 43ms/step - loss: 472.4886 - mse: 472.4886 - mae: 20.3159 - val_loss: 557.7766 - val_mse: 557.7766 - val_mae: 21.7749\n",
            "Epoch 49/50\n",
            "2/2 [==============================] - 0s 38ms/step - loss: 471.1440 - mse: 471.1440 - mae: 20.2883 - val_loss: 556.3416 - val_mse: 556.3416 - val_mae: 21.7457\n",
            "Epoch 50/50\n",
            "2/2 [==============================] - 0s 37ms/step - loss: 469.7675 - mse: 469.7675 - mae: 20.2598 - val_loss: 554.8941 - val_mse: 554.8941 - val_mae: 21.7161\n"
          ],
          "name": "stdout"
        },
        {
          "output_type": "execute_result",
          "data": {
            "text/plain": [
              "<tensorflow.python.keras.callbacks.History at 0x7f2e10dbf940>"
            ]
          },
          "metadata": {
            "tags": []
          },
          "execution_count": 25
        }
      ]
    },
    {
      "cell_type": "markdown",
      "metadata": {
        "id": "3-HPe3ovyyuR",
        "colab_type": "text"
      },
      "source": [
        "### Your Turn\n",
        "\n",
        "Pick a few hyparameters that we *have not* tuned. Using the same code above, try changing a few parameters you're interested in and submitting the results to weights & biases. :) "
      ]
    },
    {
      "cell_type": "code",
      "metadata": {
        "id": "P-1kJrNYyyuR",
        "colab_type": "code",
        "colab": {}
      },
      "source": [
        "wandb.init(project=wandb_project, entity=wand_group) #Initializes and Experiment\n",
        "wandb.config.epochs = 50\n",
        "wandb.config.batch_size = 10\n",
        "\n",
        "# Fit Model\n",
        "model.fit(callbacks=[WandbCallback()])"
      ],
      "execution_count": 0,
      "outputs": []
    },
    {
      "cell_type": "markdown",
      "metadata": {
        "id": "6DDTnk-tyyuT",
        "colab_type": "text"
      },
      "source": [
        "## Challenge\n",
        "\n",
        "You will be expected to use Weights & Biases to try to tune your model during your module assignment today. "
      ]
    },
    {
      "cell_type": "markdown",
      "metadata": {
        "id": "zso0Z-nCyyuU",
        "colab_type": "text"
      },
      "source": [
        "# Hyperparameters with RandomSearchCV (Learn)"
      ]
    },
    {
      "cell_type": "markdown",
      "metadata": {
        "id": "p90lAWA8yyuU",
        "colab_type": "text"
      },
      "source": [
        "## Overview\n",
        "\n",
        "Basically `GridSearchCV` takes forever. You'll want to adopt a slightly more sophiscated strategy.\n",
        "\n",
        "Let's also take a look at an alternative with Keras-Tuner."
      ]
    },
    {
      "cell_type": "code",
      "metadata": {
        "id": "_q4UNepfyyuU",
        "colab_type": "code",
        "outputId": "f3e9da05-4407-45c5-b913-3d3ca9032c25",
        "colab": {
          "base_uri": "https://localhost:8080/",
          "height": 519
        }
      },
      "source": [
        "!pip install keras-tuner"
      ],
      "execution_count": 0,
      "outputs": [
        {
          "output_type": "stream",
          "text": [
            "Collecting keras-tuner\n",
            "\u001b[?25l  Downloading https://files.pythonhosted.org/packages/a7/f7/4b41b6832abf4c9bef71a664dc563adb25afc5812831667c6db572b1a261/keras-tuner-1.0.1.tar.gz (54kB)\n",
            "\r\u001b[K     |██████                          | 10kB 20.6MB/s eta 0:00:01\r\u001b[K     |████████████                    | 20kB 4.3MB/s eta 0:00:01\r\u001b[K     |██████████████████              | 30kB 6.2MB/s eta 0:00:01\r\u001b[K     |████████████████████████        | 40kB 7.9MB/s eta 0:00:01\r\u001b[K     |██████████████████████████████  | 51kB 5.1MB/s eta 0:00:01\r\u001b[K     |████████████████████████████████| 61kB 3.5MB/s \n",
            "\u001b[?25hRequirement already satisfied: future in /usr/local/lib/python3.6/dist-packages (from keras-tuner) (0.16.0)\n",
            "Requirement already satisfied: numpy in /usr/local/lib/python3.6/dist-packages (from keras-tuner) (1.18.4)\n",
            "Requirement already satisfied: tabulate in /usr/local/lib/python3.6/dist-packages (from keras-tuner) (0.8.7)\n",
            "Collecting terminaltables\n",
            "  Downloading https://files.pythonhosted.org/packages/9b/c4/4a21174f32f8a7e1104798c445dacdc1d4df86f2f26722767034e4de4bff/terminaltables-3.1.0.tar.gz\n",
            "Collecting colorama\n",
            "  Downloading https://files.pythonhosted.org/packages/c9/dc/45cdef1b4d119eb96316b3117e6d5708a08029992b2fee2c143c7a0a5cc5/colorama-0.4.3-py2.py3-none-any.whl\n",
            "Requirement already satisfied: tqdm in /usr/local/lib/python3.6/dist-packages (from keras-tuner) (4.41.1)\n",
            "Requirement already satisfied: requests in /usr/local/lib/python3.6/dist-packages (from keras-tuner) (2.23.0)\n",
            "Requirement already satisfied: scipy in /usr/local/lib/python3.6/dist-packages (from keras-tuner) (1.4.1)\n",
            "Requirement already satisfied: scikit-learn in /usr/local/lib/python3.6/dist-packages (from keras-tuner) (0.22.2.post1)\n",
            "Requirement already satisfied: certifi>=2017.4.17 in /usr/local/lib/python3.6/dist-packages (from requests->keras-tuner) (2020.4.5.1)\n",
            "Requirement already satisfied: chardet<4,>=3.0.2 in /usr/local/lib/python3.6/dist-packages (from requests->keras-tuner) (3.0.4)\n",
            "Requirement already satisfied: idna<3,>=2.5 in /usr/local/lib/python3.6/dist-packages (from requests->keras-tuner) (2.9)\n",
            "Requirement already satisfied: urllib3!=1.25.0,!=1.25.1,<1.26,>=1.21.1 in /usr/local/lib/python3.6/dist-packages (from requests->keras-tuner) (1.24.3)\n",
            "Requirement already satisfied: joblib>=0.11 in /usr/local/lib/python3.6/dist-packages (from scikit-learn->keras-tuner) (0.15.1)\n",
            "Building wheels for collected packages: keras-tuner, terminaltables\n",
            "  Building wheel for keras-tuner (setup.py) ... \u001b[?25l\u001b[?25hdone\n",
            "  Created wheel for keras-tuner: filename=keras_tuner-1.0.1-cp36-none-any.whl size=73200 sha256=4941b04142ef17ac69c788a6a213995e441ec0f9da906d9c2fb1bdd41f4c7bd4\n",
            "  Stored in directory: /root/.cache/pip/wheels/b9/cc/62/52716b70dd90f3db12519233c3a93a5360bc672da1a10ded43\n",
            "  Building wheel for terminaltables (setup.py) ... \u001b[?25l\u001b[?25hdone\n",
            "  Created wheel for terminaltables: filename=terminaltables-3.1.0-cp36-none-any.whl size=15356 sha256=d93a7eb8926963ee312175b83833df675cbc8502bcc0cc08fb026d340c855ec9\n",
            "  Stored in directory: /root/.cache/pip/wheels/30/6b/50/6c75775b681fb36cdfac7f19799888ef9d8813aff9e379663e\n",
            "Successfully built keras-tuner terminaltables\n",
            "Installing collected packages: terminaltables, colorama, keras-tuner\n",
            "Successfully installed colorama-0.4.3 keras-tuner-1.0.1 terminaltables-3.1.0\n"
          ],
          "name": "stdout"
        }
      ]
    },
    {
      "cell_type": "markdown",
      "metadata": {
        "id": "5p1TlmaoyyuW",
        "colab_type": "text"
      },
      "source": [
        "## Follow Along"
      ]
    },
    {
      "cell_type": "code",
      "metadata": {
        "id": "KX2evVqLyyuW",
        "colab_type": "code",
        "colab": {}
      },
      "source": [
        "from kerastuner.tuners import RandomSearch\n",
        "\n",
        "\"\"\"\n",
        "This model Tunes:\n",
        "- Number of Hidden Layers in the network\n",
        "- Number of Neurons in each Hidden Layer\n",
        "- Learning Rate in Adam\n",
        "\n",
        "\"\"\"\n",
        "\n",
        "def build_model(hp):\n",
        "    model = keras.Sequential()\n",
        "    for i in range(hp.Int('num_layers', 2, 10)):\n",
        "        model.add(Dense(units=hp.Int('units_' + str(i), \n",
        "                                     min_value=16,\n",
        "                                     max_value=256,\n",
        "                                     step=32),\n",
        "                        activation='relu'))\n",
        "    model.add(Dense(1))\n",
        "    model.compile(optimizer=Adam(hp.Choice('learning_rate', [1e-2, 1e-3, 1e-4])),\n",
        "        loss='mse', metrics=['mse', 'mae'])\n",
        "    return model"
      ],
      "execution_count": 0,
      "outputs": []
    },
    {
      "cell_type": "code",
      "metadata": {
        "id": "-uhwKYI3yyuZ",
        "colab_type": "code",
        "outputId": "049472f8-5428-46dd-c4b4-53f66666a7bb",
        "colab": {
          "base_uri": "https://localhost:8080/",
          "height": 34
        }
      },
      "source": [
        "tuner = RandomSearch(\n",
        "    build_model,\n",
        "    objective='val_loss',\n",
        "    max_trials=5,\n",
        "    executions_per_trial=3,\n",
        "    directory='./keras-tuner-trial',\n",
        "    project_name='helloworld')"
      ],
      "execution_count": 0,
      "outputs": [
        {
          "output_type": "stream",
          "text": [
            "INFO:tensorflow:Reloading Oracle from existing project ./keras-tuner-trial/helloworld/oracle.json\n"
          ],
          "name": "stdout"
        }
      ]
    },
    {
      "cell_type": "code",
      "metadata": {
        "id": "-DfotHwNyyub",
        "colab_type": "code",
        "outputId": "6e118c58-406b-4ba5-c47d-9e10b4825829",
        "colab": {
          "base_uri": "https://localhost:8080/",
          "height": 532
        }
      },
      "source": [
        "tuner.search_space_summary()"
      ],
      "execution_count": 0,
      "outputs": [
        {
          "output_type": "display_data",
          "data": {
            "text/html": [
              "<span style=\"color:#4527A0\"><h1 style=\"font-size:18px\">Search space summary</h1></span>"
            ],
            "text/plain": [
              "<IPython.core.display.HTML object>"
            ]
          },
          "metadata": {
            "tags": []
          }
        },
        {
          "output_type": "display_data",
          "data": {
            "text/html": [
              "<span style=\"color:cyan\"> |-Default search space size: 4</span>"
            ],
            "text/plain": [
              "<IPython.core.display.HTML object>"
            ]
          },
          "metadata": {
            "tags": []
          }
        },
        {
          "output_type": "display_data",
          "data": {
            "text/html": [
              "<span style=\"color:#7E57C2\"><h2 style=\"font-size:16px\">num_layers (Int)</h2></span>"
            ],
            "text/plain": [
              "<IPython.core.display.HTML object>"
            ]
          },
          "metadata": {
            "tags": []
          }
        },
        {
          "output_type": "display_data",
          "data": {
            "text/html": [
              "<span style=\"color:cyan\"> |-default: None</span>"
            ],
            "text/plain": [
              "<IPython.core.display.HTML object>"
            ]
          },
          "metadata": {
            "tags": []
          }
        },
        {
          "output_type": "display_data",
          "data": {
            "text/html": [
              "<span style=\"color:blue\"> |-max_value: 10</span>"
            ],
            "text/plain": [
              "<IPython.core.display.HTML object>"
            ]
          },
          "metadata": {
            "tags": []
          }
        },
        {
          "output_type": "display_data",
          "data": {
            "text/html": [
              "<span style=\"color:cyan\"> |-min_value: 2</span>"
            ],
            "text/plain": [
              "<IPython.core.display.HTML object>"
            ]
          },
          "metadata": {
            "tags": []
          }
        },
        {
          "output_type": "display_data",
          "data": {
            "text/html": [
              "<span style=\"color:blue\"> |-sampling: None</span>"
            ],
            "text/plain": [
              "<IPython.core.display.HTML object>"
            ]
          },
          "metadata": {
            "tags": []
          }
        },
        {
          "output_type": "display_data",
          "data": {
            "text/html": [
              "<span style=\"color:cyan\"> |-step: 1</span>"
            ],
            "text/plain": [
              "<IPython.core.display.HTML object>"
            ]
          },
          "metadata": {
            "tags": []
          }
        },
        {
          "output_type": "display_data",
          "data": {
            "text/html": [
              "<span style=\"color:#7E57C2\"><h2 style=\"font-size:16px\">units_0 (Int)</h2></span>"
            ],
            "text/plain": [
              "<IPython.core.display.HTML object>"
            ]
          },
          "metadata": {
            "tags": []
          }
        },
        {
          "output_type": "display_data",
          "data": {
            "text/html": [
              "<span style=\"color:cyan\"> |-default: None</span>"
            ],
            "text/plain": [
              "<IPython.core.display.HTML object>"
            ]
          },
          "metadata": {
            "tags": []
          }
        },
        {
          "output_type": "display_data",
          "data": {
            "text/html": [
              "<span style=\"color:blue\"> |-max_value: 256</span>"
            ],
            "text/plain": [
              "<IPython.core.display.HTML object>"
            ]
          },
          "metadata": {
            "tags": []
          }
        },
        {
          "output_type": "display_data",
          "data": {
            "text/html": [
              "<span style=\"color:cyan\"> |-min_value: 16</span>"
            ],
            "text/plain": [
              "<IPython.core.display.HTML object>"
            ]
          },
          "metadata": {
            "tags": []
          }
        },
        {
          "output_type": "display_data",
          "data": {
            "text/html": [
              "<span style=\"color:blue\"> |-sampling: None</span>"
            ],
            "text/plain": [
              "<IPython.core.display.HTML object>"
            ]
          },
          "metadata": {
            "tags": []
          }
        },
        {
          "output_type": "display_data",
          "data": {
            "text/html": [
              "<span style=\"color:cyan\"> |-step: 32</span>"
            ],
            "text/plain": [
              "<IPython.core.display.HTML object>"
            ]
          },
          "metadata": {
            "tags": []
          }
        },
        {
          "output_type": "display_data",
          "data": {
            "text/html": [
              "<span style=\"color:#7E57C2\"><h2 style=\"font-size:16px\">units_1 (Int)</h2></span>"
            ],
            "text/plain": [
              "<IPython.core.display.HTML object>"
            ]
          },
          "metadata": {
            "tags": []
          }
        },
        {
          "output_type": "display_data",
          "data": {
            "text/html": [
              "<span style=\"color:cyan\"> |-default: None</span>"
            ],
            "text/plain": [
              "<IPython.core.display.HTML object>"
            ]
          },
          "metadata": {
            "tags": []
          }
        },
        {
          "output_type": "display_data",
          "data": {
            "text/html": [
              "<span style=\"color:blue\"> |-max_value: 256</span>"
            ],
            "text/plain": [
              "<IPython.core.display.HTML object>"
            ]
          },
          "metadata": {
            "tags": []
          }
        },
        {
          "output_type": "display_data",
          "data": {
            "text/html": [
              "<span style=\"color:cyan\"> |-min_value: 16</span>"
            ],
            "text/plain": [
              "<IPython.core.display.HTML object>"
            ]
          },
          "metadata": {
            "tags": []
          }
        },
        {
          "output_type": "display_data",
          "data": {
            "text/html": [
              "<span style=\"color:blue\"> |-sampling: None</span>"
            ],
            "text/plain": [
              "<IPython.core.display.HTML object>"
            ]
          },
          "metadata": {
            "tags": []
          }
        },
        {
          "output_type": "display_data",
          "data": {
            "text/html": [
              "<span style=\"color:cyan\"> |-step: 32</span>"
            ],
            "text/plain": [
              "<IPython.core.display.HTML object>"
            ]
          },
          "metadata": {
            "tags": []
          }
        },
        {
          "output_type": "display_data",
          "data": {
            "text/html": [
              "<span style=\"color:#7E57C2\"><h2 style=\"font-size:16px\">learning_rate (Choice)</h2></span>"
            ],
            "text/plain": [
              "<IPython.core.display.HTML object>"
            ]
          },
          "metadata": {
            "tags": []
          }
        },
        {
          "output_type": "display_data",
          "data": {
            "text/html": [
              "<span style=\"color:cyan\"> |-default: 0.01</span>"
            ],
            "text/plain": [
              "<IPython.core.display.HTML object>"
            ]
          },
          "metadata": {
            "tags": []
          }
        },
        {
          "output_type": "display_data",
          "data": {
            "text/html": [
              "<span style=\"color:blue\"> |-ordered: True</span>"
            ],
            "text/plain": [
              "<IPython.core.display.HTML object>"
            ]
          },
          "metadata": {
            "tags": []
          }
        },
        {
          "output_type": "display_data",
          "data": {
            "text/html": [
              "<span style=\"color:cyan\"> |-values: [0.01, 0.001, 0.0001]</span>"
            ],
            "text/plain": [
              "<IPython.core.display.HTML object>"
            ]
          },
          "metadata": {
            "tags": []
          }
        }
      ]
    },
    {
      "cell_type": "code",
      "metadata": {
        "id": "iEhRGqG2yyud",
        "colab_type": "code",
        "outputId": "e93a0839-3b00-4101-b83b-e57a7d9cc608",
        "colab": {
          "base_uri": "https://localhost:8080/",
          "height": 1000
        }
      },
      "source": [
        "tuner.search(X_train, y_train,\n",
        "             epochs=20,\n",
        "             verbose=0,\n",
        "             validation_data=(X_test, y_test))"
      ],
      "execution_count": 0,
      "outputs": [
        {
          "output_type": "display_data",
          "data": {
            "text/html": [
              "<span style=\"color:#4527A0\"><h1 style=\"font-size:18px\">Trial complete</h1></span>"
            ],
            "text/plain": [
              "<IPython.core.display.HTML object>"
            ]
          },
          "metadata": {
            "tags": []
          }
        },
        {
          "output_type": "display_data",
          "data": {
            "text/html": [
              "<span style=\"color:#4527A0\"><h1 style=\"font-size:18px\">Trial summary</h1></span>"
            ],
            "text/plain": [
              "<IPython.core.display.HTML object>"
            ]
          },
          "metadata": {
            "tags": []
          }
        },
        {
          "output_type": "display_data",
          "data": {
            "text/html": [
              "<span style=\"color:cyan\"> |-Trial ID: 1c014b17c421f2851377657b61bee7a0</span>"
            ],
            "text/plain": [
              "<IPython.core.display.HTML object>"
            ]
          },
          "metadata": {
            "tags": []
          }
        },
        {
          "output_type": "display_data",
          "data": {
            "text/html": [
              "<span style=\"color:cyan\"> |-Score: 87.6526870727539</span>"
            ],
            "text/plain": [
              "<IPython.core.display.HTML object>"
            ]
          },
          "metadata": {
            "tags": []
          }
        },
        {
          "output_type": "display_data",
          "data": {
            "text/html": [
              "<span style=\"color:cyan\"> |-Best step: 0</span>"
            ],
            "text/plain": [
              "<IPython.core.display.HTML object>"
            ]
          },
          "metadata": {
            "tags": []
          }
        },
        {
          "output_type": "display_data",
          "data": {
            "text/html": [
              "<span style=\"color:#7E57C2\"><h2 style=\"font-size:16px\">Hyperparameters:</h2></span>"
            ],
            "text/plain": [
              "<IPython.core.display.HTML object>"
            ]
          },
          "metadata": {
            "tags": []
          }
        },
        {
          "output_type": "display_data",
          "data": {
            "text/html": [
              "<span style=\"color:cyan\"> |-learning_rate: 0.0001</span>"
            ],
            "text/plain": [
              "<IPython.core.display.HTML object>"
            ]
          },
          "metadata": {
            "tags": []
          }
        },
        {
          "output_type": "display_data",
          "data": {
            "text/html": [
              "<span style=\"color:blue\"> |-num_layers: 3</span>"
            ],
            "text/plain": [
              "<IPython.core.display.HTML object>"
            ]
          },
          "metadata": {
            "tags": []
          }
        },
        {
          "output_type": "display_data",
          "data": {
            "text/html": [
              "<span style=\"color:cyan\"> |-units_0: 176</span>"
            ],
            "text/plain": [
              "<IPython.core.display.HTML object>"
            ]
          },
          "metadata": {
            "tags": []
          }
        },
        {
          "output_type": "display_data",
          "data": {
            "text/html": [
              "<span style=\"color:blue\"> |-units_1: 240</span>"
            ],
            "text/plain": [
              "<IPython.core.display.HTML object>"
            ]
          },
          "metadata": {
            "tags": []
          }
        },
        {
          "output_type": "display_data",
          "data": {
            "text/html": [
              "<span style=\"color:cyan\"> |-units_2: 16</span>"
            ],
            "text/plain": [
              "<IPython.core.display.HTML object>"
            ]
          },
          "metadata": {
            "tags": []
          }
        },
        {
          "output_type": "display_data",
          "data": {
            "text/html": [
              "<span style=\"color:#4527A0\"><h1 style=\"font-size:18px\">Trial complete</h1></span>"
            ],
            "text/plain": [
              "<IPython.core.display.HTML object>"
            ]
          },
          "metadata": {
            "tags": []
          }
        },
        {
          "output_type": "display_data",
          "data": {
            "text/html": [
              "<span style=\"color:#4527A0\"><h1 style=\"font-size:18px\">Trial summary</h1></span>"
            ],
            "text/plain": [
              "<IPython.core.display.HTML object>"
            ]
          },
          "metadata": {
            "tags": []
          }
        },
        {
          "output_type": "display_data",
          "data": {
            "text/html": [
              "<span style=\"color:cyan\"> |-Trial ID: 77b718e3e44936a9a29ebaa8ac3062de</span>"
            ],
            "text/plain": [
              "<IPython.core.display.HTML object>"
            ]
          },
          "metadata": {
            "tags": []
          }
        },
        {
          "output_type": "display_data",
          "data": {
            "text/html": [
              "<span style=\"color:cyan\"> |-Score: 17.29547182718913</span>"
            ],
            "text/plain": [
              "<IPython.core.display.HTML object>"
            ]
          },
          "metadata": {
            "tags": []
          }
        },
        {
          "output_type": "display_data",
          "data": {
            "text/html": [
              "<span style=\"color:cyan\"> |-Best step: 0</span>"
            ],
            "text/plain": [
              "<IPython.core.display.HTML object>"
            ]
          },
          "metadata": {
            "tags": []
          }
        },
        {
          "output_type": "display_data",
          "data": {
            "text/html": [
              "<span style=\"color:#7E57C2\"><h2 style=\"font-size:16px\">Hyperparameters:</h2></span>"
            ],
            "text/plain": [
              "<IPython.core.display.HTML object>"
            ]
          },
          "metadata": {
            "tags": []
          }
        },
        {
          "output_type": "display_data",
          "data": {
            "text/html": [
              "<span style=\"color:cyan\"> |-learning_rate: 0.01</span>"
            ],
            "text/plain": [
              "<IPython.core.display.HTML object>"
            ]
          },
          "metadata": {
            "tags": []
          }
        },
        {
          "output_type": "display_data",
          "data": {
            "text/html": [
              "<span style=\"color:blue\"> |-num_layers: 7</span>"
            ],
            "text/plain": [
              "<IPython.core.display.HTML object>"
            ]
          },
          "metadata": {
            "tags": []
          }
        },
        {
          "output_type": "display_data",
          "data": {
            "text/html": [
              "<span style=\"color:cyan\"> |-units_0: 144</span>"
            ],
            "text/plain": [
              "<IPython.core.display.HTML object>"
            ]
          },
          "metadata": {
            "tags": []
          }
        },
        {
          "output_type": "display_data",
          "data": {
            "text/html": [
              "<span style=\"color:blue\"> |-units_1: 240</span>"
            ],
            "text/plain": [
              "<IPython.core.display.HTML object>"
            ]
          },
          "metadata": {
            "tags": []
          }
        },
        {
          "output_type": "display_data",
          "data": {
            "text/html": [
              "<span style=\"color:cyan\"> |-units_2: 80</span>"
            ],
            "text/plain": [
              "<IPython.core.display.HTML object>"
            ]
          },
          "metadata": {
            "tags": []
          }
        },
        {
          "output_type": "display_data",
          "data": {
            "text/html": [
              "<span style=\"color:blue\"> |-units_3: 16</span>"
            ],
            "text/plain": [
              "<IPython.core.display.HTML object>"
            ]
          },
          "metadata": {
            "tags": []
          }
        },
        {
          "output_type": "display_data",
          "data": {
            "text/html": [
              "<span style=\"color:cyan\"> |-units_4: 16</span>"
            ],
            "text/plain": [
              "<IPython.core.display.HTML object>"
            ]
          },
          "metadata": {
            "tags": []
          }
        },
        {
          "output_type": "display_data",
          "data": {
            "text/html": [
              "<span style=\"color:blue\"> |-units_5: 16</span>"
            ],
            "text/plain": [
              "<IPython.core.display.HTML object>"
            ]
          },
          "metadata": {
            "tags": []
          }
        },
        {
          "output_type": "display_data",
          "data": {
            "text/html": [
              "<span style=\"color:cyan\"> |-units_6: 16</span>"
            ],
            "text/plain": [
              "<IPython.core.display.HTML object>"
            ]
          },
          "metadata": {
            "tags": []
          }
        },
        {
          "output_type": "display_data",
          "data": {
            "text/html": [
              "<span style=\"color:#4527A0\"><h1 style=\"font-size:18px\">Trial complete</h1></span>"
            ],
            "text/plain": [
              "<IPython.core.display.HTML object>"
            ]
          },
          "metadata": {
            "tags": []
          }
        },
        {
          "output_type": "display_data",
          "data": {
            "text/html": [
              "<span style=\"color:#4527A0\"><h1 style=\"font-size:18px\">Trial summary</h1></span>"
            ],
            "text/plain": [
              "<IPython.core.display.HTML object>"
            ]
          },
          "metadata": {
            "tags": []
          }
        },
        {
          "output_type": "display_data",
          "data": {
            "text/html": [
              "<span style=\"color:cyan\"> |-Trial ID: 0efe276f9cc09e262a58db27f85a8a8e</span>"
            ],
            "text/plain": [
              "<IPython.core.display.HTML object>"
            ]
          },
          "metadata": {
            "tags": []
          }
        },
        {
          "output_type": "display_data",
          "data": {
            "text/html": [
              "<span style=\"color:cyan\"> |-Score: 23.60473887125651</span>"
            ],
            "text/plain": [
              "<IPython.core.display.HTML object>"
            ]
          },
          "metadata": {
            "tags": []
          }
        },
        {
          "output_type": "display_data",
          "data": {
            "text/html": [
              "<span style=\"color:cyan\"> |-Best step: 0</span>"
            ],
            "text/plain": [
              "<IPython.core.display.HTML object>"
            ]
          },
          "metadata": {
            "tags": []
          }
        },
        {
          "output_type": "display_data",
          "data": {
            "text/html": [
              "<span style=\"color:#7E57C2\"><h2 style=\"font-size:16px\">Hyperparameters:</h2></span>"
            ],
            "text/plain": [
              "<IPython.core.display.HTML object>"
            ]
          },
          "metadata": {
            "tags": []
          }
        },
        {
          "output_type": "display_data",
          "data": {
            "text/html": [
              "<span style=\"color:cyan\"> |-learning_rate: 0.001</span>"
            ],
            "text/plain": [
              "<IPython.core.display.HTML object>"
            ]
          },
          "metadata": {
            "tags": []
          }
        },
        {
          "output_type": "display_data",
          "data": {
            "text/html": [
              "<span style=\"color:blue\"> |-num_layers: 9</span>"
            ],
            "text/plain": [
              "<IPython.core.display.HTML object>"
            ]
          },
          "metadata": {
            "tags": []
          }
        },
        {
          "output_type": "display_data",
          "data": {
            "text/html": [
              "<span style=\"color:cyan\"> |-units_0: 16</span>"
            ],
            "text/plain": [
              "<IPython.core.display.HTML object>"
            ]
          },
          "metadata": {
            "tags": []
          }
        },
        {
          "output_type": "display_data",
          "data": {
            "text/html": [
              "<span style=\"color:blue\"> |-units_1: 112</span>"
            ],
            "text/plain": [
              "<IPython.core.display.HTML object>"
            ]
          },
          "metadata": {
            "tags": []
          }
        },
        {
          "output_type": "display_data",
          "data": {
            "text/html": [
              "<span style=\"color:cyan\"> |-units_2: 112</span>"
            ],
            "text/plain": [
              "<IPython.core.display.HTML object>"
            ]
          },
          "metadata": {
            "tags": []
          }
        },
        {
          "output_type": "display_data",
          "data": {
            "text/html": [
              "<span style=\"color:blue\"> |-units_3: 80</span>"
            ],
            "text/plain": [
              "<IPython.core.display.HTML object>"
            ]
          },
          "metadata": {
            "tags": []
          }
        },
        {
          "output_type": "display_data",
          "data": {
            "text/html": [
              "<span style=\"color:cyan\"> |-units_4: 208</span>"
            ],
            "text/plain": [
              "<IPython.core.display.HTML object>"
            ]
          },
          "metadata": {
            "tags": []
          }
        },
        {
          "output_type": "display_data",
          "data": {
            "text/html": [
              "<span style=\"color:blue\"> |-units_5: 48</span>"
            ],
            "text/plain": [
              "<IPython.core.display.HTML object>"
            ]
          },
          "metadata": {
            "tags": []
          }
        },
        {
          "output_type": "display_data",
          "data": {
            "text/html": [
              "<span style=\"color:cyan\"> |-units_6: 48</span>"
            ],
            "text/plain": [
              "<IPython.core.display.HTML object>"
            ]
          },
          "metadata": {
            "tags": []
          }
        },
        {
          "output_type": "display_data",
          "data": {
            "text/html": [
              "<span style=\"color:blue\"> |-units_7: 16</span>"
            ],
            "text/plain": [
              "<IPython.core.display.HTML object>"
            ]
          },
          "metadata": {
            "tags": []
          }
        },
        {
          "output_type": "display_data",
          "data": {
            "text/html": [
              "<span style=\"color:cyan\"> |-units_8: 16</span>"
            ],
            "text/plain": [
              "<IPython.core.display.HTML object>"
            ]
          },
          "metadata": {
            "tags": []
          }
        },
        {
          "output_type": "display_data",
          "data": {
            "text/html": [
              "<span style=\"color:#4527A0\"><h1 style=\"font-size:18px\">Trial complete</h1></span>"
            ],
            "text/plain": [
              "<IPython.core.display.HTML object>"
            ]
          },
          "metadata": {
            "tags": []
          }
        },
        {
          "output_type": "display_data",
          "data": {
            "text/html": [
              "<span style=\"color:#4527A0\"><h1 style=\"font-size:18px\">Trial summary</h1></span>"
            ],
            "text/plain": [
              "<IPython.core.display.HTML object>"
            ]
          },
          "metadata": {
            "tags": []
          }
        },
        {
          "output_type": "display_data",
          "data": {
            "text/html": [
              "<span style=\"color:cyan\"> |-Trial ID: e35c5ad403e415b1ca7a19636da751df</span>"
            ],
            "text/plain": [
              "<IPython.core.display.HTML object>"
            ]
          },
          "metadata": {
            "tags": []
          }
        },
        {
          "output_type": "display_data",
          "data": {
            "text/html": [
              "<span style=\"color:cyan\"> |-Score: 65.09820175170898</span>"
            ],
            "text/plain": [
              "<IPython.core.display.HTML object>"
            ]
          },
          "metadata": {
            "tags": []
          }
        },
        {
          "output_type": "display_data",
          "data": {
            "text/html": [
              "<span style=\"color:cyan\"> |-Best step: 0</span>"
            ],
            "text/plain": [
              "<IPython.core.display.HTML object>"
            ]
          },
          "metadata": {
            "tags": []
          }
        },
        {
          "output_type": "display_data",
          "data": {
            "text/html": [
              "<span style=\"color:#7E57C2\"><h2 style=\"font-size:16px\">Hyperparameters:</h2></span>"
            ],
            "text/plain": [
              "<IPython.core.display.HTML object>"
            ]
          },
          "metadata": {
            "tags": []
          }
        },
        {
          "output_type": "display_data",
          "data": {
            "text/html": [
              "<span style=\"color:cyan\"> |-learning_rate: 0.0001</span>"
            ],
            "text/plain": [
              "<IPython.core.display.HTML object>"
            ]
          },
          "metadata": {
            "tags": []
          }
        },
        {
          "output_type": "display_data",
          "data": {
            "text/html": [
              "<span style=\"color:blue\"> |-num_layers: 4</span>"
            ],
            "text/plain": [
              "<IPython.core.display.HTML object>"
            ]
          },
          "metadata": {
            "tags": []
          }
        },
        {
          "output_type": "display_data",
          "data": {
            "text/html": [
              "<span style=\"color:cyan\"> |-units_0: 80</span>"
            ],
            "text/plain": [
              "<IPython.core.display.HTML object>"
            ]
          },
          "metadata": {
            "tags": []
          }
        },
        {
          "output_type": "display_data",
          "data": {
            "text/html": [
              "<span style=\"color:blue\"> |-units_1: 112</span>"
            ],
            "text/plain": [
              "<IPython.core.display.HTML object>"
            ]
          },
          "metadata": {
            "tags": []
          }
        },
        {
          "output_type": "display_data",
          "data": {
            "text/html": [
              "<span style=\"color:cyan\"> |-units_2: 48</span>"
            ],
            "text/plain": [
              "<IPython.core.display.HTML object>"
            ]
          },
          "metadata": {
            "tags": []
          }
        },
        {
          "output_type": "display_data",
          "data": {
            "text/html": [
              "<span style=\"color:blue\"> |-units_3: 144</span>"
            ],
            "text/plain": [
              "<IPython.core.display.HTML object>"
            ]
          },
          "metadata": {
            "tags": []
          }
        },
        {
          "output_type": "display_data",
          "data": {
            "text/html": [
              "<span style=\"color:cyan\"> |-units_4: 176</span>"
            ],
            "text/plain": [
              "<IPython.core.display.HTML object>"
            ]
          },
          "metadata": {
            "tags": []
          }
        },
        {
          "output_type": "display_data",
          "data": {
            "text/html": [
              "<span style=\"color:blue\"> |-units_5: 144</span>"
            ],
            "text/plain": [
              "<IPython.core.display.HTML object>"
            ]
          },
          "metadata": {
            "tags": []
          }
        },
        {
          "output_type": "display_data",
          "data": {
            "text/html": [
              "<span style=\"color:cyan\"> |-units_6: 80</span>"
            ],
            "text/plain": [
              "<IPython.core.display.HTML object>"
            ]
          },
          "metadata": {
            "tags": []
          }
        },
        {
          "output_type": "display_data",
          "data": {
            "text/html": [
              "<span style=\"color:blue\"> |-units_7: 240</span>"
            ],
            "text/plain": [
              "<IPython.core.display.HTML object>"
            ]
          },
          "metadata": {
            "tags": []
          }
        },
        {
          "output_type": "display_data",
          "data": {
            "text/html": [
              "<span style=\"color:cyan\"> |-units_8: 48</span>"
            ],
            "text/plain": [
              "<IPython.core.display.HTML object>"
            ]
          },
          "metadata": {
            "tags": []
          }
        },
        {
          "output_type": "display_data",
          "data": {
            "text/html": [
              "<span style=\"color:#4527A0\"><h1 style=\"font-size:18px\">Trial complete</h1></span>"
            ],
            "text/plain": [
              "<IPython.core.display.HTML object>"
            ]
          },
          "metadata": {
            "tags": []
          }
        },
        {
          "output_type": "display_data",
          "data": {
            "text/html": [
              "<span style=\"color:#4527A0\"><h1 style=\"font-size:18px\">Trial summary</h1></span>"
            ],
            "text/plain": [
              "<IPython.core.display.HTML object>"
            ]
          },
          "metadata": {
            "tags": []
          }
        },
        {
          "output_type": "display_data",
          "data": {
            "text/html": [
              "<span style=\"color:cyan\"> |-Trial ID: 1945025f35bfd0c147eedef7064fdcba</span>"
            ],
            "text/plain": [
              "<IPython.core.display.HTML object>"
            ]
          },
          "metadata": {
            "tags": []
          }
        },
        {
          "output_type": "display_data",
          "data": {
            "text/html": [
              "<span style=\"color:cyan\"> |-Score: 18.083805084228516</span>"
            ],
            "text/plain": [
              "<IPython.core.display.HTML object>"
            ]
          },
          "metadata": {
            "tags": []
          }
        },
        {
          "output_type": "display_data",
          "data": {
            "text/html": [
              "<span style=\"color:cyan\"> |-Best step: 0</span>"
            ],
            "text/plain": [
              "<IPython.core.display.HTML object>"
            ]
          },
          "metadata": {
            "tags": []
          }
        },
        {
          "output_type": "display_data",
          "data": {
            "text/html": [
              "<span style=\"color:#7E57C2\"><h2 style=\"font-size:16px\">Hyperparameters:</h2></span>"
            ],
            "text/plain": [
              "<IPython.core.display.HTML object>"
            ]
          },
          "metadata": {
            "tags": []
          }
        },
        {
          "output_type": "display_data",
          "data": {
            "text/html": [
              "<span style=\"color:cyan\"> |-learning_rate: 0.001</span>"
            ],
            "text/plain": [
              "<IPython.core.display.HTML object>"
            ]
          },
          "metadata": {
            "tags": []
          }
        },
        {
          "output_type": "display_data",
          "data": {
            "text/html": [
              "<span style=\"color:blue\"> |-num_layers: 9</span>"
            ],
            "text/plain": [
              "<IPython.core.display.HTML object>"
            ]
          },
          "metadata": {
            "tags": []
          }
        },
        {
          "output_type": "display_data",
          "data": {
            "text/html": [
              "<span style=\"color:cyan\"> |-units_0: 80</span>"
            ],
            "text/plain": [
              "<IPython.core.display.HTML object>"
            ]
          },
          "metadata": {
            "tags": []
          }
        },
        {
          "output_type": "display_data",
          "data": {
            "text/html": [
              "<span style=\"color:blue\"> |-units_1: 112</span>"
            ],
            "text/plain": [
              "<IPython.core.display.HTML object>"
            ]
          },
          "metadata": {
            "tags": []
          }
        },
        {
          "output_type": "display_data",
          "data": {
            "text/html": [
              "<span style=\"color:cyan\"> |-units_2: 112</span>"
            ],
            "text/plain": [
              "<IPython.core.display.HTML object>"
            ]
          },
          "metadata": {
            "tags": []
          }
        },
        {
          "output_type": "display_data",
          "data": {
            "text/html": [
              "<span style=\"color:blue\"> |-units_3: 80</span>"
            ],
            "text/plain": [
              "<IPython.core.display.HTML object>"
            ]
          },
          "metadata": {
            "tags": []
          }
        },
        {
          "output_type": "display_data",
          "data": {
            "text/html": [
              "<span style=\"color:cyan\"> |-units_4: 208</span>"
            ],
            "text/plain": [
              "<IPython.core.display.HTML object>"
            ]
          },
          "metadata": {
            "tags": []
          }
        },
        {
          "output_type": "display_data",
          "data": {
            "text/html": [
              "<span style=\"color:blue\"> |-units_5: 112</span>"
            ],
            "text/plain": [
              "<IPython.core.display.HTML object>"
            ]
          },
          "metadata": {
            "tags": []
          }
        },
        {
          "output_type": "display_data",
          "data": {
            "text/html": [
              "<span style=\"color:cyan\"> |-units_6: 48</span>"
            ],
            "text/plain": [
              "<IPython.core.display.HTML object>"
            ]
          },
          "metadata": {
            "tags": []
          }
        },
        {
          "output_type": "display_data",
          "data": {
            "text/html": [
              "<span style=\"color:blue\"> |-units_7: 208</span>"
            ],
            "text/plain": [
              "<IPython.core.display.HTML object>"
            ]
          },
          "metadata": {
            "tags": []
          }
        },
        {
          "output_type": "display_data",
          "data": {
            "text/html": [
              "<span style=\"color:cyan\"> |-units_8: 240</span>"
            ],
            "text/plain": [
              "<IPython.core.display.HTML object>"
            ]
          },
          "metadata": {
            "tags": []
          }
        },
        {
          "output_type": "stream",
          "text": [
            "INFO:tensorflow:Oracle triggered exit\n"
          ],
          "name": "stdout"
        }
      ]
    },
    {
      "cell_type": "code",
      "metadata": {
        "id": "TMmGVpf2yyuf",
        "colab_type": "code",
        "outputId": "cd5751f9-c241-4781-f176-8b5c93b421ef",
        "colab": {
          "base_uri": "https://localhost:8080/",
          "height": 1000
        }
      },
      "source": [
        "tuner.results_summary()"
      ],
      "execution_count": 0,
      "outputs": [
        {
          "output_type": "display_data",
          "data": {
            "text/html": [
              "<span style=\"color:#4527A0\"><h1 style=\"font-size:18px\">Results summary</h1></span>"
            ],
            "text/plain": [
              "<IPython.core.display.HTML object>"
            ]
          },
          "metadata": {
            "tags": []
          }
        },
        {
          "output_type": "display_data",
          "data": {
            "text/html": [
              "<span style=\"color:cyan\"> |-Results in ./keras-tuner-trial/helloworld</span>"
            ],
            "text/plain": [
              "<IPython.core.display.HTML object>"
            ]
          },
          "metadata": {
            "tags": []
          }
        },
        {
          "output_type": "display_data",
          "data": {
            "text/html": [
              "<span style=\"color:cyan\"> |-Showing 10 best trials</span>"
            ],
            "text/plain": [
              "<IPython.core.display.HTML object>"
            ]
          },
          "metadata": {
            "tags": []
          }
        },
        {
          "output_type": "display_data",
          "data": {
            "text/html": [
              "<span style=\"color:cyan\"> |-Objective(name='val_loss', direction='min')</span>"
            ],
            "text/plain": [
              "<IPython.core.display.HTML object>"
            ]
          },
          "metadata": {
            "tags": []
          }
        },
        {
          "output_type": "display_data",
          "data": {
            "text/html": [
              "<span style=\"color:#4527A0\"><h1 style=\"font-size:18px\">Trial summary</h1></span>"
            ],
            "text/plain": [
              "<IPython.core.display.HTML object>"
            ]
          },
          "metadata": {
            "tags": []
          }
        },
        {
          "output_type": "display_data",
          "data": {
            "text/html": [
              "<span style=\"color:cyan\"> |-Trial ID: 77b718e3e44936a9a29ebaa8ac3062de</span>"
            ],
            "text/plain": [
              "<IPython.core.display.HTML object>"
            ]
          },
          "metadata": {
            "tags": []
          }
        },
        {
          "output_type": "display_data",
          "data": {
            "text/html": [
              "<span style=\"color:cyan\"> |-Score: 17.29547182718913</span>"
            ],
            "text/plain": [
              "<IPython.core.display.HTML object>"
            ]
          },
          "metadata": {
            "tags": []
          }
        },
        {
          "output_type": "display_data",
          "data": {
            "text/html": [
              "<span style=\"color:cyan\"> |-Best step: 0</span>"
            ],
            "text/plain": [
              "<IPython.core.display.HTML object>"
            ]
          },
          "metadata": {
            "tags": []
          }
        },
        {
          "output_type": "display_data",
          "data": {
            "text/html": [
              "<span style=\"color:#7E57C2\"><h2 style=\"font-size:16px\">Hyperparameters:</h2></span>"
            ],
            "text/plain": [
              "<IPython.core.display.HTML object>"
            ]
          },
          "metadata": {
            "tags": []
          }
        },
        {
          "output_type": "display_data",
          "data": {
            "text/html": [
              "<span style=\"color:cyan\"> |-learning_rate: 0.01</span>"
            ],
            "text/plain": [
              "<IPython.core.display.HTML object>"
            ]
          },
          "metadata": {
            "tags": []
          }
        },
        {
          "output_type": "display_data",
          "data": {
            "text/html": [
              "<span style=\"color:blue\"> |-num_layers: 7</span>"
            ],
            "text/plain": [
              "<IPython.core.display.HTML object>"
            ]
          },
          "metadata": {
            "tags": []
          }
        },
        {
          "output_type": "display_data",
          "data": {
            "text/html": [
              "<span style=\"color:cyan\"> |-units_0: 144</span>"
            ],
            "text/plain": [
              "<IPython.core.display.HTML object>"
            ]
          },
          "metadata": {
            "tags": []
          }
        },
        {
          "output_type": "display_data",
          "data": {
            "text/html": [
              "<span style=\"color:blue\"> |-units_1: 240</span>"
            ],
            "text/plain": [
              "<IPython.core.display.HTML object>"
            ]
          },
          "metadata": {
            "tags": []
          }
        },
        {
          "output_type": "display_data",
          "data": {
            "text/html": [
              "<span style=\"color:cyan\"> |-units_2: 80</span>"
            ],
            "text/plain": [
              "<IPython.core.display.HTML object>"
            ]
          },
          "metadata": {
            "tags": []
          }
        },
        {
          "output_type": "display_data",
          "data": {
            "text/html": [
              "<span style=\"color:blue\"> |-units_3: 16</span>"
            ],
            "text/plain": [
              "<IPython.core.display.HTML object>"
            ]
          },
          "metadata": {
            "tags": []
          }
        },
        {
          "output_type": "display_data",
          "data": {
            "text/html": [
              "<span style=\"color:cyan\"> |-units_4: 16</span>"
            ],
            "text/plain": [
              "<IPython.core.display.HTML object>"
            ]
          },
          "metadata": {
            "tags": []
          }
        },
        {
          "output_type": "display_data",
          "data": {
            "text/html": [
              "<span style=\"color:blue\"> |-units_5: 16</span>"
            ],
            "text/plain": [
              "<IPython.core.display.HTML object>"
            ]
          },
          "metadata": {
            "tags": []
          }
        },
        {
          "output_type": "display_data",
          "data": {
            "text/html": [
              "<span style=\"color:cyan\"> |-units_6: 16</span>"
            ],
            "text/plain": [
              "<IPython.core.display.HTML object>"
            ]
          },
          "metadata": {
            "tags": []
          }
        },
        {
          "output_type": "display_data",
          "data": {
            "text/html": [
              "<span style=\"color:#4527A0\"><h1 style=\"font-size:18px\">Trial summary</h1></span>"
            ],
            "text/plain": [
              "<IPython.core.display.HTML object>"
            ]
          },
          "metadata": {
            "tags": []
          }
        },
        {
          "output_type": "display_data",
          "data": {
            "text/html": [
              "<span style=\"color:cyan\"> |-Trial ID: 1945025f35bfd0c147eedef7064fdcba</span>"
            ],
            "text/plain": [
              "<IPython.core.display.HTML object>"
            ]
          },
          "metadata": {
            "tags": []
          }
        },
        {
          "output_type": "display_data",
          "data": {
            "text/html": [
              "<span style=\"color:cyan\"> |-Score: 18.083805084228516</span>"
            ],
            "text/plain": [
              "<IPython.core.display.HTML object>"
            ]
          },
          "metadata": {
            "tags": []
          }
        },
        {
          "output_type": "display_data",
          "data": {
            "text/html": [
              "<span style=\"color:cyan\"> |-Best step: 0</span>"
            ],
            "text/plain": [
              "<IPython.core.display.HTML object>"
            ]
          },
          "metadata": {
            "tags": []
          }
        },
        {
          "output_type": "display_data",
          "data": {
            "text/html": [
              "<span style=\"color:#7E57C2\"><h2 style=\"font-size:16px\">Hyperparameters:</h2></span>"
            ],
            "text/plain": [
              "<IPython.core.display.HTML object>"
            ]
          },
          "metadata": {
            "tags": []
          }
        },
        {
          "output_type": "display_data",
          "data": {
            "text/html": [
              "<span style=\"color:cyan\"> |-learning_rate: 0.001</span>"
            ],
            "text/plain": [
              "<IPython.core.display.HTML object>"
            ]
          },
          "metadata": {
            "tags": []
          }
        },
        {
          "output_type": "display_data",
          "data": {
            "text/html": [
              "<span style=\"color:blue\"> |-num_layers: 9</span>"
            ],
            "text/plain": [
              "<IPython.core.display.HTML object>"
            ]
          },
          "metadata": {
            "tags": []
          }
        },
        {
          "output_type": "display_data",
          "data": {
            "text/html": [
              "<span style=\"color:cyan\"> |-units_0: 80</span>"
            ],
            "text/plain": [
              "<IPython.core.display.HTML object>"
            ]
          },
          "metadata": {
            "tags": []
          }
        },
        {
          "output_type": "display_data",
          "data": {
            "text/html": [
              "<span style=\"color:blue\"> |-units_1: 112</span>"
            ],
            "text/plain": [
              "<IPython.core.display.HTML object>"
            ]
          },
          "metadata": {
            "tags": []
          }
        },
        {
          "output_type": "display_data",
          "data": {
            "text/html": [
              "<span style=\"color:cyan\"> |-units_2: 112</span>"
            ],
            "text/plain": [
              "<IPython.core.display.HTML object>"
            ]
          },
          "metadata": {
            "tags": []
          }
        },
        {
          "output_type": "display_data",
          "data": {
            "text/html": [
              "<span style=\"color:blue\"> |-units_3: 80</span>"
            ],
            "text/plain": [
              "<IPython.core.display.HTML object>"
            ]
          },
          "metadata": {
            "tags": []
          }
        },
        {
          "output_type": "display_data",
          "data": {
            "text/html": [
              "<span style=\"color:cyan\"> |-units_4: 208</span>"
            ],
            "text/plain": [
              "<IPython.core.display.HTML object>"
            ]
          },
          "metadata": {
            "tags": []
          }
        },
        {
          "output_type": "display_data",
          "data": {
            "text/html": [
              "<span style=\"color:blue\"> |-units_5: 112</span>"
            ],
            "text/plain": [
              "<IPython.core.display.HTML object>"
            ]
          },
          "metadata": {
            "tags": []
          }
        },
        {
          "output_type": "display_data",
          "data": {
            "text/html": [
              "<span style=\"color:cyan\"> |-units_6: 48</span>"
            ],
            "text/plain": [
              "<IPython.core.display.HTML object>"
            ]
          },
          "metadata": {
            "tags": []
          }
        },
        {
          "output_type": "display_data",
          "data": {
            "text/html": [
              "<span style=\"color:blue\"> |-units_7: 208</span>"
            ],
            "text/plain": [
              "<IPython.core.display.HTML object>"
            ]
          },
          "metadata": {
            "tags": []
          }
        },
        {
          "output_type": "display_data",
          "data": {
            "text/html": [
              "<span style=\"color:cyan\"> |-units_8: 240</span>"
            ],
            "text/plain": [
              "<IPython.core.display.HTML object>"
            ]
          },
          "metadata": {
            "tags": []
          }
        },
        {
          "output_type": "display_data",
          "data": {
            "text/html": [
              "<span style=\"color:#4527A0\"><h1 style=\"font-size:18px\">Trial summary</h1></span>"
            ],
            "text/plain": [
              "<IPython.core.display.HTML object>"
            ]
          },
          "metadata": {
            "tags": []
          }
        },
        {
          "output_type": "display_data",
          "data": {
            "text/html": [
              "<span style=\"color:cyan\"> |-Trial ID: 0efe276f9cc09e262a58db27f85a8a8e</span>"
            ],
            "text/plain": [
              "<IPython.core.display.HTML object>"
            ]
          },
          "metadata": {
            "tags": []
          }
        },
        {
          "output_type": "display_data",
          "data": {
            "text/html": [
              "<span style=\"color:cyan\"> |-Score: 23.60473887125651</span>"
            ],
            "text/plain": [
              "<IPython.core.display.HTML object>"
            ]
          },
          "metadata": {
            "tags": []
          }
        },
        {
          "output_type": "display_data",
          "data": {
            "text/html": [
              "<span style=\"color:cyan\"> |-Best step: 0</span>"
            ],
            "text/plain": [
              "<IPython.core.display.HTML object>"
            ]
          },
          "metadata": {
            "tags": []
          }
        },
        {
          "output_type": "display_data",
          "data": {
            "text/html": [
              "<span style=\"color:#7E57C2\"><h2 style=\"font-size:16px\">Hyperparameters:</h2></span>"
            ],
            "text/plain": [
              "<IPython.core.display.HTML object>"
            ]
          },
          "metadata": {
            "tags": []
          }
        },
        {
          "output_type": "display_data",
          "data": {
            "text/html": [
              "<span style=\"color:cyan\"> |-learning_rate: 0.001</span>"
            ],
            "text/plain": [
              "<IPython.core.display.HTML object>"
            ]
          },
          "metadata": {
            "tags": []
          }
        },
        {
          "output_type": "display_data",
          "data": {
            "text/html": [
              "<span style=\"color:blue\"> |-num_layers: 9</span>"
            ],
            "text/plain": [
              "<IPython.core.display.HTML object>"
            ]
          },
          "metadata": {
            "tags": []
          }
        },
        {
          "output_type": "display_data",
          "data": {
            "text/html": [
              "<span style=\"color:cyan\"> |-units_0: 16</span>"
            ],
            "text/plain": [
              "<IPython.core.display.HTML object>"
            ]
          },
          "metadata": {
            "tags": []
          }
        },
        {
          "output_type": "display_data",
          "data": {
            "text/html": [
              "<span style=\"color:blue\"> |-units_1: 112</span>"
            ],
            "text/plain": [
              "<IPython.core.display.HTML object>"
            ]
          },
          "metadata": {
            "tags": []
          }
        },
        {
          "output_type": "display_data",
          "data": {
            "text/html": [
              "<span style=\"color:cyan\"> |-units_2: 112</span>"
            ],
            "text/plain": [
              "<IPython.core.display.HTML object>"
            ]
          },
          "metadata": {
            "tags": []
          }
        },
        {
          "output_type": "display_data",
          "data": {
            "text/html": [
              "<span style=\"color:blue\"> |-units_3: 80</span>"
            ],
            "text/plain": [
              "<IPython.core.display.HTML object>"
            ]
          },
          "metadata": {
            "tags": []
          }
        },
        {
          "output_type": "display_data",
          "data": {
            "text/html": [
              "<span style=\"color:cyan\"> |-units_4: 208</span>"
            ],
            "text/plain": [
              "<IPython.core.display.HTML object>"
            ]
          },
          "metadata": {
            "tags": []
          }
        },
        {
          "output_type": "display_data",
          "data": {
            "text/html": [
              "<span style=\"color:blue\"> |-units_5: 48</span>"
            ],
            "text/plain": [
              "<IPython.core.display.HTML object>"
            ]
          },
          "metadata": {
            "tags": []
          }
        },
        {
          "output_type": "display_data",
          "data": {
            "text/html": [
              "<span style=\"color:cyan\"> |-units_6: 48</span>"
            ],
            "text/plain": [
              "<IPython.core.display.HTML object>"
            ]
          },
          "metadata": {
            "tags": []
          }
        },
        {
          "output_type": "display_data",
          "data": {
            "text/html": [
              "<span style=\"color:blue\"> |-units_7: 16</span>"
            ],
            "text/plain": [
              "<IPython.core.display.HTML object>"
            ]
          },
          "metadata": {
            "tags": []
          }
        },
        {
          "output_type": "display_data",
          "data": {
            "text/html": [
              "<span style=\"color:cyan\"> |-units_8: 16</span>"
            ],
            "text/plain": [
              "<IPython.core.display.HTML object>"
            ]
          },
          "metadata": {
            "tags": []
          }
        },
        {
          "output_type": "display_data",
          "data": {
            "text/html": [
              "<span style=\"color:#4527A0\"><h1 style=\"font-size:18px\">Trial summary</h1></span>"
            ],
            "text/plain": [
              "<IPython.core.display.HTML object>"
            ]
          },
          "metadata": {
            "tags": []
          }
        },
        {
          "output_type": "display_data",
          "data": {
            "text/html": [
              "<span style=\"color:cyan\"> |-Trial ID: e35c5ad403e415b1ca7a19636da751df</span>"
            ],
            "text/plain": [
              "<IPython.core.display.HTML object>"
            ]
          },
          "metadata": {
            "tags": []
          }
        },
        {
          "output_type": "display_data",
          "data": {
            "text/html": [
              "<span style=\"color:cyan\"> |-Score: 65.09820175170898</span>"
            ],
            "text/plain": [
              "<IPython.core.display.HTML object>"
            ]
          },
          "metadata": {
            "tags": []
          }
        },
        {
          "output_type": "display_data",
          "data": {
            "text/html": [
              "<span style=\"color:cyan\"> |-Best step: 0</span>"
            ],
            "text/plain": [
              "<IPython.core.display.HTML object>"
            ]
          },
          "metadata": {
            "tags": []
          }
        },
        {
          "output_type": "display_data",
          "data": {
            "text/html": [
              "<span style=\"color:#7E57C2\"><h2 style=\"font-size:16px\">Hyperparameters:</h2></span>"
            ],
            "text/plain": [
              "<IPython.core.display.HTML object>"
            ]
          },
          "metadata": {
            "tags": []
          }
        },
        {
          "output_type": "display_data",
          "data": {
            "text/html": [
              "<span style=\"color:cyan\"> |-learning_rate: 0.0001</span>"
            ],
            "text/plain": [
              "<IPython.core.display.HTML object>"
            ]
          },
          "metadata": {
            "tags": []
          }
        },
        {
          "output_type": "display_data",
          "data": {
            "text/html": [
              "<span style=\"color:blue\"> |-num_layers: 4</span>"
            ],
            "text/plain": [
              "<IPython.core.display.HTML object>"
            ]
          },
          "metadata": {
            "tags": []
          }
        },
        {
          "output_type": "display_data",
          "data": {
            "text/html": [
              "<span style=\"color:cyan\"> |-units_0: 80</span>"
            ],
            "text/plain": [
              "<IPython.core.display.HTML object>"
            ]
          },
          "metadata": {
            "tags": []
          }
        },
        {
          "output_type": "display_data",
          "data": {
            "text/html": [
              "<span style=\"color:blue\"> |-units_1: 112</span>"
            ],
            "text/plain": [
              "<IPython.core.display.HTML object>"
            ]
          },
          "metadata": {
            "tags": []
          }
        },
        {
          "output_type": "display_data",
          "data": {
            "text/html": [
              "<span style=\"color:cyan\"> |-units_2: 48</span>"
            ],
            "text/plain": [
              "<IPython.core.display.HTML object>"
            ]
          },
          "metadata": {
            "tags": []
          }
        },
        {
          "output_type": "display_data",
          "data": {
            "text/html": [
              "<span style=\"color:blue\"> |-units_3: 144</span>"
            ],
            "text/plain": [
              "<IPython.core.display.HTML object>"
            ]
          },
          "metadata": {
            "tags": []
          }
        },
        {
          "output_type": "display_data",
          "data": {
            "text/html": [
              "<span style=\"color:cyan\"> |-units_4: 176</span>"
            ],
            "text/plain": [
              "<IPython.core.display.HTML object>"
            ]
          },
          "metadata": {
            "tags": []
          }
        },
        {
          "output_type": "display_data",
          "data": {
            "text/html": [
              "<span style=\"color:blue\"> |-units_5: 144</span>"
            ],
            "text/plain": [
              "<IPython.core.display.HTML object>"
            ]
          },
          "metadata": {
            "tags": []
          }
        },
        {
          "output_type": "display_data",
          "data": {
            "text/html": [
              "<span style=\"color:cyan\"> |-units_6: 80</span>"
            ],
            "text/plain": [
              "<IPython.core.display.HTML object>"
            ]
          },
          "metadata": {
            "tags": []
          }
        },
        {
          "output_type": "display_data",
          "data": {
            "text/html": [
              "<span style=\"color:blue\"> |-units_7: 240</span>"
            ],
            "text/plain": [
              "<IPython.core.display.HTML object>"
            ]
          },
          "metadata": {
            "tags": []
          }
        },
        {
          "output_type": "display_data",
          "data": {
            "text/html": [
              "<span style=\"color:cyan\"> |-units_8: 48</span>"
            ],
            "text/plain": [
              "<IPython.core.display.HTML object>"
            ]
          },
          "metadata": {
            "tags": []
          }
        },
        {
          "output_type": "display_data",
          "data": {
            "text/html": [
              "<span style=\"color:#4527A0\"><h1 style=\"font-size:18px\">Trial summary</h1></span>"
            ],
            "text/plain": [
              "<IPython.core.display.HTML object>"
            ]
          },
          "metadata": {
            "tags": []
          }
        },
        {
          "output_type": "display_data",
          "data": {
            "text/html": [
              "<span style=\"color:cyan\"> |-Trial ID: 1c014b17c421f2851377657b61bee7a0</span>"
            ],
            "text/plain": [
              "<IPython.core.display.HTML object>"
            ]
          },
          "metadata": {
            "tags": []
          }
        },
        {
          "output_type": "display_data",
          "data": {
            "text/html": [
              "<span style=\"color:cyan\"> |-Score: 87.6526870727539</span>"
            ],
            "text/plain": [
              "<IPython.core.display.HTML object>"
            ]
          },
          "metadata": {
            "tags": []
          }
        },
        {
          "output_type": "display_data",
          "data": {
            "text/html": [
              "<span style=\"color:cyan\"> |-Best step: 0</span>"
            ],
            "text/plain": [
              "<IPython.core.display.HTML object>"
            ]
          },
          "metadata": {
            "tags": []
          }
        },
        {
          "output_type": "display_data",
          "data": {
            "text/html": [
              "<span style=\"color:#7E57C2\"><h2 style=\"font-size:16px\">Hyperparameters:</h2></span>"
            ],
            "text/plain": [
              "<IPython.core.display.HTML object>"
            ]
          },
          "metadata": {
            "tags": []
          }
        },
        {
          "output_type": "display_data",
          "data": {
            "text/html": [
              "<span style=\"color:cyan\"> |-learning_rate: 0.0001</span>"
            ],
            "text/plain": [
              "<IPython.core.display.HTML object>"
            ]
          },
          "metadata": {
            "tags": []
          }
        },
        {
          "output_type": "display_data",
          "data": {
            "text/html": [
              "<span style=\"color:blue\"> |-num_layers: 3</span>"
            ],
            "text/plain": [
              "<IPython.core.display.HTML object>"
            ]
          },
          "metadata": {
            "tags": []
          }
        },
        {
          "output_type": "display_data",
          "data": {
            "text/html": [
              "<span style=\"color:cyan\"> |-units_0: 176</span>"
            ],
            "text/plain": [
              "<IPython.core.display.HTML object>"
            ]
          },
          "metadata": {
            "tags": []
          }
        },
        {
          "output_type": "display_data",
          "data": {
            "text/html": [
              "<span style=\"color:blue\"> |-units_1: 240</span>"
            ],
            "text/plain": [
              "<IPython.core.display.HTML object>"
            ]
          },
          "metadata": {
            "tags": []
          }
        },
        {
          "output_type": "display_data",
          "data": {
            "text/html": [
              "<span style=\"color:cyan\"> |-units_2: 16</span>"
            ],
            "text/plain": [
              "<IPython.core.display.HTML object>"
            ]
          },
          "metadata": {
            "tags": []
          }
        }
      ]
    },
    {
      "cell_type": "markdown",
      "metadata": {
        "id": "HhmogJtYeLug",
        "colab_type": "text"
      },
      "source": [
        "## Let's Compare Performance to RandomForestRegressor with Default Parameters"
      ]
    },
    {
      "cell_type": "code",
      "metadata": {
        "id": "zx1yU46mdZ4u",
        "colab_type": "code",
        "outputId": "d3ee7917-4d94-474f-b6f6-8e28ac377f6b",
        "colab": {
          "base_uri": "https://localhost:8080/",
          "height": 34
        }
      },
      "source": [
        "from sklearn.ensemble import RandomForestRegressor\n",
        "from sklearn.model_selection import cross_val_score\n",
        "\n",
        "rf = RandomForestRegressor(n_estimators=100, n_jobs=-1, random_state=42)\n",
        "rf.fit(X_train, y_train)\n",
        "\n",
        "k = 5\n",
        "scores = cross_val_score(rf, X_train, y_train, cv=k, \n",
        "                         scoring='neg_mean_squared_error')\n",
        "print(f'Mean MSE for {k} folds:', -scores.mean())"
      ],
      "execution_count": 0,
      "outputs": [
        {
          "output_type": "stream",
          "text": [
            "Mean MSE for 5 folds: 14.024550676944438\n"
          ],
          "name": "stdout"
        }
      ]
    },
    {
      "cell_type": "markdown",
      "metadata": {
        "id": "8_p4ekRPyyui",
        "colab_type": "text"
      },
      "source": [
        "## Challenge\n",
        "\n",
        "Try to apply RandomSearchCV to your module project today. "
      ]
    },
    {
      "cell_type": "markdown",
      "metadata": {
        "id": "Plxehak7yyui",
        "colab_type": "text"
      },
      "source": [
        "# Review\n",
        "* <a href=\"#p1\">Part 1</a>: Describe the major hyperparemeters to tune\n",
        "    - Activation Functions\n",
        "    - Optimizer\n",
        "    - Number of Layers\n",
        "    - Number of Neurons\n",
        "    - Batch Size\n",
        "    - Dropout Regulaization\n",
        "    - Learning Rate\n",
        "    - Number of Epochs\n",
        "    - and many more\n",
        "* <a href=\"#p2\">Part 2</a>: Implement an experiment tracking framework\n",
        "    - Weights & Biases\n",
        "    - Comet.ml\n",
        "    - By Hand / GridSearch\n",
        "* <a href=\"#p3\">Part 3</a>: Search the hyperparameter space using RandomSearch\n",
        "    - Sklearn still useful (haha)\n",
        "    - Integration with Wieghts & Biases\n",
        "* <a href=\"#p4\">Part 4</a>: Discuss emerging hyperparameter tuning strategies\n",
        "    - Bayesian Optimization\n",
        "    - Hyperopt\n",
        "    - Genetic Evolution"
      ]
    },
    {
      "cell_type": "markdown",
      "metadata": {
        "id": "kXX0TFjwyyui",
        "colab_type": "text"
      },
      "source": [
        "# Sources"
      ]
    },
    {
      "cell_type": "markdown",
      "metadata": {
        "id": "XN32sGi6yyuj",
        "colab_type": "text"
      },
      "source": [
        "## Additional Reading\n",
        "- https://machinelearningmastery.com/grid-search-hyperparameters-deep-learning-models-python-keras/\n",
        "- https://blog.floydhub.com/guide-to-hyperparameters-search-for-deep-learning-models/\n",
        "- https://machinelearningmastery.com/dropout-regularization-deep-learning-models-keras/\n",
        "- https://machinelearningmastery.com/introduction-to-weight-constraints-to-reduce-generalization-error-in-deep-learning/\n",
        "- https://machinelearningmastery.com/how-to-configure-the-number-of-layers-and-nodes-in-a-neural-network/"
      ]
    }
  ]
}