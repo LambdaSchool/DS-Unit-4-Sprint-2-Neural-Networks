{
  "nbformat": 4,
  "nbformat_minor": 0,
  "metadata": {
    "colab": {
      "name": "My LS_DS_434_Hyperparameter_Tuning.ipynb",
      "version": "0.3.2",
      "provenance": [],
      "collapsed_sections": [],
      "include_colab_link": true
    },
    "kernelspec": {
      "name": "python3",
      "display_name": "Python 3"
    }
  },
  "cells": [
    {
      "cell_type": "markdown",
      "metadata": {
        "id": "view-in-github",
        "colab_type": "text"
      },
      "source": [
        "<a href=\"https://colab.research.google.com/github/wel51x/DS-Unit-4-Sprint-3-Neural-Networks/blob/master/module4-Hyperparameter-Tuning/My_LS_DS_434_Hyperparameter_Tuning.ipynb\" target=\"_parent\"><img src=\"https://colab.research.google.com/assets/colab-badge.svg\" alt=\"Open In Colab\"/></a>"
      ]
    },
    {
      "cell_type": "markdown",
      "metadata": {
        "id": "41TS0Sa0rDNx",
        "colab_type": "text"
      },
      "source": [
        "# Model Validation with Keras - Boston Housing Data"
      ]
    },
    {
      "cell_type": "code",
      "metadata": {
        "id": "ZyirqVC_sC64",
        "colab_type": "code",
        "colab": {
          "base_uri": "https://localhost:8080/",
          "height": 34
        },
        "outputId": "8ff16ef5-4ecb-42d0-8022-55fc96007a16"
      },
      "source": [
        "import keras\n",
        "from keras.models import Sequential\n",
        "from keras.layers import Dense\n",
        "import pandas as pd\n",
        "import numpy\n",
        "# fix random seed for reproducibility\n",
        "numpy.random.seed(42)"
      ],
      "execution_count": 1,
      "outputs": [
        {
          "output_type": "stream",
          "text": [
            "Using TensorFlow backend.\n"
          ],
          "name": "stderr"
        }
      ]
    },
    {
      "cell_type": "markdown",
      "metadata": {
        "id": "0s0o2pqBs88q",
        "colab_type": "text"
      },
      "source": [
        "### Load Boston Housing Data\n",
        "\n",
        "Even though we can import this dataset from Keras, Keras already has it divided up into test and train datasets for us I don't want that for this demonstration, so I'm going to import it from Scikit-Learn instead."
      ]
    },
    {
      "cell_type": "markdown",
      "metadata": {
        "id": "3c7o9TD1aR6T",
        "colab_type": "text"
      },
      "source": [
        "column_names=['CRIM','ZN','INDUS','CHAS','NOX','RM','AGE','DIS','RAD','TAX',\n",
        "              'PTRATIO','B','LSTAT']\n",
        "              \n",
        "key= ['Per capita crime rate.',\n",
        "\n",
        "    'The proportion of residential land zoned for lots over 25,000\\\n",
        "     square feet.',\n",
        "     \n",
        "    'The proportion of non-retail business acres per town.',\n",
        "    \n",
        "    'Charles River dummy variable (=1 if tract bounds river; 0\\\n",
        "     otherwise).',\n",
        "     \n",
        "    'Nitric oxides concentration (parts per 10 million).',\n",
        "    \n",
        "    'The average number of rooms per dwelling.',\n",
        "    \n",
        "    'The porportion of owner-occupied units built before 1940.',\n",
        "    \n",
        "    'Weighted distances to five Boston employment centers.',\n",
        "    \n",
        "    'Index of accessibility to radial highways.',\n",
        "    \n",
        "    'Full-value property tax rate per $10,000.',\n",
        "    \n",
        "    'Pupil-Teacher ratio by town.',\n",
        "    \n",
        "    '1000*(Bk-0.63)**2 where Bk is the proportion of Black people by town.',\n",
        "    \n",
        "    'Percentage lower status of the population.']"
      ]
    },
    {
      "cell_type": "code",
      "metadata": {
        "id": "cMMt4MtAsVx0",
        "colab_type": "code",
        "outputId": "b15578b8-69b7-4f7b-d0f6-f6c114bab3e5",
        "colab": {
          "base_uri": "https://localhost:8080/",
          "height": 221
        }
      },
      "source": [
        "# load dataset\n",
        "from sklearn.datasets import load_boston\n",
        "boston_dataset = load_boston()\n",
        "df = pd.DataFrame(boston_dataset.data, columns=boston_dataset.feature_names)\n",
        "df['MEDV'] = boston_dataset.target\n",
        "print(df.shape)\n",
        "df.head()"
      ],
      "execution_count": 2,
      "outputs": [
        {
          "output_type": "stream",
          "text": [
            "(506, 14)\n"
          ],
          "name": "stdout"
        },
        {
          "output_type": "execute_result",
          "data": {
            "text/html": [
              "<div>\n",
              "<style scoped>\n",
              "    .dataframe tbody tr th:only-of-type {\n",
              "        vertical-align: middle;\n",
              "    }\n",
              "\n",
              "    .dataframe tbody tr th {\n",
              "        vertical-align: top;\n",
              "    }\n",
              "\n",
              "    .dataframe thead th {\n",
              "        text-align: right;\n",
              "    }\n",
              "</style>\n",
              "<table border=\"1\" class=\"dataframe\">\n",
              "  <thead>\n",
              "    <tr style=\"text-align: right;\">\n",
              "      <th></th>\n",
              "      <th>CRIM</th>\n",
              "      <th>ZN</th>\n",
              "      <th>INDUS</th>\n",
              "      <th>CHAS</th>\n",
              "      <th>NOX</th>\n",
              "      <th>RM</th>\n",
              "      <th>AGE</th>\n",
              "      <th>DIS</th>\n",
              "      <th>RAD</th>\n",
              "      <th>TAX</th>\n",
              "      <th>PTRATIO</th>\n",
              "      <th>B</th>\n",
              "      <th>LSTAT</th>\n",
              "      <th>MEDV</th>\n",
              "    </tr>\n",
              "  </thead>\n",
              "  <tbody>\n",
              "    <tr>\n",
              "      <th>0</th>\n",
              "      <td>0.00632</td>\n",
              "      <td>18.0</td>\n",
              "      <td>2.31</td>\n",
              "      <td>0.0</td>\n",
              "      <td>0.538</td>\n",
              "      <td>6.575</td>\n",
              "      <td>65.2</td>\n",
              "      <td>4.0900</td>\n",
              "      <td>1.0</td>\n",
              "      <td>296.0</td>\n",
              "      <td>15.3</td>\n",
              "      <td>396.90</td>\n",
              "      <td>4.98</td>\n",
              "      <td>24.0</td>\n",
              "    </tr>\n",
              "    <tr>\n",
              "      <th>1</th>\n",
              "      <td>0.02731</td>\n",
              "      <td>0.0</td>\n",
              "      <td>7.07</td>\n",
              "      <td>0.0</td>\n",
              "      <td>0.469</td>\n",
              "      <td>6.421</td>\n",
              "      <td>78.9</td>\n",
              "      <td>4.9671</td>\n",
              "      <td>2.0</td>\n",
              "      <td>242.0</td>\n",
              "      <td>17.8</td>\n",
              "      <td>396.90</td>\n",
              "      <td>9.14</td>\n",
              "      <td>21.6</td>\n",
              "    </tr>\n",
              "    <tr>\n",
              "      <th>2</th>\n",
              "      <td>0.02729</td>\n",
              "      <td>0.0</td>\n",
              "      <td>7.07</td>\n",
              "      <td>0.0</td>\n",
              "      <td>0.469</td>\n",
              "      <td>7.185</td>\n",
              "      <td>61.1</td>\n",
              "      <td>4.9671</td>\n",
              "      <td>2.0</td>\n",
              "      <td>242.0</td>\n",
              "      <td>17.8</td>\n",
              "      <td>392.83</td>\n",
              "      <td>4.03</td>\n",
              "      <td>34.7</td>\n",
              "    </tr>\n",
              "    <tr>\n",
              "      <th>3</th>\n",
              "      <td>0.03237</td>\n",
              "      <td>0.0</td>\n",
              "      <td>2.18</td>\n",
              "      <td>0.0</td>\n",
              "      <td>0.458</td>\n",
              "      <td>6.998</td>\n",
              "      <td>45.8</td>\n",
              "      <td>6.0622</td>\n",
              "      <td>3.0</td>\n",
              "      <td>222.0</td>\n",
              "      <td>18.7</td>\n",
              "      <td>394.63</td>\n",
              "      <td>2.94</td>\n",
              "      <td>33.4</td>\n",
              "    </tr>\n",
              "    <tr>\n",
              "      <th>4</th>\n",
              "      <td>0.06905</td>\n",
              "      <td>0.0</td>\n",
              "      <td>2.18</td>\n",
              "      <td>0.0</td>\n",
              "      <td>0.458</td>\n",
              "      <td>7.147</td>\n",
              "      <td>54.2</td>\n",
              "      <td>6.0622</td>\n",
              "      <td>3.0</td>\n",
              "      <td>222.0</td>\n",
              "      <td>18.7</td>\n",
              "      <td>396.90</td>\n",
              "      <td>5.33</td>\n",
              "      <td>36.2</td>\n",
              "    </tr>\n",
              "  </tbody>\n",
              "</table>\n",
              "</div>"
            ],
            "text/plain": [
              "      CRIM    ZN  INDUS  CHAS    NOX     RM   AGE     DIS  RAD    TAX  \\\n",
              "0  0.00632  18.0   2.31   0.0  0.538  6.575  65.2  4.0900  1.0  296.0   \n",
              "1  0.02731   0.0   7.07   0.0  0.469  6.421  78.9  4.9671  2.0  242.0   \n",
              "2  0.02729   0.0   7.07   0.0  0.469  7.185  61.1  4.9671  2.0  242.0   \n",
              "3  0.03237   0.0   2.18   0.0  0.458  6.998  45.8  6.0622  3.0  222.0   \n",
              "4  0.06905   0.0   2.18   0.0  0.458  7.147  54.2  6.0622  3.0  222.0   \n",
              "\n",
              "   PTRATIO       B  LSTAT  MEDV  \n",
              "0     15.3  396.90   4.98  24.0  \n",
              "1     17.8  396.90   9.14  21.6  \n",
              "2     17.8  392.83   4.03  34.7  \n",
              "3     18.7  394.63   2.94  33.4  \n",
              "4     18.7  396.90   5.33  36.2  "
            ]
          },
          "metadata": {
            "tags": []
          },
          "execution_count": 2
        }
      ]
    },
    {
      "cell_type": "markdown",
      "metadata": {
        "id": "Pm7zow5IvaTt",
        "colab_type": "text"
      },
      "source": [
        "## Normalizing Input Data\n",
        "\n",
        "It's not 100% necessary to normalize/scale your input data before feeding it to a neural network, the network can learn the appropriate weights to deal with data of as long as it is numerically represented,  but it is recommended as it can help **make training faster** and **reduces the chances that gradient descent might get stuck in a local optimum**.\n",
        "\n",
        "<https://stackoverflow.com/questions/4674623/why-do-we-have-to-normalize-the-input-for-an-artificial-neural-network>"
      ]
    },
    {
      "cell_type": "code",
      "metadata": {
        "id": "q5qDpUj9vZVw",
        "colab_type": "code",
        "outputId": "05d5345d-bb1e-49d6-ec86-b63870f23df4",
        "colab": {
          "base_uri": "https://localhost:8080/",
          "height": 238
        }
      },
      "source": [
        "from sklearn.preprocessing import StandardScaler\n",
        "\n",
        "# Split into X and y and turn into numpy arays\n",
        "y = df.MEDV.values\n",
        "X = df.drop(\"MEDV\", axis='columns').values\n",
        "\n",
        "# Scale input data\n",
        "scaler = StandardScaler()\n",
        "X = scaler.fit_transform(X)\n",
        "print(X)"
      ],
      "execution_count": 3,
      "outputs": [
        {
          "output_type": "stream",
          "text": [
            "[[-0.41978194  0.28482986 -1.2879095  ... -1.45900038  0.44105193\n",
            "  -1.0755623 ]\n",
            " [-0.41733926 -0.48772236 -0.59338101 ... -0.30309415  0.44105193\n",
            "  -0.49243937]\n",
            " [-0.41734159 -0.48772236 -0.59338101 ... -0.30309415  0.39642699\n",
            "  -1.2087274 ]\n",
            " ...\n",
            " [-0.41344658 -0.48772236  0.11573841 ...  1.17646583  0.44105193\n",
            "  -0.98304761]\n",
            " [-0.40776407 -0.48772236  0.11573841 ...  1.17646583  0.4032249\n",
            "  -0.86530163]\n",
            " [-0.41500016 -0.48772236  0.11573841 ...  1.17646583  0.44105193\n",
            "  -0.66905833]]\n"
          ],
          "name": "stdout"
        }
      ]
    },
    {
      "cell_type": "markdown",
      "metadata": {
        "id": "l6hgCWbir90R",
        "colab_type": "text"
      },
      "source": [
        "## Model Validation using an automatic verification Dataset\n",
        "\n",
        "Instead of doing a train test split, Keras has a really nice feature that you can set the validation.split argument when fitting your model and Keras will take that portion of your test data and use it as a validation dataset. "
      ]
    },
    {
      "cell_type": "code",
      "metadata": {
        "id": "GMXVfmzXp1Oo",
        "colab_type": "code",
        "outputId": "10a88cec-9dfd-4f0e-d53f-7400d37fa39f",
        "colab": {
          "base_uri": "https://localhost:8080/",
          "height": 1873
        }
      },
      "source": [
        "# Important Hyperparameters\n",
        "inputs = X.shape[1]\n",
        "epochs = 50\n",
        "batch_size = 10\n",
        "\n",
        "# Create Model\n",
        "model = Sequential()\n",
        "model.add(Dense(64, activation='relu', input_shape=(inputs,)))\n",
        "model.add(Dense(64, activation='relu'))\n",
        "model.add(Dense(1))\n",
        "# Compile Model\n",
        "model.compile(optimizer='adam', loss='mse', metrics=['mse', 'accuracy'])\n",
        "# Fit Model\n",
        "model.fit(X, y, validation_split=0.33, epochs=epochs, batch_size=batch_size)"
      ],
      "execution_count": 4,
      "outputs": [
        {
          "output_type": "stream",
          "text": [
            "WARNING:tensorflow:From /usr/local/lib/python3.6/dist-packages/tensorflow/python/framework/op_def_library.py:263: colocate_with (from tensorflow.python.framework.ops) is deprecated and will be removed in a future version.\n",
            "Instructions for updating:\n",
            "Colocations handled automatically by placer.\n",
            "WARNING:tensorflow:From /usr/local/lib/python3.6/dist-packages/tensorflow/python/ops/math_ops.py:3066: to_int32 (from tensorflow.python.ops.math_ops) is deprecated and will be removed in a future version.\n",
            "Instructions for updating:\n",
            "Use tf.cast instead.\n",
            "Train on 339 samples, validate on 167 samples\n",
            "Epoch 1/50\n",
            "339/339 [==============================] - 1s 2ms/step - loss: 659.0797 - mean_squared_error: 659.0797 - acc: 0.0000e+00 - val_loss: 284.7192 - val_mean_squared_error: 284.7192 - val_acc: 0.0000e+00\n",
            "Epoch 2/50\n",
            "339/339 [==============================] - 0s 131us/step - loss: 442.6975 - mean_squared_error: 442.6975 - acc: 0.0000e+00 - val_loss: 176.1213 - val_mean_squared_error: 176.1213 - val_acc: 0.0000e+00\n",
            "Epoch 3/50\n",
            "339/339 [==============================] - 0s 141us/step - loss: 123.8833 - mean_squared_error: 123.8833 - acc: 0.0059 - val_loss: 119.4249 - val_mean_squared_error: 119.4249 - val_acc: 0.0060\n",
            "Epoch 4/50\n",
            "339/339 [==============================] - 0s 134us/step - loss: 34.1767 - mean_squared_error: 34.1767 - acc: 0.0147 - val_loss: 93.6123 - val_mean_squared_error: 93.6123 - val_acc: 0.0000e+00\n",
            "Epoch 5/50\n",
            "339/339 [==============================] - 0s 146us/step - loss: 18.4740 - mean_squared_error: 18.4740 - acc: 0.0147 - val_loss: 89.0809 - val_mean_squared_error: 89.0809 - val_acc: 0.0000e+00\n",
            "Epoch 6/50\n",
            "339/339 [==============================] - 0s 162us/step - loss: 14.8718 - mean_squared_error: 14.8718 - acc: 0.0177 - val_loss: 89.7642 - val_mean_squared_error: 89.7642 - val_acc: 0.0000e+00\n",
            "Epoch 7/50\n",
            "339/339 [==============================] - 0s 145us/step - loss: 12.9344 - mean_squared_error: 12.9344 - acc: 0.0177 - val_loss: 84.2379 - val_mean_squared_error: 84.2379 - val_acc: 0.0000e+00\n",
            "Epoch 8/50\n",
            "339/339 [==============================] - 0s 138us/step - loss: 11.9418 - mean_squared_error: 11.9418 - acc: 0.0147 - val_loss: 79.7725 - val_mean_squared_error: 79.7725 - val_acc: 0.0000e+00\n",
            "Epoch 9/50\n",
            "339/339 [==============================] - 0s 132us/step - loss: 11.1595 - mean_squared_error: 11.1595 - acc: 0.0206 - val_loss: 75.9240 - val_mean_squared_error: 75.9240 - val_acc: 0.0060\n",
            "Epoch 10/50\n",
            "339/339 [==============================] - 0s 144us/step - loss: 10.6051 - mean_squared_error: 10.6051 - acc: 0.0177 - val_loss: 73.9306 - val_mean_squared_error: 73.9306 - val_acc: 0.0060\n",
            "Epoch 11/50\n",
            "339/339 [==============================] - 0s 154us/step - loss: 10.2903 - mean_squared_error: 10.2903 - acc: 0.0118 - val_loss: 69.9553 - val_mean_squared_error: 69.9553 - val_acc: 0.0060\n",
            "Epoch 12/50\n",
            "339/339 [==============================] - 0s 148us/step - loss: 9.4571 - mean_squared_error: 9.4571 - acc: 0.0118 - val_loss: 67.0930 - val_mean_squared_error: 67.0930 - val_acc: 0.0000e+00\n",
            "Epoch 13/50\n",
            "339/339 [==============================] - 0s 133us/step - loss: 8.9706 - mean_squared_error: 8.9706 - acc: 0.0177 - val_loss: 63.9311 - val_mean_squared_error: 63.9311 - val_acc: 0.0000e+00\n",
            "Epoch 14/50\n",
            "339/339 [==============================] - 0s 136us/step - loss: 8.5611 - mean_squared_error: 8.5611 - acc: 0.0147 - val_loss: 62.6574 - val_mean_squared_error: 62.6574 - val_acc: 0.0000e+00\n",
            "Epoch 15/50\n",
            "339/339 [==============================] - 0s 136us/step - loss: 8.1564 - mean_squared_error: 8.1564 - acc: 0.0265 - val_loss: 60.0726 - val_mean_squared_error: 60.0726 - val_acc: 0.0000e+00\n",
            "Epoch 16/50\n",
            "339/339 [==============================] - 0s 155us/step - loss: 7.9061 - mean_squared_error: 7.9061 - acc: 0.0206 - val_loss: 58.6174 - val_mean_squared_error: 58.6174 - val_acc: 0.0000e+00\n",
            "Epoch 17/50\n",
            "339/339 [==============================] - 0s 165us/step - loss: 7.6808 - mean_squared_error: 7.6808 - acc: 0.0236 - val_loss: 56.8409 - val_mean_squared_error: 56.8409 - val_acc: 0.0000e+00\n",
            "Epoch 18/50\n",
            "339/339 [==============================] - 0s 150us/step - loss: 7.4274 - mean_squared_error: 7.4274 - acc: 0.0295 - val_loss: 55.5560 - val_mean_squared_error: 55.5560 - val_acc: 0.0000e+00\n",
            "Epoch 19/50\n",
            "339/339 [==============================] - 0s 145us/step - loss: 7.0985 - mean_squared_error: 7.0985 - acc: 0.0147 - val_loss: 53.2995 - val_mean_squared_error: 53.2995 - val_acc: 0.0000e+00\n",
            "Epoch 20/50\n",
            "339/339 [==============================] - 0s 140us/step - loss: 6.8395 - mean_squared_error: 6.8395 - acc: 0.0324 - val_loss: 51.0191 - val_mean_squared_error: 51.0191 - val_acc: 0.0060\n",
            "Epoch 21/50\n",
            "339/339 [==============================] - 0s 141us/step - loss: 6.6845 - mean_squared_error: 6.6845 - acc: 0.0265 - val_loss: 50.1165 - val_mean_squared_error: 50.1165 - val_acc: 0.0060\n",
            "Epoch 22/50\n",
            "339/339 [==============================] - 0s 138us/step - loss: 6.5844 - mean_squared_error: 6.5844 - acc: 0.0324 - val_loss: 48.0207 - val_mean_squared_error: 48.0207 - val_acc: 0.0060\n",
            "Epoch 23/50\n",
            "339/339 [==============================] - 0s 140us/step - loss: 6.3512 - mean_squared_error: 6.3512 - acc: 0.0236 - val_loss: 47.4305 - val_mean_squared_error: 47.4305 - val_acc: 0.0060\n",
            "Epoch 24/50\n",
            "339/339 [==============================] - 0s 137us/step - loss: 6.3329 - mean_squared_error: 6.3329 - acc: 0.0265 - val_loss: 47.1353 - val_mean_squared_error: 47.1353 - val_acc: 0.0000e+00\n",
            "Epoch 25/50\n",
            "339/339 [==============================] - 0s 138us/step - loss: 5.9293 - mean_squared_error: 5.9293 - acc: 0.0324 - val_loss: 44.6282 - val_mean_squared_error: 44.6282 - val_acc: 0.0060\n",
            "Epoch 26/50\n",
            "339/339 [==============================] - 0s 143us/step - loss: 5.8399 - mean_squared_error: 5.8399 - acc: 0.0206 - val_loss: 44.6025 - val_mean_squared_error: 44.6025 - val_acc: 0.0060\n",
            "Epoch 27/50\n",
            "339/339 [==============================] - 0s 132us/step - loss: 5.7214 - mean_squared_error: 5.7214 - acc: 0.0206 - val_loss: 43.1200 - val_mean_squared_error: 43.1200 - val_acc: 0.0060\n",
            "Epoch 28/50\n",
            "339/339 [==============================] - 0s 138us/step - loss: 5.5801 - mean_squared_error: 5.5801 - acc: 0.0265 - val_loss: 41.8520 - val_mean_squared_error: 41.8520 - val_acc: 0.0060\n",
            "Epoch 29/50\n",
            "339/339 [==============================] - 0s 152us/step - loss: 5.6193 - mean_squared_error: 5.6193 - acc: 0.0236 - val_loss: 41.7861 - val_mean_squared_error: 41.7861 - val_acc: 0.0060\n",
            "Epoch 30/50\n",
            "339/339 [==============================] - 0s 146us/step - loss: 5.4858 - mean_squared_error: 5.4858 - acc: 0.0236 - val_loss: 41.0894 - val_mean_squared_error: 41.0894 - val_acc: 0.0060\n",
            "Epoch 31/50\n",
            "339/339 [==============================] - 0s 150us/step - loss: 5.2655 - mean_squared_error: 5.2655 - acc: 0.0265 - val_loss: 40.1407 - val_mean_squared_error: 40.1407 - val_acc: 0.0120\n",
            "Epoch 32/50\n",
            "339/339 [==============================] - 0s 139us/step - loss: 5.3397 - mean_squared_error: 5.3397 - acc: 0.0236 - val_loss: 40.6072 - val_mean_squared_error: 40.6072 - val_acc: 0.0060\n",
            "Epoch 33/50\n",
            "339/339 [==============================] - 0s 142us/step - loss: 5.0938 - mean_squared_error: 5.0938 - acc: 0.0295 - val_loss: 39.1456 - val_mean_squared_error: 39.1456 - val_acc: 0.0120\n",
            "Epoch 34/50\n",
            "339/339 [==============================] - 0s 148us/step - loss: 5.1143 - mean_squared_error: 5.1143 - acc: 0.0265 - val_loss: 38.3246 - val_mean_squared_error: 38.3246 - val_acc: 0.0120\n",
            "Epoch 35/50\n",
            "339/339 [==============================] - 0s 143us/step - loss: 5.1514 - mean_squared_error: 5.1514 - acc: 0.0324 - val_loss: 38.8440 - val_mean_squared_error: 38.8440 - val_acc: 0.0120\n",
            "Epoch 36/50\n",
            "339/339 [==============================] - 0s 149us/step - loss: 4.7970 - mean_squared_error: 4.7970 - acc: 0.0354 - val_loss: 37.9361 - val_mean_squared_error: 37.9361 - val_acc: 0.0120\n",
            "Epoch 37/50\n",
            "339/339 [==============================] - 0s 148us/step - loss: 4.8496 - mean_squared_error: 4.8496 - acc: 0.0206 - val_loss: 38.0533 - val_mean_squared_error: 38.0533 - val_acc: 0.0180\n",
            "Epoch 38/50\n",
            "339/339 [==============================] - 0s 137us/step - loss: 4.6820 - mean_squared_error: 4.6820 - acc: 0.0206 - val_loss: 36.9393 - val_mean_squared_error: 36.9393 - val_acc: 0.0240\n",
            "Epoch 39/50\n",
            "339/339 [==============================] - 0s 143us/step - loss: 4.7368 - mean_squared_error: 4.7368 - acc: 0.0324 - val_loss: 36.9621 - val_mean_squared_error: 36.9621 - val_acc: 0.0180\n",
            "Epoch 40/50\n",
            "339/339 [==============================] - 0s 143us/step - loss: 4.6273 - mean_squared_error: 4.6273 - acc: 0.0236 - val_loss: 36.3551 - val_mean_squared_error: 36.3551 - val_acc: 0.0180\n",
            "Epoch 41/50\n",
            "339/339 [==============================] - 0s 143us/step - loss: 4.6377 - mean_squared_error: 4.6377 - acc: 0.0265 - val_loss: 36.9567 - val_mean_squared_error: 36.9567 - val_acc: 0.0060\n",
            "Epoch 42/50\n",
            "339/339 [==============================] - 0s 134us/step - loss: 4.4576 - mean_squared_error: 4.4576 - acc: 0.0118 - val_loss: 36.4607 - val_mean_squared_error: 36.4607 - val_acc: 0.0180\n",
            "Epoch 43/50\n",
            "339/339 [==============================] - 0s 152us/step - loss: 4.4565 - mean_squared_error: 4.4565 - acc: 0.0236 - val_loss: 36.3498 - val_mean_squared_error: 36.3498 - val_acc: 0.0060\n",
            "Epoch 44/50\n",
            "339/339 [==============================] - 0s 147us/step - loss: 4.9912 - mean_squared_error: 4.9912 - acc: 0.0177 - val_loss: 35.4127 - val_mean_squared_error: 35.4127 - val_acc: 0.0120\n",
            "Epoch 45/50\n",
            "339/339 [==============================] - 0s 152us/step - loss: 4.4583 - mean_squared_error: 4.4583 - acc: 0.0354 - val_loss: 35.8776 - val_mean_squared_error: 35.8776 - val_acc: 0.0060\n",
            "Epoch 46/50\n",
            "339/339 [==============================] - 0s 137us/step - loss: 4.3130 - mean_squared_error: 4.3130 - acc: 0.0295 - val_loss: 35.8919 - val_mean_squared_error: 35.8919 - val_acc: 0.0060\n",
            "Epoch 47/50\n",
            "339/339 [==============================] - 0s 143us/step - loss: 4.2164 - mean_squared_error: 4.2164 - acc: 0.0354 - val_loss: 35.9333 - val_mean_squared_error: 35.9333 - val_acc: 0.0060\n",
            "Epoch 48/50\n",
            "339/339 [==============================] - 0s 144us/step - loss: 4.2574 - mean_squared_error: 4.2574 - acc: 0.0324 - val_loss: 35.5468 - val_mean_squared_error: 35.5468 - val_acc: 0.0060\n",
            "Epoch 49/50\n",
            "339/339 [==============================] - 0s 141us/step - loss: 4.1905 - mean_squared_error: 4.1905 - acc: 0.0354 - val_loss: 34.9377 - val_mean_squared_error: 34.9377 - val_acc: 0.0120\n",
            "Epoch 50/50\n",
            "339/339 [==============================] - 0s 146us/step - loss: 4.1831 - mean_squared_error: 4.1831 - acc: 0.0236 - val_loss: 35.2544 - val_mean_squared_error: 35.2544 - val_acc: 0.0000e+00\n"
          ],
          "name": "stdout"
        },
        {
          "output_type": "execute_result",
          "data": {
            "text/plain": [
              "<keras.callbacks.History at 0x7efd9d4d5630>"
            ]
          },
          "metadata": {
            "tags": []
          },
          "execution_count": 4
        }
      ]
    },
    {
      "cell_type": "markdown",
      "metadata": {
        "id": "-BqbRQg0c54Q",
        "colab_type": "text"
      },
      "source": [
        "don't worry about acc - is classificIon issue"
      ]
    },
    {
      "cell_type": "markdown",
      "metadata": {
        "id": "FYgb6yiKzyK5",
        "colab_type": "text"
      },
      "source": [
        "## Model Verification using a Manual Verification Dataset\n",
        "\n",
        "Even though Keras has this nice feature you can still do train test split and pass it both X_test and y_test datasets as a tuple using the `validation_data` parameter."
      ]
    },
    {
      "cell_type": "code",
      "metadata": {
        "id": "D6SenwGVzQlK",
        "colab_type": "code",
        "outputId": "04af9ea8-0cfe-4aac-c314-1cf1c56e16f6",
        "colab": {
          "base_uri": "https://localhost:8080/",
          "height": 1771
        }
      },
      "source": [
        "from sklearn.datasets import load_boston\n",
        "from sklearn.model_selection import train_test_split\n",
        "\n",
        "# Random Seed\n",
        "seed = 42\n",
        "numpy.random.seed(seed)\n",
        "\n",
        "# Load Dataset\n",
        "boston_dataset = load_boston()\n",
        "df = pd.DataFrame(boston_dataset.data, columns=boston_dataset.feature_names)\n",
        "df['MEDV'] = boston_dataset.target\n",
        "\n",
        "# Split into X and y and turn into numpy arays\n",
        "y = df.MEDV.values\n",
        "X = df.drop(\"MEDV\", axis='columns').values\n",
        "\n",
        "# Scale inputs\n",
        "scaler = StandardScaler()\n",
        "X = scaler.fit_transform(X)\n",
        "\n",
        "# Manual Validation Dataset\n",
        "X_train, X_test, y_train, y_test = train_test_split(X, y, test_size=0.33, random_state=seed)\n",
        "\n",
        "# Important Hyperparameters\n",
        "inputs = X.shape[1]\n",
        "epochs = 50\n",
        "batch_size = 10\n",
        "\n",
        "# Create Model\n",
        "model = Sequential()\n",
        "model.add(Dense(64, activation='relu', input_shape=(inputs,)))\n",
        "model.add(Dense(64, activation='relu'))\n",
        "model.add(Dense(1))\n",
        "# Compile Model\n",
        "model.compile(optimizer='rmsprop', loss='mse', metrics=['mse'])\n",
        "# Fit Model\n",
        "model.fit(X_train, y_train, validation_data=(X_test, y_test), epochs=epochs, batch_size=batch_size)\n"
      ],
      "execution_count": 5,
      "outputs": [
        {
          "output_type": "stream",
          "text": [
            "Train on 339 samples, validate on 167 samples\n",
            "Epoch 1/50\n",
            "339/339 [==============================] - 0s 647us/step - loss: 519.5423 - mean_squared_error: 519.5423 - val_loss: 366.1080 - val_mean_squared_error: 366.1080\n",
            "Epoch 2/50\n",
            "339/339 [==============================] - 0s 134us/step - loss: 315.2598 - mean_squared_error: 315.2598 - val_loss: 177.2157 - val_mean_squared_error: 177.2157\n",
            "Epoch 3/50\n",
            "339/339 [==============================] - 0s 140us/step - loss: 123.5714 - mean_squared_error: 123.5714 - val_loss: 63.0457 - val_mean_squared_error: 63.0457\n",
            "Epoch 4/50\n",
            "339/339 [==============================] - 0s 137us/step - loss: 50.6154 - mean_squared_error: 50.6154 - val_loss: 36.2381 - val_mean_squared_error: 36.2381\n",
            "Epoch 5/50\n",
            "339/339 [==============================] - 0s 143us/step - loss: 32.1223 - mean_squared_error: 32.1223 - val_loss: 26.2885 - val_mean_squared_error: 26.2885\n",
            "Epoch 6/50\n",
            "339/339 [==============================] - 0s 144us/step - loss: 25.3827 - mean_squared_error: 25.3827 - val_loss: 20.8656 - val_mean_squared_error: 20.8656\n",
            "Epoch 7/50\n",
            "339/339 [==============================] - 0s 139us/step - loss: 21.9978 - mean_squared_error: 21.9978 - val_loss: 19.2910 - val_mean_squared_error: 19.2910\n",
            "Epoch 8/50\n",
            "339/339 [==============================] - 0s 144us/step - loss: 20.0268 - mean_squared_error: 20.0268 - val_loss: 17.6886 - val_mean_squared_error: 17.6886\n",
            "Epoch 9/50\n",
            "339/339 [==============================] - 0s 131us/step - loss: 18.3713 - mean_squared_error: 18.3713 - val_loss: 16.4926 - val_mean_squared_error: 16.4926\n",
            "Epoch 10/50\n",
            "339/339 [==============================] - 0s 156us/step - loss: 17.3107 - mean_squared_error: 17.3107 - val_loss: 15.6100 - val_mean_squared_error: 15.6100\n",
            "Epoch 11/50\n",
            "339/339 [==============================] - 0s 144us/step - loss: 16.3720 - mean_squared_error: 16.3720 - val_loss: 15.5441 - val_mean_squared_error: 15.5441\n",
            "Epoch 12/50\n",
            "339/339 [==============================] - 0s 132us/step - loss: 15.7602 - mean_squared_error: 15.7602 - val_loss: 14.4036 - val_mean_squared_error: 14.4036\n",
            "Epoch 13/50\n",
            "339/339 [==============================] - 0s 143us/step - loss: 15.1522 - mean_squared_error: 15.1522 - val_loss: 14.0366 - val_mean_squared_error: 14.0366\n",
            "Epoch 14/50\n",
            "339/339 [==============================] - 0s 166us/step - loss: 14.5514 - mean_squared_error: 14.5514 - val_loss: 13.6917 - val_mean_squared_error: 13.6917\n",
            "Epoch 15/50\n",
            "339/339 [==============================] - 0s 132us/step - loss: 14.1759 - mean_squared_error: 14.1759 - val_loss: 13.6479 - val_mean_squared_error: 13.6479\n",
            "Epoch 16/50\n",
            "339/339 [==============================] - 0s 141us/step - loss: 13.7858 - mean_squared_error: 13.7858 - val_loss: 12.9662 - val_mean_squared_error: 12.9662\n",
            "Epoch 17/50\n",
            "339/339 [==============================] - 0s 132us/step - loss: 13.0714 - mean_squared_error: 13.0714 - val_loss: 12.7394 - val_mean_squared_error: 12.7394\n",
            "Epoch 18/50\n",
            "339/339 [==============================] - 0s 138us/step - loss: 13.0235 - mean_squared_error: 13.0235 - val_loss: 12.5873 - val_mean_squared_error: 12.5873\n",
            "Epoch 19/50\n",
            "339/339 [==============================] - 0s 145us/step - loss: 12.8389 - mean_squared_error: 12.8389 - val_loss: 12.4489 - val_mean_squared_error: 12.4489\n",
            "Epoch 20/50\n",
            "339/339 [==============================] - 0s 159us/step - loss: 12.1317 - mean_squared_error: 12.1317 - val_loss: 12.7625 - val_mean_squared_error: 12.7625\n",
            "Epoch 21/50\n",
            "339/339 [==============================] - 0s 144us/step - loss: 12.1534 - mean_squared_error: 12.1534 - val_loss: 13.0957 - val_mean_squared_error: 13.0957\n",
            "Epoch 22/50\n",
            "339/339 [==============================] - 0s 139us/step - loss: 11.9638 - mean_squared_error: 11.9638 - val_loss: 11.7294 - val_mean_squared_error: 11.7294\n",
            "Epoch 23/50\n",
            "339/339 [==============================] - 0s 136us/step - loss: 11.4612 - mean_squared_error: 11.4612 - val_loss: 13.1193 - val_mean_squared_error: 13.1193\n",
            "Epoch 24/50\n",
            "339/339 [==============================] - 0s 130us/step - loss: 11.4163 - mean_squared_error: 11.4163 - val_loss: 12.1380 - val_mean_squared_error: 12.1380\n",
            "Epoch 25/50\n",
            "339/339 [==============================] - 0s 157us/step - loss: 10.9450 - mean_squared_error: 10.9450 - val_loss: 13.2076 - val_mean_squared_error: 13.2076\n",
            "Epoch 26/50\n",
            "339/339 [==============================] - 0s 157us/step - loss: 10.8977 - mean_squared_error: 10.8977 - val_loss: 11.3868 - val_mean_squared_error: 11.3868\n",
            "Epoch 27/50\n",
            "339/339 [==============================] - 0s 132us/step - loss: 10.7897 - mean_squared_error: 10.7897 - val_loss: 12.1699 - val_mean_squared_error: 12.1699\n",
            "Epoch 28/50\n",
            "339/339 [==============================] - 0s 141us/step - loss: 10.4836 - mean_squared_error: 10.4836 - val_loss: 11.0846 - val_mean_squared_error: 11.0846\n",
            "Epoch 29/50\n",
            "339/339 [==============================] - 0s 148us/step - loss: 10.3655 - mean_squared_error: 10.3655 - val_loss: 11.7772 - val_mean_squared_error: 11.7772\n",
            "Epoch 30/50\n",
            "339/339 [==============================] - 0s 140us/step - loss: 10.1364 - mean_squared_error: 10.1364 - val_loss: 12.6059 - val_mean_squared_error: 12.6059\n",
            "Epoch 31/50\n",
            "339/339 [==============================] - 0s 132us/step - loss: 10.0061 - mean_squared_error: 10.0061 - val_loss: 11.0930 - val_mean_squared_error: 11.0930\n",
            "Epoch 32/50\n",
            "339/339 [==============================] - 0s 139us/step - loss: 9.9790 - mean_squared_error: 9.9790 - val_loss: 10.9541 - val_mean_squared_error: 10.9541\n",
            "Epoch 33/50\n",
            "339/339 [==============================] - 0s 154us/step - loss: 9.6319 - mean_squared_error: 9.6319 - val_loss: 10.7053 - val_mean_squared_error: 10.7053\n",
            "Epoch 34/50\n",
            "339/339 [==============================] - 0s 131us/step - loss: 9.5726 - mean_squared_error: 9.5726 - val_loss: 10.9515 - val_mean_squared_error: 10.9515\n",
            "Epoch 35/50\n",
            "339/339 [==============================] - 0s 153us/step - loss: 9.4950 - mean_squared_error: 9.4950 - val_loss: 11.1538 - val_mean_squared_error: 11.1538\n",
            "Epoch 36/50\n",
            "339/339 [==============================] - 0s 145us/step - loss: 9.1509 - mean_squared_error: 9.1509 - val_loss: 11.1459 - val_mean_squared_error: 11.1459\n",
            "Epoch 37/50\n",
            "339/339 [==============================] - 0s 148us/step - loss: 8.9866 - mean_squared_error: 8.9866 - val_loss: 10.5875 - val_mean_squared_error: 10.5875\n",
            "Epoch 38/50\n",
            "339/339 [==============================] - 0s 140us/step - loss: 9.2719 - mean_squared_error: 9.2719 - val_loss: 10.6397 - val_mean_squared_error: 10.6397\n",
            "Epoch 39/50\n",
            "339/339 [==============================] - 0s 141us/step - loss: 8.8158 - mean_squared_error: 8.8158 - val_loss: 10.6439 - val_mean_squared_error: 10.6439\n",
            "Epoch 40/50\n",
            "339/339 [==============================] - 0s 138us/step - loss: 8.7059 - mean_squared_error: 8.7059 - val_loss: 10.4650 - val_mean_squared_error: 10.4650\n",
            "Epoch 41/50\n",
            "339/339 [==============================] - 0s 161us/step - loss: 8.6958 - mean_squared_error: 8.6958 - val_loss: 10.4937 - val_mean_squared_error: 10.4937\n",
            "Epoch 42/50\n",
            "339/339 [==============================] - 0s 145us/step - loss: 8.7022 - mean_squared_error: 8.7022 - val_loss: 10.8602 - val_mean_squared_error: 10.8602\n",
            "Epoch 43/50\n",
            "339/339 [==============================] - 0s 125us/step - loss: 8.5012 - mean_squared_error: 8.5012 - val_loss: 10.9493 - val_mean_squared_error: 10.9493\n",
            "Epoch 44/50\n",
            "339/339 [==============================] - 0s 120us/step - loss: 8.3388 - mean_squared_error: 8.3388 - val_loss: 10.8579 - val_mean_squared_error: 10.8579\n",
            "Epoch 45/50\n",
            "339/339 [==============================] - 0s 140us/step - loss: 8.4096 - mean_squared_error: 8.4096 - val_loss: 11.0926 - val_mean_squared_error: 11.0926\n",
            "Epoch 46/50\n",
            "339/339 [==============================] - 0s 131us/step - loss: 8.2509 - mean_squared_error: 8.2509 - val_loss: 10.9162 - val_mean_squared_error: 10.9162\n",
            "Epoch 47/50\n",
            "339/339 [==============================] - 0s 130us/step - loss: 8.0193 - mean_squared_error: 8.0193 - val_loss: 10.7350 - val_mean_squared_error: 10.7350\n",
            "Epoch 48/50\n",
            "339/339 [==============================] - 0s 129us/step - loss: 8.1113 - mean_squared_error: 8.1113 - val_loss: 10.5682 - val_mean_squared_error: 10.5682\n",
            "Epoch 49/50\n",
            "339/339 [==============================] - 0s 123us/step - loss: 7.8263 - mean_squared_error: 7.8263 - val_loss: 10.4696 - val_mean_squared_error: 10.4696\n",
            "Epoch 50/50\n",
            "339/339 [==============================] - 0s 124us/step - loss: 7.6906 - mean_squared_error: 7.6906 - val_loss: 10.6881 - val_mean_squared_error: 10.6881\n"
          ],
          "name": "stdout"
        },
        {
          "output_type": "execute_result",
          "data": {
            "text/plain": [
              "<keras.callbacks.History at 0x7efd97a9fb38>"
            ]
          },
          "metadata": {
            "tags": []
          },
          "execution_count": 5
        }
      ]
    },
    {
      "cell_type": "markdown",
      "metadata": {
        "id": "k3FOE1vxx7yn",
        "colab_type": "text"
      },
      "source": [
        "## Manual K-fold Cross Validation (regression)\n",
        "\n",
        "K-fold Cross Validation is the best way to validate your model as it will reduce the variance of your overall accuracy measure by splitting the data into smaller cross validation batches using one of the split out datasets as the validation dataset. The model is then fit K times rotating the validation set until each portion of the data has served as the validation dataset, the accuracy results from each subset are then averaged and reported as the overall test accuracy. The upside is that you can be more confident in your model's final reported accuracy. The downside is that you have to train your model K times which is computationally expensive and just not pheasible for some large networks that can take days to train a single time.\n",
        "\n",
        "K-fold Cross Validation gets tricky if you want to standardize your data because you will have to standardize your X values for each fold of your model separately. Due to this, we're going to use a Scikit-Learn Pipeline to help us do this for each fold of our dataset. \n",
        "\n",
        "Also, it's weird, but cross_val_score returns MSE values as negative values:\n",
        "<https://github.com/scikit-learn/scikit-learn/issues/2439>"
      ]
    },
    {
      "cell_type": "code",
      "metadata": {
        "id": "OnIHhAYV3Xt-",
        "colab_type": "code",
        "outputId": "f07f69b2-b037-4cca-8932-dd337c7b0938",
        "colab": {
          "base_uri": "https://localhost:8080/",
          "height": 34
        }
      },
      "source": [
        "# Keras imports\n",
        "from keras.models import Sequential\n",
        "from keras.layers import Dense\n",
        "from keras.wrappers.scikit_learn import KerasRegressor\n",
        "# sklearn imports\n",
        "from sklearn.datasets import load_boston\n",
        "from sklearn.model_selection import cross_val_score\n",
        "from sklearn.model_selection import KFold\n",
        "from sklearn.preprocessing import StandardScaler\n",
        "from sklearn.pipeline import Pipeline\n",
        "\n",
        "# Random Seed\n",
        "seed = 42\n",
        "numpy.random.seed(seed)\n",
        "\n",
        "# Load Dataset\n",
        "boston_dataset = load_boston()\n",
        "df = pd.DataFrame(boston_dataset.data, columns=boston_dataset.feature_names)\n",
        "df['MEDV'] = boston_dataset.target\n",
        "\n",
        "# Split into X and y and turn into numpy arays\n",
        "y = df.MEDV.values\n",
        "X = df.drop(\"MEDV\", axis='columns').values\n",
        "\n",
        "# Important Hyperparameters\n",
        "inputs = X.shape[1] # number of cols\n",
        "epochs = 50\n",
        "batch_size = 10\n",
        "\n",
        "# define base model\n",
        "def baseline_model():\n",
        "  # create model\n",
        "  model = Sequential()\n",
        "  model.add(Dense(64, input_dim=inputs, activation='relu')) \n",
        "  model.add(Dense(64, activation='relu')) \n",
        "  model.add(Dense(1))\n",
        "  # Compile model\n",
        "  model.compile(loss='mean_squared_error', optimizer='adam')\n",
        "  return model\n",
        "\n",
        "# evaluate model with standardized dataset\n",
        "estimators = []\n",
        "estimators.append(('standardize', StandardScaler()))\n",
        "estimators.append(('mlp', KerasRegressor(build_fn=baseline_model, epochs=epochs, batch_size=batch_size,\n",
        "    verbose=0)))\n",
        "pipeline = Pipeline(estimators)\n",
        "kfold = KFold(n_splits=5, random_state=seed)\n",
        "results = cross_val_score(pipeline, X, y, cv=kfold)\n",
        "print(f\"K-fold Cross-Val Results - Mean: {-results.mean():.2f} StDev: {results.std():.2f} MSE\")"
      ],
      "execution_count": 10,
      "outputs": [
        {
          "output_type": "stream",
          "text": [
            "K-fold Cross-Val Results - Mean: 25.40 StDev: 14.03 MSE\n"
          ],
          "name": "stdout"
        }
      ]
    },
    {
      "cell_type": "markdown",
      "metadata": {
        "id": "N95xwMJw-5Di",
        "colab_type": "text"
      },
      "source": [
        "## Manual K-fold Cross Validation (classification)"
      ]
    },
    {
      "cell_type": "code",
      "metadata": {
        "id": "722BauYV_4Y4",
        "colab_type": "code",
        "outputId": "27c144e2-8ee0-49ab-827b-8d6f331259d0",
        "colab": {
          "resources": {
            "http://localhost:8080/nbextensions/google.colab/files.js": {
              "data": "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",
              "ok": true,
              "headers": [
                [
                  "content-type",
                  "application/javascript"
                ]
              ],
              "status": 200,
              "status_text": ""
            }
          },
          "base_uri": "https://localhost:8080/",
          "height": 192
        }
      },
      "source": [
        "from google.colab import files\n",
        "files.upload()"
      ],
      "execution_count": 8,
      "outputs": [
        {
          "output_type": "display_data",
          "data": {
            "text/html": [
              "\n",
              "     <input type=\"file\" id=\"files-b5f07ffc-b9b9-4480-8ce1-539fce496b1b\" name=\"files[]\" multiple disabled />\n",
              "     <output id=\"result-b5f07ffc-b9b9-4480-8ce1-539fce496b1b\">\n",
              "      Upload widget is only available when the cell has been executed in the\n",
              "      current browser session. Please rerun this cell to enable.\n",
              "      </output>\n",
              "      <script src=\"/nbextensions/google.colab/files.js\"></script> "
            ],
            "text/plain": [
              "<IPython.core.display.HTML object>"
            ]
          },
          "metadata": {
            "tags": []
          }
        },
        {
          "output_type": "stream",
          "text": [
            "Saving pima-indians-diabetes.csv to pima-indians-diabetes.csv\n"
          ],
          "name": "stdout"
        },
        {
          "output_type": "execute_result",
          "data": {
            "text/plain": [
              "{'pima-indians-diabetes.csv': b'6,148,72,35,0,33.6,0.627,50,1\\n1,85,66,29,0,26.6,0.351,31,0\\n8,183,64,0,0,23.3,0.672,32,1\\n1,89,66,23,94,28.1,0.167,21,0\\n0,137,40,35,168,43.1,2.288,33,1\\n5,116,74,0,0,25.6,0.201,30,0\\n3,78,50,32,88,31.0,0.248,26,1\\n10,115,0,0,0,35.3,0.134,29,0\\n2,197,70,45,543,30.5,0.158,53,1\\n8,125,96,0,0,0.0,0.232,54,1\\n4,110,92,0,0,37.6,0.191,30,0\\n10,168,74,0,0,38.0,0.537,34,1\\n10,139,80,0,0,27.1,1.441,57,0\\n1,189,60,23,846,30.1,0.398,59,1\\n5,166,72,19,175,25.8,0.587,51,1\\n7,100,0,0,0,30.0,0.484,32,1\\n0,118,84,47,230,45.8,0.551,31,1\\n7,107,74,0,0,29.6,0.254,31,1\\n1,103,30,38,83,43.3,0.183,33,0\\n1,115,70,30,96,34.6,0.529,32,1\\n3,126,88,41,235,39.3,0.704,27,0\\n8,99,84,0,0,35.4,0.388,50,0\\n7,196,90,0,0,39.8,0.451,41,1\\n9,119,80,35,0,29.0,0.263,29,1\\n11,143,94,33,146,36.6,0.254,51,1\\n10,125,70,26,115,31.1,0.205,41,1\\n7,147,76,0,0,39.4,0.257,43,1\\n1,97,66,15,140,23.2,0.487,22,0\\n13,145,82,19,110,22.2,0.245,57,0\\n5,117,92,0,0,34.1,0.337,38,0\\n5,109,75,26,0,36.0,0.546,60,0\\n3,158,76,36,245,31.6,0.851,28,1\\n3,88,58,11,54,24.8,0.267,22,0\\n6,92,92,0,0,19.9,0.188,28,0\\n10,122,78,31,0,27.6,0.512,45,0\\n4,103,60,33,192,24.0,0.966,33,0\\n11,138,76,0,0,33.2,0.420,35,0\\n9,102,76,37,0,32.9,0.665,46,1\\n2,90,68,42,0,38.2,0.503,27,1\\n4,111,72,47,207,37.1,1.390,56,1\\n3,180,64,25,70,34.0,0.271,26,0\\n7,133,84,0,0,40.2,0.696,37,0\\n7,106,92,18,0,22.7,0.235,48,0\\n9,171,110,24,240,45.4,0.721,54,1\\n7,159,64,0,0,27.4,0.294,40,0\\n0,180,66,39,0,42.0,1.893,25,1\\n1,146,56,0,0,29.7,0.564,29,0\\n2,71,70,27,0,28.0,0.586,22,0\\n7,103,66,32,0,39.1,0.344,31,1\\n7,105,0,0,0,0.0,0.305,24,0\\n1,103,80,11,82,19.4,0.491,22,0\\n1,101,50,15,36,24.2,0.526,26,0\\n5,88,66,21,23,24.4,0.342,30,0\\n8,176,90,34,300,33.7,0.467,58,1\\n7,150,66,42,342,34.7,0.718,42,0\\n1,73,50,10,0,23.0,0.248,21,0\\n7,187,68,39,304,37.7,0.254,41,1\\n0,100,88,60,110,46.8,0.962,31,0\\n0,146,82,0,0,40.5,1.781,44,0\\n0,105,64,41,142,41.5,0.173,22,0\\n2,84,0,0,0,0.0,0.304,21,0\\n8,133,72,0,0,32.9,0.270,39,1\\n5,44,62,0,0,25.0,0.587,36,0\\n2,141,58,34,128,25.4,0.699,24,0\\n7,114,66,0,0,32.8,0.258,42,1\\n5,99,74,27,0,29.0,0.203,32,0\\n0,109,88,30,0,32.5,0.855,38,1\\n2,109,92,0,0,42.7,0.845,54,0\\n1,95,66,13,38,19.6,0.334,25,0\\n4,146,85,27,100,28.9,0.189,27,0\\n2,100,66,20,90,32.9,0.867,28,1\\n5,139,64,35,140,28.6,0.411,26,0\\n13,126,90,0,0,43.4,0.583,42,1\\n4,129,86,20,270,35.1,0.231,23,0\\n1,79,75,30,0,32.0,0.396,22,0\\n1,0,48,20,0,24.7,0.140,22,0\\n7,62,78,0,0,32.6,0.391,41,0\\n5,95,72,33,0,37.7,0.370,27,0\\n0,131,0,0,0,43.2,0.270,26,1\\n2,112,66,22,0,25.0,0.307,24,0\\n3,113,44,13,0,22.4,0.140,22,0\\n2,74,0,0,0,0.0,0.102,22,0\\n7,83,78,26,71,29.3,0.767,36,0\\n0,101,65,28,0,24.6,0.237,22,0\\n5,137,108,0,0,48.8,0.227,37,1\\n2,110,74,29,125,32.4,0.698,27,0\\n13,106,72,54,0,36.6,0.178,45,0\\n2,100,68,25,71,38.5,0.324,26,0\\n15,136,70,32,110,37.1,0.153,43,1\\n1,107,68,19,0,26.5,0.165,24,0\\n1,80,55,0,0,19.1,0.258,21,0\\n4,123,80,15,176,32.0,0.443,34,0\\n7,81,78,40,48,46.7,0.261,42,0\\n4,134,72,0,0,23.8,0.277,60,1\\n2,142,82,18,64,24.7,0.761,21,0\\n6,144,72,27,228,33.9,0.255,40,0\\n2,92,62,28,0,31.6,0.130,24,0\\n1,71,48,18,76,20.4,0.323,22,0\\n6,93,50,30,64,28.7,0.356,23,0\\n1,122,90,51,220,49.7,0.325,31,1\\n1,163,72,0,0,39.0,1.222,33,1\\n1,151,60,0,0,26.1,0.179,22,0\\n0,125,96,0,0,22.5,0.262,21,0\\n1,81,72,18,40,26.6,0.283,24,0\\n2,85,65,0,0,39.6,0.930,27,0\\n1,126,56,29,152,28.7,0.801,21,0\\n1,96,122,0,0,22.4,0.207,27,0\\n4,144,58,28,140,29.5,0.287,37,0\\n3,83,58,31,18,34.3,0.336,25,0\\n0,95,85,25,36,37.4,0.247,24,1\\n3,171,72,33,135,33.3,0.199,24,1\\n8,155,62,26,495,34.0,0.543,46,1\\n1,89,76,34,37,31.2,0.192,23,0\\n4,76,62,0,0,34.0,0.391,25,0\\n7,160,54,32,175,30.5,0.588,39,1\\n4,146,92,0,0,31.2,0.539,61,1\\n5,124,74,0,0,34.0,0.220,38,1\\n5,78,48,0,0,33.7,0.654,25,0\\n4,97,60,23,0,28.2,0.443,22,0\\n4,99,76,15,51,23.2,0.223,21,0\\n0,162,76,56,100,53.2,0.759,25,1\\n6,111,64,39,0,34.2,0.260,24,0\\n2,107,74,30,100,33.6,0.404,23,0\\n5,132,80,0,0,26.8,0.186,69,0\\n0,113,76,0,0,33.3,0.278,23,1\\n1,88,30,42,99,55.0,0.496,26,1\\n3,120,70,30,135,42.9,0.452,30,0\\n1,118,58,36,94,33.3,0.261,23,0\\n1,117,88,24,145,34.5,0.403,40,1\\n0,105,84,0,0,27.9,0.741,62,1\\n4,173,70,14,168,29.7,0.361,33,1\\n9,122,56,0,0,33.3,1.114,33,1\\n3,170,64,37,225,34.5,0.356,30,1\\n8,84,74,31,0,38.3,0.457,39,0\\n2,96,68,13,49,21.1,0.647,26,0\\n2,125,60,20,140,33.8,0.088,31,0\\n0,100,70,26,50,30.8,0.597,21,0\\n0,93,60,25,92,28.7,0.532,22,0\\n0,129,80,0,0,31.2,0.703,29,0\\n5,105,72,29,325,36.9,0.159,28,0\\n3,128,78,0,0,21.1,0.268,55,0\\n5,106,82,30,0,39.5,0.286,38,0\\n2,108,52,26,63,32.5,0.318,22,0\\n10,108,66,0,0,32.4,0.272,42,1\\n4,154,62,31,284,32.8,0.237,23,0\\n0,102,75,23,0,0.0,0.572,21,0\\n9,57,80,37,0,32.8,0.096,41,0\\n2,106,64,35,119,30.5,1.400,34,0\\n5,147,78,0,0,33.7,0.218,65,0\\n2,90,70,17,0,27.3,0.085,22,0\\n1,136,74,50,204,37.4,0.399,24,0\\n4,114,65,0,0,21.9,0.432,37,0\\n9,156,86,28,155,34.3,1.189,42,1\\n1,153,82,42,485,40.6,0.687,23,0\\n8,188,78,0,0,47.9,0.137,43,1\\n7,152,88,44,0,50.0,0.337,36,1\\n2,99,52,15,94,24.6,0.637,21,0\\n1,109,56,21,135,25.2,0.833,23,0\\n2,88,74,19,53,29.0,0.229,22,0\\n17,163,72,41,114,40.9,0.817,47,1\\n4,151,90,38,0,29.7,0.294,36,0\\n7,102,74,40,105,37.2,0.204,45,0\\n0,114,80,34,285,44.2,0.167,27,0\\n2,100,64,23,0,29.7,0.368,21,0\\n0,131,88,0,0,31.6,0.743,32,1\\n6,104,74,18,156,29.9,0.722,41,1\\n3,148,66,25,0,32.5,0.256,22,0\\n4,120,68,0,0,29.6,0.709,34,0\\n4,110,66,0,0,31.9,0.471,29,0\\n3,111,90,12,78,28.4,0.495,29,0\\n6,102,82,0,0,30.8,0.180,36,1\\n6,134,70,23,130,35.4,0.542,29,1\\n2,87,0,23,0,28.9,0.773,25,0\\n1,79,60,42,48,43.5,0.678,23,0\\n2,75,64,24,55,29.7,0.370,33,0\\n8,179,72,42,130,32.7,0.719,36,1\\n6,85,78,0,0,31.2,0.382,42,0\\n0,129,110,46,130,67.1,0.319,26,1\\n5,143,78,0,0,45.0,0.190,47,0\\n5,130,82,0,0,39.1,0.956,37,1\\n6,87,80,0,0,23.2,0.084,32,0\\n0,119,64,18,92,34.9,0.725,23,0\\n1,0,74,20,23,27.7,0.299,21,0\\n5,73,60,0,0,26.8,0.268,27,0\\n4,141,74,0,0,27.6,0.244,40,0\\n7,194,68,28,0,35.9,0.745,41,1\\n8,181,68,36,495,30.1,0.615,60,1\\n1,128,98,41,58,32.0,1.321,33,1\\n8,109,76,39,114,27.9,0.640,31,1\\n5,139,80,35,160,31.6,0.361,25,1\\n3,111,62,0,0,22.6,0.142,21,0\\n9,123,70,44,94,33.1,0.374,40,0\\n7,159,66,0,0,30.4,0.383,36,1\\n11,135,0,0,0,52.3,0.578,40,1\\n8,85,55,20,0,24.4,0.136,42,0\\n5,158,84,41,210,39.4,0.395,29,1\\n1,105,58,0,0,24.3,0.187,21,0\\n3,107,62,13,48,22.9,0.678,23,1\\n4,109,64,44,99,34.8,0.905,26,1\\n4,148,60,27,318,30.9,0.150,29,1\\n0,113,80,16,0,31.0,0.874,21,0\\n1,138,82,0,0,40.1,0.236,28,0\\n0,108,68,20,0,27.3,0.787,32,0\\n2,99,70,16,44,20.4,0.235,27,0\\n6,103,72,32,190,37.7,0.324,55,0\\n5,111,72,28,0,23.9,0.407,27,0\\n8,196,76,29,280,37.5,0.605,57,1\\n5,162,104,0,0,37.7,0.151,52,1\\n1,96,64,27,87,33.2,0.289,21,0\\n7,184,84,33,0,35.5,0.355,41,1\\n2,81,60,22,0,27.7,0.290,25,0\\n0,147,85,54,0,42.8,0.375,24,0\\n7,179,95,31,0,34.2,0.164,60,0\\n0,140,65,26,130,42.6,0.431,24,1\\n9,112,82,32,175,34.2,0.260,36,1\\n12,151,70,40,271,41.8,0.742,38,1\\n5,109,62,41,129,35.8,0.514,25,1\\n6,125,68,30,120,30.0,0.464,32,0\\n5,85,74,22,0,29.0,1.224,32,1\\n5,112,66,0,0,37.8,0.261,41,1\\n0,177,60,29,478,34.6,1.072,21,1\\n2,158,90,0,0,31.6,0.805,66,1\\n7,119,0,0,0,25.2,0.209,37,0\\n7,142,60,33,190,28.8,0.687,61,0\\n1,100,66,15,56,23.6,0.666,26,0\\n1,87,78,27,32,34.6,0.101,22,0\\n0,101,76,0,0,35.7,0.198,26,0\\n3,162,52,38,0,37.2,0.652,24,1\\n4,197,70,39,744,36.7,2.329,31,0\\n0,117,80,31,53,45.2,0.089,24,0\\n4,142,86,0,0,44.0,0.645,22,1\\n6,134,80,37,370,46.2,0.238,46,1\\n1,79,80,25,37,25.4,0.583,22,0\\n4,122,68,0,0,35.0,0.394,29,0\\n3,74,68,28,45,29.7,0.293,23,0\\n4,171,72,0,0,43.6,0.479,26,1\\n7,181,84,21,192,35.9,0.586,51,1\\n0,179,90,27,0,44.1,0.686,23,1\\n9,164,84,21,0,30.8,0.831,32,1\\n0,104,76,0,0,18.4,0.582,27,0\\n1,91,64,24,0,29.2,0.192,21,0\\n4,91,70,32,88,33.1,0.446,22,0\\n3,139,54,0,0,25.6,0.402,22,1\\n6,119,50,22,176,27.1,1.318,33,1\\n2,146,76,35,194,38.2,0.329,29,0\\n9,184,85,15,0,30.0,1.213,49,1\\n10,122,68,0,0,31.2,0.258,41,0\\n0,165,90,33,680,52.3,0.427,23,0\\n9,124,70,33,402,35.4,0.282,34,0\\n1,111,86,19,0,30.1,0.143,23,0\\n9,106,52,0,0,31.2,0.380,42,0\\n2,129,84,0,0,28.0,0.284,27,0\\n2,90,80,14,55,24.4,0.249,24,0\\n0,86,68,32,0,35.8,0.238,25,0\\n12,92,62,7,258,27.6,0.926,44,1\\n1,113,64,35,0,33.6,0.543,21,1\\n3,111,56,39,0,30.1,0.557,30,0\\n2,114,68,22,0,28.7,0.092,25,0\\n1,193,50,16,375,25.9,0.655,24,0\\n11,155,76,28,150,33.3,1.353,51,1\\n3,191,68,15,130,30.9,0.299,34,0\\n3,141,0,0,0,30.0,0.761,27,1\\n4,95,70,32,0,32.1,0.612,24,0\\n3,142,80,15,0,32.4,0.200,63,0\\n4,123,62,0,0,32.0,0.226,35,1\\n5,96,74,18,67,33.6,0.997,43,0\\n0,138,0,0,0,36.3,0.933,25,1\\n2,128,64,42,0,40.0,1.101,24,0\\n0,102,52,0,0,25.1,0.078,21,0\\n2,146,0,0,0,27.5,0.240,28,1\\n10,101,86,37,0,45.6,1.136,38,1\\n2,108,62,32,56,25.2,0.128,21,0\\n3,122,78,0,0,23.0,0.254,40,0\\n1,71,78,50,45,33.2,0.422,21,0\\n13,106,70,0,0,34.2,0.251,52,0\\n2,100,70,52,57,40.5,0.677,25,0\\n7,106,60,24,0,26.5,0.296,29,1\\n0,104,64,23,116,27.8,0.454,23,0\\n5,114,74,0,0,24.9,0.744,57,0\\n2,108,62,10,278,25.3,0.881,22,0\\n0,146,70,0,0,37.9,0.334,28,1\\n10,129,76,28,122,35.9,0.280,39,0\\n7,133,88,15,155,32.4,0.262,37,0\\n7,161,86,0,0,30.4,0.165,47,1\\n2,108,80,0,0,27.0,0.259,52,1\\n7,136,74,26,135,26.0,0.647,51,0\\n5,155,84,44,545,38.7,0.619,34,0\\n1,119,86,39,220,45.6,0.808,29,1\\n4,96,56,17,49,20.8,0.340,26,0\\n5,108,72,43,75,36.1,0.263,33,0\\n0,78,88,29,40,36.9,0.434,21,0\\n0,107,62,30,74,36.6,0.757,25,1\\n2,128,78,37,182,43.3,1.224,31,1\\n1,128,48,45,194,40.5,0.613,24,1\\n0,161,50,0,0,21.9,0.254,65,0\\n6,151,62,31,120,35.5,0.692,28,0\\n2,146,70,38,360,28.0,0.337,29,1\\n0,126,84,29,215,30.7,0.520,24,0\\n14,100,78,25,184,36.6,0.412,46,1\\n8,112,72,0,0,23.6,0.840,58,0\\n0,167,0,0,0,32.3,0.839,30,1\\n2,144,58,33,135,31.6,0.422,25,1\\n5,77,82,41,42,35.8,0.156,35,0\\n5,115,98,0,0,52.9,0.209,28,1\\n3,150,76,0,0,21.0,0.207,37,0\\n2,120,76,37,105,39.7,0.215,29,0\\n10,161,68,23,132,25.5,0.326,47,1\\n0,137,68,14,148,24.8,0.143,21,0\\n0,128,68,19,180,30.5,1.391,25,1\\n2,124,68,28,205,32.9,0.875,30,1\\n6,80,66,30,0,26.2,0.313,41,0\\n0,106,70,37,148,39.4,0.605,22,0\\n2,155,74,17,96,26.6,0.433,27,1\\n3,113,50,10,85,29.5,0.626,25,0\\n7,109,80,31,0,35.9,1.127,43,1\\n2,112,68,22,94,34.1,0.315,26,0\\n3,99,80,11,64,19.3,0.284,30,0\\n3,182,74,0,0,30.5,0.345,29,1\\n3,115,66,39,140,38.1,0.150,28,0\\n6,194,78,0,0,23.5,0.129,59,1\\n4,129,60,12,231,27.5,0.527,31,0\\n3,112,74,30,0,31.6,0.197,25,1\\n0,124,70,20,0,27.4,0.254,36,1\\n13,152,90,33,29,26.8,0.731,43,1\\n2,112,75,32,0,35.7,0.148,21,0\\n1,157,72,21,168,25.6,0.123,24,0\\n1,122,64,32,156,35.1,0.692,30,1\\n10,179,70,0,0,35.1,0.200,37,0\\n2,102,86,36,120,45.5,0.127,23,1\\n6,105,70,32,68,30.8,0.122,37,0\\n8,118,72,19,0,23.1,1.476,46,0\\n2,87,58,16,52,32.7,0.166,25,0\\n1,180,0,0,0,43.3,0.282,41,1\\n12,106,80,0,0,23.6,0.137,44,0\\n1,95,60,18,58,23.9,0.260,22,0\\n0,165,76,43,255,47.9,0.259,26,0\\n0,117,0,0,0,33.8,0.932,44,0\\n5,115,76,0,0,31.2,0.343,44,1\\n9,152,78,34,171,34.2,0.893,33,1\\n7,178,84,0,0,39.9,0.331,41,1\\n1,130,70,13,105,25.9,0.472,22,0\\n1,95,74,21,73,25.9,0.673,36,0\\n1,0,68,35,0,32.0,0.389,22,0\\n5,122,86,0,0,34.7,0.290,33,0\\n8,95,72,0,0,36.8,0.485,57,0\\n8,126,88,36,108,38.5,0.349,49,0\\n1,139,46,19,83,28.7,0.654,22,0\\n3,116,0,0,0,23.5,0.187,23,0\\n3,99,62,19,74,21.8,0.279,26,0\\n5,0,80,32,0,41.0,0.346,37,1\\n4,92,80,0,0,42.2,0.237,29,0\\n4,137,84,0,0,31.2,0.252,30,0\\n3,61,82,28,0,34.4,0.243,46,0\\n1,90,62,12,43,27.2,0.580,24,0\\n3,90,78,0,0,42.7,0.559,21,0\\n9,165,88,0,0,30.4,0.302,49,1\\n1,125,50,40,167,33.3,0.962,28,1\\n13,129,0,30,0,39.9,0.569,44,1\\n12,88,74,40,54,35.3,0.378,48,0\\n1,196,76,36,249,36.5,0.875,29,1\\n5,189,64,33,325,31.2,0.583,29,1\\n5,158,70,0,0,29.8,0.207,63,0\\n5,103,108,37,0,39.2,0.305,65,0\\n4,146,78,0,0,38.5,0.520,67,1\\n4,147,74,25,293,34.9,0.385,30,0\\n5,99,54,28,83,34.0,0.499,30,0\\n6,124,72,0,0,27.6,0.368,29,1\\n0,101,64,17,0,21.0,0.252,21,0\\n3,81,86,16,66,27.5,0.306,22,0\\n1,133,102,28,140,32.8,0.234,45,1\\n3,173,82,48,465,38.4,2.137,25,1\\n0,118,64,23,89,0.0,1.731,21,0\\n0,84,64,22,66,35.8,0.545,21,0\\n2,105,58,40,94,34.9,0.225,25,0\\n2,122,52,43,158,36.2,0.816,28,0\\n12,140,82,43,325,39.2,0.528,58,1\\n0,98,82,15,84,25.2,0.299,22,0\\n1,87,60,37,75,37.2,0.509,22,0\\n4,156,75,0,0,48.3,0.238,32,1\\n0,93,100,39,72,43.4,1.021,35,0\\n1,107,72,30,82,30.8,0.821,24,0\\n0,105,68,22,0,20.0,0.236,22,0\\n1,109,60,8,182,25.4,0.947,21,0\\n1,90,62,18,59,25.1,1.268,25,0\\n1,125,70,24,110,24.3,0.221,25,0\\n1,119,54,13,50,22.3,0.205,24,0\\n5,116,74,29,0,32.3,0.660,35,1\\n8,105,100,36,0,43.3,0.239,45,1\\n5,144,82,26,285,32.0,0.452,58,1\\n3,100,68,23,81,31.6,0.949,28,0\\n1,100,66,29,196,32.0,0.444,42,0\\n5,166,76,0,0,45.7,0.340,27,1\\n1,131,64,14,415,23.7,0.389,21,0\\n4,116,72,12,87,22.1,0.463,37,0\\n4,158,78,0,0,32.9,0.803,31,1\\n2,127,58,24,275,27.7,1.600,25,0\\n3,96,56,34,115,24.7,0.944,39,0\\n0,131,66,40,0,34.3,0.196,22,1\\n3,82,70,0,0,21.1,0.389,25,0\\n3,193,70,31,0,34.9,0.241,25,1\\n4,95,64,0,0,32.0,0.161,31,1\\n6,137,61,0,0,24.2,0.151,55,0\\n5,136,84,41,88,35.0,0.286,35,1\\n9,72,78,25,0,31.6,0.280,38,0\\n5,168,64,0,0,32.9,0.135,41,1\\n2,123,48,32,165,42.1,0.520,26,0\\n4,115,72,0,0,28.9,0.376,46,1\\n0,101,62,0,0,21.9,0.336,25,0\\n8,197,74,0,0,25.9,1.191,39,1\\n1,172,68,49,579,42.4,0.702,28,1\\n6,102,90,39,0,35.7,0.674,28,0\\n1,112,72,30,176,34.4,0.528,25,0\\n1,143,84,23,310,42.4,1.076,22,0\\n1,143,74,22,61,26.2,0.256,21,0\\n0,138,60,35,167,34.6,0.534,21,1\\n3,173,84,33,474,35.7,0.258,22,1\\n1,97,68,21,0,27.2,1.095,22,0\\n4,144,82,32,0,38.5,0.554,37,1\\n1,83,68,0,0,18.2,0.624,27,0\\n3,129,64,29,115,26.4,0.219,28,1\\n1,119,88,41,170,45.3,0.507,26,0\\n2,94,68,18,76,26.0,0.561,21,0\\n0,102,64,46,78,40.6,0.496,21,0\\n2,115,64,22,0,30.8,0.421,21,0\\n8,151,78,32,210,42.9,0.516,36,1\\n4,184,78,39,277,37.0,0.264,31,1\\n0,94,0,0,0,0.0,0.256,25,0\\n1,181,64,30,180,34.1,0.328,38,1\\n0,135,94,46,145,40.6,0.284,26,0\\n1,95,82,25,180,35.0,0.233,43,1\\n2,99,0,0,0,22.2,0.108,23,0\\n3,89,74,16,85,30.4,0.551,38,0\\n1,80,74,11,60,30.0,0.527,22,0\\n2,139,75,0,0,25.6,0.167,29,0\\n1,90,68,8,0,24.5,1.138,36,0\\n0,141,0,0,0,42.4,0.205,29,1\\n12,140,85,33,0,37.4,0.244,41,0\\n5,147,75,0,0,29.9,0.434,28,0\\n1,97,70,15,0,18.2,0.147,21,0\\n6,107,88,0,0,36.8,0.727,31,0\\n0,189,104,25,0,34.3,0.435,41,1\\n2,83,66,23,50,32.2,0.497,22,0\\n4,117,64,27,120,33.2,0.230,24,0\\n8,108,70,0,0,30.5,0.955,33,1\\n4,117,62,12,0,29.7,0.380,30,1\\n0,180,78,63,14,59.4,2.420,25,1\\n1,100,72,12,70,25.3,0.658,28,0\\n0,95,80,45,92,36.5,0.330,26,0\\n0,104,64,37,64,33.6,0.510,22,1\\n0,120,74,18,63,30.5,0.285,26,0\\n1,82,64,13,95,21.2,0.415,23,0\\n2,134,70,0,0,28.9,0.542,23,1\\n0,91,68,32,210,39.9,0.381,25,0\\n2,119,0,0,0,19.6,0.832,72,0\\n2,100,54,28,105,37.8,0.498,24,0\\n14,175,62,30,0,33.6,0.212,38,1\\n1,135,54,0,0,26.7,0.687,62,0\\n5,86,68,28,71,30.2,0.364,24,0\\n10,148,84,48,237,37.6,1.001,51,1\\n9,134,74,33,60,25.9,0.460,81,0\\n9,120,72,22,56,20.8,0.733,48,0\\n1,71,62,0,0,21.8,0.416,26,0\\n8,74,70,40,49,35.3,0.705,39,0\\n5,88,78,30,0,27.6,0.258,37,0\\n10,115,98,0,0,24.0,1.022,34,0\\n0,124,56,13,105,21.8,0.452,21,0\\n0,74,52,10,36,27.8,0.269,22,0\\n0,97,64,36,100,36.8,0.600,25,0\\n8,120,0,0,0,30.0,0.183,38,1\\n6,154,78,41,140,46.1,0.571,27,0\\n1,144,82,40,0,41.3,0.607,28,0\\n0,137,70,38,0,33.2,0.170,22,0\\n0,119,66,27,0,38.8,0.259,22,0\\n7,136,90,0,0,29.9,0.210,50,0\\n4,114,64,0,0,28.9,0.126,24,0\\n0,137,84,27,0,27.3,0.231,59,0\\n2,105,80,45,191,33.7,0.711,29,1\\n7,114,76,17,110,23.8,0.466,31,0\\n8,126,74,38,75,25.9,0.162,39,0\\n4,132,86,31,0,28.0,0.419,63,0\\n3,158,70,30,328,35.5,0.344,35,1\\n0,123,88,37,0,35.2,0.197,29,0\\n4,85,58,22,49,27.8,0.306,28,0\\n0,84,82,31,125,38.2,0.233,23,0\\n0,145,0,0,0,44.2,0.630,31,1\\n0,135,68,42,250,42.3,0.365,24,1\\n1,139,62,41,480,40.7,0.536,21,0\\n0,173,78,32,265,46.5,1.159,58,0\\n4,99,72,17,0,25.6,0.294,28,0\\n8,194,80,0,0,26.1,0.551,67,0\\n2,83,65,28,66,36.8,0.629,24,0\\n2,89,90,30,0,33.5,0.292,42,0\\n4,99,68,38,0,32.8,0.145,33,0\\n4,125,70,18,122,28.9,1.144,45,1\\n3,80,0,0,0,0.0,0.174,22,0\\n6,166,74,0,0,26.6,0.304,66,0\\n5,110,68,0,0,26.0,0.292,30,0\\n2,81,72,15,76,30.1,0.547,25,0\\n7,195,70,33,145,25.1,0.163,55,1\\n6,154,74,32,193,29.3,0.839,39,0\\n2,117,90,19,71,25.2,0.313,21,0\\n3,84,72,32,0,37.2,0.267,28,0\\n6,0,68,41,0,39.0,0.727,41,1\\n7,94,64,25,79,33.3,0.738,41,0\\n3,96,78,39,0,37.3,0.238,40,0\\n10,75,82,0,0,33.3,0.263,38,0\\n0,180,90,26,90,36.5,0.314,35,1\\n1,130,60,23,170,28.6,0.692,21,0\\n2,84,50,23,76,30.4,0.968,21,0\\n8,120,78,0,0,25.0,0.409,64,0\\n12,84,72,31,0,29.7,0.297,46,1\\n0,139,62,17,210,22.1,0.207,21,0\\n9,91,68,0,0,24.2,0.200,58,0\\n2,91,62,0,0,27.3,0.525,22,0\\n3,99,54,19,86,25.6,0.154,24,0\\n3,163,70,18,105,31.6,0.268,28,1\\n9,145,88,34,165,30.3,0.771,53,1\\n7,125,86,0,0,37.6,0.304,51,0\\n13,76,60,0,0,32.8,0.180,41,0\\n6,129,90,7,326,19.6,0.582,60,0\\n2,68,70,32,66,25.0,0.187,25,0\\n3,124,80,33,130,33.2,0.305,26,0\\n6,114,0,0,0,0.0,0.189,26,0\\n9,130,70,0,0,34.2,0.652,45,1\\n3,125,58,0,0,31.6,0.151,24,0\\n3,87,60,18,0,21.8,0.444,21,0\\n1,97,64,19,82,18.2,0.299,21,0\\n3,116,74,15,105,26.3,0.107,24,0\\n0,117,66,31,188,30.8,0.493,22,0\\n0,111,65,0,0,24.6,0.660,31,0\\n2,122,60,18,106,29.8,0.717,22,0\\n0,107,76,0,0,45.3,0.686,24,0\\n1,86,66,52,65,41.3,0.917,29,0\\n6,91,0,0,0,29.8,0.501,31,0\\n1,77,56,30,56,33.3,1.251,24,0\\n4,132,0,0,0,32.9,0.302,23,1\\n0,105,90,0,0,29.6,0.197,46,0\\n0,57,60,0,0,21.7,0.735,67,0\\n0,127,80,37,210,36.3,0.804,23,0\\n3,129,92,49,155,36.4,0.968,32,1\\n8,100,74,40,215,39.4,0.661,43,1\\n3,128,72,25,190,32.4,0.549,27,1\\n10,90,85,32,0,34.9,0.825,56,1\\n4,84,90,23,56,39.5,0.159,25,0\\n1,88,78,29,76,32.0,0.365,29,0\\n8,186,90,35,225,34.5,0.423,37,1\\n5,187,76,27,207,43.6,1.034,53,1\\n4,131,68,21,166,33.1,0.160,28,0\\n1,164,82,43,67,32.8,0.341,50,0\\n4,189,110,31,0,28.5,0.680,37,0\\n1,116,70,28,0,27.4,0.204,21,0\\n3,84,68,30,106,31.9,0.591,25,0\\n6,114,88,0,0,27.8,0.247,66,0\\n1,88,62,24,44,29.9,0.422,23,0\\n1,84,64,23,115,36.9,0.471,28,0\\n7,124,70,33,215,25.5,0.161,37,0\\n1,97,70,40,0,38.1,0.218,30,0\\n8,110,76,0,0,27.8,0.237,58,0\\n11,103,68,40,0,46.2,0.126,42,0\\n11,85,74,0,0,30.1,0.300,35,0\\n6,125,76,0,0,33.8,0.121,54,1\\n0,198,66,32,274,41.3,0.502,28,1\\n1,87,68,34,77,37.6,0.401,24,0\\n6,99,60,19,54,26.9,0.497,32,0\\n0,91,80,0,0,32.4,0.601,27,0\\n2,95,54,14,88,26.1,0.748,22,0\\n1,99,72,30,18,38.6,0.412,21,0\\n6,92,62,32,126,32.0,0.085,46,0\\n4,154,72,29,126,31.3,0.338,37,0\\n0,121,66,30,165,34.3,0.203,33,1\\n3,78,70,0,0,32.5,0.270,39,0\\n2,130,96,0,0,22.6,0.268,21,0\\n3,111,58,31,44,29.5,0.430,22,0\\n2,98,60,17,120,34.7,0.198,22,0\\n1,143,86,30,330,30.1,0.892,23,0\\n1,119,44,47,63,35.5,0.280,25,0\\n6,108,44,20,130,24.0,0.813,35,0\\n2,118,80,0,0,42.9,0.693,21,1\\n10,133,68,0,0,27.0,0.245,36,0\\n2,197,70,99,0,34.7,0.575,62,1\\n0,151,90,46,0,42.1,0.371,21,1\\n6,109,60,27,0,25.0,0.206,27,0\\n12,121,78,17,0,26.5,0.259,62,0\\n8,100,76,0,0,38.7,0.190,42,0\\n8,124,76,24,600,28.7,0.687,52,1\\n1,93,56,11,0,22.5,0.417,22,0\\n8,143,66,0,0,34.9,0.129,41,1\\n6,103,66,0,0,24.3,0.249,29,0\\n3,176,86,27,156,33.3,1.154,52,1\\n0,73,0,0,0,21.1,0.342,25,0\\n11,111,84,40,0,46.8,0.925,45,1\\n2,112,78,50,140,39.4,0.175,24,0\\n3,132,80,0,0,34.4,0.402,44,1\\n2,82,52,22,115,28.5,1.699,25,0\\n6,123,72,45,230,33.6,0.733,34,0\\n0,188,82,14,185,32.0,0.682,22,1\\n0,67,76,0,0,45.3,0.194,46,0\\n1,89,24,19,25,27.8,0.559,21,0\\n1,173,74,0,0,36.8,0.088,38,1\\n1,109,38,18,120,23.1,0.407,26,0\\n1,108,88,19,0,27.1,0.400,24,0\\n6,96,0,0,0,23.7,0.190,28,0\\n1,124,74,36,0,27.8,0.100,30,0\\n7,150,78,29,126,35.2,0.692,54,1\\n4,183,0,0,0,28.4,0.212,36,1\\n1,124,60,32,0,35.8,0.514,21,0\\n1,181,78,42,293,40.0,1.258,22,1\\n1,92,62,25,41,19.5,0.482,25,0\\n0,152,82,39,272,41.5,0.270,27,0\\n1,111,62,13,182,24.0,0.138,23,0\\n3,106,54,21,158,30.9,0.292,24,0\\n3,174,58,22,194,32.9,0.593,36,1\\n7,168,88,42,321,38.2,0.787,40,1\\n6,105,80,28,0,32.5,0.878,26,0\\n11,138,74,26,144,36.1,0.557,50,1\\n3,106,72,0,0,25.8,0.207,27,0\\n6,117,96,0,0,28.7,0.157,30,0\\n2,68,62,13,15,20.1,0.257,23,0\\n9,112,82,24,0,28.2,1.282,50,1\\n0,119,0,0,0,32.4,0.141,24,1\\n2,112,86,42,160,38.4,0.246,28,0\\n2,92,76,20,0,24.2,1.698,28,0\\n6,183,94,0,0,40.8,1.461,45,0\\n0,94,70,27,115,43.5,0.347,21,0\\n2,108,64,0,0,30.8,0.158,21,0\\n4,90,88,47,54,37.7,0.362,29,0\\n0,125,68,0,0,24.7,0.206,21,0\\n0,132,78,0,0,32.4,0.393,21,0\\n5,128,80,0,0,34.6,0.144,45,0\\n4,94,65,22,0,24.7,0.148,21,0\\n7,114,64,0,0,27.4,0.732,34,1\\n0,102,78,40,90,34.5,0.238,24,0\\n2,111,60,0,0,26.2,0.343,23,0\\n1,128,82,17,183,27.5,0.115,22,0\\n10,92,62,0,0,25.9,0.167,31,0\\n13,104,72,0,0,31.2,0.465,38,1\\n5,104,74,0,0,28.8,0.153,48,0\\n2,94,76,18,66,31.6,0.649,23,0\\n7,97,76,32,91,40.9,0.871,32,1\\n1,100,74,12,46,19.5,0.149,28,0\\n0,102,86,17,105,29.3,0.695,27,0\\n4,128,70,0,0,34.3,0.303,24,0\\n6,147,80,0,0,29.5,0.178,50,1\\n4,90,0,0,0,28.0,0.610,31,0\\n3,103,72,30,152,27.6,0.730,27,0\\n2,157,74,35,440,39.4,0.134,30,0\\n1,167,74,17,144,23.4,0.447,33,1\\n0,179,50,36,159,37.8,0.455,22,1\\n11,136,84,35,130,28.3,0.260,42,1\\n0,107,60,25,0,26.4,0.133,23,0\\n1,91,54,25,100,25.2,0.234,23,0\\n1,117,60,23,106,33.8,0.466,27,0\\n5,123,74,40,77,34.1,0.269,28,0\\n2,120,54,0,0,26.8,0.455,27,0\\n1,106,70,28,135,34.2,0.142,22,0\\n2,155,52,27,540,38.7,0.240,25,1\\n2,101,58,35,90,21.8,0.155,22,0\\n1,120,80,48,200,38.9,1.162,41,0\\n11,127,106,0,0,39.0,0.190,51,0\\n3,80,82,31,70,34.2,1.292,27,1\\n10,162,84,0,0,27.7,0.182,54,0\\n1,199,76,43,0,42.9,1.394,22,1\\n8,167,106,46,231,37.6,0.165,43,1\\n9,145,80,46,130,37.9,0.637,40,1\\n6,115,60,39,0,33.7,0.245,40,1\\n1,112,80,45,132,34.8,0.217,24,0\\n4,145,82,18,0,32.5,0.235,70,1\\n10,111,70,27,0,27.5,0.141,40,1\\n6,98,58,33,190,34.0,0.430,43,0\\n9,154,78,30,100,30.9,0.164,45,0\\n6,165,68,26,168,33.6,0.631,49,0\\n1,99,58,10,0,25.4,0.551,21,0\\n10,68,106,23,49,35.5,0.285,47,0\\n3,123,100,35,240,57.3,0.880,22,0\\n8,91,82,0,0,35.6,0.587,68,0\\n6,195,70,0,0,30.9,0.328,31,1\\n9,156,86,0,0,24.8,0.230,53,1\\n0,93,60,0,0,35.3,0.263,25,0\\n3,121,52,0,0,36.0,0.127,25,1\\n2,101,58,17,265,24.2,0.614,23,0\\n2,56,56,28,45,24.2,0.332,22,0\\n0,162,76,36,0,49.6,0.364,26,1\\n0,95,64,39,105,44.6,0.366,22,0\\n4,125,80,0,0,32.3,0.536,27,1\\n5,136,82,0,0,0.0,0.640,69,0\\n2,129,74,26,205,33.2,0.591,25,0\\n3,130,64,0,0,23.1,0.314,22,0\\n1,107,50,19,0,28.3,0.181,29,0\\n1,140,74,26,180,24.1,0.828,23,0\\n1,144,82,46,180,46.1,0.335,46,1\\n8,107,80,0,0,24.6,0.856,34,0\\n13,158,114,0,0,42.3,0.257,44,1\\n2,121,70,32,95,39.1,0.886,23,0\\n7,129,68,49,125,38.5,0.439,43,1\\n2,90,60,0,0,23.5,0.191,25,0\\n7,142,90,24,480,30.4,0.128,43,1\\n3,169,74,19,125,29.9,0.268,31,1\\n0,99,0,0,0,25.0,0.253,22,0\\n4,127,88,11,155,34.5,0.598,28,0\\n4,118,70,0,0,44.5,0.904,26,0\\n2,122,76,27,200,35.9,0.483,26,0\\n6,125,78,31,0,27.6,0.565,49,1\\n1,168,88,29,0,35.0,0.905,52,1\\n2,129,0,0,0,38.5,0.304,41,0\\n4,110,76,20,100,28.4,0.118,27,0\\n6,80,80,36,0,39.8,0.177,28,0\\n10,115,0,0,0,0.0,0.261,30,1\\n2,127,46,21,335,34.4,0.176,22,0\\n9,164,78,0,0,32.8,0.148,45,1\\n2,93,64,32,160,38.0,0.674,23,1\\n3,158,64,13,387,31.2,0.295,24,0\\n5,126,78,27,22,29.6,0.439,40,0\\n10,129,62,36,0,41.2,0.441,38,1\\n0,134,58,20,291,26.4,0.352,21,0\\n3,102,74,0,0,29.5,0.121,32,0\\n7,187,50,33,392,33.9,0.826,34,1\\n3,173,78,39,185,33.8,0.970,31,1\\n10,94,72,18,0,23.1,0.595,56,0\\n1,108,60,46,178,35.5,0.415,24,0\\n5,97,76,27,0,35.6,0.378,52,1\\n4,83,86,19,0,29.3,0.317,34,0\\n1,114,66,36,200,38.1,0.289,21,0\\n1,149,68,29,127,29.3,0.349,42,1\\n5,117,86,30,105,39.1,0.251,42,0\\n1,111,94,0,0,32.8,0.265,45,0\\n4,112,78,40,0,39.4,0.236,38,0\\n1,116,78,29,180,36.1,0.496,25,0\\n0,141,84,26,0,32.4,0.433,22,0\\n2,175,88,0,0,22.9,0.326,22,0\\n2,92,52,0,0,30.1,0.141,22,0\\n3,130,78,23,79,28.4,0.323,34,1\\n8,120,86,0,0,28.4,0.259,22,1\\n2,174,88,37,120,44.5,0.646,24,1\\n2,106,56,27,165,29.0,0.426,22,0\\n2,105,75,0,0,23.3,0.560,53,0\\n4,95,60,32,0,35.4,0.284,28,0\\n0,126,86,27,120,27.4,0.515,21,0\\n8,65,72,23,0,32.0,0.600,42,0\\n2,99,60,17,160,36.6,0.453,21,0\\n1,102,74,0,0,39.5,0.293,42,1\\n11,120,80,37,150,42.3,0.785,48,1\\n3,102,44,20,94,30.8,0.400,26,0\\n1,109,58,18,116,28.5,0.219,22,0\\n9,140,94,0,0,32.7,0.734,45,1\\n13,153,88,37,140,40.6,1.174,39,0\\n12,100,84,33,105,30.0,0.488,46,0\\n1,147,94,41,0,49.3,0.358,27,1\\n1,81,74,41,57,46.3,1.096,32,0\\n3,187,70,22,200,36.4,0.408,36,1\\n6,162,62,0,0,24.3,0.178,50,1\\n4,136,70,0,0,31.2,1.182,22,1\\n1,121,78,39,74,39.0,0.261,28,0\\n3,108,62,24,0,26.0,0.223,25,0\\n0,181,88,44,510,43.3,0.222,26,1\\n8,154,78,32,0,32.4,0.443,45,1\\n1,128,88,39,110,36.5,1.057,37,1\\n7,137,90,41,0,32.0,0.391,39,0\\n0,123,72,0,0,36.3,0.258,52,1\\n1,106,76,0,0,37.5,0.197,26,0\\n6,190,92,0,0,35.5,0.278,66,1\\n2,88,58,26,16,28.4,0.766,22,0\\n9,170,74,31,0,44.0,0.403,43,1\\n9,89,62,0,0,22.5,0.142,33,0\\n10,101,76,48,180,32.9,0.171,63,0\\n2,122,70,27,0,36.8,0.340,27,0\\n5,121,72,23,112,26.2,0.245,30,0\\n1,126,60,0,0,30.1,0.349,47,1\\n1,93,70,31,0,30.4,0.315,23,0'}"
            ]
          },
          "metadata": {
            "tags": []
          },
          "execution_count": 8
        }
      ]
    },
    {
      "cell_type": "code",
      "metadata": {
        "id": "4YNTT4Tm6E0W",
        "colab_type": "code",
        "outputId": "27d294ef-835d-4758-d48a-d01585cc0025",
        "colab": {
          "base_uri": "https://localhost:8080/",
          "height": 119
        }
      },
      "source": [
        "# MLP for Pima Indians Dataset with 10-fold cross validation\n",
        "from keras.models import Sequential\n",
        "from keras.layers import Dense\n",
        "from sklearn.model_selection import StratifiedKFold\n",
        "import numpy\n",
        "\n",
        "# fix random seed for reproducibility\n",
        "seed = 42\n",
        "numpy.random.seed(seed)\n",
        "\n",
        "# load pima indians dataset\n",
        "dataset = numpy.loadtxt(\"pima-indians-diabetes.csv\", delimiter=\",\")\n",
        "\n",
        "# split into input (X) and output (Y) variables\n",
        "X = dataset[:,0:8]\n",
        "Y = dataset[:,8]\n",
        "\n",
        "# define 5-fold cross validation test harness\n",
        "kfold = StratifiedKFold(n_splits=5, shuffle=True, random_state=seed)\n",
        "cvscores = []\n",
        "for train, test in kfold.split(X, Y):\n",
        "  # create model\n",
        "  model = Sequential()\n",
        "  model.add(Dense(12, input_dim=8, activation='relu'))\n",
        "  model.add(Dense(8, activation='relu'))\n",
        "  model.add(Dense(1, activation='sigmoid'))\n",
        "  # Compile model\n",
        "  model.compile(loss='binary_crossentropy', optimizer='adam', metrics=['accuracy']) # Fit the model\n",
        "  model.fit(X[train], Y[train], epochs=150, batch_size=10, verbose=0)\n",
        "  # evaluate the model\n",
        "  scores = model.evaluate(X[test], Y[test], verbose=0)\n",
        "  print(f'{model.metrics_names[1]}: {(scores[1]*100):.2f}%') \n",
        "  cvscores.append(scores[1]*100)\n",
        "print(f'{numpy.mean(cvscores):.2f}% +/- {numpy.std(cvscores):.2f}%')"
      ],
      "execution_count": 9,
      "outputs": [
        {
          "output_type": "stream",
          "text": [
            "acc: 64.94%\n",
            "acc: 66.23%\n",
            "acc: 75.32%\n",
            "acc: 73.20%\n",
            "acc: 72.55%\n",
            "70.45% +/- 4.10%\n"
          ],
          "name": "stdout"
        }
      ]
    },
    {
      "cell_type": "markdown",
      "metadata": {
        "id": "JILi3KJjAkfF",
        "colab_type": "text"
      },
      "source": [
        "# Hyperparameter Tuning\n",
        "\n",
        "Hyperparameter tuning is much more important with neural networks than it has been with any other models that we have considered up to this point. Other supervised learning models might have a couple of parameters, but neural networks can have dozens. These can substantially affect the accuracy of our models and although it can be a time consuming process is a necessary step when working with neural networks.\n",
        "\n",
        "Hyperparameter tuning comes with a challenge. How can we compare models specified with different hyperparameters if our model's final error metric can vary somewhat erratically? How do we avoid just getting unlucky and selecting the wrong hyperparameter? This is a problem that to a certain degree we just have to live with as we test and test again. However, we can minimize it somewhat by pairing our experiments with Cross Validation to reduce the variance of our final accuracy values."
      ]
    },
    {
      "cell_type": "markdown",
      "metadata": {
        "id": "sYJ8t_ezHP4W",
        "colab_type": "text"
      },
      "source": [
        "## Hyperparameter Tuning Approaches:\n",
        "\n",
        "### 1) Babysitting AKA \"Grad Student Descent\".\n",
        "\n",
        "If you fiddled with any hyperparameters yesterday, this is basically what you did. This approach is 100% manual and is pretty common among researchers where finding that 1 exact specification that jumps your model to a level of accuracy never seen before is the difference between publishing and not publishing a paper. Of course the professors don't do this themselves, that's grunt work. This is also known as the fiddle with hyperparameters until you run out of time method.\n",
        "####==>>could also web search what others have done.\n",
        "\n",
        "### 2) Grid Search\n",
        "\n",
        "Grid Search is the Grad Student galaxy brain realization of: why don't I just specify all the experiments I want to run and let the computer try every possible combination of them while I go and grab lunch. This has a specific downside in that if I specify 5 hyperparameters with 5 options each then I've just created 5^5 combinations of hyperparameters to check. Which means that I have to train 3125 different versions of my model Then if I use 5-fold Cross Validation on that then my model has to run 15,525 times. This is the brute-force method of hyperparameter tuning, but it can be very profitable if done wisely. \n",
        "\n",
        "When using Grid Search here's what I suggest: don't use it to test combinations of different hyperparameters, only use it to test different specifications of **a single** hyperparameter. It's rare that combinations between different hyperparameters lead to big performance gains. You'll get 90-95% of the way there if you just Grid Search one parameter and take the best result, then retain that best result while you test another, and then retain the best specification from that while you train another. This at least makes the situation much more manageable and leads to pretty good results. \n",
        "\n",
        "### 3) Random Search\n",
        "\n",
        "Do Grid Search for a couple of hours and you'll say to yourself - \"There's got to be a better way.\" Enter Random Search. For Random search you specify a hyperparameter space and it picks specifications from that randomly, tries them out, gives you the best results and says - That's going to have to be good enough, go home and spend time with your family. \n",
        "\n",
        "Grid Search treats every parameter as if it was equally important, but this just isn't the case, some are known to move the needle a lot more than others (we'll talk about that in a minute). Random Search allows searching to be specified along the most important parameter and experiments less along the dimensions of less important hyperparameters. The downside of Random search is that it won't find the absolute best hyperparameters, but it is much less costly to perform than Grid Search. \n",
        "\n",
        "### 4) Bayesian Methods\n",
        "\n",
        "One thing that can make more manual methods like babysitting and gridsearch effective is that as the experimenter sees results he can then make updates to his future searches taking into account the results of past specifications. If only we could hyperparameter tune our hyperparameter tuning. Well, we kind of can. Enter Bayesian Optimization. Neural Networks are like an optimization problem within an optimization problem, and Bayesian Optimization is a search strategy that tries to take into account the results of past searches in order to improve future ones. This is the most advanced method but can be a little bit tricky to implement. "
      ]
    },
    {
      "cell_type": "markdown",
      "metadata": {
        "id": "HfQ7D043OMMn",
        "colab_type": "text"
      },
      "source": [
        "## What Hyperparameters are there to test?\n",
        "\n",
        "- batch_size\n",
        "- training epochs\n",
        "- optimization algorithms\n",
        "- learning rate\n",
        "- momentum\n",
        "- activation functions\n",
        "- dropout regularization\n",
        "- number of neurons in the hidden layer\n",
        "\n",
        "There are more, but these are the most important."
      ]
    },
    {
      "cell_type": "markdown",
      "metadata": {
        "id": "4Xl9c2VPPITI",
        "colab_type": "text"
      },
      "source": [
        "## Creating a \"Test Harness\"\n",
        "\n",
        "You want it to be easy to specify different version of your model and for that model to undergo the same conditions every time with nothing different except for the hyperparameter(s) that you are testing. \n",
        "\n",
        "In order to do this we're going to use GridSearchCV from scikit learn to run our model with different hyperparameters and then report back to us the best one. In order to do this we have to **wrap our model in either a KerasRegressor or KerasClassifier** object to prepare it to work with Scikit-Learn. We also have to **put our model specification within a function** that we can call in order to generate it. This is required in order to use KerasRegressor or KerasClassifier"
      ]
    },
    {
      "cell_type": "code",
      "metadata": {
        "id": "NJTj0ZAPRfh7",
        "colab_type": "code",
        "outputId": "86aad133-f31c-42ef-df9d-0d3673f03268",
        "colab": {
          "resources": {
            "http://localhost:8080/nbextensions/google.colab/files.js": {
              "data": "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",
              "ok": true,
              "headers": [
                [
                  "content-type",
                  "application/javascript"
                ]
              ],
              "status": 200,
              "status_text": ""
            }
          },
          "base_uri": "https://localhost:8080/",
          "height": 107
        }
      },
      "source": [
        "from google.colab import files\n",
        "files.upload()"
      ],
      "execution_count": 0,
      "outputs": [
        {
          "output_type": "display_data",
          "data": {
            "text/html": [
              "\n",
              "     <input type=\"file\" id=\"files-b6d7387f-949e-484e-a224-74dfe06a043e\" name=\"files[]\" multiple disabled />\n",
              "     <output id=\"result-b6d7387f-949e-484e-a224-74dfe06a043e\">\n",
              "      Upload widget is only available when the cell has been executed in the\n",
              "      current browser session. Please rerun this cell to enable.\n",
              "      </output>\n",
              "      <script src=\"/nbextensions/google.colab/files.js\"></script> "
            ],
            "text/plain": [
              "<IPython.core.display.HTML object>"
            ]
          },
          "metadata": {
            "tags": []
          }
        },
        {
          "output_type": "stream",
          "text": [
            "Saving pima-indians-diabetes.csv to pima-indians-diabetes (1).csv\n"
          ],
          "name": "stdout"
        },
        {
          "output_type": "execute_result",
          "data": {
            "text/plain": [
              "{'pima-indians-diabetes.csv': b'6,148,72,35,0,33.6,0.627,50,1\\n1,85,66,29,0,26.6,0.351,31,0\\n8,183,64,0,0,23.3,0.672,32,1\\n1,89,66,23,94,28.1,0.167,21,0\\n0,137,40,35,168,43.1,2.288,33,1\\n5,116,74,0,0,25.6,0.201,30,0\\n3,78,50,32,88,31.0,0.248,26,1\\n10,115,0,0,0,35.3,0.134,29,0\\n2,197,70,45,543,30.5,0.158,53,1\\n8,125,96,0,0,0.0,0.232,54,1\\n4,110,92,0,0,37.6,0.191,30,0\\n10,168,74,0,0,38.0,0.537,34,1\\n10,139,80,0,0,27.1,1.441,57,0\\n1,189,60,23,846,30.1,0.398,59,1\\n5,166,72,19,175,25.8,0.587,51,1\\n7,100,0,0,0,30.0,0.484,32,1\\n0,118,84,47,230,45.8,0.551,31,1\\n7,107,74,0,0,29.6,0.254,31,1\\n1,103,30,38,83,43.3,0.183,33,0\\n1,115,70,30,96,34.6,0.529,32,1\\n3,126,88,41,235,39.3,0.704,27,0\\n8,99,84,0,0,35.4,0.388,50,0\\n7,196,90,0,0,39.8,0.451,41,1\\n9,119,80,35,0,29.0,0.263,29,1\\n11,143,94,33,146,36.6,0.254,51,1\\n10,125,70,26,115,31.1,0.205,41,1\\n7,147,76,0,0,39.4,0.257,43,1\\n1,97,66,15,140,23.2,0.487,22,0\\n13,145,82,19,110,22.2,0.245,57,0\\n5,117,92,0,0,34.1,0.337,38,0\\n5,109,75,26,0,36.0,0.546,60,0\\n3,158,76,36,245,31.6,0.851,28,1\\n3,88,58,11,54,24.8,0.267,22,0\\n6,92,92,0,0,19.9,0.188,28,0\\n10,122,78,31,0,27.6,0.512,45,0\\n4,103,60,33,192,24.0,0.966,33,0\\n11,138,76,0,0,33.2,0.420,35,0\\n9,102,76,37,0,32.9,0.665,46,1\\n2,90,68,42,0,38.2,0.503,27,1\\n4,111,72,47,207,37.1,1.390,56,1\\n3,180,64,25,70,34.0,0.271,26,0\\n7,133,84,0,0,40.2,0.696,37,0\\n7,106,92,18,0,22.7,0.235,48,0\\n9,171,110,24,240,45.4,0.721,54,1\\n7,159,64,0,0,27.4,0.294,40,0\\n0,180,66,39,0,42.0,1.893,25,1\\n1,146,56,0,0,29.7,0.564,29,0\\n2,71,70,27,0,28.0,0.586,22,0\\n7,103,66,32,0,39.1,0.344,31,1\\n7,105,0,0,0,0.0,0.305,24,0\\n1,103,80,11,82,19.4,0.491,22,0\\n1,101,50,15,36,24.2,0.526,26,0\\n5,88,66,21,23,24.4,0.342,30,0\\n8,176,90,34,300,33.7,0.467,58,1\\n7,150,66,42,342,34.7,0.718,42,0\\n1,73,50,10,0,23.0,0.248,21,0\\n7,187,68,39,304,37.7,0.254,41,1\\n0,100,88,60,110,46.8,0.962,31,0\\n0,146,82,0,0,40.5,1.781,44,0\\n0,105,64,41,142,41.5,0.173,22,0\\n2,84,0,0,0,0.0,0.304,21,0\\n8,133,72,0,0,32.9,0.270,39,1\\n5,44,62,0,0,25.0,0.587,36,0\\n2,141,58,34,128,25.4,0.699,24,0\\n7,114,66,0,0,32.8,0.258,42,1\\n5,99,74,27,0,29.0,0.203,32,0\\n0,109,88,30,0,32.5,0.855,38,1\\n2,109,92,0,0,42.7,0.845,54,0\\n1,95,66,13,38,19.6,0.334,25,0\\n4,146,85,27,100,28.9,0.189,27,0\\n2,100,66,20,90,32.9,0.867,28,1\\n5,139,64,35,140,28.6,0.411,26,0\\n13,126,90,0,0,43.4,0.583,42,1\\n4,129,86,20,270,35.1,0.231,23,0\\n1,79,75,30,0,32.0,0.396,22,0\\n1,0,48,20,0,24.7,0.140,22,0\\n7,62,78,0,0,32.6,0.391,41,0\\n5,95,72,33,0,37.7,0.370,27,0\\n0,131,0,0,0,43.2,0.270,26,1\\n2,112,66,22,0,25.0,0.307,24,0\\n3,113,44,13,0,22.4,0.140,22,0\\n2,74,0,0,0,0.0,0.102,22,0\\n7,83,78,26,71,29.3,0.767,36,0\\n0,101,65,28,0,24.6,0.237,22,0\\n5,137,108,0,0,48.8,0.227,37,1\\n2,110,74,29,125,32.4,0.698,27,0\\n13,106,72,54,0,36.6,0.178,45,0\\n2,100,68,25,71,38.5,0.324,26,0\\n15,136,70,32,110,37.1,0.153,43,1\\n1,107,68,19,0,26.5,0.165,24,0\\n1,80,55,0,0,19.1,0.258,21,0\\n4,123,80,15,176,32.0,0.443,34,0\\n7,81,78,40,48,46.7,0.261,42,0\\n4,134,72,0,0,23.8,0.277,60,1\\n2,142,82,18,64,24.7,0.761,21,0\\n6,144,72,27,228,33.9,0.255,40,0\\n2,92,62,28,0,31.6,0.130,24,0\\n1,71,48,18,76,20.4,0.323,22,0\\n6,93,50,30,64,28.7,0.356,23,0\\n1,122,90,51,220,49.7,0.325,31,1\\n1,163,72,0,0,39.0,1.222,33,1\\n1,151,60,0,0,26.1,0.179,22,0\\n0,125,96,0,0,22.5,0.262,21,0\\n1,81,72,18,40,26.6,0.283,24,0\\n2,85,65,0,0,39.6,0.930,27,0\\n1,126,56,29,152,28.7,0.801,21,0\\n1,96,122,0,0,22.4,0.207,27,0\\n4,144,58,28,140,29.5,0.287,37,0\\n3,83,58,31,18,34.3,0.336,25,0\\n0,95,85,25,36,37.4,0.247,24,1\\n3,171,72,33,135,33.3,0.199,24,1\\n8,155,62,26,495,34.0,0.543,46,1\\n1,89,76,34,37,31.2,0.192,23,0\\n4,76,62,0,0,34.0,0.391,25,0\\n7,160,54,32,175,30.5,0.588,39,1\\n4,146,92,0,0,31.2,0.539,61,1\\n5,124,74,0,0,34.0,0.220,38,1\\n5,78,48,0,0,33.7,0.654,25,0\\n4,97,60,23,0,28.2,0.443,22,0\\n4,99,76,15,51,23.2,0.223,21,0\\n0,162,76,56,100,53.2,0.759,25,1\\n6,111,64,39,0,34.2,0.260,24,0\\n2,107,74,30,100,33.6,0.404,23,0\\n5,132,80,0,0,26.8,0.186,69,0\\n0,113,76,0,0,33.3,0.278,23,1\\n1,88,30,42,99,55.0,0.496,26,1\\n3,120,70,30,135,42.9,0.452,30,0\\n1,118,58,36,94,33.3,0.261,23,0\\n1,117,88,24,145,34.5,0.403,40,1\\n0,105,84,0,0,27.9,0.741,62,1\\n4,173,70,14,168,29.7,0.361,33,1\\n9,122,56,0,0,33.3,1.114,33,1\\n3,170,64,37,225,34.5,0.356,30,1\\n8,84,74,31,0,38.3,0.457,39,0\\n2,96,68,13,49,21.1,0.647,26,0\\n2,125,60,20,140,33.8,0.088,31,0\\n0,100,70,26,50,30.8,0.597,21,0\\n0,93,60,25,92,28.7,0.532,22,0\\n0,129,80,0,0,31.2,0.703,29,0\\n5,105,72,29,325,36.9,0.159,28,0\\n3,128,78,0,0,21.1,0.268,55,0\\n5,106,82,30,0,39.5,0.286,38,0\\n2,108,52,26,63,32.5,0.318,22,0\\n10,108,66,0,0,32.4,0.272,42,1\\n4,154,62,31,284,32.8,0.237,23,0\\n0,102,75,23,0,0.0,0.572,21,0\\n9,57,80,37,0,32.8,0.096,41,0\\n2,106,64,35,119,30.5,1.400,34,0\\n5,147,78,0,0,33.7,0.218,65,0\\n2,90,70,17,0,27.3,0.085,22,0\\n1,136,74,50,204,37.4,0.399,24,0\\n4,114,65,0,0,21.9,0.432,37,0\\n9,156,86,28,155,34.3,1.189,42,1\\n1,153,82,42,485,40.6,0.687,23,0\\n8,188,78,0,0,47.9,0.137,43,1\\n7,152,88,44,0,50.0,0.337,36,1\\n2,99,52,15,94,24.6,0.637,21,0\\n1,109,56,21,135,25.2,0.833,23,0\\n2,88,74,19,53,29.0,0.229,22,0\\n17,163,72,41,114,40.9,0.817,47,1\\n4,151,90,38,0,29.7,0.294,36,0\\n7,102,74,40,105,37.2,0.204,45,0\\n0,114,80,34,285,44.2,0.167,27,0\\n2,100,64,23,0,29.7,0.368,21,0\\n0,131,88,0,0,31.6,0.743,32,1\\n6,104,74,18,156,29.9,0.722,41,1\\n3,148,66,25,0,32.5,0.256,22,0\\n4,120,68,0,0,29.6,0.709,34,0\\n4,110,66,0,0,31.9,0.471,29,0\\n3,111,90,12,78,28.4,0.495,29,0\\n6,102,82,0,0,30.8,0.180,36,1\\n6,134,70,23,130,35.4,0.542,29,1\\n2,87,0,23,0,28.9,0.773,25,0\\n1,79,60,42,48,43.5,0.678,23,0\\n2,75,64,24,55,29.7,0.370,33,0\\n8,179,72,42,130,32.7,0.719,36,1\\n6,85,78,0,0,31.2,0.382,42,0\\n0,129,110,46,130,67.1,0.319,26,1\\n5,143,78,0,0,45.0,0.190,47,0\\n5,130,82,0,0,39.1,0.956,37,1\\n6,87,80,0,0,23.2,0.084,32,0\\n0,119,64,18,92,34.9,0.725,23,0\\n1,0,74,20,23,27.7,0.299,21,0\\n5,73,60,0,0,26.8,0.268,27,0\\n4,141,74,0,0,27.6,0.244,40,0\\n7,194,68,28,0,35.9,0.745,41,1\\n8,181,68,36,495,30.1,0.615,60,1\\n1,128,98,41,58,32.0,1.321,33,1\\n8,109,76,39,114,27.9,0.640,31,1\\n5,139,80,35,160,31.6,0.361,25,1\\n3,111,62,0,0,22.6,0.142,21,0\\n9,123,70,44,94,33.1,0.374,40,0\\n7,159,66,0,0,30.4,0.383,36,1\\n11,135,0,0,0,52.3,0.578,40,1\\n8,85,55,20,0,24.4,0.136,42,0\\n5,158,84,41,210,39.4,0.395,29,1\\n1,105,58,0,0,24.3,0.187,21,0\\n3,107,62,13,48,22.9,0.678,23,1\\n4,109,64,44,99,34.8,0.905,26,1\\n4,148,60,27,318,30.9,0.150,29,1\\n0,113,80,16,0,31.0,0.874,21,0\\n1,138,82,0,0,40.1,0.236,28,0\\n0,108,68,20,0,27.3,0.787,32,0\\n2,99,70,16,44,20.4,0.235,27,0\\n6,103,72,32,190,37.7,0.324,55,0\\n5,111,72,28,0,23.9,0.407,27,0\\n8,196,76,29,280,37.5,0.605,57,1\\n5,162,104,0,0,37.7,0.151,52,1\\n1,96,64,27,87,33.2,0.289,21,0\\n7,184,84,33,0,35.5,0.355,41,1\\n2,81,60,22,0,27.7,0.290,25,0\\n0,147,85,54,0,42.8,0.375,24,0\\n7,179,95,31,0,34.2,0.164,60,0\\n0,140,65,26,130,42.6,0.431,24,1\\n9,112,82,32,175,34.2,0.260,36,1\\n12,151,70,40,271,41.8,0.742,38,1\\n5,109,62,41,129,35.8,0.514,25,1\\n6,125,68,30,120,30.0,0.464,32,0\\n5,85,74,22,0,29.0,1.224,32,1\\n5,112,66,0,0,37.8,0.261,41,1\\n0,177,60,29,478,34.6,1.072,21,1\\n2,158,90,0,0,31.6,0.805,66,1\\n7,119,0,0,0,25.2,0.209,37,0\\n7,142,60,33,190,28.8,0.687,61,0\\n1,100,66,15,56,23.6,0.666,26,0\\n1,87,78,27,32,34.6,0.101,22,0\\n0,101,76,0,0,35.7,0.198,26,0\\n3,162,52,38,0,37.2,0.652,24,1\\n4,197,70,39,744,36.7,2.329,31,0\\n0,117,80,31,53,45.2,0.089,24,0\\n4,142,86,0,0,44.0,0.645,22,1\\n6,134,80,37,370,46.2,0.238,46,1\\n1,79,80,25,37,25.4,0.583,22,0\\n4,122,68,0,0,35.0,0.394,29,0\\n3,74,68,28,45,29.7,0.293,23,0\\n4,171,72,0,0,43.6,0.479,26,1\\n7,181,84,21,192,35.9,0.586,51,1\\n0,179,90,27,0,44.1,0.686,23,1\\n9,164,84,21,0,30.8,0.831,32,1\\n0,104,76,0,0,18.4,0.582,27,0\\n1,91,64,24,0,29.2,0.192,21,0\\n4,91,70,32,88,33.1,0.446,22,0\\n3,139,54,0,0,25.6,0.402,22,1\\n6,119,50,22,176,27.1,1.318,33,1\\n2,146,76,35,194,38.2,0.329,29,0\\n9,184,85,15,0,30.0,1.213,49,1\\n10,122,68,0,0,31.2,0.258,41,0\\n0,165,90,33,680,52.3,0.427,23,0\\n9,124,70,33,402,35.4,0.282,34,0\\n1,111,86,19,0,30.1,0.143,23,0\\n9,106,52,0,0,31.2,0.380,42,0\\n2,129,84,0,0,28.0,0.284,27,0\\n2,90,80,14,55,24.4,0.249,24,0\\n0,86,68,32,0,35.8,0.238,25,0\\n12,92,62,7,258,27.6,0.926,44,1\\n1,113,64,35,0,33.6,0.543,21,1\\n3,111,56,39,0,30.1,0.557,30,0\\n2,114,68,22,0,28.7,0.092,25,0\\n1,193,50,16,375,25.9,0.655,24,0\\n11,155,76,28,150,33.3,1.353,51,1\\n3,191,68,15,130,30.9,0.299,34,0\\n3,141,0,0,0,30.0,0.761,27,1\\n4,95,70,32,0,32.1,0.612,24,0\\n3,142,80,15,0,32.4,0.200,63,0\\n4,123,62,0,0,32.0,0.226,35,1\\n5,96,74,18,67,33.6,0.997,43,0\\n0,138,0,0,0,36.3,0.933,25,1\\n2,128,64,42,0,40.0,1.101,24,0\\n0,102,52,0,0,25.1,0.078,21,0\\n2,146,0,0,0,27.5,0.240,28,1\\n10,101,86,37,0,45.6,1.136,38,1\\n2,108,62,32,56,25.2,0.128,21,0\\n3,122,78,0,0,23.0,0.254,40,0\\n1,71,78,50,45,33.2,0.422,21,0\\n13,106,70,0,0,34.2,0.251,52,0\\n2,100,70,52,57,40.5,0.677,25,0\\n7,106,60,24,0,26.5,0.296,29,1\\n0,104,64,23,116,27.8,0.454,23,0\\n5,114,74,0,0,24.9,0.744,57,0\\n2,108,62,10,278,25.3,0.881,22,0\\n0,146,70,0,0,37.9,0.334,28,1\\n10,129,76,28,122,35.9,0.280,39,0\\n7,133,88,15,155,32.4,0.262,37,0\\n7,161,86,0,0,30.4,0.165,47,1\\n2,108,80,0,0,27.0,0.259,52,1\\n7,136,74,26,135,26.0,0.647,51,0\\n5,155,84,44,545,38.7,0.619,34,0\\n1,119,86,39,220,45.6,0.808,29,1\\n4,96,56,17,49,20.8,0.340,26,0\\n5,108,72,43,75,36.1,0.263,33,0\\n0,78,88,29,40,36.9,0.434,21,0\\n0,107,62,30,74,36.6,0.757,25,1\\n2,128,78,37,182,43.3,1.224,31,1\\n1,128,48,45,194,40.5,0.613,24,1\\n0,161,50,0,0,21.9,0.254,65,0\\n6,151,62,31,120,35.5,0.692,28,0\\n2,146,70,38,360,28.0,0.337,29,1\\n0,126,84,29,215,30.7,0.520,24,0\\n14,100,78,25,184,36.6,0.412,46,1\\n8,112,72,0,0,23.6,0.840,58,0\\n0,167,0,0,0,32.3,0.839,30,1\\n2,144,58,33,135,31.6,0.422,25,1\\n5,77,82,41,42,35.8,0.156,35,0\\n5,115,98,0,0,52.9,0.209,28,1\\n3,150,76,0,0,21.0,0.207,37,0\\n2,120,76,37,105,39.7,0.215,29,0\\n10,161,68,23,132,25.5,0.326,47,1\\n0,137,68,14,148,24.8,0.143,21,0\\n0,128,68,19,180,30.5,1.391,25,1\\n2,124,68,28,205,32.9,0.875,30,1\\n6,80,66,30,0,26.2,0.313,41,0\\n0,106,70,37,148,39.4,0.605,22,0\\n2,155,74,17,96,26.6,0.433,27,1\\n3,113,50,10,85,29.5,0.626,25,0\\n7,109,80,31,0,35.9,1.127,43,1\\n2,112,68,22,94,34.1,0.315,26,0\\n3,99,80,11,64,19.3,0.284,30,0\\n3,182,74,0,0,30.5,0.345,29,1\\n3,115,66,39,140,38.1,0.150,28,0\\n6,194,78,0,0,23.5,0.129,59,1\\n4,129,60,12,231,27.5,0.527,31,0\\n3,112,74,30,0,31.6,0.197,25,1\\n0,124,70,20,0,27.4,0.254,36,1\\n13,152,90,33,29,26.8,0.731,43,1\\n2,112,75,32,0,35.7,0.148,21,0\\n1,157,72,21,168,25.6,0.123,24,0\\n1,122,64,32,156,35.1,0.692,30,1\\n10,179,70,0,0,35.1,0.200,37,0\\n2,102,86,36,120,45.5,0.127,23,1\\n6,105,70,32,68,30.8,0.122,37,0\\n8,118,72,19,0,23.1,1.476,46,0\\n2,87,58,16,52,32.7,0.166,25,0\\n1,180,0,0,0,43.3,0.282,41,1\\n12,106,80,0,0,23.6,0.137,44,0\\n1,95,60,18,58,23.9,0.260,22,0\\n0,165,76,43,255,47.9,0.259,26,0\\n0,117,0,0,0,33.8,0.932,44,0\\n5,115,76,0,0,31.2,0.343,44,1\\n9,152,78,34,171,34.2,0.893,33,1\\n7,178,84,0,0,39.9,0.331,41,1\\n1,130,70,13,105,25.9,0.472,22,0\\n1,95,74,21,73,25.9,0.673,36,0\\n1,0,68,35,0,32.0,0.389,22,0\\n5,122,86,0,0,34.7,0.290,33,0\\n8,95,72,0,0,36.8,0.485,57,0\\n8,126,88,36,108,38.5,0.349,49,0\\n1,139,46,19,83,28.7,0.654,22,0\\n3,116,0,0,0,23.5,0.187,23,0\\n3,99,62,19,74,21.8,0.279,26,0\\n5,0,80,32,0,41.0,0.346,37,1\\n4,92,80,0,0,42.2,0.237,29,0\\n4,137,84,0,0,31.2,0.252,30,0\\n3,61,82,28,0,34.4,0.243,46,0\\n1,90,62,12,43,27.2,0.580,24,0\\n3,90,78,0,0,42.7,0.559,21,0\\n9,165,88,0,0,30.4,0.302,49,1\\n1,125,50,40,167,33.3,0.962,28,1\\n13,129,0,30,0,39.9,0.569,44,1\\n12,88,74,40,54,35.3,0.378,48,0\\n1,196,76,36,249,36.5,0.875,29,1\\n5,189,64,33,325,31.2,0.583,29,1\\n5,158,70,0,0,29.8,0.207,63,0\\n5,103,108,37,0,39.2,0.305,65,0\\n4,146,78,0,0,38.5,0.520,67,1\\n4,147,74,25,293,34.9,0.385,30,0\\n5,99,54,28,83,34.0,0.499,30,0\\n6,124,72,0,0,27.6,0.368,29,1\\n0,101,64,17,0,21.0,0.252,21,0\\n3,81,86,16,66,27.5,0.306,22,0\\n1,133,102,28,140,32.8,0.234,45,1\\n3,173,82,48,465,38.4,2.137,25,1\\n0,118,64,23,89,0.0,1.731,21,0\\n0,84,64,22,66,35.8,0.545,21,0\\n2,105,58,40,94,34.9,0.225,25,0\\n2,122,52,43,158,36.2,0.816,28,0\\n12,140,82,43,325,39.2,0.528,58,1\\n0,98,82,15,84,25.2,0.299,22,0\\n1,87,60,37,75,37.2,0.509,22,0\\n4,156,75,0,0,48.3,0.238,32,1\\n0,93,100,39,72,43.4,1.021,35,0\\n1,107,72,30,82,30.8,0.821,24,0\\n0,105,68,22,0,20.0,0.236,22,0\\n1,109,60,8,182,25.4,0.947,21,0\\n1,90,62,18,59,25.1,1.268,25,0\\n1,125,70,24,110,24.3,0.221,25,0\\n1,119,54,13,50,22.3,0.205,24,0\\n5,116,74,29,0,32.3,0.660,35,1\\n8,105,100,36,0,43.3,0.239,45,1\\n5,144,82,26,285,32.0,0.452,58,1\\n3,100,68,23,81,31.6,0.949,28,0\\n1,100,66,29,196,32.0,0.444,42,0\\n5,166,76,0,0,45.7,0.340,27,1\\n1,131,64,14,415,23.7,0.389,21,0\\n4,116,72,12,87,22.1,0.463,37,0\\n4,158,78,0,0,32.9,0.803,31,1\\n2,127,58,24,275,27.7,1.600,25,0\\n3,96,56,34,115,24.7,0.944,39,0\\n0,131,66,40,0,34.3,0.196,22,1\\n3,82,70,0,0,21.1,0.389,25,0\\n3,193,70,31,0,34.9,0.241,25,1\\n4,95,64,0,0,32.0,0.161,31,1\\n6,137,61,0,0,24.2,0.151,55,0\\n5,136,84,41,88,35.0,0.286,35,1\\n9,72,78,25,0,31.6,0.280,38,0\\n5,168,64,0,0,32.9,0.135,41,1\\n2,123,48,32,165,42.1,0.520,26,0\\n4,115,72,0,0,28.9,0.376,46,1\\n0,101,62,0,0,21.9,0.336,25,0\\n8,197,74,0,0,25.9,1.191,39,1\\n1,172,68,49,579,42.4,0.702,28,1\\n6,102,90,39,0,35.7,0.674,28,0\\n1,112,72,30,176,34.4,0.528,25,0\\n1,143,84,23,310,42.4,1.076,22,0\\n1,143,74,22,61,26.2,0.256,21,0\\n0,138,60,35,167,34.6,0.534,21,1\\n3,173,84,33,474,35.7,0.258,22,1\\n1,97,68,21,0,27.2,1.095,22,0\\n4,144,82,32,0,38.5,0.554,37,1\\n1,83,68,0,0,18.2,0.624,27,0\\n3,129,64,29,115,26.4,0.219,28,1\\n1,119,88,41,170,45.3,0.507,26,0\\n2,94,68,18,76,26.0,0.561,21,0\\n0,102,64,46,78,40.6,0.496,21,0\\n2,115,64,22,0,30.8,0.421,21,0\\n8,151,78,32,210,42.9,0.516,36,1\\n4,184,78,39,277,37.0,0.264,31,1\\n0,94,0,0,0,0.0,0.256,25,0\\n1,181,64,30,180,34.1,0.328,38,1\\n0,135,94,46,145,40.6,0.284,26,0\\n1,95,82,25,180,35.0,0.233,43,1\\n2,99,0,0,0,22.2,0.108,23,0\\n3,89,74,16,85,30.4,0.551,38,0\\n1,80,74,11,60,30.0,0.527,22,0\\n2,139,75,0,0,25.6,0.167,29,0\\n1,90,68,8,0,24.5,1.138,36,0\\n0,141,0,0,0,42.4,0.205,29,1\\n12,140,85,33,0,37.4,0.244,41,0\\n5,147,75,0,0,29.9,0.434,28,0\\n1,97,70,15,0,18.2,0.147,21,0\\n6,107,88,0,0,36.8,0.727,31,0\\n0,189,104,25,0,34.3,0.435,41,1\\n2,83,66,23,50,32.2,0.497,22,0\\n4,117,64,27,120,33.2,0.230,24,0\\n8,108,70,0,0,30.5,0.955,33,1\\n4,117,62,12,0,29.7,0.380,30,1\\n0,180,78,63,14,59.4,2.420,25,1\\n1,100,72,12,70,25.3,0.658,28,0\\n0,95,80,45,92,36.5,0.330,26,0\\n0,104,64,37,64,33.6,0.510,22,1\\n0,120,74,18,63,30.5,0.285,26,0\\n1,82,64,13,95,21.2,0.415,23,0\\n2,134,70,0,0,28.9,0.542,23,1\\n0,91,68,32,210,39.9,0.381,25,0\\n2,119,0,0,0,19.6,0.832,72,0\\n2,100,54,28,105,37.8,0.498,24,0\\n14,175,62,30,0,33.6,0.212,38,1\\n1,135,54,0,0,26.7,0.687,62,0\\n5,86,68,28,71,30.2,0.364,24,0\\n10,148,84,48,237,37.6,1.001,51,1\\n9,134,74,33,60,25.9,0.460,81,0\\n9,120,72,22,56,20.8,0.733,48,0\\n1,71,62,0,0,21.8,0.416,26,0\\n8,74,70,40,49,35.3,0.705,39,0\\n5,88,78,30,0,27.6,0.258,37,0\\n10,115,98,0,0,24.0,1.022,34,0\\n0,124,56,13,105,21.8,0.452,21,0\\n0,74,52,10,36,27.8,0.269,22,0\\n0,97,64,36,100,36.8,0.600,25,0\\n8,120,0,0,0,30.0,0.183,38,1\\n6,154,78,41,140,46.1,0.571,27,0\\n1,144,82,40,0,41.3,0.607,28,0\\n0,137,70,38,0,33.2,0.170,22,0\\n0,119,66,27,0,38.8,0.259,22,0\\n7,136,90,0,0,29.9,0.210,50,0\\n4,114,64,0,0,28.9,0.126,24,0\\n0,137,84,27,0,27.3,0.231,59,0\\n2,105,80,45,191,33.7,0.711,29,1\\n7,114,76,17,110,23.8,0.466,31,0\\n8,126,74,38,75,25.9,0.162,39,0\\n4,132,86,31,0,28.0,0.419,63,0\\n3,158,70,30,328,35.5,0.344,35,1\\n0,123,88,37,0,35.2,0.197,29,0\\n4,85,58,22,49,27.8,0.306,28,0\\n0,84,82,31,125,38.2,0.233,23,0\\n0,145,0,0,0,44.2,0.630,31,1\\n0,135,68,42,250,42.3,0.365,24,1\\n1,139,62,41,480,40.7,0.536,21,0\\n0,173,78,32,265,46.5,1.159,58,0\\n4,99,72,17,0,25.6,0.294,28,0\\n8,194,80,0,0,26.1,0.551,67,0\\n2,83,65,28,66,36.8,0.629,24,0\\n2,89,90,30,0,33.5,0.292,42,0\\n4,99,68,38,0,32.8,0.145,33,0\\n4,125,70,18,122,28.9,1.144,45,1\\n3,80,0,0,0,0.0,0.174,22,0\\n6,166,74,0,0,26.6,0.304,66,0\\n5,110,68,0,0,26.0,0.292,30,0\\n2,81,72,15,76,30.1,0.547,25,0\\n7,195,70,33,145,25.1,0.163,55,1\\n6,154,74,32,193,29.3,0.839,39,0\\n2,117,90,19,71,25.2,0.313,21,0\\n3,84,72,32,0,37.2,0.267,28,0\\n6,0,68,41,0,39.0,0.727,41,1\\n7,94,64,25,79,33.3,0.738,41,0\\n3,96,78,39,0,37.3,0.238,40,0\\n10,75,82,0,0,33.3,0.263,38,0\\n0,180,90,26,90,36.5,0.314,35,1\\n1,130,60,23,170,28.6,0.692,21,0\\n2,84,50,23,76,30.4,0.968,21,0\\n8,120,78,0,0,25.0,0.409,64,0\\n12,84,72,31,0,29.7,0.297,46,1\\n0,139,62,17,210,22.1,0.207,21,0\\n9,91,68,0,0,24.2,0.200,58,0\\n2,91,62,0,0,27.3,0.525,22,0\\n3,99,54,19,86,25.6,0.154,24,0\\n3,163,70,18,105,31.6,0.268,28,1\\n9,145,88,34,165,30.3,0.771,53,1\\n7,125,86,0,0,37.6,0.304,51,0\\n13,76,60,0,0,32.8,0.180,41,0\\n6,129,90,7,326,19.6,0.582,60,0\\n2,68,70,32,66,25.0,0.187,25,0\\n3,124,80,33,130,33.2,0.305,26,0\\n6,114,0,0,0,0.0,0.189,26,0\\n9,130,70,0,0,34.2,0.652,45,1\\n3,125,58,0,0,31.6,0.151,24,0\\n3,87,60,18,0,21.8,0.444,21,0\\n1,97,64,19,82,18.2,0.299,21,0\\n3,116,74,15,105,26.3,0.107,24,0\\n0,117,66,31,188,30.8,0.493,22,0\\n0,111,65,0,0,24.6,0.660,31,0\\n2,122,60,18,106,29.8,0.717,22,0\\n0,107,76,0,0,45.3,0.686,24,0\\n1,86,66,52,65,41.3,0.917,29,0\\n6,91,0,0,0,29.8,0.501,31,0\\n1,77,56,30,56,33.3,1.251,24,0\\n4,132,0,0,0,32.9,0.302,23,1\\n0,105,90,0,0,29.6,0.197,46,0\\n0,57,60,0,0,21.7,0.735,67,0\\n0,127,80,37,210,36.3,0.804,23,0\\n3,129,92,49,155,36.4,0.968,32,1\\n8,100,74,40,215,39.4,0.661,43,1\\n3,128,72,25,190,32.4,0.549,27,1\\n10,90,85,32,0,34.9,0.825,56,1\\n4,84,90,23,56,39.5,0.159,25,0\\n1,88,78,29,76,32.0,0.365,29,0\\n8,186,90,35,225,34.5,0.423,37,1\\n5,187,76,27,207,43.6,1.034,53,1\\n4,131,68,21,166,33.1,0.160,28,0\\n1,164,82,43,67,32.8,0.341,50,0\\n4,189,110,31,0,28.5,0.680,37,0\\n1,116,70,28,0,27.4,0.204,21,0\\n3,84,68,30,106,31.9,0.591,25,0\\n6,114,88,0,0,27.8,0.247,66,0\\n1,88,62,24,44,29.9,0.422,23,0\\n1,84,64,23,115,36.9,0.471,28,0\\n7,124,70,33,215,25.5,0.161,37,0\\n1,97,70,40,0,38.1,0.218,30,0\\n8,110,76,0,0,27.8,0.237,58,0\\n11,103,68,40,0,46.2,0.126,42,0\\n11,85,74,0,0,30.1,0.300,35,0\\n6,125,76,0,0,33.8,0.121,54,1\\n0,198,66,32,274,41.3,0.502,28,1\\n1,87,68,34,77,37.6,0.401,24,0\\n6,99,60,19,54,26.9,0.497,32,0\\n0,91,80,0,0,32.4,0.601,27,0\\n2,95,54,14,88,26.1,0.748,22,0\\n1,99,72,30,18,38.6,0.412,21,0\\n6,92,62,32,126,32.0,0.085,46,0\\n4,154,72,29,126,31.3,0.338,37,0\\n0,121,66,30,165,34.3,0.203,33,1\\n3,78,70,0,0,32.5,0.270,39,0\\n2,130,96,0,0,22.6,0.268,21,0\\n3,111,58,31,44,29.5,0.430,22,0\\n2,98,60,17,120,34.7,0.198,22,0\\n1,143,86,30,330,30.1,0.892,23,0\\n1,119,44,47,63,35.5,0.280,25,0\\n6,108,44,20,130,24.0,0.813,35,0\\n2,118,80,0,0,42.9,0.693,21,1\\n10,133,68,0,0,27.0,0.245,36,0\\n2,197,70,99,0,34.7,0.575,62,1\\n0,151,90,46,0,42.1,0.371,21,1\\n6,109,60,27,0,25.0,0.206,27,0\\n12,121,78,17,0,26.5,0.259,62,0\\n8,100,76,0,0,38.7,0.190,42,0\\n8,124,76,24,600,28.7,0.687,52,1\\n1,93,56,11,0,22.5,0.417,22,0\\n8,143,66,0,0,34.9,0.129,41,1\\n6,103,66,0,0,24.3,0.249,29,0\\n3,176,86,27,156,33.3,1.154,52,1\\n0,73,0,0,0,21.1,0.342,25,0\\n11,111,84,40,0,46.8,0.925,45,1\\n2,112,78,50,140,39.4,0.175,24,0\\n3,132,80,0,0,34.4,0.402,44,1\\n2,82,52,22,115,28.5,1.699,25,0\\n6,123,72,45,230,33.6,0.733,34,0\\n0,188,82,14,185,32.0,0.682,22,1\\n0,67,76,0,0,45.3,0.194,46,0\\n1,89,24,19,25,27.8,0.559,21,0\\n1,173,74,0,0,36.8,0.088,38,1\\n1,109,38,18,120,23.1,0.407,26,0\\n1,108,88,19,0,27.1,0.400,24,0\\n6,96,0,0,0,23.7,0.190,28,0\\n1,124,74,36,0,27.8,0.100,30,0\\n7,150,78,29,126,35.2,0.692,54,1\\n4,183,0,0,0,28.4,0.212,36,1\\n1,124,60,32,0,35.8,0.514,21,0\\n1,181,78,42,293,40.0,1.258,22,1\\n1,92,62,25,41,19.5,0.482,25,0\\n0,152,82,39,272,41.5,0.270,27,0\\n1,111,62,13,182,24.0,0.138,23,0\\n3,106,54,21,158,30.9,0.292,24,0\\n3,174,58,22,194,32.9,0.593,36,1\\n7,168,88,42,321,38.2,0.787,40,1\\n6,105,80,28,0,32.5,0.878,26,0\\n11,138,74,26,144,36.1,0.557,50,1\\n3,106,72,0,0,25.8,0.207,27,0\\n6,117,96,0,0,28.7,0.157,30,0\\n2,68,62,13,15,20.1,0.257,23,0\\n9,112,82,24,0,28.2,1.282,50,1\\n0,119,0,0,0,32.4,0.141,24,1\\n2,112,86,42,160,38.4,0.246,28,0\\n2,92,76,20,0,24.2,1.698,28,0\\n6,183,94,0,0,40.8,1.461,45,0\\n0,94,70,27,115,43.5,0.347,21,0\\n2,108,64,0,0,30.8,0.158,21,0\\n4,90,88,47,54,37.7,0.362,29,0\\n0,125,68,0,0,24.7,0.206,21,0\\n0,132,78,0,0,32.4,0.393,21,0\\n5,128,80,0,0,34.6,0.144,45,0\\n4,94,65,22,0,24.7,0.148,21,0\\n7,114,64,0,0,27.4,0.732,34,1\\n0,102,78,40,90,34.5,0.238,24,0\\n2,111,60,0,0,26.2,0.343,23,0\\n1,128,82,17,183,27.5,0.115,22,0\\n10,92,62,0,0,25.9,0.167,31,0\\n13,104,72,0,0,31.2,0.465,38,1\\n5,104,74,0,0,28.8,0.153,48,0\\n2,94,76,18,66,31.6,0.649,23,0\\n7,97,76,32,91,40.9,0.871,32,1\\n1,100,74,12,46,19.5,0.149,28,0\\n0,102,86,17,105,29.3,0.695,27,0\\n4,128,70,0,0,34.3,0.303,24,0\\n6,147,80,0,0,29.5,0.178,50,1\\n4,90,0,0,0,28.0,0.610,31,0\\n3,103,72,30,152,27.6,0.730,27,0\\n2,157,74,35,440,39.4,0.134,30,0\\n1,167,74,17,144,23.4,0.447,33,1\\n0,179,50,36,159,37.8,0.455,22,1\\n11,136,84,35,130,28.3,0.260,42,1\\n0,107,60,25,0,26.4,0.133,23,0\\n1,91,54,25,100,25.2,0.234,23,0\\n1,117,60,23,106,33.8,0.466,27,0\\n5,123,74,40,77,34.1,0.269,28,0\\n2,120,54,0,0,26.8,0.455,27,0\\n1,106,70,28,135,34.2,0.142,22,0\\n2,155,52,27,540,38.7,0.240,25,1\\n2,101,58,35,90,21.8,0.155,22,0\\n1,120,80,48,200,38.9,1.162,41,0\\n11,127,106,0,0,39.0,0.190,51,0\\n3,80,82,31,70,34.2,1.292,27,1\\n10,162,84,0,0,27.7,0.182,54,0\\n1,199,76,43,0,42.9,1.394,22,1\\n8,167,106,46,231,37.6,0.165,43,1\\n9,145,80,46,130,37.9,0.637,40,1\\n6,115,60,39,0,33.7,0.245,40,1\\n1,112,80,45,132,34.8,0.217,24,0\\n4,145,82,18,0,32.5,0.235,70,1\\n10,111,70,27,0,27.5,0.141,40,1\\n6,98,58,33,190,34.0,0.430,43,0\\n9,154,78,30,100,30.9,0.164,45,0\\n6,165,68,26,168,33.6,0.631,49,0\\n1,99,58,10,0,25.4,0.551,21,0\\n10,68,106,23,49,35.5,0.285,47,0\\n3,123,100,35,240,57.3,0.880,22,0\\n8,91,82,0,0,35.6,0.587,68,0\\n6,195,70,0,0,30.9,0.328,31,1\\n9,156,86,0,0,24.8,0.230,53,1\\n0,93,60,0,0,35.3,0.263,25,0\\n3,121,52,0,0,36.0,0.127,25,1\\n2,101,58,17,265,24.2,0.614,23,0\\n2,56,56,28,45,24.2,0.332,22,0\\n0,162,76,36,0,49.6,0.364,26,1\\n0,95,64,39,105,44.6,0.366,22,0\\n4,125,80,0,0,32.3,0.536,27,1\\n5,136,82,0,0,0.0,0.640,69,0\\n2,129,74,26,205,33.2,0.591,25,0\\n3,130,64,0,0,23.1,0.314,22,0\\n1,107,50,19,0,28.3,0.181,29,0\\n1,140,74,26,180,24.1,0.828,23,0\\n1,144,82,46,180,46.1,0.335,46,1\\n8,107,80,0,0,24.6,0.856,34,0\\n13,158,114,0,0,42.3,0.257,44,1\\n2,121,70,32,95,39.1,0.886,23,0\\n7,129,68,49,125,38.5,0.439,43,1\\n2,90,60,0,0,23.5,0.191,25,0\\n7,142,90,24,480,30.4,0.128,43,1\\n3,169,74,19,125,29.9,0.268,31,1\\n0,99,0,0,0,25.0,0.253,22,0\\n4,127,88,11,155,34.5,0.598,28,0\\n4,118,70,0,0,44.5,0.904,26,0\\n2,122,76,27,200,35.9,0.483,26,0\\n6,125,78,31,0,27.6,0.565,49,1\\n1,168,88,29,0,35.0,0.905,52,1\\n2,129,0,0,0,38.5,0.304,41,0\\n4,110,76,20,100,28.4,0.118,27,0\\n6,80,80,36,0,39.8,0.177,28,0\\n10,115,0,0,0,0.0,0.261,30,1\\n2,127,46,21,335,34.4,0.176,22,0\\n9,164,78,0,0,32.8,0.148,45,1\\n2,93,64,32,160,38.0,0.674,23,1\\n3,158,64,13,387,31.2,0.295,24,0\\n5,126,78,27,22,29.6,0.439,40,0\\n10,129,62,36,0,41.2,0.441,38,1\\n0,134,58,20,291,26.4,0.352,21,0\\n3,102,74,0,0,29.5,0.121,32,0\\n7,187,50,33,392,33.9,0.826,34,1\\n3,173,78,39,185,33.8,0.970,31,1\\n10,94,72,18,0,23.1,0.595,56,0\\n1,108,60,46,178,35.5,0.415,24,0\\n5,97,76,27,0,35.6,0.378,52,1\\n4,83,86,19,0,29.3,0.317,34,0\\n1,114,66,36,200,38.1,0.289,21,0\\n1,149,68,29,127,29.3,0.349,42,1\\n5,117,86,30,105,39.1,0.251,42,0\\n1,111,94,0,0,32.8,0.265,45,0\\n4,112,78,40,0,39.4,0.236,38,0\\n1,116,78,29,180,36.1,0.496,25,0\\n0,141,84,26,0,32.4,0.433,22,0\\n2,175,88,0,0,22.9,0.326,22,0\\n2,92,52,0,0,30.1,0.141,22,0\\n3,130,78,23,79,28.4,0.323,34,1\\n8,120,86,0,0,28.4,0.259,22,1\\n2,174,88,37,120,44.5,0.646,24,1\\n2,106,56,27,165,29.0,0.426,22,0\\n2,105,75,0,0,23.3,0.560,53,0\\n4,95,60,32,0,35.4,0.284,28,0\\n0,126,86,27,120,27.4,0.515,21,0\\n8,65,72,23,0,32.0,0.600,42,0\\n2,99,60,17,160,36.6,0.453,21,0\\n1,102,74,0,0,39.5,0.293,42,1\\n11,120,80,37,150,42.3,0.785,48,1\\n3,102,44,20,94,30.8,0.400,26,0\\n1,109,58,18,116,28.5,0.219,22,0\\n9,140,94,0,0,32.7,0.734,45,1\\n13,153,88,37,140,40.6,1.174,39,0\\n12,100,84,33,105,30.0,0.488,46,0\\n1,147,94,41,0,49.3,0.358,27,1\\n1,81,74,41,57,46.3,1.096,32,0\\n3,187,70,22,200,36.4,0.408,36,1\\n6,162,62,0,0,24.3,0.178,50,1\\n4,136,70,0,0,31.2,1.182,22,1\\n1,121,78,39,74,39.0,0.261,28,0\\n3,108,62,24,0,26.0,0.223,25,0\\n0,181,88,44,510,43.3,0.222,26,1\\n8,154,78,32,0,32.4,0.443,45,1\\n1,128,88,39,110,36.5,1.057,37,1\\n7,137,90,41,0,32.0,0.391,39,0\\n0,123,72,0,0,36.3,0.258,52,1\\n1,106,76,0,0,37.5,0.197,26,0\\n6,190,92,0,0,35.5,0.278,66,1\\n2,88,58,26,16,28.4,0.766,22,0\\n9,170,74,31,0,44.0,0.403,43,1\\n9,89,62,0,0,22.5,0.142,33,0\\n10,101,76,48,180,32.9,0.171,63,0\\n2,122,70,27,0,36.8,0.340,27,0\\n5,121,72,23,112,26.2,0.245,30,0\\n1,126,60,0,0,30.1,0.349,47,1\\n1,93,70,31,0,30.4,0.315,23,0'}"
            ]
          },
          "metadata": {
            "tags": []
          },
          "execution_count": 64
        }
      ]
    },
    {
      "cell_type": "markdown",
      "metadata": {
        "id": "Mri5-kXzVKAa",
        "colab_type": "text"
      },
      "source": [
        "## Batch Size\n",
        "\n",
        "Batch size determines how many observations the model is shown before it calculates loss/error and updates the model weights via gradient descent. You're looking for a sweet spot here where you're showing it enough observations that you have enough information to updates the weights, but not such a large batch size that you don't get a lot of weight update iterations performed in a given epoch. Feed-forward Neural Networks aren't as sensitive to bach_size as other networks, but it is still an important hyperparameter to tune. Smaller batch sizes will also take longer to train. "
      ]
    },
    {
      "cell_type": "code",
      "metadata": {
        "id": "2smXfriNAGn7",
        "colab_type": "code",
        "outputId": "03dfe370-6f8f-487a-8dff-2cebf3b6a8f7",
        "colab": {
          "base_uri": "https://localhost:8080/",
          "height": 1873
        }
      },
      "source": [
        "import numpy\n",
        "from sklearn.model_selection import GridSearchCV\n",
        "from keras.models import Sequential\n",
        "from keras.layers import Dense\n",
        "from keras.wrappers.scikit_learn import KerasClassifier\n",
        "\n",
        "# fix random seed for reproducibility\n",
        "seed = 7\n",
        "numpy.random.seed(seed)\n",
        "\n",
        "# load dataset\n",
        "dataset = numpy.loadtxt(\"pima-indians-diabetes.csv\", delimiter=\",\")\n",
        "\n",
        "# split into input (X) and output (Y) variables\n",
        "X = dataset[:,0:8]\n",
        "Y = dataset[:,8]\n",
        "\n",
        "# Function to create model, required for KerasClassifier\n",
        "def create_model():\n",
        "\t# create model\n",
        "\tmodel = Sequential()\n",
        "\tmodel.add(Dense(12, input_dim=8, activation='relu'))\n",
        "\tmodel.add(Dense(1, activation='sigmoid'))\n",
        "\t# Compile model\n",
        "\tmodel.compile(loss='binary_crossentropy', optimizer='adam', metrics=['accuracy'])\n",
        "\treturn model\n",
        "\n",
        "# create model\n",
        "model = KerasClassifier(build_fn=create_model, verbose=1)\n",
        "\n",
        "# define the grid search parameters\n",
        "# batch_size = [10, 20, 40, 60, 80, 100]\n",
        "# param_grid = dict(batch_size=batch_size, epochs=epochs)\n",
        "\n",
        "# define the grid search parameters\n",
        "param_grid = {'batch_size': [10, 20, 50, 80, 100],\n",
        "              'epochs': [20, 40, 60]}\n",
        "\n",
        "# Create Grid Search\n",
        "grid = GridSearchCV(estimator=model, param_grid=param_grid, n_jobs=1)\n",
        "grid_result = grid.fit(X, Y, verbose=0)\n",
        "\n",
        "# Report Results\n",
        "print(f\"Best: {grid_result.best_score_} using {grid_result.best_params_}\")\n",
        "means = grid_result.cv_results_['mean_test_score']\n",
        "stds = grid_result.cv_results_['std_test_score']\n",
        "params = grid_result.cv_results_['params']\n",
        "for mean, stdev, param in zip(means, stds, params):\n",
        "    print(f\"Means: {mean}, Stdev: {stdev} with: {param}\") "
      ],
      "execution_count": 12,
      "outputs": [
        {
          "output_type": "stream",
          "text": [
            "/usr/local/lib/python3.6/dist-packages/sklearn/model_selection/_split.py:2053: FutureWarning: You should specify a value for 'cv' instead of relying on the default value. The default value will change from 3 to 5 in version 0.22.\n",
            "  warnings.warn(CV_WARNING, FutureWarning)\n"
          ],
          "name": "stderr"
        },
        {
          "output_type": "stream",
          "text": [
            "256/256 [==============================] - 1s 5ms/step\n",
            "512/512 [==============================] - 0s 137us/step\n",
            "256/256 [==============================] - 1s 6ms/step\n",
            "512/512 [==============================] - 0s 153us/step\n",
            "256/256 [==============================] - 2s 6ms/step\n",
            "512/512 [==============================] - 0s 146us/step\n",
            "256/256 [==============================] - 1s 6ms/step\n",
            "512/512 [==============================] - 0s 157us/step\n",
            "256/256 [==============================] - 2s 6ms/step\n",
            "512/512 [==============================] - 0s 155us/step\n",
            "256/256 [==============================] - 2s 6ms/step\n",
            "512/512 [==============================] - 0s 152us/step\n",
            "256/256 [==============================] - 2s 6ms/step\n",
            "512/512 [==============================] - 0s 147us/step\n",
            "256/256 [==============================] - 2s 6ms/step\n",
            "512/512 [==============================] - 0s 150us/step\n",
            "256/256 [==============================] - 2s 6ms/step\n",
            "512/512 [==============================] - 0s 156us/step\n",
            "256/256 [==============================] - 2s 6ms/step\n",
            "512/512 [==============================] - 0s 76us/step\n",
            "256/256 [==============================] - 2s 6ms/step\n",
            "512/512 [==============================] - 0s 89us/step\n",
            "256/256 [==============================] - 2s 7ms/step\n",
            "512/512 [==============================] - 0s 91us/step\n",
            "256/256 [==============================] - 2s 7ms/step\n",
            "512/512 [==============================] - 0s 96us/step\n",
            "256/256 [==============================] - 2s 7ms/step\n",
            "512/512 [==============================] - 0s 84us/step\n",
            "256/256 [==============================] - 2s 7ms/step\n",
            "512/512 [==============================] - 0s 83us/step\n",
            "256/256 [==============================] - 2s 7ms/step\n",
            "512/512 [==============================] - 0s 85us/step\n",
            "256/256 [==============================] - 2s 7ms/step\n",
            "512/512 [==============================] - 0s 86us/step\n",
            "256/256 [==============================] - 2s 7ms/step\n",
            "512/512 [==============================] - 0s 86us/step\n",
            "256/256 [==============================] - 2s 7ms/step\n",
            "512/512 [==============================] - 0s 40us/step\n",
            "256/256 [==============================] - 2s 7ms/step\n",
            "512/512 [==============================] - 0s 47us/step\n",
            "256/256 [==============================] - 2s 7ms/step\n",
            "512/512 [==============================] - 0s 52us/step\n",
            "256/256 [==============================] - 2s 7ms/step\n",
            "512/512 [==============================] - 0s 44us/step\n",
            "256/256 [==============================] - 2s 8ms/step\n",
            "512/512 [==============================] - 0s 50us/step\n",
            "256/256 [==============================] - 2s 8ms/step\n",
            "512/512 [==============================] - 0s 57us/step\n",
            "256/256 [==============================] - 2s 8ms/step\n",
            "512/512 [==============================] - 0s 59us/step\n",
            "256/256 [==============================] - 2s 8ms/step\n",
            "512/512 [==============================] - 0s 44us/step\n",
            "256/256 [==============================] - 2s 8ms/step\n",
            "512/512 [==============================] - 0s 48us/step\n",
            "256/256 [==============================] - 2s 9ms/step\n",
            "512/512 [==============================] - 0s 46us/step\n",
            "256/256 [==============================] - 2s 8ms/step\n",
            "512/512 [==============================] - 0s 39us/step\n",
            "256/256 [==============================] - 2s 8ms/step\n",
            "512/512 [==============================] - 0s 37us/step\n",
            "256/256 [==============================] - 2s 8ms/step\n",
            "512/512 [==============================] - 0s 39us/step\n",
            "256/256 [==============================] - 2s 8ms/step\n",
            "512/512 [==============================] - 0s 33us/step\n",
            "256/256 [==============================] - 2s 9ms/step\n",
            "512/512 [==============================] - 0s 39us/step\n",
            "256/256 [==============================] - 2s 9ms/step\n",
            "512/512 [==============================] - 0s 41us/step\n",
            "256/256 [==============================] - 2s 9ms/step\n",
            "512/512 [==============================] - 0s 46us/step\n",
            "256/256 [==============================] - 2s 9ms/step\n",
            "512/512 [==============================] - 0s 46us/step\n",
            "256/256 [==============================] - 2s 9ms/step\n",
            "512/512 [==============================] - 0s 35us/step\n",
            "256/256 [==============================] - 2s 9ms/step\n",
            "512/512 [==============================] - 0s 36us/step\n",
            "256/256 [==============================] - 2s 9ms/step\n",
            "512/512 [==============================] - 0s 39us/step\n",
            "256/256 [==============================] - 2s 9ms/step\n",
            "512/512 [==============================] - 0s 38us/step\n",
            "256/256 [==============================] - 2s 9ms/step\n",
            "512/512 [==============================] - 0s 42us/step\n",
            "256/256 [==============================] - 2s 9ms/step\n",
            "512/512 [==============================] - 0s 33us/step\n",
            "256/256 [==============================] - 2s 9ms/step\n",
            "512/512 [==============================] - 0s 39us/step\n",
            "256/256 [==============================] - 2s 10ms/step\n",
            "512/512 [==============================] - 0s 45us/step\n",
            "256/256 [==============================] - 3s 10ms/step\n",
            "512/512 [==============================] - 0s 37us/step\n",
            "Best: 0.6966145874466747 using {'batch_size': 10, 'epochs': 60}\n",
            "Means: 0.5598958359720806, Stdev: 0.15658600853996252 with: {'batch_size': 10, 'epochs': 20}\n",
            "Means: 0.6770833381451666, Stdev: 0.019225028675444043 with: {'batch_size': 10, 'epochs': 40}\n",
            "Means: 0.6966145874466747, Stdev: 0.006639348157564309 with: {'batch_size': 10, 'epochs': 60}\n",
            "Means: 0.6627604179084301, Stdev: 0.022401889329753302 with: {'batch_size': 20, 'epochs': 20}\n",
            "Means: 0.6419270847303172, Stdev: 0.03737682167008776 with: {'batch_size': 20, 'epochs': 40}\n",
            "Means: 0.6523437512417635, Stdev: 0.025315392059799983 with: {'batch_size': 20, 'epochs': 60}\n",
            "Means: 0.5221354187621424, Stdev: 0.1400935186468856 with: {'batch_size': 50, 'epochs': 20}\n",
            "Means: 0.6406250045013925, Stdev: 0.02870495431123731 with: {'batch_size': 50, 'epochs': 40}\n",
            "Means: 0.6601562538805107, Stdev: 0.027804893200311303 with: {'batch_size': 50, 'epochs': 60}\n",
            "Means: 0.5885416716337204, Stdev: 0.01868842308812135 with: {'batch_size': 80, 'epochs': 20}\n",
            "Means: 0.5546874981373549, Stdev: 0.12303137326799071 with: {'batch_size': 80, 'epochs': 40}\n",
            "Means: 0.5442708296080431, Stdev: 0.15567385105523576 with: {'batch_size': 80, 'epochs': 60}\n",
            "Means: 0.5338541697710752, Stdev: 0.11059279969230296 with: {'batch_size': 100, 'epochs': 20}\n",
            "Means: 0.5468749987582365, Stdev: 0.14661019187065932 with: {'batch_size': 100, 'epochs': 40}\n",
            "Means: 0.6523437406867743, Stdev: 0.027621363249912222 with: {'batch_size': 100, 'epochs': 60}\n"
          ],
          "name": "stdout"
        }
      ]
    },
    {
      "cell_type": "code",
      "metadata": {
        "id": "CgmyAUfEso5h",
        "colab_type": "code",
        "colab": {}
      },
      "source": [
        "# First run:\n",
        "# Best: 0.6757812545013925 using {'batch_size': 10, 'epochs': 40}\n",
        "# Means: 0.5624999997671694, Stdev: 0.158800790063109 with: {'batch_size': 10, 'epochs': 20}\n",
        "# Means: 0.6757812545013925, Stdev: 0.0191366369995976 with: {'batch_size': 10, 'epochs': 40}\n",
        "# Means: 0.5338541651144624, Stdev: 0.14831180526109952 with: {'batch_size': 20, 'epochs': 20}\n",
        "# Means: 0.6549479132518172, Stdev: 0.019487798972416426 with: {'batch_size': 20, 'epochs': 40}\n",
        "# Means: 0.5338541613891721, Stdev: 0.14865435139212077 with: {'batch_size': 40, 'epochs': 20}\n",
        "# Means: 0.5625000046566129, Stdev: 0.16867885519480122 with: {'batch_size': 40, 'epochs': 40}\n",
        "# Means: 0.6106770740201076, Stdev: 0.008026577711423098 with: {'batch_size': 60, 'epochs': 20}\n",
        "# Means: 0.6106770768140753, Stdev: 0.044232512400080755 with: {'batch_size': 60, 'epochs': 40}\n",
        "# Means: 0.5976562487582365, Stdev: 0.0399635628505647 with: {'batch_size': 80, 'epochs': 20}\n",
        "# Means: 0.5169270820915699, Stdev: 0.1415383191759175 with: {'batch_size': 80, 'epochs': 40}\n",
        "# Means: 0.592447908439984, Stdev: 0.05901181657280403 with: {'batch_size': 100, 'epochs': 20}\n",
        "# Means: 0.6367187562088171, Stdev: 0.028348371060674872 with: {'batch_size': 100, 'epochs': 40}"
      ],
      "execution_count": 0,
      "outputs": []
    },
    {
      "cell_type": "markdown",
      "metadata": {
        "id": "pmABfjlvXbqi",
        "colab_type": "text"
      },
      "source": [
        "## Epochs\n",
        "\n",
        "The number of training epochs has a large and direct affect on the accuracy, However, more epochs is almost always goign to better than less epochs. This means that if you tune this parameter at the beginning and try and maintain the same value all throughout your training, you're going to be waiting a long time for each iteration of GridSearch. I suggest picking a fixed moderat # of epochs all throughout your training and then Grid Searching this parameter at the very end. "
      ]
    },
    {
      "cell_type": "code",
      "metadata": {
        "id": "bAmxP3N7TmFh",
        "colab_type": "code",
        "outputId": "306393d2-aeca-4b55-e9af-1c900cbd32e5",
        "colab": {
          "base_uri": "https://localhost:8080/",
          "height": 991
        }
      },
      "source": [
        "# define the grid search parameters\n",
        "param_grid = {'batch_size': [60, 80],\n",
        "              'epochs': [20, 40, 60]}\n",
        "\n",
        "# Create Grid Search\n",
        "grid = GridSearchCV(estimator=model, param_grid=param_grid, n_jobs=1)\n",
        "grid_result = grid.fit(X, Y, verbose=0)\n",
        "\n",
        "# Report Results\n",
        "print(f\"Best: {grid_result.best_score_} using {grid_result.best_params_}\")\n",
        "means = grid_result.cv_results_['mean_test_score']\n",
        "stds = grid_result.cv_results_['std_test_score']\n",
        "params = grid_result.cv_results_['params']\n",
        "for mean, stdev, param in zip(means, stds, params):\n",
        "    print(f\"Means: {mean}, Stdev: {stdev} with: {param}\")"
      ],
      "execution_count": 13,
      "outputs": [
        {
          "output_type": "stream",
          "text": [
            "/usr/local/lib/python3.6/dist-packages/sklearn/model_selection/_split.py:2053: FutureWarning: You should specify a value for 'cv' instead of relying on the default value. The default value will change from 3 to 5 in version 0.22.\n",
            "  warnings.warn(CV_WARNING, FutureWarning)\n"
          ],
          "name": "stderr"
        },
        {
          "output_type": "stream",
          "text": [
            "256/256 [==============================] - 3s 10ms/step\n",
            "512/512 [==============================] - 0s 56us/step\n",
            "256/256 [==============================] - 3s 10ms/step\n",
            "512/512 [==============================] - 0s 49us/step\n",
            "256/256 [==============================] - 3s 10ms/step\n",
            "512/512 [==============================] - 0s 61us/step\n",
            "256/256 [==============================] - 3s 10ms/step\n",
            "512/512 [==============================] - 0s 52us/step\n",
            "256/256 [==============================] - 3s 11ms/step\n",
            "512/512 [==============================] - 0s 49us/step\n",
            "256/256 [==============================] - 3s 11ms/step\n",
            "512/512 [==============================] - 0s 53us/step\n",
            "256/256 [==============================] - 3s 11ms/step\n",
            "512/512 [==============================] - 0s 60us/step\n",
            "256/256 [==============================] - 3s 11ms/step\n",
            "512/512 [==============================] - 0s 53us/step\n",
            "256/256 [==============================] - 3s 11ms/step\n",
            "512/512 [==============================] - 0s 52us/step\n",
            "256/256 [==============================] - 3s 11ms/step\n",
            "512/512 [==============================] - 0s 51us/step\n",
            "256/256 [==============================] - 3s 11ms/step\n",
            "512/512 [==============================] - 0s 45us/step\n",
            "256/256 [==============================] - 3s 11ms/step\n",
            "512/512 [==============================] - 0s 49us/step\n",
            "256/256 [==============================] - 3s 11ms/step\n",
            "512/512 [==============================] - 0s 38us/step\n",
            "256/256 [==============================] - 3s 12ms/step\n",
            "512/512 [==============================] - 0s 47us/step\n",
            "256/256 [==============================] - 3s 12ms/step\n",
            "512/512 [==============================] - 0s 53us/step\n",
            "256/256 [==============================] - 3s 12ms/step\n",
            "512/512 [==============================] - 0s 53us/step\n",
            "256/256 [==============================] - 3s 12ms/step\n",
            "512/512 [==============================] - 0s 51us/step\n",
            "256/256 [==============================] - 3s 12ms/step\n",
            "512/512 [==============================] - 0s 50us/step\n",
            "Best: 0.6523437496895591 using {'batch_size': 60, 'epochs': 40}\n",
            "Means: 0.5468750076834112, Stdev: 0.14785384499686435 with: {'batch_size': 60, 'epochs': 20}\n",
            "Means: 0.6523437496895591, Stdev: 0.014615849333023371 with: {'batch_size': 60, 'epochs': 40}\n",
            "Means: 0.6523437475164732, Stdev: 0.0337538579479138 with: {'batch_size': 60, 'epochs': 60}\n",
            "Means: 0.5729166685293118, Stdev: 0.13502798991932516 with: {'batch_size': 80, 'epochs': 20}\n",
            "Means: 0.6484374888241291, Stdev: 0.006378879538500035 with: {'batch_size': 80, 'epochs': 40}\n",
            "Means: 0.6132812512417635, Stdev: 0.026106687797937442 with: {'batch_size': 80, 'epochs': 60}\n"
          ],
          "name": "stdout"
        }
      ]
    },
    {
      "cell_type": "code",
      "metadata": {
        "id": "b5feRhSiZ9o9",
        "colab_type": "code",
        "colab": {}
      },
      "source": [
        ""
      ],
      "execution_count": 0,
      "outputs": []
    },
    {
      "cell_type": "markdown",
      "metadata": {
        "id": "EKcuY6OiaLfz",
        "colab_type": "text"
      },
      "source": [
        "## Optimizer\n",
        "\n",
        "Remember that there's a different optimizers [optimizers](https://keras.io/optimizers/). At some point, take some time to read up on them a little bit. \"adam\" usually gives the best results. The thing to know about choosing an optimizer is that different optimizers have different hyperparameters like learning rate, momentum, etc. So based on the optimizer you choose you might also have to tune the learning rate and momentum of those optimizers after that. "
      ]
    },
    {
      "cell_type": "markdown",
      "metadata": {
        "id": "DG3wq5iOaLig",
        "colab_type": "text"
      },
      "source": [
        "## Learning Rate\n",
        "\n",
        "Remember that the Learning Rate is a hyperparameter that is specific to your gradient-descent based optimizer selection. A learning rate that is too high will cause divergent behavior, but a Learning Rate that is too low will fail to converge, again, you're looking for the sweet spot. I would start out tuning learning rates by orders of magnitude: [.001, .01, .1, .2, .3, .5] etc. I wouldn't go above .5, but you can try it and see what the behavior is like. \n",
        "\n",
        "Once you have narrowed it down, make the window even smaller and try it again. If after running the above specification your model reports that .1 is the best optimizer, then you should probably try things like [.05, .08, .1, .12, .15] to try and narrow it down. \n",
        "\n",
        "It can also be good to tune the number of epochs in combination with the learning rate since the number of iterations that you allow the learning rate to reach the minimum can determine if you have let it run long enough to converge to the minimum. "
      ]
    },
    {
      "cell_type": "markdown",
      "metadata": {
        "id": "gNTBUWd1aLlA",
        "colab_type": "text"
      },
      "source": [
        "## Momentum\n",
        "\n",
        "Momentum is a hyperparameter that is more commonly associated with Stochastic Gradient Descent. SGD is a common optimizer because it's what people understand and know, but I doubt it will get you the best results, you can try hyperparameter tuning its attributes and see if you can beat the performance from adam. Momentum is a property that decides the willingness of an optimizer to overshoot the minimum. Imagine a ball rolling down one side of a bowl and then up the opposite side a little bit before settling back to the bottom. The purpose of momentum is to try and escale local minima."
      ]
    },
    {
      "cell_type": "markdown",
      "metadata": {
        "id": "xnEG-bCJaLnZ",
        "colab_type": "text"
      },
      "source": [
        "## Activation Functions\n",
        "\n",
        "We've talked about this a little bit, typically you'l want to use ReLU for hidden layers and either Sigmoid, or Softmax for output layers of binary and multi-class classification implementations respectively, but try other activation functions and see if you can get any better results with sigmoid or tanh or something. There are a lot of activation functions that we haven't really talked about. Maybe you'll get good results with them. Maybe you won't. :) <https://keras.io/activations/>"
      ]
    },
    {
      "cell_type": "markdown",
      "metadata": {
        "id": "oul9sPq-dU-h",
        "colab_type": "text"
      },
      "source": [
        "## Network Weight Initialization\n",
        "\n",
        "You saw how big of an effect the way that we initialize our network's weights can have on our results. There are **a lot** of what are called initialization modes. I don't understand all of them, but they can have a big affect on your model's initial accuracy. Your model will get further with less epochs if you initialize it with weights that are well suited to the problem you're trying to solve.\n",
        "\n",
        "`init_mode = ['uniform', 'lecun_uniform', 'normal', 'zero', 'glorot_normal', 'glorot_uniform', 'he_normal', 'he_uniform']`"
      ]
    },
    {
      "cell_type": "markdown",
      "metadata": {
        "id": "bqtEuxeQaLqE",
        "colab_type": "text"
      },
      "source": [
        "## Dropout Regularization and the Weight Constraint\n",
        "\n",
        "the Dropout Regularization value is a percentage of neurons that you want to be randomly deactivated during training. The weight constraint is a second regularization parameter that works in tandem with dropout regularization. You should tune these two values at the same time. \n",
        "\n",
        "Using dropout on visible vs hidden layers might have a different effect. Using dropout on hidden layers might not have any effect while using dropout on hidden layers might have a substantial effect. You don't necessarily need to turn use dropout unless you see that your model has overfitting and generalizability problems."
      ]
    },
    {
      "cell_type": "markdown",
      "metadata": {
        "id": "P2c5Cv6oaLtO",
        "colab_type": "text"
      },
      "source": [
        "## Neurons in Hidden Layer \n",
        "\n",
        "Remember that when we only had a single perceptron our model was only able to fit to linearly separable data, but as we have added layers and nodes to those layers our network has become a powerhouse of fitting nonlinearity in data. The larger the network and the more nodes generally the stronger the network's capacity to fit nonlinear patterns in data. The more nodes and layers the longer it will take to train a network, and higher the probability of overfitting. The larger your network gets the more you'll need dropout regularization or other regularization techniques to keep it in check. \n",
        "\n",
        "Typically depth (more layers) is more important than width (more nodes) for neural networks. This is part of why Deep Learning is so highly touted. Certain deep learning architectures have truly been huge breakthroughs for certain machine learning tasks. \n",
        "\n",
        "You might borrow ideas from other network architectures. For example if I was doing image recognition and I wasn't taking cues from state of the art architectures like resnet, alexnet, googlenet, etc. Then I'm probably going to have to do a lot more experimentation on my own before I find something that works.\n",
        "\n",
        "There are some heuristics, but I am highly skeptical of them. I think you're better off experimenting on your own and forming your own intuition for these kinds of problems. \n",
        "\n",
        "- https://machinelearningmastery.com/how-to-configure-the-number-of-layers-and-nodes-in-a-neural-network/"
      ]
    },
    {
      "cell_type": "markdown",
      "metadata": {
        "id": "3LvRYQOwd-aZ",
        "colab_type": "text"
      },
      "source": [
        "# Hyperparameter Tuning Tips:\n",
        "\n",
        "1) Use **at least** 3-fold cross validation. 5-fold or 10-fold would be better if you're patient enough.\n",
        "\n",
        "2) Sampling your dataset can speed up iterations if you have enough data to justify it.\n",
        "\n",
        "3) Start with \"Coarse Grids\" we gave an example of this when we were talking about Learning Rate, start with wide gaps between values that you're testing and then run additional tests with more narrow gaps between values until you find an optimum.\n",
        "\n",
        "4) Even though we're using Cross Validation, reproducibility can still be a challenge. Don't be afraid to run some tests multiple times to see if you get the same results. Sometimes the accuracy differences are so slight that grid search picking one hyperparameter over another is just luck of the draw.\n",
        "\n",
        "5) Run your tests in verbose mode. Not only will you be less stressed out wondering if it's actually running, but you will be able to more quickly identify if something has gone haywire by glancing at the output every now and again.\n",
        "\n",
        "6) Pick a moderate amount of epochs and stick with that all throughout your training, until the very end, then tune your epochs. \n",
        "\n",
        "7) As you begin to have a lot of hyperparameters narrowed down, test them along with narrow versions of other hyperparameters in order to catch the small effects of interactions between specific hyperparameters.\n",
        "\n",
        "8) Being a perfectionist here is going to be a long and painful journey, so please do a cost-benefit analysis of how you're using your time here. Learn the concept, have the experience, but don't spend 3 days hyperparameter tuning your assignment."
      ]
    },
    {
      "cell_type": "markdown",
      "metadata": {
        "id": "z2cC0lpAhDQ_",
        "colab_type": "text"
      },
      "source": [
        "## Additional Reading:\n",
        "\n",
        "I know I sound like a shill for Jason Brownlee, but honestly he has some of the very best articles on the internet in regards to hyperparameter tuning with Keras. I have leaned on his articles heavily when doing hyperparameter tuning before and saw great results from following his advice. He has articles on lots and lots of Keras related topics, so keep an ey out for his website: <http://machinelearningmastery.com> as you look through search results today.\n",
        "\n",
        "- https://machinelearningmastery.com/grid-search-hyperparameters-deep-learning-models-python-keras/\n",
        "- https://blog.floydhub.com/guide-to-hyperparameters-search-for-deep-learning-models/\n",
        "- https://machinelearningmastery.com/dropout-regularization-deep-learning-models-keras/\n",
        "- https://machinelearningmastery.com/introduction-to-weight-constraints-to-reduce-generalization-error-in-deep-learning/\n",
        "- https://machinelearningmastery.com/how-to-configure-the-number-of-layers-and-nodes-in-a-neural-network/"
      ]
    }
  ]
}