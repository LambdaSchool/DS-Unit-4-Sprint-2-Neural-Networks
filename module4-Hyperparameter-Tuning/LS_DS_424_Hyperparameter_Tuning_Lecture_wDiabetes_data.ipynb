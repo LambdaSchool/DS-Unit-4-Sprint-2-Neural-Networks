{
 "cells": [
  {
   "cell_type": "markdown",
   "metadata": {
    "colab_type": "text",
    "id": "41TS0Sa0rDNx"
   },
   "source": [
    "Lambda School Data Science\n",
    "\n",
    "*Unit 4, Sprint 2, Module 4*\n",
    "\n",
    "---"
   ]
  },
  {
   "cell_type": "markdown",
   "metadata": {
    "colab_type": "text",
    "id": "41TS0Sa0rDNx"
   },
   "source": [
    "# Neural Networks & GPUs (Prepare)\n",
    "*aka Hyperparameter Tuning*\n",
    "\n",
    "*aka Big Servers for Big Problems*"
   ]
  },
  {
   "cell_type": "markdown",
   "metadata": {
    "colab_type": "text",
    "id": "41TS0Sa0rDNx"
   },
   "source": [
    "## Learning Objectives\n",
    "* <a href=\"#p1\">Part 1</a>: Describe the major hyperparemeters to tune\n",
    "* <a href=\"#p2\">Part 2</a>: Implement an experiment tracking framework\n",
    "* <a href=\"#p3\">Part 3</a>: Search the hyperparameter space using RandomSearch (Optional)"
   ]
  },
  {
   "cell_type": "markdown",
   "metadata": {},
   "source": [
    "# Hyperparameter Options (Learn)\n",
    "<a id=\"p1\"></a>"
   ]
  },
  {
   "cell_type": "markdown",
   "metadata": {},
   "source": [
    "## Overview\n",
    "\n",
    "Hyperparameter tuning is much more important with neural networks than it has been with any other models that we have considered up to this point. Other supervised learning models might have a couple of parameters, but neural networks can have dozens. These can substantially affect the accuracy of our models and although it can be a time consuming process is a necessary step when working with neural networks.\n",
    "​\n",
    "Hyperparameter tuning comes with a challenge. How can we compare models specified with different hyperparameters if our model's final error metric can vary somewhat erratically? How do we avoid just getting unlucky and selecting the wrong hyperparameter? This is a problem that to a certain degree we just have to live with as we test and test again. However, we can minimize it somewhat by pairing our experiments with Cross Validation to reduce the variance of our final accuracy values."
   ]
  },
  {
   "cell_type": "markdown",
   "metadata": {
    "colab_type": "text",
    "id": "0s0o2pqBs88q"
   },
   "source": [
    "### Load Boston Housing Data"
   ]
  },
  {
   "cell_type": "code",
   "execution_count": 1,
   "metadata": {},
   "outputs": [
    {
     "data": {
      "text/html": [
       "<div>\n",
       "<style scoped>\n",
       "    .dataframe tbody tr th:only-of-type {\n",
       "        vertical-align: middle;\n",
       "    }\n",
       "\n",
       "    .dataframe tbody tr th {\n",
       "        vertical-align: top;\n",
       "    }\n",
       "\n",
       "    .dataframe thead th {\n",
       "        text-align: right;\n",
       "    }\n",
       "</style>\n",
       "<table border=\"1\" class=\"dataframe\">\n",
       "  <thead>\n",
       "    <tr style=\"text-align: right;\">\n",
       "      <th></th>\n",
       "      <th>0</th>\n",
       "      <th>1</th>\n",
       "      <th>2</th>\n",
       "      <th>3</th>\n",
       "      <th>4</th>\n",
       "      <th>5</th>\n",
       "      <th>6</th>\n",
       "      <th>7</th>\n",
       "      <th>8</th>\n",
       "    </tr>\n",
       "  </thead>\n",
       "  <tbody>\n",
       "    <tr>\n",
       "      <th>0</th>\n",
       "      <td>6</td>\n",
       "      <td>148</td>\n",
       "      <td>72</td>\n",
       "      <td>35</td>\n",
       "      <td>0</td>\n",
       "      <td>33.6</td>\n",
       "      <td>0.627</td>\n",
       "      <td>50</td>\n",
       "      <td>1</td>\n",
       "    </tr>\n",
       "    <tr>\n",
       "      <th>1</th>\n",
       "      <td>1</td>\n",
       "      <td>85</td>\n",
       "      <td>66</td>\n",
       "      <td>29</td>\n",
       "      <td>0</td>\n",
       "      <td>26.6</td>\n",
       "      <td>0.351</td>\n",
       "      <td>31</td>\n",
       "      <td>0</td>\n",
       "    </tr>\n",
       "    <tr>\n",
       "      <th>2</th>\n",
       "      <td>8</td>\n",
       "      <td>183</td>\n",
       "      <td>64</td>\n",
       "      <td>0</td>\n",
       "      <td>0</td>\n",
       "      <td>23.3</td>\n",
       "      <td>0.672</td>\n",
       "      <td>32</td>\n",
       "      <td>1</td>\n",
       "    </tr>\n",
       "    <tr>\n",
       "      <th>3</th>\n",
       "      <td>1</td>\n",
       "      <td>89</td>\n",
       "      <td>66</td>\n",
       "      <td>23</td>\n",
       "      <td>94</td>\n",
       "      <td>28.1</td>\n",
       "      <td>0.167</td>\n",
       "      <td>21</td>\n",
       "      <td>0</td>\n",
       "    </tr>\n",
       "    <tr>\n",
       "      <th>4</th>\n",
       "      <td>0</td>\n",
       "      <td>137</td>\n",
       "      <td>40</td>\n",
       "      <td>35</td>\n",
       "      <td>168</td>\n",
       "      <td>43.1</td>\n",
       "      <td>2.288</td>\n",
       "      <td>33</td>\n",
       "      <td>1</td>\n",
       "    </tr>\n",
       "  </tbody>\n",
       "</table>\n",
       "</div>"
      ],
      "text/plain": [
       "   0    1   2   3    4     5      6   7  8\n",
       "0  6  148  72  35    0  33.6  0.627  50  1\n",
       "1  1   85  66  29    0  26.6  0.351  31  0\n",
       "2  8  183  64   0    0  23.3  0.672  32  1\n",
       "3  1   89  66  23   94  28.1  0.167  21  0\n",
       "4  0  137  40  35  168  43.1  2.288  33  1"
      ]
     },
     "execution_count": 1,
     "metadata": {},
     "output_type": "execute_result"
    }
   ],
   "source": [
    "import pandas as pd\n",
    "\n",
    "url='https://raw.githubusercontent.com/jbrownlee/Datasets/master/pima-indians-diabetes.data.csv'\n",
    "\n",
    "dataset = pd.read_csv(url, header=None)\n",
    "dataset.head()"
   ]
  },
  {
   "cell_type": "code",
   "execution_count": 2,
   "metadata": {},
   "outputs": [
    {
     "name": "stdout",
     "output_type": "stream",
     "text": [
      "(768, 8)\n",
      "[[  6.    148.     72.    ...  33.6     0.627  50.   ]\n",
      " [  1.     85.     66.    ...  26.6     0.351  31.   ]\n",
      " [  8.    183.     64.    ...  23.3     0.672  32.   ]\n",
      " ...\n",
      " [  5.    121.     72.    ...  26.2     0.245  30.   ]\n",
      " [  1.    126.     60.    ...  30.1     0.349  47.   ]\n",
      " [  1.     93.     70.    ...  30.4     0.315  23.   ]]\n"
     ]
    }
   ],
   "source": [
    "X = dataset.values[:,0:8]\n",
    "print (X.shape)\n",
    "print (X)"
   ]
  },
  {
   "cell_type": "code",
   "execution_count": 3,
   "metadata": {},
   "outputs": [
    {
     "name": "stdout",
     "output_type": "stream",
     "text": [
      "(768,)\n",
      "[1. 0. 1. 0. 1. 0. 1. 0. 1. 1. 0. 1. 0. 1. 1. 1. 1. 1. 0. 1. 0. 0. 1. 1.\n",
      " 1. 1. 1. 0. 0. 0. 0. 1. 0. 0. 0. 0. 0. 1. 1. 1. 0. 0. 0. 1. 0. 1. 0. 0.\n",
      " 1. 0. 0. 0. 0. 1. 0. 0. 1. 0. 0. 0. 0. 1. 0. 0. 1. 0. 1. 0. 0. 0. 1. 0.\n",
      " 1. 0. 0. 0. 0. 0. 1. 0. 0. 0. 0. 0. 1. 0. 0. 0. 1. 0. 0. 0. 0. 1. 0. 0.\n",
      " 0. 0. 0. 1. 1. 0. 0. 0. 0. 0. 0. 0. 0. 1. 1. 1. 0. 0. 1. 1. 1. 0. 0. 0.\n",
      " 1. 0. 0. 0. 1. 1. 0. 0. 1. 1. 1. 1. 1. 0. 0. 0. 0. 0. 0. 0. 0. 0. 0. 1.\n",
      " 0. 0. 0. 0. 0. 0. 0. 0. 1. 0. 1. 1. 0. 0. 0. 1. 0. 0. 0. 0. 1. 1. 0. 0.\n",
      " 0. 0. 1. 1. 0. 0. 0. 1. 0. 1. 0. 1. 0. 0. 0. 0. 0. 1. 1. 1. 1. 1. 0. 0.\n",
      " 1. 1. 0. 1. 0. 1. 1. 1. 0. 0. 0. 0. 0. 0. 1. 1. 0. 1. 0. 0. 0. 1. 1. 1.\n",
      " 1. 0. 1. 1. 1. 1. 0. 0. 0. 0. 0. 1. 0. 0. 1. 1. 0. 0. 0. 1. 1. 1. 1. 0.\n",
      " 0. 0. 1. 1. 0. 1. 0. 0. 0. 0. 0. 0. 0. 0. 1. 1. 0. 0. 0. 1. 0. 1. 0. 0.\n",
      " 1. 0. 1. 0. 0. 1. 1. 0. 0. 0. 0. 0. 1. 0. 0. 0. 1. 0. 0. 1. 1. 0. 0. 1.\n",
      " 0. 0. 0. 1. 1. 1. 0. 0. 1. 0. 1. 0. 1. 1. 0. 1. 0. 0. 1. 0. 1. 1. 0. 0.\n",
      " 1. 0. 1. 0. 0. 1. 0. 1. 0. 1. 1. 1. 0. 0. 1. 0. 1. 0. 0. 0. 1. 0. 0. 0.\n",
      " 0. 1. 1. 1. 0. 0. 0. 0. 0. 0. 0. 0. 0. 1. 0. 0. 0. 0. 0. 1. 1. 1. 0. 1.\n",
      " 1. 0. 0. 1. 0. 0. 1. 0. 0. 1. 1. 0. 0. 0. 0. 1. 0. 0. 1. 0. 0. 0. 0. 0.\n",
      " 0. 0. 1. 1. 1. 0. 0. 1. 0. 0. 1. 0. 0. 1. 0. 1. 1. 0. 1. 0. 1. 0. 1. 0.\n",
      " 1. 1. 0. 0. 0. 0. 1. 1. 0. 1. 0. 1. 0. 0. 0. 0. 1. 1. 0. 1. 0. 1. 0. 0.\n",
      " 0. 0. 0. 1. 0. 0. 0. 0. 1. 0. 0. 1. 1. 1. 0. 0. 1. 0. 0. 1. 0. 0. 0. 1.\n",
      " 0. 0. 1. 0. 0. 0. 0. 0. 0. 0. 0. 0. 1. 0. 0. 0. 0. 0. 0. 0. 1. 0. 0. 0.\n",
      " 1. 0. 0. 0. 1. 1. 0. 0. 0. 0. 0. 0. 0. 1. 0. 0. 0. 0. 1. 0. 0. 0. 1. 0.\n",
      " 0. 0. 1. 0. 0. 0. 1. 0. 0. 0. 0. 1. 1. 0. 0. 0. 0. 0. 0. 1. 0. 0. 0. 0.\n",
      " 0. 0. 0. 0. 0. 0. 0. 1. 0. 0. 0. 1. 1. 1. 1. 0. 0. 1. 1. 0. 0. 0. 0. 0.\n",
      " 0. 0. 0. 0. 0. 0. 0. 0. 1. 1. 0. 0. 0. 0. 0. 0. 0. 1. 0. 0. 0. 0. 0. 0.\n",
      " 0. 1. 0. 1. 1. 0. 0. 0. 1. 0. 1. 0. 1. 0. 1. 0. 1. 0. 0. 1. 0. 0. 1. 0.\n",
      " 0. 0. 0. 1. 1. 0. 1. 0. 0. 0. 0. 1. 1. 0. 1. 0. 0. 0. 1. 1. 0. 0. 0. 0.\n",
      " 0. 0. 0. 0. 0. 0. 1. 0. 0. 0. 0. 1. 0. 0. 1. 0. 0. 0. 1. 0. 0. 0. 1. 1.\n",
      " 1. 0. 0. 0. 0. 0. 0. 1. 0. 0. 0. 1. 0. 1. 1. 1. 1. 0. 1. 1. 0. 0. 0. 0.\n",
      " 0. 0. 0. 1. 1. 0. 1. 0. 0. 1. 0. 1. 0. 0. 0. 0. 0. 1. 0. 1. 0. 1. 0. 1.\n",
      " 1. 0. 0. 0. 0. 1. 1. 0. 0. 0. 1. 0. 1. 1. 0. 0. 1. 0. 0. 1. 1. 0. 0. 1.\n",
      " 0. 0. 1. 0. 0. 0. 0. 0. 0. 0. 1. 1. 1. 0. 0. 0. 0. 0. 0. 1. 1. 0. 0. 1.\n",
      " 0. 0. 1. 0. 1. 1. 1. 0. 0. 1. 1. 1. 0. 1. 0. 1. 0. 1. 0. 0. 0. 0. 1. 0.]\n"
     ]
    }
   ],
   "source": [
    "y = dataset.values[:,-1]\n",
    "print (y.shape)\n",
    "print (y)"
   ]
  },
  {
   "cell_type": "code",
   "execution_count": 4,
   "metadata": {},
   "outputs": [],
   "source": [
    "from sklearn.model_selection import train_test_split\n",
    "\n",
    "x_train, x_test, y_train, y_test = train_test_split(X, y, test_size=0.33, random_state=42)"
   ]
  },
  {
   "cell_type": "markdown",
   "metadata": {
    "colab_type": "text",
    "id": "Pm7zow5IvaTt"
   },
   "source": [
    "### Normalizing Input Data\n",
    "\n",
    "It's not 100% necessary to normalize/scale your input data before feeding it to a neural network, the network can learn the appropriate weights to deal with data of as long as it is numerically represented,  but it is recommended as it can help **make training faster** and **reduces the chances that gradient descent might get stuck in a local optimum**.\n",
    "\n",
    "<https://stackoverflow.com/questions/4674623/why-do-we-have-to-normalize-the-input-for-an-artificial-neural-network>"
   ]
  },
  {
   "cell_type": "code",
   "execution_count": 5,
   "metadata": {},
   "outputs": [
    {
     "name": "stdout",
     "output_type": "stream",
     "text": [
      "[[ 1.89917664e+00 -1.94750933e-01  1.55717838e+00 -1.32537379e+00\n",
      "  -6.85859549e-01 -1.04293476e+00  1.60661512e+00  6.90585855e-02]\n",
      " [ 9.82865509e-01  6.40463359e-01 -5.54961074e-01  8.05525757e-01\n",
      "   9.58734921e-01 -4.14806202e-01  6.26098151e-01  2.37289284e+00]\n",
      " [ 6.65543754e-02 -1.63817070e-01  1.12030334e-01 -5.50501227e-01\n",
      "   6.71916029e-02 -1.29156898e+00 -2.95311052e-02  3.25040169e-01]\n",
      " [-8.49756758e-01  1.45521556e-01 -5.54961074e-01 -1.32537379e+00\n",
      "  -6.85859549e-01 -2.44688051e-01 -3.63199566e-01  1.17831211e+00]\n",
      " [-2.38882669e-01 -1.33930385e+00  8.65099101e-04 -1.32537379e+00\n",
      "  -6.85859549e-01  6.93762291e-02 -5.94425956e-01  4.95694558e-01]\n",
      " [-8.49756758e-01 -6.89692736e-01 -6.66126308e-01 -6.79646654e-01\n",
      "  -6.85859549e-01 -8.59730598e-01  2.28037531e-01 -1.04019494e+00]\n",
      " [-8.49756758e-01  6.71397222e-01  7.79021741e-01  1.59798622e-01\n",
      "   1.99742617e+00  1.36489138e+00  1.76466860e+00 -9.54867749e-01]\n",
      " [-8.49756758e-01  2.07389282e-01  1.00135221e+00  1.19296204e+00\n",
      "   2.66274091e-01  5.92816695e-01  1.70905719e+00  3.25040169e-01]\n",
      " [ 6.77428464e-01 -1.12276681e+00  4.45526037e-01 -1.32537379e+00\n",
      "  -6.85859549e-01 -1.00741922e-01 -2.66611327e-01  7.51676142e-01]\n",
      " [-2.38882669e-01 -1.06089909e+00 -5.54961074e-01 -1.63064946e-01\n",
      "  -6.85859549e-01 -1.33082702e+00 -8.51425153e-02 -1.04019494e+00]]\n"
     ]
    }
   ],
   "source": [
    "from sklearn.preprocessing import StandardScaler\n",
    "\n",
    "scaler = StandardScaler()\n",
    "\n",
    "x_train = scaler.fit_transform(x_train)\n",
    "x_test = scaler.transform(x_test)\n",
    "print(x_train[:10])"
   ]
  },
  {
   "cell_type": "markdown",
   "metadata": {
    "colab_type": "text",
    "id": "l6hgCWbir90R"
   },
   "source": [
    "### Model Validation using an automatic verification Dataset\n",
    "\n",
    "Instead of doing seperate train test split class, Keras has a really nice feature that you can set the validation.data argument when fitting your model and Keras will take that portion of your test data and use it as a validation dataset. "
   ]
  },
  {
   "cell_type": "code",
   "execution_count": 6,
   "metadata": {
    "colab": {
     "base_uri": "https://localhost:8080/",
     "height": 1750
    },
    "colab_type": "code",
    "id": "GMXVfmzXp1Oo",
    "outputId": "b05e251e-508f-46e6-865b-f869ae2a5dc4"
   },
   "outputs": [
    {
     "name": "stdout",
     "output_type": "stream",
     "text": [
      "Train on 514 samples, validate on 254 samples\n",
      "Epoch 1/75\n",
      "514/514 [==============================] - 2s 3ms/sample - loss: 0.4641 - mse: 0.4641 - mae: 0.5127 - accuracy: 0.6284 - val_loss: 0.3487 - val_mse: 0.3487 - val_mae: 0.4501 - val_accuracy: 0.6378\n",
      "Epoch 2/75\n",
      "514/514 [==============================] - 0s 539us/sample - loss: 0.3381 - mse: 0.3381 - mae: 0.4456 - accuracy: 0.6518 - val_loss: 0.2846 - val_mse: 0.2846 - val_mae: 0.4136 - val_accuracy: 0.6496\n",
      "Epoch 3/75\n",
      "514/514 [==============================] - 0s 546us/sample - loss: 0.2690 - mse: 0.2690 - mae: 0.4095 - accuracy: 0.6673 - val_loss: 0.2497 - val_mse: 0.2497 - val_mae: 0.4031 - val_accuracy: 0.6693\n",
      "Epoch 4/75\n",
      "514/514 [==============================] - 0s 566us/sample - loss: 0.2298 - mse: 0.2298 - mae: 0.3946 - accuracy: 0.6887 - val_loss: 0.2266 - val_mse: 0.2266 - val_mae: 0.3908 - val_accuracy: 0.6850\n",
      "Epoch 5/75\n",
      "514/514 [==============================] - 0s 570us/sample - loss: 0.2062 - mse: 0.2062 - mae: 0.3782 - accuracy: 0.7237 - val_loss: 0.2151 - val_mse: 0.2151 - val_mae: 0.3868 - val_accuracy: 0.6929\n",
      "Epoch 6/75\n",
      "514/514 [==============================] - 0s 559us/sample - loss: 0.1899 - mse: 0.1899 - mae: 0.3640 - accuracy: 0.7354 - val_loss: 0.2075 - val_mse: 0.2075 - val_mae: 0.3819 - val_accuracy: 0.7126\n",
      "Epoch 7/75\n",
      "514/514 [==============================] - 0s 550us/sample - loss: 0.1802 - mse: 0.1802 - mae: 0.3566 - accuracy: 0.7490 - val_loss: 0.2003 - val_mse: 0.2003 - val_mae: 0.3744 - val_accuracy: 0.7126\n",
      "Epoch 8/75\n",
      "514/514 [==============================] - 0s 543us/sample - loss: 0.1738 - mse: 0.1738 - mae: 0.3494 - accuracy: 0.7529 - val_loss: 0.1975 - val_mse: 0.1975 - val_mae: 0.3700 - val_accuracy: 0.7165\n",
      "Epoch 9/75\n",
      "514/514 [==============================] - 0s 423us/sample - loss: 0.1694 - mse: 0.1694 - mae: 0.3406 - accuracy: 0.7568 - val_loss: 0.1955 - val_mse: 0.1955 - val_mae: 0.3652 - val_accuracy: 0.7205\n",
      "Epoch 10/75\n",
      "514/514 [==============================] - 0s 441us/sample - loss: 0.1662 - mse: 0.1662 - mae: 0.3335 - accuracy: 0.7646 - val_loss: 0.1949 - val_mse: 0.1949 - val_mae: 0.3605 - val_accuracy: 0.7244\n",
      "Epoch 11/75\n",
      "514/514 [==============================] - 0s 449us/sample - loss: 0.1640 - mse: 0.1640 - mae: 0.3272 - accuracy: 0.7685 - val_loss: 0.1940 - val_mse: 0.1940 - val_mae: 0.3581 - val_accuracy: 0.7244\n",
      "Epoch 12/75\n",
      "514/514 [==============================] - 0s 492us/sample - loss: 0.1625 - mse: 0.1625 - mae: 0.3254 - accuracy: 0.7802 - val_loss: 0.1956 - val_mse: 0.1956 - val_mae: 0.3590 - val_accuracy: 0.7244\n",
      "Epoch 13/75\n",
      "514/514 [==============================] - 0s 397us/sample - loss: 0.1597 - mse: 0.1597 - mae: 0.3234 - accuracy: 0.7860 - val_loss: 0.1943 - val_mse: 0.1943 - val_mae: 0.3557 - val_accuracy: 0.7283\n",
      "Epoch 14/75\n",
      "514/514 [==============================] - 0s 422us/sample - loss: 0.1572 - mse: 0.1572 - mae: 0.3192 - accuracy: 0.7860 - val_loss: 0.1918 - val_mse: 0.1918 - val_mae: 0.3486 - val_accuracy: 0.7205\n",
      "Epoch 15/75\n",
      "514/514 [==============================] - 0s 397us/sample - loss: 0.1562 - mse: 0.1562 - mae: 0.3149 - accuracy: 0.7860 - val_loss: 0.1915 - val_mse: 0.1915 - val_mae: 0.3477 - val_accuracy: 0.7283\n",
      "Epoch 16/75\n",
      "514/514 [==============================] - 0s 394us/sample - loss: 0.1549 - mse: 0.1549 - mae: 0.3128 - accuracy: 0.7860 - val_loss: 0.1925 - val_mse: 0.1925 - val_mae: 0.3522 - val_accuracy: 0.7402\n",
      "Epoch 17/75\n",
      "514/514 [==============================] - 0s 390us/sample - loss: 0.1541 - mse: 0.1541 - mae: 0.3145 - accuracy: 0.7840 - val_loss: 0.1901 - val_mse: 0.1901 - val_mae: 0.3493 - val_accuracy: 0.7441\n",
      "Epoch 18/75\n",
      "514/514 [==============================] - 0s 441us/sample - loss: 0.1530 - mse: 0.1530 - mae: 0.3141 - accuracy: 0.7802 - val_loss: 0.1883 - val_mse: 0.1883 - val_mae: 0.3446 - val_accuracy: 0.7323\n",
      "Epoch 19/75\n",
      "514/514 [==============================] - 0s 419us/sample - loss: 0.1521 - mse: 0.1521 - mae: 0.3103 - accuracy: 0.7840 - val_loss: 0.1889 - val_mse: 0.1889 - val_mae: 0.3469 - val_accuracy: 0.7520\n",
      "Epoch 20/75\n",
      "514/514 [==============================] - 0s 400us/sample - loss: 0.1518 - mse: 0.1518 - mae: 0.3133 - accuracy: 0.7743 - val_loss: 0.1874 - val_mse: 0.1874 - val_mae: 0.3430 - val_accuracy: 0.7402\n",
      "Epoch 21/75\n",
      "514/514 [==============================] - 0s 396us/sample - loss: 0.1508 - mse: 0.1508 - mae: 0.3083 - accuracy: 0.7879 - val_loss: 0.1901 - val_mse: 0.1901 - val_mae: 0.3471 - val_accuracy: 0.7559\n",
      "Epoch 22/75\n",
      "514/514 [==============================] - 0s 399us/sample - loss: 0.1496 - mse: 0.1496 - mae: 0.3077 - accuracy: 0.7957 - val_loss: 0.1894 - val_mse: 0.1894 - val_mae: 0.3456 - val_accuracy: 0.7598\n",
      "Epoch 23/75\n",
      "514/514 [==============================] - 0s 388us/sample - loss: 0.1498 - mse: 0.1498 - mae: 0.3065 - accuracy: 0.7899 - val_loss: 0.1883 - val_mse: 0.1883 - val_mae: 0.3443 - val_accuracy: 0.7559\n",
      "Epoch 24/75\n",
      "514/514 [==============================] - 0s 403us/sample - loss: 0.1486 - mse: 0.1486 - mae: 0.3093 - accuracy: 0.7860 - val_loss: 0.1880 - val_mse: 0.1880 - val_mae: 0.3447 - val_accuracy: 0.7520\n",
      "Epoch 25/75\n",
      "514/514 [==============================] - 0s 372us/sample - loss: 0.1488 - mse: 0.1488 - mae: 0.3045 - accuracy: 0.7938 - val_loss: 0.1879 - val_mse: 0.1879 - val_mae: 0.3429 - val_accuracy: 0.7559\n",
      "Epoch 26/75\n",
      "514/514 [==============================] - 0s 403us/sample - loss: 0.1473 - mse: 0.1473 - mae: 0.3060 - accuracy: 0.7879 - val_loss: 0.1882 - val_mse: 0.1882 - val_mae: 0.3439 - val_accuracy: 0.7559\n",
      "Epoch 27/75\n",
      "514/514 [==============================] - 0s 401us/sample - loss: 0.1470 - mse: 0.1470 - mae: 0.3029 - accuracy: 0.7996 - val_loss: 0.1877 - val_mse: 0.1877 - val_mae: 0.3431 - val_accuracy: 0.7559\n",
      "Epoch 28/75\n",
      "514/514 [==============================] - 0s 381us/sample - loss: 0.1468 - mse: 0.1468 - mae: 0.3020 - accuracy: 0.7899 - val_loss: 0.1879 - val_mse: 0.1879 - val_mae: 0.3421 - val_accuracy: 0.7559\n",
      "Epoch 29/75\n",
      "514/514 [==============================] - 0s 410us/sample - loss: 0.1466 - mse: 0.1466 - mae: 0.3048 - accuracy: 0.7899 - val_loss: 0.1869 - val_mse: 0.1869 - val_mae: 0.3402 - val_accuracy: 0.7598\n",
      "Epoch 30/75\n",
      "514/514 [==============================] - 0s 390us/sample - loss: 0.1451 - mse: 0.1451 - mae: 0.3021 - accuracy: 0.8016 - val_loss: 0.1885 - val_mse: 0.1885 - val_mae: 0.3424 - val_accuracy: 0.7402\n",
      "Epoch 31/75\n",
      "514/514 [==============================] - 0s 405us/sample - loss: 0.1447 - mse: 0.1447 - mae: 0.2979 - accuracy: 0.7899 - val_loss: 0.1900 - val_mse: 0.1900 - val_mae: 0.3431 - val_accuracy: 0.7323\n",
      "Epoch 32/75\n",
      "514/514 [==============================] - 0s 400us/sample - loss: 0.1444 - mse: 0.1444 - mae: 0.3008 - accuracy: 0.7938 - val_loss: 0.1890 - val_mse: 0.1890 - val_mae: 0.3443 - val_accuracy: 0.7323\n",
      "Epoch 33/75\n",
      "514/514 [==============================] - 0s 417us/sample - loss: 0.1439 - mse: 0.1439 - mae: 0.2993 - accuracy: 0.7938 - val_loss: 0.1888 - val_mse: 0.1888 - val_mae: 0.3458 - val_accuracy: 0.7283\n",
      "Epoch 34/75\n",
      "514/514 [==============================] - 0s 403us/sample - loss: 0.1428 - mse: 0.1428 - mae: 0.2963 - accuracy: 0.7938 - val_loss: 0.1872 - val_mse: 0.1872 - val_mae: 0.3414 - val_accuracy: 0.7441\n",
      "Epoch 35/75\n",
      "514/514 [==============================] - 0s 408us/sample - loss: 0.1426 - mse: 0.1426 - mae: 0.2965 - accuracy: 0.7977 - val_loss: 0.1881 - val_mse: 0.1881 - val_mae: 0.3424 - val_accuracy: 0.7362\n",
      "Epoch 36/75\n",
      "514/514 [==============================] - 0s 414us/sample - loss: 0.1416 - mse: 0.1416 - mae: 0.2958 - accuracy: 0.7957 - val_loss: 0.1878 - val_mse: 0.1878 - val_mae: 0.3423 - val_accuracy: 0.7402\n",
      "Epoch 37/75\n",
      "514/514 [==============================] - 0s 393us/sample - loss: 0.1422 - mse: 0.1422 - mae: 0.2997 - accuracy: 0.7996 - val_loss: 0.1850 - val_mse: 0.1850 - val_mae: 0.3397 - val_accuracy: 0.7520\n",
      "Epoch 38/75\n",
      "514/514 [==============================] - 0s 398us/sample - loss: 0.1420 - mse: 0.1420 - mae: 0.2991 - accuracy: 0.7821 - val_loss: 0.1853 - val_mse: 0.1853 - val_mae: 0.3373 - val_accuracy: 0.7520\n",
      "Epoch 39/75\n",
      "514/514 [==============================] - 0s 380us/sample - loss: 0.1422 - mse: 0.1422 - mae: 0.2929 - accuracy: 0.7918 - val_loss: 0.1889 - val_mse: 0.1889 - val_mae: 0.3432 - val_accuracy: 0.7323\n"
     ]
    },
    {
     "name": "stdout",
     "output_type": "stream",
     "text": [
      "Epoch 40/75\n",
      "514/514 [==============================] - 0s 376us/sample - loss: 0.1405 - mse: 0.1405 - mae: 0.2924 - accuracy: 0.7938 - val_loss: 0.1882 - val_mse: 0.1882 - val_mae: 0.3432 - val_accuracy: 0.7362\n",
      "Epoch 41/75\n",
      "514/514 [==============================] - 0s 408us/sample - loss: 0.1407 - mse: 0.1407 - mae: 0.2979 - accuracy: 0.7996 - val_loss: 0.1878 - val_mse: 0.1878 - val_mae: 0.3437 - val_accuracy: 0.7283\n",
      "Epoch 42/75\n",
      "514/514 [==============================] - 0s 379us/sample - loss: 0.1401 - mse: 0.1401 - mae: 0.2932 - accuracy: 0.7918 - val_loss: 0.1869 - val_mse: 0.1869 - val_mae: 0.3404 - val_accuracy: 0.7323\n",
      "Epoch 43/75\n",
      "514/514 [==============================] - 0s 379us/sample - loss: 0.1399 - mse: 0.1399 - mae: 0.2952 - accuracy: 0.8035 - val_loss: 0.1864 - val_mse: 0.1864 - val_mae: 0.3403 - val_accuracy: 0.7362\n",
      "Epoch 44/75\n",
      "514/514 [==============================] - 0s 394us/sample - loss: 0.1399 - mse: 0.1399 - mae: 0.2942 - accuracy: 0.8016 - val_loss: 0.1859 - val_mse: 0.1859 - val_mae: 0.3389 - val_accuracy: 0.7362\n",
      "Epoch 45/75\n",
      "514/514 [==============================] - 0s 378us/sample - loss: 0.1390 - mse: 0.1390 - mae: 0.2907 - accuracy: 0.7938 - val_loss: 0.1901 - val_mse: 0.1901 - val_mae: 0.3432 - val_accuracy: 0.7323\n",
      "Epoch 46/75\n",
      "514/514 [==============================] - 0s 376us/sample - loss: 0.1391 - mse: 0.1391 - mae: 0.2933 - accuracy: 0.8054 - val_loss: 0.1845 - val_mse: 0.1845 - val_mae: 0.3367 - val_accuracy: 0.7362\n",
      "Epoch 47/75\n",
      "514/514 [==============================] - 0s 391us/sample - loss: 0.1384 - mse: 0.1384 - mae: 0.2913 - accuracy: 0.8035 - val_loss: 0.1830 - val_mse: 0.1830 - val_mae: 0.3342 - val_accuracy: 0.7362\n",
      "Epoch 48/75\n",
      "514/514 [==============================] - 0s 374us/sample - loss: 0.1397 - mse: 0.1397 - mae: 0.2920 - accuracy: 0.7977 - val_loss: 0.1853 - val_mse: 0.1853 - val_mae: 0.3397 - val_accuracy: 0.7323\n",
      "Epoch 49/75\n",
      "514/514 [==============================] - 0s 386us/sample - loss: 0.1380 - mse: 0.1380 - mae: 0.2918 - accuracy: 0.7957 - val_loss: 0.1848 - val_mse: 0.1848 - val_mae: 0.3391 - val_accuracy: 0.7323\n",
      "Epoch 50/75\n",
      "514/514 [==============================] - 0s 375us/sample - loss: 0.1378 - mse: 0.1378 - mae: 0.2930 - accuracy: 0.8035 - val_loss: 0.1851 - val_mse: 0.1851 - val_mae: 0.3391 - val_accuracy: 0.7323\n",
      "Epoch 51/75\n",
      "514/514 [==============================] - 0s 401us/sample - loss: 0.1379 - mse: 0.1379 - mae: 0.2912 - accuracy: 0.7899 - val_loss: 0.1847 - val_mse: 0.1847 - val_mae: 0.3377 - val_accuracy: 0.7323\n",
      "Epoch 52/75\n",
      "514/514 [==============================] - 0s 375us/sample - loss: 0.1380 - mse: 0.1380 - mae: 0.2906 - accuracy: 0.7977 - val_loss: 0.1857 - val_mse: 0.1857 - val_mae: 0.3382 - val_accuracy: 0.7323\n",
      "Epoch 53/75\n",
      "514/514 [==============================] - 0s 398us/sample - loss: 0.1367 - mse: 0.1367 - mae: 0.2881 - accuracy: 0.8016 - val_loss: 0.1872 - val_mse: 0.1872 - val_mae: 0.3397 - val_accuracy: 0.7362\n",
      "Epoch 54/75\n",
      "514/514 [==============================] - 0s 382us/sample - loss: 0.1366 - mse: 0.1366 - mae: 0.2910 - accuracy: 0.8054 - val_loss: 0.1857 - val_mse: 0.1857 - val_mae: 0.3379 - val_accuracy: 0.7283\n",
      "Epoch 55/75\n",
      "514/514 [==============================] - 0s 395us/sample - loss: 0.1364 - mse: 0.1364 - mae: 0.2888 - accuracy: 0.7977 - val_loss: 0.1855 - val_mse: 0.1855 - val_mae: 0.3382 - val_accuracy: 0.7362\n",
      "Epoch 56/75\n",
      "514/514 [==============================] - 0s 387us/sample - loss: 0.1361 - mse: 0.1361 - mae: 0.2888 - accuracy: 0.8035 - val_loss: 0.1842 - val_mse: 0.1842 - val_mae: 0.3364 - val_accuracy: 0.7362\n",
      "Epoch 57/75\n",
      "514/514 [==============================] - 0s 389us/sample - loss: 0.1359 - mse: 0.1359 - mae: 0.2898 - accuracy: 0.8016 - val_loss: 0.1844 - val_mse: 0.1844 - val_mae: 0.3373 - val_accuracy: 0.7323\n",
      "Epoch 58/75\n",
      "514/514 [==============================] - 0s 438us/sample - loss: 0.1361 - mse: 0.1361 - mae: 0.2898 - accuracy: 0.8016 - val_loss: 0.1886 - val_mse: 0.1886 - val_mae: 0.3404 - val_accuracy: 0.7362\n",
      "Epoch 59/75\n",
      "514/514 [==============================] - 0s 409us/sample - loss: 0.1363 - mse: 0.1363 - mae: 0.2881 - accuracy: 0.8054 - val_loss: 0.1836 - val_mse: 0.1836 - val_mae: 0.3320 - val_accuracy: 0.7402\n",
      "Epoch 60/75\n",
      "514/514 [==============================] - 0s 402us/sample - loss: 0.1356 - mse: 0.1356 - mae: 0.2884 - accuracy: 0.8113 - val_loss: 0.1869 - val_mse: 0.1869 - val_mae: 0.3392 - val_accuracy: 0.7362\n",
      "Epoch 61/75\n",
      "514/514 [==============================] - 0s 386us/sample - loss: 0.1350 - mse: 0.1350 - mae: 0.2865 - accuracy: 0.8035 - val_loss: 0.1878 - val_mse: 0.1878 - val_mae: 0.3381 - val_accuracy: 0.7402\n",
      "Epoch 62/75\n",
      "514/514 [==============================] - 0s 426us/sample - loss: 0.1352 - mse: 0.1352 - mae: 0.2838 - accuracy: 0.8016 - val_loss: 0.1844 - val_mse: 0.1844 - val_mae: 0.3348 - val_accuracy: 0.7323\n",
      "Epoch 63/75\n",
      "514/514 [==============================] - 0s 384us/sample - loss: 0.1342 - mse: 0.1342 - mae: 0.2861 - accuracy: 0.8132 - val_loss: 0.1849 - val_mse: 0.1849 - val_mae: 0.3348 - val_accuracy: 0.7323\n",
      "Epoch 64/75\n",
      "514/514 [==============================] - 0s 396us/sample - loss: 0.1346 - mse: 0.1346 - mae: 0.2854 - accuracy: 0.8113 - val_loss: 0.1860 - val_mse: 0.1860 - val_mae: 0.3365 - val_accuracy: 0.7441\n",
      "Epoch 65/75\n",
      "514/514 [==============================] - 0s 399us/sample - loss: 0.1344 - mse: 0.1344 - mae: 0.2834 - accuracy: 0.8093 - val_loss: 0.1888 - val_mse: 0.1888 - val_mae: 0.3388 - val_accuracy: 0.7323\n",
      "Epoch 66/75\n",
      "514/514 [==============================] - 0s 396us/sample - loss: 0.1342 - mse: 0.1342 - mae: 0.2865 - accuracy: 0.8074 - val_loss: 0.1879 - val_mse: 0.1879 - val_mae: 0.3392 - val_accuracy: 0.7323\n",
      "Epoch 67/75\n",
      "514/514 [==============================] - 0s 385us/sample - loss: 0.1343 - mse: 0.1343 - mae: 0.2878 - accuracy: 0.7977 - val_loss: 0.1904 - val_mse: 0.1904 - val_mae: 0.3423 - val_accuracy: 0.7362\n",
      "Epoch 68/75\n",
      "514/514 [==============================] - 0s 392us/sample - loss: 0.1338 - mse: 0.1338 - mae: 0.2832 - accuracy: 0.8093 - val_loss: 0.1922 - val_mse: 0.1922 - val_mae: 0.3429 - val_accuracy: 0.7323\n",
      "Epoch 69/75\n",
      "514/514 [==============================] - 0s 381us/sample - loss: 0.1330 - mse: 0.1330 - mae: 0.2868 - accuracy: 0.8016 - val_loss: 0.1847 - val_mse: 0.1847 - val_mae: 0.3356 - val_accuracy: 0.7362\n",
      "Epoch 70/75\n",
      "514/514 [==============================] - 0s 400us/sample - loss: 0.1332 - mse: 0.1332 - mae: 0.2832 - accuracy: 0.8074 - val_loss: 0.1861 - val_mse: 0.1861 - val_mae: 0.3360 - val_accuracy: 0.7362\n",
      "Epoch 71/75\n",
      "514/514 [==============================] - 0s 378us/sample - loss: 0.1323 - mse: 0.1323 - mae: 0.2825 - accuracy: 0.8093 - val_loss: 0.1890 - val_mse: 0.1890 - val_mae: 0.3397 - val_accuracy: 0.7362\n",
      "Epoch 72/75\n",
      "514/514 [==============================] - 0s 405us/sample - loss: 0.1326 - mse: 0.1326 - mae: 0.2806 - accuracy: 0.8171 - val_loss: 0.1887 - val_mse: 0.1887 - val_mae: 0.3366 - val_accuracy: 0.7362\n",
      "Epoch 73/75\n",
      "514/514 [==============================] - 0s 371us/sample - loss: 0.1323 - mse: 0.1323 - mae: 0.2844 - accuracy: 0.8016 - val_loss: 0.1867 - val_mse: 0.1867 - val_mae: 0.3381 - val_accuracy: 0.7362\n",
      "Epoch 74/75\n",
      "514/514 [==============================] - 0s 413us/sample - loss: 0.1326 - mse: 0.1326 - mae: 0.2816 - accuracy: 0.8074 - val_loss: 0.1871 - val_mse: 0.1871 - val_mae: 0.3374 - val_accuracy: 0.7362\n",
      "Epoch 75/75\n",
      "514/514 [==============================] - 0s 378us/sample - loss: 0.1320 - mse: 0.1320 - mae: 0.2843 - accuracy: 0.8074 - val_loss: 0.1913 - val_mse: 0.1913 - val_mae: 0.3454 - val_accuracy: 0.7362\n"
     ]
    },
    {
     "data": {
      "text/plain": [
       "<tensorflow.python.keras.callbacks.History at 0x7fa83033f710>"
      ]
     },
     "execution_count": 6,
     "metadata": {},
     "output_type": "execute_result"
    }
   ],
   "source": [
    "from tensorflow import keras\n",
    "from tensorflow.keras.models import Sequential\n",
    "from tensorflow.keras.layers import Dense\n",
    "\n",
    "# Important Hyperparameters\n",
    "inputs = x_train.shape[1]\n",
    "epochs = 75\n",
    "batch_size = 10\n",
    "\n",
    "\n",
    "# Create Model\n",
    "model = Sequential()\n",
    "model.add(Dense(8, activation='relu', input_shape=(inputs,)))\n",
    "model.add(Dense(8, activation='relu'))\n",
    "model.add(Dense(1))\n",
    "\n",
    "# Compile Model\n",
    "model.compile(optimizer='adam', loss='mse', metrics=['mse', 'mae', 'accuracy'])\n",
    "\n",
    "# Fit Model\n",
    "model.fit(x_train, y_train, \n",
    "          validation_data=(x_test,y_test), \n",
    "          epochs=epochs, \n",
    "          batch_size=batch_size\n",
    "         )"
   ]
  },
  {
   "cell_type": "markdown",
   "metadata": {
    "colab_type": "text",
    "id": "sYJ8t_ezHP4W"
   },
   "source": [
    "### Hyperparameter Tuning Approaches:\n",
    "\n",
    "#### 1) Babysitting AKA \"Grad Student Descent\".\n",
    "\n",
    "If you fiddled with any hyperparameters yesterday, this is basically what you did. This approach is 100% manual and is pretty common among researchers where finding that 1 exact specification that jumps your model to a level of accuracy never seen before is the difference between publishing and not publishing a paper. Of course the professors don't do this themselves, that's grunt work. This is also known as the fiddle with hyperparameters until you run out of time method.\n",
    "\n",
    "#### 2) Grid Search\n",
    "\n",
    "Grid Search is the Grad Student galaxy brain realization of: why don't I just specify all the experiments I want to run and let the computer try every possible combination of them while I go and grab lunch. This has a specific downside in that if I specify 5 hyperparameters with 5 options each then I've just created 5^5 combinations of hyperparameters to check. Which means that I have to train 3125 different versions of my model Then if I use 5-fold Cross Validation on that then my model has to run 15,525 times. This is the brute-force method of hyperparameter tuning, but it can be very profitable if done wisely. \n",
    "\n",
    "When using Grid Search here's what I suggest: don't use it to test combinations of different hyperparameters, only use it to test different specifications of **a single** hyperparameter. It's rare that combinations between different hyperparameters lead to big performance gains. You'll get 90-95% of the way there if you just Grid Search one parameter and take the best result, then retain that best result while you test another, and then retain the best specification from that while you train another. This at least makes the situation much more manageable and leads to pretty good results. \n",
    "\n",
    "#### 3) Random Search\n",
    "\n",
    "Do Grid Search for a couple of hours and you'll say to yourself - \"There's got to be a better way.\" Enter Random Search. For Random search you specify a hyperparameter space and it picks specifications from that randomly, tries them out, gives you the best results and says - That's going to have to be good enough, go home and spend time with your family. \n",
    "\n",
    "Grid Search treats every parameter as if it was equally important, but this just isn't the case, some are known to move the needle a lot more than others (we'll talk about that in a minute). Random Search allows searching to be specified along the most important parameter and experiments less along the dimensions of less important hyperparameters. The downside of Random search is that it won't find the absolute best hyperparameters, but it is much less costly to perform than Grid Search. \n",
    "\n",
    "#### 4) Bayesian Methods\n",
    "\n",
    "One thing that can make more manual methods like babysitting and gridsearch effective is that as the experimenter sees results he can then make updates to his future searches taking into account the results of past specifications. If only we could hyperparameter tune our hyperparameter tuning. Well, we kind of can. Enter Bayesian Optimization. Neural Networks are like an optimization problem within an optimization problem, and Bayesian Optimization is a search strategy that tries to take into account the results of past searches in order to improve future ones. This is the most advanced method but can be a little bit tricky to implement, but there are some early steps with `hyperas` which is Bayesian optimization wrapper for `keras`. "
   ]
  },
  {
   "cell_type": "markdown",
   "metadata": {
    "colab_type": "text",
    "id": "HfQ7D043OMMn"
   },
   "source": [
    "## What Hyperparameters are there to test?\n",
    "\n",
    "- batch_size\n",
    "- training epochs\n",
    "- optimization algorithms\n",
    "- learning rate\n",
    "- momentum\n",
    "- activation functions\n",
    "- dropout regularization\n",
    "- number of neurons in the hidden layer\n",
    "\n",
    "There are more, but these are the most important."
   ]
  },
  {
   "cell_type": "markdown",
   "metadata": {},
   "source": [
    "## Follow Along"
   ]
  },
  {
   "cell_type": "markdown",
   "metadata": {
    "colab_type": "text",
    "id": "Mri5-kXzVKAa"
   },
   "source": [
    "## Batch Size\n",
    "\n",
    "Batch size determines how many observations the model is shown before it calculates loss/error and updates the model weights via gradient descent. You're looking for a sweet spot here where you're showing it enough observations that you have enough information to updates the weights, but not such a large batch size that you don't get a lot of weight update iterations performed in a given epoch. Feed-forward Neural Networks aren't as sensitive to bach_size as other networks, but it is still an important hyperparameter to tune. Smaller batch sizes will also take longer to train. "
   ]
  },
  {
   "cell_type": "code",
   "execution_count": 7,
   "metadata": {
    "colab": {
     "base_uri": "https://localhost:8080/",
     "height": 13561
    },
    "colab_type": "code",
    "id": "2smXfriNAGn7",
    "outputId": "ae996575-78e2-43fb-9dbe-5d44aaf0b430"
   },
   "outputs": [
    {
     "name": "stderr",
     "output_type": "stream",
     "text": [
      "/home/martin/anaconda3/lib/python3.7/site-packages/sklearn/model_selection/_split.py:2053: FutureWarning: You should specify a value for 'cv' instead of relying on the default value. The default value will change from 3 to 5 in version 0.22.\n",
      "  warnings.warn(CV_WARNING, FutureWarning)\n"
     ]
    },
    {
     "name": "stdout",
     "output_type": "stream",
     "text": [
      "Best: 0.6510416666666666 using {'batch_size': 20, 'epochs': 20}\n",
      "Means: 0.6080729166666666, Stdev: 0.03737682316251907 with: {'batch_size': 10, 'epochs': 20}\n",
      "Means: 0.6510416666666666, Stdev: 0.015072704300508107 with: {'batch_size': 20, 'epochs': 20}\n",
      "Means: 0.5598958333333334, Stdev: 0.07105606067522006 with: {'batch_size': 40, 'epochs': 20}\n",
      "Means: 0.52734375, Stdev: 0.07356482756159133 with: {'batch_size': 60, 'epochs': 20}\n",
      "Means: 0.5455729166666666, Stdev: 0.03936514702560149 with: {'batch_size': 80, 'epochs': 20}\n",
      "Means: 0.5885416666666666, Stdev: 0.05396974420849664 with: {'batch_size': 100, 'epochs': 20}\n"
     ]
    }
   ],
   "source": [
    "import numpy\n",
    "import pandas as pd\n",
    "from sklearn.model_selection import GridSearchCV\n",
    "from tensorflow.keras.models import Sequential\n",
    "from tensorflow.keras.layers import Dense\n",
    "from tensorflow.keras.wrappers.scikit_learn import KerasClassifier\n",
    "\n",
    "# fix random seed for reproducibility\n",
    "seed = 7\n",
    "numpy.random.seed(seed)\n",
    "\n",
    "# load dataset\n",
    "url =\"https://raw.githubusercontent.com/jbrownlee/Datasets/master/pima-indians-diabetes.data.csv\"\n",
    "\n",
    "dataset = pd.read_csv(url, header=None).values\n",
    "\n",
    "# split into input (X) and output (Y) variables\n",
    "X = dataset[:,0:8]\n",
    "Y = dataset[:,8]\n",
    "\n",
    "# Function to create model, required for KerasClassifier\n",
    "def create_model():\n",
    "    # create model\n",
    "    model = Sequential()\n",
    "    model.add(Dense(12, input_dim=8, activation='relu'))\n",
    "    model.add(Dense(1, activation='sigmoid'))\n",
    "    # Compile model\n",
    "    model.compile(loss='binary_crossentropy', optimizer='adam', metrics=['accuracy'])\n",
    "    return model\n",
    "\n",
    "# create model\n",
    "model = KerasClassifier(build_fn=create_model, verbose=0)\n",
    "\n",
    "# define the grid search parameters\n",
    "# batch_size = [10, 20, 40, 60, 80, 100]\n",
    "# param_grid = dict(batch_size=batch_size, epochs=epochs)\n",
    "\n",
    "# define the grid search parameters\n",
    "param_grid = {'batch_size': [10, 20, 40, 60, 80, 100],\n",
    "              'epochs': [20]}\n",
    "\n",
    "# Create Grid Search\n",
    "grid = GridSearchCV(estimator=model, param_grid=param_grid, n_jobs=1)\n",
    "grid_result = grid.fit(X, Y)\n",
    "\n",
    "# Report Results\n",
    "print(f\"Best: {grid_result.best_score_} using {grid_result.best_params_}\")\n",
    "means = grid_result.cv_results_['mean_test_score']\n",
    "stds = grid_result.cv_results_['std_test_score']\n",
    "params = grid_result.cv_results_['params']\n",
    "for mean, stdev, param in zip(means, stds, params):\n",
    "    print(f\"Means: {mean}, Stdev: {stdev} with: {param}\") "
   ]
  },
  {
   "cell_type": "markdown",
   "metadata": {
    "colab_type": "text",
    "id": "pmABfjlvXbqi"
   },
   "source": [
    "## Epochs\n",
    "\n",
    "The number of training epochs has a large and direct affect on the accuracy, However, more epochs is almost always goign to better than less epochs. This means that if you tune this parameter at the beginning and try and maintain the same value all throughout your training, you're going to be waiting a long time for each iteration of GridSearch. I suggest picking a fixed moderat # of epochs all throughout your training and then Grid Searching this parameter at the very end. "
   ]
  },
  {
   "cell_type": "code",
   "execution_count": 8,
   "metadata": {
    "colab": {
     "base_uri": "https://localhost:8080/",
     "height": 26329
    },
    "colab_type": "code",
    "id": "bAmxP3N7TmFh",
    "outputId": "3ddb08c4-51ac-4eaa-ff39-143397024544"
   },
   "outputs": [
    {
     "name": "stdout",
     "output_type": "stream",
     "text": [
      "Best: 0.7083333333333334 using {'batch_size': 20, 'epochs': 200}\n",
      "Means: 0.6705729166666666, Stdev: 0.016366933710906945 with: {'batch_size': 20, 'epochs': 20}\n",
      "Means: 0.6419270833333334, Stdev: 0.03440063753547632 with: {'batch_size': 20, 'epochs': 40}\n",
      "Means: 0.6861979166666666, Stdev: 0.029634913220679796 with: {'batch_size': 20, 'epochs': 60}\n",
      "Means: 0.7083333333333334, Stdev: 0.010252614419286212 with: {'batch_size': 20, 'epochs': 200}\n"
     ]
    }
   ],
   "source": [
    "# define the grid search parameters\n",
    "param_grid = {'batch_size': [20],\n",
    "              'epochs': [20, 40, 60,200]}\n",
    "\n",
    "# Create Grid Search\n",
    "grid = GridSearchCV(estimator=model, param_grid=param_grid, n_jobs=1)\n",
    "grid_result = grid.fit(X, Y)\n",
    "\n",
    "# Report Results\n",
    "print(f\"Best: {grid_result.best_score_} using {grid_result.best_params_}\")\n",
    "means = grid_result.cv_results_['mean_test_score']\n",
    "stds = grid_result.cv_results_['std_test_score']\n",
    "params = grid_result.cv_results_['params']\n",
    "for mean, stdev, param in zip(means, stds, params):\n",
    "    print(f\"Means: {mean}, Stdev: {stdev} with: {param}\")"
   ]
  },
  {
   "cell_type": "markdown",
   "metadata": {
    "colab_type": "text",
    "id": "EKcuY6OiaLfz"
   },
   "source": [
    "## Optimizer\n",
    "\n",
    "Remember that there's a different optimizers [optimizers](https://keras.io/optimizers/). At some point, take some time to read up on them a little bit. \"adam\" usually gives the best results. The thing to know about choosing an optimizer is that different optimizers have different hyperparameters like learning rate, momentum, etc. So based on the optimizer you choose you might also have to tune the learning rate and momentum of those optimizers after that. "
   ]
  },
  {
   "cell_type": "markdown",
   "metadata": {
    "colab_type": "text",
    "id": "DG3wq5iOaLig"
   },
   "source": [
    "## Learning Rate\n",
    "\n",
    "Remember that the Learning Rate is a hyperparameter that is specific to your gradient-descent based optimizer selection. A learning rate that is too high will cause divergent behavior, but a Learning Rate that is too low will fail to converge, again, you're looking for the sweet spot. I would start out tuning learning rates by orders of magnitude: [.001, .01, .1, .2, .3, .5] etc. I wouldn't go above .5, but you can try it and see what the behavior is like. \n",
    "\n",
    "Once you have narrowed it down, make the window even smaller and try it again. If after running the above specification your model reports that .1 is the best optimizer, then you should probably try things like [.05, .08, .1, .12, .15] to try and narrow it down. \n",
    "\n",
    "It can also be good to tune the number of epochs in combination with the learning rate since the number of iterations that you allow the learning rate to reach the minimum can determine if you have let it run long enough to converge to the minimum. "
   ]
  },
  {
   "cell_type": "markdown",
   "metadata": {
    "colab_type": "text",
    "id": "gNTBUWd1aLlA"
   },
   "source": [
    "## Momentum\n",
    "\n",
    "Momentum is a hyperparameter that is more commonly associated with Stochastic Gradient Descent. SGD is a common optimizer because it's what people understand and know, but I doubt it will get you the best results, you can try hyperparameter tuning its attributes and see if you can beat the performance from adam. Momentum is a property that decides the willingness of an optimizer to overshoot the minimum. Imagine a ball rolling down one side of a bowl and then up the opposite side a little bit before settling back to the bottom. The purpose of momentum is to try and escale local minima."
   ]
  },
  {
   "cell_type": "markdown",
   "metadata": {
    "colab_type": "text",
    "id": "xnEG-bCJaLnZ"
   },
   "source": [
    "## Activation Functions\n",
    "\n",
    "We've talked about this a little bit, typically you'l want to use ReLU for hidden layers and either Sigmoid, or Softmax for output layers of binary and multi-class classification implementations respectively, but try other activation functions and see if you can get any better results with sigmoid or tanh or something. There are a lot of activation functions that we haven't really talked about. Maybe you'll get good results with them. Maybe you won't. :) <https://keras.io/activations/>"
   ]
  },
  {
   "cell_type": "markdown",
   "metadata": {
    "colab_type": "text",
    "id": "oul9sPq-dU-h"
   },
   "source": [
    "## Network Weight Initialization\n",
    "\n",
    "You saw how big of an effect the way that we initialize our network's weights can have on our results. There are **a lot** of what are called initialization modes. I don't understand all of them, but they can have a big affect on your model's initial accuracy. Your model will get further with less epochs if you initialize it with weights that are well suited to the problem you're trying to solve.\n",
    "\n",
    "`init_mode = ['uniform', 'lecun_uniform', 'normal', 'zero', 'glorot_normal', 'glorot_uniform', 'he_normal', 'he_uniform']`"
   ]
  },
  {
   "cell_type": "markdown",
   "metadata": {
    "colab_type": "text",
    "id": "bqtEuxeQaLqE"
   },
   "source": [
    "## Dropout Regularization and the Weight Constraint\n",
    "\n",
    "the Dropout Regularization value is a percentage of neurons that you want to be randomly deactivated during training. The weight constraint is a second regularization parameter that works in tandem with dropout regularization. You should tune these two values at the same time. \n",
    "\n",
    "Using dropout on visible vs hidden layers might have a different effect. Using dropout on hidden layers might not have any effect while using dropout on hidden layers might have a substantial effect. You don't necessarily need to turn use dropout unless you see that your model has overfitting and generalizability problems."
   ]
  },
  {
   "cell_type": "markdown",
   "metadata": {
    "colab_type": "text",
    "id": "P2c5Cv6oaLtO"
   },
   "source": [
    "## Neurons in Hidden Layer \n",
    "\n",
    "Remember that when we only had a single perceptron our model was only able to fit to linearly separable data, but as we have added layers and nodes to those layers our network has become a powerhouse of fitting nonlinearity in data. The larger the network and the more nodes generally the stronger the network's capacity to fit nonlinear patterns in data. The more nodes and layers the longer it will take to train a network, and higher the probability of overfitting. The larger your network gets the more you'll need dropout regularization or other regularization techniques to keep it in check. \n",
    "\n",
    "Typically depth (more layers) is more important than width (more nodes) for neural networks. This is part of why Deep Learning is so highly touted. Certain deep learning architectures have truly been huge breakthroughs for certain machine learning tasks. \n",
    "\n",
    "You might borrow ideas from other network architectures. For example if I was doing image recognition and I wasn't taking cues from state of the art architectures like resnet, alexnet, googlenet, etc. Then I'm probably going to have to do a lot more experimentation on my own before I find something that works.\n",
    "\n",
    "There are some heuristics, but I am highly skeptical of them. I think you're better off experimenting on your own and forming your own intuition for these kinds of problems. \n",
    "\n",
    "- https://machinelearningmastery.com/how-to-configure-the-number-of-layers-and-nodes-in-a-neural-network/"
   ]
  },
  {
   "cell_type": "markdown",
   "metadata": {},
   "source": [
    "## Challenge\n",
    "You will be expected to tune several hyperparameters in today's module project. "
   ]
  },
  {
   "cell_type": "markdown",
   "metadata": {},
   "source": [
    "# Experiment Tracking Framework (Learn)\n",
    "<a id=\"p2\"></a>"
   ]
  },
  {
   "cell_type": "markdown",
   "metadata": {},
   "source": [
    "## Overview\n",
    "\n",
    "You will notice quickly that managing the results of all the experiments you are running becomes challenging. Which set of parameters did the best? Are my results today different than my results yesterday? Although we use Ipython Notebooks to work, the format is not well suited to logging experimental results. Enter experiment tracking frameworks like [Comet.ml](https://comet.ml) and [Weights and Biases](https://wandb.ai/).\n",
    "\n",
    "Those tools will help you track your experiments, store the results, and the code associated with those experiments. Experimental results can also be readily visualized to see changes in performance across any metric you care about. Data is sent to the tool as each epoch is completed, so you can also see if your model is converging. Let's check out Weights & Biases today. "
   ]
  },
  {
   "cell_type": "markdown",
   "metadata": {},
   "source": [
    "## Follow Along\n",
    "\n",
    "Make sure you login into `wandb` in the terminal before running the next cell. "
   ]
  },
  {
   "cell_type": "code",
   "execution_count": 14,
   "metadata": {},
   "outputs": [],
   "source": [
    "import wandb\n",
    "from wandb.keras import WandbCallback"
   ]
  },
  {
   "cell_type": "code",
   "execution_count": 15,
   "metadata": {
    "colab": {
     "base_uri": "https://localhost:8080/",
     "height": 1750
    },
    "colab_type": "code",
    "id": "GMXVfmzXp1Oo",
    "outputId": "b05e251e-508f-46e6-865b-f869ae2a5dc4"
   },
   "outputs": [
    {
     "name": "stderr",
     "output_type": "stream",
     "text": [
      "wandb: ERROR Not authenticated.  Copy a key from https://app.wandb.ai/authorize\n"
     ]
    },
    {
     "name": "stdout",
     "output_type": "stream",
     "text": [
      "API Key: ········\n"
     ]
    },
    {
     "name": "stderr",
     "output_type": "stream",
     "text": [
      "wandb: Appending key for api.wandb.ai to your netrc file: /home/martin/.netrc\n"
     ]
    },
    {
     "data": {
      "text/html": [
       "\n",
       "                Logging results to <a href=\"https://wandb.com\" target=\"_blank\">Weights & Biases</a> <a href=\"https://docs.wandb.com/integrations/jupyter.html\" target=\"_blank\">(Documentation)</a>.<br/>\n",
       "                Project page: <a href=\"https://app.wandb.ai/lambda-ds7/boston\" target=\"_blank\">https://app.wandb.ai/lambda-ds7/boston</a><br/>\n",
       "                Run page: <a href=\"https://app.wandb.ai/lambda-ds7/boston/runs/69k8kjl7\" target=\"_blank\">https://app.wandb.ai/lambda-ds7/boston/runs/69k8kjl7</a><br/>\n",
       "            "
      ],
      "text/plain": [
       "<IPython.core.display.HTML object>"
      ]
     },
     "metadata": {},
     "output_type": "display_data"
    },
    {
     "name": "stdout",
     "output_type": "stream",
     "text": [
      "Train on 344 samples, validate on 170 samples\n",
      "Epoch 1/50\n",
      "344/344 [==============================] - 1s 4ms/sample - loss: 0.2020 - mse: 0.2020 - mae: 0.3579 - val_loss: 0.1691 - val_mse: 0.1691 - val_mae: 0.3309\n",
      "Epoch 2/50\n",
      "344/344 [==============================] - 0s 504us/sample - loss: 0.1550 - mse: 0.1550 - mae: 0.3019 - val_loss: 0.1607 - val_mse: 0.1607 - val_mae: 0.3184\n",
      "Epoch 3/50\n",
      "344/344 [==============================] - 0s 388us/sample - loss: 0.1421 - mse: 0.1421 - mae: 0.2892 - val_loss: 0.1540 - val_mse: 0.1540 - val_mae: 0.3157\n",
      "Epoch 4/50\n",
      "344/344 [==============================] - 0s 317us/sample - loss: 0.1331 - mse: 0.1331 - mae: 0.2814 - val_loss: 0.1550 - val_mse: 0.1550 - val_mae: 0.3111\n",
      "Epoch 5/50\n",
      "344/344 [==============================] - 0s 340us/sample - loss: 0.1262 - mse: 0.1262 - mae: 0.2706 - val_loss: 0.1543 - val_mse: 0.1543 - val_mae: 0.3049\n",
      "Epoch 6/50\n",
      "344/344 [==============================] - 0s 558us/sample - loss: 0.1190 - mse: 0.1190 - mae: 0.2594 - val_loss: 0.1581 - val_mse: 0.1581 - val_mae: 0.3084\n",
      "Epoch 7/50\n",
      "344/344 [==============================] - 0s 669us/sample - loss: 0.1171 - mse: 0.1171 - mae: 0.2623 - val_loss: 0.1559 - val_mse: 0.1559 - val_mae: 0.3038\n",
      "Epoch 8/50\n",
      "344/344 [==============================] - 0s 505us/sample - loss: 0.1086 - mse: 0.1086 - mae: 0.2475 - val_loss: 0.1559 - val_mse: 0.1559 - val_mae: 0.3068\n",
      "Epoch 9/50\n",
      "344/344 [==============================] - 0s 490us/sample - loss: 0.1032 - mse: 0.1032 - mae: 0.2386 - val_loss: 0.1598 - val_mse: 0.1598 - val_mae: 0.3066\n",
      "Epoch 10/50\n",
      "344/344 [==============================] - 0s 482us/sample - loss: 0.0998 - mse: 0.0998 - mae: 0.2358 - val_loss: 0.1550 - val_mse: 0.1550 - val_mae: 0.3085\n",
      "Epoch 11/50\n",
      "344/344 [==============================] - 0s 453us/sample - loss: 0.0965 - mse: 0.0965 - mae: 0.2325 - val_loss: 0.1592 - val_mse: 0.1592 - val_mae: 0.3090\n",
      "Epoch 12/50\n",
      "344/344 [==============================] - 0s 531us/sample - loss: 0.0905 - mse: 0.0905 - mae: 0.2265 - val_loss: 0.1734 - val_mse: 0.1734 - val_mae: 0.3353\n",
      "Epoch 13/50\n",
      "344/344 [==============================] - 0s 498us/sample - loss: 0.0822 - mse: 0.0822 - mae: 0.2131 - val_loss: 0.1667 - val_mse: 0.1667 - val_mae: 0.3157\n",
      "Epoch 14/50\n",
      "344/344 [==============================] - 0s 522us/sample - loss: 0.0834 - mse: 0.0834 - mae: 0.2150 - val_loss: 0.1637 - val_mse: 0.1637 - val_mae: 0.3108\n",
      "Epoch 15/50\n",
      "344/344 [==============================] - 0s 477us/sample - loss: 0.0799 - mse: 0.0799 - mae: 0.2049 - val_loss: 0.1634 - val_mse: 0.1634 - val_mae: 0.3174\n",
      "Epoch 16/50\n",
      "344/344 [==============================] - 0s 497us/sample - loss: 0.0755 - mse: 0.0755 - mae: 0.2019 - val_loss: 0.1658 - val_mse: 0.1658 - val_mae: 0.3121\n",
      "Epoch 17/50\n",
      "344/344 [==============================] - 0s 592us/sample - loss: 0.0707 - mse: 0.0707 - mae: 0.1943 - val_loss: 0.1713 - val_mse: 0.1713 - val_mae: 0.3177\n",
      "Epoch 18/50\n",
      "344/344 [==============================] - 0s 564us/sample - loss: 0.0691 - mse: 0.0691 - mae: 0.1919 - val_loss: 0.1771 - val_mse: 0.1771 - val_mae: 0.3159\n",
      "Epoch 19/50\n",
      "344/344 [==============================] - 0s 532us/sample - loss: 0.0645 - mse: 0.0645 - mae: 0.1850 - val_loss: 0.1803 - val_mse: 0.1803 - val_mae: 0.3267\n",
      "Epoch 20/50\n",
      "344/344 [==============================] - 0s 562us/sample - loss: 0.0615 - mse: 0.0615 - mae: 0.1841 - val_loss: 0.1750 - val_mse: 0.1750 - val_mae: 0.3232\n",
      "Epoch 21/50\n",
      "344/344 [==============================] - 0s 529us/sample - loss: 0.0554 - mse: 0.0554 - mae: 0.1699 - val_loss: 0.1854 - val_mse: 0.1854 - val_mae: 0.3256\n",
      "Epoch 22/50\n",
      "344/344 [==============================] - 0s 572us/sample - loss: 0.0569 - mse: 0.0569 - mae: 0.1740 - val_loss: 0.1874 - val_mse: 0.1874 - val_mae: 0.3268\n",
      "Epoch 23/50\n",
      "344/344 [==============================] - 0s 619us/sample - loss: 0.0615 - mse: 0.0615 - mae: 0.1870 - val_loss: 0.1868 - val_mse: 0.1868 - val_mae: 0.3307\n",
      "Epoch 24/50\n",
      "344/344 [==============================] - 0s 578us/sample - loss: 0.0502 - mse: 0.0502 - mae: 0.1631 - val_loss: 0.1876 - val_mse: 0.1876 - val_mae: 0.3320\n",
      "Epoch 25/50\n",
      "344/344 [==============================] - 0s 568us/sample - loss: 0.0455 - mse: 0.0455 - mae: 0.1568 - val_loss: 0.2063 - val_mse: 0.2063 - val_mae: 0.3402\n",
      "Epoch 26/50\n",
      "344/344 [==============================] - 0s 713us/sample - loss: 0.0454 - mse: 0.0454 - mae: 0.1543 - val_loss: 0.1935 - val_mse: 0.1935 - val_mae: 0.3415\n",
      "Epoch 27/50\n",
      "344/344 [==============================] - 0s 714us/sample - loss: 0.0452 - mse: 0.0452 - mae: 0.1548 - val_loss: 0.2063 - val_mse: 0.2063 - val_mae: 0.3511\n",
      "Epoch 28/50\n",
      "344/344 [==============================] - 0s 784us/sample - loss: 0.0439 - mse: 0.0439 - mae: 0.1548 - val_loss: 0.2074 - val_mse: 0.2074 - val_mae: 0.3601\n",
      "Epoch 29/50\n",
      "344/344 [==============================] - 0s 645us/sample - loss: 0.0462 - mse: 0.0462 - mae: 0.1592 - val_loss: 0.2034 - val_mse: 0.2034 - val_mae: 0.3432\n",
      "Epoch 30/50\n",
      "344/344 [==============================] - 0s 756us/sample - loss: 0.0406 - mse: 0.0406 - mae: 0.1492 - val_loss: 0.2010 - val_mse: 0.2010 - val_mae: 0.3417\n",
      "Epoch 31/50\n",
      "344/344 [==============================] - 0s 677us/sample - loss: 0.0373 - mse: 0.0373 - mae: 0.1399 - val_loss: 0.2064 - val_mse: 0.2064 - val_mae: 0.3437\n",
      "Epoch 32/50\n",
      "344/344 [==============================] - 0s 654us/sample - loss: 0.0399 - mse: 0.0399 - mae: 0.1493 - val_loss: 0.2130 - val_mse: 0.2130 - val_mae: 0.3545\n",
      "Epoch 33/50\n",
      "344/344 [==============================] - 0s 620us/sample - loss: 0.0365 - mse: 0.0365 - mae: 0.1333 - val_loss: 0.2182 - val_mse: 0.2182 - val_mae: 0.3668\n",
      "Epoch 34/50\n",
      "344/344 [==============================] - 0s 640us/sample - loss: 0.0277 - mse: 0.0277 - mae: 0.1184 - val_loss: 0.2120 - val_mse: 0.2120 - val_mae: 0.3553\n",
      "Epoch 35/50\n",
      "344/344 [==============================] - 0s 667us/sample - loss: 0.0304 - mse: 0.0304 - mae: 0.1275 - val_loss: 0.2239 - val_mse: 0.2239 - val_mae: 0.3653\n",
      "Epoch 36/50\n",
      "344/344 [==============================] - 0s 658us/sample - loss: 0.0295 - mse: 0.0295 - mae: 0.1255 - val_loss: 0.2269 - val_mse: 0.2269 - val_mae: 0.3657\n",
      "Epoch 37/50\n",
      "344/344 [==============================] - 0s 649us/sample - loss: 0.0315 - mse: 0.0315 - mae: 0.1242 - val_loss: 0.2198 - val_mse: 0.2198 - val_mae: 0.3611\n",
      "Epoch 38/50\n",
      "344/344 [==============================] - 0s 585us/sample - loss: 0.0250 - mse: 0.0250 - mae: 0.1091 - val_loss: 0.2184 - val_mse: 0.2184 - val_mae: 0.3547\n",
      "Epoch 39/50\n",
      "344/344 [==============================] - 0s 645us/sample - loss: 0.0249 - mse: 0.0249 - mae: 0.1069 - val_loss: 0.2153 - val_mse: 0.2153 - val_mae: 0.3602\n",
      "Epoch 40/50\n",
      "344/344 [==============================] - 0s 664us/sample - loss: 0.0219 - mse: 0.0219 - mae: 0.1012 - val_loss: 0.2203 - val_mse: 0.2203 - val_mae: 0.3591\n",
      "Epoch 41/50\n",
      "344/344 [==============================] - 0s 622us/sample - loss: 0.0233 - mse: 0.0233 - mae: 0.1050 - val_loss: 0.2225 - val_mse: 0.2225 - val_mae: 0.3657\n",
      "Epoch 42/50\n",
      "344/344 [==============================] - 0s 637us/sample - loss: 0.0249 - mse: 0.0249 - mae: 0.1090 - val_loss: 0.2231 - val_mse: 0.2231 - val_mae: 0.3628\n",
      "Epoch 43/50\n",
      "344/344 [==============================] - 0s 614us/sample - loss: 0.0234 - mse: 0.0234 - mae: 0.1069 - val_loss: 0.2203 - val_mse: 0.2203 - val_mae: 0.3625\n",
      "Epoch 44/50\n",
      "344/344 [==============================] - 0s 631us/sample - loss: 0.0189 - mse: 0.0189 - mae: 0.0903 - val_loss: 0.2213 - val_mse: 0.2213 - val_mae: 0.3628\n",
      "Epoch 45/50\n",
      "344/344 [==============================] - 0s 629us/sample - loss: 0.0240 - mse: 0.0240 - mae: 0.1081 - val_loss: 0.2258 - val_mse: 0.2258 - val_mae: 0.3707\n",
      "Epoch 46/50\n",
      "344/344 [==============================] - 0s 567us/sample - loss: 0.0251 - mse: 0.0251 - mae: 0.1107 - val_loss: 0.2276 - val_mse: 0.2276 - val_mae: 0.3683\n",
      "Epoch 47/50\n",
      "344/344 [==============================] - 0s 529us/sample - loss: 0.0185 - mse: 0.0185 - mae: 0.0947 - val_loss: 0.2183 - val_mse: 0.2183 - val_mae: 0.3601\n",
      "Epoch 48/50\n",
      "344/344 [==============================] - 0s 806us/sample - loss: 0.0146 - mse: 0.0146 - mae: 0.0819 - val_loss: 0.2206 - val_mse: 0.2206 - val_mae: 0.3599\n",
      "Epoch 49/50\n"
     ]
    },
    {
     "name": "stdout",
     "output_type": "stream",
     "text": [
      "344/344 [==============================] - 0s 572us/sample - loss: 0.0161 - mse: 0.0161 - mae: 0.0883 - val_loss: 0.2218 - val_mse: 0.2218 - val_mae: 0.3631\n",
      "Epoch 50/50\n",
      "344/344 [==============================] - 0s 555us/sample - loss: 0.0184 - mse: 0.0184 - mae: 0.0943 - val_loss: 0.2278 - val_mse: 0.2278 - val_mae: 0.3643\n"
     ]
    },
    {
     "data": {
      "text/plain": [
       "<tensorflow.python.keras.callbacks.History at 0x7fa7bac37cf8>"
      ]
     },
     "execution_count": 15,
     "metadata": {},
     "output_type": "execute_result"
    }
   ],
   "source": [
    "wandb.init(project=\"boston\", entity=\"lambda-ds7\") #Initializes and Experiment\n",
    "\n",
    "# Important Hyperparameters\n",
    "X =  x_train\n",
    "y =  y_train\n",
    "\n",
    "inputs = X.shape[1]\n",
    "wandb.config.epochs = 50\n",
    "wandb.config.batch_size = 10\n",
    "\n",
    "# Create Model\n",
    "model = Sequential()\n",
    "model.add(Dense(64, activation='relu', input_shape=(inputs,)))\n",
    "model.add(Dense(64, activation='relu'))\n",
    "model.add(Dense(64, activation='relu'))\n",
    "model.add(Dense(1))\n",
    "# Compile Model\n",
    "model.compile(optimizer='adam', loss='mse', metrics=['mse', 'mae'])\n",
    "\n",
    "# Fit Model\n",
    "model.fit(X, y, \n",
    "          validation_split=0.33, \n",
    "          epochs=wandb.config.epochs, \n",
    "          batch_size=wandb.config.batch_size, \n",
    "          callbacks=[WandbCallback()]\n",
    "         )"
   ]
  },
  {
   "cell_type": "markdown",
   "metadata": {},
   "source": [
    "## Challenge\n",
    "\n",
    "You will be expected to use Weights & Biases to try to tune your model during your module assignment today. "
   ]
  },
  {
   "cell_type": "markdown",
   "metadata": {},
   "source": [
    "# Hyperparameters with RandomSearchCV (Learn)"
   ]
  },
  {
   "cell_type": "markdown",
   "metadata": {},
   "source": [
    "## Overview\n",
    "\n",
    "Basically `GridSearchCV` takes forever. You'll want to adopt a slightly more sophiscated strategy."
   ]
  },
  {
   "cell_type": "markdown",
   "metadata": {},
   "source": [
    "## Follow Along"
   ]
  },
  {
   "cell_type": "code",
   "execution_count": 11,
   "metadata": {},
   "outputs": [],
   "source": [
    "sweep_config = {\n",
    "    'method': 'random',\n",
    "    'parameters': {\n",
    "        'learning_rate': {'distribution': 'normal'},\n",
    "        'epochs': {'distribution': 'uniform',\n",
    "                    'min': 100,\n",
    "                    'max': 1000},\n",
    "        'batch_size': {'distribution': 'uniform',\n",
    "            'min': 10,\n",
    "            'max': 400}\n",
    "    }\n",
    "}"
   ]
  },
  {
   "cell_type": "code",
   "execution_count": 12,
   "metadata": {},
   "outputs": [
    {
     "ename": "NameError",
     "evalue": "name 'wandb' is not defined",
     "output_type": "error",
     "traceback": [
      "\u001b[0;31m---------------------------------------------------------------------------\u001b[0m",
      "\u001b[0;31mNameError\u001b[0m                                 Traceback (most recent call last)",
      "\u001b[0;32m<ipython-input-12-37a67c0c766d>\u001b[0m in \u001b[0;36m<module>\u001b[0;34m\u001b[0m\n\u001b[0;32m----> 1\u001b[0;31m \u001b[0msweep_id\u001b[0m \u001b[0;34m=\u001b[0m \u001b[0mwandb\u001b[0m\u001b[0;34m.\u001b[0m\u001b[0msweep\u001b[0m\u001b[0;34m(\u001b[0m\u001b[0msweep_config\u001b[0m\u001b[0;34m)\u001b[0m\u001b[0;34m\u001b[0m\u001b[0;34m\u001b[0m\u001b[0m\n\u001b[0m",
      "\u001b[0;31mNameError\u001b[0m: name 'wandb' is not defined"
     ]
    }
   ],
   "source": [
    "sweep_id = wandb.sweep(sweep_config)"
   ]
  },
  {
   "cell_type": "code",
   "execution_count": 13,
   "metadata": {},
   "outputs": [
    {
     "ename": "ModuleNotFoundError",
     "evalue": "No module named 'wandb'",
     "output_type": "error",
     "traceback": [
      "\u001b[0;31m---------------------------------------------------------------------------\u001b[0m",
      "\u001b[0;31mModuleNotFoundError\u001b[0m                       Traceback (most recent call last)",
      "\u001b[0;32m<ipython-input-13-23dfe667f67c>\u001b[0m in \u001b[0;36m<module>\u001b[0;34m\u001b[0m\n\u001b[0;32m----> 1\u001b[0;31m \u001b[0;32mimport\u001b[0m \u001b[0mwandb\u001b[0m\u001b[0;34m\u001b[0m\u001b[0;34m\u001b[0m\u001b[0m\n\u001b[0m\u001b[1;32m      2\u001b[0m \u001b[0;32mfrom\u001b[0m \u001b[0mwandb\u001b[0m\u001b[0;34m.\u001b[0m\u001b[0mkeras\u001b[0m \u001b[0;32mimport\u001b[0m \u001b[0mWandbCallback\u001b[0m\u001b[0;34m\u001b[0m\u001b[0;34m\u001b[0m\u001b[0m\n\u001b[1;32m      3\u001b[0m \u001b[0;31m#Initializes and Experiment\u001b[0m\u001b[0;34m\u001b[0m\u001b[0;34m\u001b[0m\u001b[0;34m\u001b[0m\u001b[0m\n\u001b[1;32m      4\u001b[0m \u001b[0;34m\u001b[0m\u001b[0m\n\u001b[1;32m      5\u001b[0m \u001b[0;32mfrom\u001b[0m \u001b[0mtensorflow\u001b[0m\u001b[0;34m.\u001b[0m\u001b[0mkeras\u001b[0m\u001b[0;34m.\u001b[0m\u001b[0moptimizers\u001b[0m \u001b[0;32mimport\u001b[0m \u001b[0mAdam\u001b[0m\u001b[0;34m\u001b[0m\u001b[0;34m\u001b[0m\u001b[0m\n",
      "\u001b[0;31mModuleNotFoundError\u001b[0m: No module named 'wandb'"
     ]
    }
   ],
   "source": [
    "import wandb\n",
    "from wandb.keras import WandbCallback\n",
    "#Initializes and Experiment\n",
    "\n",
    "from tensorflow.keras.optimizers import Adam\n",
    "\n",
    "# Important Hyperparameters\n",
    "X =  x_train\n",
    "y =  y_train\n",
    "\n",
    "inputs = X.shape[1]\n",
    "\n",
    "def train():\n",
    "    \n",
    "    wandb.init(project=\"boston\", entity=\"lambda-ds7\") \n",
    "    \n",
    "    config = wandb.config\n",
    "\n",
    "    # Create Model\n",
    "    model = Sequential()\n",
    "    model.add(Dense(64, activation='relu', input_shape=(inputs,)))\n",
    "    model.add(Dense(64, activation='relu'))\n",
    "    model.add(Dense(64, activation='relu'))\n",
    "    model.add(Dense(1))\n",
    "\n",
    "    # Optimizer \n",
    "    adam = Adam(learning_rate=config.learning_rate)\n",
    "\n",
    "    # Compile Model\n",
    "    model.compile(optimizer=adam, loss='mse', metrics=['mse', 'mae'])\n",
    "\n",
    "    # Fit Model\n",
    "    model.fit(X, y, \n",
    "              validation_split=0.33, \n",
    "              epochs=config.epochs, \n",
    "              batch_size=config.batch_size, \n",
    "              callbacks=[WandbCallback()]\n",
    "             )"
   ]
  },
  {
   "cell_type": "code",
   "execution_count": null,
   "metadata": {},
   "outputs": [],
   "source": [
    "wandb.agent(sweep_id, function=train)"
   ]
  },
  {
   "cell_type": "markdown",
   "metadata": {},
   "source": [
    "## Challenge\n",
    "\n",
    "Try to apply RandomSearchCV to your module project today. "
   ]
  },
  {
   "cell_type": "markdown",
   "metadata": {},
   "source": [
    "# Review\n",
    "* <a href=\"#p1\">Part 1</a>: Describe the major hyperparemeters to tune\n",
    "    - Activation Functions\n",
    "    - Optimizer\n",
    "    - Number of Layers\n",
    "    - Number of Neurons\n",
    "    - Batch Size\n",
    "    - Dropout Regulaization\n",
    "    - Learning Rate\n",
    "    - Number of Epochs\n",
    "    - and many more\n",
    "* <a href=\"#p2\">Part 2</a>: Implement an experiment tracking framework\n",
    "    - Weights & Biases\n",
    "    - Comet.ml\n",
    "    - By Hand / GridSearch\n",
    "* <a href=\"#p3\">Part 3</a>: Search the hyperparameter space using RandomSearch\n",
    "    - Sklearn still useful (haha)\n",
    "    - Integration with Wieghts & Biases\n",
    "* <a href=\"#p4\">Part 4</a>: Discuss emerging hyperparameter tuning strategies\n",
    "    - Bayesian Optimization\n",
    "    - Hyperopt\n",
    "    - Genetic Evolution"
   ]
  },
  {
   "cell_type": "markdown",
   "metadata": {},
   "source": [
    "# Sources"
   ]
  },
  {
   "cell_type": "markdown",
   "metadata": {},
   "source": [
    "## Additional Reading\n",
    "- https://machinelearningmastery.com/grid-search-hyperparameters-deep-learning-models-python-keras/\n",
    "- https://blog.floydhub.com/guide-to-hyperparameters-search-for-deep-learning-models/\n",
    "- https://machinelearningmastery.com/dropout-regularization-deep-learning-models-keras/\n",
    "- https://machinelearningmastery.com/introduction-to-weight-constraints-to-reduce-generalization-error-in-deep-learning/\n",
    "- https://machinelearningmastery.com/how-to-configure-the-number-of-layers-and-nodes-in-a-neural-network/"
   ]
  }
 ],
 "metadata": {
  "kernelspec": {
   "display_name": "Python 3",
   "language": "python",
   "name": "python3"
  },
  "language_info": {
   "codemirror_mode": {
    "name": "ipython",
    "version": 3
   },
   "file_extension": ".py",
   "mimetype": "text/x-python",
   "name": "python",
   "nbconvert_exporter": "python",
   "pygments_lexer": "ipython3",
   "version": "3.7.3"
  }
 },
 "nbformat": 4,
 "nbformat_minor": 4
}
