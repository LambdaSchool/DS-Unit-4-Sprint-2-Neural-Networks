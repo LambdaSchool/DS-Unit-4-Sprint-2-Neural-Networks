{
 "cells": [
  {
   "cell_type": "markdown",
   "metadata": {
    "colab_type": "text",
    "id": "41TS0Sa0rDNx"
   },
   "source": [
    "Lambda School Data Science\n",
    "\n",
    "*Unit 4, Sprint 2, Module 4*\n",
    "\n",
    "---"
   ]
  },
  {
   "cell_type": "markdown",
   "metadata": {
    "colab_type": "text",
    "id": "41TS0Sa0rDNx"
   },
   "source": [
    "# Neural Networks & GPUs (Prepare)\n",
    "*aka Hyperparameter Tuning*\n",
    "\n",
    "*aka Big Servers for Big Problems*"
   ]
  },
  {
   "cell_type": "markdown",
   "metadata": {
    "colab_type": "text",
    "id": "41TS0Sa0rDNx"
   },
   "source": [
    "## Learning Objectives\n",
    "* <a href=\"#p1\">Part 1</a>: Describe the major hyperparemeters to tune\n",
    "* <a href=\"#p2\">Part 2</a>: Implement an experiment tracking framework\n",
    "* <a href=\"#p3\">Part 3</a>: Search the hyperparameter space using RandomSearch (Optional)"
   ]
  },
  {
   "cell_type": "code",
   "execution_count": 1,
   "metadata": {},
   "outputs": [],
   "source": [
    "wandb_group = \"ds8\"\n",
    "wandb_project = \"inclass\""
   ]
  },
  {
   "cell_type": "markdown",
   "metadata": {},
   "source": [
    "# Hyperparameter Options (Learn)\n",
    "<a id=\"p1\"></a>"
   ]
  },
  {
   "cell_type": "markdown",
   "metadata": {},
   "source": [
    "## Overview\n",
    "\n",
    "Hyperparameter tuning is much more important with neural networks than it has been with any other models that we have considered up to this point. Other supervised learning models might have a couple of parameters, but neural networks can have dozens. These can substantially affect the accuracy of our models and although it can be a time consuming process is a necessary step when working with neural networks.\n",
    "​\n",
    "Hyperparameter tuning comes with a challenge. How can we compare models specified with different hyperparameters if our model's final error metric can vary somewhat erratically? How do we avoid just getting unlucky and selecting the wrong hyperparameter? This is a problem that to a certain degree we just have to live with as we test and test again. However, we can minimize it somewhat by pairing our experiments with Cross Validation to reduce the variance of our final accuracy values."
   ]
  },
  {
   "cell_type": "markdown",
   "metadata": {
    "colab_type": "text",
    "id": "0s0o2pqBs88q"
   },
   "source": [
    "### Load Boston Housing Data"
   ]
  },
  {
   "cell_type": "code",
   "execution_count": 2,
   "metadata": {},
   "outputs": [
    {
     "name": "stdout",
     "output_type": "stream",
     "text": "Downloading data from https://storage.googleapis.com/tensorflow/tf-keras-datasets/boston_housing.npz\n57344/57026 [==============================] - 0s 1us/step\n"
    }
   ],
   "source": [
    "from tensorflow.keras.datasets import boston_housing\n",
    "\n",
    "(x_train, y_train), (x_test, y_test) = boston_housing.load_data()"
   ]
  },
  {
   "cell_type": "markdown",
   "metadata": {
    "colab_type": "text",
    "id": "Pm7zow5IvaTt"
   },
   "source": [
    "### Normalizing Input Data\n",
    "\n",
    "It's not 100% necessary to normalize/scale your input data before feeding it to a neural network, the network can learn the appropriate weights to deal with data of as long as it is numerically represented,  but it is recommended as it can help **make training faster** and **reduces the chances that gradient descent might get stuck in a local optimum**.\n",
    "\n",
    "<https://stackoverflow.com/questions/4674623/why-do-we-have-to-normalize-the-input-for-an-artificial-neural-network>"
   ]
  },
  {
   "cell_type": "code",
   "execution_count": 3,
   "metadata": {},
   "outputs": [
    {
     "name": "stdout",
     "output_type": "stream",
     "text": "[[-0.27224633 -0.48361547 -0.43576161 -0.25683275 -0.1652266  -0.1764426\n   0.81306188  0.1166983  -0.62624905 -0.59517003  1.14850044  0.44807713\n   0.8252202 ]\n [-0.40342651  2.99178419 -1.33391162 -0.25683275 -1.21518188  1.89434613\n  -1.91036058  1.24758524 -0.85646254 -0.34843254 -1.71818909  0.43190599\n  -1.32920239]\n [ 0.1249402  -0.48361547  1.0283258  -0.25683275  0.62864202 -1.82968811\n   1.11048828 -1.18743907  1.67588577  1.5652875   0.78447637  0.22061726\n  -1.30850006]\n [-0.40149354 -0.48361547 -0.86940196 -0.25683275 -0.3615597  -0.3245576\n  -1.23667187  1.10717989 -0.51114231 -1.094663    0.78447637  0.44807713\n  -0.65292624]\n [-0.0056343  -0.48361547  1.0283258  -0.25683275  1.32861221  0.15364225\n   0.69480801 -0.57857203  1.67588577  1.5652875   0.78447637  0.3898823\n   0.26349695]\n [-0.37502238 -0.48361547 -0.54747912 -0.25683275 -0.54935658 -0.78865126\n   0.18954148  0.48371503 -0.51114231 -0.71552978  0.51145832  0.38669063\n  -0.13812828]\n [ 0.58963463 -0.48361547  1.0283258  -0.25683275  1.21764133 -1.03127774\n   1.11048828 -1.06518235  1.67588577  1.5652875   0.78447637  0.44807713\n   1.49873604]\n [ 0.0381708  -0.48361547  1.24588095 -0.25683275  2.67733525 -1.12719983\n   1.11048828 -1.14833073 -0.51114231 -0.01744323 -1.71818909  0.44807713\n   1.88793986]\n [-0.17228416 -0.48361547  1.24588095 -0.25683275  2.67733525 -0.90150078\n   1.11048828 -1.09664657 -0.51114231 -0.01744323 -1.71818909 -1.97365769\n   0.53952803]\n [-0.22932104 -0.48361547  1.58544339 -0.25683275  0.56888847 -1.76056777\n   1.11048828 -1.13471925 -0.62624905  0.18716835  1.23950646  0.44807713\n   2.99068404]]\n"
    }
   ],
   "source": [
    "from sklearn.preprocessing import StandardScaler\n",
    "\n",
    "scaler = StandardScaler()\n",
    "\n",
    "x_train = scaler.fit_transform(x_train)\n",
    "x_test = scaler.transform(x_test)\n",
    "print(x_train[:10])"
   ]
  },
  {
   "cell_type": "markdown",
   "metadata": {
    "colab_type": "text",
    "id": "l6hgCWbir90R"
   },
   "source": [
    "### Model Validation using an automatic verification Dataset\n",
    "\n",
    "Instead of doing seperate train test split class, Keras has a really nice feature that you can set the validation.data argument when fitting your model and Keras will take that portion of your test data and use it as a validation dataset. "
   ]
  },
  {
   "cell_type": "code",
   "execution_count": 5,
   "metadata": {},
   "outputs": [
    {
     "name": "stdout",
     "output_type": "stream",
     "text": "Train on 404 samples, validate on 102 samples\nEpoch 1/75\n404/404 [==============================] - 0s 847us/sample - loss: 512.1593 - mse: 512.1592 - mae: 20.6851 - val_loss: 420.2534 - val_mse: 420.2534 - val_mae: 18.6533\nEpoch 2/75\n404/404 [==============================] - 0s 139us/sample - loss: 255.4734 - mse: 255.4734 - mae: 13.7147 - val_loss: 119.6054 - val_mse: 119.6054 - val_mae: 8.9218\nEpoch 3/75\n404/404 [==============================] - 0s 158us/sample - loss: 71.7699 - mse: 71.7699 - mae: 6.2800 - val_loss: 50.2891 - val_mse: 50.2891 - val_mae: 5.5247\nEpoch 4/75\n404/404 [==============================] - 0s 136us/sample - loss: 35.0187 - mse: 35.0187 - mae: 4.1985 - val_loss: 30.4642 - val_mse: 30.4642 - val_mae: 4.3369\nEpoch 5/75\n404/404 [==============================] - 0s 146us/sample - loss: 24.5024 - mse: 24.5024 - mae: 3.4129 - val_loss: 25.8165 - val_mse: 25.8165 - val_mae: 3.9517\nEpoch 6/75\n404/404 [==============================] - 0s 134us/sample - loss: 21.1994 - mse: 21.1994 - mae: 3.2473 - val_loss: 24.1559 - val_mse: 24.1559 - val_mae: 3.7412\nEpoch 7/75\n404/404 [==============================] - 0s 163us/sample - loss: 18.7626 - mse: 18.7626 - mae: 2.9778 - val_loss: 22.6583 - val_mse: 22.6583 - val_mae: 3.5126\nEpoch 8/75\n404/404 [==============================] - 0s 141us/sample - loss: 17.3085 - mse: 17.3085 - mae: 2.8685 - val_loss: 22.3756 - val_mse: 22.3756 - val_mae: 3.4323\nEpoch 9/75\n404/404 [==============================] - 0s 141us/sample - loss: 15.9770 - mse: 15.9770 - mae: 2.7503 - val_loss: 22.2316 - val_mse: 22.2316 - val_mae: 3.3743\nEpoch 10/75\n404/404 [==============================] - 0s 134us/sample - loss: 14.7261 - mse: 14.7261 - mae: 2.6721 - val_loss: 22.4352 - val_mse: 22.4352 - val_mae: 3.3262\nEpoch 11/75\n404/404 [==============================] - 0s 144us/sample - loss: 13.7915 - mse: 13.7915 - mae: 2.5790 - val_loss: 22.4023 - val_mse: 22.4023 - val_mae: 3.2816\nEpoch 12/75\n404/404 [==============================] - 0s 168us/sample - loss: 13.0862 - mse: 13.0862 - mae: 2.4998 - val_loss: 22.4831 - val_mse: 22.4831 - val_mae: 3.2566\nEpoch 13/75\n404/404 [==============================] - 0s 131us/sample - loss: 12.5100 - mse: 12.5100 - mae: 2.4451 - val_loss: 22.3901 - val_mse: 22.3901 - val_mae: 3.2047\nEpoch 14/75\n404/404 [==============================] - 0s 146us/sample - loss: 11.8592 - mse: 11.8592 - mae: 2.4052 - val_loss: 22.8397 - val_mse: 22.8397 - val_mae: 3.1745\nEpoch 15/75\n404/404 [==============================] - 0s 158us/sample - loss: 11.3009 - mse: 11.3009 - mae: 2.3412 - val_loss: 22.8958 - val_mse: 22.8958 - val_mae: 3.2333\nEpoch 16/75\n404/404 [==============================] - 0s 163us/sample - loss: 11.1525 - mse: 11.1525 - mae: 2.2962 - val_loss: 24.0014 - val_mse: 24.0014 - val_mae: 3.2147\nEpoch 17/75\n404/404 [==============================] - 0s 149us/sample - loss: 10.8803 - mse: 10.8803 - mae: 2.3226 - val_loss: 23.6833 - val_mse: 23.6833 - val_mae: 3.2109\nEpoch 18/75\n404/404 [==============================] - 0s 154us/sample - loss: 10.6720 - mse: 10.6720 - mae: 2.2826 - val_loss: 23.6947 - val_mse: 23.6947 - val_mae: 3.1631\nEpoch 19/75\n404/404 [==============================] - 0s 136us/sample - loss: 10.2961 - mse: 10.2961 - mae: 2.2561 - val_loss: 22.8077 - val_mse: 22.8077 - val_mae: 3.0878\nEpoch 20/75\n404/404 [==============================] - 0s 131us/sample - loss: 10.2597 - mse: 10.2597 - mae: 2.2458 - val_loss: 23.1718 - val_mse: 23.1718 - val_mae: 3.1564\nEpoch 21/75\n404/404 [==============================] - 0s 156us/sample - loss: 10.3205 - mse: 10.3205 - mae: 2.2333 - val_loss: 22.7872 - val_mse: 22.7872 - val_mae: 3.0549\nEpoch 22/75\n404/404 [==============================] - 0s 134us/sample - loss: 10.0703 - mse: 10.0703 - mae: 2.2410 - val_loss: 24.2367 - val_mse: 24.2367 - val_mae: 3.1702\nEpoch 23/75\n404/404 [==============================] - 0s 149us/sample - loss: 9.6746 - mse: 9.6746 - mae: 2.1789 - val_loss: 24.3472 - val_mse: 24.3472 - val_mae: 3.2471\nEpoch 24/75\n404/404 [==============================] - 0s 131us/sample - loss: 9.4741 - mse: 9.4741 - mae: 2.1754 - val_loss: 22.1083 - val_mse: 22.1083 - val_mae: 3.0059\nEpoch 25/75\n404/404 [==============================] - 0s 136us/sample - loss: 9.3612 - mse: 9.3612 - mae: 2.1281 - val_loss: 22.1251 - val_mse: 22.1251 - val_mae: 3.0637\nEpoch 26/75\n404/404 [==============================] - 0s 129us/sample - loss: 9.4537 - mse: 9.4537 - mae: 2.1630 - val_loss: 23.0225 - val_mse: 23.0225 - val_mae: 3.0874\nEpoch 27/75\n404/404 [==============================] - 0s 158us/sample - loss: 9.3226 - mse: 9.3226 - mae: 2.1372 - val_loss: 22.1565 - val_mse: 22.1565 - val_mae: 2.9628\nEpoch 28/75\n404/404 [==============================] - 0s 126us/sample - loss: 9.3247 - mse: 9.3247 - mae: 2.1242 - val_loss: 24.0372 - val_mse: 24.0372 - val_mae: 3.0959\nEpoch 29/75\n404/404 [==============================] - 0s 131us/sample - loss: 8.9087 - mse: 8.9087 - mae: 2.1080 - val_loss: 22.7245 - val_mse: 22.7245 - val_mae: 3.0051\nEpoch 30/75\n404/404 [==============================] - 0s 161us/sample - loss: 8.7641 - mse: 8.7641 - mae: 2.0723 - val_loss: 21.9570 - val_mse: 21.9570 - val_mae: 2.9926\nEpoch 31/75\n404/404 [==============================] - 0s 154us/sample - loss: 8.7079 - mse: 8.7079 - mae: 2.0617 - val_loss: 23.4421 - val_mse: 23.4421 - val_mae: 3.0829\nEpoch 32/75\n404/404 [==============================] - 0s 143us/sample - loss: 8.8083 - mse: 8.8083 - mae: 2.0693 - val_loss: 23.6440 - val_mse: 23.6440 - val_mae: 2.9758\nEpoch 33/75\n404/404 [==============================] - 0s 141us/sample - loss: 8.6766 - mse: 8.6766 - mae: 2.1199 - val_loss: 20.5359 - val_mse: 20.5359 - val_mae: 2.8701\nEpoch 34/75\n404/404 [==============================] - 0s 139us/sample - loss: 8.8169 - mse: 8.8169 - mae: 2.1196 - val_loss: 21.6994 - val_mse: 21.6994 - val_mae: 2.8580\nEpoch 35/75\n404/404 [==============================] - 0s 131us/sample - loss: 8.5122 - mse: 8.5122 - mae: 2.0549 - val_loss: 22.1794 - val_mse: 22.1794 - val_mae: 2.9339\nEpoch 36/75\n404/404 [==============================] - 0s 161us/sample - loss: 8.3635 - mse: 8.3635 - mae: 2.0318 - val_loss: 21.5496 - val_mse: 21.5496 - val_mae: 2.8945\nEpoch 37/75\n404/404 [==============================] - 0s 135us/sample - loss: 8.3556 - mse: 8.3556 - mae: 2.0006 - val_loss: 23.4487 - val_mse: 23.4487 - val_mae: 3.0560\nEpoch 38/75\n404/404 [==============================] - 0s 158us/sample - loss: 8.1060 - mse: 8.1060 - mae: 2.0202 - val_loss: 22.4902 - val_mse: 22.4902 - val_mae: 2.9667\nEpoch 39/75\n404/404 [==============================] - 0s 151us/sample - loss: 8.0789 - mse: 8.0789 - mae: 2.0292 - val_loss: 20.5480 - val_mse: 20.5480 - val_mae: 2.8488\nEpoch 40/75\n404/404 [==============================] - 0s 131us/sample - loss: 8.1175 - mse: 8.1175 - mae: 2.0277 - val_loss: 21.7904 - val_mse: 21.7904 - val_mae: 2.8956\nEpoch 41/75\n404/404 [==============================] - 0s 131us/sample - loss: 7.8323 - mse: 7.8323 - mae: 1.9736 - val_loss: 21.1446 - val_mse: 21.1446 - val_mae: 2.8855\nEpoch 42/75\n404/404 [==============================] - 0s 153us/sample - loss: 7.7418 - mse: 7.7418 - mae: 1.9590 - val_loss: 20.7495 - val_mse: 20.7495 - val_mae: 2.8245\nEpoch 43/75\n404/404 [==============================] - 0s 139us/sample - loss: 7.7291 - mse: 7.7291 - mae: 1.9578 - val_loss: 22.0523 - val_mse: 22.0523 - val_mae: 3.0856\nEpoch 44/75\n404/404 [==============================] - 0s 158us/sample - loss: 7.9886 - mse: 7.9886 - mae: 1.9687 - val_loss: 20.7338 - val_mse: 20.7338 - val_mae: 2.8695\nEpoch 45/75\n404/404 [==============================] - 0s 149us/sample - loss: 7.7665 - mse: 7.7665 - mae: 1.9852 - val_loss: 21.7509 - val_mse: 21.7509 - val_mae: 2.9464\nEpoch 46/75\n404/404 [==============================] - 0s 134us/sample - loss: 7.6397 - mse: 7.6397 - mae: 1.9266 - val_loss: 21.0171 - val_mse: 21.0171 - val_mae: 2.8722\nEpoch 47/75\n404/404 [==============================] - 0s 139us/sample - loss: 7.8142 - mse: 7.8142 - mae: 1.9806 - val_loss: 20.2728 - val_mse: 20.2728 - val_mae: 2.8907\nEpoch 48/75\n404/404 [==============================] - 0s 141us/sample - loss: 7.4300 - mse: 7.4300 - mae: 1.9188 - val_loss: 21.6872 - val_mse: 21.6872 - val_mae: 2.9062\nEpoch 49/75\n404/404 [==============================] - 0s 142us/sample - loss: 7.3925 - mse: 7.3925 - mae: 1.8956 - val_loss: 20.6396 - val_mse: 20.6396 - val_mae: 2.7532\nEpoch 50/75\n404/404 [==============================] - 0s 136us/sample - loss: 7.3316 - mse: 7.3316 - mae: 1.8944 - val_loss: 20.5610 - val_mse: 20.5610 - val_mae: 2.8249\nEpoch 51/75\n404/404 [==============================] - 0s 146us/sample - loss: 7.2049 - mse: 7.2049 - mae: 1.8803 - val_loss: 21.4808 - val_mse: 21.4808 - val_mae: 2.8910\nEpoch 52/75\n404/404 [==============================] - 0s 149us/sample - loss: 7.4210 - mse: 7.4210 - mae: 1.9338 - val_loss: 19.3896 - val_mse: 19.3896 - val_mae: 2.6842\nEpoch 53/75\n404/404 [==============================] - 0s 178us/sample - loss: 7.4220 - mse: 7.4220 - mae: 1.9492 - val_loss: 20.5567 - val_mse: 20.5567 - val_mae: 2.9993\nEpoch 54/75\n404/404 [==============================] - 0s 161us/sample - loss: 6.8131 - mse: 6.8131 - mae: 1.8152 - val_loss: 21.7980 - val_mse: 21.7980 - val_mae: 2.8421\nEpoch 55/75\n404/404 [==============================] - 0s 151us/sample - loss: 7.0626 - mse: 7.0626 - mae: 1.9238 - val_loss: 20.1804 - val_mse: 20.1804 - val_mae: 2.8250\nEpoch 56/75\n404/404 [==============================] - 0s 144us/sample - loss: 7.0564 - mse: 7.0564 - mae: 1.8621 - val_loss: 20.4874 - val_mse: 20.4874 - val_mae: 2.8242\nEpoch 57/75\n404/404 [==============================] - 0s 156us/sample - loss: 6.7169 - mse: 6.7169 - mae: 1.8020 - val_loss: 21.0582 - val_mse: 21.0582 - val_mae: 2.8982\nEpoch 58/75\n404/404 [==============================] - 0s 131us/sample - loss: 6.7573 - mse: 6.7573 - mae: 1.8224 - val_loss: 19.4096 - val_mse: 19.4096 - val_mae: 2.7548\nEpoch 59/75\n404/404 [==============================] - 0s 134us/sample - loss: 6.7113 - mse: 6.7113 - mae: 1.8234 - val_loss: 20.3737 - val_mse: 20.3737 - val_mae: 2.7978\nEpoch 60/75\n404/404 [==============================] - 0s 164us/sample - loss: 6.6071 - mse: 6.6071 - mae: 1.8176 - val_loss: 20.6350 - val_mse: 20.6350 - val_mae: 2.8727\nEpoch 61/75\n404/404 [==============================] - 0s 129us/sample - loss: 6.7331 - mse: 6.7331 - mae: 1.8066 - val_loss: 20.2444 - val_mse: 20.2444 - val_mae: 2.8340\nEpoch 62/75\n404/404 [==============================] - 0s 149us/sample - loss: 6.4733 - mse: 6.4733 - mae: 1.7970 - val_loss: 19.6099 - val_mse: 19.6099 - val_mae: 2.7394\nEpoch 63/75\n404/404 [==============================] - 0s 144us/sample - loss: 6.4291 - mse: 6.4291 - mae: 1.7774 - val_loss: 19.9904 - val_mse: 19.9904 - val_mae: 2.8179\nEpoch 64/75\n404/404 [==============================] - 0s 131us/sample - loss: 6.3687 - mse: 6.3687 - mae: 1.7734 - val_loss: 20.0569 - val_mse: 20.0569 - val_mae: 2.8423\nEpoch 65/75\n404/404 [==============================] - 0s 149us/sample - loss: 6.1362 - mse: 6.1362 - mae: 1.7405 - val_loss: 21.2846 - val_mse: 21.2846 - val_mae: 2.8341\nEpoch 66/75\n404/404 [==============================] - 0s 131us/sample - loss: 6.3884 - mse: 6.3884 - mae: 1.7837 - val_loss: 19.3488 - val_mse: 19.3488 - val_mae: 2.7361\nEpoch 67/75\n404/404 [==============================] - 0s 126us/sample - loss: 6.0732 - mse: 6.0732 - mae: 1.7390 - val_loss: 21.1912 - val_mse: 21.1912 - val_mae: 2.8817\nEpoch 68/75\n404/404 [==============================] - 0s 129us/sample - loss: 6.1360 - mse: 6.1360 - mae: 1.7278 - val_loss: 19.9799 - val_mse: 19.9799 - val_mae: 2.9653\nEpoch 69/75\n404/404 [==============================] - 0s 132us/sample - loss: 6.0742 - mse: 6.0742 - mae: 1.7419 - val_loss: 19.4062 - val_mse: 19.4062 - val_mae: 2.7656\nEpoch 70/75\n404/404 [==============================] - 0s 149us/sample - loss: 6.2425 - mse: 6.2425 - mae: 1.7481 - val_loss: 19.5825 - val_mse: 19.5825 - val_mae: 2.7817\nEpoch 71/75\n404/404 [==============================] - 0s 126us/sample - loss: 5.8800 - mse: 5.8800 - mae: 1.7056 - val_loss: 19.8188 - val_mse: 19.8188 - val_mae: 2.7639\nEpoch 72/75\n404/404 [==============================] - 0s 156us/sample - loss: 5.8029 - mse: 5.8029 - mae: 1.7096 - val_loss: 18.0201 - val_mse: 18.0201 - val_mae: 2.6935\nEpoch 73/75\n404/404 [==============================] - 0s 131us/sample - loss: 6.0581 - mse: 6.0581 - mae: 1.7604 - val_loss: 19.1170 - val_mse: 19.1170 - val_mae: 2.7984\nEpoch 74/75\n404/404 [==============================] - 0s 124us/sample - loss: 5.7576 - mse: 5.7576 - mae: 1.7013 - val_loss: 17.6769 - val_mse: 17.6769 - val_mae: 2.6514\nEpoch 75/75\n404/404 [==============================] - 0s 155us/sample - loss: 5.8981 - mse: 5.8981 - mae: 1.6985 - val_loss: 18.2793 - val_mse: 18.2793 - val_mae: 2.7182\n"
    },
    {
     "data": {
      "text/plain": "<tensorflow.python.keras.callbacks.History at 0x24e6f99b888>"
     },
     "execution_count": 5,
     "metadata": {},
     "output_type": "execute_result"
    }
   ],
   "source": [
    "from tensorflow import keras\n",
    "from tensorflow.keras.models import Sequential\n",
    "from tensorflow.keras.layers import Dense\n",
    "\n",
    "# Important Hyperparameters\n",
    "inputs = x_train.shape[1]\n",
    "epochs = 75\n",
    "batch_size = 10\n",
    "\n",
    "\n",
    "# Create Model\n",
    "model = Sequential()\n",
    "model.add(Dense(64, activation='relu', input_shape=(inputs,)))\n",
    "model.add(Dense(64, activation='relu'))\n",
    "model.add(Dense(1))\n",
    "\n",
    "# Compile Model\n",
    "model.compile(optimizer='adam', loss='mse', metrics=['mse', 'mae'])\n",
    "\n",
    "# Fit Model\n",
    "model.fit(x_train, y_train, \n",
    "          validation_data=(x_test,y_test), \n",
    "          epochs=epochs, \n",
    "          batch_size=batch_size\n",
    "         )"
   ]
  },
  {
   "cell_type": "markdown",
   "metadata": {
    "colab_type": "text",
    "id": "sYJ8t_ezHP4W"
   },
   "source": [
    "### Hyperparameter Tuning Approaches:\n",
    "\n",
    "#### 1) Babysitting AKA \"Grad Student Descent\".\n",
    "\n",
    "If you fiddled with any hyperparameters yesterday, this is basically what you did. This approach is 100% manual and is pretty common among researchers where finding that 1 exact specification that jumps your model to a level of accuracy never seen before is the difference between publishing and not publishing a paper. Of course the professors don't do this themselves, that's grunt work. This is also known as the fiddle with hyperparameters until you run out of time method.\n",
    "\n",
    "#### 2) Grid Search\n",
    "\n",
    "Grid Search is the Grad Student galaxy brain realization of: why don't I just specify all the experiments I want to run and let the computer try every possible combination of them while I go and grab lunch. This has a specific downside in that if I specify 5 hyperparameters with 5 options each then I've just created 5^5 combinations of hyperparameters to check. Which means that I have to train 3125 different versions of my model Then if I use 5-fold Cross Validation on that then my model has to run 15,525 times. This is the brute-force method of hyperparameter tuning, but it can be very profitable if done wisely. \n",
    "\n",
    "When using Grid Search here's what I suggest: don't use it to test combinations of different hyperparameters, only use it to test different specifications of **a single** hyperparameter. It's rare that combinations between different hyperparameters lead to big performance gains. You'll get 90-95% of the way there if you just Grid Search one parameter and take the best result, then retain that best result while you test another, and then retain the best specification from that while you train another. This at least makes the situation much more manageable and leads to pretty good results. \n",
    "\n",
    "#### 3) Random Search\n",
    "\n",
    "Do Grid Search for a couple of hours and you'll say to yourself - \"There's got to be a better way.\" Enter Random Search. For Random search you specify a hyperparameter space and it picks specifications from that randomly, tries them out, gives you the best results and says - That's going to have to be good enough, go home and spend time with your family. \n",
    "\n",
    "Grid Search treats every parameter as if it was equally important, but this just isn't the case, some are known to move the needle a lot more than others (we'll talk about that in a minute). Random Search allows searching to be specified along the most important parameter and experiments less along the dimensions of less important hyperparameters. The downside of Random search is that it won't find the absolute best hyperparameters, but it is much less costly to perform than Grid Search. \n",
    "\n",
    "#### 4) Bayesian Methods\n",
    "\n",
    "One thing that can make more manual methods like babysitting and gridsearch effective is that as the experimenter sees results he can then make updates to his future searches taking into account the results of past specifications. If only we could hyperparameter tune our hyperparameter tuning. Well, we kind of can. Enter Bayesian Optimization. Neural Networks are like an optimization problem within an optimization problem, and Bayesian Optimization is a search strategy that tries to take into account the results of past searches in order to improve future ones. This is the most advanced method but can be a little bit tricky to implement, but there are some early steps with `hyperas` which is Bayesian optimization wrapper for `keras`. "
   ]
  },
  {
   "cell_type": "markdown",
   "metadata": {
    "colab_type": "text",
    "id": "HfQ7D043OMMn"
   },
   "source": [
    "## What Hyperparameters are there to test?\n",
    "\n",
    "- batch_size\n",
    "- training epochs\n",
    "- optimization algorithms\n",
    "- learning rate\n",
    "- momentum\n",
    "- activation functions\n",
    "- dropout regularization\n",
    "- number of neurons in the hidden layer\n",
    "\n",
    "There are more, but these are the most important."
   ]
  },
  {
   "cell_type": "markdown",
   "metadata": {},
   "source": [
    "## Follow Along"
   ]
  },
  {
   "cell_type": "markdown",
   "metadata": {
    "colab_type": "text",
    "id": "Mri5-kXzVKAa"
   },
   "source": [
    "## Batch Size\n",
    "\n",
    "Batch size determines how many observations the model is shown before it calculates loss/error and updates the model weights via gradient descent. You're looking for a sweet spot here where you're showing it enough observations that you have enough information to updates the weights, but not such a large batch size that you don't get a lot of weight update iterations performed in a given epoch. Feed-forward Neural Networks aren't as sensitive to bach_size as other networks, but it is still an important hyperparameter to tune. Smaller batch sizes will also take longer to train. "
   ]
  },
  {
   "cell_type": "code",
   "execution_count": 9,
   "metadata": {},
   "outputs": [
    {
     "name": "stdout",
     "output_type": "stream",
     "text": "Best: 0.6563279867172241 using {'batch_size': 40, 'epochs': 20}\nMeans: 0.6549019694328309, Stdev: 0.02561306170515787 with: {'batch_size': 10, 'epochs': 20}\nMeans: 0.6158645272254943, Stdev: 0.04502356570025502 with: {'batch_size': 20, 'epochs': 20}\nMeans: 0.6563279867172241, Stdev: 0.039587915326717335 with: {'batch_size': 40, 'epochs': 20}\nMeans: 0.5990238547325134, Stdev: 0.04147714429291874 with: {'batch_size': 60, 'epochs': 20}\nMeans: 0.5975808441638947, Stdev: 0.07715262147726341 with: {'batch_size': 80, 'epochs': 20}\nMeans: 0.5260928690433502, Stdev: 0.07536847544772064 with: {'batch_size': 100, 'epochs': 20}\n"
    }
   ],
   "source": [
    "import numpy\n",
    "import pandas as pd\n",
    "from sklearn.model_selection import GridSearchCV\n",
    "from tensorflow.keras.models import Sequential\n",
    "from tensorflow.keras.layers import Dense\n",
    "from tensorflow.keras.wrappers.scikit_learn import KerasClassifier\n",
    "\n",
    "# fix random seed for reproducibility\n",
    "seed = 7\n",
    "numpy.random.seed(seed)\n",
    "\n",
    "# load dataset\n",
    "url =\"https://raw.githubusercontent.com/jbrownlee/Datasets/master/pima-indians-diabetes.data.csv\"\n",
    "\n",
    "dataset = pd.read_csv(url, header=None).values\n",
    "\n",
    "# split into input (X) and output (Y) variables\n",
    "X = dataset[:,0:8]\n",
    "Y = dataset[:,8]\n",
    "\n",
    "# Function to create model, required for KerasClassifier\n",
    "def create_model():\n",
    "    # create model\n",
    "    model = Sequential()\n",
    "    model.add(Dense(12, input_dim=8, activation='relu'))\n",
    "    model.add(Dense(1, activation='sigmoid'))\n",
    "    # Compile model\n",
    "    model.compile(loss='binary_crossentropy', optimizer='adam', metrics=['accuracy'])\n",
    "    return model\n",
    "\n",
    "# create model\n",
    "model = KerasClassifier(build_fn=create_model, verbose=0)\n",
    "\n",
    "# define the grid search parameters\n",
    "# batch_size = [10, 20, 40, 60, 80, 100]\n",
    "# param_grid = dict(batch_size=batch_size, epochs=epochs)\n",
    "\n",
    "# define the grid search parameters\n",
    "param_grid = {'batch_size': [10, 20, 40, 60, 80, 100],\n",
    "              'epochs': [20]}\n",
    "\n",
    "# Create Grid Search\n",
    "grid = GridSearchCV(estimator=model, param_grid=param_grid, n_jobs=1)\n",
    "grid_result = grid.fit(X, Y)\n",
    "\n",
    "# Report Results\n",
    "print(f\"Best: {grid_result.best_score_} using {grid_result.best_params_}\")\n",
    "means = grid_result.cv_results_['mean_test_score']\n",
    "stds = grid_result.cv_results_['std_test_score']\n",
    "params = grid_result.cv_results_['params']\n",
    "for mean, stdev, param in zip(means, stds, params):\n",
    "    print(f\"Means: {mean}, Stdev: {stdev} with: {param}\") "
   ]
  },
  {
   "cell_type": "code",
   "execution_count": null,
   "metadata": {},
   "outputs": [],
   "source": []
  },
  {
   "cell_type": "markdown",
   "metadata": {
    "colab_type": "text",
    "id": "pmABfjlvXbqi"
   },
   "source": [
    "## Epochs\n",
    "\n",
    "The number of training epochs has a large and direct affect on the accuracy, However, more epochs is almost always goign to better than less epochs. This means that if you tune this parameter at the beginning and try and maintain the same value all throughout your training, you're going to be waiting a long time for each iteration of GridSearch. I suggest picking a fixed moderat # of epochs all throughout your training and then Grid Searching this parameter at the very end. "
   ]
  },
  {
   "cell_type": "code",
   "execution_count": 12,
   "metadata": {},
   "outputs": [
    {
     "name": "stdout",
     "output_type": "stream",
     "text": "Best: 0.7435616731643677 using {'batch_size': 20, 'epochs': 300}\nMeans: 0.6223750114440918, Stdev: 0.0457667167517659 with: {'batch_size': 20, 'epochs': 20}\nMeans: 0.6666666746139527, Stdev: 0.030124682571959382 with: {'batch_size': 20, 'epochs': 40}\nMeans: 0.705687141418457, Stdev: 0.028145563381361937 with: {'batch_size': 20, 'epochs': 60}\nMeans: 0.7435616731643677, Stdev: 0.035000281803829976 with: {'batch_size': 20, 'epochs': 300}\n"
    }
   ],
   "source": [
    "# define the grid search parameters\n",
    "param_grid = {'batch_size': [20],\n",
    "              'epochs': [20, 40, 60, 300]}\n",
    "\n",
    "# Create Grid Search\n",
    "grid = GridSearchCV(estimator=model, param_grid=param_grid, n_jobs=1)\n",
    "grid_result = grid.fit(X, Y)\n",
    "\n",
    "# Report Results\n",
    "print(f\"Best: {grid_result.best_score_} using {grid_result.best_params_}\")\n",
    "means = grid_result.cv_results_['mean_test_score']\n",
    "stds = grid_result.cv_results_['std_test_score']\n",
    "params = grid_result.cv_results_['params']\n",
    "for mean, stdev, param in zip(means, stds, params):\n",
    "    print(f\"Means: {mean}, Stdev: {stdev} with: {param}\")"
   ]
  },
  {
   "cell_type": "markdown",
   "metadata": {
    "colab_type": "text",
    "id": "EKcuY6OiaLfz"
   },
   "source": [
    "## Optimizer\n",
    "\n",
    "Remember that there's a different optimizers [optimizers](https://keras.io/optimizers/). At some point, take some time to read up on them a little bit. \"adam\" usually gives the best results. The thing to know about choosing an optimizer is that different optimizers have different hyperparameters like learning rate, momentum, etc. So based on the optimizer you choose you might also have to tune the learning rate and momentum of those optimizers after that. "
   ]
  },
  {
   "cell_type": "markdown",
   "metadata": {
    "colab_type": "text",
    "id": "DG3wq5iOaLig"
   },
   "source": [
    "## Learning Rate\n",
    "\n",
    "Remember that the Learning Rate is a hyperparameter that is specific to your gradient-descent based optimizer selection. A learning rate that is too high will cause divergent behavior, but a Learning Rate that is too low will fail to converge, again, you're looking for the sweet spot. I would start out tuning learning rates by orders of magnitude: [.001, .01, .1, .2, .3, .5] etc. I wouldn't go above .5, but you can try it and see what the behavior is like. \n",
    "\n",
    "Once you have narrowed it down, make the window even smaller and try it again. If after running the above specification your model reports that .1 is the best optimizer, then you should probably try things like [.05, .08, .1, .12, .15] to try and narrow it down. \n",
    "\n",
    "It can also be good to tune the number of epochs in combination with the learning rate since the number of iterations that you allow the learning rate to reach the minimum can determine if you have let it run long enough to converge to the minimum. "
   ]
  },
  {
   "cell_type": "markdown",
   "metadata": {
    "colab_type": "text",
    "id": "gNTBUWd1aLlA"
   },
   "source": [
    "## Momentum\n",
    "\n",
    "Momentum is a hyperparameter that is more commonly associated with Stochastic Gradient Descent. SGD is a common optimizer because it's what people understand and know, but I doubt it will get you the best results, you can try hyperparameter tuning its attributes and see if you can beat the performance from adam. Momentum is a property that decides the willingness of an optimizer to overshoot the minimum. Imagine a ball rolling down one side of a bowl and then up the opposite side a little bit before settling back to the bottom. The purpose of momentum is to try and escale local minima."
   ]
  },
  {
   "cell_type": "markdown",
   "metadata": {
    "colab_type": "text",
    "id": "xnEG-bCJaLnZ"
   },
   "source": [
    "## Activation Functions\n",
    "\n",
    "We've talked about this a little bit, typically you'l want to use ReLU for hidden layers and either Sigmoid, or Softmax for output layers of binary and multi-class classification implementations respectively, but try other activation functions and see if you can get any better results with sigmoid or tanh or something. There are a lot of activation functions that we haven't really talked about. Maybe you'll get good results with them. Maybe you won't. :) <https://keras.io/activations/>"
   ]
  },
  {
   "cell_type": "markdown",
   "metadata": {
    "colab_type": "text",
    "id": "oul9sPq-dU-h"
   },
   "source": [
    "## Network Weight Initialization\n",
    "\n",
    "You saw how big of an effect the way that we initialize our network's weights can have on our results. There are **a lot** of what are called initialization modes. I don't understand all of them, but they can have a big affect on your model's initial accuracy. Your model will get further with less epochs if you initialize it with weights that are well suited to the problem you're trying to solve.\n",
    "\n",
    "`init_mode = ['uniform', 'lecun_uniform', 'normal', 'zero', 'glorot_normal', 'glorot_uniform', 'he_normal', 'he_uniform']`"
   ]
  },
  {
   "cell_type": "markdown",
   "metadata": {
    "colab_type": "text",
    "id": "bqtEuxeQaLqE"
   },
   "source": [
    "## Dropout Regularization and the Weight Constraint\n",
    "\n",
    "the Dropout Regularization value is a percentage of neurons that you want to be randomly deactivated during training. The weight constraint is a second regularization parameter that works in tandem with dropout regularization. You should tune these two values at the same time. \n",
    "\n",
    "Using dropout on visible vs hidden layers might have a different effect. Using dropout on hidden layers might not have any effect while using dropout on hidden layers might have a substantial effect. You don't necessarily need to turn use dropout unless you see that your model has overfitting and generalizability problems."
   ]
  },
  {
   "cell_type": "markdown",
   "metadata": {
    "colab_type": "text",
    "id": "P2c5Cv6oaLtO"
   },
   "source": [
    "## Neurons in Hidden Layer \n",
    "\n",
    "Remember that when we only had a single perceptron our model was only able to fit to linearly separable data, but as we have added layers and nodes to those layers our network has become a powerhouse of fitting nonlinearity in data. The larger the network and the more nodes generally the stronger the network's capacity to fit nonlinear patterns in data. The more nodes and layers the longer it will take to train a network, and higher the probability of overfitting. The larger your network gets the more you'll need dropout regularization or other regularization techniques to keep it in check. \n",
    "\n",
    "Typically depth (more layers) is more important than width (more nodes) for neural networks. This is part of why Deep Learning is so highly touted. Certain deep learning architectures have truly been huge breakthroughs for certain machine learning tasks. \n",
    "\n",
    "You might borrow ideas from other network architectures. For example if I was doing image recognition and I wasn't taking cues from state of the art architectures like resnet, alexnet, googlenet, etc. Then I'm probably going to have to do a lot more experimentation on my own before I find something that works.\n",
    "\n",
    "There are some heuristics, but I am highly skeptical of them. I think you're better off experimenting on your own and forming your own intuition for these kinds of problems. \n",
    "\n",
    "- https://machinelearningmastery.com/how-to-configure-the-number-of-layers-and-nodes-in-a-neural-network/"
   ]
  },
  {
   "cell_type": "markdown",
   "metadata": {},
   "source": [
    "## Challenge\n",
    "You will be expected to tune several hyperparameters in today's module project. "
   ]
  },
  {
   "cell_type": "markdown",
   "metadata": {},
   "source": [
    "# Experiment Tracking Framework (Learn)\n",
    "<a id=\"p2\"></a>"
   ]
  },
  {
   "cell_type": "markdown",
   "metadata": {},
   "source": [
    "## Overview\n",
    "\n",
    "You will notice quickly that managing the results of all the experiments you are running becomes challenging. Which set of parameters did the best? Are my results today different than my results yesterday? Although we use Ipython Notebooks to work, the format is not well suited to logging experimental results. Enter experiment tracking frameworks like [Comet.ml](https://comet.ml) and [Weights and Biases](https://wandb.ai/).\n",
    "\n",
    "Those tools will help you track your experiments, store the results, and the code associated with those experiments. Experimental results can also be readily visualized to see changes in performance across any metric you care about. Data is sent to the tool as each epoch is completed, so you can also see if your model is converging. Let's check out Weights & Biases today. "
   ]
  },
  {
   "cell_type": "markdown",
   "metadata": {},
   "source": [
    "## Follow Along\n",
    "\n",
    "Make sure you login into `wandb` in the terminal before running the next cell. "
   ]
  },
  {
   "cell_type": "code",
   "execution_count": 13,
   "metadata": {},
   "outputs": [],
   "source": [
    "import wandb\n",
    "from wandb.keras import WandbCallback"
   ]
  },
  {
   "cell_type": "code",
   "execution_count": 14,
   "metadata": {},
   "outputs": [
    {
     "name": "stderr",
     "output_type": "stream",
     "text": "wandb: ERROR Not authenticated.  Copy a key from https://app.wandb.ai/authorize\n"
    },
    {
     "data": {
      "text/html": "\n                <b>Could not authenticate.</b><br/>\n            ",
      "text/plain": "<IPython.core.display.HTML object>"
     },
     "metadata": {},
     "output_type": "display_data"
    },
    {
     "data": {
      "text/html": "\n            Using <a href=\"https://wandb.com\" target=\"_blank\">Weights & Biases</a> in dryrun mode. Not logging results to the cloud.<br/>\n            Call wandb.login() to authenticate this machine.<br/>\n        ",
      "text/plain": "<IPython.core.display.HTML object>"
     },
     "metadata": {},
     "output_type": "display_data"
    },
    {
     "name": "stderr",
     "output_type": "stream",
     "text": "wandb: Wandb version 0.8.25 is available!  To upgrade, please run:\nwandb:  $ pip install wandb --upgrade\nTrain on 270 samples, validate on 134 samples\nEpoch 1/50\n270/270 [==============================] - 1s 3ms/sample - loss: 513.4631 - mse: 513.4631 - mae: 20.7078 - val_loss: 528.2446 - val_mse: 528.2445 - val_mae: 20.5932\nEpoch 2/50\n270/270 [==============================] - 0s 241us/sample - loss: 327.9766 - mse: 327.9766 - mae: 15.6598 - val_loss: 208.1781 - val_mse: 208.1781 - val_mae: 11.9341\nEpoch 3/50\n270/270 [==============================] - 0s 226us/sample - loss: 93.0801 - mse: 93.0801 - mae: 7.4663 - val_loss: 74.6956 - val_mse: 74.6956 - val_mae: 6.4185\nEpoch 4/50\n 10/270 [>.............................] - ETA: 0s - loss: 32.6233 - mse: 32.6233 - mae: 5.040270/270 [==============================] - 0s 211us/sample - loss: 38.0215 - mse: 38.0215 - mae: 4.5191 - val_loss: 44.9345 - val_mse: 44.9345 - val_mae: 4.5748\nEpoch 5/50\n270/270 [==============================] - 0s 248us/sample - loss: 26.9599 - mse: 26.9599 - mae: 3.7147 - val_loss: 35.1606 - val_mse: 35.1606 - val_mae: 3.9115\nEpoch 6/50\n270/270 [==============================] - 0s 259us/sample - loss: 21.3199 - mse: 21.3199 - mae: 3.2686 - val_loss: 32.3961 - val_mse: 32.3961 - val_mae: 3.5922\nEpoch 7/50\n270/270 [==============================] - 0s 230us/sample - loss: 18.2247 - mse: 18.2247 - mae: 3.0558 - val_loss: 28.9311 - val_mse: 28.9311 - val_mae: 3.3959\nEpoch 8/50\n270/270 [==============================] - 0s 228us/sample - loss: 15.9602 - mse: 15.9602 - mae: 2.8629 - val_loss: 26.8133 - val_mse: 26.8133 - val_mae: 3.2398\nEpoch 9/50\n270/270 [==============================] - 0s 230us/sample - loss: 14.3684 - mse: 14.3684 - mae: 2.7474 - val_loss: 26.5032 - val_mse: 26.5032 - val_mae: 3.2078\nEpoch 10/50\n270/270 [==============================] - 0s 248us/sample - loss: 12.9207 - mse: 12.9207 - mae: 2.6160 - val_loss: 23.2958 - val_mse: 23.2958 - val_mae: 2.9971\nEpoch 11/50\n270/270 [==============================] - 0s 267us/sample - loss: 11.5547 - mse: 11.5547 - mae: 2.4778 - val_loss: 20.8695 - val_mse: 20.8695 - val_mae: 2.9118\nEpoch 12/50\n270/270 [==============================] - 0s 278us/sample - loss: 10.8379 - mse: 10.8379 - mae: 2.4144 - val_loss: 20.6974 - val_mse: 20.6974 - val_mae: 2.8112\nEpoch 13/50\n270/270 [==============================] - 0s 304us/sample - loss: 9.8533 - mse: 9.8533 - mae: 2.3633 - val_loss: 19.2970 - val_mse: 19.2970 - val_mae: 2.8236\nEpoch 14/50\n270/270 [==============================] - 0s 259us/sample - loss: 9.2916 - mse: 9.2916 - mae: 2.3018 - val_loss: 19.2074 - val_mse: 19.2074 - val_mae: 2.8933\nEpoch 15/50\n270/270 [==============================] - 0s 282us/sample - loss: 8.9692 - mse: 8.9692 - mae: 2.2834 - val_loss: 17.9558 - val_mse: 17.9558 - val_mae: 2.8775\nEpoch 16/50\n270/270 [==============================] - 0s 278us/sample - loss: 8.7624 - mse: 8.7624 - mae: 2.2235 - val_loss: 17.2135 - val_mse: 17.2135 - val_mae: 2.7286\nEpoch 17/50\n270/270 [==============================] - 0s 256us/sample - loss: 8.0975 - mse: 8.0975 - mae: 2.1347 - val_loss: 17.4483 - val_mse: 17.4483 - val_mae: 2.9227\nEpoch 18/50\n270/270 [==============================] - 0s 241us/sample - loss: 8.3693 - mse: 8.3693 - mae: 2.2431 - val_loss: 16.9612 - val_mse: 16.9612 - val_mae: 2.7387\nEpoch 19/50\n270/270 [==============================] - 0s 243us/sample - loss: 7.5783 - mse: 7.5783 - mae: 2.0298 - val_loss: 16.1751 - val_mse: 16.1751 - val_mae: 2.6539\nEpoch 20/50\n270/270 [==============================] - 0s 189us/sample - loss: 7.7310 - mse: 7.7310 - mae: 2.0803 - val_loss: 16.6147 - val_mse: 16.6147 - val_mae: 2.8288\nEpoch 21/50\n270/270 [==============================] - 0s 233us/sample - loss: 7.6659 - mse: 7.6659 - mae: 2.0685 - val_loss: 15.6919 - val_mse: 15.6919 - val_mae: 2.6987\nEpoch 22/50\n270/270 [==============================] - 0s 270us/sample - loss: 7.1087 - mse: 7.1087 - mae: 2.0092 - val_loss: 15.5619 - val_mse: 15.5619 - val_mae: 2.6560\nEpoch 23/50\n270/270 [==============================] - 0s 215us/sample - loss: 6.9723 - mse: 6.9723 - mae: 1.9713 - val_loss: 15.6653 - val_mse: 15.6653 - val_mae: 2.6522\nEpoch 24/50\n270/270 [==============================] - 0s 256us/sample - loss: 6.7232 - mse: 6.7232 - mae: 1.9416 - val_loss: 17.1836 - val_mse: 17.1836 - val_mae: 2.7292\nEpoch 25/50\n270/270 [==============================] - 0s 207us/sample - loss: 6.8667 - mse: 6.8667 - mae: 1.9662 - val_loss: 15.2058 - val_mse: 15.2058 - val_mae: 2.5536\nEpoch 26/50\n270/270 [==============================] - 0s 219us/sample - loss: 7.0318 - mse: 7.0318 - mae: 1.9733 - val_loss: 14.9142 - val_mse: 14.9142 - val_mae: 2.5392\nEpoch 27/50\n270/270 [==============================] - 0s 178us/sample - loss: 6.4591 - mse: 6.4591 - mae: 1.8946 - val_loss: 15.3042 - val_mse: 15.3042 - val_mae: 2.6103\nEpoch 28/50\n270/270 [==============================] - 0s 219us/sample - loss: 6.1435 - mse: 6.1435 - mae: 1.8704 - val_loss: 14.5453 - val_mse: 14.5453 - val_mae: 2.5439\nEpoch 29/50\n270/270 [==============================] - 0s 174us/sample - loss: 6.0948 - mse: 6.0948 - mae: 1.8654 - val_loss: 14.8328 - val_mse: 14.8328 - val_mae: 2.6107\nEpoch 30/50\n270/270 [==============================] - 0s 167us/sample - loss: 5.8624 - mse: 5.8624 - mae: 1.8151 - val_loss: 14.7431 - val_mse: 14.7431 - val_mae: 2.5877\nEpoch 31/50\n270/270 [==============================] - 0s 196us/sample - loss: 6.1968 - mse: 6.1968 - mae: 1.8264 - val_loss: 15.7423 - val_mse: 15.7423 - val_mae: 2.6429\nEpoch 32/50\n270/270 [==============================] - 0s 182us/sample - loss: 6.5572 - mse: 6.5572 - mae: 1.9185 - val_loss: 16.8436 - val_mse: 16.8436 - val_mae: 2.7543\nEpoch 33/50\n270/270 [==============================] - 0s 178us/sample - loss: 6.2657 - mse: 6.2657 - mae: 1.8673 - val_loss: 14.7426 - val_mse: 14.7426 - val_mae: 2.5209\nEpoch 34/50\n270/270 [==============================] - 0s 230us/sample - loss: 5.4629 - mse: 5.4629 - mae: 1.7607 - val_loss: 14.3689 - val_mse: 14.3689 - val_mae: 2.5164\nEpoch 35/50\n270/270 [==============================] - 0s 241us/sample - loss: 5.3761 - mse: 5.3761 - mae: 1.7232 - val_loss: 14.1574 - val_mse: 14.1574 - val_mae: 2.5040\nEpoch 36/50\n270/270 [==============================] - 0s 230us/sample - loss: 5.3744 - mse: 5.3744 - mae: 1.7233 - val_loss: 13.8820 - val_mse: 13.8820 - val_mae: 2.4816\nEpoch 37/50\n270/270 [==============================] - 0s 200us/sample - loss: 5.5701 - mse: 5.5701 - mae: 1.7566 - val_loss: 14.2579 - val_mse: 14.2579 - val_mae: 2.5177\nEpoch 38/50\n270/270 [==============================] - 0s 181us/sample - loss: 5.3007 - mse: 5.3007 - mae: 1.7418 - val_loss: 14.6356 - val_mse: 14.6356 - val_mae: 2.6639\nEpoch 39/50\n270/270 [==============================] - 0s 167us/sample - loss: 5.8133 - mse: 5.8133 - mae: 1.8024 - val_loss: 13.9953 - val_mse: 13.9953 - val_mae: 2.5514\nEpoch 40/50\n270/270 [==============================] - 0s 189us/sample - loss: 5.0391 - mse: 5.0391 - mae: 1.6673 - val_loss: 14.4330 - val_mse: 14.4330 - val_mae: 2.5539\nEpoch 41/50\n270/270 [==============================] - 0s 170us/sample - loss: 5.4340 - mse: 5.4340 - mae: 1.7206 - val_loss: 14.3152 - val_mse: 14.3152 - val_mae: 2.4881\nEpoch 42/50\n270/270 [==============================] - 0s 165us/sample - loss: 4.8244 - mse: 4.8244 - mae: 1.6467 - val_loss: 14.3239 - val_mse: 14.3239 - val_mae: 2.5561\nEpoch 43/50\n270/270 [==============================] - 0s 204us/sample - loss: 4.7574 - mse: 4.7574 - mae: 1.6563 - val_loss: 14.1095 - val_mse: 14.1095 - val_mae: 2.5502\nEpoch 44/50\n270/270 [==============================] - 0s 233us/sample - loss: 4.7543 - mse: 4.7543 - mae: 1.6706 - val_loss: 13.5169 - val_mse: 13.5169 - val_mae: 2.5146\nEpoch 45/50\n270/270 [==============================] - 0s 205us/sample - loss: 4.9518 - mse: 4.9518 - mae: 1.6410 - val_loss: 13.3949 - val_mse: 13.3949 - val_mae: 2.4359\nEpoch 46/50\n270/270 [==============================] - 0s 195us/sample - loss: 4.5691 - mse: 4.5691 - mae: 1.6084 - val_loss: 13.7468 - val_mse: 13.7468 - val_mae: 2.5248\nEpoch 47/50\n270/270 [==============================] - 0s 259us/sample - loss: 4.5367 - mse: 4.5367 - mae: 1.6148 - val_loss: 13.4387 - val_mse: 13.4387 - val_mae: 2.5137\nEpoch 48/50\n270/270 [==============================] - 0s 193us/sample - loss: 5.0072 - mse: 5.0072 - mae: 1.7177 - val_loss: 15.1107 - val_mse: 15.1107 - val_mae: 2.8054\nEpoch 49/50\n270/270 [==============================] - 0s 185us/sample - loss: 5.4042 - mse: 5.4042 - mae: 1.7091 - val_loss: 14.1656 - val_mse: 14.1656 - val_mae: 2.4656\nEpoch 50/50\n270/270 [==============================] - 0s 178us/sample - loss: 4.5495 - mse: 4.5495 - mae: 1.6068 - val_loss: 13.5657 - val_mse: 13.5657 - val_mae: 2.4617\n"
    },
    {
     "data": {
      "text/plain": "<tensorflow.python.keras.callbacks.History at 0x24e06e1e4c8>"
     },
     "execution_count": 14,
     "metadata": {},
     "output_type": "execute_result"
    }
   ],
   "source": [
    "wandb.init(project=\"dspt2-proj\", entity=\"alexkim\") #Initializes and Experiment\n",
    "\n",
    "# Important Hyperparameters\n",
    "X =  x_train\n",
    "y =  y_train\n",
    "\n",
    "inputs = X.shape[1]\n",
    "wandb.config.epochs = 50\n",
    "wandb.config.batch_size = 10\n",
    "\n",
    "# Create Model\n",
    "model = Sequential()\n",
    "model.add(Dense(64, activation='relu', input_shape=(inputs,)))\n",
    "model.add(Dense(64, activation='relu'))\n",
    "model.add(Dense(64, activation='relu'))\n",
    "model.add(Dense(1))\n",
    "# Compile Model\n",
    "model.compile(optimizer='adam', loss='mse', metrics=['mse', 'mae'])\n",
    "\n",
    "# Fit Model\n",
    "model.fit(X, y, \n",
    "          validation_split=0.33, \n",
    "          epochs=wandb.config.epochs, \n",
    "          batch_size=wandb.config.batch_size, \n",
    "          callbacks=[WandbCallback()]\n",
    "         )"
   ]
  },
  {
   "cell_type": "markdown",
   "metadata": {},
   "source": [
    "## Challenge\n",
    "\n",
    "You will be expected to use Weights & Biases to try to tune your model during your module assignment today. "
   ]
  },
  {
   "cell_type": "markdown",
   "metadata": {},
   "source": [
    "# Hyperparameters with RandomSearchCV (Learn)"
   ]
  },
  {
   "cell_type": "markdown",
   "metadata": {},
   "source": [
    "## Overview\n",
    "\n",
    "Basically `GridSearchCV` takes forever. You'll want to adopt a slightly more sophiscated strategy."
   ]
  },
  {
   "cell_type": "markdown",
   "metadata": {},
   "source": [
    "## Follow Along"
   ]
  },
  {
   "cell_type": "code",
   "execution_count": 9,
   "metadata": {},
   "outputs": [],
   "source": [
    "sweep_config = {\n",
    "    'method': 'random',\n",
    "    'parameters': {\n",
    "        'learning_rate': {'distribution': 'normal'},\n",
    "        'epochs': {'distribution': 'uniform',\n",
    "                    'min': 100,\n",
    "                    'max': 1000},\n",
    "        'batch_size': {'distribution': 'uniform',\n",
    "            'min': 10,\n",
    "            'max': 400}\n",
    "    }\n",
    "}"
   ]
  },
  {
   "cell_type": "code",
   "execution_count": 13,
   "metadata": {},
   "outputs": [
    {
     "name": "stdout",
     "output_type": "stream",
     "text": [
      "Create sweep with ID: huau0u9r\n",
      "Sweep URL: https://app.wandb.ai/lambda-ds7/boston/sweeps/huau0u9r\n"
     ]
    }
   ],
   "source": [
    "sweep_id = wandb.sweep(sweep_config)"
   ]
  },
  {
   "cell_type": "code",
   "execution_count": 11,
   "metadata": {},
   "outputs": [],
   "source": [
    "import wandb\n",
    "from wandb.keras import WandbCallback\n",
    "#Initializes and Experiment\n",
    "\n",
    "from tensorflow.keras.optimizers import Adam\n",
    "\n",
    "# Important Hyperparameters\n",
    "X =  x_train\n",
    "y =  y_train\n",
    "\n",
    "inputs = X.shape[1]\n",
    "\n",
    "def train():\n",
    "    \n",
    "    wandb.init(project=\"boston\", entity=\"lambda-ds7\") \n",
    "    \n",
    "    config = wandb.config\n",
    "\n",
    "    # Create Model\n",
    "    model = Sequential()\n",
    "    model.add(Dense(64, activation='relu', input_shape=(inputs,)))\n",
    "    model.add(Dense(64, activation='relu'))\n",
    "    model.add(Dense(64, activation='relu'))\n",
    "    model.add(Dense(1))\n",
    "\n",
    "    # Optimizer \n",
    "    adam = Adam(learning_rate=config.learning_rate)\n",
    "\n",
    "    # Compile Model\n",
    "    model.compile(optimizer=adam, loss='mse', metrics=['mse', 'mae'])\n",
    "\n",
    "    # Fit Model\n",
    "    model.fit(X, y, \n",
    "              validation_split=0.33, \n",
    "              epochs=config.epochs, \n",
    "              batch_size=config.batch_size, \n",
    "              callbacks=[WandbCallback()]\n",
    "             )"
   ]
  },
  {
   "cell_type": "code",
   "execution_count": null,
   "metadata": {},
   "outputs": [
    {
     "name": "stdout",
     "output_type": "stream",
     "text": [
      "wandb: Agent Starting Run: 2g77kp6k with config:\n",
      "\tbatch_size: 308.503347845309\n",
      "\tepochs: 704.9395850579006\n",
      "\tlearning_rate: 1.480005523005428\n",
      "wandb: Agent Started Run: 2g77kp6k\n"
     ]
    },
    {
     "data": {
      "text/html": [
       "\n",
       "                Logging results to <a href=\"https://wandb.com\" target=\"_blank\">Weights & Biases</a> <a href=\"https://docs.wandb.com/integrations/jupyter.html\" target=\"_blank\">(Documentation)</a>.<br/>\n",
       "                Project page: <a href=\"https://app.wandb.ai/lambda-ds7/boston\" target=\"_blank\">https://app.wandb.ai/lambda-ds7/boston</a><br/>\n",
       "                Run page: <a href=\"https://app.wandb.ai/lambda-ds7/boston/runs/t4w9l4ye\" target=\"_blank\">https://app.wandb.ai/lambda-ds7/boston/runs/t4w9l4ye</a><br/>\n",
       "            "
      ],
      "text/plain": [
       "<IPython.core.display.HTML object>"
      ]
     },
     "metadata": {},
     "output_type": "display_data"
    }
   ],
   "source": [
    "wandb.agent(sweep_id, function=train)"
   ]
  },
  {
   "cell_type": "markdown",
   "metadata": {},
   "source": [
    "## Challenge\n",
    "\n",
    "Try to apply RandomSearchCV to your module project today. "
   ]
  },
  {
   "cell_type": "markdown",
   "metadata": {},
   "source": [
    "# Review\n",
    "* <a href=\"#p1\">Part 1</a>: Describe the major hyperparemeters to tune\n",
    "    - Activation Functions\n",
    "    - Optimizer\n",
    "    - Number of Layers\n",
    "    - Number of Neurons\n",
    "    - Batch Size\n",
    "    - Dropout Regulaization\n",
    "    - Learning Rate\n",
    "    - Number of Epochs\n",
    "    - and many more\n",
    "* <a href=\"#p2\">Part 2</a>: Implement an experiment tracking framework\n",
    "    - Weights & Biases\n",
    "    - Comet.ml\n",
    "    - By Hand / GridSearch\n",
    "* <a href=\"#p3\">Part 3</a>: Search the hyperparameter space using RandomSearch\n",
    "    - Sklearn still useful (haha)\n",
    "    - Integration with Wieghts & Biases\n",
    "* <a href=\"#p4\">Part 4</a>: Discuss emerging hyperparameter tuning strategies\n",
    "    - Bayesian Optimization\n",
    "    - Hyperopt\n",
    "    - Genetic Evolution"
   ]
  },
  {
   "cell_type": "markdown",
   "metadata": {},
   "source": [
    "# Sources"
   ]
  },
  {
   "cell_type": "markdown",
   "metadata": {},
   "source": [
    "## Additional Reading\n",
    "- https://machinelearningmastery.com/grid-search-hyperparameters-deep-learning-models-python-keras/\n",
    "- https://blog.floydhub.com/guide-to-hyperparameters-search-for-deep-learning-models/\n",
    "- https://machinelearningmastery.com/dropout-regularization-deep-learning-models-keras/\n",
    "- https://machinelearningmastery.com/introduction-to-weight-constraints-to-reduce-generalization-error-in-deep-learning/\n",
    "- https://machinelearningmastery.com/how-to-configure-the-number-of-layers-and-nodes-in-a-neural-network/"
   ]
  }
 ],
 "metadata": {
  "kernelspec": {
   "display_name": "Python (NN)",
   "language": "python",
   "name": "python-nn"
  },
  "language_info": {
   "codemirror_mode": {
    "name": "ipython",
    "version": 3
   },
   "file_extension": ".py",
   "mimetype": "text/x-python",
   "name": "python",
   "nbconvert_exporter": "python",
   "pygments_lexer": "ipython3",
   "version": "3.7.4-final"
  }
 },
 "nbformat": 4,
 "nbformat_minor": 4
}