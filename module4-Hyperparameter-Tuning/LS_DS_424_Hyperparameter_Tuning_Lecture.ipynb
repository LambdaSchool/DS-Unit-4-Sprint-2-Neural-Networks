{
 "cells": [
  {
   "cell_type": "markdown",
   "metadata": {
    "colab_type": "text",
    "id": "41TS0Sa0rDNx"
   },
   "source": [
    "Lambda School Data Science\n",
    "\n",
    "*Unit 4, Sprint 2, Module 4*\n",
    "\n",
    "---"
   ]
  },
  {
   "cell_type": "markdown",
   "metadata": {
    "colab_type": "text",
    "id": "41TS0Sa0rDNx"
   },
   "source": [
    "# Neural Networks & GPUs (Prepare)\n",
    "*aka Hyperparameter Tuning*\n",
    "\n",
    "*aka Big Servers for Big Problems*"
   ]
  },
  {
   "cell_type": "markdown",
   "metadata": {
    "colab_type": "text",
    "id": "41TS0Sa0rDNx"
   },
   "source": [
    "## Learning Objectives\n",
    "* <a href=\"#p1\">Part 1</a>: Describe the major hyperparemeters to tune\n",
    "* <a href=\"#p2\">Part 2</a>: Implement an experiment tracking framework\n",
    "* <a href=\"#p3\">Part 3</a>: Search the hyperparameter space using RandomSearch (Optional)"
   ]
  },
  {
   "cell_type": "code",
   "execution_count": 1,
   "metadata": {},
   "outputs": [],
   "source": [
    "wandb_group = \"alexkim\"\n",
    "wandb_project = \"dspt5-proj\""
   ]
  },
  {
   "cell_type": "code",
   "execution_count": 2,
   "metadata": {},
   "outputs": [
    {
     "name": "stdout",
     "output_type": "stream",
     "text": [
      "Requirement already up-to-date: wandb in /Applications/anaconda3/lib/python3.7/site-packages (0.9.4)\n",
      "Requirement already satisfied, skipping upgrade: docker-pycreds>=0.4.0 in /Applications/anaconda3/lib/python3.7/site-packages (from wandb) (0.4.0)\n",
      "Requirement already satisfied, skipping upgrade: Click>=7.0 in /Applications/anaconda3/lib/python3.7/site-packages (from wandb) (7.0)\n",
      "Requirement already satisfied, skipping upgrade: psutil>=5.0.0 in /Applications/anaconda3/lib/python3.7/site-packages (from wandb) (5.6.7)\n",
      "Requirement already satisfied, skipping upgrade: shortuuid>=0.5.0 in /Applications/anaconda3/lib/python3.7/site-packages (from wandb) (1.0.1)\n",
      "Requirement already satisfied, skipping upgrade: python-dateutil>=2.6.1 in /Applications/anaconda3/lib/python3.7/site-packages (from wandb) (2.8.1)\n",
      "Requirement already satisfied, skipping upgrade: watchdog>=0.8.3 in /Applications/anaconda3/lib/python3.7/site-packages (from wandb) (0.10.2)\n",
      "Requirement already satisfied, skipping upgrade: PyYAML>=3.10 in /Applications/anaconda3/lib/python3.7/site-packages (from wandb) (5.3)\n",
      "Requirement already satisfied, skipping upgrade: subprocess32>=3.5.3 in /Applications/anaconda3/lib/python3.7/site-packages (from wandb) (3.5.4)\n",
      "Requirement already satisfied, skipping upgrade: configparser>=3.8.1 in /Applications/anaconda3/lib/python3.7/site-packages (from wandb) (5.0.0)\n",
      "Requirement already satisfied, skipping upgrade: GitPython>=1.0.0 in /Applications/anaconda3/lib/python3.7/site-packages (from wandb) (3.1.7)\n",
      "Requirement already satisfied, skipping upgrade: sentry-sdk>=0.4.0 in /Applications/anaconda3/lib/python3.7/site-packages (from wandb) (0.16.2)\n",
      "Requirement already satisfied, skipping upgrade: nvidia-ml-py3>=7.352.0 in /Applications/anaconda3/lib/python3.7/site-packages (from wandb) (7.352.0)\n",
      "Requirement already satisfied, skipping upgrade: six>=1.10.0 in /Applications/anaconda3/lib/python3.7/site-packages (from wandb) (1.14.0)\n",
      "Requirement already satisfied, skipping upgrade: gql==0.2.0 in /Applications/anaconda3/lib/python3.7/site-packages (from wandb) (0.2.0)\n",
      "Requirement already satisfied, skipping upgrade: requests>=2.0.0 in /Applications/anaconda3/lib/python3.7/site-packages (from wandb) (2.22.0)\n",
      "Requirement already satisfied, skipping upgrade: pathtools>=0.1.1 in /Applications/anaconda3/lib/python3.7/site-packages (from watchdog>=0.8.3->wandb) (0.1.2)\n",
      "Requirement already satisfied, skipping upgrade: gitdb<5,>=4.0.1 in /Applications/anaconda3/lib/python3.7/site-packages (from GitPython>=1.0.0->wandb) (4.0.5)\n",
      "Requirement already satisfied, skipping upgrade: urllib3>=1.10.0 in /Applications/anaconda3/lib/python3.7/site-packages (from sentry-sdk>=0.4.0->wandb) (1.25.8)\n",
      "Requirement already satisfied, skipping upgrade: certifi in /Applications/anaconda3/lib/python3.7/site-packages (from sentry-sdk>=0.4.0->wandb) (2019.11.28)\n",
      "Requirement already satisfied, skipping upgrade: promise<3,>=2.0 in /Applications/anaconda3/lib/python3.7/site-packages (from gql==0.2.0->wandb) (2.3)\n",
      "Requirement already satisfied, skipping upgrade: graphql-core<2,>=0.5.0 in /Applications/anaconda3/lib/python3.7/site-packages (from gql==0.2.0->wandb) (1.1)\n",
      "Requirement already satisfied, skipping upgrade: chardet<3.1.0,>=3.0.2 in /Applications/anaconda3/lib/python3.7/site-packages (from requests>=2.0.0->wandb) (3.0.4)\n",
      "Requirement already satisfied, skipping upgrade: idna<2.9,>=2.5 in /Applications/anaconda3/lib/python3.7/site-packages (from requests>=2.0.0->wandb) (2.8)\n",
      "Requirement already satisfied, skipping upgrade: smmap<4,>=3.0.1 in /Applications/anaconda3/lib/python3.7/site-packages (from gitdb<5,>=4.0.1->GitPython>=1.0.0->wandb) (3.0.4)\n"
     ]
    }
   ],
   "source": [
    "!pip install --upgrade wandb"
   ]
  },
  {
   "cell_type": "code",
   "execution_count": 3,
   "metadata": {},
   "outputs": [
    {
     "name": "stdout",
     "output_type": "stream",
     "text": [
      "\u001b[34m\u001b[1mwandb\u001b[0m: Appending key for api.wandb.ai to your netrc file: /Users/jisha/.netrc\n",
      "\u001b[32mSuccessfully logged in to Weights & Biases!\u001b[0m\n"
     ]
    }
   ],
   "source": [
    "!wandb login e4a5a44dd73d6c230ff0b4af53e29576256363a1"
   ]
  },
  {
   "cell_type": "markdown",
   "metadata": {},
   "source": [
    "# Hyperparameter Options (Learn)\n",
    "<a id=\"p1\"></a>"
   ]
  },
  {
   "cell_type": "markdown",
   "metadata": {},
   "source": [
    "## Overview\n",
    "\n",
    "Hyperparameter tuning is much more important with neural networks than it has been with any other models that we have considered up to this point. Other supervised learning models might have a couple of parameters, but neural networks can have dozens. These can substantially affect the accuracy of our models and although it can be a time consuming process is a necessary step when working with neural networks.\n",
    "​\n",
    "Hyperparameter tuning comes with a challenge. How can we compare models specified with different hyperparameters if our model's final error metric can vary somewhat erratically? How do we avoid just getting unlucky and selecting the wrong hyperparameter? This is a problem that to a certain degree we just have to live with as we test and test again. However, we can minimize it somewhat by pairing our experiments with Cross Validation to reduce the variance of our final accuracy values."
   ]
  },
  {
   "cell_type": "markdown",
   "metadata": {
    "colab_type": "text",
    "id": "0s0o2pqBs88q"
   },
   "source": [
    "### Load Boston Housing Data"
   ]
  },
  {
   "cell_type": "code",
   "execution_count": 4,
   "metadata": {},
   "outputs": [],
   "source": [
    "from tensorflow.keras.datasets import boston_housing\n",
    "\n",
    "(x_train, y_train), (x_test, y_test) = boston_housing.load_data()"
   ]
  },
  {
   "cell_type": "markdown",
   "metadata": {
    "colab_type": "text",
    "id": "Pm7zow5IvaTt"
   },
   "source": [
    "### Normalizing Input Data\n",
    "\n",
    "It's not 100% necessary to normalize/scale your input data before feeding it to a neural network, the network can learn the appropriate weights to deal with data of as long as it is numerically represented,  but it is recommended as it can help **make training faster** and **reduces the chances that gradient descent might get stuck in a local optimum**.\n",
    "\n",
    "<https://stackoverflow.com/questions/4674623/why-do-we-have-to-normalize-the-input-for-an-artificial-neural-network>"
   ]
  },
  {
   "cell_type": "code",
   "execution_count": 5,
   "metadata": {},
   "outputs": [
    {
     "name": "stdout",
     "output_type": "stream",
     "text": [
      "[[-0.27224633 -0.48361547 -0.43576161 -0.25683275 -0.1652266  -0.1764426\n",
      "   0.81306188  0.1166983  -0.62624905 -0.59517003  1.14850044  0.44807713\n",
      "   0.8252202 ]\n",
      " [-0.40342651  2.99178419 -1.33391162 -0.25683275 -1.21518188  1.89434613\n",
      "  -1.91036058  1.24758524 -0.85646254 -0.34843254 -1.71818909  0.43190599\n",
      "  -1.32920239]\n",
      " [ 0.1249402  -0.48361547  1.0283258  -0.25683275  0.62864202 -1.82968811\n",
      "   1.11048828 -1.18743907  1.67588577  1.5652875   0.78447637  0.22061726\n",
      "  -1.30850006]\n",
      " [-0.40149354 -0.48361547 -0.86940196 -0.25683275 -0.3615597  -0.3245576\n",
      "  -1.23667187  1.10717989 -0.51114231 -1.094663    0.78447637  0.44807713\n",
      "  -0.65292624]\n",
      " [-0.0056343  -0.48361547  1.0283258  -0.25683275  1.32861221  0.15364225\n",
      "   0.69480801 -0.57857203  1.67588577  1.5652875   0.78447637  0.3898823\n",
      "   0.26349695]\n",
      " [-0.37502238 -0.48361547 -0.54747912 -0.25683275 -0.54935658 -0.78865126\n",
      "   0.18954148  0.48371503 -0.51114231 -0.71552978  0.51145832  0.38669063\n",
      "  -0.13812828]\n",
      " [ 0.58963463 -0.48361547  1.0283258  -0.25683275  1.21764133 -1.03127774\n",
      "   1.11048828 -1.06518235  1.67588577  1.5652875   0.78447637  0.44807713\n",
      "   1.49873604]\n",
      " [ 0.0381708  -0.48361547  1.24588095 -0.25683275  2.67733525 -1.12719983\n",
      "   1.11048828 -1.14833073 -0.51114231 -0.01744323 -1.71818909  0.44807713\n",
      "   1.88793986]\n",
      " [-0.17228416 -0.48361547  1.24588095 -0.25683275  2.67733525 -0.90150078\n",
      "   1.11048828 -1.09664657 -0.51114231 -0.01744323 -1.71818909 -1.97365769\n",
      "   0.53952803]\n",
      " [-0.22932104 -0.48361547  1.58544339 -0.25683275  0.56888847 -1.76056777\n",
      "   1.11048828 -1.13471925 -0.62624905  0.18716835  1.23950646  0.44807713\n",
      "   2.99068404]]\n"
     ]
    }
   ],
   "source": [
    "from sklearn.preprocessing import StandardScaler\n",
    "\n",
    "scaler = StandardScaler()\n",
    "\n",
    "x_train = scaler.fit_transform(x_train)\n",
    "x_test = scaler.transform(x_test)\n",
    "print(x_train[:10])\n",
    "\n",
    "#Look at differences between normalizers/scalers"
   ]
  },
  {
   "cell_type": "markdown",
   "metadata": {
    "colab_type": "text",
    "id": "l6hgCWbir90R"
   },
   "source": [
    "### Model Validation using an automatic verification Dataset\n",
    "\n",
    "Instead of doing seperate train test split class, Keras has a really nice feature that you can set the validation.data argument when fitting your model and Keras will take that portion of your test data and use it as a validation dataset. "
   ]
  },
  {
   "cell_type": "code",
   "execution_count": 6,
   "metadata": {
    "colab": {
     "base_uri": "https://localhost:8080/",
     "height": 1750
    },
    "colab_type": "code",
    "id": "GMXVfmzXp1Oo",
    "outputId": "b05e251e-508f-46e6-865b-f869ae2a5dc4"
   },
   "outputs": [
    {
     "name": "stdout",
     "output_type": "stream",
     "text": [
      "Epoch 1/75\n",
      " 2/41 [>.............................] - ETA: 1s - loss: 542.3579 - mse: 542.3579 - mae: 21.9118WARNING:tensorflow:Callbacks method `on_train_batch_end` is slow compared to the batch time (batch time: 0.0057s vs `on_train_batch_end` time: 0.0400s). Check your callbacks.\n",
      "41/41 [==============================] - 1s 28ms/step - loss: 504.0154 - mse: 504.0154 - mae: 20.5629 - val_loss: 416.8286 - val_mse: 416.8286 - val_mae: 18.5332\n",
      "Epoch 2/75\n",
      "41/41 [==============================] - 1s 17ms/step - loss: 244.6842 - mse: 244.6842 - mae: 13.1657 - val_loss: 98.3669 - val_mse: 98.3669 - val_mae: 8.2356\n",
      "Epoch 3/75\n",
      "41/41 [==============================] - 1s 19ms/step - loss: 60.6329 - mse: 60.6329 - mae: 5.8601 - val_loss: 41.8439 - val_mse: 41.8439 - val_mae: 5.2543\n",
      "Epoch 4/75\n",
      "41/41 [==============================] - 1s 20ms/step - loss: 33.0935 - mse: 33.0935 - mae: 4.1742 - val_loss: 29.5191 - val_mse: 29.5191 - val_mae: 4.2993\n",
      "Epoch 5/75\n",
      "41/41 [==============================] - 1s 20ms/step - loss: 25.8627 - mse: 25.8627 - mae: 3.6166 - val_loss: 25.6796 - val_mse: 25.6796 - val_mae: 3.9760\n",
      "Epoch 6/75\n",
      "41/41 [==============================] - 1s 19ms/step - loss: 22.0062 - mse: 22.0062 - mae: 3.2932 - val_loss: 24.2053 - val_mse: 24.2053 - val_mae: 3.8111\n",
      "Epoch 7/75\n",
      "41/41 [==============================] - 0s 11ms/step - loss: 19.4389 - mse: 19.4389 - mae: 3.0911 - val_loss: 22.6010 - val_mse: 22.6010 - val_mae: 3.6102\n",
      "Epoch 8/75\n",
      "41/41 [==============================] - 1s 23ms/step - loss: 17.6600 - mse: 17.6600 - mae: 2.9103 - val_loss: 22.6744 - val_mse: 22.6744 - val_mae: 3.5878\n",
      "Epoch 9/75\n",
      "41/41 [==============================] - 0s 12ms/step - loss: 16.1181 - mse: 16.1181 - mae: 2.8281 - val_loss: 21.6171 - val_mse: 21.6171 - val_mae: 3.3971\n",
      "Epoch 10/75\n",
      "41/41 [==============================] - 1s 16ms/step - loss: 15.0521 - mse: 15.0521 - mae: 2.7000 - val_loss: 21.2932 - val_mse: 21.2932 - val_mae: 3.3160\n",
      "Epoch 11/75\n",
      "41/41 [==============================] - 1s 17ms/step - loss: 13.8065 - mse: 13.8065 - mae: 2.5879 - val_loss: 22.4095 - val_mse: 22.4095 - val_mae: 3.3561\n",
      "Epoch 12/75\n",
      "41/41 [==============================] - 1s 14ms/step - loss: 13.1325 - mse: 13.1325 - mae: 2.5623 - val_loss: 21.5403 - val_mse: 21.5403 - val_mae: 3.2217\n",
      "Epoch 13/75\n",
      "41/41 [==============================] - 0s 10ms/step - loss: 12.4460 - mse: 12.4460 - mae: 2.5030 - val_loss: 20.7563 - val_mse: 20.7563 - val_mae: 3.1585\n",
      "Epoch 14/75\n",
      "41/41 [==============================] - 1s 23ms/step - loss: 11.9689 - mse: 11.9689 - mae: 2.4500 - val_loss: 20.8318 - val_mse: 20.8318 - val_mae: 3.1290\n",
      "Epoch 15/75\n",
      "41/41 [==============================] - 1s 29ms/step - loss: 11.4570 - mse: 11.4570 - mae: 2.4222 - val_loss: 21.8447 - val_mse: 21.8447 - val_mae: 3.1828\n",
      "Epoch 16/75\n",
      "41/41 [==============================] - 0s 11ms/step - loss: 10.9898 - mse: 10.9898 - mae: 2.3576 - val_loss: 21.2419 - val_mse: 21.2419 - val_mae: 3.0904\n",
      "Epoch 17/75\n",
      "41/41 [==============================] - 1s 22ms/step - loss: 11.0545 - mse: 11.0545 - mae: 2.3533 - val_loss: 22.5613 - val_mse: 22.5613 - val_mae: 3.1994\n",
      "Epoch 18/75\n",
      "41/41 [==============================] - 1s 20ms/step - loss: 10.4721 - mse: 10.4721 - mae: 2.3327 - val_loss: 22.3140 - val_mse: 22.3140 - val_mae: 3.1531\n",
      "Epoch 19/75\n",
      "41/41 [==============================] - 1s 22ms/step - loss: 10.4839 - mse: 10.4839 - mae: 2.3391 - val_loss: 22.1482 - val_mse: 22.1482 - val_mae: 3.1086\n",
      "Epoch 20/75\n",
      "41/41 [==============================] - 1s 21ms/step - loss: 10.3105 - mse: 10.3105 - mae: 2.3546 - val_loss: 20.6437 - val_mse: 20.6437 - val_mae: 3.0619\n",
      "Epoch 21/75\n",
      "41/41 [==============================] - 0s 9ms/step - loss: 9.9024 - mse: 9.9024 - mae: 2.2448 - val_loss: 21.4332 - val_mse: 21.4332 - val_mae: 3.0603\n",
      "Epoch 22/75\n",
      "41/41 [==============================] - 1s 17ms/step - loss: 9.5884 - mse: 9.5884 - mae: 2.1865 - val_loss: 22.1539 - val_mse: 22.1539 - val_mae: 3.1503\n",
      "Epoch 23/75\n",
      "41/41 [==============================] - 1s 26ms/step - loss: 9.3314 - mse: 9.3314 - mae: 2.1851 - val_loss: 22.0933 - val_mse: 22.0933 - val_mae: 3.0136\n",
      "Epoch 24/75\n",
      "41/41 [==============================] - 1s 23ms/step - loss: 9.4645 - mse: 9.4645 - mae: 2.2002 - val_loss: 22.4629 - val_mse: 22.4629 - val_mae: 3.0250\n",
      "Epoch 25/75\n",
      "41/41 [==============================] - 1s 18ms/step - loss: 9.4263 - mse: 9.4263 - mae: 2.2194 - val_loss: 21.1683 - val_mse: 21.1683 - val_mae: 2.9846\n",
      "Epoch 26/75\n",
      "41/41 [==============================] - 0s 12ms/step - loss: 9.0916 - mse: 9.0916 - mae: 2.1430 - val_loss: 21.4774 - val_mse: 21.4774 - val_mae: 3.0538\n",
      "Epoch 27/75\n",
      "41/41 [==============================] - 1s 20ms/step - loss: 8.8774 - mse: 8.8774 - mae: 2.1244 - val_loss: 21.6054 - val_mse: 21.6054 - val_mae: 2.9709\n",
      "Epoch 28/75\n",
      "41/41 [==============================] - 1s 24ms/step - loss: 9.0492 - mse: 9.0492 - mae: 2.1101 - val_loss: 23.3130 - val_mse: 23.3130 - val_mae: 3.1147\n",
      "Epoch 29/75\n",
      "41/41 [==============================] - 0s 9ms/step - loss: 8.9574 - mse: 8.9574 - mae: 2.1260 - val_loss: 22.3302 - val_mse: 22.3302 - val_mae: 2.9929\n",
      "Epoch 30/75\n",
      "41/41 [==============================] - 1s 15ms/step - loss: 8.5558 - mse: 8.5558 - mae: 2.0920 - val_loss: 20.4008 - val_mse: 20.4008 - val_mae: 2.9330\n",
      "Epoch 31/75\n",
      "41/41 [==============================] - 1s 20ms/step - loss: 8.7038 - mse: 8.7038 - mae: 2.1255 - val_loss: 20.5333 - val_mse: 20.5333 - val_mae: 2.9097\n",
      "Epoch 32/75\n",
      "41/41 [==============================] - 1s 23ms/step - loss: 8.3324 - mse: 8.3324 - mae: 2.0604 - val_loss: 20.2335 - val_mse: 20.2335 - val_mae: 2.8174\n",
      "Epoch 33/75\n",
      "41/41 [==============================] - 0s 11ms/step - loss: 8.2661 - mse: 8.2661 - mae: 2.0414 - val_loss: 20.7832 - val_mse: 20.7832 - val_mae: 2.8467\n",
      "Epoch 34/75\n",
      "41/41 [==============================] - 1s 15ms/step - loss: 8.4026 - mse: 8.4026 - mae: 2.0821 - val_loss: 19.7279 - val_mse: 19.7279 - val_mae: 2.8661\n",
      "Epoch 35/75\n",
      "41/41 [==============================] - 1s 30ms/step - loss: 8.2174 - mse: 8.2174 - mae: 2.0518 - val_loss: 21.1439 - val_mse: 21.1439 - val_mae: 3.0880\n",
      "Epoch 36/75\n",
      "41/41 [==============================] - 1s 18ms/step - loss: 8.3576 - mse: 8.3576 - mae: 2.0631 - val_loss: 21.2402 - val_mse: 21.2402 - val_mae: 2.9357\n",
      "Epoch 37/75\n",
      "41/41 [==============================] - 1s 18ms/step - loss: 7.9406 - mse: 7.9406 - mae: 2.0162 - val_loss: 20.6316 - val_mse: 20.6316 - val_mae: 2.8761\n",
      "Epoch 38/75\n",
      "41/41 [==============================] - 1s 18ms/step - loss: 7.8744 - mse: 7.8744 - mae: 1.9849 - val_loss: 20.7385 - val_mse: 20.7385 - val_mae: 2.9041\n",
      "Epoch 39/75\n",
      "41/41 [==============================] - 1s 15ms/step - loss: 8.3653 - mse: 8.3653 - mae: 2.0649 - val_loss: 19.7214 - val_mse: 19.7214 - val_mae: 2.7552\n",
      "Epoch 40/75\n",
      "41/41 [==============================] - 1s 20ms/step - loss: 7.8161 - mse: 7.8161 - mae: 2.0040 - val_loss: 20.2049 - val_mse: 20.2049 - val_mae: 2.8514\n",
      "Epoch 41/75\n",
      "41/41 [==============================] - 1s 19ms/step - loss: 7.6507 - mse: 7.6507 - mae: 1.9852 - val_loss: 21.9807 - val_mse: 21.9807 - val_mae: 2.9162\n",
      "Epoch 42/75\n",
      "41/41 [==============================] - 1s 20ms/step - loss: 7.8683 - mse: 7.8683 - mae: 2.0314 - val_loss: 19.4089 - val_mse: 19.4089 - val_mae: 2.7535\n",
      "Epoch 43/75\n",
      "41/41 [==============================] - 0s 11ms/step - loss: 7.6765 - mse: 7.6765 - mae: 1.9724 - val_loss: 19.0242 - val_mse: 19.0242 - val_mae: 2.7523\n",
      "Epoch 44/75\n",
      "41/41 [==============================] - 1s 16ms/step - loss: 7.7524 - mse: 7.7524 - mae: 1.9893 - val_loss: 22.0518 - val_mse: 22.0518 - val_mae: 3.0108\n",
      "Epoch 45/75\n",
      "41/41 [==============================] - 1s 21ms/step - loss: 7.5654 - mse: 7.5654 - mae: 1.9667 - val_loss: 21.4647 - val_mse: 21.4647 - val_mae: 2.9637\n",
      "Epoch 46/75\n",
      "41/41 [==============================] - 1s 20ms/step - loss: 7.4492 - mse: 7.4492 - mae: 1.9407 - val_loss: 18.8989 - val_mse: 18.8989 - val_mae: 2.6973\n",
      "Epoch 47/75\n",
      "41/41 [==============================] - 0s 9ms/step - loss: 7.5474 - mse: 7.5474 - mae: 2.0018 - val_loss: 19.6213 - val_mse: 19.6213 - val_mae: 2.8064\n",
      "Epoch 48/75\n",
      "41/41 [==============================] - 1s 18ms/step - loss: 7.2209 - mse: 7.2209 - mae: 1.9171 - val_loss: 20.3188 - val_mse: 20.3188 - val_mae: 2.8806\n",
      "Epoch 49/75\n",
      "41/41 [==============================] - 1s 22ms/step - loss: 7.3156 - mse: 7.3156 - mae: 1.9381 - val_loss: 17.6767 - val_mse: 17.6767 - val_mae: 2.6996\n",
      "Epoch 50/75\n",
      "41/41 [==============================] - 1s 23ms/step - loss: 7.2668 - mse: 7.2668 - mae: 1.9139 - val_loss: 20.6231 - val_mse: 20.6231 - val_mae: 2.8897s: 7.3439 - mse: 7.3439 - mae: 1.919 - ETA: 0s - loss: 7.4223 - mse: 7.4223 - mae: 1.93\n",
      "Epoch 51/75\n",
      "41/41 [==============================] - 1s 20ms/step - loss: 7.0746 - mse: 7.0746 - mae: 1.8921 - val_loss: 18.5582 - val_mse: 18.5582 - val_mae: 2.7987\n",
      "Epoch 52/75\n",
      "41/41 [==============================] - 1s 13ms/step - loss: 7.0464 - mse: 7.0464 - mae: 1.8886 - val_loss: 20.3115 - val_mse: 20.3115 - val_mae: 2.7937\n",
      "Epoch 53/75\n",
      "41/41 [==============================] - 1s 25ms/step - loss: 7.1603 - mse: 7.1603 - mae: 1.9078 - val_loss: 18.0688 - val_mse: 18.0688 - val_mae: 2.6989\n",
      "Epoch 54/75\n",
      "41/41 [==============================] - 1s 25ms/step - loss: 7.1255 - mse: 7.1255 - mae: 1.9040 - val_loss: 19.6102 - val_mse: 19.6102 - val_mae: 2.8151\n",
      "Epoch 55/75\n",
      "41/41 [==============================] - 1s 14ms/step - loss: 7.0268 - mse: 7.0268 - mae: 1.9009 - val_loss: 20.0854 - val_mse: 20.0854 - val_mae: 2.8778\n",
      "Epoch 56/75\n",
      "41/41 [==============================] - 1s 23ms/step - loss: 6.6260 - mse: 6.6260 - mae: 1.8504 - val_loss: 17.7340 - val_mse: 17.7340 - val_mae: 2.6483\n",
      "Epoch 57/75\n",
      "41/41 [==============================] - 1s 18ms/step - loss: 6.8502 - mse: 6.8502 - mae: 1.8715 - val_loss: 19.0962 - val_mse: 19.0962 - val_mae: 2.7760\n",
      "Epoch 58/75\n",
      "41/41 [==============================] - 1s 23ms/step - loss: 6.8620 - mse: 6.8620 - mae: 1.8898 - val_loss: 17.9255 - val_mse: 17.9255 - val_mae: 2.6463\n",
      "Epoch 59/75\n",
      "41/41 [==============================] - 1s 23ms/step - loss: 6.8150 - mse: 6.8150 - mae: 1.8713 - val_loss: 18.3489 - val_mse: 18.3489 - val_mae: 2.7372\n",
      "Epoch 60/75\n",
      "41/41 [==============================] - 1s 20ms/step - loss: 6.7241 - mse: 6.7241 - mae: 1.8511 - val_loss: 18.0672 - val_mse: 18.0672 - val_mae: 2.7468\n",
      "Epoch 61/75\n",
      "41/41 [==============================] - 1s 21ms/step - loss: 6.7900 - mse: 6.7900 - mae: 1.8719 - val_loss: 20.3169 - val_mse: 20.3169 - val_mae: 2.8716\n",
      "Epoch 62/75\n",
      "41/41 [==============================] - 1s 21ms/step - loss: 6.8026 - mse: 6.8026 - mae: 1.8773 - val_loss: 20.0310 - val_mse: 20.0310 - val_mae: 2.7745\n",
      "Epoch 63/75\n",
      "41/41 [==============================] - 1s 15ms/step - loss: 6.4849 - mse: 6.4849 - mae: 1.8725 - val_loss: 16.7239 - val_mse: 16.7239 - val_mae: 2.6054\n",
      "Epoch 64/75\n",
      "41/41 [==============================] - 1s 24ms/step - loss: 6.8279 - mse: 6.8279 - mae: 1.8665 - val_loss: 17.3077 - val_mse: 17.3077 - val_mae: 2.6876\n",
      "Epoch 65/75\n",
      "41/41 [==============================] - 1s 25ms/step - loss: 6.3242 - mse: 6.3242 - mae: 1.8039 - val_loss: 19.0328 - val_mse: 19.0328 - val_mae: 2.8235\n",
      "Epoch 66/75\n",
      "41/41 [==============================] - 1s 19ms/step - loss: 6.4574 - mse: 6.4574 - mae: 1.8032 - val_loss: 18.3028 - val_mse: 18.3028 - val_mae: 2.7238\n",
      "Epoch 67/75\n",
      "41/41 [==============================] - 1s 26ms/step - loss: 6.6012 - mse: 6.6012 - mae: 1.8618 - val_loss: 18.2564 - val_mse: 18.2564 - val_mae: 2.7161\n",
      "Epoch 68/75\n",
      "41/41 [==============================] - 1s 25ms/step - loss: 6.2387 - mse: 6.2387 - mae: 1.7927 - val_loss: 18.3524 - val_mse: 18.3524 - val_mae: 2.7751\n",
      "Epoch 69/75\n",
      "41/41 [==============================] - 1s 19ms/step - loss: 6.1613 - mse: 6.1613 - mae: 1.7797 - val_loss: 18.9851 - val_mse: 18.9851 - val_mae: 2.8282loss: 6.1479 - mse: 6.1479 - mae: 1.76\n",
      "Epoch 70/75\n",
      "41/41 [==============================] - 1s 19ms/step - loss: 6.3199 - mse: 6.3199 - mae: 1.8070 - val_loss: 16.8787 - val_mse: 16.8787 - val_mae: 2.5640\n",
      "Epoch 71/75\n",
      "41/41 [==============================] - 1s 25ms/step - loss: 6.1773 - mse: 6.1773 - mae: 1.7514 - val_loss: 19.0288 - val_mse: 19.0288 - val_mae: 2.8171\n",
      "Epoch 72/75\n",
      "41/41 [==============================] - 1s 31ms/step - loss: 6.2828 - mse: 6.2828 - mae: 1.7937 - val_loss: 17.1008 - val_mse: 17.1008 - val_mae: 2.6644\n",
      "Epoch 73/75\n",
      "41/41 [==============================] - 1s 15ms/step - loss: 6.2206 - mse: 6.2206 - mae: 1.7947 - val_loss: 17.1873 - val_mse: 17.1873 - val_mae: 2.6180\n",
      "Epoch 74/75\n",
      "41/41 [==============================] - 1s 18ms/step - loss: 5.9296 - mse: 5.9296 - mae: 1.7504 - val_loss: 17.1476 - val_mse: 17.1476 - val_mae: 2.6782\n",
      "Epoch 75/75\n",
      "41/41 [==============================] - 1s 17ms/step - loss: 5.9009 - mse: 5.9009 - mae: 1.7455 - val_loss: 17.1256 - val_mse: 17.1256 - val_mae: 2.5626\n"
     ]
    },
    {
     "data": {
      "text/plain": [
       "<tensorflow.python.keras.callbacks.History at 0x7fa0f282cd90>"
      ]
     },
     "execution_count": 6,
     "metadata": {},
     "output_type": "execute_result"
    }
   ],
   "source": [
    "from tensorflow import keras\n",
    "from tensorflow.keras.models import Sequential\n",
    "from tensorflow.keras.layers import Dense\n",
    "\n",
    "# Important Hyperparameters\n",
    "inputs = x_train.shape[1]\n",
    "epochs = 75\n",
    "batch_size = 10\n",
    "\n",
    "\n",
    "# Create Model\n",
    "model = Sequential()\n",
    "model.add(Dense(64, activation='relu', input_shape=(inputs,)))\n",
    "model.add(Dense(64, activation='relu'))\n",
    "model.add(Dense(1))\n",
    "\n",
    "# Compile Model\n",
    "model.compile(optimizer='adam', loss='mse', metrics=['mse', 'mae'])\n",
    "\n",
    "# Fit Model\n",
    "model.fit(x_train, y_train, \n",
    "          validation_data=(x_test,y_test), \n",
    "          epochs=epochs, \n",
    "          batch_size=batch_size\n",
    "         )\n",
    "\n",
    "#can use train_test_split - scikitlearn\n",
    "#validation_split - keras"
   ]
  },
  {
   "cell_type": "markdown",
   "metadata": {
    "colab_type": "text",
    "id": "sYJ8t_ezHP4W"
   },
   "source": [
    "### Hyperparameter Tuning Approaches:\n",
    "\n",
    "#### 1) Babysitting AKA \"Grad Student Descent\".\n",
    "\n",
    "If you fiddled with any hyperparameters yesterday, this is basically what you did. This approach is 100% manual and is pretty common among researchers where finding that 1 exact specification that jumps your model to a level of accuracy never seen before is the difference between publishing and not publishing a paper. Of course the professors don't do this themselves, that's grunt work. This is also known as the fiddle with hyperparameters until you run out of time method.\n",
    "\n",
    "#### 2) Grid Search\n",
    "\n",
    "Grid Search is the Grad Student galaxy brain realization of: why don't I just specify all the experiments I want to run and let the computer try every possible combination of them while I go and grab lunch. This has a specific downside in that if I specify 5 hyperparameters with 5 options each then I've just created 5^5 combinations of hyperparameters to check. Which means that I have to train 3125 different versions of my model Then if I use 5-fold Cross Validation on that then my model has to run 15,525 times. This is the brute-force method of hyperparameter tuning, but it can be very profitable if done wisely. \n",
    "\n",
    "When using Grid Search here's what I suggest: don't use it to test combinations of different hyperparameters, only use it to test different specifications of **a single** hyperparameter. It's rare that combinations between different hyperparameters lead to big performance gains. You'll get 90-95% of the way there if you just Grid Search one parameter and take the best result, then retain that best result while you test another, and then retain the best specification from that while you train another. This at least makes the situation much more manageable and leads to pretty good results. \n",
    "\n",
    "#### 3) Random Search\n",
    "\n",
    "Do Grid Search for a couple of hours and you'll say to yourself - \"There's got to be a better way.\" Enter Random Search. For Random search you specify a hyperparameter space and it picks specifications from that randomly, tries them out, gives you the best results and says - That's going to have to be good enough, go home and spend time with your family. \n",
    "\n",
    "Grid Search treats every parameter as if it was equally important, but this just isn't the case, some are known to move the needle a lot more than others (we'll talk about that in a minute). Random Search allows searching to be specified along the most important parameter and experiments less along the dimensions of less important hyperparameters. The downside of Random search is that it won't find the absolute best hyperparameters, but it is much less costly to perform than Grid Search. \n",
    "\n",
    "#### 4) Bayesian Methods\n",
    "\n",
    "One thing that can make more manual methods like babysitting and gridsearch effective is that as the experimenter sees results he can then make updates to his future searches taking into account the results of past specifications. If only we could hyperparameter tune our hyperparameter tuning. Well, we kind of can. Enter Bayesian Optimization. Neural Networks are like an optimization problem within an optimization problem, and Bayesian Optimization is a search strategy that tries to take into account the results of past searches in order to improve future ones. Check out the new library `keras-tuner` for easy implementations of Bayesian methods. \n"
   ]
  },
  {
   "cell_type": "markdown",
   "metadata": {
    "colab_type": "text",
    "id": "HfQ7D043OMMn"
   },
   "source": [
    "## What Hyperparameters are there to test?\n",
    "\n",
    "- batch_size\n",
    "- training epochs\n",
    "- optimization algorithms\n",
    "- learning rate\n",
    "- momentum\n",
    "- activation functions\n",
    "- dropout regularization\n",
    "- number of neurons in the hidden layer\n",
    "\n",
    "There are more, but these are the most important."
   ]
  },
  {
   "cell_type": "markdown",
   "metadata": {},
   "source": [
    "## Follow Along"
   ]
  },
  {
   "cell_type": "markdown",
   "metadata": {
    "colab_type": "text",
    "id": "Mri5-kXzVKAa"
   },
   "source": [
    "## Batch Size\n",
    "\n",
    "Batch size determines how many observations the model is shown before it calculates loss/error and updates the model weights via gradient descent. You're looking for a sweet spot here where you're showing it enough observations that you have enough information to updates the weights, but not such a large batch size that you don't get a lot of weight update iterations performed in a given epoch. Feed-forward Neural Networks aren't as sensitive to bach_size as other networks, but it is still an important hyperparameter to tune. Smaller batch sizes will also take longer to train. \n",
    "\n",
    "Traditionally, batch size is set in powers of 2 starting at 32 up to 512. Keras defaults to a batch size of 32 if you do not specify it. Yann LeCun famously Twitted: \n",
    "\n",
    "> Training with large minibatches is bad for your health.\n",
    "More importantly, it's bad for your test error.\n",
    "Friends dont let friends use minibatches larger than 32.\n",
    "\n",
    "Check out this paper for more reference on his tweet. https://arxiv.org/abs/1804.07612. \n",
    "\n",
    "Check out this SO question on why batch size is typically set in powers of two: https://datascience.stackexchange.com/questions/20179/what-is-the-advantage-of-keeping-batch-size-a-power-of-2\n",
    "\n"
   ]
  },
  {
   "cell_type": "code",
   "execution_count": null,
   "metadata": {
    "colab": {
     "base_uri": "https://localhost:8080/",
     "height": 13561
    },
    "colab_type": "code",
    "id": "2smXfriNAGn7",
    "outputId": "ae996575-78e2-43fb-9dbe-5d44aaf0b430"
   },
   "outputs": [],
   "source": [
    "import numpy\n",
    "import pandas as pd\n",
    "from sklearn.model_selection import GridSearchCV\n",
    "from tensorflow.keras.models import Sequential\n",
    "from tensorflow.keras.layers import Dense\n",
    "from tensorflow.keras.wrappers.scikit_learn import KerasClassifier\n",
    "\n",
    "# fix random seed for reproducibility\n",
    "seed = 7\n",
    "numpy.random.seed(seed)\n",
    "\n",
    "# load dataset\n",
    "url =\"https://raw.githubusercontent.com/jbrownlee/Datasets/master/pima-indians-diabetes.data.csv\"\n",
    "\n",
    "dataset = pd.read_csv(url, header=None).values\n",
    "\n",
    "# split into input (X) and output (Y) variables\n",
    "X = dataset[:,0:8]\n",
    "Y = dataset[:,8]\n",
    "\n",
    "# Function to create model, required for KerasClassifier\n",
    "def create_model():\n",
    "    # create model\n",
    "    model = Sequential()\n",
    "    model.add(Dense(12, input_dim=8, activation='relu'))\n",
    "    model.add(Dense(1, activation='sigmoid'))\n",
    "    # Compile model\n",
    "    model.compile(loss='binary_crossentropy', optimizer='adam', metrics=['accuracy'])\n",
    "    return model\n",
    "\n",
    "# create model\n",
    "model = KerasClassifier(build_fn=create_model, verbose=0)\n",
    "\n",
    "# define the grid search parameters\n",
    "# batch_size = [10, 20, 40, 60, 80, 100]\n",
    "# param_grid = dict(batch_size=batch_size, epochs=epochs)\n",
    "\n",
    "# define the grid search parameters\n",
    "param_grid = {'batch_size': [10, 20, 40, 60, 80, 100],\n",
    "              'epochs': [20]}\n",
    "\n",
    "# Create Grid Search\n",
    "grid = GridSearchCV(estimator=model, param_grid=param_grid, n_jobs=1)\n",
    "grid_result = grid.fit(X, Y)\n",
    "\n",
    "# Report Results\n",
    "print(f\"Best: {grid_result.best_score_} using {grid_result.best_params_}\")\n",
    "means = grid_result.cv_results_['mean_test_score']\n",
    "stds = grid_result.cv_results_['std_test_score']\n",
    "params = grid_result.cv_results_['params']\n",
    "for mean, stdev, param in zip(means, stds, params):\n",
    "    print(f\"Means: {mean}, Stdev: {stdev} with: {param}\") "
   ]
  },
  {
   "cell_type": "markdown",
   "metadata": {
    "colab_type": "text",
    "id": "EKcuY6OiaLfz"
   },
   "source": [
    "## Optimizer\n",
    "\n",
    "Remember that there's a different optimizers [optimizers](https://keras.io/optimizers/). At some point, take some time to read up on them a little bit. \"adam\" usually gives the best results. The thing to know about choosing an optimizer is that different optimizers have different hyperparameters like learning rate, momentum, etc. So based on the optimizer you choose you might also have to tune the learning rate and momentum of those optimizers after that. "
   ]
  },
  {
   "cell_type": "markdown",
   "metadata": {
    "colab_type": "text",
    "id": "DG3wq5iOaLig"
   },
   "source": [
    "## Learning Rate\n",
    "\n",
    "Remember that the Learning Rate is a hyperparameter that is specific to your gradient-descent based optimizer selection. A learning rate that is too high will cause divergent behavior, but a Learning Rate that is too low will fail to converge, again, you're looking for the sweet spot. I would start out tuning learning rates by orders of magnitude: [.001, .01, .1, .2, .3, .5] etc. I wouldn't go above .5, but you can try it and see what the behavior is like. \n",
    "\n",
    "Once you have narrowed it down, make the window even smaller and try it again. If after running the above specification your model reports that .1 is the best optimizer, then you should probably try things like [.05, .08, .1, .12, .15] to try and narrow it down. \n",
    "\n",
    "It can also be good to tune the number of epochs in combination with the learning rate since the number of iterations that you allow the learning rate to reach the minimum can determine if you have let it run long enough to converge to the minimum. "
   ]
  },
  {
   "cell_type": "code",
   "execution_count": null,
   "metadata": {},
   "outputs": [],
   "source": [
    "from tensorflow.keras.optimizers import Adam\n",
    "\n",
    "# Function to create model, required for KerasClassifier\n",
    "def create_model(lr):\n",
    "    # create optimizer\n",
    "    adam = Adam(learning_rate=lr)\n",
    "    # create model\n",
    "    model = Sequential()\n",
    "    model.add(Dense(12, input_dim=8, activation='relu'))\n",
    "    model.add(Dense(1, activation='sigmoid'))\n",
    "    # Compile model\n",
    "    model.compile(loss='binary_crossentropy', optimizer='adam', metrics=['accuracy'])\n",
    "    return model\n",
    "\n",
    "# create model\n",
    "model = KerasClassifier(build_fn=create_model, verbose=0)\n",
    "\n",
    "# define the grid search parameters\n",
    "# batch_size = [10, 20, 40, 60, 80, 100]\n",
    "# param_grid = dict(batch_size=batch_size, epochs=epochs)\n",
    "\n",
    "# define the grid search parameters\n",
    "param_grid = {'lr': [.001, .01, .1, .2, .3, .5], \n",
    "              'batch_size': [10],\n",
    "              'epochs': [20]}\n",
    "\n",
    "# Create Grid Search\n",
    "grid = GridSearchCV(estimator=model, param_grid=param_grid, n_jobs=1)\n",
    "grid_result = grid.fit(X, Y)\n",
    "\n",
    "# Report Results\n",
    "print(f\"Best: {grid_result.best_score_} using {grid_result.best_params_}\")\n",
    "means = grid_result.cv_results_['mean_test_score']\n",
    "stds = grid_result.cv_results_['std_test_score']\n",
    "params = grid_result.cv_results_['params']\n",
    "for mean, stdev, param in zip(means, stds, params):\n",
    "    print(f\"Means: {mean}, Stdev: {stdev} with: {param}\") "
   ]
  },
  {
   "cell_type": "markdown",
   "metadata": {
    "colab_type": "text",
    "id": "gNTBUWd1aLlA"
   },
   "source": [
    "## Momentum\n",
    "\n",
    "Momentum is a hyperparameter that is more commonly associated with Stochastic Gradient Descent. SGD is a common optimizer because it's what people understand and know, but I doubt it will get you the best results, you can try hyperparameter tuning its attributes and see if you can beat the performance from adam. Momentum is a property that decides the willingness of an optimizer to overshoot the minimum. Imagine a ball rolling down one side of a bowl and then up the opposite side a little bit before settling back to the bottom. The purpose of momentum is to try and escale local minima."
   ]
  },
  {
   "cell_type": "markdown",
   "metadata": {
    "colab_type": "text",
    "id": "xnEG-bCJaLnZ"
   },
   "source": [
    "## Activation Functions\n",
    "\n",
    "We've talked about this a little bit, typically you'l want to use ReLU for hidden layers and either Sigmoid, or Softmax for output layers of binary and multi-class classification implementations respectively, but try other activation functions and see if you can get any better results with sigmoid or tanh or something. There are a lot of activation functions that we haven't really talked about. Maybe you'll get good results with them. Maybe you won't. :) <https://keras.io/activations/>"
   ]
  },
  {
   "cell_type": "markdown",
   "metadata": {
    "colab_type": "text",
    "id": "oul9sPq-dU-h"
   },
   "source": [
    "## Network Weight Initialization\n",
    "\n",
    "You saw how big of an effect the way that we initialize our network's weights can have on our results. There are **a lot** of what are called initialization modes. I don't understand all of them, but they can have a big affect on your model's initial accuracy. Your model will get further with less epochs if you initialize it with weights that are well suited to the problem you're trying to solve.\n",
    "\n",
    "`init_mode = ['uniform', 'lecun_uniform', 'normal', 'zero', 'glorot_normal', 'glorot_uniform', 'he_normal', 'he_uniform']`"
   ]
  },
  {
   "cell_type": "markdown",
   "metadata": {
    "colab_type": "text",
    "id": "bqtEuxeQaLqE"
   },
   "source": [
    "## Dropout Regularization and the Weight Constraint\n",
    "\n",
    "the Dropout Regularization value is a percentage of neurons that you want to be randomly deactivated during training. The weight constraint is a second regularization parameter that works in tandem with dropout regularization. You should tune these two values at the same time. \n",
    "\n",
    "Using dropout on visible vs hidden layers might have a different effect. Using dropout on hidden layers might not have any effect while using dropout on hidden layers might have a substantial effect. You don't necessarily need to turn use dropout unless you see that your model has overfitting and generalizability problems."
   ]
  },
  {
   "cell_type": "markdown",
   "metadata": {
    "colab_type": "text",
    "id": "P2c5Cv6oaLtO"
   },
   "source": [
    "## Neurons in Hidden Layer \n",
    "\n",
    "Remember that when we only had a single perceptron our model was only able to fit to linearly separable data, but as we have added layers and nodes to those layers our network has become a powerhouse of fitting nonlinearity in data. The larger the network and the more nodes generally the stronger the network's capacity to fit nonlinear patterns in data. The more nodes and layers the longer it will take to train a network, and higher the probability of overfitting. The larger your network gets the more you'll need dropout regularization or other regularization techniques to keep it in check. \n",
    "\n",
    "Typically depth (more layers) is more important than width (more nodes) for neural networks. This is part of why Deep Learning is so highly touted. Certain deep learning architectures have truly been huge breakthroughs for certain machine learning tasks. \n",
    "\n",
    "You might borrow ideas from other network architectures. For example if I was doing image recognition and I wasn't taking cues from state of the art architectures like resnet, alexnet, googlenet, etc. Then I'm probably going to have to do a lot more experimentation on my own before I find something that works.\n",
    "\n",
    "There are some heuristics, but I am highly skeptical of them. I think you're better off experimenting on your own and forming your own intuition for these kinds of problems. \n",
    "\n",
    "- https://machinelearningmastery.com/how-to-configure-the-number-of-layers-and-nodes-in-a-neural-network/"
   ]
  },
  {
   "cell_type": "markdown",
   "metadata": {},
   "source": [
    "## Challenge\n",
    "You will be expected to tune several hyperparameters in today's module project. "
   ]
  },
  {
   "cell_type": "markdown",
   "metadata": {},
   "source": [
    "# Experiment Tracking Framework (Learn)\n",
    "<a id=\"p2\"></a>"
   ]
  },
  {
   "cell_type": "markdown",
   "metadata": {},
   "source": [
    "## Overview\n",
    "\n",
    "You will notice quickly that managing the results of all the experiments you are running becomes challenging. Which set of parameters did the best? Are my results today different than my results yesterday? Although we use Ipython Notebooks to work, the format is not well suited to logging experimental results. Enter experiment tracking frameworks like [Comet.ml](https://comet.ml) and [Weights and Biases](https://wandb.ai/).\n",
    "\n",
    "Those tools will help you track your experiments, store the results, and the code associated with those experiments. Experimental results can also be readily visualized to see changes in performance across any metric you care about. Data is sent to the tool as each epoch is completed, so you can also see if your model is converging. Let's check out Weights & Biases today. "
   ]
  },
  {
   "cell_type": "markdown",
   "metadata": {},
   "source": [
    "## Follow Along\n",
    "\n",
    "Make sure you login into `wandb` in the terminal before running the next cell. "
   ]
  },
  {
   "cell_type": "code",
   "execution_count": null,
   "metadata": {},
   "outputs": [],
   "source": [
    "import wandb\n",
    "from wandb.keras import WandbCallback"
   ]
  },
  {
   "cell_type": "code",
   "execution_count": null,
   "metadata": {
    "colab": {
     "base_uri": "https://localhost:8080/",
     "height": 1750
    },
    "colab_type": "code",
    "id": "GMXVfmzXp1Oo",
    "outputId": "b05e251e-508f-46e6-865b-f869ae2a5dc4"
   },
   "outputs": [],
   "source": [
    "wandb.init(project=wandb_project, entity=wand_group) #Initializes and Experiment\n",
    "\n",
    "# Important Hyperparameters\n",
    "X =  x_train\n",
    "y =  y_train\n",
    "\n",
    "inputs = X.shape[1]\n",
    "wandb.config.epochs = 50\n",
    "wandb.config.batch_size = 10\n",
    "\n",
    "# Create Model\n",
    "model = Sequential()\n",
    "model.add(Dense(64, activation='relu', input_shape=(inputs,)))\n",
    "model.add(Dense(64, activation='relu'))\n",
    "model.add(Dense(64, activation='relu'))\n",
    "model.add(Dense(1))\n",
    "# Compile Model\n",
    "model.compile(optimizer='adam', loss='mse', metrics=['mse', 'mae'])\n",
    "\n",
    "# Fit Model\n",
    "model.fit(X, y, \n",
    "          validation_split=0.33, \n",
    "          epochs=wandb.config.epochs, \n",
    "          batch_size=wandb.config.batch_size, \n",
    "          callbacks=[WandbCallback()]\n",
    "         )"
   ]
  },
  {
   "cell_type": "markdown",
   "metadata": {},
   "source": [
    "### Your Turn\n",
    "\n",
    "Pick a few hyparameters that we *have not* tuned. Using the same code above, try changing a few parameters you're interested in and submitting the results to weights & biases. :) "
   ]
  },
  {
   "cell_type": "code",
   "execution_count": null,
   "metadata": {},
   "outputs": [],
   "source": [
    "wandb.init(project=wandb_project, entity=wand_group) #Initializes and Experiment\n",
    "\n",
    "wandb.config.epochs = 50\n",
    "wandb.config.batch_size = 10\n",
    "\n",
    "\n",
    "# Fit Model\n",
    "model.fit(\n",
    "          callbacks=[WandbCallback()]\n",
    "         )"
   ]
  },
  {
   "cell_type": "markdown",
   "metadata": {},
   "source": [
    "## Challenge\n",
    "\n",
    "You will be expected to use Weights & Biases to try to tune your model during your module assignment today. "
   ]
  },
  {
   "cell_type": "markdown",
   "metadata": {},
   "source": [
    "# Hyperparameters with RandomSearchCV (Learn)"
   ]
  },
  {
   "cell_type": "markdown",
   "metadata": {},
   "source": [
    "## Overview\n",
    "\n",
    "Basically `GridSearchCV` takes forever. You'll want to adopt a slightly more sophiscated strategy.\n",
    "\n",
    "Let's also take a look at an alternative with Keras-Tuner."
   ]
  },
  {
   "cell_type": "code",
   "execution_count": null,
   "metadata": {},
   "outputs": [],
   "source": [
    "!pip install keras-tuner"
   ]
  },
  {
   "cell_type": "markdown",
   "metadata": {},
   "source": [
    "## Follow Along"
   ]
  },
  {
   "cell_type": "code",
   "execution_count": null,
   "metadata": {},
   "outputs": [],
   "source": [
    "from tensorflow import keras\n",
    "from tensorflow.keras import layers\n",
    "from kerastuner.tuners import RandomSearch\n",
    "\n",
    "\"\"\"\n",
    "This model Tunes:\n",
    "- Number of Neurons in the Hidden Layer\n",
    "- Learning Rate in Adam\n",
    "\n",
    "\"\"\"\n",
    "\n",
    "def build_model(hp):\n",
    "    model = keras.Sequential()\n",
    "    model.add(layers.Dense(units=hp.Int('units',\n",
    "                                        min_value=32,\n",
    "                                        max_value=512,\n",
    "                                        step=32),\n",
    "                           activation='relu'))\n",
    "    model.add(layers.Dense(10, activation='softmax'))\n",
    "    model.compile(\n",
    "        optimizer=keras.optimizers.Adam(\n",
    "            hp.Choice('learning_rate',\n",
    "                      values=[1e-2, 1e-3, 1e-4])),\n",
    "        loss='sparse_categorical_crossentropy',\n",
    "        metrics=['accuracy'])\n",
    "    \n",
    "    return model"
   ]
  },
  {
   "cell_type": "code",
   "execution_count": null,
   "metadata": {},
   "outputs": [],
   "source": [
    "tuner = RandomSearch(\n",
    "    build_model,\n",
    "    objective='val_accuracy',\n",
    "    max_trials=5,\n",
    "    executions_per_trial=3,\n",
    "    directory='./keras-tuner-trial',\n",
    "    project_name='helloworld')"
   ]
  },
  {
   "cell_type": "code",
   "execution_count": null,
   "metadata": {},
   "outputs": [],
   "source": [
    "tuner.search_space_summary()"
   ]
  },
  {
   "cell_type": "code",
   "execution_count": null,
   "metadata": {},
   "outputs": [],
   "source": [
    "tuner.search(x, y,\n",
    "             epochs=5,\n",
    "             validation_data=(val_x, val_y))"
   ]
  },
  {
   "cell_type": "code",
   "execution_count": null,
   "metadata": {},
   "outputs": [],
   "source": [
    "tuner.results_summary()"
   ]
  },
  {
   "cell_type": "markdown",
   "metadata": {},
   "source": [
    "## Challenge\n",
    "\n",
    "Try to apply RandomSearchCV to your module project today. "
   ]
  },
  {
   "cell_type": "markdown",
   "metadata": {},
   "source": [
    "# Review\n",
    "* <a href=\"#p1\">Part 1</a>: Describe the major hyperparemeters to tune\n",
    "    - Activation Functions\n",
    "    - Optimizer\n",
    "    - Number of Layers\n",
    "    - Number of Neurons\n",
    "    - Batch Size\n",
    "    - Dropout Regulaization\n",
    "    - Learning Rate\n",
    "    - Number of Epochs\n",
    "    - and many more\n",
    "* <a href=\"#p2\">Part 2</a>: Implement an experiment tracking framework\n",
    "    - Weights & Biases\n",
    "    - Comet.ml\n",
    "    - By Hand / GridSearch\n",
    "* <a href=\"#p3\">Part 3</a>: Search the hyperparameter space using RandomSearch\n",
    "    - Sklearn still useful (haha)\n",
    "    - Integration with Wieghts & Biases\n",
    "* <a href=\"#p4\">Part 4</a>: Discuss emerging hyperparameter tuning strategies\n",
    "    - Bayesian Optimization\n",
    "    - Hyperopt\n",
    "    - Genetic Evolution"
   ]
  },
  {
   "cell_type": "markdown",
   "metadata": {},
   "source": [
    "# Sources"
   ]
  },
  {
   "cell_type": "markdown",
   "metadata": {},
   "source": [
    "## Additional Reading\n",
    "- https://machinelearningmastery.com/grid-search-hyperparameters-deep-learning-models-python-keras/\n",
    "- https://blog.floydhub.com/guide-to-hyperparameters-search-for-deep-learning-models/\n",
    "- https://machinelearningmastery.com/dropout-regularization-deep-learning-models-keras/\n",
    "- https://machinelearningmastery.com/introduction-to-weight-constraints-to-reduce-generalization-error-in-deep-learning/\n",
    "- https://machinelearningmastery.com/how-to-configure-the-number-of-layers-and-nodes-in-a-neural-network/"
   ]
  },
  {
   "cell_type": "code",
   "execution_count": null,
   "metadata": {},
   "outputs": [],
   "source": []
  }
 ],
 "metadata": {
  "kernelspec": {
   "display_name": "Python 3",
   "language": "python",
   "name": "python3"
  },
  "language_info": {
   "codemirror_mode": {
    "name": "ipython",
    "version": 3
   },
   "file_extension": ".py",
   "mimetype": "text/x-python",
   "name": "python",
   "nbconvert_exporter": "python",
   "pygments_lexer": "ipython3",
   "version": "3.7.6"
  }
 },
 "nbformat": 4,
 "nbformat_minor": 4
}
