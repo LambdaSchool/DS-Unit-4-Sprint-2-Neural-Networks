{
 "cells": [
  {
   "cell_type": "markdown",
   "metadata": {
    "colab_type": "text",
    "id": "41TS0Sa0rDNx"
   },
   "source": [
    "Lambda School Data Science\n",
    "\n",
    "*Unit 4, Sprint 2, Module 4*\n",
    "\n",
    "---"
   ]
  },
  {
   "cell_type": "markdown",
   "metadata": {
    "colab_type": "text",
    "id": "41TS0Sa0rDNx"
   },
   "source": [
    "# Neural Networks & GPUs (Prepare)\n",
    "*aka Hyperparameter Tuning*\n",
    "\n",
    "*aka Big Servers for Big Problems*"
   ]
  },
  {
   "cell_type": "markdown",
   "metadata": {
    "colab_type": "text",
    "id": "41TS0Sa0rDNx"
   },
   "source": [
    "## Learning Objectives\n",
    "* <a href=\"#p1\">Part 1</a>: Describe the major hyperparemeters to tune\n",
    "* <a href=\"#p2\">Part 2</a>: Implement an experiment tracking framework\n",
    "* <a href=\"#p3\">Part 3</a>: Search the hyperparameter space using RandomSearch (Optional)"
   ]
  },
  {
   "cell_type": "code",
   "execution_count": null,
   "metadata": {},
   "outputs": [],
   "source": [
    "wandb_group = \"ds8\"\n",
    "wandb_project = \"inclass\""
   ]
  },
  {
   "cell_type": "markdown",
   "metadata": {},
   "source": [
    "# Hyperparameter Options (Learn)\n",
    "<a id=\"p1\"></a>"
   ]
  },
  {
   "cell_type": "markdown",
   "metadata": {},
   "source": [
    "## Overview\n",
    "\n",
    "Hyperparameter tuning is much more important with neural networks than it has been with any other models that we have considered up to this point. Other supervised learning models might have a couple of parameters, but neural networks can have dozens. These can substantially affect the accuracy of our models and although it can be a time consuming process is a necessary step when working with neural networks.\n",
    "​\n",
    "Hyperparameter tuning comes with a challenge. How can we compare models specified with different hyperparameters if our model's final error metric can vary somewhat erratically? How do we avoid just getting unlucky and selecting the wrong hyperparameter? This is a problem that to a certain degree we just have to live with as we test and test again. However, we can minimize it somewhat by pairing our experiments with Cross Validation to reduce the variance of our final accuracy values."
   ]
  },
  {
   "cell_type": "markdown",
   "metadata": {
    "colab_type": "text",
    "id": "0s0o2pqBs88q"
   },
   "source": [
    "### Load Boston Housing Data"
   ]
  },
  {
   "cell_type": "code",
   "execution_count": 1,
   "metadata": {},
   "outputs": [],
   "source": [
    "from tensorflow.keras.datasets import boston_housing\n",
    "\n",
    "(x_train, y_train), (x_test, y_test) = boston_housing.load_data()"
   ]
  },
  {
   "cell_type": "markdown",
   "metadata": {
    "colab_type": "text",
    "id": "Pm7zow5IvaTt"
   },
   "source": [
    "### Normalizing Input Data\n",
    "\n",
    "It's not 100% necessary to normalize/scale your input data before feeding it to a neural network, the network can learn the appropriate weights to deal with data of as long as it is numerically represented,  but it is recommended as it can help **make training faster** and **reduces the chances that gradient descent might get stuck in a local optimum**.\n",
    "\n",
    "<https://stackoverflow.com/questions/4674623/why-do-we-have-to-normalize-the-input-for-an-artificial-neural-network>"
   ]
  },
  {
   "cell_type": "code",
   "execution_count": 2,
   "metadata": {},
   "outputs": [
    {
     "name": "stdout",
     "output_type": "stream",
     "text": [
      "[[-0.27224633 -0.48361547 -0.43576161 -0.25683275 -0.1652266  -0.1764426\n",
      "   0.81306188  0.1166983  -0.62624905 -0.59517003  1.14850044  0.44807713\n",
      "   0.8252202 ]\n",
      " [-0.40342651  2.99178419 -1.33391162 -0.25683275 -1.21518188  1.89434613\n",
      "  -1.91036058  1.24758524 -0.85646254 -0.34843254 -1.71818909  0.43190599\n",
      "  -1.32920239]\n",
      " [ 0.1249402  -0.48361547  1.0283258  -0.25683275  0.62864202 -1.82968811\n",
      "   1.11048828 -1.18743907  1.67588577  1.5652875   0.78447637  0.22061726\n",
      "  -1.30850006]\n",
      " [-0.40149354 -0.48361547 -0.86940196 -0.25683275 -0.3615597  -0.3245576\n",
      "  -1.23667187  1.10717989 -0.51114231 -1.094663    0.78447637  0.44807713\n",
      "  -0.65292624]\n",
      " [-0.0056343  -0.48361547  1.0283258  -0.25683275  1.32861221  0.15364225\n",
      "   0.69480801 -0.57857203  1.67588577  1.5652875   0.78447637  0.3898823\n",
      "   0.26349695]\n",
      " [-0.37502238 -0.48361547 -0.54747912 -0.25683275 -0.54935658 -0.78865126\n",
      "   0.18954148  0.48371503 -0.51114231 -0.71552978  0.51145832  0.38669063\n",
      "  -0.13812828]\n",
      " [ 0.58963463 -0.48361547  1.0283258  -0.25683275  1.21764133 -1.03127774\n",
      "   1.11048828 -1.06518235  1.67588577  1.5652875   0.78447637  0.44807713\n",
      "   1.49873604]\n",
      " [ 0.0381708  -0.48361547  1.24588095 -0.25683275  2.67733525 -1.12719983\n",
      "   1.11048828 -1.14833073 -0.51114231 -0.01744323 -1.71818909  0.44807713\n",
      "   1.88793986]\n",
      " [-0.17228416 -0.48361547  1.24588095 -0.25683275  2.67733525 -0.90150078\n",
      "   1.11048828 -1.09664657 -0.51114231 -0.01744323 -1.71818909 -1.97365769\n",
      "   0.53952803]\n",
      " [-0.22932104 -0.48361547  1.58544339 -0.25683275  0.56888847 -1.76056777\n",
      "   1.11048828 -1.13471925 -0.62624905  0.18716835  1.23950646  0.44807713\n",
      "   2.99068404]]\n"
     ]
    }
   ],
   "source": [
    "from sklearn.preprocessing import StandardScaler\n",
    "\n",
    "scaler = StandardScaler()\n",
    "\n",
    "x_train = scaler.fit_transform(x_train)\n",
    "x_test = scaler.transform(x_test)\n",
    "print(x_train[:10])"
   ]
  },
  {
   "cell_type": "markdown",
   "metadata": {
    "colab_type": "text",
    "id": "l6hgCWbir90R"
   },
   "source": [
    "### Model Validation using an automatic verification Dataset\n",
    "\n",
    "Instead of doing seperate train test split class, Keras has a really nice feature that you can set the validation.data argument when fitting your model and Keras will take that portion of your test data and use it as a validation dataset. "
   ]
  },
  {
   "cell_type": "code",
   "execution_count": 3,
   "metadata": {
    "colab": {
     "base_uri": "https://localhost:8080/",
     "height": 1750
    },
    "colab_type": "code",
    "id": "GMXVfmzXp1Oo",
    "outputId": "b05e251e-508f-46e6-865b-f869ae2a5dc4"
   },
   "outputs": [
    {
     "name": "stderr",
     "output_type": "stream",
     "text": [
      "WARNING: Logging before flag parsing goes to stderr.\n",
      "W0417 10:12:30.342784 139692820760384 deprecation.py:506] From /home/ivan/anaconda3/envs/Unit4Sprint2/lib/python3.7/site-packages/tensorflow/python/ops/init_ops.py:1251: calling VarianceScaling.__init__ (from tensorflow.python.ops.init_ops) with dtype is deprecated and will be removed in a future version.\n",
      "Instructions for updating:\n",
      "Call initializer instance with the dtype argument instead of passing it to the constructor\n"
     ]
    },
    {
     "name": "stdout",
     "output_type": "stream",
     "text": [
      "Train on 404 samples, validate on 102 samples\n",
      "Epoch 1/75\n",
      "404/404 [==============================] - 0s 711us/sample - loss: 455.5855 - mean_squared_error: 455.5855 - mean_absolute_error: 19.3473 - val_loss: 340.1570 - val_mean_squared_error: 340.1570 - val_mean_absolute_error: 16.3683\n",
      "Epoch 2/75\n",
      "404/404 [==============================] - 0s 464us/sample - loss: 175.5139 - mean_squared_error: 175.5139 - mean_absolute_error: 10.5530 - val_loss: 65.5826 - val_mean_squared_error: 65.5826 - val_mean_absolute_error: 6.4978\n",
      "Epoch 3/75\n",
      "404/404 [==============================] - 0s 542us/sample - loss: 43.9806 - mean_squared_error: 43.9806 - mean_absolute_error: 4.8555 - val_loss: 33.5902 - val_mean_squared_error: 33.5902 - val_mean_absolute_error: 4.6147\n",
      "Epoch 4/75\n",
      "404/404 [==============================] - 0s 597us/sample - loss: 26.1750 - mean_squared_error: 26.1750 - mean_absolute_error: 3.5494 - val_loss: 26.7442 - val_mean_squared_error: 26.7442 - val_mean_absolute_error: 4.1818\n",
      "Epoch 5/75\n",
      "404/404 [==============================] - 0s 575us/sample - loss: 20.8288 - mean_squared_error: 20.8288 - mean_absolute_error: 3.2553 - val_loss: 24.6162 - val_mean_squared_error: 24.6162 - val_mean_absolute_error: 3.8246\n",
      "Epoch 6/75\n",
      "404/404 [==============================] - 0s 591us/sample - loss: 18.3013 - mean_squared_error: 18.3013 - mean_absolute_error: 2.9783 - val_loss: 23.6109 - val_mean_squared_error: 23.6109 - val_mean_absolute_error: 3.7488\n",
      "Epoch 7/75\n",
      "404/404 [==============================] - 0s 606us/sample - loss: 16.4856 - mean_squared_error: 16.4856 - mean_absolute_error: 2.8443 - val_loss: 22.7533 - val_mean_squared_error: 22.7533 - val_mean_absolute_error: 3.5856\n",
      "Epoch 8/75\n",
      "404/404 [==============================] - 0s 587us/sample - loss: 15.2273 - mean_squared_error: 15.2273 - mean_absolute_error: 2.7451 - val_loss: 23.2568 - val_mean_squared_error: 23.2568 - val_mean_absolute_error: 3.5683\n",
      "Epoch 9/75\n",
      "404/404 [==============================] - 0s 622us/sample - loss: 13.9581 - mean_squared_error: 13.9581 - mean_absolute_error: 2.6201 - val_loss: 22.9221 - val_mean_squared_error: 22.9221 - val_mean_absolute_error: 3.4768\n",
      "Epoch 10/75\n",
      "404/404 [==============================] - 0s 583us/sample - loss: 13.2109 - mean_squared_error: 13.2109 - mean_absolute_error: 2.5385 - val_loss: 22.6857 - val_mean_squared_error: 22.6857 - val_mean_absolute_error: 3.4231\n",
      "Epoch 11/75\n",
      "404/404 [==============================] - 0s 599us/sample - loss: 12.3217 - mean_squared_error: 12.3217 - mean_absolute_error: 2.5242 - val_loss: 23.9686 - val_mean_squared_error: 23.9686 - val_mean_absolute_error: 3.4706\n",
      "Epoch 12/75\n",
      "404/404 [==============================] - 0s 612us/sample - loss: 11.7520 - mean_squared_error: 11.7520 - mean_absolute_error: 2.4377 - val_loss: 23.4636 - val_mean_squared_error: 23.4636 - val_mean_absolute_error: 3.3860\n",
      "Epoch 13/75\n",
      "404/404 [==============================] - 0s 659us/sample - loss: 11.2636 - mean_squared_error: 11.2636 - mean_absolute_error: 2.3936 - val_loss: 22.6662 - val_mean_squared_error: 22.6662 - val_mean_absolute_error: 3.3251\n",
      "Epoch 14/75\n",
      "404/404 [==============================] - 0s 339us/sample - loss: 10.8115 - mean_squared_error: 10.8115 - mean_absolute_error: 2.3473 - val_loss: 23.3899 - val_mean_squared_error: 23.3899 - val_mean_absolute_error: 3.2931\n",
      "Epoch 15/75\n",
      "404/404 [==============================] - 0s 474us/sample - loss: 10.7324 - mean_squared_error: 10.7324 - mean_absolute_error: 2.3018 - val_loss: 23.3761 - val_mean_squared_error: 23.3761 - val_mean_absolute_error: 3.2625\n",
      "Epoch 16/75\n",
      "404/404 [==============================] - 0s 554us/sample - loss: 10.2811 - mean_squared_error: 10.2811 - mean_absolute_error: 2.2971 - val_loss: 23.0679 - val_mean_squared_error: 23.0679 - val_mean_absolute_error: 3.2317\n",
      "Epoch 17/75\n",
      "404/404 [==============================] - 0s 590us/sample - loss: 9.9942 - mean_squared_error: 9.9942 - mean_absolute_error: 2.2511 - val_loss: 22.9966 - val_mean_squared_error: 22.9966 - val_mean_absolute_error: 3.2046\n",
      "Epoch 18/75\n",
      "404/404 [==============================] - 0s 520us/sample - loss: 9.7982 - mean_squared_error: 9.7982 - mean_absolute_error: 2.2289 - val_loss: 24.1327 - val_mean_squared_error: 24.1327 - val_mean_absolute_error: 3.2456\n",
      "Epoch 19/75\n",
      "404/404 [==============================] - 0s 638us/sample - loss: 9.6987 - mean_squared_error: 9.6987 - mean_absolute_error: 2.2403 - val_loss: 23.5373 - val_mean_squared_error: 23.5373 - val_mean_absolute_error: 3.1950\n",
      "Epoch 20/75\n",
      "404/404 [==============================] - 0s 575us/sample - loss: 9.4082 - mean_squared_error: 9.4082 - mean_absolute_error: 2.1919 - val_loss: 22.6920 - val_mean_squared_error: 22.6920 - val_mean_absolute_error: 3.1461\n",
      "Epoch 21/75\n",
      "404/404 [==============================] - 0s 500us/sample - loss: 9.3144 - mean_squared_error: 9.3144 - mean_absolute_error: 2.1655 - val_loss: 25.0907 - val_mean_squared_error: 25.0907 - val_mean_absolute_error: 3.2594\n",
      "Epoch 22/75\n",
      "404/404 [==============================] - 0s 518us/sample - loss: 9.2346 - mean_squared_error: 9.2346 - mean_absolute_error: 2.1954 - val_loss: 21.9169 - val_mean_squared_error: 21.9169 - val_mean_absolute_error: 3.0809\n",
      "Epoch 23/75\n",
      "404/404 [==============================] - 0s 527us/sample - loss: 9.0091 - mean_squared_error: 9.0091 - mean_absolute_error: 2.1505 - val_loss: 24.9196 - val_mean_squared_error: 24.9196 - val_mean_absolute_error: 3.2376\n",
      "Epoch 24/75\n",
      "404/404 [==============================] - 0s 518us/sample - loss: 9.0158 - mean_squared_error: 9.0158 - mean_absolute_error: 2.1555 - val_loss: 23.3540 - val_mean_squared_error: 23.3540 - val_mean_absolute_error: 3.1481\n",
      "Epoch 25/75\n",
      "404/404 [==============================] - 0s 522us/sample - loss: 8.9236 - mean_squared_error: 8.9236 - mean_absolute_error: 2.1179 - val_loss: 22.4539 - val_mean_squared_error: 22.4539 - val_mean_absolute_error: 3.0845\n",
      "Epoch 26/75\n",
      "404/404 [==============================] - 0s 501us/sample - loss: 8.6689 - mean_squared_error: 8.6689 - mean_absolute_error: 2.0976 - val_loss: 22.2011 - val_mean_squared_error: 22.2011 - val_mean_absolute_error: 3.0572\n",
      "Epoch 27/75\n",
      "404/404 [==============================] - 0s 477us/sample - loss: 8.7378 - mean_squared_error: 8.7378 - mean_absolute_error: 2.0993 - val_loss: 22.9911 - val_mean_squared_error: 22.9911 - val_mean_absolute_error: 3.0806\n",
      "Epoch 28/75\n",
      "404/404 [==============================] - 0s 500us/sample - loss: 8.6444 - mean_squared_error: 8.6444 - mean_absolute_error: 2.0868 - val_loss: 20.9798 - val_mean_squared_error: 20.9798 - val_mean_absolute_error: 2.9784\n",
      "Epoch 29/75\n",
      "404/404 [==============================] - 0s 501us/sample - loss: 8.4064 - mean_squared_error: 8.4064 - mean_absolute_error: 2.0645 - val_loss: 22.0543 - val_mean_squared_error: 22.0543 - val_mean_absolute_error: 3.0028\n",
      "Epoch 30/75\n",
      "404/404 [==============================] - 0s 503us/sample - loss: 8.2858 - mean_squared_error: 8.2858 - mean_absolute_error: 2.0380 - val_loss: 23.1832 - val_mean_squared_error: 23.1832 - val_mean_absolute_error: 3.0808\n",
      "Epoch 31/75\n",
      "404/404 [==============================] - 0s 500us/sample - loss: 8.2036 - mean_squared_error: 8.2036 - mean_absolute_error: 2.0372 - val_loss: 22.9624 - val_mean_squared_error: 22.9624 - val_mean_absolute_error: 3.0498\n",
      "Epoch 32/75\n",
      "404/404 [==============================] - 0s 509us/sample - loss: 8.1950 - mean_squared_error: 8.1950 - mean_absolute_error: 2.0410 - val_loss: 21.5729 - val_mean_squared_error: 21.5729 - val_mean_absolute_error: 2.9485\n",
      "Epoch 33/75\n",
      "404/404 [==============================] - 0s 617us/sample - loss: 8.0231 - mean_squared_error: 8.0231 - mean_absolute_error: 1.9957 - val_loss: 22.4645 - val_mean_squared_error: 22.4645 - val_mean_absolute_error: 2.9877\n",
      "Epoch 34/75\n",
      "404/404 [==============================] - 0s 392us/sample - loss: 7.9728 - mean_squared_error: 7.9728 - mean_absolute_error: 2.0113 - val_loss: 21.9726 - val_mean_squared_error: 21.9726 - val_mean_absolute_error: 2.9711\n",
      "Epoch 35/75\n",
      "404/404 [==============================] - 0s 347us/sample - loss: 7.9693 - mean_squared_error: 7.9693 - mean_absolute_error: 1.9858 - val_loss: 21.3833 - val_mean_squared_error: 21.3833 - val_mean_absolute_error: 3.0195\n",
      "Epoch 36/75\n",
      "404/404 [==============================] - 0s 277us/sample - loss: 7.6586 - mean_squared_error: 7.6586 - mean_absolute_error: 1.9654 - val_loss: 21.7253 - val_mean_squared_error: 21.7253 - val_mean_absolute_error: 2.9507\n",
      "Epoch 37/75\n",
      "404/404 [==============================] - 0s 237us/sample - loss: 7.7791 - mean_squared_error: 7.7791 - mean_absolute_error: 1.9686 - val_loss: 23.4228 - val_mean_squared_error: 23.4228 - val_mean_absolute_error: 3.1006\n",
      "Epoch 38/75\n",
      "404/404 [==============================] - 0s 242us/sample - loss: 7.8981 - mean_squared_error: 7.8981 - mean_absolute_error: 2.0013 - val_loss: 22.6181 - val_mean_squared_error: 22.6181 - val_mean_absolute_error: 2.9788\n",
      "Epoch 39/75\n",
      "404/404 [==============================] - 0s 502us/sample - loss: 7.3942 - mean_squared_error: 7.3942 - mean_absolute_error: 1.9474 - val_loss: 20.1754 - val_mean_squared_error: 20.1754 - val_mean_absolute_error: 2.8336\n",
      "Epoch 40/75\n",
      "404/404 [==============================] - 0s 526us/sample - loss: 7.3268 - mean_squared_error: 7.3268 - mean_absolute_error: 1.9025 - val_loss: 21.3713 - val_mean_squared_error: 21.3713 - val_mean_absolute_error: 2.9393\n",
      "Epoch 41/75\n",
      "404/404 [==============================] - 0s 431us/sample - loss: 7.2747 - mean_squared_error: 7.2747 - mean_absolute_error: 1.9134 - val_loss: 19.9910 - val_mean_squared_error: 19.9910 - val_mean_absolute_error: 2.8161\n",
      "Epoch 42/75\n",
      "404/404 [==============================] - 0s 514us/sample - loss: 7.2241 - mean_squared_error: 7.2241 - mean_absolute_error: 1.9113 - val_loss: 21.0136 - val_mean_squared_error: 21.0136 - val_mean_absolute_error: 2.9594\n",
      "Epoch 43/75\n",
      "404/404 [==============================] - 0s 514us/sample - loss: 7.1694 - mean_squared_error: 7.1694 - mean_absolute_error: 1.8916 - val_loss: 20.5098 - val_mean_squared_error: 20.5098 - val_mean_absolute_error: 2.8099\n",
      "Epoch 44/75\n",
      "404/404 [==============================] - 0s 506us/sample - loss: 7.0856 - mean_squared_error: 7.0856 - mean_absolute_error: 1.8878 - val_loss: 20.3456 - val_mean_squared_error: 20.3456 - val_mean_absolute_error: 2.8142\n",
      "Epoch 45/75\n",
      "404/404 [==============================] - 0s 519us/sample - loss: 7.1016 - mean_squared_error: 7.1016 - mean_absolute_error: 1.8606 - val_loss: 21.9674 - val_mean_squared_error: 21.9674 - val_mean_absolute_error: 2.9064\n",
      "Epoch 46/75\n",
      "404/404 [==============================] - 0s 502us/sample - loss: 7.0922 - mean_squared_error: 7.0922 - mean_absolute_error: 1.8910 - val_loss: 20.0991 - val_mean_squared_error: 20.0991 - val_mean_absolute_error: 2.8222\n",
      "Epoch 47/75\n",
      "404/404 [==============================] - 0s 482us/sample - loss: 6.7699 - mean_squared_error: 6.7699 - mean_absolute_error: 1.8575 - val_loss: 21.4421 - val_mean_squared_error: 21.4421 - val_mean_absolute_error: 2.8910\n",
      "Epoch 48/75\n",
      "404/404 [==============================] - 0s 477us/sample - loss: 6.9996 - mean_squared_error: 6.9996 - mean_absolute_error: 1.8886 - val_loss: 20.5300 - val_mean_squared_error: 20.5300 - val_mean_absolute_error: 2.7892\n",
      "Epoch 49/75\n",
      "404/404 [==============================] - 0s 534us/sample - loss: 6.8265 - mean_squared_error: 6.8265 - mean_absolute_error: 1.8599 - val_loss: 19.8864 - val_mean_squared_error: 19.8864 - val_mean_absolute_error: 2.7420\n",
      "Epoch 50/75\n",
      "404/404 [==============================] - 0s 511us/sample - loss: 6.6376 - mean_squared_error: 6.6376 - mean_absolute_error: 1.8208 - val_loss: 19.6816 - val_mean_squared_error: 19.6816 - val_mean_absolute_error: 2.7508\n",
      "Epoch 51/75\n",
      "404/404 [==============================] - 0s 524us/sample - loss: 6.6643 - mean_squared_error: 6.6643 - mean_absolute_error: 1.8425 - val_loss: 19.8885 - val_mean_squared_error: 19.8885 - val_mean_absolute_error: 2.7569\n",
      "Epoch 52/75\n",
      "404/404 [==============================] - 0s 511us/sample - loss: 6.5042 - mean_squared_error: 6.5042 - mean_absolute_error: 1.8300 - val_loss: 19.3598 - val_mean_squared_error: 19.3598 - val_mean_absolute_error: 2.8227\n",
      "Epoch 53/75\n",
      "404/404 [==============================] - 0s 468us/sample - loss: 6.7454 - mean_squared_error: 6.7454 - mean_absolute_error: 1.8479 - val_loss: 19.7642 - val_mean_squared_error: 19.7642 - val_mean_absolute_error: 2.7351\n",
      "Epoch 54/75\n",
      "404/404 [==============================] - 0s 520us/sample - loss: 6.6134 - mean_squared_error: 6.6134 - mean_absolute_error: 1.8382 - val_loss: 19.7010 - val_mean_squared_error: 19.7010 - val_mean_absolute_error: 2.7989\n",
      "Epoch 55/75\n",
      "404/404 [==============================] - 0s 389us/sample - loss: 6.3904 - mean_squared_error: 6.3904 - mean_absolute_error: 1.7935 - val_loss: 18.9963 - val_mean_squared_error: 18.9963 - val_mean_absolute_error: 2.7023\n",
      "Epoch 56/75\n",
      "404/404 [==============================] - 0s 464us/sample - loss: 6.2675 - mean_squared_error: 6.2675 - mean_absolute_error: 1.7849 - val_loss: 19.6068 - val_mean_squared_error: 19.6068 - val_mean_absolute_error: 2.8074\n",
      "Epoch 57/75\n",
      "404/404 [==============================] - 0s 639us/sample - loss: 6.2909 - mean_squared_error: 6.2909 - mean_absolute_error: 1.7947 - val_loss: 21.0200 - val_mean_squared_error: 21.0200 - val_mean_absolute_error: 2.8685\n",
      "Epoch 58/75\n",
      "404/404 [==============================] - 0s 259us/sample - loss: 6.4738 - mean_squared_error: 6.4738 - mean_absolute_error: 1.7962 - val_loss: 22.3942 - val_mean_squared_error: 22.3942 - val_mean_absolute_error: 2.9424\n",
      "Epoch 59/75\n",
      "404/404 [==============================] - 0s 286us/sample - loss: 6.2610 - mean_squared_error: 6.2610 - mean_absolute_error: 1.8022 - val_loss: 19.2886 - val_mean_squared_error: 19.2886 - val_mean_absolute_error: 2.7343\n",
      "Epoch 60/75\n",
      "404/404 [==============================] - 0s 259us/sample - loss: 6.1234 - mean_squared_error: 6.1234 - mean_absolute_error: 1.7504 - val_loss: 19.4158 - val_mean_squared_error: 19.4158 - val_mean_absolute_error: 2.6882\n",
      "Epoch 61/75\n",
      "404/404 [==============================] - 0s 507us/sample - loss: 6.0672 - mean_squared_error: 6.0672 - mean_absolute_error: 1.7405 - val_loss: 18.6494 - val_mean_squared_error: 18.6494 - val_mean_absolute_error: 2.6803\n",
      "Epoch 62/75\n",
      "404/404 [==============================] - 0s 488us/sample - loss: 6.0426 - mean_squared_error: 6.0426 - mean_absolute_error: 1.7548 - val_loss: 18.7477 - val_mean_squared_error: 18.7477 - val_mean_absolute_error: 2.6921\n",
      "Epoch 63/75\n",
      "404/404 [==============================] - 0s 470us/sample - loss: 5.9695 - mean_squared_error: 5.9695 - mean_absolute_error: 1.7164 - val_loss: 18.6389 - val_mean_squared_error: 18.6389 - val_mean_absolute_error: 2.6901\n",
      "Epoch 64/75\n",
      "404/404 [==============================] - 0s 248us/sample - loss: 5.7951 - mean_squared_error: 5.7951 - mean_absolute_error: 1.7077 - val_loss: 20.3607 - val_mean_squared_error: 20.3607 - val_mean_absolute_error: 2.8347\n",
      "Epoch 65/75\n",
      "404/404 [==============================] - 0s 474us/sample - loss: 5.8309 - mean_squared_error: 5.8309 - mean_absolute_error: 1.7312 - val_loss: 18.8333 - val_mean_squared_error: 18.8333 - val_mean_absolute_error: 2.6690\n",
      "Epoch 66/75\n",
      "404/404 [==============================] - 0s 501us/sample - loss: 5.7498 - mean_squared_error: 5.7498 - mean_absolute_error: 1.7237 - val_loss: 18.2637 - val_mean_squared_error: 18.2637 - val_mean_absolute_error: 2.6551\n",
      "Epoch 67/75\n",
      "404/404 [==============================] - 0s 352us/sample - loss: 5.7487 - mean_squared_error: 5.7487 - mean_absolute_error: 1.6942 - val_loss: 19.4720 - val_mean_squared_error: 19.4720 - val_mean_absolute_error: 2.7325\n",
      "Epoch 68/75\n",
      "404/404 [==============================] - 0s 269us/sample - loss: 5.9913 - mean_squared_error: 5.9913 - mean_absolute_error: 1.7597 - val_loss: 19.9460 - val_mean_squared_error: 19.9460 - val_mean_absolute_error: 2.7999\n",
      "Epoch 69/75\n",
      "404/404 [==============================] - 0s 423us/sample - loss: 5.5312 - mean_squared_error: 5.5312 - mean_absolute_error: 1.6877 - val_loss: 18.0098 - val_mean_squared_error: 18.0098 - val_mean_absolute_error: 2.6361\n",
      "Epoch 70/75\n",
      "404/404 [==============================] - 0s 494us/sample - loss: 6.0091 - mean_squared_error: 6.0091 - mean_absolute_error: 1.7759 - val_loss: 17.4709 - val_mean_squared_error: 17.4709 - val_mean_absolute_error: 2.5720\n",
      "Epoch 71/75\n",
      "404/404 [==============================] - 0s 330us/sample - loss: 5.8445 - mean_squared_error: 5.8445 - mean_absolute_error: 1.7148 - val_loss: 18.2238 - val_mean_squared_error: 18.2238 - val_mean_absolute_error: 2.6599\n",
      "Epoch 72/75\n",
      "404/404 [==============================] - 0s 521us/sample - loss: 5.8370 - mean_squared_error: 5.8370 - mean_absolute_error: 1.7361 - val_loss: 18.0123 - val_mean_squared_error: 18.0123 - val_mean_absolute_error: 2.6541\n",
      "Epoch 73/75\n",
      "404/404 [==============================] - 0s 278us/sample - loss: 5.6994 - mean_squared_error: 5.6994 - mean_absolute_error: 1.6658 - val_loss: 16.6260 - val_mean_squared_error: 16.6260 - val_mean_absolute_error: 2.5467\n",
      "Epoch 74/75\n",
      "404/404 [==============================] - 0s 252us/sample - loss: 5.7562 - mean_squared_error: 5.7562 - mean_absolute_error: 1.7360 - val_loss: 18.1457 - val_mean_squared_error: 18.1457 - val_mean_absolute_error: 2.6425\n",
      "Epoch 75/75\n",
      "404/404 [==============================] - 0s 393us/sample - loss: 5.4282 - mean_squared_error: 5.4282 - mean_absolute_error: 1.7149 - val_loss: 17.0065 - val_mean_squared_error: 17.0065 - val_mean_absolute_error: 2.6250\n"
     ]
    },
    {
     "data": {
      "text/plain": [
       "<tensorflow.python.keras.callbacks.History at 0x7f0c802ccfd0>"
      ]
     },
     "execution_count": 3,
     "metadata": {},
     "output_type": "execute_result"
    }
   ],
   "source": [
    "from tensorflow import keras\n",
    "from tensorflow.keras.models import Sequential\n",
    "from tensorflow.keras.layers import Dense\n",
    "\n",
    "# Important Hyperparameters\n",
    "inputs = x_train.shape[1]\n",
    "epochs = 75\n",
    "batch_size = 10\n",
    "\n",
    "\n",
    "# Create Model\n",
    "model = Sequential()\n",
    "model.add(Dense(64, activation='relu', input_shape=(inputs,)))\n",
    "model.add(Dense(64, activation='relu'))\n",
    "model.add(Dense(1))\n",
    "\n",
    "# Compile Model\n",
    "model.compile(optimizer='adam', loss='mse', metrics=['mse', 'mae'])\n",
    "\n",
    "# Fit Model\n",
    "model.fit(x_train, y_train, \n",
    "          validation_data=(x_test,y_test), \n",
    "          epochs=epochs, \n",
    "          batch_size=batch_size\n",
    "         )"
   ]
  },
  {
   "cell_type": "markdown",
   "metadata": {
    "colab_type": "text",
    "id": "sYJ8t_ezHP4W"
   },
   "source": [
    "### Hyperparameter Tuning Approaches:\n",
    "\n",
    "#### 1) Babysitting AKA \"Grad Student Descent\".\n",
    "\n",
    "If you fiddled with any hyperparameters yesterday, this is basically what you did. This approach is 100% manual and is pretty common among researchers where finding that 1 exact specification that jumps your model to a level of accuracy never seen before is the difference between publishing and not publishing a paper. Of course the professors don't do this themselves, that's grunt work. This is also known as the fiddle with hyperparameters until you run out of time method.\n",
    "\n",
    "#### 2) Grid Search\n",
    "\n",
    "Grid Search is the Grad Student galaxy brain realization of: why don't I just specify all the experiments I want to run and let the computer try every possible combination of them while I go and grab lunch. This has a specific downside in that if I specify 5 hyperparameters with 5 options each then I've just created 5^5 combinations of hyperparameters to check. Which means that I have to train 3125 different versions of my model Then if I use 5-fold Cross Validation on that then my model has to run 15,525 times. This is the brute-force method of hyperparameter tuning, but it can be very profitable if done wisely. \n",
    "\n",
    "When using Grid Search here's what I suggest: don't use it to test combinations of different hyperparameters, only use it to test different specifications of **a single** hyperparameter. It's rare that combinations between different hyperparameters lead to big performance gains. You'll get 90-95% of the way there if you just Grid Search one parameter and take the best result, then retain that best result while you test another, and then retain the best specification from that while you train another. This at least makes the situation much more manageable and leads to pretty good results. \n",
    "\n",
    "#### 3) Random Search\n",
    "\n",
    "Do Grid Search for a couple of hours and you'll say to yourself - \"There's got to be a better way.\" Enter Random Search. For Random search you specify a hyperparameter space and it picks specifications from that randomly, tries them out, gives you the best results and says - That's going to have to be good enough, go home and spend time with your family. \n",
    "\n",
    "Grid Search treats every parameter as if it was equally important, but this just isn't the case, some are known to move the needle a lot more than others (we'll talk about that in a minute). Random Search allows searching to be specified along the most important parameter and experiments less along the dimensions of less important hyperparameters. The downside of Random search is that it won't find the absolute best hyperparameters, but it is much less costly to perform than Grid Search. \n",
    "\n",
    "#### 4) Bayesian Methods\n",
    "\n",
    "One thing that can make more manual methods like babysitting and gridsearch effective is that as the experimenter sees results he can then make updates to his future searches taking into account the results of past specifications. If only we could hyperparameter tune our hyperparameter tuning. Well, we kind of can. Enter Bayesian Optimization. Neural Networks are like an optimization problem within an optimization problem, and Bayesian Optimization is a search strategy that tries to take into account the results of past searches in order to improve future ones. This is the most advanced method but can be a little bit tricky to implement, but there are some early steps with `hyperas` which is Bayesian optimization wrapper for `keras`. "
   ]
  },
  {
   "cell_type": "markdown",
   "metadata": {
    "colab_type": "text",
    "id": "HfQ7D043OMMn"
   },
   "source": [
    "## What Hyperparameters are there to test?\n",
    "\n",
    "- batch_size\n",
    "- training epochs\n",
    "- optimization algorithms\n",
    "- learning rate\n",
    "- momentum\n",
    "- activation functions\n",
    "- dropout regularization\n",
    "- number of neurons in the hidden layer\n",
    "\n",
    "There are more, but these are the most important."
   ]
  },
  {
   "cell_type": "markdown",
   "metadata": {},
   "source": [
    "## Follow Along"
   ]
  },
  {
   "cell_type": "markdown",
   "metadata": {
    "colab_type": "text",
    "id": "Mri5-kXzVKAa"
   },
   "source": [
    "## Batch Size\n",
    "\n",
    "Batch size determines how many observations the model is shown before it calculates loss/error and updates the model weights via gradient descent. You're looking for a sweet spot here where you're showing it enough observations that you have enough information to updates the weights, but not such a large batch size that you don't get a lot of weight update iterations performed in a given epoch. Feed-forward Neural Networks aren't as sensitive to bach_size as other networks, but it is still an important hyperparameter to tune. Smaller batch sizes will also take longer to train. "
   ]
  },
  {
   "cell_type": "code",
   "execution_count": 4,
   "metadata": {
    "colab": {
     "base_uri": "https://localhost:8080/",
     "height": 13561
    },
    "colab_type": "code",
    "id": "2smXfriNAGn7",
    "outputId": "ae996575-78e2-43fb-9dbe-5d44aaf0b430"
   },
   "outputs": [
    {
     "name": "stderr",
     "output_type": "stream",
     "text": [
      "/home/ivan/anaconda3/envs/Unit4Sprint2/lib/python3.7/site-packages/sklearn/model_selection/_split.py:1978: FutureWarning: The default value of cv will change from 3 to 5 in version 0.22. Specify it explicitly to silence this warning.\n",
      "  warnings.warn(CV_WARNING, FutureWarning)\n",
      "W0417 10:13:07.457302 139692820760384 deprecation.py:323] From /home/ivan/anaconda3/envs/Unit4Sprint2/lib/python3.7/site-packages/tensorflow/python/ops/nn_impl.py:180: add_dispatch_support.<locals>.wrapper (from tensorflow.python.ops.array_ops) is deprecated and will be removed in a future version.\n",
      "Instructions for updating:\n",
      "Use tf.where in 2.0, which has the same broadcast rule as np.where\n"
     ]
    },
    {
     "name": "stdout",
     "output_type": "stream",
     "text": [
      "Best: 0.5950520833333334 using {'batch_size': 80, 'epochs': 20}\n",
      "Means: 0.59375, Stdev: 0.030757843257858637 with: {'batch_size': 10, 'epochs': 20}\n",
      "Means: 0.58984375, Stdev: 0.04910080113272084 with: {'batch_size': 20, 'epochs': 20}\n",
      "Means: 0.58984375, Stdev: 0.035516098169234 with: {'batch_size': 40, 'epochs': 20}\n",
      "Means: 0.5755208333333334, Stdev: 0.03845006005269115 with: {'batch_size': 60, 'epochs': 20}\n",
      "Means: 0.5950520833333334, Stdev: 0.04625604080294691 with: {'batch_size': 80, 'epochs': 20}\n",
      "Means: 0.5846354166666666, Stdev: 0.08195888011383445 with: {'batch_size': 100, 'epochs': 20}\n"
     ]
    }
   ],
   "source": [
    "import numpy\n",
    "import pandas as pd\n",
    "from sklearn.model_selection import GridSearchCV\n",
    "from tensorflow.keras.models import Sequential\n",
    "from tensorflow.keras.layers import Dense\n",
    "from tensorflow.keras.wrappers.scikit_learn import KerasClassifier\n",
    "\n",
    "# fix random seed for reproducibility\n",
    "seed = 7\n",
    "numpy.random.seed(seed)\n",
    "\n",
    "# load dataset\n",
    "url =\"https://raw.githubusercontent.com/jbrownlee/Datasets/master/pima-indians-diabetes.data.csv\"\n",
    "\n",
    "dataset = pd.read_csv(url, header=None).values\n",
    "\n",
    "# split into input (X) and output (Y) variables\n",
    "X = dataset[:,0:8]\n",
    "Y = dataset[:,8]\n",
    "\n",
    "# Function to create model, required for KerasClassifier\n",
    "def create_model():\n",
    "    # create model\n",
    "    model = Sequential()\n",
    "    model.add(Dense(12, input_dim=8, activation='relu'))\n",
    "    model.add(Dense(1, activation='sigmoid'))\n",
    "    # Compile model\n",
    "    model.compile(loss='binary_crossentropy', optimizer='adam', metrics=['accuracy'])\n",
    "    return model\n",
    "\n",
    "# create model\n",
    "model = KerasClassifier(build_fn=create_model, verbose=0)\n",
    "\n",
    "# define the grid search parameters\n",
    "# batch_size = [10, 20, 40, 60, 80, 100]\n",
    "# param_grid = dict(batch_size=batch_size, epochs=epochs)\n",
    "\n",
    "# define the grid search parameters\n",
    "param_grid = {'batch_size': [10, 20, 40, 60, 80, 100],\n",
    "              'epochs': [20]}\n",
    "\n",
    "# Create Grid Search\n",
    "grid = GridSearchCV(estimator=model, param_grid=param_grid, n_jobs=1)\n",
    "grid_result = grid.fit(X, Y)\n",
    "\n",
    "# Report Results\n",
    "print(f\"Best: {grid_result.best_score_} using {grid_result.best_params_}\")\n",
    "means = grid_result.cv_results_['mean_test_score']\n",
    "stds = grid_result.cv_results_['std_test_score']\n",
    "params = grid_result.cv_results_['params']\n",
    "for mean, stdev, param in zip(means, stds, params):\n",
    "    print(f\"Means: {mean}, Stdev: {stdev} with: {param}\") "
   ]
  },
  {
   "cell_type": "markdown",
   "metadata": {
    "colab_type": "text",
    "id": "pmABfjlvXbqi"
   },
   "source": [
    "## Epochs\n",
    "\n",
    "The number of training epochs has a large and direct affect on the accuracy, However, more epochs is almost always goign to better than less epochs. This means that if you tune this parameter at the beginning and try and maintain the same value all throughout your training, you're going to be waiting a long time for each iteration of GridSearch. I suggest picking a fixed moderat # of epochs all throughout your training and then Grid Searching this parameter at the very end. "
   ]
  },
  {
   "cell_type": "code",
   "execution_count": 5,
   "metadata": {
    "colab": {
     "base_uri": "https://localhost:8080/",
     "height": 26329
    },
    "colab_type": "code",
    "id": "bAmxP3N7TmFh",
    "outputId": "3ddb08c4-51ac-4eaa-ff39-143397024544"
   },
   "outputs": [
    {
     "name": "stdout",
     "output_type": "stream",
     "text": [
      "Best: 0.7161458333333334 using {'batch_size': 20, 'epochs': 200}\n",
      "Means: 0.6276041666666666, Stdev: 0.03556380282225954 with: {'batch_size': 20, 'epochs': 20}\n",
      "Means: 0.59375, Stdev: 0.03508383746173823 with: {'batch_size': 20, 'epochs': 40}\n",
      "Means: 0.6692708333333334, Stdev: 0.012889967365379774 with: {'batch_size': 20, 'epochs': 60}\n",
      "Means: 0.7161458333333334, Stdev: 0.012889967365379774 with: {'batch_size': 20, 'epochs': 200}\n"
     ]
    }
   ],
   "source": [
    "# define the grid search parameters\n",
    "param_grid = {'batch_size': [20],\n",
    "              'epochs': [20, 40, 60,200]}\n",
    "\n",
    "# Create Grid Search\n",
    "grid = GridSearchCV(estimator=model, param_grid=param_grid, n_jobs=1)\n",
    "grid_result = grid.fit(X, Y)\n",
    "\n",
    "# Report Results\n",
    "print(f\"Best: {grid_result.best_score_} using {grid_result.best_params_}\")\n",
    "means = grid_result.cv_results_['mean_test_score']\n",
    "stds = grid_result.cv_results_['std_test_score']\n",
    "params = grid_result.cv_results_['params']\n",
    "for mean, stdev, param in zip(means, stds, params):\n",
    "    print(f\"Means: {mean}, Stdev: {stdev} with: {param}\")"
   ]
  },
  {
   "cell_type": "markdown",
   "metadata": {
    "colab_type": "text",
    "id": "EKcuY6OiaLfz"
   },
   "source": [
    "## Optimizer\n",
    "\n",
    "Remember that there's a different optimizers [optimizers](https://keras.io/optimizers/). At some point, take some time to read up on them a little bit. \"adam\" usually gives the best results. The thing to know about choosing an optimizer is that different optimizers have different hyperparameters like learning rate, momentum, etc. So based on the optimizer you choose you might also have to tune the learning rate and momentum of those optimizers after that. "
   ]
  },
  {
   "cell_type": "markdown",
   "metadata": {
    "colab_type": "text",
    "id": "DG3wq5iOaLig"
   },
   "source": [
    "## Learning Rate\n",
    "\n",
    "Remember that the Learning Rate is a hyperparameter that is specific to your gradient-descent based optimizer selection. A learning rate that is too high will cause divergent behavior, but a Learning Rate that is too low will fail to converge, again, you're looking for the sweet spot. I would start out tuning learning rates by orders of magnitude: [.001, .01, .1, .2, .3, .5] etc. I wouldn't go above .5, but you can try it and see what the behavior is like. \n",
    "\n",
    "Once you have narrowed it down, make the window even smaller and try it again. If after running the above specification your model reports that .1 is the best optimizer, then you should probably try things like [.05, .08, .1, .12, .15] to try and narrow it down. \n",
    "\n",
    "It can also be good to tune the number of epochs in combination with the learning rate since the number of iterations that you allow the learning rate to reach the minimum can determine if you have let it run long enough to converge to the minimum. "
   ]
  },
  {
   "cell_type": "markdown",
   "metadata": {
    "colab_type": "text",
    "id": "gNTBUWd1aLlA"
   },
   "source": [
    "## Momentum\n",
    "\n",
    "Momentum is a hyperparameter that is more commonly associated with Stochastic Gradient Descent. SGD is a common optimizer because it's what people understand and know, but I doubt it will get you the best results, you can try hyperparameter tuning its attributes and see if you can beat the performance from adam. Momentum is a property that decides the willingness of an optimizer to overshoot the minimum. Imagine a ball rolling down one side of a bowl and then up the opposite side a little bit before settling back to the bottom. The purpose of momentum is to try and escale local minima."
   ]
  },
  {
   "cell_type": "markdown",
   "metadata": {
    "colab_type": "text",
    "id": "xnEG-bCJaLnZ"
   },
   "source": [
    "## Activation Functions\n",
    "\n",
    "We've talked about this a little bit, typically you'l want to use ReLU for hidden layers and either Sigmoid, or Softmax for output layers of binary and multi-class classification implementations respectively, but try other activation functions and see if you can get any better results with sigmoid or tanh or something. There are a lot of activation functions that we haven't really talked about. Maybe you'll get good results with them. Maybe you won't. :) <https://keras.io/activations/>"
   ]
  },
  {
   "cell_type": "markdown",
   "metadata": {
    "colab_type": "text",
    "id": "oul9sPq-dU-h"
   },
   "source": [
    "## Network Weight Initialization\n",
    "\n",
    "You saw how big of an effect the way that we initialize our network's weights can have on our results. There are **a lot** of what are called initialization modes. I don't understand all of them, but they can have a big affect on your model's initial accuracy. Your model will get further with less epochs if you initialize it with weights that are well suited to the problem you're trying to solve.\n",
    "\n",
    "`init_mode = ['uniform', 'lecun_uniform', 'normal', 'zero', 'glorot_normal', 'glorot_uniform', 'he_normal', 'he_uniform']`"
   ]
  },
  {
   "cell_type": "markdown",
   "metadata": {
    "colab_type": "text",
    "id": "bqtEuxeQaLqE"
   },
   "source": [
    "## Dropout Regularization and the Weight Constraint\n",
    "\n",
    "the Dropout Regularization value is a percentage of neurons that you want to be randomly deactivated during training. The weight constraint is a second regularization parameter that works in tandem with dropout regularization. You should tune these two values at the same time. \n",
    "\n",
    "Using dropout on visible vs hidden layers might have a different effect. Using dropout on hidden layers might not have any effect while using dropout on hidden layers might have a substantial effect. You don't necessarily need to turn use dropout unless you see that your model has overfitting and generalizability problems."
   ]
  },
  {
   "cell_type": "markdown",
   "metadata": {
    "colab_type": "text",
    "id": "P2c5Cv6oaLtO"
   },
   "source": [
    "## Neurons in Hidden Layer \n",
    "\n",
    "Remember that when we only had a single perceptron our model was only able to fit to linearly separable data, but as we have added layers and nodes to those layers our network has become a powerhouse of fitting nonlinearity in data. The larger the network and the more nodes generally the stronger the network's capacity to fit nonlinear patterns in data. The more nodes and layers the longer it will take to train a network, and higher the probability of overfitting. The larger your network gets the more you'll need dropout regularization or other regularization techniques to keep it in check. \n",
    "\n",
    "Typically depth (more layers) is more important than width (more nodes) for neural networks. This is part of why Deep Learning is so highly touted. Certain deep learning architectures have truly been huge breakthroughs for certain machine learning tasks. \n",
    "\n",
    "You might borrow ideas from other network architectures. For example if I was doing image recognition and I wasn't taking cues from state of the art architectures like resnet, alexnet, googlenet, etc. Then I'm probably going to have to do a lot more experimentation on my own before I find something that works.\n",
    "\n",
    "There are some heuristics, but I am highly skeptical of them. I think you're better off experimenting on your own and forming your own intuition for these kinds of problems. \n",
    "\n",
    "- https://machinelearningmastery.com/how-to-configure-the-number-of-layers-and-nodes-in-a-neural-network/"
   ]
  },
  {
   "cell_type": "markdown",
   "metadata": {},
   "source": [
    "## Challenge\n",
    "You will be expected to tune several hyperparameters in today's module project. "
   ]
  },
  {
   "cell_type": "markdown",
   "metadata": {},
   "source": [
    "# Experiment Tracking Framework (Learn)\n",
    "<a id=\"p2\"></a>"
   ]
  },
  {
   "cell_type": "markdown",
   "metadata": {},
   "source": [
    "## Overview\n",
    "\n",
    "You will notice quickly that managing the results of all the experiments you are running becomes challenging. Which set of parameters did the best? Are my results today different than my results yesterday? Although we use Ipython Notebooks to work, the format is not well suited to logging experimental results. Enter experiment tracking frameworks like [Comet.ml](https://comet.ml) and [Weights and Biases](https://wandb.ai/).\n",
    "\n",
    "Those tools will help you track your experiments, store the results, and the code associated with those experiments. Experimental results can also be readily visualized to see changes in performance across any metric you care about. Data is sent to the tool as each epoch is completed, so you can also see if your model is converging. Let's check out Weights & Biases today. "
   ]
  },
  {
   "cell_type": "markdown",
   "metadata": {},
   "source": [
    "## Follow Along\n",
    "\n",
    "Make sure you login into `wandb` in the terminal before running the next cell. "
   ]
  },
  {
   "cell_type": "code",
   "execution_count": 6,
   "metadata": {},
   "outputs": [],
   "source": [
    "import wandb\n",
    "from wandb.keras import WandbCallback"
   ]
  },
  {
   "cell_type": "code",
   "execution_count": 8,
   "metadata": {
    "colab": {
     "base_uri": "https://localhost:8080/",
     "height": 1750
    },
    "colab_type": "code",
    "id": "GMXVfmzXp1Oo",
    "outputId": "b05e251e-508f-46e6-865b-f869ae2a5dc4"
   },
   "outputs": [
    {
     "data": {
      "text/html": [
       "\n",
       "                Logging results to <a href=\"https://wandb.com\" target=\"_blank\">Weights & Biases</a> <a href=\"https://docs.wandb.com/integrations/jupyter.html\" target=\"_blank\">(Documentation)</a>.<br/>\n",
       "                Project page: <a href=\"https://app.wandb.ai/bjanota/lambda-dspt3\" target=\"_blank\">https://app.wandb.ai/bjanota/lambda-dspt3</a><br/>\n",
       "                Run page: <a href=\"https://app.wandb.ai/bjanota/lambda-dspt3/runs/193520au\" target=\"_blank\">https://app.wandb.ai/bjanota/lambda-dspt3/runs/193520au</a><br/>\n",
       "            "
      ],
      "text/plain": [
       "<IPython.core.display.HTML object>"
      ]
     },
     "metadata": {},
     "output_type": "display_data"
    },
    {
     "name": "stdout",
     "output_type": "stream",
     "text": [
      "Train on 270 samples, validate on 134 samples\n",
      "Epoch 1/50\n",
      "270/270 [==============================] - 3s 10ms/sample - loss: 505.3444 - mean_squared_error: 505.3445 - mean_absolute_error: 20.8093 - val_loss: 532.2108 - val_mean_squared_error: 532.2108 - val_mean_absolute_error: 21.1194\n",
      "Epoch 2/50\n",
      "270/270 [==============================] - 0s 609us/sample - loss: 365.2798 - mean_squared_error: 365.2798 - mean_absolute_error: 17.4257 - val_loss: 316.3144 - val_mean_squared_error: 316.3144 - val_mean_absolute_error: 15.6753\n",
      "Epoch 3/50\n",
      "270/270 [==============================] - 0s 1ms/sample - loss: 140.3362 - mean_squared_error: 140.3362 - mean_absolute_error: 9.8913 - val_loss: 86.5618 - val_mean_squared_error: 86.5618 - val_mean_absolute_error: 7.1909\n",
      "Epoch 4/50\n",
      "270/270 [==============================] - 0s 1ms/sample - loss: 52.6257 - mean_squared_error: 52.6257 - mean_absolute_error: 5.4214 - val_loss: 54.7214 - val_mean_squared_error: 54.7214 - val_mean_absolute_error: 5.3971\n",
      "Epoch 5/50\n",
      "270/270 [==============================] - 0s 1ms/sample - loss: 33.4039 - mean_squared_error: 33.4039 - mean_absolute_error: 4.1253 - val_loss: 42.9724 - val_mean_squared_error: 42.9724 - val_mean_absolute_error: 4.5465\n",
      "Epoch 6/50\n",
      "270/270 [==============================] - 0s 1ms/sample - loss: 26.4913 - mean_squared_error: 26.4913 - mean_absolute_error: 3.6069 - val_loss: 36.6726 - val_mean_squared_error: 36.6726 - val_mean_absolute_error: 4.0384\n",
      "Epoch 7/50\n",
      "270/270 [==============================] - 0s 772us/sample - loss: 22.5719 - mean_squared_error: 22.5719 - mean_absolute_error: 3.3382 - val_loss: 34.3838 - val_mean_squared_error: 34.3838 - val_mean_absolute_error: 3.8210\n",
      "Epoch 8/50\n",
      "270/270 [==============================] - 0s 784us/sample - loss: 20.7527 - mean_squared_error: 20.7527 - mean_absolute_error: 3.1607 - val_loss: 31.4066 - val_mean_squared_error: 31.4066 - val_mean_absolute_error: 3.6066\n",
      "Epoch 9/50\n",
      "270/270 [==============================] - 0s 806us/sample - loss: 18.1796 - mean_squared_error: 18.1796 - mean_absolute_error: 3.0183 - val_loss: 28.6809 - val_mean_squared_error: 28.6809 - val_mean_absolute_error: 3.5052\n",
      "Epoch 10/50\n",
      "270/270 [==============================] - 0s 1ms/sample - loss: 16.7031 - mean_squared_error: 16.7031 - mean_absolute_error: 2.8674 - val_loss: 27.2213 - val_mean_squared_error: 27.2213 - val_mean_absolute_error: 3.3387\n",
      "Epoch 11/50\n",
      "270/270 [==============================] - 0s 1ms/sample - loss: 15.2979 - mean_squared_error: 15.2979 - mean_absolute_error: 2.7601 - val_loss: 25.3379 - val_mean_squared_error: 25.3379 - val_mean_absolute_error: 3.2475\n",
      "Epoch 12/50\n",
      "270/270 [==============================] - 0s 1ms/sample - loss: 14.2366 - mean_squared_error: 14.2366 - mean_absolute_error: 2.6933 - val_loss: 23.9013 - val_mean_squared_error: 23.9013 - val_mean_absolute_error: 3.0973\n",
      "Epoch 13/50\n",
      "270/270 [==============================] - 0s 1ms/sample - loss: 13.3607 - mean_squared_error: 13.3607 - mean_absolute_error: 2.6189 - val_loss: 23.4432 - val_mean_squared_error: 23.4432 - val_mean_absolute_error: 3.0731\n",
      "Epoch 14/50\n",
      "270/270 [==============================] - 0s 1ms/sample - loss: 12.7436 - mean_squared_error: 12.7436 - mean_absolute_error: 2.5873 - val_loss: 22.2751 - val_mean_squared_error: 22.2751 - val_mean_absolute_error: 2.9445\n",
      "Epoch 15/50\n",
      "270/270 [==============================] - 0s 1ms/sample - loss: 11.7129 - mean_squared_error: 11.7129 - mean_absolute_error: 2.4380 - val_loss: 21.2404 - val_mean_squared_error: 21.2404 - val_mean_absolute_error: 2.8688\n",
      "Epoch 16/50\n",
      "270/270 [==============================] - 0s 1ms/sample - loss: 11.3248 - mean_squared_error: 11.3248 - mean_absolute_error: 2.4281 - val_loss: 20.7181 - val_mean_squared_error: 20.7181 - val_mean_absolute_error: 2.8984\n",
      "Epoch 17/50\n",
      "270/270 [==============================] - 0s 1ms/sample - loss: 10.4471 - mean_squared_error: 10.4471 - mean_absolute_error: 2.3297 - val_loss: 19.6565 - val_mean_squared_error: 19.6565 - val_mean_absolute_error: 2.7884\n",
      "Epoch 18/50\n",
      "270/270 [==============================] - 0s 1ms/sample - loss: 9.9954 - mean_squared_error: 9.9954 - mean_absolute_error: 2.2901 - val_loss: 19.4504 - val_mean_squared_error: 19.4504 - val_mean_absolute_error: 2.8220\n",
      "Epoch 19/50\n",
      "270/270 [==============================] - 0s 1ms/sample - loss: 9.6204 - mean_squared_error: 9.6204 - mean_absolute_error: 2.2357 - val_loss: 18.9334 - val_mean_squared_error: 18.9334 - val_mean_absolute_error: 2.7055\n",
      "Epoch 20/50\n",
      "270/270 [==============================] - 0s 910us/sample - loss: 9.2510 - mean_squared_error: 9.2510 - mean_absolute_error: 2.1890 - val_loss: 18.6665 - val_mean_squared_error: 18.6665 - val_mean_absolute_error: 2.7477\n",
      "Epoch 21/50\n",
      "270/270 [==============================] - 0s 742us/sample - loss: 9.0943 - mean_squared_error: 9.0943 - mean_absolute_error: 2.2083 - val_loss: 18.1827 - val_mean_squared_error: 18.1827 - val_mean_absolute_error: 2.7221\n",
      "Epoch 22/50\n",
      "270/270 [==============================] - 0s 1ms/sample - loss: 8.7054 - mean_squared_error: 8.7054 - mean_absolute_error: 2.1691 - val_loss: 17.9135 - val_mean_squared_error: 17.9135 - val_mean_absolute_error: 2.6768\n",
      "Epoch 23/50\n",
      "270/270 [==============================] - 0s 1ms/sample - loss: 8.7036 - mean_squared_error: 8.7036 - mean_absolute_error: 2.1492 - val_loss: 17.4620 - val_mean_squared_error: 17.4620 - val_mean_absolute_error: 2.6439\n",
      "Epoch 24/50\n",
      "270/270 [==============================] - 0s 809us/sample - loss: 8.6176 - mean_squared_error: 8.6176 - mean_absolute_error: 2.1496 - val_loss: 17.5959 - val_mean_squared_error: 17.5959 - val_mean_absolute_error: 2.7008\n",
      "Epoch 25/50\n",
      "270/270 [==============================] - 0s 940us/sample - loss: 8.3988 - mean_squared_error: 8.3988 - mean_absolute_error: 2.1677 - val_loss: 18.0401 - val_mean_squared_error: 18.0400 - val_mean_absolute_error: 2.7623\n",
      "Epoch 26/50\n",
      "270/270 [==============================] - 0s 1ms/sample - loss: 8.4659 - mean_squared_error: 8.4659 - mean_absolute_error: 2.1691 - val_loss: 16.9963 - val_mean_squared_error: 16.9963 - val_mean_absolute_error: 2.6403\n",
      "Epoch 27/50\n",
      "270/270 [==============================] - 0s 464us/sample - loss: 8.3008 - mean_squared_error: 8.3008 - mean_absolute_error: 2.1069 - val_loss: 17.1221 - val_mean_squared_error: 17.1221 - val_mean_absolute_error: 2.6580\n",
      "Epoch 28/50\n",
      "270/270 [==============================] - 0s 422us/sample - loss: 7.9761 - mean_squared_error: 7.9761 - mean_absolute_error: 2.1005 - val_loss: 17.0802 - val_mean_squared_error: 17.0802 - val_mean_absolute_error: 2.6508\n",
      "Epoch 29/50\n",
      "270/270 [==============================] - 0s 1ms/sample - loss: 7.7456 - mean_squared_error: 7.7456 - mean_absolute_error: 2.0510 - val_loss: 16.9135 - val_mean_squared_error: 16.9135 - val_mean_absolute_error: 2.6288\n",
      "Epoch 30/50\n",
      "270/270 [==============================] - 0s 486us/sample - loss: 7.5612 - mean_squared_error: 7.5612 - mean_absolute_error: 2.0369 - val_loss: 16.9637 - val_mean_squared_error: 16.9637 - val_mean_absolute_error: 2.6327\n",
      "Epoch 31/50\n",
      "270/270 [==============================] - 0s 1ms/sample - loss: 7.8174 - mean_squared_error: 7.8175 - mean_absolute_error: 2.0988 - val_loss: 16.5518 - val_mean_squared_error: 16.5518 - val_mean_absolute_error: 2.6113\n",
      "Epoch 32/50\n",
      "270/270 [==============================] - 0s 1ms/sample - loss: 7.7556 - mean_squared_error: 7.7556 - mean_absolute_error: 2.0546 - val_loss: 16.7117 - val_mean_squared_error: 16.7117 - val_mean_absolute_error: 2.6191\n",
      "Epoch 33/50\n",
      "270/270 [==============================] - 0s 1ms/sample - loss: 7.2358 - mean_squared_error: 7.2358 - mean_absolute_error: 1.9966 - val_loss: 16.5513 - val_mean_squared_error: 16.5513 - val_mean_absolute_error: 2.5873\n",
      "Epoch 34/50\n",
      "270/270 [==============================] - 0s 1ms/sample - loss: 7.2138 - mean_squared_error: 7.2138 - mean_absolute_error: 1.9807 - val_loss: 16.4508 - val_mean_squared_error: 16.4508 - val_mean_absolute_error: 2.5757\n",
      "Epoch 35/50\n",
      "270/270 [==============================] - 0s 1ms/sample - loss: 7.4232 - mean_squared_error: 7.4232 - mean_absolute_error: 2.0247 - val_loss: 16.6641 - val_mean_squared_error: 16.6641 - val_mean_absolute_error: 2.6289\n",
      "Epoch 36/50\n",
      "270/270 [==============================] - 0s 1ms/sample - loss: 7.2081 - mean_squared_error: 7.2081 - mean_absolute_error: 2.0028 - val_loss: 16.4222 - val_mean_squared_error: 16.4222 - val_mean_absolute_error: 2.6017\n",
      "Epoch 37/50\n",
      "270/270 [==============================] - 0s 1ms/sample - loss: 7.0234 - mean_squared_error: 7.0234 - mean_absolute_error: 1.9357 - val_loss: 15.9843 - val_mean_squared_error: 15.9843 - val_mean_absolute_error: 2.5291\n",
      "Epoch 38/50\n",
      "270/270 [==============================] - 0s 1ms/sample - loss: 7.0178 - mean_squared_error: 7.0178 - mean_absolute_error: 1.9205 - val_loss: 16.5355 - val_mean_squared_error: 16.5355 - val_mean_absolute_error: 2.6429\n",
      "Epoch 39/50\n",
      "270/270 [==============================] - 0s 1ms/sample - loss: 7.2603 - mean_squared_error: 7.2603 - mean_absolute_error: 2.0297 - val_loss: 16.5439 - val_mean_squared_error: 16.5439 - val_mean_absolute_error: 2.6617\n",
      "Epoch 40/50\n",
      "270/270 [==============================] - 0s 2ms/sample - loss: 7.2259 - mean_squared_error: 7.2259 - mean_absolute_error: 1.9770 - val_loss: 15.9724 - val_mean_squared_error: 15.9724 - val_mean_absolute_error: 2.5505\n",
      "Epoch 41/50\n",
      "270/270 [==============================] - 0s 2ms/sample - loss: 6.9141 - mean_squared_error: 6.9141 - mean_absolute_error: 1.9506 - val_loss: 15.8640 - val_mean_squared_error: 15.8640 - val_mean_absolute_error: 2.5558\n",
      "Epoch 42/50\n",
      "270/270 [==============================] - 0s 1ms/sample - loss: 6.6571 - mean_squared_error: 6.6571 - mean_absolute_error: 1.9018 - val_loss: 15.7394 - val_mean_squared_error: 15.7394 - val_mean_absolute_error: 2.5272\n",
      "Epoch 43/50\n",
      "270/270 [==============================] - 0s 1ms/sample - loss: 6.8431 - mean_squared_error: 6.8431 - mean_absolute_error: 1.9536 - val_loss: 16.2340 - val_mean_squared_error: 16.2340 - val_mean_absolute_error: 2.6075\n",
      "Epoch 44/50\n",
      "270/270 [==============================] - 0s 1ms/sample - loss: 6.9459 - mean_squared_error: 6.9459 - mean_absolute_error: 1.9274 - val_loss: 15.9917 - val_mean_squared_error: 15.9917 - val_mean_absolute_error: 2.5965\n",
      "Epoch 45/50\n",
      "270/270 [==============================] - 0s 1ms/sample - loss: 6.3820 - mean_squared_error: 6.3820 - mean_absolute_error: 1.8570 - val_loss: 16.0778 - val_mean_squared_error: 16.0778 - val_mean_absolute_error: 2.5891\n",
      "Epoch 46/50\n",
      "270/270 [==============================] - 0s 882us/sample - loss: 6.4899 - mean_squared_error: 6.4899 - mean_absolute_error: 1.8762 - val_loss: 16.2713 - val_mean_squared_error: 16.2713 - val_mean_absolute_error: 2.6296\n",
      "Epoch 47/50\n",
      "270/270 [==============================] - 0s 710us/sample - loss: 6.4964 - mean_squared_error: 6.4964 - mean_absolute_error: 1.8614 - val_loss: 15.9244 - val_mean_squared_error: 15.9244 - val_mean_absolute_error: 2.5616\n",
      "Epoch 48/50\n",
      "270/270 [==============================] - 0s 1ms/sample - loss: 6.5269 - mean_squared_error: 6.5269 - mean_absolute_error: 1.8888 - val_loss: 15.7373 - val_mean_squared_error: 15.7373 - val_mean_absolute_error: 2.5345\n",
      "Epoch 49/50\n",
      "270/270 [==============================] - 0s 2ms/sample - loss: 6.3792 - mean_squared_error: 6.3792 - mean_absolute_error: 1.8357 - val_loss: 15.4922 - val_mean_squared_error: 15.4922 - val_mean_absolute_error: 2.5045\n",
      "Epoch 50/50\n",
      "270/270 [==============================] - 0s 998us/sample - loss: 6.7542 - mean_squared_error: 6.7542 - mean_absolute_error: 1.9000 - val_loss: 16.4442 - val_mean_squared_error: 16.4442 - val_mean_absolute_error: 2.7000\n"
     ]
    },
    {
     "data": {
      "text/plain": [
       "<tensorflow.python.keras.callbacks.History at 0x7f0beaf53550>"
      ]
     },
     "execution_count": 8,
     "metadata": {},
     "output_type": "execute_result"
    }
   ],
   "source": [
    "wandb.init(project=\"lambda-dspt3\", entity='bjanota') # Important Hyperparameters\n",
    "X =  x_train\n",
    "y =  y_train\n",
    "\n",
    "inputs = X.shape[1]\n",
    "wandb.config.epochs = 50\n",
    "wandb.config.batch_size = 10\n",
    "\n",
    "# Create Model\n",
    "model = Sequential()\n",
    "model.add(Dense(32, activation='relu', input_shape=(inputs,)))\n",
    "model.add(Dense(64, activation='relu'))\n",
    "model.add(Dense(16, activation='relu'))\n",
    "model.add(Dense(1))\n",
    "# Compile Model\n",
    "model.compile(optimizer='adam', loss='mse', metrics=['mse', 'mae'])\n",
    "\n",
    "# Fit Model\n",
    "model.fit(X, y, \n",
    "          validation_split=0.33, \n",
    "          epochs=wandb.config.epochs, \n",
    "          batch_size=wandb.config.batch_size, \n",
    "          callbacks=[WandbCallback()]\n",
    "         )"
   ]
  },
  {
   "cell_type": "markdown",
   "metadata": {},
   "source": [
    "## Challenge\n",
    "\n",
    "You will be expected to use Weights & Biases to try to tune your model during your module assignment today. "
   ]
  },
  {
   "cell_type": "markdown",
   "metadata": {},
   "source": [
    "# Hyperparameters with RandomSearchCV (Learn)"
   ]
  },
  {
   "cell_type": "markdown",
   "metadata": {},
   "source": [
    "## Overview\n",
    "\n",
    "Basically `GridSearchCV` takes forever. You'll want to adopt a slightly more sophiscated strategy."
   ]
  },
  {
   "cell_type": "markdown",
   "metadata": {},
   "source": [
    "## Follow Along"
   ]
  },
  {
   "cell_type": "code",
   "execution_count": 9,
   "metadata": {},
   "outputs": [],
   "source": [
    "sweep_config = {\n",
    "    'method': 'random',\n",
    "    'parameters': {\n",
    "        'learning_rate': {'distribution': 'normal'},\n",
    "        'epochs': {'distribution': 'uniform',\n",
    "                    'min': 100,\n",
    "                    'max': 400},\n",
    "        'batch_size': {'distribution': 'uniform',\n",
    "            'min': 10,\n",
    "            'max': 50}\n",
    "    }\n",
    "}"
   ]
  },
  {
   "cell_type": "code",
   "execution_count": 10,
   "metadata": {},
   "outputs": [
    {
     "name": "stdout",
     "output_type": "stream",
     "text": [
      "Create sweep with ID: wugje73s\n",
      "Sweep URL: https://app.wandb.ai/bjanota/lambda-dspt3/sweeps/wugje73s\n"
     ]
    }
   ],
   "source": [
    "sweep_id = wandb.sweep(sweep_config)"
   ]
  },
  {
   "cell_type": "code",
   "execution_count": 11,
   "metadata": {},
   "outputs": [],
   "source": [
    "import wandb\n",
    "from wandb.keras import WandbCallback\n",
    "#Initializes and Experiment\n",
    "\n",
    "from tensorflow.keras.optimizers import Adam\n",
    "\n",
    "# Important Hyperparameters\n",
    "X =  x_train\n",
    "y =  y_train\n",
    "\n",
    "inputs = X.shape[1]\n",
    "\n",
    "def train():\n",
    "    \n",
    "    wandb.init(project=\"boston\", entity=\"lambda-ds7\") \n",
    "    \n",
    "    config = wandb.config\n",
    "\n",
    "    # Create Model\n",
    "    model = Sequential()\n",
    "    model.add(Dense(64, activation='relu', input_shape=(inputs,)))\n",
    "    model.add(Dense(64, activation='relu'))\n",
    "    model.add(Dense(64, activation='relu'))\n",
    "    model.add(Dense(1))\n",
    "\n",
    "    # Optimizer \n",
    "    adam = Adam(learning_rate=config.learning_rate)\n",
    "\n",
    "    # Compile Model\n",
    "    model.compile(optimizer=adam, loss='mse', metrics=['mse', 'mae'])\n",
    "\n",
    "    # Fit Model\n",
    "    model.fit(X, y, \n",
    "              validation_split=0.33, \n",
    "              epochs=config.epochs, \n",
    "              batch_size=config.batch_size, \n",
    "              callbacks=[WandbCallback()]\n",
    "             )"
   ]
  },
  {
   "cell_type": "code",
   "execution_count": null,
   "metadata": {},
   "outputs": [
    {
     "name": "stderr",
     "output_type": "stream",
     "text": [
      "I0417 10:27:22.906349 139692820760384 wandb_agent.py:194] Running runs: []\n",
      "I0417 10:27:25.421596 139692820760384 wandb_agent.py:256] Agent received command: run\n",
      "I0417 10:27:25.423789 139692820760384 wandb_agent.py:286] Agent starting run with config:\n",
      "\tbatch_size: 27.560348653603835\n",
      "\tepochs: 352.5814746594783\n",
      "\tlearning_rate: -0.7753751682079066\n"
     ]
    },
    {
     "name": "stdout",
     "output_type": "stream",
     "text": [
      "wandb: Agent Starting Run: wz6kd8k2 with config:\n",
      "\tbatch_size: 27.560348653603835\n",
      "\tepochs: 352.5814746594783\n",
      "\tlearning_rate: -0.7753751682079066\n",
      "wandb: Agent Started Run: wz6kd8k2\n"
     ]
    },
    {
     "data": {
      "text/html": [
       "\n",
       "                Logging results to <a href=\"https://wandb.com\" target=\"_blank\">Weights & Biases</a> <a href=\"https://docs.wandb.com/integrations/jupyter.html\" target=\"_blank\">(Documentation)</a>.<br/>\n",
       "                Project page: <a href=\"https://app.wandb.ai/lambda-ds7/boston\" target=\"_blank\">https://app.wandb.ai/lambda-ds7/boston</a><br/>\n",
       "                Run page: <a href=\"https://app.wandb.ai/lambda-ds7/boston/runs/1ampqlt5\" target=\"_blank\">https://app.wandb.ai/lambda-ds7/boston/runs/1ampqlt5</a><br/>\n",
       "            "
      ],
      "text/plain": [
       "<IPython.core.display.HTML object>"
      ]
     },
     "metadata": {},
     "output_type": "display_data"
    },
    {
     "name": "stderr",
     "output_type": "stream",
     "text": [
      "I0417 10:27:32.618524 139692820760384 wandb_agent.py:194] Running runs: ['wz6kd8k2']\n",
      "Process Process-1:\n",
      "Traceback (most recent call last):\n",
      "  File \"/home/ivan/anaconda3/envs/Unit4Sprint2/lib/python3.7/multiprocessing/process.py\", line 297, in _bootstrap\n",
      "    self.run()\n",
      "  File \"/home/ivan/anaconda3/envs/Unit4Sprint2/lib/python3.7/multiprocessing/process.py\", line 99, in run\n",
      "    self._target(*self._args, **self._kwargs)\n",
      "  File \"/home/ivan/.local/lib/python3.7/site-packages/wandb/wandb_agent.py\", line 64, in _start\n",
      "    function()\n",
      "  File \"<ipython-input-11-23dfe667f67c>\", line 27, in train\n",
      "    adam = Adam(learning_rate=config.learning_rate)\n",
      "  File \"/home/ivan/.local/lib/python3.7/site-packages/wandb/wandb_config.py\", line 224, in __getattr__\n",
      "    return self.__getitem__(key)\n",
      "  File \"/home/ivan/.local/lib/python3.7/site-packages/wandb/wandb_config.py\", line 214, in __getitem__\n",
      "    return self._items[key]\n",
      "KeyError: 'learning_rate'\n"
     ]
    }
   ],
   "source": [
    "wandb.agent(sweep_id, function=train)"
   ]
  },
  {
   "cell_type": "markdown",
   "metadata": {},
   "source": [
    "## Challenge\n",
    "\n",
    "Try to apply RandomSearchCV to your module project today. "
   ]
  },
  {
   "cell_type": "markdown",
   "metadata": {},
   "source": [
    "# Review\n",
    "* <a href=\"#p1\">Part 1</a>: Describe the major hyperparemeters to tune\n",
    "    - Activation Functions\n",
    "    - Optimizer\n",
    "    - Number of Layers\n",
    "    - Number of Neurons\n",
    "    - Batch Size\n",
    "    - Dropout Regulaization\n",
    "    - Learning Rate\n",
    "    - Number of Epochs\n",
    "    - and many more\n",
    "* <a href=\"#p2\">Part 2</a>: Implement an experiment tracking framework\n",
    "    - Weights & Biases\n",
    "    - Comet.ml\n",
    "    - By Hand / GridSearch\n",
    "* <a href=\"#p3\">Part 3</a>: Search the hyperparameter space using RandomSearch\n",
    "    - Sklearn still useful (haha)\n",
    "    - Integration with Wieghts & Biases\n",
    "* <a href=\"#p4\">Part 4</a>: Discuss emerging hyperparameter tuning strategies\n",
    "    - Bayesian Optimization\n",
    "    - Hyperopt\n",
    "    - Genetic Evolution"
   ]
  },
  {
   "cell_type": "markdown",
   "metadata": {},
   "source": [
    "# Sources"
   ]
  },
  {
   "cell_type": "markdown",
   "metadata": {},
   "source": [
    "## Additional Reading\n",
    "- https://machinelearningmastery.com/grid-search-hyperparameters-deep-learning-models-python-keras/\n",
    "- https://blog.floydhub.com/guide-to-hyperparameters-search-for-deep-learning-models/\n",
    "- https://machinelearningmastery.com/dropout-regularization-deep-learning-models-keras/\n",
    "- https://machinelearningmastery.com/introduction-to-weight-constraints-to-reduce-generalization-error-in-deep-learning/\n",
    "- https://machinelearningmastery.com/how-to-configure-the-number-of-layers-and-nodes-in-a-neural-network/"
   ]
  }
 ],
 "metadata": {
  "kernelspec": {
   "display_name": "Unit 4 Sprint 2",
   "language": "python",
   "name": "unit4sprint2"
  },
  "language_info": {
   "codemirror_mode": {
    "name": "ipython",
    "version": 3
   },
   "file_extension": ".py",
   "mimetype": "text/x-python",
   "name": "python",
   "nbconvert_exporter": "python",
   "pygments_lexer": "ipython3",
   "version": "3.7.3"
  }
 },
 "nbformat": 4,
 "nbformat_minor": 4
}
