{
 "cells": [
  {
   "cell_type": "markdown",
   "metadata": {
    "colab_type": "text",
    "id": "41TS0Sa0rDNx"
   },
   "source": [
    "Lambda School Data Science\n",
    "\n",
    "*Unit 4, Sprint 2, Module 4*\n",
    "\n",
    "---"
   ]
  },
  {
   "cell_type": "markdown",
   "metadata": {
    "colab_type": "text",
    "id": "41TS0Sa0rDNx"
   },
   "source": [
    "# Neural Networks & GPUs (Prepare)\n",
    "*aka Hyperparameter Tuning*\n",
    "\n",
    "*aka Big Servers for Big Problems*"
   ]
  },
  {
   "cell_type": "markdown",
   "metadata": {
    "colab_type": "text",
    "id": "41TS0Sa0rDNx"
   },
   "source": [
    "## Learning Objectives\n",
    "* <a href=\"#p1\">Part 1</a>: Describe the major hyperparemeters to tune\n",
    "* <a href=\"#p2\">Part 2</a>: Implement an experiment tracking framework\n",
    "* <a href=\"#p3\">Part 3</a>: Search the hyperparameter space using RandomSearch (Optional)"
   ]
  },
  {
   "cell_type": "markdown",
   "metadata": {},
   "source": [
    "# Hyperparameter Options (Learn)\n",
    "<a id=\"p1\"></a>"
   ]
  },
  {
   "cell_type": "markdown",
   "metadata": {},
   "source": [
    "## Overview\n",
    "\n",
    "Hyperparameter tuning is much more important with neural networks than it has been with any other models that we have considered up to this point. Other supervised learning models might have a couple of parameters, but neural networks can have dozens. These can substantially affect the accuracy of our models and although it can be a time consuming process is a necessary step when working with neural networks.\n",
    "​\n",
    "Hyperparameter tuning comes with a challenge. How can we compare models specified with different hyperparameters if our model's final error metric can vary somewhat erratically? How do we avoid just getting unlucky and selecting the wrong hyperparameter? This is a problem that to a certain degree we just have to live with as we test and test again. However, we can minimize it somewhat by pairing our experiments with Cross Validation to reduce the variance of our final accuracy values."
   ]
  },
  {
   "cell_type": "markdown",
   "metadata": {
    "colab_type": "text",
    "id": "0s0o2pqBs88q"
   },
   "source": [
    "### Load Boston Housing Data"
   ]
  },
  {
   "cell_type": "code",
   "execution_count": 1,
   "metadata": {},
   "outputs": [],
   "source": [
    "from tensorflow.keras.datasets import boston_housing\n",
    "\n",
    "(x_train, y_train), (x_test, y_test) = boston_housing.load_data()"
   ]
  },
  {
   "cell_type": "markdown",
   "metadata": {
    "colab_type": "text",
    "id": "Pm7zow5IvaTt"
   },
   "source": [
    "### Normalizing Input Data\n",
    "\n",
    "It's not 100% necessary to normalize/scale your input data before feeding it to a neural network, the network can learn the appropriate weights to deal with data of as long as it is numerically represented,  but it is recommended as it can help **make training faster** and **reduces the chances that gradient descent might get stuck in a local optimum**.\n",
    "\n",
    "<https://stackoverflow.com/questions/4674623/why-do-we-have-to-normalize-the-input-for-an-artificial-neural-network>"
   ]
  },
  {
   "cell_type": "code",
   "execution_count": 2,
   "metadata": {},
   "outputs": [
    {
     "name": "stdout",
     "output_type": "stream",
     "text": [
      "[[-0.27224633 -0.48361547 -0.43576161 -0.25683275 -0.1652266  -0.1764426\n",
      "   0.81306188  0.1166983  -0.62624905 -0.59517003  1.14850044  0.44807713\n",
      "   0.8252202 ]\n",
      " [-0.40342651  2.99178419 -1.33391162 -0.25683275 -1.21518188  1.89434613\n",
      "  -1.91036058  1.24758524 -0.85646254 -0.34843254 -1.71818909  0.43190599\n",
      "  -1.32920239]\n",
      " [ 0.1249402  -0.48361547  1.0283258  -0.25683275  0.62864202 -1.82968811\n",
      "   1.11048828 -1.18743907  1.67588577  1.5652875   0.78447637  0.22061726\n",
      "  -1.30850006]\n",
      " [-0.40149354 -0.48361547 -0.86940196 -0.25683275 -0.3615597  -0.3245576\n",
      "  -1.23667187  1.10717989 -0.51114231 -1.094663    0.78447637  0.44807713\n",
      "  -0.65292624]\n",
      " [-0.0056343  -0.48361547  1.0283258  -0.25683275  1.32861221  0.15364225\n",
      "   0.69480801 -0.57857203  1.67588577  1.5652875   0.78447637  0.3898823\n",
      "   0.26349695]\n",
      " [-0.37502238 -0.48361547 -0.54747912 -0.25683275 -0.54935658 -0.78865126\n",
      "   0.18954148  0.48371503 -0.51114231 -0.71552978  0.51145832  0.38669063\n",
      "  -0.13812828]\n",
      " [ 0.58963463 -0.48361547  1.0283258  -0.25683275  1.21764133 -1.03127774\n",
      "   1.11048828 -1.06518235  1.67588577  1.5652875   0.78447637  0.44807713\n",
      "   1.49873604]\n",
      " [ 0.0381708  -0.48361547  1.24588095 -0.25683275  2.67733525 -1.12719983\n",
      "   1.11048828 -1.14833073 -0.51114231 -0.01744323 -1.71818909  0.44807713\n",
      "   1.88793986]\n",
      " [-0.17228416 -0.48361547  1.24588095 -0.25683275  2.67733525 -0.90150078\n",
      "   1.11048828 -1.09664657 -0.51114231 -0.01744323 -1.71818909 -1.97365769\n",
      "   0.53952803]\n",
      " [-0.22932104 -0.48361547  1.58544339 -0.25683275  0.56888847 -1.76056777\n",
      "   1.11048828 -1.13471925 -0.62624905  0.18716835  1.23950646  0.44807713\n",
      "   2.99068404]]\n"
     ]
    }
   ],
   "source": [
    "from sklearn.preprocessing import StandardScaler\n",
    "\n",
    "scaler = StandardScaler()\n",
    "\n",
    "x_train = scaler.fit_transform(x_train)\n",
    "x_test = scaler.transform(x_test)\n",
    "print(x_train[:10])"
   ]
  },
  {
   "cell_type": "markdown",
   "metadata": {
    "colab_type": "text",
    "id": "l6hgCWbir90R"
   },
   "source": [
    "### Model Validation using an automatic verification Dataset\n",
    "\n",
    "Instead of doing seperate train test split class, Keras has a really nice feature that you can set the validation.data argument when fitting your model and Keras will take that portion of your test data and use it as a validation dataset. "
   ]
  },
  {
   "cell_type": "code",
   "execution_count": 3,
   "metadata": {
    "colab": {
     "base_uri": "https://localhost:8080/",
     "height": 1750
    },
    "colab_type": "code",
    "id": "GMXVfmzXp1Oo",
    "outputId": "b05e251e-508f-46e6-865b-f869ae2a5dc4"
   },
   "outputs": [
    {
     "name": "stdout",
     "output_type": "stream",
     "text": [
      "WARNING:tensorflow:From /home/ec2-user/anaconda3/envs/tensorflow_p36/lib/python3.6/site-packages/tensorflow/python/ops/init_ops.py:1251: calling VarianceScaling.__init__ (from tensorflow.python.ops.init_ops) with dtype is deprecated and will be removed in a future version.\n",
      "Instructions for updating:\n",
      "Call initializer instance with the dtype argument instead of passing it to the constructor\n",
      "Train on 404 samples, validate on 102 samples\n",
      "Epoch 1/75\n",
      "404/404 [==============================] - 0s 1ms/sample - loss: 483.8804 - mean_squared_error: 483.8803 - mean_absolute_error: 19.8080 - val_loss: 385.6878 - val_mean_squared_error: 385.6878 - val_mean_absolute_error: 17.3059\n",
      "Epoch 2/75\n",
      "404/404 [==============================] - 0s 272us/sample - loss: 215.4367 - mean_squared_error: 215.4367 - mean_absolute_error: 11.8784 - val_loss: 86.7221 - val_mean_squared_error: 86.7221 - val_mean_absolute_error: 7.6980\n",
      "Epoch 3/75\n",
      "404/404 [==============================] - 0s 248us/sample - loss: 54.7146 - mean_squared_error: 54.7146 - mean_absolute_error: 5.6520 - val_loss: 38.9736 - val_mean_squared_error: 38.9736 - val_mean_absolute_error: 4.9486\n",
      "Epoch 4/75\n",
      "404/404 [==============================] - 0s 247us/sample - loss: 30.0403 - mean_squared_error: 30.0403 - mean_absolute_error: 3.9290 - val_loss: 28.3548 - val_mean_squared_error: 28.3548 - val_mean_absolute_error: 4.1542\n",
      "Epoch 5/75\n",
      "404/404 [==============================] - 0s 247us/sample - loss: 23.1327 - mean_squared_error: 23.1327 - mean_absolute_error: 3.4808 - val_loss: 26.0017 - val_mean_squared_error: 26.0017 - val_mean_absolute_error: 3.8253\n",
      "Epoch 6/75\n",
      "404/404 [==============================] - 0s 249us/sample - loss: 20.1263 - mean_squared_error: 20.1263 - mean_absolute_error: 3.1751 - val_loss: 25.0039 - val_mean_squared_error: 25.0039 - val_mean_absolute_error: 3.7263\n",
      "Epoch 7/75\n",
      "404/404 [==============================] - 0s 239us/sample - loss: 18.1112 - mean_squared_error: 18.1112 - mean_absolute_error: 3.0226 - val_loss: 24.0919 - val_mean_squared_error: 24.0919 - val_mean_absolute_error: 3.5729\n",
      "Epoch 8/75\n",
      "404/404 [==============================] - 0s 248us/sample - loss: 16.6632 - mean_squared_error: 16.6632 - mean_absolute_error: 2.8745 - val_loss: 24.6134 - val_mean_squared_error: 24.6134 - val_mean_absolute_error: 3.5453\n",
      "Epoch 9/75\n",
      "404/404 [==============================] - 0s 241us/sample - loss: 15.2449 - mean_squared_error: 15.2449 - mean_absolute_error: 2.7214 - val_loss: 23.8756 - val_mean_squared_error: 23.8756 - val_mean_absolute_error: 3.4521\n",
      "Epoch 10/75\n",
      "404/404 [==============================] - 0s 248us/sample - loss: 14.0953 - mean_squared_error: 14.0953 - mean_absolute_error: 2.6296 - val_loss: 23.9460 - val_mean_squared_error: 23.9460 - val_mean_absolute_error: 3.4212\n",
      "Epoch 11/75\n",
      "404/404 [==============================] - 0s 252us/sample - loss: 13.1832 - mean_squared_error: 13.1832 - mean_absolute_error: 2.5634 - val_loss: 25.2961 - val_mean_squared_error: 25.2961 - val_mean_absolute_error: 3.4072\n",
      "Epoch 12/75\n",
      "404/404 [==============================] - 0s 258us/sample - loss: 12.4384 - mean_squared_error: 12.4384 - mean_absolute_error: 2.4730 - val_loss: 24.3475 - val_mean_squared_error: 24.3475 - val_mean_absolute_error: 3.3150\n",
      "Epoch 13/75\n",
      "404/404 [==============================] - 0s 269us/sample - loss: 11.8694 - mean_squared_error: 11.8694 - mean_absolute_error: 2.4236 - val_loss: 23.5818 - val_mean_squared_error: 23.5818 - val_mean_absolute_error: 3.2174\n",
      "Epoch 14/75\n",
      "404/404 [==============================] - 0s 254us/sample - loss: 11.3434 - mean_squared_error: 11.3434 - mean_absolute_error: 2.3511 - val_loss: 24.6256 - val_mean_squared_error: 24.6256 - val_mean_absolute_error: 3.2537\n",
      "Epoch 15/75\n",
      "404/404 [==============================] - 0s 256us/sample - loss: 11.2212 - mean_squared_error: 11.2212 - mean_absolute_error: 2.3247 - val_loss: 24.4356 - val_mean_squared_error: 24.4356 - val_mean_absolute_error: 3.2081\n",
      "Epoch 16/75\n",
      "404/404 [==============================] - 0s 288us/sample - loss: 10.7619 - mean_squared_error: 10.7619 - mean_absolute_error: 2.3049 - val_loss: 23.9834 - val_mean_squared_error: 23.9834 - val_mean_absolute_error: 3.1391\n",
      "Epoch 17/75\n",
      "404/404 [==============================] - 0s 250us/sample - loss: 10.4635 - mean_squared_error: 10.4635 - mean_absolute_error: 2.2654 - val_loss: 24.0574 - val_mean_squared_error: 24.0574 - val_mean_absolute_error: 3.1823\n",
      "Epoch 18/75\n",
      "404/404 [==============================] - 0s 239us/sample - loss: 10.2241 - mean_squared_error: 10.2241 - mean_absolute_error: 2.2472 - val_loss: 25.1481 - val_mean_squared_error: 25.1481 - val_mean_absolute_error: 3.1763\n",
      "Epoch 19/75\n",
      "404/404 [==============================] - 0s 225us/sample - loss: 10.0909 - mean_squared_error: 10.0909 - mean_absolute_error: 2.2499 - val_loss: 24.6514 - val_mean_squared_error: 24.6514 - val_mean_absolute_error: 3.1427\n",
      "Epoch 20/75\n",
      "404/404 [==============================] - 0s 210us/sample - loss: 9.7570 - mean_squared_error: 9.7570 - mean_absolute_error: 2.2156 - val_loss: 23.2665 - val_mean_squared_error: 23.2665 - val_mean_absolute_error: 3.0240\n",
      "Epoch 21/75\n",
      "404/404 [==============================] - 0s 212us/sample - loss: 9.6341 - mean_squared_error: 9.6341 - mean_absolute_error: 2.1973 - val_loss: 26.0853 - val_mean_squared_error: 26.0853 - val_mean_absolute_error: 3.1475\n",
      "Epoch 22/75\n",
      "404/404 [==============================] - 0s 225us/sample - loss: 9.5492 - mean_squared_error: 9.5492 - mean_absolute_error: 2.2463 - val_loss: 22.2908 - val_mean_squared_error: 22.2908 - val_mean_absolute_error: 2.9466\n",
      "Epoch 23/75\n",
      "404/404 [==============================] - 0s 218us/sample - loss: 9.2818 - mean_squared_error: 9.2818 - mean_absolute_error: 2.1559 - val_loss: 25.5958 - val_mean_squared_error: 25.5958 - val_mean_absolute_error: 3.1198\n",
      "Epoch 24/75\n",
      "404/404 [==============================] - 0s 206us/sample - loss: 9.2932 - mean_squared_error: 9.2932 - mean_absolute_error: 2.1823 - val_loss: 23.7945 - val_mean_squared_error: 23.7945 - val_mean_absolute_error: 3.0514\n",
      "Epoch 25/75\n",
      "404/404 [==============================] - 0s 206us/sample - loss: 9.1679 - mean_squared_error: 9.1679 - mean_absolute_error: 2.1445 - val_loss: 22.9222 - val_mean_squared_error: 22.9222 - val_mean_absolute_error: 2.9918\n",
      "Epoch 26/75\n",
      "404/404 [==============================] - 0s 228us/sample - loss: 8.8487 - mean_squared_error: 8.8487 - mean_absolute_error: 2.1191 - val_loss: 22.7105 - val_mean_squared_error: 22.7105 - val_mean_absolute_error: 2.9496\n",
      "Epoch 27/75\n",
      "404/404 [==============================] - 0s 242us/sample - loss: 8.9583 - mean_squared_error: 8.9583 - mean_absolute_error: 2.1300 - val_loss: 23.4676 - val_mean_squared_error: 23.4676 - val_mean_absolute_error: 3.0114\n",
      "Epoch 28/75\n",
      "404/404 [==============================] - 0s 254us/sample - loss: 8.8749 - mean_squared_error: 8.8749 - mean_absolute_error: 2.1270 - val_loss: 21.3701 - val_mean_squared_error: 21.3701 - val_mean_absolute_error: 2.8477\n",
      "Epoch 29/75\n",
      "404/404 [==============================] - 0s 244us/sample - loss: 8.6517 - mean_squared_error: 8.6517 - mean_absolute_error: 2.0916 - val_loss: 22.3508 - val_mean_squared_error: 22.3508 - val_mean_absolute_error: 2.8855\n",
      "Epoch 30/75\n",
      "404/404 [==============================] - 0s 247us/sample - loss: 8.4768 - mean_squared_error: 8.4768 - mean_absolute_error: 2.0641 - val_loss: 23.4838 - val_mean_squared_error: 23.4838 - val_mean_absolute_error: 3.0101\n",
      "Epoch 31/75\n",
      "404/404 [==============================] - 0s 248us/sample - loss: 8.3780 - mean_squared_error: 8.3780 - mean_absolute_error: 2.0732 - val_loss: 23.1692 - val_mean_squared_error: 23.1692 - val_mean_absolute_error: 2.9289\n",
      "Epoch 32/75\n",
      "404/404 [==============================] - 0s 252us/sample - loss: 8.3990 - mean_squared_error: 8.3990 - mean_absolute_error: 2.0692 - val_loss: 21.7308 - val_mean_squared_error: 21.7308 - val_mean_absolute_error: 2.8161\n",
      "Epoch 33/75\n",
      "404/404 [==============================] - 0s 248us/sample - loss: 8.1959 - mean_squared_error: 8.1959 - mean_absolute_error: 2.0351 - val_loss: 22.8965 - val_mean_squared_error: 22.8965 - val_mean_absolute_error: 2.9328\n",
      "Epoch 34/75\n",
      "404/404 [==============================] - 0s 250us/sample - loss: 8.1780 - mean_squared_error: 8.1780 - mean_absolute_error: 2.0495 - val_loss: 22.3992 - val_mean_squared_error: 22.3992 - val_mean_absolute_error: 2.8817\n",
      "Epoch 35/75\n",
      "404/404 [==============================] - 0s 260us/sample - loss: 8.1286 - mean_squared_error: 8.1286 - mean_absolute_error: 2.0072 - val_loss: 21.9079 - val_mean_squared_error: 21.9079 - val_mean_absolute_error: 3.0012\n",
      "Epoch 36/75\n",
      "404/404 [==============================] - 0s 251us/sample - loss: 7.8613 - mean_squared_error: 7.8613 - mean_absolute_error: 1.9920 - val_loss: 21.9985 - val_mean_squared_error: 21.9985 - val_mean_absolute_error: 2.9012\n",
      "Epoch 37/75\n",
      "404/404 [==============================] - 0s 252us/sample - loss: 7.8997 - mean_squared_error: 7.8997 - mean_absolute_error: 1.9902 - val_loss: 23.3287 - val_mean_squared_error: 23.3287 - val_mean_absolute_error: 3.0345\n",
      "Epoch 38/75\n",
      "404/404 [==============================] - 0s 236us/sample - loss: 7.9223 - mean_squared_error: 7.9223 - mean_absolute_error: 2.0085 - val_loss: 22.4860 - val_mean_squared_error: 22.4860 - val_mean_absolute_error: 2.8920\n",
      "Epoch 39/75\n",
      "404/404 [==============================] - 0s 209us/sample - loss: 7.5328 - mean_squared_error: 7.5328 - mean_absolute_error: 1.9797 - val_loss: 20.4735 - val_mean_squared_error: 20.4735 - val_mean_absolute_error: 2.7677\n",
      "Epoch 40/75\n",
      "404/404 [==============================] - 0s 213us/sample - loss: 7.4391 - mean_squared_error: 7.4391 - mean_absolute_error: 1.9433 - val_loss: 21.4111 - val_mean_squared_error: 21.4111 - val_mean_absolute_error: 2.8614\n",
      "Epoch 41/75\n",
      "404/404 [==============================] - 0s 217us/sample - loss: 7.3472 - mean_squared_error: 7.3472 - mean_absolute_error: 1.9349 - val_loss: 20.0557 - val_mean_squared_error: 20.0557 - val_mean_absolute_error: 2.7051\n",
      "Epoch 42/75\n",
      "404/404 [==============================] - 0s 209us/sample - loss: 7.3269 - mean_squared_error: 7.3269 - mean_absolute_error: 1.9355 - val_loss: 21.1388 - val_mean_squared_error: 21.1388 - val_mean_absolute_error: 2.9277\n",
      "Epoch 43/75\n",
      "404/404 [==============================] - 0s 216us/sample - loss: 7.2237 - mean_squared_error: 7.2237 - mean_absolute_error: 1.9170 - val_loss: 20.8132 - val_mean_squared_error: 20.8132 - val_mean_absolute_error: 2.7597\n",
      "Epoch 44/75\n",
      "404/404 [==============================] - 0s 219us/sample - loss: 7.0673 - mean_squared_error: 7.0673 - mean_absolute_error: 1.9030 - val_loss: 20.4688 - val_mean_squared_error: 20.4688 - val_mean_absolute_error: 2.7277\n",
      "Epoch 45/75\n",
      "404/404 [==============================] - 0s 206us/sample - loss: 7.1489 - mean_squared_error: 7.1489 - mean_absolute_error: 1.8871 - val_loss: 22.3802 - val_mean_squared_error: 22.3802 - val_mean_absolute_error: 2.9196\n",
      "Epoch 46/75\n",
      "404/404 [==============================] - 0s 206us/sample - loss: 7.0707 - mean_squared_error: 7.0707 - mean_absolute_error: 1.8956 - val_loss: 19.9373 - val_mean_squared_error: 19.9373 - val_mean_absolute_error: 2.7436\n",
      "Epoch 47/75\n",
      "404/404 [==============================] - 0s 196us/sample - loss: 6.7753 - mean_squared_error: 6.7753 - mean_absolute_error: 1.8652 - val_loss: 21.2409 - val_mean_squared_error: 21.2409 - val_mean_absolute_error: 2.8003\n",
      "Epoch 48/75\n",
      "404/404 [==============================] - 0s 221us/sample - loss: 6.9871 - mean_squared_error: 6.9871 - mean_absolute_error: 1.9014 - val_loss: 20.1235 - val_mean_squared_error: 20.1235 - val_mean_absolute_error: 2.7051\n",
      "Epoch 49/75\n",
      "404/404 [==============================] - 0s 204us/sample - loss: 7.0263 - mean_squared_error: 7.0263 - mean_absolute_error: 1.9034 - val_loss: 19.4658 - val_mean_squared_error: 19.4658 - val_mean_absolute_error: 2.6188\n",
      "Epoch 50/75\n",
      "404/404 [==============================] - 0s 210us/sample - loss: 6.5856 - mean_squared_error: 6.5856 - mean_absolute_error: 1.8074 - val_loss: 19.3965 - val_mean_squared_error: 19.3965 - val_mean_absolute_error: 2.6623\n",
      "Epoch 51/75\n",
      "404/404 [==============================] - 0s 204us/sample - loss: 6.7019 - mean_squared_error: 6.7019 - mean_absolute_error: 1.8742 - val_loss: 19.3951 - val_mean_squared_error: 19.3951 - val_mean_absolute_error: 2.6937\n",
      "Epoch 52/75\n",
      "404/404 [==============================] - 0s 209us/sample - loss: 6.5142 - mean_squared_error: 6.5142 - mean_absolute_error: 1.8314 - val_loss: 19.2019 - val_mean_squared_error: 19.2019 - val_mean_absolute_error: 2.8119\n",
      "Epoch 53/75\n",
      "404/404 [==============================] - 0s 206us/sample - loss: 6.8246 - mean_squared_error: 6.8246 - mean_absolute_error: 1.8760 - val_loss: 19.5284 - val_mean_squared_error: 19.5284 - val_mean_absolute_error: 2.6913\n",
      "Epoch 54/75\n",
      "404/404 [==============================] - 0s 209us/sample - loss: 6.4758 - mean_squared_error: 6.4758 - mean_absolute_error: 1.8318 - val_loss: 19.0733 - val_mean_squared_error: 19.0733 - val_mean_absolute_error: 2.7165\n",
      "Epoch 55/75\n",
      "404/404 [==============================] - 0s 224us/sample - loss: 6.3453 - mean_squared_error: 6.3453 - mean_absolute_error: 1.7940 - val_loss: 18.4428 - val_mean_squared_error: 18.4428 - val_mean_absolute_error: 2.6352\n",
      "Epoch 56/75\n",
      "404/404 [==============================] - 0s 213us/sample - loss: 6.2239 - mean_squared_error: 6.2239 - mean_absolute_error: 1.7844 - val_loss: 18.9015 - val_mean_squared_error: 18.9015 - val_mean_absolute_error: 2.7462\n",
      "Epoch 57/75\n",
      "404/404 [==============================] - 0s 206us/sample - loss: 6.2409 - mean_squared_error: 6.2409 - mean_absolute_error: 1.8017 - val_loss: 20.2111 - val_mean_squared_error: 20.2111 - val_mean_absolute_error: 2.8199\n",
      "Epoch 58/75\n",
      "404/404 [==============================] - 0s 199us/sample - loss: 6.4780 - mean_squared_error: 6.4780 - mean_absolute_error: 1.7906 - val_loss: 21.4289 - val_mean_squared_error: 21.4289 - val_mean_absolute_error: 2.8971\n",
      "Epoch 59/75\n",
      "404/404 [==============================] - 0s 211us/sample - loss: 6.2088 - mean_squared_error: 6.2088 - mean_absolute_error: 1.8009 - val_loss: 18.3682 - val_mean_squared_error: 18.3682 - val_mean_absolute_error: 2.6486\n",
      "Epoch 60/75\n",
      "404/404 [==============================] - 0s 201us/sample - loss: 6.0633 - mean_squared_error: 6.0633 - mean_absolute_error: 1.7466 - val_loss: 18.1329 - val_mean_squared_error: 18.1329 - val_mean_absolute_error: 2.5720\n",
      "Epoch 61/75\n",
      "404/404 [==============================] - 0s 234us/sample - loss: 5.9632 - mean_squared_error: 5.9632 - mean_absolute_error: 1.7190 - val_loss: 17.5428 - val_mean_squared_error: 17.5428 - val_mean_absolute_error: 2.6187\n",
      "Epoch 62/75\n",
      "404/404 [==============================] - 0s 245us/sample - loss: 5.9543 - mean_squared_error: 5.9543 - mean_absolute_error: 1.7471 - val_loss: 17.1714 - val_mean_squared_error: 17.1714 - val_mean_absolute_error: 2.5564\n",
      "Epoch 63/75\n",
      "404/404 [==============================] - 0s 258us/sample - loss: 5.9592 - mean_squared_error: 5.9592 - mean_absolute_error: 1.7222 - val_loss: 17.3965 - val_mean_squared_error: 17.3965 - val_mean_absolute_error: 2.6092\n",
      "Epoch 64/75\n",
      "404/404 [==============================] - 0s 247us/sample - loss: 5.7855 - mean_squared_error: 5.7855 - mean_absolute_error: 1.7237 - val_loss: 19.0046 - val_mean_squared_error: 19.0046 - val_mean_absolute_error: 2.7330\n",
      "Epoch 65/75\n",
      "404/404 [==============================] - 0s 240us/sample - loss: 5.7948 - mean_squared_error: 5.7948 - mean_absolute_error: 1.7389 - val_loss: 18.0768 - val_mean_squared_error: 18.0768 - val_mean_absolute_error: 2.6580\n",
      "Epoch 66/75\n",
      "404/404 [==============================] - 0s 244us/sample - loss: 5.6656 - mean_squared_error: 5.6656 - mean_absolute_error: 1.7022 - val_loss: 17.1981 - val_mean_squared_error: 17.1981 - val_mean_absolute_error: 2.5976\n",
      "Epoch 67/75\n",
      "404/404 [==============================] - 0s 246us/sample - loss: 5.6832 - mean_squared_error: 5.6832 - mean_absolute_error: 1.6705 - val_loss: 18.0756 - val_mean_squared_error: 18.0756 - val_mean_absolute_error: 2.6584\n",
      "Epoch 68/75\n",
      "404/404 [==============================] - 0s 240us/sample - loss: 5.9265 - mean_squared_error: 5.9265 - mean_absolute_error: 1.7664 - val_loss: 18.6872 - val_mean_squared_error: 18.6872 - val_mean_absolute_error: 2.7389\n",
      "Epoch 69/75\n",
      "404/404 [==============================] - 0s 240us/sample - loss: 5.5053 - mean_squared_error: 5.5053 - mean_absolute_error: 1.6918 - val_loss: 16.6147 - val_mean_squared_error: 16.6147 - val_mean_absolute_error: 2.5245\n",
      "Epoch 70/75\n",
      "404/404 [==============================] - 0s 247us/sample - loss: 5.7846 - mean_squared_error: 5.7846 - mean_absolute_error: 1.7418 - val_loss: 16.3389 - val_mean_squared_error: 16.3389 - val_mean_absolute_error: 2.5533\n",
      "Epoch 71/75\n",
      "404/404 [==============================] - 0s 239us/sample - loss: 5.8750 - mean_squared_error: 5.8750 - mean_absolute_error: 1.7285 - val_loss: 16.6838 - val_mean_squared_error: 16.6838 - val_mean_absolute_error: 2.5550\n",
      "Epoch 72/75\n",
      "404/404 [==============================] - 0s 245us/sample - loss: 5.7194 - mean_squared_error: 5.7194 - mean_absolute_error: 1.7047 - val_loss: 16.7603 - val_mean_squared_error: 16.7603 - val_mean_absolute_error: 2.5679\n",
      "Epoch 73/75\n",
      "404/404 [==============================] - 0s 252us/sample - loss: 5.5445 - mean_squared_error: 5.5445 - mean_absolute_error: 1.6454 - val_loss: 15.6137 - val_mean_squared_error: 15.6137 - val_mean_absolute_error: 2.4739\n",
      "Epoch 74/75\n",
      "404/404 [==============================] - 0s 248us/sample - loss: 5.5535 - mean_squared_error: 5.5535 - mean_absolute_error: 1.7070 - val_loss: 17.0513 - val_mean_squared_error: 17.0513 - val_mean_absolute_error: 2.5766\n",
      "Epoch 75/75\n",
      "404/404 [==============================] - 0s 237us/sample - loss: 5.3347 - mean_squared_error: 5.3347 - mean_absolute_error: 1.6950 - val_loss: 15.6196 - val_mean_squared_error: 15.6196 - val_mean_absolute_error: 2.5151\n"
     ]
    },
    {
     "data": {
      "text/plain": [
       "<tensorflow.python.keras.callbacks.History at 0x7f676b1a5898>"
      ]
     },
     "execution_count": 3,
     "metadata": {},
     "output_type": "execute_result"
    }
   ],
   "source": [
    "from tensorflow import keras\n",
    "from tensorflow.keras.models import Sequential\n",
    "from tensorflow.keras.layers import Dense\n",
    "\n",
    "# Important Hyperparameters\n",
    "inputs = x_train.shape[1]\n",
    "epochs = 75\n",
    "batch_size = 10\n",
    "\n",
    "\n",
    "# Create Model\n",
    "model = Sequential()\n",
    "model.add(Dense(64, activation='relu', input_shape=(inputs,)))\n",
    "model.add(Dense(64, activation='relu'))\n",
    "model.add(Dense(1))\n",
    "\n",
    "# Compile Model\n",
    "model.compile(optimizer='adam', loss='mse', metrics=['mse', 'mae'])\n",
    "\n",
    "# Fit Model\n",
    "model.fit(x_train, y_train, \n",
    "          validation_data=(x_test,y_test), \n",
    "          epochs=epochs, \n",
    "          batch_size=batch_size\n",
    "         )"
   ]
  },
  {
   "cell_type": "markdown",
   "metadata": {
    "colab_type": "text",
    "id": "sYJ8t_ezHP4W"
   },
   "source": [
    "### Hyperparameter Tuning Approaches:\n",
    "\n",
    "#### 1) Babysitting AKA \"Grad Student Descent\".\n",
    "\n",
    "If you fiddled with any hyperparameters yesterday, this is basically what you did. This approach is 100% manual and is pretty common among researchers where finding that 1 exact specification that jumps your model to a level of accuracy never seen before is the difference between publishing and not publishing a paper. Of course the professors don't do this themselves, that's grunt work. This is also known as the fiddle with hyperparameters until you run out of time method.\n",
    "\n",
    "#### 2) Grid Search\n",
    "\n",
    "Grid Search is the Grad Student galaxy brain realization of: why don't I just specify all the experiments I want to run and let the computer try every possible combination of them while I go and grab lunch. This has a specific downside in that if I specify 5 hyperparameters with 5 options each then I've just created 5^5 combinations of hyperparameters to check. Which means that I have to train 3125 different versions of my model Then if I use 5-fold Cross Validation on that then my model has to run 15,525 times. This is the brute-force method of hyperparameter tuning, but it can be very profitable if done wisely. \n",
    "\n",
    "When using Grid Search here's what I suggest: don't use it to test combinations of different hyperparameters, only use it to test different specifications of **a single** hyperparameter. It's rare that combinations between different hyperparameters lead to big performance gains. You'll get 90-95% of the way there if you just Grid Search one parameter and take the best result, then retain that best result while you test another, and then retain the best specification from that while you train another. This at least makes the situation much more manageable and leads to pretty good results. \n",
    "\n",
    "#### 3) Random Search\n",
    "\n",
    "Do Grid Search for a couple of hours and you'll say to yourself - \"There's got to be a better way.\" Enter Random Search. For Random search you specify a hyperparameter space and it picks specifications from that randomly, tries them out, gives you the best results and says - That's going to have to be good enough, go home and spend time with your family. \n",
    "\n",
    "Grid Search treats every parameter as if it was equally important, but this just isn't the case, some are known to move the needle a lot more than others (we'll talk about that in a minute). Random Search allows searching to be specified along the most important parameter and experiments less along the dimensions of less important hyperparameters. The downside of Random search is that it won't find the absolute best hyperparameters, but it is much less costly to perform than Grid Search. \n",
    "\n",
    "#### 4) Bayesian Methods\n",
    "\n",
    "One thing that can make more manual methods like babysitting and gridsearch effective is that as the experimenter sees results he can then make updates to his future searches taking into account the results of past specifications. If only we could hyperparameter tune our hyperparameter tuning. Well, we kind of can. Enter Bayesian Optimization. Neural Networks are like an optimization problem within an optimization problem, and Bayesian Optimization is a search strategy that tries to take into account the results of past searches in order to improve future ones. This is the most advanced method but can be a little bit tricky to implement, but there are some early steps with `hyperas` which is Bayesian optimization wrapper for `keras`. "
   ]
  },
  {
   "cell_type": "markdown",
   "metadata": {
    "colab_type": "text",
    "id": "HfQ7D043OMMn"
   },
   "source": [
    "## What Hyperparameters are there to test?\n",
    "\n",
    "- batch_size\n",
    "- training epochs\n",
    "- optimization algorithms\n",
    "- learning rate\n",
    "- momentum\n",
    "- activation functions\n",
    "- dropout regularization\n",
    "- number of neurons in the hidden layer\n",
    "\n",
    "There are more, but these are the most important."
   ]
  },
  {
   "cell_type": "markdown",
   "metadata": {},
   "source": [
    "## Follow Along"
   ]
  },
  {
   "cell_type": "markdown",
   "metadata": {
    "colab_type": "text",
    "id": "Mri5-kXzVKAa"
   },
   "source": [
    "## Batch Size\n",
    "\n",
    "Batch size determines how many observations the model is shown before it calculates loss/error and updates the model weights via gradient descent. You're looking for a sweet spot here where you're showing it enough observations that you have enough information to updates the weights, but not such a large batch size that you don't get a lot of weight update iterations performed in a given epoch. Feed-forward Neural Networks aren't as sensitive to bach_size as other networks, but it is still an important hyperparameter to tune. Smaller batch sizes will also take longer to train. "
   ]
  },
  {
   "cell_type": "code",
   "execution_count": 4,
   "metadata": {
    "colab": {
     "base_uri": "https://localhost:8080/",
     "height": 13561
    },
    "colab_type": "code",
    "id": "2smXfriNAGn7",
    "outputId": "ae996575-78e2-43fb-9dbe-5d44aaf0b430"
   },
   "outputs": [
    {
     "name": "stdout",
     "output_type": "stream",
     "text": [
      "WARNING:tensorflow:From /home/ec2-user/anaconda3/envs/tensorflow_p36/lib/python3.6/site-packages/tensorflow/python/ops/nn_impl.py:180: add_dispatch_support.<locals>.wrapper (from tensorflow.python.ops.array_ops) is deprecated and will be removed in a future version.\n",
      "Instructions for updating:\n",
      "Use tf.where in 2.0, which has the same broadcast rule as np.where\n"
     ]
    },
    {
     "name": "stderr",
     "output_type": "stream",
     "text": [
      "/home/ec2-user/anaconda3/envs/tensorflow_p36/lib/python3.6/site-packages/sklearn/model_selection/_split.py:1978: FutureWarning: The default value of cv will change from 3 to 5 in version 0.22. Specify it explicitly to silence this warning.\n",
      "  warnings.warn(CV_WARNING, FutureWarning)\n"
     ]
    },
    {
     "name": "stdout",
     "output_type": "stream",
     "text": [
      "Best: 0.6731770833333334 using {'batch_size': 20, 'epochs': 20}\n",
      "Means: 0.6510416666666666, Stdev: 0.017566064535458385 with: {'batch_size': 10, 'epochs': 20}\n",
      "Means: 0.6731770833333334, Stdev: 0.009207119546699838 with: {'batch_size': 20, 'epochs': 20}\n",
      "Means: 0.6393229166666666, Stdev: 0.03194751079787838 with: {'batch_size': 40, 'epochs': 20}\n",
      "Means: 0.5625, Stdev: 0.10141214832614977 with: {'batch_size': 60, 'epochs': 20}\n",
      "Means: 0.5572916666666666, Stdev: 0.08379996307137544 with: {'batch_size': 80, 'epochs': 20}\n",
      "Means: 0.6575520833333334, Stdev: 0.02946278254943948 with: {'batch_size': 100, 'epochs': 20}\n"
     ]
    }
   ],
   "source": [
    "import numpy\n",
    "import pandas as pd\n",
    "from sklearn.model_selection import GridSearchCV\n",
    "from tensorflow.keras.models import Sequential\n",
    "from tensorflow.keras.layers import Dense\n",
    "from tensorflow.keras.wrappers.scikit_learn import KerasClassifier\n",
    "\n",
    "# fix random seed for reproducibility\n",
    "seed = 7\n",
    "numpy.random.seed(seed)\n",
    "\n",
    "# load dataset\n",
    "url =\"https://raw.githubusercontent.com/jbrownlee/Datasets/master/pima-indians-diabetes.data.csv\"\n",
    "\n",
    "dataset = pd.read_csv(url, header=None).values\n",
    "\n",
    "# split into input (X) and output (Y) variables\n",
    "X = dataset[:,0:8]\n",
    "Y = dataset[:,8]\n",
    "\n",
    "# Function to create model, required for KerasClassifier\n",
    "def create_model():\n",
    "    # create model\n",
    "    model = Sequential()\n",
    "    model.add(Dense(12, input_dim=8, activation='relu'))\n",
    "    model.add(Dense(1, activation='sigmoid'))\n",
    "    # Compile model\n",
    "    model.compile(loss='binary_crossentropy', optimizer='adam', metrics=['accuracy'])\n",
    "    return model\n",
    "\n",
    "# create model\n",
    "model = KerasClassifier(build_fn=create_model, verbose=0)\n",
    "\n",
    "# define the grid search parameters\n",
    "# batch_size = [10, 20, 40, 60, 80, 100]\n",
    "# param_grid = dict(batch_size=batch_size, epochs=epochs)\n",
    "\n",
    "# define the grid search parameters\n",
    "param_grid = {'batch_size': [10, 20, 40, 60, 80, 100],\n",
    "              'epochs': [20]}\n",
    "\n",
    "# Create Grid Search\n",
    "grid = GridSearchCV(estimator=model, param_grid=param_grid, n_jobs=1)\n",
    "grid_result = grid.fit(X, Y)\n",
    "\n",
    "# Report Results\n",
    "print(f\"Best: {grid_result.best_score_} using {grid_result.best_params_}\")\n",
    "means = grid_result.cv_results_['mean_test_score']\n",
    "stds = grid_result.cv_results_['std_test_score']\n",
    "params = grid_result.cv_results_['params']\n",
    "for mean, stdev, param in zip(means, stds, params):\n",
    "    print(f\"Means: {mean}, Stdev: {stdev} with: {param}\") "
   ]
  },
  {
   "cell_type": "markdown",
   "metadata": {
    "colab_type": "text",
    "id": "pmABfjlvXbqi"
   },
   "source": [
    "## Epochs\n",
    "\n",
    "The number of training epochs has a large and direct affect on the accuracy, However, more epochs is almost always goign to better than less epochs. This means that if you tune this parameter at the beginning and try and maintain the same value all throughout your training, you're going to be waiting a long time for each iteration of GridSearch. I suggest picking a fixed moderat # of epochs all throughout your training and then Grid Searching this parameter at the very end. "
   ]
  },
  {
   "cell_type": "code",
   "execution_count": 5,
   "metadata": {
    "colab": {
     "base_uri": "https://localhost:8080/",
     "height": 26329
    },
    "colab_type": "code",
    "id": "bAmxP3N7TmFh",
    "outputId": "3ddb08c4-51ac-4eaa-ff39-143397024544"
   },
   "outputs": [
    {
     "name": "stderr",
     "output_type": "stream",
     "text": [
      "/home/ec2-user/anaconda3/envs/tensorflow_p36/lib/python3.6/site-packages/sklearn/model_selection/_split.py:1978: FutureWarning: The default value of cv will change from 3 to 5 in version 0.22. Specify it explicitly to silence this warning.\n",
      "  warnings.warn(CV_WARNING, FutureWarning)\n"
     ]
    },
    {
     "name": "stdout",
     "output_type": "stream",
     "text": [
      "Best: 0.6875 using {'batch_size': 20, 'epochs': 40}\n",
      "Means: 0.5872395833333334, Stdev: 0.04734286188202563 with: {'batch_size': 20, 'epochs': 20}\n",
      "Means: 0.6875, Stdev: 0.03360283307438526 with: {'batch_size': 20, 'epochs': 40}\n",
      "Means: 0.63671875, Stdev: 0.016876928902103804 with: {'batch_size': 20, 'epochs': 60}\n",
      "Means: 0.6875, Stdev: 0.024079742199097563 with: {'batch_size': 20, 'epochs': 200}\n"
     ]
    }
   ],
   "source": [
    "# define the grid search parameters\n",
    "param_grid = {'batch_size': [20],\n",
    "              'epochs': [20, 40, 60,200]}\n",
    "\n",
    "# Create Grid Search\n",
    "grid = GridSearchCV(estimator=model, param_grid=param_grid, n_jobs=1)\n",
    "grid_result = grid.fit(X, Y)\n",
    "\n",
    "# Report Results\n",
    "print(f\"Best: {grid_result.best_score_} using {grid_result.best_params_}\")\n",
    "means = grid_result.cv_results_['mean_test_score']\n",
    "stds = grid_result.cv_results_['std_test_score']\n",
    "params = grid_result.cv_results_['params']\n",
    "for mean, stdev, param in zip(means, stds, params):\n",
    "    print(f\"Means: {mean}, Stdev: {stdev} with: {param}\")"
   ]
  },
  {
   "cell_type": "markdown",
   "metadata": {
    "colab_type": "text",
    "id": "EKcuY6OiaLfz"
   },
   "source": [
    "## Optimizer\n",
    "\n",
    "Remember that there's a different optimizers [optimizers](https://keras.io/optimizers/). At some point, take some time to read up on them a little bit. \"adam\" usually gives the best results. The thing to know about choosing an optimizer is that different optimizers have different hyperparameters like learning rate, momentum, etc. So based on the optimizer you choose you might also have to tune the learning rate and momentum of those optimizers after that. "
   ]
  },
  {
   "cell_type": "markdown",
   "metadata": {
    "colab_type": "text",
    "id": "DG3wq5iOaLig"
   },
   "source": [
    "## Learning Rate\n",
    "\n",
    "Remember that the Learning Rate is a hyperparameter that is specific to your gradient-descent based optimizer selection. A learning rate that is too high will cause divergent behavior, but a Learning Rate that is too low will fail to converge, again, you're looking for the sweet spot. I would start out tuning learning rates by orders of magnitude: [.001, .01, .1, .2, .3, .5] etc. I wouldn't go above .5, but you can try it and see what the behavior is like. \n",
    "\n",
    "Once you have narrowed it down, make the window even smaller and try it again. If after running the above specification your model reports that .1 is the best optimizer, then you should probably try things like [.05, .08, .1, .12, .15] to try and narrow it down. \n",
    "\n",
    "It can also be good to tune the number of epochs in combination with the learning rate since the number of iterations that you allow the learning rate to reach the minimum can determine if you have let it run long enough to converge to the minimum. "
   ]
  },
  {
   "cell_type": "markdown",
   "metadata": {
    "colab_type": "text",
    "id": "gNTBUWd1aLlA"
   },
   "source": [
    "## Momentum\n",
    "\n",
    "Momentum is a hyperparameter that is more commonly associated with Stochastic Gradient Descent. SGD is a common optimizer because it's what people understand and know, but I doubt it will get you the best results, you can try hyperparameter tuning its attributes and see if you can beat the performance from adam. Momentum is a property that decides the willingness of an optimizer to overshoot the minimum. Imagine a ball rolling down one side of a bowl and then up the opposite side a little bit before settling back to the bottom. The purpose of momentum is to try and escale local minima."
   ]
  },
  {
   "cell_type": "markdown",
   "metadata": {
    "colab_type": "text",
    "id": "xnEG-bCJaLnZ"
   },
   "source": [
    "## Activation Functions\n",
    "\n",
    "We've talked about this a little bit, typically you'l want to use ReLU for hidden layers and either Sigmoid, or Softmax for output layers of binary and multi-class classification implementations respectively, but try other activation functions and see if you can get any better results with sigmoid or tanh or something. There are a lot of activation functions that we haven't really talked about. Maybe you'll get good results with them. Maybe you won't. :) <https://keras.io/activations/>"
   ]
  },
  {
   "cell_type": "markdown",
   "metadata": {
    "colab_type": "text",
    "id": "oul9sPq-dU-h"
   },
   "source": [
    "## Network Weight Initialization\n",
    "\n",
    "You saw how big of an effect the way that we initialize our network's weights can have on our results. There are **a lot** of what are called initialization modes. I don't understand all of them, but they can have a big affect on your model's initial accuracy. Your model will get further with less epochs if you initialize it with weights that are well suited to the problem you're trying to solve.\n",
    "\n",
    "`init_mode = ['uniform', 'lecun_uniform', 'normal', 'zero', 'glorot_normal', 'glorot_uniform', 'he_normal', 'he_uniform']`"
   ]
  },
  {
   "cell_type": "markdown",
   "metadata": {
    "colab_type": "text",
    "id": "bqtEuxeQaLqE"
   },
   "source": [
    "## Dropout Regularization and the Weight Constraint\n",
    "\n",
    "the Dropout Regularization value is a percentage of neurons that you want to be randomly deactivated during training. The weight constraint is a second regularization parameter that works in tandem with dropout regularization. You should tune these two values at the same time. \n",
    "\n",
    "Using dropout on visible vs hidden layers might have a different effect. Using dropout on hidden layers might not have any effect while using dropout on hidden layers might have a substantial effect. You don't necessarily need to turn use dropout unless you see that your model has overfitting and generalizability problems."
   ]
  },
  {
   "cell_type": "markdown",
   "metadata": {
    "colab_type": "text",
    "id": "P2c5Cv6oaLtO"
   },
   "source": [
    "## Neurons in Hidden Layer \n",
    "\n",
    "Remember that when we only had a single perceptron our model was only able to fit to linearly separable data, but as we have added layers and nodes to those layers our network has become a powerhouse of fitting nonlinearity in data. The larger the network and the more nodes generally the stronger the network's capacity to fit nonlinear patterns in data. The more nodes and layers the longer it will take to train a network, and higher the probability of overfitting. The larger your network gets the more you'll need dropout regularization or other regularization techniques to keep it in check. \n",
    "\n",
    "Typically depth (more layers) is more important than width (more nodes) for neural networks. This is part of why Deep Learning is so highly touted. Certain deep learning architectures have truly been huge breakthroughs for certain machine learning tasks. \n",
    "\n",
    "You might borrow ideas from other network architectures. For example if I was doing image recognition and I wasn't taking cues from state of the art architectures like resnet, alexnet, googlenet, etc. Then I'm probably going to have to do a lot more experimentation on my own before I find something that works.\n",
    "\n",
    "There are some heuristics, but I am highly skeptical of them. I think you're better off experimenting on your own and forming your own intuition for these kinds of problems. \n",
    "\n",
    "- https://machinelearningmastery.com/how-to-configure-the-number-of-layers-and-nodes-in-a-neural-network/"
   ]
  },
  {
   "cell_type": "markdown",
   "metadata": {},
   "source": [
    "## Challenge\n",
    "You will be expected to tune several hyperparameters in today's module project. "
   ]
  },
  {
   "cell_type": "markdown",
   "metadata": {},
   "source": [
    "# Experiment Tracking Framework (Learn)\n",
    "<a id=\"p2\"></a>"
   ]
  },
  {
   "cell_type": "markdown",
   "metadata": {},
   "source": [
    "## Overview\n",
    "\n",
    "You will notice quickly that managing the results of all the experiments you are running becomes challenging. Which set of parameters did the best? Are my results today different than my results yesterday? Although we use Ipython Notebooks to work, the format is not well suited to logging experimental results. Enter experiment tracking frameworks like [Comet.ml](https://comet.ml) and [Weights and Biases](https://wandb.ai/).\n",
    "\n",
    "Those tools will help you track your experiments, store the results, and the code associated with those experiments. Experimental results can also be readily visualized to see changes in performance across any metric you care about. Data is sent to the tool as each epoch is completed, so you can also see if your model is converging. Let's check out Weights & Biases today. "
   ]
  },
  {
   "cell_type": "markdown",
   "metadata": {},
   "source": [
    "## Follow Along\n",
    "\n",
    "Make sure you login into `wandb` in the terminal before running the next cell. "
   ]
  },
  {
   "cell_type": "code",
   "execution_count": 6,
   "metadata": {},
   "outputs": [
    {
     "name": "stdout",
     "output_type": "stream",
     "text": [
      "Requirement already satisfied: wandb in /home/ec2-user/anaconda3/envs/tensorflow_p36/lib/python3.6/site-packages (0.8.18)\n",
      "Requirement already satisfied: six>=1.10.0 in /home/ec2-user/anaconda3/envs/tensorflow_p36/lib/python3.6/site-packages (from wandb) (1.11.0)\n",
      "Requirement already satisfied: Click>=7.0 in /home/ec2-user/anaconda3/envs/tensorflow_p36/lib/python3.6/site-packages (from wandb) (7.0)\n",
      "Requirement already satisfied: python-dateutil>=2.6.1 in /home/ec2-user/anaconda3/envs/tensorflow_p36/lib/python3.6/site-packages (from wandb) (2.7.3)\n",
      "Requirement already satisfied: shortuuid>=0.5.0 in /home/ec2-user/anaconda3/envs/tensorflow_p36/lib/python3.6/site-packages (from wandb) (0.5.0)\n",
      "Requirement already satisfied: configparser>=3.8.1 in /home/ec2-user/anaconda3/envs/tensorflow_p36/lib/python3.6/site-packages (from wandb) (4.0.2)\n",
      "Requirement already satisfied: GitPython>=1.0.0 in /home/ec2-user/anaconda3/envs/tensorflow_p36/lib/python3.6/site-packages (from wandb) (3.0.5)\n",
      "Requirement already satisfied: requests>=2.0.0 in /home/ec2-user/anaconda3/envs/tensorflow_p36/lib/python3.6/site-packages (from wandb) (2.20.0)\n",
      "Requirement already satisfied: graphql-core<3.0.0 in /home/ec2-user/anaconda3/envs/tensorflow_p36/lib/python3.6/site-packages (from wandb) (2.2.1)\n",
      "Requirement already satisfied: docker-pycreds>=0.4.0 in /home/ec2-user/anaconda3/envs/tensorflow_p36/lib/python3.6/site-packages (from wandb) (0.4.0)\n",
      "Requirement already satisfied: sentry-sdk>=0.4.0 in /home/ec2-user/anaconda3/envs/tensorflow_p36/lib/python3.6/site-packages (from wandb) (0.13.5)\n",
      "Requirement already satisfied: watchdog>=0.8.3 in /home/ec2-user/anaconda3/envs/tensorflow_p36/lib/python3.6/site-packages (from wandb) (0.9.0)\n",
      "Requirement already satisfied: psutil>=5.0.0 in /home/ec2-user/anaconda3/envs/tensorflow_p36/lib/python3.6/site-packages (from wandb) (5.4.5)\n",
      "Requirement already satisfied: gql>=0.1.0 in /home/ec2-user/anaconda3/envs/tensorflow_p36/lib/python3.6/site-packages (from wandb) (0.1.0)\n",
      "Requirement already satisfied: nvidia-ml-py3>=7.352.0 in /home/ec2-user/anaconda3/envs/tensorflow_p36/lib/python3.6/site-packages (from wandb) (7.352.0)\n",
      "Requirement already satisfied: subprocess32>=3.5.3 in /home/ec2-user/anaconda3/envs/tensorflow_p36/lib/python3.6/site-packages (from wandb) (3.5.4)\n",
      "Requirement already satisfied: gitdb2>=2.0.0 in /home/ec2-user/anaconda3/envs/tensorflow_p36/lib/python3.6/site-packages (from GitPython>=1.0.0->wandb) (2.0.6)\n",
      "Requirement already satisfied: urllib3<1.25,>=1.21.1 in /home/ec2-user/anaconda3/envs/tensorflow_p36/lib/python3.6/site-packages (from requests>=2.0.0->wandb) (1.23)\n",
      "Requirement already satisfied: certifi>=2017.4.17 in /home/ec2-user/anaconda3/envs/tensorflow_p36/lib/python3.6/site-packages (from requests>=2.0.0->wandb) (2019.9.11)\n",
      "Requirement already satisfied: idna<2.8,>=2.5 in /home/ec2-user/anaconda3/envs/tensorflow_p36/lib/python3.6/site-packages (from requests>=2.0.0->wandb) (2.6)\n",
      "Requirement already satisfied: chardet<3.1.0,>=3.0.2 in /home/ec2-user/anaconda3/envs/tensorflow_p36/lib/python3.6/site-packages (from requests>=2.0.0->wandb) (3.0.4)\n",
      "Requirement already satisfied: promise>=2.1 in /home/ec2-user/anaconda3/envs/tensorflow_p36/lib/python3.6/site-packages (from graphql-core<3.0.0->wandb) (2.2.1)\n",
      "Requirement already satisfied: rx<3,>=1.6 in /home/ec2-user/anaconda3/envs/tensorflow_p36/lib/python3.6/site-packages (from graphql-core<3.0.0->wandb) (1.6.1)\n",
      "Requirement already satisfied: argh>=0.24.1 in /home/ec2-user/anaconda3/envs/tensorflow_p36/lib/python3.6/site-packages (from watchdog>=0.8.3->wandb) (0.26.2)\n",
      "Requirement already satisfied: PyYAML>=3.10 in /home/ec2-user/anaconda3/envs/tensorflow_p36/lib/python3.6/site-packages (from watchdog>=0.8.3->wandb) (3.12)\n",
      "Requirement already satisfied: pathtools>=0.1.1 in /home/ec2-user/anaconda3/envs/tensorflow_p36/lib/python3.6/site-packages (from watchdog>=0.8.3->wandb) (0.1.2)\n",
      "Requirement already satisfied: smmap2>=2.0.0 in /home/ec2-user/anaconda3/envs/tensorflow_p36/lib/python3.6/site-packages (from gitdb2>=2.0.0->GitPython>=1.0.0->wandb) (2.0.5)\n",
      "\u001b[33mYou are using pip version 10.0.1, however version 19.3.1 is available.\n",
      "You should consider upgrading via the 'pip install --upgrade pip' command.\u001b[0m\n"
     ]
    }
   ],
   "source": [
    "!pip install wandb"
   ]
  },
  {
   "cell_type": "code",
   "execution_count": 8,
   "metadata": {},
   "outputs": [
    {
     "name": "stdout",
     "output_type": "stream",
     "text": [
      "\u001b[34m\u001b[1mwandb\u001b[0m: Appending key for api.wandb.ai to your netrc file: /home/ec2-user/.netrc\n",
      "\u001b[32mSuccessfully logged in to Weights & Biases!\u001b[0m\n"
     ]
    }
   ],
   "source": [
    "!wandb login 46c02f2598d6b20efbf9a0ea2d6c3541debfbfe6"
   ]
  },
  {
   "cell_type": "code",
   "execution_count": 9,
   "metadata": {},
   "outputs": [],
   "source": [
    "import wandb\n",
    "from wandb.keras import WandbCallback"
   ]
  },
  {
   "cell_type": "code",
   "execution_count": 13,
   "metadata": {
    "colab": {
     "base_uri": "https://localhost:8080/",
     "height": 1750
    },
    "colab_type": "code",
    "id": "GMXVfmzXp1Oo",
    "outputId": "b05e251e-508f-46e6-865b-f869ae2a5dc4"
   },
   "outputs": [
    {
     "data": {
      "text/html": [
       "\n",
       "                Logging results to <a href=\"https://wandb.com\" target=\"_blank\">Weights & Biases</a> <a href=\"https://docs.wandb.com/integrations/jupyter.html\" target=\"_blank\">(Documentation)</a>.<br/>\n",
       "                Project page: <a href=\"https://app.wandb.ai/ds8/inclass\" target=\"_blank\">https://app.wandb.ai/ds8/inclass</a><br/>\n",
       "                Run page: <a href=\"https://app.wandb.ai/ds8/inclass/runs/ojsfgtuh\" target=\"_blank\">https://app.wandb.ai/ds8/inclass/runs/ojsfgtuh</a><br/>\n",
       "            "
      ],
      "text/plain": [
       "<IPython.core.display.HTML object>"
      ]
     },
     "metadata": {},
     "output_type": "display_data"
    },
    {
     "name": "stderr",
     "output_type": "stream",
     "text": [
      "Failed to query for notebook name, you can set it manually with the WANDB_NOTEBOOK_NAME environment variable\n",
      "Error generating diff: Command '['git', 'diff', '--submodule=diff', 'HEAD']' timed out after 5 seconds\n"
     ]
    },
    {
     "name": "stdout",
     "output_type": "stream",
     "text": [
      "Train on 270 samples, validate on 134 samples\n",
      "Epoch 1/50\n",
      "270/270 [==============================] - 7s 25ms/sample - loss: 473.5113 - mean_squared_error: 473.5113 - mean_absolute_error: 19.9182 - val_loss: 400.9187 - val_mean_squared_error: 400.9187 - val_mean_absolute_error: 17.5209\n",
      "Epoch 2/50\n",
      "270/270 [==============================] - 0s 813us/sample - loss: 149.0494 - mean_squared_error: 149.0494 - mean_absolute_error: 9.6872 - val_loss: 84.5222 - val_mean_squared_error: 84.5222 - val_mean_absolute_error: 6.8302\n",
      "Epoch 3/50\n",
      "270/270 [==============================] - 0s 852us/sample - loss: 37.6407 - mean_squared_error: 37.6407 - mean_absolute_error: 4.5013 - val_loss: 45.4888 - val_mean_squared_error: 45.4888 - val_mean_absolute_error: 4.4960\n",
      "Epoch 4/50\n",
      "270/270 [==============================] - 0s 872us/sample - loss: 21.5507 - mean_squared_error: 21.5507 - mean_absolute_error: 3.4124 - val_loss: 32.7182 - val_mean_squared_error: 32.7182 - val_mean_absolute_error: 3.7470\n",
      "Epoch 5/50\n",
      "270/270 [==============================] - 0s 825us/sample - loss: 17.2926 - mean_squared_error: 17.2926 - mean_absolute_error: 3.0286 - val_loss: 27.8192 - val_mean_squared_error: 27.8192 - val_mean_absolute_error: 3.3773\n",
      "Epoch 6/50\n",
      "270/270 [==============================] - 0s 886us/sample - loss: 13.8832 - mean_squared_error: 13.8832 - mean_absolute_error: 2.7424 - val_loss: 23.3284 - val_mean_squared_error: 23.3284 - val_mean_absolute_error: 3.1180\n",
      "Epoch 7/50\n",
      "270/270 [==============================] - 0s 878us/sample - loss: 12.1969 - mean_squared_error: 12.1969 - mean_absolute_error: 2.5827 - val_loss: 20.8791 - val_mean_squared_error: 20.8791 - val_mean_absolute_error: 2.9396\n",
      "Epoch 8/50\n",
      "270/270 [==============================] - 0s 891us/sample - loss: 10.9724 - mean_squared_error: 10.9724 - mean_absolute_error: 2.4940 - val_loss: 19.3400 - val_mean_squared_error: 19.3400 - val_mean_absolute_error: 2.9229\n",
      "Epoch 9/50\n",
      "270/270 [==============================] - 0s 925us/sample - loss: 10.3408 - mean_squared_error: 10.3408 - mean_absolute_error: 2.4577 - val_loss: 18.2588 - val_mean_squared_error: 18.2588 - val_mean_absolute_error: 2.7753\n",
      "Epoch 10/50\n",
      "270/270 [==============================] - 0s 974us/sample - loss: 9.0063 - mean_squared_error: 9.0063 - mean_absolute_error: 2.2621 - val_loss: 17.4411 - val_mean_squared_error: 17.4411 - val_mean_absolute_error: 2.7761\n",
      "Epoch 11/50\n",
      "270/270 [==============================] - 0s 826us/sample - loss: 8.3698 - mean_squared_error: 8.3698 - mean_absolute_error: 2.1980 - val_loss: 17.4397 - val_mean_squared_error: 17.4397 - val_mean_absolute_error: 2.7767\n",
      "Epoch 12/50\n",
      "270/270 [==============================] - 0s 605us/sample - loss: 8.1685 - mean_squared_error: 8.1685 - mean_absolute_error: 2.1555 - val_loss: 17.5177 - val_mean_squared_error: 17.5177 - val_mean_absolute_error: 2.8415\n",
      "Epoch 13/50\n",
      "270/270 [==============================] - 0s 802us/sample - loss: 8.1046 - mean_squared_error: 8.1046 - mean_absolute_error: 2.1773 - val_loss: 16.6078 - val_mean_squared_error: 16.6078 - val_mean_absolute_error: 2.7067\n",
      "Epoch 14/50\n",
      "270/270 [==============================] - 0s 595us/sample - loss: 7.3814 - mean_squared_error: 7.3814 - mean_absolute_error: 2.0148 - val_loss: 16.8554 - val_mean_squared_error: 16.8554 - val_mean_absolute_error: 2.8019\n",
      "Epoch 15/50\n",
      "270/270 [==============================] - 0s 611us/sample - loss: 7.0822 - mean_squared_error: 7.0822 - mean_absolute_error: 2.0181 - val_loss: 17.3033 - val_mean_squared_error: 17.3033 - val_mean_absolute_error: 2.8420\n",
      "Epoch 16/50\n",
      "270/270 [==============================] - 0s 882us/sample - loss: 7.1620 - mean_squared_error: 7.1620 - mean_absolute_error: 2.0131 - val_loss: 15.9472 - val_mean_squared_error: 15.9472 - val_mean_absolute_error: 2.6720\n",
      "Epoch 17/50\n",
      "270/270 [==============================] - 0s 590us/sample - loss: 6.3703 - mean_squared_error: 6.3703 - mean_absolute_error: 1.8941 - val_loss: 16.7977 - val_mean_squared_error: 16.7977 - val_mean_absolute_error: 2.8353\n",
      "Epoch 18/50\n",
      "270/270 [==============================] - 0s 800us/sample - loss: 6.7252 - mean_squared_error: 6.7252 - mean_absolute_error: 1.8831 - val_loss: 15.8203 - val_mean_squared_error: 15.8203 - val_mean_absolute_error: 2.6849\n",
      "Epoch 19/50\n",
      "270/270 [==============================] - 0s 603us/sample - loss: 6.4910 - mean_squared_error: 6.4910 - mean_absolute_error: 1.8854 - val_loss: 16.0216 - val_mean_squared_error: 16.0216 - val_mean_absolute_error: 2.7375\n",
      "Epoch 20/50\n",
      "270/270 [==============================] - 0s 770us/sample - loss: 5.9783 - mean_squared_error: 5.9783 - mean_absolute_error: 1.7893 - val_loss: 15.4263 - val_mean_squared_error: 15.4263 - val_mean_absolute_error: 2.5913\n",
      "Epoch 21/50\n",
      "270/270 [==============================] - 0s 815us/sample - loss: 6.0223 - mean_squared_error: 6.0223 - mean_absolute_error: 1.8521 - val_loss: 15.1599 - val_mean_squared_error: 15.1599 - val_mean_absolute_error: 2.5842\n",
      "Epoch 22/50\n",
      "270/270 [==============================] - 0s 597us/sample - loss: 5.8379 - mean_squared_error: 5.8379 - mean_absolute_error: 1.8085 - val_loss: 15.6322 - val_mean_squared_error: 15.6322 - val_mean_absolute_error: 2.6757\n",
      "Epoch 23/50\n",
      "270/270 [==============================] - 0s 760us/sample - loss: 5.5368 - mean_squared_error: 5.5368 - mean_absolute_error: 1.7022 - val_loss: 14.9181 - val_mean_squared_error: 14.9181 - val_mean_absolute_error: 2.5337\n",
      "Epoch 24/50\n",
      "270/270 [==============================] - 0s 655us/sample - loss: 5.4792 - mean_squared_error: 5.4792 - mean_absolute_error: 1.7319 - val_loss: 15.3561 - val_mean_squared_error: 15.3561 - val_mean_absolute_error: 2.6030\n",
      "Epoch 25/50\n",
      "270/270 [==============================] - 0s 812us/sample - loss: 5.5631 - mean_squared_error: 5.5631 - mean_absolute_error: 1.7779 - val_loss: 14.7673 - val_mean_squared_error: 14.7673 - val_mean_absolute_error: 2.5325\n",
      "Epoch 26/50\n",
      "270/270 [==============================] - 0s 647us/sample - loss: 5.5156 - mean_squared_error: 5.5156 - mean_absolute_error: 1.7688 - val_loss: 15.1891 - val_mean_squared_error: 15.1891 - val_mean_absolute_error: 2.6129\n",
      "Epoch 27/50\n",
      "270/270 [==============================] - 0s 799us/sample - loss: 5.0445 - mean_squared_error: 5.0445 - mean_absolute_error: 1.6634 - val_loss: 14.6816 - val_mean_squared_error: 14.6816 - val_mean_absolute_error: 2.5634\n",
      "Epoch 28/50\n",
      "270/270 [==============================] - 0s 664us/sample - loss: 5.2398 - mean_squared_error: 5.2398 - mean_absolute_error: 1.7010 - val_loss: 14.8081 - val_mean_squared_error: 14.8081 - val_mean_absolute_error: 2.5452\n",
      "Epoch 29/50\n",
      "270/270 [==============================] - 0s 620us/sample - loss: 5.1451 - mean_squared_error: 5.1451 - mean_absolute_error: 1.6756 - val_loss: 14.7141 - val_mean_squared_error: 14.7141 - val_mean_absolute_error: 2.5263\n",
      "Epoch 30/50\n",
      "270/270 [==============================] - 0s 847us/sample - loss: 4.6066 - mean_squared_error: 4.6066 - mean_absolute_error: 1.5844 - val_loss: 14.3785 - val_mean_squared_error: 14.3785 - val_mean_absolute_error: 2.5161\n",
      "Epoch 31/50\n",
      "270/270 [==============================] - 0s 666us/sample - loss: 4.8805 - mean_squared_error: 4.8805 - mean_absolute_error: 1.6234 - val_loss: 14.4100 - val_mean_squared_error: 14.4100 - val_mean_absolute_error: 2.4995\n",
      "Epoch 32/50\n",
      "270/270 [==============================] - 0s 878us/sample - loss: 4.9176 - mean_squared_error: 4.9176 - mean_absolute_error: 1.6208 - val_loss: 14.3721 - val_mean_squared_error: 14.3721 - val_mean_absolute_error: 2.5552\n",
      "Epoch 33/50\n",
      "270/270 [==============================] - 0s 837us/sample - loss: 4.7374 - mean_squared_error: 4.7374 - mean_absolute_error: 1.5953 - val_loss: 14.1906 - val_mean_squared_error: 14.1906 - val_mean_absolute_error: 2.4743\n",
      "Epoch 34/50\n",
      "270/270 [==============================] - 0s 668us/sample - loss: 4.1921 - mean_squared_error: 4.1921 - mean_absolute_error: 1.5725 - val_loss: 14.3345 - val_mean_squared_error: 14.3345 - val_mean_absolute_error: 2.4977\n",
      "Epoch 35/50\n",
      "270/270 [==============================] - 0s 691us/sample - loss: 4.3732 - mean_squared_error: 4.3732 - mean_absolute_error: 1.5535 - val_loss: 14.6111 - val_mean_squared_error: 14.6111 - val_mean_absolute_error: 2.5317\n",
      "Epoch 36/50\n",
      "270/270 [==============================] - 0s 862us/sample - loss: 4.4586 - mean_squared_error: 4.4586 - mean_absolute_error: 1.5687 - val_loss: 14.1264 - val_mean_squared_error: 14.1264 - val_mean_absolute_error: 2.4603\n",
      "Epoch 37/50\n",
      "270/270 [==============================] - 0s 704us/sample - loss: 4.0482 - mean_squared_error: 4.0482 - mean_absolute_error: 1.5119 - val_loss: 14.8057 - val_mean_squared_error: 14.8057 - val_mean_absolute_error: 2.5724\n",
      "Epoch 38/50\n",
      "270/270 [==============================] - 0s 682us/sample - loss: 4.1865 - mean_squared_error: 4.1865 - mean_absolute_error: 1.5735 - val_loss: 14.4620 - val_mean_squared_error: 14.4620 - val_mean_absolute_error: 2.5714\n",
      "Epoch 39/50\n",
      "270/270 [==============================] - 0s 918us/sample - loss: 4.1306 - mean_squared_error: 4.1306 - mean_absolute_error: 1.5140 - val_loss: 13.9744 - val_mean_squared_error: 13.9744 - val_mean_absolute_error: 2.4648\n",
      "Epoch 40/50\n",
      "270/270 [==============================] - 0s 634us/sample - loss: 4.0846 - mean_squared_error: 4.0846 - mean_absolute_error: 1.5336 - val_loss: 14.6855 - val_mean_squared_error: 14.6855 - val_mean_absolute_error: 2.5562\n",
      "Epoch 41/50\n",
      "270/270 [==============================] - 0s 838us/sample - loss: 4.2362 - mean_squared_error: 4.2362 - mean_absolute_error: 1.5375 - val_loss: 13.8627 - val_mean_squared_error: 13.8627 - val_mean_absolute_error: 2.4327\n",
      "Epoch 42/50\n",
      "270/270 [==============================] - 0s 651us/sample - loss: 4.4137 - mean_squared_error: 4.4137 - mean_absolute_error: 1.5834 - val_loss: 14.0073 - val_mean_squared_error: 14.0073 - val_mean_absolute_error: 2.5147\n",
      "Epoch 43/50\n",
      "270/270 [==============================] - 0s 835us/sample - loss: 4.0584 - mean_squared_error: 4.0584 - mean_absolute_error: 1.5228 - val_loss: 13.7099 - val_mean_squared_error: 13.7099 - val_mean_absolute_error: 2.4380\n",
      "Epoch 44/50\n",
      "270/270 [==============================] - 0s 633us/sample - loss: 3.7767 - mean_squared_error: 3.7767 - mean_absolute_error: 1.4545 - val_loss: 13.7428 - val_mean_squared_error: 13.7428 - val_mean_absolute_error: 2.4675\n",
      "Epoch 45/50\n",
      "270/270 [==============================] - 0s 612us/sample - loss: 3.7844 - mean_squared_error: 3.7844 - mean_absolute_error: 1.4558 - val_loss: 13.8573 - val_mean_squared_error: 13.8573 - val_mean_absolute_error: 2.5049\n",
      "Epoch 46/50\n",
      "270/270 [==============================] - 0s 625us/sample - loss: 3.8380 - mean_squared_error: 3.8380 - mean_absolute_error: 1.4670 - val_loss: 13.8213 - val_mean_squared_error: 13.8213 - val_mean_absolute_error: 2.4526\n",
      "Epoch 47/50\n",
      "270/270 [==============================] - 0s 790us/sample - loss: 3.6309 - mean_squared_error: 3.6309 - mean_absolute_error: 1.4246 - val_loss: 13.5527 - val_mean_squared_error: 13.5527 - val_mean_absolute_error: 2.4394\n",
      "Epoch 48/50\n",
      "270/270 [==============================] - 0s 615us/sample - loss: 3.5295 - mean_squared_error: 3.5295 - mean_absolute_error: 1.4215 - val_loss: 13.9866 - val_mean_squared_error: 13.9866 - val_mean_absolute_error: 2.5021\n",
      "Epoch 49/50\n",
      "270/270 [==============================] - 0s 648us/sample - loss: 3.7672 - mean_squared_error: 3.7672 - mean_absolute_error: 1.4610 - val_loss: 14.3301 - val_mean_squared_error: 14.3301 - val_mean_absolute_error: 2.5202\n",
      "Epoch 50/50\n",
      "270/270 [==============================] - 0s 703us/sample - loss: 4.0215 - mean_squared_error: 4.0215 - mean_absolute_error: 1.5169 - val_loss: 13.7987 - val_mean_squared_error: 13.7987 - val_mean_absolute_error: 2.4944\n"
     ]
    },
    {
     "data": {
      "text/plain": [
       "<tensorflow.python.keras.callbacks.History at 0x7f6731a0abe0>"
      ]
     },
     "execution_count": 13,
     "metadata": {},
     "output_type": "execute_result"
    }
   ],
   "source": [
    "wandb.init(project=\"inclass\", entity=\"ds8\") #Initializes and Experiment\n",
    "\n",
    "# Important Hyperparameters\n",
    "X =  x_train\n",
    "y =  y_train\n",
    "\n",
    "inputs = X.shape[1]\n",
    "wandb.config.epochs = 50\n",
    "wandb.config.batch_size = 10\n",
    "\n",
    "# Create Model\n",
    "model = Sequential()\n",
    "model.add(Dense(120, activation='relu', input_shape=(inputs,)))\n",
    "model.add(Dense(120, activation='relu'))\n",
    "model.add(Dense(64, activation='relu'))\n",
    "model.add(Dense(1))\n",
    "# Compile Model\n",
    "model.compile(optimizer='adam', loss='mse', metrics=['mse', 'mae'])\n",
    "\n",
    "# Fit Model\n",
    "model.fit(X, y, \n",
    "          validation_split=0.33, \n",
    "          epochs=wandb.config.epochs, \n",
    "          batch_size=wandb.config.batch_size, \n",
    "          callbacks=[WandbCallback()]\n",
    "         )"
   ]
  },
  {
   "cell_type": "markdown",
   "metadata": {},
   "source": [
    "## Challenge\n",
    "\n",
    "You will be expected to use Weights & Biases to try to tune your model during your module assignment today. "
   ]
  },
  {
   "cell_type": "markdown",
   "metadata": {},
   "source": [
    "# Hyperparameters with RandomSearchCV (Learn)"
   ]
  },
  {
   "cell_type": "markdown",
   "metadata": {},
   "source": [
    "## Overview\n",
    "\n",
    "Basically `GridSearchCV` takes forever. You'll want to adopt a slightly more sophiscated strategy."
   ]
  },
  {
   "cell_type": "markdown",
   "metadata": {},
   "source": [
    "## Follow Along"
   ]
  },
  {
   "cell_type": "code",
   "execution_count": 7,
   "metadata": {},
   "outputs": [],
   "source": [
    "sweep_config = {\n",
    "    'method': 'random',\n",
    "    'parameters': {\n",
    "        'learning_rate': {'distribution': 'normal'},\n",
    "        'epochs': {'distribution': 'uniform',\n",
    "                    'min': 100,\n",
    "                    'max': 1000},\n",
    "        'batch_size': {'distribution': 'uniform',\n",
    "            'min': 10,\n",
    "            'max': 400}\n",
    "    }\n",
    "}"
   ]
  },
  {
   "cell_type": "code",
   "execution_count": 16,
   "metadata": {},
   "outputs": [
    {
     "name": "stdout",
     "output_type": "stream",
     "text": [
      "Create sweep with ID: xr4pthek\n",
      "Sweep URL: https://app.wandb.ai/ds8/inclass/sweeps/xr4pthek\n"
     ]
    }
   ],
   "source": [
    "sweep_id = wandb.sweep(sweep_config)"
   ]
  },
  {
   "cell_type": "code",
   "execution_count": 19,
   "metadata": {},
   "outputs": [],
   "source": [
    "import wandb\n",
    "from wandb.keras import WandbCallback\n",
    "#Initializes and Experiment\n",
    "\n",
    "from tensorflow.keras.optimizers import Adam\n",
    "\n",
    "# Important Hyperparameters\n",
    "X =  x_train\n",
    "y =  y_train\n",
    "\n",
    "inputs = X.shape[1]\n",
    "\n",
    "def train():\n",
    "    \n",
    "    wandb.init(project=\"boston\", entity=\"lambda-ds7\") \n",
    "    \n",
    "    config = wandb.config\n",
    "\n",
    "    # Create Model\n",
    "    model = Sequential()\n",
    "    model.add(Dense(64, activation='relu', input_shape=(inputs,)))\n",
    "    model.add(Dense(64, activation='relu'))\n",
    "    model.add(Dense(64, activation='relu'))\n",
    "    model.add(Dense(1))\n",
    "\n",
    "    # Optimizer \n",
    "#     adam = Adam(learning_rate=config.learning_rate)\n",
    "\n",
    "    # Compile Model\n",
    "    model.compile(optimizer='adam', loss='mse', metrics=['mse', 'mae'])\n",
    "\n",
    "    # Fit Model\n",
    "    model.fit(X, y, \n",
    "              validation_split=0.33, \n",
    "              epochs=config.epochs, \n",
    "              batch_size=config.batch_size, \n",
    "              callbacks=[WandbCallback()]\n",
    "             )"
   ]
  },
  {
   "cell_type": "code",
   "execution_count": 20,
   "metadata": {},
   "outputs": [
    {
     "name": "stderr",
     "output_type": "stream",
     "text": [
      "Failed to query for notebook name, you can set it manually with the WANDB_NOTEBOOK_NAME environment variable\n"
     ]
    },
    {
     "name": "stdout",
     "output_type": "stream",
     "text": [
      "wandb: Agent Starting Run: 3f9iywpq with config:\n",
      "\tbatch_size: 379.7118687628574\n",
      "\tepochs: 588.0679773192592\n",
      "\tlearning_rate: -0.7329108136244208\n"
     ]
    },
    {
     "name": "stderr",
     "output_type": "stream",
     "text": [
      "Error generating diff: Command '['git', 'diff', '--submodule=diff', 'HEAD']' timed out after 5 seconds\n"
     ]
    },
    {
     "name": "stdout",
     "output_type": "stream",
     "text": [
      "wandb: Agent Started Run: 3f9iywpq\n"
     ]
    },
    {
     "data": {
      "text/html": [
       "\n",
       "                Logging results to <a href=\"https://wandb.com\" target=\"_blank\">Weights & Biases</a> <a href=\"https://docs.wandb.com/integrations/jupyter.html\" target=\"_blank\">(Documentation)</a>.<br/>\n",
       "                Project page: <a href=\"https://app.wandb.ai/lambda-ds7/boston\" target=\"_blank\">https://app.wandb.ai/lambda-ds7/boston</a><br/>\n",
       "                Run page: <a href=\"https://app.wandb.ai/lambda-ds7/boston/runs/v5szape8\" target=\"_blank\">https://app.wandb.ai/lambda-ds7/boston/runs/v5szape8</a><br/>\n",
       "            "
      ],
      "text/plain": [
       "<IPython.core.display.HTML object>"
      ]
     },
     "metadata": {},
     "output_type": "display_data"
    },
    {
     "name": "stderr",
     "output_type": "stream",
     "text": [
      "Failed to query for notebook name, you can set it manually with the WANDB_NOTEBOOK_NAME environment variable\n",
      "Error generating diff: Command '['git', 'diff', '--submodule=diff', 'HEAD']' timed out after 5 seconds\n",
      "Process Process-3:\n",
      "Traceback (most recent call last):\n",
      "  File \"/home/ec2-user/anaconda3/envs/tensorflow_p36/lib/python3.6/multiprocessing/process.py\", line 258, in _bootstrap\n",
      "    self.run()\n",
      "  File \"/home/ec2-user/anaconda3/envs/tensorflow_p36/lib/python3.6/multiprocessing/process.py\", line 93, in run\n",
      "    self._target(*self._args, **self._kwargs)\n",
      "  File \"/home/ec2-user/anaconda3/envs/tensorflow_p36/lib/python3.6/site-packages/wandb/wandb_agent.py\", line 62, in _start\n",
      "    function()\n",
      "  File \"<ipython-input-19-ea908fca38a8>\", line 35, in train\n",
      "    epochs=config.epochs,\n",
      "  File \"/home/ec2-user/anaconda3/envs/tensorflow_p36/lib/python3.6/site-packages/wandb/wandb_config.py\", line 212, in __getattr__\n",
      "    return self.__getitem__(key)\n",
      "  File \"/home/ec2-user/anaconda3/envs/tensorflow_p36/lib/python3.6/site-packages/wandb/wandb_config.py\", line 202, in __getitem__\n",
      "    return self._items[key]\n",
      "KeyError: 'epochs'\n",
      "wandb: Ctrl-c pressed. Waiting for runs to end. Press ctrl-c again to terminate them.\n"
     ]
    }
   ],
   "source": [
    "wandb.agent(sweep_id, function=train)"
   ]
  },
  {
   "cell_type": "markdown",
   "metadata": {},
   "source": [
    "## Challenge\n",
    "\n",
    "Try to apply RandomSearchCV to your module project today. "
   ]
  },
  {
   "cell_type": "markdown",
   "metadata": {},
   "source": [
    "# Review\n",
    "* <a href=\"#p1\">Part 1</a>: Describe the major hyperparemeters to tune\n",
    "    - Activation Functions\n",
    "    - Optimizer\n",
    "    - Number of Layers\n",
    "    - Number of Neurons\n",
    "    - Batch Size\n",
    "    - Dropout Regulaization\n",
    "    - Learning Rate\n",
    "    - Number of Epochs\n",
    "    - and many more\n",
    "* <a href=\"#p2\">Part 2</a>: Implement an experiment tracking framework\n",
    "    - Weights & Biases\n",
    "    - Comet.ml\n",
    "    - By Hand / GridSearch\n",
    "* <a href=\"#p3\">Part 3</a>: Search the hyperparameter space using RandomSearch\n",
    "    - Sklearn still useful (haha)\n",
    "    - Integration with Wieghts & Biases\n",
    "* <a href=\"#p4\">Part 4</a>: Discuss emerging hyperparameter tuning strategies\n",
    "    - Bayesian Optimization\n",
    "    - Hyperopt\n",
    "    - Genetic Evolution"
   ]
  },
  {
   "cell_type": "markdown",
   "metadata": {},
   "source": [
    "# Sources"
   ]
  },
  {
   "cell_type": "markdown",
   "metadata": {},
   "source": [
    "## Additional Reading\n",
    "- https://machinelearningmastery.com/grid-search-hyperparameters-deep-learning-models-python-keras/\n",
    "- https://blog.floydhub.com/guide-to-hyperparameters-search-for-deep-learning-models/\n",
    "- https://machinelearningmastery.com/dropout-regularization-deep-learning-models-keras/\n",
    "- https://machinelearningmastery.com/introduction-to-weight-constraints-to-reduce-generalization-error-in-deep-learning/\n",
    "- https://machinelearningmastery.com/how-to-configure-the-number-of-layers-and-nodes-in-a-neural-network/"
   ]
  }
 ],
 "metadata": {
  "kernelspec": {
   "display_name": "conda_tensorflow_p36",
   "language": "python",
   "name": "conda_tensorflow_p36"
  },
  "language_info": {
   "codemirror_mode": {
    "name": "ipython",
    "version": 3
   },
   "file_extension": ".py",
   "mimetype": "text/x-python",
   "name": "python",
   "nbconvert_exporter": "python",
   "pygments_lexer": "ipython3",
   "version": "3.6.5"
  }
 },
 "nbformat": 4,
 "nbformat_minor": 4
}
