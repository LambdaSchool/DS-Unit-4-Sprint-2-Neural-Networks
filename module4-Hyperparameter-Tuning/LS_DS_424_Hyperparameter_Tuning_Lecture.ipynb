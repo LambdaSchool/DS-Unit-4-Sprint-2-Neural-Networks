{
 "cells": [
  {
   "cell_type": "markdown",
   "metadata": {
    "colab_type": "text",
    "id": "41TS0Sa0rDNx"
   },
   "source": [
    "Lambda School Data Science\n",
    "\n",
    "*Unit 4, Sprint 2, Module 4*\n",
    "\n",
    "---"
   ]
  },
  {
   "cell_type": "markdown",
   "metadata": {
    "colab_type": "text",
    "id": "41TS0Sa0rDNx"
   },
   "source": [
    "# Neural Networks & GPUs (Prepare)\n",
    "*aka Hyperparameter Tuning*\n",
    "\n",
    "*aka Big Servers for Big Problems*"
   ]
  },
  {
   "cell_type": "markdown",
   "metadata": {
    "colab_type": "text",
    "id": "41TS0Sa0rDNx"
   },
   "source": [
    "## Learning Objectives\n",
    "* <a href=\"#p1\">Part 1</a>: Describe the major hyperparemeters to tune\n",
    "* <a href=\"#p2\">Part 2</a>: Implement an experiment tracking framework\n",
    "* <a href=\"#p3\">Part 3</a>: Search the hyperparameter space using RandomSearch (Optional)"
   ]
  },
  {
   "cell_type": "code",
   "execution_count": 1,
   "metadata": {},
   "outputs": [],
   "source": [
    "wandb_group = \"ds8\"\n",
    "wandb_project = \"inclass\""
   ]
  },
  {
   "cell_type": "markdown",
   "metadata": {},
   "source": [
    "# Hyperparameter Options (Learn)\n",
    "<a id=\"p1\"></a>"
   ]
  },
  {
   "cell_type": "markdown",
   "metadata": {},
   "source": [
    "## Overview\n",
    "\n",
    "Hyperparameter tuning is much more important with neural networks than it has been with any other models that we have considered up to this point. Other supervised learning models might have a couple of parameters, but neural networks can have dozens. These can substantially affect the accuracy of our models and although it can be a time consuming process is a necessary step when working with neural networks.\n",
    "​\n",
    "Hyperparameter tuning comes with a challenge. How can we compare models specified with different hyperparameters if our model's final error metric can vary somewhat erratically? How do we avoid just getting unlucky and selecting the wrong hyperparameter? This is a problem that to a certain degree we just have to live with as we test and test again. However, we can minimize it somewhat by pairing our experiments with Cross Validation to reduce the variance of our final accuracy values."
   ]
  },
  {
   "cell_type": "markdown",
   "metadata": {
    "colab_type": "text",
    "id": "0s0o2pqBs88q"
   },
   "source": [
    "### Load Boston Housing Data"
   ]
  },
  {
   "cell_type": "code",
   "execution_count": 2,
   "metadata": {},
   "outputs": [],
   "source": [
    "from tensorflow.keras.datasets import boston_housing\n",
    "\n",
    "(x_train, y_train), (x_test, y_test) = boston_housing.load_data()"
   ]
  },
  {
   "cell_type": "markdown",
   "metadata": {
    "colab_type": "text",
    "id": "Pm7zow5IvaTt"
   },
   "source": [
    "### Normalizing Input Data\n",
    "\n",
    "It's not 100% necessary to normalize/scale your input data before feeding it to a neural network, the network can learn the appropriate weights to deal with data of as long as it is numerically represented,  but it is recommended as it can help **make training faster** and **reduces the chances that gradient descent might get stuck in a local optimum**.\n",
    "\n",
    "<https://stackoverflow.com/questions/4674623/why-do-we-have-to-normalize-the-input-for-an-artificial-neural-network>"
   ]
  },
  {
   "cell_type": "code",
   "execution_count": 3,
   "metadata": {},
   "outputs": [
    {
     "name": "stdout",
     "output_type": "stream",
     "text": [
      "[[-0.27224633 -0.48361547 -0.43576161 -0.25683275 -0.1652266  -0.1764426\n",
      "   0.81306188  0.1166983  -0.62624905 -0.59517003  1.14850044  0.44807713\n",
      "   0.8252202 ]\n",
      " [-0.40342651  2.99178419 -1.33391162 -0.25683275 -1.21518188  1.89434613\n",
      "  -1.91036058  1.24758524 -0.85646254 -0.34843254 -1.71818909  0.43190599\n",
      "  -1.32920239]\n",
      " [ 0.1249402  -0.48361547  1.0283258  -0.25683275  0.62864202 -1.82968811\n",
      "   1.11048828 -1.18743907  1.67588577  1.5652875   0.78447637  0.22061726\n",
      "  -1.30850006]\n",
      " [-0.40149354 -0.48361547 -0.86940196 -0.25683275 -0.3615597  -0.3245576\n",
      "  -1.23667187  1.10717989 -0.51114231 -1.094663    0.78447637  0.44807713\n",
      "  -0.65292624]\n",
      " [-0.0056343  -0.48361547  1.0283258  -0.25683275  1.32861221  0.15364225\n",
      "   0.69480801 -0.57857203  1.67588577  1.5652875   0.78447637  0.3898823\n",
      "   0.26349695]\n",
      " [-0.37502238 -0.48361547 -0.54747912 -0.25683275 -0.54935658 -0.78865126\n",
      "   0.18954148  0.48371503 -0.51114231 -0.71552978  0.51145832  0.38669063\n",
      "  -0.13812828]\n",
      " [ 0.58963463 -0.48361547  1.0283258  -0.25683275  1.21764133 -1.03127774\n",
      "   1.11048828 -1.06518235  1.67588577  1.5652875   0.78447637  0.44807713\n",
      "   1.49873604]\n",
      " [ 0.0381708  -0.48361547  1.24588095 -0.25683275  2.67733525 -1.12719983\n",
      "   1.11048828 -1.14833073 -0.51114231 -0.01744323 -1.71818909  0.44807713\n",
      "   1.88793986]\n",
      " [-0.17228416 -0.48361547  1.24588095 -0.25683275  2.67733525 -0.90150078\n",
      "   1.11048828 -1.09664657 -0.51114231 -0.01744323 -1.71818909 -1.97365769\n",
      "   0.53952803]\n",
      " [-0.22932104 -0.48361547  1.58544339 -0.25683275  0.56888847 -1.76056777\n",
      "   1.11048828 -1.13471925 -0.62624905  0.18716835  1.23950646  0.44807713\n",
      "   2.99068404]]\n"
     ]
    }
   ],
   "source": [
    "from sklearn.preprocessing import StandardScaler\n",
    "\n",
    "scaler = StandardScaler()\n",
    "\n",
    "x_train = scaler.fit_transform(x_train)\n",
    "x_test = scaler.transform(x_test)\n",
    "print(x_train[:10])"
   ]
  },
  {
   "cell_type": "markdown",
   "metadata": {
    "colab_type": "text",
    "id": "l6hgCWbir90R"
   },
   "source": [
    "### Model Validation using an automatic verification Dataset\n",
    "\n",
    "Instead of doing seperate train test split class, Keras has a really nice feature that you can set the validation.data argument when fitting your model and Keras will take that portion of your test data and use it as a validation dataset. "
   ]
  },
  {
   "cell_type": "code",
   "execution_count": 5,
   "metadata": {
    "colab": {
     "base_uri": "https://localhost:8080/",
     "height": 1750
    },
    "colab_type": "code",
    "id": "GMXVfmzXp1Oo",
    "outputId": "b05e251e-508f-46e6-865b-f869ae2a5dc4"
   },
   "outputs": [
    {
     "name": "stdout",
     "output_type": "stream",
     "text": [
      "Train on 404 samples, validate on 102 samples\n",
      "Epoch 1/75\n",
      "404/404 [==============================] - 0s 924us/sample - loss: 502.9949 - mse: 502.9949 - mae: 20.3864 - val_loss: 436.3566 - val_mse: 436.3566 - val_mae: 18.5471\n",
      "Epoch 2/75\n",
      "404/404 [==============================] - 0s 150us/sample - loss: 265.3284 - mse: 265.3284 - mae: 13.6301 - val_loss: 137.8990 - val_mse: 137.8990 - val_mae: 10.0648\n",
      "Epoch 3/75\n",
      "404/404 [==============================] - 0s 130us/sample - loss: 71.1616 - mse: 71.1616 - mae: 6.3788 - val_loss: 49.5853 - val_mse: 49.5853 - val_mae: 5.3437\n",
      "Epoch 4/75\n",
      "404/404 [==============================] - 0s 128us/sample - loss: 34.1766 - mse: 34.1766 - mae: 4.2027 - val_loss: 32.7588 - val_mse: 32.7588 - val_mae: 4.4732\n",
      "Epoch 5/75\n",
      "404/404 [==============================] - 0s 126us/sample - loss: 23.6542 - mse: 23.6542 - mae: 3.5152 - val_loss: 27.2999 - val_mse: 27.2999 - val_mae: 4.0316\n",
      "Epoch 6/75\n",
      "404/404 [==============================] - 0s 126us/sample - loss: 19.8837 - mse: 19.8837 - mae: 3.1663 - val_loss: 25.7977 - val_mse: 25.7977 - val_mae: 3.7745\n",
      "Epoch 7/75\n",
      "404/404 [==============================] - 0s 129us/sample - loss: 17.2690 - mse: 17.2690 - mae: 2.9455 - val_loss: 24.5676 - val_mse: 24.5676 - val_mae: 3.6519\n",
      "Epoch 8/75\n",
      "404/404 [==============================] - 0s 118us/sample - loss: 15.6353 - mse: 15.6353 - mae: 2.7605 - val_loss: 23.8880 - val_mse: 23.8880 - val_mae: 3.4895\n",
      "Epoch 9/75\n",
      "404/404 [==============================] - 0s 122us/sample - loss: 14.1871 - mse: 14.1871 - mae: 2.6430 - val_loss: 24.6300 - val_mse: 24.6300 - val_mae: 3.4900\n",
      "Epoch 10/75\n",
      "404/404 [==============================] - 0s 117us/sample - loss: 13.2386 - mse: 13.2386 - mae: 2.5464 - val_loss: 25.0159 - val_mse: 25.0159 - val_mae: 3.4358\n",
      "Epoch 11/75\n",
      "404/404 [==============================] - 0s 119us/sample - loss: 12.5172 - mse: 12.5172 - mae: 2.5060 - val_loss: 23.6414 - val_mse: 23.6414 - val_mae: 3.2988\n",
      "Epoch 12/75\n",
      "404/404 [==============================] - 0s 120us/sample - loss: 11.8335 - mse: 11.8335 - mae: 2.4237 - val_loss: 24.3491 - val_mse: 24.3491 - val_mae: 3.3002\n",
      "Epoch 13/75\n",
      "404/404 [==============================] - 0s 118us/sample - loss: 11.5165 - mse: 11.5165 - mae: 2.3926 - val_loss: 24.7244 - val_mse: 24.7244 - val_mae: 3.2928\n",
      "Epoch 14/75\n",
      "404/404 [==============================] - 0s 119us/sample - loss: 10.8762 - mse: 10.8762 - mae: 2.3411 - val_loss: 24.3239 - val_mse: 24.3239 - val_mae: 3.2170\n",
      "Epoch 15/75\n",
      "404/404 [==============================] - 0s 119us/sample - loss: 10.5549 - mse: 10.5549 - mae: 2.3105 - val_loss: 23.9166 - val_mse: 23.9166 - val_mae: 3.1688\n",
      "Epoch 16/75\n",
      "404/404 [==============================] - 0s 119us/sample - loss: 10.1616 - mse: 10.1616 - mae: 2.2672 - val_loss: 22.9025 - val_mse: 22.9025 - val_mae: 3.0948\n",
      "Epoch 17/75\n",
      "404/404 [==============================] - 0s 119us/sample - loss: 10.1263 - mse: 10.1263 - mae: 2.2719 - val_loss: 24.4906 - val_mse: 24.4906 - val_mae: 3.1978\n",
      "Epoch 18/75\n",
      "404/404 [==============================] - 0s 131us/sample - loss: 9.8036 - mse: 9.8036 - mae: 2.2078 - val_loss: 25.5962 - val_mse: 25.5962 - val_mae: 3.2560\n",
      "Epoch 19/75\n",
      "404/404 [==============================] - 0s 121us/sample - loss: 9.9205 - mse: 9.9205 - mae: 2.2437 - val_loss: 22.9766 - val_mse: 22.9766 - val_mae: 3.0128\n",
      "Epoch 20/75\n",
      "404/404 [==============================] - 0s 122us/sample - loss: 9.3538 - mse: 9.3538 - mae: 2.1950 - val_loss: 24.1766 - val_mse: 24.1766 - val_mae: 3.1147\n",
      "Epoch 21/75\n",
      "404/404 [==============================] - 0s 117us/sample - loss: 9.2241 - mse: 9.2241 - mae: 2.1536 - val_loss: 24.2495 - val_mse: 24.2495 - val_mae: 3.1201\n",
      "Epoch 22/75\n",
      "404/404 [==============================] - 0s 118us/sample - loss: 9.0061 - mse: 9.0061 - mae: 2.1401 - val_loss: 21.9884 - val_mse: 21.9884 - val_mae: 2.9087\n",
      "Epoch 23/75\n",
      "404/404 [==============================] - 0s 133us/sample - loss: 8.8544 - mse: 8.8544 - mae: 2.1145 - val_loss: 23.9491 - val_mse: 23.9491 - val_mae: 3.0384\n",
      "Epoch 24/75\n",
      "404/404 [==============================] - 0s 129us/sample - loss: 8.7257 - mse: 8.7257 - mae: 2.0833 - val_loss: 22.5212 - val_mse: 22.5212 - val_mae: 2.9191\n",
      "Epoch 25/75\n",
      "404/404 [==============================] - 0s 119us/sample - loss: 8.4130 - mse: 8.4130 - mae: 2.0791 - val_loss: 21.6032 - val_mse: 21.6032 - val_mae: 2.9568\n",
      "Epoch 26/75\n",
      "404/404 [==============================] - 0s 121us/sample - loss: 8.4310 - mse: 8.4310 - mae: 2.0479 - val_loss: 23.1665 - val_mse: 23.1665 - val_mae: 2.9631\n",
      "Epoch 27/75\n",
      "404/404 [==============================] - 0s 129us/sample - loss: 8.1622 - mse: 8.1622 - mae: 2.0197 - val_loss: 23.6097 - val_mse: 23.6097 - val_mae: 2.9728\n",
      "Epoch 28/75\n",
      "404/404 [==============================] - 0s 133us/sample - loss: 8.3688 - mse: 8.3688 - mae: 2.0193 - val_loss: 21.4848 - val_mse: 21.4848 - val_mae: 2.8208\n",
      "Epoch 29/75\n",
      "404/404 [==============================] - 0s 127us/sample - loss: 8.1488 - mse: 8.1488 - mae: 2.0249 - val_loss: 21.5628 - val_mse: 21.5628 - val_mae: 2.8178\n",
      "Epoch 30/75\n",
      "404/404 [==============================] - 0s 130us/sample - loss: 7.9275 - mse: 7.9275 - mae: 1.9962 - val_loss: 20.9657 - val_mse: 20.9657 - val_mae: 2.7726\n",
      "Epoch 31/75\n",
      "404/404 [==============================] - 0s 117us/sample - loss: 7.6680 - mse: 7.6680 - mae: 1.9633 - val_loss: 22.1133 - val_mse: 22.1133 - val_mae: 3.0236\n",
      "Epoch 32/75\n",
      "404/404 [==============================] - 0s 139us/sample - loss: 7.7995 - mse: 7.7995 - mae: 2.0350 - val_loss: 20.0628 - val_mse: 20.0628 - val_mae: 2.8595\n",
      "Epoch 33/75\n",
      "404/404 [==============================] - 0s 119us/sample - loss: 7.6118 - mse: 7.6118 - mae: 1.9594 - val_loss: 20.8022 - val_mse: 20.8022 - val_mae: 2.8319\n",
      "Epoch 34/75\n",
      "404/404 [==============================] - 0s 120us/sample - loss: 7.3877 - mse: 7.3877 - mae: 1.9059 - val_loss: 19.8099 - val_mse: 19.8099 - val_mae: 2.6798\n",
      "Epoch 35/75\n",
      "404/404 [==============================] - 0s 118us/sample - loss: 7.3202 - mse: 7.3202 - mae: 1.9176 - val_loss: 19.3593 - val_mse: 19.3593 - val_mae: 2.6915\n",
      "Epoch 36/75\n",
      "404/404 [==============================] - 0s 118us/sample - loss: 7.2860 - mse: 7.2860 - mae: 1.9090 - val_loss: 19.2093 - val_mse: 19.2093 - val_mae: 2.6731\n",
      "Epoch 37/75\n",
      "404/404 [==============================] - 0s 125us/sample - loss: 7.0760 - mse: 7.0760 - mae: 1.8706 - val_loss: 19.1334 - val_mse: 19.1334 - val_mae: 2.6735\n",
      "Epoch 38/75\n",
      "404/404 [==============================] - 0s 120us/sample - loss: 7.0094 - mse: 7.0094 - mae: 1.8676 - val_loss: 19.3972 - val_mse: 19.3972 - val_mae: 2.7281\n",
      "Epoch 39/75\n",
      "404/404 [==============================] - 0s 118us/sample - loss: 7.0635 - mse: 7.0635 - mae: 1.8721 - val_loss: 18.6854 - val_mse: 18.6854 - val_mae: 2.6049\n",
      "Epoch 40/75\n",
      "404/404 [==============================] - 0s 132us/sample - loss: 7.0058 - mse: 7.0058 - mae: 1.8889 - val_loss: 20.7830 - val_mse: 20.7830 - val_mae: 2.7956\n",
      "Epoch 41/75\n",
      "404/404 [==============================] - 0s 124us/sample - loss: 7.0008 - mse: 7.0008 - mae: 1.8756 - val_loss: 21.5728 - val_mse: 21.5728 - val_mae: 2.8457\n",
      "Epoch 42/75\n",
      "404/404 [==============================] - 0s 163us/sample - loss: 6.7984 - mse: 6.7984 - mae: 1.8627 - val_loss: 18.2781 - val_mse: 18.2781 - val_mae: 2.5639\n",
      "Epoch 43/75\n",
      "404/404 [==============================] - 0s 129us/sample - loss: 6.7639 - mse: 6.7639 - mae: 1.8601 - val_loss: 19.2342 - val_mse: 19.2342 - val_mae: 2.6654\n",
      "Epoch 44/75\n",
      "404/404 [==============================] - 0s 137us/sample - loss: 6.7570 - mse: 6.7570 - mae: 1.8276 - val_loss: 20.1097 - val_mse: 20.1097 - val_mae: 2.7741\n",
      "Epoch 45/75\n",
      "404/404 [==============================] - 0s 133us/sample - loss: 6.6520 - mse: 6.6520 - mae: 1.8282 - val_loss: 17.8975 - val_mse: 17.8975 - val_mae: 2.5569\n",
      "Epoch 46/75\n",
      "404/404 [==============================] - 0s 120us/sample - loss: 6.4787 - mse: 6.4787 - mae: 1.8047 - val_loss: 18.0377 - val_mse: 18.0377 - val_mae: 2.5653\n",
      "Epoch 47/75\n",
      "404/404 [==============================] - 0s 147us/sample - loss: 6.2893 - mse: 6.2893 - mae: 1.7649 - val_loss: 18.9780 - val_mse: 18.9780 - val_mae: 2.6186\n",
      "Epoch 48/75\n",
      "404/404 [==============================] - 0s 128us/sample - loss: 6.6215 - mse: 6.6215 - mae: 1.8339 - val_loss: 17.7986 - val_mse: 17.7986 - val_mae: 2.5931\n",
      "Epoch 49/75\n",
      "404/404 [==============================] - 0s 133us/sample - loss: 6.0747 - mse: 6.0747 - mae: 1.7367 - val_loss: 21.1808 - val_mse: 21.1808 - val_mae: 2.8826\n",
      "Epoch 50/75\n",
      "404/404 [==============================] - 0s 133us/sample - loss: 6.2231 - mse: 6.2231 - mae: 1.7798 - val_loss: 17.7002 - val_mse: 17.7002 - val_mae: 2.5708\n",
      "Epoch 51/75\n",
      "404/404 [==============================] - 0s 143us/sample - loss: 6.0606 - mse: 6.0606 - mae: 1.7529 - val_loss: 18.2171 - val_mse: 18.2171 - val_mae: 2.5906\n",
      "Epoch 52/75\n",
      "404/404 [==============================] - 0s 128us/sample - loss: 6.0375 - mse: 6.0375 - mae: 1.7218 - val_loss: 20.1063 - val_mse: 20.1063 - val_mae: 2.8458\n",
      "Epoch 53/75\n",
      "404/404 [==============================] - 0s 123us/sample - loss: 6.3134 - mse: 6.3134 - mae: 1.7763 - val_loss: 19.0878 - val_mse: 19.0878 - val_mae: 2.6465\n",
      "Epoch 54/75\n",
      "404/404 [==============================] - 0s 127us/sample - loss: 5.8834 - mse: 5.8834 - mae: 1.7404 - val_loss: 17.8077 - val_mse: 17.8077 - val_mae: 2.6982\n",
      "Epoch 55/75\n",
      "404/404 [==============================] - 0s 128us/sample - loss: 5.8634 - mse: 5.8634 - mae: 1.7104 - val_loss: 17.8162 - val_mse: 17.8162 - val_mae: 2.5677\n",
      "Epoch 56/75\n",
      "404/404 [==============================] - 0s 139us/sample - loss: 5.8954 - mse: 5.8954 - mae: 1.6985 - val_loss: 19.1964 - val_mse: 19.1964 - val_mae: 2.6213\n",
      "Epoch 57/75\n",
      "404/404 [==============================] - 0s 147us/sample - loss: 6.0041 - mse: 6.0041 - mae: 1.7500 - val_loss: 18.6187 - val_mse: 18.6187 - val_mae: 2.6590\n",
      "Epoch 58/75\n",
      "404/404 [==============================] - 0s 135us/sample - loss: 5.6811 - mse: 5.6811 - mae: 1.7081 - val_loss: 16.9533 - val_mse: 16.9533 - val_mae: 2.5109\n",
      "Epoch 59/75\n",
      "404/404 [==============================] - 0s 147us/sample - loss: 5.5701 - mse: 5.5701 - mae: 1.6782 - val_loss: 17.2376 - val_mse: 17.2376 - val_mae: 2.5072\n",
      "Epoch 60/75\n",
      "404/404 [==============================] - 0s 137us/sample - loss: 5.4767 - mse: 5.4767 - mae: 1.6604 - val_loss: 17.1063 - val_mse: 17.1063 - val_mae: 2.5395\n",
      "Epoch 61/75\n",
      "404/404 [==============================] - 0s 129us/sample - loss: 5.4136 - mse: 5.4136 - mae: 1.6455 - val_loss: 18.1566 - val_mse: 18.1566 - val_mae: 2.7072\n",
      "Epoch 62/75\n",
      "404/404 [==============================] - 0s 124us/sample - loss: 5.4172 - mse: 5.4172 - mae: 1.6342 - val_loss: 18.2914 - val_mse: 18.2914 - val_mae: 2.6654\n",
      "Epoch 63/75\n",
      "404/404 [==============================] - 0s 127us/sample - loss: 5.5560 - mse: 5.5560 - mae: 1.6530 - val_loss: 17.1678 - val_mse: 17.1678 - val_mae: 2.4792\n",
      "Epoch 64/75\n",
      "404/404 [==============================] - 0s 132us/sample - loss: 5.4082 - mse: 5.4082 - mae: 1.6681 - val_loss: 16.6444 - val_mse: 16.6444 - val_mae: 2.5000\n",
      "Epoch 65/75\n",
      "404/404 [==============================] - 0s 131us/sample - loss: 5.3414 - mse: 5.3414 - mae: 1.6436 - val_loss: 16.5172 - val_mse: 16.5172 - val_mae: 2.4925\n",
      "Epoch 66/75\n",
      "404/404 [==============================] - 0s 134us/sample - loss: 5.4947 - mse: 5.4947 - mae: 1.6680 - val_loss: 16.8444 - val_mse: 16.8444 - val_mae: 2.5010\n",
      "Epoch 67/75\n",
      "404/404 [==============================] - 0s 129us/sample - loss: 5.3039 - mse: 5.3039 - mae: 1.6011 - val_loss: 16.6739 - val_mse: 16.6739 - val_mae: 2.5781\n",
      "Epoch 68/75\n",
      "404/404 [==============================] - 0s 142us/sample - loss: 5.1136 - mse: 5.1136 - mae: 1.6017 - val_loss: 15.8603 - val_mse: 15.8603 - val_mae: 2.4228\n",
      "Epoch 69/75\n",
      "404/404 [==============================] - 0s 136us/sample - loss: 5.0929 - mse: 5.0929 - mae: 1.5863 - val_loss: 18.1075 - val_mse: 18.1075 - val_mae: 2.6373\n",
      "Epoch 70/75\n",
      "404/404 [==============================] - 0s 141us/sample - loss: 5.1346 - mse: 5.1346 - mae: 1.6272 - val_loss: 16.1399 - val_mse: 16.1399 - val_mae: 2.4756\n",
      "Epoch 71/75\n",
      "404/404 [==============================] - 0s 145us/sample - loss: 5.0050 - mse: 5.0050 - mae: 1.5715 - val_loss: 16.3544 - val_mse: 16.3544 - val_mae: 2.5146\n",
      "Epoch 72/75\n",
      "404/404 [==============================] - 0s 130us/sample - loss: 4.9811 - mse: 4.9811 - mae: 1.6094 - val_loss: 17.1673 - val_mse: 17.1672 - val_mae: 2.7293\n",
      "Epoch 73/75\n",
      "404/404 [==============================] - 0s 132us/sample - loss: 4.9808 - mse: 4.9808 - mae: 1.5890 - val_loss: 15.7577 - val_mse: 15.7577 - val_mae: 2.4389\n",
      "Epoch 74/75\n",
      "404/404 [==============================] - 0s 134us/sample - loss: 4.8281 - mse: 4.8281 - mae: 1.5433 - val_loss: 18.4324 - val_mse: 18.4324 - val_mae: 2.8339\n",
      "Epoch 75/75\n",
      "404/404 [==============================] - 0s 139us/sample - loss: 4.9670 - mse: 4.9670 - mae: 1.5910 - val_loss: 16.7729 - val_mse: 16.7729 - val_mae: 2.4754\n"
     ]
    },
    {
     "data": {
      "text/plain": [
       "<tensorflow.python.keras.callbacks.History at 0x13acbd050>"
      ]
     },
     "execution_count": 5,
     "metadata": {},
     "output_type": "execute_result"
    }
   ],
   "source": [
    "from tensorflow import keras\n",
    "from tensorflow.keras.models import Sequential\n",
    "from tensorflow.keras.layers import Dense\n",
    "\n",
    "# Important Hyperparameters\n",
    "inputs = x_train.shape[1]\n",
    "epochs = 75\n",
    "batch_size = 10\n",
    "\n",
    "\n",
    "# Create Model\n",
    "model = Sequential()\n",
    "model.add(Dense(64, activation='relu', input_shape=(inputs,)))\n",
    "model.add(Dense(64, activation='relu'))\n",
    "model.add(Dense(1))\n",
    "\n",
    "# Compile Model\n",
    "model.compile(optimizer='adam', loss='mse', metrics=['mse', 'mae'])\n",
    "\n",
    "# Fit Model\n",
    "model.fit(x_train, y_train, \n",
    "          validation_data=(x_test,y_test), \n",
    "          epochs=epochs, \n",
    "          batch_size=batch_size\n",
    "         )"
   ]
  },
  {
   "cell_type": "markdown",
   "metadata": {
    "colab_type": "text",
    "id": "sYJ8t_ezHP4W"
   },
   "source": [
    "### Hyperparameter Tuning Approaches:\n",
    "\n",
    "#### 1) Babysitting AKA \"Grad Student Descent\".\n",
    "\n",
    "If you fiddled with any hyperparameters yesterday, this is basically what you did. This approach is 100% manual and is pretty common among researchers where finding that 1 exact specification that jumps your model to a level of accuracy never seen before is the difference between publishing and not publishing a paper. Of course the professors don't do this themselves, that's grunt work. This is also known as the fiddle with hyperparameters until you run out of time method.\n",
    "\n",
    "#### 2) Grid Search\n",
    "\n",
    "Grid Search is the Grad Student galaxy brain realization of: why don't I just specify all the experiments I want to run and let the computer try every possible combination of them while I go and grab lunch. This has a specific downside in that if I specify 5 hyperparameters with 5 options each then I've just created 5^5 combinations of hyperparameters to check. Which means that I have to train 3125 different versions of my model Then if I use 5-fold Cross Validation on that then my model has to run 15,525 times. This is the brute-force method of hyperparameter tuning, but it can be very profitable if done wisely. \n",
    "\n",
    "When using Grid Search here's what I suggest: don't use it to test combinations of different hyperparameters, only use it to test different specifications of **a single** hyperparameter. It's rare that combinations between different hyperparameters lead to big performance gains. You'll get 90-95% of the way there if you just Grid Search one parameter and take the best result, then retain that best result while you test another, and then retain the best specification from that while you train another. This at least makes the situation much more manageable and leads to pretty good results. \n",
    "\n",
    "#### 3) Random Search\n",
    "\n",
    "Do Grid Search for a couple of hours and you'll say to yourself - \"There's got to be a better way.\" Enter Random Search. For Random search you specify a hyperparameter space and it picks specifications from that randomly, tries them out, gives you the best results and says - That's going to have to be good enough, go home and spend time with your family. \n",
    "\n",
    "Grid Search treats every parameter as if it was equally important, but this just isn't the case, some are known to move the needle a lot more than others (we'll talk about that in a minute). Random Search allows searching to be specified along the most important parameter and experiments less along the dimensions of less important hyperparameters. The downside of Random search is that it won't find the absolute best hyperparameters, but it is much less costly to perform than Grid Search. \n",
    "\n",
    "#### 4) Bayesian Methods\n",
    "\n",
    "One thing that can make more manual methods like babysitting and gridsearch effective is that as the experimenter sees results he can then make updates to his future searches taking into account the results of past specifications. If only we could hyperparameter tune our hyperparameter tuning. Well, we kind of can. Enter Bayesian Optimization. Neural Networks are like an optimization problem within an optimization problem, and Bayesian Optimization is a search strategy that tries to take into account the results of past searches in order to improve future ones. This is the most advanced method but can be a little bit tricky to implement, but there are some early steps with `hyperas` which is Bayesian optimization wrapper for `keras`. "
   ]
  },
  {
   "cell_type": "markdown",
   "metadata": {
    "colab_type": "text",
    "id": "HfQ7D043OMMn"
   },
   "source": [
    "## What Hyperparameters are there to test?\n",
    "\n",
    "- batch_size\n",
    "- training epochs\n",
    "- optimization algorithms\n",
    "- learning rate\n",
    "- momentum\n",
    "- activation functions\n",
    "- dropout regularization\n",
    "- number of neurons in the hidden layer\n",
    "\n",
    "There are more, but these are the most important."
   ]
  },
  {
   "cell_type": "markdown",
   "metadata": {},
   "source": [
    "## Follow Along"
   ]
  },
  {
   "cell_type": "markdown",
   "metadata": {
    "colab_type": "text",
    "id": "Mri5-kXzVKAa"
   },
   "source": [
    "## Batch Size\n",
    "\n",
    "Batch size determines how many observations the model is shown before it calculates loss/error and updates the model weights via gradient descent. You're looking for a sweet spot here where you're showing it enough observations that you have enough information to updates the weights, but not such a large batch size that you don't get a lot of weight update iterations performed in a given epoch. Feed-forward Neural Networks aren't as sensitive to bach_size as other networks, but it is still an important hyperparameter to tune. Smaller batch sizes will also take longer to train. "
   ]
  },
  {
   "cell_type": "code",
   "execution_count": 6,
   "metadata": {
    "colab": {
     "base_uri": "https://localhost:8080/",
     "height": 13561
    },
    "colab_type": "code",
    "id": "2smXfriNAGn7",
    "outputId": "ae996575-78e2-43fb-9dbe-5d44aaf0b430"
   },
   "outputs": [
    {
     "name": "stdout",
     "output_type": "stream",
     "text": [
      "Best: 0.6782616257667542 using {'batch_size': 20, 'epochs': 20}\n",
      "Means: 0.6236227869987487, Stdev: 0.030433848527170855 with: {'batch_size': 10, 'epochs': 20}\n",
      "Means: 0.6782616257667542, Stdev: 0.04996331935610831 with: {'batch_size': 20, 'epochs': 20}\n",
      "Means: 0.6485357880592346, Stdev: 0.06263756535784792 with: {'batch_size': 40, 'epochs': 20}\n",
      "Means: 0.6184874057769776, Stdev: 0.04736397169604113 with: {'batch_size': 60, 'epochs': 20}\n",
      "Means: 0.5623376667499542, Stdev: 0.0587839070023424 with: {'batch_size': 80, 'epochs': 20}\n",
      "Means: 0.5730073809623718, Stdev: 0.054072254573254 with: {'batch_size': 100, 'epochs': 20}\n"
     ]
    }
   ],
   "source": [
    "import numpy\n",
    "import pandas as pd\n",
    "from sklearn.model_selection import GridSearchCV\n",
    "from tensorflow.keras.models import Sequential\n",
    "from tensorflow.keras.layers import Dense\n",
    "from tensorflow.keras.wrappers.scikit_learn import KerasClassifier\n",
    "\n",
    "# fix random seed for reproducibility\n",
    "seed = 7\n",
    "numpy.random.seed(seed)\n",
    "\n",
    "# load dataset\n",
    "url =\"https://raw.githubusercontent.com/jbrownlee/Datasets/master/pima-indians-diabetes.data.csv\"\n",
    "\n",
    "dataset = pd.read_csv(url, header=None).values\n",
    "\n",
    "# split into input (X) and output (Y) variables\n",
    "X = dataset[:,0:8]\n",
    "Y = dataset[:,8]\n",
    "\n",
    "# Function to create model, required for KerasClassifier\n",
    "def create_model():\n",
    "    # create model\n",
    "    model = Sequential()\n",
    "    model.add(Dense(12, input_dim=8, activation='relu'))\n",
    "    model.add(Dense(1, activation='sigmoid'))\n",
    "    # Compile model\n",
    "    model.compile(loss='binary_crossentropy', optimizer='adam', metrics=['accuracy'])\n",
    "    return model\n",
    "\n",
    "# create model\n",
    "model = KerasClassifier(build_fn=create_model, verbose=0)\n",
    "\n",
    "# define the grid search parameters\n",
    "# batch_size = [10, 20, 40, 60, 80, 100]\n",
    "# param_grid = dict(batch_size=batch_size, epochs=epochs)\n",
    "\n",
    "# define the grid search parameters\n",
    "param_grid = {'batch_size': [10, 20, 40, 60, 80, 100],\n",
    "              'epochs': [20]}\n",
    "\n",
    "# Create Grid Search\n",
    "grid = GridSearchCV(estimator=model, param_grid=param_grid, n_jobs=1)\n",
    "grid_result = grid.fit(X, Y)\n",
    "\n",
    "# Report Results\n",
    "print(f\"Best: {grid_result.best_score_} using {grid_result.best_params_}\")\n",
    "means = grid_result.cv_results_['mean_test_score']\n",
    "stds = grid_result.cv_results_['std_test_score']\n",
    "params = grid_result.cv_results_['params']\n",
    "for mean, stdev, param in zip(means, stds, params):\n",
    "    print(f\"Means: {mean}, Stdev: {stdev} with: {param}\") "
   ]
  },
  {
   "cell_type": "markdown",
   "metadata": {
    "colab_type": "text",
    "id": "pmABfjlvXbqi"
   },
   "source": [
    "## Epochs\n",
    "\n",
    "The number of training epochs has a large and direct affect on the accuracy, However, more epochs is almost always goign to better than less epochs. This means that if you tune this parameter at the beginning and try and maintain the same value all throughout your training, you're going to be waiting a long time for each iteration of GridSearch. I suggest picking a fixed moderat # of epochs all throughout your training and then Grid Searching this parameter at the very end. "
   ]
  },
  {
   "cell_type": "code",
   "execution_count": 5,
   "metadata": {
    "colab": {
     "base_uri": "https://localhost:8080/",
     "height": 26329
    },
    "colab_type": "code",
    "id": "bAmxP3N7TmFh",
    "outputId": "3ddb08c4-51ac-4eaa-ff39-143397024544"
   },
   "outputs": [
    {
     "name": "stdout",
     "output_type": "stream",
     "text": [
      "Best: 0.7044270833333334 using {'batch_size': 20, 'epochs': 200}\n",
      "Means: 0.6666666666666666, Stdev: 0.028940248399600087 with: {'batch_size': 20, 'epochs': 20}\n",
      "Means: 0.6588541666666666, Stdev: 0.028940248399600087 with: {'batch_size': 20, 'epochs': 40}\n",
      "Means: 0.6848958333333334, Stdev: 0.03498705427745938 with: {'batch_size': 20, 'epochs': 60}\n",
      "Means: 0.7044270833333334, Stdev: 0.018414239093399672 with: {'batch_size': 20, 'epochs': 200}\n"
     ]
    }
   ],
   "source": [
    "# define the grid search parameters\n",
    "param_grid = {'batch_size': [20],\n",
    "              'epochs': [20, 40, 60,200]}\n",
    "\n",
    "# Create Grid Search\n",
    "grid = GridSearchCV(estimator=model, param_grid=param_grid, n_jobs=1)\n",
    "grid_result = grid.fit(X, Y)\n",
    "\n",
    "# Report Results\n",
    "print(f\"Best: {grid_result.best_score_} using {grid_result.best_params_}\")\n",
    "means = grid_result.cv_results_['mean_test_score']\n",
    "stds = grid_result.cv_results_['std_test_score']\n",
    "params = grid_result.cv_results_['params']\n",
    "for mean, stdev, param in zip(means, stds, params):\n",
    "    print(f\"Means: {mean}, Stdev: {stdev} with: {param}\")"
   ]
  },
  {
   "cell_type": "markdown",
   "metadata": {
    "colab_type": "text",
    "id": "EKcuY6OiaLfz"
   },
   "source": [
    "## Optimizer\n",
    "\n",
    "Remember that there's a different optimizers [optimizers](https://keras.io/optimizers/). At some point, take some time to read up on them a little bit. \"adam\" usually gives the best results. The thing to know about choosing an optimizer is that different optimizers have different hyperparameters like learning rate, momentum, etc. So based on the optimizer you choose you might also have to tune the learning rate and momentum of those optimizers after that. "
   ]
  },
  {
   "cell_type": "markdown",
   "metadata": {
    "colab_type": "text",
    "id": "DG3wq5iOaLig"
   },
   "source": [
    "## Learning Rate\n",
    "\n",
    "Remember that the Learning Rate is a hyperparameter that is specific to your gradient-descent based optimizer selection. A learning rate that is too high will cause divergent behavior, but a Learning Rate that is too low will fail to converge, again, you're looking for the sweet spot. I would start out tuning learning rates by orders of magnitude: [.001, .01, .1, .2, .3, .5] etc. I wouldn't go above .5, but you can try it and see what the behavior is like. \n",
    "\n",
    "Once you have narrowed it down, make the window even smaller and try it again. If after running the above specification your model reports that .1 is the best optimizer, then you should probably try things like [.05, .08, .1, .12, .15] to try and narrow it down. \n",
    "\n",
    "It can also be good to tune the number of epochs in combination with the learning rate since the number of iterations that you allow the learning rate to reach the minimum can determine if you have let it run long enough to converge to the minimum. "
   ]
  },
  {
   "cell_type": "markdown",
   "metadata": {
    "colab_type": "text",
    "id": "gNTBUWd1aLlA"
   },
   "source": [
    "## Momentum\n",
    "\n",
    "Momentum is a hyperparameter that is more commonly associated with Stochastic Gradient Descent. SGD is a common optimizer because it's what people understand and know, but I doubt it will get you the best results, you can try hyperparameter tuning its attributes and see if you can beat the performance from adam. Momentum is a property that decides the willingness of an optimizer to overshoot the minimum. Imagine a ball rolling down one side of a bowl and then up the opposite side a little bit before settling back to the bottom. The purpose of momentum is to try and escale local minima."
   ]
  },
  {
   "cell_type": "markdown",
   "metadata": {
    "colab_type": "text",
    "id": "xnEG-bCJaLnZ"
   },
   "source": [
    "## Activation Functions\n",
    "\n",
    "We've talked about this a little bit, typically you'l want to use ReLU for hidden layers and either Sigmoid, or Softmax for output layers of binary and multi-class classification implementations respectively, but try other activation functions and see if you can get any better results with sigmoid or tanh or something. There are a lot of activation functions that we haven't really talked about. Maybe you'll get good results with them. Maybe you won't. :) <https://keras.io/activations/>"
   ]
  },
  {
   "cell_type": "markdown",
   "metadata": {
    "colab_type": "text",
    "id": "oul9sPq-dU-h"
   },
   "source": [
    "## Network Weight Initialization\n",
    "\n",
    "You saw how big of an effect the way that we initialize our network's weights can have on our results. There are **a lot** of what are called initialization modes. I don't understand all of them, but they can have a big affect on your model's initial accuracy. Your model will get further with less epochs if you initialize it with weights that are well suited to the problem you're trying to solve.\n",
    "\n",
    "`init_mode = ['uniform', 'lecun_uniform', 'normal', 'zero', 'glorot_normal', 'glorot_uniform', 'he_normal', 'he_uniform']`"
   ]
  },
  {
   "cell_type": "markdown",
   "metadata": {
    "colab_type": "text",
    "id": "bqtEuxeQaLqE"
   },
   "source": [
    "## Dropout Regularization and the Weight Constraint\n",
    "\n",
    "the Dropout Regularization value is a percentage of neurons that you want to be randomly deactivated during training. The weight constraint is a second regularization parameter that works in tandem with dropout regularization. You should tune these two values at the same time. \n",
    "\n",
    "Using dropout on visible vs hidden layers might have a different effect. Using dropout on hidden layers might not have any effect while using dropout on hidden layers might have a substantial effect. You don't necessarily need to turn use dropout unless you see that your model has overfitting and generalizability problems."
   ]
  },
  {
   "cell_type": "markdown",
   "metadata": {
    "colab_type": "text",
    "id": "P2c5Cv6oaLtO"
   },
   "source": [
    "## Neurons in Hidden Layer \n",
    "\n",
    "Remember that when we only had a single perceptron our model was only able to fit to linearly separable data, but as we have added layers and nodes to those layers our network has become a powerhouse of fitting nonlinearity in data. The larger the network and the more nodes generally the stronger the network's capacity to fit nonlinear patterns in data. The more nodes and layers the longer it will take to train a network, and higher the probability of overfitting. The larger your network gets the more you'll need dropout regularization or other regularization techniques to keep it in check. \n",
    "\n",
    "Typically depth (more layers) is more important than width (more nodes) for neural networks. This is part of why Deep Learning is so highly touted. Certain deep learning architectures have truly been huge breakthroughs for certain machine learning tasks. \n",
    "\n",
    "You might borrow ideas from other network architectures. For example if I was doing image recognition and I wasn't taking cues from state of the art architectures like resnet, alexnet, googlenet, etc. Then I'm probably going to have to do a lot more experimentation on my own before I find something that works.\n",
    "\n",
    "There are some heuristics, but I am highly skeptical of them. I think you're better off experimenting on your own and forming your own intuition for these kinds of problems. \n",
    "\n",
    "- https://machinelearningmastery.com/how-to-configure-the-number-of-layers-and-nodes-in-a-neural-network/"
   ]
  },
  {
   "cell_type": "markdown",
   "metadata": {},
   "source": [
    "## Challenge\n",
    "You will be expected to tune several hyperparameters in today's module project. "
   ]
  },
  {
   "cell_type": "markdown",
   "metadata": {},
   "source": [
    "# Experiment Tracking Framework (Learn)\n",
    "<a id=\"p2\"></a>"
   ]
  },
  {
   "cell_type": "markdown",
   "metadata": {},
   "source": [
    "## Overview\n",
    "\n",
    "You will notice quickly that managing the results of all the experiments you are running becomes challenging. Which set of parameters did the best? Are my results today different than my results yesterday? Although we use Ipython Notebooks to work, the format is not well suited to logging experimental results. Enter experiment tracking frameworks like [Comet.ml](https://comet.ml) and [Weights and Biases](https://wandb.ai/).\n",
    "\n",
    "Those tools will help you track your experiments, store the results, and the code associated with those experiments. Experimental results can also be readily visualized to see changes in performance across any metric you care about. Data is sent to the tool as each epoch is completed, so you can also see if your model is converging. Let's check out Weights & Biases today. "
   ]
  },
  {
   "cell_type": "markdown",
   "metadata": {},
   "source": [
    "## Follow Along\n",
    "\n",
    "Make sure you login into `wandb` in the terminal before running the next cell. "
   ]
  },
  {
   "cell_type": "code",
   "execution_count": 6,
   "metadata": {},
   "outputs": [
    {
     "data": {
      "text/html": [
       "\n",
       "                Logging results to <a href=\"https://wandb.com\" target=\"_blank\">Weights & Biases</a> <a href=\"https://docs.wandb.com/integrations/jupyter.html\" target=\"_blank\">(Documentation)</a>.<br/>\n",
       "                Project page: <a href=\"https://app.wandb.ai/lambda-ds7/boston\" target=\"_blank\">https://app.wandb.ai/lambda-ds7/boston</a><br/>\n",
       "                Run page: <a href=\"https://app.wandb.ai/lambda-ds7/boston/runs/whw09rro\" target=\"_blank\">https://app.wandb.ai/lambda-ds7/boston/runs/whw09rro</a><br/>\n",
       "            "
      ],
      "text/plain": [
       "<IPython.core.display.HTML object>"
      ]
     },
     "metadata": {},
     "output_type": "display_data"
    },
    {
     "data": {
      "text/plain": [
       "W&B Run: https://app.wandb.ai/lambda-ds7/boston/runs/whw09rro"
      ]
     },
     "execution_count": 6,
     "metadata": {},
     "output_type": "execute_result"
    }
   ],
   "source": [
    "import wandb\n",
    "from wandb.keras import WandbCallback"
   ]
  },
  {
   "cell_type": "code",
   "execution_count": 8,
   "metadata": {
    "colab": {
     "base_uri": "https://localhost:8080/",
     "height": 1750
    },
    "colab_type": "code",
    "id": "GMXVfmzXp1Oo",
    "outputId": "b05e251e-508f-46e6-865b-f869ae2a5dc4"
   },
   "outputs": [
    {
     "data": {
      "text/html": [
       "\n",
       "                Logging results to <a href=\"https://wandb.com\" target=\"_blank\">Weights & Biases</a> <a href=\"https://docs.wandb.com/integrations/jupyter.html\" target=\"_blank\">(Documentation)</a>.<br/>\n",
       "                Project page: <a href=\"https://app.wandb.ai/lambda-ds7/boston\" target=\"_blank\">https://app.wandb.ai/lambda-ds7/boston</a><br/>\n",
       "                Run page: <a href=\"https://app.wandb.ai/lambda-ds7/boston/runs/kkgdtc31\" target=\"_blank\">https://app.wandb.ai/lambda-ds7/boston/runs/kkgdtc31</a><br/>\n",
       "            "
      ],
      "text/plain": [
       "<IPython.core.display.HTML object>"
      ]
     },
     "metadata": {},
     "output_type": "display_data"
    },
    {
     "name": "stdout",
     "output_type": "stream",
     "text": [
      "Train on 270 samples, validate on 134 samples\n",
      "Epoch 1/50\n",
      "270/270 [==============================] - 1s 3ms/sample - loss: 492.3539 - mse: 492.3539 - mae: 20.3197 - val_loss: 481.5445 - val_mse: 481.5445 - val_mae: 19.6138\n",
      "Epoch 2/50\n",
      "270/270 [==============================] - 0s 591us/sample - loss: 239.4999 - mse: 239.4999 - mae: 12.8064 - val_loss: 113.8561 - val_mse: 113.8561 - val_mae: 8.2962\n",
      "Epoch 3/50\n",
      "270/270 [==============================] - 0s 618us/sample - loss: 56.2921 - mse: 56.2921 - mae: 5.8988 - val_loss: 62.7912 - val_mse: 62.7912 - val_mae: 5.6465\n",
      "Epoch 4/50\n",
      "270/270 [==============================] - 0s 613us/sample - loss: 29.4994 - mse: 29.4994 - mae: 3.9653 - val_loss: 37.9256 - val_mse: 37.9256 - val_mae: 4.1730\n",
      "Epoch 5/50\n",
      "270/270 [==============================] - 0s 608us/sample - loss: 20.6919 - mse: 20.6919 - mae: 3.3022 - val_loss: 31.7489 - val_mse: 31.7489 - val_mae: 3.7113\n",
      "Epoch 6/50\n",
      "270/270 [==============================] - 0s 602us/sample - loss: 17.2701 - mse: 17.2701 - mae: 3.0291 - val_loss: 27.3921 - val_mse: 27.3921 - val_mae: 3.4958\n",
      "Epoch 7/50\n",
      "270/270 [==============================] - 0s 671us/sample - loss: 15.5172 - mse: 15.5172 - mae: 2.8537 - val_loss: 25.3208 - val_mse: 25.3208 - val_mae: 3.3650\n",
      "Epoch 8/50\n",
      "270/270 [==============================] - 0s 661us/sample - loss: 13.7548 - mse: 13.7548 - mae: 2.7089 - val_loss: 23.8920 - val_mse: 23.8920 - val_mae: 3.2746\n",
      "Epoch 9/50\n",
      "270/270 [==============================] - 0s 606us/sample - loss: 12.3745 - mse: 12.3745 - mae: 2.5662 - val_loss: 22.1294 - val_mse: 22.1294 - val_mae: 3.1509\n",
      "Epoch 10/50\n",
      "270/270 [==============================] - 0s 614us/sample - loss: 11.2424 - mse: 11.2424 - mae: 2.4804 - val_loss: 20.5718 - val_mse: 20.5718 - val_mae: 3.0461\n",
      "Epoch 11/50\n",
      "270/270 [==============================] - 0s 605us/sample - loss: 10.6098 - mse: 10.6098 - mae: 2.4178 - val_loss: 20.3467 - val_mse: 20.3467 - val_mae: 3.0251\n",
      "Epoch 12/50\n",
      "270/270 [==============================] - 0s 576us/sample - loss: 10.0011 - mse: 10.0011 - mae: 2.3257 - val_loss: 18.4283 - val_mse: 18.4283 - val_mae: 2.8938\n",
      "Epoch 13/50\n",
      "270/270 [==============================] - 0s 666us/sample - loss: 9.1287 - mse: 9.1287 - mae: 2.2384 - val_loss: 18.2024 - val_mse: 18.2024 - val_mae: 2.9116\n",
      "Epoch 14/50\n",
      "270/270 [==============================] - 0s 603us/sample - loss: 8.6211 - mse: 8.6211 - mae: 2.1980 - val_loss: 17.4749 - val_mse: 17.4749 - val_mae: 2.8290\n",
      "Epoch 15/50\n",
      "270/270 [==============================] - 0s 463us/sample - loss: 8.4558 - mse: 8.4558 - mae: 2.2087 - val_loss: 17.7878 - val_mse: 17.7878 - val_mae: 2.8516\n",
      "Epoch 16/50\n",
      "270/270 [==============================] - 0s 626us/sample - loss: 8.3626 - mse: 8.3626 - mae: 2.2031 - val_loss: 16.7101 - val_mse: 16.7101 - val_mae: 2.7820\n",
      "Epoch 17/50\n",
      "270/270 [==============================] - 0s 607us/sample - loss: 7.9180 - mse: 7.9180 - mae: 2.1265 - val_loss: 16.6064 - val_mse: 16.6064 - val_mae: 2.7419\n",
      "Epoch 18/50\n",
      "270/270 [==============================] - 0s 479us/sample - loss: 7.5552 - mse: 7.5552 - mae: 2.0235 - val_loss: 17.2872 - val_mse: 17.2872 - val_mae: 2.8539\n",
      "Epoch 19/50\n",
      "270/270 [==============================] - 0s 616us/sample - loss: 7.0971 - mse: 7.0971 - mae: 2.0038 - val_loss: 16.5110 - val_mse: 16.5110 - val_mae: 2.8042\n",
      "Epoch 20/50\n",
      "270/270 [==============================] - 0s 606us/sample - loss: 6.7068 - mse: 6.7068 - mae: 1.9539 - val_loss: 15.5886 - val_mse: 15.5886 - val_mae: 2.7048\n",
      "Epoch 21/50\n",
      "270/270 [==============================] - 0s 461us/sample - loss: 6.8542 - mse: 6.8542 - mae: 1.9979 - val_loss: 17.2378 - val_mse: 17.2378 - val_mae: 2.8853\n",
      "Epoch 22/50\n",
      "270/270 [==============================] - 0s 474us/sample - loss: 6.5719 - mse: 6.5719 - mae: 1.9312 - val_loss: 16.3043 - val_mse: 16.3043 - val_mae: 2.7756\n",
      "Epoch 23/50\n",
      "270/270 [==============================] - 0s 478us/sample - loss: 6.6161 - mse: 6.6161 - mae: 1.9572 - val_loss: 15.7992 - val_mse: 15.7992 - val_mae: 2.7219\n",
      "Epoch 24/50\n",
      "270/270 [==============================] - 0s 491us/sample - loss: 7.1269 - mse: 7.1269 - mae: 2.0137 - val_loss: 16.5402 - val_mse: 16.5402 - val_mae: 2.8005\n",
      "Epoch 25/50\n",
      "270/270 [==============================] - 0s 479us/sample - loss: 6.3382 - mse: 6.3382 - mae: 1.8540 - val_loss: 16.5034 - val_mse: 16.5034 - val_mae: 2.7864\n",
      "Epoch 26/50\n",
      "270/270 [==============================] - 0s 488us/sample - loss: 5.9442 - mse: 5.9442 - mae: 1.8251 - val_loss: 15.6558 - val_mse: 15.6558 - val_mae: 2.7102\n",
      "Epoch 27/50\n",
      "270/270 [==============================] - 0s 604us/sample - loss: 5.5832 - mse: 5.5832 - mae: 1.7432 - val_loss: 15.3021 - val_mse: 15.3021 - val_mae: 2.6862\n",
      "Epoch 28/50\n",
      "270/270 [==============================] - 0s 436us/sample - loss: 5.4530 - mse: 5.4530 - mae: 1.7354 - val_loss: 15.4570 - val_mse: 15.4570 - val_mae: 2.6846\n",
      "Epoch 29/50\n",
      "270/270 [==============================] - 0s 441us/sample - loss: 5.3070 - mse: 5.3070 - mae: 1.7079 - val_loss: 15.8510 - val_mse: 15.8510 - val_mae: 2.7644\n",
      "Epoch 30/50\n",
      "270/270 [==============================] - 0s 477us/sample - loss: 5.4157 - mse: 5.4157 - mae: 1.7321 - val_loss: 15.9160 - val_mse: 15.9160 - val_mae: 2.7134\n",
      "Epoch 31/50\n",
      "270/270 [==============================] - 0s 452us/sample - loss: 5.2639 - mse: 5.2639 - mae: 1.6981 - val_loss: 15.3554 - val_mse: 15.3554 - val_mae: 2.6662\n",
      "Epoch 32/50\n",
      "270/270 [==============================] - 0s 475us/sample - loss: 5.7687 - mse: 5.7687 - mae: 1.8045 - val_loss: 15.7151 - val_mse: 15.7151 - val_mae: 2.6867\n",
      "Epoch 33/50\n",
      "270/270 [==============================] - 0s 462us/sample - loss: 5.5210 - mse: 5.5210 - mae: 1.7367 - val_loss: 15.4227 - val_mse: 15.4227 - val_mae: 2.6561\n",
      "Epoch 34/50\n",
      "270/270 [==============================] - 0s 474us/sample - loss: 5.5663 - mse: 5.5663 - mae: 1.7294 - val_loss: 15.3376 - val_mse: 15.3376 - val_mae: 2.6991\n",
      "Epoch 35/50\n",
      "270/270 [==============================] - 0s 626us/sample - loss: 5.0063 - mse: 5.0063 - mae: 1.6196 - val_loss: 15.2642 - val_mse: 15.2642 - val_mae: 2.6796\n",
      "Epoch 36/50\n",
      "270/270 [==============================] - 0s 459us/sample - loss: 4.7251 - mse: 4.7251 - mae: 1.5727 - val_loss: 15.4858 - val_mse: 15.4858 - val_mae: 2.7288\n",
      "Epoch 37/50\n",
      "270/270 [==============================] - 0s 604us/sample - loss: 4.6394 - mse: 4.6394 - mae: 1.5854 - val_loss: 15.1139 - val_mse: 15.1139 - val_mae: 2.6305\n",
      "Epoch 38/50\n",
      "270/270 [==============================] - 0s 592us/sample - loss: 4.5669 - mse: 4.5669 - mae: 1.5548 - val_loss: 14.9898 - val_mse: 14.9898 - val_mae: 2.6340\n",
      "Epoch 39/50\n",
      "270/270 [==============================] - 0s 458us/sample - loss: 4.4480 - mse: 4.4480 - mae: 1.5334 - val_loss: 15.6389 - val_mse: 15.6389 - val_mae: 2.7337\n",
      "Epoch 40/50\n",
      "270/270 [==============================] - 0s 455us/sample - loss: 4.4119 - mse: 4.4119 - mae: 1.5426 - val_loss: 15.0723 - val_mse: 15.0723 - val_mae: 2.6709\n",
      "Epoch 41/50\n",
      "270/270 [==============================] - 0s 473us/sample - loss: 4.0797 - mse: 4.0797 - mae: 1.4725 - val_loss: 15.4706 - val_mse: 15.4706 - val_mae: 2.6707\n",
      "Epoch 42/50\n",
      "270/270 [==============================] - 0s 449us/sample - loss: 4.0619 - mse: 4.0619 - mae: 1.4692 - val_loss: 15.2423 - val_mse: 15.2423 - val_mae: 2.6165\n",
      "Epoch 43/50\n",
      "270/270 [==============================] - 0s 465us/sample - loss: 4.1861 - mse: 4.1861 - mae: 1.5076 - val_loss: 15.7510 - val_mse: 15.7510 - val_mae: 2.7279\n",
      "Epoch 44/50\n",
      "270/270 [==============================] - 0s 462us/sample - loss: 4.1128 - mse: 4.1128 - mae: 1.4810 - val_loss: 15.4814 - val_mse: 15.4814 - val_mae: 2.6562\n",
      "Epoch 45/50\n",
      "270/270 [==============================] - 0s 441us/sample - loss: 4.2171 - mse: 4.2171 - mae: 1.5205 - val_loss: 16.3839 - val_mse: 16.3839 - val_mae: 2.8194\n",
      "Epoch 46/50\n",
      "270/270 [==============================] - 0s 422us/sample - loss: 4.2609 - mse: 4.2609 - mae: 1.5548 - val_loss: 15.3587 - val_mse: 15.3587 - val_mae: 2.7161\n",
      "Epoch 47/50\n",
      "270/270 [==============================] - 0s 454us/sample - loss: 4.4635 - mse: 4.4635 - mae: 1.5440 - val_loss: 15.7736 - val_mse: 15.7736 - val_mae: 2.7184\n",
      "Epoch 48/50\n",
      "270/270 [==============================] - 0s 426us/sample - loss: 3.7406 - mse: 3.7406 - mae: 1.4147 - val_loss: 15.6718 - val_mse: 15.6718 - val_mae: 2.7468\n",
      "Epoch 49/50\n",
      "270/270 [==============================] - 0s 445us/sample - loss: 3.6173 - mse: 3.6173 - mae: 1.3816 - val_loss: 15.7291 - val_mse: 15.7291 - val_mae: 2.7789\n",
      "Epoch 50/50\n",
      "270/270 [==============================] - 0s 430us/sample - loss: 3.6303 - mse: 3.6303 - mae: 1.4266 - val_loss: 15.4937 - val_mse: 15.4937 - val_mae: 2.7390\n"
     ]
    },
    {
     "data": {
      "text/plain": [
       "<tensorflow.python.keras.callbacks.History at 0x7f315c319be0>"
      ]
     },
     "execution_count": 8,
     "metadata": {},
     "output_type": "execute_result"
    }
   ],
   "source": [
    "wandb.init(project=\"boston\", entity=\"lambda-ds7\") #Initializes and Experiment\n",
    "\n",
    "# Important Hyperparameters\n",
    "X =  x_train\n",
    "y =  y_train\n",
    "\n",
    "inputs = X.shape[1]\n",
    "wandb.config.epochs = 50\n",
    "wandb.config.batch_size = 10\n",
    "\n",
    "# Create Model\n",
    "model = Sequential()\n",
    "model.add(Dense(64, activation='relu', input_shape=(inputs,)))\n",
    "model.add(Dense(64, activation='relu'))\n",
    "model.add(Dense(64, activation='relu'))\n",
    "model.add(Dense(1))\n",
    "# Compile Model\n",
    "model.compile(optimizer='adam', loss='mse', metrics=['mse', 'mae'])\n",
    "\n",
    "# Fit Model\n",
    "model.fit(X, y, \n",
    "          validation_split=0.33, \n",
    "          epochs=wandb.config.epochs, \n",
    "          batch_size=wandb.config.batch_size, \n",
    "          callbacks=[WandbCallback()]\n",
    "         )"
   ]
  },
  {
   "cell_type": "markdown",
   "metadata": {},
   "source": [
    "## Challenge\n",
    "\n",
    "You will be expected to use Weights & Biases to try to tune your model during your module assignment today. "
   ]
  },
  {
   "cell_type": "markdown",
   "metadata": {},
   "source": [
    "# Hyperparameters with RandomSearchCV (Learn)"
   ]
  },
  {
   "cell_type": "markdown",
   "metadata": {},
   "source": [
    "## Overview\n",
    "\n",
    "Basically `GridSearchCV` takes forever. You'll want to adopt a slightly more sophiscated strategy."
   ]
  },
  {
   "cell_type": "markdown",
   "metadata": {},
   "source": [
    "## Follow Along"
   ]
  },
  {
   "cell_type": "code",
   "execution_count": 9,
   "metadata": {},
   "outputs": [],
   "source": [
    "sweep_config = {\n",
    "    'method': 'random',\n",
    "    'parameters': {\n",
    "        'learning_rate': {'distribution': 'normal'},\n",
    "        'epochs': {'distribution': 'uniform',\n",
    "                    'min': 100,\n",
    "                    'max': 1000},\n",
    "        'batch_size': {'distribution': 'uniform',\n",
    "            'min': 10,\n",
    "            'max': 400}\n",
    "    }\n",
    "}"
   ]
  },
  {
   "cell_type": "code",
   "execution_count": 13,
   "metadata": {},
   "outputs": [
    {
     "name": "stdout",
     "output_type": "stream",
     "text": [
      "Create sweep with ID: huau0u9r\n",
      "Sweep URL: https://app.wandb.ai/lambda-ds7/boston/sweeps/huau0u9r\n"
     ]
    }
   ],
   "source": [
    "sweep_id = wandb.sweep(sweep_config)"
   ]
  },
  {
   "cell_type": "code",
   "execution_count": 11,
   "metadata": {},
   "outputs": [],
   "source": [
    "import wandb\n",
    "from wandb.keras import WandbCallback\n",
    "#Initializes and Experiment\n",
    "\n",
    "from tensorflow.keras.optimizers import Adam\n",
    "\n",
    "# Important Hyperparameters\n",
    "X =  x_train\n",
    "y =  y_train\n",
    "\n",
    "inputs = X.shape[1]\n",
    "\n",
    "def train():\n",
    "    \n",
    "    wandb.init(project=\"boston\", entity=\"lambda-ds7\") \n",
    "    \n",
    "    config = wandb.config\n",
    "\n",
    "    # Create Model\n",
    "    model = Sequential()\n",
    "    model.add(Dense(64, activation='relu', input_shape=(inputs,)))\n",
    "    model.add(Dense(64, activation='relu'))\n",
    "    model.add(Dense(64, activation='relu'))\n",
    "    model.add(Dense(1))\n",
    "\n",
    "    # Optimizer \n",
    "    adam = Adam(learning_rate=config.learning_rate)\n",
    "\n",
    "    # Compile Model\n",
    "    model.compile(optimizer=adam, loss='mse', metrics=['mse', 'mae'])\n",
    "\n",
    "    # Fit Model\n",
    "    model.fit(X, y, \n",
    "              validation_split=0.33, \n",
    "              epochs=config.epochs, \n",
    "              batch_size=config.batch_size, \n",
    "              callbacks=[WandbCallback()]\n",
    "             )"
   ]
  },
  {
   "cell_type": "code",
   "execution_count": null,
   "metadata": {},
   "outputs": [
    {
     "name": "stdout",
     "output_type": "stream",
     "text": [
      "wandb: Agent Starting Run: 2g77kp6k with config:\n",
      "\tbatch_size: 308.503347845309\n",
      "\tepochs: 704.9395850579006\n",
      "\tlearning_rate: 1.480005523005428\n",
      "wandb: Agent Started Run: 2g77kp6k\n"
     ]
    },
    {
     "data": {
      "text/html": [
       "\n",
       "                Logging results to <a href=\"https://wandb.com\" target=\"_blank\">Weights & Biases</a> <a href=\"https://docs.wandb.com/integrations/jupyter.html\" target=\"_blank\">(Documentation)</a>.<br/>\n",
       "                Project page: <a href=\"https://app.wandb.ai/lambda-ds7/boston\" target=\"_blank\">https://app.wandb.ai/lambda-ds7/boston</a><br/>\n",
       "                Run page: <a href=\"https://app.wandb.ai/lambda-ds7/boston/runs/t4w9l4ye\" target=\"_blank\">https://app.wandb.ai/lambda-ds7/boston/runs/t4w9l4ye</a><br/>\n",
       "            "
      ],
      "text/plain": [
       "<IPython.core.display.HTML object>"
      ]
     },
     "metadata": {},
     "output_type": "display_data"
    }
   ],
   "source": [
    "wandb.agent(sweep_id, function=train)"
   ]
  },
  {
   "cell_type": "markdown",
   "metadata": {},
   "source": [
    "## Challenge\n",
    "\n",
    "Try to apply RandomSearchCV to your module project today. "
   ]
  },
  {
   "cell_type": "markdown",
   "metadata": {},
   "source": [
    "# Review\n",
    "* <a href=\"#p1\">Part 1</a>: Describe the major hyperparemeters to tune\n",
    "    - Activation Functions\n",
    "    - Optimizer\n",
    "    - Number of Layers\n",
    "    - Number of Neurons\n",
    "    - Batch Size\n",
    "    - Dropout Regulaization\n",
    "    - Learning Rate\n",
    "    - Number of Epochs\n",
    "    - and many more\n",
    "* <a href=\"#p2\">Part 2</a>: Implement an experiment tracking framework\n",
    "    - Weights & Biases\n",
    "    - Comet.ml\n",
    "    - By Hand / GridSearch\n",
    "* <a href=\"#p3\">Part 3</a>: Search the hyperparameter space using RandomSearch\n",
    "    - Sklearn still useful (haha)\n",
    "    - Integration with Wieghts & Biases\n",
    "* <a href=\"#p4\">Part 4</a>: Discuss emerging hyperparameter tuning strategies\n",
    "    - Bayesian Optimization\n",
    "    - Hyperopt\n",
    "    - Genetic Evolution"
   ]
  },
  {
   "cell_type": "markdown",
   "metadata": {},
   "source": [
    "# Sources"
   ]
  },
  {
   "cell_type": "markdown",
   "metadata": {},
   "source": [
    "## Additional Reading\n",
    "- https://machinelearningmastery.com/grid-search-hyperparameters-deep-learning-models-python-keras/\n",
    "- https://blog.floydhub.com/guide-to-hyperparameters-search-for-deep-learning-models/\n",
    "- https://machinelearningmastery.com/dropout-regularization-deep-learning-models-keras/\n",
    "- https://machinelearningmastery.com/introduction-to-weight-constraints-to-reduce-generalization-error-in-deep-learning/\n",
    "- https://machinelearningmastery.com/how-to-configure-the-number-of-layers-and-nodes-in-a-neural-network/"
   ]
  }
 ],
 "metadata": {
  "kernelspec": {
   "display_name": "U4-S2",
   "language": "python",
   "name": "ds-12-unit-4-sprint-2"
  },
  "language_info": {
   "codemirror_mode": {
    "name": "ipython",
    "version": 3
   },
   "file_extension": ".py",
   "mimetype": "text/x-python",
   "name": "python",
   "nbconvert_exporter": "python",
   "pygments_lexer": "ipython3",
   "version": "3.7.7"
  }
 },
 "nbformat": 4,
 "nbformat_minor": 4
}
