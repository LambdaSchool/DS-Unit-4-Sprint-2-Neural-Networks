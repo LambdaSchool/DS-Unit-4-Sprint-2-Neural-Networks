{
 "cells": [
  {
   "cell_type": "markdown",
   "metadata": {
    "colab_type": "text",
    "id": "41TS0Sa0rDNx"
   },
   "source": [
    "Lambda School Data Science\n",
    "\n",
    "*Unit 4, Sprint 2, Module 4*\n",
    "\n",
    "---"
   ]
  },
  {
   "cell_type": "markdown",
   "metadata": {
    "colab_type": "text",
    "id": "41TS0Sa0rDNx"
   },
   "source": [
    "# Neural Networks & GPUs (Prepare)\n",
    "*aka Hyperparameter Tuning*\n",
    "\n",
    "*aka Big Servers for Big Problems*"
   ]
  },
  {
   "cell_type": "markdown",
   "metadata": {
    "colab_type": "text",
    "id": "41TS0Sa0rDNx"
   },
   "source": [
    "## Learning Objectives\n",
    "* <a href=\"#p1\">Part 1</a>: Describe the major hyperparemeters to tune\n",
    "* <a href=\"#p2\">Part 2</a>: Implement an experiment tracking framework\n",
    "* <a href=\"#p3\">Part 3</a>: Search the hyperparameter space using RandomSearch (Optional)"
   ]
  },
  {
   "cell_type": "markdown",
   "metadata": {},
   "source": [
    "---\n",
    "---\n",
    "\n",
    "# Hyperparameter Options (Learn)\n",
    "<a id=\"p1\"></a>"
   ]
  },
  {
   "cell_type": "markdown",
   "metadata": {},
   "source": [
    "## Overview\n",
    "\n",
    "Hyperparameter tuning is much more important with neural networks than it has been with any other models that we have considered up to this point. Other supervised learning models might have a couple of parameters, but neural networks can have dozens. These can substantially affect the accuracy of our models and although it can be a time consuming process is a necessary step when working with neural networks.\n",
    "​\n",
    "Hyperparameter tuning comes with a challenge. How can we compare models specified with different hyperparameters if our model's final error metric can vary somewhat erratically? How do we avoid just getting unlucky and selecting the wrong hyperparameter? This is a problem that to a certain degree we just have to live with as we test and test again. However, we can minimize it somewhat by pairing our experiments with Cross Validation to reduce the variance of our final accuracy values."
   ]
  },
  {
   "cell_type": "markdown",
   "metadata": {
    "colab_type": "text",
    "id": "0s0o2pqBs88q"
   },
   "source": [
    "### Load Boston Housing Data"
   ]
  },
  {
   "cell_type": "code",
   "execution_count": 1,
   "metadata": {},
   "outputs": [],
   "source": [
    "from tensorflow.keras.datasets import boston_housing\n",
    "\n",
    "(x_train, y_train), (x_test, y_test) = boston_housing.load_data()"
   ]
  },
  {
   "cell_type": "code",
   "execution_count": 4,
   "metadata": {},
   "outputs": [
    {
     "data": {
      "text/plain": [
       "array([[1.23247e+00, 0.00000e+00, 8.14000e+00, 0.00000e+00, 5.38000e-01,\n",
       "        6.14200e+00, 9.17000e+01, 3.97690e+00, 4.00000e+00, 3.07000e+02,\n",
       "        2.10000e+01, 3.96900e+02, 1.87200e+01],\n",
       "       [2.17700e-02, 8.25000e+01, 2.03000e+00, 0.00000e+00, 4.15000e-01,\n",
       "        7.61000e+00, 1.57000e+01, 6.27000e+00, 2.00000e+00, 3.48000e+02,\n",
       "        1.47000e+01, 3.95380e+02, 3.11000e+00],\n",
       "       [4.89822e+00, 0.00000e+00, 1.81000e+01, 0.00000e+00, 6.31000e-01,\n",
       "        4.97000e+00, 1.00000e+02, 1.33250e+00, 2.40000e+01, 6.66000e+02,\n",
       "        2.02000e+01, 3.75520e+02, 3.26000e+00],\n",
       "       [3.96100e-02, 0.00000e+00, 5.19000e+00, 0.00000e+00, 5.15000e-01,\n",
       "        6.03700e+00, 3.45000e+01, 5.98530e+00, 5.00000e+00, 2.24000e+02,\n",
       "        2.02000e+01, 3.96900e+02, 8.01000e+00],\n",
       "       [3.69311e+00, 0.00000e+00, 1.81000e+01, 0.00000e+00, 7.13000e-01,\n",
       "        6.37600e+00, 8.84000e+01, 2.56710e+00, 2.40000e+01, 6.66000e+02,\n",
       "        2.02000e+01, 3.91430e+02, 1.46500e+01]])"
      ]
     },
     "execution_count": 4,
     "metadata": {},
     "output_type": "execute_result"
    }
   ],
   "source": [
    "x_train[:5]"
   ]
  },
  {
   "cell_type": "code",
   "execution_count": null,
   "metadata": {},
   "outputs": [],
   "source": []
  },
  {
   "cell_type": "markdown",
   "metadata": {
    "colab_type": "text",
    "id": "Pm7zow5IvaTt"
   },
   "source": [
    "### Normalizing Input Data\n",
    "\n",
    "It's not 100% necessary to normalize/scale your input data before feeding it to a neural network, the network can learn the appropriate weights to deal with data of as long as it is numerically represented,  but it is recommended as it can help **make training faster** and **reduces the chances that gradient descent might get stuck in a local optimum**.\n",
    "\n",
    "<https://stackoverflow.com/questions/4674623/why-do-we-have-to-normalize-the-input-for-an-artificial-neural-network>"
   ]
  },
  {
   "cell_type": "code",
   "execution_count": 2,
   "metadata": {},
   "outputs": [
    {
     "name": "stdout",
     "output_type": "stream",
     "text": [
      "[[-0.27224633 -0.48361547 -0.43576161 -0.25683275 -0.1652266  -0.1764426\n",
      "   0.81306188  0.1166983  -0.62624905 -0.59517003  1.14850044  0.44807713\n",
      "   0.8252202 ]\n",
      " [-0.40342651  2.99178419 -1.33391162 -0.25683275 -1.21518188  1.89434613\n",
      "  -1.91036058  1.24758524 -0.85646254 -0.34843254 -1.71818909  0.43190599\n",
      "  -1.32920239]\n",
      " [ 0.1249402  -0.48361547  1.0283258  -0.25683275  0.62864202 -1.82968811\n",
      "   1.11048828 -1.18743907  1.67588577  1.5652875   0.78447637  0.22061726\n",
      "  -1.30850006]\n",
      " [-0.40149354 -0.48361547 -0.86940196 -0.25683275 -0.3615597  -0.3245576\n",
      "  -1.23667187  1.10717989 -0.51114231 -1.094663    0.78447637  0.44807713\n",
      "  -0.65292624]\n",
      " [-0.0056343  -0.48361547  1.0283258  -0.25683275  1.32861221  0.15364225\n",
      "   0.69480801 -0.57857203  1.67588577  1.5652875   0.78447637  0.3898823\n",
      "   0.26349695]\n",
      " [-0.37502238 -0.48361547 -0.54747912 -0.25683275 -0.54935658 -0.78865126\n",
      "   0.18954148  0.48371503 -0.51114231 -0.71552978  0.51145832  0.38669063\n",
      "  -0.13812828]\n",
      " [ 0.58963463 -0.48361547  1.0283258  -0.25683275  1.21764133 -1.03127774\n",
      "   1.11048828 -1.06518235  1.67588577  1.5652875   0.78447637  0.44807713\n",
      "   1.49873604]\n",
      " [ 0.0381708  -0.48361547  1.24588095 -0.25683275  2.67733525 -1.12719983\n",
      "   1.11048828 -1.14833073 -0.51114231 -0.01744323 -1.71818909  0.44807713\n",
      "   1.88793986]\n",
      " [-0.17228416 -0.48361547  1.24588095 -0.25683275  2.67733525 -0.90150078\n",
      "   1.11048828 -1.09664657 -0.51114231 -0.01744323 -1.71818909 -1.97365769\n",
      "   0.53952803]\n",
      " [-0.22932104 -0.48361547  1.58544339 -0.25683275  0.56888847 -1.76056777\n",
      "   1.11048828 -1.13471925 -0.62624905  0.18716835  1.23950646  0.44807713\n",
      "   2.99068404]]\n"
     ]
    }
   ],
   "source": [
    "from sklearn.preprocessing import StandardScaler\n",
    "\n",
    "scaler = StandardScaler()\n",
    "\n",
    "x_train = scaler.fit_transform(x_train)\n",
    "x_test = scaler.transform(x_test)\n",
    "print(x_train[:10])"
   ]
  },
  {
   "cell_type": "markdown",
   "metadata": {
    "colab_type": "text",
    "id": "l6hgCWbir90R"
   },
   "source": [
    "### Model Validation using an automatic verification Dataset\n",
    "\n",
    "Instead of doing seperate train test split class, Keras has a really nice feature that you can set the validation.data argument when fitting your model and Keras will take that portion of your test data and use it as a validation dataset. "
   ]
  },
  {
   "cell_type": "code",
   "execution_count": 2,
   "metadata": {
    "colab": {
     "base_uri": "https://localhost:8080/",
     "height": 1750
    },
    "colab_type": "code",
    "id": "GMXVfmzXp1Oo",
    "outputId": "b05e251e-508f-46e6-865b-f869ae2a5dc4"
   },
   "outputs": [],
   "source": [
    "from tensorflow import keras\n",
    "from tensorflow.keras.models import Sequential\n",
    "from tensorflow.keras.layers import Dense"
   ]
  },
  {
   "cell_type": "code",
   "execution_count": 5,
   "metadata": {
    "colab": {
     "base_uri": "https://localhost:8080/",
     "height": 1750
    },
    "colab_type": "code",
    "id": "GMXVfmzXp1Oo",
    "outputId": "b05e251e-508f-46e6-865b-f869ae2a5dc4"
   },
   "outputs": [
    {
     "name": "stdout",
     "output_type": "stream",
     "text": [
      "WARNING:tensorflow:From /home/ec2-user/anaconda3/envs/tensorflow_p36/lib/python3.6/site-packages/tensorflow/python/ops/init_ops.py:1251: calling VarianceScaling.__init__ (from tensorflow.python.ops.init_ops) with dtype is deprecated and will be removed in a future version.\n",
      "Instructions for updating:\n",
      "Call initializer instance with the dtype argument instead of passing it to the constructor\n",
      "Train on 404 samples, validate on 102 samples\n",
      "Epoch 1/50\n",
      "404/404 [==============================] - 1s 2ms/sample - loss: 445.2218 - mean_squared_error: 445.2218 - mean_absolute_error: 15.4285 - val_loss: 93.3075 - val_mean_squared_error: 93.3075 - val_mean_absolute_error: 7.4652\n",
      "Epoch 2/50\n",
      "404/404 [==============================] - 0s 249us/sample - loss: 83.7331 - mean_squared_error: 83.7331 - mean_absolute_error: 6.7955 - val_loss: 81.3768 - val_mean_squared_error: 81.3768 - val_mean_absolute_error: 6.3941\n",
      "Epoch 3/50\n",
      "404/404 [==============================] - 0s 237us/sample - loss: 78.1640 - mean_squared_error: 78.1640 - mean_absolute_error: 6.2376 - val_loss: 69.8861 - val_mean_squared_error: 69.8861 - val_mean_absolute_error: 6.2733\n",
      "Epoch 4/50\n",
      "404/404 [==============================] - 0s 245us/sample - loss: 72.1568 - mean_squared_error: 72.1568 - mean_absolute_error: 5.9896 - val_loss: 76.8007 - val_mean_squared_error: 76.8007 - val_mean_absolute_error: 6.8906\n",
      "Epoch 5/50\n",
      "404/404 [==============================] - 0s 234us/sample - loss: 66.6671 - mean_squared_error: 66.6671 - mean_absolute_error: 5.6609 - val_loss: 66.6788 - val_mean_squared_error: 66.6788 - val_mean_absolute_error: 5.9191\n",
      "Epoch 6/50\n",
      "404/404 [==============================] - 0s 242us/sample - loss: 61.0102 - mean_squared_error: 61.0102 - mean_absolute_error: 5.4297 - val_loss: 62.1388 - val_mean_squared_error: 62.1388 - val_mean_absolute_error: 5.8005\n",
      "Epoch 7/50\n",
      "404/404 [==============================] - 0s 235us/sample - loss: 58.6614 - mean_squared_error: 58.6614 - mean_absolute_error: 5.2316 - val_loss: 61.9284 - val_mean_squared_error: 61.9284 - val_mean_absolute_error: 5.6864\n",
      "Epoch 8/50\n",
      "404/404 [==============================] - 0s 241us/sample - loss: 55.6065 - mean_squared_error: 55.6066 - mean_absolute_error: 5.0454 - val_loss: 59.6470 - val_mean_squared_error: 59.6470 - val_mean_absolute_error: 5.5380\n",
      "Epoch 9/50\n",
      "404/404 [==============================] - 0s 244us/sample - loss: 62.6883 - mean_squared_error: 62.6883 - mean_absolute_error: 5.4863 - val_loss: 67.6863 - val_mean_squared_error: 67.6863 - val_mean_absolute_error: 6.6460\n",
      "Epoch 10/50\n",
      "404/404 [==============================] - 0s 242us/sample - loss: 57.5307 - mean_squared_error: 57.5307 - mean_absolute_error: 5.3024 - val_loss: 53.5312 - val_mean_squared_error: 53.5312 - val_mean_absolute_error: 5.5086\n",
      "Epoch 11/50\n",
      "404/404 [==============================] - 0s 240us/sample - loss: 57.2478 - mean_squared_error: 57.2478 - mean_absolute_error: 5.4706 - val_loss: 52.0134 - val_mean_squared_error: 52.0134 - val_mean_absolute_error: 5.1558\n",
      "Epoch 12/50\n",
      "404/404 [==============================] - 0s 267us/sample - loss: 50.5406 - mean_squared_error: 50.5406 - mean_absolute_error: 4.8380 - val_loss: 55.9321 - val_mean_squared_error: 55.9321 - val_mean_absolute_error: 5.2186\n",
      "Epoch 13/50\n",
      "404/404 [==============================] - 0s 242us/sample - loss: 44.7711 - mean_squared_error: 44.7711 - mean_absolute_error: 4.6872 - val_loss: 53.4893 - val_mean_squared_error: 53.4893 - val_mean_absolute_error: 5.0325\n",
      "Epoch 14/50\n",
      "404/404 [==============================] - 0s 237us/sample - loss: 42.8960 - mean_squared_error: 42.8960 - mean_absolute_error: 4.5051 - val_loss: 47.4946 - val_mean_squared_error: 47.4946 - val_mean_absolute_error: 5.1181\n",
      "Epoch 15/50\n",
      "404/404 [==============================] - 0s 246us/sample - loss: 42.3040 - mean_squared_error: 42.3040 - mean_absolute_error: 4.3772 - val_loss: 44.7697 - val_mean_squared_error: 44.7697 - val_mean_absolute_error: 4.7861\n",
      "Epoch 16/50\n",
      "404/404 [==============================] - 0s 240us/sample - loss: 40.5173 - mean_squared_error: 40.5173 - mean_absolute_error: 4.5119 - val_loss: 68.8258 - val_mean_squared_error: 68.8258 - val_mean_absolute_error: 6.1098\n",
      "Epoch 17/50\n",
      "404/404 [==============================] - 0s 236us/sample - loss: 47.4872 - mean_squared_error: 47.4872 - mean_absolute_error: 4.9612 - val_loss: 74.1714 - val_mean_squared_error: 74.1714 - val_mean_absolute_error: 7.4414\n",
      "Epoch 18/50\n",
      "404/404 [==============================] - 0s 241us/sample - loss: 42.5733 - mean_squared_error: 42.5733 - mean_absolute_error: 4.5764 - val_loss: 44.9959 - val_mean_squared_error: 44.9959 - val_mean_absolute_error: 5.0789\n",
      "Epoch 19/50\n",
      "404/404 [==============================] - 0s 211us/sample - loss: 40.5315 - mean_squared_error: 40.5316 - mean_absolute_error: 4.6212 - val_loss: 52.2948 - val_mean_squared_error: 52.2948 - val_mean_absolute_error: 5.1415\n",
      "Epoch 20/50\n",
      "404/404 [==============================] - 0s 195us/sample - loss: 37.0359 - mean_squared_error: 37.0359 - mean_absolute_error: 4.1876 - val_loss: 47.3058 - val_mean_squared_error: 47.3058 - val_mean_absolute_error: 5.1365\n",
      "Epoch 21/50\n",
      "404/404 [==============================] - 0s 197us/sample - loss: 37.1787 - mean_squared_error: 37.1787 - mean_absolute_error: 4.2195 - val_loss: 51.7975 - val_mean_squared_error: 51.7975 - val_mean_absolute_error: 5.8471\n",
      "Epoch 22/50\n",
      "404/404 [==============================] - 0s 203us/sample - loss: 43.9644 - mean_squared_error: 43.9644 - mean_absolute_error: 4.8007 - val_loss: 55.6819 - val_mean_squared_error: 55.6819 - val_mean_absolute_error: 5.5137\n",
      "Epoch 23/50\n",
      "404/404 [==============================] - 0s 200us/sample - loss: 43.9688 - mean_squared_error: 43.9688 - mean_absolute_error: 4.8622 - val_loss: 40.2147 - val_mean_squared_error: 40.2147 - val_mean_absolute_error: 4.5133\n",
      "Epoch 24/50\n",
      "404/404 [==============================] - 0s 214us/sample - loss: 36.3038 - mean_squared_error: 36.3038 - mean_absolute_error: 4.2408 - val_loss: 50.2952 - val_mean_squared_error: 50.2952 - val_mean_absolute_error: 5.1285\n",
      "Epoch 25/50\n",
      "404/404 [==============================] - 0s 206us/sample - loss: 40.3083 - mean_squared_error: 40.3083 - mean_absolute_error: 4.5486 - val_loss: 36.8845 - val_mean_squared_error: 36.8845 - val_mean_absolute_error: 4.4459\n",
      "Epoch 26/50\n",
      "404/404 [==============================] - 0s 199us/sample - loss: 42.7849 - mean_squared_error: 42.7849 - mean_absolute_error: 4.5714 - val_loss: 37.8545 - val_mean_squared_error: 37.8545 - val_mean_absolute_error: 4.6659\n",
      "Epoch 27/50\n",
      "404/404 [==============================] - 0s 203us/sample - loss: 43.2228 - mean_squared_error: 43.2228 - mean_absolute_error: 4.7524 - val_loss: 43.3417 - val_mean_squared_error: 43.3417 - val_mean_absolute_error: 5.1671\n",
      "Epoch 28/50\n",
      "404/404 [==============================] - 0s 200us/sample - loss: 38.9607 - mean_squared_error: 38.9607 - mean_absolute_error: 4.5902 - val_loss: 38.7897 - val_mean_squared_error: 38.7897 - val_mean_absolute_error: 4.8027\n",
      "Epoch 29/50\n",
      "404/404 [==============================] - 0s 205us/sample - loss: 34.2852 - mean_squared_error: 34.2852 - mean_absolute_error: 4.1051 - val_loss: 40.9163 - val_mean_squared_error: 40.9163 - val_mean_absolute_error: 5.0655\n",
      "Epoch 30/50\n",
      "404/404 [==============================] - 0s 204us/sample - loss: 33.3426 - mean_squared_error: 33.3426 - mean_absolute_error: 4.1723 - val_loss: 107.3446 - val_mean_squared_error: 107.3446 - val_mean_absolute_error: 8.7610\n",
      "Epoch 31/50\n",
      "404/404 [==============================] - 0s 209us/sample - loss: 41.6967 - mean_squared_error: 41.6967 - mean_absolute_error: 4.8146 - val_loss: 37.3071 - val_mean_squared_error: 37.3071 - val_mean_absolute_error: 4.6094\n",
      "Epoch 32/50\n",
      "404/404 [==============================] - 0s 203us/sample - loss: 33.3117 - mean_squared_error: 33.3117 - mean_absolute_error: 4.2100 - val_loss: 37.3632 - val_mean_squared_error: 37.3632 - val_mean_absolute_error: 4.5792\n",
      "Epoch 33/50\n",
      "404/404 [==============================] - 0s 210us/sample - loss: 30.3206 - mean_squared_error: 30.3206 - mean_absolute_error: 4.0150 - val_loss: 35.1911 - val_mean_squared_error: 35.1911 - val_mean_absolute_error: 4.3994\n",
      "Epoch 34/50\n",
      "404/404 [==============================] - 0s 198us/sample - loss: 34.2733 - mean_squared_error: 34.2733 - mean_absolute_error: 4.3053 - val_loss: 41.9501 - val_mean_squared_error: 41.9501 - val_mean_absolute_error: 4.5607\n",
      "Epoch 35/50\n",
      "404/404 [==============================] - 0s 214us/sample - loss: 32.4950 - mean_squared_error: 32.4950 - mean_absolute_error: 4.0769 - val_loss: 44.5331 - val_mean_squared_error: 44.5331 - val_mean_absolute_error: 5.5375\n",
      "Epoch 36/50\n",
      "404/404 [==============================] - 0s 198us/sample - loss: 36.7611 - mean_squared_error: 36.7611 - mean_absolute_error: 4.4829 - val_loss: 43.2086 - val_mean_squared_error: 43.2086 - val_mean_absolute_error: 4.6697\n",
      "Epoch 37/50\n",
      "404/404 [==============================] - 0s 214us/sample - loss: 34.3441 - mean_squared_error: 34.3441 - mean_absolute_error: 4.3919 - val_loss: 46.5982 - val_mean_squared_error: 46.5982 - val_mean_absolute_error: 4.9745\n",
      "Epoch 38/50\n",
      "404/404 [==============================] - 0s 198us/sample - loss: 35.4048 - mean_squared_error: 35.4048 - mean_absolute_error: 4.3412 - val_loss: 58.4389 - val_mean_squared_error: 58.4389 - val_mean_absolute_error: 5.9365\n",
      "Epoch 39/50\n",
      "404/404 [==============================] - 0s 207us/sample - loss: 32.4916 - mean_squared_error: 32.4916 - mean_absolute_error: 4.1379 - val_loss: 31.4869 - val_mean_squared_error: 31.4869 - val_mean_absolute_error: 3.8511\n",
      "Epoch 40/50\n",
      "404/404 [==============================] - 0s 207us/sample - loss: 38.4810 - mean_squared_error: 38.4810 - mean_absolute_error: 4.6488 - val_loss: 41.6016 - val_mean_squared_error: 41.6016 - val_mean_absolute_error: 4.5913\n",
      "Epoch 41/50\n",
      "404/404 [==============================] - 0s 210us/sample - loss: 33.6346 - mean_squared_error: 33.6346 - mean_absolute_error: 4.2073 - val_loss: 33.9733 - val_mean_squared_error: 33.9734 - val_mean_absolute_error: 4.4482\n",
      "Epoch 42/50\n",
      "404/404 [==============================] - 0s 199us/sample - loss: 30.9080 - mean_squared_error: 30.9080 - mean_absolute_error: 4.0967 - val_loss: 31.3947 - val_mean_squared_error: 31.3947 - val_mean_absolute_error: 3.8011\n",
      "Epoch 43/50\n",
      "404/404 [==============================] - 0s 207us/sample - loss: 29.7197 - mean_squared_error: 29.7197 - mean_absolute_error: 3.9252 - val_loss: 39.3214 - val_mean_squared_error: 39.3214 - val_mean_absolute_error: 4.5098\n",
      "Epoch 44/50\n",
      "404/404 [==============================] - 0s 204us/sample - loss: 28.2010 - mean_squared_error: 28.2010 - mean_absolute_error: 3.8245 - val_loss: 37.3357 - val_mean_squared_error: 37.3357 - val_mean_absolute_error: 4.3060\n",
      "Epoch 45/50\n",
      "404/404 [==============================] - 0s 195us/sample - loss: 28.6941 - mean_squared_error: 28.6941 - mean_absolute_error: 3.8521 - val_loss: 30.6408 - val_mean_squared_error: 30.6408 - val_mean_absolute_error: 3.8902\n",
      "Epoch 46/50\n",
      "404/404 [==============================] - 0s 206us/sample - loss: 32.9028 - mean_squared_error: 32.9028 - mean_absolute_error: 4.2385 - val_loss: 38.4487 - val_mean_squared_error: 38.4487 - val_mean_absolute_error: 4.7276\n",
      "Epoch 47/50\n",
      "404/404 [==============================] - 0s 229us/sample - loss: 25.9347 - mean_squared_error: 25.9347 - mean_absolute_error: 3.6399 - val_loss: 37.5930 - val_mean_squared_error: 37.5930 - val_mean_absolute_error: 4.7735\n",
      "Epoch 48/50\n",
      "404/404 [==============================] - 0s 218us/sample - loss: 31.4208 - mean_squared_error: 31.4208 - mean_absolute_error: 4.0715 - val_loss: 35.2510 - val_mean_squared_error: 35.2510 - val_mean_absolute_error: 4.6490\n",
      "Epoch 49/50\n",
      "404/404 [==============================] - 0s 210us/sample - loss: 25.2988 - mean_squared_error: 25.2988 - mean_absolute_error: 3.6267 - val_loss: 27.4120 - val_mean_squared_error: 27.4120 - val_mean_absolute_error: 3.6433\n",
      "Epoch 50/50\n",
      "404/404 [==============================] - 0s 193us/sample - loss: 24.5035 - mean_squared_error: 24.5035 - mean_absolute_error: 3.5713 - val_loss: 31.9811 - val_mean_squared_error: 31.9811 - val_mean_absolute_error: 4.3725\n"
     ]
    },
    {
     "data": {
      "text/plain": [
       "<tensorflow.python.keras.callbacks.History at 0x7f954239ef28>"
      ]
     },
     "execution_count": 5,
     "metadata": {},
     "output_type": "execute_result"
    }
   ],
   "source": [
    "# Important Hyperparameters\n",
    "inputs = x_train.shape[1]\n",
    "epochs = 50\n",
    "batch_size = 10\n",
    "\n",
    "\n",
    "# Create Model\n",
    "model = Sequential()\n",
    "model.add(Dense(64, activation='relu', input_shape=(inputs,)))\n",
    "model.add(Dense(64, activation='relu'))\n",
    "model.add(Dense(1))\n",
    "\n",
    "# Compile Model\n",
    "model.compile(optimizer='adam', loss='mse', metrics=['mse', 'mae'])\n",
    "\n",
    "# Fit Model\n",
    "model.fit(x_train, y_train, \n",
    "          validation_data=(x_test,y_test), \n",
    "          epochs=epochs, \n",
    "          batch_size=batch_size\n",
    "         )"
   ]
  },
  {
   "cell_type": "markdown",
   "metadata": {
    "colab_type": "text",
    "id": "sYJ8t_ezHP4W"
   },
   "source": [
    "### Hyperparameter Tuning Approaches:\n",
    "\n",
    "#### 1) Babysitting AKA \"Grad Student Descent\".\n",
    "\n",
    "If you fiddled with any hyperparameters yesterday, this is basically what you did. This approach is 100% manual and is pretty common among researchers where finding that 1 exact specification that jumps your model to a level of accuracy never seen before is the difference between publishing and not publishing a paper. Of course the professors don't do this themselves, that's grunt work. This is also known as the fiddle with hyperparameters until you run out of time method.\n",
    "\n",
    "#### 2) Grid Search\n",
    "\n",
    "Grid Search is the Grad Student galaxy brain realization of: why don't I just specify all the experiments I want to run and let the computer try every possible combination of them while I go and grab lunch. This has a specific downside in that if I specify 5 hyperparameters with 5 options each then I've just created 5^5 combinations of hyperparameters to check. Which means that I have to train 3125 different versions of my model Then if I use 5-fold Cross Validation on that then my model has to run 15,525 times. This is the brute-force method of hyperparameter tuning, but it can be very profitable if done wisely. \n",
    "\n",
    "When using Grid Search here's what I suggest: don't use it to test combinations of different hyperparameters, only use it to test different specifications of **a single** hyperparameter. It's rare that combinations between different hyperparameters lead to big performance gains. You'll get 90-95% of the way there if you just Grid Search one parameter and take the best result, then retain that best result while you test another, and then retain the best specification from that while you train another. This at least makes the situation much more manageable and leads to pretty good results. \n",
    "\n",
    "#### 3) Random Search\n",
    "\n",
    "Do Grid Search for a couple of hours and you'll say to yourself - \"There's got to be a better way.\" Enter Random Search. For Random search you specify a hyperparameter space and it picks specifications from that randomly, tries them out, gives you the best results and says - That's going to have to be good enough, go home and spend time with your family. \n",
    "\n",
    "Grid Search treats every parameter as if it was equally important, but this just isn't the case, some are known to move the needle a lot more than others (we'll talk about that in a minute). Random Search allows searching to be specified along the most important parameter and experiments less along the dimensions of less important hyperparameters. The downside of Random search is that it won't find the absolute best hyperparameters, but it is much less costly to perform than Grid Search. \n",
    "\n",
    "#### 4) Bayesian Methods\n",
    "\n",
    "One thing that can make more manual methods like babysitting and gridsearch effective is that as the experimenter sees results he can then make updates to his future searches taking into account the results of past specifications. If only we could hyperparameter tune our hyperparameter tuning. Well, we kind of can. Enter Bayesian Optimization. Neural Networks are like an optimization problem within an optimization problem, and Bayesian Optimization is a search strategy that tries to take into account the results of past searches in order to improve future ones. This is the most advanced method but can be a little bit tricky to implement, but there are some early steps with `hyperas` which is Bayesian optimization wrapper for `keras`. "
   ]
  },
  {
   "cell_type": "markdown",
   "metadata": {
    "colab_type": "text",
    "id": "HfQ7D043OMMn"
   },
   "source": [
    "## What Hyperparameters are there to test?\n",
    "\n",
    "- batch_size\n",
    "- training epochs\n",
    "- optimization algorithms\n",
    "- learning rate\n",
    "- momentum\n",
    "- activation functions\n",
    "- dropout regularization\n",
    "- number of neurons in the hidden layer\n",
    "\n",
    "There are more, but these are the most important."
   ]
  },
  {
   "cell_type": "markdown",
   "metadata": {},
   "source": [
    "## Follow Along"
   ]
  },
  {
   "cell_type": "markdown",
   "metadata": {
    "colab_type": "text",
    "id": "Mri5-kXzVKAa"
   },
   "source": [
    "## Batch Size\n",
    "\n",
    "Batch size determines how many observations the model is shown before it calculates loss/error and updates the model weights via gradient descent. You're looking for a sweet spot here where you're showing it enough observations that you have enough information to updates the weights, but not such a large batch size that you don't get a lot of weight update iterations performed in a given epoch. Feed-forward Neural Networks aren't as sensitive to bach_size as other networks, but it is still an important hyperparameter to tune. Smaller batch sizes will also take longer to train. "
   ]
  },
  {
   "cell_type": "code",
   "execution_count": 6,
   "metadata": {
    "colab": {
     "base_uri": "https://localhost:8080/",
     "height": 13561
    },
    "colab_type": "code",
    "id": "2smXfriNAGn7",
    "outputId": "ae996575-78e2-43fb-9dbe-5d44aaf0b430"
   },
   "outputs": [
    {
     "name": "stdout",
     "output_type": "stream",
     "text": [
      "WARNING:tensorflow:From /home/ec2-user/anaconda3/envs/tensorflow_p36/lib/python3.6/site-packages/tensorflow/python/ops/nn_impl.py:180: add_dispatch_support.<locals>.wrapper (from tensorflow.python.ops.array_ops) is deprecated and will be removed in a future version.\n",
      "Instructions for updating:\n",
      "Use tf.where in 2.0, which has the same broadcast rule as np.where\n"
     ]
    },
    {
     "name": "stderr",
     "output_type": "stream",
     "text": [
      "/home/ec2-user/anaconda3/envs/tensorflow_p36/lib/python3.6/site-packages/sklearn/model_selection/_split.py:1978: FutureWarning: The default value of cv will change from 3 to 5 in version 0.22. Specify it explicitly to silence this warning.\n",
      "  warnings.warn(CV_WARNING, FutureWarning)\n"
     ]
    },
    {
     "name": "stdout",
     "output_type": "stream",
     "text": [
      "Best: 0.6588541666666666 using {'batch_size': 10, 'epochs': 20}\n",
      "Means: 0.6588541666666666, Stdev: 0.016366933710906945 with: {'batch_size': 10, 'epochs': 20}\n",
      "Means: 0.609375, Stdev: 0.01940060472103039 with: {'batch_size': 20, 'epochs': 20}\n",
      "Means: 0.62109375, Stdev: 0.04290952357626063 with: {'batch_size': 40, 'epochs': 20}\n",
      "Means: 0.5533854166666666, Stdev: 0.01120094435812842 with: {'batch_size': 60, 'epochs': 20}\n",
      "Means: 0.5703125, Stdev: 0.03919249203982399 with: {'batch_size': 80, 'epochs': 20}\n",
      "Means: 0.5598958333333334, Stdev: 0.06768328863732827 with: {'batch_size': 100, 'epochs': 20}\n"
     ]
    }
   ],
   "source": [
    "import numpy\n",
    "import pandas as pd\n",
    "from sklearn.model_selection import GridSearchCV\n",
    "from tensorflow.keras.models import Sequential\n",
    "from tensorflow.keras.layers import Dense\n",
    "from tensorflow.keras.wrappers.scikit_learn import KerasClassifier\n",
    "\n",
    "# Fix random seed for reproducibility\n",
    "seed = 7\n",
    "numpy.random.seed(seed)\n",
    "\n",
    "# Load dataset\n",
    "url =\"https://raw.githubusercontent.com/jbrownlee/Datasets/master/pima-indians-diabetes.data.csv\"\n",
    "\n",
    "dataset = pd.read_csv(url, header=None).values\n",
    "\n",
    "# Split into input (X) and output (Y) variables\n",
    "X = dataset[:,0:8]\n",
    "Y = dataset[:,8]\n",
    "\n",
    "# Function to create model, required for KerasClassifier\n",
    "def create_model():\n",
    "    # create model\n",
    "    model = Sequential()\n",
    "    model.add(Dense(12, input_dim=8, activation='relu'))\n",
    "    model.add(Dense(1, activation='sigmoid'))\n",
    "    # Compile model\n",
    "    model.compile(loss='binary_crossentropy', optimizer='adam', metrics=['accuracy'])\n",
    "    return model\n",
    "\n",
    "# Create model\n",
    "model = KerasClassifier(build_fn=create_model, verbose=0)\n",
    "\n",
    "# Define the grid search parameters\n",
    "# batch_size = [10, 20, 40, 60, 80, 100]\n",
    "# param_grid = dict(batch_size=batch_size, epochs=epochs)\n",
    "\n",
    "# Define the grid search parameters\n",
    "param_grid = {'batch_size': [10, 20, 40, 60, 80, 100],\n",
    "              'epochs': [20]}\n",
    "\n",
    "# Create Grid Search\n",
    "grid = GridSearchCV(estimator=model, param_grid=param_grid, n_jobs=1)\n",
    "grid_result = grid.fit(X, Y)\n",
    "\n",
    "# Report Results\n",
    "print(f\"Best: {grid_result.best_score_} using {grid_result.best_params_}\")\n",
    "means = grid_result.cv_results_['mean_test_score']\n",
    "stds = grid_result.cv_results_['std_test_score']\n",
    "params = grid_result.cv_results_['params']\n",
    "for mean, stdev, param in zip(means, stds, params):\n",
    "    print(f\"Means: {mean}, Stdev: {stdev} with: {param}\") "
   ]
  },
  {
   "cell_type": "markdown",
   "metadata": {
    "colab_type": "text",
    "id": "pmABfjlvXbqi"
   },
   "source": [
    "## Epochs\n",
    "\n",
    "The number of training epochs has a large and direct affect on the accuracy, However, more epochs is almost always goign to better than less epochs. This means that if you tune this parameter at the beginning and try and maintain the same value all throughout your training, you're going to be waiting a long time for each iteration of GridSearch. I suggest picking a fixed moderat # of epochs all throughout your training and then Grid Searching this parameter at the very end. "
   ]
  },
  {
   "cell_type": "code",
   "execution_count": 7,
   "metadata": {
    "colab": {
     "base_uri": "https://localhost:8080/",
     "height": 26329
    },
    "colab_type": "code",
    "id": "bAmxP3N7TmFh",
    "outputId": "3ddb08c4-51ac-4eaa-ff39-143397024544"
   },
   "outputs": [
    {
     "name": "stderr",
     "output_type": "stream",
     "text": [
      "/home/ec2-user/anaconda3/envs/tensorflow_p36/lib/python3.6/site-packages/sklearn/model_selection/_split.py:1978: FutureWarning: The default value of cv will change from 3 to 5 in version 0.22. Specify it explicitly to silence this warning.\n",
      "  warnings.warn(CV_WARNING, FutureWarning)\n"
     ]
    },
    {
     "name": "stdout",
     "output_type": "stream",
     "text": [
      "Best: 0.6966145833333334 using {'batch_size': 20, 'epochs': 200}\n",
      "Means: 0.6119791666666666, Stdev: 0.0696097208574149 with: {'batch_size': 20, 'epochs': 20}\n",
      "Means: 0.6705729166666666, Stdev: 0.016053161466065044 with: {'batch_size': 20, 'epochs': 40}\n",
      "Means: 0.6861979166666666, Stdev: 0.00736569563735987 with: {'batch_size': 20, 'epochs': 60}\n",
      "Means: 0.6966145833333334, Stdev: 0.021236336497786574 with: {'batch_size': 20, 'epochs': 200}\n"
     ]
    }
   ],
   "source": [
    "# Define the grid search parameters\n",
    "param_grid = {'batch_size': [20],\n",
    "              'epochs': [20, 40, 60,200]}\n",
    "\n",
    "# Create Grid Search\n",
    "grid = GridSearchCV(estimator=model, param_grid=param_grid, n_jobs=1)\n",
    "grid_result = grid.fit(X, Y)\n",
    "\n",
    "# Report Results\n",
    "print(f\"Best: {grid_result.best_score_} using {grid_result.best_params_}\")\n",
    "means = grid_result.cv_results_['mean_test_score']\n",
    "stds = grid_result.cv_results_['std_test_score']\n",
    "params = grid_result.cv_results_['params']\n",
    "for mean, stdev, param in zip(means, stds, params):\n",
    "    print(f\"Means: {mean}, Stdev: {stdev} with: {param}\")"
   ]
  },
  {
   "cell_type": "markdown",
   "metadata": {
    "colab_type": "text",
    "id": "EKcuY6OiaLfz"
   },
   "source": [
    "## Optimizer\n",
    "\n",
    "Remember that there's a different optimizers [optimizers](https://keras.io/optimizers/). At some point, take some time to read up on them a little bit. \"adam\" usually gives the best results. The thing to know about choosing an optimizer is that different optimizers have different hyperparameters like learning rate, momentum, etc. So based on the optimizer you choose you might also have to tune the learning rate and momentum of those optimizers after that. "
   ]
  },
  {
   "cell_type": "markdown",
   "metadata": {
    "colab_type": "text",
    "id": "DG3wq5iOaLig"
   },
   "source": [
    "## Learning Rate\n",
    "\n",
    "Remember that the Learning Rate is a hyperparameter that is specific to your gradient-descent based optimizer selection. A learning rate that is too high will cause divergent behavior, but a Learning Rate that is too low will fail to converge, again, you're looking for the sweet spot. I would start out tuning learning rates by orders of magnitude: [.001, .01, .1, .2, .3, .5] etc. I wouldn't go above .5, but you can try it and see what the behavior is like. \n",
    "\n",
    "Once you have narrowed it down, make the window even smaller and try it again. If after running the above specification your model reports that .1 is the best optimizer, then you should probably try things like [.05, .08, .1, .12, .15] to try and narrow it down. \n",
    "\n",
    "It can also be good to tune the number of epochs in combination with the learning rate since the number of iterations that you allow the learning rate to reach the minimum can determine if you have let it run long enough to converge to the minimum. "
   ]
  },
  {
   "cell_type": "markdown",
   "metadata": {
    "colab_type": "text",
    "id": "gNTBUWd1aLlA"
   },
   "source": [
    "## Momentum\n",
    "\n",
    "Momentum is a hyperparameter that is more commonly associated with Stochastic Gradient Descent. SGD is a common optimizer because it's what people understand and know, but I doubt it will get you the best results, you can try hyperparameter tuning its attributes and see if you can beat the performance from adam. Momentum is a property that decides the willingness of an optimizer to overshoot the minimum. Imagine a ball rolling down one side of a bowl and then up the opposite side a little bit before settling back to the bottom. The purpose of momentum is to try and escale local minima."
   ]
  },
  {
   "cell_type": "markdown",
   "metadata": {
    "colab_type": "text",
    "id": "xnEG-bCJaLnZ"
   },
   "source": [
    "## Activation Functions\n",
    "\n",
    "We've talked about this a little bit, typically you'l want to use ReLU for hidden layers and either Sigmoid, or Softmax for output layers of binary and multi-class classification implementations respectively, but try other activation functions and see if you can get any better results with sigmoid or tanh or something. There are a lot of activation functions that we haven't really talked about. Maybe you'll get good results with them. Maybe you won't. :) <https://keras.io/activations/>"
   ]
  },
  {
   "cell_type": "markdown",
   "metadata": {
    "colab_type": "text",
    "id": "oul9sPq-dU-h"
   },
   "source": [
    "## Network Weight Initialization\n",
    "\n",
    "You saw how big of an effect the way that we initialize our network's weights can have on our results. There are **a lot** of what are called initialization modes. I don't understand all of them, but they can have a big affect on your model's initial accuracy. Your model will get further with less epochs if you initialize it with weights that are well suited to the problem you're trying to solve.\n",
    "\n",
    "`init_mode = ['uniform', 'lecun_uniform', 'normal', 'zero', 'glorot_normal', 'glorot_uniform', 'he_normal', 'he_uniform']`"
   ]
  },
  {
   "cell_type": "markdown",
   "metadata": {
    "colab_type": "text",
    "id": "bqtEuxeQaLqE"
   },
   "source": [
    "## Dropout Regularization and the Weight Constraint\n",
    "\n",
    "the Dropout Regularization value is a percentage of neurons that you want to be randomly deactivated during training. The weight constraint is a second regularization parameter that works in tandem with dropout regularization. You should tune these two values at the same time. \n",
    "\n",
    "Using dropout on visible vs hidden layers might have a different effect. Using dropout on hidden layers might not have any effect while using dropout on hidden layers might have a substantial effect. You don't necessarily need to turn use dropout unless you see that your model has overfitting and generalizability problems."
   ]
  },
  {
   "cell_type": "markdown",
   "metadata": {
    "colab_type": "text",
    "id": "P2c5Cv6oaLtO"
   },
   "source": [
    "## Neurons in Hidden Layer \n",
    "\n",
    "Remember that when we only had a single perceptron our model was only able to fit to linearly separable data, but as we have added layers and nodes to those layers our network has become a powerhouse of fitting nonlinearity in data. The larger the network and the more nodes generally the stronger the network's capacity to fit nonlinear patterns in data. The more nodes and layers the longer it will take to train a network, and higher the probability of overfitting. The larger your network gets the more you'll need dropout regularization or other regularization techniques to keep it in check. \n",
    "\n",
    "Typically depth (more layers) is more important than width (more nodes) for neural networks. This is part of why Deep Learning is so highly touted. Certain deep learning architectures have truly been huge breakthroughs for certain machine learning tasks. \n",
    "\n",
    "You might borrow ideas from other network architectures. For example if I was doing image recognition and I wasn't taking cues from state of the art architectures like resnet, alexnet, googlenet, etc. Then I'm probably going to have to do a lot more experimentation on my own before I find something that works.\n",
    "\n",
    "There are some heuristics, but I am highly skeptical of them. I think you're better off experimenting on your own and forming your own intuition for these kinds of problems. \n",
    "\n",
    "- https://machinelearningmastery.com/how-to-configure-the-number-of-layers-and-nodes-in-a-neural-network/"
   ]
  },
  {
   "cell_type": "markdown",
   "metadata": {},
   "source": [
    "## Challenge\n",
    "You will be expected to tune several hyperparameters in today's module project. "
   ]
  },
  {
   "cell_type": "markdown",
   "metadata": {},
   "source": [
    "# Experiment Tracking Framework (Learn)\n",
    "<a id=\"p2\"></a>"
   ]
  },
  {
   "cell_type": "markdown",
   "metadata": {},
   "source": [
    "## Overview\n",
    "\n",
    "You will notice quickly that managing the results of all the experiments you are running becomes challenging. Which set of parameters did the best? Are my results today different than my results yesterday? Although we use Ipython Notebooks to work, the format is not well suited to logging experimental results. Enter experiment tracking frameworks like [Comet.ml](https://comet.ml) and [Weights and Biases](https://wandb.ai/).\n",
    "\n",
    "Those tools will help you track your experiments, store the results, and the code associated with those experiments. Experimental results can also be readily visualized to see changes in performance across any metric you care about. Data is sent to the tool as each epoch is completed, so you can also see if your model is converging. Let's check out Weights & Biases today. "
   ]
  },
  {
   "cell_type": "markdown",
   "metadata": {},
   "source": [
    "## Follow Along\n",
    "\n",
    "Make sure you login into `wandb` in the terminal before running the next cell. "
   ]
  },
  {
   "cell_type": "code",
   "execution_count": null,
   "metadata": {},
   "outputs": [],
   "source": [
    "!pip install wandb"
   ]
  },
  {
   "cell_type": "code",
   "execution_count": 9,
   "metadata": {},
   "outputs": [
    {
     "name": "stdout",
     "output_type": "stream",
     "text": [
      "\u001b[34m\u001b[1mwandb\u001b[0m: Appending key for api.wandb.ai to your netrc file: /home/ec2-user/.netrc\n",
      "\u001b[32mSuccessfully logged in to Weights & Biases!\u001b[0m\n"
     ]
    }
   ],
   "source": [
    "!wandb login e66516a62b23055259a035846a1afcf84a6b08c0"
   ]
  },
  {
   "cell_type": "code",
   "execution_count": 3,
   "metadata": {},
   "outputs": [],
   "source": [
    "import wandb\n",
    "from wandb.keras import WandbCallback"
   ]
  },
  {
   "cell_type": "code",
   "execution_count": null,
   "metadata": {
    "colab": {
     "base_uri": "https://localhost:8080/",
     "height": 1750
    },
    "colab_type": "code",
    "id": "GMXVfmzXp1Oo",
    "outputId": "b05e251e-508f-46e6-865b-f869ae2a5dc4"
   },
   "outputs": [],
   "source": [
    "wandb.init(project=\"inclass\", entity=\"ds8\") #Initializes an Experiment\n",
    "\n",
    "# Important Hyperparameters\n",
    "X =  x_train\n",
    "y =  y_train\n",
    "\n",
    "inputs = X.shape[1]\n",
    "wandb.config.epochs = 50\n",
    "wandb.config.batch_size = 10\n",
    "\n",
    "# Create Model\n",
    "model = Sequential()\n",
    "model.add(Dense(64, activation='relu', input_shape=(inputs,)))\n",
    "model.add(Dense(64, activation='relu'))\n",
    "model.add(Dense(6ss4, activation='relu'))\n",
    "model.add(Dense(1))\n",
    "# Compile Model\n",
    "model.compile(optimizer='adam', loss='mse', metrics=['mse', 'mae'])\n",
    "\n",
    "# Fit Model\n",
    "model.fit(X, y, \n",
    "          validation_split=0.33, \n",
    "          epochs=wandb.config.epochs, \n",
    "          batch_size=wandb.config.batch_size, \n",
    "          callbacks=[WandbCallback()]\n",
    "         )"
   ]
  },
  {
   "cell_type": "markdown",
   "metadata": {},
   "source": [
    "## Challenge\n",
    "\n",
    "You will be expected to use Weights & Biases to try to tune your model during your module assignment today. "
   ]
  },
  {
   "cell_type": "markdown",
   "metadata": {},
   "source": [
    "# Hyperparameters with RandomSearchCV (Learn)"
   ]
  },
  {
   "cell_type": "markdown",
   "metadata": {},
   "source": [
    "## Overview\n",
    "\n",
    "Basically `GridSearchCV` takes forever. You'll want to adopt a slightly more sophiscated strategy."
   ]
  },
  {
   "cell_type": "markdown",
   "metadata": {},
   "source": [
    "## Follow Along"
   ]
  },
  {
   "cell_type": "code",
   "execution_count": 5,
   "metadata": {},
   "outputs": [],
   "source": [
    "sweep_config = {\n",
    "    'method': 'random',\n",
    "    'parameters': {\n",
    "        'learning_rate': {'distribution': 'normal'},\n",
    "        'epochs': {'distribution': 'uniform',\n",
    "                    'min': 100,\n",
    "                    'max': 1000},\n",
    "        'batch_size': {'distribution': 'uniform',\n",
    "            'min': 10,\n",
    "            'max': 400}\n",
    "    }\n",
    "}"
   ]
  },
  {
   "cell_type": "code",
   "execution_count": 6,
   "metadata": {},
   "outputs": [
    {
     "name": "stdout",
     "output_type": "stream",
     "text": [
      "Create sweep with ID: lt67n9ep\n",
      "Sweep URL: https://app.wandb.ai/ds8/inclass/sweeps/lt67n9ep\n"
     ]
    }
   ],
   "source": [
    "sweep_id = wandb.sweep(sweep_config)"
   ]
  },
  {
   "cell_type": "code",
   "execution_count": 11,
   "metadata": {},
   "outputs": [],
   "source": [
    "from tensorflow.keras.optimizers import Adam\n",
    "\n",
    "# Important Hyperparameters\n",
    "X =  x_train\n",
    "y =  y_train\n",
    "\n",
    "inputs = X.shape[1]\n",
    "\n",
    "def train():\n",
    "    \n",
    "    wandb.init(project=\"inclass\", entity=\"ds8\") \n",
    "    \n",
    "    config = wandb.config\n",
    "\n",
    "    # Create Model\n",
    "    model = Sequential()\n",
    "    model.add(Dense(64, activation=\"relu\", input_shape=(inputs,)))\n",
    "    model.add(Dense(32, activation=\"relu\"))\n",
    "    model.add(Dense(16, activation=\"relu\"))\n",
    "    model.add(Dense(1))\n",
    "\n",
    "    # Optimizer \n",
    "    adam = Adam(learning_rate=config.get.learning_rate)\n",
    "\n",
    "    # Compile Model\n",
    "    model.compile(optimizer=\"adam\", loss=\"mse\", metrics=[\"mse\", \"mae\"])\n",
    "\n",
    "    # Fit Model\n",
    "    model.fit(X, y, \n",
    "              validation_split=0.33, \n",
    "              epochs=config.epochs, \n",
    "              batch_size=config.batch_size, \n",
    "              callbacks=[WandbCallback()]\n",
    "             )"
   ]
  },
  {
   "cell_type": "code",
   "execution_count": 12,
   "metadata": {},
   "outputs": [
    {
     "name": "stderr",
     "output_type": "stream",
     "text": [
      "Failed to query for notebook name, you can set it manually with the WANDB_NOTEBOOK_NAME environment variable\n"
     ]
    },
    {
     "name": "stdout",
     "output_type": "stream",
     "text": [
      "wandb: Agent Starting Run: s8bicmju with config:\n",
      "\tbatch_size: 308.78107500732233\n",
      "\tepochs: 662.7230777879525\n",
      "\tlearning_rate: 1.0009168198874747\n"
     ]
    },
    {
     "name": "stderr",
     "output_type": "stream",
     "text": [
      "Error generating diff: Command '['git', 'diff', '--submodule=diff', 'HEAD']' timed out after 5 seconds\n"
     ]
    },
    {
     "name": "stdout",
     "output_type": "stream",
     "text": [
      "wandb: Agent Started Run: s8bicmju\n"
     ]
    },
    {
     "data": {
      "text/html": [
       "\n",
       "                Logging results to <a href=\"https://wandb.com\" target=\"_blank\">Weights & Biases</a> <a href=\"https://docs.wandb.com/integrations/jupyter.html\" target=\"_blank\">(Documentation)</a>.<br/>\n",
       "                Project page: <a href=\"https://app.wandb.ai/ds8/inclass\" target=\"_blank\">https://app.wandb.ai/ds8/inclass</a><br/>\n",
       "                Run page: <a href=\"https://app.wandb.ai/ds8/inclass/runs/uhe3imrx\" target=\"_blank\">https://app.wandb.ai/ds8/inclass/runs/uhe3imrx</a><br/>\n",
       "            "
      ],
      "text/plain": [
       "<IPython.core.display.HTML object>"
      ]
     },
     "metadata": {},
     "output_type": "display_data"
    },
    {
     "name": "stderr",
     "output_type": "stream",
     "text": [
      "Failed to query for notebook name, you can set it manually with the WANDB_NOTEBOOK_NAME environment variable\n",
      "Error generating diff: Command '['git', 'diff', '--submodule=diff', 'HEAD']' timed out after 5 seconds\n",
      "Process Process-3:\n",
      "Traceback (most recent call last):\n",
      "  File \"/home/ec2-user/anaconda3/envs/tensorflow_p36/lib/python3.6/multiprocessing/process.py\", line 258, in _bootstrap\n",
      "    self.run()\n",
      "  File \"/home/ec2-user/anaconda3/envs/tensorflow_p36/lib/python3.6/multiprocessing/process.py\", line 93, in run\n",
      "    self._target(*self._args, **self._kwargs)\n",
      "  File \"/home/ec2-user/anaconda3/envs/tensorflow_p36/lib/python3.6/site-packages/wandb/wandb_agent.py\", line 62, in _start\n",
      "    function()\n",
      "  File \"<ipython-input-11-32612f71e2ab>\", line 23, in train\n",
      "    adam = Adam(learning_rate=config.parameters.learning_rate)\n",
      "  File \"/home/ec2-user/anaconda3/envs/tensorflow_p36/lib/python3.6/site-packages/wandb/wandb_config.py\", line 212, in __getattr__\n",
      "    return self.__getitem__(key)\n",
      "  File \"/home/ec2-user/anaconda3/envs/tensorflow_p36/lib/python3.6/site-packages/wandb/wandb_config.py\", line 202, in __getitem__\n",
      "    return self._items[key]\n",
      "KeyError: 'parameters'\n",
      "wandb: Ctrl-c pressed. Waiting for runs to end. Press ctrl-c again to terminate them.\n"
     ]
    }
   ],
   "source": [
    "wandb.agent(sweep_id, function=train)"
   ]
  },
  {
   "cell_type": "markdown",
   "metadata": {},
   "source": [
    "## Challenge\n",
    "\n",
    "Try to apply RandomSearchCV to your module project today. "
   ]
  },
  {
   "cell_type": "markdown",
   "metadata": {},
   "source": [
    "# Review\n",
    "* <a href=\"#p1\">Part 1</a>: Describe the major hyperparemeters to tune\n",
    "    - Activation Functions\n",
    "    - Optimizer\n",
    "    - Number of Layers\n",
    "    - Number of Neurons\n",
    "    - Batch Size\n",
    "    - Dropout Regulaization\n",
    "    - Learning Rate\n",
    "    - Number of Epochs\n",
    "    - and many more\n",
    "* <a href=\"#p2\">Part 2</a>: Implement an experiment tracking framework\n",
    "    - Weights & Biases\n",
    "    - Comet.ml\n",
    "    - By Hand / GridSearch\n",
    "* <a href=\"#p3\">Part 3</a>: Search the hyperparameter space using RandomSearch\n",
    "    - Sklearn still useful (haha)\n",
    "    - Integration with Wieghts & Biases\n",
    "* <a href=\"#p4\">Part 4</a>: Discuss emerging hyperparameter tuning strategies\n",
    "    - Bayesian Optimization\n",
    "    - Hyperopt\n",
    "    - Genetic Evolution"
   ]
  },
  {
   "cell_type": "markdown",
   "metadata": {},
   "source": [
    "# Sources"
   ]
  },
  {
   "cell_type": "markdown",
   "metadata": {},
   "source": [
    "## Additional Reading\n",
    "- https://machinelearningmastery.com/grid-search-hyperparameters-deep-learning-models-python-keras/\n",
    "- https://blog.floydhub.com/guide-to-hyperparameters-search-for-deep-learning-models/\n",
    "- https://machinelearningmastery.com/dropout-regularization-deep-learning-models-keras/\n",
    "- https://machinelearningmastery.com/introduction-to-weight-constraints-to-reduce-generalization-error-in-deep-learning/\n",
    "- https://machinelearningmastery.com/how-to-configure-the-number-of-layers-and-nodes-in-a-neural-network/"
   ]
  }
 ],
 "metadata": {
  "kernelspec": {
   "display_name": "conda_tensorflow_p36",
   "language": "python",
   "name": "conda_tensorflow_p36"
  },
  "language_info": {
   "codemirror_mode": {
    "name": "ipython",
    "version": 3
   },
   "file_extension": ".py",
   "mimetype": "text/x-python",
   "name": "python",
   "nbconvert_exporter": "python",
   "pygments_lexer": "ipython3",
   "version": "3.6.5"
  },
  "toc-showmarkdowntxt": false
 },
 "nbformat": 4,
 "nbformat_minor": 4
}
