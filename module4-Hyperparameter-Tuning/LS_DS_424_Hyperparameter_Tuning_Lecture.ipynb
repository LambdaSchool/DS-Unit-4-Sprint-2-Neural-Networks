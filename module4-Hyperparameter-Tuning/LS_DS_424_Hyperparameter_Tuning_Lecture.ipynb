{
  "nbformat": 4,
  "nbformat_minor": 0,
  "metadata": {
    "kernelspec": {
      "display_name": "U4-S2-NNF-DS12",
      "language": "python",
      "name": "u4-s2-nnf-ds12"
    },
    "language_info": {
      "codemirror_mode": {
        "name": "ipython",
        "version": 3
      },
      "file_extension": ".py",
      "mimetype": "text/x-python",
      "name": "python",
      "nbconvert_exporter": "python",
      "pygments_lexer": "ipython3",
      "version": "3.7.7"
    },
    "colab": {
      "name": "LS_DS_424_Hyperparameter_Tuning_Lecture.ipynb",
      "provenance": [],
      "collapsed_sections": [],
      "include_colab_link": true
    },
    "accelerator": "GPU"
  },
  "cells": [
    {
      "cell_type": "markdown",
      "metadata": {
        "id": "view-in-github",
        "colab_type": "text"
      },
      "source": [
        "<a href=\"https://colab.research.google.com/github/Lord-Kanzler/DS-Unit-4-Sprint-2-Neural-Networks/blob/master/module4-Hyperparameter-Tuning/LS_DS_424_Hyperparameter_Tuning_Lecture.ipynb\" target=\"_parent\"><img src=\"https://colab.research.google.com/assets/colab-badge.svg\" alt=\"Open In Colab\"/></a>"
      ]
    },
    {
      "cell_type": "markdown",
      "metadata": {
        "colab_type": "text",
        "id": "41TS0Sa0rDNx"
      },
      "source": [
        "Lambda School Data Science\n",
        "\n",
        "*Unit 4, Sprint 2, Module 4*\n",
        "\n",
        "---"
      ]
    },
    {
      "cell_type": "markdown",
      "metadata": {
        "colab_type": "text",
        "id": "-EXFnE2SNJWx"
      },
      "source": [
        "# Neural Networks & GPUs (Prepare)\n",
        "*aka Hyperparameter Tuning*\n",
        "\n",
        "*aka Big Servers for Big Problems*"
      ]
    },
    {
      "cell_type": "markdown",
      "metadata": {
        "colab_type": "text",
        "id": "SoU8bqfiNJWy"
      },
      "source": [
        "## Learning Objectives\n",
        "* <a href=\"#p1\">Part 1</a>: Describe the major hyperparemeters to tune\n",
        "* <a href=\"#p2\">Part 2</a>: Implement an experiment tracking framework\n",
        "* <a href=\"#p3\">Part 3</a>: Search the hyperparameter space using RandomSearch (Optional)"
      ]
    },
    {
      "cell_type": "code",
      "metadata": {
        "id": "K8CcRWO0NJWy",
        "colab_type": "code",
        "colab": {}
      },
      "source": [
        "wandb_group = \"ds13\"\n",
        "wandb_project = \"ds13_inclass\""
      ],
      "execution_count": 0,
      "outputs": []
    },
    {
      "cell_type": "code",
      "metadata": {
        "id": "vTb45YEDBH4e",
        "colab_type": "code",
        "outputId": "6eadad13-8e24-48c6-c107-941cf9958ce1",
        "colab": {
          "base_uri": "https://localhost:8080/",
          "height": 1000
        }
      },
      "source": [
        "!pip install wandb"
      ],
      "execution_count": 2,
      "outputs": [
        {
          "output_type": "stream",
          "text": [
            "Collecting wandb\n",
            "\u001b[?25l  Downloading https://files.pythonhosted.org/packages/d1/c7/8bf2c62c3f133f45e135a8a116e4e0f162043248e3db54de30996eaf1a8a/wandb-0.8.36-py2.py3-none-any.whl (1.4MB)\n",
            "\r\u001b[K     |▎                               | 10kB 20.6MB/s eta 0:00:01\r\u001b[K     |▌                               | 20kB 4.3MB/s eta 0:00:01\r\u001b[K     |▊                               | 30kB 5.3MB/s eta 0:00:01\r\u001b[K     |█                               | 40kB 5.4MB/s eta 0:00:01\r\u001b[K     |█▏                              | 51kB 4.8MB/s eta 0:00:01\r\u001b[K     |█▍                              | 61kB 5.3MB/s eta 0:00:01\r\u001b[K     |█▋                              | 71kB 5.5MB/s eta 0:00:01\r\u001b[K     |██                              | 81kB 5.9MB/s eta 0:00:01\r\u001b[K     |██▏                             | 92kB 6.0MB/s eta 0:00:01\r\u001b[K     |██▍                             | 102kB 5.9MB/s eta 0:00:01\r\u001b[K     |██▋                             | 112kB 5.9MB/s eta 0:00:01\r\u001b[K     |██▉                             | 122kB 5.9MB/s eta 0:00:01\r\u001b[K     |███                             | 133kB 5.9MB/s eta 0:00:01\r\u001b[K     |███▎                            | 143kB 5.9MB/s eta 0:00:01\r\u001b[K     |███▌                            | 153kB 5.9MB/s eta 0:00:01\r\u001b[K     |███▉                            | 163kB 5.9MB/s eta 0:00:01\r\u001b[K     |████                            | 174kB 5.9MB/s eta 0:00:01\r\u001b[K     |████▎                           | 184kB 5.9MB/s eta 0:00:01\r\u001b[K     |████▌                           | 194kB 5.9MB/s eta 0:00:01\r\u001b[K     |████▊                           | 204kB 5.9MB/s eta 0:00:01\r\u001b[K     |█████                           | 215kB 5.9MB/s eta 0:00:01\r\u001b[K     |█████▏                          | 225kB 5.9MB/s eta 0:00:01\r\u001b[K     |█████▍                          | 235kB 5.9MB/s eta 0:00:01\r\u001b[K     |█████▊                          | 245kB 5.9MB/s eta 0:00:01\r\u001b[K     |██████                          | 256kB 5.9MB/s eta 0:00:01\r\u001b[K     |██████▏                         | 266kB 5.9MB/s eta 0:00:01\r\u001b[K     |██████▍                         | 276kB 5.9MB/s eta 0:00:01\r\u001b[K     |██████▋                         | 286kB 5.9MB/s eta 0:00:01\r\u001b[K     |██████▉                         | 296kB 5.9MB/s eta 0:00:01\r\u001b[K     |███████                         | 307kB 5.9MB/s eta 0:00:01\r\u001b[K     |███████▍                        | 317kB 5.9MB/s eta 0:00:01\r\u001b[K     |███████▋                        | 327kB 5.9MB/s eta 0:00:01\r\u001b[K     |███████▉                        | 337kB 5.9MB/s eta 0:00:01\r\u001b[K     |████████                        | 348kB 5.9MB/s eta 0:00:01\r\u001b[K     |████████▎                       | 358kB 5.9MB/s eta 0:00:01\r\u001b[K     |████████▌                       | 368kB 5.9MB/s eta 0:00:01\r\u001b[K     |████████▊                       | 378kB 5.9MB/s eta 0:00:01\r\u001b[K     |█████████                       | 389kB 5.9MB/s eta 0:00:01\r\u001b[K     |█████████▎                      | 399kB 5.9MB/s eta 0:00:01\r\u001b[K     |█████████▌                      | 409kB 5.9MB/s eta 0:00:01\r\u001b[K     |█████████▊                      | 419kB 5.9MB/s eta 0:00:01\r\u001b[K     |██████████                      | 430kB 5.9MB/s eta 0:00:01\r\u001b[K     |██████████▏                     | 440kB 5.9MB/s eta 0:00:01\r\u001b[K     |██████████▍                     | 450kB 5.9MB/s eta 0:00:01\r\u001b[K     |██████████▋                     | 460kB 5.9MB/s eta 0:00:01\r\u001b[K     |██████████▉                     | 471kB 5.9MB/s eta 0:00:01\r\u001b[K     |███████████▏                    | 481kB 5.9MB/s eta 0:00:01\r\u001b[K     |███████████▍                    | 491kB 5.9MB/s eta 0:00:01\r\u001b[K     |███████████▋                    | 501kB 5.9MB/s eta 0:00:01\r\u001b[K     |███████████▉                    | 512kB 5.9MB/s eta 0:00:01\r\u001b[K     |████████████                    | 522kB 5.9MB/s eta 0:00:01\r\u001b[K     |████████████▎                   | 532kB 5.9MB/s eta 0:00:01\r\u001b[K     |████████████▌                   | 542kB 5.9MB/s eta 0:00:01\r\u001b[K     |████████████▊                   | 552kB 5.9MB/s eta 0:00:01\r\u001b[K     |█████████████                   | 563kB 5.9MB/s eta 0:00:01\r\u001b[K     |█████████████▎                  | 573kB 5.9MB/s eta 0:00:01\r\u001b[K     |█████████████▌                  | 583kB 5.9MB/s eta 0:00:01\r\u001b[K     |█████████████▊                  | 593kB 5.9MB/s eta 0:00:01\r\u001b[K     |██████████████                  | 604kB 5.9MB/s eta 0:00:01\r\u001b[K     |██████████████▏                 | 614kB 5.9MB/s eta 0:00:01\r\u001b[K     |██████████████▍                 | 624kB 5.9MB/s eta 0:00:01\r\u001b[K     |██████████████▊                 | 634kB 5.9MB/s eta 0:00:01\r\u001b[K     |███████████████                 | 645kB 5.9MB/s eta 0:00:01\r\u001b[K     |███████████████▏                | 655kB 5.9MB/s eta 0:00:01\r\u001b[K     |███████████████▍                | 665kB 5.9MB/s eta 0:00:01\r\u001b[K     |███████████████▋                | 675kB 5.9MB/s eta 0:00:01\r\u001b[K     |███████████████▉                | 686kB 5.9MB/s eta 0:00:01\r\u001b[K     |████████████████                | 696kB 5.9MB/s eta 0:00:01\r\u001b[K     |████████████████▎               | 706kB 5.9MB/s eta 0:00:01\r\u001b[K     |████████████████▋               | 716kB 5.9MB/s eta 0:00:01\r\u001b[K     |████████████████▉               | 727kB 5.9MB/s eta 0:00:01\r\u001b[K     |█████████████████               | 737kB 5.9MB/s eta 0:00:01\r\u001b[K     |█████████████████▎              | 747kB 5.9MB/s eta 0:00:01\r\u001b[K     |█████████████████▌              | 757kB 5.9MB/s eta 0:00:01\r\u001b[K     |█████████████████▊              | 768kB 5.9MB/s eta 0:00:01\r\u001b[K     |██████████████████              | 778kB 5.9MB/s eta 0:00:01\r\u001b[K     |██████████████████▏             | 788kB 5.9MB/s eta 0:00:01\r\u001b[K     |██████████████████▌             | 798kB 5.9MB/s eta 0:00:01\r\u001b[K     |██████████████████▊             | 808kB 5.9MB/s eta 0:00:01\r\u001b[K     |███████████████████             | 819kB 5.9MB/s eta 0:00:01\r\u001b[K     |███████████████████▏            | 829kB 5.9MB/s eta 0:00:01\r\u001b[K     |███████████████████▍            | 839kB 5.9MB/s eta 0:00:01\r\u001b[K     |███████████████████▋            | 849kB 5.9MB/s eta 0:00:01\r\u001b[K     |███████████████████▉            | 860kB 5.9MB/s eta 0:00:01\r\u001b[K     |████████████████████            | 870kB 5.9MB/s eta 0:00:01\r\u001b[K     |████████████████████▍           | 880kB 5.9MB/s eta 0:00:01\r\u001b[K     |████████████████████▋           | 890kB 5.9MB/s eta 0:00:01\r\u001b[K     |████████████████████▉           | 901kB 5.9MB/s eta 0:00:01\r\u001b[K     |█████████████████████           | 911kB 5.9MB/s eta 0:00:01\r\u001b[K     |█████████████████████▎          | 921kB 5.9MB/s eta 0:00:01\r\u001b[K     |█████████████████████▌          | 931kB 5.9MB/s eta 0:00:01\r\u001b[K     |█████████████████████▊          | 942kB 5.9MB/s eta 0:00:01\r\u001b[K     |██████████████████████          | 952kB 5.9MB/s eta 0:00:01\r\u001b[K     |██████████████████████▎         | 962kB 5.9MB/s eta 0:00:01\r\u001b[K     |██████████████████████▌         | 972kB 5.9MB/s eta 0:00:01\r\u001b[K     |██████████████████████▊         | 983kB 5.9MB/s eta 0:00:01\r\u001b[K     |███████████████████████         | 993kB 5.9MB/s eta 0:00:01\r\u001b[K     |███████████████████████▏        | 1.0MB 5.9MB/s eta 0:00:01\r\u001b[K     |███████████████████████▍        | 1.0MB 5.9MB/s eta 0:00:01\r\u001b[K     |███████████████████████▋        | 1.0MB 5.9MB/s eta 0:00:01\r\u001b[K     |████████████████████████        | 1.0MB 5.9MB/s eta 0:00:01\r\u001b[K     |████████████████████████▏       | 1.0MB 5.9MB/s eta 0:00:01\r\u001b[K     |████████████████████████▍       | 1.1MB 5.9MB/s eta 0:00:01\r\u001b[K     |████████████████████████▋       | 1.1MB 5.9MB/s eta 0:00:01\r\u001b[K     |████████████████████████▉       | 1.1MB 5.9MB/s eta 0:00:01\r\u001b[K     |█████████████████████████       | 1.1MB 5.9MB/s eta 0:00:01\r\u001b[K     |█████████████████████████▎      | 1.1MB 5.9MB/s eta 0:00:01\r\u001b[K     |█████████████████████████▌      | 1.1MB 5.9MB/s eta 0:00:01\r\u001b[K     |█████████████████████████▉      | 1.1MB 5.9MB/s eta 0:00:01\r\u001b[K     |██████████████████████████      | 1.1MB 5.9MB/s eta 0:00:01\r\u001b[K     |██████████████████████████▎     | 1.1MB 5.9MB/s eta 0:00:01\r\u001b[K     |██████████████████████████▌     | 1.1MB 5.9MB/s eta 0:00:01\r\u001b[K     |██████████████████████████▊     | 1.2MB 5.9MB/s eta 0:00:01\r\u001b[K     |███████████████████████████     | 1.2MB 5.9MB/s eta 0:00:01\r\u001b[K     |███████████████████████████▏    | 1.2MB 5.9MB/s eta 0:00:01\r\u001b[K     |███████████████████████████▍    | 1.2MB 5.9MB/s eta 0:00:01\r\u001b[K     |███████████████████████████▊    | 1.2MB 5.9MB/s eta 0:00:01\r\u001b[K     |████████████████████████████    | 1.2MB 5.9MB/s eta 0:00:01\r\u001b[K     |████████████████████████████▏   | 1.2MB 5.9MB/s eta 0:00:01\r\u001b[K     |████████████████████████████▍   | 1.2MB 5.9MB/s eta 0:00:01\r\u001b[K     |████████████████████████████▋   | 1.2MB 5.9MB/s eta 0:00:01\r\u001b[K     |████████████████████████████▉   | 1.2MB 5.9MB/s eta 0:00:01\r\u001b[K     |█████████████████████████████   | 1.3MB 5.9MB/s eta 0:00:01\r\u001b[K     |█████████████████████████████▍  | 1.3MB 5.9MB/s eta 0:00:01\r\u001b[K     |█████████████████████████████▋  | 1.3MB 5.9MB/s eta 0:00:01\r\u001b[K     |█████████████████████████████▉  | 1.3MB 5.9MB/s eta 0:00:01\r\u001b[K     |██████████████████████████████  | 1.3MB 5.9MB/s eta 0:00:01\r\u001b[K     |██████████████████████████████▎ | 1.3MB 5.9MB/s eta 0:00:01\r\u001b[K     |██████████████████████████████▌ | 1.3MB 5.9MB/s eta 0:00:01\r\u001b[K     |██████████████████████████████▊ | 1.3MB 5.9MB/s eta 0:00:01\r\u001b[K     |███████████████████████████████ | 1.3MB 5.9MB/s eta 0:00:01\r\u001b[K     |███████████████████████████████▎| 1.4MB 5.9MB/s eta 0:00:01\r\u001b[K     |███████████████████████████████▌| 1.4MB 5.9MB/s eta 0:00:01\r\u001b[K     |███████████████████████████████▊| 1.4MB 5.9MB/s eta 0:00:01\r\u001b[K     |████████████████████████████████| 1.4MB 5.9MB/s eta 0:00:01\r\u001b[K     |████████████████████████████████| 1.4MB 5.9MB/s \n",
            "\u001b[?25hRequirement already satisfied: nvidia-ml-py3>=7.352.0 in /usr/local/lib/python3.6/dist-packages (from wandb) (7.352.0)\n",
            "Collecting gql==0.2.0\n",
            "  Downloading https://files.pythonhosted.org/packages/c4/6f/cf9a3056045518f06184e804bae89390eb706168349daa9dff8ac609962a/gql-0.2.0.tar.gz\n",
            "Requirement already satisfied: PyYAML>=3.10 in /usr/local/lib/python3.6/dist-packages (from wandb) (3.13)\n",
            "Requirement already satisfied: psutil>=5.0.0 in /usr/local/lib/python3.6/dist-packages (from wandb) (5.4.8)\n",
            "Collecting shortuuid>=0.5.0\n",
            "  Downloading https://files.pythonhosted.org/packages/25/a6/2ecc1daa6a304e7f1b216f0896b26156b78e7c38e1211e9b798b4716c53d/shortuuid-1.0.1-py3-none-any.whl\n",
            "Requirement already satisfied: six>=1.10.0 in /usr/local/lib/python3.6/dist-packages (from wandb) (1.12.0)\n",
            "Collecting sentry-sdk>=0.4.0\n",
            "\u001b[?25l  Downloading https://files.pythonhosted.org/packages/1b/95/9a20eebcedab2c1c63fad59fe19a0469edfc2a25b8576497e8084629c2ff/sentry_sdk-0.14.4-py2.py3-none-any.whl (104kB)\n",
            "\u001b[K     |████████████████████████████████| 112kB 30.7MB/s \n",
            "\u001b[?25hCollecting docker-pycreds>=0.4.0\n",
            "  Downloading https://files.pythonhosted.org/packages/f5/e8/f6bd1eee09314e7e6dee49cbe2c5e22314ccdb38db16c9fc72d2fa80d054/docker_pycreds-0.4.0-py2.py3-none-any.whl\n",
            "Collecting subprocess32>=3.5.3\n",
            "\u001b[?25l  Downloading https://files.pythonhosted.org/packages/32/c8/564be4d12629b912ea431f1a50eb8b3b9d00f1a0b1ceff17f266be190007/subprocess32-3.5.4.tar.gz (97kB)\n",
            "\u001b[K     |████████████████████████████████| 102kB 9.8MB/s \n",
            "\u001b[?25hCollecting configparser>=3.8.1\n",
            "  Downloading https://files.pythonhosted.org/packages/4b/6b/01baa293090240cf0562cc5eccb69c6f5006282127f2b846fad011305c79/configparser-5.0.0-py3-none-any.whl\n",
            "Requirement already satisfied: requests>=2.0.0 in /usr/local/lib/python3.6/dist-packages (from wandb) (2.23.0)\n",
            "Requirement already satisfied: python-dateutil>=2.6.1 in /usr/local/lib/python3.6/dist-packages (from wandb) (2.8.1)\n",
            "Collecting GitPython>=1.0.0\n",
            "\u001b[?25l  Downloading https://files.pythonhosted.org/packages/44/33/917e6fde1cad13daa7053f39b7c8af3be287314f75f1b1ea8d3fe37a8571/GitPython-3.1.2-py3-none-any.whl (451kB)\n",
            "\u001b[K     |████████████████████████████████| 460kB 15.7MB/s \n",
            "\u001b[?25hRequirement already satisfied: Click>=7.0 in /usr/local/lib/python3.6/dist-packages (from wandb) (7.1.2)\n",
            "Collecting watchdog>=0.8.3\n",
            "\u001b[?25l  Downloading https://files.pythonhosted.org/packages/73/c3/ed6d992006837e011baca89476a4bbffb0a91602432f73bd4473816c76e2/watchdog-0.10.2.tar.gz (95kB)\n",
            "\u001b[K     |████████████████████████████████| 102kB 10.8MB/s \n",
            "\u001b[?25hCollecting graphql-core<2,>=0.5.0\n",
            "\u001b[?25l  Downloading https://files.pythonhosted.org/packages/b0/89/00ad5e07524d8c523b14d70c685e0299a8b0de6d0727e368c41b89b7ed0b/graphql-core-1.1.tar.gz (70kB)\n",
            "\u001b[K     |████████████████████████████████| 71kB 8.1MB/s \n",
            "\u001b[?25hRequirement already satisfied: promise<3,>=2.0 in /usr/local/lib/python3.6/dist-packages (from gql==0.2.0->wandb) (2.3)\n",
            "Requirement already satisfied: certifi in /usr/local/lib/python3.6/dist-packages (from sentry-sdk>=0.4.0->wandb) (2020.4.5.1)\n",
            "Requirement already satisfied: urllib3>=1.10.0 in /usr/local/lib/python3.6/dist-packages (from sentry-sdk>=0.4.0->wandb) (1.24.3)\n",
            "Requirement already satisfied: idna<3,>=2.5 in /usr/local/lib/python3.6/dist-packages (from requests>=2.0.0->wandb) (2.9)\n",
            "Requirement already satisfied: chardet<4,>=3.0.2 in /usr/local/lib/python3.6/dist-packages (from requests>=2.0.0->wandb) (3.0.4)\n",
            "Collecting gitdb<5,>=4.0.1\n",
            "\u001b[?25l  Downloading https://files.pythonhosted.org/packages/48/11/d1800bca0a3bae820b84b7d813ad1eff15a48a64caea9c823fc8c1b119e8/gitdb-4.0.5-py3-none-any.whl (63kB)\n",
            "\u001b[K     |████████████████████████████████| 71kB 9.1MB/s \n",
            "\u001b[?25hCollecting pathtools>=0.1.1\n",
            "  Downloading https://files.pythonhosted.org/packages/e7/7f/470d6fcdf23f9f3518f6b0b76be9df16dcc8630ad409947f8be2eb0ed13a/pathtools-0.1.2.tar.gz\n",
            "Collecting smmap<4,>=3.0.1\n",
            "  Downloading https://files.pythonhosted.org/packages/b0/9a/4d409a6234eb940e6a78dfdfc66156e7522262f5f2fecca07dc55915952d/smmap-3.0.4-py2.py3-none-any.whl\n",
            "Building wheels for collected packages: gql, subprocess32, watchdog, graphql-core, pathtools\n",
            "  Building wheel for gql (setup.py) ... \u001b[?25l\u001b[?25hdone\n",
            "  Created wheel for gql: filename=gql-0.2.0-cp36-none-any.whl size=7630 sha256=28abdacbaed4a63b2ffc23197cadaca74717069eef8f10fb37917dad0584ba04\n",
            "  Stored in directory: /root/.cache/pip/wheels/ce/0e/7b/58a8a5268655b3ad74feef5aa97946f0addafb3cbb6bd2da23\n",
            "  Building wheel for subprocess32 (setup.py) ... \u001b[?25l\u001b[?25hdone\n",
            "  Created wheel for subprocess32: filename=subprocess32-3.5.4-cp36-none-any.whl size=6489 sha256=a0afb9685ba829dd11fe9db152090f86821424a4749da2f3e2572d97d4a9defb\n",
            "  Stored in directory: /root/.cache/pip/wheels/68/39/1a/5e402bdfdf004af1786c8b853fd92f8c4a04f22aad179654d1\n",
            "  Building wheel for watchdog (setup.py) ... \u001b[?25l\u001b[?25hdone\n",
            "  Created wheel for watchdog: filename=watchdog-0.10.2-cp36-none-any.whl size=73605 sha256=170e31eee42644813db80edbc9ccb9aa09defdebcc208dcf04b8042980a370c0\n",
            "  Stored in directory: /root/.cache/pip/wheels/bc/ed/6c/028dea90d31b359cd2a7c8b0da4db80e41d24a59614154072e\n",
            "  Building wheel for graphql-core (setup.py) ... \u001b[?25l\u001b[?25hdone\n",
            "  Created wheel for graphql-core: filename=graphql_core-1.1-cp36-none-any.whl size=104650 sha256=f6bec16194c3d788131ca75ec1c22548705727f2713b0b06e5775153015c097f\n",
            "  Stored in directory: /root/.cache/pip/wheels/45/99/d7/c424029bb0fe910c63b68dbf2aa20d3283d023042521bcd7d5\n",
            "  Building wheel for pathtools (setup.py) ... \u001b[?25l\u001b[?25hdone\n",
            "  Created wheel for pathtools: filename=pathtools-0.1.2-cp36-none-any.whl size=8784 sha256=3f6e8286960f78172c652e569a34386df97dd7a0b2366c7fa13335ba7fb2ad4f\n",
            "  Stored in directory: /root/.cache/pip/wheels/0b/04/79/c3b0c3a0266a3cb4376da31e5bfe8bba0c489246968a68e843\n",
            "Successfully built gql subprocess32 watchdog graphql-core pathtools\n",
            "Installing collected packages: graphql-core, gql, shortuuid, sentry-sdk, docker-pycreds, subprocess32, configparser, smmap, gitdb, GitPython, pathtools, watchdog, wandb\n",
            "Successfully installed GitPython-3.1.2 configparser-5.0.0 docker-pycreds-0.4.0 gitdb-4.0.5 gql-0.2.0 graphql-core-1.1 pathtools-0.1.2 sentry-sdk-0.14.4 shortuuid-1.0.1 smmap-3.0.4 subprocess32-3.5.4 wandb-0.8.36 watchdog-0.10.2\n"
          ],
          "name": "stdout"
        }
      ]
    },
    {
      "cell_type": "code",
      "metadata": {
        "id": "EYDBZq6tByMU",
        "colab_type": "code",
        "outputId": "c813faed-1215-4005-c102-7f5cad3a4cea",
        "colab": {
          "base_uri": "https://localhost:8080/",
          "height": 52
        }
      },
      "source": [
        "!wandb login 224a2331cac7dba3ed537322eddc6d6b21d59bed"
      ],
      "execution_count": 3,
      "outputs": [
        {
          "output_type": "stream",
          "text": [
            "\u001b[34m\u001b[1mwandb\u001b[0m: Appending key for api.wandb.ai to your netrc file: /root/.netrc\n",
            "\u001b[32mSuccessfully logged in to Weights & Biases!\u001b[0m\n"
          ],
          "name": "stdout"
        }
      ]
    },
    {
      "cell_type": "markdown",
      "metadata": {
        "id": "jXKQFKRhNJW1",
        "colab_type": "text"
      },
      "source": [
        "# Hyperparameter Options (Learn)\n",
        "<a id=\"p1\"></a>"
      ]
    },
    {
      "cell_type": "markdown",
      "metadata": {
        "id": "ZtH7esmFNJW1",
        "colab_type": "text"
      },
      "source": [
        "## Overview\n",
        "\n",
        "Hyperparameter tuning is much more important with neural networks than it has been with any other models that we have considered up to this point. Other supervised learning models might have a couple of parameters, but neural networks can have dozens. These can substantially affect the accuracy of our models and although it can be a time consuming process is a necessary step when working with neural networks.\n",
        "​\n",
        "Hyperparameter tuning comes with a challenge. How can we compare models specified with different hyperparameters if our model's final error metric can vary somewhat erratically? How do we avoid just getting unlucky and selecting the wrong hyperparameter? This is a problem that to a certain degree we just have to live with as we test and test again. However, we can minimize it somewhat by pairing our experiments with Cross Validation to reduce the variance of our final accuracy values."
      ]
    },
    {
      "cell_type": "markdown",
      "metadata": {
        "colab_type": "text",
        "id": "0s0o2pqBs88q"
      },
      "source": [
        "### Load Boston Housing Data"
      ]
    },
    {
      "cell_type": "code",
      "metadata": {
        "id": "zhiTzamVNJW2",
        "colab_type": "code",
        "outputId": "881a7596-efbe-47b6-c384-a062bfc87e84",
        "colab": {
          "base_uri": "https://localhost:8080/",
          "height": 52
        }
      },
      "source": [
        "from tensorflow.keras.datasets import boston_housing\n",
        "\n",
        "(x_train, y_train), (x_test, y_test) = boston_housing.load_data()"
      ],
      "execution_count": 4,
      "outputs": [
        {
          "output_type": "stream",
          "text": [
            "Downloading data from https://storage.googleapis.com/tensorflow/tf-keras-datasets/boston_housing.npz\n",
            "57344/57026 [==============================] - 0s 0us/step\n"
          ],
          "name": "stdout"
        }
      ]
    },
    {
      "cell_type": "markdown",
      "metadata": {
        "colab_type": "text",
        "id": "Pm7zow5IvaTt"
      },
      "source": [
        "### Normalizing Input Data\n",
        "\n",
        "It's not 100% necessary to normalize/scale your input data before feeding it to a neural network, the network can learn the appropriate weights to deal with data of as long as it is numerically represented,  but it is recommended as it can help **make training faster** and **reduces the chances that gradient descent might get stuck in a local optimum**.\n",
        "\n",
        "<https://stackoverflow.com/questions/4674623/why-do-we-have-to-normalize-the-input-for-an-artificial-neural-network>"
      ]
    },
    {
      "cell_type": "code",
      "metadata": {
        "id": "YvPzC2gbNJW5",
        "colab_type": "code",
        "outputId": "fbf81e83-1928-4999-e904-05bd34c77c33",
        "colab": {
          "base_uri": "https://localhost:8080/",
          "height": 550
        }
      },
      "source": [
        "from sklearn.preprocessing import StandardScaler\n",
        "\n",
        "scaler = StandardScaler()\n",
        "\n",
        "x_train = scaler.fit_transform(x_train)\n",
        "x_test = scaler.transform(x_test)\n",
        "print(x_train[:10])"
      ],
      "execution_count": 5,
      "outputs": [
        {
          "output_type": "stream",
          "text": [
            "[[-0.27224633 -0.48361547 -0.43576161 -0.25683275 -0.1652266  -0.1764426\n",
            "   0.81306188  0.1166983  -0.62624905 -0.59517003  1.14850044  0.44807713\n",
            "   0.8252202 ]\n",
            " [-0.40342651  2.99178419 -1.33391162 -0.25683275 -1.21518188  1.89434613\n",
            "  -1.91036058  1.24758524 -0.85646254 -0.34843254 -1.71818909  0.43190599\n",
            "  -1.32920239]\n",
            " [ 0.1249402  -0.48361547  1.0283258  -0.25683275  0.62864202 -1.82968811\n",
            "   1.11048828 -1.18743907  1.67588577  1.5652875   0.78447637  0.22061726\n",
            "  -1.30850006]\n",
            " [-0.40149354 -0.48361547 -0.86940196 -0.25683275 -0.3615597  -0.3245576\n",
            "  -1.23667187  1.10717989 -0.51114231 -1.094663    0.78447637  0.44807713\n",
            "  -0.65292624]\n",
            " [-0.0056343  -0.48361547  1.0283258  -0.25683275  1.32861221  0.15364225\n",
            "   0.69480801 -0.57857203  1.67588577  1.5652875   0.78447637  0.3898823\n",
            "   0.26349695]\n",
            " [-0.37502238 -0.48361547 -0.54747912 -0.25683275 -0.54935658 -0.78865126\n",
            "   0.18954148  0.48371503 -0.51114231 -0.71552978  0.51145832  0.38669063\n",
            "  -0.13812828]\n",
            " [ 0.58963463 -0.48361547  1.0283258  -0.25683275  1.21764133 -1.03127774\n",
            "   1.11048828 -1.06518235  1.67588577  1.5652875   0.78447637  0.44807713\n",
            "   1.49873604]\n",
            " [ 0.0381708  -0.48361547  1.24588095 -0.25683275  2.67733525 -1.12719983\n",
            "   1.11048828 -1.14833073 -0.51114231 -0.01744323 -1.71818909  0.44807713\n",
            "   1.88793986]\n",
            " [-0.17228416 -0.48361547  1.24588095 -0.25683275  2.67733525 -0.90150078\n",
            "   1.11048828 -1.09664657 -0.51114231 -0.01744323 -1.71818909 -1.97365769\n",
            "   0.53952803]\n",
            " [-0.22932104 -0.48361547  1.58544339 -0.25683275  0.56888847 -1.76056777\n",
            "   1.11048828 -1.13471925 -0.62624905  0.18716835  1.23950646  0.44807713\n",
            "   2.99068404]]\n"
          ],
          "name": "stdout"
        }
      ]
    },
    {
      "cell_type": "markdown",
      "metadata": {
        "colab_type": "text",
        "id": "l6hgCWbir90R"
      },
      "source": [
        "### Model Validation using an automatic verification Dataset\n",
        "\n",
        "Instead of doing seperate train test split class, Keras has a really nice feature that you can set the validation.data argument when fitting your model and Keras will take that portion of your test data and use it as a validation dataset. "
      ]
    },
    {
      "cell_type": "code",
      "metadata": {
        "colab_type": "code",
        "id": "GMXVfmzXp1Oo",
        "outputId": "d437bb3a-cba2-4fa5-c578-42ec64340945",
        "colab": {
          "base_uri": "https://localhost:8080/",
          "height": 1000
        }
      },
      "source": [
        "from tensorflow import keras\n",
        "from tensorflow.keras.models import Sequential\n",
        "from tensorflow.keras.layers import Dense\n",
        "\n",
        "# Important Hyperparameters\n",
        "inputs = x_train.shape[1]\n",
        "epochs = 75\n",
        "batch_size = 10\n",
        "\n",
        "\n",
        "# Create Model\n",
        "model = Sequential()\n",
        "model.add(Dense(64, activation='relu', input_shape=(inputs,)))\n",
        "model.add(Dense(64, activation='relu'))\n",
        "model.add(Dense(1))\n",
        "\n",
        "# Compile Model\n",
        "model.compile(optimizer='adam', loss='mse', metrics=['mse', 'mae'])\n",
        "\n",
        "# Fit Model\n",
        "model.fit(x_train, y_train, \n",
        "          validation_data=(x_test,y_test), \n",
        "          epochs=epochs, \n",
        "          batch_size=batch_size\n",
        "         )"
      ],
      "execution_count": 6,
      "outputs": [
        {
          "output_type": "stream",
          "text": [
            "Epoch 1/75\n",
            "41/41 [==============================] - 0s 9ms/step - loss: 516.8564 - mse: 516.8564 - mae: 20.8658 - val_loss: 438.6713 - val_mse: 438.6713 - val_mae: 19.1874\n",
            "Epoch 2/75\n",
            "41/41 [==============================] - 0s 4ms/step - loss: 282.4064 - mse: 282.4064 - mae: 14.6118 - val_loss: 133.3921 - val_mse: 133.3921 - val_mae: 9.8508\n",
            "Epoch 3/75\n",
            "41/41 [==============================] - 0s 4ms/step - loss: 72.2336 - mse: 72.2336 - mae: 6.4153 - val_loss: 42.5744 - val_mse: 42.5744 - val_mae: 5.3159\n",
            "Epoch 4/75\n",
            "41/41 [==============================] - 0s 5ms/step - loss: 34.8333 - mse: 34.8333 - mae: 4.2795 - val_loss: 27.6497 - val_mse: 27.6497 - val_mae: 4.1859\n",
            "Epoch 5/75\n",
            "41/41 [==============================] - 0s 5ms/step - loss: 24.8104 - mse: 24.8104 - mae: 3.4846 - val_loss: 23.9721 - val_mse: 23.9721 - val_mae: 3.8677\n",
            "Epoch 6/75\n",
            "41/41 [==============================] - 0s 4ms/step - loss: 21.0804 - mse: 21.0804 - mae: 3.1651 - val_loss: 22.5352 - val_mse: 22.5352 - val_mae: 3.6597\n",
            "Epoch 7/75\n",
            "41/41 [==============================] - 0s 4ms/step - loss: 19.2490 - mse: 19.2490 - mae: 3.0030 - val_loss: 22.0493 - val_mse: 22.0493 - val_mae: 3.5223\n",
            "Epoch 8/75\n",
            "41/41 [==============================] - 0s 5ms/step - loss: 17.3637 - mse: 17.3637 - mae: 2.8495 - val_loss: 21.9228 - val_mse: 21.9228 - val_mae: 3.4603\n",
            "Epoch 9/75\n",
            "41/41 [==============================] - 0s 5ms/step - loss: 16.2757 - mse: 16.2757 - mae: 2.7455 - val_loss: 21.8562 - val_mse: 21.8562 - val_mae: 3.4054\n",
            "Epoch 10/75\n",
            "41/41 [==============================] - 0s 4ms/step - loss: 15.1990 - mse: 15.1990 - mae: 2.7167 - val_loss: 22.1647 - val_mse: 22.1647 - val_mae: 3.3533\n",
            "Epoch 11/75\n",
            "41/41 [==============================] - 0s 4ms/step - loss: 14.2496 - mse: 14.2496 - mae: 2.6259 - val_loss: 22.0859 - val_mse: 22.0859 - val_mae: 3.3083\n",
            "Epoch 12/75\n",
            "41/41 [==============================] - 0s 5ms/step - loss: 13.5886 - mse: 13.5886 - mae: 2.5684 - val_loss: 22.8935 - val_mse: 22.8935 - val_mae: 3.3174\n",
            "Epoch 13/75\n",
            "41/41 [==============================] - 0s 5ms/step - loss: 12.8593 - mse: 12.8593 - mae: 2.4934 - val_loss: 22.6328 - val_mse: 22.6328 - val_mae: 3.2770\n",
            "Epoch 14/75\n",
            "41/41 [==============================] - 0s 5ms/step - loss: 12.2820 - mse: 12.2820 - mae: 2.4507 - val_loss: 22.1449 - val_mse: 22.1449 - val_mae: 3.2098\n",
            "Epoch 15/75\n",
            "41/41 [==============================] - 0s 4ms/step - loss: 12.0393 - mse: 12.0393 - mae: 2.4240 - val_loss: 22.7684 - val_mse: 22.7684 - val_mae: 3.2283\n",
            "Epoch 16/75\n",
            "41/41 [==============================] - 0s 4ms/step - loss: 11.5182 - mse: 11.5182 - mae: 2.4011 - val_loss: 23.1614 - val_mse: 23.1614 - val_mae: 3.2177\n",
            "Epoch 17/75\n",
            "41/41 [==============================] - 0s 5ms/step - loss: 11.2400 - mse: 11.2400 - mae: 2.3464 - val_loss: 23.2216 - val_mse: 23.2216 - val_mae: 3.2189\n",
            "Epoch 18/75\n",
            "41/41 [==============================] - 0s 4ms/step - loss: 11.0025 - mse: 11.0025 - mae: 2.3519 - val_loss: 23.2423 - val_mse: 23.2423 - val_mae: 3.1372\n",
            "Epoch 19/75\n",
            "41/41 [==============================] - 0s 4ms/step - loss: 10.6225 - mse: 10.6225 - mae: 2.2923 - val_loss: 22.8543 - val_mse: 22.8543 - val_mae: 3.1152\n",
            "Epoch 20/75\n",
            "41/41 [==============================] - 0s 4ms/step - loss: 10.3581 - mse: 10.3581 - mae: 2.2722 - val_loss: 23.7745 - val_mse: 23.7745 - val_mae: 3.1254\n",
            "Epoch 21/75\n",
            "41/41 [==============================] - 0s 5ms/step - loss: 10.3121 - mse: 10.3121 - mae: 2.2664 - val_loss: 24.0888 - val_mse: 24.0888 - val_mae: 3.1281\n",
            "Epoch 22/75\n",
            "41/41 [==============================] - 0s 4ms/step - loss: 10.0153 - mse: 10.0153 - mae: 2.2624 - val_loss: 21.8831 - val_mse: 21.8831 - val_mae: 3.0413\n",
            "Epoch 23/75\n",
            "41/41 [==============================] - 0s 4ms/step - loss: 9.8642 - mse: 9.8642 - mae: 2.2278 - val_loss: 22.3964 - val_mse: 22.3964 - val_mae: 3.0567\n",
            "Epoch 24/75\n",
            "41/41 [==============================] - 0s 4ms/step - loss: 9.6184 - mse: 9.6184 - mae: 2.2040 - val_loss: 22.4028 - val_mse: 22.4028 - val_mae: 3.0251\n",
            "Epoch 25/75\n",
            "41/41 [==============================] - 0s 5ms/step - loss: 9.4878 - mse: 9.4878 - mae: 2.1835 - val_loss: 22.7385 - val_mse: 22.7385 - val_mae: 3.0009\n",
            "Epoch 26/75\n",
            "41/41 [==============================] - 0s 5ms/step - loss: 9.6032 - mse: 9.6032 - mae: 2.2128 - val_loss: 22.9003 - val_mse: 22.9003 - val_mae: 3.0148\n",
            "Epoch 27/75\n",
            "41/41 [==============================] - 0s 4ms/step - loss: 9.2552 - mse: 9.2552 - mae: 2.1752 - val_loss: 22.1385 - val_mse: 22.1385 - val_mae: 2.9706\n",
            "Epoch 28/75\n",
            "41/41 [==============================] - 0s 4ms/step - loss: 9.1694 - mse: 9.1694 - mae: 2.1460 - val_loss: 22.8925 - val_mse: 22.8925 - val_mae: 3.0327\n",
            "Epoch 29/75\n",
            "41/41 [==============================] - 0s 4ms/step - loss: 8.8729 - mse: 8.8729 - mae: 2.1127 - val_loss: 21.7737 - val_mse: 21.7737 - val_mae: 2.9359\n",
            "Epoch 30/75\n",
            "41/41 [==============================] - 0s 5ms/step - loss: 8.7095 - mse: 8.7095 - mae: 2.0838 - val_loss: 23.8338 - val_mse: 23.8338 - val_mae: 3.1489\n",
            "Epoch 31/75\n",
            "41/41 [==============================] - 0s 5ms/step - loss: 8.7630 - mse: 8.7630 - mae: 2.1124 - val_loss: 22.3206 - val_mse: 22.3206 - val_mae: 2.9244\n",
            "Epoch 32/75\n",
            "41/41 [==============================] - 0s 4ms/step - loss: 8.5857 - mse: 8.5857 - mae: 2.0588 - val_loss: 22.5943 - val_mse: 22.5943 - val_mae: 2.9258\n",
            "Epoch 33/75\n",
            "41/41 [==============================] - 0s 4ms/step - loss: 8.6221 - mse: 8.6221 - mae: 2.1045 - val_loss: 22.2196 - val_mse: 22.2196 - val_mae: 2.9066\n",
            "Epoch 34/75\n",
            "41/41 [==============================] - 0s 5ms/step - loss: 8.5337 - mse: 8.5337 - mae: 2.0217 - val_loss: 24.7380 - val_mse: 24.7380 - val_mae: 3.1877\n",
            "Epoch 35/75\n",
            "41/41 [==============================] - 0s 5ms/step - loss: 8.5320 - mse: 8.5320 - mae: 2.0794 - val_loss: 21.6341 - val_mse: 21.6341 - val_mae: 2.9015\n",
            "Epoch 36/75\n",
            "41/41 [==============================] - 0s 5ms/step - loss: 8.1397 - mse: 8.1397 - mae: 2.0530 - val_loss: 21.4967 - val_mse: 21.4967 - val_mae: 2.8157\n",
            "Epoch 37/75\n",
            "41/41 [==============================] - 0s 4ms/step - loss: 8.1838 - mse: 8.1838 - mae: 2.0392 - val_loss: 22.9348 - val_mse: 22.9348 - val_mae: 2.9811\n",
            "Epoch 38/75\n",
            "41/41 [==============================] - 0s 4ms/step - loss: 8.3405 - mse: 8.3405 - mae: 2.0561 - val_loss: 23.3420 - val_mse: 23.3420 - val_mae: 3.0711\n",
            "Epoch 39/75\n",
            "41/41 [==============================] - 0s 4ms/step - loss: 8.1554 - mse: 8.1554 - mae: 2.0183 - val_loss: 22.7687 - val_mse: 22.7687 - val_mae: 2.9571\n",
            "Epoch 40/75\n",
            "41/41 [==============================] - 0s 5ms/step - loss: 7.8586 - mse: 7.8586 - mae: 2.0011 - val_loss: 20.9397 - val_mse: 20.9397 - val_mae: 2.8658\n",
            "Epoch 41/75\n",
            "41/41 [==============================] - 0s 5ms/step - loss: 7.8787 - mse: 7.8787 - mae: 2.0061 - val_loss: 20.0399 - val_mse: 20.0399 - val_mae: 2.7779\n",
            "Epoch 42/75\n",
            "41/41 [==============================] - 0s 5ms/step - loss: 7.5419 - mse: 7.5419 - mae: 1.9405 - val_loss: 21.1019 - val_mse: 21.1019 - val_mae: 2.8042\n",
            "Epoch 43/75\n",
            "41/41 [==============================] - 0s 4ms/step - loss: 7.7895 - mse: 7.7895 - mae: 1.9620 - val_loss: 21.7793 - val_mse: 21.7793 - val_mae: 2.8014\n",
            "Epoch 44/75\n",
            "41/41 [==============================] - 0s 4ms/step - loss: 7.7722 - mse: 7.7722 - mae: 2.0157 - val_loss: 21.2409 - val_mse: 21.2409 - val_mae: 2.8682\n",
            "Epoch 45/75\n",
            "41/41 [==============================] - 0s 5ms/step - loss: 7.4574 - mse: 7.4574 - mae: 1.9532 - val_loss: 19.6041 - val_mse: 19.6041 - val_mae: 2.7665\n",
            "Epoch 46/75\n",
            "41/41 [==============================] - 0s 5ms/step - loss: 7.4721 - mse: 7.4721 - mae: 1.9080 - val_loss: 19.2531 - val_mse: 19.2531 - val_mae: 2.6913\n",
            "Epoch 47/75\n",
            "41/41 [==============================] - 0s 4ms/step - loss: 7.5122 - mse: 7.5122 - mae: 1.9406 - val_loss: 21.0337 - val_mse: 21.0337 - val_mae: 2.7985\n",
            "Epoch 48/75\n",
            "41/41 [==============================] - 0s 4ms/step - loss: 7.1466 - mse: 7.1466 - mae: 1.8841 - val_loss: 20.1836 - val_mse: 20.1836 - val_mae: 2.7110\n",
            "Epoch 49/75\n",
            "41/41 [==============================] - 0s 5ms/step - loss: 7.3493 - mse: 7.3493 - mae: 1.9267 - val_loss: 21.1241 - val_mse: 21.1241 - val_mae: 2.8131\n",
            "Epoch 50/75\n",
            "41/41 [==============================] - 0s 4ms/step - loss: 7.4844 - mse: 7.4844 - mae: 2.0097 - val_loss: 20.6548 - val_mse: 20.6548 - val_mae: 2.8426\n",
            "Epoch 51/75\n",
            "41/41 [==============================] - 0s 5ms/step - loss: 6.8865 - mse: 6.8865 - mae: 1.8784 - val_loss: 19.1727 - val_mse: 19.1727 - val_mae: 2.6927\n",
            "Epoch 52/75\n",
            "41/41 [==============================] - 0s 5ms/step - loss: 6.8880 - mse: 6.8880 - mae: 1.8699 - val_loss: 19.0798 - val_mse: 19.0798 - val_mae: 2.6917\n",
            "Epoch 53/75\n",
            "41/41 [==============================] - 0s 5ms/step - loss: 6.9632 - mse: 6.9632 - mae: 1.8614 - val_loss: 20.4267 - val_mse: 20.4267 - val_mae: 2.8315\n",
            "Epoch 54/75\n",
            "41/41 [==============================] - 0s 4ms/step - loss: 6.7132 - mse: 6.7132 - mae: 1.8533 - val_loss: 18.5395 - val_mse: 18.5395 - val_mae: 2.6697\n",
            "Epoch 55/75\n",
            "41/41 [==============================] - 0s 4ms/step - loss: 6.7561 - mse: 6.7561 - mae: 1.8343 - val_loss: 18.8290 - val_mse: 18.8290 - val_mae: 2.7220\n",
            "Epoch 56/75\n",
            "41/41 [==============================] - 0s 5ms/step - loss: 6.6284 - mse: 6.6284 - mae: 1.8286 - val_loss: 19.9950 - val_mse: 19.9950 - val_mae: 2.8468\n",
            "Epoch 57/75\n",
            "41/41 [==============================] - 0s 5ms/step - loss: 6.6841 - mse: 6.6841 - mae: 1.8266 - val_loss: 17.9795 - val_mse: 17.9795 - val_mae: 2.6159\n",
            "Epoch 58/75\n",
            "41/41 [==============================] - 0s 5ms/step - loss: 6.4801 - mse: 6.4801 - mae: 1.8269 - val_loss: 18.5455 - val_mse: 18.5455 - val_mae: 2.7401\n",
            "Epoch 59/75\n",
            "41/41 [==============================] - 0s 4ms/step - loss: 6.7611 - mse: 6.7611 - mae: 1.8469 - val_loss: 18.3220 - val_mse: 18.3220 - val_mae: 2.6469\n",
            "Epoch 60/75\n",
            "41/41 [==============================] - 0s 4ms/step - loss: 6.3868 - mse: 6.3868 - mae: 1.7984 - val_loss: 17.4360 - val_mse: 17.4360 - val_mae: 2.6490\n",
            "Epoch 61/75\n",
            "41/41 [==============================] - 0s 5ms/step - loss: 6.3645 - mse: 6.3645 - mae: 1.7822 - val_loss: 17.5209 - val_mse: 17.5209 - val_mae: 2.6113\n",
            "Epoch 62/75\n",
            "41/41 [==============================] - 0s 5ms/step - loss: 6.1696 - mse: 6.1696 - mae: 1.7653 - val_loss: 20.3274 - val_mse: 20.3274 - val_mae: 2.8758\n",
            "Epoch 63/75\n",
            "41/41 [==============================] - 0s 5ms/step - loss: 6.4196 - mse: 6.4196 - mae: 1.8479 - val_loss: 18.4901 - val_mse: 18.4901 - val_mae: 2.7692\n",
            "Epoch 64/75\n",
            "41/41 [==============================] - 0s 4ms/step - loss: 6.3013 - mse: 6.3013 - mae: 1.7746 - val_loss: 17.8148 - val_mse: 17.8148 - val_mae: 2.6401\n",
            "Epoch 65/75\n",
            "41/41 [==============================] - 0s 4ms/step - loss: 6.1120 - mse: 6.1120 - mae: 1.7524 - val_loss: 17.2984 - val_mse: 17.2984 - val_mae: 2.5841\n",
            "Epoch 66/75\n",
            "41/41 [==============================] - 0s 4ms/step - loss: 6.0542 - mse: 6.0542 - mae: 1.7544 - val_loss: 16.7774 - val_mse: 16.7774 - val_mae: 2.6187\n",
            "Epoch 67/75\n",
            "41/41 [==============================] - 0s 5ms/step - loss: 5.8729 - mse: 5.8729 - mae: 1.7160 - val_loss: 18.2491 - val_mse: 18.2491 - val_mae: 2.6870\n",
            "Epoch 68/75\n",
            "41/41 [==============================] - 0s 4ms/step - loss: 5.9493 - mse: 5.9493 - mae: 1.7605 - val_loss: 17.6351 - val_mse: 17.6351 - val_mae: 2.6834\n",
            "Epoch 69/75\n",
            "41/41 [==============================] - 0s 5ms/step - loss: 5.9508 - mse: 5.9508 - mae: 1.7486 - val_loss: 18.1472 - val_mse: 18.1472 - val_mae: 2.6513\n",
            "Epoch 70/75\n",
            "41/41 [==============================] - 0s 4ms/step - loss: 5.6782 - mse: 5.6782 - mae: 1.6850 - val_loss: 17.7324 - val_mse: 17.7324 - val_mae: 2.6334\n",
            "Epoch 71/75\n",
            "41/41 [==============================] - 0s 5ms/step - loss: 5.6666 - mse: 5.6666 - mae: 1.6950 - val_loss: 17.0755 - val_mse: 17.0755 - val_mae: 2.5998\n",
            "Epoch 72/75\n",
            "41/41 [==============================] - 0s 5ms/step - loss: 5.6831 - mse: 5.6831 - mae: 1.6919 - val_loss: 16.7956 - val_mse: 16.7956 - val_mae: 2.5857\n",
            "Epoch 73/75\n",
            "41/41 [==============================] - 0s 4ms/step - loss: 5.3966 - mse: 5.3966 - mae: 1.6392 - val_loss: 16.7471 - val_mse: 16.7471 - val_mae: 2.5558\n",
            "Epoch 74/75\n",
            "41/41 [==============================] - 0s 5ms/step - loss: 5.6228 - mse: 5.6228 - mae: 1.6892 - val_loss: 17.0734 - val_mse: 17.0734 - val_mae: 2.6334\n",
            "Epoch 75/75\n",
            "41/41 [==============================] - 0s 4ms/step - loss: 5.6189 - mse: 5.6189 - mae: 1.6973 - val_loss: 17.5889 - val_mse: 17.5889 - val_mae: 2.6226\n"
          ],
          "name": "stdout"
        },
        {
          "output_type": "execute_result",
          "data": {
            "text/plain": [
              "<tensorflow.python.keras.callbacks.History at 0x7f80305235c0>"
            ]
          },
          "metadata": {
            "tags": []
          },
          "execution_count": 6
        }
      ]
    },
    {
      "cell_type": "markdown",
      "metadata": {
        "colab_type": "text",
        "id": "sYJ8t_ezHP4W"
      },
      "source": [
        "### Hyperparameter Tuning Approaches:\n",
        "\n",
        "#### 1) Babysitting AKA \"Grad Student Descent\".\n",
        "\n",
        "If you fiddled with any hyperparameters yesterday, this is basically what you did. This approach is 100% manual and is pretty common among researchers where finding that 1 exact specification that jumps your model to a level of accuracy never seen before is the difference between publishing and not publishing a paper. Of course the professors don't do this themselves, that's grunt work. This is also known as the fiddle with hyperparameters until you run out of time method.\n",
        "\n",
        "#### 2) Grid Search\n",
        "\n",
        "Grid Search is the Grad Student galaxy brain realization of: why don't I just specify all the experiments I want to run and let the computer try every possible combination of them while I go and grab lunch. This has a specific downside in that if I specify 5 hyperparameters with 5 options each then I've just created 5^5 combinations of hyperparameters to check. Which means that I have to train 3125 different versions of my model Then if I use 5-fold Cross Validation on that then my model has to run 15,525 times. This is the brute-force method of hyperparameter tuning, but it can be very profitable if done wisely. \n",
        "\n",
        "When using Grid Search here's what I suggest: don't use it to test combinations of different hyperparameters, only use it to test different specifications of **a single** hyperparameter. It's rare that combinations between different hyperparameters lead to big performance gains. You'll get 90-95% of the way there if you just Grid Search one parameter and take the best result, then retain that best result while you test another, and then retain the best specification from that while you train another. This at least makes the situation much more manageable and leads to pretty good results. \n",
        "\n",
        "#### 3) Random Search\n",
        "\n",
        "Do Grid Search for a couple of hours and you'll say to yourself - \"There's got to be a better way.\" Enter Random Search. For Random search you specify a hyperparameter space and it picks specifications from that randomly, tries them out, gives you the best results and says - That's going to have to be good enough, go home and spend time with your family. \n",
        "\n",
        "Grid Search treats every parameter as if it was equally important, but this just isn't the case, some are known to move the needle a lot more than others (we'll talk about that in a minute). Random Search allows searching to be specified along the most important parameter and experiments less along the dimensions of less important hyperparameters. The downside of Random search is that it won't find the absolute best hyperparameters, but it is much less costly to perform than Grid Search. \n",
        "\n",
        "#### 4) Bayesian Methods\n",
        "\n",
        "One thing that can make more manual methods like babysitting and gridsearch effective is that as the experimenter sees results he can then make updates to his future searches taking into account the results of past specifications. If only we could hyperparameter tune our hyperparameter tuning. Well, we kind of can. Enter Bayesian Optimization. Neural Networks are like an optimization problem within an optimization problem, and Bayesian Optimization is a search strategy that tries to take into account the results of past searches in order to improve future ones. Check out the new library `keras-tuner` for easy implementations of Bayesian methods. \n"
      ]
    },
    {
      "cell_type": "markdown",
      "metadata": {
        "colab_type": "text",
        "id": "HfQ7D043OMMn"
      },
      "source": [
        "## What Hyperparameters are there to test?\n",
        "\n",
        "- batch_size\n",
        "- training epochs\n",
        "- optimization algorithms\n",
        "- learning rate\n",
        "- momentum\n",
        "- activation functions\n",
        "- dropout regularization\n",
        "- number of neurons in the hidden layer\n",
        "\n",
        "There are more, but these are the most important."
      ]
    },
    {
      "cell_type": "markdown",
      "metadata": {
        "id": "KlRB_xfBNJW-",
        "colab_type": "text"
      },
      "source": [
        "## Follow Along"
      ]
    },
    {
      "cell_type": "markdown",
      "metadata": {
        "colab_type": "text",
        "id": "Mri5-kXzVKAa"
      },
      "source": [
        "## Batch Size\n",
        "\n",
        "Batch size determines how many observations the model is shown before it calculates loss/error and updates the model weights via gradient descent. You're looking for a sweet spot here where you're showing it enough observations that you have enough information to updates the weights, but not such a large batch size that you don't get a lot of weight update iterations performed in a given epoch. Feed-forward Neural Networks aren't as sensitive to bach_size as other networks, but it is still an important hyperparameter to tune. Smaller batch sizes will also take longer to train. \n",
        "\n",
        "Traditionally, batch size is set in powers of 2 starting at 32 up to 512. Keras defaults to a batch size of 32 if you do not specify it. Yann LeCun famously Twitted: \n",
        "\n",
        "> Training with large minibatches is bad for your health.\n",
        "More importantly, it's bad for your test error.\n",
        "Friends dont let friends use minibatches larger than 32.\n",
        "\n",
        "Check out this paper for more reference on his tweet. https://arxiv.org/abs/1804.07612. \n",
        "\n",
        "Check out this SO question on why batch size is typically set in powers of two: https://datascience.stackexchange.com/questions/20179/what-is-the-advantage-of-keeping-batch-size-a-power-of-2\n",
        "\n"
      ]
    },
    {
      "cell_type": "code",
      "metadata": {
        "colab_type": "code",
        "id": "2smXfriNAGn7",
        "outputId": "65904cff-cc7d-4233-f29d-7ba7218139f8",
        "colab": {
          "base_uri": "https://localhost:8080/",
          "height": 141
        }
      },
      "source": [
        "import numpy\n",
        "import pandas as pd\n",
        "from sklearn.model_selection import GridSearchCV\n",
        "from tensorflow.keras.models import Sequential\n",
        "from tensorflow.keras.layers import Dense\n",
        "from tensorflow.keras.wrappers.scikit_learn import KerasClassifier\n",
        "\n",
        "# fix random seed for reproducibility\n",
        "seed = 7\n",
        "numpy.random.seed(seed)\n",
        "\n",
        "# load dataset\n",
        "url =\"https://raw.githubusercontent.com/jbrownlee/Datasets/master/pima-indians-diabetes.data.csv\"\n",
        "\n",
        "dataset = pd.read_csv(url, header=None).values\n",
        "\n",
        "# split into input (X) and output (Y) variables\n",
        "X = dataset[:,0:8]\n",
        "Y = dataset[:,8]\n",
        "\n",
        "# Function to create model, required for KerasClassifier\n",
        "def create_model():\n",
        "    # create model\n",
        "    model = Sequential()\n",
        "    model.add(Dense(12, input_dim=8, activation='relu'))\n",
        "    model.add(Dense(1, activation='sigmoid'))\n",
        "    # Compile model\n",
        "    model.compile(loss='binary_crossentropy', optimizer='adam', metrics=['accuracy'])\n",
        "    return model\n",
        "\n",
        "# create model\n",
        "model = KerasClassifier(build_fn=create_model, verbose=0)\n",
        "\n",
        "# define the grid search parameters\n",
        "# batch_size = [10, 20, 40, 60, 80, 100]\n",
        "# param_grid = dict(batch_size=batch_size, epochs=epochs)\n",
        "\n",
        "# define the grid search parameters\n",
        "param_grid = {'batch_size': [4,8,16,32,64,128],\n",
        "              'epochs': [20]}\n",
        "\n",
        "# Create Grid Search\n",
        "grid = GridSearchCV(estimator=model, param_grid=param_grid, n_jobs=-1)\n",
        "grid_result = grid.fit(X, Y)\n",
        "\n",
        "# Report Results\n",
        "print(f\"Best: {grid_result.best_score_} using {grid_result.best_params_}\")\n",
        "means = grid_result.cv_results_['mean_test_score']\n",
        "stds = grid_result.cv_results_['std_test_score']\n",
        "params = grid_result.cv_results_['params']\n",
        "for mean, stdev, param in zip(means, stds, params):\n",
        "    print(f\"Means: {mean}, Stdev: {stdev} with: {param}\") "
      ],
      "execution_count": 7,
      "outputs": [
        {
          "output_type": "stream",
          "text": [
            "Best: 0.68755624294281 using {'batch_size': 4, 'epochs': 20}\n",
            "Means: 0.68755624294281, Stdev: 0.03138763672118965 with: {'batch_size': 4, 'epochs': 20}\n",
            "Means: 0.6576266884803772, Stdev: 0.03207099654383659 with: {'batch_size': 8, 'epochs': 20}\n",
            "Means: 0.657499372959137, Stdev: 0.0423863489453496 with: {'batch_size': 16, 'epochs': 20}\n",
            "Means: 0.5846872091293335, Stdev: 0.06746144643285906 with: {'batch_size': 32, 'epochs': 20}\n",
            "Means: 0.6275613307952881, Stdev: 0.016055060753043384 with: {'batch_size': 64, 'epochs': 20}\n",
            "Means: 0.5897886395454407, Stdev: 0.02626771405760899 with: {'batch_size': 128, 'epochs': 20}\n"
          ],
          "name": "stdout"
        }
      ]
    },
    {
      "cell_type": "markdown",
      "metadata": {
        "colab_type": "text",
        "id": "EKcuY6OiaLfz"
      },
      "source": [
        "## Optimizer\n",
        "\n",
        "Remember that there's a different optimizers [optimizers](https://keras.io/optimizers/). At some point, take some time to read up on them a little bit. \"adam\" usually gives the best results. The thing to know about choosing an optimizer is that different optimizers have different hyperparameters like learning rate, momentum, etc. So based on the optimizer you choose you might also have to tune the learning rate and momentum of those optimizers after that. "
      ]
    },
    {
      "cell_type": "markdown",
      "metadata": {
        "colab_type": "text",
        "id": "DG3wq5iOaLig"
      },
      "source": [
        "## Learning Rate\n",
        "\n",
        "Remember that the Learning Rate is a hyperparameter that is specific to your gradient-descent based optimizer selection. A learning rate that is too high will cause divergent behavior, but a Learning Rate that is too low will fail to converge, again, you're looking for the sweet spot. I would start out tuning learning rates by orders of magnitude: [.001, .01, .1, .2, .3, .5] etc. I wouldn't go above .5, but you can try it and see what the behavior is like. \n",
        "\n",
        "Once you have narrowed it down, make the window even smaller and try it again. If after running the above specification your model reports that .1 is the best optimizer, then you should probably try things like [.05, .08, .1, .12, .15] to try and narrow it down. \n",
        "\n",
        "It can also be good to tune the number of epochs in combination with the learning rate since the number of iterations that you allow the learning rate to reach the minimum can determine if you have let it run long enough to converge to the minimum. "
      ]
    },
    {
      "cell_type": "code",
      "metadata": {
        "id": "cYp8CfnGNJXC",
        "colab_type": "code",
        "outputId": "78d00d7c-0f27-41ca-9d53-d64c1ae3ca4a",
        "colab": {
          "base_uri": "https://localhost:8080/",
          "height": 105
        }
      },
      "source": [
        "from tensorflow.keras.optimizers import Adam\n",
        "\n",
        "# Function to create model, required for KerasClassifier\n",
        "def create_model(lr=0.1):\n",
        "    # create model\n",
        "    opt = Adam(learning_rate=lr)\n",
        "    model = Sequential()\n",
        "    model.add(Dense(12, input_dim=8, activation='relu'))\n",
        "    model.add(Dense(1, activation='sigmoid'))\n",
        "    # Compile model\n",
        "    model.compile(loss='binary_crossentropy', optimizer=opt, metrics=['accuracy'])\n",
        "    return model\n",
        "\n",
        "# create model\n",
        "model = KerasClassifier(build_fn=create_model, verbose=0)\n",
        "\n",
        "# define the grid search parameters\n",
        "# batch_size = [10, 20, 40, 60, 80, 100]\n",
        "# param_grid = dict(batch_size=batch_size, epochs=epochs)\n",
        "\n",
        "# define the grid search parameters\n",
        "param_grid = {'batch_size': [4],\n",
        "              'epochs': [20],\n",
        "              'lr': [0.001, 0.01, 0.1, 0.2]}\n",
        "\n",
        "# Create Grid Search\n",
        "grid = GridSearchCV(estimator=model, param_grid=param_grid, n_jobs=-1)\n",
        "grid_result = grid.fit(X, Y)\n",
        "\n",
        "# Report Results\n",
        "print(f\"Best: {grid_result.best_score_} using {grid_result.best_params_}\")\n",
        "means = grid_result.cv_results_['mean_test_score']\n",
        "stds = grid_result.cv_results_['std_test_score']\n",
        "params = grid_result.cv_results_['params']\n",
        "for mean, stdev, param in zip(means, stds, params):\n",
        "    print(f\"Means: {mean}, Stdev: {stdev} with: {param}\") "
      ],
      "execution_count": 8,
      "outputs": [
        {
          "output_type": "stream",
          "text": [
            "Best: 0.68751380443573 using {'batch_size': 4, 'epochs': 20, 'lr': 0.01}\n",
            "Means: 0.6353959918022156, Stdev: 0.04685346361528293 with: {'batch_size': 4, 'epochs': 20, 'lr': 0.001}\n",
            "Means: 0.68751380443573, Stdev: 0.03193205159061239 with: {'batch_size': 4, 'epochs': 20, 'lr': 0.01}\n",
            "Means: 0.6511586427688598, Stdev: 0.05244526932680711 with: {'batch_size': 4, 'epochs': 20, 'lr': 0.1}\n",
            "Means: 0.6511586427688598, Stdev: 0.05244526932680711 with: {'batch_size': 4, 'epochs': 20, 'lr': 0.2}\n"
          ],
          "name": "stdout"
        }
      ]
    },
    {
      "cell_type": "code",
      "metadata": {
        "id": "Lg36sdS8MdA2",
        "colab_type": "code",
        "colab": {}
      },
      "source": [
        ""
      ],
      "execution_count": 0,
      "outputs": []
    },
    {
      "cell_type": "markdown",
      "metadata": {
        "colab_type": "text",
        "id": "gNTBUWd1aLlA"
      },
      "source": [
        "## Momentum\n",
        "\n",
        "Momentum is a hyperparameter that is more commonly associated with Stochastic Gradient Descent. SGD is a common optimizer because it's what people understand and know, but I doubt it will get you the best results, you can try hyperparameter tuning its attributes and see if you can beat the performance from adam. Momentum is a property that decides the willingness of an optimizer to overshoot the minimum. Imagine a ball rolling down one side of a bowl and then up the opposite side a little bit before settling back to the bottom. The purpose of momentum is to try and escale local minima."
      ]
    },
    {
      "cell_type": "markdown",
      "metadata": {
        "colab_type": "text",
        "id": "xnEG-bCJaLnZ"
      },
      "source": [
        "## Activation Functions\n",
        "\n",
        "We've talked about this a little bit, typically you'l want to use ReLU for hidden layers and either Sigmoid, or Softmax for output layers of binary and multi-class classification implementations respectively, but try other activation functions and see if you can get any better results with sigmoid or tanh or something. There are a lot of activation functions that we haven't really talked about. Maybe you'll get good results with them. Maybe you won't. :) <https://keras.io/activations/>"
      ]
    },
    {
      "cell_type": "markdown",
      "metadata": {
        "colab_type": "text",
        "id": "oul9sPq-dU-h"
      },
      "source": [
        "## Network Weight Initialization\n",
        "\n",
        "You saw how big of an effect the way that we initialize our network's weights can have on our results. There are **a lot** of what are called initialization modes. I don't understand all of them, but they can have a big affect on your model's initial accuracy. Your model will get further with less epochs if you initialize it with weights that are well suited to the problem you're trying to solve.\n",
        "\n",
        "`init_mode = ['uniform', 'lecun_uniform', 'normal', 'zero', 'glorot_normal', 'glorot_uniform', 'he_normal', 'he_uniform']`"
      ]
    },
    {
      "cell_type": "markdown",
      "metadata": {
        "colab_type": "text",
        "id": "bqtEuxeQaLqE"
      },
      "source": [
        "## Dropout Regularization and the Weight Constraint\n",
        "\n",
        "the Dropout Regularization value is a percentage of neurons that you want to be randomly deactivated during training. The weight constraint is a second regularization parameter that works in tandem with dropout regularization. You should tune these two values at the same time. \n",
        "\n",
        "Using dropout on visible vs hidden layers might have a different effect. Using dropout on hidden layers might not have any effect while using dropout on hidden layers might have a substantial effect. You don't necessarily need to turn use dropout unless you see that your model has overfitting and generalizability problems."
      ]
    },
    {
      "cell_type": "markdown",
      "metadata": {
        "colab_type": "text",
        "id": "P2c5Cv6oaLtO"
      },
      "source": [
        "## Neurons in Hidden Layer \n",
        "\n",
        "Remember that when we only had a single perceptron our model was only able to fit to linearly separable data, but as we have added layers and nodes to those layers our network has become a powerhouse of fitting nonlinearity in data. The larger the network and the more nodes generally the stronger the network's capacity to fit nonlinear patterns in data. The more nodes and layers the longer it will take to train a network, and higher the probability of overfitting. The larger your network gets the more you'll need dropout regularization or other regularization techniques to keep it in check. \n",
        "\n",
        "Typically depth (more layers) is more important than width (more nodes) for neural networks. This is part of why Deep Learning is so highly touted. Certain deep learning architectures have truly been huge breakthroughs for certain machine learning tasks. \n",
        "\n",
        "You might borrow ideas from other network architectures. For example if I was doing image recognition and I wasn't taking cues from state of the art architectures like resnet, alexnet, googlenet, etc. Then I'm probably going to have to do a lot more experimentation on my own before I find something that works.\n",
        "\n",
        "There are some heuristics, but I am highly skeptical of them. I think you're better off experimenting on your own and forming your own intuition for these kinds of problems. \n",
        "\n",
        "- https://machinelearningmastery.com/how-to-configure-the-number-of-layers-and-nodes-in-a-neural-network/"
      ]
    },
    {
      "cell_type": "markdown",
      "metadata": {
        "id": "9-dwL4nfNJXF",
        "colab_type": "text"
      },
      "source": [
        "## Challenge\n",
        "You will be expected to tune several hyperparameters in today's module project. "
      ]
    },
    {
      "cell_type": "markdown",
      "metadata": {
        "id": "LT-golrvNJXF",
        "colab_type": "text"
      },
      "source": [
        "# Experiment Tracking Framework (Learn)\n",
        "<a id=\"p2\"></a>"
      ]
    },
    {
      "cell_type": "markdown",
      "metadata": {
        "id": "-bpmkw4NNJXG",
        "colab_type": "text"
      },
      "source": [
        "## Overview\n",
        "\n",
        "You will notice quickly that managing the results of all the experiments you are running becomes challenging. Which set of parameters did the best? Are my results today different than my results yesterday? Although we use Ipython Notebooks to work, the format is not well suited to logging experimental results. Enter experiment tracking frameworks like [Comet.ml](https://comet.ml) and [Weights and Biases](https://wandb.ai/).\n",
        "\n",
        "Those tools will help you track your experiments, store the results, and the code associated with those experiments. Experimental results can also be readily visualized to see changes in performance across any metric you care about. Data is sent to the tool as each epoch is completed, so you can also see if your model is converging. Let's check out Weights & Biases today. "
      ]
    },
    {
      "cell_type": "markdown",
      "metadata": {
        "id": "KSh2EZSINJXG",
        "colab_type": "text"
      },
      "source": [
        "## Follow Along\n",
        "\n",
        "Make sure you login into `wandb` in the terminal before running the next cell. "
      ]
    },
    {
      "cell_type": "code",
      "metadata": {
        "id": "fXU4XP2MNJXG",
        "colab_type": "code",
        "colab": {}
      },
      "source": [
        "import wandb\n",
        "from wandb.keras import WandbCallback"
      ],
      "execution_count": 0,
      "outputs": []
    },
    {
      "cell_type": "code",
      "metadata": {
        "id": "7bYOk1mynZc5",
        "colab_type": "code",
        "colab": {}
      },
      "source": [
        "wandb_group = \"ds13\"\n",
        "wandb_project = \"ds13_inclass\""
      ],
      "execution_count": 0,
      "outputs": []
    },
    {
      "cell_type": "code",
      "metadata": {
        "colab_type": "code",
        "id": "hWOQ3T5wNJXI",
        "colab": {}
      },
      "source": [
        "#wandb.init(project=wandb_project, entity=wandb_group) #Initializes and Experiment\n",
        "\n",
        "# Important Hyperparameters\n",
        "X =  x_train\n",
        "y =  y_train\n",
        "\n",
        "inputs = X.shape[1]\n",
        "wandb.config.epochs = 50\n",
        "wandb.config.batch_size = 32\n",
        "\n",
        "# Create Model\n",
        "model = Sequential()\n",
        "model.add(Dense(64, activation='relu', input_shape=(inputs,)))\n",
        "model.add(Dense(64, activation='relu'))\n",
        "model.add(Dense(64, activation='relu'))\n",
        "model.add(Dense(1))\n",
        "# Compile Model\n",
        "model.compile(optimizer='adam', loss='mse', metrics=['mse', 'mae'])\n",
        "\n",
        "# Fit Model\n",
        "model.fit(X, y, \n",
        "          validation_split=0.33, \n",
        "          epochs=wandb.config.epochs, \n",
        "          batch_size=wandb.config.batch_size, \n",
        "          callbacks=[WandbCallback()]\n",
        "         )"
      ],
      "execution_count": 0,
      "outputs": []
    },
    {
      "cell_type": "code",
      "metadata": {
        "id": "JFMxVyB0Bvat",
        "colab_type": "code",
        "colab": {}
      },
      "source": [
        "# Important Hyperparameters\n",
        "X =  x_train\n",
        "y =  y_train"
      ],
      "execution_count": 0,
      "outputs": []
    },
    {
      "cell_type": "markdown",
      "metadata": {
        "id": "aEf-wbSYNJXL",
        "colab_type": "text"
      },
      "source": [
        "### Your Turn\n",
        "\n",
        "Pick a few hyparameters that we *have not* tuned. Using the same code above, try changing a few parameters you're interested in and submitting the results to weights & biases. :) "
      ]
    },
    {
      "cell_type": "code",
      "metadata": {
        "id": "Hpa3EM7LNJXL",
        "colab_type": "code",
        "colab": {}
      },
      "source": [
        "wandb.init(project=wandb_project, entity=wandb_group) #Initializes and Experiment\n",
        "\n",
        "wandb.config.epochs = 50\n",
        "wandb.config.batch_size = 10\n",
        "\n",
        "\n",
        "# Fit Model\n",
        "model.fit(\n",
        "          callbacks=[WandbCallback()]\n",
        "         )"
      ],
      "execution_count": 0,
      "outputs": []
    },
    {
      "cell_type": "markdown",
      "metadata": {
        "id": "UGexz4BxNJXN",
        "colab_type": "text"
      },
      "source": [
        "## Challenge\n",
        "\n",
        "You will be expected to use Weights & Biases to try to tune your model during your module assignment today. "
      ]
    },
    {
      "cell_type": "markdown",
      "metadata": {
        "id": "M6pUWb9-NJXN",
        "colab_type": "text"
      },
      "source": [
        "# Hyperparameters with RandomSearchCV (Learn)"
      ]
    },
    {
      "cell_type": "markdown",
      "metadata": {
        "id": "Iz5FHMIwNJXO",
        "colab_type": "text"
      },
      "source": [
        "## Overview\n",
        "\n",
        "Basically `GridSearchCV` takes forever. You'll want to adopt a slightly more sophiscated strategy.\n",
        "\n",
        "Let's also take a look at an alternative with Keras-Tuner."
      ]
    },
    {
      "cell_type": "code",
      "metadata": {
        "id": "PB5GtYxjNJXO",
        "colab_type": "code",
        "outputId": "f9a941bd-2924-429f-9890-1dbb3288de68",
        "colab": {
          "base_uri": "https://localhost:8080/",
          "height": 283
        }
      },
      "source": [
        "!pip install keras-tuner"
      ],
      "execution_count": 13,
      "outputs": [
        {
          "output_type": "stream",
          "text": [
            "Requirement already satisfied: keras-tuner in /usr/local/lib/python3.6/dist-packages (1.0.1)\n",
            "Requirement already satisfied: tqdm in /usr/local/lib/python3.6/dist-packages (from keras-tuner) (4.41.1)\n",
            "Requirement already satisfied: scikit-learn in /usr/local/lib/python3.6/dist-packages (from keras-tuner) (0.22.2.post1)\n",
            "Requirement already satisfied: tabulate in /usr/local/lib/python3.6/dist-packages (from keras-tuner) (0.8.7)\n",
            "Requirement already satisfied: terminaltables in /usr/local/lib/python3.6/dist-packages (from keras-tuner) (3.1.0)\n",
            "Requirement already satisfied: numpy in /usr/local/lib/python3.6/dist-packages (from keras-tuner) (1.18.4)\n",
            "Requirement already satisfied: requests in /usr/local/lib/python3.6/dist-packages (from keras-tuner) (2.23.0)\n",
            "Requirement already satisfied: scipy in /usr/local/lib/python3.6/dist-packages (from keras-tuner) (1.4.1)\n",
            "Requirement already satisfied: colorama in /usr/local/lib/python3.6/dist-packages (from keras-tuner) (0.4.3)\n",
            "Requirement already satisfied: future in /usr/local/lib/python3.6/dist-packages (from keras-tuner) (0.16.0)\n",
            "Requirement already satisfied: joblib>=0.11 in /usr/local/lib/python3.6/dist-packages (from scikit-learn->keras-tuner) (0.14.1)\n",
            "Requirement already satisfied: chardet<4,>=3.0.2 in /usr/local/lib/python3.6/dist-packages (from requests->keras-tuner) (3.0.4)\n",
            "Requirement already satisfied: urllib3!=1.25.0,!=1.25.1,<1.26,>=1.21.1 in /usr/local/lib/python3.6/dist-packages (from requests->keras-tuner) (1.24.3)\n",
            "Requirement already satisfied: idna<3,>=2.5 in /usr/local/lib/python3.6/dist-packages (from requests->keras-tuner) (2.9)\n",
            "Requirement already satisfied: certifi>=2017.4.17 in /usr/local/lib/python3.6/dist-packages (from requests->keras-tuner) (2020.4.5.1)\n"
          ],
          "name": "stdout"
        }
      ]
    },
    {
      "cell_type": "markdown",
      "metadata": {
        "id": "7p8ln1IzNJXQ",
        "colab_type": "text"
      },
      "source": [
        "## Follow Along"
      ]
    },
    {
      "cell_type": "code",
      "metadata": {
        "id": "v4xONhLBNJXQ",
        "colab_type": "code",
        "colab": {}
      },
      "source": [
        "from tensorflow import keras\n",
        "from tensorflow.keras import layers\n",
        "from kerastuner.tuners import RandomSearch\n",
        "\n",
        "\"\"\"\n",
        "This model Tunes:\n",
        "- Number of Neurons in the Hidden Layer\n",
        "- Learning Rate in Adam\n",
        "\n",
        "\"\"\"\n",
        "\n",
        "def build_model(hp):\n",
        "    model = keras.Sequential()\n",
        "    model.add(layers.Dense(units=hp.Int('units',\n",
        "                                        min_value=32,\n",
        "                                        max_value=512,\n",
        "                                        step=32),\n",
        "                           activation='relu'))\n",
        "    model.add(layers.Dense(1))\n",
        "    model.compile(\n",
        "        optimizer=keras.optimizers.Adam(\n",
        "            hp.Choice('learning_rate',\n",
        "                      values=[1e-2, 1e-3, 1e-4])),\n",
        "        loss='mse',\n",
        "        metrics=['mae'])\n",
        "    \n",
        "    return model"
      ],
      "execution_count": 0,
      "outputs": []
    },
    {
      "cell_type": "code",
      "metadata": {
        "id": "dY1pkuGxNJXS",
        "colab_type": "code",
        "colab": {}
      },
      "source": [
        "tuner = RandomSearch(\n",
        "    build_model,\n",
        "    objective='val_loss',\n",
        "    max_trials=5,\n",
        "    executions_per_trial=3,\n",
        "    directory='./keras-tuner-trial',\n",
        "    project_name='helloworld')"
      ],
      "execution_count": 0,
      "outputs": []
    },
    {
      "cell_type": "code",
      "metadata": {
        "id": "lLNvZ93ANJXT",
        "colab_type": "code",
        "colab": {
          "base_uri": "https://localhost:8080/",
          "height": 277
        },
        "outputId": "ba9e285f-c5b8-433b-e38c-d80c08e92eba"
      },
      "source": [
        "tuner.search_space_summary()"
      ],
      "execution_count": 17,
      "outputs": [
        {
          "output_type": "display_data",
          "data": {
            "text/html": [
              "<span style=\"color:#4527A0\"><h1 style=\"font-size:18px\">Search space summary</h1></span>"
            ],
            "text/plain": [
              "<IPython.core.display.HTML object>"
            ]
          },
          "metadata": {
            "tags": []
          }
        },
        {
          "output_type": "display_data",
          "data": {
            "text/html": [
              "<span style=\"color:cyan\"> |-Default search space size: 2</span>"
            ],
            "text/plain": [
              "<IPython.core.display.HTML object>"
            ]
          },
          "metadata": {
            "tags": []
          }
        },
        {
          "output_type": "display_data",
          "data": {
            "text/html": [
              "<span style=\"color:#7E57C2\"><h2 style=\"font-size:16px\">units (Int)</h2></span>"
            ],
            "text/plain": [
              "<IPython.core.display.HTML object>"
            ]
          },
          "metadata": {
            "tags": []
          }
        },
        {
          "output_type": "display_data",
          "data": {
            "text/html": [
              "<span style=\"color:cyan\"> |-default: None</span>"
            ],
            "text/plain": [
              "<IPython.core.display.HTML object>"
            ]
          },
          "metadata": {
            "tags": []
          }
        },
        {
          "output_type": "display_data",
          "data": {
            "text/html": [
              "<span style=\"color:blue\"> |-max_value: 512</span>"
            ],
            "text/plain": [
              "<IPython.core.display.HTML object>"
            ]
          },
          "metadata": {
            "tags": []
          }
        },
        {
          "output_type": "display_data",
          "data": {
            "text/html": [
              "<span style=\"color:cyan\"> |-min_value: 32</span>"
            ],
            "text/plain": [
              "<IPython.core.display.HTML object>"
            ]
          },
          "metadata": {
            "tags": []
          }
        },
        {
          "output_type": "display_data",
          "data": {
            "text/html": [
              "<span style=\"color:blue\"> |-sampling: None</span>"
            ],
            "text/plain": [
              "<IPython.core.display.HTML object>"
            ]
          },
          "metadata": {
            "tags": []
          }
        },
        {
          "output_type": "display_data",
          "data": {
            "text/html": [
              "<span style=\"color:cyan\"> |-step: 32</span>"
            ],
            "text/plain": [
              "<IPython.core.display.HTML object>"
            ]
          },
          "metadata": {
            "tags": []
          }
        },
        {
          "output_type": "display_data",
          "data": {
            "text/html": [
              "<span style=\"color:#7E57C2\"><h2 style=\"font-size:16px\">learning_rate (Choice)</h2></span>"
            ],
            "text/plain": [
              "<IPython.core.display.HTML object>"
            ]
          },
          "metadata": {
            "tags": []
          }
        },
        {
          "output_type": "display_data",
          "data": {
            "text/html": [
              "<span style=\"color:cyan\"> |-default: 0.01</span>"
            ],
            "text/plain": [
              "<IPython.core.display.HTML object>"
            ]
          },
          "metadata": {
            "tags": []
          }
        },
        {
          "output_type": "display_data",
          "data": {
            "text/html": [
              "<span style=\"color:blue\"> |-ordered: True</span>"
            ],
            "text/plain": [
              "<IPython.core.display.HTML object>"
            ]
          },
          "metadata": {
            "tags": []
          }
        },
        {
          "output_type": "display_data",
          "data": {
            "text/html": [
              "<span style=\"color:cyan\"> |-values: [0.01, 0.001, 0.0001]</span>"
            ],
            "text/plain": [
              "<IPython.core.display.HTML object>"
            ]
          },
          "metadata": {
            "tags": []
          }
        }
      ]
    },
    {
      "cell_type": "code",
      "metadata": {
        "id": "_tk0m4c6NJXV",
        "colab_type": "code",
        "colab": {
          "base_uri": "https://localhost:8080/",
          "height": 1000
        },
        "outputId": "3109e75e-9ac8-45ba-ec3b-23ec95e772ca"
      },
      "source": [
        "tuner.search(X, y,\n",
        "             epochs=5,\n",
        "             validation_split=0.33)"
      ],
      "execution_count": 19,
      "outputs": [
        {
          "output_type": "stream",
          "text": [
            "Epoch 1/5\n",
            "WARNING:tensorflow:Layer dense is casting an input tensor from dtype float64 to the layer's dtype of float32, which is new behavior in TensorFlow 2.  The layer has dtype float32 because it's dtype defaults to floatx.\n",
            "\n",
            "If you intended to run this layer in float32, you can safely ignore this warning. If in doubt, this warning is likely only an issue if you are porting a TensorFlow 1.X model to TensorFlow 2.\n",
            "\n",
            "To change all layers to have dtype float64 by default, call `tf.keras.backend.set_floatx('float64')`. To change just this layer, pass dtype='float64' to the layer constructor. If you are the author of this layer, you can disable autocasting by passing autocast=False to the base Layer constructor.\n",
            "\n",
            "9/9 [==============================] - 0s 20ms/step - loss: 560.1483 - mae: 22.0118 - val_loss: 650.5809 - val_mae: 23.5465\n",
            "Epoch 2/5\n",
            "9/9 [==============================] - 0s 10ms/step - loss: 558.2936 - mae: 21.9735 - val_loss: 648.6340 - val_mae: 23.5084\n",
            "Epoch 3/5\n",
            "9/9 [==============================] - 0s 12ms/step - loss: 556.4090 - mae: 21.9355 - val_loss: 646.6820 - val_mae: 23.4702\n",
            "Epoch 4/5\n",
            "9/9 [==============================] - 0s 10ms/step - loss: 554.5535 - mae: 21.8975 - val_loss: 644.7417 - val_mae: 23.4321\n",
            "Epoch 5/5\n",
            "9/9 [==============================] - 0s 10ms/step - loss: 552.7231 - mae: 21.8598 - val_loss: 642.7869 - val_mae: 23.3937\n",
            "Epoch 1/5\n",
            "WARNING:tensorflow:Layer dense is casting an input tensor from dtype float64 to the layer's dtype of float32, which is new behavior in TensorFlow 2.  The layer has dtype float32 because it's dtype defaults to floatx.\n",
            "\n",
            "If you intended to run this layer in float32, you can safely ignore this warning. If in doubt, this warning is likely only an issue if you are porting a TensorFlow 1.X model to TensorFlow 2.\n",
            "\n",
            "To change all layers to have dtype float64 by default, call `tf.keras.backend.set_floatx('float64')`. To change just this layer, pass dtype='float64' to the layer constructor. If you are the author of this layer, you can disable autocasting by passing autocast=False to the base Layer constructor.\n",
            "\n",
            "9/9 [==============================] - 0s 17ms/step - loss: 559.6893 - mae: 21.9846 - val_loss: 647.6624 - val_mae: 23.4776\n",
            "Epoch 2/5\n",
            "9/9 [==============================] - 0s 8ms/step - loss: 557.6409 - mae: 21.9431 - val_loss: 645.4907 - val_mae: 23.4359\n",
            "Epoch 3/5\n",
            "9/9 [==============================] - 0s 9ms/step - loss: 555.5398 - mae: 21.9019 - val_loss: 643.3782 - val_mae: 23.3946\n",
            "Epoch 4/5\n",
            "9/9 [==============================] - 0s 10ms/step - loss: 553.4846 - mae: 21.8605 - val_loss: 641.2532 - val_mae: 23.3533\n",
            "Epoch 5/5\n",
            "9/9 [==============================] - 0s 9ms/step - loss: 551.4806 - mae: 21.8203 - val_loss: 639.1212 - val_mae: 23.3118\n",
            "Epoch 1/5\n",
            "WARNING:tensorflow:Layer dense is casting an input tensor from dtype float64 to the layer's dtype of float32, which is new behavior in TensorFlow 2.  The layer has dtype float32 because it's dtype defaults to floatx.\n",
            "\n",
            "If you intended to run this layer in float32, you can safely ignore this warning. If in doubt, this warning is likely only an issue if you are porting a TensorFlow 1.X model to TensorFlow 2.\n",
            "\n",
            "To change all layers to have dtype float64 by default, call `tf.keras.backend.set_floatx('float64')`. To change just this layer, pass dtype='float64' to the layer constructor. If you are the author of this layer, you can disable autocasting by passing autocast=False to the base Layer constructor.\n",
            "\n",
            "9/9 [==============================] - 0s 17ms/step - loss: 551.0783 - mae: 21.7674 - val_loss: 641.0979 - val_mae: 23.3110\n",
            "Epoch 2/5\n",
            "9/9 [==============================] - 0s 8ms/step - loss: 549.2437 - mae: 21.7286 - val_loss: 639.2150 - val_mae: 23.2730\n",
            "Epoch 3/5\n",
            "9/9 [==============================] - 0s 9ms/step - loss: 547.4323 - mae: 21.6905 - val_loss: 637.3434 - val_mae: 23.2349\n",
            "Epoch 4/5\n",
            "9/9 [==============================] - 0s 9ms/step - loss: 545.6768 - mae: 21.6525 - val_loss: 635.4531 - val_mae: 23.1969\n",
            "Epoch 5/5\n",
            "9/9 [==============================] - 0s 9ms/step - loss: 543.9000 - mae: 21.6148 - val_loss: 633.5920 - val_mae: 23.1593\n"
          ],
          "name": "stdout"
        },
        {
          "output_type": "display_data",
          "data": {
            "text/html": [
              "<span style=\"color:#4527A0\"><h1 style=\"font-size:18px\">Trial complete</h1></span>"
            ],
            "text/plain": [
              "<IPython.core.display.HTML object>"
            ]
          },
          "metadata": {
            "tags": []
          }
        },
        {
          "output_type": "display_data",
          "data": {
            "text/html": [
              "<span style=\"color:#4527A0\"><h1 style=\"font-size:18px\">Trial summary</h1></span>"
            ],
            "text/plain": [
              "<IPython.core.display.HTML object>"
            ]
          },
          "metadata": {
            "tags": []
          }
        },
        {
          "output_type": "display_data",
          "data": {
            "text/html": [
              "<span style=\"color:cyan\"> |-Trial ID: 85ceed0c48d170ec6deeca1f0908d56b</span>"
            ],
            "text/plain": [
              "<IPython.core.display.HTML object>"
            ]
          },
          "metadata": {
            "tags": []
          }
        },
        {
          "output_type": "display_data",
          "data": {
            "text/html": [
              "<span style=\"color:cyan\"> |-Score: 638.5000406901041</span>"
            ],
            "text/plain": [
              "<IPython.core.display.HTML object>"
            ]
          },
          "metadata": {
            "tags": []
          }
        },
        {
          "output_type": "display_data",
          "data": {
            "text/html": [
              "<span style=\"color:cyan\"> |-Best step: 0</span>"
            ],
            "text/plain": [
              "<IPython.core.display.HTML object>"
            ]
          },
          "metadata": {
            "tags": []
          }
        },
        {
          "output_type": "display_data",
          "data": {
            "text/html": [
              "<span style=\"color:#7E57C2\"><h2 style=\"font-size:16px\">Hyperparameters:</h2></span>"
            ],
            "text/plain": [
              "<IPython.core.display.HTML object>"
            ]
          },
          "metadata": {
            "tags": []
          }
        },
        {
          "output_type": "display_data",
          "data": {
            "text/html": [
              "<span style=\"color:cyan\"> |-learning_rate: 0.0001</span>"
            ],
            "text/plain": [
              "<IPython.core.display.HTML object>"
            ]
          },
          "metadata": {
            "tags": []
          }
        },
        {
          "output_type": "display_data",
          "data": {
            "text/html": [
              "<span style=\"color:blue\"> |-units: 96</span>"
            ],
            "text/plain": [
              "<IPython.core.display.HTML object>"
            ]
          },
          "metadata": {
            "tags": []
          }
        },
        {
          "output_type": "stream",
          "text": [
            "Epoch 1/5\n",
            "WARNING:tensorflow:Layer dense is casting an input tensor from dtype float64 to the layer's dtype of float32, which is new behavior in TensorFlow 2.  The layer has dtype float32 because it's dtype defaults to floatx.\n",
            "\n",
            "If you intended to run this layer in float32, you can safely ignore this warning. If in doubt, this warning is likely only an issue if you are porting a TensorFlow 1.X model to TensorFlow 2.\n",
            "\n",
            "To change all layers to have dtype float64 by default, call `tf.keras.backend.set_floatx('float64')`. To change just this layer, pass dtype='float64' to the layer constructor. If you are the author of this layer, you can disable autocasting by passing autocast=False to the base Layer constructor.\n",
            "\n",
            "9/9 [==============================] - 0s 18ms/step - loss: 421.8134 - mae: 18.6507 - val_loss: 284.5783 - val_mae: 14.2323\n",
            "Epoch 2/5\n",
            "9/9 [==============================] - 0s 9ms/step - loss: 119.9094 - mae: 8.7053 - val_loss: 121.6650 - val_mae: 8.7148\n",
            "Epoch 3/5\n",
            "9/9 [==============================] - 0s 10ms/step - loss: 67.7271 - mae: 6.2791 - val_loss: 52.5036 - val_mae: 5.0487\n",
            "Epoch 4/5\n",
            "9/9 [==============================] - 0s 10ms/step - loss: 27.9195 - mae: 3.7523 - val_loss: 42.8192 - val_mae: 4.1800\n",
            "Epoch 5/5\n",
            "9/9 [==============================] - 0s 9ms/step - loss: 26.0547 - mae: 3.6405 - val_loss: 33.7104 - val_mae: 3.9106\n",
            "Epoch 1/5\n",
            "WARNING:tensorflow:Layer dense is casting an input tensor from dtype float64 to the layer's dtype of float32, which is new behavior in TensorFlow 2.  The layer has dtype float32 because it's dtype defaults to floatx.\n",
            "\n",
            "If you intended to run this layer in float32, you can safely ignore this warning. If in doubt, this warning is likely only an issue if you are porting a TensorFlow 1.X model to TensorFlow 2.\n",
            "\n",
            "To change all layers to have dtype float64 by default, call `tf.keras.backend.set_floatx('float64')`. To change just this layer, pass dtype='float64' to the layer constructor. If you are the author of this layer, you can disable autocasting by passing autocast=False to the base Layer constructor.\n",
            "\n",
            "9/9 [==============================] - 0s 17ms/step - loss: 430.0941 - mae: 18.7525 - val_loss: 312.4146 - val_mae: 15.0307\n",
            "Epoch 2/5\n",
            "9/9 [==============================] - 0s 8ms/step - loss: 134.3065 - mae: 9.6242 - val_loss: 121.3116 - val_mae: 8.6591\n",
            "Epoch 3/5\n",
            "9/9 [==============================] - 0s 8ms/step - loss: 88.4799 - mae: 6.9730 - val_loss: 69.1920 - val_mae: 5.9645\n",
            "Epoch 4/5\n",
            "9/9 [==============================] - 0s 8ms/step - loss: 27.2469 - mae: 3.7387 - val_loss: 43.5008 - val_mae: 4.5094\n",
            "Epoch 5/5\n",
            "9/9 [==============================] - 0s 8ms/step - loss: 28.6674 - mae: 4.0989 - val_loss: 33.9461 - val_mae: 3.9335\n",
            "Epoch 1/5\n",
            "WARNING:tensorflow:Layer dense is casting an input tensor from dtype float64 to the layer's dtype of float32, which is new behavior in TensorFlow 2.  The layer has dtype float32 because it's dtype defaults to floatx.\n",
            "\n",
            "If you intended to run this layer in float32, you can safely ignore this warning. If in doubt, this warning is likely only an issue if you are porting a TensorFlow 1.X model to TensorFlow 2.\n",
            "\n",
            "To change all layers to have dtype float64 by default, call `tf.keras.backend.set_floatx('float64')`. To change just this layer, pass dtype='float64' to the layer constructor. If you are the author of this layer, you can disable autocasting by passing autocast=False to the base Layer constructor.\n",
            "\n",
            "9/9 [==============================] - 0s 16ms/step - loss: 401.9749 - mae: 18.2350 - val_loss: 266.4608 - val_mae: 13.3968\n",
            "Epoch 2/5\n",
            "9/9 [==============================] - 0s 8ms/step - loss: 118.3183 - mae: 8.8691 - val_loss: 135.1705 - val_mae: 9.2805\n",
            "Epoch 3/5\n",
            "9/9 [==============================] - 0s 8ms/step - loss: 68.9798 - mae: 6.4683 - val_loss: 56.8430 - val_mae: 5.3750\n",
            "Epoch 4/5\n",
            "9/9 [==============================] - 0s 9ms/step - loss: 29.0497 - mae: 3.8531 - val_loss: 46.2910 - val_mae: 4.2877\n",
            "Epoch 5/5\n",
            "9/9 [==============================] - 0s 8ms/step - loss: 25.8150 - mae: 3.5798 - val_loss: 35.8563 - val_mae: 4.0505\n"
          ],
          "name": "stdout"
        },
        {
          "output_type": "display_data",
          "data": {
            "text/html": [
              "<span style=\"color:#4527A0\"><h1 style=\"font-size:18px\">Trial complete</h1></span>"
            ],
            "text/plain": [
              "<IPython.core.display.HTML object>"
            ]
          },
          "metadata": {
            "tags": []
          }
        },
        {
          "output_type": "display_data",
          "data": {
            "text/html": [
              "<span style=\"color:#4527A0\"><h1 style=\"font-size:18px\">Trial summary</h1></span>"
            ],
            "text/plain": [
              "<IPython.core.display.HTML object>"
            ]
          },
          "metadata": {
            "tags": []
          }
        },
        {
          "output_type": "display_data",
          "data": {
            "text/html": [
              "<span style=\"color:cyan\"> |-Trial ID: ede5e3c82b8d69487dc18635000ed0e1</span>"
            ],
            "text/plain": [
              "<IPython.core.display.HTML object>"
            ]
          },
          "metadata": {
            "tags": []
          }
        },
        {
          "output_type": "display_data",
          "data": {
            "text/html": [
              "<span style=\"color:cyan\"> |-Score: 34.50425593058268</span>"
            ],
            "text/plain": [
              "<IPython.core.display.HTML object>"
            ]
          },
          "metadata": {
            "tags": []
          }
        },
        {
          "output_type": "display_data",
          "data": {
            "text/html": [
              "<span style=\"color:cyan\"> |-Best step: 0</span>"
            ],
            "text/plain": [
              "<IPython.core.display.HTML object>"
            ]
          },
          "metadata": {
            "tags": []
          }
        },
        {
          "output_type": "display_data",
          "data": {
            "text/html": [
              "<span style=\"color:#7E57C2\"><h2 style=\"font-size:16px\">Hyperparameters:</h2></span>"
            ],
            "text/plain": [
              "<IPython.core.display.HTML object>"
            ]
          },
          "metadata": {
            "tags": []
          }
        },
        {
          "output_type": "display_data",
          "data": {
            "text/html": [
              "<span style=\"color:cyan\"> |-learning_rate: 0.01</span>"
            ],
            "text/plain": [
              "<IPython.core.display.HTML object>"
            ]
          },
          "metadata": {
            "tags": []
          }
        },
        {
          "output_type": "display_data",
          "data": {
            "text/html": [
              "<span style=\"color:blue\"> |-units: 288</span>"
            ],
            "text/plain": [
              "<IPython.core.display.HTML object>"
            ]
          },
          "metadata": {
            "tags": []
          }
        },
        {
          "output_type": "stream",
          "text": [
            "Epoch 1/5\n",
            "WARNING:tensorflow:Layer dense is casting an input tensor from dtype float64 to the layer's dtype of float32, which is new behavior in TensorFlow 2.  The layer has dtype float32 because it's dtype defaults to floatx.\n",
            "\n",
            "If you intended to run this layer in float32, you can safely ignore this warning. If in doubt, this warning is likely only an issue if you are porting a TensorFlow 1.X model to TensorFlow 2.\n",
            "\n",
            "To change all layers to have dtype float64 by default, call `tf.keras.backend.set_floatx('float64')`. To change just this layer, pass dtype='float64' to the layer constructor. If you are the author of this layer, you can disable autocasting by passing autocast=False to the base Layer constructor.\n",
            "\n",
            "9/9 [==============================] - 0s 17ms/step - loss: 541.7589 - mae: 21.6496 - val_loss: 608.1638 - val_mae: 22.6710\n",
            "Epoch 2/5\n",
            "9/9 [==============================] - 0s 10ms/step - loss: 504.6646 - mae: 20.8073 - val_loss: 568.8969 - val_mae: 21.8172\n",
            "Epoch 3/5\n",
            "9/9 [==============================] - 0s 11ms/step - loss: 465.7627 - mae: 19.9057 - val_loss: 528.4215 - val_mae: 20.8904\n",
            "Epoch 4/5\n",
            "9/9 [==============================] - 0s 9ms/step - loss: 425.9038 - mae: 18.9300 - val_loss: 483.6519 - val_mae: 19.8186\n",
            "Epoch 5/5\n",
            "9/9 [==============================] - 0s 10ms/step - loss: 382.3082 - mae: 17.8103 - val_loss: 434.5342 - val_mae: 18.5746\n",
            "Epoch 1/5\n",
            "WARNING:tensorflow:Layer dense is casting an input tensor from dtype float64 to the layer's dtype of float32, which is new behavior in TensorFlow 2.  The layer has dtype float32 because it's dtype defaults to floatx.\n",
            "\n",
            "If you intended to run this layer in float32, you can safely ignore this warning. If in doubt, this warning is likely only an issue if you are porting a TensorFlow 1.X model to TensorFlow 2.\n",
            "\n",
            "To change all layers to have dtype float64 by default, call `tf.keras.backend.set_floatx('float64')`. To change just this layer, pass dtype='float64' to the layer constructor. If you are the author of this layer, you can disable autocasting by passing autocast=False to the base Layer constructor.\n",
            "\n",
            "9/9 [==============================] - 0s 15ms/step - loss: 538.9271 - mae: 21.5263 - val_loss: 602.2791 - val_mae: 22.5497\n",
            "Epoch 2/5\n",
            "9/9 [==============================] - 0s 9ms/step - loss: 500.8937 - mae: 20.7001 - val_loss: 562.2793 - val_mae: 21.7000\n",
            "Epoch 3/5\n",
            "9/9 [==============================] - 0s 9ms/step - loss: 462.2924 - mae: 19.8269 - val_loss: 519.9769 - val_mae: 20.7576\n",
            "Epoch 4/5\n",
            "9/9 [==============================] - 0s 8ms/step - loss: 419.9813 - mae: 18.8177 - val_loss: 473.3623 - val_mae: 19.6604\n",
            "Epoch 5/5\n",
            "9/9 [==============================] - 0s 9ms/step - loss: 373.5692 - mae: 17.6648 - val_loss: 422.3806 - val_mae: 18.3758\n",
            "Epoch 1/5\n",
            "WARNING:tensorflow:Layer dense is casting an input tensor from dtype float64 to the layer's dtype of float32, which is new behavior in TensorFlow 2.  The layer has dtype float32 because it's dtype defaults to floatx.\n",
            "\n",
            "If you intended to run this layer in float32, you can safely ignore this warning. If in doubt, this warning is likely only an issue if you are porting a TensorFlow 1.X model to TensorFlow 2.\n",
            "\n",
            "To change all layers to have dtype float64 by default, call `tf.keras.backend.set_floatx('float64')`. To change just this layer, pass dtype='float64' to the layer constructor. If you are the author of this layer, you can disable autocasting by passing autocast=False to the base Layer constructor.\n",
            "\n",
            "9/9 [==============================] - 0s 16ms/step - loss: 533.2986 - mae: 21.3679 - val_loss: 597.0837 - val_mae: 22.3779\n",
            "Epoch 2/5\n",
            "9/9 [==============================] - 0s 10ms/step - loss: 493.8317 - mae: 20.5027 - val_loss: 555.8194 - val_mae: 21.4852\n",
            "Epoch 3/5\n",
            "9/9 [==============================] - 0s 8ms/step - loss: 454.4335 - mae: 19.5814 - val_loss: 511.8567 - val_mae: 20.4863\n",
            "Epoch 4/5\n",
            "9/9 [==============================] - 0s 8ms/step - loss: 410.9520 - mae: 18.5250 - val_loss: 465.3271 - val_mae: 19.3485\n",
            "Epoch 5/5\n",
            "9/9 [==============================] - 0s 10ms/step - loss: 365.6551 - mae: 17.3438 - val_loss: 414.5213 - val_mae: 18.0490\n"
          ],
          "name": "stdout"
        },
        {
          "output_type": "display_data",
          "data": {
            "text/html": [
              "<span style=\"color:#4527A0\"><h1 style=\"font-size:18px\">Trial complete</h1></span>"
            ],
            "text/plain": [
              "<IPython.core.display.HTML object>"
            ]
          },
          "metadata": {
            "tags": []
          }
        },
        {
          "output_type": "display_data",
          "data": {
            "text/html": [
              "<span style=\"color:#4527A0\"><h1 style=\"font-size:18px\">Trial summary</h1></span>"
            ],
            "text/plain": [
              "<IPython.core.display.HTML object>"
            ]
          },
          "metadata": {
            "tags": []
          }
        },
        {
          "output_type": "display_data",
          "data": {
            "text/html": [
              "<span style=\"color:cyan\"> |-Trial ID: 67eb2166557553b77015e00c5d702470</span>"
            ],
            "text/plain": [
              "<IPython.core.display.HTML object>"
            ]
          },
          "metadata": {
            "tags": []
          }
        },
        {
          "output_type": "display_data",
          "data": {
            "text/html": [
              "<span style=\"color:cyan\"> |-Score: 423.81203206380206</span>"
            ],
            "text/plain": [
              "<IPython.core.display.HTML object>"
            ]
          },
          "metadata": {
            "tags": []
          }
        },
        {
          "output_type": "display_data",
          "data": {
            "text/html": [
              "<span style=\"color:cyan\"> |-Best step: 0</span>"
            ],
            "text/plain": [
              "<IPython.core.display.HTML object>"
            ]
          },
          "metadata": {
            "tags": []
          }
        },
        {
          "output_type": "display_data",
          "data": {
            "text/html": [
              "<span style=\"color:#7E57C2\"><h2 style=\"font-size:16px\">Hyperparameters:</h2></span>"
            ],
            "text/plain": [
              "<IPython.core.display.HTML object>"
            ]
          },
          "metadata": {
            "tags": []
          }
        },
        {
          "output_type": "display_data",
          "data": {
            "text/html": [
              "<span style=\"color:cyan\"> |-learning_rate: 0.001</span>"
            ],
            "text/plain": [
              "<IPython.core.display.HTML object>"
            ]
          },
          "metadata": {
            "tags": []
          }
        },
        {
          "output_type": "display_data",
          "data": {
            "text/html": [
              "<span style=\"color:blue\"> |-units: 416</span>"
            ],
            "text/plain": [
              "<IPython.core.display.HTML object>"
            ]
          },
          "metadata": {
            "tags": []
          }
        },
        {
          "output_type": "stream",
          "text": [
            "Epoch 1/5\n",
            "WARNING:tensorflow:Layer dense is casting an input tensor from dtype float64 to the layer's dtype of float32, which is new behavior in TensorFlow 2.  The layer has dtype float32 because it's dtype defaults to floatx.\n",
            "\n",
            "If you intended to run this layer in float32, you can safely ignore this warning. If in doubt, this warning is likely only an issue if you are porting a TensorFlow 1.X model to TensorFlow 2.\n",
            "\n",
            "To change all layers to have dtype float64 by default, call `tf.keras.backend.set_floatx('float64')`. To change just this layer, pass dtype='float64' to the layer constructor. If you are the author of this layer, you can disable autocasting by passing autocast=False to the base Layer constructor.\n",
            "\n",
            "9/9 [==============================] - 0s 18ms/step - loss: 547.4380 - mae: 21.7544 - val_loss: 636.7228 - val_mae: 23.2672\n",
            "Epoch 2/5\n",
            "9/9 [==============================] - 0s 10ms/step - loss: 546.5809 - mae: 21.7343 - val_loss: 635.8239 - val_mae: 23.2479\n",
            "Epoch 3/5\n",
            "9/9 [==============================] - 0s 9ms/step - loss: 545.7366 - mae: 21.7145 - val_loss: 634.9220 - val_mae: 23.2281\n",
            "Epoch 4/5\n",
            "9/9 [==============================] - 0s 10ms/step - loss: 544.8680 - mae: 21.6943 - val_loss: 634.0295 - val_mae: 23.2085\n",
            "Epoch 5/5\n",
            "9/9 [==============================] - 0s 10ms/step - loss: 544.0065 - mae: 21.6739 - val_loss: 633.1273 - val_mae: 23.1887\n",
            "Epoch 1/5\n",
            "WARNING:tensorflow:Layer dense is casting an input tensor from dtype float64 to the layer's dtype of float32, which is new behavior in TensorFlow 2.  The layer has dtype float32 because it's dtype defaults to floatx.\n",
            "\n",
            "If you intended to run this layer in float32, you can safely ignore this warning. If in doubt, this warning is likely only an issue if you are porting a TensorFlow 1.X model to TensorFlow 2.\n",
            "\n",
            "To change all layers to have dtype float64 by default, call `tf.keras.backend.set_floatx('float64')`. To change just this layer, pass dtype='float64' to the layer constructor. If you are the author of this layer, you can disable autocasting by passing autocast=False to the base Layer constructor.\n",
            "\n",
            "9/9 [==============================] - 0s 16ms/step - loss: 554.1194 - mae: 21.7847 - val_loss: 646.2348 - val_mae: 23.3529\n",
            "Epoch 2/5\n",
            "9/9 [==============================] - 0s 8ms/step - loss: 553.1637 - mae: 21.7632 - val_loss: 645.2285 - val_mae: 23.3317\n",
            "Epoch 3/5\n",
            "9/9 [==============================] - 0s 8ms/step - loss: 552.2090 - mae: 21.7416 - val_loss: 644.2261 - val_mae: 23.3102\n",
            "Epoch 4/5\n",
            "9/9 [==============================] - 0s 8ms/step - loss: 551.2651 - mae: 21.7203 - val_loss: 643.2388 - val_mae: 23.2891\n",
            "Epoch 5/5\n",
            "9/9 [==============================] - 0s 8ms/step - loss: 550.3293 - mae: 21.6988 - val_loss: 642.2381 - val_mae: 23.2680\n",
            "Epoch 1/5\n",
            "WARNING:tensorflow:Layer dense is casting an input tensor from dtype float64 to the layer's dtype of float32, which is new behavior in TensorFlow 2.  The layer has dtype float32 because it's dtype defaults to floatx.\n",
            "\n",
            "If you intended to run this layer in float32, you can safely ignore this warning. If in doubt, this warning is likely only an issue if you are porting a TensorFlow 1.X model to TensorFlow 2.\n",
            "\n",
            "To change all layers to have dtype float64 by default, call `tf.keras.backend.set_floatx('float64')`. To change just this layer, pass dtype='float64' to the layer constructor. If you are the author of this layer, you can disable autocasting by passing autocast=False to the base Layer constructor.\n",
            "\n",
            "9/9 [==============================] - 0s 18ms/step - loss: 563.1013 - mae: 22.0818 - val_loss: 650.7850 - val_mae: 23.5068\n",
            "Epoch 2/5\n",
            "9/9 [==============================] - 0s 9ms/step - loss: 561.9993 - mae: 22.0589 - val_loss: 649.6051 - val_mae: 23.4835\n",
            "Epoch 3/5\n",
            "9/9 [==============================] - 0s 8ms/step - loss: 560.8844 - mae: 22.0359 - val_loss: 648.4379 - val_mae: 23.4602\n",
            "Epoch 4/5\n",
            "9/9 [==============================] - 0s 8ms/step - loss: 559.7731 - mae: 22.0127 - val_loss: 647.2615 - val_mae: 23.4368\n",
            "Epoch 5/5\n",
            "9/9 [==============================] - 0s 8ms/step - loss: 558.6516 - mae: 21.9894 - val_loss: 646.1006 - val_mae: 23.4135\n"
          ],
          "name": "stdout"
        },
        {
          "output_type": "display_data",
          "data": {
            "text/html": [
              "<span style=\"color:#4527A0\"><h1 style=\"font-size:18px\">Trial complete</h1></span>"
            ],
            "text/plain": [
              "<IPython.core.display.HTML object>"
            ]
          },
          "metadata": {
            "tags": []
          }
        },
        {
          "output_type": "display_data",
          "data": {
            "text/html": [
              "<span style=\"color:#4527A0\"><h1 style=\"font-size:18px\">Trial summary</h1></span>"
            ],
            "text/plain": [
              "<IPython.core.display.HTML object>"
            ]
          },
          "metadata": {
            "tags": []
          }
        },
        {
          "output_type": "display_data",
          "data": {
            "text/html": [
              "<span style=\"color:cyan\"> |-Trial ID: ccad343fbdd65e7c6eaac89646eeab3f</span>"
            ],
            "text/plain": [
              "<IPython.core.display.HTML object>"
            ]
          },
          "metadata": {
            "tags": []
          }
        },
        {
          "output_type": "display_data",
          "data": {
            "text/html": [
              "<span style=\"color:cyan\"> |-Score: 640.4886474609375</span>"
            ],
            "text/plain": [
              "<IPython.core.display.HTML object>"
            ]
          },
          "metadata": {
            "tags": []
          }
        },
        {
          "output_type": "display_data",
          "data": {
            "text/html": [
              "<span style=\"color:cyan\"> |-Best step: 0</span>"
            ],
            "text/plain": [
              "<IPython.core.display.HTML object>"
            ]
          },
          "metadata": {
            "tags": []
          }
        },
        {
          "output_type": "display_data",
          "data": {
            "text/html": [
              "<span style=\"color:#7E57C2\"><h2 style=\"font-size:16px\">Hyperparameters:</h2></span>"
            ],
            "text/plain": [
              "<IPython.core.display.HTML object>"
            ]
          },
          "metadata": {
            "tags": []
          }
        },
        {
          "output_type": "display_data",
          "data": {
            "text/html": [
              "<span style=\"color:cyan\"> |-learning_rate: 0.0001</span>"
            ],
            "text/plain": [
              "<IPython.core.display.HTML object>"
            ]
          },
          "metadata": {
            "tags": []
          }
        },
        {
          "output_type": "display_data",
          "data": {
            "text/html": [
              "<span style=\"color:blue\"> |-units: 32</span>"
            ],
            "text/plain": [
              "<IPython.core.display.HTML object>"
            ]
          },
          "metadata": {
            "tags": []
          }
        },
        {
          "output_type": "stream",
          "text": [
            "Epoch 1/5\n",
            "WARNING:tensorflow:Layer dense is casting an input tensor from dtype float64 to the layer's dtype of float32, which is new behavior in TensorFlow 2.  The layer has dtype float32 because it's dtype defaults to floatx.\n",
            "\n",
            "If you intended to run this layer in float32, you can safely ignore this warning. If in doubt, this warning is likely only an issue if you are porting a TensorFlow 1.X model to TensorFlow 2.\n",
            "\n",
            "To change all layers to have dtype float64 by default, call `tf.keras.backend.set_floatx('float64')`. To change just this layer, pass dtype='float64' to the layer constructor. If you are the author of this layer, you can disable autocasting by passing autocast=False to the base Layer constructor.\n",
            "\n",
            "9/9 [==============================] - 0s 18ms/step - loss: 557.1285 - mae: 21.9647 - val_loss: 645.8967 - val_mae: 23.4511\n",
            "Epoch 2/5\n",
            "9/9 [==============================] - 0s 10ms/step - loss: 553.8633 - mae: 21.8951 - val_loss: 642.4995 - val_mae: 23.3822\n",
            "Epoch 3/5\n",
            "9/9 [==============================] - 0s 10ms/step - loss: 550.5545 - mae: 21.8256 - val_loss: 639.1277 - val_mae: 23.3136\n",
            "Epoch 4/5\n",
            "9/9 [==============================] - 0s 10ms/step - loss: 547.4810 - mae: 21.7590 - val_loss: 635.6865 - val_mae: 23.2444\n",
            "Epoch 5/5\n",
            "9/9 [==============================] - 0s 11ms/step - loss: 544.1176 - mae: 21.6896 - val_loss: 632.3978 - val_mae: 23.1764\n",
            "Epoch 1/5\n",
            "WARNING:tensorflow:Layer dense is casting an input tensor from dtype float64 to the layer's dtype of float32, which is new behavior in TensorFlow 2.  The layer has dtype float32 because it's dtype defaults to floatx.\n",
            "\n",
            "If you intended to run this layer in float32, you can safely ignore this warning. If in doubt, this warning is likely only an issue if you are porting a TensorFlow 1.X model to TensorFlow 2.\n",
            "\n",
            "To change all layers to have dtype float64 by default, call `tf.keras.backend.set_floatx('float64')`. To change just this layer, pass dtype='float64' to the layer constructor. If you are the author of this layer, you can disable autocasting by passing autocast=False to the base Layer constructor.\n",
            "\n",
            "9/9 [==============================] - 0s 16ms/step - loss: 551.0012 - mae: 21.8029 - val_loss: 637.8044 - val_mae: 23.2632\n",
            "Epoch 2/5\n",
            "9/9 [==============================] - 0s 8ms/step - loss: 547.6492 - mae: 21.7292 - val_loss: 634.3106 - val_mae: 23.1900\n",
            "Epoch 3/5\n",
            "9/9 [==============================] - 0s 9ms/step - loss: 544.2542 - mae: 21.6554 - val_loss: 630.8909 - val_mae: 23.1170\n",
            "Epoch 4/5\n",
            "9/9 [==============================] - 0s 10ms/step - loss: 540.9217 - mae: 21.5814 - val_loss: 627.4434 - val_mae: 23.0454\n",
            "Epoch 5/5\n",
            "9/9 [==============================] - 0s 11ms/step - loss: 537.7219 - mae: 21.5105 - val_loss: 624.0045 - val_mae: 22.9732\n",
            "Epoch 1/5\n",
            "WARNING:tensorflow:Layer dense is casting an input tensor from dtype float64 to the layer's dtype of float32, which is new behavior in TensorFlow 2.  The layer has dtype float32 because it's dtype defaults to floatx.\n",
            "\n",
            "If you intended to run this layer in float32, you can safely ignore this warning. If in doubt, this warning is likely only an issue if you are porting a TensorFlow 1.X model to TensorFlow 2.\n",
            "\n",
            "To change all layers to have dtype float64 by default, call `tf.keras.backend.set_floatx('float64')`. To change just this layer, pass dtype='float64' to the layer constructor. If you are the author of this layer, you can disable autocasting by passing autocast=False to the base Layer constructor.\n",
            "\n",
            "9/9 [==============================] - 0s 16ms/step - loss: 550.8663 - mae: 21.8097 - val_loss: 639.7706 - val_mae: 23.2958\n",
            "Epoch 2/5\n",
            "9/9 [==============================] - 0s 8ms/step - loss: 547.4935 - mae: 21.7376 - val_loss: 636.2593 - val_mae: 23.2249\n",
            "Epoch 3/5\n",
            "9/9 [==============================] - 0s 8ms/step - loss: 544.1155 - mae: 21.6667 - val_loss: 632.7758 - val_mae: 23.1541\n",
            "Epoch 4/5\n",
            "9/9 [==============================] - 0s 8ms/step - loss: 540.8554 - mae: 21.5959 - val_loss: 629.2655 - val_mae: 23.0824\n",
            "Epoch 5/5\n",
            "9/9 [==============================] - 0s 8ms/step - loss: 537.4503 - mae: 21.5234 - val_loss: 625.8266 - val_mae: 23.0113\n"
          ],
          "name": "stdout"
        },
        {
          "output_type": "display_data",
          "data": {
            "text/html": [
              "<span style=\"color:#4527A0\"><h1 style=\"font-size:18px\">Trial complete</h1></span>"
            ],
            "text/plain": [
              "<IPython.core.display.HTML object>"
            ]
          },
          "metadata": {
            "tags": []
          }
        },
        {
          "output_type": "display_data",
          "data": {
            "text/html": [
              "<span style=\"color:#4527A0\"><h1 style=\"font-size:18px\">Trial summary</h1></span>"
            ],
            "text/plain": [
              "<IPython.core.display.HTML object>"
            ]
          },
          "metadata": {
            "tags": []
          }
        },
        {
          "output_type": "display_data",
          "data": {
            "text/html": [
              "<span style=\"color:cyan\"> |-Trial ID: 5e6bb9572e8abce02bda29645354e570</span>"
            ],
            "text/plain": [
              "<IPython.core.display.HTML object>"
            ]
          },
          "metadata": {
            "tags": []
          }
        },
        {
          "output_type": "display_data",
          "data": {
            "text/html": [
              "<span style=\"color:cyan\"> |-Score: 627.4096272786459</span>"
            ],
            "text/plain": [
              "<IPython.core.display.HTML object>"
            ]
          },
          "metadata": {
            "tags": []
          }
        },
        {
          "output_type": "display_data",
          "data": {
            "text/html": [
              "<span style=\"color:cyan\"> |-Best step: 0</span>"
            ],
            "text/plain": [
              "<IPython.core.display.HTML object>"
            ]
          },
          "metadata": {
            "tags": []
          }
        },
        {
          "output_type": "display_data",
          "data": {
            "text/html": [
              "<span style=\"color:#7E57C2\"><h2 style=\"font-size:16px\">Hyperparameters:</h2></span>"
            ],
            "text/plain": [
              "<IPython.core.display.HTML object>"
            ]
          },
          "metadata": {
            "tags": []
          }
        },
        {
          "output_type": "display_data",
          "data": {
            "text/html": [
              "<span style=\"color:cyan\"> |-learning_rate: 0.0001</span>"
            ],
            "text/plain": [
              "<IPython.core.display.HTML object>"
            ]
          },
          "metadata": {
            "tags": []
          }
        },
        {
          "output_type": "display_data",
          "data": {
            "text/html": [
              "<span style=\"color:blue\"> |-units: 320</span>"
            ],
            "text/plain": [
              "<IPython.core.display.HTML object>"
            ]
          },
          "metadata": {
            "tags": []
          }
        },
        {
          "output_type": "stream",
          "text": [
            "INFO:tensorflow:Oracle triggered exit\n"
          ],
          "name": "stdout"
        }
      ]
    },
    {
      "cell_type": "code",
      "metadata": {
        "id": "rRw1iJ5dNJXX",
        "colab_type": "code",
        "colab": {
          "base_uri": "https://localhost:8080/",
          "height": 894
        },
        "outputId": "2fcc9e7c-7641-40bd-fbbd-5ac2b3ee7f38"
      },
      "source": [
        "tuner.results_summary()"
      ],
      "execution_count": 20,
      "outputs": [
        {
          "output_type": "display_data",
          "data": {
            "text/html": [
              "<span style=\"color:#4527A0\"><h1 style=\"font-size:18px\">Results summary</h1></span>"
            ],
            "text/plain": [
              "<IPython.core.display.HTML object>"
            ]
          },
          "metadata": {
            "tags": []
          }
        },
        {
          "output_type": "display_data",
          "data": {
            "text/html": [
              "<span style=\"color:cyan\"> |-Results in ./keras-tuner-trial/helloworld</span>"
            ],
            "text/plain": [
              "<IPython.core.display.HTML object>"
            ]
          },
          "metadata": {
            "tags": []
          }
        },
        {
          "output_type": "display_data",
          "data": {
            "text/html": [
              "<span style=\"color:cyan\"> |-Showing 10 best trials</span>"
            ],
            "text/plain": [
              "<IPython.core.display.HTML object>"
            ]
          },
          "metadata": {
            "tags": []
          }
        },
        {
          "output_type": "display_data",
          "data": {
            "text/html": [
              "<span style=\"color:cyan\"> |-Objective(name='val_loss', direction='min')</span>"
            ],
            "text/plain": [
              "<IPython.core.display.HTML object>"
            ]
          },
          "metadata": {
            "tags": []
          }
        },
        {
          "output_type": "display_data",
          "data": {
            "text/html": [
              "<span style=\"color:#4527A0\"><h1 style=\"font-size:18px\">Trial summary</h1></span>"
            ],
            "text/plain": [
              "<IPython.core.display.HTML object>"
            ]
          },
          "metadata": {
            "tags": []
          }
        },
        {
          "output_type": "display_data",
          "data": {
            "text/html": [
              "<span style=\"color:cyan\"> |-Trial ID: ede5e3c82b8d69487dc18635000ed0e1</span>"
            ],
            "text/plain": [
              "<IPython.core.display.HTML object>"
            ]
          },
          "metadata": {
            "tags": []
          }
        },
        {
          "output_type": "display_data",
          "data": {
            "text/html": [
              "<span style=\"color:cyan\"> |-Score: 34.50425593058268</span>"
            ],
            "text/plain": [
              "<IPython.core.display.HTML object>"
            ]
          },
          "metadata": {
            "tags": []
          }
        },
        {
          "output_type": "display_data",
          "data": {
            "text/html": [
              "<span style=\"color:cyan\"> |-Best step: 0</span>"
            ],
            "text/plain": [
              "<IPython.core.display.HTML object>"
            ]
          },
          "metadata": {
            "tags": []
          }
        },
        {
          "output_type": "display_data",
          "data": {
            "text/html": [
              "<span style=\"color:#7E57C2\"><h2 style=\"font-size:16px\">Hyperparameters:</h2></span>"
            ],
            "text/plain": [
              "<IPython.core.display.HTML object>"
            ]
          },
          "metadata": {
            "tags": []
          }
        },
        {
          "output_type": "display_data",
          "data": {
            "text/html": [
              "<span style=\"color:cyan\"> |-learning_rate: 0.01</span>"
            ],
            "text/plain": [
              "<IPython.core.display.HTML object>"
            ]
          },
          "metadata": {
            "tags": []
          }
        },
        {
          "output_type": "display_data",
          "data": {
            "text/html": [
              "<span style=\"color:blue\"> |-units: 288</span>"
            ],
            "text/plain": [
              "<IPython.core.display.HTML object>"
            ]
          },
          "metadata": {
            "tags": []
          }
        },
        {
          "output_type": "display_data",
          "data": {
            "text/html": [
              "<span style=\"color:#4527A0\"><h1 style=\"font-size:18px\">Trial summary</h1></span>"
            ],
            "text/plain": [
              "<IPython.core.display.HTML object>"
            ]
          },
          "metadata": {
            "tags": []
          }
        },
        {
          "output_type": "display_data",
          "data": {
            "text/html": [
              "<span style=\"color:cyan\"> |-Trial ID: 67eb2166557553b77015e00c5d702470</span>"
            ],
            "text/plain": [
              "<IPython.core.display.HTML object>"
            ]
          },
          "metadata": {
            "tags": []
          }
        },
        {
          "output_type": "display_data",
          "data": {
            "text/html": [
              "<span style=\"color:cyan\"> |-Score: 423.81203206380206</span>"
            ],
            "text/plain": [
              "<IPython.core.display.HTML object>"
            ]
          },
          "metadata": {
            "tags": []
          }
        },
        {
          "output_type": "display_data",
          "data": {
            "text/html": [
              "<span style=\"color:cyan\"> |-Best step: 0</span>"
            ],
            "text/plain": [
              "<IPython.core.display.HTML object>"
            ]
          },
          "metadata": {
            "tags": []
          }
        },
        {
          "output_type": "display_data",
          "data": {
            "text/html": [
              "<span style=\"color:#7E57C2\"><h2 style=\"font-size:16px\">Hyperparameters:</h2></span>"
            ],
            "text/plain": [
              "<IPython.core.display.HTML object>"
            ]
          },
          "metadata": {
            "tags": []
          }
        },
        {
          "output_type": "display_data",
          "data": {
            "text/html": [
              "<span style=\"color:cyan\"> |-learning_rate: 0.001</span>"
            ],
            "text/plain": [
              "<IPython.core.display.HTML object>"
            ]
          },
          "metadata": {
            "tags": []
          }
        },
        {
          "output_type": "display_data",
          "data": {
            "text/html": [
              "<span style=\"color:blue\"> |-units: 416</span>"
            ],
            "text/plain": [
              "<IPython.core.display.HTML object>"
            ]
          },
          "metadata": {
            "tags": []
          }
        },
        {
          "output_type": "display_data",
          "data": {
            "text/html": [
              "<span style=\"color:#4527A0\"><h1 style=\"font-size:18px\">Trial summary</h1></span>"
            ],
            "text/plain": [
              "<IPython.core.display.HTML object>"
            ]
          },
          "metadata": {
            "tags": []
          }
        },
        {
          "output_type": "display_data",
          "data": {
            "text/html": [
              "<span style=\"color:cyan\"> |-Trial ID: 5e6bb9572e8abce02bda29645354e570</span>"
            ],
            "text/plain": [
              "<IPython.core.display.HTML object>"
            ]
          },
          "metadata": {
            "tags": []
          }
        },
        {
          "output_type": "display_data",
          "data": {
            "text/html": [
              "<span style=\"color:cyan\"> |-Score: 627.4096272786459</span>"
            ],
            "text/plain": [
              "<IPython.core.display.HTML object>"
            ]
          },
          "metadata": {
            "tags": []
          }
        },
        {
          "output_type": "display_data",
          "data": {
            "text/html": [
              "<span style=\"color:cyan\"> |-Best step: 0</span>"
            ],
            "text/plain": [
              "<IPython.core.display.HTML object>"
            ]
          },
          "metadata": {
            "tags": []
          }
        },
        {
          "output_type": "display_data",
          "data": {
            "text/html": [
              "<span style=\"color:#7E57C2\"><h2 style=\"font-size:16px\">Hyperparameters:</h2></span>"
            ],
            "text/plain": [
              "<IPython.core.display.HTML object>"
            ]
          },
          "metadata": {
            "tags": []
          }
        },
        {
          "output_type": "display_data",
          "data": {
            "text/html": [
              "<span style=\"color:cyan\"> |-learning_rate: 0.0001</span>"
            ],
            "text/plain": [
              "<IPython.core.display.HTML object>"
            ]
          },
          "metadata": {
            "tags": []
          }
        },
        {
          "output_type": "display_data",
          "data": {
            "text/html": [
              "<span style=\"color:blue\"> |-units: 320</span>"
            ],
            "text/plain": [
              "<IPython.core.display.HTML object>"
            ]
          },
          "metadata": {
            "tags": []
          }
        },
        {
          "output_type": "display_data",
          "data": {
            "text/html": [
              "<span style=\"color:#4527A0\"><h1 style=\"font-size:18px\">Trial summary</h1></span>"
            ],
            "text/plain": [
              "<IPython.core.display.HTML object>"
            ]
          },
          "metadata": {
            "tags": []
          }
        },
        {
          "output_type": "display_data",
          "data": {
            "text/html": [
              "<span style=\"color:cyan\"> |-Trial ID: 85ceed0c48d170ec6deeca1f0908d56b</span>"
            ],
            "text/plain": [
              "<IPython.core.display.HTML object>"
            ]
          },
          "metadata": {
            "tags": []
          }
        },
        {
          "output_type": "display_data",
          "data": {
            "text/html": [
              "<span style=\"color:cyan\"> |-Score: 638.5000406901041</span>"
            ],
            "text/plain": [
              "<IPython.core.display.HTML object>"
            ]
          },
          "metadata": {
            "tags": []
          }
        },
        {
          "output_type": "display_data",
          "data": {
            "text/html": [
              "<span style=\"color:cyan\"> |-Best step: 0</span>"
            ],
            "text/plain": [
              "<IPython.core.display.HTML object>"
            ]
          },
          "metadata": {
            "tags": []
          }
        },
        {
          "output_type": "display_data",
          "data": {
            "text/html": [
              "<span style=\"color:#7E57C2\"><h2 style=\"font-size:16px\">Hyperparameters:</h2></span>"
            ],
            "text/plain": [
              "<IPython.core.display.HTML object>"
            ]
          },
          "metadata": {
            "tags": []
          }
        },
        {
          "output_type": "display_data",
          "data": {
            "text/html": [
              "<span style=\"color:cyan\"> |-learning_rate: 0.0001</span>"
            ],
            "text/plain": [
              "<IPython.core.display.HTML object>"
            ]
          },
          "metadata": {
            "tags": []
          }
        },
        {
          "output_type": "display_data",
          "data": {
            "text/html": [
              "<span style=\"color:blue\"> |-units: 96</span>"
            ],
            "text/plain": [
              "<IPython.core.display.HTML object>"
            ]
          },
          "metadata": {
            "tags": []
          }
        },
        {
          "output_type": "display_data",
          "data": {
            "text/html": [
              "<span style=\"color:#4527A0\"><h1 style=\"font-size:18px\">Trial summary</h1></span>"
            ],
            "text/plain": [
              "<IPython.core.display.HTML object>"
            ]
          },
          "metadata": {
            "tags": []
          }
        },
        {
          "output_type": "display_data",
          "data": {
            "text/html": [
              "<span style=\"color:cyan\"> |-Trial ID: ccad343fbdd65e7c6eaac89646eeab3f</span>"
            ],
            "text/plain": [
              "<IPython.core.display.HTML object>"
            ]
          },
          "metadata": {
            "tags": []
          }
        },
        {
          "output_type": "display_data",
          "data": {
            "text/html": [
              "<span style=\"color:cyan\"> |-Score: 640.4886474609375</span>"
            ],
            "text/plain": [
              "<IPython.core.display.HTML object>"
            ]
          },
          "metadata": {
            "tags": []
          }
        },
        {
          "output_type": "display_data",
          "data": {
            "text/html": [
              "<span style=\"color:cyan\"> |-Best step: 0</span>"
            ],
            "text/plain": [
              "<IPython.core.display.HTML object>"
            ]
          },
          "metadata": {
            "tags": []
          }
        },
        {
          "output_type": "display_data",
          "data": {
            "text/html": [
              "<span style=\"color:#7E57C2\"><h2 style=\"font-size:16px\">Hyperparameters:</h2></span>"
            ],
            "text/plain": [
              "<IPython.core.display.HTML object>"
            ]
          },
          "metadata": {
            "tags": []
          }
        },
        {
          "output_type": "display_data",
          "data": {
            "text/html": [
              "<span style=\"color:cyan\"> |-learning_rate: 0.0001</span>"
            ],
            "text/plain": [
              "<IPython.core.display.HTML object>"
            ]
          },
          "metadata": {
            "tags": []
          }
        },
        {
          "output_type": "display_data",
          "data": {
            "text/html": [
              "<span style=\"color:blue\"> |-units: 32</span>"
            ],
            "text/plain": [
              "<IPython.core.display.HTML object>"
            ]
          },
          "metadata": {
            "tags": []
          }
        }
      ]
    },
    {
      "cell_type": "markdown",
      "metadata": {
        "id": "K2XGi89sNJXY",
        "colab_type": "text"
      },
      "source": [
        "## Challenge\n",
        "\n",
        "Try to apply RandomSearchCV to your module project today. "
      ]
    },
    {
      "cell_type": "markdown",
      "metadata": {
        "id": "3cyp9NElNJXY",
        "colab_type": "text"
      },
      "source": [
        "# Review\n",
        "* <a href=\"#p1\">Part 1</a>: Describe the major hyperparemeters to tune\n",
        "    - Activation Functions\n",
        "    - Optimizer\n",
        "    - Number of Layers\n",
        "    - Number of Neurons\n",
        "    - Batch Size\n",
        "    - Dropout Regulaization\n",
        "    - Learning Rate\n",
        "    - Number of Epochs\n",
        "    - and many more\n",
        "* <a href=\"#p2\">Part 2</a>: Implement an experiment tracking framework\n",
        "    - Weights & Biases\n",
        "    - Comet.ml\n",
        "    - By Hand / GridSearch\n",
        "* <a href=\"#p3\">Part 3</a>: Search the hyperparameter space using RandomSearch\n",
        "    - Sklearn still useful (haha)\n",
        "    - Integration with Wieghts & Biases\n",
        "* <a href=\"#p4\">Part 4</a>: Discuss emerging hyperparameter tuning strategies\n",
        "    - Bayesian Optimization\n",
        "    - Hyperopt\n",
        "    - Genetic Evolution"
      ]
    },
    {
      "cell_type": "markdown",
      "metadata": {
        "id": "C3PtF1DPNJXZ",
        "colab_type": "text"
      },
      "source": [
        "# Sources"
      ]
    },
    {
      "cell_type": "markdown",
      "metadata": {
        "id": "U1SANXxrNJXZ",
        "colab_type": "text"
      },
      "source": [
        "## Additional Reading\n",
        "- https://machinelearningmastery.com/grid-search-hyperparameters-deep-learning-models-python-keras/\n",
        "- https://blog.floydhub.com/guide-to-hyperparameters-search-for-deep-learning-models/\n",
        "- https://machinelearningmastery.com/dropout-regularization-deep-learning-models-keras/\n",
        "- https://machinelearningmastery.com/introduction-to-weight-constraints-to-reduce-generalization-error-in-deep-learning/\n",
        "- https://machinelearningmastery.com/how-to-configure-the-number-of-layers-and-nodes-in-a-neural-network/"
      ]
    }
  ]
}