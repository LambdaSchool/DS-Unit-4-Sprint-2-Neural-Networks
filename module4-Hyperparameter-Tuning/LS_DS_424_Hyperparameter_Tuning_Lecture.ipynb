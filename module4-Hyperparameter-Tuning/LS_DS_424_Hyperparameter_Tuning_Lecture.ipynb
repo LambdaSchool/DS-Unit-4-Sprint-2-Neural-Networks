{
 "cells": [
  {
   "cell_type": "markdown",
   "metadata": {
    "colab_type": "text",
    "id": "41TS0Sa0rDNx"
   },
   "source": [
    "Lambda School Data Science\n",
    "\n",
    "*Unit 4, Sprint 2, Module 4*\n",
    "\n",
    "---"
   ]
  },
  {
   "cell_type": "markdown",
   "metadata": {
    "colab_type": "text",
    "id": "41TS0Sa0rDNx"
   },
   "source": [
    "# Neural Networks & GPUs (Prepare)\n",
    "*aka Hyperparameter Tuning*\n",
    "\n",
    "*aka Big Servers for Big Problems*"
   ]
  },
  {
   "cell_type": "markdown",
   "metadata": {
    "colab_type": "text",
    "id": "41TS0Sa0rDNx"
   },
   "source": [
    "## Learning Objectives\n",
    "* <a href=\"#p1\">Part 1</a>: Describe the major hyperparemeters to tune\n",
    "* <a href=\"#p2\">Part 2</a>: Implement an experiment tracking framework\n",
    "* <a href=\"#p3\">Part 3</a>: Search the hyperparameter space using RandomSearch (Optional)"
   ]
  },
  {
   "cell_type": "code",
   "execution_count": 11,
   "metadata": {},
   "outputs": [],
   "source": [
    "wandb_group = \"ds8\"\n",
    "wandb_project = \"ds13_inclass\""
   ]
  },
  {
   "cell_type": "code",
   "execution_count": 2,
   "metadata": {},
   "outputs": [],
   "source": [
    "%%capture\n",
    "\n",
    "!pip install wandb"
   ]
  },
  {
   "cell_type": "code",
   "execution_count": 3,
   "metadata": {},
   "outputs": [
    {
     "name": "stdout",
     "output_type": "stream",
     "text": [
      "\u001b[34m\u001b[1mwandb\u001b[0m: Appending key for api.wandb.ai to your netrc file: /home/tmbern/.netrc\r\n",
      "\u001b[32mSuccessfully logged in to Weights & Biases!\u001b[0m\r\n"
     ]
    }
   ],
   "source": [
    "!wandb login 79680cd73313c44891d9a7ada90cb08599decd6a"
   ]
  },
  {
   "cell_type": "markdown",
   "metadata": {},
   "source": [
    "# Hyperparameter Options (Learn)\n",
    "<a id=\"p1\"></a>"
   ]
  },
  {
   "cell_type": "markdown",
   "metadata": {},
   "source": [
    "## Overview\n",
    "\n",
    "Hyperparameter tuning is much more important with neural networks than it has been with any other models that we have considered up to this point. Other supervised learning models might have a couple of parameters, but neural networks can have dozens. These can substantially affect the accuracy of our models and although it can be a time consuming process is a necessary step when working with neural networks.\n",
    "​\n",
    "Hyperparameter tuning comes with a challenge. How can we compare models specified with different hyperparameters if our model's final error metric can vary somewhat erratically? How do we avoid just getting unlucky and selecting the wrong hyperparameter? This is a problem that to a certain degree we just have to live with as we test and test again. However, we can minimize it somewhat by pairing our experiments with Cross Validation to reduce the variance of our final accuracy values."
   ]
  },
  {
   "cell_type": "markdown",
   "metadata": {
    "colab_type": "text",
    "id": "0s0o2pqBs88q"
   },
   "source": [
    "### Load Boston Housing Data"
   ]
  },
  {
   "cell_type": "code",
   "execution_count": 4,
   "metadata": {},
   "outputs": [],
   "source": [
    "from tensorflow.keras.datasets import boston_housing\n",
    "\n",
    "(x_train, y_train), (x_test, y_test) = boston_housing.load_data()"
   ]
  },
  {
   "cell_type": "markdown",
   "metadata": {
    "colab_type": "text",
    "id": "Pm7zow5IvaTt"
   },
   "source": [
    "### Normalizing Input Data\n",
    "\n",
    "It's not 100% necessary to normalize/scale your input data before feeding it to a neural network, the network can learn the appropriate weights to deal with data of as long as it is numerically represented,  but it is recommended as it can help **make training faster** and **reduces the chances that gradient descent might get stuck in a local optimum**.\n",
    "\n",
    "<https://stackoverflow.com/questions/4674623/why-do-we-have-to-normalize-the-input-for-an-artificial-neural-network>"
   ]
  },
  {
   "cell_type": "code",
   "execution_count": 5,
   "metadata": {},
   "outputs": [
    {
     "name": "stdout",
     "output_type": "stream",
     "text": [
      "[[-0.27224633 -0.48361547 -0.43576161 -0.25683275 -0.1652266  -0.1764426\n",
      "   0.81306188  0.1166983  -0.62624905 -0.59517003  1.14850044  0.44807713\n",
      "   0.8252202 ]\n",
      " [-0.40342651  2.99178419 -1.33391162 -0.25683275 -1.21518188  1.89434613\n",
      "  -1.91036058  1.24758524 -0.85646254 -0.34843254 -1.71818909  0.43190599\n",
      "  -1.32920239]\n",
      " [ 0.1249402  -0.48361547  1.0283258  -0.25683275  0.62864202 -1.82968811\n",
      "   1.11048828 -1.18743907  1.67588577  1.5652875   0.78447637  0.22061726\n",
      "  -1.30850006]\n",
      " [-0.40149354 -0.48361547 -0.86940196 -0.25683275 -0.3615597  -0.3245576\n",
      "  -1.23667187  1.10717989 -0.51114231 -1.094663    0.78447637  0.44807713\n",
      "  -0.65292624]\n",
      " [-0.0056343  -0.48361547  1.0283258  -0.25683275  1.32861221  0.15364225\n",
      "   0.69480801 -0.57857203  1.67588577  1.5652875   0.78447637  0.3898823\n",
      "   0.26349695]\n",
      " [-0.37502238 -0.48361547 -0.54747912 -0.25683275 -0.54935658 -0.78865126\n",
      "   0.18954148  0.48371503 -0.51114231 -0.71552978  0.51145832  0.38669063\n",
      "  -0.13812828]\n",
      " [ 0.58963463 -0.48361547  1.0283258  -0.25683275  1.21764133 -1.03127774\n",
      "   1.11048828 -1.06518235  1.67588577  1.5652875   0.78447637  0.44807713\n",
      "   1.49873604]\n",
      " [ 0.0381708  -0.48361547  1.24588095 -0.25683275  2.67733525 -1.12719983\n",
      "   1.11048828 -1.14833073 -0.51114231 -0.01744323 -1.71818909  0.44807713\n",
      "   1.88793986]\n",
      " [-0.17228416 -0.48361547  1.24588095 -0.25683275  2.67733525 -0.90150078\n",
      "   1.11048828 -1.09664657 -0.51114231 -0.01744323 -1.71818909 -1.97365769\n",
      "   0.53952803]\n",
      " [-0.22932104 -0.48361547  1.58544339 -0.25683275  0.56888847 -1.76056777\n",
      "   1.11048828 -1.13471925 -0.62624905  0.18716835  1.23950646  0.44807713\n",
      "   2.99068404]]\n"
     ]
    }
   ],
   "source": [
    "from sklearn.preprocessing import StandardScaler\n",
    "\n",
    "scaler = StandardScaler()\n",
    "\n",
    "x_train = scaler.fit_transform(x_train)\n",
    "x_test = scaler.transform(x_test)\n",
    "print(x_train[:10])"
   ]
  },
  {
   "cell_type": "markdown",
   "metadata": {
    "colab_type": "text",
    "id": "l6hgCWbir90R"
   },
   "source": [
    "### Model Validation using an automatic verification Dataset\n",
    "\n",
    "Instead of doing seperate train test split class, Keras has a really nice feature that you can set the validation.data argument when fitting your model and Keras will take that portion of your test data and use it as a validation dataset. "
   ]
  },
  {
   "cell_type": "code",
   "execution_count": 6,
   "metadata": {
    "colab": {
     "base_uri": "https://localhost:8080/",
     "height": 1750
    },
    "colab_type": "code",
    "id": "GMXVfmzXp1Oo",
    "outputId": "b05e251e-508f-46e6-865b-f869ae2a5dc4"
   },
   "outputs": [
    {
     "name": "stdout",
     "output_type": "stream",
     "text": [
      "Epoch 1/75\n",
      "41/41 [==============================] - 0s 5ms/step - loss: 535.2932 - mae: 21.1716 - val_loss: 479.6481 - val_mae: 19.8575\n",
      "Epoch 2/75\n",
      "41/41 [==============================] - 0s 2ms/step - loss: 334.2502 - mae: 15.7979 - val_loss: 200.4972 - val_mae: 12.0578\n",
      "Epoch 3/75\n",
      "41/41 [==============================] - 0s 2ms/step - loss: 108.7122 - mae: 7.8986 - val_loss: 68.8567 - val_mae: 6.3863\n",
      "Epoch 4/75\n",
      "41/41 [==============================] - 0s 2ms/step - loss: 45.8006 - mae: 4.8792 - val_loss: 39.8753 - val_mae: 4.9301\n",
      "Epoch 5/75\n",
      "41/41 [==============================] - 0s 2ms/step - loss: 29.3793 - mae: 3.8345 - val_loss: 31.0684 - val_mae: 4.4556\n",
      "Epoch 6/75\n",
      "41/41 [==============================] - 0s 2ms/step - loss: 23.9873 - mae: 3.4497 - val_loss: 27.2114 - val_mae: 4.1196\n",
      "Epoch 7/75\n",
      "41/41 [==============================] - 0s 2ms/step - loss: 20.7134 - mae: 3.1989 - val_loss: 25.6832 - val_mae: 3.9193\n",
      "Epoch 8/75\n",
      "41/41 [==============================] - 0s 2ms/step - loss: 18.7904 - mae: 3.0606 - val_loss: 25.3346 - val_mae: 3.7773\n",
      "Epoch 9/75\n",
      "41/41 [==============================] - 0s 2ms/step - loss: 17.3223 - mae: 2.9601 - val_loss: 24.1315 - val_mae: 3.6305\n",
      "Epoch 10/75\n",
      "41/41 [==============================] - 0s 2ms/step - loss: 15.5115 - mae: 2.7288 - val_loss: 24.3162 - val_mae: 3.6625\n",
      "Epoch 11/75\n",
      "41/41 [==============================] - 0s 2ms/step - loss: 14.6406 - mae: 2.7497 - val_loss: 23.1343 - val_mae: 3.4826\n",
      "Epoch 12/75\n",
      "41/41 [==============================] - 0s 2ms/step - loss: 13.9219 - mae: 2.5854 - val_loss: 23.8012 - val_mae: 3.4598\n",
      "Epoch 13/75\n",
      "41/41 [==============================] - 0s 2ms/step - loss: 12.8935 - mae: 2.5155 - val_loss: 23.6398 - val_mae: 3.4023\n",
      "Epoch 14/75\n",
      "41/41 [==============================] - 0s 2ms/step - loss: 12.2744 - mae: 2.4885 - val_loss: 22.9613 - val_mae: 3.3286\n",
      "Epoch 15/75\n",
      "41/41 [==============================] - 0s 2ms/step - loss: 11.6789 - mae: 2.4095 - val_loss: 24.1546 - val_mae: 3.3668\n",
      "Epoch 16/75\n",
      "41/41 [==============================] - 0s 2ms/step - loss: 11.3071 - mae: 2.3863 - val_loss: 23.4128 - val_mae: 3.2698\n",
      "Epoch 17/75\n",
      "41/41 [==============================] - 0s 2ms/step - loss: 11.0508 - mae: 2.3618 - val_loss: 25.3649 - val_mae: 3.3971\n",
      "Epoch 18/75\n",
      "41/41 [==============================] - 0s 2ms/step - loss: 10.8001 - mae: 2.3586 - val_loss: 25.5171 - val_mae: 3.3719\n",
      "Epoch 19/75\n",
      "41/41 [==============================] - 0s 2ms/step - loss: 10.4204 - mae: 2.3020 - val_loss: 24.7805 - val_mae: 3.2816\n",
      "Epoch 20/75\n",
      "41/41 [==============================] - 0s 2ms/step - loss: 10.2350 - mae: 2.3040 - val_loss: 24.4406 - val_mae: 3.2782\n",
      "Epoch 21/75\n",
      "41/41 [==============================] - 0s 2ms/step - loss: 10.0244 - mae: 2.2817 - val_loss: 23.6511 - val_mae: 3.2194\n",
      "Epoch 22/75\n",
      "41/41 [==============================] - 0s 2ms/step - loss: 9.9131 - mae: 2.2411 - val_loss: 23.5573 - val_mae: 3.2041\n",
      "Epoch 23/75\n",
      "41/41 [==============================] - 0s 2ms/step - loss: 9.7839 - mae: 2.2315 - val_loss: 24.1369 - val_mae: 3.2003\n",
      "Epoch 24/75\n",
      "41/41 [==============================] - 0s 2ms/step - loss: 9.3751 - mae: 2.2009 - val_loss: 22.4898 - val_mae: 3.0967\n",
      "Epoch 25/75\n",
      "41/41 [==============================] - 0s 2ms/step - loss: 9.3280 - mae: 2.1946 - val_loss: 24.0806 - val_mae: 3.2098\n",
      "Epoch 26/75\n",
      "41/41 [==============================] - 0s 2ms/step - loss: 9.2654 - mae: 2.1793 - val_loss: 23.9437 - val_mae: 3.1601\n",
      "Epoch 27/75\n",
      "41/41 [==============================] - 0s 2ms/step - loss: 9.1852 - mae: 2.1653 - val_loss: 23.3245 - val_mae: 3.1404\n",
      "Epoch 28/75\n",
      "41/41 [==============================] - 0s 2ms/step - loss: 8.7993 - mae: 2.1734 - val_loss: 21.1612 - val_mae: 2.9857\n",
      "Epoch 29/75\n",
      "41/41 [==============================] - 0s 2ms/step - loss: 8.8497 - mae: 2.1219 - val_loss: 22.8670 - val_mae: 3.0908\n",
      "Epoch 30/75\n",
      "41/41 [==============================] - 0s 2ms/step - loss: 8.6154 - mae: 2.1009 - val_loss: 22.6021 - val_mae: 3.1114\n",
      "Epoch 31/75\n",
      "41/41 [==============================] - 0s 2ms/step - loss: 8.4954 - mae: 2.0711 - val_loss: 22.9047 - val_mae: 3.0971\n",
      "Epoch 32/75\n",
      "41/41 [==============================] - 0s 2ms/step - loss: 8.6448 - mae: 2.1063 - val_loss: 22.3051 - val_mae: 3.0479\n",
      "Epoch 33/75\n",
      "41/41 [==============================] - 0s 2ms/step - loss: 8.2206 - mae: 2.0597 - val_loss: 21.7306 - val_mae: 3.0174\n",
      "Epoch 34/75\n",
      "41/41 [==============================] - 0s 2ms/step - loss: 8.1808 - mae: 2.0592 - val_loss: 22.8374 - val_mae: 3.1237\n",
      "Epoch 35/75\n",
      "41/41 [==============================] - 0s 2ms/step - loss: 8.4930 - mae: 2.0890 - val_loss: 21.9136 - val_mae: 3.0143\n",
      "Epoch 36/75\n",
      "41/41 [==============================] - 0s 2ms/step - loss: 7.9305 - mae: 2.0312 - val_loss: 20.2510 - val_mae: 2.8870\n",
      "Epoch 37/75\n",
      "41/41 [==============================] - 0s 2ms/step - loss: 7.8780 - mae: 1.9849 - val_loss: 20.2927 - val_mae: 2.8750\n",
      "Epoch 38/75\n",
      "41/41 [==============================] - 0s 2ms/step - loss: 8.2120 - mae: 2.0773 - val_loss: 21.5426 - val_mae: 2.9278\n",
      "Epoch 39/75\n",
      "41/41 [==============================] - 0s 2ms/step - loss: 7.7761 - mae: 2.0080 - val_loss: 20.7315 - val_mae: 2.8988\n",
      "Epoch 40/75\n",
      "41/41 [==============================] - 0s 2ms/step - loss: 7.6519 - mae: 1.9744 - val_loss: 21.5534 - val_mae: 3.0331\n",
      "Epoch 41/75\n",
      "41/41 [==============================] - 0s 2ms/step - loss: 7.4877 - mae: 1.9760 - val_loss: 20.9933 - val_mae: 2.8674\n",
      "Epoch 42/75\n",
      "41/41 [==============================] - 0s 2ms/step - loss: 7.6832 - mae: 1.9841 - val_loss: 21.6736 - val_mae: 2.9672\n",
      "Epoch 43/75\n",
      "41/41 [==============================] - 0s 2ms/step - loss: 7.3260 - mae: 1.9396 - val_loss: 19.5643 - val_mae: 2.7784\n",
      "Epoch 44/75\n",
      "41/41 [==============================] - 0s 2ms/step - loss: 7.3882 - mae: 1.9554 - val_loss: 21.7225 - val_mae: 2.9647\n",
      "Epoch 45/75\n",
      "41/41 [==============================] - 0s 2ms/step - loss: 7.1884 - mae: 1.9328 - val_loss: 19.2017 - val_mae: 2.7987\n",
      "Epoch 46/75\n",
      "41/41 [==============================] - 0s 3ms/step - loss: 7.2726 - mae: 1.9438 - val_loss: 19.6637 - val_mae: 2.7881\n",
      "Epoch 47/75\n",
      "41/41 [==============================] - 0s 3ms/step - loss: 6.9195 - mae: 1.8845 - val_loss: 19.8763 - val_mae: 2.8118\n",
      "Epoch 48/75\n",
      "41/41 [==============================] - 0s 3ms/step - loss: 7.0912 - mae: 1.9362 - val_loss: 20.0836 - val_mae: 2.7694\n",
      "Epoch 49/75\n",
      "41/41 [==============================] - 0s 2ms/step - loss: 6.9784 - mae: 1.8992 - val_loss: 19.0529 - val_mae: 2.7339\n",
      "Epoch 50/75\n",
      "41/41 [==============================] - 0s 2ms/step - loss: 6.7343 - mae: 1.8631 - val_loss: 20.3448 - val_mae: 2.8377\n",
      "Epoch 51/75\n",
      "41/41 [==============================] - 0s 2ms/step - loss: 6.6927 - mae: 1.8507 - val_loss: 19.1034 - val_mae: 2.7843\n",
      "Epoch 52/75\n",
      "41/41 [==============================] - 0s 2ms/step - loss: 6.5782 - mae: 1.8204 - val_loss: 20.0494 - val_mae: 2.8372\n",
      "Epoch 53/75\n",
      "41/41 [==============================] - 0s 2ms/step - loss: 6.5896 - mae: 1.8649 - val_loss: 18.5615 - val_mae: 2.7008\n",
      "Epoch 54/75\n",
      "41/41 [==============================] - 0s 2ms/step - loss: 6.4513 - mae: 1.7918 - val_loss: 20.1559 - val_mae: 2.8145\n",
      "Epoch 55/75\n",
      "41/41 [==============================] - 0s 3ms/step - loss: 6.4545 - mae: 1.8580 - val_loss: 18.7352 - val_mae: 2.6769\n",
      "Epoch 56/75\n",
      "41/41 [==============================] - 0s 2ms/step - loss: 6.5108 - mae: 1.8247 - val_loss: 18.6191 - val_mae: 2.7813\n",
      "Epoch 57/75\n",
      "41/41 [==============================] - 0s 2ms/step - loss: 6.3750 - mae: 1.7868 - val_loss: 17.9449 - val_mae: 2.6887\n",
      "Epoch 58/75\n",
      "41/41 [==============================] - 0s 2ms/step - loss: 6.1181 - mae: 1.7626 - val_loss: 18.0045 - val_mae: 2.6698\n",
      "Epoch 59/75\n",
      "41/41 [==============================] - 0s 2ms/step - loss: 6.2611 - mae: 1.8170 - val_loss: 18.0802 - val_mae: 2.6629\n",
      "Epoch 60/75\n",
      "41/41 [==============================] - 0s 3ms/step - loss: 6.2730 - mae: 1.8018 - val_loss: 19.2754 - val_mae: 2.8477\n",
      "Epoch 61/75\n",
      "41/41 [==============================] - 0s 3ms/step - loss: 6.1786 - mae: 1.7769 - val_loss: 18.0203 - val_mae: 2.7755\n",
      "Epoch 62/75\n",
      "41/41 [==============================] - 0s 2ms/step - loss: 6.0153 - mae: 1.7878 - val_loss: 18.2207 - val_mae: 2.6967\n"
     ]
    },
    {
     "name": "stdout",
     "output_type": "stream",
     "text": [
      "Epoch 63/75\n",
      "41/41 [==============================] - 0s 2ms/step - loss: 5.7557 - mae: 1.7276 - val_loss: 19.6160 - val_mae: 2.7772\n",
      "Epoch 64/75\n",
      "41/41 [==============================] - 0s 2ms/step - loss: 5.8391 - mae: 1.7580 - val_loss: 17.2860 - val_mae: 2.6360\n",
      "Epoch 65/75\n",
      "41/41 [==============================] - 0s 2ms/step - loss: 5.8465 - mae: 1.7202 - val_loss: 18.4598 - val_mae: 2.6889\n",
      "Epoch 66/75\n",
      "41/41 [==============================] - 0s 3ms/step - loss: 5.7231 - mae: 1.7118 - val_loss: 18.3015 - val_mae: 2.6690\n",
      "Epoch 67/75\n",
      "41/41 [==============================] - 0s 2ms/step - loss: 5.7401 - mae: 1.7187 - val_loss: 18.6613 - val_mae: 2.7771\n",
      "Epoch 68/75\n",
      "41/41 [==============================] - 0s 2ms/step - loss: 5.8220 - mae: 1.7221 - val_loss: 18.8042 - val_mae: 2.7661\n",
      "Epoch 69/75\n",
      "41/41 [==============================] - 0s 3ms/step - loss: 5.5102 - mae: 1.6815 - val_loss: 18.2877 - val_mae: 2.7145\n",
      "Epoch 70/75\n",
      "41/41 [==============================] - 0s 2ms/step - loss: 5.6120 - mae: 1.7035 - val_loss: 17.7185 - val_mae: 2.7620\n",
      "Epoch 71/75\n",
      "41/41 [==============================] - 0s 2ms/step - loss: 5.8985 - mae: 1.7448 - val_loss: 16.7654 - val_mae: 2.5365\n",
      "Epoch 72/75\n",
      "41/41 [==============================] - 0s 2ms/step - loss: 5.6474 - mae: 1.7234 - val_loss: 17.7321 - val_mae: 2.7021\n",
      "Epoch 73/75\n",
      "41/41 [==============================] - 0s 2ms/step - loss: 5.3161 - mae: 1.6564 - val_loss: 17.6723 - val_mae: 2.6535\n",
      "Epoch 74/75\n",
      "41/41 [==============================] - 0s 2ms/step - loss: 5.3790 - mae: 1.6777 - val_loss: 17.2455 - val_mae: 2.6170\n",
      "Epoch 75/75\n",
      "41/41 [==============================] - 0s 2ms/step - loss: 5.2181 - mae: 1.6267 - val_loss: 17.5072 - val_mae: 2.6966\n"
     ]
    },
    {
     "data": {
      "text/plain": [
       "<tensorflow.python.keras.callbacks.History at 0x7f83e44740b8>"
      ]
     },
     "execution_count": 6,
     "metadata": {},
     "output_type": "execute_result"
    }
   ],
   "source": [
    "from tensorflow import keras\n",
    "from tensorflow.keras.models import Sequential\n",
    "from tensorflow.keras.layers import Dense\n",
    "\n",
    "# Important Hyperparameters\n",
    "inputs = x_train.shape[1]\n",
    "epochs = 75\n",
    "batch_size = 10\n",
    "\n",
    "\n",
    "# Create Model\n",
    "model = Sequential()\n",
    "model.add(Dense(64, activation='relu', input_shape=(inputs,)))\n",
    "model.add(Dense(64, activation='relu'))\n",
    "model.add(Dense(1))\n",
    "\n",
    "# Compile Model\n",
    "model.compile(optimizer='adam', loss='mse', metrics=['mae'])\n",
    "\n",
    "# Fit Model\n",
    "model.fit(x_train, y_train, \n",
    "          validation_data=(x_test,y_test), \n",
    "          epochs=epochs, \n",
    "          batch_size=batch_size\n",
    "         )"
   ]
  },
  {
   "cell_type": "markdown",
   "metadata": {
    "colab_type": "text",
    "id": "sYJ8t_ezHP4W"
   },
   "source": [
    "### Hyperparameter Tuning Approaches:\n",
    "\n",
    "#### 1) Babysitting AKA \"Grad Student Descent\".\n",
    "\n",
    "If you fiddled with any hyperparameters yesterday, this is basically what you did. This approach is 100% manual and is pretty common among researchers where finding that 1 exact specification that jumps your model to a level of accuracy never seen before is the difference between publishing and not publishing a paper. Of course the professors don't do this themselves, that's grunt work. This is also known as the fiddle with hyperparameters until you run out of time method.\n",
    "\n",
    "#### 2) Grid Search\n",
    "\n",
    "Grid Search is the Grad Student galaxy brain realization of: why don't I just specify all the experiments I want to run and let the computer try every possible combination of them while I go and grab lunch. This has a specific downside in that if I specify 5 hyperparameters with 5 options each then I've just created 5^5 combinations of hyperparameters to check. Which means that I have to train 3125 different versions of my model Then if I use 5-fold Cross Validation on that then my model has to run 15,525 times. This is the brute-force method of hyperparameter tuning, but it can be very profitable if done wisely. \n",
    "\n",
    "When using Grid Search here's what I suggest: don't use it to test combinations of different hyperparameters, only use it to test different specifications of **a single** hyperparameter. It's rare that combinations between different hyperparameters lead to big performance gains. You'll get 90-95% of the way there if you just Grid Search one parameter and take the best result, then retain that best result while you test another, and then retain the best specification from that while you train another. This at least makes the situation much more manageable and leads to pretty good results. \n",
    "\n",
    "#### 3) Random Search\n",
    "\n",
    "Do Grid Search for a couple of hours and you'll say to yourself - \"There's got to be a better way.\" Enter Random Search. For Random search you specify a hyperparameter space and it picks specifications from that randomly, tries them out, gives you the best results and says - That's going to have to be good enough, go home and spend time with your family. \n",
    "\n",
    "Grid Search treats every parameter as if it was equally important, but this just isn't the case, some are known to move the needle a lot more than others (we'll talk about that in a minute). Random Search allows searching to be specified along the most important parameter and experiments less along the dimensions of less important hyperparameters. The downside of Random search is that it won't find the absolute best hyperparameters, but it is much less costly to perform than Grid Search. \n",
    "\n",
    "#### 4) Bayesian Methods\n",
    "\n",
    "One thing that can make more manual methods like babysitting and gridsearch effective is that as the experimenter sees results he can then make updates to his future searches taking into account the results of past specifications. If only we could hyperparameter tune our hyperparameter tuning. Well, we kind of can. Enter Bayesian Optimization. Neural Networks are like an optimization problem within an optimization problem, and Bayesian Optimization is a search strategy that tries to take into account the results of past searches in order to improve future ones. Check out the new library `keras-tuner` for easy implementations of Bayesian methods. \n"
   ]
  },
  {
   "cell_type": "markdown",
   "metadata": {
    "colab_type": "text",
    "id": "HfQ7D043OMMn"
   },
   "source": [
    "## What Hyperparameters are there to test?\n",
    "\n",
    "- batch_size\n",
    "- training epochs\n",
    "- optimization algorithms\n",
    "- learning rate\n",
    "- momentum\n",
    "- activation functions\n",
    "- dropout regularization\n",
    "- number of neurons in the hidden layer\n",
    "\n",
    "There are more, but these are the most important."
   ]
  },
  {
   "cell_type": "markdown",
   "metadata": {},
   "source": [
    "## Follow Along"
   ]
  },
  {
   "cell_type": "markdown",
   "metadata": {
    "colab_type": "text",
    "id": "Mri5-kXzVKAa"
   },
   "source": [
    "## Batch Size\n",
    "\n",
    "Batch size determines how many observations the model is shown before it calculates loss/error and updates the model weights via gradient descent. You're looking for a sweet spot here where you're showing it enough observations that you have enough information to updates the weights, but not such a large batch size that you don't get a lot of weight update iterations performed in a given epoch. Feed-forward Neural Networks aren't as sensitive to bach_size as other networks, but it is still an important hyperparameter to tune. Smaller batch sizes will also take longer to train. \n",
    "\n",
    "Traditionally, batch size is set in powers of 2 starting at 32 up to 512. Keras defaults to a batch size of 32 if you do not specify it. Yann LeCun famously Twitted: \n",
    "\n",
    "> Training with large minibatches is bad for your health.\n",
    "More importantly, it's bad for your test error.\n",
    "Friends dont let friends use minibatches larger than 32.\n",
    "\n",
    "Check out this paper for more reference on his tweet. https://arxiv.org/abs/1804.07612. \n",
    "\n",
    "Check out this SO question on why batch size is typically set in powers of two: https://datascience.stackexchange.com/questions/20179/what-is-the-advantage-of-keeping-batch-size-a-power-of-2\n",
    "\n"
   ]
  },
  {
   "cell_type": "code",
   "execution_count": 7,
   "metadata": {
    "colab": {
     "base_uri": "https://localhost:8080/",
     "height": 13561
    },
    "colab_type": "code",
    "id": "2smXfriNAGn7",
    "outputId": "ae996575-78e2-43fb-9dbe-5d44aaf0b430"
   },
   "outputs": [
    {
     "name": "stdout",
     "output_type": "stream",
     "text": [
      "Best: 0.656268572807312 using {'batch_size': 8, 'epochs': 20}\n",
      "Means: 0.656268572807312, Stdev: 0.02789848407498076 with: {'batch_size': 8, 'epochs': 20}\n",
      "Means: 0.6263644933700562, Stdev: 0.034835517801393864 with: {'batch_size': 16, 'epochs': 20}\n",
      "Means: 0.6041846990585327, Stdev: 0.01571390893051874 with: {'batch_size': 32, 'epochs': 20}\n",
      "Means: 0.6301842093467712, Stdev: 0.0507089659930049 with: {'batch_size': 64, 'epochs': 20}\n",
      "Means: 0.5533825695514679, Stdev: 0.07720318696104948 with: {'batch_size': 128, 'epochs': 20}\n"
     ]
    }
   ],
   "source": [
    "import numpy\n",
    "import pandas as pd\n",
    "from sklearn.model_selection import GridSearchCV\n",
    "from tensorflow.keras.models import Sequential\n",
    "from tensorflow.keras.layers import Dense\n",
    "from tensorflow.keras.wrappers.scikit_learn import KerasClassifier\n",
    "\n",
    "# fix random seed for reproducibility\n",
    "seed = 7\n",
    "numpy.random.seed(seed)\n",
    "\n",
    "# load dataset\n",
    "url =\"https://raw.githubusercontent.com/jbrownlee/Datasets/master/pima-indians-diabetes.data.csv\"\n",
    "\n",
    "dataset = pd.read_csv(url, header=None).values\n",
    "\n",
    "# split into input (X) and output (Y) variables\n",
    "X = dataset[:,0:8]\n",
    "Y = dataset[:,8]\n",
    "\n",
    "# Function to create model, required for KerasClassifier\n",
    "def create_model():\n",
    "    # create model\n",
    "    model = Sequential()\n",
    "    model.add(Dense(12, input_dim=8, activation='relu'))\n",
    "    model.add(Dense(1, activation='sigmoid'))\n",
    "    # Compile model\n",
    "    model.compile(loss='binary_crossentropy', optimizer='adam', metrics=['accuracy'])\n",
    "    return model\n",
    "\n",
    "# create model\n",
    "model = KerasClassifier(build_fn=create_model, verbose=0)\n",
    "\n",
    "# define the grid search parameters\n",
    "# batch_size = [10, 20, 40, 60, 80, 100]\n",
    "# param_grid = dict(batch_size=batch_size, epochs=epochs)\n",
    "\n",
    "# define the grid search parameters\n",
    "param_grid = {'batch_size': [8, 16, 32, 64, 128],\n",
    "              'epochs': [20]}\n",
    "\n",
    "# Create Grid Search\n",
    "grid = GridSearchCV(estimator=model, param_grid=param_grid, n_jobs=1)\n",
    "grid_result = grid.fit(X, Y)\n",
    "\n",
    "# Report Results\n",
    "print(f\"Best: {grid_result.best_score_} using {grid_result.best_params_}\")\n",
    "means = grid_result.cv_results_['mean_test_score']\n",
    "stds = grid_result.cv_results_['std_test_score']\n",
    "params = grid_result.cv_results_['params']\n",
    "for mean, stdev, param in zip(means, stds, params):\n",
    "    print(f\"Means: {mean}, Stdev: {stdev} with: {param}\") "
   ]
  },
  {
   "cell_type": "markdown",
   "metadata": {
    "colab_type": "text",
    "id": "EKcuY6OiaLfz"
   },
   "source": [
    "## Optimizer\n",
    "\n",
    "Remember that there's a different optimizers [optimizers](https://keras.io/optimizers/). At some point, take some time to read up on them a little bit. \"adam\" usually gives the best results. The thing to know about choosing an optimizer is that different optimizers have different hyperparameters like learning rate, momentum, etc. So based on the optimizer you choose you might also have to tune the learning rate and momentum of those optimizers after that. "
   ]
  },
  {
   "cell_type": "markdown",
   "metadata": {
    "colab_type": "text",
    "id": "DG3wq5iOaLig"
   },
   "source": [
    "## Learning Rate\n",
    "\n",
    "Remember that the Learning Rate is a hyperparameter that is specific to your gradient-descent based optimizer selection. A learning rate that is too high will cause divergent behavior, but a Learning Rate that is too low will fail to converge, again, you're looking for the sweet spot. I would start out tuning learning rates by orders of magnitude: [.001, .01, .1, .2, .3, .5] etc. I wouldn't go above .5, but you can try it and see what the behavior is like. \n",
    "\n",
    "Once you have narrowed it down, make the window even smaller and try it again. If after running the above specification your model reports that .1 is the best optimizer, then you should probably try things like [.05, .08, .1, .12, .15] to try and narrow it down. \n",
    "\n",
    "It can also be good to tune the number of epochs in combination with the learning rate since the number of iterations that you allow the learning rate to reach the minimum can determine if you have let it run long enough to converge to the minimum. \n",
    "\n",
    "<img align=\"left\" src=\"https://miro.medium.com/max/918/0*C5kIkoBwht0fXRgs.jpeg\" width=200>\n",
    "<br></br>\n",
    "<br></br>"
   ]
  },
  {
   "cell_type": "code",
   "execution_count": 8,
   "metadata": {},
   "outputs": [
    {
     "name": "stdout",
     "output_type": "stream",
     "text": [
      "Best: 0.718835425376892 using {'batch_size': 8, 'epochs': 20, 'lr': 0.01}\n",
      "Means: 0.6328240394592285, Stdev: 0.05292509131988432 with: {'batch_size': 8, 'epochs': 20, 'lr': 0.001}\n",
      "Means: 0.718835425376892, Stdev: 0.059960844866939145 with: {'batch_size': 8, 'epochs': 20, 'lr': 0.01}\n",
      "Means: 0.6511586427688598, Stdev: 0.05244526932680711 with: {'batch_size': 8, 'epochs': 20, 'lr': 0.1}\n",
      "Means: 0.6511586427688598, Stdev: 0.05244526932680711 with: {'batch_size': 8, 'epochs': 20, 'lr': 0.2}\n"
     ]
    }
   ],
   "source": [
    "from tensorflow.keras.optimizers import Adam\n",
    "\n",
    "# Function to create model, required for KerasClassifier\n",
    "def create_model(lr=0.01):\n",
    "    # create model\n",
    "    opt = Adam(learning_rate=lr)\n",
    "    model = Sequential()\n",
    "    model.add(Dense(12, input_dim=8, activation='relu'))\n",
    "    model.add(Dense(1, activation='sigmoid'))\n",
    "    # Compile model\n",
    "    model.compile(loss='binary_crossentropy', optimizer=opt, metrics=['accuracy'])\n",
    "    return model\n",
    "\n",
    "# create model\n",
    "model = KerasClassifier(build_fn=create_model, verbose=0)\n",
    "\n",
    "# define the grid search parameters\n",
    "# batch_size = [10, 20, 40, 60, 80, 100]\n",
    "# param_grid = dict(batch_size=batch_size, epochs=epochs)\n",
    "\n",
    "# define the grid search parameters\n",
    "param_grid = {'batch_size': [8],\n",
    "              'epochs': [20],\n",
    "              'lr': [.001, .01, .1, .2]\n",
    "             }\n",
    "\n",
    "# Create Grid Search\n",
    "grid = GridSearchCV(estimator=model, param_grid=param_grid, n_jobs=1)\n",
    "grid_result = grid.fit(X, Y)\n",
    "\n",
    "# Report Results\n",
    "print(f\"Best: {grid_result.best_score_} using {grid_result.best_params_}\")\n",
    "means = grid_result.cv_results_['mean_test_score']\n",
    "stds = grid_result.cv_results_['std_test_score']\n",
    "params = grid_result.cv_results_['params']\n",
    "for mean, stdev, param in zip(means, stds, params):\n",
    "    print(f\"Means: {mean}, Stdev: {stdev} with: {param}\") "
   ]
  },
  {
   "cell_type": "markdown",
   "metadata": {
    "colab_type": "text",
    "id": "gNTBUWd1aLlA"
   },
   "source": [
    "## Momentum\n",
    "\n",
    "Momentum is a hyperparameter that is more commonly associated with Stochastic Gradient Descent. SGD is a common optimizer because it's what people understand and know, but I doubt it will get you the best results, you can try hyperparameter tuning its attributes and see if you can beat the performance from adam. Momentum is a property that decides the willingness of an optimizer to overshoot the minimum. Imagine a ball rolling down one side of a bowl and then up the opposite side a little bit before settling back to the bottom. The purpose of momentum is to try and escale local minima."
   ]
  },
  {
   "cell_type": "markdown",
   "metadata": {
    "colab_type": "text",
    "id": "xnEG-bCJaLnZ"
   },
   "source": [
    "## Activation Functions\n",
    "\n",
    "We've talked about this a little bit, typically you'l want to use ReLU for hidden layers and either Sigmoid, or Softmax for output layers of binary and multi-class classification implementations respectively, but try other activation functions and see if you can get any better results with sigmoid or tanh or something. There are a lot of activation functions that we haven't really talked about. Maybe you'll get good results with them. Maybe you won't. :) <https://keras.io/activations/>"
   ]
  },
  {
   "cell_type": "markdown",
   "metadata": {
    "colab_type": "text",
    "id": "oul9sPq-dU-h"
   },
   "source": [
    "## Network Weight Initialization\n",
    "\n",
    "You saw how big of an effect the way that we initialize our network's weights can have on our results. There are **a lot** of what are called initialization modes. I don't understand all of them, but they can have a big affect on your model's initial accuracy. Your model will get further with less epochs if you initialize it with weights that are well suited to the problem you're trying to solve.\n",
    "\n",
    "`init_mode = ['uniform', 'lecun_uniform', 'normal', 'zero', 'glorot_normal', 'glorot_uniform', 'he_normal', 'he_uniform']`"
   ]
  },
  {
   "cell_type": "markdown",
   "metadata": {
    "colab_type": "text",
    "id": "bqtEuxeQaLqE"
   },
   "source": [
    "## Dropout Regularization and the Weight Constraint\n",
    "\n",
    "the Dropout Regularization value is a percentage of neurons that you want to be randomly deactivated during training. The weight constraint is a second regularization parameter that works in tandem with dropout regularization. You should tune these two values at the same time. \n",
    "\n",
    "Using dropout on visible vs hidden layers might have a different effect. Using dropout on hidden layers might not have any effect while using dropout on hidden layers might have a substantial effect. You don't necessarily need to turn use dropout unless you see that your model has overfitting and generalizability problems."
   ]
  },
  {
   "cell_type": "markdown",
   "metadata": {
    "colab_type": "text",
    "id": "P2c5Cv6oaLtO"
   },
   "source": [
    "## Neurons in Hidden Layer \n",
    "\n",
    "Remember that when we only had a single perceptron our model was only able to fit to linearly separable data, but as we have added layers and nodes to those layers our network has become a powerhouse of fitting nonlinearity in data. The larger the network and the more nodes generally the stronger the network's capacity to fit nonlinear patterns in data. The more nodes and layers the longer it will take to train a network, and higher the probability of overfitting. The larger your network gets the more you'll need dropout regularization or other regularization techniques to keep it in check. \n",
    "\n",
    "Typically depth (more layers) is more important than width (more nodes) for neural networks. This is part of why Deep Learning is so highly touted. Certain deep learning architectures have truly been huge breakthroughs for certain machine learning tasks. \n",
    "\n",
    "You might borrow ideas from other network architectures. For example if I was doing image recognition and I wasn't taking cues from state of the art architectures like resnet, alexnet, googlenet, etc. Then I'm probably going to have to do a lot more experimentation on my own before I find something that works.\n",
    "\n",
    "There are some heuristics, but I am highly skeptical of them. I think you're better off experimenting on your own and forming your own intuition for these kinds of problems. \n",
    "\n",
    "- https://machinelearningmastery.com/how-to-configure-the-number-of-layers-and-nodes-in-a-neural-network/"
   ]
  },
  {
   "cell_type": "markdown",
   "metadata": {},
   "source": [
    "## Challenge\n",
    "You will be expected to tune several hyperparameters in today's module project. "
   ]
  },
  {
   "cell_type": "markdown",
   "metadata": {},
   "source": [
    "# Experiment Tracking Framework (Learn)\n",
    "<a id=\"p2\"></a>"
   ]
  },
  {
   "cell_type": "markdown",
   "metadata": {},
   "source": [
    "## Overview\n",
    "\n",
    "You will notice quickly that managing the results of all the experiments you are running becomes challenging. Which set of parameters did the best? Are my results today different than my results yesterday? Although we use Ipython Notebooks to work, the format is not well suited to logging experimental results. Enter experiment tracking frameworks like [Comet.ml](https://comet.ml) and [Weights and Biases](https://wandb.ai/).\n",
    "\n",
    "Those tools will help you track your experiments, store the results, and the code associated with those experiments. Experimental results can also be readily visualized to see changes in performance across any metric you care about. Data is sent to the tool as each epoch is completed, so you can also see if your model is converging. Let's check out Weights & Biases today. "
   ]
  },
  {
   "cell_type": "markdown",
   "metadata": {},
   "source": [
    "## Follow Along\n",
    "\n",
    "Make sure you login into `wandb` in the terminal before running the next cell. "
   ]
  },
  {
   "cell_type": "code",
   "execution_count": 13,
   "metadata": {},
   "outputs": [],
   "source": [
    "import wandb\n",
    "from wandb.keras import WandbCallback\n",
    "from tensorflow.keras.layers import Dropout"
   ]
  },
  {
   "cell_type": "code",
   "execution_count": 12,
   "metadata": {
    "colab": {
     "base_uri": "https://localhost:8080/",
     "height": 1750
    },
    "colab_type": "code",
    "id": "GMXVfmzXp1Oo",
    "outputId": "b05e251e-508f-46e6-865b-f869ae2a5dc4"
   },
   "outputs": [
    {
     "data": {
      "text/html": [
       "\n",
       "                Logging results to <a href=\"https://wandb.com\" target=\"_blank\">Weights & Biases</a> <a href=\"https://docs.wandb.com/integrations/jupyter.html\" target=\"_blank\">(Documentation)</a>.<br/>\n",
       "                Project page: <a href=\"https://app.wandb.ai/ds8/ds13_inclass\" target=\"_blank\">https://app.wandb.ai/ds8/ds13_inclass</a><br/>\n",
       "                Run page: <a href=\"https://app.wandb.ai/ds8/ds13_inclass/runs/2f5hnhtv\" target=\"_blank\">https://app.wandb.ai/ds8/ds13_inclass/runs/2f5hnhtv</a><br/>\n",
       "            "
      ],
      "text/plain": [
       "<IPython.core.display.HTML object>"
      ]
     },
     "metadata": {},
     "output_type": "display_data"
    },
    {
     "name": "stderr",
     "output_type": "stream",
     "text": [
      "\u001b[34m\u001b[1mwandb\u001b[0m: Wandb version 0.8.36 is available!  To upgrade, please run:\n",
      "\u001b[34m\u001b[1mwandb\u001b[0m:  $ pip install wandb --upgrade\n"
     ]
    },
    {
     "name": "stdout",
     "output_type": "stream",
     "text": [
      "Epoch 1/50\n",
      "9/9 [==============================] - 0s 16ms/step - loss: 526.3895 - mse: 526.3895 - mae: 21.2134 - val_loss: 584.1267 - val_mse: 584.1267 - val_mae: 22.0330\n",
      "Epoch 2/50\n",
      "9/9 [==============================] - 0s 9ms/step - loss: 468.2961 - mse: 468.2961 - mae: 19.7768 - val_loss: 511.8218 - val_mse: 511.8218 - val_mae: 20.2564\n",
      "Epoch 3/50\n",
      "9/9 [==============================] - 0s 8ms/step - loss: 389.4769 - mse: 389.4769 - mae: 17.5525 - val_loss: 404.6097 - val_mse: 404.6097 - val_mae: 17.3682\n",
      "Epoch 4/50\n",
      "9/9 [==============================] - 0s 10ms/step - loss: 278.5723 - mse: 278.5723 - mae: 14.1660 - val_loss: 270.8217 - val_mse: 270.8217 - val_mae: 13.4384\n",
      "Epoch 5/50\n",
      "9/9 [==============================] - 0s 10ms/step - loss: 160.9369 - mse: 160.9369 - mae: 10.1819 - val_loss: 156.6449 - val_mse: 156.6449 - val_mae: 9.5459\n",
      "Epoch 6/50\n",
      "9/9 [==============================] - 0s 8ms/step - loss: 90.6565 - mse: 90.6565 - mae: 7.3322 - val_loss: 112.7574 - val_mse: 112.7574 - val_mae: 8.2845\n",
      "Epoch 7/50\n",
      "9/9 [==============================] - 0s 9ms/step - loss: 70.7770 - mse: 70.7770 - mae: 6.2092 - val_loss: 89.8906 - val_mse: 89.8906 - val_mae: 7.2155\n",
      "Epoch 8/50\n",
      "9/9 [==============================] - 0s 9ms/step - loss: 50.5230 - mse: 50.5230 - mae: 5.1790 - val_loss: 71.1840 - val_mse: 71.1840 - val_mae: 6.1848\n",
      "Epoch 9/50\n",
      "9/9 [==============================] - 0s 9ms/step - loss: 37.9807 - mse: 37.9807 - mae: 4.4991 - val_loss: 55.6171 - val_mse: 55.6171 - val_mae: 5.2898\n",
      "Epoch 10/50\n",
      "9/9 [==============================] - 0s 9ms/step - loss: 29.1862 - mse: 29.1862 - mae: 3.9740 - val_loss: 43.5164 - val_mse: 43.5164 - val_mae: 4.6237\n",
      "Epoch 11/50\n",
      "9/9 [==============================] - 0s 8ms/step - loss: 23.2788 - mse: 23.2788 - mae: 3.5995 - val_loss: 36.0178 - val_mse: 36.0178 - val_mae: 4.1728\n",
      "Epoch 12/50\n",
      "9/9 [==============================] - 0s 9ms/step - loss: 19.9957 - mse: 19.9957 - mae: 3.3002 - val_loss: 31.3285 - val_mse: 31.3285 - val_mae: 3.8629\n",
      "Epoch 13/50\n",
      "9/9 [==============================] - 0s 10ms/step - loss: 17.4236 - mse: 17.4236 - mae: 3.0411 - val_loss: 28.6899 - val_mse: 28.6899 - val_mae: 3.6723\n",
      "Epoch 14/50\n",
      "9/9 [==============================] - 0s 9ms/step - loss: 15.6735 - mse: 15.6735 - mae: 2.8562 - val_loss: 26.9657 - val_mse: 26.9657 - val_mae: 3.5162\n",
      "Epoch 15/50\n",
      "9/9 [==============================] - 0s 9ms/step - loss: 14.3534 - mse: 14.3534 - mae: 2.7438 - val_loss: 25.1243 - val_mse: 25.1243 - val_mae: 3.4111\n",
      "Epoch 16/50\n",
      "9/9 [==============================] - 0s 9ms/step - loss: 13.4015 - mse: 13.4015 - mae: 2.7161 - val_loss: 22.9819 - val_mse: 22.9819 - val_mae: 3.2896\n",
      "Epoch 17/50\n",
      "9/9 [==============================] - 0s 10ms/step - loss: 12.6799 - mse: 12.6799 - mae: 2.6638 - val_loss: 22.1383 - val_mse: 22.1383 - val_mae: 3.1787\n",
      "Epoch 18/50\n",
      "9/9 [==============================] - 0s 9ms/step - loss: 11.8920 - mse: 11.8920 - mae: 2.5480 - val_loss: 21.3240 - val_mse: 21.3240 - val_mae: 3.0776\n",
      "Epoch 19/50\n",
      "9/9 [==============================] - 0s 12ms/step - loss: 11.4126 - mse: 11.4126 - mae: 2.4791 - val_loss: 21.0128 - val_mse: 21.0128 - val_mae: 3.0428\n",
      "Epoch 20/50\n",
      "9/9 [==============================] - 0s 10ms/step - loss: 10.7261 - mse: 10.7261 - mae: 2.4438 - val_loss: 19.8357 - val_mse: 19.8357 - val_mae: 2.9840\n",
      "Epoch 21/50\n",
      "9/9 [==============================] - 0s 11ms/step - loss: 10.5012 - mse: 10.5012 - mae: 2.4624 - val_loss: 19.1883 - val_mse: 19.1883 - val_mae: 2.9323\n",
      "Epoch 22/50\n",
      "9/9 [==============================] - 0s 7ms/step - loss: 10.0518 - mse: 10.0518 - mae: 2.3695 - val_loss: 19.4826 - val_mse: 19.4826 - val_mae: 2.9378\n",
      "Epoch 23/50\n",
      "9/9 [==============================] - 0s 9ms/step - loss: 9.7744 - mse: 9.7744 - mae: 2.3424 - val_loss: 18.6926 - val_mse: 18.6926 - val_mae: 2.8954\n",
      "Epoch 24/50\n",
      "9/9 [==============================] - 0s 9ms/step - loss: 9.4775 - mse: 9.4775 - mae: 2.3116 - val_loss: 18.2967 - val_mse: 18.2967 - val_mae: 2.8717\n",
      "Epoch 25/50\n",
      "9/9 [==============================] - 0s 8ms/step - loss: 9.2483 - mse: 9.2483 - mae: 2.2704 - val_loss: 17.9189 - val_mse: 17.9189 - val_mae: 2.8264\n",
      "Epoch 26/50\n",
      "9/9 [==============================] - 0s 9ms/step - loss: 8.9169 - mse: 8.9169 - mae: 2.2357 - val_loss: 17.8524 - val_mse: 17.8524 - val_mae: 2.8238\n",
      "Epoch 27/50\n",
      "9/9 [==============================] - 0s 9ms/step - loss: 8.7884 - mse: 8.7884 - mae: 2.2056 - val_loss: 17.7029 - val_mse: 17.7029 - val_mae: 2.7993\n",
      "Epoch 28/50\n",
      "9/9 [==============================] - 0s 9ms/step - loss: 8.6753 - mse: 8.6753 - mae: 2.2035 - val_loss: 17.1542 - val_mse: 17.1542 - val_mae: 2.7892\n",
      "Epoch 29/50\n",
      "9/9 [==============================] - 0s 6ms/step - loss: 8.4792 - mse: 8.4792 - mae: 2.1827 - val_loss: 17.2875 - val_mse: 17.2875 - val_mae: 2.7876\n",
      "Epoch 30/50\n",
      "9/9 [==============================] - 0s 10ms/step - loss: 8.2976 - mse: 8.2976 - mae: 2.1577 - val_loss: 17.0538 - val_mse: 17.0538 - val_mae: 2.7852\n",
      "Epoch 31/50\n",
      "9/9 [==============================] - 0s 10ms/step - loss: 8.1524 - mse: 8.1524 - mae: 2.1618 - val_loss: 16.5714 - val_mse: 16.5714 - val_mae: 2.7623\n",
      "Epoch 32/50\n",
      "9/9 [==============================] - 0s 7ms/step - loss: 7.9665 - mse: 7.9665 - mae: 2.1287 - val_loss: 16.6536 - val_mse: 16.6536 - val_mae: 2.7689\n",
      "Epoch 33/50\n",
      "9/9 [==============================] - 0s 7ms/step - loss: 7.9154 - mse: 7.9154 - mae: 2.0967 - val_loss: 16.8578 - val_mse: 16.8578 - val_mae: 2.7909\n",
      "Epoch 34/50\n",
      "9/9 [==============================] - 0s 9ms/step - loss: 7.7590 - mse: 7.7590 - mae: 2.0887 - val_loss: 16.4861 - val_mse: 16.4861 - val_mae: 2.7483\n",
      "Epoch 35/50\n",
      "9/9 [==============================] - 0s 9ms/step - loss: 7.6511 - mse: 7.6511 - mae: 2.0730 - val_loss: 16.3903 - val_mse: 16.3903 - val_mae: 2.7529\n",
      "Epoch 36/50\n",
      "9/9 [==============================] - 0s 9ms/step - loss: 7.5698 - mse: 7.5698 - mae: 2.0610 - val_loss: 16.3641 - val_mse: 16.3641 - val_mae: 2.7636\n",
      "Epoch 37/50\n",
      "9/9 [==============================] - 0s 7ms/step - loss: 7.4525 - mse: 7.4525 - mae: 2.0354 - val_loss: 16.3960 - val_mse: 16.3960 - val_mae: 2.7599\n",
      "Epoch 38/50\n",
      "9/9 [==============================] - 0s 9ms/step - loss: 7.3466 - mse: 7.3466 - mae: 2.0148 - val_loss: 16.2497 - val_mse: 16.2497 - val_mae: 2.7448\n",
      "Epoch 39/50\n",
      "9/9 [==============================] - 0s 9ms/step - loss: 7.4392 - mse: 7.4392 - mae: 2.0639 - val_loss: 15.9877 - val_mse: 15.9877 - val_mae: 2.7270\n",
      "Epoch 40/50\n",
      "9/9 [==============================] - 0s 6ms/step - loss: 7.2129 - mse: 7.2129 - mae: 2.0079 - val_loss: 16.4998 - val_mse: 16.4998 - val_mae: 2.7718\n",
      "Epoch 41/50\n",
      "9/9 [==============================] - 0s 6ms/step - loss: 7.2266 - mse: 7.2266 - mae: 1.9802 - val_loss: 16.1306 - val_mse: 16.1306 - val_mae: 2.7208\n",
      "Epoch 42/50\n",
      "9/9 [==============================] - 0s 8ms/step - loss: 7.1024 - mse: 7.1024 - mae: 2.0070 - val_loss: 15.6803 - val_mse: 15.6803 - val_mae: 2.6754\n",
      "Epoch 43/50\n",
      "9/9 [==============================] - 0s 6ms/step - loss: 6.9922 - mse: 6.9922 - mae: 1.9837 - val_loss: 15.9491 - val_mse: 15.9491 - val_mae: 2.7122\n",
      "Epoch 44/50\n",
      "9/9 [==============================] - 0s 6ms/step - loss: 6.9982 - mse: 6.9982 - mae: 1.9498 - val_loss: 16.0627 - val_mse: 16.0627 - val_mae: 2.7149\n",
      "Epoch 45/50\n",
      "9/9 [==============================] - 0s 6ms/step - loss: 6.8553 - mse: 6.8553 - mae: 1.9711 - val_loss: 15.8731 - val_mse: 15.8731 - val_mae: 2.7093\n",
      "Epoch 46/50\n",
      "9/9 [==============================] - 0s 6ms/step - loss: 6.7818 - mse: 6.7818 - mae: 1.9488 - val_loss: 16.0215 - val_mse: 16.0215 - val_mae: 2.7091\n",
      "Epoch 47/50\n",
      "9/9 [==============================] - 0s 6ms/step - loss: 6.7839 - mse: 6.7839 - mae: 1.9352 - val_loss: 16.1721 - val_mse: 16.1721 - val_mae: 2.7381\n",
      "Epoch 48/50\n",
      "9/9 [==============================] - 0s 9ms/step - loss: 6.5946 - mse: 6.5946 - mae: 1.9002 - val_loss: 15.5760 - val_mse: 15.5760 - val_mae: 2.6651\n",
      "Epoch 49/50\n",
      "9/9 [==============================] - 0s 6ms/step - loss: 6.6182 - mse: 6.6182 - mae: 1.9394 - val_loss: 15.7116 - val_mse: 15.7116 - val_mae: 2.6812\n",
      "Epoch 50/50\n",
      "9/9 [==============================] - 0s 6ms/step - loss: 6.7015 - mse: 6.7015 - mae: 1.9108 - val_loss: 16.0871 - val_mse: 16.0871 - val_mae: 2.7179\n"
     ]
    },
    {
     "data": {
      "text/plain": [
       "<tensorflow.python.keras.callbacks.History at 0x7f846fe59748>"
      ]
     },
     "execution_count": 12,
     "metadata": {},
     "output_type": "execute_result"
    }
   ],
   "source": [
    "wandb.init(project=wandb_project, entity=wandb_group) #Initializes and Experiment; this should be in the same cell as the fit statement\n",
    "\n",
    "# Important Hyperparameters\n",
    "X =  x_train\n",
    "y =  y_train\n",
    "\n",
    "inputs = X.shape[1]\n",
    "wandb.config.epochs = 50\n",
    "wandb.config.batch_size = 32\n",
    "\n",
    "# Create Model\n",
    "model = Sequential()\n",
    "model.add(Dense(64, activation='relu', input_shape=(inputs,)))\n",
    "model.add(Dense(64, activation='relu'))\n",
    "model.add(Dense(64, activation='relu'))\n",
    "model.add(Dense(1))\n",
    "# Compile Model\n",
    "model.compile(optimizer='adam', loss='mse', metrics=['mse', 'mae'])\n",
    "\n",
    "# Fit Model\n",
    "model.fit(X, y, \n",
    "          validation_split=0.33, \n",
    "          epochs=wandb.config.epochs, \n",
    "          batch_size=wandb.config.batch_size, \n",
    "          callbacks=[WandbCallback()]\n",
    "         )"
   ]
  },
  {
   "cell_type": "markdown",
   "metadata": {},
   "source": [
    "### Your Turn\n",
    "\n",
    "Pick a few hyparameters that we *have not* tuned. Using the same code above, try changing a few parameters you're interested in and submitting the results to weights & biases. :) "
   ]
  },
  {
   "cell_type": "code",
   "execution_count": 16,
   "metadata": {},
   "outputs": [
    {
     "data": {
      "text/html": [
       "\n",
       "                Logging results to <a href=\"https://wandb.com\" target=\"_blank\">Weights & Biases</a> <a href=\"https://docs.wandb.com/integrations/jupyter.html\" target=\"_blank\">(Documentation)</a>.<br/>\n",
       "                Project page: <a href=\"https://app.wandb.ai/ds8/ds13_inclass\" target=\"_blank\">https://app.wandb.ai/ds8/ds13_inclass</a><br/>\n",
       "                Run page: <a href=\"https://app.wandb.ai/ds8/ds13_inclass/runs/1opsicob\" target=\"_blank\">https://app.wandb.ai/ds8/ds13_inclass/runs/1opsicob</a><br/>\n",
       "            "
      ],
      "text/plain": [
       "<IPython.core.display.HTML object>"
      ]
     },
     "metadata": {},
     "output_type": "display_data"
    },
    {
     "name": "stderr",
     "output_type": "stream",
     "text": [
      "\u001b[34m\u001b[1mwandb\u001b[0m: Wandb version 0.8.36 is available!  To upgrade, please run:\n",
      "\u001b[34m\u001b[1mwandb\u001b[0m:  $ pip install wandb --upgrade\n"
     ]
    },
    {
     "name": "stdout",
     "output_type": "stream",
     "text": [
      "Epoch 1/50\n",
      "9/9 [==============================] - 0s 16ms/step - loss: 514.8749 - mse: 514.8749 - mae: 20.8067 - val_loss: 532.4934 - val_mse: 532.4934 - val_mae: 20.6799\n",
      "Epoch 2/50\n",
      "9/9 [==============================] - 0s 9ms/step - loss: 387.5506 - mse: 387.5506 - mae: 17.2475 - val_loss: 358.6980 - val_mse: 358.6980 - val_mae: 16.2500\n",
      "Epoch 3/50\n",
      "9/9 [==============================] - 0s 9ms/step - loss: 222.0815 - mse: 222.0815 - mae: 12.5811 - val_loss: 170.2490 - val_mse: 170.2490 - val_mae: 10.4169\n",
      "Epoch 4/50\n",
      "9/9 [==============================] - 0s 9ms/step - loss: 100.8014 - mse: 100.8014 - mae: 8.2463 - val_loss: 103.1693 - val_mse: 103.1693 - val_mae: 8.2981\n",
      "Epoch 5/50\n",
      "9/9 [==============================] - 0s 9ms/step - loss: 81.6818 - mse: 81.6818 - mae: 6.8598 - val_loss: 77.4397 - val_mse: 77.4397 - val_mae: 6.6907\n",
      "Epoch 6/50\n",
      "9/9 [==============================] - 0s 9ms/step - loss: 47.7846 - mse: 47.7846 - mae: 5.1534 - val_loss: 64.2234 - val_mse: 64.2234 - val_mae: 5.6876\n",
      "Epoch 7/50\n",
      "9/9 [==============================] - 0s 9ms/step - loss: 35.8220 - mse: 35.8220 - mae: 4.4955 - val_loss: 41.7610 - val_mse: 41.7610 - val_mae: 4.3757\n",
      "Epoch 8/50\n",
      "9/9 [==============================] - 0s 9ms/step - loss: 27.2178 - mse: 27.2178 - mae: 3.9468 - val_loss: 34.1090 - val_mse: 34.1090 - val_mae: 3.8876\n",
      "Epoch 9/50\n",
      "9/9 [==============================] - 0s 9ms/step - loss: 22.8195 - mse: 22.8195 - mae: 3.6069 - val_loss: 32.0007 - val_mse: 32.0007 - val_mae: 3.6626\n",
      "Epoch 10/50\n",
      "9/9 [==============================] - 0s 9ms/step - loss: 26.1018 - mse: 26.1018 - mae: 3.8236 - val_loss: 30.7610 - val_mse: 30.7610 - val_mae: 3.5912\n",
      "Epoch 11/50\n",
      "9/9 [==============================] - 0s 9ms/step - loss: 21.8363 - mse: 21.8363 - mae: 3.3636 - val_loss: 28.4992 - val_mse: 28.4992 - val_mae: 3.4931\n",
      "Epoch 12/50\n",
      "9/9 [==============================] - 0s 9ms/step - loss: 21.4592 - mse: 21.4592 - mae: 3.3788 - val_loss: 25.9079 - val_mse: 25.9079 - val_mae: 3.3541\n",
      "Epoch 13/50\n",
      "9/9 [==============================] - 0s 7ms/step - loss: 22.4490 - mse: 22.4490 - mae: 3.4632 - val_loss: 27.8876 - val_mse: 27.8876 - val_mae: 3.5434\n",
      "Epoch 14/50\n",
      "9/9 [==============================] - 0s 10ms/step - loss: 18.6446 - mse: 18.6446 - mae: 3.2876 - val_loss: 24.3441 - val_mse: 24.3441 - val_mae: 3.2266\n",
      "Epoch 15/50\n",
      "9/9 [==============================] - 0s 6ms/step - loss: 17.3194 - mse: 17.3194 - mae: 3.1782 - val_loss: 24.4977 - val_mse: 24.4977 - val_mae: 3.2321\n",
      "Epoch 16/50\n",
      "9/9 [==============================] - 0s 6ms/step - loss: 17.7445 - mse: 17.7445 - mae: 3.0786 - val_loss: 24.6731 - val_mse: 24.6731 - val_mae: 3.2712\n",
      "Epoch 17/50\n",
      "9/9 [==============================] - 0s 9ms/step - loss: 15.4784 - mse: 15.4784 - mae: 3.0768 - val_loss: 21.4506 - val_mse: 21.4506 - val_mae: 3.0129\n",
      "Epoch 18/50\n",
      "9/9 [==============================] - 0s 10ms/step - loss: 17.3486 - mse: 17.3486 - mae: 3.2610 - val_loss: 20.4178 - val_mse: 20.4178 - val_mae: 2.9341\n",
      "Epoch 19/50\n",
      "9/9 [==============================] - 0s 7ms/step - loss: 17.1563 - mse: 17.1563 - mae: 3.0679 - val_loss: 20.7011 - val_mse: 20.7011 - val_mae: 2.9532\n",
      "Epoch 20/50\n",
      "9/9 [==============================] - 0s 10ms/step - loss: 12.7634 - mse: 12.7634 - mae: 2.8260 - val_loss: 19.6185 - val_mse: 19.6185 - val_mae: 2.9111\n",
      "Epoch 21/50\n",
      "9/9 [==============================] - 0s 8ms/step - loss: 18.7330 - mse: 18.7330 - mae: 3.2416 - val_loss: 19.7492 - val_mse: 19.7492 - val_mae: 2.9407\n",
      "Epoch 22/50\n",
      "9/9 [==============================] - 0s 11ms/step - loss: 13.8349 - mse: 13.8349 - mae: 2.9141 - val_loss: 18.9103 - val_mse: 18.9103 - val_mae: 2.8880\n",
      "Epoch 23/50\n",
      "9/9 [==============================] - 0s 11ms/step - loss: 15.0785 - mse: 15.0785 - mae: 2.9126 - val_loss: 18.1876 - val_mse: 18.1876 - val_mae: 2.8192\n",
      "Epoch 24/50\n",
      "9/9 [==============================] - 0s 7ms/step - loss: 13.1079 - mse: 13.1079 - mae: 2.8171 - val_loss: 18.5163 - val_mse: 18.5163 - val_mae: 2.8153\n",
      "Epoch 25/50\n",
      "9/9 [==============================] - 0s 7ms/step - loss: 13.1853 - mse: 13.1853 - mae: 2.6880 - val_loss: 18.2457 - val_mse: 18.2457 - val_mae: 2.7487\n",
      "Epoch 26/50\n",
      "9/9 [==============================] - 0s 6ms/step - loss: 13.6208 - mse: 13.6208 - mae: 2.8794 - val_loss: 18.5035 - val_mse: 18.5035 - val_mae: 2.7667\n",
      "Epoch 27/50\n",
      "9/9 [==============================] - 0s 7ms/step - loss: 14.6593 - mse: 14.6593 - mae: 2.9637 - val_loss: 18.3893 - val_mse: 18.3893 - val_mae: 2.8019\n",
      "Epoch 28/50\n",
      "9/9 [==============================] - 0s 7ms/step - loss: 14.3260 - mse: 14.3260 - mae: 2.8668 - val_loss: 18.7199 - val_mse: 18.7199 - val_mae: 2.8648\n",
      "Epoch 29/50\n",
      "9/9 [==============================] - 0s 9ms/step - loss: 16.1049 - mse: 16.1049 - mae: 2.8986 - val_loss: 17.2677 - val_mse: 17.2677 - val_mae: 2.7345\n",
      "Epoch 30/50\n",
      "9/9 [==============================] - 0s 7ms/step - loss: 15.7270 - mse: 15.7270 - mae: 2.9186 - val_loss: 18.6532 - val_mse: 18.6532 - val_mae: 2.8477\n",
      "Epoch 31/50\n",
      "9/9 [==============================] - 0s 9ms/step - loss: 12.9243 - mse: 12.9243 - mae: 2.7875 - val_loss: 17.0562 - val_mse: 17.0562 - val_mae: 2.7053\n",
      "Epoch 32/50\n",
      "9/9 [==============================] - 0s 6ms/step - loss: 13.3545 - mse: 13.3545 - mae: 2.8635 - val_loss: 18.0641 - val_mse: 18.0641 - val_mae: 2.8546\n",
      "Epoch 33/50\n",
      "9/9 [==============================] - 0s 9ms/step - loss: 12.8963 - mse: 12.8963 - mae: 2.6549 - val_loss: 16.8945 - val_mse: 16.8945 - val_mae: 2.7097\n",
      "Epoch 34/50\n",
      "9/9 [==============================] - 0s 10ms/step - loss: 14.5758 - mse: 14.5758 - mae: 2.8753 - val_loss: 16.6752 - val_mse: 16.6752 - val_mae: 2.7037\n",
      "Epoch 35/50\n",
      "9/9 [==============================] - 0s 7ms/step - loss: 12.0223 - mse: 12.0223 - mae: 2.6053 - val_loss: 17.5385 - val_mse: 17.5385 - val_mae: 2.7861\n",
      "Epoch 36/50\n",
      "9/9 [==============================] - 0s 6ms/step - loss: 13.2111 - mse: 13.2111 - mae: 2.8480 - val_loss: 16.9761 - val_mse: 16.9761 - val_mae: 2.7410\n",
      "Epoch 37/50\n",
      "9/9 [==============================] - 0s 7ms/step - loss: 11.6780 - mse: 11.6780 - mae: 2.6304 - val_loss: 17.3314 - val_mse: 17.3314 - val_mae: 2.7777\n",
      "Epoch 38/50\n",
      "9/9 [==============================] - 0s 9ms/step - loss: 11.6296 - mse: 11.6296 - mae: 2.6327 - val_loss: 16.3404 - val_mse: 16.3404 - val_mae: 2.6863\n",
      "Epoch 39/50\n",
      "9/9 [==============================] - 0s 7ms/step - loss: 10.6958 - mse: 10.6958 - mae: 2.4988 - val_loss: 16.7416 - val_mse: 16.7416 - val_mae: 2.7318\n",
      "Epoch 40/50\n",
      "9/9 [==============================] - 0s 6ms/step - loss: 12.6730 - mse: 12.6730 - mae: 2.7224 - val_loss: 17.6666 - val_mse: 17.6666 - val_mae: 2.8583\n",
      "Epoch 41/50\n",
      "9/9 [==============================] - 0s 9ms/step - loss: 12.9116 - mse: 12.9116 - mae: 2.7845 - val_loss: 16.1407 - val_mse: 16.1407 - val_mae: 2.6787\n",
      "Epoch 42/50\n",
      "9/9 [==============================] - 0s 7ms/step - loss: 12.6806 - mse: 12.6806 - mae: 2.7036 - val_loss: 16.8133 - val_mse: 16.8133 - val_mae: 2.7313\n",
      "Epoch 43/50\n",
      "9/9 [==============================] - 0s 10ms/step - loss: 11.3671 - mse: 11.3671 - mae: 2.5137 - val_loss: 15.9895 - val_mse: 15.9895 - val_mae: 2.6673\n",
      "Epoch 44/50\n",
      "9/9 [==============================] - 0s 9ms/step - loss: 12.2540 - mse: 12.2540 - mae: 2.6847 - val_loss: 15.7245 - val_mse: 15.7245 - val_mae: 2.6349\n",
      "Epoch 45/50\n",
      "9/9 [==============================] - 0s 6ms/step - loss: 11.1774 - mse: 11.1774 - mae: 2.6320 - val_loss: 17.3591 - val_mse: 17.3591 - val_mae: 2.8297\n",
      "Epoch 46/50\n",
      "9/9 [==============================] - 0s 6ms/step - loss: 11.4340 - mse: 11.4340 - mae: 2.5680 - val_loss: 15.8695 - val_mse: 15.8695 - val_mae: 2.6529\n",
      "Epoch 47/50\n",
      "9/9 [==============================] - 0s 6ms/step - loss: 11.7700 - mse: 11.7700 - mae: 2.6050 - val_loss: 17.2850 - val_mse: 17.2850 - val_mae: 2.8196\n",
      "Epoch 48/50\n",
      "9/9 [==============================] - 0s 9ms/step - loss: 11.3867 - mse: 11.3867 - mae: 2.5378 - val_loss: 15.0580 - val_mse: 15.0580 - val_mae: 2.5946\n",
      "Epoch 49/50\n",
      "9/9 [==============================] - 0s 6ms/step - loss: 8.9539 - mse: 8.9539 - mae: 2.3278 - val_loss: 17.1281 - val_mse: 17.1281 - val_mae: 2.7921\n",
      "Epoch 50/50\n"
     ]
    },
    {
     "name": "stdout",
     "output_type": "stream",
     "text": [
      "1/9 [==>...........................] - ETA: 0s - loss: 26.5022 - mse: 26.5022 - mae: 3.5104\b\b\b\b\b\b\b\b\b\b\b\b\b\b\b\b\b\b\b\b\b\b\b\b\b\b\b\b\b\b\b\b\b\b\b\b\b\b\b\b\b\b\b\b\b\b\b\b\b\b\b\b\b\b\b\b\b\b\b\b\b\b\b\b\b\b\b\b\b\b\b\b\b\b\b\b\b\b\b\b\b\b\b\b\b\b\b\b\b\b\b\r",
      "9/9 [==============================] - 0s 6ms/step - loss: 13.3638 - mse: 13.3638 - mae: 2.6670 - val_loss: 16.8473 - val_mse: 16.8473 - val_mae: 2.7971\n"
     ]
    },
    {
     "data": {
      "text/plain": [
       "<tensorflow.python.keras.callbacks.History at 0x7f836851e320>"
      ]
     },
     "execution_count": 16,
     "metadata": {},
     "output_type": "execute_result"
    }
   ],
   "source": [
    "wandb.init(project=wandb_project, entity=wandb_group) #Initializes and Experiment\n",
    "\n",
    "wandb.config.epochs = 50\n",
    "wandb.config.batch_size = 32\n",
    "\n",
    "\n",
    "# Create Model\n",
    "model = Sequential()\n",
    "model.add(Dense(120, activation='relu', input_shape=(inputs,)))\n",
    "model.add(Dropout(0.2))\n",
    "model.add(Dense(120, activation='relu'))\n",
    "model.add(Dropout(0.2))\n",
    "model.add(Dense(120, activation='relu'))\n",
    "model.add(Dense(1))\n",
    "# Compile Model\n",
    "model.compile(optimizer='adam', loss='mse', metrics=['mse', 'mae'])\n",
    "\n",
    "\n",
    "\n",
    "# Fit Model\n",
    "model.fit(X, y, \n",
    "          validation_split=0.33, \n",
    "          epochs=wandb.config.epochs, \n",
    "          batch_size=wandb.config.batch_size, \n",
    "          callbacks=[WandbCallback()]\n",
    "         )"
   ]
  },
  {
   "cell_type": "markdown",
   "metadata": {},
   "source": [
    "## Challenge\n",
    "\n",
    "You will be expected to use Weights & Biases to try to tune your model during your module assignment today. "
   ]
  },
  {
   "cell_type": "markdown",
   "metadata": {},
   "source": [
    "# Hyperparameters with RandomSearchCV (Learn)"
   ]
  },
  {
   "cell_type": "markdown",
   "metadata": {},
   "source": [
    "## Overview\n",
    "\n",
    "Basically `GridSearchCV` takes forever. You'll want to adopt a slightly more sophiscated strategy.\n",
    "\n",
    "Let's also take a look at an alternative with Keras-Tuner."
   ]
  },
  {
   "cell_type": "code",
   "execution_count": 18,
   "metadata": {},
   "outputs": [],
   "source": [
    "%%capture\n",
    "!pip install keras-tuner"
   ]
  },
  {
   "cell_type": "markdown",
   "metadata": {},
   "source": [
    "## Follow Along"
   ]
  },
  {
   "cell_type": "code",
   "execution_count": 23,
   "metadata": {},
   "outputs": [],
   "source": [
    "from tensorflow import keras\n",
    "from tensorflow.keras import layers\n",
    "from kerastuner.tuners import RandomSearch\n",
    "\n",
    "\"\"\"\n",
    "This model Tunes:\n",
    "- Number of Neurons in the Hidden Layer\n",
    "- Learning Rate in Adam\n",
    "\n",
    "\"\"\"\n",
    "\n",
    "def build_model(hp):\n",
    "    model = keras.Sequential()\n",
    "    model.add(layers.Dense(units=hp.Int('units',\n",
    "                                        min_value=32,\n",
    "                                        max_value=512,\n",
    "                                        step=32),\n",
    "                           activation='relu'))\n",
    "    model.add(layers.Dense(1))\n",
    "    model.compile(\n",
    "        optimizer=keras.optimizers.Adam(\n",
    "            hp.Choice('learning_rate',\n",
    "                      values=[1e-2, 1e-3, 1e-4])),\n",
    "        loss='mse',\n",
    "        metrics=['mae'])\n",
    "    \n",
    "    return model"
   ]
  },
  {
   "cell_type": "code",
   "execution_count": 26,
   "metadata": {},
   "outputs": [],
   "source": [
    "tuner = RandomSearch(\n",
    "    build_model,\n",
    "    objective='val_loss',\n",
    "    max_trials=5,\n",
    "    executions_per_trial=3,\n",
    "    directory='./keras-tuner-trial',\n",
    "    project_name='helloworld')"
   ]
  },
  {
   "cell_type": "code",
   "execution_count": 27,
   "metadata": {},
   "outputs": [
    {
     "data": {
      "text/html": [
       "<span style=\"color:#4527A0\"><h1 style=\"font-size:18px\">Search space summary</h1></span>"
      ],
      "text/plain": [
       "<IPython.core.display.HTML object>"
      ]
     },
     "metadata": {},
     "output_type": "display_data"
    },
    {
     "data": {
      "text/html": [
       "<span style=\"color:cyan\"> |-Default search space size: 2</span>"
      ],
      "text/plain": [
       "<IPython.core.display.HTML object>"
      ]
     },
     "metadata": {},
     "output_type": "display_data"
    },
    {
     "data": {
      "text/html": [
       "<span style=\"color:#7E57C2\"><h2 style=\"font-size:16px\">units (Int)</h2></span>"
      ],
      "text/plain": [
       "<IPython.core.display.HTML object>"
      ]
     },
     "metadata": {},
     "output_type": "display_data"
    },
    {
     "data": {
      "text/html": [
       "<span style=\"color:cyan\"> |-default: None</span>"
      ],
      "text/plain": [
       "<IPython.core.display.HTML object>"
      ]
     },
     "metadata": {},
     "output_type": "display_data"
    },
    {
     "data": {
      "text/html": [
       "<span style=\"color:blue\"> |-max_value: 512</span>"
      ],
      "text/plain": [
       "<IPython.core.display.HTML object>"
      ]
     },
     "metadata": {},
     "output_type": "display_data"
    },
    {
     "data": {
      "text/html": [
       "<span style=\"color:cyan\"> |-min_value: 32</span>"
      ],
      "text/plain": [
       "<IPython.core.display.HTML object>"
      ]
     },
     "metadata": {},
     "output_type": "display_data"
    },
    {
     "data": {
      "text/html": [
       "<span style=\"color:blue\"> |-sampling: None</span>"
      ],
      "text/plain": [
       "<IPython.core.display.HTML object>"
      ]
     },
     "metadata": {},
     "output_type": "display_data"
    },
    {
     "data": {
      "text/html": [
       "<span style=\"color:cyan\"> |-step: 32</span>"
      ],
      "text/plain": [
       "<IPython.core.display.HTML object>"
      ]
     },
     "metadata": {},
     "output_type": "display_data"
    },
    {
     "data": {
      "text/html": [
       "<span style=\"color:#7E57C2\"><h2 style=\"font-size:16px\">learning_rate (Choice)</h2></span>"
      ],
      "text/plain": [
       "<IPython.core.display.HTML object>"
      ]
     },
     "metadata": {},
     "output_type": "display_data"
    },
    {
     "data": {
      "text/html": [
       "<span style=\"color:cyan\"> |-default: 0.01</span>"
      ],
      "text/plain": [
       "<IPython.core.display.HTML object>"
      ]
     },
     "metadata": {},
     "output_type": "display_data"
    },
    {
     "data": {
      "text/html": [
       "<span style=\"color:blue\"> |-ordered: True</span>"
      ],
      "text/plain": [
       "<IPython.core.display.HTML object>"
      ]
     },
     "metadata": {},
     "output_type": "display_data"
    },
    {
     "data": {
      "text/html": [
       "<span style=\"color:cyan\"> |-values: [0.01, 0.001, 0.0001]</span>"
      ],
      "text/plain": [
       "<IPython.core.display.HTML object>"
      ]
     },
     "metadata": {},
     "output_type": "display_data"
    }
   ],
   "source": [
    "tuner.search_space_summary()"
   ]
  },
  {
   "cell_type": "code",
   "execution_count": 28,
   "metadata": {},
   "outputs": [
    {
     "name": "stdout",
     "output_type": "stream",
     "text": [
      "Epoch 1/5\n",
      "WARNING:tensorflow:Layer dense is casting an input tensor from dtype float64 to the layer's dtype of float32, which is new behavior in TensorFlow 2.  The layer has dtype float32 because it's dtype defaults to floatx.\n",
      "\n",
      "If you intended to run this layer in float32, you can safely ignore this warning. If in doubt, this warning is likely only an issue if you are porting a TensorFlow 1.X model to TensorFlow 2.\n",
      "\n",
      "To change all layers to have dtype float64 by default, call `tf.keras.backend.set_floatx('float64')`. To change just this layer, pass dtype='float64' to the layer constructor. If you are the author of this layer, you can disable autocasting by passing autocast=False to the base Layer constructor.\n",
      "\n",
      "11/11 [==============================] - ETA: 0s - loss: 410.7359 - mae: 19.28 - 0s 10ms/step - loss: 550.3939 - mae: 21.6424 - val_loss: 618.6282 - val_mae: 22.9911\n",
      "Epoch 2/5\n",
      "11/11 [==============================] - ETA: 0s - loss: 665.1523 - mae: 22.99 - 0s 5ms/step - loss: 504.0105 - mae: 20.6051 - val_loss: 568.2460 - val_mae: 21.8909\n",
      "Epoch 3/5\n",
      "11/11 [==============================] - ETA: 0s - loss: 468.7941 - mae: 19.77 - 0s 4ms/step - loss: 456.4669 - mae: 19.4752 - val_loss: 513.4958 - val_mae: 20.6291\n",
      "Epoch 4/5\n",
      "11/11 [==============================] - ETA: 0s - loss: 440.0288 - mae: 18.72 - 0s 5ms/step - loss: 405.1868 - mae: 18.1750 - val_loss: 452.9992 - val_mae: 19.1391\n",
      "Epoch 5/5\n",
      "11/11 [==============================] - ETA: 0s - loss: 356.6031 - mae: 17.60 - 0s 5ms/step - loss: 347.6631 - mae: 16.6497 - val_loss: 389.1101 - val_mae: 17.4674\n",
      "Epoch 1/5\n",
      "WARNING:tensorflow:Layer dense is casting an input tensor from dtype float64 to the layer's dtype of float32, which is new behavior in TensorFlow 2.  The layer has dtype float32 because it's dtype defaults to floatx.\n",
      "\n",
      "If you intended to run this layer in float32, you can safely ignore this warning. If in doubt, this warning is likely only an issue if you are porting a TensorFlow 1.X model to TensorFlow 2.\n",
      "\n",
      "To change all layers to have dtype float64 by default, call `tf.keras.backend.set_floatx('float64')`. To change just this layer, pass dtype='float64' to the layer constructor. If you are the author of this layer, you can disable autocasting by passing autocast=False to the base Layer constructor.\n",
      "\n",
      "11/11 [==============================] - ETA: 0s - loss: 576.5189 - mae: 22.20 - 0s 8ms/step - loss: 545.2260 - mae: 21.5521 - val_loss: 612.2144 - val_mae: 22.8837\n",
      "Epoch 2/5\n",
      "11/11 [==============================] - ETA: 0s - loss: 528.8959 - mae: 20.83 - 0s 6ms/step - loss: 500.2101 - mae: 20.5532 - val_loss: 562.5510 - val_mae: 21.8094\n",
      "Epoch 3/5\n",
      "11/11 [==============================] - ETA: 0s - loss: 401.6982 - mae: 18.67 - 0s 5ms/step - loss: 453.2121 - mae: 19.4406 - val_loss: 507.5078 - val_mae: 20.5516\n",
      "Epoch 4/5\n",
      "11/11 [==============================] - ETA: 0s - loss: 460.2367 - mae: 19.81 - 0s 5ms/step - loss: 401.0493 - mae: 18.1221 - val_loss: 445.4051 - val_mae: 19.0362\n",
      "Epoch 5/5\n",
      "11/11 [==============================] - ETA: 0s - loss: 350.7293 - mae: 16.82 - 0s 6ms/step - loss: 343.3923 - mae: 16.5733 - val_loss: 378.7919 - val_mae: 17.3041\n",
      "Epoch 1/5\n",
      "WARNING:tensorflow:Layer dense is casting an input tensor from dtype float64 to the layer's dtype of float32, which is new behavior in TensorFlow 2.  The layer has dtype float32 because it's dtype defaults to floatx.\n",
      "\n",
      "If you intended to run this layer in float32, you can safely ignore this warning. If in doubt, this warning is likely only an issue if you are porting a TensorFlow 1.X model to TensorFlow 2.\n",
      "\n",
      "To change all layers to have dtype float64 by default, call `tf.keras.backend.set_floatx('float64')`. To change just this layer, pass dtype='float64' to the layer constructor. If you are the author of this layer, you can disable autocasting by passing autocast=False to the base Layer constructor.\n",
      "\n",
      "11/11 [==============================] - ETA: 0s - loss: 750.5590 - mae: 24.35 - 0s 9ms/step - loss: 549.5983 - mae: 21.6536 - val_loss: 614.3573 - val_mae: 22.9257\n",
      "Epoch 2/5\n",
      "11/11 [==============================] - ETA: 0s - loss: 533.0123 - mae: 21.42 - 0s 5ms/step - loss: 502.9504 - mae: 20.6302 - val_loss: 562.9782 - val_mae: 21.8399\n",
      "Epoch 3/5\n",
      "11/11 [==============================] - ETA: 0s - loss: 611.7562 - mae: 22.21 - 0s 4ms/step - loss: 455.2071 - mae: 19.5217 - val_loss: 508.0001 - val_mae: 20.5922\n",
      "Epoch 4/5\n",
      "11/11 [==============================] - ETA: 0s - loss: 467.7551 - mae: 20.07 - 0s 5ms/step - loss: 402.9216 - mae: 18.2329 - val_loss: 447.7454 - val_mae: 19.1083\n",
      "Epoch 5/5\n",
      "11/11 [==============================] - ETA: 0s - loss: 380.7600 - mae: 17.60 - 0s 5ms/step - loss: 345.6846 - mae: 16.7092 - val_loss: 382.8625 - val_mae: 17.4037\n"
     ]
    },
    {
     "data": {
      "text/html": [
       "<span style=\"color:#4527A0\"><h1 style=\"font-size:18px\">Trial complete</h1></span>"
      ],
      "text/plain": [
       "<IPython.core.display.HTML object>"
      ]
     },
     "metadata": {},
     "output_type": "display_data"
    },
    {
     "data": {
      "text/html": [
       "<span style=\"color:#4527A0\"><h1 style=\"font-size:18px\">Trial summary</h1></span>"
      ],
      "text/plain": [
       "<IPython.core.display.HTML object>"
      ]
     },
     "metadata": {},
     "output_type": "display_data"
    },
    {
     "data": {
      "text/html": [
       "<span style=\"color:cyan\"> |-Trial ID: 581749bdf0c7bada5ed6f98c0e36883c</span>"
      ],
      "text/plain": [
       "<IPython.core.display.HTML object>"
      ]
     },
     "metadata": {},
     "output_type": "display_data"
    },
    {
     "data": {
      "text/html": [
       "<span style=\"color:cyan\"> |-Score: 383.5881856282552</span>"
      ],
      "text/plain": [
       "<IPython.core.display.HTML object>"
      ]
     },
     "metadata": {},
     "output_type": "display_data"
    },
    {
     "data": {
      "text/html": [
       "<span style=\"color:cyan\"> |-Best step: 0</span>"
      ],
      "text/plain": [
       "<IPython.core.display.HTML object>"
      ]
     },
     "metadata": {},
     "output_type": "display_data"
    },
    {
     "data": {
      "text/html": [
       "<span style=\"color:#7E57C2\"><h2 style=\"font-size:16px\">Hyperparameters:</h2></span>"
      ],
      "text/plain": [
       "<IPython.core.display.HTML object>"
      ]
     },
     "metadata": {},
     "output_type": "display_data"
    },
    {
     "data": {
      "text/html": [
       "<span style=\"color:cyan\"> |-learning_rate: 0.001</span>"
      ],
      "text/plain": [
       "<IPython.core.display.HTML object>"
      ]
     },
     "metadata": {},
     "output_type": "display_data"
    },
    {
     "data": {
      "text/html": [
       "<span style=\"color:blue\"> |-units: 384</span>"
      ],
      "text/plain": [
       "<IPython.core.display.HTML object>"
      ]
     },
     "metadata": {},
     "output_type": "display_data"
    },
    {
     "name": "stdout",
     "output_type": "stream",
     "text": [
      "Epoch 1/5\n",
      "WARNING:tensorflow:Layer dense is casting an input tensor from dtype float64 to the layer's dtype of float32, which is new behavior in TensorFlow 2.  The layer has dtype float32 because it's dtype defaults to floatx.\n",
      "\n",
      "If you intended to run this layer in float32, you can safely ignore this warning. If in doubt, this warning is likely only an issue if you are porting a TensorFlow 1.X model to TensorFlow 2.\n",
      "\n",
      "To change all layers to have dtype float64 by default, call `tf.keras.backend.set_floatx('float64')`. To change just this layer, pass dtype='float64' to the layer constructor. If you are the author of this layer, you can disable autocasting by passing autocast=False to the base Layer constructor.\n",
      "\n",
      "11/11 [==============================] - ETA: 0s - loss: 659.2016 - mae: 22.90 - 0s 9ms/step - loss: 574.0175 - mae: 22.1243 - val_loss: 660.8386 - val_mae: 23.8068\n",
      "Epoch 2/5\n",
      "11/11 [==============================] - ETA: 0s - loss: 593.4406 - mae: 22.02 - 0s 4ms/step - loss: 547.1961 - mae: 21.5561 - val_loss: 631.0400 - val_mae: 23.2177\n",
      "Epoch 3/5\n",
      "11/11 [==============================] - ETA: 0s - loss: 642.8376 - mae: 22.75 - 0s 4ms/step - loss: 520.9777 - mae: 20.9760 - val_loss: 601.9401 - val_mae: 22.6144\n",
      "Epoch 4/5\n",
      "11/11 [==============================] - ETA: 0s - loss: 589.7021 - mae: 22.40 - 0s 5ms/step - loss: 494.2141 - mae: 20.3724 - val_loss: 572.1133 - val_mae: 21.9724\n",
      "Epoch 5/5\n",
      "11/11 [==============================] - ETA: 0s - loss: 454.9445 - mae: 19.59 - 0s 5ms/step - loss: 466.0900 - mae: 19.7116 - val_loss: 540.4225 - val_mae: 21.2656\n",
      "Epoch 1/5\n",
      "WARNING:tensorflow:Layer dense is casting an input tensor from dtype float64 to the layer's dtype of float32, which is new behavior in TensorFlow 2.  The layer has dtype float32 because it's dtype defaults to floatx.\n",
      "\n",
      "If you intended to run this layer in float32, you can safely ignore this warning. If in doubt, this warning is likely only an issue if you are porting a TensorFlow 1.X model to TensorFlow 2.\n",
      "\n",
      "To change all layers to have dtype float64 by default, call `tf.keras.backend.set_floatx('float64')`. To change just this layer, pass dtype='float64' to the layer constructor. If you are the author of this layer, you can disable autocasting by passing autocast=False to the base Layer constructor.\n",
      "\n",
      "11/11 [==============================] - ETA: 0s - loss: 485.1203 - mae: 20.77 - 0s 8ms/step - loss: 563.3643 - mae: 21.9527 - val_loss: 643.2605 - val_mae: 23.5054\n",
      "Epoch 2/5\n",
      "11/11 [==============================] - ETA: 0s - loss: 485.9373 - mae: 20.84 - 0s 4ms/step - loss: 536.0480 - mae: 21.3811 - val_loss: 611.8864 - val_mae: 22.8848\n",
      "Epoch 3/5\n",
      "11/11 [==============================] - ETA: 0s - loss: 492.9947 - mae: 20.71 - 0s 4ms/step - loss: 507.1206 - mae: 20.7716 - val_loss: 580.4809 - val_mae: 22.2303\n",
      "Epoch 4/5\n",
      "11/11 [==============================] - ETA: 0s - loss: 650.1302 - mae: 22.49 - 0s 4ms/step - loss: 478.1382 - mae: 20.1168 - val_loss: 547.0569 - val_mae: 21.5136\n",
      "Epoch 5/5\n",
      "11/11 [==============================] - ETA: 0s - loss: 456.1432 - mae: 19.71 - 0s 4ms/step - loss: 447.5334 - mae: 19.4080 - val_loss: 511.5444 - val_mae: 20.7183\n",
      "Epoch 1/5\n",
      "WARNING:tensorflow:Layer dense is casting an input tensor from dtype float64 to the layer's dtype of float32, which is new behavior in TensorFlow 2.  The layer has dtype float32 because it's dtype defaults to floatx.\n",
      "\n",
      "If you intended to run this layer in float32, you can safely ignore this warning. If in doubt, this warning is likely only an issue if you are porting a TensorFlow 1.X model to TensorFlow 2.\n",
      "\n",
      "To change all layers to have dtype float64 by default, call `tf.keras.backend.set_floatx('float64')`. To change just this layer, pass dtype='float64' to the layer constructor. If you are the author of this layer, you can disable autocasting by passing autocast=False to the base Layer constructor.\n",
      "\n",
      "11/11 [==============================] - ETA: 0s - loss: 522.2780 - mae: 21.13 - 0s 8ms/step - loss: 563.1595 - mae: 21.9322 - val_loss: 646.0378 - val_mae: 23.5590\n",
      "Epoch 2/5\n",
      "11/11 [==============================] - ETA: 0s - loss: 576.2285 - mae: 22.08 - 0s 4ms/step - loss: 537.5021 - mae: 21.3841 - val_loss: 618.9670 - val_mae: 23.0013\n",
      "Epoch 3/5\n",
      "11/11 [==============================] - ETA: 0s - loss: 522.9673 - mae: 20.17 - 0s 4ms/step - loss: 512.8342 - mae: 20.8335 - val_loss: 590.8764 - val_mae: 22.4064\n",
      "Epoch 4/5\n",
      "11/11 [==============================] - ETA: 0s - loss: 647.7649 - mae: 23.01 - 0s 4ms/step - loss: 486.4083 - mae: 20.2275 - val_loss: 561.3954 - val_mae: 21.7627\n",
      "Epoch 5/5\n",
      "11/11 [==============================] - ETA: 0s - loss: 464.2593 - mae: 20.13 - 0s 4ms/step - loss: 458.7146 - mae: 19.5673 - val_loss: 528.7173 - val_mae: 21.0245\n"
     ]
    },
    {
     "data": {
      "text/html": [
       "<span style=\"color:#4527A0\"><h1 style=\"font-size:18px\">Trial complete</h1></span>"
      ],
      "text/plain": [
       "<IPython.core.display.HTML object>"
      ]
     },
     "metadata": {},
     "output_type": "display_data"
    },
    {
     "data": {
      "text/html": [
       "<span style=\"color:#4527A0\"><h1 style=\"font-size:18px\">Trial summary</h1></span>"
      ],
      "text/plain": [
       "<IPython.core.display.HTML object>"
      ]
     },
     "metadata": {},
     "output_type": "display_data"
    },
    {
     "data": {
      "text/html": [
       "<span style=\"color:cyan\"> |-Trial ID: 5204f0186ef8f6835b3eaf148f5e0f53</span>"
      ],
      "text/plain": [
       "<IPython.core.display.HTML object>"
      ]
     },
     "metadata": {},
     "output_type": "display_data"
    },
    {
     "data": {
      "text/html": [
       "<span style=\"color:cyan\"> |-Score: 526.8947143554688</span>"
      ],
      "text/plain": [
       "<IPython.core.display.HTML object>"
      ]
     },
     "metadata": {},
     "output_type": "display_data"
    },
    {
     "data": {
      "text/html": [
       "<span style=\"color:cyan\"> |-Best step: 0</span>"
      ],
      "text/plain": [
       "<IPython.core.display.HTML object>"
      ]
     },
     "metadata": {},
     "output_type": "display_data"
    },
    {
     "data": {
      "text/html": [
       "<span style=\"color:#7E57C2\"><h2 style=\"font-size:16px\">Hyperparameters:</h2></span>"
      ],
      "text/plain": [
       "<IPython.core.display.HTML object>"
      ]
     },
     "metadata": {},
     "output_type": "display_data"
    },
    {
     "data": {
      "text/html": [
       "<span style=\"color:cyan\"> |-learning_rate: 0.001</span>"
      ],
      "text/plain": [
       "<IPython.core.display.HTML object>"
      ]
     },
     "metadata": {},
     "output_type": "display_data"
    },
    {
     "data": {
      "text/html": [
       "<span style=\"color:blue\"> |-units: 128</span>"
      ],
      "text/plain": [
       "<IPython.core.display.HTML object>"
      ]
     },
     "metadata": {},
     "output_type": "display_data"
    },
    {
     "name": "stdout",
     "output_type": "stream",
     "text": [
      "Epoch 1/5\n",
      "WARNING:tensorflow:Layer dense is casting an input tensor from dtype float64 to the layer's dtype of float32, which is new behavior in TensorFlow 2.  The layer has dtype float32 because it's dtype defaults to floatx.\n",
      "\n",
      "If you intended to run this layer in float32, you can safely ignore this warning. If in doubt, this warning is likely only an issue if you are porting a TensorFlow 1.X model to TensorFlow 2.\n",
      "\n",
      "To change all layers to have dtype float64 by default, call `tf.keras.backend.set_floatx('float64')`. To change just this layer, pass dtype='float64' to the layer constructor. If you are the author of this layer, you can disable autocasting by passing autocast=False to the base Layer constructor.\n",
      "\n",
      "11/11 [==============================] - ETA: 0s - loss: 561.3997 - mae: 21.45 - 0s 9ms/step - loss: 447.1981 - mae: 19.0004 - val_loss: 382.3875 - val_mae: 17.0809\n",
      "Epoch 2/5\n",
      "11/11 [==============================] - ETA: 0s - loss: 364.1661 - mae: 16.21 - 0s 4ms/step - loss: 210.1820 - mae: 12.1533 - val_loss: 142.8671 - val_mae: 9.3346\n",
      "Epoch 3/5\n",
      "11/11 [==============================] - ETA: 0s - loss: 139.9738 - mae: 8.354 - 0s 4ms/step - loss: 81.1360 - mae: 7.0348 - val_loss: 80.9142 - val_mae: 6.9706\n",
      "Epoch 4/5\n",
      "11/11 [==============================] - ETA: 0s - loss: 48.4071 - mae: 5.54 - 0s 5ms/step - loss: 43.9916 - mae: 4.7950 - val_loss: 36.4349 - val_mae: 4.5073\n",
      "Epoch 5/5\n",
      "11/11 [==============================] - ETA: 0s - loss: 42.3857 - mae: 4.14 - 0s 5ms/step - loss: 26.3881 - mae: 3.6539 - val_loss: 27.1008 - val_mae: 3.7348\n",
      "Epoch 1/5\n",
      "WARNING:tensorflow:Layer dense is casting an input tensor from dtype float64 to the layer's dtype of float32, which is new behavior in TensorFlow 2.  The layer has dtype float32 because it's dtype defaults to floatx.\n",
      "\n",
      "If you intended to run this layer in float32, you can safely ignore this warning. If in doubt, this warning is likely only an issue if you are porting a TensorFlow 1.X model to TensorFlow 2.\n",
      "\n",
      "To change all layers to have dtype float64 by default, call `tf.keras.backend.set_floatx('float64')`. To change just this layer, pass dtype='float64' to the layer constructor. If you are the author of this layer, you can disable autocasting by passing autocast=False to the base Layer constructor.\n",
      "\n",
      "11/11 [==============================] - ETA: 0s - loss: 517.7402 - mae: 21.17 - 0s 8ms/step - loss: 450.3314 - mae: 19.1750 - val_loss: 369.8672 - val_mae: 16.9997\n",
      "Epoch 2/5\n",
      "11/11 [==============================] - ETA: 0s - loss: 270.8881 - mae: 14.83 - 0s 4ms/step - loss: 193.4984 - mae: 11.5727 - val_loss: 142.3993 - val_mae: 9.1606\n",
      "Epoch 3/5\n",
      "11/11 [==============================] - ETA: 0s - loss: 85.6673 - mae: 6.35 - 0s 4ms/step - loss: 80.1893 - mae: 6.9911 - val_loss: 91.5364 - val_mae: 7.3889\n",
      "Epoch 4/5\n",
      "11/11 [==============================] - ETA: 0s - loss: 41.3052 - mae: 5.06 - 0s 4ms/step - loss: 43.8159 - mae: 4.7866 - val_loss: 39.4855 - val_mae: 4.4275\n",
      "Epoch 5/5\n",
      "11/11 [==============================] - ETA: 0s - loss: 23.3680 - mae: 3.85 - 0s 4ms/step - loss: 29.0960 - mae: 3.7481 - val_loss: 30.0015 - val_mae: 3.8064\n",
      "Epoch 1/5\n",
      "WARNING:tensorflow:Layer dense is casting an input tensor from dtype float64 to the layer's dtype of float32, which is new behavior in TensorFlow 2.  The layer has dtype float32 because it's dtype defaults to floatx.\n",
      "\n",
      "If you intended to run this layer in float32, you can safely ignore this warning. If in doubt, this warning is likely only an issue if you are porting a TensorFlow 1.X model to TensorFlow 2.\n",
      "\n",
      "To change all layers to have dtype float64 by default, call `tf.keras.backend.set_floatx('float64')`. To change just this layer, pass dtype='float64' to the layer constructor. If you are the author of this layer, you can disable autocasting by passing autocast=False to the base Layer constructor.\n",
      "\n",
      "11/11 [==============================] - ETA: 0s - loss: 670.2476 - mae: 23.61 - 0s 8ms/step - loss: 436.3228 - mae: 18.9427 - val_loss: 361.7240 - val_mae: 16.6905\n",
      "Epoch 2/5\n",
      "11/11 [==============================] - ETA: 0s - loss: 249.9361 - mae: 13.46 - 0s 4ms/step - loss: 188.0699 - mae: 11.3357 - val_loss: 135.5837 - val_mae: 8.9920\n",
      "Epoch 3/5\n",
      "11/11 [==============================] - ETA: 0s - loss: 107.9823 - mae: 8.646 - 0s 4ms/step - loss: 84.0431 - mae: 7.1570 - val_loss: 86.6359 - val_mae: 7.2067\n",
      "Epoch 4/5\n",
      "11/11 [==============================] - ETA: 0s - loss: 71.2830 - mae: 6.34 - 0s 4ms/step - loss: 43.4494 - mae: 4.7267 - val_loss: 35.0277 - val_mae: 4.3285\n",
      "Epoch 5/5\n",
      "11/11 [==============================] - ETA: 0s - loss: 15.0910 - mae: 3.06 - 0s 4ms/step - loss: 27.2915 - mae: 3.6503 - val_loss: 27.1235 - val_mae: 3.7015\n"
     ]
    },
    {
     "data": {
      "text/html": [
       "<span style=\"color:#4527A0\"><h1 style=\"font-size:18px\">Trial complete</h1></span>"
      ],
      "text/plain": [
       "<IPython.core.display.HTML object>"
      ]
     },
     "metadata": {},
     "output_type": "display_data"
    },
    {
     "data": {
      "text/html": [
       "<span style=\"color:#4527A0\"><h1 style=\"font-size:18px\">Trial summary</h1></span>"
      ],
      "text/plain": [
       "<IPython.core.display.HTML object>"
      ]
     },
     "metadata": {},
     "output_type": "display_data"
    },
    {
     "data": {
      "text/html": [
       "<span style=\"color:cyan\"> |-Trial ID: 950ea3bb4c949e2785aa5858ef3a2eed</span>"
      ],
      "text/plain": [
       "<IPython.core.display.HTML object>"
      ]
     },
     "metadata": {},
     "output_type": "display_data"
    },
    {
     "data": {
      "text/html": [
       "<span style=\"color:cyan\"> |-Score: 28.075284322102863</span>"
      ],
      "text/plain": [
       "<IPython.core.display.HTML object>"
      ]
     },
     "metadata": {},
     "output_type": "display_data"
    },
    {
     "data": {
      "text/html": [
       "<span style=\"color:cyan\"> |-Best step: 0</span>"
      ],
      "text/plain": [
       "<IPython.core.display.HTML object>"
      ]
     },
     "metadata": {},
     "output_type": "display_data"
    },
    {
     "data": {
      "text/html": [
       "<span style=\"color:#7E57C2\"><h2 style=\"font-size:16px\">Hyperparameters:</h2></span>"
      ],
      "text/plain": [
       "<IPython.core.display.HTML object>"
      ]
     },
     "metadata": {},
     "output_type": "display_data"
    },
    {
     "data": {
      "text/html": [
       "<span style=\"color:cyan\"> |-learning_rate: 0.01</span>"
      ],
      "text/plain": [
       "<IPython.core.display.HTML object>"
      ]
     },
     "metadata": {},
     "output_type": "display_data"
    },
    {
     "data": {
      "text/html": [
       "<span style=\"color:blue\"> |-units: 96</span>"
      ],
      "text/plain": [
       "<IPython.core.display.HTML object>"
      ]
     },
     "metadata": {},
     "output_type": "display_data"
    },
    {
     "name": "stdout",
     "output_type": "stream",
     "text": [
      "Epoch 1/5\n",
      "WARNING:tensorflow:Layer dense is casting an input tensor from dtype float64 to the layer's dtype of float32, which is new behavior in TensorFlow 2.  The layer has dtype float32 because it's dtype defaults to floatx.\n",
      "\n",
      "If you intended to run this layer in float32, you can safely ignore this warning. If in doubt, this warning is likely only an issue if you are porting a TensorFlow 1.X model to TensorFlow 2.\n",
      "\n",
      "To change all layers to have dtype float64 by default, call `tf.keras.backend.set_floatx('float64')`. To change just this layer, pass dtype='float64' to the layer constructor. If you are the author of this layer, you can disable autocasting by passing autocast=False to the base Layer constructor.\n",
      "\n",
      "11/11 [==============================] - ETA: 0s - loss: 522.2888 - mae: 21.68 - 0s 9ms/step - loss: 576.5069 - mae: 22.2052 - val_loss: 671.0129 - val_mae: 24.0689\n",
      "Epoch 2/5\n",
      "11/11 [==============================] - ETA: 0s - loss: 676.4475 - mae: 24.13 - 0s 4ms/step - loss: 573.8361 - mae: 22.1474 - val_loss: 668.1917 - val_mae: 24.0117\n",
      "Epoch 3/5\n",
      "11/11 [==============================] - ETA: 0s - loss: 684.0388 - mae: 23.99 - 0s 4ms/step - loss: 571.2206 - mae: 22.0909 - val_loss: 665.3286 - val_mae: 23.9543\n",
      "Epoch 4/5\n",
      "11/11 [==============================] - ETA: 0s - loss: 538.7607 - mae: 21.21 - 0s 4ms/step - loss: 568.5536 - mae: 22.0345 - val_loss: 662.5052 - val_mae: 23.8966\n",
      "Epoch 5/5\n",
      "11/11 [==============================] - ETA: 0s - loss: 460.8413 - mae: 20.43 - 0s 5ms/step - loss: 565.9426 - mae: 21.9771 - val_loss: 659.6559 - val_mae: 23.8391\n",
      "Epoch 1/5\n",
      "WARNING:tensorflow:Layer dense is casting an input tensor from dtype float64 to the layer's dtype of float32, which is new behavior in TensorFlow 2.  The layer has dtype float32 because it's dtype defaults to floatx.\n",
      "\n",
      "If you intended to run this layer in float32, you can safely ignore this warning. If in doubt, this warning is likely only an issue if you are porting a TensorFlow 1.X model to TensorFlow 2.\n",
      "\n",
      "To change all layers to have dtype float64 by default, call `tf.keras.backend.set_floatx('float64')`. To change just this layer, pass dtype='float64' to the layer constructor. If you are the author of this layer, you can disable autocasting by passing autocast=False to the base Layer constructor.\n",
      "\n",
      "11/11 [==============================] - ETA: 0s - loss: 519.2823 - mae: 21.85 - 0s 8ms/step - loss: 577.8787 - mae: 22.2021 - val_loss: 675.2128 - val_mae: 24.1241\n",
      "Epoch 2/5\n",
      "11/11 [==============================] - ETA: 0s - loss: 636.5618 - mae: 23.52 - 0s 5ms/step - loss: 575.2149 - mae: 22.1479 - val_loss: 672.2092 - val_mae: 24.0670\n",
      "Epoch 3/5\n",
      "11/11 [==============================] - ETA: 0s - loss: 607.6401 - mae: 22.52 - 0s 4ms/step - loss: 572.5215 - mae: 22.0930 - val_loss: 669.2219 - val_mae: 24.0098\n",
      "Epoch 4/5\n",
      "11/11 [==============================] - ETA: 0s - loss: 388.9476 - mae: 18.46 - 0s 4ms/step - loss: 569.8599 - mae: 22.0385 - val_loss: 666.2592 - val_mae: 23.9527\n",
      "Epoch 5/5\n",
      "11/11 [==============================] - ETA: 0s - loss: 591.0856 - mae: 22.47 - 0s 4ms/step - loss: 567.1533 - mae: 21.9831 - val_loss: 663.3346 - val_mae: 23.8958\n",
      "Epoch 1/5\n",
      "WARNING:tensorflow:Layer dense is casting an input tensor from dtype float64 to the layer's dtype of float32, which is new behavior in TensorFlow 2.  The layer has dtype float32 because it's dtype defaults to floatx.\n",
      "\n",
      "If you intended to run this layer in float32, you can safely ignore this warning. If in doubt, this warning is likely only an issue if you are porting a TensorFlow 1.X model to TensorFlow 2.\n",
      "\n",
      "To change all layers to have dtype float64 by default, call `tf.keras.backend.set_floatx('float64')`. To change just this layer, pass dtype='float64' to the layer constructor. If you are the author of this layer, you can disable autocasting by passing autocast=False to the base Layer constructor.\n",
      "\n",
      "11/11 [==============================] - ETA: 0s - loss: 639.5032 - mae: 23.22 - 0s 9ms/step - loss: 550.3187 - mae: 21.6742 - val_loss: 643.5468 - val_mae: 23.4891\n",
      "Epoch 2/5\n",
      "11/11 [==============================] - ETA: 0s - loss: 518.8118 - mae: 21.47 - 0s 5ms/step - loss: 547.7101 - mae: 21.6141 - val_loss: 640.7458 - val_mae: 23.4292\n",
      "Epoch 3/5\n",
      "11/11 [==============================] - ETA: 0s - loss: 473.3048 - mae: 20.48 - 0s 4ms/step - loss: 545.1416 - mae: 21.5542 - val_loss: 637.9202 - val_mae: 23.3686\n",
      "Epoch 4/5\n",
      "11/11 [==============================] - ETA: 0s - loss: 422.6715 - mae: 19.45 - 0s 4ms/step - loss: 542.5356 - mae: 21.4938 - val_loss: 635.1334 - val_mae: 23.3085\n",
      "Epoch 5/5\n",
      "11/11 [==============================] - ETA: 0s - loss: 546.2914 - mae: 21.50 - 0s 4ms/step - loss: 539.9322 - mae: 21.4334 - val_loss: 632.3256 - val_mae: 23.2485\n"
     ]
    },
    {
     "data": {
      "text/html": [
       "<span style=\"color:#4527A0\"><h1 style=\"font-size:18px\">Trial complete</h1></span>"
      ],
      "text/plain": [
       "<IPython.core.display.HTML object>"
      ]
     },
     "metadata": {},
     "output_type": "display_data"
    },
    {
     "data": {
      "text/html": [
       "<span style=\"color:#4527A0\"><h1 style=\"font-size:18px\">Trial summary</h1></span>"
      ],
      "text/plain": [
       "<IPython.core.display.HTML object>"
      ]
     },
     "metadata": {},
     "output_type": "display_data"
    },
    {
     "data": {
      "text/html": [
       "<span style=\"color:cyan\"> |-Trial ID: 41972f46c854927b01f631cca99a6f15</span>"
      ],
      "text/plain": [
       "<IPython.core.display.HTML object>"
      ]
     },
     "metadata": {},
     "output_type": "display_data"
    },
    {
     "data": {
      "text/html": [
       "<span style=\"color:cyan\"> |-Score: 651.7720133463541</span>"
      ],
      "text/plain": [
       "<IPython.core.display.HTML object>"
      ]
     },
     "metadata": {},
     "output_type": "display_data"
    },
    {
     "data": {
      "text/html": [
       "<span style=\"color:cyan\"> |-Best step: 0</span>"
      ],
      "text/plain": [
       "<IPython.core.display.HTML object>"
      ]
     },
     "metadata": {},
     "output_type": "display_data"
    },
    {
     "data": {
      "text/html": [
       "<span style=\"color:#7E57C2\"><h2 style=\"font-size:16px\">Hyperparameters:</h2></span>"
      ],
      "text/plain": [
       "<IPython.core.display.HTML object>"
      ]
     },
     "metadata": {},
     "output_type": "display_data"
    },
    {
     "data": {
      "text/html": [
       "<span style=\"color:cyan\"> |-learning_rate: 0.0001</span>"
      ],
      "text/plain": [
       "<IPython.core.display.HTML object>"
      ]
     },
     "metadata": {},
     "output_type": "display_data"
    },
    {
     "data": {
      "text/html": [
       "<span style=\"color:blue\"> |-units: 128</span>"
      ],
      "text/plain": [
       "<IPython.core.display.HTML object>"
      ]
     },
     "metadata": {},
     "output_type": "display_data"
    },
    {
     "name": "stdout",
     "output_type": "stream",
     "text": [
      "Epoch 1/5\n",
      "WARNING:tensorflow:Layer dense is casting an input tensor from dtype float64 to the layer's dtype of float32, which is new behavior in TensorFlow 2.  The layer has dtype float32 because it's dtype defaults to floatx.\n",
      "\n",
      "If you intended to run this layer in float32, you can safely ignore this warning. If in doubt, this warning is likely only an issue if you are porting a TensorFlow 1.X model to TensorFlow 2.\n",
      "\n",
      "To change all layers to have dtype float64 by default, call `tf.keras.backend.set_floatx('float64')`. To change just this layer, pass dtype='float64' to the layer constructor. If you are the author of this layer, you can disable autocasting by passing autocast=False to the base Layer constructor.\n",
      "\n",
      "11/11 [==============================] - ETA: 0s - loss: 661.9510 - mae: 23.99 - 0s 9ms/step - loss: 571.6116 - mae: 22.2188 - val_loss: 655.1550 - val_mae: 23.8188\n",
      "Epoch 2/5\n",
      "11/11 [==============================] - ETA: 0s - loss: 626.8175 - mae: 23.52 - 0s 5ms/step - loss: 554.0580 - mae: 21.8246 - val_loss: 636.8917 - val_mae: 23.4281\n",
      "Epoch 3/5\n",
      "11/11 [==============================] - ETA: 0s - loss: 626.0076 - mae: 22.82 - 0s 4ms/step - loss: 537.1421 - mae: 21.4391 - val_loss: 618.5886 - val_mae: 23.0294\n",
      "Epoch 4/5\n",
      "11/11 [==============================] - ETA: 0s - loss: 507.3014 - mae: 20.38 - 0s 4ms/step - loss: 519.4919 - mae: 21.0325 - val_loss: 599.8919 - val_mae: 22.6153\n",
      "Epoch 5/5\n",
      "11/11 [==============================] - ETA: 0s - loss: 639.6930 - mae: 23.21 - 0s 5ms/step - loss: 501.6004 - mae: 20.6174 - val_loss: 580.0459 - val_mae: 22.1700\n",
      "Epoch 1/5\n",
      "WARNING:tensorflow:Layer dense is casting an input tensor from dtype float64 to the layer's dtype of float32, which is new behavior in TensorFlow 2.  The layer has dtype float32 because it's dtype defaults to floatx.\n",
      "\n",
      "If you intended to run this layer in float32, you can safely ignore this warning. If in doubt, this warning is likely only an issue if you are porting a TensorFlow 1.X model to TensorFlow 2.\n",
      "\n",
      "To change all layers to have dtype float64 by default, call `tf.keras.backend.set_floatx('float64')`. To change just this layer, pass dtype='float64' to the layer constructor. If you are the author of this layer, you can disable autocasting by passing autocast=False to the base Layer constructor.\n",
      "\n",
      "11/11 [==============================] - ETA: 0s - loss: 618.3627 - mae: 22.69 - 0s 8ms/step - loss: 577.2001 - mae: 22.1922 - val_loss: 667.1199 - val_mae: 23.9126\n",
      "Epoch 2/5\n",
      "11/11 [==============================] - ETA: 0s - loss: 678.3177 - mae: 24.02 - 0s 4ms/step - loss: 557.6295 - mae: 21.7807 - val_loss: 645.7609 - val_mae: 23.4945\n",
      "Epoch 3/5\n",
      "11/11 [==============================] - ETA: 0s - loss: 730.3877 - mae: 25.41 - 0s 4ms/step - loss: 538.5984 - mae: 21.3706 - val_loss: 625.0523 - val_mae: 23.0736\n",
      "Epoch 4/5\n",
      "11/11 [==============================] - ETA: 0s - loss: 487.2357 - mae: 19.74 - 0s 4ms/step - loss: 519.5925 - mae: 20.9531 - val_loss: 604.3586 - val_mae: 22.6416\n",
      "Epoch 5/5\n",
      "11/11 [==============================] - ETA: 0s - loss: 495.2164 - mae: 21.35 - 0s 3ms/step - loss: 500.8609 - mae: 20.5201 - val_loss: 582.5200 - val_mae: 22.1815\n",
      "Epoch 1/5\n",
      "WARNING:tensorflow:Layer dense is casting an input tensor from dtype float64 to the layer's dtype of float32, which is new behavior in TensorFlow 2.  The layer has dtype float32 because it's dtype defaults to floatx.\n",
      "\n",
      "If you intended to run this layer in float32, you can safely ignore this warning. If in doubt, this warning is likely only an issue if you are porting a TensorFlow 1.X model to TensorFlow 2.\n",
      "\n",
      "To change all layers to have dtype float64 by default, call `tf.keras.backend.set_floatx('float64')`. To change just this layer, pass dtype='float64' to the layer constructor. If you are the author of this layer, you can disable autocasting by passing autocast=False to the base Layer constructor.\n",
      "\n",
      "11/11 [==============================] - ETA: 0s - loss: 466.8805 - mae: 20.12 - 0s 8ms/step - loss: 588.9374 - mae: 22.4865 - val_loss: 681.1027 - val_mae: 24.2128\n",
      "Epoch 2/5\n",
      "11/11 [==============================] - ETA: 0s - loss: 485.9613 - mae: 20.54 - 0s 4ms/step - loss: 570.9816 - mae: 22.0912 - val_loss: 662.2106 - val_mae: 23.8254\n",
      "Epoch 3/5\n",
      "11/11 [==============================] - ETA: 0s - loss: 631.0527 - mae: 23.30 - 0s 4ms/step - loss: 553.7910 - mae: 21.7073 - val_loss: 643.7629 - val_mae: 23.4424\n",
      "Epoch 4/5\n",
      "11/11 [==============================] - ETA: 0s - loss: 451.9122 - mae: 19.85 - 0s 4ms/step - loss: 537.1761 - mae: 21.3264 - val_loss: 624.9210 - val_mae: 23.0490\n",
      "Epoch 5/5\n",
      "11/11 [==============================] - ETA: 0s - loss: 472.5472 - mae: 19.81 - 0s 5ms/step - loss: 519.7781 - mae: 20.9339 - val_loss: 605.7765 - val_mae: 22.6386\n"
     ]
    },
    {
     "data": {
      "text/html": [
       "<span style=\"color:#4527A0\"><h1 style=\"font-size:18px\">Trial complete</h1></span>"
      ],
      "text/plain": [
       "<IPython.core.display.HTML object>"
      ]
     },
     "metadata": {},
     "output_type": "display_data"
    },
    {
     "data": {
      "text/html": [
       "<span style=\"color:#4527A0\"><h1 style=\"font-size:18px\">Trial summary</h1></span>"
      ],
      "text/plain": [
       "<IPython.core.display.HTML object>"
      ]
     },
     "metadata": {},
     "output_type": "display_data"
    },
    {
     "data": {
      "text/html": [
       "<span style=\"color:cyan\"> |-Trial ID: b1ede69d114c229b874a1f2eda937607</span>"
      ],
      "text/plain": [
       "<IPython.core.display.HTML object>"
      ]
     },
     "metadata": {},
     "output_type": "display_data"
    },
    {
     "data": {
      "text/html": [
       "<span style=\"color:cyan\"> |-Score: 589.4474487304688</span>"
      ],
      "text/plain": [
       "<IPython.core.display.HTML object>"
      ]
     },
     "metadata": {},
     "output_type": "display_data"
    },
    {
     "data": {
      "text/html": [
       "<span style=\"color:cyan\"> |-Best step: 0</span>"
      ],
      "text/plain": [
       "<IPython.core.display.HTML object>"
      ]
     },
     "metadata": {},
     "output_type": "display_data"
    },
    {
     "data": {
      "text/html": [
       "<span style=\"color:#7E57C2\"><h2 style=\"font-size:16px\">Hyperparameters:</h2></span>"
      ],
      "text/plain": [
       "<IPython.core.display.HTML object>"
      ]
     },
     "metadata": {},
     "output_type": "display_data"
    },
    {
     "data": {
      "text/html": [
       "<span style=\"color:cyan\"> |-learning_rate: 0.001</span>"
      ],
      "text/plain": [
       "<IPython.core.display.HTML object>"
      ]
     },
     "metadata": {},
     "output_type": "display_data"
    },
    {
     "data": {
      "text/html": [
       "<span style=\"color:blue\"> |-units: 64</span>"
      ],
      "text/plain": [
       "<IPython.core.display.HTML object>"
      ]
     },
     "metadata": {},
     "output_type": "display_data"
    },
    {
     "name": "stdout",
     "output_type": "stream",
     "text": [
      "INFO:tensorflow:Oracle triggered exit\n"
     ]
    }
   ],
   "source": [
    "tuner.search(X, y,\n",
    "             epochs=5,\n",
    "             validation_split=.15)"
   ]
  },
  {
   "cell_type": "code",
   "execution_count": 29,
   "metadata": {},
   "outputs": [
    {
     "data": {
      "text/html": [
       "<span style=\"color:#4527A0\"><h1 style=\"font-size:18px\">Results summary</h1></span>"
      ],
      "text/plain": [
       "<IPython.core.display.HTML object>"
      ]
     },
     "metadata": {},
     "output_type": "display_data"
    },
    {
     "data": {
      "text/html": [
       "<span style=\"color:cyan\"> |-Results in ./keras-tuner-trial/helloworld</span>"
      ],
      "text/plain": [
       "<IPython.core.display.HTML object>"
      ]
     },
     "metadata": {},
     "output_type": "display_data"
    },
    {
     "data": {
      "text/html": [
       "<span style=\"color:cyan\"> |-Showing 10 best trials</span>"
      ],
      "text/plain": [
       "<IPython.core.display.HTML object>"
      ]
     },
     "metadata": {},
     "output_type": "display_data"
    },
    {
     "data": {
      "text/html": [
       "<span style=\"color:cyan\"> |-Objective(name='val_loss', direction='min')</span>"
      ],
      "text/plain": [
       "<IPython.core.display.HTML object>"
      ]
     },
     "metadata": {},
     "output_type": "display_data"
    },
    {
     "data": {
      "text/html": [
       "<span style=\"color:#4527A0\"><h1 style=\"font-size:18px\">Trial summary</h1></span>"
      ],
      "text/plain": [
       "<IPython.core.display.HTML object>"
      ]
     },
     "metadata": {},
     "output_type": "display_data"
    },
    {
     "data": {
      "text/html": [
       "<span style=\"color:cyan\"> |-Trial ID: 950ea3bb4c949e2785aa5858ef3a2eed</span>"
      ],
      "text/plain": [
       "<IPython.core.display.HTML object>"
      ]
     },
     "metadata": {},
     "output_type": "display_data"
    },
    {
     "data": {
      "text/html": [
       "<span style=\"color:cyan\"> |-Score: 28.075284322102863</span>"
      ],
      "text/plain": [
       "<IPython.core.display.HTML object>"
      ]
     },
     "metadata": {},
     "output_type": "display_data"
    },
    {
     "data": {
      "text/html": [
       "<span style=\"color:cyan\"> |-Best step: 0</span>"
      ],
      "text/plain": [
       "<IPython.core.display.HTML object>"
      ]
     },
     "metadata": {},
     "output_type": "display_data"
    },
    {
     "data": {
      "text/html": [
       "<span style=\"color:#7E57C2\"><h2 style=\"font-size:16px\">Hyperparameters:</h2></span>"
      ],
      "text/plain": [
       "<IPython.core.display.HTML object>"
      ]
     },
     "metadata": {},
     "output_type": "display_data"
    },
    {
     "data": {
      "text/html": [
       "<span style=\"color:cyan\"> |-learning_rate: 0.01</span>"
      ],
      "text/plain": [
       "<IPython.core.display.HTML object>"
      ]
     },
     "metadata": {},
     "output_type": "display_data"
    },
    {
     "data": {
      "text/html": [
       "<span style=\"color:blue\"> |-units: 96</span>"
      ],
      "text/plain": [
       "<IPython.core.display.HTML object>"
      ]
     },
     "metadata": {},
     "output_type": "display_data"
    },
    {
     "data": {
      "text/html": [
       "<span style=\"color:#4527A0\"><h1 style=\"font-size:18px\">Trial summary</h1></span>"
      ],
      "text/plain": [
       "<IPython.core.display.HTML object>"
      ]
     },
     "metadata": {},
     "output_type": "display_data"
    },
    {
     "data": {
      "text/html": [
       "<span style=\"color:cyan\"> |-Trial ID: 581749bdf0c7bada5ed6f98c0e36883c</span>"
      ],
      "text/plain": [
       "<IPython.core.display.HTML object>"
      ]
     },
     "metadata": {},
     "output_type": "display_data"
    },
    {
     "data": {
      "text/html": [
       "<span style=\"color:cyan\"> |-Score: 383.5881856282552</span>"
      ],
      "text/plain": [
       "<IPython.core.display.HTML object>"
      ]
     },
     "metadata": {},
     "output_type": "display_data"
    },
    {
     "data": {
      "text/html": [
       "<span style=\"color:cyan\"> |-Best step: 0</span>"
      ],
      "text/plain": [
       "<IPython.core.display.HTML object>"
      ]
     },
     "metadata": {},
     "output_type": "display_data"
    },
    {
     "data": {
      "text/html": [
       "<span style=\"color:#7E57C2\"><h2 style=\"font-size:16px\">Hyperparameters:</h2></span>"
      ],
      "text/plain": [
       "<IPython.core.display.HTML object>"
      ]
     },
     "metadata": {},
     "output_type": "display_data"
    },
    {
     "data": {
      "text/html": [
       "<span style=\"color:cyan\"> |-learning_rate: 0.001</span>"
      ],
      "text/plain": [
       "<IPython.core.display.HTML object>"
      ]
     },
     "metadata": {},
     "output_type": "display_data"
    },
    {
     "data": {
      "text/html": [
       "<span style=\"color:blue\"> |-units: 384</span>"
      ],
      "text/plain": [
       "<IPython.core.display.HTML object>"
      ]
     },
     "metadata": {},
     "output_type": "display_data"
    },
    {
     "data": {
      "text/html": [
       "<span style=\"color:#4527A0\"><h1 style=\"font-size:18px\">Trial summary</h1></span>"
      ],
      "text/plain": [
       "<IPython.core.display.HTML object>"
      ]
     },
     "metadata": {},
     "output_type": "display_data"
    },
    {
     "data": {
      "text/html": [
       "<span style=\"color:cyan\"> |-Trial ID: 5204f0186ef8f6835b3eaf148f5e0f53</span>"
      ],
      "text/plain": [
       "<IPython.core.display.HTML object>"
      ]
     },
     "metadata": {},
     "output_type": "display_data"
    },
    {
     "data": {
      "text/html": [
       "<span style=\"color:cyan\"> |-Score: 526.8947143554688</span>"
      ],
      "text/plain": [
       "<IPython.core.display.HTML object>"
      ]
     },
     "metadata": {},
     "output_type": "display_data"
    },
    {
     "data": {
      "text/html": [
       "<span style=\"color:cyan\"> |-Best step: 0</span>"
      ],
      "text/plain": [
       "<IPython.core.display.HTML object>"
      ]
     },
     "metadata": {},
     "output_type": "display_data"
    },
    {
     "data": {
      "text/html": [
       "<span style=\"color:#7E57C2\"><h2 style=\"font-size:16px\">Hyperparameters:</h2></span>"
      ],
      "text/plain": [
       "<IPython.core.display.HTML object>"
      ]
     },
     "metadata": {},
     "output_type": "display_data"
    },
    {
     "data": {
      "text/html": [
       "<span style=\"color:cyan\"> |-learning_rate: 0.001</span>"
      ],
      "text/plain": [
       "<IPython.core.display.HTML object>"
      ]
     },
     "metadata": {},
     "output_type": "display_data"
    },
    {
     "data": {
      "text/html": [
       "<span style=\"color:blue\"> |-units: 128</span>"
      ],
      "text/plain": [
       "<IPython.core.display.HTML object>"
      ]
     },
     "metadata": {},
     "output_type": "display_data"
    },
    {
     "data": {
      "text/html": [
       "<span style=\"color:#4527A0\"><h1 style=\"font-size:18px\">Trial summary</h1></span>"
      ],
      "text/plain": [
       "<IPython.core.display.HTML object>"
      ]
     },
     "metadata": {},
     "output_type": "display_data"
    },
    {
     "data": {
      "text/html": [
       "<span style=\"color:cyan\"> |-Trial ID: b1ede69d114c229b874a1f2eda937607</span>"
      ],
      "text/plain": [
       "<IPython.core.display.HTML object>"
      ]
     },
     "metadata": {},
     "output_type": "display_data"
    },
    {
     "data": {
      "text/html": [
       "<span style=\"color:cyan\"> |-Score: 589.4474487304688</span>"
      ],
      "text/plain": [
       "<IPython.core.display.HTML object>"
      ]
     },
     "metadata": {},
     "output_type": "display_data"
    },
    {
     "data": {
      "text/html": [
       "<span style=\"color:cyan\"> |-Best step: 0</span>"
      ],
      "text/plain": [
       "<IPython.core.display.HTML object>"
      ]
     },
     "metadata": {},
     "output_type": "display_data"
    },
    {
     "data": {
      "text/html": [
       "<span style=\"color:#7E57C2\"><h2 style=\"font-size:16px\">Hyperparameters:</h2></span>"
      ],
      "text/plain": [
       "<IPython.core.display.HTML object>"
      ]
     },
     "metadata": {},
     "output_type": "display_data"
    },
    {
     "data": {
      "text/html": [
       "<span style=\"color:cyan\"> |-learning_rate: 0.001</span>"
      ],
      "text/plain": [
       "<IPython.core.display.HTML object>"
      ]
     },
     "metadata": {},
     "output_type": "display_data"
    },
    {
     "data": {
      "text/html": [
       "<span style=\"color:blue\"> |-units: 64</span>"
      ],
      "text/plain": [
       "<IPython.core.display.HTML object>"
      ]
     },
     "metadata": {},
     "output_type": "display_data"
    },
    {
     "data": {
      "text/html": [
       "<span style=\"color:#4527A0\"><h1 style=\"font-size:18px\">Trial summary</h1></span>"
      ],
      "text/plain": [
       "<IPython.core.display.HTML object>"
      ]
     },
     "metadata": {},
     "output_type": "display_data"
    },
    {
     "data": {
      "text/html": [
       "<span style=\"color:cyan\"> |-Trial ID: 41972f46c854927b01f631cca99a6f15</span>"
      ],
      "text/plain": [
       "<IPython.core.display.HTML object>"
      ]
     },
     "metadata": {},
     "output_type": "display_data"
    },
    {
     "data": {
      "text/html": [
       "<span style=\"color:cyan\"> |-Score: 651.7720133463541</span>"
      ],
      "text/plain": [
       "<IPython.core.display.HTML object>"
      ]
     },
     "metadata": {},
     "output_type": "display_data"
    },
    {
     "data": {
      "text/html": [
       "<span style=\"color:cyan\"> |-Best step: 0</span>"
      ],
      "text/plain": [
       "<IPython.core.display.HTML object>"
      ]
     },
     "metadata": {},
     "output_type": "display_data"
    },
    {
     "data": {
      "text/html": [
       "<span style=\"color:#7E57C2\"><h2 style=\"font-size:16px\">Hyperparameters:</h2></span>"
      ],
      "text/plain": [
       "<IPython.core.display.HTML object>"
      ]
     },
     "metadata": {},
     "output_type": "display_data"
    },
    {
     "data": {
      "text/html": [
       "<span style=\"color:cyan\"> |-learning_rate: 0.0001</span>"
      ],
      "text/plain": [
       "<IPython.core.display.HTML object>"
      ]
     },
     "metadata": {},
     "output_type": "display_data"
    },
    {
     "data": {
      "text/html": [
       "<span style=\"color:blue\"> |-units: 128</span>"
      ],
      "text/plain": [
       "<IPython.core.display.HTML object>"
      ]
     },
     "metadata": {},
     "output_type": "display_data"
    }
   ],
   "source": [
    "tuner.results_summary()"
   ]
  },
  {
   "cell_type": "markdown",
   "metadata": {},
   "source": [
    "## Challenge\n",
    "\n",
    "Try to apply RandomSearchCV to your module project today. "
   ]
  },
  {
   "cell_type": "markdown",
   "metadata": {},
   "source": [
    "# Review\n",
    "* <a href=\"#p1\">Part 1</a>: Describe the major hyperparemeters to tune\n",
    "    - Activation Functions\n",
    "    - Optimizer\n",
    "    - Number of Layers\n",
    "    - Number of Neurons\n",
    "    - Batch Size\n",
    "    - Dropout Regulaization\n",
    "    - Learning Rate\n",
    "    - Number of Epochs\n",
    "    - and many more\n",
    "* <a href=\"#p2\">Part 2</a>: Implement an experiment tracking framework\n",
    "    - Weights & Biases\n",
    "    - Comet.ml\n",
    "    - By Hand / GridSearch\n",
    "* <a href=\"#p3\">Part 3</a>: Search the hyperparameter space using RandomSearch\n",
    "    - Sklearn still useful (haha)\n",
    "    - Integration with Wieghts & Biases\n",
    "* <a href=\"#p4\">Part 4</a>: Discuss emerging hyperparameter tuning strategies\n",
    "    - Bayesian Optimization\n",
    "    - Hyperopt\n",
    "    - Genetic Evolution"
   ]
  },
  {
   "cell_type": "markdown",
   "metadata": {},
   "source": [
    "# Sources"
   ]
  },
  {
   "cell_type": "markdown",
   "metadata": {},
   "source": [
    "## Additional Reading\n",
    "- https://machinelearningmastery.com/grid-search-hyperparameters-deep-learning-models-python-keras/\n",
    "- https://blog.floydhub.com/guide-to-hyperparameters-search-for-deep-learning-models/\n",
    "- https://machinelearningmastery.com/dropout-regularization-deep-learning-models-keras/\n",
    "- https://machinelearningmastery.com/introduction-to-weight-constraints-to-reduce-generalization-error-in-deep-learning/\n",
    "- https://machinelearningmastery.com/how-to-configure-the-number-of-layers-and-nodes-in-a-neural-network/"
   ]
  }
 ],
 "metadata": {
  "kernelspec": {
   "display_name": "unit4-sprint2",
   "language": "python",
   "name": "unit4-sprint2"
  },
  "language_info": {
   "codemirror_mode": {
    "name": "ipython",
    "version": 3
   },
   "file_extension": ".py",
   "mimetype": "text/x-python",
   "name": "python",
   "nbconvert_exporter": "python",
   "pygments_lexer": "ipython3",
   "version": "3.7.0"
  }
 },
 "nbformat": 4,
 "nbformat_minor": 4
}
