{
 "cells": [
  {
   "cell_type": "markdown",
   "metadata": {
    "colab_type": "text",
    "id": "41TS0Sa0rDNx"
   },
   "source": [
    "Lambda School Data Science\n",
    "\n",
    "*Unit 4, Sprint 2, Module 4*\n",
    "\n",
    "---"
   ]
  },
  {
   "cell_type": "markdown",
   "metadata": {
    "colab_type": "text",
    "id": "41TS0Sa0rDNx"
   },
   "source": [
    "# Neural Networks & GPUs (Prepare)\n",
    "*aka Hyperparameter Tuning*\n",
    "\n",
    "*aka Big Servers for Big Problems*"
   ]
  },
  {
   "cell_type": "markdown",
   "metadata": {
    "colab_type": "text",
    "id": "41TS0Sa0rDNx"
   },
   "source": [
    "## Learning Objectives\n",
    "* <a href=\"#p1\">Part 1</a>: Describe the major hyperparemeters to tune\n",
    "* <a href=\"#p2\">Part 2</a>: Implement an experiment tracking framework\n",
    "* <a href=\"#p3\">Part 3</a>: Search the hyperparameter space using RandomSearch (Optional)"
   ]
  },
  {
   "cell_type": "code",
   "execution_count": 1,
   "metadata": {},
   "outputs": [],
   "source": [
    "wandb_group = \"ds8\"\n",
    "wandb_project = \"inclass\""
   ]
  },
  {
   "cell_type": "markdown",
   "metadata": {},
   "source": [
    "# Hyperparameter Options (Learn)\n",
    "<a id=\"p1\"></a>"
   ]
  },
  {
   "cell_type": "markdown",
   "metadata": {},
   "source": [
    "## Overview\n",
    "\n",
    "Hyperparameter tuning is much more important with neural networks than it has been with any other models that we have considered up to this point. Other supervised learning models might have a couple of parameters, but neural networks can have dozens. These can substantially affect the accuracy of our models and although it can be a time consuming process is a necessary step when working with neural networks.\n",
    "​\n",
    "Hyperparameter tuning comes with a challenge. How can we compare models specified with different hyperparameters if our model's final error metric can vary somewhat erratically? How do we avoid just getting unlucky and selecting the wrong hyperparameter? This is a problem that to a certain degree we just have to live with as we test and test again. However, we can minimize it somewhat by pairing our experiments with Cross Validation to reduce the variance of our final accuracy values."
   ]
  },
  {
   "cell_type": "markdown",
   "metadata": {
    "colab_type": "text",
    "id": "0s0o2pqBs88q"
   },
   "source": [
    "### Load Boston Housing Data"
   ]
  },
  {
   "cell_type": "code",
   "execution_count": 1,
   "metadata": {},
   "outputs": [],
   "source": [
    "from tensorflow.keras.datasets import boston_housing\n",
    "\n",
    "(x_train, y_train), (x_test, y_test) = boston_housing.load_data()"
   ]
  },
  {
   "cell_type": "markdown",
   "metadata": {
    "colab_type": "text",
    "id": "Pm7zow5IvaTt"
   },
   "source": [
    "### Normalizing Input Data\n",
    "\n",
    "It's not 100% necessary to normalize/scale your input data before feeding it to a neural network, the network can learn the appropriate weights to deal with data of as long as it is numerically represented,  but it is recommended as it can help **make training faster** and **reduces the chances that gradient descent might get stuck in a local optimum**.\n",
    "\n",
    "<https://stackoverflow.com/questions/4674623/why-do-we-have-to-normalize-the-input-for-an-artificial-neural-network>"
   ]
  },
  {
   "cell_type": "code",
   "execution_count": 2,
   "metadata": {},
   "outputs": [
    {
     "name": "stdout",
     "output_type": "stream",
     "text": [
      "[[-0.27224633 -0.48361547 -0.43576161 -0.25683275 -0.1652266  -0.1764426\n",
      "   0.81306188  0.1166983  -0.62624905 -0.59517003  1.14850044  0.44807713\n",
      "   0.8252202 ]\n",
      " [-0.40342651  2.99178419 -1.33391162 -0.25683275 -1.21518188  1.89434613\n",
      "  -1.91036058  1.24758524 -0.85646254 -0.34843254 -1.71818909  0.43190599\n",
      "  -1.32920239]\n",
      " [ 0.1249402  -0.48361547  1.0283258  -0.25683275  0.62864202 -1.82968811\n",
      "   1.11048828 -1.18743907  1.67588577  1.5652875   0.78447637  0.22061726\n",
      "  -1.30850006]\n",
      " [-0.40149354 -0.48361547 -0.86940196 -0.25683275 -0.3615597  -0.3245576\n",
      "  -1.23667187  1.10717989 -0.51114231 -1.094663    0.78447637  0.44807713\n",
      "  -0.65292624]\n",
      " [-0.0056343  -0.48361547  1.0283258  -0.25683275  1.32861221  0.15364225\n",
      "   0.69480801 -0.57857203  1.67588577  1.5652875   0.78447637  0.3898823\n",
      "   0.26349695]\n",
      " [-0.37502238 -0.48361547 -0.54747912 -0.25683275 -0.54935658 -0.78865126\n",
      "   0.18954148  0.48371503 -0.51114231 -0.71552978  0.51145832  0.38669063\n",
      "  -0.13812828]\n",
      " [ 0.58963463 -0.48361547  1.0283258  -0.25683275  1.21764133 -1.03127774\n",
      "   1.11048828 -1.06518235  1.67588577  1.5652875   0.78447637  0.44807713\n",
      "   1.49873604]\n",
      " [ 0.0381708  -0.48361547  1.24588095 -0.25683275  2.67733525 -1.12719983\n",
      "   1.11048828 -1.14833073 -0.51114231 -0.01744323 -1.71818909  0.44807713\n",
      "   1.88793986]\n",
      " [-0.17228416 -0.48361547  1.24588095 -0.25683275  2.67733525 -0.90150078\n",
      "   1.11048828 -1.09664657 -0.51114231 -0.01744323 -1.71818909 -1.97365769\n",
      "   0.53952803]\n",
      " [-0.22932104 -0.48361547  1.58544339 -0.25683275  0.56888847 -1.76056777\n",
      "   1.11048828 -1.13471925 -0.62624905  0.18716835  1.23950646  0.44807713\n",
      "   2.99068404]]\n"
     ]
    }
   ],
   "source": [
    "from sklearn.preprocessing import StandardScaler\n",
    "\n",
    "scaler = StandardScaler()\n",
    "\n",
    "x_train = scaler.fit_transform(x_train)\n",
    "x_test = scaler.transform(x_test)\n",
    "print(x_train[:10])"
   ]
  },
  {
   "cell_type": "markdown",
   "metadata": {
    "colab_type": "text",
    "id": "l6hgCWbir90R"
   },
   "source": [
    "### Model Validation using an automatic verification Dataset\n",
    "\n",
    "Instead of doing seperate train test split class, Keras has a really nice feature that you can set the validation.data argument when fitting your model and Keras will take that portion of your test data and use it as a validation dataset. "
   ]
  },
  {
   "cell_type": "code",
   "execution_count": 3,
   "metadata": {
    "colab": {
     "base_uri": "https://localhost:8080/",
     "height": 1750
    },
    "colab_type": "code",
    "id": "GMXVfmzXp1Oo",
    "outputId": "b05e251e-508f-46e6-865b-f869ae2a5dc4"
   },
   "outputs": [
    {
     "name": "stdout",
     "output_type": "stream",
     "text": [
      "WARNING:tensorflow:From /home/ec2-user/anaconda3/envs/tensorflow_p36/lib/python3.6/site-packages/tensorflow/python/ops/init_ops.py:1251: calling VarianceScaling.__init__ (from tensorflow.python.ops.init_ops) with dtype is deprecated and will be removed in a future version.\n",
      "Instructions for updating:\n",
      "Call initializer instance with the dtype argument instead of passing it to the constructor\n",
      "Train on 404 samples, validate on 102 samples\n",
      "Epoch 1/75\n",
      "404/404 [==============================] - 0s 1ms/sample - loss: 508.2799 - mean_squared_error: 508.2799 - mean_absolute_error: 20.6523 - val_loss: 420.6153 - val_mean_squared_error: 420.6153 - val_mean_absolute_error: 18.6437\n",
      "Epoch 2/75\n",
      "404/404 [==============================] - 0s 233us/sample - loss: 240.0905 - mean_squared_error: 240.0905 - mean_absolute_error: 13.1628 - val_loss: 95.4252 - val_mean_squared_error: 95.4252 - val_mean_absolute_error: 8.2711\n",
      "Epoch 3/75\n",
      "404/404 [==============================] - 0s 204us/sample - loss: 53.0578 - mean_squared_error: 53.0578 - mean_absolute_error: 5.4279 - val_loss: 40.6435 - val_mean_squared_error: 40.6435 - val_mean_absolute_error: 4.8275\n",
      "Epoch 4/75\n",
      "404/404 [==============================] - 0s 227us/sample - loss: 31.7034 - mean_squared_error: 31.7034 - mean_absolute_error: 3.9533 - val_loss: 31.7224 - val_mean_squared_error: 31.7224 - val_mean_absolute_error: 4.4886\n",
      "Epoch 5/75\n",
      "404/404 [==============================] - 0s 227us/sample - loss: 25.3362 - mean_squared_error: 25.3362 - mean_absolute_error: 3.6127 - val_loss: 28.7554 - val_mean_squared_error: 28.7554 - val_mean_absolute_error: 4.2205\n",
      "Epoch 6/75\n",
      "404/404 [==============================] - 0s 228us/sample - loss: 22.1720 - mean_squared_error: 22.1720 - mean_absolute_error: 3.3296 - val_loss: 26.3137 - val_mean_squared_error: 26.3137 - val_mean_absolute_error: 4.0516\n",
      "Epoch 7/75\n",
      "404/404 [==============================] - 0s 224us/sample - loss: 19.8653 - mean_squared_error: 19.8653 - mean_absolute_error: 3.1719 - val_loss: 24.8100 - val_mean_squared_error: 24.8100 - val_mean_absolute_error: 3.8928\n",
      "Epoch 8/75\n",
      "404/404 [==============================] - 0s 227us/sample - loss: 18.1936 - mean_squared_error: 18.1936 - mean_absolute_error: 3.0312 - val_loss: 24.0793 - val_mean_squared_error: 24.0793 - val_mean_absolute_error: 3.7830\n",
      "Epoch 9/75\n",
      "404/404 [==============================] - 0s 230us/sample - loss: 16.5572 - mean_squared_error: 16.5572 - mean_absolute_error: 2.8772 - val_loss: 23.4743 - val_mean_squared_error: 23.4743 - val_mean_absolute_error: 3.6585\n",
      "Epoch 10/75\n",
      "404/404 [==============================] - 0s 225us/sample - loss: 15.5024 - mean_squared_error: 15.5024 - mean_absolute_error: 2.7795 - val_loss: 22.7190 - val_mean_squared_error: 22.7190 - val_mean_absolute_error: 3.5615\n",
      "Epoch 11/75\n",
      "404/404 [==============================] - 0s 225us/sample - loss: 14.4088 - mean_squared_error: 14.4088 - mean_absolute_error: 2.7165 - val_loss: 23.2911 - val_mean_squared_error: 23.2911 - val_mean_absolute_error: 3.5513\n",
      "Epoch 12/75\n",
      "404/404 [==============================] - 0s 220us/sample - loss: 13.5405 - mean_squared_error: 13.5405 - mean_absolute_error: 2.6087 - val_loss: 22.7526 - val_mean_squared_error: 22.7526 - val_mean_absolute_error: 3.4435\n",
      "Epoch 13/75\n",
      "404/404 [==============================] - 0s 198us/sample - loss: 12.7579 - mean_squared_error: 12.7579 - mean_absolute_error: 2.5403 - val_loss: 22.2100 - val_mean_squared_error: 22.2100 - val_mean_absolute_error: 3.3906\n",
      "Epoch 14/75\n",
      "404/404 [==============================] - 0s 205us/sample - loss: 12.1034 - mean_squared_error: 12.1034 - mean_absolute_error: 2.4692 - val_loss: 22.4044 - val_mean_squared_error: 22.4044 - val_mean_absolute_error: 3.3438\n",
      "Epoch 15/75\n",
      "404/404 [==============================] - 0s 204us/sample - loss: 11.7395 - mean_squared_error: 11.7395 - mean_absolute_error: 2.3979 - val_loss: 22.5092 - val_mean_squared_error: 22.5092 - val_mean_absolute_error: 3.3166\n",
      "Epoch 16/75\n",
      "404/404 [==============================] - 0s 203us/sample - loss: 11.1531 - mean_squared_error: 11.1531 - mean_absolute_error: 2.3773 - val_loss: 21.9571 - val_mean_squared_error: 21.9571 - val_mean_absolute_error: 3.2392\n",
      "Epoch 17/75\n",
      "404/404 [==============================] - 0s 197us/sample - loss: 10.7338 - mean_squared_error: 10.7338 - mean_absolute_error: 2.3158 - val_loss: 22.1313 - val_mean_squared_error: 22.1313 - val_mean_absolute_error: 3.2477\n",
      "Epoch 18/75\n",
      "404/404 [==============================] - 0s 200us/sample - loss: 10.3614 - mean_squared_error: 10.3614 - mean_absolute_error: 2.2797 - val_loss: 22.8904 - val_mean_squared_error: 22.8904 - val_mean_absolute_error: 3.2550\n",
      "Epoch 19/75\n",
      "404/404 [==============================] - 0s 203us/sample - loss: 10.2006 - mean_squared_error: 10.2006 - mean_absolute_error: 2.3012 - val_loss: 22.4740 - val_mean_squared_error: 22.4740 - val_mean_absolute_error: 3.2160\n",
      "Epoch 20/75\n",
      "404/404 [==============================] - 0s 209us/sample - loss: 9.8844 - mean_squared_error: 9.8844 - mean_absolute_error: 2.2460 - val_loss: 21.8157 - val_mean_squared_error: 21.8157 - val_mean_absolute_error: 3.1507\n",
      "Epoch 21/75\n",
      "404/404 [==============================] - 0s 197us/sample - loss: 9.8142 - mean_squared_error: 9.8142 - mean_absolute_error: 2.2240 - val_loss: 23.9202 - val_mean_squared_error: 23.9202 - val_mean_absolute_error: 3.2370\n",
      "Epoch 22/75\n",
      "404/404 [==============================] - 0s 210us/sample - loss: 9.5261 - mean_squared_error: 9.5261 - mean_absolute_error: 2.2236 - val_loss: 21.0343 - val_mean_squared_error: 21.0343 - val_mean_absolute_error: 3.0568\n",
      "Epoch 23/75\n",
      "404/404 [==============================] - 0s 197us/sample - loss: 9.3071 - mean_squared_error: 9.3071 - mean_absolute_error: 2.1727 - val_loss: 23.7341 - val_mean_squared_error: 23.7341 - val_mean_absolute_error: 3.2255\n",
      "Epoch 24/75\n",
      "404/404 [==============================] - 0s 200us/sample - loss: 9.2795 - mean_squared_error: 9.2795 - mean_absolute_error: 2.1742 - val_loss: 22.8241 - val_mean_squared_error: 22.8241 - val_mean_absolute_error: 3.1826\n",
      "Epoch 25/75\n",
      "404/404 [==============================] - 0s 200us/sample - loss: 9.1390 - mean_squared_error: 9.1390 - mean_absolute_error: 2.1393 - val_loss: 21.9743 - val_mean_squared_error: 21.9743 - val_mean_absolute_error: 3.1034\n",
      "Epoch 26/75\n",
      "404/404 [==============================] - 0s 201us/sample - loss: 8.8883 - mean_squared_error: 8.8883 - mean_absolute_error: 2.1155 - val_loss: 21.6072 - val_mean_squared_error: 21.6072 - val_mean_absolute_error: 3.0540\n",
      "Epoch 27/75\n",
      "404/404 [==============================] - 0s 197us/sample - loss: 8.9700 - mean_squared_error: 8.9700 - mean_absolute_error: 2.1244 - val_loss: 22.4369 - val_mean_squared_error: 22.4369 - val_mean_absolute_error: 3.1004\n",
      "Epoch 28/75\n",
      "404/404 [==============================] - 0s 204us/sample - loss: 8.8512 - mean_squared_error: 8.8512 - mean_absolute_error: 2.1241 - val_loss: 20.5269 - val_mean_squared_error: 20.5269 - val_mean_absolute_error: 2.9561\n",
      "Epoch 29/75\n",
      "404/404 [==============================] - 0s 204us/sample - loss: 8.6827 - mean_squared_error: 8.6827 - mean_absolute_error: 2.1063 - val_loss: 21.3250 - val_mean_squared_error: 21.3250 - val_mean_absolute_error: 2.9875\n",
      "Epoch 30/75\n",
      "404/404 [==============================] - 0s 238us/sample - loss: 8.5107 - mean_squared_error: 8.5107 - mean_absolute_error: 2.0678 - val_loss: 22.2454 - val_mean_squared_error: 22.2454 - val_mean_absolute_error: 3.0906\n",
      "Epoch 31/75\n",
      "404/404 [==============================] - 0s 225us/sample - loss: 8.4232 - mean_squared_error: 8.4232 - mean_absolute_error: 2.0677 - val_loss: 22.3318 - val_mean_squared_error: 22.3318 - val_mean_absolute_error: 3.0613\n",
      "Epoch 32/75\n",
      "404/404 [==============================] - 0s 223us/sample - loss: 8.3999 - mean_squared_error: 8.3999 - mean_absolute_error: 2.0626 - val_loss: 21.3008 - val_mean_squared_error: 21.3008 - val_mean_absolute_error: 2.9721\n",
      "Epoch 33/75\n",
      "404/404 [==============================] - 0s 221us/sample - loss: 8.2504 - mean_squared_error: 8.2504 - mean_absolute_error: 2.0380 - val_loss: 21.8798 - val_mean_squared_error: 21.8798 - val_mean_absolute_error: 3.0289\n",
      "Epoch 34/75\n"
     ]
    },
    {
     "name": "stdout",
     "output_type": "stream",
     "text": [
      "404/404 [==============================] - 0s 229us/sample - loss: 8.2333 - mean_squared_error: 8.2333 - mean_absolute_error: 2.0521 - val_loss: 21.6254 - val_mean_squared_error: 21.6254 - val_mean_absolute_error: 3.0077\n",
      "Epoch 35/75\n",
      "404/404 [==============================] - 0s 221us/sample - loss: 8.1728 - mean_squared_error: 8.1728 - mean_absolute_error: 2.0140 - val_loss: 20.9582 - val_mean_squared_error: 20.9582 - val_mean_absolute_error: 3.0101\n",
      "Epoch 36/75\n",
      "404/404 [==============================] - 0s 229us/sample - loss: 7.8996 - mean_squared_error: 7.8996 - mean_absolute_error: 1.9988 - val_loss: 20.8692 - val_mean_squared_error: 20.8692 - val_mean_absolute_error: 2.9374\n",
      "Epoch 37/75\n",
      "404/404 [==============================] - 0s 244us/sample - loss: 7.9213 - mean_squared_error: 7.9213 - mean_absolute_error: 1.9960 - val_loss: 22.6145 - val_mean_squared_error: 22.6145 - val_mean_absolute_error: 3.1082\n",
      "Epoch 38/75\n",
      "404/404 [==============================] - 0s 231us/sample - loss: 8.0920 - mean_squared_error: 8.0920 - mean_absolute_error: 2.0320 - val_loss: 21.8384 - val_mean_squared_error: 21.8384 - val_mean_absolute_error: 3.0067\n",
      "Epoch 39/75\n",
      "404/404 [==============================] - 0s 224us/sample - loss: 7.6452 - mean_squared_error: 7.6452 - mean_absolute_error: 1.9792 - val_loss: 19.9076 - val_mean_squared_error: 19.9076 - val_mean_absolute_error: 2.8354\n",
      "Epoch 40/75\n",
      "404/404 [==============================] - 0s 225us/sample - loss: 7.5439 - mean_squared_error: 7.5439 - mean_absolute_error: 1.9381 - val_loss: 21.2201 - val_mean_squared_error: 21.2201 - val_mean_absolute_error: 2.9983\n",
      "Epoch 41/75\n",
      "404/404 [==============================] - 0s 225us/sample - loss: 7.5611 - mean_squared_error: 7.5611 - mean_absolute_error: 1.9622 - val_loss: 19.6274 - val_mean_squared_error: 19.6274 - val_mean_absolute_error: 2.8174\n",
      "Epoch 42/75\n",
      "404/404 [==============================] - 0s 228us/sample - loss: 7.5198 - mean_squared_error: 7.5198 - mean_absolute_error: 1.9667 - val_loss: 20.1924 - val_mean_squared_error: 20.1924 - val_mean_absolute_error: 2.9343\n",
      "Epoch 43/75\n",
      "404/404 [==============================] - 0s 238us/sample - loss: 7.4211 - mean_squared_error: 7.4211 - mean_absolute_error: 1.9356 - val_loss: 20.1409 - val_mean_squared_error: 20.1409 - val_mean_absolute_error: 2.8355\n",
      "Epoch 44/75\n",
      "404/404 [==============================] - 0s 233us/sample - loss: 7.3292 - mean_squared_error: 7.3292 - mean_absolute_error: 1.9375 - val_loss: 19.8165 - val_mean_squared_error: 19.8165 - val_mean_absolute_error: 2.8022\n",
      "Epoch 45/75\n",
      "404/404 [==============================] - 0s 226us/sample - loss: 7.3375 - mean_squared_error: 7.3375 - mean_absolute_error: 1.9010 - val_loss: 21.3833 - val_mean_squared_error: 21.3833 - val_mean_absolute_error: 2.9287\n",
      "Epoch 46/75\n",
      "404/404 [==============================] - 0s 220us/sample - loss: 7.3836 - mean_squared_error: 7.3836 - mean_absolute_error: 1.9382 - val_loss: 19.4386 - val_mean_squared_error: 19.4386 - val_mean_absolute_error: 2.8095\n",
      "Epoch 47/75\n",
      "404/404 [==============================] - 0s 224us/sample - loss: 7.0080 - mean_squared_error: 7.0080 - mean_absolute_error: 1.9076 - val_loss: 20.7756 - val_mean_squared_error: 20.7756 - val_mean_absolute_error: 2.8906\n",
      "Epoch 48/75\n",
      "404/404 [==============================] - 0s 221us/sample - loss: 7.1783 - mean_squared_error: 7.1783 - mean_absolute_error: 1.9069 - val_loss: 19.9922 - val_mean_squared_error: 19.9922 - val_mean_absolute_error: 2.7814\n",
      "Epoch 49/75\n",
      "404/404 [==============================] - 0s 225us/sample - loss: 7.1047 - mean_squared_error: 7.1047 - mean_absolute_error: 1.9172 - val_loss: 19.4225 - val_mean_squared_error: 19.4225 - val_mean_absolute_error: 2.7389\n",
      "Epoch 50/75\n",
      "404/404 [==============================] - 0s 220us/sample - loss: 6.8501 - mean_squared_error: 6.8501 - mean_absolute_error: 1.8393 - val_loss: 19.4292 - val_mean_squared_error: 19.4292 - val_mean_absolute_error: 2.7590\n",
      "Epoch 51/75\n",
      "404/404 [==============================] - 0s 222us/sample - loss: 6.9172 - mean_squared_error: 6.9172 - mean_absolute_error: 1.8841 - val_loss: 19.5094 - val_mean_squared_error: 19.5094 - val_mean_absolute_error: 2.7762\n",
      "Epoch 52/75\n",
      "404/404 [==============================] - 0s 225us/sample - loss: 6.8128 - mean_squared_error: 6.8128 - mean_absolute_error: 1.8772 - val_loss: 19.6797 - val_mean_squared_error: 19.6797 - val_mean_absolute_error: 2.8876\n",
      "Epoch 53/75\n",
      "404/404 [==============================] - 0s 238us/sample - loss: 6.9645 - mean_squared_error: 6.9645 - mean_absolute_error: 1.8735 - val_loss: 19.1290 - val_mean_squared_error: 19.1290 - val_mean_absolute_error: 2.7230\n",
      "Epoch 54/75\n",
      "404/404 [==============================] - 0s 218us/sample - loss: 6.7902 - mean_squared_error: 6.7902 - mean_absolute_error: 1.8450 - val_loss: 19.2984 - val_mean_squared_error: 19.2984 - val_mean_absolute_error: 2.7630\n",
      "Epoch 55/75\n",
      "404/404 [==============================] - 0s 229us/sample - loss: 6.5922 - mean_squared_error: 6.5922 - mean_absolute_error: 1.8114 - val_loss: 18.6825 - val_mean_squared_error: 18.6825 - val_mean_absolute_error: 2.7097\n",
      "Epoch 56/75\n",
      "404/404 [==============================] - 0s 216us/sample - loss: 6.4693 - mean_squared_error: 6.4693 - mean_absolute_error: 1.8130 - val_loss: 19.1277 - val_mean_squared_error: 19.1277 - val_mean_absolute_error: 2.7685\n",
      "Epoch 57/75\n",
      "404/404 [==============================] - 0s 203us/sample - loss: 6.5859 - mean_squared_error: 6.5859 - mean_absolute_error: 1.8378 - val_loss: 20.4789 - val_mean_squared_error: 20.4789 - val_mean_absolute_error: 2.8468\n",
      "Epoch 58/75\n",
      "404/404 [==============================] - 0s 203us/sample - loss: 6.5954 - mean_squared_error: 6.5954 - mean_absolute_error: 1.8049 - val_loss: 22.0460 - val_mean_squared_error: 22.0460 - val_mean_absolute_error: 2.9474\n",
      "Epoch 59/75\n",
      "404/404 [==============================] - 0s 204us/sample - loss: 6.4967 - mean_squared_error: 6.4967 - mean_absolute_error: 1.8270 - val_loss: 19.3775 - val_mean_squared_error: 19.3775 - val_mean_absolute_error: 2.7814\n",
      "Epoch 60/75\n",
      "404/404 [==============================] - 0s 207us/sample - loss: 6.2873 - mean_squared_error: 6.2873 - mean_absolute_error: 1.7784 - val_loss: 19.0365 - val_mean_squared_error: 19.0365 - val_mean_absolute_error: 2.6658\n",
      "Epoch 61/75\n",
      "404/404 [==============================] - 0s 211us/sample - loss: 6.2614 - mean_squared_error: 6.2614 - mean_absolute_error: 1.7681 - val_loss: 18.4828 - val_mean_squared_error: 18.4828 - val_mean_absolute_error: 2.6793\n",
      "Epoch 62/75\n",
      "404/404 [==============================] - 0s 198us/sample - loss: 6.2660 - mean_squared_error: 6.2660 - mean_absolute_error: 1.7731 - val_loss: 18.3646 - val_mean_squared_error: 18.3646 - val_mean_absolute_error: 2.6882\n",
      "Epoch 63/75\n",
      "404/404 [==============================] - 0s 208us/sample - loss: 6.1579 - mean_squared_error: 6.1579 - mean_absolute_error: 1.7467 - val_loss: 18.5357 - val_mean_squared_error: 18.5357 - val_mean_absolute_error: 2.6800\n",
      "Epoch 64/75\n",
      "404/404 [==============================] - 0s 205us/sample - loss: 5.9607 - mean_squared_error: 5.9607 - mean_absolute_error: 1.7258 - val_loss: 20.1364 - val_mean_squared_error: 20.1364 - val_mean_absolute_error: 2.8642\n",
      "Epoch 65/75\n",
      "404/404 [==============================] - 0s 200us/sample - loss: 5.9911 - mean_squared_error: 5.9911 - mean_absolute_error: 1.7567 - val_loss: 18.8608 - val_mean_squared_error: 18.8608 - val_mean_absolute_error: 2.7075\n",
      "Epoch 66/75\n",
      "404/404 [==============================] - 0s 203us/sample - loss: 5.9413 - mean_squared_error: 5.9413 - mean_absolute_error: 1.7529 - val_loss: 18.3758 - val_mean_squared_error: 18.3758 - val_mean_absolute_error: 2.7072\n",
      "Epoch 67/75\n",
      "404/404 [==============================] - 0s 204us/sample - loss: 5.8821 - mean_squared_error: 5.8821 - mean_absolute_error: 1.6990 - val_loss: 19.0074 - val_mean_squared_error: 19.0074 - val_mean_absolute_error: 2.7015\n",
      "Epoch 68/75\n",
      "404/404 [==============================] - 0s 211us/sample - loss: 6.1084 - mean_squared_error: 6.1084 - mean_absolute_error: 1.7787 - val_loss: 19.6033 - val_mean_squared_error: 19.6033 - val_mean_absolute_error: 2.7819\n",
      "Epoch 69/75\n"
     ]
    },
    {
     "name": "stdout",
     "output_type": "stream",
     "text": [
      "404/404 [==============================] - 0s 202us/sample - loss: 5.6527 - mean_squared_error: 5.6527 - mean_absolute_error: 1.6871 - val_loss: 17.6759 - val_mean_squared_error: 17.6759 - val_mean_absolute_error: 2.6058\n",
      "Epoch 70/75\n",
      "404/404 [==============================] - 0s 204us/sample - loss: 6.0514 - mean_squared_error: 6.0514 - mean_absolute_error: 1.7764 - val_loss: 17.6139 - val_mean_squared_error: 17.6139 - val_mean_absolute_error: 2.6199\n",
      "Epoch 71/75\n",
      "404/404 [==============================] - 0s 208us/sample - loss: 5.9179 - mean_squared_error: 5.9179 - mean_absolute_error: 1.7290 - val_loss: 18.0580 - val_mean_squared_error: 18.0579 - val_mean_absolute_error: 2.6804\n",
      "Epoch 72/75\n",
      "404/404 [==============================] - 0s 202us/sample - loss: 5.8923 - mean_squared_error: 5.8923 - mean_absolute_error: 1.7358 - val_loss: 18.0457 - val_mean_squared_error: 18.0457 - val_mean_absolute_error: 2.6531\n",
      "Epoch 73/75\n",
      "404/404 [==============================] - 0s 204us/sample - loss: 5.8356 - mean_squared_error: 5.8356 - mean_absolute_error: 1.6876 - val_loss: 16.8068 - val_mean_squared_error: 16.8068 - val_mean_absolute_error: 2.5739\n",
      "Epoch 74/75\n",
      "404/404 [==============================] - 0s 203us/sample - loss: 5.7591 - mean_squared_error: 5.7591 - mean_absolute_error: 1.7183 - val_loss: 18.0469 - val_mean_squared_error: 18.0469 - val_mean_absolute_error: 2.6254\n",
      "Epoch 75/75\n",
      "404/404 [==============================] - 0s 203us/sample - loss: 5.5550 - mean_squared_error: 5.5550 - mean_absolute_error: 1.7209 - val_loss: 17.1256 - val_mean_squared_error: 17.1256 - val_mean_absolute_error: 2.6338\n"
     ]
    },
    {
     "data": {
      "text/plain": [
       "<tensorflow.python.keras.callbacks.History at 0x7f09fb391128>"
      ]
     },
     "execution_count": 3,
     "metadata": {},
     "output_type": "execute_result"
    }
   ],
   "source": [
    "from tensorflow import keras\n",
    "from tensorflow.keras.models import Sequential\n",
    "from tensorflow.keras.layers import Dense\n",
    "\n",
    "# Important Hyperparameters\n",
    "inputs = x_train.shape[1]\n",
    "epochs = 75\n",
    "batch_size = 10\n",
    "\n",
    "\n",
    "# Create Model\n",
    "model = Sequential()\n",
    "model.add(Dense(64, activation='relu', input_shape=(inputs,)))\n",
    "model.add(Dense(64, activation='relu'))\n",
    "model.add(Dense(1))\n",
    "\n",
    "# Compile Model\n",
    "model.compile(optimizer='adam', loss='mse', metrics=['mse', 'mae'])\n",
    "\n",
    "# Fit Model\n",
    "model.fit(x_train, y_train, \n",
    "          validation_data=(x_test,y_test), \n",
    "          epochs=epochs, \n",
    "          batch_size=batch_size\n",
    "         )"
   ]
  },
  {
   "cell_type": "markdown",
   "metadata": {
    "colab_type": "text",
    "id": "sYJ8t_ezHP4W"
   },
   "source": [
    "### Hyperparameter Tuning Approaches:\n",
    "\n",
    "#### 1) Babysitting AKA \"Grad Student Descent\".\n",
    "\n",
    "If you fiddled with any hyperparameters yesterday, this is basically what you did. This approach is 100% manual and is pretty common among researchers where finding that 1 exact specification that jumps your model to a level of accuracy never seen before is the difference between publishing and not publishing a paper. Of course the professors don't do this themselves, that's grunt work. This is also known as the fiddle with hyperparameters until you run out of time method.\n",
    "\n",
    "#### 2) Grid Search\n",
    "\n",
    "Grid Search is the Grad Student galaxy brain realization of: why don't I just specify all the experiments I want to run and let the computer try every possible combination of them while I go and grab lunch. This has a specific downside in that if I specify 5 hyperparameters with 5 options each then I've just created 5^5 combinations of hyperparameters to check. Which means that I have to train 3125 different versions of my model Then if I use 5-fold Cross Validation on that then my model has to run 15,525 times. This is the brute-force method of hyperparameter tuning, but it can be very profitable if done wisely. \n",
    "\n",
    "When using Grid Search here's what I suggest: don't use it to test combinations of different hyperparameters, only use it to test different specifications of **a single** hyperparameter. It's rare that combinations between different hyperparameters lead to big performance gains. You'll get 90-95% of the way there if you just Grid Search one parameter and take the best result, then retain that best result while you test another, and then retain the best specification from that while you train another. This at least makes the situation much more manageable and leads to pretty good results. \n",
    "\n",
    "#### 3) Random Search\n",
    "\n",
    "Do Grid Search for a couple of hours and you'll say to yourself - \"There's got to be a better way.\" Enter Random Search. For Random search you specify a hyperparameter space and it picks specifications from that randomly, tries them out, gives you the best results and says - That's going to have to be good enough, go home and spend time with your family. \n",
    "\n",
    "Grid Search treats every parameter as if it was equally important, but this just isn't the case, some are known to move the needle a lot more than others (we'll talk about that in a minute). Random Search allows searching to be specified along the most important parameter and experiments less along the dimensions of less important hyperparameters. The downside of Random search is that it won't find the absolute best hyperparameters, but it is much less costly to perform than Grid Search. \n",
    "\n",
    "#### 4) Bayesian Methods\n",
    "\n",
    "One thing that can make more manual methods like babysitting and gridsearch effective is that as the experimenter sees results he can then make updates to his future searches taking into account the results of past specifications. If only we could hyperparameter tune our hyperparameter tuning. Well, we kind of can. Enter Bayesian Optimization. Neural Networks are like an optimization problem within an optimization problem, and Bayesian Optimization is a search strategy that tries to take into account the results of past searches in order to improve future ones. This is the most advanced method but can be a little bit tricky to implement, but there are some early steps with `hyperas` which is Bayesian optimization wrapper for `keras`. "
   ]
  },
  {
   "cell_type": "markdown",
   "metadata": {
    "colab_type": "text",
    "id": "HfQ7D043OMMn"
   },
   "source": [
    "## What Hyperparameters are there to test?\n",
    "\n",
    "- batch_size\n",
    "- training epochs\n",
    "- optimization algorithms\n",
    "- learning rate\n",
    "- momentum\n",
    "- activation functions\n",
    "- dropout regularization\n",
    "- number of neurons in the hidden layer\n",
    "\n",
    "There are more, but these are the most important."
   ]
  },
  {
   "cell_type": "markdown",
   "metadata": {},
   "source": [
    "## Follow Along"
   ]
  },
  {
   "cell_type": "markdown",
   "metadata": {
    "colab_type": "text",
    "id": "Mri5-kXzVKAa"
   },
   "source": [
    "## Batch Size\n",
    "\n",
    "Batch size determines how many observations the model is shown before it calculates loss/error and updates the model weights via gradient descent. You're looking for a sweet spot here where you're showing it enough observations that you have enough information to updates the weights, but not such a large batch size that you don't get a lot of weight update iterations performed in a given epoch. Feed-forward Neural Networks aren't as sensitive to bach_size as other networks, but it is still an important hyperparameter to tune. Smaller batch sizes will also take longer to train. "
   ]
  },
  {
   "cell_type": "code",
   "execution_count": 4,
   "metadata": {
    "colab": {
     "base_uri": "https://localhost:8080/",
     "height": 13561
    },
    "colab_type": "code",
    "id": "2smXfriNAGn7",
    "outputId": "ae996575-78e2-43fb-9dbe-5d44aaf0b430"
   },
   "outputs": [
    {
     "name": "stdout",
     "output_type": "stream",
     "text": [
      "WARNING:tensorflow:From /home/ec2-user/anaconda3/envs/tensorflow_p36/lib/python3.6/site-packages/tensorflow/python/ops/nn_impl.py:180: add_dispatch_support.<locals>.wrapper (from tensorflow.python.ops.array_ops) is deprecated and will be removed in a future version.\n",
      "Instructions for updating:\n",
      "Use tf.where in 2.0, which has the same broadcast rule as np.where\n"
     ]
    },
    {
     "name": "stderr",
     "output_type": "stream",
     "text": [
      "/home/ec2-user/anaconda3/envs/tensorflow_p36/lib/python3.6/site-packages/sklearn/model_selection/_split.py:1978: FutureWarning: The default value of cv will change from 3 to 5 in version 0.22. Specify it explicitly to silence this warning.\n",
      "  warnings.warn(CV_WARNING, FutureWarning)\n"
     ]
    },
    {
     "name": "stdout",
     "output_type": "stream",
     "text": [
      "Best: 0.640625 using {'batch_size': 20, 'epochs': 20}\n",
      "Means: 0.62890625, Stdev: 0.014615849167085708 with: {'batch_size': 10, 'epochs': 20}\n",
      "Means: 0.640625, Stdev: 0.038273277230987154 with: {'batch_size': 20, 'epochs': 20}\n",
      "Means: 0.6223958333333334, Stdev: 0.05106424883106141 with: {'batch_size': 40, 'epochs': 20}\n",
      "Means: 0.5403645833333334, Stdev: 0.07344950404255446 with: {'batch_size': 60, 'epochs': 20}\n",
      "Means: 0.5364583333333334, Stdev: 0.05185496810348926 with: {'batch_size': 80, 'epochs': 20}\n",
      "Means: 0.6106770833333334, Stdev: 0.06768328863732827 with: {'batch_size': 100, 'epochs': 20}\n"
     ]
    }
   ],
   "source": [
    "import numpy\n",
    "import pandas as pd\n",
    "from sklearn.model_selection import GridSearchCV\n",
    "from tensorflow.keras.models import Sequential\n",
    "from tensorflow.keras.layers import Dense\n",
    "from tensorflow.keras.wrappers.scikit_learn import KerasClassifier\n",
    "\n",
    "# fix random seed for reproducibility\n",
    "seed = 7\n",
    "numpy.random.seed(seed)\n",
    "\n",
    "# load dataset\n",
    "url =\"https://raw.githubusercontent.com/jbrownlee/Datasets/master/pima-indians-diabetes.data.csv\"\n",
    "\n",
    "dataset = pd.read_csv(url, header=None).values\n",
    "\n",
    "# split into input (X) and output (Y) variables\n",
    "X = dataset[:,0:8]\n",
    "Y = dataset[:,8]\n",
    "\n",
    "# Function to create model, required for KerasClassifier\n",
    "def create_model():\n",
    "    # create model\n",
    "    model = Sequential()\n",
    "    model.add(Dense(12, input_dim=8, activation='relu'))\n",
    "    model.add(Dense(1, activation='sigmoid'))\n",
    "    # Compile model\n",
    "    model.compile(loss='binary_crossentropy', optimizer='adam', metrics=['accuracy'])\n",
    "    return model\n",
    "\n",
    "# create model\n",
    "model = KerasClassifier(build_fn=create_model, verbose=0)\n",
    "\n",
    "# define the grid search parameters\n",
    "# batch_size = [10, 20, 40, 60, 80, 100]\n",
    "# param_grid = dict(batch_size=batch_size, epochs=epochs)\n",
    "\n",
    "# define the grid search parameters\n",
    "param_grid = {'batch_size': [10, 20, 40, 60, 80, 100],\n",
    "              'epochs': [20]}\n",
    "\n",
    "# Create Grid Search\n",
    "grid = GridSearchCV(estimator=model, param_grid=param_grid, n_jobs=1)\n",
    "grid_result = grid.fit(X, Y)\n",
    "\n",
    "# Report Results\n",
    "print(f\"Best: {grid_result.best_score_} using {grid_result.best_params_}\")\n",
    "means = grid_result.cv_results_['mean_test_score']\n",
    "stds = grid_result.cv_results_['std_test_score']\n",
    "params = grid_result.cv_results_['params']\n",
    "for mean, stdev, param in zip(means, stds, params):\n",
    "    print(f\"Means: {mean}, Stdev: {stdev} with: {param}\") "
   ]
  },
  {
   "cell_type": "markdown",
   "metadata": {
    "colab_type": "text",
    "id": "pmABfjlvXbqi"
   },
   "source": [
    "## Epochs\n",
    "\n",
    "The number of training epochs has a large and direct affect on the accuracy, However, more epochs is almost always goign to better than less epochs. This means that if you tune this parameter at the beginning and try and maintain the same value all throughout your training, you're going to be waiting a long time for each iteration of GridSearch. I suggest picking a fixed moderat # of epochs all throughout your training and then Grid Searching this parameter at the very end. "
   ]
  },
  {
   "cell_type": "code",
   "execution_count": 5,
   "metadata": {
    "colab": {
     "base_uri": "https://localhost:8080/",
     "height": 26329
    },
    "colab_type": "code",
    "id": "bAmxP3N7TmFh",
    "outputId": "3ddb08c4-51ac-4eaa-ff39-143397024544"
   },
   "outputs": [
    {
     "name": "stderr",
     "output_type": "stream",
     "text": [
      "/home/ec2-user/anaconda3/envs/tensorflow_p36/lib/python3.6/site-packages/sklearn/model_selection/_split.py:1978: FutureWarning: The default value of cv will change from 3 to 5 in version 0.22. Specify it explicitly to silence this warning.\n",
      "  warnings.warn(CV_WARNING, FutureWarning)\n"
     ]
    },
    {
     "name": "stdout",
     "output_type": "stream",
     "text": [
      "Best: 0.7122395833333334 using {'batch_size': 20, 'epochs': 200}\n",
      "Means: 0.63671875, Stdev: 0.01149968862803105 with: {'batch_size': 20, 'epochs': 20}\n",
      "Means: 0.6484375, Stdev: 0.034499065884093155 with: {'batch_size': 20, 'epochs': 40}\n",
      "Means: 0.6875, Stdev: 0.014615849167085708 with: {'batch_size': 20, 'epochs': 60}\n",
      "Means: 0.7122395833333334, Stdev: 0.024359748611809513 with: {'batch_size': 20, 'epochs': 200}\n"
     ]
    }
   ],
   "source": [
    "# define the grid search parameters\n",
    "param_grid = {'batch_size': [20],\n",
    "              'epochs': [20, 40, 60,200]}\n",
    "\n",
    "# Create Grid Search. The model is coming from the cell above\n",
    "grid = GridSearchCV(estimator=model, param_grid=param_grid, n_jobs=1)\n",
    "grid_result = grid.fit(X, Y)\n",
    "\n",
    "# Report Results\n",
    "print(f\"Best: {grid_result.best_score_} using {grid_result.best_params_}\")\n",
    "means = grid_result.cv_results_['mean_test_score']\n",
    "stds = grid_result.cv_results_['std_test_score']\n",
    "params = grid_result.cv_results_['params']\n",
    "for mean, stdev, param in zip(means, stds, params):\n",
    "    print(f\"Means: {mean}, Stdev: {stdev} with: {param}\")"
   ]
  },
  {
   "cell_type": "markdown",
   "metadata": {
    "colab_type": "text",
    "id": "EKcuY6OiaLfz"
   },
   "source": [
    "## Optimizer\n",
    "\n",
    "Remember that there's a different optimizers [optimizers](https://keras.io/optimizers/). At some point, take some time to read up on them a little bit. \"adam\" usually gives the best results. The thing to know about choosing an optimizer is that different optimizers have different hyperparameters like learning rate, momentum, etc. So based on the optimizer you choose you might also have to tune the learning rate and momentum of those optimizers after that. "
   ]
  },
  {
   "cell_type": "markdown",
   "metadata": {
    "colab_type": "text",
    "id": "DG3wq5iOaLig"
   },
   "source": [
    "## Learning Rate\n",
    "\n",
    "Remember that the Learning Rate is a hyperparameter that is specific to your gradient-descent based optimizer selection. A learning rate that is too high will cause divergent behavior, but a Learning Rate that is too low will fail to converge, again, you're looking for the sweet spot. I would start out tuning learning rates by orders of magnitude: [.001, .01, .1, .2, .3, .5] etc. I wouldn't go above .5, but you can try it and see what the behavior is like. \n",
    "\n",
    "Once you have narrowed it down, make the window even smaller and try it again. If after running the above specification your model reports that .1 is the best optimizer, then you should probably try things like [.05, .08, .1, .12, .15] to try and narrow it down. \n",
    "\n",
    "It can also be good to tune the number of epochs in combination with the learning rate since the number of iterations that you allow the learning rate to reach the minimum can determine if you have let it run long enough to converge to the minimum. "
   ]
  },
  {
   "cell_type": "markdown",
   "metadata": {
    "colab_type": "text",
    "id": "gNTBUWd1aLlA"
   },
   "source": [
    "## Momentum\n",
    "\n",
    "Momentum is a hyperparameter that is more commonly associated with Stochastic Gradient Descent. SGD is a common optimizer because it's what people understand and know, but I doubt it will get you the best results, you can try hyperparameter tuning its attributes and see if you can beat the performance from adam. Momentum is a property that decides the willingness of an optimizer to overshoot the minimum. Imagine a ball rolling down one side of a bowl and then up the opposite side a little bit before settling back to the bottom. The purpose of momentum is to try and escale local minima."
   ]
  },
  {
   "cell_type": "markdown",
   "metadata": {
    "colab_type": "text",
    "id": "xnEG-bCJaLnZ"
   },
   "source": [
    "## Activation Functions\n",
    "\n",
    "We've talked about this a little bit, typically you'l want to use ReLU for hidden layers and either Sigmoid, or Softmax for output layers of binary and multi-class classification implementations respectively, but try other activation functions and see if you can get any better results with sigmoid or tanh or something. There are a lot of activation functions that we haven't really talked about. Maybe you'll get good results with them. Maybe you won't. :) <https://keras.io/activations/>"
   ]
  },
  {
   "cell_type": "markdown",
   "metadata": {
    "colab_type": "text",
    "id": "oul9sPq-dU-h"
   },
   "source": [
    "## Network Weight Initialization\n",
    "\n",
    "You saw how big of an effect the way that we initialize our network's weights can have on our results. There are **a lot** of what are called initialization modes. I don't understand all of them, but they can have a big affect on your model's initial accuracy. Your model will get further with less epochs if you initialize it with weights that are well suited to the problem you're trying to solve.\n",
    "\n",
    "`init_mode = ['uniform', 'lecun_uniform', 'normal', 'zero', 'glorot_normal', 'glorot_uniform', 'he_normal', 'he_uniform']`"
   ]
  },
  {
   "cell_type": "markdown",
   "metadata": {
    "colab_type": "text",
    "id": "bqtEuxeQaLqE"
   },
   "source": [
    "## Dropout Regularization and the Weight Constraint\n",
    "\n",
    "the Dropout Regularization value is a percentage of neurons that you want to be randomly deactivated during training. The weight constraint is a second regularization parameter that works in tandem with dropout regularization. You should tune these two values at the same time. \n",
    "\n",
    "Using dropout on visible vs hidden layers might have a different effect. Using dropout on hidden layers might not have any effect while using dropout on hidden layers might have a substantial effect. You don't necessarily need to turn use dropout unless you see that your model has overfitting and generalizability problems."
   ]
  },
  {
   "cell_type": "markdown",
   "metadata": {
    "colab_type": "text",
    "id": "P2c5Cv6oaLtO"
   },
   "source": [
    "## Neurons in Hidden Layer \n",
    "\n",
    "Remember that when we only had a single perceptron our model was only able to fit to linearly separable data, but as we have added layers and nodes to those layers our network has become a powerhouse of fitting nonlinearity in data. The larger the network and the more nodes generally the stronger the network's capacity to fit nonlinear patterns in data. The more nodes and layers the longer it will take to train a network, and higher the probability of overfitting. The larger your network gets the more you'll need dropout regularization or other regularization techniques to keep it in check. \n",
    "\n",
    "Typically depth (more layers) is more important than width (more nodes) for neural networks. This is part of why Deep Learning is so highly touted. Certain deep learning architectures have truly been huge breakthroughs for certain machine learning tasks. \n",
    "\n",
    "You might borrow ideas from other network architectures. For example if I was doing image recognition and I wasn't taking cues from state of the art architectures like resnet, alexnet, googlenet, etc. Then I'm probably going to have to do a lot more experimentation on my own before I find something that works.\n",
    "\n",
    "There are some heuristics, but I am highly skeptical of them. I think you're better off experimenting on your own and forming your own intuition for these kinds of problems. \n",
    "\n",
    "- https://machinelearningmastery.com/how-to-configure-the-number-of-layers-and-nodes-in-a-neural-network/"
   ]
  },
  {
   "cell_type": "markdown",
   "metadata": {},
   "source": [
    "## Challenge\n",
    "You will be expected to tune several hyperparameters in today's module project. "
   ]
  },
  {
   "cell_type": "markdown",
   "metadata": {},
   "source": [
    "# Experiment Tracking Framework (Learn)\n",
    "<a id=\"p2\"></a>"
   ]
  },
  {
   "cell_type": "markdown",
   "metadata": {},
   "source": [
    "## Overview\n",
    "\n",
    "You will notice quickly that managing the results of all the experiments you are running becomes challenging. Which set of parameters did the best? Are my results today different than my results yesterday? Although we use Ipython Notebooks to work, the format is not well suited to logging experimental results. Enter experiment tracking frameworks like [Comet.ml](https://comet.ml) and [Weights and Biases](https://wandb.ai/).\n",
    "\n",
    "Those tools will help you track your experiments, store the results, and the code associated with those experiments. Experimental results can also be readily visualized to see changes in performance across any metric you care about. Data is sent to the tool as each epoch is completed, so you can also see if your model is converging. Let's check out Weights & Biases today. "
   ]
  },
  {
   "cell_type": "markdown",
   "metadata": {},
   "source": [
    "## Follow Along\n",
    "\n",
    "Make sure you login into `wandb` in the terminal before running the next cell. "
   ]
  },
  {
   "cell_type": "code",
   "execution_count": 6,
   "metadata": {
    "scrolled": false
   },
   "outputs": [],
   "source": [
    "# !pip install wandb"
   ]
  },
  {
   "cell_type": "code",
   "execution_count": 7,
   "metadata": {},
   "outputs": [
    {
     "name": "stdout",
     "output_type": "stream",
     "text": [
      "\u001b[34m\u001b[1mwandb\u001b[0m: Appending key for api.wandb.ai to your netrc file: /home/ec2-user/.netrc\r\n",
      "\u001b[32mSuccessfully logged in to Weights & Biases!\u001b[0m\r\n"
     ]
    }
   ],
   "source": [
    "!wandb login 90d5e320d5ce4126c9b40fc301352e917b53c1ff"
   ]
  },
  {
   "cell_type": "code",
   "execution_count": 8,
   "metadata": {
    "scrolled": true
   },
   "outputs": [],
   "source": [
    "import wandb\n",
    "from wandb.keras import WandbCallback"
   ]
  },
  {
   "cell_type": "code",
   "execution_count": 9,
   "metadata": {
    "colab": {
     "base_uri": "https://localhost:8080/",
     "height": 1750
    },
    "colab_type": "code",
    "id": "GMXVfmzXp1Oo",
    "outputId": "b05e251e-508f-46e6-865b-f869ae2a5dc4"
   },
   "outputs": [
    {
     "data": {
      "text/html": [
       "\n",
       "                Logging results to <a href=\"https://wandb.com\" target=\"_blank\">Weights & Biases</a> <a href=\"https://docs.wandb.com/integrations/jupyter.html\" target=\"_blank\">(Documentation)</a>.<br/>\n",
       "                Project page: <a href=\"https://app.wandb.ai/ds8/inclass\" target=\"_blank\">https://app.wandb.ai/ds8/inclass</a><br/>\n",
       "                Run page: <a href=\"https://app.wandb.ai/ds8/inclass/runs/6rfb8zgd\" target=\"_blank\">https://app.wandb.ai/ds8/inclass/runs/6rfb8zgd</a><br/>\n",
       "            "
      ],
      "text/plain": [
       "<IPython.core.display.HTML object>"
      ]
     },
     "metadata": {},
     "output_type": "display_data"
    },
    {
     "name": "stderr",
     "output_type": "stream",
     "text": [
      "Failed to query for notebook name, you can set it manually with the WANDB_NOTEBOOK_NAME environment variable\n",
      "Error generating diff: Command '['git', 'diff', '--submodule=diff', 'HEAD']' timed out after 5 seconds\n"
     ]
    },
    {
     "name": "stdout",
     "output_type": "stream",
     "text": [
      "Train on 270 samples, validate on 134 samples\n",
      "Epoch 1/50\n",
      "270/270 [==============================] - 3s 10ms/sample - loss: 505.3697 - mean_squared_error: 505.3697 - mean_absolute_error: 20.7057 - val_loss: 501.0399 - val_mean_squared_error: 501.0398 - val_mean_absolute_error: 20.2336\n",
      "Epoch 2/50\n",
      "270/270 [==============================] - 0s 457us/sample - loss: 261.2655 - mean_squared_error: 261.2654 - mean_absolute_error: 13.5325 - val_loss: 112.9194 - val_mean_squared_error: 112.9194 - val_mean_absolute_error: 7.8774\n",
      "Epoch 3/50\n",
      "270/270 [==============================] - 0s 471us/sample - loss: 55.1742 - mean_squared_error: 55.1742 - mean_absolute_error: 5.5880 - val_loss: 58.5392 - val_mean_squared_error: 58.5392 - val_mean_absolute_error: 5.4489\n",
      "Epoch 4/50\n",
      "270/270 [==============================] - 0s 449us/sample - loss: 30.6998 - mean_squared_error: 30.6998 - mean_absolute_error: 4.0276 - val_loss: 37.9128 - val_mean_squared_error: 37.9128 - val_mean_absolute_error: 4.2238\n",
      "Epoch 5/50\n",
      "270/270 [==============================] - 0s 437us/sample - loss: 20.7630 - mean_squared_error: 20.7630 - mean_absolute_error: 3.2930 - val_loss: 30.3371 - val_mean_squared_error: 30.3371 - val_mean_absolute_error: 3.7302\n",
      "Epoch 6/50\n",
      "270/270 [==============================] - 0s 515us/sample - loss: 16.7174 - mean_squared_error: 16.7174 - mean_absolute_error: 2.9867 - val_loss: 26.1346 - val_mean_squared_error: 26.1346 - val_mean_absolute_error: 3.5315\n",
      "Epoch 7/50\n",
      "270/270 [==============================] - 0s 488us/sample - loss: 14.8686 - mean_squared_error: 14.8686 - mean_absolute_error: 2.8776 - val_loss: 24.4011 - val_mean_squared_error: 24.4011 - val_mean_absolute_error: 3.2787\n",
      "Epoch 8/50\n",
      "270/270 [==============================] - 0s 453us/sample - loss: 13.6756 - mean_squared_error: 13.6756 - mean_absolute_error: 2.7513 - val_loss: 21.5679 - val_mean_squared_error: 21.5679 - val_mean_absolute_error: 3.1140\n",
      "Epoch 9/50\n",
      "270/270 [==============================] - 0s 445us/sample - loss: 12.2085 - mean_squared_error: 12.2085 - mean_absolute_error: 2.5908 - val_loss: 19.8990 - val_mean_squared_error: 19.8990 - val_mean_absolute_error: 3.0336\n",
      "Epoch 10/50\n",
      "270/270 [==============================] - 0s 444us/sample - loss: 11.4032 - mean_squared_error: 11.4032 - mean_absolute_error: 2.5389 - val_loss: 18.6579 - val_mean_squared_error: 18.6579 - val_mean_absolute_error: 2.9137\n",
      "Epoch 11/50\n",
      "270/270 [==============================] - 0s 484us/sample - loss: 10.4844 - mean_squared_error: 10.4844 - mean_absolute_error: 2.4230 - val_loss: 18.1941 - val_mean_squared_error: 18.1941 - val_mean_absolute_error: 2.8622\n",
      "Epoch 12/50\n",
      "270/270 [==============================] - 0s 499us/sample - loss: 9.9431 - mean_squared_error: 9.9431 - mean_absolute_error: 2.3677 - val_loss: 16.8927 - val_mean_squared_error: 16.8927 - val_mean_absolute_error: 2.7600\n",
      "Epoch 13/50\n",
      "270/270 [==============================] - 0s 548us/sample - loss: 9.5621 - mean_squared_error: 9.5621 - mean_absolute_error: 2.4031 - val_loss: 16.5073 - val_mean_squared_error: 16.5073 - val_mean_absolute_error: 2.7526\n",
      "Epoch 14/50\n",
      "270/270 [==============================] - 0s 466us/sample - loss: 9.1151 - mean_squared_error: 9.1151 - mean_absolute_error: 2.2733 - val_loss: 15.9706 - val_mean_squared_error: 15.9706 - val_mean_absolute_error: 2.7389\n",
      "Epoch 15/50\n",
      "270/270 [==============================] - 0s 524us/sample - loss: 8.6426 - mean_squared_error: 8.6426 - mean_absolute_error: 2.2464 - val_loss: 15.9122 - val_mean_squared_error: 15.9121 - val_mean_absolute_error: 2.7146\n",
      "Epoch 16/50\n",
      "270/270 [==============================] - 0s 468us/sample - loss: 8.0701 - mean_squared_error: 8.0701 - mean_absolute_error: 2.1681 - val_loss: 15.7793 - val_mean_squared_error: 15.7793 - val_mean_absolute_error: 2.7030\n",
      "Epoch 17/50\n",
      "270/270 [==============================] - 0s 453us/sample - loss: 7.8010 - mean_squared_error: 7.8010 - mean_absolute_error: 2.1486 - val_loss: 15.5495 - val_mean_squared_error: 15.5495 - val_mean_absolute_error: 2.6932\n",
      "Epoch 18/50\n",
      "270/270 [==============================] - 0s 452us/sample - loss: 7.6735 - mean_squared_error: 7.6735 - mean_absolute_error: 2.1051 - val_loss: 15.0260 - val_mean_squared_error: 15.0260 - val_mean_absolute_error: 2.6203\n",
      "Epoch 19/50\n",
      "270/270 [==============================] - 0s 362us/sample - loss: 7.3546 - mean_squared_error: 7.3546 - mean_absolute_error: 2.0766 - val_loss: 15.0555 - val_mean_squared_error: 15.0555 - val_mean_absolute_error: 2.6316\n",
      "Epoch 20/50\n",
      "270/270 [==============================] - 0s 333us/sample - loss: 6.8263 - mean_squared_error: 6.8263 - mean_absolute_error: 1.9863 - val_loss: 15.1427 - val_mean_squared_error: 15.1427 - val_mean_absolute_error: 2.6495\n",
      "Epoch 21/50\n",
      "270/270 [==============================] - 0s 437us/sample - loss: 6.9703 - mean_squared_error: 6.9703 - mean_absolute_error: 2.0004 - val_loss: 14.8941 - val_mean_squared_error: 14.8941 - val_mean_absolute_error: 2.6236\n",
      "Epoch 22/50\n",
      "270/270 [==============================] - 0s 436us/sample - loss: 6.7906 - mean_squared_error: 6.7906 - mean_absolute_error: 1.9746 - val_loss: 14.5129 - val_mean_squared_error: 14.5129 - val_mean_absolute_error: 2.5882\n",
      "Epoch 23/50\n",
      "270/270 [==============================] - 0s 326us/sample - loss: 6.4825 - mean_squared_error: 6.4825 - mean_absolute_error: 1.9184 - val_loss: 14.8858 - val_mean_squared_error: 14.8858 - val_mean_absolute_error: 2.6176\n",
      "Epoch 24/50\n",
      "270/270 [==============================] - 0s 339us/sample - loss: 6.2653 - mean_squared_error: 6.2653 - mean_absolute_error: 1.9093 - val_loss: 15.2500 - val_mean_squared_error: 15.2500 - val_mean_absolute_error: 2.6375\n",
      "Epoch 25/50\n",
      "270/270 [==============================] - 0s 335us/sample - loss: 6.0372 - mean_squared_error: 6.0372 - mean_absolute_error: 1.8411 - val_loss: 14.7482 - val_mean_squared_error: 14.7482 - val_mean_absolute_error: 2.5865\n",
      "Epoch 26/50\n",
      "270/270 [==============================] - 0s 331us/sample - loss: 6.4559 - mean_squared_error: 6.4559 - mean_absolute_error: 1.9694 - val_loss: 16.1910 - val_mean_squared_error: 16.1910 - val_mean_absolute_error: 2.7629\n",
      "Epoch 27/50\n",
      "270/270 [==============================] - 0s 324us/sample - loss: 5.9235 - mean_squared_error: 5.9235 - mean_absolute_error: 1.8656 - val_loss: 14.8956 - val_mean_squared_error: 14.8956 - val_mean_absolute_error: 2.6065\n",
      "Epoch 28/50\n",
      "270/270 [==============================] - 0s 444us/sample - loss: 6.0821 - mean_squared_error: 6.0821 - mean_absolute_error: 1.8428 - val_loss: 14.2636 - val_mean_squared_error: 14.2636 - val_mean_absolute_error: 2.5314\n",
      "Epoch 29/50\n",
      "270/270 [==============================] - 0s 361us/sample - loss: 6.0024 - mean_squared_error: 6.0024 - mean_absolute_error: 1.8409 - val_loss: 14.3887 - val_mean_squared_error: 14.3887 - val_mean_absolute_error: 2.5798\n",
      "Epoch 30/50\n",
      "270/270 [==============================] - 0s 425us/sample - loss: 6.6212 - mean_squared_error: 6.6212 - mean_absolute_error: 1.8943 - val_loss: 14.2633 - val_mean_squared_error: 14.2633 - val_mean_absolute_error: 2.5799\n",
      "Epoch 31/50\n",
      "270/270 [==============================] - 0s 348us/sample - loss: 5.2912 - mean_squared_error: 5.2912 - mean_absolute_error: 1.7358 - val_loss: 14.6593 - val_mean_squared_error: 14.6593 - val_mean_absolute_error: 2.5918\n",
      "Epoch 32/50\n",
      "270/270 [==============================] - 0s 343us/sample - loss: 5.5424 - mean_squared_error: 5.5424 - mean_absolute_error: 1.7596 - val_loss: 14.4913 - val_mean_squared_error: 14.4913 - val_mean_absolute_error: 2.5676\n",
      "Epoch 33/50\n",
      "270/270 [==============================] - 0s 467us/sample - loss: 5.0777 - mean_squared_error: 5.0777 - mean_absolute_error: 1.7330 - val_loss: 14.0790 - val_mean_squared_error: 14.0790 - val_mean_absolute_error: 2.5593\n",
      "Epoch 34/50\n",
      "270/270 [==============================] - 0s 337us/sample - loss: 5.2093 - mean_squared_error: 5.2093 - mean_absolute_error: 1.7529 - val_loss: 14.6570 - val_mean_squared_error: 14.6570 - val_mean_absolute_error: 2.5856\n",
      "Epoch 35/50\n",
      "270/270 [==============================] - 0s 325us/sample - loss: 5.4929 - mean_squared_error: 5.4929 - mean_absolute_error: 1.7737 - val_loss: 14.9679 - val_mean_squared_error: 14.9679 - val_mean_absolute_error: 2.5674\n"
     ]
    },
    {
     "name": "stdout",
     "output_type": "stream",
     "text": [
      "Epoch 36/50\n",
      "270/270 [==============================] - 0s 336us/sample - loss: 4.9375 - mean_squared_error: 4.9375 - mean_absolute_error: 1.6767 - val_loss: 14.4533 - val_mean_squared_error: 14.4533 - val_mean_absolute_error: 2.5694\n",
      "Epoch 37/50\n",
      "270/270 [==============================] - 0s 329us/sample - loss: 5.0552 - mean_squared_error: 5.0552 - mean_absolute_error: 1.6911 - val_loss: 14.4481 - val_mean_squared_error: 14.4481 - val_mean_absolute_error: 2.5259\n",
      "Epoch 38/50\n",
      "270/270 [==============================] - 0s 356us/sample - loss: 4.7929 - mean_squared_error: 4.7929 - mean_absolute_error: 1.6148 - val_loss: 15.2169 - val_mean_squared_error: 15.2169 - val_mean_absolute_error: 2.6253\n",
      "Epoch 39/50\n",
      "270/270 [==============================] - 0s 369us/sample - loss: 4.5748 - mean_squared_error: 4.5748 - mean_absolute_error: 1.6116 - val_loss: 14.1641 - val_mean_squared_error: 14.1641 - val_mean_absolute_error: 2.5348\n",
      "Epoch 40/50\n",
      "270/270 [==============================] - 0s 417us/sample - loss: 4.9251 - mean_squared_error: 4.9251 - mean_absolute_error: 1.6665 - val_loss: 13.7343 - val_mean_squared_error: 13.7343 - val_mean_absolute_error: 2.4857\n",
      "Epoch 41/50\n",
      "270/270 [==============================] - 0s 328us/sample - loss: 4.5797 - mean_squared_error: 4.5797 - mean_absolute_error: 1.6140 - val_loss: 14.2807 - val_mean_squared_error: 14.2807 - val_mean_absolute_error: 2.5355\n",
      "Epoch 42/50\n",
      "270/270 [==============================] - 0s 322us/sample - loss: 4.4408 - mean_squared_error: 4.4408 - mean_absolute_error: 1.5611 - val_loss: 14.1873 - val_mean_squared_error: 14.1873 - val_mean_absolute_error: 2.5423\n",
      "Epoch 43/50\n",
      "270/270 [==============================] - 0s 334us/sample - loss: 4.3737 - mean_squared_error: 4.3737 - mean_absolute_error: 1.5571 - val_loss: 13.8996 - val_mean_squared_error: 13.8996 - val_mean_absolute_error: 2.4664\n",
      "Epoch 44/50\n",
      "270/270 [==============================] - 0s 335us/sample - loss: 4.5723 - mean_squared_error: 4.5723 - mean_absolute_error: 1.6030 - val_loss: 14.0299 - val_mean_squared_error: 14.0299 - val_mean_absolute_error: 2.5092\n",
      "Epoch 45/50\n",
      "270/270 [==============================] - 0s 381us/sample - loss: 4.1533 - mean_squared_error: 4.1533 - mean_absolute_error: 1.5163 - val_loss: 13.9004 - val_mean_squared_error: 13.9004 - val_mean_absolute_error: 2.4901\n",
      "Epoch 46/50\n",
      "270/270 [==============================] - 0s 334us/sample - loss: 4.2029 - mean_squared_error: 4.2029 - mean_absolute_error: 1.5302 - val_loss: 13.8976 - val_mean_squared_error: 13.8976 - val_mean_absolute_error: 2.4662\n",
      "Epoch 47/50\n",
      "270/270 [==============================] - 0s 334us/sample - loss: 4.1622 - mean_squared_error: 4.1622 - mean_absolute_error: 1.5118 - val_loss: 14.2113 - val_mean_squared_error: 14.2113 - val_mean_absolute_error: 2.5178\n",
      "Epoch 48/50\n",
      "270/270 [==============================] - 0s 340us/sample - loss: 4.0739 - mean_squared_error: 4.0739 - mean_absolute_error: 1.4947 - val_loss: 14.2266 - val_mean_squared_error: 14.2266 - val_mean_absolute_error: 2.5040\n",
      "Epoch 49/50\n",
      "270/270 [==============================] - 0s 393us/sample - loss: 3.9154 - mean_squared_error: 3.9154 - mean_absolute_error: 1.4704 - val_loss: 13.9425 - val_mean_squared_error: 13.9425 - val_mean_absolute_error: 2.4725\n",
      "Epoch 50/50\n",
      "270/270 [==============================] - 0s 346us/sample - loss: 3.8765 - mean_squared_error: 3.8765 - mean_absolute_error: 1.4725 - val_loss: 13.9853 - val_mean_squared_error: 13.9853 - val_mean_absolute_error: 2.4749\n"
     ]
    },
    {
     "data": {
      "text/plain": [
       "<tensorflow.python.keras.callbacks.History at 0x7f09b850ef98>"
      ]
     },
     "execution_count": 9,
     "metadata": {},
     "output_type": "execute_result"
    }
   ],
   "source": [
    "wandb.init(project=\"inclass\", entity=\"ds8\") #Initializes and Experiment\n",
    "\n",
    "# Important Hyperparameters\n",
    "X =  x_train\n",
    "y =  y_train\n",
    "\n",
    "inputs = X.shape[1]\n",
    "wandb.config.epochs = 50\n",
    "wandb.config.batch_size = 10\n",
    "\n",
    "# Create Model\n",
    "model = Sequential()\n",
    "model.add(Dense(64, activation='relu', input_shape=(inputs,)))\n",
    "model.add(Dense(64, activation='relu'))\n",
    "model.add(Dense(64, activation='relu'))\n",
    "model.add(Dense(1))\n",
    "# Compile Model\n",
    "model.compile(optimizer='adam', loss='mse', metrics=['mse', 'mae'])\n",
    "\n",
    "# Fit Model\n",
    "model.fit(X, y, \n",
    "          validation_split=0.33, \n",
    "          epochs=wandb.config.epochs, \n",
    "          batch_size=wandb.config.batch_size, \n",
    "          callbacks=[WandbCallback()]\n",
    "         )"
   ]
  },
  {
   "cell_type": "markdown",
   "metadata": {},
   "source": [
    "## Challenge\n",
    "\n",
    "You will be expected to use Weights & Biases to try to tune your model during your module assignment today. "
   ]
  },
  {
   "cell_type": "markdown",
   "metadata": {},
   "source": [
    "# Hyperparameters with RandomSearchCV (Learn)"
   ]
  },
  {
   "cell_type": "markdown",
   "metadata": {},
   "source": [
    "## Overview\n",
    "\n",
    "Basically `GridSearchCV` takes forever. You'll want to adopt a slightly more sophiscated strategy."
   ]
  },
  {
   "cell_type": "markdown",
   "metadata": {},
   "source": [
    "## Follow Along"
   ]
  },
  {
   "cell_type": "code",
   "execution_count": 9,
   "metadata": {},
   "outputs": [],
   "source": [
    "sweep_config = {\n",
    "    'method': 'random',\n",
    "    'parameters': {\n",
    "        'learning_rate': {'distribution': 'normal'},\n",
    "        'epochs': {'distribution': 'uniform',\n",
    "                    'min': 100,\n",
    "                    'max': 1000},\n",
    "        'batch_size': {'distribution': 'uniform',\n",
    "            'min': 10,\n",
    "            'max': 400}\n",
    "    }\n",
    "}"
   ]
  },
  {
   "cell_type": "code",
   "execution_count": 13,
   "metadata": {},
   "outputs": [
    {
     "name": "stdout",
     "output_type": "stream",
     "text": [
      "Create sweep with ID: huau0u9r\n",
      "Sweep URL: https://app.wandb.ai/lambda-ds7/boston/sweeps/huau0u9r\n"
     ]
    }
   ],
   "source": [
    "sweep_id = wandb.sweep(sweep_config)"
   ]
  },
  {
   "cell_type": "code",
   "execution_count": 11,
   "metadata": {},
   "outputs": [],
   "source": [
    "import wandb\n",
    "from wandb.keras import WandbCallback\n",
    "#Initializes and Experiment\n",
    "\n",
    "from tensorflow.keras.optimizers import Adam\n",
    "\n",
    "# Important Hyperparameters\n",
    "X =  x_train\n",
    "y =  y_train\n",
    "\n",
    "inputs = X.shape[1]\n",
    "\n",
    "def train():\n",
    "    \n",
    "    wandb.init(project=\"boston\", entity=\"lambda-ds7\") \n",
    "    \n",
    "    config = wandb.config\n",
    "\n",
    "    # Create Model\n",
    "    model = Sequential()\n",
    "    model.add(Dense(64, activation='relu', input_shape=(inputs,)))\n",
    "    model.add(Dense(64, activation='relu'))\n",
    "    model.add(Dense(64, activation='relu'))\n",
    "    model.add(Dense(1))\n",
    "\n",
    "    # Optimizer \n",
    "    adam = Adam(learning_rate=config.learning_rate)\n",
    "\n",
    "    # Compile Model\n",
    "    model.compile(optimizer=adam, loss='mse', metrics=['mse', 'mae'])\n",
    "\n",
    "    # Fit Model\n",
    "    model.fit(X, y, \n",
    "              validation_split=0.33, \n",
    "              epochs=config.epochs, \n",
    "              batch_size=config.batch_size, \n",
    "              callbacks=[WandbCallback()]\n",
    "             )"
   ]
  },
  {
   "cell_type": "code",
   "execution_count": null,
   "metadata": {},
   "outputs": [
    {
     "name": "stdout",
     "output_type": "stream",
     "text": [
      "wandb: Agent Starting Run: 2g77kp6k with config:\n",
      "\tbatch_size: 308.503347845309\n",
      "\tepochs: 704.9395850579006\n",
      "\tlearning_rate: 1.480005523005428\n",
      "wandb: Agent Started Run: 2g77kp6k\n"
     ]
    },
    {
     "data": {
      "text/html": [
       "\n",
       "                Logging results to <a href=\"https://wandb.com\" target=\"_blank\">Weights & Biases</a> <a href=\"https://docs.wandb.com/integrations/jupyter.html\" target=\"_blank\">(Documentation)</a>.<br/>\n",
       "                Project page: <a href=\"https://app.wandb.ai/lambda-ds7/boston\" target=\"_blank\">https://app.wandb.ai/lambda-ds7/boston</a><br/>\n",
       "                Run page: <a href=\"https://app.wandb.ai/lambda-ds7/boston/runs/t4w9l4ye\" target=\"_blank\">https://app.wandb.ai/lambda-ds7/boston/runs/t4w9l4ye</a><br/>\n",
       "            "
      ],
      "text/plain": [
       "<IPython.core.display.HTML object>"
      ]
     },
     "metadata": {},
     "output_type": "display_data"
    }
   ],
   "source": [
    "wandb.agent(sweep_id, function=train)"
   ]
  },
  {
   "cell_type": "markdown",
   "metadata": {},
   "source": [
    "## Challenge\n",
    "\n",
    "Try to apply RandomSearchCV to your module project today. "
   ]
  },
  {
   "cell_type": "markdown",
   "metadata": {},
   "source": [
    "# Review\n",
    "* <a href=\"#p1\">Part 1</a>: Describe the major hyperparemeters to tune\n",
    "    - Activation Functions\n",
    "    - Optimizer\n",
    "    - Number of Layers\n",
    "    - Number of Neurons\n",
    "    - Batch Size\n",
    "    - Dropout Regulaization\n",
    "    - Learning Rate\n",
    "    - Number of Epochs\n",
    "    - and many more\n",
    "* <a href=\"#p2\">Part 2</a>: Implement an experiment tracking framework\n",
    "    - Weights & Biases\n",
    "    - Comet.ml\n",
    "    - By Hand / GridSearch\n",
    "* <a href=\"#p3\">Part 3</a>: Search the hyperparameter space using RandomSearch\n",
    "    - Sklearn still useful (haha)\n",
    "    - Integration with Wieghts & Biases\n",
    "* <a href=\"#p4\">Part 4</a>: Discuss emerging hyperparameter tuning strategies\n",
    "    - Bayesian Optimization\n",
    "    - Hyperopt\n",
    "    - Genetic Evolution"
   ]
  },
  {
   "cell_type": "markdown",
   "metadata": {},
   "source": [
    "# Sources"
   ]
  },
  {
   "cell_type": "markdown",
   "metadata": {},
   "source": [
    "## Additional Reading\n",
    "- https://machinelearningmastery.com/grid-search-hyperparameters-deep-learning-models-python-keras/\n",
    "- https://blog.floydhub.com/guide-to-hyperparameters-search-for-deep-learning-models/\n",
    "- https://machinelearningmastery.com/dropout-regularization-deep-learning-models-keras/\n",
    "- https://machinelearningmastery.com/introduction-to-weight-constraints-to-reduce-generalization-error-in-deep-learning/\n",
    "- https://machinelearningmastery.com/how-to-configure-the-number-of-layers-and-nodes-in-a-neural-network/"
   ]
  }
 ],
 "metadata": {
  "kernelspec": {
   "display_name": "conda_tensorflow_p36",
   "language": "python",
   "name": "conda_tensorflow_p36"
  },
  "language_info": {
   "codemirror_mode": {
    "name": "ipython",
    "version": 3
   },
   "file_extension": ".py",
   "mimetype": "text/x-python",
   "name": "python",
   "nbconvert_exporter": "python",
   "pygments_lexer": "ipython3",
   "version": "3.6.5"
  }
 },
 "nbformat": 4,
 "nbformat_minor": 4
}
