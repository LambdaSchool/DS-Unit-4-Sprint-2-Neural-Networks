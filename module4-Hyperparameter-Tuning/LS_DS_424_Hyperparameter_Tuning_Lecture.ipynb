{
 "cells": [
  {
   "cell_type": "markdown",
   "metadata": {
    "colab_type": "text",
    "id": "41TS0Sa0rDNx"
   },
   "source": [
    "Lambda School Data Science\n",
    "\n",
    "*Unit 4, Sprint 2, Module 4*\n",
    "\n",
    "---"
   ]
  },
  {
   "cell_type": "markdown",
   "metadata": {
    "colab_type": "text",
    "id": "41TS0Sa0rDNx"
   },
   "source": [
    "# Neural Networks & GPUs (Prepare)\n",
    "*aka Hyperparameter Tuning*\n",
    "\n",
    "*aka Big Servers for Big Problems*"
   ]
  },
  {
   "cell_type": "code",
   "execution_count": 9,
   "metadata": {},
   "outputs": [],
   "source": [
    "import sys\n",
    "\n",
    "if not sys.warnoptions:\n",
    "    import warnings\n",
    "    warnings.simplefilter(\"ignore\")\n",
    "    \n",
    "from tensorflow import keras\n",
    "from tensorflow.keras.models import Sequential\n",
    "from tensorflow.keras.layers import Dense\n",
    "\n",
    "import pandas as pd\n",
    "import numpy\n",
    "# fix random seed for reproducibility\n",
    "numpy.random.seed(45)"
   ]
  },
  {
   "cell_type": "markdown",
   "metadata": {
    "colab_type": "text",
    "id": "41TS0Sa0rDNx"
   },
   "source": [
    "## Learning Objectives\n",
    "* <a href=\"#p1\">Part 1</a>: Describe the major hyperparemeters to tune\n",
    "* <a href=\"#p2\">Part 2</a>: Implement an experiment tracking framework\n",
    "* <a href=\"#p3\">Part 3</a>: Search the hyperparameter space using RandomSearch (Optional)"
   ]
  },
  {
   "cell_type": "markdown",
   "metadata": {},
   "source": [
    "# Hyperparameter Options (Learn)\n",
    "<a id=\"p1\"></a>"
   ]
  },
  {
   "cell_type": "markdown",
   "metadata": {},
   "source": [
    "## Overview\n",
    "\n",
    "Hyperparameter tuning is much more important with neural networks than it has been with any other models that we have considered up to this point. Other supervised learning models might have a couple of parameters, but neural networks can have dozens. These can substantially affect the accuracy of our models and although it can be a time consuming process is a necessary step when working with neural networks.\n",
    "​\n",
    "Hyperparameter tuning comes with a challenge. How can we compare models specified with different hyperparameters if our model's final error metric can vary somewhat erratically? How do we avoid just getting unlucky and selecting the wrong hyperparameter? This is a problem that to a certain degree we just have to live with as we test and test again. However, we can minimize it somewhat by pairing our experiments with Cross Validation to reduce the variance of our final accuracy values."
   ]
  },
  {
   "cell_type": "markdown",
   "metadata": {
    "colab_type": "text",
    "id": "0s0o2pqBs88q"
   },
   "source": [
    "### Load Boston Housing Data"
   ]
  },
  {
   "cell_type": "code",
   "execution_count": 13,
   "metadata": {},
   "outputs": [],
   "source": [
    "from tensorflow.keras.datasets import boston_housing\n",
    "\n",
    "(x_train, y_train), (x_test, y_test) = boston_housing.load_data()"
   ]
  },
  {
   "cell_type": "markdown",
   "metadata": {
    "colab_type": "text",
    "id": "Pm7zow5IvaTt"
   },
   "source": [
    "### Normalizing Input Data\n",
    "\n",
    "It's not 100% necessary to normalize/scale your input data before feeding it to a neural network, the network can learn the appropriate weights to deal with data of as long as it is numerically represented,  but it is recommended as it can help **make training faster** and **reduces the chances that gradient descent might get stuck in a local optimum**.\n",
    "\n",
    "<https://stackoverflow.com/questions/4674623/why-do-we-have-to-normalize-the-input-for-an-artificial-neural-network>"
   ]
  },
  {
   "cell_type": "code",
   "execution_count": 14,
   "metadata": {
    "colab": {
     "base_uri": "https://localhost:8080/",
     "height": 235
    },
    "colab_type": "code",
    "id": "q5qDpUj9vZVw",
    "outputId": "ce27017a-b173-455d-954e-d462e17e66f4"
   },
   "outputs": [],
   "source": [
    "from sklearn.preprocessing import StandardScaler\n",
    "\n",
    "\n",
    "scaler = StandardScaler()\n",
    "\n",
    "x_train = scaler.fit_transform(x_train)\n",
    "x_test = scaler.transform(x_test)"
   ]
  },
  {
   "cell_type": "markdown",
   "metadata": {
    "colab_type": "text",
    "id": "l6hgCWbir90R"
   },
   "source": [
    "### Model Validation using an automatic verification Dataset\n",
    "\n",
    "Instead of doing seperate train test split class, Keras has a really nice feature that you can set the validation.data argument when fitting your model and Keras will take that portion of your test data and use it as a validation dataset. "
   ]
  },
  {
   "cell_type": "code",
   "execution_count": 15,
   "metadata": {
    "colab": {
     "base_uri": "https://localhost:8080/",
     "height": 1750
    },
    "colab_type": "code",
    "id": "GMXVfmzXp1Oo",
    "outputId": "b05e251e-508f-46e6-865b-f869ae2a5dc4"
   },
   "outputs": [
    {
     "data": {
      "text/plain": [
       "<tensorflow.python.keras.callbacks.History at 0x7f849c45e358>"
      ]
     },
     "execution_count": 15,
     "metadata": {},
     "output_type": "execute_result"
    }
   ],
   "source": [
    "from tensorflow import keras\n",
    "from tensorflow.keras.models import Sequential\n",
    "from tensorflow.keras.layers import Dense\n",
    "\n",
    "# Important Hyperparameters\n",
    "inputs = x_train.shape[1]\n",
    "epochs = 50\n",
    "batch_size = 10\n",
    "\n",
    "\n",
    "# Create Model\n",
    "model = Sequential()\n",
    "model.add(Dense(64, activation='relu', input_shape=(inputs,)))\n",
    "model.add(Dense(64, activation='relu'))\n",
    "model.add(Dense(1))\n",
    "# Compile Model\n",
    "model.compile(optimizer='adam', loss='mse', metrics=['mse'])\n",
    "\n",
    "# Fit Model\n",
    "\n",
    "model.fit(x_train, y_train, \n",
    "          validation_data=(x_test,y_test), \n",
    "          epochs=epochs, \n",
    "          batch_size=epochs,\n",
    "          verbose=False\n",
    "         )"
   ]
  },
  {
   "cell_type": "markdown",
   "metadata": {
    "colab_type": "text",
    "id": "sYJ8t_ezHP4W"
   },
   "source": [
    "### Hyperparameter Tuning Approaches:\n",
    "\n",
    "#### 1) Babysitting AKA \"Grad Student Descent\".\n",
    "\n",
    "If you fiddled with any hyperparameters yesterday, this is basically what you did. This approach is 100% manual and is pretty common among researchers where finding that 1 exact specification that jumps your model to a level of accuracy never seen before is the difference between publishing and not publishing a paper. Of course the professors don't do this themselves, that's grunt work. This is also known as the fiddle with hyperparameters until you run out of time method.\n",
    "\n",
    "#### 2) Grid Search\n",
    "\n",
    "Grid Search is the Grad Student galaxy brain realization of: why don't I just specify all the experiments I want to run and let the computer try every possible combination of them while I go and grab lunch. This has a specific downside in that if I specify 5 hyperparameters with 5 options each then I've just created 5^5 combinations of hyperparameters to check. Which means that I have to train 3125 different versions of my model Then if I use 5-fold Cross Validation on that then my model has to run 15,525 times. This is the brute-force method of hyperparameter tuning, but it can be very profitable if done wisely. \n",
    "\n",
    "When using Grid Search here's what I suggest: don't use it to test combinations of different hyperparameters, only use it to test different specifications of **a single** hyperparameter. It's rare that combinations between different hyperparameters lead to big performance gains. You'll get 90-95% of the way there if you just Grid Search one parameter and take the best result, then retain that best result while you test another, and then retain the best specification from that while you train another. This at least makes the situation much more manageable and leads to pretty good results. \n",
    "\n",
    "#### 3) Random Search\n",
    "\n",
    "Do Grid Search for a couple of hours and you'll say to yourself - \"There's got to be a better way.\" Enter Random Search. For Random search you specify a hyperparameter space and it picks specifications from that randomly, tries them out, gives you the best results and says - That's going to have to be good enough, go home and spend time with your family. \n",
    "\n",
    "Grid Search treats every parameter as if it was equally important, but this just isn't the case, some are known to move the needle a lot more than others (we'll talk about that in a minute). Random Search allows searching to be specified along the most important parameter and experiments less along the dimensions of less important hyperparameters. The downside of Random search is that it won't find the absolute best hyperparameters, but it is much less costly to perform than Grid Search. \n",
    "\n",
    "#### 4) Bayesian Methods\n",
    "\n",
    "One thing that can make more manual methods like babysitting and gridsearch effective is that as the experimenter sees results he can then make updates to his future searches taking into account the results of past specifications. If only we could hyperparameter tune our hyperparameter tuning. Well, we kind of can. Enter Bayesian Optimization. Neural Networks are like an optimization problem within an optimization problem, and Bayesian Optimization is a search strategy that tries to take into account the results of past searches in order to improve future ones. This is the most advanced method but can be a little bit tricky to implement, but there are some early steps with `hyperas` which is Bayesian optimization wrapper for `keras`. "
   ]
  },
  {
   "cell_type": "markdown",
   "metadata": {
    "colab_type": "text",
    "id": "HfQ7D043OMMn"
   },
   "source": [
    "## What Hyperparameters are there to test?\n",
    "\n",
    "- batch_size\n",
    "- training epochs\n",
    "- optimization algorithms\n",
    "- learning rate\n",
    "- momentum\n",
    "- activation functions\n",
    "- dropout regularization\n",
    "- number of neurons in the hidden layer\n",
    "\n",
    "There are more, but these are the most important."
   ]
  },
  {
   "cell_type": "markdown",
   "metadata": {},
   "source": [
    "## Follow Along"
   ]
  },
  {
   "cell_type": "markdown",
   "metadata": {
    "colab_type": "text",
    "id": "Mri5-kXzVKAa"
   },
   "source": [
    "## Batch Size\n",
    "\n",
    "Batch size determines how many observations the model is shown before it calculates loss/error and updates the model weights via gradient descent. You're looking for a sweet spot here where you're showing it enough observations that you have enough information to updates the weights, but not such a large batch size that you don't get a lot of weight update iterations performed in a given epoch. Feed-forward Neural Networks aren't as sensitive to bach_size as other networks, but it is still an important hyperparameter to tune. Smaller batch sizes will also take longer to train. "
   ]
  },
  {
   "cell_type": "code",
   "execution_count": 16,
   "metadata": {
    "colab": {
     "base_uri": "https://localhost:8080/",
     "height": 13561
    },
    "colab_type": "code",
    "id": "2smXfriNAGn7",
    "outputId": "ae996575-78e2-43fb-9dbe-5d44aaf0b430"
   },
   "outputs": [
    {
     "name": "stdout",
     "output_type": "stream",
     "text": [
      "Best: 0.671875 using {'batch_size': 10, 'epochs': 20}\n",
      "Means: 0.671875, Stdev: 0.008438464451051902 with: {'batch_size': 10, 'epochs': 20}\n",
      "Means: 0.6263020833333334, Stdev: 0.0048719497223619025 with: {'batch_size': 20, 'epochs': 20}\n",
      "Means: 0.56640625, Stdev: 0.036782413780795664 with: {'batch_size': 40, 'epochs': 20}\n",
      "Means: 0.58984375, Stdev: 0.07418447673564643 with: {'batch_size': 60, 'epochs': 20}\n",
      "Means: 0.5807291666666666, Stdev: 0.03226435336813507 with: {'batch_size': 80, 'epochs': 20}\n",
      "Means: 0.6080729166666666, Stdev: 0.052440183764589234 with: {'batch_size': 100, 'epochs': 20}\n"
     ]
    }
   ],
   "source": [
    "import numpy\n",
    "from sklearn.model_selection import GridSearchCV\n",
    "from tensorflow.keras.models import Sequential\n",
    "from tensorflow.keras.layers import Dense\n",
    "from tensorflow.keras.wrappers.scikit_learn import KerasClassifier\n",
    "\n",
    "# fix random seed for reproducibility\n",
    "seed = 7\n",
    "numpy.random.seed(seed)\n",
    "\n",
    "# load dataset\n",
    "url =\"https://raw.githubusercontent.com/jbrownlee/Datasets/master/pima-indians-diabetes.data.csv\"\n",
    "\n",
    "dataset = pd.read_csv(url, header=None).values\n",
    "\n",
    "# split into input (X) and output (Y) variables\n",
    "X = dataset[:,0:8]\n",
    "Y = dataset[:,8]\n",
    "\n",
    "# Function to create model, required for KerasClassifier\n",
    "def create_model():\n",
    "    # create model\n",
    "    model = Sequential()\n",
    "    model.add(Dense(12, input_dim=8, activation='relu'))\n",
    "    model.add(Dense(1, activation='sigmoid'))\n",
    "    # Compile model\n",
    "    model.compile(loss='binary_crossentropy', optimizer='adam', metrics=['accuracy'])\n",
    "    return model\n",
    "\n",
    "# create model\n",
    "model = KerasClassifier(build_fn=create_model, verbose=0)\n",
    "\n",
    "# define the grid search parameters\n",
    "# batch_size = [10, 20, 40, 60, 80, 100]\n",
    "# param_grid = dict(batch_size=batch_size, epochs=epochs)\n",
    "\n",
    "# define the grid search parameters\n",
    "param_grid = {'batch_size': [10, 20, 40, 60, 80, 100],\n",
    "              'epochs': [20]}\n",
    "\n",
    "# Create Grid Search\n",
    "grid = GridSearchCV(estimator=model, param_grid=param_grid, n_jobs=1)\n",
    "grid_result = grid.fit(X, Y)\n",
    "\n",
    "# Report Results\n",
    "print(f\"Best: {grid_result.best_score_} using {grid_result.best_params_}\")\n",
    "means = grid_result.cv_results_['mean_test_score']\n",
    "stds = grid_result.cv_results_['std_test_score']\n",
    "params = grid_result.cv_results_['params']\n",
    "for mean, stdev, param in zip(means, stds, params):\n",
    "    print(f\"Means: {mean}, Stdev: {stdev} with: {param}\") "
   ]
  },
  {
   "cell_type": "markdown",
   "metadata": {
    "colab_type": "text",
    "id": "pmABfjlvXbqi"
   },
   "source": [
    "## Epochs\n",
    "\n",
    "The number of training epochs has a large and direct affect on the accuracy, However, more epochs is almost always goign to better than less epochs. This means that if you tune this parameter at the beginning and try and maintain the same value all throughout your training, you're going to be waiting a long time for each iteration of GridSearch. I suggest picking a fixed moderat # of epochs all throughout your training and then Grid Searching this parameter at the very end. "
   ]
  },
  {
   "cell_type": "code",
   "execution_count": 17,
   "metadata": {
    "colab": {
     "base_uri": "https://localhost:8080/",
     "height": 26329
    },
    "colab_type": "code",
    "id": "bAmxP3N7TmFh",
    "outputId": "3ddb08c4-51ac-4eaa-ff39-143397024544"
   },
   "outputs": [
    {
     "name": "stdout",
     "output_type": "stream",
     "text": [
      "Best: 0.7200520833333334 using {'batch_size': 10, 'epochs': 200}\n",
      "Means: 0.6106770833333334, Stdev: 0.027865800207073823 with: {'batch_size': 10, 'epochs': 20}\n",
      "Means: 0.6705729166666666, Stdev: 0.023938510821419574 with: {'batch_size': 10, 'epochs': 40}\n",
      "Means: 0.6888020833333334, Stdev: 0.008026580733032522 with: {'batch_size': 10, 'epochs': 60}\n",
      "Means: 0.7200520833333334, Stdev: 0.03319674162495302 with: {'batch_size': 10, 'epochs': 200}\n",
      "Means: 0.5416666666666666, Stdev: 0.10067386343790471 with: {'batch_size': 80, 'epochs': 20}\n",
      "Means: 0.6614583333333334, Stdev: 0.017566064535458385 with: {'batch_size': 80, 'epochs': 40}\n",
      "Means: 0.6015625, Stdev: 0.01149968862803105 with: {'batch_size': 80, 'epochs': 60}\n",
      "Means: 0.7018229166666666, Stdev: 0.01948779888944761 with: {'batch_size': 80, 'epochs': 200}\n"
     ]
    }
   ],
   "source": [
    "# define the grid search parameters\n",
    "param_grid = {'batch_size': [10,80],\n",
    "              'epochs': [20, 40, 60,200]}\n",
    "\n",
    "# Create Grid Search\n",
    "grid = GridSearchCV(estimator=model, param_grid=param_grid, n_jobs=1)\n",
    "grid_result = grid.fit(X, Y)\n",
    "\n",
    "# Report Results\n",
    "print(f\"Best: {grid_result.best_score_} using {grid_result.best_params_}\")\n",
    "means = grid_result.cv_results_['mean_test_score']\n",
    "stds = grid_result.cv_results_['std_test_score']\n",
    "params = grid_result.cv_results_['params']\n",
    "for mean, stdev, param in zip(means, stds, params):\n",
    "    print(f\"Means: {mean}, Stdev: {stdev} with: {param}\")"
   ]
  },
  {
   "cell_type": "markdown",
   "metadata": {
    "colab_type": "text",
    "id": "EKcuY6OiaLfz"
   },
   "source": [
    "## Optimizer\n",
    "\n",
    "Remember that there's a different optimizers [optimizers](https://keras.io/optimizers/). At some point, take some time to read up on them a little bit. \"adam\" usually gives the best results. The thing to know about choosing an optimizer is that different optimizers have different hyperparameters like learning rate, momentum, etc. So based on the optimizer you choose you might also have to tune the learning rate and momentum of those optimizers after that. "
   ]
  },
  {
   "cell_type": "markdown",
   "metadata": {
    "colab_type": "text",
    "id": "DG3wq5iOaLig"
   },
   "source": [
    "## Learning Rate\n",
    "\n",
    "Remember that the Learning Rate is a hyperparameter that is specific to your gradient-descent based optimizer selection. A learning rate that is too high will cause divergent behavior, but a Learning Rate that is too low will fail to converge, again, you're looking for the sweet spot. I would start out tuning learning rates by orders of magnitude: [.001, .01, .1, .2, .3, .5] etc. I wouldn't go above .5, but you can try it and see what the behavior is like. \n",
    "\n",
    "Once you have narrowed it down, make the window even smaller and try it again. If after running the above specification your model reports that .1 is the best optimizer, then you should probably try things like [.05, .08, .1, .12, .15] to try and narrow it down. \n",
    "\n",
    "It can also be good to tune the number of epochs in combination with the learning rate since the number of iterations that you allow the learning rate to reach the minimum can determine if you have let it run long enough to converge to the minimum. "
   ]
  },
  {
   "cell_type": "markdown",
   "metadata": {
    "colab_type": "text",
    "id": "gNTBUWd1aLlA"
   },
   "source": [
    "## Momentum\n",
    "\n",
    "Momentum is a hyperparameter that is more commonly associated with Stochastic Gradient Descent. SGD is a common optimizer because it's what people understand and know, but I doubt it will get you the best results, you can try hyperparameter tuning its attributes and see if you can beat the performance from adam. Momentum is a property that decides the willingness of an optimizer to overshoot the minimum. Imagine a ball rolling down one side of a bowl and then up the opposite side a little bit before settling back to the bottom. The purpose of momentum is to try and escale local minima."
   ]
  },
  {
   "cell_type": "markdown",
   "metadata": {
    "colab_type": "text",
    "id": "xnEG-bCJaLnZ"
   },
   "source": [
    "## Activation Functions\n",
    "\n",
    "We've talked about this a little bit, typically you'l want to use ReLU for hidden layers and either Sigmoid, or Softmax for output layers of binary and multi-class classification implementations respectively, but try other activation functions and see if you can get any better results with sigmoid or tanh or something. There are a lot of activation functions that we haven't really talked about. Maybe you'll get good results with them. Maybe you won't. :) <https://keras.io/activations/>"
   ]
  },
  {
   "cell_type": "markdown",
   "metadata": {
    "colab_type": "text",
    "id": "oul9sPq-dU-h"
   },
   "source": [
    "## Network Weight Initialization\n",
    "\n",
    "You saw how big of an effect the way that we initialize our network's weights can have on our results. There are **a lot** of what are called initialization modes. I don't understand all of them, but they can have a big affect on your model's initial accuracy. Your model will get further with less epochs if you initialize it with weights that are well suited to the problem you're trying to solve.\n",
    "\n",
    "`init_mode = ['uniform', 'lecun_uniform', 'normal', 'zero', 'glorot_normal', 'glorot_uniform', 'he_normal', 'he_uniform']`"
   ]
  },
  {
   "cell_type": "markdown",
   "metadata": {
    "colab_type": "text",
    "id": "bqtEuxeQaLqE"
   },
   "source": [
    "## Dropout Regularization and the Weight Constraint\n",
    "\n",
    "the Dropout Regularization value is a percentage of neurons that you want to be randomly deactivated during training. The weight constraint is a second regularization parameter that works in tandem with dropout regularization. You should tune these two values at the same time. \n",
    "\n",
    "Using dropout on visible vs hidden layers might have a different effect. Using dropout on hidden layers might not have any effect while using dropout on hidden layers might have a substantial effect. You don't necessarily need to turn use dropout unless you see that your model has overfitting and generalizability problems."
   ]
  },
  {
   "cell_type": "markdown",
   "metadata": {
    "colab_type": "text",
    "id": "P2c5Cv6oaLtO"
   },
   "source": [
    "## Neurons in Hidden Layer \n",
    "\n",
    "Remember that when we only had a single perceptron our model was only able to fit to linearly separable data, but as we have added layers and nodes to those layers our network has become a powerhouse of fitting nonlinearity in data. The larger the network and the more nodes generally the stronger the network's capacity to fit nonlinear patterns in data. The more nodes and layers the longer it will take to train a network, and higher the probability of overfitting. The larger your network gets the more you'll need dropout regularization or other regularization techniques to keep it in check. \n",
    "\n",
    "Typically depth (more layers) is more important than width (more nodes) for neural networks. This is part of why Deep Learning is so highly touted. Certain deep learning architectures have truly been huge breakthroughs for certain machine learning tasks. \n",
    "\n",
    "You might borrow ideas from other network architectures. For example if I was doing image recognition and I wasn't taking cues from state of the art architectures like resnet, alexnet, googlenet, etc. Then I'm probably going to have to do a lot more experimentation on my own before I find something that works.\n",
    "\n",
    "There are some heuristics, but I am highly skeptical of them. I think you're better off experimenting on your own and forming your own intuition for these kinds of problems. \n",
    "\n",
    "- https://machinelearningmastery.com/how-to-configure-the-number-of-layers-and-nodes-in-a-neural-network/"
   ]
  },
  {
   "cell_type": "markdown",
   "metadata": {},
   "source": [
    "## Challenge\n",
    "You will be expected to tune several hyperparameters in today's module project. "
   ]
  },
  {
   "cell_type": "markdown",
   "metadata": {},
   "source": [
    "# Experiment Tracking Framework (Learn)\n",
    "<a id=\"p2\"></a>"
   ]
  },
  {
   "cell_type": "markdown",
   "metadata": {},
   "source": [
    "## Overview\n",
    "\n",
    "You will notice quickly that managing the results of all the experiments you are running becomes challenging. Which set of parameters did the best? Are my results today different than my results yesterday? Although we use Ipython Notebooks to work, the format is not well suited to logging experimental results. Enter experiment tracking frameworks like [Comet.ml](https://comet.ml) and [Weights and Biases](https://wandb.ai/).\n",
    "\n",
    "Those tools will help you track your experiments, store the results, and the code associated with those experiments. Experimental results can also be readily visualized to see changes in performance across any metric you care about. Data is sent to the tool as each epoch is completed, so you can also see if your model is converging. Let's check out Weights & Biases today. "
   ]
  },
  {
   "cell_type": "markdown",
   "metadata": {},
   "source": [
    "## Follow Along\n",
    "\n",
    "Make sure you login into `wandb` in the terminal before running the next cell. "
   ]
  },
  {
   "cell_type": "code",
   "execution_count": 34,
   "metadata": {
    "colab": {
     "base_uri": "https://localhost:8080/",
     "height": 1750
    },
    "colab_type": "code",
    "id": "GMXVfmzXp1Oo",
    "outputId": "b05e251e-508f-46e6-865b-f869ae2a5dc4"
   },
   "outputs": [
    {
     "data": {
      "text/html": [
       "\n",
       "            Notebook configured with <a href=\"https://wandb.com\" target=\"_blank\">W&B</a>. You can <a href=\"https://app.wandb.ai/lambda-ds6/boston/runs/nrvcssix\" target=\"_blank\">open</a> the run page, or call <code>%%wandb</code>\n",
       "            in a cell containing your training loop to display live results.  Learn more in our <a href=\"https://docs.wandb.com/docs/integrations/jupyter.html\" target=\"_blank\">docs</a>.\n",
       "        "
      ],
      "text/plain": [
       "<IPython.core.display.HTML object>"
      ]
     },
     "metadata": {},
     "output_type": "display_data"
    },
    {
     "name": "stdout",
     "output_type": "stream",
     "text": [
      "Train on 270 samples, validate on 134 samples\n",
      "Epoch 1/100\n",
      "270/270 [==============================] - 1s 2ms/sample - loss: 484.7915 - mse: 484.7915 - mae: 20.2153 - val_loss: 445.3783 - val_mse: 445.3783 - val_mae: 18.6690\n",
      "Epoch 2/100\n",
      "270/270 [==============================] - 0s 561us/sample - loss: 169.9819 - mse: 169.9819 - mae: 10.3914 - val_loss: 92.7427 - val_mse: 92.7427 - val_mae: 7.1749\n",
      "Epoch 3/100\n",
      "270/270 [==============================] - 0s 595us/sample - loss: 45.1424 - mse: 45.1424 - mae: 4.9046 - val_loss: 59.6517 - val_mse: 59.6517 - val_mae: 5.1276\n",
      "Epoch 4/100\n",
      "270/270 [==============================] - 0s 575us/sample - loss: 25.3083 - mse: 25.3083 - mae: 3.4986 - val_loss: 40.4982 - val_mse: 40.4982 - val_mae: 4.1026\n",
      "Epoch 5/100\n",
      "270/270 [==============================] - 0s 587us/sample - loss: 19.5782 - mse: 19.5782 - mae: 3.0651 - val_loss: 34.2407 - val_mse: 34.2407 - val_mae: 3.7377\n",
      "Epoch 6/100\n",
      "270/270 [==============================] - 0s 570us/sample - loss: 17.7413 - mse: 17.7413 - mae: 3.0106 - val_loss: 29.8746 - val_mse: 29.8746 - val_mae: 3.4524\n",
      "Epoch 7/100\n",
      "270/270 [==============================] - 0s 586us/sample - loss: 15.1605 - mse: 15.1605 - mae: 2.7487 - val_loss: 25.5892 - val_mse: 25.5892 - val_mae: 3.2599\n",
      "Epoch 8/100\n",
      "270/270 [==============================] - 0s 547us/sample - loss: 13.2553 - mse: 13.2553 - mae: 2.6115 - val_loss: 23.1459 - val_mse: 23.1459 - val_mae: 3.1818\n",
      "Epoch 9/100\n",
      "270/270 [==============================] - 0s 559us/sample - loss: 11.9519 - mse: 11.9519 - mae: 2.4710 - val_loss: 21.4779 - val_mse: 21.4779 - val_mae: 2.9557\n",
      "Epoch 10/100\n",
      "270/270 [==============================] - 0s 567us/sample - loss: 10.5606 - mse: 10.5606 - mae: 2.4179 - val_loss: 20.1584 - val_mse: 20.1584 - val_mae: 2.8969\n",
      "Epoch 11/100\n",
      "270/270 [==============================] - 0s 579us/sample - loss: 10.2699 - mse: 10.2699 - mae: 2.4218 - val_loss: 18.9021 - val_mse: 18.9021 - val_mae: 2.8313\n",
      "Epoch 12/100\n",
      "270/270 [==============================] - 0s 584us/sample - loss: 9.2644 - mse: 9.2644 - mae: 2.2582 - val_loss: 18.0731 - val_mse: 18.0731 - val_mae: 2.7537\n",
      "Epoch 13/100\n",
      "270/270 [==============================] - 0s 569us/sample - loss: 8.4844 - mse: 8.4844 - mae: 2.1510 - val_loss: 17.7442 - val_mse: 17.7442 - val_mae: 2.7530\n",
      "Epoch 14/100\n",
      "270/270 [==============================] - 0s 561us/sample - loss: 8.4673 - mse: 8.4673 - mae: 2.1975 - val_loss: 16.5442 - val_mse: 16.5442 - val_mae: 2.6785\n",
      "Epoch 15/100\n",
      "270/270 [==============================] - 0s 427us/sample - loss: 8.4163 - mse: 8.4163 - mae: 2.1907 - val_loss: 17.0915 - val_mse: 17.0915 - val_mae: 2.7222\n",
      "Epoch 16/100\n",
      "270/270 [==============================] - 0s 451us/sample - loss: 7.2910 - mse: 7.2910 - mae: 2.0326 - val_loss: 16.8288 - val_mse: 16.8288 - val_mae: 2.6841\n",
      "Epoch 17/100\n",
      "270/270 [==============================] - 0s 420us/sample - loss: 7.2840 - mse: 7.2840 - mae: 1.9906 - val_loss: 16.6232 - val_mse: 16.6232 - val_mae: 2.7208\n",
      "Epoch 18/100\n",
      "270/270 [==============================] - 0s 552us/sample - loss: 7.0127 - mse: 7.0127 - mae: 1.9812 - val_loss: 16.4397 - val_mse: 16.4397 - val_mae: 2.6853\n",
      "Epoch 19/100\n",
      "270/270 [==============================] - 0s 556us/sample - loss: 6.5104 - mse: 6.5104 - mae: 1.9281 - val_loss: 16.1991 - val_mse: 16.1991 - val_mae: 2.6692\n",
      "Epoch 20/100\n",
      "270/270 [==============================] - 0s 560us/sample - loss: 6.3663 - mse: 6.3663 - mae: 1.9031 - val_loss: 15.7738 - val_mse: 15.7738 - val_mae: 2.6131\n",
      "Epoch 21/100\n",
      "270/270 [==============================] - 0s 556us/sample - loss: 6.3395 - mse: 6.3395 - mae: 1.8708 - val_loss: 15.6500 - val_mse: 15.6500 - val_mae: 2.6102\n",
      "Epoch 22/100\n",
      "270/270 [==============================] - 0s 436us/sample - loss: 5.9841 - mse: 5.9841 - mae: 1.8320 - val_loss: 16.6887 - val_mse: 16.6887 - val_mae: 2.7265\n",
      "Epoch 23/100\n",
      "270/270 [==============================] - 0s 554us/sample - loss: 6.0699 - mse: 6.0699 - mae: 1.8223 - val_loss: 15.6151 - val_mse: 15.6151 - val_mae: 2.5953\n",
      "Epoch 24/100\n",
      "270/270 [==============================] - 0s 432us/sample - loss: 5.7781 - mse: 5.7781 - mae: 1.8118 - val_loss: 16.7583 - val_mse: 16.7583 - val_mae: 2.7535\n",
      "Epoch 25/100\n",
      "270/270 [==============================] - 0s 565us/sample - loss: 6.5521 - mse: 6.5521 - mae: 1.9378 - val_loss: 15.3805 - val_mse: 15.3805 - val_mae: 2.6021\n",
      "Epoch 26/100\n",
      "270/270 [==============================] - 0s 424us/sample - loss: 5.9379 - mse: 5.9379 - mae: 1.8462 - val_loss: 15.4400 - val_mse: 15.4400 - val_mae: 2.5730\n",
      "Epoch 27/100\n",
      "270/270 [==============================] - 0s 431us/sample - loss: 5.5767 - mse: 5.5767 - mae: 1.7384 - val_loss: 16.1711 - val_mse: 16.1711 - val_mae: 2.7085\n",
      "Epoch 28/100\n",
      "270/270 [==============================] - 0s 437us/sample - loss: 5.4414 - mse: 5.4414 - mae: 1.7950 - val_loss: 15.6580 - val_mse: 15.6580 - val_mae: 2.6284\n",
      "Epoch 29/100\n",
      "270/270 [==============================] - 0s 439us/sample - loss: 5.1153 - mse: 5.1154 - mae: 1.7135 - val_loss: 15.4572 - val_mse: 15.4572 - val_mae: 2.5795\n",
      "Epoch 30/100\n",
      "270/270 [==============================] - 0s 578us/sample - loss: 4.7586 - mse: 4.7586 - mae: 1.6281 - val_loss: 15.0576 - val_mse: 15.0576 - val_mae: 2.5462\n",
      "Epoch 31/100\n",
      "270/270 [==============================] - 0s 426us/sample - loss: 4.7914 - mse: 4.7914 - mae: 1.6316 - val_loss: 15.8922 - val_mse: 15.8922 - val_mae: 2.6658\n",
      "Epoch 32/100\n",
      "270/270 [==============================] - 0s 429us/sample - loss: 4.9280 - mse: 4.9280 - mae: 1.6423 - val_loss: 15.1271 - val_mse: 15.1271 - val_mae: 2.5829\n",
      "Epoch 33/100\n",
      "270/270 [==============================] - 0s 441us/sample - loss: 4.8373 - mse: 4.8373 - mae: 1.6223 - val_loss: 16.2949 - val_mse: 16.2949 - val_mae: 2.7169\n",
      "Epoch 34/100\n",
      "270/270 [==============================] - 0s 552us/sample - loss: 4.7732 - mse: 4.7732 - mae: 1.6319 - val_loss: 14.7518 - val_mse: 14.7518 - val_mae: 2.5432\n",
      "Epoch 35/100\n",
      "270/270 [==============================] - 0s 433us/sample - loss: 4.4992 - mse: 4.4992 - mae: 1.5814 - val_loss: 16.1523 - val_mse: 16.1523 - val_mae: 2.7200\n",
      "Epoch 36/100\n",
      "270/270 [==============================] - 0s 431us/sample - loss: 4.3380 - mse: 4.3380 - mae: 1.6004 - val_loss: 16.2374 - val_mse: 16.2374 - val_mae: 2.7228\n",
      "Epoch 37/100\n",
      "270/270 [==============================] - 0s 555us/sample - loss: 4.4270 - mse: 4.4270 - mae: 1.6048 - val_loss: 14.6328 - val_mse: 14.6328 - val_mae: 2.5207\n",
      "Epoch 38/100\n",
      "270/270 [==============================] - 0s 515us/sample - loss: 4.5924 - mse: 4.5924 - mae: 1.6102 - val_loss: 15.7145 - val_mse: 15.7145 - val_mae: 2.6558\n",
      "Epoch 39/100\n",
      "270/270 [==============================] - 0s 423us/sample - loss: 4.0863 - mse: 4.0863 - mae: 1.5056 - val_loss: 16.0196 - val_mse: 16.0196 - val_mae: 2.7415\n",
      "Epoch 40/100\n",
      "270/270 [==============================] - 0s 431us/sample - loss: 4.1585 - mse: 4.1585 - mae: 1.5118 - val_loss: 14.6603 - val_mse: 14.6603 - val_mae: 2.5542\n",
      "Epoch 41/100\n",
      "270/270 [==============================] - 0s 435us/sample - loss: 4.2213 - mse: 4.2213 - mae: 1.5366 - val_loss: 14.7426 - val_mse: 14.7426 - val_mae: 2.5656\n",
      "Epoch 42/100\n",
      "270/270 [==============================] - 0s 421us/sample - loss: 3.7753 - mse: 3.7753 - mae: 1.4648 - val_loss: 14.6501 - val_mse: 14.6501 - val_mae: 2.5371\n",
      "Epoch 43/100\n",
      "270/270 [==============================] - 0s 572us/sample - loss: 3.5435 - mse: 3.5435 - mae: 1.4337 - val_loss: 14.5850 - val_mse: 14.5850 - val_mae: 2.5408\n",
      "Epoch 44/100\n",
      "270/270 [==============================] - 0s 463us/sample - loss: 3.4442 - mse: 3.4442 - mae: 1.3858 - val_loss: 14.7037 - val_mse: 14.7037 - val_mae: 2.5454\n",
      "Epoch 45/100\n",
      "270/270 [==============================] - 0s 433us/sample - loss: 3.7621 - mse: 3.7621 - mae: 1.4845 - val_loss: 15.9734 - val_mse: 15.9734 - val_mae: 2.7390\n",
      "Epoch 46/100\n",
      "270/270 [==============================] - 0s 428us/sample - loss: 4.3249 - mse: 4.3249 - mae: 1.6007 - val_loss: 14.8807 - val_mse: 14.8807 - val_mae: 2.5598\n",
      "Epoch 47/100\n",
      "270/270 [==============================] - 0s 439us/sample - loss: 3.4970 - mse: 3.4970 - mae: 1.3774 - val_loss: 14.9071 - val_mse: 14.9071 - val_mae: 2.5608\n",
      "Epoch 48/100\n",
      "270/270 [==============================] - 0s 549us/sample - loss: 3.4578 - mse: 3.4578 - mae: 1.4172 - val_loss: 14.4811 - val_mse: 14.4811 - val_mae: 2.4929\n",
      "Epoch 49/100\n",
      "270/270 [==============================] - 0s 461us/sample - loss: 3.4123 - mse: 3.4123 - mae: 1.3901 - val_loss: 14.7153 - val_mse: 14.7153 - val_mae: 2.5588\n",
      "Epoch 50/100\n",
      "270/270 [==============================] - 0s 427us/sample - loss: 3.3206 - mse: 3.3206 - mae: 1.3263 - val_loss: 14.8399 - val_mse: 14.8399 - val_mae: 2.5826\n",
      "Epoch 51/100\n",
      "270/270 [==============================] - 0s 586us/sample - loss: 3.2392 - mse: 3.2392 - mae: 1.3530 - val_loss: 13.9614 - val_mse: 13.9614 - val_mae: 2.4898\n",
      "Epoch 52/100\n",
      "270/270 [==============================] - 0s 457us/sample - loss: 3.0730 - mse: 3.0730 - mae: 1.3016 - val_loss: 15.5826 - val_mse: 15.5826 - val_mae: 2.6476\n",
      "Epoch 53/100\n",
      "270/270 [==============================] - 0s 442us/sample - loss: 3.3108 - mse: 3.3108 - mae: 1.3688 - val_loss: 15.7062 - val_mse: 15.7062 - val_mae: 2.6881\n",
      "Epoch 54/100\n",
      "270/270 [==============================] - 0s 443us/sample - loss: 3.8394 - mse: 3.8394 - mae: 1.4273 - val_loss: 14.5210 - val_mse: 14.5210 - val_mae: 2.5014\n",
      "Epoch 55/100\n",
      "270/270 [==============================] - 0s 419us/sample - loss: 3.3665 - mse: 3.3665 - mae: 1.3393 - val_loss: 14.1426 - val_mse: 14.1426 - val_mae: 2.4925\n",
      "Epoch 56/100\n",
      "270/270 [==============================] - 0s 457us/sample - loss: 3.2050 - mse: 3.2050 - mae: 1.3362 - val_loss: 14.5106 - val_mse: 14.5106 - val_mae: 2.5232\n",
      "Epoch 57/100\n",
      "270/270 [==============================] - 0s 455us/sample - loss: 2.9013 - mse: 2.9013 - mae: 1.2626 - val_loss: 14.2231 - val_mse: 14.2231 - val_mae: 2.5204\n",
      "Epoch 58/100\n",
      "270/270 [==============================] - 0s 412us/sample - loss: 3.0049 - mse: 3.0049 - mae: 1.2713 - val_loss: 14.5890 - val_mse: 14.5890 - val_mae: 2.5078\n",
      "Epoch 59/100\n",
      "270/270 [==============================] - 0s 427us/sample - loss: 2.9127 - mse: 2.9127 - mae: 1.2889 - val_loss: 14.3390 - val_mse: 14.3390 - val_mae: 2.5102\n",
      "Epoch 60/100\n",
      "270/270 [==============================] - 0s 438us/sample - loss: 3.0347 - mse: 3.0347 - mae: 1.3061 - val_loss: 14.1932 - val_mse: 14.1932 - val_mae: 2.4982\n",
      "Epoch 61/100\n",
      "270/270 [==============================] - 0s 430us/sample - loss: 2.7231 - mse: 2.7231 - mae: 1.2402 - val_loss: 14.0407 - val_mse: 14.0407 - val_mae: 2.5026\n",
      "Epoch 62/100\n",
      "270/270 [==============================] - 0s 414us/sample - loss: 2.6921 - mse: 2.6921 - mae: 1.2617 - val_loss: 14.5993 - val_mse: 14.5993 - val_mae: 2.5761\n",
      "Epoch 63/100\n",
      "270/270 [==============================] - 0s 444us/sample - loss: 2.9019 - mse: 2.9019 - mae: 1.3138 - val_loss: 14.1478 - val_mse: 14.1478 - val_mae: 2.4525\n",
      "Epoch 64/100\n",
      "270/270 [==============================] - 0s 557us/sample - loss: 2.7292 - mse: 2.7292 - mae: 1.2233 - val_loss: 13.5106 - val_mse: 13.5106 - val_mae: 2.4434\n",
      "Epoch 65/100\n",
      "270/270 [==============================] - 0s 437us/sample - loss: 2.6388 - mse: 2.6388 - mae: 1.2374 - val_loss: 14.0314 - val_mse: 14.0314 - val_mae: 2.4756\n",
      "Epoch 66/100\n",
      "270/270 [==============================] - 0s 433us/sample - loss: 2.4857 - mse: 2.4857 - mae: 1.1969 - val_loss: 14.9770 - val_mse: 14.9770 - val_mae: 2.5950\n",
      "Epoch 67/100\n",
      "270/270 [==============================] - 0s 419us/sample - loss: 2.6126 - mse: 2.6126 - mae: 1.1948 - val_loss: 14.0032 - val_mse: 14.0032 - val_mae: 2.4692\n",
      "Epoch 68/100\n",
      "270/270 [==============================] - 0s 451us/sample - loss: 2.5933 - mse: 2.5933 - mae: 1.2271 - val_loss: 13.8045 - val_mse: 13.8045 - val_mae: 2.5084\n",
      "Epoch 69/100\n",
      "270/270 [==============================] - 0s 426us/sample - loss: 2.4724 - mse: 2.4724 - mae: 1.1787 - val_loss: 13.9759 - val_mse: 13.9759 - val_mae: 2.4809\n",
      "Epoch 70/100\n",
      "270/270 [==============================] - 0s 420us/sample - loss: 2.2906 - mse: 2.2906 - mae: 1.1315 - val_loss: 13.6902 - val_mse: 13.6902 - val_mae: 2.4583\n",
      "Epoch 71/100\n",
      "270/270 [==============================] - 0s 419us/sample - loss: 2.1993 - mse: 2.1993 - mae: 1.1044 - val_loss: 13.9590 - val_mse: 13.9590 - val_mae: 2.4471\n",
      "Epoch 72/100\n",
      "270/270 [==============================] - 0s 414us/sample - loss: 2.2290 - mse: 2.2290 - mae: 1.1077 - val_loss: 13.8558 - val_mse: 13.8558 - val_mae: 2.4388\n",
      "Epoch 73/100\n",
      "270/270 [==============================] - 0s 444us/sample - loss: 2.3500 - mse: 2.3500 - mae: 1.1211 - val_loss: 16.0559 - val_mse: 16.0559 - val_mae: 2.7707\n",
      "Epoch 74/100\n",
      "270/270 [==============================] - 0s 432us/sample - loss: 2.6587 - mse: 2.6587 - mae: 1.2496 - val_loss: 14.4012 - val_mse: 14.4012 - val_mae: 2.5381\n",
      "Epoch 75/100\n",
      "270/270 [==============================] - 0s 425us/sample - loss: 2.7200 - mse: 2.7200 - mae: 1.3010 - val_loss: 14.6629 - val_mse: 14.6629 - val_mae: 2.5473\n",
      "Epoch 76/100\n",
      "270/270 [==============================] - 0s 455us/sample - loss: 2.3227 - mse: 2.3227 - mae: 1.1133 - val_loss: 14.2253 - val_mse: 14.2253 - val_mae: 2.5450\n",
      "Epoch 77/100\n",
      "270/270 [==============================] - 0s 564us/sample - loss: 2.1957 - mse: 2.1957 - mae: 1.0756 - val_loss: 13.3469 - val_mse: 13.3469 - val_mae: 2.4248\n",
      "Epoch 78/100\n",
      "270/270 [==============================] - 0s 433us/sample - loss: 1.9660 - mse: 1.9660 - mae: 1.0380 - val_loss: 14.4823 - val_mse: 14.4823 - val_mae: 2.5538\n",
      "Epoch 79/100\n",
      "270/270 [==============================] - 0s 424us/sample - loss: 2.2145 - mse: 2.2145 - mae: 1.1320 - val_loss: 14.2551 - val_mse: 14.2551 - val_mae: 2.5382\n",
      "Epoch 80/100\n",
      "270/270 [==============================] - 0s 428us/sample - loss: 2.0071 - mse: 2.0071 - mae: 1.0358 - val_loss: 14.1824 - val_mse: 14.1824 - val_mae: 2.5495\n",
      "Epoch 81/100\n",
      "270/270 [==============================] - 0s 421us/sample - loss: 2.1738 - mse: 2.1738 - mae: 1.1005 - val_loss: 14.1247 - val_mse: 14.1247 - val_mae: 2.4679\n",
      "Epoch 82/100\n",
      "270/270 [==============================] - 0s 459us/sample - loss: 2.2926 - mse: 2.2926 - mae: 1.1408 - val_loss: 13.5552 - val_mse: 13.5552 - val_mae: 2.4259\n",
      "Epoch 83/100\n",
      "270/270 [==============================] - 0s 408us/sample - loss: 1.9489 - mse: 1.9489 - mae: 1.0258 - val_loss: 13.9226 - val_mse: 13.9226 - val_mae: 2.4464\n",
      "Epoch 84/100\n",
      "270/270 [==============================] - 0s 447us/sample - loss: 1.8854 - mse: 1.8854 - mae: 0.9781 - val_loss: 13.4450 - val_mse: 13.4450 - val_mae: 2.4157\n",
      "Epoch 85/100\n",
      "270/270 [==============================] - 0s 447us/sample - loss: 2.0307 - mse: 2.0307 - mae: 1.0372 - val_loss: 14.2118 - val_mse: 14.2118 - val_mae: 2.4888\n",
      "Epoch 86/100\n",
      "270/270 [==============================] - 0s 424us/sample - loss: 1.9668 - mse: 1.9668 - mae: 1.0338 - val_loss: 13.6036 - val_mse: 13.6036 - val_mae: 2.3963\n",
      "Epoch 87/100\n",
      "270/270 [==============================] - 0s 425us/sample - loss: 2.4742 - mse: 2.4742 - mae: 1.1975 - val_loss: 14.0535 - val_mse: 14.0535 - val_mae: 2.4742\n",
      "Epoch 88/100\n",
      "270/270 [==============================] - 0s 426us/sample - loss: 1.9866 - mse: 1.9866 - mae: 1.0885 - val_loss: 13.3515 - val_mse: 13.3515 - val_mae: 2.3777\n",
      "Epoch 89/100\n",
      "270/270 [==============================] - 0s 424us/sample - loss: 1.9785 - mse: 1.9785 - mae: 1.0555 - val_loss: 14.8310 - val_mse: 14.8310 - val_mae: 2.6152\n",
      "Epoch 90/100\n",
      "270/270 [==============================] - 0s 452us/sample - loss: 1.8359 - mse: 1.8359 - mae: 1.0239 - val_loss: 14.0323 - val_mse: 14.0323 - val_mae: 2.4705\n",
      "Epoch 91/100\n",
      "270/270 [==============================] - 0s 406us/sample - loss: 1.7067 - mse: 1.7067 - mae: 0.9944 - val_loss: 13.8948 - val_mse: 13.8948 - val_mae: 2.4393\n",
      "Epoch 92/100\n",
      "270/270 [==============================] - 0s 421us/sample - loss: 1.6539 - mse: 1.6539 - mae: 0.9547 - val_loss: 13.9616 - val_mse: 13.9616 - val_mae: 2.4279\n",
      "Epoch 93/100\n",
      "270/270 [==============================] - 0s 435us/sample - loss: 1.5685 - mse: 1.5685 - mae: 0.8965 - val_loss: 13.7034 - val_mse: 13.7034 - val_mae: 2.4751\n",
      "Epoch 94/100\n",
      "270/270 [==============================] - 0s 436us/sample - loss: 1.9568 - mse: 1.9568 - mae: 1.0478 - val_loss: 14.3065 - val_mse: 14.3065 - val_mae: 2.4667\n",
      "Epoch 95/100\n",
      "270/270 [==============================] - 0s 436us/sample - loss: 1.8904 - mse: 1.8904 - mae: 1.0212 - val_loss: 15.3587 - val_mse: 15.3587 - val_mae: 2.6395\n",
      "Epoch 96/100\n",
      "270/270 [==============================] - 0s 426us/sample - loss: 2.0304 - mse: 2.0304 - mae: 1.0850 - val_loss: 13.5905 - val_mse: 13.5905 - val_mae: 2.4887\n",
      "Epoch 97/100\n",
      "270/270 [==============================] - 0s 443us/sample - loss: 2.2072 - mse: 2.2072 - mae: 1.1531 - val_loss: 13.8190 - val_mse: 13.8190 - val_mae: 2.4333\n",
      "Epoch 98/100\n",
      "270/270 [==============================] - 0s 450us/sample - loss: 2.0805 - mse: 2.0805 - mae: 1.0680 - val_loss: 13.9689 - val_mse: 13.9689 - val_mae: 2.4575\n",
      "Epoch 99/100\n",
      "270/270 [==============================] - 0s 456us/sample - loss: 1.5569 - mse: 1.5569 - mae: 0.8972 - val_loss: 13.5210 - val_mse: 13.5210 - val_mae: 2.4014\n",
      "Epoch 100/100\n",
      "270/270 [==============================] - 0s 459us/sample - loss: 1.8223 - mse: 1.8223 - mae: 1.0073 - val_loss: 15.0342 - val_mse: 15.0342 - val_mae: 2.5374\n"
     ]
    },
    {
     "data": {
      "text/plain": [
       "<tensorflow.python.keras.callbacks.History at 0x7f83c84484e0>"
      ]
     },
     "execution_count": 34,
     "metadata": {},
     "output_type": "execute_result"
    }
   ],
   "source": [
    "import wandb\n",
    "from wandb.keras import WandbCallback\n",
    "wandb.init(project=\"boston\", entity=\"lambda-ds6\")\n",
    "\n",
    "from tensorflow.keras.optimizers import Adam\n",
    "\n",
    "X = x_train\n",
    "y = y_train\n",
    "\n",
    "# Important Hyperparameters\n",
    "inputs = X.shape[1]\n",
    "wandb.config.epochs = 100\n",
    "wandb.config.batch_size = 10\n",
    "wandb.config.learning_rate = .0125\n",
    "\n",
    "# Create Model\n",
    "model = Sequential()\n",
    "model.add(Dense(82, activation='relu', input_shape=(inputs,)))\n",
    "model.add(Dense(82, activation='relu'))\n",
    "model.add(Dense(82, activation='relu'))\n",
    "model.add(Dense(1))\n",
    "\n",
    "# Optimizer \n",
    "adam = Adam(learning_rate=wandb.config.learning_rate)\n",
    "\n",
    "# Compile Model\n",
    "model.compile(optimizer='adam', loss='mse', metrics=['mse', 'mae'])\n",
    "\n",
    "# Fit Model\n",
    "model.fit(X, y, \n",
    "          validation_split=0.33, \n",
    "          epochs=wandb.config.epochs, \n",
    "          batch_size=wandb.config.batch_size, \n",
    "          callbacks=[WandbCallback()]\n",
    "         )"
   ]
  },
  {
   "cell_type": "markdown",
   "metadata": {},
   "source": [
    "## Challenge\n",
    "\n",
    "You will be expected to use Weights & Biases to try to tune your model during your module assignment today. "
   ]
  },
  {
   "cell_type": "markdown",
   "metadata": {},
   "source": [
    "# Hyperparameters with RandomSearchCV (Learn)"
   ]
  },
  {
   "cell_type": "markdown",
   "metadata": {},
   "source": [
    "## Overview\n",
    "\n",
    "Basically `GridSearchCV` takes forever. You'll want to adopt a slightly more sophiscated strategy."
   ]
  },
  {
   "cell_type": "markdown",
   "metadata": {},
   "source": [
    "## Follow Along"
   ]
  },
  {
   "cell_type": "code",
   "execution_count": null,
   "metadata": {},
   "outputs": [],
   "source": [
    "# Optional If we Get Here"
   ]
  },
  {
   "cell_type": "markdown",
   "metadata": {},
   "source": [
    "## Challenge\n",
    "\n",
    "Try to apply RandomSearchCV to your module project today. "
   ]
  },
  {
   "cell_type": "markdown",
   "metadata": {},
   "source": [
    "# Review\n",
    "* <a href=\"#p1\">Part 1</a>: Describe the major hyperparemeters to tune\n",
    "    - Activation Functions\n",
    "    - Optimizer\n",
    "    - Number of Layers\n",
    "    - Number of Neurons\n",
    "    - Batch Size\n",
    "    - Dropout Regulaization\n",
    "    - Learning Rate\n",
    "    - Number of Epochs\n",
    "    - and many more\n",
    "* <a href=\"#p2\">Part 2</a>: Implement an experiment tracking framework\n",
    "    - Weights & Biases\n",
    "    - Comet.ml\n",
    "    - By Hand / GridSearch\n",
    "* <a href=\"#p3\">Part 3</a>: Search the hyperparameter space using RandomSearch\n",
    "    - Sklearn still useful (haha)\n",
    "    - Integration with Wieghts & Biases\n",
    "* <a href=\"#p4\">Part 4</a>: Discuss emerging hyperparameter tuning strategies\n",
    "    - Bayesian Optimization\n",
    "    - Hyperopt\n",
    "    - Genetic Evolution"
   ]
  },
  {
   "cell_type": "markdown",
   "metadata": {},
   "source": [
    "# Sources"
   ]
  },
  {
   "cell_type": "markdown",
   "metadata": {},
   "source": [
    "## Additional Reading\n",
    "- https://machinelearningmastery.com/grid-search-hyperparameters-deep-learning-models-python-keras/\n",
    "- https://blog.floydhub.com/guide-to-hyperparameters-search-for-deep-learning-models/\n",
    "- https://machinelearningmastery.com/dropout-regularization-deep-learning-models-keras/\n",
    "- https://machinelearningmastery.com/introduction-to-weight-constraints-to-reduce-generalization-error-in-deep-learning/\n",
    "- https://machinelearningmastery.com/how-to-configure-the-number-of-layers-and-nodes-in-a-neural-network/"
   ]
  }
 ],
 "metadata": {
  "kernelspec": {
   "display_name": "Python 3",
   "language": "python",
   "name": "python3"
  },
  "language_info": {
   "codemirror_mode": {
    "name": "ipython",
    "version": 3
   },
   "file_extension": ".py",
   "mimetype": "text/x-python",
   "name": "python",
   "nbconvert_exporter": "python",
   "pygments_lexer": "ipython3",
   "version": "3.6.8"
  }
 },
 "nbformat": 4,
 "nbformat_minor": 4
}
