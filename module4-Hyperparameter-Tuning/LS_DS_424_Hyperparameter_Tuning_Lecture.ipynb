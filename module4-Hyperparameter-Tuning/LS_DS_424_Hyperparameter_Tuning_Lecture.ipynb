{
 "cells": [
  {
   "cell_type": "markdown",
   "metadata": {
    "colab_type": "text",
    "id": "41TS0Sa0rDNx"
   },
   "source": [
    "Lambda School Data Science\n",
    "\n",
    "*Unit 4, Sprint 2, Module 4*\n",
    "\n",
    "---"
   ]
  },
  {
   "cell_type": "markdown",
   "metadata": {
    "colab_type": "text",
    "id": "41TS0Sa0rDNx"
   },
   "source": [
    "# Neural Networks & GPUs (Prepare)\n",
    "*aka Hyperparameter Tuning*\n",
    "\n",
    "*aka Big Servers for Big Problems*"
   ]
  },
  {
   "cell_type": "markdown",
   "metadata": {
    "colab_type": "text",
    "id": "41TS0Sa0rDNx"
   },
   "source": [
    "## Learning Objectives\n",
    "* <a href=\"#p1\">Part 1</a>: Describe the major hyperparemeters to tune\n",
    "* <a href=\"#p2\">Part 2</a>: Implement an experiment tracking framework\n",
    "* <a href=\"#p3\">Part 3</a>: Search the hyperparameter space using RandomSearch (Optional)"
   ]
  },
  {
   "cell_type": "markdown",
   "metadata": {},
   "source": [
    "# Hyperparameter Options (Learn)\n",
    "<a id=\"p1\"></a>"
   ]
  },
  {
   "cell_type": "markdown",
   "metadata": {},
   "source": [
    "## Overview\n",
    "\n",
    "Hyperparameter tuning is much more important with neural networks than it has been with any other models that we have considered up to this point. Other supervised learning models might have a couple of parameters, but neural networks can have dozens. These can substantially affect the accuracy of our models and although it can be a time consuming process is a necessary step when working with neural networks.\n",
    "​\n",
    "Hyperparameter tuning comes with a challenge. How can we compare models specified with different hyperparameters if our model's final error metric can vary somewhat erratically? How do we avoid just getting unlucky and selecting the wrong hyperparameter? This is a problem that to a certain degree we just have to live with as we test and test again. However, we can minimize it somewhat by pairing our experiments with Cross Validation to reduce the variance of our final accuracy values."
   ]
  },
  {
   "cell_type": "markdown",
   "metadata": {
    "colab_type": "text",
    "id": "0s0o2pqBs88q"
   },
   "source": [
    "### Load Boston Housing Data"
   ]
  },
  {
   "cell_type": "code",
   "execution_count": 1,
   "metadata": {},
   "outputs": [
    {
     "name": "stdout",
     "output_type": "stream",
     "text": [
      "Downloading data from https://storage.googleapis.com/tensorflow/tf-keras-datasets/boston_housing.npz\n",
      "57344/57026 [==============================] - 0s 0us/step\n"
     ]
    }
   ],
   "source": [
    "from tensorflow.keras.datasets import boston_housing\n",
    "\n",
    "(x_train, y_train), (x_test, y_test) = boston_housing.load_data()"
   ]
  },
  {
   "cell_type": "markdown",
   "metadata": {
    "colab_type": "text",
    "id": "Pm7zow5IvaTt"
   },
   "source": [
    "### Normalizing Input Data\n",
    "\n",
    "It's not 100% necessary to normalize/scale your input data before feeding it to a neural network, the network can learn the appropriate weights to deal with data of as long as it is numerically represented,  but it is recommended as it can help **make training faster** and **reduces the chances that gradient descent might get stuck in a local optimum**.\n",
    "\n",
    "<https://stackoverflow.com/questions/4674623/why-do-we-have-to-normalize-the-input-for-an-artificial-neural-network>"
   ]
  },
  {
   "cell_type": "code",
   "execution_count": 3,
   "metadata": {},
   "outputs": [],
   "source": [
    "scaler = StandardScaler()\n",
    "\n",
    "x_train = scaler.fit_transform(x_train)\n",
    "x_test = scaler.transform(x_test)"
   ]
  },
  {
   "cell_type": "markdown",
   "metadata": {
    "colab_type": "text",
    "id": "l6hgCWbir90R"
   },
   "source": [
    "### Model Validation using an automatic verification Dataset\n",
    "\n",
    "Instead of doing seperate train test split class, Keras has a really nice feature that you can set the validation.data argument when fitting your model and Keras will take that portion of your test data and use it as a validation dataset. "
   ]
  },
  {
   "cell_type": "code",
   "execution_count": 6,
   "metadata": {
    "colab": {
     "base_uri": "https://localhost:8080/",
     "height": 1750
    },
    "colab_type": "code",
    "id": "GMXVfmzXp1Oo",
    "outputId": "b05e251e-508f-46e6-865b-f869ae2a5dc4"
   },
   "outputs": [
    {
     "name": "stdout",
     "output_type": "stream",
     "text": [
      "Train on 404 samples, validate on 102 samples\n",
      "Epoch 1/50\n",
      "404/404 [==============================] - 1s 1ms/sample - loss: 499.6739 - mse: 499.6738 - val_loss: 417.8092 - val_mse: 417.8092\n",
      "Epoch 2/50\n",
      "404/404 [==============================] - 0s 335us/sample - loss: 253.2075 - mse: 253.2075 - val_loss: 111.9344 - val_mse: 111.9344\n",
      "Epoch 3/50\n",
      "404/404 [==============================] - 0s 327us/sample - loss: 65.4250 - mse: 65.4250 - val_loss: 47.8313 - val_mse: 47.8313\n",
      "Epoch 4/50\n",
      "404/404 [==============================] - 0s 338us/sample - loss: 32.7405 - mse: 32.7405 - val_loss: 29.7404 - val_mse: 29.7404\n",
      "Epoch 5/50\n",
      "404/404 [==============================] - 0s 320us/sample - loss: 21.4036 - mse: 21.4036 - val_loss: 25.3860 - val_mse: 25.3860\n",
      "Epoch 6/50\n",
      "404/404 [==============================] - 0s 322us/sample - loss: 18.0405 - mse: 18.0405 - val_loss: 24.0075 - val_mse: 24.0075\n",
      "Epoch 7/50\n",
      "404/404 [==============================] - 0s 408us/sample - loss: 16.2146 - mse: 16.2146 - val_loss: 22.4383 - val_mse: 22.4383\n",
      "Epoch 8/50\n",
      "404/404 [==============================] - 0s 312us/sample - loss: 14.6968 - mse: 14.6968 - val_loss: 23.2618 - val_mse: 23.2618\n",
      "Epoch 9/50\n",
      "404/404 [==============================] - 0s 320us/sample - loss: 13.6842 - mse: 13.6842 - val_loss: 22.9599 - val_mse: 22.9599\n",
      "Epoch 10/50\n",
      "404/404 [==============================] - 0s 315us/sample - loss: 13.0168 - mse: 13.0168 - val_loss: 23.4237 - val_mse: 23.4237\n",
      "Epoch 11/50\n",
      "404/404 [==============================] - 0s 316us/sample - loss: 12.2673 - mse: 12.2673 - val_loss: 22.9239 - val_mse: 22.9239\n",
      "Epoch 12/50\n",
      "404/404 [==============================] - 0s 309us/sample - loss: 12.3468 - mse: 12.3468 - val_loss: 22.1274 - val_mse: 22.1274\n",
      "Epoch 13/50\n",
      "404/404 [==============================] - 0s 331us/sample - loss: 11.6921 - mse: 11.6921 - val_loss: 22.2179 - val_mse: 22.2179\n",
      "Epoch 14/50\n",
      "404/404 [==============================] - 0s 319us/sample - loss: 11.2388 - mse: 11.2388 - val_loss: 25.1512 - val_mse: 25.1512\n",
      "Epoch 15/50\n",
      "404/404 [==============================] - 0s 319us/sample - loss: 10.8500 - mse: 10.8500 - val_loss: 23.9691 - val_mse: 23.9691\n",
      "Epoch 16/50\n",
      "404/404 [==============================] - 0s 320us/sample - loss: 10.5083 - mse: 10.5083 - val_loss: 23.1521 - val_mse: 23.1521\n",
      "Epoch 17/50\n",
      "404/404 [==============================] - 0s 335us/sample - loss: 10.4858 - mse: 10.4858 - val_loss: 24.0947 - val_mse: 24.0947\n",
      "Epoch 18/50\n",
      "404/404 [==============================] - 0s 326us/sample - loss: 10.4039 - mse: 10.4039 - val_loss: 24.9337 - val_mse: 24.9337\n",
      "Epoch 19/50\n",
      "404/404 [==============================] - 0s 315us/sample - loss: 10.2234 - mse: 10.2234 - val_loss: 24.5886 - val_mse: 24.5886\n",
      "Epoch 20/50\n",
      "404/404 [==============================] - 0s 324us/sample - loss: 9.9305 - mse: 9.9305 - val_loss: 22.1978 - val_mse: 22.1978\n",
      "Epoch 21/50\n",
      "404/404 [==============================] - 0s 302us/sample - loss: 9.8161 - mse: 9.8161 - val_loss: 22.1845 - val_mse: 22.1845\n",
      "Epoch 22/50\n",
      "404/404 [==============================] - 0s 304us/sample - loss: 9.6901 - mse: 9.6901 - val_loss: 23.3320 - val_mse: 23.3320\n",
      "Epoch 23/50\n",
      "404/404 [==============================] - 0s 302us/sample - loss: 9.2564 - mse: 9.2564 - val_loss: 22.9278 - val_mse: 22.9278\n",
      "Epoch 24/50\n",
      "404/404 [==============================] - 0s 319us/sample - loss: 9.1869 - mse: 9.1869 - val_loss: 24.6403 - val_mse: 24.6403\n",
      "Epoch 25/50\n",
      "404/404 [==============================] - 0s 319us/sample - loss: 9.0650 - mse: 9.0650 - val_loss: 23.2151 - val_mse: 23.2151\n",
      "Epoch 26/50\n",
      "404/404 [==============================] - 0s 304us/sample - loss: 9.0404 - mse: 9.0404 - val_loss: 23.9304 - val_mse: 23.9304\n",
      "Epoch 27/50\n",
      "404/404 [==============================] - 0s 329us/sample - loss: 8.8229 - mse: 8.8229 - val_loss: 23.8160 - val_mse: 23.8160\n",
      "Epoch 28/50\n",
      "404/404 [==============================] - 0s 318us/sample - loss: 8.7575 - mse: 8.7575 - val_loss: 22.3793 - val_mse: 22.3793\n",
      "Epoch 29/50\n",
      "404/404 [==============================] - 0s 321us/sample - loss: 8.9888 - mse: 8.9888 - val_loss: 23.3400 - val_mse: 23.3400\n",
      "Epoch 30/50\n",
      "404/404 [==============================] - 0s 315us/sample - loss: 8.4465 - mse: 8.4465 - val_loss: 21.9949 - val_mse: 21.9949\n",
      "Epoch 31/50\n",
      "404/404 [==============================] - 0s 320us/sample - loss: 8.6692 - mse: 8.6692 - val_loss: 23.4357 - val_mse: 23.4357\n",
      "Epoch 32/50\n",
      "404/404 [==============================] - 0s 322us/sample - loss: 8.3850 - mse: 8.3850 - val_loss: 22.2546 - val_mse: 22.2546\n",
      "Epoch 33/50\n",
      "404/404 [==============================] - 0s 313us/sample - loss: 8.3165 - mse: 8.3165 - val_loss: 22.0013 - val_mse: 22.0013\n",
      "Epoch 34/50\n",
      "404/404 [==============================] - 0s 316us/sample - loss: 8.1239 - mse: 8.1239 - val_loss: 22.9498 - val_mse: 22.9498\n",
      "Epoch 35/50\n",
      "404/404 [==============================] - 0s 329us/sample - loss: 8.0184 - mse: 8.0184 - val_loss: 22.5205 - val_mse: 22.5205\n",
      "Epoch 36/50\n",
      "404/404 [==============================] - 0s 315us/sample - loss: 8.0018 - mse: 8.0017 - val_loss: 23.2639 - val_mse: 23.2639\n",
      "Epoch 37/50\n",
      "404/404 [==============================] - 0s 327us/sample - loss: 7.8241 - mse: 7.8241 - val_loss: 22.0139 - val_mse: 22.0139\n",
      "Epoch 38/50\n",
      "404/404 [==============================] - 0s 305us/sample - loss: 8.2179 - mse: 8.2179 - val_loss: 21.8976 - val_mse: 21.8976\n",
      "Epoch 39/50\n",
      "404/404 [==============================] - 0s 315us/sample - loss: 7.9506 - mse: 7.9506 - val_loss: 21.5515 - val_mse: 21.5515\n",
      "Epoch 40/50\n",
      "404/404 [==============================] - 0s 313us/sample - loss: 7.6423 - mse: 7.6423 - val_loss: 23.2909 - val_mse: 23.2909\n",
      "Epoch 41/50\n",
      "404/404 [==============================] - 0s 311us/sample - loss: 7.5990 - mse: 7.5990 - val_loss: 21.3502 - val_mse: 21.3502\n",
      "Epoch 42/50\n",
      "404/404 [==============================] - 0s 316us/sample - loss: 7.6217 - mse: 7.6217 - val_loss: 21.1771 - val_mse: 21.1771\n",
      "Epoch 43/50\n",
      "404/404 [==============================] - 0s 322us/sample - loss: 7.4581 - mse: 7.4581 - val_loss: 22.3556 - val_mse: 22.3556\n",
      "Epoch 44/50\n",
      "404/404 [==============================] - 0s 319us/sample - loss: 7.3672 - mse: 7.3672 - val_loss: 23.1144 - val_mse: 23.1144\n",
      "Epoch 45/50\n",
      "404/404 [==============================] - 0s 310us/sample - loss: 7.3227 - mse: 7.3227 - val_loss: 22.3595 - val_mse: 22.3595\n",
      "Epoch 46/50\n",
      "404/404 [==============================] - 0s 316us/sample - loss: 7.4164 - mse: 7.4164 - val_loss: 20.7410 - val_mse: 20.7410\n",
      "Epoch 47/50\n",
      "404/404 [==============================] - 0s 367us/sample - loss: 7.1069 - mse: 7.1069 - val_loss: 21.5961 - val_mse: 21.5961\n",
      "Epoch 48/50\n",
      "404/404 [==============================] - 0s 323us/sample - loss: 7.1600 - mse: 7.1600 - val_loss: 21.0501 - val_mse: 21.0501\n",
      "Epoch 49/50\n",
      "404/404 [==============================] - 0s 326us/sample - loss: 7.2562 - mse: 7.2562 - val_loss: 20.7499 - val_mse: 20.7499\n",
      "Epoch 50/50\n",
      "404/404 [==============================] - 0s 316us/sample - loss: 7.1881 - mse: 7.1881 - val_loss: 20.3658 - val_mse: 20.3658\n"
     ]
    },
    {
     "data": {
      "text/plain": [
       "<tensorflow.python.keras.callbacks.History at 0x7fa420020c50>"
      ]
     },
     "execution_count": 6,
     "metadata": {},
     "output_type": "execute_result"
    }
   ],
   "source": [
    "from tensorflow import keras\n",
    "from tensorflow.keras.models import Sequential\n",
    "from tensorflow.keras.layers import Dense\n",
    "\n",
    "# Important Hyperparameters\n",
    "inputs = x_train.shape[1]\n",
    "epochs = 50\n",
    "batch_size = 10\n",
    "\n",
    "\n",
    "# Create Model\n",
    "model = Sequential()\n",
    "model.add(Dense(64, activation='relu', input_shape=(inputs,)))\n",
    "model.add(Dense(64, activation='relu'))\n",
    "#NOTE: Because this is a regresion model, we do not use an activation function!\n",
    "#activation functions are bounded between a set range (0 to 1 for example) which we do not want for house price regression.\n",
    "model.add(Dense(1))\n",
    "# Compile Model\n",
    "model.compile(optimizer='adam', loss='mse', metrics=['mse'])\n",
    "\n",
    "# Fit Model\n",
    "\n",
    "model.fit(x_train, y_train,\n",
    "          #really good way to protype in keras is to use validation data\n",
    "          #instead of train/test split external to the model\n",
    "          #keras can take a validation dataset, and compare the model against that dataset after fit\n",
    "          #saves you an a seperate line to split!\n",
    "          validation_data=(x_test,y_test), \n",
    "          epochs=epochs, \n",
    "          batch_size=batch_size,\n",
    "          verbose=True\n",
    "         )"
   ]
  },
  {
   "cell_type": "markdown",
   "metadata": {
    "colab_type": "text",
    "id": "sYJ8t_ezHP4W"
   },
   "source": [
    "### Hyperparameter Tuning Approaches:\n",
    "\n",
    "#### 1) Babysitting AKA \"Grad Student Descent\".\n",
    "\n",
    "If you fiddled with any hyperparameters yesterday, this is basically what you did. This approach is 100% manual and is pretty common among researchers where finding that 1 exact specification that jumps your model to a level of accuracy never seen before is the difference between publishing and not publishing a paper. Of course the professors don't do this themselves, that's grunt work. This is also known as the fiddle with hyperparameters until you run out of time method.\n",
    "\n",
    "#### 2) Grid Search\n",
    "\n",
    "Grid Search is the Grad Student galaxy brain realization of: why don't I just specify all the experiments I want to run and let the computer try every possible combination of them while I go and grab lunch. This has a specific downside in that if I specify 5 hyperparameters with 5 options each then I've just created 5^5 combinations of hyperparameters to check. Which means that I have to train 3125 different versions of my model Then if I use 5-fold Cross Validation on that then my model has to run 15,525 times. This is the brute-force method of hyperparameter tuning, but it can be very profitable if done wisely. \n",
    "\n",
    "When using Grid Search here's what I suggest: don't use it to test combinations of different hyperparameters, only use it to test different specifications of **a single** hyperparameter. It's rare that combinations between different hyperparameters lead to big performance gains. You'll get 90-95% of the way there if you just Grid Search one parameter and take the best result, then retain that best result while you test another, and then retain the best specification from that while you train another. This at least makes the situation much more manageable and leads to pretty good results. \n",
    "\n",
    "#### 3) Random Search\n",
    "\n",
    "Do Grid Search for a couple of hours and you'll say to yourself - \"There's got to be a better way.\" Enter Random Search. For Random search you specify a hyperparameter space and it picks specifications from that randomly, tries them out, gives you the best results and says - That's going to have to be good enough, go home and spend time with your family. \n",
    "\n",
    "Grid Search treats every parameter as if it was equally important, but this just isn't the case, some are known to move the needle a lot more than others (we'll talk about that in a minute). Random Search allows searching to be specified along the most important parameter and experiments less along the dimensions of less important hyperparameters. The downside of Random search is that it won't find the absolute best hyperparameters, but it is much less costly to perform than Grid Search. \n",
    "\n",
    "#### 4) Bayesian Methods\n",
    "\n",
    "One thing that can make more manual methods like babysitting and gridsearch effective is that as the experimenter sees results he can then make updates to his future searches taking into account the results of past specifications. If only we could hyperparameter tune our hyperparameter tuning. Well, we kind of can. Enter Bayesian Optimization. Neural Networks are like an optimization problem within an optimization problem, and Bayesian Optimization is a search strategy that tries to take into account the results of past searches in order to improve future ones. This is the most advanced method but can be a little bit tricky to implement, but there are some early steps with `hyperas` which is Bayesian optimization wrapper for `keras`. "
   ]
  },
  {
   "cell_type": "markdown",
   "metadata": {
    "colab_type": "text",
    "id": "HfQ7D043OMMn"
   },
   "source": [
    "## What Hyperparameters are there to test?\n",
    "\n",
    "- batch_size\n",
    "- training epochs\n",
    "- optimization algorithms\n",
    "- learning rate\n",
    "- momentum\n",
    "- activation functions\n",
    "- dropout regularization\n",
    "- number of neurons in the hidden layer\n",
    "\n",
    "There are more, but these are the most important."
   ]
  },
  {
   "cell_type": "markdown",
   "metadata": {},
   "source": [
    "## Follow Along"
   ]
  },
  {
   "cell_type": "markdown",
   "metadata": {
    "colab_type": "text",
    "id": "Mri5-kXzVKAa"
   },
   "source": [
    "## Batch Size\n",
    "\n",
    "Batch size determines how many observations the model is shown before it calculates loss/error and updates the model weights via gradient descent. You're looking for a sweet spot here where you're showing it enough observations that you have enough information to updates the weights, but not such a large batch size that you don't get a lot of weight update iterations performed in a given epoch. Feed-forward Neural Networks aren't as sensitive to bach_size as other networks, but it is still an important hyperparameter to tune. Smaller batch sizes will also take longer to train. "
   ]
  },
  {
   "cell_type": "code",
   "execution_count": 10,
   "metadata": {
    "colab": {
     "base_uri": "https://localhost:8080/",
     "height": 13561
    },
    "colab_type": "code",
    "id": "2smXfriNAGn7",
    "outputId": "ae996575-78e2-43fb-9dbe-5d44aaf0b430"
   },
   "outputs": [
    {
     "name": "stdout",
     "output_type": "stream",
     "text": [
      "Best: 0.6276041666666666 using {'batch_size': 40, 'epochs': 20}\n",
      "Means: 0.6015625, Stdev: 0.03983608994994363 with: {'batch_size': 10, 'epochs': 20}\n",
      "Means: 0.625, Stdev: 0.02870495792324037 with: {'batch_size': 20, 'epochs': 20}\n",
      "Means: 0.6276041666666666, Stdev: 0.02876396098225849 with: {'batch_size': 40, 'epochs': 20}\n",
      "Means: 0.5026041666666666, Stdev: 0.019225030026345572 with: {'batch_size': 60, 'epochs': 20}\n",
      "Means: 0.5872395833333334, Stdev: 0.039365147025601496 with: {'batch_size': 80, 'epochs': 20}\n",
      "Means: 0.4973958333333333, Stdev: 0.0506642616102701 with: {'batch_size': 100, 'epochs': 20}\n"
     ]
    }
   ],
   "source": [
    "import pandas as pd\n",
    "import numpy\n",
    "from sklearn.model_selection import GridSearchCV\n",
    "from tensorflow.keras.models import Sequential\n",
    "from tensorflow.keras.layers import Dense\n",
    "from tensorflow.keras.wrappers.scikit_learn import KerasClassifier\n",
    "\n",
    "# fix random seed for reproducibility\n",
    "seed = 7\n",
    "numpy.random.seed(seed)\n",
    "\n",
    "# load dataset\n",
    "url =\"https://raw.githubusercontent.com/jbrownlee/Datasets/master/pima-indians-diabetes.data.csv\"\n",
    "\n",
    "dataset = pd.read_csv(url, header=None).values\n",
    "\n",
    "# split into input (X) and output (Y) variables\n",
    "X = dataset[:,0:8]\n",
    "Y = dataset[:,8]\n",
    "\n",
    "# Function to create model, required for KerasClassifier\n",
    "def create_model():\n",
    "    # create model\n",
    "    model = Sequential()\n",
    "    model.add(Dense(12, input_dim=8, activation='relu'))\n",
    "    model.add(Dense(1, activation='sigmoid'))\n",
    "    # Compile model\n",
    "    model.compile(loss='binary_crossentropy', optimizer='adam', metrics=['accuracy'])\n",
    "    return model\n",
    "\n",
    "# create model\n",
    "model = KerasClassifier(build_fn=create_model, verbose=0)\n",
    "\n",
    "# define the grid search parameters\n",
    "# batch_size = [10, 20, 40, 60, 80, 100]\n",
    "# param_grid = dict(batch_size=batch_size, epochs=epochs)\n",
    "\n",
    "# define the grid search parameters\n",
    "param_grid = {'batch_size': [10, 20, 40, 60, 80, 100],\n",
    "              'epochs': [20]}\n",
    "\n",
    "# Create Grid Search\n",
    "#MAKE SURE JOBS =1, MAKING JOBS =-1 DOES NOT PLAY NICELY WITH THE KERAS WRAPPER IT DOES NOT PARRELIZE WELL\n",
    "grid = GridSearchCV(estimator=model, param_grid=param_grid, n_jobs=1)\n",
    "grid_result = grid.fit(X, Y)\n",
    "\n",
    "# Report Results\n",
    "print(f\"Best: {grid_result.best_score_} using {grid_result.best_params_}\")\n",
    "means = grid_result.cv_results_['mean_test_score']\n",
    "stds = grid_result.cv_results_['std_test_score']\n",
    "params = grid_result.cv_results_['params']\n",
    "for mean, stdev, param in zip(means, stds, params):\n",
    "    print(f\"Means: {mean}, Stdev: {stdev} with: {param}\") "
   ]
  },
  {
   "cell_type": "markdown",
   "metadata": {
    "colab_type": "text",
    "id": "pmABfjlvXbqi"
   },
   "source": [
    "## Epochs\n",
    "\n",
    "The number of training epochs has a large and direct affect on the accuracy, However, more epochs is almost always goign to better than less epochs. This means that if you tune this parameter at the beginning and try and maintain the same value all throughout your training, you're going to be waiting a long time for each iteration of GridSearch. I suggest picking a fixed moderat # of epochs all throughout your training and then Grid Searching this parameter at the very end. "
   ]
  },
  {
   "cell_type": "code",
   "execution_count": 12,
   "metadata": {
    "colab": {
     "base_uri": "https://localhost:8080/",
     "height": 26329
    },
    "colab_type": "code",
    "id": "bAmxP3N7TmFh",
    "outputId": "3ddb08c4-51ac-4eaa-ff39-143397024544"
   },
   "outputs": [
    {
     "name": "stdout",
     "output_type": "stream",
     "text": [
      "Best: 0.7083333333333334 using {'batch_size': 40, 'epochs': 200}\n",
      "Means: 0.5989583333333334, Stdev: 0.07004675862662899 with: {'batch_size': 40, 'epochs': 20}\n",
      "Means: 0.62890625, Stdev: 0.026106689655941956 with: {'batch_size': 40, 'epochs': 40}\n",
      "Means: 0.65625, Stdev: 0.00318943976924893 with: {'batch_size': 40, 'epochs': 60}\n",
      "Means: 0.7083333333333334, Stdev: 0.009743899444723805 with: {'batch_size': 40, 'epochs': 200}\n"
     ]
    }
   ],
   "source": [
    "#batch size of 40 was my optimal value found in the previous grid search\n",
    "#so lets use that one going forward\n",
    "\n",
    "\n",
    "#usually you want to optimize for epochs last, because almost always increasing epochs will increase the model performance for many epoch iterations\n",
    "\n",
    "# define the grid search parameters\n",
    "param_grid = {'batch_size': [40],\n",
    "              'epochs': [20, 40, 60,200]}\n",
    "\n",
    "# Create Grid Search\n",
    "grid = GridSearchCV(estimator=model, param_grid=param_grid, n_jobs=1)\n",
    "grid_result = grid.fit(X, Y)\n",
    "\n",
    "# Report Results\n",
    "print(f\"Best: {grid_result.best_score_} using {grid_result.best_params_}\")\n",
    "means = grid_result.cv_results_['mean_test_score']\n",
    "stds = grid_result.cv_results_['std_test_score']\n",
    "params = grid_result.cv_results_['params']\n",
    "for mean, stdev, param in zip(means, stds, params):\n",
    "    print(f\"Means: {mean}, Stdev: {stdev} with: {param}\")"
   ]
  },
  {
   "cell_type": "markdown",
   "metadata": {
    "colab_type": "text",
    "id": "EKcuY6OiaLfz"
   },
   "source": [
    "## Optimizer\n",
    "\n",
    "Remember that there's a different optimizers [optimizers](https://keras.io/optimizers/). At some point, take some time to read up on them a little bit. \"adam\" usually gives the best results. The thing to know about choosing an optimizer is that different optimizers have different hyperparameters like learning rate, momentum, etc. So based on the optimizer you choose you might also have to tune the learning rate and momentum of those optimizers after that. "
   ]
  },
  {
   "cell_type": "markdown",
   "metadata": {
    "colab_type": "text",
    "id": "DG3wq5iOaLig"
   },
   "source": [
    "## Learning Rate\n",
    "\n",
    "Remember that the Learning Rate is a hyperparameter that is specific to your gradient-descent based optimizer selection. A learning rate that is too high will cause divergent behavior, but a Learning Rate that is too low will fail to converge, again, you're looking for the sweet spot. I would start out tuning learning rates by orders of magnitude: [.001, .01, .1, .2, .3, .5] etc. I wouldn't go above .5, but you can try it and see what the behavior is like. \n",
    "\n",
    "Once you have narrowed it down, make the window even smaller and try it again. If after running the above specification your model reports that .1 is the best optimizer, then you should probably try things like [.05, .08, .1, .12, .15] to try and narrow it down. \n",
    "\n",
    "It can also be good to tune the number of epochs in combination with the learning rate since the number of iterations that you allow the learning rate to reach the minimum can determine if you have let it run long enough to converge to the minimum. "
   ]
  },
  {
   "cell_type": "markdown",
   "metadata": {
    "colab_type": "text",
    "id": "gNTBUWd1aLlA"
   },
   "source": [
    "## Momentum\n",
    "\n",
    "Momentum is a hyperparameter that is more commonly associated with Stochastic Gradient Descent. SGD is a common optimizer because it's what people understand and know, but I doubt it will get you the best results, you can try hyperparameter tuning its attributes and see if you can beat the performance from adam. Momentum is a property that decides the willingness of an optimizer to overshoot the minimum. Imagine a ball rolling down one side of a bowl and then up the opposite side a little bit before settling back to the bottom. The purpose of momentum is to try and escale local minima."
   ]
  },
  {
   "cell_type": "markdown",
   "metadata": {
    "colab_type": "text",
    "id": "xnEG-bCJaLnZ"
   },
   "source": [
    "## Activation Functions\n",
    "\n",
    "We've talked about this a little bit, typically you'l want to use ReLU for hidden layers and either Sigmoid, or Softmax for output layers of binary and multi-class classification implementations respectively, but try other activation functions and see if you can get any better results with sigmoid or tanh or something. There are a lot of activation functions that we haven't really talked about. Maybe you'll get good results with them. Maybe you won't. :) <https://keras.io/activations/>"
   ]
  },
  {
   "cell_type": "markdown",
   "metadata": {
    "colab_type": "text",
    "id": "oul9sPq-dU-h"
   },
   "source": [
    "## Network Weight Initialization\n",
    "\n",
    "You saw how big of an effect the way that we initialize our network's weights can have on our results. There are **a lot** of what are called initialization modes. I don't understand all of them, but they can have a big affect on your model's initial accuracy. Your model will get further with less epochs if you initialize it with weights that are well suited to the problem you're trying to solve.\n",
    "\n",
    "`init_mode = ['uniform', 'lecun_uniform', 'normal', 'zero', 'glorot_normal', 'glorot_uniform', 'he_normal', 'he_uniform']`"
   ]
  },
  {
   "cell_type": "markdown",
   "metadata": {
    "colab_type": "text",
    "id": "bqtEuxeQaLqE"
   },
   "source": [
    "## Dropout Regularization and the Weight Constraint\n",
    "\n",
    "the Dropout Regularization value is a percentage of neurons that you want to be randomly deactivated during training. The weight constraint is a second regularization parameter that works in tandem with dropout regularization. You should tune these two values at the same time. \n",
    "\n",
    "Using dropout on visible vs hidden layers might have a different effect. Using dropout on hidden layers might not have any effect while using dropout on hidden layers might have a substantial effect. You don't necessarily need to turn use dropout unless you see that your model has overfitting and generalizability problems."
   ]
  },
  {
   "cell_type": "markdown",
   "metadata": {
    "colab_type": "text",
    "id": "P2c5Cv6oaLtO"
   },
   "source": [
    "## Neurons in Hidden Layer \n",
    "\n",
    "Remember that when we only had a single perceptron our model was only able to fit to linearly separable data, but as we have added layers and nodes to those layers our network has become a powerhouse of fitting nonlinearity in data. The larger the network and the more nodes generally the stronger the network's capacity to fit nonlinear patterns in data. The more nodes and layers the longer it will take to train a network, and higher the probability of overfitting. The larger your network gets the more you'll need dropout regularization or other regularization techniques to keep it in check. \n",
    "\n",
    "Typically depth (more layers) is more important than width (more nodes) for neural networks. This is part of why Deep Learning is so highly touted. Certain deep learning architectures have truly been huge breakthroughs for certain machine learning tasks. \n",
    "\n",
    "You might borrow ideas from other network architectures. For example if I was doing image recognition and I wasn't taking cues from state of the art architectures like resnet, alexnet, googlenet, etc. Then I'm probably going to have to do a lot more experimentation on my own before I find something that works.\n",
    "\n",
    "There are some heuristics, but I am highly skeptical of them. I think you're better off experimenting on your own and forming your own intuition for these kinds of problems. \n",
    "\n",
    "- https://machinelearningmastery.com/how-to-configure-the-number-of-layers-and-nodes-in-a-neural-network/"
   ]
  },
  {
   "cell_type": "markdown",
   "metadata": {},
   "source": [
    "## Challenge\n",
    "You will be expected to tune several hyperparameters in today's module project. "
   ]
  },
  {
   "cell_type": "markdown",
   "metadata": {},
   "source": [
    "# Experiment Tracking Framework (Learn)\n",
    "<a id=\"p2\"></a>"
   ]
  },
  {
   "cell_type": "markdown",
   "metadata": {},
   "source": [
    "## Overview\n",
    "\n",
    "You will notice quickly that managing the results of all the experiments you are running becomes challenging. Which set of parameters did the best? Are my results today different than my results yesterday? Although we use Ipython Notebooks to work, the format is not well suited to logging experimental results. Enter experiment tracking frameworks like [Comet.ml](https://comet.ml) and [Weights and Biases](https://wandb.ai/).\n",
    "\n",
    "Those tools will help you track your experiments, store the results, and the code associated with those experiments. Experimental results can also be readily visualized to see changes in performance across any metric you care about. Data is sent to the tool as each epoch is completed, so you can also see if your model is converging. Let's check out Weights & Biases today. "
   ]
  },
  {
   "cell_type": "markdown",
   "metadata": {},
   "source": [
    "## Follow Along\n",
    "\n",
    "Make sure you login into `wandb` in the terminal before running the next cell. "
   ]
  },
  {
   "cell_type": "code",
   "execution_count": null,
   "metadata": {},
   "outputs": [],
   "source": [
    "import wandb\n",
    "from wandb.keras import WandbCallback\n",
    "#doing this on my own ahead of time, so it'll be different than the live Thursday Lecture\n",
    "#comet.ml is another powerful option that also integrates with scikitlearn (investigate further)\n",
    "wandb.init(project=\"test_ds7\") #initializes the experiment"
   ]
  },
  {
   "cell_type": "code",
   "execution_count": null,
   "metadata": {
    "colab": {
     "base_uri": "https://localhost:8080/",
     "height": 1750
    },
    "colab_type": "code",
    "id": "GMXVfmzXp1Oo",
    "outputId": "b05e251e-508f-46e6-865b-f869ae2a5dc4"
   },
   "outputs": [],
   "source": [
    "wandb.init(project=\"test_ds7\") #initializes the experiment\n",
    "# Important Hyperparameters\n",
    "X = x_train\n",
    "y = y_train\n",
    "\n",
    "inputs = X.shape[1]\n",
    "\n",
    "#if you want to track the results of a paramater in wand, you have to call it here\n",
    "wandb.config.epochs = 50\n",
    "wandb.config.batch_size = 10\n",
    "\n",
    "\n",
    "# Create Model\n",
    "model = Sequential()\n",
    "model.add(Dense(64, activation='relu', input_shape=(inputs,)))\n",
    "model.add(Dense(64, activation='relu'))\n",
    "model.add(Dense(1))\n",
    "# Compile Model\n",
    "model.compile(optimizer='adam', loss='mse', metrics=['mse', 'mae'])\n",
    "\n",
    "# Fit Model\n",
    "\n",
    "model.fit(X, y, \n",
    "          validation_split=0.33, \n",
    "          epochs=wandb.config.epochs, \n",
    "          batch_size=wandb.config.batch_size,\n",
    "          #callbacks is where you are sending data back to\n",
    "          callbacks=[WandbCallback()]\n",
    "         )"
   ]
  },
  {
   "cell_type": "markdown",
   "metadata": {},
   "source": [
    "## Challenge\n",
    "\n",
    "You will be expected to use Weights & Biases to try to tune your model during your module assignment today. "
   ]
  },
  {
   "cell_type": "markdown",
   "metadata": {},
   "source": [
    "# Hyperparameters with RandomSearchCV (Learn)"
   ]
  },
  {
   "cell_type": "markdown",
   "metadata": {},
   "source": [
    "## Overview\n",
    "\n",
    "Basically `GridSearchCV` takes forever. You'll want to adopt a slightly more sophiscated strategy."
   ]
  },
  {
   "cell_type": "markdown",
   "metadata": {},
   "source": [
    "## Follow Along"
   ]
  },
  {
   "cell_type": "code",
   "execution_count": null,
   "metadata": {},
   "outputs": [],
   "source": [
    "#this is replicating the code above, but showing how we can use hyperparamaters to optimize an Optimizer!\n",
    "\n",
    "import wandb\n",
    "from wandb.keras import WandbCallback\n",
    "#doing this on my own ahead of time, so it'll be different than the live Thursday Lecture\n",
    "#comet.ml is another powerful option that also integrates with scikitlearn (investigate further)\n",
    "wandb.init(project=\"test_ds7\") #initializes the experiment\n",
    "\n",
    "\n",
    "#you have to import the optimizer class in on its own\n",
    "from tensorflow.keras.optimizers import Adam\n",
    "\n",
    "\n",
    "# Important Hyperparameters\n",
    "X = x_train\n",
    "y = y_train\n",
    "\n",
    "inputs = X.shape[1]\n",
    "\n",
    "#if you want to track the results of a paramater in wand, you have to call it here\n",
    "wandb.config.epochs = 50\n",
    "wandb.config.batch_size = 10\n",
    "\n",
    "#make sure to add it wandb!\n",
    "wandb.config.learning_rage = .1\n",
    "\n",
    "\n",
    "# Create Model\n",
    "model = Sequential()\n",
    "model.add(Dense(64, activation='relu', input_shape=(inputs,)))\n",
    "model.add(Dense(64, activation='relu'))\n",
    "model.add(Dense(1))\n",
    "\n",
    "\n",
    "\n",
    "#since we are customizing the optimizer, we have to intantiate it\n",
    "adam = Adam(learning_rate=wandb.config.learning_rate)\n",
    "\n",
    "\n",
    "# Compile Model\n",
    "model.compile(optimizer='adam', loss='mse', metrics=['mse', 'mae'])\n",
    "\n",
    "# Fit Model\n",
    "\n",
    "model.fit(X, y, \n",
    "          validation_split=0.33, \n",
    "          epochs=wandb.config.epochs, \n",
    "          batch_size=wandb.config.batch_size,\n",
    "          #callbacks is where you are sending data back to\n",
    "          callbacks=[WandbCallback()]\n",
    "         )\n"
   ]
  },
  {
   "cell_type": "code",
   "execution_count": null,
   "metadata": {},
   "outputs": [],
   "source": []
  },
  {
   "cell_type": "markdown",
   "metadata": {},
   "source": [
    "## Challenge\n",
    "\n",
    "Try to apply RandomSearchCV to your module project today. "
   ]
  },
  {
   "cell_type": "markdown",
   "metadata": {},
   "source": [
    "# Review\n",
    "* <a href=\"#p1\">Part 1</a>: Describe the major hyperparemeters to tune\n",
    "    - Activation Functions\n",
    "    - Optimizer\n",
    "    - Number of Layers\n",
    "    - Number of Neurons\n",
    "    - Batch Size\n",
    "    - Dropout Regulaization\n",
    "    - Learning Rate\n",
    "    - Number of Epochs\n",
    "    - and many more\n",
    "* <a href=\"#p2\">Part 2</a>: Implement an experiment tracking framework\n",
    "    - Weights & Biases\n",
    "    - Comet.ml\n",
    "    - By Hand / GridSearch\n",
    "* <a href=\"#p3\">Part 3</a>: Search the hyperparameter space using RandomSearch\n",
    "    - Sklearn still useful (haha)\n",
    "    - Integration with Wieghts & Biases\n",
    "* <a href=\"#p4\">Part 4</a>: Discuss emerging hyperparameter tuning strategies\n",
    "    - Bayesian Optimization\n",
    "    - Hyperopt\n",
    "    - Genetic Evolution"
   ]
  },
  {
   "cell_type": "markdown",
   "metadata": {},
   "source": [
    "# Sources"
   ]
  },
  {
   "cell_type": "markdown",
   "metadata": {},
   "source": [
    "## Additional Reading\n",
    "- https://machinelearningmastery.com/grid-search-hyperparameters-deep-learning-models-python-keras/\n",
    "- https://blog.floydhub.com/guide-to-hyperparameters-search-for-deep-learning-models/\n",
    "- https://machinelearningmastery.com/dropout-regularization-deep-learning-models-keras/\n",
    "- https://machinelearningmastery.com/introduction-to-weight-constraints-to-reduce-generalization-error-in-deep-learning/\n",
    "- https://machinelearningmastery.com/how-to-configure-the-number-of-layers-and-nodes-in-a-neural-network/"
   ]
  }
 ],
 "metadata": {
  "kernelspec": {
   "display_name": "Python 3",
   "language": "python",
   "name": "python3"
  },
  "language_info": {
   "codemirror_mode": {
    "name": "ipython",
    "version": 3
   },
   "file_extension": ".py",
   "mimetype": "text/x-python",
   "name": "python",
   "nbconvert_exporter": "python",
   "pygments_lexer": "ipython3",
   "version": "3.6.8"
  }
 },
 "nbformat": 4,
 "nbformat_minor": 4
}
