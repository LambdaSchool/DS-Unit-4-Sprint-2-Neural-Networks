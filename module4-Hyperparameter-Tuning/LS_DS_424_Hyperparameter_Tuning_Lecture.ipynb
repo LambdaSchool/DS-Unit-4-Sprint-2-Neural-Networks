{
  "nbformat": 4,
  "nbformat_minor": 0,
  "metadata": {
    "kernelspec": {
      "display_name": "U4-S2-NNF-DS12",
      "language": "python",
      "name": "u4-s2-nnf-ds12"
    },
    "language_info": {
      "codemirror_mode": {
        "name": "ipython",
        "version": 3
      },
      "file_extension": ".py",
      "mimetype": "text/x-python",
      "name": "python",
      "nbconvert_exporter": "python",
      "pygments_lexer": "ipython3",
      "version": "3.7.7"
    },
    "colab": {
      "name": "LS_DS_424_Hyperparameter_Tuning_Lecture.ipynb",
      "provenance": [],
      "include_colab_link": true
    }
  },
  "cells": [
    {
      "cell_type": "markdown",
      "metadata": {
        "id": "view-in-github",
        "colab_type": "text"
      },
      "source": [
        "<a href=\"https://colab.research.google.com/github/Lilchoto3/DS-Unit-4-Sprint-2-Neural-Networks/blob/master/module4-Hyperparameter-Tuning/LS_DS_424_Hyperparameter_Tuning_Lecture.ipynb\" target=\"_parent\"><img src=\"https://colab.research.google.com/assets/colab-badge.svg\" alt=\"Open In Colab\"/></a>"
      ]
    },
    {
      "cell_type": "markdown",
      "metadata": {
        "colab_type": "text",
        "id": "41TS0Sa0rDNx"
      },
      "source": [
        "Lambda School Data Science\n",
        "\n",
        "*Unit 4, Sprint 2, Module 4*\n",
        "\n",
        "---"
      ]
    },
    {
      "cell_type": "markdown",
      "metadata": {
        "colab_type": "text",
        "id": "LB_yBCPq-7Ss"
      },
      "source": [
        "# Neural Networks & GPUs (Prepare)\n",
        "*aka Hyperparameter Tuning*\n",
        "\n",
        "*aka Big Servers for Big Problems*"
      ]
    },
    {
      "cell_type": "markdown",
      "metadata": {
        "colab_type": "text",
        "id": "ElOBF-yv-7Su"
      },
      "source": [
        "## Learning Objectives\n",
        "* <a href=\"#p1\">Part 1</a>: Describe the major hyperparemeters to tune\n",
        "* <a href=\"#p2\">Part 2</a>: Implement an experiment tracking framework\n",
        "* <a href=\"#p3\">Part 3</a>: Search the hyperparameter space using RandomSearch (Optional)"
      ]
    },
    {
      "cell_type": "code",
      "metadata": {
        "id": "YEq_5TBT-7Su",
        "colab_type": "code",
        "colab": {}
      },
      "source": [
        "wandb_group = \"ds8\"\n",
        "wandb_project = \"ds13_inclass\""
      ],
      "execution_count": 0,
      "outputs": []
    },
    {
      "cell_type": "code",
      "metadata": {
        "id": "AREettte_CbN",
        "colab_type": "code",
        "colab": {
          "base_uri": "https://localhost:8080/",
          "height": 1000
        },
        "outputId": "25f3cd6d-e7fc-4fd7-f9dd-19ce8d2f2a9e"
      },
      "source": [
        "!pip install wandb"
      ],
      "execution_count": 2,
      "outputs": [
        {
          "output_type": "stream",
          "text": [
            "Collecting wandb\n",
            "\u001b[?25l  Downloading https://files.pythonhosted.org/packages/d1/c7/8bf2c62c3f133f45e135a8a116e4e0f162043248e3db54de30996eaf1a8a/wandb-0.8.36-py2.py3-none-any.whl (1.4MB)\n",
            "\u001b[K     |████████████████████████████████| 1.4MB 2.7MB/s \n",
            "\u001b[?25hRequirement already satisfied: psutil>=5.0.0 in /usr/local/lib/python3.6/dist-packages (from wandb) (5.4.8)\n",
            "Collecting configparser>=3.8.1\n",
            "  Downloading https://files.pythonhosted.org/packages/4b/6b/01baa293090240cf0562cc5eccb69c6f5006282127f2b846fad011305c79/configparser-5.0.0-py3-none-any.whl\n",
            "Requirement already satisfied: Click>=7.0 in /usr/local/lib/python3.6/dist-packages (from wandb) (7.1.2)\n",
            "Collecting sentry-sdk>=0.4.0\n",
            "\u001b[?25l  Downloading https://files.pythonhosted.org/packages/1b/95/9a20eebcedab2c1c63fad59fe19a0469edfc2a25b8576497e8084629c2ff/sentry_sdk-0.14.4-py2.py3-none-any.whl (104kB)\n",
            "\u001b[K     |████████████████████████████████| 112kB 20.4MB/s \n",
            "\u001b[?25hCollecting gql==0.2.0\n",
            "  Downloading https://files.pythonhosted.org/packages/c4/6f/cf9a3056045518f06184e804bae89390eb706168349daa9dff8ac609962a/gql-0.2.0.tar.gz\n",
            "Collecting docker-pycreds>=0.4.0\n",
            "  Downloading https://files.pythonhosted.org/packages/f5/e8/f6bd1eee09314e7e6dee49cbe2c5e22314ccdb38db16c9fc72d2fa80d054/docker_pycreds-0.4.0-py2.py3-none-any.whl\n",
            "Collecting shortuuid>=0.5.0\n",
            "  Downloading https://files.pythonhosted.org/packages/25/a6/2ecc1daa6a304e7f1b216f0896b26156b78e7c38e1211e9b798b4716c53d/shortuuid-1.0.1-py3-none-any.whl\n",
            "Requirement already satisfied: six>=1.10.0 in /usr/local/lib/python3.6/dist-packages (from wandb) (1.12.0)\n",
            "Requirement already satisfied: nvidia-ml-py3>=7.352.0 in /usr/local/lib/python3.6/dist-packages (from wandb) (7.352.0)\n",
            "Collecting watchdog>=0.8.3\n",
            "\u001b[?25l  Downloading https://files.pythonhosted.org/packages/73/c3/ed6d992006837e011baca89476a4bbffb0a91602432f73bd4473816c76e2/watchdog-0.10.2.tar.gz (95kB)\n",
            "\u001b[K     |████████████████████████████████| 102kB 7.7MB/s \n",
            "\u001b[?25hRequirement already satisfied: python-dateutil>=2.6.1 in /usr/local/lib/python3.6/dist-packages (from wandb) (2.8.1)\n",
            "Requirement already satisfied: requests>=2.0.0 in /usr/local/lib/python3.6/dist-packages (from wandb) (2.23.0)\n",
            "Collecting subprocess32>=3.5.3\n",
            "\u001b[?25l  Downloading https://files.pythonhosted.org/packages/32/c8/564be4d12629b912ea431f1a50eb8b3b9d00f1a0b1ceff17f266be190007/subprocess32-3.5.4.tar.gz (97kB)\n",
            "\u001b[K     |████████████████████████████████| 102kB 7.8MB/s \n",
            "\u001b[?25hCollecting GitPython>=1.0.0\n",
            "\u001b[?25l  Downloading https://files.pythonhosted.org/packages/44/33/917e6fde1cad13daa7053f39b7c8af3be287314f75f1b1ea8d3fe37a8571/GitPython-3.1.2-py3-none-any.whl (451kB)\n",
            "\u001b[K     |████████████████████████████████| 460kB 16.5MB/s \n",
            "\u001b[?25hRequirement already satisfied: PyYAML>=3.10 in /usr/local/lib/python3.6/dist-packages (from wandb) (3.13)\n",
            "Requirement already satisfied: certifi in /usr/local/lib/python3.6/dist-packages (from sentry-sdk>=0.4.0->wandb) (2020.4.5.1)\n",
            "Requirement already satisfied: urllib3>=1.10.0 in /usr/local/lib/python3.6/dist-packages (from sentry-sdk>=0.4.0->wandb) (1.24.3)\n",
            "Collecting graphql-core<2,>=0.5.0\n",
            "\u001b[?25l  Downloading https://files.pythonhosted.org/packages/b0/89/00ad5e07524d8c523b14d70c685e0299a8b0de6d0727e368c41b89b7ed0b/graphql-core-1.1.tar.gz (70kB)\n",
            "\u001b[K     |████████████████████████████████| 71kB 6.4MB/s \n",
            "\u001b[?25hRequirement already satisfied: promise<3,>=2.0 in /usr/local/lib/python3.6/dist-packages (from gql==0.2.0->wandb) (2.3)\n",
            "Collecting pathtools>=0.1.1\n",
            "  Downloading https://files.pythonhosted.org/packages/e7/7f/470d6fcdf23f9f3518f6b0b76be9df16dcc8630ad409947f8be2eb0ed13a/pathtools-0.1.2.tar.gz\n",
            "Requirement already satisfied: chardet<4,>=3.0.2 in /usr/local/lib/python3.6/dist-packages (from requests>=2.0.0->wandb) (3.0.4)\n",
            "Requirement already satisfied: idna<3,>=2.5 in /usr/local/lib/python3.6/dist-packages (from requests>=2.0.0->wandb) (2.9)\n",
            "Collecting gitdb<5,>=4.0.1\n",
            "\u001b[?25l  Downloading https://files.pythonhosted.org/packages/48/11/d1800bca0a3bae820b84b7d813ad1eff15a48a64caea9c823fc8c1b119e8/gitdb-4.0.5-py3-none-any.whl (63kB)\n",
            "\u001b[K     |████████████████████████████████| 71kB 7.6MB/s \n",
            "\u001b[?25hCollecting smmap<4,>=3.0.1\n",
            "  Downloading https://files.pythonhosted.org/packages/b0/9a/4d409a6234eb940e6a78dfdfc66156e7522262f5f2fecca07dc55915952d/smmap-3.0.4-py2.py3-none-any.whl\n",
            "Building wheels for collected packages: gql, watchdog, subprocess32, graphql-core, pathtools\n",
            "  Building wheel for gql (setup.py) ... \u001b[?25l\u001b[?25hdone\n",
            "  Created wheel for gql: filename=gql-0.2.0-cp36-none-any.whl size=7630 sha256=6b589f1f41b963c323a8049a052bdcd21a64947767671bcc7c089f525b1b2c31\n",
            "  Stored in directory: /root/.cache/pip/wheels/ce/0e/7b/58a8a5268655b3ad74feef5aa97946f0addafb3cbb6bd2da23\n",
            "  Building wheel for watchdog (setup.py) ... \u001b[?25l\u001b[?25hdone\n",
            "  Created wheel for watchdog: filename=watchdog-0.10.2-cp36-none-any.whl size=73605 sha256=53401bb074e2438d49b29e549686c74618e7ec4e7be8cf9a171002b92aa97977\n",
            "  Stored in directory: /root/.cache/pip/wheels/bc/ed/6c/028dea90d31b359cd2a7c8b0da4db80e41d24a59614154072e\n",
            "  Building wheel for subprocess32 (setup.py) ... \u001b[?25l\u001b[?25hdone\n",
            "  Created wheel for subprocess32: filename=subprocess32-3.5.4-cp36-none-any.whl size=6489 sha256=f0a048dbabd268a73ddebd50078fcb081ad711f1e52253b26bb1cb3d8d31cfc0\n",
            "  Stored in directory: /root/.cache/pip/wheels/68/39/1a/5e402bdfdf004af1786c8b853fd92f8c4a04f22aad179654d1\n",
            "  Building wheel for graphql-core (setup.py) ... \u001b[?25l\u001b[?25hdone\n",
            "  Created wheel for graphql-core: filename=graphql_core-1.1-cp36-none-any.whl size=104650 sha256=a96bc7865b590da695bb13a2b1b0501f99977304295333b9d6f09b48f58ec843\n",
            "  Stored in directory: /root/.cache/pip/wheels/45/99/d7/c424029bb0fe910c63b68dbf2aa20d3283d023042521bcd7d5\n",
            "  Building wheel for pathtools (setup.py) ... \u001b[?25l\u001b[?25hdone\n",
            "  Created wheel for pathtools: filename=pathtools-0.1.2-cp36-none-any.whl size=8784 sha256=38180478f6e64424e10467fff38b8701312bd5a6299563597040626937b2f065\n",
            "  Stored in directory: /root/.cache/pip/wheels/0b/04/79/c3b0c3a0266a3cb4376da31e5bfe8bba0c489246968a68e843\n",
            "Successfully built gql watchdog subprocess32 graphql-core pathtools\n",
            "Installing collected packages: configparser, sentry-sdk, graphql-core, gql, docker-pycreds, shortuuid, pathtools, watchdog, subprocess32, smmap, gitdb, GitPython, wandb\n",
            "Successfully installed GitPython-3.1.2 configparser-5.0.0 docker-pycreds-0.4.0 gitdb-4.0.5 gql-0.2.0 graphql-core-1.1 pathtools-0.1.2 sentry-sdk-0.14.4 shortuuid-1.0.1 smmap-3.0.4 subprocess32-3.5.4 wandb-0.8.36 watchdog-0.10.2\n"
          ],
          "name": "stdout"
        }
      ]
    },
    {
      "cell_type": "code",
      "metadata": {
        "id": "OSMtcDCf_s47",
        "colab_type": "code",
        "colab": {
          "base_uri": "https://localhost:8080/",
          "height": 52
        },
        "outputId": "497c8e34-fd5c-4ce4-cb56-560f70e2a15a"
      },
      "source": [
        "!wandb login fa410628a383cce016d2453b9946e092ee511144"
      ],
      "execution_count": 3,
      "outputs": [
        {
          "output_type": "stream",
          "text": [
            "\u001b[34m\u001b[1mwandb\u001b[0m: Appending key for api.wandb.ai to your netrc file: /root/.netrc\n",
            "\u001b[32mSuccessfully logged in to Weights & Biases!\u001b[0m\n"
          ],
          "name": "stdout"
        }
      ]
    },
    {
      "cell_type": "markdown",
      "metadata": {
        "id": "60BZyhWj-7Sy",
        "colab_type": "text"
      },
      "source": [
        "# Hyperparameter Options (Learn)\n",
        "<a id=\"p1\"></a>"
      ]
    },
    {
      "cell_type": "markdown",
      "metadata": {
        "id": "13rC4DzE-7Sz",
        "colab_type": "text"
      },
      "source": [
        "## Overview\n",
        "\n",
        "Hyperparameter tuning is much more important with neural networks than it has been with any other models that we have considered up to this point. Other supervised learning models might have a couple of parameters, but neural networks can have dozens. These can substantially affect the accuracy of our models and although it can be a time consuming process is a necessary step when working with neural networks.\n",
        "​\n",
        "Hyperparameter tuning comes with a challenge. How can we compare models specified with different hyperparameters if our model's final error metric can vary somewhat erratically? How do we avoid just getting unlucky and selecting the wrong hyperparameter? This is a problem that to a certain degree we just have to live with as we test and test again. However, we can minimize it somewhat by pairing our experiments with Cross Validation to reduce the variance of our final accuracy values."
      ]
    },
    {
      "cell_type": "markdown",
      "metadata": {
        "colab_type": "text",
        "id": "0s0o2pqBs88q"
      },
      "source": [
        "### Load Boston Housing Data"
      ]
    },
    {
      "cell_type": "code",
      "metadata": {
        "id": "e5o9zXk5-7S0",
        "colab_type": "code",
        "colab": {
          "base_uri": "https://localhost:8080/",
          "height": 52
        },
        "outputId": "08fef176-fe21-42d2-b5c9-a9f28d64d90f"
      },
      "source": [
        "from tensorflow.keras.datasets import boston_housing\n",
        "\n",
        "(x_train, y_train), (x_test, y_test) = boston_housing.load_data()"
      ],
      "execution_count": 4,
      "outputs": [
        {
          "output_type": "stream",
          "text": [
            "Downloading data from https://storage.googleapis.com/tensorflow/tf-keras-datasets/boston_housing.npz\n",
            "57344/57026 [==============================] - 0s 0us/step\n"
          ],
          "name": "stdout"
        }
      ]
    },
    {
      "cell_type": "markdown",
      "metadata": {
        "colab_type": "text",
        "id": "Pm7zow5IvaTt"
      },
      "source": [
        "### Normalizing Input Data\n",
        "\n",
        "It's not 100% necessary to normalize/scale your input data before feeding it to a neural network, the network can learn the appropriate weights to deal with data of as long as it is numerically represented,  but it is recommended as it can help **make training faster** and **reduces the chances that gradient descent might get stuck in a local optimum**.\n",
        "\n",
        "<https://stackoverflow.com/questions/4674623/why-do-we-have-to-normalize-the-input-for-an-artificial-neural-network>"
      ]
    },
    {
      "cell_type": "code",
      "metadata": {
        "id": "MIoAtgJI-7S5",
        "colab_type": "code",
        "colab": {
          "base_uri": "https://localhost:8080/",
          "height": 550
        },
        "outputId": "4fbf47bc-cec8-4ed8-bbca-97e9eb6697fa"
      },
      "source": [
        "from sklearn.preprocessing import StandardScaler\n",
        "\n",
        "scaler = StandardScaler()\n",
        "\n",
        "x_train = scaler.fit_transform(x_train)\n",
        "x_test = scaler.transform(x_test)\n",
        "print(x_train[:10])"
      ],
      "execution_count": 5,
      "outputs": [
        {
          "output_type": "stream",
          "text": [
            "[[-0.27224633 -0.48361547 -0.43576161 -0.25683275 -0.1652266  -0.1764426\n",
            "   0.81306188  0.1166983  -0.62624905 -0.59517003  1.14850044  0.44807713\n",
            "   0.8252202 ]\n",
            " [-0.40342651  2.99178419 -1.33391162 -0.25683275 -1.21518188  1.89434613\n",
            "  -1.91036058  1.24758524 -0.85646254 -0.34843254 -1.71818909  0.43190599\n",
            "  -1.32920239]\n",
            " [ 0.1249402  -0.48361547  1.0283258  -0.25683275  0.62864202 -1.82968811\n",
            "   1.11048828 -1.18743907  1.67588577  1.5652875   0.78447637  0.22061726\n",
            "  -1.30850006]\n",
            " [-0.40149354 -0.48361547 -0.86940196 -0.25683275 -0.3615597  -0.3245576\n",
            "  -1.23667187  1.10717989 -0.51114231 -1.094663    0.78447637  0.44807713\n",
            "  -0.65292624]\n",
            " [-0.0056343  -0.48361547  1.0283258  -0.25683275  1.32861221  0.15364225\n",
            "   0.69480801 -0.57857203  1.67588577  1.5652875   0.78447637  0.3898823\n",
            "   0.26349695]\n",
            " [-0.37502238 -0.48361547 -0.54747912 -0.25683275 -0.54935658 -0.78865126\n",
            "   0.18954148  0.48371503 -0.51114231 -0.71552978  0.51145832  0.38669063\n",
            "  -0.13812828]\n",
            " [ 0.58963463 -0.48361547  1.0283258  -0.25683275  1.21764133 -1.03127774\n",
            "   1.11048828 -1.06518235  1.67588577  1.5652875   0.78447637  0.44807713\n",
            "   1.49873604]\n",
            " [ 0.0381708  -0.48361547  1.24588095 -0.25683275  2.67733525 -1.12719983\n",
            "   1.11048828 -1.14833073 -0.51114231 -0.01744323 -1.71818909  0.44807713\n",
            "   1.88793986]\n",
            " [-0.17228416 -0.48361547  1.24588095 -0.25683275  2.67733525 -0.90150078\n",
            "   1.11048828 -1.09664657 -0.51114231 -0.01744323 -1.71818909 -1.97365769\n",
            "   0.53952803]\n",
            " [-0.22932104 -0.48361547  1.58544339 -0.25683275  0.56888847 -1.76056777\n",
            "   1.11048828 -1.13471925 -0.62624905  0.18716835  1.23950646  0.44807713\n",
            "   2.99068404]]\n"
          ],
          "name": "stdout"
        }
      ]
    },
    {
      "cell_type": "markdown",
      "metadata": {
        "colab_type": "text",
        "id": "l6hgCWbir90R"
      },
      "source": [
        "### Model Validation using an automatic verification Dataset\n",
        "\n",
        "Instead of doing seperate train test split class, Keras has a really nice feature that you can set the validation.data argument when fitting your model and Keras will take that portion of your test data and use it as a validation dataset. "
      ]
    },
    {
      "cell_type": "code",
      "metadata": {
        "colab_type": "code",
        "id": "GMXVfmzXp1Oo",
        "outputId": "38c3a64a-876a-43d7-b64d-06bbce956140",
        "colab": {
          "base_uri": "https://localhost:8080/",
          "height": 1000
        }
      },
      "source": [
        "from tensorflow import keras\n",
        "from tensorflow.keras.models import Sequential\n",
        "from tensorflow.keras.layers import Dense\n",
        "\n",
        "# Important Hyperparameters\n",
        "inputs = x_train.shape[1]\n",
        "epochs = 75\n",
        "batch_size = 10\n",
        "\n",
        "\n",
        "# Create Model\n",
        "model = Sequential()\n",
        "model.add(Dense(64, activation='relu', input_shape=(inputs,)))\n",
        "model.add(Dense(64, activation='relu'))\n",
        "model.add(Dense(1))\n",
        "\n",
        "# Compile Model\n",
        "model.compile(optimizer='adam', loss='mse', metrics=['mae'])\n",
        "\n",
        "# Fit Model\n",
        "model.fit(x_train, y_train, \n",
        "          validation_data=(x_test,y_test),\n",
        "          epochs=epochs, \n",
        "          batch_size=batch_size\n",
        "         )"
      ],
      "execution_count": 6,
      "outputs": [
        {
          "output_type": "stream",
          "text": [
            "Epoch 1/75\n",
            "41/41 [==============================] - 0s 6ms/step - loss: 512.1121 - mae: 20.7453 - val_loss: 442.5680 - val_mae: 19.2224\n",
            "Epoch 2/75\n",
            "41/41 [==============================] - 0s 2ms/step - loss: 284.3048 - mae: 14.6668 - val_loss: 142.1421 - val_mae: 10.2936\n",
            "Epoch 3/75\n",
            "41/41 [==============================] - 0s 2ms/step - loss: 66.5232 - mae: 6.2302 - val_loss: 40.0914 - val_mae: 5.0612\n",
            "Epoch 4/75\n",
            "41/41 [==============================] - 0s 3ms/step - loss: 29.6704 - mae: 3.8291 - val_loss: 29.5450 - val_mae: 4.3166\n",
            "Epoch 5/75\n",
            "41/41 [==============================] - 0s 3ms/step - loss: 23.7975 - mae: 3.4603 - val_loss: 27.1993 - val_mae: 4.1117\n",
            "Epoch 6/75\n",
            "41/41 [==============================] - 0s 2ms/step - loss: 20.8411 - mae: 3.1903 - val_loss: 25.6137 - val_mae: 3.9551\n",
            "Epoch 7/75\n",
            "41/41 [==============================] - 0s 2ms/step - loss: 18.6768 - mae: 3.0357 - val_loss: 23.9450 - val_mae: 3.7334\n",
            "Epoch 8/75\n",
            "41/41 [==============================] - 0s 2ms/step - loss: 17.4050 - mae: 2.9378 - val_loss: 23.6140 - val_mae: 3.7083\n",
            "Epoch 9/75\n",
            "41/41 [==============================] - 0s 2ms/step - loss: 15.9065 - mae: 2.8209 - val_loss: 22.5994 - val_mae: 3.5354\n",
            "Epoch 10/75\n",
            "41/41 [==============================] - 0s 2ms/step - loss: 15.0062 - mae: 2.6971 - val_loss: 22.5368 - val_mae: 3.5049\n",
            "Epoch 11/75\n",
            "41/41 [==============================] - 0s 2ms/step - loss: 13.7445 - mae: 2.5790 - val_loss: 22.0945 - val_mae: 3.4396\n",
            "Epoch 12/75\n",
            "41/41 [==============================] - 0s 2ms/step - loss: 13.1007 - mae: 2.5345 - val_loss: 22.3306 - val_mae: 3.4235\n",
            "Epoch 13/75\n",
            "41/41 [==============================] - 0s 3ms/step - loss: 12.4492 - mae: 2.4760 - val_loss: 22.4274 - val_mae: 3.3810\n",
            "Epoch 14/75\n",
            "41/41 [==============================] - 0s 3ms/step - loss: 12.1229 - mae: 2.4103 - val_loss: 22.8078 - val_mae: 3.3985\n",
            "Epoch 15/75\n",
            "41/41 [==============================] - 0s 2ms/step - loss: 11.3503 - mae: 2.4187 - val_loss: 22.1959 - val_mae: 3.2847\n",
            "Epoch 16/75\n",
            "41/41 [==============================] - 0s 2ms/step - loss: 11.0464 - mae: 2.3339 - val_loss: 21.9625 - val_mae: 3.2665\n",
            "Epoch 17/75\n",
            "41/41 [==============================] - 0s 2ms/step - loss: 10.5706 - mae: 2.3258 - val_loss: 22.8185 - val_mae: 3.2809\n",
            "Epoch 18/75\n",
            "41/41 [==============================] - 0s 2ms/step - loss: 10.3009 - mae: 2.2565 - val_loss: 22.8338 - val_mae: 3.2538\n",
            "Epoch 19/75\n",
            "41/41 [==============================] - 0s 2ms/step - loss: 10.0554 - mae: 2.2781 - val_loss: 23.2522 - val_mae: 3.2956\n",
            "Epoch 20/75\n",
            "41/41 [==============================] - 0s 2ms/step - loss: 9.9266 - mae: 2.2650 - val_loss: 22.8471 - val_mae: 3.1881\n",
            "Epoch 21/75\n",
            "41/41 [==============================] - 0s 2ms/step - loss: 9.5854 - mae: 2.1961 - val_loss: 22.7816 - val_mae: 3.1769\n",
            "Epoch 22/75\n",
            "41/41 [==============================] - 0s 2ms/step - loss: 9.3997 - mae: 2.1650 - val_loss: 24.9500 - val_mae: 3.3782\n",
            "Epoch 23/75\n",
            "41/41 [==============================] - 0s 2ms/step - loss: 9.3210 - mae: 2.2036 - val_loss: 22.2760 - val_mae: 3.0992\n",
            "Epoch 24/75\n",
            "41/41 [==============================] - 0s 2ms/step - loss: 8.9918 - mae: 2.1259 - val_loss: 22.6661 - val_mae: 3.1531\n",
            "Epoch 25/75\n",
            "41/41 [==============================] - 0s 2ms/step - loss: 8.8845 - mae: 2.1019 - val_loss: 23.6029 - val_mae: 3.2456\n",
            "Epoch 26/75\n",
            "41/41 [==============================] - 0s 2ms/step - loss: 8.9456 - mae: 2.1483 - val_loss: 23.1459 - val_mae: 3.1274\n",
            "Epoch 27/75\n",
            "41/41 [==============================] - 0s 2ms/step - loss: 8.6321 - mae: 2.0641 - val_loss: 24.3901 - val_mae: 3.2946\n",
            "Epoch 28/75\n",
            "41/41 [==============================] - 0s 2ms/step - loss: 8.5340 - mae: 2.0827 - val_loss: 22.8532 - val_mae: 3.0857\n",
            "Epoch 29/75\n",
            "41/41 [==============================] - 0s 2ms/step - loss: 8.4252 - mae: 2.0703 - val_loss: 24.0468 - val_mae: 3.3127\n",
            "Epoch 30/75\n",
            "41/41 [==============================] - 0s 2ms/step - loss: 8.4559 - mae: 2.0818 - val_loss: 22.3063 - val_mae: 3.0928\n",
            "Epoch 31/75\n",
            "41/41 [==============================] - 0s 2ms/step - loss: 8.2379 - mae: 2.0467 - val_loss: 20.9949 - val_mae: 2.9588\n",
            "Epoch 32/75\n",
            "41/41 [==============================] - 0s 2ms/step - loss: 8.1810 - mae: 2.0200 - val_loss: 22.1375 - val_mae: 2.9980\n",
            "Epoch 33/75\n",
            "41/41 [==============================] - 0s 2ms/step - loss: 8.1939 - mae: 2.0359 - val_loss: 23.4973 - val_mae: 3.1998\n",
            "Epoch 34/75\n",
            "41/41 [==============================] - 0s 2ms/step - loss: 8.1815 - mae: 2.0365 - val_loss: 21.1162 - val_mae: 3.0011\n",
            "Epoch 35/75\n",
            "41/41 [==============================] - 0s 2ms/step - loss: 7.7528 - mae: 1.9904 - val_loss: 21.7987 - val_mae: 3.0312\n",
            "Epoch 36/75\n",
            "41/41 [==============================] - 0s 2ms/step - loss: 7.6401 - mae: 1.9574 - val_loss: 21.6654 - val_mae: 3.0828\n",
            "Epoch 37/75\n",
            "41/41 [==============================] - 0s 2ms/step - loss: 7.7009 - mae: 1.9579 - val_loss: 20.8074 - val_mae: 3.0113\n",
            "Epoch 38/75\n",
            "41/41 [==============================] - 0s 2ms/step - loss: 7.5125 - mae: 1.9422 - val_loss: 19.9689 - val_mae: 2.8869\n",
            "Epoch 39/75\n",
            "41/41 [==============================] - 0s 2ms/step - loss: 7.5090 - mae: 1.9517 - val_loss: 20.9739 - val_mae: 2.9441\n",
            "Epoch 40/75\n",
            "41/41 [==============================] - 0s 2ms/step - loss: 7.4676 - mae: 1.9355 - val_loss: 22.6215 - val_mae: 3.1692\n",
            "Epoch 41/75\n",
            "41/41 [==============================] - 0s 2ms/step - loss: 7.3692 - mae: 1.9258 - val_loss: 19.9597 - val_mae: 2.8255\n",
            "Epoch 42/75\n",
            "41/41 [==============================] - 0s 2ms/step - loss: 7.2259 - mae: 1.9053 - val_loss: 19.6475 - val_mae: 2.8418\n",
            "Epoch 43/75\n",
            "41/41 [==============================] - 0s 2ms/step - loss: 7.1995 - mae: 1.9024 - val_loss: 20.5151 - val_mae: 2.8672\n",
            "Epoch 44/75\n",
            "41/41 [==============================] - 0s 2ms/step - loss: 7.1047 - mae: 1.8998 - val_loss: 19.8939 - val_mae: 2.9013\n",
            "Epoch 45/75\n",
            "41/41 [==============================] - 0s 2ms/step - loss: 7.2490 - mae: 1.9113 - val_loss: 19.6299 - val_mae: 2.9159\n",
            "Epoch 46/75\n",
            "41/41 [==============================] - 0s 2ms/step - loss: 7.0614 - mae: 1.8671 - val_loss: 18.8675 - val_mae: 2.8177\n",
            "Epoch 47/75\n",
            "41/41 [==============================] - 0s 2ms/step - loss: 7.1963 - mae: 1.9218 - val_loss: 20.1149 - val_mae: 2.9837\n",
            "Epoch 48/75\n",
            "41/41 [==============================] - 0s 2ms/step - loss: 6.7847 - mae: 1.8690 - val_loss: 19.1607 - val_mae: 2.8353\n",
            "Epoch 49/75\n",
            "41/41 [==============================] - 0s 2ms/step - loss: 6.8937 - mae: 1.8550 - val_loss: 18.8214 - val_mae: 2.8010\n",
            "Epoch 50/75\n",
            "41/41 [==============================] - 0s 2ms/step - loss: 6.5720 - mae: 1.8282 - val_loss: 18.3645 - val_mae: 2.7543\n",
            "Epoch 51/75\n",
            "41/41 [==============================] - 0s 2ms/step - loss: 6.7821 - mae: 1.8683 - val_loss: 18.1718 - val_mae: 2.7921\n",
            "Epoch 52/75\n",
            "41/41 [==============================] - 0s 2ms/step - loss: 6.9651 - mae: 1.8231 - val_loss: 18.4844 - val_mae: 2.8351\n",
            "Epoch 53/75\n",
            "41/41 [==============================] - 0s 2ms/step - loss: 6.4685 - mae: 1.8345 - val_loss: 19.1067 - val_mae: 2.8115\n",
            "Epoch 54/75\n",
            "41/41 [==============================] - 0s 3ms/step - loss: 6.3505 - mae: 1.7926 - val_loss: 18.8024 - val_mae: 2.8145\n",
            "Epoch 55/75\n",
            "41/41 [==============================] - 0s 2ms/step - loss: 6.4940 - mae: 1.8298 - val_loss: 19.9272 - val_mae: 2.9563\n",
            "Epoch 56/75\n",
            "41/41 [==============================] - 0s 2ms/step - loss: 6.2892 - mae: 1.7880 - val_loss: 18.1155 - val_mae: 2.7187\n",
            "Epoch 57/75\n",
            "41/41 [==============================] - 0s 2ms/step - loss: 6.3200 - mae: 1.8087 - val_loss: 19.0354 - val_mae: 2.8908\n",
            "Epoch 58/75\n",
            "41/41 [==============================] - 0s 2ms/step - loss: 6.2352 - mae: 1.7938 - val_loss: 17.2161 - val_mae: 2.7220\n",
            "Epoch 59/75\n",
            "41/41 [==============================] - 0s 2ms/step - loss: 6.0187 - mae: 1.7468 - val_loss: 17.8744 - val_mae: 2.8211\n",
            "Epoch 60/75\n",
            "41/41 [==============================] - 0s 2ms/step - loss: 6.2371 - mae: 1.7847 - val_loss: 17.6527 - val_mae: 2.7232\n",
            "Epoch 61/75\n",
            "41/41 [==============================] - 0s 2ms/step - loss: 6.0414 - mae: 1.7627 - val_loss: 17.0007 - val_mae: 2.7100\n",
            "Epoch 62/75\n",
            "41/41 [==============================] - 0s 3ms/step - loss: 6.0954 - mae: 1.7649 - val_loss: 16.2303 - val_mae: 2.6089\n",
            "Epoch 63/75\n",
            "41/41 [==============================] - 0s 3ms/step - loss: 5.9352 - mae: 1.7312 - val_loss: 17.9010 - val_mae: 2.7321\n",
            "Epoch 64/75\n",
            "41/41 [==============================] - 0s 2ms/step - loss: 5.6144 - mae: 1.6914 - val_loss: 17.3010 - val_mae: 2.6971\n",
            "Epoch 65/75\n",
            "41/41 [==============================] - 0s 3ms/step - loss: 5.6285 - mae: 1.6961 - val_loss: 17.3162 - val_mae: 2.7605\n",
            "Epoch 66/75\n",
            "41/41 [==============================] - 0s 2ms/step - loss: 5.5953 - mae: 1.6927 - val_loss: 16.9583 - val_mae: 2.7203\n",
            "Epoch 67/75\n",
            "41/41 [==============================] - 0s 2ms/step - loss: 5.5669 - mae: 1.7130 - val_loss: 16.5681 - val_mae: 2.6538\n",
            "Epoch 68/75\n",
            "41/41 [==============================] - 0s 2ms/step - loss: 5.3676 - mae: 1.6841 - val_loss: 16.7378 - val_mae: 2.6955\n",
            "Epoch 69/75\n",
            "41/41 [==============================] - 0s 2ms/step - loss: 5.4920 - mae: 1.6811 - val_loss: 17.0497 - val_mae: 2.7072\n",
            "Epoch 70/75\n",
            "41/41 [==============================] - 0s 2ms/step - loss: 5.2878 - mae: 1.6630 - val_loss: 16.6502 - val_mae: 2.7930\n",
            "Epoch 71/75\n",
            "41/41 [==============================] - 0s 2ms/step - loss: 5.2334 - mae: 1.6391 - val_loss: 15.0861 - val_mae: 2.5483\n",
            "Epoch 72/75\n",
            "41/41 [==============================] - 0s 2ms/step - loss: 5.2372 - mae: 1.6628 - val_loss: 16.1068 - val_mae: 2.7657\n",
            "Epoch 73/75\n",
            "41/41 [==============================] - 0s 2ms/step - loss: 5.3776 - mae: 1.6570 - val_loss: 16.1651 - val_mae: 2.6804\n",
            "Epoch 74/75\n",
            "41/41 [==============================] - 0s 2ms/step - loss: 5.0722 - mae: 1.6217 - val_loss: 16.0597 - val_mae: 2.7130\n",
            "Epoch 75/75\n",
            "41/41 [==============================] - 0s 2ms/step - loss: 4.9862 - mae: 1.5952 - val_loss: 15.9264 - val_mae: 2.6611\n"
          ],
          "name": "stdout"
        },
        {
          "output_type": "execute_result",
          "data": {
            "text/plain": [
              "<tensorflow.python.keras.callbacks.History at 0x7f8e7496f0b8>"
            ]
          },
          "metadata": {
            "tags": []
          },
          "execution_count": 6
        }
      ]
    },
    {
      "cell_type": "markdown",
      "metadata": {
        "colab_type": "text",
        "id": "sYJ8t_ezHP4W"
      },
      "source": [
        "### Hyperparameter Tuning Approaches:\n",
        "\n",
        "#### 1) Babysitting AKA \"Grad Student Descent\".\n",
        "\n",
        "If you fiddled with any hyperparameters yesterday, this is basically what you did. This approach is 100% manual and is pretty common among researchers where finding that 1 exact specification that jumps your model to a level of accuracy never seen before is the difference between publishing and not publishing a paper. Of course the professors don't do this themselves, that's grunt work. This is also known as the fiddle with hyperparameters until you run out of time method.\n",
        "\n",
        "#### 2) Grid Search\n",
        "\n",
        "Grid Search is the Grad Student galaxy brain realization of: why don't I just specify all the experiments I want to run and let the computer try every possible combination of them while I go and grab lunch. This has a specific downside in that if I specify 5 hyperparameters with 5 options each then I've just created 5^5 combinations of hyperparameters to check. Which means that I have to train 3125 different versions of my model Then if I use 5-fold Cross Validation on that then my model has to run 15,525 times. This is the brute-force method of hyperparameter tuning, but it can be very profitable if done wisely. \n",
        "\n",
        "When using Grid Search here's what I suggest: don't use it to test combinations of different hyperparameters, only use it to test different specifications of **a single** hyperparameter. It's rare that combinations between different hyperparameters lead to big performance gains. You'll get 90-95% of the way there if you just Grid Search one parameter and take the best result, then retain that best result while you test another, and then retain the best specification from that while you train another. This at least makes the situation much more manageable and leads to pretty good results. \n",
        "\n",
        "#### 3) Random Search\n",
        "\n",
        "Do Grid Search for a couple of hours and you'll say to yourself - \"There's got to be a better way.\" Enter Random Search. For Random search you specify a hyperparameter space and it picks specifications from that randomly, tries them out, gives you the best results and says - That's going to have to be good enough, go home and spend time with your family. \n",
        "\n",
        "Grid Search treats every parameter as if it was equally important, but this just isn't the case, some are known to move the needle a lot more than others (we'll talk about that in a minute). Random Search allows searching to be specified along the most important parameter and experiments less along the dimensions of less important hyperparameters. The downside of Random search is that it won't find the absolute best hyperparameters, but it is much less costly to perform than Grid Search. \n",
        "\n",
        "#### 4) Bayesian Methods\n",
        "\n",
        "One thing that can make more manual methods like babysitting and gridsearch effective is that as the experimenter sees results he can then make updates to his future searches taking into account the results of past specifications. If only we could hyperparameter tune our hyperparameter tuning. Well, we kind of can. Enter Bayesian Optimization. Neural Networks are like an optimization problem within an optimization problem, and Bayesian Optimization is a search strategy that tries to take into account the results of past searches in order to improve future ones. Check out the new library `keras-tuner` for easy implementations of Bayesian methods. \n"
      ]
    },
    {
      "cell_type": "markdown",
      "metadata": {
        "colab_type": "text",
        "id": "HfQ7D043OMMn"
      },
      "source": [
        "## What Hyperparameters are there to test?\n",
        "\n",
        "- batch_size\n",
        "- training epochs\n",
        "- optimization algorithms\n",
        "- learning rate\n",
        "- momentum\n",
        "- activation functions\n",
        "- dropout regularization\n",
        "- number of neurons in the hidden layer\n",
        "\n",
        "There are more, but these are the most important."
      ]
    },
    {
      "cell_type": "markdown",
      "metadata": {
        "id": "tKDueliM-7TA",
        "colab_type": "text"
      },
      "source": [
        "## Follow Along"
      ]
    },
    {
      "cell_type": "markdown",
      "metadata": {
        "colab_type": "text",
        "id": "Mri5-kXzVKAa"
      },
      "source": [
        "## Batch Size\n",
        "\n",
        "Batch size determines how many observations the model is shown before it calculates loss/error and updates the model weights via gradient descent. You're looking for a sweet spot here where you're showing it enough observations that you have enough information to updates the weights, but not such a large batch size that you don't get a lot of weight update iterations performed in a given epoch. Feed-forward Neural Networks aren't as sensitive to bach_size as other networks, but it is still an important hyperparameter to tune. Smaller batch sizes will also take longer to train. \n",
        "\n",
        "Traditionally, batch size is set in powers of 2 starting at 32 up to 512. Keras defaults to a batch size of 32 if you do not specify it. Yann LeCun famously Twitted: \n",
        "\n",
        "> Training with large minibatches is bad for your health.\n",
        "More importantly, it's bad for your test error.\n",
        "Friends dont let friends use minibatches larger than 32.\n",
        "\n",
        "Check out this paper for more reference on his tweet. https://arxiv.org/abs/1804.07612. \n",
        "\n",
        "Check out this SO question on why batch size is typically set in powers of two: https://datascience.stackexchange.com/questions/20179/what-is-the-advantage-of-keeping-batch-size-a-power-of-2\n",
        "\n"
      ]
    },
    {
      "cell_type": "code",
      "metadata": {
        "colab_type": "code",
        "id": "2smXfriNAGn7",
        "outputId": "da919066-1e05-426a-f9df-1011062959b9",
        "colab": {
          "base_uri": "https://localhost:8080/",
          "height": 141
        }
      },
      "source": [
        "import numpy\n",
        "import pandas as pd\n",
        "from sklearn.model_selection import GridSearchCV\n",
        "from tensorflow.keras.models import Sequential\n",
        "from tensorflow.keras.layers import Dense\n",
        "from tensorflow.keras.wrappers.scikit_learn import KerasClassifier\n",
        "\n",
        "# fix random seed for reproducibility\n",
        "seed = 7\n",
        "numpy.random.seed(seed)\n",
        "\n",
        "# load dataset\n",
        "url =\"https://raw.githubusercontent.com/jbrownlee/Datasets/master/pima-indians-diabetes.data.csv\"\n",
        "\n",
        "dataset = pd.read_csv(url, header=None).values\n",
        "\n",
        "# split into input (X) and output (Y) variables\n",
        "X = dataset[:,0:8]\n",
        "Y = dataset[:,8]\n",
        "\n",
        "# Function to create model, required for KerasClassifier\n",
        "def create_model():\n",
        "    # create model\n",
        "    model = Sequential()\n",
        "    model.add(Dense(12, input_dim=8, activation='relu'))\n",
        "    model.add(Dense(1, activation='sigmoid'))\n",
        "    # Compile model\n",
        "    model.compile(loss='binary_crossentropy', optimizer='adam', metrics=['accuracy'])\n",
        "    return model\n",
        "\n",
        "# create model\n",
        "model = KerasClassifier(build_fn=create_model, verbose=0)\n",
        "\n",
        "# define the grid search parameters\n",
        "# batch_size = [10, 20, 40, 60, 80, 100]\n",
        "# param_grid = dict(batch_size=batch_size, epochs=epochs)\n",
        "\n",
        "# define the grid search parameters\n",
        "param_grid = {'batch_size': [10, 20, 40, 60, 80, 100],\n",
        "              'epochs': [20]}\n",
        "\n",
        "# Create Grid Search\n",
        "grid = GridSearchCV(estimator=model, param_grid=param_grid, n_jobs=1)\n",
        "grid_result = grid.fit(X, Y)\n",
        "\n",
        "# Report Results\n",
        "print(f\"Best: {grid_result.best_score_} using {grid_result.best_params_}\")\n",
        "means = grid_result.cv_results_['mean_test_score']\n",
        "stds = grid_result.cv_results_['std_test_score']\n",
        "params = grid_result.cv_results_['params']\n",
        "for mean, stdev, param in zip(means, stds, params):\n",
        "    print(f\"Means: {mean}, Stdev: {stdev} with: {param}\") "
      ],
      "execution_count": 7,
      "outputs": [
        {
          "output_type": "stream",
          "text": [
            "Best: 0.6563364744186402 using {'batch_size': 10, 'epochs': 20}\n",
            "Means: 0.6563364744186402, Stdev: 0.05028251331682196 with: {'batch_size': 10, 'epochs': 20}\n",
            "Means: 0.578134298324585, Stdev: 0.03697206866146478 with: {'batch_size': 20, 'epochs': 20}\n",
            "Means: 0.6328240513801575, Stdev: 0.04799576660406675 with: {'batch_size': 40, 'epochs': 20}\n",
            "Means: 0.6264239072799682, Stdev: 0.06047551816622139 with: {'batch_size': 60, 'epochs': 20}\n",
            "Means: 0.6328919410705567, Stdev: 0.03717177910762109 with: {'batch_size': 80, 'epochs': 20}\n",
            "Means: 0.5703336000442505, Stdev: 0.04155762953779913 with: {'batch_size': 100, 'epochs': 20}\n"
          ],
          "name": "stdout"
        }
      ]
    },
    {
      "cell_type": "markdown",
      "metadata": {
        "colab_type": "text",
        "id": "EKcuY6OiaLfz"
      },
      "source": [
        "## Optimizer\n",
        "\n",
        "Remember that there's a different optimizers [optimizers](https://keras.io/optimizers/). At some point, take some time to read up on them a little bit. \"adam\" usually gives the best results. The thing to know about choosing an optimizer is that different optimizers have different hyperparameters like learning rate, momentum, etc. So based on the optimizer you choose you might also have to tune the learning rate and momentum of those optimizers after that. "
      ]
    },
    {
      "cell_type": "markdown",
      "metadata": {
        "colab_type": "text",
        "id": "DG3wq5iOaLig"
      },
      "source": [
        "## Learning Rate\n",
        "\n",
        "Remember that the Learning Rate is a hyperparameter that is specific to your gradient-descent based optimizer selection. A learning rate that is too high will cause divergent behavior, but a Learning Rate that is too low will fail to converge, again, you're looking for the sweet spot. I would start out tuning learning rates by orders of magnitude: [.001, .01, .1, .2, .3, .5] etc. I wouldn't go above .5, but you can try it and see what the behavior is like. \n",
        "\n",
        "Once you have narrowed it down, make the window even smaller and try it again. If after running the above specification your model reports that .1 is the best optimizer, then you should probably try things like [.05, .08, .1, .12, .15] to try and narrow it down. \n",
        "\n",
        "It can also be good to tune the number of epochs in combination with the learning rate since the number of iterations that you allow the learning rate to reach the minimum can determine if you have let it run long enough to converge to the minimum. "
      ]
    },
    {
      "cell_type": "code",
      "metadata": {
        "id": "gZ0d5OP0-7TG",
        "colab_type": "code",
        "colab": {
          "base_uri": "https://localhost:8080/",
          "height": 105
        },
        "outputId": "455a20a7-0f4a-4aa3-a1e8-f02ce88ffb4d"
      },
      "source": [
        "from tensorflow.keras.optimizers import Adam\n",
        "\n",
        "# Function to create model, required for KerasClassifier\n",
        "def create_model(lr=0.01):\n",
        "    # create model\n",
        "    opt = Adam(lr=lr)\n",
        "    model = Sequential()\n",
        "    model.add(Dense(12, input_dim=8, activation='relu'))\n",
        "    model.add(Dense(1, activation='sigmoid'))\n",
        "    # Compile model\n",
        "    model.compile(loss='binary_crossentropy', optimizer='adam', metrics=['accuracy'])\n",
        "    return model\n",
        "\n",
        "# create model\n",
        "model = KerasClassifier(build_fn=create_model, verbose=0)\n",
        "\n",
        "# define the grid search parameters\n",
        "# batch_size = [10, 20, 40, 60, 80, 100]\n",
        "# param_grid = dict(batch_size=batch_size, epochs=epochs)\n",
        "\n",
        "# define the grid search parameters\n",
        "param_grid = {'batch_size': [8],\n",
        "              'epochs': [20],\n",
        "              'lr': [.001, .01, .1, .2]\n",
        "              }\n",
        "\n",
        "# Create Grid Search\n",
        "grid = GridSearchCV(estimator=model, param_grid=param_grid, n_jobs=1)\n",
        "grid_result = grid.fit(X, Y)\n",
        "\n",
        "# Report Results\n",
        "print(f\"Best: {grid_result.best_score_} using {grid_result.best_params_}\")\n",
        "means = grid_result.cv_results_['mean_test_score']\n",
        "stds = grid_result.cv_results_['std_test_score']\n",
        "params = grid_result.cv_results_['params']\n",
        "for mean, stdev, param in zip(means, stds, params):\n",
        "    print(f\"Means: {mean}, Stdev: {stdev} with: {param}\") "
      ],
      "execution_count": 8,
      "outputs": [
        {
          "output_type": "stream",
          "text": [
            "Best: 0.6680247902870178 using {'batch_size': 8, 'epochs': 20, 'lr': 0.2}\n",
            "Means: 0.6432730674743652, Stdev: 0.05934119010144996 with: {'batch_size': 8, 'epochs': 20, 'lr': 0.001}\n",
            "Means: 0.6405398607254028, Stdev: 0.06845368267608952 with: {'batch_size': 8, 'epochs': 20, 'lr': 0.01}\n",
            "Means: 0.6471776604652405, Stdev: 0.02311537941242368 with: {'batch_size': 8, 'epochs': 20, 'lr': 0.1}\n",
            "Means: 0.6680247902870178, Stdev: 0.03347495306239252 with: {'batch_size': 8, 'epochs': 20, 'lr': 0.2}\n"
          ],
          "name": "stdout"
        }
      ]
    },
    {
      "cell_type": "markdown",
      "metadata": {
        "colab_type": "text",
        "id": "gNTBUWd1aLlA"
      },
      "source": [
        "## Momentum\n",
        "\n",
        "Momentum is a hyperparameter that is more commonly associated with Stochastic Gradient Descent. SGD is a common optimizer because it's what people understand and know, but I doubt it will get you the best results, you can try hyperparameter tuning its attributes and see if you can beat the performance from adam. Momentum is a property that decides the willingness of an optimizer to overshoot the minimum. Imagine a ball rolling down one side of a bowl and then up the opposite side a little bit before settling back to the bottom. The purpose of momentum is to try and escale local minima."
      ]
    },
    {
      "cell_type": "markdown",
      "metadata": {
        "colab_type": "text",
        "id": "xnEG-bCJaLnZ"
      },
      "source": [
        "## Activation Functions\n",
        "\n",
        "We've talked about this a little bit, typically you'l want to use ReLU for hidden layers and either Sigmoid, or Softmax for output layers of binary and multi-class classification implementations respectively, but try other activation functions and see if you can get any better results with sigmoid or tanh or something. There are a lot of activation functions that we haven't really talked about. Maybe you'll get good results with them. Maybe you won't. :) <https://keras.io/activations/>"
      ]
    },
    {
      "cell_type": "markdown",
      "metadata": {
        "colab_type": "text",
        "id": "oul9sPq-dU-h"
      },
      "source": [
        "## Network Weight Initialization\n",
        "\n",
        "You saw how big of an effect the way that we initialize our network's weights can have on our results. There are **a lot** of what are called initialization modes. I don't understand all of them, but they can have a big affect on your model's initial accuracy. Your model will get further with less epochs if you initialize it with weights that are well suited to the problem you're trying to solve.\n",
        "\n",
        "`init_mode = ['uniform', 'lecun_uniform', 'normal', 'zero', 'glorot_normal', 'glorot_uniform', 'he_normal', 'he_uniform']`"
      ]
    },
    {
      "cell_type": "markdown",
      "metadata": {
        "colab_type": "text",
        "id": "bqtEuxeQaLqE"
      },
      "source": [
        "## Dropout Regularization and the Weight Constraint\n",
        "\n",
        "the Dropout Regularization value is a percentage of neurons that you want to be randomly deactivated during training. The weight constraint is a second regularization parameter that works in tandem with dropout regularization. You should tune these two values at the same time. \n",
        "\n",
        "Using dropout on visible vs hidden layers might have a different effect. Using dropout on hidden layers might not have any effect while using dropout on hidden layers might have a substantial effect. You don't necessarily need to turn use dropout unless you see that your model has overfitting and generalizability problems."
      ]
    },
    {
      "cell_type": "markdown",
      "metadata": {
        "colab_type": "text",
        "id": "P2c5Cv6oaLtO"
      },
      "source": [
        "## Neurons in Hidden Layer \n",
        "\n",
        "Remember that when we only had a single perceptron our model was only able to fit to linearly separable data, but as we have added layers and nodes to those layers our network has become a powerhouse of fitting nonlinearity in data. The larger the network and the more nodes generally the stronger the network's capacity to fit nonlinear patterns in data. The more nodes and layers the longer it will take to train a network, and higher the probability of overfitting. The larger your network gets the more you'll need dropout regularization or other regularization techniques to keep it in check. \n",
        "\n",
        "Typically depth (more layers) is more important than width (more nodes) for neural networks. This is part of why Deep Learning is so highly touted. Certain deep learning architectures have truly been huge breakthroughs for certain machine learning tasks. \n",
        "\n",
        "You might borrow ideas from other network architectures. For example if I was doing image recognition and I wasn't taking cues from state of the art architectures like resnet, alexnet, googlenet, etc. Then I'm probably going to have to do a lot more experimentation on my own before I find something that works.\n",
        "\n",
        "There are some heuristics, but I am highly skeptical of them. I think you're better off experimenting on your own and forming your own intuition for these kinds of problems. \n",
        "\n",
        "- https://machinelearningmastery.com/how-to-configure-the-number-of-layers-and-nodes-in-a-neural-network/"
      ]
    },
    {
      "cell_type": "markdown",
      "metadata": {
        "id": "ZId0zVfx-7TM",
        "colab_type": "text"
      },
      "source": [
        "## Challenge\n",
        "You will be expected to tune several hyperparameters in today's module project. "
      ]
    },
    {
      "cell_type": "markdown",
      "metadata": {
        "id": "dlUoAcCp-7TN",
        "colab_type": "text"
      },
      "source": [
        "# Experiment Tracking Framework (Learn)\n",
        "<a id=\"p2\"></a>"
      ]
    },
    {
      "cell_type": "markdown",
      "metadata": {
        "id": "0S6b3ooZ-7TN",
        "colab_type": "text"
      },
      "source": [
        "## Overview\n",
        "\n",
        "You will notice quickly that managing the results of all the experiments you are running becomes challenging. Which set of parameters did the best? Are my results today different than my results yesterday? Although we use Ipython Notebooks to work, the format is not well suited to logging experimental results. Enter experiment tracking frameworks like [Comet.ml](https://comet.ml) and [Weights and Biases](https://wandb.ai/).\n",
        "\n",
        "Those tools will help you track your experiments, store the results, and the code associated with those experiments. Experimental results can also be readily visualized to see changes in performance across any metric you care about. Data is sent to the tool as each epoch is completed, so you can also see if your model is converging. Let's check out Weights & Biases today. "
      ]
    },
    {
      "cell_type": "markdown",
      "metadata": {
        "id": "KE70LyXO-7TO",
        "colab_type": "text"
      },
      "source": [
        "## Follow Along\n",
        "\n",
        "Make sure you login into `wandb` in the terminal before running the next cell. "
      ]
    },
    {
      "cell_type": "code",
      "metadata": {
        "id": "EYHT0J7l-7TO",
        "colab_type": "code",
        "colab": {}
      },
      "source": [
        "import wandb\n",
        "from wandb.keras import WandbCallback"
      ],
      "execution_count": 0,
      "outputs": []
    },
    {
      "cell_type": "code",
      "metadata": {
        "colab_type": "code",
        "outputId": "cd063815-a0f1-46ce-a4e2-667cf9f0517d",
        "id": "SAMxhm9s-7TT",
        "colab": {
          "base_uri": "https://localhost:8080/",
          "height": 1000
        }
      },
      "source": [
        "from tensorflow.keras import regularizers\n",
        "from tensorflow.keras.layers import Dense, AlphaDropout\n",
        "wandb.init(project=wandb_project, entity=wandb_group) #Initializes and Experiment\n",
        "\n",
        "# Important Hyperparameters\n",
        "X =  x_train\n",
        "y =  y_train\n",
        "\n",
        "inputs = X.shape[1]\n",
        "wandb.config.epochs = 50\n",
        "wandb.config.batch_size = 32\n",
        "\n",
        "# Create Model\n",
        "model = Sequential()\n",
        "model.add(Dense(128, activation='relu', input_shape=(inputs,)))\n",
        "model.add(AlphaDropout(rate=1))\n",
        "model.add(Dense(128, activation='relu', kernel_regularizer=regularizers.l2(0.01)))\n",
        "model.add(AlphaDropout(rate=1))\n",
        "model.add(Dense(128, activation='relu', kernel_regularizer=regularizers.l2(0.01)))\n",
        "model.add(Dense(1))\n",
        "# Compile Model\n",
        "model.compile(optimizer='adam', loss='mse', metrics=['mse', 'mae'])\n",
        "\n",
        "# Fit Model\n",
        "model.fit(X, y, \n",
        "          validation_split=0.33, \n",
        "          epochs=wandb.config.epochs, \n",
        "          batch_size=wandb.config.batch_size, \n",
        "          callbacks=[WandbCallback()]\n",
        "         )"
      ],
      "execution_count": 15,
      "outputs": [
        {
          "output_type": "display_data",
          "data": {
            "text/html": [
              "\n",
              "                Logging results to <a href=\"https://wandb.com\" target=\"_blank\">Weights & Biases</a> <a href=\"https://docs.wandb.com/integrations/jupyter.html\" target=\"_blank\">(Documentation)</a>.<br/>\n",
              "                Project page: <a href=\"https://app.wandb.ai/ds8/ds13_inclass\" target=\"_blank\">https://app.wandb.ai/ds8/ds13_inclass</a><br/>\n",
              "                Run page: <a href=\"https://app.wandb.ai/ds8/ds13_inclass/runs/19powxr4\" target=\"_blank\">https://app.wandb.ai/ds8/ds13_inclass/runs/19powxr4</a><br/>\n",
              "            "
            ],
            "text/plain": [
              "<IPython.core.display.HTML object>"
            ]
          },
          "metadata": {
            "tags": []
          }
        },
        {
          "output_type": "stream",
          "text": [
            "Epoch 1/50\n",
            "9/9 [==============================] - 0s 21ms/step - loss: 520.5688 - mse: 518.0233 - mae: 20.9540 - val_loss: 547.0795 - val_mse: 544.5366 - val_mae: 21.0898\n",
            "Epoch 2/50\n",
            "9/9 [==============================] - 0s 12ms/step - loss: 404.3248 - mse: 401.7745 - mae: 17.9139 - val_loss: 377.8590 - val_mse: 375.2921 - val_mae: 16.7909\n",
            "Epoch 3/50\n",
            "9/9 [==============================] - 0s 10ms/step - loss: 229.9577 - mse: 227.3716 - mae: 12.6880 - val_loss: 161.8533 - val_mse: 159.2372 - val_mae: 10.1561\n",
            "Epoch 4/50\n",
            "9/9 [==============================] - 0s 9ms/step - loss: 100.3830 - mse: 97.7477 - mae: 7.8167 - val_loss: 90.7841 - val_mse: 88.1365 - val_mae: 7.3531\n",
            "Epoch 5/50\n",
            "9/9 [==============================] - 0s 10ms/step - loss: 63.8951 - mse: 61.2590 - mae: 5.8745 - val_loss: 70.4902 - val_mse: 67.8763 - val_mae: 5.9969\n",
            "Epoch 6/50\n",
            "9/9 [==============================] - 0s 10ms/step - loss: 41.6610 - mse: 39.0608 - mae: 4.6028 - val_loss: 61.1306 - val_mse: 58.5444 - val_mae: 5.2507\n",
            "Epoch 7/50\n",
            "9/9 [==============================] - 0s 10ms/step - loss: 33.1350 - mse: 30.5539 - mae: 4.0706 - val_loss: 43.0593 - val_mse: 40.4811 - val_mae: 4.2858\n",
            "Epoch 8/50\n",
            "9/9 [==============================] - 0s 11ms/step - loss: 25.4062 - mse: 22.8288 - mae: 3.5555 - val_loss: 34.8759 - val_mse: 32.3033 - val_mae: 4.0015\n",
            "Epoch 9/50\n",
            "9/9 [==============================] - 0s 10ms/step - loss: 22.6399 - mse: 20.0763 - mae: 3.3707 - val_loss: 32.5260 - val_mse: 29.9767 - val_mae: 3.6525\n",
            "Epoch 10/50\n",
            "9/9 [==============================] - 0s 10ms/step - loss: 20.1014 - mse: 17.5593 - mae: 3.0898 - val_loss: 30.3846 - val_mse: 27.8516 - val_mae: 3.4949\n",
            "Epoch 11/50\n",
            "9/9 [==============================] - 0s 10ms/step - loss: 18.7396 - mse: 16.2135 - mae: 2.9767 - val_loss: 28.5417 - val_mse: 26.0231 - val_mae: 3.3721\n",
            "Epoch 12/50\n",
            "9/9 [==============================] - 0s 12ms/step - loss: 17.6715 - mse: 15.1585 - mae: 2.8925 - val_loss: 26.8973 - val_mse: 24.3935 - val_mae: 3.2627\n",
            "Epoch 13/50\n",
            "9/9 [==============================] - 0s 11ms/step - loss: 16.4715 - mse: 13.9741 - mae: 2.8014 - val_loss: 25.2548 - val_mse: 22.7663 - val_mae: 3.1680\n",
            "Epoch 14/50\n",
            "9/9 [==============================] - 0s 10ms/step - loss: 15.5478 - mse: 13.0647 - mae: 2.7275 - val_loss: 24.3105 - val_mse: 21.8351 - val_mae: 3.0690\n",
            "Epoch 15/50\n",
            "9/9 [==============================] - 0s 10ms/step - loss: 14.9645 - mse: 12.4929 - mae: 2.6524 - val_loss: 24.2651 - val_mse: 21.8027 - val_mae: 3.0351\n",
            "Epoch 16/50\n",
            "9/9 [==============================] - 0s 10ms/step - loss: 14.1108 - mse: 11.6551 - mae: 2.5369 - val_loss: 23.1498 - val_mse: 20.7013 - val_mae: 2.9401\n",
            "Epoch 17/50\n",
            "9/9 [==============================] - 0s 10ms/step - loss: 13.5110 - mse: 11.0661 - mae: 2.4941 - val_loss: 22.1948 - val_mse: 19.7562 - val_mae: 2.8950\n",
            "Epoch 18/50\n",
            "9/9 [==============================] - 0s 10ms/step - loss: 12.8922 - mse: 10.4592 - mae: 2.4298 - val_loss: 21.8728 - val_mse: 19.4460 - val_mae: 2.8743\n",
            "Epoch 19/50\n",
            "9/9 [==============================] - 0s 10ms/step - loss: 12.3748 - mse: 9.9515 - mae: 2.3702 - val_loss: 21.4008 - val_mse: 18.9839 - val_mae: 2.8327\n",
            "Epoch 20/50\n",
            "9/9 [==============================] - 0s 10ms/step - loss: 11.9652 - mse: 9.5527 - mae: 2.3106 - val_loss: 20.8082 - val_mse: 18.4027 - val_mae: 2.8002\n",
            "Epoch 21/50\n",
            "9/9 [==============================] - 0s 11ms/step - loss: 11.5979 - mse: 9.1967 - mae: 2.2864 - val_loss: 20.4346 - val_mse: 18.0377 - val_mae: 2.7496\n",
            "Epoch 22/50\n",
            "9/9 [==============================] - 0s 13ms/step - loss: 11.2480 - mse: 8.8544 - mae: 2.2272 - val_loss: 19.9240 - val_mse: 17.5374 - val_mae: 2.6748\n",
            "Epoch 23/50\n",
            "9/9 [==============================] - 0s 11ms/step - loss: 11.0811 - mse: 8.7004 - mae: 2.2124 - val_loss: 19.5308 - val_mse: 17.1541 - val_mae: 2.7044\n",
            "Epoch 24/50\n",
            "9/9 [==============================] - 0s 10ms/step - loss: 10.5945 - mse: 8.2204 - mae: 2.1697 - val_loss: 19.3334 - val_mse: 16.9653 - val_mae: 2.6790\n",
            "Epoch 25/50\n",
            "9/9 [==============================] - 0s 9ms/step - loss: 10.3437 - mse: 7.9798 - mae: 2.1292 - val_loss: 18.8376 - val_mse: 16.4793 - val_mae: 2.6353\n",
            "Epoch 26/50\n",
            "9/9 [==============================] - 0s 8ms/step - loss: 10.0804 - mse: 7.7253 - mae: 2.1001 - val_loss: 19.0370 - val_mse: 16.6871 - val_mae: 2.6511\n",
            "Epoch 27/50\n",
            "9/9 [==============================] - 0s 9ms/step - loss: 9.7920 - mse: 7.4456 - mae: 2.0474 - val_loss: 18.8368 - val_mse: 16.4949 - val_mae: 2.6604\n",
            "Epoch 28/50\n",
            "9/9 [==============================] - 0s 10ms/step - loss: 9.8016 - mse: 7.4625 - mae: 2.0788 - val_loss: 18.5285 - val_mse: 16.1957 - val_mae: 2.6417\n",
            "Epoch 29/50\n",
            "9/9 [==============================] - 0s 10ms/step - loss: 9.4871 - mse: 7.1565 - mae: 2.0179 - val_loss: 18.4492 - val_mse: 16.1239 - val_mae: 2.6310\n",
            "Epoch 30/50\n",
            "9/9 [==============================] - 0s 11ms/step - loss: 9.3835 - mse: 7.0632 - mae: 1.9824 - val_loss: 18.0618 - val_mse: 15.7459 - val_mae: 2.5911\n",
            "Epoch 31/50\n",
            "9/9 [==============================] - 0s 8ms/step - loss: 9.1374 - mse: 6.8258 - mae: 1.9659 - val_loss: 18.1858 - val_mse: 15.8784 - val_mae: 2.5983\n",
            "Epoch 32/50\n",
            "9/9 [==============================] - 0s 10ms/step - loss: 9.0247 - mse: 6.7196 - mae: 1.9662 - val_loss: 17.8649 - val_mse: 15.5655 - val_mae: 2.5781\n",
            "Epoch 33/50\n",
            "9/9 [==============================] - 0s 7ms/step - loss: 8.8692 - mse: 6.5741 - mae: 1.9103 - val_loss: 18.0344 - val_mse: 15.7440 - val_mae: 2.5924\n",
            "Epoch 34/50\n",
            "9/9 [==============================] - 0s 10ms/step - loss: 8.9281 - mse: 6.6387 - mae: 1.9650 - val_loss: 17.3563 - val_mse: 15.0712 - val_mae: 2.5688\n",
            "Epoch 35/50\n",
            "9/9 [==============================] - 0s 7ms/step - loss: 8.4887 - mse: 6.2073 - mae: 1.8735 - val_loss: 17.7988 - val_mse: 15.5236 - val_mae: 2.5821\n",
            "Epoch 36/50\n",
            "9/9 [==============================] - 0s 7ms/step - loss: 8.5400 - mse: 6.2679 - mae: 1.8419 - val_loss: 17.7862 - val_mse: 15.5177 - val_mae: 2.6105\n",
            "Epoch 37/50\n",
            "9/9 [==============================] - 0s 7ms/step - loss: 8.2599 - mse: 5.9951 - mae: 1.8072 - val_loss: 17.5365 - val_mse: 15.2751 - val_mae: 2.5737\n",
            "Epoch 38/50\n",
            "9/9 [==============================] - 0s 8ms/step - loss: 8.1921 - mse: 5.9337 - mae: 1.8119 - val_loss: 17.3978 - val_mse: 15.1443 - val_mae: 2.5504\n",
            "Epoch 39/50\n",
            "9/9 [==============================] - 0s 7ms/step - loss: 8.0787 - mse: 5.8280 - mae: 1.8018 - val_loss: 17.3566 - val_mse: 15.1087 - val_mae: 2.5562\n",
            "Epoch 40/50\n",
            "9/9 [==============================] - 0s 11ms/step - loss: 7.9204 - mse: 5.6749 - mae: 1.7938 - val_loss: 17.2482 - val_mse: 15.0089 - val_mae: 2.5463\n",
            "Epoch 41/50\n",
            "9/9 [==============================] - 0s 10ms/step - loss: 7.9535 - mse: 5.7178 - mae: 1.7535 - val_loss: 17.1110 - val_mse: 14.8768 - val_mae: 2.5340\n",
            "Epoch 42/50\n",
            "9/9 [==============================] - 0s 10ms/step - loss: 7.8169 - mse: 5.5864 - mae: 1.7562 - val_loss: 16.9915 - val_mse: 14.7646 - val_mae: 2.5073\n",
            "Epoch 43/50\n",
            "9/9 [==============================] - 0s 7ms/step - loss: 7.6060 - mse: 5.3823 - mae: 1.7375 - val_loss: 17.4941 - val_mse: 15.2758 - val_mae: 2.5898\n",
            "Epoch 44/50\n",
            "9/9 [==============================] - 0s 10ms/step - loss: 7.5010 - mse: 5.2849 - mae: 1.7032 - val_loss: 16.9641 - val_mse: 14.7511 - val_mae: 2.5198\n",
            "Epoch 45/50\n",
            "9/9 [==============================] - 0s 10ms/step - loss: 7.5128 - mse: 5.3005 - mae: 1.7407 - val_loss: 16.6798 - val_mse: 14.4695 - val_mae: 2.5027\n",
            "Epoch 46/50\n",
            "9/9 [==============================] - 0s 7ms/step - loss: 7.4200 - mse: 5.2124 - mae: 1.6892 - val_loss: 16.8782 - val_mse: 14.6752 - val_mae: 2.5390\n",
            "Epoch 47/50\n",
            "9/9 [==============================] - 0s 9ms/step - loss: 7.1689 - mse: 4.9679 - mae: 1.6627 - val_loss: 16.6664 - val_mse: 14.4691 - val_mae: 2.4791\n",
            "Epoch 48/50\n",
            "9/9 [==============================] - 0s 7ms/step - loss: 7.3137 - mse: 5.1200 - mae: 1.6703 - val_loss: 16.9888 - val_mse: 14.7967 - val_mae: 2.5395\n",
            "Epoch 49/50\n",
            "9/9 [==============================] - 0s 7ms/step - loss: 7.2729 - mse: 5.0818 - mae: 1.6557 - val_loss: 17.3931 - val_mse: 15.2082 - val_mae: 2.6211\n",
            "Epoch 50/50\n",
            "9/9 [==============================] - 0s 7ms/step - loss: 7.2497 - mse: 5.0656 - mae: 1.6690 - val_loss: 16.9847 - val_mse: 14.8024 - val_mae: 2.5583\n"
          ],
          "name": "stdout"
        },
        {
          "output_type": "execute_result",
          "data": {
            "text/plain": [
              "<tensorflow.python.keras.callbacks.History at 0x7f8e6bc36ba8>"
            ]
          },
          "metadata": {
            "tags": []
          },
          "execution_count": 15
        }
      ]
    },
    {
      "cell_type": "markdown",
      "metadata": {
        "id": "ZI-aN0jM-7TV",
        "colab_type": "text"
      },
      "source": [
        "### Your Turn\n",
        "\n",
        "Pick a few hyparameters that we *have not* tuned. Using the same code above, try changing a few parameters you're interested in and submitting the results to weights & biases. :) "
      ]
    },
    {
      "cell_type": "code",
      "metadata": {
        "id": "KEKs1DBk-7TW",
        "colab_type": "code",
        "colab": {}
      },
      "source": [
        "wandb.init(project=wandb_project, entity=wand_group) #Initializes and Experiment\n",
        "\n",
        "wandb.config.epochs = 50\n",
        "wandb.config.batch_size = 10\n",
        "\n",
        "\n",
        "# Fit Model\n",
        "model.fit(\n",
        "          callbacks=[WandbCallback()]\n",
        "         )"
      ],
      "execution_count": 0,
      "outputs": []
    },
    {
      "cell_type": "markdown",
      "metadata": {
        "id": "qjxmIqJj-7TZ",
        "colab_type": "text"
      },
      "source": [
        "## Challenge\n",
        "\n",
        "You will be expected to use Weights & Biases to try to tune your model during your module assignment today. "
      ]
    },
    {
      "cell_type": "markdown",
      "metadata": {
        "id": "DWlbn3XC-7Ta",
        "colab_type": "text"
      },
      "source": [
        "# Hyperparameters with RandomSearchCV (Learn)"
      ]
    },
    {
      "cell_type": "markdown",
      "metadata": {
        "id": "v9HvOxEc-7Ta",
        "colab_type": "text"
      },
      "source": [
        "## Overview\n",
        "\n",
        "Basically `GridSearchCV` takes forever. You'll want to adopt a slightly more sophiscated strategy.\n",
        "\n",
        "Let's also take a look at an alternative with Keras-Tuner."
      ]
    },
    {
      "cell_type": "code",
      "metadata": {
        "id": "bj7JmTuj-7Tb",
        "colab_type": "code",
        "colab": {
          "base_uri": "https://localhost:8080/",
          "height": 552
        },
        "outputId": "60ca03d3-5f1a-494f-f6ae-9d487987ae82"
      },
      "source": [
        "!pip install keras-tuner"
      ],
      "execution_count": 16,
      "outputs": [
        {
          "output_type": "stream",
          "text": [
            "Collecting keras-tuner\n",
            "\u001b[?25l  Downloading https://files.pythonhosted.org/packages/a7/f7/4b41b6832abf4c9bef71a664dc563adb25afc5812831667c6db572b1a261/keras-tuner-1.0.1.tar.gz (54kB)\n",
            "\r\u001b[K     |██████                          | 10kB 19.9MB/s eta 0:00:01\r\u001b[K     |████████████                    | 20kB 1.7MB/s eta 0:00:01\r\u001b[K     |██████████████████              | 30kB 2.5MB/s eta 0:00:01\r\u001b[K     |████████████████████████        | 40kB 1.7MB/s eta 0:00:01\r\u001b[K     |██████████████████████████████  | 51kB 2.1MB/s eta 0:00:01\r\u001b[K     |████████████████████████████████| 61kB 2.0MB/s \n",
            "\u001b[?25hRequirement already satisfied: future in /usr/local/lib/python3.6/dist-packages (from keras-tuner) (0.16.0)\n",
            "Requirement already satisfied: numpy in /usr/local/lib/python3.6/dist-packages (from keras-tuner) (1.18.4)\n",
            "Requirement already satisfied: tabulate in /usr/local/lib/python3.6/dist-packages (from keras-tuner) (0.8.7)\n",
            "Collecting terminaltables\n",
            "  Downloading https://files.pythonhosted.org/packages/9b/c4/4a21174f32f8a7e1104798c445dacdc1d4df86f2f26722767034e4de4bff/terminaltables-3.1.0.tar.gz\n",
            "Collecting colorama\n",
            "  Downloading https://files.pythonhosted.org/packages/c9/dc/45cdef1b4d119eb96316b3117e6d5708a08029992b2fee2c143c7a0a5cc5/colorama-0.4.3-py2.py3-none-any.whl\n",
            "Requirement already satisfied: tqdm in /usr/local/lib/python3.6/dist-packages (from keras-tuner) (4.41.1)\n",
            "Requirement already satisfied: requests in /usr/local/lib/python3.6/dist-packages (from keras-tuner) (2.23.0)\n",
            "Requirement already satisfied: scipy in /usr/local/lib/python3.6/dist-packages (from keras-tuner) (1.4.1)\n",
            "Requirement already satisfied: scikit-learn in /usr/local/lib/python3.6/dist-packages (from keras-tuner) (0.22.2.post1)\n",
            "Requirement already satisfied: idna<3,>=2.5 in /usr/local/lib/python3.6/dist-packages (from requests->keras-tuner) (2.9)\n",
            "Requirement already satisfied: certifi>=2017.4.17 in /usr/local/lib/python3.6/dist-packages (from requests->keras-tuner) (2020.4.5.1)\n",
            "Requirement already satisfied: chardet<4,>=3.0.2 in /usr/local/lib/python3.6/dist-packages (from requests->keras-tuner) (3.0.4)\n",
            "Requirement already satisfied: urllib3!=1.25.0,!=1.25.1,<1.26,>=1.21.1 in /usr/local/lib/python3.6/dist-packages (from requests->keras-tuner) (1.24.3)\n",
            "Requirement already satisfied: joblib>=0.11 in /usr/local/lib/python3.6/dist-packages (from scikit-learn->keras-tuner) (0.14.1)\n",
            "Building wheels for collected packages: keras-tuner, terminaltables\n",
            "  Building wheel for keras-tuner (setup.py) ... \u001b[?25l\u001b[?25hdone\n",
            "  Created wheel for keras-tuner: filename=keras_tuner-1.0.1-cp36-none-any.whl size=73200 sha256=a5a58cc3f64afdab1f1821c087720e428ed7c4937ff0734f3bd6b241dba187d2\n",
            "  Stored in directory: /root/.cache/pip/wheels/b9/cc/62/52716b70dd90f3db12519233c3a93a5360bc672da1a10ded43\n",
            "  Building wheel for terminaltables (setup.py) ... \u001b[?25l\u001b[?25hdone\n",
            "  Created wheel for terminaltables: filename=terminaltables-3.1.0-cp36-none-any.whl size=15356 sha256=3612c600e78e4b55ec4cfba7add6794b1e25f3589a57b70e77eb46759f16cbc0\n",
            "  Stored in directory: /root/.cache/pip/wheels/30/6b/50/6c75775b681fb36cdfac7f19799888ef9d8813aff9e379663e\n",
            "Successfully built keras-tuner terminaltables\n",
            "Installing collected packages: terminaltables, colorama, keras-tuner\n",
            "Successfully installed colorama-0.4.3 keras-tuner-1.0.1 terminaltables-3.1.0\n"
          ],
          "name": "stdout"
        }
      ]
    },
    {
      "cell_type": "markdown",
      "metadata": {
        "id": "ZTgeUOqb-7Td",
        "colab_type": "text"
      },
      "source": [
        "## Follow Along"
      ]
    },
    {
      "cell_type": "code",
      "metadata": {
        "id": "BzXzEZeY-7Te",
        "colab_type": "code",
        "colab": {}
      },
      "source": [
        "from tensorflow import keras\n",
        "from tensorflow.keras import layers\n",
        "from kerastuner.tuners import RandomSearch\n",
        "\n",
        "\"\"\"\n",
        "This model Tunes:\n",
        "- Number of Neurons in the Hidden Layer\n",
        "- Learning Rate in Adam\n",
        "\n",
        "\"\"\"\n",
        "\n",
        "def build_model(hp):\n",
        "    model = keras.Sequential()\n",
        "    model.add(layers.Dense(units=hp.Int('units',\n",
        "                                        min_value=32,\n",
        "                                        max_value=512,\n",
        "                                        step=32),\n",
        "                           activation='relu'))\n",
        "    model.add(layers.Dense(1))\n",
        "    model.compile(\n",
        "        optimizer=keras.optimizers.Adam(\n",
        "            hp.Choice('learning_rate',\n",
        "                      values=[1e-2, 1e-3, 1e-4])),\n",
        "        loss='mse',\n",
        "        metrics=['mae'])\n",
        "    \n",
        "    return model"
      ],
      "execution_count": 0,
      "outputs": []
    },
    {
      "cell_type": "code",
      "metadata": {
        "id": "1Rg1yPBQ-7Tg",
        "colab_type": "code",
        "colab": {
          "base_uri": "https://localhost:8080/",
          "height": 34
        },
        "outputId": "120ab828-ccad-429d-c278-ad23c09fb61b"
      },
      "source": [
        "tuner = RandomSearch(\n",
        "    build_model,\n",
        "    objective='val_mae',\n",
        "    max_trials=5,\n",
        "    executions_per_trial=3,\n",
        "    directory='./keras-tuner-trial',\n",
        "    project_name='helloworld')"
      ],
      "execution_count": 26,
      "outputs": [
        {
          "output_type": "stream",
          "text": [
            "INFO:tensorflow:Reloading Oracle from existing project ./keras-tuner-trial/helloworld/oracle.json\n"
          ],
          "name": "stdout"
        }
      ]
    },
    {
      "cell_type": "code",
      "metadata": {
        "id": "YRMPM7HD-7Tj",
        "colab_type": "code",
        "colab": {
          "base_uri": "https://localhost:8080/",
          "height": 277
        },
        "outputId": "a7fd8d63-9ed5-49f1-f0c5-6a40d4fb0fa9"
      },
      "source": [
        "tuner.search_space_summary()"
      ],
      "execution_count": 27,
      "outputs": [
        {
          "output_type": "display_data",
          "data": {
            "text/html": [
              "<span style=\"color:#4527A0\"><h1 style=\"font-size:18px\">Search space summary</h1></span>"
            ],
            "text/plain": [
              "<IPython.core.display.HTML object>"
            ]
          },
          "metadata": {
            "tags": []
          }
        },
        {
          "output_type": "display_data",
          "data": {
            "text/html": [
              "<span style=\"color:cyan\"> |-Default search space size: 2</span>"
            ],
            "text/plain": [
              "<IPython.core.display.HTML object>"
            ]
          },
          "metadata": {
            "tags": []
          }
        },
        {
          "output_type": "display_data",
          "data": {
            "text/html": [
              "<span style=\"color:#7E57C2\"><h2 style=\"font-size:16px\">units (Int)</h2></span>"
            ],
            "text/plain": [
              "<IPython.core.display.HTML object>"
            ]
          },
          "metadata": {
            "tags": []
          }
        },
        {
          "output_type": "display_data",
          "data": {
            "text/html": [
              "<span style=\"color:cyan\"> |-default: None</span>"
            ],
            "text/plain": [
              "<IPython.core.display.HTML object>"
            ]
          },
          "metadata": {
            "tags": []
          }
        },
        {
          "output_type": "display_data",
          "data": {
            "text/html": [
              "<span style=\"color:blue\"> |-max_value: 512</span>"
            ],
            "text/plain": [
              "<IPython.core.display.HTML object>"
            ]
          },
          "metadata": {
            "tags": []
          }
        },
        {
          "output_type": "display_data",
          "data": {
            "text/html": [
              "<span style=\"color:cyan\"> |-min_value: 32</span>"
            ],
            "text/plain": [
              "<IPython.core.display.HTML object>"
            ]
          },
          "metadata": {
            "tags": []
          }
        },
        {
          "output_type": "display_data",
          "data": {
            "text/html": [
              "<span style=\"color:blue\"> |-sampling: None</span>"
            ],
            "text/plain": [
              "<IPython.core.display.HTML object>"
            ]
          },
          "metadata": {
            "tags": []
          }
        },
        {
          "output_type": "display_data",
          "data": {
            "text/html": [
              "<span style=\"color:cyan\"> |-step: 32</span>"
            ],
            "text/plain": [
              "<IPython.core.display.HTML object>"
            ]
          },
          "metadata": {
            "tags": []
          }
        },
        {
          "output_type": "display_data",
          "data": {
            "text/html": [
              "<span style=\"color:#7E57C2\"><h2 style=\"font-size:16px\">learning_rate (Choice)</h2></span>"
            ],
            "text/plain": [
              "<IPython.core.display.HTML object>"
            ]
          },
          "metadata": {
            "tags": []
          }
        },
        {
          "output_type": "display_data",
          "data": {
            "text/html": [
              "<span style=\"color:cyan\"> |-default: 0.01</span>"
            ],
            "text/plain": [
              "<IPython.core.display.HTML object>"
            ]
          },
          "metadata": {
            "tags": []
          }
        },
        {
          "output_type": "display_data",
          "data": {
            "text/html": [
              "<span style=\"color:blue\"> |-ordered: True</span>"
            ],
            "text/plain": [
              "<IPython.core.display.HTML object>"
            ]
          },
          "metadata": {
            "tags": []
          }
        },
        {
          "output_type": "display_data",
          "data": {
            "text/html": [
              "<span style=\"color:cyan\"> |-values: [0.01, 0.001, 0.0001]</span>"
            ],
            "text/plain": [
              "<IPython.core.display.HTML object>"
            ]
          },
          "metadata": {
            "tags": []
          }
        }
      ]
    },
    {
      "cell_type": "code",
      "metadata": {
        "id": "N37n7Iw3-7Tm",
        "colab_type": "code",
        "colab": {
          "base_uri": "https://localhost:8080/",
          "height": 1000
        },
        "outputId": "31a5e336-7125-4af7-94c6-52cd26b39463"
      },
      "source": [
        "tuner.search(X, y,\n",
        "             epochs=5,\n",
        "             validation_split=.15)"
      ],
      "execution_count": 28,
      "outputs": [
        {
          "output_type": "stream",
          "text": [
            "Epoch 1/5\n",
            "WARNING:tensorflow:Layer dense is casting an input tensor from dtype float64 to the layer's dtype of float32, which is new behavior in TensorFlow 2.  The layer has dtype float32 because it's dtype defaults to floatx.\n",
            "\n",
            "If you intended to run this layer in float32, you can safely ignore this warning. If in doubt, this warning is likely only an issue if you are porting a TensorFlow 1.X model to TensorFlow 2.\n",
            "\n",
            "To change all layers to have dtype float64 by default, call `tf.keras.backend.set_floatx('float64')`. To change just this layer, pass dtype='float64' to the layer constructor. If you are the author of this layer, you can disable autocasting by passing autocast=False to the base Layer constructor.\n",
            "\n",
            "11/11 [==============================] - 0s 14ms/step - loss: 450.2397 - mae: 19.2898 - val_loss: 365.0998 - val_mae: 16.7795\n",
            "Epoch 2/5\n",
            "11/11 [==============================] - 0s 5ms/step - loss: 188.0431 - mae: 11.2640 - val_loss: 131.0828 - val_mae: 8.9117\n",
            "Epoch 3/5\n",
            "11/11 [==============================] - 0s 6ms/step - loss: 82.3051 - mae: 7.0565 - val_loss: 73.2149 - val_mae: 6.6725\n",
            "Epoch 4/5\n",
            "11/11 [==============================] - 0s 5ms/step - loss: 39.3153 - mae: 4.5639 - val_loss: 31.9908 - val_mae: 4.1164\n",
            "Epoch 5/5\n",
            "11/11 [==============================] - 0s 6ms/step - loss: 27.8043 - mae: 3.7399 - val_loss: 28.3883 - val_mae: 3.8227\n",
            "Epoch 1/5\n",
            "WARNING:tensorflow:Layer dense is casting an input tensor from dtype float64 to the layer's dtype of float32, which is new behavior in TensorFlow 2.  The layer has dtype float32 because it's dtype defaults to floatx.\n",
            "\n",
            "If you intended to run this layer in float32, you can safely ignore this warning. If in doubt, this warning is likely only an issue if you are porting a TensorFlow 1.X model to TensorFlow 2.\n",
            "\n",
            "To change all layers to have dtype float64 by default, call `tf.keras.backend.set_floatx('float64')`. To change just this layer, pass dtype='float64' to the layer constructor. If you are the author of this layer, you can disable autocasting by passing autocast=False to the base Layer constructor.\n",
            "\n",
            "11/11 [==============================] - 0s 10ms/step - loss: 456.5734 - mae: 19.4123 - val_loss: 376.3943 - val_mae: 17.0668\n",
            "Epoch 2/5\n",
            "11/11 [==============================] - 0s 5ms/step - loss: 190.9973 - mae: 11.2890 - val_loss: 141.5110 - val_mae: 9.1345\n",
            "Epoch 3/5\n",
            "11/11 [==============================] - 0s 4ms/step - loss: 77.4648 - mae: 6.7998 - val_loss: 77.6041 - val_mae: 6.8636\n",
            "Epoch 4/5\n",
            "11/11 [==============================] - 0s 4ms/step - loss: 41.0885 - mae: 4.6876 - val_loss: 31.3949 - val_mae: 4.1788\n",
            "Epoch 5/5\n",
            "11/11 [==============================] - 0s 6ms/step - loss: 25.8676 - mae: 3.5787 - val_loss: 26.2504 - val_mae: 3.6605\n",
            "Epoch 1/5\n",
            "WARNING:tensorflow:Layer dense is casting an input tensor from dtype float64 to the layer's dtype of float32, which is new behavior in TensorFlow 2.  The layer has dtype float32 because it's dtype defaults to floatx.\n",
            "\n",
            "If you intended to run this layer in float32, you can safely ignore this warning. If in doubt, this warning is likely only an issue if you are porting a TensorFlow 1.X model to TensorFlow 2.\n",
            "\n",
            "To change all layers to have dtype float64 by default, call `tf.keras.backend.set_floatx('float64')`. To change just this layer, pass dtype='float64' to the layer constructor. If you are the author of this layer, you can disable autocasting by passing autocast=False to the base Layer constructor.\n",
            "\n",
            "11/11 [==============================] - 0s 10ms/step - loss: 451.1423 - mae: 19.2610 - val_loss: 351.0431 - val_mae: 16.4466\n",
            "Epoch 2/5\n",
            "11/11 [==============================] - 0s 5ms/step - loss: 175.3671 - mae: 10.8147 - val_loss: 125.9607 - val_mae: 8.7625\n",
            "Epoch 3/5\n",
            "11/11 [==============================] - 0s 6ms/step - loss: 78.1972 - mae: 6.8961 - val_loss: 69.4982 - val_mae: 6.5326\n",
            "Epoch 4/5\n",
            "11/11 [==============================] - 0s 5ms/step - loss: 36.4621 - mae: 4.2839 - val_loss: 33.9120 - val_mae: 4.0107\n",
            "Epoch 5/5\n",
            "11/11 [==============================] - 0s 5ms/step - loss: 28.5571 - mae: 3.6580 - val_loss: 27.9261 - val_mae: 3.7388\n"
          ],
          "name": "stdout"
        },
        {
          "output_type": "display_data",
          "data": {
            "text/html": [
              "<span style=\"color:#4527A0\"><h1 style=\"font-size:18px\">Trial complete</h1></span>"
            ],
            "text/plain": [
              "<IPython.core.display.HTML object>"
            ]
          },
          "metadata": {
            "tags": []
          }
        },
        {
          "output_type": "display_data",
          "data": {
            "text/html": [
              "<span style=\"color:#4527A0\"><h1 style=\"font-size:18px\">Trial summary</h1></span>"
            ],
            "text/plain": [
              "<IPython.core.display.HTML object>"
            ]
          },
          "metadata": {
            "tags": []
          }
        },
        {
          "output_type": "display_data",
          "data": {
            "text/html": [
              "<span style=\"color:cyan\"> |-Trial ID: ba798c76829c472dc201bde91cfab2b3</span>"
            ],
            "text/plain": [
              "<IPython.core.display.HTML object>"
            ]
          },
          "metadata": {
            "tags": []
          }
        },
        {
          "output_type": "display_data",
          "data": {
            "text/html": [
              "<span style=\"color:cyan\"> |-Score: 3.7406675815582275</span>"
            ],
            "text/plain": [
              "<IPython.core.display.HTML object>"
            ]
          },
          "metadata": {
            "tags": []
          }
        },
        {
          "output_type": "display_data",
          "data": {
            "text/html": [
              "<span style=\"color:cyan\"> |-Best step: 0</span>"
            ],
            "text/plain": [
              "<IPython.core.display.HTML object>"
            ]
          },
          "metadata": {
            "tags": []
          }
        },
        {
          "output_type": "display_data",
          "data": {
            "text/html": [
              "<span style=\"color:#7E57C2\"><h2 style=\"font-size:16px\">Hyperparameters:</h2></span>"
            ],
            "text/plain": [
              "<IPython.core.display.HTML object>"
            ]
          },
          "metadata": {
            "tags": []
          }
        },
        {
          "output_type": "display_data",
          "data": {
            "text/html": [
              "<span style=\"color:cyan\"> |-learning_rate: 0.01</span>"
            ],
            "text/plain": [
              "<IPython.core.display.HTML object>"
            ]
          },
          "metadata": {
            "tags": []
          }
        },
        {
          "output_type": "display_data",
          "data": {
            "text/html": [
              "<span style=\"color:blue\"> |-units: 128</span>"
            ],
            "text/plain": [
              "<IPython.core.display.HTML object>"
            ]
          },
          "metadata": {
            "tags": []
          }
        },
        {
          "output_type": "stream",
          "text": [
            "Epoch 1/5\n",
            "WARNING:tensorflow:Layer dense is casting an input tensor from dtype float64 to the layer's dtype of float32, which is new behavior in TensorFlow 2.  The layer has dtype float32 because it's dtype defaults to floatx.\n",
            "\n",
            "If you intended to run this layer in float32, you can safely ignore this warning. If in doubt, this warning is likely only an issue if you are porting a TensorFlow 1.X model to TensorFlow 2.\n",
            "\n",
            "To change all layers to have dtype float64 by default, call `tf.keras.backend.set_floatx('float64')`. To change just this layer, pass dtype='float64' to the layer constructor. If you are the author of this layer, you can disable autocasting by passing autocast=False to the base Layer constructor.\n",
            "\n",
            "11/11 [==============================] - 0s 12ms/step - loss: 376.5576 - mae: 17.0686 - val_loss: 185.7183 - val_mae: 10.9400\n",
            "Epoch 2/5\n",
            "11/11 [==============================] - 0s 5ms/step - loss: 104.0986 - mae: 8.0655 - val_loss: 85.9261 - val_mae: 7.3316\n",
            "Epoch 3/5\n",
            "11/11 [==============================] - 0s 6ms/step - loss: 39.0088 - mae: 4.4824 - val_loss: 30.5796 - val_mae: 4.0174\n",
            "Epoch 4/5\n",
            "11/11 [==============================] - 0s 5ms/step - loss: 28.1319 - mae: 3.7888 - val_loss: 24.0667 - val_mae: 3.4593\n",
            "Epoch 5/5\n",
            "11/11 [==============================] - 0s 5ms/step - loss: 21.9653 - mae: 3.4528 - val_loss: 19.4485 - val_mae: 3.2947\n",
            "Epoch 1/5\n",
            "WARNING:tensorflow:Layer dense is casting an input tensor from dtype float64 to the layer's dtype of float32, which is new behavior in TensorFlow 2.  The layer has dtype float32 because it's dtype defaults to floatx.\n",
            "\n",
            "If you intended to run this layer in float32, you can safely ignore this warning. If in doubt, this warning is likely only an issue if you are porting a TensorFlow 1.X model to TensorFlow 2.\n",
            "\n",
            "To change all layers to have dtype float64 by default, call `tf.keras.backend.set_floatx('float64')`. To change just this layer, pass dtype='float64' to the layer constructor. If you are the author of this layer, you can disable autocasting by passing autocast=False to the base Layer constructor.\n",
            "\n",
            "11/11 [==============================] - 0s 10ms/step - loss: 390.1086 - mae: 17.4533 - val_loss: 201.8371 - val_mae: 11.2914\n",
            "Epoch 2/5\n",
            "11/11 [==============================] - 0s 6ms/step - loss: 97.8535 - mae: 7.4816 - val_loss: 98.3950 - val_mae: 7.8034\n",
            "Epoch 3/5\n",
            "11/11 [==============================] - 0s 5ms/step - loss: 41.9944 - mae: 4.8521 - val_loss: 30.5229 - val_mae: 3.9947\n",
            "Epoch 4/5\n",
            "11/11 [==============================] - 0s 5ms/step - loss: 28.7247 - mae: 3.7661 - val_loss: 26.3311 - val_mae: 3.7282\n",
            "Epoch 5/5\n",
            "11/11 [==============================] - 0s 4ms/step - loss: 21.1403 - mae: 3.2967 - val_loss: 21.2965 - val_mae: 3.5466\n",
            "Epoch 1/5\n",
            "WARNING:tensorflow:Layer dense is casting an input tensor from dtype float64 to the layer's dtype of float32, which is new behavior in TensorFlow 2.  The layer has dtype float32 because it's dtype defaults to floatx.\n",
            "\n",
            "If you intended to run this layer in float32, you can safely ignore this warning. If in doubt, this warning is likely only an issue if you are porting a TensorFlow 1.X model to TensorFlow 2.\n",
            "\n",
            "To change all layers to have dtype float64 by default, call `tf.keras.backend.set_floatx('float64')`. To change just this layer, pass dtype='float64' to the layer constructor. If you are the author of this layer, you can disable autocasting by passing autocast=False to the base Layer constructor.\n",
            "\n",
            "11/11 [==============================] - 0s 10ms/step - loss: 383.8681 - mae: 17.5138 - val_loss: 212.8118 - val_mae: 11.6815\n",
            "Epoch 2/5\n",
            "11/11 [==============================] - 0s 5ms/step - loss: 107.2589 - mae: 7.9149 - val_loss: 97.3151 - val_mae: 7.7518\n",
            "Epoch 3/5\n",
            "11/11 [==============================] - 0s 5ms/step - loss: 42.5542 - mae: 4.7200 - val_loss: 32.3159 - val_mae: 4.0684\n",
            "Epoch 4/5\n",
            "11/11 [==============================] - 0s 5ms/step - loss: 29.7367 - mae: 3.8495 - val_loss: 25.7614 - val_mae: 3.5833\n",
            "Epoch 5/5\n",
            "11/11 [==============================] - 0s 5ms/step - loss: 21.7328 - mae: 3.3439 - val_loss: 22.7769 - val_mae: 3.6717\n"
          ],
          "name": "stdout"
        },
        {
          "output_type": "display_data",
          "data": {
            "text/html": [
              "<span style=\"color:#4527A0\"><h1 style=\"font-size:18px\">Trial complete</h1></span>"
            ],
            "text/plain": [
              "<IPython.core.display.HTML object>"
            ]
          },
          "metadata": {
            "tags": []
          }
        },
        {
          "output_type": "display_data",
          "data": {
            "text/html": [
              "<span style=\"color:#4527A0\"><h1 style=\"font-size:18px\">Trial summary</h1></span>"
            ],
            "text/plain": [
              "<IPython.core.display.HTML object>"
            ]
          },
          "metadata": {
            "tags": []
          }
        },
        {
          "output_type": "display_data",
          "data": {
            "text/html": [
              "<span style=\"color:cyan\"> |-Trial ID: 06c741e79ed1fd0f39747a6e8ea07e51</span>"
            ],
            "text/plain": [
              "<IPython.core.display.HTML object>"
            ]
          },
          "metadata": {
            "tags": []
          }
        },
        {
          "output_type": "display_data",
          "data": {
            "text/html": [
              "<span style=\"color:cyan\"> |-Score: 3.4748358726501465</span>"
            ],
            "text/plain": [
              "<IPython.core.display.HTML object>"
            ]
          },
          "metadata": {
            "tags": []
          }
        },
        {
          "output_type": "display_data",
          "data": {
            "text/html": [
              "<span style=\"color:cyan\"> |-Best step: 0</span>"
            ],
            "text/plain": [
              "<IPython.core.display.HTML object>"
            ]
          },
          "metadata": {
            "tags": []
          }
        },
        {
          "output_type": "display_data",
          "data": {
            "text/html": [
              "<span style=\"color:#7E57C2\"><h2 style=\"font-size:16px\">Hyperparameters:</h2></span>"
            ],
            "text/plain": [
              "<IPython.core.display.HTML object>"
            ]
          },
          "metadata": {
            "tags": []
          }
        },
        {
          "output_type": "display_data",
          "data": {
            "text/html": [
              "<span style=\"color:cyan\"> |-learning_rate: 0.01</span>"
            ],
            "text/plain": [
              "<IPython.core.display.HTML object>"
            ]
          },
          "metadata": {
            "tags": []
          }
        },
        {
          "output_type": "display_data",
          "data": {
            "text/html": [
              "<span style=\"color:blue\"> |-units: 320</span>"
            ],
            "text/plain": [
              "<IPython.core.display.HTML object>"
            ]
          },
          "metadata": {
            "tags": []
          }
        },
        {
          "output_type": "stream",
          "text": [
            "Epoch 1/5\n",
            "WARNING:tensorflow:Layer dense is casting an input tensor from dtype float64 to the layer's dtype of float32, which is new behavior in TensorFlow 2.  The layer has dtype float32 because it's dtype defaults to floatx.\n",
            "\n",
            "If you intended to run this layer in float32, you can safely ignore this warning. If in doubt, this warning is likely only an issue if you are porting a TensorFlow 1.X model to TensorFlow 2.\n",
            "\n",
            "To change all layers to have dtype float64 by default, call `tf.keras.backend.set_floatx('float64')`. To change just this layer, pass dtype='float64' to the layer constructor. If you are the author of this layer, you can disable autocasting by passing autocast=False to the base Layer constructor.\n",
            "\n",
            "11/11 [==============================] - 0s 11ms/step - loss: 573.7742 - mae: 22.1199 - val_loss: 668.3683 - val_mae: 23.9615\n",
            "Epoch 2/5\n",
            "11/11 [==============================] - 0s 5ms/step - loss: 570.5529 - mae: 22.0496 - val_loss: 664.8825 - val_mae: 23.8911\n",
            "Epoch 3/5\n",
            "11/11 [==============================] - 0s 6ms/step - loss: 567.3388 - mae: 21.9806 - val_loss: 661.4362 - val_mae: 23.8213\n",
            "Epoch 4/5\n",
            "11/11 [==============================] - 0s 6ms/step - loss: 564.2085 - mae: 21.9111 - val_loss: 657.9323 - val_mae: 23.7503\n",
            "Epoch 5/5\n",
            "11/11 [==============================] - 0s 6ms/step - loss: 560.9911 - mae: 21.8408 - val_loss: 654.5209 - val_mae: 23.6805\n",
            "Epoch 1/5\n",
            "WARNING:tensorflow:Layer dense is casting an input tensor from dtype float64 to the layer's dtype of float32, which is new behavior in TensorFlow 2.  The layer has dtype float32 because it's dtype defaults to floatx.\n",
            "\n",
            "If you intended to run this layer in float32, you can safely ignore this warning. If in doubt, this warning is likely only an issue if you are porting a TensorFlow 1.X model to TensorFlow 2.\n",
            "\n",
            "To change all layers to have dtype float64 by default, call `tf.keras.backend.set_floatx('float64')`. To change just this layer, pass dtype='float64' to the layer constructor. If you are the author of this layer, you can disable autocasting by passing autocast=False to the base Layer constructor.\n",
            "\n",
            "11/11 [==============================] - 0s 10ms/step - loss: 563.7919 - mae: 21.9561 - val_loss: 660.5604 - val_mae: 23.8603\n",
            "Epoch 2/5\n",
            "11/11 [==============================] - 0s 5ms/step - loss: 560.4638 - mae: 21.8861 - val_loss: 656.9087 - val_mae: 23.7872\n",
            "Epoch 3/5\n",
            "11/11 [==============================] - 0s 4ms/step - loss: 557.1705 - mae: 21.8152 - val_loss: 653.2450 - val_mae: 23.7143\n",
            "Epoch 4/5\n",
            "11/11 [==============================] - 0s 6ms/step - loss: 553.8831 - mae: 21.7453 - val_loss: 649.5944 - val_mae: 23.6415\n",
            "Epoch 5/5\n",
            "11/11 [==============================] - 0s 5ms/step - loss: 550.6603 - mae: 21.6757 - val_loss: 645.9386 - val_mae: 23.5682\n",
            "Epoch 1/5\n",
            "WARNING:tensorflow:Layer dense is casting an input tensor from dtype float64 to the layer's dtype of float32, which is new behavior in TensorFlow 2.  The layer has dtype float32 because it's dtype defaults to floatx.\n",
            "\n",
            "If you intended to run this layer in float32, you can safely ignore this warning. If in doubt, this warning is likely only an issue if you are porting a TensorFlow 1.X model to TensorFlow 2.\n",
            "\n",
            "To change all layers to have dtype float64 by default, call `tf.keras.backend.set_floatx('float64')`. To change just this layer, pass dtype='float64' to the layer constructor. If you are the author of this layer, you can disable autocasting by passing autocast=False to the base Layer constructor.\n",
            "\n",
            "11/11 [==============================] - 0s 11ms/step - loss: 562.1381 - mae: 21.8859 - val_loss: 656.5018 - val_mae: 23.7709\n",
            "Epoch 2/5\n",
            "11/11 [==============================] - 0s 5ms/step - loss: 559.0712 - mae: 21.8202 - val_loss: 653.2581 - val_mae: 23.7052\n",
            "Epoch 3/5\n",
            "11/11 [==============================] - 0s 5ms/step - loss: 556.1360 - mae: 21.7563 - val_loss: 649.9351 - val_mae: 23.6392\n",
            "Epoch 4/5\n",
            "11/11 [==============================] - 0s 5ms/step - loss: 553.0360 - mae: 21.6905 - val_loss: 646.7466 - val_mae: 23.5738\n",
            "Epoch 5/5\n",
            "11/11 [==============================] - 0s 6ms/step - loss: 550.1034 - mae: 21.6265 - val_loss: 643.4368 - val_mae: 23.5072\n"
          ],
          "name": "stdout"
        },
        {
          "output_type": "display_data",
          "data": {
            "text/html": [
              "<span style=\"color:#4527A0\"><h1 style=\"font-size:18px\">Trial complete</h1></span>"
            ],
            "text/plain": [
              "<IPython.core.display.HTML object>"
            ]
          },
          "metadata": {
            "tags": []
          }
        },
        {
          "output_type": "display_data",
          "data": {
            "text/html": [
              "<span style=\"color:#4527A0\"><h1 style=\"font-size:18px\">Trial summary</h1></span>"
            ],
            "text/plain": [
              "<IPython.core.display.HTML object>"
            ]
          },
          "metadata": {
            "tags": []
          }
        },
        {
          "output_type": "display_data",
          "data": {
            "text/html": [
              "<span style=\"color:cyan\"> |-Trial ID: 472fdc2e9d1d1b84c909328d4c4174b5</span>"
            ],
            "text/plain": [
              "<IPython.core.display.HTML object>"
            ]
          },
          "metadata": {
            "tags": []
          }
        },
        {
          "output_type": "display_data",
          "data": {
            "text/html": [
              "<span style=\"color:cyan\"> |-Score: 23.58530871073405</span>"
            ],
            "text/plain": [
              "<IPython.core.display.HTML object>"
            ]
          },
          "metadata": {
            "tags": []
          }
        },
        {
          "output_type": "display_data",
          "data": {
            "text/html": [
              "<span style=\"color:cyan\"> |-Best step: 0</span>"
            ],
            "text/plain": [
              "<IPython.core.display.HTML object>"
            ]
          },
          "metadata": {
            "tags": []
          }
        },
        {
          "output_type": "display_data",
          "data": {
            "text/html": [
              "<span style=\"color:#7E57C2\"><h2 style=\"font-size:16px\">Hyperparameters:</h2></span>"
            ],
            "text/plain": [
              "<IPython.core.display.HTML object>"
            ]
          },
          "metadata": {
            "tags": []
          }
        },
        {
          "output_type": "display_data",
          "data": {
            "text/html": [
              "<span style=\"color:cyan\"> |-learning_rate: 0.0001</span>"
            ],
            "text/plain": [
              "<IPython.core.display.HTML object>"
            ]
          },
          "metadata": {
            "tags": []
          }
        },
        {
          "output_type": "display_data",
          "data": {
            "text/html": [
              "<span style=\"color:blue\"> |-units: 192</span>"
            ],
            "text/plain": [
              "<IPython.core.display.HTML object>"
            ]
          },
          "metadata": {
            "tags": []
          }
        },
        {
          "output_type": "stream",
          "text": [
            "Epoch 1/5\n",
            "WARNING:tensorflow:Layer dense is casting an input tensor from dtype float64 to the layer's dtype of float32, which is new behavior in TensorFlow 2.  The layer has dtype float32 because it's dtype defaults to floatx.\n",
            "\n",
            "If you intended to run this layer in float32, you can safely ignore this warning. If in doubt, this warning is likely only an issue if you are porting a TensorFlow 1.X model to TensorFlow 2.\n",
            "\n",
            "To change all layers to have dtype float64 by default, call `tf.keras.backend.set_floatx('float64')`. To change just this layer, pass dtype='float64' to the layer constructor. If you are the author of this layer, you can disable autocasting by passing autocast=False to the base Layer constructor.\n",
            "\n",
            "11/11 [==============================] - 0s 11ms/step - loss: 553.9644 - mae: 21.7306 - val_loss: 651.2092 - val_mae: 23.6215\n",
            "Epoch 2/5\n",
            "11/11 [==============================] - 0s 6ms/step - loss: 552.1276 - mae: 21.6906 - val_loss: 649.2808 - val_mae: 23.5812\n",
            "Epoch 3/5\n",
            "11/11 [==============================] - 0s 5ms/step - loss: 550.3447 - mae: 21.6507 - val_loss: 647.3389 - val_mae: 23.5404\n",
            "Epoch 4/5\n",
            "11/11 [==============================] - 0s 5ms/step - loss: 548.5301 - mae: 21.6102 - val_loss: 645.3603 - val_mae: 23.4991\n",
            "Epoch 5/5\n",
            "11/11 [==============================] - 0s 5ms/step - loss: 546.6982 - mae: 21.5699 - val_loss: 643.3953 - val_mae: 23.4578\n",
            "Epoch 1/5\n",
            "WARNING:tensorflow:Layer dense is casting an input tensor from dtype float64 to the layer's dtype of float32, which is new behavior in TensorFlow 2.  The layer has dtype float32 because it's dtype defaults to floatx.\n",
            "\n",
            "If you intended to run this layer in float32, you can safely ignore this warning. If in doubt, this warning is likely only an issue if you are porting a TensorFlow 1.X model to TensorFlow 2.\n",
            "\n",
            "To change all layers to have dtype float64 by default, call `tf.keras.backend.set_floatx('float64')`. To change just this layer, pass dtype='float64' to the layer constructor. If you are the author of this layer, you can disable autocasting by passing autocast=False to the base Layer constructor.\n",
            "\n",
            "11/11 [==============================] - 0s 10ms/step - loss: 575.4737 - mae: 22.1836 - val_loss: 671.3324 - val_mae: 24.0613\n",
            "Epoch 2/5\n",
            "11/11 [==============================] - 0s 5ms/step - loss: 573.7919 - mae: 22.1457 - val_loss: 669.6215 - val_mae: 24.0249\n",
            "Epoch 3/5\n",
            "11/11 [==============================] - 0s 5ms/step - loss: 572.1403 - mae: 22.1080 - val_loss: 667.9165 - val_mae: 23.9880\n",
            "Epoch 4/5\n",
            "11/11 [==============================] - 0s 5ms/step - loss: 570.4742 - mae: 22.0698 - val_loss: 666.1908 - val_mae: 23.9516\n",
            "Epoch 5/5\n",
            "11/11 [==============================] - 0s 4ms/step - loss: 568.8386 - mae: 22.0320 - val_loss: 664.4836 - val_mae: 23.9151\n",
            "Epoch 1/5\n",
            "WARNING:tensorflow:Layer dense is casting an input tensor from dtype float64 to the layer's dtype of float32, which is new behavior in TensorFlow 2.  The layer has dtype float32 because it's dtype defaults to floatx.\n",
            "\n",
            "If you intended to run this layer in float32, you can safely ignore this warning. If in doubt, this warning is likely only an issue if you are porting a TensorFlow 1.X model to TensorFlow 2.\n",
            "\n",
            "To change all layers to have dtype float64 by default, call `tf.keras.backend.set_floatx('float64')`. To change just this layer, pass dtype='float64' to the layer constructor. If you are the author of this layer, you can disable autocasting by passing autocast=False to the base Layer constructor.\n",
            "\n",
            "11/11 [==============================] - 0s 10ms/step - loss: 557.0612 - mae: 21.8129 - val_loss: 656.0164 - val_mae: 23.7169\n",
            "Epoch 2/5\n",
            "11/11 [==============================] - 0s 5ms/step - loss: 555.3245 - mae: 21.7746 - val_loss: 654.1118 - val_mae: 23.6779\n",
            "Epoch 3/5\n",
            "11/11 [==============================] - 0s 5ms/step - loss: 553.5446 - mae: 21.7362 - val_loss: 652.2380 - val_mae: 23.6393\n",
            "Epoch 4/5\n",
            "11/11 [==============================] - 0s 4ms/step - loss: 551.8342 - mae: 21.6980 - val_loss: 650.2981 - val_mae: 23.5996\n",
            "Epoch 5/5\n",
            "11/11 [==============================] - 0s 5ms/step - loss: 550.0716 - mae: 21.6593 - val_loss: 648.3700 - val_mae: 23.5601\n"
          ],
          "name": "stdout"
        },
        {
          "output_type": "display_data",
          "data": {
            "text/html": [
              "<span style=\"color:#4527A0\"><h1 style=\"font-size:18px\">Trial complete</h1></span>"
            ],
            "text/plain": [
              "<IPython.core.display.HTML object>"
            ]
          },
          "metadata": {
            "tags": []
          }
        },
        {
          "output_type": "display_data",
          "data": {
            "text/html": [
              "<span style=\"color:#4527A0\"><h1 style=\"font-size:18px\">Trial summary</h1></span>"
            ],
            "text/plain": [
              "<IPython.core.display.HTML object>"
            ]
          },
          "metadata": {
            "tags": []
          }
        },
        {
          "output_type": "display_data",
          "data": {
            "text/html": [
              "<span style=\"color:cyan\"> |-Trial ID: 4f14023c2e44ad1a82b4f3ccf5295bb5</span>"
            ],
            "text/plain": [
              "<IPython.core.display.HTML object>"
            ]
          },
          "metadata": {
            "tags": []
          }
        },
        {
          "output_type": "display_data",
          "data": {
            "text/html": [
              "<span style=\"color:cyan\"> |-Score: 23.6443608601888</span>"
            ],
            "text/plain": [
              "<IPython.core.display.HTML object>"
            ]
          },
          "metadata": {
            "tags": []
          }
        },
        {
          "output_type": "display_data",
          "data": {
            "text/html": [
              "<span style=\"color:cyan\"> |-Best step: 0</span>"
            ],
            "text/plain": [
              "<IPython.core.display.HTML object>"
            ]
          },
          "metadata": {
            "tags": []
          }
        },
        {
          "output_type": "display_data",
          "data": {
            "text/html": [
              "<span style=\"color:#7E57C2\"><h2 style=\"font-size:16px\">Hyperparameters:</h2></span>"
            ],
            "text/plain": [
              "<IPython.core.display.HTML object>"
            ]
          },
          "metadata": {
            "tags": []
          }
        },
        {
          "output_type": "display_data",
          "data": {
            "text/html": [
              "<span style=\"color:cyan\"> |-learning_rate: 0.0001</span>"
            ],
            "text/plain": [
              "<IPython.core.display.HTML object>"
            ]
          },
          "metadata": {
            "tags": []
          }
        },
        {
          "output_type": "display_data",
          "data": {
            "text/html": [
              "<span style=\"color:blue\"> |-units: 64</span>"
            ],
            "text/plain": [
              "<IPython.core.display.HTML object>"
            ]
          },
          "metadata": {
            "tags": []
          }
        },
        {
          "output_type": "stream",
          "text": [
            "Epoch 1/5\n",
            "WARNING:tensorflow:Layer dense is casting an input tensor from dtype float64 to the layer's dtype of float32, which is new behavior in TensorFlow 2.  The layer has dtype float32 because it's dtype defaults to floatx.\n",
            "\n",
            "If you intended to run this layer in float32, you can safely ignore this warning. If in doubt, this warning is likely only an issue if you are porting a TensorFlow 1.X model to TensorFlow 2.\n",
            "\n",
            "To change all layers to have dtype float64 by default, call `tf.keras.backend.set_floatx('float64')`. To change just this layer, pass dtype='float64' to the layer constructor. If you are the author of this layer, you can disable autocasting by passing autocast=False to the base Layer constructor.\n",
            "\n",
            "11/11 [==============================] - 0s 12ms/step - loss: 493.7024 - mae: 20.3066 - val_loss: 477.3116 - val_mae: 19.6323\n",
            "Epoch 2/5\n",
            "11/11 [==============================] - 0s 5ms/step - loss: 306.6764 - mae: 15.2438 - val_loss: 257.8522 - val_mae: 13.2906\n",
            "Epoch 3/5\n",
            "11/11 [==============================] - 0s 6ms/step - loss: 131.1954 - mae: 9.0123 - val_loss: 123.9569 - val_mae: 8.3953\n",
            "Epoch 4/5\n",
            "11/11 [==============================] - 0s 6ms/step - loss: 70.5370 - mae: 6.3993 - val_loss: 78.4678 - val_mae: 6.7509\n",
            "Epoch 5/5\n",
            "11/11 [==============================] - 0s 6ms/step - loss: 41.1641 - mae: 4.5774 - val_loss: 43.4093 - val_mae: 4.7448\n",
            "Epoch 1/5\n",
            "WARNING:tensorflow:Layer dense is casting an input tensor from dtype float64 to the layer's dtype of float32, which is new behavior in TensorFlow 2.  The layer has dtype float32 because it's dtype defaults to floatx.\n",
            "\n",
            "If you intended to run this layer in float32, you can safely ignore this warning. If in doubt, this warning is likely only an issue if you are porting a TensorFlow 1.X model to TensorFlow 2.\n",
            "\n",
            "To change all layers to have dtype float64 by default, call `tf.keras.backend.set_floatx('float64')`. To change just this layer, pass dtype='float64' to the layer constructor. If you are the author of this layer, you can disable autocasting by passing autocast=False to the base Layer constructor.\n",
            "\n",
            "11/11 [==============================] - 0s 10ms/step - loss: 482.0755 - mae: 20.1764 - val_loss: 435.7604 - val_mae: 19.1476\n",
            "Epoch 2/5\n",
            "11/11 [==============================] - 0s 5ms/step - loss: 277.8202 - mae: 14.7499 - val_loss: 199.5685 - val_mae: 11.7445\n",
            "Epoch 3/5\n",
            "11/11 [==============================] - 0s 5ms/step - loss: 110.9401 - mae: 8.4023 - val_loss: 93.7513 - val_mae: 7.5113\n",
            "Epoch 4/5\n",
            "11/11 [==============================] - 0s 5ms/step - loss: 61.0147 - mae: 5.9842 - val_loss: 58.0527 - val_mae: 5.9088\n",
            "Epoch 5/5\n",
            "11/11 [==============================] - 0s 5ms/step - loss: 35.1057 - mae: 4.2640 - val_loss: 35.8194 - val_mae: 4.3252\n",
            "Epoch 1/5\n",
            "WARNING:tensorflow:Layer dense is casting an input tensor from dtype float64 to the layer's dtype of float32, which is new behavior in TensorFlow 2.  The layer has dtype float32 because it's dtype defaults to floatx.\n",
            "\n",
            "If you intended to run this layer in float32, you can safely ignore this warning. If in doubt, this warning is likely only an issue if you are porting a TensorFlow 1.X model to TensorFlow 2.\n",
            "\n",
            "To change all layers to have dtype float64 by default, call `tf.keras.backend.set_floatx('float64')`. To change just this layer, pass dtype='float64' to the layer constructor. If you are the author of this layer, you can disable autocasting by passing autocast=False to the base Layer constructor.\n",
            "\n",
            "11/11 [==============================] - 0s 10ms/step - loss: 492.0691 - mae: 20.1246 - val_loss: 458.0727 - val_mae: 19.2772\n",
            "Epoch 2/5\n",
            "11/11 [==============================] - 0s 5ms/step - loss: 296.8837 - mae: 14.8174 - val_loss: 232.2034 - val_mae: 12.7285\n",
            "Epoch 3/5\n",
            "11/11 [==============================] - 0s 4ms/step - loss: 122.1166 - mae: 8.7409 - val_loss: 99.2720 - val_mae: 7.7576\n",
            "Epoch 4/5\n",
            "11/11 [==============================] - 0s 4ms/step - loss: 61.0198 - mae: 5.8800 - val_loss: 63.9252 - val_mae: 6.1764\n",
            "Epoch 5/5\n",
            "11/11 [==============================] - 0s 5ms/step - loss: 38.6800 - mae: 4.4181 - val_loss: 34.3001 - val_mae: 4.3480\n"
          ],
          "name": "stdout"
        },
        {
          "output_type": "display_data",
          "data": {
            "text/html": [
              "<span style=\"color:#4527A0\"><h1 style=\"font-size:18px\">Trial complete</h1></span>"
            ],
            "text/plain": [
              "<IPython.core.display.HTML object>"
            ]
          },
          "metadata": {
            "tags": []
          }
        },
        {
          "output_type": "display_data",
          "data": {
            "text/html": [
              "<span style=\"color:#4527A0\"><h1 style=\"font-size:18px\">Trial summary</h1></span>"
            ],
            "text/plain": [
              "<IPython.core.display.HTML object>"
            ]
          },
          "metadata": {
            "tags": []
          }
        },
        {
          "output_type": "display_data",
          "data": {
            "text/html": [
              "<span style=\"color:cyan\"> |-Trial ID: e4b1400b3a0bf53e315b754ed54a6d35</span>"
            ],
            "text/plain": [
              "<IPython.core.display.HTML object>"
            ]
          },
          "metadata": {
            "tags": []
          }
        },
        {
          "output_type": "display_data",
          "data": {
            "text/html": [
              "<span style=\"color:cyan\"> |-Score: 4.472680568695068</span>"
            ],
            "text/plain": [
              "<IPython.core.display.HTML object>"
            ]
          },
          "metadata": {
            "tags": []
          }
        },
        {
          "output_type": "display_data",
          "data": {
            "text/html": [
              "<span style=\"color:cyan\"> |-Best step: 0</span>"
            ],
            "text/plain": [
              "<IPython.core.display.HTML object>"
            ]
          },
          "metadata": {
            "tags": []
          }
        },
        {
          "output_type": "display_data",
          "data": {
            "text/html": [
              "<span style=\"color:#7E57C2\"><h2 style=\"font-size:16px\">Hyperparameters:</h2></span>"
            ],
            "text/plain": [
              "<IPython.core.display.HTML object>"
            ]
          },
          "metadata": {
            "tags": []
          }
        },
        {
          "output_type": "display_data",
          "data": {
            "text/html": [
              "<span style=\"color:cyan\"> |-learning_rate: 0.01</span>"
            ],
            "text/plain": [
              "<IPython.core.display.HTML object>"
            ]
          },
          "metadata": {
            "tags": []
          }
        },
        {
          "output_type": "display_data",
          "data": {
            "text/html": [
              "<span style=\"color:blue\"> |-units: 64</span>"
            ],
            "text/plain": [
              "<IPython.core.display.HTML object>"
            ]
          },
          "metadata": {
            "tags": []
          }
        },
        {
          "output_type": "stream",
          "text": [
            "INFO:tensorflow:Oracle triggered exit\n"
          ],
          "name": "stdout"
        }
      ]
    },
    {
      "cell_type": "code",
      "metadata": {
        "id": "LR4s8v8q-7To",
        "colab_type": "code",
        "colab": {
          "base_uri": "https://localhost:8080/",
          "height": 894
        },
        "outputId": "3b9ae498-ab88-4e8c-b8b0-1780b5d1d85e"
      },
      "source": [
        "tuner.results_summary()"
      ],
      "execution_count": 29,
      "outputs": [
        {
          "output_type": "display_data",
          "data": {
            "text/html": [
              "<span style=\"color:#4527A0\"><h1 style=\"font-size:18px\">Results summary</h1></span>"
            ],
            "text/plain": [
              "<IPython.core.display.HTML object>"
            ]
          },
          "metadata": {
            "tags": []
          }
        },
        {
          "output_type": "display_data",
          "data": {
            "text/html": [
              "<span style=\"color:cyan\"> |-Results in ./keras-tuner-trial/helloworld</span>"
            ],
            "text/plain": [
              "<IPython.core.display.HTML object>"
            ]
          },
          "metadata": {
            "tags": []
          }
        },
        {
          "output_type": "display_data",
          "data": {
            "text/html": [
              "<span style=\"color:cyan\"> |-Showing 10 best trials</span>"
            ],
            "text/plain": [
              "<IPython.core.display.HTML object>"
            ]
          },
          "metadata": {
            "tags": []
          }
        },
        {
          "output_type": "display_data",
          "data": {
            "text/html": [
              "<span style=\"color:cyan\"> |-Objective(name='val_mae', direction='min')</span>"
            ],
            "text/plain": [
              "<IPython.core.display.HTML object>"
            ]
          },
          "metadata": {
            "tags": []
          }
        },
        {
          "output_type": "display_data",
          "data": {
            "text/html": [
              "<span style=\"color:#4527A0\"><h1 style=\"font-size:18px\">Trial summary</h1></span>"
            ],
            "text/plain": [
              "<IPython.core.display.HTML object>"
            ]
          },
          "metadata": {
            "tags": []
          }
        },
        {
          "output_type": "display_data",
          "data": {
            "text/html": [
              "<span style=\"color:cyan\"> |-Trial ID: 06c741e79ed1fd0f39747a6e8ea07e51</span>"
            ],
            "text/plain": [
              "<IPython.core.display.HTML object>"
            ]
          },
          "metadata": {
            "tags": []
          }
        },
        {
          "output_type": "display_data",
          "data": {
            "text/html": [
              "<span style=\"color:cyan\"> |-Score: 3.4748358726501465</span>"
            ],
            "text/plain": [
              "<IPython.core.display.HTML object>"
            ]
          },
          "metadata": {
            "tags": []
          }
        },
        {
          "output_type": "display_data",
          "data": {
            "text/html": [
              "<span style=\"color:cyan\"> |-Best step: 0</span>"
            ],
            "text/plain": [
              "<IPython.core.display.HTML object>"
            ]
          },
          "metadata": {
            "tags": []
          }
        },
        {
          "output_type": "display_data",
          "data": {
            "text/html": [
              "<span style=\"color:#7E57C2\"><h2 style=\"font-size:16px\">Hyperparameters:</h2></span>"
            ],
            "text/plain": [
              "<IPython.core.display.HTML object>"
            ]
          },
          "metadata": {
            "tags": []
          }
        },
        {
          "output_type": "display_data",
          "data": {
            "text/html": [
              "<span style=\"color:cyan\"> |-learning_rate: 0.01</span>"
            ],
            "text/plain": [
              "<IPython.core.display.HTML object>"
            ]
          },
          "metadata": {
            "tags": []
          }
        },
        {
          "output_type": "display_data",
          "data": {
            "text/html": [
              "<span style=\"color:blue\"> |-units: 320</span>"
            ],
            "text/plain": [
              "<IPython.core.display.HTML object>"
            ]
          },
          "metadata": {
            "tags": []
          }
        },
        {
          "output_type": "display_data",
          "data": {
            "text/html": [
              "<span style=\"color:#4527A0\"><h1 style=\"font-size:18px\">Trial summary</h1></span>"
            ],
            "text/plain": [
              "<IPython.core.display.HTML object>"
            ]
          },
          "metadata": {
            "tags": []
          }
        },
        {
          "output_type": "display_data",
          "data": {
            "text/html": [
              "<span style=\"color:cyan\"> |-Trial ID: ba798c76829c472dc201bde91cfab2b3</span>"
            ],
            "text/plain": [
              "<IPython.core.display.HTML object>"
            ]
          },
          "metadata": {
            "tags": []
          }
        },
        {
          "output_type": "display_data",
          "data": {
            "text/html": [
              "<span style=\"color:cyan\"> |-Score: 3.7406675815582275</span>"
            ],
            "text/plain": [
              "<IPython.core.display.HTML object>"
            ]
          },
          "metadata": {
            "tags": []
          }
        },
        {
          "output_type": "display_data",
          "data": {
            "text/html": [
              "<span style=\"color:cyan\"> |-Best step: 0</span>"
            ],
            "text/plain": [
              "<IPython.core.display.HTML object>"
            ]
          },
          "metadata": {
            "tags": []
          }
        },
        {
          "output_type": "display_data",
          "data": {
            "text/html": [
              "<span style=\"color:#7E57C2\"><h2 style=\"font-size:16px\">Hyperparameters:</h2></span>"
            ],
            "text/plain": [
              "<IPython.core.display.HTML object>"
            ]
          },
          "metadata": {
            "tags": []
          }
        },
        {
          "output_type": "display_data",
          "data": {
            "text/html": [
              "<span style=\"color:cyan\"> |-learning_rate: 0.01</span>"
            ],
            "text/plain": [
              "<IPython.core.display.HTML object>"
            ]
          },
          "metadata": {
            "tags": []
          }
        },
        {
          "output_type": "display_data",
          "data": {
            "text/html": [
              "<span style=\"color:blue\"> |-units: 128</span>"
            ],
            "text/plain": [
              "<IPython.core.display.HTML object>"
            ]
          },
          "metadata": {
            "tags": []
          }
        },
        {
          "output_type": "display_data",
          "data": {
            "text/html": [
              "<span style=\"color:#4527A0\"><h1 style=\"font-size:18px\">Trial summary</h1></span>"
            ],
            "text/plain": [
              "<IPython.core.display.HTML object>"
            ]
          },
          "metadata": {
            "tags": []
          }
        },
        {
          "output_type": "display_data",
          "data": {
            "text/html": [
              "<span style=\"color:cyan\"> |-Trial ID: e4b1400b3a0bf53e315b754ed54a6d35</span>"
            ],
            "text/plain": [
              "<IPython.core.display.HTML object>"
            ]
          },
          "metadata": {
            "tags": []
          }
        },
        {
          "output_type": "display_data",
          "data": {
            "text/html": [
              "<span style=\"color:cyan\"> |-Score: 4.472680568695068</span>"
            ],
            "text/plain": [
              "<IPython.core.display.HTML object>"
            ]
          },
          "metadata": {
            "tags": []
          }
        },
        {
          "output_type": "display_data",
          "data": {
            "text/html": [
              "<span style=\"color:cyan\"> |-Best step: 0</span>"
            ],
            "text/plain": [
              "<IPython.core.display.HTML object>"
            ]
          },
          "metadata": {
            "tags": []
          }
        },
        {
          "output_type": "display_data",
          "data": {
            "text/html": [
              "<span style=\"color:#7E57C2\"><h2 style=\"font-size:16px\">Hyperparameters:</h2></span>"
            ],
            "text/plain": [
              "<IPython.core.display.HTML object>"
            ]
          },
          "metadata": {
            "tags": []
          }
        },
        {
          "output_type": "display_data",
          "data": {
            "text/html": [
              "<span style=\"color:cyan\"> |-learning_rate: 0.01</span>"
            ],
            "text/plain": [
              "<IPython.core.display.HTML object>"
            ]
          },
          "metadata": {
            "tags": []
          }
        },
        {
          "output_type": "display_data",
          "data": {
            "text/html": [
              "<span style=\"color:blue\"> |-units: 64</span>"
            ],
            "text/plain": [
              "<IPython.core.display.HTML object>"
            ]
          },
          "metadata": {
            "tags": []
          }
        },
        {
          "output_type": "display_data",
          "data": {
            "text/html": [
              "<span style=\"color:#4527A0\"><h1 style=\"font-size:18px\">Trial summary</h1></span>"
            ],
            "text/plain": [
              "<IPython.core.display.HTML object>"
            ]
          },
          "metadata": {
            "tags": []
          }
        },
        {
          "output_type": "display_data",
          "data": {
            "text/html": [
              "<span style=\"color:cyan\"> |-Trial ID: 472fdc2e9d1d1b84c909328d4c4174b5</span>"
            ],
            "text/plain": [
              "<IPython.core.display.HTML object>"
            ]
          },
          "metadata": {
            "tags": []
          }
        },
        {
          "output_type": "display_data",
          "data": {
            "text/html": [
              "<span style=\"color:cyan\"> |-Score: 23.58530871073405</span>"
            ],
            "text/plain": [
              "<IPython.core.display.HTML object>"
            ]
          },
          "metadata": {
            "tags": []
          }
        },
        {
          "output_type": "display_data",
          "data": {
            "text/html": [
              "<span style=\"color:cyan\"> |-Best step: 0</span>"
            ],
            "text/plain": [
              "<IPython.core.display.HTML object>"
            ]
          },
          "metadata": {
            "tags": []
          }
        },
        {
          "output_type": "display_data",
          "data": {
            "text/html": [
              "<span style=\"color:#7E57C2\"><h2 style=\"font-size:16px\">Hyperparameters:</h2></span>"
            ],
            "text/plain": [
              "<IPython.core.display.HTML object>"
            ]
          },
          "metadata": {
            "tags": []
          }
        },
        {
          "output_type": "display_data",
          "data": {
            "text/html": [
              "<span style=\"color:cyan\"> |-learning_rate: 0.0001</span>"
            ],
            "text/plain": [
              "<IPython.core.display.HTML object>"
            ]
          },
          "metadata": {
            "tags": []
          }
        },
        {
          "output_type": "display_data",
          "data": {
            "text/html": [
              "<span style=\"color:blue\"> |-units: 192</span>"
            ],
            "text/plain": [
              "<IPython.core.display.HTML object>"
            ]
          },
          "metadata": {
            "tags": []
          }
        },
        {
          "output_type": "display_data",
          "data": {
            "text/html": [
              "<span style=\"color:#4527A0\"><h1 style=\"font-size:18px\">Trial summary</h1></span>"
            ],
            "text/plain": [
              "<IPython.core.display.HTML object>"
            ]
          },
          "metadata": {
            "tags": []
          }
        },
        {
          "output_type": "display_data",
          "data": {
            "text/html": [
              "<span style=\"color:cyan\"> |-Trial ID: 4f14023c2e44ad1a82b4f3ccf5295bb5</span>"
            ],
            "text/plain": [
              "<IPython.core.display.HTML object>"
            ]
          },
          "metadata": {
            "tags": []
          }
        },
        {
          "output_type": "display_data",
          "data": {
            "text/html": [
              "<span style=\"color:cyan\"> |-Score: 23.6443608601888</span>"
            ],
            "text/plain": [
              "<IPython.core.display.HTML object>"
            ]
          },
          "metadata": {
            "tags": []
          }
        },
        {
          "output_type": "display_data",
          "data": {
            "text/html": [
              "<span style=\"color:cyan\"> |-Best step: 0</span>"
            ],
            "text/plain": [
              "<IPython.core.display.HTML object>"
            ]
          },
          "metadata": {
            "tags": []
          }
        },
        {
          "output_type": "display_data",
          "data": {
            "text/html": [
              "<span style=\"color:#7E57C2\"><h2 style=\"font-size:16px\">Hyperparameters:</h2></span>"
            ],
            "text/plain": [
              "<IPython.core.display.HTML object>"
            ]
          },
          "metadata": {
            "tags": []
          }
        },
        {
          "output_type": "display_data",
          "data": {
            "text/html": [
              "<span style=\"color:cyan\"> |-learning_rate: 0.0001</span>"
            ],
            "text/plain": [
              "<IPython.core.display.HTML object>"
            ]
          },
          "metadata": {
            "tags": []
          }
        },
        {
          "output_type": "display_data",
          "data": {
            "text/html": [
              "<span style=\"color:blue\"> |-units: 64</span>"
            ],
            "text/plain": [
              "<IPython.core.display.HTML object>"
            ]
          },
          "metadata": {
            "tags": []
          }
        }
      ]
    },
    {
      "cell_type": "markdown",
      "metadata": {
        "id": "Ou2Hi4K2-7Tr",
        "colab_type": "text"
      },
      "source": [
        "## Challenge\n",
        "\n",
        "Try to apply RandomSearchCV to your module project today. "
      ]
    },
    {
      "cell_type": "markdown",
      "metadata": {
        "id": "6v4Cd3rc-7Ts",
        "colab_type": "text"
      },
      "source": [
        "# Review\n",
        "* <a href=\"#p1\">Part 1</a>: Describe the major hyperparemeters to tune\n",
        "    - Activation Functions\n",
        "    - Optimizer\n",
        "    - Number of Layers\n",
        "    - Number of Neurons\n",
        "    - Batch Size\n",
        "    - Dropout Regulaization\n",
        "    - Learning Rate\n",
        "    - Number of Epochs\n",
        "    - and many more\n",
        "* <a href=\"#p2\">Part 2</a>: Implement an experiment tracking framework\n",
        "    - Weights & Biases\n",
        "    - Comet.ml\n",
        "    - By Hand / GridSearch\n",
        "* <a href=\"#p3\">Part 3</a>: Search the hyperparameter space using RandomSearch\n",
        "    - Sklearn still useful (haha)\n",
        "    - Integration with Wieghts & Biases\n",
        "* <a href=\"#p4\">Part 4</a>: Discuss emerging hyperparameter tuning strategies\n",
        "    - Bayesian Optimization\n",
        "    - Hyperopt\n",
        "    - Genetic Evolution"
      ]
    },
    {
      "cell_type": "markdown",
      "metadata": {
        "id": "XIDfXRUT-7Ts",
        "colab_type": "text"
      },
      "source": [
        "# Sources"
      ]
    },
    {
      "cell_type": "markdown",
      "metadata": {
        "id": "_2FFpBoG-7Tt",
        "colab_type": "text"
      },
      "source": [
        "## Additional Reading\n",
        "- https://machinelearningmastery.com/grid-search-hyperparameters-deep-learning-models-python-keras/\n",
        "- https://blog.floydhub.com/guide-to-hyperparameters-search-for-deep-learning-models/\n",
        "- https://machinelearningmastery.com/dropout-regularization-deep-learning-models-keras/\n",
        "- https://machinelearningmastery.com/introduction-to-weight-constraints-to-reduce-generalization-error-in-deep-learning/\n",
        "- https://machinelearningmastery.com/how-to-configure-the-number-of-layers-and-nodes-in-a-neural-network/"
      ]
    }
  ]
}