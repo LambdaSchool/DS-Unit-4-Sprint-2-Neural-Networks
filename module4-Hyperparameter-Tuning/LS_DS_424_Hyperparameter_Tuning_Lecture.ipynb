{
 "cells": [
  {
   "cell_type": "markdown",
   "metadata": {
    "colab_type": "text",
    "id": "41TS0Sa0rDNx"
   },
   "source": [
    "Lambda School Data Science\n",
    "\n",
    "*Unit 4, Sprint 2, Module 4*\n",
    "\n",
    "---"
   ]
  },
  {
   "cell_type": "markdown",
   "metadata": {
    "colab_type": "text",
    "id": "41TS0Sa0rDNx"
   },
   "source": [
    "# Neural Networks Hyperparameter Tuning (Prepare)"
   ]
  },
  {
   "cell_type": "markdown",
   "metadata": {
    "colab_type": "text",
    "id": "41TS0Sa0rDNx"
   },
   "source": [
    "## Learning Objectives\n",
    "* <a href=\"#p1\">Part 1</a>: Describe the major hyperparemeters to tune\n",
    "* <a href=\"#p2\">Part 2</a>: Implement an experiment tracking framework"
   ]
  },
  {
   "cell_type": "code",
   "execution_count": 1,
   "metadata": {},
   "outputs": [],
   "source": [
    "wandb_group = \"ds8\"\n",
    "wandb_project = \"ds11_inclass\""
   ]
  },
  {
   "cell_type": "markdown",
   "metadata": {},
   "source": [
    "# Hyperparameter Options (Learn)\n",
    "<a id=\"p1\"></a>"
   ]
  },
  {
   "cell_type": "markdown",
   "metadata": {},
   "source": [
    "## Overview\n",
    "\n",
    "Hyperparameter tuning is much more important with neural networks than it has been with any other models that we have considered up to this point. Other supervised learning models might have a couple of parameters, but neural networks can have dozens. These can substantially affect the accuracy of our models and although it can be a time consuming process is a necessary step when working with neural networks.\n",
    "​\n",
    "Hyperparameter tuning comes with a challenge. How can we compare models specified with different hyperparameters if our model's final error metric can vary somewhat erratically? How do we avoid just getting unlucky and selecting the wrong hyperparameter? This is a problem that to a certain degree we just have to live with as we test and test again. However, we can minimize it somewhat by pairing our experiments with Cross Validation to reduce the variance of our final accuracy values."
   ]
  },
  {
   "cell_type": "markdown",
   "metadata": {
    "colab_type": "text",
    "id": "0s0o2pqBs88q"
   },
   "source": [
    "### Load Boston Housing Data"
   ]
  },
  {
   "cell_type": "code",
   "execution_count": 10,
   "metadata": {},
   "outputs": [],
   "source": [
    "from tensorflow.keras.datasets import boston_housing\n",
    "\n",
    "(x_train, y_train), (x_test, y_test) = boston_housing.load_data()"
   ]
  },
  {
   "cell_type": "markdown",
   "metadata": {
    "colab_type": "text",
    "id": "Pm7zow5IvaTt"
   },
   "source": [
    "### Normalizing Input Data\n",
    "\n",
    "It's not 100% necessary to normalize/scale your input data before feeding it to a neural network, the network can learn the appropriate weights to deal with data of as long as it is numerically represented,  but it is recommended as it can help **make training faster** and **reduces the chances that gradient descent might get stuck in a local optimum**.\n",
    "\n",
    "<https://stackoverflow.com/questions/4674623/why-do-we-have-to-normalize-the-input-for-an-artificial-neural-network>"
   ]
  },
  {
   "cell_type": "code",
   "execution_count": 11,
   "metadata": {},
   "outputs": [
    {
     "name": "stdout",
     "output_type": "stream",
     "text": [
      "[[-0.27224633 -0.48361547 -0.43576161 -0.25683275 -0.1652266  -0.1764426\n",
      "   0.81306188  0.1166983  -0.62624905 -0.59517003  1.14850044  0.44807713\n",
      "   0.8252202 ]\n",
      " [-0.40342651  2.99178419 -1.33391162 -0.25683275 -1.21518188  1.89434613\n",
      "  -1.91036058  1.24758524 -0.85646254 -0.34843254 -1.71818909  0.43190599\n",
      "  -1.32920239]\n",
      " [ 0.1249402  -0.48361547  1.0283258  -0.25683275  0.62864202 -1.82968811\n",
      "   1.11048828 -1.18743907  1.67588577  1.5652875   0.78447637  0.22061726\n",
      "  -1.30850006]\n",
      " [-0.40149354 -0.48361547 -0.86940196 -0.25683275 -0.3615597  -0.3245576\n",
      "  -1.23667187  1.10717989 -0.51114231 -1.094663    0.78447637  0.44807713\n",
      "  -0.65292624]\n",
      " [-0.0056343  -0.48361547  1.0283258  -0.25683275  1.32861221  0.15364225\n",
      "   0.69480801 -0.57857203  1.67588577  1.5652875   0.78447637  0.3898823\n",
      "   0.26349695]\n",
      " [-0.37502238 -0.48361547 -0.54747912 -0.25683275 -0.54935658 -0.78865126\n",
      "   0.18954148  0.48371503 -0.51114231 -0.71552978  0.51145832  0.38669063\n",
      "  -0.13812828]\n",
      " [ 0.58963463 -0.48361547  1.0283258  -0.25683275  1.21764133 -1.03127774\n",
      "   1.11048828 -1.06518235  1.67588577  1.5652875   0.78447637  0.44807713\n",
      "   1.49873604]\n",
      " [ 0.0381708  -0.48361547  1.24588095 -0.25683275  2.67733525 -1.12719983\n",
      "   1.11048828 -1.14833073 -0.51114231 -0.01744323 -1.71818909  0.44807713\n",
      "   1.88793986]\n",
      " [-0.17228416 -0.48361547  1.24588095 -0.25683275  2.67733525 -0.90150078\n",
      "   1.11048828 -1.09664657 -0.51114231 -0.01744323 -1.71818909 -1.97365769\n",
      "   0.53952803]\n",
      " [-0.22932104 -0.48361547  1.58544339 -0.25683275  0.56888847 -1.76056777\n",
      "   1.11048828 -1.13471925 -0.62624905  0.18716835  1.23950646  0.44807713\n",
      "   2.99068404]]\n"
     ]
    }
   ],
   "source": [
    "from sklearn.preprocessing import StandardScaler\n",
    "\n",
    "scaler = StandardScaler()\n",
    "\n",
    "x_train = scaler.fit_transform(x_train)\n",
    "x_test = scaler.transform(x_test)\n",
    "print(x_train[:10])"
   ]
  },
  {
   "cell_type": "markdown",
   "metadata": {
    "colab_type": "text",
    "id": "l6hgCWbir90R"
   },
   "source": [
    "### Model Validation using an automatic verification Dataset\n",
    "\n",
    "Instead of doing seperate train test split class, Keras has a really nice feature that you can set the validation.data argument when fitting your model and Keras will take that portion of your test data and use it as a validation dataset. "
   ]
  },
  {
   "cell_type": "code",
   "execution_count": 4,
   "metadata": {
    "colab": {
     "base_uri": "https://localhost:8080/",
     "height": 1750
    },
    "colab_type": "code",
    "id": "GMXVfmzXp1Oo",
    "outputId": "b05e251e-508f-46e6-865b-f869ae2a5dc4"
   },
   "outputs": [
    {
     "name": "stdout",
     "output_type": "stream",
     "text": [
      "Train on 404 samples, validate on 102 samples\n",
      "Epoch 1/75\n",
      "404/404 [==============================] - 1s 2ms/sample - loss: 544.3083 - mse: 544.3083 - mae: 21.3431 - val_loss: 484.5373 - val_mse: 484.5373 - val_mae: 20.0534\n",
      "Epoch 2/75\n",
      "404/404 [==============================] - 0s 256us/sample - loss: 337.7462 - mse: 337.7462 - mae: 16.1500 - val_loss: 204.8984 - val_mse: 204.8984 - val_mae: 12.5740\n",
      "Epoch 3/75\n",
      "404/404 [==============================] - 0s 265us/sample - loss: 97.6316 - mse: 97.6316 - mae: 7.8702 - val_loss: 57.1329 - val_mse: 57.1329 - val_mae: 5.9867\n",
      "Epoch 4/75\n",
      "404/404 [==============================] - 0s 251us/sample - loss: 41.8718 - mse: 41.8718 - mae: 4.8392 - val_loss: 37.2348 - val_mse: 37.2348 - val_mae: 4.8734\n",
      "Epoch 5/75\n",
      "404/404 [==============================] - 0s 247us/sample - loss: 27.2108 - mse: 27.2108 - mae: 3.7738 - val_loss: 30.6248 - val_mse: 30.6248 - val_mae: 4.3283\n",
      "Epoch 6/75\n",
      "404/404 [==============================] - 0s 268us/sample - loss: 22.2255 - mse: 22.2255 - mae: 3.3334 - val_loss: 27.5479 - val_mse: 27.5479 - val_mae: 4.0768\n",
      "Epoch 7/75\n",
      "404/404 [==============================] - 0s 260us/sample - loss: 19.6898 - mse: 19.6898 - mae: 3.1456 - val_loss: 24.9042 - val_mse: 24.9042 - val_mae: 3.7895\n",
      "Epoch 8/75\n",
      "404/404 [==============================] - 0s 273us/sample - loss: 18.0333 - mse: 18.0333 - mae: 2.9688 - val_loss: 24.3894 - val_mse: 24.3894 - val_mae: 3.7142\n",
      "Epoch 9/75\n",
      "404/404 [==============================] - 0s 244us/sample - loss: 16.7395 - mse: 16.7395 - mae: 2.8571 - val_loss: 23.9803 - val_mse: 23.9803 - val_mae: 3.6240\n",
      "Epoch 10/75\n",
      "404/404 [==============================] - 0s 240us/sample - loss: 15.7308 - mse: 15.7308 - mae: 2.7481 - val_loss: 23.8466 - val_mse: 23.8466 - val_mae: 3.5661\n",
      "Epoch 11/75\n",
      "404/404 [==============================] - 0s 251us/sample - loss: 14.6546 - mse: 14.6546 - mae: 2.6814 - val_loss: 22.5767 - val_mse: 22.5767 - val_mae: 3.4407\n",
      "Epoch 12/75\n",
      "404/404 [==============================] - 0s 245us/sample - loss: 13.8244 - mse: 13.8244 - mae: 2.6254 - val_loss: 22.6621 - val_mse: 22.6621 - val_mae: 3.3945\n",
      "Epoch 13/75\n",
      "404/404 [==============================] - 0s 254us/sample - loss: 13.3855 - mse: 13.3855 - mae: 2.5574 - val_loss: 22.9782 - val_mse: 22.9782 - val_mae: 3.3790\n",
      "Epoch 14/75\n",
      "404/404 [==============================] - 0s 224us/sample - loss: 12.6139 - mse: 12.6139 - mae: 2.4984 - val_loss: 22.1417 - val_mse: 22.1417 - val_mae: 3.3060\n",
      "Epoch 15/75\n",
      "404/404 [==============================] - 0s 219us/sample - loss: 12.2203 - mse: 12.2203 - mae: 2.4822 - val_loss: 23.1161 - val_mse: 23.1161 - val_mae: 3.3239\n",
      "Epoch 16/75\n",
      "404/404 [==============================] - 0s 221us/sample - loss: 12.0300 - mse: 12.0300 - mae: 2.4530 - val_loss: 23.6376 - val_mse: 23.6376 - val_mae: 3.3512\n",
      "Epoch 17/75\n",
      "404/404 [==============================] - 0s 233us/sample - loss: 11.3685 - mse: 11.3685 - mae: 2.3831 - val_loss: 23.6749 - val_mse: 23.6749 - val_mae: 3.3210\n",
      "Epoch 18/75\n",
      "404/404 [==============================] - 0s 229us/sample - loss: 10.9642 - mse: 10.9642 - mae: 2.3619 - val_loss: 23.4882 - val_mse: 23.4882 - val_mae: 3.2467\n",
      "Epoch 19/75\n",
      "404/404 [==============================] - 0s 232us/sample - loss: 10.7277 - mse: 10.7277 - mae: 2.3541 - val_loss: 24.0334 - val_mse: 24.0334 - val_mae: 3.3472\n",
      "Epoch 20/75\n",
      "404/404 [==============================] - 0s 217us/sample - loss: 10.5919 - mse: 10.5919 - mae: 2.3345 - val_loss: 22.8627 - val_mse: 22.8627 - val_mae: 3.1718\n",
      "Epoch 21/75\n",
      "404/404 [==============================] - 0s 219us/sample - loss: 10.1649 - mse: 10.1649 - mae: 2.2687 - val_loss: 22.5835 - val_mse: 22.5835 - val_mae: 3.1458\n",
      "Epoch 22/75\n",
      "404/404 [==============================] - 0s 219us/sample - loss: 10.0380 - mse: 10.0380 - mae: 2.2522 - val_loss: 22.3257 - val_mse: 22.3257 - val_mae: 3.0960\n",
      "Epoch 23/75\n",
      "404/404 [==============================] - 0s 232us/sample - loss: 10.0147 - mse: 10.0147 - mae: 2.2564 - val_loss: 24.1806 - val_mse: 24.1806 - val_mae: 3.2250\n",
      "Epoch 24/75\n",
      "404/404 [==============================] - 0s 227us/sample - loss: 9.6577 - mse: 9.6577 - mae: 2.2424 - val_loss: 23.1199 - val_mse: 23.1199 - val_mae: 3.1124\n",
      "Epoch 25/75\n",
      "404/404 [==============================] - 0s 230us/sample - loss: 9.6412 - mse: 9.6412 - mae: 2.2347 - val_loss: 22.5749 - val_mse: 22.5749 - val_mae: 3.0451\n",
      "Epoch 26/75\n",
      "404/404 [==============================] - 0s 229us/sample - loss: 9.3197 - mse: 9.3197 - mae: 2.1925 - val_loss: 21.9862 - val_mse: 21.9862 - val_mae: 2.9944\n",
      "Epoch 27/75\n",
      "404/404 [==============================] - 0s 236us/sample - loss: 9.1516 - mse: 9.1516 - mae: 2.1471 - val_loss: 24.4221 - val_mse: 24.4221 - val_mae: 3.1823\n",
      "Epoch 28/75\n",
      "404/404 [==============================] - 0s 219us/sample - loss: 9.1189 - mse: 9.1189 - mae: 2.1662 - val_loss: 22.7854 - val_mse: 22.7854 - val_mae: 3.0197\n",
      "Epoch 29/75\n",
      "404/404 [==============================] - 0s 223us/sample - loss: 9.0473 - mse: 9.0473 - mae: 2.1642 - val_loss: 21.4485 - val_mse: 21.4485 - val_mae: 2.9856\n",
      "Epoch 30/75\n",
      "404/404 [==============================] - 0s 225us/sample - loss: 9.1501 - mse: 9.1501 - mae: 2.1886 - val_loss: 21.8331 - val_mse: 21.8331 - val_mae: 3.0653\n",
      "Epoch 31/75\n",
      "404/404 [==============================] - 0s 220us/sample - loss: 8.9831 - mse: 8.9831 - mae: 2.1379 - val_loss: 22.0301 - val_mse: 22.0301 - val_mae: 3.0341\n",
      "Epoch 32/75\n",
      "404/404 [==============================] - 0s 228us/sample - loss: 8.8665 - mse: 8.8665 - mae: 2.1545 - val_loss: 21.8065 - val_mse: 21.8065 - val_mae: 3.0199\n",
      "Epoch 33/75\n",
      "404/404 [==============================] - 0s 216us/sample - loss: 8.7473 - mse: 8.7473 - mae: 2.1075 - val_loss: 21.6646 - val_mse: 21.6646 - val_mae: 2.8926\n",
      "Epoch 34/75\n",
      "404/404 [==============================] - 0s 224us/sample - loss: 8.5343 - mse: 8.5343 - mae: 2.1070 - val_loss: 20.7957 - val_mse: 20.7957 - val_mae: 2.8721\n",
      "Epoch 35/75\n",
      "404/404 [==============================] - 0s 237us/sample - loss: 8.3982 - mse: 8.3982 - mae: 2.0708 - val_loss: 20.5623 - val_mse: 20.5623 - val_mae: 2.8097\n",
      "Epoch 36/75\n",
      "404/404 [==============================] - 0s 216us/sample - loss: 8.3042 - mse: 8.3042 - mae: 2.0599 - val_loss: 21.8863 - val_mse: 21.8863 - val_mae: 2.9217\n",
      "Epoch 37/75\n",
      "404/404 [==============================] - 0s 238us/sample - loss: 8.2602 - mse: 8.2602 - mae: 2.0689 - val_loss: 20.6382 - val_mse: 20.6382 - val_mae: 2.8687\n",
      "Epoch 38/75\n",
      "404/404 [==============================] - 0s 228us/sample - loss: 8.0314 - mse: 8.0314 - mae: 2.0377 - val_loss: 21.8732 - val_mse: 21.8732 - val_mae: 2.9642\n",
      "Epoch 39/75\n",
      "404/404 [==============================] - 0s 220us/sample - loss: 8.1107 - mse: 8.1107 - mae: 2.0424 - val_loss: 19.7185 - val_mse: 19.7185 - val_mae: 2.8749\n",
      "Epoch 40/75\n",
      "404/404 [==============================] - 0s 233us/sample - loss: 8.0738 - mse: 8.0738 - mae: 2.0354 - val_loss: 21.5922 - val_mse: 21.5922 - val_mae: 2.9295\n",
      "Epoch 41/75\n",
      "404/404 [==============================] - 0s 220us/sample - loss: 7.7453 - mse: 7.7453 - mae: 2.0284 - val_loss: 19.8928 - val_mse: 19.8928 - val_mae: 2.8246\n",
      "Epoch 42/75\n",
      "404/404 [==============================] - 0s 237us/sample - loss: 7.7175 - mse: 7.7175 - mae: 1.9738 - val_loss: 20.9666 - val_mse: 20.9666 - val_mae: 2.8339\n",
      "Epoch 43/75\n",
      "404/404 [==============================] - 0s 218us/sample - loss: 7.7431 - mse: 7.7431 - mae: 2.0081 - val_loss: 20.1840 - val_mse: 20.1840 - val_mae: 2.7832\n",
      "Epoch 44/75\n",
      "404/404 [==============================] - 0s 223us/sample - loss: 7.5208 - mse: 7.5208 - mae: 1.9727 - val_loss: 21.1320 - val_mse: 21.1320 - val_mae: 2.8601\n",
      "Epoch 45/75\n",
      "404/404 [==============================] - 0s 224us/sample - loss: 7.4030 - mse: 7.4030 - mae: 1.9703 - val_loss: 19.1953 - val_mse: 19.1953 - val_mae: 2.7918\n",
      "Epoch 46/75\n",
      "404/404 [==============================] - 0s 232us/sample - loss: 7.5252 - mse: 7.5252 - mae: 1.9673 - val_loss: 19.4669 - val_mse: 19.4669 - val_mae: 2.7966\n",
      "Epoch 47/75\n",
      "404/404 [==============================] - 0s 222us/sample - loss: 7.3791 - mse: 7.3791 - mae: 1.9370 - val_loss: 21.6653 - val_mse: 21.6653 - val_mae: 2.9377\n",
      "Epoch 48/75\n",
      "404/404 [==============================] - 0s 233us/sample - loss: 7.3612 - mse: 7.3612 - mae: 1.9501 - val_loss: 20.6984 - val_mse: 20.6984 - val_mae: 2.8489\n",
      "Epoch 49/75\n",
      "404/404 [==============================] - 0s 221us/sample - loss: 7.2869 - mse: 7.2869 - mae: 1.9358 - val_loss: 20.0172 - val_mse: 20.0172 - val_mae: 2.7790\n",
      "Epoch 50/75\n",
      "404/404 [==============================] - 0s 220us/sample - loss: 7.1723 - mse: 7.1723 - mae: 1.9214 - val_loss: 20.1044 - val_mse: 20.1044 - val_mae: 2.8105\n",
      "Epoch 51/75\n",
      "404/404 [==============================] - 0s 228us/sample - loss: 7.2667 - mse: 7.2667 - mae: 1.9379 - val_loss: 20.4584 - val_mse: 20.4584 - val_mae: 2.7848\n",
      "Epoch 52/75\n",
      "404/404 [==============================] - 0s 222us/sample - loss: 6.8764 - mse: 6.8764 - mae: 1.8811 - val_loss: 20.4997 - val_mse: 20.4997 - val_mae: 2.8229\n",
      "Epoch 53/75\n",
      "404/404 [==============================] - 0s 224us/sample - loss: 6.9247 - mse: 6.9247 - mae: 1.8864 - val_loss: 19.7057 - val_mse: 19.7057 - val_mae: 2.7565\n",
      "Epoch 54/75\n",
      "404/404 [==============================] - 0s 224us/sample - loss: 7.2145 - mse: 7.2145 - mae: 1.9344 - val_loss: 19.5012 - val_mse: 19.5012 - val_mae: 2.8092\n",
      "Epoch 55/75\n",
      "404/404 [==============================] - 0s 218us/sample - loss: 6.9329 - mse: 6.9329 - mae: 1.8852 - val_loss: 19.7050 - val_mse: 19.7050 - val_mae: 2.7726\n",
      "Epoch 56/75\n",
      "404/404 [==============================] - 0s 229us/sample - loss: 6.6761 - mse: 6.6761 - mae: 1.8562 - val_loss: 19.4340 - val_mse: 19.4340 - val_mae: 2.7406\n",
      "Epoch 57/75\n",
      "404/404 [==============================] - 0s 233us/sample - loss: 6.5672 - mse: 6.5672 - mae: 1.8516 - val_loss: 18.6733 - val_mse: 18.6733 - val_mae: 2.7232\n",
      "Epoch 58/75\n",
      "404/404 [==============================] - 0s 224us/sample - loss: 6.6652 - mse: 6.6652 - mae: 1.8507 - val_loss: 17.5871 - val_mse: 17.5871 - val_mae: 2.6430\n",
      "Epoch 59/75\n",
      "404/404 [==============================] - 0s 231us/sample - loss: 6.4085 - mse: 6.4085 - mae: 1.8325 - val_loss: 19.0245 - val_mse: 19.0245 - val_mae: 2.7230\n",
      "Epoch 60/75\n",
      "404/404 [==============================] - 0s 219us/sample - loss: 6.4911 - mse: 6.4911 - mae: 1.8383 - val_loss: 18.4948 - val_mse: 18.4948 - val_mae: 2.6723\n",
      "Epoch 61/75\n",
      "404/404 [==============================] - 0s 233us/sample - loss: 6.2930 - mse: 6.2930 - mae: 1.8212 - val_loss: 18.5589 - val_mse: 18.5589 - val_mae: 2.6768\n",
      "Epoch 62/75\n",
      "404/404 [==============================] - 0s 219us/sample - loss: 6.4101 - mse: 6.4101 - mae: 1.8335 - val_loss: 19.4814 - val_mse: 19.4814 - val_mae: 2.7465\n",
      "Epoch 63/75\n",
      "404/404 [==============================] - 0s 237us/sample - loss: 6.3933 - mse: 6.3933 - mae: 1.8347 - val_loss: 17.7395 - val_mse: 17.7395 - val_mae: 2.6658\n",
      "Epoch 64/75\n",
      "404/404 [==============================] - 0s 220us/sample - loss: 6.2546 - mse: 6.2546 - mae: 1.8429 - val_loss: 16.8430 - val_mse: 16.8430 - val_mae: 2.6287\n",
      "Epoch 65/75\n",
      "404/404 [==============================] - 0s 222us/sample - loss: 6.5956 - mse: 6.5956 - mae: 1.8392 - val_loss: 17.7268 - val_mse: 17.7268 - val_mae: 2.7315\n",
      "Epoch 66/75\n",
      "404/404 [==============================] - 0s 232us/sample - loss: 6.1264 - mse: 6.1264 - mae: 1.7873 - val_loss: 16.6862 - val_mse: 16.6862 - val_mae: 2.6126\n",
      "Epoch 67/75\n",
      "404/404 [==============================] - 0s 219us/sample - loss: 6.1154 - mse: 6.1154 - mae: 1.8061 - val_loss: 16.8864 - val_mse: 16.8864 - val_mae: 2.5892\n",
      "Epoch 68/75\n",
      "404/404 [==============================] - 0s 232us/sample - loss: 5.9939 - mse: 5.9939 - mae: 1.7642 - val_loss: 18.2272 - val_mse: 18.2272 - val_mae: 2.7402\n",
      "Epoch 69/75\n",
      "404/404 [==============================] - 0s 225us/sample - loss: 6.0506 - mse: 6.0506 - mae: 1.7770 - val_loss: 18.4401 - val_mse: 18.4401 - val_mae: 2.7511\n",
      "Epoch 70/75\n",
      "404/404 [==============================] - 0s 223us/sample - loss: 5.8779 - mse: 5.8779 - mae: 1.7374 - val_loss: 17.3671 - val_mse: 17.3671 - val_mae: 2.6327\n",
      "Epoch 71/75\n",
      "404/404 [==============================] - 0s 219us/sample - loss: 6.0414 - mse: 6.0414 - mae: 1.7970 - val_loss: 16.8065 - val_mse: 16.8065 - val_mae: 2.6731\n",
      "Epoch 72/75\n",
      "404/404 [==============================] - 0s 229us/sample - loss: 5.7306 - mse: 5.7306 - mae: 1.7169 - val_loss: 16.9104 - val_mse: 16.9104 - val_mae: 2.6158\n",
      "Epoch 73/75\n",
      "404/404 [==============================] - 0s 222us/sample - loss: 5.4642 - mse: 5.4642 - mae: 1.7096 - val_loss: 17.4670 - val_mse: 17.4670 - val_mae: 2.7262\n",
      "Epoch 74/75\n",
      "404/404 [==============================] - 0s 222us/sample - loss: 5.5597 - mse: 5.5597 - mae: 1.7107 - val_loss: 16.2003 - val_mse: 16.2003 - val_mae: 2.5334\n",
      "Epoch 75/75\n",
      "404/404 [==============================] - 0s 226us/sample - loss: 5.4943 - mse: 5.4943 - mae: 1.6957 - val_loss: 17.0522 - val_mse: 17.0522 - val_mae: 2.6884\n"
     ]
    },
    {
     "data": {
      "text/plain": [
       "<tensorflow.python.keras.callbacks.History at 0x145e9edd8>"
      ]
     },
     "execution_count": 4,
     "metadata": {},
     "output_type": "execute_result"
    }
   ],
   "source": [
    "from tensorflow import keras\n",
    "from tensorflow.keras.models import Sequential\n",
    "from tensorflow.keras.layers import Dense\n",
    "\n",
    "# Important Hyperparameters\n",
    "inputs = x_train.shape[1]\n",
    "epochs = 75\n",
    "batch_size = 10\n",
    "\n",
    "\n",
    "# Create Model\n",
    "model = Sequential()\n",
    "model.add(Dense(64, activation='relu', input_shape=(inputs,)))\n",
    "model.add(Dense(64, activation='relu'))\n",
    "model.add(Dense(1))\n",
    "\n",
    "# Compile Model\n",
    "model.compile(optimizer='adam', loss='mse', metrics=['mse', 'mae'])\n",
    "\n",
    "# Fit Model\n",
    "model.fit(x_train, y_train, \n",
    "          validation_data=(x_test,y_test), \n",
    "          epochs=epochs, \n",
    "          batch_size=batch_size\n",
    "         )"
   ]
  },
  {
   "cell_type": "markdown",
   "metadata": {
    "colab_type": "text",
    "id": "sYJ8t_ezHP4W"
   },
   "source": [
    "### Hyperparameter Tuning Approaches:\n",
    "\n",
    "#### 1) Babysitting AKA \"Grad Student Descent\".\n",
    "\n",
    "If you fiddled with any hyperparameters yesterday, this is basically what you did. This approach is 100% manual and is pretty common among researchers where finding that 1 exact specification that jumps your model to a level of accuracy never seen before is the difference between publishing and not publishing a paper. Of course the professors don't do this themselves, that's grunt work. This is also known as the fiddle with hyperparameters until you run out of time method.\n",
    "\n",
    "#### 2) Grid Search\n",
    "\n",
    "Grid Search is the Grad Student galaxy brain realization of: why don't I just specify all the experiments I want to run and let the computer try every possible combination of them while I go and grab lunch. This has a specific downside in that if I specify 5 hyperparameters with 5 options each then I've just created 5^5 combinations of hyperparameters to check. Which means that I have to train 3125 different versions of my model Then if I use 5-fold Cross Validation on that then my model has to run 15,525 times. This is the brute-force method of hyperparameter tuning, but it can be very profitable if done wisely. \n",
    "\n",
    "When using Grid Search here's what I suggest: don't use it to test combinations of different hyperparameters, only use it to test different specifications of **a single** hyperparameter. It's rare that combinations between different hyperparameters lead to big performance gains. You'll get 90-95% of the way there if you just Grid Search one parameter and take the best result, then retain that best result while you test another, and then retain the best specification from that while you train another. This at least makes the situation much more manageable and leads to pretty good results. \n",
    "\n",
    "#### 3) Random Search\n",
    "\n",
    "Do Grid Search for a couple of hours and you'll say to yourself - \"There's got to be a better way.\" Enter Random Search. For Random search you specify a hyperparameter space and it picks specifications from that randomly, tries them out, gives you the best results and says - That's going to have to be good enough, go home and spend time with your family. \n",
    "\n",
    "Grid Search treats every parameter as if it was equally important, but this just isn't the case, some are known to move the needle a lot more than others (we'll talk about that in a minute). Random Search allows searching to be specified along the most important parameter and experiments less along the dimensions of less important hyperparameters. The downside of Random search is that it won't find the absolute best hyperparameters, but it is much less costly to perform than Grid Search. \n",
    "\n",
    "#### 4) Bayesian Methods\n",
    "\n",
    "One thing that can make more manual methods like babysitting and gridsearch effective is that as the experimenter sees results he can then make updates to his future searches taking into account the results of past specifications. If only we could hyperparameter tune our hyperparameter tuning. Well, we kind of can. Enter Bayesian Optimization. Neural Networks are like an optimization problem within an optimization problem, and Bayesian Optimization is a search strategy that tries to take into account the results of past searches in order to improve future ones. This is the most advanced method but can be a little bit tricky to implement, but there are some early steps with `hyperas` which is Bayesian optimization wrapper for `keras`. "
   ]
  },
  {
   "cell_type": "markdown",
   "metadata": {
    "colab_type": "text",
    "id": "HfQ7D043OMMn"
   },
   "source": [
    "## What Hyperparameters are there to test?\n",
    "\n",
    "- batch_size\n",
    "- optimization algorithms\n",
    "- learning rate\n",
    "- momentum\n",
    "- activation functions\n",
    "- dropout regularization\n",
    "- number of neurons in the hidden layer\n",
    "\n",
    "There are more, but these are the most important."
   ]
  },
  {
   "cell_type": "markdown",
   "metadata": {},
   "source": [
    "## Follow Along"
   ]
  },
  {
   "cell_type": "markdown",
   "metadata": {
    "colab_type": "text",
    "id": "Mri5-kXzVKAa"
   },
   "source": [
    "## Batch Size\n",
    "\n",
    "Batch size determines how many observations the model is shown before it calculates loss/error and updates the model weights via gradient descent. You're looking for a sweet spot here where you're showing it enough observations that you have enough information to updates the weights, but not such a large batch size that you don't get a lot of weight update iterations performed in a given epoch. Feed-forward Neural Networks aren't as sensitive to bach_size as other networks, but it is still an important hyperparameter to tune. Smaller batch sizes will also take longer to train. "
   ]
  },
  {
   "cell_type": "code",
   "execution_count": 5,
   "metadata": {
    "colab": {
     "base_uri": "https://localhost:8080/",
     "height": 13561
    },
    "colab_type": "code",
    "id": "2smXfriNAGn7",
    "outputId": "ae996575-78e2-43fb-9dbe-5d44aaf0b430"
   },
   "outputs": [
    {
     "name": "stdout",
     "output_type": "stream",
     "text": [
      "Best: 0.6575927376747132 using {'batch_size': 20, 'epochs': 20}\n",
      "Means: 0.6575502991676331, Stdev: 0.03277362834273276 with: {'batch_size': 10, 'epochs': 20}\n",
      "Means: 0.6575927376747132, Stdev: 0.040406956361459585 with: {'batch_size': 20, 'epochs': 20}\n",
      "Means: 0.5522027134895324, Stdev: 0.05576346832400286 with: {'batch_size': 40, 'epochs': 20}\n",
      "Means: 0.6250573039054871, Stdev: 0.05191170314412466 with: {'batch_size': 60, 'epochs': 20}\n",
      "Means: 0.5820643424987793, Stdev: 0.06062749588345752 with: {'batch_size': 80, 'epochs': 20}\n",
      "Means: 0.5455224573612213, Stdev: 0.057763447051989075 with: {'batch_size': 100, 'epochs': 20}\n"
     ]
    }
   ],
   "source": [
    "import numpy\n",
    "import pandas as pd\n",
    "from sklearn.model_selection import GridSearchCV\n",
    "from tensorflow.keras.models import Sequential\n",
    "from tensorflow.keras.layers import Dense\n",
    "from tensorflow.keras.wrappers.scikit_learn import KerasClassifier\n",
    "\n",
    "# fix random seed for reproducibility\n",
    "seed = 7\n",
    "numpy.random.seed(seed)\n",
    "\n",
    "# load dataset\n",
    "url =\"https://raw.githubusercontent.com/jbrownlee/Datasets/master/pima-indians-diabetes.data.csv\"\n",
    "\n",
    "dataset = pd.read_csv(url, header=None).values\n",
    "\n",
    "# split into input (X) and output (Y) variables\n",
    "X = dataset[:,0:8]\n",
    "Y = dataset[:,8]\n",
    "\n",
    "# Function to create model, required for KerasClassifier\n",
    "def create_model():\n",
    "    # create model\n",
    "    model = Sequential()\n",
    "    model.add(Dense(12, input_dim=8, activation='relu'))\n",
    "    model.add(Dense(1, activation='sigmoid'))\n",
    "    # Compile model\n",
    "    model.compile(loss='binary_crossentropy', optimizer='adam', metrics=['accuracy'])\n",
    "    return model\n",
    "\n",
    "# create model\n",
    "model = KerasClassifier(build_fn=create_model, verbose=0)\n",
    "\n",
    "# define the grid search parameters\n",
    "# batch_size = [10, 20, 40, 60, 80, 100]\n",
    "# param_grid = dict(batch_size=batch_size, epochs=epochs)\n",
    "\n",
    "# define the grid search parameters\n",
    "param_grid = {'batch_size': [10, 20, 40, 60, 80, 100],\n",
    "              'epochs': [20]}\n",
    "\n",
    "# Create Grid Search\n",
    "grid = GridSearchCV(estimator=model, param_grid=param_grid, n_jobs=1)\n",
    "grid_result = grid.fit(X, Y)\n",
    "\n",
    "# Report Results\n",
    "print(f\"Best: {grid_result.best_score_} using {grid_result.best_params_}\")\n",
    "means = grid_result.cv_results_['mean_test_score']\n",
    "stds = grid_result.cv_results_['std_test_score']\n",
    "params = grid_result.cv_results_['params']\n",
    "for mean, stdev, param in zip(means, stds, params):\n",
    "    print(f\"Means: {mean}, Stdev: {stdev} with: {param}\") "
   ]
  },
  {
   "cell_type": "markdown",
   "metadata": {
    "colab_type": "text",
    "id": "EKcuY6OiaLfz"
   },
   "source": [
    "## Optimizer\n",
    "\n",
    "Remember that there's a different optimizers [optimizers](https://keras.io/optimizers/). At some point, take some time to read up on them a little bit. \"adam\" usually gives the best results. The thing to know about choosing an optimizer is that different optimizers have different hyperparameters like learning rate, momentum, etc. So based on the optimizer you choose you might also have to tune the learning rate and momentum of those optimizers after that. "
   ]
  },
  {
   "cell_type": "code",
   "execution_count": 7,
   "metadata": {},
   "outputs": [],
   "source": [
    "from tensorflow.keras.callbacks import EarlyStopping\n",
    "\n",
    "stop = EarlyStopping(monitor='accuracy', min_delta=.01)"
   ]
  },
  {
   "cell_type": "code",
   "execution_count": 8,
   "metadata": {},
   "outputs": [
    {
     "name": "stdout",
     "output_type": "stream",
     "text": [
      "Best: 0.6213139891624451 using {'batch_size': 20, 'epochs': 99, 'optimizer': 'adam'}\n",
      "Means: 0.6213139891624451, Stdev: 0.07913875122096832 with: {'batch_size': 20, 'epochs': 99, 'optimizer': 'adam'}\n",
      "Means: 0.608174180984497, Stdev: 0.07046889994479176 with: {'batch_size': 20, 'epochs': 99, 'optimizer': 'nadam'}\n",
      "Means: 0.6119854092597962, Stdev: 0.03779612651880406 with: {'batch_size': 20, 'epochs': 99, 'optimizer': 'sgd'}\n",
      "Means: 0.44275528788566587, Stdev: 0.13638493527989184 with: {'batch_size': 20, 'epochs': 99, 'optimizer': 'adadelta'}\n",
      "Means: 0.5191664576530457, Stdev: 0.12088601327753769 with: {'batch_size': 20, 'epochs': 99, 'optimizer': 'adagrad'}\n"
     ]
    }
   ],
   "source": [
    "# Function to create model, required for KerasClassifier\n",
    "def create_model(optimizer='adam'):\n",
    "    # create model\n",
    "    model = Sequential()\n",
    "    model.add(Dense(12, input_dim=8, activation='relu'))\n",
    "    model.add(Dense(1, activation='sigmoid'))\n",
    "    # Compile model\n",
    "    model.compile(loss='binary_crossentropy', optimizer=optimizer, metrics=['accuracy'])\n",
    "    return model\n",
    "\n",
    "# create model\n",
    "model = KerasClassifier(build_fn=create_model, verbose=0)\n",
    "\n",
    "# define the grid search parameters\n",
    "# batch_size = [10, 20, 40, 60, 80, 100]\n",
    "# param_grid = dict(batch_size=batch_size, epochs=epochs)\n",
    "\n",
    "# define the grid search parameters\n",
    "param_grid = {'batch_size': [20],\n",
    "              'epochs': [99],\n",
    "              'optimizer': ['adam', 'nadam', 'sgd', 'adadelta', 'adagrad']\n",
    "             }\n",
    "\n",
    "# Create Grid Search\n",
    "grid = GridSearchCV(estimator=model, param_grid=param_grid, n_jobs=1)\n",
    "grid_result = grid.fit(X, Y, epochs=99, callbacks=[stop])\n",
    "\n",
    "# Report Results\n",
    "print(f\"Best: {grid_result.best_score_} using {grid_result.best_params_}\")\n",
    "means = grid_result.cv_results_['mean_test_score']\n",
    "stds = grid_result.cv_results_['std_test_score']\n",
    "params = grid_result.cv_results_['params']\n",
    "for mean, stdev, param in zip(means, stds, params):\n",
    "    print(f\"Means: {mean}, Stdev: {stdev} with: {param}\") "
   ]
  },
  {
   "cell_type": "markdown",
   "metadata": {
    "colab_type": "text",
    "id": "DG3wq5iOaLig"
   },
   "source": [
    "## Learning Rate\n",
    "\n",
    "Remember that the Learning Rate is a hyperparameter that is specific to your gradient-descent based optimizer selection. A learning rate that is too high will cause divergent behavior, but a Learning Rate that is too low will fail to converge, again, you're looking for the sweet spot. I would start out tuning learning rates by orders of magnitude: [.001, .01, .1, .2, .3, .5] etc. I wouldn't go above .5, but you can try it and see what the behavior is like. \n",
    "\n",
    "Once you have narrowed it down, make the window even smaller and try it again. If after running the above specification your model reports that .1 is the best optimizer, then you should probably try things like [.05, .08, .1, .12, .15] to try and narrow it down. \n",
    "\n",
    "It can also be good to tune the number of epochs in combination with the learning rate since the number of iterations that you allow the learning rate to reach the minimum can determine if you have let it run long enough to converge to the minimum. "
   ]
  },
  {
   "cell_type": "markdown",
   "metadata": {
    "colab_type": "text",
    "id": "gNTBUWd1aLlA"
   },
   "source": [
    "## Momentum\n",
    "\n",
    "Momentum is a hyperparameter that is more commonly associated with Stochastic Gradient Descent. SGD is a common optimizer because it's what people understand and know, but I doubt it will get you the best results, you can try hyperparameter tuning its attributes and see if you can beat the performance from adam. Momentum is a property that decides the willingness of an optimizer to overshoot the minimum. Imagine a ball rolling down one side of a bowl and then up the opposite side a little bit before settling back to the bottom. The purpose of momentum is to try and escale local minima."
   ]
  },
  {
   "cell_type": "markdown",
   "metadata": {
    "colab_type": "text",
    "id": "xnEG-bCJaLnZ"
   },
   "source": [
    "## Activation Functions\n",
    "\n",
    "We've talked about this a little bit, typically you'l want to use ReLU for hidden layers and either Sigmoid, or Softmax for output layers of binary and multi-class classification implementations respectively, but try other activation functions and see if you can get any better results with sigmoid or tanh or something. There are a lot of activation functions that we haven't really talked about. Maybe you'll get good results with them. Maybe you won't. :) <https://keras.io/activations/>"
   ]
  },
  {
   "cell_type": "markdown",
   "metadata": {
    "colab_type": "text",
    "id": "oul9sPq-dU-h"
   },
   "source": [
    "## Network Weight Initialization\n",
    "\n",
    "You saw how big of an effect the way that we initialize our network's weights can have on our results. There are **a lot** of what are called initialization modes. I don't understand all of them, but they can have a big affect on your model's initial accuracy. Your model will get further with less epochs if you initialize it with weights that are well suited to the problem you're trying to solve.\n",
    "\n",
    "`init_mode = ['uniform', 'lecun_uniform', 'normal', 'zero', 'glorot_normal', 'glorot_uniform', 'he_normal', 'he_uniform']`"
   ]
  },
  {
   "cell_type": "markdown",
   "metadata": {
    "colab_type": "text",
    "id": "bqtEuxeQaLqE"
   },
   "source": [
    "## Dropout Regularization and the Weight Constraint\n",
    "\n",
    "the Dropout Regularization value is a percentage of neurons that you want to be randomly deactivated during training. The weight constraint is a second regularization parameter that works in tandem with dropout regularization. You should tune these two values at the same time. \n",
    "\n",
    "Using dropout on visible vs hidden layers might have a different effect. Using dropout on hidden layers might not have any effect while using dropout on hidden layers might have a substantial effect. You don't necessarily need to turn use dropout unless you see that your model has overfitting and generalizability problems."
   ]
  },
  {
   "cell_type": "markdown",
   "metadata": {
    "colab_type": "text",
    "id": "P2c5Cv6oaLtO"
   },
   "source": [
    "## Neurons in Hidden Layer \n",
    "\n",
    "Remember that when we only had a single perceptron our model was only able to fit to linearly separable data, but as we have added layers and nodes to those layers our network has become a powerhouse of fitting nonlinearity in data. The larger the network and the more nodes generally the stronger the network's capacity to fit nonlinear patterns in data. The more nodes and layers the longer it will take to train a network, and higher the probability of overfitting. The larger your network gets the more you'll need dropout regularization or other regularization techniques to keep it in check. \n",
    "\n",
    "Typically depth (more layers) is more important than width (more nodes) for neural networks. This is part of why Deep Learning is so highly touted. Certain deep learning architectures have truly been huge breakthroughs for certain machine learning tasks. \n",
    "\n",
    "You might borrow ideas from other network architectures. For example if I was doing image recognition and I wasn't taking cues from state of the art architectures like resnet, alexnet, googlenet, etc. Then I'm probably going to have to do a lot more experimentation on my own before I find something that works.\n",
    "\n",
    "There are some heuristics, but I am highly skeptical of them. I think you're better off experimenting on your own and forming your own intuition for these kinds of problems. \n",
    "\n",
    "- https://machinelearningmastery.com/how-to-configure-the-number-of-layers-and-nodes-in-a-neural-network/"
   ]
  },
  {
   "cell_type": "markdown",
   "metadata": {},
   "source": [
    "## Challenge\n",
    "You will be expected to tune several hyperparameters in today's module project. "
   ]
  },
  {
   "cell_type": "markdown",
   "metadata": {},
   "source": [
    "# Experiment Tracking Framework (Learn)\n",
    "<a id=\"p2\"></a>"
   ]
  },
  {
   "cell_type": "markdown",
   "metadata": {},
   "source": [
    "## Overview\n",
    "\n",
    "You will notice quickly that managing the results of all the experiments you are running becomes challenging. Which set of parameters did the best? Are my results today different than my results yesterday? Although we use Ipython Notebooks to work, the format is not well suited to logging experimental results. Enter experiment tracking frameworks like [Comet.ml](https://comet.ml) and [Weights and Biases](https://wandb.ai/).\n",
    "\n",
    "Those tools will help you track your experiments, store the results, and the code associated with those experiments. Experimental results can also be readily visualized to see changes in performance across any metric you care about. Data is sent to the tool as each epoch is completed, so you can also see if your model is converging. Let's check out Weights & Biases today. "
   ]
  },
  {
   "cell_type": "markdown",
   "metadata": {},
   "source": [
    "## Follow Along\n",
    "\n",
    "Make sure you login into `wandb` in the terminal before running the next cell. "
   ]
  },
  {
   "cell_type": "code",
   "execution_count": 9,
   "metadata": {},
   "outputs": [],
   "source": [
    "import wandb\n",
    "from wandb.keras import WandbCallback"
   ]
  },
  {
   "cell_type": "code",
   "execution_count": 15,
   "metadata": {},
   "outputs": [],
   "source": [
    "from tensorflow.keras.optimizers import Ftrl\n",
    "\n",
    "ftrl = Ftrl(learning_rate=0.01, learning_rate_power=-0.3)"
   ]
  },
  {
   "cell_type": "code",
   "execution_count": 19,
   "metadata": {},
   "outputs": [],
   "source": [
    "from tensorflow.keras.callbacks import EarlyStopping\n",
    "\n",
    "stop = EarlyStopping(monitor='mse', min_delta=1)"
   ]
  },
  {
   "cell_type": "code",
   "execution_count": 20,
   "metadata": {
    "colab": {
     "base_uri": "https://localhost:8080/",
     "height": 1750
    },
    "colab_type": "code",
    "id": "GMXVfmzXp1Oo",
    "outputId": "b05e251e-508f-46e6-865b-f869ae2a5dc4"
   },
   "outputs": [
    {
     "data": {
      "text/html": [
       "\n",
       "                Logging results to <a href=\"https://wandb.com\" target=\"_blank\">Weights & Biases</a> <a href=\"https://docs.wandb.com/integrations/jupyter.html\" target=\"_blank\">(Documentation)</a>.<br/>\n",
       "                Project page: <a href=\"https://app.wandb.ai/ds8/ds11_inclass\" target=\"_blank\">https://app.wandb.ai/ds8/ds11_inclass</a><br/>\n",
       "                Run page: <a href=\"https://app.wandb.ai/ds8/ds11_inclass/runs/3c8m76vb\" target=\"_blank\">https://app.wandb.ai/ds8/ds11_inclass/runs/3c8m76vb</a><br/>\n",
       "            "
      ],
      "text/plain": [
       "<IPython.core.display.HTML object>"
      ]
     },
     "metadata": {},
     "output_type": "display_data"
    },
    {
     "name": "stdout",
     "output_type": "stream",
     "text": [
      "Train on 270 samples, validate on 134 samples\n",
      "Epoch 1/90\n",
      "270/270 [==============================] - 1s 3ms/sample - loss: 172.2011 - mse: 172.2011 - mae: 9.5111 - val_loss: 74.1282 - val_mse: 74.1282 - val_mae: 6.6899\n",
      "Epoch 2/90\n",
      "270/270 [==============================] - 0s 965us/sample - loss: 19.5808 - mse: 19.5808 - mae: 3.1929 - val_loss: 29.4331 - val_mse: 29.4331 - val_mae: 4.0557\n",
      "Epoch 3/90\n",
      "270/270 [==============================] - 0s 950us/sample - loss: 13.6403 - mse: 13.6403 - mae: 2.6759 - val_loss: 22.3275 - val_mse: 22.3275 - val_mae: 2.6901\n",
      "Epoch 4/90\n",
      "270/270 [==============================] - 0s 672us/sample - loss: 14.2740 - mse: 14.2740 - mae: 2.6397 - val_loss: 24.1007 - val_mse: 24.1007 - val_mae: 3.0031\n"
     ]
    },
    {
     "data": {
      "text/plain": [
       "<tensorflow.python.keras.callbacks.History at 0x149595e48>"
      ]
     },
     "execution_count": 20,
     "metadata": {},
     "output_type": "execute_result"
    }
   ],
   "source": [
    "#Initializes and Experiment\n",
    "wandb.init(project=wandb_project, entity=wandb_group)\n",
    "\n",
    "# Important Hyperparameters\n",
    "X =  x_train\n",
    "y =  y_train\n",
    "\n",
    "inputs = X.shape[1]\n",
    "wandb.config.epochs = 90\n",
    "wandb.config.batch_size = 5\n",
    "\n",
    "# Create Model\n",
    "model = Sequential()\n",
    "model.add(Dense(64, activation='relu', input_shape=(inputs,)))\n",
    "model.add(Dense(64, activation='relu'))\n",
    "model.add(Dense(64, activation='relu'))\n",
    "model.add(Dense(64, activation='relu'))\n",
    "model.add(Dense(64, activation='relu'))\n",
    "model.add(Dense(1))\n",
    "# Compile Model\n",
    "model.compile(optimizer=ftrl, loss='mse', metrics=['mse', 'mae'])\n",
    "\n",
    "# Fit Model\n",
    "model.fit(X, y, \n",
    "          validation_split=0.33, \n",
    "          epochs=wandb.config.epochs, \n",
    "          batch_size=wandb.config.batch_size, \n",
    "          callbacks=[WandbCallback(), stop]\n",
    "         )"
   ]
  },
  {
   "cell_type": "markdown",
   "metadata": {},
   "source": [
    "## Challenge\n",
    "\n",
    "You will be expected to use Weights & Biases to try to tune your model during your module assignment today. "
   ]
  },
  {
   "cell_type": "markdown",
   "metadata": {},
   "source": [
    "## Challenge\n",
    "\n",
    "Try to apply RandomSearchCV to your module project today. "
   ]
  },
  {
   "cell_type": "markdown",
   "metadata": {},
   "source": [
    "# Review\n",
    "* <a href=\"#p1\">Part 1</a>: Describe the major hyperparemeters to tune\n",
    "    - Activation Functions\n",
    "    - Optimizer\n",
    "    - Number of Layers\n",
    "    - Number of Neurons\n",
    "    - Batch Size\n",
    "    - Dropout Regulaization\n",
    "    - Learning Rate\n",
    "    - Number of Epochs\n",
    "    - and many more\n",
    "* <a href=\"#p2\">Part 2</a>: Implement an experiment tracking framework\n",
    "    - Weights & Biases\n",
    "    - Comet.ml\n",
    "    - By Hand / GridSearch\n",
    "* <a href=\"#p3\">Optional</a>: Discuss emerging hyperparameter tuning strategies\n",
    "    - Bayesian Optimization\n",
    "    - Hyperopt\n",
    "    - Genetic Evolution"
   ]
  },
  {
   "cell_type": "markdown",
   "metadata": {},
   "source": [
    "# Sources"
   ]
  },
  {
   "cell_type": "markdown",
   "metadata": {},
   "source": [
    "## Additional Reading\n",
    "- https://machinelearningmastery.com/grid-search-hyperparameters-deep-learning-models-python-keras/\n",
    "- https://blog.floydhub.com/guide-to-hyperparameters-search-for-deep-learning-models/\n",
    "- https://machinelearningmastery.com/dropout-regularization-deep-learning-models-keras/\n",
    "- https://machinelearningmastery.com/introduction-to-weight-constraints-to-reduce-generalization-error-in-deep-learning/\n",
    "- https://machinelearningmastery.com/how-to-configure-the-number-of-layers-and-nodes-in-a-neural-network/"
   ]
  }
 ],
 "metadata": {
  "kernelspec": {
   "display_name": "U4-S2-NN (Python3)",
   "language": "python",
   "name": "u4-s2-nn"
  },
  "language_info": {
   "codemirror_mode": {
    "name": "ipython",
    "version": 3
   },
   "file_extension": ".py",
   "mimetype": "text/x-python",
   "name": "python",
   "nbconvert_exporter": "python",
   "pygments_lexer": "ipython3",
   "version": "3.7.0"
  }
 },
 "nbformat": 4,
 "nbformat_minor": 4
}
