{
 "cells": [
  {
   "cell_type": "markdown",
   "metadata": {
    "colab_type": "text",
    "id": "41TS0Sa0rDNx"
   },
   "source": [
    "<img align=\"left\" src=\"https://lever-client-logos.s3.amazonaws.com/864372b1-534c-480e-acd5-9711f850815c-1524247202159.png\" width=200>\n",
    "<br></br>\n",
    "\n",
    "# Hyperparameter Tuning\n",
    "\n",
    "## *Data Science Unit 4 Sprint 2 Lecture 4*\n",
    "\n",
    "# Model Validation with Keras - Boston Housing Data"
   ]
  },
  {
   "cell_type": "code",
   "execution_count": 3,
   "metadata": {
    "colab": {},
    "colab_type": "code",
    "id": "ZyirqVC_sC64"
   },
   "outputs": [],
   "source": [
    "from tensorflow import keras\n",
    "from tensorflow.keras.models import Sequential\n",
    "from tensorflow.keras.layers import Dense\n",
    "import pandas as pd\n",
    "import numpy\n",
    "# fix random seed for reproducibility\n",
    "numpy.random.seed(42)"
   ]
  },
  {
   "cell_type": "code",
   "execution_count": 5,
   "metadata": {},
   "outputs": [
    {
     "data": {
      "text/html": [
       "\n",
       "        Notebook configured with <a href=\"https://wandb.com\" target=\"_blank\">W&B</a>. You can <a href=\"https://app.wandb.ai/ds5/ds5-hyperparamter-tuning/runs/ufnoymfh\" target=\"_blank\">open</a> the run page, or call <code>%%wandb</code>\n",
       "        in a cell containing your training loop to display live results.  Learn more in our <a href=\"https://docs.wandb.com/docs/integrations/jupyter.html\" target=\"_blank\">docs</a>.\n",
       "    "
      ],
      "text/plain": [
       "<IPython.core.display.HTML object>"
      ]
     },
     "metadata": {},
     "output_type": "display_data"
    },
    {
     "data": {
      "text/plain": [
       "W&B Run: https://app.wandb.ai/ds5/ds5-hyperparamter-tuning/runs/ufnoymfh"
      ]
     },
     "execution_count": 5,
     "metadata": {},
     "output_type": "execute_result"
    }
   ],
   "source": [
    "import wandb\n",
    "from wandb.keras import WandbCallback\n",
    "wandb.init(project=\"ds5-hyperparamter-tuning\", entity='ds5')"
   ]
  },
  {
   "cell_type": "markdown",
   "metadata": {
    "colab_type": "text",
    "id": "0s0o2pqBs88q"
   },
   "source": [
    "### Load Boston Housing Data\n",
    "\n",
    "Even though we can import this dataset from Keras, Keras already has it divided up into test and train datasets for us I don't want that for this demonstration, so I'm going to import it from Scikit-Learn instead."
   ]
  },
  {
   "cell_type": "code",
   "execution_count": 6,
   "metadata": {
    "colab": {
     "base_uri": "https://localhost:8080/",
     "height": 212
    },
    "colab_type": "code",
    "id": "cMMt4MtAsVx0",
    "outputId": "a4e3e990-f948-46e6-ea93-dd7433a317e9"
   },
   "outputs": [
    {
     "name": "stdout",
     "output_type": "stream",
     "text": [
      "(506, 14)\n"
     ]
    },
    {
     "data": {
      "text/html": [
       "<div>\n",
       "<style scoped>\n",
       "    .dataframe tbody tr th:only-of-type {\n",
       "        vertical-align: middle;\n",
       "    }\n",
       "\n",
       "    .dataframe tbody tr th {\n",
       "        vertical-align: top;\n",
       "    }\n",
       "\n",
       "    .dataframe thead th {\n",
       "        text-align: right;\n",
       "    }\n",
       "</style>\n",
       "<table border=\"1\" class=\"dataframe\">\n",
       "  <thead>\n",
       "    <tr style=\"text-align: right;\">\n",
       "      <th></th>\n",
       "      <th>CRIM</th>\n",
       "      <th>ZN</th>\n",
       "      <th>INDUS</th>\n",
       "      <th>CHAS</th>\n",
       "      <th>NOX</th>\n",
       "      <th>RM</th>\n",
       "      <th>AGE</th>\n",
       "      <th>DIS</th>\n",
       "      <th>RAD</th>\n",
       "      <th>TAX</th>\n",
       "      <th>PTRATIO</th>\n",
       "      <th>B</th>\n",
       "      <th>LSTAT</th>\n",
       "      <th>MEDV</th>\n",
       "    </tr>\n",
       "  </thead>\n",
       "  <tbody>\n",
       "    <tr>\n",
       "      <th>0</th>\n",
       "      <td>0.00632</td>\n",
       "      <td>18.0</td>\n",
       "      <td>2.31</td>\n",
       "      <td>0.0</td>\n",
       "      <td>0.538</td>\n",
       "      <td>6.575</td>\n",
       "      <td>65.2</td>\n",
       "      <td>4.0900</td>\n",
       "      <td>1.0</td>\n",
       "      <td>296.0</td>\n",
       "      <td>15.3</td>\n",
       "      <td>396.90</td>\n",
       "      <td>4.98</td>\n",
       "      <td>24.0</td>\n",
       "    </tr>\n",
       "    <tr>\n",
       "      <th>1</th>\n",
       "      <td>0.02731</td>\n",
       "      <td>0.0</td>\n",
       "      <td>7.07</td>\n",
       "      <td>0.0</td>\n",
       "      <td>0.469</td>\n",
       "      <td>6.421</td>\n",
       "      <td>78.9</td>\n",
       "      <td>4.9671</td>\n",
       "      <td>2.0</td>\n",
       "      <td>242.0</td>\n",
       "      <td>17.8</td>\n",
       "      <td>396.90</td>\n",
       "      <td>9.14</td>\n",
       "      <td>21.6</td>\n",
       "    </tr>\n",
       "    <tr>\n",
       "      <th>2</th>\n",
       "      <td>0.02729</td>\n",
       "      <td>0.0</td>\n",
       "      <td>7.07</td>\n",
       "      <td>0.0</td>\n",
       "      <td>0.469</td>\n",
       "      <td>7.185</td>\n",
       "      <td>61.1</td>\n",
       "      <td>4.9671</td>\n",
       "      <td>2.0</td>\n",
       "      <td>242.0</td>\n",
       "      <td>17.8</td>\n",
       "      <td>392.83</td>\n",
       "      <td>4.03</td>\n",
       "      <td>34.7</td>\n",
       "    </tr>\n",
       "    <tr>\n",
       "      <th>3</th>\n",
       "      <td>0.03237</td>\n",
       "      <td>0.0</td>\n",
       "      <td>2.18</td>\n",
       "      <td>0.0</td>\n",
       "      <td>0.458</td>\n",
       "      <td>6.998</td>\n",
       "      <td>45.8</td>\n",
       "      <td>6.0622</td>\n",
       "      <td>3.0</td>\n",
       "      <td>222.0</td>\n",
       "      <td>18.7</td>\n",
       "      <td>394.63</td>\n",
       "      <td>2.94</td>\n",
       "      <td>33.4</td>\n",
       "    </tr>\n",
       "    <tr>\n",
       "      <th>4</th>\n",
       "      <td>0.06905</td>\n",
       "      <td>0.0</td>\n",
       "      <td>2.18</td>\n",
       "      <td>0.0</td>\n",
       "      <td>0.458</td>\n",
       "      <td>7.147</td>\n",
       "      <td>54.2</td>\n",
       "      <td>6.0622</td>\n",
       "      <td>3.0</td>\n",
       "      <td>222.0</td>\n",
       "      <td>18.7</td>\n",
       "      <td>396.90</td>\n",
       "      <td>5.33</td>\n",
       "      <td>36.2</td>\n",
       "    </tr>\n",
       "  </tbody>\n",
       "</table>\n",
       "</div>"
      ],
      "text/plain": [
       "      CRIM    ZN  INDUS  CHAS    NOX     RM   AGE     DIS  RAD    TAX  \\\n",
       "0  0.00632  18.0   2.31   0.0  0.538  6.575  65.2  4.0900  1.0  296.0   \n",
       "1  0.02731   0.0   7.07   0.0  0.469  6.421  78.9  4.9671  2.0  242.0   \n",
       "2  0.02729   0.0   7.07   0.0  0.469  7.185  61.1  4.9671  2.0  242.0   \n",
       "3  0.03237   0.0   2.18   0.0  0.458  6.998  45.8  6.0622  3.0  222.0   \n",
       "4  0.06905   0.0   2.18   0.0  0.458  7.147  54.2  6.0622  3.0  222.0   \n",
       "\n",
       "   PTRATIO       B  LSTAT  MEDV  \n",
       "0     15.3  396.90   4.98  24.0  \n",
       "1     17.8  396.90   9.14  21.6  \n",
       "2     17.8  392.83   4.03  34.7  \n",
       "3     18.7  394.63   2.94  33.4  \n",
       "4     18.7  396.90   5.33  36.2  "
      ]
     },
     "execution_count": 6,
     "metadata": {},
     "output_type": "execute_result"
    }
   ],
   "source": [
    "# load dataset\n",
    "from sklearn.datasets import load_boston\n",
    "boston_dataset = load_boston()\n",
    "df = pd.DataFrame(boston_dataset.data, columns=boston_dataset.feature_names)\n",
    "df['MEDV'] = boston_dataset.target\n",
    "print(df.shape)\n",
    "df.head()"
   ]
  },
  {
   "cell_type": "markdown",
   "metadata": {
    "colab_type": "text",
    "id": "Pm7zow5IvaTt"
   },
   "source": [
    "## Normalizing Input Data\n",
    "\n",
    "It's not 100% necessary to normalize/scale your input data before feeding it to a neural network, the network can learn the appropriate weights to deal with data of as long as it is numerically represented,  but it is recommended as it can help **make training faster** and **reduces the chances that gradient descent might get stuck in a local optimum**.\n",
    "\n",
    "<https://stackoverflow.com/questions/4674623/why-do-we-have-to-normalize-the-input-for-an-artificial-neural-network>"
   ]
  },
  {
   "cell_type": "code",
   "execution_count": 7,
   "metadata": {
    "colab": {
     "base_uri": "https://localhost:8080/",
     "height": 235
    },
    "colab_type": "code",
    "id": "q5qDpUj9vZVw",
    "outputId": "ce27017a-b173-455d-954e-d462e17e66f4"
   },
   "outputs": [
    {
     "name": "stdout",
     "output_type": "stream",
     "text": [
      "[[-0.41978194  0.28482986 -1.2879095  ... -1.45900038  0.44105193\n",
      "  -1.0755623 ]\n",
      " [-0.41733926 -0.48772236 -0.59338101 ... -0.30309415  0.44105193\n",
      "  -0.49243937]\n",
      " [-0.41734159 -0.48772236 -0.59338101 ... -0.30309415  0.39642699\n",
      "  -1.2087274 ]\n",
      " ...\n",
      " [-0.41344658 -0.48772236  0.11573841 ...  1.17646583  0.44105193\n",
      "  -0.98304761]\n",
      " [-0.40776407 -0.48772236  0.11573841 ...  1.17646583  0.4032249\n",
      "  -0.86530163]\n",
      " [-0.41500016 -0.48772236  0.11573841 ...  1.17646583  0.44105193\n",
      "  -0.66905833]]\n"
     ]
    }
   ],
   "source": [
    "from sklearn.preprocessing import StandardScaler\n",
    "\n",
    "# Split into X and y and turn into numpy arays\n",
    "y = df.MEDV.values\n",
    "X = df.drop(\"MEDV\", axis='columns').values\n",
    "\n",
    "# Scale input data\n",
    "scaler = StandardScaler()\n",
    "X = scaler.fit_transform(X)\n",
    "print(X)"
   ]
  },
  {
   "cell_type": "markdown",
   "metadata": {
    "colab_type": "text",
    "id": "l6hgCWbir90R"
   },
   "source": [
    "## Model Validation using an automatic verification Dataset\n",
    "\n",
    "Instead of doing a train test split, Keras has a really nice feature that you can set the validation.split argument when fitting your model and Keras will take that portion of your test data and use it as a validation dataset. "
   ]
  },
  {
   "cell_type": "code",
   "execution_count": 10,
   "metadata": {
    "colab": {
     "base_uri": "https://localhost:8080/",
     "height": 1750
    },
    "colab_type": "code",
    "id": "GMXVfmzXp1Oo",
    "outputId": "b05e251e-508f-46e6-865b-f869ae2a5dc4"
   },
   "outputs": [
    {
     "name": "stderr",
     "output_type": "stream",
     "text": [
      "E0912 18:15:24.488773 4747253184 jupyter.py:96] Failed to query for notebook name, you can set it manually with the WANDB_NOTEBOOK_NAME environment variable\n"
     ]
    },
    {
     "name": "stdout",
     "output_type": "stream",
     "text": [
      "Train on 339 samples, validate on 167 samples\n",
      "Epoch 1/50\n",
      "339/339 [==============================] - 0s 667us/sample - loss: 615.4430 - mean_squared_error: 615.4429 - val_loss: 263.6015 - val_mean_squared_error: 263.6015\n",
      "Epoch 2/50\n",
      "339/339 [==============================] - 0s 147us/sample - loss: 362.3068 - mean_squared_error: 362.3068 - val_loss: 150.2449 - val_mean_squared_error: 150.2449\n",
      "Epoch 3/50\n",
      "339/339 [==============================] - 0s 154us/sample - loss: 96.2519 - mean_squared_error: 96.2519 - val_loss: 112.0466 - val_mean_squared_error: 112.0466\n",
      "Epoch 4/50\n",
      "339/339 [==============================] - 0s 150us/sample - loss: 32.4978 - mean_squared_error: 32.4978 - val_loss: 96.9111 - val_mean_squared_error: 96.9111\n",
      "Epoch 5/50\n",
      "339/339 [==============================] - 0s 107us/sample - loss: 18.5160 - mean_squared_error: 18.5160 - val_loss: 97.3526 - val_mean_squared_error: 97.3526\n",
      "Epoch 6/50\n",
      "339/339 [==============================] - 0s 114us/sample - loss: 15.0319 - mean_squared_error: 15.0319 - val_loss: 102.7942 - val_mean_squared_error: 102.7942\n",
      "Epoch 7/50\n",
      "339/339 [==============================] - 0s 108us/sample - loss: 13.6832 - mean_squared_error: 13.6832 - val_loss: 101.7522 - val_mean_squared_error: 101.7522\n",
      "Epoch 8/50\n",
      "339/339 [==============================] - 0s 109us/sample - loss: 12.5363 - mean_squared_error: 12.5363 - val_loss: 98.7799 - val_mean_squared_error: 98.7799\n",
      "Epoch 9/50\n",
      "339/339 [==============================] - 0s 155us/sample - loss: 11.8711 - mean_squared_error: 11.8711 - val_loss: 96.7093 - val_mean_squared_error: 96.7093\n",
      "Epoch 10/50\n",
      "339/339 [==============================] - 0s 149us/sample - loss: 11.0217 - mean_squared_error: 11.0217 - val_loss: 94.0530 - val_mean_squared_error: 94.0530\n",
      "Epoch 11/50\n",
      "339/339 [==============================] - 0s 148us/sample - loss: 10.4827 - mean_squared_error: 10.4827 - val_loss: 90.8868 - val_mean_squared_error: 90.8867\n",
      "Epoch 12/50\n",
      "339/339 [==============================] - 0s 154us/sample - loss: 9.7135 - mean_squared_error: 9.7135 - val_loss: 88.1490 - val_mean_squared_error: 88.1490\n",
      "Epoch 13/50\n",
      "339/339 [==============================] - 0s 139us/sample - loss: 9.1730 - mean_squared_error: 9.1730 - val_loss: 86.1086 - val_mean_squared_error: 86.1086\n",
      "Epoch 14/50\n",
      "339/339 [==============================] - 0s 139us/sample - loss: 8.7443 - mean_squared_error: 8.7443 - val_loss: 83.7703 - val_mean_squared_error: 83.7703\n",
      "Epoch 15/50\n",
      "339/339 [==============================] - 0s 147us/sample - loss: 8.4851 - mean_squared_error: 8.4851 - val_loss: 81.0640 - val_mean_squared_error: 81.0640\n",
      "Epoch 16/50\n",
      "339/339 [==============================] - 0s 140us/sample - loss: 8.0524 - mean_squared_error: 8.0524 - val_loss: 80.1263 - val_mean_squared_error: 80.1263\n",
      "Epoch 17/50\n",
      "339/339 [==============================] - 0s 143us/sample - loss: 7.5432 - mean_squared_error: 7.5432 - val_loss: 76.3790 - val_mean_squared_error: 76.3790\n",
      "Epoch 18/50\n",
      "339/339 [==============================] - 0s 154us/sample - loss: 7.2414 - mean_squared_error: 7.2414 - val_loss: 75.4247 - val_mean_squared_error: 75.4247\n",
      "Epoch 19/50\n",
      "339/339 [==============================] - 0s 152us/sample - loss: 7.0136 - mean_squared_error: 7.0136 - val_loss: 72.3518 - val_mean_squared_error: 72.3518\n",
      "Epoch 20/50\n",
      "339/339 [==============================] - 0s 150us/sample - loss: 6.8551 - mean_squared_error: 6.8551 - val_loss: 71.3091 - val_mean_squared_error: 71.3091\n",
      "Epoch 21/50\n",
      "339/339 [==============================] - 0s 152us/sample - loss: 6.6662 - mean_squared_error: 6.6662 - val_loss: 68.9654 - val_mean_squared_error: 68.9654\n",
      "Epoch 22/50\n",
      "339/339 [==============================] - 0s 155us/sample - loss: 6.4394 - mean_squared_error: 6.4394 - val_loss: 67.9311 - val_mean_squared_error: 67.9311\n",
      "Epoch 23/50\n",
      "339/339 [==============================] - 0s 157us/sample - loss: 6.2390 - mean_squared_error: 6.2390 - val_loss: 66.1961 - val_mean_squared_error: 66.1961\n",
      "Epoch 24/50\n",
      "339/339 [==============================] - 0s 156us/sample - loss: 6.0275 - mean_squared_error: 6.0275 - val_loss: 64.0073 - val_mean_squared_error: 64.0073\n",
      "Epoch 25/50\n",
      "339/339 [==============================] - 0s 144us/sample - loss: 6.2159 - mean_squared_error: 6.2159 - val_loss: 63.0154 - val_mean_squared_error: 63.0154\n",
      "Epoch 26/50\n",
      "339/339 [==============================] - 0s 113us/sample - loss: 5.8867 - mean_squared_error: 5.8867 - val_loss: 63.1476 - val_mean_squared_error: 63.1476\n",
      "Epoch 27/50\n",
      "339/339 [==============================] - 0s 147us/sample - loss: 5.8862 - mean_squared_error: 5.8862 - val_loss: 61.3293 - val_mean_squared_error: 61.3293\n",
      "Epoch 28/50\n",
      "339/339 [==============================] - 0s 146us/sample - loss: 5.6687 - mean_squared_error: 5.6687 - val_loss: 60.0290 - val_mean_squared_error: 60.0290\n",
      "Epoch 29/50\n",
      "339/339 [==============================] - 0s 151us/sample - loss: 5.6603 - mean_squared_error: 5.6603 - val_loss: 59.0847 - val_mean_squared_error: 59.0847\n",
      "Epoch 30/50\n",
      "339/339 [==============================] - 0s 149us/sample - loss: 5.5628 - mean_squared_error: 5.5628 - val_loss: 58.7005 - val_mean_squared_error: 58.7005\n",
      "Epoch 31/50\n",
      "339/339 [==============================] - 0s 153us/sample - loss: 5.4519 - mean_squared_error: 5.4519 - val_loss: 58.0837 - val_mean_squared_error: 58.0837\n",
      "Epoch 32/50\n",
      "339/339 [==============================] - 0s 160us/sample - loss: 5.3340 - mean_squared_error: 5.3340 - val_loss: 57.1149 - val_mean_squared_error: 57.1149\n",
      "Epoch 33/50\n",
      "339/339 [==============================] - 0s 153us/sample - loss: 5.2988 - mean_squared_error: 5.2988 - val_loss: 56.8779 - val_mean_squared_error: 56.8779\n",
      "Epoch 34/50\n",
      "339/339 [==============================] - 0s 147us/sample - loss: 5.2134 - mean_squared_error: 5.2134 - val_loss: 55.4652 - val_mean_squared_error: 55.4652\n",
      "Epoch 35/50\n",
      "339/339 [==============================] - 0s 112us/sample - loss: 5.1036 - mean_squared_error: 5.1036 - val_loss: 56.3960 - val_mean_squared_error: 56.3960\n",
      "Epoch 36/50\n",
      "339/339 [==============================] - 0s 155us/sample - loss: 5.1607 - mean_squared_error: 5.1607 - val_loss: 55.2353 - val_mean_squared_error: 55.2353\n",
      "Epoch 37/50\n",
      "339/339 [==============================] - 0s 146us/sample - loss: 5.4076 - mean_squared_error: 5.4076 - val_loss: 54.7331 - val_mean_squared_error: 54.7330\n",
      "Epoch 38/50\n",
      "339/339 [==============================] - 0s 145us/sample - loss: 4.8710 - mean_squared_error: 4.8709 - val_loss: 53.7956 - val_mean_squared_error: 53.7956\n",
      "Epoch 39/50\n",
      "339/339 [==============================] - 0s 148us/sample - loss: 5.0098 - mean_squared_error: 5.0098 - val_loss: 53.5436 - val_mean_squared_error: 53.5436\n",
      "Epoch 40/50\n",
      "339/339 [==============================] - 0s 115us/sample - loss: 4.9969 - mean_squared_error: 4.9969 - val_loss: 53.9827 - val_mean_squared_error: 53.9827\n",
      "Epoch 41/50\n",
      "339/339 [==============================] - 0s 169us/sample - loss: 4.8591 - mean_squared_error: 4.8591 - val_loss: 53.1825 - val_mean_squared_error: 53.1825\n",
      "Epoch 42/50\n",
      "339/339 [==============================] - 0s 144us/sample - loss: 4.6482 - mean_squared_error: 4.6482 - val_loss: 52.8646 - val_mean_squared_error: 52.8646\n",
      "Epoch 43/50\n",
      "339/339 [==============================] - 0s 154us/sample - loss: 4.6813 - mean_squared_error: 4.6814 - val_loss: 52.7497 - val_mean_squared_error: 52.7497\n",
      "Epoch 44/50\n",
      "339/339 [==============================] - 0s 144us/sample - loss: 4.8165 - mean_squared_error: 4.8165 - val_loss: 52.4185 - val_mean_squared_error: 52.4185\n",
      "Epoch 45/50\n",
      "339/339 [==============================] - 0s 146us/sample - loss: 4.5657 - mean_squared_error: 4.5657 - val_loss: 52.2247 - val_mean_squared_error: 52.2247\n",
      "Epoch 46/50\n",
      "339/339 [==============================] - 0s 149us/sample - loss: 4.6120 - mean_squared_error: 4.6120 - val_loss: 51.8559 - val_mean_squared_error: 51.8559\n",
      "Epoch 47/50\n",
      "339/339 [==============================] - 0s 153us/sample - loss: 4.5207 - mean_squared_error: 4.5207 - val_loss: 51.6667 - val_mean_squared_error: 51.6667\n",
      "Epoch 48/50\n",
      "339/339 [==============================] - 0s 148us/sample - loss: 4.5438 - mean_squared_error: 4.5438 - val_loss: 51.6018 - val_mean_squared_error: 51.6018\n",
      "Epoch 49/50\n",
      "339/339 [==============================] - 0s 149us/sample - loss: 4.4774 - mean_squared_error: 4.4774 - val_loss: 51.5035 - val_mean_squared_error: 51.5035\n",
      "Epoch 50/50\n",
      "339/339 [==============================] - 0s 148us/sample - loss: 4.4349 - mean_squared_error: 4.4349 - val_loss: 51.2759 - val_mean_squared_error: 51.2759\n"
     ]
    },
    {
     "data": {
      "text/plain": [
       "<tensorflow.python.keras.callbacks.History at 0x1a3876c320>"
      ]
     },
     "execution_count": 10,
     "metadata": {},
     "output_type": "execute_result"
    }
   ],
   "source": [
    "# Important Hyperparameters\n",
    "inputs = X.shape[1]\n",
    "\n",
    "wandb.config.epochs = 50\n",
    "wandb.config.batch_size = 10\n",
    "\n",
    "# Create Model\n",
    "model = Sequential()\n",
    "model.add(Dense(64, activation='relu', input_shape=(inputs,)))\n",
    "model.add(Dense(64, activation='relu'))\n",
    "model.add(Dense(1))\n",
    "\n",
    "# Compile Model\n",
    "model.compile(optimizer='adam', loss='mse', metrics=['mse'])\n",
    "\n",
    "# Fit Model\n",
    "model.fit(X, y, validation_split=0.33,\n",
    "          epochs=wandb.config.epochs,\n",
    "          batch_size=wandb.config.batch_size, \n",
    "          callbacks=[WandbCallback()])"
   ]
  },
  {
   "cell_type": "markdown",
   "metadata": {
    "colab_type": "text",
    "id": "FYgb6yiKzyK5"
   },
   "source": [
    "## Model Verification using a Manual Verification Dataset\n",
    "\n",
    "Even though Keras has this nice feature you can still do train test split and pass it both X_test and y_test datasets as a tuple using the `validation_data` parameter."
   ]
  },
  {
   "cell_type": "code",
   "execution_count": 11,
   "metadata": {
    "colab": {
     "base_uri": "https://localhost:8080/",
     "height": 1750
    },
    "colab_type": "code",
    "id": "D6SenwGVzQlK",
    "outputId": "ccab02a8-f28f-4db9-9065-89b52b177266"
   },
   "outputs": [
    {
     "data": {
      "text/html": [
       "\n",
       "        Notebook configured with <a href=\"https://wandb.com\" target=\"_blank\">W&B</a>. You can <a href=\"https://app.wandb.ai/ds5/ds5-hyperparameter-tuning/runs/fdhlk7r3\" target=\"_blank\">open</a> the run page, or call <code>%%wandb</code>\n",
       "        in a cell containing your training loop to display live results.  Learn more in our <a href=\"https://docs.wandb.com/docs/integrations/jupyter.html\" target=\"_blank\">docs</a>.\n",
       "    "
      ],
      "text/plain": [
       "<IPython.core.display.HTML object>"
      ]
     },
     "metadata": {},
     "output_type": "display_data"
    },
    {
     "name": "stderr",
     "output_type": "stream",
     "text": [
      "E0912 18:28:05.541798 4747253184 jupyter.py:96] Failed to query for notebook name, you can set it manually with the WANDB_NOTEBOOK_NAME environment variable\n"
     ]
    },
    {
     "name": "stdout",
     "output_type": "stream",
     "text": [
      "Train on 339 samples, validate on 167 samples\n",
      "Epoch 1/50\n",
      "339/339 [==============================] - 0s 795us/sample - loss: 513.1988 - mean_squared_error: 513.1989 - val_loss: 350.8576 - val_mean_squared_error: 350.8575\n",
      "Epoch 2/50\n",
      "339/339 [==============================] - 0s 150us/sample - loss: 295.1154 - mean_squared_error: 295.1154 - val_loss: 148.1269 - val_mean_squared_error: 148.1270\n",
      "Epoch 3/50\n",
      "339/339 [==============================] - 0s 146us/sample - loss: 114.4655 - mean_squared_error: 114.4655 - val_loss: 52.3774 - val_mean_squared_error: 52.3774\n",
      "Epoch 4/50\n",
      "339/339 [==============================] - 0s 138us/sample - loss: 49.0707 - mean_squared_error: 49.0707 - val_loss: 30.9922 - val_mean_squared_error: 30.9922\n",
      "Epoch 5/50\n",
      "339/339 [==============================] - 0s 136us/sample - loss: 33.1837 - mean_squared_error: 33.1837 - val_loss: 25.2347 - val_mean_squared_error: 25.2347\n",
      "Epoch 6/50\n",
      "339/339 [==============================] - 0s 130us/sample - loss: 27.9829 - mean_squared_error: 27.9829 - val_loss: 21.8332 - val_mean_squared_error: 21.8332\n",
      "Epoch 7/50\n",
      "339/339 [==============================] - 0s 136us/sample - loss: 24.8318 - mean_squared_error: 24.8318 - val_loss: 20.1874 - val_mean_squared_error: 20.1874\n",
      "Epoch 8/50\n",
      "339/339 [==============================] - 0s 142us/sample - loss: 22.6369 - mean_squared_error: 22.6369 - val_loss: 18.2419 - val_mean_squared_error: 18.2419\n",
      "Epoch 9/50\n",
      "339/339 [==============================] - 0s 149us/sample - loss: 20.6995 - mean_squared_error: 20.6995 - val_loss: 17.3972 - val_mean_squared_error: 17.3972\n",
      "Epoch 10/50\n",
      "339/339 [==============================] - 0s 143us/sample - loss: 18.9361 - mean_squared_error: 18.9361 - val_loss: 15.7938 - val_mean_squared_error: 15.7938\n",
      "Epoch 11/50\n",
      "339/339 [==============================] - 0s 140us/sample - loss: 17.4365 - mean_squared_error: 17.4365 - val_loss: 14.7302 - val_mean_squared_error: 14.7302\n",
      "Epoch 12/50\n",
      "339/339 [==============================] - 0s 118us/sample - loss: 16.4876 - mean_squared_error: 16.4876 - val_loss: 14.7989 - val_mean_squared_error: 14.7989\n",
      "Epoch 13/50\n",
      "339/339 [==============================] - 0s 115us/sample - loss: 15.4378 - mean_squared_error: 15.4378 - val_loss: 16.6010 - val_mean_squared_error: 16.6010\n",
      "Epoch 14/50\n",
      "339/339 [==============================] - 0s 164us/sample - loss: 15.2352 - mean_squared_error: 15.2352 - val_loss: 13.4172 - val_mean_squared_error: 13.4172\n",
      "Epoch 15/50\n",
      "339/339 [==============================] - 0s 126us/sample - loss: 14.1358 - mean_squared_error: 14.1358 - val_loss: 14.0791 - val_mean_squared_error: 14.0791\n",
      "Epoch 16/50\n",
      "339/339 [==============================] - 0s 151us/sample - loss: 13.9781 - mean_squared_error: 13.9781 - val_loss: 12.8158 - val_mean_squared_error: 12.8158\n",
      "Epoch 17/50\n",
      "339/339 [==============================] - 0s 153us/sample - loss: 13.3172 - mean_squared_error: 13.3172 - val_loss: 12.3324 - val_mean_squared_error: 12.3324\n",
      "Epoch 18/50\n",
      "339/339 [==============================] - 0s 157us/sample - loss: 12.7463 - mean_squared_error: 12.7463 - val_loss: 11.8994 - val_mean_squared_error: 11.8994\n",
      "Epoch 19/50\n",
      "339/339 [==============================] - 0s 122us/sample - loss: 12.6505 - mean_squared_error: 12.6505 - val_loss: 11.9284 - val_mean_squared_error: 11.9284\n",
      "Epoch 20/50\n",
      "339/339 [==============================] - 0s 116us/sample - loss: 12.2380 - mean_squared_error: 12.2380 - val_loss: 12.3536 - val_mean_squared_error: 12.3536\n",
      "Epoch 21/50\n",
      "339/339 [==============================] - 0s 151us/sample - loss: 12.0219 - mean_squared_error: 12.0219 - val_loss: 11.3484 - val_mean_squared_error: 11.3484\n",
      "Epoch 22/50\n",
      "339/339 [==============================] - 0s 120us/sample - loss: 11.7142 - mean_squared_error: 11.7142 - val_loss: 11.5727 - val_mean_squared_error: 11.5727\n",
      "Epoch 23/50\n",
      "339/339 [==============================] - 0s 119us/sample - loss: 11.3384 - mean_squared_error: 11.3384 - val_loss: 11.3488 - val_mean_squared_error: 11.3488\n",
      "Epoch 24/50\n",
      "339/339 [==============================] - 0s 122us/sample - loss: 11.0868 - mean_squared_error: 11.0868 - val_loss: 11.8606 - val_mean_squared_error: 11.8606\n",
      "Epoch 25/50\n",
      "339/339 [==============================] - 0s 128us/sample - loss: 10.9809 - mean_squared_error: 10.9809 - val_loss: 11.8896 - val_mean_squared_error: 11.8896\n",
      "Epoch 26/50\n",
      "339/339 [==============================] - 0s 158us/sample - loss: 10.6329 - mean_squared_error: 10.6329 - val_loss: 11.0718 - val_mean_squared_error: 11.0718\n",
      "Epoch 27/50\n",
      "339/339 [==============================] - 0s 155us/sample - loss: 10.5670 - mean_squared_error: 10.5670 - val_loss: 10.9628 - val_mean_squared_error: 10.9628\n",
      "Epoch 28/50\n",
      "339/339 [==============================] - 0s 121us/sample - loss: 10.4093 - mean_squared_error: 10.4093 - val_loss: 11.2978 - val_mean_squared_error: 11.2978\n",
      "Epoch 29/50\n",
      "339/339 [==============================] - 0s 134us/sample - loss: 10.1171 - mean_squared_error: 10.1171 - val_loss: 10.9792 - val_mean_squared_error: 10.9792\n",
      "Epoch 30/50\n",
      "339/339 [==============================] - 0s 122us/sample - loss: 9.9516 - mean_squared_error: 9.9516 - val_loss: 11.4244 - val_mean_squared_error: 11.4244\n",
      "Epoch 31/50\n",
      "339/339 [==============================] - 0s 157us/sample - loss: 9.7039 - mean_squared_error: 9.7039 - val_loss: 10.7733 - val_mean_squared_error: 10.7733\n",
      "Epoch 32/50\n",
      "339/339 [==============================] - 0s 124us/sample - loss: 9.8131 - mean_squared_error: 9.8131 - val_loss: 10.8843 - val_mean_squared_error: 10.8843\n",
      "Epoch 33/50\n",
      "339/339 [==============================] - 0s 113us/sample - loss: 9.8076 - mean_squared_error: 9.8076 - val_loss: 10.9098 - val_mean_squared_error: 10.9098\n",
      "Epoch 34/50\n",
      "339/339 [==============================] - 0s 125us/sample - loss: 9.6170 - mean_squared_error: 9.6170 - val_loss: 11.0540 - val_mean_squared_error: 11.0540\n",
      "Epoch 35/50\n",
      "339/339 [==============================] - 0s 118us/sample - loss: 9.2979 - mean_squared_error: 9.2979 - val_loss: 11.5528 - val_mean_squared_error: 11.5528\n",
      "Epoch 36/50\n",
      "339/339 [==============================] - 0s 154us/sample - loss: 9.1502 - mean_squared_error: 9.1502 - val_loss: 10.7702 - val_mean_squared_error: 10.7702\n",
      "Epoch 37/50\n",
      "339/339 [==============================] - 0s 150us/sample - loss: 9.0208 - mean_squared_error: 9.0208 - val_loss: 10.6186 - val_mean_squared_error: 10.6186\n",
      "Epoch 38/50\n",
      "339/339 [==============================] - 0s 160us/sample - loss: 9.2541 - mean_squared_error: 9.2541 - val_loss: 10.4742 - val_mean_squared_error: 10.4742\n",
      "Epoch 39/50\n",
      "339/339 [==============================] - 0s 113us/sample - loss: 8.7830 - mean_squared_error: 8.7830 - val_loss: 10.7365 - val_mean_squared_error: 10.7365\n",
      "Epoch 40/50\n",
      "339/339 [==============================] - 0s 138us/sample - loss: 8.6819 - mean_squared_error: 8.6819 - val_loss: 10.5057 - val_mean_squared_error: 10.5057\n",
      "Epoch 41/50\n",
      "339/339 [==============================] - 0s 165us/sample - loss: 8.6146 - mean_squared_error: 8.6146 - val_loss: 10.4364 - val_mean_squared_error: 10.4364\n",
      "Epoch 42/50\n",
      "339/339 [==============================] - 0s 119us/sample - loss: 8.3560 - mean_squared_error: 8.3560 - val_loss: 10.9428 - val_mean_squared_error: 10.9428\n",
      "Epoch 43/50\n",
      "339/339 [==============================] - 0s 152us/sample - loss: 8.4641 - mean_squared_error: 8.4641 - val_loss: 10.2399 - val_mean_squared_error: 10.2399\n",
      "Epoch 44/50\n",
      "339/339 [==============================] - 0s 151us/sample - loss: 8.4950 - mean_squared_error: 8.4950 - val_loss: 10.1560 - val_mean_squared_error: 10.1560\n",
      "Epoch 45/50\n",
      "339/339 [==============================] - 0s 112us/sample - loss: 8.1035 - mean_squared_error: 8.1035 - val_loss: 10.3660 - val_mean_squared_error: 10.3660\n",
      "Epoch 46/50\n",
      "339/339 [==============================] - 0s 115us/sample - loss: 8.1688 - mean_squared_error: 8.1688 - val_loss: 10.2156 - val_mean_squared_error: 10.2156\n",
      "Epoch 47/50\n",
      "339/339 [==============================] - 0s 120us/sample - loss: 7.9854 - mean_squared_error: 7.9854 - val_loss: 11.0379 - val_mean_squared_error: 11.0379\n",
      "Epoch 48/50\n",
      "339/339 [==============================] - 0s 121us/sample - loss: 7.7055 - mean_squared_error: 7.7055 - val_loss: 10.2119 - val_mean_squared_error: 10.2119\n",
      "Epoch 49/50\n",
      "339/339 [==============================] - 0s 114us/sample - loss: 7.6191 - mean_squared_error: 7.6191 - val_loss: 10.7857 - val_mean_squared_error: 10.7857\n",
      "Epoch 50/50\n",
      "339/339 [==============================] - 0s 110us/sample - loss: 7.8309 - mean_squared_error: 7.8309 - val_loss: 10.4723 - val_mean_squared_error: 10.4723\n"
     ]
    },
    {
     "data": {
      "text/plain": [
       "<tensorflow.python.keras.callbacks.History at 0x1a3914d828>"
      ]
     },
     "execution_count": 11,
     "metadata": {},
     "output_type": "execute_result"
    }
   ],
   "source": [
    "from sklearn.datasets import load_boston\n",
    "from sklearn.model_selection import train_test_split\n",
    "\n",
    "# Create a Fresh Experiment\n",
    "wandb.init(project='ds5-hyperparameter-tuning', entity='ds5')\n",
    "wandb.config.epochs = 50\n",
    "wandb.config.batch_size = 10\n",
    "\n",
    "# Random Seed\n",
    "seed = 42\n",
    "numpy.random.seed(seed)\n",
    "\n",
    "# Load Dataset\n",
    "boston_dataset = load_boston()\n",
    "df = pd.DataFrame(boston_dataset.data, columns=boston_dataset.feature_names)\n",
    "df['MEDV'] = boston_dataset.target\n",
    "\n",
    "# Split into X and y and turn into numpy arays\n",
    "y = df.MEDV.values\n",
    "X = df.drop(\"MEDV\", axis='columns').values\n",
    "\n",
    "# Scale inputs\n",
    "scaler = StandardScaler()\n",
    "X = scaler.fit_transform(X)\n",
    "\n",
    "# Manual Validation Dataset\n",
    "X_train, X_test, y_train, y_test = train_test_split(X, y, test_size=0.33, random_state=seed)\n",
    "\n",
    "# Important Hyperparameters\n",
    "inputs = X.shape[1]\n",
    "\n",
    "\n",
    "# Create Model\n",
    "model = Sequential()\n",
    "model.add(Dense(64, activation='relu', input_shape=(inputs,)))\n",
    "model.add(Dense(64, activation='relu'))\n",
    "model.add(Dense(1))\n",
    "# Compile Model\n",
    "model.compile(optimizer='rmsprop', loss='mse', metrics=['mse'])\n",
    "# Fit Model\n",
    "model.fit(X_train, y_train, \n",
    "          validation_data=(X_test, y_test),\n",
    "          epochs=wandb.config.epochs,\n",
    "          batch_size=wandb.config.batch_size,\n",
    "          callbacks=[WandbCallback()])\n"
   ]
  },
  {
   "cell_type": "markdown",
   "metadata": {
    "colab_type": "text",
    "id": "k3FOE1vxx7yn"
   },
   "source": [
    "## Manual K-fold Cross Validation (regression)\n",
    "\n",
    "K-fold Cross Validation is the best way to validate your model as it will reduce the variance of your overall accuracy measure by splitting the data into smaller cross validation batches using one of the split out datasets as the validation dataset. The model is then fit K times rotating the validation set until each portion of the data has served as the validation dataset, the accuracy results from each subset are then averaged and reported as the overall test accuracy. The upside is that you can be more confident in your model's final reported accuracy. The downside is that you have to train your model K times which is computationally expensive and just not pheasible for some large networks that can take days to train a single time.\n",
    "\n",
    "K-fold Cross Validation gets tricky if you want to standardize your data because you will have to standardize your X values for each fold of your model separately. Due to this, we're going to use a Scikit-Learn Pipeline to help us do this for each fold of our dataset. \n",
    "\n",
    "Also, it's weird, but cross_val_score returns MSE values as negative values:\n",
    "<https://github.com/scikit-learn/scikit-learn/issues/2439>"
   ]
  },
  {
   "cell_type": "code",
   "execution_count": 12,
   "metadata": {
    "colab": {
     "base_uri": "https://localhost:8080/",
     "height": 34
    },
    "colab_type": "code",
    "id": "OnIHhAYV3Xt-",
    "outputId": "ad8afa5d-740f-4988-8b34-7bf3966e2c5a"
   },
   "outputs": [
    {
     "name": "stdout",
     "output_type": "stream",
     "text": [
      "K-fold Cross-Val Results - Mean: 22.28 StDev: 13.64 MSE\n"
     ]
    }
   ],
   "source": [
    "# Keras imports\n",
    "from tensorflow.keras.models import Sequential\n",
    "from tensorflow.keras.layers import Dense\n",
    "from tensorflow.keras.wrappers.scikit_learn import KerasRegressor\n",
    "# sklearn imports\n",
    "from sklearn.datasets import load_boston\n",
    "from sklearn.model_selection import cross_val_score\n",
    "from sklearn.model_selection import KFold\n",
    "from sklearn.preprocessing import StandardScaler\n",
    "from sklearn.pipeline import Pipeline\n",
    "\n",
    "# Random Seed\n",
    "seed = 42\n",
    "numpy.random.seed(seed)\n",
    "\n",
    "# Load Dataset\n",
    "boston_dataset = load_boston()\n",
    "df = pd.DataFrame(boston_dataset.data, columns=boston_dataset.feature_names)\n",
    "df['MEDV'] = boston_dataset.target\n",
    "\n",
    "# Split into X and y and turn into numpy arays\n",
    "y = df.MEDV.values\n",
    "X = df.drop(\"MEDV\", axis='columns').values\n",
    "\n",
    "# Important Hyperparameters\n",
    "inputs = X.shape[1]\n",
    "epochs = 50\n",
    "batch_size = 10\n",
    "\n",
    "# define base model\n",
    "def baseline_model():\n",
    "  # create model\n",
    "  model = Sequential()\n",
    "  model.add(Dense(64, input_dim=inputs, activation='relu')) \n",
    "  model.add(Dense(64, activation='relu')) \n",
    "  model.add(Dense(1))\n",
    "  # Compile model\n",
    "  model.compile(loss='mean_squared_error', optimizer='adam')\n",
    "  return model\n",
    "\n",
    "# evaluate model with standardized dataset\n",
    "estimators = []\n",
    "estimators.append(('standardize', StandardScaler()))\n",
    "estimators.append(('mlp', KerasRegressor(build_fn=baseline_model, epochs=epochs, batch_size=batch_size,\n",
    "    verbose=0)))\n",
    "pipeline = Pipeline(estimators)\n",
    "kfold = KFold(n_splits=5, random_state=seed)\n",
    "results = cross_val_score(pipeline, X, y, cv=kfold)\n",
    "print(f\"K-fold Cross-Val Results - Mean: {-results.mean():.2f} StDev: {results.std():.2f} MSE\")"
   ]
  },
  {
   "cell_type": "markdown",
   "metadata": {
    "colab_type": "text",
    "id": "N95xwMJw-5Di"
   },
   "source": [
    "## Manual K-fold Cross Validation (classification)"
   ]
  },
  {
   "cell_type": "code",
   "execution_count": 18,
   "metadata": {
    "colab": {
     "base_uri": "https://localhost:8080/",
     "height": 118
    },
    "colab_type": "code",
    "id": "4YNTT4Tm6E0W",
    "outputId": "0c4bcbb5-a831-42f4-ddf1-1d0ee47769b8"
   },
   "outputs": [
    {
     "name": "stderr",
     "output_type": "stream",
     "text": [
      "W0815 10:16:17.225039 4430419392 deprecation.py:323] From /Users/jonathansokoll/anaconda3/envs/U4-S2-NNF/lib/python3.7/site-packages/tensorflow/python/ops/nn_impl.py:180: add_dispatch_support.<locals>.wrapper (from tensorflow.python.ops.array_ops) is deprecated and will be removed in a future version.\n",
      "Instructions for updating:\n",
      "Use tf.where in 2.0, which has the same broadcast rule as np.where\n"
     ]
    },
    {
     "name": "stdout",
     "output_type": "stream",
     "text": [
      "acc: 75.32%\n",
      "acc: 76.62%\n",
      "acc: 67.53%\n",
      "acc: 68.63%\n",
      "acc: 69.28%\n",
      "71.48% +/- 3.74%\n"
     ]
    }
   ],
   "source": [
    "# MLP for Pima Indians Dataset with 10-fold cross validation\n",
    "from tensorflow.keras.models import Sequential\n",
    "from tensorflow.keras.layers import Dense\n",
    "from sklearn.model_selection import StratifiedKFold\n",
    "import numpy\n",
    "\n",
    "# fix random seed for reproducibility\n",
    "seed = 42\n",
    "numpy.random.seed(seed)\n",
    "\n",
    "# load pima indians dataset\n",
    "url =\"https://raw.githubusercontent.com/jbrownlee/Datasets/master/pima-indians-diabetes.data.csv\"\n",
    "\n",
    "dataset = pd.read_csv(url, header=None).values\n",
    "\n",
    "# split into input (X) and output (Y) variables\n",
    "X = dataset[:,0:8]\n",
    "Y = dataset[:,8]\n",
    "\n",
    "# define 5-fold cross validation test harness\n",
    "kfold = StratifiedKFold(n_splits=5, shuffle=True, random_state=seed)\n",
    "cvscores = []\n",
    "for train, test in kfold.split(X, Y):\n",
    "  # create model\n",
    "  model = Sequential()\n",
    "  model.add(Dense(12, input_dim=8, activation='relu'))\n",
    "  model.add(Dense(8, activation='relu'))\n",
    "  model.add(Dense(1, activation='sigmoid'))\n",
    "  # Compile model\n",
    "  model.compile(loss='binary_crossentropy', optimizer='adam', metrics=['accuracy']) # Fit the model\n",
    "  model.fit(X[train], Y[train], epochs=150, batch_size=10, verbose=0)\n",
    "  # evaluate the model\n",
    "  scores = model.evaluate(X[test], Y[test], verbose=0)\n",
    "  print(f'{model.metrics_names[1]}: {(scores[1]*100):.2f}%') \n",
    "  cvscores.append(scores[1]*100)\n",
    "print(f'{numpy.mean(cvscores):.2f}% +/- {numpy.std(cvscores):.2f}%')"
   ]
  },
  {
   "cell_type": "markdown",
   "metadata": {
    "colab_type": "text",
    "id": "JILi3KJjAkfF"
   },
   "source": [
    "# Hyperparameter Tuning\n",
    "\n",
    "Hyperparameter tuning is much more important with neural networks than it has been with any other models that we have considered up to this point. Other supervised learning models might have a couple of parameters, but neural networks can have dozens. These can substantially affect the accuracy of our models and although it can be a time consuming process is a necessary step when working with neural networks.\n",
    "\n",
    "Hyperparameter tuning comes with a challenge. How can we compare models specified with different hyperparameters if our model's final error metric can vary somewhat erratically? How do we avoid just getting unlucky and selecting the wrong hyperparameter? This is a problem that to a certain degree we just have to live with as we test and test again. However, we can minimize it somewhat by pairing our experiments with Cross Validation to reduce the variance of our final accuracy values."
   ]
  },
  {
   "cell_type": "markdown",
   "metadata": {
    "colab_type": "text",
    "id": "sYJ8t_ezHP4W"
   },
   "source": [
    "## Hyperparameter Tuning Approaches:\n",
    "\n",
    "### 1) Babysitting AKA \"Grad Student Descent\".\n",
    "\n",
    "If you fiddled with any hyperparameters yesterday, this is basically what you did. This approach is 100% manual and is pretty common among researchers where finding that 1 exact specification that jumps your model to a level of accuracy never seen before is the difference between publishing and not publishing a paper. Of course the professors don't do this themselves, that's grunt work. This is also known as the fiddle with hyperparameters until you run out of time method.\n",
    "\n",
    "### 2) Grid Search\n",
    "\n",
    "Grid Search is the Grad Student galaxy brain realization of: why don't I just specify all the experiments I want to run and let the computer try every possible combination of them while I go and grab lunch. This has a specific downside in that if I specify 5 hyperparameters with 5 options each then I've just created 5^5 combinations of hyperparameters to check. Which means that I have to train 3125 different versions of my model Then if I use 5-fold Cross Validation on that then my model has to run 15,525 times. This is the brute-force method of hyperparameter tuning, but it can be very profitable if done wisely. \n",
    "\n",
    "When using Grid Search here's what I suggest: don't use it to test combinations of different hyperparameters, only use it to test different specifications of **a single** hyperparameter. It's rare that combinations between different hyperparameters lead to big performance gains. You'll get 90-95% of the way there if you just Grid Search one parameter and take the best result, then retain that best result while you test another, and then retain the best specification from that while you train another. This at least makes the situation much more manageable and leads to pretty good results. \n",
    "\n",
    "### 3) Random Search\n",
    "\n",
    "Do Grid Search for a couple of hours and you'll say to yourself - \"There's got to be a better way.\" Enter Random Search. For Random search you specify a hyperparameter space and it picks specifications from that randomly, tries them out, gives you the best results and says - That's going to have to be good enough, go home and spend time with your family. \n",
    "\n",
    "Grid Search treats every parameter as if it was equally important, but this just isn't the case, some are known to move the needle a lot more than others (we'll talk about that in a minute). Random Search allows searching to be specified along the most important parameter and experiments less along the dimensions of less important hyperparameters. The downside of Random search is that it won't find the absolute best hyperparameters, but it is much less costly to perform than Grid Search. \n",
    "\n",
    "### 4) Bayesian Methods\n",
    "\n",
    "One thing that can make more manual methods like babysitting and gridsearch effective is that as the experimenter sees results he can then make updates to his future searches taking into account the results of past specifications. If only we could hyperparameter tune our hyperparameter tuning. Well, we kind of can. Enter Bayesian Optimization. Neural Networks are like an optimization problem within an optimization problem, and Bayesian Optimization is a search strategy that tries to take into account the results of past searches in order to improve future ones. This is the most advanced method but can be a little bit tricky to implement, but there are some early steps with `hyperas` which is Bayesian optimization wrapper for `keras`. "
   ]
  },
  {
   "cell_type": "markdown",
   "metadata": {
    "colab_type": "text",
    "id": "HfQ7D043OMMn"
   },
   "source": [
    "## What Hyperparameters are there to test?\n",
    "\n",
    "- batch_size\n",
    "- training epochs\n",
    "- optimization algorithms\n",
    "- learning rate\n",
    "- momentum\n",
    "- activation functions\n",
    "- dropout regularization\n",
    "- number of neurons in the hidden layer\n",
    "\n",
    "There are more, but these are the most important."
   ]
  },
  {
   "cell_type": "markdown",
   "metadata": {
    "colab_type": "text",
    "id": "4Xl9c2VPPITI"
   },
   "source": [
    "## Creating a \"Test Harness\"\n",
    "\n",
    "You want it to be easy to specify different version of your model and for that model to undergo the same conditions every time with nothing different except for the hyperparameter(s) that you are testing. \n",
    "\n",
    "In order to do this we're going to use GridSearchCV from scikit learn to run our model with different hyperparameters and then report back to us the best one. In order to do this we have to wrap our model in either a KerasRegressor or KerasClassifier object to prepare it to work with Scikit-Learn. We also have to put our model specification within a function that we can call in order to generate it. This is required in order to use KerasRegressor or KerasClassifier"
   ]
  },
  {
   "cell_type": "markdown",
   "metadata": {
    "colab_type": "text",
    "id": "Mri5-kXzVKAa"
   },
   "source": [
    "## Batch Size\n",
    "\n",
    "Batch size determines how many observations the model is shown before it calculates loss/error and updates the model weights via gradient descent. You're looking for a sweet spot here where you're showing it enough observations that you have enough information to updates the weights, but not such a large batch size that you don't get a lot of weight update iterations performed in a given epoch. Feed-forward Neural Networks aren't as sensitive to bach_size as other networks, but it is still an important hyperparameter to tune. Smaller batch sizes will also take longer to train. "
   ]
  },
  {
   "cell_type": "code",
   "execution_count": 14,
   "metadata": {
    "colab": {
     "base_uri": "https://localhost:8080/",
     "height": 13561
    },
    "colab_type": "code",
    "id": "2smXfriNAGn7",
    "outputId": "ae996575-78e2-43fb-9dbe-5d44aaf0b430"
   },
   "outputs": [
    {
     "name": "stdout",
     "output_type": "stream",
     "text": [
      "Best: 0.6119791666666666 using {'batch_size': 10, 'epochs': 20}\n",
      "Means: 0.6119791666666666, Stdev: 0.010252614419286212 with: {'batch_size': 10, 'epochs': 20}\n",
      "Means: 0.59765625, Stdev: 0.07760241888412156 with: {'batch_size': 20, 'epochs': 20}\n",
      "Means: 0.5260416666666666, Stdev: 0.05788049679920018 with: {'batch_size': 40, 'epochs': 20}\n",
      "Means: 0.5247395833333334, Stdev: 0.025779934730759544 with: {'batch_size': 60, 'epochs': 20}\n",
      "Means: 0.5950520833333334, Stdev: 0.04614595090278477 with: {'batch_size': 80, 'epochs': 20}\n",
      "Means: 0.5442708333333334, Stdev: 0.053496454646286815 with: {'batch_size': 100, 'epochs': 20}\n"
     ]
    }
   ],
   "source": [
    "import numpy\n",
    "from sklearn.model_selection import GridSearchCV\n",
    "from tensorflow.keras.models import Sequential\n",
    "from tensorflow.keras.layers import Dense\n",
    "from tensorflow.keras.wrappers.scikit_learn import KerasClassifier\n",
    "\n",
    "# fix random seed for reproducibility\n",
    "seed = 7\n",
    "numpy.random.seed(seed)\n",
    "\n",
    "# load dataset\n",
    "url =\"https://raw.githubusercontent.com/jbrownlee/Datasets/master/pima-indians-diabetes.data.csv\"\n",
    "\n",
    "dataset = pd.read_csv(url, header=None).values\n",
    "\n",
    "# split into input (X) and output (Y) variables\n",
    "X = dataset[:,0:8]\n",
    "Y = dataset[:,8]\n",
    "\n",
    "# Function to create model, required for KerasClassifier\n",
    "def create_model():\n",
    "    # create model\n",
    "    model = Sequential()\n",
    "    model.add(Dense(12, input_dim=8, activation='relu'))\n",
    "    model.add(Dense(1, activation='sigmoid'))\n",
    "    # Compile model\n",
    "    model.compile(loss='binary_crossentropy', optimizer='adam', metrics=['accuracy'])\n",
    "    return model\n",
    "\n",
    "# create model\n",
    "model = KerasClassifier(build_fn=create_model, verbose=0)\n",
    "\n",
    "# define the grid search parameters\n",
    "# batch_size = [10, 20, 40, 60, 80, 100]\n",
    "# param_grid = dict(batch_size=batch_size, epochs=epochs)\n",
    "\n",
    "# define the grid search parameters\n",
    "param_grid = {'batch_size': [10, 20, 40, 60, 80, 100],\n",
    "              'epochs': [20]}\n",
    "\n",
    "# Create Grid Search\n",
    "grid = GridSearchCV(estimator=model, param_grid=param_grid, n_jobs=1)\n",
    "grid_result = grid.fit(X, Y)\n",
    "\n",
    "# Report Results\n",
    "print(f\"Best: {grid_result.best_score_} using {grid_result.best_params_}\")\n",
    "means = grid_result.cv_results_['mean_test_score']\n",
    "stds = grid_result.cv_results_['std_test_score']\n",
    "params = grid_result.cv_results_['params']\n",
    "for mean, stdev, param in zip(means, stds, params):\n",
    "    print(f\"Means: {mean}, Stdev: {stdev} with: {param}\") "
   ]
  },
  {
   "cell_type": "markdown",
   "metadata": {
    "colab_type": "text",
    "id": "pmABfjlvXbqi"
   },
   "source": [
    "## Epochs\n",
    "\n",
    "The number of training epochs has a large and direct affect on the accuracy, However, more epochs is almost always goign to better than less epochs. This means that if you tune this parameter at the beginning and try and maintain the same value all throughout your training, you're going to be waiting a long time for each iteration of GridSearch. I suggest picking a fixed moderat # of epochs all throughout your training and then Grid Searching this parameter at the very end. "
   ]
  },
  {
   "cell_type": "code",
   "execution_count": 15,
   "metadata": {
    "colab": {
     "base_uri": "https://localhost:8080/",
     "height": 26329
    },
    "colab_type": "code",
    "id": "bAmxP3N7TmFh",
    "outputId": "3ddb08c4-51ac-4eaa-ff39-143397024544"
   },
   "outputs": [
    {
     "name": "stdout",
     "output_type": "stream",
     "text": [
      "Best: 0.71875 using {'batch_size': 10, 'epochs': 200}\n",
      "Means: 0.6471354166666666, Stdev: 0.003682847818679935 with: {'batch_size': 10, 'epochs': 20}\n",
      "Means: 0.6471354166666666, Stdev: 0.03513212907091677 with: {'batch_size': 10, 'epochs': 40}\n",
      "Means: 0.6809895833333334, Stdev: 0.025779934730759544 with: {'batch_size': 10, 'epochs': 60}\n",
      "Means: 0.71875, Stdev: 0.014615849167085708 with: {'batch_size': 10, 'epochs': 200}\n",
      "Means: 0.55078125, Stdev: 0.06907180838476482 with: {'batch_size': 80, 'epochs': 20}\n",
      "Means: 0.6432291666666666, Stdev: 0.037782859709757574 with: {'batch_size': 80, 'epochs': 40}\n",
      "Means: 0.60546875, Stdev: 0.03880120944206078 with: {'batch_size': 80, 'epochs': 60}\n",
      "Means: 0.6744791666666666, Stdev: 0.012075024082676697 with: {'batch_size': 80, 'epochs': 200}\n"
     ]
    }
   ],
   "source": [
    "# define the grid search parameters\n",
    "param_grid = {'batch_size': [10],\n",
    "              'epochs': [20, 40, 60, 200]}\n",
    "\n",
    "# Create Grid Search\n",
    "grid = GridSearchCV(estimator=model, param_grid=param_grid, n_jobs=1)\n",
    "grid_result = grid.fit(X, Y)\n",
    "\n",
    "# Report Results\n",
    "print(f\"Best: {grid_result.best_score_} using {grid_result.best_params_}\")\n",
    "means = grid_result.cv_results_['mean_test_score']\n",
    "stds = grid_result.cv_results_['std_test_score']\n",
    "params = grid_result.cv_results_['params']\n",
    "for mean, stdev, param in zip(means, stds, params):\n",
    "    print(f\"Means: {mean}, Stdev: {stdev} with: {param}\")"
   ]
  },
  {
   "cell_type": "code",
   "execution_count": null,
   "metadata": {
    "colab": {},
    "colab_type": "code",
    "id": "b5feRhSiZ9o9"
   },
   "outputs": [],
   "source": []
  },
  {
   "cell_type": "markdown",
   "metadata": {
    "colab_type": "text",
    "id": "EKcuY6OiaLfz"
   },
   "source": [
    "## Optimizer\n",
    "\n",
    "Remember that there's a different optimizers [optimizers](https://keras.io/optimizers/). At some point, take some time to read up on them a little bit. \"adam\" usually gives the best results. The thing to know about choosing an optimizer is that different optimizers have different hyperparameters like learning rate, momentum, etc. So based on the optimizer you choose you might also have to tune the learning rate and momentum of those optimizers after that. "
   ]
  },
  {
   "cell_type": "markdown",
   "metadata": {
    "colab_type": "text",
    "id": "DG3wq5iOaLig"
   },
   "source": [
    "## Learning Rate\n",
    "\n",
    "Remember that the Learning Rate is a hyperparameter that is specific to your gradient-descent based optimizer selection. A learning rate that is too high will cause divergent behavior, but a Learning Rate that is too low will fail to converge, again, you're looking for the sweet spot. I would start out tuning learning rates by orders of magnitude: [.001, .01, .1, .2, .3, .5] etc. I wouldn't go above .5, but you can try it and see what the behavior is like. \n",
    "\n",
    "Once you have narrowed it down, make the window even smaller and try it again. If after running the above specification your model reports that .1 is the best optimizer, then you should probably try things like [.05, .08, .1, .12, .15] to try and narrow it down. \n",
    "\n",
    "It can also be good to tune the number of epochs in combination with the learning rate since the number of iterations that you allow the learning rate to reach the minimum can determine if you have let it run long enough to converge to the minimum. "
   ]
  },
  {
   "cell_type": "markdown",
   "metadata": {
    "colab_type": "text",
    "id": "gNTBUWd1aLlA"
   },
   "source": [
    "## Momentum\n",
    "\n",
    "Momentum is a hyperparameter that is more commonly associated with Stochastic Gradient Descent. SGD is a common optimizer because it's what people understand and know, but I doubt it will get you the best results, you can try hyperparameter tuning its attributes and see if you can beat the performance from adam. Momentum is a property that decides the willingness of an optimizer to overshoot the minimum. Imagine a ball rolling down one side of a bowl and then up the opposite side a little bit before settling back to the bottom. The purpose of momentum is to try and escale local minima."
   ]
  },
  {
   "cell_type": "markdown",
   "metadata": {
    "colab_type": "text",
    "id": "xnEG-bCJaLnZ"
   },
   "source": [
    "## Activation Functions\n",
    "\n",
    "We've talked about this a little bit, typically you'l want to use ReLU for hidden layers and either Sigmoid, or Softmax for output layers of binary and multi-class classification implementations respectively, but try other activation functions and see if you can get any better results with sigmoid or tanh or something. There are a lot of activation functions that we haven't really talked about. Maybe you'll get good results with them. Maybe you won't. :) <https://keras.io/activations/>"
   ]
  },
  {
   "cell_type": "markdown",
   "metadata": {
    "colab_type": "text",
    "id": "oul9sPq-dU-h"
   },
   "source": [
    "## Network Weight Initialization\n",
    "\n",
    "You saw how big of an effect the way that we initialize our network's weights can have on our results. There are **a lot** of what are called initialization modes. I don't understand all of them, but they can have a big affect on your model's initial accuracy. Your model will get further with less epochs if you initialize it with weights that are well suited to the problem you're trying to solve.\n",
    "\n",
    "`init_mode = ['uniform', 'lecun_uniform', 'normal', 'zero', 'glorot_normal', 'glorot_uniform', 'he_normal', 'he_uniform']`"
   ]
  },
  {
   "cell_type": "markdown",
   "metadata": {
    "colab_type": "text",
    "id": "bqtEuxeQaLqE"
   },
   "source": [
    "## Dropout Regularization and the Weight Constraint\n",
    "\n",
    "the Dropout Regularization value is a percentage of neurons that you want to be randomly deactivated during training. The weight constraint is a second regularization parameter that works in tandem with dropout regularization. You should tune these two values at the same time. \n",
    "\n",
    "Using dropout on visible vs hidden layers might have a different effect. Using dropout on hidden layers might not have any effect while using dropout on hidden layers might have a substantial effect. You don't necessarily need to turn use dropout unless you see that your model has overfitting and generalizability problems."
   ]
  },
  {
   "cell_type": "markdown",
   "metadata": {
    "colab_type": "text",
    "id": "P2c5Cv6oaLtO"
   },
   "source": [
    "## Neurons in Hidden Layer \n",
    "\n",
    "Remember that when we only had a single perceptron our model was only able to fit to linearly separable data, but as we have added layers and nodes to those layers our network has become a powerhouse of fitting nonlinearity in data. The larger the network and the more nodes generally the stronger the network's capacity to fit nonlinear patterns in data. The more nodes and layers the longer it will take to train a network, and higher the probability of overfitting. The larger your network gets the more you'll need dropout regularization or other regularization techniques to keep it in check. \n",
    "\n",
    "Typically depth (more layers) is more important than width (more nodes) for neural networks. This is part of why Deep Learning is so highly touted. Certain deep learning architectures have truly been huge breakthroughs for certain machine learning tasks. \n",
    "\n",
    "You might borrow ideas from other network architectures. For example if I was doing image recognition and I wasn't taking cues from state of the art architectures like resnet, alexnet, googlenet, etc. Then I'm probably going to have to do a lot more experimentation on my own before I find something that works.\n",
    "\n",
    "There are some heuristics, but I am highly skeptical of them. I think you're better off experimenting on your own and forming your own intuition for these kinds of problems. \n",
    "\n",
    "- https://machinelearningmastery.com/how-to-configure-the-number-of-layers-and-nodes-in-a-neural-network/"
   ]
  },
  {
   "cell_type": "markdown",
   "metadata": {
    "colab_type": "text",
    "id": "3LvRYQOwd-aZ"
   },
   "source": [
    "# Hyperparameter Tuning Tips:\n",
    "\n",
    "1) Use **at least** 3-fold cross validation. 5-fold or 10-fold would be better if you're patient enough.\n",
    "\n",
    "2) Sampling your dataset can speed up iterations if you have enough data to justify it.\n",
    "\n",
    "3) Start with \"Coarse Grids\" we gave an example of this when we were talking about Learning Rate, start with wide gaps between values that you're testing and then run additional tests with more narrow gaps between values until you find an optimum.\n",
    "\n",
    "4) Even though we're using Cross Validation, reproducibility can still be a challenge. Don't be afraid to run some tests multiple times to see if you get the same results. Sometimes the accuracy differences are so slight that grid search picking one hyperparameter over another is just luck of the draw.\n",
    "\n",
    "5) Run your tests in verbose mode. Not only will you be less stressed out wondering if it's actually running, but you will be able to more quickly identify if something has gone haywire by glancing at the output every now and again.\n",
    "\n",
    "6) Pick a moderate amount of epochs and stick with that all throughout your training, until the very end, then tune your epochs. \n",
    "\n",
    "7) As you begin to have a lot of hyperparameters narrowed down, test them along with narrow versions of other hyperparameters in order to catch the small effects of interactions between specific hyperparameters.\n",
    "\n",
    "8) Being a perfectionist here is going to be a long and painful journey, so please do a cost-benefit analysis of how you're using your time here. Learn the concept, have the experience, but don't spend 3 days hyperparameter tuning your assignment."
   ]
  },
  {
   "cell_type": "markdown",
   "metadata": {
    "colab_type": "text",
    "id": "z2cC0lpAhDQ_"
   },
   "source": [
    "## Additional Reading:\n",
    "\n",
    "I know I sound like a shill for Jason Brownlee, but honestly he has some of the very best articles on the internet in regards to hyperparameter tuning with Keras. I have leaned on his articles heavily when doing hyperparameter tuning before and saw great results from following his advice. He has articles on lots and lots of Keras related topics, so keep an ey out for his website: <http://machinelearningmastery.com> as you look through search results today.\n",
    "\n",
    "- https://machinelearningmastery.com/grid-search-hyperparameters-deep-learning-models-python-keras/\n",
    "- https://blog.floydhub.com/guide-to-hyperparameters-search-for-deep-learning-models/\n",
    "- https://machinelearningmastery.com/dropout-regularization-deep-learning-models-keras/\n",
    "- https://machinelearningmastery.com/introduction-to-weight-constraints-to-reduce-generalization-error-in-deep-learning/\n",
    "- https://machinelearningmastery.com/how-to-configure-the-number-of-layers-and-nodes-in-a-neural-network/"
   ]
  }
 ],
 "metadata": {
  "colab": {
   "collapsed_sections": [],
   "name": "LS_DS_434_Hyperparameter_Tuning.ipynb",
   "provenance": [],
   "version": "0.3.2"
  },
  "kernelspec": {
   "display_name": "U4-S2-NNF (Python3)",
   "language": "python",
   "name": "u4-s2-nnf"
  },
  "language_info": {
   "codemirror_mode": {
    "name": "ipython",
    "version": 3
   },
   "file_extension": ".py",
   "mimetype": "text/x-python",
   "name": "python",
   "nbconvert_exporter": "python",
   "pygments_lexer": "ipython3",
   "version": "3.7.3"
  }
 },
 "nbformat": 4,
 "nbformat_minor": 2
}
