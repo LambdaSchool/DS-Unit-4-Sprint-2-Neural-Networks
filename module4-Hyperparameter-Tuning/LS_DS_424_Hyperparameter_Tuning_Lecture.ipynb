{
 "cells": [
  {
   "cell_type": "markdown",
   "metadata": {
    "colab_type": "text",
    "id": "41TS0Sa0rDNx"
   },
   "source": [
    "Lambda School Data Science\n",
    "\n",
    "*Unit 4, Sprint 2, Module 4*\n",
    "\n",
    "---"
   ]
  },
  {
   "cell_type": "markdown",
   "metadata": {
    "colab_type": "text",
    "id": "41TS0Sa0rDNx"
   },
   "source": [
    "# Neural Networks & GPUs (Prepare)\n",
    "*aka Hyperparameter Tuning*\n",
    "\n",
    "*aka Big Servers for Big Problems*"
   ]
  },
  {
   "cell_type": "markdown",
   "metadata": {
    "colab_type": "text",
    "id": "41TS0Sa0rDNx"
   },
   "source": [
    "## Learning Objectives\n",
    "* <a href=\"#p1\">Part 1</a>: Describe the major hyperparemeters to tune\n",
    "* <a href=\"#p2\">Part 2</a>: Implement an experiment tracking framework\n",
    "* <a href=\"#p3\">Part 3</a>: Search the hyperparameter space using RandomSearch (Optional)"
   ]
  },
  {
   "cell_type": "code",
   "execution_count": 22,
   "metadata": {},
   "outputs": [],
   "source": [
    "wandb_group = \"ds8\"\n",
    "wandb_project = \"inclass\""
   ]
  },
  {
   "cell_type": "markdown",
   "metadata": {},
   "source": [
    "# Hyperparameter Options (Learn)\n",
    "<a id=\"p1\"></a>"
   ]
  },
  {
   "cell_type": "markdown",
   "metadata": {},
   "source": [
    "## Overview\n",
    "\n",
    "Hyperparameter tuning is much more important with neural networks than it has been with any other models that we have considered up to this point. Other supervised learning models might have a couple of parameters, but neural networks can have dozens. These can substantially affect the accuracy of our models and although it can be a time consuming process is a necessary step when working with neural networks.\n",
    "​\n",
    "Hyperparameter tuning comes with a challenge. How can we compare models specified with different hyperparameters if our model's final error metric can vary somewhat erratically? How do we avoid just getting unlucky and selecting the wrong hyperparameter? This is a problem that to a certain degree we just have to live with as we test and test again. However, we can minimize it somewhat by pairing our experiments with Cross Validation to reduce the variance of our final accuracy values."
   ]
  },
  {
   "cell_type": "markdown",
   "metadata": {
    "colab_type": "text",
    "id": "0s0o2pqBs88q"
   },
   "source": [
    "### Load Boston Housing Data"
   ]
  },
  {
   "cell_type": "code",
   "execution_count": 1,
   "metadata": {},
   "outputs": [],
   "source": [
    "from tensorflow.keras.datasets import boston_housing\n",
    "\n",
    "(x_train, y_train), (x_test, y_test) = boston_housing.load_data()"
   ]
  },
  {
   "cell_type": "markdown",
   "metadata": {
    "colab_type": "text",
    "id": "Pm7zow5IvaTt"
   },
   "source": [
    "### Normalizing Input Data\n",
    "\n",
    "It's not 100% necessary to normalize/scale your input data before feeding it to a neural network, the network can learn the appropriate weights to deal with data of as long as it is numerically represented,  but it is recommended as it can help **make training faster** and **reduces the chances that gradient descent might get stuck in a local optimum**.\n",
    "\n",
    "<https://stackoverflow.com/questions/4674623/why-do-we-have-to-normalize-the-input-for-an-artificial-neural-network>"
   ]
  },
  {
   "cell_type": "code",
   "execution_count": 2,
   "metadata": {},
   "outputs": [
    {
     "name": "stdout",
     "output_type": "stream",
     "text": [
      "[[-0.27224633 -0.48361547 -0.43576161 -0.25683275 -0.1652266  -0.1764426\n",
      "   0.81306188  0.1166983  -0.62624905 -0.59517003  1.14850044  0.44807713\n",
      "   0.8252202 ]\n",
      " [-0.40342651  2.99178419 -1.33391162 -0.25683275 -1.21518188  1.89434613\n",
      "  -1.91036058  1.24758524 -0.85646254 -0.34843254 -1.71818909  0.43190599\n",
      "  -1.32920239]\n",
      " [ 0.1249402  -0.48361547  1.0283258  -0.25683275  0.62864202 -1.82968811\n",
      "   1.11048828 -1.18743907  1.67588577  1.5652875   0.78447637  0.22061726\n",
      "  -1.30850006]\n",
      " [-0.40149354 -0.48361547 -0.86940196 -0.25683275 -0.3615597  -0.3245576\n",
      "  -1.23667187  1.10717989 -0.51114231 -1.094663    0.78447637  0.44807713\n",
      "  -0.65292624]\n",
      " [-0.0056343  -0.48361547  1.0283258  -0.25683275  1.32861221  0.15364225\n",
      "   0.69480801 -0.57857203  1.67588577  1.5652875   0.78447637  0.3898823\n",
      "   0.26349695]\n",
      " [-0.37502238 -0.48361547 -0.54747912 -0.25683275 -0.54935658 -0.78865126\n",
      "   0.18954148  0.48371503 -0.51114231 -0.71552978  0.51145832  0.38669063\n",
      "  -0.13812828]\n",
      " [ 0.58963463 -0.48361547  1.0283258  -0.25683275  1.21764133 -1.03127774\n",
      "   1.11048828 -1.06518235  1.67588577  1.5652875   0.78447637  0.44807713\n",
      "   1.49873604]\n",
      " [ 0.0381708  -0.48361547  1.24588095 -0.25683275  2.67733525 -1.12719983\n",
      "   1.11048828 -1.14833073 -0.51114231 -0.01744323 -1.71818909  0.44807713\n",
      "   1.88793986]\n",
      " [-0.17228416 -0.48361547  1.24588095 -0.25683275  2.67733525 -0.90150078\n",
      "   1.11048828 -1.09664657 -0.51114231 -0.01744323 -1.71818909 -1.97365769\n",
      "   0.53952803]\n",
      " [-0.22932104 -0.48361547  1.58544339 -0.25683275  0.56888847 -1.76056777\n",
      "   1.11048828 -1.13471925 -0.62624905  0.18716835  1.23950646  0.44807713\n",
      "   2.99068404]]\n"
     ]
    }
   ],
   "source": [
    "from sklearn.preprocessing import StandardScaler\n",
    "\n",
    "scaler = StandardScaler()\n",
    "\n",
    "x_train = scaler.fit_transform(x_train)\n",
    "x_test = scaler.transform(x_test)\n",
    "print(x_train[:10])"
   ]
  },
  {
   "cell_type": "markdown",
   "metadata": {
    "colab_type": "text",
    "id": "l6hgCWbir90R"
   },
   "source": [
    "### Model Validation using an automatic verification Dataset\n",
    "\n",
    "Instead of doing seperate train test split class, Keras has a really nice feature that you can set the validation.data argument when fitting your model and Keras will take that portion of your test data and use it as a validation dataset. "
   ]
  },
  {
   "cell_type": "code",
   "execution_count": 3,
   "metadata": {
    "colab": {
     "base_uri": "https://localhost:8080/",
     "height": 1750
    },
    "colab_type": "code",
    "id": "GMXVfmzXp1Oo",
    "outputId": "b05e251e-508f-46e6-865b-f869ae2a5dc4"
   },
   "outputs": [
    {
     "name": "stdout",
     "output_type": "stream",
     "text": [
      "Train on 404 samples, validate on 102 samples\n",
      "Epoch 1/75\n",
      "404/404 [==============================] - 1s 3ms/sample - loss: 522.1275 - mse: 522.1275 - mae: 20.9307 - val_loss: 452.1315 - val_mse: 452.1314 - val_mae: 19.3503\n",
      "Epoch 2/75\n",
      "404/404 [==============================] - 0s 239us/sample - loss: 284.9006 - mse: 284.9006 - mae: 14.6493 - val_loss: 142.2979 - val_mse: 142.2979 - val_mae: 10.0938\n",
      "Epoch 3/75\n",
      "404/404 [==============================] - 0s 214us/sample - loss: 76.6161 - mse: 76.6161 - mae: 6.6610 - val_loss: 58.7172 - val_mse: 58.7172 - val_mae: 5.8192\n",
      "Epoch 4/75\n",
      "404/404 [==============================] - 0s 208us/sample - loss: 39.5452 - mse: 39.5452 - mae: 4.4395 - val_loss: 36.3584 - val_mse: 36.3583 - val_mae: 4.6791\n",
      "Epoch 5/75\n",
      "404/404 [==============================] - 0s 222us/sample - loss: 27.3858 - mse: 27.3858 - mae: 3.6672 - val_loss: 30.4519 - val_mse: 30.4519 - val_mae: 4.3056\n",
      "Epoch 6/75\n",
      "404/404 [==============================] - 0s 355us/sample - loss: 23.3515 - mse: 23.3515 - mae: 3.3946 - val_loss: 27.6220 - val_mse: 27.6220 - val_mae: 4.1006\n",
      "Epoch 7/75\n",
      "404/404 [==============================] - 0s 347us/sample - loss: 20.5834 - mse: 20.5834 - mae: 3.1998 - val_loss: 26.3502 - val_mse: 26.3502 - val_mae: 3.9590\n",
      "Epoch 8/75\n",
      "404/404 [==============================] - 0s 359us/sample - loss: 18.8472 - mse: 18.8472 - mae: 3.0250 - val_loss: 25.0879 - val_mse: 25.0879 - val_mae: 3.8185\n",
      "Epoch 9/75\n",
      "404/404 [==============================] - 0s 359us/sample - loss: 17.4499 - mse: 17.4499 - mae: 2.9225 - val_loss: 25.7962 - val_mse: 25.7962 - val_mae: 3.8106\n",
      "Epoch 10/75\n",
      "404/404 [==============================] - 0s 335us/sample - loss: 16.3055 - mse: 16.3055 - mae: 2.8431 - val_loss: 24.8661 - val_mse: 24.8661 - val_mae: 3.6918\n",
      "Epoch 11/75\n",
      "404/404 [==============================] - 0s 221us/sample - loss: 15.1784 - mse: 15.1784 - mae: 2.7389 - val_loss: 24.2262 - val_mse: 24.2262 - val_mae: 3.5940\n",
      "Epoch 12/75\n",
      "404/404 [==============================] - 0s 353us/sample - loss: 14.3438 - mse: 14.3438 - mae: 2.6519 - val_loss: 24.8305 - val_mse: 24.8305 - val_mae: 3.5823\n",
      "Epoch 13/75\n",
      "404/404 [==============================] - 0s 334us/sample - loss: 13.6653 - mse: 13.6653 - mae: 2.6227 - val_loss: 24.9240 - val_mse: 24.9240 - val_mae: 3.5197\n",
      "Epoch 14/75\n",
      "404/404 [==============================] - 0s 350us/sample - loss: 13.2064 - mse: 13.2064 - mae: 2.5382 - val_loss: 25.2517 - val_mse: 25.2517 - val_mae: 3.5147\n",
      "Epoch 15/75\n",
      "404/404 [==============================] - 0s 352us/sample - loss: 12.6426 - mse: 12.6427 - mae: 2.5179 - val_loss: 24.2375 - val_mse: 24.2375 - val_mae: 3.4112\n",
      "Epoch 16/75\n",
      "404/404 [==============================] - 0s 275us/sample - loss: 12.1840 - mse: 12.1840 - mae: 2.4644 - val_loss: 24.5900 - val_mse: 24.5900 - val_mae: 3.3977\n",
      "Epoch 17/75\n",
      "404/404 [==============================] - 0s 275us/sample - loss: 11.5763 - mse: 11.5763 - mae: 2.4222 - val_loss: 24.5811 - val_mse: 24.5811 - val_mae: 3.3428\n",
      "Epoch 18/75\n",
      "404/404 [==============================] - 0s 303us/sample - loss: 11.1716 - mse: 11.1716 - mae: 2.3741 - val_loss: 24.2084 - val_mse: 24.2084 - val_mae: 3.3100\n",
      "Epoch 19/75\n",
      "404/404 [==============================] - 0s 284us/sample - loss: 10.9606 - mse: 10.9606 - mae: 2.3379 - val_loss: 24.1029 - val_mse: 24.1029 - val_mae: 3.2650\n",
      "Epoch 20/75\n",
      "404/404 [==============================] - 0s 285us/sample - loss: 10.5322 - mse: 10.5322 - mae: 2.3044 - val_loss: 24.8484 - val_mse: 24.8484 - val_mae: 3.2596\n",
      "Epoch 21/75\n",
      "404/404 [==============================] - 0s 323us/sample - loss: 10.4712 - mse: 10.4712 - mae: 2.2913 - val_loss: 24.3634 - val_mse: 24.3634 - val_mae: 3.2110\n",
      "Epoch 22/75\n",
      "404/404 [==============================] - 0s 321us/sample - loss: 10.2918 - mse: 10.2918 - mae: 2.2849 - val_loss: 24.3823 - val_mse: 24.3823 - val_mae: 3.1979\n",
      "Epoch 23/75\n",
      "404/404 [==============================] - 0s 343us/sample - loss: 10.0028 - mse: 10.0028 - mae: 2.2241 - val_loss: 25.1034 - val_mse: 25.1034 - val_mae: 3.2498\n",
      "Epoch 24/75\n",
      "404/404 [==============================] - 0s 347us/sample - loss: 10.0013 - mse: 10.0013 - mae: 2.2277 - val_loss: 25.0603 - val_mse: 25.0603 - val_mae: 3.2396\n",
      "Epoch 25/75\n",
      "404/404 [==============================] - 0s 240us/sample - loss: 10.0969 - mse: 10.0969 - mae: 2.2358 - val_loss: 25.0642 - val_mse: 25.0642 - val_mae: 3.2022\n",
      "Epoch 26/75\n",
      "404/404 [==============================] - 0s 280us/sample - loss: 9.9337 - mse: 9.9337 - mae: 2.2335 - val_loss: 24.4128 - val_mse: 24.4128 - val_mae: 3.1604\n",
      "Epoch 27/75\n",
      "404/404 [==============================] - 0s 269us/sample - loss: 9.4388 - mse: 9.4388 - mae: 2.1649 - val_loss: 23.8457 - val_mse: 23.8457 - val_mae: 3.1148\n",
      "Epoch 28/75\n",
      "404/404 [==============================] - 0s 297us/sample - loss: 9.3746 - mse: 9.3746 - mae: 2.1794 - val_loss: 22.8694 - val_mse: 22.8694 - val_mae: 3.0579\n",
      "Epoch 29/75\n",
      "404/404 [==============================] - 0s 330us/sample - loss: 9.2865 - mse: 9.2865 - mae: 2.1845 - val_loss: 24.1770 - val_mse: 24.1770 - val_mae: 3.1681\n",
      "Epoch 30/75\n",
      "404/404 [==============================] - 0s 351us/sample - loss: 9.0741 - mse: 9.0741 - mae: 2.1356 - val_loss: 22.6582 - val_mse: 22.6582 - val_mae: 3.0084\n",
      "Epoch 31/75\n",
      "404/404 [==============================] - 0s 353us/sample - loss: 8.9434 - mse: 8.9434 - mae: 2.1115 - val_loss: 22.6488 - val_mse: 22.6488 - val_mae: 2.9962\n",
      "Epoch 32/75\n",
      "404/404 [==============================] - 0s 342us/sample - loss: 8.8425 - mse: 8.8425 - mae: 2.0757 - val_loss: 23.6573 - val_mse: 23.6573 - val_mae: 3.1045\n",
      "Epoch 33/75\n",
      "404/404 [==============================] - 0s 359us/sample - loss: 8.8088 - mse: 8.8088 - mae: 2.0918 - val_loss: 23.3868 - val_mse: 23.3868 - val_mae: 3.0424\n",
      "Epoch 34/75\n",
      "404/404 [==============================] - 0s 346us/sample - loss: 8.6742 - mse: 8.6742 - mae: 2.0905 - val_loss: 22.2503 - val_mse: 22.2503 - val_mae: 2.9721\n",
      "Epoch 35/75\n",
      "404/404 [==============================] - 0s 357us/sample - loss: 8.5057 - mse: 8.5057 - mae: 2.0623 - val_loss: 22.2868 - val_mse: 22.2868 - val_mae: 2.9628\n",
      "Epoch 36/75\n",
      "404/404 [==============================] - 0s 353us/sample - loss: 8.2697 - mse: 8.2697 - mae: 2.0606 - val_loss: 21.5475 - val_mse: 21.5475 - val_mae: 2.9584\n",
      "Epoch 37/75\n",
      "404/404 [==============================] - 0s 334us/sample - loss: 8.3292 - mse: 8.3292 - mae: 2.0339 - val_loss: 21.1942 - val_mse: 21.1942 - val_mae: 2.9042\n",
      "Epoch 38/75\n",
      "404/404 [==============================] - 0s 377us/sample - loss: 8.1442 - mse: 8.1442 - mae: 2.0232 - val_loss: 21.2086 - val_mse: 21.2086 - val_mae: 2.8843\n",
      "Epoch 39/75\n",
      "404/404 [==============================] - 0s 363us/sample - loss: 8.2199 - mse: 8.2199 - mae: 2.0132 - val_loss: 21.9871 - val_mse: 21.9871 - val_mae: 2.9588\n",
      "Epoch 40/75\n",
      "404/404 [==============================] - 0s 276us/sample - loss: 8.1159 - mse: 8.1159 - mae: 2.0427 - val_loss: 22.4778 - val_mse: 22.4778 - val_mae: 2.9833\n",
      "Epoch 41/75\n",
      "404/404 [==============================] - 0s 252us/sample - loss: 7.8118 - mse: 7.8118 - mae: 2.0193 - val_loss: 21.1076 - val_mse: 21.1076 - val_mae: 2.9311\n",
      "Epoch 42/75\n",
      "404/404 [==============================] - 0s 216us/sample - loss: 7.9049 - mse: 7.9049 - mae: 1.9782 - val_loss: 21.0637 - val_mse: 21.0637 - val_mae: 2.9023\n",
      "Epoch 43/75\n",
      "404/404 [==============================] - 0s 228us/sample - loss: 7.7292 - mse: 7.7292 - mae: 1.9701 - val_loss: 21.1769 - val_mse: 21.1769 - val_mae: 2.9072\n",
      "Epoch 44/75\n",
      "404/404 [==============================] - 0s 236us/sample - loss: 7.6491 - mse: 7.6491 - mae: 1.9905 - val_loss: 20.1972 - val_mse: 20.1972 - val_mae: 2.8098\n",
      "Epoch 45/75\n",
      "404/404 [==============================] - 0s 233us/sample - loss: 7.4665 - mse: 7.4665 - mae: 1.9237 - val_loss: 20.8395 - val_mse: 20.8395 - val_mae: 2.8522\n",
      "Epoch 46/75\n",
      "404/404 [==============================] - 0s 237us/sample - loss: 7.5848 - mse: 7.5848 - mae: 1.9733 - val_loss: 19.8220 - val_mse: 19.8220 - val_mae: 2.7844\n",
      "Epoch 47/75\n",
      "404/404 [==============================] - 0s 242us/sample - loss: 7.2881 - mse: 7.2881 - mae: 1.9223 - val_loss: 21.0501 - val_mse: 21.0501 - val_mae: 2.9960\n",
      "Epoch 48/75\n",
      "404/404 [==============================] - 0s 248us/sample - loss: 7.4259 - mse: 7.4259 - mae: 1.9409 - val_loss: 19.4653 - val_mse: 19.4653 - val_mae: 2.7409\n",
      "Epoch 49/75\n",
      "404/404 [==============================] - 0s 260us/sample - loss: 7.2633 - mse: 7.2633 - mae: 1.8951 - val_loss: 19.0864 - val_mse: 19.0864 - val_mae: 2.7475\n",
      "Epoch 50/75\n",
      "404/404 [==============================] - 0s 219us/sample - loss: 7.1398 - mse: 7.1398 - mae: 1.8671 - val_loss: 20.4087 - val_mse: 20.4087 - val_mae: 2.8870\n",
      "Epoch 51/75\n",
      "404/404 [==============================] - 0s 244us/sample - loss: 7.1598 - mse: 7.1598 - mae: 1.8979 - val_loss: 18.6932 - val_mse: 18.6932 - val_mae: 2.6998\n",
      "Epoch 52/75\n",
      "404/404 [==============================] - 0s 235us/sample - loss: 6.9828 - mse: 6.9828 - mae: 1.8772 - val_loss: 19.0467 - val_mse: 19.0467 - val_mae: 2.8189\n",
      "Epoch 53/75\n",
      "404/404 [==============================] - 0s 243us/sample - loss: 7.0700 - mse: 7.0700 - mae: 1.8701 - val_loss: 19.0904 - val_mse: 19.0904 - val_mae: 2.8293\n",
      "Epoch 54/75\n",
      "404/404 [==============================] - 0s 242us/sample - loss: 6.8919 - mse: 6.8919 - mae: 1.8633 - val_loss: 19.7647 - val_mse: 19.7647 - val_mae: 2.8341\n",
      "Epoch 55/75\n",
      "404/404 [==============================] - 0s 254us/sample - loss: 6.7715 - mse: 6.7715 - mae: 1.8556 - val_loss: 18.2094 - val_mse: 18.2094 - val_mae: 2.7145\n",
      "Epoch 56/75\n",
      "404/404 [==============================] - 0s 223us/sample - loss: 6.6214 - mse: 6.6214 - mae: 1.8174 - val_loss: 18.1521 - val_mse: 18.1521 - val_mae: 2.6779\n",
      "Epoch 57/75\n",
      "404/404 [==============================] - 0s 218us/sample - loss: 6.6155 - mse: 6.6155 - mae: 1.8130 - val_loss: 19.2255 - val_mse: 19.2255 - val_mae: 2.8189\n",
      "Epoch 58/75\n",
      "404/404 [==============================] - 0s 244us/sample - loss: 6.7735 - mse: 6.7735 - mae: 1.8420 - val_loss: 19.1569 - val_mse: 19.1569 - val_mae: 2.8403\n",
      "Epoch 59/75\n",
      "404/404 [==============================] - 0s 229us/sample - loss: 6.7481 - mse: 6.7481 - mae: 1.8033 - val_loss: 17.6874 - val_mse: 17.6874 - val_mae: 2.6742\n",
      "Epoch 60/75\n",
      "404/404 [==============================] - 0s 225us/sample - loss: 6.6251 - mse: 6.6251 - mae: 1.8160 - val_loss: 18.8665 - val_mse: 18.8665 - val_mae: 2.6888\n",
      "Epoch 61/75\n",
      "404/404 [==============================] - 0s 288us/sample - loss: 6.4869 - mse: 6.4869 - mae: 1.7995 - val_loss: 17.8101 - val_mse: 17.8101 - val_mae: 2.7240\n",
      "Epoch 62/75\n",
      "404/404 [==============================] - 0s 248us/sample - loss: 6.5789 - mse: 6.5789 - mae: 1.8002 - val_loss: 18.2928 - val_mse: 18.2928 - val_mae: 2.7016\n",
      "Epoch 63/75\n",
      "404/404 [==============================] - 0s 225us/sample - loss: 6.3794 - mse: 6.3794 - mae: 1.7864 - val_loss: 18.8511 - val_mse: 18.8511 - val_mae: 2.7819\n",
      "Epoch 64/75\n",
      "404/404 [==============================] - 0s 229us/sample - loss: 6.2668 - mse: 6.2668 - mae: 1.7840 - val_loss: 18.9825 - val_mse: 18.9825 - val_mae: 2.7021\n",
      "Epoch 65/75\n",
      "404/404 [==============================] - 0s 223us/sample - loss: 6.0431 - mse: 6.0431 - mae: 1.7561 - val_loss: 17.8518 - val_mse: 17.8518 - val_mae: 2.6604\n",
      "Epoch 66/75\n",
      "404/404 [==============================] - 0s 304us/sample - loss: 6.0944 - mse: 6.0944 - mae: 1.7700 - val_loss: 17.8058 - val_mse: 17.8058 - val_mae: 2.7155\n",
      "Epoch 67/75\n",
      "404/404 [==============================] - 0s 292us/sample - loss: 6.0840 - mse: 6.0840 - mae: 1.7410 - val_loss: 17.8727 - val_mse: 17.8727 - val_mae: 2.7171\n",
      "Epoch 68/75\n",
      "404/404 [==============================] - 0s 203us/sample - loss: 5.7925 - mse: 5.7925 - mae: 1.7064 - val_loss: 17.4713 - val_mse: 17.4713 - val_mae: 2.6706\n",
      "Epoch 69/75\n",
      "404/404 [==============================] - 0s 250us/sample - loss: 5.9034 - mse: 5.9034 - mae: 1.7535 - val_loss: 17.4635 - val_mse: 17.4635 - val_mae: 2.6921\n",
      "Epoch 70/75\n",
      "404/404 [==============================] - 0s 226us/sample - loss: 5.8096 - mse: 5.8096 - mae: 1.7251 - val_loss: 16.2381 - val_mse: 16.2381 - val_mae: 2.6181\n",
      "Epoch 71/75\n",
      "404/404 [==============================] - 0s 245us/sample - loss: 5.7528 - mse: 5.7528 - mae: 1.7032 - val_loss: 17.0755 - val_mse: 17.0755 - val_mae: 2.7023\n",
      "Epoch 72/75\n",
      "404/404 [==============================] - 0s 243us/sample - loss: 5.6784 - mse: 5.6784 - mae: 1.6932 - val_loss: 16.2238 - val_mse: 16.2238 - val_mae: 2.5645\n",
      "Epoch 73/75\n",
      "404/404 [==============================] - 0s 239us/sample - loss: 5.7306 - mse: 5.7306 - mae: 1.6989 - val_loss: 17.1533 - val_mse: 17.1533 - val_mae: 2.6441\n",
      "Epoch 74/75\n",
      "404/404 [==============================] - 0s 226us/sample - loss: 5.6154 - mse: 5.6154 - mae: 1.6892 - val_loss: 16.9699 - val_mse: 16.9699 - val_mae: 2.6847\n",
      "Epoch 75/75\n",
      "404/404 [==============================] - 0s 239us/sample - loss: 5.7959 - mse: 5.7959 - mae: 1.7120 - val_loss: 17.3238 - val_mse: 17.3238 - val_mae: 2.6975\n"
     ]
    },
    {
     "data": {
      "text/plain": [
       "<tensorflow.python.keras.callbacks.History at 0x262972bbf60>"
      ]
     },
     "execution_count": 3,
     "metadata": {},
     "output_type": "execute_result"
    }
   ],
   "source": [
    "from tensorflow import keras\n",
    "from tensorflow.keras.models import Sequential\n",
    "from tensorflow.keras.layers import Dense\n",
    "\n",
    "# Important Hyperparameters\n",
    "inputs = x_train.shape[1]\n",
    "epochs = 75\n",
    "batch_size = 10\n",
    "\n",
    "\n",
    "# Create Model\n",
    "model = Sequential()\n",
    "model.add(Dense(64, activation='relu', input_shape=(inputs,)))\n",
    "model.add(Dense(64, activation='relu'))\n",
    "model.add(Dense(1))\n",
    "\n",
    "# Compile Model\n",
    "model.compile(optimizer='adam', loss='mse', metrics=['mse', 'mae'])\n",
    "\n",
    "# Fit Model\n",
    "model.fit(x_train, y_train, \n",
    "          validation_data=(x_test,y_test), \n",
    "          epochs=epochs, \n",
    "          batch_size=batch_size\n",
    "         )"
   ]
  },
  {
   "cell_type": "markdown",
   "metadata": {
    "colab_type": "text",
    "id": "sYJ8t_ezHP4W"
   },
   "source": [
    "\n",
    "\n",
    "### Hyperparameter Tuning Approaches:\n",
    "\n",
    "#### 1) Babysitting AKA \"Grad Student Descent\".\n",
    "\n",
    "If you fiddled with any hyperparameters yesterday, this is basically what you did. This approach is 100% manual and is pretty common among researchers where finding that 1 exact specification that jumps your model to a level of accuracy never seen before is the difference between publishing and not publishing a paper. Of course the professors don't do this themselves, that's grunt work. This is also known as the fiddle with hyperparameters until you run out of time method.\n",
    "\n",
    "#### 2) Grid Search\n",
    "\n",
    "Grid Search is the Grad Student galaxy brain realization of: why don't I just specify all the experiments I want to run and let the computer try every possible combination of them while I go and grab lunch. This has a specific downside in that if I specify 5 hyperparameters with 5 options each then I've just created 5^5 combinations of hyperparameters to check. Which means that I have to train 3125 different versions of my model Then if I use 5-fold Cross Validation on that then my model has to run 15,525 times. This is the brute-force method of hyperparameter tuning, but it can be very profitable if done wisely. \n",
    "\n",
    "When using Grid Search here's what I suggest: don't use it to test combinations of different hyperparameters, only use it to test different specifications of **a single** hyperparameter. It's rare that combinations between different hyperparameters lead to big performance gains. You'll get 90-95% of the way there if you just Grid Search one parameter and take the best result, then retain that best result while you test another, and then retain the best specification from that while you train another. This at least makes the situation much more manageable and leads to pretty good results. \n",
    "\n",
    "#### 3) Random Search\n",
    "\n",
    "Do Grid Search for a couple of hours and you'll say to yourself - \"There's got to be a better way.\" Enter Random Search. For Random search you specify a hyperparameter space and it picks specifications from that randomly, tries them out, gives you the best results and says - That's going to have to be good enough, go home and spend time with your family. \n",
    "\n",
    "Grid Search treats every parameter as if it was equally important, but this just isn't the case, some are known to move the needle a lot more than others (we'll talk about that in a minute). Random Search allows searching to be specified along the most important parameter and experiments less along the dimensions of less important hyperparameters. The downside of Random search is that it won't find the absolute best hyperparameters, but it is much less costly to perform than Grid Search. \n",
    "\n",
    "#### 4) Bayesian Methods\n",
    "\n",
    "One thing that can make more manual methods like babysitting and gridsearch effective is that as the experimenter sees results he can then make updates to his future searches taking into account the results of past specifications. If only we could hyperparameter tune our hyperparameter tuning. Well, we kind of can. Enter Bayesian Optimization. Neural Networks are like an optimization problem within an optimization problem, and Bayesian Optimization is a search strategy that tries to take into account the results of past searches in order to improve future ones. This is the most advanced method but can be a little bit tricky to implement, but there are some early steps with `hyperas` which is Bayesian optimization wrapper for `keras`. "
   ]
  },
  {
   "cell_type": "markdown",
   "metadata": {
    "colab_type": "text",
    "id": "HfQ7D043OMMn"
   },
   "source": [
    "## What Hyperparameters are there to test?\n",
    "\n",
    "- batch_size\n",
    "- training epochs\n",
    "- optimization algorithms\n",
    "- learning rate\n",
    "- momentum\n",
    "- activation functions\n",
    "- dropout regularization\n",
    "- number of neurons in the hidden layer\n",
    "\n",
    "There are more, but these are the most important."
   ]
  },
  {
   "cell_type": "markdown",
   "metadata": {},
   "source": [
    "## Follow Along"
   ]
  },
  {
   "cell_type": "markdown",
   "metadata": {
    "colab_type": "text",
    "id": "Mri5-kXzVKAa"
   },
   "source": [
    "## Batch Size\n",
    "\n",
    "Batch size determines how many observations the model is shown before it calculates loss/error and updates the model weights via gradient descent. You're looking for a sweet spot here where you're showing it enough observations that you have enough information to updates the weights, but not such a large batch size that you don't get a lot of weight update iterations performed in a given epoch. Feed-forward Neural Networks aren't as sensitive to bach_size as other networks, but it is still an important hyperparameter to tune. Smaller batch sizes will also take longer to train. "
   ]
  },
  {
   "cell_type": "code",
   "execution_count": 4,
   "metadata": {
    "colab": {
     "base_uri": "https://localhost:8080/",
     "height": 13561
    },
    "colab_type": "code",
    "id": "2smXfriNAGn7",
    "outputId": "ae996575-78e2-43fb-9dbe-5d44aaf0b430"
   },
   "outputs": [
    {
     "name": "stdout",
     "output_type": "stream",
     "text": [
      "Best: 0.6484424114227295 using {'batch_size': 10, 'epochs': 20}\n",
      "Means: 0.6484424114227295, Stdev: 0.04063654410921375 with: {'batch_size': 10, 'epochs': 20}\n",
      "Means: 0.6236227869987487, Stdev: 0.05062681874597522 with: {'batch_size': 20, 'epochs': 20}\n",
      "Means: 0.6276547074317932, Stdev: 0.030806431780028877 with: {'batch_size': 40, 'epochs': 20}\n",
      "Means: 0.5404634654521943, Stdev: 0.06625937559675542 with: {'batch_size': 60, 'epochs': 20}\n",
      "Means: 0.5900263249874115, Stdev: 0.09759377404307433 with: {'batch_size': 80, 'epochs': 20}\n",
      "Means: 0.5585264384746551, Stdev: 0.07121853313256946 with: {'batch_size': 100, 'epochs': 20}\n"
     ]
    }
   ],
   "source": [
    "import numpy\n",
    "import pandas as pd\n",
    "from sklearn.model_selection import GridSearchCV\n",
    "from tensorflow.keras.models import Sequential\n",
    "from tensorflow.keras.layers import Dense\n",
    "from tensorflow.keras.wrappers.scikit_learn import KerasClassifier\n",
    "\n",
    "# fix random seed for reproducibility\n",
    "seed = 7\n",
    "numpy.random.seed(seed)\n",
    "\n",
    "# load dataset\n",
    "url =\"https://raw.githubusercontent.com/jbrownlee/Datasets/master/pima-indians-diabetes.data.csv\"\n",
    "\n",
    "dataset = pd.read_csv(url, header=None).values\n",
    "\n",
    "# split into input (X) and output (Y) variables\n",
    "X = dataset[:,0:8]\n",
    "Y = dataset[:,8]\n",
    "\n",
    "# Function to create model, required for KerasClassifier\n",
    "def create_model():\n",
    "    # create model\n",
    "    model = Sequential()\n",
    "    model.add(Dense(12, input_dim=8, activation='relu'))\n",
    "    model.add(Dense(1, activation='sigmoid'))\n",
    "    # Compile model\n",
    "    model.compile(loss='binary_crossentropy', optimizer='adam', metrics=['accuracy'])\n",
    "    return model\n",
    "\n",
    "# create model\n",
    "model = KerasClassifier(build_fn=create_model, verbose=0)\n",
    "\n",
    "# define the grid search parameters\n",
    "# batch_size = [10, 20, 40, 60, 80, 100]\n",
    "# param_grid = dict(batch_size=batch_size, epochs=epochs)\n",
    "\n",
    "# define the grid search parameters\n",
    "param_grid = {'batch_size': [10, 20, 40, 60, 80, 100],\n",
    "              'epochs': [20]}\n",
    "\n",
    "# Create Grid Search\n",
    "grid = GridSearchCV(estimator=model, param_grid=param_grid, n_jobs=1)\n",
    "grid_result = grid.fit(X, Y)\n",
    "\n",
    "# Report Results\n",
    "print(f\"Best: {grid_result.best_score_} using {grid_result.best_params_}\")\n",
    "means = grid_result.cv_results_['mean_test_score']\n",
    "stds = grid_result.cv_results_['std_test_score']\n",
    "params = grid_result.cv_results_['params']\n",
    "for mean, stdev, param in zip(means, stds, params):\n",
    "    print(f\"Means: {mean}, Stdev: {stdev} with: {param}\") "
   ]
  },
  {
   "cell_type": "markdown",
   "metadata": {
    "colab_type": "text",
    "id": "pmABfjlvXbqi"
   },
   "source": [
    "## Epochs\n",
    "\n",
    "The number of training epochs has a large and direct affect on the accuracy, However, more epochs is almost always goign to better than less epochs. This means that if you tune this parameter at the beginning and try and maintain the same value all throughout your training, you're going to be waiting a long time for each iteration of GridSearch. I suggest picking a fixed moderat # of epochs all throughout your training and then Grid Searching this parameter at the very end. "
   ]
  },
  {
   "cell_type": "code",
   "execution_count": 5,
   "metadata": {
    "colab": {
     "base_uri": "https://localhost:8080/",
     "height": 26329
    },
    "colab_type": "code",
    "id": "bAmxP3N7TmFh",
    "outputId": "3ddb08c4-51ac-4eaa-ff39-143397024544"
   },
   "outputs": [
    {
     "name": "stdout",
     "output_type": "stream",
     "text": [
      "Best: 0.7240047693252564 using {'batch_size': 20, 'epochs': 200}\n",
      "Means: 0.6536541938781738, Stdev: 0.01696892810883258 with: {'batch_size': 20, 'epochs': 20}\n",
      "Means: 0.6680163025856019, Stdev: 0.02770364215623342 with: {'batch_size': 20, 'epochs': 40}\n",
      "Means: 0.6901706218719482, Stdev: 0.034503130898892946 with: {'batch_size': 20, 'epochs': 60}\n",
      "Means: 0.7240047693252564, Stdev: 0.04067447371736344 with: {'batch_size': 20, 'epochs': 200}\n"
     ]
    }
   ],
   "source": [
    "# define the grid search parameters\n",
    "param_grid = {'batch_size': [20],\n",
    "              'epochs': [20, 40, 60,200]}\n",
    "\n",
    "# Create Grid Search\n",
    "grid = GridSearchCV(estimator=model, param_grid=param_grid, n_jobs=1)\n",
    "grid_result = grid.fit(X, Y)\n",
    "\n",
    "# Report Results\n",
    "print(f\"Best: {grid_result.best_score_} using {grid_result.best_params_}\")\n",
    "means = grid_result.cv_results_['mean_test_score']\n",
    "stds = grid_result.cv_results_['std_test_score']\n",
    "params = grid_result.cv_results_['params']\n",
    "for mean, stdev, param in zip(means, stds, params):\n",
    "    print(f\"Means: {mean}, Stdev: {stdev} with: {param}\")"
   ]
  },
  {
   "cell_type": "markdown",
   "metadata": {
    "colab_type": "text",
    "id": "EKcuY6OiaLfz"
   },
   "source": [
    "## Optimizer\n",
    "\n",
    "Remember that there's a different optimizers [optimizers](https://keras.io/optimizers/). At some point, take some time to read up on them a little bit. \"adam\" usually gives the best results. The thing to know about choosing an optimizer is that different optimizers have different hyperparameters like learning rate, momentum, etc. So based on the optimizer you choose you might also have to tune the learning rate and momentum of those optimizers after that. "
   ]
  },
  {
   "cell_type": "markdown",
   "metadata": {
    "colab_type": "text",
    "id": "DG3wq5iOaLig"
   },
   "source": [
    "## Learning Rate\n",
    "\n",
    "Remember that the Learning Rate is a hyperparameter that is specific to your gradient-descent based optimizer selection. A learning rate that is too high will cause divergent behavior, but a Learning Rate that is too low will fail to converge, again, you're looking for the sweet spot. I would start out tuning learning rates by orders of magnitude: [.001, .01, .1, .2, .3, .5] etc. I wouldn't go above .5, but you can try it and see what the behavior is like. \n",
    "\n",
    "Once you have narrowed it down, make the window even smaller and try it again. If after running the above specification your model reports that .1 is the best optimizer, then you should probably try things like [.05, .08, .1, .12, .15] to try and narrow it down. \n",
    "\n",
    "It can also be good to tune the number of epochs in combination with the learning rate since the number of iterations that you allow the learning rate to reach the minimum can determine if you have let it run long enough to converge to the minimum. "
   ]
  },
  {
   "cell_type": "markdown",
   "metadata": {
    "colab_type": "text",
    "id": "gNTBUWd1aLlA"
   },
   "source": [
    "## Momentum\n",
    "\n",
    "Momentum is a hyperparameter that is more commonly associated with Stochastic Gradient Descent. SGD is a common optimizer because it's what people understand and know, but I doubt it will get you the best results, you can try hyperparameter tuning its attributes and see if you can beat the performance from adam. Momentum is a property that decides the willingness of an optimizer to overshoot the minimum. Imagine a ball rolling down one side of a bowl and then up the opposite side a little bit before settling back to the bottom. The purpose of momentum is to try and escale local minima."
   ]
  },
  {
   "cell_type": "markdown",
   "metadata": {
    "colab_type": "text",
    "id": "xnEG-bCJaLnZ"
   },
   "source": [
    "## Activation Functions\n",
    "\n",
    "We've talked about this a little bit, typically you'l want to use ReLU for hidden layers and either Sigmoid, or Softmax for output layers of binary and multi-class classification implementations respectively, but try other activation functions and see if you can get any better results with sigmoid or tanh or something. There are a lot of activation functions that we haven't really talked about. Maybe you'll get good results with them. Maybe you won't. :) <https://keras.io/activations/>"
   ]
  },
  {
   "cell_type": "markdown",
   "metadata": {
    "colab_type": "text",
    "id": "oul9sPq-dU-h"
   },
   "source": [
    "## Network Weight Initialization\n",
    "\n",
    "You saw how big of an effect the way that we initialize our network's weights can have on our results. There are **a lot** of what are called initialization modes. I don't understand all of them, but they can have a big affect on your model's initial accuracy. Your model will get further with less epochs if you initialize it with weights that are well suited to the problem you're trying to solve.\n",
    "\n",
    "`init_mode = ['uniform', 'lecun_uniform', 'normal', 'zero', 'glorot_normal', 'glorot_uniform', 'he_normal', 'he_uniform']`"
   ]
  },
  {
   "cell_type": "markdown",
   "metadata": {
    "colab_type": "text",
    "id": "bqtEuxeQaLqE"
   },
   "source": [
    "## Dropout Regularization and the Weight Constraint\n",
    "\n",
    "the Dropout Regularization value is a percentage of neurons that you want to be randomly deactivated during training. The weight constraint is a second regularization parameter that works in tandem with dropout regularization. You should tune these two values at the same time. \n",
    "\n",
    "Using dropout on visible vs hidden layers might have a different effect. Using dropout on hidden layers might not have any effect while using dropout on hidden layers might have a substantial effect. You don't necessarily need to turn use dropout unless you see that your model has overfitting and generalizability problems."
   ]
  },
  {
   "cell_type": "markdown",
   "metadata": {
    "colab_type": "text",
    "id": "P2c5Cv6oaLtO"
   },
   "source": [
    "## Neurons in Hidden Layer \n",
    "\n",
    "Remember that when we only had a single perceptron our model was only able to fit to linearly separable data, but as we have added layers and nodes to those layers our network has become a powerhouse of fitting nonlinearity in data. The larger the network and the more nodes generally the stronger the network's capacity to fit nonlinear patterns in data. The more nodes and layers the longer it will take to train a network, and higher the probability of overfitting. The larger your network gets the more you'll need dropout regularization or other regularization techniques to keep it in check. \n",
    "\n",
    "Typically depth (more layers) is more important than width (more nodes) for neural networks. This is part of why Deep Learning is so highly touted. Certain deep learning architectures have truly been huge breakthroughs for certain machine learning tasks. \n",
    "\n",
    "You might borrow ideas from other network architectures. For example if I was doing image recognition and I wasn't taking cues from state of the art architectures like resnet, alexnet, googlenet, etc. Then I'm probably going to have to do a lot more experimentation on my own before I find something that works.\n",
    "\n",
    "There are some heuristics, but I am highly skeptical of them. I think you're better off experimenting on your own and forming your own intuition for these kinds of problems. \n",
    "\n",
    "- https://machinelearningmastery.com/how-to-configure-the-number-of-layers-and-nodes-in-a-neural-network/"
   ]
  },
  {
   "cell_type": "markdown",
   "metadata": {},
   "source": [
    "## Challenge\n",
    "You will be expected to tune several hyperparameters in today's module project. "
   ]
  },
  {
   "cell_type": "markdown",
   "metadata": {},
   "source": [
    "# Experiment Tracking Framework (Learn)\n",
    "<a id=\"p2\"></a>"
   ]
  },
  {
   "cell_type": "markdown",
   "metadata": {},
   "source": [
    "## Overview\n",
    "\n",
    "You will notice quickly that managing the results of all the experiments you are running becomes challenging. Which set of parameters did the best? Are my results today different than my results yesterday? Although we use Ipython Notebooks to work, the format is not well suited to logging experimental results. Enter experiment tracking frameworks like [Comet.ml](https://comet.ml) and [Weights and Biases](https://wandb.ai/).\n",
    "\n",
    "Those tools will help you track your experiments, store the results, and the code associated with those experiments. Experimental results can also be readily visualized to see changes in performance across any metric you care about. Data is sent to the tool as each epoch is completed, so you can also see if your model is converging. Let's check out Weights & Biases today. "
   ]
  },
  {
   "cell_type": "markdown",
   "metadata": {},
   "source": [
    "## Follow Along\n",
    "\n",
    "Make sure you login into `wandb` in the terminal before running the next cell. "
   ]
  },
  {
   "cell_type": "code",
   "execution_count": 6,
   "metadata": {},
   "outputs": [],
   "source": [
    "import tensorflow.keras\n",
    "import wandb\n",
    "from wandb.keras import WandbCallback"
   ]
  },
  {
   "cell_type": "code",
   "execution_count": 9,
   "metadata": {
    "colab": {
     "base_uri": "https://localhost:8080/",
     "height": 1750
    },
    "colab_type": "code",
    "id": "GMXVfmzXp1Oo",
    "outputId": "b05e251e-508f-46e6-865b-f869ae2a5dc4"
   },
   "outputs": [
    {
     "data": {
      "text/html": [
       "\n",
       "                Logging results to <a href=\"https://wandb.com\" target=\"_blank\">Weights & Biases</a> <a href=\"https://docs.wandb.com/integrations/jupyter.html\" target=\"_blank\">(Documentation)</a>.<br/>\n",
       "                Project page: <a href=\"https://app.wandb.ai/bjanota/lambda-dspt3\" target=\"_blank\">https://app.wandb.ai/bjanota/lambda-dspt3</a><br/>\n",
       "                Run page: <a href=\"https://app.wandb.ai/bjanota/lambda-dspt3/runs/2e5kzo3j\" target=\"_blank\">https://app.wandb.ai/bjanota/lambda-dspt3/runs/2e5kzo3j</a><br/>\n",
       "            "
      ],
      "text/plain": [
       "<IPython.core.display.HTML object>"
      ]
     },
     "metadata": {},
     "output_type": "display_data"
    },
    {
     "name": "stdout",
     "output_type": "stream",
     "text": [
      "Train on 270 samples, validate on 134 samples\n",
      "Epoch 1/50\n",
      "270/270 [==============================] - 1s 3ms/sample - loss: 492.7968 - mse: 492.7968 - mae: 20.3958 - val_loss: 505.6411 - val_mse: 505.6411 - val_mae: 20.0905\n",
      "Epoch 2/50\n",
      "270/270 [==============================] - 0s 491us/sample - loss: 292.6534 - mse: 292.6534 - mae: 14.7148 - val_loss: 205.2768 - val_mse: 205.2768 - val_mae: 11.4863\n",
      "Epoch 3/50\n",
      "270/270 [==============================] - 0s 292us/sample - loss: 71.4545 - mse: 71.4545 - mae: 6.5320 - val_loss: 88.8837 - val_mse: 88.8837 - val_mae: 6.7755\n",
      "Epoch 4/50\n",
      "270/270 [==============================] - 0s 358us/sample - loss: 41.6868 - mse: 41.6868 - mae: 4.5545 - val_loss: 60.2149 - val_mse: 60.2149 - val_mae: 5.0984\n",
      "Epoch 5/50\n",
      "270/270 [==============================] - 0s 332us/sample - loss: 26.7676 - mse: 26.7676 - mae: 3.6164 - val_loss: 46.0788 - val_mse: 46.0788 - val_mae: 4.3206\n",
      "Epoch 6/50\n",
      "270/270 [==============================] - 0s 351us/sample - loss: 21.4117 - mse: 21.4117 - mae: 3.2157 - val_loss: 38.0497 - val_mse: 38.0497 - val_mae: 3.9053\n",
      "Epoch 7/50\n",
      "270/270 [==============================] - 0s 329us/sample - loss: 17.9290 - mse: 17.9290 - mae: 2.9121 - val_loss: 34.5087 - val_mse: 34.5087 - val_mae: 3.6339\n",
      "Epoch 8/50\n",
      "270/270 [==============================] - 0s 347us/sample - loss: 15.8078 - mse: 15.8078 - mae: 2.7792 - val_loss: 28.9630 - val_mse: 28.9630 - val_mae: 3.3267\n",
      "Epoch 9/50\n",
      "270/270 [==============================] - 0s 299us/sample - loss: 14.0526 - mse: 14.0526 - mae: 2.6305 - val_loss: 26.1555 - val_mse: 26.1555 - val_mae: 3.1608\n",
      "Epoch 10/50\n",
      "270/270 [==============================] - 0s 299us/sample - loss: 12.6829 - mse: 12.6828 - mae: 2.5275 - val_loss: 24.3426 - val_mse: 24.3426 - val_mae: 3.0020\n",
      "Epoch 11/50\n",
      "270/270 [==============================] - 0s 410us/sample - loss: 11.6175 - mse: 11.6175 - mae: 2.4350 - val_loss: 23.1805 - val_mse: 23.1805 - val_mae: 2.9526\n",
      "Epoch 12/50\n",
      "270/270 [==============================] - 0s 358us/sample - loss: 10.8132 - mse: 10.8132 - mae: 2.3661 - val_loss: 22.2220 - val_mse: 22.2220 - val_mae: 2.8846\n",
      "Epoch 13/50\n",
      "270/270 [==============================] - 0s 340us/sample - loss: 10.2442 - mse: 10.2442 - mae: 2.2894 - val_loss: 20.7836 - val_mse: 20.7837 - val_mae: 2.8573\n",
      "Epoch 14/50\n",
      "270/270 [==============================] - 0s 321us/sample - loss: 9.7020 - mse: 9.7020 - mae: 2.2886 - val_loss: 20.1907 - val_mse: 20.1907 - val_mae: 2.8039\n",
      "Epoch 15/50\n",
      "270/270 [==============================] - 0s 303us/sample - loss: 9.1758 - mse: 9.1758 - mae: 2.2511 - val_loss: 19.1982 - val_mse: 19.1982 - val_mae: 2.7623\n",
      "Epoch 16/50\n",
      "270/270 [==============================] - 0s 203us/sample - loss: 8.9051 - mse: 8.9051 - mae: 2.2305 - val_loss: 19.6840 - val_mse: 19.6840 - val_mae: 2.8004\n",
      "Epoch 17/50\n",
      "270/270 [==============================] - 0s 292us/sample - loss: 8.5647 - mse: 8.5647 - mae: 2.1617 - val_loss: 18.9343 - val_mse: 18.9343 - val_mae: 2.7641\n",
      "Epoch 18/50\n",
      "270/270 [==============================] - 0s 299us/sample - loss: 8.1796 - mse: 8.1796 - mae: 2.1179 - val_loss: 18.6996 - val_mse: 18.6996 - val_mae: 2.7395\n",
      "Epoch 19/50\n",
      "270/270 [==============================] - 0s 307us/sample - loss: 8.2164 - mse: 8.2164 - mae: 2.0986 - val_loss: 18.0022 - val_mse: 18.0022 - val_mae: 2.7183\n",
      "Epoch 20/50\n",
      "270/270 [==============================] - 0s 192us/sample - loss: 7.9712 - mse: 7.9712 - mae: 2.1093 - val_loss: 18.0988 - val_mse: 18.0988 - val_mae: 2.7331\n",
      "Epoch 21/50\n",
      "270/270 [==============================] - 0s 303us/sample - loss: 7.9146 - mse: 7.9146 - mae: 2.0723 - val_loss: 17.8092 - val_mse: 17.8092 - val_mae: 2.7337\n",
      "Epoch 22/50\n",
      "270/270 [==============================] - 0s 340us/sample - loss: 7.6654 - mse: 7.6654 - mae: 2.0683 - val_loss: 17.2653 - val_mse: 17.2653 - val_mae: 2.7048\n",
      "Epoch 23/50\n",
      "270/270 [==============================] - 0s 207us/sample - loss: 7.1842 - mse: 7.1842 - mae: 2.0015 - val_loss: 17.7276 - val_mse: 17.7276 - val_mae: 2.7273\n",
      "Epoch 24/50\n",
      "270/270 [==============================] - 0s 218us/sample - loss: 7.4058 - mse: 7.4058 - mae: 2.0366 - val_loss: 17.7114 - val_mse: 17.7114 - val_mae: 2.7333\n",
      "Epoch 25/50\n",
      "270/270 [==============================] - 0s 214us/sample - loss: 7.4629 - mse: 7.4629 - mae: 2.0465 - val_loss: 17.5482 - val_mse: 17.5482 - val_mae: 2.7388\n",
      "Epoch 26/50\n",
      "270/270 [==============================] - 0s 369us/sample - loss: 7.2702 - mse: 7.2702 - mae: 2.0326 - val_loss: 16.9057 - val_mse: 16.9057 - val_mae: 2.6499\n",
      "Epoch 27/50\n",
      "270/270 [==============================] - 0s 244us/sample - loss: 6.6704 - mse: 6.6704 - mae: 1.9014 - val_loss: 17.0511 - val_mse: 17.0511 - val_mae: 2.6813\n",
      "Epoch 28/50\n",
      "270/270 [==============================] - 0s 314us/sample - loss: 6.5985 - mse: 6.5985 - mae: 1.9190 - val_loss: 16.8779 - val_mse: 16.8779 - val_mae: 2.6615\n",
      "Epoch 29/50\n",
      "270/270 [==============================] - 0s 218us/sample - loss: 6.3603 - mse: 6.3603 - mae: 1.8883 - val_loss: 16.8932 - val_mse: 16.8932 - val_mae: 2.6742\n",
      "Epoch 30/50\n",
      "270/270 [==============================] - 0s 318us/sample - loss: 6.4150 - mse: 6.4150 - mae: 1.8764 - val_loss: 16.8571 - val_mse: 16.8571 - val_mae: 2.6965\n",
      "Epoch 31/50\n",
      "270/270 [==============================] - 0s 314us/sample - loss: 6.3013 - mse: 6.3013 - mae: 1.8471 - val_loss: 16.7422 - val_mse: 16.7422 - val_mae: 2.6795\n",
      "Epoch 32/50\n",
      "270/270 [==============================] - 0s 355us/sample - loss: 6.1974 - mse: 6.1974 - mae: 1.8645 - val_loss: 16.4625 - val_mse: 16.4625 - val_mae: 2.6606\n",
      "Epoch 33/50\n",
      "270/270 [==============================] - 0s 225us/sample - loss: 6.1626 - mse: 6.1626 - mae: 1.8581 - val_loss: 16.5105 - val_mse: 16.5105 - val_mae: 2.6713\n",
      "Epoch 34/50\n",
      "270/270 [==============================] - 0s 207us/sample - loss: 6.0965 - mse: 6.0965 - mae: 1.8300 - val_loss: 16.6625 - val_mse: 16.6625 - val_mae: 2.6919\n",
      "Epoch 35/50\n",
      "270/270 [==============================] - 0s 329us/sample - loss: 5.9288 - mse: 5.9288 - mae: 1.8189 - val_loss: 16.2715 - val_mse: 16.2715 - val_mae: 2.6401\n",
      "Epoch 36/50\n",
      "270/270 [==============================] - 0s 203us/sample - loss: 5.6965 - mse: 5.6965 - mae: 1.8057 - val_loss: 17.0979 - val_mse: 17.0978 - val_mae: 2.7412\n",
      "Epoch 37/50\n",
      "270/270 [==============================] - 0s 207us/sample - loss: 5.6512 - mse: 5.6512 - mae: 1.7698 - val_loss: 16.4128 - val_mse: 16.4128 - val_mae: 2.6610\n",
      "Epoch 38/50\n",
      "270/270 [==============================] - 0s 203us/sample - loss: 5.6618 - mse: 5.6618 - mae: 1.7478 - val_loss: 16.6042 - val_mse: 16.6042 - val_mae: 2.7118\n",
      "Epoch 39/50\n",
      "270/270 [==============================] - 0s 307us/sample - loss: 5.8027 - mse: 5.8027 - mae: 1.7704 - val_loss: 15.9820 - val_mse: 15.9820 - val_mae: 2.6020\n",
      "Epoch 40/50\n",
      "270/270 [==============================] - 0s 236us/sample - loss: 5.6118 - mse: 5.6118 - mae: 1.7627 - val_loss: 16.3371 - val_mse: 16.3371 - val_mae: 2.6587\n",
      "Epoch 41/50\n",
      "270/270 [==============================] - 0s 229us/sample - loss: 5.3753 - mse: 5.3753 - mae: 1.7178 - val_loss: 16.0307 - val_mse: 16.0307 - val_mae: 2.6480\n",
      "Epoch 42/50\n",
      "270/270 [==============================] - 0s 373us/sample - loss: 5.3797 - mse: 5.3797 - mae: 1.7448 - val_loss: 16.0615 - val_mse: 16.0615 - val_mae: 2.6313\n",
      "Epoch 43/50\n",
      "270/270 [==============================] - 0s 336us/sample - loss: 5.2052 - mse: 5.2052 - mae: 1.6887 - val_loss: 15.8162 - val_mse: 15.8162 - val_mae: 2.5867\n",
      "Epoch 44/50\n",
      "270/270 [==============================] - 0s 225us/sample - loss: 5.0691 - mse: 5.0691 - mae: 1.6729 - val_loss: 16.0047 - val_mse: 16.0047 - val_mae: 2.6424\n",
      "Epoch 45/50\n",
      "270/270 [==============================] - 0s 196us/sample - loss: 5.3880 - mse: 5.3880 - mae: 1.7492 - val_loss: 16.1282 - val_mse: 16.1282 - val_mae: 2.6581\n",
      "Epoch 46/50\n",
      "270/270 [==============================] - 0s 211us/sample - loss: 5.0354 - mse: 5.0354 - mae: 1.6444 - val_loss: 15.9287 - val_mse: 15.9287 - val_mae: 2.6239\n",
      "Epoch 47/50\n",
      "270/270 [==============================] - 0s 222us/sample - loss: 5.1620 - mse: 5.1620 - mae: 1.6391 - val_loss: 15.9955 - val_mse: 15.9955 - val_mae: 2.6247\n",
      "Epoch 48/50\n",
      "270/270 [==============================] - 0s 222us/sample - loss: 4.7232 - mse: 4.7232 - mae: 1.6253 - val_loss: 16.0137 - val_mse: 16.0137 - val_mae: 2.6427\n",
      "Epoch 49/50\n",
      "270/270 [==============================] - 0s 318us/sample - loss: 4.8390 - mse: 4.8390 - mae: 1.6199 - val_loss: 15.9688 - val_mse: 15.9688 - val_mae: 2.6537\n",
      "Epoch 50/50\n",
      "270/270 [==============================] - 0s 392us/sample - loss: 4.6462 - mse: 4.6462 - mae: 1.6111 - val_loss: 15.5358 - val_mse: 15.5358 - val_mae: 2.5911\n"
     ]
    },
    {
     "data": {
      "text/plain": [
       "<tensorflow.python.keras.callbacks.History at 0x2629fe16128>"
      ]
     },
     "execution_count": 9,
     "metadata": {},
     "output_type": "execute_result"
    }
   ],
   "source": [
    "wandb.init(project=\"lambda-dspt3\" , entity=\"bjanota\") #Initializes and Experiment\n",
    "\n",
    "# Important Hyperparameters\n",
    "X =  x_train\n",
    "y =  y_train\n",
    "\n",
    "inputs = X.shape[1]\n",
    "wandb.config.epochs = 50\n",
    "wandb.config.batch_size = 10\n",
    "\n",
    "# Create Model\n",
    "model = Sequential()\n",
    "model.add(Dense(64, activation='relu', input_shape=(inputs,)))\n",
    "model.add(Dense(34, activation='relu'))\n",
    "model.add(Dense(44, activation='relu'))\n",
    "model.add(Dense(1))\n",
    "# Compile Model\n",
    "model.compile(optimizer='adam', loss='mse', metrics=['mse', 'mae'])\n",
    "\n",
    "# Fit Model\n",
    "model.fit(X, y, \n",
    "          validation_split=0.33, \n",
    "          epochs=wandb.config.epochs, \n",
    "          batch_size=wandb.config.batch_size, \n",
    "          callbacks=[WandbCallback()]\n",
    "         )"
   ]
  },
  {
   "cell_type": "markdown",
   "metadata": {},
   "source": [
    "## Challenge\n",
    "\n",
    "You will be expected to use Weights & Biases to try to tune your model during your module assignment today. "
   ]
  },
  {
   "cell_type": "markdown",
   "metadata": {},
   "source": [
    "# Hyperparameters with RandomSearchCV (Learn)"
   ]
  },
  {
   "cell_type": "markdown",
   "metadata": {},
   "source": [
    "## Overview\n",
    "\n",
    "Basically `GridSearchCV` takes forever. You'll want to adopt a slightly more sophiscated strategy."
   ]
  },
  {
   "cell_type": "markdown",
   "metadata": {},
   "source": [
    "## Follow Along"
   ]
  },
  {
   "cell_type": "code",
   "execution_count": null,
   "metadata": {},
   "outputs": [],
   "source": [
    "sweep_config = {\n",
    "    'method': 'random',\n",
    "    'parameters': {\n",
    "        'learning_rate': {'distribution': 'normal'},\n",
    "        'epochs': {'distribution': 'uniform',\n",
    "                    'min': 100,\n",
    "                    'max': 1000},\n",
    "        'batch_size': {'distribution': 'uniform',\n",
    "            'min': 10,\n",
    "            'max': 400}\n",
    "    }\n",
    "}"
   ]
  },
  {
   "cell_type": "code",
   "execution_count": null,
   "metadata": {},
   "outputs": [],
   "source": [
    "sweep_id = wandb.sweep(sweep_config)"
   ]
  },
  {
   "cell_type": "code",
   "execution_count": null,
   "metadata": {},
   "outputs": [],
   "source": [
    "import wandb\n",
    "from wandb.keras import WandbCallback\n",
    "#Initializes and Experiment\n",
    "\n",
    "from tensorflow.keras.optimizers import Adam\n",
    "\n",
    "# Important Hyperparameters\n",
    "X =  x_train\n",
    "y =  y_train\n",
    "\n",
    "inputs = X.shape[1]\n",
    "\n",
    "def train():\n",
    "    \n",
    "    wandb.init(project=\"boston\", entity=\"lambda-ds7\") \n",
    "    \n",
    "    config = wandb.config\n",
    "\n",
    "    # Create Model\n",
    "    model = Sequential()\n",
    "    model.add(Dense(64, activation='relu', input_shape=(inputs,)))\n",
    "    model.add(Dense(64, activation='relu'))\n",
    "    model.add(Dense(64, activation='relu'))\n",
    "    model.add(Dense(1))\n",
    "\n",
    "    # Optimizer \n",
    "    adam = Adam(learning_rate=config.learning_rate)\n",
    "\n",
    "    # Compile Model\n",
    "    model.compile(optimizer=adam, loss='mse', metrics=['mse', 'mae'])\n",
    "\n",
    "    # Fit Model\n",
    "    model.fit(X, y, \n",
    "              validation_split=0.33, \n",
    "              epochs=config.epochs, \n",
    "              batch_size=config.batch_size, \n",
    "              callbacks=[WandbCallback()]\n",
    "             )"
   ]
  },
  {
   "cell_type": "code",
   "execution_count": null,
   "metadata": {},
   "outputs": [],
   "source": [
    "wandb.agent(sweep_id, function=train)"
   ]
  },
  {
   "cell_type": "markdown",
   "metadata": {},
   "source": [
    "## Challenge\n",
    "\n",
    "Try to apply RandomSearchCV to your module project today. "
   ]
  },
  {
   "cell_type": "markdown",
   "metadata": {},
   "source": [
    "# Review\n",
    "* <a href=\"#p1\">Part 1</a>: Describe the major hyperparemeters to tune\n",
    "    - Activation Functions\n",
    "    - Optimizer\n",
    "    - Number of Layers\n",
    "    - Number of Neurons\n",
    "    - Batch Size\n",
    "    - Dropout Regulaization\n",
    "    - Learning Rate\n",
    "    - Number of Epochs\n",
    "    - and many more\n",
    "* <a href=\"#p2\">Part 2</a>: Implement an experiment tracking framework\n",
    "    - Weights & Biases\n",
    "    - Comet.ml\n",
    "    - By Hand / GridSearch\n",
    "* <a href=\"#p3\">Part 3</a>: Search the hyperparameter space using RandomSearch\n",
    "    - Sklearn still useful (haha)\n",
    "    - Integration with Wieghts & Biases\n",
    "* <a href=\"#p4\">Part 4</a>: Discuss emerging hyperparameter tuning strategies\n",
    "    - Bayesian Optimization\n",
    "    - Hyperopt\n",
    "    - Genetic Evolution"
   ]
  },
  {
   "cell_type": "markdown",
   "metadata": {},
   "source": [
    "# Sources"
   ]
  },
  {
   "cell_type": "markdown",
   "metadata": {},
   "source": [
    "## Additional Reading\n",
    "- https://machinelearningmastery.com/grid-search-hyperparameters-deep-learning-models-python-keras/\n",
    "- https://blog.floydhub.com/guide-to-hyperparameters-search-for-deep-learning-models/\n",
    "- https://machinelearningmastery.com/dropout-regularization-deep-learning-models-keras/\n",
    "- https://machinelearningmastery.com/introduction-to-weight-constraints-to-reduce-generalization-error-in-deep-learning/\n",
    "- https://machinelearningmastery.com/how-to-configure-the-number-of-layers-and-nodes-in-a-neural-network/"
   ]
  }
 ],
 "metadata": {
  "kernelspec": {
   "display_name": "U4-S1-NLP (Python3)",
   "language": "python",
   "name": "u4-s1-nlp"
  },
  "language_info": {
   "codemirror_mode": {
    "name": "ipython",
    "version": 3
   },
   "file_extension": ".py",
   "mimetype": "text/x-python",
   "name": "python",
   "nbconvert_exporter": "python",
   "pygments_lexer": "ipython3",
   "version": "3.7.0"
  }
 },
 "nbformat": 4,
 "nbformat_minor": 4
}
