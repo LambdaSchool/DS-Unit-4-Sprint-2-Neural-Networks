{
 "cells": [
  {
   "cell_type": "markdown",
   "metadata": {
    "colab_type": "text",
    "id": "41TS0Sa0rDNx"
   },
   "source": [
    "Lambda School Data Science\n",
    "\n",
    "*Unit 4, Sprint 2, Module 4*\n",
    "\n",
    "---"
   ]
  },
  {
   "cell_type": "markdown",
   "metadata": {
    "colab_type": "text",
    "id": "41TS0Sa0rDNx"
   },
   "source": [
    "# Neural Networks & GPUs (Prepare)\n",
    "*aka Hyperparameter Tuning*\n",
    "\n",
    "*aka Big Servers for Big Problems*"
   ]
  },
  {
   "cell_type": "markdown",
   "metadata": {
    "colab_type": "text",
    "id": "41TS0Sa0rDNx"
   },
   "source": [
    "## Learning Objectives\n",
    "* <a href=\"#p1\">Part 1</a>: Describe the major hyperparemeters to tune\n",
    "* <a href=\"#p2\">Part 2</a>: Implement an experiment tracking framework\n",
    "* <a href=\"#p3\">Part 3</a>: Search the hyperparameter space using RandomSearch (Optional)"
   ]
  },
  {
   "cell_type": "code",
   "execution_count": 1,
   "metadata": {},
   "outputs": [],
   "source": [
    "wandb_group = \"ds8\"\n",
    "wandb_project = \"inclass\""
   ]
  },
  {
   "cell_type": "markdown",
   "metadata": {},
   "source": [
    "# Hyperparameter Options (Learn)\n",
    "<a id=\"p1\"></a>"
   ]
  },
  {
   "cell_type": "markdown",
   "metadata": {},
   "source": [
    "## Overview\n",
    "\n",
    "Hyperparameter tuning is much more important with neural networks than it has been with any other models that we have considered up to this point. Other supervised learning models might have a couple of parameters, but neural networks can have dozens. These can substantially affect the accuracy of our models and although it can be a time consuming process is a necessary step when working with neural networks.\n",
    "​\n",
    "Hyperparameter tuning comes with a challenge. How can we compare models specified with different hyperparameters if our model's final error metric can vary somewhat erratically? How do we avoid just getting unlucky and selecting the wrong hyperparameter? This is a problem that to a certain degree we just have to live with as we test and test again. However, we can minimize it somewhat by pairing our experiments with Cross Validation to reduce the variance of our final accuracy values."
   ]
  },
  {
   "cell_type": "markdown",
   "metadata": {
    "colab_type": "text",
    "id": "0s0o2pqBs88q"
   },
   "source": [
    "### Load Boston Housing Data"
   ]
  },
  {
   "cell_type": "code",
   "execution_count": 2,
   "metadata": {},
   "outputs": [
    {
     "name": "stdout",
     "output_type": "stream",
     "text": [
      "Downloading data from https://storage.googleapis.com/tensorflow/tf-keras-datasets/boston_housing.npz\n",
      "57344/57026 [==============================] - 0s 1us/step\n"
     ]
    }
   ],
   "source": [
    "from tensorflow.keras.datasets import boston_housing\n",
    "\n",
    "(x_train, y_train), (x_test, y_test) = boston_housing.load_data()"
   ]
  },
  {
   "cell_type": "markdown",
   "metadata": {
    "colab_type": "text",
    "id": "Pm7zow5IvaTt"
   },
   "source": [
    "### Normalizing Input Data\n",
    "\n",
    "It's not 100% necessary to normalize/scale your input data before feeding it to a neural network, the network can learn the appropriate weights to deal with data of as long as it is numerically represented,  but it is recommended as it can help **make training faster** and **reduces the chances that gradient descent might get stuck in a local optimum**.\n",
    "\n",
    "<https://stackoverflow.com/questions/4674623/why-do-we-have-to-normalize-the-input-for-an-artificial-neural-network>"
   ]
  },
  {
   "cell_type": "code",
   "execution_count": 3,
   "metadata": {},
   "outputs": [
    {
     "name": "stdout",
     "output_type": "stream",
     "text": [
      "[[-0.27224633 -0.48361547 -0.43576161 -0.25683275 -0.1652266  -0.1764426\n",
      "   0.81306188  0.1166983  -0.62624905 -0.59517003  1.14850044  0.44807713\n",
      "   0.8252202 ]\n",
      " [-0.40342651  2.99178419 -1.33391162 -0.25683275 -1.21518188  1.89434613\n",
      "  -1.91036058  1.24758524 -0.85646254 -0.34843254 -1.71818909  0.43190599\n",
      "  -1.32920239]\n",
      " [ 0.1249402  -0.48361547  1.0283258  -0.25683275  0.62864202 -1.82968811\n",
      "   1.11048828 -1.18743907  1.67588577  1.5652875   0.78447637  0.22061726\n",
      "  -1.30850006]\n",
      " [-0.40149354 -0.48361547 -0.86940196 -0.25683275 -0.3615597  -0.3245576\n",
      "  -1.23667187  1.10717989 -0.51114231 -1.094663    0.78447637  0.44807713\n",
      "  -0.65292624]\n",
      " [-0.0056343  -0.48361547  1.0283258  -0.25683275  1.32861221  0.15364225\n",
      "   0.69480801 -0.57857203  1.67588577  1.5652875   0.78447637  0.3898823\n",
      "   0.26349695]\n",
      " [-0.37502238 -0.48361547 -0.54747912 -0.25683275 -0.54935658 -0.78865126\n",
      "   0.18954148  0.48371503 -0.51114231 -0.71552978  0.51145832  0.38669063\n",
      "  -0.13812828]\n",
      " [ 0.58963463 -0.48361547  1.0283258  -0.25683275  1.21764133 -1.03127774\n",
      "   1.11048828 -1.06518235  1.67588577  1.5652875   0.78447637  0.44807713\n",
      "   1.49873604]\n",
      " [ 0.0381708  -0.48361547  1.24588095 -0.25683275  2.67733525 -1.12719983\n",
      "   1.11048828 -1.14833073 -0.51114231 -0.01744323 -1.71818909  0.44807713\n",
      "   1.88793986]\n",
      " [-0.17228416 -0.48361547  1.24588095 -0.25683275  2.67733525 -0.90150078\n",
      "   1.11048828 -1.09664657 -0.51114231 -0.01744323 -1.71818909 -1.97365769\n",
      "   0.53952803]\n",
      " [-0.22932104 -0.48361547  1.58544339 -0.25683275  0.56888847 -1.76056777\n",
      "   1.11048828 -1.13471925 -0.62624905  0.18716835  1.23950646  0.44807713\n",
      "   2.99068404]]\n"
     ]
    }
   ],
   "source": [
    "from sklearn.preprocessing import StandardScaler\n",
    "\n",
    "scaler = StandardScaler()\n",
    "\n",
    "x_train = scaler.fit_transform(x_train) # normalize data \n",
    "x_test = scaler.transform(x_test)\n",
    "print(x_train[:10])"
   ]
  },
  {
   "cell_type": "markdown",
   "metadata": {
    "colab_type": "text",
    "id": "l6hgCWbir90R"
   },
   "source": [
    "### Model Validation using an automatic verification Dataset\n",
    "\n",
    "Instead of doing seperate train test split class, Keras has a really nice feature that you can set the validation.data argument when fitting your model and Keras will take that portion of your test data and use it as a validation dataset. "
   ]
  },
  {
   "cell_type": "code",
   "execution_count": 4,
   "metadata": {
    "colab": {
     "base_uri": "https://localhost:8080/",
     "height": 1750
    },
    "colab_type": "code",
    "id": "GMXVfmzXp1Oo",
    "outputId": "b05e251e-508f-46e6-865b-f869ae2a5dc4"
   },
   "outputs": [
    {
     "name": "stdout",
     "output_type": "stream",
     "text": [
      "Train on 404 samples, validate on 102 samples\n",
      "Epoch 1/75\n",
      "404/404 [==============================] - 1s 2ms/sample - loss: 511.2849 - mse: 511.2849 - mae: 20.6975 - val_loss: 433.5900 - val_mse: 433.5900 - val_mae: 18.9370\n",
      "Epoch 2/75\n",
      "404/404 [==============================] - 0s 168us/sample - loss: 257.4652 - mse: 257.4651 - mae: 13.7766 - val_loss: 111.8824 - val_mse: 111.8824 - val_mae: 9.0262\n",
      "Epoch 3/75\n",
      "404/404 [==============================] - 0s 163us/sample - loss: 58.0117 - mse: 58.0117 - mae: 5.6583 - val_loss: 40.8721 - val_mse: 40.8721 - val_mae: 5.0403\n",
      "Epoch 4/75\n",
      "404/404 [==============================] - 0s 154us/sample - loss: 33.4187 - mse: 33.4187 - mae: 4.2348 - val_loss: 31.5134 - val_mse: 31.5134 - val_mae: 4.5026\n",
      "Epoch 5/75\n",
      "404/404 [==============================] - 0s 156us/sample - loss: 25.2484 - mse: 25.2484 - mae: 3.5794 - val_loss: 28.5282 - val_mse: 28.5282 - val_mae: 4.2342\n",
      "Epoch 6/75\n",
      "404/404 [==============================] - 0s 168us/sample - loss: 22.1856 - mse: 22.1856 - mae: 3.3728 - val_loss: 26.3869 - val_mse: 26.3869 - val_mae: 4.0785\n",
      "Epoch 7/75\n",
      "404/404 [==============================] - 0s 156us/sample - loss: 19.7718 - mse: 19.7718 - mae: 3.1486 - val_loss: 25.3762 - val_mse: 25.3762 - val_mae: 3.8659\n",
      "Epoch 8/75\n",
      "404/404 [==============================] - 0s 156us/sample - loss: 18.2355 - mse: 18.2355 - mae: 3.0523 - val_loss: 25.1573 - val_mse: 25.1573 - val_mae: 3.7930\n",
      "Epoch 9/75\n",
      "404/404 [==============================] - 0s 151us/sample - loss: 17.0389 - mse: 17.0389 - mae: 2.8789 - val_loss: 24.7789 - val_mse: 24.7789 - val_mae: 3.6811\n",
      "Epoch 10/75\n",
      "404/404 [==============================] - 0s 161us/sample - loss: 15.9364 - mse: 15.9364 - mae: 2.8112 - val_loss: 23.3110 - val_mse: 23.3110 - val_mae: 3.5391\n",
      "Epoch 11/75\n",
      "404/404 [==============================] - 0s 166us/sample - loss: 14.9259 - mse: 14.9259 - mae: 2.6924 - val_loss: 25.5845 - val_mse: 25.5845 - val_mae: 3.6511\n",
      "Epoch 12/75\n",
      "404/404 [==============================] - 0s 163us/sample - loss: 14.4204 - mse: 14.4204 - mae: 2.7149 - val_loss: 24.1573 - val_mse: 24.1573 - val_mae: 3.5151\n",
      "Epoch 13/75\n",
      "404/404 [==============================] - 0s 163us/sample - loss: 13.5589 - mse: 13.5589 - mae: 2.5993 - val_loss: 26.0383 - val_mse: 26.0383 - val_mae: 3.5737\n",
      "Epoch 14/75\n",
      "404/404 [==============================] - 0s 156us/sample - loss: 12.8373 - mse: 12.8373 - mae: 2.5387 - val_loss: 23.7821 - val_mse: 23.7821 - val_mae: 3.3784\n",
      "Epoch 15/75\n",
      "404/404 [==============================] - 0s 153us/sample - loss: 12.4389 - mse: 12.4389 - mae: 2.5080 - val_loss: 24.4227 - val_mse: 24.4227 - val_mae: 3.3729\n",
      "Epoch 16/75\n",
      "404/404 [==============================] - 0s 156us/sample - loss: 11.8916 - mse: 11.8916 - mae: 2.4585 - val_loss: 24.8121 - val_mse: 24.8121 - val_mae: 3.3640\n",
      "Epoch 17/75\n",
      "404/404 [==============================] - 0s 161us/sample - loss: 11.6812 - mse: 11.6812 - mae: 2.4225 - val_loss: 26.4333 - val_mse: 26.4333 - val_mae: 3.4408\n",
      "Epoch 18/75\n",
      "404/404 [==============================] - 0s 161us/sample - loss: 11.3037 - mse: 11.3037 - mae: 2.4010 - val_loss: 24.4181 - val_mse: 24.4181 - val_mae: 3.3026\n",
      "Epoch 19/75\n",
      "404/404 [==============================] - 0s 153us/sample - loss: 11.1517 - mse: 11.1517 - mae: 2.3736 - val_loss: 25.5466 - val_mse: 25.5466 - val_mae: 3.3604\n",
      "Epoch 20/75\n",
      "404/404 [==============================] - 0s 166us/sample - loss: 10.9354 - mse: 10.9355 - mae: 2.3871 - val_loss: 25.4167 - val_mse: 25.4167 - val_mae: 3.2933\n",
      "Epoch 21/75\n",
      "404/404 [==============================] - 0s 154us/sample - loss: 10.5695 - mse: 10.5695 - mae: 2.3195 - val_loss: 23.9471 - val_mse: 23.9471 - val_mae: 3.1993\n",
      "Epoch 22/75\n",
      "404/404 [==============================] - 0s 156us/sample - loss: 10.7775 - mse: 10.7775 - mae: 2.3826 - val_loss: 25.2380 - val_mse: 25.2380 - val_mae: 3.2568\n",
      "Epoch 23/75\n",
      "404/404 [==============================] - 0s 158us/sample - loss: 10.1978 - mse: 10.1978 - mae: 2.2830 - val_loss: 24.6718 - val_mse: 24.6718 - val_mae: 3.2214\n",
      "Epoch 24/75\n",
      "404/404 [==============================] - 0s 163us/sample - loss: 9.8674 - mse: 9.8674 - mae: 2.2537 - val_loss: 26.1690 - val_mse: 26.1690 - val_mae: 3.3098\n",
      "Epoch 25/75\n",
      "404/404 [==============================] - 0s 161us/sample - loss: 9.9234 - mse: 9.9234 - mae: 2.2708 - val_loss: 25.5566 - val_mse: 25.5566 - val_mae: 3.2252\n",
      "Epoch 26/75\n",
      "404/404 [==============================] - 0s 158us/sample - loss: 9.6175 - mse: 9.6175 - mae: 2.2380 - val_loss: 25.6819 - val_mse: 25.6819 - val_mae: 3.2484\n",
      "Epoch 27/75\n",
      "404/404 [==============================] - 0s 158us/sample - loss: 9.4436 - mse: 9.4436 - mae: 2.2165 - val_loss: 25.8741 - val_mse: 25.8741 - val_mae: 3.2481\n",
      "Epoch 28/75\n",
      "404/404 [==============================] - 0s 161us/sample - loss: 9.2792 - mse: 9.2792 - mae: 2.1641 - val_loss: 25.8379 - val_mse: 25.8379 - val_mae: 3.2350\n",
      "Epoch 29/75\n",
      "404/404 [==============================] - 0s 156us/sample - loss: 9.5098 - mse: 9.5098 - mae: 2.2216 - val_loss: 24.3955 - val_mse: 24.3955 - val_mae: 3.1503\n",
      "Epoch 30/75\n",
      "404/404 [==============================] - 0s 151us/sample - loss: 8.9694 - mse: 8.9694 - mae: 2.1516 - val_loss: 24.0384 - val_mse: 24.0384 - val_mae: 3.1125\n",
      "Epoch 31/75\n",
      "404/404 [==============================] - 0s 161us/sample - loss: 9.0936 - mse: 9.0936 - mae: 2.1824 - val_loss: 24.7618 - val_mse: 24.7618 - val_mae: 3.1443\n",
      "Epoch 32/75\n",
      "404/404 [==============================] - 0s 158us/sample - loss: 9.1270 - mse: 9.1270 - mae: 2.1868 - val_loss: 23.5554 - val_mse: 23.5554 - val_mae: 3.0424\n",
      "Epoch 33/75\n",
      "404/404 [==============================] - 0s 156us/sample - loss: 8.7967 - mse: 8.7967 - mae: 2.1304 - val_loss: 24.2795 - val_mse: 24.2795 - val_mae: 3.1008\n",
      "Epoch 34/75\n",
      "404/404 [==============================] - 0s 168us/sample - loss: 8.8469 - mse: 8.8469 - mae: 2.1311 - val_loss: 24.1872 - val_mse: 24.1872 - val_mae: 3.1228\n",
      "Epoch 35/75\n",
      "404/404 [==============================] - 0s 163us/sample - loss: 8.4650 - mse: 8.4650 - mae: 2.1037 - val_loss: 24.1886 - val_mse: 24.1886 - val_mae: 3.0625\n",
      "Epoch 36/75\n",
      "404/404 [==============================] - 0s 154us/sample - loss: 8.5157 - mse: 8.5157 - mae: 2.1238 - val_loss: 22.8082 - val_mse: 22.8082 - val_mae: 3.0244\n",
      "Epoch 37/75\n",
      "404/404 [==============================] - 0s 156us/sample - loss: 8.5744 - mse: 8.5744 - mae: 2.0760 - val_loss: 22.9590 - val_mse: 22.9590 - val_mae: 3.0205\n",
      "Epoch 38/75\n",
      "404/404 [==============================] - 0s 168us/sample - loss: 8.4869 - mse: 8.4869 - mae: 2.1122 - val_loss: 22.1074 - val_mse: 22.1074 - val_mae: 2.9642\n",
      "Epoch 39/75\n",
      "404/404 [==============================] - 0s 158us/sample - loss: 8.2782 - mse: 8.2782 - mae: 2.0620 - val_loss: 22.3750 - val_mse: 22.3750 - val_mae: 2.9712\n",
      "Epoch 40/75\n",
      "404/404 [==============================] - 0s 161us/sample - loss: 8.0564 - mse: 8.0564 - mae: 2.0377 - val_loss: 23.0760 - val_mse: 23.0760 - val_mae: 2.9919\n",
      "Epoch 41/75\n",
      "404/404 [==============================] - 0s 161us/sample - loss: 7.8837 - mse: 7.8837 - mae: 2.0143 - val_loss: 23.2903 - val_mse: 23.2903 - val_mae: 2.9887\n",
      "Epoch 42/75\n",
      "404/404 [==============================] - 0s 166us/sample - loss: 7.7386 - mse: 7.7386 - mae: 1.9804 - val_loss: 22.4281 - val_mse: 22.4281 - val_mae: 2.9666\n",
      "Epoch 43/75\n",
      "404/404 [==============================] - 0s 163us/sample - loss: 7.6346 - mse: 7.6346 - mae: 1.9758 - val_loss: 22.6116 - val_mse: 22.6116 - val_mae: 2.9866\n",
      "Epoch 44/75\n",
      "404/404 [==============================] - 0s 163us/sample - loss: 7.7108 - mse: 7.7108 - mae: 1.9978 - val_loss: 23.2730 - val_mse: 23.2730 - val_mae: 3.0062\n",
      "Epoch 45/75\n",
      "404/404 [==============================] - 0s 163us/sample - loss: 7.6819 - mse: 7.6819 - mae: 1.9850 - val_loss: 23.4598 - val_mse: 23.4598 - val_mae: 2.9923\n",
      "Epoch 46/75\n",
      "404/404 [==============================] - 0s 168us/sample - loss: 7.4403 - mse: 7.4403 - mae: 1.9390 - val_loss: 22.3272 - val_mse: 22.3272 - val_mae: 2.9512\n",
      "Epoch 47/75\n",
      "404/404 [==============================] - 0s 156us/sample - loss: 7.3572 - mse: 7.3572 - mae: 1.9608 - val_loss: 22.6367 - val_mse: 22.6367 - val_mae: 2.9479\n",
      "Epoch 48/75\n",
      "404/404 [==============================] - 0s 161us/sample - loss: 7.3647 - mse: 7.3647 - mae: 1.9266 - val_loss: 22.9716 - val_mse: 22.9716 - val_mae: 2.9845\n",
      "Epoch 49/75\n",
      "404/404 [==============================] - 0s 156us/sample - loss: 7.1508 - mse: 7.1508 - mae: 1.9264 - val_loss: 23.1182 - val_mse: 23.1182 - val_mae: 2.9594\n",
      "Epoch 50/75\n",
      "404/404 [==============================] - 0s 154us/sample - loss: 7.2133 - mse: 7.2133 - mae: 1.9619 - val_loss: 21.0537 - val_mse: 21.0537 - val_mae: 2.8148\n",
      "Epoch 51/75\n",
      "404/404 [==============================] - 0s 153us/sample - loss: 7.0005 - mse: 7.0005 - mae: 1.8888 - val_loss: 21.7946 - val_mse: 21.7946 - val_mae: 2.8981\n",
      "Epoch 52/75\n",
      "404/404 [==============================] - 0s 158us/sample - loss: 6.8007 - mse: 6.8007 - mae: 1.8530 - val_loss: 21.0419 - val_mse: 21.0419 - val_mae: 2.8175\n",
      "Epoch 53/75\n",
      "404/404 [==============================] - 0s 161us/sample - loss: 6.9437 - mse: 6.9437 - mae: 1.9274 - val_loss: 20.1983 - val_mse: 20.1983 - val_mae: 2.8273\n",
      "Epoch 54/75\n",
      "404/404 [==============================] - 0s 153us/sample - loss: 6.7113 - mse: 6.7113 - mae: 1.8593 - val_loss: 22.3505 - val_mse: 22.3505 - val_mae: 2.9939\n",
      "Epoch 55/75\n",
      "404/404 [==============================] - 0s 156us/sample - loss: 6.4656 - mse: 6.4656 - mae: 1.8530 - val_loss: 20.1633 - val_mse: 20.1633 - val_mae: 2.8043\n",
      "Epoch 56/75\n",
      "404/404 [==============================] - 0s 156us/sample - loss: 6.7096 - mse: 6.7096 - mae: 1.8472 - val_loss: 20.2534 - val_mse: 20.2534 - val_mae: 2.7810\n",
      "Epoch 57/75\n",
      "404/404 [==============================] - 0s 151us/sample - loss: 6.5312 - mse: 6.5312 - mae: 1.8173 - val_loss: 22.2696 - val_mse: 22.2696 - val_mae: 2.9322\n",
      "Epoch 58/75\n",
      "404/404 [==============================] - 0s 158us/sample - loss: 6.6078 - mse: 6.6078 - mae: 1.8656 - val_loss: 22.6642 - val_mse: 22.6642 - val_mae: 2.9474\n",
      "Epoch 59/75\n",
      "404/404 [==============================] - 0s 156us/sample - loss: 6.2407 - mse: 6.2407 - mae: 1.8064 - val_loss: 20.5084 - val_mse: 20.5084 - val_mae: 2.8084\n",
      "Epoch 60/75\n",
      "404/404 [==============================] - 0s 154us/sample - loss: 6.1732 - mse: 6.1732 - mae: 1.7668 - val_loss: 20.5319 - val_mse: 20.5319 - val_mae: 2.7971\n",
      "Epoch 61/75\n",
      "404/404 [==============================] - 0s 158us/sample - loss: 6.1966 - mse: 6.1966 - mae: 1.7546 - val_loss: 20.7932 - val_mse: 20.7932 - val_mae: 2.9102\n",
      "Epoch 62/75\n",
      "404/404 [==============================] - 0s 158us/sample - loss: 6.2948 - mse: 6.2948 - mae: 1.7852 - val_loss: 19.5782 - val_mse: 19.5782 - val_mae: 2.7435\n",
      "Epoch 63/75\n",
      "404/404 [==============================] - 0s 156us/sample - loss: 6.1167 - mse: 6.1167 - mae: 1.7790 - val_loss: 19.7281 - val_mse: 19.7281 - val_mae: 2.7645\n",
      "Epoch 64/75\n",
      "404/404 [==============================] - 0s 156us/sample - loss: 6.0010 - mse: 6.0010 - mae: 1.7360 - val_loss: 19.5005 - val_mse: 19.5005 - val_mae: 2.7373\n",
      "Epoch 65/75\n",
      "404/404 [==============================] - 0s 161us/sample - loss: 5.9214 - mse: 5.9214 - mae: 1.7356 - val_loss: 21.1325 - val_mse: 21.1325 - val_mae: 2.8423\n",
      "Epoch 66/75\n",
      "404/404 [==============================] - 0s 158us/sample - loss: 6.1376 - mse: 6.1376 - mae: 1.7799 - val_loss: 22.1765 - val_mse: 22.1765 - val_mae: 2.9805\n",
      "Epoch 67/75\n",
      "404/404 [==============================] - 0s 156us/sample - loss: 5.9703 - mse: 5.9703 - mae: 1.7643 - val_loss: 20.8771 - val_mse: 20.8771 - val_mae: 2.8101\n",
      "Epoch 68/75\n",
      "404/404 [==============================] - 0s 154us/sample - loss: 5.7285 - mse: 5.7285 - mae: 1.7263 - val_loss: 19.8477 - val_mse: 19.8477 - val_mae: 2.7662\n",
      "Epoch 69/75\n",
      "404/404 [==============================] - 0s 153us/sample - loss: 5.6448 - mse: 5.6448 - mae: 1.6999 - val_loss: 19.1481 - val_mse: 19.1481 - val_mae: 2.7466\n",
      "Epoch 70/75\n",
      "404/404 [==============================] - 0s 163us/sample - loss: 5.3907 - mse: 5.3907 - mae: 1.6686 - val_loss: 19.6300 - val_mse: 19.6300 - val_mae: 2.7617\n",
      "Epoch 71/75\n",
      "404/404 [==============================] - 0s 158us/sample - loss: 5.6235 - mse: 5.6235 - mae: 1.7072 - val_loss: 19.4050 - val_mse: 19.4050 - val_mae: 2.7751\n",
      "Epoch 72/75\n",
      "404/404 [==============================] - 0s 156us/sample - loss: 5.6815 - mse: 5.6815 - mae: 1.6873 - val_loss: 18.9009 - val_mse: 18.9009 - val_mae: 2.7787\n",
      "Epoch 73/75\n",
      "404/404 [==============================] - 0s 154us/sample - loss: 5.4091 - mse: 5.4091 - mae: 1.6579 - val_loss: 20.2019 - val_mse: 20.2019 - val_mae: 2.8314\n",
      "Epoch 74/75\n",
      "404/404 [==============================] - 0s 163us/sample - loss: 5.6521 - mse: 5.6521 - mae: 1.7438 - val_loss: 19.6080 - val_mse: 19.6080 - val_mae: 2.7354\n",
      "Epoch 75/75\n",
      "404/404 [==============================] - 0s 161us/sample - loss: 5.3548 - mse: 5.3548 - mae: 1.6431 - val_loss: 19.4933 - val_mse: 19.4933 - val_mae: 2.8019\n"
     ]
    },
    {
     "data": {
      "text/plain": [
       "<tensorflow.python.keras.callbacks.History at 0x1ddfdc37cc0>"
      ]
     },
     "execution_count": 4,
     "metadata": {},
     "output_type": "execute_result"
    }
   ],
   "source": [
    "from tensorflow import keras\n",
    "from tensorflow.keras.models import Sequential\n",
    "from tensorflow.keras.layers import Dense\n",
    "\n",
    "# Important Hyperparameters\n",
    "inputs = x_train.shape[1]\n",
    "epochs = 75\n",
    "batch_size = 10\n",
    "\n",
    "\n",
    "# Create Model\n",
    "model = Sequential()\n",
    "model.add(Dense(64, activation='relu', input_shape=(inputs,)))\n",
    "model.add(Dense(64, activation='relu'))\n",
    "model.add(Dense(1))\n",
    "\n",
    "# Compile Model\n",
    "model.compile(optimizer='adam', loss='mse', metrics=['mse', 'mae'])\n",
    "\n",
    "# Fit Model\n",
    "model.fit(x_train, y_train, \n",
    "          validation_data=(x_test,y_test), #\n",
    "          epochs=epochs, \n",
    "          batch_size=batch_size\n",
    "         )"
   ]
  },
  {
   "cell_type": "markdown",
   "metadata": {
    "colab_type": "text",
    "id": "sYJ8t_ezHP4W"
   },
   "source": [
    "### Hyperparameter Tuning Approaches:\n",
    "\n",
    "#### 1) Babysitting AKA \"Grad Student Descent\".\n",
    "\n",
    "If you fiddled with any hyperparameters yesterday, this is basically what you did. This approach is 100% manual and is pretty common among researchers where finding that 1 exact specification that jumps your model to a level of accuracy never seen before is the difference between publishing and not publishing a paper. Of course the professors don't do this themselves, that's grunt work. This is also known as the fiddle with hyperparameters until you run out of time method.\n",
    "\n",
    "#### 2) Grid Search\n",
    "\n",
    "Grid Search is the Grad Student galaxy brain realization of: why don't I just specify all the experiments I want to run and let the computer try every possible combination of them while I go and grab lunch. This has a specific downside in that if I specify 5 hyperparameters with 5 options each then I've just created 5^5 combinations of hyperparameters to check. Which means that I have to train 3125 different versions of my model Then if I use 5-fold Cross Validation on that then my model has to run 15,525 times. This is the brute-force method of hyperparameter tuning, but it can be very profitable if done wisely. \n",
    "\n",
    "When using Grid Search here's what I suggest: don't use it to test combinations of different hyperparameters, only use it to test different specifications of **a single** hyperparameter. It's rare that combinations between different hyperparameters lead to big performance gains. You'll get 90-95% of the way there if you just Grid Search one parameter and take the best result, then retain that best result while you test another, and then retain the best specification from that while you train another. This at least makes the situation much more manageable and leads to pretty good results. \n",
    "\n",
    "#### 3) Random Search\n",
    "\n",
    "Do Grid Search for a couple of hours and you'll say to yourself - \"There's got to be a better way.\" Enter Random Search. For Random search you specify a hyperparameter space and it picks specifications from that randomly, tries them out, gives you the best results and says - That's going to have to be good enough, go home and spend time with your family. \n",
    "\n",
    "Grid Search treats every parameter as if it was equally important, but this just isn't the case, some are known to move the needle a lot more than others (we'll talk about that in a minute). Random Search allows searching to be specified along the most important parameter and experiments less along the dimensions of less important hyperparameters. The downside of Random search is that it won't find the absolute best hyperparameters, but it is much less costly to perform than Grid Search. \n",
    "\n",
    "#### 4) Bayesian Methods\n",
    "\n",
    "One thing that can make more manual methods like babysitting and gridsearch effective is that as the experimenter sees results he can then make updates to his future searches taking into account the results of past specifications. If only we could hyperparameter tune our hyperparameter tuning. Well, we kind of can. Enter Bayesian Optimization. Neural Networks are like an optimization problem within an optimization problem, and Bayesian Optimization is a search strategy that tries to take into account the results of past searches in order to improve future ones. This is the most advanced method but can be a little bit tricky to implement, but there are some early steps with `hyperas` which is Bayesian optimization wrapper for `keras`. "
   ]
  },
  {
   "cell_type": "markdown",
   "metadata": {
    "colab_type": "text",
    "id": "HfQ7D043OMMn"
   },
   "source": [
    "## What Hyperparameters are there to test?\n",
    "\n",
    "- batch_size\n",
    "- training epochs\n",
    "- optimization algorithms\n",
    "- learning rate\n",
    "- momentum\n",
    "- activation functions\n",
    "- dropout regularization\n",
    "- number of neurons in the hidden layer\n",
    "\n",
    "There are more, but these are the most important."
   ]
  },
  {
   "cell_type": "markdown",
   "metadata": {},
   "source": [
    "## Follow Along"
   ]
  },
  {
   "cell_type": "markdown",
   "metadata": {
    "colab_type": "text",
    "id": "Mri5-kXzVKAa"
   },
   "source": [
    "## Batch Size\n",
    "\n",
    "You still go over the entire dataset, but it's how much of the data we look over before calculating a gradient. Images, text, GPU acceleration are important when considering batch size. Here it's not such a big deal, small toy set. \n",
    "\n",
    "Batch size determines how many observations the model is shown before it calculates loss/error and updates the model weights via gradient descent. You're looking for a sweet spot here where you're showing it enough observations that you have enough information to updates the weights, but not such a large batch size that you don't get a lot of weight update iterations performed in a given epoch. Feed-forward Neural Networks aren't as sensitive to bach_size as other networks, but it is still an important hyperparameter to tune. Smaller batch sizes will also take longer to train. "
   ]
  },
  {
   "cell_type": "code",
   "execution_count": 6,
   "metadata": {
    "colab": {
     "base_uri": "https://localhost:8080/",
     "height": 13561
    },
    "colab_type": "code",
    "id": "2smXfriNAGn7",
    "outputId": "ae996575-78e2-43fb-9dbe-5d44aaf0b430"
   },
   "outputs": [
    {
     "name": "stdout",
     "output_type": "stream",
     "text": [
      "Best: 0.6692386150360108 using {'batch_size': 10, 'epochs': 20}\n",
      "Means: 0.6692386150360108, Stdev: 0.03869999250105506 with: {'batch_size': 10, 'epochs': 20}\n",
      "Means: 0.6431966781616211, Stdev: 0.061255737067304306 with: {'batch_size': 20, 'epochs': 20}\n",
      "Means: 0.622510826587677, Stdev: 0.044330833226344034 with: {'batch_size': 40, 'epochs': 20}\n",
      "Means: 0.6027671694755554, Stdev: 0.04779651952180196 with: {'batch_size': 60, 'epochs': 20}\n",
      "Means: 0.5377557098865509, Stdev: 0.07033867081369344 with: {'batch_size': 80, 'epochs': 20}\n",
      "Means: 0.5729225158691407, Stdev: 0.08636233760096981 with: {'batch_size': 100, 'epochs': 20}\n"
     ]
    }
   ],
   "source": [
    "import numpy\n",
    "import pandas as pd\n",
    "from sklearn.model_selection import GridSearchCV\n",
    "from tensorflow.keras.models import Sequential\n",
    "from tensorflow.keras.layers import Dense\n",
    "from tensorflow.keras.wrappers.scikit_learn import KerasClassifier # this is new \n",
    "# it is a sk wrapper for Keras so we can just toss it into grid search, fit, and \n",
    "# other scikit learn stuff so we don't have to write in between code for example\n",
    "\n",
    "\n",
    "# fix random seed for reproducibility\n",
    "seed = 7\n",
    "numpy.random.seed(seed)\n",
    "\n",
    "# load dataset\n",
    "url =\"https://raw.githubusercontent.com/jbrownlee/Datasets/master/pima-indians-diabetes.data.csv\"\n",
    "\n",
    "dataset = pd.read_csv(url, header=None).values\n",
    "\n",
    "# split into input (X) and output (Y) variables\n",
    "X = dataset[:,0:8]\n",
    "Y = dataset[:,8]\n",
    "\n",
    "# Function to create model, required for KerasClassifier\n",
    "def create_model():\n",
    "    # create model\n",
    "    model = Sequential()\n",
    "    model.add(Dense(12, input_dim=8, activation='relu'))\n",
    "    model.add(Dense(1, activation='sigmoid'))\n",
    "    # Compile model\n",
    "    model.compile(loss='binary_crossentropy', optimizer='adam', metrics=['accuracy'])\n",
    "    return model\n",
    "\n",
    "# create model\n",
    "model = KerasClassifier(build_fn=create_model, verbose=0)\n",
    "\n",
    "# define the grid search parameters\n",
    "# batch_size = [10, 20, 40, 60, 80, 100]\n",
    "# param_grid = dict(batch_size=batch_size, epochs=epochs)\n",
    "\n",
    "# define the grid search parameters\n",
    "# total obs is 781 so batches far under that make sense\n",
    "param_grid = {'batch_size': [10, 20, 40, 60, 80, 100],\n",
    "              'epochs': [20]}\n",
    "\n",
    "# Create Grid Search\n",
    "grid = GridSearchCV(estimator=model, param_grid=param_grid, n_jobs=-1) # these can't be parallelized \n",
    "grid_result = grid.fit(X, Y)\n",
    "\n",
    "# Report Results\n",
    "print(f\"Best: {grid_result.best_score_} using {grid_result.best_params_}\")\n",
    "means = grid_result.cv_results_['mean_test_score']\n",
    "stds = grid_result.cv_results_['std_test_score']\n",
    "params = grid_result.cv_results_['params']\n",
    "for mean, stdev, param in zip(means, stds, params):\n",
    "    print(f\"Means: {mean}, Stdev: {stdev} with: {param}\") "
   ]
  },
  {
   "cell_type": "markdown",
   "metadata": {
    "colab_type": "text",
    "id": "pmABfjlvXbqi"
   },
   "source": [
    "## Epochs\n",
    "\n",
    "The number of training epochs has a large and direct affect on the accuracy, However, more epochs is almost always going to better than less epochs. This means that if you tune this parameter at the beginning and try and maintain the same value all throughout your training, you're going to be waiting a long time for each iteration of GridSearch. I suggest picking a fixed moderate # of epochs all throughout your training and then Grid Searching this parameter at the very end. "
   ]
  },
  {
   "cell_type": "code",
   "execution_count": 5,
   "metadata": {
    "colab": {
     "base_uri": "https://localhost:8080/",
     "height": 26329
    },
    "colab_type": "code",
    "id": "bAmxP3N7TmFh",
    "outputId": "3ddb08c4-51ac-4eaa-ff39-143397024544"
   },
   "outputs": [
    {
     "name": "stdout",
     "output_type": "stream",
     "text": [
      "Best: 0.7044270833333334 using {'batch_size': 20, 'epochs': 200}\n",
      "Means: 0.6666666666666666, Stdev: 0.028940248399600087 with: {'batch_size': 20, 'epochs': 20}\n",
      "Means: 0.6588541666666666, Stdev: 0.028940248399600087 with: {'batch_size': 20, 'epochs': 40}\n",
      "Means: 0.6848958333333334, Stdev: 0.03498705427745938 with: {'batch_size': 20, 'epochs': 60}\n",
      "Means: 0.7044270833333334, Stdev: 0.018414239093399672 with: {'batch_size': 20, 'epochs': 200}\n"
     ]
    }
   ],
   "source": [
    "# define the grid search parameters\n",
    "param_grid = {'batch_size': [20],\n",
    "              'epochs': [20, 40, 60,200]}\n",
    "\n",
    "# Create Grid Search\n",
    "grid = GridSearchCV(estimator=model, param_grid=param_grid, n_jobs=1)\n",
    "grid_result = grid.fit(X, Y)\n",
    "\n",
    "# Report Results\n",
    "print(f\"Best: {grid_result.best_score_} using {grid_result.best_params_}\")\n",
    "means = grid_result.cv_results_['mean_test_score']\n",
    "stds = grid_result.cv_results_['std_test_score']\n",
    "params = grid_result.cv_results_['params']\n",
    "for mean, stdev, param in zip(means, stds, params):\n",
    "    print(f\"Means: {mean}, Stdev: {stdev} with: {param}\")"
   ]
  },
  {
   "cell_type": "markdown",
   "metadata": {
    "colab_type": "text",
    "id": "EKcuY6OiaLfz"
   },
   "source": [
    "## Optimizer\n",
    "\n",
    "Remember that there's a different optimizers [optimizers](https://keras.io/optimizers/). At some point, take some time to read up on them a little bit. \"adam\" usually gives the best results. The thing to know about choosing an optimizer is that different optimizers have different hyperparameters like learning rate, momentum, etc. So based on the optimizer you choose you might also have to tune the learning rate and momentum of those optimizers after that. "
   ]
  },
  {
   "cell_type": "markdown",
   "metadata": {
    "colab_type": "text",
    "id": "DG3wq5iOaLig"
   },
   "source": [
    "## Learning Rate\n",
    "\n",
    "Remember that the Learning Rate is a hyperparameter that is specific to your gradient-descent based optimizer selection. A learning rate that is too high will cause divergent behavior, but a Learning Rate that is too low will fail to converge, again, you're looking for the sweet spot. I would start out tuning learning rates by orders of magnitude: [.001, .01, .1, .2, .3, .5] etc. I wouldn't go above .5, but you can try it and see what the behavior is like. \n",
    "\n",
    "Once you have narrowed it down, make the window even smaller and try it again. If after running the above specification your model reports that .1 is the best optimizer, then you should probably try things like [.05, .08, .1, .12, .15] to try and narrow it down. \n",
    "\n",
    "It can also be good to tune the number of epochs in combination with the learning rate since the number of iterations that you allow the learning rate to reach the minimum can determine if you have let it run long enough to converge to the minimum. "
   ]
  },
  {
   "cell_type": "markdown",
   "metadata": {
    "colab_type": "text",
    "id": "gNTBUWd1aLlA"
   },
   "source": [
    "## Momentum --SGD Specific\n",
    "\n",
    "Momentum is a hyperparameter that is more commonly associated with Stochastic Gradient Descent. SGD is a common optimizer because it's what people understand and know, but I doubt it will get you the best results, you can try hyperparameter tuning its attributes and see if you can beat the performance from adam. Momentum is a property that decides the willingness of an optimizer to overshoot the minimum. Imagine a ball rolling down one side of a bowl and then up the opposite side a little bit before settling back to the bottom. The purpose of momentum is to try and escale local minima."
   ]
  },
  {
   "cell_type": "markdown",
   "metadata": {
    "colab_type": "text",
    "id": "xnEG-bCJaLnZ"
   },
   "source": [
    "## Activation Functions\n",
    "\n",
    "We've talked about this a little bit, typically you'l want to use ReLU for hidden layers and either Sigmoid, or Softmax for output layers of binary and multi-class classification implementations respectively, but try other activation functions and see if you can get any better results with sigmoid or tanh or something. There are a lot of activation functions that we haven't really talked about. Maybe you'll get good results with them. Maybe you won't. :) <https://keras.io/activations/>"
   ]
  },
  {
   "cell_type": "markdown",
   "metadata": {
    "colab_type": "text",
    "id": "oul9sPq-dU-h"
   },
   "source": [
    "## Network Weight Initialization\n",
    "\n",
    "You saw how big of an effect the way that we initialize our network's weights can have on our results. There are **a lot** of what are called initialization modes. I don't understand all of them, but they can have a big affect on your model's initial accuracy. Your model will get further with less epochs if you initialize it with weights that are well suited to the problem you're trying to solve.\n",
    "\n",
    "`init_mode = ['uniform', 'lecun_uniform', 'normal', 'zero', 'glorot_normal', 'glorot_uniform', 'he_normal', 'he_uniform']`"
   ]
  },
  {
   "cell_type": "markdown",
   "metadata": {
    "colab_type": "text",
    "id": "bqtEuxeQaLqE"
   },
   "source": [
    "## Dropout Regularization and the Weight Constraint\n",
    "\n",
    "the Dropout Regularization value is a percentage of neurons that you want to be randomly deactivated during training. The weight constraint is a second regularization parameter that works in tandem with dropout regularization. You should tune these two values at the same time. \n",
    "\n",
    "Using dropout on visible vs hidden layers might have a different effect. Using dropout on hidden layers might not have any effect while using dropout on hidden layers might have a substantial effect. You don't necessarily need to turn use dropout unless you see that your model has overfitting and generalizability problems."
   ]
  },
  {
   "cell_type": "markdown",
   "metadata": {
    "colab_type": "text",
    "id": "P2c5Cv6oaLtO"
   },
   "source": [
    "## Neurons in Hidden Layer \n",
    "\n",
    "Remember that when we only had a single perceptron our model was only able to fit to linearly separable data, but as we have added layers and nodes to those layers our network has become a powerhouse of fitting nonlinearity in data. The larger the network and the more nodes generally the stronger the network's capacity to fit nonlinear patterns in data. The more nodes and layers the longer it will take to train a network, and higher the probability of overfitting. The larger your network gets the more you'll need dropout regularization or other regularization techniques to keep it in check. \n",
    "\n",
    "Typically depth (more layers) is more important than width (more nodes) for neural networks. This is part of why Deep Learning is so highly touted. Certain deep learning architectures have truly been huge breakthroughs for certain machine learning tasks. \n",
    "\n",
    "You might borrow ideas from other network architectures. For example if I was doing image recognition and I wasn't taking cues from state of the art architectures like resnet, alexnet, googlenet, etc. Then I'm probably going to have to do a lot more experimentation on my own before I find something that works.\n",
    "\n",
    "There are some heuristics, but I am highly skeptical of them. I think you're better off experimenting on your own and forming your own intuition for these kinds of problems. \n",
    "\n",
    "- https://machinelearningmastery.com/how-to-configure-the-number-of-layers-and-nodes-in-a-neural-network/"
   ]
  },
  {
   "cell_type": "markdown",
   "metadata": {},
   "source": [
    "## Challenge\n",
    "You will be expected to tune several hyperparameters in today's module project. "
   ]
  },
  {
   "cell_type": "markdown",
   "metadata": {},
   "source": [
    "# Experiment Tracking Framework (Learn)\n",
    "<a id=\"p2\"></a>"
   ]
  },
  {
   "cell_type": "markdown",
   "metadata": {},
   "source": [
    "## Overview\n",
    "\n",
    "You will notice quickly that managing the results of all the experiments you are running becomes challenging. Which set of parameters did the best? Are my results today different than my results yesterday? Although we use Ipython Notebooks to work, the format is not well suited to logging experimental results. Enter experiment tracking frameworks like [Comet.ml](https://comet.ml) and [Weights and Biases](https://wandb.ai/).\n",
    "\n",
    "Those tools will help you track your experiments, store the results, and the code associated with those experiments. Experimental results can also be readily visualized to see changes in performance across any metric you care about. Data is sent to the tool as each epoch is completed, so you can also see if your model is converging. Let's check out Weights & Biases today. "
   ]
  },
  {
   "cell_type": "markdown",
   "metadata": {},
   "source": [
    "## Follow Along\n",
    "\n",
    "Make sure you login into `wandb` in the terminal before running the next cell. "
   ]
  },
  {
   "cell_type": "code",
   "execution_count": 7,
   "metadata": {},
   "outputs": [],
   "source": [
    "import wandb\n",
    "from wandb.keras import WandbCallback # uses callback to send results to their server\n",
    "\n",
    "# to automatically login\n",
    "# can also set config file, go look-up so less work later\n",
    "!wandb login 511a1885661d9b7baa13c50c3b8395d5dee3ed19\n",
    "# WandAI key: 511a1885661d9b7baa13c50c3b8395d5dee3ed19"
   ]
  },
  {
   "cell_type": "code",
   "execution_count": 10,
   "metadata": {
    "colab": {
     "base_uri": "https://localhost:8080/",
     "height": 1750
    },
    "colab_type": "code",
    "id": "GMXVfmzXp1Oo",
    "outputId": "b05e251e-508f-46e6-865b-f869ae2a5dc4"
   },
   "outputs": [
    {
     "data": {
      "text/html": [
       "\n",
       "                Logging results to <a href=\"https://wandb.com\" target=\"_blank\">Weights & Biases</a> <a href=\"https://docs.wandb.com/integrations/jupyter.html\" target=\"_blank\">(Documentation)</a>.<br/>\n",
       "                Project page: <a href=\"https://app.wandb.ai/ds8/ds10_inclass\" target=\"_blank\">https://app.wandb.ai/ds8/ds10_inclass</a><br/>\n",
       "                Run page: <a href=\"https://app.wandb.ai/ds8/ds10_inclass/runs/ebykfuoc\" target=\"_blank\">https://app.wandb.ai/ds8/ds10_inclass/runs/ebykfuoc</a><br/>\n",
       "            "
      ],
      "text/plain": [
       "<IPython.core.display.HTML object>"
      ]
     },
     "metadata": {},
     "output_type": "display_data"
    },
    {
     "name": "stderr",
     "output_type": "stream",
     "text": [
      "Failed to query for notebook name, you can set it manually with the WANDB_NOTEBOOK_NAME environment variable\n"
     ]
    },
    {
     "name": "stdout",
     "output_type": "stream",
     "text": [
      "Train on 270 samples, validate on 134 samples\n",
      "Epoch 1/100\n",
      "270/270 [==============================] - 1s 2ms/sample - loss: 505.3621 - mse: 505.3622 - mae: 20.6190 - val_loss: 494.2944 - val_mse: 494.2944 - val_mae: 19.9285\n",
      "Epoch 2/100\n",
      "270/270 [==============================] - 0s 337us/sample - loss: 268.9456 - mse: 268.9456 - mae: 13.9694 - val_loss: 171.2799 - val_mse: 171.2799 - val_mae: 9.9764\n",
      "Epoch 3/100\n",
      "270/270 [==============================] - 0s 315us/sample - loss: 89.8879 - mse: 89.8879 - mae: 7.3023 - val_loss: 101.2295 - val_mse: 101.2295 - val_mae: 7.4423\n",
      "Epoch 4/100\n",
      "270/270 [==============================] - 0s 330us/sample - loss: 43.2471 - mse: 43.2471 - mae: 4.8576 - val_loss: 60.1753 - val_mse: 60.1753 - val_mae: 5.2255\n",
      "Epoch 5/100\n",
      "270/270 [==============================] - 0s 319us/sample - loss: 28.4155 - mse: 28.4155 - mae: 3.8075 - val_loss: 45.8442 - val_mse: 45.8442 - val_mae: 4.5523\n",
      "Epoch 6/100\n",
      "270/270 [==============================] - 0s 408us/sample - loss: 24.1872 - mse: 24.1872 - mae: 3.4733 - val_loss: 37.5676 - val_mse: 37.5676 - val_mae: 4.3266\n",
      "Epoch 7/100\n",
      "270/270 [==============================] - 0s 319us/sample - loss: 20.2688 - mse: 20.2688 - mae: 3.2879 - val_loss: 33.8880 - val_mse: 33.8880 - val_mae: 3.8814\n",
      "Epoch 8/100\n",
      "270/270 [==============================] - 0s 349us/sample - loss: 18.3331 - mse: 18.3331 - mae: 3.0542 - val_loss: 30.4237 - val_mse: 30.4237 - val_mae: 3.9221\n",
      "Epoch 9/100\n",
      "270/270 [==============================] - 0s 319us/sample - loss: 15.9120 - mse: 15.9120 - mae: 2.9390 - val_loss: 25.6718 - val_mse: 25.6718 - val_mae: 3.3827\n",
      "Epoch 10/100\n",
      "270/270 [==============================] - 0s 326us/sample - loss: 13.5331 - mse: 13.5331 - mae: 2.6828 - val_loss: 23.4930 - val_mse: 23.4930 - val_mae: 3.2307\n",
      "Epoch 11/100\n",
      "270/270 [==============================] - 0s 326us/sample - loss: 12.1099 - mse: 12.1099 - mae: 2.4523 - val_loss: 22.6874 - val_mse: 22.6874 - val_mae: 3.2398\n",
      "Epoch 12/100\n",
      "270/270 [==============================] - 0s 308us/sample - loss: 10.7426 - mse: 10.7426 - mae: 2.4006 - val_loss: 20.4691 - val_mse: 20.4692 - val_mae: 2.9729\n",
      "Epoch 13/100\n",
      "270/270 [==============================] - 0s 215us/sample - loss: 9.7104 - mse: 9.7104 - mae: 2.2635 - val_loss: 20.5189 - val_mse: 20.5189 - val_mae: 2.9693\n",
      "Epoch 14/100\n",
      "270/270 [==============================] - 0s 315us/sample - loss: 8.8214 - mse: 8.8214 - mae: 2.1819 - val_loss: 19.0709 - val_mse: 19.0709 - val_mae: 2.9243\n",
      "Epoch 15/100\n",
      "270/270 [==============================] - ETA: 0s - loss: 7.3044 - mse: 7.3044 - mae: 2.138 - 0s 322us/sample - loss: 8.8068 - mse: 8.8068 - mae: 2.1736 - val_loss: 18.4093 - val_mse: 18.4093 - val_mae: 2.8425\n",
      "Epoch 16/100\n",
      "270/270 [==============================] - 0s 319us/sample - loss: 8.5505 - mse: 8.5505 - mae: 2.1574 - val_loss: 18.2883 - val_mse: 18.2883 - val_mae: 2.8380\n",
      "Epoch 17/100\n",
      "270/270 [==============================] - 0s 347us/sample - loss: 8.0385 - mse: 8.0385 - mae: 2.0741 - val_loss: 17.6388 - val_mse: 17.6388 - val_mae: 2.8166\n",
      "Epoch 18/100\n",
      "270/270 [==============================] - 0s 256us/sample - loss: 7.2618 - mse: 7.2618 - mae: 1.9910 - val_loss: 17.7045 - val_mse: 17.7045 - val_mae: 2.8023\n",
      "Epoch 19/100\n",
      "270/270 [==============================] - 0s 345us/sample - loss: 6.9813 - mse: 6.9813 - mae: 1.9619 - val_loss: 17.1143 - val_mse: 17.1143 - val_mae: 2.7278\n",
      "Epoch 20/100\n",
      "270/270 [==============================] - 0s 222us/sample - loss: 6.6750 - mse: 6.6750 - mae: 1.9204 - val_loss: 17.2042 - val_mse: 17.2042 - val_mae: 2.7383\n",
      "Epoch 21/100\n",
      "270/270 [==============================] - 0s 219us/sample - loss: 6.7160 - mse: 6.7160 - mae: 1.9333 - val_loss: 17.7408 - val_mse: 17.7408 - val_mae: 2.7785\n",
      "Epoch 22/100\n",
      "270/270 [==============================] - 0s 207us/sample - loss: 6.2502 - mse: 6.2502 - mae: 1.8472 - val_loss: 17.3760 - val_mse: 17.3760 - val_mae: 2.7297\n",
      "Epoch 23/100\n",
      "270/270 [==============================] - 0s 215us/sample - loss: 6.2285 - mse: 6.2285 - mae: 1.8293 - val_loss: 17.2334 - val_mse: 17.2334 - val_mae: 2.7571\n",
      "Epoch 24/100\n",
      "270/270 [==============================] - 0s 307us/sample - loss: 6.1430 - mse: 6.1430 - mae: 1.8274 - val_loss: 16.7981 - val_mse: 16.7981 - val_mae: 2.7189\n",
      "Epoch 25/100\n",
      "270/270 [==============================] - 0s 226us/sample - loss: 5.8114 - mse: 5.8114 - mae: 1.7515 - val_loss: 17.2597 - val_mse: 17.2597 - val_mae: 2.7069\n",
      "Epoch 26/100\n",
      "270/270 [==============================] - 0s 207us/sample - loss: 6.1527 - mse: 6.1527 - mae: 1.7856 - val_loss: 18.0678 - val_mse: 18.0678 - val_mae: 2.8061\n",
      "Epoch 27/100\n",
      "270/270 [==============================] - 0s 237us/sample - loss: 6.2006 - mse: 6.2006 - mae: 1.8778 - val_loss: 17.6239 - val_mse: 17.6239 - val_mae: 2.7810\n",
      "Epoch 28/100\n",
      "270/270 [==============================] - 0s 333us/sample - loss: 5.5477 - mse: 5.5477 - mae: 1.7339 - val_loss: 16.5466 - val_mse: 16.5466 - val_mae: 2.6943\n",
      "Epoch 29/100\n",
      "270/270 [==============================] - 0s 219us/sample - loss: 5.6011 - mse: 5.6011 - mae: 1.7140 - val_loss: 16.9703 - val_mse: 16.9703 - val_mae: 2.7036\n",
      "Epoch 30/100\n",
      "270/270 [==============================] - 0s 308us/sample - loss: 5.6123 - mse: 5.6123 - mae: 1.7781 - val_loss: 16.2222 - val_mse: 16.2222 - val_mae: 2.6585\n",
      "Epoch 31/100\n",
      "270/270 [==============================] - 0s 211us/sample - loss: 5.1398 - mse: 5.1398 - mae: 1.7028 - val_loss: 16.2658 - val_mse: 16.2658 - val_mae: 2.6315\n",
      "Epoch 32/100\n",
      "270/270 [==============================] - 0s 315us/sample - loss: 5.4593 - mse: 5.4593 - mae: 1.7033 - val_loss: 16.1768 - val_mse: 16.1768 - val_mae: 2.5999\n",
      "Epoch 33/100\n",
      "270/270 [==============================] - 0s 322us/sample - loss: 5.0924 - mse: 5.0924 - mae: 1.6782 - val_loss: 16.0744 - val_mse: 16.0744 - val_mae: 2.6743\n",
      "Epoch 34/100\n",
      "270/270 [==============================] - 0s 307us/sample - loss: 5.1306 - mse: 5.1306 - mae: 1.6826 - val_loss: 15.9496 - val_mse: 15.9496 - val_mae: 2.6291\n",
      "Epoch 35/100\n",
      "270/270 [==============================] - 0s 363us/sample - loss: 4.9807 - mse: 4.9807 - mae: 1.6583 - val_loss: 15.7865 - val_mse: 15.7865 - val_mae: 2.5845\n",
      "Epoch 36/100\n",
      "270/270 [==============================] - 0s 219us/sample - loss: 4.9055 - mse: 4.9055 - mae: 1.6400 - val_loss: 16.3389 - val_mse: 16.3389 - val_mae: 2.6331\n",
      "Epoch 37/100\n",
      "270/270 [==============================] - 0s 219us/sample - loss: 4.9843 - mse: 4.9843 - mae: 1.6310 - val_loss: 15.8899 - val_mse: 15.8899 - val_mae: 2.6044\n",
      "Epoch 38/100\n",
      "270/270 [==============================] - 0s 211us/sample - loss: 4.6122 - mse: 4.6122 - mae: 1.6011 - val_loss: 15.8992 - val_mse: 15.8992 - val_mae: 2.6569\n",
      "Epoch 39/100\n",
      "270/270 [==============================] - 0s 304us/sample - loss: 5.0419 - mse: 5.0419 - mae: 1.6547 - val_loss: 15.6730 - val_mse: 15.6730 - val_mae: 2.5925\n",
      "Epoch 40/100\n",
      "270/270 [==============================] - 0s 314us/sample - loss: 4.6870 - mse: 4.6870 - mae: 1.5745 - val_loss: 14.7999 - val_mse: 14.7999 - val_mae: 2.5164\n",
      "Epoch 41/100\n",
      "270/270 [==============================] - 0s 217us/sample - loss: 4.6659 - mse: 4.6659 - mae: 1.5829 - val_loss: 15.8580 - val_mse: 15.8580 - val_mae: 2.6076\n",
      "Epoch 42/100\n",
      "270/270 [==============================] - 0s 219us/sample - loss: 5.1064 - mse: 5.1064 - mae: 1.6580 - val_loss: 15.6858 - val_mse: 15.6858 - val_mae: 2.6403\n",
      "Epoch 43/100\n",
      "270/270 [==============================] - 0s 215us/sample - loss: 4.6168 - mse: 4.6168 - mae: 1.5898 - val_loss: 15.2079 - val_mse: 15.2079 - val_mae: 2.5303\n",
      "Epoch 44/100\n",
      "270/270 [==============================] - 0s 207us/sample - loss: 4.3126 - mse: 4.3126 - mae: 1.5304 - val_loss: 15.4290 - val_mse: 15.4290 - val_mae: 2.5390\n",
      "Epoch 45/100\n",
      "270/270 [==============================] - 0s 215us/sample - loss: 4.5407 - mse: 4.5407 - mae: 1.5605 - val_loss: 15.5297 - val_mse: 15.5298 - val_mae: 2.6080\n",
      "Epoch 46/100\n",
      "270/270 [==============================] - 0s 311us/sample - loss: 4.5389 - mse: 4.5389 - mae: 1.5706 - val_loss: 14.7831 - val_mse: 14.7831 - val_mae: 2.5181\n",
      "Epoch 47/100\n",
      "270/270 [==============================] - 0s 215us/sample - loss: 4.3390 - mse: 4.3390 - mae: 1.5661 - val_loss: 16.0331 - val_mse: 16.0331 - val_mae: 2.6493\n",
      "Epoch 48/100\n",
      "270/270 [==============================] - 0s 211us/sample - loss: 4.0297 - mse: 4.0297 - mae: 1.4496 - val_loss: 14.9857 - val_mse: 14.9857 - val_mae: 2.5111\n",
      "Epoch 49/100\n",
      "270/270 [==============================] - 0s 230us/sample - loss: 3.9111 - mse: 3.9111 - mae: 1.4566 - val_loss: 15.4514 - val_mse: 15.4514 - val_mae: 2.6266\n",
      "Epoch 50/100\n",
      "270/270 [==============================] - 0s 222us/sample - loss: 4.8893 - mse: 4.8893 - mae: 1.6057 - val_loss: 16.3237 - val_mse: 16.3237 - val_mae: 2.7078\n",
      "Epoch 51/100\n",
      "270/270 [==============================] - 0s 252us/sample - loss: 5.1655 - mse: 5.1655 - mae: 1.7111 - val_loss: 14.9157 - val_mse: 14.9157 - val_mae: 2.5213\n",
      "Epoch 52/100\n",
      "270/270 [==============================] - 0s 223us/sample - loss: 4.5297 - mse: 4.5297 - mae: 1.5616 - val_loss: 15.0175 - val_mse: 15.0175 - val_mae: 2.5033\n",
      "Epoch 53/100\n",
      "270/270 [==============================] - 0s 207us/sample - loss: 3.8990 - mse: 3.8990 - mae: 1.4672 - val_loss: 15.4383 - val_mse: 15.4383 - val_mae: 2.5772\n",
      "Epoch 54/100\n",
      "270/270 [==============================] - 0s 215us/sample - loss: 3.8659 - mse: 3.8659 - mae: 1.4608 - val_loss: 14.8120 - val_mse: 14.8120 - val_mae: 2.5075\n",
      "Epoch 55/100\n",
      "270/270 [==============================] - 0s 212us/sample - loss: 4.1421 - mse: 4.1421 - mae: 1.4846 - val_loss: 14.9480 - val_mse: 14.9480 - val_mae: 2.5624\n",
      "Epoch 56/100\n",
      "270/270 [==============================] - 0s 308us/sample - loss: 3.8803 - mse: 3.8803 - mae: 1.4385 - val_loss: 14.6375 - val_mse: 14.6375 - val_mae: 2.4770\n",
      "Epoch 57/100\n",
      "270/270 [==============================] - 0s 219us/sample - loss: 3.8859 - mse: 3.8859 - mae: 1.4694 - val_loss: 15.1414 - val_mse: 15.1414 - val_mae: 2.5271\n",
      "Epoch 58/100\n",
      "270/270 [==============================] - 0s 315us/sample - loss: 4.3854 - mse: 4.3854 - mae: 1.5232 - val_loss: 14.3404 - val_mse: 14.3404 - val_mae: 2.4582\n",
      "Epoch 59/100\n",
      "270/270 [==============================] - 0s 230us/sample - loss: 3.8917 - mse: 3.8917 - mae: 1.4669 - val_loss: 14.9057 - val_mse: 14.9057 - val_mae: 2.5117\n",
      "Epoch 60/100\n",
      "270/270 [==============================] - 0s 219us/sample - loss: 4.1099 - mse: 4.1099 - mae: 1.4942 - val_loss: 15.5521 - val_mse: 15.5521 - val_mae: 2.6099\n",
      "Epoch 61/100\n",
      "270/270 [==============================] - 0s 207us/sample - loss: 3.7272 - mse: 3.7272 - mae: 1.4416 - val_loss: 15.0959 - val_mse: 15.0959 - val_mae: 2.5070\n",
      "Epoch 62/100\n",
      "270/270 [==============================] - 0s 211us/sample - loss: 3.4458 - mse: 3.4458 - mae: 1.3825 - val_loss: 14.6153 - val_mse: 14.6153 - val_mae: 2.4646\n",
      "Epoch 63/100\n",
      "270/270 [==============================] - 0s 218us/sample - loss: 3.5320 - mse: 3.5320 - mae: 1.3953 - val_loss: 14.7325 - val_mse: 14.7325 - val_mae: 2.5301\n",
      "Epoch 64/100\n",
      "270/270 [==============================] - 0s 215us/sample - loss: 3.7522 - mse: 3.7522 - mae: 1.4163 - val_loss: 14.9603 - val_mse: 14.9603 - val_mae: 2.5429\n",
      "Epoch 65/100\n",
      "270/270 [==============================] - 0s 215us/sample - loss: 3.3511 - mse: 3.3511 - mae: 1.3839 - val_loss: 15.5839 - val_mse: 15.5839 - val_mae: 2.6103\n",
      "Epoch 66/100\n",
      "270/270 [==============================] - 0s 255us/sample - loss: 3.7194 - mse: 3.7194 - mae: 1.4127 - val_loss: 14.7364 - val_mse: 14.7364 - val_mae: 2.4868\n",
      "Epoch 67/100\n",
      "270/270 [==============================] - 0s 215us/sample - loss: 3.8282 - mse: 3.8282 - mae: 1.4573 - val_loss: 15.0421 - val_mse: 15.0421 - val_mae: 2.5249\n",
      "Epoch 68/100\n",
      "270/270 [==============================] - 0s 219us/sample - loss: 3.3595 - mse: 3.3595 - mae: 1.4160 - val_loss: 14.5833 - val_mse: 14.5833 - val_mae: 2.4843\n",
      "Epoch 69/100\n",
      "270/270 [==============================] - 0s 215us/sample - loss: 3.8422 - mse: 3.8422 - mae: 1.4784 - val_loss: 14.5549 - val_mse: 14.5549 - val_mae: 2.5077\n",
      "Epoch 70/100\n",
      "270/270 [==============================] - 0s 215us/sample - loss: 3.2407 - mse: 3.2407 - mae: 1.3403 - val_loss: 15.1191 - val_mse: 15.1191 - val_mae: 2.4821\n",
      "Epoch 71/100\n",
      "270/270 [==============================] - 0s 215us/sample - loss: 3.1810 - mse: 3.1810 - mae: 1.3409 - val_loss: 14.7009 - val_mse: 14.7009 - val_mae: 2.4522\n",
      "Epoch 72/100\n",
      "270/270 [==============================] - 0s 219us/sample - loss: 3.0856 - mse: 3.0856 - mae: 1.3159 - val_loss: 15.2161 - val_mse: 15.2161 - val_mae: 2.5076\n",
      "Epoch 73/100\n",
      "270/270 [==============================] - 0s 227us/sample - loss: 3.4120 - mse: 3.4120 - mae: 1.3987 - val_loss: 14.5617 - val_mse: 14.5617 - val_mae: 2.4930\n",
      "Epoch 74/100\n",
      "270/270 [==============================] - 0s 212us/sample - loss: 3.0315 - mse: 3.0315 - mae: 1.3218 - val_loss: 14.7947 - val_mse: 14.7947 - val_mae: 2.4706\n",
      "Epoch 75/100\n",
      "270/270 [==============================] - 0s 215us/sample - loss: 3.3143 - mse: 3.3143 - mae: 1.3470 - val_loss: 14.6251 - val_mse: 14.6251 - val_mae: 2.4606\n",
      "Epoch 76/100\n",
      "270/270 [==============================] - 0s 215us/sample - loss: 3.0417 - mse: 3.0417 - mae: 1.3170 - val_loss: 15.0285 - val_mse: 15.0285 - val_mae: 2.5296\n",
      "Epoch 77/100\n",
      "270/270 [==============================] - 0s 230us/sample - loss: 3.0619 - mse: 3.0619 - mae: 1.2880 - val_loss: 14.6875 - val_mse: 14.6875 - val_mae: 2.4728\n",
      "Epoch 78/100\n",
      "270/270 [==============================] - 0s 219us/sample - loss: 3.0223 - mse: 3.0223 - mae: 1.3149 - val_loss: 14.6500 - val_mse: 14.6500 - val_mae: 2.4335\n",
      "Epoch 79/100\n",
      "270/270 [==============================] - 0s 215us/sample - loss: 3.2448 - mse: 3.2448 - mae: 1.3861 - val_loss: 15.0752 - val_mse: 15.0752 - val_mae: 2.5348\n",
      "Epoch 80/100\n",
      "270/270 [==============================] - 0s 215us/sample - loss: 2.9208 - mse: 2.9208 - mae: 1.2695 - val_loss: 15.3091 - val_mse: 15.3091 - val_mae: 2.5163\n",
      "Epoch 81/100\n",
      "270/270 [==============================] - 0s 219us/sample - loss: 3.0525 - mse: 3.0525 - mae: 1.2920 - val_loss: 14.5447 - val_mse: 14.5447 - val_mae: 2.4997\n",
      "Epoch 82/100\n",
      "270/270 [==============================] - 0s 222us/sample - loss: 2.7879 - mse: 2.7879 - mae: 1.2468 - val_loss: 14.5568 - val_mse: 14.5568 - val_mae: 2.4970\n",
      "Epoch 83/100\n",
      "270/270 [==============================] - 0s 215us/sample - loss: 3.1935 - mse: 3.1935 - mae: 1.3656 - val_loss: 15.2014 - val_mse: 15.2014 - val_mae: 2.5214\n",
      "Epoch 84/100\n",
      "270/270 [==============================] - 0s 215us/sample - loss: 3.1011 - mse: 3.1011 - mae: 1.3154 - val_loss: 15.3400 - val_mse: 15.3400 - val_mae: 2.5351\n",
      "Epoch 85/100\n",
      "270/270 [==============================] - 0s 219us/sample - loss: 3.2845 - mse: 3.2845 - mae: 1.3564 - val_loss: 15.0873 - val_mse: 15.0873 - val_mae: 2.5221\n",
      "Epoch 86/100\n",
      "270/270 [==============================] - 0s 219us/sample - loss: 2.8271 - mse: 2.8271 - mae: 1.2665 - val_loss: 15.6585 - val_mse: 15.6585 - val_mae: 2.5969\n",
      "Epoch 87/100\n",
      "270/270 [==============================] - 0s 219us/sample - loss: 2.8577 - mse: 2.8577 - mae: 1.2699 - val_loss: 14.9050 - val_mse: 14.9050 - val_mae: 2.4727\n",
      "Epoch 88/100\n",
      "270/270 [==============================] - 0s 219us/sample - loss: 2.8786 - mse: 2.8786 - mae: 1.2352 - val_loss: 14.9193 - val_mse: 14.9193 - val_mae: 2.4887\n",
      "Epoch 89/100\n",
      "270/270 [==============================] - 0s 215us/sample - loss: 2.8188 - mse: 2.8188 - mae: 1.2588 - val_loss: 15.5142 - val_mse: 15.5142 - val_mae: 2.6051\n",
      "Epoch 90/100\n",
      "270/270 [==============================] - 0s 211us/sample - loss: 2.6574 - mse: 2.6574 - mae: 1.2126 - val_loss: 14.3708 - val_mse: 14.3708 - val_mae: 2.4407\n",
      "Epoch 91/100\n",
      "270/270 [==============================] - 0s 215us/sample - loss: 2.4531 - mse: 2.4531 - mae: 1.1611 - val_loss: 14.8771 - val_mse: 14.8771 - val_mae: 2.4831\n",
      "Epoch 92/100\n",
      "270/270 [==============================] - 0s 211us/sample - loss: 2.5329 - mse: 2.5329 - mae: 1.2179 - val_loss: 14.7968 - val_mse: 14.7968 - val_mae: 2.4982\n",
      "Epoch 93/100\n",
      "270/270 [==============================] - 0s 219us/sample - loss: 2.6736 - mse: 2.6736 - mae: 1.2337 - val_loss: 14.9195 - val_mse: 14.9195 - val_mae: 2.5149\n",
      "Epoch 94/100\n",
      "270/270 [==============================] - 0s 222us/sample - loss: 2.6589 - mse: 2.6589 - mae: 1.2145 - val_loss: 14.3774 - val_mse: 14.3774 - val_mae: 2.4442\n",
      "Epoch 95/100\n",
      "270/270 [==============================] - 0s 215us/sample - loss: 2.4732 - mse: 2.4732 - mae: 1.1931 - val_loss: 15.2407 - val_mse: 15.2407 - val_mae: 2.5301\n",
      "Epoch 96/100\n",
      "270/270 [==============================] - 0s 319us/sample - loss: 2.4384 - mse: 2.4384 - mae: 1.1443 - val_loss: 14.0499 - val_mse: 14.0499 - val_mae: 2.3923\n",
      "Epoch 97/100\n",
      "270/270 [==============================] - 0s 230us/sample - loss: 2.5885 - mse: 2.5885 - mae: 1.1948 - val_loss: 14.4508 - val_mse: 14.4508 - val_mae: 2.4346\n",
      "Epoch 98/100\n",
      "270/270 [==============================] - 0s 215us/sample - loss: 2.5008 - mse: 2.5008 - mae: 1.1865 - val_loss: 14.7382 - val_mse: 14.7382 - val_mae: 2.4469\n",
      "Epoch 99/100\n",
      "270/270 [==============================] - 0s 256us/sample - loss: 2.4392 - mse: 2.4392 - mae: 1.1935 - val_loss: 15.6105 - val_mse: 15.6105 - val_mae: 2.5591\n",
      "Epoch 100/100\n",
      "270/270 [==============================] - 0s 226us/sample - loss: 2.3494 - mse: 2.3494 - mae: 1.1484 - val_loss: 14.5970 - val_mse: 14.5970 - val_mae: 2.4288\n"
     ]
    },
    {
     "data": {
      "text/plain": [
       "<tensorflow.python.keras.callbacks.History at 0x1dd883b6630>"
      ]
     },
     "execution_count": 10,
     "metadata": {},
     "output_type": "execute_result"
    }
   ],
   "source": [
    "entity = 'ds8'\n",
    "project = 'ds10_inclass'\n",
    "\n",
    "wandb.init(project=project, entity=entity) #Initializes and Experiment\n",
    "\n",
    "# Important Hyperparameters\n",
    "X =  x_train\n",
    "y =  y_train\n",
    "\n",
    "inputs = X.shape[1]\n",
    "wandb.config.epochs = 100\n",
    "wandb.config.batch_size = 10\n",
    "\n",
    "# Create Model\n",
    "model = Sequential()\n",
    "model.add(Dense(64, activation='selu', input_shape=(inputs,)))\n",
    "model.add(Dense(64, activation='relu'))\n",
    "model.add(Dense(64, activation='relu'))\n",
    "model.add(Dense(1))\n",
    "# Compile Model\n",
    "model.compile(optimizer='adam', loss='mse', metrics=['mse', 'mae'])\n",
    "\n",
    "# Fit Model\n",
    "model.fit(X, y, \n",
    "          validation_split=0.33, \n",
    "          epochs=wandb.config.epochs, \n",
    "          batch_size=wandb.config.batch_size, \n",
    "          callbacks=[WandbCallback()]\n",
    "         )"
   ]
  },
  {
   "cell_type": "markdown",
   "metadata": {},
   "source": [
    "## Challenge\n",
    "\n",
    "You will be expected to use Weights & Biases to try to tune your model during your module assignment today. "
   ]
  },
  {
   "cell_type": "markdown",
   "metadata": {},
   "source": [
    "# Hyperparameters with RandomSearchCV (Learn)"
   ]
  },
  {
   "cell_type": "markdown",
   "metadata": {},
   "source": [
    "## Overview\n",
    "\n",
    "Basically `GridSearchCV` takes forever. You'll want to adopt a slightly more sophiscated strategy."
   ]
  },
  {
   "cell_type": "markdown",
   "metadata": {},
   "source": [
    "## Follow Along"
   ]
  },
  {
   "cell_type": "code",
   "execution_count": 9,
   "metadata": {},
   "outputs": [],
   "source": [
    "sweep_config = {\n",
    "    'method': 'random',\n",
    "    'parameters': {\n",
    "        'learning_rate': {'distribution': 'normal'},\n",
    "        'epochs': {'distribution': 'uniform',\n",
    "                    'min': 100,\n",
    "                    'max': 1000},\n",
    "        'batch_size': {'distribution': 'uniform',\n",
    "            'min': 10,\n",
    "            'max': 400}\n",
    "    }\n",
    "}"
   ]
  },
  {
   "cell_type": "code",
   "execution_count": 13,
   "metadata": {},
   "outputs": [
    {
     "name": "stdout",
     "output_type": "stream",
     "text": [
      "Create sweep with ID: huau0u9r\n",
      "Sweep URL: https://app.wandb.ai/lambda-ds7/boston/sweeps/huau0u9r\n"
     ]
    }
   ],
   "source": [
    "sweep_id = wandb.sweep(sweep_config)"
   ]
  },
  {
   "cell_type": "code",
   "execution_count": 11,
   "metadata": {},
   "outputs": [],
   "source": [
    "import wandb\n",
    "from wandb.keras import WandbCallback\n",
    "#Initializes and Experiment\n",
    "\n",
    "from tensorflow.keras.optimizers import Adam\n",
    "\n",
    "# Important Hyperparameters\n",
    "X =  x_train\n",
    "y =  y_train\n",
    "\n",
    "inputs = X.shape[1]\n",
    "\n",
    "def train():\n",
    "    \n",
    "    wandb.init(project=\"boston\", entity=\"lambda-ds7\") \n",
    "    \n",
    "    config = wandb.config\n",
    "\n",
    "    # Create Model\n",
    "    model = Sequential()\n",
    "    model.add(Dense(64, activation='relu', input_shape=(inputs,)))\n",
    "    model.add(Dense(64, activation='relu'))\n",
    "    model.add(Dense(64, activation='relu'))\n",
    "    model.add(Dense(1))\n",
    "\n",
    "    # Optimizer \n",
    "    adam = Adam(learning_rate=config.learning_rate)\n",
    "\n",
    "    # Compile Model\n",
    "    model.compile(optimizer=adam, loss='mse', metrics=['mse', 'mae'])\n",
    "\n",
    "    # Fit Model\n",
    "    model.fit(X, y, \n",
    "              validation_split=0.33, \n",
    "              epochs=config.epochs, \n",
    "              batch_size=config.batch_size, \n",
    "              callbacks=[WandbCallback()]\n",
    "             )"
   ]
  },
  {
   "cell_type": "code",
   "execution_count": null,
   "metadata": {},
   "outputs": [
    {
     "name": "stdout",
     "output_type": "stream",
     "text": [
      "wandb: Agent Starting Run: 2g77kp6k with config:\n",
      "\tbatch_size: 308.503347845309\n",
      "\tepochs: 704.9395850579006\n",
      "\tlearning_rate: 1.480005523005428\n",
      "wandb: Agent Started Run: 2g77kp6k\n"
     ]
    },
    {
     "data": {
      "text/html": [
       "\n",
       "                Logging results to <a href=\"https://wandb.com\" target=\"_blank\">Weights & Biases</a> <a href=\"https://docs.wandb.com/integrations/jupyter.html\" target=\"_blank\">(Documentation)</a>.<br/>\n",
       "                Project page: <a href=\"https://app.wandb.ai/lambda-ds7/boston\" target=\"_blank\">https://app.wandb.ai/lambda-ds7/boston</a><br/>\n",
       "                Run page: <a href=\"https://app.wandb.ai/lambda-ds7/boston/runs/t4w9l4ye\" target=\"_blank\">https://app.wandb.ai/lambda-ds7/boston/runs/t4w9l4ye</a><br/>\n",
       "            "
      ],
      "text/plain": [
       "<IPython.core.display.HTML object>"
      ]
     },
     "metadata": {},
     "output_type": "display_data"
    }
   ],
   "source": [
    "wandb.agent(sweep_id, function=train)"
   ]
  },
  {
   "cell_type": "markdown",
   "metadata": {},
   "source": [
    "## Challenge\n",
    "\n",
    "Try to apply RandomSearchCV to your module project today. "
   ]
  },
  {
   "cell_type": "markdown",
   "metadata": {},
   "source": [
    "# Review\n",
    "* <a href=\"#p1\">Part 1</a>: Describe the major hyperparemeters to tune\n",
    "    - Activation Functions\n",
    "    - Optimizer\n",
    "    - Number of Layers\n",
    "    - Number of Neurons\n",
    "    - Batch Size\n",
    "    - Dropout Regulaization\n",
    "    - Learning Rate\n",
    "    - Number of Epochs\n",
    "    - and many more\n",
    "* <a href=\"#p2\">Part 2</a>: Implement an experiment tracking framework\n",
    "    - Weights & Biases\n",
    "    - Comet.ml\n",
    "    - By Hand / GridSearch\n",
    "* <a href=\"#p3\">Part 3</a>: Search the hyperparameter space using RandomSearch\n",
    "    - Sklearn still useful (haha)\n",
    "    - Integration with Wieghts & Biases\n",
    "* <a href=\"#p4\">Part 4</a>: Discuss emerging hyperparameter tuning strategies\n",
    "    - Bayesian Optimization\n",
    "    - Hyperopt\n",
    "    - Genetic Evolution"
   ]
  },
  {
   "cell_type": "markdown",
   "metadata": {},
   "source": [
    "# Sources"
   ]
  },
  {
   "cell_type": "markdown",
   "metadata": {},
   "source": [
    "## Additional Reading\n",
    "- https://machinelearningmastery.com/grid-search-hyperparameters-deep-learning-models-python-keras/\n",
    "- https://blog.floydhub.com/guide-to-hyperparameters-search-for-deep-learning-models/\n",
    "- https://machinelearningmastery.com/dropout-regularization-deep-learning-models-keras/\n",
    "- https://machinelearningmastery.com/introduction-to-weight-constraints-to-reduce-generalization-error-in-deep-learning/\n",
    "- https://machinelearningmastery.com/how-to-configure-the-number-of-layers-and-nodes-in-a-neural-network/"
   ]
  }
 ],
 "metadata": {
  "kernelspec": {
   "display_name": "U4-S2-NN",
   "language": "python",
   "name": "u4-s2-nn"
  },
  "language_info": {
   "codemirror_mode": {
    "name": "ipython",
    "version": 3
   },
   "file_extension": ".py",
   "mimetype": "text/x-python",
   "name": "python",
   "nbconvert_exporter": "python",
   "pygments_lexer": "ipython3",
   "version": "3.7.0"
  }
 },
 "nbformat": 4,
 "nbformat_minor": 4
}
