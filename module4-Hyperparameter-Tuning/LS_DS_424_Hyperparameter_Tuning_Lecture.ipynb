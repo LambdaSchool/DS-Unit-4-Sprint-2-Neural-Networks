{
 "cells": [
  {
   "cell_type": "markdown",
   "metadata": {
    "colab_type": "text",
    "id": "41TS0Sa0rDNx"
   },
   "source": [
    "Lambda School Data Science\n",
    "\n",
    "*Unit 4, Sprint 2, Module 4*\n",
    "\n",
    "---"
   ]
  },
  {
   "cell_type": "markdown",
   "metadata": {
    "colab_type": "text",
    "id": "41TS0Sa0rDNx"
   },
   "source": [
    "# Neural Networks & GPUs (Prepare)\n",
    "*aka Hyperparameter Tuning*\n",
    "\n",
    "*aka Big Servers for Big Problems*"
   ]
  },
  {
   "cell_type": "markdown",
   "metadata": {
    "colab_type": "text",
    "id": "41TS0Sa0rDNx"
   },
   "source": [
    "## Learning Objectives\n",
    "* <a href=\"#p1\">Part 1</a>: Describe the major hyperparemeters to tune\n",
    "* <a href=\"#p2\">Part 2</a>: Implement an experiment tracking framework\n",
    "* <a href=\"#p3\">Part 3</a>: Search the hyperparameter space using RandomSearch (Optional)"
   ]
  },
  {
   "cell_type": "code",
   "execution_count": null,
   "metadata": {},
   "outputs": [],
   "source": [
    "wandb_group = \"...\"\n",
    "wandb_project = \"...\""
   ]
  },
  {
   "cell_type": "markdown",
   "metadata": {},
   "source": [
    "# Hyperparameter Options (Learn)\n",
    "<a id=\"p1\"></a>"
   ]
  },
  {
   "cell_type": "markdown",
   "metadata": {},
   "source": [
    "## Overview\n",
    "\n",
    "Hyperparameter tuning is much more important with neural networks than it has been with any other models that we have considered up to this point. Other supervised learning models might have a couple of parameters, but neural networks can have dozens. These can substantially affect the accuracy of our models and although it can be a time consuming process is a necessary step when working with neural networks.\n",
    "​\n",
    "Hyperparameter tuning comes with a challenge. How can we compare models specified with different hyperparameters if our model's final error metric can vary somewhat erratically? How do we avoid just getting unlucky and selecting the wrong hyperparameter? This is a problem that to a certain degree we just have to live with as we test and test again. However, we can minimize it somewhat by pairing our experiments with Cross Validation to reduce the variance of our final accuracy values."
   ]
  },
  {
   "cell_type": "markdown",
   "metadata": {
    "colab_type": "text",
    "id": "0s0o2pqBs88q"
   },
   "source": [
    "### Load Boston Housing Data"
   ]
  },
  {
   "cell_type": "code",
<<<<<<< HEAD
   "execution_count": 2,
=======
   "execution_count": null,
>>>>>>> upstream/master
   "metadata": {},
   "outputs": [],
   "source": [
    "from tensorflow.keras.datasets import boston_housing\n",
    "\n",
    "(x_train, y_train), (x_test, y_test) = boston_housing.load_data()"
   ]
  },
  {
   "cell_type": "markdown",
   "metadata": {
    "colab_type": "text",
    "id": "Pm7zow5IvaTt"
   },
   "source": [
    "### Normalizing Input Data\n",
    "\n",
    "It's not 100% necessary to normalize/scale your input data before feeding it to a neural network, the network can learn the appropriate weights to deal with data of as long as it is numerically represented,  but it is recommended as it can help **make training faster** and **reduces the chances that gradient descent might get stuck in a local optimum**.\n",
    "\n",
    "<https://stackoverflow.com/questions/4674623/why-do-we-have-to-normalize-the-input-for-an-artificial-neural-network>"
   ]
  },
  {
   "cell_type": "code",
<<<<<<< HEAD
   "execution_count": 3,
=======
   "execution_count": null,
>>>>>>> upstream/master
   "metadata": {},
   "outputs": [],
   "source": [
    "from sklearn.preprocessing import StandardScaler\n",
    "\n",
    "scaler = StandardScaler()\n",
    "\n",
    "x_train = scaler.fit_transform(x_train)\n",
    "x_test = scaler.transform(x_test)\n",
    "print(x_train[:10])"
   ]
  },
  {
   "cell_type": "markdown",
   "metadata": {
    "colab_type": "text",
    "id": "l6hgCWbir90R"
   },
   "source": [
    "### Model Validation using an automatic verification Dataset\n",
    "\n",
    "Instead of doing seperate train test split class, Keras has a really nice feature that you can set the validation.data argument when fitting your model and Keras will take that portion of your test data and use it as a validation dataset. "
   ]
  },
  {
   "cell_type": "code",
<<<<<<< HEAD
   "execution_count": 5,
=======
   "execution_count": null,
>>>>>>> upstream/master
   "metadata": {
    "colab": {
     "base_uri": "https://localhost:8080/",
     "height": 1750
    },
    "colab_type": "code",
    "id": "GMXVfmzXp1Oo",
    "outputId": "b05e251e-508f-46e6-865b-f869ae2a5dc4"
   },
<<<<<<< HEAD
   "outputs": [
    {
     "name": "stdout",
     "output_type": "stream",
     "text": [
      "Train on 404 samples, validate on 102 samples\n",
      "Epoch 1/75\n",
      "404/404 [==============================] - 0s 924us/sample - loss: 502.9949 - mse: 502.9949 - mae: 20.3864 - val_loss: 436.3566 - val_mse: 436.3566 - val_mae: 18.5471\n",
      "Epoch 2/75\n",
      "404/404 [==============================] - 0s 150us/sample - loss: 265.3284 - mse: 265.3284 - mae: 13.6301 - val_loss: 137.8990 - val_mse: 137.8990 - val_mae: 10.0648\n",
      "Epoch 3/75\n",
      "404/404 [==============================] - 0s 130us/sample - loss: 71.1616 - mse: 71.1616 - mae: 6.3788 - val_loss: 49.5853 - val_mse: 49.5853 - val_mae: 5.3437\n",
      "Epoch 4/75\n",
      "404/404 [==============================] - 0s 128us/sample - loss: 34.1766 - mse: 34.1766 - mae: 4.2027 - val_loss: 32.7588 - val_mse: 32.7588 - val_mae: 4.4732\n",
      "Epoch 5/75\n",
      "404/404 [==============================] - 0s 126us/sample - loss: 23.6542 - mse: 23.6542 - mae: 3.5152 - val_loss: 27.2999 - val_mse: 27.2999 - val_mae: 4.0316\n",
      "Epoch 6/75\n",
      "404/404 [==============================] - 0s 126us/sample - loss: 19.8837 - mse: 19.8837 - mae: 3.1663 - val_loss: 25.7977 - val_mse: 25.7977 - val_mae: 3.7745\n",
      "Epoch 7/75\n",
      "404/404 [==============================] - 0s 129us/sample - loss: 17.2690 - mse: 17.2690 - mae: 2.9455 - val_loss: 24.5676 - val_mse: 24.5676 - val_mae: 3.6519\n",
      "Epoch 8/75\n",
      "404/404 [==============================] - 0s 118us/sample - loss: 15.6353 - mse: 15.6353 - mae: 2.7605 - val_loss: 23.8880 - val_mse: 23.8880 - val_mae: 3.4895\n",
      "Epoch 9/75\n",
      "404/404 [==============================] - 0s 122us/sample - loss: 14.1871 - mse: 14.1871 - mae: 2.6430 - val_loss: 24.6300 - val_mse: 24.6300 - val_mae: 3.4900\n",
      "Epoch 10/75\n",
      "404/404 [==============================] - 0s 117us/sample - loss: 13.2386 - mse: 13.2386 - mae: 2.5464 - val_loss: 25.0159 - val_mse: 25.0159 - val_mae: 3.4358\n",
      "Epoch 11/75\n",
      "404/404 [==============================] - 0s 119us/sample - loss: 12.5172 - mse: 12.5172 - mae: 2.5060 - val_loss: 23.6414 - val_mse: 23.6414 - val_mae: 3.2988\n",
      "Epoch 12/75\n",
      "404/404 [==============================] - 0s 120us/sample - loss: 11.8335 - mse: 11.8335 - mae: 2.4237 - val_loss: 24.3491 - val_mse: 24.3491 - val_mae: 3.3002\n",
      "Epoch 13/75\n",
      "404/404 [==============================] - 0s 118us/sample - loss: 11.5165 - mse: 11.5165 - mae: 2.3926 - val_loss: 24.7244 - val_mse: 24.7244 - val_mae: 3.2928\n",
      "Epoch 14/75\n",
      "404/404 [==============================] - 0s 119us/sample - loss: 10.8762 - mse: 10.8762 - mae: 2.3411 - val_loss: 24.3239 - val_mse: 24.3239 - val_mae: 3.2170\n",
      "Epoch 15/75\n",
      "404/404 [==============================] - 0s 119us/sample - loss: 10.5549 - mse: 10.5549 - mae: 2.3105 - val_loss: 23.9166 - val_mse: 23.9166 - val_mae: 3.1688\n",
      "Epoch 16/75\n",
      "404/404 [==============================] - 0s 119us/sample - loss: 10.1616 - mse: 10.1616 - mae: 2.2672 - val_loss: 22.9025 - val_mse: 22.9025 - val_mae: 3.0948\n",
      "Epoch 17/75\n",
      "404/404 [==============================] - 0s 119us/sample - loss: 10.1263 - mse: 10.1263 - mae: 2.2719 - val_loss: 24.4906 - val_mse: 24.4906 - val_mae: 3.1978\n",
      "Epoch 18/75\n",
      "404/404 [==============================] - 0s 131us/sample - loss: 9.8036 - mse: 9.8036 - mae: 2.2078 - val_loss: 25.5962 - val_mse: 25.5962 - val_mae: 3.2560\n",
      "Epoch 19/75\n",
      "404/404 [==============================] - 0s 121us/sample - loss: 9.9205 - mse: 9.9205 - mae: 2.2437 - val_loss: 22.9766 - val_mse: 22.9766 - val_mae: 3.0128\n",
      "Epoch 20/75\n",
      "404/404 [==============================] - 0s 122us/sample - loss: 9.3538 - mse: 9.3538 - mae: 2.1950 - val_loss: 24.1766 - val_mse: 24.1766 - val_mae: 3.1147\n",
      "Epoch 21/75\n",
      "404/404 [==============================] - 0s 117us/sample - loss: 9.2241 - mse: 9.2241 - mae: 2.1536 - val_loss: 24.2495 - val_mse: 24.2495 - val_mae: 3.1201\n",
      "Epoch 22/75\n",
      "404/404 [==============================] - 0s 118us/sample - loss: 9.0061 - mse: 9.0061 - mae: 2.1401 - val_loss: 21.9884 - val_mse: 21.9884 - val_mae: 2.9087\n",
      "Epoch 23/75\n",
      "404/404 [==============================] - 0s 133us/sample - loss: 8.8544 - mse: 8.8544 - mae: 2.1145 - val_loss: 23.9491 - val_mse: 23.9491 - val_mae: 3.0384\n",
      "Epoch 24/75\n",
      "404/404 [==============================] - 0s 129us/sample - loss: 8.7257 - mse: 8.7257 - mae: 2.0833 - val_loss: 22.5212 - val_mse: 22.5212 - val_mae: 2.9191\n",
      "Epoch 25/75\n",
      "404/404 [==============================] - 0s 119us/sample - loss: 8.4130 - mse: 8.4130 - mae: 2.0791 - val_loss: 21.6032 - val_mse: 21.6032 - val_mae: 2.9568\n",
      "Epoch 26/75\n",
      "404/404 [==============================] - 0s 121us/sample - loss: 8.4310 - mse: 8.4310 - mae: 2.0479 - val_loss: 23.1665 - val_mse: 23.1665 - val_mae: 2.9631\n",
      "Epoch 27/75\n",
      "404/404 [==============================] - 0s 129us/sample - loss: 8.1622 - mse: 8.1622 - mae: 2.0197 - val_loss: 23.6097 - val_mse: 23.6097 - val_mae: 2.9728\n",
      "Epoch 28/75\n",
      "404/404 [==============================] - 0s 133us/sample - loss: 8.3688 - mse: 8.3688 - mae: 2.0193 - val_loss: 21.4848 - val_mse: 21.4848 - val_mae: 2.8208\n",
      "Epoch 29/75\n",
      "404/404 [==============================] - 0s 127us/sample - loss: 8.1488 - mse: 8.1488 - mae: 2.0249 - val_loss: 21.5628 - val_mse: 21.5628 - val_mae: 2.8178\n",
      "Epoch 30/75\n",
      "404/404 [==============================] - 0s 130us/sample - loss: 7.9275 - mse: 7.9275 - mae: 1.9962 - val_loss: 20.9657 - val_mse: 20.9657 - val_mae: 2.7726\n",
      "Epoch 31/75\n",
      "404/404 [==============================] - 0s 117us/sample - loss: 7.6680 - mse: 7.6680 - mae: 1.9633 - val_loss: 22.1133 - val_mse: 22.1133 - val_mae: 3.0236\n",
      "Epoch 32/75\n",
      "404/404 [==============================] - 0s 139us/sample - loss: 7.7995 - mse: 7.7995 - mae: 2.0350 - val_loss: 20.0628 - val_mse: 20.0628 - val_mae: 2.8595\n",
      "Epoch 33/75\n",
      "404/404 [==============================] - 0s 119us/sample - loss: 7.6118 - mse: 7.6118 - mae: 1.9594 - val_loss: 20.8022 - val_mse: 20.8022 - val_mae: 2.8319\n",
      "Epoch 34/75\n",
      "404/404 [==============================] - 0s 120us/sample - loss: 7.3877 - mse: 7.3877 - mae: 1.9059 - val_loss: 19.8099 - val_mse: 19.8099 - val_mae: 2.6798\n",
      "Epoch 35/75\n",
      "404/404 [==============================] - 0s 118us/sample - loss: 7.3202 - mse: 7.3202 - mae: 1.9176 - val_loss: 19.3593 - val_mse: 19.3593 - val_mae: 2.6915\n",
      "Epoch 36/75\n",
      "404/404 [==============================] - 0s 118us/sample - loss: 7.2860 - mse: 7.2860 - mae: 1.9090 - val_loss: 19.2093 - val_mse: 19.2093 - val_mae: 2.6731\n",
      "Epoch 37/75\n",
      "404/404 [==============================] - 0s 125us/sample - loss: 7.0760 - mse: 7.0760 - mae: 1.8706 - val_loss: 19.1334 - val_mse: 19.1334 - val_mae: 2.6735\n",
      "Epoch 38/75\n",
      "404/404 [==============================] - 0s 120us/sample - loss: 7.0094 - mse: 7.0094 - mae: 1.8676 - val_loss: 19.3972 - val_mse: 19.3972 - val_mae: 2.7281\n",
      "Epoch 39/75\n",
      "404/404 [==============================] - 0s 118us/sample - loss: 7.0635 - mse: 7.0635 - mae: 1.8721 - val_loss: 18.6854 - val_mse: 18.6854 - val_mae: 2.6049\n",
      "Epoch 40/75\n",
      "404/404 [==============================] - 0s 132us/sample - loss: 7.0058 - mse: 7.0058 - mae: 1.8889 - val_loss: 20.7830 - val_mse: 20.7830 - val_mae: 2.7956\n",
      "Epoch 41/75\n",
      "404/404 [==============================] - 0s 124us/sample - loss: 7.0008 - mse: 7.0008 - mae: 1.8756 - val_loss: 21.5728 - val_mse: 21.5728 - val_mae: 2.8457\n",
      "Epoch 42/75\n",
      "404/404 [==============================] - 0s 163us/sample - loss: 6.7984 - mse: 6.7984 - mae: 1.8627 - val_loss: 18.2781 - val_mse: 18.2781 - val_mae: 2.5639\n",
      "Epoch 43/75\n",
      "404/404 [==============================] - 0s 129us/sample - loss: 6.7639 - mse: 6.7639 - mae: 1.8601 - val_loss: 19.2342 - val_mse: 19.2342 - val_mae: 2.6654\n",
      "Epoch 44/75\n",
      "404/404 [==============================] - 0s 137us/sample - loss: 6.7570 - mse: 6.7570 - mae: 1.8276 - val_loss: 20.1097 - val_mse: 20.1097 - val_mae: 2.7741\n",
      "Epoch 45/75\n",
      "404/404 [==============================] - 0s 133us/sample - loss: 6.6520 - mse: 6.6520 - mae: 1.8282 - val_loss: 17.8975 - val_mse: 17.8975 - val_mae: 2.5569\n",
      "Epoch 46/75\n",
      "404/404 [==============================] - 0s 120us/sample - loss: 6.4787 - mse: 6.4787 - mae: 1.8047 - val_loss: 18.0377 - val_mse: 18.0377 - val_mae: 2.5653\n",
      "Epoch 47/75\n",
      "404/404 [==============================] - 0s 147us/sample - loss: 6.2893 - mse: 6.2893 - mae: 1.7649 - val_loss: 18.9780 - val_mse: 18.9780 - val_mae: 2.6186\n",
      "Epoch 48/75\n",
      "404/404 [==============================] - 0s 128us/sample - loss: 6.6215 - mse: 6.6215 - mae: 1.8339 - val_loss: 17.7986 - val_mse: 17.7986 - val_mae: 2.5931\n",
      "Epoch 49/75\n",
      "404/404 [==============================] - 0s 133us/sample - loss: 6.0747 - mse: 6.0747 - mae: 1.7367 - val_loss: 21.1808 - val_mse: 21.1808 - val_mae: 2.8826\n",
      "Epoch 50/75\n",
      "404/404 [==============================] - 0s 133us/sample - loss: 6.2231 - mse: 6.2231 - mae: 1.7798 - val_loss: 17.7002 - val_mse: 17.7002 - val_mae: 2.5708\n",
      "Epoch 51/75\n",
      "404/404 [==============================] - 0s 143us/sample - loss: 6.0606 - mse: 6.0606 - mae: 1.7529 - val_loss: 18.2171 - val_mse: 18.2171 - val_mae: 2.5906\n",
      "Epoch 52/75\n",
      "404/404 [==============================] - 0s 128us/sample - loss: 6.0375 - mse: 6.0375 - mae: 1.7218 - val_loss: 20.1063 - val_mse: 20.1063 - val_mae: 2.8458\n",
      "Epoch 53/75\n",
      "404/404 [==============================] - 0s 123us/sample - loss: 6.3134 - mse: 6.3134 - mae: 1.7763 - val_loss: 19.0878 - val_mse: 19.0878 - val_mae: 2.6465\n",
      "Epoch 54/75\n",
      "404/404 [==============================] - 0s 127us/sample - loss: 5.8834 - mse: 5.8834 - mae: 1.7404 - val_loss: 17.8077 - val_mse: 17.8077 - val_mae: 2.6982\n",
      "Epoch 55/75\n",
      "404/404 [==============================] - 0s 128us/sample - loss: 5.8634 - mse: 5.8634 - mae: 1.7104 - val_loss: 17.8162 - val_mse: 17.8162 - val_mae: 2.5677\n",
      "Epoch 56/75\n",
      "404/404 [==============================] - 0s 139us/sample - loss: 5.8954 - mse: 5.8954 - mae: 1.6985 - val_loss: 19.1964 - val_mse: 19.1964 - val_mae: 2.6213\n",
      "Epoch 57/75\n",
      "404/404 [==============================] - 0s 147us/sample - loss: 6.0041 - mse: 6.0041 - mae: 1.7500 - val_loss: 18.6187 - val_mse: 18.6187 - val_mae: 2.6590\n",
      "Epoch 58/75\n",
      "404/404 [==============================] - 0s 135us/sample - loss: 5.6811 - mse: 5.6811 - mae: 1.7081 - val_loss: 16.9533 - val_mse: 16.9533 - val_mae: 2.5109\n",
      "Epoch 59/75\n",
      "404/404 [==============================] - 0s 147us/sample - loss: 5.5701 - mse: 5.5701 - mae: 1.6782 - val_loss: 17.2376 - val_mse: 17.2376 - val_mae: 2.5072\n",
      "Epoch 60/75\n",
      "404/404 [==============================] - 0s 137us/sample - loss: 5.4767 - mse: 5.4767 - mae: 1.6604 - val_loss: 17.1063 - val_mse: 17.1063 - val_mae: 2.5395\n",
      "Epoch 61/75\n",
      "404/404 [==============================] - 0s 129us/sample - loss: 5.4136 - mse: 5.4136 - mae: 1.6455 - val_loss: 18.1566 - val_mse: 18.1566 - val_mae: 2.7072\n",
      "Epoch 62/75\n",
      "404/404 [==============================] - 0s 124us/sample - loss: 5.4172 - mse: 5.4172 - mae: 1.6342 - val_loss: 18.2914 - val_mse: 18.2914 - val_mae: 2.6654\n",
      "Epoch 63/75\n",
      "404/404 [==============================] - 0s 127us/sample - loss: 5.5560 - mse: 5.5560 - mae: 1.6530 - val_loss: 17.1678 - val_mse: 17.1678 - val_mae: 2.4792\n",
      "Epoch 64/75\n",
      "404/404 [==============================] - 0s 132us/sample - loss: 5.4082 - mse: 5.4082 - mae: 1.6681 - val_loss: 16.6444 - val_mse: 16.6444 - val_mae: 2.5000\n",
      "Epoch 65/75\n",
      "404/404 [==============================] - 0s 131us/sample - loss: 5.3414 - mse: 5.3414 - mae: 1.6436 - val_loss: 16.5172 - val_mse: 16.5172 - val_mae: 2.4925\n",
      "Epoch 66/75\n",
      "404/404 [==============================] - 0s 134us/sample - loss: 5.4947 - mse: 5.4947 - mae: 1.6680 - val_loss: 16.8444 - val_mse: 16.8444 - val_mae: 2.5010\n",
      "Epoch 67/75\n",
      "404/404 [==============================] - 0s 129us/sample - loss: 5.3039 - mse: 5.3039 - mae: 1.6011 - val_loss: 16.6739 - val_mse: 16.6739 - val_mae: 2.5781\n",
      "Epoch 68/75\n",
      "404/404 [==============================] - 0s 142us/sample - loss: 5.1136 - mse: 5.1136 - mae: 1.6017 - val_loss: 15.8603 - val_mse: 15.8603 - val_mae: 2.4228\n",
      "Epoch 69/75\n",
      "404/404 [==============================] - 0s 136us/sample - loss: 5.0929 - mse: 5.0929 - mae: 1.5863 - val_loss: 18.1075 - val_mse: 18.1075 - val_mae: 2.6373\n",
      "Epoch 70/75\n",
      "404/404 [==============================] - 0s 141us/sample - loss: 5.1346 - mse: 5.1346 - mae: 1.6272 - val_loss: 16.1399 - val_mse: 16.1399 - val_mae: 2.4756\n",
      "Epoch 71/75\n",
      "404/404 [==============================] - 0s 145us/sample - loss: 5.0050 - mse: 5.0050 - mae: 1.5715 - val_loss: 16.3544 - val_mse: 16.3544 - val_mae: 2.5146\n",
      "Epoch 72/75\n",
      "404/404 [==============================] - 0s 130us/sample - loss: 4.9811 - mse: 4.9811 - mae: 1.6094 - val_loss: 17.1673 - val_mse: 17.1672 - val_mae: 2.7293\n",
      "Epoch 73/75\n",
      "404/404 [==============================] - 0s 132us/sample - loss: 4.9808 - mse: 4.9808 - mae: 1.5890 - val_loss: 15.7577 - val_mse: 15.7577 - val_mae: 2.4389\n",
      "Epoch 74/75\n",
      "404/404 [==============================] - 0s 134us/sample - loss: 4.8281 - mse: 4.8281 - mae: 1.5433 - val_loss: 18.4324 - val_mse: 18.4324 - val_mae: 2.8339\n",
      "Epoch 75/75\n",
      "404/404 [==============================] - 0s 139us/sample - loss: 4.9670 - mse: 4.9670 - mae: 1.5910 - val_loss: 16.7729 - val_mse: 16.7729 - val_mae: 2.4754\n"
     ]
    },
    {
     "data": {
      "text/plain": [
       "<tensorflow.python.keras.callbacks.History at 0x13acbd050>"
      ]
     },
     "execution_count": 5,
     "metadata": {},
     "output_type": "execute_result"
    }
   ],
=======
   "outputs": [],
>>>>>>> upstream/master
   "source": [
    "from tensorflow import keras\n",
    "from tensorflow.keras.models import Sequential\n",
    "from tensorflow.keras.layers import Dense\n",
    "\n",
    "# Important Hyperparameters\n",
    "inputs = x_train.shape[1]\n",
    "epochs = 75\n",
    "batch_size = 10\n",
    "\n",
    "\n",
    "# Create Model\n",
    "model = Sequential()\n",
    "model.add(Dense(64, activation='relu', input_shape=(inputs,)))\n",
    "model.add(Dense(64, activation='relu'))\n",
    "model.add(Dense(1))\n",
    "\n",
    "# Compile Model\n",
    "model.compile(optimizer='adam', loss='mse', metrics=['mse', 'mae'])\n",
    "\n",
    "# Fit Model\n",
    "model.fit(x_train, y_train, \n",
    "          validation_data=(x_test,y_test), \n",
    "          epochs=epochs, \n",
    "          batch_size=batch_size\n",
    "         )"
   ]
  },
  {
   "cell_type": "markdown",
   "metadata": {
    "colab_type": "text",
    "id": "sYJ8t_ezHP4W"
   },
   "source": [
    "### Hyperparameter Tuning Approaches:\n",
    "\n",
    "#### 1) Babysitting AKA \"Grad Student Descent\".\n",
    "\n",
    "If you fiddled with any hyperparameters yesterday, this is basically what you did. This approach is 100% manual and is pretty common among researchers where finding that 1 exact specification that jumps your model to a level of accuracy never seen before is the difference between publishing and not publishing a paper. Of course the professors don't do this themselves, that's grunt work. This is also known as the fiddle with hyperparameters until you run out of time method.\n",
    "\n",
    "#### 2) Grid Search\n",
    "\n",
    "Grid Search is the Grad Student galaxy brain realization of: why don't I just specify all the experiments I want to run and let the computer try every possible combination of them while I go and grab lunch. This has a specific downside in that if I specify 5 hyperparameters with 5 options each then I've just created 5^5 combinations of hyperparameters to check. Which means that I have to train 3125 different versions of my model Then if I use 5-fold Cross Validation on that then my model has to run 15,525 times. This is the brute-force method of hyperparameter tuning, but it can be very profitable if done wisely. \n",
    "\n",
    "When using Grid Search here's what I suggest: don't use it to test combinations of different hyperparameters, only use it to test different specifications of **a single** hyperparameter. It's rare that combinations between different hyperparameters lead to big performance gains. You'll get 90-95% of the way there if you just Grid Search one parameter and take the best result, then retain that best result while you test another, and then retain the best specification from that while you train another. This at least makes the situation much more manageable and leads to pretty good results. \n",
    "\n",
    "#### 3) Random Search\n",
    "\n",
    "Do Grid Search for a couple of hours and you'll say to yourself - \"There's got to be a better way.\" Enter Random Search. For Random search you specify a hyperparameter space and it picks specifications from that randomly, tries them out, gives you the best results and says - That's going to have to be good enough, go home and spend time with your family. \n",
    "\n",
    "Grid Search treats every parameter as if it was equally important, but this just isn't the case, some are known to move the needle a lot more than others (we'll talk about that in a minute). Random Search allows searching to be specified along the most important parameter and experiments less along the dimensions of less important hyperparameters. The downside of Random search is that it won't find the absolute best hyperparameters, but it is much less costly to perform than Grid Search. \n",
    "\n",
    "#### 4) Bayesian Methods\n",
    "\n",
    "One thing that can make more manual methods like babysitting and gridsearch effective is that as the experimenter sees results he can then make updates to his future searches taking into account the results of past specifications. If only we could hyperparameter tune our hyperparameter tuning. Well, we kind of can. Enter Bayesian Optimization. Neural Networks are like an optimization problem within an optimization problem, and Bayesian Optimization is a search strategy that tries to take into account the results of past searches in order to improve future ones. Check out the new library `keras-tuner` for easy implementations of Bayesian methods. \n"
   ]
  },
  {
   "cell_type": "markdown",
   "metadata": {
    "colab_type": "text",
    "id": "HfQ7D043OMMn"
   },
   "source": [
    "## What Hyperparameters are there to test?\n",
    "\n",
    "- batch_size\n",
    "- training epochs\n",
    "- optimization algorithms\n",
    "- learning rate\n",
    "- momentum\n",
    "- activation functions\n",
    "- dropout regularization\n",
    "- number of neurons in the hidden layer\n",
    "\n",
    "There are more, but these are the most important."
   ]
  },
  {
   "cell_type": "markdown",
   "metadata": {},
   "source": [
    "## Follow Along"
   ]
  },
  {
   "cell_type": "markdown",
   "metadata": {
    "colab_type": "text",
    "id": "Mri5-kXzVKAa"
   },
   "source": [
    "## Batch Size\n",
    "\n",
    "Batch size determines how many observations the model is shown before it calculates loss/error and updates the model weights via gradient descent. You're looking for a sweet spot here where you're showing it enough observations that you have enough information to updates the weights, but not such a large batch size that you don't get a lot of weight update iterations performed in a given epoch. Feed-forward Neural Networks aren't as sensitive to bach_size as other networks, but it is still an important hyperparameter to tune. Smaller batch sizes will also take longer to train. \n",
    "\n",
    "Traditionally, batch size is set in powers of 2 starting at 32 up to 512. Keras defaults to a batch size of 32 if you do not specify it. Yann LeCun famously Twitted: \n",
    "\n",
    "> Training with large minibatches is bad for your health.\n",
    "More importantly, it's bad for your test error.\n",
    "Friends dont let friends use minibatches larger than 32.\n",
    "\n",
    "Check out this paper for more reference on his tweet. https://arxiv.org/abs/1804.07612. \n",
    "\n",
    "Check out this SO question on why batch size is typically set in powers of two: https://datascience.stackexchange.com/questions/20179/what-is-the-advantage-of-keeping-batch-size-a-power-of-2\n",
    "\n"
   ]
  },
  {
   "cell_type": "code",
<<<<<<< HEAD
   "execution_count": 6,
=======
   "execution_count": null,
>>>>>>> upstream/master
   "metadata": {
    "colab": {
     "base_uri": "https://localhost:8080/",
     "height": 13561
    },
    "colab_type": "code",
    "id": "2smXfriNAGn7",
    "outputId": "ae996575-78e2-43fb-9dbe-5d44aaf0b430"
   },
<<<<<<< HEAD
   "outputs": [
    {
     "name": "stdout",
     "output_type": "stream",
     "text": [
      "Best: 0.6782616257667542 using {'batch_size': 20, 'epochs': 20}\n",
      "Means: 0.6236227869987487, Stdev: 0.030433848527170855 with: {'batch_size': 10, 'epochs': 20}\n",
      "Means: 0.6782616257667542, Stdev: 0.04996331935610831 with: {'batch_size': 20, 'epochs': 20}\n",
      "Means: 0.6485357880592346, Stdev: 0.06263756535784792 with: {'batch_size': 40, 'epochs': 20}\n",
      "Means: 0.6184874057769776, Stdev: 0.04736397169604113 with: {'batch_size': 60, 'epochs': 20}\n",
      "Means: 0.5623376667499542, Stdev: 0.0587839070023424 with: {'batch_size': 80, 'epochs': 20}\n",
      "Means: 0.5730073809623718, Stdev: 0.054072254573254 with: {'batch_size': 100, 'epochs': 20}\n"
     ]
    }
   ],
=======
   "outputs": [],
>>>>>>> upstream/master
   "source": [
    "import numpy\n",
    "import pandas as pd\n",
    "from sklearn.model_selection import GridSearchCV\n",
    "from tensorflow.keras.models import Sequential\n",
    "from tensorflow.keras.layers import Dense\n",
    "from tensorflow.keras.wrappers.scikit_learn import KerasClassifier\n",
    "\n",
    "# fix random seed for reproducibility\n",
    "seed = 7\n",
    "numpy.random.seed(seed)\n",
    "\n",
    "# load dataset\n",
    "url =\"https://raw.githubusercontent.com/jbrownlee/Datasets/master/pima-indians-diabetes.data.csv\"\n",
    "\n",
    "dataset = pd.read_csv(url, header=None).values\n",
    "\n",
    "# split into input (X) and output (Y) variables\n",
    "X = dataset[:,0:8]\n",
    "Y = dataset[:,8]\n",
    "\n",
    "# Function to create model, required for KerasClassifier\n",
    "def create_model():\n",
    "    # create model\n",
    "    model = Sequential()\n",
    "    model.add(Dense(12, input_dim=8, activation='relu'))\n",
    "    model.add(Dense(1, activation='sigmoid'))\n",
    "    # Compile model\n",
    "    model.compile(loss='binary_crossentropy', optimizer='adam', metrics=['accuracy'])\n",
    "    return model\n",
    "\n",
    "# create model\n",
    "model = KerasClassifier(build_fn=create_model, verbose=0)\n",
    "\n",
    "# define the grid search parameters\n",
    "# batch_size = [10, 20, 40, 60, 80, 100]\n",
    "# param_grid = dict(batch_size=batch_size, epochs=epochs)\n",
    "\n",
    "# define the grid search parameters\n",
    "param_grid = {'batch_size': [10, 20, 40, 60, 80, 100],\n",
    "              'epochs': [20]}\n",
    "\n",
    "# Create Grid Search\n",
    "grid = GridSearchCV(estimator=model, param_grid=param_grid, n_jobs=1)\n",
    "grid_result = grid.fit(X, Y)\n",
    "\n",
    "# Report Results\n",
    "print(f\"Best: {grid_result.best_score_} using {grid_result.best_params_}\")\n",
    "means = grid_result.cv_results_['mean_test_score']\n",
    "stds = grid_result.cv_results_['std_test_score']\n",
    "params = grid_result.cv_results_['params']\n",
    "for mean, stdev, param in zip(means, stds, params):\n",
    "    print(f\"Means: {mean}, Stdev: {stdev} with: {param}\") "
   ]
  },
  {
   "cell_type": "markdown",
   "metadata": {
    "colab_type": "text",
    "id": "EKcuY6OiaLfz"
   },
   "source": [
    "## Optimizer\n",
    "\n",
    "Remember that there's a different optimizers [optimizers](https://keras.io/optimizers/). At some point, take some time to read up on them a little bit. \"adam\" usually gives the best results. The thing to know about choosing an optimizer is that different optimizers have different hyperparameters like learning rate, momentum, etc. So based on the optimizer you choose you might also have to tune the learning rate and momentum of those optimizers after that. "
   ]
  },
  {
   "cell_type": "markdown",
   "metadata": {
    "colab_type": "text",
    "id": "DG3wq5iOaLig"
   },
   "source": [
    "## Learning Rate\n",
    "\n",
    "Remember that the Learning Rate is a hyperparameter that is specific to your gradient-descent based optimizer selection. A learning rate that is too high will cause divergent behavior, but a Learning Rate that is too low will fail to converge, again, you're looking for the sweet spot. I would start out tuning learning rates by orders of magnitude: [.001, .01, .1, .2, .3, .5] etc. I wouldn't go above .5, but you can try it and see what the behavior is like. \n",
    "\n",
    "Once you have narrowed it down, make the window even smaller and try it again. If after running the above specification your model reports that .1 is the best optimizer, then you should probably try things like [.05, .08, .1, .12, .15] to try and narrow it down. \n",
    "\n",
    "It can also be good to tune the number of epochs in combination with the learning rate since the number of iterations that you allow the learning rate to reach the minimum can determine if you have let it run long enough to converge to the minimum. "
   ]
  },
  {
   "cell_type": "code",
   "execution_count": null,
   "metadata": {},
   "outputs": [],
   "source": []
  },
  {
   "cell_type": "markdown",
   "metadata": {
    "colab_type": "text",
    "id": "gNTBUWd1aLlA"
   },
   "source": [
    "## Momentum\n",
    "\n",
    "Momentum is a hyperparameter that is more commonly associated with Stochastic Gradient Descent. SGD is a common optimizer because it's what people understand and know, but I doubt it will get you the best results, you can try hyperparameter tuning its attributes and see if you can beat the performance from adam. Momentum is a property that decides the willingness of an optimizer to overshoot the minimum. Imagine a ball rolling down one side of a bowl and then up the opposite side a little bit before settling back to the bottom. The purpose of momentum is to try and escale local minima."
   ]
  },
  {
   "cell_type": "markdown",
   "metadata": {
    "colab_type": "text",
    "id": "xnEG-bCJaLnZ"
   },
   "source": [
    "## Activation Functions\n",
    "\n",
    "We've talked about this a little bit, typically you'l want to use ReLU for hidden layers and either Sigmoid, or Softmax for output layers of binary and multi-class classification implementations respectively, but try other activation functions and see if you can get any better results with sigmoid or tanh or something. There are a lot of activation functions that we haven't really talked about. Maybe you'll get good results with them. Maybe you won't. :) <https://keras.io/activations/>"
   ]
  },
  {
   "cell_type": "markdown",
   "metadata": {
    "colab_type": "text",
    "id": "oul9sPq-dU-h"
   },
   "source": [
    "## Network Weight Initialization\n",
    "\n",
    "You saw how big of an effect the way that we initialize our network's weights can have on our results. There are **a lot** of what are called initialization modes. I don't understand all of them, but they can have a big affect on your model's initial accuracy. Your model will get further with less epochs if you initialize it with weights that are well suited to the problem you're trying to solve.\n",
    "\n",
    "`init_mode = ['uniform', 'lecun_uniform', 'normal', 'zero', 'glorot_normal', 'glorot_uniform', 'he_normal', 'he_uniform']`"
   ]
  },
  {
   "cell_type": "markdown",
   "metadata": {
    "colab_type": "text",
    "id": "bqtEuxeQaLqE"
   },
   "source": [
    "## Dropout Regularization and the Weight Constraint\n",
    "\n",
    "the Dropout Regularization value is a percentage of neurons that you want to be randomly deactivated during training. The weight constraint is a second regularization parameter that works in tandem with dropout regularization. You should tune these two values at the same time. \n",
    "\n",
    "Using dropout on visible vs hidden layers might have a different effect. Using dropout on hidden layers might not have any effect while using dropout on hidden layers might have a substantial effect. You don't necessarily need to turn use dropout unless you see that your model has overfitting and generalizability problems."
   ]
  },
  {
   "cell_type": "markdown",
   "metadata": {
    "colab_type": "text",
    "id": "P2c5Cv6oaLtO"
   },
   "source": [
    "## Neurons in Hidden Layer \n",
    "\n",
    "Remember that when we only had a single perceptron our model was only able to fit to linearly separable data, but as we have added layers and nodes to those layers our network has become a powerhouse of fitting nonlinearity in data. The larger the network and the more nodes generally the stronger the network's capacity to fit nonlinear patterns in data. The more nodes and layers the longer it will take to train a network, and higher the probability of overfitting. The larger your network gets the more you'll need dropout regularization or other regularization techniques to keep it in check. \n",
    "\n",
    "Typically depth (more layers) is more important than width (more nodes) for neural networks. This is part of why Deep Learning is so highly touted. Certain deep learning architectures have truly been huge breakthroughs for certain machine learning tasks. \n",
    "\n",
    "You might borrow ideas from other network architectures. For example if I was doing image recognition and I wasn't taking cues from state of the art architectures like resnet, alexnet, googlenet, etc. Then I'm probably going to have to do a lot more experimentation on my own before I find something that works.\n",
    "\n",
    "There are some heuristics, but I am highly skeptical of them. I think you're better off experimenting on your own and forming your own intuition for these kinds of problems. \n",
    "\n",
    "- https://machinelearningmastery.com/how-to-configure-the-number-of-layers-and-nodes-in-a-neural-network/"
   ]
  },
  {
   "cell_type": "markdown",
   "metadata": {},
   "source": [
    "## Challenge\n",
    "You will be expected to tune several hyperparameters in today's module project. "
   ]
  },
  {
   "cell_type": "markdown",
   "metadata": {},
   "source": [
    "# Experiment Tracking Framework (Learn)\n",
    "<a id=\"p2\"></a>"
   ]
  },
  {
   "cell_type": "markdown",
   "metadata": {},
   "source": [
    "## Overview\n",
    "\n",
    "You will notice quickly that managing the results of all the experiments you are running becomes challenging. Which set of parameters did the best? Are my results today different than my results yesterday? Although we use Ipython Notebooks to work, the format is not well suited to logging experimental results. Enter experiment tracking frameworks like [Comet.ml](https://comet.ml) and [Weights and Biases](https://wandb.ai/).\n",
    "\n",
    "Those tools will help you track your experiments, store the results, and the code associated with those experiments. Experimental results can also be readily visualized to see changes in performance across any metric you care about. Data is sent to the tool as each epoch is completed, so you can also see if your model is converging. Let's check out Weights & Biases today. "
   ]
  },
  {
   "cell_type": "markdown",
   "metadata": {},
   "source": [
    "## Follow Along\n",
    "\n",
    "Make sure you login into `wandb` in the terminal before running the next cell. "
   ]
  },
  {
   "cell_type": "code",
   "execution_count": null,
   "metadata": {},
   "outputs": [],
   "source": [
    "import wandb\n",
    "from wandb.keras import WandbCallback"
   ]
  },
  {
   "cell_type": "code",
   "execution_count": null,
   "metadata": {
    "colab": {
     "base_uri": "https://localhost:8080/",
     "height": 1750
    },
    "colab_type": "code",
    "id": "GMXVfmzXp1Oo",
    "outputId": "b05e251e-508f-46e6-865b-f869ae2a5dc4"
   },
   "outputs": [],
   "source": [
    "wandb.init(project=wandb_project, entity=wand_group) #Initializes and Experiment\n",
    "\n",
    "# Important Hyperparameters\n",
    "X =  x_train\n",
    "y =  y_train\n",
    "\n",
    "inputs = X.shape[1]\n",
    "wandb.config.epochs = 50\n",
    "wandb.config.batch_size = 10\n",
    "\n",
    "# Create Model\n",
    "model = Sequential()\n",
    "model.add(Dense(64, activation='relu', input_shape=(inputs,)))\n",
    "model.add(Dense(64, activation='relu'))\n",
    "model.add(Dense(64, activation='relu'))\n",
    "model.add(Dense(1))\n",
    "# Compile Model\n",
    "model.compile(optimizer='adam', loss='mse', metrics=['mse', 'mae'])\n",
    "\n",
    "# Fit Model\n",
    "model.fit(X, y, \n",
    "          validation_split=0.33, \n",
    "          epochs=wandb.config.epochs, \n",
    "          batch_size=wandb.config.batch_size, \n",
    "          callbacks=[WandbCallback()]\n",
    "         )"
   ]
  },
  {
   "cell_type": "markdown",
   "metadata": {},
   "source": [
    "### Your Turn\n",
    "\n",
    "Pick a few hyparameters that we *have not* tuned. Using the same code above, try changing a few parameters you're interested in and submitting the results to weights & biases. :) "
   ]
  },
  {
   "cell_type": "code",
   "execution_count": null,
   "metadata": {},
   "outputs": [],
   "source": [
    "wandb.init(project=wandb_project, entity=wand_group) #Initializes and Experiment\n",
    "\n",
    "wandb.config.epochs = 50\n",
    "wandb.config.batch_size = 10\n",
    "\n",
    "\n",
    "# Fit Model\n",
    "model.fit(\n",
    "          callbacks=[WandbCallback()]\n",
    "         )"
   ]
  },
  {
   "cell_type": "markdown",
   "metadata": {},
   "source": [
    "## Challenge\n",
    "\n",
    "You will be expected to use Weights & Biases to try to tune your model during your module assignment today. "
   ]
  },
  {
   "cell_type": "markdown",
   "metadata": {},
   "source": [
    "# Hyperparameters with RandomSearchCV (Learn)"
   ]
  },
  {
   "cell_type": "markdown",
   "metadata": {},
   "source": [
    "## Overview\n",
    "\n",
    "Basically `GridSearchCV` takes forever. You'll want to adopt a slightly more sophiscated strategy.\n",
    "\n",
    "Let's also take a look at an alternative with Keras-Tuner."
   ]
  },
  {
   "cell_type": "code",
   "execution_count": null,
   "metadata": {},
   "outputs": [],
   "source": [
    "!pip install keras-tuner"
   ]
  },
  {
   "cell_type": "markdown",
   "metadata": {},
   "source": [
    "## Follow Along"
   ]
  },
  {
   "cell_type": "code",
   "execution_count": null,
   "metadata": {},
   "outputs": [],
   "source": [
    "from tensorflow import keras\n",
    "from tensorflow.keras import layers\n",
    "from kerastuner.tuners import RandomSearch\n",
    "\n",
    "\"\"\"\n",
    "This model Tunes:\n",
    "- Number of Neurons in the Hidden Layer\n",
    "- Learning Rate in Adam\n",
    "\n",
    "\"\"\"\n",
    "\n",
    "def build_model(hp):\n",
    "    model = keras.Sequential()\n",
    "    model.add(layers.Dense(units=hp.Int('units',\n",
    "                                        min_value=32,\n",
    "                                        max_value=512,\n",
    "                                        step=32),\n",
    "                           activation='relu'))\n",
    "    model.add(layers.Dense(10, activation='softmax'))\n",
    "    model.compile(\n",
    "        optimizer=keras.optimizers.Adam(\n",
    "            hp.Choice('learning_rate',\n",
    "                      values=[1e-2, 1e-3, 1e-4])),\n",
    "        loss='sparse_categorical_crossentropy',\n",
    "        metrics=['accuracy'])\n",
    "    \n",
    "    return model"
   ]
  },
  {
   "cell_type": "code",
   "execution_count": null,
   "metadata": {},
   "outputs": [],
   "source": [
    "tuner = RandomSearch(\n",
    "    build_model,\n",
    "    objective='val_accuracy',\n",
    "    max_trials=5,\n",
    "    executions_per_trial=3,\n",
    "    directory='./keras-tuner-trial',\n",
    "    project_name='helloworld')"
   ]
  },
  {
   "cell_type": "code",
   "execution_count": null,
   "metadata": {},
   "outputs": [],
   "source": [
    "tuner.search_space_summary()"
   ]
  },
  {
   "cell_type": "code",
   "execution_count": null,
   "metadata": {},
   "outputs": [],
   "source": [
    "tuner.search(x, y,\n",
    "             epochs=5,\n",
    "             validation_data=(val_x, val_y))"
   ]
  },
  {
   "cell_type": "code",
   "execution_count": null,
   "metadata": {},
   "outputs": [],
   "source": [
    "tuner.results_summary()"
   ]
  },
  {
   "cell_type": "markdown",
   "metadata": {},
   "source": [
    "## Challenge\n",
    "\n",
    "Try to apply RandomSearchCV to your module project today. "
   ]
  },
  {
   "cell_type": "markdown",
   "metadata": {},
   "source": [
    "# Review\n",
    "* <a href=\"#p1\">Part 1</a>: Describe the major hyperparemeters to tune\n",
    "    - Activation Functions\n",
    "    - Optimizer\n",
    "    - Number of Layers\n",
    "    - Number of Neurons\n",
    "    - Batch Size\n",
    "    - Dropout Regulaization\n",
    "    - Learning Rate\n",
    "    - Number of Epochs\n",
    "    - and many more\n",
    "* <a href=\"#p2\">Part 2</a>: Implement an experiment tracking framework\n",
    "    - Weights & Biases\n",
    "    - Comet.ml\n",
    "    - By Hand / GridSearch\n",
    "* <a href=\"#p3\">Part 3</a>: Search the hyperparameter space using RandomSearch\n",
    "    - Sklearn still useful (haha)\n",
    "    - Integration with Wieghts & Biases\n",
    "* <a href=\"#p4\">Part 4</a>: Discuss emerging hyperparameter tuning strategies\n",
    "    - Bayesian Optimization\n",
    "    - Hyperopt\n",
    "    - Genetic Evolution"
   ]
  },
  {
   "cell_type": "markdown",
   "metadata": {},
   "source": [
    "# Sources"
   ]
  },
  {
   "cell_type": "markdown",
   "metadata": {},
   "source": [
    "## Additional Reading\n",
    "- https://machinelearningmastery.com/grid-search-hyperparameters-deep-learning-models-python-keras/\n",
    "- https://blog.floydhub.com/guide-to-hyperparameters-search-for-deep-learning-models/\n",
    "- https://machinelearningmastery.com/dropout-regularization-deep-learning-models-keras/\n",
    "- https://machinelearningmastery.com/introduction-to-weight-constraints-to-reduce-generalization-error-in-deep-learning/\n",
    "- https://machinelearningmastery.com/how-to-configure-the-number-of-layers-and-nodes-in-a-neural-network/"
   ]
  }
 ],
 "metadata": {
  "kernelspec": {
<<<<<<< HEAD
   "display_name": "U4-S2",
   "language": "python",
   "name": "ds-12-unit-4-sprint-2"
=======
   "display_name": "U4-S2-NNF-DS12",
   "language": "python",
   "name": "u4-s2-nnf-ds12"
>>>>>>> upstream/master
  },
  "language_info": {
   "codemirror_mode": {
    "name": "ipython",
    "version": 3
   },
   "file_extension": ".py",
   "mimetype": "text/x-python",
   "name": "python",
   "nbconvert_exporter": "python",
   "pygments_lexer": "ipython3",
   "version": "3.7.7"
  }
 },
 "nbformat": 4,
 "nbformat_minor": 4
}
