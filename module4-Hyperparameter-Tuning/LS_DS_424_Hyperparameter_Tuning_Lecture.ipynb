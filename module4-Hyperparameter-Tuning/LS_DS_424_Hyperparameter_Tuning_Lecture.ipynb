{
 "cells": [
  {
   "cell_type": "markdown",
   "metadata": {
    "colab_type": "text",
    "id": "41TS0Sa0rDNx"
   },
   "source": [
    "Lambda School Data Science\n",
    "\n",
    "*Unit 4, Sprint 2, Module 4*\n",
    "\n",
    "---"
   ]
  },
  {
   "cell_type": "markdown",
   "metadata": {
    "colab_type": "text",
    "id": "41TS0Sa0rDNx"
   },
   "source": [
    "# Neural Networks & GPUs (Prepare)\n",
    "*aka Hyperparameter Tuning*\n",
    "\n",
    "*aka Big Servers for Big Problems*"
   ]
  },
  {
   "cell_type": "markdown",
   "metadata": {
    "colab_type": "text",
    "id": "41TS0Sa0rDNx"
   },
   "source": [
    "## Learning Objectives\n",
    "* <a href=\"#p1\">Part 1</a>: Describe the major hyperparemeters to tune\n",
    "* <a href=\"#p2\">Part 2</a>: Implement an experiment tracking framework\n",
    "* <a href=\"#p3\">Part 3</a>: Search the hyperparameter space using RandomSearch (Optional)"
   ]
  },
  {
   "cell_type": "code",
   "execution_count": 1,
   "metadata": {},
   "outputs": [],
   "source": [
    "wandb_group = \"ds8\"\n",
    "wandb_project = \"inclass\""
   ]
  },
  {
   "cell_type": "markdown",
   "metadata": {},
   "source": [
    "# Hyperparameter Options (Learn)\n",
    "<a id=\"p1\"></a>"
   ]
  },
  {
   "cell_type": "markdown",
   "metadata": {},
   "source": [
    "## Overview\n",
    "\n",
    "Hyperparameter tuning is much more important with neural networks than it has been with any other models that we have considered up to this point. Other supervised learning models might have a couple of parameters, but neural networks can have dozens. These can substantially affect the accuracy of our models and although it can be a time consuming process is a necessary step when working with neural networks.\n",
    "​\n",
    "Hyperparameter tuning comes with a challenge. How can we compare models specified with different hyperparameters if our model's final error metric can vary somewhat erratically? How do we avoid just getting unlucky and selecting the wrong hyperparameter? This is a problem that to a certain degree we just have to live with as we test and test again. However, we can minimize it somewhat by pairing our experiments with Cross Validation to reduce the variance of our final accuracy values."
   ]
  },
  {
   "cell_type": "markdown",
   "metadata": {
    "colab_type": "text",
    "id": "0s0o2pqBs88q"
   },
   "source": [
    "### Load Boston Housing Data"
   ]
  },
  {
   "cell_type": "code",
   "execution_count": 2,
   "metadata": {},
   "outputs": [],
   "source": [
    "from tensorflow.keras.datasets import boston_housing\n",
    "\n",
    "(x_train, y_train), (x_test, y_test) = boston_housing.load_data()"
   ]
  },
  {
   "cell_type": "markdown",
   "metadata": {
    "colab_type": "text",
    "id": "Pm7zow5IvaTt"
   },
   "source": [
    "### Normalizing Input Data\n",
    "\n",
    "It's not 100% necessary to normalize/scale your input data before feeding it to a neural network, the network can learn the appropriate weights to deal with data of as long as it is numerically represented,  but it is recommended as it can help **make training faster** and **reduces the chances that gradient descent might get stuck in a local optimum**.\n",
    "\n",
    "<https://stackoverflow.com/questions/4674623/why-do-we-have-to-normalize-the-input-for-an-artificial-neural-network>"
   ]
  },
  {
   "cell_type": "code",
   "execution_count": 3,
   "metadata": {},
   "outputs": [
    {
     "name": "stdout",
     "output_type": "stream",
     "text": [
      "[[-0.27224633 -0.48361547 -0.43576161 -0.25683275 -0.1652266  -0.1764426\n",
      "   0.81306188  0.1166983  -0.62624905 -0.59517003  1.14850044  0.44807713\n",
      "   0.8252202 ]\n",
      " [-0.40342651  2.99178419 -1.33391162 -0.25683275 -1.21518188  1.89434613\n",
      "  -1.91036058  1.24758524 -0.85646254 -0.34843254 -1.71818909  0.43190599\n",
      "  -1.32920239]\n",
      " [ 0.1249402  -0.48361547  1.0283258  -0.25683275  0.62864202 -1.82968811\n",
      "   1.11048828 -1.18743907  1.67588577  1.5652875   0.78447637  0.22061726\n",
      "  -1.30850006]\n",
      " [-0.40149354 -0.48361547 -0.86940196 -0.25683275 -0.3615597  -0.3245576\n",
      "  -1.23667187  1.10717989 -0.51114231 -1.094663    0.78447637  0.44807713\n",
      "  -0.65292624]\n",
      " [-0.0056343  -0.48361547  1.0283258  -0.25683275  1.32861221  0.15364225\n",
      "   0.69480801 -0.57857203  1.67588577  1.5652875   0.78447637  0.3898823\n",
      "   0.26349695]\n",
      " [-0.37502238 -0.48361547 -0.54747912 -0.25683275 -0.54935658 -0.78865126\n",
      "   0.18954148  0.48371503 -0.51114231 -0.71552978  0.51145832  0.38669063\n",
      "  -0.13812828]\n",
      " [ 0.58963463 -0.48361547  1.0283258  -0.25683275  1.21764133 -1.03127774\n",
      "   1.11048828 -1.06518235  1.67588577  1.5652875   0.78447637  0.44807713\n",
      "   1.49873604]\n",
      " [ 0.0381708  -0.48361547  1.24588095 -0.25683275  2.67733525 -1.12719983\n",
      "   1.11048828 -1.14833073 -0.51114231 -0.01744323 -1.71818909  0.44807713\n",
      "   1.88793986]\n",
      " [-0.17228416 -0.48361547  1.24588095 -0.25683275  2.67733525 -0.90150078\n",
      "   1.11048828 -1.09664657 -0.51114231 -0.01744323 -1.71818909 -1.97365769\n",
      "   0.53952803]\n",
      " [-0.22932104 -0.48361547  1.58544339 -0.25683275  0.56888847 -1.76056777\n",
      "   1.11048828 -1.13471925 -0.62624905  0.18716835  1.23950646  0.44807713\n",
      "   2.99068404]]\n"
     ]
    }
   ],
   "source": [
    "from sklearn.preprocessing import StandardScaler\n",
    "\n",
    "scaler = StandardScaler()\n",
    "\n",
    "x_train = scaler.fit_transform(x_train)\n",
    "x_test = scaler.transform(x_test)\n",
    "print(x_train[:10])"
   ]
  },
  {
   "cell_type": "markdown",
   "metadata": {
    "colab_type": "text",
    "id": "l6hgCWbir90R"
   },
   "source": [
    "### Model Validation using an automatic verification Dataset\n",
    "\n",
    "Instead of doing seperate train test split class, Keras has a really nice feature that you can set the validation.data argument when fitting your model and Keras will take that portion of your test data and use it as a validation dataset. "
   ]
  },
  {
   "cell_type": "code",
   "execution_count": 4,
   "metadata": {
    "colab": {
     "base_uri": "https://localhost:8080/",
     "height": 1750
    },
    "colab_type": "code",
    "id": "GMXVfmzXp1Oo",
    "outputId": "b05e251e-508f-46e6-865b-f869ae2a5dc4"
   },
   "outputs": [
    {
     "name": "stdout",
     "output_type": "stream",
     "text": [
      "Train on 404 samples, validate on 102 samples\n",
      "Epoch 1/75\n",
      "404/404 [==============================] - 1s 3ms/sample - loss: 525.1224 - mse: 525.1224 - mae: 20.9243 - val_loss: 469.9894 - val_mse: 469.9894 - val_mae: 19.6101\n",
      "Epoch 2/75\n",
      "404/404 [==============================] - 0s 328us/sample - loss: 306.7343 - mse: 306.7343 - mae: 15.2505 - val_loss: 162.9137 - val_mse: 162.9137 - val_mae: 11.0016\n",
      "Epoch 3/75\n",
      "404/404 [==============================] - 0s 380us/sample - loss: 84.8296 - mse: 84.8296 - mae: 6.9767 - val_loss: 56.5877 - val_mse: 56.5877 - val_mae: 6.0165\n",
      "Epoch 4/75\n",
      "404/404 [==============================] - 0s 348us/sample - loss: 40.8778 - mse: 40.8778 - mae: 4.6619 - val_loss: 31.8876 - val_mse: 31.8876 - val_mae: 4.4496\n",
      "Epoch 5/75\n",
      "404/404 [==============================] - 0s 321us/sample - loss: 25.5075 - mse: 25.5074 - mae: 3.5257 - val_loss: 26.2655 - val_mse: 26.2655 - val_mae: 4.0196\n",
      "Epoch 6/75\n",
      "404/404 [==============================] - 0s 284us/sample - loss: 20.9726 - mse: 20.9726 - mae: 3.1574 - val_loss: 24.1889 - val_mse: 24.1889 - val_mae: 3.7751\n",
      "Epoch 7/75\n",
      "404/404 [==============================] - 0s 291us/sample - loss: 18.7275 - mse: 18.7275 - mae: 3.0029 - val_loss: 24.1950 - val_mse: 24.1950 - val_mae: 3.7284\n",
      "Epoch 8/75\n",
      "404/404 [==============================] - 0s 264us/sample - loss: 16.9531 - mse: 16.9531 - mae: 2.8610 - val_loss: 24.5001 - val_mse: 24.5001 - val_mae: 3.6867\n",
      "Epoch 9/75\n",
      "404/404 [==============================] - 0s 312us/sample - loss: 15.8362 - mse: 15.8362 - mae: 2.7912 - val_loss: 23.2986 - val_mse: 23.2986 - val_mae: 3.5595\n",
      "Epoch 10/75\n",
      "404/404 [==============================] - 0s 434us/sample - loss: 14.5602 - mse: 14.5602 - mae: 2.6463 - val_loss: 22.5228 - val_mse: 22.5228 - val_mae: 3.4718\n",
      "Epoch 11/75\n",
      "404/404 [==============================] - 0s 254us/sample - loss: 13.6475 - mse: 13.6475 - mae: 2.5801 - val_loss: 22.9948 - val_mse: 22.9948 - val_mae: 3.4514\n",
      "Epoch 12/75\n",
      "404/404 [==============================] - 0s 365us/sample - loss: 13.0579 - mse: 13.0579 - mae: 2.5535 - val_loss: 23.5395 - val_mse: 23.5395 - val_mae: 3.4238\n",
      "Epoch 13/75\n",
      "404/404 [==============================] - 0s 359us/sample - loss: 12.2869 - mse: 12.2869 - mae: 2.4628 - val_loss: 23.5590 - val_mse: 23.5590 - val_mae: 3.3880\n",
      "Epoch 14/75\n",
      "404/404 [==============================] - 0s 335us/sample - loss: 11.7470 - mse: 11.7470 - mae: 2.4241 - val_loss: 23.0123 - val_mse: 23.0123 - val_mae: 3.3427\n",
      "Epoch 15/75\n",
      "404/404 [==============================] - 0s 336us/sample - loss: 11.3321 - mse: 11.3321 - mae: 2.3885 - val_loss: 23.1581 - val_mse: 23.1581 - val_mae: 3.3080\n",
      "Epoch 16/75\n",
      "404/404 [==============================] - 0s 338us/sample - loss: 10.9878 - mse: 10.9878 - mae: 2.3592 - val_loss: 22.1232 - val_mse: 22.1232 - val_mae: 3.2020\n",
      "Epoch 17/75\n",
      "404/404 [==============================] - 0s 373us/sample - loss: 10.7308 - mse: 10.7308 - mae: 2.2916 - val_loss: 23.9530 - val_mse: 23.9530 - val_mae: 3.3502\n",
      "Epoch 18/75\n",
      "404/404 [==============================] - 0s 363us/sample - loss: 10.5448 - mse: 10.5448 - mae: 2.3308 - val_loss: 23.7633 - val_mse: 23.7633 - val_mae: 3.3035\n",
      "Epoch 19/75\n",
      "404/404 [==============================] - 0s 272us/sample - loss: 10.2790 - mse: 10.2790 - mae: 2.2655 - val_loss: 23.3364 - val_mse: 23.3364 - val_mae: 3.2045\n",
      "Epoch 20/75\n",
      "404/404 [==============================] - 0s 289us/sample - loss: 9.9185 - mse: 9.9185 - mae: 2.2118 - val_loss: 22.8246 - val_mse: 22.8246 - val_mae: 3.1493\n",
      "Epoch 21/75\n",
      "404/404 [==============================] - 0s 329us/sample - loss: 9.8568 - mse: 9.8568 - mae: 2.2505 - val_loss: 22.7635 - val_mse: 22.7635 - val_mae: 3.1602\n",
      "Epoch 22/75\n",
      "404/404 [==============================] - 0s 309us/sample - loss: 9.7701 - mse: 9.7701 - mae: 2.1971 - val_loss: 22.0968 - val_mse: 22.0968 - val_mae: 3.1126\n",
      "Epoch 23/75\n",
      "404/404 [==============================] - 0s 325us/sample - loss: 9.4990 - mse: 9.4990 - mae: 2.1723 - val_loss: 23.4956 - val_mse: 23.4956 - val_mae: 3.2046\n",
      "Epoch 24/75\n",
      "404/404 [==============================] - 0s 334us/sample - loss: 9.2831 - mse: 9.2831 - mae: 2.1669 - val_loss: 23.1674 - val_mse: 23.1674 - val_mae: 3.1491\n",
      "Epoch 25/75\n",
      "404/404 [==============================] - 0s 349us/sample - loss: 9.2562 - mse: 9.2562 - mae: 2.1725 - val_loss: 21.9085 - val_mse: 21.9085 - val_mae: 3.0275\n",
      "Epoch 26/75\n",
      "404/404 [==============================] - 0s 432us/sample - loss: 9.0448 - mse: 9.0448 - mae: 2.1440 - val_loss: 22.2793 - val_mse: 22.2793 - val_mae: 3.1005\n",
      "Epoch 27/75\n",
      "404/404 [==============================] - 0s 393us/sample - loss: 9.0108 - mse: 9.0108 - mae: 2.1337 - val_loss: 23.6314 - val_mse: 23.6314 - val_mae: 3.2099\n",
      "Epoch 28/75\n",
      "404/404 [==============================] - 0s 328us/sample - loss: 8.7898 - mse: 8.7898 - mae: 2.0773 - val_loss: 23.2286 - val_mse: 23.2286 - val_mae: 3.1874\n",
      "Epoch 29/75\n",
      "404/404 [==============================] - 0s 363us/sample - loss: 8.8239 - mse: 8.8239 - mae: 2.1263 - val_loss: 22.5564 - val_mse: 22.5564 - val_mae: 3.0517\n",
      "Epoch 30/75\n",
      "404/404 [==============================] - 0s 291us/sample - loss: 8.4759 - mse: 8.4759 - mae: 2.0542 - val_loss: 21.3578 - val_mse: 21.3578 - val_mae: 2.9602\n",
      "Epoch 31/75\n",
      "404/404 [==============================] - 0s 311us/sample - loss: 8.5493 - mse: 8.5493 - mae: 2.0948 - val_loss: 21.9872 - val_mse: 21.9872 - val_mae: 2.9950\n",
      "Epoch 32/75\n",
      "404/404 [==============================] - 0s 526us/sample - loss: 8.4767 - mse: 8.4767 - mae: 2.0426 - val_loss: 22.9321 - val_mse: 22.9321 - val_mae: 3.1425\n",
      "Epoch 33/75\n",
      "404/404 [==============================] - 0s 369us/sample - loss: 8.3059 - mse: 8.3059 - mae: 2.0478 - val_loss: 22.1725 - val_mse: 22.1724 - val_mae: 3.0369\n",
      "Epoch 34/75\n",
      "404/404 [==============================] - 0s 321us/sample - loss: 8.3445 - mse: 8.3445 - mae: 2.0968 - val_loss: 20.9426 - val_mse: 20.9426 - val_mae: 2.9709\n",
      "Epoch 35/75\n",
      "404/404 [==============================] - 0s 349us/sample - loss: 8.0896 - mse: 8.0896 - mae: 2.0008 - val_loss: 21.8273 - val_mse: 21.8273 - val_mae: 2.9880\n",
      "Epoch 36/75\n",
      "404/404 [==============================] - 0s 379us/sample - loss: 7.9381 - mse: 7.9381 - mae: 2.0101 - val_loss: 21.6738 - val_mse: 21.6738 - val_mae: 2.9399\n",
      "Epoch 37/75\n",
      "404/404 [==============================] - 0s 380us/sample - loss: 7.7215 - mse: 7.7215 - mae: 1.9789 - val_loss: 21.7525 - val_mse: 21.7525 - val_mae: 2.9546\n",
      "Epoch 38/75\n",
      "404/404 [==============================] - 0s 538us/sample - loss: 7.8742 - mse: 7.8742 - mae: 1.9992 - val_loss: 19.9811 - val_mse: 19.9811 - val_mae: 2.8885\n",
      "Epoch 39/75\n",
      "404/404 [==============================] - 0s 390us/sample - loss: 8.1776 - mse: 8.1776 - mae: 2.0102 - val_loss: 20.2863 - val_mse: 20.2863 - val_mae: 2.9307\n",
      "Epoch 40/75\n",
      "404/404 [==============================] - 0s 378us/sample - loss: 8.1022 - mse: 8.1022 - mae: 2.0393 - val_loss: 20.6524 - val_mse: 20.6524 - val_mae: 2.9393\n",
      "Epoch 41/75\n",
      "404/404 [==============================] - 0s 305us/sample - loss: 7.6780 - mse: 7.6780 - mae: 1.9755 - val_loss: 20.6051 - val_mse: 20.6051 - val_mae: 2.9384\n",
      "Epoch 42/75\n",
      "404/404 [==============================] - 0s 412us/sample - loss: 7.4857 - mse: 7.4857 - mae: 1.9376 - val_loss: 20.0481 - val_mse: 20.0481 - val_mae: 2.8584\n",
      "Epoch 43/75\n",
      "404/404 [==============================] - 0s 326us/sample - loss: 7.4572 - mse: 7.4572 - mae: 1.9161 - val_loss: 21.1051 - val_mse: 21.1051 - val_mae: 2.9288\n",
      "Epoch 44/75\n",
      "404/404 [==============================] - 0s 415us/sample - loss: 7.2538 - mse: 7.2538 - mae: 1.9123 - val_loss: 21.0843 - val_mse: 21.0843 - val_mae: 2.9418\n",
      "Epoch 45/75\n",
      "404/404 [==============================] - 0s 374us/sample - loss: 7.2373 - mse: 7.2373 - mae: 1.9525 - val_loss: 20.7901 - val_mse: 20.7901 - val_mae: 2.8803\n",
      "Epoch 46/75\n",
      "404/404 [==============================] - 0s 400us/sample - loss: 7.0295 - mse: 7.0295 - mae: 1.8844 - val_loss: 20.4900 - val_mse: 20.4900 - val_mae: 2.8610\n",
      "Epoch 47/75\n",
      "404/404 [==============================] - 0s 427us/sample - loss: 7.0945 - mse: 7.0945 - mae: 1.8967 - val_loss: 19.3877 - val_mse: 19.3877 - val_mae: 2.7758\n",
      "Epoch 48/75\n",
      "404/404 [==============================] - 0s 363us/sample - loss: 6.8242 - mse: 6.8242 - mae: 1.8505 - val_loss: 21.2970 - val_mse: 21.2970 - val_mae: 2.9778\n",
      "Epoch 49/75\n",
      "404/404 [==============================] - 0s 336us/sample - loss: 7.0397 - mse: 7.0397 - mae: 1.8990 - val_loss: 18.9809 - val_mse: 18.9809 - val_mae: 2.7971\n",
      "Epoch 50/75\n",
      "404/404 [==============================] - 0s 422us/sample - loss: 6.8884 - mse: 6.8884 - mae: 1.8921 - val_loss: 20.3720 - val_mse: 20.3720 - val_mae: 2.8550\n",
      "Epoch 51/75\n",
      "404/404 [==============================] - 0s 440us/sample - loss: 6.6997 - mse: 6.6997 - mae: 1.8653 - val_loss: 20.1558 - val_mse: 20.1558 - val_mae: 2.8979\n",
      "Epoch 52/75\n",
      "404/404 [==============================] - 0s 370us/sample - loss: 6.8483 - mse: 6.8483 - mae: 1.8775 - val_loss: 18.7945 - val_mse: 18.7945 - val_mae: 2.7803\n",
      "Epoch 53/75\n",
      "404/404 [==============================] - 0s 257us/sample - loss: 6.6980 - mse: 6.6980 - mae: 1.8783 - val_loss: 19.8982 - val_mse: 19.8982 - val_mae: 2.8874\n",
      "Epoch 54/75\n",
      "404/404 [==============================] - 0s 173us/sample - loss: 6.5489 - mse: 6.5489 - mae: 1.8512 - val_loss: 18.2311 - val_mse: 18.2311 - val_mae: 2.7320\n",
      "Epoch 55/75\n",
      "404/404 [==============================] - 0s 242us/sample - loss: 6.5002 - mse: 6.5002 - mae: 1.8099 - val_loss: 18.8383 - val_mse: 18.8383 - val_mae: 2.7406\n",
      "Epoch 56/75\n",
      "404/404 [==============================] - 0s 326us/sample - loss: 6.4010 - mse: 6.4010 - mae: 1.7633 - val_loss: 20.3383 - val_mse: 20.3383 - val_mae: 2.9217\n",
      "Epoch 57/75\n",
      "404/404 [==============================] - 0s 341us/sample - loss: 6.3951 - mse: 6.3951 - mae: 1.8134 - val_loss: 18.3416 - val_mse: 18.3416 - val_mae: 2.7257\n",
      "Epoch 58/75\n",
      "404/404 [==============================] - 0s 437us/sample - loss: 6.3115 - mse: 6.3115 - mae: 1.7826 - val_loss: 18.7487 - val_mse: 18.7487 - val_mae: 2.7659\n",
      "Epoch 59/75\n",
      "404/404 [==============================] - 0s 346us/sample - loss: 6.2283 - mse: 6.2283 - mae: 1.7790 - val_loss: 19.4130 - val_mse: 19.4130 - val_mae: 2.8014\n",
      "Epoch 60/75\n",
      "404/404 [==============================] - 0s 370us/sample - loss: 6.1687 - mse: 6.1687 - mae: 1.7673 - val_loss: 18.1061 - val_mse: 18.1061 - val_mae: 2.6988\n",
      "Epoch 61/75\n",
      "404/404 [==============================] - 0s 373us/sample - loss: 6.2749 - mse: 6.2749 - mae: 1.8234 - val_loss: 18.6924 - val_mse: 18.6924 - val_mae: 2.7684\n",
      "Epoch 62/75\n",
      "404/404 [==============================] - 0s 363us/sample - loss: 5.9075 - mse: 5.9076 - mae: 1.7265 - val_loss: 18.4129 - val_mse: 18.4129 - val_mae: 2.7386\n",
      "Epoch 63/75\n",
      "404/404 [==============================] - 0s 302us/sample - loss: 6.0505 - mse: 6.0505 - mae: 1.7457 - val_loss: 19.2128 - val_mse: 19.2128 - val_mae: 2.9118\n",
      "Epoch 64/75\n",
      "404/404 [==============================] - 0s 365us/sample - loss: 5.9257 - mse: 5.9257 - mae: 1.7427 - val_loss: 18.6207 - val_mse: 18.6207 - val_mae: 2.7382\n",
      "Epoch 65/75\n",
      "404/404 [==============================] - 0s 316us/sample - loss: 5.7327 - mse: 5.7327 - mae: 1.7101 - val_loss: 17.9396 - val_mse: 17.9396 - val_mae: 2.7151\n",
      "Epoch 66/75\n",
      "404/404 [==============================] - 0s 363us/sample - loss: 5.6124 - mse: 5.6124 - mae: 1.7097 - val_loss: 17.3349 - val_mse: 17.3349 - val_mae: 2.6890\n",
      "Epoch 67/75\n",
      "404/404 [==============================] - 0s 448us/sample - loss: 5.8566 - mse: 5.8566 - mae: 1.7178 - val_loss: 16.4101 - val_mse: 16.4101 - val_mae: 2.6247\n",
      "Epoch 68/75\n",
      "404/404 [==============================] - 0s 344us/sample - loss: 5.5815 - mse: 5.5815 - mae: 1.6807 - val_loss: 17.5766 - val_mse: 17.5766 - val_mae: 2.7402\n",
      "Epoch 69/75\n",
      "404/404 [==============================] - 0s 365us/sample - loss: 5.7515 - mse: 5.7515 - mae: 1.6843 - val_loss: 17.8402 - val_mse: 17.8402 - val_mae: 2.7779\n",
      "Epoch 70/75\n",
      "404/404 [==============================] - 0s 385us/sample - loss: 5.6548 - mse: 5.6548 - mae: 1.7199 - val_loss: 17.1589 - val_mse: 17.1589 - val_mae: 2.6982\n",
      "Epoch 71/75\n",
      "404/404 [==============================] - 0s 409us/sample - loss: 5.7379 - mse: 5.7379 - mae: 1.7670 - val_loss: 16.4737 - val_mse: 16.4737 - val_mae: 2.6035\n",
      "Epoch 72/75\n",
      "404/404 [==============================] - 0s 433us/sample - loss: 5.6821 - mse: 5.6821 - mae: 1.7342 - val_loss: 17.6169 - val_mse: 17.6169 - val_mae: 2.8266\n",
      "Epoch 73/75\n",
      "404/404 [==============================] - 0s 405us/sample - loss: 5.4522 - mse: 5.4522 - mae: 1.6678 - val_loss: 15.5479 - val_mse: 15.5479 - val_mae: 2.5739\n",
      "Epoch 74/75\n",
      "404/404 [==============================] - 0s 395us/sample - loss: 5.4450 - mse: 5.4450 - mae: 1.6849 - val_loss: 17.1666 - val_mse: 17.1666 - val_mae: 2.7427\n",
      "Epoch 75/75\n",
      "404/404 [==============================] - 0s 295us/sample - loss: 5.2476 - mse: 5.2476 - mae: 1.6642 - val_loss: 15.8512 - val_mse: 15.8512 - val_mae: 2.6404\n"
     ]
    },
    {
     "data": {
      "text/plain": [
       "<tensorflow.python.keras.callbacks.History at 0x15350f77550>"
      ]
     },
     "execution_count": 4,
     "metadata": {},
     "output_type": "execute_result"
    }
   ],
   "source": [
    "from tensorflow import keras\n",
    "from tensorflow.keras.models import Sequential\n",
    "from tensorflow.keras.layers import Dense\n",
    "\n",
    "# Important Hyperparameters\n",
    "inputs = x_train.shape[1]\n",
    "epochs = 75\n",
    "batch_size = 10\n",
    "\n",
    "\n",
    "# Create Model\n",
    "model = Sequential()\n",
    "model.add(Dense(64, activation='relu', input_shape=(inputs,)))\n",
    "model.add(Dense(64, activation='relu'))\n",
    "model.add(Dense(1))\n",
    "\n",
    "# Compile Model\n",
    "model.compile(optimizer='adam', loss='mse', metrics=['mse', 'mae'])\n",
    "\n",
    "# Fit Model\n",
    "model.fit(x_train, y_train, \n",
    "          validation_data=(x_test,y_test), \n",
    "          epochs=epochs, \n",
    "          batch_size=batch_size\n",
    "         )"
   ]
  },
  {
   "cell_type": "markdown",
   "metadata": {
    "colab_type": "text",
    "id": "sYJ8t_ezHP4W"
   },
   "source": [
    "### Hyperparameter Tuning Approaches:\n",
    "\n",
    "#### 1) Babysitting AKA \"Grad Student Descent\".\n",
    "\n",
    "If you fiddled with any hyperparameters yesterday, this is basically what you did. This approach is 100% manual and is pretty common among researchers where finding that 1 exact specification that jumps your model to a level of accuracy never seen before is the difference between publishing and not publishing a paper. Of course the professors don't do this themselves, that's grunt work. This is also known as the fiddle with hyperparameters until you run out of time method.\n",
    "\n",
    "#### 2) Grid Search\n",
    "\n",
    "Grid Search is the Grad Student galaxy brain realization of: why don't I just specify all the experiments I want to run and let the computer try every possible combination of them while I go and grab lunch. This has a specific downside in that if I specify 5 hyperparameters with 5 options each then I've just created 5^5 combinations of hyperparameters to check. Which means that I have to train 3125 different versions of my model Then if I use 5-fold Cross Validation on that then my model has to run 15,525 times. This is the brute-force method of hyperparameter tuning, but it can be very profitable if done wisely. \n",
    "\n",
    "When using Grid Search here's what I suggest: don't use it to test combinations of different hyperparameters, only use it to test different specifications of **a single** hyperparameter. It's rare that combinations between different hyperparameters lead to big performance gains. You'll get 90-95% of the way there if you just Grid Search one parameter and take the best result, then retain that best result while you test another, and then retain the best specification from that while you train another. This at least makes the situation much more manageable and leads to pretty good results. \n",
    "\n",
    "#### 3) Random Search\n",
    "\n",
    "Do Grid Search for a couple of hours and you'll say to yourself - \"There's got to be a better way.\" Enter Random Search. For Random search you specify a hyperparameter space and it picks specifications from that randomly, tries them out, gives you the best results and says - That's going to have to be good enough, go home and spend time with your family. \n",
    "\n",
    "Grid Search treats every parameter as if it was equally important, but this just isn't the case, some are known to move the needle a lot more than others (we'll talk about that in a minute). Random Search allows searching to be specified along the most important parameter and experiments less along the dimensions of less important hyperparameters. The downside of Random search is that it won't find the absolute best hyperparameters, but it is much less costly to perform than Grid Search. \n",
    "\n",
    "#### 4) Bayesian Methods\n",
    "\n",
    "One thing that can make more manual methods like babysitting and gridsearch effective is that as the experimenter sees results he can then make updates to his future searches taking into account the results of past specifications. If only we could hyperparameter tune our hyperparameter tuning. Well, we kind of can. Enter Bayesian Optimization. Neural Networks are like an optimization problem within an optimization problem, and Bayesian Optimization is a search strategy that tries to take into account the results of past searches in order to improve future ones. This is the most advanced method but can be a little bit tricky to implement, but there are some early steps with `hyperas` which is Bayesian optimization wrapper for `keras`. "
   ]
  },
  {
   "cell_type": "markdown",
   "metadata": {
    "colab_type": "text",
    "id": "HfQ7D043OMMn"
   },
   "source": [
    "## What Hyperparameters are there to test?\n",
    "\n",
    "- batch_size\n",
    "- training epochs\n",
    "- optimization algorithms\n",
    "- learning rate\n",
    "- momentum\n",
    "- activation functions\n",
    "- dropout regularization\n",
    "- number of neurons in the hidden layer\n",
    "\n",
    "There are more, but these are the most important."
   ]
  },
  {
   "cell_type": "markdown",
   "metadata": {},
   "source": [
    "## Follow Along"
   ]
  },
  {
   "cell_type": "markdown",
   "metadata": {
    "colab_type": "text",
    "id": "Mri5-kXzVKAa"
   },
   "source": [
    "## Batch Size\n",
    "\n",
    "Batch size determines how many observations the model is shown before it calculates loss/error and updates the model weights via gradient descent. You're looking for a sweet spot here where you're showing it enough observations that you have enough information to updates the weights, but not such a large batch size that you don't get a lot of weight update iterations performed in a given epoch. Feed-forward Neural Networks aren't as sensitive to bach_size as other networks, but it is still an important hyperparameter to tune. Smaller batch sizes will also take longer to train. "
   ]
  },
  {
   "cell_type": "code",
   "execution_count": 5,
   "metadata": {
    "colab": {
     "base_uri": "https://localhost:8080/",
     "height": 13561
    },
    "colab_type": "code",
    "id": "2smXfriNAGn7",
    "outputId": "ae996575-78e2-43fb-9dbe-5d44aaf0b430"
   },
   "outputs": [
    {
     "name": "stdout",
     "output_type": "stream",
     "text": [
      "Best: 0.6667685270309448 using {'batch_size': 10, 'epochs': 20}\n",
      "Means: 0.6667685270309448, Stdev: 0.04332235232676754 with: {'batch_size': 10, 'epochs': 20}\n",
      "Means: 0.6627960324287414, Stdev: 0.029192965282969826 with: {'batch_size': 20, 'epochs': 20}\n",
      "Means: 0.6484508991241456, Stdev: 0.02512632127629392 with: {'batch_size': 40, 'epochs': 20}\n",
      "Means: 0.596528309583664, Stdev: 0.11725647832646156 with: {'batch_size': 60, 'epochs': 20}\n",
      "Means: 0.5714455544948578, Stdev: 0.06314210779942248 with: {'batch_size': 80, 'epochs': 20}\n",
      "Means: 0.5913929283618927, Stdev: 0.10975263134871503 with: {'batch_size': 100, 'epochs': 20}\n"
     ]
    }
   ],
   "source": [
    "import numpy\n",
    "import pandas as pd\n",
    "from sklearn.model_selection import GridSearchCV\n",
    "from tensorflow.keras.models import Sequential\n",
    "from tensorflow.keras.layers import Dense\n",
    "from tensorflow.keras.wrappers.scikit_learn import KerasClassifier\n",
    "\n",
    "# fix random seed for reproducibility\n",
    "seed = 7\n",
    "numpy.random.seed(seed)\n",
    "\n",
    "# load dataset\n",
    "url =\"https://raw.githubusercontent.com/jbrownlee/Datasets/master/pima-indians-diabetes.data.csv\"\n",
    "\n",
    "dataset = pd.read_csv(url, header=None).values\n",
    "\n",
    "# split into input (X) and output (Y) variables\n",
    "X = dataset[:,0:8]\n",
    "Y = dataset[:,8]\n",
    "\n",
    "# Function to create model, required for KerasClassifier\n",
    "def create_model():\n",
    "    # create model\n",
    "    model = Sequential()\n",
    "    model.add(Dense(12, input_dim=8, activation='relu'))\n",
    "    model.add(Dense(1, activation='sigmoid'))\n",
    "    # Compile model\n",
    "    model.compile(loss='binary_crossentropy', optimizer='adam', metrics=['accuracy'])\n",
    "    return model\n",
    "\n",
    "# create model\n",
    "model = KerasClassifier(build_fn=create_model, verbose=0)\n",
    "\n",
    "# define the grid search parameters\n",
    "# batch_size = [10, 20, 40, 60, 80, 100]\n",
    "# param_grid = dict(batch_size=batch_size, epochs=epochs)\n",
    "\n",
    "# define the grid search parameters\n",
    "param_grid = {'batch_size': [10, 20, 40, 60, 80, 100],\n",
    "              'epochs': [20]}\n",
    "\n",
    "# Create Grid Search\n",
    "grid = GridSearchCV(estimator=model, param_grid=param_grid, n_jobs=1)\n",
    "grid_result = grid.fit(X, Y)\n",
    "\n",
    "# Report Results\n",
    "print(f\"Best: {grid_result.best_score_} using {grid_result.best_params_}\")\n",
    "means = grid_result.cv_results_['mean_test_score']\n",
    "stds = grid_result.cv_results_['std_test_score']\n",
    "params = grid_result.cv_results_['params']\n",
    "for mean, stdev, param in zip(means, stds, params):\n",
    "    print(f\"Means: {mean}, Stdev: {stdev} with: {param}\") "
   ]
  },
  {
   "cell_type": "markdown",
   "metadata": {
    "colab_type": "text",
    "id": "pmABfjlvXbqi"
   },
   "source": [
    "## Epochs\n",
    "\n",
    "The number of training epochs has a large and direct affect on the accuracy, However, more epochs is almost always goign to better than less epochs. This means that if you tune this parameter at the beginning and try and maintain the same value all throughout your training, you're going to be waiting a long time for each iteration of GridSearch. I suggest picking a fixed moderat # of epochs all throughout your training and then Grid Searching this parameter at the very end. "
   ]
  },
  {
   "cell_type": "code",
   "execution_count": 6,
   "metadata": {
    "colab": {
     "base_uri": "https://localhost:8080/",
     "height": 26329
    },
    "colab_type": "code",
    "id": "bAmxP3N7TmFh",
    "outputId": "3ddb08c4-51ac-4eaa-ff39-143397024544"
   },
   "outputs": [
    {
     "name": "stdout",
     "output_type": "stream",
     "text": [
      "Best: 0.7344283342361451 using {'batch_size': 20, 'epochs': 200}\n",
      "Means: 0.6028435707092286, Stdev: 0.06310656861325914 with: {'batch_size': 20, 'epochs': 20}\n",
      "Means: 0.6758170008659363, Stdev: 0.02916342424136324 with: {'batch_size': 20, 'epochs': 40}\n",
      "Means: 0.6614294290542603, Stdev: 0.030917947445138816 with: {'batch_size': 20, 'epochs': 60}\n",
      "Means: 0.7344283342361451, Stdev: 0.04039898820214394 with: {'batch_size': 20, 'epochs': 200}\n"
     ]
    }
   ],
   "source": [
    "# define the grid search parameters\n",
    "param_grid = {'batch_size': [20],\n",
    "              'epochs': [20, 40, 60,200]}\n",
    "\n",
    "# Create Grid Search\n",
    "grid = GridSearchCV(estimator=model, param_grid=param_grid, n_jobs=1)\n",
    "grid_result = grid.fit(X, Y)\n",
    "\n",
    "# Report Results\n",
    "print(f\"Best: {grid_result.best_score_} using {grid_result.best_params_}\")\n",
    "means = grid_result.cv_results_['mean_test_score']\n",
    "stds = grid_result.cv_results_['std_test_score']\n",
    "params = grid_result.cv_results_['params']\n",
    "for mean, stdev, param in zip(means, stds, params):\n",
    "    print(f\"Means: {mean}, Stdev: {stdev} with: {param}\")"
   ]
  },
  {
   "cell_type": "markdown",
   "metadata": {
    "colab_type": "text",
    "id": "EKcuY6OiaLfz"
   },
   "source": [
    "## Optimizer\n",
    "\n",
    "Remember that there's a different optimizers [optimizers](https://keras.io/optimizers/). At some point, take some time to read up on them a little bit. \"adam\" usually gives the best results. The thing to know about choosing an optimizer is that different optimizers have different hyperparameters like learning rate, momentum, etc. So based on the optimizer you choose you might also have to tune the learning rate and momentum of those optimizers after that. "
   ]
  },
  {
   "cell_type": "markdown",
   "metadata": {
    "colab_type": "text",
    "id": "DG3wq5iOaLig"
   },
   "source": [
    "## Learning Rate\n",
    "\n",
    "Remember that the Learning Rate is a hyperparameter that is specific to your gradient-descent based optimizer selection. A learning rate that is too high will cause divergent behavior, but a Learning Rate that is too low will fail to converge, again, you're looking for the sweet spot. I would start out tuning learning rates by orders of magnitude: [.001, .01, .1, .2, .3, .5] etc. I wouldn't go above .5, but you can try it and see what the behavior is like. \n",
    "\n",
    "Once you have narrowed it down, make the window even smaller and try it again. If after running the above specification your model reports that .1 is the best optimizer, then you should probably try things like [.05, .08, .1, .12, .15] to try and narrow it down. \n",
    "\n",
    "It can also be good to tune the number of epochs in combination with the learning rate since the number of iterations that you allow the learning rate to reach the minimum can determine if you have let it run long enough to converge to the minimum. "
   ]
  },
  {
   "cell_type": "markdown",
   "metadata": {
    "colab_type": "text",
    "id": "gNTBUWd1aLlA"
   },
   "source": [
    "## Momentum\n",
    "\n",
    "Momentum is a hyperparameter that is more commonly associated with Stochastic Gradient Descent. SGD is a common optimizer because it's what people understand and know, but I doubt it will get you the best results, you can try hyperparameter tuning its attributes and see if you can beat the performance from adam. Momentum is a property that decides the willingness of an optimizer to overshoot the minimum. Imagine a ball rolling down one side of a bowl and then up the opposite side a little bit before settling back to the bottom. The purpose of momentum is to try and escale local minima."
   ]
  },
  {
   "cell_type": "markdown",
   "metadata": {
    "colab_type": "text",
    "id": "xnEG-bCJaLnZ"
   },
   "source": [
    "## Activation Functions\n",
    "\n",
    "We've talked about this a little bit, typically you'l want to use ReLU for hidden layers and either Sigmoid, or Softmax for output layers of binary and multi-class classification implementations respectively, but try other activation functions and see if you can get any better results with sigmoid or tanh or something. There are a lot of activation functions that we haven't really talked about. Maybe you'll get good results with them. Maybe you won't. :) <https://keras.io/activations/>"
   ]
  },
  {
   "cell_type": "markdown",
   "metadata": {
    "colab_type": "text",
    "id": "oul9sPq-dU-h"
   },
   "source": [
    "## Network Weight Initialization\n",
    "\n",
    "You saw how big of an effect the way that we initialize our network's weights can have on our results. There are **a lot** of what are called initialization modes. I don't understand all of them, but they can have a big affect on your model's initial accuracy. Your model will get further with less epochs if you initialize it with weights that are well suited to the problem you're trying to solve.\n",
    "\n",
    "`init_mode = ['uniform', 'lecun_uniform', 'normal', 'zero', 'glorot_normal', 'glorot_uniform', 'he_normal', 'he_uniform']`"
   ]
  },
  {
   "cell_type": "markdown",
   "metadata": {
    "colab_type": "text",
    "id": "bqtEuxeQaLqE"
   },
   "source": [
    "## Dropout Regularization and the Weight Constraint\n",
    "\n",
    "the Dropout Regularization value is a percentage of neurons that you want to be randomly deactivated during training. The weight constraint is a second regularization parameter that works in tandem with dropout regularization. You should tune these two values at the same time. \n",
    "\n",
    "Using dropout on visible vs hidden layers might have a different effect. Using dropout on hidden layers might not have any effect while using dropout on hidden layers might have a substantial effect. You don't necessarily need to turn use dropout unless you see that your model has overfitting and generalizability problems."
   ]
  },
  {
   "cell_type": "markdown",
   "metadata": {
    "colab_type": "text",
    "id": "P2c5Cv6oaLtO"
   },
   "source": [
    "## Neurons in Hidden Layer \n",
    "\n",
    "Remember that when we only had a single perceptron our model was only able to fit to linearly separable data, but as we have added layers and nodes to those layers our network has become a powerhouse of fitting nonlinearity in data. The larger the network and the more nodes generally the stronger the network's capacity to fit nonlinear patterns in data. The more nodes and layers the longer it will take to train a network, and higher the probability of overfitting. The larger your network gets the more you'll need dropout regularization or other regularization techniques to keep it in check. \n",
    "\n",
    "Typically depth (more layers) is more important than width (more nodes) for neural networks. This is part of why Deep Learning is so highly touted. Certain deep learning architectures have truly been huge breakthroughs for certain machine learning tasks. \n",
    "\n",
    "You might borrow ideas from other network architectures. For example if I was doing image recognition and I wasn't taking cues from state of the art architectures like resnet, alexnet, googlenet, etc. Then I'm probably going to have to do a lot more experimentation on my own before I find something that works.\n",
    "\n",
    "There are some heuristics, but I am highly skeptical of them. I think you're better off experimenting on your own and forming your own intuition for these kinds of problems. \n",
    "\n",
    "- https://machinelearningmastery.com/how-to-configure-the-number-of-layers-and-nodes-in-a-neural-network/"
   ]
  },
  {
   "cell_type": "markdown",
   "metadata": {},
   "source": [
    "## Challenge\n",
    "You will be expected to tune several hyperparameters in today's module project. "
   ]
  },
  {
   "cell_type": "markdown",
   "metadata": {},
   "source": [
    "# Experiment Tracking Framework (Learn)\n",
    "<a id=\"p2\"></a>"
   ]
  },
  {
   "cell_type": "markdown",
   "metadata": {},
   "source": [
    "## Overview\n",
    "\n",
    "You will notice quickly that managing the results of all the experiments you are running becomes challenging. Which set of parameters did the best? Are my results today different than my results yesterday? Although we use Ipython Notebooks to work, the format is not well suited to logging experimental results. Enter experiment tracking frameworks like [Comet.ml](https://comet.ml) and [Weights and Biases](https://wandb.ai/).\n",
    "\n",
    "Those tools will help you track your experiments, store the results, and the code associated with those experiments. Experimental results can also be readily visualized to see changes in performance across any metric you care about. Data is sent to the tool as each epoch is completed, so you can also see if your model is converging. Let's check out Weights & Biases today. "
   ]
  },
  {
   "cell_type": "markdown",
   "metadata": {},
   "source": [
    "## Follow Along\n",
    "\n",
    "Make sure you login into `wandb` in the terminal before running the next cell. "
   ]
  },
  {
   "cell_type": "code",
   "execution_count": 7,
   "metadata": {},
   "outputs": [],
   "source": [
    "import wandb\n",
    "from wandb.keras import WandbCallback"
   ]
  },
  {
   "cell_type": "code",
   "execution_count": null,
   "metadata": {
    "colab": {
     "base_uri": "https://localhost:8080/",
     "height": 1750
    },
    "colab_type": "code",
    "id": "GMXVfmzXp1Oo",
    "outputId": "b05e251e-508f-46e6-865b-f869ae2a5dc4"
   },
   "outputs": [
    {
     "name": "stderr",
     "output_type": "stream",
     "text": [
      "wandb: ERROR Not authenticated.  Copy a key from https://app.wandb.ai/authorize\n"
     ]
    }
   ],
   "source": [
    "wandb.init(project=\"boston\", entity=\"lambda-ds7\") #Initializes and Experiment\n",
    "\n",
    "# Important Hyperparameters\n",
    "X =  x_train\n",
    "y =  y_train\n",
    "\n",
    "inputs = X.shape[1]\n",
    "wandb.config.epochs = 50\n",
    "wandb.config.batch_size = 10\n",
    "\n",
    "# Create Model\n",
    "model = Sequential()\n",
    "model.add(Dense(64, activation='relu', input_shape=(inputs,)))\n",
    "model.add(Dense(64, activation='relu'))\n",
    "model.add(Dense(64, activation='relu'))\n",
    "model.add(Dense(1))\n",
    "# Compile Model\n",
    "model.compile(optimizer='adam', loss='mse', metrics=['mse', 'mae'])\n",
    "\n",
    "# Fit Model\n",
    "model.fit(X, y, \n",
    "          validation_split=0.33, \n",
    "          epochs=wandb.config.epochs, \n",
    "          batch_size=wandb.config.batch_size, \n",
    "          callbacks=[WandbCallback()]\n",
    "         )"
   ]
  },
  {
   "cell_type": "markdown",
   "metadata": {},
   "source": [
    "## Challenge\n",
    "\n",
    "You will be expected to use Weights & Biases to try to tune your model during your module assignment today. "
   ]
  },
  {
   "cell_type": "markdown",
   "metadata": {},
   "source": [
    "# Hyperparameters with RandomSearchCV (Learn)"
   ]
  },
  {
   "cell_type": "markdown",
   "metadata": {},
   "source": [
    "## Overview\n",
    "\n",
    "Basically `GridSearchCV` takes forever. You'll want to adopt a slightly more sophiscated strategy."
   ]
  },
  {
   "cell_type": "markdown",
   "metadata": {},
   "source": [
    "## Follow Along"
   ]
  },
  {
   "cell_type": "code",
   "execution_count": 9,
   "metadata": {},
   "outputs": [],
   "source": [
    "sweep_config = {\n",
    "    'method': 'random',\n",
    "    'parameters': {\n",
    "        'learning_rate': {'distribution': 'normal'},\n",
    "        'epochs': {'distribution': 'uniform',\n",
    "                    'min': 100,\n",
    "                    'max': 1000},\n",
    "        'batch_size': {'distribution': 'uniform',\n",
    "            'min': 10,\n",
    "            'max': 400}\n",
    "    }\n",
    "}"
   ]
  },
  {
   "cell_type": "code",
   "execution_count": 13,
   "metadata": {},
   "outputs": [
    {
     "name": "stdout",
     "output_type": "stream",
     "text": [
      "Create sweep with ID: huau0u9r\n",
      "Sweep URL: https://app.wandb.ai/lambda-ds7/boston/sweeps/huau0u9r\n"
     ]
    }
   ],
   "source": [
    "sweep_id = wandb.sweep(sweep_config)"
   ]
  },
  {
   "cell_type": "code",
   "execution_count": 11,
   "metadata": {},
   "outputs": [],
   "source": [
    "import wandb\n",
    "from wandb.keras import WandbCallback\n",
    "#Initializes and Experiment\n",
    "\n",
    "from tensorflow.keras.optimizers import Adam\n",
    "\n",
    "# Important Hyperparameters\n",
    "X =  x_train\n",
    "y =  y_train\n",
    "\n",
    "inputs = X.shape[1]\n",
    "\n",
    "def train():\n",
    "    \n",
    "    wandb.init(project=\"boston\", entity=\"lambda-ds7\") \n",
    "    \n",
    "    config = wandb.config\n",
    "\n",
    "    # Create Model\n",
    "    model = Sequential()\n",
    "    model.add(Dense(64, activation='relu', input_shape=(inputs,)))\n",
    "    model.add(Dense(64, activation='relu'))\n",
    "    model.add(Dense(64, activation='relu'))\n",
    "    model.add(Dense(1))\n",
    "\n",
    "    # Optimizer \n",
    "    adam = Adam(learning_rate=config.learning_rate)\n",
    "\n",
    "    # Compile Model\n",
    "    model.compile(optimizer=adam, loss='mse', metrics=['mse', 'mae'])\n",
    "\n",
    "    # Fit Model\n",
    "    model.fit(X, y, \n",
    "              validation_split=0.33, \n",
    "              epochs=config.epochs, \n",
    "              batch_size=config.batch_size, \n",
    "              callbacks=[WandbCallback()]\n",
    "             )"
   ]
  },
  {
   "cell_type": "code",
   "execution_count": null,
   "metadata": {},
   "outputs": [
    {
     "name": "stdout",
     "output_type": "stream",
     "text": [
      "wandb: Agent Starting Run: 2g77kp6k with config:\n",
      "\tbatch_size: 308.503347845309\n",
      "\tepochs: 704.9395850579006\n",
      "\tlearning_rate: 1.480005523005428\n",
      "wandb: Agent Started Run: 2g77kp6k\n"
     ]
    },
    {
     "data": {
      "text/html": [
       "\n",
       "                Logging results to <a href=\"https://wandb.com\" target=\"_blank\">Weights & Biases</a> <a href=\"https://docs.wandb.com/integrations/jupyter.html\" target=\"_blank\">(Documentation)</a>.<br/>\n",
       "                Project page: <a href=\"https://app.wandb.ai/lambda-ds7/boston\" target=\"_blank\">https://app.wandb.ai/lambda-ds7/boston</a><br/>\n",
       "                Run page: <a href=\"https://app.wandb.ai/lambda-ds7/boston/runs/t4w9l4ye\" target=\"_blank\">https://app.wandb.ai/lambda-ds7/boston/runs/t4w9l4ye</a><br/>\n",
       "            "
      ],
      "text/plain": [
       "<IPython.core.display.HTML object>"
      ]
     },
     "metadata": {},
     "output_type": "display_data"
    }
   ],
   "source": [
    "wandb.agent(sweep_id, function=train)"
   ]
  },
  {
   "cell_type": "markdown",
   "metadata": {},
   "source": [
    "## Challenge\n",
    "\n",
    "Try to apply RandomSearchCV to your module project today. "
   ]
  },
  {
   "cell_type": "markdown",
   "metadata": {},
   "source": [
    "# Review\n",
    "* <a href=\"#p1\">Part 1</a>: Describe the major hyperparemeters to tune\n",
    "    - Activation Functions\n",
    "    - Optimizer\n",
    "    - Number of Layers\n",
    "    - Number of Neurons\n",
    "    - Batch Size\n",
    "    - Dropout Regulaization\n",
    "    - Learning Rate\n",
    "    - Number of Epochs\n",
    "    - and many more\n",
    "* <a href=\"#p2\">Part 2</a>: Implement an experiment tracking framework\n",
    "    - Weights & Biases\n",
    "    - Comet.ml\n",
    "    - By Hand / GridSearch\n",
    "* <a href=\"#p3\">Part 3</a>: Search the hyperparameter space using RandomSearch\n",
    "    - Sklearn still useful (haha)\n",
    "    - Integration with Wieghts & Biases\n",
    "* <a href=\"#p4\">Part 4</a>: Discuss emerging hyperparameter tuning strategies\n",
    "    - Bayesian Optimization\n",
    "    - Hyperopt\n",
    "    - Genetic Evolution"
   ]
  },
  {
   "cell_type": "markdown",
   "metadata": {},
   "source": [
    "# Sources"
   ]
  },
  {
   "cell_type": "markdown",
   "metadata": {},
   "source": [
    "## Additional Reading\n",
    "- https://machinelearningmastery.com/grid-search-hyperparameters-deep-learning-models-python-keras/\n",
    "- https://blog.floydhub.com/guide-to-hyperparameters-search-for-deep-learning-models/\n",
    "- https://machinelearningmastery.com/dropout-regularization-deep-learning-models-keras/\n",
    "- https://machinelearningmastery.com/introduction-to-weight-constraints-to-reduce-generalization-error-in-deep-learning/\n",
    "- https://machinelearningmastery.com/how-to-configure-the-number-of-layers-and-nodes-in-a-neural-network/"
   ]
  }
 ],
 "metadata": {
  "kernelspec": {
   "display_name": "Python (sprint 2, NN)",
   "language": "python",
   "name": "python-sprint2-nn"
  },
  "language_info": {
   "codemirror_mode": {
    "name": "ipython",
    "version": 3
   },
   "file_extension": ".py",
   "mimetype": "text/x-python",
   "name": "python",
   "nbconvert_exporter": "python",
   "pygments_lexer": "ipython3",
   "version": "3.7.3"
  }
 },
 "nbformat": 4,
 "nbformat_minor": 4
}
