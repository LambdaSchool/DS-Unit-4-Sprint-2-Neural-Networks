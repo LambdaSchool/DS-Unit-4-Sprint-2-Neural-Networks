{
 "cells": [
  {
   "cell_type": "markdown",
   "metadata": {
    "colab_type": "text",
    "id": "41TS0Sa0rDNx"
   },
   "source": [
    "Lambda School Data Science\n",
    "\n",
    "*Unit 4, Sprint 2, Module 4*\n",
    "\n",
    "---"
   ]
  },
  {
   "cell_type": "markdown",
   "metadata": {
    "colab_type": "text",
    "id": "41TS0Sa0rDNx"
   },
   "source": [
    "# Neural Networks & GPUs (Prepare)\n",
    "*aka Hyperparameter Tuning*\n",
    "\n",
    "*aka Big Servers for Big Problems*"
   ]
  },
  {
   "cell_type": "markdown",
   "metadata": {
    "colab_type": "text",
    "id": "41TS0Sa0rDNx"
   },
   "source": [
    "## Learning Objectives\n",
    "* <a href=\"#p1\">Part 1</a>: Describe the major hyperparemeters to tune\n",
    "* <a href=\"#p2\">Part 2</a>: Implement an experiment tracking framework\n",
    "* <a href=\"#p3\">Part 3</a>: Search the hyperparameter space using RandomSearch (Optional)"
   ]
  },
  {
   "cell_type": "code",
   "execution_count": 1,
   "metadata": {},
   "outputs": [],
   "source": [
    "# added during lecture\n",
    "wandb_group = \"ds8\"\n",
    "wandb_project = \"inclass\""
   ]
  },
  {
   "cell_type": "markdown",
   "metadata": {},
   "source": [
    "# Hyperparameter Options (Learn)\n",
    "<a id=\"p1\"></a>"
   ]
  },
  {
   "cell_type": "markdown",
   "metadata": {},
   "source": [
    "## Overview\n",
    "\n",
    "Hyperparameter tuning is much more important with neural networks than it has been with any other models that we have considered up to this point. Other supervised learning models might have a couple of parameters, but neural networks can have dozens. These can substantially affect the accuracy of our models and although it can be a time consuming process is a necessary step when working with neural networks.\n",
    "​\n",
    "Hyperparameter tuning comes with a challenge. How can we compare models specified with different hyperparameters if our model's final error metric can vary somewhat erratically? How do we avoid just getting unlucky and selecting the wrong hyperparameter? This is a problem that to a certain degree we just have to live with as we test and test again. However, we can minimize it somewhat by pairing our experiments with Cross Validation to reduce the variance of our final accuracy values."
   ]
  },
  {
   "cell_type": "markdown",
   "metadata": {
    "colab_type": "text",
    "id": "0s0o2pqBs88q"
   },
   "source": [
    "### Load Boston Housing Data"
   ]
  },
  {
   "cell_type": "code",
   "execution_count": 2,
   "metadata": {},
   "outputs": [],
   "source": [
    "from tensorflow.keras.datasets import boston_housing\n",
    "\n",
    "(x_train, y_train), (x_test, y_test) = boston_housing.load_data()"
   ]
  },
  {
   "cell_type": "code",
   "execution_count": 3,
   "metadata": {},
   "outputs": [],
   "source": [
    "# Source of Dataset\n",
    "# https://www.cs.toronto.edu/~delve/data/boston/bostonDetail.html\n",
    "\n",
    "# variable #12 could include biases that could impact results.  \n",
    "# be cognizant of data that goes into your models, and try to avoid these things."
   ]
  },
  {
   "cell_type": "code",
   "execution_count": null,
   "metadata": {},
   "outputs": [],
   "source": []
  },
  {
   "cell_type": "markdown",
   "metadata": {
    "colab_type": "text",
    "id": "Pm7zow5IvaTt"
   },
   "source": [
    "### Normalizing Input Data\n",
    "\n",
    "It's not 100% necessary to normalize/scale your input data before feeding it to a neural network, the network can learn the appropriate weights to deal with data of as long as it is numerically represented,  but it is recommended as it can help **make training faster** and **reduces the chances that gradient descent might get stuck in a local optimum**.\n",
    "\n",
    "<https://stackoverflow.com/questions/4674623/why-do-we-have-to-normalize-the-input-for-an-artificial-neural-network>"
   ]
  },
  {
   "cell_type": "code",
   "execution_count": 4,
   "metadata": {},
   "outputs": [
    {
     "name": "stdout",
     "output_type": "stream",
     "text": [
      "[[-0.27224633 -0.48361547 -0.43576161 -0.25683275 -0.1652266  -0.1764426\n",
      "   0.81306188  0.1166983  -0.62624905 -0.59517003  1.14850044  0.44807713\n",
      "   0.8252202 ]\n",
      " [-0.40342651  2.99178419 -1.33391162 -0.25683275 -1.21518188  1.89434613\n",
      "  -1.91036058  1.24758524 -0.85646254 -0.34843254 -1.71818909  0.43190599\n",
      "  -1.32920239]\n",
      " [ 0.1249402  -0.48361547  1.0283258  -0.25683275  0.62864202 -1.82968811\n",
      "   1.11048828 -1.18743907  1.67588577  1.5652875   0.78447637  0.22061726\n",
      "  -1.30850006]\n",
      " [-0.40149354 -0.48361547 -0.86940196 -0.25683275 -0.3615597  -0.3245576\n",
      "  -1.23667187  1.10717989 -0.51114231 -1.094663    0.78447637  0.44807713\n",
      "  -0.65292624]\n",
      " [-0.0056343  -0.48361547  1.0283258  -0.25683275  1.32861221  0.15364225\n",
      "   0.69480801 -0.57857203  1.67588577  1.5652875   0.78447637  0.3898823\n",
      "   0.26349695]\n",
      " [-0.37502238 -0.48361547 -0.54747912 -0.25683275 -0.54935658 -0.78865126\n",
      "   0.18954148  0.48371503 -0.51114231 -0.71552978  0.51145832  0.38669063\n",
      "  -0.13812828]\n",
      " [ 0.58963463 -0.48361547  1.0283258  -0.25683275  1.21764133 -1.03127774\n",
      "   1.11048828 -1.06518235  1.67588577  1.5652875   0.78447637  0.44807713\n",
      "   1.49873604]\n",
      " [ 0.0381708  -0.48361547  1.24588095 -0.25683275  2.67733525 -1.12719983\n",
      "   1.11048828 -1.14833073 -0.51114231 -0.01744323 -1.71818909  0.44807713\n",
      "   1.88793986]\n",
      " [-0.17228416 -0.48361547  1.24588095 -0.25683275  2.67733525 -0.90150078\n",
      "   1.11048828 -1.09664657 -0.51114231 -0.01744323 -1.71818909 -1.97365769\n",
      "   0.53952803]\n",
      " [-0.22932104 -0.48361547  1.58544339 -0.25683275  0.56888847 -1.76056777\n",
      "   1.11048828 -1.13471925 -0.62624905  0.18716835  1.23950646  0.44807713\n",
      "   2.99068404]]\n"
     ]
    }
   ],
   "source": [
    "from sklearn.preprocessing import StandardScaler\n",
    "\n",
    "scaler = StandardScaler()\n",
    "\n",
    "x_train = scaler.fit_transform(x_train)\n",
    "x_test = scaler.transform(x_test)\n",
    "print(x_train[:10])"
   ]
  },
  {
   "cell_type": "markdown",
   "metadata": {
    "colab_type": "text",
    "id": "l6hgCWbir90R"
   },
   "source": [
    "### Model Validation using an automatic verification Dataset\n",
    "\n",
    "Instead of doing seperate train test split class, Keras has a really nice feature that you can set the validation.data argument when fitting your model and Keras will take that portion of your test data and use it as a validation dataset. "
   ]
  },
  {
   "cell_type": "code",
   "execution_count": 5,
   "metadata": {
    "colab": {
     "base_uri": "https://localhost:8080/",
     "height": 1750
    },
    "colab_type": "code",
    "id": "GMXVfmzXp1Oo",
    "outputId": "b05e251e-508f-46e6-865b-f869ae2a5dc4"
   },
   "outputs": [
    {
     "name": "stdout",
     "output_type": "stream",
     "text": [
      "WARNING:tensorflow:From /home/ec2-user/anaconda3/envs/tensorflow_p36/lib/python3.6/site-packages/tensorflow/python/ops/init_ops.py:1251: calling VarianceScaling.__init__ (from tensorflow.python.ops.init_ops) with dtype is deprecated and will be removed in a future version.\n",
      "Instructions for updating:\n",
      "Call initializer instance with the dtype argument instead of passing it to the constructor\n",
      "Train on 404 samples, validate on 102 samples\n",
      "Epoch 1/50\n",
      "404/404 [==============================] - 0s 1ms/sample - loss: 486.5269 - mean_squared_error: 486.5269 - mean_absolute_error: 20.0162 - val_loss: 388.9653 - val_mean_squared_error: 388.9653 - val_mean_absolute_error: 17.5273\n",
      "Epoch 2/50\n",
      "404/404 [==============================] - 0s 241us/sample - loss: 221.7729 - mean_squared_error: 221.7729 - mean_absolute_error: 12.0879 - val_loss: 107.9292 - val_mean_squared_error: 107.9292 - val_mean_absolute_error: 8.4343\n",
      "Epoch 3/50\n",
      "404/404 [==============================] - 0s 228us/sample - loss: 66.8178 - mean_squared_error: 66.8178 - mean_absolute_error: 6.1018 - val_loss: 50.0152 - val_mean_squared_error: 50.0152 - val_mean_absolute_error: 5.5154\n",
      "Epoch 4/50\n",
      "404/404 [==============================] - 0s 233us/sample - loss: 36.5934 - mean_squared_error: 36.5934 - mean_absolute_error: 4.2042 - val_loss: 30.4667 - val_mean_squared_error: 30.4667 - val_mean_absolute_error: 4.4089\n",
      "Epoch 5/50\n",
      "404/404 [==============================] - 0s 235us/sample - loss: 27.1835 - mean_squared_error: 27.1835 - mean_absolute_error: 3.6977 - val_loss: 25.1721 - val_mean_squared_error: 25.1721 - val_mean_absolute_error: 3.9256\n",
      "Epoch 6/50\n",
      "404/404 [==============================] - 0s 238us/sample - loss: 23.2783 - mean_squared_error: 23.2783 - mean_absolute_error: 3.3298 - val_loss: 22.6532 - val_mean_squared_error: 22.6532 - val_mean_absolute_error: 3.7238\n",
      "Epoch 7/50\n",
      "404/404 [==============================] - 0s 235us/sample - loss: 20.7239 - mean_squared_error: 20.7239 - mean_absolute_error: 3.1323 - val_loss: 21.1897 - val_mean_squared_error: 21.1897 - val_mean_absolute_error: 3.5630\n",
      "Epoch 8/50\n",
      "404/404 [==============================] - 0s 238us/sample - loss: 18.9750 - mean_squared_error: 18.9750 - mean_absolute_error: 3.0033 - val_loss: 20.9729 - val_mean_squared_error: 20.9729 - val_mean_absolute_error: 3.4880\n",
      "Epoch 9/50\n",
      "404/404 [==============================] - 0s 227us/sample - loss: 17.1080 - mean_squared_error: 17.1080 - mean_absolute_error: 2.8222 - val_loss: 20.4067 - val_mean_squared_error: 20.4067 - val_mean_absolute_error: 3.3846\n",
      "Epoch 10/50\n",
      "404/404 [==============================] - 0s 230us/sample - loss: 15.6824 - mean_squared_error: 15.6824 - mean_absolute_error: 2.6844 - val_loss: 19.9765 - val_mean_squared_error: 19.9765 - val_mean_absolute_error: 3.3056\n",
      "Epoch 11/50\n",
      "404/404 [==============================] - 0s 226us/sample - loss: 14.4128 - mean_squared_error: 14.4128 - mean_absolute_error: 2.6444 - val_loss: 21.0631 - val_mean_squared_error: 21.0631 - val_mean_absolute_error: 3.3477\n",
      "Epoch 12/50\n",
      "404/404 [==============================] - 0s 205us/sample - loss: 13.4640 - mean_squared_error: 13.4640 - mean_absolute_error: 2.5474 - val_loss: 20.8227 - val_mean_squared_error: 20.8227 - val_mean_absolute_error: 3.2487\n",
      "Epoch 13/50\n",
      "404/404 [==============================] - 0s 208us/sample - loss: 12.6687 - mean_squared_error: 12.6687 - mean_absolute_error: 2.4793 - val_loss: 20.1414 - val_mean_squared_error: 20.1414 - val_mean_absolute_error: 3.1588\n",
      "Epoch 14/50\n",
      "404/404 [==============================] - 0s 200us/sample - loss: 12.0614 - mean_squared_error: 12.0614 - mean_absolute_error: 2.4055 - val_loss: 20.9669 - val_mean_squared_error: 20.9669 - val_mean_absolute_error: 3.1995\n",
      "Epoch 15/50\n",
      "404/404 [==============================] - 0s 214us/sample - loss: 11.6569 - mean_squared_error: 11.6569 - mean_absolute_error: 2.3547 - val_loss: 20.7524 - val_mean_squared_error: 20.7524 - val_mean_absolute_error: 3.1484\n",
      "Epoch 16/50\n",
      "404/404 [==============================] - 0s 207us/sample - loss: 11.1169 - mean_squared_error: 11.1169 - mean_absolute_error: 2.3389 - val_loss: 20.8676 - val_mean_squared_error: 20.8676 - val_mean_absolute_error: 3.0830\n",
      "Epoch 17/50\n",
      "404/404 [==============================] - 0s 226us/sample - loss: 10.6804 - mean_squared_error: 10.6804 - mean_absolute_error: 2.2795 - val_loss: 21.2158 - val_mean_squared_error: 21.2158 - val_mean_absolute_error: 3.1245\n",
      "Epoch 18/50\n",
      "404/404 [==============================] - 0s 221us/sample - loss: 10.3414 - mean_squared_error: 10.3414 - mean_absolute_error: 2.2407 - val_loss: 21.9394 - val_mean_squared_error: 21.9394 - val_mean_absolute_error: 3.1301\n",
      "Epoch 19/50\n",
      "404/404 [==============================] - 0s 234us/sample - loss: 10.1726 - mean_squared_error: 10.1726 - mean_absolute_error: 2.2631 - val_loss: 21.3875 - val_mean_squared_error: 21.3875 - val_mean_absolute_error: 3.0613\n",
      "Epoch 20/50\n",
      "404/404 [==============================] - 0s 234us/sample - loss: 9.8235 - mean_squared_error: 9.8235 - mean_absolute_error: 2.2046 - val_loss: 20.8101 - val_mean_squared_error: 20.8101 - val_mean_absolute_error: 2.9956\n",
      "Epoch 21/50\n",
      "404/404 [==============================] - 0s 237us/sample - loss: 9.6977 - mean_squared_error: 9.6977 - mean_absolute_error: 2.1890 - val_loss: 23.0468 - val_mean_squared_error: 23.0468 - val_mean_absolute_error: 3.0939\n",
      "Epoch 22/50\n",
      "404/404 [==============================] - 0s 231us/sample - loss: 9.5635 - mean_squared_error: 9.5635 - mean_absolute_error: 2.2336 - val_loss: 20.3567 - val_mean_squared_error: 20.3567 - val_mean_absolute_error: 2.8998\n",
      "Epoch 23/50\n",
      "404/404 [==============================] - 0s 256us/sample - loss: 9.2942 - mean_squared_error: 9.2942 - mean_absolute_error: 2.1454 - val_loss: 22.8828 - val_mean_squared_error: 22.8828 - val_mean_absolute_error: 3.0883\n",
      "Epoch 24/50\n",
      "404/404 [==============================] - 0s 232us/sample - loss: 9.2148 - mean_squared_error: 9.2148 - mean_absolute_error: 2.1500 - val_loss: 21.6881 - val_mean_squared_error: 21.6881 - val_mean_absolute_error: 2.9964\n",
      "Epoch 25/50\n",
      "404/404 [==============================] - 0s 227us/sample - loss: 9.1361 - mean_squared_error: 9.1361 - mean_absolute_error: 2.1345 - val_loss: 21.0271 - val_mean_squared_error: 21.0271 - val_mean_absolute_error: 2.9434\n",
      "Epoch 26/50\n",
      "404/404 [==============================] - 0s 230us/sample - loss: 8.8665 - mean_squared_error: 8.8665 - mean_absolute_error: 2.1119 - val_loss: 20.7654 - val_mean_squared_error: 20.7654 - val_mean_absolute_error: 2.8971\n",
      "Epoch 27/50\n",
      "404/404 [==============================] - 0s 242us/sample - loss: 8.9581 - mean_squared_error: 8.9581 - mean_absolute_error: 2.1216 - val_loss: 21.6271 - val_mean_squared_error: 21.6271 - val_mean_absolute_error: 2.9401\n",
      "Epoch 28/50\n",
      "404/404 [==============================] - 0s 206us/sample - loss: 8.8500 - mean_squared_error: 8.8500 - mean_absolute_error: 2.1201 - val_loss: 19.8146 - val_mean_squared_error: 19.8146 - val_mean_absolute_error: 2.8263\n",
      "Epoch 29/50\n",
      "404/404 [==============================] - 0s 206us/sample - loss: 8.6591 - mean_squared_error: 8.6591 - mean_absolute_error: 2.0900 - val_loss: 20.6743 - val_mean_squared_error: 20.6744 - val_mean_absolute_error: 2.8317\n",
      "Epoch 30/50\n",
      "404/404 [==============================] - 0s 204us/sample - loss: 8.5138 - mean_squared_error: 8.5138 - mean_absolute_error: 2.0570 - val_loss: 21.5337 - val_mean_squared_error: 21.5337 - val_mean_absolute_error: 2.9370\n",
      "Epoch 31/50\n",
      "404/404 [==============================] - 0s 201us/sample - loss: 8.4559 - mean_squared_error: 8.4559 - mean_absolute_error: 2.0585 - val_loss: 21.6613 - val_mean_squared_error: 21.6613 - val_mean_absolute_error: 2.9142\n",
      "Epoch 32/50\n",
      "404/404 [==============================] - 0s 207us/sample - loss: 8.4454 - mean_squared_error: 8.4454 - mean_absolute_error: 2.0629 - val_loss: 20.5771 - val_mean_squared_error: 20.5771 - val_mean_absolute_error: 2.8021\n",
      "Epoch 33/50\n",
      "404/404 [==============================] - 0s 214us/sample - loss: 8.2102 - mean_squared_error: 8.2102 - mean_absolute_error: 2.0160 - val_loss: 21.0968 - val_mean_squared_error: 21.0968 - val_mean_absolute_error: 2.8660\n",
      "Epoch 34/50\n",
      "404/404 [==============================] - 0s 207us/sample - loss: 8.2843 - mean_squared_error: 8.2843 - mean_absolute_error: 2.0475 - val_loss: 20.8187 - val_mean_squared_error: 20.8187 - val_mean_absolute_error: 2.8353\n",
      "Epoch 35/50\n",
      "404/404 [==============================] - 0s 202us/sample - loss: 8.2249 - mean_squared_error: 8.2249 - mean_absolute_error: 2.0295 - val_loss: 20.3455 - val_mean_squared_error: 20.3455 - val_mean_absolute_error: 2.8781\n",
      "Epoch 36/50\n",
      "404/404 [==============================] - 0s 204us/sample - loss: 7.9808 - mean_squared_error: 7.9808 - mean_absolute_error: 1.9982 - val_loss: 20.1765 - val_mean_squared_error: 20.1765 - val_mean_absolute_error: 2.7955\n",
      "Epoch 37/50\n",
      "404/404 [==============================] - 0s 211us/sample - loss: 8.0514 - mean_squared_error: 8.0514 - mean_absolute_error: 2.0012 - val_loss: 21.4193 - val_mean_squared_error: 21.4193 - val_mean_absolute_error: 2.9371\n",
      "Epoch 38/50\n",
      "404/404 [==============================] - 0s 204us/sample - loss: 8.0907 - mean_squared_error: 8.0907 - mean_absolute_error: 2.0292 - val_loss: 21.0507 - val_mean_squared_error: 21.0507 - val_mean_absolute_error: 2.8567\n",
      "Epoch 39/50\n",
      "404/404 [==============================] - 0s 213us/sample - loss: 7.7154 - mean_squared_error: 7.7154 - mean_absolute_error: 1.9764 - val_loss: 19.1470 - val_mean_squared_error: 19.1470 - val_mean_absolute_error: 2.7189\n",
      "Epoch 40/50\n",
      "404/404 [==============================] - 0s 208us/sample - loss: 7.6483 - mean_squared_error: 7.6483 - mean_absolute_error: 1.9604 - val_loss: 20.1083 - val_mean_squared_error: 20.1083 - val_mean_absolute_error: 2.7960\n",
      "Epoch 41/50\n",
      "404/404 [==============================] - 0s 203us/sample - loss: 7.6181 - mean_squared_error: 7.6181 - mean_absolute_error: 1.9667 - val_loss: 19.0268 - val_mean_squared_error: 19.0268 - val_mean_absolute_error: 2.7086\n",
      "Epoch 42/50\n",
      "404/404 [==============================] - 0s 208us/sample - loss: 7.5572 - mean_squared_error: 7.5572 - mean_absolute_error: 1.9621 - val_loss: 19.5903 - val_mean_squared_error: 19.5903 - val_mean_absolute_error: 2.8741\n",
      "Epoch 43/50\n",
      "404/404 [==============================] - 0s 201us/sample - loss: 7.5377 - mean_squared_error: 7.5377 - mean_absolute_error: 1.9451 - val_loss: 19.1469 - val_mean_squared_error: 19.1469 - val_mean_absolute_error: 2.6971\n",
      "Epoch 44/50\n",
      "404/404 [==============================] - 0s 200us/sample - loss: 7.3644 - mean_squared_error: 7.3644 - mean_absolute_error: 1.9376 - val_loss: 18.8672 - val_mean_squared_error: 18.8672 - val_mean_absolute_error: 2.7070\n",
      "Epoch 45/50\n",
      "404/404 [==============================] - 0s 204us/sample - loss: 7.4625 - mean_squared_error: 7.4625 - mean_absolute_error: 1.9208 - val_loss: 20.5108 - val_mean_squared_error: 20.5108 - val_mean_absolute_error: 2.8262\n",
      "Epoch 46/50\n",
      "404/404 [==============================] - 0s 205us/sample - loss: 7.4582 - mean_squared_error: 7.4582 - mean_absolute_error: 1.9357 - val_loss: 18.5519 - val_mean_squared_error: 18.5519 - val_mean_absolute_error: 2.6826\n",
      "Epoch 47/50\n",
      "404/404 [==============================] - 0s 200us/sample - loss: 7.1599 - mean_squared_error: 7.1599 - mean_absolute_error: 1.9217 - val_loss: 19.3597 - val_mean_squared_error: 19.3597 - val_mean_absolute_error: 2.7528\n",
      "Epoch 48/50\n",
      "404/404 [==============================] - 0s 208us/sample - loss: 7.2610 - mean_squared_error: 7.2610 - mean_absolute_error: 1.9221 - val_loss: 19.0080 - val_mean_squared_error: 19.0080 - val_mean_absolute_error: 2.6824\n",
      "Epoch 49/50\n",
      "404/404 [==============================] - 0s 206us/sample - loss: 7.2045 - mean_squared_error: 7.2045 - mean_absolute_error: 1.9392 - val_loss: 18.1441 - val_mean_squared_error: 18.1441 - val_mean_absolute_error: 2.6287\n",
      "Epoch 50/50\n",
      "404/404 [==============================] - 0s 204us/sample - loss: 6.9279 - mean_squared_error: 6.9279 - mean_absolute_error: 1.8578 - val_loss: 18.4876 - val_mean_squared_error: 18.4876 - val_mean_absolute_error: 2.6722\n"
     ]
    },
    {
     "data": {
      "text/plain": [
       "<tensorflow.python.keras.callbacks.History at 0x7fe473ff6710>"
      ]
     },
     "execution_count": 5,
     "metadata": {},
     "output_type": "execute_result"
    }
   ],
   "source": [
    "from tensorflow import keras\n",
    "from tensorflow.keras.models import Sequential\n",
    "from tensorflow.keras.layers import Dense\n",
    "\n",
    "# Important Hyperparameters\n",
    "inputs = x_train.shape[1]\n",
    "epochs = 50\n",
    "batch_size = 10\n",
    "\n",
    "\n",
    "# Create Model\n",
    "model = Sequential()\n",
    "model.add(Dense(64, activation='relu', input_shape=(inputs,)))\n",
    "model.add(Dense(64, activation='relu'))\n",
    "model.add(Dense(1))\n",
    "\n",
    "# Compile Model\n",
    "model.compile(optimizer='adam', loss='mse', metrics=['mse', 'mae'])\n",
    "\n",
    "# ira's note: we use MSE because our output is continuous.\n",
    "# ira's note: line of code we focus on: validation_data code below.  \n",
    "\n",
    "# Fit Model\n",
    "model.fit(x_train, y_train, \n",
    "          validation_data=(x_test,y_test), \n",
    "          epochs=epochs, \n",
    "          batch_size=batch_size,\n",
    "          verbose=True\n",
    "         )"
   ]
  },
  {
   "cell_type": "code",
   "execution_count": 6,
   "metadata": {},
   "outputs": [],
   "source": [
    "# This model is the architecture we want to iterate on for the rest of class."
   ]
  },
  {
   "cell_type": "markdown",
   "metadata": {
    "colab_type": "text",
    "id": "sYJ8t_ezHP4W"
   },
   "source": [
    "### Hyperparameter Tuning Approaches:\n",
    "\n",
    "#### 1) Babysitting AKA \"Grad Student Descent\".\n",
    "\n",
    "If you fiddled with any hyperparameters yesterday, this is basically what you did. This approach is 100% manual and is pretty common among researchers where finding that 1 exact specification that jumps your model to a level of accuracy never seen before is the difference between publishing and not publishing a paper. Of course the professors don't do this themselves, that's grunt work. This is also known as the fiddle with hyperparameters until you run out of time method.\n",
    "\n",
    "#### 2) Grid Search\n",
    "\n",
    "Grid Search is the Grad Student galaxy brain realization of: why don't I just specify all the experiments I want to run and let the computer try every possible combination of them while I go and grab lunch. This has a specific downside in that if I specify 5 hyperparameters with 5 options each then I've just created 5^5 combinations of hyperparameters to check. Which means that I have to train 3125 different versions of my model Then if I use 5-fold Cross Validation on that then my model has to run 15,525 times. This is the brute-force method of hyperparameter tuning, but it can be very profitable if done wisely. \n",
    "\n",
    "When using Grid Search here's what I suggest: don't use it to test combinations of different hyperparameters, only use it to test different specifications of **a single** hyperparameter. It's rare that combinations between different hyperparameters lead to big performance gains. You'll get 90-95% of the way there if you just Grid Search one parameter and take the best result, then retain that best result while you test another, and then retain the best specification from that while you train another. This at least makes the situation much more manageable and leads to pretty good results. \n",
    "\n",
    "#### 3) Random Search\n",
    "\n",
    "Do Grid Search for a couple of hours and you'll say to yourself - \"There's got to be a better way.\" Enter Random Search. For Random search you specify a hyperparameter space and it picks specifications from that randomly, tries them out, gives you the best results and says - That's going to have to be good enough, go home and spend time with your family. \n",
    "\n",
    "Grid Search treats every parameter as if it was equally important, but this just isn't the case, some are known to move the needle a lot more than others (we'll talk about that in a minute). Random Search allows searching to be specified along the most important parameter and experiments less along the dimensions of less important hyperparameters. The downside of Random search is that it won't find the absolute best hyperparameters, but it is much less costly to perform than Grid Search. \n",
    "\n",
    "#### 4) Bayesian Methods\n",
    "\n",
    "One thing that can make more manual methods like babysitting and gridsearch effective is that as the experimenter sees results he can then make updates to his future searches taking into account the results of past specifications. If only we could hyperparameter tune our hyperparameter tuning. Well, we kind of can. Enter Bayesian Optimization. Neural Networks are like an optimization problem within an optimization problem, and Bayesian Optimization is a search strategy that tries to take into account the results of past searches in order to improve future ones. This is the most advanced method but can be a little bit tricky to implement, but there are some early steps with `hyperas` which is Bayesian optimization wrapper for `keras`. "
   ]
  },
  {
   "cell_type": "markdown",
   "metadata": {
    "colab_type": "text",
    "id": "HfQ7D043OMMn"
   },
   "source": [
    "## What Hyperparameters are there to test?\n",
    "\n",
    "- batch_size\n",
    "- training epochs\n",
    "- optimization algorithms\n",
    "- learning rate\n",
    "- momentum\n",
    "- activation functions\n",
    "- dropout regularization\n",
    "- number of neurons in the hidden layer\n",
    "\n",
    "There are more, but these are the most important."
   ]
  },
  {
   "cell_type": "markdown",
   "metadata": {},
   "source": [
    "## Follow Along"
   ]
  },
  {
   "cell_type": "markdown",
   "metadata": {
    "colab_type": "text",
    "id": "Mri5-kXzVKAa"
   },
   "source": [
    "## Batch Size\n",
    "\n",
    "Batch size determines how many observations the model is shown before it calculates loss/error and updates the model weights via gradient descent. You're looking for a sweet spot here where you're showing it enough observations that you have enough information to updates the weights, but not such a large batch size that you don't get a lot of weight update iterations performed in a given epoch. Feed-forward Neural Networks aren't as sensitive to bach_size as other networks, but it is still an important hyperparameter to tune. Smaller batch sizes will also take longer to train. "
   ]
  },
  {
   "cell_type": "code",
   "execution_count": 7,
   "metadata": {
    "colab": {
     "base_uri": "https://localhost:8080/",
     "height": 13561
    },
    "colab_type": "code",
    "id": "2smXfriNAGn7",
    "outputId": "ae996575-78e2-43fb-9dbe-5d44aaf0b430"
   },
   "outputs": [
    {
     "name": "stdout",
     "output_type": "stream",
     "text": [
      "WARNING:tensorflow:From /home/ec2-user/anaconda3/envs/tensorflow_p36/lib/python3.6/site-packages/tensorflow/python/ops/nn_impl.py:180: add_dispatch_support.<locals>.wrapper (from tensorflow.python.ops.array_ops) is deprecated and will be removed in a future version.\n",
      "Instructions for updating:\n",
      "Use tf.where in 2.0, which has the same broadcast rule as np.where\n"
     ]
    },
    {
     "name": "stderr",
     "output_type": "stream",
     "text": [
      "/home/ec2-user/anaconda3/envs/tensorflow_p36/lib/python3.6/site-packages/sklearn/model_selection/_split.py:1978: FutureWarning: The default value of cv will change from 3 to 5 in version 0.22. Specify it explicitly to silence this warning.\n",
      "  warnings.warn(CV_WARNING, FutureWarning)\n"
     ]
    },
    {
     "name": "stdout",
     "output_type": "stream",
     "text": [
      "Best: 0.6380208333333334 using {'batch_size': 20, 'epochs': 20}\n",
      "Means: 0.6171875, Stdev: 0.027621358640099514 with: {'batch_size': 10, 'epochs': 20}\n",
      "Means: 0.6380208333333334, Stdev: 0.02749832302336312 with: {'batch_size': 20, 'epochs': 20}\n",
      "Means: 0.5950520833333334, Stdev: 0.040385579216851104 with: {'batch_size': 40, 'epochs': 20}\n",
      "Means: 0.54296875, Stdev: 0.06697823515422753 with: {'batch_size': 60, 'epochs': 20}\n",
      "Means: 0.57421875, Stdev: 0.03314563036811941 with: {'batch_size': 80, 'epochs': 20}\n",
      "Means: 0.4921875, Stdev: 0.08930431353897003 with: {'batch_size': 100, 'epochs': 20}\n"
     ]
    }
   ],
   "source": [
    "import numpy\n",
    "import pandas as pd\n",
    "from sklearn.model_selection import GridSearchCV\n",
    "from tensorflow.keras.models import Sequential\n",
    "from tensorflow.keras.layers import Dense\n",
    "from tensorflow.keras.wrappers.scikit_learn import KerasClassifier\n",
    "\n",
    "# fix random seed for reproducibility\n",
    "seed = 7\n",
    "numpy.random.seed(seed)\n",
    "\n",
    "# load dataset\n",
    "url =\"https://raw.githubusercontent.com/jbrownlee/Datasets/master/pima-indians-diabetes.data.csv\"\n",
    "\n",
    "dataset = pd.read_csv(url, header=None).values\n",
    "\n",
    "# split into input (X) and output (Y) variables\n",
    "X = dataset[:,0:8]\n",
    "Y = dataset[:,8]\n",
    "\n",
    "# Function to create model, required for KerasClassifier\n",
    "def create_model():\n",
    "    # create model\n",
    "    model = Sequential()\n",
    "    model.add(Dense(12, input_dim=8, activation='relu'))\n",
    "    model.add(Dense(1, activation='sigmoid'))\n",
    "    # Compile model\n",
    "    model.compile(loss='binary_crossentropy', optimizer='adam', metrics=['accuracy'])\n",
    "    return model\n",
    "\n",
    "# create model\n",
    "model = KerasClassifier(build_fn=create_model, verbose=0)\n",
    "\n",
    "# define the grid search parameters\n",
    "# batch_size = [10, 20, 40, 60, 80, 100]\n",
    "# param_grid = dict(batch_size=batch_size, epochs=epochs)\n",
    "\n",
    "# define the grid search parameters\n",
    "param_grid = {'batch_size': [10, 20, 40, 60, 80, 100],\n",
    "              'epochs': [20]}\n",
    "\n",
    "# Create Grid Search\n",
    "grid = GridSearchCV(estimator=model, param_grid=param_grid, n_jobs=1)\n",
    "grid_result = grid.fit(X, Y)\n",
    "\n",
    "# Report Results\n",
    "print(f\"Best: {grid_result.best_score_} using {grid_result.best_params_}\")\n",
    "means = grid_result.cv_results_['mean_test_score']\n",
    "stds = grid_result.cv_results_['std_test_score']\n",
    "params = grid_result.cv_results_['params']\n",
    "for mean, stdev, param in zip(means, stds, params):\n",
    "    print(f\"Means: {mean}, Stdev: {stdev} with: {param}\") "
   ]
  },
  {
   "cell_type": "markdown",
   "metadata": {
    "colab_type": "text",
    "id": "pmABfjlvXbqi"
   },
   "source": [
    "## Epochs\n",
    "\n",
    "The number of training epochs has a large and direct affect on the accuracy, However, more epochs is almost always goign to better than less epochs. This means that if you tune this parameter at the beginning and try and maintain the same value all throughout your training, you're going to be waiting a long time for each iteration of GridSearch. I suggest picking a fixed moderat # of epochs all throughout your training and then Grid Searching this parameter at the very end. "
   ]
  },
  {
   "cell_type": "code",
   "execution_count": 8,
   "metadata": {
    "colab": {
     "base_uri": "https://localhost:8080/",
     "height": 26329
    },
    "colab_type": "code",
    "id": "bAmxP3N7TmFh",
    "outputId": "3ddb08c4-51ac-4eaa-ff39-143397024544"
   },
   "outputs": [
    {
     "name": "stderr",
     "output_type": "stream",
     "text": [
      "/home/ec2-user/anaconda3/envs/tensorflow_p36/lib/python3.6/site-packages/sklearn/model_selection/_split.py:1978: FutureWarning: The default value of cv will change from 3 to 5 in version 0.22. Specify it explicitly to silence this warning.\n",
      "  warnings.warn(CV_WARNING, FutureWarning)\n"
     ]
    },
    {
     "name": "stdout",
     "output_type": "stream",
     "text": [
      "Best: 0.67578125 using {'batch_size': 20, 'epochs': 200}\n",
      "Means: 0.6197916666666666, Stdev: 0.01120094435812842 with: {'batch_size': 20, 'epochs': 20}\n",
      "Means: 0.6705729166666666, Stdev: 0.03513212907091677 with: {'batch_size': 20, 'epochs': 40}\n",
      "Means: 0.6484375, Stdev: 0.036782413780795664 with: {'batch_size': 20, 'epochs': 60}\n",
      "Means: 0.67578125, Stdev: 0.016876928902103804 with: {'batch_size': 20, 'epochs': 200}\n"
     ]
    }
   ],
   "source": [
    "# define the grid search parameters\n",
    "param_grid = {'batch_size': [20],\n",
    "              'epochs': [20, 40, 60,200]}\n",
    "\n",
    "# Create Grid Search\n",
    "grid = GridSearchCV(estimator=model, param_grid=param_grid, n_jobs=1)\n",
    "grid_result = grid.fit(X, Y)\n",
    "\n",
    "# Report Results\n",
    "print(f\"Best: {grid_result.best_score_} using {grid_result.best_params_}\")\n",
    "means = grid_result.cv_results_['mean_test_score']\n",
    "stds = grid_result.cv_results_['std_test_score']\n",
    "params = grid_result.cv_results_['params']\n",
    "for mean, stdev, param in zip(means, stds, params):\n",
    "    print(f\"Means: {mean}, Stdev: {stdev} with: {param}\")"
   ]
  },
  {
   "cell_type": "markdown",
   "metadata": {
    "colab_type": "text",
    "id": "EKcuY6OiaLfz"
   },
   "source": [
    "## Optimizer\n",
    "\n",
    "Remember that there's a different optimizers [optimizers](https://keras.io/optimizers/). At some point, take some time to read up on them a little bit. \"adam\" usually gives the best results. The thing to know about choosing an optimizer is that different optimizers have different hyperparameters like learning rate, momentum, etc. So based on the optimizer you choose you might also have to tune the learning rate and momentum of those optimizers after that. "
   ]
  },
  {
   "cell_type": "markdown",
   "metadata": {
    "colab_type": "text",
    "id": "DG3wq5iOaLig"
   },
   "source": [
    "## Learning Rate\n",
    "\n",
    "Remember that the Learning Rate is a hyperparameter that is specific to your gradient-descent based optimizer selection. A learning rate that is too high will cause divergent behavior, but a Learning Rate that is too low will fail to converge, again, you're looking for the sweet spot. I would start out tuning learning rates by orders of magnitude: [.001, .01, .1, .2, .3, .5] etc. I wouldn't go above .5, but you can try it and see what the behavior is like. \n",
    "\n",
    "Once you have narrowed it down, make the window even smaller and try it again. If after running the above specification your model reports that .1 is the best optimizer, then you should probably try things like [.05, .08, .1, .12, .15] to try and narrow it down. \n",
    "\n",
    "It can also be good to tune the number of epochs in combination with the learning rate since the number of iterations that you allow the learning rate to reach the minimum can determine if you have let it run long enough to converge to the minimum. "
   ]
  },
  {
   "cell_type": "markdown",
   "metadata": {
    "colab_type": "text",
    "id": "gNTBUWd1aLlA"
   },
   "source": [
    "## Momentum\n",
    "\n",
    "Momentum is a hyperparameter that is more commonly associated with Stochastic Gradient Descent. SGD is a common optimizer because it's what people understand and know, but I doubt it will get you the best results, you can try hyperparameter tuning its attributes and see if you can beat the performance from adam. Momentum is a property that decides the willingness of an optimizer to overshoot the minimum. Imagine a ball rolling down one side of a bowl and then up the opposite side a little bit before settling back to the bottom. The purpose of momentum is to try and escale local minima."
   ]
  },
  {
   "cell_type": "markdown",
   "metadata": {
    "colab_type": "text",
    "id": "xnEG-bCJaLnZ"
   },
   "source": [
    "## Activation Functions\n",
    "\n",
    "We've talked about this a little bit, typically you'l want to use ReLU for hidden layers and either Sigmoid, or Softmax for output layers of binary and multi-class classification implementations respectively, but try other activation functions and see if you can get any better results with sigmoid or tanh or something. There are a lot of activation functions that we haven't really talked about. Maybe you'll get good results with them. Maybe you won't. :) <https://keras.io/activations/>"
   ]
  },
  {
   "cell_type": "markdown",
   "metadata": {
    "colab_type": "text",
    "id": "oul9sPq-dU-h"
   },
   "source": [
    "## Network Weight Initialization\n",
    "\n",
    "You saw how big of an effect the way that we initialize our network's weights can have on our results. There are **a lot** of what are called initialization modes. I don't understand all of them, but they can have a big affect on your model's initial accuracy. Your model will get further with less epochs if you initialize it with weights that are well suited to the problem you're trying to solve.\n",
    "\n",
    "`init_mode = ['uniform', 'lecun_uniform', 'normal', 'zero', 'glorot_normal', 'glorot_uniform', 'he_normal', 'he_uniform']`"
   ]
  },
  {
   "cell_type": "markdown",
   "metadata": {
    "colab_type": "text",
    "id": "bqtEuxeQaLqE"
   },
   "source": [
    "## Dropout Regularization and the Weight Constraint\n",
    "\n",
    "the Dropout Regularization value is a percentage of neurons that you want to be randomly deactivated during training. The weight constraint is a second regularization parameter that works in tandem with dropout regularization. You should tune these two values at the same time. \n",
    "\n",
    "Using dropout on visible vs hidden layers might have a different effect. Using dropout on hidden layers might not have any effect while using dropout on hidden layers might have a substantial effect. You don't necessarily need to turn use dropout unless you see that your model has overfitting and generalizability problems."
   ]
  },
  {
   "cell_type": "markdown",
   "metadata": {
    "colab_type": "text",
    "id": "P2c5Cv6oaLtO"
   },
   "source": [
    "## Neurons in Hidden Layer \n",
    "\n",
    "Remember that when we only had a single perceptron our model was only able to fit to linearly separable data, but as we have added layers and nodes to those layers our network has become a powerhouse of fitting nonlinearity in data. The larger the network and the more nodes generally the stronger the network's capacity to fit nonlinear patterns in data. The more nodes and layers the longer it will take to train a network, and higher the probability of overfitting. The larger your network gets the more you'll need dropout regularization or other regularization techniques to keep it in check. \n",
    "\n",
    "Typically depth (more layers) is more important than width (more nodes) for neural networks. This is part of why Deep Learning is so highly touted. Certain deep learning architectures have truly been huge breakthroughs for certain machine learning tasks. \n",
    "\n",
    "You might borrow ideas from other network architectures. For example if I was doing image recognition and I wasn't taking cues from state of the art architectures like resnet, alexnet, googlenet, etc. Then I'm probably going to have to do a lot more experimentation on my own before I find something that works.\n",
    "\n",
    "There are some heuristics, but I am highly skeptical of them. I think you're better off experimenting on your own and forming your own intuition for these kinds of problems. \n",
    "\n",
    "- https://machinelearningmastery.com/how-to-configure-the-number-of-layers-and-nodes-in-a-neural-network/"
   ]
  },
  {
   "cell_type": "markdown",
   "metadata": {},
   "source": [
    "## Challenge\n",
    "You will be expected to tune several hyperparameters in today's module project. "
   ]
  },
  {
   "cell_type": "markdown",
   "metadata": {},
   "source": [
    "# Experiment Tracking Framework (Learn)\n",
    "<a id=\"p2\"></a>"
   ]
  },
  {
   "cell_type": "markdown",
   "metadata": {},
   "source": [
    "## Overview\n",
    "\n",
    "You will notice quickly that managing the results of all the experiments you are running becomes challenging. Which set of parameters did the best? Are my results today different than my results yesterday? Although we use Ipython Notebooks to work, the format is not well suited to logging experimental results. Enter experiment tracking frameworks like [Comet.ml](https://comet.ml) and [Weights and Biases](https://wandb.ai/).\n",
    "\n",
    "Those tools will help you track your experiments, store the results, and the code associated with those experiments. Experimental results can also be readily visualized to see changes in performance across any metric you care about. Data is sent to the tool as each epoch is completed, so you can also see if your model is converging. Let's check out Weights & Biases today. "
   ]
  },
  {
   "cell_type": "markdown",
   "metadata": {},
   "source": [
    "## Follow Along\n",
    "\n",
    "Make sure you login into `wandb` in the terminal before running the next cell. "
   ]
  },
  {
   "cell_type": "code",
   "execution_count": 9,
   "metadata": {},
   "outputs": [],
   "source": [
    "import wandb\n",
    "from wandb.keras import WandbCallback"
   ]
  },
  {
   "cell_type": "code",
   "execution_count": 10,
   "metadata": {
    "colab": {
     "base_uri": "https://localhost:8080/",
     "height": 1750
    },
    "colab_type": "code",
    "id": "GMXVfmzXp1Oo",
    "outputId": "b05e251e-508f-46e6-865b-f869ae2a5dc4"
   },
   "outputs": [
    {
     "data": {
      "text/html": [
       "\n",
       "                Logging results to <a href=\"https://wandb.com\" target=\"_blank\">Weights & Biases</a> <a href=\"https://docs.wandb.com/integrations/jupyter.html\" target=\"_blank\">(Documentation)</a>.<br/>\n",
       "                Project page: <a href=\"https://app.wandb.ai/lambda-ds7/boston\" target=\"_blank\">https://app.wandb.ai/lambda-ds7/boston</a><br/>\n",
       "                Run page: <a href=\"https://app.wandb.ai/lambda-ds7/boston/runs/dvunkkjc\" target=\"_blank\">https://app.wandb.ai/lambda-ds7/boston/runs/dvunkkjc</a><br/>\n",
       "            "
      ],
      "text/plain": [
       "<IPython.core.display.HTML object>"
      ]
     },
     "metadata": {},
     "output_type": "display_data"
    },
    {
     "name": "stderr",
     "output_type": "stream",
     "text": [
      "Failed to query for notebook name, you can set it manually with the WANDB_NOTEBOOK_NAME environment variable\n",
      "Error generating diff: Command '['git', 'diff', '--submodule=diff', 'HEAD']' timed out after 5 seconds\n"
     ]
    },
    {
     "name": "stdout",
     "output_type": "stream",
     "text": [
      "Train on 270 samples, validate on 134 samples\n",
      "Epoch 1/50\n",
      "270/270 [==============================] - 3s 11ms/sample - loss: 479.0100 - mean_squared_error: 479.0100 - mean_absolute_error: 19.8207 - val_loss: 452.8062 - val_mean_squared_error: 452.8062 - val_mean_absolute_error: 18.6513\n",
      "Epoch 2/50\n",
      "270/270 [==============================] - 0s 494us/sample - loss: 230.7918 - mean_squared_error: 230.7918 - mean_absolute_error: 12.5824 - val_loss: 125.7682 - val_mean_squared_error: 125.7682 - val_mean_absolute_error: 8.5769\n",
      "Epoch 3/50\n",
      "270/270 [==============================] - 0s 470us/sample - loss: 61.7277 - mean_squared_error: 61.7277 - mean_absolute_error: 6.1543 - val_loss: 71.0394 - val_mean_squared_error: 71.0394 - val_mean_absolute_error: 6.1295\n",
      "Epoch 4/50\n",
      "270/270 [==============================] - 0s 455us/sample - loss: 32.9367 - mean_squared_error: 32.9367 - mean_absolute_error: 4.2328 - val_loss: 44.6640 - val_mean_squared_error: 44.6640 - val_mean_absolute_error: 4.5710\n",
      "Epoch 5/50\n",
      "270/270 [==============================] - 0s 461us/sample - loss: 21.9643 - mean_squared_error: 21.9643 - mean_absolute_error: 3.3663 - val_loss: 36.2215 - val_mean_squared_error: 36.2215 - val_mean_absolute_error: 3.8338\n",
      "Epoch 6/50\n",
      "270/270 [==============================] - 0s 450us/sample - loss: 17.5885 - mean_squared_error: 17.5885 - mean_absolute_error: 2.9593 - val_loss: 31.3605 - val_mean_squared_error: 31.3605 - val_mean_absolute_error: 3.4902\n",
      "Epoch 7/50\n",
      "270/270 [==============================] - 0s 451us/sample - loss: 15.5383 - mean_squared_error: 15.5383 - mean_absolute_error: 2.8818 - val_loss: 28.7286 - val_mean_squared_error: 28.7285 - val_mean_absolute_error: 3.2463\n",
      "Epoch 8/50\n",
      "270/270 [==============================] - 0s 456us/sample - loss: 13.6827 - mean_squared_error: 13.6827 - mean_absolute_error: 2.6855 - val_loss: 25.9204 - val_mean_squared_error: 25.9204 - val_mean_absolute_error: 3.0722\n",
      "Epoch 9/50\n",
      "270/270 [==============================] - 0s 537us/sample - loss: 12.3046 - mean_squared_error: 12.3046 - mean_absolute_error: 2.5197 - val_loss: 23.9055 - val_mean_squared_error: 23.9055 - val_mean_absolute_error: 2.9991\n",
      "Epoch 10/50\n",
      "270/270 [==============================] - 0s 473us/sample - loss: 11.3196 - mean_squared_error: 11.3196 - mean_absolute_error: 2.4596 - val_loss: 22.0327 - val_mean_squared_error: 22.0327 - val_mean_absolute_error: 2.8855\n",
      "Epoch 11/50\n",
      "270/270 [==============================] - 0s 460us/sample - loss: 10.5614 - mean_squared_error: 10.5614 - mean_absolute_error: 2.3595 - val_loss: 21.1707 - val_mean_squared_error: 21.1707 - val_mean_absolute_error: 2.8565\n",
      "Epoch 12/50\n",
      "270/270 [==============================] - 0s 463us/sample - loss: 10.0615 - mean_squared_error: 10.0615 - mean_absolute_error: 2.3201 - val_loss: 19.3116 - val_mean_squared_error: 19.3116 - val_mean_absolute_error: 2.8036\n",
      "Epoch 13/50\n",
      "270/270 [==============================] - 0s 368us/sample - loss: 9.8356 - mean_squared_error: 9.8356 - mean_absolute_error: 2.4017 - val_loss: 19.3702 - val_mean_squared_error: 19.3702 - val_mean_absolute_error: 2.8139\n",
      "Epoch 14/50\n",
      "270/270 [==============================] - 0s 457us/sample - loss: 9.5193 - mean_squared_error: 9.5193 - mean_absolute_error: 2.2947 - val_loss: 18.3088 - val_mean_squared_error: 18.3088 - val_mean_absolute_error: 2.8336\n",
      "Epoch 15/50\n",
      "270/270 [==============================] - 0s 456us/sample - loss: 9.0787 - mean_squared_error: 9.0787 - mean_absolute_error: 2.2819 - val_loss: 18.2192 - val_mean_squared_error: 18.2192 - val_mean_absolute_error: 2.7630\n",
      "Epoch 16/50\n",
      "270/270 [==============================] - 0s 466us/sample - loss: 8.5953 - mean_squared_error: 8.5953 - mean_absolute_error: 2.1835 - val_loss: 17.9757 - val_mean_squared_error: 17.9757 - val_mean_absolute_error: 2.7841\n",
      "Epoch 17/50\n",
      "270/270 [==============================] - 0s 463us/sample - loss: 8.3166 - mean_squared_error: 8.3166 - mean_absolute_error: 2.2106 - val_loss: 17.6487 - val_mean_squared_error: 17.6487 - val_mean_absolute_error: 2.7261\n",
      "Epoch 18/50\n",
      "270/270 [==============================] - ETA: 0s - loss: 8.8486 - mean_squared_error: 8.8486 - mean_absolute_error: 2.1413 - 0s 455us/sample - loss: 8.2093 - mean_squared_error: 8.2093 - mean_absolute_error: 2.1254 - val_loss: 17.2565 - val_mean_squared_error: 17.2565 - val_mean_absolute_error: 2.6970\n",
      "Epoch 19/50\n",
      "270/270 [==============================] - 0s 453us/sample - loss: 7.8033 - mean_squared_error: 7.8033 - mean_absolute_error: 2.1135 - val_loss: 17.1571 - val_mean_squared_error: 17.1571 - val_mean_absolute_error: 2.7354\n",
      "Epoch 20/50\n",
      "270/270 [==============================] - 0s 449us/sample - loss: 7.5213 - mean_squared_error: 7.5213 - mean_absolute_error: 2.0556 - val_loss: 16.9325 - val_mean_squared_error: 16.9325 - val_mean_absolute_error: 2.6942\n",
      "Epoch 21/50\n",
      "270/270 [==============================] - 0s 409us/sample - loss: 7.4872 - mean_squared_error: 7.4872 - mean_absolute_error: 2.0515 - val_loss: 16.9616 - val_mean_squared_error: 16.9616 - val_mean_absolute_error: 2.7445\n",
      "Epoch 22/50\n",
      "270/270 [==============================] - 0s 511us/sample - loss: 7.5984 - mean_squared_error: 7.5984 - mean_absolute_error: 2.0917 - val_loss: 16.1925 - val_mean_squared_error: 16.1925 - val_mean_absolute_error: 2.6985\n",
      "Epoch 23/50\n",
      "270/270 [==============================] - 0s 431us/sample - loss: 7.1139 - mean_squared_error: 7.1139 - mean_absolute_error: 1.9890 - val_loss: 16.7743 - val_mean_squared_error: 16.7743 - val_mean_absolute_error: 2.6984\n",
      "Epoch 24/50\n",
      "270/270 [==============================] - 0s 433us/sample - loss: 6.9875 - mean_squared_error: 6.9875 - mean_absolute_error: 1.9797 - val_loss: 17.0797 - val_mean_squared_error: 17.0797 - val_mean_absolute_error: 2.6934\n",
      "Epoch 25/50\n",
      "270/270 [==============================] - 0s 378us/sample - loss: 6.8004 - mean_squared_error: 6.8004 - mean_absolute_error: 1.9382 - val_loss: 16.3513 - val_mean_squared_error: 16.3513 - val_mean_absolute_error: 2.6621\n",
      "Epoch 26/50\n",
      "270/270 [==============================] - 0s 361us/sample - loss: 7.2511 - mean_squared_error: 7.2511 - mean_absolute_error: 2.0742 - val_loss: 17.8552 - val_mean_squared_error: 17.8552 - val_mean_absolute_error: 2.8072\n",
      "Epoch 27/50\n",
      "270/270 [==============================] - 0s 399us/sample - loss: 6.6903 - mean_squared_error: 6.6903 - mean_absolute_error: 1.9636 - val_loss: 16.6698 - val_mean_squared_error: 16.6698 - val_mean_absolute_error: 2.7445\n",
      "Epoch 28/50\n",
      "270/270 [==============================] - 0s 453us/sample - loss: 6.8104 - mean_squared_error: 6.8104 - mean_absolute_error: 1.9539 - val_loss: 15.7882 - val_mean_squared_error: 15.7882 - val_mean_absolute_error: 2.5929\n",
      "Epoch 29/50\n",
      "270/270 [==============================] - 0s 361us/sample - loss: 6.6584 - mean_squared_error: 6.6584 - mean_absolute_error: 1.9090 - val_loss: 16.1080 - val_mean_squared_error: 16.1080 - val_mean_absolute_error: 2.7437\n",
      "Epoch 30/50\n",
      "270/270 [==============================] - 0s 366us/sample - loss: 7.6653 - mean_squared_error: 7.6653 - mean_absolute_error: 2.0248 - val_loss: 16.2102 - val_mean_squared_error: 16.2102 - val_mean_absolute_error: 2.7375\n",
      "Epoch 31/50\n",
      "270/270 [==============================] - 0s 375us/sample - loss: 6.0716 - mean_squared_error: 6.0716 - mean_absolute_error: 1.8409 - val_loss: 16.3881 - val_mean_squared_error: 16.3881 - val_mean_absolute_error: 2.6664\n",
      "Epoch 32/50\n",
      "270/270 [==============================] - 0s 359us/sample - loss: 6.3041 - mean_squared_error: 6.3041 - mean_absolute_error: 1.8766 - val_loss: 16.2073 - val_mean_squared_error: 16.2073 - val_mean_absolute_error: 2.6747\n",
      "Epoch 33/50\n",
      "270/270 [==============================] - 0s 451us/sample - loss: 5.9444 - mean_squared_error: 5.9444 - mean_absolute_error: 1.8538 - val_loss: 15.5842 - val_mean_squared_error: 15.5842 - val_mean_absolute_error: 2.6253\n",
      "Epoch 34/50\n",
      "270/270 [==============================] - 0s 363us/sample - loss: 5.9751 - mean_squared_error: 5.9751 - mean_absolute_error: 1.8577 - val_loss: 16.0336 - val_mean_squared_error: 16.0336 - val_mean_absolute_error: 2.6651\n",
      "Epoch 35/50\n",
      "270/270 [==============================] - 0s 363us/sample - loss: 6.2923 - mean_squared_error: 6.2923 - mean_absolute_error: 1.8496 - val_loss: 16.8651 - val_mean_squared_error: 16.8651 - val_mean_absolute_error: 2.6743\n",
      "Epoch 36/50\n",
      "270/270 [==============================] - 0s 476us/sample - loss: 5.7774 - mean_squared_error: 5.7774 - mean_absolute_error: 1.7967 - val_loss: 15.5042 - val_mean_squared_error: 15.5042 - val_mean_absolute_error: 2.6356\n",
      "Epoch 37/50\n",
      "270/270 [==============================] - 0s 363us/sample - loss: 5.8536 - mean_squared_error: 5.8536 - mean_absolute_error: 1.8276 - val_loss: 15.9307 - val_mean_squared_error: 15.9307 - val_mean_absolute_error: 2.5841\n",
      "Epoch 38/50\n",
      "270/270 [==============================] - 0s 358us/sample - loss: 5.5479 - mean_squared_error: 5.5479 - mean_absolute_error: 1.7386 - val_loss: 16.5702 - val_mean_squared_error: 16.5702 - val_mean_absolute_error: 2.6827\n",
      "Epoch 39/50\n",
      "270/270 [==============================] - 0s 455us/sample - loss: 5.3394 - mean_squared_error: 5.3394 - mean_absolute_error: 1.7189 - val_loss: 15.2577 - val_mean_squared_error: 15.2577 - val_mean_absolute_error: 2.5726\n",
      "Epoch 40/50\n",
      "270/270 [==============================] - 0s 444us/sample - loss: 5.6733 - mean_squared_error: 5.6733 - mean_absolute_error: 1.7958 - val_loss: 14.8232 - val_mean_squared_error: 14.8232 - val_mean_absolute_error: 2.5043\n",
      "Epoch 41/50\n",
      "270/270 [==============================] - 0s 365us/sample - loss: 5.2072 - mean_squared_error: 5.2072 - mean_absolute_error: 1.6806 - val_loss: 15.5578 - val_mean_squared_error: 15.5578 - val_mean_absolute_error: 2.6016\n",
      "Epoch 42/50\n",
      "270/270 [==============================] - 0s 368us/sample - loss: 5.1318 - mean_squared_error: 5.1318 - mean_absolute_error: 1.6389 - val_loss: 14.9554 - val_mean_squared_error: 14.9554 - val_mean_absolute_error: 2.5542\n",
      "Epoch 43/50\n",
      "270/270 [==============================] - 0s 447us/sample - loss: 5.1734 - mean_squared_error: 5.1734 - mean_absolute_error: 1.6808 - val_loss: 14.5929 - val_mean_squared_error: 14.5929 - val_mean_absolute_error: 2.4818\n",
      "Epoch 44/50\n",
      "270/270 [==============================] - 0s 359us/sample - loss: 5.3035 - mean_squared_error: 5.3035 - mean_absolute_error: 1.6864 - val_loss: 15.0151 - val_mean_squared_error: 15.0151 - val_mean_absolute_error: 2.5294\n",
      "Epoch 45/50\n",
      "270/270 [==============================] - 0s 363us/sample - loss: 4.7719 - mean_squared_error: 4.7719 - mean_absolute_error: 1.6251 - val_loss: 14.7187 - val_mean_squared_error: 14.7187 - val_mean_absolute_error: 2.4801\n",
      "Epoch 46/50\n",
      "270/270 [==============================] - 0s 359us/sample - loss: 4.8271 - mean_squared_error: 4.8271 - mean_absolute_error: 1.6407 - val_loss: 15.1032 - val_mean_squared_error: 15.1032 - val_mean_absolute_error: 2.5339\n",
      "Epoch 47/50\n",
      "270/270 [==============================] - 0s 359us/sample - loss: 4.7453 - mean_squared_error: 4.7453 - mean_absolute_error: 1.6194 - val_loss: 14.7695 - val_mean_squared_error: 14.7695 - val_mean_absolute_error: 2.5070\n",
      "Epoch 48/50\n",
      "270/270 [==============================] - 0s 365us/sample - loss: 4.6498 - mean_squared_error: 4.6498 - mean_absolute_error: 1.5863 - val_loss: 15.1096 - val_mean_squared_error: 15.1096 - val_mean_absolute_error: 2.5297\n",
      "Epoch 49/50\n",
      "270/270 [==============================] - 0s 362us/sample - loss: 4.4962 - mean_squared_error: 4.4962 - mean_absolute_error: 1.5595 - val_loss: 14.6285 - val_mean_squared_error: 14.6285 - val_mean_absolute_error: 2.5233\n",
      "Epoch 50/50\n",
      "270/270 [==============================] - 0s 447us/sample - loss: 4.3625 - mean_squared_error: 4.3625 - mean_absolute_error: 1.5544 - val_loss: 14.4349 - val_mean_squared_error: 14.4349 - val_mean_absolute_error: 2.4500\n"
     ]
    },
    {
     "data": {
      "text/plain": [
       "<tensorflow.python.keras.callbacks.History at 0x7fe43c162278>"
      ]
     },
     "execution_count": 10,
     "metadata": {},
     "output_type": "execute_result"
    }
   ],
   "source": [
    "wandb.init(project=\"boston\", entity=\"lambda-ds7\") #Initializes and Experiment\n",
    "\n",
    "# Important Hyperparameters\n",
    "X =  x_train\n",
    "y =  y_train\n",
    "\n",
    "inputs = X.shape[1]\n",
    "wandb.config.epochs = 50\n",
    "wandb.config.batch_size = 10\n",
    "\n",
    "# Create Model\n",
    "model = Sequential()\n",
    "model.add(Dense(64, activation='relu', input_shape=(inputs,)))\n",
    "model.add(Dense(64, activation='relu'))\n",
    "model.add(Dense(64, activation='relu'))\n",
    "model.add(Dense(1))\n",
    "# Compile Model\n",
    "model.compile(optimizer='adam', loss='mse', metrics=['mse', 'mae'])\n",
    "\n",
    "# Fit Model\n",
    "model.fit(X, y, \n",
    "          validation_split=0.33, \n",
    "          epochs=wandb.config.epochs, \n",
    "          batch_size=wandb.config.batch_size, \n",
    "          callbacks=[WandbCallback()]\n",
    "         )"
   ]
  },
  {
   "cell_type": "markdown",
   "metadata": {},
   "source": [
    "## Challenge\n",
    "\n",
    "You will be expected to use Weights & Biases to try to tune your model during your module assignment today. "
   ]
  },
  {
   "cell_type": "markdown",
   "metadata": {},
   "source": [
    "# Hyperparameters with RandomSearchCV (Learn)"
   ]
  },
  {
   "cell_type": "markdown",
   "metadata": {},
   "source": [
    "## Overview\n",
    "\n",
    "Basically `GridSearchCV` takes forever. You'll want to adopt a slightly more sophiscated strategy."
   ]
  },
  {
   "cell_type": "markdown",
   "metadata": {},
   "source": [
    "## Follow Along"
   ]
  },
  {
   "cell_type": "code",
   "execution_count": 11,
   "metadata": {},
   "outputs": [],
   "source": [
    "sweep_config = {\n",
    "    'method': 'random',\n",
    "    'parameters': {\n",
    "        'learning_rate': {'distribution': 'normal'},\n",
    "        'epochs': {'distribution': 'uniform',\n",
    "                    'min': 100,\n",
    "                    'max': 1000},\n",
    "        'batch_size': {'distribution': 'uniform',\n",
    "            'min': 10,\n",
    "            'max': 400}\n",
    "    }\n",
    "}"
   ]
  },
  {
   "cell_type": "code",
   "execution_count": 12,
   "metadata": {},
   "outputs": [
    {
     "name": "stdout",
     "output_type": "stream",
     "text": [
      "Create sweep with ID: 75s2lmu9\n",
      "Sweep URL: https://app.wandb.ai/lambda-ds7/boston/sweeps/75s2lmu9\n"
     ]
    }
   ],
   "source": [
    "sweep_id = wandb.sweep(sweep_config)"
   ]
  },
  {
   "cell_type": "code",
   "execution_count": 13,
   "metadata": {},
   "outputs": [],
   "source": [
    "import wandb\n",
    "from wandb.keras import WandbCallback\n",
    "#Initializes and Experiment\n",
    "\n",
    "from tensorflow.keras.optimizers import Adam\n",
    "\n",
    "# Important Hyperparameters\n",
    "X =  x_train\n",
    "y =  y_train\n",
    "\n",
    "inputs = X.shape[1]\n",
    "\n",
    "def train():\n",
    "    \n",
    "    wandb.init(project=\"boston\", entity=\"lambda-ds7\") \n",
    "    \n",
    "    config = wandb.config\n",
    "\n",
    "    # Create Model\n",
    "    model = Sequential()\n",
    "    model.add(Dense(64, activation='relu', input_shape=(inputs,)))\n",
    "    model.add(Dense(64, activation='relu'))\n",
    "    model.add(Dense(64, activation='relu'))\n",
    "    model.add(Dense(1))\n",
    "\n",
    "    # Optimizer \n",
    "    adam = Adam(learning_rate=config.learning_rate)\n",
    "\n",
    "    # Compile Model\n",
    "    model.compile(optimizer=adam, loss='mse', metrics=['mse', 'mae'])\n",
    "\n",
    "    # Fit Model\n",
    "    model.fit(X, y, \n",
    "              validation_split=0.33, \n",
    "              epochs=config.epochs, \n",
    "              batch_size=config.batch_size, \n",
    "              callbacks=[WandbCallback()]\n",
    "             )"
   ]
  },
  {
   "cell_type": "code",
   "execution_count": null,
   "metadata": {},
   "outputs": [
    {
     "name": "stderr",
     "output_type": "stream",
     "text": [
      "Failed to query for notebook name, you can set it manually with the WANDB_NOTEBOOK_NAME environment variable\n"
     ]
    },
    {
     "name": "stdout",
     "output_type": "stream",
     "text": [
      "wandb: Agent Starting Run: sarechw5 with config:\n",
      "\tbatch_size: 277.1314920080047\n",
      "\tepochs: 370.0886455602339\n",
      "\tlearning_rate: -2.694081860179237\n"
     ]
    },
    {
     "name": "stderr",
     "output_type": "stream",
     "text": [
      "Error generating diff: Command '['git', 'diff', '--submodule=diff', 'HEAD']' timed out after 5 seconds\n"
     ]
    },
    {
     "name": "stdout",
     "output_type": "stream",
     "text": [
      "wandb: Agent Started Run: sarechw5\n"
     ]
    },
    {
     "data": {
      "text/html": [
       "\n",
       "                Logging results to <a href=\"https://wandb.com\" target=\"_blank\">Weights & Biases</a> <a href=\"https://docs.wandb.com/integrations/jupyter.html\" target=\"_blank\">(Documentation)</a>.<br/>\n",
       "                Project page: <a href=\"https://app.wandb.ai/lambda-ds7/boston\" target=\"_blank\">https://app.wandb.ai/lambda-ds7/boston</a><br/>\n",
       "                Run page: <a href=\"https://app.wandb.ai/lambda-ds7/boston/runs/72vfc5a4\" target=\"_blank\">https://app.wandb.ai/lambda-ds7/boston/runs/72vfc5a4</a><br/>\n",
       "            "
      ],
      "text/plain": [
       "<IPython.core.display.HTML object>"
      ]
     },
     "metadata": {},
     "output_type": "display_data"
    },
    {
     "name": "stderr",
     "output_type": "stream",
     "text": [
      "Failed to query for notebook name, you can set it manually with the WANDB_NOTEBOOK_NAME environment variable\n",
      "Error generating diff: Command '['git', 'diff', '--submodule=diff', 'HEAD']' timed out after 5 seconds\n",
      "Process Process-1:\n",
      "Traceback (most recent call last):\n",
      "  File \"/home/ec2-user/anaconda3/envs/tensorflow_p36/lib/python3.6/multiprocessing/process.py\", line 258, in _bootstrap\n",
      "    self.run()\n",
      "  File \"/home/ec2-user/anaconda3/envs/tensorflow_p36/lib/python3.6/multiprocessing/process.py\", line 93, in run\n",
      "    self._target(*self._args, **self._kwargs)\n",
      "  File \"/home/ec2-user/anaconda3/envs/tensorflow_p36/lib/python3.6/site-packages/wandb/wandb_agent.py\", line 62, in _start\n",
      "    function()\n",
      "  File \"<ipython-input-13-23dfe667f67c>\", line 27, in train\n",
      "    adam = Adam(learning_rate=config.learning_rate)\n",
      "  File \"/home/ec2-user/anaconda3/envs/tensorflow_p36/lib/python3.6/site-packages/wandb/wandb_config.py\", line 212, in __getattr__\n",
      "    return self.__getitem__(key)\n",
      "  File \"/home/ec2-user/anaconda3/envs/tensorflow_p36/lib/python3.6/site-packages/wandb/wandb_config.py\", line 202, in __getitem__\n",
      "    return self._items[key]\n",
      "KeyError: 'learning_rate'\n"
     ]
    }
   ],
   "source": [
    "wandb.agent(sweep_id, function=train)"
   ]
  },
  {
   "cell_type": "code",
   "execution_count": null,
   "metadata": {},
   "outputs": [],
   "source": [
    "# pip install wandb\n",
    "!pip install wandb"
   ]
  },
  {
   "cell_type": "code",
   "execution_count": null,
   "metadata": {},
   "outputs": [],
   "source": [
    "# https://app.wandb.ai/"
   ]
  },
  {
   "cell_type": "code",
   "execution_count": null,
   "metadata": {},
   "outputs": [],
   "source": [
    "!wandb login 1d1a1f8183fc5d4594d25a5c5ca45b4fccf6e1f6"
   ]
  },
  {
   "cell_type": "code",
   "execution_count": null,
   "metadata": {},
   "outputs": [],
   "source": [
    "import wandb\n",
    "from wandb.keras import WandbCallback"
   ]
  },
  {
   "cell_type": "code",
   "execution_count": null,
   "metadata": {},
   "outputs": [],
   "source": [
    "wandb.init(project=\"inclass\", entity=\"ds8\") #Initializes and Experiment\n",
    "\n",
    "# Important Hyperparameters\n",
    "X =  x_train\n",
    "y =  y_train\n",
    "\n",
    "inputs = X.shape[1]\n",
    "\n",
    "def train():\n",
    "    \n",
    "    wandb.init(project=\"boston\", entity=\"lambda-ds7\") \n",
    "    \n",
    "    config = wandb.config\n",
    "\n",
    "    # Create Model\n",
    "    model = Sequential()\n",
    "    model.add(Dense(64, activation='relu', input_shape=(inputs,)))\n",
    "    model.add(Dense(64, activation='relu'))\n",
    "    model.add(Dense(64, activation='relu'))\n",
    "    model.add(Dense(1))\n",
    "\n",
    "    # Optimizer \n",
    "    adam = Adam(learning_rate=config.learning_rate)\n",
    "\n",
    "    # Compile Model\n",
    "    model.compile(optimizer=adam, loss='mse', metrics=['mse', 'mae'])\n",
    "\n",
    "    # Fit Model\n",
    "    model.fit(X, y, \n",
    "              validation_split=0.33, \n",
    "              epochs=config.epochs, \n",
    "              batch_size=config.batch_size, \n",
    "              callbacks=[WandbCallback()]\n",
    "             )"
   ]
  },
  {
   "cell_type": "markdown",
   "metadata": {},
   "source": [
    "## Challenge\n",
    "\n",
    "Try to apply RandomSearchCV to your module project today. "
   ]
  },
  {
   "cell_type": "markdown",
   "metadata": {},
   "source": [
    "# Review\n",
    "* <a href=\"#p1\">Part 1</a>: Describe the major hyperparemeters to tune\n",
    "    - Activation Functions\n",
    "    - Optimizer\n",
    "    - Number of Layers\n",
    "    - Number of Neurons\n",
    "    - Batch Size\n",
    "    - Dropout Regulaization\n",
    "    - Learning Rate\n",
    "    - Number of Epochs\n",
    "    - and many more\n",
    "* <a href=\"#p2\">Part 2</a>: Implement an experiment tracking framework\n",
    "    - Weights & Biases\n",
    "    - Comet.ml\n",
    "    - By Hand / GridSearch\n",
    "* <a href=\"#p3\">Part 3</a>: Search the hyperparameter space using RandomSearch\n",
    "    - Sklearn still useful (haha)\n",
    "    - Integration with Wieghts & Biases\n",
    "* <a href=\"#p4\">Part 4</a>: Discuss emerging hyperparameter tuning strategies\n",
    "    - Bayesian Optimization\n",
    "    - Hyperopt\n",
    "    - Genetic Evolution"
   ]
  },
  {
   "cell_type": "markdown",
   "metadata": {},
   "source": [
    "# Sources"
   ]
  },
  {
   "cell_type": "markdown",
   "metadata": {},
   "source": [
    "## Additional Reading\n",
    "- https://machinelearningmastery.com/grid-search-hyperparameters-deep-learning-models-python-keras/\n",
    "- https://blog.floydhub.com/guide-to-hyperparameters-search-for-deep-learning-models/\n",
    "- https://machinelearningmastery.com/dropout-regularization-deep-learning-models-keras/\n",
    "- https://machinelearningmastery.com/introduction-to-weight-constraints-to-reduce-generalization-error-in-deep-learning/\n",
    "- https://machinelearningmastery.com/how-to-configure-the-number-of-layers-and-nodes-in-a-neural-network/"
   ]
  }
 ],
 "metadata": {
  "kernelspec": {
   "display_name": "conda_tensorflow_p36",
   "language": "python",
   "name": "conda_tensorflow_p36"
  },
  "language_info": {
   "codemirror_mode": {
    "name": "ipython",
    "version": 3
   },
   "file_extension": ".py",
   "mimetype": "text/x-python",
   "name": "python",
   "nbconvert_exporter": "python",
   "pygments_lexer": "ipython3",
   "version": "3.6.5"
  }
 },
 "nbformat": 4,
 "nbformat_minor": 4
}
