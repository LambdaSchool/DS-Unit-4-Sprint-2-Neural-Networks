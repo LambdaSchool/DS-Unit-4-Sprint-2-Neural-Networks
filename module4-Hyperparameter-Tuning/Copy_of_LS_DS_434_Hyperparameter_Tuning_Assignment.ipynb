{
 "cells": [
  {
   "cell_type": "markdown",
   "metadata": {
    "colab_type": "text",
    "id": "9Ryp-TVm4njD"
   },
   "source": [
    "<img align=\"left\" src=\"https://lever-client-logos.s3.amazonaws.com/864372b1-534c-480e-acd5-9711f850815c-1524247202159.png\" width=200>\n",
    "<br></br>\n",
    "\n",
    "# Hyperparameter Tuning\n",
    "\n",
    "## *Data Science Unit 4 Sprint 2 Assignment 4*\n",
    "\n",
    "## Your Mission, should you choose to accept it...\n",
    "\n",
    "To hyperparameter tune and extract every ounce of accuracy out of this telecom customer churn dataset: [Available Here](https://lambdaschool-data-science.s3.amazonaws.com/telco-churn/WA_Fn-UseC_-Telco-Customer-Churn+(1).csv)\n",
    "\n",
    "## Requirements\n",
    "\n",
    "- Load the data\n",
    "- Clean the data if necessary (it will be)\n",
    "- Create and fit a baseline Keras MLP model to the data.\n",
    "- Hyperparameter tune (at least) the following parameters:\n",
    " - batch_size\n",
    " - training epochs\n",
    " - optimizer\n",
    " - learning rate (if applicable to optimizer)\n",
    " - momentum (if applicable to optimizer)\n",
    " - activation functions\n",
    " - network weight initialization\n",
    " - dropout regularization\n",
    " - number of neurons in the hidden layer\n",
    " \n",
    " You must use Grid Search and Cross Validation for your initial pass of the above hyperparameters\n",
    " \n",
    " Try and get the maximum accuracy possible out of this data! You'll save big telecoms millions! Doesn't that sound great?\n"
   ]
  },
  {
   "cell_type": "code",
   "execution_count": 1,
   "metadata": {},
   "outputs": [],
   "source": [
    "import tensorflow as tf"
   ]
  },
  {
   "cell_type": "code",
   "execution_count": 2,
   "metadata": {
    "colab": {},
    "colab_type": "code",
    "id": "d9aXsIh97WCn"
   },
   "outputs": [],
   "source": [
    "import pandas as pd\n",
    "import numpy as np\n"
   ]
  },
  {
   "cell_type": "code",
   "execution_count": 3,
   "metadata": {},
   "outputs": [],
   "source": [
    "from tensorflow.keras.models import Sequential\n",
    "from tensorflow.keras.layers import Dense, Dropout, Flatten\n",
    "from tensorflow.keras.callbacks import EarlyStopping\n"
   ]
  },
  {
   "cell_type": "code",
   "execution_count": 4,
   "metadata": {
    "colab": {},
    "colab_type": "code",
    "id": "NNJ-tOBs4jM1"
   },
   "outputs": [],
   "source": [
    "url = \"https://lambdaschool-data-science.s3.amazonaws.com/telco-churn/WA_Fn-UseC_-Telco-Customer-Churn+(1).csv\"\n",
    "\n",
    "df = pd.read_csv(url)"
   ]
  },
  {
   "cell_type": "code",
   "execution_count": 5,
   "metadata": {
    "colab": {
     "base_uri": "https://localhost:8080/",
     "height": 417
    },
    "colab_type": "code",
    "id": "5_oyxk_97cVI",
    "outputId": "ba007ee2-b783-4c22-d375-48b80fd34ca9"
   },
   "outputs": [
    {
     "data": {
      "text/plain": [
       "customerID          False\n",
       "gender              False\n",
       "SeniorCitizen       False\n",
       "Partner             False\n",
       "Dependents          False\n",
       "tenure              False\n",
       "PhoneService        False\n",
       "MultipleLines       False\n",
       "InternetService     False\n",
       "OnlineSecurity      False\n",
       "OnlineBackup        False\n",
       "DeviceProtection    False\n",
       "TechSupport         False\n",
       "StreamingTV         False\n",
       "StreamingMovies     False\n",
       "Contract            False\n",
       "PaperlessBilling    False\n",
       "PaymentMethod       False\n",
       "MonthlyCharges      False\n",
       "TotalCharges        False\n",
       "Churn               False\n",
       "dtype: bool"
      ]
     },
     "execution_count": 5,
     "metadata": {},
     "output_type": "execute_result"
    }
   ],
   "source": [
    "df.isnull().any()"
   ]
  },
  {
   "cell_type": "code",
   "execution_count": 6,
   "metadata": {
    "colab": {
     "base_uri": "https://localhost:8080/",
     "height": 212
    },
    "colab_type": "code",
    "id": "GGI1DXWC7wP6",
    "outputId": "b2a7035c-cf7b-4429-a5fc-1eec5ade4036"
   },
   "outputs": [
    {
     "data": {
      "text/html": [
       "<div>\n",
       "<style scoped>\n",
       "    .dataframe tbody tr th:only-of-type {\n",
       "        vertical-align: middle;\n",
       "    }\n",
       "\n",
       "    .dataframe tbody tr th {\n",
       "        vertical-align: top;\n",
       "    }\n",
       "\n",
       "    .dataframe thead th {\n",
       "        text-align: right;\n",
       "    }\n",
       "</style>\n",
       "<table border=\"1\" class=\"dataframe\">\n",
       "  <thead>\n",
       "    <tr style=\"text-align: right;\">\n",
       "      <th></th>\n",
       "      <th>customerID</th>\n",
       "      <th>gender</th>\n",
       "      <th>Partner</th>\n",
       "      <th>Dependents</th>\n",
       "      <th>PhoneService</th>\n",
       "      <th>MultipleLines</th>\n",
       "      <th>InternetService</th>\n",
       "      <th>OnlineSecurity</th>\n",
       "      <th>OnlineBackup</th>\n",
       "      <th>DeviceProtection</th>\n",
       "      <th>TechSupport</th>\n",
       "      <th>StreamingTV</th>\n",
       "      <th>StreamingMovies</th>\n",
       "      <th>Contract</th>\n",
       "      <th>PaperlessBilling</th>\n",
       "      <th>PaymentMethod</th>\n",
       "      <th>TotalCharges</th>\n",
       "      <th>Churn</th>\n",
       "    </tr>\n",
       "  </thead>\n",
       "  <tbody>\n",
       "    <tr>\n",
       "      <th>count</th>\n",
       "      <td>7043</td>\n",
       "      <td>7043</td>\n",
       "      <td>7043</td>\n",
       "      <td>7043</td>\n",
       "      <td>7043</td>\n",
       "      <td>7043</td>\n",
       "      <td>7043</td>\n",
       "      <td>7043</td>\n",
       "      <td>7043</td>\n",
       "      <td>7043</td>\n",
       "      <td>7043</td>\n",
       "      <td>7043</td>\n",
       "      <td>7043</td>\n",
       "      <td>7043</td>\n",
       "      <td>7043</td>\n",
       "      <td>7043</td>\n",
       "      <td>7043</td>\n",
       "      <td>7043</td>\n",
       "    </tr>\n",
       "    <tr>\n",
       "      <th>unique</th>\n",
       "      <td>7043</td>\n",
       "      <td>2</td>\n",
       "      <td>2</td>\n",
       "      <td>2</td>\n",
       "      <td>2</td>\n",
       "      <td>3</td>\n",
       "      <td>3</td>\n",
       "      <td>3</td>\n",
       "      <td>3</td>\n",
       "      <td>3</td>\n",
       "      <td>3</td>\n",
       "      <td>3</td>\n",
       "      <td>3</td>\n",
       "      <td>3</td>\n",
       "      <td>2</td>\n",
       "      <td>4</td>\n",
       "      <td>6531</td>\n",
       "      <td>2</td>\n",
       "    </tr>\n",
       "    <tr>\n",
       "      <th>top</th>\n",
       "      <td>6172-FECYY</td>\n",
       "      <td>Male</td>\n",
       "      <td>No</td>\n",
       "      <td>No</td>\n",
       "      <td>Yes</td>\n",
       "      <td>No</td>\n",
       "      <td>Fiber optic</td>\n",
       "      <td>No</td>\n",
       "      <td>No</td>\n",
       "      <td>No</td>\n",
       "      <td>No</td>\n",
       "      <td>No</td>\n",
       "      <td>No</td>\n",
       "      <td>Month-to-month</td>\n",
       "      <td>Yes</td>\n",
       "      <td>Electronic check</td>\n",
       "      <td></td>\n",
       "      <td>No</td>\n",
       "    </tr>\n",
       "    <tr>\n",
       "      <th>freq</th>\n",
       "      <td>1</td>\n",
       "      <td>3555</td>\n",
       "      <td>3641</td>\n",
       "      <td>4933</td>\n",
       "      <td>6361</td>\n",
       "      <td>3390</td>\n",
       "      <td>3096</td>\n",
       "      <td>3498</td>\n",
       "      <td>3088</td>\n",
       "      <td>3095</td>\n",
       "      <td>3473</td>\n",
       "      <td>2810</td>\n",
       "      <td>2785</td>\n",
       "      <td>3875</td>\n",
       "      <td>4171</td>\n",
       "      <td>2365</td>\n",
       "      <td>11</td>\n",
       "      <td>5174</td>\n",
       "    </tr>\n",
       "  </tbody>\n",
       "</table>\n",
       "</div>"
      ],
      "text/plain": [
       "        customerID gender Partner Dependents PhoneService MultipleLines  \\\n",
       "count         7043   7043    7043       7043         7043          7043   \n",
       "unique        7043      2       2          2            2             3   \n",
       "top     6172-FECYY   Male      No         No          Yes            No   \n",
       "freq             1   3555    3641       4933         6361          3390   \n",
       "\n",
       "       InternetService OnlineSecurity OnlineBackup DeviceProtection  \\\n",
       "count             7043           7043         7043             7043   \n",
       "unique               3              3            3                3   \n",
       "top        Fiber optic             No           No               No   \n",
       "freq              3096           3498         3088             3095   \n",
       "\n",
       "       TechSupport StreamingTV StreamingMovies        Contract  \\\n",
       "count         7043        7043            7043            7043   \n",
       "unique           3           3               3               3   \n",
       "top             No          No              No  Month-to-month   \n",
       "freq          3473        2810            2785            3875   \n",
       "\n",
       "       PaperlessBilling     PaymentMethod TotalCharges Churn  \n",
       "count              7043              7043         7043  7043  \n",
       "unique                2                 4         6531     2  \n",
       "top                 Yes  Electronic check                 No  \n",
       "freq               4171              2365           11  5174  "
      ]
     },
     "execution_count": 6,
     "metadata": {},
     "output_type": "execute_result"
    }
   ],
   "source": [
    "df.describe(exclude='number')"
   ]
  },
  {
   "cell_type": "code",
   "execution_count": 7,
   "metadata": {
    "colab": {
     "base_uri": "https://localhost:8080/",
     "height": 35
    },
    "colab_type": "code",
    "id": "ZgwUgVcI8B6g",
    "outputId": "1d79be05-f51d-4201-abc3-22b17de0b2c0"
   },
   "outputs": [
    {
     "data": {
      "text/plain": [
       "array(['No phone service', 'No', 'Yes'], dtype=object)"
      ]
     },
     "execution_count": 7,
     "metadata": {},
     "output_type": "execute_result"
    }
   ],
   "source": [
    "df['MultipleLines'].unique()"
   ]
  },
  {
   "cell_type": "code",
   "execution_count": 8,
   "metadata": {
    "colab": {
     "base_uri": "https://localhost:8080/",
     "height": 35
    },
    "colab_type": "code",
    "id": "9h-ojIuK8PFf",
    "outputId": "ad411287-9885-4ddf-e5b9-7399483a2723"
   },
   "outputs": [
    {
     "data": {
      "text/plain": [
       "array(['No', 'Yes', 'No internet service'], dtype=object)"
      ]
     },
     "execution_count": 8,
     "metadata": {},
     "output_type": "execute_result"
    }
   ],
   "source": [
    "df['OnlineSecurity'].unique()"
   ]
  },
  {
   "cell_type": "code",
   "execution_count": 9,
   "metadata": {
    "colab": {
     "base_uri": "https://localhost:8080/",
     "height": 235
    },
    "colab_type": "code",
    "id": "tst7fmpg8-81",
    "outputId": "4060e0f4-9a28-4cb3-dce3-70dd67ac8b6f"
   },
   "outputs": [
    {
     "data": {
      "text/plain": [
       "           11\n",
       "20.2       11\n",
       "19.75       9\n",
       "19.9        8\n",
       "19.65       8\n",
       "           ..\n",
       "55.45       1\n",
       "3769.7      1\n",
       "4816.7      1\n",
       "2043.45     1\n",
       "418.4       1\n",
       "Name: TotalCharges, Length: 6531, dtype: int64"
      ]
     },
     "execution_count": 9,
     "metadata": {},
     "output_type": "execute_result"
    }
   ],
   "source": [
    "df['TotalCharges'].value_counts()"
   ]
  },
  {
   "cell_type": "code",
   "execution_count": 10,
   "metadata": {
    "colab": {},
    "colab_type": "code",
    "id": "j4iC29399It7"
   },
   "outputs": [],
   "source": [
    "df['TotalCharges'] = df['TotalCharges'].replace(' ',0)"
   ]
  },
  {
   "cell_type": "code",
   "execution_count": 11,
   "metadata": {
    "colab": {},
    "colab_type": "code",
    "id": "Y_Kgc2Gi9TOl"
   },
   "outputs": [],
   "source": [
    "df['TotalCharges'] = df['TotalCharges'].astype('float')"
   ]
  },
  {
   "cell_type": "code",
   "execution_count": 12,
   "metadata": {
    "colab": {},
    "colab_type": "code",
    "id": "S_bhGQuwJO4J"
   },
   "outputs": [],
   "source": [
    "df['MonthlyCharges'] = df['MonthlyCharges'].astype('float')"
   ]
  },
  {
   "cell_type": "code",
   "execution_count": 13,
   "metadata": {
    "colab": {},
    "colab_type": "code",
    "id": "m92-O8OB9sFb"
   },
   "outputs": [],
   "source": [
    "df = df.drop('customerID', axis=1)"
   ]
  },
  {
   "cell_type": "code",
   "execution_count": 14,
   "metadata": {
    "colab": {},
    "colab_type": "code",
    "id": "2jsogeriHQxe"
   },
   "outputs": [],
   "source": [
    "df['Churn'] = df['Churn'].replace([\"Yes\", \"No\"], [1,0])"
   ]
  },
  {
   "cell_type": "code",
   "execution_count": null,
   "metadata": {
    "colab": {
     "base_uri": "https://localhost:8080/",
     "height": 295
    },
    "colab_type": "code",
    "id": "f_zQDjRf984B",
    "outputId": "cb524640-8d64-412a-cd79-4dfc42ef68e7"
   },
   "outputs": [],
   "source": []
  },
  {
   "cell_type": "code",
   "execution_count": null,
   "metadata": {},
   "outputs": [],
   "source": []
  },
  {
   "cell_type": "code",
   "execution_count": null,
   "metadata": {},
   "outputs": [],
   "source": []
  },
  {
   "cell_type": "code",
   "execution_count": 15,
   "metadata": {
    "colab": {
     "base_uri": "https://localhost:8080/",
     "height": 35
    },
    "colab_type": "code",
    "id": "TmkNSjK7_U3g",
    "outputId": "5aee8c6c-b2a9-41a2-de7b-9ea2bfc40ab0"
   },
   "outputs": [
    {
     "data": {
      "text/html": [
       "<div>\n",
       "<style scoped>\n",
       "    .dataframe tbody tr th:only-of-type {\n",
       "        vertical-align: middle;\n",
       "    }\n",
       "\n",
       "    .dataframe tbody tr th {\n",
       "        vertical-align: top;\n",
       "    }\n",
       "\n",
       "    .dataframe thead th {\n",
       "        text-align: right;\n",
       "    }\n",
       "</style>\n",
       "<table border=\"1\" class=\"dataframe\">\n",
       "  <thead>\n",
       "    <tr style=\"text-align: right;\">\n",
       "      <th></th>\n",
       "      <th>gender</th>\n",
       "      <th>SeniorCitizen</th>\n",
       "      <th>Partner</th>\n",
       "      <th>Dependents</th>\n",
       "      <th>tenure</th>\n",
       "      <th>PhoneService</th>\n",
       "      <th>MultipleLines</th>\n",
       "      <th>InternetService</th>\n",
       "      <th>OnlineSecurity</th>\n",
       "      <th>OnlineBackup</th>\n",
       "      <th>DeviceProtection</th>\n",
       "      <th>TechSupport</th>\n",
       "      <th>StreamingTV</th>\n",
       "      <th>StreamingMovies</th>\n",
       "      <th>Contract</th>\n",
       "      <th>PaperlessBilling</th>\n",
       "      <th>PaymentMethod</th>\n",
       "      <th>MonthlyCharges</th>\n",
       "      <th>TotalCharges</th>\n",
       "      <th>Churn</th>\n",
       "    </tr>\n",
       "  </thead>\n",
       "  <tbody>\n",
       "    <tr>\n",
       "      <th>0</th>\n",
       "      <td>Female</td>\n",
       "      <td>0</td>\n",
       "      <td>Yes</td>\n",
       "      <td>No</td>\n",
       "      <td>1</td>\n",
       "      <td>No</td>\n",
       "      <td>No phone service</td>\n",
       "      <td>DSL</td>\n",
       "      <td>No</td>\n",
       "      <td>Yes</td>\n",
       "      <td>No</td>\n",
       "      <td>No</td>\n",
       "      <td>No</td>\n",
       "      <td>No</td>\n",
       "      <td>Month-to-month</td>\n",
       "      <td>Yes</td>\n",
       "      <td>Electronic check</td>\n",
       "      <td>29.85</td>\n",
       "      <td>29.85</td>\n",
       "      <td>0</td>\n",
       "    </tr>\n",
       "    <tr>\n",
       "      <th>1</th>\n",
       "      <td>Male</td>\n",
       "      <td>0</td>\n",
       "      <td>No</td>\n",
       "      <td>No</td>\n",
       "      <td>34</td>\n",
       "      <td>Yes</td>\n",
       "      <td>No</td>\n",
       "      <td>DSL</td>\n",
       "      <td>Yes</td>\n",
       "      <td>No</td>\n",
       "      <td>Yes</td>\n",
       "      <td>No</td>\n",
       "      <td>No</td>\n",
       "      <td>No</td>\n",
       "      <td>One year</td>\n",
       "      <td>No</td>\n",
       "      <td>Mailed check</td>\n",
       "      <td>56.95</td>\n",
       "      <td>1889.50</td>\n",
       "      <td>0</td>\n",
       "    </tr>\n",
       "    <tr>\n",
       "      <th>2</th>\n",
       "      <td>Male</td>\n",
       "      <td>0</td>\n",
       "      <td>No</td>\n",
       "      <td>No</td>\n",
       "      <td>2</td>\n",
       "      <td>Yes</td>\n",
       "      <td>No</td>\n",
       "      <td>DSL</td>\n",
       "      <td>Yes</td>\n",
       "      <td>Yes</td>\n",
       "      <td>No</td>\n",
       "      <td>No</td>\n",
       "      <td>No</td>\n",
       "      <td>No</td>\n",
       "      <td>Month-to-month</td>\n",
       "      <td>Yes</td>\n",
       "      <td>Mailed check</td>\n",
       "      <td>53.85</td>\n",
       "      <td>108.15</td>\n",
       "      <td>1</td>\n",
       "    </tr>\n",
       "    <tr>\n",
       "      <th>3</th>\n",
       "      <td>Male</td>\n",
       "      <td>0</td>\n",
       "      <td>No</td>\n",
       "      <td>No</td>\n",
       "      <td>45</td>\n",
       "      <td>No</td>\n",
       "      <td>No phone service</td>\n",
       "      <td>DSL</td>\n",
       "      <td>Yes</td>\n",
       "      <td>No</td>\n",
       "      <td>Yes</td>\n",
       "      <td>Yes</td>\n",
       "      <td>No</td>\n",
       "      <td>No</td>\n",
       "      <td>One year</td>\n",
       "      <td>No</td>\n",
       "      <td>Bank transfer (automatic)</td>\n",
       "      <td>42.30</td>\n",
       "      <td>1840.75</td>\n",
       "      <td>0</td>\n",
       "    </tr>\n",
       "    <tr>\n",
       "      <th>4</th>\n",
       "      <td>Female</td>\n",
       "      <td>0</td>\n",
       "      <td>No</td>\n",
       "      <td>No</td>\n",
       "      <td>2</td>\n",
       "      <td>Yes</td>\n",
       "      <td>No</td>\n",
       "      <td>Fiber optic</td>\n",
       "      <td>No</td>\n",
       "      <td>No</td>\n",
       "      <td>No</td>\n",
       "      <td>No</td>\n",
       "      <td>No</td>\n",
       "      <td>No</td>\n",
       "      <td>Month-to-month</td>\n",
       "      <td>Yes</td>\n",
       "      <td>Electronic check</td>\n",
       "      <td>70.70</td>\n",
       "      <td>151.65</td>\n",
       "      <td>1</td>\n",
       "    </tr>\n",
       "  </tbody>\n",
       "</table>\n",
       "</div>"
      ],
      "text/plain": [
       "   gender  SeniorCitizen Partner Dependents  tenure PhoneService  \\\n",
       "0  Female              0     Yes         No       1           No   \n",
       "1    Male              0      No         No      34          Yes   \n",
       "2    Male              0      No         No       2          Yes   \n",
       "3    Male              0      No         No      45           No   \n",
       "4  Female              0      No         No       2          Yes   \n",
       "\n",
       "      MultipleLines InternetService OnlineSecurity OnlineBackup  \\\n",
       "0  No phone service             DSL             No          Yes   \n",
       "1                No             DSL            Yes           No   \n",
       "2                No             DSL            Yes          Yes   \n",
       "3  No phone service             DSL            Yes           No   \n",
       "4                No     Fiber optic             No           No   \n",
       "\n",
       "  DeviceProtection TechSupport StreamingTV StreamingMovies        Contract  \\\n",
       "0               No          No          No              No  Month-to-month   \n",
       "1              Yes          No          No              No        One year   \n",
       "2               No          No          No              No  Month-to-month   \n",
       "3              Yes         Yes          No              No        One year   \n",
       "4               No          No          No              No  Month-to-month   \n",
       "\n",
       "  PaperlessBilling              PaymentMethod  MonthlyCharges  TotalCharges  \\\n",
       "0              Yes           Electronic check           29.85         29.85   \n",
       "1               No               Mailed check           56.95       1889.50   \n",
       "2              Yes               Mailed check           53.85        108.15   \n",
       "3               No  Bank transfer (automatic)           42.30       1840.75   \n",
       "4              Yes           Electronic check           70.70        151.65   \n",
       "\n",
       "   Churn  \n",
       "0      0  \n",
       "1      0  \n",
       "2      1  \n",
       "3      0  \n",
       "4      1  "
      ]
     },
     "execution_count": 15,
     "metadata": {},
     "output_type": "execute_result"
    }
   ],
   "source": [
    "df.head()"
   ]
  },
  {
   "cell_type": "code",
   "execution_count": 16,
   "metadata": {
    "colab": {},
    "colab_type": "code",
    "id": "jXZI0Vz1BylQ"
   },
   "outputs": [],
   "source": [
    "from sklearn.model_selection import train_test_split\n",
    "\n",
    "train, test = train_test_split(df)"
   ]
  },
  {
   "cell_type": "code",
   "execution_count": 17,
   "metadata": {},
   "outputs": [],
   "source": [
    "from category_encoders import OneHotEncoder"
   ]
  },
  {
   "cell_type": "code",
   "execution_count": 18,
   "metadata": {
    "colab": {},
    "colab_type": "code",
    "id": "wMu1fVVz_l1q"
   },
   "outputs": [],
   "source": [
    "X_train = train.drop('Churn', axis=1)\n",
    "y_train = train['Churn']\n",
    "X_test = test.drop('Churn', axis=1)\n",
    "y_test = test['Churn']"
   ]
  },
  {
   "cell_type": "code",
   "execution_count": 19,
   "metadata": {
    "colab": {},
    "colab_type": "code",
    "id": "i-NcJcTXCwEj"
   },
   "outputs": [],
   "source": [
    "encoder = OneHotEncoder(handle_unknown='ignore')\n",
    "X_train_encoded = encoder.fit_transform(X_train)\n",
    "X_test_encoded = encoder.transform(X_test)"
   ]
  },
  {
   "cell_type": "code",
   "execution_count": 20,
   "metadata": {
    "colab": {},
    "colab_type": "code",
    "id": "Iex_kIjMCkKl"
   },
   "outputs": [],
   "source": [
    "X_train_encoded = np.asarray(X_train_encoded)"
   ]
  },
  {
   "cell_type": "code",
   "execution_count": 21,
   "metadata": {
    "colab": {
     "base_uri": "https://localhost:8080/",
     "height": 35
    },
    "colab_type": "code",
    "id": "-Sz8VuhGJIA7",
    "outputId": "0312b73a-36a0-478a-b71e-68cb2f4f0db4"
   },
   "outputs": [
    {
     "data": {
      "text/plain": [
       "(5282, 45)"
      ]
     },
     "execution_count": 21,
     "metadata": {},
     "output_type": "execute_result"
    }
   ],
   "source": [
    "X_train_encoded.shape"
   ]
  },
  {
   "cell_type": "code",
   "execution_count": 22,
   "metadata": {
    "colab": {},
    "colab_type": "code",
    "id": "P08XukltHvER"
   },
   "outputs": [],
   "source": [
    "X_test_encoded = np.asarray(X_test_encoded)"
   ]
  },
  {
   "cell_type": "code",
   "execution_count": 23,
   "metadata": {
    "colab": {
     "base_uri": "https://localhost:8080/",
     "height": 35
    },
    "colab_type": "code",
    "id": "YB_c0y-DMkBF",
    "outputId": "da4dca79-6be3-45b9-b09b-592ad28b3104"
   },
   "outputs": [
    {
     "data": {
      "text/plain": [
       "(1761, 45)"
      ]
     },
     "execution_count": 23,
     "metadata": {},
     "output_type": "execute_result"
    }
   ],
   "source": [
    "X_test_encoded.shape"
   ]
  },
  {
   "cell_type": "code",
   "execution_count": 24,
   "metadata": {},
   "outputs": [
    {
     "data": {
      "text/plain": [
       "(5282,)"
      ]
     },
     "execution_count": 24,
     "metadata": {},
     "output_type": "execute_result"
    }
   ],
   "source": [
    "y_train.shape"
   ]
  },
  {
   "cell_type": "code",
   "execution_count": 25,
   "metadata": {
    "colab": {},
    "colab_type": "code",
    "id": "p1PNtRAd_Mjy"
   },
   "outputs": [],
   "source": [
    "model = Sequential()\n",
    "model.add(Dense(1280, input_dim=X_train_encoded.shape[1], activation='relu'))\n",
    "model.add(Dropout(0.2))\n",
    "model.add(Dense(128, activation='relu'))\n",
    "model.add(Dense(1, activation='sigmoid'))\n",
    "model.compile(optimizer='adam', loss='binary_crossentropy', metrics=['accuracy'])"
   ]
  },
  {
   "cell_type": "code",
   "execution_count": 26,
   "metadata": {
    "colab": {},
    "colab_type": "code",
    "id": "PSSWBcCOBZW1"
   },
   "outputs": [],
   "source": [
    "stop = EarlyStopping(min_delta=0.01, patience=5)"
   ]
  },
  {
   "cell_type": "code",
   "execution_count": 30,
   "metadata": {
    "colab": {
     "base_uri": "https://localhost:8080/",
     "height": 685
    },
    "colab_type": "code",
    "id": "mz32flRsBf3d",
    "outputId": "126e7b7d-49a6-448c-91de-626036e3fc85"
   },
   "outputs": [
    {
     "name": "stdout",
     "output_type": "stream",
     "text": [
      "Train on 5282 samples, validate on 1761 samples\n",
      "Epoch 1/100\n",
      "5282/5282 [==============================] - 3s 654us/sample - loss: 11.7126 - accuracy: 0.6925 - val_loss: 4.1034 - val_accuracy: 0.7814\n",
      "Epoch 2/100\n",
      "5282/5282 [==============================] - 1s 98us/sample - loss: 4.9496 - accuracy: 0.7236 - val_loss: 0.8308 - val_accuracy: 0.7127\n",
      "Epoch 3/100\n",
      "5282/5282 [==============================] - 1s 106us/sample - loss: 2.5546 - accuracy: 0.7283 - val_loss: 2.6528 - val_accuracy: 0.7768\n",
      "Epoch 4/100\n",
      "5282/5282 [==============================] - 1s 98us/sample - loss: 2.0921 - accuracy: 0.7298 - val_loss: 0.9768 - val_accuracy: 0.7888\n",
      "Epoch 5/100\n",
      "5282/5282 [==============================] - 1s 106us/sample - loss: 1.6424 - accuracy: 0.7401 - val_loss: 1.9275 - val_accuracy: 0.7859\n",
      "Epoch 6/100\n",
      "5282/5282 [==============================] - 1s 101us/sample - loss: 1.0205 - accuracy: 0.7501 - val_loss: 0.5615 - val_accuracy: 0.7944\n",
      "Epoch 7/100\n",
      "5282/5282 [==============================] - 1s 98us/sample - loss: 0.8453 - accuracy: 0.7554 - val_loss: 1.2018 - val_accuracy: 0.7785\n",
      "Epoch 8/100\n",
      "5282/5282 [==============================] - 1s 104us/sample - loss: 0.8822 - accuracy: 0.7473 - val_loss: 0.9144 - val_accuracy: 0.7893\n",
      "Epoch 9/100\n",
      "5282/5282 [==============================] - 1s 112us/sample - loss: 0.7036 - accuracy: 0.7526 - val_loss: 0.5637 - val_accuracy: 0.7922\n",
      "Epoch 10/100\n",
      "5282/5282 [==============================] - 1s 106us/sample - loss: 0.5955 - accuracy: 0.7681 - val_loss: 0.5312 - val_accuracy: 0.7973\n",
      "Epoch 11/100\n",
      "5282/5282 [==============================] - 1s 98us/sample - loss: 0.5873 - accuracy: 0.7652 - val_loss: 0.4817 - val_accuracy: 0.7961\n",
      "Epoch 12/100\n",
      "5282/5282 [==============================] - 1s 112us/sample - loss: 0.5308 - accuracy: 0.7789 - val_loss: 0.4407 - val_accuracy: 0.8012\n",
      "Epoch 13/100\n",
      "5282/5282 [==============================] - 1s 124us/sample - loss: 0.5052 - accuracy: 0.7827 - val_loss: 0.4557 - val_accuracy: 0.7978\n",
      "Epoch 14/100\n",
      "5282/5282 [==============================] - 1s 115us/sample - loss: 0.5686 - accuracy: 0.7743 - val_loss: 0.8718 - val_accuracy: 0.7865\n",
      "Epoch 15/100\n",
      "5282/5282 [==============================] - 1s 104us/sample - loss: 0.4698 - accuracy: 0.7870 - val_loss: 0.4852 - val_accuracy: 0.7956\n",
      "Epoch 16/100\n",
      "5282/5282 [==============================] - 1s 118us/sample - loss: 0.4809 - accuracy: 0.7874 - val_loss: 0.4361 - val_accuracy: 0.7973\n",
      "Epoch 17/100\n",
      "5282/5282 [==============================] - 1s 116us/sample - loss: 0.5078 - accuracy: 0.7828 - val_loss: 0.4432 - val_accuracy: 0.7927\n"
     ]
    },
    {
     "data": {
      "text/plain": [
       "<tensorflow.python.keras.callbacks.History at 0x24d2679c948>"
      ]
     },
     "execution_count": 30,
     "metadata": {},
     "output_type": "execute_result"
    }
   ],
   "source": [
    "model.fit(X_train_encoded, y_train, epochs=100, validation_data=(X_test_encoded, y_test), callbacks=[stop])"
   ]
  },
  {
   "cell_type": "code",
   "execution_count": 37,
   "metadata": {},
   "outputs": [],
   "source": [
    "from sklearn.model_selection import GridSearchCV\n",
    "from tensorflow.keras.wrappers.scikit_learn import KerasClassifier\n",
    "from tensorflow.keras.optimizers import Adam, Nadam"
   ]
  },
  {
   "cell_type": "code",
   "execution_count": 32,
   "metadata": {},
   "outputs": [],
   "source": [
    "def create_model():\n",
    "    model = Sequential()\n",
    "    model.add(Dense(1280, input_dim=X_train_encoded.shape[1], activation='relu'))\n",
    "    model.add(Dropout(0.2))\n",
    "    model.add(Dense(128, activation='relu'))\n",
    "    model.add(Dense(1, activation='sigmoid'))\n",
    "    model.compile(optimizer='adam', loss='binary_crossentropy', metrics=['accuracy'])\n",
    "    return model"
   ]
  },
  {
   "cell_type": "code",
   "execution_count": null,
   "metadata": {},
   "outputs": [],
   "source": []
  },
  {
   "cell_type": "code",
   "execution_count": 33,
   "metadata": {},
   "outputs": [
    {
     "name": "stdout",
     "output_type": "stream",
     "text": [
      "Best: 0.7955317735671997 using {'batch_size': 40, 'epochs': 20}\n",
      "Means: 0.7873908877372742, Stdev: 0.003875575790969396 with: {'batch_size': 10, 'epochs': 20}\n",
      "Means: 0.791367256641388, Stdev: 0.013306001450683759 with: {'batch_size': 20, 'epochs': 20}\n",
      "Means: 0.7955317735671997, Stdev: 0.009333955366213956 with: {'batch_size': 40, 'epochs': 20}\n",
      "Means: 0.7870205044746399, Stdev: 0.02046840076884167 with: {'batch_size': 60, 'epochs': 20}\n",
      "Means: 0.793827223777771, Stdev: 0.005432767424473814 with: {'batch_size': 80, 'epochs': 20}\n",
      "Means: 0.7754628181457519, Stdev: 0.020939970274908393 with: {'batch_size': 100, 'epochs': 20}\n"
     ]
    }
   ],
   "source": [
    "model = KerasClassifier(build_fn=create_model, verbose=0)\n",
    "\n",
    "param_grid = {'batch_size': [10, 20, 40, 60, 80, 100],\n",
    "              'epochs': [20]}\n",
    "\n",
    "grid = GridSearchCV(estimator=model, param_grid=param_grid, n_jobs=1)\n",
    "grid_result = grid.fit(X_train_encoded, y_train, validation_data=(X_test_encoded, y_test))\n",
    "\n",
    "print(f\"Best: {grid_result.best_score_} using {grid_result.best_params_}\")\n",
    "means = grid_result.cv_results_['mean_test_score']\n",
    "stds = grid_result.cv_results_['std_test_score']\n",
    "params = grid_result.cv_results_['params']\n",
    "for mean, stdev, param in zip(means, stds, params):\n",
    "    print(f\"Means: {mean}, Stdev: {stdev} with: {param}\") "
   ]
  },
  {
   "cell_type": "code",
   "execution_count": 36,
   "metadata": {},
   "outputs": [
    {
     "name": "stdout",
     "output_type": "stream",
     "text": [
      "Best: 0.7962897062301636 using {'learn_rate': 0.001}\n",
      "Means: 0.7962897062301636, Stdev: 0.013116698147933595 with: {'learn_rate': 0.001}\n",
      "Means: 0.7887184262275696, Stdev: 0.007758082742536382 with: {'learn_rate': 0.01}\n",
      "Means: 0.7349504351615905, Stdev: 0.016510696290566153 with: {'learn_rate': 0.1}\n",
      "Means: 0.7375994443893432, Stdev: 0.0192777945310452 with: {'learn_rate': 0.2}\n",
      "Means: 0.7410110354423523, Stdev: 0.020452163944339914 with: {'learn_rate': 0.3}\n"
     ]
    }
   ],
   "source": [
    "def create_model(learn_rate=0.01):\n",
    "    model = Sequential()\n",
    "    model.add(Dense(1280, input_dim=X_train_encoded.shape[1], activation='relu'))\n",
    "    model.add(Dropout(0.2))\n",
    "    model.add(Dense(128, activation='relu'))\n",
    "    model.add(Dense(1, activation='sigmoid'))\n",
    "    optimizer = Adam(lr=learn_rate)\n",
    "    model.compile(optimizer=optimizer, loss='binary_crossentropy', metrics=['accuracy'])\n",
    "    return model\n",
    "\n",
    "model = KerasClassifier(build_fn=create_model, verbose=0, batch_size=40, epochs=20)\n",
    "learn_rate = [0.001, 0.01, 0.1, 0.2, 0.3]\n",
    "param_grid = dict(learn_rate=learn_rate)\n",
    "\n",
    "grid = GridSearchCV(estimator=model, param_grid=param_grid, n_jobs=1)\n",
    "grid_result = grid.fit(X_train_encoded, y_train, validation_data=(X_test_encoded, y_test))\n",
    "\n",
    "print(f\"Best: {grid_result.best_score_} using {grid_result.best_params_}\")\n",
    "means = grid_result.cv_results_['mean_test_score']\n",
    "stds = grid_result.cv_results_['std_test_score']\n",
    "params = grid_result.cv_results_['params']\n",
    "for mean, stdev, param in zip(means, stds, params):\n",
    "    print(f\"Means: {mean}, Stdev: {stdev} with: {param}\") "
   ]
  },
  {
   "cell_type": "code",
   "execution_count": 30,
   "metadata": {},
   "outputs": [
    {
     "name": "stdout",
     "output_type": "stream",
     "text": [
      "Best: 0.7909913301467896 using {'dropout': 0.01}\n",
      "Means: 0.7498939156532287, Stdev: 0.07343254571325372 with: {'dropout': 0.001}\n",
      "Means: 0.7909913301467896, Stdev: 0.017980516205921088 with: {'dropout': 0.01}\n",
      "Means: 0.7902292847633362, Stdev: 0.019640841780465452 with: {'dropout': 0.05}\n",
      "Means: 0.7902328491210937, Stdev: 0.017843529406174938 with: {'dropout': 0.1}\n",
      "Means: 0.7883448362350464, Stdev: 0.019289308568417405 with: {'dropout': 0.2}\n",
      "Means: 0.7760297536849976, Stdev: 0.0174534716276342 with: {'dropout': 0.3}\n"
     ]
    }
   ],
   "source": [
    "def create_model(dropout=0.2):\n",
    "    model = Sequential()\n",
    "    model.add(Dense(1280, input_dim=X_train_encoded.shape[1], activation='relu'))\n",
    "    model.add(Dropout(dropout))\n",
    "    model.add(Dense(128, activation='relu'))\n",
    "    model.add(Dense(1, activation='sigmoid'))\n",
    "    optimizer= Adam(lr=0.001)\n",
    "    model.compile(optimizer=optimizer, loss='binary_crossentropy', metrics=['accuracy'])\n",
    "    return model\n",
    "\n",
    "model = KerasClassifier(build_fn=create_model, verbose=0, batch_size=40, epochs=20)\n",
    "dropout = [0.001, 0.01, 0.05, 0.1, 0.2, 0.3]\n",
    "param_grid = dict(dropout=dropout)\n",
    "\n",
    "grid = GridSearchCV(estimator=model, param_grid=param_grid, n_jobs=1)\n",
    "grid_result = grid.fit(X_train_encoded, y_train, validation_data=(X_test_encoded, y_test))\n",
    "\n",
    "print(f\"Best: {grid_result.best_score_} using {grid_result.best_params_}\")\n",
    "means = grid_result.cv_results_['mean_test_score']\n",
    "stds = grid_result.cv_results_['std_test_score']\n",
    "params = grid_result.cv_results_['params']\n",
    "for mean, stdev, param in zip(means, stds, params):\n",
    "    print(f\"Means: {mean}, Stdev: {stdev} with: {param}\") "
   ]
  },
  {
   "cell_type": "code",
   "execution_count": 31,
   "metadata": {},
   "outputs": [
    {
     "name": "stdout",
     "output_type": "stream",
     "text": [
      "Best: 0.7962906002998352 using {'first_neuron': 128, 'second_neuron': 1280}\n",
      "Means: 0.7442129969596862, Stdev: 0.06411225013021271 with: {'first_neuron': 1280, 'second_neuron': 1280}\n",
      "Means: 0.784935736656189, Stdev: 0.028263784444725017 with: {'first_neuron': 1280, 'second_neuron': 128}\n",
      "Means: 0.7926948070526123, Stdev: 0.012416622366303717 with: {'first_neuron': 1280, 'second_neuron': 64}\n",
      "Means: 0.7675075531005859, Stdev: 0.030026671823730408 with: {'first_neuron': 1280, 'second_neuron': 32}\n",
      "Means: 0.7962906002998352, Stdev: 0.010809697170568873 with: {'first_neuron': 128, 'second_neuron': 1280}\n",
      "Means: 0.7726213693618774, Stdev: 0.028334709106895558 with: {'first_neuron': 128, 'second_neuron': 128}\n",
      "Means: 0.7253089070320129, Stdev: 0.07286045676232301 with: {'first_neuron': 128, 'second_neuron': 64}\n",
      "Means: 0.7788724422454834, Stdev: 0.010932264294302751 with: {'first_neuron': 128, 'second_neuron': 32}\n",
      "Means: 0.7894763588905335, Stdev: 0.016271260998943184 with: {'first_neuron': 64, 'second_neuron': 1280}\n",
      "Means: 0.7572914004325867, Stdev: 0.032200588720713665 with: {'first_neuron': 64, 'second_neuron': 128}\n",
      "Means: 0.7726292729377746, Stdev: 0.03181005639156726 with: {'first_neuron': 64, 'second_neuron': 64}\n",
      "Means: 0.7642864108085632, Stdev: 0.04194043929517044 with: {'first_neuron': 64, 'second_neuron': 32}\n"
     ]
    }
   ],
   "source": [
    "def create_model(first_neuron=1280, second_neuron=128):\n",
    "    model = Sequential()\n",
    "    model.add(Dense(first_neuron, input_dim=X_train_encoded.shape[1], activation='relu'))\n",
    "    model.add(Dropout(0.01))\n",
    "    model.add(Dense(second_neuron, activation='relu'))\n",
    "    model.add(Dense(1, activation='sigmoid'))\n",
    "    optimizer= Adam(lr=0.001)\n",
    "    model.compile(optimizer=optimizer, loss='binary_crossentropy', metrics=['accuracy'])\n",
    "    return model\n",
    "\n",
    "model = KerasClassifier(build_fn=create_model, verbose=0, batch_size=40, epochs=20)\n",
    "\n",
    "param_grid = {'first_neuron': [1280, 128, 64], 'second_neuron': [1280, 128, 64, 32]}\n",
    "\n",
    "grid = GridSearchCV(estimator=model, param_grid=param_grid, n_jobs=1)\n",
    "grid_result = grid.fit(X_train_encoded, y_train, validation_data=(X_test_encoded, y_test))\n",
    "\n",
    "print(f\"Best: {grid_result.best_score_} using {grid_result.best_params_}\")\n",
    "means = grid_result.cv_results_['mean_test_score']\n",
    "stds = grid_result.cv_results_['std_test_score']\n",
    "params = grid_result.cv_results_['params']\n",
    "for mean, stdev, param in zip(means, stds, params):\n",
    "    print(f\"Means: {mean}, Stdev: {stdev} with: {param}\") "
   ]
  },
  {
   "cell_type": "code",
   "execution_count": 32,
   "metadata": {},
   "outputs": [
    {
     "name": "stdout",
     "output_type": "stream",
     "text": [
      "Best: 0.7932642340660095 using {'first_activation': 'relu', 'output_activation': 'sigmoid', 'second_activation': 'relu'}\n",
      "Means: 0.7932642340660095, Stdev: 0.017174931428814384 with: {'first_activation': 'relu', 'output_activation': 'sigmoid', 'second_activation': 'relu'}\n",
      "Means: 0.7841724276542663, Stdev: 0.017478329475160696 with: {'first_activation': 'relu', 'output_activation': 'sigmoid', 'second_activation': 'selu'}\n",
      "Means: 0.7712979435920715, Stdev: 0.007611246939509721 with: {'first_activation': 'relu', 'output_activation': 'sigmoid', 'second_activation': 'sigmoid'}\n",
      "Means: 0.7510471343994141, Stdev: 0.023260056596903625 with: {'first_activation': 'relu', 'output_activation': 'sigmoid', 'second_activation': 'softmax'}\n",
      "Means: 0.26467256546020507, Stdev: 0.007847475302483675 with: {'first_activation': 'relu', 'output_activation': 'softmax', 'second_activation': 'relu'}\n",
      "Means: 0.26467256546020507, Stdev: 0.007847475302483675 with: {'first_activation': 'relu', 'output_activation': 'softmax', 'second_activation': 'selu'}\n",
      "Means: 0.26467256546020507, Stdev: 0.007847475302483675 with: {'first_activation': 'relu', 'output_activation': 'softmax', 'second_activation': 'sigmoid'}\n",
      "Means: 0.26467256546020507, Stdev: 0.007847475302483675 with: {'first_activation': 'relu', 'output_activation': 'softmax', 'second_activation': 'softmax'}\n",
      "Means: 0.7601400136947631, Stdev: 0.054985206644762516 with: {'first_activation': 'selu', 'output_activation': 'sigmoid', 'second_activation': 'relu'}\n",
      "Means: 0.7872054219245911, Stdev: 0.015626711298810762 with: {'first_activation': 'selu', 'output_activation': 'sigmoid', 'second_activation': 'selu'}\n",
      "Means: 0.7762214541435242, Stdev: 0.01454215913865237 with: {'first_activation': 'selu', 'output_activation': 'sigmoid', 'second_activation': 'sigmoid'}\n",
      "Means: 0.7436528682708741, Stdev: 0.019552395900979676 with: {'first_activation': 'selu', 'output_activation': 'sigmoid', 'second_activation': 'softmax'}\n",
      "Means: 0.26467256546020507, Stdev: 0.007847475302483675 with: {'first_activation': 'selu', 'output_activation': 'softmax', 'second_activation': 'relu'}\n",
      "Means: 0.26467256546020507, Stdev: 0.007847475302483675 with: {'first_activation': 'selu', 'output_activation': 'softmax', 'second_activation': 'selu'}\n",
      "Means: 0.26467256546020507, Stdev: 0.007847475302483675 with: {'first_activation': 'selu', 'output_activation': 'softmax', 'second_activation': 'sigmoid'}\n",
      "Means: 0.26467256546020507, Stdev: 0.007847475302483675 with: {'first_activation': 'selu', 'output_activation': 'softmax', 'second_activation': 'softmax'}\n",
      "Means: 0.7862577438354492, Stdev: 0.019454777434707447 with: {'first_activation': 'sigmoid', 'output_activation': 'sigmoid', 'second_activation': 'relu'}\n",
      "Means: 0.7849289298057556, Stdev: 0.015327179473336469 with: {'first_activation': 'sigmoid', 'output_activation': 'sigmoid', 'second_activation': 'selu'}\n",
      "Means: 0.7856854438781739, Stdev: 0.011273042932883691 with: {'first_activation': 'sigmoid', 'output_activation': 'sigmoid', 'second_activation': 'sigmoid'}\n",
      "Means: 0.7790622115135193, Stdev: 0.01951860225298454 with: {'first_activation': 'sigmoid', 'output_activation': 'sigmoid', 'second_activation': 'softmax'}\n",
      "Means: 0.26467256546020507, Stdev: 0.007847475302483675 with: {'first_activation': 'sigmoid', 'output_activation': 'softmax', 'second_activation': 'relu'}\n",
      "Means: 0.26467256546020507, Stdev: 0.007847475302483675 with: {'first_activation': 'sigmoid', 'output_activation': 'softmax', 'second_activation': 'selu'}\n",
      "Means: 0.26467256546020507, Stdev: 0.007847475302483675 with: {'first_activation': 'sigmoid', 'output_activation': 'softmax', 'second_activation': 'sigmoid'}\n",
      "Means: 0.26467256546020507, Stdev: 0.007847475302483675 with: {'first_activation': 'sigmoid', 'output_activation': 'softmax', 'second_activation': 'softmax'}\n",
      "Means: 0.7858791351318359, Stdev: 0.012157661663200751 with: {'first_activation': 'softmax', 'output_activation': 'sigmoid', 'second_activation': 'relu'}\n",
      "Means: 0.7809582948684692, Stdev: 0.01844106877815678 with: {'first_activation': 'softmax', 'output_activation': 'sigmoid', 'second_activation': 'selu'}\n",
      "Means: 0.7686501860618591, Stdev: 0.023867013449703562 with: {'first_activation': 'softmax', 'output_activation': 'sigmoid', 'second_activation': 'sigmoid'}\n",
      "Means: 0.735327422618866, Stdev: 0.007847466487768823 with: {'first_activation': 'softmax', 'output_activation': 'sigmoid', 'second_activation': 'softmax'}\n",
      "Means: 0.26467256546020507, Stdev: 0.007847475302483675 with: {'first_activation': 'softmax', 'output_activation': 'softmax', 'second_activation': 'relu'}\n",
      "Means: 0.26467256546020507, Stdev: 0.007847475302483675 with: {'first_activation': 'softmax', 'output_activation': 'softmax', 'second_activation': 'selu'}\n",
      "Means: 0.26467256546020507, Stdev: 0.007847475302483675 with: {'first_activation': 'softmax', 'output_activation': 'softmax', 'second_activation': 'sigmoid'}\n",
      "Means: 0.26467256546020507, Stdev: 0.007847475302483675 with: {'first_activation': 'softmax', 'output_activation': 'softmax', 'second_activation': 'softmax'}\n"
     ]
    }
   ],
   "source": [
    "def create_model(first_activation='relu', second_activation='relu', output_activation='sigmoid'):\n",
    "    model = Sequential()\n",
    "    model.add(Dense(128, input_dim=X_train_encoded.shape[1], activation=first_activation))\n",
    "    model.add(Dropout(0.01))\n",
    "    model.add(Dense(1280, activation=second_activation))\n",
    "    model.add(Dense(1, activation=output_activation))\n",
    "    optimizer= Adam(lr=0.001)\n",
    "    model.compile(optimizer=optimizer, loss='binary_crossentropy', metrics=['accuracy'])\n",
    "    return model\n",
    "\n",
    "model = KerasClassifier(build_fn=create_model, verbose=0, batch_size=40, epochs=20)\n",
    "\n",
    "param_grid = {'first_activation': ['relu', 'selu', 'sigmoid', 'softmax'], 'second_activation': ['relu', 'selu', 'sigmoid', 'softmax'],\n",
    "             'output_activation': ['sigmoid', 'softmax']}\n",
    "\n",
    "grid = GridSearchCV(estimator=model, param_grid=param_grid, n_jobs=1)\n",
    "grid_result = grid.fit(X_train_encoded, y_train, validation_data=(X_test_encoded, y_test))\n",
    "\n",
    "print(f\"Best: {grid_result.best_score_} using {grid_result.best_params_}\")\n",
    "means = grid_result.cv_results_['mean_test_score']\n",
    "stds = grid_result.cv_results_['std_test_score']\n",
    "params = grid_result.cv_results_['params']\n",
    "for mean, stdev, param in zip(means, stds, params):\n",
    "    print(f\"Means: {mean}, Stdev: {stdev} with: {param}\") "
   ]
  },
  {
   "cell_type": "code",
   "execution_count": 35,
   "metadata": {},
   "outputs": [
    {
     "name": "stdout",
     "output_type": "stream",
     "text": [
      "Best: 0.7951552987098693 using {'optimizer': 'Nadam'}\n",
      "Means: 0.735327422618866, Stdev: 0.007847466487768823 with: {'optimizer': 'SGD'}\n",
      "Means: 0.7419852614402771, Stdev: 0.10555805411319939 with: {'optimizer': 'RMSprop'}\n",
      "Means: 0.6870762407779694, Stdev: 0.12150998907767549 with: {'optimizer': 'Adagrad'}\n",
      "Means: 0.7198154091835022, Stdev: 0.04452029959153313 with: {'optimizer': 'Adadelta'}\n",
      "Means: 0.7824650168418884, Stdev: 0.027311715354244603 with: {'optimizer': 'Adam'}\n",
      "Means: 0.7184749603271484, Stdev: 0.04665520606889455 with: {'optimizer': 'Adamax'}\n",
      "Means: 0.7951552987098693, Stdev: 0.012791488040536597 with: {'optimizer': 'Nadam'}\n"
     ]
    }
   ],
   "source": [
    "def create_model(optimizer=Adam):\n",
    "    model = Sequential()\n",
    "    model.add(Dense(128, input_dim=X_train_encoded.shape[1], activation='relu'))\n",
    "    model.add(Dropout(0.01))\n",
    "    model.add(Dense(1280, activation='relu'))\n",
    "    model.add(Dense(1, activation='sigmoid'))\n",
    "    model.compile(optimizer=optimizer, loss='binary_crossentropy', metrics=['accuracy'])\n",
    "    return model\n",
    "\n",
    "model = KerasClassifier(build_fn=create_model, verbose=0, batch_size=40, epochs=20)\n",
    "\n",
    "optimizer = ['SGD', 'RMSprop', 'Adagrad', 'Adadelta', 'Adam', 'Adamax', 'Nadam']\n",
    "param_grid = dict(optimizer=optimizer)\n",
    "grid = GridSearchCV(estimator=model, param_grid=param_grid, n_jobs=1)\n",
    "grid_result = grid.fit(X_train_encoded, y_train, validation_data=(X_test_encoded, y_test))\n",
    "\n",
    "print(f\"Best: {grid_result.best_score_} using {grid_result.best_params_}\")\n",
    "means = grid_result.cv_results_['mean_test_score']\n",
    "stds = grid_result.cv_results_['std_test_score']\n",
    "params = grid_result.cv_results_['params']\n",
    "for mean, stdev, param in zip(means, stds, params):\n",
    "    print(f\"Means: {mean}, Stdev: {stdev} with: {param}\") "
   ]
  },
  {
   "cell_type": "code",
   "execution_count": 38,
   "metadata": {},
   "outputs": [
    {
     "name": "stdout",
     "output_type": "stream",
     "text": [
      "Best: 0.7968589663505554 using {'epochs': 100}\n",
      "Means: 0.7883362293243408, Stdev: 0.01619376162337619 with: {'epochs': 20}\n",
      "Means: 0.7187041282653809, Stdev: 0.12319231362364273 with: {'epochs': 40}\n",
      "Means: 0.7516318082809448, Stdev: 0.08542275738049718 with: {'epochs': 80}\n",
      "Means: 0.7968589663505554, Stdev: 0.012163361496566704 with: {'epochs': 100}\n",
      "Means: 0.7116377711296081, Stdev: 0.1051862895482901 with: {'epochs': 400}\n",
      "Means: 0.7565202116966248, Stdev: 0.060921503115243476 with: {'epochs': 1000}\n"
     ]
    }
   ],
   "source": [
    "def create_model():\n",
    "    model = Sequential()\n",
    "    model.add(Dense(128, input_dim=X_train_encoded.shape[1], activation='relu'))\n",
    "    model.add(Dropout(0.01))\n",
    "    model.add(Dense(1280, activation='relu'))\n",
    "    model.add(Dense(1, activation='sigmoid'))\n",
    "    optimizer= Nadam(lr=0.001)\n",
    "    model.compile(optimizer=optimizer, loss='binary_crossentropy', metrics=['accuracy'])\n",
    "    return model\n",
    "\n",
    "stop = EarlyStopping(min_delta=0.01, patience=5)\n",
    "\n",
    "model = KerasClassifier(build_fn=create_model, verbose=0, batch_size=40, epochs=20)\n",
    "\n",
    "\n",
    "param_grid = {'epochs': [20, 40, 80, 100, 400, 1000]}\n",
    "grid = GridSearchCV(estimator=model, param_grid=param_grid, n_jobs=1)\n",
    "grid_result = grid.fit(X_train_encoded, y_train, validation_data=(X_test_encoded, y_test), callbacks=[stop])\n",
    "\n",
    "print(f\"Best: {grid_result.best_score_} using {grid_result.best_params_}\")\n",
    "means = grid_result.cv_results_['mean_test_score']\n",
    "stds = grid_result.cv_results_['std_test_score']\n",
    "params = grid_result.cv_results_['params']\n",
    "for mean, stdev, param in zip(means, stds, params):\n",
    "    print(f\"Means: {mean}, Stdev: {stdev} with: {param}\") "
   ]
  },
  {
   "cell_type": "code",
   "execution_count": null,
   "metadata": {},
   "outputs": [],
   "source": [
    "#Best model according to grid searches\n",
    "model = Sequential()\n",
    "model.add(Dense(128, input_dim=X_train_encoded.shape[1], activation='relu'))\n",
    "model.add(Dropout(0.01))\n",
    "model.add(Dense(1280, activation='relu'))\n",
    "model.add(Dense(1, activation='sigmoid'))\n",
    "optimizer= Nadam(lr=0.001)\n",
    "model.compile(optimizer=optimizer, loss='binary_crossentropy', metrics=['accuracy'])\n",
    "stop = EarlyStopping(min_delta=0.01, patience=5)\n",
    "model.fit(X_train_encoded, y_train, validation_data=(X_test_encoded, y_test), callbacks=[stop])"
   ]
  },
  {
   "cell_type": "markdown",
   "metadata": {
    "colab_type": "text",
    "id": "FfZRtJ7MCN3x"
   },
   "source": [
    "## Stretch Goals:\n",
    "\n",
    "- Try to implement Random Search Hyperparameter Tuning on this dataset\n",
    "- Try to implement Bayesian Optimiation tuning on this dataset using hyperas or hyperopt (if you're brave)\n",
    "- Practice hyperparameter tuning other datasets that we have looked at. How high can you get MNIST? Above 99%?\n",
    "- Study for the Sprint Challenge\n",
    " - Can you implement both perceptron and MLP models from scratch with forward and backpropagation?\n",
    " - Can you implement both perceptron and MLP models in keras and tune their hyperparameters with cross validation?"
   ]
  },
  {
   "cell_type": "code",
   "execution_count": null,
   "metadata": {
    "colab": {},
    "colab_type": "code",
    "id": "4iPzQV4n_Lz2"
   },
   "outputs": [],
   "source": []
  }
 ],
 "metadata": {
  "colab": {
   "name": "Copy of LS_DS_434_Hyperparameter_Tuning_Assignment.ipynb",
   "provenance": []
  },
  "kernelspec": {
   "display_name": "Python 3",
   "language": "python",
   "name": "python3"
  },
  "language_info": {
   "codemirror_mode": {
    "name": "ipython",
    "version": 3
   },
   "file_extension": ".py",
   "mimetype": "text/x-python",
   "name": "python",
   "nbconvert_exporter": "python",
   "pygments_lexer": "ipython3",
   "version": "3.7.4"
  }
 },
 "nbformat": 4,
 "nbformat_minor": 4
}
