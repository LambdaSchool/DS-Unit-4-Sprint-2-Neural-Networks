{
  "nbformat": 4,
  "nbformat_minor": 0,
  "metadata": {
    "colab": {
      "name": "LS_DS_434_Hyperparameter_Tuning_Assignment.ipynb",
      "version": "0.3.2",
      "provenance": [],
      "include_colab_link": true
    },
    "kernelspec": {
      "name": "python3",
      "display_name": "Python 3"
    }
  },
  "cells": [
    {
      "cell_type": "markdown",
      "metadata": {
        "id": "view-in-github",
        "colab_type": "text"
      },
      "source": [
        "<a href=\"https://colab.research.google.com/github/derek-shing/DS-Unit-4-Sprint-3-Neural-Networks/blob/master/module4-Hyperparameter-Tuning/LS_DS_434_Hyperparameter_Tuning_Assignment.ipynb\" target=\"_parent\"><img src=\"https://colab.research.google.com/assets/colab-badge.svg\" alt=\"Open In Colab\"/></a>"
      ]
    },
    {
      "cell_type": "markdown",
      "metadata": {
        "id": "9Ryp-TVm4njD",
        "colab_type": "text"
      },
      "source": [
        "# Your Mission, should you choose to accept it...\n",
        "\n",
        "To hyperparameter tune and extract every ounce of accuracy out of this telecom customer churn dataset: <https://drive.google.com/file/d/1dfbAsM9DwA7tYhInyflIpZnYs7VT-0AQ/view> \n",
        "\n",
        "## Requirements\n",
        "\n",
        "- Load the data\n",
        "- Clean the data if necessary (it will be)\n",
        "- Create and fit a baseline Keras MLP model to the data.\n",
        "- Hyperparameter tune (at least) the following parameters:\n",
        " - batch_size\n",
        " - training epochs\n",
        " - optimizer\n",
        " - learning rate (if applicable to optimizer)\n",
        " - momentum (if applicable to optimizer)\n",
        " - activation functions\n",
        " - network weight initialization\n",
        " - dropout regularization\n",
        " - number of neurons in the hidden layer\n",
        " \n",
        " You must use Grid Search and Cross Validation for your initial pass of the above hyperparameters\n",
        " \n",
        " Try and get the maximum accuracy possible out of this data! You'll save big telecoms millions! Doesn't that sound great?\n"
      ]
    },
    {
      "cell_type": "code",
      "metadata": {
        "id": "NNJ-tOBs4jM1",
        "colab_type": "code",
        "colab": {
          "base_uri": "https://localhost:8080/",
          "height": 34
        },
        "outputId": "286808d8-84e7-46d6-912e-21838f8f773d"
      },
      "source": [
        "##### Your Code Here #####\n",
        "import keras\n",
        "from keras.models import Sequential\n",
        "from keras.layers import Dense\n",
        "import pandas as pd\n",
        "import numpy"
      ],
      "execution_count": 1,
      "outputs": [
        {
          "output_type": "stream",
          "text": [
            "Using TensorFlow backend.\n"
          ],
          "name": "stderr"
        }
      ]
    },
    {
      "cell_type": "code",
      "metadata": {
        "id": "IKl6srJ9SbLq",
        "colab_type": "code",
        "colab": {}
      },
      "source": [
        "df = pd.read_csv('https://raw.githubusercontent.com/derek-shing/DS-Unit-4-Sprint-3-Neural-Networks/master/module4-Hyperparameter-Tuning/WA_Fn-UseC_-Telco-Customer-Churn.csv')"
      ],
      "execution_count": 0,
      "outputs": []
    },
    {
      "cell_type": "code",
      "metadata": {
        "id": "g3GJyVdDSmZ4",
        "colab_type": "code",
        "colab": {}
      },
      "source": [
        "df.head()"
      ],
      "execution_count": 0,
      "outputs": []
    },
    {
      "cell_type": "code",
      "metadata": {
        "id": "5GOpsH-7Tmje",
        "colab_type": "code",
        "colab": {
          "base_uri": "https://localhost:8080/",
          "height": 34
        },
        "outputId": "026c7359-8f8d-4da6-db17-c2872fce2196"
      },
      "source": [
        "df.shape"
      ],
      "execution_count": 6,
      "outputs": [
        {
          "output_type": "execute_result",
          "data": {
            "text/plain": [
              "(7043, 21)"
            ]
          },
          "metadata": {
            "tags": []
          },
          "execution_count": 6
        }
      ]
    },
    {
      "cell_type": "code",
      "metadata": {
        "id": "LwXlwSy5ToyH",
        "colab_type": "code",
        "colab": {
          "base_uri": "https://localhost:8080/",
          "height": 309
        },
        "outputId": "0ff9a5bd-8fed-4f7a-e3b2-82872bcadb4f"
      },
      "source": [
        "df.head()"
      ],
      "execution_count": 26,
      "outputs": [
        {
          "output_type": "execute_result",
          "data": {
            "text/html": [
              "<div>\n",
              "<style scoped>\n",
              "    .dataframe tbody tr th:only-of-type {\n",
              "        vertical-align: middle;\n",
              "    }\n",
              "\n",
              "    .dataframe tbody tr th {\n",
              "        vertical-align: top;\n",
              "    }\n",
              "\n",
              "    .dataframe thead th {\n",
              "        text-align: right;\n",
              "    }\n",
              "</style>\n",
              "<table border=\"1\" class=\"dataframe\">\n",
              "  <thead>\n",
              "    <tr style=\"text-align: right;\">\n",
              "      <th></th>\n",
              "      <th>customerID</th>\n",
              "      <th>gender</th>\n",
              "      <th>SeniorCitizen</th>\n",
              "      <th>Partner</th>\n",
              "      <th>Dependents</th>\n",
              "      <th>tenure</th>\n",
              "      <th>PhoneService</th>\n",
              "      <th>MultipleLines</th>\n",
              "      <th>InternetService</th>\n",
              "      <th>OnlineSecurity</th>\n",
              "      <th>OnlineBackup</th>\n",
              "      <th>DeviceProtection</th>\n",
              "      <th>TechSupport</th>\n",
              "      <th>StreamingTV</th>\n",
              "      <th>StreamingMovies</th>\n",
              "      <th>Contract</th>\n",
              "      <th>PaperlessBilling</th>\n",
              "      <th>PaymentMethod</th>\n",
              "      <th>MonthlyCharges</th>\n",
              "      <th>TotalCharges</th>\n",
              "      <th>Churn</th>\n",
              "    </tr>\n",
              "  </thead>\n",
              "  <tbody>\n",
              "    <tr>\n",
              "      <th>0</th>\n",
              "      <td>7590-VHVEG</td>\n",
              "      <td>Female</td>\n",
              "      <td>0</td>\n",
              "      <td>1</td>\n",
              "      <td>0</td>\n",
              "      <td>1</td>\n",
              "      <td>0</td>\n",
              "      <td>No phone service</td>\n",
              "      <td>DSL</td>\n",
              "      <td>No</td>\n",
              "      <td>Yes</td>\n",
              "      <td>No</td>\n",
              "      <td>No</td>\n",
              "      <td>No</td>\n",
              "      <td>No</td>\n",
              "      <td>Month-to-month</td>\n",
              "      <td>1</td>\n",
              "      <td>Electronic check</td>\n",
              "      <td>29.85</td>\n",
              "      <td>29.85</td>\n",
              "      <td>0</td>\n",
              "    </tr>\n",
              "    <tr>\n",
              "      <th>1</th>\n",
              "      <td>5575-GNVDE</td>\n",
              "      <td>Male</td>\n",
              "      <td>0</td>\n",
              "      <td>0</td>\n",
              "      <td>0</td>\n",
              "      <td>34</td>\n",
              "      <td>1</td>\n",
              "      <td>No</td>\n",
              "      <td>DSL</td>\n",
              "      <td>Yes</td>\n",
              "      <td>No</td>\n",
              "      <td>Yes</td>\n",
              "      <td>No</td>\n",
              "      <td>No</td>\n",
              "      <td>No</td>\n",
              "      <td>One year</td>\n",
              "      <td>0</td>\n",
              "      <td>Mailed check</td>\n",
              "      <td>56.95</td>\n",
              "      <td>1889.5</td>\n",
              "      <td>0</td>\n",
              "    </tr>\n",
              "    <tr>\n",
              "      <th>2</th>\n",
              "      <td>3668-QPYBK</td>\n",
              "      <td>Male</td>\n",
              "      <td>0</td>\n",
              "      <td>0</td>\n",
              "      <td>0</td>\n",
              "      <td>2</td>\n",
              "      <td>1</td>\n",
              "      <td>No</td>\n",
              "      <td>DSL</td>\n",
              "      <td>Yes</td>\n",
              "      <td>Yes</td>\n",
              "      <td>No</td>\n",
              "      <td>No</td>\n",
              "      <td>No</td>\n",
              "      <td>No</td>\n",
              "      <td>Month-to-month</td>\n",
              "      <td>1</td>\n",
              "      <td>Mailed check</td>\n",
              "      <td>53.85</td>\n",
              "      <td>108.15</td>\n",
              "      <td>1</td>\n",
              "    </tr>\n",
              "    <tr>\n",
              "      <th>3</th>\n",
              "      <td>7795-CFOCW</td>\n",
              "      <td>Male</td>\n",
              "      <td>0</td>\n",
              "      <td>0</td>\n",
              "      <td>0</td>\n",
              "      <td>45</td>\n",
              "      <td>0</td>\n",
              "      <td>No phone service</td>\n",
              "      <td>DSL</td>\n",
              "      <td>Yes</td>\n",
              "      <td>No</td>\n",
              "      <td>Yes</td>\n",
              "      <td>Yes</td>\n",
              "      <td>No</td>\n",
              "      <td>No</td>\n",
              "      <td>One year</td>\n",
              "      <td>0</td>\n",
              "      <td>Bank transfer (automatic)</td>\n",
              "      <td>42.30</td>\n",
              "      <td>1840.75</td>\n",
              "      <td>0</td>\n",
              "    </tr>\n",
              "    <tr>\n",
              "      <th>4</th>\n",
              "      <td>9237-HQITU</td>\n",
              "      <td>Female</td>\n",
              "      <td>0</td>\n",
              "      <td>0</td>\n",
              "      <td>0</td>\n",
              "      <td>2</td>\n",
              "      <td>1</td>\n",
              "      <td>No</td>\n",
              "      <td>Fiber optic</td>\n",
              "      <td>No</td>\n",
              "      <td>No</td>\n",
              "      <td>No</td>\n",
              "      <td>No</td>\n",
              "      <td>No</td>\n",
              "      <td>No</td>\n",
              "      <td>Month-to-month</td>\n",
              "      <td>1</td>\n",
              "      <td>Electronic check</td>\n",
              "      <td>70.70</td>\n",
              "      <td>151.65</td>\n",
              "      <td>1</td>\n",
              "    </tr>\n",
              "  </tbody>\n",
              "</table>\n",
              "</div>"
            ],
            "text/plain": [
              "   customerID  gender  SeniorCitizen  Partner  Dependents  tenure  \\\n",
              "0  7590-VHVEG  Female              0        1           0       1   \n",
              "1  5575-GNVDE    Male              0        0           0      34   \n",
              "2  3668-QPYBK    Male              0        0           0       2   \n",
              "3  7795-CFOCW    Male              0        0           0      45   \n",
              "4  9237-HQITU  Female              0        0           0       2   \n",
              "\n",
              "   PhoneService     MultipleLines InternetService OnlineSecurity OnlineBackup  \\\n",
              "0             0  No phone service             DSL             No          Yes   \n",
              "1             1                No             DSL            Yes           No   \n",
              "2             1                No             DSL            Yes          Yes   \n",
              "3             0  No phone service             DSL            Yes           No   \n",
              "4             1                No     Fiber optic             No           No   \n",
              "\n",
              "  DeviceProtection TechSupport StreamingTV StreamingMovies        Contract  \\\n",
              "0               No          No          No              No  Month-to-month   \n",
              "1              Yes          No          No              No        One year   \n",
              "2               No          No          No              No  Month-to-month   \n",
              "3              Yes         Yes          No              No        One year   \n",
              "4               No          No          No              No  Month-to-month   \n",
              "\n",
              "   PaperlessBilling              PaymentMethod  MonthlyCharges TotalCharges  \\\n",
              "0                 1           Electronic check           29.85        29.85   \n",
              "1                 0               Mailed check           56.95       1889.5   \n",
              "2                 1               Mailed check           53.85       108.15   \n",
              "3                 0  Bank transfer (automatic)           42.30      1840.75   \n",
              "4                 1           Electronic check           70.70       151.65   \n",
              "\n",
              "   Churn  \n",
              "0      0  \n",
              "1      0  \n",
              "2      1  \n",
              "3      0  \n",
              "4      1  "
            ]
          },
          "metadata": {
            "tags": []
          },
          "execution_count": 26
        }
      ]
    },
    {
      "cell_type": "code",
      "metadata": {
        "id": "QBXqN-KfWeHe",
        "colab_type": "code",
        "colab": {}
      },
      "source": [
        "pd.options.display.max_columns=100"
      ],
      "execution_count": 0,
      "outputs": []
    },
    {
      "cell_type": "code",
      "metadata": {
        "id": "4DtsDpkGWAEz",
        "colab_type": "code",
        "colab": {
          "base_uri": "https://localhost:8080/",
          "height": 102
        },
        "outputId": "5b3202ad-8e81-4fbb-911f-1324373d4de1"
      },
      "source": [
        "binary_columns=['Partner','Dependents','PhoneService','PaperlessBilling','Churn']\n",
        "Cat_columns=['OnlineSecurity','OnlineBackup','DeviceProtection','TechSupport','StreamingTV','StreamingMovies']\n",
        "df[binary_columns]=df[binary_columns].replace({'Yes':1,'No':0})\n",
        "for col in df[binary_columns].columns:\n",
        "    print (col, df[col].unique())"
      ],
      "execution_count": 25,
      "outputs": [
        {
          "output_type": "stream",
          "text": [
            "Partner [1 0]\n",
            "Dependents [0 1]\n",
            "PhoneService [0 1]\n",
            "PaperlessBilling [1 0]\n",
            "Churn [0 1]\n"
          ],
          "name": "stdout"
        }
      ]
    },
    {
      "cell_type": "code",
      "metadata": {
        "id": "jy0ffy_tceac",
        "colab_type": "code",
        "colab": {}
      },
      "source": [
        "from sklearn.preprocessing import LabelEncoder\n",
        "lb_encoder = LabelEncoder()\n",
        "df['Contract']=lb_encoder.fit_transform(df['Contract'])"
      ],
      "execution_count": 0,
      "outputs": []
    },
    {
      "cell_type": "code",
      "metadata": {
        "id": "KQzLTY0Wm9WQ",
        "colab_type": "code",
        "colab": {}
      },
      "source": [
        "df =df.drop(columns ='customerID')"
      ],
      "execution_count": 0,
      "outputs": []
    },
    {
      "cell_type": "code",
      "metadata": {
        "id": "QcpGyvbNmkYC",
        "colab_type": "code",
        "colab": {}
      },
      "source": [
        "for col in df.select_dtypes(exclude='number').columns:\n",
        "  df[col]=lb_encoder.fit_transform(df[col])"
      ],
      "execution_count": 0,
      "outputs": []
    },
    {
      "cell_type": "code",
      "metadata": {
        "id": "UTns-3ANneRk",
        "colab_type": "code",
        "colab": {
          "base_uri": "https://localhost:8080/",
          "height": 224
        },
        "outputId": "e46efba2-4ee4-417a-856c-eed561fd804d"
      },
      "source": [
        "df.head()"
      ],
      "execution_count": 40,
      "outputs": [
        {
          "output_type": "execute_result",
          "data": {
            "text/html": [
              "<div>\n",
              "<style scoped>\n",
              "    .dataframe tbody tr th:only-of-type {\n",
              "        vertical-align: middle;\n",
              "    }\n",
              "\n",
              "    .dataframe tbody tr th {\n",
              "        vertical-align: top;\n",
              "    }\n",
              "\n",
              "    .dataframe thead th {\n",
              "        text-align: right;\n",
              "    }\n",
              "</style>\n",
              "<table border=\"1\" class=\"dataframe\">\n",
              "  <thead>\n",
              "    <tr style=\"text-align: right;\">\n",
              "      <th></th>\n",
              "      <th>gender</th>\n",
              "      <th>SeniorCitizen</th>\n",
              "      <th>Partner</th>\n",
              "      <th>Dependents</th>\n",
              "      <th>tenure</th>\n",
              "      <th>PhoneService</th>\n",
              "      <th>MultipleLines</th>\n",
              "      <th>InternetService</th>\n",
              "      <th>OnlineSecurity</th>\n",
              "      <th>OnlineBackup</th>\n",
              "      <th>DeviceProtection</th>\n",
              "      <th>TechSupport</th>\n",
              "      <th>StreamingTV</th>\n",
              "      <th>StreamingMovies</th>\n",
              "      <th>Contract</th>\n",
              "      <th>PaperlessBilling</th>\n",
              "      <th>PaymentMethod</th>\n",
              "      <th>MonthlyCharges</th>\n",
              "      <th>TotalCharges</th>\n",
              "      <th>Churn</th>\n",
              "    </tr>\n",
              "  </thead>\n",
              "  <tbody>\n",
              "    <tr>\n",
              "      <th>0</th>\n",
              "      <td>0</td>\n",
              "      <td>0</td>\n",
              "      <td>1</td>\n",
              "      <td>0</td>\n",
              "      <td>1</td>\n",
              "      <td>0</td>\n",
              "      <td>1</td>\n",
              "      <td>0</td>\n",
              "      <td>0</td>\n",
              "      <td>2</td>\n",
              "      <td>0</td>\n",
              "      <td>0</td>\n",
              "      <td>0</td>\n",
              "      <td>0</td>\n",
              "      <td>0</td>\n",
              "      <td>1</td>\n",
              "      <td>2</td>\n",
              "      <td>29.85</td>\n",
              "      <td>2505</td>\n",
              "      <td>0</td>\n",
              "    </tr>\n",
              "    <tr>\n",
              "      <th>1</th>\n",
              "      <td>1</td>\n",
              "      <td>0</td>\n",
              "      <td>0</td>\n",
              "      <td>0</td>\n",
              "      <td>34</td>\n",
              "      <td>1</td>\n",
              "      <td>0</td>\n",
              "      <td>0</td>\n",
              "      <td>2</td>\n",
              "      <td>0</td>\n",
              "      <td>2</td>\n",
              "      <td>0</td>\n",
              "      <td>0</td>\n",
              "      <td>0</td>\n",
              "      <td>1</td>\n",
              "      <td>0</td>\n",
              "      <td>3</td>\n",
              "      <td>56.95</td>\n",
              "      <td>1466</td>\n",
              "      <td>0</td>\n",
              "    </tr>\n",
              "    <tr>\n",
              "      <th>2</th>\n",
              "      <td>1</td>\n",
              "      <td>0</td>\n",
              "      <td>0</td>\n",
              "      <td>0</td>\n",
              "      <td>2</td>\n",
              "      <td>1</td>\n",
              "      <td>0</td>\n",
              "      <td>0</td>\n",
              "      <td>2</td>\n",
              "      <td>2</td>\n",
              "      <td>0</td>\n",
              "      <td>0</td>\n",
              "      <td>0</td>\n",
              "      <td>0</td>\n",
              "      <td>0</td>\n",
              "      <td>1</td>\n",
              "      <td>3</td>\n",
              "      <td>53.85</td>\n",
              "      <td>157</td>\n",
              "      <td>1</td>\n",
              "    </tr>\n",
              "    <tr>\n",
              "      <th>3</th>\n",
              "      <td>1</td>\n",
              "      <td>0</td>\n",
              "      <td>0</td>\n",
              "      <td>0</td>\n",
              "      <td>45</td>\n",
              "      <td>0</td>\n",
              "      <td>1</td>\n",
              "      <td>0</td>\n",
              "      <td>2</td>\n",
              "      <td>0</td>\n",
              "      <td>2</td>\n",
              "      <td>2</td>\n",
              "      <td>0</td>\n",
              "      <td>0</td>\n",
              "      <td>1</td>\n",
              "      <td>0</td>\n",
              "      <td>0</td>\n",
              "      <td>42.30</td>\n",
              "      <td>1400</td>\n",
              "      <td>0</td>\n",
              "    </tr>\n",
              "    <tr>\n",
              "      <th>4</th>\n",
              "      <td>0</td>\n",
              "      <td>0</td>\n",
              "      <td>0</td>\n",
              "      <td>0</td>\n",
              "      <td>2</td>\n",
              "      <td>1</td>\n",
              "      <td>0</td>\n",
              "      <td>1</td>\n",
              "      <td>0</td>\n",
              "      <td>0</td>\n",
              "      <td>0</td>\n",
              "      <td>0</td>\n",
              "      <td>0</td>\n",
              "      <td>0</td>\n",
              "      <td>0</td>\n",
              "      <td>1</td>\n",
              "      <td>2</td>\n",
              "      <td>70.70</td>\n",
              "      <td>925</td>\n",
              "      <td>1</td>\n",
              "    </tr>\n",
              "  </tbody>\n",
              "</table>\n",
              "</div>"
            ],
            "text/plain": [
              "   gender  SeniorCitizen  Partner  Dependents  tenure  PhoneService  \\\n",
              "0       0              0        1           0       1             0   \n",
              "1       1              0        0           0      34             1   \n",
              "2       1              0        0           0       2             1   \n",
              "3       1              0        0           0      45             0   \n",
              "4       0              0        0           0       2             1   \n",
              "\n",
              "   MultipleLines  InternetService  OnlineSecurity  OnlineBackup  \\\n",
              "0              1                0               0             2   \n",
              "1              0                0               2             0   \n",
              "2              0                0               2             2   \n",
              "3              1                0               2             0   \n",
              "4              0                1               0             0   \n",
              "\n",
              "   DeviceProtection  TechSupport  StreamingTV  StreamingMovies  Contract  \\\n",
              "0                 0            0            0                0         0   \n",
              "1                 2            0            0                0         1   \n",
              "2                 0            0            0                0         0   \n",
              "3                 2            2            0                0         1   \n",
              "4                 0            0            0                0         0   \n",
              "\n",
              "   PaperlessBilling  PaymentMethod  MonthlyCharges  TotalCharges  Churn  \n",
              "0                 1              2           29.85          2505      0  \n",
              "1                 0              3           56.95          1466      0  \n",
              "2                 1              3           53.85           157      1  \n",
              "3                 0              0           42.30          1400      0  \n",
              "4                 1              2           70.70           925      1  "
            ]
          },
          "metadata": {
            "tags": []
          },
          "execution_count": 40
        }
      ]
    },
    {
      "cell_type": "code",
      "metadata": {
        "id": "zgpSLtYpgCPV",
        "colab_type": "code",
        "colab": {}
      },
      "source": [
        "X=df.drop(columns='Churn')\n",
        "y=df['Churn']"
      ],
      "execution_count": 0,
      "outputs": []
    },
    {
      "cell_type": "code",
      "metadata": {
        "id": "6uOMRGrIWFbH",
        "colab_type": "code",
        "colab": {
          "base_uri": "https://localhost:8080/",
          "height": 34
        },
        "outputId": "eb308e3b-cbb9-4468-83e2-b656df344730"
      },
      "source": [
        "X.shape, y.shape"
      ],
      "execution_count": 42,
      "outputs": [
        {
          "output_type": "execute_result",
          "data": {
            "text/plain": [
              "((7043, 19), (7043,))"
            ]
          },
          "metadata": {
            "tags": []
          },
          "execution_count": 42
        }
      ]
    },
    {
      "cell_type": "code",
      "metadata": {
        "id": "-0WhZVlOoa-U",
        "colab_type": "code",
        "colab": {
          "base_uri": "https://localhost:8080/",
          "height": 105
        },
        "outputId": "2390f030-f211-44b2-b91a-eceb7254b0c5"
      },
      "source": [
        "from sklearn.preprocessing import StandardScaler\n",
        "scaler = StandardScaler()\n",
        "X = scaler.fit_transform(X)"
      ],
      "execution_count": 43,
      "outputs": [
        {
          "output_type": "stream",
          "text": [
            "/usr/local/lib/python3.6/dist-packages/sklearn/preprocessing/data.py:645: DataConversionWarning: Data with input dtype int64, float64 were all converted to float64 by StandardScaler.\n",
            "  return self.partial_fit(X, y)\n",
            "/usr/local/lib/python3.6/dist-packages/sklearn/base.py:464: DataConversionWarning: Data with input dtype int64, float64 were all converted to float64 by StandardScaler.\n",
            "  return self.fit(X, **fit_params).transform(X)\n"
          ],
          "name": "stderr"
        }
      ]
    },
    {
      "cell_type": "code",
      "metadata": {
        "id": "Vi4cVHTPoEq0",
        "colab_type": "code",
        "colab": {}
      },
      "source": [
        "# Important Hyperparameters\n",
        "inputs = X.shape[1]\n",
        "epochs = 50\n",
        "batch_size = 10\n",
        "\n",
        "# Create Model\n",
        "def create_model():\n",
        "  model = Sequential()\n",
        "  model.add(Dense(64, activation='relu', input_shape=(inputs,)))\n",
        "  model.add(Dense(64, activation='relu'))\n",
        "  model.add(Dense(1, activation='sigmoid'))\n",
        "# Compile Model\n",
        "  model.compile(loss ='binary_crossentropy',optimizer='adam', metrics=['accuracy'])\n",
        "  return model\n",
        "  \n",
        "# Fit Model\n",
        "#model.fit(X, y, validation_split=0.33, epochs=epochs, batch_size=batch_size)"
      ],
      "execution_count": 0,
      "outputs": []
    },
    {
      "cell_type": "code",
      "metadata": {
        "id": "2q4u0hTDvyra",
        "colab_type": "code",
        "colab": {}
      },
      "source": [
        "from keras.wrappers.scikit_learn import KerasClassifier\n",
        "from sklearn.model_selection import GridSearchCV\n",
        "model = KerasClassifier(build_fn=create_model, verbose=1)\n",
        "param_grid = {'batch_size': [80],\n",
        "              'epochs': [20],\n",
        "              #'activation':['relu','sigmoid']\n",
        "             }"
      ],
      "execution_count": 0,
      "outputs": []
    },
    {
      "cell_type": "code",
      "metadata": {
        "id": "dmI_1lzmwRwP",
        "colab_type": "code",
        "colab": {
          "base_uri": "https://localhost:8080/",
          "height": 2893
        },
        "outputId": "031590b6-77db-4a45-8149-f58094244300"
      },
      "source": [
        "grid = GridSearchCV(estimator=model, param_grid=param_grid, n_jobs=1)\n",
        "grid_result = grid.fit(X, y)"
      ],
      "execution_count": 68,
      "outputs": [
        {
          "output_type": "stream",
          "text": [
            "/usr/local/lib/python3.6/dist-packages/sklearn/model_selection/_split.py:2053: FutureWarning: You should specify a value for 'cv' instead of relying on the default value. The default value will change from 3 to 5 in version 0.22.\n",
            "  warnings.warn(CV_WARNING, FutureWarning)\n"
          ],
          "name": "stderr"
        },
        {
          "output_type": "stream",
          "text": [
            "Epoch 1/20\n",
            "4695/4695 [==============================] - 3s 710us/step - loss: 0.5110 - acc: 0.7333\n",
            "Epoch 2/20\n",
            "4695/4695 [==============================] - 0s 26us/step - loss: 0.4399 - acc: 0.7911\n",
            "Epoch 3/20\n",
            "4695/4695 [==============================] - 0s 26us/step - loss: 0.4279 - acc: 0.7994\n",
            "Epoch 4/20\n",
            "4695/4695 [==============================] - 0s 26us/step - loss: 0.4234 - acc: 0.8009\n",
            "Epoch 5/20\n",
            "4695/4695 [==============================] - 0s 26us/step - loss: 0.4179 - acc: 0.8062\n",
            "Epoch 6/20\n",
            "4695/4695 [==============================] - 0s 26us/step - loss: 0.4153 - acc: 0.8081\n",
            "Epoch 7/20\n",
            "4695/4695 [==============================] - 0s 24us/step - loss: 0.4107 - acc: 0.8109\n",
            "Epoch 8/20\n",
            "4695/4695 [==============================] - 0s 27us/step - loss: 0.4079 - acc: 0.8128\n",
            "Epoch 9/20\n",
            "4695/4695 [==============================] - 0s 26us/step - loss: 0.4045 - acc: 0.8132\n",
            "Epoch 10/20\n",
            "4695/4695 [==============================] - 0s 25us/step - loss: 0.4023 - acc: 0.8138\n",
            "Epoch 11/20\n",
            "4695/4695 [==============================] - 0s 26us/step - loss: 0.4000 - acc: 0.8117\n",
            "Epoch 12/20\n",
            "4695/4695 [==============================] - 0s 26us/step - loss: 0.3970 - acc: 0.8183\n",
            "Epoch 13/20\n",
            "4695/4695 [==============================] - 0s 26us/step - loss: 0.3942 - acc: 0.8141\n",
            "Epoch 14/20\n",
            "4695/4695 [==============================] - 0s 27us/step - loss: 0.3917 - acc: 0.8213\n",
            "Epoch 15/20\n",
            "4695/4695 [==============================] - 0s 26us/step - loss: 0.3892 - acc: 0.8190\n",
            "Epoch 16/20\n",
            "4695/4695 [==============================] - 0s 26us/step - loss: 0.3873 - acc: 0.8200\n",
            "Epoch 17/20\n",
            "4695/4695 [==============================] - 0s 26us/step - loss: 0.3840 - acc: 0.8262\n",
            "Epoch 18/20\n",
            "4695/4695 [==============================] - 0s 27us/step - loss: 0.3829 - acc: 0.8236\n",
            "Epoch 19/20\n",
            "4695/4695 [==============================] - 0s 26us/step - loss: 0.3792 - acc: 0.8239\n",
            "Epoch 20/20\n",
            "4695/4695 [==============================] - 0s 26us/step - loss: 0.3786 - acc: 0.8253\n",
            "2348/2348 [==============================] - 1s 519us/step\n",
            "4695/4695 [==============================] - 0s 17us/step\n",
            "Epoch 1/20\n",
            "4695/4695 [==============================] - 3s 645us/step - loss: 0.4851 - acc: 0.7536\n",
            "Epoch 2/20\n",
            "4695/4695 [==============================] - 0s 27us/step - loss: 0.4261 - acc: 0.7938\n",
            "Epoch 3/20\n",
            "4695/4695 [==============================] - 0s 28us/step - loss: 0.4145 - acc: 0.8009\n",
            "Epoch 4/20\n",
            "4695/4695 [==============================] - 0s 27us/step - loss: 0.4087 - acc: 0.8049\n",
            "Epoch 5/20\n",
            "4695/4695 [==============================] - 0s 26us/step - loss: 0.4022 - acc: 0.8094\n",
            "Epoch 6/20\n",
            "4695/4695 [==============================] - 0s 27us/step - loss: 0.3987 - acc: 0.8115\n",
            "Epoch 7/20\n",
            "4695/4695 [==============================] - 0s 27us/step - loss: 0.3932 - acc: 0.8164\n",
            "Epoch 8/20\n",
            "4695/4695 [==============================] - 0s 27us/step - loss: 0.3891 - acc: 0.8200\n",
            "Epoch 9/20\n",
            "4695/4695 [==============================] - 0s 27us/step - loss: 0.3872 - acc: 0.8175\n",
            "Epoch 10/20\n",
            "4695/4695 [==============================] - 0s 27us/step - loss: 0.3824 - acc: 0.8239\n",
            "Epoch 11/20\n",
            "4695/4695 [==============================] - 0s 27us/step - loss: 0.3800 - acc: 0.8243\n",
            "Epoch 12/20\n",
            "4695/4695 [==============================] - 0s 30us/step - loss: 0.3773 - acc: 0.8226\n",
            "Epoch 13/20\n",
            "4695/4695 [==============================] - 0s 28us/step - loss: 0.3737 - acc: 0.8262\n",
            "Epoch 14/20\n",
            "4695/4695 [==============================] - 0s 28us/step - loss: 0.3729 - acc: 0.8219\n",
            "Epoch 15/20\n",
            "4695/4695 [==============================] - 0s 28us/step - loss: 0.3682 - acc: 0.8281\n",
            "Epoch 16/20\n",
            "4695/4695 [==============================] - 0s 29us/step - loss: 0.3646 - acc: 0.8313\n",
            "Epoch 17/20\n",
            "4695/4695 [==============================] - 0s 29us/step - loss: 0.3611 - acc: 0.8334\n",
            "Epoch 18/20\n",
            "4695/4695 [==============================] - 0s 27us/step - loss: 0.3575 - acc: 0.8366\n",
            "Epoch 19/20\n",
            "4695/4695 [==============================] - 0s 28us/step - loss: 0.3562 - acc: 0.8332\n",
            "Epoch 20/20\n",
            "4695/4695 [==============================] - 0s 27us/step - loss: 0.3512 - acc: 0.8417\n",
            "2348/2348 [==============================] - 1s 530us/step\n",
            "4695/4695 [==============================] - 0s 18us/step\n",
            "Epoch 1/20\n",
            "4696/4696 [==============================] - 3s 643us/step - loss: 0.5437 - acc: 0.7123\n",
            "Epoch 2/20\n",
            "4696/4696 [==============================] - 0s 27us/step - loss: 0.4371 - acc: 0.7864\n",
            "Epoch 3/20\n",
            "4696/4696 [==============================] - 0s 28us/step - loss: 0.4203 - acc: 0.7951\n",
            "Epoch 4/20\n",
            "4696/4696 [==============================] - 0s 27us/step - loss: 0.4119 - acc: 0.7992\n",
            "Epoch 5/20\n",
            "4696/4696 [==============================] - 0s 26us/step - loss: 0.4067 - acc: 0.8017\n",
            "Epoch 6/20\n",
            "4696/4696 [==============================] - 0s 27us/step - loss: 0.4019 - acc: 0.8020\n",
            "Epoch 7/20\n",
            "4696/4696 [==============================] - 0s 26us/step - loss: 0.4019 - acc: 0.8081\n",
            "Epoch 8/20\n",
            "4696/4696 [==============================] - 0s 27us/step - loss: 0.3960 - acc: 0.8107\n",
            "Epoch 9/20\n",
            "4696/4696 [==============================] - 0s 27us/step - loss: 0.3924 - acc: 0.8122\n",
            "Epoch 10/20\n",
            "4696/4696 [==============================] - 0s 26us/step - loss: 0.3903 - acc: 0.8122\n",
            "Epoch 11/20\n",
            "4696/4696 [==============================] - 0s 26us/step - loss: 0.3871 - acc: 0.8122\n",
            "Epoch 12/20\n",
            "4696/4696 [==============================] - 0s 28us/step - loss: 0.3858 - acc: 0.8154\n",
            "Epoch 13/20\n",
            "4696/4696 [==============================] - 0s 27us/step - loss: 0.3824 - acc: 0.8203\n",
            "Epoch 14/20\n",
            "4696/4696 [==============================] - 0s 28us/step - loss: 0.3812 - acc: 0.8192\n",
            "Epoch 15/20\n",
            "4696/4696 [==============================] - 0s 26us/step - loss: 0.3780 - acc: 0.8179\n",
            "Epoch 16/20\n",
            "4696/4696 [==============================] - 0s 26us/step - loss: 0.3755 - acc: 0.8198\n",
            "Epoch 17/20\n",
            "4696/4696 [==============================] - 0s 27us/step - loss: 0.3736 - acc: 0.8220\n",
            "Epoch 18/20\n",
            "4696/4696 [==============================] - 0s 27us/step - loss: 0.3696 - acc: 0.8247\n",
            "Epoch 19/20\n",
            "4696/4696 [==============================] - 0s 26us/step - loss: 0.3664 - acc: 0.8269\n",
            "Epoch 20/20\n",
            "4696/4696 [==============================] - 0s 27us/step - loss: 0.3648 - acc: 0.8252\n",
            "2347/2347 [==============================] - 1s 533us/step\n",
            "4696/4696 [==============================] - 0s 18us/step\n",
            "Epoch 1/20\n",
            "7043/7043 [==============================] - 3s 461us/step - loss: 0.5141 - acc: 0.7288\n",
            "Epoch 2/20\n",
            "7043/7043 [==============================] - 0s 28us/step - loss: 0.4278 - acc: 0.7957\n",
            "Epoch 3/20\n",
            "7043/7043 [==============================] - 0s 29us/step - loss: 0.4176 - acc: 0.8008\n",
            "Epoch 4/20\n",
            "7043/7043 [==============================] - 0s 29us/step - loss: 0.4137 - acc: 0.8026\n",
            "Epoch 5/20\n",
            "7043/7043 [==============================] - 0s 28us/step - loss: 0.4094 - acc: 0.8078\n",
            "Epoch 6/20\n",
            "7043/7043 [==============================] - 0s 28us/step - loss: 0.4061 - acc: 0.8065\n",
            "Epoch 7/20\n",
            "7043/7043 [==============================] - 0s 28us/step - loss: 0.4042 - acc: 0.8107\n",
            "Epoch 8/20\n",
            "7043/7043 [==============================] - 0s 28us/step - loss: 0.4005 - acc: 0.8122\n",
            "Epoch 9/20\n",
            "7043/7043 [==============================] - 0s 27us/step - loss: 0.3988 - acc: 0.8146\n",
            "Epoch 10/20\n",
            "7043/7043 [==============================] - 0s 29us/step - loss: 0.3963 - acc: 0.8168\n",
            "Epoch 11/20\n",
            "7043/7043 [==============================] - 0s 29us/step - loss: 0.3945 - acc: 0.8184\n",
            "Epoch 12/20\n",
            "7043/7043 [==============================] - 0s 28us/step - loss: 0.3920 - acc: 0.8190\n",
            "Epoch 13/20\n",
            "7043/7043 [==============================] - 0s 28us/step - loss: 0.3902 - acc: 0.8164\n",
            "Epoch 14/20\n",
            "7043/7043 [==============================] - 0s 29us/step - loss: 0.3884 - acc: 0.8218\n",
            "Epoch 15/20\n",
            "7043/7043 [==============================] - 0s 29us/step - loss: 0.3870 - acc: 0.8224\n",
            "Epoch 16/20\n",
            "7043/7043 [==============================] - 0s 28us/step - loss: 0.3850 - acc: 0.8221\n",
            "Epoch 17/20\n",
            "7043/7043 [==============================] - 0s 28us/step - loss: 0.3834 - acc: 0.8222\n",
            "Epoch 18/20\n",
            "7043/7043 [==============================] - 0s 27us/step - loss: 0.3800 - acc: 0.8252\n",
            "Epoch 19/20\n",
            "7043/7043 [==============================] - 0s 27us/step - loss: 0.3803 - acc: 0.8212\n",
            "Epoch 20/20\n",
            "7043/7043 [==============================] - 0s 28us/step - loss: 0.3793 - acc: 0.8225\n"
          ],
          "name": "stdout"
        }
      ]
    },
    {
      "cell_type": "code",
      "metadata": {
        "id": "ULNjwLoWwXtb",
        "colab_type": "code",
        "colab": {
          "base_uri": "https://localhost:8080/",
          "height": 51
        },
        "outputId": "370e3d10-f0a0-4b64-ba9f-5b0092e2120b"
      },
      "source": [
        "print(f\"Best: {grid_result.best_score_} using {grid_result.best_params_}\")\n",
        "means = grid_result.cv_results_['mean_test_score']\n",
        "stds = grid_result.cv_results_['std_test_score']\n",
        "params = grid_result.cv_results_['params']\n",
        "for mean, stdev, param in zip(means, stds, params):\n",
        "    print(f\"Means: {mean}, Stdev: {stdev} with: {param}\") "
      ],
      "execution_count": 69,
      "outputs": [
        {
          "output_type": "stream",
          "text": [
            "Best: 0.7942638051250891 using {'batch_size': 80, 'epochs': 20}\n",
            "Means: 0.7942638051250891, Stdev: 0.006645692127553427 with: {'batch_size': 80, 'epochs': 20}\n"
          ],
          "name": "stdout"
        }
      ]
    },
    {
      "cell_type": "code",
      "metadata": {
        "id": "5Rf8nolFp06U",
        "colab_type": "code",
        "colab": {
          "base_uri": "https://localhost:8080/",
          "height": 51
        },
        "outputId": "468b0ab6-fd58-4dcf-b4ee-0fad89d854c0"
      },
      "source": [
        ""
      ],
      "execution_count": 51,
      "outputs": [
        {
          "output_type": "stream",
          "text": [
            "7043/7043 [==============================] - 0s 18us/step\n",
            "acc: 87.68990487008377\n"
          ],
          "name": "stdout"
        }
      ]
    },
    {
      "cell_type": "code",
      "metadata": {
        "id": "sv0iK0obrnsA",
        "colab_type": "code",
        "colab": {}
      },
      "source": [
        ""
      ],
      "execution_count": 0,
      "outputs": []
    },
    {
      "cell_type": "markdown",
      "metadata": {
        "id": "FfZRtJ7MCN3x",
        "colab_type": "text"
      },
      "source": [
        "## Stretch Goals:\n",
        "\n",
        "- Try to implement Random Search Hyperparameter Tuning on this dataset\n",
        "- Try to implement Bayesian Optimiation tuning on this dataset\n",
        "- Practice hyperparameter tuning other datasets that we have looked at. How high can you get MNIST? Above 99%?\n",
        "- Study for the Sprint Challenge\n",
        " - Can you implement both perceptron and MLP models from scratch with forward and backpropagation?\n",
        " - Can you implement both perceptron and MLP models in keras and tune their hyperparameters with cross validation?"
      ]
    }
  ]
}