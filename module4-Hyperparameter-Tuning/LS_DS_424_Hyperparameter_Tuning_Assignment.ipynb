{
 "cells": [
  {
   "cell_type": "markdown",
   "metadata": {
    "colab_type": "text",
    "id": "9Ryp-TVm4njD"
   },
   "source": [
    "<img align=\"left\" src=\"https://lever-client-logos.s3.amazonaws.com/864372b1-534c-480e-acd5-9711f850815c-1524247202159.png\" width=200>\n",
    "<br></br>\n",
    "\n",
    "# Hyperparameter Tuning\n",
    "\n",
    "## *Data Science Unit 4 Sprint 2 Assignment 4*\n",
    "\n",
    "## Your Mission, should you choose to accept it...\n",
    "\n",
    "To hyperparameter tune and extract every ounce of accuracy out of this telecom customer churn dataset: <https://drive.google.com/file/d/1dfbAsM9DwA7tYhInyflIpZnYs7VT-0AQ/view> \n",
    "\n",
    "## Requirements\n",
    "\n",
    "- Load the data\n",
    "- Clean the data if necessary (it will be)\n",
    "- Create and fit a baseline Keras MLP model to the data.\n",
    "- Hyperparameter tune (at least) the following parameters:\n",
    " - batch_size\n",
    " - training epochs\n",
    " - optimizer\n",
    " - learning rate (if applicable to optimizer)\n",
    " - momentum (if applicable to optimizer)\n",
    " - activation functions\n",
    " - network weight initialization\n",
    " - dropout regularization\n",
    " - number of neurons in the hidden layer\n",
    " \n",
    " You must use Grid Search and Cross Validation for your initial pass of the above hyperparameters\n",
    " \n",
    " Try and get the maximum accuracy possible out of this data! You'll save big telecoms millions! Doesn't that sound great?\n"
   ]
  },
  {
   "cell_type": "code",
   "execution_count": 1,
   "metadata": {
    "colab": {},
    "colab_type": "code",
    "id": "NNJ-tOBs4jM1"
   },
   "outputs": [],
   "source": [
    "import pandas as pd\n",
    "url = 'https://docs.google.com/spreadsheets/d/e/2PACX-1vRogyepiDBKBhNVrgweTm-gKQXmJtMAyW5SuavkiOlFheQodPMwwWLOF-DObja6I8ax5UztyLK5DGfP/pub?output=csv'"
   ]
  },
  {
   "cell_type": "code",
   "execution_count": 2,
   "metadata": {},
   "outputs": [
    {
     "name": "stdout",
     "output_type": "stream",
     "text": [
      "--2019-11-03 00:23:23--  https://docs.google.com/spreadsheets/d/e/2PACX-1vRogyepiDBKBhNVrgweTm-gKQXmJtMAyW5SuavkiOlFheQodPMwwWLOF-DObja6I8ax5UztyLK5DGfP/pub?output=csv\n",
      "Resolving docs.google.com (docs.google.com)... 172.217.6.206, 2607:f8b0:4006:815::200e\n",
      "Connecting to docs.google.com (docs.google.com)|172.217.6.206|:443... connected.\n",
      "HTTP request sent, awaiting response... 200 OK\n",
      "Length: unspecified [text/csv]\n",
      "Saving to: ‘pub?output=csv’\n",
      "\n",
      "pub?output=csv          [ <=>                ] 954.58K  --.-KB/s    in 0.1s    \n",
      "\n",
      "2019-11-03 00:23:24 (8.35 MB/s) - ‘pub?output=csv’ saved [977488]\n",
      "\n"
     ]
    }
   ],
   "source": [
    "!wget https://docs.google.com/spreadsheets/d/e/2PACX-1vRogyepiDBKBhNVrgweTm-gKQXmJtMAyW5SuavkiOlFheQodPMwwWLOF-DObja6I8ax5UztyLK5DGfP/pub?output=csv"
   ]
  },
  {
   "cell_type": "code",
   "execution_count": 3,
   "metadata": {},
   "outputs": [
    {
     "name": "stdout",
     "output_type": "stream",
     "text": [
      "customerID,gender,SeniorCitizen,Partner,Dependents,tenure,PhoneService,MultipleLines,InternetService,OnlineSecurity,OnlineBackup,DeviceProtection,TechSupport,StreamingTV,StreamingMovies,Contract,PaperlessBilling,PaymentMethod,MonthlyCharges,TotalCharges,Churn\n",
      "7590-VHVEG,Female,0,Yes,No,1,No,No phone service,DSL,No,Yes,No,No,No,No,Month-to-month,Yes,Electronic check,29.85,29.85,No\n",
      "5575-GNVDE,Male,0,No,No,34,Yes,No,DSL,Yes,No,Yes,No,No,No,One year,No,Mailed check,56.95,1889.5,No\n",
      "3668-QPYBK,Male,0,No,No,2,Yes,No,DSL,Yes,Yes,No,No,No,No,Month-to-month,Yes,Mailed check,53.85,108.15,Yes\n",
      "7795-CFOCW,Male,0,No,No,45,No,No phone service,DSL,Yes,No,Yes,Yes,No,No,One year,No,Bank transfer (automatic),42.3,1840.75,No\n",
      "9237-HQITU,Female,0,No,No,2,Yes,No,Fiber optic,No,No,No,No,No,No,Month-to-month,Yes,Electronic check,70.7,151.65,Yes\n",
      "9305-CDSKC,Female,0,No,No,8,Yes,Yes,Fiber optic,No,No,Yes,No,Yes,Yes,Month-to-month,Yes,Electronic check,99.65,820.5,Yes\n",
      "1452-KIOVK,Male,0,No,Yes,22,Yes,Yes,Fiber optic,No,Yes,No,No,Yes,No,Month-to-month,Yes,Credit card (automatic),89.1,1949.4,No\n",
      "6713-OKOMC,Female,0,No,No,10,No,No phone service,DSL,Yes,No,No,No,No,No,Month-to-month,No,Mailed check,29.75,301.9,No\n",
      "7892-POOKP,Female,0,Yes,No,28,Yes,Yes,Fiber optic,No,No,Yes,Yes,Yes,Yes,Month-to-month,Yes,Electronic check,104.8,3046.05,Yes\n"
     ]
    }
   ],
   "source": [
    "!head pub?output=csv"
   ]
  },
  {
   "cell_type": "code",
   "execution_count": 4,
   "metadata": {},
   "outputs": [],
   "source": [
    "import pandas as pd\n",
    "df = pd.read_csv('pub?output=csv')"
   ]
  },
  {
   "cell_type": "code",
   "execution_count": 5,
   "metadata": {},
   "outputs": [
    {
     "data": {
      "text/plain": [
       "No     0.73463\n",
       "Yes    0.26537\n",
       "Name: Churn, dtype: float64"
      ]
     },
     "execution_count": 5,
     "metadata": {},
     "output_type": "execute_result"
    }
   ],
   "source": [
    "#lets get a percentage count of how often people churn to set a baseline\n",
    "df['Churn'].value_counts(normalize=True)"
   ]
  },
  {
   "cell_type": "code",
   "execution_count": 6,
   "metadata": {},
   "outputs": [],
   "source": [
    "#converting the target to a 0/1 categorical\n",
    "\n",
    "df['Churn'] = df['Churn'].replace({'Yes':1, 'No':0})"
   ]
  },
  {
   "cell_type": "code",
   "execution_count": 7,
   "metadata": {},
   "outputs": [
    {
     "name": "stdout",
     "output_type": "stream",
     "text": [
      "customerID 7043\n",
      "gender 2\n",
      "SeniorCitizen 2\n",
      "Partner 2\n",
      "Dependents 2\n",
      "tenure 73\n",
      "PhoneService 2\n",
      "MultipleLines 3\n",
      "InternetService 3\n",
      "OnlineSecurity 3\n",
      "OnlineBackup 3\n",
      "DeviceProtection 3\n",
      "TechSupport 3\n",
      "StreamingTV 3\n",
      "StreamingMovies 3\n",
      "Contract 3\n",
      "PaperlessBilling 2\n",
      "PaymentMethod 4\n",
      "MonthlyCharges 1585\n",
      "TotalCharges 6530\n",
      "Churn 2\n"
     ]
    }
   ],
   "source": [
    "#digging up unit 2 notes on working with tabular data\n",
    "#offhand I know understanding how many unique values there is in a dataset is imortant for feature engineering\n",
    "\n",
    "for col in df.columns: print(col, df[col].nunique())"
   ]
  },
  {
   "cell_type": "code",
   "execution_count": 8,
   "metadata": {},
   "outputs": [],
   "source": [
    "#Dropping Customer ID\n",
    "X = df.drop(columns=['Churn', 'customerID']).values\n",
    "y = df['Churn'].values"
   ]
  },
  {
   "cell_type": "code",
   "execution_count": 20,
   "metadata": {},
   "outputs": [],
   "source": [
    "#ordinal encoding will map the many low cardinality fields into a numerical representation\n",
    "import category_encoders as ce\n",
    "ord_enc = ce.OrdinalEncoder()\n",
    "\n",
    "#scalar encoding will transform our inputs to be prepared for a neural network\n",
    "from sklearn.preprocessing import StandardScaler\n",
    "scaler  = StandardScaler()\n",
    "\n",
    "X = ord_enc.fit_transform(X)\n",
    "X = scaler.fit_transform(X)\n",
    "\n",
    "from sklearn.model_selection import train_test_split\n",
    "X_train, X_test, y_train, y_test = train_test_split(X, y, test_size=0.25,random_state=1337)"
   ]
  },
  {
   "cell_type": "code",
   "execution_count": 21,
   "metadata": {},
   "outputs": [],
   "source": [
    "import pandas as pd\n",
    "import numpy\n",
    "from sklearn.model_selection import GridSearchCV\n",
    "from tensorflow.keras.models import Sequential\n",
    "from tensorflow.keras.layers import Dense\n",
    "from tensorflow.keras.wrappers.scikit_learn import KerasClassifier\n",
    "\n",
    "# fix random seed for reproducibility\n",
    "seed = 1337\n",
    "numpy.random.seed(seed)\n",
    "\n",
    "# load dataset\n",
    "\n",
    "\n",
    "# Function to create model, required for KerasClassifier\n",
    "def create_model():\n",
    "    # create model\n",
    "    model = Sequential()\n",
    "    model.add(Dense(19, input_dim=19, activation='relu'))\n",
    "    model.add(Dense(1, activation='sigmoid'))\n",
    "    # Compile model\n",
    "    model.compile(loss='binary_crossentropy', optimizer='adam', metrics=['accuracy'])\n",
    "    return model\n",
    "\n",
    "# create model\n",
    "model = KerasClassifier(build_fn=create_model, verbose=0)\n",
    "\n",
    "# define the grid search parameters\n",
    "# batch_size = [10, 20, 40, 60, 80, 100]\n",
    "# param_grid = dict(batch_size=batch_size, epochs=epochs)\n"
   ]
  },
  {
   "cell_type": "code",
   "execution_count": 26,
   "metadata": {},
   "outputs": [
    {
     "name": "stdout",
     "output_type": "stream",
     "text": [
      "Best: 0.7341915892521029 using {'batch_size': 10, 'epochs': 20}\n",
      "Means: 0.7341915892521029, Stdev: 0.010842345219373606 with: {'batch_size': 10, 'epochs': 20}\n",
      "Means: 0.7341915892521029, Stdev: 0.010842345219373606 with: {'batch_size': 25, 'epochs': 20}\n",
      "Means: 0.7341915892521029, Stdev: 0.010842345219373606 with: {'batch_size': 50, 'epochs': 20}\n"
     ]
    }
   ],
   "source": [
    "# define the grid search parameters\n",
    "param_grid = {'batch_size': [10, 25, 50],\n",
    "              'epochs': [20]}\n",
    "\n",
    "# Create Grid Search\n",
    "#MAKE SURE JOBS =1, MAKING JOBS =-1 DOES NOT PLAY NICELY WITH THE KERAS WRAPPER IT DOES NOT PARRELIZE WELL\n",
    "grid = GridSearchCV(estimator=model, param_grid=param_grid, n_jobs=1)\n",
    "grid_result = grid.fit(X_train, y_train)\n",
    "\n",
    "# Report Results\n",
    "print(f\"Best: {grid_result.best_score_} using {grid_result.best_params_}\")\n",
    "means = grid_result.cv_results_['mean_test_score']\n",
    "stds = grid_result.cv_results_['std_test_score']\n",
    "params = grid_result.cv_results_['params']\n",
    "for mean, stdev, param in zip(means, stds, params):\n",
    "    print(f\"Means: {mean}, Stdev: {stdev} with: {param}\") "
   ]
  },
  {
   "cell_type": "code",
   "execution_count": null,
   "metadata": {},
   "outputs": [],
   "source": [
    "#batch size of 10 was best"
   ]
  },
  {
   "cell_type": "code",
   "execution_count": 27,
   "metadata": {},
   "outputs": [
    {
     "name": "stdout",
     "output_type": "stream",
     "text": [
      "Best: 0.7341915892521029 using {'batch_size': 10, 'epochs': 20}\n",
      "Means: 0.7341915892521029, Stdev: 0.010842345219373606 with: {'batch_size': 10, 'epochs': 20}\n",
      "Means: 0.7341915892521029, Stdev: 0.010842345219373606 with: {'batch_size': 10, 'epochs': 50}\n",
      "Means: 0.7341915892521029, Stdev: 0.010842345219373606 with: {'batch_size': 10, 'epochs': 100}\n"
     ]
    }
   ],
   "source": [
    "# define the grid search parameters\n",
    "param_grid = {'batch_size': [10],\n",
    "              'epochs': [20,50,100]}\n",
    "\n",
    "# Create Grid Search\n",
    "#MAKE SURE JOBS =1, MAKING JOBS =-1 DOES NOT PLAY NICELY WITH THE KERAS WRAPPER IT DOES NOT PARRELIZE WELL\n",
    "grid = GridSearchCV(estimator=model, param_grid=param_grid, n_jobs=1)\n",
    "grid_result = grid.fit(X_train, y_train)\n",
    "\n",
    "# Report Results\n",
    "print(f\"Best: {grid_result.best_score_} using {grid_result.best_params_}\")\n",
    "means = grid_result.cv_results_['mean_test_score']\n",
    "stds = grid_result.cv_results_['std_test_score']\n",
    "params = grid_result.cv_results_['params']\n",
    "for mean, stdev, param in zip(means, stds, params):\n",
    "    print(f\"Means: {mean}, Stdev: {stdev} with: {param}\") "
   ]
  },
  {
   "cell_type": "code",
   "execution_count": 43,
   "metadata": {},
   "outputs": [
    {
     "name": "stdout",
     "output_type": "stream",
     "text": [
      "Train on 4753 samples, validate on 529 samples\n",
      "Epoch 1/20\n",
      "4753/4753 [==============================] - 2s 437us/sample - loss: nan - accuracy: 0.6903 - val_loss: nan - val_accuracy: 0.7221\n",
      "Epoch 2/20\n",
      "4753/4753 [==============================] - 1s 212us/sample - loss: nan - accuracy: 0.7355 - val_loss: nan - val_accuracy: 0.7221\n",
      "Epoch 3/20\n",
      "4753/4753 [==============================] - 1s 186us/sample - loss: nan - accuracy: 0.7355 - val_loss: nan - val_accuracy: 0.7221\n",
      "Epoch 4/20\n",
      "4753/4753 [==============================] - 1s 197us/sample - loss: nan - accuracy: 0.7355 - val_loss: nan - val_accuracy: 0.7221\n",
      "Epoch 5/20\n",
      "4753/4753 [==============================] - 1s 213us/sample - loss: nan - accuracy: 0.7355 - val_loss: nan - val_accuracy: 0.7221\n",
      "Epoch 6/20\n",
      "4753/4753 [==============================] - 1s 241us/sample - loss: nan - accuracy: 0.7355 - val_loss: nan - val_accuracy: 0.7221\n",
      "Epoch 7/20\n",
      "4753/4753 [==============================] - 1s 232us/sample - loss: nan - accuracy: 0.7355 - val_loss: nan - val_accuracy: 0.7221\n",
      "Epoch 8/20\n",
      "4753/4753 [==============================] - 1s 252us/sample - loss: nan - accuracy: 0.7355 - val_loss: nan - val_accuracy: 0.7221\n",
      "Epoch 9/20\n",
      "4753/4753 [==============================] - 1s 209us/sample - loss: nan - accuracy: 0.7355 - val_loss: nan - val_accuracy: 0.7221\n",
      "Epoch 10/20\n",
      "4753/4753 [==============================] - 1s 219us/sample - loss: nan - accuracy: 0.7355 - val_loss: nan - val_accuracy: 0.7221\n",
      "Epoch 11/20\n",
      "4753/4753 [==============================] - 1s 229us/sample - loss: nan - accuracy: 0.7355 - val_loss: nan - val_accuracy: 0.7221\n",
      "Epoch 12/20\n",
      "4753/4753 [==============================] - 1s 241us/sample - loss: nan - accuracy: 0.7355 - val_loss: nan - val_accuracy: 0.7221\n",
      "Epoch 13/20\n",
      "4753/4753 [==============================] - 1s 234us/sample - loss: nan - accuracy: 0.7355 - val_loss: nan - val_accuracy: 0.7221\n",
      "Epoch 14/20\n",
      "4753/4753 [==============================] - 1s 268us/sample - loss: nan - accuracy: 0.7355 - val_loss: nan - val_accuracy: 0.7221\n",
      "Epoch 15/20\n",
      "4753/4753 [==============================] - 1s 192us/sample - loss: nan - accuracy: 0.7355 - val_loss: nan - val_accuracy: 0.7221\n",
      "Epoch 16/20\n",
      "4753/4753 [==============================] - 1s 219us/sample - loss: nan - accuracy: 0.7355 - val_loss: nan - val_accuracy: 0.7221\n",
      "Epoch 17/20\n",
      "4753/4753 [==============================] - 1s 152us/sample - loss: nan - accuracy: 0.7355 - val_loss: nan - val_accuracy: 0.7221\n",
      "Epoch 18/20\n",
      "4753/4753 [==============================] - 1s 195us/sample - loss: nan - accuracy: 0.7355 - val_loss: nan - val_accuracy: 0.7221\n",
      "Epoch 19/20\n",
      "4753/4753 [==============================] - 1s 192us/sample - loss: nan - accuracy: 0.7355 - val_loss: nan - val_accuracy: 0.7221\n",
      "Epoch 20/20\n",
      "4753/4753 [==============================] - 1s 183us/sample - loss: nan - accuracy: 0.7355 - val_loss: nan - val_accuracy: 0.7221\n"
     ]
    }
   ],
   "source": [
    "#my second pass of models shows an optimal combination of batch size 10 and epochs of 20\n",
    "\n",
    "updated_model = create_model()\n",
    "\n",
    "opt = updated_model.fit(X_train, y_train,\n",
    "                        epochs=20,\n",
    "                        batch_size=10,\n",
    "                        validation_split=.1,\n",
    "                        verbose=True)"
   ]
  },
  {
   "cell_type": "code",
   "execution_count": 44,
   "metadata": {},
   "outputs": [
    {
     "data": {
      "image/png": "[encoded data removed]",
      "text/plain": [
       "<Figure size 432x288 with 1 Axes>"
      ]
     },
     "metadata": {
      "needs_background": "light"
     },
     "output_type": "display_data"
    }
   ],
   "source": [
    "import matplotlib.pyplot as plt\n",
    "# Plot training & validation loss values\n",
    "plt.plot(opt.history['accuracy'])\n",
    "plt.plot(opt.history['val_accuracy'])\n",
    "plt.title('Model Accuracy')\n",
    "plt.ylabel('Loss')\n",
    "plt.xlabel('Epoch')\n",
    "plt.legend(['Train', 'Val'], loc='upper right')\n",
    "plt.show()"
   ]
  },
  {
   "cell_type": "code",
   "execution_count": 45,
   "metadata": {},
   "outputs": [
    {
     "name": "stdout",
     "output_type": "stream",
     "text": [
      "1761/1 [==============================================================================================================================================================================================================================================================================================================================================================================================================================================================================================================================================================================================================================================================================================================================================================================================================================================================================================================================================================================================================================================================================================================================================================================================================================================================================================================================================================================================================================================================================================================================================================================================================================================================================================================================================================================================================================================================================================================================================================================================================================================================================================================================================================================================================================================================================================================================================================================================================================================================================================================================================================================================================================================================================================================================================================================================================================================================================================================================================================================================================================================================================================================================================================================================================================================================================================================================================================================================================================================================================================================================================================================================================================================================================================================================================================================================================================================================================================================================================================================================================================================================================================================================================================================================================================================================================================================================================================================================================================================================================================================================================================================================================================================================================================================================================================================================================================================================================================================================================================================================================================================================================================================================================================================================================================================================================================================================================================================================================================================================================================================================================================================================================================================================================================================================================================================================================================================================================================================================================================================================================================================================================================================================================================================================================================================================================================================================================================================================================================================================================================================================================================================================================================================================================================================================================================================================================================================================================================================================================================================================================================================================================================================================================================================================================================================================================================================================================================================================================================================================================================================================================================================================================================================================================================================================================================================================================================================================================================================================================================================================================================================================================================================================================================================================================================================================================================================================================================================================================================================================================================================================================================================================================================================================================================================================================================================================================================================================================================================================================================================================================================================================================================================================================================================================================================================================================================================================================================================================================================================================================================================================================================================================================================================================================================================================================================================================================================================================================================================================================================================================================================================================================================================================================================================================================================================================================================================================================================================================================================================================================================================================================================================================================================================================================================================================================================================================================================================================================================================================================================================================================================================================================================================================================================================================================================================================================================================================================================================================================================================================================================================================================================================================================================================================================================================================================================================================================================================================================================================================================================================================================================================================================================================================================================================================================================================================================================================================================================================================================================================================================================================================================================================================================================================================================================================================================================================================================================================================================================================================================================================================================================================================================================================================================================================================================================================================================================================================================================================================================================================================================================================================================================================================================================================================================================================================================================================================================================================================================================================================================================================================================================================================================================================================================================================================================================================================================================================================================================================================================================================================================================================================================================================================================================================================================================================================================================================================================================================================================================================================================================================================================================================================================================================================================================================================================================================================================================================================================================================================================================================================================================================================================================================================================================================================================================================================================================================================================================================================================================================================================================================================================================================================================================================================================================================================================================================================================================================================================================================================================================================================================================================================================================================================================================================================================================================================================================================================================================================================================================================================================================================================================================================================================================================================================================================================================================================================================================================================================================================================================================================================================================================================================================================================================================================================================================================================================================================================================================================================================================================================================================================================================================================================================================================================================================================================================================================================================================================================================================================================================================================================================================================================================================================================================================================================================================================================================================================================================================================================================================================================================================================================================================================================================================================================================================================================================================================================================================================================================================================================================================================================================================================================================================================================================================================================================================================================================================================================================================================================================================================================================================================================================================================================================================================================================================================================================================================================================================================================================================================================================================================================================================================================================================================================================================================================================================================================================================================================================================================================================================================================================================================================================================================================================================================================================================================================================================================================================================================================================================================================================================================================================================================================================================================================================================================================================================================================================================================================================================================================================================================================================================================================================================================================================================================================================================================================================================================================================================================================================================================================================================================================================================================================================================================================================================================================================================================================================================================================================================================================================================================================================================================================================================================================================================================================================================================================================================================================================================================================================================================================================================================================================================================================================================================================================================================================================================================================================================================================================================================================================================================================================================================================================================================================================================================================================================================================================================================================================================================================================================================================================================================================================================================================================================================================================================================================================================================================================================================================================================================================================================================================================================================================================================================================================================================================================================================================================================================================================================================================================================================================================================================================================================================================================================================================================================================================================================================================================================================================================================================================================================================================================================================================================================================================================================================================================================================================================================================================================================================================================================================================================================================================================================================================================================================================================================================================================================================================================================================================================================================================================================================================================================================================================================================================================================================================================================================================================================================================================================================================================================================================================================================================================================================================================================================================================================================================================================================================================================================================================================================================================================================================================================================================================================================================================================================================================================================================================================================================================================================================================================================================================================================================================================================================================================================================================================================================================================================================================================================================================================================================================================================================================================================================================================================================================================================================================================================================================================================================================================================================================================================================================================================================================================================================================================================================================================================================================================================================================================================================================================================================================================================================================================================================================================================================================================================================================================================================================================================================================================================================================================================================================================================================================================================================================================================================================================================================================================================================================================================================================================================================================================================================================================================================================================================================================================================================================================================================================================================================================================================================================================================================================================================================================================================================================================================================================================================================================================================================================================================================================================================================================================================================================================================================================================================================================================================================================================================================================================================================================================================================================================================================================================================================================================================================================================================================================================================================================================================================================================================================================================================================================================================================================================================================================================================================================================================================================================================================================================================================================================================================================================================================================================================================================================================================================================================================================================================================================================================================================================================================================================================================================================================================================================================================================================================================================================================================================================================================================================================================================================================================================================================================================================================================================================================================================================================================================================================================================================================================================================================================================================================================================================================================================================================================================================================================================================================================================================================================================================================================================================================================================================================================================================================================================================================================================================================================================================================================================================================================================================================================================================================================================================================================================================================================================================================================================================================================================================================================================================================================================================================================================================================================================================================================================================================================================================================================================================================================================================================================================================================================================================================================================================================================================================================================================================================================================================================================================================================================================================================================================================================================================================================================================================================================================================================================================================================================================================================================================================================================================================================================================================================================================================================================================================================================================================================================================================================================================================================================================================================================================================================================================================================================================================================================================================================================================================================================================================================================================================================================================================================================================================================================================================================================================================================================================================================================================================================================================================================================================================================================================================================================================================================================================================================================================================================================================================================================================================================================================================================================================================================================================================================================================================================================================================================================================================================================================================================================================================================================================================================================================================================================================================================================================================================================================================================================================================================================================================================================================================================================================================================================================================================================================================================================================================================================================================================================================================================================================================================================================================================================================================================================================================================================================================================================================================================================================================================================================================================================================================================================================================================================================================================================================================================================================================================================================================================================================================================================================================================================================================================================================================================================================================================================================================================================================================================================================================================================================================================================================================================================================================================================================================================================================================================================================================================================================================================================================================================================================================================================================================================================================================================================================================================================================================================================================================================================================================================================================================================================================================================================================================================================================================================================================================================================================================================================================================================================================================================================================================================================================================================================================================================================================================================================================================================================================================================================================================================================================================================================================================================================================================================================================================================================================================================================================================================================================================================================================================================================================================================================================================================================================================================================================================================================================================================================================================================================================================================================================================================================================================================================================================================================================================================================================================================================================================================================================================================================================================================================================================================================================================================================================================================================================================================================================================================================================================================================================================================================================================================================================================================================================================================================================================================================================================================================================================================================================================================================================================================================================================================================================================================================================================================================================================================================================================================================================================================================================================================================================================================================================================================================================================================================================================================================================================================================================================================================================================================================================================================================================================================================================================================================================================================================================================================================================================================================================================================================================================================================================================================================================================================================================================================================================================================================================================================================================================================================================================================================================================================================================================================================================================================================================================================================================================================================================================================================================================================================================================================================================================================================================================================================================================================================================================================================================================================================================================================================================================================================================================================================================================================================================================================================================================================================================================================================================================================================================================================================================================================================================================================================================================================================================================================================================================================================================================================================================================================================================================================================================================================================================================================================================================================================================================================================================================================================================================================================================================================================================================================================================================================================================================================================================================================================================================================================================================================================================================================================================================================================================================================================================================================================================================================================================================================================================================================================================================================================================================================================================================================================================================================================================================================================================================================================================================================================================================================================================================================================================================================================================================================================================================================================================================================================================================================================================================================================================================================================================================================================================================================================================================================================================================================================================================================================================================================================================================================================================================================================================================================================================================================================================================================================================================================================================================================================================================================================================================================================================================================================================================================================================================================================================================================================================================================================================================================================================================================================================================================================================================] - 0s 44us/sample - loss: nan - accuracy: 0.7359\n",
      "Neural Network ACC:  0.73594546\n"
     ]
    }
   ],
   "source": [
    "scores = updated_model.evaluate(X_test, y_test)\n",
    "\n",
    "print('Neural Network ACC: ', scores[1])"
   ]
  },
  {
   "cell_type": "code",
   "execution_count": 65,
   "metadata": {},
   "outputs": [],
   "source": [
    "from tensorflow.keras.layers import Dropout\n",
    "from tensorflow.keras.optimizers import Adam\n",
    "\n",
    "\n",
    "def create_model_with_drops():\n",
    "    model = Sequential()\n",
    "    model.add(Dense(32, activation='relu'))\n",
    "    model.add(Dropout(0.25))\n",
    "    model.add(Dense(1, activation='sigmoid'))\n",
    "    # Compile model\n",
    "    \n",
    "    adam = Adam(lr=0.001)\n",
    "\n",
    "    \n",
    "    \n",
    "    model.compile(loss='binary_crossentropy', \n",
    "                  optimizer='adam', \n",
    "                  metrics=['accuracy'])\n",
    "\n",
    "    return model\n",
    "\n",
    "model_with_drops = KerasClassifier(build_fn=create_model_with_drops, verbose=1)\n",
    "\n",
    "\n"
   ]
  },
  {
   "cell_type": "code",
   "execution_count": 66,
   "metadata": {},
   "outputs": [
    {
     "name": "stdout",
     "output_type": "stream",
     "text": [
      "Train on 6338 samples, validate on 705 samples\n",
      "Epoch 1/20\n",
      "6338/6338 [==============================] - 2s 352us/sample - loss: nan - accuracy: 0.7340 - val_loss: nan - val_accuracy: 0.7234\n",
      "Epoch 2/20\n",
      "6338/6338 [==============================] - 1s 209us/sample - loss: nan - accuracy: 0.7359 - val_loss: nan - val_accuracy: 0.7234\n",
      "Epoch 3/20\n",
      "6338/6338 [==============================] - 2s 251us/sample - loss: nan - accuracy: 0.7359 - val_loss: nan - val_accuracy: 0.7234\n",
      "Epoch 4/20\n",
      "6338/6338 [==============================] - 1s 212us/sample - loss: nan - accuracy: 0.7359 - val_loss: nan - val_accuracy: 0.7234\n",
      "Epoch 5/20\n",
      "6338/6338 [==============================] - 1s 224us/sample - loss: nan - accuracy: 0.7359 - val_loss: nan - val_accuracy: 0.7234\n",
      "Epoch 6/20\n",
      "6338/6338 [==============================] - 1s 195us/sample - loss: nan - accuracy: 0.7359 - val_loss: nan - val_accuracy: 0.7234\n",
      "Epoch 7/20\n",
      "6338/6338 [==============================] - 1s 179us/sample - loss: nan - accuracy: 0.7359 - val_loss: nan - val_accuracy: 0.7234\n",
      "Epoch 8/20\n",
      "6338/6338 [==============================] - 1s 198us/sample - loss: nan - accuracy: 0.7359 - val_loss: nan - val_accuracy: 0.7234\n",
      "Epoch 9/20\n",
      "6338/6338 [==============================] - 1s 176us/sample - loss: nan - accuracy: 0.7359 - val_loss: nan - val_accuracy: 0.7234\n",
      "Epoch 10/20\n",
      "6338/6338 [==============================] - 1s 184us/sample - loss: nan - accuracy: 0.7359 - val_loss: nan - val_accuracy: 0.7234\n",
      "Epoch 11/20\n",
      "6338/6338 [==============================] - 1s 232us/sample - loss: nan - accuracy: 0.7359 - val_loss: nan - val_accuracy: 0.7234\n",
      "Epoch 12/20\n",
      "6338/6338 [==============================] - 1s 168us/sample - loss: nan - accuracy: 0.7359 - val_loss: nan - val_accuracy: 0.7234\n",
      "Epoch 13/20\n",
      "6338/6338 [==============================] - 1s 216us/sample - loss: nan - accuracy: 0.7359 - val_loss: nan - val_accuracy: 0.7234\n",
      "Epoch 14/20\n",
      "6338/6338 [==============================] - 1s 175us/sample - loss: nan - accuracy: 0.7359 - val_loss: nan - val_accuracy: 0.7234\n",
      "Epoch 15/20\n",
      "6338/6338 [==============================] - 1s 221us/sample - loss: nan - accuracy: 0.7359 - val_loss: nan - val_accuracy: 0.7234\n",
      "Epoch 16/20\n",
      "6338/6338 [==============================] - 1s 225us/sample - loss: nan - accuracy: 0.7359 - val_loss: nan - val_accuracy: 0.7234\n",
      "Epoch 17/20\n",
      "6338/6338 [==============================] - 1s 203us/sample - loss: nan - accuracy: 0.7359 - val_loss: nan - val_accuracy: 0.7234\n",
      "Epoch 18/20\n",
      "6338/6338 [==============================] - 1s 207us/sample - loss: nan - accuracy: 0.7359 - val_loss: nan - val_accuracy: 0.7234\n",
      "Epoch 19/20\n",
      "6338/6338 [==============================] - 1s 180us/sample - loss: nan - accuracy: 0.7359 - val_loss: nan - val_accuracy: 0.7234\n",
      "Epoch 20/20\n",
      "6338/6338 [==============================] - 2s 244us/sample - loss: nan - accuracy: 0.7359 - val_loss: nan - val_accuracy: 0.7234\n"
     ]
    }
   ],
   "source": [
    "final_model = model_with_drops.fit(X, y,\n",
    "                         epochs=20,\n",
    "                         batch_size=10,\n",
    "                         validation_split=.1,\n",
    "                         verbose=1)"
   ]
  },
  {
   "cell_type": "code",
   "execution_count": 67,
   "metadata": {},
   "outputs": [
    {
     "data": {
      "image/png": "[encoded data removed]",
      "text/plain": [
       "<Figure size 432x288 with 1 Axes>"
      ]
     },
     "metadata": {
      "needs_background": "light"
     },
     "output_type": "display_data"
    }
   ],
   "source": [
    "import matplotlib.pyplot as plt\n",
    "# Plot training & validation loss values\n",
    "plt.plot(opt.history['accuracy'])\n",
    "plt.plot(opt.history['val_accuracy'])\n",
    "plt.title('Model Accuracy')\n",
    "plt.ylabel('Loss')\n",
    "plt.xlabel('Epoch')\n",
    "plt.legend(['Train', 'Val'], loc='upper right')\n",
    "plt.show()"
   ]
  },
  {
   "cell_type": "markdown",
   "metadata": {
    "colab_type": "text",
    "id": "FfZRtJ7MCN3x"
   },
   "source": [
    "## Stretch Goals:\n",
    "\n",
    "- Try to implement Random Search Hyperparameter Tuning on this dataset\n",
    "- Try to implement Bayesian Optimiation tuning on this dataset using hyperas or hyperopt (if you're brave)\n",
    "- Practice hyperparameter tuning other datasets that we have looked at. How high can you get MNIST? Above 99%?\n",
    "- Study for the Sprint Challenge\n",
    " - Can you implement both perceptron and MLP models from scratch with forward and backpropagation?\n",
    " - Can you implement both perceptron and MLP models in keras and tune their hyperparameters with cross validation?"
   ]
  },
  {
   "cell_type": "code",
   "execution_count": null,
   "metadata": {},
   "outputs": [],
   "source": []
  }
 ],
 "metadata": {
  "colab": {
   "name": "LS_DS_434_Hyperparameter_Tuning_Assignment.ipynb",
   "provenance": [],
   "version": "0.3.2"
  },
  "kernelspec": {
   "display_name": "Python 3",
   "language": "python",
   "name": "python3"
  },
  "language_info": {
   "codemirror_mode": {
    "name": "ipython",
    "version": 3
   },
   "file_extension": ".py",
   "mimetype": "text/x-python",
   "name": "python",
   "nbconvert_exporter": "python",
   "pygments_lexer": "ipython3",
   "version": "3.7.3"
  }
 },
 "nbformat": 4,
 "nbformat_minor": 4
}
