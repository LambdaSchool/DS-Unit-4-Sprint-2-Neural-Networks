{
 "cells": [
  {
   "cell_type": "markdown",
   "metadata": {
    "colab_type": "text",
    "id": "9Ryp-TVm4njD"
   },
   "source": [
    "<img align=\"left\" src=\"https://lever-client-logos.s3.amazonaws.com/864372b1-534c-480e-acd5-9711f850815c-1524247202159.png\" width=200>\n",
    "<br></br>\n",
    "\n",
    "# Hyperparameter Tuning\n",
    "\n",
    "## *Data Science Unit 4 Sprint 2 Assignment 4*\n",
    "\n",
    "## Your Mission, should you choose to accept it...\n",
    "\n",
    "To hyperparameter tune and extract every ounce of accuracy out of this telecom customer churn dataset: <https://drive.google.com/file/d/1dfbAsM9DwA7tYhInyflIpZnYs7VT-0AQ/view> \n",
    "\n",
    "## Requirements\n",
    "\n",
    "- Load the data\n",
    "- Clean the data if necessary (it will be)\n",
    "- Create and fit a baseline Keras MLP model to the data.\n",
    "- Hyperparameter tune (at least) the following parameters:\n",
    " - batch_size\n",
    " - training epochs\n",
    " - optimizer\n",
    " - learning rate (if applicable to optimizer)\n",
    " - momentum (if applicable to optimizer)\n",
    " - activation functions\n",
    " - network weight initialization\n",
    " - dropout regularization\n",
    " - number of neurons in the hidden layer\n",
    " \n",
    " You must use Grid Search and Cross Validation for your initial pass of the above hyperparameters\n",
    " \n",
    " Try and get the maximum accuracy possible out of this data! You'll save big telecoms millions! Doesn't that sound great?\n"
   ]
  },
  {
   "cell_type": "code",
   "execution_count": 1,
   "metadata": {},
   "outputs": [],
   "source": [
    "import pandas as pd\n",
    "pd.options.display.max_columns= 99\n",
    "\n",
    "from sklearn.preprocessing import StandardScaler"
   ]
  },
  {
   "cell_type": "code",
   "execution_count": 2,
   "metadata": {
    "colab": {},
    "colab_type": "code",
    "id": "NNJ-tOBs4jM1"
   },
   "outputs": [
    {
     "name": "stdout",
     "output_type": "stream",
     "text": [
      "(7043, 21)\n"
     ]
    },
    {
     "data": {
      "text/html": [
       "<div>\n",
       "<style scoped>\n",
       "    .dataframe tbody tr th:only-of-type {\n",
       "        vertical-align: middle;\n",
       "    }\n",
       "\n",
       "    .dataframe tbody tr th {\n",
       "        vertical-align: top;\n",
       "    }\n",
       "\n",
       "    .dataframe thead th {\n",
       "        text-align: right;\n",
       "    }\n",
       "</style>\n",
       "<table border=\"1\" class=\"dataframe\">\n",
       "  <thead>\n",
       "    <tr style=\"text-align: right;\">\n",
       "      <th></th>\n",
       "      <th>customerID</th>\n",
       "      <th>gender</th>\n",
       "      <th>SeniorCitizen</th>\n",
       "      <th>Partner</th>\n",
       "      <th>Dependents</th>\n",
       "      <th>tenure</th>\n",
       "      <th>PhoneService</th>\n",
       "      <th>MultipleLines</th>\n",
       "      <th>InternetService</th>\n",
       "      <th>OnlineSecurity</th>\n",
       "      <th>OnlineBackup</th>\n",
       "      <th>DeviceProtection</th>\n",
       "      <th>TechSupport</th>\n",
       "      <th>StreamingTV</th>\n",
       "      <th>StreamingMovies</th>\n",
       "      <th>Contract</th>\n",
       "      <th>PaperlessBilling</th>\n",
       "      <th>PaymentMethod</th>\n",
       "      <th>MonthlyCharges</th>\n",
       "      <th>TotalCharges</th>\n",
       "      <th>Churn</th>\n",
       "    </tr>\n",
       "  </thead>\n",
       "  <tbody>\n",
       "    <tr>\n",
       "      <th>0</th>\n",
       "      <td>7590-VHVEG</td>\n",
       "      <td>Female</td>\n",
       "      <td>0</td>\n",
       "      <td>Yes</td>\n",
       "      <td>No</td>\n",
       "      <td>1</td>\n",
       "      <td>No</td>\n",
       "      <td>No phone service</td>\n",
       "      <td>DSL</td>\n",
       "      <td>No</td>\n",
       "      <td>Yes</td>\n",
       "      <td>No</td>\n",
       "      <td>No</td>\n",
       "      <td>No</td>\n",
       "      <td>No</td>\n",
       "      <td>Month-to-month</td>\n",
       "      <td>Yes</td>\n",
       "      <td>Electronic check</td>\n",
       "      <td>29.85</td>\n",
       "      <td>29.85</td>\n",
       "      <td>No</td>\n",
       "    </tr>\n",
       "    <tr>\n",
       "      <th>1</th>\n",
       "      <td>5575-GNVDE</td>\n",
       "      <td>Male</td>\n",
       "      <td>0</td>\n",
       "      <td>No</td>\n",
       "      <td>No</td>\n",
       "      <td>34</td>\n",
       "      <td>Yes</td>\n",
       "      <td>No</td>\n",
       "      <td>DSL</td>\n",
       "      <td>Yes</td>\n",
       "      <td>No</td>\n",
       "      <td>Yes</td>\n",
       "      <td>No</td>\n",
       "      <td>No</td>\n",
       "      <td>No</td>\n",
       "      <td>One year</td>\n",
       "      <td>No</td>\n",
       "      <td>Mailed check</td>\n",
       "      <td>56.95</td>\n",
       "      <td>1889.5</td>\n",
       "      <td>No</td>\n",
       "    </tr>\n",
       "    <tr>\n",
       "      <th>2</th>\n",
       "      <td>3668-QPYBK</td>\n",
       "      <td>Male</td>\n",
       "      <td>0</td>\n",
       "      <td>No</td>\n",
       "      <td>No</td>\n",
       "      <td>2</td>\n",
       "      <td>Yes</td>\n",
       "      <td>No</td>\n",
       "      <td>DSL</td>\n",
       "      <td>Yes</td>\n",
       "      <td>Yes</td>\n",
       "      <td>No</td>\n",
       "      <td>No</td>\n",
       "      <td>No</td>\n",
       "      <td>No</td>\n",
       "      <td>Month-to-month</td>\n",
       "      <td>Yes</td>\n",
       "      <td>Mailed check</td>\n",
       "      <td>53.85</td>\n",
       "      <td>108.15</td>\n",
       "      <td>Yes</td>\n",
       "    </tr>\n",
       "    <tr>\n",
       "      <th>3</th>\n",
       "      <td>7795-CFOCW</td>\n",
       "      <td>Male</td>\n",
       "      <td>0</td>\n",
       "      <td>No</td>\n",
       "      <td>No</td>\n",
       "      <td>45</td>\n",
       "      <td>No</td>\n",
       "      <td>No phone service</td>\n",
       "      <td>DSL</td>\n",
       "      <td>Yes</td>\n",
       "      <td>No</td>\n",
       "      <td>Yes</td>\n",
       "      <td>Yes</td>\n",
       "      <td>No</td>\n",
       "      <td>No</td>\n",
       "      <td>One year</td>\n",
       "      <td>No</td>\n",
       "      <td>Bank transfer (automatic)</td>\n",
       "      <td>42.30</td>\n",
       "      <td>1840.75</td>\n",
       "      <td>No</td>\n",
       "    </tr>\n",
       "    <tr>\n",
       "      <th>4</th>\n",
       "      <td>9237-HQITU</td>\n",
       "      <td>Female</td>\n",
       "      <td>0</td>\n",
       "      <td>No</td>\n",
       "      <td>No</td>\n",
       "      <td>2</td>\n",
       "      <td>Yes</td>\n",
       "      <td>No</td>\n",
       "      <td>Fiber optic</td>\n",
       "      <td>No</td>\n",
       "      <td>No</td>\n",
       "      <td>No</td>\n",
       "      <td>No</td>\n",
       "      <td>No</td>\n",
       "      <td>No</td>\n",
       "      <td>Month-to-month</td>\n",
       "      <td>Yes</td>\n",
       "      <td>Electronic check</td>\n",
       "      <td>70.70</td>\n",
       "      <td>151.65</td>\n",
       "      <td>Yes</td>\n",
       "    </tr>\n",
       "  </tbody>\n",
       "</table>\n",
       "</div>"
      ],
      "text/plain": [
       "   customerID  gender  SeniorCitizen Partner Dependents  tenure PhoneService  \\\n",
       "0  7590-VHVEG  Female              0     Yes         No       1           No   \n",
       "1  5575-GNVDE    Male              0      No         No      34          Yes   \n",
       "2  3668-QPYBK    Male              0      No         No       2          Yes   \n",
       "3  7795-CFOCW    Male              0      No         No      45           No   \n",
       "4  9237-HQITU  Female              0      No         No       2          Yes   \n",
       "\n",
       "      MultipleLines InternetService OnlineSecurity OnlineBackup  \\\n",
       "0  No phone service             DSL             No          Yes   \n",
       "1                No             DSL            Yes           No   \n",
       "2                No             DSL            Yes          Yes   \n",
       "3  No phone service             DSL            Yes           No   \n",
       "4                No     Fiber optic             No           No   \n",
       "\n",
       "  DeviceProtection TechSupport StreamingTV StreamingMovies        Contract  \\\n",
       "0               No          No          No              No  Month-to-month   \n",
       "1              Yes          No          No              No        One year   \n",
       "2               No          No          No              No  Month-to-month   \n",
       "3              Yes         Yes          No              No        One year   \n",
       "4               No          No          No              No  Month-to-month   \n",
       "\n",
       "  PaperlessBilling              PaymentMethod  MonthlyCharges TotalCharges  \\\n",
       "0              Yes           Electronic check           29.85        29.85   \n",
       "1               No               Mailed check           56.95       1889.5   \n",
       "2              Yes               Mailed check           53.85       108.15   \n",
       "3               No  Bank transfer (automatic)           42.30      1840.75   \n",
       "4              Yes           Electronic check           70.70       151.65   \n",
       "\n",
       "  Churn  \n",
       "0    No  \n",
       "1    No  \n",
       "2   Yes  \n",
       "3    No  \n",
       "4   Yes  "
      ]
     },
     "execution_count": 2,
     "metadata": {},
     "output_type": "execute_result"
    }
   ],
   "source": [
    "##### Your Code Here #####\n",
    "\n",
    "churnframe = pd.read_csv('https://lambdaschool-data-science.s3.amazonaws.com/telco-churn/WA_Fn-UseC_-Telco-Customer-Churn+(1).csv')\n",
    "print(churnframe.shape)\n",
    "churnframe.head()"
   ]
  },
  {
   "cell_type": "code",
   "execution_count": 3,
   "metadata": {},
   "outputs": [
    {
     "data": {
      "text/plain": [
       "No     5174\n",
       "Yes    1869\n",
       "Name: Churn, dtype: int64"
      ]
     },
     "execution_count": 3,
     "metadata": {},
     "output_type": "execute_result"
    }
   ],
   "source": [
    "churnframe['Churn'].value_counts()"
   ]
  },
  {
   "cell_type": "code",
   "execution_count": 4,
   "metadata": {},
   "outputs": [],
   "source": [
    "features = churnframe.columns.tolist()\n",
    "features.remove('customerID')\n",
    "features.remove('Churn')\n",
    "\n",
    "X_train = churnframe[features]\n",
    "y_train = churnframe['Churn']"
   ]
  },
  {
   "cell_type": "code",
   "execution_count": 5,
   "metadata": {},
   "outputs": [],
   "source": [
    "from sklearn.preprocessing import OrdinalEncoder, StandardScaler\n",
    "from sklearn.model_selection import GridSearchCV\n",
    "\n",
    "from tensorflow import keras\n",
    "from tensorflow.keras.models import Sequential\n",
    "from tensorflow.keras.layers import Dense, Dropout\n",
    "from tensorflow.keras.wrappers.scikit_learn import KerasClassifier"
   ]
  },
  {
   "cell_type": "code",
   "execution_count": 6,
   "metadata": {},
   "outputs": [],
   "source": [
    "encoder = OrdinalEncoder()\n",
    "scaler = StandardScaler()\n",
    "\n",
    "X_encoded = encoder.fit_transform(X_train)\n",
    "X_scaled = scaler.fit_transform(X_encoded)"
   ]
  },
  {
   "cell_type": "code",
   "execution_count": 7,
   "metadata": {},
   "outputs": [],
   "source": [
    "mapdict = {'No': 0, 'Yes': 1}\n",
    "y_encoded = y_train.map(mapdict)\n",
    "y_array = y_encoded.values\n",
    "\n",
    "inputs = X_scaled.shape[1]"
   ]
  },
  {
   "cell_type": "code",
   "execution_count": 8,
   "metadata": {},
   "outputs": [],
   "source": [
    "def create_model(optimizer='adam',activation='relu', learning_rate=0.1, momentum=0.1, kernel_initializer='uniform'):\n",
    "    # Create Model\n",
    "    model = Sequential()\n",
    "    model.add(Dense(42, activation=activation, input_shape=(inputs,),kernel_initializer=kernel_initializer))\n",
    "    model.add(Dropout(0.3))\n",
    "    model.add(Dense(42, activation=activation,kernel_initializer=kernel_initializer))\n",
    "    model.add(Dropout(0.3))\n",
    "    model.add(Dense(1, activation=activation,kernel_initializer=kernel_initializer))\n",
    "\n",
    "    # Compile Model\n",
    "    model.compile(optimizer=optimizer, loss='binary_crossentropy', metrics=['accuracy'])\n",
    "    return model\n",
    "\n",
    "churnmodel = KerasClassifier(build_fn=create_model, verbose=0)"
   ]
  },
  {
   "cell_type": "code",
   "execution_count": 9,
   "metadata": {},
   "outputs": [
    {
     "name": "stdout",
     "output_type": "stream",
     "text": [
      "Best: 0.7978122591972351 using {'batch_size': 20, 'epochs': 20}\n",
      "Means: 0.7978122591972351, Stdev: 0.011825576309982697 with: {'batch_size': 20, 'epochs': 20}\n",
      "Means: 0.7861741065979004, Stdev: 0.024427246974087345 with: {'batch_size': 40, 'epochs': 20}\n",
      "Means: 0.7965368747711181, Stdev: 0.006703794662105161 with: {'batch_size': 60, 'epochs': 20}\n",
      "Means: 0.7874523162841797, Stdev: 0.0232637697245823 with: {'batch_size': 80, 'epochs': 20}\n",
      "Means: 0.7877306580543518, Stdev: 0.013218734708044091 with: {'batch_size': 100, 'epochs': 20}\n"
     ]
    }
   ],
   "source": [
    "# grid search on batch size\n",
    "param_grid = {'batch_size': [20, 40, 60, 80, 100],\n",
    "              'epochs': [20]}\n",
    "\n",
    "grid = GridSearchCV(estimator=churnmodel, param_grid=param_grid, n_jobs=1)\n",
    "grid_result = grid.fit(X_scaled, y_array)\n",
    "\n",
    "print(f\"Best: {grid_result.best_score_} using {grid_result.best_params_}\")\n",
    "means = grid_result.cv_results_['mean_test_score']\n",
    "stds = grid_result.cv_results_['std_test_score']\n",
    "params = grid_result.cv_results_['params']\n",
    "for mean, stdev, param in zip(means, stds, params):\n",
    "    print(f\"Means: {mean}, Stdev: {stdev} with: {param}\") "
   ]
  },
  {
   "cell_type": "code",
   "execution_count": 10,
   "metadata": {},
   "outputs": [
    {
     "name": "stdout",
     "output_type": "stream",
     "text": [
      "Best: 0.8033519268035889 using {'batch_size': 40, 'epochs': 20, 'optimizer': 'Nadam'}\n",
      "Means: 0.8022148609161377, Stdev: 0.005439149547100095 with: {'batch_size': 40, 'epochs': 20, 'optimizer': 'adam'}\n",
      "Means: 0.2653713583946228, Stdev: 0.004757620185291315 with: {'batch_size': 40, 'epochs': 20, 'optimizer': 'SGD'}\n",
      "Means: 0.7978127598762512, Stdev: 0.008551378685846711 with: {'batch_size': 40, 'epochs': 20, 'optimizer': 'RMSprop'}\n",
      "Means: 0.786312735080719, Stdev: 0.002973181564303053 with: {'batch_size': 40, 'epochs': 20, 'optimizer': 'Adagrad'}\n",
      "Means: 0.7346286535263061, Stdev: 0.004757632470334884 with: {'batch_size': 40, 'epochs': 20, 'optimizer': 'Adadelta'}\n",
      "Means: 0.8019309759140014, Stdev: 0.003889237205019425 with: {'batch_size': 40, 'epochs': 20, 'optimizer': 'Adamax'}\n",
      "Means: 0.8033519268035889, Stdev: 0.007138327381597007 with: {'batch_size': 40, 'epochs': 20, 'optimizer': 'Nadam'}\n"
     ]
    }
   ],
   "source": [
    "# optimizer\n",
    "param_grid = {'batch_size': [40],\n",
    "              'epochs': [20],\n",
    "             'optimizer': ['adam','SGD','RMSprop','Adagrad','Adadelta','Adamax','Nadam']}\n",
    "\n",
    "grid = GridSearchCV(estimator=churnmodel, param_grid=param_grid, n_jobs=1)\n",
    "grid_result = grid.fit(X_scaled, y_array)\n",
    "\n",
    "print(f\"Best: {grid_result.best_score_} using {grid_result.best_params_}\")\n",
    "means = grid_result.cv_results_['mean_test_score']\n",
    "stds = grid_result.cv_results_['std_test_score']\n",
    "params = grid_result.cv_results_['params']\n",
    "for mean, stdev, param in zip(means, stds, params):\n",
    "    print(f\"Means: {mean}, Stdev: {stdev} with: {param}\") "
   ]
  },
  {
   "cell_type": "code",
   "execution_count": 11,
   "metadata": {},
   "outputs": [
    {
     "name": "stdout",
     "output_type": "stream",
     "text": [
      "Best: 0.8023574113845825 using {'activation': 'relu', 'batch_size': 40, 'epochs': 20, 'optimizer': 'Nadam'}\n",
      "Means: 0.8023574113845825, Stdev: 0.005742851611722875 with: {'activation': 'relu', 'batch_size': 40, 'epochs': 20, 'optimizer': 'Nadam'}\n",
      "Means: 0.8019323945045471, Stdev: 0.008145671184592146 with: {'activation': 'sigmoid', 'batch_size': 40, 'epochs': 20, 'optimizer': 'Nadam'}\n",
      "Means: 0.7824754834175109, Stdev: 0.01886766806881873 with: {'activation': 'tanh', 'batch_size': 40, 'epochs': 20, 'optimizer': 'Nadam'}\n",
      "Means: 0.7978139758110047, Stdev: 0.004884563056720921 with: {'activation': 'elu', 'batch_size': 40, 'epochs': 20, 'optimizer': 'Nadam'}\n",
      "Means: 0.8002269387245178, Stdev: 0.005922236858385498 with: {'activation': 'selu', 'batch_size': 40, 'epochs': 20, 'optimizer': 'Nadam'}\n"
     ]
    }
   ],
   "source": [
    "# activation\n",
    "param_grid = {'batch_size': [40],\n",
    "              'epochs': [20],\n",
    "             'optimizer': ['Nadam'],\n",
    "             'activation': ['relu','sigmoid','tanh','elu','selu']}\n",
    "\n",
    "grid = GridSearchCV(estimator=churnmodel, param_grid=param_grid, n_jobs=1)\n",
    "grid_result = grid.fit(X_scaled, y_array)\n",
    "\n",
    "print(f\"Best: {grid_result.best_score_} using {grid_result.best_params_}\")\n",
    "means = grid_result.cv_results_['mean_test_score']\n",
    "stds = grid_result.cv_results_['std_test_score']\n",
    "params = grid_result.cv_results_['params']\n",
    "for mean, stdev, param in zip(means, stds, params):\n",
    "    print(f\"Means: {mean}, Stdev: {stdev} with: {param}\") "
   ]
  },
  {
   "cell_type": "code",
   "execution_count": 28,
   "metadata": {},
   "outputs": [],
   "source": [
    "from tensorflow.keras.optimizers import Nadam"
   ]
  },
  {
   "cell_type": "code",
   "execution_count": 34,
   "metadata": {},
   "outputs": [],
   "source": [
    "def create_model(activation='relu', learning_rate=0.1, beta_1=0.5, beta_2=0.5, kernel_initializer='uniform',dropout_val=0.3,l1_count=42,l2_count=42):\n",
    "    # Create Model\n",
    "    model = Sequential()\n",
    "    model.add(Dense(l1_count, activation=activation, input_shape=(inputs,),kernel_initializer=kernel_initializer))\n",
    "    model.add(Dropout(dropout_val))\n",
    "    model.add(Dense(l2_count, activation=activation,kernel_initializer=kernel_initializer))\n",
    "    model.add(Dropout(dropout_val))\n",
    "    model.add(Dense(1, activation=activation,kernel_initializer=kernel_initializer))\n",
    "    \n",
    "    # create a Nadam optimizer object\n",
    "    optimizer = Nadam(learning_rate=learning_rate, beta_1=beta_1, beta_2=beta_2 )\n",
    "\n",
    "    # Compile Model\n",
    "    model.compile(optimizer=optimizer, loss='binary_crossentropy', metrics=['accuracy'])\n",
    "    return model\n",
    "\n",
    "churnmodel = KerasClassifier(build_fn=create_model, verbose=0)"
   ]
  },
  {
   "cell_type": "code",
   "execution_count": 30,
   "metadata": {},
   "outputs": [
    {
     "name": "stdout",
     "output_type": "stream",
     "text": [
      "Best: 0.7953987002372742 using {'activation': 'relu', 'batch_size': 40, 'epochs': 20, 'learning_rate': 0.01}\n",
      "Means: 0.7953987002372742, Stdev: 0.006161596665631569 with: {'activation': 'relu', 'batch_size': 40, 'epochs': 20, 'learning_rate': 0.01}\n",
      "Means: 0.7824800133705139, Stdev: 0.004589577086116449 with: {'activation': 'relu', 'batch_size': 40, 'epochs': 20, 'learning_rate': 0.05}\n",
      "Means: 0.7425818800926208, Stdev: 0.010788285413146042 with: {'activation': 'relu', 'batch_size': 40, 'epochs': 20, 'learning_rate': 0.1}\n",
      "Means: 0.45699663162231446, Stdev: 0.23070316519385528 with: {'activation': 'relu', 'batch_size': 40, 'epochs': 20, 'learning_rate': 0.5}\n",
      "Means: 0.5438550531864166, Stdev: 0.23054277596898592 with: {'activation': 'relu', 'batch_size': 40, 'epochs': 20, 'learning_rate': 1}\n"
     ]
    }
   ],
   "source": [
    "param_grid = {'batch_size': [40],\n",
    "              'epochs': [20],\n",
    "             'activation': ['relu'],\n",
    "             'learning_rate': [0.01,0.05,0.1,0.5,1]}\n",
    "\n",
    "grid = GridSearchCV(estimator=churnmodel, param_grid=param_grid, n_jobs=1)\n",
    "grid_result = grid.fit(X_scaled, y_array)\n",
    "\n",
    "print(f\"Best: {grid_result.best_score_} using {grid_result.best_params_}\")\n",
    "means = grid_result.cv_results_['mean_test_score']\n",
    "stds = grid_result.cv_results_['std_test_score']\n",
    "params = grid_result.cv_results_['params']\n",
    "for mean, stdev, param in zip(means, stds, params):\n",
    "    print(f\"Means: {mean}, Stdev: {stdev} with: {param}\") "
   ]
  },
  {
   "cell_type": "code",
   "execution_count": 31,
   "metadata": {},
   "outputs": [
    {
     "name": "stdout",
     "output_type": "stream",
     "text": [
      "Best: 0.7956836938858032 using {'activation': 'relu', 'batch_size': 40, 'beta_1': 1, 'epochs': 20, 'learning_rate': 0.01}\n",
      "Means: 0.785032594203949, Stdev: 0.010661899060774097 with: {'activation': 'relu', 'batch_size': 40, 'beta_1': 0.01, 'epochs': 20, 'learning_rate': 0.01}\n",
      "Means: 0.7883015513420105, Stdev: 0.0068083964534755344 with: {'activation': 'relu', 'batch_size': 40, 'beta_1': 0.05, 'epochs': 20, 'learning_rate': 0.01}\n",
      "Means: 0.7860258102416993, Stdev: 0.012515183421584603 with: {'activation': 'relu', 'batch_size': 40, 'beta_1': 0.1, 'epochs': 20, 'learning_rate': 0.01}\n",
      "Means: 0.7918490767478943, Stdev: 0.006211014833619207 with: {'activation': 'relu', 'batch_size': 40, 'beta_1': 0.5, 'epochs': 20, 'learning_rate': 0.01}\n",
      "Means: 0.7956836938858032, Stdev: 0.002850223507180162 with: {'activation': 'relu', 'batch_size': 40, 'beta_1': 1, 'epochs': 20, 'learning_rate': 0.01}\n"
     ]
    }
   ],
   "source": [
    "param_grid = {'batch_size': [40],\n",
    "              'epochs': [20],\n",
    "             'activation': ['relu'],\n",
    "             'learning_rate': [0.01],\n",
    "             'beta_1': [0.01,0.05,0.1,0.5,1]}\n",
    "\n",
    "grid = GridSearchCV(estimator=churnmodel, param_grid=param_grid, n_jobs=1)\n",
    "grid_result = grid.fit(X_scaled, y_array)\n",
    "\n",
    "print(f\"Best: {grid_result.best_score_} using {grid_result.best_params_}\")\n",
    "means = grid_result.cv_results_['mean_test_score']\n",
    "stds = grid_result.cv_results_['std_test_score']\n",
    "params = grid_result.cv_results_['params']\n",
    "for mean, stdev, param in zip(means, stds, params):\n",
    "    print(f\"Means: {mean}, Stdev: {stdev} with: {param}\") "
   ]
  },
  {
   "cell_type": "code",
   "execution_count": 32,
   "metadata": {},
   "outputs": [
    {
     "name": "stdout",
     "output_type": "stream",
     "text": [
      "Best: 0.7965362668037415 using {'activation': 'relu', 'batch_size': 40, 'beta_1': 1, 'beta_2': 0.01, 'epochs': 20, 'learning_rate': 0.01}\n",
      "Means: 0.7965362668037415, Stdev: 0.0035969081916756474 with: {'activation': 'relu', 'batch_size': 40, 'beta_1': 1, 'beta_2': 0.01, 'epochs': 20, 'learning_rate': 0.01}\n",
      "Means: 0.7938372969627381, Stdev: 0.006950129413571321 with: {'activation': 'relu', 'batch_size': 40, 'beta_1': 1, 'beta_2': 0.05, 'epochs': 20, 'learning_rate': 0.01}\n",
      "Means: 0.7932689309120178, Stdev: 0.006931439803202795 with: {'activation': 'relu', 'batch_size': 40, 'beta_1': 1, 'beta_2': 0.1, 'epochs': 20, 'learning_rate': 0.01}\n",
      "Means: 0.7963929057121277, Stdev: 0.007627370003907808 with: {'activation': 'relu', 'batch_size': 40, 'beta_1': 1, 'beta_2': 0.5, 'epochs': 20, 'learning_rate': 0.01}\n",
      "Means: 0.7346286535263061, Stdev: 0.004757632470334884 with: {'activation': 'relu', 'batch_size': 40, 'beta_1': 1, 'beta_2': 1, 'epochs': 20, 'learning_rate': 0.01}\n"
     ]
    }
   ],
   "source": [
    "param_grid = {'batch_size': [40],\n",
    "              'epochs': [20],\n",
    "             'activation': ['relu'],\n",
    "             'learning_rate': [0.01],\n",
    "             'beta_1': [1],\n",
    "             'beta_2': [0.01,0.05,0.1,0.5,1]}\n",
    "\n",
    "grid = GridSearchCV(estimator=churnmodel, param_grid=param_grid, n_jobs=1)\n",
    "grid_result = grid.fit(X_scaled, y_array)\n",
    "\n",
    "print(f\"Best: {grid_result.best_score_} using {grid_result.best_params_}\")\n",
    "means = grid_result.cv_results_['mean_test_score']\n",
    "stds = grid_result.cv_results_['std_test_score']\n",
    "params = grid_result.cv_results_['params']\n",
    "for mean, stdev, param in zip(means, stds, params):\n",
    "    print(f\"Means: {mean}, Stdev: {stdev} with: {param}\") "
   ]
  },
  {
   "cell_type": "code",
   "execution_count": 33,
   "metadata": {},
   "outputs": [
    {
     "name": "stderr",
     "output_type": "stream",
     "text": [
      "C:\\Users\\conno\\.virtualenvs\\DS-Unit-4-Sprint-2-Neural-Networks-mjziinPq\\lib\\site-packages\\sklearn\\model_selection\\_validation.py:536: FitFailedWarning: Estimator fit failed. The score on this train-test partition for these parameters will be set to nan. Details: \n",
      "ValueError: Unknown initializer:LecunUniform\n",
      "\n",
      "  FitFailedWarning)\n"
     ]
    },
    {
     "name": "stdout",
     "output_type": "stream",
     "text": [
      "Best: 0.7954002141952514 using {'activation': 'relu', 'batch_size': 40, 'beta_1': 1, 'beta_2': 0.01, 'epochs': 20, 'kernel_initializer': 'Orthogonal', 'learning_rate': 0.01}\n",
      "Means: 0.4208420753479004, Stdev: 0.012591194688671814 with: {'activation': 'relu', 'batch_size': 40, 'beta_1': 1, 'beta_2': 0.01, 'epochs': 20, 'kernel_initializer': 'Ones', 'learning_rate': 0.01}\n",
      "Means: 0.7901450157165527, Stdev: 0.004981377339241919 with: {'activation': 'relu', 'batch_size': 40, 'beta_1': 1, 'beta_2': 0.01, 'epochs': 20, 'kernel_initializer': 'RandomNormal', 'learning_rate': 0.01}\n",
      "Means: 0.7936954617500305, Stdev: 0.007690514458304882 with: {'activation': 'relu', 'batch_size': 40, 'beta_1': 1, 'beta_2': 0.01, 'epochs': 20, 'kernel_initializer': 'RandomUniform', 'learning_rate': 0.01}\n",
      "Means: 0.7931271672248841, Stdev: 0.006999306569871932 with: {'activation': 'relu', 'batch_size': 40, 'beta_1': 1, 'beta_2': 0.01, 'epochs': 20, 'kernel_initializer': 'TruncatedNormal', 'learning_rate': 0.01}\n",
      "Means: 0.7954002141952514, Stdev: 0.007244991767149769 with: {'activation': 'relu', 'batch_size': 40, 'beta_1': 1, 'beta_2': 0.01, 'epochs': 20, 'kernel_initializer': 'Orthogonal', 'learning_rate': 0.01}\n",
      "Means: nan, Stdev: nan with: {'activation': 'relu', 'batch_size': 40, 'beta_1': 1, 'beta_2': 0.01, 'epochs': 20, 'kernel_initializer': 'LecunUniform', 'learning_rate': 0.01}\n",
      "Means: 0.7945475220680237, Stdev: 0.0053315737811091305 with: {'activation': 'relu', 'batch_size': 40, 'beta_1': 1, 'beta_2': 0.01, 'epochs': 20, 'kernel_initializer': 'GlorotUniform', 'learning_rate': 0.01}\n"
     ]
    }
   ],
   "source": [
    "param_grid = {'batch_size': [40],\n",
    "              'epochs': [20],\n",
    "             'activation': ['relu'],\n",
    "             'learning_rate': [0.01],\n",
    "             'beta_1': [1],\n",
    "             'beta_2': [0.01],\n",
    "             'kernel_initializer': ['Ones','RandomNormal','RandomUniform','TruncatedNormal','Orthogonal','LecunUniform','GlorotUniform']}\n",
    "\n",
    "grid = GridSearchCV(estimator=churnmodel, param_grid=param_grid, n_jobs=1)\n",
    "grid_result = grid.fit(X_scaled, y_array)\n",
    "\n",
    "print(f\"Best: {grid_result.best_score_} using {grid_result.best_params_}\")\n",
    "means = grid_result.cv_results_['mean_test_score']\n",
    "stds = grid_result.cv_results_['std_test_score']\n",
    "params = grid_result.cv_results_['params']\n",
    "for mean, stdev, param in zip(means, stds, params):\n",
    "    print(f\"Means: {mean}, Stdev: {stdev} with: {param}\") "
   ]
  },
  {
   "cell_type": "code",
   "execution_count": 35,
   "metadata": {},
   "outputs": [
    {
     "name": "stdout",
     "output_type": "stream",
     "text": [
      "Best: 0.7969608902931213 using {'activation': 'relu', 'batch_size': 40, 'beta_1': 1, 'beta_2': 0.01, 'dropout_val': 0.4, 'epochs': 20, 'kernel_initializer': 'Orthogonal', 'learning_rate': 0.01}\n",
      "Means: 0.7965354561805725, Stdev: 0.005530400216428808 with: {'activation': 'relu', 'batch_size': 40, 'beta_1': 1, 'beta_2': 0.01, 'dropout_val': 0.25, 'epochs': 20, 'kernel_initializer': 'Orthogonal', 'learning_rate': 0.01}\n",
      "Means: 0.7823394775390625, Stdev: 0.02053831495636072 with: {'activation': 'relu', 'batch_size': 40, 'beta_1': 1, 'beta_2': 0.01, 'dropout_val': 0.3, 'epochs': 20, 'kernel_initializer': 'Orthogonal', 'learning_rate': 0.01}\n",
      "Means: 0.7949735760688782, Stdev: 0.006067711841546868 with: {'activation': 'relu', 'batch_size': 40, 'beta_1': 1, 'beta_2': 0.01, 'dropout_val': 0.35, 'epochs': 20, 'kernel_initializer': 'Orthogonal', 'learning_rate': 0.01}\n",
      "Means: 0.7969608902931213, Stdev: 0.006914998326539822 with: {'activation': 'relu', 'batch_size': 40, 'beta_1': 1, 'beta_2': 0.01, 'dropout_val': 0.4, 'epochs': 20, 'kernel_initializer': 'Orthogonal', 'learning_rate': 0.01}\n",
      "Means: 0.795967984199524, Stdev: 0.0033863192654548535 with: {'activation': 'relu', 'batch_size': 40, 'beta_1': 1, 'beta_2': 0.01, 'dropout_val': 0.45, 'epochs': 20, 'kernel_initializer': 'Orthogonal', 'learning_rate': 0.01}\n",
      "Means: 0.7962525844573974, Stdev: 0.0043295074640443704 with: {'activation': 'relu', 'batch_size': 40, 'beta_1': 1, 'beta_2': 0.01, 'dropout_val': 0.5, 'epochs': 20, 'kernel_initializer': 'Orthogonal', 'learning_rate': 0.01}\n"
     ]
    }
   ],
   "source": [
    "param_grid = {'batch_size': [40],\n",
    "              'epochs': [20],\n",
    "             'activation': ['relu'],\n",
    "             'learning_rate': [0.01],\n",
    "             'beta_1': [1],\n",
    "             'beta_2': [0.01],\n",
    "             'kernel_initializer': ['Orthogonal'],\n",
    "             'dropout_val': [0.25,0.3,0.35,0.4,0.45,0.5]}\n",
    "\n",
    "grid = GridSearchCV(estimator=churnmodel, param_grid=param_grid, n_jobs=1)\n",
    "grid_result = grid.fit(X_scaled, y_array)\n",
    "\n",
    "print(f\"Best: {grid_result.best_score_} using {grid_result.best_params_}\")\n",
    "means = grid_result.cv_results_['mean_test_score']\n",
    "stds = grid_result.cv_results_['std_test_score']\n",
    "params = grid_result.cv_results_['params']\n",
    "for mean, stdev, param in zip(means, stds, params):\n",
    "    print(f\"Means: {mean}, Stdev: {stdev} with: {param}\") "
   ]
  },
  {
   "cell_type": "code",
   "execution_count": 36,
   "metadata": {},
   "outputs": [
    {
     "name": "stdout",
     "output_type": "stream",
     "text": [
      "Best: 0.7956836938858032 using {'activation': 'relu', 'batch_size': 40, 'beta_1': 1, 'beta_2': 0.01, 'dropout_val': 0.4, 'epochs': 20, 'kernel_initializer': 'Orthogonal', 'l1_count': 40, 'learning_rate': 0.01}\n",
      "Means: 0.7946905851364136, Stdev: 0.0074534666224943405 with: {'activation': 'relu', 'batch_size': 40, 'beta_1': 1, 'beta_2': 0.01, 'dropout_val': 0.4, 'epochs': 20, 'kernel_initializer': 'Orthogonal', 'l1_count': 21, 'learning_rate': 0.01}\n",
      "Means: 0.7824835419654846, Stdev: 0.021080561196511464 with: {'activation': 'relu', 'batch_size': 40, 'beta_1': 1, 'beta_2': 0.01, 'dropout_val': 0.4, 'epochs': 20, 'kernel_initializer': 'Orthogonal', 'l1_count': 30, 'learning_rate': 0.01}\n",
      "Means: 0.7956836938858032, Stdev: 0.005824627620676899 with: {'activation': 'relu', 'batch_size': 40, 'beta_1': 1, 'beta_2': 0.01, 'dropout_val': 0.4, 'epochs': 20, 'kernel_initializer': 'Orthogonal', 'l1_count': 40, 'learning_rate': 0.01}\n",
      "Means: 0.7837511777877808, Stdev: 0.02768640684605893 with: {'activation': 'relu', 'batch_size': 40, 'beta_1': 1, 'beta_2': 0.01, 'dropout_val': 0.4, 'epochs': 20, 'kernel_initializer': 'Orthogonal', 'l1_count': 50, 'learning_rate': 0.01}\n",
      "Means: 0.7949746727943421, Stdev: 0.004844744713080506 with: {'activation': 'relu', 'batch_size': 40, 'beta_1': 1, 'beta_2': 0.01, 'dropout_val': 0.4, 'epochs': 20, 'kernel_initializer': 'Orthogonal', 'l1_count': 60, 'learning_rate': 0.01}\n"
     ]
    }
   ],
   "source": [
    "param_grid = {'batch_size': [40],\n",
    "              'epochs': [20],\n",
    "             'activation': ['relu'],\n",
    "             'learning_rate': [0.01],\n",
    "             'beta_1': [1],\n",
    "             'beta_2': [0.01],\n",
    "             'kernel_initializer': ['Orthogonal'],\n",
    "             'dropout_val': [0.4],\n",
    "             'l1_count': [21,30,40,50,60]}\n",
    "\n",
    "grid = GridSearchCV(estimator=churnmodel, param_grid=param_grid, n_jobs=1)\n",
    "grid_result = grid.fit(X_scaled, y_array)\n",
    "\n",
    "print(f\"Best: {grid_result.best_score_} using {grid_result.best_params_}\")\n",
    "means = grid_result.cv_results_['mean_test_score']\n",
    "stds = grid_result.cv_results_['std_test_score']\n",
    "params = grid_result.cv_results_['params']\n",
    "for mean, stdev, param in zip(means, stds, params):\n",
    "    print(f\"Means: {mean}, Stdev: {stdev} with: {param}\") "
   ]
  },
  {
   "cell_type": "code",
   "execution_count": 40,
   "metadata": {},
   "outputs": [
    {
     "name": "stdout",
     "output_type": "stream",
     "text": [
      "Best: 0.7980974674224853 using {'activation': 'relu', 'batch_size': 40, 'beta_1': 1, 'beta_2': 0.01, 'dropout_val': 0.4, 'epochs': 20, 'kernel_initializer': 'Orthogonal', 'l1_count': 40, 'l2_count': 21, 'learning_rate': 0.01}\n",
      "Means: 0.7980974674224853, Stdev: 0.005844469756870711 with: {'activation': 'relu', 'batch_size': 40, 'beta_1': 1, 'beta_2': 0.01, 'dropout_val': 0.4, 'epochs': 20, 'kernel_initializer': 'Orthogonal', 'l1_count': 40, 'l2_count': 21, 'learning_rate': 0.01}\n",
      "Means: 0.796109426021576, Stdev: 0.0042997271639112315 with: {'activation': 'relu', 'batch_size': 40, 'beta_1': 1, 'beta_2': 0.01, 'dropout_val': 0.4, 'epochs': 20, 'kernel_initializer': 'Orthogonal', 'l1_count': 40, 'l2_count': 30, 'learning_rate': 0.01}\n",
      "Means: 0.7844708681106567, Stdev: 0.021965161096534947 with: {'activation': 'relu', 'batch_size': 40, 'beta_1': 1, 'beta_2': 0.01, 'dropout_val': 0.4, 'epochs': 20, 'kernel_initializer': 'Orthogonal', 'l1_count': 40, 'l2_count': 40, 'learning_rate': 0.01}\n",
      "Means: 0.7758122563362122, Stdev: 0.029691254339474983 with: {'activation': 'relu', 'batch_size': 40, 'beta_1': 1, 'beta_2': 0.01, 'dropout_val': 0.4, 'epochs': 20, 'kernel_initializer': 'Orthogonal', 'l1_count': 40, 'l2_count': 50, 'learning_rate': 0.01}\n",
      "Means: 0.7976720213890076, Stdev: 0.0041586413840619015 with: {'activation': 'relu', 'batch_size': 40, 'beta_1': 1, 'beta_2': 0.01, 'dropout_val': 0.4, 'epochs': 20, 'kernel_initializer': 'Orthogonal', 'l1_count': 40, 'l2_count': 60, 'learning_rate': 0.01}\n"
     ]
    }
   ],
   "source": [
    "param_grid = {'batch_size': [40],\n",
    "              'epochs': [20],\n",
    "             'activation': ['relu'],\n",
    "             'learning_rate': [0.01],\n",
    "             'beta_1': [1],\n",
    "             'beta_2': [0.01],\n",
    "             'kernel_initializer': ['Orthogonal'],\n",
    "             'dropout_val': [0.40],\n",
    "             'l1_count': [40],\n",
    "             'l2_count': [21,30,40,50,60]}\n",
    "\n",
    "grid = GridSearchCV(estimator=churnmodel, param_grid=param_grid, n_jobs=1)\n",
    "grid_result = grid.fit(X_scaled, y_array)\n",
    "\n",
    "print(f\"Best: {grid_result.best_score_} using {grid_result.best_params_}\")\n",
    "means = grid_result.cv_results_['mean_test_score']\n",
    "stds = grid_result.cv_results_['std_test_score']\n",
    "params = grid_result.cv_results_['params']\n",
    "for mean, stdev, param in zip(means, stds, params):\n",
    "    print(f\"Means: {mean}, Stdev: {stdev} with: {param}\") "
   ]
  },
  {
   "cell_type": "code",
   "execution_count": 41,
   "metadata": {},
   "outputs": [
    {
     "name": "stdout",
     "output_type": "stream",
     "text": [
      "Best: 0.7973879337310791 using {'activation': 'relu', 'batch_size': 40, 'beta_1': 1, 'beta_2': 0.01, 'dropout_val': 0.4, 'epochs': 40, 'kernel_initializer': 'Orthogonal', 'l1_count': 40, 'l2_count': 21, 'learning_rate': 0.01}\n",
      "Means: 0.7946890711784362, Stdev: 0.003776898788220109 with: {'activation': 'relu', 'batch_size': 40, 'beta_1': 1, 'beta_2': 0.01, 'dropout_val': 0.4, 'epochs': 20, 'kernel_initializer': 'Orthogonal', 'l1_count': 40, 'l2_count': 21, 'learning_rate': 0.01}\n",
      "Means: 0.7973879337310791, Stdev: 0.009964218113131027 with: {'activation': 'relu', 'batch_size': 40, 'beta_1': 1, 'beta_2': 0.01, 'dropout_val': 0.4, 'epochs': 40, 'kernel_initializer': 'Orthogonal', 'l1_count': 40, 'l2_count': 21, 'learning_rate': 0.01}\n",
      "Means: 0.79667729139328, Stdev: 0.005020058079491214 with: {'activation': 'relu', 'batch_size': 40, 'beta_1': 1, 'beta_2': 0.01, 'dropout_val': 0.4, 'epochs': 60, 'kernel_initializer': 'Orthogonal', 'l1_count': 40, 'l2_count': 21, 'learning_rate': 0.01}\n",
      "Means: 0.7955404400825501, Stdev: 0.0074237547764372525 with: {'activation': 'relu', 'batch_size': 40, 'beta_1': 1, 'beta_2': 0.01, 'dropout_val': 0.4, 'epochs': 80, 'kernel_initializer': 'Orthogonal', 'l1_count': 40, 'l2_count': 21, 'learning_rate': 0.01}\n",
      "Means: 0.7938372015953064, Stdev: 0.005328542273905926 with: {'activation': 'relu', 'batch_size': 40, 'beta_1': 1, 'beta_2': 0.01, 'dropout_val': 0.4, 'epochs': 100, 'kernel_initializer': 'Orthogonal', 'l1_count': 40, 'l2_count': 21, 'learning_rate': 0.01}\n"
     ]
    }
   ],
   "source": [
    "param_grid = {'batch_size': [40],\n",
    "              'epochs': [20,40,60,80,100],\n",
    "             'activation': ['relu'],\n",
    "             'learning_rate': [0.01],\n",
    "             'beta_1': [1],\n",
    "             'beta_2': [0.01],\n",
    "             'kernel_initializer': ['Orthogonal'],\n",
    "             'dropout_val': [0.40],\n",
    "             'l1_count': [40],\n",
    "             'l2_count': [21]}\n",
    "\n",
    "grid = GridSearchCV(estimator=churnmodel, param_grid=param_grid, n_jobs=1)\n",
    "grid_result = grid.fit(X_scaled, y_array)\n",
    "\n",
    "print(f\"Best: {grid_result.best_score_} using {grid_result.best_params_}\")\n",
    "means = grid_result.cv_results_['mean_test_score']\n",
    "stds = grid_result.cv_results_['std_test_score']\n",
    "params = grid_result.cv_results_['params']\n",
    "for mean, stdev, param in zip(means, stds, params):\n",
    "    print(f\"Means: {mean}, Stdev: {stdev} with: {param}\") "
   ]
  },
  {
   "cell_type": "markdown",
   "metadata": {
    "colab_type": "text",
    "id": "FfZRtJ7MCN3x"
   },
   "source": [
    "## Stretch Goals:\n",
    "\n",
    "- Try to implement Random Search Hyperparameter Tuning on this dataset\n",
    "- Try to implement Bayesian Optimiation tuning on this dataset using hyperas or hyperopt (if you're brave)\n",
    "- Practice hyperparameter tuning other datasets that we have looked at. How high can you get MNIST? Above 99%?\n",
    "- Study for the Sprint Challenge\n",
    " - Can you implement both perceptron and MLP models from scratch with forward and backpropagation?\n",
    " - Can you implement both perceptron and MLP models in keras and tune their hyperparameters with cross validation?"
   ]
  }
 ],
 "metadata": {
  "colab": {
   "name": "LS_DS_434_Hyperparameter_Tuning_Assignment.ipynb",
   "provenance": [],
   "version": "0.3.2"
  },
  "kernelspec": {
   "display_name": "Python (sprint 2, NN)",
   "language": "python",
   "name": "python-sprint2-nn"
  },
  "language_info": {
   "codemirror_mode": {
    "name": "ipython",
    "version": 3
   },
   "file_extension": ".py",
   "mimetype": "text/x-python",
   "name": "python",
   "nbconvert_exporter": "python",
   "pygments_lexer": "ipython3",
   "version": "3.7.3"
  }
 },
 "nbformat": 4,
 "nbformat_minor": 4
}
