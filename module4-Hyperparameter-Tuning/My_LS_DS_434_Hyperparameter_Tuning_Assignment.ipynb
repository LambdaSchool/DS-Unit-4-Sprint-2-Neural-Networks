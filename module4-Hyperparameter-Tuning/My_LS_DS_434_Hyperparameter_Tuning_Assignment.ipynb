{
  "nbformat": 4,
  "nbformat_minor": 0,
  "metadata": {
    "colab": {
      "name": "My LS_DS_434_Hyperparameter_Tuning_Assignment.ipynb",
      "version": "0.3.2",
      "provenance": [],
      "collapsed_sections": [],
      "include_colab_link": true
    },
    "kernelspec": {
      "name": "python3",
      "display_name": "Python 3"
    }
  },
  "cells": [
    {
      "cell_type": "markdown",
      "metadata": {
        "id": "view-in-github",
        "colab_type": "text"
      },
      "source": [
        "<a href=\"https://colab.research.google.com/github/wel51x/DS-Unit-4-Sprint-3-Neural-Networks/blob/master/module4-Hyperparameter-Tuning/My_LS_DS_434_Hyperparameter_Tuning_Assignment.ipynb\" target=\"_parent\"><img src=\"https://colab.research.google.com/assets/colab-badge.svg\" alt=\"Open In Colab\"/></a>"
      ]
    },
    {
      "cell_type": "markdown",
      "metadata": {
        "id": "9Ryp-TVm4njD",
        "colab_type": "text"
      },
      "source": [
        "# Your Mission, should you choose to accept it...\n",
        "\n",
        "To hyperparameter tune and extract every ounce of accuracy out of this telecom customer churn dataset: <https://drive.google.com/file/d/1dfbAsM9DwA7tYhInyflIpZnYs7VT-0AQ/view> \n",
        "\n",
        "## Requirements\n",
        "\n",
        "- Load the data\n",
        "- Clean the data if necessary (it will be)\n",
        "- Create and fit a baseline Keras MLP model to the data.\n",
        "- Hyperparameter tune (at least) the following parameters:\n",
        " - batch_size\n",
        " - training epochs\n",
        " - optimizer\n",
        " - learning rate (if applicable to optimizer)\n",
        " - momentum (if applicable to optimizer)\n",
        " - activation functions\n",
        " - network weight initialization\n",
        " - dropout regularization\n",
        " - number of neurons in the hidden layer\n",
        " \n",
        " You must use Grid Search and Cross Validation for your initial pass of the above hyperparameters\n",
        " \n",
        " Try and get the maximum accuracy possible out of this data! You'll save big telecoms millions! Doesn't that sound great?\n"
      ]
    },
    {
      "cell_type": "code",
      "metadata": {
        "id": "h3C1-IoVoz7T",
        "colab_type": "code",
        "colab": {}
      },
      "source": [
        "import pandas as pd\n",
        "import numpy\n",
        "import keras\n",
        "from keras.models import Sequential\n",
        "from keras.layers import Dense\n",
        "from keras.wrappers.scikit_learn import KerasRegressor,  KerasClassifier\n",
        "from sklearn.preprocessing import LabelEncoder, StandardScaler\n",
        "from sklearn.pipeline import Pipeline\n",
        "from sklearn.model_selection import KFold\n",
        "from sklearn.model_selection import cross_val_score\n",
        "from sklearn.model_selection import GridSearchCV\n",
        "from keras.optimizers import SGD, Adam, Nadam\n",
        "\n",
        "# fix random seed for reproducibility\n",
        "numpy.random.seed(42)"
      ],
      "execution_count": 0,
      "outputs": []
    },
    {
      "cell_type": "code",
      "metadata": {
        "id": "NNJ-tOBs4jM1",
        "colab_type": "code",
        "outputId": "a8ca4e53-9209-43dd-dbb3-1eeee5bea084",
        "colab": {
          "base_uri": "https://localhost:8080/",
          "height": 485
        }
      },
      "source": [
        "#https://raw.githubusercontent.com/wel51x/Data/master/WA_Fn-UseC_-Telco-Customer-Churn.csv\n",
        "churn_data = pd.read_csv(\"https://raw.githubusercontent.com/wel51x/Data/master/WA_Fn-UseC_-Telco-Customer-Churn.csv\")\n",
        "churn_data.info()"
      ],
      "execution_count": 0,
      "outputs": [
        {
          "output_type": "stream",
          "text": [
            "<class 'pandas.core.frame.DataFrame'>\n",
            "RangeIndex: 7043 entries, 0 to 7042\n",
            "Data columns (total 21 columns):\n",
            "customerID          7043 non-null object\n",
            "gender              7043 non-null object\n",
            "SeniorCitizen       7043 non-null int64\n",
            "Partner             7043 non-null object\n",
            "Dependents          7043 non-null object\n",
            "tenure              7043 non-null int64\n",
            "PhoneService        7043 non-null object\n",
            "MultipleLines       7043 non-null object\n",
            "InternetService     7043 non-null object\n",
            "OnlineSecurity      7043 non-null object\n",
            "OnlineBackup        7043 non-null object\n",
            "DeviceProtection    7043 non-null object\n",
            "TechSupport         7043 non-null object\n",
            "StreamingTV         7043 non-null object\n",
            "StreamingMovies     7043 non-null object\n",
            "Contract            7043 non-null object\n",
            "PaperlessBilling    7043 non-null object\n",
            "PaymentMethod       7043 non-null object\n",
            "MonthlyCharges      7043 non-null float64\n",
            "TotalCharges        7043 non-null object\n",
            "Churn               7043 non-null object\n",
            "dtypes: float64(1), int64(2), object(18)\n",
            "memory usage: 1.1+ MB\n"
          ],
          "name": "stdout"
        }
      ]
    },
    {
      "cell_type": "code",
      "metadata": {
        "id": "ZGS7ZDGHpKCz",
        "colab_type": "code",
        "outputId": "af56129e-125e-4747-ad42-977727fbd6ec",
        "colab": {
          "base_uri": "https://localhost:8080/",
          "height": 465
        }
      },
      "source": [
        "churn_data.sample(8)"
      ],
      "execution_count": 0,
      "outputs": [
        {
          "output_type": "execute_result",
          "data": {
            "text/html": [
              "<div>\n",
              "<style scoped>\n",
              "    .dataframe tbody tr th:only-of-type {\n",
              "        vertical-align: middle;\n",
              "    }\n",
              "\n",
              "    .dataframe tbody tr th {\n",
              "        vertical-align: top;\n",
              "    }\n",
              "\n",
              "    .dataframe thead th {\n",
              "        text-align: right;\n",
              "    }\n",
              "</style>\n",
              "<table border=\"1\" class=\"dataframe\">\n",
              "  <thead>\n",
              "    <tr style=\"text-align: right;\">\n",
              "      <th></th>\n",
              "      <th>customerID</th>\n",
              "      <th>gender</th>\n",
              "      <th>SeniorCitizen</th>\n",
              "      <th>Partner</th>\n",
              "      <th>Dependents</th>\n",
              "      <th>tenure</th>\n",
              "      <th>PhoneService</th>\n",
              "      <th>MultipleLines</th>\n",
              "      <th>InternetService</th>\n",
              "      <th>OnlineSecurity</th>\n",
              "      <th>...</th>\n",
              "      <th>DeviceProtection</th>\n",
              "      <th>TechSupport</th>\n",
              "      <th>StreamingTV</th>\n",
              "      <th>StreamingMovies</th>\n",
              "      <th>Contract</th>\n",
              "      <th>PaperlessBilling</th>\n",
              "      <th>PaymentMethod</th>\n",
              "      <th>MonthlyCharges</th>\n",
              "      <th>TotalCharges</th>\n",
              "      <th>Churn</th>\n",
              "    </tr>\n",
              "  </thead>\n",
              "  <tbody>\n",
              "    <tr>\n",
              "      <th>5407</th>\n",
              "      <td>9786-YWNHU</td>\n",
              "      <td>Female</td>\n",
              "      <td>0</td>\n",
              "      <td>Yes</td>\n",
              "      <td>Yes</td>\n",
              "      <td>63</td>\n",
              "      <td>Yes</td>\n",
              "      <td>No</td>\n",
              "      <td>DSL</td>\n",
              "      <td>Yes</td>\n",
              "      <td>...</td>\n",
              "      <td>Yes</td>\n",
              "      <td>Yes</td>\n",
              "      <td>No</td>\n",
              "      <td>No</td>\n",
              "      <td>Two year</td>\n",
              "      <td>No</td>\n",
              "      <td>Mailed check</td>\n",
              "      <td>63.55</td>\n",
              "      <td>4014.2</td>\n",
              "      <td>No</td>\n",
              "    </tr>\n",
              "    <tr>\n",
              "      <th>2336</th>\n",
              "      <td>3211-ILJTT</td>\n",
              "      <td>Male</td>\n",
              "      <td>0</td>\n",
              "      <td>Yes</td>\n",
              "      <td>No</td>\n",
              "      <td>17</td>\n",
              "      <td>Yes</td>\n",
              "      <td>No</td>\n",
              "      <td>Fiber optic</td>\n",
              "      <td>No</td>\n",
              "      <td>...</td>\n",
              "      <td>No</td>\n",
              "      <td>No</td>\n",
              "      <td>No</td>\n",
              "      <td>No</td>\n",
              "      <td>Month-to-month</td>\n",
              "      <td>Yes</td>\n",
              "      <td>Bank transfer (automatic)</td>\n",
              "      <td>70.40</td>\n",
              "      <td>1214.05</td>\n",
              "      <td>Yes</td>\n",
              "    </tr>\n",
              "    <tr>\n",
              "      <th>5063</th>\n",
              "      <td>3744-ZRRDZ</td>\n",
              "      <td>Male</td>\n",
              "      <td>0</td>\n",
              "      <td>No</td>\n",
              "      <td>No</td>\n",
              "      <td>21</td>\n",
              "      <td>Yes</td>\n",
              "      <td>Yes</td>\n",
              "      <td>Fiber optic</td>\n",
              "      <td>No</td>\n",
              "      <td>...</td>\n",
              "      <td>No</td>\n",
              "      <td>No</td>\n",
              "      <td>No</td>\n",
              "      <td>No</td>\n",
              "      <td>Month-to-month</td>\n",
              "      <td>Yes</td>\n",
              "      <td>Electronic check</td>\n",
              "      <td>82.35</td>\n",
              "      <td>1852.85</td>\n",
              "      <td>Yes</td>\n",
              "    </tr>\n",
              "    <tr>\n",
              "      <th>1516</th>\n",
              "      <td>6198-RTPMF</td>\n",
              "      <td>Female</td>\n",
              "      <td>0</td>\n",
              "      <td>Yes</td>\n",
              "      <td>No</td>\n",
              "      <td>17</td>\n",
              "      <td>Yes</td>\n",
              "      <td>Yes</td>\n",
              "      <td>Fiber optic</td>\n",
              "      <td>No</td>\n",
              "      <td>...</td>\n",
              "      <td>No</td>\n",
              "      <td>No</td>\n",
              "      <td>Yes</td>\n",
              "      <td>Yes</td>\n",
              "      <td>Month-to-month</td>\n",
              "      <td>No</td>\n",
              "      <td>Electronic check</td>\n",
              "      <td>92.60</td>\n",
              "      <td>1579.7</td>\n",
              "      <td>No</td>\n",
              "    </tr>\n",
              "    <tr>\n",
              "      <th>1869</th>\n",
              "      <td>7010-BRBUU</td>\n",
              "      <td>Male</td>\n",
              "      <td>0</td>\n",
              "      <td>Yes</td>\n",
              "      <td>Yes</td>\n",
              "      <td>72</td>\n",
              "      <td>Yes</td>\n",
              "      <td>Yes</td>\n",
              "      <td>No</td>\n",
              "      <td>No internet service</td>\n",
              "      <td>...</td>\n",
              "      <td>No internet service</td>\n",
              "      <td>No internet service</td>\n",
              "      <td>No internet service</td>\n",
              "      <td>No internet service</td>\n",
              "      <td>Two year</td>\n",
              "      <td>No</td>\n",
              "      <td>Credit card (automatic)</td>\n",
              "      <td>24.10</td>\n",
              "      <td>1734.65</td>\n",
              "      <td>No</td>\n",
              "    </tr>\n",
              "    <tr>\n",
              "      <th>2201</th>\n",
              "      <td>7951-VRDVK</td>\n",
              "      <td>Female</td>\n",
              "      <td>0</td>\n",
              "      <td>No</td>\n",
              "      <td>No</td>\n",
              "      <td>36</td>\n",
              "      <td>Yes</td>\n",
              "      <td>No</td>\n",
              "      <td>DSL</td>\n",
              "      <td>Yes</td>\n",
              "      <td>...</td>\n",
              "      <td>Yes</td>\n",
              "      <td>Yes</td>\n",
              "      <td>Yes</td>\n",
              "      <td>Yes</td>\n",
              "      <td>One year</td>\n",
              "      <td>No</td>\n",
              "      <td>Bank transfer (automatic)</td>\n",
              "      <td>85.85</td>\n",
              "      <td>3003.55</td>\n",
              "      <td>No</td>\n",
              "    </tr>\n",
              "    <tr>\n",
              "      <th>6985</th>\n",
              "      <td>6967-PEJLL</td>\n",
              "      <td>Male</td>\n",
              "      <td>0</td>\n",
              "      <td>Yes</td>\n",
              "      <td>Yes</td>\n",
              "      <td>37</td>\n",
              "      <td>No</td>\n",
              "      <td>No phone service</td>\n",
              "      <td>DSL</td>\n",
              "      <td>Yes</td>\n",
              "      <td>...</td>\n",
              "      <td>Yes</td>\n",
              "      <td>Yes</td>\n",
              "      <td>No</td>\n",
              "      <td>No</td>\n",
              "      <td>One year</td>\n",
              "      <td>Yes</td>\n",
              "      <td>Electronic check</td>\n",
              "      <td>40.20</td>\n",
              "      <td>1525.35</td>\n",
              "      <td>No</td>\n",
              "    </tr>\n",
              "    <tr>\n",
              "      <th>218</th>\n",
              "      <td>2040-LDIWQ</td>\n",
              "      <td>Male</td>\n",
              "      <td>0</td>\n",
              "      <td>Yes</td>\n",
              "      <td>Yes</td>\n",
              "      <td>65</td>\n",
              "      <td>Yes</td>\n",
              "      <td>Yes</td>\n",
              "      <td>DSL</td>\n",
              "      <td>No</td>\n",
              "      <td>...</td>\n",
              "      <td>Yes</td>\n",
              "      <td>Yes</td>\n",
              "      <td>Yes</td>\n",
              "      <td>Yes</td>\n",
              "      <td>Two year</td>\n",
              "      <td>Yes</td>\n",
              "      <td>Bank transfer (automatic)</td>\n",
              "      <td>84.20</td>\n",
              "      <td>5324.5</td>\n",
              "      <td>No</td>\n",
              "    </tr>\n",
              "  </tbody>\n",
              "</table>\n",
              "<p>8 rows × 21 columns</p>\n",
              "</div>"
            ],
            "text/plain": [
              "      customerID  gender  SeniorCitizen Partner Dependents  tenure  \\\n",
              "5407  9786-YWNHU  Female              0     Yes        Yes      63   \n",
              "2336  3211-ILJTT    Male              0     Yes         No      17   \n",
              "5063  3744-ZRRDZ    Male              0      No         No      21   \n",
              "1516  6198-RTPMF  Female              0     Yes         No      17   \n",
              "1869  7010-BRBUU    Male              0     Yes        Yes      72   \n",
              "2201  7951-VRDVK  Female              0      No         No      36   \n",
              "6985  6967-PEJLL    Male              0     Yes        Yes      37   \n",
              "218   2040-LDIWQ    Male              0     Yes        Yes      65   \n",
              "\n",
              "     PhoneService     MultipleLines InternetService       OnlineSecurity  ...  \\\n",
              "5407          Yes                No             DSL                  Yes  ...   \n",
              "2336          Yes                No     Fiber optic                   No  ...   \n",
              "5063          Yes               Yes     Fiber optic                   No  ...   \n",
              "1516          Yes               Yes     Fiber optic                   No  ...   \n",
              "1869          Yes               Yes              No  No internet service  ...   \n",
              "2201          Yes                No             DSL                  Yes  ...   \n",
              "6985           No  No phone service             DSL                  Yes  ...   \n",
              "218           Yes               Yes             DSL                   No  ...   \n",
              "\n",
              "         DeviceProtection          TechSupport          StreamingTV  \\\n",
              "5407                  Yes                  Yes                   No   \n",
              "2336                   No                   No                   No   \n",
              "5063                   No                   No                   No   \n",
              "1516                   No                   No                  Yes   \n",
              "1869  No internet service  No internet service  No internet service   \n",
              "2201                  Yes                  Yes                  Yes   \n",
              "6985                  Yes                  Yes                   No   \n",
              "218                   Yes                  Yes                  Yes   \n",
              "\n",
              "          StreamingMovies        Contract PaperlessBilling  \\\n",
              "5407                   No        Two year               No   \n",
              "2336                   No  Month-to-month              Yes   \n",
              "5063                   No  Month-to-month              Yes   \n",
              "1516                  Yes  Month-to-month               No   \n",
              "1869  No internet service        Two year               No   \n",
              "2201                  Yes        One year               No   \n",
              "6985                   No        One year              Yes   \n",
              "218                   Yes        Two year              Yes   \n",
              "\n",
              "                  PaymentMethod MonthlyCharges  TotalCharges Churn  \n",
              "5407               Mailed check          63.55        4014.2    No  \n",
              "2336  Bank transfer (automatic)          70.40       1214.05   Yes  \n",
              "5063           Electronic check          82.35       1852.85   Yes  \n",
              "1516           Electronic check          92.60        1579.7    No  \n",
              "1869    Credit card (automatic)          24.10       1734.65    No  \n",
              "2201  Bank transfer (automatic)          85.85       3003.55    No  \n",
              "6985           Electronic check          40.20       1525.35    No  \n",
              "218   Bank transfer (automatic)          84.20        5324.5    No  \n",
              "\n",
              "[8 rows x 21 columns]"
            ]
          },
          "metadata": {
            "tags": []
          },
          "execution_count": 7
        }
      ]
    },
    {
      "cell_type": "code",
      "metadata": {
        "id": "q2FUuaF1rlu7",
        "colab_type": "code",
        "outputId": "6aa8f544-f749-4811-a990-adbd63376be6",
        "colab": {
          "base_uri": "https://localhost:8080/",
          "height": 413
        }
      },
      "source": [
        "churn_data.isnull().sum()"
      ],
      "execution_count": 0,
      "outputs": [
        {
          "output_type": "execute_result",
          "data": {
            "text/plain": [
              "customerID          0\n",
              "gender              0\n",
              "SeniorCitizen       0\n",
              "Partner             0\n",
              "Dependents          0\n",
              "tenure              0\n",
              "PhoneService        0\n",
              "MultipleLines       0\n",
              "InternetService     0\n",
              "OnlineSecurity      0\n",
              "OnlineBackup        0\n",
              "DeviceProtection    0\n",
              "TechSupport         0\n",
              "StreamingTV         0\n",
              "StreamingMovies     0\n",
              "Contract            0\n",
              "PaperlessBilling    0\n",
              "PaymentMethod       0\n",
              "MonthlyCharges      0\n",
              "TotalCharges        0\n",
              "Churn               0\n",
              "dtype: int64"
            ]
          },
          "metadata": {
            "tags": []
          },
          "execution_count": 8
        }
      ]
    },
    {
      "cell_type": "code",
      "metadata": {
        "id": "01Fx2OYKse-M",
        "colab_type": "code",
        "outputId": "bee53080-0bad-4fdc-bbbf-22107120a97f",
        "colab": {
          "base_uri": "https://localhost:8080/",
          "height": 35
        }
      },
      "source": [
        "churn_data.shape"
      ],
      "execution_count": 0,
      "outputs": [
        {
          "output_type": "execute_result",
          "data": {
            "text/plain": [
              "(7032, 21)"
            ]
          },
          "metadata": {
            "tags": []
          },
          "execution_count": 12
        }
      ]
    },
    {
      "cell_type": "markdown",
      "metadata": {
        "id": "WoA0ahhqvFKd",
        "colab_type": "text"
      },
      "source": [
        "### Clean Input Data\n"
      ]
    },
    {
      "cell_type": "code",
      "metadata": {
        "id": "IWjOOtUlr2xK",
        "colab_type": "code",
        "colab": {}
      },
      "source": [
        "# make Total Charges numeric\n",
        "churn_data['TotalCharges'] = pd.to_numeric(churn_data['TotalCharges'], errors='coerce')\n",
        "churn_data = churn_data.dropna(subset=['TotalCharges'])"
      ],
      "execution_count": 0,
      "outputs": []
    },
    {
      "cell_type": "code",
      "metadata": {
        "id": "HgJkmpRtsJ4b",
        "colab_type": "code",
        "colab": {}
      },
      "source": [
        "# additional cleaning\n",
        "churn_data[churn_data.columns] = churn_data[churn_data.columns].replace(('No internet service'), ('No'))\n",
        "churn_data[churn_data.columns] = churn_data[churn_data.columns].replace(('No phone service'), ('No'))\n",
        "churn_data['InternetService'] = churn_data['InternetService'].replace(('Fiber optic'), ('Yes'))\n",
        "churn_data['InternetService'] = churn_data['InternetService'].replace(('DSL'), ('Yes'))\n",
        "churn_data[churn_data.columns] = churn_data[churn_data.columns].replace(('Yes', 'No'), (1, 0))"
      ],
      "execution_count": 0,
      "outputs": []
    },
    {
      "cell_type": "code",
      "metadata": {
        "id": "H7DNaP5DtIpv",
        "colab_type": "code",
        "colab": {}
      },
      "source": [
        "churn_data[churn_data.columns] = churn_data[churn_data.columns].replace(('Male', 'Female'), (1, 0))\n",
        "del churn_data['customerID']"
      ],
      "execution_count": 0,
      "outputs": []
    },
    {
      "cell_type": "code",
      "metadata": {
        "id": "P0gJkxp-sqlF",
        "colab_type": "code",
        "outputId": "5efbc80b-2c31-4b4d-b8f2-064a60b5e846",
        "colab": {
          "base_uri": "https://localhost:8080/",
          "height": 317
        }
      },
      "source": [
        "churn_data.sample(8)"
      ],
      "execution_count": 0,
      "outputs": [
        {
          "output_type": "execute_result",
          "data": {
            "text/html": [
              "<div>\n",
              "<style scoped>\n",
              "    .dataframe tbody tr th:only-of-type {\n",
              "        vertical-align: middle;\n",
              "    }\n",
              "\n",
              "    .dataframe tbody tr th {\n",
              "        vertical-align: top;\n",
              "    }\n",
              "\n",
              "    .dataframe thead th {\n",
              "        text-align: right;\n",
              "    }\n",
              "</style>\n",
              "<table border=\"1\" class=\"dataframe\">\n",
              "  <thead>\n",
              "    <tr style=\"text-align: right;\">\n",
              "      <th></th>\n",
              "      <th>gender</th>\n",
              "      <th>SeniorCitizen</th>\n",
              "      <th>Partner</th>\n",
              "      <th>Dependents</th>\n",
              "      <th>tenure</th>\n",
              "      <th>PhoneService</th>\n",
              "      <th>MultipleLines</th>\n",
              "      <th>InternetService</th>\n",
              "      <th>OnlineSecurity</th>\n",
              "      <th>OnlineBackup</th>\n",
              "      <th>DeviceProtection</th>\n",
              "      <th>TechSupport</th>\n",
              "      <th>StreamingTV</th>\n",
              "      <th>StreamingMovies</th>\n",
              "      <th>Contract</th>\n",
              "      <th>PaperlessBilling</th>\n",
              "      <th>PaymentMethod</th>\n",
              "      <th>MonthlyCharges</th>\n",
              "      <th>TotalCharges</th>\n",
              "      <th>Churn</th>\n",
              "    </tr>\n",
              "  </thead>\n",
              "  <tbody>\n",
              "    <tr>\n",
              "      <th>2481</th>\n",
              "      <td>1</td>\n",
              "      <td>1</td>\n",
              "      <td>1</td>\n",
              "      <td>0</td>\n",
              "      <td>61</td>\n",
              "      <td>1</td>\n",
              "      <td>1</td>\n",
              "      <td>0</td>\n",
              "      <td>0</td>\n",
              "      <td>0</td>\n",
              "      <td>0</td>\n",
              "      <td>0</td>\n",
              "      <td>0</td>\n",
              "      <td>0</td>\n",
              "      <td>2</td>\n",
              "      <td>0</td>\n",
              "      <td>0</td>\n",
              "      <td>25.00</td>\n",
              "      <td>1501.75</td>\n",
              "      <td>0</td>\n",
              "    </tr>\n",
              "    <tr>\n",
              "      <th>6784</th>\n",
              "      <td>0</td>\n",
              "      <td>0</td>\n",
              "      <td>0</td>\n",
              "      <td>0</td>\n",
              "      <td>19</td>\n",
              "      <td>1</td>\n",
              "      <td>1</td>\n",
              "      <td>0</td>\n",
              "      <td>0</td>\n",
              "      <td>0</td>\n",
              "      <td>0</td>\n",
              "      <td>0</td>\n",
              "      <td>0</td>\n",
              "      <td>0</td>\n",
              "      <td>0</td>\n",
              "      <td>0</td>\n",
              "      <td>0</td>\n",
              "      <td>24.70</td>\n",
              "      <td>465.85</td>\n",
              "      <td>0</td>\n",
              "    </tr>\n",
              "    <tr>\n",
              "      <th>6125</th>\n",
              "      <td>1</td>\n",
              "      <td>0</td>\n",
              "      <td>1</td>\n",
              "      <td>0</td>\n",
              "      <td>13</td>\n",
              "      <td>1</td>\n",
              "      <td>1</td>\n",
              "      <td>1</td>\n",
              "      <td>0</td>\n",
              "      <td>0</td>\n",
              "      <td>1</td>\n",
              "      <td>0</td>\n",
              "      <td>1</td>\n",
              "      <td>1</td>\n",
              "      <td>0</td>\n",
              "      <td>1</td>\n",
              "      <td>1</td>\n",
              "      <td>102.25</td>\n",
              "      <td>1359.00</td>\n",
              "      <td>1</td>\n",
              "    </tr>\n",
              "    <tr>\n",
              "      <th>3052</th>\n",
              "      <td>1</td>\n",
              "      <td>0</td>\n",
              "      <td>1</td>\n",
              "      <td>0</td>\n",
              "      <td>37</td>\n",
              "      <td>1</td>\n",
              "      <td>1</td>\n",
              "      <td>1</td>\n",
              "      <td>1</td>\n",
              "      <td>0</td>\n",
              "      <td>0</td>\n",
              "      <td>0</td>\n",
              "      <td>0</td>\n",
              "      <td>0</td>\n",
              "      <td>0</td>\n",
              "      <td>1</td>\n",
              "      <td>3</td>\n",
              "      <td>55.05</td>\n",
              "      <td>2030.75</td>\n",
              "      <td>0</td>\n",
              "    </tr>\n",
              "    <tr>\n",
              "      <th>4099</th>\n",
              "      <td>0</td>\n",
              "      <td>0</td>\n",
              "      <td>0</td>\n",
              "      <td>0</td>\n",
              "      <td>6</td>\n",
              "      <td>0</td>\n",
              "      <td>0</td>\n",
              "      <td>1</td>\n",
              "      <td>1</td>\n",
              "      <td>0</td>\n",
              "      <td>0</td>\n",
              "      <td>0</td>\n",
              "      <td>0</td>\n",
              "      <td>0</td>\n",
              "      <td>0</td>\n",
              "      <td>0</td>\n",
              "      <td>0</td>\n",
              "      <td>29.45</td>\n",
              "      <td>161.45</td>\n",
              "      <td>0</td>\n",
              "    </tr>\n",
              "    <tr>\n",
              "      <th>3223</th>\n",
              "      <td>1</td>\n",
              "      <td>0</td>\n",
              "      <td>1</td>\n",
              "      <td>0</td>\n",
              "      <td>3</td>\n",
              "      <td>0</td>\n",
              "      <td>0</td>\n",
              "      <td>1</td>\n",
              "      <td>0</td>\n",
              "      <td>1</td>\n",
              "      <td>0</td>\n",
              "      <td>0</td>\n",
              "      <td>0</td>\n",
              "      <td>0</td>\n",
              "      <td>0</td>\n",
              "      <td>0</td>\n",
              "      <td>1</td>\n",
              "      <td>29.80</td>\n",
              "      <td>94.40</td>\n",
              "      <td>0</td>\n",
              "    </tr>\n",
              "    <tr>\n",
              "      <th>3774</th>\n",
              "      <td>1</td>\n",
              "      <td>1</td>\n",
              "      <td>1</td>\n",
              "      <td>1</td>\n",
              "      <td>52</td>\n",
              "      <td>1</td>\n",
              "      <td>1</td>\n",
              "      <td>1</td>\n",
              "      <td>0</td>\n",
              "      <td>1</td>\n",
              "      <td>1</td>\n",
              "      <td>0</td>\n",
              "      <td>1</td>\n",
              "      <td>1</td>\n",
              "      <td>1</td>\n",
              "      <td>1</td>\n",
              "      <td>2</td>\n",
              "      <td>80.85</td>\n",
              "      <td>4079.55</td>\n",
              "      <td>0</td>\n",
              "    </tr>\n",
              "    <tr>\n",
              "      <th>3469</th>\n",
              "      <td>0</td>\n",
              "      <td>1</td>\n",
              "      <td>0</td>\n",
              "      <td>0</td>\n",
              "      <td>15</td>\n",
              "      <td>1</td>\n",
              "      <td>0</td>\n",
              "      <td>1</td>\n",
              "      <td>0</td>\n",
              "      <td>0</td>\n",
              "      <td>0</td>\n",
              "      <td>0</td>\n",
              "      <td>1</td>\n",
              "      <td>1</td>\n",
              "      <td>0</td>\n",
              "      <td>1</td>\n",
              "      <td>2</td>\n",
              "      <td>91.50</td>\n",
              "      <td>1400.30</td>\n",
              "      <td>0</td>\n",
              "    </tr>\n",
              "  </tbody>\n",
              "</table>\n",
              "</div>"
            ],
            "text/plain": [
              "      gender  SeniorCitizen  Partner  Dependents  tenure  PhoneService  \\\n",
              "2481       1              1        1           0      61             1   \n",
              "6784       0              0        0           0      19             1   \n",
              "6125       1              0        1           0      13             1   \n",
              "3052       1              0        1           0      37             1   \n",
              "4099       0              0        0           0       6             0   \n",
              "3223       1              0        1           0       3             0   \n",
              "3774       1              1        1           1      52             1   \n",
              "3469       0              1        0           0      15             1   \n",
              "\n",
              "      MultipleLines  InternetService  OnlineSecurity  OnlineBackup  \\\n",
              "2481              1                0               0             0   \n",
              "6784              1                0               0             0   \n",
              "6125              1                1               0             0   \n",
              "3052              1                1               1             0   \n",
              "4099              0                1               1             0   \n",
              "3223              0                1               0             1   \n",
              "3774              1                1               0             1   \n",
              "3469              0                1               0             0   \n",
              "\n",
              "      DeviceProtection  TechSupport  StreamingTV  StreamingMovies  Contract  \\\n",
              "2481                 0            0            0                0         2   \n",
              "6784                 0            0            0                0         0   \n",
              "6125                 1            0            1                1         0   \n",
              "3052                 0            0            0                0         0   \n",
              "4099                 0            0            0                0         0   \n",
              "3223                 0            0            0                0         0   \n",
              "3774                 1            0            1                1         1   \n",
              "3469                 0            0            1                1         0   \n",
              "\n",
              "      PaperlessBilling  PaymentMethod  MonthlyCharges  TotalCharges  Churn  \n",
              "2481                 0              0           25.00       1501.75      0  \n",
              "6784                 0              0           24.70        465.85      0  \n",
              "6125                 1              1          102.25       1359.00      1  \n",
              "3052                 1              3           55.05       2030.75      0  \n",
              "4099                 0              0           29.45        161.45      0  \n",
              "3223                 0              1           29.80         94.40      0  \n",
              "3774                 1              2           80.85       4079.55      0  \n",
              "3469                 1              2           91.50       1400.30      0  "
            ]
          },
          "metadata": {
            "tags": []
          },
          "execution_count": 21
        }
      ]
    },
    {
      "cell_type": "code",
      "metadata": {
        "id": "kOzLWeiys9Uh",
        "colab_type": "code",
        "colab": {}
      },
      "source": [
        "# encode Contract, PaymentMethod\n",
        "churn_data[\"Contract\"] = LabelEncoder().fit_transform(churn_data[\"Contract\"])\n",
        "churn_data[\"PaymentMethod\"] = LabelEncoder().fit_transform(churn_data[\"PaymentMethod\"])"
      ],
      "execution_count": 0,
      "outputs": []
    },
    {
      "cell_type": "markdown",
      "metadata": {
        "id": "6w86RPPSuyY7",
        "colab_type": "text"
      },
      "source": [
        "### Normalize Input Data\n"
      ]
    },
    {
      "cell_type": "code",
      "metadata": {
        "id": "RJuEq71WvJN0",
        "colab_type": "code",
        "outputId": "b85f06b8-c997-41bb-ae10-b5263ffbcf2e",
        "colab": {
          "base_uri": "https://localhost:8080/",
          "height": 251
        }
      },
      "source": [
        "# Split into X and y and turn into numpy arays\n",
        "y = churn_data.Churn.values\n",
        "X = churn_data.drop(\"Churn\", axis='columns').values\n",
        "\n",
        "# Scale input data\n",
        "scaler = StandardScaler()\n",
        "X = scaler.fit_transform(X)\n",
        "print(X)"
      ],
      "execution_count": 0,
      "outputs": [
        {
          "output_type": "stream",
          "text": [
            "[[-1.00943013 -0.44032709  1.03561683 ...  0.39980518 -1.16169394\n",
            "  -0.99419409]\n",
            " [ 0.99065797 -0.44032709 -0.9656081  ...  1.33663626 -0.26087792\n",
            "  -0.17373982]\n",
            " [ 0.99065797 -0.44032709 -0.9656081  ...  1.33663626 -0.36392329\n",
            "  -0.95964911]\n",
            " ...\n",
            " [-1.00943013 -0.44032709  1.03561683 ...  0.39980518 -1.17000405\n",
            "  -0.85451414]\n",
            " [ 0.99065797  2.27103902  1.03561683 ...  1.33663626  0.31916782\n",
            "  -0.87209546]\n",
            " [ 0.99065797 -0.44032709 -0.9656081  ... -1.47385696  1.35793167\n",
            "   2.01234407]]\n"
          ],
          "name": "stdout"
        }
      ]
    },
    {
      "cell_type": "markdown",
      "metadata": {
        "id": "7NST1A16wH3b",
        "colab_type": "text"
      },
      "source": [
        "### Model Validation using an automatic verification Dataset\n"
      ]
    },
    {
      "cell_type": "code",
      "metadata": {
        "id": "TFFOcL66vuzx",
        "colab_type": "code",
        "outputId": "1e387cff-b1a7-4e82-c624-a9254340a1b0",
        "colab": {
          "base_uri": "https://localhost:8080/",
          "height": 1981
        }
      },
      "source": [
        "# Important Hyperparameters\n",
        "inputs = X.shape[1]\n",
        "epochs = 50\n",
        "batch_size = 10\n",
        "\n",
        "# Create Model\n",
        "model = Sequential()\n",
        "model.add(Dense(64, activation='relu', input_shape=(inputs,)))\n",
        "model.add(Dense(64, activation='relu'))\n",
        "model.add(Dense(1))\n",
        "# Compile Model\n",
        "model.compile(optimizer='adam', loss='mse', metrics=['mse', 'accuracy'])\n",
        "# Fit Model\n",
        "model.fit(X, y, validation_split=0.2, epochs=epochs, batch_size=batch_size)"
      ],
      "execution_count": 0,
      "outputs": [
        {
          "output_type": "stream",
          "text": [
            "WARNING:tensorflow:From /usr/local/lib/python3.6/dist-packages/tensorflow/python/framework/op_def_library.py:263: colocate_with (from tensorflow.python.framework.ops) is deprecated and will be removed in a future version.\n",
            "Instructions for updating:\n",
            "Colocations handled automatically by placer.\n",
            "WARNING:tensorflow:From /usr/local/lib/python3.6/dist-packages/tensorflow/python/ops/math_ops.py:3066: to_int32 (from tensorflow.python.ops.math_ops) is deprecated and will be removed in a future version.\n",
            "Instructions for updating:\n",
            "Use tf.cast instead.\n",
            "Train on 5625 samples, validate on 1407 samples\n",
            "Epoch 1/50\n",
            "5625/5625 [==============================] - 1s 237us/step - loss: 0.1673 - mean_squared_error: 0.1673 - acc: 0.7668 - val_loss: 0.1493 - val_mean_squared_error: 0.1493 - val_acc: 0.7868\n",
            "Epoch 2/50\n",
            "5625/5625 [==============================] - 1s 127us/step - loss: 0.1428 - mean_squared_error: 0.1428 - acc: 0.7952 - val_loss: 0.1451 - val_mean_squared_error: 0.1451 - val_acc: 0.7960\n",
            "Epoch 3/50\n",
            "5625/5625 [==============================] - 1s 120us/step - loss: 0.1366 - mean_squared_error: 0.1366 - acc: 0.8041 - val_loss: 0.1435 - val_mean_squared_error: 0.1435 - val_acc: 0.7967\n",
            "Epoch 4/50\n",
            "5625/5625 [==============================] - 1s 117us/step - loss: 0.1337 - mean_squared_error: 0.1337 - acc: 0.8066 - val_loss: 0.1442 - val_mean_squared_error: 0.1442 - val_acc: 0.7982\n",
            "Epoch 5/50\n",
            "5625/5625 [==============================] - 1s 116us/step - loss: 0.1320 - mean_squared_error: 0.1320 - acc: 0.8066 - val_loss: 0.1444 - val_mean_squared_error: 0.1444 - val_acc: 0.7896\n",
            "Epoch 6/50\n",
            "5625/5625 [==============================] - 1s 118us/step - loss: 0.1286 - mean_squared_error: 0.1286 - acc: 0.8117 - val_loss: 0.1479 - val_mean_squared_error: 0.1479 - val_acc: 0.7946\n",
            "Epoch 7/50\n",
            "5625/5625 [==============================] - 1s 117us/step - loss: 0.1264 - mean_squared_error: 0.1264 - acc: 0.8160 - val_loss: 0.1470 - val_mean_squared_error: 0.1470 - val_acc: 0.7939\n",
            "Epoch 8/50\n",
            "5625/5625 [==============================] - 1s 121us/step - loss: 0.1252 - mean_squared_error: 0.1252 - acc: 0.8206 - val_loss: 0.1490 - val_mean_squared_error: 0.1490 - val_acc: 0.7903\n",
            "Epoch 9/50\n",
            "5625/5625 [==============================] - 1s 118us/step - loss: 0.1235 - mean_squared_error: 0.1235 - acc: 0.8226 - val_loss: 0.1523 - val_mean_squared_error: 0.1523 - val_acc: 0.8017\n",
            "Epoch 10/50\n",
            "5625/5625 [==============================] - 1s 126us/step - loss: 0.1213 - mean_squared_error: 0.1213 - acc: 0.8272 - val_loss: 0.1526 - val_mean_squared_error: 0.1526 - val_acc: 0.7889\n",
            "Epoch 11/50\n",
            "5625/5625 [==============================] - 1s 132us/step - loss: 0.1188 - mean_squared_error: 0.1188 - acc: 0.8277 - val_loss: 0.1481 - val_mean_squared_error: 0.1481 - val_acc: 0.7974\n",
            "Epoch 12/50\n",
            "5625/5625 [==============================] - 1s 136us/step - loss: 0.1182 - mean_squared_error: 0.1182 - acc: 0.8297 - val_loss: 0.1545 - val_mean_squared_error: 0.1545 - val_acc: 0.7918\n",
            "Epoch 13/50\n",
            "5625/5625 [==============================] - 1s 138us/step - loss: 0.1159 - mean_squared_error: 0.1159 - acc: 0.8356 - val_loss: 0.1546 - val_mean_squared_error: 0.1546 - val_acc: 0.7903\n",
            "Epoch 14/50\n",
            "5625/5625 [==============================] - 1s 136us/step - loss: 0.1136 - mean_squared_error: 0.1136 - acc: 0.8363 - val_loss: 0.1554 - val_mean_squared_error: 0.1554 - val_acc: 0.7868\n",
            "Epoch 15/50\n",
            "5625/5625 [==============================] - 1s 133us/step - loss: 0.1119 - mean_squared_error: 0.1119 - acc: 0.8423 - val_loss: 0.1567 - val_mean_squared_error: 0.1567 - val_acc: 0.7811\n",
            "Epoch 16/50\n",
            "5625/5625 [==============================] - 1s 132us/step - loss: 0.1106 - mean_squared_error: 0.1106 - acc: 0.8432 - val_loss: 0.1578 - val_mean_squared_error: 0.1578 - val_acc: 0.7846\n",
            "Epoch 17/50\n",
            "5625/5625 [==============================] - 1s 127us/step - loss: 0.1079 - mean_squared_error: 0.1079 - acc: 0.8496 - val_loss: 0.1581 - val_mean_squared_error: 0.1581 - val_acc: 0.7804\n",
            "Epoch 18/50\n",
            "5625/5625 [==============================] - 1s 117us/step - loss: 0.1069 - mean_squared_error: 0.1069 - acc: 0.8503 - val_loss: 0.1618 - val_mean_squared_error: 0.1618 - val_acc: 0.7846\n",
            "Epoch 19/50\n",
            "5625/5625 [==============================] - 1s 118us/step - loss: 0.1045 - mean_squared_error: 0.1045 - acc: 0.8580 - val_loss: 0.1678 - val_mean_squared_error: 0.1678 - val_acc: 0.7903\n",
            "Epoch 20/50\n",
            "5625/5625 [==============================] - 1s 117us/step - loss: 0.1026 - mean_squared_error: 0.1026 - acc: 0.8592 - val_loss: 0.1619 - val_mean_squared_error: 0.1619 - val_acc: 0.7825\n",
            "Epoch 21/50\n",
            "5625/5625 [==============================] - 1s 118us/step - loss: 0.1010 - mean_squared_error: 0.1010 - acc: 0.8606 - val_loss: 0.1668 - val_mean_squared_error: 0.1668 - val_acc: 0.7854\n",
            "Epoch 22/50\n",
            "5625/5625 [==============================] - 1s 116us/step - loss: 0.0990 - mean_squared_error: 0.0990 - acc: 0.8661 - val_loss: 0.1776 - val_mean_squared_error: 0.1776 - val_acc: 0.7726\n",
            "Epoch 23/50\n",
            "5625/5625 [==============================] - 1s 122us/step - loss: 0.0983 - mean_squared_error: 0.0983 - acc: 0.8638 - val_loss: 0.1737 - val_mean_squared_error: 0.1737 - val_acc: 0.7697\n",
            "Epoch 24/50\n",
            "5625/5625 [==============================] - 1s 117us/step - loss: 0.0963 - mean_squared_error: 0.0963 - acc: 0.8743 - val_loss: 0.1695 - val_mean_squared_error: 0.1695 - val_acc: 0.7711\n",
            "Epoch 25/50\n",
            "5625/5625 [==============================] - 1s 117us/step - loss: 0.0944 - mean_squared_error: 0.0944 - acc: 0.8715 - val_loss: 0.1726 - val_mean_squared_error: 0.1726 - val_acc: 0.7711\n",
            "Epoch 26/50\n",
            "5625/5625 [==============================] - 1s 117us/step - loss: 0.0941 - mean_squared_error: 0.0941 - acc: 0.8732 - val_loss: 0.1786 - val_mean_squared_error: 0.1786 - val_acc: 0.7719\n",
            "Epoch 27/50\n",
            "5625/5625 [==============================] - 1s 116us/step - loss: 0.0925 - mean_squared_error: 0.0925 - acc: 0.8768 - val_loss: 0.1721 - val_mean_squared_error: 0.1721 - val_acc: 0.7662\n",
            "Epoch 28/50\n",
            "5625/5625 [==============================] - 1s 115us/step - loss: 0.0918 - mean_squared_error: 0.0918 - acc: 0.8764 - val_loss: 0.1776 - val_mean_squared_error: 0.1776 - val_acc: 0.7754\n",
            "Epoch 29/50\n",
            "5625/5625 [==============================] - 1s 114us/step - loss: 0.0896 - mean_squared_error: 0.0896 - acc: 0.8841 - val_loss: 0.1802 - val_mean_squared_error: 0.1802 - val_acc: 0.7655\n",
            "Epoch 30/50\n",
            "5625/5625 [==============================] - 1s 117us/step - loss: 0.0889 - mean_squared_error: 0.0889 - acc: 0.8853 - val_loss: 0.1781 - val_mean_squared_error: 0.1781 - val_acc: 0.7619\n",
            "Epoch 31/50\n",
            "5625/5625 [==============================] - 1s 116us/step - loss: 0.0876 - mean_squared_error: 0.0876 - acc: 0.8859 - val_loss: 0.1849 - val_mean_squared_error: 0.1849 - val_acc: 0.7783\n",
            "Epoch 32/50\n",
            "5625/5625 [==============================] - 1s 115us/step - loss: 0.0868 - mean_squared_error: 0.0868 - acc: 0.8871 - val_loss: 0.1870 - val_mean_squared_error: 0.1870 - val_acc: 0.7569\n",
            "Epoch 33/50\n",
            "5625/5625 [==============================] - 1s 118us/step - loss: 0.0851 - mean_squared_error: 0.0851 - acc: 0.8850 - val_loss: 0.1834 - val_mean_squared_error: 0.1834 - val_acc: 0.7591\n",
            "Epoch 34/50\n",
            "5625/5625 [==============================] - 1s 115us/step - loss: 0.0850 - mean_squared_error: 0.0850 - acc: 0.8926 - val_loss: 0.1848 - val_mean_squared_error: 0.1848 - val_acc: 0.7562\n",
            "Epoch 35/50\n",
            "5625/5625 [==============================] - 1s 115us/step - loss: 0.0832 - mean_squared_error: 0.0832 - acc: 0.8924 - val_loss: 0.1914 - val_mean_squared_error: 0.1914 - val_acc: 0.7605\n",
            "Epoch 36/50\n",
            "5625/5625 [==============================] - 1s 117us/step - loss: 0.0822 - mean_squared_error: 0.0822 - acc: 0.8964 - val_loss: 0.1868 - val_mean_squared_error: 0.1868 - val_acc: 0.7704\n",
            "Epoch 37/50\n",
            "5625/5625 [==============================] - 1s 118us/step - loss: 0.0813 - mean_squared_error: 0.0813 - acc: 0.8958 - val_loss: 0.1855 - val_mean_squared_error: 0.1855 - val_acc: 0.7711\n",
            "Epoch 38/50\n",
            "5625/5625 [==============================] - 1s 119us/step - loss: 0.0814 - mean_squared_error: 0.0814 - acc: 0.8987 - val_loss: 0.1876 - val_mean_squared_error: 0.1876 - val_acc: 0.7683\n",
            "Epoch 39/50\n",
            "5625/5625 [==============================] - 1s 118us/step - loss: 0.0808 - mean_squared_error: 0.0808 - acc: 0.8974 - val_loss: 0.1947 - val_mean_squared_error: 0.1947 - val_acc: 0.7640\n",
            "Epoch 40/50\n",
            "5625/5625 [==============================] - 1s 117us/step - loss: 0.0805 - mean_squared_error: 0.0805 - acc: 0.8964 - val_loss: 0.1940 - val_mean_squared_error: 0.1940 - val_acc: 0.7655\n",
            "Epoch 41/50\n",
            "5625/5625 [==============================] - 1s 119us/step - loss: 0.0789 - mean_squared_error: 0.0789 - acc: 0.8980 - val_loss: 0.1908 - val_mean_squared_error: 0.1908 - val_acc: 0.7584\n",
            "Epoch 42/50\n",
            "5625/5625 [==============================] - 1s 118us/step - loss: 0.0778 - mean_squared_error: 0.0778 - acc: 0.9028 - val_loss: 0.1897 - val_mean_squared_error: 0.1897 - val_acc: 0.7584\n",
            "Epoch 43/50\n",
            "5625/5625 [==============================] - 1s 116us/step - loss: 0.0774 - mean_squared_error: 0.0774 - acc: 0.9017 - val_loss: 0.1933 - val_mean_squared_error: 0.1933 - val_acc: 0.7541\n",
            "Epoch 44/50\n",
            "5625/5625 [==============================] - 1s 118us/step - loss: 0.0753 - mean_squared_error: 0.0753 - acc: 0.9084 - val_loss: 0.1943 - val_mean_squared_error: 0.1943 - val_acc: 0.7584\n",
            "Epoch 45/50\n",
            "5625/5625 [==============================] - 1s 118us/step - loss: 0.0755 - mean_squared_error: 0.0755 - acc: 0.9083 - val_loss: 0.1965 - val_mean_squared_error: 0.1965 - val_acc: 0.7619\n",
            "Epoch 46/50\n",
            "5625/5625 [==============================] - 1s 118us/step - loss: 0.0755 - mean_squared_error: 0.0755 - acc: 0.9077 - val_loss: 0.1961 - val_mean_squared_error: 0.1961 - val_acc: 0.7520\n",
            "Epoch 47/50\n",
            "5625/5625 [==============================] - 1s 119us/step - loss: 0.0744 - mean_squared_error: 0.0744 - acc: 0.9108 - val_loss: 0.1987 - val_mean_squared_error: 0.1987 - val_acc: 0.7541\n",
            "Epoch 48/50\n",
            "5625/5625 [==============================] - 1s 120us/step - loss: 0.0740 - mean_squared_error: 0.0740 - acc: 0.9084 - val_loss: 0.1999 - val_mean_squared_error: 0.1999 - val_acc: 0.7598\n",
            "Epoch 49/50\n",
            "5625/5625 [==============================] - 1s 117us/step - loss: 0.0732 - mean_squared_error: 0.0732 - acc: 0.9086 - val_loss: 0.2057 - val_mean_squared_error: 0.2057 - val_acc: 0.7498\n",
            "Epoch 50/50\n",
            "5625/5625 [==============================] - 1s 118us/step - loss: 0.0722 - mean_squared_error: 0.0722 - acc: 0.9140 - val_loss: 0.1968 - val_mean_squared_error: 0.1968 - val_acc: 0.7569\n"
          ],
          "name": "stdout"
        },
        {
          "output_type": "execute_result",
          "data": {
            "text/plain": [
              "<keras.callbacks.History at 0x7f46d7bb7d68>"
            ]
          },
          "metadata": {
            "tags": []
          },
          "execution_count": 25
        }
      ]
    },
    {
      "cell_type": "code",
      "metadata": {
        "id": "NxUhe7ZAwqH0",
        "colab_type": "code",
        "outputId": "ada7ab39-5561-4237-a729-40ef80c984b7",
        "colab": {
          "base_uri": "https://localhost:8080/",
          "height": 143
        }
      },
      "source": [
        "scores = model.evaluate(X, y, steps=50)\n",
        "i = 0\n",
        "for item in model.metrics_names:\n",
        "  print(item + ':')\n",
        "  print(scores[i])\n",
        "  i += 1"
      ],
      "execution_count": 0,
      "outputs": [
        {
          "output_type": "stream",
          "text": [
            "50/50 [==============================] - 0s 6ms/step\n",
            "loss:\n",
            "0.09034765511751175\n",
            "mean_squared_error:\n",
            "0.09034765511751175\n",
            "acc:\n",
            "0.891922652721405\n"
          ],
          "name": "stdout"
        }
      ]
    },
    {
      "cell_type": "markdown",
      "metadata": {
        "id": "XFN7YWojzCjP",
        "colab_type": "text"
      },
      "source": [
        "### Manual K-fold Cross Validation (regression)\n"
      ]
    },
    {
      "cell_type": "code",
      "metadata": {
        "id": "gGAHRHi2yuRw",
        "colab_type": "code",
        "outputId": "05afc92b-329f-4ebb-e5f8-c078ca717388",
        "colab": {
          "base_uri": "https://localhost:8080/",
          "height": 35
        }
      },
      "source": [
        "# Important Hyperparameters\n",
        "inputs = X.shape[1] # number of cols\n",
        "epochs = 50\n",
        "batch_size = 10\n",
        "\n",
        "# Random Seed\n",
        "seed = 42\n",
        "numpy.random.seed(seed)\n",
        "\n",
        "# define base model\n",
        "def baseline_model():\n",
        "  # create model\n",
        "  model = Sequential()\n",
        "  model.add(Dense(64, input_dim=inputs, activation='relu')) \n",
        "  model.add(Dense(64, activation='relu')) \n",
        "  model.add(Dense(1))\n",
        "  # Compile model\n",
        "  model.compile(loss='mean_squared_error', optimizer='adam')\n",
        "  return model\n",
        "\n",
        "# evaluate model with standardized dataset\n",
        "estimators = []\n",
        "estimators.append(('standardize', StandardScaler()))\n",
        "estimators.append(('mlp', KerasRegressor(build_fn=baseline_model, epochs=epochs,\n",
        "                                         batch_size=batch_size, verbose=0)))\n",
        "pipeline = Pipeline(estimators)\n",
        "kfold = KFold(n_splits=5, random_state=seed)\n",
        "results = cross_val_score(pipeline, X, y, cv=kfold)\n",
        "print(f\"K-fold Cross-Val Results - Mean: {-results.mean():.2f} StDev: {results.std():.2f} MSE\")"
      ],
      "execution_count": 0,
      "outputs": [
        {
          "output_type": "stream",
          "text": [
            "K-fold Cross-Val Results - Mean: 0.20 StDev: 0.00 MSE\n"
          ],
          "name": "stdout"
        }
      ]
    },
    {
      "cell_type": "code",
      "metadata": {
        "id": "caNhRwS43Gcn",
        "colab_type": "code",
        "outputId": "1048d3d6-3005-4dfb-a003-c283a54b47dc",
        "colab": {
          "base_uri": "https://localhost:8080/",
          "height": 35
        }
      },
      "source": [
        "results"
      ],
      "execution_count": 0,
      "outputs": [
        {
          "output_type": "execute_result",
          "data": {
            "text/plain": [
              "array([-0.20511805, -0.19367162, -0.2034683 , -0.19679176, -0.20065535])"
            ]
          },
          "metadata": {
            "tags": []
          },
          "execution_count": 38
        }
      ]
    },
    {
      "cell_type": "markdown",
      "metadata": {
        "id": "kFijWwHJBmzP",
        "colab_type": "text"
      },
      "source": [
        "### Tune Batch and Epoch Hyperparameters"
      ]
    },
    {
      "cell_type": "code",
      "metadata": {
        "id": "HR6kMs_rDimP",
        "colab_type": "code",
        "colab": {
          "base_uri": "https://localhost:8080/",
          "height": 35
        },
        "outputId": "9c28e41c-ca64-417d-ca20-6d912fe757a6"
      },
      "source": [
        "X.shape"
      ],
      "execution_count": 43,
      "outputs": [
        {
          "output_type": "execute_result",
          "data": {
            "text/plain": [
              "(7032, 19)"
            ]
          },
          "metadata": {
            "tags": []
          },
          "execution_count": 43
        }
      ]
    },
    {
      "cell_type": "code",
      "metadata": {
        "id": "go6lyN6DBnhk",
        "colab_type": "code",
        "colab": {
          "base_uri": "https://localhost:8080/",
          "height": 397
        },
        "outputId": "849480e8-3c2a-46f2-d4ef-f4e309c45afd"
      },
      "source": [
        "# Function to create model, required for KerasClassifier\n",
        "def create_model():\n",
        "\t# create model\n",
        "\tmodel = Sequential()\n",
        "\tmodel.add(Dense(12, input_dim=19, activation='relu'))\n",
        "\tmodel.add(Dense(1, activation='sigmoid'))\n",
        "\t# Compile model\n",
        "\tmodel.compile(loss='binary_crossentropy',\n",
        "                optimizer='adam', metrics=['accuracy'])\n",
        "\treturn model\n",
        "\n",
        "# create model\n",
        "model = KerasClassifier(build_fn=create_model, verbose=1)\n",
        "\n",
        "# define the grid search parameters\n",
        "# batch_size = [10, 20, 40, 60, 80, 100]\n",
        "# param_grid = dict(batch_size=batch_size, epochs=epochs)\n",
        "\n",
        "# define the grid search parameters\n",
        "param_grid = {'batch_size': [10, 20, 50, 80, 100],\n",
        "              'epochs': [20, 40, 60]}\n",
        "\n",
        "# Create Grid Search\n",
        "grid = GridSearchCV(estimator=model, param_grid=param_grid, n_jobs=-1)\n",
        "grid_result = grid.fit(X, y, verbose=0)\n",
        "\n",
        "# Report Results\n",
        "print(f\"Best: {grid_result.best_score_} using {grid_result.best_params_}\")\n",
        "means = grid_result.cv_results_['mean_test_score']\n",
        "stds = grid_result.cv_results_['std_test_score']\n",
        "params = grid_result.cv_results_['params']\n",
        "for mean, stdev, param in zip(means, stds, params):\n",
        "    print(f\"Means: {mean}, Stdev: {stdev} with: {param}\") "
      ],
      "execution_count": 44,
      "outputs": [
        {
          "output_type": "stream",
          "text": [
            "/usr/local/lib/python3.6/dist-packages/sklearn/model_selection/_split.py:2053: FutureWarning: You should specify a value for 'cv' instead of relying on the default value. The default value will change from 3 to 5 in version 0.22.\n",
            "  warnings.warn(CV_WARNING, FutureWarning)\n",
            "/usr/local/lib/python3.6/dist-packages/sklearn/externals/joblib/externals/loky/process_executor.py:706: UserWarning: A worker stopped while some jobs were given to the executor. This can be caused by a too short worker timeout or by a memory leak.\n",
            "  \"timeout or by a memory leak.\", UserWarning\n"
          ],
          "name": "stderr"
        },
        {
          "output_type": "stream",
          "text": [
            "Best: 0.8026166044268863 using {'batch_size': 100, 'epochs': 60}\n",
            "Means: 0.7956484615107716, Stdev: 0.0003483339713811189 with: {'batch_size': 10, 'epochs': 20}\n",
            "Means: 0.7982081877697043, Stdev: 0.004528350659577554 with: {'batch_size': 10, 'epochs': 40}\n",
            "Means: 0.7999146723520091, Stdev: 0.0026298694978172596 with: {'batch_size': 10, 'epochs': 60}\n",
            "Means: 0.7962172938017037, Stdev: 0.0010641807150045324 with: {'batch_size': 20, 'epochs': 20}\n",
            "Means: 0.795648464435061, Stdev: 0.002764820834560438 with: {'batch_size': 20, 'epochs': 40}\n",
            "Means: 0.8013367482690952, Stdev: 0.0023193259092087162 with: {'batch_size': 20, 'epochs': 60}\n",
            "Means: 0.793657561295811, Stdev: 0.0020996622269581636 with: {'batch_size': 50, 'epochs': 20}\n",
            "Means: 0.7966439070961988, Stdev: 0.0019184753074200226 with: {'batch_size': 50, 'epochs': 40}\n",
            "Means: 0.7928043185681342, Stdev: 0.002099662950299902 with: {'batch_size': 50, 'epochs': 60}\n",
            "Means: 0.7918088738557557, Stdev: 0.0019394472149241004 with: {'batch_size': 80, 'epochs': 20}\n",
            "Means: 0.7952218453089396, Stdev: 0.0006966673614188656 with: {'batch_size': 80, 'epochs': 40}\n",
            "Means: 0.7963594967865971, Stdev: 0.003236576927441375 with: {'batch_size': 80, 'epochs': 60}\n",
            "Means: 0.7952218413081727, Stdev: 0.0036367227078329834 with: {'batch_size': 100, 'epochs': 20}\n",
            "Means: 0.7960750806453691, Stdev: 0.003359218402121395 with: {'batch_size': 100, 'epochs': 40}\n",
            "Means: 0.8026166044268863, Stdev: 0.001718296028792691 with: {'batch_size': 100, 'epochs': 60}\n"
          ],
          "name": "stdout"
        }
      ]
    },
    {
      "cell_type": "markdown",
      "metadata": {
        "id": "FfZRtJ7MCN3x",
        "colab_type": "text"
      },
      "source": [
        "## Stretch Goals:\n",
        "\n",
        "- Try to implement Random Search Hyperparameter Tuning on this dataset\n",
        "- Try to implement Bayesian Optimiation tuning on this dataset\n",
        "- Practice hyperparameter tuning other datasets that we have looked at. How high can you get MNIST? Above 99%?\n",
        "- Study for the Sprint Challenge\n",
        " - Can you implement both perceptron and MLP models from scratch with forward and backpropagation?\n",
        " - Can you implement both perceptron and MLP models in keras and tune their hyperparameters with cross validation?"
      ]
    },
    {
      "cell_type": "markdown",
      "metadata": {
        "id": "JsVyyrOhLpyf",
        "colab_type": "text"
      },
      "source": [
        "### Tune Optimizer Hyperparameters"
      ]
    },
    {
      "cell_type": "code",
      "metadata": {
        "id": "nbX1AsBnNzAR",
        "colab_type": "code",
        "colab": {}
      },
      "source": [
        "# Function to create model, add optimizer, learning rate params\n",
        "def create_opt_model(optimizer=SGD,\n",
        "                     lr=0.0001):\n",
        "\t# create model\n",
        "\tmodel = Sequential()\n",
        "\tmodel.add(Dense(12, input_dim=19, activation='relu'))\n",
        "\tmodel.add(Dense(1, activation='sigmoid'))\n",
        "\toptimizer=optimizer(lr=lr)\n",
        "  # Compile model\n",
        "\tmodel.compile(loss='binary_crossentropy',\n",
        "                optimizer='adam', metrics=['accuracy'])\n",
        "\treturn model\n"
      ],
      "execution_count": 0,
      "outputs": []
    },
    {
      "cell_type": "code",
      "metadata": {
        "id": "mvI2FbAKLnPG",
        "colab_type": "code",
        "colab": {
          "base_uri": "https://localhost:8080/",
          "height": 343
        },
        "outputId": "9911da12-4214-4f3e-ebe5-8e9b491b7d2a"
      },
      "source": [
        "# use 'batch_size': 100, 'epochs': 60 - gave best results in previous step\n",
        "model = KerasClassifier(build_fn=create_opt_model, batch_size=100,\n",
        "                        epochs=60, verbose=0)\n",
        "\n",
        "# define the grid search parameters\n",
        "param_grid = {'optimizer': [SGD, Adam, Nadam],\n",
        "              'lr': [.01, .001, .0001, .00001]} # learning rate\n",
        "\n",
        "# Create Grid Search\n",
        "grid = GridSearchCV(estimator=model, param_grid=param_grid, n_jobs=-1)\n",
        "grid_result = grid.fit(X, y)\n",
        "\n",
        "# Report Results\n",
        "print(f\"Best: {grid_result.best_score_} using {grid_result.best_params_}\")\n",
        "means = grid_result.cv_results_['mean_test_score']\n",
        "stds = grid_result.cv_results_['std_test_score']\n",
        "params = grid_result.cv_results_['params']\n",
        "for mean, stdev, param in zip(means, stds, params):\n",
        "    print(f\"Means: {mean}, Stdev: {stdev} with: {param}\")"
      ],
      "execution_count": 53,
      "outputs": [
        {
          "output_type": "stream",
          "text": [
            "/usr/local/lib/python3.6/dist-packages/sklearn/model_selection/_split.py:2053: FutureWarning: You should specify a value for 'cv' instead of relying on the default value. The default value will change from 3 to 5 in version 0.22.\n",
            "  warnings.warn(CV_WARNING, FutureWarning)\n",
            "/usr/local/lib/python3.6/dist-packages/sklearn/externals/joblib/externals/loky/process_executor.py:706: UserWarning: A worker stopped while some jobs were given to the executor. This can be caused by a too short worker timeout or by a memory leak.\n",
            "  \"timeout or by a memory leak.\", UserWarning\n"
          ],
          "name": "stderr"
        },
        {
          "output_type": "stream",
          "text": [
            "Best: 0.8000568802785276 using {'lr': 0.01, 'optimizer': <class 'keras.optimizers.Adam'>}\n",
            "Means: 0.798919219850002, Stdev: 0.002471297359106882 with: {'lr': 0.01, 'optimizer': <class 'keras.optimizers.SGD'>}\n",
            "Means: 0.8000568802785276, Stdev: 0.0036588935785468795 with: {'lr': 0.01, 'optimizer': <class 'keras.optimizers.Adam'>}\n",
            "Means: 0.7959328733545658, Stdev: 0.0022664082892948356 with: {'lr': 0.01, 'optimizer': <class 'keras.optimizers.Nadam'>}\n",
            "Means: 0.7989192240881025, Stdev: 0.005217274751769921 with: {'lr': 0.001, 'optimizer': <class 'keras.optimizers.SGD'>}\n",
            "Means: 0.7972127381580817, Stdev: 0.0019184781259646852 with: {'lr': 0.001, 'optimizer': <class 'keras.optimizers.Adam'>}\n",
            "Means: 0.7993458443669872, Stdev: 0.004007114531153727 with: {'lr': 0.001, 'optimizer': <class 'keras.optimizers.Nadam'>}\n",
            "Means: 0.7972127402262748, Stdev: 0.0007251186750570698 with: {'lr': 0.0001, 'optimizer': <class 'keras.optimizers.SGD'>}\n",
            "Means: 0.7957906668096679, Stdev: 0.003236576075342453 with: {'lr': 0.0001, 'optimizer': <class 'keras.optimizers.Adam'>}\n",
            "Means: 0.7989192261562955, Stdev: 0.0005320887581745647 with: {'lr': 0.0001, 'optimizer': <class 'keras.optimizers.Nadam'>}\n",
            "Means: 0.7939419797934227, Stdev: 0.002413331686370577 with: {'lr': 1e-05, 'optimizer': <class 'keras.optimizers.SGD'>}\n",
            "Means: 0.796786121167963, Stdev: 0.004805674397641652 with: {'lr': 1e-05, 'optimizer': <class 'keras.optimizers.Adam'>}\n",
            "Means: 0.7990614310059531, Stdev: 0.0015962727715267337 with: {'lr': 1e-05, 'optimizer': <class 'keras.optimizers.Nadam'>}\n"
          ],
          "name": "stdout"
        }
      ]
    }
  ]
}