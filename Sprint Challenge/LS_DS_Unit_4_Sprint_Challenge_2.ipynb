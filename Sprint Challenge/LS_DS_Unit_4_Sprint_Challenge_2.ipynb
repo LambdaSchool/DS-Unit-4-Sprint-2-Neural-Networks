{
 "cells": [
  {
   "cell_type": "markdown",
   "metadata": {},
   "source": [
    "<img align=\"left\" src=\"https://lever-client-logos.s3.amazonaws.com/864372b1-534c-480e-acd5-9711f850815c-1524247202159.png\" width=200>\n",
    "<br></br>\n",
    "<br></br>\n",
    "\n",
    "## *Data Science Unit 4 Sprint 2*\n",
    "\n",
    "# Sprint Challenge - Neural Network Foundations\n",
    "\n",
    "Table of Problems\n",
    "\n",
    "1. [Defining Neural Networks](#Q1)\n",
    "2. [Chocolate Gummy Bears](#Q2)\n",
    "    - Perceptron\n",
    "    - Multilayer Perceptron\n",
    "4. [Keras MMP](#Q3)"
   ]
  },
  {
   "cell_type": "markdown",
   "metadata": {},
   "source": [
    "<a id=\"Q1\"></a>\n",
    "## 1. Define the following terms:\n",
    "\n",
    "- **Neuron:** A neuron is the fundamental building block of a neural network. It consists of a set of weights (used to generate a weighted sum of inputs) and an activation, or transfer, function (run on the aforementioned weighted sum to produce an output).\n",
    "\n",
    "- **Input Layer:** Neurons in the first, or input, layer of a neural network contain a number weights equal to the number of external inputs, bias term included.\n",
    "\n",
    "- **Hidden Layer:** Every neural network does not contain a hidden layer, although most do, and this is necessary for complete classification of problems that are not linearly separable. Nodes in a hidden layer contain a number of weights equal to the number of nodes in the previous layer, plus an optional bias term. ReLU activation functions are very commonly used in hidden layers.\n",
    "\n",
    "- **Output Layer:** Neurons in the output layer of a neural network contain a number of weights equal to the number of neurons in the preceding layer, plus an optional bias term. Many networks have only a single output neuron, although some may have more. \n",
    "\n",
    "- **Activation:** The activation function of a neuron transforms the weighted sum it calculates into an output (generally with some given set of properties). Common activation functions include the sigmoid and tanh functions, as well as the ReLU family of functions. The identity function can also be considered an activation function!\n",
    "\n",
    "- **Backpropagation:** Just as a neural network propagates information about its inputs *forward* through its layers, so it propagates information about the error as compared with a target output *backward* through those same layers. This allows the weights in those layers to be updated little by little, gradually reducing the error produced by the network."
   ]
  },
  {
   "cell_type": "markdown",
   "metadata": {},
   "source": [
    "## 2. Chocolate Gummy Bears <a id=\"Q2\"></a>\n",
    "\n",
    "Right now, you're probably thinking, \"yuck, who the hell would eat that?\". Great question. Your candy company wants to know too. And you thought I was kidding about the [Chocolate Gummy Bears](https://nuts.com/chocolatessweets/gummies/gummy-bears/milk-gummy-bears.html?utm_source=google&utm_medium=cpc&adpos=1o1&gclid=Cj0KCQjwrfvsBRD7ARIsAKuDvMOZrysDku3jGuWaDqf9TrV3x5JLXt1eqnVhN0KM6fMcbA1nod3h8AwaAvWwEALw_wcB). \n",
    "\n",
    "Let's assume that a candy company has gone out and collected information on the types of Halloween candy kids ate. Our candy company wants to predict the eating behavior of witches, warlocks, and ghosts -- aka costumed kids. They shared a sample dataset with us. Each row represents a piece of candy that a costumed child was presented with during \"trick\" or \"treat\". We know if the candy was `chocolate` (or not chocolate) or `gummy` (or not gummy). Your goal is to predict if the costumed kid `ate` the piece of candy. \n",
    "\n",
    "If both chocolate and gummy equal one, you've got a chocolate gummy bear on your hands!?!?!\n",
    "![Chocolate Gummy Bear](https://ed910ae2d60f0d25bcb8-80550f96b5feb12604f4f720bfefb46d.ssl.cf1.rackcdn.com/3fb630c04435b7b5-2leZuM7_-zoom.jpg)"
   ]
  },
  {
   "cell_type": "code",
   "execution_count": 1,
   "metadata": {},
   "outputs": [],
   "source": [
    "# Import libraries.\n",
    "import matplotlib.pyplot as plt\n",
    "import numpy as np\n",
    "import pandas as pd\n",
    "\n",
    "from scipy import optimize\n",
    "from sklearn.metrics import accuracy_score\n",
    "from sklearn.model_selection import GridSearchCV\n",
    "from sklearn.preprocessing import StandardScaler\n",
    "\n",
    "# TensorFlow and tf.keras\n",
    "import tensorflow as tf\n",
    "from tensorflow import keras\n",
    "from tensorflow.keras.wrappers.scikit_learn import KerasClassifier"
   ]
  },
  {
   "cell_type": "code",
   "execution_count": 2,
   "metadata": {},
   "outputs": [],
   "source": [
    "# Set random seed for reproducibility.\n",
    "np.random.seed(0)"
   ]
  },
  {
   "cell_type": "code",
   "execution_count": 3,
   "metadata": {
    "inputHidden": false,
    "jupyter": {
     "outputs_hidden": false
    },
    "outputHidden": false
   },
   "outputs": [],
   "source": [
    "# Load data.\n",
    "candy = pd.read_csv('chocolate_gummy_bears.csv')"
   ]
  },
  {
   "cell_type": "code",
   "execution_count": 4,
   "metadata": {},
   "outputs": [
    {
     "data": {
      "text/plain": [
       "(10000, 3)"
      ]
     },
     "execution_count": 4,
     "metadata": {},
     "output_type": "execute_result"
    }
   ],
   "source": [
    "# Check data shape.\n",
    "candy.shape"
   ]
  },
  {
   "cell_type": "code",
   "execution_count": 5,
   "metadata": {
    "inputHidden": false,
    "jupyter": {
     "outputs_hidden": false
    },
    "outputHidden": false
   },
   "outputs": [
    {
     "data": {
      "text/html": [
       "<div>\n",
       "<style scoped>\n",
       "    .dataframe tbody tr th:only-of-type {\n",
       "        vertical-align: middle;\n",
       "    }\n",
       "\n",
       "    .dataframe tbody tr th {\n",
       "        vertical-align: top;\n",
       "    }\n",
       "\n",
       "    .dataframe thead th {\n",
       "        text-align: right;\n",
       "    }\n",
       "</style>\n",
       "<table border=\"1\" class=\"dataframe\">\n",
       "  <thead>\n",
       "    <tr style=\"text-align: right;\">\n",
       "      <th></th>\n",
       "      <th>chocolate</th>\n",
       "      <th>gummy</th>\n",
       "      <th>ate</th>\n",
       "    </tr>\n",
       "  </thead>\n",
       "  <tbody>\n",
       "    <tr>\n",
       "      <th>0</th>\n",
       "      <td>0</td>\n",
       "      <td>1</td>\n",
       "      <td>1</td>\n",
       "    </tr>\n",
       "    <tr>\n",
       "      <th>1</th>\n",
       "      <td>1</td>\n",
       "      <td>0</td>\n",
       "      <td>1</td>\n",
       "    </tr>\n",
       "    <tr>\n",
       "      <th>2</th>\n",
       "      <td>0</td>\n",
       "      <td>1</td>\n",
       "      <td>1</td>\n",
       "    </tr>\n",
       "    <tr>\n",
       "      <th>3</th>\n",
       "      <td>0</td>\n",
       "      <td>0</td>\n",
       "      <td>0</td>\n",
       "    </tr>\n",
       "    <tr>\n",
       "      <th>4</th>\n",
       "      <td>1</td>\n",
       "      <td>1</td>\n",
       "      <td>0</td>\n",
       "    </tr>\n",
       "  </tbody>\n",
       "</table>\n",
       "</div>"
      ],
      "text/plain": [
       "   chocolate  gummy  ate\n",
       "0          0      1    1\n",
       "1          1      0    1\n",
       "2          0      1    1\n",
       "3          0      0    0\n",
       "4          1      1    0"
      ]
     },
     "execution_count": 5,
     "metadata": {},
     "output_type": "execute_result"
    }
   ],
   "source": [
    "# Preview data.\n",
    "candy.head()"
   ]
  },
  {
   "cell_type": "code",
   "execution_count": 6,
   "metadata": {},
   "outputs": [
    {
     "data": {
      "text/plain": [
       "0    2377\n",
       "1     141\n",
       "Name: ate, dtype: int64"
      ]
     },
     "execution_count": 6,
     "metadata": {},
     "output_type": "execute_result"
    }
   ],
   "source": [
    "# Candies that are neither chocolate nor gummy.\n",
    "# Mostly not eaten (94.4%).\n",
    "candy[candy['chocolate'] + candy['gummy'] == 0]['ate'].value_counts()"
   ]
  },
  {
   "cell_type": "code",
   "execution_count": 7,
   "metadata": {},
   "outputs": [
    {
     "data": {
      "text/plain": [
       "1    2360\n",
       "0     131\n",
       "Name: ate, dtype: int64"
      ]
     },
     "execution_count": 7,
     "metadata": {},
     "output_type": "execute_result"
    }
   ],
   "source": [
    "# Candies that are gummy but not chocolate.\n",
    "# Mostly eaten (94.8%).\n",
    "candy[(candy['chocolate'] == 0) & (candy['gummy'] == 1)]['ate'].value_counts()"
   ]
  },
  {
   "cell_type": "code",
   "execution_count": 8,
   "metadata": {},
   "outputs": [
    {
     "data": {
      "text/plain": [
       "1    2359\n",
       "0     130\n",
       "Name: ate, dtype: int64"
      ]
     },
     "execution_count": 8,
     "metadata": {},
     "output_type": "execute_result"
    }
   ],
   "source": [
    "# Candies that are chocolate but not gummy.\n",
    "# Mostly eaten (94.8%).\n",
    "candy[(candy['chocolate'] == 1) & (candy['gummy'] == 0)]['ate'].value_counts()"
   ]
  },
  {
   "cell_type": "code",
   "execution_count": 9,
   "metadata": {},
   "outputs": [
    {
     "data": {
      "text/plain": [
       "0    2362\n",
       "1     140\n",
       "Name: ate, dtype: int64"
      ]
     },
     "execution_count": 9,
     "metadata": {},
     "output_type": "execute_result"
    }
   ],
   "source": [
    "# Candies that are both chocolate and gummy.\n",
    "# Mostly not eaten (94.4%).\n",
    "candy[candy['chocolate'] + candy['gummy'] == 2]['ate'].value_counts()"
   ]
  },
  {
   "cell_type": "code",
   "execution_count": 10,
   "metadata": {},
   "outputs": [
    {
     "data": {
      "text/plain": [
       "True     9458\n",
       "False     542\n",
       "dtype: int64"
      ]
     },
     "execution_count": 10,
     "metadata": {},
     "output_type": "execute_result"
    }
   ],
   "source": [
    "# Do not do any feature engineering (xor function).\n",
    "xor_candy = (candy['chocolate'] + candy['gummy']) % 2\n",
    "(xor_candy == candy['ate']).value_counts()"
   ]
  },
  {
   "cell_type": "code",
   "execution_count": 11,
   "metadata": {},
   "outputs": [
    {
     "data": {
      "text/plain": [
       "True     0.9458\n",
       "False    0.0542\n",
       "dtype: float64"
      ]
     },
     "execution_count": 11,
     "metadata": {},
     "output_type": "execute_result"
    }
   ],
   "source": [
    "# Do not normalize any feature engineering (it's just moving\n",
    "# the decimal point anyway, since we have an even 10k examples.\n",
    "#\n",
    "# (Exclusive or accuracy 94.6%.)\n",
    "(xor_candy == candy['ate']).value_counts(normalize='True')"
   ]
  },
  {
   "cell_type": "markdown",
   "metadata": {},
   "source": [
    "### Perceptron\n",
    "\n",
    "To make predictions on the `candy` dataframe. Build and train a Perceptron using numpy. Your target column is `ate` and your features: `chocolate` and `gummy`. Do not do any feature engineering. :P\n",
    "\n",
    "Once you've trained your model, report your accuracy. You will not be able to achieve more than ~50% with the simple perceptron. Explain why you could not achieve a higher accuracy with the *simple perceptron* architecture, because it's possible to achieve ~95% accuracy on this dataset. Provide your answer in markdown (and *optional* data analysis code) after your perceptron implementation. "
   ]
  },
  {
   "cell_type": "code",
   "execution_count": 12,
   "metadata": {
    "inputHidden": false,
    "jupyter": {
     "outputs_hidden": false
    },
    "outputHidden": false
   },
   "outputs": [],
   "source": [
    "# Define input matrix and target output.\n",
    "X = candy[['chocolate', 'gummy']].values\n",
    "y = candy['ate'].values"
   ]
  },
  {
   "cell_type": "code",
   "execution_count": 13,
   "metadata": {},
   "outputs": [],
   "source": [
    "class Perceptron():\n",
    "  \"\"\"\n",
    "  The perceptron class from our module one assignment.\n",
    "  \"\"\"\n",
    "\n",
    "  def __init__(self,\n",
    "               activation='sigmoid',\n",
    "               learning_rate=0.01,\n",
    "               max_epochs=1000):\n",
    "    self.activation = activation\n",
    "    self.learning_rate = learning_rate\n",
    "    self.max_epochs = max_epochs\n",
    "    \n",
    "  def sigmoid(self, x):\n",
    "    \"\"\"\n",
    "    The sigmoid function.\n",
    "    \"\"\"\n",
    "    return 1 / (1 + np.exp(-x))\n",
    "\n",
    "  def d_sigmoid(self, x):\n",
    "    \"\"\"\n",
    "    The derivative of the sigmoid function. For gradient descent.\n",
    "    \"\"\"\n",
    "    return self.sigmoid(x) * (1 - self.sigmoid(x))\n",
    "\n",
    "  def predict(self, inputs):\n",
    "    \"\"\"\n",
    "    Add bias term; generate predictions.\n",
    "    \"\"\"\n",
    "    inputs = np.c_[np.ones(len(inputs)), inputs]\n",
    "    return self.sigmoid(np.dot(inputs, self.weights))\n",
    "\n",
    "  def predict_bias(self, inputs_with_bias):\n",
    "    \"\"\"\n",
    "    Generate predictions - used when the inputs already include a bias.\n",
    "    \"\"\"\n",
    "    return self.sigmoid(np.dot(inputs_with_bias, self.weights))\n",
    "\n",
    "  def train(self, inputs, target):\n",
    "    \"\"\"\n",
    "    Fit the perceptron to a given input dataset and target output.\n",
    "    \"\"\"\n",
    "    # Add bias term.\n",
    "    input = np.c_[np.ones(len(inputs)), inputs]\n",
    "\n",
    "    # Adjust dimensionality for single-column target - we don't want to type a\n",
    "    # bunch of nested brackets.\n",
    "    target = np.expand_dims(target, axis=1)\n",
    "\n",
    "    # Initialize random weights in the range (-1, 1).\n",
    "    self.weights = 2 * np.random.random((len(input[0]), 1)) - 1\n",
    "\n",
    "    for epoch in range(self.max_epochs):\n",
    "        prediction = self.predict_bias(input)\n",
    "        error = prediction - target\n",
    "        gradient = self.d_sigmoid(np.dot(input, self.weights))\n",
    "        adjustments = self.learning_rate * error * gradient\n",
    "        self.weights = self.weights - np.dot(input.T, adjustments)"
   ]
  },
  {
   "cell_type": "code",
   "execution_count": 14,
   "metadata": {},
   "outputs": [],
   "source": [
    "# Instantiate perceptron.\n",
    "p = Perceptron(max_epochs=100)"
   ]
  },
  {
   "cell_type": "code",
   "execution_count": 15,
   "metadata": {},
   "outputs": [],
   "source": [
    "# Train perceptron model.\n",
    "p.train(X, y)"
   ]
  },
  {
   "cell_type": "code",
   "execution_count": 16,
   "metadata": {},
   "outputs": [],
   "source": [
    "# Output predictions from the trained model.\n",
    "perceptron_predictions = np.rint(p.predict(X)).astype(int)"
   ]
  },
  {
   "cell_type": "code",
   "execution_count": 17,
   "metadata": {},
   "outputs": [
    {
     "data": {
      "text/plain": [
       "array([2518, 7482], dtype=int64)"
      ]
     },
     "execution_count": 17,
     "metadata": {},
     "output_type": "execute_result"
    }
   ],
   "source": [
    "# Summarize predictions (2518 not eaten, 7482 eaten).\n",
    "np.bincount(np.squeeze(perceptron_predictions))"
   ]
  },
  {
   "cell_type": "markdown",
   "metadata": {},
   "source": [
    "### Simple Perceptron Accuracy\n",
    "\n",
    "Once you've trained your model, report your accuracy. You will not be able to achieve more than ~50% with the simple perceptron. Explain why you could not achieve a higher accuracy with the simple perceptron architecture, because it's possible to achieve ~95% accuracy on this dataset. Provide your answer in markdown (and optional data analysis code) after your perceptron implementation. "
   ]
  },
  {
   "cell_type": "code",
   "execution_count": 18,
   "metadata": {},
   "outputs": [
    {
     "data": {
      "text/plain": [
       "0.7236"
      ]
     },
     "execution_count": 18,
     "metadata": {},
     "output_type": "execute_result"
    }
   ],
   "source": [
    "# Report simple perceptron accuracy.\n",
    "accuracy_score(y, perceptron_predictions)"
   ]
  },
  {
   "cell_type": "markdown",
   "metadata": {},
   "source": [
    "### Simple Perceptron Accuracy (Explanation)\n",
    "\n",
    "A simple perceptron can only completely classify a linearly separable function. The exclusive or (xor) function, which this data approximates (94.6% accuracy), is not linearly separable.\n",
    "\n",
    "100% accuracy will not be achievable, however, even with a multilayer perceptron, because the data is not perfectly clean (it only _approximates_ the xor function - identical inputs do not always produce identical output).\n",
    "\n",
    "I have no idea what I've done wrong (or non-simple?) to get about 72% accuracy here, though."
   ]
  },
  {
   "cell_type": "markdown",
   "metadata": {},
   "source": [
    "### Multilayer Perceptron <a id=\"Q3\"></a>\n",
    "\n",
    "Using the sample candy dataset, implement a Neural Network Multilayer Perceptron class that uses backpropagation to update the network's weights. Your Multilayer Perceptron should be implemented in Numpy. \n",
    "Your network must have one hidden layer.\n",
    "\n",
    "Once you've trained your model, report your accuracy. Explain why your MLP's performance is considerably better than your simple perceptron's on the candy dataset. "
   ]
  },
  {
   "cell_type": "code",
   "execution_count": 19,
   "metadata": {
    "inputHidden": false,
    "jupyter": {
     "outputs_hidden": false
    },
    "outputHidden": false
   },
   "outputs": [],
   "source": [
    "class MLP:\n",
    "    \"\"\"\n",
    "    A simple multilayer perceptron, or feed-forward neural network.\n",
    "    \"\"\"\n",
    "    def __init__(self, inputs=2, hiddenNodes=[3], outputNodes=1):\n",
    "        # Set up Architecture of Neural Network\n",
    "        self.inputs = inputs\n",
    "        self.hiddenNodes = hiddenNodes\n",
    "        self.outputNodes = outputNodes\n",
    "\n",
    "        # Initial Weights\n",
    "        if len(hiddenNodes) == 0:\n",
    "            self.weights = [np.random.rand(self.inputs, self.outputNodes)]\n",
    "        else:\n",
    "            self.weights = [np.random.rand(self.inputs, self.hiddenNodes[0])]\n",
    "            for i in range(1, len(hiddenNodes)):\n",
    "                self.weights.append(np.random.rand((hiddenNodes[i-1]), hiddenNodes[i]))\n",
    "            self.weights.append(np.random.rand(hiddenNodes[-1], outputNodes))\n",
    "        \n",
    "    def sigmoid(self, s):\n",
    "        \"\"\"\n",
    "        The sigmoid function.\n",
    "        \"\"\"\n",
    "        return 1 / (1 + np.exp(-s))\n",
    "    \n",
    "    def sigmoidPrime(self, s):\n",
    "        \"\"\"\n",
    "        The derivative of the sigmoid function. For gradient descent.\n",
    "        \"\"\"\n",
    "        return s * (1 - s)\n",
    "    \n",
    "    def feed_forward(self, X):\n",
    "        \"\"\"\n",
    "        Calculate the NN inference using feed forward.\n",
    "        aka \"predict\"\n",
    "        \"\"\"      \n",
    "        # Weighted sum of inputs => hidden layer\n",
    "        weighted_sum = np.dot(X, self.weights[0])\n",
    "        self.activated_outputs = [self.sigmoid(weighted_sum)]\n",
    "        for i in range(1, len(self.weights)):\n",
    "            weighted_sum = np.dot(self.activated_outputs[i-1], self.weights[i])\n",
    "            self.activated_outputs.append(self.sigmoid(weighted_sum))\n",
    "                \n",
    "        return self.activated_outputs[-1]\n",
    "        \n",
    "    def backward(self, X, y, o):\n",
    "        \"\"\"\n",
    "        Backward propagate error & updates through the network.\n",
    "        \"\"\"\n",
    "        # Error in Output\n",
    "        self.o_error = y - o\n",
    "        \n",
    "        # Apply Derivative of Sigmoid to error\n",
    "        # How far off are we in relation to the Sigmoid f(x) of the output\n",
    "        # ^- aka hidden => output\n",
    "        self.o_delta = self.o_error * self.sigmoidPrime(o)\n",
    "        z2_error = self.o_delta.dot(self.weights[-1].T)\n",
    "\n",
    "        # Adjustment to final set of weights (hidden => output)\n",
    "        if len(self.weights) == 1:\n",
    "            self.weights[0] += X.T.dot(self.o_delta)\n",
    "            return\n",
    "        \n",
    "        self.weights[-1] += self.activated_outputs[-2].T.dot(self.o_delta)\n",
    "        \n",
    "        # Hidden layer error\n",
    "        for i in reversed(range(2, len(self.weights))):\n",
    "            z2_delta = z2_error * self.sigmoidPrime(self.activated_outputs[i-1])\n",
    "            z2_error = z2_delta.dot(self.weights[i-1].T)\n",
    "        \n",
    "            # Adjustment to interior set of weights (hidden => hidden)\n",
    "            self.weights[i-1] += self.activated_outputs[i-2].T.dot(z2_delta)\n",
    "        \n",
    "        # Input layer error (if not same layer as output)\n",
    "        z2_delta = z2_error * self.sigmoidPrime(self.activated_outputs[0])\n",
    "        self.weights[0] += X.T.dot(z2_delta)\n",
    "\n",
    "    def train(self, X, y):\n",
    "        \"\"\"\n",
    "        Run a single training epoch, one pass in each direction.\n",
    "        \"\"\"\n",
    "        o = self.feed_forward(X)\n",
    "        self.backward(X, y, o)\n",
    "\n",
    "    def fit(self, X, y,  max_epochs=100, print_epochs=[]):\n",
    "        \"\"\"\n",
    "        Fit the MLP to the given training input and target output.\n",
    "        \"\"\"\n",
    "        for i in range(max_epochs):\n",
    "            if (i+ 1 in print_epochs): \n",
    "                print('+' + '---' * 3 + f'EPOCH {i + 1}' + '---' * 3 + '+')\n",
    "                print('Input: \\n', X)\n",
    "                print('Actual Output: \\n', y)\n",
    "                print('Predicted Output: \\n', str(self.feed_forward(X)))\n",
    "                print(\"Loss: \\n\", str(np.mean(np.square(y - self.feed_forward(X)))))\n",
    "            self.train(X, y)"
   ]
  },
  {
   "cell_type": "code",
   "execution_count": 20,
   "metadata": {},
   "outputs": [],
   "source": [
    "mlp = MLP(2, [2], 1)"
   ]
  },
  {
   "cell_type": "code",
   "execution_count": 21,
   "metadata": {},
   "outputs": [
    {
     "name": "stdout",
     "output_type": "stream",
     "text": [
      "+---------EPOCH 100---------+\n",
      "Input: \n",
      " [[0 1]\n",
      " [1 0]\n",
      " [0 1]\n",
      " ...\n",
      " [0 1]\n",
      " [0 1]\n",
      " [1 0]]\n",
      "Actual Output: \n",
      " [[1]\n",
      " [1]\n",
      " [1]\n",
      " ...\n",
      " [1]\n",
      " [1]\n",
      " [1]]\n",
      "Predicted Output: \n",
      " [[0.5]\n",
      " [0.5]\n",
      " [0.5]\n",
      " ...\n",
      " [0.5]\n",
      " [0.5]\n",
      " [0.5]]\n",
      "Loss: \n",
      " 0.2011500000031213\n"
     ]
    }
   ],
   "source": [
    "mlp.fit(X, np.expand_dims(y, axis=1), 100, [100])"
   ]
  },
  {
   "cell_type": "markdown",
   "metadata": {},
   "source": [
    "### Multilayer Perceptron Accuracy\n",
    "\n",
    "Once you've trained your model, report your accuracy. Explain why your MLP's performance is considerably better than your simple perceptron's on the candy dataset."
   ]
  },
  {
   "cell_type": "code",
   "execution_count": 22,
   "metadata": {},
   "outputs": [
    {
     "data": {
      "text/plain": [
       "0.5"
      ]
     },
     "execution_count": 22,
     "metadata": {},
     "output_type": "execute_result"
    }
   ],
   "source": [
    "# Report multilayer perceptron accuracy.\n",
    "accuracy_score(y, np.rint(mlp.feed_forward(X)))"
   ]
  },
  {
   "cell_type": "markdown",
   "metadata": {},
   "source": [
    "### Multilayer Perceptron Accuracy (Explanation)\n",
    "\n",
    "The performance we're getting here is abysmal, worse than that of the simple perceptron. Perhaps we're getting stuck at a local minimum? Or perhaps the lack of a tunable learning rate is tripping us up? We're not using the ideal loss function for a binary classification problem either, but I doubt that alone is the issue."
   ]
  },
  {
   "cell_type": "markdown",
   "metadata": {},
   "source": [
    "### Multilayer Perceptron Redux\n",
    "\n",
    "A true Stochastic GD-based implementation from Welch Labs (code taken from module 2 lecture notebook)."
   ]
  },
  {
   "cell_type": "code",
   "execution_count": 23,
   "metadata": {},
   "outputs": [],
   "source": [
    "class NeuralNetwork():\n",
    "    def __init__(self, inputs=2, outputs=1, hidden_neurons=3):        \n",
    "        # Define Hyperparameters\n",
    "        self.inputLayerSize = inputs\n",
    "        self.outputLayerSize = outputs\n",
    "        self.hiddenLayerSize = hidden_neurons\n",
    "        \n",
    "        # Weights (parameters)\n",
    "        self.W1 = np.random.randn(self.inputLayerSize, self.hiddenLayerSize)\n",
    "        self.W2 = np.random.randn(self.hiddenLayerSize, self.outputLayerSize)\n",
    "        \n",
    "    def forward(self, X):\n",
    "        # Propagate inputs though network.\n",
    "        self.z2 = np.dot(X, self.W1)\n",
    "        self.a2 = self.sigmoid(self.z2)\n",
    "        self.z3 = np.dot(self.a2, self.W2)\n",
    "        yHat = self.sigmoid(self.z3) \n",
    "        return yHat\n",
    "        \n",
    "    def sigmoid(self, z):\n",
    "        # Apply sigmoid activation function to scalar, vector, or matrix.\n",
    "        return 1/(1 + np.exp(-z))\n",
    "    \n",
    "    def sigmoidPrime(self,z):\n",
    "        # Gradient of sigmoid\n",
    "        return np.exp(-z)/((1 + np.exp(-z))**2)\n",
    "    \n",
    "    def costFunction(self, X, y):\n",
    "        # Compute cost for given X, y; use weights already stored in class.\n",
    "        self.yHat = self.forward(X)\n",
    "        J = 0.5*sum((y - self.yHat)**2)\n",
    "        return J\n",
    "        \n",
    "    def costFunctionPrime(self, X, y):\n",
    "        # Compute derivative with respect to W and W2 for a given X and y:\n",
    "        self.yHat = self.forward(X)\n",
    "        \n",
    "        delta3 = np.multiply(-(y - self.yHat), self.sigmoidPrime(self.z3))\n",
    "        dJdW2 = np.dot(self.a2.T, delta3)\n",
    "        \n",
    "        delta2 = np.dot(delta3, self.W2.T) * self.sigmoidPrime(self.z2)\n",
    "        dJdW1 = np.dot(X.T, delta2)  \n",
    "        \n",
    "        return dJdW1, dJdW2\n",
    "    \n",
    "    # Helper Functions for interacting with other classes:\n",
    "    def getParams(self):\n",
    "        # Get W1 and W2 unrolled into vector:\n",
    "        params = np.concatenate((self.W1.ravel(), self.W2.ravel()))\n",
    "        return params\n",
    "    \n",
    "    def setParams(self, params):\n",
    "        # Set W1 and W2 using single paramater vector.\n",
    "        W1_start = 0\n",
    "        W1_end = self.hiddenLayerSize * self.inputLayerSize\n",
    "        self.W1 = np.reshape(params[W1_start:W1_end], \n",
    "                             (self.inputLayerSize, self.hiddenLayerSize))\n",
    "        W2_end = W1_end + self.hiddenLayerSize*self.outputLayerSize\n",
    "        self.W2 = np.reshape(params[W1_end:W2_end], \n",
    "                             (self.hiddenLayerSize, self.outputLayerSize))\n",
    "        \n",
    "    def computeGradients(self, X, y):\n",
    "        dJdW1, dJdW2 = self.costFunctionPrime(X, y)\n",
    "        return np.concatenate((dJdW1.ravel(), dJdW2.ravel()))"
   ]
  },
  {
   "cell_type": "code",
   "execution_count": 24,
   "metadata": {},
   "outputs": [],
   "source": [
    "class trainer(object):\n",
    "    def __init__(self, N):\n",
    "        # Make Local reference to network:\n",
    "        self.N = N\n",
    "        \n",
    "    def callbackF(self, params):\n",
    "        self.N.setParams(params)\n",
    "        self.J.append(self.N.costFunction(self.X, self.y))   \n",
    "        \n",
    "    def costFunctionWrapper(self, params, X, y):\n",
    "        self.N.setParams(params)\n",
    "        cost = self.N.costFunction(X, y)\n",
    "        grad = self.N.computeGradients(X,y)\n",
    "        \n",
    "        return cost, grad\n",
    "        \n",
    "    def train(self, X, y):\n",
    "        # Make an internal variable for the callback function:\n",
    "        self.X = X\n",
    "        self.y = y\n",
    "\n",
    "        # Make empty list to store costs:\n",
    "        self.J = []\n",
    "        \n",
    "        params0 = self.N.getParams()\n",
    "\n",
    "        options = {'maxiter': 200, 'disp' : True}\n",
    "        _res = optimize.minimize(self.costFunctionWrapper, \n",
    "                                 params0, \n",
    "                                 jac=True, \n",
    "                                 method='BFGS',\n",
    "                                 args=(X, y), \n",
    "                                 options=options,\n",
    "                                 callback=self.callbackF)\n",
    "\n",
    "        self.N.setParams(_res.x)\n",
    "        self.optimizationResults = _res"
   ]
  },
  {
   "cell_type": "code",
   "execution_count": 25,
   "metadata": {},
   "outputs": [],
   "source": [
    "# Initialize network and trainer.\n",
    "nn = NeuralNetwork()\n",
    "t = trainer(nn)"
   ]
  },
  {
   "cell_type": "code",
   "execution_count": 26,
   "metadata": {},
   "outputs": [
    {
     "name": "stdout",
     "output_type": "stream",
     "text": [
      "Optimization terminated successfully.\n",
      "         Current function value: 256.295819\n",
      "         Iterations: 105\n",
      "         Function evaluations: 149\n",
      "         Gradient evaluations: 149\n"
     ]
    }
   ],
   "source": [
    "# Train network.\n",
    "t.train(X, np.expand_dims(y, axis=1))"
   ]
  },
  {
   "cell_type": "markdown",
   "metadata": {},
   "source": [
    "### Multilayer Perceptron Performance Redux"
   ]
  },
  {
   "cell_type": "code",
   "execution_count": 27,
   "metadata": {},
   "outputs": [
    {
     "data": {
      "text/plain": [
       "0.9458"
      ]
     },
     "execution_count": 27,
     "metadata": {},
     "output_type": "execute_result"
    }
   ],
   "source": [
    "# Report Welch Labs multilayer perceptron accuracy.\n",
    "accuracy_score(y, np.rint(nn.forward(X)))"
   ]
  },
  {
   "cell_type": "markdown",
   "metadata": {},
   "source": [
    "This is the accuracy we were looking for, but it's not my code that's getting it."
   ]
  },
  {
   "cell_type": "markdown",
   "metadata": {},
   "source": [
    "P.S. Don't try candy gummy bears. They're disgusting. "
   ]
  },
  {
   "cell_type": "markdown",
   "metadata": {},
   "source": [
    "## 3. Keras MMP <a id=\"Q3\"></a>\n",
    "\n",
    "Implement a Multilayer Perceptron architecture of your choosing using the Keras library. Train your model and report its baseline accuracy. Then hyperparameter tune at least two parameters and report your model's accuracy.\n",
    "Use the Heart Disease Dataset (binary classification)\n",
    "Use an appropriate loss function for a binary classification task\n",
    "Use an appropriate activation function on the final layer of your network.\n",
    "Train your model using verbose output for ease of grading.\n",
    "Use GridSearchCV or RandomSearchCV to hyperparameter tune your model (for at least two hyperparameters).\n",
    "When hyperparameter tuning, show your work by adding code cells for each new experiment.\n",
    "Report the accuracy for each combination of hyperparameters as you test them so that we can easily see which resulted in the highest accuracy.\n",
    "You must hyperparameter tune at least 3 parameters in order to get a 3 on this section."
   ]
  },
  {
   "cell_type": "code",
   "execution_count": 28,
   "metadata": {
    "inputHidden": false,
    "jupyter": {
     "outputs_hidden": false
    },
    "outputHidden": false
   },
   "outputs": [
    {
     "name": "stdout",
     "output_type": "stream",
     "text": [
      "(303, 14)\n"
     ]
    },
    {
     "data": {
      "text/html": [
       "<div>\n",
       "<style scoped>\n",
       "    .dataframe tbody tr th:only-of-type {\n",
       "        vertical-align: middle;\n",
       "    }\n",
       "\n",
       "    .dataframe tbody tr th {\n",
       "        vertical-align: top;\n",
       "    }\n",
       "\n",
       "    .dataframe thead th {\n",
       "        text-align: right;\n",
       "    }\n",
       "</style>\n",
       "<table border=\"1\" class=\"dataframe\">\n",
       "  <thead>\n",
       "    <tr style=\"text-align: right;\">\n",
       "      <th></th>\n",
       "      <th>age</th>\n",
       "      <th>sex</th>\n",
       "      <th>cp</th>\n",
       "      <th>trestbps</th>\n",
       "      <th>chol</th>\n",
       "      <th>fbs</th>\n",
       "      <th>restecg</th>\n",
       "      <th>thalach</th>\n",
       "      <th>exang</th>\n",
       "      <th>oldpeak</th>\n",
       "      <th>slope</th>\n",
       "      <th>ca</th>\n",
       "      <th>thal</th>\n",
       "      <th>target</th>\n",
       "    </tr>\n",
       "  </thead>\n",
       "  <tbody>\n",
       "    <tr>\n",
       "      <th>54</th>\n",
       "      <td>63</td>\n",
       "      <td>0</td>\n",
       "      <td>2</td>\n",
       "      <td>135</td>\n",
       "      <td>252</td>\n",
       "      <td>0</td>\n",
       "      <td>0</td>\n",
       "      <td>172</td>\n",
       "      <td>0</td>\n",
       "      <td>0.0</td>\n",
       "      <td>2</td>\n",
       "      <td>0</td>\n",
       "      <td>2</td>\n",
       "      <td>1</td>\n",
       "    </tr>\n",
       "    <tr>\n",
       "      <th>52</th>\n",
       "      <td>62</td>\n",
       "      <td>1</td>\n",
       "      <td>2</td>\n",
       "      <td>130</td>\n",
       "      <td>231</td>\n",
       "      <td>0</td>\n",
       "      <td>1</td>\n",
       "      <td>146</td>\n",
       "      <td>0</td>\n",
       "      <td>1.8</td>\n",
       "      <td>1</td>\n",
       "      <td>3</td>\n",
       "      <td>3</td>\n",
       "      <td>1</td>\n",
       "    </tr>\n",
       "    <tr>\n",
       "      <th>275</th>\n",
       "      <td>52</td>\n",
       "      <td>1</td>\n",
       "      <td>0</td>\n",
       "      <td>125</td>\n",
       "      <td>212</td>\n",
       "      <td>0</td>\n",
       "      <td>1</td>\n",
       "      <td>168</td>\n",
       "      <td>0</td>\n",
       "      <td>1.0</td>\n",
       "      <td>2</td>\n",
       "      <td>2</td>\n",
       "      <td>3</td>\n",
       "      <td>0</td>\n",
       "    </tr>\n",
       "    <tr>\n",
       "      <th>271</th>\n",
       "      <td>61</td>\n",
       "      <td>1</td>\n",
       "      <td>3</td>\n",
       "      <td>134</td>\n",
       "      <td>234</td>\n",
       "      <td>0</td>\n",
       "      <td>1</td>\n",
       "      <td>145</td>\n",
       "      <td>0</td>\n",
       "      <td>2.6</td>\n",
       "      <td>1</td>\n",
       "      <td>2</td>\n",
       "      <td>2</td>\n",
       "      <td>0</td>\n",
       "    </tr>\n",
       "    <tr>\n",
       "      <th>199</th>\n",
       "      <td>65</td>\n",
       "      <td>1</td>\n",
       "      <td>0</td>\n",
       "      <td>110</td>\n",
       "      <td>248</td>\n",
       "      <td>0</td>\n",
       "      <td>0</td>\n",
       "      <td>158</td>\n",
       "      <td>0</td>\n",
       "      <td>0.6</td>\n",
       "      <td>2</td>\n",
       "      <td>2</td>\n",
       "      <td>1</td>\n",
       "      <td>0</td>\n",
       "    </tr>\n",
       "  </tbody>\n",
       "</table>\n",
       "</div>"
      ],
      "text/plain": [
       "     age  sex  cp  trestbps  chol  fbs  restecg  thalach  exang  oldpeak  \\\n",
       "54    63    0   2       135   252    0        0      172      0      0.0   \n",
       "52    62    1   2       130   231    0        1      146      0      1.8   \n",
       "275   52    1   0       125   212    0        1      168      0      1.0   \n",
       "271   61    1   3       134   234    0        1      145      0      2.6   \n",
       "199   65    1   0       110   248    0        0      158      0      0.6   \n",
       "\n",
       "     slope  ca  thal  target  \n",
       "54       2   0     2       1  \n",
       "52       1   3     3       1  \n",
       "275      2   2     3       0  \n",
       "271      1   2     2       0  \n",
       "199      2   2     1       0  "
      ]
     },
     "execution_count": 28,
     "metadata": {},
     "output_type": "execute_result"
    }
   ],
   "source": [
    "# Load data.\n",
    "df = pd.read_csv('https://raw.githubusercontent.com/ryanleeallred/'\n",
    "                 'datasets/master/heart.csv')\n",
    "df = df.sample(frac=1)\n",
    "print(df.shape)\n",
    "df.head()"
   ]
  },
  {
   "cell_type": "code",
   "execution_count": 29,
   "metadata": {},
   "outputs": [],
   "source": [
    "# Instantiate scaler.\n",
    "scaler = StandardScaler()"
   ]
  },
  {
   "cell_type": "code",
   "execution_count": 30,
   "metadata": {},
   "outputs": [],
   "source": [
    "# Define inputs, target output.\n",
    "X = scaler.fit_transform(df.drop(columns='target').values)\n",
    "y = df['target'].values"
   ]
  },
  {
   "cell_type": "code",
   "execution_count": 31,
   "metadata": {},
   "outputs": [
    {
     "data": {
      "text/plain": [
       "1    0.544554\n",
       "0    0.455446\n",
       "Name: target, dtype: float64"
      ]
     },
     "execution_count": 31,
     "metadata": {},
     "output_type": "execute_result"
    }
   ],
   "source": [
    "# Check majority class frequency.\n",
    "df['target'].value_counts(normalize=True)"
   ]
  },
  {
   "cell_type": "code",
   "execution_count": 32,
   "metadata": {},
   "outputs": [],
   "source": [
    "# Instantiate baseline model.\n",
    "baseline_model = keras.Sequential([\n",
    "    keras.layers.Dense(4, activation='relu', input_shape=((X.shape[1],))),\n",
    "    keras.layers.Dense(1, activation='sigmoid')\n",
    "])"
   ]
  },
  {
   "cell_type": "code",
   "execution_count": 33,
   "metadata": {},
   "outputs": [],
   "source": [
    "# Compile baseline model.\n",
    "baseline_model.compile(optimizer='adam', \n",
    "                       loss='binary_crossentropy', \n",
    "                       metrics=['acc'])"
   ]
  },
  {
   "cell_type": "markdown",
   "metadata": {},
   "source": [
    "### Train model.\n",
    "\n",
    "Use verbose output for ease of grading."
   ]
  },
  {
   "cell_type": "code",
   "execution_count": 34,
   "metadata": {},
   "outputs": [
    {
     "name": "stdout",
     "output_type": "stream",
     "text": [
      "Train on 272 samples, validate on 31 samples\n",
      "Epoch 1/100\n",
      "272/272 [==============================] - 1s 2ms/sample - loss: 0.7402 - acc: 0.5000 - val_loss: 0.7440 - val_acc: 0.5484\n",
      "Epoch 2/100\n",
      "272/272 [==============================] - 0s 63us/sample - loss: 0.7237 - acc: 0.5110 - val_loss: 0.7289 - val_acc: 0.5161\n",
      "Epoch 3/100\n",
      "272/272 [==============================] - 0s 66us/sample - loss: 0.7088 - acc: 0.5257 - val_loss: 0.7144 - val_acc: 0.5161\n",
      "Epoch 4/100\n",
      "272/272 [==============================] - 0s 63us/sample - loss: 0.6949 - acc: 0.5515 - val_loss: 0.7006 - val_acc: 0.4516\n",
      "Epoch 5/100\n",
      "272/272 [==============================] - 0s 62us/sample - loss: 0.6814 - acc: 0.5735 - val_loss: 0.6881 - val_acc: 0.4516\n",
      "Epoch 6/100\n",
      "272/272 [==============================] - 0s 66us/sample - loss: 0.6691 - acc: 0.5919 - val_loss: 0.6769 - val_acc: 0.5161\n",
      "Epoch 7/100\n",
      "272/272 [==============================] - 0s 66us/sample - loss: 0.6570 - acc: 0.6287 - val_loss: 0.6660 - val_acc: 0.5484\n",
      "Epoch 8/100\n",
      "272/272 [==============================] - 0s 59us/sample - loss: 0.6464 - acc: 0.6397 - val_loss: 0.6555 - val_acc: 0.5484\n",
      "Epoch 9/100\n",
      "272/272 [==============================] - 0s 59us/sample - loss: 0.6349 - acc: 0.6507 - val_loss: 0.6457 - val_acc: 0.5806\n",
      "Epoch 10/100\n",
      "272/272 [==============================] - 0s 59us/sample - loss: 0.6245 - acc: 0.6581 - val_loss: 0.6359 - val_acc: 0.6452\n",
      "Epoch 11/100\n",
      "272/272 [==============================] - 0s 62us/sample - loss: 0.6148 - acc: 0.6728 - val_loss: 0.6269 - val_acc: 0.6452\n",
      "Epoch 12/100\n",
      "272/272 [==============================] - 0s 59us/sample - loss: 0.6051 - acc: 0.6985 - val_loss: 0.6177 - val_acc: 0.6129\n",
      "Epoch 13/100\n",
      "272/272 [==============================] - 0s 59us/sample - loss: 0.5966 - acc: 0.7059 - val_loss: 0.6088 - val_acc: 0.6129\n",
      "Epoch 14/100\n",
      "272/272 [==============================] - 0s 63us/sample - loss: 0.5877 - acc: 0.7096 - val_loss: 0.6005 - val_acc: 0.6129\n",
      "Epoch 15/100\n",
      "272/272 [==============================] - 0s 63us/sample - loss: 0.5790 - acc: 0.7096 - val_loss: 0.5919 - val_acc: 0.6129\n",
      "Epoch 16/100\n",
      "272/272 [==============================] - 0s 59us/sample - loss: 0.5702 - acc: 0.7243 - val_loss: 0.5837 - val_acc: 0.6129\n",
      "Epoch 17/100\n",
      "272/272 [==============================] - 0s 62us/sample - loss: 0.5617 - acc: 0.7279 - val_loss: 0.5763 - val_acc: 0.6774\n",
      "Epoch 18/100\n",
      "272/272 [==============================] - 0s 59us/sample - loss: 0.5533 - acc: 0.7390 - val_loss: 0.5688 - val_acc: 0.6774\n",
      "Epoch 19/100\n",
      "272/272 [==============================] - 0s 66us/sample - loss: 0.5455 - acc: 0.7463 - val_loss: 0.5613 - val_acc: 0.6774\n",
      "Epoch 20/100\n",
      "272/272 [==============================] - 0s 62us/sample - loss: 0.5379 - acc: 0.7500 - val_loss: 0.5538 - val_acc: 0.6774\n",
      "Epoch 21/100\n",
      "272/272 [==============================] - 0s 66us/sample - loss: 0.5307 - acc: 0.7610 - val_loss: 0.5466 - val_acc: 0.6774\n",
      "Epoch 22/100\n",
      "272/272 [==============================] - 0s 59us/sample - loss: 0.5238 - acc: 0.7610 - val_loss: 0.5395 - val_acc: 0.6774\n",
      "Epoch 23/100\n",
      "272/272 [==============================] - 0s 55us/sample - loss: 0.5172 - acc: 0.7684 - val_loss: 0.5330 - val_acc: 0.7097\n",
      "Epoch 24/100\n",
      "272/272 [==============================] - 0s 59us/sample - loss: 0.5106 - acc: 0.7721 - val_loss: 0.5266 - val_acc: 0.7097\n",
      "Epoch 25/100\n",
      "272/272 [==============================] - 0s 59us/sample - loss: 0.5042 - acc: 0.7721 - val_loss: 0.5209 - val_acc: 0.7097\n",
      "Epoch 26/100\n",
      "272/272 [==============================] - 0s 59us/sample - loss: 0.4983 - acc: 0.7757 - val_loss: 0.5146 - val_acc: 0.7097\n",
      "Epoch 27/100\n",
      "272/272 [==============================] - 0s 59us/sample - loss: 0.4920 - acc: 0.7868 - val_loss: 0.5091 - val_acc: 0.7097\n",
      "Epoch 28/100\n",
      "272/272 [==============================] - 0s 63us/sample - loss: 0.4863 - acc: 0.7868 - val_loss: 0.5036 - val_acc: 0.7097\n",
      "Epoch 29/100\n",
      "272/272 [==============================] - 0s 59us/sample - loss: 0.4808 - acc: 0.7904 - val_loss: 0.4985 - val_acc: 0.7097\n",
      "Epoch 30/100\n",
      "272/272 [==============================] - 0s 59us/sample - loss: 0.4756 - acc: 0.8015 - val_loss: 0.4933 - val_acc: 0.7097\n",
      "Epoch 31/100\n",
      "272/272 [==============================] - 0s 64us/sample - loss: 0.4704 - acc: 0.7978 - val_loss: 0.4887 - val_acc: 0.7097\n",
      "Epoch 32/100\n",
      "272/272 [==============================] - 0s 70us/sample - loss: 0.4658 - acc: 0.8051 - val_loss: 0.4842 - val_acc: 0.7097\n",
      "Epoch 33/100\n",
      "272/272 [==============================] - ETA: 0s - loss: 0.4779 - acc: 0.781 - 0s 66us/sample - loss: 0.4612 - acc: 0.8088 - val_loss: 0.4798 - val_acc: 0.7097\n",
      "Epoch 34/100\n",
      "272/272 [==============================] - 0s 61us/sample - loss: 0.4567 - acc: 0.8088 - val_loss: 0.4755 - val_acc: 0.7097\n",
      "Epoch 35/100\n",
      "272/272 [==============================] - 0s 66us/sample - loss: 0.4528 - acc: 0.8125 - val_loss: 0.4710 - val_acc: 0.7097\n",
      "Epoch 36/100\n",
      "272/272 [==============================] - 0s 62us/sample - loss: 0.4484 - acc: 0.8125 - val_loss: 0.4668 - val_acc: 0.7097\n",
      "Epoch 37/100\n",
      "272/272 [==============================] - 0s 63us/sample - loss: 0.4443 - acc: 0.8162 - val_loss: 0.4633 - val_acc: 0.7097\n",
      "Epoch 38/100\n",
      "272/272 [==============================] - 0s 67us/sample - loss: 0.4403 - acc: 0.8162 - val_loss: 0.4597 - val_acc: 0.7097\n",
      "Epoch 39/100\n",
      "272/272 [==============================] - 0s 66us/sample - loss: 0.4368 - acc: 0.8162 - val_loss: 0.4563 - val_acc: 0.7419\n",
      "Epoch 40/100\n",
      "272/272 [==============================] - 0s 63us/sample - loss: 0.4333 - acc: 0.8162 - val_loss: 0.4530 - val_acc: 0.7419\n",
      "Epoch 41/100\n",
      "272/272 [==============================] - 0s 64us/sample - loss: 0.4299 - acc: 0.8199 - val_loss: 0.4494 - val_acc: 0.7419\n",
      "Epoch 42/100\n",
      "272/272 [==============================] - 0s 66us/sample - loss: 0.4267 - acc: 0.8199 - val_loss: 0.4459 - val_acc: 0.7419\n",
      "Epoch 43/100\n",
      "272/272 [==============================] - 0s 62us/sample - loss: 0.4233 - acc: 0.8272 - val_loss: 0.4431 - val_acc: 0.7419\n",
      "Epoch 44/100\n",
      "272/272 [==============================] - 0s 62us/sample - loss: 0.4206 - acc: 0.8272 - val_loss: 0.4400 - val_acc: 0.7419\n",
      "Epoch 45/100\n",
      "272/272 [==============================] - 0s 68us/sample - loss: 0.4174 - acc: 0.8199 - val_loss: 0.4372 - val_acc: 0.7419\n",
      "Epoch 46/100\n",
      "272/272 [==============================] - 0s 66us/sample - loss: 0.4147 - acc: 0.8199 - val_loss: 0.4349 - val_acc: 0.7419\n",
      "Epoch 47/100\n",
      "272/272 [==============================] - 0s 62us/sample - loss: 0.4121 - acc: 0.8162 - val_loss: 0.4325 - val_acc: 0.7419\n",
      "Epoch 48/100\n",
      "272/272 [==============================] - 0s 52us/sample - loss: 0.4095 - acc: 0.8162 - val_loss: 0.4299 - val_acc: 0.7419\n",
      "Epoch 49/100\n",
      "272/272 [==============================] - 0s 69us/sample - loss: 0.4068 - acc: 0.8162 - val_loss: 0.4277 - val_acc: 0.7419\n",
      "Epoch 50/100\n",
      "272/272 [==============================] - 0s 62us/sample - loss: 0.4045 - acc: 0.8162 - val_loss: 0.4257 - val_acc: 0.7419\n",
      "Epoch 51/100\n",
      "272/272 [==============================] - 0s 59us/sample - loss: 0.4020 - acc: 0.8199 - val_loss: 0.4243 - val_acc: 0.7419\n",
      "Epoch 52/100\n",
      "272/272 [==============================] - 0s 54us/sample - loss: 0.3999 - acc: 0.8199 - val_loss: 0.4222 - val_acc: 0.7419\n",
      "Epoch 53/100\n",
      "272/272 [==============================] - 0s 67us/sample - loss: 0.3976 - acc: 0.8235 - val_loss: 0.4204 - val_acc: 0.7419\n",
      "Epoch 54/100\n",
      "272/272 [==============================] - 0s 55us/sample - loss: 0.3957 - acc: 0.8235 - val_loss: 0.4181 - val_acc: 0.7419\n",
      "Epoch 55/100\n",
      "272/272 [==============================] - 0s 55us/sample - loss: 0.3935 - acc: 0.8235 - val_loss: 0.4166 - val_acc: 0.7419\n",
      "Epoch 56/100\n",
      "272/272 [==============================] - 0s 41us/sample - loss: 0.3916 - acc: 0.8235 - val_loss: 0.4149 - val_acc: 0.7419\n",
      "Epoch 57/100\n",
      "272/272 [==============================] - 0s 55us/sample - loss: 0.3896 - acc: 0.8235 - val_loss: 0.4133 - val_acc: 0.7419\n",
      "Epoch 58/100\n",
      "272/272 [==============================] - 0s 67us/sample - loss: 0.3876 - acc: 0.8272 - val_loss: 0.4113 - val_acc: 0.7419\n",
      "Epoch 59/100\n",
      "272/272 [==============================] - 0s 59us/sample - loss: 0.3856 - acc: 0.8309 - val_loss: 0.4100 - val_acc: 0.7419\n",
      "Epoch 60/100\n"
     ]
    },
    {
     "name": "stdout",
     "output_type": "stream",
     "text": [
      "272/272 [==============================] - 0s 55us/sample - loss: 0.3836 - acc: 0.8272 - val_loss: 0.4088 - val_acc: 0.7419\n",
      "Epoch 61/100\n",
      "272/272 [==============================] - 0s 56us/sample - loss: 0.3815 - acc: 0.8272 - val_loss: 0.4077 - val_acc: 0.7419\n",
      "Epoch 62/100\n",
      "272/272 [==============================] - 0s 59us/sample - loss: 0.3799 - acc: 0.8235 - val_loss: 0.4060 - val_acc: 0.7742\n",
      "Epoch 63/100\n",
      "272/272 [==============================] - 0s 55us/sample - loss: 0.3777 - acc: 0.8235 - val_loss: 0.4046 - val_acc: 0.8065\n",
      "Epoch 64/100\n",
      "272/272 [==============================] - 0s 52us/sample - loss: 0.3759 - acc: 0.8272 - val_loss: 0.4031 - val_acc: 0.8065\n",
      "Epoch 65/100\n",
      "272/272 [==============================] - 0s 69us/sample - loss: 0.3742 - acc: 0.8309 - val_loss: 0.4016 - val_acc: 0.8065\n",
      "Epoch 66/100\n",
      "272/272 [==============================] - 0s 55us/sample - loss: 0.3726 - acc: 0.8309 - val_loss: 0.4000 - val_acc: 0.8065\n",
      "Epoch 67/100\n",
      "272/272 [==============================] - 0s 55us/sample - loss: 0.3709 - acc: 0.8346 - val_loss: 0.3990 - val_acc: 0.8065\n",
      "Epoch 68/100\n",
      "272/272 [==============================] - 0s 57us/sample - loss: 0.3695 - acc: 0.8456 - val_loss: 0.3980 - val_acc: 0.8065\n",
      "Epoch 69/100\n",
      "272/272 [==============================] - 0s 55us/sample - loss: 0.3680 - acc: 0.8493 - val_loss: 0.3972 - val_acc: 0.8065\n",
      "Epoch 70/100\n",
      "272/272 [==============================] - 0s 67us/sample - loss: 0.3666 - acc: 0.8493 - val_loss: 0.3963 - val_acc: 0.8065\n",
      "Epoch 71/100\n",
      "272/272 [==============================] - 0s 55us/sample - loss: 0.3652 - acc: 0.8493 - val_loss: 0.3949 - val_acc: 0.8065\n",
      "Epoch 72/100\n",
      "272/272 [==============================] - 0s 59us/sample - loss: 0.3639 - acc: 0.8493 - val_loss: 0.3941 - val_acc: 0.8065\n",
      "Epoch 73/100\n",
      "272/272 [==============================] - 0s 62us/sample - loss: 0.3626 - acc: 0.8493 - val_loss: 0.3932 - val_acc: 0.8065\n",
      "Epoch 74/100\n",
      "272/272 [==============================] - 0s 59us/sample - loss: 0.3614 - acc: 0.8493 - val_loss: 0.3921 - val_acc: 0.8065\n",
      "Epoch 75/100\n",
      "272/272 [==============================] - 0s 59us/sample - loss: 0.3602 - acc: 0.8493 - val_loss: 0.3909 - val_acc: 0.8387\n",
      "Epoch 76/100\n",
      "272/272 [==============================] - 0s 55us/sample - loss: 0.3589 - acc: 0.8529 - val_loss: 0.3902 - val_acc: 0.8387\n",
      "Epoch 77/100\n",
      "272/272 [==============================] - 0s 55us/sample - loss: 0.3578 - acc: 0.8529 - val_loss: 0.3891 - val_acc: 0.8387\n",
      "Epoch 78/100\n",
      "272/272 [==============================] - 0s 55us/sample - loss: 0.3565 - acc: 0.8529 - val_loss: 0.3881 - val_acc: 0.8387\n",
      "Epoch 79/100\n",
      "272/272 [==============================] - 0s 67us/sample - loss: 0.3556 - acc: 0.8493 - val_loss: 0.3872 - val_acc: 0.8387\n",
      "Epoch 80/100\n",
      "272/272 [==============================] - 0s 59us/sample - loss: 0.3543 - acc: 0.8493 - val_loss: 0.3863 - val_acc: 0.8387\n",
      "Epoch 81/100\n",
      "272/272 [==============================] - 0s 63us/sample - loss: 0.3531 - acc: 0.8529 - val_loss: 0.3854 - val_acc: 0.8387\n",
      "Epoch 82/100\n",
      "272/272 [==============================] - 0s 59us/sample - loss: 0.3521 - acc: 0.8493 - val_loss: 0.3843 - val_acc: 0.8710\n",
      "Epoch 83/100\n",
      "272/272 [==============================] - 0s 55us/sample - loss: 0.3509 - acc: 0.8493 - val_loss: 0.3832 - val_acc: 0.8710\n",
      "Epoch 84/100\n",
      "272/272 [==============================] - 0s 55us/sample - loss: 0.3500 - acc: 0.8493 - val_loss: 0.3821 - val_acc: 0.8710\n",
      "Epoch 85/100\n",
      "272/272 [==============================] - 0s 63us/sample - loss: 0.3490 - acc: 0.8493 - val_loss: 0.3813 - val_acc: 0.8710\n",
      "Epoch 86/100\n",
      "272/272 [==============================] - 0s 63us/sample - loss: 0.3481 - acc: 0.8493 - val_loss: 0.3806 - val_acc: 0.8710\n",
      "Epoch 87/100\n",
      "272/272 [==============================] - 0s 62us/sample - loss: 0.3473 - acc: 0.8603 - val_loss: 0.3793 - val_acc: 0.8710\n",
      "Epoch 88/100\n",
      "272/272 [==============================] - 0s 59us/sample - loss: 0.3462 - acc: 0.8566 - val_loss: 0.3787 - val_acc: 0.8710\n",
      "Epoch 89/100\n",
      "272/272 [==============================] - 0s 66us/sample - loss: 0.3453 - acc: 0.8566 - val_loss: 0.3785 - val_acc: 0.8710\n",
      "Epoch 90/100\n",
      "272/272 [==============================] - 0s 66us/sample - loss: 0.3446 - acc: 0.8566 - val_loss: 0.3777 - val_acc: 0.8710\n",
      "Epoch 91/100\n",
      "272/272 [==============================] - 0s 63us/sample - loss: 0.3438 - acc: 0.8566 - val_loss: 0.3771 - val_acc: 0.8710\n",
      "Epoch 92/100\n",
      "272/272 [==============================] - 0s 63us/sample - loss: 0.3428 - acc: 0.8566 - val_loss: 0.3770 - val_acc: 0.8710\n",
      "Epoch 93/100\n",
      "272/272 [==============================] - 0s 70us/sample - loss: 0.3421 - acc: 0.8603 - val_loss: 0.3767 - val_acc: 0.8710\n",
      "Epoch 94/100\n",
      "272/272 [==============================] - 0s 66us/sample - loss: 0.3414 - acc: 0.8603 - val_loss: 0.3764 - val_acc: 0.8710\n",
      "Epoch 95/100\n",
      "272/272 [==============================] - 0s 63us/sample - loss: 0.3407 - acc: 0.8603 - val_loss: 0.3759 - val_acc: 0.8710\n",
      "Epoch 96/100\n",
      "272/272 [==============================] - 0s 66us/sample - loss: 0.3398 - acc: 0.8603 - val_loss: 0.3755 - val_acc: 0.8710\n",
      "Epoch 97/100\n",
      "272/272 [==============================] - 0s 66us/sample - loss: 0.3393 - acc: 0.8603 - val_loss: 0.3752 - val_acc: 0.8710\n",
      "Epoch 98/100\n",
      "272/272 [==============================] - 0s 59us/sample - loss: 0.3385 - acc: 0.8603 - val_loss: 0.3748 - val_acc: 0.8710\n",
      "Epoch 99/100\n",
      "272/272 [==============================] - 0s 66us/sample - loss: 0.3378 - acc: 0.8603 - val_loss: 0.3743 - val_acc: 0.8710\n",
      "Epoch 100/100\n",
      "272/272 [==============================] - 0s 59us/sample - loss: 0.3372 - acc: 0.8603 - val_loss: 0.3744 - val_acc: 0.8710\n"
     ]
    }
   ],
   "source": [
    "baseline_history = baseline_model.fit(X, \n",
    "                                      y, \n",
    "                                      validation_split=0.1, \n",
    "                                      epochs=100,              \n",
    "                                      verbose=True)"
   ]
  },
  {
   "cell_type": "code",
   "execution_count": 35,
   "metadata": {},
   "outputs": [
    {
     "data": {
      "image/png": "[encoded data removed]",
      "text/plain": [
       "<Figure size 432x288 with 1 Axes>"
      ]
     },
     "metadata": {
      "needs_background": "light"
     },
     "output_type": "display_data"
    }
   ],
   "source": [
    "# Plot training & validation loss values\n",
    "plt.plot(baseline_history.history['loss'])\n",
    "plt.plot(baseline_history.history['val_loss'])\n",
    "plt.title('Model loss')\n",
    "plt.ylabel('Loss')\n",
    "plt.xlabel('Epoch')\n",
    "plt.legend(['Train', 'Validation'], loc='best')\n",
    "plt.show()"
   ]
  },
  {
   "cell_type": "code",
   "execution_count": 36,
   "metadata": {},
   "outputs": [
    {
     "data": {
      "image/png": "[encoded data removed]",
      "text/plain": [
       "<Figure size 432x288 with 1 Axes>"
      ]
     },
     "metadata": {
      "needs_background": "light"
     },
     "output_type": "display_data"
    }
   ],
   "source": [
    "# Plot training & validation accuracy values\n",
    "plt.plot(baseline_history.history['acc'])\n",
    "plt.plot(baseline_history.history['val_acc'])\n",
    "plt.title('Model accuracy')\n",
    "plt.ylabel('Accuracy')\n",
    "plt.xlabel('Epoch')\n",
    "plt.legend(['Train', 'Validation'], loc='best')\n",
    "plt.show()"
   ]
  },
  {
   "cell_type": "code",
   "execution_count": 37,
   "metadata": {},
   "outputs": [],
   "source": [
    "baseline_predictions = np.rint(baseline_model.predict(X)).astype(int)"
   ]
  },
  {
   "cell_type": "code",
   "execution_count": 38,
   "metadata": {},
   "outputs": [
    {
     "data": {
      "text/plain": [
       "0.8613861386138614"
      ]
     },
     "execution_count": 38,
     "metadata": {},
     "output_type": "execute_result"
    }
   ],
   "source": [
    "accuracy_score(y, baseline_predictions)"
   ]
  },
  {
   "cell_type": "markdown",
   "metadata": {},
   "source": []
  }
 ],
 "metadata": {
  "kernel_info": {
   "name": "python3"
  },
  "kernelspec": {
   "display_name": "Python 3",
   "language": "python",
   "name": "python3"
  },
  "language_info": {
   "codemirror_mode": {
    "name": "ipython",
    "version": 3
   },
   "file_extension": ".py",
   "mimetype": "text/x-python",
   "name": "python",
   "nbconvert_exporter": "python",
   "pygments_lexer": "ipython3",
   "version": "3.7.3"
  },
  "nteract": {
   "version": "0.15.0"
  }
 },
 "nbformat": 4,
 "nbformat_minor": 4
}
