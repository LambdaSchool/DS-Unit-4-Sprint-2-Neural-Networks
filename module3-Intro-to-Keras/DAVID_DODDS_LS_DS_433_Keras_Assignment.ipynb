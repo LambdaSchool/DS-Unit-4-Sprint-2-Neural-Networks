{
  "nbformat": 4,
  "nbformat_minor": 0,
  "metadata": {
    "colab": {
      "name": "DAVID_DODDS_LS_DS_433_Keras_Assignment.ipynb",
      "provenance": [],
      "collapsed_sections": [],
      "include_colab_link": true
    },
    "kernelspec": {
      "display_name": "Python 3",
      "language": "python",
      "name": "python3"
    },
    "language_info": {
      "codemirror_mode": {
        "name": "ipython",
        "version": 3
      },
      "file_extension": ".py",
      "mimetype": "text/x-python",
      "name": "python",
      "nbconvert_exporter": "python",
      "pygments_lexer": "ipython3",
      "version": "3.7.3"
    },
    "accelerator": "GPU"
  },
  "cells": [
    {
      "cell_type": "markdown",
      "metadata": {
        "id": "view-in-github",
        "colab_type": "text"
      },
      "source": [
        "<a href=\"https://colab.research.google.com/github/ddodds42/DS-Unit-4-Sprint-2-Neural-Networks/blob/master/module3-Intro-to-Keras/DAVID_DODDS_LS_DS_433_Keras_Assignment.ipynb\" target=\"_parent\"><img src=\"https://colab.research.google.com/assets/colab-badge.svg\" alt=\"Open In Colab\"/></a>"
      ]
    },
    {
      "cell_type": "code",
      "metadata": {
        "id": "-ugsfr4W_qNq",
        "colab_type": "code",
        "outputId": "cb15ab4f-074d-43a9-8e02-e154fe7c99b7",
        "colab": {
          "base_uri": "https://localhost:8080/",
          "height": 35
        }
      },
      "source": [
        "%pwd"
      ],
      "execution_count": 1,
      "outputs": [
        {
          "output_type": "execute_result",
          "data": {
            "text/plain": [
              "'/content'"
            ]
          },
          "metadata": {
            "tags": []
          },
          "execution_count": 1
        }
      ]
    },
    {
      "cell_type": "code",
      "metadata": {
        "colab_type": "code",
        "id": "8NLTAR87uYJ-",
        "colab": {}
      },
      "source": [
        "import tensorflow as tf\n",
        "from tensorflow.keras.datasets import mnist\n",
        "from tensorflow.keras.utils import to_categorical\n",
        "from tensorflow.keras.models import Sequential\n",
        "from tensorflow.keras.layers import Flatten, Dense\n",
        "import os\n",
        "import datetime\n",
        "import pandas as pd"
      ],
      "execution_count": 0,
      "outputs": []
    },
    {
      "cell_type": "code",
      "metadata": {
        "id": "YfsEIp-w_vKl",
        "colab_type": "code",
        "colab": {}
      },
      "source": [
        "from tensorflow.keras.datasets import boston_housing"
      ],
      "execution_count": 0,
      "outputs": []
    },
    {
      "cell_type": "code",
      "metadata": {
        "id": "NPRs6EQpAJAY",
        "colab_type": "code",
        "colab": {
          "base_uri": "https://localhost:8080/",
          "height": 52
        },
        "outputId": "d0ae22d7-7d28-4622-bf1e-a872d585ed95"
      },
      "source": [
        "(X_train, y_train), (X_test, y_test) = boston_housing.load_data()"
      ],
      "execution_count": 4,
      "outputs": [
        {
          "output_type": "stream",
          "text": [
            "Downloading data from https://storage.googleapis.com/tensorflow/tf-keras-datasets/boston_housing.npz\n",
            "57344/57026 [==============================] - 0s 0us/step\n"
          ],
          "name": "stdout"
        }
      ]
    },
    {
      "cell_type": "code",
      "metadata": {
        "id": "dZGZbhlQAZx9",
        "colab_type": "code",
        "colab": {}
      },
      "source": [
        "%load_ext tensorboard\n",
        "\n",
        "logdir = os.path.join(\"logs\", datetime.datetime.now().strftime(\"%Y%m%d-%H%M%S\"))\n",
        "tensorboard_callback = tf.keras.callbacks.TensorBoard(logdir, histogram_freq=1)"
      ],
      "execution_count": 0,
      "outputs": []
    },
    {
      "cell_type": "code",
      "metadata": {
        "id": "wNP6Z9bjD_5i",
        "colab_type": "code",
        "outputId": "82f92bbf-934f-4e6e-ac20-c2e81563881c",
        "colab": {
          "base_uri": "https://localhost:8080/",
          "height": 35
        }
      },
      "source": [
        "type(boston_housing)"
      ],
      "execution_count": 6,
      "outputs": [
        {
          "output_type": "execute_result",
          "data": {
            "text/plain": [
              "module"
            ]
          },
          "metadata": {
            "tags": []
          },
          "execution_count": 6
        }
      ]
    },
    {
      "cell_type": "code",
      "metadata": {
        "id": "BC-mdRknDD-u",
        "colab_type": "code",
        "colab": {}
      },
      "source": [
        "# import pandas as pd\n",
        "# bwostin = pd.DataFrame(data=boston_housing)\n",
        "\n",
        "# bwostin.head()"
      ],
      "execution_count": 0,
      "outputs": []
    },
    {
      "cell_type": "code",
      "metadata": {
        "id": "uNMsVxdmAgIF",
        "colab_type": "code",
        "colab": {}
      },
      "source": [
        "from sklearn.preprocessing import StandardScaler"
      ],
      "execution_count": 0,
      "outputs": []
    },
    {
      "cell_type": "code",
      "metadata": {
        "id": "7ZADc6sOCzbL",
        "colab_type": "code",
        "colab": {}
      },
      "source": [
        "scaler = StandardScaler()"
      ],
      "execution_count": 0,
      "outputs": []
    },
    {
      "cell_type": "code",
      "metadata": {
        "id": "qnzvzxx0C5Os",
        "colab_type": "code",
        "outputId": "1ae8a05a-6cce-4ffb-ddb0-3616e2262631",
        "colab": {
          "base_uri": "https://localhost:8080/",
          "height": 550
        }
      },
      "source": [
        "X_train_std = scaler.fit_transform(X_train)\n",
        "X_test_std = scaler.transform(X_test)\n",
        "print(X_train_std[:10])"
      ],
      "execution_count": 10,
      "outputs": [
        {
          "output_type": "stream",
          "text": [
            "[[-0.27224633 -0.48361547 -0.43576161 -0.25683275 -0.1652266  -0.1764426\n",
            "   0.81306188  0.1166983  -0.62624905 -0.59517003  1.14850044  0.44807713\n",
            "   0.8252202 ]\n",
            " [-0.40342651  2.99178419 -1.33391162 -0.25683275 -1.21518188  1.89434613\n",
            "  -1.91036058  1.24758524 -0.85646254 -0.34843254 -1.71818909  0.43190599\n",
            "  -1.32920239]\n",
            " [ 0.1249402  -0.48361547  1.0283258  -0.25683275  0.62864202 -1.82968811\n",
            "   1.11048828 -1.18743907  1.67588577  1.5652875   0.78447637  0.22061726\n",
            "  -1.30850006]\n",
            " [-0.40149354 -0.48361547 -0.86940196 -0.25683275 -0.3615597  -0.3245576\n",
            "  -1.23667187  1.10717989 -0.51114231 -1.094663    0.78447637  0.44807713\n",
            "  -0.65292624]\n",
            " [-0.0056343  -0.48361547  1.0283258  -0.25683275  1.32861221  0.15364225\n",
            "   0.69480801 -0.57857203  1.67588577  1.5652875   0.78447637  0.3898823\n",
            "   0.26349695]\n",
            " [-0.37502238 -0.48361547 -0.54747912 -0.25683275 -0.54935658 -0.78865126\n",
            "   0.18954148  0.48371503 -0.51114231 -0.71552978  0.51145832  0.38669063\n",
            "  -0.13812828]\n",
            " [ 0.58963463 -0.48361547  1.0283258  -0.25683275  1.21764133 -1.03127774\n",
            "   1.11048828 -1.06518235  1.67588577  1.5652875   0.78447637  0.44807713\n",
            "   1.49873604]\n",
            " [ 0.0381708  -0.48361547  1.24588095 -0.25683275  2.67733525 -1.12719983\n",
            "   1.11048828 -1.14833073 -0.51114231 -0.01744323 -1.71818909  0.44807713\n",
            "   1.88793986]\n",
            " [-0.17228416 -0.48361547  1.24588095 -0.25683275  2.67733525 -0.90150078\n",
            "   1.11048828 -1.09664657 -0.51114231 -0.01744323 -1.71818909 -1.97365769\n",
            "   0.53952803]\n",
            " [-0.22932104 -0.48361547  1.58544339 -0.25683275  0.56888847 -1.76056777\n",
            "   1.11048828 -1.13471925 -0.62624905  0.18716835  1.23950646  0.44807713\n",
            "   2.99068404]]\n"
          ],
          "name": "stdout"
        }
      ]
    },
    {
      "cell_type": "code",
      "metadata": {
        "id": "QiSGyURhDM9a",
        "colab_type": "code",
        "colab": {}
      },
      "source": [
        "inputs = X_train_std.shape[1]\n",
        "epix = 100\n",
        "batch_sizzle = 10"
      ],
      "execution_count": 0,
      "outputs": []
    },
    {
      "cell_type": "code",
      "metadata": {
        "id": "T8FtVqgiFQ6P",
        "colab_type": "code",
        "colab": {}
      },
      "source": [
        "model = Sequential()\n",
        "model.add(Dense(64,activation='relu',input_shape=(inputs,)))\n",
        "model.add(Dense(64,activation='relu'))\n",
        "model.add(Dense(1))"
      ],
      "execution_count": 0,
      "outputs": []
    },
    {
      "cell_type": "code",
      "metadata": {
        "id": "3A55TamuFvI8",
        "colab_type": "code",
        "colab": {}
      },
      "source": [
        "model.compile(optimizer='adam', loss='mse', metrics=['mse','mae'])"
      ],
      "execution_count": 0,
      "outputs": []
    },
    {
      "cell_type": "code",
      "metadata": {
        "id": "CEpINQAGajyF",
        "colab_type": "code",
        "outputId": "e9fecfc9-bdb5-4420-ee40-b73b695d1c20",
        "colab": {
          "base_uri": "https://localhost:8080/",
          "height": 168
        }
      },
      "source": [
        "raise Exception('skip this cell!')"
      ],
      "execution_count": 14,
      "outputs": [
        {
          "output_type": "error",
          "ename": "Exception",
          "evalue": "ignored",
          "traceback": [
            "\u001b[0;31m---------------------------------------------------------------------------\u001b[0m",
            "\u001b[0;31mException\u001b[0m                                 Traceback (most recent call last)",
            "\u001b[0;32m<ipython-input-14-1f9cec77f612>\u001b[0m in \u001b[0;36m<module>\u001b[0;34m()\u001b[0m\n\u001b[0;32m----> 1\u001b[0;31m \u001b[0;32mraise\u001b[0m \u001b[0mException\u001b[0m\u001b[0;34m(\u001b[0m\u001b[0;34m'skip this cell!'\u001b[0m\u001b[0;34m)\u001b[0m\u001b[0;34m\u001b[0m\u001b[0;34m\u001b[0m\u001b[0m\n\u001b[0m",
            "\u001b[0;31mException\u001b[0m: skip this cell!"
          ]
        }
      ]
    },
    {
      "cell_type": "code",
      "metadata": {
        "id": "36vwxrNqGI6_",
        "colab_type": "code",
        "colab": {}
      },
      "source": [
        "results = model.fit(\n",
        "    X_train_std, y_train, validation_data = (X_test_std, y_test),\n",
        "    epochs = epix, batch_size = batch_sizzle, callbacks = [tensorboard_callback]\n",
        ")"
      ],
      "execution_count": 0,
      "outputs": []
    },
    {
      "cell_type": "code",
      "metadata": {
        "id": "T7kVZyKJG8uW",
        "colab_type": "code",
        "colab": {}
      },
      "source": [
        "%tensorboard --logdir logs"
      ],
      "execution_count": 0,
      "outputs": []
    },
    {
      "cell_type": "code",
      "metadata": {
        "id": "O8Ut7B6GHKtI",
        "colab_type": "code",
        "colab": {}
      },
      "source": [
        "# epoch 99"
      ],
      "execution_count": 0,
      "outputs": []
    },
    {
      "cell_type": "code",
      "metadata": {
        "id": "rOqkB3TuIQ1i",
        "colab_type": "code",
        "colab": {}
      },
      "source": [
        "import matplotlib.pyplot as plt\n",
        "\n",
        "epix0 = range(len(results.history['mse']))\n",
        "\n",
        "plt.plot(epix0, results.history['mse'], label='Train')\n",
        "plt.plot(epix0, results.history['val_mse'], label='Test')\n",
        "\n",
        "plt.title('Epoch accuracy')\n",
        "plt.xlabel('Epochs')\n",
        "plt.ylabel('Classification Accuracy')\n",
        "plt.legend()\n",
        "plt.show()"
      ],
      "execution_count": 0,
      "outputs": []
    },
    {
      "cell_type": "code",
      "metadata": {
        "id": "K090YoJKPg9g",
        "colab_type": "code",
        "colab": {}
      },
      "source": [
        "from sklearn.linear_model import LinearRegression\n",
        "from sklearn.metrics import mean_squared_error"
      ],
      "execution_count": 0,
      "outputs": []
    },
    {
      "cell_type": "code",
      "metadata": {
        "id": "i0YGjrRjTucJ",
        "colab_type": "code",
        "colab": {}
      },
      "source": [
        "lin_mod = LinearRegression()"
      ],
      "execution_count": 0,
      "outputs": []
    },
    {
      "cell_type": "code",
      "metadata": {
        "id": "VAYop0GFUXHE",
        "colab_type": "code",
        "colab": {}
      },
      "source": [
        "lin_mod.fit(X_train_std, y_train)"
      ],
      "execution_count": 0,
      "outputs": []
    },
    {
      "cell_type": "code",
      "metadata": {
        "id": "AEgdTqiPVeLg",
        "colab_type": "code",
        "colab": {}
      },
      "source": [
        "y_pred = lin_mod.predict(X_test_std)"
      ],
      "execution_count": 0,
      "outputs": []
    },
    {
      "cell_type": "code",
      "metadata": {
        "id": "f1PlYpAeWSKN",
        "colab_type": "code",
        "colab": {}
      },
      "source": [
        "mean_squared_error(y_pred, y_test)"
      ],
      "execution_count": 0,
      "outputs": []
    },
    {
      "cell_type": "markdown",
      "metadata": {
        "id": "I-v1NzvSWnHU",
        "colab_type": "text"
      },
      "source": [
        "# The neural net with 1 hidden layer beat a linear regression by almost 10 MSE points.\n",
        "\n",
        "# Linear Model MSE = 23.1956\n",
        "\n",
        "# Neural Net MSE = 13.2054"
      ]
    },
    {
      "cell_type": "code",
      "metadata": {
        "id": "ahLqT0kCWgzq",
        "colab_type": "code",
        "colab": {}
      },
      "source": [
        "print(X_train_std[:2])"
      ],
      "execution_count": 0,
      "outputs": []
    },
    {
      "cell_type": "code",
      "metadata": {
        "id": "U0pH__R6X-_o",
        "colab_type": "code",
        "colab": {}
      },
      "source": [
        "X_train"
      ],
      "execution_count": 0,
      "outputs": []
    },
    {
      "cell_type": "code",
      "metadata": {
        "id": "6L63FSm8YDrS",
        "colab_type": "code",
        "colab": {}
      },
      "source": [
        "def recolumn(array):\n",
        "  cols = [\n",
        "             'crime', 'zoning', 'industry', 'river', 'nox', 'rooms', 'age',\n",
        "             'commute', 'highways', 'tax', 'teachers', 'racist', 'classist'\n",
        "             ]\n",
        "  return pd.DataFrame(array, columns = cols)"
      ],
      "execution_count": 0,
      "outputs": []
    },
    {
      "cell_type": "code",
      "metadata": {
        "id": "1qlvohmaZPEK",
        "colab_type": "code",
        "colab": {}
      },
      "source": [
        "X_train_frame = recolumn(X_train)\n",
        "X_train_frame.head()"
      ],
      "execution_count": 0,
      "outputs": []
    },
    {
      "cell_type": "code",
      "metadata": {
        "id": "g2ivvosbZdEL",
        "colab_type": "code",
        "colab": {}
      },
      "source": [
        "X_test_frame = recolumn(X_test)\n",
        "X_test_frame.head()"
      ],
      "execution_count": 0,
      "outputs": []
    },
    {
      "cell_type": "code",
      "metadata": {
        "id": "gS5vT4W4aHcQ",
        "colab_type": "code",
        "colab": {}
      },
      "source": [
        "def MLK(racist_dataframe):\n",
        "  return racist_dataframe.drop(columns = ['racist', 'classist'])"
      ],
      "execution_count": 0,
      "outputs": []
    },
    {
      "cell_type": "code",
      "metadata": {
        "id": "L_3XhWabbqCH",
        "colab_type": "code",
        "colab": {}
      },
      "source": [
        "X_train_mlk = MLK(X_train_frame)\n",
        "X_train_mlk.head()"
      ],
      "execution_count": 0,
      "outputs": []
    },
    {
      "cell_type": "code",
      "metadata": {
        "id": "kAPlxw9cb-_L",
        "colab_type": "code",
        "colab": {}
      },
      "source": [
        "X_test_mlk = MLK(X_test_frame)\n",
        "X_test_mlk.head()"
      ],
      "execution_count": 0,
      "outputs": []
    },
    {
      "cell_type": "code",
      "metadata": {
        "id": "2mSL2DC2cYNi",
        "colab_type": "code",
        "colab": {}
      },
      "source": [
        "X_train_mlk_std = scaler.fit_transform(X_train_mlk)\n",
        "X_test_mlk_std = scaler.transform(X_test_mlk)\n",
        "print(X_test_mlk_std[:2])"
      ],
      "execution_count": 0,
      "outputs": []
    },
    {
      "cell_type": "code",
      "metadata": {
        "id": "swoAe5-Vchtt",
        "colab_type": "code",
        "colab": {}
      },
      "source": [
        "inputs0 = X_train_mlk_std.shape[1]"
      ],
      "execution_count": 0,
      "outputs": []
    },
    {
      "cell_type": "code",
      "metadata": {
        "id": "LsKwmJcedFbg",
        "colab_type": "code",
        "colab": {}
      },
      "source": [
        "model0 = Sequential()\n",
        "model0.add(Dense(64,activation='relu',input_shape=(inputs0,)))\n",
        "model0.add(Dense(64,activation='relu'))\n",
        "model0.add(Dense(1))\n",
        "\n",
        "model0.compile(optimizer='adam', loss='mse', metrics=['mse','mae'])\n",
        "\n",
        "results0 = model0.fit(\n",
        "    X_train_mlk_std, y_train, validation_data = (X_test_mlk_std, y_test),\n",
        "    epochs = epix, batch_size = batch_sizzle, callbacks = [tensorboard_callback]\n",
        ")"
      ],
      "execution_count": 0,
      "outputs": []
    },
    {
      "cell_type": "code",
      "metadata": {
        "id": "xQnJo8yJdoZK",
        "colab_type": "code",
        "colab": {}
      },
      "source": [
        "%tensorboard --logdir logs"
      ],
      "execution_count": 0,
      "outputs": []
    },
    {
      "cell_type": "code",
      "metadata": {
        "id": "rduEGNHtdzQS",
        "colab_type": "code",
        "colab": {}
      },
      "source": [
        "import matplotlib.pyplot as plt\n",
        "\n",
        "epix1 = range(len(results0.history['mse']))\n",
        "\n",
        "plt.plot(epix1, results0.history['mse'], label='Train')\n",
        "plt.plot(epix1, results0.history['val_mse'], label='Test')\n",
        "\n",
        "plt.title('Race neutral NN Epoch error')\n",
        "plt.xlabel('Epochs')\n",
        "plt.ylabel('Classification error')\n",
        "plt.legend()\n",
        "plt.show()"
      ],
      "execution_count": 0,
      "outputs": []
    },
    {
      "cell_type": "markdown",
      "metadata": {
        "id": "A1Q2TLjje0Kj",
        "colab_type": "text"
      },
      "source": [
        "# The neural net isn't worse without the racist feature because the algorithm is racist, it's worst because Bostonians in the 1970's were racist.\n",
        "\n",
        "# Original Racist Neural Net MSE = 13.2054\n",
        "\n",
        "# Race - neutral Neural Net MSE = 21.83"
      ]
    },
    {
      "cell_type": "code",
      "metadata": {
        "id": "bITP0FkCeyhI",
        "colab_type": "code",
        "colab": {}
      },
      "source": [
        "lin_mod0 = LinearRegression()\n",
        "lin_mod0.fit(X_train_mlk_std, y_train)\n",
        "y_pred0 = lin_mod0.predict(X_test_mlk_std)\n",
        "mean_squared_error(y_pred0, y_test)"
      ],
      "execution_count": 0,
      "outputs": []
    },
    {
      "cell_type": "markdown",
      "metadata": {
        "id": "QBHsLOEsgVTp",
        "colab_type": "text"
      },
      "source": [
        "# Original Racist Linear Model MSE = 23.1956\n",
        "\n",
        "#Race - neutral Linear Model MSE = 24.6808\n",
        "\n",
        "# It looks like the Neural Network's error suffered more from the removal of the racist feature, which is because it is better at dectecting racism in 1970's Bostonians. It can smell it..."
      ]
    },
    {
      "cell_type": "markdown",
      "metadata": {
        "colab_type": "text",
        "id": "pBQsZEJmubLs"
      },
      "source": [
        "<img align=\"left\" src=\"https://lever-client-logos.s3.amazonaws.com/864372b1-534c-480e-acd5-9711f850815c-1524247202159.png\" width=200>\n",
        "<br></br>\n",
        "\n",
        "# Neural Network Framework (Keras)\n",
        "\n",
        "## *Data Science Unit 4 Sprint 2 Assignment 3*\n",
        "\n",
        "## Use the Keras Library to build a Multi-Layer Perceptron Model on the Boston Housing dataset\n",
        "\n",
        "- [x] The Boston Housing dataset comes with the Keras library so use Keras to import it into your notebook. \n",
        "- [x] Normalize the data (all features should have roughly the same scale)\n",
        "- [x] Import the type of model and layers that you will need from Keras.\n",
        "- [x] Instantiate a model object and use `model.add()` to add layers to your model\n",
        "- [x] Since this is a regression model you will have a single output node in the final layer.\n",
        "- [x] Use activation functions that are appropriate for this task\n",
        "- [x] Compile your model\n",
        "- [x] Fit your model and report its accuracy in terms of Mean Squared Error\n",
        "- [x] Use the history object that is returned from model.fit to make graphs of the model's loss or train/validation accuracies by epoch. \n",
        "- [x] Run this same data through a linear regression model. Which achieves higher accuracy?\n",
        "- [x] Do a little bit of feature engineering and see how that affects your neural network model. (you will need to change your model to accept more inputs)\n",
        "- [x] After feature engineering, which model sees a greater accuracy boost due to the new features?"
      ]
    },
    {
      "cell_type": "code",
      "metadata": {
        "id": "IJilxWZ0eKaR",
        "colab_type": "code",
        "colab": {
          "base_uri": "https://localhost:8080/",
          "height": 159
        },
        "outputId": "6d1b17a7-2998-4874-e7c1-a86ac75ed1dc"
      },
      "source": [
        "from tensorflow.keras.datasets import fashion_mnist\n",
        "\n",
        "(X_train, y_train), (X_test, y_test) = fashion_mnist.load_data()\n",
        "\n",
        "y_train = to_categorical(y_train)\n",
        "y_test = to_categorical(y_test)"
      ],
      "execution_count": 15,
      "outputs": [
        {
          "output_type": "stream",
          "text": [
            "Downloading data from https://storage.googleapis.com/tensorflow/tf-keras-datasets/train-labels-idx1-ubyte.gz\n",
            "32768/29515 [=================================] - 0s 0us/step\n",
            "Downloading data from https://storage.googleapis.com/tensorflow/tf-keras-datasets/train-images-idx3-ubyte.gz\n",
            "26427392/26421880 [==============================] - 0s 0us/step\n",
            "Downloading data from https://storage.googleapis.com/tensorflow/tf-keras-datasets/t10k-labels-idx1-ubyte.gz\n",
            "8192/5148 [===============================================] - 0s 0us/step\n",
            "Downloading data from https://storage.googleapis.com/tensorflow/tf-keras-datasets/t10k-images-idx3-ubyte.gz\n",
            "4423680/4422102 [==============================] - 0s 0us/step\n"
          ],
          "name": "stdout"
        }
      ]
    },
    {
      "cell_type": "code",
      "metadata": {
        "colab_type": "code",
        "id": "szi6-IpuzaH1",
        "outputId": "5ba1408f-ad1d-4226-ab64-0831c590ed9f",
        "colab": {
          "base_uri": "https://localhost:8080/",
          "height": 52
        }
      },
      "source": [
        "%load_ext tensorboard\n",
        "\n",
        "import os\n",
        "import datetime\n",
        "import tensorflow as tf\n",
        "\n",
        "logdir = os.path.join(\"logs\", datetime.datetime.now().strftime(\"%Y%m%d-%H%M%S\"))\n",
        "tensorboard_callback = tf.keras.callbacks.TensorBoard(logdir, histogram_freq=1)"
      ],
      "execution_count": 16,
      "outputs": [
        {
          "output_type": "stream",
          "text": [
            "The tensorboard extension is already loaded. To reload it, use:\n",
            "  %reload_ext tensorboard\n"
          ],
          "name": "stdout"
        }
      ]
    },
    {
      "cell_type": "code",
      "metadata": {
        "id": "RFVpg4_llNpu",
        "colab_type": "code",
        "outputId": "a1e280a0-0ea3-4fb0-903d-c4e700914440",
        "colab": {
          "base_uri": "https://localhost:8080/",
          "height": 35
        }
      },
      "source": [
        "X_train.shape"
      ],
      "execution_count": 17,
      "outputs": [
        {
          "output_type": "execute_result",
          "data": {
            "text/plain": [
              "(60000, 28, 28)"
            ]
          },
          "metadata": {
            "tags": []
          },
          "execution_count": 17
        }
      ]
    },
    {
      "cell_type": "code",
      "metadata": {
        "id": "ayd7XmpnaFBH",
        "colab_type": "code",
        "outputId": "ea6eaf55-014e-4f00-da0e-25b033222d28",
        "colab": {
          "base_uri": "https://localhost:8080/",
          "height": 168
        }
      },
      "source": [
        "raise Exception('skip this cell!')"
      ],
      "execution_count": 18,
      "outputs": [
        {
          "output_type": "error",
          "ename": "Exception",
          "evalue": "ignored",
          "traceback": [
            "\u001b[0;31m---------------------------------------------------------------------------\u001b[0m",
            "\u001b[0;31mException\u001b[0m                                 Traceback (most recent call last)",
            "\u001b[0;32m<ipython-input-18-1f9cec77f612>\u001b[0m in \u001b[0;36m<module>\u001b[0;34m()\u001b[0m\n\u001b[0;32m----> 1\u001b[0;31m \u001b[0;32mraise\u001b[0m \u001b[0mException\u001b[0m\u001b[0;34m(\u001b[0m\u001b[0;34m'skip this cell!'\u001b[0m\u001b[0;34m)\u001b[0m\u001b[0;34m\u001b[0m\u001b[0;34m\u001b[0m\u001b[0m\n\u001b[0m",
            "\u001b[0;31mException\u001b[0m: skip this cell!"
          ]
        }
      ]
    },
    {
      "cell_type": "code",
      "metadata": {
        "id": "SgqjGefJmRHx",
        "colab_type": "code",
        "colab": {}
      },
      "source": [
        "from tensorflow.keras.callbacks import EarlyStopping\n",
        "stop = EarlyStopping(monitor='val_accuracy', min_delta=0.01, patience=16)\n",
        "\n",
        "model = Sequential([\n",
        "    Flatten(input_shape=(28, 28)),\n",
        "    Dense(1024, input_dim=784, activation=\"relu\"),\n",
        "    Dense(10, activation=\"softmax\"),\n",
        "])\n",
        "\n",
        "model.compile(loss='categorical_crossentropy', optimizer='adam', metrics=['accuracy'])\n",
        "\n",
        "model.fit(x=X_train, \n",
        "        y=y_train, \n",
        "        epochs=100, \n",
        "        validation_data=(X_test, y_test), \n",
        "        callbacks=[tensorboard_callback, stop])"
      ],
      "execution_count": 0,
      "outputs": []
    },
    {
      "cell_type": "code",
      "metadata": {
        "id": "hU0EUcYWoD0I",
        "colab_type": "code",
        "colab": {}
      },
      "source": [
        "from tensorflow.keras.layers import Dropout\n",
        "\n",
        "# stop = EarlyStopping(monitor='val_accuracy', min_delta=0.01, patience=16)\n",
        "\n",
        "model1 = Sequential([\n",
        "    Flatten(input_shape=(28, 28)),\n",
        "    Dense(1024, input_dim=784, activation=\"relu\"),\n",
        "    Dropout(0.2),\n",
        "    Dense(10, activation=\"softmax\"),\n",
        "])\n",
        "\n",
        "model1.compile(loss='categorical_crossentropy', optimizer='adam', metrics=['accuracy'])\n",
        "\n",
        "model1.fit(x=X_train, \n",
        "        y=y_train, \n",
        "        epochs=100, \n",
        "        validation_data=(X_test, y_test), \n",
        "        callbacks=[tensorboard_callback, stop])"
      ],
      "execution_count": 0,
      "outputs": []
    },
    {
      "cell_type": "code",
      "metadata": {
        "id": "tAoWMoH1eou5",
        "colab_type": "code",
        "outputId": "52ae8faf-7e1b-4b05-a57f-11d2d2237db5",
        "colab": {
          "base_uri": "https://localhost:8080/",
          "height": 212
        }
      },
      "source": [
        "from sklearn.model_selection import GridSearchCV, RandomizedSearchCV\n",
        "from tensorflow.keras.wrappers.scikit_learn import KerasClassifier\n",
        "import numpy as np\n",
        "from tensorflow.keras.optimizers import Adam, SGD, Nadam, Adadelta\n",
        "\n",
        "np.random.seed(8)\n",
        "\n",
        "def create_model(learning_rate=0.01, optimizer=Adam()):\n",
        "  model = Sequential()\n",
        "  model.add(Flatten(input_shape=(28, 28)))\n",
        "  model.add(Dense(1024, input_dim=784, activation=\"relu\"))\n",
        "  model.add(Dense(10, activation=\"softmax\"))\n",
        "  optim = optimizer(learning_rate=learning_rate)\n",
        "  model.compile(optimizer=optim, loss='binary_crossentropy', metrics='accuracy')\n",
        "  return model\n",
        "\n",
        "model4 = KerasClassifier(build_fn=create_model, verbose=0)\n",
        "\n",
        "# para_grid = {\n",
        "#     'batch_size': [8, 64], 'epochs': [20],\n",
        "#     'learning_rate': [0.001, 1],\n",
        "#     'optimizer': [Adam, SGD, Nadam, Adadelta],\n",
        "#     }\n",
        "\n",
        "para_grid = {\n",
        "    'batch_size': [8, 16, 32, 64], 'epochs': [20],\n",
        "    'learning_rate': [0.001, 0.01, 0.1, 1],\n",
        "    'optimizer': [Adam, SGD, Nadam, Adadelta],\n",
        "    }\n",
        "\n",
        "grid = RandomizedSearchCV(estimator=model4, param_distributions=para_grid, n_jobs=1)\n",
        "grid_result = grid.fit(X_train, y_train)\n",
        "\n",
        "print(f\"Best: {grid_result.best_score_} using {grid_result.best_params_}\")\n",
        "means = grid_result.cv_results_['mean_test_score']\n",
        "stds = grid_result.cv_results_['std_test_score']\n",
        "params = grid_result.cv_results_['params']\n",
        "for mean, stdev, param in zip(means, stds, params):\n",
        "    print(f\"Means: {mean}, Stdev: {stdev} with: {param}\") "
      ],
      "execution_count": 19,
      "outputs": [
        {
          "output_type": "stream",
          "text": [
            "Best: 0.8244333386421203 using {'optimizer': <class 'tensorflow.python.keras.optimizer_v2.adadelta.Adadelta'>, 'learning_rate': 0.01, 'epochs': 20, 'batch_size': 16}\n",
            "Means: 0.5997166574001312, Stdev: 0.10755102619830086 with: {'optimizer': <class 'tensorflow.python.keras.optimizer_v2.gradient_descent.SGD'>, 'learning_rate': 0.001, 'epochs': 20, 'batch_size': 8}\n",
            "Means: 0.09918333292007446, Stdev: 0.0020584528021899418 with: {'optimizer': <class 'tensorflow.python.keras.optimizer_v2.adam.Adam'>, 'learning_rate': 0.1, 'epochs': 20, 'batch_size': 64}\n",
            "Means: 0.09925000071525573, Stdev: 0.0004377992560275746 with: {'optimizer': <class 'tensorflow.python.keras.optimizer_v2.gradient_descent.SGD'>, 'learning_rate': 0.1, 'epochs': 20, 'batch_size': 16}\n",
            "Means: 0.10066666752099991, Stdev: 0.001892969742483469 with: {'optimizer': <class 'tensorflow.python.keras.optimizer_v2.adam.Adam'>, 'learning_rate': 1, 'epochs': 20, 'batch_size': 8}\n",
            "Means: 0.10046666711568833, Stdev: 0.00045521881708829206 with: {'optimizer': <class 'tensorflow.python.keras.optimizer_v2.adam.Adam'>, 'learning_rate': 1, 'epochs': 20, 'batch_size': 64}\n",
            "Means: 0.09981666505336761, Stdev: 0.0024217769520101626 with: {'optimizer': <class 'tensorflow.python.keras.optimizer_v2.adam.Adam'>, 'learning_rate': 0.001, 'epochs': 20, 'batch_size': 16}\n",
            "Means: 0.09943333119153977, Stdev: 0.0023619676232049676 with: {'optimizer': <class 'tensorflow.python.keras.optimizer_v2.adadelta.Adadelta'>, 'learning_rate': 1, 'epochs': 20, 'batch_size': 64}\n",
            "Means: 0.8139666795730591, Stdev: 0.0335901582692324 with: {'optimizer': <class 'tensorflow.python.keras.optimizer_v2.adadelta.Adadelta'>, 'learning_rate': 0.1, 'epochs': 20, 'batch_size': 64}\n",
            "Means: 0.10031666755676269, Stdev: 0.0005948838235524948 with: {'optimizer': <class 'tensorflow.python.keras.optimizer_v2.adam.Adam'>, 'learning_rate': 0.001, 'epochs': 20, 'batch_size': 32}\n",
            "Means: 0.8244333386421203, Stdev: 0.036467469543481144 with: {'optimizer': <class 'tensorflow.python.keras.optimizer_v2.adadelta.Adadelta'>, 'learning_rate': 0.01, 'epochs': 20, 'batch_size': 16}\n"
          ],
          "name": "stdout"
        }
      ]
    },
    {
      "cell_type": "markdown",
      "metadata": {
        "id": "rZxm2LeQ2mrw",
        "colab_type": "text"
      },
      "source": [
        "# 82.44% accuracy. Wee dowggies."
      ]
    },
    {
      "cell_type": "code",
      "metadata": {
        "id": "rQqMrJq_D_gx",
        "colab_type": "code",
        "colab": {
          "base_uri": "https://localhost:8080/",
          "height": 1000
        },
        "outputId": "04ecd8a9-39ee-4eec-83b6-35f2c8b2937a"
      },
      "source": [
        "from tensorflow.keras.callbacks import EarlyStopping\n",
        "stop = EarlyStopping(monitor='val_accuracy', min_delta=0.01, patience=16)\n",
        "\n",
        "model = Sequential([\n",
        "    Flatten(input_shape=(28, 28)),\n",
        "    Dense(1024, input_dim=784, activation=\"relu\"),\n",
        "    Dense(10, activation=\"softmax\"),\n",
        "])\n",
        "\n",
        "optim = Adadelta(learning_rate=0.01)\n",
        "\n",
        "model.compile(loss='categorical_crossentropy', optimizer=optim, metrics=['accuracy'])\n",
        "\n",
        "result = model.fit(x=X_train, \n",
        "        y=y_train, \n",
        "        epochs=100,\n",
        "        batch_size=16,\n",
        "        validation_data=(X_test, y_test), \n",
        "        callbacks=[tensorboard_callback, stop])"
      ],
      "execution_count": 24,
      "outputs": [
        {
          "output_type": "stream",
          "text": [
            "Epoch 1/100\n",
            "3750/3750 [==============================] - 10s 3ms/step - loss: 10.0839 - accuracy: 0.7135 - val_loss: 6.4519 - val_accuracy: 0.7706\n",
            "Epoch 2/100\n",
            "3750/3750 [==============================] - 10s 3ms/step - loss: 5.2074 - accuracy: 0.7956 - val_loss: 5.2569 - val_accuracy: 0.7908\n",
            "Epoch 3/100\n",
            "3750/3750 [==============================] - 10s 3ms/step - loss: 4.1509 - accuracy: 0.8116 - val_loss: 4.5716 - val_accuracy: 0.8002\n",
            "Epoch 4/100\n",
            "3750/3750 [==============================] - 10s 3ms/step - loss: 3.5555 - accuracy: 0.8234 - val_loss: 4.0078 - val_accuracy: 0.8142\n",
            "Epoch 5/100\n",
            "3750/3750 [==============================] - 10s 3ms/step - loss: 3.1095 - accuracy: 0.8325 - val_loss: 3.8973 - val_accuracy: 0.8167\n",
            "Epoch 6/100\n",
            "3750/3750 [==============================] - 10s 3ms/step - loss: 2.8048 - accuracy: 0.8392 - val_loss: 3.5493 - val_accuracy: 0.8201\n",
            "Epoch 7/100\n",
            "3750/3750 [==============================] - 10s 3ms/step - loss: 2.5775 - accuracy: 0.8431 - val_loss: 3.5007 - val_accuracy: 0.8150\n",
            "Epoch 8/100\n",
            "3750/3750 [==============================] - 10s 3ms/step - loss: 2.3862 - accuracy: 0.8484 - val_loss: 3.6010 - val_accuracy: 0.8225\n",
            "Epoch 9/100\n",
            "3750/3750 [==============================] - 10s 3ms/step - loss: 2.2227 - accuracy: 0.8519 - val_loss: 3.2612 - val_accuracy: 0.8289\n",
            "Epoch 10/100\n",
            "3750/3750 [==============================] - 10s 3ms/step - loss: 2.0665 - accuracy: 0.8566 - val_loss: 3.2240 - val_accuracy: 0.8216\n",
            "Epoch 11/100\n",
            "3750/3750 [==============================] - 10s 3ms/step - loss: 1.9439 - accuracy: 0.8605 - val_loss: 2.9474 - val_accuracy: 0.8315\n",
            "Epoch 12/100\n",
            "3750/3750 [==============================] - 10s 3ms/step - loss: 1.8424 - accuracy: 0.8625 - val_loss: 2.8366 - val_accuracy: 0.8349\n",
            "Epoch 13/100\n",
            "3750/3750 [==============================] - 10s 3ms/step - loss: 1.7376 - accuracy: 0.8658 - val_loss: 2.9859 - val_accuracy: 0.8230\n",
            "Epoch 14/100\n",
            "3750/3750 [==============================] - 11s 3ms/step - loss: 1.6434 - accuracy: 0.8712 - val_loss: 2.6854 - val_accuracy: 0.8390\n",
            "Epoch 15/100\n",
            "3750/3750 [==============================] - 10s 3ms/step - loss: 1.5597 - accuracy: 0.8728 - val_loss: 2.6753 - val_accuracy: 0.8385\n",
            "Epoch 16/100\n",
            "3750/3750 [==============================] - 10s 3ms/step - loss: 1.4862 - accuracy: 0.8760 - val_loss: 2.8063 - val_accuracy: 0.8365\n",
            "Epoch 17/100\n",
            "3750/3750 [==============================] - 10s 3ms/step - loss: 1.4287 - accuracy: 0.8774 - val_loss: 2.5725 - val_accuracy: 0.8407\n",
            "Epoch 18/100\n",
            "3750/3750 [==============================] - 10s 3ms/step - loss: 1.3657 - accuracy: 0.8819 - val_loss: 2.6625 - val_accuracy: 0.8414\n",
            "Epoch 19/100\n",
            "3750/3750 [==============================] - 10s 3ms/step - loss: 1.3012 - accuracy: 0.8834 - val_loss: 2.4431 - val_accuracy: 0.8459\n",
            "Epoch 20/100\n",
            "3750/3750 [==============================] - 10s 3ms/step - loss: 1.2458 - accuracy: 0.8855 - val_loss: 2.4753 - val_accuracy: 0.8471\n",
            "Epoch 21/100\n",
            "3750/3750 [==============================] - 10s 3ms/step - loss: 1.2059 - accuracy: 0.8874 - val_loss: 2.8028 - val_accuracy: 0.8296\n",
            "Epoch 22/100\n",
            "3750/3750 [==============================] - 10s 3ms/step - loss: 1.1607 - accuracy: 0.8878 - val_loss: 2.5516 - val_accuracy: 0.8423\n",
            "Epoch 23/100\n",
            "3750/3750 [==============================] - 10s 3ms/step - loss: 1.1047 - accuracy: 0.8912 - val_loss: 3.2029 - val_accuracy: 0.8137\n",
            "Epoch 24/100\n",
            "3750/3750 [==============================] - 10s 3ms/step - loss: 1.0660 - accuracy: 0.8931 - val_loss: 2.6303 - val_accuracy: 0.8332\n",
            "Epoch 25/100\n",
            "3750/3750 [==============================] - 10s 3ms/step - loss: 1.0437 - accuracy: 0.8934 - val_loss: 2.5772 - val_accuracy: 0.8334\n",
            "Epoch 26/100\n",
            "3750/3750 [==============================] - 10s 3ms/step - loss: 0.9975 - accuracy: 0.8971 - val_loss: 2.3992 - val_accuracy: 0.8395\n",
            "Epoch 27/100\n",
            "3750/3750 [==============================] - 10s 3ms/step - loss: 0.9663 - accuracy: 0.8996 - val_loss: 2.5352 - val_accuracy: 0.8340\n",
            "Epoch 28/100\n",
            "3750/3750 [==============================] - 10s 3ms/step - loss: 0.9392 - accuracy: 0.8993 - val_loss: 2.3277 - val_accuracy: 0.8441\n",
            "Epoch 29/100\n",
            "3750/3750 [==============================] - 10s 3ms/step - loss: 0.8990 - accuracy: 0.9010 - val_loss: 2.4124 - val_accuracy: 0.8443\n",
            "Epoch 30/100\n",
            "3750/3750 [==============================] - 10s 3ms/step - loss: 0.8717 - accuracy: 0.9028 - val_loss: 2.5002 - val_accuracy: 0.8346\n"
          ],
          "name": "stdout"
        }
      ]
    },
    {
      "cell_type": "code",
      "metadata": {
        "id": "m0p-hkHsgayg",
        "colab_type": "code",
        "colab": {
          "base_uri": "https://localhost:8080/",
          "height": 295
        },
        "outputId": "9ef33def-fe94-4807-e89f-7e8dc501ec3c"
      },
      "source": [
        "import matplotlib.pyplot as plt\n",
        "\n",
        "epix2 = range(len(result.history['accuracy']))\n",
        "\n",
        "plt.plot(epix2, result.history['accuracy'], label='Train')\n",
        "plt.plot(epix2, result.history['val_accuracy'], label='Test')\n",
        "\n",
        "plt.title('Fashion MNIST dataset, Epoch accuracy')\n",
        "plt.xlabel('Epochs')\n",
        "plt.ylabel('Classification Accuracy')\n",
        "plt.legend()\n",
        "plt.show()"
      ],
      "execution_count": 26,
      "outputs": [
        {
          "output_type": "display_data",
          "data": {
            "image/png": "[encoded data removed]",
            "text/plain": [
              "<Figure size 432x288 with 1 Axes>"
            ]
          },
          "metadata": {
            "tags": [],
            "needs_background": "light"
          }
        }
      ]
    },
    {
      "cell_type": "markdown",
      "metadata": {
        "colab_type": "text",
        "id": "SfcFnOONyuNm"
      },
      "source": [
        "## Use the Keras Library to build an image recognition network using the Fashion-MNIST dataset (also comes with keras)\n",
        "\n",
        "- [x] Load and preprocess the image data similar to how we preprocessed the MNIST data in class.\n",
        "- [x] Make sure to one-hot encode your category labels\n",
        "- [x] The number of nodes in your output layer should equal the number of classes you want to predict for Fashion-MNIST.\n",
        "- [x] Try different hyperparameters. What is the highest accuracy that you are able to achieve.\n",
        "- [x] Use the history object that is returned from model.fit to make graphs of the model's loss or train/validation accuracies by epoch. \n",
        "- [x] Remember that neural networks fall prey to randomness so you may need to run your model multiple times (or use Cross Validation) in order to tell if a change to a hyperparameter is truly producing better results."
      ]
    },
    {
      "cell_type": "markdown",
      "metadata": {
        "colab_type": "text",
        "id": "zv_3xNMjzdLI"
      },
      "source": [
        "## Stretch Goals:\n",
        "\n",
        "- Use Hyperparameter Tuning to make the accuracy of your models as high as possible. (error as low as possible)\n",
        "- Use Cross Validation techniques to get more consistent results with your model.\n",
        "- Use GridSearchCV to try different combinations of hyperparameters. \n",
        "- Start looking into other types of Keras layers for CNNs and RNNs maybe try and build a CNN model for fashion-MNIST to see how the results compare."
      ]
    }
  ]
}