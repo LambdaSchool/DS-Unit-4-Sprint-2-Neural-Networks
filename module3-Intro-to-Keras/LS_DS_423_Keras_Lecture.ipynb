{
  "nbformat": 4,
  "nbformat_minor": 0,
  "metadata": {
    "colab": {
      "name": "LS_DS_433_Keras_Lecture.ipynb",
      "provenance": [],
      "collapsed_sections": []
    },
    "kernelspec": {
      "display_name": "Python 3",
      "language": "python",
      "name": "python3"
    },
    "language_info": {
      "codemirror_mode": {
        "name": "ipython",
        "version": 3
      },
      "file_extension": ".py",
      "mimetype": "text/x-python",
      "name": "python",
      "nbconvert_exporter": "python",
      "pygments_lexer": "ipython3",
      "version": "3.6.8"
    },
    "toc-autonumbering": false,
    "toc-showmarkdowntxt": false
  },
  "cells": [
    {
      "cell_type": "markdown",
      "metadata": {
        "colab_type": "text",
        "id": "HJzTIkYAsLxw"
      },
      "source": [
        "Lambda School Data Science\n",
        "\n",
        "*Unit 4, Sprint 2, Module 3*\n",
        "\n",
        "---"
      ]
    },
    {
      "cell_type": "markdown",
      "metadata": {
        "colab_type": "text",
        "id": "xCkSIzEtToC0"
      },
      "source": [
        "# Neural Network Frameworks (Prepare)"
      ]
    },
    {
      "cell_type": "markdown",
      "metadata": {
        "colab_type": "text",
        "id": "3YIc72v5ToC3"
      },
      "source": [
        "## Learning Objectives\n",
        "* <a href=\"#p1\">Part 1</a>: Introduce the Keras Sequential Model API\n",
        "* <a href=\"#p2\">Part 2</a>: Learn How to Select Model Architecture \n",
        "* <a href=\"#p3\">Part 3</a>: Discuss the trade-off between various activation functions\n",
        "\n",
        "## Let's Use Libraries!\n",
        "\n",
        "The objective of the last two days has been to familiarize you with the fundamentals of neural networks: terminology, structure of networks, forward propagation, error/cost functions, backpropagation, epochs, and gradient descent. We have tried to reinforce these topics by requiring to you code some of the simplest neural networks by hand including Perceptrons (single node neural networks) and Multi-Layer Perceptrons also known as Feed-Forward Neural Networks. Continuing to do things by hand would not be the best use of our limited time. You're ready to graduate from doing things by hand and start using some powerful libraries to build cutting-edge predictive models. "
      ]
    },
    {
      "cell_type": "markdown",
      "metadata": {
        "id": "AR1tlu4lToC5",
        "colab_type": "text"
      },
      "source": [
        "# Keras Sequential API (Learn)"
      ]
    },
    {
      "cell_type": "markdown",
      "metadata": {
        "toc-hr-collapsed": true,
        "id": "fSYyvCAnToC9",
        "colab_type": "text"
      },
      "source": [
        "## Overview\n",
        "\n",
        "> \"Keras is a high-level neural networks API, written in Python and capable of running on top of TensorFlow, CNTK, or Theano. It was developed with a focus on enabling fast experimentation. Being able to go from idea to result with the least possible delay is key to doing good research. Use Keras if you need a deep learning library that:\n",
        "\n",
        "> Allows for easy and fast prototyping (through user friendliness, modularity, and extensibility).\n",
        "Supports both convolutional networks and recurrent networks, as well as combinations of the two.\n",
        "Runs seamlessly on CPU and GPU.\" "
      ]
    },
    {
      "cell_type": "markdown",
      "metadata": {
        "colab_type": "text",
        "id": "AIJoRBxHy27n"
      },
      "source": [
        "### Keras Perceptron Sample"
      ]
    },
    {
      "cell_type": "code",
      "metadata": {
        "id": "EE0HuUV9ToDD",
        "colab_type": "code",
        "colab": {}
      },
      "source": [
        "import pandas as pd\n",
        "\n",
        "data = { 'x1': [0,1,0,1],\n",
        "         'x2': [0,0,1,1],\n",
        "         'y':  [1,1,1,0]\n",
        "       }\n",
        "\n",
        "df = pd.DataFrame.from_dict(data).astype('int')\n",
        "X = df[['x1', 'x2']].values\n",
        "y = df['y'].values"
      ],
      "execution_count": 0,
      "outputs": []
    },
    {
      "cell_type": "code",
      "metadata": {
        "colab_type": "code",
        "id": "TQxyONqKvFxB",
        "outputId": "26a0ded9-7d21-4fa8-a230-e82b669e161c",
        "colab": {
          "base_uri": "https://localhost:8080/",
          "height": 433
        }
      },
      "source": [
        "from tensorflow.keras.models import Sequential\n",
        "from tensorflow.keras.layers import Dense\n",
        "\n",
        "# This is our perceptron from Monday's by-hand: \n",
        "model = Sequential()\n",
        "model.add(Dense(1,input_dim=2, activation='sigmoid'))\n",
        "model.compile(loss='binary_crossentropy', optimizer='adam', metrics=['accuracy'])\n",
        "model.fit(X,y, epochs=5)"
      ],
      "execution_count": 2,
      "outputs": [
        {
          "output_type": "display_data",
          "data": {
            "text/html": [
              "<p style=\"color: red;\">\n",
              "The default version of TensorFlow in Colab will soon switch to TensorFlow 2.x.<br>\n",
              "We recommend you <a href=\"https://www.tensorflow.org/guide/migrate\" target=\"_blank\">upgrade</a> now \n",
              "or ensure your notebook will continue to use TensorFlow 1.x via the <code>%tensorflow_version 1.x</code> magic:\n",
              "<a href=\"https://colab.research.google.com/notebooks/tensorflow_version.ipynb\" target=\"_blank\">more info</a>.</p>\n"
            ],
            "text/plain": [
              "<IPython.core.display.HTML object>"
            ]
          },
          "metadata": {
            "tags": []
          }
        },
        {
          "output_type": "stream",
          "text": [
            "WARNING:tensorflow:From /usr/local/lib/python3.6/dist-packages/tensorflow_core/python/ops/resource_variable_ops.py:1630: calling BaseResourceVariable.__init__ (from tensorflow.python.ops.resource_variable_ops) with constraint is deprecated and will be removed in a future version.\n",
            "Instructions for updating:\n",
            "If using Keras pass *_constraint arguments to layers.\n",
            "WARNING:tensorflow:From /usr/local/lib/python3.6/dist-packages/tensorflow_core/python/ops/nn_impl.py:183: where (from tensorflow.python.ops.array_ops) is deprecated and will be removed in a future version.\n",
            "Instructions for updating:\n",
            "Use tf.where in 2.0, which has the same broadcast rule as np.where\n",
            "Train on 4 samples\n",
            "Epoch 1/5\n",
            "4/4 [==============================] - 0s 88ms/sample - loss: 0.7641 - acc: 0.2500\n",
            "Epoch 2/5\n",
            "4/4 [==============================] - 0s 514us/sample - loss: 0.7638 - acc: 0.5000\n",
            "Epoch 3/5\n",
            "4/4 [==============================] - 0s 736us/sample - loss: 0.7635 - acc: 0.5000\n",
            "Epoch 4/5\n",
            "4/4 [==============================] - 0s 679us/sample - loss: 0.7632 - acc: 0.5000\n",
            "Epoch 5/5\n",
            "4/4 [==============================] - 0s 330us/sample - loss: 0.7629 - acc: 0.5000\n"
          ],
          "name": "stdout"
        },
        {
          "output_type": "execute_result",
          "data": {
            "text/plain": [
              "<tensorflow.python.keras.callbacks.History at 0x7f43b4452240>"
            ]
          },
          "metadata": {
            "tags": []
          },
          "execution_count": 2
        }
      ]
    },
    {
      "cell_type": "code",
      "metadata": {
        "colab_type": "code",
        "id": "Z1wfKUxszPKa",
        "outputId": "da8a51cb-940e-4f14-98f1-1a1734b4422d",
        "colab": {
          "base_uri": "https://localhost:8080/",
          "height": 54
        }
      },
      "source": [
        "# evaluate the model\n",
        "scores = model.evaluate(X, y)\n",
        "print(f\"{model.metrics_names[1]}: {scores[1]*100}\")"
      ],
      "execution_count": 3,
      "outputs": [
        {
          "output_type": "stream",
          "text": [
            "\r4/4 [==============================] - 0s 4ms/sample - loss: 0.7626 - acc: 0.5000\n",
            "acc: 50.0\n"
          ],
          "name": "stdout"
        }
      ]
    },
    {
      "cell_type": "markdown",
      "metadata": {
        "toc-hr-collapsed": true,
        "id": "AutC1Rz_ToDb",
        "colab_type": "text"
      },
      "source": [
        "## Follow Along\n",
        "\n",
        "In the `Sequential` api model, you specify a model architecture by 'sequentially specifying layers. This type of specification works well for feed forward neural networks in which the data flows in one direction (forward propagation) and the error flows in the opposite direction (backwards propagation). The Keras `Sequential` API follows a standardarized worklow to estimate a 'net: \n",
        "\n",
        "1. Load Data\n",
        "2. Define Model\n",
        "3. Compile Model\n",
        "4. Fit Model\n",
        "5. Evaluate Model\n",
        "\n",
        "You saw these steps in our Keras Perceptron Sample, but let's walk thru each step in detail."
      ]
    },
    {
      "cell_type": "markdown",
      "metadata": {
        "colab_type": "text",
        "id": "Md5D67XwqVAf",
        "toc-hr-collapsed": false
      },
      "source": [
        "### Load Data\n",
        "\n",
        "Our life is going to be easier if our data is already cleaned up and numeric, so lets use this dataset from Jason Brownlee that is already numeric and has no column headers so we'll need to slice off the last column of data to act as our y values."
      ]
    },
    {
      "cell_type": "code",
      "metadata": {
        "colab_type": "code",
        "id": "bn09phMBpY1J",
        "colab": {}
      },
      "source": [
        "import pandas as pd\n",
        "\n",
        "url =\"https://raw.githubusercontent.com/jbrownlee/Datasets/master/pima-indians-diabetes.data.csv\"\n",
        "\n",
        "dataset = pd.read_csv(url, header=None)"
      ],
      "execution_count": 0,
      "outputs": []
    },
    {
      "cell_type": "code",
      "metadata": {
        "id": "_VNGnNuaToDk",
        "colab_type": "code",
        "colab": {
          "base_uri": "https://localhost:8080/",
          "height": 206
        },
        "outputId": "66e962e1-e84b-4a54-bd21-d60361c6b79a"
      },
      "source": [
        "dataset.head()"
      ],
      "execution_count": 5,
      "outputs": [
        {
          "output_type": "execute_result",
          "data": {
            "text/html": [
              "<div>\n",
              "<style scoped>\n",
              "    .dataframe tbody tr th:only-of-type {\n",
              "        vertical-align: middle;\n",
              "    }\n",
              "\n",
              "    .dataframe tbody tr th {\n",
              "        vertical-align: top;\n",
              "    }\n",
              "\n",
              "    .dataframe thead th {\n",
              "        text-align: right;\n",
              "    }\n",
              "</style>\n",
              "<table border=\"1\" class=\"dataframe\">\n",
              "  <thead>\n",
              "    <tr style=\"text-align: right;\">\n",
              "      <th></th>\n",
              "      <th>0</th>\n",
              "      <th>1</th>\n",
              "      <th>2</th>\n",
              "      <th>3</th>\n",
              "      <th>4</th>\n",
              "      <th>5</th>\n",
              "      <th>6</th>\n",
              "      <th>7</th>\n",
              "      <th>8</th>\n",
              "    </tr>\n",
              "  </thead>\n",
              "  <tbody>\n",
              "    <tr>\n",
              "      <th>0</th>\n",
              "      <td>6</td>\n",
              "      <td>148</td>\n",
              "      <td>72</td>\n",
              "      <td>35</td>\n",
              "      <td>0</td>\n",
              "      <td>33.6</td>\n",
              "      <td>0.627</td>\n",
              "      <td>50</td>\n",
              "      <td>1</td>\n",
              "    </tr>\n",
              "    <tr>\n",
              "      <th>1</th>\n",
              "      <td>1</td>\n",
              "      <td>85</td>\n",
              "      <td>66</td>\n",
              "      <td>29</td>\n",
              "      <td>0</td>\n",
              "      <td>26.6</td>\n",
              "      <td>0.351</td>\n",
              "      <td>31</td>\n",
              "      <td>0</td>\n",
              "    </tr>\n",
              "    <tr>\n",
              "      <th>2</th>\n",
              "      <td>8</td>\n",
              "      <td>183</td>\n",
              "      <td>64</td>\n",
              "      <td>0</td>\n",
              "      <td>0</td>\n",
              "      <td>23.3</td>\n",
              "      <td>0.672</td>\n",
              "      <td>32</td>\n",
              "      <td>1</td>\n",
              "    </tr>\n",
              "    <tr>\n",
              "      <th>3</th>\n",
              "      <td>1</td>\n",
              "      <td>89</td>\n",
              "      <td>66</td>\n",
              "      <td>23</td>\n",
              "      <td>94</td>\n",
              "      <td>28.1</td>\n",
              "      <td>0.167</td>\n",
              "      <td>21</td>\n",
              "      <td>0</td>\n",
              "    </tr>\n",
              "    <tr>\n",
              "      <th>4</th>\n",
              "      <td>0</td>\n",
              "      <td>137</td>\n",
              "      <td>40</td>\n",
              "      <td>35</td>\n",
              "      <td>168</td>\n",
              "      <td>43.1</td>\n",
              "      <td>2.288</td>\n",
              "      <td>33</td>\n",
              "      <td>1</td>\n",
              "    </tr>\n",
              "  </tbody>\n",
              "</table>\n",
              "</div>"
            ],
            "text/plain": [
              "   0    1   2   3    4     5      6   7  8\n",
              "0  6  148  72  35    0  33.6  0.627  50  1\n",
              "1  1   85  66  29    0  26.6  0.351  31  0\n",
              "2  8  183  64   0    0  23.3  0.672  32  1\n",
              "3  1   89  66  23   94  28.1  0.167  21  0\n",
              "4  0  137  40  35  168  43.1  2.288  33  1"
            ]
          },
          "metadata": {
            "tags": []
          },
          "execution_count": 5
        }
      ]
    },
    {
      "cell_type": "code",
      "metadata": {
        "colab_type": "code",
        "id": "FKuofD3Pogil",
        "outputId": "49b0d726-4c8b-4247-a9db-f8952adbce89",
        "colab": {
          "base_uri": "https://localhost:8080/",
          "height": 164
        }
      },
      "source": [
        "X = dataset.values[:,0:8]\n",
        "print(X.shape)\n",
        "print(X)"
      ],
      "execution_count": 6,
      "outputs": [
        {
          "output_type": "stream",
          "text": [
            "(768, 8)\n",
            "[[  6.    148.     72.    ...  33.6     0.627  50.   ]\n",
            " [  1.     85.     66.    ...  26.6     0.351  31.   ]\n",
            " [  8.    183.     64.    ...  23.3     0.672  32.   ]\n",
            " ...\n",
            " [  5.    121.     72.    ...  26.2     0.245  30.   ]\n",
            " [  1.    126.     60.    ...  30.1     0.349  47.   ]\n",
            " [  1.     93.     70.    ...  30.4     0.315  23.   ]]\n"
          ],
          "name": "stdout"
        }
      ]
    },
    {
      "cell_type": "code",
      "metadata": {
        "id": "pfxkONr3ToD1",
        "colab_type": "code",
        "colab": {
          "base_uri": "https://localhost:8080/",
          "height": 623
        },
        "outputId": "4b160516-baeb-4a4e-aa1c-e716d07465e0"
      },
      "source": [
        "y = dataset.values[:,-1]\n",
        "print(y.shape)\n",
        "print(y)"
      ],
      "execution_count": 7,
      "outputs": [
        {
          "output_type": "stream",
          "text": [
            "(768,)\n",
            "[1. 0. 1. 0. 1. 0. 1. 0. 1. 1. 0. 1. 0. 1. 1. 1. 1. 1. 0. 1. 0. 0. 1. 1.\n",
            " 1. 1. 1. 0. 0. 0. 0. 1. 0. 0. 0. 0. 0. 1. 1. 1. 0. 0. 0. 1. 0. 1. 0. 0.\n",
            " 1. 0. 0. 0. 0. 1. 0. 0. 1. 0. 0. 0. 0. 1. 0. 0. 1. 0. 1. 0. 0. 0. 1. 0.\n",
            " 1. 0. 0. 0. 0. 0. 1. 0. 0. 0. 0. 0. 1. 0. 0. 0. 1. 0. 0. 0. 0. 1. 0. 0.\n",
            " 0. 0. 0. 1. 1. 0. 0. 0. 0. 0. 0. 0. 0. 1. 1. 1. 0. 0. 1. 1. 1. 0. 0. 0.\n",
            " 1. 0. 0. 0. 1. 1. 0. 0. 1. 1. 1. 1. 1. 0. 0. 0. 0. 0. 0. 0. 0. 0. 0. 1.\n",
            " 0. 0. 0. 0. 0. 0. 0. 0. 1. 0. 1. 1. 0. 0. 0. 1. 0. 0. 0. 0. 1. 1. 0. 0.\n",
            " 0. 0. 1. 1. 0. 0. 0. 1. 0. 1. 0. 1. 0. 0. 0. 0. 0. 1. 1. 1. 1. 1. 0. 0.\n",
            " 1. 1. 0. 1. 0. 1. 1. 1. 0. 0. 0. 0. 0. 0. 1. 1. 0. 1. 0. 0. 0. 1. 1. 1.\n",
            " 1. 0. 1. 1. 1. 1. 0. 0. 0. 0. 0. 1. 0. 0. 1. 1. 0. 0. 0. 1. 1. 1. 1. 0.\n",
            " 0. 0. 1. 1. 0. 1. 0. 0. 0. 0. 0. 0. 0. 0. 1. 1. 0. 0. 0. 1. 0. 1. 0. 0.\n",
            " 1. 0. 1. 0. 0. 1. 1. 0. 0. 0. 0. 0. 1. 0. 0. 0. 1. 0. 0. 1. 1. 0. 0. 1.\n",
            " 0. 0. 0. 1. 1. 1. 0. 0. 1. 0. 1. 0. 1. 1. 0. 1. 0. 0. 1. 0. 1. 1. 0. 0.\n",
            " 1. 0. 1. 0. 0. 1. 0. 1. 0. 1. 1. 1. 0. 0. 1. 0. 1. 0. 0. 0. 1. 0. 0. 0.\n",
            " 0. 1. 1. 1. 0. 0. 0. 0. 0. 0. 0. 0. 0. 1. 0. 0. 0. 0. 0. 1. 1. 1. 0. 1.\n",
            " 1. 0. 0. 1. 0. 0. 1. 0. 0. 1. 1. 0. 0. 0. 0. 1. 0. 0. 1. 0. 0. 0. 0. 0.\n",
            " 0. 0. 1. 1. 1. 0. 0. 1. 0. 0. 1. 0. 0. 1. 0. 1. 1. 0. 1. 0. 1. 0. 1. 0.\n",
            " 1. 1. 0. 0. 0. 0. 1. 1. 0. 1. 0. 1. 0. 0. 0. 0. 1. 1. 0. 1. 0. 1. 0. 0.\n",
            " 0. 0. 0. 1. 0. 0. 0. 0. 1. 0. 0. 1. 1. 1. 0. 0. 1. 0. 0. 1. 0. 0. 0. 1.\n",
            " 0. 0. 1. 0. 0. 0. 0. 0. 0. 0. 0. 0. 1. 0. 0. 0. 0. 0. 0. 0. 1. 0. 0. 0.\n",
            " 1. 0. 0. 0. 1. 1. 0. 0. 0. 0. 0. 0. 0. 1. 0. 0. 0. 0. 1. 0. 0. 0. 1. 0.\n",
            " 0. 0. 1. 0. 0. 0. 1. 0. 0. 0. 0. 1. 1. 0. 0. 0. 0. 0. 0. 1. 0. 0. 0. 0.\n",
            " 0. 0. 0. 0. 0. 0. 0. 1. 0. 0. 0. 1. 1. 1. 1. 0. 0. 1. 1. 0. 0. 0. 0. 0.\n",
            " 0. 0. 0. 0. 0. 0. 0. 0. 1. 1. 0. 0. 0. 0. 0. 0. 0. 1. 0. 0. 0. 0. 0. 0.\n",
            " 0. 1. 0. 1. 1. 0. 0. 0. 1. 0. 1. 0. 1. 0. 1. 0. 1. 0. 0. 1. 0. 0. 1. 0.\n",
            " 0. 0. 0. 1. 1. 0. 1. 0. 0. 0. 0. 1. 1. 0. 1. 0. 0. 0. 1. 1. 0. 0. 0. 0.\n",
            " 0. 0. 0. 0. 0. 0. 1. 0. 0. 0. 0. 1. 0. 0. 1. 0. 0. 0. 1. 0. 0. 0. 1. 1.\n",
            " 1. 0. 0. 0. 0. 0. 0. 1. 0. 0. 0. 1. 0. 1. 1. 1. 1. 0. 1. 1. 0. 0. 0. 0.\n",
            " 0. 0. 0. 1. 1. 0. 1. 0. 0. 1. 0. 1. 0. 0. 0. 0. 0. 1. 0. 1. 0. 1. 0. 1.\n",
            " 1. 0. 0. 0. 0. 1. 1. 0. 0. 0. 1. 0. 1. 1. 0. 0. 1. 0. 0. 1. 1. 0. 0. 1.\n",
            " 0. 0. 1. 0. 0. 0. 0. 0. 0. 0. 1. 1. 1. 0. 0. 0. 0. 0. 0. 1. 1. 0. 0. 1.\n",
            " 0. 0. 1. 0. 1. 1. 1. 0. 0. 1. 1. 1. 0. 1. 0. 1. 0. 1. 0. 0. 0. 0. 1. 0.]\n"
          ],
          "name": "stdout"
        }
      ]
    },
    {
      "cell_type": "markdown",
      "metadata": {
        "colab_type": "text",
        "id": "o0xMqOyTs5xt"
      },
      "source": [
        "### Define Model"
      ]
    },
    {
      "cell_type": "code",
      "metadata": {
        "colab_type": "code",
        "id": "Bp9USczrfu6M",
        "colab": {}
      },
      "source": [
        "from tensorflow.keras.models import Sequential\n",
        "from tensorflow.keras.layers import Dense\n",
        "\n",
        "import numpy as np\n",
        "\n",
        "np.random.seed(812)"
      ],
      "execution_count": 0,
      "outputs": []
    },
    {
      "cell_type": "markdown",
      "metadata": {
        "colab_type": "text",
        "id": "wAzHLg27thoN"
      },
      "source": [
        "I'll instantiate my model as a \"sequential\" model. This just means that I'm going to tell Keras what my model's architecture should be one layer at a time."
      ]
    },
    {
      "cell_type": "code",
      "metadata": {
        "colab_type": "code",
        "id": "DSNsL49Xp6KI",
        "colab": {}
      },
      "source": [
        "# https://keras.io/getting-started/sequential-model-guide/\n",
        "model = Sequential()"
      ],
      "execution_count": 0,
      "outputs": []
    },
    {
      "cell_type": "markdown",
      "metadata": {
        "colab_type": "text",
        "id": "ZCYX6QzJtvpG"
      },
      "source": [
        "Adding a \"Dense\" layer to our model is how we add \"vanilla\" perceptron-based layers to our neural network. These are also called \"fully-connected\" or \"densely-connected\" layers. They're used as a layer type in lots of other Neural Net Architectures but they're not referred to as perceptrons or multi-layer perceptrons very often in those situations even though that's what they are.\n",
        "\n",
        " > [\"Just your regular densely-connected NN layer.\"](https://keras.io/layers/core/)\n",
        " \n",
        " The first argument is how many neurons we want to have in that layer. To create a perceptron model we will just set it to 1. We will tell it that there will be 8 inputs coming into this layer from our dataset and set it to use the sigmoid activation function."
      ]
    },
    {
      "cell_type": "code",
      "metadata": {
        "colab_type": "code",
        "id": "GNzOLidxtvFa",
        "colab": {}
      },
      "source": [
        "model.add(Dense(1, input_dim=8, activation=\"sigmoid\")) #Relu is valid option. "
      ],
      "execution_count": 0,
      "outputs": []
    },
    {
      "cell_type": "markdown",
      "metadata": {
        "colab_type": "text",
        "id": "EnI3jwKMtBL2",
        "toc-hr-collapsed": false
      },
      "source": [
        "### Compile Model\n",
        "Using binary_crossentropy as the loss function here is just telling keras that I'm doing binary classification so that it can use the appropriate loss function accordingly. If we were predicting non-binary categories we might assign something like `categorical_crossentropy`. We're also telling keras that we want it to report model accuracy as our main error metric for each epoch. We will also be able to see the overall accuracy once the model has finished training.\n",
        "\n",
        "#### Adam Optimizer\n",
        "Check out this links for more background on the Adam optimizer and Stohastic Gradient Descent\n",
        "* [Adam Optimization Algorithm](https://machinelearningmastery.com/adam-optimization-algorithm-for-deep-learning/)\n",
        "* [Adam Optimizer - original paper](https://arxiv.org/abs/1412.6980)"
      ]
    },
    {
      "cell_type": "code",
      "metadata": {
        "colab_type": "code",
        "id": "qp6xwYaqurRO",
        "colab": {}
      },
      "source": [
        "model.compile(loss='binary_crossentropy', optimizer='adam', metrics=['accuracy'])"
      ],
      "execution_count": 0,
      "outputs": []
    },
    {
      "cell_type": "markdown",
      "metadata": {
        "colab_type": "text",
        "id": "5dW8SZ2Ls9SX",
        "toc-hr-collapsed": false
      },
      "source": [
        "### Fit Model\n",
        "\n",
        "Lets train it up! `model.fit()` has a `batch_size` parameter that we can use if we want to do mini-batch epochs, but since this tabular dataset is pretty small we're just going to delete that parameter. Keras' default `batch_size` is `None` so omiting it will tell Keras to do batch epochs."
      ]
    },
    {
      "cell_type": "code",
      "metadata": {
        "id": "ZZWDYB0FToES",
        "colab_type": "code",
        "colab": {
          "base_uri": "https://localhost:8080/",
          "height": 1000
        },
        "outputId": "3fced1be-d80a-4c5d-f8b0-be0228818070"
      },
      "source": [
        "model.fit(X, y, epochs=150)"
      ],
      "execution_count": 12,
      "outputs": [
        {
          "output_type": "stream",
          "text": [
            "Train on 768 samples\n",
            "Epoch 1/150\n",
            "768/768 [==============================] - 0s 101us/sample - loss: 68.4300 - acc: 0.3477\n",
            "Epoch 2/150\n",
            "768/768 [==============================] - 0s 35us/sample - loss: 63.4132 - acc: 0.3490\n",
            "Epoch 3/150\n",
            "768/768 [==============================] - 0s 38us/sample - loss: 58.2778 - acc: 0.3490\n",
            "Epoch 4/150\n",
            "768/768 [==============================] - 0s 42us/sample - loss: 53.2397 - acc: 0.3490\n",
            "Epoch 5/150\n",
            "768/768 [==============================] - 0s 36us/sample - loss: 48.1997 - acc: 0.3503\n",
            "Epoch 6/150\n",
            "768/768 [==============================] - 0s 36us/sample - loss: 43.1286 - acc: 0.3516\n",
            "Epoch 7/150\n",
            "768/768 [==============================] - 0s 38us/sample - loss: 38.2417 - acc: 0.3542\n",
            "Epoch 8/150\n",
            "768/768 [==============================] - 0s 35us/sample - loss: 33.7315 - acc: 0.3815\n",
            "Epoch 9/150\n",
            "768/768 [==============================] - 0s 35us/sample - loss: 29.7268 - acc: 0.3906\n",
            "Epoch 10/150\n",
            "768/768 [==============================] - 0s 39us/sample - loss: 26.2293 - acc: 0.4297\n",
            "Epoch 11/150\n",
            "768/768 [==============================] - 0s 41us/sample - loss: 23.4401 - acc: 0.4570\n",
            "Epoch 12/150\n",
            "768/768 [==============================] - 0s 38us/sample - loss: 21.2266 - acc: 0.4792\n",
            "Epoch 13/150\n",
            "768/768 [==============================] - 0s 35us/sample - loss: 19.5410 - acc: 0.4961\n",
            "Epoch 14/150\n",
            "768/768 [==============================] - 0s 36us/sample - loss: 18.0712 - acc: 0.5026\n",
            "Epoch 15/150\n",
            "768/768 [==============================] - 0s 38us/sample - loss: 16.8191 - acc: 0.5078\n",
            "Epoch 16/150\n",
            "768/768 [==============================] - 0s 41us/sample - loss: 15.6439 - acc: 0.5247\n",
            "Epoch 17/150\n",
            "768/768 [==============================] - 0s 41us/sample - loss: 14.6068 - acc: 0.5378\n",
            "Epoch 18/150\n",
            "768/768 [==============================] - 0s 40us/sample - loss: 13.7028 - acc: 0.5495\n",
            "Epoch 19/150\n",
            "768/768 [==============================] - 0s 33us/sample - loss: 12.8422 - acc: 0.5469\n",
            "Epoch 20/150\n",
            "768/768 [==============================] - 0s 36us/sample - loss: 12.0529 - acc: 0.5534\n",
            "Epoch 21/150\n",
            "768/768 [==============================] - 0s 35us/sample - loss: 11.3336 - acc: 0.5625\n",
            "Epoch 22/150\n",
            "768/768 [==============================] - 0s 38us/sample - loss: 10.6502 - acc: 0.5703\n",
            "Epoch 23/150\n",
            "768/768 [==============================] - 0s 39us/sample - loss: 10.0352 - acc: 0.5820\n",
            "Epoch 24/150\n",
            "768/768 [==============================] - 0s 41us/sample - loss: 9.4274 - acc: 0.5846\n",
            "Epoch 25/150\n",
            "768/768 [==============================] - 0s 35us/sample - loss: 8.8965 - acc: 0.5885\n",
            "Epoch 26/150\n",
            "768/768 [==============================] - 0s 33us/sample - loss: 8.3575 - acc: 0.5964\n",
            "Epoch 27/150\n",
            "768/768 [==============================] - 0s 39us/sample - loss: 7.8394 - acc: 0.5977\n",
            "Epoch 28/150\n",
            "768/768 [==============================] - 0s 40us/sample - loss: 7.3612 - acc: 0.6029\n",
            "Epoch 29/150\n",
            "768/768 [==============================] - 0s 43us/sample - loss: 6.9092 - acc: 0.6055\n",
            "Epoch 30/150\n",
            "768/768 [==============================] - 0s 44us/sample - loss: 6.4734 - acc: 0.6133\n",
            "Epoch 31/150\n",
            "768/768 [==============================] - 0s 37us/sample - loss: 6.0958 - acc: 0.6081\n",
            "Epoch 32/150\n",
            "768/768 [==============================] - 0s 39us/sample - loss: 5.7495 - acc: 0.6068\n",
            "Epoch 33/150\n",
            "768/768 [==============================] - 0s 36us/sample - loss: 5.4372 - acc: 0.6094\n",
            "Epoch 34/150\n",
            "768/768 [==============================] - 0s 37us/sample - loss: 5.1639 - acc: 0.6081\n",
            "Epoch 35/150\n",
            "768/768 [==============================] - 0s 33us/sample - loss: 4.9137 - acc: 0.6094\n",
            "Epoch 36/150\n",
            "768/768 [==============================] - 0s 36us/sample - loss: 4.7027 - acc: 0.6094\n",
            "Epoch 37/150\n",
            "768/768 [==============================] - 0s 40us/sample - loss: 4.5110 - acc: 0.6120\n",
            "Epoch 38/150\n",
            "768/768 [==============================] - 0s 39us/sample - loss: 4.3453 - acc: 0.6016\n",
            "Epoch 39/150\n",
            "768/768 [==============================] - 0s 34us/sample - loss: 4.1984 - acc: 0.5990\n",
            "Epoch 40/150\n",
            "768/768 [==============================] - 0s 39us/sample - loss: 4.0789 - acc: 0.5990\n",
            "Epoch 41/150\n",
            "768/768 [==============================] - 0s 38us/sample - loss: 3.9534 - acc: 0.5898\n",
            "Epoch 42/150\n",
            "768/768 [==============================] - 0s 35us/sample - loss: 3.8351 - acc: 0.5951\n",
            "Epoch 43/150\n",
            "768/768 [==============================] - 0s 34us/sample - loss: 3.7286 - acc: 0.5990\n",
            "Epoch 44/150\n",
            "768/768 [==============================] - 0s 34us/sample - loss: 3.6407 - acc: 0.6068\n",
            "Epoch 45/150\n",
            "768/768 [==============================] - 0s 34us/sample - loss: 3.5278 - acc: 0.6003\n",
            "Epoch 46/150\n",
            "768/768 [==============================] - 0s 34us/sample - loss: 3.4402 - acc: 0.5977\n",
            "Epoch 47/150\n",
            "768/768 [==============================] - 0s 38us/sample - loss: 3.3564 - acc: 0.5911\n",
            "Epoch 48/150\n",
            "768/768 [==============================] - 0s 37us/sample - loss: 3.2654 - acc: 0.6016\n",
            "Epoch 49/150\n",
            "768/768 [==============================] - 0s 35us/sample - loss: 3.1769 - acc: 0.5964\n",
            "Epoch 50/150\n",
            "768/768 [==============================] - 0s 34us/sample - loss: 3.0934 - acc: 0.6016\n",
            "Epoch 51/150\n",
            "768/768 [==============================] - 0s 35us/sample - loss: 3.0082 - acc: 0.5977\n",
            "Epoch 52/150\n",
            "768/768 [==============================] - 0s 34us/sample - loss: 2.9268 - acc: 0.6081\n",
            "Epoch 53/150\n",
            "768/768 [==============================] - 0s 36us/sample - loss: 2.8402 - acc: 0.5990\n",
            "Epoch 54/150\n",
            "768/768 [==============================] - 0s 36us/sample - loss: 2.7680 - acc: 0.5924\n",
            "Epoch 55/150\n",
            "768/768 [==============================] - 0s 35us/sample - loss: 2.6801 - acc: 0.5990\n",
            "Epoch 56/150\n",
            "768/768 [==============================] - 0s 34us/sample - loss: 2.6018 - acc: 0.6042\n",
            "Epoch 57/150\n",
            "768/768 [==============================] - 0s 36us/sample - loss: 2.5130 - acc: 0.6016\n",
            "Epoch 58/150\n",
            "768/768 [==============================] - 0s 37us/sample - loss: 2.4293 - acc: 0.6016\n",
            "Epoch 59/150\n",
            "768/768 [==============================] - 0s 36us/sample - loss: 2.3521 - acc: 0.5964\n",
            "Epoch 60/150\n",
            "768/768 [==============================] - 0s 37us/sample - loss: 2.2701 - acc: 0.6055\n",
            "Epoch 61/150\n",
            "768/768 [==============================] - 0s 37us/sample - loss: 2.1952 - acc: 0.5990\n",
            "Epoch 62/150\n",
            "768/768 [==============================] - 0s 37us/sample - loss: 2.1098 - acc: 0.6055\n",
            "Epoch 63/150\n",
            "768/768 [==============================] - 0s 41us/sample - loss: 2.0298 - acc: 0.6068\n",
            "Epoch 64/150\n",
            "768/768 [==============================] - 0s 44us/sample - loss: 1.9553 - acc: 0.6068\n",
            "Epoch 65/150\n",
            "768/768 [==============================] - 0s 44us/sample - loss: 1.8805 - acc: 0.5885\n",
            "Epoch 66/150\n",
            "768/768 [==============================] - 0s 45us/sample - loss: 1.7999 - acc: 0.6042\n",
            "Epoch 67/150\n",
            "768/768 [==============================] - 0s 42us/sample - loss: 1.7252 - acc: 0.6016\n",
            "Epoch 68/150\n",
            "768/768 [==============================] - 0s 47us/sample - loss: 1.6558 - acc: 0.6042\n",
            "Epoch 69/150\n",
            "768/768 [==============================] - 0s 42us/sample - loss: 1.5765 - acc: 0.6016\n",
            "Epoch 70/150\n",
            "768/768 [==============================] - 0s 39us/sample - loss: 1.5100 - acc: 0.5951\n",
            "Epoch 71/150\n",
            "768/768 [==============================] - 0s 42us/sample - loss: 1.4502 - acc: 0.6172\n",
            "Epoch 72/150\n",
            "768/768 [==============================] - 0s 38us/sample - loss: 1.3736 - acc: 0.6029\n",
            "Epoch 73/150\n",
            "768/768 [==============================] - 0s 38us/sample - loss: 1.3096 - acc: 0.6068\n",
            "Epoch 74/150\n",
            "768/768 [==============================] - 0s 35us/sample - loss: 1.2443 - acc: 0.6029\n",
            "Epoch 75/150\n",
            "768/768 [==============================] - 0s 38us/sample - loss: 1.1981 - acc: 0.6159\n",
            "Epoch 76/150\n",
            "768/768 [==============================] - 0s 36us/sample - loss: 1.1354 - acc: 0.6159\n",
            "Epoch 77/150\n",
            "768/768 [==============================] - 0s 41us/sample - loss: 1.0736 - acc: 0.6146\n",
            "Epoch 78/150\n",
            "768/768 [==============================] - 0s 37us/sample - loss: 1.0262 - acc: 0.6146\n",
            "Epoch 79/150\n",
            "768/768 [==============================] - 0s 38us/sample - loss: 0.9781 - acc: 0.6237\n",
            "Epoch 80/150\n",
            "768/768 [==============================] - 0s 46us/sample - loss: 0.9435 - acc: 0.6380\n",
            "Epoch 81/150\n",
            "768/768 [==============================] - 0s 44us/sample - loss: 0.9236 - acc: 0.6055\n",
            "Epoch 82/150\n",
            "768/768 [==============================] - 0s 46us/sample - loss: 0.8626 - acc: 0.6315\n",
            "Epoch 83/150\n",
            "768/768 [==============================] - 0s 44us/sample - loss: 0.8289 - acc: 0.6328\n",
            "Epoch 84/150\n",
            "768/768 [==============================] - 0s 39us/sample - loss: 0.7954 - acc: 0.6354\n",
            "Epoch 85/150\n",
            "768/768 [==============================] - 0s 38us/sample - loss: 0.7703 - acc: 0.6289\n",
            "Epoch 86/150\n",
            "768/768 [==============================] - 0s 39us/sample - loss: 0.7526 - acc: 0.6341\n",
            "Epoch 87/150\n",
            "768/768 [==============================] - 0s 39us/sample - loss: 0.7291 - acc: 0.6471\n",
            "Epoch 88/150\n",
            "768/768 [==============================] - 0s 35us/sample - loss: 0.7136 - acc: 0.6536\n",
            "Epoch 89/150\n",
            "768/768 [==============================] - 0s 38us/sample - loss: 0.7070 - acc: 0.6484\n",
            "Epoch 90/150\n",
            "768/768 [==============================] - 0s 40us/sample - loss: 0.6881 - acc: 0.6576\n",
            "Epoch 91/150\n",
            "768/768 [==============================] - 0s 37us/sample - loss: 0.6808 - acc: 0.6654\n",
            "Epoch 92/150\n",
            "768/768 [==============================] - 0s 41us/sample - loss: 0.6674 - acc: 0.6693\n",
            "Epoch 93/150\n",
            "768/768 [==============================] - 0s 38us/sample - loss: 0.6588 - acc: 0.6732\n",
            "Epoch 94/150\n",
            "768/768 [==============================] - 0s 34us/sample - loss: 0.6530 - acc: 0.6771\n",
            "Epoch 95/150\n",
            "768/768 [==============================] - 0s 39us/sample - loss: 0.6465 - acc: 0.6862\n",
            "Epoch 96/150\n",
            "768/768 [==============================] - 0s 34us/sample - loss: 0.6385 - acc: 0.6940\n",
            "Epoch 97/150\n",
            "768/768 [==============================] - 0s 34us/sample - loss: 0.6344 - acc: 0.6784\n",
            "Epoch 98/150\n",
            "768/768 [==============================] - 0s 36us/sample - loss: 0.6338 - acc: 0.6823\n",
            "Epoch 99/150\n",
            "768/768 [==============================] - 0s 38us/sample - loss: 0.6314 - acc: 0.6953\n",
            "Epoch 100/150\n",
            "768/768 [==============================] - 0s 36us/sample - loss: 0.6272 - acc: 0.6914\n",
            "Epoch 101/150\n",
            "768/768 [==============================] - 0s 35us/sample - loss: 0.6225 - acc: 0.6966\n",
            "Epoch 102/150\n",
            "768/768 [==============================] - 0s 36us/sample - loss: 0.6197 - acc: 0.6914\n",
            "Epoch 103/150\n",
            "768/768 [==============================] - 0s 34us/sample - loss: 0.6196 - acc: 0.6927\n",
            "Epoch 104/150\n",
            "768/768 [==============================] - 0s 35us/sample - loss: 0.6194 - acc: 0.6927\n",
            "Epoch 105/150\n",
            "768/768 [==============================] - 0s 34us/sample - loss: 0.6132 - acc: 0.6953\n",
            "Epoch 106/150\n",
            "768/768 [==============================] - 0s 36us/sample - loss: 0.6154 - acc: 0.6836\n",
            "Epoch 107/150\n",
            "768/768 [==============================] - 0s 36us/sample - loss: 0.6095 - acc: 0.6992\n",
            "Epoch 108/150\n",
            "768/768 [==============================] - 0s 38us/sample - loss: 0.6088 - acc: 0.6966\n",
            "Epoch 109/150\n",
            "768/768 [==============================] - 0s 37us/sample - loss: 0.6092 - acc: 0.6940\n",
            "Epoch 110/150\n",
            "768/768 [==============================] - 0s 38us/sample - loss: 0.6097 - acc: 0.7018\n",
            "Epoch 111/150\n",
            "768/768 [==============================] - 0s 37us/sample - loss: 0.6083 - acc: 0.6992\n",
            "Epoch 112/150\n",
            "768/768 [==============================] - 0s 36us/sample - loss: 0.6050 - acc: 0.7096\n",
            "Epoch 113/150\n",
            "768/768 [==============================] - 0s 35us/sample - loss: 0.6080 - acc: 0.6940\n",
            "Epoch 114/150\n",
            "768/768 [==============================] - 0s 34us/sample - loss: 0.6108 - acc: 0.6862\n",
            "Epoch 115/150\n",
            "768/768 [==============================] - 0s 36us/sample - loss: 0.6024 - acc: 0.7070\n",
            "Epoch 116/150\n",
            "768/768 [==============================] - 0s 39us/sample - loss: 0.6014 - acc: 0.6979\n",
            "Epoch 117/150\n",
            "768/768 [==============================] - 0s 34us/sample - loss: 0.6014 - acc: 0.7070\n",
            "Epoch 118/150\n",
            "768/768 [==============================] - 0s 35us/sample - loss: 0.5988 - acc: 0.6992\n",
            "Epoch 119/150\n",
            "768/768 [==============================] - 0s 34us/sample - loss: 0.6071 - acc: 0.6979\n",
            "Epoch 120/150\n",
            "768/768 [==============================] - 0s 33us/sample - loss: 0.6014 - acc: 0.6940\n",
            "Epoch 121/150\n",
            "768/768 [==============================] - 0s 35us/sample - loss: 0.6011 - acc: 0.7070\n",
            "Epoch 122/150\n",
            "768/768 [==============================] - 0s 33us/sample - loss: 0.6035 - acc: 0.6888\n",
            "Epoch 123/150\n",
            "768/768 [==============================] - 0s 36us/sample - loss: 0.6083 - acc: 0.6953\n",
            "Epoch 124/150\n",
            "768/768 [==============================] - 0s 34us/sample - loss: 0.6027 - acc: 0.6940\n",
            "Epoch 125/150\n",
            "768/768 [==============================] - 0s 36us/sample - loss: 0.5953 - acc: 0.7109\n",
            "Epoch 126/150\n",
            "768/768 [==============================] - 0s 42us/sample - loss: 0.6103 - acc: 0.6888\n",
            "Epoch 127/150\n",
            "768/768 [==============================] - 0s 39us/sample - loss: 0.5949 - acc: 0.7070\n",
            "Epoch 128/150\n",
            "768/768 [==============================] - 0s 42us/sample - loss: 0.5949 - acc: 0.7044\n",
            "Epoch 129/150\n",
            "768/768 [==============================] - 0s 38us/sample - loss: 0.5918 - acc: 0.7070\n",
            "Epoch 130/150\n",
            "768/768 [==============================] - 0s 40us/sample - loss: 0.5993 - acc: 0.6979\n",
            "Epoch 131/150\n",
            "768/768 [==============================] - 0s 38us/sample - loss: 0.6197 - acc: 0.6667\n",
            "Epoch 132/150\n",
            "768/768 [==============================] - 0s 37us/sample - loss: 0.6098 - acc: 0.6862\n",
            "Epoch 133/150\n",
            "768/768 [==============================] - 0s 38us/sample - loss: 0.6085 - acc: 0.6875\n",
            "Epoch 134/150\n",
            "768/768 [==============================] - 0s 41us/sample - loss: 0.5959 - acc: 0.7057\n",
            "Epoch 135/150\n",
            "768/768 [==============================] - 0s 37us/sample - loss: 0.5991 - acc: 0.6966\n",
            "Epoch 136/150\n",
            "768/768 [==============================] - 0s 44us/sample - loss: 0.5969 - acc: 0.6992\n",
            "Epoch 137/150\n",
            "768/768 [==============================] - 0s 38us/sample - loss: 0.5917 - acc: 0.7083\n",
            "Epoch 138/150\n",
            "768/768 [==============================] - 0s 37us/sample - loss: 0.6024 - acc: 0.6966\n",
            "Epoch 139/150\n",
            "768/768 [==============================] - 0s 40us/sample - loss: 0.5952 - acc: 0.7083\n",
            "Epoch 140/150\n",
            "768/768 [==============================] - 0s 38us/sample - loss: 0.5998 - acc: 0.6836\n",
            "Epoch 141/150\n",
            "768/768 [==============================] - 0s 40us/sample - loss: 0.5891 - acc: 0.7122\n",
            "Epoch 142/150\n",
            "768/768 [==============================] - 0s 38us/sample - loss: 0.5906 - acc: 0.7044\n",
            "Epoch 143/150\n",
            "768/768 [==============================] - 0s 37us/sample - loss: 0.5903 - acc: 0.7083\n",
            "Epoch 144/150\n",
            "768/768 [==============================] - 0s 37us/sample - loss: 0.5875 - acc: 0.7148\n",
            "Epoch 145/150\n",
            "768/768 [==============================] - 0s 40us/sample - loss: 0.5900 - acc: 0.6992\n",
            "Epoch 146/150\n",
            "768/768 [==============================] - 0s 37us/sample - loss: 0.6004 - acc: 0.6914\n",
            "Epoch 147/150\n",
            "768/768 [==============================] - 0s 38us/sample - loss: 0.5909 - acc: 0.7083\n",
            "Epoch 148/150\n",
            "768/768 [==============================] - 0s 42us/sample - loss: 0.5892 - acc: 0.7122\n",
            "Epoch 149/150\n",
            "768/768 [==============================] - 0s 41us/sample - loss: 0.5883 - acc: 0.7070\n",
            "Epoch 150/150\n",
            "768/768 [==============================] - 0s 37us/sample - loss: 0.5902 - acc: 0.6992\n"
          ],
          "name": "stdout"
        },
        {
          "output_type": "execute_result",
          "data": {
            "text/plain": [
              "<tensorflow.python.keras.callbacks.History at 0x7f43ae15d630>"
            ]
          },
          "metadata": {
            "tags": []
          },
          "execution_count": 12
        }
      ]
    },
    {
      "cell_type": "code",
      "metadata": {
        "id": "bo_uNEDXToEV",
        "colab_type": "code",
        "colab": {
          "base_uri": "https://localhost:8080/",
          "height": 35
        },
        "outputId": "4a25e292-896a-4c5d-b89e-85fcabc7adc0"
      },
      "source": [
        "y.shape"
      ],
      "execution_count": 13,
      "outputs": [
        {
          "output_type": "execute_result",
          "data": {
            "text/plain": [
              "(768,)"
            ]
          },
          "metadata": {
            "tags": []
          },
          "execution_count": 13
        }
      ]
    },
    {
      "cell_type": "markdown",
      "metadata": {
        "id": "snlp8slIToEZ",
        "colab_type": "text"
      },
      "source": [
        "### Evaluate Model"
      ]
    },
    {
      "cell_type": "code",
      "metadata": {
        "id": "K8aWMYB-ToEa",
        "colab_type": "code",
        "colab": {
          "base_uri": "https://localhost:8080/",
          "height": 72
        },
        "outputId": "8477de48-96c4-48fe-edd7-e6c6a537a2d7"
      },
      "source": [
        "y[:50]"
      ],
      "execution_count": 14,
      "outputs": [
        {
          "output_type": "execute_result",
          "data": {
            "text/plain": [
              "array([1., 0., 1., 0., 1., 0., 1., 0., 1., 1., 0., 1., 0., 1., 1., 1., 1.,\n",
              "       1., 0., 1., 0., 0., 1., 1., 1., 1., 1., 0., 0., 0., 0., 1., 0., 0.,\n",
              "       0., 0., 0., 1., 1., 1., 0., 0., 0., 1., 0., 1., 0., 0., 1., 0.])"
            ]
          },
          "metadata": {
            "tags": []
          },
          "execution_count": 14
        }
      ]
    },
    {
      "cell_type": "code",
      "metadata": {
        "id": "4s51lAHWToEd",
        "colab_type": "code",
        "colab": {
          "base_uri": "https://localhost:8080/",
          "height": 35
        },
        "outputId": "72791bb6-5fc8-44d6-914e-307d21509525"
      },
      "source": [
        "# Predicting never diabetes (majority class prediction)\n",
        "1 - (sum(y) / len(y))"
      ],
      "execution_count": 20,
      "outputs": [
        {
          "output_type": "execute_result",
          "data": {
            "text/plain": [
              "0.6510416666666667"
            ]
          },
          "metadata": {
            "tags": []
          },
          "execution_count": 20
        }
      ]
    },
    {
      "cell_type": "code",
      "metadata": {
        "id": "exuorENqToEi",
        "colab_type": "code",
        "colab": {
          "base_uri": "https://localhost:8080/",
          "height": 54
        },
        "outputId": "1b86d0f3-b4df-4b25-e428-948113340f66"
      },
      "source": [
        "scores = model.evaluate(X, y)\n",
        "print(f\"{model.metrics_names[1]}: {scores[1] * 100}\")"
      ],
      "execution_count": 16,
      "outputs": [
        {
          "output_type": "stream",
          "text": [
            "768/768 [==============================] - 0s 43us/sample - loss: 0.5870 - acc: 0.6992\n",
            "acc: 69.921875\n"
          ],
          "name": "stdout"
        }
      ]
    },
    {
      "cell_type": "markdown",
      "metadata": {
        "colab_type": "text",
        "id": "zHYB7k9q3O8T"
      },
      "source": [
        "### Unstable Results\n",
        "\n",
        "You'll notice that if we rerun the results might differ from the origin run. This can be explain by a bunch of factors. Check out some of them in this article: \n",
        "\n",
        "<https://machinelearningmastery.com/randomness-in-machine-learning/>"
      ]
    },
    {
      "cell_type": "markdown",
      "metadata": {
        "id": "TC8PYzDJToEn",
        "colab_type": "text"
      },
      "source": [
        "## Challenge\n",
        "\n",
        "You will be expected to leverage the Keras `Sequential`api to estimate a feed forward neural networks on a dataset."
      ]
    },
    {
      "cell_type": "markdown",
      "metadata": {
        "colab_type": "text",
        "id": "ueDVpctAzvy8"
      },
      "source": [
        "# Choosing Architecture (Learn)"
      ]
    },
    {
      "cell_type": "markdown",
      "metadata": {
        "id": "VovXRHCuToEp",
        "colab_type": "text"
      },
      "source": [
        "## Overview\n",
        "\n",
        "Choosing an architecture for a neural network is almost more an art than a science. Let's do a few experiments:"
      ]
    },
    {
      "cell_type": "markdown",
      "metadata": {
        "id": "8e8q7CdzToEq",
        "colab_type": "text"
      },
      "source": [
        "## Follow Along"
      ]
    },
    {
      "cell_type": "code",
      "metadata": {
        "colab_type": "code",
        "id": "6W2Sc7-LzQo_",
        "colab": {
          "base_uri": "https://localhost:8080/",
          "height": 274
        },
        "outputId": "27ded1c1-be4e-4355-c13f-d057f730fccf"
      },
      "source": [
        "# Tell me your ideas\n",
        "\n",
        "model_improved = Sequential(name=\"3LayerJunk\")\n",
        "\n",
        "model_improved.add(Dense(4, input_dim=8, activation='relu', name=\"Dense1\"))\n",
        "model_improved.add(Dense(3, activation='sigmoid'))\n",
        "model_improved.add(Dense(1, activation='sigmoid'))\n",
        "\n",
        "model_improved.compile(loss='binary_crossentropy', optimizer='adam',\n",
        "              metrics=['accuracy'])\n",
        "\n",
        "# Let's inspect our new architecture\n",
        "model_improved.summary()"
      ],
      "execution_count": 17,
      "outputs": [
        {
          "output_type": "stream",
          "text": [
            "Model: \"3LayerJunk\"\n",
            "_________________________________________________________________\n",
            "Layer (type)                 Output Shape              Param #   \n",
            "=================================================================\n",
            "Dense1 (Dense)               (None, 4)                 36        \n",
            "_________________________________________________________________\n",
            "dense_2 (Dense)              (None, 3)                 15        \n",
            "_________________________________________________________________\n",
            "dense_3 (Dense)              (None, 1)                 4         \n",
            "=================================================================\n",
            "Total params: 55\n",
            "Trainable params: 55\n",
            "Non-trainable params: 0\n",
            "_________________________________________________________________\n"
          ],
          "name": "stdout"
        }
      ]
    },
    {
      "cell_type": "code",
      "metadata": {
        "id": "6bizB4c0ToEu",
        "colab_type": "code",
        "colab": {
          "base_uri": "https://localhost:8080/",
          "height": 35
        },
        "outputId": "96b1d772-2d1d-45ea-ad0a-8b16b067f8af"
      },
      "source": [
        "model_improved.fit(X, y, epochs=150, verbose=False) # What parameters can I specify here?"
      ],
      "execution_count": 18,
      "outputs": [
        {
          "output_type": "execute_result",
          "data": {
            "text/plain": [
              "<tensorflow.python.keras.callbacks.History at 0x7f43adfda6d8>"
            ]
          },
          "metadata": {
            "tags": []
          },
          "execution_count": 18
        }
      ]
    },
    {
      "cell_type": "code",
      "metadata": {
        "id": "dcZNy_DVToEy",
        "colab_type": "code",
        "colab": {
          "base_uri": "https://localhost:8080/",
          "height": 54
        },
        "outputId": "2d6e9613-8367-4def-c10e-e2ce751fc9c3"
      },
      "source": [
        "scores = model_improved.evaluate(X, y)\n",
        "print(f\"{model_improved.metrics_names[1]}: {scores[1]*100}\")"
      ],
      "execution_count": 19,
      "outputs": [
        {
          "output_type": "stream",
          "text": [
            "768/768 [==============================] - 0s 77us/sample - loss: 0.5552 - acc: 0.7057\n",
            "acc: 70.57291865348816\n"
          ],
          "name": "stdout"
        }
      ]
    },
    {
      "cell_type": "markdown",
      "metadata": {
        "id": "ub6gWi3YToE2",
        "colab_type": "text"
      },
      "source": [
        "### Experiment with 1 Additional Layer & Change Activation F(x)s"
      ]
    },
    {
      "cell_type": "code",
      "metadata": {
        "id": "hF-jv66IToE2",
        "colab_type": "code",
        "colab": {
          "base_uri": "https://localhost:8080/",
          "height": 311
        },
        "outputId": "2c83f3cd-9b7d-4a7d-84dc-a8870e660199"
      },
      "source": [
        "# Tell me your ideas\n",
        "\n",
        "model_improved = Sequential(name=\"4LayerJunk\")\n",
        "\n",
        "model_improved.add(Dense(4, input_dim=8, activation='relu', name=\"Dense1\"))\n",
        "model_improved.add(Dense(3, activation='relu'))\n",
        "model_improved.add(Dense(3, activation='relu'))\n",
        "model_improved.add(Dense(1, activation='sigmoid'))\n",
        "\n",
        "model_improved.compile(loss='binary_crossentropy', optimizer='adam',\n",
        "              metrics=['accuracy'])\n",
        "\n",
        "# Let's inspect our new architecture\n",
        "model_improved.summary()"
      ],
      "execution_count": 21,
      "outputs": [
        {
          "output_type": "stream",
          "text": [
            "Model: \"4LayerJunk\"\n",
            "_________________________________________________________________\n",
            "Layer (type)                 Output Shape              Param #   \n",
            "=================================================================\n",
            "Dense1 (Dense)               (None, 4)                 36        \n",
            "_________________________________________________________________\n",
            "dense_4 (Dense)              (None, 3)                 15        \n",
            "_________________________________________________________________\n",
            "dense_5 (Dense)              (None, 3)                 12        \n",
            "_________________________________________________________________\n",
            "dense_6 (Dense)              (None, 1)                 4         \n",
            "=================================================================\n",
            "Total params: 67\n",
            "Trainable params: 67\n",
            "Non-trainable params: 0\n",
            "_________________________________________________________________\n"
          ],
          "name": "stdout"
        }
      ]
    },
    {
      "cell_type": "code",
      "metadata": {
        "id": "oZXpvH7vToE5",
        "colab_type": "code",
        "colab": {
          "base_uri": "https://localhost:8080/",
          "height": 35
        },
        "outputId": "02746a57-718a-4113-f627-0ff9e8641aa2"
      },
      "source": [
        "model_improved.fit(X,y, epochs=250, verbose=False)"
      ],
      "execution_count": 22,
      "outputs": [
        {
          "output_type": "execute_result",
          "data": {
            "text/plain": [
              "<tensorflow.python.keras.callbacks.History at 0x7f43adfa9a20>"
            ]
          },
          "metadata": {
            "tags": []
          },
          "execution_count": 22
        }
      ]
    },
    {
      "cell_type": "code",
      "metadata": {
        "id": "ulxjG2sEToE9",
        "colab_type": "code",
        "colab": {
          "base_uri": "https://localhost:8080/",
          "height": 54
        },
        "outputId": "342ee95c-901f-428f-f484-05a1242f0cfb"
      },
      "source": [
        "model_improved.evaluate(X,y)\n",
        "#print(f\"{model_improved.metrics_names[1]}: {scores[1]*100}\")"
      ],
      "execution_count": 23,
      "outputs": [
        {
          "output_type": "stream",
          "text": [
            "768/768 [==============================] - 0s 66us/sample - loss: 0.6342 - acc: 0.6641\n"
          ],
          "name": "stdout"
        },
        {
          "output_type": "execute_result",
          "data": {
            "text/plain": [
              "[0.6342442979415258, 0.6640625]"
            ]
          },
          "metadata": {
            "tags": []
          },
          "execution_count": 23
        }
      ]
    },
    {
      "cell_type": "markdown",
      "metadata": {
        "id": "SuxJ2bA7ToFB",
        "colab_type": "text"
      },
      "source": [
        "### New Experiment with Identical Neuron Numbers"
      ]
    },
    {
      "cell_type": "code",
      "metadata": {
        "id": "XxzpPLShToFE",
        "colab_type": "code",
        "colab": {
          "base_uri": "https://localhost:8080/",
          "height": 311
        },
        "outputId": "7e837f43-05fc-4849-f8de-4950b7fac476"
      },
      "source": [
        "# Tell me your ideas\n",
        "\n",
        "model_improved = Sequential(name=\"EvenNeurons4LayerJunk\")\n",
        "\n",
        "model_improved.add(Dense(8, input_dim=8, activation='relu', name=\"Dense1\"))\n",
        "model_improved.add(Dense(8, activation='relu'))\n",
        "model_improved.add(Dense(8, activation='relu'))\n",
        "model_improved.add(Dense(1, activation='sigmoid'))\n",
        "\n",
        "model_improved.compile(loss='binary_crossentropy', optimizer='adam',\n",
        "              metrics=['accuracy'])\n",
        "\n",
        "# Let's inspect our new architecture\n",
        "model_improved.summary()"
      ],
      "execution_count": 24,
      "outputs": [
        {
          "output_type": "stream",
          "text": [
            "Model: \"EvenNeurons4LayerJunk\"\n",
            "_________________________________________________________________\n",
            "Layer (type)                 Output Shape              Param #   \n",
            "=================================================================\n",
            "Dense1 (Dense)               (None, 8)                 72        \n",
            "_________________________________________________________________\n",
            "dense_7 (Dense)              (None, 8)                 72        \n",
            "_________________________________________________________________\n",
            "dense_8 (Dense)              (None, 8)                 72        \n",
            "_________________________________________________________________\n",
            "dense_9 (Dense)              (None, 1)                 9         \n",
            "=================================================================\n",
            "Total params: 225\n",
            "Trainable params: 225\n",
            "Non-trainable params: 0\n",
            "_________________________________________________________________\n"
          ],
          "name": "stdout"
        }
      ]
    },
    {
      "cell_type": "code",
      "metadata": {
        "id": "N9VuC0jWToFF",
        "colab_type": "code",
        "colab": {
          "base_uri": "https://localhost:8080/",
          "height": 1000
        },
        "outputId": "8515cfa2-c580-482e-b6e0-fd116c495e6b"
      },
      "source": [
        "model_improved.fit(X,y, epochs=250, validation_split=.10)"
      ],
      "execution_count": 25,
      "outputs": [
        {
          "output_type": "stream",
          "text": [
            "Train on 691 samples, validate on 77 samples\n",
            "Epoch 1/250\n",
            "691/691 [==============================] - 0s 263us/sample - loss: 12.4997 - acc: 0.6570 - val_loss: 10.8945 - val_acc: 0.5974\n",
            "Epoch 2/250\n",
            "691/691 [==============================] - 0s 55us/sample - loss: 7.3604 - acc: 0.6570 - val_loss: 6.3026 - val_acc: 0.5974\n",
            "Epoch 3/250\n",
            "691/691 [==============================] - 0s 59us/sample - loss: 4.0872 - acc: 0.6570 - val_loss: 3.3758 - val_acc: 0.5974\n",
            "Epoch 4/250\n",
            "691/691 [==============================] - 0s 56us/sample - loss: 1.8401 - acc: 0.6643 - val_loss: 1.6213 - val_acc: 0.5844\n",
            "Epoch 5/250\n",
            "691/691 [==============================] - 0s 49us/sample - loss: 1.1102 - acc: 0.6643 - val_loss: 1.2895 - val_acc: 0.5844\n",
            "Epoch 6/250\n",
            "691/691 [==============================] - 0s 54us/sample - loss: 0.9342 - acc: 0.6715 - val_loss: 1.1198 - val_acc: 0.5844\n",
            "Epoch 7/250\n",
            "691/691 [==============================] - 0s 49us/sample - loss: 0.8351 - acc: 0.6773 - val_loss: 1.0092 - val_acc: 0.5714\n",
            "Epoch 8/250\n",
            "691/691 [==============================] - 0s 53us/sample - loss: 0.7697 - acc: 0.6729 - val_loss: 0.9588 - val_acc: 0.6104\n",
            "Epoch 9/250\n",
            "691/691 [==============================] - 0s 57us/sample - loss: 0.7260 - acc: 0.6671 - val_loss: 0.8940 - val_acc: 0.5974\n",
            "Epoch 10/250\n",
            "691/691 [==============================] - 0s 48us/sample - loss: 0.6885 - acc: 0.6715 - val_loss: 0.8609 - val_acc: 0.6104\n",
            "Epoch 11/250\n",
            "691/691 [==============================] - 0s 51us/sample - loss: 0.6649 - acc: 0.6686 - val_loss: 0.8359 - val_acc: 0.6104\n",
            "Epoch 12/250\n",
            "691/691 [==============================] - 0s 60us/sample - loss: 0.6502 - acc: 0.6700 - val_loss: 0.8138 - val_acc: 0.5974\n",
            "Epoch 13/250\n",
            "691/691 [==============================] - 0s 55us/sample - loss: 0.6395 - acc: 0.6715 - val_loss: 0.7988 - val_acc: 0.5974\n",
            "Epoch 14/250\n",
            "691/691 [==============================] - 0s 57us/sample - loss: 0.6354 - acc: 0.6758 - val_loss: 0.7930 - val_acc: 0.5844\n",
            "Epoch 15/250\n",
            "691/691 [==============================] - 0s 75us/sample - loss: 0.6291 - acc: 0.6671 - val_loss: 0.7829 - val_acc: 0.5974\n",
            "Epoch 16/250\n",
            "691/691 [==============================] - 0s 90us/sample - loss: 0.6240 - acc: 0.6671 - val_loss: 0.7800 - val_acc: 0.5844\n",
            "Epoch 17/250\n",
            "691/691 [==============================] - 0s 69us/sample - loss: 0.6182 - acc: 0.6643 - val_loss: 0.7749 - val_acc: 0.5584\n",
            "Epoch 18/250\n",
            "691/691 [==============================] - 0s 54us/sample - loss: 0.6157 - acc: 0.6729 - val_loss: 0.7769 - val_acc: 0.5974\n",
            "Epoch 19/250\n",
            "691/691 [==============================] - 0s 61us/sample - loss: 0.6124 - acc: 0.6614 - val_loss: 0.7745 - val_acc: 0.6104\n",
            "Epoch 20/250\n",
            "691/691 [==============================] - 0s 49us/sample - loss: 0.6082 - acc: 0.6628 - val_loss: 0.7699 - val_acc: 0.5844\n",
            "Epoch 21/250\n",
            "691/691 [==============================] - 0s 48us/sample - loss: 0.6062 - acc: 0.6744 - val_loss: 0.7691 - val_acc: 0.5974\n",
            "Epoch 22/250\n",
            "691/691 [==============================] - 0s 55us/sample - loss: 0.6051 - acc: 0.6729 - val_loss: 0.7673 - val_acc: 0.5974\n",
            "Epoch 23/250\n",
            "691/691 [==============================] - 0s 52us/sample - loss: 0.6022 - acc: 0.6744 - val_loss: 0.7652 - val_acc: 0.5844\n",
            "Epoch 24/250\n",
            "691/691 [==============================] - 0s 61us/sample - loss: 0.6047 - acc: 0.6715 - val_loss: 0.7618 - val_acc: 0.5844\n",
            "Epoch 25/250\n",
            "691/691 [==============================] - 0s 72us/sample - loss: 0.6043 - acc: 0.6787 - val_loss: 0.7568 - val_acc: 0.5714\n",
            "Epoch 26/250\n",
            "691/691 [==============================] - 0s 61us/sample - loss: 0.6014 - acc: 0.6715 - val_loss: 0.7623 - val_acc: 0.5844\n",
            "Epoch 27/250\n",
            "691/691 [==============================] - 0s 70us/sample - loss: 0.6006 - acc: 0.6802 - val_loss: 0.7538 - val_acc: 0.5714\n",
            "Epoch 28/250\n",
            "691/691 [==============================] - 0s 60us/sample - loss: 0.5980 - acc: 0.6831 - val_loss: 0.7551 - val_acc: 0.5844\n",
            "Epoch 29/250\n",
            "691/691 [==============================] - 0s 59us/sample - loss: 0.5969 - acc: 0.6787 - val_loss: 0.7525 - val_acc: 0.5714\n",
            "Epoch 30/250\n",
            "691/691 [==============================] - 0s 63us/sample - loss: 0.5961 - acc: 0.6816 - val_loss: 0.7615 - val_acc: 0.6104\n",
            "Epoch 31/250\n",
            "691/691 [==============================] - 0s 67us/sample - loss: 0.5982 - acc: 0.6773 - val_loss: 0.7545 - val_acc: 0.5974\n",
            "Epoch 32/250\n",
            "691/691 [==============================] - 0s 73us/sample - loss: 0.5950 - acc: 0.6787 - val_loss: 0.7556 - val_acc: 0.5714\n",
            "Epoch 33/250\n",
            "691/691 [==============================] - 0s 59us/sample - loss: 0.5984 - acc: 0.6787 - val_loss: 0.7606 - val_acc: 0.6234\n",
            "Epoch 34/250\n",
            "691/691 [==============================] - 0s 67us/sample - loss: 0.5946 - acc: 0.6802 - val_loss: 0.7477 - val_acc: 0.5584\n",
            "Epoch 35/250\n",
            "691/691 [==============================] - 0s 63us/sample - loss: 0.5948 - acc: 0.6831 - val_loss: 0.7524 - val_acc: 0.5714\n",
            "Epoch 36/250\n",
            "691/691 [==============================] - 0s 72us/sample - loss: 0.5932 - acc: 0.6787 - val_loss: 0.7529 - val_acc: 0.5844\n",
            "Epoch 37/250\n",
            "691/691 [==============================] - 0s 63us/sample - loss: 0.5903 - acc: 0.6816 - val_loss: 0.7507 - val_acc: 0.5844\n",
            "Epoch 38/250\n",
            "691/691 [==============================] - 0s 61us/sample - loss: 0.5954 - acc: 0.6700 - val_loss: 0.7592 - val_acc: 0.6234\n",
            "Epoch 39/250\n",
            "691/691 [==============================] - 0s 70us/sample - loss: 0.5939 - acc: 0.6889 - val_loss: 0.7489 - val_acc: 0.5325\n",
            "Epoch 40/250\n",
            "691/691 [==============================] - 0s 81us/sample - loss: 0.5917 - acc: 0.6802 - val_loss: 0.7553 - val_acc: 0.5974\n",
            "Epoch 41/250\n",
            "691/691 [==============================] - 0s 55us/sample - loss: 0.5929 - acc: 0.6860 - val_loss: 0.7482 - val_acc: 0.5714\n",
            "Epoch 42/250\n",
            "691/691 [==============================] - 0s 68us/sample - loss: 0.5940 - acc: 0.6744 - val_loss: 0.7465 - val_acc: 0.6104\n",
            "Epoch 43/250\n",
            "691/691 [==============================] - 0s 55us/sample - loss: 0.5892 - acc: 0.6802 - val_loss: 0.7445 - val_acc: 0.5974\n",
            "Epoch 44/250\n",
            "691/691 [==============================] - 0s 70us/sample - loss: 0.5865 - acc: 0.6802 - val_loss: 0.7518 - val_acc: 0.5714\n",
            "Epoch 45/250\n",
            "691/691 [==============================] - 0s 64us/sample - loss: 0.5899 - acc: 0.6874 - val_loss: 0.7545 - val_acc: 0.6364\n",
            "Epoch 46/250\n",
            "691/691 [==============================] - 0s 61us/sample - loss: 0.5898 - acc: 0.6816 - val_loss: 0.7491 - val_acc: 0.6104\n",
            "Epoch 47/250\n",
            "691/691 [==============================] - 0s 50us/sample - loss: 0.5894 - acc: 0.6889 - val_loss: 0.7494 - val_acc: 0.6234\n",
            "Epoch 48/250\n",
            "691/691 [==============================] - 0s 59us/sample - loss: 0.5944 - acc: 0.6787 - val_loss: 0.7356 - val_acc: 0.5714\n",
            "Epoch 49/250\n",
            "691/691 [==============================] - 0s 60us/sample - loss: 0.5904 - acc: 0.6845 - val_loss: 0.7350 - val_acc: 0.5714\n",
            "Epoch 50/250\n",
            "691/691 [==============================] - 0s 58us/sample - loss: 0.5894 - acc: 0.6889 - val_loss: 0.7325 - val_acc: 0.5844\n",
            "Epoch 51/250\n",
            "691/691 [==============================] - 0s 58us/sample - loss: 0.5846 - acc: 0.6860 - val_loss: 0.7310 - val_acc: 0.5974\n",
            "Epoch 52/250\n",
            "691/691 [==============================] - 0s 57us/sample - loss: 0.5841 - acc: 0.6831 - val_loss: 0.7267 - val_acc: 0.5974\n",
            "Epoch 53/250\n",
            "691/691 [==============================] - 0s 56us/sample - loss: 0.5816 - acc: 0.6903 - val_loss: 0.7320 - val_acc: 0.6104\n",
            "Epoch 54/250\n",
            "691/691 [==============================] - 0s 51us/sample - loss: 0.5813 - acc: 0.6816 - val_loss: 0.7345 - val_acc: 0.5844\n",
            "Epoch 55/250\n",
            "691/691 [==============================] - 0s 67us/sample - loss: 0.5841 - acc: 0.6845 - val_loss: 0.7432 - val_acc: 0.6364\n",
            "Epoch 56/250\n",
            "691/691 [==============================] - 0s 58us/sample - loss: 0.5851 - acc: 0.6831 - val_loss: 0.7322 - val_acc: 0.5974\n",
            "Epoch 57/250\n",
            "691/691 [==============================] - 0s 77us/sample - loss: 0.5815 - acc: 0.6816 - val_loss: 0.7276 - val_acc: 0.6104\n",
            "Epoch 58/250\n",
            "691/691 [==============================] - 0s 72us/sample - loss: 0.5820 - acc: 0.6831 - val_loss: 0.7267 - val_acc: 0.5844\n",
            "Epoch 59/250\n",
            "691/691 [==============================] - 0s 68us/sample - loss: 0.5780 - acc: 0.6874 - val_loss: 0.7314 - val_acc: 0.6104\n",
            "Epoch 60/250\n",
            "691/691 [==============================] - 0s 67us/sample - loss: 0.5862 - acc: 0.6758 - val_loss: 0.7282 - val_acc: 0.5844\n",
            "Epoch 61/250\n",
            "691/691 [==============================] - 0s 65us/sample - loss: 0.5869 - acc: 0.6816 - val_loss: 0.7154 - val_acc: 0.5844\n",
            "Epoch 62/250\n",
            "691/691 [==============================] - 0s 64us/sample - loss: 0.5914 - acc: 0.6715 - val_loss: 0.7291 - val_acc: 0.6234\n",
            "Epoch 63/250\n",
            "691/691 [==============================] - 0s 63us/sample - loss: 0.5801 - acc: 0.6889 - val_loss: 0.7110 - val_acc: 0.5974\n",
            "Epoch 64/250\n",
            "691/691 [==============================] - 0s 54us/sample - loss: 0.5827 - acc: 0.6946 - val_loss: 0.7328 - val_acc: 0.6364\n",
            "Epoch 65/250\n",
            "691/691 [==============================] - 0s 58us/sample - loss: 0.5800 - acc: 0.6889 - val_loss: 0.7263 - val_acc: 0.6234\n",
            "Epoch 66/250\n",
            "691/691 [==============================] - 0s 70us/sample - loss: 0.5774 - acc: 0.6874 - val_loss: 0.7172 - val_acc: 0.6104\n",
            "Epoch 67/250\n",
            "691/691 [==============================] - 0s 72us/sample - loss: 0.5753 - acc: 0.6860 - val_loss: 0.7201 - val_acc: 0.6234\n",
            "Epoch 68/250\n",
            "691/691 [==============================] - 0s 64us/sample - loss: 0.5751 - acc: 0.6990 - val_loss: 0.7129 - val_acc: 0.6104\n",
            "Epoch 69/250\n",
            "691/691 [==============================] - 0s 56us/sample - loss: 0.5734 - acc: 0.6874 - val_loss: 0.7221 - val_acc: 0.6234\n",
            "Epoch 70/250\n",
            "691/691 [==============================] - 0s 69us/sample - loss: 0.5714 - acc: 0.7019 - val_loss: 0.7058 - val_acc: 0.5714\n",
            "Epoch 71/250\n",
            "691/691 [==============================] - 0s 72us/sample - loss: 0.5752 - acc: 0.6889 - val_loss: 0.7176 - val_acc: 0.6104\n",
            "Epoch 72/250\n",
            "691/691 [==============================] - 0s 62us/sample - loss: 0.5750 - acc: 0.6903 - val_loss: 0.7072 - val_acc: 0.5974\n",
            "Epoch 73/250\n",
            "691/691 [==============================] - 0s 61us/sample - loss: 0.5689 - acc: 0.6961 - val_loss: 0.7207 - val_acc: 0.6234\n",
            "Epoch 74/250\n",
            "691/691 [==============================] - 0s 67us/sample - loss: 0.5693 - acc: 0.6889 - val_loss: 0.7079 - val_acc: 0.5714\n",
            "Epoch 75/250\n",
            "691/691 [==============================] - 0s 72us/sample - loss: 0.5710 - acc: 0.6961 - val_loss: 0.7140 - val_acc: 0.6104\n",
            "Epoch 76/250\n",
            "691/691 [==============================] - 0s 82us/sample - loss: 0.5683 - acc: 0.7004 - val_loss: 0.7062 - val_acc: 0.5714\n",
            "Epoch 77/250\n",
            "691/691 [==============================] - 0s 61us/sample - loss: 0.5698 - acc: 0.7048 - val_loss: 0.7196 - val_acc: 0.6234\n",
            "Epoch 78/250\n",
            "691/691 [==============================] - 0s 53us/sample - loss: 0.5732 - acc: 0.6932 - val_loss: 0.7142 - val_acc: 0.6104\n",
            "Epoch 79/250\n",
            "691/691 [==============================] - 0s 68us/sample - loss: 0.5694 - acc: 0.7077 - val_loss: 0.7057 - val_acc: 0.5714\n",
            "Epoch 80/250\n",
            "691/691 [==============================] - 0s 63us/sample - loss: 0.5707 - acc: 0.7033 - val_loss: 0.7119 - val_acc: 0.6104\n",
            "Epoch 81/250\n",
            "691/691 [==============================] - 0s 64us/sample - loss: 0.5714 - acc: 0.6975 - val_loss: 0.7249 - val_acc: 0.6364\n",
            "Epoch 82/250\n",
            "691/691 [==============================] - 0s 72us/sample - loss: 0.5773 - acc: 0.7004 - val_loss: 0.7060 - val_acc: 0.6104\n",
            "Epoch 83/250\n",
            "691/691 [==============================] - 0s 65us/sample - loss: 0.5699 - acc: 0.6975 - val_loss: 0.7007 - val_acc: 0.5974\n",
            "Epoch 84/250\n",
            "691/691 [==============================] - 0s 69us/sample - loss: 0.5713 - acc: 0.6918 - val_loss: 0.6986 - val_acc: 0.5844\n",
            "Epoch 85/250\n",
            "691/691 [==============================] - 0s 77us/sample - loss: 0.5637 - acc: 0.7033 - val_loss: 0.7022 - val_acc: 0.5714\n",
            "Epoch 86/250\n",
            "691/691 [==============================] - 0s 65us/sample - loss: 0.5677 - acc: 0.7062 - val_loss: 0.7249 - val_acc: 0.6234\n",
            "Epoch 87/250\n",
            "691/691 [==============================] - 0s 56us/sample - loss: 0.5677 - acc: 0.7048 - val_loss: 0.7231 - val_acc: 0.6234\n",
            "Epoch 88/250\n",
            "691/691 [==============================] - 0s 62us/sample - loss: 0.5632 - acc: 0.7091 - val_loss: 0.6959 - val_acc: 0.5714\n",
            "Epoch 89/250\n",
            "691/691 [==============================] - 0s 54us/sample - loss: 0.5708 - acc: 0.7120 - val_loss: 0.7045 - val_acc: 0.5714\n",
            "Epoch 90/250\n",
            "691/691 [==============================] - 0s 62us/sample - loss: 0.5645 - acc: 0.7004 - val_loss: 0.6965 - val_acc: 0.5584\n",
            "Epoch 91/250\n",
            "691/691 [==============================] - 0s 64us/sample - loss: 0.5634 - acc: 0.7106 - val_loss: 0.7124 - val_acc: 0.6234\n",
            "Epoch 92/250\n",
            "691/691 [==============================] - 0s 77us/sample - loss: 0.5637 - acc: 0.7164 - val_loss: 0.6962 - val_acc: 0.5844\n",
            "Epoch 93/250\n",
            "691/691 [==============================] - 0s 58us/sample - loss: 0.5636 - acc: 0.7135 - val_loss: 0.7043 - val_acc: 0.5584\n",
            "Epoch 94/250\n",
            "691/691 [==============================] - 0s 61us/sample - loss: 0.5583 - acc: 0.7149 - val_loss: 0.7115 - val_acc: 0.6234\n",
            "Epoch 95/250\n",
            "691/691 [==============================] - 0s 56us/sample - loss: 0.5616 - acc: 0.7033 - val_loss: 0.7030 - val_acc: 0.5974\n",
            "Epoch 96/250\n",
            "691/691 [==============================] - 0s 52us/sample - loss: 0.5602 - acc: 0.7164 - val_loss: 0.7050 - val_acc: 0.6234\n",
            "Epoch 97/250\n",
            "691/691 [==============================] - 0s 56us/sample - loss: 0.5582 - acc: 0.7250 - val_loss: 0.7077 - val_acc: 0.5974\n",
            "Epoch 98/250\n",
            "691/691 [==============================] - 0s 58us/sample - loss: 0.5572 - acc: 0.7164 - val_loss: 0.7041 - val_acc: 0.5844\n",
            "Epoch 99/250\n",
            "691/691 [==============================] - 0s 54us/sample - loss: 0.5585 - acc: 0.7178 - val_loss: 0.6959 - val_acc: 0.6234\n",
            "Epoch 100/250\n",
            "691/691 [==============================] - 0s 51us/sample - loss: 0.5573 - acc: 0.7164 - val_loss: 0.6942 - val_acc: 0.6104\n",
            "Epoch 101/250\n",
            "691/691 [==============================] - 0s 53us/sample - loss: 0.5540 - acc: 0.7279 - val_loss: 0.7024 - val_acc: 0.5974\n",
            "Epoch 102/250\n",
            "691/691 [==============================] - 0s 53us/sample - loss: 0.5536 - acc: 0.7149 - val_loss: 0.6895 - val_acc: 0.5584\n",
            "Epoch 103/250\n",
            "691/691 [==============================] - 0s 51us/sample - loss: 0.5509 - acc: 0.7265 - val_loss: 0.6998 - val_acc: 0.6234\n",
            "Epoch 104/250\n",
            "691/691 [==============================] - 0s 74us/sample - loss: 0.5538 - acc: 0.7221 - val_loss: 0.7029 - val_acc: 0.6494\n",
            "Epoch 105/250\n",
            "691/691 [==============================] - 0s 50us/sample - loss: 0.5612 - acc: 0.7236 - val_loss: 0.6777 - val_acc: 0.5974\n",
            "Epoch 106/250\n",
            "691/691 [==============================] - 0s 49us/sample - loss: 0.5508 - acc: 0.7337 - val_loss: 0.6800 - val_acc: 0.6364\n",
            "Epoch 107/250\n",
            "691/691 [==============================] - 0s 49us/sample - loss: 0.5499 - acc: 0.7279 - val_loss: 0.6984 - val_acc: 0.6104\n",
            "Epoch 108/250\n",
            "691/691 [==============================] - 0s 52us/sample - loss: 0.5528 - acc: 0.7236 - val_loss: 0.7048 - val_acc: 0.6753\n",
            "Epoch 109/250\n",
            "691/691 [==============================] - 0s 49us/sample - loss: 0.5523 - acc: 0.7192 - val_loss: 0.6891 - val_acc: 0.6494\n",
            "Epoch 110/250\n",
            "691/691 [==============================] - 0s 54us/sample - loss: 0.5502 - acc: 0.7192 - val_loss: 0.7135 - val_acc: 0.5974\n",
            "Epoch 111/250\n",
            "691/691 [==============================] - 0s 56us/sample - loss: 0.5493 - acc: 0.7279 - val_loss: 0.6885 - val_acc: 0.5974\n",
            "Epoch 112/250\n",
            "691/691 [==============================] - 0s 48us/sample - loss: 0.5475 - acc: 0.7323 - val_loss: 0.6806 - val_acc: 0.6234\n",
            "Epoch 113/250\n",
            "691/691 [==============================] - 0s 48us/sample - loss: 0.5468 - acc: 0.7352 - val_loss: 0.6970 - val_acc: 0.6494\n",
            "Epoch 114/250\n",
            "691/691 [==============================] - 0s 53us/sample - loss: 0.5462 - acc: 0.7381 - val_loss: 0.6727 - val_acc: 0.6104\n",
            "Epoch 115/250\n",
            "691/691 [==============================] - 0s 53us/sample - loss: 0.5453 - acc: 0.7265 - val_loss: 0.6824 - val_acc: 0.6494\n",
            "Epoch 116/250\n",
            "691/691 [==============================] - 0s 54us/sample - loss: 0.5421 - acc: 0.7294 - val_loss: 0.6903 - val_acc: 0.6234\n",
            "Epoch 117/250\n",
            "691/691 [==============================] - 0s 61us/sample - loss: 0.5437 - acc: 0.7395 - val_loss: 0.6935 - val_acc: 0.6364\n",
            "Epoch 118/250\n",
            "691/691 [==============================] - 0s 50us/sample - loss: 0.5421 - acc: 0.7395 - val_loss: 0.6998 - val_acc: 0.6753\n",
            "Epoch 119/250\n",
            "691/691 [==============================] - 0s 63us/sample - loss: 0.5410 - acc: 0.7352 - val_loss: 0.6946 - val_acc: 0.6364\n",
            "Epoch 120/250\n",
            "691/691 [==============================] - 0s 88us/sample - loss: 0.5429 - acc: 0.7381 - val_loss: 0.7056 - val_acc: 0.6494\n",
            "Epoch 121/250\n",
            "691/691 [==============================] - 0s 67us/sample - loss: 0.5445 - acc: 0.7192 - val_loss: 0.6741 - val_acc: 0.6623\n",
            "Epoch 122/250\n",
            "691/691 [==============================] - 0s 60us/sample - loss: 0.5448 - acc: 0.7337 - val_loss: 0.6889 - val_acc: 0.5974\n",
            "Epoch 123/250\n",
            "691/691 [==============================] - 0s 72us/sample - loss: 0.5490 - acc: 0.7323 - val_loss: 0.6875 - val_acc: 0.6234\n",
            "Epoch 124/250\n",
            "691/691 [==============================] - 0s 79us/sample - loss: 0.5425 - acc: 0.7294 - val_loss: 0.6783 - val_acc: 0.6364\n",
            "Epoch 125/250\n",
            "691/691 [==============================] - 0s 75us/sample - loss: 0.5432 - acc: 0.7250 - val_loss: 0.6992 - val_acc: 0.7013\n",
            "Epoch 126/250\n",
            "691/691 [==============================] - 0s 66us/sample - loss: 0.5401 - acc: 0.7352 - val_loss: 0.7088 - val_acc: 0.6494\n",
            "Epoch 127/250\n",
            "691/691 [==============================] - 0s 60us/sample - loss: 0.5376 - acc: 0.7352 - val_loss: 0.6993 - val_acc: 0.6753\n",
            "Epoch 128/250\n",
            "691/691 [==============================] - 0s 64us/sample - loss: 0.5394 - acc: 0.7467 - val_loss: 0.7117 - val_acc: 0.6623\n",
            "Epoch 129/250\n",
            "691/691 [==============================] - 0s 60us/sample - loss: 0.5388 - acc: 0.7467 - val_loss: 0.6914 - val_acc: 0.6883\n",
            "Epoch 130/250\n",
            "691/691 [==============================] - 0s 70us/sample - loss: 0.5430 - acc: 0.7294 - val_loss: 0.7001 - val_acc: 0.6104\n",
            "Epoch 131/250\n",
            "691/691 [==============================] - 0s 59us/sample - loss: 0.5361 - acc: 0.7410 - val_loss: 0.6885 - val_acc: 0.6364\n",
            "Epoch 132/250\n",
            "691/691 [==============================] - 0s 60us/sample - loss: 0.5378 - acc: 0.7323 - val_loss: 0.6851 - val_acc: 0.7013\n",
            "Epoch 133/250\n",
            "691/691 [==============================] - 0s 69us/sample - loss: 0.5352 - acc: 0.7337 - val_loss: 0.7115 - val_acc: 0.6234\n",
            "Epoch 134/250\n",
            "691/691 [==============================] - 0s 69us/sample - loss: 0.5401 - acc: 0.7337 - val_loss: 0.6821 - val_acc: 0.6623\n",
            "Epoch 135/250\n",
            "691/691 [==============================] - 0s 56us/sample - loss: 0.5391 - acc: 0.7250 - val_loss: 0.6671 - val_acc: 0.6494\n",
            "Epoch 136/250\n",
            "691/691 [==============================] - 0s 74us/sample - loss: 0.5438 - acc: 0.7192 - val_loss: 0.7195 - val_acc: 0.6104\n",
            "Epoch 137/250\n",
            "691/691 [==============================] - 0s 54us/sample - loss: 0.5345 - acc: 0.7337 - val_loss: 0.6651 - val_acc: 0.6753\n",
            "Epoch 138/250\n",
            "691/691 [==============================] - 0s 62us/sample - loss: 0.5369 - acc: 0.7366 - val_loss: 0.7018 - val_acc: 0.6753\n",
            "Epoch 139/250\n",
            "691/691 [==============================] - 0s 63us/sample - loss: 0.5338 - acc: 0.7453 - val_loss: 0.6942 - val_acc: 0.6753\n",
            "Epoch 140/250\n",
            "691/691 [==============================] - 0s 63us/sample - loss: 0.5321 - acc: 0.7381 - val_loss: 0.6942 - val_acc: 0.6494\n",
            "Epoch 141/250\n",
            "691/691 [==============================] - 0s 65us/sample - loss: 0.5409 - acc: 0.7279 - val_loss: 0.6878 - val_acc: 0.6883\n",
            "Epoch 142/250\n",
            "691/691 [==============================] - 0s 80us/sample - loss: 0.5366 - acc: 0.7410 - val_loss: 0.6896 - val_acc: 0.6753\n",
            "Epoch 143/250\n",
            "691/691 [==============================] - 0s 67us/sample - loss: 0.5363 - acc: 0.7366 - val_loss: 0.6952 - val_acc: 0.6364\n",
            "Epoch 144/250\n",
            "691/691 [==============================] - 0s 62us/sample - loss: 0.5508 - acc: 0.7178 - val_loss: 0.6770 - val_acc: 0.6753\n",
            "Epoch 145/250\n",
            "691/691 [==============================] - 0s 58us/sample - loss: 0.5307 - acc: 0.7438 - val_loss: 0.6969 - val_acc: 0.6753\n",
            "Epoch 146/250\n",
            "691/691 [==============================] - 0s 57us/sample - loss: 0.5441 - acc: 0.7323 - val_loss: 0.6701 - val_acc: 0.6623\n",
            "Epoch 147/250\n",
            "691/691 [==============================] - 0s 56us/sample - loss: 0.5393 - acc: 0.7352 - val_loss: 0.7060 - val_acc: 0.6104\n",
            "Epoch 148/250\n",
            "691/691 [==============================] - 0s 56us/sample - loss: 0.5386 - acc: 0.7308 - val_loss: 0.6934 - val_acc: 0.6753\n",
            "Epoch 149/250\n",
            "691/691 [==============================] - 0s 50us/sample - loss: 0.5347 - acc: 0.7410 - val_loss: 0.6881 - val_acc: 0.7013\n",
            "Epoch 150/250\n",
            "691/691 [==============================] - 0s 55us/sample - loss: 0.5313 - acc: 0.7410 - val_loss: 0.6972 - val_acc: 0.6104\n",
            "Epoch 151/250\n",
            "691/691 [==============================] - 0s 48us/sample - loss: 0.5363 - acc: 0.7352 - val_loss: 0.6873 - val_acc: 0.6364\n",
            "Epoch 152/250\n",
            "691/691 [==============================] - 0s 73us/sample - loss: 0.5318 - acc: 0.7410 - val_loss: 0.6851 - val_acc: 0.6883\n",
            "Epoch 153/250\n",
            "691/691 [==============================] - 0s 54us/sample - loss: 0.5301 - acc: 0.7453 - val_loss: 0.6835 - val_acc: 0.6753\n",
            "Epoch 154/250\n",
            "691/691 [==============================] - 0s 56us/sample - loss: 0.5291 - acc: 0.7395 - val_loss: 0.6792 - val_acc: 0.6623\n",
            "Epoch 155/250\n",
            "691/691 [==============================] - 0s 75us/sample - loss: 0.5276 - acc: 0.7482 - val_loss: 0.7121 - val_acc: 0.7013\n",
            "Epoch 156/250\n",
            "691/691 [==============================] - 0s 74us/sample - loss: 0.5349 - acc: 0.7453 - val_loss: 0.6818 - val_acc: 0.7013\n",
            "Epoch 157/250\n",
            "691/691 [==============================] - 0s 64us/sample - loss: 0.5244 - acc: 0.7424 - val_loss: 0.6776 - val_acc: 0.6494\n",
            "Epoch 158/250\n",
            "691/691 [==============================] - 0s 55us/sample - loss: 0.5268 - acc: 0.7366 - val_loss: 0.6779 - val_acc: 0.6623\n",
            "Epoch 159/250\n",
            "691/691 [==============================] - 0s 74us/sample - loss: 0.5355 - acc: 0.7337 - val_loss: 0.7248 - val_acc: 0.6494\n",
            "Epoch 160/250\n",
            "691/691 [==============================] - 0s 67us/sample - loss: 0.5308 - acc: 0.7424 - val_loss: 0.7106 - val_acc: 0.6753\n",
            "Epoch 161/250\n",
            "691/691 [==============================] - 0s 63us/sample - loss: 0.5278 - acc: 0.7410 - val_loss: 0.6806 - val_acc: 0.6494\n",
            "Epoch 162/250\n",
            "691/691 [==============================] - 0s 53us/sample - loss: 0.5324 - acc: 0.7453 - val_loss: 0.6965 - val_acc: 0.6753\n",
            "Epoch 163/250\n",
            "691/691 [==============================] - 0s 52us/sample - loss: 0.5400 - acc: 0.7424 - val_loss: 0.6843 - val_acc: 0.6494\n",
            "Epoch 164/250\n",
            "691/691 [==============================] - 0s 59us/sample - loss: 0.5311 - acc: 0.7467 - val_loss: 0.6615 - val_acc: 0.6753\n",
            "Epoch 165/250\n",
            "691/691 [==============================] - 0s 55us/sample - loss: 0.5295 - acc: 0.7337 - val_loss: 0.6985 - val_acc: 0.6494\n",
            "Epoch 166/250\n",
            "691/691 [==============================] - 0s 48us/sample - loss: 0.5320 - acc: 0.7323 - val_loss: 0.6751 - val_acc: 0.6623\n",
            "Epoch 167/250\n",
            "691/691 [==============================] - 0s 56us/sample - loss: 0.5260 - acc: 0.7482 - val_loss: 0.6902 - val_acc: 0.6364\n",
            "Epoch 168/250\n",
            "691/691 [==============================] - 0s 51us/sample - loss: 0.5270 - acc: 0.7381 - val_loss: 0.6808 - val_acc: 0.6753\n",
            "Epoch 169/250\n",
            "691/691 [==============================] - 0s 72us/sample - loss: 0.5285 - acc: 0.7395 - val_loss: 0.7166 - val_acc: 0.6753\n",
            "Epoch 170/250\n",
            "691/691 [==============================] - 0s 77us/sample - loss: 0.5301 - acc: 0.7323 - val_loss: 0.7078 - val_acc: 0.6753\n",
            "Epoch 171/250\n",
            "691/691 [==============================] - 0s 75us/sample - loss: 0.5288 - acc: 0.7381 - val_loss: 0.7241 - val_acc: 0.6494\n",
            "Epoch 172/250\n",
            "691/691 [==============================] - 0s 67us/sample - loss: 0.5282 - acc: 0.7366 - val_loss: 0.7049 - val_acc: 0.6364\n",
            "Epoch 173/250\n",
            "691/691 [==============================] - 0s 69us/sample - loss: 0.5242 - acc: 0.7482 - val_loss: 0.6865 - val_acc: 0.7013\n",
            "Epoch 174/250\n",
            "691/691 [==============================] - 0s 63us/sample - loss: 0.5365 - acc: 0.7265 - val_loss: 0.6972 - val_acc: 0.6364\n",
            "Epoch 175/250\n",
            "691/691 [==============================] - 0s 69us/sample - loss: 0.5291 - acc: 0.7424 - val_loss: 0.6959 - val_acc: 0.6234\n",
            "Epoch 176/250\n",
            "691/691 [==============================] - 0s 73us/sample - loss: 0.5265 - acc: 0.7453 - val_loss: 0.6955 - val_acc: 0.6494\n",
            "Epoch 177/250\n",
            "691/691 [==============================] - 0s 71us/sample - loss: 0.5233 - acc: 0.7482 - val_loss: 0.6933 - val_acc: 0.6104\n",
            "Epoch 178/250\n",
            "691/691 [==============================] - 0s 62us/sample - loss: 0.5243 - acc: 0.7424 - val_loss: 0.6905 - val_acc: 0.6883\n",
            "Epoch 179/250\n",
            "691/691 [==============================] - 0s 80us/sample - loss: 0.5382 - acc: 0.7265 - val_loss: 0.6936 - val_acc: 0.7013\n",
            "Epoch 180/250\n",
            "691/691 [==============================] - 0s 67us/sample - loss: 0.5200 - acc: 0.7467 - val_loss: 0.6702 - val_acc: 0.6883\n",
            "Epoch 181/250\n",
            "691/691 [==============================] - 0s 79us/sample - loss: 0.5237 - acc: 0.7410 - val_loss: 0.7007 - val_acc: 0.6104\n",
            "Epoch 182/250\n",
            "691/691 [==============================] - 0s 65us/sample - loss: 0.5277 - acc: 0.7453 - val_loss: 0.6838 - val_acc: 0.6494\n",
            "Epoch 183/250\n",
            "691/691 [==============================] - 0s 76us/sample - loss: 0.5413 - acc: 0.7294 - val_loss: 0.6834 - val_acc: 0.6883\n",
            "Epoch 184/250\n",
            "691/691 [==============================] - 0s 81us/sample - loss: 0.5327 - acc: 0.7236 - val_loss: 0.6815 - val_acc: 0.6753\n",
            "Epoch 185/250\n",
            "691/691 [==============================] - 0s 57us/sample - loss: 0.5287 - acc: 0.7395 - val_loss: 0.6815 - val_acc: 0.6623\n",
            "Epoch 186/250\n",
            "691/691 [==============================] - 0s 53us/sample - loss: 0.5264 - acc: 0.7366 - val_loss: 0.6764 - val_acc: 0.6494\n",
            "Epoch 187/250\n",
            "691/691 [==============================] - 0s 76us/sample - loss: 0.5299 - acc: 0.7467 - val_loss: 0.6981 - val_acc: 0.6364\n",
            "Epoch 188/250\n",
            "691/691 [==============================] - 0s 64us/sample - loss: 0.5367 - acc: 0.7308 - val_loss: 0.6860 - val_acc: 0.7013\n",
            "Epoch 189/250\n",
            "691/691 [==============================] - 0s 62us/sample - loss: 0.5258 - acc: 0.7467 - val_loss: 0.6801 - val_acc: 0.6753\n",
            "Epoch 190/250\n",
            "691/691 [==============================] - 0s 72us/sample - loss: 0.5246 - acc: 0.7438 - val_loss: 0.6789 - val_acc: 0.6364\n",
            "Epoch 191/250\n",
            "691/691 [==============================] - 0s 57us/sample - loss: 0.5220 - acc: 0.7482 - val_loss: 0.6901 - val_acc: 0.7013\n",
            "Epoch 192/250\n",
            "691/691 [==============================] - 0s 63us/sample - loss: 0.5220 - acc: 0.7337 - val_loss: 0.7273 - val_acc: 0.5844\n",
            "Epoch 193/250\n",
            "691/691 [==============================] - 0s 72us/sample - loss: 0.5410 - acc: 0.7308 - val_loss: 0.7030 - val_acc: 0.6364\n",
            "Epoch 194/250\n",
            "691/691 [==============================] - 0s 67us/sample - loss: 0.5223 - acc: 0.7395 - val_loss: 0.6829 - val_acc: 0.6883\n",
            "Epoch 195/250\n",
            "691/691 [==============================] - 0s 72us/sample - loss: 0.5210 - acc: 0.7467 - val_loss: 0.6774 - val_acc: 0.6883\n",
            "Epoch 196/250\n",
            "691/691 [==============================] - 0s 54us/sample - loss: 0.5202 - acc: 0.7467 - val_loss: 0.7015 - val_acc: 0.6883\n",
            "Epoch 197/250\n",
            "691/691 [==============================] - 0s 52us/sample - loss: 0.5219 - acc: 0.7366 - val_loss: 0.7200 - val_acc: 0.6883\n",
            "Epoch 198/250\n",
            "691/691 [==============================] - 0s 71us/sample - loss: 0.5361 - acc: 0.7395 - val_loss: 0.6937 - val_acc: 0.6753\n",
            "Epoch 199/250\n",
            "691/691 [==============================] - 0s 71us/sample - loss: 0.5225 - acc: 0.7453 - val_loss: 0.6595 - val_acc: 0.6753\n",
            "Epoch 200/250\n",
            "691/691 [==============================] - 0s 71us/sample - loss: 0.5198 - acc: 0.7467 - val_loss: 0.7066 - val_acc: 0.7013\n",
            "Epoch 201/250\n",
            "691/691 [==============================] - 0s 71us/sample - loss: 0.5198 - acc: 0.7381 - val_loss: 0.6835 - val_acc: 0.6623\n",
            "Epoch 202/250\n",
            "691/691 [==============================] - 0s 72us/sample - loss: 0.5202 - acc: 0.7438 - val_loss: 0.7000 - val_acc: 0.6364\n",
            "Epoch 203/250\n",
            "691/691 [==============================] - 0s 76us/sample - loss: 0.5203 - acc: 0.7410 - val_loss: 0.7041 - val_acc: 0.6364\n",
            "Epoch 204/250\n",
            "691/691 [==============================] - 0s 119us/sample - loss: 0.5166 - acc: 0.7453 - val_loss: 0.6757 - val_acc: 0.6753\n",
            "Epoch 205/250\n",
            "691/691 [==============================] - 0s 65us/sample - loss: 0.5279 - acc: 0.7337 - val_loss: 0.6774 - val_acc: 0.6753\n",
            "Epoch 206/250\n",
            "691/691 [==============================] - 0s 83us/sample - loss: 0.5286 - acc: 0.7337 - val_loss: 0.6704 - val_acc: 0.6494\n",
            "Epoch 207/250\n",
            "691/691 [==============================] - 0s 67us/sample - loss: 0.5184 - acc: 0.7496 - val_loss: 0.6763 - val_acc: 0.6753\n",
            "Epoch 208/250\n",
            "691/691 [==============================] - 0s 73us/sample - loss: 0.5190 - acc: 0.7467 - val_loss: 0.6865 - val_acc: 0.7013\n",
            "Epoch 209/250\n",
            "691/691 [==============================] - 0s 65us/sample - loss: 0.5226 - acc: 0.7337 - val_loss: 0.6835 - val_acc: 0.6753\n",
            "Epoch 210/250\n",
            "691/691 [==============================] - 0s 66us/sample - loss: 0.5163 - acc: 0.7438 - val_loss: 0.6934 - val_acc: 0.6883\n",
            "Epoch 211/250\n",
            "691/691 [==============================] - 0s 74us/sample - loss: 0.5207 - acc: 0.7366 - val_loss: 0.6998 - val_acc: 0.7013\n",
            "Epoch 212/250\n",
            "691/691 [==============================] - 0s 69us/sample - loss: 0.5216 - acc: 0.7395 - val_loss: 0.6746 - val_acc: 0.6623\n",
            "Epoch 213/250\n",
            "691/691 [==============================] - 0s 67us/sample - loss: 0.5175 - acc: 0.7438 - val_loss: 0.6767 - val_acc: 0.6883\n",
            "Epoch 214/250\n",
            "691/691 [==============================] - 0s 57us/sample - loss: 0.5294 - acc: 0.7381 - val_loss: 0.6848 - val_acc: 0.6883\n",
            "Epoch 215/250\n",
            "691/691 [==============================] - 0s 61us/sample - loss: 0.5178 - acc: 0.7424 - val_loss: 0.6673 - val_acc: 0.6623\n",
            "Epoch 216/250\n",
            "691/691 [==============================] - 0s 63us/sample - loss: 0.5211 - acc: 0.7424 - val_loss: 0.6808 - val_acc: 0.6753\n",
            "Epoch 217/250\n",
            "691/691 [==============================] - 0s 61us/sample - loss: 0.5208 - acc: 0.7482 - val_loss: 0.7027 - val_acc: 0.6494\n",
            "Epoch 218/250\n",
            "691/691 [==============================] - 0s 62us/sample - loss: 0.5297 - acc: 0.7279 - val_loss: 0.6871 - val_acc: 0.7013\n",
            "Epoch 219/250\n",
            "691/691 [==============================] - 0s 60us/sample - loss: 0.5202 - acc: 0.7424 - val_loss: 0.6763 - val_acc: 0.6883\n",
            "Epoch 220/250\n",
            "691/691 [==============================] - 0s 53us/sample - loss: 0.5167 - acc: 0.7496 - val_loss: 0.6758 - val_acc: 0.6494\n",
            "Epoch 221/250\n",
            "691/691 [==============================] - 0s 75us/sample - loss: 0.5325 - acc: 0.7395 - val_loss: 0.6672 - val_acc: 0.6623\n",
            "Epoch 222/250\n",
            "691/691 [==============================] - 0s 82us/sample - loss: 0.5253 - acc: 0.7381 - val_loss: 0.6777 - val_acc: 0.6753\n",
            "Epoch 223/250\n",
            "691/691 [==============================] - 0s 57us/sample - loss: 0.5177 - acc: 0.7540 - val_loss: 0.7016 - val_acc: 0.6883\n",
            "Epoch 224/250\n",
            "691/691 [==============================] - 0s 52us/sample - loss: 0.5254 - acc: 0.7453 - val_loss: 0.7114 - val_acc: 0.7013\n",
            "Epoch 225/250\n",
            "691/691 [==============================] - 0s 63us/sample - loss: 0.5287 - acc: 0.7381 - val_loss: 0.6595 - val_acc: 0.6883\n",
            "Epoch 226/250\n",
            "691/691 [==============================] - 0s 54us/sample - loss: 0.5174 - acc: 0.7453 - val_loss: 0.6796 - val_acc: 0.6883\n",
            "Epoch 227/250\n",
            "691/691 [==============================] - 0s 72us/sample - loss: 0.5198 - acc: 0.7525 - val_loss: 0.6993 - val_acc: 0.7013\n",
            "Epoch 228/250\n",
            "691/691 [==============================] - 0s 69us/sample - loss: 0.5164 - acc: 0.7467 - val_loss: 0.6800 - val_acc: 0.6623\n",
            "Epoch 229/250\n",
            "691/691 [==============================] - 0s 64us/sample - loss: 0.5165 - acc: 0.7410 - val_loss: 0.6698 - val_acc: 0.6494\n",
            "Epoch 230/250\n",
            "691/691 [==============================] - 0s 54us/sample - loss: 0.5239 - acc: 0.7410 - val_loss: 0.6840 - val_acc: 0.6494\n",
            "Epoch 231/250\n",
            "691/691 [==============================] - 0s 67us/sample - loss: 0.5169 - acc: 0.7410 - val_loss: 0.6838 - val_acc: 0.6883\n",
            "Epoch 232/250\n",
            "691/691 [==============================] - 0s 66us/sample - loss: 0.5122 - acc: 0.7467 - val_loss: 0.6635 - val_acc: 0.6753\n",
            "Epoch 233/250\n",
            "691/691 [==============================] - 0s 53us/sample - loss: 0.5141 - acc: 0.7453 - val_loss: 0.6835 - val_acc: 0.7013\n",
            "Epoch 234/250\n",
            "691/691 [==============================] - 0s 58us/sample - loss: 0.5251 - acc: 0.7410 - val_loss: 0.6909 - val_acc: 0.7143\n",
            "Epoch 235/250\n",
            "691/691 [==============================] - 0s 58us/sample - loss: 0.5169 - acc: 0.7395 - val_loss: 0.6663 - val_acc: 0.6753\n",
            "Epoch 236/250\n",
            "691/691 [==============================] - 0s 71us/sample - loss: 0.5151 - acc: 0.7381 - val_loss: 0.6748 - val_acc: 0.6623\n",
            "Epoch 237/250\n",
            "691/691 [==============================] - 0s 66us/sample - loss: 0.5177 - acc: 0.7424 - val_loss: 0.6936 - val_acc: 0.6753\n",
            "Epoch 238/250\n",
            "691/691 [==============================] - 0s 79us/sample - loss: 0.5203 - acc: 0.7366 - val_loss: 0.6584 - val_acc: 0.6753\n",
            "Epoch 239/250\n",
            "691/691 [==============================] - 0s 80us/sample - loss: 0.5216 - acc: 0.7381 - val_loss: 0.6817 - val_acc: 0.6364\n",
            "Epoch 240/250\n",
            "691/691 [==============================] - 0s 73us/sample - loss: 0.5211 - acc: 0.7352 - val_loss: 0.6567 - val_acc: 0.6883\n",
            "Epoch 241/250\n",
            "691/691 [==============================] - 0s 65us/sample - loss: 0.5181 - acc: 0.7496 - val_loss: 0.6838 - val_acc: 0.6494\n",
            "Epoch 242/250\n",
            "691/691 [==============================] - 0s 56us/sample - loss: 0.5180 - acc: 0.7410 - val_loss: 0.6541 - val_acc: 0.6753\n",
            "Epoch 243/250\n",
            "691/691 [==============================] - 0s 58us/sample - loss: 0.5160 - acc: 0.7410 - val_loss: 0.6968 - val_acc: 0.7013\n",
            "Epoch 244/250\n",
            "691/691 [==============================] - 0s 77us/sample - loss: 0.5162 - acc: 0.7453 - val_loss: 0.6767 - val_acc: 0.7013\n",
            "Epoch 245/250\n",
            "691/691 [==============================] - 0s 73us/sample - loss: 0.5128 - acc: 0.7453 - val_loss: 0.6867 - val_acc: 0.6753\n",
            "Epoch 246/250\n",
            "691/691 [==============================] - 0s 77us/sample - loss: 0.5118 - acc: 0.7496 - val_loss: 0.6878 - val_acc: 0.7013\n",
            "Epoch 247/250\n",
            "691/691 [==============================] - 0s 71us/sample - loss: 0.5194 - acc: 0.7395 - val_loss: 0.6877 - val_acc: 0.7013\n",
            "Epoch 248/250\n",
            "691/691 [==============================] - 0s 66us/sample - loss: 0.5175 - acc: 0.7482 - val_loss: 0.6631 - val_acc: 0.6623\n",
            "Epoch 249/250\n",
            "691/691 [==============================] - 0s 54us/sample - loss: 0.5174 - acc: 0.7410 - val_loss: 0.6711 - val_acc: 0.6883\n",
            "Epoch 250/250\n",
            "691/691 [==============================] - 0s 66us/sample - loss: 0.5181 - acc: 0.7424 - val_loss: 0.6644 - val_acc: 0.6364\n"
          ],
          "name": "stdout"
        },
        {
          "output_type": "execute_result",
          "data": {
            "text/plain": [
              "<tensorflow.python.keras.callbacks.History at 0x7f43add8aeb8>"
            ]
          },
          "metadata": {
            "tags": []
          },
          "execution_count": 25
        }
      ]
    },
    {
      "cell_type": "code",
      "metadata": {
        "id": "nnlqQn2BToFI",
        "colab_type": "code",
        "colab": {
          "base_uri": "https://localhost:8080/",
          "height": 54
        },
        "outputId": "4767cbe9-a924-4b59-e637-97adb2ef3f76"
      },
      "source": [
        "model_improved.evaluate(X, y)\n",
        "#print(f\"{model_improved.metrics_names[1]}: {scores[1] * 100}\")"
      ],
      "execution_count": 26,
      "outputs": [
        {
          "output_type": "stream",
          "text": [
            "768/768 [==============================] - 0s 30us/sample - loss: 0.5361 - acc: 0.7357\n"
          ],
          "name": "stdout"
        },
        {
          "output_type": "execute_result",
          "data": {
            "text/plain": [
              "[0.5360588617622852, 0.73567706]"
            ]
          },
          "metadata": {
            "tags": []
          },
          "execution_count": 26
        }
      ]
    },
    {
      "cell_type": "markdown",
      "metadata": {
        "id": "G1eGfU_vToFL",
        "colab_type": "text"
      },
      "source": [
        "## Challenge\n",
        "\n",
        "You will have to choose your own architectures in today's module project. "
      ]
    },
    {
      "cell_type": "markdown",
      "metadata": {
        "colab_type": "text",
        "id": "tcjMuxtn6wIQ",
        "toc-hr-collapsed": false
      },
      "source": [
        "# Activation Functions (Learn)"
      ]
    },
    {
      "cell_type": "markdown",
      "metadata": {
        "colab_type": "text",
        "toc-hr-collapsed": false,
        "id": "LCXO6ShiToFM"
      },
      "source": [
        "## Overview\n",
        "What is an activation function and how does it work?\n",
        "\n",
        "- Takes in a weighted sum of inputs + a bias from the previous layer and outputs an \"activation\" value.\n",
        "- Based on its inputs the neuron decides how 'activated' it should be. This can be thought of as the neuron deciding how strongly to fire. You can also think of it as if the neuron is deciding how much of the signal that it has received to pass onto the next layer. \n",
        "- Our choice of activation function does not only affect signal that is passed forward but also affects the backpropagation algorithm. It affects how we update weights in reverse order since activated weight/input sums become the inputs of the next layer. "
      ]
    },
    {
      "cell_type": "markdown",
      "metadata": {
        "toc-hr-collapsed": true,
        "id": "q8WTJjU1ToFN",
        "colab_type": "text"
      },
      "source": [
        "## Follow Along"
      ]
    },
    {
      "cell_type": "markdown",
      "metadata": {
        "colab_type": "text",
        "id": "n_b0u8Ch60bA"
      },
      "source": [
        "### Step Function\n",
        "\n",
        "![Heaviside Step Function](https://upload.wikimedia.org/wikipedia/commons/thumb/d/d9/Dirac_distribution_CDF.svg/325px-Dirac_distribution_CDF.svg.png)\n",
        "\n",
        "All or nothing, a little extreme, which is fine, but makes updating weights through backpropagation impossible. Why? remember that during backpropagation we use derivatives in order to determine how much to update or not update weights. What is the derivative of the step function?"
      ]
    },
    {
      "cell_type": "markdown",
      "metadata": {
        "colab_type": "text",
        "id": "vKR0YhIVEnXZ"
      },
      "source": [
        "### Linear Function\n",
        "\n",
        "![Linear Function](http://www.roconnell.net/Parent%20function/linear.gif)\n",
        "\n",
        "The linear function takes the opposite tack from the step function and passes the signal onto the next layer by a constant factor. There are problems with this but the biggest problems again lie in backpropagation. The derivative of any linear function is a horizontal line which would indicate that we should update all weights by a constant amount every time - which on balance wouldn't change the behavior of our network. Linear functions are typically only used for very simple tasks where interpretability is important, but if interpretability is your highest priority, you probably shouldn't be using neural networks in the first place."
      ]
    },
    {
      "cell_type": "markdown",
      "metadata": {
        "colab_type": "text",
        "id": "JFurIVL6EkQ8"
      },
      "source": [
        "### Sigmoid Function\n",
        "\n",
        "![Sigmoid Function](https://upload.wikimedia.org/wikipedia/commons/thumb/8/88/Logistic-curve.svg/480px-Logistic-curve.svg.png)\n",
        "\n",
        "The sigmoid function works great as an activation function! it's continuously differentiable, its derivative doesn't have a constant slope, and having the higher slope in the middle pushes y value predictions towards extremes which is particularly useful for binary classification problems. I mean, this is why we use it as the squishifier in logistic regression as well. It constrains output, but over repeated epochs pushes predictions towards a strong binary prediction. \n",
        "\n",
        "What's the biggest problem with the sigmoid function? The fact that its slope gets pretty flat so quickly after its departure from zero. This means that updating weights based on its gradient really diminishes the size of our weight updates as our model gets more confident about its classifications. This is why even after so many iterations with our test score example we couldn't reach the levels of fit that our gradient descent based model could reach in just a few epochs."
      ]
    },
    {
      "cell_type": "markdown",
      "metadata": {
        "colab_type": "text",
        "id": "hm6p1HWbEhYi"
      },
      "source": [
        "### Tanh Function\n",
        "\n",
        "![Tanh Function](http://mathworld.wolfram.com/images/interactive/TanhReal.gif)\n",
        "\n",
        "What if the sigmoid function didn't get so flat quite as soon when moving away from zero and was a little bit steeper in the middle? That's basically the Tanh function. The Tanh function can actually be created by scaling the sigmoid function by 2 in the y dimension and subtracting 1 from all values. It has basically the same properties as the sigmoid, still struggles from diminishingly flat gradients as we move away from 0, but its derivative is higher around 0 causing weights to move to the extremes a little faster. "
      ]
    },
    {
      "cell_type": "markdown",
      "metadata": {
        "colab_type": "text",
        "id": "sFOn_L6gEcz1"
      },
      "source": [
        "### ReLU Function\n",
        "\n",
        "![ReLU Function](https://cdn-images-1.medium.com/max/937/1*oePAhrm74RNnNEolprmTaQ.png)\n",
        "\n",
        "ReLU stands for Rectified Linear Units it is by far the most commonly used activation function in modern neural networks. It doesn't activate neurons that are being passed a negative signal and passes on positive signals. Think about why this might be useful. Remember how a lot of our initial weights got set to negative numbers by chance? This would have dealt with those negative weights a lot faster than the sigmoid function updating. What does the derivative of this function look like? It looks like the step function! This means that not all neurons are activated. With sigmoid basically all of our neurons are passing some amount of signal even if it's small making it hard for the network to differentiate important and less important connections. ReLU turns off a portion of our less important neurons which decreases computational load, but also helps the network learn what the most important connections are faster. \n",
        "\n",
        "What's the problem with relu? Well the left half of its derivative function shows that for neurons that are initialized with weights that cause them to have no activation, our gradient will not update those neuron's weights, this can lead to dead neurons that never fire and whose weights never get updated. We would probably want to update the weights of neurons that didn't fire even if it's just by a little bit in case we got unlucky with our initial weights and want to give those neurons a chance of turning back on in the future."
      ]
    },
    {
      "cell_type": "markdown",
      "metadata": {
        "colab_type": "text",
        "id": "XWdvWOBIETwk"
      },
      "source": [
        "### Leaky ReLU\n",
        "\n",
        "![Leaky ReLU](https://cdn-images-1.medium.com/max/1600/1*ypsvQH7kvtI2BhzR2eT_Sw.png)\n",
        "\n",
        "Leaky ReLU accomplishes exactly that! it avoids having a gradient of 0 on the left side of its derivative function. This means that even \"dead\" neurons have a chance of being revived over enough iterations. In some specifications the slope of the leaky left-hand side can also be experimented with as a hyperparameter of the model!"
      ]
    },
    {
      "cell_type": "markdown",
      "metadata": {
        "colab_type": "text",
        "id": "FcAxkNFREMFb"
      },
      "source": [
        "### Softmax Function\n",
        "\n",
        "![Softmax Function](https://cdn-images-1.medium.com/max/800/1*670CdxchunD-yAuUWdI7Bw.png)\n",
        "\n",
        "Like the sigmoid function but more useful for multi-class classification problems. The softmax function can take any set of inputs and translate them into probabilities that sum up to 1. This means that we can throw any list of outputs at it and it will translate them into probabilities, this is extremely useful for multi-class classification problems. Like MNIST for example..."
      ]
    },
    {
      "cell_type": "markdown",
      "metadata": {
        "colab_type": "text",
        "id": "23-XRRXKHs34"
      },
      "source": [
        "### Major takeaways\n",
        "\n",
        "- ReLU is generally better at obtaining the optimal model fit.\n",
        "- Sigmoid and its derivatives are usually better at classification problems.\n",
        "- Softmax for multi-class classification problems. \n",
        "\n",
        "You'll typically see ReLU used for all initial layers and then the final layer being sigmoid or softmax for classification problems. But you can experiment and tune these selections as hyperparameters as well!"
      ]
    },
    {
      "cell_type": "markdown",
      "metadata": {
        "colab_type": "text",
        "id": "TWuoXZCCKCI7"
      },
      "source": [
        "### MNIST with Keras \n",
        "\n",
        "#### This will be a good chance to bring up dropout regularization. :)"
      ]
    },
    {
      "cell_type": "code",
      "metadata": {
        "colab_type": "code",
        "id": "jmJ_5azs04pU",
        "colab": {}
      },
      "source": [
        "### Let's do it!\n",
        "\n",
        "from tensorflow import keras\n",
        "from tensorflow.keras.datasets import mnist\n",
        "from tensorflow.keras.models import Sequential\n",
        "from tensorflow.keras.layers import Dense, Dropout\n",
        "\n",
        "# Stretch - use dropout \n",
        "import numpy as np"
      ],
      "execution_count": 0,
      "outputs": []
    },
    {
      "cell_type": "code",
      "metadata": {
        "id": "BcIAg80PToFX",
        "colab_type": "code",
        "colab": {}
      },
      "source": [
        "# Hyper Parameters\n",
        "batch_size = 64\n",
        "num_classes = 10\n",
        "epochs = 20"
      ],
      "execution_count": 0,
      "outputs": []
    },
    {
      "cell_type": "code",
      "metadata": {
        "id": "h6xqA5QpToFa",
        "colab_type": "code",
        "colab": {
          "base_uri": "https://localhost:8080/",
          "height": 54
        },
        "outputId": "2cf41f03-b7e7-4b5e-ad8f-7f2905eed57f"
      },
      "source": [
        "# Load the Data\n",
        "(X_train, y_train), (X_test, y_test) = mnist.load_data()"
      ],
      "execution_count": 29,
      "outputs": [
        {
          "output_type": "stream",
          "text": [
            "Downloading data from https://storage.googleapis.com/tensorflow/tf-keras-datasets/mnist.npz\n",
            "11493376/11490434 [==============================] - 0s 0us/step\n"
          ],
          "name": "stdout"
        }
      ]
    },
    {
      "cell_type": "code",
      "metadata": {
        "id": "2syjmlYdToFc",
        "colab_type": "code",
        "colab": {
          "base_uri": "https://localhost:8080/",
          "height": 35
        },
        "outputId": "60079d4c-45e5-4842-f603-b5e7d7db2833"
      },
      "source": [
        "X_train[0].shape"
      ],
      "execution_count": 30,
      "outputs": [
        {
          "output_type": "execute_result",
          "data": {
            "text/plain": [
              "(28, 28)"
            ]
          },
          "metadata": {
            "tags": []
          },
          "execution_count": 30
        }
      ]
    },
    {
      "cell_type": "code",
      "metadata": {
        "id": "216zKuGNToFe",
        "colab_type": "code",
        "colab": {
          "base_uri": "https://localhost:8080/",
          "height": 35
        },
        "outputId": "50858aef-430c-409d-8af6-70bc24c6400b"
      },
      "source": [
        "X_train.shape"
      ],
      "execution_count": 31,
      "outputs": [
        {
          "output_type": "execute_result",
          "data": {
            "text/plain": [
              "(60000, 28, 28)"
            ]
          },
          "metadata": {
            "tags": []
          },
          "execution_count": 31
        }
      ]
    },
    {
      "cell_type": "code",
      "metadata": {
        "id": "0PS--EiGToFo",
        "colab_type": "code",
        "colab": {
          "base_uri": "https://localhost:8080/",
          "height": 1000
        },
        "outputId": "41b894e4-7aca-4518-ce74-a55bb47223ad"
      },
      "source": [
        "X_train[0]"
      ],
      "execution_count": 32,
      "outputs": [
        {
          "output_type": "execute_result",
          "data": {
            "text/plain": [
              "array([[  0,   0,   0,   0,   0,   0,   0,   0,   0,   0,   0,   0,   0,\n",
              "          0,   0,   0,   0,   0,   0,   0,   0,   0,   0,   0,   0,   0,\n",
              "          0,   0],\n",
              "       [  0,   0,   0,   0,   0,   0,   0,   0,   0,   0,   0,   0,   0,\n",
              "          0,   0,   0,   0,   0,   0,   0,   0,   0,   0,   0,   0,   0,\n",
              "          0,   0],\n",
              "       [  0,   0,   0,   0,   0,   0,   0,   0,   0,   0,   0,   0,   0,\n",
              "          0,   0,   0,   0,   0,   0,   0,   0,   0,   0,   0,   0,   0,\n",
              "          0,   0],\n",
              "       [  0,   0,   0,   0,   0,   0,   0,   0,   0,   0,   0,   0,   0,\n",
              "          0,   0,   0,   0,   0,   0,   0,   0,   0,   0,   0,   0,   0,\n",
              "          0,   0],\n",
              "       [  0,   0,   0,   0,   0,   0,   0,   0,   0,   0,   0,   0,   0,\n",
              "          0,   0,   0,   0,   0,   0,   0,   0,   0,   0,   0,   0,   0,\n",
              "          0,   0],\n",
              "       [  0,   0,   0,   0,   0,   0,   0,   0,   0,   0,   0,   0,   3,\n",
              "         18,  18,  18, 126, 136, 175,  26, 166, 255, 247, 127,   0,   0,\n",
              "          0,   0],\n",
              "       [  0,   0,   0,   0,   0,   0,   0,   0,  30,  36,  94, 154, 170,\n",
              "        253, 253, 253, 253, 253, 225, 172, 253, 242, 195,  64,   0,   0,\n",
              "          0,   0],\n",
              "       [  0,   0,   0,   0,   0,   0,   0,  49, 238, 253, 253, 253, 253,\n",
              "        253, 253, 253, 253, 251,  93,  82,  82,  56,  39,   0,   0,   0,\n",
              "          0,   0],\n",
              "       [  0,   0,   0,   0,   0,   0,   0,  18, 219, 253, 253, 253, 253,\n",
              "        253, 198, 182, 247, 241,   0,   0,   0,   0,   0,   0,   0,   0,\n",
              "          0,   0],\n",
              "       [  0,   0,   0,   0,   0,   0,   0,   0,  80, 156, 107, 253, 253,\n",
              "        205,  11,   0,  43, 154,   0,   0,   0,   0,   0,   0,   0,   0,\n",
              "          0,   0],\n",
              "       [  0,   0,   0,   0,   0,   0,   0,   0,   0,  14,   1, 154, 253,\n",
              "         90,   0,   0,   0,   0,   0,   0,   0,   0,   0,   0,   0,   0,\n",
              "          0,   0],\n",
              "       [  0,   0,   0,   0,   0,   0,   0,   0,   0,   0,   0, 139, 253,\n",
              "        190,   2,   0,   0,   0,   0,   0,   0,   0,   0,   0,   0,   0,\n",
              "          0,   0],\n",
              "       [  0,   0,   0,   0,   0,   0,   0,   0,   0,   0,   0,  11, 190,\n",
              "        253,  70,   0,   0,   0,   0,   0,   0,   0,   0,   0,   0,   0,\n",
              "          0,   0],\n",
              "       [  0,   0,   0,   0,   0,   0,   0,   0,   0,   0,   0,   0,  35,\n",
              "        241, 225, 160, 108,   1,   0,   0,   0,   0,   0,   0,   0,   0,\n",
              "          0,   0],\n",
              "       [  0,   0,   0,   0,   0,   0,   0,   0,   0,   0,   0,   0,   0,\n",
              "         81, 240, 253, 253, 119,  25,   0,   0,   0,   0,   0,   0,   0,\n",
              "          0,   0],\n",
              "       [  0,   0,   0,   0,   0,   0,   0,   0,   0,   0,   0,   0,   0,\n",
              "          0,  45, 186, 253, 253, 150,  27,   0,   0,   0,   0,   0,   0,\n",
              "          0,   0],\n",
              "       [  0,   0,   0,   0,   0,   0,   0,   0,   0,   0,   0,   0,   0,\n",
              "          0,   0,  16,  93, 252, 253, 187,   0,   0,   0,   0,   0,   0,\n",
              "          0,   0],\n",
              "       [  0,   0,   0,   0,   0,   0,   0,   0,   0,   0,   0,   0,   0,\n",
              "          0,   0,   0,   0, 249, 253, 249,  64,   0,   0,   0,   0,   0,\n",
              "          0,   0],\n",
              "       [  0,   0,   0,   0,   0,   0,   0,   0,   0,   0,   0,   0,   0,\n",
              "          0,  46, 130, 183, 253, 253, 207,   2,   0,   0,   0,   0,   0,\n",
              "          0,   0],\n",
              "       [  0,   0,   0,   0,   0,   0,   0,   0,   0,   0,   0,   0,  39,\n",
              "        148, 229, 253, 253, 253, 250, 182,   0,   0,   0,   0,   0,   0,\n",
              "          0,   0],\n",
              "       [  0,   0,   0,   0,   0,   0,   0,   0,   0,   0,  24, 114, 221,\n",
              "        253, 253, 253, 253, 201,  78,   0,   0,   0,   0,   0,   0,   0,\n",
              "          0,   0],\n",
              "       [  0,   0,   0,   0,   0,   0,   0,   0,  23,  66, 213, 253, 253,\n",
              "        253, 253, 198,  81,   2,   0,   0,   0,   0,   0,   0,   0,   0,\n",
              "          0,   0],\n",
              "       [  0,   0,   0,   0,   0,   0,  18, 171, 219, 253, 253, 253, 253,\n",
              "        195,  80,   9,   0,   0,   0,   0,   0,   0,   0,   0,   0,   0,\n",
              "          0,   0],\n",
              "       [  0,   0,   0,   0,  55, 172, 226, 253, 253, 253, 253, 244, 133,\n",
              "         11,   0,   0,   0,   0,   0,   0,   0,   0,   0,   0,   0,   0,\n",
              "          0,   0],\n",
              "       [  0,   0,   0,   0, 136, 253, 253, 253, 212, 135, 132,  16,   0,\n",
              "          0,   0,   0,   0,   0,   0,   0,   0,   0,   0,   0,   0,   0,\n",
              "          0,   0],\n",
              "       [  0,   0,   0,   0,   0,   0,   0,   0,   0,   0,   0,   0,   0,\n",
              "          0,   0,   0,   0,   0,   0,   0,   0,   0,   0,   0,   0,   0,\n",
              "          0,   0],\n",
              "       [  0,   0,   0,   0,   0,   0,   0,   0,   0,   0,   0,   0,   0,\n",
              "          0,   0,   0,   0,   0,   0,   0,   0,   0,   0,   0,   0,   0,\n",
              "          0,   0],\n",
              "       [  0,   0,   0,   0,   0,   0,   0,   0,   0,   0,   0,   0,   0,\n",
              "          0,   0,   0,   0,   0,   0,   0,   0,   0,   0,   0,   0,   0,\n",
              "          0,   0]], dtype=uint8)"
            ]
          },
          "metadata": {
            "tags": []
          },
          "execution_count": 32
        }
      ]
    },
    {
      "cell_type": "code",
      "metadata": {
        "id": "wYhYS6M0ToFp",
        "colab_type": "code",
        "colab": {}
      },
      "source": [
        "# Reshape the data\n",
        "X_train = X_train.reshape(60000, 784)\n",
        "X_test = X_test.reshape(10000, 784)"
      ],
      "execution_count": 0,
      "outputs": []
    },
    {
      "cell_type": "code",
      "metadata": {
        "id": "Fxgb0VyQToFs",
        "colab_type": "code",
        "colab": {}
      },
      "source": [
        "# X Variable Types\n",
        "X_train = X_train.astype('float32')\n",
        "X_test = X_test.astype('float32')"
      ],
      "execution_count": 0,
      "outputs": []
    },
    {
      "cell_type": "code",
      "metadata": {
        "id": "9Mwxlj70ToFv",
        "colab_type": "code",
        "colab": {
          "base_uri": "https://localhost:8080/",
          "height": 35
        },
        "outputId": "22e27976-3e42-47e3-d1eb-e22672e49726"
      },
      "source": [
        "y_train[2] "
      ],
      "execution_count": 35,
      "outputs": [
        {
          "output_type": "execute_result",
          "data": {
            "text/plain": [
              "4"
            ]
          },
          "metadata": {
            "tags": []
          },
          "execution_count": 35
        }
      ]
    },
    {
      "cell_type": "code",
      "metadata": {
        "id": "L1Lcf_HkToFy",
        "colab_type": "code",
        "colab": {
          "base_uri": "https://localhost:8080/",
          "height": 35
        },
        "outputId": "b9f79d3f-3bf9-42d8-9f29-dd8a673bb89b"
      },
      "source": [
        "y_train[2]"
      ],
      "execution_count": 36,
      "outputs": [
        {
          "output_type": "execute_result",
          "data": {
            "text/plain": [
              "4"
            ]
          },
          "metadata": {
            "tags": []
          },
          "execution_count": 36
        }
      ]
    },
    {
      "cell_type": "code",
      "metadata": {
        "id": "5b9_2yriToF1",
        "colab_type": "code",
        "colab": {}
      },
      "source": [
        "# Correct Encoding on Y\n",
        "# What softmax expects = [0,0,0,0,0,1,0,0,0,0]\n",
        "\n",
        "y_train = keras.utils.to_categorical(y_train, num_classes)\n",
        "y_test = keras.utils.to_categorical(y_test, num_classes)"
      ],
      "execution_count": 0,
      "outputs": []
    },
    {
      "cell_type": "code",
      "metadata": {
        "id": "qTpNqcUHToF3",
        "colab_type": "code",
        "colab": {
          "base_uri": "https://localhost:8080/",
          "height": 35
        },
        "outputId": "6c2cf11d-6ea2-4103-e360-e76a81d172cb"
      },
      "source": [
        "y_train[2]"
      ],
      "execution_count": 38,
      "outputs": [
        {
          "output_type": "execute_result",
          "data": {
            "text/plain": [
              "array([0., 0., 0., 0., 1., 0., 0., 0., 0., 0.], dtype=float32)"
            ]
          },
          "metadata": {
            "tags": []
          },
          "execution_count": 38
        }
      ]
    },
    {
      "cell_type": "code",
      "metadata": {
        "id": "FPcwri_KToF5",
        "colab_type": "code",
        "colab": {
          "base_uri": "https://localhost:8080/",
          "height": 348
        },
        "outputId": "384613e3-6965-4e58-de23-b729bf57fc1c"
      },
      "source": [
        "mnist_model = Sequential()\n",
        "\n",
        "# Input => Hidden\n",
        "mnist_model.add(Dense(16, input_dim=784, activation='relu'))\n",
        "# Hidden\n",
        "mnist_model.add(Dense(16, activation='relu'))\n",
        "# Hidden\n",
        "mnist_model.add(Dense(16, activation='relu'))\n",
        "# Hidden\n",
        "mnist_model.add(Dense(16, activation='relu'))\n",
        "# Output\n",
        "mnist_model.add(Dense(10,activation='softmax'))\n",
        "\n",
        "#Compile\n",
        "mnist_model.compile(loss='categorical_crossentropy',\n",
        "                    optimizer='adam',\n",
        "                    metrics=['accuracy'])\n",
        "\n",
        "mnist_model.summary()"
      ],
      "execution_count": 39,
      "outputs": [
        {
          "output_type": "stream",
          "text": [
            "Model: \"sequential_2\"\n",
            "_________________________________________________________________\n",
            "Layer (type)                 Output Shape              Param #   \n",
            "=================================================================\n",
            "dense_10 (Dense)             (None, 16)                12560     \n",
            "_________________________________________________________________\n",
            "dense_11 (Dense)             (None, 16)                272       \n",
            "_________________________________________________________________\n",
            "dense_12 (Dense)             (None, 16)                272       \n",
            "_________________________________________________________________\n",
            "dense_13 (Dense)             (None, 16)                272       \n",
            "_________________________________________________________________\n",
            "dense_14 (Dense)             (None, 10)                170       \n",
            "=================================================================\n",
            "Total params: 13,546\n",
            "Trainable params: 13,546\n",
            "Non-trainable params: 0\n",
            "_________________________________________________________________\n"
          ],
          "name": "stdout"
        }
      ]
    },
    {
      "cell_type": "code",
      "metadata": {
        "id": "zw6hii7GToF7",
        "colab_type": "code",
        "colab": {}
      },
      "source": [
        "def neural_network(X):\n",
        "    \n",
        "    dense1 = Dense(8, activation='relu', input=X)\n",
        "    dense2 = Dense(8, activation='relu')(X)\n",
        "    \n",
        "    \n",
        "    return dense2 #or return model"
      ],
      "execution_count": 0,
      "outputs": []
    },
    {
      "cell_type": "code",
      "metadata": {
        "id": "_WUQTxrcToF9",
        "colab_type": "code",
        "colab": {
          "base_uri": "https://localhost:8080/",
          "height": 35
        },
        "outputId": "6b7201a4-6be9-4d0c-b69b-5f319fb122f5"
      },
      "source": [
        "16 *  784"
      ],
      "execution_count": 41,
      "outputs": [
        {
          "output_type": "execute_result",
          "data": {
            "text/plain": [
              "12544"
            ]
          },
          "metadata": {
            "tags": []
          },
          "execution_count": 41
        }
      ]
    },
    {
      "cell_type": "code",
      "metadata": {
        "id": "a2eV7g_rToF-",
        "colab_type": "code",
        "colab": {
          "base_uri": "https://localhost:8080/",
          "height": 35
        },
        "outputId": "34fdcab6-f63b-42c3-c9e8-03aac035d900"
      },
      "source": [
        "y_test.shape"
      ],
      "execution_count": 42,
      "outputs": [
        {
          "output_type": "execute_result",
          "data": {
            "text/plain": [
              "(10000, 10)"
            ]
          },
          "metadata": {
            "tags": []
          },
          "execution_count": 42
        }
      ]
    },
    {
      "cell_type": "code",
      "metadata": {
        "id": "LvlPC9hDToGA",
        "colab_type": "code",
        "colab": {}
      },
      "source": [
        "history = mnist_model.fit(X_train, y_train, batch_size=32, epochs=100, verbose=False)\n",
        "scores = mnist_model.evaluate(X_test, y_test)\n",
        "#print(f'{mnist_model.metrics_names[1]}: {scores[1]*100}')"
      ],
      "execution_count": 0,
      "outputs": []
    },
    {
      "cell_type": "markdown",
      "metadata": {
        "colab_type": "text",
        "id": "CKmx8153w9Ci"
      },
      "source": [
        "### Dropout Regularization\n",
        "\n",
        "![Regularization](https://upload.wikimedia.org/wikipedia/commons/thumb/0/02/Regularization.svg/354px-Regularization.svg.png)"
      ]
    },
    {
      "cell_type": "code",
      "metadata": {
        "id": "vZf_fdNAToGC",
        "colab_type": "code",
        "colab": {}
      },
      "source": [
        "### Let's do it!\n",
        "from tensorflow import keras \n",
        "from tensorflow.keras.datasets import mnist\n",
        "from tensorflow.keras.models import Sequential\n",
        "from tensorflow.keras.layers import Dense, Dropout\n",
        "\n",
        "import numpy as np\n",
        "\n",
        "mnist_model = Sequential()\n",
        "\n",
        "# Hidden\n",
        "mnist_model.add(Dense(32, input_dim=784, activation='relu'))\n",
        "mnist_model.add(Dropout(0.2))\n",
        "mnist_model.add(Dense(16, activation='relu'))\n",
        "mnist_model.add(Dropout(0.2))\n",
        "# Output Layer\n",
        "mnist_model.add(Dense(10, activation='softmax'))\n",
        "\n",
        "mnist_model.compile(loss='categorical_crossentropy',\n",
        "                    optimizer='adam', \n",
        "                    metrics=['accuracy'])\n",
        "mnist_model.summary()"
      ],
      "execution_count": 0,
      "outputs": []
    },
    {
      "cell_type": "code",
      "metadata": {
        "id": "367EuzbjToGF",
        "colab_type": "code",
        "colab": {}
      },
      "source": [
        "history = mnist_model.fit(X_train, y_train, batch_size=32, epochs=epochs, validation_split=.1, verbose=0)\n",
        "scores = mnist_model.evaluate(X_test, y_test)\n",
        "print(f'{mnist_model.metrics_names[1]}: {scores[1]*100}')"
      ],
      "execution_count": 0,
      "outputs": []
    },
    {
      "cell_type": "markdown",
      "metadata": {
        "id": "Pr13NYUzToGH",
        "colab_type": "text"
      },
      "source": [
        "## Challenge\n",
        "\n",
        "You will apply your choice of activation function inside two Keras Seqeuntial models today. "
      ]
    }
  ]
}