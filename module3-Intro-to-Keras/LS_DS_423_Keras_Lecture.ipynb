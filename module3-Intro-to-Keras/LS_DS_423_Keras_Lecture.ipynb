{
 "cells": [
  {
   "cell_type": "markdown",
   "metadata": {
    "colab_type": "text",
    "id": "HJzTIkYAsLxw"
   },
   "source": [
    "Lambda School Data Science\n",
    "\n",
    "*Unit 4, Sprint 2, Module 3*\n",
    "\n",
    "---"
   ]
  },
  {
   "cell_type": "markdown",
   "metadata": {
    "colab_type": "text",
    "id": "HJzTIkYAsLxw"
   },
   "source": [
    "# Neural Network Frameworks (Prepare)"
   ]
  },
  {
   "cell_type": "markdown",
   "metadata": {
    "colab_type": "text",
    "id": "HJzTIkYAsLxw"
   },
   "source": [
    "## Learning Objectives\n",
    "* <a href=\"#p1\">Part 1</a>: Introduce the Keras Sequential Model API\n",
    "* <a href=\"#p2\">Part 2</a>: Learn How to Select Model Architecture \n",
    "* <a href=\"#p3\">Part 3</a>: Discuss the trade-off between various activation functions\n",
    "\n",
    "## Lets Use Libraries!\n",
    "\n",
    "The objective of the last two days has been to familiarize you with the fundamentals of neural networks: terminology, structure of networks, forward propagation, error/cost functions, backpropagation, epochs, and gradient descent. We have tried to reinforce these topics by requiring to you code some of the simplest neural networks by hand including Perceptrons (single node neural networks) and Multi-Layer Perceptrons also known as Feed-Forward Neural Networks. Continuing to do things by hand would not be the best use of our limited time. You're ready to graduate from doing things by hand and start using some powerful libraries to build cutting-edge predictive models. "
   ]
  },
  {
   "cell_type": "markdown",
   "metadata": {},
   "source": [
    "# Keras Sequential API (Learn)"
   ]
  },
  {
   "cell_type": "markdown",
   "metadata": {
    "toc-hr-collapsed": true
   },
   "source": [
    "## Overview\n",
    "\n",
    "> \"Keras is a high-level neural networks API, written in Python and capable of running on top of TensorFlow, CNTK, or Theano. It was developed with a focus on enabling fast experimentation. Being able to go from idea to result with the least possible delay is key to doing good research. Use Keras if you need a deep learning library that:\n",
    "\n",
    "> Allows for easy and fast prototyping (through user friendliness, modularity, and extensibility).\n",
    "Supports both convolutional networks and recurrent networks, as well as combinations of the two.\n",
    "Runs seamlessly on CPU and GPU.\" "
   ]
  },
  {
   "cell_type": "markdown",
   "metadata": {
    "colab_type": "text",
    "id": "AIJoRBxHy27n"
   },
   "source": [
    "### Keras Perceptron Sample"
   ]
  },
  {
   "cell_type": "code",
   "execution_count": 1,
   "metadata": {},
   "outputs": [],
   "source": [
    "import pandas as pd\n",
    "\n",
    "data = { 'x1': [0,1,0,1],\n",
    "         'x2': [0,0,1,1],\n",
    "         'y':  [1,1,1,0]\n",
    "       }\n",
    "\n",
    "df = pd.DataFrame.from_dict(data).astype('int')\n",
    "X = df[['x1', 'x2']].values\n",
    "y = df['y'].values"
   ]
  },
  {
   "cell_type": "code",
   "execution_count": 2,
   "metadata": {
    "colab": {
     "base_uri": "https://localhost:8080/",
     "height": 5216
    },
    "colab_type": "code",
    "id": "TQxyONqKvFxB",
    "outputId": "12966e66-2297-4f82-85b3-c275a9c38563"
   },
   "outputs": [
    {
     "name": "stdout",
     "output_type": "stream",
     "text": [
      "Train on 4 samples\n",
      "Epoch 1/5\n",
      "4/4 [==============================] - 0s 59ms/sample - loss: 0.7455 - accuracy: 0.2500\n",
      "Epoch 2/5\n",
      "4/4 [==============================] - 0s 743us/sample - loss: 0.7452 - accuracy: 0.5000\n",
      "Epoch 3/5\n",
      "4/4 [==============================] - 0s 754us/sample - loss: 0.7449 - accuracy: 0.5000\n",
      "Epoch 4/5\n",
      "4/4 [==============================] - 0s 496us/sample - loss: 0.7445 - accuracy: 0.5000\n",
      "Epoch 5/5\n",
      "4/4 [==============================] - 0s 249us/sample - loss: 0.7442 - accuracy: 0.5000\n"
     ]
    },
    {
     "data": {
      "text/plain": [
       "<tensorflow.python.keras.callbacks.History at 0x1dfa53c0f08>"
      ]
     },
     "execution_count": 2,
     "metadata": {},
     "output_type": "execute_result"
    }
   ],
   "source": [
    "from tensorflow.keras.models import Sequential\n",
    "from tensorflow.keras.layers import Dense\n",
    "\n",
    "# This is our perceptron from Monday's by-hand: \n",
    "model = Sequential()\n",
    "model.add(Dense(1,input_dim=2, activation='sigmoid'))\n",
    "model.compile(loss='binary_crossentropy', optimizer='adam', metrics=['accuracy'])\n",
    "model.fit(X,y, epochs=5)"
   ]
  },
  {
   "cell_type": "code",
   "execution_count": 3,
   "metadata": {
    "colab": {
     "base_uri": "https://localhost:8080/",
     "height": 69
    },
    "colab_type": "code",
    "id": "Z1wfKUxszPKa",
    "outputId": "0cdacd1d-6e5a-4bbe-fabb-568cd94724be"
   },
   "outputs": [
    {
     "name": "stdout",
     "output_type": "stream",
     "text": [
      "4/4 [==============================] - 0s 14ms/sample - loss: 0.7439 - accuracy: 0.5000\n",
      "accuracy: 50.0\n"
     ]
    }
   ],
   "source": [
    "# evaluate the model\n",
    "scores = model.evaluate(X, y)\n",
    "print(f\"{model.metrics_names[1]}: {scores[1]*100}\")"
   ]
  },
  {
   "cell_type": "markdown",
   "metadata": {
    "toc-hr-collapsed": true
   },
   "source": [
    "## Follow Along\n",
    "\n",
    "In the `Sequential` api model, you specify a model architecture by 'sequentially specifying layers. This type of specification works well for feed forward neural networks in which the data flows in one direction (forward propagation) and the error flows in the opposite direction (backwards propagation). The Keras `Sequential` API follows a standardarized worklow to estimate a 'net: \n",
    "\n",
    "1. Load Data\n",
    "2. Define Model\n",
    "3. Compile Model\n",
    "4. Fit Model\n",
    "5. Evaluate Model\n",
    "\n",
    "You saw these steps in our Keras Perceptron Sample, but let's walk thru each step in detail."
   ]
  },
  {
   "cell_type": "markdown",
   "metadata": {
    "colab_type": "text",
    "id": "Md5D67XwqVAf",
    "toc-hr-collapsed": false
   },
   "source": [
    "### Load Data\n",
    "\n",
    "Our life is going to be easier if our data is already cleaned up and numeric, so lets use this dataset from Jason Brownlee that is already numeric and has no column headers so we'll need to slice off the last column of data to act as our y values."
   ]
  },
  {
   "cell_type": "code",
   "execution_count": 4,
   "metadata": {
    "colab": {
     "base_uri": "https://localhost:8080/",
     "height": 109,
     "resources": {
      "http://localhost:8080/nbextensions/google.colab/files.js": {
       "data": "Ly8gQ29weXJpZ2h0IDIwMTcgR29vZ2xlIExMQwovLwovLyBMaWNlbnNlZCB1bmRlciB0aGUgQXBhY2hlIExpY2Vuc2UsIFZlcnNpb24gMi4wICh0aGUgIkxpY2Vuc2UiKTsKLy8geW91IG1heSBub3QgdXNlIHRoaXMgZmlsZSBleGNlcHQgaW4gY29tcGxpYW5jZSB3aXRoIHRoZSBMaWNlbnNlLgovLyBZb3UgbWF5IG9idGFpbiBhIGNvcHkgb2YgdGhlIExpY2Vuc2UgYXQKLy8KLy8gICAgICBodHRwOi8vd3d3LmFwYWNoZS5vcmcvbGljZW5zZXMvTElDRU5TRS0yLjAKLy8KLy8gVW5sZXNzIHJlcXVpcmVkIGJ5IGFwcGxpY2FibGUgbGF3IG9yIGFncmVlZCB0byBpbiB3cml0aW5nLCBzb2Z0d2FyZQovLyBkaXN0cmlidXRlZCB1bmRlciB0aGUgTGljZW5zZSBpcyBkaXN0cmlidXRlZCBvbiBhbiAiQVMgSVMiIEJBU0lTLAovLyBXSVRIT1VUIFdBUlJBTlRJRVMgT1IgQ09ORElUSU9OUyBPRiBBTlkgS0lORCwgZWl0aGVyIGV4cHJlc3Mgb3IgaW1wbGllZC4KLy8gU2VlIHRoZSBMaWNlbnNlIGZvciB0aGUgc3BlY2lmaWMgbGFuZ3VhZ2UgZ292ZXJuaW5nIHBlcm1pc3Npb25zIGFuZAovLyBsaW1pdGF0aW9ucyB1bmRlciB0aGUgTGljZW5zZS4KCi8qKgogKiBAZmlsZW92ZXJ2aWV3IEhlbHBlcnMgZm9yIGdvb2dsZS5jb2xhYiBQeXRob24gbW9kdWxlLgogKi8KKGZ1bmN0aW9uKHNjb3BlKSB7CmZ1bmN0aW9uIHNwYW4odGV4dCwgc3R5bGVBdHRyaWJ1dGVzID0ge30pIHsKICBjb25zdCBlbGVtZW50ID0gZG9jdW1lbnQuY3JlYXRlRWxlbWVudCgnc3BhbicpOwogIGVsZW1lbnQudGV4dENvbnRlbnQgPSB0ZXh0OwogIGZvciAoY29uc3Qga2V5IG9mIE9iamVjdC5rZXlzKHN0eWxlQXR0cmlidXRlcykpIHsKICAgIGVsZW1lbnQuc3R5bGVba2V5XSA9IHN0eWxlQXR0cmlidXRlc1trZXldOwogIH0KICByZXR1cm4gZWxlbWVudDsKfQoKLy8gTWF4IG51bWJlciBvZiBieXRlcyB3aGljaCB3aWxsIGJlIHVwbG9hZGVkIGF0IGEgdGltZS4KY29uc3QgTUFYX1BBWUxPQURfU0laRSA9IDEwMCAqIDEwMjQ7Ci8vIE1heCBhbW91bnQgb2YgdGltZSB0byBibG9jayB3YWl0aW5nIGZvciB0aGUgdXNlci4KY29uc3QgRklMRV9DSEFOR0VfVElNRU9VVF9NUyA9IDMwICogMTAwMDsKCmZ1bmN0aW9uIF91cGxvYWRGaWxlcyhpbnB1dElkLCBvdXRwdXRJZCkgewogIGNvbnN0IHN0ZXBzID0gdXBsb2FkRmlsZXNTdGVwKGlucHV0SWQsIG91dHB1dElkKTsKICBjb25zdCBvdXRwdXRFbGVtZW50ID0gZG9jdW1lbnQuZ2V0RWxlbWVudEJ5SWQob3V0cHV0SWQpOwogIC8vIENhY2hlIHN0ZXBzIG9uIHRoZSBvdXRwdXRFbGVtZW50IHRvIG1ha2UgaXQgYXZhaWxhYmxlIGZvciB0aGUgbmV4dCBjYWxsCiAgLy8gdG8gdXBsb2FkRmlsZXNDb250aW51ZSBmcm9tIFB5dGhvbi4KICBvdXRwdXRFbGVtZW50LnN0ZXBzID0gc3RlcHM7CgogIHJldHVybiBfdXBsb2FkRmlsZXNDb250aW51ZShvdXRwdXRJZCk7Cn0KCi8vIFRoaXMgaXMgcm91Z2hseSBhbiBhc3luYyBnZW5lcmF0b3IgKG5vdCBzdXBwb3J0ZWQgaW4gdGhlIGJyb3dzZXIgeWV0KSwKLy8gd2hlcmUgdGhlcmUgYXJlIG11bHRpcGxlIGFzeW5jaHJvbm91cyBzdGVwcyBhbmQgdGhlIFB5dGhvbiBzaWRlIGlzIGdvaW5nCi8vIHRvIHBvbGwgZm9yIGNvbXBsZXRpb24gb2YgZWFjaCBzdGVwLgovLyBUaGlzIHVzZXMgYSBQcm9taXNlIHRvIGJsb2NrIHRoZSBweXRob24gc2lkZSBvbiBjb21wbGV0aW9uIG9mIGVhY2ggc3RlcCwKLy8gdGhlbiBwYXNzZXMgdGhlIHJlc3VsdCBvZiB0aGUgcHJldmlvdXMgc3RlcCBhcyB0aGUgaW5wdXQgdG8gdGhlIG5leHQgc3RlcC4KZnVuY3Rpb24gX3VwbG9hZEZpbGVzQ29udGludWUob3V0cHV0SWQpIHsKICBjb25zdCBvdXRwdXRFbGVtZW50ID0gZG9jdW1lbnQuZ2V0RWxlbWVudEJ5SWQob3V0cHV0SWQpOwogIGNvbnN0IHN0ZXBzID0gb3V0cHV0RWxlbWVudC5zdGVwczsKCiAgY29uc3QgbmV4dCA9IHN0ZXBzLm5leHQob3V0cHV0RWxlbWVudC5sYXN0UHJvbWlzZVZhbHVlKTsKICByZXR1cm4gUHJvbWlzZS5yZXNvbHZlKG5leHQudmFsdWUucHJvbWlzZSkudGhlbigodmFsdWUpID0+IHsKICAgIC8vIENhY2hlIHRoZSBsYXN0IHByb21pc2UgdmFsdWUgdG8gbWFrZSBpdCBhdmFpbGFibGUgdG8gdGhlIG5leHQKICAgIC8vIHN0ZXAgb2YgdGhlIGdlbmVyYXRvci4KICAgIG91dHB1dEVsZW1lbnQubGFzdFByb21pc2VWYWx1ZSA9IHZhbHVlOwogICAgcmV0dXJuIG5leHQudmFsdWUucmVzcG9uc2U7CiAgfSk7Cn0KCi8qKgogKiBHZW5lcmF0b3IgZnVuY3Rpb24gd2hpY2ggaXMgY2FsbGVkIGJldHdlZW4gZWFjaCBhc3luYyBzdGVwIG9mIHRoZSB1cGxvYWQKICogcHJvY2Vzcy4KICogQHBhcmFtIHtzdHJpbmd9IGlucHV0SWQgRWxlbWVudCBJRCBvZiB0aGUgaW5wdXQgZmlsZSBwaWNrZXIgZWxlbWVudC4KICogQHBhcmFtIHtzdHJpbmd9IG91dHB1dElkIEVsZW1lbnQgSUQgb2YgdGhlIG91dHB1dCBkaXNwbGF5LgogKiBAcmV0dXJuIHshSXRlcmFibGU8IU9iamVjdD59IEl0ZXJhYmxlIG9mIG5leHQgc3RlcHMuCiAqLwpmdW5jdGlvbiogdXBsb2FkRmlsZXNTdGVwKGlucHV0SWQsIG91dHB1dElkKSB7CiAgY29uc3QgaW5wdXRFbGVtZW50ID0gZG9jdW1lbnQuZ2V0RWxlbWVudEJ5SWQoaW5wdXRJZCk7CiAgaW5wdXRFbGVtZW50LmRpc2FibGVkID0gZmFsc2U7CgogIGNvbnN0IG91dHB1dEVsZW1lbnQgPSBkb2N1bWVudC5nZXRFbGVtZW50QnlJZChvdXRwdXRJZCk7CiAgb3V0cHV0RWxlbWVudC5pbm5lckhUTUwgPSAnJzsKCiAgY29uc3QgcGlja2VkUHJvbWlzZSA9IG5ldyBQcm9taXNlKChyZXNvbHZlKSA9PiB7CiAgICBpbnB1dEVsZW1lbnQuYWRkRXZlbnRMaXN0ZW5lcignY2hhbmdlJywgKGUpID0+IHsKICAgICAgcmVzb2x2ZShlLnRhcmdldC5maWxlcyk7CiAgICB9KTsKICB9KTsKCiAgY29uc3QgY2FuY2VsID0gZG9jdW1lbnQuY3JlYXRlRWxlbWVudCgnYnV0dG9uJyk7CiAgaW5wdXRFbGVtZW50LnBhcmVudEVsZW1lbnQuYXBwZW5kQ2hpbGQoY2FuY2VsKTsKICBjYW5jZWwudGV4dENvbnRlbnQgPSAnQ2FuY2VsIHVwbG9hZCc7CiAgY29uc3QgY2FuY2VsUHJvbWlzZSA9IG5ldyBQcm9taXNlKChyZXNvbHZlKSA9PiB7CiAgICBjYW5jZWwub25jbGljayA9ICgpID0+IHsKICAgICAgcmVzb2x2ZShudWxsKTsKICAgIH07CiAgfSk7CgogIC8vIENhbmNlbCB1cGxvYWQgaWYgdXNlciBoYXNuJ3QgcGlja2VkIGFueXRoaW5nIGluIHRpbWVvdXQuCiAgY29uc3QgdGltZW91dFByb21pc2UgPSBuZXcgUHJvbWlzZSgocmVzb2x2ZSkgPT4gewogICAgc2V0VGltZW91dCgoKSA9PiB7CiAgICAgIHJlc29sdmUobnVsbCk7CiAgICB9LCBGSUxFX0NIQU5HRV9USU1FT1VUX01TKTsKICB9KTsKCiAgLy8gV2FpdCBmb3IgdGhlIHVzZXIgdG8gcGljayB0aGUgZmlsZXMuCiAgY29uc3QgZmlsZXMgPSB5aWVsZCB7CiAgICBwcm9taXNlOiBQcm9taXNlLnJhY2UoW3BpY2tlZFByb21pc2UsIHRpbWVvdXRQcm9taXNlLCBjYW5jZWxQcm9taXNlXSksCiAgICByZXNwb25zZTogewogICAgICBhY3Rpb246ICdzdGFydGluZycsCiAgICB9CiAgfTsKCiAgaWYgKCFmaWxlcykgewogICAgcmV0dXJuIHsKICAgICAgcmVzcG9uc2U6IHsKICAgICAgICBhY3Rpb246ICdjb21wbGV0ZScsCiAgICAgIH0KICAgIH07CiAgfQoKICBjYW5jZWwucmVtb3ZlKCk7CgogIC8vIERpc2FibGUgdGhlIGlucHV0IGVsZW1lbnQgc2luY2UgZnVydGhlciBwaWNrcyBhcmUgbm90IGFsbG93ZWQuCiAgaW5wdXRFbGVtZW50LmRpc2FibGVkID0gdHJ1ZTsKCiAgZm9yIChjb25zdCBmaWxlIG9mIGZpbGVzKSB7CiAgICBjb25zdCBsaSA9IGRvY3VtZW50LmNyZWF0ZUVsZW1lbnQoJ2xpJyk7CiAgICBsaS5hcHBlbmQoc3BhbihmaWxlLm5hbWUsIHtmb250V2VpZ2h0OiAnYm9sZCd9KSk7CiAgICBsaS5hcHBlbmQoc3BhbigKICAgICAgICBgKCR7ZmlsZS50eXBlIHx8ICduL2EnfSkgLSAke2ZpbGUuc2l6ZX0gYnl0ZXMsIGAgKwogICAgICAgIGBsYXN0IG1vZGlmaWVkOiAkewogICAgICAgICAgICBmaWxlLmxhc3RNb2RpZmllZERhdGUgPyBmaWxlLmxhc3RNb2RpZmllZERhdGUudG9Mb2NhbGVEYXRlU3RyaW5nKCkgOgogICAgICAgICAgICAgICAgICAgICAgICAgICAgICAgICAgICAnbi9hJ30gLSBgKSk7CiAgICBjb25zdCBwZXJjZW50ID0gc3BhbignMCUgZG9uZScpOwogICAgbGkuYXBwZW5kQ2hpbGQocGVyY2VudCk7CgogICAgb3V0cHV0RWxlbWVudC5hcHBlbmRDaGlsZChsaSk7CgogICAgY29uc3QgZmlsZURhdGFQcm9taXNlID0gbmV3IFByb21pc2UoKHJlc29sdmUpID0+IHsKICAgICAgY29uc3QgcmVhZGVyID0gbmV3IEZpbGVSZWFkZXIoKTsKICAgICAgcmVhZGVyLm9ubG9hZCA9IChlKSA9PiB7CiAgICAgICAgcmVzb2x2ZShlLnRhcmdldC5yZXN1bHQpOwogICAgICB9OwogICAgICByZWFkZXIucmVhZEFzQXJyYXlCdWZmZXIoZmlsZSk7CiAgICB9KTsKICAgIC8vIFdhaXQgZm9yIHRoZSBkYXRhIHRvIGJlIHJlYWR5LgogICAgbGV0IGZpbGVEYXRhID0geWllbGQgewogICAgICBwcm9taXNlOiBmaWxlRGF0YVByb21pc2UsCiAgICAgIHJlc3BvbnNlOiB7CiAgICAgICAgYWN0aW9uOiAnY29udGludWUnLAogICAgICB9CiAgICB9OwoKICAgIC8vIFVzZSBhIGNodW5rZWQgc2VuZGluZyB0byBhdm9pZCBtZXNzYWdlIHNpemUgbGltaXRzLiBTZWUgYi82MjExNTY2MC4KICAgIGxldCBwb3NpdGlvbiA9IDA7CiAgICB3aGlsZSAocG9zaXRpb24gPCBmaWxlRGF0YS5ieXRlTGVuZ3RoKSB7CiAgICAgIGNvbnN0IGxlbmd0aCA9IE1hdGgubWluKGZpbGVEYXRhLmJ5dGVMZW5ndGggLSBwb3NpdGlvbiwgTUFYX1BBWUxPQURfU0laRSk7CiAgICAgIGNvbnN0IGNodW5rID0gbmV3IFVpbnQ4QXJyYXkoZmlsZURhdGEsIHBvc2l0aW9uLCBsZW5ndGgpOwogICAgICBwb3NpdGlvbiArPSBsZW5ndGg7CgogICAgICBjb25zdCBiYXNlNjQgPSBidG9hKFN0cmluZy5mcm9tQ2hhckNvZGUuYXBwbHkobnVsbCwgY2h1bmspKTsKICAgICAgeWllbGQgewogICAgICAgIHJlc3BvbnNlOiB7CiAgICAgICAgICBhY3Rpb246ICdhcHBlbmQnLAogICAgICAgICAgZmlsZTogZmlsZS5uYW1lLAogICAgICAgICAgZGF0YTogYmFzZTY0LAogICAgICAgIH0sCiAgICAgIH07CiAgICAgIHBlcmNlbnQudGV4dENvbnRlbnQgPQogICAgICAgICAgYCR7TWF0aC5yb3VuZCgocG9zaXRpb24gLyBmaWxlRGF0YS5ieXRlTGVuZ3RoKSAqIDEwMCl9JSBkb25lYDsKICAgIH0KICB9CgogIC8vIEFsbCBkb25lLgogIHlpZWxkIHsKICAgIHJlc3BvbnNlOiB7CiAgICAgIGFjdGlvbjogJ2NvbXBsZXRlJywKICAgIH0KICB9Owp9CgpzY29wZS5nb29nbGUgPSBzY29wZS5nb29nbGUgfHwge307CnNjb3BlLmdvb2dsZS5jb2xhYiA9IHNjb3BlLmdvb2dsZS5jb2xhYiB8fCB7fTsKc2NvcGUuZ29vZ2xlLmNvbGFiLl9maWxlcyA9IHsKICBfdXBsb2FkRmlsZXMsCiAgX3VwbG9hZEZpbGVzQ29udGludWUsCn07Cn0pKHNlbGYpOwo=",
       "headers": [
        [
         "content-type",
         "application/javascript"
        ]
       ],
       "ok": true,
       "status": 200,
       "status_text": ""
      }
     }
    },
    "colab_type": "code",
    "id": "bn09phMBpY1J",
    "outputId": "1c45fb6a-e3cb-4ec1-fb85-de52b3c60bae"
   },
   "outputs": [],
   "source": [
    "import pandas as pd\n",
    "\n",
    "url =\"https://raw.githubusercontent.com/jbrownlee/Datasets/master/pima-indians-diabetes.data.csv\"\n",
    "\n",
    "dataset = pd.read_csv(url, header=None)"
   ]
  },
  {
   "cell_type": "code",
   "execution_count": 5,
   "metadata": {},
   "outputs": [
    {
     "data": {
      "text/html": [
       "<div>\n",
       "<style scoped>\n",
       "    .dataframe tbody tr th:only-of-type {\n",
       "        vertical-align: middle;\n",
       "    }\n",
       "\n",
       "    .dataframe tbody tr th {\n",
       "        vertical-align: top;\n",
       "    }\n",
       "\n",
       "    .dataframe thead th {\n",
       "        text-align: right;\n",
       "    }\n",
       "</style>\n",
       "<table border=\"1\" class=\"dataframe\">\n",
       "  <thead>\n",
       "    <tr style=\"text-align: right;\">\n",
       "      <th></th>\n",
       "      <th>0</th>\n",
       "      <th>1</th>\n",
       "      <th>2</th>\n",
       "      <th>3</th>\n",
       "      <th>4</th>\n",
       "      <th>5</th>\n",
       "      <th>6</th>\n",
       "      <th>7</th>\n",
       "      <th>8</th>\n",
       "    </tr>\n",
       "  </thead>\n",
       "  <tbody>\n",
       "    <tr>\n",
       "      <th>0</th>\n",
       "      <td>6</td>\n",
       "      <td>148</td>\n",
       "      <td>72</td>\n",
       "      <td>35</td>\n",
       "      <td>0</td>\n",
       "      <td>33.6</td>\n",
       "      <td>0.627</td>\n",
       "      <td>50</td>\n",
       "      <td>1</td>\n",
       "    </tr>\n",
       "    <tr>\n",
       "      <th>1</th>\n",
       "      <td>1</td>\n",
       "      <td>85</td>\n",
       "      <td>66</td>\n",
       "      <td>29</td>\n",
       "      <td>0</td>\n",
       "      <td>26.6</td>\n",
       "      <td>0.351</td>\n",
       "      <td>31</td>\n",
       "      <td>0</td>\n",
       "    </tr>\n",
       "    <tr>\n",
       "      <th>2</th>\n",
       "      <td>8</td>\n",
       "      <td>183</td>\n",
       "      <td>64</td>\n",
       "      <td>0</td>\n",
       "      <td>0</td>\n",
       "      <td>23.3</td>\n",
       "      <td>0.672</td>\n",
       "      <td>32</td>\n",
       "      <td>1</td>\n",
       "    </tr>\n",
       "    <tr>\n",
       "      <th>3</th>\n",
       "      <td>1</td>\n",
       "      <td>89</td>\n",
       "      <td>66</td>\n",
       "      <td>23</td>\n",
       "      <td>94</td>\n",
       "      <td>28.1</td>\n",
       "      <td>0.167</td>\n",
       "      <td>21</td>\n",
       "      <td>0</td>\n",
       "    </tr>\n",
       "    <tr>\n",
       "      <th>4</th>\n",
       "      <td>0</td>\n",
       "      <td>137</td>\n",
       "      <td>40</td>\n",
       "      <td>35</td>\n",
       "      <td>168</td>\n",
       "      <td>43.1</td>\n",
       "      <td>2.288</td>\n",
       "      <td>33</td>\n",
       "      <td>1</td>\n",
       "    </tr>\n",
       "  </tbody>\n",
       "</table>\n",
       "</div>"
      ],
      "text/plain": [
       "   0    1   2   3    4     5      6   7  8\n",
       "0  6  148  72  35    0  33.6  0.627  50  1\n",
       "1  1   85  66  29    0  26.6  0.351  31  0\n",
       "2  8  183  64   0    0  23.3  0.672  32  1\n",
       "3  1   89  66  23   94  28.1  0.167  21  0\n",
       "4  0  137  40  35  168  43.1  2.288  33  1"
      ]
     },
     "execution_count": 5,
     "metadata": {},
     "output_type": "execute_result"
    }
   ],
   "source": [
    "dataset.head()"
   ]
  },
  {
   "cell_type": "code",
   "execution_count": 6,
   "metadata": {
    "colab": {
     "base_uri": "https://localhost:8080/",
     "height": 725
    },
    "colab_type": "code",
    "id": "FKuofD3Pogil",
    "outputId": "16c2f4fa-93c8-491d-b339-9f35f7918621"
   },
   "outputs": [
    {
     "name": "stdout",
     "output_type": "stream",
     "text": [
      "(768, 8)\n",
      "[[  6.    148.     72.    ...  33.6     0.627  50.   ]\n",
      " [  1.     85.     66.    ...  26.6     0.351  31.   ]\n",
      " [  8.    183.     64.    ...  23.3     0.672  32.   ]\n",
      " ...\n",
      " [  5.    121.     72.    ...  26.2     0.245  30.   ]\n",
      " [  1.    126.     60.    ...  30.1     0.349  47.   ]\n",
      " [  1.     93.     70.    ...  30.4     0.315  23.   ]]\n"
     ]
    }
   ],
   "source": [
    "X = dataset.values[:,0:8]\n",
    "print(X.shape)\n",
    "print(X)"
   ]
  },
  {
   "cell_type": "code",
   "execution_count": 7,
   "metadata": {},
   "outputs": [
    {
     "name": "stdout",
     "output_type": "stream",
     "text": [
      "(768,)\n",
      "[1. 0. 1. 0. 1. 0. 1. 0. 1. 1. 0. 1. 0. 1. 1. 1. 1. 1. 0. 1. 0. 0. 1. 1.\n",
      " 1. 1. 1. 0. 0. 0. 0. 1. 0. 0. 0. 0. 0. 1. 1. 1. 0. 0. 0. 1. 0. 1. 0. 0.\n",
      " 1. 0. 0. 0. 0. 1. 0. 0. 1. 0. 0. 0. 0. 1. 0. 0. 1. 0. 1. 0. 0. 0. 1. 0.\n",
      " 1. 0. 0. 0. 0. 0. 1. 0. 0. 0. 0. 0. 1. 0. 0. 0. 1. 0. 0. 0. 0. 1. 0. 0.\n",
      " 0. 0. 0. 1. 1. 0. 0. 0. 0. 0. 0. 0. 0. 1. 1. 1. 0. 0. 1. 1. 1. 0. 0. 0.\n",
      " 1. 0. 0. 0. 1. 1. 0. 0. 1. 1. 1. 1. 1. 0. 0. 0. 0. 0. 0. 0. 0. 0. 0. 1.\n",
      " 0. 0. 0. 0. 0. 0. 0. 0. 1. 0. 1. 1. 0. 0. 0. 1. 0. 0. 0. 0. 1. 1. 0. 0.\n",
      " 0. 0. 1. 1. 0. 0. 0. 1. 0. 1. 0. 1. 0. 0. 0. 0. 0. 1. 1. 1. 1. 1. 0. 0.\n",
      " 1. 1. 0. 1. 0. 1. 1. 1. 0. 0. 0. 0. 0. 0. 1. 1. 0. 1. 0. 0. 0. 1. 1. 1.\n",
      " 1. 0. 1. 1. 1. 1. 0. 0. 0. 0. 0. 1. 0. 0. 1. 1. 0. 0. 0. 1. 1. 1. 1. 0.\n",
      " 0. 0. 1. 1. 0. 1. 0. 0. 0. 0. 0. 0. 0. 0. 1. 1. 0. 0. 0. 1. 0. 1. 0. 0.\n",
      " 1. 0. 1. 0. 0. 1. 1. 0. 0. 0. 0. 0. 1. 0. 0. 0. 1. 0. 0. 1. 1. 0. 0. 1.\n",
      " 0. 0. 0. 1. 1. 1. 0. 0. 1. 0. 1. 0. 1. 1. 0. 1. 0. 0. 1. 0. 1. 1. 0. 0.\n",
      " 1. 0. 1. 0. 0. 1. 0. 1. 0. 1. 1. 1. 0. 0. 1. 0. 1. 0. 0. 0. 1. 0. 0. 0.\n",
      " 0. 1. 1. 1. 0. 0. 0. 0. 0. 0. 0. 0. 0. 1. 0. 0. 0. 0. 0. 1. 1. 1. 0. 1.\n",
      " 1. 0. 0. 1. 0. 0. 1. 0. 0. 1. 1. 0. 0. 0. 0. 1. 0. 0. 1. 0. 0. 0. 0. 0.\n",
      " 0. 0. 1. 1. 1. 0. 0. 1. 0. 0. 1. 0. 0. 1. 0. 1. 1. 0. 1. 0. 1. 0. 1. 0.\n",
      " 1. 1. 0. 0. 0. 0. 1. 1. 0. 1. 0. 1. 0. 0. 0. 0. 1. 1. 0. 1. 0. 1. 0. 0.\n",
      " 0. 0. 0. 1. 0. 0. 0. 0. 1. 0. 0. 1. 1. 1. 0. 0. 1. 0. 0. 1. 0. 0. 0. 1.\n",
      " 0. 0. 1. 0. 0. 0. 0. 0. 0. 0. 0. 0. 1. 0. 0. 0. 0. 0. 0. 0. 1. 0. 0. 0.\n",
      " 1. 0. 0. 0. 1. 1. 0. 0. 0. 0. 0. 0. 0. 1. 0. 0. 0. 0. 1. 0. 0. 0. 1. 0.\n",
      " 0. 0. 1. 0. 0. 0. 1. 0. 0. 0. 0. 1. 1. 0. 0. 0. 0. 0. 0. 1. 0. 0. 0. 0.\n",
      " 0. 0. 0. 0. 0. 0. 0. 1. 0. 0. 0. 1. 1. 1. 1. 0. 0. 1. 1. 0. 0. 0. 0. 0.\n",
      " 0. 0. 0. 0. 0. 0. 0. 0. 1. 1. 0. 0. 0. 0. 0. 0. 0. 1. 0. 0. 0. 0. 0. 0.\n",
      " 0. 1. 0. 1. 1. 0. 0. 0. 1. 0. 1. 0. 1. 0. 1. 0. 1. 0. 0. 1. 0. 0. 1. 0.\n",
      " 0. 0. 0. 1. 1. 0. 1. 0. 0. 0. 0. 1. 1. 0. 1. 0. 0. 0. 1. 1. 0. 0. 0. 0.\n",
      " 0. 0. 0. 0. 0. 0. 1. 0. 0. 0. 0. 1. 0. 0. 1. 0. 0. 0. 1. 0. 0. 0. 1. 1.\n",
      " 1. 0. 0. 0. 0. 0. 0. 1. 0. 0. 0. 1. 0. 1. 1. 1. 1. 0. 1. 1. 0. 0. 0. 0.\n",
      " 0. 0. 0. 1. 1. 0. 1. 0. 0. 1. 0. 1. 0. 0. 0. 0. 0. 1. 0. 1. 0. 1. 0. 1.\n",
      " 1. 0. 0. 0. 0. 1. 1. 0. 0. 0. 1. 0. 1. 1. 0. 0. 1. 0. 0. 1. 1. 0. 0. 1.\n",
      " 0. 0. 1. 0. 0. 0. 0. 0. 0. 0. 1. 1. 1. 0. 0. 0. 0. 0. 0. 1. 1. 0. 0. 1.\n",
      " 0. 0. 1. 0. 1. 1. 1. 0. 0. 1. 1. 1. 0. 1. 0. 1. 0. 1. 0. 0. 0. 0. 1. 0.]\n"
     ]
    }
   ],
   "source": [
    "y = dataset.values[:,-1]\n",
    "print(y.shape)\n",
    "print(y)"
   ]
  },
  {
   "cell_type": "markdown",
   "metadata": {
    "colab_type": "text",
    "id": "o0xMqOyTs5xt"
   },
   "source": [
    "### Define Model"
   ]
  },
  {
   "cell_type": "code",
   "execution_count": 8,
   "metadata": {
    "colab": {},
    "colab_type": "code",
    "id": "Bp9USczrfu6M"
   },
   "outputs": [],
   "source": [
    "from tensorflow.keras.models import Sequential\n",
    "from tensorflow.keras.layers import Dense\n",
    "\n",
    "import numpy as np\n",
    "\n",
    "np.random.seed(812)"
   ]
  },
  {
   "cell_type": "markdown",
   "metadata": {
    "colab_type": "text",
    "id": "wAzHLg27thoN"
   },
   "source": [
    "I'll instantiate my model as a \"sequential\" model. This just means that I'm going to tell Keras what my model's architecture should be one layer at a time."
   ]
  },
  {
   "cell_type": "code",
   "execution_count": 9,
   "metadata": {
    "colab": {},
    "colab_type": "code",
    "id": "DSNsL49Xp6KI"
   },
   "outputs": [],
   "source": [
    "# https://keras.io/getting-started/sequential-model-guide/\n",
    "model = Sequential()"
   ]
  },
  {
   "cell_type": "markdown",
   "metadata": {
    "colab_type": "text",
    "id": "ZCYX6QzJtvpG"
   },
   "source": [
    "Adding a \"Dense\" layer to our model is how we add \"vanilla\" perceptron-based layers to our neural network. These are also called \"fully-connected\" or \"densely-connected\" layers. They're used as a layer type in lots of other Neural Net Architectures but they're not referred to as perceptrons or multi-layer perceptrons very often in those situations even though that's what they are.\n",
    "\n",
    " > [\"Just your regular densely-connected NN layer.\"](https://keras.io/layers/core/)\n",
    " \n",
    " The first argument is how many neurons we want to have in that layer. To create a perceptron model we will just set it to 1. We will tell it that there will be 8 inputs coming into this layer from our dataset and set it to use the sigmoid activation function."
   ]
  },
  {
   "cell_type": "code",
   "execution_count": 10,
   "metadata": {
    "colab": {
     "base_uri": "https://localhost:8080/",
     "height": 89
    },
    "colab_type": "code",
    "id": "GNzOLidxtvFa",
    "outputId": "35b1457d-0189-49f1-aa6d-3ef15b29bd6e"
   },
   "outputs": [],
   "source": [
    "model.add(Dense(1, input_dim=8, activation=\"sigmoid\")) #Relu is valid option. "
   ]
  },
  {
   "cell_type": "markdown",
   "metadata": {
    "colab_type": "text",
    "id": "EnI3jwKMtBL2",
    "toc-hr-collapsed": false
   },
   "source": [
    "### Compile Model\n",
    "Using binary_crossentropy as the loss function here is just telling keras that I'm doing binary classification so that it can use the appropriate loss function accordingly. If we were predicting non-binary categories we might assign something like `categorical_crossentropy`. We're also telling keras that we want it to report model accuracy as our main error metric for each epoch. We will also be able to see the overall accuracy once the model has finished training.\n",
    "\n",
    "#### Adam Optimizer\n",
    "Check out this links for more background on the Adam optimizer and Stohastic Gradient Descent\n",
    "* [Adam Optimization Algorithm](https://machinelearningmastery.com/adam-optimization-algorithm-for-deep-learning/)\n",
    "* [Adam Optimizer - original paper](https://arxiv.org/abs/1412.6980)"
   ]
  },
  {
   "cell_type": "code",
   "execution_count": 11,
   "metadata": {
    "colab": {},
    "colab_type": "code",
    "id": "qp6xwYaqurRO"
   },
   "outputs": [],
   "source": [
    "model.compile(loss='binary_crossentropy', optimizer='adam', metrics=['accuracy'])"
   ]
  },
  {
   "cell_type": "markdown",
   "metadata": {
    "colab_type": "text",
    "id": "5dW8SZ2Ls9SX",
    "toc-hr-collapsed": false
   },
   "source": [
    "### Fit Model\n",
    "\n",
    "Lets train it up! `model.fit()` has a `batch_size` parameter that we can use if we want to do mini-batch epochs, but since this tabular dataset is pretty small we're just going to delete that parameter. Keras' default `batch_size` is `None` so omiting it will tell Keras to do batch epochs."
   ]
  },
  {
   "cell_type": "code",
   "execution_count": 12,
   "metadata": {},
   "outputs": [
    {
     "name": "stdout",
     "output_type": "stream",
     "text": [
      "Train on 768 samples\n",
      "Epoch 1/150\n",
      "768/768 [==============================] - 0s 262us/sample - loss: 4.2054 - accuracy: 0.5273\n",
      "Epoch 2/150\n",
      "768/768 [==============================] - 0s 29us/sample - loss: 4.0075 - accuracy: 0.5365\n",
      "Epoch 3/150\n",
      "768/768 [==============================] - 0s 31us/sample - loss: 3.8517 - accuracy: 0.5326\n",
      "Epoch 4/150\n",
      "768/768 [==============================] - 0s 34us/sample - loss: 3.7063 - accuracy: 0.5273\n",
      "Epoch 5/150\n",
      "768/768 [==============================] - 0s 33us/sample - loss: 3.5663 - accuracy: 0.5312\n",
      "Epoch 6/150\n",
      "768/768 [==============================] - 0s 31us/sample - loss: 3.4287 - accuracy: 0.5312\n",
      "Epoch 7/150\n",
      "768/768 [==============================] - 0s 33us/sample - loss: 3.2825 - accuracy: 0.5312\n",
      "Epoch 8/150\n",
      "768/768 [==============================] - 0s 29us/sample - loss: 3.1270 - accuracy: 0.5260\n",
      "Epoch 9/150\n",
      "768/768 [==============================] - 0s 31us/sample - loss: 2.9906 - accuracy: 0.5299\n",
      "Epoch 10/150\n",
      "768/768 [==============================] - 0s 29us/sample - loss: 2.8544 - accuracy: 0.5391\n",
      "Epoch 11/150\n",
      "768/768 [==============================] - 0s 31us/sample - loss: 2.7246 - accuracy: 0.5339\n",
      "Epoch 12/150\n",
      "768/768 [==============================] - 0s 29us/sample - loss: 2.5928 - accuracy: 0.5456\n",
      "Epoch 13/150\n",
      "768/768 [==============================] - 0s 27us/sample - loss: 2.4849 - accuracy: 0.5482\n",
      "Epoch 14/150\n",
      "768/768 [==============================] - 0s 29us/sample - loss: 2.3515 - accuracy: 0.5573\n",
      "Epoch 15/150\n",
      "768/768 [==============================] - 0s 35us/sample - loss: 2.2254 - accuracy: 0.5560\n",
      "Epoch 16/150\n",
      "768/768 [==============================] - 0s 38us/sample - loss: 2.1148 - accuracy: 0.5534\n",
      "Epoch 17/150\n",
      "768/768 [==============================] - 0s 34us/sample - loss: 2.0050 - accuracy: 0.5612\n",
      "Epoch 18/150\n",
      "768/768 [==============================] - 0s 34us/sample - loss: 1.8961 - accuracy: 0.5625\n",
      "Epoch 19/150\n",
      "768/768 [==============================] - 0s 35us/sample - loss: 1.7991 - accuracy: 0.5651\n",
      "Epoch 20/150\n",
      "768/768 [==============================] - 0s 31us/sample - loss: 1.7020 - accuracy: 0.5638\n",
      "Epoch 21/150\n",
      "768/768 [==============================] - 0s 33us/sample - loss: 1.6058 - accuracy: 0.5781\n",
      "Epoch 22/150\n",
      "768/768 [==============================] - 0s 33us/sample - loss: 1.5149 - accuracy: 0.5664\n",
      "Epoch 23/150\n",
      "768/768 [==============================] - 0s 29us/sample - loss: 1.4444 - accuracy: 0.5729\n",
      "Epoch 24/150\n",
      "768/768 [==============================] - 0s 35us/sample - loss: 1.3455 - accuracy: 0.5742\n",
      "Epoch 25/150\n",
      "768/768 [==============================] - 0s 30us/sample - loss: 1.2688 - accuracy: 0.5742\n",
      "Epoch 26/150\n",
      "768/768 [==============================] - 0s 31us/sample - loss: 1.1931 - accuracy: 0.5755\n",
      "Epoch 27/150\n",
      "768/768 [==============================] - 0s 34us/sample - loss: 1.1261 - accuracy: 0.5807\n",
      "Epoch 28/150\n",
      "768/768 [==============================] - 0s 29us/sample - loss: 1.0574 - accuracy: 0.5833\n",
      "Epoch 29/150\n",
      "768/768 [==============================] - 0s 27us/sample - loss: 1.0075 - accuracy: 0.5820\n",
      "Epoch 30/150\n",
      "768/768 [==============================] - 0s 30us/sample - loss: 0.9515 - accuracy: 0.6055\n",
      "Epoch 31/150\n",
      "768/768 [==============================] - 0s 30us/sample - loss: 0.9069 - accuracy: 0.6081\n",
      "Epoch 32/150\n",
      "768/768 [==============================] - 0s 29us/sample - loss: 0.8731 - accuracy: 0.5977\n",
      "Epoch 33/150\n",
      "768/768 [==============================] - 0s 30us/sample - loss: 0.8282 - accuracy: 0.6107\n",
      "Epoch 34/150\n",
      "768/768 [==============================] - 0s 25us/sample - loss: 0.8046 - accuracy: 0.6120\n",
      "Epoch 35/150\n",
      "768/768 [==============================] - 0s 27us/sample - loss: 0.7720 - accuracy: 0.6185\n",
      "Epoch 36/150\n",
      "768/768 [==============================] - 0s 27us/sample - loss: 0.7541 - accuracy: 0.6159\n",
      "Epoch 37/150\n",
      "768/768 [==============================] - 0s 27us/sample - loss: 0.7442 - accuracy: 0.6237\n",
      "Epoch 38/150\n",
      "768/768 [==============================] - 0s 30us/sample - loss: 0.7225 - accuracy: 0.6094\n",
      "Epoch 39/150\n",
      "768/768 [==============================] - 0s 26us/sample - loss: 0.7112 - accuracy: 0.6341\n",
      "Epoch 40/150\n",
      "768/768 [==============================] - 0s 29us/sample - loss: 0.7033 - accuracy: 0.6276\n",
      "Epoch 41/150\n",
      "768/768 [==============================] - 0s 29us/sample - loss: 0.6854 - accuracy: 0.6419\n",
      "Epoch 42/150\n",
      "768/768 [==============================] - 0s 27us/sample - loss: 0.6846 - accuracy: 0.6576\n",
      "Epoch 43/150\n",
      "768/768 [==============================] - 0s 30us/sample - loss: 0.6794 - accuracy: 0.6667\n",
      "Epoch 44/150\n",
      "768/768 [==============================] - 0s 30us/sample - loss: 0.6656 - accuracy: 0.6458\n",
      "Epoch 45/150\n",
      "768/768 [==============================] - 0s 30us/sample - loss: 0.6600 - accuracy: 0.6589\n",
      "Epoch 46/150\n",
      "768/768 [==============================] - 0s 27us/sample - loss: 0.6546 - accuracy: 0.6615\n",
      "Epoch 47/150\n",
      "768/768 [==============================] - 0s 29us/sample - loss: 0.6460 - accuracy: 0.6706\n",
      "Epoch 48/150\n",
      "768/768 [==============================] - 0s 26us/sample - loss: 0.6472 - accuracy: 0.6602\n",
      "Epoch 49/150\n",
      "768/768 [==============================] - 0s 27us/sample - loss: 0.6366 - accuracy: 0.6862\n",
      "Epoch 50/150\n",
      "768/768 [==============================] - 0s 29us/sample - loss: 0.6312 - accuracy: 0.6771\n",
      "Epoch 51/150\n",
      "768/768 [==============================] - 0s 27us/sample - loss: 0.6304 - accuracy: 0.6823\n",
      "Epoch 52/150\n",
      "768/768 [==============================] - 0s 27us/sample - loss: 0.6255 - accuracy: 0.6667\n",
      "Epoch 53/150\n",
      "768/768 [==============================] - 0s 27us/sample - loss: 0.6254 - accuracy: 0.6849\n",
      "Epoch 54/150\n",
      "768/768 [==============================] - 0s 27us/sample - loss: 0.6240 - accuracy: 0.6810\n",
      "Epoch 55/150\n",
      "768/768 [==============================] - 0s 30us/sample - loss: 0.6143 - accuracy: 0.6823\n",
      "Epoch 56/150\n",
      "768/768 [==============================] - 0s 30us/sample - loss: 0.6185 - accuracy: 0.6901\n",
      "Epoch 57/150\n",
      "768/768 [==============================] - 0s 29us/sample - loss: 0.6099 - accuracy: 0.6784\n",
      "Epoch 58/150\n",
      "768/768 [==============================] - 0s 30us/sample - loss: 0.6107 - accuracy: 0.6927\n",
      "Epoch 59/150\n",
      "768/768 [==============================] - 0s 29us/sample - loss: 0.6117 - accuracy: 0.6810\n",
      "Epoch 60/150\n",
      "768/768 [==============================] - 0s 27us/sample - loss: 0.6152 - accuracy: 0.6771\n",
      "Epoch 61/150\n",
      "768/768 [==============================] - 0s 29us/sample - loss: 0.6067 - accuracy: 0.6836\n",
      "Epoch 62/150\n",
      "768/768 [==============================] - 0s 27us/sample - loss: 0.6032 - accuracy: 0.6901\n",
      "Epoch 63/150\n",
      "768/768 [==============================] - 0s 27us/sample - loss: 0.6019 - accuracy: 0.6797\n",
      "Epoch 64/150\n",
      "768/768 [==============================] - 0s 26us/sample - loss: 0.6015 - accuracy: 0.6862\n",
      "Epoch 65/150\n",
      "768/768 [==============================] - 0s 27us/sample - loss: 0.6058 - accuracy: 0.6927\n",
      "Epoch 66/150\n",
      "768/768 [==============================] - 0s 33us/sample - loss: 0.6076 - accuracy: 0.6719\n",
      "Epoch 67/150\n",
      "768/768 [==============================] - 0s 26us/sample - loss: 0.6066 - accuracy: 0.6901\n",
      "Epoch 68/150\n",
      "768/768 [==============================] - 0s 30us/sample - loss: 0.5987 - accuracy: 0.7018\n",
      "Epoch 69/150\n",
      "768/768 [==============================] - 0s 31us/sample - loss: 0.5961 - accuracy: 0.6992\n",
      "Epoch 70/150\n",
      "768/768 [==============================] - 0s 31us/sample - loss: 0.5992 - accuracy: 0.6966\n",
      "Epoch 71/150\n",
      "768/768 [==============================] - 0s 29us/sample - loss: 0.6129 - accuracy: 0.6797\n",
      "Epoch 72/150\n",
      "768/768 [==============================] - 0s 29us/sample - loss: 0.5926 - accuracy: 0.6914\n",
      "Epoch 73/150\n",
      "768/768 [==============================] - 0s 29us/sample - loss: 0.6011 - accuracy: 0.6992\n",
      "Epoch 74/150\n",
      "768/768 [==============================] - 0s 30us/sample - loss: 0.5996 - accuracy: 0.6979\n",
      "Epoch 75/150\n",
      "768/768 [==============================] - 0s 29us/sample - loss: 0.5993 - accuracy: 0.6940\n",
      "Epoch 76/150\n",
      "768/768 [==============================] - 0s 30us/sample - loss: 0.5914 - accuracy: 0.7096\n",
      "Epoch 77/150\n",
      "768/768 [==============================] - 0s 29us/sample - loss: 0.5902 - accuracy: 0.7018\n",
      "Epoch 78/150\n",
      "768/768 [==============================] - 0s 29us/sample - loss: 0.5910 - accuracy: 0.7018\n",
      "Epoch 79/150\n",
      "768/768 [==============================] - 0s 44us/sample - loss: 0.5922 - accuracy: 0.7005\n",
      "Epoch 80/150\n",
      "768/768 [==============================] - 0s 29us/sample - loss: 0.5859 - accuracy: 0.7057\n",
      "Epoch 81/150\n",
      "768/768 [==============================] - 0s 31us/sample - loss: 0.6038 - accuracy: 0.6862\n",
      "Epoch 82/150\n",
      "768/768 [==============================] - 0s 33us/sample - loss: 0.5988 - accuracy: 0.7057\n",
      "Epoch 83/150\n",
      "768/768 [==============================] - 0s 39us/sample - loss: 0.5858 - accuracy: 0.7201\n",
      "Epoch 84/150\n",
      "768/768 [==============================] - 0s 40us/sample - loss: 0.5911 - accuracy: 0.7044\n",
      "Epoch 85/150\n",
      "768/768 [==============================] - 0s 35us/sample - loss: 0.5992 - accuracy: 0.7083\n",
      "Epoch 86/150\n",
      "768/768 [==============================] - 0s 30us/sample - loss: 0.5820 - accuracy: 0.7122\n",
      "Epoch 87/150\n",
      "768/768 [==============================] - 0s 29us/sample - loss: 0.5957 - accuracy: 0.6875\n",
      "Epoch 88/150\n",
      "768/768 [==============================] - 0s 29us/sample - loss: 0.5903 - accuracy: 0.7057\n",
      "Epoch 89/150\n",
      "768/768 [==============================] - 0s 27us/sample - loss: 0.5880 - accuracy: 0.7057\n",
      "Epoch 90/150\n",
      "768/768 [==============================] - 0s 27us/sample - loss: 0.5861 - accuracy: 0.7070\n",
      "Epoch 91/150\n",
      "768/768 [==============================] - 0s 30us/sample - loss: 0.6011 - accuracy: 0.6901\n",
      "Epoch 92/150\n",
      "768/768 [==============================] - 0s 29us/sample - loss: 0.6068 - accuracy: 0.6914\n",
      "Epoch 93/150\n",
      "768/768 [==============================] - 0s 27us/sample - loss: 0.6060 - accuracy: 0.6927\n",
      "Epoch 94/150\n",
      "768/768 [==============================] - 0s 30us/sample - loss: 0.5979 - accuracy: 0.6862\n",
      "Epoch 95/150\n",
      "768/768 [==============================] - 0s 29us/sample - loss: 0.5923 - accuracy: 0.7018\n",
      "Epoch 96/150\n",
      "768/768 [==============================] - 0s 30us/sample - loss: 0.5878 - accuracy: 0.7070\n",
      "Epoch 97/150\n",
      "768/768 [==============================] - 0s 31us/sample - loss: 0.5985 - accuracy: 0.7122\n",
      "Epoch 98/150\n",
      "768/768 [==============================] - 0s 30us/sample - loss: 0.5970 - accuracy: 0.6992\n",
      "Epoch 99/150\n",
      "768/768 [==============================] - 0s 35us/sample - loss: 0.5843 - accuracy: 0.7096\n",
      "Epoch 100/150\n",
      "768/768 [==============================] - 0s 27us/sample - loss: 0.5813 - accuracy: 0.7122\n",
      "Epoch 101/150\n",
      "768/768 [==============================] - 0s 29us/sample - loss: 0.5891 - accuracy: 0.6992\n",
      "Epoch 102/150\n",
      "768/768 [==============================] - 0s 31us/sample - loss: 0.5831 - accuracy: 0.7083\n",
      "Epoch 103/150\n",
      "768/768 [==============================] - 0s 31us/sample - loss: 0.5847 - accuracy: 0.7005\n",
      "Epoch 104/150\n",
      "768/768 [==============================] - 0s 29us/sample - loss: 0.5831 - accuracy: 0.7174\n",
      "Epoch 105/150\n",
      "768/768 [==============================] - 0s 30us/sample - loss: 0.5852 - accuracy: 0.7083\n",
      "Epoch 106/150\n",
      "768/768 [==============================] - 0s 31us/sample - loss: 0.5821 - accuracy: 0.7096\n",
      "Epoch 107/150\n",
      "768/768 [==============================] - 0s 27us/sample - loss: 0.5807 - accuracy: 0.7148\n",
      "Epoch 108/150\n",
      "768/768 [==============================] - 0s 30us/sample - loss: 0.5823 - accuracy: 0.7031\n",
      "Epoch 109/150\n",
      "768/768 [==============================] - 0s 29us/sample - loss: 0.5836 - accuracy: 0.7070\n",
      "Epoch 110/150\n",
      "768/768 [==============================] - 0s 29us/sample - loss: 0.5805 - accuracy: 0.7096\n",
      "Epoch 111/150\n",
      "768/768 [==============================] - 0s 31us/sample - loss: 0.5795 - accuracy: 0.7057\n",
      "Epoch 112/150\n",
      "768/768 [==============================] - 0s 31us/sample - loss: 0.5829 - accuracy: 0.7201\n",
      "Epoch 113/150\n",
      "768/768 [==============================] - 0s 29us/sample - loss: 0.5887 - accuracy: 0.7148\n",
      "Epoch 114/150\n",
      "768/768 [==============================] - 0s 30us/sample - loss: 0.5813 - accuracy: 0.7057\n",
      "Epoch 115/150\n",
      "768/768 [==============================] - 0s 29us/sample - loss: 0.5794 - accuracy: 0.7070\n",
      "Epoch 116/150\n",
      "768/768 [==============================] - 0s 27us/sample - loss: 0.5833 - accuracy: 0.7188\n",
      "Epoch 117/150\n",
      "768/768 [==============================] - 0s 30us/sample - loss: 0.5779 - accuracy: 0.7148\n",
      "Epoch 118/150\n",
      "768/768 [==============================] - 0s 27us/sample - loss: 0.5825 - accuracy: 0.7083\n",
      "Epoch 119/150\n",
      "768/768 [==============================] - 0s 30us/sample - loss: 0.5800 - accuracy: 0.7083\n",
      "Epoch 120/150\n",
      "768/768 [==============================] - 0s 31us/sample - loss: 0.5816 - accuracy: 0.7109\n",
      "Epoch 121/150\n",
      "768/768 [==============================] - 0s 29us/sample - loss: 0.5814 - accuracy: 0.7109\n",
      "Epoch 122/150\n",
      "768/768 [==============================] - 0s 30us/sample - loss: 0.5940 - accuracy: 0.6966\n",
      "Epoch 123/150\n",
      "768/768 [==============================] - 0s 29us/sample - loss: 0.5799 - accuracy: 0.7031\n",
      "Epoch 124/150\n",
      "768/768 [==============================] - 0s 25us/sample - loss: 0.5808 - accuracy: 0.7122\n",
      "Epoch 125/150\n",
      "768/768 [==============================] - 0s 30us/sample - loss: 0.5759 - accuracy: 0.7161\n",
      "Epoch 126/150\n",
      "768/768 [==============================] - 0s 33us/sample - loss: 0.5784 - accuracy: 0.7135\n",
      "Epoch 127/150\n",
      "768/768 [==============================] - 0s 30us/sample - loss: 0.5732 - accuracy: 0.7122\n",
      "Epoch 128/150\n",
      "768/768 [==============================] - 0s 29us/sample - loss: 0.5842 - accuracy: 0.7122\n",
      "Epoch 129/150\n",
      "768/768 [==============================] - 0s 33us/sample - loss: 0.5890 - accuracy: 0.7018\n",
      "Epoch 130/150\n",
      "768/768 [==============================] - 0s 29us/sample - loss: 0.5792 - accuracy: 0.7070\n",
      "Epoch 131/150\n",
      "768/768 [==============================] - 0s 33us/sample - loss: 0.5774 - accuracy: 0.6966\n",
      "Epoch 132/150\n",
      "768/768 [==============================] - 0s 30us/sample - loss: 0.5763 - accuracy: 0.7161\n",
      "Epoch 133/150\n",
      "768/768 [==============================] - 0s 30us/sample - loss: 0.5854 - accuracy: 0.6888\n",
      "Epoch 134/150\n",
      "768/768 [==============================] - 0s 29us/sample - loss: 0.5833 - accuracy: 0.6992\n",
      "Epoch 135/150\n",
      "768/768 [==============================] - 0s 29us/sample - loss: 0.5728 - accuracy: 0.7188\n",
      "Epoch 136/150\n",
      "768/768 [==============================] - 0s 29us/sample - loss: 0.5808 - accuracy: 0.7161\n",
      "Epoch 137/150\n",
      "768/768 [==============================] - 0s 33us/sample - loss: 0.5874 - accuracy: 0.7031\n",
      "Epoch 138/150\n",
      "768/768 [==============================] - 0s 30us/sample - loss: 0.5808 - accuracy: 0.7109\n",
      "Epoch 139/150\n",
      "768/768 [==============================] - 0s 27us/sample - loss: 0.5895 - accuracy: 0.6979\n",
      "Epoch 140/150\n",
      "768/768 [==============================] - 0s 29us/sample - loss: 0.5755 - accuracy: 0.7031\n",
      "Epoch 141/150\n",
      "768/768 [==============================] - 0s 27us/sample - loss: 0.5867 - accuracy: 0.7044\n",
      "Epoch 142/150\n",
      "768/768 [==============================] - 0s 29us/sample - loss: 0.5777 - accuracy: 0.7122\n",
      "Epoch 143/150\n",
      "768/768 [==============================] - 0s 30us/sample - loss: 0.5770 - accuracy: 0.7070\n",
      "Epoch 144/150\n",
      "768/768 [==============================] - 0s 29us/sample - loss: 0.5697 - accuracy: 0.7135\n",
      "Epoch 145/150\n",
      "768/768 [==============================] - 0s 29us/sample - loss: 0.5737 - accuracy: 0.7161\n",
      "Epoch 146/150\n",
      "768/768 [==============================] - 0s 33us/sample - loss: 0.5807 - accuracy: 0.7044\n",
      "Epoch 147/150\n",
      "768/768 [==============================] - 0s 30us/sample - loss: 0.5705 - accuracy: 0.7070\n",
      "Epoch 148/150\n",
      "768/768 [==============================] - 0s 30us/sample - loss: 0.5750 - accuracy: 0.7188\n",
      "Epoch 149/150\n",
      "768/768 [==============================] - 0s 27us/sample - loss: 0.5707 - accuracy: 0.7135\n",
      "Epoch 150/150\n",
      "768/768 [==============================] - 0s 31us/sample - loss: 0.5716 - accuracy: 0.7161\n"
     ]
    },
    {
     "data": {
      "text/plain": [
       "<tensorflow.python.keras.callbacks.History at 0x1dfa65bc488>"
      ]
     },
     "execution_count": 12,
     "metadata": {},
     "output_type": "execute_result"
    }
   ],
   "source": [
    "model.fit(X, y, epochs=150)"
   ]
  },
  {
   "cell_type": "code",
   "execution_count": 13,
   "metadata": {},
   "outputs": [
    {
     "data": {
      "text/plain": [
       "(768,)"
      ]
     },
     "execution_count": 13,
     "metadata": {},
     "output_type": "execute_result"
    }
   ],
   "source": [
    "y.shape"
   ]
  },
  {
   "cell_type": "markdown",
   "metadata": {},
   "source": [
    "### Evaluate Model"
   ]
  },
  {
   "cell_type": "code",
   "execution_count": 14,
   "metadata": {},
   "outputs": [
    {
     "data": {
      "text/plain": [
       "array([1., 0., 1., 0., 1., 0., 1., 0., 1., 1., 0., 1., 0., 1., 1., 1., 1.,\n",
       "       1., 0., 1., 0., 0., 1., 1., 1., 1., 1., 0., 0., 0., 0., 1., 0., 0.,\n",
       "       0., 0., 0., 1., 1., 1., 0., 0., 0., 1., 0., 1., 0., 0., 1., 0.])"
      ]
     },
     "execution_count": 14,
     "metadata": {},
     "output_type": "execute_result"
    }
   ],
   "source": [
    "y[:50]"
   ]
  },
  {
   "cell_type": "code",
   "execution_count": 15,
   "metadata": {},
   "outputs": [
    {
     "data": {
      "text/plain": [
       "0.3489583333333333"
      ]
     },
     "execution_count": 15,
     "metadata": {},
     "output_type": "execute_result"
    }
   ],
   "source": [
    "# Predicting never diabetes\n",
    "sum(y) / len(y) "
   ]
  },
  {
   "cell_type": "code",
   "execution_count": 16,
   "metadata": {},
   "outputs": [
    {
     "name": "stdout",
     "output_type": "stream",
     "text": [
      "768/768 [==============================] - 0s 142us/sample - loss: 0.5678 - accuracy: 0.7188\n",
      "accuracy: 71.875\n"
     ]
    }
   ],
   "source": [
    "scores = model.evaluate(X,y)\n",
    "print(f\"{model.metrics_names[1]}: {scores[1]*100}\")"
   ]
  },
  {
   "cell_type": "markdown",
   "metadata": {
    "colab_type": "text",
    "id": "zHYB7k9q3O8T"
   },
   "source": [
    "### Unstable Results\n",
    "\n",
    "You'll notice that if we rerun the results might differ from the origin run. This can be explain by a bunch of factors. Check out some of them in this article: \n",
    "\n",
    "<https://machinelearningmastery.com/randomness-in-machine-learning/>"
   ]
  },
  {
   "cell_type": "markdown",
   "metadata": {},
   "source": [
    "## Challenge\n",
    "\n",
    "You will be expected to leverage the Keras `Sequential`api to estimate a feed forward neural networks on a dataset."
   ]
  },
  {
   "cell_type": "markdown",
   "metadata": {
    "colab_type": "text",
    "id": "ueDVpctAzvy8"
   },
   "source": [
    "# Choosing Architecture (Learn)"
   ]
  },
  {
   "cell_type": "markdown",
   "metadata": {},
   "source": [
    "## Overview\n",
    "\n",
    "Choosing an architecture for a neural network is almost more an art than a science. Let's do a few experiments:"
   ]
  },
  {
   "cell_type": "markdown",
   "metadata": {},
   "source": [
    "## Follow Along"
   ]
  },
  {
   "cell_type": "code",
   "execution_count": 17,
   "metadata": {
    "colab": {},
    "colab_type": "code",
    "id": "6W2Sc7-LzQo_"
   },
   "outputs": [
    {
     "name": "stdout",
     "output_type": "stream",
     "text": [
      "Model: \"3LayerJunk\"\n",
      "_________________________________________________________________\n",
      "Layer (type)                 Output Shape              Param #   \n",
      "=================================================================\n",
      "Dense1 (Dense)               (None, 4)                 36        \n",
      "_________________________________________________________________\n",
      "dense_2 (Dense)              (None, 3)                 15        \n",
      "_________________________________________________________________\n",
      "dense_3 (Dense)              (None, 1)                 4         \n",
      "=================================================================\n",
      "Total params: 55\n",
      "Trainable params: 55\n",
      "Non-trainable params: 0\n",
      "_________________________________________________________________\n"
     ]
    }
   ],
   "source": [
    "# Tell me your ideas\n",
    "\n",
    "model_improved = Sequential(name=\"3LayerJunk\")\n",
    "\n",
    "model_improved.add(Dense(4, input_dim=8, activation='relu', name=\"Dense1\"))\n",
    "model_improved.add(Dense(3, activation='sigmoid'))\n",
    "model_improved.add(Dense(1, activation='sigmoid'))\n",
    "\n",
    "model_improved.compile(loss='binary_crossentropy', optimizer='adam',\n",
    "              metrics=['accuracy'])\n",
    "\n",
    "# Let's inspect our new architecture\n",
    "model_improved.summary()"
   ]
  },
  {
   "cell_type": "code",
   "execution_count": 18,
   "metadata": {},
   "outputs": [
    {
     "data": {
      "text/plain": [
       "<tensorflow.python.keras.callbacks.History at 0x1dfa66cdec8>"
      ]
     },
     "execution_count": 18,
     "metadata": {},
     "output_type": "execute_result"
    }
   ],
   "source": [
    "model_improved.fit(X, y, epochs=150, verbose=False) # What parameters can I specify here?"
   ]
  },
  {
   "cell_type": "code",
   "execution_count": 19,
   "metadata": {},
   "outputs": [
    {
     "name": "stdout",
     "output_type": "stream",
     "text": [
      "768/768 [==============================] - 0s 105us/sample - loss: 0.6468 - accuracy: 0.6510\n",
      "accuracy: 65.10416865348816\n"
     ]
    }
   ],
   "source": [
    "scores = model_improved.evaluate(X,y)\n",
    "print(f\"{model_improved.metrics_names[1]}: {scores[1]*100}\")"
   ]
  },
  {
   "cell_type": "markdown",
   "metadata": {},
   "source": [
    "### Experiment with 1 Additional Layer & Change Activation F(x)s"
   ]
  },
  {
   "cell_type": "code",
   "execution_count": 20,
   "metadata": {},
   "outputs": [
    {
     "name": "stdout",
     "output_type": "stream",
     "text": [
      "Model: \"4LayerJunk\"\n",
      "_________________________________________________________________\n",
      "Layer (type)                 Output Shape              Param #   \n",
      "=================================================================\n",
      "Dense1 (Dense)               (None, 4)                 36        \n",
      "_________________________________________________________________\n",
      "dense_4 (Dense)              (None, 3)                 15        \n",
      "_________________________________________________________________\n",
      "dense_5 (Dense)              (None, 3)                 12        \n",
      "_________________________________________________________________\n",
      "dense_6 (Dense)              (None, 1)                 4         \n",
      "=================================================================\n",
      "Total params: 67\n",
      "Trainable params: 67\n",
      "Non-trainable params: 0\n",
      "_________________________________________________________________\n"
     ]
    }
   ],
   "source": [
    "# Tell me your ideas\n",
    "\n",
    "model_improved = Sequential(name=\"4LayerJunk\")\n",
    "\n",
    "model_improved.add(Dense(4, input_dim=8, activation='relu', name=\"Dense1\"))\n",
    "model_improved.add(Dense(3, activation='relu'))\n",
    "model_improved.add(Dense(3, activation='relu'))\n",
    "model_improved.add(Dense(1, activation='sigmoid'))\n",
    "\n",
    "model_improved.compile(loss='binary_crossentropy', optimizer='adam',\n",
    "              metrics=['accuracy'])\n",
    "\n",
    "# Let's inspect our new architecture\n",
    "model_improved.summary()"
   ]
  },
  {
   "cell_type": "code",
   "execution_count": 21,
   "metadata": {},
   "outputs": [
    {
     "data": {
      "text/plain": [
       "<tensorflow.python.keras.callbacks.History at 0x1dfa78b2348>"
      ]
     },
     "execution_count": 21,
     "metadata": {},
     "output_type": "execute_result"
    }
   ],
   "source": [
    "model_improved.fit(X,y, epochs=250, verbose=False)"
   ]
  },
  {
   "cell_type": "code",
   "execution_count": 22,
   "metadata": {},
   "outputs": [
    {
     "name": "stdout",
     "output_type": "stream",
     "text": [
      "768/768 [==============================] - 0s 116us/sample - loss: 0.6221 - accuracy: 0.6862\n"
     ]
    },
    {
     "data": {
      "text/plain": [
       "[0.6220782759288946, 0.68619794]"
      ]
     },
     "execution_count": 22,
     "metadata": {},
     "output_type": "execute_result"
    }
   ],
   "source": [
    "model_improved.evaluate(X,y)\n",
    "#print(f\"{model_improved.metrics_names[1]}: {scores[1]*100}\")"
   ]
  },
  {
   "cell_type": "markdown",
   "metadata": {},
   "source": [
    "### New Experiment with Identical Neuron Numbers"
   ]
  },
  {
   "cell_type": "code",
   "execution_count": 23,
   "metadata": {},
   "outputs": [
    {
     "name": "stdout",
     "output_type": "stream",
     "text": [
      "Model: \"EvenNuerons4LayerJunk\"\n",
      "_________________________________________________________________\n",
      "Layer (type)                 Output Shape              Param #   \n",
      "=================================================================\n",
      "Dense1 (Dense)               (None, 8)                 72        \n",
      "_________________________________________________________________\n",
      "dense_7 (Dense)              (None, 8)                 72        \n",
      "_________________________________________________________________\n",
      "dense_8 (Dense)              (None, 8)                 72        \n",
      "_________________________________________________________________\n",
      "dense_9 (Dense)              (None, 1)                 9         \n",
      "=================================================================\n",
      "Total params: 225\n",
      "Trainable params: 225\n",
      "Non-trainable params: 0\n",
      "_________________________________________________________________\n"
     ]
    }
   ],
   "source": [
    "# Tell me your ideas\n",
    "\n",
    "model_improved = Sequential(name=\"EvenNuerons4LayerJunk\")\n",
    "\n",
    "model_improved.add(Dense(8, input_dim=8, activation='relu', name=\"Dense1\"))\n",
    "model_improved.add(Dense(8, activation='relu'))\n",
    "model_improved.add(Dense(8, activation='relu'))\n",
    "model_improved.add(Dense(1, activation='sigmoid'))\n",
    "\n",
    "model_improved.compile(loss='binary_crossentropy', optimizer='adam',\n",
    "              metrics=['accuracy'])\n",
    "\n",
    "# Let's inspect our new architecture\n",
    "model_improved.summary()"
   ]
  },
  {
   "cell_type": "code",
   "execution_count": 24,
   "metadata": {},
   "outputs": [
    {
     "name": "stdout",
     "output_type": "stream",
     "text": [
      "Train on 691 samples, validate on 77 samples\n",
      "Epoch 1/250\n",
      "691/691 [==============================] - 0s 543us/sample - loss: 2.3757 - accuracy: 0.4544 - val_loss: 1.9181 - val_accuracy: 0.5195\n",
      "Epoch 2/250\n",
      "691/691 [==============================] - 0s 56us/sample - loss: 1.3265 - accuracy: 0.4761 - val_loss: 1.2947 - val_accuracy: 0.4675\n",
      "Epoch 3/250\n",
      "691/691 [==============================] - 0s 55us/sample - loss: 1.0618 - accuracy: 0.5051 - val_loss: 1.1350 - val_accuracy: 0.4156\n",
      "Epoch 4/250\n",
      "691/691 [==============================] - 0s 55us/sample - loss: 0.9537 - accuracy: 0.5384 - val_loss: 1.0291 - val_accuracy: 0.4545\n",
      "Epoch 5/250\n",
      "691/691 [==============================] - 0s 52us/sample - loss: 0.8687 - accuracy: 0.5253 - val_loss: 0.9875 - val_accuracy: 0.4675\n",
      "Epoch 6/250\n",
      "691/691 [==============================] - 0s 43us/sample - loss: 0.8028 - accuracy: 0.5485 - val_loss: 0.9238 - val_accuracy: 0.4286\n",
      "Epoch 7/250\n",
      "691/691 [==============================] - 0s 42us/sample - loss: 0.7580 - accuracy: 0.6078 - val_loss: 0.9023 - val_accuracy: 0.4416\n",
      "Epoch 8/250\n",
      "691/691 [==============================] - 0s 43us/sample - loss: 0.7240 - accuracy: 0.5991 - val_loss: 0.8556 - val_accuracy: 0.4416\n",
      "Epoch 9/250\n",
      "691/691 [==============================] - 0s 45us/sample - loss: 0.6934 - accuracy: 0.6237 - val_loss: 0.8199 - val_accuracy: 0.5065\n",
      "Epoch 10/250\n",
      "691/691 [==============================] - 0s 43us/sample - loss: 0.6822 - accuracy: 0.6194 - val_loss: 0.8079 - val_accuracy: 0.4286\n",
      "Epoch 11/250\n",
      "691/691 [==============================] - 0s 42us/sample - loss: 0.6714 - accuracy: 0.6310 - val_loss: 0.8424 - val_accuracy: 0.5455\n",
      "Epoch 12/250\n",
      "691/691 [==============================] - 0s 49us/sample - loss: 0.6644 - accuracy: 0.6512 - val_loss: 0.8301 - val_accuracy: 0.5455\n",
      "Epoch 13/250\n",
      "691/691 [==============================] - 0s 55us/sample - loss: 0.6654 - accuracy: 0.6223 - val_loss: 0.8513 - val_accuracy: 0.5714\n",
      "Epoch 14/250\n",
      "691/691 [==============================] - 0s 45us/sample - loss: 0.6479 - accuracy: 0.6671 - val_loss: 0.8081 - val_accuracy: 0.5584\n",
      "Epoch 15/250\n",
      "691/691 [==============================] - 0s 46us/sample - loss: 0.6431 - accuracy: 0.6918 - val_loss: 0.8139 - val_accuracy: 0.5714\n",
      "Epoch 16/250\n",
      "691/691 [==============================] - 0s 48us/sample - loss: 0.6453 - accuracy: 0.6628 - val_loss: 0.7673 - val_accuracy: 0.5195\n",
      "Epoch 17/250\n",
      "691/691 [==============================] - 0s 48us/sample - loss: 0.6337 - accuracy: 0.6715 - val_loss: 0.7626 - val_accuracy: 0.5844\n",
      "Epoch 18/250\n",
      "691/691 [==============================] - 0s 48us/sample - loss: 0.6240 - accuracy: 0.6816 - val_loss: 0.7647 - val_accuracy: 0.5844\n",
      "Epoch 19/250\n",
      "691/691 [==============================] - 0s 42us/sample - loss: 0.6305 - accuracy: 0.6860 - val_loss: 0.7491 - val_accuracy: 0.5584\n",
      "Epoch 20/250\n",
      "691/691 [==============================] - 0s 43us/sample - loss: 0.6194 - accuracy: 0.6860 - val_loss: 0.7737 - val_accuracy: 0.6104\n",
      "Epoch 21/250\n",
      "691/691 [==============================] - 0s 42us/sample - loss: 0.6359 - accuracy: 0.6802 - val_loss: 0.7619 - val_accuracy: 0.5974\n",
      "Epoch 22/250\n",
      "691/691 [==============================] - 0s 45us/sample - loss: 0.6232 - accuracy: 0.6802 - val_loss: 0.7533 - val_accuracy: 0.5455\n",
      "Epoch 23/250\n",
      "691/691 [==============================] - 0s 39us/sample - loss: 0.6131 - accuracy: 0.6990 - val_loss: 0.7179 - val_accuracy: 0.4805\n",
      "Epoch 24/250\n",
      "691/691 [==============================] - 0s 45us/sample - loss: 0.6100 - accuracy: 0.6903 - val_loss: 0.7676 - val_accuracy: 0.6104\n",
      "Epoch 25/250\n",
      "691/691 [==============================] - 0s 48us/sample - loss: 0.6018 - accuracy: 0.6874 - val_loss: 0.7156 - val_accuracy: 0.5974\n",
      "Epoch 26/250\n",
      "691/691 [==============================] - 0s 46us/sample - loss: 0.5976 - accuracy: 0.7106 - val_loss: 0.7451 - val_accuracy: 0.5974\n",
      "Epoch 27/250\n",
      "691/691 [==============================] - 0s 45us/sample - loss: 0.5977 - accuracy: 0.6932 - val_loss: 0.7509 - val_accuracy: 0.5974\n",
      "Epoch 28/250\n",
      "691/691 [==============================] - 0s 54us/sample - loss: 0.5993 - accuracy: 0.7033 - val_loss: 0.7104 - val_accuracy: 0.5455\n",
      "Epoch 29/250\n",
      "691/691 [==============================] - 0s 56us/sample - loss: 0.5960 - accuracy: 0.7048 - val_loss: 0.7605 - val_accuracy: 0.5325\n",
      "Epoch 30/250\n",
      "691/691 [==============================] - 0s 46us/sample - loss: 0.6003 - accuracy: 0.7019 - val_loss: 0.7018 - val_accuracy: 0.5714\n",
      "Epoch 31/250\n",
      "691/691 [==============================] - 0s 43us/sample - loss: 0.5981 - accuracy: 0.6975 - val_loss: 0.7504 - val_accuracy: 0.5974\n",
      "Epoch 32/250\n",
      "691/691 [==============================] - 0s 42us/sample - loss: 0.5933 - accuracy: 0.7164 - val_loss: 0.7260 - val_accuracy: 0.5844\n",
      "Epoch 33/250\n",
      "691/691 [==============================] - 0s 41us/sample - loss: 0.5853 - accuracy: 0.7164 - val_loss: 0.7172 - val_accuracy: 0.5974\n",
      "Epoch 34/250\n",
      "691/691 [==============================] - 0s 42us/sample - loss: 0.5923 - accuracy: 0.7033 - val_loss: 0.7105 - val_accuracy: 0.5844\n",
      "Epoch 35/250\n",
      "691/691 [==============================] - 0s 49us/sample - loss: 0.5970 - accuracy: 0.6961 - val_loss: 0.7674 - val_accuracy: 0.5844\n",
      "Epoch 36/250\n",
      "691/691 [==============================] - 0s 42us/sample - loss: 0.5936 - accuracy: 0.7091 - val_loss: 0.6908 - val_accuracy: 0.6104\n",
      "Epoch 37/250\n",
      "691/691 [==============================] - 0s 49us/sample - loss: 0.5872 - accuracy: 0.6975 - val_loss: 0.7514 - val_accuracy: 0.5714\n",
      "Epoch 38/250\n",
      "691/691 [==============================] - 0s 43us/sample - loss: 0.5918 - accuracy: 0.7004 - val_loss: 0.7983 - val_accuracy: 0.5325\n",
      "Epoch 39/250\n",
      "691/691 [==============================] - 0s 43us/sample - loss: 0.6136 - accuracy: 0.6614 - val_loss: 0.7793 - val_accuracy: 0.5584\n",
      "Epoch 40/250\n",
      "691/691 [==============================] - 0s 41us/sample - loss: 0.5921 - accuracy: 0.7062 - val_loss: 0.6881 - val_accuracy: 0.6104\n",
      "Epoch 41/250\n",
      "691/691 [==============================] - 0s 42us/sample - loss: 0.6016 - accuracy: 0.6874 - val_loss: 0.7686 - val_accuracy: 0.5714\n",
      "Epoch 42/250\n",
      "691/691 [==============================] - 0s 45us/sample - loss: 0.5808 - accuracy: 0.7135 - val_loss: 0.7015 - val_accuracy: 0.5714\n",
      "Epoch 43/250\n",
      "691/691 [==============================] - 0s 45us/sample - loss: 0.5738 - accuracy: 0.7048 - val_loss: 0.7051 - val_accuracy: 0.5974\n",
      "Epoch 44/250\n",
      "691/691 [==============================] - 0s 45us/sample - loss: 0.5904 - accuracy: 0.7062 - val_loss: 0.7090 - val_accuracy: 0.5974\n",
      "Epoch 45/250\n",
      "691/691 [==============================] - 0s 43us/sample - loss: 0.5762 - accuracy: 0.7048 - val_loss: 0.7013 - val_accuracy: 0.5974\n",
      "Epoch 46/250\n",
      "691/691 [==============================] - 0s 39us/sample - loss: 0.5810 - accuracy: 0.7178 - val_loss: 0.7023 - val_accuracy: 0.5974\n",
      "Epoch 47/250\n",
      "691/691 [==============================] - 0s 43us/sample - loss: 0.5833 - accuracy: 0.7077 - val_loss: 0.7145 - val_accuracy: 0.5974\n",
      "Epoch 48/250\n",
      "691/691 [==============================] - 0s 46us/sample - loss: 0.5861 - accuracy: 0.6975 - val_loss: 0.6901 - val_accuracy: 0.5974\n",
      "Epoch 49/250\n",
      "691/691 [==============================] - 0s 48us/sample - loss: 0.5809 - accuracy: 0.7048 - val_loss: 0.7070 - val_accuracy: 0.5844\n",
      "Epoch 50/250\n",
      "691/691 [==============================] - 0s 45us/sample - loss: 0.5711 - accuracy: 0.7106 - val_loss: 0.6915 - val_accuracy: 0.6104\n",
      "Epoch 51/250\n",
      "691/691 [==============================] - 0s 48us/sample - loss: 0.5718 - accuracy: 0.7323 - val_loss: 0.7536 - val_accuracy: 0.5584\n",
      "Epoch 52/250\n",
      "691/691 [==============================] - 0s 42us/sample - loss: 0.6029 - accuracy: 0.6816 - val_loss: 0.6987 - val_accuracy: 0.5844\n",
      "Epoch 53/250\n",
      "691/691 [==============================] - 0s 43us/sample - loss: 0.5655 - accuracy: 0.7135 - val_loss: 0.6773 - val_accuracy: 0.6234\n",
      "Epoch 54/250\n",
      "691/691 [==============================] - 0s 46us/sample - loss: 0.5810 - accuracy: 0.7207 - val_loss: 0.7333 - val_accuracy: 0.5974\n",
      "Epoch 55/250\n",
      "691/691 [==============================] - 0s 51us/sample - loss: 0.5865 - accuracy: 0.7149 - val_loss: 0.7458 - val_accuracy: 0.5714\n",
      "Epoch 56/250\n",
      "691/691 [==============================] - 0s 45us/sample - loss: 0.5774 - accuracy: 0.6903 - val_loss: 0.6985 - val_accuracy: 0.5844\n",
      "Epoch 57/250\n",
      "691/691 [==============================] - 0s 48us/sample - loss: 0.5597 - accuracy: 0.7265 - val_loss: 0.6830 - val_accuracy: 0.5974\n",
      "Epoch 58/250\n",
      "691/691 [==============================] - 0s 48us/sample - loss: 0.5642 - accuracy: 0.7250 - val_loss: 0.7243 - val_accuracy: 0.5844\n",
      "Epoch 59/250\n",
      "691/691 [==============================] - 0s 45us/sample - loss: 0.5714 - accuracy: 0.7149 - val_loss: 0.7102 - val_accuracy: 0.6104\n",
      "Epoch 60/250\n",
      "691/691 [==============================] - 0s 49us/sample - loss: 0.5614 - accuracy: 0.7265 - val_loss: 0.6869 - val_accuracy: 0.6364\n",
      "Epoch 61/250\n",
      "691/691 [==============================] - 0s 48us/sample - loss: 0.5648 - accuracy: 0.7279 - val_loss: 0.7031 - val_accuracy: 0.5844\n",
      "Epoch 62/250\n",
      "691/691 [==============================] - 0s 45us/sample - loss: 0.5854 - accuracy: 0.7106 - val_loss: 0.7155 - val_accuracy: 0.5974\n",
      "Epoch 63/250\n",
      "691/691 [==============================] - 0s 42us/sample - loss: 0.5754 - accuracy: 0.7192 - val_loss: 0.6682 - val_accuracy: 0.6753\n",
      "Epoch 64/250\n",
      "691/691 [==============================] - 0s 42us/sample - loss: 0.5657 - accuracy: 0.7250 - val_loss: 0.6853 - val_accuracy: 0.5844\n",
      "Epoch 65/250\n",
      "691/691 [==============================] - 0s 46us/sample - loss: 0.5562 - accuracy: 0.7250 - val_loss: 0.7069 - val_accuracy: 0.5714\n",
      "Epoch 66/250\n",
      "691/691 [==============================] - 0s 39us/sample - loss: 0.5566 - accuracy: 0.7221 - val_loss: 0.7013 - val_accuracy: 0.5844\n",
      "Epoch 67/250\n",
      "691/691 [==============================] - 0s 43us/sample - loss: 0.5630 - accuracy: 0.7236 - val_loss: 0.7176 - val_accuracy: 0.6104\n",
      "Epoch 68/250\n",
      "691/691 [==============================] - 0s 45us/sample - loss: 0.5698 - accuracy: 0.7279 - val_loss: 0.6668 - val_accuracy: 0.6623\n",
      "Epoch 69/250\n",
      "691/691 [==============================] - 0s 46us/sample - loss: 0.5565 - accuracy: 0.7308 - val_loss: 0.7148 - val_accuracy: 0.5974\n",
      "Epoch 70/250\n",
      "691/691 [==============================] - 0s 43us/sample - loss: 0.5539 - accuracy: 0.7207 - val_loss: 0.6692 - val_accuracy: 0.6364\n",
      "Epoch 71/250\n",
      "691/691 [==============================] - 0s 42us/sample - loss: 0.5482 - accuracy: 0.7323 - val_loss: 0.6990 - val_accuracy: 0.5974\n",
      "Epoch 72/250\n",
      "691/691 [==============================] - 0s 41us/sample - loss: 0.5616 - accuracy: 0.7207 - val_loss: 0.6904 - val_accuracy: 0.6234\n",
      "Epoch 73/250\n",
      "691/691 [==============================] - 0s 43us/sample - loss: 0.5723 - accuracy: 0.7164 - val_loss: 0.6754 - val_accuracy: 0.6104\n",
      "Epoch 74/250\n",
      "691/691 [==============================] - 0s 43us/sample - loss: 0.5606 - accuracy: 0.7323 - val_loss: 0.6724 - val_accuracy: 0.6104\n",
      "Epoch 75/250\n",
      "691/691 [==============================] - 0s 51us/sample - loss: 0.5579 - accuracy: 0.7236 - val_loss: 0.6800 - val_accuracy: 0.5844\n",
      "Epoch 76/250\n",
      "691/691 [==============================] - 0s 45us/sample - loss: 0.5468 - accuracy: 0.7410 - val_loss: 0.6867 - val_accuracy: 0.5974\n",
      "Epoch 77/250\n",
      "691/691 [==============================] - 0s 48us/sample - loss: 0.5713 - accuracy: 0.7004 - val_loss: 0.7295 - val_accuracy: 0.6494\n",
      "Epoch 78/250\n",
      "691/691 [==============================] - 0s 41us/sample - loss: 0.5625 - accuracy: 0.7323 - val_loss: 0.6767 - val_accuracy: 0.6234\n",
      "Epoch 79/250\n",
      "691/691 [==============================] - 0s 43us/sample - loss: 0.5458 - accuracy: 0.7410 - val_loss: 0.6629 - val_accuracy: 0.6494\n",
      "Epoch 80/250\n",
      "691/691 [==============================] - 0s 45us/sample - loss: 0.5469 - accuracy: 0.7438 - val_loss: 0.6776 - val_accuracy: 0.6104\n",
      "Epoch 81/250\n",
      "691/691 [==============================] - 0s 45us/sample - loss: 0.5439 - accuracy: 0.7381 - val_loss: 0.6736 - val_accuracy: 0.5974\n",
      "Epoch 82/250\n",
      "691/691 [==============================] - 0s 45us/sample - loss: 0.5405 - accuracy: 0.7410 - val_loss: 0.6553 - val_accuracy: 0.6753\n",
      "Epoch 83/250\n",
      "691/691 [==============================] - 0s 49us/sample - loss: 0.5478 - accuracy: 0.7410 - val_loss: 0.6891 - val_accuracy: 0.5974\n",
      "Epoch 84/250\n",
      "691/691 [==============================] - 0s 48us/sample - loss: 0.5508 - accuracy: 0.7410 - val_loss: 0.6628 - val_accuracy: 0.6234\n",
      "Epoch 85/250\n",
      "691/691 [==============================] - 0s 49us/sample - loss: 0.5389 - accuracy: 0.7482 - val_loss: 0.7114 - val_accuracy: 0.5844\n",
      "Epoch 86/250\n",
      "691/691 [==============================] - 0s 49us/sample - loss: 0.5427 - accuracy: 0.7496 - val_loss: 0.6508 - val_accuracy: 0.6753\n",
      "Epoch 87/250\n",
      "691/691 [==============================] - 0s 41us/sample - loss: 0.5423 - accuracy: 0.7395 - val_loss: 0.6549 - val_accuracy: 0.6623\n",
      "Epoch 88/250\n",
      "691/691 [==============================] - 0s 42us/sample - loss: 0.5403 - accuracy: 0.7511 - val_loss: 0.6619 - val_accuracy: 0.6234\n",
      "Epoch 89/250\n",
      "691/691 [==============================] - 0s 42us/sample - loss: 0.5396 - accuracy: 0.7323 - val_loss: 0.6794 - val_accuracy: 0.5974\n",
      "Epoch 90/250\n",
      "691/691 [==============================] - 0s 42us/sample - loss: 0.5383 - accuracy: 0.7453 - val_loss: 0.6548 - val_accuracy: 0.6364\n",
      "Epoch 91/250\n",
      "691/691 [==============================] - 0s 45us/sample - loss: 0.5534 - accuracy: 0.7279 - val_loss: 0.7083 - val_accuracy: 0.6234\n",
      "Epoch 92/250\n",
      "691/691 [==============================] - 0s 45us/sample - loss: 0.5571 - accuracy: 0.7265 - val_loss: 0.6612 - val_accuracy: 0.6234\n",
      "Epoch 93/250\n",
      "691/691 [==============================] - 0s 41us/sample - loss: 0.5481 - accuracy: 0.7294 - val_loss: 0.6621 - val_accuracy: 0.6494\n",
      "Epoch 94/250\n",
      "691/691 [==============================] - 0s 42us/sample - loss: 0.5609 - accuracy: 0.7265 - val_loss: 0.6548 - val_accuracy: 0.6234\n",
      "Epoch 95/250\n",
      "691/691 [==============================] - 0s 45us/sample - loss: 0.5517 - accuracy: 0.7352 - val_loss: 0.6900 - val_accuracy: 0.5974\n",
      "Epoch 96/250\n",
      "691/691 [==============================] - 0s 46us/sample - loss: 0.5446 - accuracy: 0.7496 - val_loss: 0.7057 - val_accuracy: 0.5974\n",
      "Epoch 97/250\n",
      "691/691 [==============================] - 0s 48us/sample - loss: 0.5408 - accuracy: 0.7438 - val_loss: 0.6911 - val_accuracy: 0.5974\n",
      "Epoch 98/250\n",
      "691/691 [==============================] - 0s 49us/sample - loss: 0.5350 - accuracy: 0.7496 - val_loss: 0.6511 - val_accuracy: 0.6234\n",
      "Epoch 99/250\n",
      "691/691 [==============================] - 0s 42us/sample - loss: 0.5358 - accuracy: 0.7511 - val_loss: 0.6463 - val_accuracy: 0.6494\n",
      "Epoch 100/250\n",
      "691/691 [==============================] - 0s 39us/sample - loss: 0.5512 - accuracy: 0.7265 - val_loss: 0.6549 - val_accuracy: 0.6364\n",
      "Epoch 101/250\n",
      "691/691 [==============================] - 0s 46us/sample - loss: 0.5391 - accuracy: 0.7395 - val_loss: 0.6463 - val_accuracy: 0.6364\n",
      "Epoch 102/250\n",
      "691/691 [==============================] - 0s 52us/sample - loss: 0.5405 - accuracy: 0.7410 - val_loss: 0.6513 - val_accuracy: 0.6494\n",
      "Epoch 103/250\n",
      "691/691 [==============================] - 0s 49us/sample - loss: 0.5324 - accuracy: 0.7438 - val_loss: 0.6455 - val_accuracy: 0.6883\n",
      "Epoch 104/250\n",
      "691/691 [==============================] - 0s 45us/sample - loss: 0.5266 - accuracy: 0.7569 - val_loss: 0.6770 - val_accuracy: 0.6234\n",
      "Epoch 105/250\n",
      "691/691 [==============================] - 0s 46us/sample - loss: 0.5301 - accuracy: 0.7554 - val_loss: 0.7248 - val_accuracy: 0.5844\n",
      "Epoch 106/250\n",
      "691/691 [==============================] - 0s 46us/sample - loss: 0.5681 - accuracy: 0.7091 - val_loss: 0.6375 - val_accuracy: 0.7013\n",
      "Epoch 107/250\n",
      "691/691 [==============================] - 0s 43us/sample - loss: 0.5596 - accuracy: 0.7236 - val_loss: 0.6691 - val_accuracy: 0.6104\n",
      "Epoch 108/250\n",
      "691/691 [==============================] - 0s 48us/sample - loss: 0.5563 - accuracy: 0.7207 - val_loss: 0.6380 - val_accuracy: 0.6753\n",
      "Epoch 109/250\n",
      "691/691 [==============================] - 0s 46us/sample - loss: 0.5339 - accuracy: 0.7511 - val_loss: 0.6750 - val_accuracy: 0.6494\n",
      "Epoch 110/250\n",
      "691/691 [==============================] - 0s 41us/sample - loss: 0.5330 - accuracy: 0.7337 - val_loss: 0.6442 - val_accuracy: 0.6623\n",
      "Epoch 111/250\n",
      "691/691 [==============================] - 0s 49us/sample - loss: 0.5397 - accuracy: 0.7323 - val_loss: 0.6462 - val_accuracy: 0.6753\n",
      "Epoch 112/250\n",
      "691/691 [==============================] - 0s 43us/sample - loss: 0.5340 - accuracy: 0.7511 - val_loss: 0.6498 - val_accuracy: 0.6494\n",
      "Epoch 113/250\n",
      "691/691 [==============================] - 0s 42us/sample - loss: 0.5373 - accuracy: 0.7438 - val_loss: 0.6329 - val_accuracy: 0.6883\n",
      "Epoch 114/250\n",
      "691/691 [==============================] - 0s 48us/sample - loss: 0.5478 - accuracy: 0.7337 - val_loss: 0.6561 - val_accuracy: 0.6104\n",
      "Epoch 115/250\n",
      "691/691 [==============================] - 0s 49us/sample - loss: 0.5468 - accuracy: 0.7352 - val_loss: 0.6636 - val_accuracy: 0.6104\n",
      "Epoch 116/250\n",
      "691/691 [==============================] - 0s 46us/sample - loss: 0.5337 - accuracy: 0.7482 - val_loss: 0.6418 - val_accuracy: 0.6753\n",
      "Epoch 117/250\n",
      "691/691 [==============================] - 0s 45us/sample - loss: 0.5304 - accuracy: 0.7496 - val_loss: 0.6351 - val_accuracy: 0.6623\n",
      "Epoch 118/250\n",
      "691/691 [==============================] - 0s 43us/sample - loss: 0.5249 - accuracy: 0.7525 - val_loss: 0.6759 - val_accuracy: 0.6234\n",
      "Epoch 119/250\n",
      "691/691 [==============================] - 0s 42us/sample - loss: 0.5285 - accuracy: 0.7453 - val_loss: 0.6305 - val_accuracy: 0.7013\n",
      "Epoch 120/250\n",
      "691/691 [==============================] - 0s 48us/sample - loss: 0.5251 - accuracy: 0.7410 - val_loss: 0.6599 - val_accuracy: 0.6494\n",
      "Epoch 121/250\n",
      "691/691 [==============================] - 0s 48us/sample - loss: 0.5324 - accuracy: 0.7467 - val_loss: 0.6651 - val_accuracy: 0.6234\n",
      "Epoch 122/250\n",
      "691/691 [==============================] - 0s 43us/sample - loss: 0.5424 - accuracy: 0.7366 - val_loss: 0.6271 - val_accuracy: 0.6623\n",
      "Epoch 123/250\n",
      "691/691 [==============================] - 0s 43us/sample - loss: 0.5232 - accuracy: 0.7482 - val_loss: 0.6339 - val_accuracy: 0.6753\n",
      "Epoch 124/250\n",
      "691/691 [==============================] - 0s 51us/sample - loss: 0.5734 - accuracy: 0.7207 - val_loss: 0.6334 - val_accuracy: 0.6883\n",
      "Epoch 125/250\n",
      "691/691 [==============================] - 0s 48us/sample - loss: 0.5547 - accuracy: 0.7438 - val_loss: 0.6496 - val_accuracy: 0.6364\n",
      "Epoch 126/250\n",
      "691/691 [==============================] - 0s 39us/sample - loss: 0.5280 - accuracy: 0.7467 - val_loss: 0.6476 - val_accuracy: 0.6494\n",
      "Epoch 127/250\n",
      "691/691 [==============================] - 0s 45us/sample - loss: 0.5284 - accuracy: 0.7583 - val_loss: 0.6515 - val_accuracy: 0.6883\n",
      "Epoch 128/250\n",
      "691/691 [==============================] - 0s 45us/sample - loss: 0.5322 - accuracy: 0.7511 - val_loss: 0.6450 - val_accuracy: 0.6623\n",
      "Epoch 129/250\n",
      "691/691 [==============================] - 0s 45us/sample - loss: 0.5227 - accuracy: 0.7540 - val_loss: 0.6873 - val_accuracy: 0.6104\n",
      "Epoch 130/250\n",
      "691/691 [==============================] - 0s 42us/sample - loss: 0.5200 - accuracy: 0.7569 - val_loss: 0.6619 - val_accuracy: 0.6234\n",
      "Epoch 131/250\n",
      "691/691 [==============================] - 0s 46us/sample - loss: 0.5231 - accuracy: 0.7467 - val_loss: 0.6335 - val_accuracy: 0.6753\n",
      "Epoch 132/250\n",
      "691/691 [==============================] - 0s 43us/sample - loss: 0.5718 - accuracy: 0.7062 - val_loss: 0.6768 - val_accuracy: 0.6364\n",
      "Epoch 133/250\n",
      "691/691 [==============================] - 0s 45us/sample - loss: 0.5319 - accuracy: 0.7424 - val_loss: 0.6318 - val_accuracy: 0.6623\n",
      "Epoch 134/250\n",
      "691/691 [==============================] - 0s 43us/sample - loss: 0.5252 - accuracy: 0.7410 - val_loss: 0.6313 - val_accuracy: 0.6623\n",
      "Epoch 135/250\n",
      "691/691 [==============================] - 0s 65us/sample - loss: 0.5190 - accuracy: 0.7554 - val_loss: 0.6301 - val_accuracy: 0.6623\n",
      "Epoch 136/250\n",
      "691/691 [==============================] - 0s 45us/sample - loss: 0.5147 - accuracy: 0.7554 - val_loss: 0.6506 - val_accuracy: 0.6623\n",
      "Epoch 137/250\n",
      "691/691 [==============================] - 0s 49us/sample - loss: 0.5230 - accuracy: 0.7583 - val_loss: 0.6373 - val_accuracy: 0.6753\n",
      "Epoch 138/250\n",
      "691/691 [==============================] - 0s 54us/sample - loss: 0.5390 - accuracy: 0.7482 - val_loss: 0.6694 - val_accuracy: 0.5974\n",
      "Epoch 139/250\n",
      "691/691 [==============================] - 0s 54us/sample - loss: 0.5138 - accuracy: 0.7511 - val_loss: 0.6432 - val_accuracy: 0.6753\n",
      "Epoch 140/250\n",
      "691/691 [==============================] - 0s 54us/sample - loss: 0.5107 - accuracy: 0.7598 - val_loss: 0.7004 - val_accuracy: 0.5974\n",
      "Epoch 141/250\n",
      "691/691 [==============================] - 0s 51us/sample - loss: 0.5379 - accuracy: 0.7395 - val_loss: 0.6273 - val_accuracy: 0.7013\n",
      "Epoch 142/250\n",
      "691/691 [==============================] - 0s 54us/sample - loss: 0.5177 - accuracy: 0.7569 - val_loss: 0.6410 - val_accuracy: 0.6753\n",
      "Epoch 143/250\n",
      "691/691 [==============================] - 0s 52us/sample - loss: 0.5169 - accuracy: 0.7381 - val_loss: 0.6470 - val_accuracy: 0.6364\n",
      "Epoch 144/250\n",
      "691/691 [==============================] - 0s 46us/sample - loss: 0.5117 - accuracy: 0.7656 - val_loss: 0.6515 - val_accuracy: 0.6234\n",
      "Epoch 145/250\n",
      "691/691 [==============================] - 0s 43us/sample - loss: 0.5120 - accuracy: 0.7467 - val_loss: 0.6549 - val_accuracy: 0.6364\n",
      "Epoch 146/250\n",
      "691/691 [==============================] - 0s 43us/sample - loss: 0.5191 - accuracy: 0.7467 - val_loss: 0.7286 - val_accuracy: 0.5844\n",
      "Epoch 147/250\n",
      "691/691 [==============================] - 0s 41us/sample - loss: 0.5373 - accuracy: 0.7496 - val_loss: 0.7039 - val_accuracy: 0.6364\n",
      "Epoch 148/250\n",
      "691/691 [==============================] - 0s 43us/sample - loss: 0.5259 - accuracy: 0.7540 - val_loss: 0.6342 - val_accuracy: 0.6623\n",
      "Epoch 149/250\n",
      "691/691 [==============================] - 0s 39us/sample - loss: 0.5151 - accuracy: 0.7569 - val_loss: 0.7039 - val_accuracy: 0.5844\n",
      "Epoch 150/250\n",
      "691/691 [==============================] - 0s 46us/sample - loss: 0.5142 - accuracy: 0.7424 - val_loss: 0.6691 - val_accuracy: 0.6623\n",
      "Epoch 151/250\n",
      "691/691 [==============================] - 0s 48us/sample - loss: 0.5137 - accuracy: 0.7511 - val_loss: 0.6437 - val_accuracy: 0.6753\n",
      "Epoch 152/250\n",
      "691/691 [==============================] - 0s 52us/sample - loss: 0.5142 - accuracy: 0.7540 - val_loss: 0.6925 - val_accuracy: 0.6753\n",
      "Epoch 153/250\n",
      "691/691 [==============================] - 0s 51us/sample - loss: 0.5252 - accuracy: 0.7598 - val_loss: 0.6479 - val_accuracy: 0.7013\n",
      "Epoch 154/250\n",
      "691/691 [==============================] - 0s 46us/sample - loss: 0.5140 - accuracy: 0.7554 - val_loss: 0.6385 - val_accuracy: 0.6494\n",
      "Epoch 155/250\n",
      "691/691 [==============================] - 0s 42us/sample - loss: 0.5318 - accuracy: 0.7583 - val_loss: 0.6886 - val_accuracy: 0.5844\n",
      "Epoch 156/250\n",
      "691/691 [==============================] - 0s 41us/sample - loss: 0.5127 - accuracy: 0.7583 - val_loss: 0.6194 - val_accuracy: 0.6883\n",
      "Epoch 157/250\n",
      "691/691 [==============================] - 0s 45us/sample - loss: 0.5044 - accuracy: 0.7525 - val_loss: 0.6559 - val_accuracy: 0.6234\n",
      "Epoch 158/250\n",
      "691/691 [==============================] - 0s 41us/sample - loss: 0.5132 - accuracy: 0.7598 - val_loss: 0.6341 - val_accuracy: 0.7013\n",
      "Epoch 159/250\n",
      "691/691 [==============================] - 0s 42us/sample - loss: 0.5106 - accuracy: 0.7511 - val_loss: 0.6336 - val_accuracy: 0.7013\n",
      "Epoch 160/250\n",
      "691/691 [==============================] - 0s 43us/sample - loss: 0.5159 - accuracy: 0.7569 - val_loss: 0.6233 - val_accuracy: 0.7013\n",
      "Epoch 161/250\n",
      "691/691 [==============================] - 0s 43us/sample - loss: 0.5158 - accuracy: 0.7569 - val_loss: 0.6283 - val_accuracy: 0.6753\n",
      "Epoch 162/250\n",
      "691/691 [==============================] - 0s 52us/sample - loss: 0.5123 - accuracy: 0.7569 - val_loss: 0.6330 - val_accuracy: 0.6753\n",
      "Epoch 163/250\n",
      "691/691 [==============================] - 0s 43us/sample - loss: 0.5036 - accuracy: 0.7598 - val_loss: 0.6694 - val_accuracy: 0.6104\n",
      "Epoch 164/250\n",
      "691/691 [==============================] - 0s 42us/sample - loss: 0.5087 - accuracy: 0.7627 - val_loss: 0.6417 - val_accuracy: 0.6494\n",
      "Epoch 165/250\n",
      "691/691 [==============================] - 0s 42us/sample - loss: 0.5078 - accuracy: 0.7525 - val_loss: 0.6129 - val_accuracy: 0.7143\n",
      "Epoch 166/250\n",
      "691/691 [==============================] - 0s 51us/sample - loss: 0.5091 - accuracy: 0.7598 - val_loss: 0.6412 - val_accuracy: 0.6753\n",
      "Epoch 167/250\n",
      "691/691 [==============================] - 0s 45us/sample - loss: 0.5072 - accuracy: 0.7612 - val_loss: 0.6390 - val_accuracy: 0.6883\n",
      "Epoch 168/250\n",
      "691/691 [==============================] - 0s 48us/sample - loss: 0.5101 - accuracy: 0.7511 - val_loss: 0.6493 - val_accuracy: 0.6234\n",
      "Epoch 169/250\n",
      "691/691 [==============================] - 0s 42us/sample - loss: 0.5221 - accuracy: 0.7482 - val_loss: 0.6176 - val_accuracy: 0.7013\n",
      "Epoch 170/250\n",
      "691/691 [==============================] - 0s 42us/sample - loss: 0.5018 - accuracy: 0.7656 - val_loss: 0.6271 - val_accuracy: 0.7143\n",
      "Epoch 171/250\n",
      "691/691 [==============================] - 0s 42us/sample - loss: 0.5155 - accuracy: 0.7569 - val_loss: 0.6125 - val_accuracy: 0.7273\n",
      "Epoch 172/250\n",
      "691/691 [==============================] - 0s 52us/sample - loss: 0.5150 - accuracy: 0.7540 - val_loss: 0.6291 - val_accuracy: 0.7273\n",
      "Epoch 173/250\n",
      "691/691 [==============================] - 0s 48us/sample - loss: 0.5057 - accuracy: 0.7656 - val_loss: 0.6188 - val_accuracy: 0.7013\n",
      "Epoch 174/250\n",
      "691/691 [==============================] - 0s 45us/sample - loss: 0.5023 - accuracy: 0.7685 - val_loss: 0.6182 - val_accuracy: 0.7013\n",
      "Epoch 175/250\n",
      "691/691 [==============================] - 0s 42us/sample - loss: 0.5118 - accuracy: 0.7554 - val_loss: 0.6159 - val_accuracy: 0.7013\n",
      "Epoch 176/250\n",
      "691/691 [==============================] - 0s 43us/sample - loss: 0.5013 - accuracy: 0.7713 - val_loss: 0.6554 - val_accuracy: 0.6234\n",
      "Epoch 177/250\n",
      "691/691 [==============================] - 0s 43us/sample - loss: 0.5026 - accuracy: 0.7496 - val_loss: 0.6849 - val_accuracy: 0.6104\n",
      "Epoch 178/250\n",
      "691/691 [==============================] - 0s 45us/sample - loss: 0.5065 - accuracy: 0.7656 - val_loss: 0.6516 - val_accuracy: 0.6623\n",
      "Epoch 179/250\n",
      "691/691 [==============================] - 0s 46us/sample - loss: 0.5088 - accuracy: 0.7525 - val_loss: 0.6567 - val_accuracy: 0.6364\n",
      "Epoch 180/250\n",
      "691/691 [==============================] - 0s 42us/sample - loss: 0.5015 - accuracy: 0.7699 - val_loss: 0.6530 - val_accuracy: 0.6883\n",
      "Epoch 181/250\n",
      "691/691 [==============================] - 0s 45us/sample - loss: 0.4962 - accuracy: 0.7612 - val_loss: 0.6188 - val_accuracy: 0.7013\n",
      "Epoch 182/250\n",
      "691/691 [==============================] - 0s 49us/sample - loss: 0.5079 - accuracy: 0.7598 - val_loss: 0.6510 - val_accuracy: 0.7013\n",
      "Epoch 183/250\n",
      "691/691 [==============================] - 0s 45us/sample - loss: 0.5027 - accuracy: 0.7627 - val_loss: 0.6253 - val_accuracy: 0.6883\n",
      "Epoch 184/250\n",
      "691/691 [==============================] - 0s 45us/sample - loss: 0.5022 - accuracy: 0.7569 - val_loss: 0.6124 - val_accuracy: 0.6753\n",
      "Epoch 185/250\n",
      "691/691 [==============================] - 0s 45us/sample - loss: 0.5044 - accuracy: 0.7583 - val_loss: 0.6262 - val_accuracy: 0.7013\n",
      "Epoch 186/250\n",
      "691/691 [==============================] - 0s 46us/sample - loss: 0.5131 - accuracy: 0.7612 - val_loss: 0.6345 - val_accuracy: 0.6494\n",
      "Epoch 187/250\n",
      "691/691 [==============================] - 0s 42us/sample - loss: 0.5095 - accuracy: 0.7656 - val_loss: 0.6133 - val_accuracy: 0.7143\n",
      "Epoch 188/250\n",
      "691/691 [==============================] - 0s 42us/sample - loss: 0.5039 - accuracy: 0.7583 - val_loss: 0.6065 - val_accuracy: 0.7532\n",
      "Epoch 189/250\n",
      "691/691 [==============================] - 0s 45us/sample - loss: 0.5003 - accuracy: 0.7742 - val_loss: 0.6192 - val_accuracy: 0.7273\n",
      "Epoch 190/250\n",
      "691/691 [==============================] - 0s 39us/sample - loss: 0.5043 - accuracy: 0.7612 - val_loss: 0.6111 - val_accuracy: 0.7143\n",
      "Epoch 191/250\n",
      "691/691 [==============================] - 0s 45us/sample - loss: 0.5042 - accuracy: 0.7713 - val_loss: 0.6133 - val_accuracy: 0.7532\n",
      "Epoch 192/250\n",
      "691/691 [==============================] - 0s 55us/sample - loss: 0.5133 - accuracy: 0.7641 - val_loss: 0.6538 - val_accuracy: 0.6234\n",
      "Epoch 193/250\n",
      "691/691 [==============================] - 0s 49us/sample - loss: 0.5009 - accuracy: 0.7713 - val_loss: 0.6095 - val_accuracy: 0.7273\n",
      "Epoch 194/250\n",
      "691/691 [==============================] - 0s 59us/sample - loss: 0.5044 - accuracy: 0.7685 - val_loss: 0.6243 - val_accuracy: 0.7143\n",
      "Epoch 195/250\n",
      "691/691 [==============================] - 0s 43us/sample - loss: 0.4994 - accuracy: 0.7685 - val_loss: 0.6336 - val_accuracy: 0.6883\n",
      "Epoch 196/250\n",
      "691/691 [==============================] - 0s 45us/sample - loss: 0.5104 - accuracy: 0.7583 - val_loss: 0.6368 - val_accuracy: 0.7143\n",
      "Epoch 197/250\n",
      "691/691 [==============================] - 0s 45us/sample - loss: 0.5209 - accuracy: 0.7424 - val_loss: 0.6075 - val_accuracy: 0.7532\n",
      "Epoch 198/250\n",
      "691/691 [==============================] - 0s 45us/sample - loss: 0.4957 - accuracy: 0.7627 - val_loss: 0.6378 - val_accuracy: 0.6364\n",
      "Epoch 199/250\n",
      "691/691 [==============================] - 0s 45us/sample - loss: 0.4942 - accuracy: 0.7713 - val_loss: 0.6058 - val_accuracy: 0.7143\n",
      "Epoch 200/250\n",
      "691/691 [==============================] - 0s 41us/sample - loss: 0.4984 - accuracy: 0.7612 - val_loss: 0.6187 - val_accuracy: 0.7013\n",
      "Epoch 201/250\n",
      "691/691 [==============================] - 0s 45us/sample - loss: 0.4935 - accuracy: 0.7685 - val_loss: 0.6109 - val_accuracy: 0.7273\n",
      "Epoch 202/250\n",
      "691/691 [==============================] - 0s 46us/sample - loss: 0.4982 - accuracy: 0.7656 - val_loss: 0.6175 - val_accuracy: 0.7013\n",
      "Epoch 203/250\n",
      "691/691 [==============================] - 0s 42us/sample - loss: 0.4996 - accuracy: 0.7612 - val_loss: 0.6157 - val_accuracy: 0.7143\n",
      "Epoch 204/250\n",
      "691/691 [==============================] - 0s 43us/sample - loss: 0.5000 - accuracy: 0.7554 - val_loss: 0.6083 - val_accuracy: 0.6883\n",
      "Epoch 205/250\n",
      "691/691 [==============================] - 0s 42us/sample - loss: 0.4953 - accuracy: 0.7685 - val_loss: 0.6250 - val_accuracy: 0.6883\n",
      "Epoch 206/250\n",
      "691/691 [==============================] - 0s 43us/sample - loss: 0.5001 - accuracy: 0.7569 - val_loss: 0.6111 - val_accuracy: 0.7532\n",
      "Epoch 207/250\n",
      "691/691 [==============================] - 0s 41us/sample - loss: 0.4970 - accuracy: 0.7670 - val_loss: 0.6137 - val_accuracy: 0.7013\n",
      "Epoch 208/250\n",
      "691/691 [==============================] - 0s 43us/sample - loss: 0.4923 - accuracy: 0.7598 - val_loss: 0.6192 - val_accuracy: 0.6753\n",
      "Epoch 209/250\n",
      "691/691 [==============================] - 0s 43us/sample - loss: 0.4917 - accuracy: 0.7583 - val_loss: 0.6274 - val_accuracy: 0.7013\n",
      "Epoch 210/250\n",
      "691/691 [==============================] - 0s 46us/sample - loss: 0.4927 - accuracy: 0.7641 - val_loss: 0.6302 - val_accuracy: 0.7143\n",
      "Epoch 211/250\n",
      "691/691 [==============================] - 0s 49us/sample - loss: 0.4963 - accuracy: 0.7685 - val_loss: 0.6045 - val_accuracy: 0.6883\n",
      "Epoch 212/250\n",
      "691/691 [==============================] - 0s 45us/sample - loss: 0.4958 - accuracy: 0.7713 - val_loss: 0.6241 - val_accuracy: 0.7143\n",
      "Epoch 213/250\n",
      "691/691 [==============================] - 0s 46us/sample - loss: 0.5031 - accuracy: 0.7598 - val_loss: 0.6030 - val_accuracy: 0.7273\n",
      "Epoch 214/250\n",
      "691/691 [==============================] - 0s 45us/sample - loss: 0.4907 - accuracy: 0.7713 - val_loss: 0.6366 - val_accuracy: 0.6623\n",
      "Epoch 215/250\n",
      "691/691 [==============================] - 0s 43us/sample - loss: 0.5033 - accuracy: 0.7554 - val_loss: 0.6783 - val_accuracy: 0.6623\n",
      "Epoch 216/250\n",
      "691/691 [==============================] - 0s 48us/sample - loss: 0.4980 - accuracy: 0.7569 - val_loss: 0.6179 - val_accuracy: 0.6883\n",
      "Epoch 217/250\n",
      "691/691 [==============================] - 0s 42us/sample - loss: 0.4981 - accuracy: 0.7627 - val_loss: 0.6451 - val_accuracy: 0.6364\n",
      "Epoch 218/250\n",
      "691/691 [==============================] - 0s 43us/sample - loss: 0.4939 - accuracy: 0.7627 - val_loss: 0.6201 - val_accuracy: 0.6883\n",
      "Epoch 219/250\n",
      "691/691 [==============================] - 0s 41us/sample - loss: 0.4944 - accuracy: 0.7525 - val_loss: 0.6115 - val_accuracy: 0.7273\n",
      "Epoch 220/250\n",
      "691/691 [==============================] - 0s 42us/sample - loss: 0.4890 - accuracy: 0.7641 - val_loss: 0.6476 - val_accuracy: 0.6753\n",
      "Epoch 221/250\n",
      "691/691 [==============================] - 0s 45us/sample - loss: 0.4907 - accuracy: 0.7598 - val_loss: 0.6021 - val_accuracy: 0.7143\n",
      "Epoch 222/250\n",
      "691/691 [==============================] - 0s 45us/sample - loss: 0.4945 - accuracy: 0.7612 - val_loss: 0.6142 - val_accuracy: 0.6753\n",
      "Epoch 223/250\n",
      "691/691 [==============================] - 0s 45us/sample - loss: 0.4955 - accuracy: 0.7554 - val_loss: 0.6563 - val_accuracy: 0.6364\n",
      "Epoch 224/250\n",
      "691/691 [==============================] - 0s 42us/sample - loss: 0.4905 - accuracy: 0.7742 - val_loss: 0.6340 - val_accuracy: 0.6623\n",
      "Epoch 225/250\n",
      "691/691 [==============================] - 0s 41us/sample - loss: 0.4920 - accuracy: 0.7713 - val_loss: 0.6089 - val_accuracy: 0.7273\n",
      "Epoch 226/250\n",
      "691/691 [==============================] - 0s 42us/sample - loss: 0.4910 - accuracy: 0.7583 - val_loss: 0.6070 - val_accuracy: 0.7273\n",
      "Epoch 227/250\n",
      "691/691 [==============================] - 0s 42us/sample - loss: 0.4894 - accuracy: 0.7728 - val_loss: 0.6273 - val_accuracy: 0.6753\n",
      "Epoch 228/250\n",
      "691/691 [==============================] - 0s 43us/sample - loss: 0.4874 - accuracy: 0.7641 - val_loss: 0.6332 - val_accuracy: 0.6494\n",
      "Epoch 229/250\n",
      "691/691 [==============================] - 0s 43us/sample - loss: 0.4880 - accuracy: 0.7641 - val_loss: 0.6114 - val_accuracy: 0.7013\n",
      "Epoch 230/250\n",
      "691/691 [==============================] - 0s 41us/sample - loss: 0.5038 - accuracy: 0.7598 - val_loss: 0.6322 - val_accuracy: 0.7143\n",
      "Epoch 231/250\n",
      "691/691 [==============================] - 0s 43us/sample - loss: 0.5032 - accuracy: 0.7699 - val_loss: 0.6469 - val_accuracy: 0.6623\n",
      "Epoch 232/250\n",
      "691/691 [==============================] - 0s 45us/sample - loss: 0.4958 - accuracy: 0.7699 - val_loss: 0.6049 - val_accuracy: 0.7143\n",
      "Epoch 233/250\n",
      "691/691 [==============================] - 0s 43us/sample - loss: 0.4876 - accuracy: 0.7771 - val_loss: 0.6472 - val_accuracy: 0.6364\n",
      "Epoch 234/250\n",
      "691/691 [==============================] - 0s 43us/sample - loss: 0.5079 - accuracy: 0.7641 - val_loss: 0.6306 - val_accuracy: 0.6883\n",
      "Epoch 235/250\n",
      "691/691 [==============================] - 0s 42us/sample - loss: 0.5024 - accuracy: 0.7656 - val_loss: 0.6178 - val_accuracy: 0.6883\n",
      "Epoch 236/250\n",
      "691/691 [==============================] - 0s 43us/sample - loss: 0.5033 - accuracy: 0.7685 - val_loss: 0.6073 - val_accuracy: 0.7143\n",
      "Epoch 237/250\n",
      "691/691 [==============================] - 0s 41us/sample - loss: 0.4924 - accuracy: 0.7713 - val_loss: 0.6349 - val_accuracy: 0.6883\n",
      "Epoch 238/250\n",
      "691/691 [==============================] - 0s 43us/sample - loss: 0.4951 - accuracy: 0.7525 - val_loss: 0.6412 - val_accuracy: 0.6364\n",
      "Epoch 239/250\n",
      "691/691 [==============================] - 0s 45us/sample - loss: 0.4868 - accuracy: 0.7670 - val_loss: 0.6438 - val_accuracy: 0.6623\n",
      "Epoch 240/250\n",
      "691/691 [==============================] - 0s 46us/sample - loss: 0.4890 - accuracy: 0.7771 - val_loss: 0.6154 - val_accuracy: 0.7143\n",
      "Epoch 241/250\n",
      "691/691 [==============================] - 0s 42us/sample - loss: 0.4874 - accuracy: 0.7713 - val_loss: 0.6458 - val_accuracy: 0.6623\n",
      "Epoch 242/250\n",
      "691/691 [==============================] - 0s 48us/sample - loss: 0.5068 - accuracy: 0.7670 - val_loss: 0.6225 - val_accuracy: 0.6753\n",
      "Epoch 243/250\n",
      "691/691 [==============================] - 0s 45us/sample - loss: 0.4856 - accuracy: 0.7742 - val_loss: 0.6303 - val_accuracy: 0.6883\n",
      "Epoch 244/250\n",
      "691/691 [==============================] - 0s 43us/sample - loss: 0.4926 - accuracy: 0.7569 - val_loss: 0.6157 - val_accuracy: 0.6623\n",
      "Epoch 245/250\n",
      "691/691 [==============================] - 0s 42us/sample - loss: 0.4839 - accuracy: 0.7742 - val_loss: 0.6125 - val_accuracy: 0.6883\n",
      "Epoch 246/250\n",
      "691/691 [==============================] - 0s 45us/sample - loss: 0.4820 - accuracy: 0.7757 - val_loss: 0.6053 - val_accuracy: 0.6623\n",
      "Epoch 247/250\n",
      "691/691 [==============================] - 0s 45us/sample - loss: 0.4837 - accuracy: 0.7728 - val_loss: 0.6337 - val_accuracy: 0.6623\n",
      "Epoch 248/250\n",
      "691/691 [==============================] - 0s 49us/sample - loss: 0.4845 - accuracy: 0.7656 - val_loss: 0.6263 - val_accuracy: 0.6753\n",
      "Epoch 249/250\n",
      "691/691 [==============================] - 0s 42us/sample - loss: 0.4921 - accuracy: 0.7656 - val_loss: 0.6088 - val_accuracy: 0.7403\n",
      "Epoch 250/250\n",
      "691/691 [==============================] - 0s 42us/sample - loss: 0.5004 - accuracy: 0.7685 - val_loss: 0.6042 - val_accuracy: 0.7273\n"
     ]
    },
    {
     "data": {
      "text/plain": [
       "<tensorflow.python.keras.callbacks.History at 0x1dfa7a90c48>"
      ]
     },
     "execution_count": 24,
     "metadata": {},
     "output_type": "execute_result"
    }
   ],
   "source": [
    "model_improved.fit(X,y, epochs=250, validation_split=.10)"
   ]
  },
  {
   "cell_type": "code",
   "execution_count": 25,
   "metadata": {},
   "outputs": [
    {
     "name": "stdout",
     "output_type": "stream",
     "text": [
      "768/768 [==============================] - 0s 121us/sample - loss: 0.4907 - accuracy: 0.7773\n"
     ]
    },
    {
     "data": {
      "text/plain": [
       "[0.4906737332542737, 0.77734375]"
      ]
     },
     "execution_count": 25,
     "metadata": {},
     "output_type": "execute_result"
    }
   ],
   "source": [
    "model_improved.evaluate(X,y)\n",
    "#print(f\"{model_improved.metrics_names[1]}: {scores[1]*100}\")"
   ]
  },
  {
   "cell_type": "markdown",
   "metadata": {},
   "source": [
    "## Challenge\n",
    "\n",
    "You will have to choose your own architectures in today's module project. "
   ]
  },
  {
   "cell_type": "markdown",
   "metadata": {
    "colab_type": "text",
    "id": "tcjMuxtn6wIQ",
    "toc-hr-collapsed": false
   },
   "source": [
    "# Activation Functions (Learn)"
   ]
  },
  {
   "cell_type": "markdown",
   "metadata": {
    "colab_type": "text",
    "id": "tcjMuxtn6wIQ",
    "toc-hr-collapsed": false
   },
   "source": [
    "## Overview\n",
    "What is an activation function and how does it work?\n",
    "\n",
    "- Takes in a weighted sum of inputs + a bias from the previous layer and outputs an \"activation\" value.\n",
    "- Based its inputs the neuron decides how 'activated' it should be. This can be thought of as the neuron deciding how strongly to fire. You can also think of it as if the neuron is deciding how much of the signal that it has received to pass onto the next layer. \n",
    "- Our choice of activation function does not only affect signal that is passed forward but also affects the backpropagation algorithm. It affects how we update weights in reverse order since activated weight/input sums become the inputs of the next layer. "
   ]
  },
  {
   "cell_type": "markdown",
   "metadata": {
    "toc-hr-collapsed": true
   },
   "source": [
    "## Follow Along"
   ]
  },
  {
   "cell_type": "markdown",
   "metadata": {
    "colab_type": "text",
    "id": "n_b0u8Ch60bA"
   },
   "source": [
    "### Step Function\n",
    "\n",
    "![Heaviside Step Function](https://upload.wikimedia.org/wikipedia/commons/thumb/d/d9/Dirac_distribution_CDF.svg/325px-Dirac_distribution_CDF.svg.png)\n",
    "\n",
    "All or nothing, a little extreme, which is fine, but makes updating weights through backpropagation impossible. Why? remember that during backpropagation we use derivatives in order to determine how much to update or not update weights. What is the derivative of the step function?"
   ]
  },
  {
   "cell_type": "markdown",
   "metadata": {
    "colab_type": "text",
    "id": "vKR0YhIVEnXZ"
   },
   "source": [
    "### Linear Function\n",
    "\n",
    "![Linear Function](http://www.roconnell.net/Parent%20function/linear.gif)\n",
    "\n",
    "The linear function takes the opposite tact from the step function and passes the signal onto the next layer by a constant factor. There are problems with this but the biggest problems again lie in backpropagation. The derivative of any linear function is a horizontal line which would indicate that we should update all weights by a constant amount every time -which on balance wouldn't change the behavior of our network. Linear functions are typically only used for very simple tasks where interpretability is important, but if interpretability is your highest priority, you probably shouldn't be using neural networks in the first place."
   ]
  },
  {
   "cell_type": "markdown",
   "metadata": {
    "colab_type": "text",
    "id": "JFurIVL6EkQ8"
   },
   "source": [
    "### Sigmoid Function\n",
    "\n",
    "![Sigmoid Function](https://upload.wikimedia.org/wikipedia/commons/thumb/8/88/Logistic-curve.svg/480px-Logistic-curve.svg.png)\n",
    "\n",
    "The sigmoid function works great as an activation function! it's continuously differentiable, its derivative doesn't have a constant slope, and having the higher slope in the middle pushes y value predictions towards extremes which is particularly useful for binary classification problems. I mean, this is why we use it as the squishifier in logistic regression as well. It constrains output, but over repeated epochs pushes predictions towards a strong binary prediction. \n",
    "\n",
    "What's the biggest problem with the sigmoid function? The fact that its slope gets pretty flat so quickly after its departure from zero. This means that updating weights based on its gradient really diminishes the size of our weight updates as our model gets more confident about its classifications. This is why even after so many iterations with our test score example we couldn't reach the levels of fit that our gradient descent based model could reach in just a few epochs."
   ]
  },
  {
   "cell_type": "markdown",
   "metadata": {
    "colab_type": "text",
    "id": "hm6p1HWbEhYi"
   },
   "source": [
    "### Tanh Function\n",
    "\n",
    "![Tanh Function](http://mathworld.wolfram.com/images/interactive/TanhReal.gif)\n",
    "\n",
    "What if the sigmoid function didn't get so flat quite as soon when moving away from zero and was a little bit steeper in the middle? That's basically the Tanh function. The Tanh function can actually be created by scaling the sigmoid function by 2 in the y dimension and subtracting 1 from all values. It has basically the same properties as the sigmoid, still struggles from diminishingly flat gradients as we move away from 0, but its derivative is higher around 0 causing weights to move to the extremes a little faster. "
   ]
  },
  {
   "cell_type": "markdown",
   "metadata": {
    "colab_type": "text",
    "id": "sFOn_L6gEcz1"
   },
   "source": [
    "### ReLU Function\n",
    "\n",
    "![ReLU Function](https://cdn-images-1.medium.com/max/937/1*oePAhrm74RNnNEolprmTaQ.png)\n",
    "\n",
    "ReLU stands for Rectified Linear Units it is by far the most commonly used activation function in modern neural networks. It doesn't activate neurons that are being passed a negative signal and passes on positive signals. Think about why this might be useful. Remember how a lot of our initial weights got set to negative numbers by chance? This would have dealt with those negative weights a lot faster than the sigmoid function updating. What does the derivative of this function look like? It looks like the step function! This means that not all neurons are activated. With sigmoid basically all of our neurons are passing some amount of signal even if it's small making it hard for the network to differentiate important and less important connections. ReLU turns off a portion of our less important neurons which decreases computational load, but also helps the network learn what the most important connections are faster. \n",
    "\n",
    "What's the problem with relu? Well the left half of its derivative function shows that for neurons that are initialized with weights that cause them to have no activation, our gradient will not update those neuron's weights, this can lead to dead neurons that never fire and whose weights never get updated. We would probably want to update the weights of neurons that didn't fire even if it's just by a little bit in case we got unlucky with our initial weights and want to give those neurons a chance of turning back on in the future."
   ]
  },
  {
   "cell_type": "markdown",
   "metadata": {
    "colab_type": "text",
    "id": "XWdvWOBIETwk"
   },
   "source": [
    "### Leaky ReLU\n",
    "\n",
    "![Leaky ReLU](https://cdn-images-1.medium.com/max/1600/1*ypsvQH7kvtI2BhzR2eT_Sw.png)\n",
    "\n",
    "Leaky ReLU accomplishes exactly that! it avoids having a gradient of 0 on the left side of its derivative function. This means that even \"dead\" neurons have a chance of being revived over enough iterations. In some specifications the slope of the leaky left-hand side can also be experimented with as a hyperparameter of the model!"
   ]
  },
  {
   "cell_type": "markdown",
   "metadata": {
    "colab_type": "text",
    "id": "FcAxkNFREMFb"
   },
   "source": [
    "### Softmax Function\n",
    "\n",
    "![Softmax Function](https://cdn-images-1.medium.com/max/800/1*670CdxchunD-yAuUWdI7Bw.png)\n",
    "\n",
    "Like the sigmoid function but more useful for multi-class classification problems. The softmax function can take any set of inputs and translate them into probabilities that sum up to 1. This means that we can throw any list of outputs at it and it will translate them into probabilities, this is extremely useful for multi-class classification problems. Like MNIST for example..."
   ]
  },
  {
   "cell_type": "markdown",
   "metadata": {
    "colab_type": "text",
    "id": "23-XRRXKHs34"
   },
   "source": [
    "### Major takeaways\n",
    "\n",
    "- ReLU is generally better at obtaining the optimal model fit.\n",
    "- Sigmoid and its derivatives are usually better at classification problems.\n",
    "- Softmax for multi-class classification problems. \n",
    "\n",
    "You'll typically see ReLU used for all initial layers and then the final layer being sigmoid or softmax for classification problems. But you can experiment and tune these selections as hyperparameters as well!"
   ]
  },
  {
   "cell_type": "markdown",
   "metadata": {
    "colab_type": "text",
    "id": "TWuoXZCCKCI7"
   },
   "source": [
    "### MNIST with Keras \n",
    "\n",
    "#### This will be a good chance to bring up dropout regularization. :)"
   ]
  },
  {
   "cell_type": "code",
   "execution_count": 26,
   "metadata": {
    "colab": {},
    "colab_type": "code",
    "id": "jmJ_5azs04pU"
   },
   "outputs": [],
   "source": [
    "### Let's do it!\n",
    "\n",
    "from tensorflow import keras\n",
    "from tensorflow.keras.datasets import mnist\n",
    "from tensorflow.keras.models import Sequential\n",
    "from tensorflow.keras.layers import Dense, Dropout\n",
    "\n",
    "# Stretch - use dropout \n",
    "import numpy as np"
   ]
  },
  {
   "cell_type": "code",
   "execution_count": 27,
   "metadata": {},
   "outputs": [],
   "source": [
    "# Hyper Parameters\n",
    "batch_size = 64\n",
    "num_classes = 10\n",
    "epochs = 20"
   ]
  },
  {
   "cell_type": "code",
   "execution_count": 28,
   "metadata": {},
   "outputs": [],
   "source": [
    "# Load the Data\n",
    "(X_train, y_train), (X_test, y_test) = mnist.load_data()"
   ]
  },
  {
   "cell_type": "code",
   "execution_count": 29,
   "metadata": {},
   "outputs": [
    {
     "data": {
      "text/plain": [
       "(28, 28)"
      ]
     },
     "execution_count": 29,
     "metadata": {},
     "output_type": "execute_result"
    }
   ],
   "source": [
    "X_train[0].shape"
   ]
  },
  {
   "cell_type": "code",
   "execution_count": 30,
   "metadata": {},
   "outputs": [
    {
     "data": {
      "text/plain": [
       "(60000, 28, 28)"
      ]
     },
     "execution_count": 30,
     "metadata": {},
     "output_type": "execute_result"
    }
   ],
   "source": [
    "X_train.shape"
   ]
  },
  {
   "cell_type": "code",
   "execution_count": 31,
   "metadata": {},
   "outputs": [
    {
     "data": {
      "text/plain": [
       "array([[  0,   0,   0,   0,   0,   0,   0,   0,   0,   0,   0,   0,   0,\n",
       "          0,   0,   0,   0,   0,   0,   0,   0,   0,   0,   0,   0,   0,\n",
       "          0,   0],\n",
       "       [  0,   0,   0,   0,   0,   0,   0,   0,   0,   0,   0,   0,   0,\n",
       "          0,   0,   0,   0,   0,   0,   0,   0,   0,   0,   0,   0,   0,\n",
       "          0,   0],\n",
       "       [  0,   0,   0,   0,   0,   0,   0,   0,   0,   0,   0,   0,   0,\n",
       "          0,   0,   0,   0,   0,   0,   0,   0,   0,   0,   0,   0,   0,\n",
       "          0,   0],\n",
       "       [  0,   0,   0,   0,   0,   0,   0,   0,   0,   0,   0,   0,   0,\n",
       "          0,   0,   0,   0,   0,   0,   0,   0,   0,   0,   0,   0,   0,\n",
       "          0,   0],\n",
       "       [  0,   0,   0,   0,   0,   0,   0,   0,   0,   0,   0,   0,   0,\n",
       "          0,   0,   0,   0,   0,   0,   0,   0,   0,   0,   0,   0,   0,\n",
       "          0,   0],\n",
       "       [  0,   0,   0,   0,   0,   0,   0,   0,   0,   0,   0,   0,   3,\n",
       "         18,  18,  18, 126, 136, 175,  26, 166, 255, 247, 127,   0,   0,\n",
       "          0,   0],\n",
       "       [  0,   0,   0,   0,   0,   0,   0,   0,  30,  36,  94, 154, 170,\n",
       "        253, 253, 253, 253, 253, 225, 172, 253, 242, 195,  64,   0,   0,\n",
       "          0,   0],\n",
       "       [  0,   0,   0,   0,   0,   0,   0,  49, 238, 253, 253, 253, 253,\n",
       "        253, 253, 253, 253, 251,  93,  82,  82,  56,  39,   0,   0,   0,\n",
       "          0,   0],\n",
       "       [  0,   0,   0,   0,   0,   0,   0,  18, 219, 253, 253, 253, 253,\n",
       "        253, 198, 182, 247, 241,   0,   0,   0,   0,   0,   0,   0,   0,\n",
       "          0,   0],\n",
       "       [  0,   0,   0,   0,   0,   0,   0,   0,  80, 156, 107, 253, 253,\n",
       "        205,  11,   0,  43, 154,   0,   0,   0,   0,   0,   0,   0,   0,\n",
       "          0,   0],\n",
       "       [  0,   0,   0,   0,   0,   0,   0,   0,   0,  14,   1, 154, 253,\n",
       "         90,   0,   0,   0,   0,   0,   0,   0,   0,   0,   0,   0,   0,\n",
       "          0,   0],\n",
       "       [  0,   0,   0,   0,   0,   0,   0,   0,   0,   0,   0, 139, 253,\n",
       "        190,   2,   0,   0,   0,   0,   0,   0,   0,   0,   0,   0,   0,\n",
       "          0,   0],\n",
       "       [  0,   0,   0,   0,   0,   0,   0,   0,   0,   0,   0,  11, 190,\n",
       "        253,  70,   0,   0,   0,   0,   0,   0,   0,   0,   0,   0,   0,\n",
       "          0,   0],\n",
       "       [  0,   0,   0,   0,   0,   0,   0,   0,   0,   0,   0,   0,  35,\n",
       "        241, 225, 160, 108,   1,   0,   0,   0,   0,   0,   0,   0,   0,\n",
       "          0,   0],\n",
       "       [  0,   0,   0,   0,   0,   0,   0,   0,   0,   0,   0,   0,   0,\n",
       "         81, 240, 253, 253, 119,  25,   0,   0,   0,   0,   0,   0,   0,\n",
       "          0,   0],\n",
       "       [  0,   0,   0,   0,   0,   0,   0,   0,   0,   0,   0,   0,   0,\n",
       "          0,  45, 186, 253, 253, 150,  27,   0,   0,   0,   0,   0,   0,\n",
       "          0,   0],\n",
       "       [  0,   0,   0,   0,   0,   0,   0,   0,   0,   0,   0,   0,   0,\n",
       "          0,   0,  16,  93, 252, 253, 187,   0,   0,   0,   0,   0,   0,\n",
       "          0,   0],\n",
       "       [  0,   0,   0,   0,   0,   0,   0,   0,   0,   0,   0,   0,   0,\n",
       "          0,   0,   0,   0, 249, 253, 249,  64,   0,   0,   0,   0,   0,\n",
       "          0,   0],\n",
       "       [  0,   0,   0,   0,   0,   0,   0,   0,   0,   0,   0,   0,   0,\n",
       "          0,  46, 130, 183, 253, 253, 207,   2,   0,   0,   0,   0,   0,\n",
       "          0,   0],\n",
       "       [  0,   0,   0,   0,   0,   0,   0,   0,   0,   0,   0,   0,  39,\n",
       "        148, 229, 253, 253, 253, 250, 182,   0,   0,   0,   0,   0,   0,\n",
       "          0,   0],\n",
       "       [  0,   0,   0,   0,   0,   0,   0,   0,   0,   0,  24, 114, 221,\n",
       "        253, 253, 253, 253, 201,  78,   0,   0,   0,   0,   0,   0,   0,\n",
       "          0,   0],\n",
       "       [  0,   0,   0,   0,   0,   0,   0,   0,  23,  66, 213, 253, 253,\n",
       "        253, 253, 198,  81,   2,   0,   0,   0,   0,   0,   0,   0,   0,\n",
       "          0,   0],\n",
       "       [  0,   0,   0,   0,   0,   0,  18, 171, 219, 253, 253, 253, 253,\n",
       "        195,  80,   9,   0,   0,   0,   0,   0,   0,   0,   0,   0,   0,\n",
       "          0,   0],\n",
       "       [  0,   0,   0,   0,  55, 172, 226, 253, 253, 253, 253, 244, 133,\n",
       "         11,   0,   0,   0,   0,   0,   0,   0,   0,   0,   0,   0,   0,\n",
       "          0,   0],\n",
       "       [  0,   0,   0,   0, 136, 253, 253, 253, 212, 135, 132,  16,   0,\n",
       "          0,   0,   0,   0,   0,   0,   0,   0,   0,   0,   0,   0,   0,\n",
       "          0,   0],\n",
       "       [  0,   0,   0,   0,   0,   0,   0,   0,   0,   0,   0,   0,   0,\n",
       "          0,   0,   0,   0,   0,   0,   0,   0,   0,   0,   0,   0,   0,\n",
       "          0,   0],\n",
       "       [  0,   0,   0,   0,   0,   0,   0,   0,   0,   0,   0,   0,   0,\n",
       "          0,   0,   0,   0,   0,   0,   0,   0,   0,   0,   0,   0,   0,\n",
       "          0,   0],\n",
       "       [  0,   0,   0,   0,   0,   0,   0,   0,   0,   0,   0,   0,   0,\n",
       "          0,   0,   0,   0,   0,   0,   0,   0,   0,   0,   0,   0,   0,\n",
       "          0,   0]], dtype=uint8)"
      ]
     },
     "execution_count": 31,
     "metadata": {},
     "output_type": "execute_result"
    }
   ],
   "source": [
    "X_train[0]"
   ]
  },
  {
   "cell_type": "code",
   "execution_count": 32,
   "metadata": {},
   "outputs": [],
   "source": [
    "# Reshape the data\n",
    "X_train = X_train.reshape(60000, 784)\n",
    "X_test = X_test.reshape(10000, 784)"
   ]
  },
  {
   "cell_type": "code",
   "execution_count": 33,
   "metadata": {},
   "outputs": [],
   "source": [
    "# X Variable Types\n",
    "X_train = X_train.astype('float32')\n",
    "X_test = X_test.astype('float32')"
   ]
  },
  {
   "cell_type": "code",
   "execution_count": 45,
   "metadata": {},
   "outputs": [
    {
     "data": {
      "text/plain": [
       "(60000, 784)"
      ]
     },
     "execution_count": 45,
     "metadata": {},
     "output_type": "execute_result"
    }
   ],
   "source": [
    "X_train.shape"
   ]
  },
  {
   "cell_type": "code",
   "execution_count": 34,
   "metadata": {},
   "outputs": [
    {
     "data": {
      "text/plain": [
       "4"
      ]
     },
     "execution_count": 34,
     "metadata": {},
     "output_type": "execute_result"
    }
   ],
   "source": [
    "y_train[2] "
   ]
  },
  {
   "cell_type": "code",
   "execution_count": 35,
   "metadata": {},
   "outputs": [
    {
     "data": {
      "text/plain": [
       "4"
      ]
     },
     "execution_count": 35,
     "metadata": {},
     "output_type": "execute_result"
    }
   ],
   "source": [
    "y_train[2]"
   ]
  },
  {
   "cell_type": "code",
   "execution_count": 36,
   "metadata": {},
   "outputs": [],
   "source": [
    "# Correct Encoding on Y\n",
    "# What softmax expects = [0,0,0,0,0,1,0,0,0,0]\n",
    "\n",
    "y_train = keras.utils.to_categorical(y_train, num_classes)\n",
    "y_test = keras.utils.to_categorical(y_test, num_classes)"
   ]
  },
  {
   "cell_type": "code",
   "execution_count": 37,
   "metadata": {},
   "outputs": [
    {
     "data": {
      "text/plain": [
       "array([0., 0., 0., 0., 1., 0., 0., 0., 0., 0.], dtype=float32)"
      ]
     },
     "execution_count": 37,
     "metadata": {},
     "output_type": "execute_result"
    }
   ],
   "source": [
    "y_train[2]"
   ]
  },
  {
   "cell_type": "code",
   "execution_count": 38,
   "metadata": {},
   "outputs": [
    {
     "name": "stdout",
     "output_type": "stream",
     "text": [
      "Model: \"sequential_2\"\n",
      "_________________________________________________________________\n",
      "Layer (type)                 Output Shape              Param #   \n",
      "=================================================================\n",
      "dense_10 (Dense)             (None, 16)                12560     \n",
      "_________________________________________________________________\n",
      "dense_11 (Dense)             (None, 16)                272       \n",
      "_________________________________________________________________\n",
      "dense_12 (Dense)             (None, 16)                272       \n",
      "_________________________________________________________________\n",
      "dense_13 (Dense)             (None, 16)                272       \n",
      "_________________________________________________________________\n",
      "dense_14 (Dense)             (None, 10)                170       \n",
      "=================================================================\n",
      "Total params: 13,546\n",
      "Trainable params: 13,546\n",
      "Non-trainable params: 0\n",
      "_________________________________________________________________\n"
     ]
    }
   ],
   "source": [
    "mnist_model = Sequential()\n",
    "\n",
    "# Input => Hidden\n",
    "mnist_model.add(Dense(16, input_dim=784, activation='relu'))\n",
    "# Hidden\n",
    "mnist_model.add(Dense(16, activation='relu'))\n",
    "# Hidden\n",
    "mnist_model.add(Dense(16, activation='relu'))\n",
    "# Hidden\n",
    "mnist_model.add(Dense(16, activation='relu'))\n",
    "# Output\n",
    "mnist_model.add(Dense(10,activation='softmax'))\n",
    "\n",
    "#Compile\n",
    "mnist_model.compile(loss='categorical_crossentropy',\n",
    "                    optimizer='adam',\n",
    "                    metrics=['accuracy'])\n",
    "\n",
    "mnist_model.summary()"
   ]
  },
  {
   "cell_type": "code",
   "execution_count": 39,
   "metadata": {},
   "outputs": [],
   "source": [
    "def neural_network(X):\n",
    "    \n",
    "    dense1 = Dense(8, activation='relu', input=X)\n",
    "    dense2 = Dense(8, activation='relu')(X)\n",
    "    \n",
    "    \n",
    "    return dense2 #or return model"
   ]
  },
  {
   "cell_type": "code",
   "execution_count": 40,
   "metadata": {},
   "outputs": [
    {
     "data": {
      "text/plain": [
       "12544"
      ]
     },
     "execution_count": 40,
     "metadata": {},
     "output_type": "execute_result"
    }
   ],
   "source": [
    "16 *  784"
   ]
  },
  {
   "cell_type": "code",
   "execution_count": 41,
   "metadata": {},
   "outputs": [
    {
     "data": {
      "text/plain": [
       "(10000, 10)"
      ]
     },
     "execution_count": 41,
     "metadata": {},
     "output_type": "execute_result"
    }
   ],
   "source": [
    "y_test.shape"
   ]
  },
  {
   "cell_type": "code",
   "execution_count": 42,
   "metadata": {},
   "outputs": [
    {
     "name": "stdout",
     "output_type": "stream",
     "text": [
      "10000/10000 [==============================] - 0s 30us/sample - loss: 0.2381 - accuracy: 0.9457\n"
     ]
    }
   ],
   "source": [
    "history = mnist_model.fit(X_train, y_train, batch_size=32, epochs=100, verbose=False)\n",
    "scores = mnist_model.evaluate(X_test, y_test)\n",
    "#print(f'{mnist_model.metrics_names[1]}: {scores[1]*100}')"
   ]
  },
  {
   "cell_type": "markdown",
   "metadata": {
    "colab_type": "text",
    "id": "CKmx8153w9Ci"
   },
   "source": [
    "### Dropout Regularization\n",
    "\n",
    "![Regularization](https://upload.wikimedia.org/wikipedia/commons/thumb/0/02/Regularization.svg/354px-Regularization.svg.png)"
   ]
  },
  {
   "cell_type": "code",
   "execution_count": 43,
   "metadata": {},
   "outputs": [
    {
     "name": "stdout",
     "output_type": "stream",
     "text": [
      "Model: \"sequential_3\"\n",
      "_________________________________________________________________\n",
      "Layer (type)                 Output Shape              Param #   \n",
      "=================================================================\n",
      "dense_15 (Dense)             (None, 32)                25120     \n",
      "_________________________________________________________________\n",
      "dropout (Dropout)            (None, 32)                0         \n",
      "_________________________________________________________________\n",
      "dense_16 (Dense)             (None, 16)                528       \n",
      "_________________________________________________________________\n",
      "dropout_1 (Dropout)          (None, 16)                0         \n",
      "_________________________________________________________________\n",
      "dense_17 (Dense)             (None, 10)                170       \n",
      "=================================================================\n",
      "Total params: 25,818\n",
      "Trainable params: 25,818\n",
      "Non-trainable params: 0\n",
      "_________________________________________________________________\n"
     ]
    }
   ],
   "source": [
    "### Let's do it!\n",
    "from tensorflow import keras \n",
    "from tensorflow.keras.datasets import mnist\n",
    "from tensorflow.keras.models import Sequential\n",
    "from tensorflow.keras.layers import Dense, Dropout\n",
    "\n",
    "import numpy as np\n",
    "\n",
    "mnist_model = Sequential()\n",
    "\n",
    "# Hidden\n",
    "mnist_model.add(Dense(32, input_dim=784, activation='relu'))\n",
    "mnist_model.add(Dropout(0.2))\n",
    "mnist_model.add(Dense(16, activation='relu'))\n",
    "mnist_model.add(Dropout(0.2))\n",
    "# Output Layer\n",
    "mnist_model.add(Dense(10, activation='softmax'))\n",
    "\n",
    "mnist_model.compile(loss='categorical_crossentropy',\n",
    "                    optimizer='adam', \n",
    "                    metrics=['accuracy'])\n",
    "mnist_model.summary()"
   ]
  },
  {
   "cell_type": "code",
   "execution_count": 44,
   "metadata": {},
   "outputs": [
    {
     "name": "stdout",
     "output_type": "stream",
     "text": [
      "10000/10000 [==============================] - 0s 23us/sample - loss: 0.6696 - accuracy: 0.7845\n",
      "accuracy: 78.4500002861023\n"
     ]
    }
   ],
   "source": [
    "history = mnist_model.fit(X_train, y_train, batch_size=32, epochs=epochs, validation_split=.1, verbose=0)\n",
    "scores = mnist_model.evaluate(X_test, y_test)\n",
    "print(f'{mnist_model.metrics_names[1]}: {scores[1]*100}')"
   ]
  },
  {
   "cell_type": "markdown",
   "metadata": {},
   "source": [
    "## Challenge\n",
    "\n",
    "You will apply your choice of activation function inside two Keras Seqeuntial models today. "
   ]
  }
 ],
 "metadata": {
  "colab": {
   "collapsed_sections": [],
   "name": "LS_DS_433_Keras_Lecture.ipynb",
   "provenance": [],
   "version": "0.3.2"
  },
  "kernelspec": {
   "display_name": "Python 3",
   "language": "python",
   "name": "python3"
  },
  "language_info": {
   "codemirror_mode": {
    "name": "ipython",
    "version": 3
   },
   "file_extension": ".py",
   "mimetype": "text/x-python",
   "name": "python",
   "nbconvert_exporter": "python",
   "pygments_lexer": "ipython3",
   "version": "3.7.6"
  },
  "toc-autonumbering": false,
  "toc-showmarkdowntxt": false
 },
 "nbformat": 4,
 "nbformat_minor": 4
}
