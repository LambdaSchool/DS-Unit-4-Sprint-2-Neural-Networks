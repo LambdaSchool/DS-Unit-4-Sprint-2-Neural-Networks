{
  "nbformat": 4,
  "nbformat_minor": 0,
  "metadata": {
    "colab": {
      "name": "LS_DS_423_Keras_Lecture.ipynb",
      "provenance": [],
      "collapsed_sections": [],
      "include_colab_link": true
    },
    "kernelspec": {
      "name": "python3",
      "display_name": "Python 3"
    },
    "toc-autonumbering": false,
    "toc-showmarkdowntxt": false,
    "accelerator": "GPU"
  },
  "cells": [
    {
      "cell_type": "markdown",
      "metadata": {
        "id": "view-in-github",
        "colab_type": "text"
      },
      "source": [
        "<a href=\"https://colab.research.google.com/github/leehanchung/DS-Unit-4-Sprint-2-Neural-Networks/blob/master/module3-Intro-to-Keras/LS_DS_423_Keras_Lecture.ipynb\" target=\"_parent\"><img src=\"https://colab.research.google.com/assets/colab-badge.svg\" alt=\"Open In Colab\"/></a>"
      ]
    },
    {
      "cell_type": "markdown",
      "metadata": {
        "colab_type": "text",
        "id": "HJzTIkYAsLxw"
      },
      "source": [
        "Lambda School Data Science\n",
        "\n",
        "*Unit 4, Sprint 2, Module 3*\n",
        "\n",
        "---"
      ]
    },
    {
      "cell_type": "markdown",
      "metadata": {
        "colab_type": "text",
        "id": "NzvoSjDzSBS3"
      },
      "source": [
        "# Neural Network Frameworks (Prepare)"
      ]
    },
    {
      "cell_type": "markdown",
      "metadata": {
        "colab_type": "text",
        "id": "rHH6DkcfSBS4"
      },
      "source": [
        "## Learning Objectives\n",
        "* <a href=\"#p1\">Part 1</a>: Introduce the Keras Sequential Model API\n",
        "* <a href=\"#p2\">Part 2</a>: Learn How to Select Model Architecture \n",
        "* <a href=\"#p3\">Part 3</a>: Discuss the trade-off between various activation functions\n",
        "\n",
        "## Lets Use Libraries!\n",
        "\n",
        "The objective of the last two days has been to familiarize you with the fundamentals of neural networks: terminology, structure of networks, forward propagation, error/cost functions, backpropagation, epochs, and gradient descent. We have tried to reinforce these topics by requiring to you code some of the simplest neural networks by hand including Perceptrons (single node neural networks) and Multi-Layer Perceptrons also known as Feed-Forward Neural Networks. Continuing to do things by hand would not be the best use of our limited time. You're ready to graduate from doing things by hand and start using some powerful libraries to build cutting-edge predictive models. "
      ]
    },
    {
      "cell_type": "markdown",
      "metadata": {
        "id": "CmltfIoLSBS5",
        "colab_type": "text"
      },
      "source": [
        "# Keras Sequential API (Learn)"
      ]
    },
    {
      "cell_type": "markdown",
      "metadata": {
        "toc-hr-collapsed": true,
        "id": "a2A9GMF1SBS6",
        "colab_type": "text"
      },
      "source": [
        "## Overview\n",
        "\n",
        "> \"Keras is a high-level neural networks API, written in Python and capable of running on top of TensorFlow, CNTK, or Theano. It was developed with a focus on enabling fast experimentation. Being able to go from idea to result with the least possible delay is key to doing good research. Use Keras if you need a deep learning library that:\n",
        "\n",
        "> Allows for easy and fast prototyping (through user friendliness, modularity, and extensibility).\n",
        "Supports both convolutional networks and recurrent networks, as well as combinations of the two.\n",
        "Runs seamlessly on CPU and GPU.\" "
      ]
    },
    {
      "cell_type": "markdown",
      "metadata": {
        "colab_type": "text",
        "id": "AIJoRBxHy27n"
      },
      "source": [
        "### Keras Perceptron Sample"
      ]
    },
    {
      "cell_type": "code",
      "metadata": {
        "id": "pgfV5ErsSBS7",
        "colab_type": "code",
        "colab": {}
      },
      "source": [
        "import pandas as pd\n",
        "\n",
        "data = { 'x1': [0,1,0,1],\n",
        "         'x2': [0,0,1,1],\n",
        "         'y':  [1,1,1,0]\n",
        "       }\n",
        "\n",
        "df = pd.DataFrame.from_dict(data).astype('int')\n",
        "X = df[['x1', 'x2']].values\n",
        "y = df['y'].values"
      ],
      "execution_count": 0,
      "outputs": []
    },
    {
      "cell_type": "code",
      "metadata": {
        "colab_type": "code",
        "id": "TQxyONqKvFxB",
        "outputId": "56323dc2-f447-4d6a-9632-e4d957858c3a",
        "colab": {
          "base_uri": "https://localhost:8080/",
          "height": 349
        }
      },
      "source": [
        "import tensorflow\n",
        "from tensorflow.keras.models import Sequential\n",
        "from tensorflow.keras.layers import Dense\n",
        "\n",
        "# This is our perceptron from Monday's by-hand: \n",
        "model = Sequential()\n",
        "model.add(Dense(1,input_dim=2, activation='sigmoid'))\n",
        "model.compile(loss='binary_crossentropy', optimizer='adam', metrics=['accuracy'])\n",
        "model.fit(X,y, epochs=5)"
      ],
      "execution_count": 2,
      "outputs": [
        {
          "output_type": "stream",
          "text": [
            "WARNING:tensorflow:From /usr/local/lib/python3.6/dist-packages/tensorflow_core/python/ops/resource_variable_ops.py:1630: calling BaseResourceVariable.__init__ (from tensorflow.python.ops.resource_variable_ops) with constraint is deprecated and will be removed in a future version.\n",
            "Instructions for updating:\n",
            "If using Keras pass *_constraint arguments to layers.\n",
            "WARNING:tensorflow:From /usr/local/lib/python3.6/dist-packages/tensorflow_core/python/ops/nn_impl.py:183: where (from tensorflow.python.ops.array_ops) is deprecated and will be removed in a future version.\n",
            "Instructions for updating:\n",
            "Use tf.where in 2.0, which has the same broadcast rule as np.where\n",
            "Train on 4 samples\n",
            "Epoch 1/5\n",
            "4/4 [==============================] - 0s 64ms/sample - loss: 0.7686 - acc: 0.2500\n",
            "Epoch 2/5\n",
            "4/4 [==============================] - 0s 778us/sample - loss: 0.7680 - acc: 0.5000\n",
            "Epoch 3/5\n",
            "4/4 [==============================] - 0s 981us/sample - loss: 0.7674 - acc: 0.5000\n",
            "Epoch 4/5\n",
            "4/4 [==============================] - 0s 944us/sample - loss: 0.7668 - acc: 0.5000\n",
            "Epoch 5/5\n",
            "4/4 [==============================] - 0s 1ms/sample - loss: 0.7661 - acc: 0.5000\n"
          ],
          "name": "stdout"
        },
        {
          "output_type": "execute_result",
          "data": {
            "text/plain": [
              "<tensorflow.python.keras.callbacks.History at 0x7f5e01aa4ba8>"
            ]
          },
          "metadata": {
            "tags": []
          },
          "execution_count": 2
        }
      ]
    },
    {
      "cell_type": "code",
      "metadata": {
        "colab_type": "code",
        "id": "Z1wfKUxszPKa",
        "outputId": "249a68f2-91ce-4c61-8e36-12f54fa6e32f",
        "colab": {
          "base_uri": "https://localhost:8080/",
          "height": 52
        }
      },
      "source": [
        "# evaluate the model\n",
        "scores = model.evaluate(X, y)\n",
        "print(f\"{model.metrics_names[1]}: {scores[1]*100}\")"
      ],
      "execution_count": 3,
      "outputs": [
        {
          "output_type": "stream",
          "text": [
            "\r4/4 [==============================] - 0s 6ms/sample - loss: 0.7655 - acc: 0.5000\n",
            "acc: 50.0\n"
          ],
          "name": "stdout"
        }
      ]
    },
    {
      "cell_type": "markdown",
      "metadata": {
        "toc-hr-collapsed": true,
        "id": "X8trrWmlSBTG",
        "colab_type": "text"
      },
      "source": [
        "## Follow Along\n",
        "\n",
        "In the `Sequential` api model, you specify a model architecture by 'sequentially specifying layers. This type of specification works well for feed forward neural networks in which the data flows in one direction (forward propagation) and the error flows in the opposite direction (backwards propagation). The Keras `Sequential` API follows a standardarized worklow to estimate a 'net: \n",
        "\n",
        "1. Load Data\n",
        "2. Define Model\n",
        "3. Compile Model\n",
        "4. Fit Model\n",
        "5. Evaluate Model\n",
        "\n",
        "You saw these steps in our Keras Perceptron Sample, but let's walk thru each step in detail."
      ]
    },
    {
      "cell_type": "markdown",
      "metadata": {
        "colab_type": "text",
        "id": "Md5D67XwqVAf",
        "toc-hr-collapsed": false
      },
      "source": [
        "### Load Data\n",
        "\n",
        "Our life is going to be easier if our data is already cleaned up and numeric, so lets use this dataset from Jason Brownlee that is already numeric and has no column headers so we'll need to slice off the last column of data to act as our y values."
      ]
    },
    {
      "cell_type": "code",
      "metadata": {
        "colab_type": "code",
        "id": "bn09phMBpY1J",
        "colab": {}
      },
      "source": [
        "import pandas as pd\n",
        "\n",
        "url =\"https://raw.githubusercontent.com/jbrownlee/Datasets/master/pima-indians-diabetes.data.csv\"\n",
        "\n",
        "dataset = pd.read_csv(url, header=None)"
      ],
      "execution_count": 0,
      "outputs": []
    },
    {
      "cell_type": "code",
      "metadata": {
        "id": "dcYb_qNoSBTK",
        "colab_type": "code",
        "colab": {
          "base_uri": "https://localhost:8080/",
          "height": 202
        },
        "outputId": "193948df-d969-40e3-a1b4-b18495b08df0"
      },
      "source": [
        "dataset.head()"
      ],
      "execution_count": 5,
      "outputs": [
        {
          "output_type": "execute_result",
          "data": {
            "text/html": [
              "<div>\n",
              "<style scoped>\n",
              "    .dataframe tbody tr th:only-of-type {\n",
              "        vertical-align: middle;\n",
              "    }\n",
              "\n",
              "    .dataframe tbody tr th {\n",
              "        vertical-align: top;\n",
              "    }\n",
              "\n",
              "    .dataframe thead th {\n",
              "        text-align: right;\n",
              "    }\n",
              "</style>\n",
              "<table border=\"1\" class=\"dataframe\">\n",
              "  <thead>\n",
              "    <tr style=\"text-align: right;\">\n",
              "      <th></th>\n",
              "      <th>0</th>\n",
              "      <th>1</th>\n",
              "      <th>2</th>\n",
              "      <th>3</th>\n",
              "      <th>4</th>\n",
              "      <th>5</th>\n",
              "      <th>6</th>\n",
              "      <th>7</th>\n",
              "      <th>8</th>\n",
              "    </tr>\n",
              "  </thead>\n",
              "  <tbody>\n",
              "    <tr>\n",
              "      <th>0</th>\n",
              "      <td>6</td>\n",
              "      <td>148</td>\n",
              "      <td>72</td>\n",
              "      <td>35</td>\n",
              "      <td>0</td>\n",
              "      <td>33.6</td>\n",
              "      <td>0.627</td>\n",
              "      <td>50</td>\n",
              "      <td>1</td>\n",
              "    </tr>\n",
              "    <tr>\n",
              "      <th>1</th>\n",
              "      <td>1</td>\n",
              "      <td>85</td>\n",
              "      <td>66</td>\n",
              "      <td>29</td>\n",
              "      <td>0</td>\n",
              "      <td>26.6</td>\n",
              "      <td>0.351</td>\n",
              "      <td>31</td>\n",
              "      <td>0</td>\n",
              "    </tr>\n",
              "    <tr>\n",
              "      <th>2</th>\n",
              "      <td>8</td>\n",
              "      <td>183</td>\n",
              "      <td>64</td>\n",
              "      <td>0</td>\n",
              "      <td>0</td>\n",
              "      <td>23.3</td>\n",
              "      <td>0.672</td>\n",
              "      <td>32</td>\n",
              "      <td>1</td>\n",
              "    </tr>\n",
              "    <tr>\n",
              "      <th>3</th>\n",
              "      <td>1</td>\n",
              "      <td>89</td>\n",
              "      <td>66</td>\n",
              "      <td>23</td>\n",
              "      <td>94</td>\n",
              "      <td>28.1</td>\n",
              "      <td>0.167</td>\n",
              "      <td>21</td>\n",
              "      <td>0</td>\n",
              "    </tr>\n",
              "    <tr>\n",
              "      <th>4</th>\n",
              "      <td>0</td>\n",
              "      <td>137</td>\n",
              "      <td>40</td>\n",
              "      <td>35</td>\n",
              "      <td>168</td>\n",
              "      <td>43.1</td>\n",
              "      <td>2.288</td>\n",
              "      <td>33</td>\n",
              "      <td>1</td>\n",
              "    </tr>\n",
              "  </tbody>\n",
              "</table>\n",
              "</div>"
            ],
            "text/plain": [
              "   0    1   2   3    4     5      6   7  8\n",
              "0  6  148  72  35    0  33.6  0.627  50  1\n",
              "1  1   85  66  29    0  26.6  0.351  31  0\n",
              "2  8  183  64   0    0  23.3  0.672  32  1\n",
              "3  1   89  66  23   94  28.1  0.167  21  0\n",
              "4  0  137  40  35  168  43.1  2.288  33  1"
            ]
          },
          "metadata": {
            "tags": []
          },
          "execution_count": 5
        }
      ]
    },
    {
      "cell_type": "code",
      "metadata": {
        "colab_type": "code",
        "id": "FKuofD3Pogil",
        "outputId": "c74a1d9c-aa9a-4ba1-a473-32079a6c43f2",
        "colab": {
          "base_uri": "https://localhost:8080/",
          "height": 156
        }
      },
      "source": [
        "X = dataset.values[:,0:8]\n",
        "print(X.shape)\n",
        "print(X)"
      ],
      "execution_count": 6,
      "outputs": [
        {
          "output_type": "stream",
          "text": [
            "(768, 8)\n",
            "[[  6.    148.     72.    ...  33.6     0.627  50.   ]\n",
            " [  1.     85.     66.    ...  26.6     0.351  31.   ]\n",
            " [  8.    183.     64.    ...  23.3     0.672  32.   ]\n",
            " ...\n",
            " [  5.    121.     72.    ...  26.2     0.245  30.   ]\n",
            " [  1.    126.     60.    ...  30.1     0.349  47.   ]\n",
            " [  1.     93.     70.    ...  30.4     0.315  23.   ]]\n"
          ],
          "name": "stdout"
        }
      ]
    },
    {
      "cell_type": "code",
      "metadata": {
        "id": "nkUKrCviSBTP",
        "colab_type": "code",
        "colab": {
          "base_uri": "https://localhost:8080/",
          "height": 589
        },
        "outputId": "dd970d8e-3a90-4049-a534-becce0c17f09"
      },
      "source": [
        "y = dataset.values[:,-1]\n",
        "print(y.shape)\n",
        "print(y)"
      ],
      "execution_count": 7,
      "outputs": [
        {
          "output_type": "stream",
          "text": [
            "(768,)\n",
            "[1. 0. 1. 0. 1. 0. 1. 0. 1. 1. 0. 1. 0. 1. 1. 1. 1. 1. 0. 1. 0. 0. 1. 1.\n",
            " 1. 1. 1. 0. 0. 0. 0. 1. 0. 0. 0. 0. 0. 1. 1. 1. 0. 0. 0. 1. 0. 1. 0. 0.\n",
            " 1. 0. 0. 0. 0. 1. 0. 0. 1. 0. 0. 0. 0. 1. 0. 0. 1. 0. 1. 0. 0. 0. 1. 0.\n",
            " 1. 0. 0. 0. 0. 0. 1. 0. 0. 0. 0. 0. 1. 0. 0. 0. 1. 0. 0. 0. 0. 1. 0. 0.\n",
            " 0. 0. 0. 1. 1. 0. 0. 0. 0. 0. 0. 0. 0. 1. 1. 1. 0. 0. 1. 1. 1. 0. 0. 0.\n",
            " 1. 0. 0. 0. 1. 1. 0. 0. 1. 1. 1. 1. 1. 0. 0. 0. 0. 0. 0. 0. 0. 0. 0. 1.\n",
            " 0. 0. 0. 0. 0. 0. 0. 0. 1. 0. 1. 1. 0. 0. 0. 1. 0. 0. 0. 0. 1. 1. 0. 0.\n",
            " 0. 0. 1. 1. 0. 0. 0. 1. 0. 1. 0. 1. 0. 0. 0. 0. 0. 1. 1. 1. 1. 1. 0. 0.\n",
            " 1. 1. 0. 1. 0. 1. 1. 1. 0. 0. 0. 0. 0. 0. 1. 1. 0. 1. 0. 0. 0. 1. 1. 1.\n",
            " 1. 0. 1. 1. 1. 1. 0. 0. 0. 0. 0. 1. 0. 0. 1. 1. 0. 0. 0. 1. 1. 1. 1. 0.\n",
            " 0. 0. 1. 1. 0. 1. 0. 0. 0. 0. 0. 0. 0. 0. 1. 1. 0. 0. 0. 1. 0. 1. 0. 0.\n",
            " 1. 0. 1. 0. 0. 1. 1. 0. 0. 0. 0. 0. 1. 0. 0. 0. 1. 0. 0. 1. 1. 0. 0. 1.\n",
            " 0. 0. 0. 1. 1. 1. 0. 0. 1. 0. 1. 0. 1. 1. 0. 1. 0. 0. 1. 0. 1. 1. 0. 0.\n",
            " 1. 0. 1. 0. 0. 1. 0. 1. 0. 1. 1. 1. 0. 0. 1. 0. 1. 0. 0. 0. 1. 0. 0. 0.\n",
            " 0. 1. 1. 1. 0. 0. 0. 0. 0. 0. 0. 0. 0. 1. 0. 0. 0. 0. 0. 1. 1. 1. 0. 1.\n",
            " 1. 0. 0. 1. 0. 0. 1. 0. 0. 1. 1. 0. 0. 0. 0. 1. 0. 0. 1. 0. 0. 0. 0. 0.\n",
            " 0. 0. 1. 1. 1. 0. 0. 1. 0. 0. 1. 0. 0. 1. 0. 1. 1. 0. 1. 0. 1. 0. 1. 0.\n",
            " 1. 1. 0. 0. 0. 0. 1. 1. 0. 1. 0. 1. 0. 0. 0. 0. 1. 1. 0. 1. 0. 1. 0. 0.\n",
            " 0. 0. 0. 1. 0. 0. 0. 0. 1. 0. 0. 1. 1. 1. 0. 0. 1. 0. 0. 1. 0. 0. 0. 1.\n",
            " 0. 0. 1. 0. 0. 0. 0. 0. 0. 0. 0. 0. 1. 0. 0. 0. 0. 0. 0. 0. 1. 0. 0. 0.\n",
            " 1. 0. 0. 0. 1. 1. 0. 0. 0. 0. 0. 0. 0. 1. 0. 0. 0. 0. 1. 0. 0. 0. 1. 0.\n",
            " 0. 0. 1. 0. 0. 0. 1. 0. 0. 0. 0. 1. 1. 0. 0. 0. 0. 0. 0. 1. 0. 0. 0. 0.\n",
            " 0. 0. 0. 0. 0. 0. 0. 1. 0. 0. 0. 1. 1. 1. 1. 0. 0. 1. 1. 0. 0. 0. 0. 0.\n",
            " 0. 0. 0. 0. 0. 0. 0. 0. 1. 1. 0. 0. 0. 0. 0. 0. 0. 1. 0. 0. 0. 0. 0. 0.\n",
            " 0. 1. 0. 1. 1. 0. 0. 0. 1. 0. 1. 0. 1. 0. 1. 0. 1. 0. 0. 1. 0. 0. 1. 0.\n",
            " 0. 0. 0. 1. 1. 0. 1. 0. 0. 0. 0. 1. 1. 0. 1. 0. 0. 0. 1. 1. 0. 0. 0. 0.\n",
            " 0. 0. 0. 0. 0. 0. 1. 0. 0. 0. 0. 1. 0. 0. 1. 0. 0. 0. 1. 0. 0. 0. 1. 1.\n",
            " 1. 0. 0. 0. 0. 0. 0. 1. 0. 0. 0. 1. 0. 1. 1. 1. 1. 0. 1. 1. 0. 0. 0. 0.\n",
            " 0. 0. 0. 1. 1. 0. 1. 0. 0. 1. 0. 1. 0. 0. 0. 0. 0. 1. 0. 1. 0. 1. 0. 1.\n",
            " 1. 0. 0. 0. 0. 1. 1. 0. 0. 0. 1. 0. 1. 1. 0. 0. 1. 0. 0. 1. 1. 0. 0. 1.\n",
            " 0. 0. 1. 0. 0. 0. 0. 0. 0. 0. 1. 1. 1. 0. 0. 0. 0. 0. 0. 1. 1. 0. 0. 1.\n",
            " 0. 0. 1. 0. 1. 1. 1. 0. 0. 1. 1. 1. 0. 1. 0. 1. 0. 1. 0. 0. 0. 0. 1. 0.]\n"
          ],
          "name": "stdout"
        }
      ]
    },
    {
      "cell_type": "markdown",
      "metadata": {
        "colab_type": "text",
        "id": "o0xMqOyTs5xt"
      },
      "source": [
        "### Define Model"
      ]
    },
    {
      "cell_type": "code",
      "metadata": {
        "colab_type": "code",
        "id": "Bp9USczrfu6M",
        "colab": {}
      },
      "source": [
        "from tensorflow.keras.models import Sequential\n",
        "from tensorflow.keras.layers import Dense\n",
        "\n",
        "import numpy as np\n",
        "\n",
        "np.random.seed(812)"
      ],
      "execution_count": 0,
      "outputs": []
    },
    {
      "cell_type": "markdown",
      "metadata": {
        "colab_type": "text",
        "id": "wAzHLg27thoN"
      },
      "source": [
        "I'll instantiate my model as a \"sequential\" model. This just means that I'm going to tell Keras what my model's architecture should be one layer at a time."
      ]
    },
    {
      "cell_type": "code",
      "metadata": {
        "colab_type": "code",
        "id": "DSNsL49Xp6KI",
        "colab": {}
      },
      "source": [
        "# https://keras.io/getting-started/sequential-model-guide/\n",
        "model = Sequential()"
      ],
      "execution_count": 0,
      "outputs": []
    },
    {
      "cell_type": "markdown",
      "metadata": {
        "colab_type": "text",
        "id": "ZCYX6QzJtvpG"
      },
      "source": [
        "Adding a \"Dense\" layer to our model is how we add \"vanilla\" perceptron-based layers to our neural network. These are also called \"fully-connected\" or \"densely-connected\" layers. They're used as a layer type in lots of other Neural Net Architectures but they're not referred to as perceptrons or multi-layer perceptrons very often in those situations even though that's what they are.\n",
        "\n",
        " > [\"Just your regular densely-connected NN layer.\"](https://keras.io/layers/core/)\n",
        " \n",
        " The first argument is how many neurons we want to have in that layer. To create a perceptron model we will just set it to 1. We will tell it that there will be 8 inputs coming into this layer from our dataset and set it to use the sigmoid activation function."
      ]
    },
    {
      "cell_type": "code",
      "metadata": {
        "colab_type": "code",
        "id": "GNzOLidxtvFa",
        "colab": {}
      },
      "source": [
        "model.add(Dense(1, input_dim=8, activation=\"sigmoid\")) #Relu is valid option. "
      ],
      "execution_count": 0,
      "outputs": []
    },
    {
      "cell_type": "markdown",
      "metadata": {
        "colab_type": "text",
        "id": "EnI3jwKMtBL2",
        "toc-hr-collapsed": false
      },
      "source": [
        "### Compile Model\n",
        "Using binary_crossentropy as the loss function here is just telling keras that I'm doing binary classification so that it can use the appropriate loss function accordingly. If we were predicting non-binary categories we might assign something like `categorical_crossentropy`. We're also telling keras that we want it to report model accuracy as our main error metric for each epoch. We will also be able to see the overall accuracy once the model has finished training.\n",
        "\n",
        "#### Adam Optimizer\n",
        "Check out this links for more background on the Adam optimizer and Stohastic Gradient Descent\n",
        "* [Adam Optimization Algorithm](https://machinelearningmastery.com/adam-optimization-algorithm-for-deep-learning/)\n",
        "* [Adam Optimizer - original paper](https://arxiv.org/abs/1412.6980)"
      ]
    },
    {
      "cell_type": "code",
      "metadata": {
        "colab_type": "code",
        "id": "qp6xwYaqurRO",
        "colab": {}
      },
      "source": [
        "model.compile(loss='binary_crossentropy', optimizer='adam', metrics=['accuracy'])"
      ],
      "execution_count": 0,
      "outputs": []
    },
    {
      "cell_type": "markdown",
      "metadata": {
        "colab_type": "text",
        "id": "5dW8SZ2Ls9SX",
        "toc-hr-collapsed": false
      },
      "source": [
        "### Fit Model\n",
        "\n",
        "Lets train it up! `model.fit()` has a `batch_size` parameter that we can use if we want to do mini-batch epochs, but since this tabular dataset is pretty small we're just going to delete that parameter. Keras' default `batch_size` is `None` so omiting it will tell Keras to do batch epochs."
      ]
    },
    {
      "cell_type": "code",
      "metadata": {
        "id": "nyHIdE3TSBTf",
        "colab_type": "code",
        "colab": {
          "base_uri": "https://localhost:8080/",
          "height": 1000
        },
        "outputId": "e3d8fb4c-a0eb-46a8-89e0-ec5f9100cafe"
      },
      "source": [
        "model.fit(X, y, epochs=150)"
      ],
      "execution_count": 12,
      "outputs": [
        {
          "output_type": "stream",
          "text": [
            "Train on 768 samples\n",
            "Epoch 1/150\n",
            "768/768 [==============================] - 0s 174us/sample - loss: 27.6902 - acc: 0.5104\n",
            "Epoch 2/150\n",
            "768/768 [==============================] - 0s 122us/sample - loss: 26.5831 - acc: 0.5104\n",
            "Epoch 3/150\n",
            "768/768 [==============================] - 0s 121us/sample - loss: 25.5978 - acc: 0.5117\n",
            "Epoch 4/150\n",
            "768/768 [==============================] - 0s 104us/sample - loss: 24.6778 - acc: 0.5182\n",
            "Epoch 5/150\n",
            "768/768 [==============================] - 0s 98us/sample - loss: 23.8386 - acc: 0.5169\n",
            "Epoch 6/150\n",
            "768/768 [==============================] - 0s 102us/sample - loss: 22.9948 - acc: 0.5143\n",
            "Epoch 7/150\n",
            "768/768 [==============================] - 0s 102us/sample - loss: 22.1724 - acc: 0.5117\n",
            "Epoch 8/150\n",
            "768/768 [==============================] - 0s 106us/sample - loss: 21.3190 - acc: 0.5143\n",
            "Epoch 9/150\n",
            "768/768 [==============================] - 0s 101us/sample - loss: 20.5048 - acc: 0.5078\n",
            "Epoch 10/150\n",
            "768/768 [==============================] - 0s 105us/sample - loss: 19.6580 - acc: 0.5130\n",
            "Epoch 11/150\n",
            "768/768 [==============================] - 0s 113us/sample - loss: 18.8740 - acc: 0.5130\n",
            "Epoch 12/150\n",
            "768/768 [==============================] - 0s 102us/sample - loss: 18.0423 - acc: 0.5117\n",
            "Epoch 13/150\n",
            "768/768 [==============================] - 0s 113us/sample - loss: 17.2714 - acc: 0.5091\n",
            "Epoch 14/150\n",
            "768/768 [==============================] - 0s 112us/sample - loss: 16.4625 - acc: 0.5143\n",
            "Epoch 15/150\n",
            "768/768 [==============================] - 0s 122us/sample - loss: 15.6631 - acc: 0.5039\n",
            "Epoch 16/150\n",
            "768/768 [==============================] - 0s 102us/sample - loss: 14.8953 - acc: 0.4974\n",
            "Epoch 17/150\n",
            "768/768 [==============================] - 0s 119us/sample - loss: 14.1176 - acc: 0.4909\n",
            "Epoch 18/150\n",
            "768/768 [==============================] - 0s 107us/sample - loss: 13.3801 - acc: 0.4935\n",
            "Epoch 19/150\n",
            "768/768 [==============================] - 0s 101us/sample - loss: 12.6517 - acc: 0.4870\n",
            "Epoch 20/150\n",
            "768/768 [==============================] - 0s 102us/sample - loss: 11.9480 - acc: 0.4831\n",
            "Epoch 21/150\n",
            "768/768 [==============================] - 0s 114us/sample - loss: 11.2470 - acc: 0.4896\n",
            "Epoch 22/150\n",
            "768/768 [==============================] - 0s 107us/sample - loss: 10.5838 - acc: 0.4766\n",
            "Epoch 23/150\n",
            "768/768 [==============================] - 0s 99us/sample - loss: 9.9141 - acc: 0.4805\n",
            "Epoch 24/150\n",
            "768/768 [==============================] - 0s 104us/sample - loss: 9.2618 - acc: 0.4857\n",
            "Epoch 25/150\n",
            "768/768 [==============================] - 0s 110us/sample - loss: 8.6601 - acc: 0.4753\n",
            "Epoch 26/150\n",
            "768/768 [==============================] - 0s 94us/sample - loss: 8.0464 - acc: 0.4792\n",
            "Epoch 27/150\n",
            "768/768 [==============================] - 0s 123us/sample - loss: 7.4546 - acc: 0.4740\n",
            "Epoch 28/150\n",
            "768/768 [==============================] - 0s 116us/sample - loss: 6.9099 - acc: 0.4688\n",
            "Epoch 29/150\n",
            "768/768 [==============================] - 0s 99us/sample - loss: 6.3857 - acc: 0.4714\n",
            "Epoch 30/150\n",
            "768/768 [==============================] - 0s 101us/sample - loss: 5.8921 - acc: 0.4701\n",
            "Epoch 31/150\n",
            "768/768 [==============================] - 0s 109us/sample - loss: 5.4057 - acc: 0.4688\n",
            "Epoch 32/150\n",
            "768/768 [==============================] - 0s 101us/sample - loss: 4.9537 - acc: 0.4779\n",
            "Epoch 33/150\n",
            "768/768 [==============================] - 0s 108us/sample - loss: 4.5340 - acc: 0.4857\n",
            "Epoch 34/150\n",
            "768/768 [==============================] - 0s 101us/sample - loss: 4.1305 - acc: 0.4831\n",
            "Epoch 35/150\n",
            "768/768 [==============================] - 0s 106us/sample - loss: 3.7954 - acc: 0.4857\n",
            "Epoch 36/150\n",
            "768/768 [==============================] - 0s 123us/sample - loss: 3.4586 - acc: 0.5052\n",
            "Epoch 37/150\n",
            "768/768 [==============================] - 0s 98us/sample - loss: 3.1947 - acc: 0.5078\n",
            "Epoch 38/150\n",
            "768/768 [==============================] - 0s 107us/sample - loss: 2.9560 - acc: 0.5339\n",
            "Epoch 39/150\n",
            "768/768 [==============================] - 0s 110us/sample - loss: 2.7755 - acc: 0.5143\n",
            "Epoch 40/150\n",
            "768/768 [==============================] - 0s 130us/sample - loss: 2.6003 - acc: 0.5482\n",
            "Epoch 41/150\n",
            "768/768 [==============================] - 0s 109us/sample - loss: 2.4663 - acc: 0.5391\n",
            "Epoch 42/150\n",
            "768/768 [==============================] - 0s 110us/sample - loss: 2.3528 - acc: 0.5508\n",
            "Epoch 43/150\n",
            "768/768 [==============================] - 0s 113us/sample - loss: 2.2570 - acc: 0.5573\n",
            "Epoch 44/150\n",
            "768/768 [==============================] - 0s 114us/sample - loss: 2.1989 - acc: 0.5820\n",
            "Epoch 45/150\n",
            "768/768 [==============================] - 0s 107us/sample - loss: 2.1028 - acc: 0.5573\n",
            "Epoch 46/150\n",
            "768/768 [==============================] - 0s 96us/sample - loss: 2.0263 - acc: 0.5794\n",
            "Epoch 47/150\n",
            "768/768 [==============================] - 0s 109us/sample - loss: 1.9549 - acc: 0.5872\n",
            "Epoch 48/150\n",
            "768/768 [==============================] - 0s 137us/sample - loss: 1.9088 - acc: 0.5664\n",
            "Epoch 49/150\n",
            "768/768 [==============================] - 0s 99us/sample - loss: 1.8582 - acc: 0.6094\n",
            "Epoch 50/150\n",
            "768/768 [==============================] - 0s 105us/sample - loss: 1.7872 - acc: 0.5911\n",
            "Epoch 51/150\n",
            "768/768 [==============================] - 0s 101us/sample - loss: 1.7358 - acc: 0.5977\n",
            "Epoch 52/150\n",
            "768/768 [==============================] - 0s 109us/sample - loss: 1.6916 - acc: 0.6081\n",
            "Epoch 53/150\n",
            "768/768 [==============================] - 0s 105us/sample - loss: 1.6565 - acc: 0.6042\n",
            "Epoch 54/150\n",
            "768/768 [==============================] - 0s 97us/sample - loss: 1.6107 - acc: 0.6094\n",
            "Epoch 55/150\n",
            "768/768 [==============================] - 0s 95us/sample - loss: 1.5711 - acc: 0.6042\n",
            "Epoch 56/150\n",
            "768/768 [==============================] - 0s 94us/sample - loss: 1.5371 - acc: 0.6159\n",
            "Epoch 57/150\n",
            "768/768 [==============================] - 0s 91us/sample - loss: 1.5070 - acc: 0.5977\n",
            "Epoch 58/150\n",
            "768/768 [==============================] - 0s 116us/sample - loss: 1.4648 - acc: 0.6224\n",
            "Epoch 59/150\n",
            "768/768 [==============================] - 0s 107us/sample - loss: 1.4400 - acc: 0.6159\n",
            "Epoch 60/150\n",
            "768/768 [==============================] - 0s 114us/sample - loss: 1.3962 - acc: 0.6185\n",
            "Epoch 61/150\n",
            "768/768 [==============================] - 0s 93us/sample - loss: 1.3735 - acc: 0.6211\n",
            "Epoch 62/150\n",
            "768/768 [==============================] - 0s 104us/sample - loss: 1.3428 - acc: 0.6211\n",
            "Epoch 63/150\n",
            "768/768 [==============================] - 0s 107us/sample - loss: 1.3188 - acc: 0.6107\n",
            "Epoch 64/150\n",
            "768/768 [==============================] - 0s 116us/sample - loss: 1.2910 - acc: 0.6237\n",
            "Epoch 65/150\n",
            "768/768 [==============================] - 0s 120us/sample - loss: 1.2499 - acc: 0.6172\n",
            "Epoch 66/150\n",
            "768/768 [==============================] - 0s 101us/sample - loss: 1.2363 - acc: 0.6237\n",
            "Epoch 67/150\n",
            "768/768 [==============================] - 0s 113us/sample - loss: 1.2014 - acc: 0.6224\n",
            "Epoch 68/150\n",
            "768/768 [==============================] - 0s 110us/sample - loss: 1.1943 - acc: 0.6224\n",
            "Epoch 69/150\n",
            "768/768 [==============================] - 0s 106us/sample - loss: 1.1576 - acc: 0.6263\n",
            "Epoch 70/150\n",
            "768/768 [==============================] - 0s 112us/sample - loss: 1.1297 - acc: 0.6276\n",
            "Epoch 71/150\n",
            "768/768 [==============================] - 0s 128us/sample - loss: 1.1057 - acc: 0.6289\n",
            "Epoch 72/150\n",
            "768/768 [==============================] - 0s 103us/sample - loss: 1.0885 - acc: 0.6224\n",
            "Epoch 73/150\n",
            "768/768 [==============================] - 0s 113us/sample - loss: 1.0604 - acc: 0.6263\n",
            "Epoch 74/150\n",
            "768/768 [==============================] - 0s 106us/sample - loss: 1.0280 - acc: 0.6354\n",
            "Epoch 75/150\n",
            "768/768 [==============================] - 0s 100us/sample - loss: 1.0262 - acc: 0.6263\n",
            "Epoch 76/150\n",
            "768/768 [==============================] - 0s 123us/sample - loss: 1.0043 - acc: 0.6406\n",
            "Epoch 77/150\n",
            "768/768 [==============================] - 0s 101us/sample - loss: 0.9691 - acc: 0.6419\n",
            "Epoch 78/150\n",
            "768/768 [==============================] - 0s 107us/sample - loss: 0.9472 - acc: 0.6302\n",
            "Epoch 79/150\n",
            "768/768 [==============================] - 0s 110us/sample - loss: 0.9304 - acc: 0.6471\n",
            "Epoch 80/150\n",
            "768/768 [==============================] - 0s 107us/sample - loss: 0.9168 - acc: 0.6315\n",
            "Epoch 81/150\n",
            "768/768 [==============================] - 0s 106us/sample - loss: 0.9011 - acc: 0.6471\n",
            "Epoch 82/150\n",
            "768/768 [==============================] - 0s 114us/sample - loss: 0.8961 - acc: 0.6393\n",
            "Epoch 83/150\n",
            "768/768 [==============================] - 0s 105us/sample - loss: 0.8646 - acc: 0.6406\n",
            "Epoch 84/150\n",
            "768/768 [==============================] - 0s 116us/sample - loss: 0.8369 - acc: 0.6406\n",
            "Epoch 85/150\n",
            "768/768 [==============================] - 0s 109us/sample - loss: 0.8184 - acc: 0.6562\n",
            "Epoch 86/150\n",
            "768/768 [==============================] - 0s 124us/sample - loss: 0.8102 - acc: 0.6510\n",
            "Epoch 87/150\n",
            "768/768 [==============================] - 0s 129us/sample - loss: 0.7913 - acc: 0.6562\n",
            "Epoch 88/150\n",
            "768/768 [==============================] - 0s 128us/sample - loss: 0.7736 - acc: 0.6549\n",
            "Epoch 89/150\n",
            "768/768 [==============================] - 0s 101us/sample - loss: 0.7637 - acc: 0.6471\n",
            "Epoch 90/150\n",
            "768/768 [==============================] - 0s 90us/sample - loss: 0.7487 - acc: 0.6602\n",
            "Epoch 91/150\n",
            "768/768 [==============================] - 0s 103us/sample - loss: 0.7404 - acc: 0.6536\n",
            "Epoch 92/150\n",
            "768/768 [==============================] - 0s 124us/sample - loss: 0.7251 - acc: 0.6562\n",
            "Epoch 93/150\n",
            "768/768 [==============================] - 0s 119us/sample - loss: 0.7168 - acc: 0.6654\n",
            "Epoch 94/150\n",
            "768/768 [==============================] - 0s 114us/sample - loss: 0.7035 - acc: 0.6719\n",
            "Epoch 95/150\n",
            "768/768 [==============================] - 0s 95us/sample - loss: 0.6899 - acc: 0.6680\n",
            "Epoch 96/150\n",
            "768/768 [==============================] - 0s 96us/sample - loss: 0.6792 - acc: 0.6732\n",
            "Epoch 97/150\n",
            "768/768 [==============================] - 0s 100us/sample - loss: 0.6705 - acc: 0.6823\n",
            "Epoch 98/150\n",
            "768/768 [==============================] - 0s 115us/sample - loss: 0.6673 - acc: 0.6771\n",
            "Epoch 99/150\n",
            "768/768 [==============================] - 0s 111us/sample - loss: 0.6628 - acc: 0.6849\n",
            "Epoch 100/150\n",
            "768/768 [==============================] - 0s 134us/sample - loss: 0.6530 - acc: 0.6823\n",
            "Epoch 101/150\n",
            "768/768 [==============================] - 0s 102us/sample - loss: 0.6460 - acc: 0.6823\n",
            "Epoch 102/150\n",
            "768/768 [==============================] - 0s 100us/sample - loss: 0.6367 - acc: 0.6797\n",
            "Epoch 103/150\n",
            "768/768 [==============================] - 0s 103us/sample - loss: 0.6327 - acc: 0.6810\n",
            "Epoch 104/150\n",
            "768/768 [==============================] - 0s 107us/sample - loss: 0.6299 - acc: 0.6797\n",
            "Epoch 105/150\n",
            "768/768 [==============================] - 0s 117us/sample - loss: 0.6218 - acc: 0.6888\n",
            "Epoch 106/150\n",
            "768/768 [==============================] - 0s 99us/sample - loss: 0.6215 - acc: 0.6810\n",
            "Epoch 107/150\n",
            "768/768 [==============================] - 0s 109us/sample - loss: 0.6150 - acc: 0.6940\n",
            "Epoch 108/150\n",
            "768/768 [==============================] - 0s 116us/sample - loss: 0.6123 - acc: 0.6940\n",
            "Epoch 109/150\n",
            "768/768 [==============================] - 0s 102us/sample - loss: 0.6108 - acc: 0.6875\n",
            "Epoch 110/150\n",
            "768/768 [==============================] - 0s 94us/sample - loss: 0.6120 - acc: 0.7005\n",
            "Epoch 111/150\n",
            "768/768 [==============================] - 0s 101us/sample - loss: 0.6079 - acc: 0.6888\n",
            "Epoch 112/150\n",
            "768/768 [==============================] - 0s 126us/sample - loss: 0.6017 - acc: 0.7005\n",
            "Epoch 113/150\n",
            "768/768 [==============================] - 0s 111us/sample - loss: 0.6031 - acc: 0.6888\n",
            "Epoch 114/150\n",
            "768/768 [==============================] - 0s 109us/sample - loss: 0.6061 - acc: 0.6758\n",
            "Epoch 115/150\n",
            "768/768 [==============================] - 0s 95us/sample - loss: 0.5964 - acc: 0.6979\n",
            "Epoch 116/150\n",
            "768/768 [==============================] - 0s 95us/sample - loss: 0.5954 - acc: 0.7096\n",
            "Epoch 117/150\n",
            "768/768 [==============================] - 0s 111us/sample - loss: 0.5942 - acc: 0.7109\n",
            "Epoch 118/150\n",
            "768/768 [==============================] - 0s 102us/sample - loss: 0.5923 - acc: 0.7174\n",
            "Epoch 119/150\n",
            "768/768 [==============================] - 0s 105us/sample - loss: 0.6008 - acc: 0.6901\n",
            "Epoch 120/150\n",
            "768/768 [==============================] - 0s 98us/sample - loss: 0.5938 - acc: 0.7044\n",
            "Epoch 121/150\n",
            "768/768 [==============================] - 0s 107us/sample - loss: 0.5923 - acc: 0.6979\n",
            "Epoch 122/150\n",
            "768/768 [==============================] - 0s 109us/sample - loss: 0.5965 - acc: 0.6966\n",
            "Epoch 123/150\n",
            "768/768 [==============================] - 0s 99us/sample - loss: 0.6002 - acc: 0.6966\n",
            "Epoch 124/150\n",
            "768/768 [==============================] - 0s 105us/sample - loss: 0.5974 - acc: 0.7005\n",
            "Epoch 125/150\n",
            "768/768 [==============================] - 0s 122us/sample - loss: 0.5837 - acc: 0.7122\n",
            "Epoch 126/150\n",
            "768/768 [==============================] - 0s 99us/sample - loss: 0.6032 - acc: 0.6836\n",
            "Epoch 127/150\n",
            "768/768 [==============================] - 0s 95us/sample - loss: 0.5865 - acc: 0.7266\n",
            "Epoch 128/150\n",
            "768/768 [==============================] - 0s 106us/sample - loss: 0.5855 - acc: 0.7031\n",
            "Epoch 129/150\n",
            "768/768 [==============================] - 0s 110us/sample - loss: 0.5831 - acc: 0.7161\n",
            "Epoch 130/150\n",
            "768/768 [==============================] - 0s 113us/sample - loss: 0.5877 - acc: 0.7096\n",
            "Epoch 131/150\n",
            "768/768 [==============================] - 0s 102us/sample - loss: 0.6102 - acc: 0.6862\n",
            "Epoch 132/150\n",
            "768/768 [==============================] - 0s 100us/sample - loss: 0.5996 - acc: 0.7005\n",
            "Epoch 133/150\n",
            "768/768 [==============================] - 0s 107us/sample - loss: 0.5987 - acc: 0.6862\n",
            "Epoch 134/150\n",
            "768/768 [==============================] - 0s 95us/sample - loss: 0.5858 - acc: 0.7174\n",
            "Epoch 135/150\n",
            "768/768 [==============================] - 0s 106us/sample - loss: 0.5904 - acc: 0.7044\n",
            "Epoch 136/150\n",
            "768/768 [==============================] - 0s 117us/sample - loss: 0.5868 - acc: 0.7161\n",
            "Epoch 137/150\n",
            "768/768 [==============================] - 0s 122us/sample - loss: 0.5816 - acc: 0.7188\n",
            "Epoch 138/150\n",
            "768/768 [==============================] - 0s 106us/sample - loss: 0.5928 - acc: 0.7083\n",
            "Epoch 139/150\n",
            "768/768 [==============================] - 0s 93us/sample - loss: 0.5882 - acc: 0.6979\n",
            "Epoch 140/150\n",
            "768/768 [==============================] - 0s 112us/sample - loss: 0.5935 - acc: 0.6940\n",
            "Epoch 141/150\n",
            "768/768 [==============================] - 0s 117us/sample - loss: 0.5801 - acc: 0.7161\n",
            "Epoch 142/150\n",
            "768/768 [==============================] - 0s 125us/sample - loss: 0.5803 - acc: 0.6979\n",
            "Epoch 143/150\n",
            "768/768 [==============================] - 0s 94us/sample - loss: 0.5811 - acc: 0.7096\n",
            "Epoch 144/150\n",
            "768/768 [==============================] - 0s 100us/sample - loss: 0.5780 - acc: 0.7148\n",
            "Epoch 145/150\n",
            "768/768 [==============================] - 0s 119us/sample - loss: 0.5812 - acc: 0.7005\n",
            "Epoch 146/150\n",
            "768/768 [==============================] - 0s 114us/sample - loss: 0.5930 - acc: 0.7031\n",
            "Epoch 147/150\n",
            "768/768 [==============================] - 0s 98us/sample - loss: 0.5817 - acc: 0.7201\n",
            "Epoch 148/150\n",
            "768/768 [==============================] - 0s 98us/sample - loss: 0.5799 - acc: 0.7201\n",
            "Epoch 149/150\n",
            "768/768 [==============================] - 0s 110us/sample - loss: 0.5786 - acc: 0.7174\n",
            "Epoch 150/150\n",
            "768/768 [==============================] - 0s 108us/sample - loss: 0.5813 - acc: 0.7057\n"
          ],
          "name": "stdout"
        },
        {
          "output_type": "execute_result",
          "data": {
            "text/plain": [
              "<tensorflow.python.keras.callbacks.History at 0x7f5e000e04a8>"
            ]
          },
          "metadata": {
            "tags": []
          },
          "execution_count": 12
        }
      ]
    },
    {
      "cell_type": "code",
      "metadata": {
        "id": "wtsSr597SBTi",
        "colab_type": "code",
        "colab": {
          "base_uri": "https://localhost:8080/",
          "height": 35
        },
        "outputId": "92637434-31ba-4b9b-af66-378a6d12be5c"
      },
      "source": [
        "y.shape"
      ],
      "execution_count": 13,
      "outputs": [
        {
          "output_type": "execute_result",
          "data": {
            "text/plain": [
              "(768,)"
            ]
          },
          "metadata": {
            "tags": []
          },
          "execution_count": 13
        }
      ]
    },
    {
      "cell_type": "markdown",
      "metadata": {
        "id": "Bbb-jogzSBTl",
        "colab_type": "text"
      },
      "source": [
        "### Evaluate Model"
      ]
    },
    {
      "cell_type": "code",
      "metadata": {
        "id": "Y2hx-g9TSBTl",
        "colab_type": "code",
        "colab": {
          "base_uri": "https://localhost:8080/",
          "height": 69
        },
        "outputId": "7e0bbabc-79b3-4609-8682-e205fa156c54"
      },
      "source": [
        "y[:50]"
      ],
      "execution_count": 14,
      "outputs": [
        {
          "output_type": "execute_result",
          "data": {
            "text/plain": [
              "array([1., 0., 1., 0., 1., 0., 1., 0., 1., 1., 0., 1., 0., 1., 1., 1., 1.,\n",
              "       1., 0., 1., 0., 0., 1., 1., 1., 1., 1., 0., 0., 0., 0., 1., 0., 0.,\n",
              "       0., 0., 0., 1., 1., 1., 0., 0., 0., 1., 0., 1., 0., 0., 1., 0.])"
            ]
          },
          "metadata": {
            "tags": []
          },
          "execution_count": 14
        }
      ]
    },
    {
      "cell_type": "code",
      "metadata": {
        "id": "1tRJL3N1SBTo",
        "colab_type": "code",
        "colab": {
          "base_uri": "https://localhost:8080/",
          "height": 35
        },
        "outputId": "94045ce0-e9a2-4ed1-c70a-b12a167fdb26"
      },
      "source": [
        "# Predicting never diabetes\n",
        "sum(y) / len(y) "
      ],
      "execution_count": 15,
      "outputs": [
        {
          "output_type": "execute_result",
          "data": {
            "text/plain": [
              "0.3489583333333333"
            ]
          },
          "metadata": {
            "tags": []
          },
          "execution_count": 15
        }
      ]
    },
    {
      "cell_type": "code",
      "metadata": {
        "id": "qQX_jArCSBTq",
        "colab_type": "code",
        "colab": {
          "base_uri": "https://localhost:8080/",
          "height": 52
        },
        "outputId": "11131426-f214-456a-e14b-462b29d8d4e5"
      },
      "source": [
        "scores = model.evaluate(X,y)\n",
        "print(f\"{model.metrics_names[1]}: {scores[1]*100}\")"
      ],
      "execution_count": 16,
      "outputs": [
        {
          "output_type": "stream",
          "text": [
            "768/768 [==============================] - 0s 105us/sample - loss: 0.5764 - acc: 0.7135\n",
            "acc: 71.35416865348816\n"
          ],
          "name": "stdout"
        }
      ]
    },
    {
      "cell_type": "markdown",
      "metadata": {
        "colab_type": "text",
        "id": "zHYB7k9q3O8T"
      },
      "source": [
        "### Unstable Results\n",
        "\n",
        "You'll notice that if we rerun the results might differ from the origin run. This can be explain by a bunch of factors. Check out some of them in this article: \n",
        "\n",
        "<https://machinelearningmastery.com/randomness-in-machine-learning/>"
      ]
    },
    {
      "cell_type": "markdown",
      "metadata": {
        "id": "bXXdwbWuSBTw",
        "colab_type": "text"
      },
      "source": [
        "## Challenge\n",
        "\n",
        "You will be expected to leverage the Keras `Sequential`api to estimate a feed forward neural networks on a dataset."
      ]
    },
    {
      "cell_type": "markdown",
      "metadata": {
        "colab_type": "text",
        "id": "ueDVpctAzvy8"
      },
      "source": [
        "# Choosing Architecture (Learn)"
      ]
    },
    {
      "cell_type": "markdown",
      "metadata": {
        "id": "q_zbOaCQSBT0",
        "colab_type": "text"
      },
      "source": [
        "## Overview\n",
        "\n",
        "Choosing an architecture for a neural network is almost more an art than a science. Let's do a few experiments:"
      ]
    },
    {
      "cell_type": "markdown",
      "metadata": {
        "id": "K-VrGWDnSBT1",
        "colab_type": "text"
      },
      "source": [
        "## Follow Along"
      ]
    },
    {
      "cell_type": "code",
      "metadata": {
        "colab_type": "code",
        "id": "6W2Sc7-LzQo_",
        "colab": {
          "base_uri": "https://localhost:8080/",
          "height": 260
        },
        "outputId": "96e6d932-d3e1-44d1-c5df-9eb0e871807f"
      },
      "source": [
        "# Tell me your ideas\n",
        "\n",
        "model_improved = Sequential()\n",
        "\n",
        "model_improved.add(Dense(4, input_dim=8, activation='relu'))\n",
        "model_improved.add(Dense(3, activation='sigmoid'))\n",
        "model_improved.add(Dense(1, activation='sigmoid'))\n",
        "\n",
        "model_improved.compile(loss='binary_crossentropy', optimizer='adam',\n",
        "              metrics=['accuracy'])\n",
        "\n",
        "# Let's inspect our new architecture\n",
        "model_improved.summary()"
      ],
      "execution_count": 17,
      "outputs": [
        {
          "output_type": "stream",
          "text": [
            "Model: \"sequential_2\"\n",
            "_________________________________________________________________\n",
            "Layer (type)                 Output Shape              Param #   \n",
            "=================================================================\n",
            "dense_2 (Dense)              (None, 4)                 36        \n",
            "_________________________________________________________________\n",
            "dense_3 (Dense)              (None, 3)                 15        \n",
            "_________________________________________________________________\n",
            "dense_4 (Dense)              (None, 1)                 4         \n",
            "=================================================================\n",
            "Total params: 55\n",
            "Trainable params: 55\n",
            "Non-trainable params: 0\n",
            "_________________________________________________________________\n"
          ],
          "name": "stdout"
        }
      ]
    },
    {
      "cell_type": "code",
      "metadata": {
        "id": "-ucybYIYSBT4",
        "colab_type": "code",
        "colab": {
          "base_uri": "https://localhost:8080/",
          "height": 1000
        },
        "outputId": "db5a7897-4a8f-485b-a967-1c50b00cabc1"
      },
      "source": [
        "model_improved.fit(X, y, epochs=150) # What parameters can I specify here?"
      ],
      "execution_count": 18,
      "outputs": [
        {
          "output_type": "stream",
          "text": [
            "Train on 768 samples\n",
            "Epoch 1/150\n",
            "768/768 [==============================] - 0s 217us/sample - loss: 0.7143 - acc: 0.6510\n",
            "Epoch 2/150\n",
            "768/768 [==============================] - 0s 108us/sample - loss: 0.7043 - acc: 0.6510\n",
            "Epoch 3/150\n",
            "768/768 [==============================] - 0s 138us/sample - loss: 0.6943 - acc: 0.6510\n",
            "Epoch 4/150\n",
            "768/768 [==============================] - 0s 122us/sample - loss: 0.6848 - acc: 0.6536\n",
            "Epoch 5/150\n",
            "768/768 [==============================] - 0s 129us/sample - loss: 0.6777 - acc: 0.6523\n",
            "Epoch 6/150\n",
            "768/768 [==============================] - 0s 124us/sample - loss: 0.6716 - acc: 0.6536\n",
            "Epoch 7/150\n",
            "768/768 [==============================] - 0s 115us/sample - loss: 0.6656 - acc: 0.6562\n",
            "Epoch 8/150\n",
            "768/768 [==============================] - 0s 123us/sample - loss: 0.6613 - acc: 0.6562\n",
            "Epoch 9/150\n",
            "768/768 [==============================] - 0s 118us/sample - loss: 0.6580 - acc: 0.6523\n",
            "Epoch 10/150\n",
            "768/768 [==============================] - 0s 123us/sample - loss: 0.6534 - acc: 0.6549\n",
            "Epoch 11/150\n",
            "768/768 [==============================] - 0s 142us/sample - loss: 0.6510 - acc: 0.6576\n",
            "Epoch 12/150\n",
            "768/768 [==============================] - 0s 128us/sample - loss: 0.6492 - acc: 0.6549\n",
            "Epoch 13/150\n",
            "768/768 [==============================] - 0s 142us/sample - loss: 0.6475 - acc: 0.6589\n",
            "Epoch 14/150\n",
            "768/768 [==============================] - 0s 134us/sample - loss: 0.6451 - acc: 0.6562\n",
            "Epoch 15/150\n",
            "768/768 [==============================] - 0s 133us/sample - loss: 0.6445 - acc: 0.6562\n",
            "Epoch 16/150\n",
            "768/768 [==============================] - 0s 120us/sample - loss: 0.6435 - acc: 0.6576\n",
            "Epoch 17/150\n",
            "768/768 [==============================] - 0s 111us/sample - loss: 0.6416 - acc: 0.6615\n",
            "Epoch 18/150\n",
            "768/768 [==============================] - 0s 114us/sample - loss: 0.6410 - acc: 0.6589\n",
            "Epoch 19/150\n",
            "768/768 [==============================] - 0s 110us/sample - loss: 0.6404 - acc: 0.6602\n",
            "Epoch 20/150\n",
            "768/768 [==============================] - 0s 121us/sample - loss: 0.6402 - acc: 0.6589\n",
            "Epoch 21/150\n",
            "768/768 [==============================] - 0s 116us/sample - loss: 0.6398 - acc: 0.6628\n",
            "Epoch 22/150\n",
            "768/768 [==============================] - 0s 126us/sample - loss: 0.6390 - acc: 0.6615\n",
            "Epoch 23/150\n",
            "768/768 [==============================] - 0s 108us/sample - loss: 0.6387 - acc: 0.6615\n",
            "Epoch 24/150\n",
            "768/768 [==============================] - 0s 113us/sample - loss: 0.6392 - acc: 0.6589\n",
            "Epoch 25/150\n",
            "768/768 [==============================] - 0s 138us/sample - loss: 0.6397 - acc: 0.6602\n",
            "Epoch 26/150\n",
            "768/768 [==============================] - 0s 107us/sample - loss: 0.6385 - acc: 0.6628\n",
            "Epoch 27/150\n",
            "768/768 [==============================] - 0s 114us/sample - loss: 0.6392 - acc: 0.6602\n",
            "Epoch 28/150\n",
            "768/768 [==============================] - 0s 124us/sample - loss: 0.6383 - acc: 0.6615\n",
            "Epoch 29/150\n",
            "768/768 [==============================] - 0s 128us/sample - loss: 0.6380 - acc: 0.6641\n",
            "Epoch 30/150\n",
            "768/768 [==============================] - 0s 118us/sample - loss: 0.6375 - acc: 0.6628\n",
            "Epoch 31/150\n",
            "768/768 [==============================] - 0s 117us/sample - loss: 0.6373 - acc: 0.6654\n",
            "Epoch 32/150\n",
            "768/768 [==============================] - 0s 130us/sample - loss: 0.6370 - acc: 0.6641\n",
            "Epoch 33/150\n",
            "768/768 [==============================] - 0s 125us/sample - loss: 0.6372 - acc: 0.6641\n",
            "Epoch 34/150\n",
            "768/768 [==============================] - 0s 112us/sample - loss: 0.6366 - acc: 0.6680\n",
            "Epoch 35/150\n",
            "768/768 [==============================] - 0s 159us/sample - loss: 0.6360 - acc: 0.6680\n",
            "Epoch 36/150\n",
            "768/768 [==============================] - 0s 131us/sample - loss: 0.6360 - acc: 0.6680\n",
            "Epoch 37/150\n",
            "768/768 [==============================] - 0s 114us/sample - loss: 0.6358 - acc: 0.6693\n",
            "Epoch 38/150\n",
            "768/768 [==============================] - 0s 140us/sample - loss: 0.6356 - acc: 0.6680\n",
            "Epoch 39/150\n",
            "768/768 [==============================] - 0s 116us/sample - loss: 0.6357 - acc: 0.6680\n",
            "Epoch 40/150\n",
            "768/768 [==============================] - 0s 118us/sample - loss: 0.6356 - acc: 0.6693\n",
            "Epoch 41/150\n",
            "768/768 [==============================] - 0s 119us/sample - loss: 0.6352 - acc: 0.6693\n",
            "Epoch 42/150\n",
            "768/768 [==============================] - 0s 119us/sample - loss: 0.6352 - acc: 0.6680\n",
            "Epoch 43/150\n",
            "768/768 [==============================] - 0s 117us/sample - loss: 0.6348 - acc: 0.6693\n",
            "Epoch 44/150\n",
            "768/768 [==============================] - 0s 138us/sample - loss: 0.6346 - acc: 0.6693\n",
            "Epoch 45/150\n",
            "768/768 [==============================] - 0s 121us/sample - loss: 0.6345 - acc: 0.6680\n",
            "Epoch 46/150\n",
            "768/768 [==============================] - 0s 166us/sample - loss: 0.6345 - acc: 0.6693\n",
            "Epoch 47/150\n",
            "768/768 [==============================] - 0s 121us/sample - loss: 0.6350 - acc: 0.6680\n",
            "Epoch 48/150\n",
            "768/768 [==============================] - 0s 113us/sample - loss: 0.6344 - acc: 0.6680\n",
            "Epoch 49/150\n",
            "768/768 [==============================] - 0s 112us/sample - loss: 0.6345 - acc: 0.6680\n",
            "Epoch 50/150\n",
            "768/768 [==============================] - 0s 118us/sample - loss: 0.6343 - acc: 0.6693\n",
            "Epoch 51/150\n",
            "768/768 [==============================] - 0s 122us/sample - loss: 0.6341 - acc: 0.6680\n",
            "Epoch 52/150\n",
            "768/768 [==============================] - 0s 114us/sample - loss: 0.6338 - acc: 0.6680\n",
            "Epoch 53/150\n",
            "768/768 [==============================] - 0s 124us/sample - loss: 0.6338 - acc: 0.6693\n",
            "Epoch 54/150\n",
            "768/768 [==============================] - 0s 128us/sample - loss: 0.6333 - acc: 0.6693\n",
            "Epoch 55/150\n",
            "768/768 [==============================] - 0s 108us/sample - loss: 0.6337 - acc: 0.6680\n",
            "Epoch 56/150\n",
            "768/768 [==============================] - 0s 162us/sample - loss: 0.6335 - acc: 0.6693\n",
            "Epoch 57/150\n",
            "768/768 [==============================] - 0s 122us/sample - loss: 0.6334 - acc: 0.6680\n",
            "Epoch 58/150\n",
            "768/768 [==============================] - 0s 113us/sample - loss: 0.6336 - acc: 0.6693\n",
            "Epoch 59/150\n",
            "768/768 [==============================] - 0s 118us/sample - loss: 0.6340 - acc: 0.6654\n",
            "Epoch 60/150\n",
            "768/768 [==============================] - 0s 121us/sample - loss: 0.6328 - acc: 0.6680\n",
            "Epoch 61/150\n",
            "768/768 [==============================] - 0s 120us/sample - loss: 0.6328 - acc: 0.6693\n",
            "Epoch 62/150\n",
            "768/768 [==============================] - 0s 112us/sample - loss: 0.6328 - acc: 0.6693\n",
            "Epoch 63/150\n",
            "768/768 [==============================] - 0s 112us/sample - loss: 0.6329 - acc: 0.6680\n",
            "Epoch 64/150\n",
            "768/768 [==============================] - 0s 113us/sample - loss: 0.6326 - acc: 0.6693\n",
            "Epoch 65/150\n",
            "768/768 [==============================] - 0s 112us/sample - loss: 0.6325 - acc: 0.6693\n",
            "Epoch 66/150\n",
            "768/768 [==============================] - 0s 132us/sample - loss: 0.6329 - acc: 0.6680\n",
            "Epoch 67/150\n",
            "768/768 [==============================] - 0s 126us/sample - loss: 0.6324 - acc: 0.6693\n",
            "Epoch 68/150\n",
            "768/768 [==============================] - 0s 119us/sample - loss: 0.6328 - acc: 0.6693\n",
            "Epoch 69/150\n",
            "768/768 [==============================] - 0s 114us/sample - loss: 0.6326 - acc: 0.6693\n",
            "Epoch 70/150\n",
            "768/768 [==============================] - 0s 116us/sample - loss: 0.6323 - acc: 0.6693\n",
            "Epoch 71/150\n",
            "768/768 [==============================] - 0s 124us/sample - loss: 0.6319 - acc: 0.6693\n",
            "Epoch 72/150\n",
            "768/768 [==============================] - 0s 118us/sample - loss: 0.6320 - acc: 0.6680\n",
            "Epoch 73/150\n",
            "768/768 [==============================] - 0s 131us/sample - loss: 0.6322 - acc: 0.6693\n",
            "Epoch 74/150\n",
            "768/768 [==============================] - 0s 119us/sample - loss: 0.6327 - acc: 0.6667\n",
            "Epoch 75/150\n",
            "768/768 [==============================] - 0s 112us/sample - loss: 0.6313 - acc: 0.6706\n",
            "Epoch 76/150\n",
            "768/768 [==============================] - 0s 130us/sample - loss: 0.6314 - acc: 0.6693\n",
            "Epoch 77/150\n",
            "768/768 [==============================] - 0s 125us/sample - loss: 0.6314 - acc: 0.6680\n",
            "Epoch 78/150\n",
            "768/768 [==============================] - 0s 136us/sample - loss: 0.6312 - acc: 0.6693\n",
            "Epoch 79/150\n",
            "768/768 [==============================] - 0s 124us/sample - loss: 0.6310 - acc: 0.6680\n",
            "Epoch 80/150\n",
            "768/768 [==============================] - 0s 121us/sample - loss: 0.6309 - acc: 0.6693\n",
            "Epoch 81/150\n",
            "768/768 [==============================] - 0s 130us/sample - loss: 0.6321 - acc: 0.6654\n",
            "Epoch 82/150\n",
            "768/768 [==============================] - 0s 117us/sample - loss: 0.6312 - acc: 0.6680\n",
            "Epoch 83/150\n",
            "768/768 [==============================] - 0s 113us/sample - loss: 0.6312 - acc: 0.6680\n",
            "Epoch 84/150\n",
            "768/768 [==============================] - 0s 121us/sample - loss: 0.6310 - acc: 0.6693\n",
            "Epoch 85/150\n",
            "768/768 [==============================] - 0s 131us/sample - loss: 0.6306 - acc: 0.6693\n",
            "Epoch 86/150\n",
            "768/768 [==============================] - 0s 139us/sample - loss: 0.6318 - acc: 0.6680\n",
            "Epoch 87/150\n",
            "768/768 [==============================] - 0s 110us/sample - loss: 0.6305 - acc: 0.6680\n",
            "Epoch 88/150\n",
            "768/768 [==============================] - 0s 112us/sample - loss: 0.6302 - acc: 0.6693\n",
            "Epoch 89/150\n",
            "768/768 [==============================] - 0s 142us/sample - loss: 0.6304 - acc: 0.6667\n",
            "Epoch 90/150\n",
            "768/768 [==============================] - 0s 119us/sample - loss: 0.6299 - acc: 0.6693\n",
            "Epoch 91/150\n",
            "768/768 [==============================] - 0s 112us/sample - loss: 0.6298 - acc: 0.6680\n",
            "Epoch 92/150\n",
            "768/768 [==============================] - 0s 112us/sample - loss: 0.6296 - acc: 0.6693\n",
            "Epoch 93/150\n",
            "768/768 [==============================] - 0s 106us/sample - loss: 0.6312 - acc: 0.6667\n",
            "Epoch 94/150\n",
            "768/768 [==============================] - 0s 109us/sample - loss: 0.6301 - acc: 0.6680\n",
            "Epoch 95/150\n",
            "768/768 [==============================] - 0s 116us/sample - loss: 0.6296 - acc: 0.6680\n",
            "Epoch 96/150\n",
            "768/768 [==============================] - 0s 114us/sample - loss: 0.6293 - acc: 0.6693\n",
            "Epoch 97/150\n",
            "768/768 [==============================] - 0s 137us/sample - loss: 0.6303 - acc: 0.6667\n",
            "Epoch 98/150\n",
            "768/768 [==============================] - 0s 121us/sample - loss: 0.6308 - acc: 0.6667\n",
            "Epoch 99/150\n",
            "768/768 [==============================] - 0s 120us/sample - loss: 0.6290 - acc: 0.6680\n",
            "Epoch 100/150\n",
            "768/768 [==============================] - 0s 152us/sample - loss: 0.6293 - acc: 0.6693\n",
            "Epoch 101/150\n",
            "768/768 [==============================] - 0s 113us/sample - loss: 0.6296 - acc: 0.6667\n",
            "Epoch 102/150\n",
            "768/768 [==============================] - 0s 117us/sample - loss: 0.6303 - acc: 0.6667\n",
            "Epoch 103/150\n",
            "768/768 [==============================] - 0s 111us/sample - loss: 0.6315 - acc: 0.6641\n",
            "Epoch 104/150\n",
            "768/768 [==============================] - 0s 124us/sample - loss: 0.6298 - acc: 0.6680\n",
            "Epoch 105/150\n",
            "768/768 [==============================] - 0s 120us/sample - loss: 0.6285 - acc: 0.6680\n",
            "Epoch 106/150\n",
            "768/768 [==============================] - 0s 119us/sample - loss: 0.6283 - acc: 0.6693\n",
            "Epoch 107/150\n",
            "768/768 [==============================] - 0s 129us/sample - loss: 0.6286 - acc: 0.6693\n",
            "Epoch 108/150\n",
            "768/768 [==============================] - 0s 109us/sample - loss: 0.6285 - acc: 0.6693\n",
            "Epoch 109/150\n",
            "768/768 [==============================] - 0s 127us/sample - loss: 0.6280 - acc: 0.6680\n",
            "Epoch 110/150\n",
            "768/768 [==============================] - 0s 115us/sample - loss: 0.6278 - acc: 0.6693\n",
            "Epoch 111/150\n",
            "768/768 [==============================] - 0s 135us/sample - loss: 0.6278 - acc: 0.6693\n",
            "Epoch 112/150\n",
            "768/768 [==============================] - 0s 115us/sample - loss: 0.6278 - acc: 0.6680\n",
            "Epoch 113/150\n",
            "768/768 [==============================] - 0s 123us/sample - loss: 0.6278 - acc: 0.6680\n",
            "Epoch 114/150\n",
            "768/768 [==============================] - 0s 110us/sample - loss: 0.6277 - acc: 0.6680\n",
            "Epoch 115/150\n",
            "768/768 [==============================] - 0s 110us/sample - loss: 0.6309 - acc: 0.6641\n",
            "Epoch 116/150\n",
            "768/768 [==============================] - 0s 120us/sample - loss: 0.6306 - acc: 0.6641\n",
            "Epoch 117/150\n",
            "768/768 [==============================] - 0s 118us/sample - loss: 0.6289 - acc: 0.6628\n",
            "Epoch 118/150\n",
            "768/768 [==============================] - 0s 150us/sample - loss: 0.6271 - acc: 0.6680\n",
            "Epoch 119/150\n",
            "768/768 [==============================] - 0s 119us/sample - loss: 0.6271 - acc: 0.6693\n",
            "Epoch 120/150\n",
            "768/768 [==============================] - 0s 107us/sample - loss: 0.6270 - acc: 0.6693\n",
            "Epoch 121/150\n",
            "768/768 [==============================] - 0s 112us/sample - loss: 0.6267 - acc: 0.6693\n",
            "Epoch 122/150\n",
            "768/768 [==============================] - 0s 142us/sample - loss: 0.6266 - acc: 0.6706\n",
            "Epoch 123/150\n",
            "768/768 [==============================] - 0s 112us/sample - loss: 0.6273 - acc: 0.6706\n",
            "Epoch 124/150\n",
            "768/768 [==============================] - 0s 118us/sample - loss: 0.6275 - acc: 0.6680\n",
            "Epoch 125/150\n",
            "768/768 [==============================] - 0s 124us/sample - loss: 0.6274 - acc: 0.6693\n",
            "Epoch 126/150\n",
            "768/768 [==============================] - 0s 121us/sample - loss: 0.6269 - acc: 0.6706\n",
            "Epoch 127/150\n",
            "768/768 [==============================] - 0s 122us/sample - loss: 0.6265 - acc: 0.6706\n",
            "Epoch 128/150\n",
            "768/768 [==============================] - 0s 132us/sample - loss: 0.6271 - acc: 0.6693\n",
            "Epoch 129/150\n",
            "768/768 [==============================] - 0s 128us/sample - loss: 0.6265 - acc: 0.6680\n",
            "Epoch 130/150\n",
            "768/768 [==============================] - 0s 116us/sample - loss: 0.6261 - acc: 0.6693\n",
            "Epoch 131/150\n",
            "768/768 [==============================] - 0s 105us/sample - loss: 0.6261 - acc: 0.6706\n",
            "Epoch 132/150\n",
            "768/768 [==============================] - 0s 120us/sample - loss: 0.6266 - acc: 0.6680\n",
            "Epoch 133/150\n",
            "768/768 [==============================] - 0s 123us/sample - loss: 0.6273 - acc: 0.6667\n",
            "Epoch 134/150\n",
            "768/768 [==============================] - 0s 107us/sample - loss: 0.6266 - acc: 0.6680\n",
            "Epoch 135/150\n",
            "768/768 [==============================] - 0s 120us/sample - loss: 0.6259 - acc: 0.6693\n",
            "Epoch 136/150\n",
            "768/768 [==============================] - 0s 128us/sample - loss: 0.6264 - acc: 0.6680\n",
            "Epoch 137/150\n",
            "768/768 [==============================] - 0s 131us/sample - loss: 0.6265 - acc: 0.6693\n",
            "Epoch 138/150\n",
            "768/768 [==============================] - 0s 122us/sample - loss: 0.6266 - acc: 0.6667\n",
            "Epoch 139/150\n",
            "768/768 [==============================] - 0s 116us/sample - loss: 0.6286 - acc: 0.6654\n",
            "Epoch 140/150\n",
            "768/768 [==============================] - 0s 142us/sample - loss: 0.6277 - acc: 0.6654\n",
            "Epoch 141/150\n",
            "768/768 [==============================] - 0s 107us/sample - loss: 0.6266 - acc: 0.6667\n",
            "Epoch 142/150\n",
            "768/768 [==============================] - 0s 108us/sample - loss: 0.6268 - acc: 0.6641\n",
            "Epoch 143/150\n",
            "768/768 [==============================] - 0s 134us/sample - loss: 0.6254 - acc: 0.6693\n",
            "Epoch 144/150\n",
            "768/768 [==============================] - 0s 133us/sample - loss: 0.6254 - acc: 0.6667\n",
            "Epoch 145/150\n",
            "768/768 [==============================] - 0s 117us/sample - loss: 0.6254 - acc: 0.6693\n",
            "Epoch 146/150\n",
            "768/768 [==============================] - 0s 127us/sample - loss: 0.6250 - acc: 0.6680\n",
            "Epoch 147/150\n",
            "768/768 [==============================] - 0s 119us/sample - loss: 0.6249 - acc: 0.6693\n",
            "Epoch 148/150\n",
            "768/768 [==============================] - 0s 115us/sample - loss: 0.6246 - acc: 0.6693\n",
            "Epoch 149/150\n",
            "768/768 [==============================] - 0s 130us/sample - loss: 0.6248 - acc: 0.6693\n",
            "Epoch 150/150\n",
            "768/768 [==============================] - 0s 110us/sample - loss: 0.6246 - acc: 0.6693\n"
          ],
          "name": "stdout"
        },
        {
          "output_type": "execute_result",
          "data": {
            "text/plain": [
              "<tensorflow.python.keras.callbacks.History at 0x7f5db575aeb8>"
            ]
          },
          "metadata": {
            "tags": []
          },
          "execution_count": 18
        }
      ]
    },
    {
      "cell_type": "code",
      "metadata": {
        "id": "I4xyIcb6SBT8",
        "colab_type": "code",
        "colab": {
          "base_uri": "https://localhost:8080/",
          "height": 52
        },
        "outputId": "7c4caa32-e54e-4acb-98a1-2b69f743312a"
      },
      "source": [
        "score = model_improved.evaluate(X,y)\n",
        "print(f\"{model_improved.metrics_names[1]}: {scores[1]*100}\")"
      ],
      "execution_count": 19,
      "outputs": [
        {
          "output_type": "stream",
          "text": [
            "768/768 [==============================] - 0s 102us/sample - loss: 0.6242 - acc: 0.6706\n",
            "acc: 71.35416865348816\n"
          ],
          "name": "stdout"
        }
      ]
    },
    {
      "cell_type": "markdown",
      "metadata": {
        "id": "N5WaPfOjSBUB",
        "colab_type": "text"
      },
      "source": [
        "## Challenge\n",
        "\n",
        "You will have to choose your own architectures in today's module project. "
      ]
    },
    {
      "cell_type": "markdown",
      "metadata": {
        "colab_type": "text",
        "id": "tcjMuxtn6wIQ",
        "toc-hr-collapsed": false
      },
      "source": [
        "# Activation Functions (Learn)"
      ]
    },
    {
      "cell_type": "markdown",
      "metadata": {
        "colab_type": "text",
        "toc-hr-collapsed": false,
        "id": "An0kUp6VSBUE"
      },
      "source": [
        "## Overview\n",
        "What is an activation function and how does it work?\n",
        "\n",
        "- Takes in a weighted sum of inputs + a bias from the previous layer and outputs an \"activation\" value.\n",
        "- Based its inputs the neuron decides how 'activated' it should be. This can be thought of as the neuron deciding how strongly to fire. You can also think of it as if the neuron is deciding how much of the signal that it has received to pass onto the next layer. \n",
        "- Our choice of activation function does not only affect signal that is passed forward but also affects the backpropagation algorithm. It affects how we update weights in reverse order since activated weight/input sums become the inputs of the next layer. "
      ]
    },
    {
      "cell_type": "markdown",
      "metadata": {
        "toc-hr-collapsed": true,
        "id": "_5Gl7kKlSBUF",
        "colab_type": "text"
      },
      "source": [
        "## Follow Along"
      ]
    },
    {
      "cell_type": "markdown",
      "metadata": {
        "colab_type": "text",
        "id": "n_b0u8Ch60bA"
      },
      "source": [
        "### Step Function\n",
        "\n",
        "![Heaviside Step Function](https://upload.wikimedia.org/wikipedia/commons/thumb/d/d9/Dirac_distribution_CDF.svg/325px-Dirac_distribution_CDF.svg.png)\n",
        "\n",
        "All or nothing, a little extreme, which is fine, but makes updating weights through backpropagation impossible. Why? remember that during backpropagation we use derivatives in order to determine how much to update or not update weights. What is the derivative of the step function?"
      ]
    },
    {
      "cell_type": "markdown",
      "metadata": {
        "colab_type": "text",
        "id": "vKR0YhIVEnXZ"
      },
      "source": [
        "### Linear Function\n",
        "\n",
        "![Linear Function](http://www.roconnell.net/Parent%20function/linear.gif)\n",
        "\n",
        "The linear function takes the opposite tact from the step function and passes the signal onto the next layer by a constant factor. There are problems with this but the biggest problems again lie in backpropagation. The derivative of any linear function is a horizontal line which would indicate that we should update all weights by a constant amount every time -which on balance wouldn't change the behavior of our network. Linear functions are typically only used for very simple tasks where interpretability is important, but if interpretability is your highest priority, you probably shouldn't be using neural networks in the first place."
      ]
    },
    {
      "cell_type": "markdown",
      "metadata": {
        "colab_type": "text",
        "id": "JFurIVL6EkQ8"
      },
      "source": [
        "### Sigmoid Function\n",
        "\n",
        "![Sigmoid Function](https://upload.wikimedia.org/wikipedia/commons/thumb/8/88/Logistic-curve.svg/480px-Logistic-curve.svg.png)\n",
        "\n",
        "The sigmoid function works great as an activation function! it's continuously differentiable, its derivative doesn't have a constant slope, and having the higher slope in the middle pushes y value predictions towards extremes which is particularly useful for binary classification problems. I mean, this is why we use it as the squishifier in logistic regression as well. It constrains output, but over repeated epochs pushes predictions towards a strong binary prediction. \n",
        "\n",
        "What's the biggest problem with the sigmoid function? The fact that its slope gets pretty flat so quickly after its departure from zero. This means that updating weights based on its gradient really diminishes the size of our weight updates as our model gets more confident about its classifications. This is why even after so many iterations with our test score example we couldn't reach the levels of fit that our gradient descent based model could reach in just a few epochs."
      ]
    },
    {
      "cell_type": "markdown",
      "metadata": {
        "colab_type": "text",
        "id": "hm6p1HWbEhYi"
      },
      "source": [
        "### Tanh Function\n",
        "\n",
        "![Tanh Function](http://mathworld.wolfram.com/images/interactive/TanhReal.gif)\n",
        "\n",
        "What if the sigmoid function didn't get so flat quite as soon when moving away from zero and was a little bit steeper in the middle? That's basically the Tanh function. The Tanh function can actually be created by scaling the sigmoid function by 2 in the y dimension and subtracting 1 from all values. It has basically the same properties as the sigmoid, still struggles from diminishingly flat gradients as we move away from 0, but its derivative is higher around 0 causing weights to move to the extremes a little faster. "
      ]
    },
    {
      "cell_type": "markdown",
      "metadata": {
        "colab_type": "text",
        "id": "sFOn_L6gEcz1"
      },
      "source": [
        "### ReLU Function\n",
        "\n",
        "![ReLU Function](https://cdn-images-1.medium.com/max/937/1*oePAhrm74RNnNEolprmTaQ.png)\n",
        "\n",
        "ReLU stands for Rectified Linear Units it is by far the most commonly used activation function in modern neural networks. It doesn't activate neurons that are being passed a negative signal and passes on positive signals. Think about why this might be useful. Remember how a lot of our initial weights got set to negative numbers by chance? This would have dealt with those negative weights a lot faster than the sigmoid function updating. What does the derivative of this function look like? It looks like the step function! This means that not all neurons are activated. With sigmoid basically all of our neurons are passing some amount of signal even if it's small making it hard for the network to differentiate important and less important connections. ReLU turns off a portion of our less important neurons which decreases computational load, but also helps the network learn what the most important connections are faster. \n",
        "\n",
        "What's the problem with relu? Well the left half of its derivative function shows that for neurons that are initialized with weights that cause them to have no activation, our gradient will not update those neuron's weights, this can lead to dead neurons that never fire and whose weights never get updated. We would probably want to update the weights of neurons that didn't fire even if it's just by a little bit in case we got unlucky with our initial weights and want to give those neurons a chance of turning back on in the future."
      ]
    },
    {
      "cell_type": "markdown",
      "metadata": {
        "colab_type": "text",
        "id": "XWdvWOBIETwk"
      },
      "source": [
        "### Leaky ReLU\n",
        "\n",
        "![Leaky ReLU](https://cdn-images-1.medium.com/max/1600/1*ypsvQH7kvtI2BhzR2eT_Sw.png)\n",
        "\n",
        "Leaky ReLU accomplishes exactly that! it avoids having a gradient of 0 on the left side of its derivative function. This means that even \"dead\" neurons have a chance of being revived over enough iterations. In some specifications the slope of the leaky left-hand side can also be experimented with as a hyperparameter of the model!"
      ]
    },
    {
      "cell_type": "markdown",
      "metadata": {
        "colab_type": "text",
        "id": "FcAxkNFREMFb"
      },
      "source": [
        "### Softmax Function\n",
        "\n",
        "![Softmax Function](https://cdn-images-1.medium.com/max/800/1*670CdxchunD-yAuUWdI7Bw.png)\n",
        "\n",
        "Like the sigmoid function but more useful for multi-class classification problems. The softmax function can take any set of inputs and translate them into probabilities that sum up to 1. This means that we can throw any list of outputs at it and it will translate them into probabilities, this is extremely useful for multi-class classification problems. Like MNIST for example..."
      ]
    },
    {
      "cell_type": "markdown",
      "metadata": {
        "colab_type": "text",
        "id": "23-XRRXKHs34"
      },
      "source": [
        "### Major takeaways\n",
        "\n",
        "- ReLU is generally better at obtaining the optimal model fit.\n",
        "- Sigmoid and its derivatives are usually better at classification problems.\n",
        "- Softmax for multi-class classification problems. \n",
        "\n",
        "You'll typically see ReLU used for all initial layers and then the final layer being sigmoid or softmax for classification problems. But you can experiment and tune these selections as hyperparameters as well!"
      ]
    },
    {
      "cell_type": "markdown",
      "metadata": {
        "colab_type": "text",
        "id": "TWuoXZCCKCI7"
      },
      "source": [
        "### MNIST with Keras \n",
        "\n",
        "#### This will be a good chance to bring up dropout regularization. :)"
      ]
    },
    {
      "cell_type": "code",
      "metadata": {
        "colab_type": "code",
        "id": "jmJ_5azs04pU",
        "colab": {}
      },
      "source": [
        "### Let's do it!\n",
        "\n",
        "from tensorflow import keras\n",
        "from tensorflow.keras.datasets import mnist\n",
        "from tensorflow.keras.models import Sequential\n",
        "from tensorflow.keras.layers import Dense, Dropout\n",
        "\n",
        "# Stretch - use dropout \n",
        "import numpy as np"
      ],
      "execution_count": 0,
      "outputs": []
    },
    {
      "cell_type": "code",
      "metadata": {
        "id": "pApgx8PcSBUO",
        "colab_type": "code",
        "colab": {}
      },
      "source": [
        "# Hyper Parameters\n",
        "batch_size = 64\n",
        "num_classes = 10\n",
        "epochs = 20"
      ],
      "execution_count": 0,
      "outputs": []
    },
    {
      "cell_type": "code",
      "metadata": {
        "id": "uDWvxmBbSBUR",
        "colab_type": "code",
        "colab": {}
      },
      "source": [
        "# Load the Data\n",
        "(X_train, y_train), (X_test, y_test) = mnist.load_data()"
      ],
      "execution_count": 0,
      "outputs": []
    },
    {
      "cell_type": "code",
      "metadata": {
        "id": "9BR-eNcySBUT",
        "colab_type": "code",
        "colab": {
          "base_uri": "https://localhost:8080/",
          "height": 35
        },
        "outputId": "6d873216-f518-4f0c-b5c1-2f931b1c9b2f"
      },
      "source": [
        "X_train[0].shape"
      ],
      "execution_count": 23,
      "outputs": [
        {
          "output_type": "execute_result",
          "data": {
            "text/plain": [
              "(28, 28)"
            ]
          },
          "metadata": {
            "tags": []
          },
          "execution_count": 23
        }
      ]
    },
    {
      "cell_type": "code",
      "metadata": {
        "id": "zqPA8w8_SBUV",
        "colab_type": "code",
        "colab": {
          "base_uri": "https://localhost:8080/",
          "height": 35
        },
        "outputId": "980f76c2-1167-4826-d1e1-e0df27a06d54"
      },
      "source": [
        "X_train.shape"
      ],
      "execution_count": 24,
      "outputs": [
        {
          "output_type": "execute_result",
          "data": {
            "text/plain": [
              "(60000, 28, 28)"
            ]
          },
          "metadata": {
            "tags": []
          },
          "execution_count": 24
        }
      ]
    },
    {
      "cell_type": "code",
      "metadata": {
        "id": "Sv2TKxDbSBUY",
        "colab_type": "code",
        "colab": {
          "base_uri": "https://localhost:8080/",
          "height": 1000
        },
        "outputId": "695b04b4-97ee-4053-c952-9173b58d8fd5"
      },
      "source": [
        "X_train[0]"
      ],
      "execution_count": 25,
      "outputs": [
        {
          "output_type": "execute_result",
          "data": {
            "text/plain": [
              "array([[  0,   0,   0,   0,   0,   0,   0,   0,   0,   0,   0,   0,   0,\n",
              "          0,   0,   0,   0,   0,   0,   0,   0,   0,   0,   0,   0,   0,\n",
              "          0,   0],\n",
              "       [  0,   0,   0,   0,   0,   0,   0,   0,   0,   0,   0,   0,   0,\n",
              "          0,   0,   0,   0,   0,   0,   0,   0,   0,   0,   0,   0,   0,\n",
              "          0,   0],\n",
              "       [  0,   0,   0,   0,   0,   0,   0,   0,   0,   0,   0,   0,   0,\n",
              "          0,   0,   0,   0,   0,   0,   0,   0,   0,   0,   0,   0,   0,\n",
              "          0,   0],\n",
              "       [  0,   0,   0,   0,   0,   0,   0,   0,   0,   0,   0,   0,   0,\n",
              "          0,   0,   0,   0,   0,   0,   0,   0,   0,   0,   0,   0,   0,\n",
              "          0,   0],\n",
              "       [  0,   0,   0,   0,   0,   0,   0,   0,   0,   0,   0,   0,   0,\n",
              "          0,   0,   0,   0,   0,   0,   0,   0,   0,   0,   0,   0,   0,\n",
              "          0,   0],\n",
              "       [  0,   0,   0,   0,   0,   0,   0,   0,   0,   0,   0,   0,   3,\n",
              "         18,  18,  18, 126, 136, 175,  26, 166, 255, 247, 127,   0,   0,\n",
              "          0,   0],\n",
              "       [  0,   0,   0,   0,   0,   0,   0,   0,  30,  36,  94, 154, 170,\n",
              "        253, 253, 253, 253, 253, 225, 172, 253, 242, 195,  64,   0,   0,\n",
              "          0,   0],\n",
              "       [  0,   0,   0,   0,   0,   0,   0,  49, 238, 253, 253, 253, 253,\n",
              "        253, 253, 253, 253, 251,  93,  82,  82,  56,  39,   0,   0,   0,\n",
              "          0,   0],\n",
              "       [  0,   0,   0,   0,   0,   0,   0,  18, 219, 253, 253, 253, 253,\n",
              "        253, 198, 182, 247, 241,   0,   0,   0,   0,   0,   0,   0,   0,\n",
              "          0,   0],\n",
              "       [  0,   0,   0,   0,   0,   0,   0,   0,  80, 156, 107, 253, 253,\n",
              "        205,  11,   0,  43, 154,   0,   0,   0,   0,   0,   0,   0,   0,\n",
              "          0,   0],\n",
              "       [  0,   0,   0,   0,   0,   0,   0,   0,   0,  14,   1, 154, 253,\n",
              "         90,   0,   0,   0,   0,   0,   0,   0,   0,   0,   0,   0,   0,\n",
              "          0,   0],\n",
              "       [  0,   0,   0,   0,   0,   0,   0,   0,   0,   0,   0, 139, 253,\n",
              "        190,   2,   0,   0,   0,   0,   0,   0,   0,   0,   0,   0,   0,\n",
              "          0,   0],\n",
              "       [  0,   0,   0,   0,   0,   0,   0,   0,   0,   0,   0,  11, 190,\n",
              "        253,  70,   0,   0,   0,   0,   0,   0,   0,   0,   0,   0,   0,\n",
              "          0,   0],\n",
              "       [  0,   0,   0,   0,   0,   0,   0,   0,   0,   0,   0,   0,  35,\n",
              "        241, 225, 160, 108,   1,   0,   0,   0,   0,   0,   0,   0,   0,\n",
              "          0,   0],\n",
              "       [  0,   0,   0,   0,   0,   0,   0,   0,   0,   0,   0,   0,   0,\n",
              "         81, 240, 253, 253, 119,  25,   0,   0,   0,   0,   0,   0,   0,\n",
              "          0,   0],\n",
              "       [  0,   0,   0,   0,   0,   0,   0,   0,   0,   0,   0,   0,   0,\n",
              "          0,  45, 186, 253, 253, 150,  27,   0,   0,   0,   0,   0,   0,\n",
              "          0,   0],\n",
              "       [  0,   0,   0,   0,   0,   0,   0,   0,   0,   0,   0,   0,   0,\n",
              "          0,   0,  16,  93, 252, 253, 187,   0,   0,   0,   0,   0,   0,\n",
              "          0,   0],\n",
              "       [  0,   0,   0,   0,   0,   0,   0,   0,   0,   0,   0,   0,   0,\n",
              "          0,   0,   0,   0, 249, 253, 249,  64,   0,   0,   0,   0,   0,\n",
              "          0,   0],\n",
              "       [  0,   0,   0,   0,   0,   0,   0,   0,   0,   0,   0,   0,   0,\n",
              "          0,  46, 130, 183, 253, 253, 207,   2,   0,   0,   0,   0,   0,\n",
              "          0,   0],\n",
              "       [  0,   0,   0,   0,   0,   0,   0,   0,   0,   0,   0,   0,  39,\n",
              "        148, 229, 253, 253, 253, 250, 182,   0,   0,   0,   0,   0,   0,\n",
              "          0,   0],\n",
              "       [  0,   0,   0,   0,   0,   0,   0,   0,   0,   0,  24, 114, 221,\n",
              "        253, 253, 253, 253, 201,  78,   0,   0,   0,   0,   0,   0,   0,\n",
              "          0,   0],\n",
              "       [  0,   0,   0,   0,   0,   0,   0,   0,  23,  66, 213, 253, 253,\n",
              "        253, 253, 198,  81,   2,   0,   0,   0,   0,   0,   0,   0,   0,\n",
              "          0,   0],\n",
              "       [  0,   0,   0,   0,   0,   0,  18, 171, 219, 253, 253, 253, 253,\n",
              "        195,  80,   9,   0,   0,   0,   0,   0,   0,   0,   0,   0,   0,\n",
              "          0,   0],\n",
              "       [  0,   0,   0,   0,  55, 172, 226, 253, 253, 253, 253, 244, 133,\n",
              "         11,   0,   0,   0,   0,   0,   0,   0,   0,   0,   0,   0,   0,\n",
              "          0,   0],\n",
              "       [  0,   0,   0,   0, 136, 253, 253, 253, 212, 135, 132,  16,   0,\n",
              "          0,   0,   0,   0,   0,   0,   0,   0,   0,   0,   0,   0,   0,\n",
              "          0,   0],\n",
              "       [  0,   0,   0,   0,   0,   0,   0,   0,   0,   0,   0,   0,   0,\n",
              "          0,   0,   0,   0,   0,   0,   0,   0,   0,   0,   0,   0,   0,\n",
              "          0,   0],\n",
              "       [  0,   0,   0,   0,   0,   0,   0,   0,   0,   0,   0,   0,   0,\n",
              "          0,   0,   0,   0,   0,   0,   0,   0,   0,   0,   0,   0,   0,\n",
              "          0,   0],\n",
              "       [  0,   0,   0,   0,   0,   0,   0,   0,   0,   0,   0,   0,   0,\n",
              "          0,   0,   0,   0,   0,   0,   0,   0,   0,   0,   0,   0,   0,\n",
              "          0,   0]], dtype=uint8)"
            ]
          },
          "metadata": {
            "tags": []
          },
          "execution_count": 25
        }
      ]
    },
    {
      "cell_type": "code",
      "metadata": {
        "id": "NE_cXtHcSBUg",
        "colab_type": "code",
        "colab": {}
      },
      "source": [
        "# Reshape the data\n",
        "X_train = X_train.reshape(60000, 784)\n",
        "X_test = X_test.reshape(10000, 784)"
      ],
      "execution_count": 0,
      "outputs": []
    },
    {
      "cell_type": "code",
      "metadata": {
        "id": "BmFHuyUoSBUi",
        "colab_type": "code",
        "colab": {}
      },
      "source": [
        "# X Variable Types\n",
        "X_train = X_train.astype('float32')\n",
        "X_test = X_test.astype('float32')"
      ],
      "execution_count": 0,
      "outputs": []
    },
    {
      "cell_type": "code",
      "metadata": {
        "id": "FBCxuxdtNvQc",
        "colab_type": "code",
        "colab": {}
      },
      "source": [
        "X_train = X_train / 255\n",
        "X_test = X_test / 255"
      ],
      "execution_count": 0,
      "outputs": []
    },
    {
      "cell_type": "code",
      "metadata": {
        "id": "P4QqldJiSBUk",
        "colab_type": "code",
        "colab": {
          "base_uri": "https://localhost:8080/",
          "height": 35
        },
        "outputId": "8bc9d916-2b05-4e86-b6c4-a85d7603e5bb"
      },
      "source": [
        "y_train[2] "
      ],
      "execution_count": 29,
      "outputs": [
        {
          "output_type": "execute_result",
          "data": {
            "text/plain": [
              "4"
            ]
          },
          "metadata": {
            "tags": []
          },
          "execution_count": 29
        }
      ]
    },
    {
      "cell_type": "code",
      "metadata": {
        "id": "-3U2ZKSUSBUn",
        "colab_type": "code",
        "colab": {
          "base_uri": "https://localhost:8080/",
          "height": 35
        },
        "outputId": "607704a9-e8b4-48f8-e9e5-33c223fefe7d"
      },
      "source": [
        "y_train[2]"
      ],
      "execution_count": 30,
      "outputs": [
        {
          "output_type": "execute_result",
          "data": {
            "text/plain": [
              "4"
            ]
          },
          "metadata": {
            "tags": []
          },
          "execution_count": 30
        }
      ]
    },
    {
      "cell_type": "code",
      "metadata": {
        "id": "uS9gN5qMSBUq",
        "colab_type": "code",
        "colab": {}
      },
      "source": [
        "# Correct Encoding on Y\n",
        "# What softmax expects = [0,0,0,0,0,1,0,0,0,0]\n",
        "\n",
        "y_train = tensorflow.keras.utils.to_categorical(y_train, num_classes)\n",
        "y_test = tensorflow.keras.utils.to_categorical(y_test, num_classes)"
      ],
      "execution_count": 0,
      "outputs": []
    },
    {
      "cell_type": "code",
      "metadata": {
        "id": "y0R5EGmfSBUt",
        "colab_type": "code",
        "colab": {
          "base_uri": "https://localhost:8080/",
          "height": 35
        },
        "outputId": "866ac966-9be9-4882-8ef5-88c96d803089"
      },
      "source": [
        "y_train[2]"
      ],
      "execution_count": 32,
      "outputs": [
        {
          "output_type": "execute_result",
          "data": {
            "text/plain": [
              "array([0., 0., 0., 0., 1., 0., 0., 0., 0., 0.], dtype=float32)"
            ]
          },
          "metadata": {
            "tags": []
          },
          "execution_count": 32
        }
      ]
    },
    {
      "cell_type": "code",
      "metadata": {
        "id": "HJ56ahraSBUv",
        "colab_type": "code",
        "colab": {
          "base_uri": "https://localhost:8080/",
          "height": 260
        },
        "outputId": "2ecf1bfa-c78c-4774-f7e1-346170871b00"
      },
      "source": [
        "mnist_model = Sequential()\n",
        "\n",
        "# Input => Hidden\n",
        "mnist_model.add(Dense(1024, input_dim=784, activation='relu'))\n",
        "# Hidden\n",
        "mnist_model.add(Dense(16, activation='relu'))\n",
        "# Output\n",
        "mnist_model.add(Dense(10,activation='softmax'))\n",
        "\n",
        "#Compile\n",
        "mnist_model.compile(loss='categorical_crossentropy',\n",
        "                    optimizer='adam',\n",
        "                    metrics=['accuracy'])\n",
        "\n",
        "mnist_model.summary()"
      ],
      "execution_count": 44,
      "outputs": [
        {
          "output_type": "stream",
          "text": [
            "Model: \"sequential_6\"\n",
            "_________________________________________________________________\n",
            "Layer (type)                 Output Shape              Param #   \n",
            "=================================================================\n",
            "dense_16 (Dense)             (None, 1024)              803840    \n",
            "_________________________________________________________________\n",
            "dense_17 (Dense)             (None, 16)                16400     \n",
            "_________________________________________________________________\n",
            "dense_18 (Dense)             (None, 10)                170       \n",
            "=================================================================\n",
            "Total params: 820,410\n",
            "Trainable params: 820,410\n",
            "Non-trainable params: 0\n",
            "_________________________________________________________________\n"
          ],
          "name": "stdout"
        }
      ]
    },
    {
      "cell_type": "code",
      "metadata": {
        "id": "dehcmoSJSBUy",
        "colab_type": "code",
        "colab": {
          "base_uri": "https://localhost:8080/",
          "height": 35
        },
        "outputId": "56601565-eab5-4089-a9b5-d2c74e404681"
      },
      "source": [
        "16 *  784"
      ],
      "execution_count": 45,
      "outputs": [
        {
          "output_type": "execute_result",
          "data": {
            "text/plain": [
              "12544"
            ]
          },
          "metadata": {
            "tags": []
          },
          "execution_count": 45
        }
      ]
    },
    {
      "cell_type": "code",
      "metadata": {
        "id": "M2q1fx7aSBU1",
        "colab_type": "code",
        "colab": {
          "base_uri": "https://localhost:8080/",
          "height": 35
        },
        "outputId": "e757a2be-3b0a-41d2-cf29-9d701a7278b2"
      },
      "source": [
        "y_test.shape"
      ],
      "execution_count": 46,
      "outputs": [
        {
          "output_type": "execute_result",
          "data": {
            "text/plain": [
              "(10000, 10)"
            ]
          },
          "metadata": {
            "tags": []
          },
          "execution_count": 46
        }
      ]
    },
    {
      "cell_type": "code",
      "metadata": {
        "id": "Vj5iRFCCSBU4",
        "colab_type": "code",
        "colab": {
          "base_uri": "https://localhost:8080/",
          "height": 399
        },
        "outputId": "b8f2d001-1d74-4fb5-9fd0-e0e57b6dc864"
      },
      "source": [
        "history = mnist_model.fit(X_train, y_train, batch_size=32, epochs=10, verbose=1)\n",
        "scores = mnist_model.evaluate(X_test, y_test)\n",
        "#print(f'{mnist_model.metrics_names[1]}: {scores[1]*100}')"
      ],
      "execution_count": 47,
      "outputs": [
        {
          "output_type": "stream",
          "text": [
            "Train on 60000 samples\n",
            "Epoch 1/10\n",
            "60000/60000 [==============================] - 10s 166us/sample - loss: 0.2123 - acc: 0.9366\n",
            "Epoch 2/10\n",
            "60000/60000 [==============================] - 10s 167us/sample - loss: 0.0823 - acc: 0.9743\n",
            "Epoch 3/10\n",
            "60000/60000 [==============================] - 10s 164us/sample - loss: 0.0565 - acc: 0.9823\n",
            "Epoch 4/10\n",
            "60000/60000 [==============================] - 10s 161us/sample - loss: 0.0409 - acc: 0.9865\n",
            "Epoch 5/10\n",
            "60000/60000 [==============================] - 10s 160us/sample - loss: 0.0297 - acc: 0.9910\n",
            "Epoch 6/10\n",
            "60000/60000 [==============================] - 10s 162us/sample - loss: 0.0277 - acc: 0.9912\n",
            "Epoch 7/10\n",
            "60000/60000 [==============================] - 10s 162us/sample - loss: 0.0202 - acc: 0.9934\n",
            "Epoch 8/10\n",
            "60000/60000 [==============================] - 10s 163us/sample - loss: 0.0168 - acc: 0.9944\n",
            "Epoch 9/10\n",
            "60000/60000 [==============================] - 11s 179us/sample - loss: 0.0169 - acc: 0.9945\n",
            "Epoch 10/10\n",
            "60000/60000 [==============================] - 11s 179us/sample - loss: 0.0151 - acc: 0.9954\n",
            "10000/10000 [==============================] - 1s 128us/sample - loss: 0.0991 - acc: 0.9778\n"
          ],
          "name": "stdout"
        }
      ]
    },
    {
      "cell_type": "markdown",
      "metadata": {
        "colab_type": "text",
        "id": "CKmx8153w9Ci"
      },
      "source": [
        "### Dropout Regularization\n",
        "\n",
        "![Regularization](https://upload.wikimedia.org/wikipedia/commons/thumb/0/02/Regularization.svg/354px-Regularization.svg.png)"
      ]
    },
    {
      "cell_type": "code",
      "metadata": {
        "id": "Jn5lrG7FSBU6",
        "colab_type": "code",
        "colab": {
          "base_uri": "https://localhost:8080/",
          "height": 329
        },
        "outputId": "371c6402-2bfb-4a1c-e36f-a22d43a934a5"
      },
      "source": [
        "### Let's do it!\n",
        "from tensorflow import keras \n",
        "from tensorflow.keras.datasets import mnist\n",
        "from tensorflow.keras.models import Sequential\n",
        "from tensorflow.keras.layers import Dense, Dropout\n",
        "\n",
        "import numpy as np\n",
        "\n",
        "mnist_model = Sequential()\n",
        "\n",
        "# Hidden\n",
        "mnist_model.add(Dense(4096, input_dim=784, activation='relu'))\n",
        "mnist_model.add(Dropout(0.2))\n",
        "mnist_model.add(Dense(4096, activation='relu'))\n",
        "mnist_model.add(Dropout(0.2))\n",
        "# Output Layer\n",
        "mnist_model.add(Dense(10, activation='softmax'))\n",
        "\n",
        "mnist_model.compile(loss='categorical_crossentropy',\n",
        "                    optimizer='adam', \n",
        "                    metrics=['accuracy'])\n",
        "mnist_model.summary()"
      ],
      "execution_count": 57,
      "outputs": [
        {
          "output_type": "stream",
          "text": [
            "Model: \"sequential_11\"\n",
            "_________________________________________________________________\n",
            "Layer (type)                 Output Shape              Param #   \n",
            "=================================================================\n",
            "dense_29 (Dense)             (None, 4096)              3215360   \n",
            "_________________________________________________________________\n",
            "dropout_8 (Dropout)          (None, 4096)              0         \n",
            "_________________________________________________________________\n",
            "dense_30 (Dense)             (None, 4096)              16781312  \n",
            "_________________________________________________________________\n",
            "dropout_9 (Dropout)          (None, 4096)              0         \n",
            "_________________________________________________________________\n",
            "dense_31 (Dense)             (None, 10)                40970     \n",
            "=================================================================\n",
            "Total params: 20,037,642\n",
            "Trainable params: 20,037,642\n",
            "Non-trainable params: 0\n",
            "_________________________________________________________________\n"
          ],
          "name": "stdout"
        }
      ]
    },
    {
      "cell_type": "code",
      "metadata": {
        "id": "0QaTmEtnSBU8",
        "colab_type": "code",
        "colab": {
          "base_uri": "https://localhost:8080/",
          "height": 763
        },
        "outputId": "1f16e731-09f3-4334-e3b4-5327011615d8"
      },
      "source": [
        "history = mnist_model.fit(X_train, y_train, batch_size=256, epochs=20, validation_split=.1, verbose=1)\n",
        "scores = mnist_model.evaluate(X_test, y_test)\n",
        "print(f'{mnist_model.metrics_names[1]}: {scores[1]*100}')"
      ],
      "execution_count": 58,
      "outputs": [
        {
          "output_type": "stream",
          "text": [
            "Train on 54000 samples, validate on 6000 samples\n",
            "Epoch 1/20\n",
            "54000/54000 [==============================] - 6s 110us/sample - loss: 0.2104 - acc: 0.9347 - val_loss: 0.1024 - val_acc: 0.9683\n",
            "Epoch 2/20\n",
            "54000/54000 [==============================] - 5s 101us/sample - loss: 0.0842 - acc: 0.9740 - val_loss: 0.0798 - val_acc: 0.9765\n",
            "Epoch 3/20\n",
            "54000/54000 [==============================] - 6s 103us/sample - loss: 0.0582 - acc: 0.9822 - val_loss: 0.0735 - val_acc: 0.9790\n",
            "Epoch 4/20\n",
            "54000/54000 [==============================] - 6s 104us/sample - loss: 0.0452 - acc: 0.9853 - val_loss: 0.0744 - val_acc: 0.9792\n",
            "Epoch 5/20\n",
            "54000/54000 [==============================] - 6s 104us/sample - loss: 0.0388 - acc: 0.9878 - val_loss: 0.0688 - val_acc: 0.9810\n",
            "Epoch 6/20\n",
            "54000/54000 [==============================] - 6s 105us/sample - loss: 0.0308 - acc: 0.9899 - val_loss: 0.1114 - val_acc: 0.9733\n",
            "Epoch 7/20\n",
            "54000/54000 [==============================] - 6s 103us/sample - loss: 0.0337 - acc: 0.9891 - val_loss: 0.0790 - val_acc: 0.9795\n",
            "Epoch 8/20\n",
            "54000/54000 [==============================] - 6s 107us/sample - loss: 0.0262 - acc: 0.9916 - val_loss: 0.0866 - val_acc: 0.9813\n",
            "Epoch 9/20\n",
            "54000/54000 [==============================] - 6s 111us/sample - loss: 0.0244 - acc: 0.9917 - val_loss: 0.0951 - val_acc: 0.9780\n",
            "Epoch 10/20\n",
            "54000/54000 [==============================] - 6s 111us/sample - loss: 0.0246 - acc: 0.9920 - val_loss: 0.1006 - val_acc: 0.9800\n",
            "Epoch 11/20\n",
            "54000/54000 [==============================] - 6s 110us/sample - loss: 0.0164 - acc: 0.9943 - val_loss: 0.0957 - val_acc: 0.9822\n",
            "Epoch 12/20\n",
            "54000/54000 [==============================] - 6s 109us/sample - loss: 0.0207 - acc: 0.9935 - val_loss: 0.0952 - val_acc: 0.9823\n",
            "Epoch 13/20\n",
            "54000/54000 [==============================] - 6s 105us/sample - loss: 0.0203 - acc: 0.9941 - val_loss: 0.1012 - val_acc: 0.9810\n",
            "Epoch 14/20\n",
            "54000/54000 [==============================] - 6s 109us/sample - loss: 0.0197 - acc: 0.9942 - val_loss: 0.0982 - val_acc: 0.9818\n",
            "Epoch 15/20\n",
            "54000/54000 [==============================] - 6s 109us/sample - loss: 0.0190 - acc: 0.9943 - val_loss: 0.1027 - val_acc: 0.9812\n",
            "Epoch 16/20\n",
            "54000/54000 [==============================] - 6s 108us/sample - loss: 0.0174 - acc: 0.9948 - val_loss: 0.1008 - val_acc: 0.9832\n",
            "Epoch 17/20\n",
            "54000/54000 [==============================] - 6s 105us/sample - loss: 0.0122 - acc: 0.9966 - val_loss: 0.1133 - val_acc: 0.9820\n",
            "Epoch 18/20\n",
            "54000/54000 [==============================] - 6s 102us/sample - loss: 0.0213 - acc: 0.9939 - val_loss: 0.1031 - val_acc: 0.9833\n",
            "Epoch 19/20\n",
            "54000/54000 [==============================] - 6s 103us/sample - loss: 0.0222 - acc: 0.9936 - val_loss: 0.1159 - val_acc: 0.9800\n",
            "Epoch 20/20\n",
            "54000/54000 [==============================] - 6s 105us/sample - loss: 0.0128 - acc: 0.9966 - val_loss: 0.0866 - val_acc: 0.9860\n",
            "10000/10000 [==============================] - 1s 141us/sample - loss: 0.0899 - acc: 0.9835\n",
            "acc: 98.35000038146973\n"
          ],
          "name": "stdout"
        }
      ]
    },
    {
      "cell_type": "markdown",
      "metadata": {
        "id": "VXBQOtoeSBU-",
        "colab_type": "text"
      },
      "source": [
        "## Challenge\n",
        "\n",
        "You will apply your choice of activation function inside two Keras Seqeuntial models today. "
      ]
    }
  ]
}