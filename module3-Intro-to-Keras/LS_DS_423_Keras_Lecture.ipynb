{
 "cells": [
  {
   "cell_type": "markdown",
   "metadata": {
    "colab_type": "text",
    "id": "HJzTIkYAsLxw"
   },
   "source": [
    "Lambda School Data Science\n",
    "\n",
    "*Unit 4, Sprint 2, Module 3*\n",
    "\n",
    "---"
   ]
  },
  {
   "cell_type": "markdown",
   "metadata": {
    "colab_type": "text",
    "id": "HJzTIkYAsLxw"
   },
   "source": [
    "# Neural Network Frameworks (Prepare)"
   ]
  },
  {
   "cell_type": "markdown",
   "metadata": {
    "colab_type": "text",
    "id": "HJzTIkYAsLxw"
   },
   "source": [
    "## Learning Objectives\n",
    "* <a href=\"#p1\">Part 1</a>: Introduce the Keras Sequential Model API\n",
    "* <a href=\"#p2\">Part 2</a>: Learn How to Select Model Architecture \n",
    "* <a href=\"#p3\">Part 3</a>: Discuss the trade-off between various activation functions\n",
    "\n",
    "## Lets Use Libraries!\n",
    "\n",
    "The objective of the last two days has been to familiarize you with the fundamentals of neural networks: terminology, structure of networks, forward propagation, error/cost functions, backpropagation, epochs, and gradient descent. We have tried to reinforce these topics by requiring to you code some of the simplest neural networks by hand including Perceptrons (single node neural networks) and Multi-Layer Perceptrons also known as Feed-Forward Neural Networks. Continuing to do things by hand would not be the best use of our limited time. You're ready to graduate from doing things by hand and start using some powerful libraries to build cutting-edge predictive models. "
   ]
  },
  {
   "cell_type": "markdown",
   "metadata": {},
   "source": [
    "# Keras Sequential API (Learn)"
   ]
  },
  {
   "cell_type": "markdown",
   "metadata": {},
   "source": [
    "## Overview\n",
    "\n",
    "> \"Keras is a high-level neural networks API, written in Python and capable of running on top of TensorFlow, CNTK, or Theano. It was developed with a focus on enabling fast experimentation. Being able to go from idea to result with the least possible delay is key to doing good research. Use Keras if you need a deep learning library that:\n",
    "\n",
    "> Allows for easy and fast prototyping (through user friendliness, modularity, and extensibility).\n",
    "Supports both convolutional networks and recurrent networks, as well as combinations of the two.\n",
    "Runs seamlessly on CPU and GPU.\" "
   ]
  },
  {
   "cell_type": "markdown",
   "metadata": {
    "colab_type": "text",
    "id": "AIJoRBxHy27n"
   },
   "source": [
    "### Keras Perceptron Sample"
   ]
  },
  {
   "cell_type": "code",
   "execution_count": 1,
   "metadata": {},
   "outputs": [],
   "source": [
    "import pandas as pd\n",
    "\n",
    "data = { 'x1': [0,1,0,1],\n",
    "         'x2': [0,0,1,1],\n",
    "         'y':  [1,1,1,0]\n",
    "       }\n",
    "\n",
    "df = pd.DataFrame.from_dict(data).astype('int')\n",
    "X = df[['x1', 'x2']].values\n",
    "y = df['y'].values"
   ]
  },
  {
   "cell_type": "code",
   "execution_count": 2,
   "metadata": {
    "colab": {
     "base_uri": "https://localhost:8080/",
     "height": 5216
    },
    "colab_type": "code",
    "id": "TQxyONqKvFxB",
    "outputId": "12966e66-2297-4f82-85b3-c275a9c38563"
   },
   "outputs": [
    {
     "name": "stdout",
     "output_type": "stream",
     "text": [
      "WARNING:tensorflow:From /home/ec2-user/anaconda3/envs/tensorflow_p36/lib/python3.6/site-packages/tensorflow/python/ops/init_ops.py:1251: calling VarianceScaling.__init__ (from tensorflow.python.ops.init_ops) with dtype is deprecated and will be removed in a future version.\n",
      "Instructions for updating:\n",
      "Call initializer instance with the dtype argument instead of passing it to the constructor\n",
      "WARNING:tensorflow:From /home/ec2-user/anaconda3/envs/tensorflow_p36/lib/python3.6/site-packages/tensorflow/python/ops/nn_impl.py:180: add_dispatch_support.<locals>.wrapper (from tensorflow.python.ops.array_ops) is deprecated and will be removed in a future version.\n",
      "Instructions for updating:\n",
      "Use tf.where in 2.0, which has the same broadcast rule as np.where\n",
      "Epoch 1/5\n",
      "4/4 [==============================] - 3s 842ms/sample - loss: 0.7475 - acc: 0.2500\n",
      "Epoch 2/5\n",
      "4/4 [==============================] - 0s 10ms/sample - loss: 0.7471 - acc: 0.5000\n",
      "Epoch 3/5\n",
      "4/4 [==============================] - 0s 5ms/sample - loss: 0.7468 - acc: 0.5000\n",
      "Epoch 4/5\n",
      "4/4 [==============================] - 0s 21ms/sample - loss: 0.7465 - acc: 0.5000\n",
      "Epoch 5/5\n",
      "4/4 [==============================] - 0s 10ms/sample - loss: 0.7461 - acc: 0.5000\n"
     ]
    },
    {
     "data": {
      "text/plain": [
       "<tensorflow.python.keras.callbacks.History at 0x7fb9be1174a8>"
      ]
     },
     "execution_count": 2,
     "metadata": {},
     "output_type": "execute_result"
    }
   ],
   "source": [
    "from tensorflow.keras.models import Sequential\n",
    "from tensorflow.keras.layers import Dense\n",
    "\n",
    "# This is our perceptron from Monday's by-hand: \n",
    "model = Sequential()\n",
    "model.add(Dense(1,input_dim=2, activation='sigmoid'))\n",
    "model.compile(loss='binary_crossentropy', optimizer='adam', metrics=['accuracy'])\n",
    "model.fit(X,y, epochs=5)"
   ]
  },
  {
   "cell_type": "code",
   "execution_count": 3,
   "metadata": {
    "colab": {
     "base_uri": "https://localhost:8080/",
     "height": 69
    },
    "colab_type": "code",
    "id": "Z1wfKUxszPKa",
    "outputId": "0cdacd1d-6e5a-4bbe-fabb-568cd94724be"
   },
   "outputs": [
    {
     "name": "stdout",
     "output_type": "stream",
     "text": [
      "4/4 [==============================] - 1s 276ms/sample - loss: 0.7458 - acc: 0.5000\n",
      "acc: 50.0\n"
     ]
    }
   ],
   "source": [
    "# evaluate the model\n",
    "scores = model.evaluate(X, y)\n",
    "print(f\"{model.metrics_names[1]}: {scores[1]*100}\")"
   ]
  },
  {
   "cell_type": "markdown",
   "metadata": {},
   "source": [
    "## Follow Along\n",
    "\n",
    "In the `Sequential` api model, you specify a model architecture by 'sequentially specifying layers. This type of specification works well for feed forward neural networks in which the data flows in one direction (forward propagation) and the error flows in the opposite direction (backwards propagation). The Keras `Sequential` API follows a standardarized worklow to estimate a 'net: \n",
    "\n",
    "1. Load Data\n",
    "2. Define Model\n",
    "3. Compile Model\n",
    "4. Fit Model\n",
    "5. Evaluate Model\n",
    "\n",
    "You saw these steps in our Keras Perceptron Sample, but let's walk thru each step in detail."
   ]
  },
  {
   "cell_type": "markdown",
   "metadata": {
    "colab_type": "text",
    "id": "Md5D67XwqVAf",
    "toc-hr-collapsed": false
   },
   "source": [
    "### Load Data\n",
    "\n",
    "Our life is going to be easier if our data is already cleaned up and numeric, so lets use this dataset from Jason Brownlee that is already numeric and has no column headers so we'll need to slice off the last column of data to act as our y values."
   ]
  },
  {
   "cell_type": "code",
   "execution_count": 4,
   "metadata": {
    "colab": {
     "base_uri": "https://localhost:8080/",
     "height": 109,
     "resources": {
      "http://localhost:8080/nbextensions/google.colab/files.js": {
       "data": "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",
       "headers": [
        [
         "content-type",
         "application/javascript"
        ]
       ],
       "ok": true,
       "status": 200,
       "status_text": ""
      }
     }
    },
    "colab_type": "code",
    "id": "bn09phMBpY1J",
    "outputId": "1c45fb6a-e3cb-4ec1-fb85-de52b3c60bae"
   },
   "outputs": [],
   "source": [
    "import pandas as pd\n",
    "\n",
    "url =\"https://raw.githubusercontent.com/jbrownlee/Datasets/master/pima-indians-diabetes.data.csv\"\n",
    "\n",
    "dataset = pd.read_csv(url, header=None)"
   ]
  },
  {
   "cell_type": "code",
   "execution_count": 5,
   "metadata": {},
   "outputs": [
    {
     "data": {
      "text/html": [
       "<div>\n",
       "<style scoped>\n",
       "    .dataframe tbody tr th:only-of-type {\n",
       "        vertical-align: middle;\n",
       "    }\n",
       "\n",
       "    .dataframe tbody tr th {\n",
       "        vertical-align: top;\n",
       "    }\n",
       "\n",
       "    .dataframe thead th {\n",
       "        text-align: right;\n",
       "    }\n",
       "</style>\n",
       "<table border=\"1\" class=\"dataframe\">\n",
       "  <thead>\n",
       "    <tr style=\"text-align: right;\">\n",
       "      <th></th>\n",
       "      <th>0</th>\n",
       "      <th>1</th>\n",
       "      <th>2</th>\n",
       "      <th>3</th>\n",
       "      <th>4</th>\n",
       "      <th>5</th>\n",
       "      <th>6</th>\n",
       "      <th>7</th>\n",
       "      <th>8</th>\n",
       "    </tr>\n",
       "  </thead>\n",
       "  <tbody>\n",
       "    <tr>\n",
       "      <th>0</th>\n",
       "      <td>6</td>\n",
       "      <td>148</td>\n",
       "      <td>72</td>\n",
       "      <td>35</td>\n",
       "      <td>0</td>\n",
       "      <td>33.6</td>\n",
       "      <td>0.627</td>\n",
       "      <td>50</td>\n",
       "      <td>1</td>\n",
       "    </tr>\n",
       "    <tr>\n",
       "      <th>1</th>\n",
       "      <td>1</td>\n",
       "      <td>85</td>\n",
       "      <td>66</td>\n",
       "      <td>29</td>\n",
       "      <td>0</td>\n",
       "      <td>26.6</td>\n",
       "      <td>0.351</td>\n",
       "      <td>31</td>\n",
       "      <td>0</td>\n",
       "    </tr>\n",
       "    <tr>\n",
       "      <th>2</th>\n",
       "      <td>8</td>\n",
       "      <td>183</td>\n",
       "      <td>64</td>\n",
       "      <td>0</td>\n",
       "      <td>0</td>\n",
       "      <td>23.3</td>\n",
       "      <td>0.672</td>\n",
       "      <td>32</td>\n",
       "      <td>1</td>\n",
       "    </tr>\n",
       "    <tr>\n",
       "      <th>3</th>\n",
       "      <td>1</td>\n",
       "      <td>89</td>\n",
       "      <td>66</td>\n",
       "      <td>23</td>\n",
       "      <td>94</td>\n",
       "      <td>28.1</td>\n",
       "      <td>0.167</td>\n",
       "      <td>21</td>\n",
       "      <td>0</td>\n",
       "    </tr>\n",
       "    <tr>\n",
       "      <th>4</th>\n",
       "      <td>0</td>\n",
       "      <td>137</td>\n",
       "      <td>40</td>\n",
       "      <td>35</td>\n",
       "      <td>168</td>\n",
       "      <td>43.1</td>\n",
       "      <td>2.288</td>\n",
       "      <td>33</td>\n",
       "      <td>1</td>\n",
       "    </tr>\n",
       "  </tbody>\n",
       "</table>\n",
       "</div>"
      ],
      "text/plain": [
       "   0    1   2   3    4     5      6   7  8\n",
       "0  6  148  72  35    0  33.6  0.627  50  1\n",
       "1  1   85  66  29    0  26.6  0.351  31  0\n",
       "2  8  183  64   0    0  23.3  0.672  32  1\n",
       "3  1   89  66  23   94  28.1  0.167  21  0\n",
       "4  0  137  40  35  168  43.1  2.288  33  1"
      ]
     },
     "execution_count": 5,
     "metadata": {},
     "output_type": "execute_result"
    }
   ],
   "source": [
    "dataset.head()"
   ]
  },
  {
   "cell_type": "code",
   "execution_count": 6,
   "metadata": {
    "colab": {
     "base_uri": "https://localhost:8080/",
     "height": 725
    },
    "colab_type": "code",
    "id": "FKuofD3Pogil",
    "outputId": "16c2f4fa-93c8-491d-b339-9f35f7918621"
   },
   "outputs": [
    {
     "name": "stdout",
     "output_type": "stream",
     "text": [
      "(768, 8)\n",
      "[[  6.    148.     72.    ...  33.6     0.627  50.   ]\n",
      " [  1.     85.     66.    ...  26.6     0.351  31.   ]\n",
      " [  8.    183.     64.    ...  23.3     0.672  32.   ]\n",
      " ...\n",
      " [  5.    121.     72.    ...  26.2     0.245  30.   ]\n",
      " [  1.    126.     60.    ...  30.1     0.349  47.   ]\n",
      " [  1.     93.     70.    ...  30.4     0.315  23.   ]]\n"
     ]
    }
   ],
   "source": [
    "X = dataset.values[:,0:8]\n",
    "print(X.shape)\n",
    "print(X)"
   ]
  },
  {
   "cell_type": "code",
   "execution_count": 7,
   "metadata": {},
   "outputs": [
    {
     "name": "stdout",
     "output_type": "stream",
     "text": [
      "(768,)\n",
      "[1. 0. 1. 0. 1. 0. 1. 0. 1. 1. 0. 1. 0. 1. 1. 1. 1. 1. 0. 1. 0. 0. 1. 1.\n",
      " 1. 1. 1. 0. 0. 0. 0. 1. 0. 0. 0. 0. 0. 1. 1. 1. 0. 0. 0. 1. 0. 1. 0. 0.\n",
      " 1. 0. 0. 0. 0. 1. 0. 0. 1. 0. 0. 0. 0. 1. 0. 0. 1. 0. 1. 0. 0. 0. 1. 0.\n",
      " 1. 0. 0. 0. 0. 0. 1. 0. 0. 0. 0. 0. 1. 0. 0. 0. 1. 0. 0. 0. 0. 1. 0. 0.\n",
      " 0. 0. 0. 1. 1. 0. 0. 0. 0. 0. 0. 0. 0. 1. 1. 1. 0. 0. 1. 1. 1. 0. 0. 0.\n",
      " 1. 0. 0. 0. 1. 1. 0. 0. 1. 1. 1. 1. 1. 0. 0. 0. 0. 0. 0. 0. 0. 0. 0. 1.\n",
      " 0. 0. 0. 0. 0. 0. 0. 0. 1. 0. 1. 1. 0. 0. 0. 1. 0. 0. 0. 0. 1. 1. 0. 0.\n",
      " 0. 0. 1. 1. 0. 0. 0. 1. 0. 1. 0. 1. 0. 0. 0. 0. 0. 1. 1. 1. 1. 1. 0. 0.\n",
      " 1. 1. 0. 1. 0. 1. 1. 1. 0. 0. 0. 0. 0. 0. 1. 1. 0. 1. 0. 0. 0. 1. 1. 1.\n",
      " 1. 0. 1. 1. 1. 1. 0. 0. 0. 0. 0. 1. 0. 0. 1. 1. 0. 0. 0. 1. 1. 1. 1. 0.\n",
      " 0. 0. 1. 1. 0. 1. 0. 0. 0. 0. 0. 0. 0. 0. 1. 1. 0. 0. 0. 1. 0. 1. 0. 0.\n",
      " 1. 0. 1. 0. 0. 1. 1. 0. 0. 0. 0. 0. 1. 0. 0. 0. 1. 0. 0. 1. 1. 0. 0. 1.\n",
      " 0. 0. 0. 1. 1. 1. 0. 0. 1. 0. 1. 0. 1. 1. 0. 1. 0. 0. 1. 0. 1. 1. 0. 0.\n",
      " 1. 0. 1. 0. 0. 1. 0. 1. 0. 1. 1. 1. 0. 0. 1. 0. 1. 0. 0. 0. 1. 0. 0. 0.\n",
      " 0. 1. 1. 1. 0. 0. 0. 0. 0. 0. 0. 0. 0. 1. 0. 0. 0. 0. 0. 1. 1. 1. 0. 1.\n",
      " 1. 0. 0. 1. 0. 0. 1. 0. 0. 1. 1. 0. 0. 0. 0. 1. 0. 0. 1. 0. 0. 0. 0. 0.\n",
      " 0. 0. 1. 1. 1. 0. 0. 1. 0. 0. 1. 0. 0. 1. 0. 1. 1. 0. 1. 0. 1. 0. 1. 0.\n",
      " 1. 1. 0. 0. 0. 0. 1. 1. 0. 1. 0. 1. 0. 0. 0. 0. 1. 1. 0. 1. 0. 1. 0. 0.\n",
      " 0. 0. 0. 1. 0. 0. 0. 0. 1. 0. 0. 1. 1. 1. 0. 0. 1. 0. 0. 1. 0. 0. 0. 1.\n",
      " 0. 0. 1. 0. 0. 0. 0. 0. 0. 0. 0. 0. 1. 0. 0. 0. 0. 0. 0. 0. 1. 0. 0. 0.\n",
      " 1. 0. 0. 0. 1. 1. 0. 0. 0. 0. 0. 0. 0. 1. 0. 0. 0. 0. 1. 0. 0. 0. 1. 0.\n",
      " 0. 0. 1. 0. 0. 0. 1. 0. 0. 0. 0. 1. 1. 0. 0. 0. 0. 0. 0. 1. 0. 0. 0. 0.\n",
      " 0. 0. 0. 0. 0. 0. 0. 1. 0. 0. 0. 1. 1. 1. 1. 0. 0. 1. 1. 0. 0. 0. 0. 0.\n",
      " 0. 0. 0. 0. 0. 0. 0. 0. 1. 1. 0. 0. 0. 0. 0. 0. 0. 1. 0. 0. 0. 0. 0. 0.\n",
      " 0. 1. 0. 1. 1. 0. 0. 0. 1. 0. 1. 0. 1. 0. 1. 0. 1. 0. 0. 1. 0. 0. 1. 0.\n",
      " 0. 0. 0. 1. 1. 0. 1. 0. 0. 0. 0. 1. 1. 0. 1. 0. 0. 0. 1. 1. 0. 0. 0. 0.\n",
      " 0. 0. 0. 0. 0. 0. 1. 0. 0. 0. 0. 1. 0. 0. 1. 0. 0. 0. 1. 0. 0. 0. 1. 1.\n",
      " 1. 0. 0. 0. 0. 0. 0. 1. 0. 0. 0. 1. 0. 1. 1. 1. 1. 0. 1. 1. 0. 0. 0. 0.\n",
      " 0. 0. 0. 1. 1. 0. 1. 0. 0. 1. 0. 1. 0. 0. 0. 0. 0. 1. 0. 1. 0. 1. 0. 1.\n",
      " 1. 0. 0. 0. 0. 1. 1. 0. 0. 0. 1. 0. 1. 1. 0. 0. 1. 0. 0. 1. 1. 0. 0. 1.\n",
      " 0. 0. 1. 0. 0. 0. 0. 0. 0. 0. 1. 1. 1. 0. 0. 0. 0. 0. 0. 1. 1. 0. 0. 1.\n",
      " 0. 0. 1. 0. 1. 1. 1. 0. 0. 1. 1. 1. 0. 1. 0. 1. 0. 1. 0. 0. 0. 0. 1. 0.]\n"
     ]
    }
   ],
   "source": [
    "y = dataset.values[:,-1]\n",
    "print(y.shape)\n",
    "print(y)"
   ]
  },
  {
   "cell_type": "markdown",
   "metadata": {
    "colab_type": "text",
    "id": "o0xMqOyTs5xt"
   },
   "source": [
    "### Define Model"
   ]
  },
  {
   "cell_type": "code",
   "execution_count": 8,
   "metadata": {
    "colab": {},
    "colab_type": "code",
    "id": "Bp9USczrfu6M"
   },
   "outputs": [],
   "source": [
    "from tensorflow.keras.models import Sequential\n",
    "from tensorflow.keras.layers import Dense\n",
    "\n",
    "import numpy as np\n",
    "\n",
    "np.random.seed(812)"
   ]
  },
  {
   "cell_type": "markdown",
   "metadata": {
    "colab_type": "text",
    "id": "wAzHLg27thoN"
   },
   "source": [
    "I'll instantiate my model as a \"sequential\" model. This just means that I'm going to tell Keras what my model's architecture should be one layer at a time."
   ]
  },
  {
   "cell_type": "code",
   "execution_count": 9,
   "metadata": {
    "colab": {},
    "colab_type": "code",
    "id": "DSNsL49Xp6KI"
   },
   "outputs": [],
   "source": [
    "# https://keras.io/getting-started/sequential-model-guide/\n",
    "model = Sequential()"
   ]
  },
  {
   "cell_type": "markdown",
   "metadata": {
    "colab_type": "text",
    "id": "ZCYX6QzJtvpG"
   },
   "source": [
    "Adding a \"Dense\" layer to our model is how we add \"vanilla\" perceptron-based layers to our neural network. These are also called \"fully-connected\" or \"densely-connected\" layers. They're used as a layer type in lots of other Neural Net Architectures but they're not referred to as perceptrons or multi-layer perceptrons very often in those situations even though that's what they are.\n",
    "\n",
    " > [\"Just your regular densely-connected NN layer.\"](https://keras.io/layers/core/)\n",
    " \n",
    " The first argument is how many neurons we want to have in that layer. To create a perceptron model we will just set it to 1. We will tell it that there will be 8 inputs coming into this layer from our dataset and set it to use the sigmoid activation function."
   ]
  },
  {
   "cell_type": "code",
   "execution_count": 10,
   "metadata": {
    "colab": {
     "base_uri": "https://localhost:8080/",
     "height": 89
    },
    "colab_type": "code",
    "id": "GNzOLidxtvFa",
    "outputId": "35b1457d-0189-49f1-aa6d-3ef15b29bd6e"
   },
   "outputs": [],
   "source": [
    "model.add(Dense(1, input_dim=8, activation=\"sigmoid\")) #Relu is valid option. "
   ]
  },
  {
   "cell_type": "markdown",
   "metadata": {
    "colab_type": "text",
    "id": "EnI3jwKMtBL2",
    "toc-hr-collapsed": false
   },
   "source": [
    "### Compile Model\n",
    "Using binary_crossentropy as the loss function here is just telling keras that I'm doing binary classification so that it can use the appropriate loss function accordingly. If we were predicting non-binary categories we might assign something like `categorical_crossentropy`. We're also telling keras that we want it to report model accuracy as our main error metric for each epoch. We will also be able to see the overall accuracy once the model has finished training.\n",
    "\n",
    "#### Adam Optimizer\n",
    "Check out this links for more background on the Adam optimizer and Stohastic Gradient Descent\n",
    "* [Adam Optimization Algorithm](https://machinelearningmastery.com/adam-optimization-algorithm-for-deep-learning/)\n",
    "* [Adam Optimizer - original paper](https://arxiv.org/abs/1412.6980)"
   ]
  },
  {
   "cell_type": "code",
   "execution_count": 11,
   "metadata": {
    "colab": {},
    "colab_type": "code",
    "id": "qp6xwYaqurRO"
   },
   "outputs": [],
   "source": [
    "model.compile(loss='binary_crossentropy', optimizer='adam', metrics=['accuracy'])"
   ]
  },
  {
   "cell_type": "markdown",
   "metadata": {
    "colab_type": "text",
    "id": "5dW8SZ2Ls9SX",
    "toc-hr-collapsed": false
   },
   "source": [
    "### Fit Model\n",
    "\n",
    "Lets train it up! `model.fit()` has a `batch_size` parameter that we can use if we want to do mini-batch epochs, but since this tabular dataset is pretty small we're just going to delete that parameter. Keras' default `batch_size` is `None` so omiting it will tell Keras to do batch epochs."
   ]
  },
  {
   "cell_type": "code",
   "execution_count": 12,
   "metadata": {},
   "outputs": [
    {
     "name": "stdout",
     "output_type": "stream",
     "text": [
      "Epoch 1/150\n",
      "768/768 [==============================] - 4s 5ms/sample - loss: 41.7833 - acc: 0.3620\n",
      "Epoch 2/150\n",
      "768/768 [==============================] - 1s 1ms/sample - loss: 37.9319 - acc: 0.3737\n",
      "Epoch 3/150\n",
      "768/768 [==============================] - 1s 681us/sample - loss: 34.6442 - acc: 0.3880\n",
      "Epoch 4/150\n",
      "768/768 [==============================] - 1s 767us/sample - loss: 32.1342 - acc: 0.4076\n",
      "Epoch 5/150\n",
      "768/768 [==============================] - 1s 795us/sample - loss: 30.0459 - acc: 0.4232\n",
      "Epoch 6/150\n",
      "768/768 [==============================] - 1s 895us/sample - loss: 28.1966 - acc: 0.4479\n",
      "Epoch 7/150\n",
      "768/768 [==============================] - 1s 757us/sample - loss: 26.5984 - acc: 0.4674\n",
      "Epoch 8/150\n",
      "768/768 [==============================] - 0s 598us/sample - loss: 25.1229 - acc: 0.4883\n",
      "Epoch 9/150\n",
      "768/768 [==============================] - 1s 954us/sample - loss: 23.7877 - acc: 0.4961\n",
      "Epoch 10/150\n",
      "768/768 [==============================] - 1s 661us/sample - loss: 22.4610 - acc: 0.5065\n",
      "Epoch 11/150\n",
      "768/768 [==============================] - 0s 484us/sample - loss: 21.2822 - acc: 0.5195\n",
      "Epoch 12/150\n",
      "768/768 [==============================] - 1s 733us/sample - loss: 20.1792 - acc: 0.5234\n",
      "Epoch 13/150\n",
      "768/768 [==============================] - 1s 816us/sample - loss: 19.2033 - acc: 0.5299\n",
      "Epoch 14/150\n",
      "768/768 [==============================] - 0s 610us/sample - loss: 18.2835 - acc: 0.5430\n",
      "Epoch 15/150\n",
      "768/768 [==============================] - 1s 758us/sample - loss: 17.4964 - acc: 0.5495\n",
      "Epoch 16/150\n",
      "768/768 [==============================] - 0s 604us/sample - loss: 16.7353 - acc: 0.5586\n",
      "Epoch 17/150\n",
      "768/768 [==============================] - 0s 627us/sample - loss: 16.0208 - acc: 0.5638\n",
      "Epoch 18/150\n",
      "768/768 [==============================] - 1s 785us/sample - loss: 15.3528 - acc: 0.5716\n",
      "Epoch 19/150\n",
      "768/768 [==============================] - 1s 659us/sample - loss: 14.6973 - acc: 0.5807\n",
      "Epoch 20/150\n",
      "768/768 [==============================] - 0s 605us/sample - loss: 14.0557 - acc: 0.5768\n",
      "Epoch 21/150\n",
      "768/768 [==============================] - 1s 664us/sample - loss: 13.4338 - acc: 0.5768\n",
      "Epoch 22/150\n",
      "768/768 [==============================] - 1s 1ms/sample - loss: 12.8176 - acc: 0.5716\n",
      "Epoch 23/150\n",
      "768/768 [==============================] - 1s 868us/sample - loss: 12.2145 - acc: 0.5703 - loss: 12.5820\n",
      "Epoch 24/150\n",
      "768/768 [==============================] - 1s 869us/sample - loss: 11.5983 - acc: 0.5690\n",
      "Epoch 25/150\n",
      "768/768 [==============================] - 1s 717us/sample - loss: 11.0441 - acc: 0.5638\n",
      "Epoch 26/150\n",
      "768/768 [==============================] - 0s 605us/sample - loss: 10.4600 - acc: 0.5625\n",
      "Epoch 27/150\n",
      "768/768 [==============================] - 1s 795us/sample - loss: 9.9033 - acc: 0.5625\n",
      "Epoch 28/150\n",
      "768/768 [==============================] - 1s 857us/sample - loss: 9.3975 - acc: 0.5495\n",
      "Epoch 29/150\n",
      "768/768 [==============================] - 1s 794us/sample - loss: 8.9237 - acc: 0.5430\n",
      "Epoch 30/150\n",
      "768/768 [==============================] - 1s 741us/sample - loss: 8.4710 - acc: 0.5508\n",
      "Epoch 31/150\n",
      "768/768 [==============================] - 1s 686us/sample - loss: 8.0793 - acc: 0.5495\n",
      "Epoch 32/150\n",
      "768/768 [==============================] - 1s 678us/sample - loss: 7.6978 - acc: 0.5404\n",
      "Epoch 33/150\n",
      "768/768 [==============================] - 1s 803us/sample - loss: 7.3580 - acc: 0.5286\n",
      "Epoch 34/150\n",
      "768/768 [==============================] - 1s 775us/sample - loss: 7.0393 - acc: 0.5326\n",
      "Epoch 35/150\n",
      "768/768 [==============================] - 1s 823us/sample - loss: 6.7499 - acc: 0.5312\n",
      "Epoch 36/150\n",
      "768/768 [==============================] - 1s 670us/sample - loss: 6.4981 - acc: 0.5299\n",
      "Epoch 37/150\n",
      "768/768 [==============================] - 0s 504us/sample - loss: 6.2431 - acc: 0.5339\n",
      "Epoch 38/150\n",
      "768/768 [==============================] - 1s 791us/sample - loss: 6.0282 - acc: 0.5299\n",
      "Epoch 39/150\n",
      "768/768 [==============================] - 1s 785us/sample - loss: 5.8455 - acc: 0.5312\n",
      "Epoch 40/150\n",
      "768/768 [==============================] - 0s 472us/sample - loss: 5.6860 - acc: 0.5273\n",
      "Epoch 41/150\n",
      "768/768 [==============================] - 1s 749us/sample - loss: 5.5047 - acc: 0.5365\n",
      "Epoch 42/150\n",
      "768/768 [==============================] - 1s 784us/sample - loss: 5.3582 - acc: 0.5365\n",
      "Epoch 43/150\n",
      "768/768 [==============================] - 1s 858us/sample - loss: 5.2179 - acc: 0.5299\n",
      "Epoch 44/150\n",
      "768/768 [==============================] - 1s 691us/sample - loss: 5.0902 - acc: 0.5339\n",
      "Epoch 45/150\n",
      "768/768 [==============================] - 0s 560us/sample - loss: 4.9404 - acc: 0.5391s - loss: 5.1547 - acc: 0.5\n",
      "Epoch 46/150\n",
      "768/768 [==============================] - 1s 856us/sample - loss: 4.8220 - acc: 0.5365\n",
      "Epoch 47/150\n",
      "768/768 [==============================] - 1s 783us/sample - loss: 4.7117 - acc: 0.5312\n",
      "Epoch 48/150\n",
      "768/768 [==============================] - 1s 823us/sample - loss: 4.5769 - acc: 0.5299\n",
      "Epoch 49/150\n",
      "768/768 [==============================] - 1s 895us/sample - loss: 4.4585 - acc: 0.5326\n",
      "Epoch 50/150\n",
      "768/768 [==============================] - 0s 464us/sample - loss: 4.3433 - acc: 0.5299\n",
      "Epoch 51/150\n",
      "768/768 [==============================] - 0s 565us/sample - loss: 4.2290 - acc: 0.5299\n",
      "Epoch 52/150\n",
      "768/768 [==============================] - 0s 418us/sample - loss: 4.1085 - acc: 0.5260\n",
      "Epoch 53/150\n",
      "768/768 [==============================] - 0s 302us/sample - loss: 3.9984 - acc: 0.5221\n",
      "Epoch 54/150\n",
      "768/768 [==============================] - 0s 422us/sample - loss: 3.8952 - acc: 0.5221\n",
      "Epoch 55/150\n",
      "768/768 [==============================] - 0s 334us/sample - loss: 3.7742 - acc: 0.5260\n",
      "Epoch 56/150\n",
      "768/768 [==============================] - 0s 368us/sample - loss: 3.6667 - acc: 0.5299\n",
      "Epoch 57/150\n",
      "768/768 [==============================] - 0s 371us/sample - loss: 3.5426 - acc: 0.5299\n",
      "Epoch 58/150\n",
      "768/768 [==============================] - 0s 354us/sample - loss: 3.4364 - acc: 0.5260\n",
      "Epoch 59/150\n",
      "768/768 [==============================] - 0s 613us/sample - loss: 3.3292 - acc: 0.5234\n",
      "Epoch 60/150\n",
      "768/768 [==============================] - 1s 734us/sample - loss: 3.2163 - acc: 0.5286\n",
      "Epoch 61/150\n",
      "768/768 [==============================] - 1s 721us/sample - loss: 3.1055 - acc: 0.5234\n",
      "Epoch 62/150\n",
      "768/768 [==============================] - 0s 617us/sample - loss: 2.9946 - acc: 0.5260\n",
      "Epoch 63/150\n",
      "768/768 [==============================] - 1s 944us/sample - loss: 2.8858 - acc: 0.5299\n",
      "Epoch 64/150\n",
      "768/768 [==============================] - 1s 998us/sample - loss: 2.7849 - acc: 0.5273\n",
      "Epoch 65/150\n",
      "768/768 [==============================] - 1s 713us/sample - loss: 2.6741 - acc: 0.5234\n",
      "Epoch 66/150\n",
      "768/768 [==============================] - 1s 808us/sample - loss: 2.5725 - acc: 0.5286\n",
      "Epoch 67/150\n",
      "768/768 [==============================] - 1s 724us/sample - loss: 2.4675 - acc: 0.5260\n",
      "Epoch 68/150\n",
      "768/768 [==============================] - 1s 885us/sample - loss: 2.3685 - acc: 0.5286\n",
      "Epoch 69/150\n",
      "768/768 [==============================] - 1s 752us/sample - loss: 2.2769 - acc: 0.5326\n",
      "Epoch 70/150\n",
      "768/768 [==============================] - 1s 686us/sample - loss: 2.1819 - acc: 0.5299\n",
      "Epoch 71/150\n",
      "768/768 [==============================] - 0s 480us/sample - loss: 2.0933 - acc: 0.5404\n",
      "Epoch 72/150\n",
      "768/768 [==============================] - 1s 887us/sample - loss: 1.9954 - acc: 0.5417\n",
      "Epoch 73/150\n",
      "768/768 [==============================] - 1s 690us/sample - loss: 1.9137 - acc: 0.5456\n",
      "Epoch 74/150\n",
      "768/768 [==============================] - 0s 639us/sample - loss: 1.8209 - acc: 0.5443\n",
      "Epoch 75/150\n",
      "768/768 [==============================] - 1s 1ms/sample - loss: 1.7601 - acc: 0.5443\n",
      "Epoch 76/150\n",
      "768/768 [==============================] - 1s 673us/sample - loss: 1.6682 - acc: 0.5560\n",
      "Epoch 77/150\n",
      "768/768 [==============================] - 1s 1ms/sample - loss: 1.5893 - acc: 0.5547\n",
      "Epoch 78/150\n",
      "768/768 [==============================] - 0s 596us/sample - loss: 1.5206 - acc: 0.5573\n",
      "Epoch 79/150\n",
      "768/768 [==============================] - 1s 1ms/sample - loss: 1.4504 - acc: 0.5586\n",
      "Epoch 80/150\n",
      "768/768 [==============================] - 1s 1ms/sample - loss: 1.4052 - acc: 0.5794\n",
      "Epoch 81/150\n"
     ]
    },
    {
     "name": "stdout",
     "output_type": "stream",
     "text": [
      "768/768 [==============================] - 1s 810us/sample - loss: 1.3586 - acc: 0.5573\n",
      "Epoch 82/150\n",
      "768/768 [==============================] - 1s 871us/sample - loss: 1.2827 - acc: 0.5872\n",
      "Epoch 83/150\n",
      "768/768 [==============================] - 1s 770us/sample - loss: 1.2277 - acc: 0.5833\n",
      "Epoch 84/150\n",
      "768/768 [==============================] - 1s 735us/sample - loss: 1.1797 - acc: 0.5898\n",
      "Epoch 85/150\n",
      "768/768 [==============================] - 0s 474us/sample - loss: 1.1374 - acc: 0.6003\n",
      "Epoch 86/150\n",
      "768/768 [==============================] - 1s 824us/sample - loss: 1.1057 - acc: 0.6055\n",
      "Epoch 87/150\n",
      "768/768 [==============================] - 1s 722us/sample - loss: 1.0556 - acc: 0.6068\n",
      "Epoch 88/150\n",
      "768/768 [==============================] - 1s 783us/sample - loss: 1.0266 - acc: 0.6276\n",
      "Epoch 89/150\n",
      "768/768 [==============================] - 1s 753us/sample - loss: 1.0146 - acc: 0.6146\n",
      "Epoch 90/150\n",
      "768/768 [==============================] - 1s 774us/sample - loss: 0.9733 - acc: 0.6146\n",
      "Epoch 91/150\n",
      "768/768 [==============================] - 1s 752us/sample - loss: 0.9569 - acc: 0.6354\n",
      "Epoch 92/150\n",
      "768/768 [==============================] - 1s 778us/sample - loss: 0.9245 - acc: 0.6302\n",
      "Epoch 93/150\n",
      "768/768 [==============================] - 1s 860us/sample - loss: 0.9032 - acc: 0.6328\n",
      "Epoch 94/150\n",
      "768/768 [==============================] - 1s 795us/sample - loss: 0.8917 - acc: 0.6484\n",
      "Epoch 95/150\n",
      "768/768 [==============================] - 1s 1ms/sample - loss: 0.8683 - acc: 0.6380 0s - loss: 0.8476 - acc:\n",
      "Epoch 96/150\n",
      "768/768 [==============================] - 1s 856us/sample - loss: 0.8501 - acc: 0.6562\n",
      "Epoch 97/150\n",
      "768/768 [==============================] - 1s 790us/sample - loss: 0.8362 - acc: 0.6419\n",
      "Epoch 98/150\n",
      "768/768 [==============================] - 1s 742us/sample - loss: 0.8276 - acc: 0.6497\n",
      "Epoch 99/150\n",
      "768/768 [==============================] - 1s 828us/sample - loss: 0.8174 - acc: 0.6615\n",
      "Epoch 100/150\n",
      "768/768 [==============================] - 0s 611us/sample - loss: 0.8040 - acc: 0.6667\n",
      "Epoch 101/150\n",
      "768/768 [==============================] - 1s 754us/sample - loss: 0.7892 - acc: 0.6549\n",
      "Epoch 102/150\n",
      "768/768 [==============================] - 1s 822us/sample - loss: 0.7812 - acc: 0.6680\n",
      "Epoch 103/150\n",
      "768/768 [==============================] - 1s 748us/sample - loss: 0.7699 - acc: 0.6680\n",
      "Epoch 104/150\n",
      "768/768 [==============================] - 1s 857us/sample - loss: 0.7652 - acc: 0.6680\n",
      "Epoch 105/150\n",
      "768/768 [==============================] - 1s 932us/sample - loss: 0.7520 - acc: 0.6654\n",
      "Epoch 106/150\n",
      "768/768 [==============================] - 1s 773us/sample - loss: 0.7445 - acc: 0.6784\n",
      "Epoch 107/150\n",
      "768/768 [==============================] - 1s 739us/sample - loss: 0.7303 - acc: 0.6784\n",
      "Epoch 108/150\n",
      "768/768 [==============================] - 1s 754us/sample - loss: 0.7268 - acc: 0.6875\n",
      "Epoch 109/150\n",
      "768/768 [==============================] - 1s 859us/sample - loss: 0.7186 - acc: 0.6823\n",
      "Epoch 110/150\n",
      "768/768 [==============================] - 1s 661us/sample - loss: 0.7153 - acc: 0.6953\n",
      "Epoch 111/150\n",
      "768/768 [==============================] - 1s 794us/sample - loss: 0.7060 - acc: 0.6810\n",
      "Epoch 112/150\n",
      "768/768 [==============================] - 1s 746us/sample - loss: 0.6988 - acc: 0.6953s - loss: 0.6919 - acc: 0.695\n",
      "Epoch 113/150\n",
      "768/768 [==============================] - 1s 684us/sample - loss: 0.6937 - acc: 0.7005\n",
      "Epoch 114/150\n",
      "768/768 [==============================] - 0s 649us/sample - loss: 0.6912 - acc: 0.7031\n",
      "Epoch 115/150\n",
      "768/768 [==============================] - 0s 612us/sample - loss: 0.6829 - acc: 0.6979\n",
      "Epoch 116/150\n",
      "768/768 [==============================] - 1s 968us/sample - loss: 0.6732 - acc: 0.7070\n",
      "Epoch 117/150\n",
      "768/768 [==============================] - 1s 940us/sample - loss: 0.6706 - acc: 0.6940\n",
      "Epoch 118/150\n",
      "768/768 [==============================] - 1s 856us/sample - loss: 0.6614 - acc: 0.7044\n",
      "Epoch 119/150\n",
      "768/768 [==============================] - 1s 870us/sample - loss: 0.6683 - acc: 0.6940\n",
      "Epoch 120/150\n",
      "768/768 [==============================] - 1s 805us/sample - loss: 0.6572 - acc: 0.7005\n",
      "Epoch 121/150\n",
      "768/768 [==============================] - 1s 763us/sample - loss: 0.6505 - acc: 0.6953\n",
      "Epoch 122/150\n",
      "768/768 [==============================] - 1s 1ms/sample - loss: 0.6479 - acc: 0.6979\n",
      "Epoch 123/150\n",
      "768/768 [==============================] - 0s 539us/sample - loss: 0.6499 - acc: 0.6992\n",
      "Epoch 124/150\n",
      "768/768 [==============================] - 1s 727us/sample - loss: 0.6407 - acc: 0.7083\n",
      "Epoch 125/150\n",
      "768/768 [==============================] - 1s 1ms/sample - loss: 0.6345 - acc: 0.7057\n",
      "Epoch 126/150\n",
      "768/768 [==============================] - 1s 1ms/sample - loss: 0.6506 - acc: 0.6797\n",
      "Epoch 127/150\n",
      "768/768 [==============================] - 1s 665us/sample - loss: 0.6252 - acc: 0.7031\n",
      "Epoch 128/150\n",
      "768/768 [==============================] - 1s 738us/sample - loss: 0.6232 - acc: 0.7109\n",
      "Epoch 129/150\n",
      "768/768 [==============================] - 1s 1ms/sample - loss: 0.6169 - acc: 0.7122\n",
      "Epoch 130/150\n",
      "768/768 [==============================] - 1s 989us/sample - loss: 0.6221 - acc: 0.7083\n",
      "Epoch 131/150\n",
      "768/768 [==============================] - 1s 774us/sample - loss: 0.6349 - acc: 0.7031\n",
      "Epoch 132/150\n",
      "768/768 [==============================] - 1s 824us/sample - loss: 0.6253 - acc: 0.6953\n",
      "Epoch 133/150\n",
      "768/768 [==============================] - 1s 849us/sample - loss: 0.6246 - acc: 0.7044\n",
      "Epoch 134/150\n",
      "768/768 [==============================] - 1s 861us/sample - loss: 0.6106 - acc: 0.7201\n",
      "Epoch 135/150\n",
      "768/768 [==============================] - 1s 760us/sample - loss: 0.6130 - acc: 0.7253\n",
      "Epoch 136/150\n",
      "768/768 [==============================] - 1s 709us/sample - loss: 0.6066 - acc: 0.7148\n",
      "Epoch 137/150\n",
      "768/768 [==============================] - 1s 830us/sample - loss: 0.6010 - acc: 0.7148\n",
      "Epoch 138/150\n",
      "768/768 [==============================] - 1s 1ms/sample - loss: 0.6084 - acc: 0.7083\n",
      "Epoch 139/150\n",
      "768/768 [==============================] - 1s 768us/sample - loss: 0.6029 - acc: 0.7174\n",
      "Epoch 140/150\n",
      "768/768 [==============================] - 1s 854us/sample - loss: 0.6074 - acc: 0.6992\n",
      "Epoch 141/150\n",
      "768/768 [==============================] - 1s 731us/sample - loss: 0.5942 - acc: 0.7214\n",
      "Epoch 142/150\n",
      "768/768 [==============================] - 0s 647us/sample - loss: 0.5944 - acc: 0.7227\n",
      "Epoch 143/150\n",
      "768/768 [==============================] - 0s 614us/sample - loss: 0.5940 - acc: 0.7188\n",
      "Epoch 144/150\n",
      "768/768 [==============================] - 0s 644us/sample - loss: 0.5902 - acc: 0.7148\n",
      "Epoch 145/150\n",
      "768/768 [==============================] - 1s 744us/sample - loss: 0.5927 - acc: 0.7096\n",
      "Epoch 146/150\n",
      "768/768 [==============================] - 1s 658us/sample - loss: 0.6019 - acc: 0.6979\n",
      "Epoch 147/150\n",
      "768/768 [==============================] - 0s 636us/sample - loss: 0.5920 - acc: 0.7227\n",
      "Epoch 148/150\n",
      "768/768 [==============================] - 1s 660us/sample - loss: 0.5890 - acc: 0.7188\n",
      "Epoch 149/150\n",
      "768/768 [==============================] - 1s 817us/sample - loss: 0.5877 - acc: 0.7253\n",
      "Epoch 150/150\n",
      "768/768 [==============================] - 0s 536us/sample - loss: 0.5894 - acc: 0.7122\n"
     ]
    },
    {
     "data": {
      "text/plain": [
       "<tensorflow.python.keras.callbacks.History at 0x7fb9909849b0>"
      ]
     },
     "execution_count": 12,
     "metadata": {},
     "output_type": "execute_result"
    }
   ],
   "source": [
    "model.fit(X, y, epochs=150)"
   ]
  },
  {
   "cell_type": "code",
   "execution_count": 13,
   "metadata": {},
   "outputs": [
    {
     "data": {
      "text/plain": [
       "(768,)"
      ]
     },
     "execution_count": 13,
     "metadata": {},
     "output_type": "execute_result"
    }
   ],
   "source": [
    "y.shape"
   ]
  },
  {
   "cell_type": "markdown",
   "metadata": {},
   "source": [
    "### Evaluate Model"
   ]
  },
  {
   "cell_type": "code",
   "execution_count": 14,
   "metadata": {},
   "outputs": [
    {
     "data": {
      "text/plain": [
       "array([1., 0., 1., 0., 1., 0., 1., 0., 1., 1., 0., 1., 0., 1., 1., 1., 1.,\n",
       "       1., 0., 1., 0., 0., 1., 1., 1., 1., 1., 0., 0., 0., 0., 1., 0., 0.,\n",
       "       0., 0., 0., 1., 1., 1., 0., 0., 0., 1., 0., 1., 0., 0., 1., 0.])"
      ]
     },
     "execution_count": 14,
     "metadata": {},
     "output_type": "execute_result"
    }
   ],
   "source": [
    "y[:50]"
   ]
  },
  {
   "cell_type": "code",
   "execution_count": 15,
   "metadata": {},
   "outputs": [
    {
     "data": {
      "text/plain": [
       "0.3489583333333333"
      ]
     },
     "execution_count": 15,
     "metadata": {},
     "output_type": "execute_result"
    }
   ],
   "source": [
    "# Predicting never diabetes\n",
    "sum(y) / len(y) "
   ]
  },
  {
   "cell_type": "code",
   "execution_count": 16,
   "metadata": {},
   "outputs": [
    {
     "name": "stdout",
     "output_type": "stream",
     "text": [
      "768/768 [==============================] - 1s 1ms/sample - loss: 0.5857 - acc: 0.7161\n",
      "acc: 71.61458134651184\n"
     ]
    }
   ],
   "source": [
    "scores = model.evaluate(X,y)\n",
    "print(f\"{model.metrics_names[1]}: {scores[1]*100}\")"
   ]
  },
  {
   "cell_type": "markdown",
   "metadata": {
    "colab_type": "text",
    "id": "zHYB7k9q3O8T"
   },
   "source": [
    "### Unstable Results\n",
    "\n",
    "You'll notice that if we rerun the results might differ from the origin run. This can be explain by a bunch of factors. Check out some of them in this article: \n",
    "\n",
    "<https://machinelearningmastery.com/randomness-in-machine-learning/>"
   ]
  },
  {
   "cell_type": "markdown",
   "metadata": {},
   "source": [
    "## Challenge\n",
    "\n",
    "You will be expected to leverage the Keras `Sequential`api to estimate a feed forward neural networks on a dataset."
   ]
  },
  {
   "cell_type": "markdown",
   "metadata": {
    "colab_type": "text",
    "id": "ueDVpctAzvy8"
   },
   "source": [
    "# Choosing Architecture (Learn)"
   ]
  },
  {
   "cell_type": "markdown",
   "metadata": {},
   "source": [
    "## Overview\n",
    "\n",
    "Choosing an architecture for a neural network is almost more an art than a science. Let's do a few experiments:"
   ]
  },
  {
   "cell_type": "markdown",
   "metadata": {},
   "source": [
    "## Follow Along"
   ]
  },
  {
   "cell_type": "code",
   "execution_count": 17,
   "metadata": {
    "colab": {},
    "colab_type": "code",
    "id": "6W2Sc7-LzQo_"
   },
   "outputs": [
    {
     "name": "stdout",
     "output_type": "stream",
     "text": [
      "Model: \"3LayerJunk\"\n",
      "_________________________________________________________________\n",
      "Layer (type)                 Output Shape              Param #   \n",
      "=================================================================\n",
      "Dense1 (Dense)               (None, 4)                 36        \n",
      "_________________________________________________________________\n",
      "dense_2 (Dense)              (None, 3)                 15        \n",
      "_________________________________________________________________\n",
      "dense_3 (Dense)              (None, 1)                 4         \n",
      "=================================================================\n",
      "Total params: 55\n",
      "Trainable params: 55\n",
      "Non-trainable params: 0\n",
      "_________________________________________________________________\n"
     ]
    }
   ],
   "source": [
    "# Tell me your ideas\n",
    "\n",
    "model_improved = Sequential(name=\"3LayerJunk\")\n",
    "\n",
    "model_improved.add(Dense(4, input_dim=8, activation='relu', name=\"Dense1\"))\n",
    "model_improved.add(Dense(3, activation='sigmoid'))\n",
    "model_improved.add(Dense(1, activation='sigmoid'))\n",
    "\n",
    "model_improved.compile(loss='binary_crossentropy', optimizer='adam',\n",
    "              metrics=['accuracy'])\n",
    "\n",
    "# Let's inspect our new architecture\n",
    "model_improved.summary()"
   ]
  },
  {
   "cell_type": "code",
   "execution_count": 18,
   "metadata": {},
   "outputs": [
    {
     "data": {
      "text/plain": [
       "<tensorflow.python.keras.callbacks.History at 0x7fb9909a9c18>"
      ]
     },
     "execution_count": 18,
     "metadata": {},
     "output_type": "execute_result"
    }
   ],
   "source": [
    "model_improved.fit(X, y, epochs=50, verbose=False) # What parameters can I specify here?"
   ]
  },
  {
   "cell_type": "code",
   "execution_count": 19,
   "metadata": {},
   "outputs": [
    {
     "name": "stdout",
     "output_type": "stream",
     "text": [
      "768/768 [==============================] - 2s 3ms/sample - loss: 0.6028 - acc: 0.6549\n",
      "acc: 65.49479365348816\n"
     ]
    }
   ],
   "source": [
    "scores = model_improved.evaluate(X,y)\n",
    "print(f\"{model_improved.metrics_names[1]}: {scores[1]*100}\")"
   ]
  },
  {
   "cell_type": "markdown",
   "metadata": {},
   "source": [
    "### Experiment with 1 Additional Layer & Change Activation F(x)s"
   ]
  },
  {
   "cell_type": "code",
   "execution_count": 20,
   "metadata": {},
   "outputs": [
    {
     "name": "stdout",
     "output_type": "stream",
     "text": [
      "Model: \"4LayerJunk\"\n",
      "_________________________________________________________________\n",
      "Layer (type)                 Output Shape              Param #   \n",
      "=================================================================\n",
      "Dense1 (Dense)               (None, 4)                 36        \n",
      "_________________________________________________________________\n",
      "dense_4 (Dense)              (None, 3)                 15        \n",
      "_________________________________________________________________\n",
      "dense_5 (Dense)              (None, 3)                 12        \n",
      "_________________________________________________________________\n",
      "dense_6 (Dense)              (None, 1)                 4         \n",
      "=================================================================\n",
      "Total params: 67\n",
      "Trainable params: 67\n",
      "Non-trainable params: 0\n",
      "_________________________________________________________________\n"
     ]
    }
   ],
   "source": [
    "# Tell me your ideas\n",
    "\n",
    "model_improved = Sequential(name=\"4LayerJunk\")\n",
    "\n",
    "model_improved.add(Dense(4, input_dim=8, activation='relu', name=\"Dense1\"))\n",
    "model_improved.add(Dense(3, activation='relu'))\n",
    "model_improved.add(Dense(3, activation='relu'))\n",
    "model_improved.add(Dense(1, activation='sigmoid'))\n",
    "\n",
    "model_improved.compile(loss='binary_crossentropy', optimizer='adam',\n",
    "              metrics=['accuracy'])\n",
    "\n",
    "# Let's inspect our new architecture\n",
    "model_improved.summary()"
   ]
  },
  {
   "cell_type": "code",
   "execution_count": 21,
   "metadata": {},
   "outputs": [
    {
     "data": {
      "text/plain": [
       "<tensorflow.python.keras.callbacks.History at 0x7fb977f11160>"
      ]
     },
     "execution_count": 21,
     "metadata": {},
     "output_type": "execute_result"
    }
   ],
   "source": [
    "model_improved.fit(X,y, epochs=250, verbose=False)"
   ]
  },
  {
   "cell_type": "code",
   "execution_count": 22,
   "metadata": {},
   "outputs": [
    {
     "name": "stdout",
     "output_type": "stream",
     "text": [
      "768/768 [==============================] - 0s 467us/sample - loss: 0.5965 - acc: 0.6979\n"
     ]
    },
    {
     "data": {
      "text/plain": [
       "[0.5965496984620889, 0.6979167]"
      ]
     },
     "execution_count": 22,
     "metadata": {},
     "output_type": "execute_result"
    }
   ],
   "source": [
    "model_improved.evaluate(X,y)\n",
    "#print(f\"{model_improved.metrics_names[1]}: {scores[1]*100}\")"
   ]
  },
  {
   "cell_type": "markdown",
   "metadata": {},
   "source": [
    "### New Experiment with Identical Neuron Numbers"
   ]
  },
  {
   "cell_type": "code",
   "execution_count": 23,
   "metadata": {},
   "outputs": [
    {
     "name": "stdout",
     "output_type": "stream",
     "text": [
      "Model: \"EvenNuerons4LayerJunk\"\n",
      "_________________________________________________________________\n",
      "Layer (type)                 Output Shape              Param #   \n",
      "=================================================================\n",
      "Dense1 (Dense)               (None, 8)                 72        \n",
      "_________________________________________________________________\n",
      "dense_7 (Dense)              (None, 8)                 72        \n",
      "_________________________________________________________________\n",
      "dense_8 (Dense)              (None, 8)                 72        \n",
      "_________________________________________________________________\n",
      "dense_9 (Dense)              (None, 1)                 9         \n",
      "=================================================================\n",
      "Total params: 225\n",
      "Trainable params: 225\n",
      "Non-trainable params: 0\n",
      "_________________________________________________________________\n"
     ]
    }
   ],
   "source": [
    "# Tell me your ideas\n",
    "\n",
    "model_improved = Sequential(name=\"EvenNuerons4LayerJunk\")\n",
    "\n",
    "model_improved.add(Dense(8, input_dim=8, activation='relu', name=\"Dense1\"))\n",
    "model_improved.add(Dense(8, activation='relu'))\n",
    "model_improved.add(Dense(8, activation='relu'))\n",
    "model_improved.add(Dense(1, activation='sigmoid'))\n",
    "\n",
    "model_improved.compile(loss='binary_crossentropy', optimizer='adam',\n",
    "              metrics=['accuracy'])\n",
    "\n",
    "# Let's inspect our new architecture\n",
    "model_improved.summary()"
   ]
  },
  {
   "cell_type": "code",
   "execution_count": 24,
   "metadata": {},
   "outputs": [
    {
     "name": "stdout",
     "output_type": "stream",
     "text": [
      "Train on 691 samples, validate on 77 samples\n",
      "Epoch 1/250\n",
      "691/691 [==============================] - 2s 3ms/sample - loss: 18.8623 - acc: 0.6570 - val_loss: 16.4380 - val_acc: 0.5974\n",
      "Epoch 2/250\n",
      "691/691 [==============================] - 0s 140us/sample - loss: 10.6551 - acc: 0.6570 - val_loss: 8.5928 - val_acc: 0.5974\n",
      "Epoch 3/250\n",
      "691/691 [==============================] - 0s 136us/sample - loss: 4.7091 - acc: 0.6570 - val_loss: 2.1948 - val_acc: 0.5974\n",
      "Epoch 4/250\n",
      "691/691 [==============================] - 0s 141us/sample - loss: 1.0712 - acc: 0.5803 - val_loss: 0.9001 - val_acc: 0.5714\n",
      "Epoch 5/250\n",
      "691/691 [==============================] - 0s 140us/sample - loss: 0.7533 - acc: 0.6368 - val_loss: 0.7703 - val_acc: 0.6623\n",
      "Epoch 6/250\n",
      "691/691 [==============================] - 0s 139us/sample - loss: 0.6863 - acc: 0.6397 - val_loss: 0.7178 - val_acc: 0.6753\n",
      "Epoch 7/250\n",
      "691/691 [==============================] - 0s 139us/sample - loss: 0.6694 - acc: 0.6397 - val_loss: 0.6912 - val_acc: 0.7013\n",
      "Epoch 8/250\n",
      "691/691 [==============================] - 0s 154us/sample - loss: 0.6481 - acc: 0.6512 - val_loss: 0.7308 - val_acc: 0.6104\n",
      "Epoch 9/250\n",
      "691/691 [==============================] - 0s 135us/sample - loss: 0.6421 - acc: 0.6527 - val_loss: 0.7195 - val_acc: 0.6364\n",
      "Epoch 10/250\n",
      "691/691 [==============================] - 0s 150us/sample - loss: 0.6280 - acc: 0.6570 - val_loss: 0.6851 - val_acc: 0.7143\n",
      "Epoch 11/250\n",
      "691/691 [==============================] - 0s 162us/sample - loss: 0.6181 - acc: 0.6686 - val_loss: 0.7224 - val_acc: 0.5844\n",
      "Epoch 12/250\n",
      "691/691 [==============================] - 0s 151us/sample - loss: 0.6205 - acc: 0.6483 - val_loss: 0.7018 - val_acc: 0.6234\n",
      "Epoch 13/250\n",
      "691/691 [==============================] - 0s 137us/sample - loss: 0.6079 - acc: 0.6874 - val_loss: 0.7163 - val_acc: 0.5844\n",
      "Epoch 14/250\n",
      "691/691 [==============================] - 0s 143us/sample - loss: 0.6046 - acc: 0.6715 - val_loss: 0.6773 - val_acc: 0.6234\n",
      "Epoch 15/250\n",
      "691/691 [==============================] - 0s 190us/sample - loss: 0.6011 - acc: 0.6744 - val_loss: 0.6821 - val_acc: 0.6364\n",
      "Epoch 16/250\n",
      "691/691 [==============================] - 0s 180us/sample - loss: 0.6041 - acc: 0.6744 - val_loss: 0.6992 - val_acc: 0.5844\n",
      "Epoch 17/250\n",
      "691/691 [==============================] - 0s 159us/sample - loss: 0.5949 - acc: 0.6946 - val_loss: 0.6762 - val_acc: 0.6234\n",
      "Epoch 18/250\n",
      "691/691 [==============================] - 0s 116us/sample - loss: 0.5934 - acc: 0.7048 - val_loss: 0.6616 - val_acc: 0.6234\n",
      "Epoch 19/250\n",
      "691/691 [==============================] - 0s 141us/sample - loss: 0.5930 - acc: 0.6918 - val_loss: 0.6705 - val_acc: 0.5844\n",
      "Epoch 20/250\n",
      "691/691 [==============================] - 0s 155us/sample - loss: 0.5889 - acc: 0.7004 - val_loss: 0.6644 - val_acc: 0.6104\n",
      "Epoch 21/250\n",
      "691/691 [==============================] - 0s 155us/sample - loss: 0.5891 - acc: 0.7048 - val_loss: 0.6809 - val_acc: 0.6104\n",
      "Epoch 22/250\n",
      "691/691 [==============================] - 0s 120us/sample - loss: 0.5873 - acc: 0.7033 - val_loss: 0.6889 - val_acc: 0.5714\n",
      "Epoch 23/250\n",
      "691/691 [==============================] - 0s 135us/sample - loss: 0.5951 - acc: 0.6918 - val_loss: 0.7070 - val_acc: 0.5584\n",
      "Epoch 24/250\n",
      "691/691 [==============================] - 0s 138us/sample - loss: 0.5896 - acc: 0.6903 - val_loss: 0.6731 - val_acc: 0.6494\n",
      "Epoch 25/250\n",
      "691/691 [==============================] - 0s 194us/sample - loss: 0.5881 - acc: 0.7077 - val_loss: 0.6740 - val_acc: 0.5455\n",
      "Epoch 26/250\n",
      "691/691 [==============================] - 0s 143us/sample - loss: 0.5917 - acc: 0.6845 - val_loss: 0.6312 - val_acc: 0.6494\n",
      "Epoch 27/250\n",
      "691/691 [==============================] - 0s 236us/sample - loss: 0.5854 - acc: 0.6946 - val_loss: 0.6532 - val_acc: 0.5974\n",
      "Epoch 28/250\n",
      "691/691 [==============================] - 0s 138us/sample - loss: 0.5821 - acc: 0.6961 - val_loss: 0.6536 - val_acc: 0.6364\n",
      "Epoch 29/250\n",
      "691/691 [==============================] - 0s 126us/sample - loss: 0.5794 - acc: 0.7192 - val_loss: 0.6384 - val_acc: 0.6364\n",
      "Epoch 30/250\n",
      "691/691 [==============================] - 0s 147us/sample - loss: 0.5792 - acc: 0.7033 - val_loss: 0.6425 - val_acc: 0.6494\n",
      "Epoch 31/250\n",
      "691/691 [==============================] - 0s 152us/sample - loss: 0.5830 - acc: 0.6932 - val_loss: 0.6584 - val_acc: 0.6494\n",
      "Epoch 32/250\n",
      "691/691 [==============================] - ETA: 0s - loss: 0.5909 - acc: 0.683 - 0s 117us/sample - loss: 0.5876 - acc: 0.6918 - val_loss: 0.6168 - val_acc: 0.6883\n",
      "Epoch 33/250\n",
      "691/691 [==============================] - 0s 137us/sample - loss: 0.5757 - acc: 0.7091 - val_loss: 0.7179 - val_acc: 0.6234\n",
      "Epoch 34/250\n",
      "691/691 [==============================] - 0s 131us/sample - loss: 0.5790 - acc: 0.7077 - val_loss: 0.6133 - val_acc: 0.6753\n",
      "Epoch 35/250\n",
      "691/691 [==============================] - 0s 140us/sample - loss: 0.5725 - acc: 0.7091 - val_loss: 0.6607 - val_acc: 0.6104\n",
      "Epoch 36/250\n",
      "691/691 [==============================] - 0s 139us/sample - loss: 0.5751 - acc: 0.7048 - val_loss: 0.6320 - val_acc: 0.6753\n",
      "Epoch 37/250\n",
      "691/691 [==============================] - 0s 127us/sample - loss: 0.5760 - acc: 0.7062 - val_loss: 0.6337 - val_acc: 0.6753\n",
      "Epoch 38/250\n",
      "691/691 [==============================] - 0s 131us/sample - loss: 0.5770 - acc: 0.7048 - val_loss: 0.6300 - val_acc: 0.6883\n",
      "Epoch 39/250\n",
      "691/691 [==============================] - 0s 137us/sample - loss: 0.5856 - acc: 0.6975 - val_loss: 0.6491 - val_acc: 0.6494\n",
      "Epoch 40/250\n",
      "691/691 [==============================] - 0s 136us/sample - loss: 0.5806 - acc: 0.7062 - val_loss: 0.6719 - val_acc: 0.6104\n",
      "Epoch 41/250\n",
      "691/691 [==============================] - 0s 141us/sample - loss: 0.5779 - acc: 0.6946 - val_loss: 0.6189 - val_acc: 0.6623\n",
      "Epoch 42/250\n",
      "691/691 [==============================] - 0s 134us/sample - loss: 0.5731 - acc: 0.7033 - val_loss: 0.6259 - val_acc: 0.6623\n",
      "Epoch 43/250\n",
      "691/691 [==============================] - 0s 144us/sample - loss: 0.5668 - acc: 0.7077 - val_loss: 0.6479 - val_acc: 0.6494\n",
      "Epoch 44/250\n",
      "691/691 [==============================] - 0s 133us/sample - loss: 0.5658 - acc: 0.7106 - val_loss: 0.6396 - val_acc: 0.6623\n",
      "Epoch 45/250\n",
      "691/691 [==============================] - 0s 138us/sample - loss: 0.5665 - acc: 0.6961 - val_loss: 0.6366 - val_acc: 0.7143\n",
      "Epoch 46/250\n",
      "691/691 [==============================] - 0s 134us/sample - loss: 0.5820 - acc: 0.6845 - val_loss: 0.6311 - val_acc: 0.6883\n",
      "Epoch 47/250\n",
      "691/691 [==============================] - 0s 130us/sample - loss: 0.5749 - acc: 0.6918 - val_loss: 0.6208 - val_acc: 0.6753\n",
      "Epoch 48/250\n",
      "691/691 [==============================] - 0s 135us/sample - loss: 0.5721 - acc: 0.6990 - val_loss: 0.6496 - val_acc: 0.7143\n",
      "Epoch 49/250\n",
      "691/691 [==============================] - ETA: 0s - loss: 0.5715 - acc: 0.703 - 0s 144us/sample - loss: 0.5770 - acc: 0.7004 - val_loss: 0.6500 - val_acc: 0.6364\n",
      "Epoch 50/250\n",
      "691/691 [==============================] - 0s 142us/sample - loss: 0.5665 - acc: 0.7019 - val_loss: 0.5945 - val_acc: 0.6883\n",
      "Epoch 51/250\n",
      "691/691 [==============================] - 0s 139us/sample - loss: 0.5616 - acc: 0.7077 - val_loss: 0.6318 - val_acc: 0.6753\n",
      "Epoch 52/250\n",
      "691/691 [==============================] - 0s 141us/sample - loss: 0.5662 - acc: 0.7077 - val_loss: 0.6227 - val_acc: 0.6883\n",
      "Epoch 53/250\n",
      "691/691 [==============================] - 0s 136us/sample - loss: 0.5638 - acc: 0.7149 - val_loss: 0.6000 - val_acc: 0.6883\n",
      "Epoch 54/250\n",
      "691/691 [==============================] - 0s 125us/sample - loss: 0.5618 - acc: 0.7207 - val_loss: 0.6105 - val_acc: 0.6883\n",
      "Epoch 55/250\n",
      "691/691 [==============================] - 0s 159us/sample - loss: 0.5663 - acc: 0.7164 - val_loss: 0.6235 - val_acc: 0.6753\n",
      "Epoch 56/250\n",
      "691/691 [==============================] - 0s 206us/sample - loss: 0.5596 - acc: 0.7352 - val_loss: 0.6103 - val_acc: 0.6623\n",
      "Epoch 57/250\n",
      "691/691 [==============================] - 0s 153us/sample - loss: 0.5671 - acc: 0.7120 - val_loss: 0.6009 - val_acc: 0.6753\n",
      "Epoch 58/250\n",
      "691/691 [==============================] - 0s 142us/sample - loss: 0.5649 - acc: 0.7091 - val_loss: 0.6209 - val_acc: 0.6883\n",
      "Epoch 59/250\n"
     ]
    },
    {
     "name": "stdout",
     "output_type": "stream",
     "text": [
      "691/691 [==============================] - 0s 159us/sample - loss: 0.5594 - acc: 0.7236 - val_loss: 0.6225 - val_acc: 0.6753\n",
      "Epoch 60/250\n",
      "691/691 [==============================] - 0s 142us/sample - loss: 0.5617 - acc: 0.7120 - val_loss: 0.6100 - val_acc: 0.6883\n",
      "Epoch 61/250\n",
      "691/691 [==============================] - 0s 245us/sample - loss: 0.5584 - acc: 0.7135 - val_loss: 0.6311 - val_acc: 0.6753\n",
      "Epoch 62/250\n",
      "691/691 [==============================] - 0s 144us/sample - loss: 0.5610 - acc: 0.7149 - val_loss: 0.6141 - val_acc: 0.7013\n",
      "Epoch 63/250\n",
      "691/691 [==============================] - 0s 138us/sample - loss: 0.5616 - acc: 0.7178 - val_loss: 0.6200 - val_acc: 0.7013\n",
      "Epoch 64/250\n",
      "691/691 [==============================] - 0s 130us/sample - loss: 0.5631 - acc: 0.7033 - val_loss: 0.6250 - val_acc: 0.6494\n",
      "Epoch 65/250\n",
      "691/691 [==============================] - 0s 133us/sample - loss: 0.5641 - acc: 0.7236 - val_loss: 0.6015 - val_acc: 0.7143\n",
      "Epoch 66/250\n",
      "691/691 [==============================] - 0s 133us/sample - loss: 0.5637 - acc: 0.7178 - val_loss: 0.5993 - val_acc: 0.6883\n",
      "Epoch 67/250\n",
      "691/691 [==============================] - ETA: 0s - loss: 0.5629 - acc: 0.708 - 0s 142us/sample - loss: 0.5574 - acc: 0.7135 - val_loss: 0.6099 - val_acc: 0.6753\n",
      "Epoch 68/250\n",
      "691/691 [==============================] - 0s 149us/sample - loss: 0.5669 - acc: 0.7135 - val_loss: 0.5976 - val_acc: 0.6883\n",
      "Epoch 69/250\n",
      "691/691 [==============================] - 0s 112us/sample - loss: 0.5646 - acc: 0.7178 - val_loss: 0.6368 - val_acc: 0.6494\n",
      "Epoch 70/250\n",
      "691/691 [==============================] - 0s 136us/sample - loss: 0.5582 - acc: 0.7135 - val_loss: 0.5835 - val_acc: 0.7013\n",
      "Epoch 71/250\n",
      "691/691 [==============================] - 0s 144us/sample - loss: 0.5651 - acc: 0.7062 - val_loss: 0.6225 - val_acc: 0.6883\n",
      "Epoch 72/250\n",
      "691/691 [==============================] - 0s 128us/sample - loss: 0.5547 - acc: 0.7106 - val_loss: 0.6356 - val_acc: 0.7013\n",
      "Epoch 73/250\n",
      "691/691 [==============================] - 0s 118us/sample - loss: 0.5552 - acc: 0.7164 - val_loss: 0.5943 - val_acc: 0.7143\n",
      "Epoch 74/250\n",
      "691/691 [==============================] - 0s 144us/sample - loss: 0.5626 - acc: 0.7164 - val_loss: 0.6202 - val_acc: 0.6883\n",
      "Epoch 75/250\n",
      "691/691 [==============================] - 0s 207us/sample - loss: 0.5671 - acc: 0.7106 - val_loss: 0.6164 - val_acc: 0.6623\n",
      "Epoch 76/250\n",
      "691/691 [==============================] - 0s 163us/sample - loss: 0.5507 - acc: 0.7236 - val_loss: 0.6360 - val_acc: 0.6883\n",
      "Epoch 77/250\n",
      "691/691 [==============================] - 0s 131us/sample - loss: 0.5518 - acc: 0.7236 - val_loss: 0.6075 - val_acc: 0.7013\n",
      "Epoch 78/250\n",
      "691/691 [==============================] - 0s 126us/sample - loss: 0.5466 - acc: 0.7192 - val_loss: 0.6201 - val_acc: 0.6623\n",
      "Epoch 79/250\n",
      "691/691 [==============================] - 0s 144us/sample - loss: 0.5519 - acc: 0.7265 - val_loss: 0.6036 - val_acc: 0.6883\n",
      "Epoch 80/250\n",
      "691/691 [==============================] - 0s 132us/sample - loss: 0.5485 - acc: 0.7178 - val_loss: 0.6052 - val_acc: 0.7013\n",
      "Epoch 81/250\n",
      "691/691 [==============================] - 0s 142us/sample - loss: 0.5468 - acc: 0.7279 - val_loss: 0.5946 - val_acc: 0.7403\n",
      "Epoch 82/250\n",
      "691/691 [==============================] - 0s 136us/sample - loss: 0.5456 - acc: 0.7352 - val_loss: 0.6265 - val_acc: 0.6883\n",
      "Epoch 83/250\n",
      "691/691 [==============================] - 0s 173us/sample - loss: 0.5552 - acc: 0.7250 - val_loss: 0.6733 - val_acc: 0.6234\n",
      "Epoch 84/250\n",
      "691/691 [==============================] - 0s 132us/sample - loss: 0.5507 - acc: 0.7207 - val_loss: 0.6001 - val_acc: 0.6753\n",
      "Epoch 85/250\n",
      "691/691 [==============================] - 0s 166us/sample - loss: 0.5721 - acc: 0.7135 - val_loss: 0.6461 - val_acc: 0.6234\n",
      "Epoch 86/250\n",
      "691/691 [==============================] - 0s 144us/sample - loss: 0.5657 - acc: 0.7164 - val_loss: 0.6080 - val_acc: 0.7143\n",
      "Epoch 87/250\n",
      "691/691 [==============================] - 0s 269us/sample - loss: 0.5422 - acc: 0.7279 - val_loss: 0.5731 - val_acc: 0.7013\n",
      "Epoch 88/250\n",
      "691/691 [==============================] - 0s 319us/sample - loss: 0.5568 - acc: 0.7033 - val_loss: 0.6020 - val_acc: 0.7273\n",
      "Epoch 89/250\n",
      "691/691 [==============================] - 0s 133us/sample - loss: 0.5621 - acc: 0.7250 - val_loss: 0.6058 - val_acc: 0.6883\n",
      "Epoch 90/250\n",
      "691/691 [==============================] - 0s 187us/sample - loss: 0.5490 - acc: 0.7164 - val_loss: 0.6080 - val_acc: 0.7143\n",
      "Epoch 91/250\n",
      "691/691 [==============================] - 0s 281us/sample - loss: 0.5466 - acc: 0.7250 - val_loss: 0.6379 - val_acc: 0.7143\n",
      "Epoch 92/250\n",
      "691/691 [==============================] - 0s 190us/sample - loss: 0.5620 - acc: 0.7178 - val_loss: 0.5931 - val_acc: 0.7273\n",
      "Epoch 93/250\n",
      "691/691 [==============================] - 0s 242us/sample - loss: 0.5419 - acc: 0.7308 - val_loss: 0.6030 - val_acc: 0.6883\n",
      "Epoch 94/250\n",
      "691/691 [==============================] - 0s 202us/sample - loss: 0.5460 - acc: 0.7250 - val_loss: 0.6100 - val_acc: 0.7013\n",
      "Epoch 95/250\n",
      "691/691 [==============================] - 0s 186us/sample - loss: 0.5384 - acc: 0.7323 - val_loss: 0.6134 - val_acc: 0.6623\n",
      "Epoch 96/250\n",
      "691/691 [==============================] - 0s 263us/sample - loss: 0.5415 - acc: 0.7352 - val_loss: 0.5827 - val_acc: 0.7143\n",
      "Epoch 97/250\n",
      "691/691 [==============================] - 0s 310us/sample - loss: 0.5397 - acc: 0.7366 - val_loss: 0.6117 - val_acc: 0.7013\n",
      "Epoch 98/250\n",
      "691/691 [==============================] - 0s 153us/sample - loss: 0.5458 - acc: 0.7308 - val_loss: 0.5945 - val_acc: 0.7273\n",
      "Epoch 99/250\n",
      "691/691 [==============================] - 0s 156us/sample - loss: 0.5443 - acc: 0.7207 - val_loss: 0.6085 - val_acc: 0.7013\n",
      "Epoch 100/250\n",
      "691/691 [==============================] - 0s 226us/sample - loss: 0.5356 - acc: 0.7308 - val_loss: 0.5999 - val_acc: 0.7013\n",
      "Epoch 101/250\n",
      "691/691 [==============================] - 0s 204us/sample - loss: 0.5375 - acc: 0.7236 - val_loss: 0.5927 - val_acc: 0.7273\n",
      "Epoch 102/250\n",
      "691/691 [==============================] - 0s 155us/sample - loss: 0.5421 - acc: 0.7250 - val_loss: 0.5903 - val_acc: 0.7143\n",
      "Epoch 103/250\n",
      "691/691 [==============================] - 0s 204us/sample - loss: 0.5414 - acc: 0.7308 - val_loss: 0.6102 - val_acc: 0.6753\n",
      "Epoch 104/250\n",
      "691/691 [==============================] - 0s 264us/sample - loss: 0.5373 - acc: 0.7337 - val_loss: 0.5752 - val_acc: 0.7403\n",
      "Epoch 105/250\n",
      "691/691 [==============================] - 0s 260us/sample - loss: 0.5487 - acc: 0.7482 - val_loss: 0.5891 - val_acc: 0.7273\n",
      "Epoch 106/250\n",
      "691/691 [==============================] - 0s 153us/sample - loss: 0.5468 - acc: 0.7250 - val_loss: 0.5920 - val_acc: 0.7013\n",
      "Epoch 107/250\n",
      "691/691 [==============================] - 0s 218us/sample - loss: 0.5444 - acc: 0.7221 - val_loss: 0.5775 - val_acc: 0.6883\n",
      "Epoch 108/250\n",
      "691/691 [==============================] - 0s 142us/sample - loss: 0.5525 - acc: 0.7265 - val_loss: 0.5914 - val_acc: 0.7273\n",
      "Epoch 109/250\n",
      "691/691 [==============================] - 0s 233us/sample - loss: 0.5412 - acc: 0.7250 - val_loss: 0.5818 - val_acc: 0.7273\n",
      "Epoch 110/250\n",
      "691/691 [==============================] - 0s 257us/sample - loss: 0.5363 - acc: 0.7395 - val_loss: 0.5736 - val_acc: 0.7143\n",
      "Epoch 111/250\n",
      "691/691 [==============================] - 0s 171us/sample - loss: 0.5413 - acc: 0.7135 - val_loss: 0.5762 - val_acc: 0.7403\n",
      "Epoch 112/250\n",
      "691/691 [==============================] - 0s 169us/sample - loss: 0.5526 - acc: 0.7438 - val_loss: 0.6050 - val_acc: 0.7013\n",
      "Epoch 113/250\n",
      "691/691 [==============================] - 0s 235us/sample - loss: 0.5402 - acc: 0.7337 - val_loss: 0.5694 - val_acc: 0.7143\n",
      "Epoch 114/250\n",
      "691/691 [==============================] - 0s 204us/sample - loss: 0.5333 - acc: 0.7381 - val_loss: 0.6013 - val_acc: 0.7143\n",
      "Epoch 115/250\n",
      "691/691 [==============================] - 0s 196us/sample - loss: 0.5477 - acc: 0.7308 - val_loss: 0.5720 - val_acc: 0.7403\n",
      "Epoch 116/250\n",
      "691/691 [==============================] - 0s 188us/sample - loss: 0.5615 - acc: 0.7135 - val_loss: 0.5751 - val_acc: 0.7403\n",
      "Epoch 117/250\n",
      "691/691 [==============================] - 0s 142us/sample - loss: 0.5339 - acc: 0.7366 - val_loss: 0.5868 - val_acc: 0.7273\n",
      "Epoch 118/250\n"
     ]
    },
    {
     "name": "stdout",
     "output_type": "stream",
     "text": [
      "691/691 [==============================] - 0s 228us/sample - loss: 0.5330 - acc: 0.7308 - val_loss: 0.6011 - val_acc: 0.7273\n",
      "Epoch 119/250\n",
      "691/691 [==============================] - 0s 149us/sample - loss: 0.5437 - acc: 0.7294 - val_loss: 0.5849 - val_acc: 0.7013\n",
      "Epoch 120/250\n",
      "691/691 [==============================] - 0s 169us/sample - loss: 0.5291 - acc: 0.7453 - val_loss: 0.5982 - val_acc: 0.7013\n",
      "Epoch 121/250\n",
      "691/691 [==============================] - 0s 303us/sample - loss: 0.5336 - acc: 0.7467 - val_loss: 0.5783 - val_acc: 0.7403\n",
      "Epoch 122/250\n",
      "691/691 [==============================] - 0s 413us/sample - loss: 0.5377 - acc: 0.7308 - val_loss: 0.5938 - val_acc: 0.6883\n",
      "Epoch 123/250\n",
      "691/691 [==============================] - 0s 418us/sample - loss: 0.5323 - acc: 0.7236 - val_loss: 0.5835 - val_acc: 0.7273\n",
      "Epoch 124/250\n",
      "691/691 [==============================] - 0s 465us/sample - loss: 0.5361 - acc: 0.7308 - val_loss: 0.5991 - val_acc: 0.7143\n",
      "Epoch 125/250\n",
      "691/691 [==============================] - 0s 324us/sample - loss: 0.5396 - acc: 0.7207 - val_loss: 0.5971 - val_acc: 0.7273\n",
      "Epoch 126/250\n",
      "691/691 [==============================] - 0s 281us/sample - loss: 0.5364 - acc: 0.7323 - val_loss: 0.5883 - val_acc: 0.7143\n",
      "Epoch 127/250\n",
      "691/691 [==============================] - 0s 310us/sample - loss: 0.5324 - acc: 0.7308 - val_loss: 0.6018 - val_acc: 0.7013\n",
      "Epoch 128/250\n",
      "691/691 [==============================] - 0s 441us/sample - loss: 0.5274 - acc: 0.7410 - val_loss: 0.5713 - val_acc: 0.7403\n",
      "Epoch 129/250\n",
      "691/691 [==============================] - 0s 349us/sample - loss: 0.5436 - acc: 0.7192 - val_loss: 0.6084 - val_acc: 0.7013\n",
      "Epoch 130/250\n",
      "691/691 [==============================] - 0s 407us/sample - loss: 0.5367 - acc: 0.7352 - val_loss: 0.5843 - val_acc: 0.7273\n",
      "Epoch 131/250\n",
      "691/691 [==============================] - 0s 379us/sample - loss: 0.5352 - acc: 0.7308 - val_loss: 0.5546 - val_acc: 0.7662\n",
      "Epoch 132/250\n",
      "691/691 [==============================] - 0s 542us/sample - loss: 0.5387 - acc: 0.7265 - val_loss: 0.5699 - val_acc: 0.7273\n",
      "Epoch 133/250\n",
      "691/691 [==============================] - 0s 425us/sample - loss: 0.5269 - acc: 0.7424 - val_loss: 0.5922 - val_acc: 0.7143\n",
      "Epoch 134/250\n",
      "691/691 [==============================] - 0s 341us/sample - loss: 0.5285 - acc: 0.7569 - val_loss: 0.5502 - val_acc: 0.7532\n",
      "Epoch 135/250\n",
      "691/691 [==============================] - 0s 420us/sample - loss: 0.5305 - acc: 0.7366 - val_loss: 0.5850 - val_acc: 0.7273\n",
      "Epoch 136/250\n",
      "691/691 [==============================] - 0s 452us/sample - loss: 0.5275 - acc: 0.7410 - val_loss: 0.5991 - val_acc: 0.7403\n",
      "Epoch 137/250\n",
      "691/691 [==============================] - 0s 386us/sample - loss: 0.5322 - acc: 0.7352 - val_loss: 0.6024 - val_acc: 0.7013\n",
      "Epoch 138/250\n",
      "691/691 [==============================] - 0s 326us/sample - loss: 0.5226 - acc: 0.7540 - val_loss: 0.5760 - val_acc: 0.7143\n",
      "Epoch 139/250\n",
      "691/691 [==============================] - 1s 1ms/sample - loss: 0.5331 - acc: 0.7337 - val_loss: 0.5660 - val_acc: 0.7273\n",
      "Epoch 140/250\n",
      "691/691 [==============================] - 1s 1ms/sample - loss: 0.5280 - acc: 0.7453 - val_loss: 0.5841 - val_acc: 0.7013\n",
      "Epoch 141/250\n",
      "691/691 [==============================] - 1s 1ms/sample - loss: 0.5255 - acc: 0.7410 - val_loss: 0.5809 - val_acc: 0.7143\n",
      "Epoch 142/250\n",
      "691/691 [==============================] - 1s 1ms/sample - loss: 0.5296 - acc: 0.7337 - val_loss: 0.5615 - val_acc: 0.7143\n",
      "Epoch 143/250\n",
      "691/691 [==============================] - 1s 1ms/sample - loss: 0.5254 - acc: 0.7482 - val_loss: 0.5707 - val_acc: 0.7273\n",
      "Epoch 144/250\n",
      "691/691 [==============================] - 1s 2ms/sample - loss: 0.5231 - acc: 0.7395 - val_loss: 0.5559 - val_acc: 0.7273\n",
      "Epoch 145/250\n",
      "691/691 [==============================] - 1s 1ms/sample - loss: 0.5242 - acc: 0.7438 - val_loss: 0.5743 - val_acc: 0.7273\n",
      "Epoch 146/250\n",
      "691/691 [==============================] - 1s 1ms/sample - loss: 0.5250 - acc: 0.7511 - val_loss: 0.6335 - val_acc: 0.6104\n",
      "Epoch 147/250\n",
      "691/691 [==============================] - 1s 2ms/sample - loss: 0.5280 - acc: 0.7424 - val_loss: 0.6034 - val_acc: 0.7143\n",
      "Epoch 148/250\n",
      "691/691 [==============================] - 1s 2ms/sample - loss: 0.5305 - acc: 0.7308 - val_loss: 0.5627 - val_acc: 0.7273\n",
      "Epoch 149/250\n",
      "691/691 [==============================] - 1s 1ms/sample - loss: 0.5205 - acc: 0.7525 - val_loss: 0.5545 - val_acc: 0.7662\n",
      "Epoch 150/250\n",
      "691/691 [==============================] - 1s 1ms/sample - loss: 0.5174 - acc: 0.7496 - val_loss: 0.5697 - val_acc: 0.7403\n",
      "Epoch 151/250\n",
      "691/691 [==============================] - 1s 2ms/sample - loss: 0.5226 - acc: 0.7395 - val_loss: 0.5707 - val_acc: 0.7532\n",
      "Epoch 152/250\n",
      "691/691 [==============================] - 1s 1ms/sample - loss: 0.5211 - acc: 0.7482 - val_loss: 0.5616 - val_acc: 0.7532\n",
      "Epoch 153/250\n",
      "691/691 [==============================] - 1s 1ms/sample - loss: 0.5230 - acc: 0.7467 - val_loss: 0.5616 - val_acc: 0.7273\n",
      "Epoch 154/250\n",
      "691/691 [==============================] - 1s 1ms/sample - loss: 0.5203 - acc: 0.7482 - val_loss: 0.5691 - val_acc: 0.7143\n",
      "Epoch 155/250\n",
      "691/691 [==============================] - 1s 2ms/sample - loss: 0.5310 - acc: 0.7352 - val_loss: 0.6295 - val_acc: 0.6753\n",
      "Epoch 156/250\n",
      "691/691 [==============================] - 1s 1ms/sample - loss: 0.5294 - acc: 0.7453 - val_loss: 0.5647 - val_acc: 0.7273\n",
      "Epoch 157/250\n",
      "691/691 [==============================] - 1s 1ms/sample - loss: 0.5189 - acc: 0.7395 - val_loss: 0.5762 - val_acc: 0.7013\n",
      "Epoch 158/250\n",
      "691/691 [==============================] - 1s 1ms/sample - loss: 0.5156 - acc: 0.7525 - val_loss: 0.5536 - val_acc: 0.7403\n",
      "Epoch 159/250\n",
      "691/691 [==============================] - 1s 2ms/sample - loss: 0.5124 - acc: 0.7554 - val_loss: 0.5834 - val_acc: 0.7143\n",
      "Epoch 160/250\n",
      "691/691 [==============================] - 1s 2ms/sample - loss: 0.5397 - acc: 0.7381 - val_loss: 0.5752 - val_acc: 0.7143\n",
      "Epoch 161/250\n",
      "691/691 [==============================] - 1s 2ms/sample - loss: 0.5212 - acc: 0.7352 - val_loss: 0.5562 - val_acc: 0.7273\n",
      "Epoch 162/250\n",
      "691/691 [==============================] - 1s 1ms/sample - loss: 0.5258 - acc: 0.7438 - val_loss: 0.5444 - val_acc: 0.7532\n",
      "Epoch 163/250\n",
      "691/691 [==============================] - 1s 2ms/sample - loss: 0.5254 - acc: 0.7496 - val_loss: 0.5488 - val_acc: 0.7532\n",
      "Epoch 164/250\n",
      "691/691 [==============================] - 1s 1ms/sample - loss: 0.5186 - acc: 0.7525 - val_loss: 0.5575 - val_acc: 0.7143\n",
      "Epoch 165/250\n",
      "691/691 [==============================] - 1s 1ms/sample - loss: 0.5149 - acc: 0.7612 - val_loss: 0.5580 - val_acc: 0.7273\n",
      "Epoch 166/250\n",
      "691/691 [==============================] - 1s 1ms/sample - loss: 0.5306 - acc: 0.7308 - val_loss: 0.5581 - val_acc: 0.7532\n",
      "Epoch 167/250\n",
      "691/691 [==============================] - 1s 2ms/sample - loss: 0.5205 - acc: 0.7496 - val_loss: 0.5667 - val_acc: 0.7273\n",
      "Epoch 168/250\n",
      "691/691 [==============================] - 1s 1ms/sample - loss: 0.5145 - acc: 0.7424 - val_loss: 0.5516 - val_acc: 0.7143\n",
      "Epoch 169/250\n",
      "691/691 [==============================] - 1s 1ms/sample - loss: 0.5111 - acc: 0.7569 - val_loss: 0.5620 - val_acc: 0.7143\n",
      "Epoch 170/250\n",
      "691/691 [==============================] - 1s 2ms/sample - loss: 0.5115 - acc: 0.7453 - val_loss: 0.5632 - val_acc: 0.7662\n",
      "Epoch 171/250\n",
      "691/691 [==============================] - 1s 1ms/sample - loss: 0.5181 - acc: 0.7410 - val_loss: 0.5537 - val_acc: 0.7143\n",
      "Epoch 172/250\n",
      "691/691 [==============================] - 1s 2ms/sample - loss: 0.5206 - acc: 0.7308 - val_loss: 0.5620 - val_acc: 0.7143\n",
      "Epoch 173/250\n",
      "691/691 [==============================] - 1s 1ms/sample - loss: 0.5135 - acc: 0.7453 - val_loss: 0.5465 - val_acc: 0.7403\n",
      "Epoch 174/250\n",
      "691/691 [==============================] - 1s 1ms/sample - loss: 0.5193 - acc: 0.7453 - val_loss: 0.5608 - val_acc: 0.7273\n",
      "Epoch 175/250\n",
      "691/691 [==============================] - 1s 1ms/sample - loss: 0.5168 - acc: 0.7410 - val_loss: 0.5447 - val_acc: 0.7143\n",
      "Epoch 176/250\n",
      "691/691 [==============================] - 1s 1ms/sample - loss: 0.5144 - acc: 0.7569 - val_loss: 0.5462 - val_acc: 0.7532\n",
      "Epoch 177/250\n"
     ]
    },
    {
     "name": "stdout",
     "output_type": "stream",
     "text": [
      "691/691 [==============================] - 1s 2ms/sample - loss: 0.5129 - acc: 0.7467 - val_loss: 0.5486 - val_acc: 0.7403\n",
      "Epoch 178/250\n",
      "691/691 [==============================] - 1s 1ms/sample - loss: 0.5166 - acc: 0.7482 - val_loss: 0.5994 - val_acc: 0.7143\n",
      "Epoch 179/250\n",
      "691/691 [==============================] - 1s 1ms/sample - loss: 0.5147 - acc: 0.7424 - val_loss: 0.5501 - val_acc: 0.7403\n",
      "Epoch 180/250\n",
      "691/691 [==============================] - 1s 1ms/sample - loss: 0.5105 - acc: 0.7627 - val_loss: 0.5563 - val_acc: 0.7792\n",
      "Epoch 181/250\n",
      "691/691 [==============================] - 1s 2ms/sample - loss: 0.5124 - acc: 0.7496 - val_loss: 0.5897 - val_acc: 0.7403\n",
      "Epoch 182/250\n",
      "691/691 [==============================] - 1s 1ms/sample - loss: 0.5196 - acc: 0.7467 - val_loss: 0.5453 - val_acc: 0.7143\n",
      "Epoch 183/250\n",
      "691/691 [==============================] - 1s 2ms/sample - loss: 0.5106 - acc: 0.7482 - val_loss: 0.5523 - val_acc: 0.7532\n",
      "Epoch 184/250\n",
      "691/691 [==============================] - 1s 1ms/sample - loss: 0.5139 - acc: 0.7540 - val_loss: 0.5514 - val_acc: 0.7662\n",
      "Epoch 185/250\n",
      "691/691 [==============================] - 1s 2ms/sample - loss: 0.5189 - acc: 0.7395 - val_loss: 0.5465 - val_acc: 0.7532\n",
      "Epoch 186/250\n",
      "691/691 [==============================] - 1s 1ms/sample - loss: 0.5085 - acc: 0.7583 - val_loss: 0.5689 - val_acc: 0.7403\n",
      "Epoch 187/250\n",
      "691/691 [==============================] - 1s 1ms/sample - loss: 0.5185 - acc: 0.7496 - val_loss: 0.5792 - val_acc: 0.7143\n",
      "Epoch 188/250\n",
      "691/691 [==============================] - 1s 1ms/sample - loss: 0.5041 - acc: 0.7525 - val_loss: 0.5504 - val_acc: 0.7662\n",
      "Epoch 189/250\n",
      "691/691 [==============================] - 1s 2ms/sample - loss: 0.5231 - acc: 0.7395 - val_loss: 0.5346 - val_acc: 0.7273\n",
      "Epoch 190/250\n",
      "691/691 [==============================] - 1s 1ms/sample - loss: 0.5194 - acc: 0.7482 - val_loss: 0.5500 - val_acc: 0.7922\n",
      "Epoch 191/250\n",
      "691/691 [==============================] - 1s 1ms/sample - loss: 0.5113 - acc: 0.7438 - val_loss: 0.5362 - val_acc: 0.7143\n",
      "Epoch 192/250\n",
      "691/691 [==============================] - 1s 1ms/sample - loss: 0.5151 - acc: 0.7438 - val_loss: 0.5785 - val_acc: 0.7013\n",
      "Epoch 193/250\n",
      "691/691 [==============================] - 1s 2ms/sample - loss: 0.5100 - acc: 0.7540 - val_loss: 0.5354 - val_acc: 0.7792\n",
      "Epoch 194/250\n",
      "691/691 [==============================] - 1s 1ms/sample - loss: 0.5068 - acc: 0.7453 - val_loss: 0.5677 - val_acc: 0.7532\n",
      "Epoch 195/250\n",
      "691/691 [==============================] - 1s 2ms/sample - loss: 0.5106 - acc: 0.7554 - val_loss: 0.5510 - val_acc: 0.7143\n",
      "Epoch 196/250\n",
      "691/691 [==============================] - 1s 1ms/sample - loss: 0.5091 - acc: 0.7453 - val_loss: 0.5427 - val_acc: 0.7403\n",
      "Epoch 197/250\n",
      "691/691 [==============================] - 1s 1ms/sample - loss: 0.5092 - acc: 0.7525 - val_loss: 0.5320 - val_acc: 0.7143\n",
      "Epoch 198/250\n",
      "691/691 [==============================] - 1s 1ms/sample - loss: 0.5088 - acc: 0.7554 - val_loss: 0.5402 - val_acc: 0.7403\n",
      "Epoch 199/250\n",
      "691/691 [==============================] - 1s 1ms/sample - loss: 0.5115 - acc: 0.7525 - val_loss: 0.5395 - val_acc: 0.7273\n",
      "Epoch 200/250\n",
      "691/691 [==============================] - 1s 1ms/sample - loss: 0.5123 - acc: 0.7482 - val_loss: 0.5661 - val_acc: 0.7013\n",
      "Epoch 201/250\n",
      "691/691 [==============================] - 1s 2ms/sample - loss: 0.5048 - acc: 0.7525 - val_loss: 0.5493 - val_acc: 0.7143\n",
      "Epoch 202/250\n",
      "691/691 [==============================] - 1s 1ms/sample - loss: 0.5053 - acc: 0.7525 - val_loss: 0.5363 - val_acc: 0.7662\n",
      "Epoch 203/250\n",
      "691/691 [==============================] - 1s 1ms/sample - loss: 0.5160 - acc: 0.7453 - val_loss: 0.5460 - val_acc: 0.7273\n",
      "Epoch 204/250\n",
      "691/691 [==============================] - 1s 2ms/sample - loss: 0.5045 - acc: 0.7525 - val_loss: 0.5486 - val_acc: 0.7273\n",
      "Epoch 205/250\n",
      "691/691 [==============================] - 1s 1ms/sample - loss: 0.5120 - acc: 0.7511 - val_loss: 0.5239 - val_acc: 0.7922\n",
      "Epoch 206/250\n",
      "691/691 [==============================] - 1s 1ms/sample - loss: 0.5149 - acc: 0.7395 - val_loss: 0.5933 - val_acc: 0.6494\n",
      "Epoch 207/250\n",
      "691/691 [==============================] - 1s 1ms/sample - loss: 0.5162 - acc: 0.7438 - val_loss: 0.5295 - val_acc: 0.7273\n",
      "Epoch 208/250\n",
      "691/691 [==============================] - 1s 1ms/sample - loss: 0.5120 - acc: 0.7540 - val_loss: 0.5499 - val_acc: 0.7273\n",
      "Epoch 209/250\n",
      "691/691 [==============================] - 1s 1ms/sample - loss: 0.4998 - acc: 0.7627 - val_loss: 0.5303 - val_acc: 0.7403\n",
      "Epoch 210/250\n",
      "691/691 [==============================] - 1s 2ms/sample - loss: 0.5039 - acc: 0.7569 - val_loss: 0.5465 - val_acc: 0.7273\n",
      "Epoch 211/250\n",
      "691/691 [==============================] - 1s 1ms/sample - loss: 0.5063 - acc: 0.7569 - val_loss: 0.5265 - val_acc: 0.7273\n",
      "Epoch 212/250\n",
      "691/691 [==============================] - 1s 2ms/sample - loss: 0.5088 - acc: 0.7554 - val_loss: 0.5366 - val_acc: 0.7143\n",
      "Epoch 213/250\n",
      "691/691 [==============================] - 1s 1ms/sample - loss: 0.5128 - acc: 0.7482 - val_loss: 0.5313 - val_acc: 0.7143\n",
      "Epoch 214/250\n",
      "691/691 [==============================] - 1s 1ms/sample - loss: 0.5110 - acc: 0.7612 - val_loss: 0.5453 - val_acc: 0.7273\n",
      "Epoch 215/250\n",
      "691/691 [==============================] - 1s 2ms/sample - loss: 0.5038 - acc: 0.7511 - val_loss: 0.5363 - val_acc: 0.7273\n",
      "Epoch 216/250\n",
      "691/691 [==============================] - 1s 1ms/sample - loss: 0.5030 - acc: 0.7540 - val_loss: 0.5392 - val_acc: 0.7273\n",
      "Epoch 217/250\n",
      "691/691 [==============================] - 1s 1ms/sample - loss: 0.5070 - acc: 0.7482 - val_loss: 0.5322 - val_acc: 0.7273\n",
      "Epoch 218/250\n",
      "691/691 [==============================] - 1s 1ms/sample - loss: 0.5023 - acc: 0.7482 - val_loss: 0.5370 - val_acc: 0.7662\n",
      "Epoch 219/250\n",
      "691/691 [==============================] - 1s 1ms/sample - loss: 0.5017 - acc: 0.7627 - val_loss: 0.5380 - val_acc: 0.7403\n",
      "Epoch 220/250\n",
      "691/691 [==============================] - 1s 1ms/sample - loss: 0.4988 - acc: 0.7641 - val_loss: 0.5416 - val_acc: 0.7662\n",
      "Epoch 221/250\n",
      "691/691 [==============================] - 1s 2ms/sample - loss: 0.5136 - acc: 0.7511 - val_loss: 0.5327 - val_acc: 0.7922\n",
      "Epoch 222/250\n",
      "691/691 [==============================] - 1s 1ms/sample - loss: 0.5107 - acc: 0.7598 - val_loss: 0.5529 - val_acc: 0.7273\n",
      "Epoch 223/250\n",
      "691/691 [==============================] - 1s 1ms/sample - loss: 0.5267 - acc: 0.7352 - val_loss: 0.5724 - val_acc: 0.6753\n",
      "Epoch 224/250\n",
      "691/691 [==============================] - 1s 2ms/sample - loss: 0.5045 - acc: 0.7438 - val_loss: 0.5460 - val_acc: 0.7403\n",
      "Epoch 225/250\n",
      "691/691 [==============================] - 1s 1ms/sample - loss: 0.5039 - acc: 0.7482 - val_loss: 0.5230 - val_acc: 0.7273\n",
      "Epoch 226/250\n",
      "691/691 [==============================] - 1s 1ms/sample - loss: 0.5192 - acc: 0.7453 - val_loss: 0.5506 - val_acc: 0.7143\n",
      "Epoch 227/250\n",
      "691/691 [==============================] - 1s 1ms/sample - loss: 0.5015 - acc: 0.7583 - val_loss: 0.5503 - val_acc: 0.7273\n",
      "Epoch 228/250\n",
      "691/691 [==============================] - 1s 1ms/sample - loss: 0.5087 - acc: 0.7627 - val_loss: 0.5451 - val_acc: 0.7273\n",
      "Epoch 229/250\n",
      "691/691 [==============================] - 1s 1ms/sample - loss: 0.5029 - acc: 0.7598 - val_loss: 0.5311 - val_acc: 0.7403\n",
      "Epoch 230/250\n",
      "691/691 [==============================] - 1s 2ms/sample - loss: 0.5031 - acc: 0.7438 - val_loss: 0.5492 - val_acc: 0.7792\n",
      "Epoch 231/250\n",
      "691/691 [==============================] - 1s 1ms/sample - loss: 0.4981 - acc: 0.7540 - val_loss: 0.5299 - val_acc: 0.7403\n",
      "Epoch 232/250\n",
      "691/691 [==============================] - 1s 2ms/sample - loss: 0.5100 - acc: 0.7627 - val_loss: 0.5607 - val_acc: 0.7013\n",
      "Epoch 233/250\n",
      "691/691 [==============================] - 1s 2ms/sample - loss: 0.4975 - acc: 0.7540 - val_loss: 0.5579 - val_acc: 0.6883\n",
      "Epoch 234/250\n",
      "691/691 [==============================] - 1s 2ms/sample - loss: 0.5111 - acc: 0.7540 - val_loss: 0.5754 - val_acc: 0.6883\n",
      "Epoch 235/250\n",
      "691/691 [==============================] - 1s 1ms/sample - loss: 0.5027 - acc: 0.7641 - val_loss: 0.5456 - val_acc: 0.7273\n",
      "Epoch 236/250\n",
      "691/691 [==============================] - 1s 1ms/sample - loss: 0.5082 - acc: 0.7699 - val_loss: 0.5815 - val_acc: 0.7013\n"
     ]
    },
    {
     "name": "stdout",
     "output_type": "stream",
     "text": [
      "Epoch 237/250\n",
      "691/691 [==============================] - 1s 1ms/sample - loss: 0.5041 - acc: 0.7540 - val_loss: 0.5339 - val_acc: 0.7143\n",
      "Epoch 238/250\n",
      "691/691 [==============================] - 1s 1ms/sample - loss: 0.5028 - acc: 0.7496 - val_loss: 0.5252 - val_acc: 0.7403\n",
      "Epoch 239/250\n",
      "691/691 [==============================] - 1s 1ms/sample - loss: 0.4996 - acc: 0.7438 - val_loss: 0.5511 - val_acc: 0.7662\n",
      "Epoch 240/250\n",
      "691/691 [==============================] - 1s 1ms/sample - loss: 0.5059 - acc: 0.7352 - val_loss: 0.5673 - val_acc: 0.7273\n",
      "Epoch 241/250\n",
      "691/691 [==============================] - 1s 1ms/sample - loss: 0.5108 - acc: 0.7482 - val_loss: 0.5728 - val_acc: 0.7792\n",
      "Epoch 242/250\n",
      "691/691 [==============================] - 1s 2ms/sample - loss: 0.4983 - acc: 0.7685 - val_loss: 0.5293 - val_acc: 0.7273\n",
      "Epoch 243/250\n",
      "691/691 [==============================] - 1s 2ms/sample - loss: 0.5010 - acc: 0.7627 - val_loss: 0.5384 - val_acc: 0.8052\n",
      "Epoch 244/250\n",
      "691/691 [==============================] - ETA: 0s - loss: 0.5019 - acc: 0.743 - 1s 1ms/sample - loss: 0.5054 - acc: 0.7424 - val_loss: 0.5318 - val_acc: 0.7792\n",
      "Epoch 245/250\n",
      "691/691 [==============================] - 1s 2ms/sample - loss: 0.5052 - acc: 0.7525 - val_loss: 0.5435 - val_acc: 0.7273\n",
      "Epoch 246/250\n",
      "691/691 [==============================] - 1s 2ms/sample - loss: 0.4955 - acc: 0.7627 - val_loss: 0.5574 - val_acc: 0.7013\n",
      "Epoch 247/250\n",
      "691/691 [==============================] - 1s 2ms/sample - loss: 0.4942 - acc: 0.7641 - val_loss: 0.5337 - val_acc: 0.7403\n",
      "Epoch 248/250\n",
      "691/691 [==============================] - 1s 2ms/sample - loss: 0.4999 - acc: 0.7583 - val_loss: 0.5442 - val_acc: 0.7403\n",
      "Epoch 249/250\n",
      "691/691 [==============================] - 1s 1ms/sample - loss: 0.4899 - acc: 0.7627 - val_loss: 0.5320 - val_acc: 0.7403\n",
      "Epoch 250/250\n",
      "691/691 [==============================] - 1s 1ms/sample - loss: 0.4899 - acc: 0.7656 - val_loss: 0.5259 - val_acc: 0.7403\n"
     ]
    },
    {
     "data": {
      "text/plain": [
       "<tensorflow.python.keras.callbacks.History at 0x7fb99035b5c0>"
      ]
     },
     "execution_count": 24,
     "metadata": {},
     "output_type": "execute_result"
    }
   ],
   "source": [
    "model_improved.fit(X,y, epochs=250, validation_split=.10)"
   ]
  },
  {
   "cell_type": "code",
   "execution_count": 25,
   "metadata": {},
   "outputs": [
    {
     "name": "stdout",
     "output_type": "stream",
     "text": [
      "768/768 [==============================] - 0s 644us/sample - loss: 0.4897 - acc: 0.7656\n"
     ]
    },
    {
     "data": {
      "text/plain": [
       "[0.48968588560819626, 0.765625]"
      ]
     },
     "execution_count": 25,
     "metadata": {},
     "output_type": "execute_result"
    }
   ],
   "source": [
    "model_improved.evaluate(X,y)\n",
    "#print(f\"{model_improved.metrics_names[1]}: {scores[1]*100}\")"
   ]
  },
  {
   "cell_type": "markdown",
   "metadata": {},
   "source": [
    "## Challenge\n",
    "\n",
    "You will have to choose your own architectures in today's module project. "
   ]
  },
  {
   "cell_type": "markdown",
   "metadata": {
    "colab_type": "text",
    "id": "tcjMuxtn6wIQ",
    "toc-hr-collapsed": false
   },
   "source": [
    "# Activation Functions (Learn)"
   ]
  },
  {
   "cell_type": "markdown",
   "metadata": {
    "colab_type": "text",
    "id": "tcjMuxtn6wIQ",
    "toc-hr-collapsed": false
   },
   "source": [
    "## Overview\n",
    "What is an activation function and how does it work?\n",
    "\n",
    "- Takes in a weighted sum of inputs + a bias from the previous layer and outputs an \"activation\" value.\n",
    "- Based its inputs the neuron decides how 'activated' it should be. This can be thought of as the neuron deciding how strongly to fire. You can also think of it as if the neuron is deciding how much of the signal that it has received to pass onto the next layer. \n",
    "- Our choice of activation function does not only affect signal that is passed forward but also affects the backpropagation algorithm. It affects how we update weights in reverse order since activated weight/input sums become the inputs of the next layer. "
   ]
  },
  {
   "cell_type": "markdown",
   "metadata": {
    "toc-hr-collapsed": true,
    "toc-nb-collapsed": true
   },
   "source": [
    "## Follow Along"
   ]
  },
  {
   "cell_type": "markdown",
   "metadata": {
    "colab_type": "text",
    "id": "n_b0u8Ch60bA"
   },
   "source": [
    "### Step Function\n",
    "\n",
    "![Heaviside Step Function](https://upload.wikimedia.org/wikipedia/commons/thumb/d/d9/Dirac_distribution_CDF.svg/325px-Dirac_distribution_CDF.svg.png)\n",
    "\n",
    "All or nothing, a little extreme, which is fine, but makes updating weights through backpropagation impossible. Why? remember that during backpropagation we use derivatives in order to determine how much to update or not update weights. What is the derivative of the step function?"
   ]
  },
  {
   "cell_type": "markdown",
   "metadata": {
    "colab_type": "text",
    "id": "vKR0YhIVEnXZ"
   },
   "source": [
    "### Linear Function\n",
    "\n",
    "![Linear Function](http://www.roconnell.net/Parent%20function/linear.gif)\n",
    "\n",
    "The linear function takes the opposite tact from the step function and passes the signal onto the next layer by a constant factor. There are problems with this but the biggest problems again lie in backpropagation. The derivative of any linear function is a horizontal line which would indicate that we should update all weights by a constant amount every time -which on balance wouldn't change the behavior of our network. Linear functions are typically only used for very simple tasks where interpretability is important, but if interpretability is your highest priority, you probably shouldn't be using neural networks in the first place."
   ]
  },
  {
   "cell_type": "markdown",
   "metadata": {
    "colab_type": "text",
    "id": "JFurIVL6EkQ8"
   },
   "source": [
    "### Sigmoid Function\n",
    "\n",
    "![Sigmoid Function](https://upload.wikimedia.org/wikipedia/commons/thumb/8/88/Logistic-curve.svg/480px-Logistic-curve.svg.png)\n",
    "\n",
    "The sigmoid function works great as an activation function! it's continuously differentiable, its derivative doesn't have a constant slope, and having the higher slope in the middle pushes y value predictions towards extremes which is particularly useful for binary classification problems. I mean, this is why we use it as the squishifier in logistic regression as well. It constrains output, but over repeated epochs pushes predictions towards a strong binary prediction. \n",
    "\n",
    "What's the biggest problem with the sigmoid function? The fact that its slope gets pretty flat so quickly after its departure from zero. This means that updating weights based on its gradient really diminishes the size of our weight updates as our model gets more confident about its classifications. This is why even after so many iterations with our test score example we couldn't reach the levels of fit that our gradient descent based model could reach in just a few epochs."
   ]
  },
  {
   "cell_type": "markdown",
   "metadata": {
    "colab_type": "text",
    "id": "hm6p1HWbEhYi"
   },
   "source": [
    "### Tanh Function\n",
    "\n",
    "![Tanh Function](http://mathworld.wolfram.com/images/interactive/TanhReal.gif)\n",
    "\n",
    "What if the sigmoid function didn't get so flat quite as soon when moving away from zero and was a little bit steeper in the middle? That's basically the Tanh function. The Tanh function can actually be created by scaling the sigmoid function by 2 in the y dimension and subtracting 1 from all values. It has basically the same properties as the sigmoid, still struggles from diminishingly flat gradients as we move away from 0, but its derivative is higher around 0 causing weights to move to the extremes a little faster. "
   ]
  },
  {
   "cell_type": "markdown",
   "metadata": {
    "colab_type": "text",
    "id": "sFOn_L6gEcz1"
   },
   "source": [
    "### ReLU Function\n",
    "\n",
    "![ReLU Function](https://cdn-images-1.medium.com/max/937/1*oePAhrm74RNnNEolprmTaQ.png)\n",
    "\n",
    "ReLU stands for Rectified Linear Units it is by far the most commonly used activation function in modern neural networks. It doesn't activate neurons that are being passed a negative signal and passes on positive signals. Think about why this might be useful. Remember how a lot of our initial weights got set to negative numbers by chance? This would have dealt with those negative weights a lot faster than the sigmoid function updating. What does the derivative of this function look like? It looks like the step function! This means that not all neurons are activated. With sigmoid basically all of our neurons are passing some amount of signal even if it's small making it hard for the network to differentiate important and less important connections. ReLU turns off a portion of our less important neurons which decreases computational load, but also helps the network learn what the most important connections are faster. \n",
    "\n",
    "What's the problem with relu? Well the left half of its derivative function shows that for neurons that are initialized with weights that cause them to have no activation, our gradient will not update those neuron's weights, this can lead to dead neurons that never fire and whose weights never get updated. We would probably want to update the weights of neurons that didn't fire even if it's just by a little bit in case we got unlucky with our initial weights and want to give those neurons a chance of turning back on in the future."
   ]
  },
  {
   "cell_type": "markdown",
   "metadata": {
    "colab_type": "text",
    "id": "XWdvWOBIETwk"
   },
   "source": [
    "### Leaky ReLU\n",
    "\n",
    "![Leaky ReLU](https://cdn-images-1.medium.com/max/1600/1*ypsvQH7kvtI2BhzR2eT_Sw.png)\n",
    "\n",
    "Leaky ReLU accomplishes exactly that! it avoids having a gradient of 0 on the left side of its derivative function. This means that even \"dead\" neurons have a chance of being revived over enough iterations. In some specifications the slope of the leaky left-hand side can also be experimented with as a hyperparameter of the model!"
   ]
  },
  {
   "cell_type": "markdown",
   "metadata": {
    "colab_type": "text",
    "id": "FcAxkNFREMFb"
   },
   "source": [
    "### Softmax Function\n",
    "\n",
    "![Softmax Function](https://cdn-images-1.medium.com/max/800/1*670CdxchunD-yAuUWdI7Bw.png)\n",
    "\n",
    "Like the sigmoid function but more useful for multi-class classification problems. The softmax function can take any set of inputs and translate them into probabilities that sum up to 1. This means that we can throw any list of outputs at it and it will translate them into probabilities, this is extremely useful for multi-class classification problems. Like MNIST for example..."
   ]
  },
  {
   "cell_type": "markdown",
   "metadata": {
    "colab_type": "text",
    "id": "23-XRRXKHs34"
   },
   "source": [
    "### Major takeaways\n",
    "\n",
    "- ReLU is generally better at obtaining the optimal model fit.\n",
    "- Sigmoid and its derivatives are usually better at classification problems.\n",
    "- Softmax for multi-class classification problems. \n",
    "\n",
    "You'll typically see ReLU used for all initial layers and then the final layer being sigmoid or softmax for classification problems. But you can experiment and tune these selections as hyperparameters as well!"
   ]
  },
  {
   "cell_type": "markdown",
   "metadata": {
    "colab_type": "text",
    "id": "TWuoXZCCKCI7"
   },
   "source": [
    "### MNIST with Keras \n",
    "\n",
    "#### This will be a good chance to bring up dropout regularization. :)"
   ]
  },
  {
   "cell_type": "code",
   "execution_count": 38,
   "metadata": {
    "colab": {},
    "colab_type": "code",
    "id": "jmJ_5azs04pU"
   },
   "outputs": [],
   "source": [
    "### Let's do it!\n",
    "\n",
    "from tensorflow import keras\n",
    "from tensorflow.keras.datasets import mnist\n",
    "from tensorflow.keras.models import Sequential\n",
    "from tensorflow.keras.layers import Dense, Dropout\n",
    "\n",
    "# Stretch - use dropout \n",
    "import numpy as np"
   ]
  },
  {
   "cell_type": "code",
   "execution_count": 39,
   "metadata": {},
   "outputs": [],
   "source": [
    "# Hyper Parameters\n",
    "batch_size = 64\n",
    "num_classes = 10\n",
    "epochs = 20"
   ]
  },
  {
   "cell_type": "code",
   "execution_count": 40,
   "metadata": {},
   "outputs": [
    {
     "name": "stdout",
     "output_type": "stream",
     "text": [
      "Downloading data from https://storage.googleapis.com/tensorflow/tf-keras-datasets/mnist.npz\n",
      "11493376/11490434 [==============================] - 0s 0us/step\n"
     ]
    }
   ],
   "source": [
    "# Load the Data\n",
    "(X_train, y_train), (X_test, y_test) = mnist.load_data()"
   ]
  },
  {
   "cell_type": "code",
   "execution_count": 41,
   "metadata": {},
   "outputs": [
    {
     "data": {
      "text/plain": [
       "(28, 28)"
      ]
     },
     "execution_count": 41,
     "metadata": {},
     "output_type": "execute_result"
    }
   ],
   "source": [
    "X_train[0].shape"
   ]
  },
  {
   "cell_type": "code",
   "execution_count": null,
   "metadata": {},
   "outputs": [],
   "source": [
    "X_train.shape"
   ]
  },
  {
   "cell_type": "code",
   "execution_count": null,
   "metadata": {},
   "outputs": [],
   "source": [
    "X_train[0]"
   ]
  },
  {
   "cell_type": "code",
   "execution_count": 42,
   "metadata": {},
   "outputs": [],
   "source": [
    "# Reshape the data\n",
    "X_train = X_train.reshape(60000, 784)\n",
    "X_test = X_test.reshape(10000, 784)"
   ]
  },
  {
   "cell_type": "code",
   "execution_count": 43,
   "metadata": {},
   "outputs": [],
   "source": [
    "# X Variable Types\n",
    "X_train = X_train.astype('float32')\n",
    "X_test = X_test.astype('float32')"
   ]
  },
  {
   "cell_type": "code",
   "execution_count": 44,
   "metadata": {},
   "outputs": [
    {
     "data": {
      "text/plain": [
       "4"
      ]
     },
     "execution_count": 44,
     "metadata": {},
     "output_type": "execute_result"
    }
   ],
   "source": [
    "y_train[2] "
   ]
  },
  {
   "cell_type": "code",
   "execution_count": 45,
   "metadata": {},
   "outputs": [
    {
     "data": {
      "text/plain": [
       "4"
      ]
     },
     "execution_count": 45,
     "metadata": {},
     "output_type": "execute_result"
    }
   ],
   "source": [
    "y_train[2]"
   ]
  },
  {
   "cell_type": "code",
   "execution_count": 47,
   "metadata": {},
   "outputs": [],
   "source": [
    "# Correct Encoding on Y\n",
    "# What softmax expects = [0,0,0,0,0,1,0,0,0,0]\n",
    "\n",
    "y_train = keras.utils.to_categorical(y_train, num_classes)\n",
    "y_test = keras.utils.to_categorical(y_test, num_classes)"
   ]
  },
  {
   "cell_type": "code",
   "execution_count": 48,
   "metadata": {},
   "outputs": [
    {
     "data": {
      "text/plain": [
       "array([0., 0., 0., 0., 1., 0., 0., 0., 0., 0.], dtype=float32)"
      ]
     },
     "execution_count": 48,
     "metadata": {},
     "output_type": "execute_result"
    }
   ],
   "source": [
    "y_train[2]"
   ]
  },
  {
   "cell_type": "code",
   "execution_count": 49,
   "metadata": {},
   "outputs": [
    {
     "name": "stdout",
     "output_type": "stream",
     "text": [
      "Model: \"sequential_3\"\n",
      "_________________________________________________________________\n",
      "Layer (type)                 Output Shape              Param #   \n",
      "=================================================================\n",
      "dense_14 (Dense)             (None, 16)                12560     \n",
      "_________________________________________________________________\n",
      "dense_15 (Dense)             (None, 16)                272       \n",
      "_________________________________________________________________\n",
      "dense_16 (Dense)             (None, 16)                272       \n",
      "_________________________________________________________________\n",
      "dense_17 (Dense)             (None, 16)                272       \n",
      "_________________________________________________________________\n",
      "dense_18 (Dense)             (None, 10)                170       \n",
      "=================================================================\n",
      "Total params: 13,546\n",
      "Trainable params: 13,546\n",
      "Non-trainable params: 0\n",
      "_________________________________________________________________\n"
     ]
    }
   ],
   "source": [
    "mnist_model = Sequential()\n",
    "\n",
    "# Input => Hidden\n",
    "mnist_model.add(Dense(16, input_dim=784, activation='relu'))\n",
    "# Hidden\n",
    "mnist_model.add(Dense(16, activation='relu'))\n",
    "# Hidden\n",
    "mnist_model.add(Dense(16, activation='relu'))\n",
    "# Hidden\n",
    "mnist_model.add(Dense(16, activation='relu'))\n",
    "# Output\n",
    "mnist_model.add(Dense(10,activation='softmax'))\n",
    "\n",
    "#Compile\n",
    "mnist_model.compile(loss='categorical_crossentropy',\n",
    "                    optimizer='adam',\n",
    "                    metrics=['accuracy'])\n",
    "\n",
    "mnist_model.summary()"
   ]
  },
  {
   "cell_type": "code",
   "execution_count": null,
   "metadata": {},
   "outputs": [],
   "source": [
    "def neural_network(X):\n",
    "    \n",
    "    dense1 = Dense(8, activation='relu', input=X)\n",
    "    dense2 = Dense(8, activation='relu')(X)\n",
    "    \n",
    "    \n",
    "    return dense2 #or return model"
   ]
  },
  {
   "cell_type": "code",
   "execution_count": null,
   "metadata": {},
   "outputs": [],
   "source": [
    "16 *  784"
   ]
  },
  {
   "cell_type": "code",
   "execution_count": null,
   "metadata": {},
   "outputs": [],
   "source": [
    "y_test.shape"
   ]
  },
  {
   "cell_type": "code",
   "execution_count": 26,
   "metadata": {},
   "outputs": [
    {
     "ename": "NameError",
     "evalue": "name 'mnist_model' is not defined",
     "output_type": "error",
     "traceback": [
      "\u001b[0;31m---------------------------------------------------------------------------\u001b[0m",
      "\u001b[0;31mNameError\u001b[0m                                 Traceback (most recent call last)",
      "\u001b[0;32m<ipython-input-26-fd0808510929>\u001b[0m in \u001b[0;36m<module>\u001b[0;34m()\u001b[0m\n\u001b[0;32m----> 1\u001b[0;31m \u001b[0mhistory\u001b[0m \u001b[0;34m=\u001b[0m \u001b[0mmnist_model\u001b[0m\u001b[0;34m.\u001b[0m\u001b[0mfit\u001b[0m\u001b[0;34m(\u001b[0m\u001b[0mX_train\u001b[0m\u001b[0;34m,\u001b[0m \u001b[0my_train\u001b[0m\u001b[0;34m,\u001b[0m \u001b[0mbatch_size\u001b[0m\u001b[0;34m=\u001b[0m\u001b[0;36m32\u001b[0m\u001b[0;34m,\u001b[0m \u001b[0mepochs\u001b[0m\u001b[0;34m=\u001b[0m\u001b[0;36m100\u001b[0m\u001b[0;34m,\u001b[0m \u001b[0mverbose\u001b[0m\u001b[0;34m=\u001b[0m\u001b[0;32mFalse\u001b[0m\u001b[0;34m)\u001b[0m\u001b[0;34m\u001b[0m\u001b[0m\n\u001b[0m\u001b[1;32m      2\u001b[0m \u001b[0mscores\u001b[0m \u001b[0;34m=\u001b[0m \u001b[0mmnist_model\u001b[0m\u001b[0;34m.\u001b[0m\u001b[0mevaluate\u001b[0m\u001b[0;34m(\u001b[0m\u001b[0mX_test\u001b[0m\u001b[0;34m,\u001b[0m \u001b[0my_test\u001b[0m\u001b[0;34m)\u001b[0m\u001b[0;34m\u001b[0m\u001b[0m\n\u001b[1;32m      3\u001b[0m \u001b[0;31m#print(f'{mnist_model.metrics_names[1]}: {scores[1]*100}')\u001b[0m\u001b[0;34m\u001b[0m\u001b[0;34m\u001b[0m\u001b[0m\n",
      "\u001b[0;31mNameError\u001b[0m: name 'mnist_model' is not defined"
     ]
    }
   ],
   "source": [
    "history = mnist_model.fit(X_train, y_train, batch_size=32, epochs=100, verbose=False)\n",
    "scores = mnist_model.evaluate(X_test, y_test)\n",
    "#print(f'{mnist_model.metrics_names[1]}: {scores[1]*100}')"
   ]
  },
  {
   "cell_type": "markdown",
   "metadata": {
    "colab_type": "text",
    "id": "CKmx8153w9Ci"
   },
   "source": [
    "### Dropout Regularization\n",
    "\n",
    "![Regularization](https://upload.wikimedia.org/wikipedia/commons/thumb/0/02/Regularization.svg/354px-Regularization.svg.png)"
   ]
  },
  {
   "cell_type": "code",
   "execution_count": null,
   "metadata": {},
   "outputs": [],
   "source": [
    "### Let's do it!\n",
    "from tensorflow import keras \n",
    "from tensorflow.keras.datasets import mnist\n",
    "from tensorflow.keras.models import Sequential\n",
    "from tensorflow.keras.layers import Dense, Dropout\n",
    "\n",
    "import numpy as np\n",
    "\n",
    "mnist_model = Sequential()\n",
    "\n",
    "# Hidden\n",
    "mnist_model.add(Dense(32, input_dim=784, activation='relu'))\n",
    "mnist_model.add(Dropout(0.2))\n",
    "mnist_model.add(Dense(16, activation='relu'))\n",
    "mnist_model.add(Dropout(0.2))\n",
    "# Output Layer\n",
    "mnist_model.add(Dense(10, activation='softmax'))\n",
    "\n",
    "mnist_model.compile(loss='categorical_crossentropy',\n",
    "                    optimizer='adam', \n",
    "                    metrics=['accuracy'])\n",
    "mnist_model.summary()"
   ]
  },
  {
   "cell_type": "code",
   "execution_count": null,
   "metadata": {},
   "outputs": [],
   "source": [
    "history = mnist_model.fit(X_train, y_train, batch_size=32, epochs=epochs, validation_split=.1, verbose=0)\n",
    "scores = mnist_model.evaluate(X_test, y_test)\n",
    "print(f'{mnist_model.metrics_names[1]}: {scores[1]*100}')"
   ]
  },
  {
   "cell_type": "markdown",
   "metadata": {},
   "source": [
    "## Challenge\n",
    "\n",
    "You will apply your choice of activation function inside two Keras Seqeuntial models today. "
   ]
  }
 ],
 "metadata": {
  "colab": {
   "collapsed_sections": [],
   "name": "LS_DS_433_Keras_Lecture.ipynb",
   "provenance": [],
   "version": "0.3.2"
  },
  "kernelspec": {
   "display_name": "conda_tensorflow_p36",
   "language": "python",
   "name": "conda_tensorflow_p36"
  },
  "language_info": {
   "codemirror_mode": {
    "name": "ipython",
    "version": 3
   },
   "file_extension": ".py",
   "mimetype": "text/x-python",
   "name": "python",
   "nbconvert_exporter": "python",
   "pygments_lexer": "ipython3",
   "version": "3.6.5"
  },
  "toc-autonumbering": false,
  "toc-showmarkdowntxt": false
 },
 "nbformat": 4,
 "nbformat_minor": 4
}
