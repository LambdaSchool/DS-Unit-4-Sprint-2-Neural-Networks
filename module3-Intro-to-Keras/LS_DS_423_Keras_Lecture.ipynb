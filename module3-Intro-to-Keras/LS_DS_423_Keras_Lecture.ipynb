{
 "cells": [
  {
   "cell_type": "markdown",
   "metadata": {
    "colab_type": "text",
    "id": "HJzTIkYAsLxw"
   },
   "source": [
    "Lambda School Data Science\n",
    "\n",
    "*Unit 4, Sprint 2, Module 3*\n",
    "\n",
    "---"
   ]
  },
  {
   "cell_type": "markdown",
   "metadata": {
    "colab_type": "text",
    "id": "HJzTIkYAsLxw"
   },
   "source": [
    "# Neural Network Frameworks (Prepare)"
   ]
  },
  {
   "cell_type": "markdown",
   "metadata": {
    "colab_type": "text",
    "id": "HJzTIkYAsLxw"
   },
   "source": [
    "## Learning Objectives\n",
    "* <a href=\"#p1\">Part 1</a>: Introduce the Keras Sequential Model API\n",
    "* <a href=\"#p2\">Part 2</a>: Learn How to Select Model Architecture \n",
    "* <a href=\"#p3\">Part 3</a>: Discuss the trade-off between various activation functions\n",
    "\n",
    "## Lets Use Libraries!\n",
    "\n",
    "The objective of the last two days has been to familiarize you with the fundamentals of neural networks: terminology, structure of networks, forward propagation, error/cost functions, backpropagation, epochs, and gradient descent. We have tried to reinforce these topics by requiring to you code some of the simplest neural networks by hand including Perceptrons (single node neural networks) and Multi-Layer Perceptrons also known as Feed-Forward Neural Networks. Continuing to do things by hand would not be the best use of our limited time. You're ready to graduate from doing things by hand and start using some powerful libraries to build cutting-edge predictive models. "
   ]
  },
  {
   "cell_type": "markdown",
   "metadata": {},
   "source": [
    "# Keras Sequential API (Learn)"
   ]
  },
  {
   "cell_type": "markdown",
   "metadata": {},
   "source": [
    "## Overview\n",
    "\n",
    "> \"Keras is a high-level neural networks API, written in Python and capable of running on top of TensorFlow, CNTK, or Theano. It was developed with a focus on enabling fast experimentation. Being able to go from idea to result with the least possible delay is key to doing good research. Use Keras if you need a deep learning library that:\n",
    "\n",
    "> Allows for easy and fast prototyping (through user friendliness, modularity, and extensibility).\n",
    "Supports both convolutional networks and recurrent networks, as well as combinations of the two.\n",
    "Runs seamlessly on CPU and GPU.\" "
   ]
  },
  {
   "cell_type": "markdown",
   "metadata": {
    "colab_type": "text",
    "id": "AIJoRBxHy27n"
   },
   "source": [
    "### Keras Perceptron Sample"
   ]
  },
  {
   "cell_type": "code",
   "execution_count": 1,
   "metadata": {},
   "outputs": [],
   "source": [
    "import pandas as pd\n",
    "\n",
    "data = { 'x1': [0,1,0,1],\n",
    "         'x2': [0,0,1,1],\n",
    "         'y':  [1,1,1,0]\n",
    "       }\n",
    "\n",
    "df = pd.DataFrame.from_dict(data).astype('int')\n",
    "X = df[['x1', 'x2']].values\n",
    "y = df['y'].values"
   ]
  },
  {
   "cell_type": "code",
   "execution_count": 3,
   "metadata": {
    "colab": {
     "base_uri": "https://localhost:8080/",
     "height": 5216
    },
    "colab_type": "code",
    "id": "TQxyONqKvFxB",
    "outputId": "12966e66-2297-4f82-85b3-c275a9c38563"
   },
   "outputs": [
    {
     "name": "stdout",
     "output_type": "stream",
     "text": [
      "Epoch 1/10\n",
      "4/4 [==============================] - 0s 65ms/sample - loss: 0.7405 - acc: 0.5000\n",
      "Epoch 2/10\n",
      "4/4 [==============================] - 0s 647us/sample - loss: 0.7400 - acc: 0.7500\n",
      "Epoch 3/10\n",
      "4/4 [==============================] - 0s 537us/sample - loss: 0.7395 - acc: 0.7500\n",
      "Epoch 4/10\n",
      "4/4 [==============================] - 0s 552us/sample - loss: 0.7391 - acc: 0.7500\n",
      "Epoch 5/10\n",
      "4/4 [==============================] - 0s 561us/sample - loss: 0.7386 - acc: 0.7500\n",
      "Epoch 6/10\n",
      "4/4 [==============================] - 0s 749us/sample - loss: 0.7381 - acc: 0.7500\n",
      "Epoch 7/10\n",
      "4/4 [==============================] - 0s 580us/sample - loss: 0.7377 - acc: 0.7500\n",
      "Epoch 8/10\n",
      "4/4 [==============================] - 0s 569us/sample - loss: 0.7372 - acc: 0.7500\n",
      "Epoch 9/10\n",
      "4/4 [==============================] - 0s 619us/sample - loss: 0.7367 - acc: 0.7500\n",
      "Epoch 10/10\n",
      "4/4 [==============================] - 0s 611us/sample - loss: 0.7363 - acc: 0.7500\n"
     ]
    },
    {
     "data": {
      "text/plain": [
       "<tensorflow.python.keras.callbacks.History at 0x7f21d978a320>"
      ]
     },
     "execution_count": 3,
     "metadata": {},
     "output_type": "execute_result"
    }
   ],
   "source": [
    "from tensorflow.keras.models import Sequential\n",
    "from tensorflow.keras.layers import Dense\n",
    "\n",
    "# This is our perceptron from Monday's by-hand: \n",
    "model = Sequential()\n",
    "model.add(Dense(1,input_dim=2, activation='sigmoid'))\n",
    "model.compile(loss='binary_crossentropy', optimizer='adam', metrics=['accuracy'])\n",
    "model.fit(X,y, epochs=10)"
   ]
  },
  {
   "cell_type": "code",
   "execution_count": 4,
   "metadata": {
    "colab": {
     "base_uri": "https://localhost:8080/",
     "height": 69
    },
    "colab_type": "code",
    "id": "Z1wfKUxszPKa",
    "outputId": "0cdacd1d-6e5a-4bbe-fabb-568cd94724be"
   },
   "outputs": [
    {
     "name": "stdout",
     "output_type": "stream",
     "text": [
      "4/4 [==============================] - 0s 21ms/sample - loss: 0.7358 - acc: 0.7500\n",
      "acc: 75.0\n"
     ]
    }
   ],
   "source": [
    "# evaluate the model\n",
    "scores = model.evaluate(X, y)\n",
    "print(f\"{model.metrics_names[1]}: {scores[1]*100}\")"
   ]
  },
  {
   "cell_type": "markdown",
   "metadata": {},
   "source": [
    "## Follow Along\n",
    "\n",
    "In the `Sequential` api model, you specify a model architecture by 'sequentially specifying layers. This type of specification works well for feed forward neural networks in which the data flows in one direction (forward propagation) and the error flows in the opposite direction (backwards propagation). The Keras `Sequential` API follows a standardarized worklow to estimate a 'net: \n",
    "\n",
    "1. Load Data\n",
    "2. Define Model\n",
    "3. Compile Model\n",
    "4. Fit Model\n",
    "5. Evaluate Model\n",
    "\n",
    "You saw these steps in our Keras Perceptron Sample, but let's walk thru each step in detail."
   ]
  },
  {
   "cell_type": "markdown",
   "metadata": {
    "colab_type": "text",
    "id": "Md5D67XwqVAf",
    "toc-hr-collapsed": false
   },
   "source": [
    "### Load Data\n",
    "\n",
    "Our life is going to be easier if our data is already cleaned up and numeric, so lets use this dataset from Jason Brownlee that is already numeric and has no column headers so we'll need to slice off the last column of data to act as our y values."
   ]
  },
  {
   "cell_type": "code",
   "execution_count": 5,
   "metadata": {
    "colab": {
     "base_uri": "https://localhost:8080/",
     "height": 109,
     "resources": {
      "http://localhost:8080/nbextensions/google.colab/files.js": {
       "data": "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",
       "headers": [
        [
         "content-type",
         "application/javascript"
        ]
       ],
       "ok": true,
       "status": 200,
       "status_text": ""
      }
     }
    },
    "colab_type": "code",
    "id": "bn09phMBpY1J",
    "outputId": "1c45fb6a-e3cb-4ec1-fb85-de52b3c60bae"
   },
   "outputs": [],
   "source": [
    "import pandas as pd\n",
    "\n",
    "url =\"https://raw.githubusercontent.com/jbrownlee/Datasets/master/pima-indians-diabetes.data.csv\"\n",
    "\n",
    "dataset = pd.read_csv(url, header=None)"
   ]
  },
  {
   "cell_type": "code",
   "execution_count": 6,
   "metadata": {},
   "outputs": [
    {
     "data": {
      "text/html": [
       "<div>\n",
       "<style scoped>\n",
       "    .dataframe tbody tr th:only-of-type {\n",
       "        vertical-align: middle;\n",
       "    }\n",
       "\n",
       "    .dataframe tbody tr th {\n",
       "        vertical-align: top;\n",
       "    }\n",
       "\n",
       "    .dataframe thead th {\n",
       "        text-align: right;\n",
       "    }\n",
       "</style>\n",
       "<table border=\"1\" class=\"dataframe\">\n",
       "  <thead>\n",
       "    <tr style=\"text-align: right;\">\n",
       "      <th></th>\n",
       "      <th>0</th>\n",
       "      <th>1</th>\n",
       "      <th>2</th>\n",
       "      <th>3</th>\n",
       "      <th>4</th>\n",
       "      <th>5</th>\n",
       "      <th>6</th>\n",
       "      <th>7</th>\n",
       "      <th>8</th>\n",
       "    </tr>\n",
       "  </thead>\n",
       "  <tbody>\n",
       "    <tr>\n",
       "      <th>0</th>\n",
       "      <td>6</td>\n",
       "      <td>148</td>\n",
       "      <td>72</td>\n",
       "      <td>35</td>\n",
       "      <td>0</td>\n",
       "      <td>33.6</td>\n",
       "      <td>0.627</td>\n",
       "      <td>50</td>\n",
       "      <td>1</td>\n",
       "    </tr>\n",
       "    <tr>\n",
       "      <th>1</th>\n",
       "      <td>1</td>\n",
       "      <td>85</td>\n",
       "      <td>66</td>\n",
       "      <td>29</td>\n",
       "      <td>0</td>\n",
       "      <td>26.6</td>\n",
       "      <td>0.351</td>\n",
       "      <td>31</td>\n",
       "      <td>0</td>\n",
       "    </tr>\n",
       "    <tr>\n",
       "      <th>2</th>\n",
       "      <td>8</td>\n",
       "      <td>183</td>\n",
       "      <td>64</td>\n",
       "      <td>0</td>\n",
       "      <td>0</td>\n",
       "      <td>23.3</td>\n",
       "      <td>0.672</td>\n",
       "      <td>32</td>\n",
       "      <td>1</td>\n",
       "    </tr>\n",
       "    <tr>\n",
       "      <th>3</th>\n",
       "      <td>1</td>\n",
       "      <td>89</td>\n",
       "      <td>66</td>\n",
       "      <td>23</td>\n",
       "      <td>94</td>\n",
       "      <td>28.1</td>\n",
       "      <td>0.167</td>\n",
       "      <td>21</td>\n",
       "      <td>0</td>\n",
       "    </tr>\n",
       "    <tr>\n",
       "      <th>4</th>\n",
       "      <td>0</td>\n",
       "      <td>137</td>\n",
       "      <td>40</td>\n",
       "      <td>35</td>\n",
       "      <td>168</td>\n",
       "      <td>43.1</td>\n",
       "      <td>2.288</td>\n",
       "      <td>33</td>\n",
       "      <td>1</td>\n",
       "    </tr>\n",
       "  </tbody>\n",
       "</table>\n",
       "</div>"
      ],
      "text/plain": [
       "   0    1   2   3    4     5      6   7  8\n",
       "0  6  148  72  35    0  33.6  0.627  50  1\n",
       "1  1   85  66  29    0  26.6  0.351  31  0\n",
       "2  8  183  64   0    0  23.3  0.672  32  1\n",
       "3  1   89  66  23   94  28.1  0.167  21  0\n",
       "4  0  137  40  35  168  43.1  2.288  33  1"
      ]
     },
     "execution_count": 6,
     "metadata": {},
     "output_type": "execute_result"
    }
   ],
   "source": [
    "dataset.head()"
   ]
  },
  {
   "cell_type": "code",
   "execution_count": 7,
   "metadata": {
    "colab": {
     "base_uri": "https://localhost:8080/",
     "height": 725
    },
    "colab_type": "code",
    "id": "FKuofD3Pogil",
    "outputId": "16c2f4fa-93c8-491d-b339-9f35f7918621"
   },
   "outputs": [
    {
     "name": "stdout",
     "output_type": "stream",
     "text": [
      "(768, 8)\n",
      "[[  6.    148.     72.    ...  33.6     0.627  50.   ]\n",
      " [  1.     85.     66.    ...  26.6     0.351  31.   ]\n",
      " [  8.    183.     64.    ...  23.3     0.672  32.   ]\n",
      " ...\n",
      " [  5.    121.     72.    ...  26.2     0.245  30.   ]\n",
      " [  1.    126.     60.    ...  30.1     0.349  47.   ]\n",
      " [  1.     93.     70.    ...  30.4     0.315  23.   ]]\n"
     ]
    }
   ],
   "source": [
    "X = dataset.values[:,0:8]\n",
    "print(X.shape)\n",
    "print(X)"
   ]
  },
  {
   "cell_type": "code",
   "execution_count": 8,
   "metadata": {},
   "outputs": [
    {
     "name": "stdout",
     "output_type": "stream",
     "text": [
      "(768,)\n",
      "[1. 0. 1. 0. 1. 0. 1. 0. 1. 1. 0. 1. 0. 1. 1. 1. 1. 1. 0. 1. 0. 0. 1. 1.\n",
      " 1. 1. 1. 0. 0. 0. 0. 1. 0. 0. 0. 0. 0. 1. 1. 1. 0. 0. 0. 1. 0. 1. 0. 0.\n",
      " 1. 0. 0. 0. 0. 1. 0. 0. 1. 0. 0. 0. 0. 1. 0. 0. 1. 0. 1. 0. 0. 0. 1. 0.\n",
      " 1. 0. 0. 0. 0. 0. 1. 0. 0. 0. 0. 0. 1. 0. 0. 0. 1. 0. 0. 0. 0. 1. 0. 0.\n",
      " 0. 0. 0. 1. 1. 0. 0. 0. 0. 0. 0. 0. 0. 1. 1. 1. 0. 0. 1. 1. 1. 0. 0. 0.\n",
      " 1. 0. 0. 0. 1. 1. 0. 0. 1. 1. 1. 1. 1. 0. 0. 0. 0. 0. 0. 0. 0. 0. 0. 1.\n",
      " 0. 0. 0. 0. 0. 0. 0. 0. 1. 0. 1. 1. 0. 0. 0. 1. 0. 0. 0. 0. 1. 1. 0. 0.\n",
      " 0. 0. 1. 1. 0. 0. 0. 1. 0. 1. 0. 1. 0. 0. 0. 0. 0. 1. 1. 1. 1. 1. 0. 0.\n",
      " 1. 1. 0. 1. 0. 1. 1. 1. 0. 0. 0. 0. 0. 0. 1. 1. 0. 1. 0. 0. 0. 1. 1. 1.\n",
      " 1. 0. 1. 1. 1. 1. 0. 0. 0. 0. 0. 1. 0. 0. 1. 1. 0. 0. 0. 1. 1. 1. 1. 0.\n",
      " 0. 0. 1. 1. 0. 1. 0. 0. 0. 0. 0. 0. 0. 0. 1. 1. 0. 0. 0. 1. 0. 1. 0. 0.\n",
      " 1. 0. 1. 0. 0. 1. 1. 0. 0. 0. 0. 0. 1. 0. 0. 0. 1. 0. 0. 1. 1. 0. 0. 1.\n",
      " 0. 0. 0. 1. 1. 1. 0. 0. 1. 0. 1. 0. 1. 1. 0. 1. 0. 0. 1. 0. 1. 1. 0. 0.\n",
      " 1. 0. 1. 0. 0. 1. 0. 1. 0. 1. 1. 1. 0. 0. 1. 0. 1. 0. 0. 0. 1. 0. 0. 0.\n",
      " 0. 1. 1. 1. 0. 0. 0. 0. 0. 0. 0. 0. 0. 1. 0. 0. 0. 0. 0. 1. 1. 1. 0. 1.\n",
      " 1. 0. 0. 1. 0. 0. 1. 0. 0. 1. 1. 0. 0. 0. 0. 1. 0. 0. 1. 0. 0. 0. 0. 0.\n",
      " 0. 0. 1. 1. 1. 0. 0. 1. 0. 0. 1. 0. 0. 1. 0. 1. 1. 0. 1. 0. 1. 0. 1. 0.\n",
      " 1. 1. 0. 0. 0. 0. 1. 1. 0. 1. 0. 1. 0. 0. 0. 0. 1. 1. 0. 1. 0. 1. 0. 0.\n",
      " 0. 0. 0. 1. 0. 0. 0. 0. 1. 0. 0. 1. 1. 1. 0. 0. 1. 0. 0. 1. 0. 0. 0. 1.\n",
      " 0. 0. 1. 0. 0. 0. 0. 0. 0. 0. 0. 0. 1. 0. 0. 0. 0. 0. 0. 0. 1. 0. 0. 0.\n",
      " 1. 0. 0. 0. 1. 1. 0. 0. 0. 0. 0. 0. 0. 1. 0. 0. 0. 0. 1. 0. 0. 0. 1. 0.\n",
      " 0. 0. 1. 0. 0. 0. 1. 0. 0. 0. 0. 1. 1. 0. 0. 0. 0. 0. 0. 1. 0. 0. 0. 0.\n",
      " 0. 0. 0. 0. 0. 0. 0. 1. 0. 0. 0. 1. 1. 1. 1. 0. 0. 1. 1. 0. 0. 0. 0. 0.\n",
      " 0. 0. 0. 0. 0. 0. 0. 0. 1. 1. 0. 0. 0. 0. 0. 0. 0. 1. 0. 0. 0. 0. 0. 0.\n",
      " 0. 1. 0. 1. 1. 0. 0. 0. 1. 0. 1. 0. 1. 0. 1. 0. 1. 0. 0. 1. 0. 0. 1. 0.\n",
      " 0. 0. 0. 1. 1. 0. 1. 0. 0. 0. 0. 1. 1. 0. 1. 0. 0. 0. 1. 1. 0. 0. 0. 0.\n",
      " 0. 0. 0. 0. 0. 0. 1. 0. 0. 0. 0. 1. 0. 0. 1. 0. 0. 0. 1. 0. 0. 0. 1. 1.\n",
      " 1. 0. 0. 0. 0. 0. 0. 1. 0. 0. 0. 1. 0. 1. 1. 1. 1. 0. 1. 1. 0. 0. 0. 0.\n",
      " 0. 0. 0. 1. 1. 0. 1. 0. 0. 1. 0. 1. 0. 0. 0. 0. 0. 1. 0. 1. 0. 1. 0. 1.\n",
      " 1. 0. 0. 0. 0. 1. 1. 0. 0. 0. 1. 0. 1. 1. 0. 0. 1. 0. 0. 1. 1. 0. 0. 1.\n",
      " 0. 0. 1. 0. 0. 0. 0. 0. 0. 0. 1. 1. 1. 0. 0. 0. 0. 0. 0. 1. 1. 0. 0. 1.\n",
      " 0. 0. 1. 0. 1. 1. 1. 0. 0. 1. 1. 1. 0. 1. 0. 1. 0. 1. 0. 0. 0. 0. 1. 0.]\n"
     ]
    }
   ],
   "source": [
    "y = dataset.values[:,-1]\n",
    "print(y.shape)\n",
    "print(y)"
   ]
  },
  {
   "cell_type": "markdown",
   "metadata": {
    "colab_type": "text",
    "id": "o0xMqOyTs5xt"
   },
   "source": [
    "### Define Model"
   ]
  },
  {
   "cell_type": "code",
   "execution_count": 13,
   "metadata": {
    "colab": {},
    "colab_type": "code",
    "id": "Bp9USczrfu6M"
   },
   "outputs": [],
   "source": [
    "from tensorflow.keras.models import Sequential\n",
    "from tensorflow.keras.layers import Dense\n",
    "\n",
    "import numpy as np\n",
    "\n",
    "np.random.seed(812)"
   ]
  },
  {
   "cell_type": "markdown",
   "metadata": {
    "colab_type": "text",
    "id": "wAzHLg27thoN"
   },
   "source": [
    "I'll instantiate my model as a \"sequential\" model. This just means that I'm going to tell Keras what my model's architecture should be one layer at a time."
   ]
  },
  {
   "cell_type": "code",
   "execution_count": 14,
   "metadata": {
    "colab": {},
    "colab_type": "code",
    "id": "DSNsL49Xp6KI"
   },
   "outputs": [],
   "source": [
    "# https://keras.io/getting-started/sequential-model-guide/\n",
    "model = Sequential()"
   ]
  },
  {
   "cell_type": "markdown",
   "metadata": {
    "colab_type": "text",
    "id": "ZCYX6QzJtvpG"
   },
   "source": [
    "Adding a \"Dense\" layer to our model is how we add \"vanilla\" perceptron-based layers to our neural network. These are also called \"fully-connected\" or \"densely-connected\" layers. They're used as a layer type in lots of other Neural Net Architectures but they're not referred to as perceptrons or multi-layer perceptrons very often in those situations even though that's what they are.\n",
    "\n",
    " > [\"Just your regular densely-connected NN layer.\"](https://keras.io/layers/core/)\n",
    " \n",
    " The first argument is how many neurons we want to have in that layer. To create a perceptron model we will just set it to 1. We will tell it that there will be 8 inputs coming into this layer from our dataset and set it to use the sigmoid activation function."
   ]
  },
  {
   "cell_type": "code",
   "execution_count": 15,
   "metadata": {
    "colab": {
     "base_uri": "https://localhost:8080/",
     "height": 89
    },
    "colab_type": "code",
    "id": "GNzOLidxtvFa",
    "outputId": "35b1457d-0189-49f1-aa6d-3ef15b29bd6e"
   },
   "outputs": [],
   "source": [
    "model.add(Dense(1, input_dim=8, activation=\"sigmoid\")) #Relu is valid option. "
   ]
  },
  {
   "cell_type": "markdown",
   "metadata": {
    "colab_type": "text",
    "id": "EnI3jwKMtBL2",
    "toc-hr-collapsed": false
   },
   "source": [
    "### Compile Model\n",
    "Using binary_crossentropy as the loss function here is just telling keras that I'm doing binary classification so that it can use the appropriate loss function accordingly. If we were predicting non-binary categories we might assign something like `categorical_crossentropy`. We're also telling keras that we want it to report model accuracy as our main error metric for each epoch. We will also be able to see the overall accuracy once the model has finished training.\n",
    "\n",
    "#### Adam Optimizer\n",
    "Check out this links for more background on the Adam optimizer and Stohastic Gradient Descent\n",
    "* [Adam Optimization Algorithm](https://machinelearningmastery.com/adam-optimization-algorithm-for-deep-learning/)\n",
    "* [Adam Optimizer - original paper](https://arxiv.org/abs/1412.6980)"
   ]
  },
  {
   "cell_type": "code",
   "execution_count": 16,
   "metadata": {
    "colab": {},
    "colab_type": "code",
    "id": "qp6xwYaqurRO"
   },
   "outputs": [],
   "source": [
    "model.compile(loss='binary_crossentropy', optimizer='adam', metrics=['accuracy'])"
   ]
  },
  {
   "cell_type": "markdown",
   "metadata": {
    "colab_type": "text",
    "id": "5dW8SZ2Ls9SX",
    "toc-hr-collapsed": false
   },
   "source": [
    "### Fit Model\n",
    "\n",
    "Lets train it up! `model.fit()` has a `batch_size` parameter that we can use if we want to do mini-batch epochs, but since this tabular dataset is pretty small we're just going to delete that parameter. Keras' default `batch_size` is `None` so omiting it will tell Keras to do batch epochs."
   ]
  },
  {
   "cell_type": "code",
   "execution_count": 17,
   "metadata": {},
   "outputs": [
    {
     "name": "stdout",
     "output_type": "stream",
     "text": [
      "Epoch 1/150\n",
      "768/768 [==============================] - 0s 389us/sample - loss: 21.4389 - acc: 0.4622\n",
      "Epoch 2/150\n",
      "768/768 [==============================] - 0s 46us/sample - loss: 19.8313 - acc: 0.4883\n",
      "Epoch 3/150\n",
      "768/768 [==============================] - 0s 45us/sample - loss: 18.2265 - acc: 0.5078\n",
      "Epoch 4/150\n",
      "768/768 [==============================] - 0s 46us/sample - loss: 16.9548 - acc: 0.5208\n",
      "Epoch 5/150\n",
      "768/768 [==============================] - 0s 47us/sample - loss: 15.8661 - acc: 0.5404\n",
      "Epoch 6/150\n",
      "768/768 [==============================] - 0s 43us/sample - loss: 14.9088 - acc: 0.5495\n",
      "Epoch 7/150\n",
      "768/768 [==============================] - 0s 49us/sample - loss: 14.0812 - acc: 0.5599\n",
      "Epoch 8/150\n",
      "768/768 [==============================] - 0s 46us/sample - loss: 13.3334 - acc: 0.5716\n",
      "Epoch 9/150\n",
      "768/768 [==============================] - 0s 46us/sample - loss: 12.6485 - acc: 0.5781\n",
      "Epoch 10/150\n",
      "768/768 [==============================] - 0s 49us/sample - loss: 11.9378 - acc: 0.5781\n",
      "Epoch 11/150\n",
      "768/768 [==============================] - 0s 51us/sample - loss: 11.2402 - acc: 0.5768\n",
      "Epoch 12/150\n",
      "768/768 [==============================] - 0s 45us/sample - loss: 10.5382 - acc: 0.5768\n",
      "Epoch 13/150\n",
      "768/768 [==============================] - 0s 49us/sample - loss: 9.8354 - acc: 0.5781\n",
      "Epoch 14/150\n",
      "768/768 [==============================] - 0s 46us/sample - loss: 9.1210 - acc: 0.5742\n",
      "Epoch 15/150\n",
      "768/768 [==============================] - 0s 44us/sample - loss: 8.4284 - acc: 0.5716\n",
      "Epoch 16/150\n",
      "768/768 [==============================] - 0s 57us/sample - loss: 7.7356 - acc: 0.5664\n",
      "Epoch 17/150\n",
      "768/768 [==============================] - 0s 45us/sample - loss: 7.0794 - acc: 0.5599\n",
      "Epoch 18/150\n",
      "768/768 [==============================] - 0s 44us/sample - loss: 6.4498 - acc: 0.5625\n",
      "Epoch 19/150\n",
      "768/768 [==============================] - 0s 48us/sample - loss: 5.8932 - acc: 0.5560\n",
      "Epoch 20/150\n",
      "768/768 [==============================] - 0s 44us/sample - loss: 5.3888 - acc: 0.5404\n",
      "Epoch 21/150\n",
      "768/768 [==============================] - 0s 57us/sample - loss: 4.9498 - acc: 0.5443\n",
      "Epoch 22/150\n",
      "768/768 [==============================] - 0s 46us/sample - loss: 4.5667 - acc: 0.5430\n",
      "Epoch 23/150\n",
      "768/768 [==============================] - 0s 43us/sample - loss: 4.2425 - acc: 0.5521\n",
      "Epoch 24/150\n",
      "768/768 [==============================] - 0s 44us/sample - loss: 3.9571 - acc: 0.5573\n",
      "Epoch 25/150\n",
      "768/768 [==============================] - 0s 44us/sample - loss: 3.7497 - acc: 0.5495\n",
      "Epoch 26/150\n",
      "768/768 [==============================] - 0s 43us/sample - loss: 3.5387 - acc: 0.5456\n",
      "Epoch 27/150\n",
      "768/768 [==============================] - 0s 48us/sample - loss: 3.3520 - acc: 0.5508\n",
      "Epoch 28/150\n",
      "768/768 [==============================] - 0s 40us/sample - loss: 3.1875 - acc: 0.5508\n",
      "Epoch 29/150\n",
      "768/768 [==============================] - 0s 44us/sample - loss: 3.0409 - acc: 0.5430\n",
      "Epoch 30/150\n",
      "768/768 [==============================] - 0s 46us/sample - loss: 2.8861 - acc: 0.5482\n",
      "Epoch 31/150\n",
      "768/768 [==============================] - 0s 44us/sample - loss: 2.7387 - acc: 0.5521\n",
      "Epoch 32/150\n",
      "768/768 [==============================] - 0s 42us/sample - loss: 2.6010 - acc: 0.5495\n",
      "Epoch 33/150\n",
      "768/768 [==============================] - 0s 47us/sample - loss: 2.4666 - acc: 0.5547\n",
      "Epoch 34/150\n",
      "768/768 [==============================] - 0s 44us/sample - loss: 2.3313 - acc: 0.5586\n",
      "Epoch 35/150\n",
      "768/768 [==============================] - 0s 44us/sample - loss: 2.2170 - acc: 0.5417\n",
      "Epoch 36/150\n",
      "768/768 [==============================] - 0s 43us/sample - loss: 2.0884 - acc: 0.5534\n",
      "Epoch 37/150\n",
      "768/768 [==============================] - 0s 44us/sample - loss: 1.9536 - acc: 0.5625\n",
      "Epoch 38/150\n",
      "768/768 [==============================] - 0s 46us/sample - loss: 1.8485 - acc: 0.5534\n",
      "Epoch 39/150\n",
      "768/768 [==============================] - 0s 46us/sample - loss: 1.7366 - acc: 0.5612\n",
      "Epoch 40/150\n",
      "768/768 [==============================] - 0s 44us/sample - loss: 1.6307 - acc: 0.5768\n",
      "Epoch 41/150\n",
      "768/768 [==============================] - 0s 45us/sample - loss: 1.5224 - acc: 0.5664\n",
      "Epoch 42/150\n",
      "768/768 [==============================] - 0s 44us/sample - loss: 1.4167 - acc: 0.5833\n",
      "Epoch 43/150\n",
      "768/768 [==============================] - 0s 42us/sample - loss: 1.3299 - acc: 0.5703\n",
      "Epoch 44/150\n",
      "768/768 [==============================] - 0s 45us/sample - loss: 1.2466 - acc: 0.5846\n",
      "Epoch 45/150\n",
      "768/768 [==============================] - 0s 47us/sample - loss: 1.1588 - acc: 0.5755\n",
      "Epoch 46/150\n",
      "768/768 [==============================] - 0s 43us/sample - loss: 1.0746 - acc: 0.5924\n",
      "Epoch 47/150\n",
      "768/768 [==============================] - 0s 43us/sample - loss: 1.0149 - acc: 0.5885\n",
      "Epoch 48/150\n",
      "768/768 [==============================] - 0s 45us/sample - loss: 0.9477 - acc: 0.6016\n",
      "Epoch 49/150\n",
      "768/768 [==============================] - 0s 45us/sample - loss: 0.8963 - acc: 0.5938\n",
      "Epoch 50/150\n",
      "768/768 [==============================] - 0s 43us/sample - loss: 0.8499 - acc: 0.5924\n",
      "Epoch 51/150\n",
      "768/768 [==============================] - 0s 47us/sample - loss: 0.8101 - acc: 0.6068\n",
      "Epoch 52/150\n",
      "768/768 [==============================] - 0s 47us/sample - loss: 0.7753 - acc: 0.6107\n",
      "Epoch 53/150\n",
      "768/768 [==============================] - 0s 45us/sample - loss: 0.7482 - acc: 0.6315\n",
      "Epoch 54/150\n",
      "768/768 [==============================] - 0s 46us/sample - loss: 0.7212 - acc: 0.6289\n",
      "Epoch 55/150\n",
      "768/768 [==============================] - 0s 48us/sample - loss: 0.7071 - acc: 0.6133\n",
      "Epoch 56/150\n",
      "768/768 [==============================] - 0s 45us/sample - loss: 0.6985 - acc: 0.6367\n",
      "Epoch 57/150\n",
      "768/768 [==============================] - 0s 45us/sample - loss: 0.6752 - acc: 0.6445\n",
      "Epoch 58/150\n",
      "768/768 [==============================] - 0s 49us/sample - loss: 0.6685 - acc: 0.6589\n",
      "Epoch 59/150\n",
      "768/768 [==============================] - 0s 44us/sample - loss: 0.6649 - acc: 0.6380\n",
      "Epoch 60/150\n",
      "768/768 [==============================] - 0s 46us/sample - loss: 0.6486 - acc: 0.6654\n",
      "Epoch 61/150\n",
      "768/768 [==============================] - 0s 49us/sample - loss: 0.6399 - acc: 0.6719\n",
      "Epoch 62/150\n",
      "768/768 [==============================] - 0s 46us/sample - loss: 0.6427 - acc: 0.6745\n",
      "Epoch 63/150\n",
      "768/768 [==============================] - 0s 48us/sample - loss: 0.6352 - acc: 0.6771\n",
      "Epoch 64/150\n",
      "768/768 [==============================] - 0s 44us/sample - loss: 0.6321 - acc: 0.6810\n",
      "Epoch 65/150\n",
      "768/768 [==============================] - 0s 43us/sample - loss: 0.6296 - acc: 0.6823\n",
      "Epoch 66/150\n",
      "768/768 [==============================] - 0s 46us/sample - loss: 0.6315 - acc: 0.6797\n",
      "Epoch 67/150\n",
      "768/768 [==============================] - 0s 46us/sample - loss: 0.6268 - acc: 0.6706\n",
      "Epoch 68/150\n",
      "768/768 [==============================] - 0s 46us/sample - loss: 0.6182 - acc: 0.6888\n",
      "Epoch 69/150\n",
      "768/768 [==============================] - 0s 45us/sample - loss: 0.6236 - acc: 0.6836\n",
      "Epoch 70/150\n",
      "768/768 [==============================] - 0s 44us/sample - loss: 0.6228 - acc: 0.6745\n",
      "Epoch 71/150\n",
      "768/768 [==============================] - 0s 45us/sample - loss: 0.6111 - acc: 0.6953\n",
      "Epoch 72/150\n",
      "768/768 [==============================] - 0s 45us/sample - loss: 0.6192 - acc: 0.6849\n",
      "Epoch 73/150\n",
      "768/768 [==============================] - 0s 44us/sample - loss: 0.6150 - acc: 0.6784\n",
      "Epoch 74/150\n",
      "768/768 [==============================] - 0s 46us/sample - loss: 0.6032 - acc: 0.6940\n",
      "Epoch 75/150\n",
      "768/768 [==============================] - 0s 45us/sample - loss: 0.6137 - acc: 0.6797\n",
      "Epoch 76/150\n",
      "768/768 [==============================] - 0s 45us/sample - loss: 0.6092 - acc: 0.6745\n",
      "Epoch 77/150\n",
      "768/768 [==============================] - 0s 46us/sample - loss: 0.6120 - acc: 0.6823\n",
      "Epoch 78/150\n",
      "768/768 [==============================] - 0s 42us/sample - loss: 0.6072 - acc: 0.6888\n",
      "Epoch 79/150\n",
      "768/768 [==============================] - 0s 44us/sample - loss: 0.6023 - acc: 0.7018\n",
      "Epoch 80/150\n",
      "768/768 [==============================] - 0s 50us/sample - loss: 0.6096 - acc: 0.7018\n",
      "Epoch 81/150\n",
      "768/768 [==============================] - 0s 46us/sample - loss: 0.6074 - acc: 0.6875\n",
      "Epoch 82/150\n",
      "768/768 [==============================] - 0s 46us/sample - loss: 0.6172 - acc: 0.6888\n",
      "Epoch 83/150\n",
      "768/768 [==============================] - 0s 45us/sample - loss: 0.6137 - acc: 0.6771\n",
      "Epoch 84/150\n",
      "768/768 [==============================] - 0s 46us/sample - loss: 0.6042 - acc: 0.6862\n",
      "Epoch 85/150\n",
      "768/768 [==============================] - 0s 47us/sample - loss: 0.5941 - acc: 0.7122\n",
      "Epoch 86/150\n",
      "768/768 [==============================] - 0s 45us/sample - loss: 0.5991 - acc: 0.7031\n",
      "Epoch 87/150\n",
      "768/768 [==============================] - 0s 46us/sample - loss: 0.6080 - acc: 0.6862\n",
      "Epoch 88/150\n",
      "768/768 [==============================] - 0s 45us/sample - loss: 0.5933 - acc: 0.7031\n",
      "Epoch 89/150\n",
      "768/768 [==============================] - 0s 44us/sample - loss: 0.5999 - acc: 0.6927\n",
      "Epoch 90/150\n",
      "768/768 [==============================] - 0s 42us/sample - loss: 0.6032 - acc: 0.6888\n",
      "Epoch 91/150\n",
      "768/768 [==============================] - 0s 46us/sample - loss: 0.6002 - acc: 0.6979\n",
      "Epoch 92/150\n",
      "768/768 [==============================] - 0s 46us/sample - loss: 0.5958 - acc: 0.6953\n",
      "Epoch 93/150\n",
      "768/768 [==============================] - 0s 45us/sample - loss: 0.5978 - acc: 0.7018\n",
      "Epoch 94/150\n",
      "768/768 [==============================] - 0s 46us/sample - loss: 0.5960 - acc: 0.7018\n",
      "Epoch 95/150\n",
      "768/768 [==============================] - 0s 45us/sample - loss: 0.5921 - acc: 0.7005\n",
      "Epoch 96/150\n",
      "768/768 [==============================] - 0s 48us/sample - loss: 0.5894 - acc: 0.7005\n",
      "Epoch 97/150\n",
      "768/768 [==============================] - 0s 46us/sample - loss: 0.5882 - acc: 0.7044\n",
      "Epoch 98/150\n",
      "768/768 [==============================] - 0s 45us/sample - loss: 0.5934 - acc: 0.6888\n",
      "Epoch 99/150\n",
      "768/768 [==============================] - 0s 46us/sample - loss: 0.5941 - acc: 0.6888\n",
      "Epoch 100/150\n",
      "768/768 [==============================] - 0s 46us/sample - loss: 0.5922 - acc: 0.7057\n",
      "Epoch 101/150\n",
      "768/768 [==============================] - 0s 49us/sample - loss: 0.5898 - acc: 0.6992\n",
      "Epoch 102/150\n",
      "768/768 [==============================] - 0s 45us/sample - loss: 0.5873 - acc: 0.7070\n",
      "Epoch 103/150\n",
      "768/768 [==============================] - 0s 45us/sample - loss: 0.5906 - acc: 0.7057\n",
      "Epoch 104/150\n",
      "768/768 [==============================] - 0s 45us/sample - loss: 0.5905 - acc: 0.7057\n",
      "Epoch 105/150\n",
      "768/768 [==============================] - 0s 45us/sample - loss: 0.5888 - acc: 0.7044\n",
      "Epoch 106/150\n",
      "768/768 [==============================] - 0s 44us/sample - loss: 0.5886 - acc: 0.6940\n",
      "Epoch 107/150\n",
      "768/768 [==============================] - 0s 45us/sample - loss: 0.5861 - acc: 0.7161\n",
      "Epoch 108/150\n",
      "768/768 [==============================] - 0s 43us/sample - loss: 0.5871 - acc: 0.7005\n",
      "Epoch 109/150\n",
      "768/768 [==============================] - 0s 46us/sample - loss: 0.5881 - acc: 0.7005\n",
      "Epoch 110/150\n",
      "768/768 [==============================] - 0s 46us/sample - loss: 0.5920 - acc: 0.7018\n",
      "Epoch 111/150\n",
      "768/768 [==============================] - 0s 44us/sample - loss: 0.5914 - acc: 0.7031\n",
      "Epoch 112/150\n",
      "768/768 [==============================] - 0s 48us/sample - loss: 0.5860 - acc: 0.7148\n",
      "Epoch 113/150\n",
      "768/768 [==============================] - 0s 44us/sample - loss: 0.5899 - acc: 0.7018\n",
      "Epoch 114/150\n",
      "768/768 [==============================] - 0s 46us/sample - loss: 0.5930 - acc: 0.6862\n",
      "Epoch 115/150\n",
      "768/768 [==============================] - 0s 45us/sample - loss: 0.5850 - acc: 0.7096\n",
      "Epoch 116/150\n",
      "768/768 [==============================] - 0s 43us/sample - loss: 0.5843 - acc: 0.7083\n",
      "Epoch 117/150\n",
      "768/768 [==============================] - 0s 46us/sample - loss: 0.5846 - acc: 0.7070\n",
      "Epoch 118/150\n",
      "768/768 [==============================] - 0s 43us/sample - loss: 0.5840 - acc: 0.7109\n",
      "Epoch 119/150\n",
      "768/768 [==============================] - 0s 45us/sample - loss: 0.5934 - acc: 0.6966\n",
      "Epoch 120/150\n",
      "768/768 [==============================] - 0s 44us/sample - loss: 0.5861 - acc: 0.7122\n",
      "Epoch 121/150\n",
      "768/768 [==============================] - 0s 46us/sample - loss: 0.5858 - acc: 0.7031\n",
      "Epoch 122/150\n",
      "768/768 [==============================] - 0s 43us/sample - loss: 0.5912 - acc: 0.6979\n",
      "Epoch 123/150\n",
      "768/768 [==============================] - 0s 49us/sample - loss: 0.5950 - acc: 0.6979\n",
      "Epoch 124/150\n",
      "768/768 [==============================] - 0s 45us/sample - loss: 0.5933 - acc: 0.7018\n",
      "Epoch 125/150\n",
      "768/768 [==============================] - 0s 45us/sample - loss: 0.5792 - acc: 0.7174\n",
      "Epoch 126/150\n",
      "768/768 [==============================] - 0s 42us/sample - loss: 0.5965 - acc: 0.6849\n",
      "Epoch 127/150\n",
      "768/768 [==============================] - 0s 47us/sample - loss: 0.5821 - acc: 0.7214\n",
      "Epoch 128/150\n",
      "768/768 [==============================] - 0s 45us/sample - loss: 0.5812 - acc: 0.6966\n",
      "Epoch 129/150\n",
      "768/768 [==============================] - 0s 44us/sample - loss: 0.5787 - acc: 0.7174\n",
      "Epoch 130/150\n",
      "768/768 [==============================] - 0s 44us/sample - loss: 0.5839 - acc: 0.7083\n",
      "Epoch 131/150\n",
      "768/768 [==============================] - 0s 42us/sample - loss: 0.6077 - acc: 0.6810\n",
      "Epoch 132/150\n",
      "768/768 [==============================] - 0s 46us/sample - loss: 0.5966 - acc: 0.6979\n",
      "Epoch 133/150\n",
      "768/768 [==============================] - 0s 43us/sample - loss: 0.5951 - acc: 0.7005\n",
      "Epoch 134/150\n",
      "768/768 [==============================] - 0s 50us/sample - loss: 0.5827 - acc: 0.7201\n",
      "Epoch 135/150\n",
      "768/768 [==============================] - 0s 46us/sample - loss: 0.5865 - acc: 0.7096\n",
      "Epoch 136/150\n",
      "768/768 [==============================] - 0s 45us/sample - loss: 0.5834 - acc: 0.7214\n",
      "Epoch 137/150\n",
      "768/768 [==============================] - 0s 49us/sample - loss: 0.5793 - acc: 0.7266\n",
      "Epoch 138/150\n",
      "768/768 [==============================] - 0s 52us/sample - loss: 0.5897 - acc: 0.7057\n",
      "Epoch 139/150\n",
      "768/768 [==============================] - 0s 49us/sample - loss: 0.5852 - acc: 0.7018\n",
      "Epoch 140/150\n",
      "768/768 [==============================] - 0s 43us/sample - loss: 0.5906 - acc: 0.6927\n",
      "Epoch 141/150\n",
      "768/768 [==============================] - 0s 48us/sample - loss: 0.5770 - acc: 0.7122\n",
      "Epoch 142/150\n",
      "768/768 [==============================] - 0s 48us/sample - loss: 0.5775 - acc: 0.7096\n",
      "Epoch 143/150\n",
      "768/768 [==============================] - 0s 44us/sample - loss: 0.5783 - acc: 0.7122\n",
      "Epoch 144/150\n",
      "768/768 [==============================] - 0s 47us/sample - loss: 0.5752 - acc: 0.7240\n",
      "Epoch 145/150\n",
      "768/768 [==============================] - 0s 41us/sample - loss: 0.5781 - acc: 0.6992\n",
      "Epoch 146/150\n",
      "768/768 [==============================] - 0s 44us/sample - loss: 0.5901 - acc: 0.7096\n",
      "Epoch 147/150\n",
      "768/768 [==============================] - 0s 45us/sample - loss: 0.5789 - acc: 0.7227\n",
      "Epoch 148/150\n",
      "768/768 [==============================] - 0s 44us/sample - loss: 0.5772 - acc: 0.7201\n",
      "Epoch 149/150\n",
      "768/768 [==============================] - 0s 43us/sample - loss: 0.5760 - acc: 0.7227\n",
      "Epoch 150/150\n",
      "768/768 [==============================] - 0s 43us/sample - loss: 0.5787 - acc: 0.7070\n"
     ]
    },
    {
     "data": {
      "text/plain": [
       "<tensorflow.python.keras.callbacks.History at 0x7f21c81b54a8>"
      ]
     },
     "execution_count": 17,
     "metadata": {},
     "output_type": "execute_result"
    }
   ],
   "source": [
    "model.fit(X, y, epochs=150)"
   ]
  },
  {
   "cell_type": "code",
   "execution_count": 18,
   "metadata": {},
   "outputs": [
    {
     "data": {
      "text/plain": [
       "(768,)"
      ]
     },
     "execution_count": 18,
     "metadata": {},
     "output_type": "execute_result"
    }
   ],
   "source": [
    "y.shape"
   ]
  },
  {
   "cell_type": "markdown",
   "metadata": {},
   "source": [
    "### Evaluate Model"
   ]
  },
  {
   "cell_type": "code",
   "execution_count": 19,
   "metadata": {},
   "outputs": [
    {
     "data": {
      "text/plain": [
       "array([1., 0., 1., 0., 1., 0., 1., 0., 1., 1., 0., 1., 0., 1., 1., 1., 1.,\n",
       "       1., 0., 1., 0., 0., 1., 1., 1., 1., 1., 0., 0., 0., 0., 1., 0., 0.,\n",
       "       0., 0., 0., 1., 1., 1., 0., 0., 0., 1., 0., 1., 0., 0., 1., 0.])"
      ]
     },
     "execution_count": 19,
     "metadata": {},
     "output_type": "execute_result"
    }
   ],
   "source": [
    "y[:50]"
   ]
  },
  {
   "cell_type": "code",
   "execution_count": 20,
   "metadata": {},
   "outputs": [
    {
     "data": {
      "text/plain": [
       "0.3489583333333333"
      ]
     },
     "execution_count": 20,
     "metadata": {},
     "output_type": "execute_result"
    }
   ],
   "source": [
    "# Predicting never diabetes\n",
    "sum(y) / len(y) "
   ]
  },
  {
   "cell_type": "code",
   "execution_count": 22,
   "metadata": {},
   "outputs": [
    {
     "name": "stdout",
     "output_type": "stream",
     "text": [
      "768/768 [==============================] - 0s 23us/sample - loss: 0.5739 - acc: 0.7096\n",
      "acc: 70.96354365348816\n"
     ]
    }
   ],
   "source": [
    "scores = model.evaluate(X,y)\n",
    "print(f\"{model.metrics_names[1]}: {scores[1]*100}\")"
   ]
  },
  {
   "cell_type": "markdown",
   "metadata": {
    "colab_type": "text",
    "id": "zHYB7k9q3O8T"
   },
   "source": [
    "### Unstable Results\n",
    "\n",
    "You'll notice that if we rerun the results might differ from the origin run. This can be explain by a bunch of factors. Check out some of them in this article: \n",
    "\n",
    "<https://machinelearningmastery.com/randomness-in-machine-learning/>"
   ]
  },
  {
   "cell_type": "markdown",
   "metadata": {},
   "source": [
    "## Challenge\n",
    "\n",
    "You will be expected to leverage the Keras `Sequential`api to estimate a feed forward neural networks on a dataset."
   ]
  },
  {
   "cell_type": "markdown",
   "metadata": {
    "colab_type": "text",
    "id": "ueDVpctAzvy8"
   },
   "source": [
    "# Choosing Architecture (Learn)"
   ]
  },
  {
   "cell_type": "markdown",
   "metadata": {},
   "source": [
    "## Overview\n",
    "\n",
    "Choosing an architecture for a neural network is almost more an art than a science. Let's do a few experiments:"
   ]
  },
  {
   "cell_type": "markdown",
   "metadata": {},
   "source": [
    "## Follow Along"
   ]
  },
  {
   "cell_type": "code",
   "execution_count": 24,
   "metadata": {
    "colab": {},
    "colab_type": "code",
    "id": "6W2Sc7-LzQo_"
   },
   "outputs": [
    {
     "name": "stdout",
     "output_type": "stream",
     "text": [
      "Model: \"3LayerJunk\"\n",
      "_________________________________________________________________\n",
      "Layer (type)                 Output Shape              Param #   \n",
      "=================================================================\n",
      "Dense1 (Dense)               (None, 4)                 36        \n",
      "_________________________________________________________________\n",
      "dense_7 (Dense)              (None, 3)                 15        \n",
      "_________________________________________________________________\n",
      "dense_8 (Dense)              (None, 1)                 4         \n",
      "=================================================================\n",
      "Total params: 55\n",
      "Trainable params: 55\n",
      "Non-trainable params: 0\n",
      "_________________________________________________________________\n"
     ]
    }
   ],
   "source": [
    "# Tell me your ideas\n",
    "\n",
    "model_improved = Sequential(name=\"3LayerJunk\")\n",
    "\n",
    "model_improved.add(Dense(4, input_dim=8, activation='relu', name=\"Dense1\"))\n",
    "model_improved.add(Dense(3, activation='sigmoid'))\n",
    "model_improved.add(Dense(1, activation='sigmoid'))\n",
    "\n",
    "model_improved.compile(loss='binary_crossentropy', optimizer='adam',\n",
    "              metrics=['accuracy'])\n",
    "\n",
    "# Let's inspect our new architecture\n",
    "model_improved.summary()"
   ]
  },
  {
   "cell_type": "code",
   "execution_count": 25,
   "metadata": {},
   "outputs": [
    {
     "data": {
      "text/plain": [
       "<tensorflow.python.keras.callbacks.History at 0x7f21b385f470>"
      ]
     },
     "execution_count": 25,
     "metadata": {},
     "output_type": "execute_result"
    }
   ],
   "source": [
    "model_improved.fit(X, y, epochs=150, verbose=False) # What parameters can I specify here?"
   ]
  },
  {
   "cell_type": "code",
   "execution_count": 26,
   "metadata": {},
   "outputs": [
    {
     "name": "stdout",
     "output_type": "stream",
     "text": [
      "768/768 [==============================] - 0s 174us/sample - loss: 0.5584 - acc: 0.7109\n",
      "acc: 71.09375\n"
     ]
    }
   ],
   "source": [
    "scores = model_improved.evaluate(X,y)\n",
    "print(f\"{model_improved.metrics_names[1]}: {scores[1]*100}\")"
   ]
  },
  {
   "cell_type": "markdown",
   "metadata": {},
   "source": [
    "### Experiment with 1 Additional Layer & Change Activation F(x)s"
   ]
  },
  {
   "cell_type": "code",
   "execution_count": 27,
   "metadata": {},
   "outputs": [
    {
     "name": "stdout",
     "output_type": "stream",
     "text": [
      "Model: \"4LayerJunk\"\n",
      "_________________________________________________________________\n",
      "Layer (type)                 Output Shape              Param #   \n",
      "=================================================================\n",
      "Dense1 (Dense)               (None, 4)                 36        \n",
      "_________________________________________________________________\n",
      "dense_9 (Dense)              (None, 3)                 15        \n",
      "_________________________________________________________________\n",
      "dense_10 (Dense)             (None, 3)                 12        \n",
      "_________________________________________________________________\n",
      "dense_11 (Dense)             (None, 1)                 4         \n",
      "=================================================================\n",
      "Total params: 67\n",
      "Trainable params: 67\n",
      "Non-trainable params: 0\n",
      "_________________________________________________________________\n"
     ]
    }
   ],
   "source": [
    "# Tell me your ideas\n",
    "\n",
    "model_improved = Sequential(name=\"4LayerJunk\")\n",
    "\n",
    "model_improved.add(Dense(4, input_dim=8, activation='relu', name=\"Dense1\"))\n",
    "model_improved.add(Dense(3, activation='relu'))\n",
    "model_improved.add(Dense(3, activation='relu'))\n",
    "model_improved.add(Dense(1, activation='sigmoid'))\n",
    "\n",
    "model_improved.compile(loss='binary_crossentropy', optimizer='adam',\n",
    "              metrics=['accuracy'])\n",
    "\n",
    "# Let's inspect our new architecture\n",
    "model_improved.summary()"
   ]
  },
  {
   "cell_type": "code",
   "execution_count": 28,
   "metadata": {},
   "outputs": [
    {
     "data": {
      "text/plain": [
       "<tensorflow.python.keras.callbacks.History at 0x7f21b340a198>"
      ]
     },
     "execution_count": 28,
     "metadata": {},
     "output_type": "execute_result"
    }
   ],
   "source": [
    "model_improved.fit(X,y, epochs=250, verbose=False)"
   ]
  },
  {
   "cell_type": "code",
   "execution_count": 29,
   "metadata": {},
   "outputs": [
    {
     "name": "stdout",
     "output_type": "stream",
     "text": [
      "768/768 [==============================] - 0s 179us/sample - loss: 0.6468 - acc: 0.6510\n"
     ]
    },
    {
     "data": {
      "text/plain": [
       "[0.6467994824051857, 0.6510417]"
      ]
     },
     "execution_count": 29,
     "metadata": {},
     "output_type": "execute_result"
    }
   ],
   "source": [
    "model_improved.evaluate(X,y)\n",
    "#print(f\"{model_improved.metrics_names[1]}: {scores[1]*100}\")"
   ]
  },
  {
   "cell_type": "markdown",
   "metadata": {},
   "source": [
    "### New Experiment with Identical Neuron Numbers"
   ]
  },
  {
   "cell_type": "code",
   "execution_count": 50,
   "metadata": {},
   "outputs": [
    {
     "name": "stdout",
     "output_type": "stream",
     "text": [
      "Model: \"EvenNuerons4LayerJunk\"\n",
      "_________________________________________________________________\n",
      "Layer (type)                 Output Shape              Param #   \n",
      "=================================================================\n",
      "Dense1 (Dense)               (None, 12)                108       \n",
      "_________________________________________________________________\n",
      "dense_39 (Dense)             (None, 12)                156       \n",
      "_________________________________________________________________\n",
      "dense_40 (Dense)             (None, 12)                156       \n",
      "_________________________________________________________________\n",
      "dense_41 (Dense)             (None, 12)                156       \n",
      "_________________________________________________________________\n",
      "dense_42 (Dense)             (None, 1)                 13        \n",
      "=================================================================\n",
      "Total params: 589\n",
      "Trainable params: 589\n",
      "Non-trainable params: 0\n",
      "_________________________________________________________________\n"
     ]
    }
   ],
   "source": [
    "# Tell me your ideas\n",
    "\n",
    "model_improved = Sequential(name=\"EvenNuerons4LayerJunk\")\n",
    "\n",
    "model_improved.add(Dense(12, input_dim=8, activation='relu', name=\"Dense1\"))\n",
    "model_improved.add(Dense(12, activation='relu'))\n",
    "model_improved.add(Dense(12, activation='relu'))\n",
    "model_improved.add(Dense(12, activation='relu'))\n",
    "model_improved.add(Dense(1, activation='sigmoid'))\n",
    "\n",
    "model_improved.compile(loss='binary_crossentropy', optimizer='ADAM',\n",
    "              metrics=['accuracy'])\n",
    "\n",
    "# Let's inspect our new architecture\n",
    "model_improved.summary()"
   ]
  },
  {
   "cell_type": "code",
   "execution_count": 51,
   "metadata": {},
   "outputs": [
    {
     "name": "stdout",
     "output_type": "stream",
     "text": [
      "Train on 691 samples, validate on 77 samples\n",
      "Epoch 1/250\n",
      "691/691 [==============================] - 1s 2ms/sample - loss: 1.0598 - acc: 0.5557 - val_loss: 0.6687 - val_acc: 0.6494\n",
      "Epoch 2/250\n",
      "691/691 [==============================] - 0s 91us/sample - loss: 0.7143 - acc: 0.6498 - val_loss: 0.6244 - val_acc: 0.6494\n",
      "Epoch 3/250\n",
      "691/691 [==============================] - 0s 90us/sample - loss: 0.6740 - acc: 0.6339 - val_loss: 0.6340 - val_acc: 0.7403\n",
      "Epoch 4/250\n",
      "691/691 [==============================] - 0s 85us/sample - loss: 0.6621 - acc: 0.6411 - val_loss: 0.6307 - val_acc: 0.6753\n",
      "Epoch 5/250\n",
      "691/691 [==============================] - 0s 82us/sample - loss: 0.6374 - acc: 0.6628 - val_loss: 0.6032 - val_acc: 0.7143\n",
      "Epoch 6/250\n",
      "691/691 [==============================] - 0s 85us/sample - loss: 0.6423 - acc: 0.6440 - val_loss: 0.6286 - val_acc: 0.6623\n",
      "Epoch 7/250\n",
      "691/691 [==============================] - 0s 86us/sample - loss: 0.6343 - acc: 0.6440 - val_loss: 0.6162 - val_acc: 0.6883\n",
      "Epoch 8/250\n",
      "691/691 [==============================] - 0s 85us/sample - loss: 0.6250 - acc: 0.6498 - val_loss: 0.6265 - val_acc: 0.6753\n",
      "Epoch 9/250\n",
      "691/691 [==============================] - 0s 85us/sample - loss: 0.6247 - acc: 0.6382 - val_loss: 0.6207 - val_acc: 0.6883\n",
      "Epoch 10/250\n",
      "691/691 [==============================] - 0s 83us/sample - loss: 0.6208 - acc: 0.6643 - val_loss: 0.6162 - val_acc: 0.6753\n",
      "Epoch 11/250\n",
      "691/691 [==============================] - 0s 83us/sample - loss: 0.6251 - acc: 0.6628 - val_loss: 0.6210 - val_acc: 0.6883\n",
      "Epoch 12/250\n",
      "691/691 [==============================] - 0s 84us/sample - loss: 0.6190 - acc: 0.6454 - val_loss: 0.6910 - val_acc: 0.6234\n",
      "Epoch 13/250\n",
      "691/691 [==============================] - 0s 85us/sample - loss: 0.6105 - acc: 0.6787 - val_loss: 0.6149 - val_acc: 0.7013\n",
      "Epoch 14/250\n",
      "691/691 [==============================] - 0s 86us/sample - loss: 0.6323 - acc: 0.6498 - val_loss: 0.6806 - val_acc: 0.5584\n",
      "Epoch 15/250\n",
      "691/691 [==============================] - 0s 87us/sample - loss: 0.6342 - acc: 0.6425 - val_loss: 0.6325 - val_acc: 0.6623\n",
      "Epoch 16/250\n",
      "691/691 [==============================] - 0s 82us/sample - loss: 0.6075 - acc: 0.6527 - val_loss: 0.6740 - val_acc: 0.6234\n",
      "Epoch 17/250\n",
      "691/691 [==============================] - 0s 85us/sample - loss: 0.6149 - acc: 0.6628 - val_loss: 0.6248 - val_acc: 0.6623\n",
      "Epoch 18/250\n",
      "691/691 [==============================] - 0s 80us/sample - loss: 0.6026 - acc: 0.6700 - val_loss: 0.6434 - val_acc: 0.6883\n",
      "Epoch 19/250\n",
      "691/691 [==============================] - 0s 83us/sample - loss: 0.6042 - acc: 0.6643 - val_loss: 0.6311 - val_acc: 0.6753\n",
      "Epoch 20/250\n",
      "691/691 [==============================] - 0s 83us/sample - loss: 0.6032 - acc: 0.6874 - val_loss: 0.6310 - val_acc: 0.7143\n",
      "Epoch 21/250\n",
      "691/691 [==============================] - 0s 87us/sample - loss: 0.6012 - acc: 0.6614 - val_loss: 0.6133 - val_acc: 0.6883\n",
      "Epoch 22/250\n",
      "691/691 [==============================] - 0s 86us/sample - loss: 0.5980 - acc: 0.6541 - val_loss: 0.6518 - val_acc: 0.6623\n",
      "Epoch 23/250\n",
      "691/691 [==============================] - 0s 86us/sample - loss: 0.5912 - acc: 0.6700 - val_loss: 0.6277 - val_acc: 0.6883\n",
      "Epoch 24/250\n",
      "691/691 [==============================] - 0s 112us/sample - loss: 0.6009 - acc: 0.6498 - val_loss: 0.6303 - val_acc: 0.7013\n",
      "Epoch 25/250\n",
      "691/691 [==============================] - 0s 82us/sample - loss: 0.5927 - acc: 0.6758 - val_loss: 0.6264 - val_acc: 0.6494\n",
      "Epoch 26/250\n",
      "691/691 [==============================] - 0s 88us/sample - loss: 0.5966 - acc: 0.6599 - val_loss: 0.6277 - val_acc: 0.6364\n",
      "Epoch 27/250\n",
      "691/691 [==============================] - 0s 89us/sample - loss: 0.5938 - acc: 0.6671 - val_loss: 0.6150 - val_acc: 0.6883\n",
      "Epoch 28/250\n",
      "691/691 [==============================] - 0s 85us/sample - loss: 0.5880 - acc: 0.6643 - val_loss: 0.6492 - val_acc: 0.6494\n",
      "Epoch 29/250\n",
      "691/691 [==============================] - 0s 96us/sample - loss: 0.5893 - acc: 0.6758 - val_loss: 0.6537 - val_acc: 0.6623\n",
      "Epoch 30/250\n",
      "691/691 [==============================] - 0s 111us/sample - loss: 0.5894 - acc: 0.6744 - val_loss: 0.6132 - val_acc: 0.6494\n",
      "Epoch 31/250\n",
      "691/691 [==============================] - 0s 96us/sample - loss: 0.5787 - acc: 0.6787 - val_loss: 0.6432 - val_acc: 0.6494\n",
      "Epoch 32/250\n",
      "691/691 [==============================] - 0s 90us/sample - loss: 0.5843 - acc: 0.6744 - val_loss: 0.6207 - val_acc: 0.6753\n",
      "Epoch 33/250\n",
      "691/691 [==============================] - 0s 88us/sample - loss: 0.5886 - acc: 0.6657 - val_loss: 0.6426 - val_acc: 0.6623\n",
      "Epoch 34/250\n",
      "691/691 [==============================] - 0s 89us/sample - loss: 0.5904 - acc: 0.6816 - val_loss: 0.6189 - val_acc: 0.6753\n",
      "Epoch 35/250\n",
      "691/691 [==============================] - 0s 99us/sample - loss: 0.5794 - acc: 0.6961 - val_loss: 0.6356 - val_acc: 0.6753\n",
      "Epoch 36/250\n",
      "691/691 [==============================] - 0s 101us/sample - loss: 0.5888 - acc: 0.6686 - val_loss: 0.6586 - val_acc: 0.7013\n",
      "Epoch 37/250\n",
      "691/691 [==============================] - 0s 91us/sample - loss: 0.5890 - acc: 0.6831 - val_loss: 0.6847 - val_acc: 0.6623\n",
      "Epoch 38/250\n",
      "691/691 [==============================] - 0s 87us/sample - loss: 0.5844 - acc: 0.6831 - val_loss: 0.6118 - val_acc: 0.6753\n",
      "Epoch 39/250\n",
      "691/691 [==============================] - 0s 97us/sample - loss: 0.5749 - acc: 0.7048 - val_loss: 0.6307 - val_acc: 0.6753\n",
      "Epoch 40/250\n",
      "691/691 [==============================] - 0s 81us/sample - loss: 0.5817 - acc: 0.6773 - val_loss: 0.6335 - val_acc: 0.7013\n",
      "Epoch 41/250\n",
      "691/691 [==============================] - 0s 86us/sample - loss: 0.5738 - acc: 0.7004 - val_loss: 0.6311 - val_acc: 0.6623\n",
      "Epoch 42/250\n",
      "691/691 [==============================] - 0s 82us/sample - loss: 0.5758 - acc: 0.7091 - val_loss: 0.6184 - val_acc: 0.7013\n",
      "Epoch 43/250\n",
      "691/691 [==============================] - 0s 86us/sample - loss: 0.5689 - acc: 0.7120 - val_loss: 0.6334 - val_acc: 0.7143\n",
      "Epoch 44/250\n",
      "691/691 [==============================] - 0s 80us/sample - loss: 0.5819 - acc: 0.7004 - val_loss: 0.6114 - val_acc: 0.7403\n",
      "Epoch 45/250\n",
      "691/691 [==============================] - 0s 86us/sample - loss: 0.5675 - acc: 0.7221 - val_loss: 0.6171 - val_acc: 0.7273\n",
      "Epoch 46/250\n",
      "691/691 [==============================] - 0s 82us/sample - loss: 0.5679 - acc: 0.7106 - val_loss: 0.6208 - val_acc: 0.7013\n",
      "Epoch 47/250\n",
      "691/691 [==============================] - 0s 87us/sample - loss: 0.5665 - acc: 0.7106 - val_loss: 0.6135 - val_acc: 0.6883\n",
      "Epoch 48/250\n",
      "691/691 [==============================] - 0s 86us/sample - loss: 0.5650 - acc: 0.7106 - val_loss: 0.6075 - val_acc: 0.7013\n",
      "Epoch 49/250\n",
      "691/691 [==============================] - 0s 83us/sample - loss: 0.5672 - acc: 0.7236 - val_loss: 0.6111 - val_acc: 0.7143\n",
      "Epoch 50/250\n",
      "691/691 [==============================] - 0s 86us/sample - loss: 0.5652 - acc: 0.7077 - val_loss: 0.6160 - val_acc: 0.7403\n",
      "Epoch 51/250\n",
      "691/691 [==============================] - 0s 87us/sample - loss: 0.5673 - acc: 0.7192 - val_loss: 0.6199 - val_acc: 0.7143\n",
      "Epoch 52/250\n",
      "691/691 [==============================] - 0s 82us/sample - loss: 0.5692 - acc: 0.7164 - val_loss: 0.6189 - val_acc: 0.7273\n",
      "Epoch 53/250\n",
      "691/691 [==============================] - 0s 82us/sample - loss: 0.5657 - acc: 0.7207 - val_loss: 0.6126 - val_acc: 0.7143\n",
      "Epoch 54/250\n",
      "691/691 [==============================] - 0s 87us/sample - loss: 0.5608 - acc: 0.7323 - val_loss: 0.6216 - val_acc: 0.7013\n",
      "Epoch 55/250\n",
      "691/691 [==============================] - 0s 85us/sample - loss: 0.5598 - acc: 0.7178 - val_loss: 0.6114 - val_acc: 0.7143\n",
      "Epoch 56/250\n",
      "691/691 [==============================] - 0s 83us/sample - loss: 0.5605 - acc: 0.7279 - val_loss: 0.6141 - val_acc: 0.6234\n",
      "Epoch 57/250\n",
      "691/691 [==============================] - 0s 85us/sample - loss: 0.5768 - acc: 0.7077 - val_loss: 0.6022 - val_acc: 0.6753\n",
      "Epoch 58/250\n",
      "691/691 [==============================] - 0s 86us/sample - loss: 0.5856 - acc: 0.6773 - val_loss: 0.6456 - val_acc: 0.6494\n",
      "Epoch 59/250\n",
      "691/691 [==============================] - 0s 87us/sample - loss: 0.5571 - acc: 0.7207 - val_loss: 0.6173 - val_acc: 0.6883\n",
      "Epoch 60/250\n",
      "691/691 [==============================] - 0s 86us/sample - loss: 0.5588 - acc: 0.7337 - val_loss: 0.6090 - val_acc: 0.6753\n",
      "Epoch 61/250\n",
      "691/691 [==============================] - 0s 136us/sample - loss: 0.5583 - acc: 0.7207 - val_loss: 0.6046 - val_acc: 0.6883\n",
      "Epoch 62/250\n",
      "691/691 [==============================] - 0s 112us/sample - loss: 0.5579 - acc: 0.7164 - val_loss: 0.6041 - val_acc: 0.7013\n",
      "Epoch 63/250\n",
      "691/691 [==============================] - 0s 84us/sample - loss: 0.5591 - acc: 0.7265 - val_loss: 0.6054 - val_acc: 0.7013\n",
      "Epoch 64/250\n",
      "691/691 [==============================] - 0s 85us/sample - loss: 0.5528 - acc: 0.7323 - val_loss: 0.6229 - val_acc: 0.7403\n",
      "Epoch 65/250\n",
      "691/691 [==============================] - 0s 87us/sample - loss: 0.5486 - acc: 0.7250 - val_loss: 0.6113 - val_acc: 0.7013\n",
      "Epoch 66/250\n",
      "691/691 [==============================] - 0s 95us/sample - loss: 0.5560 - acc: 0.7381 - val_loss: 0.6014 - val_acc: 0.7013\n",
      "Epoch 67/250\n",
      "691/691 [==============================] - 0s 85us/sample - loss: 0.5579 - acc: 0.7381 - val_loss: 0.6073 - val_acc: 0.7273\n",
      "Epoch 68/250\n",
      "691/691 [==============================] - 0s 86us/sample - loss: 0.5495 - acc: 0.7381 - val_loss: 0.6291 - val_acc: 0.7143\n",
      "Epoch 69/250\n",
      "691/691 [==============================] - 0s 86us/sample - loss: 0.5562 - acc: 0.7135 - val_loss: 0.6111 - val_acc: 0.6753\n",
      "Epoch 70/250\n",
      "691/691 [==============================] - 0s 101us/sample - loss: 0.5499 - acc: 0.7453 - val_loss: 0.6201 - val_acc: 0.7143\n",
      "Epoch 71/250\n",
      "691/691 [==============================] - 0s 86us/sample - loss: 0.5522 - acc: 0.7265 - val_loss: 0.6170 - val_acc: 0.6883\n",
      "Epoch 72/250\n",
      "691/691 [==============================] - 0s 87us/sample - loss: 0.5450 - acc: 0.7294 - val_loss: 0.6072 - val_acc: 0.7143\n",
      "Epoch 73/250\n",
      "691/691 [==============================] - 0s 85us/sample - loss: 0.5455 - acc: 0.7294 - val_loss: 0.5975 - val_acc: 0.7403\n",
      "Epoch 74/250\n",
      "691/691 [==============================] - 0s 86us/sample - loss: 0.5410 - acc: 0.7424 - val_loss: 0.5927 - val_acc: 0.7403\n",
      "Epoch 75/250\n",
      "691/691 [==============================] - 0s 83us/sample - loss: 0.5436 - acc: 0.7366 - val_loss: 0.6024 - val_acc: 0.7273\n",
      "Epoch 76/250\n",
      "691/691 [==============================] - 0s 86us/sample - loss: 0.5485 - acc: 0.7511 - val_loss: 0.6441 - val_acc: 0.7013\n",
      "Epoch 77/250\n",
      "691/691 [==============================] - 0s 88us/sample - loss: 0.5504 - acc: 0.7352 - val_loss: 0.6049 - val_acc: 0.7143\n",
      "Epoch 78/250\n",
      "691/691 [==============================] - 0s 84us/sample - loss: 0.5433 - acc: 0.7410 - val_loss: 0.5940 - val_acc: 0.7013\n",
      "Epoch 79/250\n",
      "691/691 [==============================] - 0s 97us/sample - loss: 0.5455 - acc: 0.7381 - val_loss: 0.6040 - val_acc: 0.6883\n",
      "Epoch 80/250\n",
      "691/691 [==============================] - 0s 106us/sample - loss: 0.5400 - acc: 0.7294 - val_loss: 0.6118 - val_acc: 0.7143\n",
      "Epoch 81/250\n",
      "691/691 [==============================] - 0s 99us/sample - loss: 0.5410 - acc: 0.7265 - val_loss: 0.6165 - val_acc: 0.7143\n",
      "Epoch 82/250\n",
      "691/691 [==============================] - 0s 85us/sample - loss: 0.5427 - acc: 0.7323 - val_loss: 0.6065 - val_acc: 0.7273\n",
      "Epoch 83/250\n",
      "691/691 [==============================] - 0s 85us/sample - loss: 0.5349 - acc: 0.7511 - val_loss: 0.6020 - val_acc: 0.7273\n",
      "Epoch 84/250\n",
      "691/691 [==============================] - 0s 100us/sample - loss: 0.5344 - acc: 0.7438 - val_loss: 0.5875 - val_acc: 0.7532\n",
      "Epoch 85/250\n",
      "691/691 [==============================] - 0s 97us/sample - loss: 0.5322 - acc: 0.7366 - val_loss: 0.5911 - val_acc: 0.7403\n",
      "Epoch 86/250\n",
      "691/691 [==============================] - 0s 91us/sample - loss: 0.5305 - acc: 0.7496 - val_loss: 0.5905 - val_acc: 0.7013\n",
      "Epoch 87/250\n",
      "691/691 [==============================] - 0s 85us/sample - loss: 0.5324 - acc: 0.7525 - val_loss: 0.6148 - val_acc: 0.7143\n",
      "Epoch 88/250\n",
      "691/691 [==============================] - 0s 89us/sample - loss: 0.5338 - acc: 0.7308 - val_loss: 0.6293 - val_acc: 0.7013\n",
      "Epoch 89/250\n",
      "691/691 [==============================] - 0s 80us/sample - loss: 0.5422 - acc: 0.7337 - val_loss: 0.6033 - val_acc: 0.6883\n",
      "Epoch 90/250\n",
      "691/691 [==============================] - 0s 83us/sample - loss: 0.5308 - acc: 0.7410 - val_loss: 0.5940 - val_acc: 0.7013\n",
      "Epoch 91/250\n",
      "691/691 [==============================] - 0s 84us/sample - loss: 0.5445 - acc: 0.7438 - val_loss: 0.6001 - val_acc: 0.7013\n",
      "Epoch 92/250\n",
      "691/691 [==============================] - 0s 82us/sample - loss: 0.5372 - acc: 0.7453 - val_loss: 0.5871 - val_acc: 0.7143\n",
      "Epoch 93/250\n",
      "691/691 [==============================] - 0s 83us/sample - loss: 0.5300 - acc: 0.7410 - val_loss: 0.5843 - val_acc: 0.7273\n",
      "Epoch 94/250\n",
      "691/691 [==============================] - 0s 92us/sample - loss: 0.5268 - acc: 0.7627 - val_loss: 0.5716 - val_acc: 0.7143\n",
      "Epoch 95/250\n",
      "691/691 [==============================] - 0s 81us/sample - loss: 0.5278 - acc: 0.7424 - val_loss: 0.5767 - val_acc: 0.7013\n",
      "Epoch 96/250\n",
      "691/691 [==============================] - 0s 82us/sample - loss: 0.5258 - acc: 0.7395 - val_loss: 0.5765 - val_acc: 0.7143\n",
      "Epoch 97/250\n",
      "691/691 [==============================] - 0s 102us/sample - loss: 0.5257 - acc: 0.7554 - val_loss: 0.5986 - val_acc: 0.6753\n",
      "Epoch 98/250\n",
      "691/691 [==============================] - 0s 81us/sample - loss: 0.5214 - acc: 0.7424 - val_loss: 0.5987 - val_acc: 0.7273\n",
      "Epoch 99/250\n",
      "691/691 [==============================] - 0s 83us/sample - loss: 0.5226 - acc: 0.7627 - val_loss: 0.5980 - val_acc: 0.7013\n",
      "Epoch 100/250\n",
      "691/691 [==============================] - 0s 85us/sample - loss: 0.5377 - acc: 0.7482 - val_loss: 0.6823 - val_acc: 0.6623\n",
      "Epoch 101/250\n",
      "691/691 [==============================] - 0s 90us/sample - loss: 0.5267 - acc: 0.7482 - val_loss: 0.6384 - val_acc: 0.6753\n",
      "Epoch 102/250\n",
      "691/691 [==============================] - 0s 88us/sample - loss: 0.5268 - acc: 0.7598 - val_loss: 0.6100 - val_acc: 0.6623\n",
      "Epoch 103/250\n",
      "691/691 [==============================] - 0s 85us/sample - loss: 0.5230 - acc: 0.7569 - val_loss: 0.5727 - val_acc: 0.7143\n",
      "Epoch 104/250\n",
      "691/691 [==============================] - 0s 103us/sample - loss: 0.5247 - acc: 0.7583 - val_loss: 0.5756 - val_acc: 0.7013\n",
      "Epoch 105/250\n",
      "691/691 [==============================] - 0s 88us/sample - loss: 0.5130 - acc: 0.7612 - val_loss: 0.6211 - val_acc: 0.6753\n",
      "Epoch 106/250\n",
      "691/691 [==============================] - 0s 89us/sample - loss: 0.5191 - acc: 0.7583 - val_loss: 0.5780 - val_acc: 0.7403\n",
      "Epoch 107/250\n",
      "691/691 [==============================] - 0s 89us/sample - loss: 0.5143 - acc: 0.7670 - val_loss: 0.6442 - val_acc: 0.7013\n",
      "Epoch 108/250\n",
      "691/691 [==============================] - 0s 97us/sample - loss: 0.5114 - acc: 0.7482 - val_loss: 0.5895 - val_acc: 0.7273\n",
      "Epoch 109/250\n",
      "691/691 [==============================] - 0s 85us/sample - loss: 0.5367 - acc: 0.7381 - val_loss: 0.6372 - val_acc: 0.6623\n",
      "Epoch 110/250\n",
      "691/691 [==============================] - 0s 108us/sample - loss: 0.5145 - acc: 0.7627 - val_loss: 0.6154 - val_acc: 0.7403\n",
      "Epoch 111/250\n",
      "691/691 [==============================] - 0s 86us/sample - loss: 0.5079 - acc: 0.7612 - val_loss: 0.6175 - val_acc: 0.7143\n",
      "Epoch 112/250\n",
      "691/691 [==============================] - 0s 89us/sample - loss: 0.5111 - acc: 0.7482 - val_loss: 0.6009 - val_acc: 0.7273\n",
      "Epoch 113/250\n",
      "691/691 [==============================] - 0s 101us/sample - loss: 0.5055 - acc: 0.7699 - val_loss: 0.6248 - val_acc: 0.7403\n",
      "Epoch 114/250\n",
      "691/691 [==============================] - 0s 89us/sample - loss: 0.5030 - acc: 0.7598 - val_loss: 0.6526 - val_acc: 0.7143\n",
      "Epoch 115/250\n",
      "691/691 [==============================] - 0s 102us/sample - loss: 0.5004 - acc: 0.7670 - val_loss: 0.6075 - val_acc: 0.6753\n",
      "Epoch 116/250\n",
      "691/691 [==============================] - 0s 87us/sample - loss: 0.5020 - acc: 0.7670 - val_loss: 0.6423 - val_acc: 0.7403\n",
      "Epoch 117/250\n",
      "691/691 [==============================] - 0s 90us/sample - loss: 0.4981 - acc: 0.7641 - val_loss: 0.6242 - val_acc: 0.7143\n",
      "Epoch 118/250\n",
      "691/691 [==============================] - 0s 85us/sample - loss: 0.5039 - acc: 0.7525 - val_loss: 0.6049 - val_acc: 0.7273\n",
      "Epoch 119/250\n",
      "691/691 [==============================] - 0s 83us/sample - loss: 0.4932 - acc: 0.7627 - val_loss: 0.6074 - val_acc: 0.7143\n",
      "Epoch 120/250\n",
      "691/691 [==============================] - 0s 83us/sample - loss: 0.4975 - acc: 0.7525 - val_loss: 0.6191 - val_acc: 0.7403\n",
      "Epoch 121/250\n",
      "691/691 [==============================] - 0s 83us/sample - loss: 0.4931 - acc: 0.7641 - val_loss: 0.6374 - val_acc: 0.7403\n",
      "Epoch 122/250\n",
      "691/691 [==============================] - 0s 84us/sample - loss: 0.4912 - acc: 0.7569 - val_loss: 0.6374 - val_acc: 0.7273\n",
      "Epoch 123/250\n",
      "691/691 [==============================] - 0s 81us/sample - loss: 0.4896 - acc: 0.7656 - val_loss: 0.6172 - val_acc: 0.7273\n",
      "Epoch 124/250\n",
      "691/691 [==============================] - 0s 87us/sample - loss: 0.4911 - acc: 0.7511 - val_loss: 0.6223 - val_acc: 0.7273\n",
      "Epoch 125/250\n",
      "691/691 [==============================] - 0s 80us/sample - loss: 0.4900 - acc: 0.7525 - val_loss: 0.6017 - val_acc: 0.6753\n",
      "Epoch 126/250\n",
      "691/691 [==============================] - 0s 99us/sample - loss: 0.5119 - acc: 0.7540 - val_loss: 0.6032 - val_acc: 0.6883\n",
      "Epoch 127/250\n",
      "691/691 [==============================] - 0s 85us/sample - loss: 0.4932 - acc: 0.7612 - val_loss: 0.6304 - val_acc: 0.7143\n",
      "Epoch 128/250\n",
      "691/691 [==============================] - 0s 83us/sample - loss: 0.4905 - acc: 0.7656 - val_loss: 0.6220 - val_acc: 0.7143\n",
      "Epoch 129/250\n",
      "691/691 [==============================] - 0s 86us/sample - loss: 0.4948 - acc: 0.7656 - val_loss: 0.6070 - val_acc: 0.6883\n",
      "Epoch 130/250\n",
      "691/691 [==============================] - 0s 87us/sample - loss: 0.4887 - acc: 0.7742 - val_loss: 0.5991 - val_acc: 0.7403\n",
      "Epoch 131/250\n",
      "691/691 [==============================] - 0s 86us/sample - loss: 0.4850 - acc: 0.7540 - val_loss: 0.6155 - val_acc: 0.6883\n",
      "Epoch 132/250\n",
      "691/691 [==============================] - 0s 83us/sample - loss: 0.5026 - acc: 0.7612 - val_loss: 0.6275 - val_acc: 0.7013\n",
      "Epoch 133/250\n",
      "691/691 [==============================] - 0s 85us/sample - loss: 0.4860 - acc: 0.7627 - val_loss: 0.6213 - val_acc: 0.7013\n",
      "Epoch 134/250\n",
      "691/691 [==============================] - 0s 84us/sample - loss: 0.4928 - acc: 0.7627 - val_loss: 0.6620 - val_acc: 0.6753\n",
      "Epoch 135/250\n",
      "691/691 [==============================] - 0s 99us/sample - loss: 0.4827 - acc: 0.7598 - val_loss: 0.6246 - val_acc: 0.7143\n",
      "Epoch 136/250\n",
      "691/691 [==============================] - 0s 103us/sample - loss: 0.4886 - acc: 0.7569 - val_loss: 0.6334 - val_acc: 0.7013\n",
      "Epoch 137/250\n",
      "691/691 [==============================] - 0s 84us/sample - loss: 0.4775 - acc: 0.7598 - val_loss: 0.6066 - val_acc: 0.6883\n",
      "Epoch 138/250\n",
      "691/691 [==============================] - 0s 98us/sample - loss: 0.4796 - acc: 0.7699 - val_loss: 0.6115 - val_acc: 0.7273\n",
      "Epoch 139/250\n",
      "691/691 [==============================] - 0s 110us/sample - loss: 0.4755 - acc: 0.7583 - val_loss: 0.6293 - val_acc: 0.7013\n",
      "Epoch 140/250\n",
      "691/691 [==============================] - 0s 107us/sample - loss: 0.4763 - acc: 0.7569 - val_loss: 0.6262 - val_acc: 0.7403\n",
      "Epoch 141/250\n",
      "691/691 [==============================] - 0s 90us/sample - loss: 0.4881 - acc: 0.7496 - val_loss: 0.6137 - val_acc: 0.6883\n",
      "Epoch 142/250\n",
      "691/691 [==============================] - 0s 90us/sample - loss: 0.4758 - acc: 0.7656 - val_loss: 0.6208 - val_acc: 0.7273\n",
      "Epoch 143/250\n",
      "691/691 [==============================] - 0s 83us/sample - loss: 0.4762 - acc: 0.7699 - val_loss: 0.6283 - val_acc: 0.7273\n",
      "Epoch 144/250\n",
      "691/691 [==============================] - 0s 99us/sample - loss: 0.4914 - acc: 0.7612 - val_loss: 0.6477 - val_acc: 0.6883\n",
      "Epoch 145/250\n",
      "691/691 [==============================] - 0s 91us/sample - loss: 0.4883 - acc: 0.7554 - val_loss: 0.6319 - val_acc: 0.6753\n",
      "Epoch 146/250\n",
      "691/691 [==============================] - 0s 88us/sample - loss: 0.4781 - acc: 0.7627 - val_loss: 0.6089 - val_acc: 0.7403\n",
      "Epoch 147/250\n",
      "691/691 [==============================] - 0s 91us/sample - loss: 0.4747 - acc: 0.7583 - val_loss: 0.6472 - val_acc: 0.7013\n",
      "Epoch 148/250\n",
      "691/691 [==============================] - 0s 85us/sample - loss: 0.4826 - acc: 0.7685 - val_loss: 0.6148 - val_acc: 0.7403\n",
      "Epoch 149/250\n",
      "691/691 [==============================] - 0s 83us/sample - loss: 0.4774 - acc: 0.7699 - val_loss: 0.6276 - val_acc: 0.7013\n",
      "Epoch 150/250\n",
      "691/691 [==============================] - 0s 80us/sample - loss: 0.4711 - acc: 0.7685 - val_loss: 0.6205 - val_acc: 0.7143\n",
      "Epoch 151/250\n",
      "691/691 [==============================] - 0s 82us/sample - loss: 0.4701 - acc: 0.7786 - val_loss: 0.6362 - val_acc: 0.7013\n",
      "Epoch 152/250\n",
      "691/691 [==============================] - 0s 84us/sample - loss: 0.4740 - acc: 0.7786 - val_loss: 0.6445 - val_acc: 0.6883\n",
      "Epoch 153/250\n",
      "691/691 [==============================] - 0s 86us/sample - loss: 0.4750 - acc: 0.7786 - val_loss: 0.6743 - val_acc: 0.7013\n",
      "Epoch 154/250\n",
      "691/691 [==============================] - 0s 82us/sample - loss: 0.4677 - acc: 0.7656 - val_loss: 0.6461 - val_acc: 0.7013\n",
      "Epoch 155/250\n",
      "691/691 [==============================] - 0s 89us/sample - loss: 0.4730 - acc: 0.7656 - val_loss: 0.6669 - val_acc: 0.7143\n",
      "Epoch 156/250\n",
      "691/691 [==============================] - 0s 84us/sample - loss: 0.4832 - acc: 0.7713 - val_loss: 0.6459 - val_acc: 0.7143\n",
      "Epoch 157/250\n",
      "691/691 [==============================] - 0s 87us/sample - loss: 0.4895 - acc: 0.7554 - val_loss: 0.6516 - val_acc: 0.7013\n",
      "Epoch 158/250\n",
      "691/691 [==============================] - 0s 85us/sample - loss: 0.4819 - acc: 0.7699 - val_loss: 0.6322 - val_acc: 0.6883\n",
      "Epoch 159/250\n",
      "691/691 [==============================] - 0s 83us/sample - loss: 0.4771 - acc: 0.7699 - val_loss: 0.6077 - val_acc: 0.7143\n",
      "Epoch 160/250\n",
      "691/691 [==============================] - 0s 86us/sample - loss: 0.4806 - acc: 0.7815 - val_loss: 0.6030 - val_acc: 0.7532\n",
      "Epoch 161/250\n",
      "691/691 [==============================] - 0s 81us/sample - loss: 0.4895 - acc: 0.7670 - val_loss: 0.6093 - val_acc: 0.7013\n",
      "Epoch 162/250\n",
      "691/691 [==============================] - 0s 83us/sample - loss: 0.4741 - acc: 0.7641 - val_loss: 0.6176 - val_acc: 0.7013\n",
      "Epoch 163/250\n",
      "691/691 [==============================] - 0s 87us/sample - loss: 0.4739 - acc: 0.7656 - val_loss: 0.6153 - val_acc: 0.7143\n",
      "Epoch 164/250\n",
      "691/691 [==============================] - 0s 90us/sample - loss: 0.4643 - acc: 0.7786 - val_loss: 0.6144 - val_acc: 0.7143\n",
      "Epoch 165/250\n",
      "691/691 [==============================] - 0s 96us/sample - loss: 0.4626 - acc: 0.7699 - val_loss: 0.6085 - val_acc: 0.7273\n",
      "Epoch 166/250\n",
      "691/691 [==============================] - 0s 93us/sample - loss: 0.4729 - acc: 0.7728 - val_loss: 0.6347 - val_acc: 0.7013\n",
      "Epoch 167/250\n",
      "691/691 [==============================] - 0s 92us/sample - loss: 0.4810 - acc: 0.7728 - val_loss: 0.6280 - val_acc: 0.7013\n",
      "Epoch 168/250\n",
      "691/691 [==============================] - 0s 96us/sample - loss: 0.4759 - acc: 0.7728 - val_loss: 0.6669 - val_acc: 0.7143\n",
      "Epoch 169/250\n",
      "691/691 [==============================] - 0s 96us/sample - loss: 0.4628 - acc: 0.7786 - val_loss: 0.6081 - val_acc: 0.7013\n",
      "Epoch 170/250\n",
      "691/691 [==============================] - 0s 87us/sample - loss: 0.4591 - acc: 0.7800 - val_loss: 0.6129 - val_acc: 0.7013\n",
      "Epoch 171/250\n",
      "691/691 [==============================] - 0s 90us/sample - loss: 0.4659 - acc: 0.7670 - val_loss: 0.6018 - val_acc: 0.7013\n",
      "Epoch 172/250\n",
      "691/691 [==============================] - 0s 88us/sample - loss: 0.4586 - acc: 0.7800 - val_loss: 0.6126 - val_acc: 0.6883\n",
      "Epoch 173/250\n",
      "691/691 [==============================] - 0s 83us/sample - loss: 0.4540 - acc: 0.7786 - val_loss: 0.6984 - val_acc: 0.7013\n",
      "Epoch 174/250\n",
      "691/691 [==============================] - 0s 83us/sample - loss: 0.4621 - acc: 0.7786 - val_loss: 0.6011 - val_acc: 0.7273\n",
      "Epoch 175/250\n",
      "691/691 [==============================] - 0s 82us/sample - loss: 0.4789 - acc: 0.7742 - val_loss: 0.6165 - val_acc: 0.6883\n",
      "Epoch 176/250\n",
      "691/691 [==============================] - 0s 81us/sample - loss: 0.4884 - acc: 0.7786 - val_loss: 0.6683 - val_acc: 0.6623\n",
      "Epoch 177/250\n",
      "691/691 [==============================] - 0s 85us/sample - loss: 0.4999 - acc: 0.7540 - val_loss: 0.6331 - val_acc: 0.6753\n",
      "Epoch 178/250\n",
      "691/691 [==============================] - 0s 82us/sample - loss: 0.4803 - acc: 0.7670 - val_loss: 0.6411 - val_acc: 0.7013\n",
      "Epoch 179/250\n",
      "691/691 [==============================] - 0s 83us/sample - loss: 0.4728 - acc: 0.7800 - val_loss: 0.6186 - val_acc: 0.7273\n",
      "Epoch 180/250\n",
      "691/691 [==============================] - 0s 84us/sample - loss: 0.4828 - acc: 0.7583 - val_loss: 0.6003 - val_acc: 0.6883\n",
      "Epoch 181/250\n",
      "691/691 [==============================] - 0s 84us/sample - loss: 0.4671 - acc: 0.7699 - val_loss: 0.6182 - val_acc: 0.6753\n",
      "Epoch 182/250\n",
      "691/691 [==============================] - 0s 84us/sample - loss: 0.4706 - acc: 0.7728 - val_loss: 0.6497 - val_acc: 0.7013\n",
      "Epoch 183/250\n",
      "691/691 [==============================] - 0s 83us/sample - loss: 0.4676 - acc: 0.7786 - val_loss: 0.6290 - val_acc: 0.6883\n",
      "Epoch 184/250\n",
      "691/691 [==============================] - 0s 83us/sample - loss: 0.4659 - acc: 0.7844 - val_loss: 0.6770 - val_acc: 0.6753\n",
      "Epoch 185/250\n",
      "691/691 [==============================] - 0s 80us/sample - loss: 0.4604 - acc: 0.7829 - val_loss: 0.6066 - val_acc: 0.7013\n",
      "Epoch 186/250\n",
      "691/691 [==============================] - 0s 85us/sample - loss: 0.4677 - acc: 0.7786 - val_loss: 0.6205 - val_acc: 0.6883\n",
      "Epoch 187/250\n",
      "691/691 [==============================] - 0s 86us/sample - loss: 0.4583 - acc: 0.7742 - val_loss: 0.5951 - val_acc: 0.7532\n",
      "Epoch 188/250\n",
      "691/691 [==============================] - 0s 83us/sample - loss: 0.4695 - acc: 0.7728 - val_loss: 0.6513 - val_acc: 0.7013\n",
      "Epoch 189/250\n",
      "691/691 [==============================] - 0s 84us/sample - loss: 0.4702 - acc: 0.7685 - val_loss: 0.5901 - val_acc: 0.7403\n",
      "Epoch 190/250\n",
      "691/691 [==============================] - 0s 83us/sample - loss: 0.4655 - acc: 0.7800 - val_loss: 0.6068 - val_acc: 0.7013\n",
      "Epoch 191/250\n",
      "691/691 [==============================] - 0s 83us/sample - loss: 0.4653 - acc: 0.7685 - val_loss: 0.6113 - val_acc: 0.7143\n",
      "Epoch 192/250\n",
      "691/691 [==============================] - 0s 82us/sample - loss: 0.4508 - acc: 0.7757 - val_loss: 0.5974 - val_acc: 0.7662\n",
      "Epoch 193/250\n",
      "691/691 [==============================] - 0s 83us/sample - loss: 0.4533 - acc: 0.7887 - val_loss: 0.5941 - val_acc: 0.7532\n",
      "Epoch 194/250\n",
      "691/691 [==============================] - 0s 86us/sample - loss: 0.4563 - acc: 0.7742 - val_loss: 0.6213 - val_acc: 0.7273\n",
      "Epoch 195/250\n",
      "691/691 [==============================] - 0s 84us/sample - loss: 0.4455 - acc: 0.7887 - val_loss: 0.5983 - val_acc: 0.7403\n",
      "Epoch 196/250\n",
      "691/691 [==============================] - 0s 86us/sample - loss: 0.4658 - acc: 0.7829 - val_loss: 0.6152 - val_acc: 0.7273\n",
      "Epoch 197/250\n",
      "691/691 [==============================] - 0s 82us/sample - loss: 0.4555 - acc: 0.7887 - val_loss: 0.6336 - val_acc: 0.6494\n",
      "Epoch 198/250\n",
      "691/691 [==============================] - 0s 85us/sample - loss: 0.4671 - acc: 0.7873 - val_loss: 0.6490 - val_acc: 0.6883\n",
      "Epoch 199/250\n",
      "691/691 [==============================] - 0s 84us/sample - loss: 0.4558 - acc: 0.7815 - val_loss: 0.6288 - val_acc: 0.7273\n",
      "Epoch 200/250\n",
      "691/691 [==============================] - 0s 98us/sample - loss: 0.4511 - acc: 0.7974 - val_loss: 0.6288 - val_acc: 0.7532\n",
      "Epoch 201/250\n",
      "691/691 [==============================] - 0s 84us/sample - loss: 0.4513 - acc: 0.7829 - val_loss: 0.6152 - val_acc: 0.7403\n",
      "Epoch 202/250\n",
      "691/691 [==============================] - 0s 88us/sample - loss: 0.4494 - acc: 0.7757 - val_loss: 0.6250 - val_acc: 0.7403\n",
      "Epoch 203/250\n",
      "691/691 [==============================] - 0s 97us/sample - loss: 0.4590 - acc: 0.7771 - val_loss: 0.5887 - val_acc: 0.7273\n",
      "Epoch 204/250\n",
      "691/691 [==============================] - 0s 86us/sample - loss: 0.4527 - acc: 0.7757 - val_loss: 0.6081 - val_acc: 0.7273\n",
      "Epoch 205/250\n",
      "691/691 [==============================] - 0s 102us/sample - loss: 0.4431 - acc: 0.7931 - val_loss: 0.6591 - val_acc: 0.7273\n",
      "Epoch 206/250\n",
      "691/691 [==============================] - 0s 96us/sample - loss: 0.4452 - acc: 0.7931 - val_loss: 0.5980 - val_acc: 0.7662\n",
      "Epoch 207/250\n",
      "691/691 [==============================] - 0s 84us/sample - loss: 0.4552 - acc: 0.7815 - val_loss: 0.6115 - val_acc: 0.7143\n",
      "Epoch 208/250\n",
      "691/691 [==============================] - 0s 87us/sample - loss: 0.4457 - acc: 0.7844 - val_loss: 0.6332 - val_acc: 0.6753\n",
      "Epoch 209/250\n",
      "691/691 [==============================] - 0s 87us/sample - loss: 0.4593 - acc: 0.7800 - val_loss: 0.6690 - val_acc: 0.6883\n",
      "Epoch 210/250\n",
      "691/691 [==============================] - 0s 82us/sample - loss: 0.4630 - acc: 0.7757 - val_loss: 0.6098 - val_acc: 0.7143\n",
      "Epoch 211/250\n",
      "691/691 [==============================] - 0s 87us/sample - loss: 0.4548 - acc: 0.7931 - val_loss: 0.6437 - val_acc: 0.6883\n",
      "Epoch 212/250\n",
      "691/691 [==============================] - 0s 89us/sample - loss: 0.4503 - acc: 0.7829 - val_loss: 0.6048 - val_acc: 0.7013\n",
      "Epoch 213/250\n",
      "691/691 [==============================] - 0s 78us/sample - loss: 0.4461 - acc: 0.7945 - val_loss: 0.5995 - val_acc: 0.7143\n",
      "Epoch 214/250\n",
      "691/691 [==============================] - 0s 83us/sample - loss: 0.4453 - acc: 0.7873 - val_loss: 0.6110 - val_acc: 0.7532\n",
      "Epoch 215/250\n",
      "691/691 [==============================] - 0s 82us/sample - loss: 0.4468 - acc: 0.7815 - val_loss: 0.6105 - val_acc: 0.7403\n",
      "Epoch 216/250\n",
      "691/691 [==============================] - 0s 85us/sample - loss: 0.4507 - acc: 0.7902 - val_loss: 0.6044 - val_acc: 0.7662\n",
      "Epoch 217/250\n",
      "691/691 [==============================] - 0s 78us/sample - loss: 0.4493 - acc: 0.7959 - val_loss: 0.6358 - val_acc: 0.7013\n",
      "Epoch 218/250\n",
      "691/691 [==============================] - 0s 83us/sample - loss: 0.4534 - acc: 0.7887 - val_loss: 0.6289 - val_acc: 0.7403\n",
      "Epoch 219/250\n",
      "691/691 [==============================] - 0s 85us/sample - loss: 0.4474 - acc: 0.7829 - val_loss: 0.6470 - val_acc: 0.6883\n",
      "Epoch 220/250\n",
      "691/691 [==============================] - 0s 83us/sample - loss: 0.4446 - acc: 0.7931 - val_loss: 0.5998 - val_acc: 0.7532\n",
      "Epoch 221/250\n",
      "691/691 [==============================] - 0s 84us/sample - loss: 0.4407 - acc: 0.7858 - val_loss: 0.6211 - val_acc: 0.7532\n",
      "Epoch 222/250\n",
      "691/691 [==============================] - 0s 84us/sample - loss: 0.4422 - acc: 0.7887 - val_loss: 0.5997 - val_acc: 0.7403\n",
      "Epoch 223/250\n",
      "691/691 [==============================] - 0s 82us/sample - loss: 0.4390 - acc: 0.7902 - val_loss: 0.6167 - val_acc: 0.7403\n",
      "Epoch 224/250\n",
      "691/691 [==============================] - 0s 81us/sample - loss: 0.4439 - acc: 0.7887 - val_loss: 0.5959 - val_acc: 0.7403\n",
      "Epoch 225/250\n",
      "691/691 [==============================] - 0s 90us/sample - loss: 0.4407 - acc: 0.7887 - val_loss: 0.6140 - val_acc: 0.7403\n",
      "Epoch 226/250\n",
      "691/691 [==============================] - 0s 82us/sample - loss: 0.4395 - acc: 0.7931 - val_loss: 0.6079 - val_acc: 0.7532\n",
      "Epoch 227/250\n",
      "691/691 [==============================] - 0s 87us/sample - loss: 0.4479 - acc: 0.7757 - val_loss: 0.6293 - val_acc: 0.7273\n",
      "Epoch 228/250\n",
      "691/691 [==============================] - 0s 84us/sample - loss: 0.4632 - acc: 0.7844 - val_loss: 0.6295 - val_acc: 0.7403\n",
      "Epoch 229/250\n",
      "691/691 [==============================] - 0s 82us/sample - loss: 0.4466 - acc: 0.7829 - val_loss: 0.6485 - val_acc: 0.7143\n",
      "Epoch 230/250\n",
      "691/691 [==============================] - 0s 83us/sample - loss: 0.4649 - acc: 0.7728 - val_loss: 0.6782 - val_acc: 0.6623\n",
      "Epoch 231/250\n",
      "691/691 [==============================] - 0s 83us/sample - loss: 0.4358 - acc: 0.8017 - val_loss: 0.6009 - val_acc: 0.7662\n",
      "Epoch 232/250\n",
      "691/691 [==============================] - 0s 87us/sample - loss: 0.4373 - acc: 0.7974 - val_loss: 0.6254 - val_acc: 0.7403\n",
      "Epoch 233/250\n",
      "691/691 [==============================] - 0s 87us/sample - loss: 0.4417 - acc: 0.8003 - val_loss: 0.6145 - val_acc: 0.7273\n",
      "Epoch 234/250\n",
      "691/691 [==============================] - 0s 87us/sample - loss: 0.4365 - acc: 0.7988 - val_loss: 0.6071 - val_acc: 0.7403\n",
      "Epoch 235/250\n",
      "691/691 [==============================] - 0s 86us/sample - loss: 0.4424 - acc: 0.7931 - val_loss: 0.5883 - val_acc: 0.7792\n",
      "Epoch 236/250\n",
      "691/691 [==============================] - 0s 80us/sample - loss: 0.4493 - acc: 0.7916 - val_loss: 0.6091 - val_acc: 0.7532\n",
      "Epoch 237/250\n",
      "691/691 [==============================] - 0s 85us/sample - loss: 0.4392 - acc: 0.7988 - val_loss: 0.5927 - val_acc: 0.7662\n",
      "Epoch 238/250\n",
      "691/691 [==============================] - 0s 81us/sample - loss: 0.4362 - acc: 0.7829 - val_loss: 0.6133 - val_acc: 0.7532\n",
      "Epoch 239/250\n",
      "691/691 [==============================] - 0s 82us/sample - loss: 0.4406 - acc: 0.7887 - val_loss: 0.6238 - val_acc: 0.7403\n",
      "Epoch 240/250\n",
      "691/691 [==============================] - 0s 81us/sample - loss: 0.4425 - acc: 0.8046 - val_loss: 0.6079 - val_acc: 0.7273\n",
      "Epoch 241/250\n",
      "691/691 [==============================] - 0s 83us/sample - loss: 0.4350 - acc: 0.7916 - val_loss: 0.6145 - val_acc: 0.7273\n",
      "Epoch 242/250\n",
      "691/691 [==============================] - 0s 86us/sample - loss: 0.4358 - acc: 0.8046 - val_loss: 0.6460 - val_acc: 0.7013\n",
      "Epoch 243/250\n",
      "691/691 [==============================] - 0s 82us/sample - loss: 0.4490 - acc: 0.7988 - val_loss: 0.6304 - val_acc: 0.7013\n",
      "Epoch 244/250\n",
      "691/691 [==============================] - 0s 83us/sample - loss: 0.4427 - acc: 0.7916 - val_loss: 0.6435 - val_acc: 0.7143\n",
      "Epoch 245/250\n",
      "691/691 [==============================] - 0s 82us/sample - loss: 0.4452 - acc: 0.7815 - val_loss: 0.5968 - val_acc: 0.7273\n",
      "Epoch 246/250\n",
      "691/691 [==============================] - 0s 86us/sample - loss: 0.4392 - acc: 0.7800 - val_loss: 0.6051 - val_acc: 0.7273\n",
      "Epoch 247/250\n",
      "691/691 [==============================] - 0s 83us/sample - loss: 0.4525 - acc: 0.7887 - val_loss: 0.6230 - val_acc: 0.7273\n",
      "Epoch 248/250\n",
      "691/691 [==============================] - 0s 83us/sample - loss: 0.4544 - acc: 0.8003 - val_loss: 0.5923 - val_acc: 0.7532\n",
      "Epoch 249/250\n",
      "691/691 [==============================] - 0s 78us/sample - loss: 0.4358 - acc: 0.7974 - val_loss: 0.6144 - val_acc: 0.7532\n",
      "Epoch 250/250\n",
      "691/691 [==============================] - 0s 86us/sample - loss: 0.4394 - acc: 0.7988 - val_loss: 0.6677 - val_acc: 0.7273\n"
     ]
    },
    {
     "data": {
      "text/plain": [
       "<tensorflow.python.keras.callbacks.History at 0x7f21b02cae10>"
      ]
     },
     "execution_count": 51,
     "metadata": {},
     "output_type": "execute_result"
    }
   ],
   "source": [
    "model_improved.fit(X,y, epochs=250, validation_split=.10)"
   ]
  },
  {
   "cell_type": "code",
   "execution_count": 52,
   "metadata": {},
   "outputs": [
    {
     "name": "stdout",
     "output_type": "stream",
     "text": [
      "768/768 [==============================] - 0s 40us/sample - loss: 0.4609 - acc: 0.7982\n"
     ]
    },
    {
     "data": {
      "text/plain": [
       "[0.46089794486761093, 0.79817706]"
      ]
     },
     "execution_count": 52,
     "metadata": {},
     "output_type": "execute_result"
    }
   ],
   "source": [
    "model_improved.evaluate(X,y)\n",
    "#print(f\"{model_improved.metrics_names[1]}: {scores[1]*100}\")"
   ]
  },
  {
   "cell_type": "markdown",
   "metadata": {},
   "source": [
    "## Challenge\n",
    "\n",
    "You will have to choose your own architectures in today's module project. "
   ]
  },
  {
   "cell_type": "markdown",
   "metadata": {
    "colab_type": "text",
    "id": "tcjMuxtn6wIQ",
    "toc-hr-collapsed": false
   },
   "source": [
    "# Activation Functions (Learn)"
   ]
  },
  {
   "cell_type": "markdown",
   "metadata": {
    "colab_type": "text",
    "id": "tcjMuxtn6wIQ",
    "toc-hr-collapsed": false
   },
   "source": [
    "## Overview\n",
    "What is an activation function and how does it work?\n",
    "\n",
    "- Takes in a weighted sum of inputs + a bias from the previous layer and outputs an \"activation\" value.\n",
    "- Based its inputs the neuron decides how 'activated' it should be. This can be thought of as the neuron deciding how strongly to fire. You can also think of it as if the neuron is deciding how much of the signal that it has received to pass onto the next layer. \n",
    "- Our choice of activation function does not only affect signal that is passed forward but also affects the backpropagation algorithm. It affects how we update weights in reverse order since activated weight/input sums become the inputs of the next layer. "
   ]
  },
  {
   "cell_type": "markdown",
   "metadata": {},
   "source": [
    "## Follow Along"
   ]
  },
  {
   "cell_type": "markdown",
   "metadata": {
    "colab_type": "text",
    "id": "n_b0u8Ch60bA"
   },
   "source": [
    "### Step Function\n",
    "\n",
    "![Heaviside Step Function](https://upload.wikimedia.org/wikipedia/commons/thumb/d/d9/Dirac_distribution_CDF.svg/325px-Dirac_distribution_CDF.svg.png)\n",
    "\n",
    "All or nothing, a little extreme, which is fine, but makes updating weights through backpropagation impossible. Why? remember that during backpropagation we use derivatives in order to determine how much to update or not update weights. What is the derivative of the step function?"
   ]
  },
  {
   "cell_type": "markdown",
   "metadata": {
    "colab_type": "text",
    "id": "vKR0YhIVEnXZ"
   },
   "source": [
    "### Linear Function\n",
    "\n",
    "![Linear Function](http://www.roconnell.net/Parent%20function/linear.gif)\n",
    "\n",
    "The linear function takes the opposite tact from the step function and passes the signal onto the next layer by a constant factor. There are problems with this but the biggest problems again lie in backpropagation. The derivative of any linear function is a horizontal line which would indicate that we should update all weights by a constant amount every time -which on balance wouldn't change the behavior of our network. Linear functions are typically only used for very simple tasks where interpretability is important, but if interpretability is your highest priority, you probably shouldn't be using neural networks in the first place."
   ]
  },
  {
   "cell_type": "markdown",
   "metadata": {
    "colab_type": "text",
    "id": "JFurIVL6EkQ8"
   },
   "source": [
    "### Sigmoid Function\n",
    "\n",
    "![Sigmoid Function](https://upload.wikimedia.org/wikipedia/commons/thumb/8/88/Logistic-curve.svg/480px-Logistic-curve.svg.png)\n",
    "\n",
    "The sigmoid function works great as an activation function! it's continuously differentiable, its derivative doesn't have a constant slope, and having the higher slope in the middle pushes y value predictions towards extremes which is particularly useful for binary classification problems. I mean, this is why we use it as the squishifier in logistic regression as well. It constrains output, but over repeated epochs pushes predictions towards a strong binary prediction. \n",
    "\n",
    "What's the biggest problem with the sigmoid function? The fact that its slope gets pretty flat so quickly after its departure from zero. This means that updating weights based on its gradient really diminishes the size of our weight updates as our model gets more confident about its classifications. This is why even after so many iterations with our test score example we couldn't reach the levels of fit that our gradient descent based model could reach in just a few epochs."
   ]
  },
  {
   "cell_type": "markdown",
   "metadata": {
    "colab_type": "text",
    "id": "hm6p1HWbEhYi"
   },
   "source": [
    "### Tanh Function\n",
    "\n",
    "![Tanh Function](http://mathworld.wolfram.com/images/interactive/TanhReal.gif)\n",
    "\n",
    "What if the sigmoid function didn't get so flat quite as soon when moving away from zero and was a little bit steeper in the middle? That's basically the Tanh function. The Tanh function can actually be created by scaling the sigmoid function by 2 in the y dimension and subtracting 1 from all values. It has basically the same properties as the sigmoid, still struggles from diminishingly flat gradients as we move away from 0, but its derivative is higher around 0 causing weights to move to the extremes a little faster. "
   ]
  },
  {
   "cell_type": "markdown",
   "metadata": {
    "colab_type": "text",
    "id": "sFOn_L6gEcz1"
   },
   "source": [
    "### ReLU Function\n",
    "\n",
    "![ReLU Function](https://cdn-images-1.medium.com/max/937/1*oePAhrm74RNnNEolprmTaQ.png)\n",
    "\n",
    "ReLU stands for Rectified Linear Units it is by far the most commonly used activation function in modern neural networks. It doesn't activate neurons that are being passed a negative signal and passes on positive signals. Think about why this might be useful. Remember how a lot of our initial weights got set to negative numbers by chance? This would have dealt with those negative weights a lot faster than the sigmoid function updating. What does the derivative of this function look like? It looks like the step function! This means that not all neurons are activated. With sigmoid basically all of our neurons are passing some amount of signal even if it's small making it hard for the network to differentiate important and less important connections. ReLU turns off a portion of our less important neurons which decreases computational load, but also helps the network learn what the most important connections are faster. \n",
    "\n",
    "What's the problem with relu? Well the left half of its derivative function shows that for neurons that are initialized with weights that cause them to have no activation, our gradient will not update those neuron's weights, this can lead to dead neurons that never fire and whose weights never get updated. We would probably want to update the weights of neurons that didn't fire even if it's just by a little bit in case we got unlucky with our initial weights and want to give those neurons a chance of turning back on in the future."
   ]
  },
  {
   "cell_type": "markdown",
   "metadata": {
    "colab_type": "text",
    "id": "XWdvWOBIETwk"
   },
   "source": [
    "### Leaky ReLU\n",
    "\n",
    "![Leaky ReLU](https://cdn-images-1.medium.com/max/1600/1*ypsvQH7kvtI2BhzR2eT_Sw.png)\n",
    "\n",
    "Leaky ReLU accomplishes exactly that! it avoids having a gradient of 0 on the left side of its derivative function. This means that even \"dead\" neurons have a chance of being revived over enough iterations. In some specifications the slope of the leaky left-hand side can also be experimented with as a hyperparameter of the model!"
   ]
  },
  {
   "cell_type": "markdown",
   "metadata": {
    "colab_type": "text",
    "id": "FcAxkNFREMFb"
   },
   "source": [
    "### Softmax Function\n",
    "\n",
    "![Softmax Function](https://cdn-images-1.medium.com/max/800/1*670CdxchunD-yAuUWdI7Bw.png)\n",
    "\n",
    "Like the sigmoid function but more useful for multi-class classification problems. The softmax function can take any set of inputs and translate them into probabilities that sum up to 1. This means that we can throw any list of outputs at it and it will translate them into probabilities, this is extremely useful for multi-class classification problems. Like MNIST for example..."
   ]
  },
  {
   "cell_type": "markdown",
   "metadata": {
    "colab_type": "text",
    "id": "23-XRRXKHs34"
   },
   "source": [
    "### Major takeaways\n",
    "\n",
    "- ReLU is generally better at obtaining the optimal model fit.\n",
    "- Sigmoid and its derivatives are usually better at classification problems.\n",
    "- Softmax for multi-class classification problems. \n",
    "\n",
    "You'll typically see ReLU used for all initial layers and then the final layer being sigmoid or softmax for classification problems. But you can experiment and tune these selections as hyperparameters as well!"
   ]
  },
  {
   "cell_type": "markdown",
   "metadata": {
    "colab_type": "text",
    "id": "TWuoXZCCKCI7"
   },
   "source": [
    "### MNIST with Keras \n",
    "\n",
    "#### This will be a good chance to bring up dropout regularization. :)"
   ]
  },
  {
   "cell_type": "code",
   "execution_count": 38,
   "metadata": {
    "colab": {},
    "colab_type": "code",
    "id": "jmJ_5azs04pU"
   },
   "outputs": [],
   "source": [
    "### Let's do it!\n",
    "\n",
    "from tensorflow import keras\n",
    "from tensorflow.keras.datasets import mnist\n",
    "from tensorflow.keras.models import Sequential\n",
    "from tensorflow.keras.layers import Dense, Dropout\n",
    "\n",
    "# Stretch - use dropout \n",
    "import numpy as np"
   ]
  },
  {
   "cell_type": "code",
   "execution_count": 39,
   "metadata": {},
   "outputs": [],
   "source": [
    "# Hyper Parameters\n",
    "batch_size = 64\n",
    "num_classes = 10\n",
    "epochs = 20"
   ]
  },
  {
   "cell_type": "code",
   "execution_count": 40,
   "metadata": {},
   "outputs": [
    {
     "name": "stdout",
     "output_type": "stream",
     "text": [
      "Downloading data from https://storage.googleapis.com/tensorflow/tf-keras-datasets/mnist.npz\n",
      "11493376/11490434 [==============================] - 0s 0us/step\n"
     ]
    }
   ],
   "source": [
    "# Load the Data\n",
    "(X_train, y_train), (X_test, y_test) = mnist.load_data()"
   ]
  },
  {
   "cell_type": "code",
   "execution_count": 41,
   "metadata": {},
   "outputs": [
    {
     "data": {
      "text/plain": [
       "(28, 28)"
      ]
     },
     "execution_count": 41,
     "metadata": {},
     "output_type": "execute_result"
    }
   ],
   "source": [
    "X_train[0].shape"
   ]
  },
  {
   "cell_type": "code",
   "execution_count": null,
   "metadata": {},
   "outputs": [],
   "source": [
    "X_train.shape"
   ]
  },
  {
   "cell_type": "code",
   "execution_count": null,
   "metadata": {},
   "outputs": [],
   "source": [
    "X_train[0]"
   ]
  },
  {
   "cell_type": "code",
   "execution_count": 42,
   "metadata": {},
   "outputs": [],
   "source": [
    "# Reshape the data\n",
    "X_train = X_train.reshape(60000, 784)\n",
    "X_test = X_test.reshape(10000, 784)"
   ]
  },
  {
   "cell_type": "code",
   "execution_count": 43,
   "metadata": {},
   "outputs": [],
   "source": [
    "# X Variable Types\n",
    "X_train = X_train.astype('float32')\n",
    "X_test = X_test.astype('float32')"
   ]
  },
  {
   "cell_type": "code",
   "execution_count": 44,
   "metadata": {},
   "outputs": [
    {
     "data": {
      "text/plain": [
       "4"
      ]
     },
     "execution_count": 44,
     "metadata": {},
     "output_type": "execute_result"
    }
   ],
   "source": [
    "y_train[2] "
   ]
  },
  {
   "cell_type": "code",
   "execution_count": 45,
   "metadata": {},
   "outputs": [
    {
     "data": {
      "text/plain": [
       "4"
      ]
     },
     "execution_count": 45,
     "metadata": {},
     "output_type": "execute_result"
    }
   ],
   "source": [
    "y_train[2]"
   ]
  },
  {
   "cell_type": "code",
   "execution_count": 47,
   "metadata": {},
   "outputs": [],
   "source": [
    "# Correct Encoding on Y\n",
    "# What softmax expects = [0,0,0,0,0,1,0,0,0,0]\n",
    "\n",
    "y_train = keras.utils.to_categorical(y_train, num_classes)\n",
    "y_test = keras.utils.to_categorical(y_test, num_classes)"
   ]
  },
  {
   "cell_type": "code",
   "execution_count": 48,
   "metadata": {},
   "outputs": [
    {
     "data": {
      "text/plain": [
       "array([0., 0., 0., 0., 1., 0., 0., 0., 0., 0.], dtype=float32)"
      ]
     },
     "execution_count": 48,
     "metadata": {},
     "output_type": "execute_result"
    }
   ],
   "source": [
    "y_train[2]"
   ]
  },
  {
   "cell_type": "code",
   "execution_count": 49,
   "metadata": {},
   "outputs": [
    {
     "name": "stdout",
     "output_type": "stream",
     "text": [
      "Model: \"sequential_3\"\n",
      "_________________________________________________________________\n",
      "Layer (type)                 Output Shape              Param #   \n",
      "=================================================================\n",
      "dense_14 (Dense)             (None, 16)                12560     \n",
      "_________________________________________________________________\n",
      "dense_15 (Dense)             (None, 16)                272       \n",
      "_________________________________________________________________\n",
      "dense_16 (Dense)             (None, 16)                272       \n",
      "_________________________________________________________________\n",
      "dense_17 (Dense)             (None, 16)                272       \n",
      "_________________________________________________________________\n",
      "dense_18 (Dense)             (None, 10)                170       \n",
      "=================================================================\n",
      "Total params: 13,546\n",
      "Trainable params: 13,546\n",
      "Non-trainable params: 0\n",
      "_________________________________________________________________\n"
     ]
    }
   ],
   "source": [
    "mnist_model = Sequential()\n",
    "\n",
    "# Input => Hidden\n",
    "mnist_model.add(Dense(16, input_dim=784, activation='relu'))\n",
    "# Hidden\n",
    "mnist_model.add(Dense(16, activation='relu'))\n",
    "# Hidden\n",
    "mnist_model.add(Dense(16, activation='relu'))\n",
    "# Hidden\n",
    "mnist_model.add(Dense(16, activation='relu'))\n",
    "# Output\n",
    "mnist_model.add(Dense(10,activation='softmax'))\n",
    "\n",
    "#Compile\n",
    "mnist_model.compile(loss='categorical_crossentropy',\n",
    "                    optimizer='adam',\n",
    "                    metrics=['accuracy'])\n",
    "\n",
    "mnist_model.summary()"
   ]
  },
  {
   "cell_type": "code",
   "execution_count": null,
   "metadata": {},
   "outputs": [],
   "source": [
    "def neural_network(X):\n",
    "    \n",
    "    dense1 = Dense(8, activation='relu', input=X)\n",
    "    dense2 = Dense(8, activation='relu')(X)\n",
    "    \n",
    "    \n",
    "    return dense2 #or return model"
   ]
  },
  {
   "cell_type": "code",
   "execution_count": null,
   "metadata": {},
   "outputs": [],
   "source": [
    "16 *  784"
   ]
  },
  {
   "cell_type": "code",
   "execution_count": null,
   "metadata": {},
   "outputs": [],
   "source": [
    "y_test.shape"
   ]
  },
  {
   "cell_type": "code",
   "execution_count": 50,
   "metadata": {},
   "outputs": [
    {
     "ename": "KeyboardInterrupt",
     "evalue": "",
     "output_type": "error",
     "traceback": [
      "\u001b[0;31m---------------------------------------------------------------------------\u001b[0m",
      "\u001b[0;31mKeyboardInterrupt\u001b[0m                         Traceback (most recent call last)",
      "\u001b[0;32m<ipython-input-50-fd0808510929>\u001b[0m in \u001b[0;36m<module>\u001b[0;34m\u001b[0m\n\u001b[0;32m----> 1\u001b[0;31m \u001b[0mhistory\u001b[0m \u001b[0;34m=\u001b[0m \u001b[0mmnist_model\u001b[0m\u001b[0;34m.\u001b[0m\u001b[0mfit\u001b[0m\u001b[0;34m(\u001b[0m\u001b[0mX_train\u001b[0m\u001b[0;34m,\u001b[0m \u001b[0my_train\u001b[0m\u001b[0;34m,\u001b[0m \u001b[0mbatch_size\u001b[0m\u001b[0;34m=\u001b[0m\u001b[0;36m32\u001b[0m\u001b[0;34m,\u001b[0m \u001b[0mepochs\u001b[0m\u001b[0;34m=\u001b[0m\u001b[0;36m100\u001b[0m\u001b[0;34m,\u001b[0m \u001b[0mverbose\u001b[0m\u001b[0;34m=\u001b[0m\u001b[0;32mFalse\u001b[0m\u001b[0;34m)\u001b[0m\u001b[0;34m\u001b[0m\u001b[0;34m\u001b[0m\u001b[0m\n\u001b[0m\u001b[1;32m      2\u001b[0m \u001b[0mscores\u001b[0m \u001b[0;34m=\u001b[0m \u001b[0mmnist_model\u001b[0m\u001b[0;34m.\u001b[0m\u001b[0mevaluate\u001b[0m\u001b[0;34m(\u001b[0m\u001b[0mX_test\u001b[0m\u001b[0;34m,\u001b[0m \u001b[0my_test\u001b[0m\u001b[0;34m)\u001b[0m\u001b[0;34m\u001b[0m\u001b[0;34m\u001b[0m\u001b[0m\n\u001b[1;32m      3\u001b[0m \u001b[0;31m#print(f'{mnist_model.metrics_names[1]}: {scores[1]*100}')\u001b[0m\u001b[0;34m\u001b[0m\u001b[0;34m\u001b[0m\u001b[0;34m\u001b[0m\u001b[0m\n",
      "\u001b[0;32m/usr/local/lib/python3.6/dist-packages/tensorflow_core/python/keras/engine/training.py\u001b[0m in \u001b[0;36mfit\u001b[0;34m(self, x, y, batch_size, epochs, verbose, callbacks, validation_split, validation_data, shuffle, class_weight, sample_weight, initial_epoch, steps_per_epoch, validation_steps, validation_freq, max_queue_size, workers, use_multiprocessing, **kwargs)\u001b[0m\n\u001b[1;32m    726\u001b[0m         \u001b[0mmax_queue_size\u001b[0m\u001b[0;34m=\u001b[0m\u001b[0mmax_queue_size\u001b[0m\u001b[0;34m,\u001b[0m\u001b[0;34m\u001b[0m\u001b[0;34m\u001b[0m\u001b[0m\n\u001b[1;32m    727\u001b[0m         \u001b[0mworkers\u001b[0m\u001b[0;34m=\u001b[0m\u001b[0mworkers\u001b[0m\u001b[0;34m,\u001b[0m\u001b[0;34m\u001b[0m\u001b[0;34m\u001b[0m\u001b[0m\n\u001b[0;32m--> 728\u001b[0;31m         use_multiprocessing=use_multiprocessing)\n\u001b[0m\u001b[1;32m    729\u001b[0m \u001b[0;34m\u001b[0m\u001b[0m\n\u001b[1;32m    730\u001b[0m   def evaluate(self,\n",
      "\u001b[0;32m/usr/local/lib/python3.6/dist-packages/tensorflow_core/python/keras/engine/training_v2.py\u001b[0m in \u001b[0;36mfit\u001b[0;34m(self, model, x, y, batch_size, epochs, verbose, callbacks, validation_split, validation_data, shuffle, class_weight, sample_weight, initial_epoch, steps_per_epoch, validation_steps, validation_freq, **kwargs)\u001b[0m\n\u001b[1;32m    322\u001b[0m                 \u001b[0mmode\u001b[0m\u001b[0;34m=\u001b[0m\u001b[0mModeKeys\u001b[0m\u001b[0;34m.\u001b[0m\u001b[0mTRAIN\u001b[0m\u001b[0;34m,\u001b[0m\u001b[0;34m\u001b[0m\u001b[0;34m\u001b[0m\u001b[0m\n\u001b[1;32m    323\u001b[0m                 \u001b[0mtraining_context\u001b[0m\u001b[0;34m=\u001b[0m\u001b[0mtraining_context\u001b[0m\u001b[0;34m,\u001b[0m\u001b[0;34m\u001b[0m\u001b[0;34m\u001b[0m\u001b[0m\n\u001b[0;32m--> 324\u001b[0;31m                 total_epochs=epochs)\n\u001b[0m\u001b[1;32m    325\u001b[0m             \u001b[0mcbks\u001b[0m\u001b[0;34m.\u001b[0m\u001b[0mmake_logs\u001b[0m\u001b[0;34m(\u001b[0m\u001b[0mmodel\u001b[0m\u001b[0;34m,\u001b[0m \u001b[0mepoch_logs\u001b[0m\u001b[0;34m,\u001b[0m \u001b[0mtraining_result\u001b[0m\u001b[0;34m,\u001b[0m \u001b[0mModeKeys\u001b[0m\u001b[0;34m.\u001b[0m\u001b[0mTRAIN\u001b[0m\u001b[0;34m)\u001b[0m\u001b[0;34m\u001b[0m\u001b[0;34m\u001b[0m\u001b[0m\n\u001b[1;32m    326\u001b[0m \u001b[0;34m\u001b[0m\u001b[0m\n",
      "\u001b[0;32m/usr/local/lib/python3.6/dist-packages/tensorflow_core/python/keras/engine/training_v2.py\u001b[0m in \u001b[0;36mrun_one_epoch\u001b[0;34m(model, iterator, execution_function, dataset_size, batch_size, strategy, steps_per_epoch, num_samples, mode, training_context, total_epochs)\u001b[0m\n\u001b[1;32m    121\u001b[0m         step=step, mode=mode, size=current_batch_size) as batch_logs:\n\u001b[1;32m    122\u001b[0m       \u001b[0;32mtry\u001b[0m\u001b[0;34m:\u001b[0m\u001b[0;34m\u001b[0m\u001b[0;34m\u001b[0m\u001b[0m\n\u001b[0;32m--> 123\u001b[0;31m         \u001b[0mbatch_outs\u001b[0m \u001b[0;34m=\u001b[0m \u001b[0mexecution_function\u001b[0m\u001b[0;34m(\u001b[0m\u001b[0miterator\u001b[0m\u001b[0;34m)\u001b[0m\u001b[0;34m\u001b[0m\u001b[0;34m\u001b[0m\u001b[0m\n\u001b[0m\u001b[1;32m    124\u001b[0m       \u001b[0;32mexcept\u001b[0m \u001b[0;34m(\u001b[0m\u001b[0mStopIteration\u001b[0m\u001b[0;34m,\u001b[0m \u001b[0merrors\u001b[0m\u001b[0;34m.\u001b[0m\u001b[0mOutOfRangeError\u001b[0m\u001b[0;34m)\u001b[0m\u001b[0;34m:\u001b[0m\u001b[0;34m\u001b[0m\u001b[0;34m\u001b[0m\u001b[0m\n\u001b[1;32m    125\u001b[0m         \u001b[0;31m# TODO(kaftan): File bug about tf function and errors.OutOfRangeError?\u001b[0m\u001b[0;34m\u001b[0m\u001b[0;34m\u001b[0m\u001b[0;34m\u001b[0m\u001b[0m\n",
      "\u001b[0;32m/usr/local/lib/python3.6/dist-packages/tensorflow_core/python/keras/engine/training_v2_utils.py\u001b[0m in \u001b[0;36mexecution_function\u001b[0;34m(input_fn)\u001b[0m\n\u001b[1;32m     84\u001b[0m     \u001b[0;31m# `numpy` translates Tensors to values in Eager mode.\u001b[0m\u001b[0;34m\u001b[0m\u001b[0;34m\u001b[0m\u001b[0;34m\u001b[0m\u001b[0m\n\u001b[1;32m     85\u001b[0m     return nest.map_structure(_non_none_constant_value,\n\u001b[0;32m---> 86\u001b[0;31m                               distributed_function(input_fn))\n\u001b[0m\u001b[1;32m     87\u001b[0m \u001b[0;34m\u001b[0m\u001b[0m\n\u001b[1;32m     88\u001b[0m   \u001b[0;32mreturn\u001b[0m \u001b[0mexecution_function\u001b[0m\u001b[0;34m\u001b[0m\u001b[0;34m\u001b[0m\u001b[0m\n",
      "\u001b[0;32m/usr/local/lib/python3.6/dist-packages/tensorflow_core/python/eager/def_function.py\u001b[0m in \u001b[0;36m__call__\u001b[0;34m(self, *args, **kwds)\u001b[0m\n\u001b[1;32m    455\u001b[0m \u001b[0;34m\u001b[0m\u001b[0m\n\u001b[1;32m    456\u001b[0m     \u001b[0mtracing_count\u001b[0m \u001b[0;34m=\u001b[0m \u001b[0mself\u001b[0m\u001b[0;34m.\u001b[0m\u001b[0m_get_tracing_count\u001b[0m\u001b[0;34m(\u001b[0m\u001b[0;34m)\u001b[0m\u001b[0;34m\u001b[0m\u001b[0;34m\u001b[0m\u001b[0m\n\u001b[0;32m--> 457\u001b[0;31m     \u001b[0mresult\u001b[0m \u001b[0;34m=\u001b[0m \u001b[0mself\u001b[0m\u001b[0;34m.\u001b[0m\u001b[0m_call\u001b[0m\u001b[0;34m(\u001b[0m\u001b[0;34m*\u001b[0m\u001b[0margs\u001b[0m\u001b[0;34m,\u001b[0m \u001b[0;34m**\u001b[0m\u001b[0mkwds\u001b[0m\u001b[0;34m)\u001b[0m\u001b[0;34m\u001b[0m\u001b[0;34m\u001b[0m\u001b[0m\n\u001b[0m\u001b[1;32m    458\u001b[0m     \u001b[0;32mif\u001b[0m \u001b[0mtracing_count\u001b[0m \u001b[0;34m==\u001b[0m \u001b[0mself\u001b[0m\u001b[0;34m.\u001b[0m\u001b[0m_get_tracing_count\u001b[0m\u001b[0;34m(\u001b[0m\u001b[0;34m)\u001b[0m\u001b[0;34m:\u001b[0m\u001b[0;34m\u001b[0m\u001b[0;34m\u001b[0m\u001b[0m\n\u001b[1;32m    459\u001b[0m       \u001b[0mself\u001b[0m\u001b[0;34m.\u001b[0m\u001b[0m_call_counter\u001b[0m\u001b[0;34m.\u001b[0m\u001b[0mcalled_without_tracing\u001b[0m\u001b[0;34m(\u001b[0m\u001b[0;34m)\u001b[0m\u001b[0;34m\u001b[0m\u001b[0;34m\u001b[0m\u001b[0m\n",
      "\u001b[0;32m/usr/local/lib/python3.6/dist-packages/tensorflow_core/python/eager/def_function.py\u001b[0m in \u001b[0;36m_call\u001b[0;34m(self, *args, **kwds)\u001b[0m\n\u001b[1;32m    485\u001b[0m       \u001b[0;31m# In this case we have created variables on the first call, so we run the\u001b[0m\u001b[0;34m\u001b[0m\u001b[0;34m\u001b[0m\u001b[0;34m\u001b[0m\u001b[0m\n\u001b[1;32m    486\u001b[0m       \u001b[0;31m# defunned version which is guaranteed to never create variables.\u001b[0m\u001b[0;34m\u001b[0m\u001b[0;34m\u001b[0m\u001b[0;34m\u001b[0m\u001b[0m\n\u001b[0;32m--> 487\u001b[0;31m       \u001b[0;32mreturn\u001b[0m \u001b[0mself\u001b[0m\u001b[0;34m.\u001b[0m\u001b[0m_stateless_fn\u001b[0m\u001b[0;34m(\u001b[0m\u001b[0;34m*\u001b[0m\u001b[0margs\u001b[0m\u001b[0;34m,\u001b[0m \u001b[0;34m**\u001b[0m\u001b[0mkwds\u001b[0m\u001b[0;34m)\u001b[0m  \u001b[0;31m# pylint: disable=not-callable\u001b[0m\u001b[0;34m\u001b[0m\u001b[0;34m\u001b[0m\u001b[0m\n\u001b[0m\u001b[1;32m    488\u001b[0m     \u001b[0;32melif\u001b[0m \u001b[0mself\u001b[0m\u001b[0;34m.\u001b[0m\u001b[0m_stateful_fn\u001b[0m \u001b[0;32mis\u001b[0m \u001b[0;32mnot\u001b[0m \u001b[0;32mNone\u001b[0m\u001b[0;34m:\u001b[0m\u001b[0;34m\u001b[0m\u001b[0;34m\u001b[0m\u001b[0m\n\u001b[1;32m    489\u001b[0m       \u001b[0;31m# Release the lock early so that multiple threads can perform the call\u001b[0m\u001b[0;34m\u001b[0m\u001b[0;34m\u001b[0m\u001b[0;34m\u001b[0m\u001b[0m\n",
      "\u001b[0;32m/usr/local/lib/python3.6/dist-packages/tensorflow_core/python/eager/function.py\u001b[0m in \u001b[0;36m__call__\u001b[0;34m(self, *args, **kwargs)\u001b[0m\n\u001b[1;32m   1821\u001b[0m     \u001b[0;34m\"\"\"Calls a graph function specialized to the inputs.\"\"\"\u001b[0m\u001b[0;34m\u001b[0m\u001b[0;34m\u001b[0m\u001b[0m\n\u001b[1;32m   1822\u001b[0m     \u001b[0mgraph_function\u001b[0m\u001b[0;34m,\u001b[0m \u001b[0margs\u001b[0m\u001b[0;34m,\u001b[0m \u001b[0mkwargs\u001b[0m \u001b[0;34m=\u001b[0m \u001b[0mself\u001b[0m\u001b[0;34m.\u001b[0m\u001b[0m_maybe_define_function\u001b[0m\u001b[0;34m(\u001b[0m\u001b[0margs\u001b[0m\u001b[0;34m,\u001b[0m \u001b[0mkwargs\u001b[0m\u001b[0;34m)\u001b[0m\u001b[0;34m\u001b[0m\u001b[0;34m\u001b[0m\u001b[0m\n\u001b[0;32m-> 1823\u001b[0;31m     \u001b[0;32mreturn\u001b[0m \u001b[0mgraph_function\u001b[0m\u001b[0;34m.\u001b[0m\u001b[0m_filtered_call\u001b[0m\u001b[0;34m(\u001b[0m\u001b[0margs\u001b[0m\u001b[0;34m,\u001b[0m \u001b[0mkwargs\u001b[0m\u001b[0;34m)\u001b[0m  \u001b[0;31m# pylint: disable=protected-access\u001b[0m\u001b[0;34m\u001b[0m\u001b[0;34m\u001b[0m\u001b[0m\n\u001b[0m\u001b[1;32m   1824\u001b[0m \u001b[0;34m\u001b[0m\u001b[0m\n\u001b[1;32m   1825\u001b[0m   \u001b[0;34m@\u001b[0m\u001b[0mproperty\u001b[0m\u001b[0;34m\u001b[0m\u001b[0;34m\u001b[0m\u001b[0m\n",
      "\u001b[0;32m/usr/local/lib/python3.6/dist-packages/tensorflow_core/python/eager/function.py\u001b[0m in \u001b[0;36m_filtered_call\u001b[0;34m(self, args, kwargs)\u001b[0m\n\u001b[1;32m   1139\u001b[0m          if isinstance(t, (ops.Tensor,\n\u001b[1;32m   1140\u001b[0m                            resource_variable_ops.BaseResourceVariable))),\n\u001b[0;32m-> 1141\u001b[0;31m         self.captured_inputs)\n\u001b[0m\u001b[1;32m   1142\u001b[0m \u001b[0;34m\u001b[0m\u001b[0m\n\u001b[1;32m   1143\u001b[0m   \u001b[0;32mdef\u001b[0m \u001b[0m_call_flat\u001b[0m\u001b[0;34m(\u001b[0m\u001b[0mself\u001b[0m\u001b[0;34m,\u001b[0m \u001b[0margs\u001b[0m\u001b[0;34m,\u001b[0m \u001b[0mcaptured_inputs\u001b[0m\u001b[0;34m,\u001b[0m \u001b[0mcancellation_manager\u001b[0m\u001b[0;34m=\u001b[0m\u001b[0;32mNone\u001b[0m\u001b[0;34m)\u001b[0m\u001b[0;34m:\u001b[0m\u001b[0;34m\u001b[0m\u001b[0;34m\u001b[0m\u001b[0m\n",
      "\u001b[0;32m/usr/local/lib/python3.6/dist-packages/tensorflow_core/python/eager/function.py\u001b[0m in \u001b[0;36m_call_flat\u001b[0;34m(self, args, captured_inputs, cancellation_manager)\u001b[0m\n\u001b[1;32m   1222\u001b[0m     \u001b[0;32mif\u001b[0m \u001b[0mexecuting_eagerly\u001b[0m\u001b[0;34m:\u001b[0m\u001b[0;34m\u001b[0m\u001b[0;34m\u001b[0m\u001b[0m\n\u001b[1;32m   1223\u001b[0m       flat_outputs = forward_function.call(\n\u001b[0;32m-> 1224\u001b[0;31m           ctx, args, cancellation_manager=cancellation_manager)\n\u001b[0m\u001b[1;32m   1225\u001b[0m     \u001b[0;32melse\u001b[0m\u001b[0;34m:\u001b[0m\u001b[0;34m\u001b[0m\u001b[0;34m\u001b[0m\u001b[0m\n\u001b[1;32m   1226\u001b[0m       \u001b[0mgradient_name\u001b[0m \u001b[0;34m=\u001b[0m \u001b[0mself\u001b[0m\u001b[0;34m.\u001b[0m\u001b[0m_delayed_rewrite_functions\u001b[0m\u001b[0;34m.\u001b[0m\u001b[0mregister\u001b[0m\u001b[0;34m(\u001b[0m\u001b[0;34m)\u001b[0m\u001b[0;34m\u001b[0m\u001b[0;34m\u001b[0m\u001b[0m\n",
      "\u001b[0;32m/usr/local/lib/python3.6/dist-packages/tensorflow_core/python/eager/function.py\u001b[0m in \u001b[0;36mcall\u001b[0;34m(self, ctx, args, cancellation_manager)\u001b[0m\n\u001b[1;32m    509\u001b[0m               \u001b[0minputs\u001b[0m\u001b[0;34m=\u001b[0m\u001b[0margs\u001b[0m\u001b[0;34m,\u001b[0m\u001b[0;34m\u001b[0m\u001b[0;34m\u001b[0m\u001b[0m\n\u001b[1;32m    510\u001b[0m               \u001b[0mattrs\u001b[0m\u001b[0;34m=\u001b[0m\u001b[0;34m(\u001b[0m\u001b[0;34m\"executor_type\"\u001b[0m\u001b[0;34m,\u001b[0m \u001b[0mexecutor_type\u001b[0m\u001b[0;34m,\u001b[0m \u001b[0;34m\"config_proto\"\u001b[0m\u001b[0;34m,\u001b[0m \u001b[0mconfig\u001b[0m\u001b[0;34m)\u001b[0m\u001b[0;34m,\u001b[0m\u001b[0;34m\u001b[0m\u001b[0;34m\u001b[0m\u001b[0m\n\u001b[0;32m--> 511\u001b[0;31m               ctx=ctx)\n\u001b[0m\u001b[1;32m    512\u001b[0m         \u001b[0;32melse\u001b[0m\u001b[0;34m:\u001b[0m\u001b[0;34m\u001b[0m\u001b[0;34m\u001b[0m\u001b[0m\n\u001b[1;32m    513\u001b[0m           outputs = execute.execute_with_cancellation(\n",
      "\u001b[0;32m/usr/local/lib/python3.6/dist-packages/tensorflow_core/python/eager/execute.py\u001b[0m in \u001b[0;36mquick_execute\u001b[0;34m(op_name, num_outputs, inputs, attrs, ctx, name)\u001b[0m\n\u001b[1;32m     59\u001b[0m     tensors = pywrap_tensorflow.TFE_Py_Execute(ctx._handle, device_name,\n\u001b[1;32m     60\u001b[0m                                                \u001b[0mop_name\u001b[0m\u001b[0;34m,\u001b[0m \u001b[0minputs\u001b[0m\u001b[0;34m,\u001b[0m \u001b[0mattrs\u001b[0m\u001b[0;34m,\u001b[0m\u001b[0;34m\u001b[0m\u001b[0;34m\u001b[0m\u001b[0m\n\u001b[0;32m---> 61\u001b[0;31m                                                num_outputs)\n\u001b[0m\u001b[1;32m     62\u001b[0m   \u001b[0;32mexcept\u001b[0m \u001b[0mcore\u001b[0m\u001b[0;34m.\u001b[0m\u001b[0m_NotOkStatusException\u001b[0m \u001b[0;32mas\u001b[0m \u001b[0me\u001b[0m\u001b[0;34m:\u001b[0m\u001b[0;34m\u001b[0m\u001b[0;34m\u001b[0m\u001b[0m\n\u001b[1;32m     63\u001b[0m     \u001b[0;32mif\u001b[0m \u001b[0mname\u001b[0m \u001b[0;32mis\u001b[0m \u001b[0;32mnot\u001b[0m \u001b[0;32mNone\u001b[0m\u001b[0;34m:\u001b[0m\u001b[0;34m\u001b[0m\u001b[0;34m\u001b[0m\u001b[0m\n",
      "\u001b[0;31mKeyboardInterrupt\u001b[0m: "
     ]
    }
   ],
   "source": [
    "history = mnist_model.fit(X_train, y_train, batch_size=32, epochs=100, verbose=False)\n",
    "scores = mnist_model.evaluate(X_test, y_test)\n",
    "#print(f'{mnist_model.metrics_names[1]}: {scores[1]*100}')"
   ]
  },
  {
   "cell_type": "markdown",
   "metadata": {
    "colab_type": "text",
    "id": "CKmx8153w9Ci"
   },
   "source": [
    "### Dropout Regularization\n",
    "\n",
    "![Regularization](https://upload.wikimedia.org/wikipedia/commons/thumb/0/02/Regularization.svg/354px-Regularization.svg.png)"
   ]
  },
  {
   "cell_type": "code",
   "execution_count": null,
   "metadata": {},
   "outputs": [],
   "source": [
    "### Let's do it!\n",
    "from tensorflow import keras \n",
    "from tensorflow.keras.datasets import mnist\n",
    "from tensorflow.keras.models import Sequential\n",
    "from tensorflow.keras.layers import Dense, Dropout\n",
    "\n",
    "import numpy as np\n",
    "\n",
    "mnist_model = Sequential()\n",
    "\n",
    "# Hidden\n",
    "mnist_model.add(Dense(32, input_dim=784, activation='relu'))\n",
    "mnist_model.add(Dropout(0.2))\n",
    "mnist_model.add(Dense(16, activation='relu'))\n",
    "mnist_model.add(Dropout(0.2))\n",
    "# Output Layer\n",
    "mnist_model.add(Dense(10, activation='softmax'))\n",
    "\n",
    "mnist_model.compile(loss='categorical_crossentropy',\n",
    "                    optimizer='adam', \n",
    "                    metrics=['accuracy'])\n",
    "mnist_model.summary()"
   ]
  },
  {
   "cell_type": "code",
   "execution_count": null,
   "metadata": {},
   "outputs": [],
   "source": [
    "history = mnist_model.fit(X_train, y_train, batch_size=32, epochs=epochs, validation_split=.1, verbose=0)\n",
    "scores = mnist_model.evaluate(X_test, y_test)\n",
    "print(f'{mnist_model.metrics_names[1]}: {scores[1]*100}')"
   ]
  },
  {
   "cell_type": "markdown",
   "metadata": {},
   "source": [
    "## Challenge\n",
    "\n",
    "You will apply your choice of activation function inside two Keras Seqeuntial models today. "
   ]
  }
 ],
 "metadata": {
  "colab": {
   "collapsed_sections": [],
   "name": "LS_DS_433_Keras_Lecture.ipynb",
   "provenance": [],
   "version": "0.3.2"
  },
  "kernelspec": {
   "display_name": "conda_tensorflow_p36",
   "language": "python",
   "name": "conda_tensorflow_p36"
  },
  "language_info": {
   "codemirror_mode": {
    "name": "ipython",
    "version": 3
   },
   "file_extension": ".py",
   "mimetype": "text/x-python",
   "name": "python",
   "nbconvert_exporter": "python",
   "pygments_lexer": "ipython3",
   "version": "3.6.5"
  },
  "toc-autonumbering": false,
  "toc-showmarkdowntxt": false
 },
 "nbformat": 4,
 "nbformat_minor": 4
}
