{
 "cells": [
  {
   "cell_type": "markdown",
   "metadata": {
    "colab_type": "text",
    "id": "HJzTIkYAsLxw"
   },
   "source": [
    "<img align=\"left\" src=\"https://lever-client-logos.s3.amazonaws.com/864372b1-534c-480e-acd5-9711f850815c-1524247202159.png\" width=200>\n",
    "<br></br>\n",
    "\n",
    "# Neural Network Frameworks (Keras)\n",
    "\n",
    "## *Data Science Unit 4 Sprint 2 Lesson 3*\n",
    "\n",
    "# Lets Use Libraries!\n",
    "\n",
    "The objective of the last two days has been to familiarize you with the fundamentals of neural networks: terminology, structure of networks, forward propagation, error/cost functions, backpropagation, epochs, and gradient descent. We have tried to reinforce these topics by requiring to you code some of the simplest neural networks by hand including Perceptrons (single node neural networks) and Multi-Layer Perceptrons also known as Feed-Forward Neural Networks. Continuing to do things by hand would not be the best use of our limited time. You're ready to graduate from doing things by hand and start using some powerful libraries to build cutting-edge predictive models. "
   ]
  },
  {
   "cell_type": "markdown",
   "metadata": {
    "colab_type": "text",
    "id": "MFYCXc5KdkPE"
   },
   "source": [
    "# Keras\n",
    "\n",
    "> \"Keras is a high-level neural networks API, written in Python and capable of running on top of TensorFlow, CNTK, or Theano. It was developed with a focus on enabling fast experimentation. Being able to go from idea to result with the least possible delay is key to doing good research. Use Keras if you need a deep learning library that:\n",
    "\n",
    "> Allows for easy and fast prototyping (through user friendliness, modularity, and extensibility).\n",
    "Supports both convolutional networks and recurrent networks, as well as combinations of the two.\n",
    "Runs seamlessly on CPU and GPU.\" "
   ]
  },
  {
   "cell_type": "code",
   "execution_count": 24,
   "metadata": {
    "colab": {},
    "colab_type": "code",
    "id": "QEncs0SOsFMT"
   },
   "outputs": [
    {
     "data": {
      "text/plain": [
       "'1.14.0'"
      ]
     },
     "execution_count": 24,
     "metadata": {},
     "output_type": "execute_result"
    }
   ],
   "source": [
    "# Use pip freeze to see what packages/libraries your notebook has access to\n",
    "# !pip freeze\n",
    "\n",
    "import tensorflow\n",
    "tensorflow.__version__"
   ]
  },
  {
   "cell_type": "markdown",
   "metadata": {
    "colab_type": "text",
    "id": "VxgUUpIKn54a"
   },
   "source": [
    "## Our First Keras Model - Perceptron, Batch epochs\n",
    "\n",
    "1) Load Data\n",
    "\n",
    "2) Define Model\n",
    "\n",
    "3) Compile Model\n",
    "\n",
    "4) Fit Model\n",
    "\n",
    "5) Evaluate Model"
   ]
  },
  {
   "cell_type": "markdown",
   "metadata": {
    "colab_type": "text",
    "id": "Md5D67XwqVAf"
   },
   "source": [
    "### Load Data\n",
    "\n",
    "Our life is going to be easier if our data is already cleaned up and numeric, so lets use this dataset from Jason Brownlee that is already numeric and has no column headers so we'll need to slice off the last column of data to act as our y values."
   ]
  },
  {
   "cell_type": "code",
   "execution_count": 25,
   "metadata": {
    "colab": {
     "base_uri": "https://localhost:8080/",
     "height": 109,
     "resources": {
      "http://localhost:8080/nbextensions/google.colab/files.js": {
       "data": "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",
       "headers": [
        [
         "content-type",
         "application/javascript"
        ]
       ],
       "ok": true,
       "status": 200,
       "status_text": ""
      }
     }
    },
    "colab_type": "code",
    "id": "bn09phMBpY1J",
    "outputId": "1c45fb6a-e3cb-4ec1-fb85-de52b3c60bae"
   },
   "outputs": [],
   "source": [
    "import pandas as pd\n",
    "\n",
    "url =\"https://raw.githubusercontent.com/jbrownlee/Datasets/master/pima-indians-diabetes.data.csv\"\n",
    "\n",
    "dataset = pd.read_csv(url, header=None)"
   ]
  },
  {
   "cell_type": "code",
   "execution_count": 26,
   "metadata": {},
   "outputs": [
    {
     "data": {
      "text/html": [
       "<div>\n",
       "<style scoped>\n",
       "    .dataframe tbody tr th:only-of-type {\n",
       "        vertical-align: middle;\n",
       "    }\n",
       "\n",
       "    .dataframe tbody tr th {\n",
       "        vertical-align: top;\n",
       "    }\n",
       "\n",
       "    .dataframe thead th {\n",
       "        text-align: right;\n",
       "    }\n",
       "</style>\n",
       "<table border=\"1\" class=\"dataframe\">\n",
       "  <thead>\n",
       "    <tr style=\"text-align: right;\">\n",
       "      <th></th>\n",
       "      <th>0</th>\n",
       "      <th>1</th>\n",
       "      <th>2</th>\n",
       "      <th>3</th>\n",
       "      <th>4</th>\n",
       "      <th>5</th>\n",
       "      <th>6</th>\n",
       "      <th>7</th>\n",
       "      <th>8</th>\n",
       "    </tr>\n",
       "  </thead>\n",
       "  <tbody>\n",
       "    <tr>\n",
       "      <th>0</th>\n",
       "      <td>6</td>\n",
       "      <td>148</td>\n",
       "      <td>72</td>\n",
       "      <td>35</td>\n",
       "      <td>0</td>\n",
       "      <td>33.6</td>\n",
       "      <td>0.627</td>\n",
       "      <td>50</td>\n",
       "      <td>1</td>\n",
       "    </tr>\n",
       "    <tr>\n",
       "      <th>1</th>\n",
       "      <td>1</td>\n",
       "      <td>85</td>\n",
       "      <td>66</td>\n",
       "      <td>29</td>\n",
       "      <td>0</td>\n",
       "      <td>26.6</td>\n",
       "      <td>0.351</td>\n",
       "      <td>31</td>\n",
       "      <td>0</td>\n",
       "    </tr>\n",
       "    <tr>\n",
       "      <th>2</th>\n",
       "      <td>8</td>\n",
       "      <td>183</td>\n",
       "      <td>64</td>\n",
       "      <td>0</td>\n",
       "      <td>0</td>\n",
       "      <td>23.3</td>\n",
       "      <td>0.672</td>\n",
       "      <td>32</td>\n",
       "      <td>1</td>\n",
       "    </tr>\n",
       "    <tr>\n",
       "      <th>3</th>\n",
       "      <td>1</td>\n",
       "      <td>89</td>\n",
       "      <td>66</td>\n",
       "      <td>23</td>\n",
       "      <td>94</td>\n",
       "      <td>28.1</td>\n",
       "      <td>0.167</td>\n",
       "      <td>21</td>\n",
       "      <td>0</td>\n",
       "    </tr>\n",
       "    <tr>\n",
       "      <th>4</th>\n",
       "      <td>0</td>\n",
       "      <td>137</td>\n",
       "      <td>40</td>\n",
       "      <td>35</td>\n",
       "      <td>168</td>\n",
       "      <td>43.1</td>\n",
       "      <td>2.288</td>\n",
       "      <td>33</td>\n",
       "      <td>1</td>\n",
       "    </tr>\n",
       "  </tbody>\n",
       "</table>\n",
       "</div>"
      ],
      "text/plain": [
       "   0    1   2   3    4     5      6   7  8\n",
       "0  6  148  72  35    0  33.6  0.627  50  1\n",
       "1  1   85  66  29    0  26.6  0.351  31  0\n",
       "2  8  183  64   0    0  23.3  0.672  32  1\n",
       "3  1   89  66  23   94  28.1  0.167  21  0\n",
       "4  0  137  40  35  168  43.1  2.288  33  1"
      ]
     },
     "execution_count": 26,
     "metadata": {},
     "output_type": "execute_result"
    }
   ],
   "source": [
    "dataset.head()"
   ]
  },
  {
   "cell_type": "code",
   "execution_count": 27,
   "metadata": {
    "colab": {
     "base_uri": "https://localhost:8080/",
     "height": 725
    },
    "colab_type": "code",
    "id": "FKuofD3Pogil",
    "outputId": "16c2f4fa-93c8-491d-b339-9f35f7918621"
   },
   "outputs": [
    {
     "name": "stdout",
     "output_type": "stream",
     "text": [
      "(768, 8)\n",
      "[[  6.    148.     72.    ...  33.6     0.627  50.   ]\n",
      " [  1.     85.     66.    ...  26.6     0.351  31.   ]\n",
      " [  8.    183.     64.    ...  23.3     0.672  32.   ]\n",
      " ...\n",
      " [  5.    121.     72.    ...  26.2     0.245  30.   ]\n",
      " [  1.    126.     60.    ...  30.1     0.349  47.   ]\n",
      " [  1.     93.     70.    ...  30.4     0.315  23.   ]]\n"
     ]
    }
   ],
   "source": [
    "X = dataset.values[:,0:8]\n",
    "print(X.shape)\n",
    "print(X)"
   ]
  },
  {
   "cell_type": "code",
   "execution_count": 28,
   "metadata": {},
   "outputs": [
    {
     "name": "stdout",
     "output_type": "stream",
     "text": [
      "(768,)\n",
      "[1. 0. 1. 0. 1. 0. 1. 0. 1. 1. 0. 1. 0. 1. 1. 1. 1. 1. 0. 1. 0. 0. 1. 1.\n",
      " 1. 1. 1. 0. 0. 0. 0. 1. 0. 0. 0. 0. 0. 1. 1. 1. 0. 0. 0. 1. 0. 1. 0. 0.\n",
      " 1. 0. 0. 0. 0. 1. 0. 0. 1. 0. 0. 0. 0. 1. 0. 0. 1. 0. 1. 0. 0. 0. 1. 0.\n",
      " 1. 0. 0. 0. 0. 0. 1. 0. 0. 0. 0. 0. 1. 0. 0. 0. 1. 0. 0. 0. 0. 1. 0. 0.\n",
      " 0. 0. 0. 1. 1. 0. 0. 0. 0. 0. 0. 0. 0. 1. 1. 1. 0. 0. 1. 1. 1. 0. 0. 0.\n",
      " 1. 0. 0. 0. 1. 1. 0. 0. 1. 1. 1. 1. 1. 0. 0. 0. 0. 0. 0. 0. 0. 0. 0. 1.\n",
      " 0. 0. 0. 0. 0. 0. 0. 0. 1. 0. 1. 1. 0. 0. 0. 1. 0. 0. 0. 0. 1. 1. 0. 0.\n",
      " 0. 0. 1. 1. 0. 0. 0. 1. 0. 1. 0. 1. 0. 0. 0. 0. 0. 1. 1. 1. 1. 1. 0. 0.\n",
      " 1. 1. 0. 1. 0. 1. 1. 1. 0. 0. 0. 0. 0. 0. 1. 1. 0. 1. 0. 0. 0. 1. 1. 1.\n",
      " 1. 0. 1. 1. 1. 1. 0. 0. 0. 0. 0. 1. 0. 0. 1. 1. 0. 0. 0. 1. 1. 1. 1. 0.\n",
      " 0. 0. 1. 1. 0. 1. 0. 0. 0. 0. 0. 0. 0. 0. 1. 1. 0. 0. 0. 1. 0. 1. 0. 0.\n",
      " 1. 0. 1. 0. 0. 1. 1. 0. 0. 0. 0. 0. 1. 0. 0. 0. 1. 0. 0. 1. 1. 0. 0. 1.\n",
      " 0. 0. 0. 1. 1. 1. 0. 0. 1. 0. 1. 0. 1. 1. 0. 1. 0. 0. 1. 0. 1. 1. 0. 0.\n",
      " 1. 0. 1. 0. 0. 1. 0. 1. 0. 1. 1. 1. 0. 0. 1. 0. 1. 0. 0. 0. 1. 0. 0. 0.\n",
      " 0. 1. 1. 1. 0. 0. 0. 0. 0. 0. 0. 0. 0. 1. 0. 0. 0. 0. 0. 1. 1. 1. 0. 1.\n",
      " 1. 0. 0. 1. 0. 0. 1. 0. 0. 1. 1. 0. 0. 0. 0. 1. 0. 0. 1. 0. 0. 0. 0. 0.\n",
      " 0. 0. 1. 1. 1. 0. 0. 1. 0. 0. 1. 0. 0. 1. 0. 1. 1. 0. 1. 0. 1. 0. 1. 0.\n",
      " 1. 1. 0. 0. 0. 0. 1. 1. 0. 1. 0. 1. 0. 0. 0. 0. 1. 1. 0. 1. 0. 1. 0. 0.\n",
      " 0. 0. 0. 1. 0. 0. 0. 0. 1. 0. 0. 1. 1. 1. 0. 0. 1. 0. 0. 1. 0. 0. 0. 1.\n",
      " 0. 0. 1. 0. 0. 0. 0. 0. 0. 0. 0. 0. 1. 0. 0. 0. 0. 0. 0. 0. 1. 0. 0. 0.\n",
      " 1. 0. 0. 0. 1. 1. 0. 0. 0. 0. 0. 0. 0. 1. 0. 0. 0. 0. 1. 0. 0. 0. 1. 0.\n",
      " 0. 0. 1. 0. 0. 0. 1. 0. 0. 0. 0. 1. 1. 0. 0. 0. 0. 0. 0. 1. 0. 0. 0. 0.\n",
      " 0. 0. 0. 0. 0. 0. 0. 1. 0. 0. 0. 1. 1. 1. 1. 0. 0. 1. 1. 0. 0. 0. 0. 0.\n",
      " 0. 0. 0. 0. 0. 0. 0. 0. 1. 1. 0. 0. 0. 0. 0. 0. 0. 1. 0. 0. 0. 0. 0. 0.\n",
      " 0. 1. 0. 1. 1. 0. 0. 0. 1. 0. 1. 0. 1. 0. 1. 0. 1. 0. 0. 1. 0. 0. 1. 0.\n",
      " 0. 0. 0. 1. 1. 0. 1. 0. 0. 0. 0. 1. 1. 0. 1. 0. 0. 0. 1. 1. 0. 0. 0. 0.\n",
      " 0. 0. 0. 0. 0. 0. 1. 0. 0. 0. 0. 1. 0. 0. 1. 0. 0. 0. 1. 0. 0. 0. 1. 1.\n",
      " 1. 0. 0. 0. 0. 0. 0. 1. 0. 0. 0. 1. 0. 1. 1. 1. 1. 0. 1. 1. 0. 0. 0. 0.\n",
      " 0. 0. 0. 1. 1. 0. 1. 0. 0. 1. 0. 1. 0. 0. 0. 0. 0. 1. 0. 1. 0. 1. 0. 1.\n",
      " 1. 0. 0. 0. 0. 1. 1. 0. 0. 0. 1. 0. 1. 1. 0. 0. 1. 0. 0. 1. 1. 0. 0. 1.\n",
      " 0. 0. 1. 0. 0. 0. 0. 0. 0. 0. 1. 1. 1. 0. 0. 0. 0. 0. 0. 1. 1. 0. 0. 1.\n",
      " 0. 0. 1. 0. 1. 1. 1. 0. 0. 1. 1. 1. 0. 1. 0. 1. 0. 1. 0. 0. 0. 0. 1. 0.]\n"
     ]
    }
   ],
   "source": [
    "y = dataset.values[:,-1]\n",
    "print(y.shape)\n",
    "print(y)"
   ]
  },
  {
   "cell_type": "markdown",
   "metadata": {
    "colab_type": "text",
    "id": "o0xMqOyTs5xt"
   },
   "source": [
    "### Define Model"
   ]
  },
  {
   "cell_type": "markdown",
   "metadata": {
    "colab_type": "text",
    "id": "wAzHLg27thoN"
   },
   "source": [
    "I'll instantiate my model as a \"sequential\" model. This just means that I'm going to tell Keras what my model's architecture should be one layer at a time."
   ]
  },
  {
   "cell_type": "code",
   "execution_count": 29,
   "metadata": {
    "colab": {},
    "colab_type": "code",
    "id": "DSNsL49Xp6KI"
   },
   "outputs": [],
   "source": [
    "from tensorflow.keras.models import Sequential\n",
    "\n",
    "# https://keras.io/getting-started/sequential-model-guide/\n",
    "model = Sequential()"
   ]
  },
  {
   "cell_type": "markdown",
   "metadata": {
    "colab_type": "text",
    "id": "ZCYX6QzJtvpG"
   },
   "source": [
    "Adding a \"Dense\" layer to our model is how we add \"vanilla\" perceptron-based layers to our neural network. These are also called \"fully-connected\" or \"densely-connected\" layers. They're used as a layer type in lots of other Neural Net Architectures but they're not referred to as perceptrons or multi-layer perceptrons very often in those situations even though that's what they are.\n",
    "\n",
    " > [\"Just your regular densely-connected NN layer.\"](https://keras.io/layers/core/)\n",
    " \n",
    " The first argument is how many neurons we want to have in that layer. To create a perceptron model we will just set it to 1. We will tell it that there will be 8 inputs coming into this layer from our dataset and set it to use the sigmoid activation function."
   ]
  },
  {
   "cell_type": "code",
   "execution_count": 30,
   "metadata": {
    "colab": {
     "base_uri": "https://localhost:8080/",
     "height": 89
    },
    "colab_type": "code",
    "id": "GNzOLidxtvFa",
    "outputId": "35b1457d-0189-49f1-aa6d-3ef15b29bd6e"
   },
   "outputs": [
    {
     "name": "stdout",
     "output_type": "stream",
     "text": [
      "WARNING:tensorflow:From /anaconda3/lib/python3.7/site-packages/tensorflow/python/ops/init_ops.py:1251: calling VarianceScaling.__init__ (from tensorflow.python.ops.init_ops) with dtype is deprecated and will be removed in a future version.\n",
      "Instructions for updating:\n",
      "Call initializer instance with the dtype argument instead of passing it to the constructor\n"
     ]
    }
   ],
   "source": [
    "from tensorflow.keras.layers import Dense, Dropout\n",
    "\n",
    "model.add(Dense(12, input_dim=8, activation='relu'))\n",
    "model.add(Dense(8, activation='relu'))\n",
    "model.add(Dense(1, activation='sigmoid'))"
   ]
  },
  {
   "cell_type": "markdown",
   "metadata": {
    "colab_type": "text",
    "id": "EnI3jwKMtBL2"
   },
   "source": [
    "### Compile Model\n",
    "Using binary_crossentropy as the loss function here is just telling keras that I'm doing binary classification so that it can use the appropriate loss function accordingly. If we were predicting non-binary categories we might assign something like `categorical_crossentropy`. We're also telling keras that we want it to report model accuracy as our main error metric for each epoch. We will also be able to see the overall accuracy once the model has finished training."
   ]
  },
  {
   "cell_type": "code",
   "execution_count": 31,
   "metadata": {
    "colab": {},
    "colab_type": "code",
    "id": "qp6xwYaqurRO"
   },
   "outputs": [
    {
     "name": "stdout",
     "output_type": "stream",
     "text": [
      "WARNING:tensorflow:From /anaconda3/lib/python3.7/site-packages/tensorflow/python/ops/nn_impl.py:180: add_dispatch_support.<locals>.wrapper (from tensorflow.python.ops.array_ops) is deprecated and will be removed in a future version.\n",
      "Instructions for updating:\n",
      "Use tf.where in 2.0, which has the same broadcast rule as np.where\n",
      "Model: \"sequential_1\"\n",
      "_________________________________________________________________\n",
      "Layer (type)                 Output Shape              Param #   \n",
      "=================================================================\n",
      "dense (Dense)                (None, 12)                108       \n",
      "_________________________________________________________________\n",
      "dense_1 (Dense)              (None, 8)                 104       \n",
      "_________________________________________________________________\n",
      "dense_2 (Dense)              (None, 1)                 9         \n",
      "=================================================================\n",
      "Total params: 221\n",
      "Trainable params: 221\n",
      "Non-trainable params: 0\n",
      "_________________________________________________________________\n"
     ]
    }
   ],
   "source": [
    "model.compile(loss='binary_crossentropy', \n",
    "              optimizer='adam', \n",
    "              metrics=['accuracy'])\n",
    "model.summary()"
   ]
  },
  {
   "cell_type": "markdown",
   "metadata": {},
   "source": [
    "#### Adam Optimizer\n",
    "Check out this links for more background on the Adam optimizer and Stohastic Gradient Descent\n",
    "* [Adam Optimization Algorithm](https://machinelearningmastery.com/adam-optimization-algorithm-for-deep-learning/)\n",
    "* [Adam Optimizer - original paper](https://arxiv.org/abs/1412.6980)"
   ]
  },
  {
   "cell_type": "markdown",
   "metadata": {
    "colab_type": "text",
    "id": "5dW8SZ2Ls9SX"
   },
   "source": [
    "### Fit Model\n",
    "\n",
    "Lets train it up! `model.fit()` has a `batch_size` parameter that we can use if we want to do mini-batch epochs, but since this tabular dataset is pretty small we're just going to delete that parameter. Keras' default `batch_size` is `None` so omiting it will tell Keras to do batch epochs."
   ]
  },
  {
   "cell_type": "code",
   "execution_count": 32,
   "metadata": {},
   "outputs": [
    {
     "name": "stdout",
     "output_type": "stream",
     "text": [
      "Epoch 1/150\n",
      "768/768 [==============================] - 0s 184us/sample - loss: 7.5930 - acc: 0.6185\n",
      "Epoch 2/150\n",
      "768/768 [==============================] - 0s 18us/sample - loss: 4.0999 - acc: 0.5898\n",
      "Epoch 3/150\n",
      "768/768 [==============================] - 0s 15us/sample - loss: 2.2191 - acc: 0.5013\n",
      "Epoch 4/150\n",
      "768/768 [==============================] - 0s 22us/sample - loss: 1.9853 - acc: 0.4648\n",
      "Epoch 5/150\n",
      "768/768 [==============================] - 0s 21us/sample - loss: 1.7333 - acc: 0.5052\n",
      "Epoch 6/150\n",
      "768/768 [==============================] - 0s 18us/sample - loss: 1.6409 - acc: 0.5091\n",
      "Epoch 7/150\n",
      "768/768 [==============================] - 0s 25us/sample - loss: 1.5137 - acc: 0.5169\n",
      "Epoch 8/150\n",
      "768/768 [==============================] - 0s 19us/sample - loss: 1.4299 - acc: 0.5234\n",
      "Epoch 9/150\n",
      "768/768 [==============================] - 0s 17us/sample - loss: 1.3311 - acc: 0.5326\n",
      "Epoch 10/150\n",
      "768/768 [==============================] - 0s 29us/sample - loss: 1.2335 - acc: 0.5352\n",
      "Epoch 11/150\n",
      "768/768 [==============================] - 0s 17us/sample - loss: 1.1455 - acc: 0.5430\n",
      "Epoch 12/150\n",
      "768/768 [==============================] - 0s 18us/sample - loss: 1.0442 - acc: 0.5534\n",
      "Epoch 13/150\n",
      "768/768 [==============================] - 0s 28us/sample - loss: 0.9818 - acc: 0.5560\n",
      "Epoch 14/150\n",
      "768/768 [==============================] - 0s 19us/sample - loss: 0.9171 - acc: 0.5729\n",
      "Epoch 15/150\n",
      "768/768 [==============================] - 0s 22us/sample - loss: 0.8533 - acc: 0.5716\n",
      "Epoch 16/150\n",
      "768/768 [==============================] - 0s 17us/sample - loss: 0.8000 - acc: 0.5872\n",
      "Epoch 17/150\n",
      "768/768 [==============================] - 0s 25us/sample - loss: 0.7643 - acc: 0.5794\n",
      "Epoch 18/150\n",
      "768/768 [==============================] - 0s 17us/sample - loss: 0.7472 - acc: 0.5898\n",
      "Epoch 19/150\n",
      "768/768 [==============================] - 0s 18us/sample - loss: 0.7134 - acc: 0.6094\n",
      "Epoch 20/150\n",
      "768/768 [==============================] - 0s 28us/sample - loss: 0.7041 - acc: 0.6094\n",
      "Epoch 21/150\n",
      "768/768 [==============================] - 0s 17us/sample - loss: 0.7111 - acc: 0.6016\n",
      "Epoch 22/150\n",
      "768/768 [==============================] - 0s 24us/sample - loss: 0.6841 - acc: 0.6237\n",
      "Epoch 23/150\n",
      "768/768 [==============================] - 0s 18us/sample - loss: 0.6608 - acc: 0.6341\n",
      "Epoch 24/150\n",
      "768/768 [==============================] - 0s 17us/sample - loss: 0.6603 - acc: 0.6367\n",
      "Epoch 25/150\n",
      "768/768 [==============================] - 0s 27us/sample - loss: 0.6611 - acc: 0.6419\n",
      "Epoch 26/150\n",
      "768/768 [==============================] - 0s 17us/sample - loss: 0.6363 - acc: 0.6667\n",
      "Epoch 27/150\n",
      "768/768 [==============================] - 0s 20us/sample - loss: 0.6369 - acc: 0.6615\n",
      "Epoch 28/150\n",
      "768/768 [==============================] - 0s 22us/sample - loss: 0.6278 - acc: 0.6706\n",
      "Epoch 29/150\n",
      "768/768 [==============================] - 0s 23us/sample - loss: 0.6342 - acc: 0.6719\n",
      "Epoch 30/150\n",
      "768/768 [==============================] - 0s 21us/sample - loss: 0.6450 - acc: 0.6602\n",
      "Epoch 31/150\n",
      "768/768 [==============================] - 0s 16us/sample - loss: 0.6331 - acc: 0.6732\n",
      "Epoch 32/150\n",
      "768/768 [==============================] - 0s 23us/sample - loss: 0.6159 - acc: 0.6862\n",
      "Epoch 33/150\n",
      "768/768 [==============================] - 0s 20us/sample - loss: 0.6068 - acc: 0.7005\n",
      "Epoch 34/150\n",
      "768/768 [==============================] - 0s 23us/sample - loss: 0.6088 - acc: 0.6927\n",
      "Epoch 35/150\n",
      "768/768 [==============================] - 0s 23us/sample - loss: 0.6039 - acc: 0.7005\n",
      "Epoch 36/150\n",
      "768/768 [==============================] - 0s 17us/sample - loss: 0.6005 - acc: 0.6966\n",
      "Epoch 37/150\n",
      "768/768 [==============================] - 0s 22us/sample - loss: 0.5945 - acc: 0.6992\n",
      "Epoch 38/150\n",
      "768/768 [==============================] - 0s 19us/sample - loss: 0.5990 - acc: 0.7083\n",
      "Epoch 39/150\n",
      "768/768 [==============================] - 0s 15us/sample - loss: 0.6071 - acc: 0.6914\n",
      "Epoch 40/150\n",
      "768/768 [==============================] - 0s 14us/sample - loss: 0.5863 - acc: 0.7148\n",
      "Epoch 41/150\n",
      "768/768 [==============================] - 0s 15us/sample - loss: 0.5822 - acc: 0.7096\n",
      "Epoch 42/150\n",
      "768/768 [==============================] - 0s 14us/sample - loss: 0.5790 - acc: 0.7135\n",
      "Epoch 43/150\n",
      "768/768 [==============================] - 0s 14us/sample - loss: 0.5846 - acc: 0.7135\n",
      "Epoch 44/150\n",
      "768/768 [==============================] - 0s 15us/sample - loss: 0.5917 - acc: 0.7031\n",
      "Epoch 45/150\n",
      "768/768 [==============================] - 0s 15us/sample - loss: 0.5799 - acc: 0.7109\n",
      "Epoch 46/150\n",
      "768/768 [==============================] - 0s 17us/sample - loss: 0.5772 - acc: 0.7201\n",
      "Epoch 47/150\n",
      "768/768 [==============================] - 0s 17us/sample - loss: 0.5783 - acc: 0.7135\n",
      "Epoch 48/150\n",
      "768/768 [==============================] - 0s 22us/sample - loss: 0.5795 - acc: 0.7005\n",
      "Epoch 49/150\n",
      "768/768 [==============================] - 0s 18us/sample - loss: 0.5796 - acc: 0.7083\n",
      "Epoch 50/150\n",
      "768/768 [==============================] - 0s 20us/sample - loss: 0.5782 - acc: 0.7096\n",
      "Epoch 51/150\n",
      "768/768 [==============================] - 0s 16us/sample - loss: 0.5779 - acc: 0.7031\n",
      "Epoch 52/150\n",
      "768/768 [==============================] - 0s 15us/sample - loss: 0.5647 - acc: 0.7214\n",
      "Epoch 53/150\n",
      "768/768 [==============================] - 0s 18us/sample - loss: 0.5669 - acc: 0.7174\n",
      "Epoch 54/150\n",
      "768/768 [==============================] - 0s 20us/sample - loss: 0.5640 - acc: 0.7253\n",
      "Epoch 55/150\n",
      "768/768 [==============================] - 0s 19us/sample - loss: 0.5644 - acc: 0.7214\n",
      "Epoch 56/150\n",
      "768/768 [==============================] - 0s 20us/sample - loss: 0.5618 - acc: 0.7318\n",
      "Epoch 57/150\n",
      "768/768 [==============================] - 0s 21us/sample - loss: 0.5616 - acc: 0.7253\n",
      "Epoch 58/150\n",
      "768/768 [==============================] - 0s 18us/sample - loss: 0.5600 - acc: 0.7188\n",
      "Epoch 59/150\n",
      "768/768 [==============================] - 0s 18us/sample - loss: 0.5596 - acc: 0.7318\n",
      "Epoch 60/150\n",
      "768/768 [==============================] - 0s 22us/sample - loss: 0.5916 - acc: 0.7044\n",
      "Epoch 61/150\n",
      "768/768 [==============================] - 0s 20us/sample - loss: 0.5710 - acc: 0.7057\n",
      "Epoch 62/150\n",
      "768/768 [==============================] - 0s 16us/sample - loss: 0.5680 - acc: 0.7214\n",
      "Epoch 63/150\n",
      "768/768 [==============================] - 0s 22us/sample - loss: 0.5583 - acc: 0.7357\n",
      "Epoch 64/150\n",
      "768/768 [==============================] - 0s 25us/sample - loss: 0.5499 - acc: 0.7370\n",
      "Epoch 65/150\n",
      "768/768 [==============================] - 0s 18us/sample - loss: 0.5515 - acc: 0.7279\n",
      "Epoch 66/150\n",
      "768/768 [==============================] - 0s 16us/sample - loss: 0.5509 - acc: 0.7357\n",
      "Epoch 67/150\n",
      "768/768 [==============================] - 0s 18us/sample - loss: 0.5508 - acc: 0.7357\n",
      "Epoch 68/150\n",
      "768/768 [==============================] - 0s 19us/sample - loss: 0.5507 - acc: 0.7331\n",
      "Epoch 69/150\n",
      "768/768 [==============================] - 0s 16us/sample - loss: 0.5490 - acc: 0.7383\n",
      "Epoch 70/150\n",
      "768/768 [==============================] - 0s 19us/sample - loss: 0.5455 - acc: 0.7318\n",
      "Epoch 71/150\n",
      "768/768 [==============================] - 0s 20us/sample - loss: 0.5499 - acc: 0.7318\n",
      "Epoch 72/150\n",
      "768/768 [==============================] - 0s 22us/sample - loss: 0.5557 - acc: 0.7318\n",
      "Epoch 73/150\n",
      "768/768 [==============================] - 0s 16us/sample - loss: 0.5833 - acc: 0.7070\n",
      "Epoch 74/150\n",
      "768/768 [==============================] - 0s 16us/sample - loss: 0.5571 - acc: 0.7279\n",
      "Epoch 75/150\n",
      "768/768 [==============================] - 0s 25us/sample - loss: 0.5530 - acc: 0.7240\n",
      "Epoch 76/150\n",
      "768/768 [==============================] - 0s 23us/sample - loss: 0.5473 - acc: 0.7357\n",
      "Epoch 77/150\n",
      "768/768 [==============================] - 0s 17us/sample - loss: 0.5415 - acc: 0.7409\n",
      "Epoch 78/150\n",
      "768/768 [==============================] - 0s 16us/sample - loss: 0.5477 - acc: 0.7266\n",
      "Epoch 79/150\n",
      "768/768 [==============================] - 0s 19us/sample - loss: 0.5475 - acc: 0.7318\n",
      "Epoch 80/150\n",
      "768/768 [==============================] - 0s 16us/sample - loss: 0.5528 - acc: 0.7227\n",
      "Epoch 81/150\n",
      "768/768 [==============================] - 0s 16us/sample - loss: 0.5458 - acc: 0.7331\n",
      "Epoch 82/150\n",
      "768/768 [==============================] - 0s 15us/sample - loss: 0.5611 - acc: 0.7201\n",
      "Epoch 83/150\n"
     ]
    },
    {
     "name": "stdout",
     "output_type": "stream",
     "text": [
      "768/768 [==============================] - 0s 21us/sample - loss: 0.5406 - acc: 0.7422\n",
      "Epoch 84/150\n",
      "768/768 [==============================] - 0s 15us/sample - loss: 0.5387 - acc: 0.7448\n",
      "Epoch 85/150\n",
      "768/768 [==============================] - 0s 15us/sample - loss: 0.5389 - acc: 0.7370\n",
      "Epoch 86/150\n",
      "768/768 [==============================] - 0s 24us/sample - loss: 0.5491 - acc: 0.7305\n",
      "Epoch 87/150\n",
      "768/768 [==============================] - 0s 16us/sample - loss: 0.5420 - acc: 0.7305\n",
      "Epoch 88/150\n",
      "768/768 [==============================] - 0s 22us/sample - loss: 0.5456 - acc: 0.7383\n",
      "Epoch 89/150\n",
      "768/768 [==============================] - 0s 15us/sample - loss: 0.5432 - acc: 0.7318\n",
      "Epoch 90/150\n",
      "768/768 [==============================] - 0s 17us/sample - loss: 0.5602 - acc: 0.7253\n",
      "Epoch 91/150\n",
      "768/768 [==============================] - 0s 23us/sample - loss: 0.5404 - acc: 0.7383\n",
      "Epoch 92/150\n",
      "768/768 [==============================] - 0s 15us/sample - loss: 0.5367 - acc: 0.7318\n",
      "Epoch 93/150\n",
      "768/768 [==============================] - 0s 23us/sample - loss: 0.5337 - acc: 0.7461\n",
      "Epoch 94/150\n",
      "768/768 [==============================] - 0s 17us/sample - loss: 0.5302 - acc: 0.7552\n",
      "Epoch 95/150\n",
      "768/768 [==============================] - 0s 17us/sample - loss: 0.5340 - acc: 0.7513\n",
      "Epoch 96/150\n",
      "768/768 [==============================] - 0s 28us/sample - loss: 0.5335 - acc: 0.7331\n",
      "Epoch 97/150\n",
      "768/768 [==============================] - 0s 15us/sample - loss: 0.5507 - acc: 0.7305\n",
      "Epoch 98/150\n",
      "768/768 [==============================] - 0s 27us/sample - loss: 0.5477 - acc: 0.7292\n",
      "Epoch 99/150\n",
      "768/768 [==============================] - 0s 15us/sample - loss: 0.5364 - acc: 0.7331\n",
      "Epoch 100/150\n",
      "768/768 [==============================] - 0s 17us/sample - loss: 0.5383 - acc: 0.7383\n",
      "Epoch 101/150\n",
      "768/768 [==============================] - 0s 16us/sample - loss: 0.5302 - acc: 0.7448\n",
      "Epoch 102/150\n",
      "768/768 [==============================] - 0s 21us/sample - loss: 0.5284 - acc: 0.7357\n",
      "Epoch 103/150\n",
      "768/768 [==============================] - 0s 16us/sample - loss: 0.5314 - acc: 0.7435\n",
      "Epoch 104/150\n",
      "768/768 [==============================] - 0s 21us/sample - loss: 0.5295 - acc: 0.7539\n",
      "Epoch 105/150\n",
      "768/768 [==============================] - 0s 17us/sample - loss: 0.5299 - acc: 0.7370\n",
      "Epoch 106/150\n",
      "768/768 [==============================] - 0s 23us/sample - loss: 0.5319 - acc: 0.7383\n",
      "Epoch 107/150\n",
      "768/768 [==============================] - 0s 16us/sample - loss: 0.5272 - acc: 0.7409\n",
      "Epoch 108/150\n",
      "768/768 [==============================] - 0s 24us/sample - loss: 0.5248 - acc: 0.7422\n",
      "Epoch 109/150\n",
      "768/768 [==============================] - 0s 17us/sample - loss: 0.5278 - acc: 0.7500\n",
      "Epoch 110/150\n",
      "768/768 [==============================] - 0s 22us/sample - loss: 0.5261 - acc: 0.7448\n",
      "Epoch 111/150\n",
      "768/768 [==============================] - 0s 16us/sample - loss: 0.5249 - acc: 0.7396\n",
      "Epoch 112/150\n",
      "768/768 [==============================] - 0s 25us/sample - loss: 0.5305 - acc: 0.7409\n",
      "Epoch 113/150\n",
      "768/768 [==============================] - 0s 17us/sample - loss: 0.5307 - acc: 0.7448\n",
      "Epoch 114/150\n",
      "768/768 [==============================] - 0s 25us/sample - loss: 0.5363 - acc: 0.7396\n",
      "Epoch 115/150\n",
      "768/768 [==============================] - 0s 16us/sample - loss: 0.5263 - acc: 0.7422\n",
      "Epoch 116/150\n",
      "768/768 [==============================] - 0s 22us/sample - loss: 0.5258 - acc: 0.7448\n",
      "Epoch 117/150\n",
      "768/768 [==============================] - 0s 20us/sample - loss: 0.5204 - acc: 0.7513\n",
      "Epoch 118/150\n",
      "768/768 [==============================] - 0s 25us/sample - loss: 0.5295 - acc: 0.7357\n",
      "Epoch 119/150\n",
      "768/768 [==============================] - 0s 20us/sample - loss: 0.5257 - acc: 0.7474\n",
      "Epoch 120/150\n",
      "768/768 [==============================] - 0s 18us/sample - loss: 0.5269 - acc: 0.7578\n",
      "Epoch 121/150\n",
      "768/768 [==============================] - 0s 20us/sample - loss: 0.5313 - acc: 0.7370\n",
      "Epoch 122/150\n",
      "768/768 [==============================] - 0s 20us/sample - loss: 0.5197 - acc: 0.7383\n",
      "Epoch 123/150\n",
      "768/768 [==============================] - 0s 20us/sample - loss: 0.5176 - acc: 0.7578\n",
      "Epoch 124/150\n",
      "768/768 [==============================] - 0s 19us/sample - loss: 0.5196 - acc: 0.7435\n",
      "Epoch 125/150\n",
      "768/768 [==============================] - 0s 24us/sample - loss: 0.5209 - acc: 0.7435\n",
      "Epoch 126/150\n",
      "768/768 [==============================] - 0s 22us/sample - loss: 0.5301 - acc: 0.7513\n",
      "Epoch 127/150\n",
      "768/768 [==============================] - 0s 22us/sample - loss: 0.5202 - acc: 0.7422\n",
      "Epoch 128/150\n",
      "768/768 [==============================] - 0s 15us/sample - loss: 0.5229 - acc: 0.7370\n",
      "Epoch 129/150\n",
      "768/768 [==============================] - 0s 22us/sample - loss: 0.5247 - acc: 0.7422\n",
      "Epoch 130/150\n",
      "768/768 [==============================] - 0s 21us/sample - loss: 0.5300 - acc: 0.7448\n",
      "Epoch 131/150\n",
      "768/768 [==============================] - 0s 20us/sample - loss: 0.5433 - acc: 0.7305\n",
      "Epoch 132/150\n",
      "768/768 [==============================] - 0s 22us/sample - loss: 0.5242 - acc: 0.7435\n",
      "Epoch 133/150\n",
      "768/768 [==============================] - 0s 20us/sample - loss: 0.5273 - acc: 0.7474\n",
      "Epoch 134/150\n",
      "768/768 [==============================] - 0s 19us/sample - loss: 0.5322 - acc: 0.7331\n",
      "Epoch 135/150\n",
      "768/768 [==============================] - 0s 22us/sample - loss: 0.5230 - acc: 0.7396\n",
      "Epoch 136/150\n",
      "768/768 [==============================] - 0s 18us/sample - loss: 0.5366 - acc: 0.7305\n",
      "Epoch 137/150\n",
      "768/768 [==============================] - 0s 22us/sample - loss: 0.5117 - acc: 0.7539\n",
      "Epoch 138/150\n",
      "768/768 [==============================] - 0s 21us/sample - loss: 0.5119 - acc: 0.7565\n",
      "Epoch 139/150\n",
      "768/768 [==============================] - 0s 23us/sample - loss: 0.5148 - acc: 0.7461\n",
      "Epoch 140/150\n",
      "768/768 [==============================] - 0s 15us/sample - loss: 0.5122 - acc: 0.7513\n",
      "Epoch 141/150\n",
      "768/768 [==============================] - 0s 24us/sample - loss: 0.5128 - acc: 0.7513\n",
      "Epoch 142/150\n",
      "768/768 [==============================] - 0s 20us/sample - loss: 0.5172 - acc: 0.7526\n",
      "Epoch 143/150\n",
      "768/768 [==============================] - 0s 20us/sample - loss: 0.5155 - acc: 0.7565\n",
      "Epoch 144/150\n",
      "768/768 [==============================] - 0s 18us/sample - loss: 0.5187 - acc: 0.7474\n",
      "Epoch 145/150\n",
      "768/768 [==============================] - 0s 20us/sample - loss: 0.5190 - acc: 0.7474\n",
      "Epoch 146/150\n",
      "768/768 [==============================] - 0s 22us/sample - loss: 0.5126 - acc: 0.7383\n",
      "Epoch 147/150\n",
      "768/768 [==============================] - 0s 22us/sample - loss: 0.5166 - acc: 0.7474\n",
      "Epoch 148/150\n",
      "768/768 [==============================] - 0s 20us/sample - loss: 0.5157 - acc: 0.7396\n",
      "Epoch 149/150\n",
      "768/768 [==============================] - 0s 23us/sample - loss: 0.5079 - acc: 0.7526\n",
      "Epoch 150/150\n",
      "768/768 [==============================] - 0s 20us/sample - loss: 0.5085 - acc: 0.7578\n"
     ]
    },
    {
     "data": {
      "text/plain": [
       "<tensorflow.python.keras.callbacks.History at 0xb33399080>"
      ]
     },
     "execution_count": 32,
     "metadata": {},
     "output_type": "execute_result"
    }
   ],
   "source": [
    "model.fit(X, y, epochs=150, batch_size=64)"
   ]
  },
  {
   "cell_type": "code",
   "execution_count": 33,
   "metadata": {},
   "outputs": [
    {
     "data": {
      "text/plain": [
       "(768,)"
      ]
     },
     "execution_count": 33,
     "metadata": {},
     "output_type": "execute_result"
    }
   ],
   "source": [
    "y.shape"
   ]
  },
  {
   "cell_type": "markdown",
   "metadata": {},
   "source": [
    "### Evaluate Model"
   ]
  },
  {
   "cell_type": "code",
   "execution_count": 34,
   "metadata": {},
   "outputs": [
    {
     "data": {
      "text/plain": [
       "array([1., 0., 1., 0., 1., 0., 1., 0., 1., 1., 0., 1., 0., 1., 1., 1., 1.,\n",
       "       1., 0., 1., 0., 0., 1., 1., 1., 1., 1., 0., 0., 0., 0., 1., 0., 0.,\n",
       "       0., 0., 0., 1., 1., 1., 0., 0., 0., 1., 0., 1., 0., 0., 1., 0.])"
      ]
     },
     "execution_count": 34,
     "metadata": {},
     "output_type": "execute_result"
    }
   ],
   "source": [
    "y[:50]"
   ]
  },
  {
   "cell_type": "code",
   "execution_count": 35,
   "metadata": {},
   "outputs": [
    {
     "name": "stdout",
     "output_type": "stream",
     "text": [
      "768/768 [==============================] - 0s 53us/sample - loss: 0.5040 - acc: 0.7552\n",
      "acc: 75.52083134651184\n"
     ]
    }
   ],
   "source": [
    "scores = model.evaluate(X,y)\n",
    "print(f\"{model.metrics_names[1]}: {scores[1]*100}\")"
   ]
  },
  {
   "cell_type": "markdown",
   "metadata": {
    "colab_type": "text",
    "id": "AIJoRBxHy27n"
   },
   "source": [
    "# Keras MLP Model in 4 lines of code:"
   ]
  },
  {
   "cell_type": "code",
   "execution_count": 36,
   "metadata": {
    "colab": {
     "base_uri": "https://localhost:8080/",
     "height": 5216
    },
    "colab_type": "code",
    "id": "TQxyONqKvFxB",
    "outputId": "12966e66-2297-4f82-85b3-c275a9c38563"
   },
   "outputs": [
    {
     "name": "stdout",
     "output_type": "stream",
     "text": [
      "Epoch 1/150\n",
      "768/768 [==============================] - 0s 120us/sample - loss: 23.4506 - acc: 0.4753\n",
      "Epoch 2/150\n",
      "768/768 [==============================] - 0s 30us/sample - loss: 21.9667 - acc: 0.4883\n",
      "Epoch 3/150\n",
      "768/768 [==============================] - 0s 30us/sample - loss: 20.6243 - acc: 0.4961\n",
      "Epoch 4/150\n",
      "768/768 [==============================] - 0s 35us/sample - loss: 19.3314 - acc: 0.5026\n",
      "Epoch 5/150\n",
      "768/768 [==============================] - 0s 33us/sample - loss: 18.0967 - acc: 0.5091\n",
      "Epoch 6/150\n",
      "768/768 [==============================] - 0s 33us/sample - loss: 16.8983 - acc: 0.5169\n",
      "Epoch 7/150\n",
      "768/768 [==============================] - 0s 30us/sample - loss: 15.7784 - acc: 0.5326\n",
      "Epoch 8/150\n",
      "768/768 [==============================] - 0s 36us/sample - loss: 14.7529 - acc: 0.5495\n",
      "Epoch 9/150\n",
      "768/768 [==============================] - 0s 37us/sample - loss: 13.8387 - acc: 0.5612\n",
      "Epoch 10/150\n",
      "768/768 [==============================] - 0s 28us/sample - loss: 13.0108 - acc: 0.5768\n",
      "Epoch 11/150\n",
      "768/768 [==============================] - 0s 32us/sample - loss: 12.1893 - acc: 0.5729\n",
      "Epoch 12/150\n",
      "768/768 [==============================] - 0s 31us/sample - loss: 11.4156 - acc: 0.5742\n",
      "Epoch 13/150\n",
      "768/768 [==============================] - 0s 33us/sample - loss: 10.6016 - acc: 0.5742\n",
      "Epoch 14/150\n",
      "768/768 [==============================] - 0s 31us/sample - loss: 9.8526 - acc: 0.5755\n",
      "Epoch 15/150\n",
      "768/768 [==============================] - 0s 29us/sample - loss: 9.0875 - acc: 0.5742\n",
      "Epoch 16/150\n",
      "768/768 [==============================] - 0s 32us/sample - loss: 8.3675 - acc: 0.5703\n",
      "Epoch 17/150\n",
      "768/768 [==============================] - 0s 28us/sample - loss: 7.6567 - acc: 0.5716\n",
      "Epoch 18/150\n",
      "768/768 [==============================] - 0s 29us/sample - loss: 6.9598 - acc: 0.5755\n",
      "Epoch 19/150\n",
      "768/768 [==============================] - 0s 29us/sample - loss: 6.2999 - acc: 0.5781\n",
      "Epoch 20/150\n",
      "768/768 [==============================] - 0s 31us/sample - loss: 5.7133 - acc: 0.5703\n",
      "Epoch 21/150\n",
      "768/768 [==============================] - 0s 26us/sample - loss: 5.1457 - acc: 0.5742\n",
      "Epoch 22/150\n",
      "768/768 [==============================] - 0s 32us/sample - loss: 4.6576 - acc: 0.5768\n",
      "Epoch 23/150\n",
      "768/768 [==============================] - 0s 31us/sample - loss: 4.2284 - acc: 0.5807\n",
      "Epoch 24/150\n",
      "768/768 [==============================] - 0s 40us/sample - loss: 3.8257 - acc: 0.5820\n",
      "Epoch 25/150\n",
      "768/768 [==============================] - 0s 29us/sample - loss: 3.4878 - acc: 0.5977\n",
      "Epoch 26/150\n",
      "768/768 [==============================] - 0s 30us/sample - loss: 3.2031 - acc: 0.6016\n",
      "Epoch 27/150\n",
      "768/768 [==============================] - 0s 39us/sample - loss: 2.9925 - acc: 0.6029\n",
      "Epoch 28/150\n",
      "768/768 [==============================] - 0s 32us/sample - loss: 2.8001 - acc: 0.6016\n",
      "Epoch 29/150\n",
      "768/768 [==============================] - 0s 24us/sample - loss: 2.6545 - acc: 0.5990\n",
      "Epoch 30/150\n",
      "768/768 [==============================] - 0s 22us/sample - loss: 2.5554 - acc: 0.6003\n",
      "Epoch 31/150\n",
      "768/768 [==============================] - 0s 23us/sample - loss: 2.4608 - acc: 0.6198\n",
      "Epoch 32/150\n",
      "768/768 [==============================] - 0s 28us/sample - loss: 2.3947 - acc: 0.6198\n",
      "Epoch 33/150\n",
      "768/768 [==============================] - 0s 28us/sample - loss: 2.3429 - acc: 0.6289\n",
      "Epoch 34/150\n",
      "768/768 [==============================] - 0s 35us/sample - loss: 2.2809 - acc: 0.6263\n",
      "Epoch 35/150\n",
      "768/768 [==============================] - 0s 28us/sample - loss: 2.2229 - acc: 0.6315\n",
      "Epoch 36/150\n",
      "768/768 [==============================] - 0s 32us/sample - loss: 2.1844 - acc: 0.6302\n",
      "Epoch 37/150\n",
      "768/768 [==============================] - 0s 36us/sample - loss: 2.1531 - acc: 0.6289\n",
      "Epoch 38/150\n",
      "768/768 [==============================] - 0s 30us/sample - loss: 2.0894 - acc: 0.6380\n",
      "Epoch 39/150\n",
      "768/768 [==============================] - 0s 38us/sample - loss: 2.0518 - acc: 0.6393\n",
      "Epoch 40/150\n",
      "768/768 [==============================] - 0s 25us/sample - loss: 2.0087 - acc: 0.6458\n",
      "Epoch 41/150\n",
      "768/768 [==============================] - 0s 32us/sample - loss: 1.9642 - acc: 0.6523\n",
      "Epoch 42/150\n",
      "768/768 [==============================] - 0s 31us/sample - loss: 1.9284 - acc: 0.6458\n",
      "Epoch 43/150\n",
      "768/768 [==============================] - 0s 28us/sample - loss: 1.8965 - acc: 0.6602\n",
      "Epoch 44/150\n",
      "768/768 [==============================] - 0s 32us/sample - loss: 1.8617 - acc: 0.6510\n",
      "Epoch 45/150\n",
      "768/768 [==============================] - 0s 34us/sample - loss: 1.8311 - acc: 0.6576\n",
      "Epoch 46/150\n",
      "768/768 [==============================] - 0s 24us/sample - loss: 1.7893 - acc: 0.6602\n",
      "Epoch 47/150\n",
      "768/768 [==============================] - 0s 29us/sample - loss: 1.7592 - acc: 0.6641\n",
      "Epoch 48/150\n",
      "768/768 [==============================] - 0s 35us/sample - loss: 1.7304 - acc: 0.6615\n",
      "Epoch 49/150\n",
      "768/768 [==============================] - 0s 30us/sample - loss: 1.6960 - acc: 0.6680\n",
      "Epoch 50/150\n",
      "768/768 [==============================] - 0s 33us/sample - loss: 1.6591 - acc: 0.6641\n",
      "Epoch 51/150\n",
      "768/768 [==============================] - 0s 28us/sample - loss: 1.6274 - acc: 0.6628\n",
      "Epoch 52/150\n",
      "768/768 [==============================] - 0s 36us/sample - loss: 1.6054 - acc: 0.6602\n",
      "Epoch 53/150\n",
      "768/768 [==============================] - 0s 26us/sample - loss: 1.5657 - acc: 0.6576\n",
      "Epoch 54/150\n",
      "768/768 [==============================] - 0s 33us/sample - loss: 1.5358 - acc: 0.6680\n",
      "Epoch 55/150\n",
      "768/768 [==============================] - 0s 29us/sample - loss: 1.5082 - acc: 0.6693\n",
      "Epoch 56/150\n",
      "768/768 [==============================] - 0s 25us/sample - loss: 1.4752 - acc: 0.6576\n",
      "Epoch 57/150\n",
      "768/768 [==============================] - 0s 28us/sample - loss: 1.4479 - acc: 0.6706\n",
      "Epoch 58/150\n",
      "768/768 [==============================] - 0s 36us/sample - loss: 1.4318 - acc: 0.6719\n",
      "Epoch 59/150\n",
      "768/768 [==============================] - 0s 30us/sample - loss: 1.4002 - acc: 0.6654\n",
      "Epoch 60/150\n",
      "768/768 [==============================] - 0s 25us/sample - loss: 1.3658 - acc: 0.6589\n",
      "Epoch 61/150\n",
      "768/768 [==============================] - 0s 33us/sample - loss: 1.3381 - acc: 0.6693\n",
      "Epoch 62/150\n",
      "768/768 [==============================] - 0s 34us/sample - loss: 1.3134 - acc: 0.6654\n",
      "Epoch 63/150\n",
      "768/768 [==============================] - 0s 30us/sample - loss: 1.2863 - acc: 0.6576\n",
      "Epoch 64/150\n",
      "768/768 [==============================] - 0s 35us/sample - loss: 1.2575 - acc: 0.6667\n",
      "Epoch 65/150\n",
      "768/768 [==============================] - 0s 26us/sample - loss: 1.2314 - acc: 0.6667\n",
      "Epoch 66/150\n",
      "768/768 [==============================] - 0s 32us/sample - loss: 1.2111 - acc: 0.6680\n",
      "Epoch 67/150\n",
      "768/768 [==============================] - 0s 27us/sample - loss: 1.1856 - acc: 0.6628\n",
      "Epoch 68/150\n",
      "768/768 [==============================] - 0s 29us/sample - loss: 1.1625 - acc: 0.6562\n",
      "Epoch 69/150\n",
      "768/768 [==============================] - 0s 27us/sample - loss: 1.1383 - acc: 0.6654\n",
      "Epoch 70/150\n",
      "768/768 [==============================] - 0s 26us/sample - loss: 1.1167 - acc: 0.6667\n",
      "Epoch 71/150\n",
      "768/768 [==============================] - 0s 41us/sample - loss: 1.0889 - acc: 0.6615\n",
      "Epoch 72/150\n",
      "768/768 [==============================] - 0s 31us/sample - loss: 1.0766 - acc: 0.6523\n",
      "Epoch 73/150\n",
      "768/768 [==============================] - 0s 27us/sample - loss: 1.0528 - acc: 0.6602\n",
      "Epoch 74/150\n",
      "768/768 [==============================] - 0s 39us/sample - loss: 1.0267 - acc: 0.6589\n",
      "Epoch 75/150\n",
      "768/768 [==============================] - 0s 28us/sample - loss: 1.0137 - acc: 0.6602\n",
      "Epoch 76/150\n",
      "768/768 [==============================] - 0s 34us/sample - loss: 0.9962 - acc: 0.6576\n",
      "Epoch 77/150\n",
      "768/768 [==============================] - 0s 34us/sample - loss: 0.9812 - acc: 0.6654\n",
      "Epoch 78/150\n",
      "768/768 [==============================] - 0s 39us/sample - loss: 0.9583 - acc: 0.6523\n",
      "Epoch 79/150\n",
      "768/768 [==============================] - 0s 34us/sample - loss: 0.9342 - acc: 0.6562\n",
      "Epoch 80/150\n",
      "768/768 [==============================] - 0s 27us/sample - loss: 0.9183 - acc: 0.6602\n",
      "Epoch 81/150\n",
      "768/768 [==============================] - 0s 29us/sample - loss: 0.9215 - acc: 0.6419\n",
      "Epoch 82/150\n"
     ]
    },
    {
     "name": "stdout",
     "output_type": "stream",
     "text": [
      "768/768 [==============================] - 0s 31us/sample - loss: 0.8873 - acc: 0.6406\n",
      "Epoch 83/150\n",
      "768/768 [==============================] - 0s 32us/sample - loss: 0.8665 - acc: 0.6510\n",
      "Epoch 84/150\n",
      "768/768 [==============================] - 0s 30us/sample - loss: 0.8586 - acc: 0.6549\n",
      "Epoch 85/150\n",
      "768/768 [==============================] - 0s 26us/sample - loss: 0.8450 - acc: 0.6680\n",
      "Epoch 86/150\n",
      "768/768 [==============================] - 0s 31us/sample - loss: 0.8430 - acc: 0.6445\n",
      "Epoch 87/150\n",
      "768/768 [==============================] - 0s 34us/sample - loss: 0.8099 - acc: 0.6497\n",
      "Epoch 88/150\n",
      "768/768 [==============================] - 0s 26us/sample - loss: 0.8056 - acc: 0.6523\n",
      "Epoch 89/150\n",
      "768/768 [==============================] - 0s 27us/sample - loss: 0.7841 - acc: 0.6562\n",
      "Epoch 90/150\n",
      "768/768 [==============================] - 0s 27us/sample - loss: 0.7763 - acc: 0.6549\n",
      "Epoch 91/150\n",
      "768/768 [==============================] - 0s 28us/sample - loss: 0.7599 - acc: 0.6589\n",
      "Epoch 92/150\n",
      "768/768 [==============================] - 0s 26us/sample - loss: 0.7519 - acc: 0.6576\n",
      "Epoch 93/150\n",
      "768/768 [==============================] - 0s 30us/sample - loss: 0.7491 - acc: 0.6602\n",
      "Epoch 94/150\n",
      "768/768 [==============================] - 0s 24us/sample - loss: 0.7322 - acc: 0.6562\n",
      "Epoch 95/150\n",
      "768/768 [==============================] - 0s 25us/sample - loss: 0.7165 - acc: 0.6667\n",
      "Epoch 96/150\n",
      "768/768 [==============================] - 0s 25us/sample - loss: 0.7106 - acc: 0.6602\n",
      "Epoch 97/150\n",
      "768/768 [==============================] - 0s 24us/sample - loss: 0.7013 - acc: 0.6602\n",
      "Epoch 98/150\n",
      "768/768 [==============================] - 0s 28us/sample - loss: 0.6924 - acc: 0.6615\n",
      "Epoch 99/150\n",
      "768/768 [==============================] - 0s 34us/sample - loss: 0.6905 - acc: 0.6706\n",
      "Epoch 100/150\n",
      "768/768 [==============================] - 0s 23us/sample - loss: 0.6747 - acc: 0.6758\n",
      "Epoch 101/150\n",
      "768/768 [==============================] - 0s 29us/sample - loss: 0.6760 - acc: 0.6745\n",
      "Epoch 102/150\n",
      "768/768 [==============================] - 0s 29us/sample - loss: 0.6645 - acc: 0.6719\n",
      "Epoch 103/150\n",
      "768/768 [==============================] - 0s 24us/sample - loss: 0.6729 - acc: 0.6549\n",
      "Epoch 104/150\n",
      "768/768 [==============================] - 0s 26us/sample - loss: 0.6513 - acc: 0.6797\n",
      "Epoch 105/150\n",
      "768/768 [==============================] - 0s 28us/sample - loss: 0.6473 - acc: 0.6810\n",
      "Epoch 106/150\n",
      "768/768 [==============================] - 0s 32us/sample - loss: 0.6424 - acc: 0.6706\n",
      "Epoch 107/150\n",
      "768/768 [==============================] - 0s 29us/sample - loss: 0.6450 - acc: 0.6797\n",
      "Epoch 108/150\n",
      "768/768 [==============================] - 0s 25us/sample - loss: 0.6325 - acc: 0.6771\n",
      "Epoch 109/150\n",
      "768/768 [==============================] - 0s 32us/sample - loss: 0.6257 - acc: 0.6849\n",
      "Epoch 110/150\n",
      "768/768 [==============================] - 0s 25us/sample - loss: 0.6220 - acc: 0.6849\n",
      "Epoch 111/150\n",
      "768/768 [==============================] - 0s 35us/sample - loss: 0.6201 - acc: 0.6914\n",
      "Epoch 112/150\n",
      "768/768 [==============================] - 0s 31us/sample - loss: 0.6211 - acc: 0.6927\n",
      "Epoch 113/150\n",
      "768/768 [==============================] - 0s 25us/sample - loss: 0.6191 - acc: 0.6901\n",
      "Epoch 114/150\n",
      "768/768 [==============================] - 0s 26us/sample - loss: 0.6093 - acc: 0.6901\n",
      "Epoch 115/150\n",
      "768/768 [==============================] - 0s 30us/sample - loss: 0.6061 - acc: 0.6927\n",
      "Epoch 116/150\n",
      "768/768 [==============================] - 0s 31us/sample - loss: 0.6027 - acc: 0.6940\n",
      "Epoch 117/150\n",
      "768/768 [==============================] - 0s 25us/sample - loss: 0.6103 - acc: 0.6849\n",
      "Epoch 118/150\n",
      "768/768 [==============================] - 0s 32us/sample - loss: 0.5988 - acc: 0.6901\n",
      "Epoch 119/150\n",
      "768/768 [==============================] - 0s 25us/sample - loss: 0.5990 - acc: 0.6966\n",
      "Epoch 120/150\n",
      "768/768 [==============================] - 0s 38us/sample - loss: 0.5981 - acc: 0.6966\n",
      "Epoch 121/150\n",
      "768/768 [==============================] - 0s 28us/sample - loss: 0.5958 - acc: 0.6940\n",
      "Epoch 122/150\n",
      "768/768 [==============================] - 0s 33us/sample - loss: 0.5907 - acc: 0.7005\n",
      "Epoch 123/150\n",
      "768/768 [==============================] - 0s 33us/sample - loss: 0.5884 - acc: 0.7057\n",
      "Epoch 124/150\n",
      "768/768 [==============================] - 0s 34us/sample - loss: 0.5891 - acc: 0.7057\n",
      "Epoch 125/150\n",
      "768/768 [==============================] - 0s 33us/sample - loss: 0.5934 - acc: 0.6875\n",
      "Epoch 126/150\n",
      "768/768 [==============================] - 0s 32us/sample - loss: 0.5954 - acc: 0.7109\n",
      "Epoch 127/150\n",
      "768/768 [==============================] - 0s 31us/sample - loss: 0.5937 - acc: 0.7018\n",
      "Epoch 128/150\n",
      "768/768 [==============================] - 0s 30us/sample - loss: 0.5889 - acc: 0.7044\n",
      "Epoch 129/150\n",
      "768/768 [==============================] - 0s 30us/sample - loss: 0.5807 - acc: 0.7109\n",
      "Epoch 130/150\n",
      "768/768 [==============================] - 0s 35us/sample - loss: 0.5828 - acc: 0.7096\n",
      "Epoch 131/150\n",
      "768/768 [==============================] - 0s 31us/sample - loss: 0.5881 - acc: 0.7005\n",
      "Epoch 132/150\n",
      "768/768 [==============================] - 0s 32us/sample - loss: 0.5911 - acc: 0.7031\n",
      "Epoch 133/150\n",
      "768/768 [==============================] - 0s 27us/sample - loss: 0.5878 - acc: 0.7057\n",
      "Epoch 134/150\n",
      "768/768 [==============================] - 0s 37us/sample - loss: 0.5795 - acc: 0.7018\n",
      "Epoch 135/150\n",
      "768/768 [==============================] - 0s 28us/sample - loss: 0.5797 - acc: 0.7005\n",
      "Epoch 136/150\n",
      "768/768 [==============================] - 0s 30us/sample - loss: 0.5879 - acc: 0.7070\n",
      "Epoch 137/150\n",
      "768/768 [==============================] - 0s 32us/sample - loss: 0.5886 - acc: 0.7070\n",
      "Epoch 138/150\n",
      "768/768 [==============================] - 0s 30us/sample - loss: 0.5797 - acc: 0.7201\n",
      "Epoch 139/150\n",
      "768/768 [==============================] - 0s 30us/sample - loss: 0.5797 - acc: 0.7083\n",
      "Epoch 140/150\n",
      "768/768 [==============================] - 0s 34us/sample - loss: 0.5797 - acc: 0.7109\n",
      "Epoch 141/150\n",
      "768/768 [==============================] - 0s 32us/sample - loss: 0.5780 - acc: 0.7083\n",
      "Epoch 142/150\n",
      "768/768 [==============================] - 0s 33us/sample - loss: 0.5787 - acc: 0.7057\n",
      "Epoch 143/150\n",
      "768/768 [==============================] - 0s 33us/sample - loss: 0.5802 - acc: 0.7083\n",
      "Epoch 144/150\n",
      "768/768 [==============================] - 0s 33us/sample - loss: 0.5791 - acc: 0.7188\n",
      "Epoch 145/150\n",
      "768/768 [==============================] - 0s 37us/sample - loss: 0.5759 - acc: 0.7227\n",
      "Epoch 146/150\n",
      "768/768 [==============================] - 0s 27us/sample - loss: 0.5841 - acc: 0.7005\n",
      "Epoch 147/150\n",
      "768/768 [==============================] - 0s 32us/sample - loss: 0.6062 - acc: 0.6979\n",
      "Epoch 148/150\n",
      "768/768 [==============================] - 0s 32us/sample - loss: 0.5769 - acc: 0.7161\n",
      "Epoch 149/150\n",
      "768/768 [==============================] - 0s 32us/sample - loss: 0.5831 - acc: 0.7109\n",
      "Epoch 150/150\n",
      "768/768 [==============================] - 0s 37us/sample - loss: 0.5826 - acc: 0.7109\n"
     ]
    },
    {
     "data": {
      "text/plain": [
       "<tensorflow.python.keras.callbacks.History at 0xb349b8710>"
      ]
     },
     "execution_count": 36,
     "metadata": {},
     "output_type": "execute_result"
    }
   ],
   "source": [
    "model = Sequential()\n",
    "model.add(Dense(1, input_dim=8, activation=\"sigmoid\"))\n",
    "model.compile(loss='binary_crossentropy', \n",
    "              optimizer='adam', \n",
    "              metrics=['accuracy'])\n",
    "model.fit(X, y, epochs=150)"
   ]
  },
  {
   "cell_type": "code",
   "execution_count": 37,
   "metadata": {
    "colab": {
     "base_uri": "https://localhost:8080/",
     "height": 69
    },
    "colab_type": "code",
    "id": "Z1wfKUxszPKa",
    "outputId": "0cdacd1d-6e5a-4bbe-fabb-568cd94724be"
   },
   "outputs": [
    {
     "name": "stdout",
     "output_type": "stream",
     "text": [
      "768/768 [==============================] - 0s 44us/sample - loss: 0.5905 - acc: 0.7057\n",
      "acc: 70.57291865348816\n"
     ]
    }
   ],
   "source": [
    "# evaluate the model\n",
    "scores = model.evaluate(X, y)\n",
    "print(f\"{model.metrics_names[1]}: {scores[1]*100}\")"
   ]
  },
  {
   "cell_type": "markdown",
   "metadata": {
    "colab_type": "text",
    "id": "zHYB7k9q3O8T"
   },
   "source": [
    "### Why are we getting such different results if we re-run the model?\n",
    "\n",
    "<https://machinelearningmastery.com/randomness-in-machine-learning/>"
   ]
  },
  {
   "cell_type": "markdown",
   "metadata": {
    "colab_type": "text",
    "id": "ueDVpctAzvy8"
   },
   "source": [
    "# What architecture should we try?"
   ]
  },
  {
   "cell_type": "code",
   "execution_count": 40,
   "metadata": {
    "colab": {},
    "colab_type": "code",
    "id": "6W2Sc7-LzQo_"
   },
   "outputs": [
    {
     "name": "stdout",
     "output_type": "stream",
     "text": [
      "Model: \"sequential_4\"\n",
      "_________________________________________________________________\n",
      "Layer (type)                 Output Shape              Param #   \n",
      "=================================================================\n",
      "dense_7 (Dense)              (None, 1024)              9216      \n",
      "_________________________________________________________________\n",
      "dense_8 (Dense)              (None, 128)               131200    \n",
      "_________________________________________________________________\n",
      "dropout_1 (Dropout)          (None, 128)               0         \n",
      "_________________________________________________________________\n",
      "dense_9 (Dense)              (None, 1)                 129       \n",
      "=================================================================\n",
      "Total params: 140,545\n",
      "Trainable params: 140,545\n",
      "Non-trainable params: 0\n",
      "_________________________________________________________________\n"
     ]
    }
   ],
   "source": [
    "# Tell me your ideas\n",
    "model_improved = Sequential()\n",
    "model_improved.add(Dense(1024, input_dim=8, activation='sigmoid'))\n",
    "model_improved.add(Dense(128, activation='sigmoid'))\n",
    "model_improved.add(Dropout(0.1))\n",
    "model_improved.add(Dense(1, activation='sigmoid'))\n",
    "# Let's inspect our new architecture\n",
    "model_improved.summary()"
   ]
  },
  {
   "cell_type": "code",
   "execution_count": 43,
   "metadata": {},
   "outputs": [],
   "source": [
    "model_improved.compile(loss='binary_crossentropy', optimizer='adam', \n",
    "                       metrics=['accuracy'])\n",
    "\n",
    "history = model_improved.fit(X, y, epochs=200, batch_size=1024,\n",
    "                             validation_split=0.2, shuffle=True,\n",
    "                             verbose=0) # What parameters can I specify here?"
   ]
  },
  {
   "cell_type": "code",
   "execution_count": 46,
   "metadata": {},
   "outputs": [
    {
     "name": "stdout",
     "output_type": "stream",
     "text": [
      "768/768 [==============================] - 0s 28us/sample - loss: 0.3764 - acc: 0.8255\n",
      "acc: 70.57291865348816\n"
     ]
    }
   ],
   "source": [
    "score = model_improved.evaluate(X,y)\n",
    "print(f\"{model_improved.metrics_names[1]}: {scores[1]*100}\")"
   ]
  },
  {
   "cell_type": "code",
   "execution_count": 64,
   "metadata": {},
   "outputs": [
    {
     "name": "stdout",
     "output_type": "stream",
     "text": [
      "dict_keys(['loss', 'acc', 'val_loss', 'val_acc'])\n"
     ]
    },
    {
     "data": {
      "image/png": "[encoded data removed]",
      "text/plain": [
       "<Figure size 432x288 with 1 Axes>"
      ]
     },
     "metadata": {
      "needs_background": "light"
     },
     "output_type": "display_data"
    },
    {
     "data": {
      "image/png": "[encoded data removed]",
      "text/plain": [
       "<Figure size 432x288 with 1 Axes>"
      ]
     },
     "metadata": {
      "needs_background": "light"
     },
     "output_type": "display_data"
    }
   ],
   "source": [
    "import matplotlib.pyplot as plt\n",
    "\n",
    "# list all data in history\n",
    "print(history.history.keys())\n",
    "# summarize history for accuracy\n",
    "plt.plot(history.history['acc'])\n",
    "plt.plot(history.history['val_acc'])\n",
    "plt.title('model accuracy')\n",
    "plt.ylabel('accuracy')\n",
    "plt.xlabel('epoch')\n",
    "plt.legend(['train', 'test'], loc='upper left')\n",
    "plt.show()\n",
    "# summarize history for loss\n",
    "plt.plot(history.history['loss'])\n",
    "plt.plot(history.history['val_loss'])\n",
    "plt.title('model loss')\n",
    "plt.ylabel('loss')\n",
    "plt.xlabel('epoch')\n",
    "plt.legend(['train', 'test'], loc='upper left')\n",
    "plt.show()"
   ]
  },
  {
   "cell_type": "markdown",
   "metadata": {
    "colab_type": "text",
    "id": "tcjMuxtn6wIQ"
   },
   "source": [
    "# Activation Functions\n",
    "\n",
    "What is an activation function and how does it work?\n",
    "\n",
    "- Takes in a weighted sum of inputs + a bias from the previous layer and outputs an \"activation\" value.\n",
    "- Based its inputs the neuron decides how 'activated' it should be. This can be thought of as the neuron deciding how strongly to fire. You can also think of it as if the neuron is deciding how much of the signal that it has received to pass onto the next layer. \n",
    "- Our choice of activation function does not only affect signal that is passed forward but also affects the backpropagation algorithm. It affects how we update weights in reverse order since activated weight/input sums become the inputs of the next layer. \n"
   ]
  },
  {
   "cell_type": "markdown",
   "metadata": {
    "colab_type": "text",
    "id": "n_b0u8Ch60bA"
   },
   "source": [
    "## Step Function\n",
    "\n",
    "![Heaviside Step Function](https://upload.wikimedia.org/wikipedia/commons/thumb/d/d9/Dirac_distribution_CDF.svg/325px-Dirac_distribution_CDF.svg.png)\n",
    "\n",
    "All or nothing, a little extreme, which is fine, but makes updating weights through backpropagation impossible. Why? remember that during backpropagation we use derivatives in order to determine how much to update or not update weights. What is the derivative of the step function?"
   ]
  },
  {
   "cell_type": "markdown",
   "metadata": {
    "colab_type": "text",
    "id": "vKR0YhIVEnXZ"
   },
   "source": [
    "## Linear Function\n",
    "\n",
    "![Linear Function](http://www.roconnell.net/Parent%20function/linear.gif)\n",
    "\n",
    "The linear function takes the opposite tact from the step function and passes the signal onto the next layer by a constant factor. There are problems with this but the biggest problems again lie in backpropagation. The derivative of any linear function is a horizontal line which would indicate that we should update all weights by a constant amount every time -which on balance wouldn't change the behavior of our network. Linear functions are typically only used for very simple tasks where interpretability is important, but if interpretability is your highest priority, you probably shouldn't be using neural networks in the first place."
   ]
  },
  {
   "cell_type": "markdown",
   "metadata": {
    "colab_type": "text",
    "id": "JFurIVL6EkQ8"
   },
   "source": [
    "## Sigmoid Function\n",
    "\n",
    "![Sigmoid Function](https://upload.wikimedia.org/wikipedia/commons/thumb/8/88/Logistic-curve.svg/480px-Logistic-curve.svg.png)\n",
    "\n",
    "The sigmoid function works great as an activation function! it's continuously differentiable, its derivative doesn't have a constant slope, and having the higher slope in the middle pushes y value predictions towards extremes which is particularly useful for binary classification problems. I mean, this is why we use it as the squishifier in logistic regression as well. It constrains output, but over repeated epochs pushes predictions towards a strong binary prediction. \n",
    "\n",
    "What's the biggest problem with the sigmoid function? The fact that its slope gets pretty flat so quickly after its departure from zero. This means that updating weights based on its gradient really diminishes the size of our weight updates as our model gets more confident about its classifications. This is why even after so many iterations with our test score example we couldn't reach the levels of fit that our gradient descent based model could reach in just a few epochs."
   ]
  },
  {
   "cell_type": "markdown",
   "metadata": {
    "colab_type": "text",
    "id": "hm6p1HWbEhYi"
   },
   "source": [
    "## Tanh Function\n",
    "\n",
    "![Tanh Function](http://mathworld.wolfram.com/images/interactive/TanhReal.gif)\n",
    "\n",
    "What if the sigmoid function didn't get so flat quite as soon when moving away from zero and was a little bit steeper in the middle? That's basically the Tanh function. The Tanh function can actually be created by scaling the sigmoid function by 2 in the y dimension and subtracting 1 from all values. It has basically the same properties as the sigmoid, still struggles from diminishingly flat gradients as we move away from 0, but its derivative is higher around 0 causing weights to move to the extremes a little faster. "
   ]
  },
  {
   "cell_type": "markdown",
   "metadata": {
    "colab_type": "text",
    "id": "sFOn_L6gEcz1"
   },
   "source": [
    "## ReLU Function\n",
    "\n",
    "![ReLU Function](https://cdn-images-1.medium.com/max/937/1*oePAhrm74RNnNEolprmTaQ.png)\n",
    "\n",
    "ReLU stands for Rectified Linear Units it is by far the most commonly used activation function in modern neural networks. It doesn't activate neurons that are being passed a negative signal and passes on positive signals. Think about why this might be useful. Remember how a lot of our initial weights got set to negative numbers by chance? This would have dealt with those negative weights a lot faster than the sigmoid function updating. What does the derivative of this function look like? It looks like the step function! This means that not all neurons are activated. With sigmoid basically all of our neurons are passing some amount of signal even if it's small making it hard for the network to differentiate important and less important connections. ReLU turns off a portion of our less important neurons which decreases computational load, but also helps the network learn what the most important connections are faster. \n",
    "\n",
    "What's the problem with relu? Well the left half of its derivative function shows that for neurons that are initialized with weights that cause them to have no activation, our gradient will not update those neuron's weights, this can lead to dead neurons that never fire and whose weights never get updated. We would probably want to update the weights of neurons that didn't fire even if it's just by a little bit in case we got unlucky with our initial weights and want to give those neurons a chance of turning back on in the future."
   ]
  },
  {
   "cell_type": "markdown",
   "metadata": {
    "colab_type": "text",
    "id": "XWdvWOBIETwk"
   },
   "source": [
    "## Leaky ReLU\n",
    "\n",
    "![Leaky ReLU](https://cdn-images-1.medium.com/max/1600/1*ypsvQH7kvtI2BhzR2eT_Sw.png)\n",
    "\n",
    "Leaky ReLU accomplishes exactly that! it avoids having a gradient of 0 on the left side of its derivative function. This means that even \"dead\" neurons have a chance of being revived over enough iterations. In some specifications the slope of the leaky left-hand side can also be experimented with as a hyperparameter of the model!"
   ]
  },
  {
   "cell_type": "markdown",
   "metadata": {
    "colab_type": "text",
    "id": "FcAxkNFREMFb"
   },
   "source": [
    "## Softmax Function\n",
    "\n",
    "![Softmax Function](https://cdn-images-1.medium.com/max/800/1*670CdxchunD-yAuUWdI7Bw.png)\n",
    "\n",
    "Like the sigmoid function but more useful for multi-class classification problems. The softmax function can take any set of inputs and translate them into probabilities that sum up to 1. This means that we can throw any list of outputs at it and it will translate them into probabilities, this is extremely useful for multi-class classification problems. Like MNIST for example..."
   ]
  },
  {
   "cell_type": "markdown",
   "metadata": {
    "colab_type": "text",
    "id": "23-XRRXKHs34"
   },
   "source": [
    "## Major takeaways\n",
    "\n",
    "- ReLU is generally better at obtaining the optimal model fit.\n",
    "- Sigmoid and its derivatives are usually better at classification problems.\n",
    "- Softmax for multi-class classification problems. \n",
    "\n",
    "You'll typically see ReLU used for all initial layers and then the final layer being sigmoid or softmax for classification problems. But you can experiment and tune these selections as hyperparameters as well!"
   ]
  },
  {
   "cell_type": "markdown",
   "metadata": {
    "colab_type": "text",
    "id": "TWuoXZCCKCI7"
   },
   "source": [
    "## MNIST with Keras \n",
    "\n",
    "### This will be a good chance to bring up dropout regularization. :)"
   ]
  },
  {
   "cell_type": "code",
   "execution_count": 49,
   "metadata": {
    "colab": {},
    "colab_type": "code",
    "id": "jmJ_5azs04pU"
   },
   "outputs": [],
   "source": [
    "### Let's do it!\n",
    "\n",
    "from tensorflow import keras\n",
    "from tensorflow.keras.datasets import mnist"
   ]
  },
  {
   "cell_type": "code",
   "execution_count": 50,
   "metadata": {},
   "outputs": [],
   "source": [
    "# Hyper Parameters\n",
    "batch_size = 64\n",
    "num_classes = 10\n",
    "epochs = 20"
   ]
  },
  {
   "cell_type": "code",
   "execution_count": 51,
   "metadata": {},
   "outputs": [],
   "source": [
    "# Load the Data\n",
    "(X_train, y_train), (X_test, y_test) = mnist.load_data()"
   ]
  },
  {
   "cell_type": "code",
   "execution_count": 52,
   "metadata": {},
   "outputs": [
    {
     "data": {
      "text/plain": [
       "(28, 28)"
      ]
     },
     "execution_count": 52,
     "metadata": {},
     "output_type": "execute_result"
    }
   ],
   "source": [
    "X_train[0].shape"
   ]
  },
  {
   "cell_type": "code",
   "execution_count": 53,
   "metadata": {},
   "outputs": [
    {
     "data": {
      "text/plain": [
       "(60000, 28, 28)"
      ]
     },
     "execution_count": 53,
     "metadata": {},
     "output_type": "execute_result"
    }
   ],
   "source": [
    "X_train.shape"
   ]
  },
  {
   "cell_type": "code",
   "execution_count": 54,
   "metadata": {},
   "outputs": [
    {
     "data": {
      "text/plain": [
       "array([[  0,   0,   0,   0,   0,   0,   0,   0,   0,   0,   0,   0,   0,\n",
       "          0,   0,   0,   0,   0,   0,   0,   0,   0,   0,   0,   0,   0,\n",
       "          0,   0],\n",
       "       [  0,   0,   0,   0,   0,   0,   0,   0,   0,   0,   0,   0,   0,\n",
       "          0,   0,   0,   0,   0,   0,   0,   0,   0,   0,   0,   0,   0,\n",
       "          0,   0],\n",
       "       [  0,   0,   0,   0,   0,   0,   0,   0,   0,   0,   0,   0,   0,\n",
       "          0,   0,   0,   0,   0,   0,   0,   0,   0,   0,   0,   0,   0,\n",
       "          0,   0],\n",
       "       [  0,   0,   0,   0,   0,   0,   0,   0,   0,   0,   0,   0,   0,\n",
       "          0,   0,   0,   0,   0,   0,   0,   0,   0,   0,   0,   0,   0,\n",
       "          0,   0],\n",
       "       [  0,   0,   0,   0,   0,   0,   0,   0,   0,   0,   0,   0,   0,\n",
       "          0,   0,   0,   0,   0,   0,   0,   0,   0,   0,   0,   0,   0,\n",
       "          0,   0],\n",
       "       [  0,   0,   0,   0,   0,   0,   0,   0,   0,   0,   0,   0,   3,\n",
       "         18,  18,  18, 126, 136, 175,  26, 166, 255, 247, 127,   0,   0,\n",
       "          0,   0],\n",
       "       [  0,   0,   0,   0,   0,   0,   0,   0,  30,  36,  94, 154, 170,\n",
       "        253, 253, 253, 253, 253, 225, 172, 253, 242, 195,  64,   0,   0,\n",
       "          0,   0],\n",
       "       [  0,   0,   0,   0,   0,   0,   0,  49, 238, 253, 253, 253, 253,\n",
       "        253, 253, 253, 253, 251,  93,  82,  82,  56,  39,   0,   0,   0,\n",
       "          0,   0],\n",
       "       [  0,   0,   0,   0,   0,   0,   0,  18, 219, 253, 253, 253, 253,\n",
       "        253, 198, 182, 247, 241,   0,   0,   0,   0,   0,   0,   0,   0,\n",
       "          0,   0],\n",
       "       [  0,   0,   0,   0,   0,   0,   0,   0,  80, 156, 107, 253, 253,\n",
       "        205,  11,   0,  43, 154,   0,   0,   0,   0,   0,   0,   0,   0,\n",
       "          0,   0],\n",
       "       [  0,   0,   0,   0,   0,   0,   0,   0,   0,  14,   1, 154, 253,\n",
       "         90,   0,   0,   0,   0,   0,   0,   0,   0,   0,   0,   0,   0,\n",
       "          0,   0],\n",
       "       [  0,   0,   0,   0,   0,   0,   0,   0,   0,   0,   0, 139, 253,\n",
       "        190,   2,   0,   0,   0,   0,   0,   0,   0,   0,   0,   0,   0,\n",
       "          0,   0],\n",
       "       [  0,   0,   0,   0,   0,   0,   0,   0,   0,   0,   0,  11, 190,\n",
       "        253,  70,   0,   0,   0,   0,   0,   0,   0,   0,   0,   0,   0,\n",
       "          0,   0],\n",
       "       [  0,   0,   0,   0,   0,   0,   0,   0,   0,   0,   0,   0,  35,\n",
       "        241, 225, 160, 108,   1,   0,   0,   0,   0,   0,   0,   0,   0,\n",
       "          0,   0],\n",
       "       [  0,   0,   0,   0,   0,   0,   0,   0,   0,   0,   0,   0,   0,\n",
       "         81, 240, 253, 253, 119,  25,   0,   0,   0,   0,   0,   0,   0,\n",
       "          0,   0],\n",
       "       [  0,   0,   0,   0,   0,   0,   0,   0,   0,   0,   0,   0,   0,\n",
       "          0,  45, 186, 253, 253, 150,  27,   0,   0,   0,   0,   0,   0,\n",
       "          0,   0],\n",
       "       [  0,   0,   0,   0,   0,   0,   0,   0,   0,   0,   0,   0,   0,\n",
       "          0,   0,  16,  93, 252, 253, 187,   0,   0,   0,   0,   0,   0,\n",
       "          0,   0],\n",
       "       [  0,   0,   0,   0,   0,   0,   0,   0,   0,   0,   0,   0,   0,\n",
       "          0,   0,   0,   0, 249, 253, 249,  64,   0,   0,   0,   0,   0,\n",
       "          0,   0],\n",
       "       [  0,   0,   0,   0,   0,   0,   0,   0,   0,   0,   0,   0,   0,\n",
       "          0,  46, 130, 183, 253, 253, 207,   2,   0,   0,   0,   0,   0,\n",
       "          0,   0],\n",
       "       [  0,   0,   0,   0,   0,   0,   0,   0,   0,   0,   0,   0,  39,\n",
       "        148, 229, 253, 253, 253, 250, 182,   0,   0,   0,   0,   0,   0,\n",
       "          0,   0],\n",
       "       [  0,   0,   0,   0,   0,   0,   0,   0,   0,   0,  24, 114, 221,\n",
       "        253, 253, 253, 253, 201,  78,   0,   0,   0,   0,   0,   0,   0,\n",
       "          0,   0],\n",
       "       [  0,   0,   0,   0,   0,   0,   0,   0,  23,  66, 213, 253, 253,\n",
       "        253, 253, 198,  81,   2,   0,   0,   0,   0,   0,   0,   0,   0,\n",
       "          0,   0],\n",
       "       [  0,   0,   0,   0,   0,   0,  18, 171, 219, 253, 253, 253, 253,\n",
       "        195,  80,   9,   0,   0,   0,   0,   0,   0,   0,   0,   0,   0,\n",
       "          0,   0],\n",
       "       [  0,   0,   0,   0,  55, 172, 226, 253, 253, 253, 253, 244, 133,\n",
       "         11,   0,   0,   0,   0,   0,   0,   0,   0,   0,   0,   0,   0,\n",
       "          0,   0],\n",
       "       [  0,   0,   0,   0, 136, 253, 253, 253, 212, 135, 132,  16,   0,\n",
       "          0,   0,   0,   0,   0,   0,   0,   0,   0,   0,   0,   0,   0,\n",
       "          0,   0],\n",
       "       [  0,   0,   0,   0,   0,   0,   0,   0,   0,   0,   0,   0,   0,\n",
       "          0,   0,   0,   0,   0,   0,   0,   0,   0,   0,   0,   0,   0,\n",
       "          0,   0],\n",
       "       [  0,   0,   0,   0,   0,   0,   0,   0,   0,   0,   0,   0,   0,\n",
       "          0,   0,   0,   0,   0,   0,   0,   0,   0,   0,   0,   0,   0,\n",
       "          0,   0],\n",
       "       [  0,   0,   0,   0,   0,   0,   0,   0,   0,   0,   0,   0,   0,\n",
       "          0,   0,   0,   0,   0,   0,   0,   0,   0,   0,   0,   0,   0,\n",
       "          0,   0]], dtype=uint8)"
      ]
     },
     "execution_count": 54,
     "metadata": {},
     "output_type": "execute_result"
    }
   ],
   "source": [
    "X_train[0]"
   ]
  },
  {
   "cell_type": "code",
   "execution_count": 55,
   "metadata": {},
   "outputs": [],
   "source": [
    "# Reshape the data\n",
    "X_train = X_train.reshape(60000, 784)\n",
    "X_test = X_test.reshape(10000, 784)"
   ]
  },
  {
   "cell_type": "code",
   "execution_count": 56,
   "metadata": {},
   "outputs": [],
   "source": [
    "# X Variable Types\n",
    "X_train = X_train.astype('float32')\n",
    "X_test = X_test.astype('float32')"
   ]
  },
  {
   "cell_type": "code",
   "execution_count": 57,
   "metadata": {},
   "outputs": [
    {
     "data": {
      "text/plain": [
       "5"
      ]
     },
     "execution_count": 57,
     "metadata": {},
     "output_type": "execute_result"
    }
   ],
   "source": [
    "y_train[0] "
   ]
  },
  {
   "cell_type": "code",
   "execution_count": 58,
   "metadata": {},
   "outputs": [],
   "source": [
    "# Correct Encoding on Y\n",
    "# What softmax expects = [0,0,0,0,0,1,0,0,0,0]\n",
    "\n",
    "y_train = keras.utils.to_categorical(y_train, num_classes)\n",
    "y_test = keras.utils.to_categorical(y_test, num_classes)"
   ]
  },
  {
   "cell_type": "code",
   "execution_count": 59,
   "metadata": {},
   "outputs": [
    {
     "name": "stdout",
     "output_type": "stream",
     "text": [
      "Model: \"sequential_5\"\n",
      "_________________________________________________________________\n",
      "Layer (type)                 Output Shape              Param #   \n",
      "=================================================================\n",
      "dense_10 (Dense)             (None, 16)                12560     \n",
      "_________________________________________________________________\n",
      "dense_11 (Dense)             (None, 16)                272       \n",
      "_________________________________________________________________\n",
      "dense_12 (Dense)             (None, 10)                170       \n",
      "=================================================================\n",
      "Total params: 13,002\n",
      "Trainable params: 13,002\n",
      "Non-trainable params: 0\n",
      "_________________________________________________________________\n"
     ]
    }
   ],
   "source": [
    "mnist_model = Sequential()\n",
    "\n",
    "# Input => Hidden\n",
    "mnist_model.add(Dense(16, input_dim=784, activation='relu'))\n",
    "# Hidden\n",
    "mnist_model.add(Dense(16, activation='relu')) \n",
    "# Output\n",
    "mnist_model.add(Dense(10,activation='softmax'))\n",
    "\n",
    "#Compile\n",
    "mnist_model.compile(loss='categorical_crossentropy',\n",
    "                    optimizer='adam',\n",
    "                    metrics=['accuracy'])\n",
    "\n",
    "mnist_model.summary()"
   ]
  },
  {
   "cell_type": "code",
   "execution_count": 60,
   "metadata": {},
   "outputs": [
    {
     "data": {
      "text/plain": [
       "(10000, 10)"
      ]
     },
     "execution_count": 60,
     "metadata": {},
     "output_type": "execute_result"
    }
   ],
   "source": [
    "y_test.shape"
   ]
  },
  {
   "cell_type": "code",
   "execution_count": 61,
   "metadata": {},
   "outputs": [
    {
     "name": "stdout",
     "output_type": "stream",
     "text": [
      "Epoch 1/20\n",
      "60000/60000 [==============================] - 2s 36us/sample - loss: 1.8550 - acc: 0.5902\n",
      "Epoch 2/20\n",
      "60000/60000 [==============================] - 2s 34us/sample - loss: 0.6936 - acc: 0.8031\n",
      "Epoch 3/20\n",
      "60000/60000 [==============================] - 2s 36us/sample - loss: 0.4943 - acc: 0.8627\n",
      "Epoch 4/20\n",
      "60000/60000 [==============================] - 2s 34us/sample - loss: 0.3982 - acc: 0.8900\n",
      "Epoch 5/20\n",
      "60000/60000 [==============================] - 2s 32us/sample - loss: 0.3475 - acc: 0.9058\n",
      "Epoch 6/20\n",
      "60000/60000 [==============================] - 2s 32us/sample - loss: 0.3138 - acc: 0.9153\n",
      "Epoch 7/20\n",
      "60000/60000 [==============================] - 2s 32us/sample - loss: 0.2920 - acc: 0.9209\n",
      "Epoch 8/20\n",
      "60000/60000 [==============================] - 2s 32us/sample - loss: 0.2789 - acc: 0.9253\n",
      "Epoch 9/20\n",
      "60000/60000 [==============================] - 2s 32us/sample - loss: 0.2721 - acc: 0.9262\n",
      "Epoch 10/20\n",
      "60000/60000 [==============================] - 2s 32us/sample - loss: 0.2580 - acc: 0.93071s - l\n",
      "Epoch 11/20\n",
      "60000/60000 [==============================] - 2s 32us/sample - loss: 0.2539 - acc: 0.9301\n",
      "Epoch 12/20\n",
      "60000/60000 [==============================] - 2s 33us/sample - loss: 0.2522 - acc: 0.9303\n",
      "Epoch 13/20\n",
      "60000/60000 [==============================] - 2s 33us/sample - loss: 0.2469 - acc: 0.9322\n",
      "Epoch 14/20\n",
      "60000/60000 [==============================] - 2s 33us/sample - loss: 0.2414 - acc: 0.9334\n",
      "Epoch 15/20\n",
      "60000/60000 [==============================] - 2s 34us/sample - loss: 0.2369 - acc: 0.9350\n",
      "Epoch 16/20\n",
      "60000/60000 [==============================] - 2s 34us/sample - loss: 0.2333 - acc: 0.9359\n",
      "Epoch 17/20\n",
      "60000/60000 [==============================] - 3s 42us/sample - loss: 0.2297 - acc: 0.9360\n",
      "Epoch 18/20\n",
      "60000/60000 [==============================] - 3s 42us/sample - loss: 0.2252 - acc: 0.9371\n",
      "Epoch 19/20\n",
      "60000/60000 [==============================] - 2s 39us/sample - loss: 0.2221 - acc: 0.9380\n",
      "Epoch 20/20\n",
      "60000/60000 [==============================] - 2s 40us/sample - loss: 0.2149 - acc: 0.9396\n",
      "10000/10000 [==============================] - 0s 21us/sample - loss: 0.2804 - acc: 0.9324\n"
     ]
    }
   ],
   "source": [
    "history = mnist_model.fit(X_train, y_train, batch_size=32, epochs=epochs)\n",
    "scores = mnist_model.evaluate(X_test, y_test)\n",
    "#print(f'{mnist_model.metrics_names[1]}: {scores[1]*100}')"
   ]
  },
  {
   "cell_type": "markdown",
   "metadata": {
    "colab_type": "text",
    "id": "CKmx8153w9Ci"
   },
   "source": [
    "## What if we use dropout techniques to prevent overfitting? How does that affect our model?\n",
    "\n",
    "![Regularization](https://upload.wikimedia.org/wikipedia/commons/thumb/0/02/Regularization.svg/354px-Regularization.svg.png)"
   ]
  },
  {
   "cell_type": "code",
   "execution_count": 62,
   "metadata": {},
   "outputs": [
    {
     "name": "stdout",
     "output_type": "stream",
     "text": [
      "Model: \"sequential_6\"\n",
      "_________________________________________________________________\n",
      "Layer (type)                 Output Shape              Param #   \n",
      "=================================================================\n",
      "dense_13 (Dense)             (None, 32)                25120     \n",
      "_________________________________________________________________\n",
      "dropout_2 (Dropout)          (None, 32)                0         \n",
      "_________________________________________________________________\n",
      "dense_14 (Dense)             (None, 16)                528       \n",
      "_________________________________________________________________\n",
      "dropout_3 (Dropout)          (None, 16)                0         \n",
      "_________________________________________________________________\n",
      "dense_15 (Dense)             (None, 10)                170       \n",
      "=================================================================\n",
      "Total params: 25,818\n",
      "Trainable params: 25,818\n",
      "Non-trainable params: 0\n",
      "_________________________________________________________________\n"
     ]
    }
   ],
   "source": [
    "### Let's do it!\n",
    "from tensorflow import keras \n",
    "from tensorflow.keras.datasets import mnist\n",
    "from tensorflow.keras.models import Sequential\n",
    "from tensorflow.keras.layers import Dense, Dropout\n",
    "\n",
    "import numpy as np\n",
    "\n",
    "mnist_model = Sequential()\n",
    "\n",
    "# Hidden\n",
    "mnist_model.add(Dense(32, input_dim=784, activation='relu'))\n",
    "mnist_model.add(Dropout(0.2))\n",
    "mnist_model.add(Dense(16, activation='relu'))\n",
    "mnist_model.add(Dropout(0.2))\n",
    "# Output Layer\n",
    "mnist_model.add(Dense(10, activation='softmax'))\n",
    "\n",
    "mnist_model.compile(loss='categorical_crossentropy',\n",
    "                    optimizer='adam', \n",
    "                    metrics=['accuracy'])\n",
    "mnist_model.summary()"
   ]
  },
  {
   "cell_type": "code",
   "execution_count": 63,
   "metadata": {},
   "outputs": [
    {
     "name": "stdout",
     "output_type": "stream",
     "text": [
      "10000/10000 [==============================] - 0s 23us/sample - loss: 0.5376 - acc: 0.8727\n",
      "acc: 87.26999759674072\n"
     ]
    }
   ],
   "source": [
    "history = mnist_model.fit(X_train, y_train, batch_size=32, epochs=epochs, validation_split=.1, verbose=0)\n",
    "scores = mnist_model.evaluate(X_test, y_test)\n",
    "print(f'{mnist_model.metrics_names[1]}: {scores[1]*100}')"
   ]
  }
 ],
 "metadata": {
  "colab": {
   "collapsed_sections": [],
   "name": "LS_DS_433_Keras_Lecture.ipynb",
   "provenance": [],
   "version": "0.3.2"
  },
  "kernelspec": {
   "display_name": "Python 3",
   "language": "python",
   "name": "python3"
  },
  "language_info": {
   "codemirror_mode": {
    "name": "ipython",
    "version": 3
   },
   "file_extension": ".py",
   "mimetype": "text/x-python",
   "name": "python",
   "nbconvert_exporter": "python",
   "pygments_lexer": "ipython3",
   "version": "3.7.3"
  }
 },
 "nbformat": 4,
 "nbformat_minor": 2
}
