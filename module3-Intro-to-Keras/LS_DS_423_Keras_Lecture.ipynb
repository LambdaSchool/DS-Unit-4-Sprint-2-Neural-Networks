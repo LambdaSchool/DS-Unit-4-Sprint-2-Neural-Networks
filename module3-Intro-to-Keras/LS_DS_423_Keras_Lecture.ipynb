{
 "cells": [
  {
   "cell_type": "markdown",
   "metadata": {
    "colab_type": "text",
    "id": "HJzTIkYAsLxw"
   },
   "source": [
    "Lambda School Data Science\n",
    "\n",
    "*Unit 4, Sprint 2, Module 3*\n",
    "\n",
    "---"
   ]
  },
  {
   "cell_type": "markdown",
   "metadata": {
    "colab_type": "text",
    "id": "HJzTIkYAsLxw"
   },
   "source": [
    "# Neural Network Frameworks (Prepare)"
   ]
  },
  {
   "cell_type": "markdown",
   "metadata": {
    "colab_type": "text",
    "id": "HJzTIkYAsLxw"
   },
   "source": [
    "## Learning Objectives\n",
    "* <a href=\"#p1\">Part 1</a>: Introduce the Keras Sequential Model API\n",
    "* <a href=\"#p2\">Part 2</a>: Learn How to Select Model Architecture \n",
    "* <a href=\"#p3\">Part 3</a>: Discuss the trade-off between various activation functions\n",
    "\n",
    "## Lets Use Libraries!\n",
    "\n",
    "The objective of the last two days has been to familiarize you with the fundamentals of neural networks: terminology, structure of networks, forward propagation, error/cost functions, backpropagation, epochs, and gradient descent. We have tried to reinforce these topics by requiring to you code some of the simplest neural networks by hand including Perceptrons (single node neural networks) and Multi-Layer Perceptrons also known as Feed-Forward Neural Networks. Continuing to do things by hand would not be the best use of our limited time. You're ready to graduate from doing things by hand and start using some powerful libraries to build cutting-edge predictive models. "
   ]
  },
  {
   "cell_type": "markdown",
   "metadata": {},
   "source": [
    "# Keras Sequential API (Learn)"
   ]
  },
  {
   "cell_type": "markdown",
   "metadata": {
    "toc-hr-collapsed": true
   },
   "source": [
    "## Overview\n",
    "\n",
    "> \"Keras is a high-level neural networks API, written in Python and capable of running on top of TensorFlow, CNTK, or Theano. It was developed with a focus on enabling fast experimentation. Being able to go from idea to result with the least possible delay is key to doing good research. Use Keras if you need a deep learning library that:\n",
    "\n",
    "> Allows for easy and fast prototyping (through user friendliness, modularity, and extensibility).\n",
    "Supports both convolutional networks and recurrent networks, as well as combinations of the two.\n",
    "Runs seamlessly on CPU and GPU.\" "
   ]
  },
  {
   "cell_type": "markdown",
   "metadata": {
    "colab_type": "text",
    "id": "AIJoRBxHy27n"
   },
   "source": [
    "### Keras Perceptron Sample"
   ]
  },
  {
   "cell_type": "code",
   "execution_count": 1,
   "metadata": {},
   "outputs": [],
   "source": [
    "import pandas as pd\n",
    "\n",
    "data = { 'x1': [0,1,0,1],\n",
    "         'x2': [0,0,1,1],\n",
    "         'y':  [1,1,1,0]\n",
    "       }\n",
    "\n",
    "df = pd.DataFrame.from_dict(data).astype('int')\n",
    "X = df[['x1', 'x2']].values\n",
    "y = df['y'].values"
   ]
  },
  {
   "cell_type": "code",
   "execution_count": 2,
   "metadata": {},
   "outputs": [
    {
     "name": "stdout",
     "output_type": "stream",
     "text": "Train on 4 samples\nEpoch 1/5\n4/4 [==============================] - 0s 92ms/sample - loss: 0.7809 - accuracy: 0.5000\nEpoch 2/5\n4/4 [==============================] - 0s 250us/sample - loss: 0.7805 - accuracy: 0.7500\nEpoch 3/5\n4/4 [==============================] - 0s 500us/sample - loss: 0.7801 - accuracy: 0.7500\nEpoch 4/5\n4/4 [==============================] - 0s 500us/sample - loss: 0.7797 - accuracy: 0.7500\nEpoch 5/5\n4/4 [==============================] - 0s 500us/sample - loss: 0.7793 - accuracy: 0.7500\n"
    },
    {
     "data": {
      "text/plain": "<tensorflow.python.keras.callbacks.History at 0x175c4d24a08>"
     },
     "execution_count": 2,
     "metadata": {},
     "output_type": "execute_result"
    }
   ],
   "source": [
    "from tensorflow.keras.models import Sequential\n",
    "from tensorflow.keras.layers import Dense\n",
    "\n",
    "# This is our perceptron from Monday's by-hand: \n",
    "model = Sequential()\n",
    "model.add(Dense(1,input_dim=2, activation='sigmoid'))\n",
    "model.compile(loss='binary_crossentropy', optimizer='adam', metrics=['accuracy'])\n",
    "model.fit(X,y, epochs=5)"
   ]
  },
  {
   "cell_type": "code",
   "execution_count": 3,
   "metadata": {},
   "outputs": [
    {
     "name": "stdout",
     "output_type": "stream",
     "text": "4/4 [==============================] - 0s 14ms/sample - loss: 0.7789 - accuracy: 0.7500\naccuracy: 75.0\n"
    }
   ],
   "source": [
    "# evaluate the model\n",
    "scores = model.evaluate(X, y)\n",
    "print(f\"{model.metrics_names[1]}: {scores[1]*100}\")"
   ]
  },
  {
   "cell_type": "markdown",
   "metadata": {
    "toc-hr-collapsed": true
   },
   "source": [
    "## Follow Along\n",
    "\n",
    "In the `Sequential` api model, you specify a model architecture by 'sequentially specifying layers. This type of specification works well for feed forward neural networks in which the data flows in one direction (forward propagation) and the error flows in the opposite direction (backwards propagation). The Keras `Sequential` API follows a standardarized worklow to estimate a 'net: \n",
    "\n",
    "1. Load Data\n",
    "2. Define Model\n",
    "3. Compile Model\n",
    "4. Fit Model\n",
    "5. Evaluate Model\n",
    "\n",
    "You saw these steps in our Keras Perceptron Sample, but let's walk thru each step in detail."
   ]
  },
  {
   "cell_type": "markdown",
   "metadata": {
    "colab_type": "text",
    "id": "Md5D67XwqVAf",
    "toc-hr-collapsed": false
   },
   "source": [
    "### Load Data\n",
    "\n",
    "Our life is going to be easier if our data is already cleaned up and numeric, so lets use this dataset from Jason Brownlee that is already numeric and has no column headers so we'll need to slice off the last column of data to act as our y values."
   ]
  },
  {
   "cell_type": "code",
   "execution_count": 4,
   "metadata": {},
   "outputs": [],
   "source": [
    "import pandas as pd\n",
    "\n",
    "url =\"https://raw.githubusercontent.com/jbrownlee/Datasets/master/pima-indians-diabetes.data.csv\"\n",
    "\n",
    "dataset = pd.read_csv(url, header=None)"
   ]
  },
  {
   "cell_type": "code",
   "execution_count": 5,
   "metadata": {},
   "outputs": [
    {
     "data": {
      "text/html": "<div>\n<style scoped>\n    .dataframe tbody tr th:only-of-type {\n        vertical-align: middle;\n    }\n\n    .dataframe tbody tr th {\n        vertical-align: top;\n    }\n\n    .dataframe thead th {\n        text-align: right;\n    }\n</style>\n<table border=\"1\" class=\"dataframe\">\n  <thead>\n    <tr style=\"text-align: right;\">\n      <th></th>\n      <th>0</th>\n      <th>1</th>\n      <th>2</th>\n      <th>3</th>\n      <th>4</th>\n      <th>5</th>\n      <th>6</th>\n      <th>7</th>\n      <th>8</th>\n    </tr>\n  </thead>\n  <tbody>\n    <tr>\n      <th>0</th>\n      <td>6</td>\n      <td>148</td>\n      <td>72</td>\n      <td>35</td>\n      <td>0</td>\n      <td>33.6</td>\n      <td>0.627</td>\n      <td>50</td>\n      <td>1</td>\n    </tr>\n    <tr>\n      <th>1</th>\n      <td>1</td>\n      <td>85</td>\n      <td>66</td>\n      <td>29</td>\n      <td>0</td>\n      <td>26.6</td>\n      <td>0.351</td>\n      <td>31</td>\n      <td>0</td>\n    </tr>\n    <tr>\n      <th>2</th>\n      <td>8</td>\n      <td>183</td>\n      <td>64</td>\n      <td>0</td>\n      <td>0</td>\n      <td>23.3</td>\n      <td>0.672</td>\n      <td>32</td>\n      <td>1</td>\n    </tr>\n    <tr>\n      <th>3</th>\n      <td>1</td>\n      <td>89</td>\n      <td>66</td>\n      <td>23</td>\n      <td>94</td>\n      <td>28.1</td>\n      <td>0.167</td>\n      <td>21</td>\n      <td>0</td>\n    </tr>\n    <tr>\n      <th>4</th>\n      <td>0</td>\n      <td>137</td>\n      <td>40</td>\n      <td>35</td>\n      <td>168</td>\n      <td>43.1</td>\n      <td>2.288</td>\n      <td>33</td>\n      <td>1</td>\n    </tr>\n  </tbody>\n</table>\n</div>",
      "text/plain": "   0    1   2   3    4     5      6   7  8\n0  6  148  72  35    0  33.6  0.627  50  1\n1  1   85  66  29    0  26.6  0.351  31  0\n2  8  183  64   0    0  23.3  0.672  32  1\n3  1   89  66  23   94  28.1  0.167  21  0\n4  0  137  40  35  168  43.1  2.288  33  1"
     },
     "execution_count": 5,
     "metadata": {},
     "output_type": "execute_result"
    }
   ],
   "source": [
    "dataset.head()"
   ]
  },
  {
   "cell_type": "code",
   "execution_count": 6,
   "metadata": {},
   "outputs": [
    {
     "name": "stdout",
     "output_type": "stream",
     "text": "(768, 8)\n[[  6.    148.     72.    ...  33.6     0.627  50.   ]\n [  1.     85.     66.    ...  26.6     0.351  31.   ]\n [  8.    183.     64.    ...  23.3     0.672  32.   ]\n ...\n [  5.    121.     72.    ...  26.2     0.245  30.   ]\n [  1.    126.     60.    ...  30.1     0.349  47.   ]\n [  1.     93.     70.    ...  30.4     0.315  23.   ]]\n"
    }
   ],
   "source": [
    "X = dataset.values[:,0:8]\n",
    "print(X.shape)\n",
    "print(X)"
   ]
  },
  {
   "cell_type": "code",
   "execution_count": 7,
   "metadata": {},
   "outputs": [
    {
     "name": "stdout",
     "output_type": "stream",
     "text": "(768,)\n[1. 0. 1. 0. 1. 0. 1. 0. 1. 1. 0. 1. 0. 1. 1. 1. 1. 1. 0. 1. 0. 0. 1. 1.\n 1. 1. 1. 0. 0. 0. 0. 1. 0. 0. 0. 0. 0. 1. 1. 1. 0. 0. 0. 1. 0. 1. 0. 0.\n 1. 0. 0. 0. 0. 1. 0. 0. 1. 0. 0. 0. 0. 1. 0. 0. 1. 0. 1. 0. 0. 0. 1. 0.\n 1. 0. 0. 0. 0. 0. 1. 0. 0. 0. 0. 0. 1. 0. 0. 0. 1. 0. 0. 0. 0. 1. 0. 0.\n 0. 0. 0. 1. 1. 0. 0. 0. 0. 0. 0. 0. 0. 1. 1. 1. 0. 0. 1. 1. 1. 0. 0. 0.\n 1. 0. 0. 0. 1. 1. 0. 0. 1. 1. 1. 1. 1. 0. 0. 0. 0. 0. 0. 0. 0. 0. 0. 1.\n 0. 0. 0. 0. 0. 0. 0. 0. 1. 0. 1. 1. 0. 0. 0. 1. 0. 0. 0. 0. 1. 1. 0. 0.\n 0. 0. 1. 1. 0. 0. 0. 1. 0. 1. 0. 1. 0. 0. 0. 0. 0. 1. 1. 1. 1. 1. 0. 0.\n 1. 1. 0. 1. 0. 1. 1. 1. 0. 0. 0. 0. 0. 0. 1. 1. 0. 1. 0. 0. 0. 1. 1. 1.\n 1. 0. 1. 1. 1. 1. 0. 0. 0. 0. 0. 1. 0. 0. 1. 1. 0. 0. 0. 1. 1. 1. 1. 0.\n 0. 0. 1. 1. 0. 1. 0. 0. 0. 0. 0. 0. 0. 0. 1. 1. 0. 0. 0. 1. 0. 1. 0. 0.\n 1. 0. 1. 0. 0. 1. 1. 0. 0. 0. 0. 0. 1. 0. 0. 0. 1. 0. 0. 1. 1. 0. 0. 1.\n 0. 0. 0. 1. 1. 1. 0. 0. 1. 0. 1. 0. 1. 1. 0. 1. 0. 0. 1. 0. 1. 1. 0. 0.\n 1. 0. 1. 0. 0. 1. 0. 1. 0. 1. 1. 1. 0. 0. 1. 0. 1. 0. 0. 0. 1. 0. 0. 0.\n 0. 1. 1. 1. 0. 0. 0. 0. 0. 0. 0. 0. 0. 1. 0. 0. 0. 0. 0. 1. 1. 1. 0. 1.\n 1. 0. 0. 1. 0. 0. 1. 0. 0. 1. 1. 0. 0. 0. 0. 1. 0. 0. 1. 0. 0. 0. 0. 0.\n 0. 0. 1. 1. 1. 0. 0. 1. 0. 0. 1. 0. 0. 1. 0. 1. 1. 0. 1. 0. 1. 0. 1. 0.\n 1. 1. 0. 0. 0. 0. 1. 1. 0. 1. 0. 1. 0. 0. 0. 0. 1. 1. 0. 1. 0. 1. 0. 0.\n 0. 0. 0. 1. 0. 0. 0. 0. 1. 0. 0. 1. 1. 1. 0. 0. 1. 0. 0. 1. 0. 0. 0. 1.\n 0. 0. 1. 0. 0. 0. 0. 0. 0. 0. 0. 0. 1. 0. 0. 0. 0. 0. 0. 0. 1. 0. 0. 0.\n 1. 0. 0. 0. 1. 1. 0. 0. 0. 0. 0. 0. 0. 1. 0. 0. 0. 0. 1. 0. 0. 0. 1. 0.\n 0. 0. 1. 0. 0. 0. 1. 0. 0. 0. 0. 1. 1. 0. 0. 0. 0. 0. 0. 1. 0. 0. 0. 0.\n 0. 0. 0. 0. 0. 0. 0. 1. 0. 0. 0. 1. 1. 1. 1. 0. 0. 1. 1. 0. 0. 0. 0. 0.\n 0. 0. 0. 0. 0. 0. 0. 0. 1. 1. 0. 0. 0. 0. 0. 0. 0. 1. 0. 0. 0. 0. 0. 0.\n 0. 1. 0. 1. 1. 0. 0. 0. 1. 0. 1. 0. 1. 0. 1. 0. 1. 0. 0. 1. 0. 0. 1. 0.\n 0. 0. 0. 1. 1. 0. 1. 0. 0. 0. 0. 1. 1. 0. 1. 0. 0. 0. 1. 1. 0. 0. 0. 0.\n 0. 0. 0. 0. 0. 0. 1. 0. 0. 0. 0. 1. 0. 0. 1. 0. 0. 0. 1. 0. 0. 0. 1. 1.\n 1. 0. 0. 0. 0. 0. 0. 1. 0. 0. 0. 1. 0. 1. 1. 1. 1. 0. 1. 1. 0. 0. 0. 0.\n 0. 0. 0. 1. 1. 0. 1. 0. 0. 1. 0. 1. 0. 0. 0. 0. 0. 1. 0. 1. 0. 1. 0. 1.\n 1. 0. 0. 0. 0. 1. 1. 0. 0. 0. 1. 0. 1. 1. 0. 0. 1. 0. 0. 1. 1. 0. 0. 1.\n 0. 0. 1. 0. 0. 0. 0. 0. 0. 0. 1. 1. 1. 0. 0. 0. 0. 0. 0. 1. 1. 0. 0. 1.\n 0. 0. 1. 0. 1. 1. 1. 0. 0. 1. 1. 1. 0. 1. 0. 1. 0. 1. 0. 0. 0. 0. 1. 0.]\n"
    }
   ],
   "source": [
    "y = dataset.values[:,-1]\n",
    "print(y.shape)\n",
    "print(y)"
   ]
  },
  {
   "cell_type": "markdown",
   "metadata": {
    "colab_type": "text",
    "id": "o0xMqOyTs5xt"
   },
   "source": [
    "### Define Model"
   ]
  },
  {
   "cell_type": "code",
   "execution_count": 8,
   "metadata": {},
   "outputs": [],
   "source": [
    "from tensorflow.keras.models import Sequential\n",
    "from tensorflow.keras.layers import Dense\n",
    "\n",
    "import numpy as np\n",
    "\n",
    "np.random.seed(812)"
   ]
  },
  {
   "cell_type": "markdown",
   "metadata": {
    "colab_type": "text",
    "id": "wAzHLg27thoN"
   },
   "source": [
    "I'll instantiate my model as a \"sequential\" model. This just means that I'm going to tell Keras what my model's architecture should be one layer at a time."
   ]
  },
  {
   "cell_type": "code",
   "execution_count": 9,
   "metadata": {},
   "outputs": [],
   "source": [
    "# https://keras.io/getting-started/sequential-model-guide/\n",
    "model = Sequential()"
   ]
  },
  {
   "cell_type": "markdown",
   "metadata": {
    "colab_type": "text",
    "id": "ZCYX6QzJtvpG"
   },
   "source": [
    "Adding a \"Dense\" layer to our model is how we add \"vanilla\" perceptron-based layers to our neural network. These are also called \"fully-connected\" or \"densely-connected\" layers. They're used as a layer type in lots of other Neural Net Architectures but they're not referred to as perceptrons or multi-layer perceptrons very often in those situations even though that's what they are.\n",
    "\n",
    " > [\"Just your regular densely-connected NN layer.\"](https://keras.io/layers/core/)\n",
    " \n",
    " The first argument is how many neurons we want to have in that layer. To create a perceptron model we will just set it to 1. We will tell it that there will be 8 inputs coming into this layer from our dataset and set it to use the sigmoid activation function."
   ]
  },
  {
   "cell_type": "code",
   "execution_count": 10,
   "metadata": {},
   "outputs": [],
   "source": [
    "model.add(Dense(1, input_dim=8, activation=\"sigmoid\")) #Relu is valid option. "
   ]
  },
  {
   "cell_type": "markdown",
   "metadata": {
    "colab_type": "text",
    "id": "EnI3jwKMtBL2",
    "toc-hr-collapsed": false
   },
   "source": [
    "### Compile Model\n",
    "Using binary_crossentropy as the loss function here is just telling keras that I'm doing binary classification so that it can use the appropriate loss function accordingly. If we were predicting non-binary categories we might assign something like `categorical_crossentropy`. We're also telling keras that we want it to report model accuracy as our main error metric for each epoch. We will also be able to see the overall accuracy once the model has finished training.\n",
    "\n",
    "#### Adam Optimizer\n",
    "Check out this links for more background on the Adam optimizer and Stohastic Gradient Descent\n",
    "* [Adam Optimization Algorithm](https://machinelearningmastery.com/adam-optimization-algorithm-for-deep-learning/)\n",
    "* [Adam Optimizer - original paper](https://arxiv.org/abs/1412.6980)"
   ]
  },
  {
   "cell_type": "code",
   "execution_count": 11,
   "metadata": {},
   "outputs": [],
   "source": [
    "model.compile(loss='binary_crossentropy', optimizer='adam', metrics=['accuracy'])"
   ]
  },
  {
   "cell_type": "markdown",
   "metadata": {
    "colab_type": "text",
    "id": "5dW8SZ2Ls9SX",
    "toc-hr-collapsed": false
   },
   "source": [
    "### Fit Model\n",
    "\n",
    "Lets train it up! `model.fit()` has a `batch_size` parameter that we can use if we want to do mini-batch epochs, but since this tabular dataset is pretty small we're just going to delete that parameter. Keras' default `batch_size` is `None` so omiting it will tell Keras to do batch epochs."
   ]
  },
  {
   "cell_type": "code",
   "execution_count": 12,
   "metadata": {},
   "outputs": [
    {
     "name": "stdout",
     "output_type": "stream",
     "text": "Train on 768 samples\nEpoch 1/150\n768/768 [==============================] - 0s 298us/sample - loss: 34.1188 - accuracy: 0.3880\nEpoch 2/150\n768/768 [==============================] - 0s 26us/sample - loss: 31.8125 - accuracy: 0.4089\nEpoch 3/150\n768/768 [==============================] - 0s 40us/sample - loss: 29.7184 - accuracy: 0.4245\nEpoch 4/150\n768/768 [==============================] - 0s 30us/sample - loss: 27.7626 - accuracy: 0.4349\nEpoch 5/150\n768/768 [==============================] - 0s 29us/sample - loss: 25.8799 - accuracy: 0.4466\nEpoch 6/150\n768/768 [==============================] - 0s 25us/sample - loss: 24.2194 - accuracy: 0.4727\nEpoch 7/150\n768/768 [==============================] - 0s 35us/sample - loss: 22.6359 - accuracy: 0.4701\nEpoch 8/150\n768/768 [==============================] - 0s 35us/sample - loss: 21.1334 - accuracy: 0.4805\nEpoch 9/150\n768/768 [==============================] - 0s 38us/sample - loss: 19.6799 - accuracy: 0.4844\nEpoch 10/150\n768/768 [==============================] - 0s 34us/sample - loss: 18.2704 - accuracy: 0.4922\nEpoch 11/150\n768/768 [==============================] - 0s 34us/sample - loss: 16.9328 - accuracy: 0.5052\nEpoch 12/150\n768/768 [==============================] - 0s 38us/sample - loss: 15.6339 - accuracy: 0.5117\nEpoch 13/150\n768/768 [==============================] - 0s 35us/sample - loss: 14.3525 - accuracy: 0.5182\nEpoch 14/150\n768/768 [==============================] - 0s 30us/sample - loss: 13.2003 - accuracy: 0.5339\nEpoch 15/150\n768/768 [==============================] - 0s 29us/sample - loss: 12.1207 - accuracy: 0.5482\nEpoch 16/150\n768/768 [==============================] - 0s 33us/sample - loss: 11.1090 - accuracy: 0.5638\nEpoch 17/150\n768/768 [==============================] - 0s 42us/sample - loss: 10.1921 - accuracy: 0.5690\nEpoch 18/150\n768/768 [==============================] - 0s 40us/sample - loss: 9.3430 - accuracy: 0.5768\nEpoch 19/150\n768/768 [==============================] - 0s 29us/sample - loss: 8.5310 - accuracy: 0.5885\nEpoch 20/150\n768/768 [==============================] - 0s 33us/sample - loss: 7.7727 - accuracy: 0.5924\nEpoch 21/150\n768/768 [==============================] - 0s 34us/sample - loss: 7.0926 - accuracy: 0.6003\nEpoch 22/150\n768/768 [==============================] - 0s 43us/sample - loss: 6.4460 - accuracy: 0.6133\nEpoch 23/150\n768/768 [==============================] - 0s 29us/sample - loss: 5.9172 - accuracy: 0.6263\nEpoch 24/150\n768/768 [==============================] - 0s 35us/sample - loss: 5.4672 - accuracy: 0.6367\nEpoch 25/150\n768/768 [==============================] - 0s 31us/sample - loss: 5.1126 - accuracy: 0.6458\nEpoch 26/150\n768/768 [==============================] - 0s 26us/sample - loss: 4.8124 - accuracy: 0.6458\nEpoch 27/150\n768/768 [==============================] - 0s 39us/sample - loss: 4.5971 - accuracy: 0.6576\nEpoch 28/150\n768/768 [==============================] - 0s 44us/sample - loss: 4.4029 - accuracy: 0.6536\nEpoch 29/150\n768/768 [==============================] - 0s 27us/sample - loss: 4.2636 - accuracy: 0.6602\nEpoch 30/150\n768/768 [==============================] - 0s 31us/sample - loss: 4.1551 - accuracy: 0.6667\nEpoch 31/150\n768/768 [==============================] - 0s 31us/sample - loss: 4.0574 - accuracy: 0.6654\nEpoch 32/150\n768/768 [==============================] - 0s 44us/sample - loss: 3.9815 - accuracy: 0.6745\nEpoch 33/150\n768/768 [==============================] - 0s 30us/sample - loss: 3.9191 - accuracy: 0.6745\nEpoch 34/150\n768/768 [==============================] - 0s 26us/sample - loss: 3.8546 - accuracy: 0.6745\nEpoch 35/150\n768/768 [==============================] - 0s 34us/sample - loss: 3.8088 - accuracy: 0.6745\nEpoch 36/150\n768/768 [==============================] - 0s 26us/sample - loss: 3.7414 - accuracy: 0.6732\nEpoch 37/150\n768/768 [==============================] - 0s 29us/sample - loss: 3.6831 - accuracy: 0.6745\nEpoch 38/150\n768/768 [==============================] - 0s 34us/sample - loss: 3.6288 - accuracy: 0.6693\nEpoch 39/150\n768/768 [==============================] - 0s 35us/sample - loss: 3.5790 - accuracy: 0.6680\nEpoch 40/150\n768/768 [==============================] - 0s 30us/sample - loss: 3.5268 - accuracy: 0.6719\nEpoch 41/150\n768/768 [==============================] - 0s 31us/sample - loss: 3.4735 - accuracy: 0.6719\nEpoch 42/150\n768/768 [==============================] - 0s 26us/sample - loss: 3.4262 - accuracy: 0.6654\nEpoch 43/150\n768/768 [==============================] - 0s 46us/sample - loss: 3.3625 - accuracy: 0.6693\nEpoch 44/150\n768/768 [==============================] - 0s 26us/sample - loss: 3.3190 - accuracy: 0.6732\nEpoch 45/150\n768/768 [==============================] - 0s 31us/sample - loss: 3.2695 - accuracy: 0.6758\nEpoch 46/150\n768/768 [==============================] - 0s 33us/sample - loss: 3.2314 - accuracy: 0.6680\nEpoch 47/150\n768/768 [==============================] - 0s 29us/sample - loss: 3.1667 - accuracy: 0.6719\nEpoch 48/150\n768/768 [==============================] - 0s 30us/sample - loss: 3.1063 - accuracy: 0.6784\nEpoch 49/150\n768/768 [==============================] - 0s 44us/sample - loss: 3.0696 - accuracy: 0.6693\nEpoch 50/150\n768/768 [==============================] - 0s 39us/sample - loss: 3.0146 - accuracy: 0.6693\nEpoch 51/150\n768/768 [==============================] - 0s 33us/sample - loss: 2.9663 - accuracy: 0.6719\nEpoch 52/150\n768/768 [==============================] - 0s 27us/sample - loss: 2.9221 - accuracy: 0.6719\nEpoch 53/150\n768/768 [==============================] - 0s 36us/sample - loss: 2.8776 - accuracy: 0.6719\nEpoch 54/150\n768/768 [==============================] - 0s 31us/sample - loss: 2.8231 - accuracy: 0.6680\nEpoch 55/150\n768/768 [==============================] - 0s 35us/sample - loss: 2.7792 - accuracy: 0.6654\nEpoch 56/150\n768/768 [==============================] - 0s 29us/sample - loss: 2.7513 - accuracy: 0.6641\nEpoch 57/150\n768/768 [==============================] - 0s 31us/sample - loss: 2.6867 - accuracy: 0.6693\nEpoch 58/150\n768/768 [==============================] - 0s 31us/sample - loss: 2.6405 - accuracy: 0.6654\nEpoch 59/150\n768/768 [==============================] - 0s 30us/sample - loss: 2.5965 - accuracy: 0.6680\nEpoch 60/150\n768/768 [==============================] - 0s 47us/sample - loss: 2.5586 - accuracy: 0.6602\nEpoch 61/150\n768/768 [==============================] - 0s 36us/sample - loss: 2.5148 - accuracy: 0.6602\nEpoch 62/150\n768/768 [==============================] - 0s 29us/sample - loss: 2.4661 - accuracy: 0.6589\nEpoch 63/150\n768/768 [==============================] - 0s 30us/sample - loss: 2.4236 - accuracy: 0.6536\nEpoch 64/150\n768/768 [==============================] - 0s 47us/sample - loss: 2.3771 - accuracy: 0.6615\nEpoch 65/150\n768/768 [==============================] - 0s 33us/sample - loss: 2.3453 - accuracy: 0.6602\nEpoch 66/150\n768/768 [==============================] - 0s 29us/sample - loss: 2.2946 - accuracy: 0.6589\nEpoch 67/150\n768/768 [==============================] - 0s 25us/sample - loss: 2.2634 - accuracy: 0.6615\nEpoch 68/150\n768/768 [==============================] - 0s 30us/sample - loss: 2.2199 - accuracy: 0.6654\nEpoch 69/150\n768/768 [==============================] - 0s 33us/sample - loss: 2.1771 - accuracy: 0.6641\nEpoch 70/150\n768/768 [==============================] - 0s 34us/sample - loss: 2.1373 - accuracy: 0.6523\nEpoch 71/150\n768/768 [==============================] - 0s 36us/sample - loss: 2.0916 - accuracy: 0.6549\nEpoch 72/150\n768/768 [==============================] - 0s 29us/sample - loss: 2.0561 - accuracy: 0.6706\nEpoch 73/150\n768/768 [==============================] - 0s 34us/sample - loss: 2.0203 - accuracy: 0.6602\nEpoch 74/150\n768/768 [==============================] - 0s 42us/sample - loss: 1.9789 - accuracy: 0.6589\nEpoch 75/150\n768/768 [==============================] - 0s 31us/sample - loss: 1.9383 - accuracy: 0.6667\nEpoch 76/150\n768/768 [==============================] - 0s 29us/sample - loss: 1.9019 - accuracy: 0.6576\nEpoch 77/150\n768/768 [==============================] - 0s 29us/sample - loss: 1.8626 - accuracy: 0.6667\nEpoch 78/150\n768/768 [==============================] - 0s 29us/sample - loss: 1.8220 - accuracy: 0.6602\nEpoch 79/150\n768/768 [==============================] - 0s 30us/sample - loss: 1.7805 - accuracy: 0.6628\nEpoch 80/150\n768/768 [==============================] - 0s 29us/sample - loss: 1.7481 - accuracy: 0.6576\nEpoch 81/150\n768/768 [==============================] - 0s 38us/sample - loss: 1.7057 - accuracy: 0.6706\nEpoch 82/150\n768/768 [==============================] - 0s 31us/sample - loss: 1.6708 - accuracy: 0.6641\nEpoch 83/150\n768/768 [==============================] - 0s 31us/sample - loss: 1.6292 - accuracy: 0.6745\nEpoch 84/150\n768/768 [==============================] - 0s 33us/sample - loss: 1.5977 - accuracy: 0.6602\nEpoch 85/150\n768/768 [==============================] - 0s 30us/sample - loss: 1.5562 - accuracy: 0.6706\nEpoch 86/150\n768/768 [==============================] - 0s 48us/sample - loss: 1.5350 - accuracy: 0.6615\nEpoch 87/150\n768/768 [==============================] - 0s 30us/sample - loss: 1.4862 - accuracy: 0.6680\nEpoch 88/150\n768/768 [==============================] - 0s 36us/sample - loss: 1.4428 - accuracy: 0.6667\nEpoch 89/150\n768/768 [==============================] - 0s 33us/sample - loss: 1.4077 - accuracy: 0.6641\nEpoch 90/150\n768/768 [==============================] - 0s 31us/sample - loss: 1.3733 - accuracy: 0.6628\nEpoch 91/150\n768/768 [==============================] - 0s 39us/sample - loss: 1.3383 - accuracy: 0.6615\nEpoch 92/150\n768/768 [==============================] - 0s 33us/sample - loss: 1.2995 - accuracy: 0.6615\nEpoch 93/150\n768/768 [==============================] - 0s 30us/sample - loss: 1.2608 - accuracy: 0.6745\nEpoch 94/150\n768/768 [==============================] - 0s 29us/sample - loss: 1.2311 - accuracy: 0.6615\nEpoch 95/150\n768/768 [==============================] - 0s 27us/sample - loss: 1.1879 - accuracy: 0.6667\nEpoch 96/150\n768/768 [==============================] - 0s 48us/sample - loss: 1.1661 - accuracy: 0.6641\nEpoch 97/150\n768/768 [==============================] - 0s 33us/sample - loss: 1.1270 - accuracy: 0.6641\nEpoch 98/150\n768/768 [==============================] - 0s 30us/sample - loss: 1.0880 - accuracy: 0.6615\nEpoch 99/150\n768/768 [==============================] - 0s 27us/sample - loss: 1.0614 - accuracy: 0.6628\nEpoch 100/150\n768/768 [==============================] - 0s 34us/sample - loss: 1.0233 - accuracy: 0.6654\nEpoch 101/150\n768/768 [==============================] - 0s 27us/sample - loss: 0.9941 - accuracy: 0.6706\nEpoch 102/150\n768/768 [==============================] - 0s 34us/sample - loss: 0.9878 - accuracy: 0.6576\nEpoch 103/150\n768/768 [==============================] - 0s 35us/sample - loss: 0.9323 - accuracy: 0.6602\nEpoch 104/150\n768/768 [==============================] - 0s 30us/sample - loss: 0.9081 - accuracy: 0.6771\nEpoch 105/150\n768/768 [==============================] - 0s 30us/sample - loss: 0.8919 - accuracy: 0.6719\nEpoch 106/150\n768/768 [==============================] - 0s 30us/sample - loss: 0.8570 - accuracy: 0.6641\nEpoch 107/150\n768/768 [==============================] - 0s 29us/sample - loss: 0.8268 - accuracy: 0.6732\nEpoch 108/150\n768/768 [==============================] - 0s 42us/sample - loss: 0.8106 - accuracy: 0.6693\nEpoch 109/150\n768/768 [==============================] - 0s 35us/sample - loss: 0.7864 - accuracy: 0.6667\nEpoch 110/150\n768/768 [==============================] - 0s 34us/sample - loss: 0.7647 - accuracy: 0.6823\nEpoch 111/150\n768/768 [==============================] - 0s 29us/sample - loss: 0.7437 - accuracy: 0.6771\nEpoch 112/150\n768/768 [==============================] - 0s 40us/sample - loss: 0.7275 - accuracy: 0.6719\nEpoch 113/150\n768/768 [==============================] - 0s 38us/sample - loss: 0.7216 - accuracy: 0.6680\nEpoch 114/150\n768/768 [==============================] - 0s 30us/sample - loss: 0.7010 - accuracy: 0.6745\nEpoch 115/150\n768/768 [==============================] - 0s 30us/sample - loss: 0.6863 - accuracy: 0.6901\nEpoch 116/150\n768/768 [==============================] - 0s 30us/sample - loss: 0.6760 - accuracy: 0.6914\nEpoch 117/150\n768/768 [==============================] - 0s 33us/sample - loss: 0.6761 - accuracy: 0.6680\nEpoch 118/150\n768/768 [==============================] - 0s 35us/sample - loss: 0.6544 - accuracy: 0.6836\nEpoch 119/150\n768/768 [==============================] - 0s 36us/sample - loss: 0.6447 - accuracy: 0.6914\nEpoch 120/150\n768/768 [==============================] - 0s 31us/sample - loss: 0.6442 - accuracy: 0.6849\nEpoch 121/150\n768/768 [==============================] - 0s 36us/sample - loss: 0.6345 - accuracy: 0.6888\nEpoch 122/150\n768/768 [==============================] - 0s 27us/sample - loss: 0.6251 - accuracy: 0.6888\nEpoch 123/150\n768/768 [==============================] - 0s 46us/sample - loss: 0.6166 - accuracy: 0.6888\nEpoch 124/150\n768/768 [==============================] - 0s 30us/sample - loss: 0.6129 - accuracy: 0.6979\nEpoch 125/150\n768/768 [==============================] - 0s 30us/sample - loss: 0.6108 - accuracy: 0.6979\nEpoch 126/150\n768/768 [==============================] - 0s 34us/sample - loss: 0.6065 - accuracy: 0.6953\nEpoch 127/150\n768/768 [==============================] - 0s 31us/sample - loss: 0.6047 - accuracy: 0.6875\nEpoch 128/150\n768/768 [==============================] - 0s 38us/sample - loss: 0.6006 - accuracy: 0.6927\nEpoch 129/150\n768/768 [==============================] - 0s 35us/sample - loss: 0.6011 - accuracy: 0.6966\nEpoch 130/150\n768/768 [==============================] - 0s 29us/sample - loss: 0.6020 - accuracy: 0.7018\nEpoch 131/150\n768/768 [==============================] - 0s 33us/sample - loss: 0.5958 - accuracy: 0.6953\nEpoch 132/150\n768/768 [==============================] - 0s 30us/sample - loss: 0.5933 - accuracy: 0.7083\nEpoch 133/150\n768/768 [==============================] - 0s 44us/sample - loss: 0.5899 - accuracy: 0.7083\nEpoch 134/150\n768/768 [==============================] - 0s 29us/sample - loss: 0.5954 - accuracy: 0.7005\nEpoch 135/150\n768/768 [==============================] - 0s 33us/sample - loss: 0.5923 - accuracy: 0.7044\nEpoch 136/150\n768/768 [==============================] - 0s 29us/sample - loss: 0.5967 - accuracy: 0.7135\nEpoch 137/150\n768/768 [==============================] - 0s 30us/sample - loss: 0.5892 - accuracy: 0.7057\nEpoch 138/150\n768/768 [==============================] - 0s 31us/sample - loss: 0.5913 - accuracy: 0.7031\nEpoch 139/150\n768/768 [==============================] - 0s 36us/sample - loss: 0.5896 - accuracy: 0.6979\nEpoch 140/150\n768/768 [==============================] - 0s 36us/sample - loss: 0.5862 - accuracy: 0.6927\nEpoch 141/150\n768/768 [==============================] - 0s 33us/sample - loss: 0.5992 - accuracy: 0.7031\nEpoch 142/150\n768/768 [==============================] - 0s 31us/sample - loss: 0.5919 - accuracy: 0.7122\nEpoch 143/150\n768/768 [==============================] - 0s 30us/sample - loss: 0.5946 - accuracy: 0.6992\nEpoch 144/150\n768/768 [==============================] - 0s 29us/sample - loss: 0.5867 - accuracy: 0.7044\nEpoch 145/150\n768/768 [==============================] - 0s 52us/sample - loss: 0.5907 - accuracy: 0.7005\nEpoch 146/150\n768/768 [==============================] - 0s 33us/sample - loss: 0.5895 - accuracy: 0.7083\nEpoch 147/150\n768/768 [==============================] - 0s 30us/sample - loss: 0.5839 - accuracy: 0.7174\nEpoch 148/150\n768/768 [==============================] - 0s 31us/sample - loss: 0.5839 - accuracy: 0.7227\nEpoch 149/150\n768/768 [==============================] - 0s 43us/sample - loss: 0.5796 - accuracy: 0.7188\nEpoch 150/150\n768/768 [==============================] - 0s 35us/sample - loss: 0.5823 - accuracy: 0.7044\n"
    },
    {
     "data": {
      "text/plain": "<tensorflow.python.keras.callbacks.History at 0x175ccfbf6c8>"
     },
     "execution_count": 12,
     "metadata": {},
     "output_type": "execute_result"
    }
   ],
   "source": [
    "model.fit(X, y, epochs=150)"
   ]
  },
  {
   "cell_type": "code",
   "execution_count": 13,
   "metadata": {},
   "outputs": [
    {
     "data": {
      "text/plain": "(768,)"
     },
     "execution_count": 13,
     "metadata": {},
     "output_type": "execute_result"
    }
   ],
   "source": [
    "y.shape"
   ]
  },
  {
   "cell_type": "markdown",
   "metadata": {},
   "source": [
    "### Evaluate Model"
   ]
  },
  {
   "cell_type": "code",
   "execution_count": 14,
   "metadata": {},
   "outputs": [
    {
     "data": {
      "text/plain": "array([1., 0., 1., 0., 1., 0., 1., 0., 1., 1., 0., 1., 0., 1., 1., 1., 1.,\n       1., 0., 1., 0., 0., 1., 1., 1., 1., 1., 0., 0., 0., 0., 1., 0., 0.,\n       0., 0., 0., 1., 1., 1., 0., 0., 0., 1., 0., 1., 0., 0., 1., 0.])"
     },
     "execution_count": 14,
     "metadata": {},
     "output_type": "execute_result"
    }
   ],
   "source": [
    "y[:50]"
   ]
  },
  {
   "cell_type": "code",
   "execution_count": 15,
   "metadata": {},
   "outputs": [
    {
     "data": {
      "text/plain": "0.3489583333333333"
     },
     "execution_count": 15,
     "metadata": {},
     "output_type": "execute_result"
    }
   ],
   "source": [
    "# Predicting never diabetes\n",
    "sum(y) / len(y) "
   ]
  },
  {
   "cell_type": "code",
   "execution_count": 16,
   "metadata": {},
   "outputs": [
    {
     "name": "stdout",
     "output_type": "stream",
     "text": "768/768 [==============================] - 0s 89us/sample - loss: 0.5800 - accuracy: 0.7188\naccuracy: 71.875\n"
    }
   ],
   "source": [
    "scores = model.evaluate(X,y)\n",
    "print(f\"{model.metrics_names[1]}: {scores[1]*100}\")"
   ]
  },
  {
   "cell_type": "markdown",
   "metadata": {
    "colab_type": "text",
    "id": "zHYB7k9q3O8T"
   },
   "source": [
    "### Unstable Results\n",
    "\n",
    "You'll notice that if we rerun the results might differ from the origin run. This can be explain by a bunch of factors. Check out some of them in this article: \n",
    "\n",
    "<https://machinelearningmastery.com/randomness-in-machine-learning/>"
   ]
  },
  {
   "cell_type": "markdown",
   "metadata": {},
   "source": [
    "## Challenge\n",
    "\n",
    "You will be expected to leverage the Keras `Sequential`api to estimate a feed forward neural networks on a dataset."
   ]
  },
  {
   "cell_type": "markdown",
   "metadata": {
    "colab_type": "text",
    "id": "ueDVpctAzvy8"
   },
   "source": [
    "# Choosing Architecture (Learn)"
   ]
  },
  {
   "cell_type": "markdown",
   "metadata": {},
   "source": [
    "## Overview\n",
    "\n",
    "Choosing an architecture for a neural network is almost more an art than a science. Let's do a few experiments:"
   ]
  },
  {
   "cell_type": "markdown",
   "metadata": {},
   "source": [
    "## Follow Along"
   ]
  },
  {
   "cell_type": "code",
   "execution_count": 26,
   "metadata": {},
   "outputs": [
    {
     "name": "stdout",
     "output_type": "stream",
     "text": "Model: \"3LayerJunk\"\n_________________________________________________________________\nLayer (type)                 Output Shape              Param #   \n=================================================================\nDense1 (Dense)               (None, 4)                 36        \n_________________________________________________________________\ndense_10 (Dense)             (None, 3)                 15        \n_________________________________________________________________\ndense_11 (Dense)             (None, 1)                 4         \n=================================================================\nTotal params: 55\nTrainable params: 55\nNon-trainable params: 0\n_________________________________________________________________\n"
    }
   ],
   "source": [
    "# Tell me your ideas\n",
    "\n",
    "model_improved = Sequential(name=\"3LayerJunk\")\n",
    "\n",
    "model_improved.add(Dense(4, input_dim=8, activation='relu', name=\"Dense1\"))\n",
    "model_improved.add(Dense(3, activation='sigmoid'))\n",
    "model_improved.add(Dense(1, activation='sigmoid'))\n",
    "\n",
    "model_improved.compile(loss='binary_crossentropy', optimizer='adam',\n",
    "              metrics=['accuracy'])\n",
    "\n",
    "# Let's inspect our new architecture\n",
    "model_improved.summary()"
   ]
  },
  {
   "cell_type": "code",
   "execution_count": 27,
   "metadata": {},
   "outputs": [
    {
     "data": {
      "text/plain": "<tensorflow.python.keras.callbacks.History at 0x175cf661d48>"
     },
     "execution_count": 27,
     "metadata": {},
     "output_type": "execute_result"
    }
   ],
   "source": [
    "model_improved.fit(X, y, epochs=150, verbose=False) # What parameters can I specify here?"
   ]
  },
  {
   "cell_type": "code",
   "execution_count": 28,
   "metadata": {},
   "outputs": [
    {
     "name": "stdout",
     "output_type": "stream",
     "text": "768/768 [==============================] - 0s 91us/sample - loss: 0.6200 - accuracy: 0.6641\naccuracy: 66.40625\n"
    }
   ],
   "source": [
    "scores = model_improved.evaluate(X,y)\n",
    "print(f\"{model_improved.metrics_names[1]}: {scores[1]*100}\")"
   ]
  },
  {
   "cell_type": "markdown",
   "metadata": {},
   "source": [
    "### Experiment with 1 Additional Layer & Change Activation F(x)s"
   ]
  },
  {
   "cell_type": "code",
   "execution_count": 29,
   "metadata": {},
   "outputs": [
    {
     "name": "stdout",
     "output_type": "stream",
     "text": "Model: \"4LayerJunk\"\n_________________________________________________________________\nLayer (type)                 Output Shape              Param #   \n=================================================================\nDense1 (Dense)               (None, 4)                 36        \n_________________________________________________________________\ndense_12 (Dense)             (None, 3)                 15        \n_________________________________________________________________\ndense_13 (Dense)             (None, 3)                 12        \n_________________________________________________________________\ndense_14 (Dense)             (None, 1)                 4         \n=================================================================\nTotal params: 67\nTrainable params: 67\nNon-trainable params: 0\n_________________________________________________________________\n"
    }
   ],
   "source": [
    "# Tell me your ideas\n",
    "\n",
    "model_improved = Sequential(name=\"4LayerJunk\")\n",
    "\n",
    "model_improved.add(Dense(4, input_dim=8, activation='relu', name=\"Dense1\"))\n",
    "model_improved.add(Dense(3, activation='relu'))\n",
    "model_improved.add(Dense(3, activation='relu'))\n",
    "model_improved.add(Dense(1, activation='sigmoid'))\n",
    "\n",
    "model_improved.compile(loss='binary_crossentropy', optimizer='adam',\n",
    "              metrics=['accuracy'])\n",
    "\n",
    "# Let's inspect our new architecture\n",
    "model_improved.summary()"
   ]
  },
  {
   "cell_type": "code",
   "execution_count": 30,
   "metadata": {},
   "outputs": [
    {
     "data": {
      "text/plain": "<tensorflow.python.keras.callbacks.History at 0x175d07de688>"
     },
     "execution_count": 30,
     "metadata": {},
     "output_type": "execute_result"
    }
   ],
   "source": [
    "model_improved.fit(X,y, epochs=250, verbose=False)"
   ]
  },
  {
   "cell_type": "code",
   "execution_count": 31,
   "metadata": {},
   "outputs": [
    {
     "name": "stdout",
     "output_type": "stream",
     "text": "768/768 [==============================] - 0s 89us/sample - loss: 0.6065 - accuracy: 0.6888\n"
    },
    {
     "data": {
      "text/plain": "[0.6064518305162588, 0.68880206]"
     },
     "execution_count": 31,
     "metadata": {},
     "output_type": "execute_result"
    }
   ],
   "source": [
    "model_improved.evaluate(X,y)\n",
    "#print(f\"{model_improved.metrics_names[1]}: {scores[1]*100}\")"
   ]
  },
  {
   "cell_type": "markdown",
   "metadata": {},
   "source": [
    "### New Experiment with Identical Neuron Numbers"
   ]
  },
  {
   "cell_type": "code",
   "execution_count": 32,
   "metadata": {},
   "outputs": [
    {
     "name": "stdout",
     "output_type": "stream",
     "text": "Model: \"EvenNuerons4LayerJunk\"\n_________________________________________________________________\nLayer (type)                 Output Shape              Param #   \n=================================================================\nDense1 (Dense)               (None, 8)                 72        \n_________________________________________________________________\ndense_15 (Dense)             (None, 8)                 72        \n_________________________________________________________________\ndense_16 (Dense)             (None, 8)                 72        \n_________________________________________________________________\ndense_17 (Dense)             (None, 1)                 9         \n=================================================================\nTotal params: 225\nTrainable params: 225\nNon-trainable params: 0\n_________________________________________________________________\n"
    }
   ],
   "source": [
    "# Tell me your ideas\n",
    "\n",
    "model_improved = Sequential(name=\"EvenNuerons4LayerJunk\")\n",
    "\n",
    "model_improved.add(Dense(8, input_dim=8, activation='relu', name=\"Dense1\"))\n",
    "model_improved.add(Dense(8, activation='relu'))\n",
    "model_improved.add(Dense(8, activation='relu'))\n",
    "model_improved.add(Dense(1, activation='sigmoid'))\n",
    "\n",
    "model_improved.compile(loss='binary_crossentropy', optimizer='adam',\n",
    "              metrics=['accuracy'])\n",
    "\n",
    "# Let's inspect our new architecture\n",
    "model_improved.summary()"
   ]
  },
  {
   "cell_type": "code",
   "execution_count": 33,
   "metadata": {},
   "outputs": [
    {
     "name": "stdout",
     "output_type": "stream",
     "text": "al_accuracy: 0.6234\nEpoch 116/250\n691/691 [==============================] - 0s 52us/sample - loss: 0.6310 - accuracy: 0.6657 - val_loss: 0.6630 - val_accuracy: 0.6234\nEpoch 117/250\n691/691 [==============================] - 0s 49us/sample - loss: 0.6308 - accuracy: 0.6657 - val_loss: 0.6635 - val_accuracy: 0.6234\nEpoch 118/250\n691/691 [==============================] - 0s 51us/sample - loss: 0.6305 - accuracy: 0.6643 - val_loss: 0.6625 - val_accuracy: 0.6234\nEpoch 119/250\n691/691 [==============================] - 0s 59us/sample - loss: 0.6304 - accuracy: 0.6657 - val_loss: 0.6634 - val_accuracy: 0.6234\nEpoch 120/250\n691/691 [==============================] - 0s 49us/sample - loss: 0.6303 - accuracy: 0.6614 - val_loss: 0.6618 - val_accuracy: 0.6234\nEpoch 121/250\n691/691 [==============================] - 0s 62us/sample - loss: 0.6297 - accuracy: 0.6628 - val_loss: 0.6622 - val_accuracy: 0.6234\nEpoch 122/250\n691/691 [==============================] - 0s 52us/sample - loss: 0.6295 - accuracy: 0.6671 - val_loss: 0.6637 - val_accuracy: 0.6234\nEpoch 123/250\n691/691 [==============================] - 0s 42us/sample - loss: 0.6298 - accuracy: 0.6599 - val_loss: 0.6615 - val_accuracy: 0.6234\nEpoch 124/250\n691/691 [==============================] - 0s 51us/sample - loss: 0.6293 - accuracy: 0.6628 - val_loss: 0.6637 - val_accuracy: 0.6234\nEpoch 125/250\n691/691 [==============================] - 0s 55us/sample - loss: 0.6288 - accuracy: 0.6643 - val_loss: 0.6629 - val_accuracy: 0.6234\nEpoch 126/250\n691/691 [==============================] - 0s 54us/sample - loss: 0.6290 - accuracy: 0.6628 - val_loss: 0.6611 - val_accuracy: 0.6234\nEpoch 127/250\n691/691 [==============================] - 0s 48us/sample - loss: 0.6283 - accuracy: 0.6628 - val_loss: 0.6620 - val_accuracy: 0.6234\nEpoch 128/250\n691/691 [==============================] - 0s 54us/sample - loss: 0.6283 - accuracy: 0.6628 - val_loss: 0.6624 - val_accuracy: 0.6234\nEpoch 129/250\n691/691 [==============================] - 0s 58us/sample - loss: 0.6280 - accuracy: 0.6628 - val_loss: 0.6612 - val_accuracy: 0.6234\nEpoch 130/250\n691/691 [==============================] - 0s 46us/sample - loss: 0.6278 - accuracy: 0.6657 - val_loss: 0.6618 - val_accuracy: 0.6234\nEpoch 131/250\n691/691 [==============================] - 0s 48us/sample - loss: 0.6278 - accuracy: 0.6643 - val_loss: 0.6606 - val_accuracy: 0.6234\nEpoch 132/250\n691/691 [==============================] - 0s 59us/sample - loss: 0.6271 - accuracy: 0.6643 - val_loss: 0.6599 - val_accuracy: 0.6234\nEpoch 133/250\n691/691 [==============================] - 0s 49us/sample - loss: 0.6279 - accuracy: 0.6643 - val_loss: 0.6621 - val_accuracy: 0.6234\nEpoch 134/250\n691/691 [==============================] - 0s 51us/sample - loss: 0.6265 - accuracy: 0.6643 - val_loss: 0.6597 - val_accuracy: 0.6234\nEpoch 135/250\n691/691 [==============================] - 0s 55us/sample - loss: 0.6265 - accuracy: 0.6657 - val_loss: 0.6595 - val_accuracy: 0.6234\nEpoch 136/250\n691/691 [==============================] - 0s 61us/sample - loss: 0.6262 - accuracy: 0.6671 - val_loss: 0.6586 - val_accuracy: 0.6234\nEpoch 137/250\n691/691 [==============================] - 0s 68us/sample - loss: 0.6259 - accuracy: 0.6657 - val_loss: 0.6596 - val_accuracy: 0.6364\nEpoch 138/250\n691/691 [==============================] - 0s 55us/sample - loss: 0.6258 - accuracy: 0.6628 - val_loss: 0.6599 - val_accuracy: 0.6234\nEpoch 139/250\n691/691 [==============================] - 0s 59us/sample - loss: 0.6252 - accuracy: 0.6643 - val_loss: 0.6582 - val_accuracy: 0.6234\nEpoch 140/250\n691/691 [==============================] - 0s 48us/sample - loss: 0.6251 - accuracy: 0.6628 - val_loss: 0.6576 - val_accuracy: 0.6234\nEpoch 141/250\n691/691 [==============================] - 0s 43us/sample - loss: 0.6250 - accuracy: 0.6643 - val_loss: 0.6584 - val_accuracy: 0.6364\nEpoch 142/250\n691/691 [==============================] - 0s 59us/sample - loss: 0.6249 - accuracy: 0.6657 - val_loss: 0.6584 - val_accuracy: 0.6364\nEpoch 143/250\n691/691 [==============================] - 0s 49us/sample - loss: 0.6245 - accuracy: 0.6686 - val_loss: 0.6564 - val_accuracy: 0.6234\nEpoch 144/250\n691/691 [==============================] - 0s 46us/sample - loss: 0.6238 - accuracy: 0.6657 - val_loss: 0.6567 - val_accuracy: 0.6234\nEpoch 145/250\n691/691 [==============================] - 0s 51us/sample - loss: 0.6237 - accuracy: 0.6657 - val_loss: 0.6553 - val_accuracy: 0.6234\nEpoch 146/250\n691/691 [==============================] - 0s 49us/sample - loss: 0.6233 - accuracy: 0.6657 - val_loss: 0.6562 - val_accuracy: 0.6234\nEpoch 147/250\n691/691 [==============================] - 0s 42us/sample - loss: 0.6229 - accuracy: 0.6686 - val_loss: 0.6544 - val_accuracy: 0.6234\nEpoch 148/250\n691/691 [==============================] - 0s 43us/sample - loss: 0.6225 - accuracy: 0.6657 - val_loss: 0.6553 - val_accuracy: 0.6234\nEpoch 149/250\n691/691 [==============================] - 0s 55us/sample - loss: 0.6223 - accuracy: 0.6657 - val_loss: 0.6537 - val_accuracy: 0.6234\nEpoch 150/250\n691/691 [==============================] - 0s 56us/sample - loss: 0.6219 - accuracy: 0.6671 - val_loss: 0.6526 - val_accuracy: 0.6234\nEpoch 151/250\n691/691 [==============================] - 0s 54us/sample - loss: 0.6218 - accuracy: 0.6643 - val_loss: 0.6536 - val_accuracy: 0.6234\nEpoch 152/250\n691/691 [==============================] - 0s 51us/sample - loss: 0.6212 - accuracy: 0.6671 - val_loss: 0.6516 - val_accuracy: 0.6234\nEpoch 153/250\n691/691 [==============================] - 0s 56us/sample - loss: 0.6209 - accuracy: 0.6686 - val_loss: 0.6515 - val_accuracy: 0.6234\nEpoch 154/250\n691/691 [==============================] - 0s 45us/sample - loss: 0.6202 - accuracy: 0.6700 - val_loss: 0.6513 - val_accuracy: 0.6234\nEpoch 155/250\n691/691 [==============================] - 0s 46us/sample - loss: 0.6191 - accuracy: 0.6671 - val_loss: 0.6486 - val_accuracy: 0.6234\nEpoch 156/250\n691/691 [==============================] - 0s 52us/sample - loss: 0.6177 - accuracy: 0.6686 - val_loss: 0.6557 - val_accuracy: 0.6104\nEpoch 157/250\n691/691 [==============================] - 0s 56us/sample - loss: 0.6174 - accuracy: 0.6700 - val_loss: 0.6474 - val_accuracy: 0.6234\nEpoch 158/250\n691/691 [==============================] - 0s 49us/sample - loss: 0.6182 - accuracy: 0.6700 - val_loss: 0.6484 - val_accuracy: 0.6234\nEpoch 159/250\n691/691 [==============================] - 0s 61us/sample - loss: 0.6183 - accuracy: 0.6686 - val_loss: 0.6456 - val_accuracy: 0.6234\nEpoch 160/250\n691/691 [==============================] - 0s 51us/sample - loss: 0.6167 - accuracy: 0.6671 - val_loss: 0.6454 - val_accuracy: 0.6234\nEpoch 161/250\n691/691 [==============================] - 0s 46us/sample - loss: 0.6166 - accuracy: 0.6744 - val_loss: 0.6423 - val_accuracy: 0.6234\nEpoch 162/250\n691/691 [==============================] - 0s 45us/sample - loss: 0.6151 - accuracy: 0.6700 - val_loss: 0.6438 - val_accuracy: 0.6364\nEpoch 163/250\n691/691 [==============================] - 0s 52us/sample - loss: 0.6150 - accuracy: 0.6700 - val_loss: 0.6425 - val_accuracy: 0.6234\nEpoch 164/250\n691/691 [==============================] - 0s 48us/sample - loss: 0.6137 - accuracy: 0.6715 - val_loss: 0.6382 - val_accuracy: 0.6234\nEpoch 165/250\n691/691 [==============================] - 0s 45us/sample - loss: 0.6136 - accuracy: 0.6787 - val_loss: 0.6355 - val_accuracy: 0.6234\nEpoch 166/250\n691/691 [==============================] - 0s 46us/sample - loss: 0.6121 - accuracy: 0.6700 - val_loss: 0.6374 - val_accuracy: 0.6234\nEpoch 167/250\n691/691 [==============================] - 0s 58us/sample - loss: 0.6113 - accuracy: 0.6657 - val_loss: 0.6350 - val_accuracy: 0.6234\nEpoch 168/250\n691/691 [==============================] - 0s 56us/sample - loss: 0.6103 - accuracy: 0.6715 - val_loss: 0.6335 - val_accuracy: 0.6234\nEpoch 169/250\n691/691 [==============================] - 0s 52us/sample - loss: 0.6095 - accuracy: 0.6671 - val_loss: 0.6293 - val_accuracy: 0.6364\nEpoch 170/250\n691/691 [==============================] - 0s 59us/sample - loss: 0.6087 - accuracy: 0.6860 - val_loss: 0.6280 - val_accuracy: 0.6364\nEpoch 171/250\n691/691 [==============================] - 0s 48us/sample - loss: 0.6083 - accuracy: 0.6729 - val_loss: 0.6282 - val_accuracy: 0.6104\nEpoch 172/250\n691/691 [==============================] - 0s 43us/sample - loss: 0.6068 - accuracy: 0.6802 - val_loss: 0.6259 - val_accuracy: 0.6234\nEpoch 173/250\n691/691 [==============================] - 0s 48us/sample - loss: 0.6049 - accuracy: 0.6744 - val_loss: 0.6235 - val_accuracy: 0.6234\nEpoch 174/250\n691/691 [==============================] - 0s 66us/sample - loss: 0.6034 - accuracy: 0.6787 - val_loss: 0.6216 - val_accuracy: 0.6234\nEpoch 175/250\n691/691 [==============================] - 0s 46us/sample - loss: 0.6030 - accuracy: 0.6816 - val_loss: 0.6195 - val_accuracy: 0.6234\nEpoch 176/250\n691/691 [==============================] - 0s 48us/sample - loss: 0.6008 - accuracy: 0.6874 - val_loss: 0.6188 - val_accuracy: 0.6234\nEpoch 177/250\n691/691 [==============================] - 0s 48us/sample - loss: 0.6026 - accuracy: 0.6903 - val_loss: 0.6193 - val_accuracy: 0.6364\nEpoch 178/250\n691/691 [==============================] - 0s 52us/sample - loss: 0.5995 - accuracy: 0.6831 - val_loss: 0.6132 - val_accuracy: 0.6623\nEpoch 179/250\n691/691 [==============================] - 0s 43us/sample - loss: 0.5952 - accuracy: 0.7004 - val_loss: 0.6111 - val_accuracy: 0.6494\nEpoch 180/250\n691/691 [==============================] - 0s 46us/sample - loss: 0.5937 - accuracy: 0.6802 - val_loss: 0.6104 - val_accuracy: 0.6234\nEpoch 181/250\n691/691 [==============================] - 0s 45us/sample - loss: 0.5939 - accuracy: 0.6961 - val_loss: 0.6086 - val_accuracy: 0.6494\nEpoch 182/250\n691/691 [==============================] - 0s 64us/sample - loss: 0.5892 - accuracy: 0.6946 - val_loss: 0.6438 - val_accuracy: 0.6364\nEpoch 183/250\n691/691 [==============================] - 0s 48us/sample - loss: 0.5808 - accuracy: 0.7120 - val_loss: 0.6325 - val_accuracy: 0.6234\nEpoch 184/250\n691/691 [==============================] - 0s 52us/sample - loss: 0.5698 - accuracy: 0.7106 - val_loss: 0.6207 - val_accuracy: 0.6364\nEpoch 185/250\n691/691 [==============================] - 0s 68us/sample - loss: 0.5655 - accuracy: 0.7308 - val_loss: 0.6305 - val_accuracy: 0.6494\nEpoch 186/250\n691/691 [==============================] - 0s 51us/sample - loss: 0.5636 - accuracy: 0.7106 - val_loss: 0.6259 - val_accuracy: 0.6364\nEpoch 187/250\n691/691 [==============================] - 0s 43us/sample - loss: 0.5610 - accuracy: 0.7192 - val_loss: 0.6328 - val_accuracy: 0.6494\nEpoch 188/250\n691/691 [==============================] - 0s 49us/sample - loss: 0.5589 - accuracy: 0.7149 - val_loss: 0.6386 - val_accuracy: 0.6234\nEpoch 189/250\n691/691 [==============================] - 0s 61us/sample - loss: 0.5630 - accuracy: 0.7149 - val_loss: 0.6194 - val_accuracy: 0.6234\nEpoch 190/250\n691/691 [==============================] - 0s 46us/sample - loss: 0.5557 - accuracy: 0.7323 - val_loss: 0.6239 - val_accuracy: 0.6364\nEpoch 191/250\n691/691 [==============================] - 0s 51us/sample - loss: 0.5541 - accuracy: 0.7221 - val_loss: 0.6281 - val_accuracy: 0.6234\nEpoch 192/250\n691/691 [==============================] - 0s 43us/sample - loss: 0.5528 - accuracy: 0.7381 - val_loss: 0.6212 - val_accuracy: 0.6234\nEpoch 193/250\n691/691 [==============================] - 0s 42us/sample - loss: 0.5560 - accuracy: 0.7337 - val_loss: 0.6207 - val_accuracy: 0.6364\nEpoch 194/250\n691/691 [==============================] - 0s 46us/sample - loss: 0.5527 - accuracy: 0.7308 - val_loss: 0.6174 - val_accuracy: 0.6623\nEpoch 195/250\n691/691 [==============================] - 0s 46us/sample - loss: 0.5490 - accuracy: 0.7236 - val_loss: 0.6174 - val_accuracy: 0.6234\nEpoch 196/250\n691/691 [==============================] - 0s 46us/sample - loss: 0.5463 - accuracy: 0.7424 - val_loss: 0.6151 - val_accuracy: 0.6364\nEpoch 197/250\n691/691 [==============================] - 0s 45us/sample - loss: 0.5472 - accuracy: 0.7294 - val_loss: 0.6206 - val_accuracy: 0.6494\nEpoch 198/250\n691/691 [==============================] - 0s 48us/sample - loss: 0.5445 - accuracy: 0.7467 - val_loss: 0.6064 - val_accuracy: 0.6494\nEpoch 199/250\n691/691 [==============================] - 0s 54us/sample - loss: 0.5435 - accuracy: 0.7381 - val_loss: 0.6049 - val_accuracy: 0.6753\nEpoch 200/250\n691/691 [==============================] - 0s 46us/sample - loss: 0.5418 - accuracy: 0.7410 - val_loss: 0.6071 - val_accuracy: 0.6364\nEpoch 201/250\n691/691 [==============================] - 0s 59us/sample - loss: 0.5442 - accuracy: 0.7250 - val_loss: 0.6027 - val_accuracy: 0.6753\nEpoch 202/250\n691/691 [==============================] - 0s 49us/sample - loss: 0.5372 - accuracy: 0.7453 - val_loss: 0.6156 - val_accuracy: 0.6364\nEpoch 203/250\n691/691 [==============================] - 0s 52us/sample - loss: 0.5374 - accuracy: 0.7453 - val_loss: 0.6067 - val_accuracy: 0.6753\nEpoch 204/250\n691/691 [==============================] - 0s 46us/sample - loss: 0.5403 - accuracy: 0.7438 - val_loss: 0.6037 - val_accuracy: 0.6494\nEpoch 205/250\n691/691 [==============================] - 0s 54us/sample - loss: 0.5391 - accuracy: 0.7395 - val_loss: 0.6079 - val_accuracy: 0.6623\nEpoch 206/250\n691/691 [==============================] - 0s 54us/sample - loss: 0.5353 - accuracy: 0.7424 - val_loss: 0.5955 - val_accuracy: 0.6623\nEpoch 207/250\n691/691 [==============================] - 0s 44us/sample - loss: 0.5344 - accuracy: 0.7569 - val_loss: 0.5984 - val_accuracy: 0.6883\nEpoch 208/250\n691/691 [==============================] - 0s 54us/sample - loss: 0.5332 - accuracy: 0.7467 - val_loss: 0.5961 - val_accuracy: 0.6753\nEpoch 209/250\n691/691 [==============================] - 0s 49us/sample - loss: 0.5334 - accuracy: 0.7525 - val_loss: 0.5960 - val_accuracy: 0.6753\nEpoch 210/250\n691/691 [==============================] - 0s 48us/sample - loss: 0.5308 - accuracy: 0.7496 - val_loss: 0.5951 - val_accuracy: 0.6883\nEpoch 211/250\n691/691 [==============================] - 0s 52us/sample - loss: 0.5302 - accuracy: 0.7525 - val_loss: 0.6028 - val_accuracy: 0.6753\nEpoch 212/250\n691/691 [==============================] - 0s 49us/sample - loss: 0.5324 - accuracy: 0.7453 - val_loss: 0.5948 - val_accuracy: 0.6883\nEpoch 213/250\n691/691 [==============================] - 0s 48us/sample - loss: 0.5285 - accuracy: 0.7410 - val_loss: 0.5909 - val_accuracy: 0.7013\nEpoch 214/250\n691/691 [==============================] - 0s 46us/sample - loss: 0.5268 - accuracy: 0.7569 - val_loss: 0.6035 - val_accuracy: 0.6623\nEpoch 215/250\n691/691 [==============================] - 0s 54us/sample - loss: 0.5272 - accuracy: 0.7496 - val_loss: 0.5999 - val_accuracy: 0.6623\nEpoch 216/250\n691/691 [==============================] - 0s 42us/sample - loss: 0.5291 - accuracy: 0.7438 - val_loss: 0.5904 - val_accuracy: 0.7013\nEpoch 217/250\n691/691 [==============================] - 0s 46us/sample - loss: 0.5265 - accuracy: 0.7525 - val_loss: 0.5975 - val_accuracy: 0.7013\nEpoch 218/250\n691/691 [==============================] - 0s 56us/sample - loss: 0.5254 - accuracy: 0.7511 - val_loss: 0.5914 - val_accuracy: 0.6883\nEpoch 219/250\n691/691 [==============================] - 0s 45us/sample - loss: 0.5360 - accuracy: 0.7410 - val_loss: 0.5968 - val_accuracy: 0.6623\nEpoch 220/250\n691/691 [==============================] - 0s 37us/sample - loss: 0.5265 - accuracy: 0.7511 - val_loss: 0.5831 - val_accuracy: 0.6883\nEpoch 221/250\n691/691 [==============================] - 0s 54us/sample - loss: 0.5233 - accuracy: 0.7496 - val_loss: 0.5829 - val_accuracy: 0.7013\nEpoch 222/250\n691/691 [==============================] - 0s 45us/sample - loss: 0.5226 - accuracy: 0.7569 - val_loss: 0.6006 - val_accuracy: 0.6623\nEpoch 223/250\n691/691 [==============================] - 0s 43us/sample - loss: 0.5227 - accuracy: 0.7511 - val_loss: 0.5964 - val_accuracy: 0.6753\nEpoch 224/250\n691/691 [==============================] - 0s 45us/sample - loss: 0.5230 - accuracy: 0.7554 - val_loss: 0.5963 - val_accuracy: 0.6753\nEpoch 225/250\n691/691 [==============================] - 0s 48us/sample - loss: 0.5232 - accuracy: 0.7612 - val_loss: 0.5998 - val_accuracy: 0.6623\nEpoch 226/250\n691/691 [==============================] - 0s 58us/sample - loss: 0.5170 - accuracy: 0.7627 - val_loss: 0.5884 - val_accuracy: 0.6753\nEpoch 227/250\n691/691 [==============================] - 0s 48us/sample - loss: 0.5177 - accuracy: 0.7598 - val_loss: 0.5886 - val_accuracy: 0.7013\nEpoch 228/250\n691/691 [==============================] - 0s 43us/sample - loss: 0.5187 - accuracy: 0.7569 - val_loss: 0.6009 - val_accuracy: 0.6883\nEpoch 229/250\n691/691 [==============================] - 0s 48us/sample - loss: 0.5183 - accuracy: 0.7612 - val_loss: 0.5974 - val_accuracy: 0.6883\nEpoch 230/250\n691/691 [==============================] - 0s 52us/sample - loss: 0.5177 - accuracy: 0.7525 - val_loss: 0.5993 - val_accuracy: 0.6883\nEpoch 231/250\n691/691 [==============================] - 0s 49us/sample - loss: 0.5180 - accuracy: 0.7583 - val_loss: 0.5879 - val_accuracy: 0.6883\nEpoch 232/250\n691/691 [==============================] - 0s 42us/sample - loss: 0.5163 - accuracy: 0.7612 - val_loss: 0.5978 - val_accuracy: 0.6883\nEpoch 233/250\n691/691 [==============================] - 0s 54us/sample - loss: 0.5151 - accuracy: 0.7656 - val_loss: 0.5860 - val_accuracy: 0.7143\nEpoch 234/250\n691/691 [==============================] - 0s 51us/sample - loss: 0.5132 - accuracy: 0.7598 - val_loss: 0.5915 - val_accuracy: 0.6883\nEpoch 235/250\n691/691 [==============================] - 0s 43us/sample - loss: 0.5137 - accuracy: 0.7699 - val_loss: 0.5947 - val_accuracy: 0.6753\nEpoch 236/250\n691/691 [==============================] - 0s 41us/sample - loss: 0.5155 - accuracy: 0.7511 - val_loss: 0.5864 - val_accuracy: 0.7013\nEpoch 237/250\n691/691 [==============================] - 0s 56us/sample - loss: 0.5098 - accuracy: 0.7713 - val_loss: 0.5950 - val_accuracy: 0.6753\nEpoch 238/250\n691/691 [==============================] - 0s 43us/sample - loss: 0.5115 - accuracy: 0.7598 - val_loss: 0.5917 - val_accuracy: 0.6753\nEpoch 239/250\n691/691 [==============================] - 0s 46us/sample - loss: 0.5109 - accuracy: 0.7670 - val_loss: 0.6014 - val_accuracy: 0.6753\nEpoch 240/250\n691/691 [==============================] - 0s 39us/sample - loss: 0.5085 - accuracy: 0.7713 - val_loss: 0.5855 - val_accuracy: 0.7013\nEpoch 241/250\n691/691 [==============================] - 0s 58us/sample - loss: 0.5077 - accuracy: 0.7656 - val_loss: 0.5964 - val_accuracy: 0.6753\nEpoch 242/250\n691/691 [==============================] - 0s 43us/sample - loss: 0.5087 - accuracy: 0.7641 - val_loss: 0.5895 - val_accuracy: 0.6883\nEpoch 243/250\n691/691 [==============================] - 0s 42us/sample - loss: 0.5134 - accuracy: 0.7482 - val_loss: 0.5956 - val_accuracy: 0.6753\nEpoch 244/250\n691/691 [==============================] - 0s 45us/sample - loss: 0.5086 - accuracy: 0.7583 - val_loss: 0.6005 - val_accuracy: 0.6883\nEpoch 245/250\n691/691 [==============================] - 0s 55us/sample - loss: 0.5115 - accuracy: 0.7612 - val_loss: 0.5922 - val_accuracy: 0.6883\nEpoch 246/250\n691/691 [==============================] - 0s 46us/sample - loss: 0.5076 - accuracy: 0.7569 - val_loss: 0.5935 - val_accuracy: 0.6753\nEpoch 247/250\n691/691 [==============================] - 0s 48us/sample - loss: 0.5134 - accuracy: 0.7612 - val_loss: 0.6148 - val_accuracy: 0.6494\nEpoch 248/250\n691/691 [==============================] - 0s 49us/sample - loss: 0.5129 - accuracy: 0.7583 - val_loss: 0.6007 - val_accuracy: 0.6753\nEpoch 249/250\n691/691 [==============================] - 0s 65us/sample - loss: 0.5069 - accuracy: 0.7742 - val_loss: 0.5914 - val_accuracy: 0.7013\nEpoch 250/250\n691/691 [==============================] - 0s 46us/sample - loss: 0.5088 - accuracy: 0.7467 - val_loss: 0.5912 - val_accuracy: 0.6883\n"
    },
    {
     "data": {
      "text/plain": "<tensorflow.python.keras.callbacks.History at 0x175d091dd88>"
     },
     "execution_count": 33,
     "metadata": {},
     "output_type": "execute_result"
    }
   ],
   "source": [
    "model_improved.fit(X,y, epochs=250, validation_split=.10)"
   ]
  },
  {
   "cell_type": "code",
   "execution_count": 25,
   "metadata": {},
   "outputs": [
    {
     "name": "stdout",
     "output_type": "stream",
     "text": "768/768 [==============================] - 0s 102us/sample - loss: 0.5095 - accuracy: 0.7643\n"
    },
    {
     "data": {
      "text/plain": "[0.5095335630079111, 0.76432294]"
     },
     "execution_count": 25,
     "metadata": {},
     "output_type": "execute_result"
    }
   ],
   "source": [
    "model_improved.evaluate(X,y)\n",
    "#print(f\"{model_improved.metrics_names[1]}: {scores[1]*100}\")"
   ]
  },
  {
   "cell_type": "markdown",
   "metadata": {},
   "source": [
    "## Challenge\n",
    "\n",
    "You will have to choose your own architectures in today's module project. "
   ]
  },
  {
   "cell_type": "markdown",
   "metadata": {
    "colab_type": "text",
    "id": "tcjMuxtn6wIQ",
    "toc-hr-collapsed": false
   },
   "source": [
    "# Activation Functions (Learn)"
   ]
  },
  {
   "cell_type": "markdown",
   "metadata": {
    "colab_type": "text",
    "id": "tcjMuxtn6wIQ",
    "toc-hr-collapsed": false
   },
   "source": [
    "## Overview\n",
    "What is an activation function and how does it work?\n",
    "\n",
    "- Takes in a weighted sum of inputs + a bias from the previous layer and outputs an \"activation\" value.\n",
    "- Based its inputs the neuron decides how 'activated' it should be. This can be thought of as the neuron deciding how strongly to fire. You can also think of it as if the neuron is deciding how much of the signal that it has received to pass onto the next layer. \n",
    "- Our choice of activation function does not only affect signal that is passed forward but also affects the backpropagation algorithm. It affects how we update weights in reverse order since activated weight/input sums become the inputs of the next layer. "
   ]
  },
  {
   "cell_type": "markdown",
   "metadata": {
    "toc-hr-collapsed": true
   },
   "source": [
    "## Follow Along"
   ]
  },
  {
   "cell_type": "markdown",
   "metadata": {
    "colab_type": "text",
    "id": "n_b0u8Ch60bA"
   },
   "source": [
    "### Step Function\n",
    "\n",
    "![Heaviside Step Function](https://upload.wikimedia.org/wikipedia/commons/thumb/d/d9/Dirac_distribution_CDF.svg/325px-Dirac_distribution_CDF.svg.png)\n",
    "\n",
    "All or nothing, a little extreme, which is fine, but makes updating weights through backpropagation impossible. Why? remember that during backpropagation we use derivatives in order to determine how much to update or not update weights. What is the derivative of the step function?"
   ]
  },
  {
   "cell_type": "markdown",
   "metadata": {
    "colab_type": "text",
    "id": "vKR0YhIVEnXZ"
   },
   "source": [
    "### Linear Function\n",
    "\n",
    "![Linear Function](http://www.roconnell.net/Parent%20function/linear.gif)\n",
    "\n",
    "The linear function takes the opposite tact from the step function and passes the signal onto the next layer by a constant factor. There are problems with this but the biggest problems again lie in backpropagation. The derivative of any linear function is a horizontal line which would indicate that we should update all weights by a constant amount every time -which on balance wouldn't change the behavior of our network. Linear functions are typically only used for very simple tasks where interpretability is important, but if interpretability is your highest priority, you probably shouldn't be using neural networks in the first place."
   ]
  },
  {
   "cell_type": "markdown",
   "metadata": {
    "colab_type": "text",
    "id": "JFurIVL6EkQ8"
   },
   "source": [
    "### Sigmoid Function\n",
    "\n",
    "![Sigmoid Function](https://upload.wikimedia.org/wikipedia/commons/thumb/8/88/Logistic-curve.svg/480px-Logistic-curve.svg.png)\n",
    "\n",
    "The sigmoid function works great as an activation function! it's continuously differentiable, its derivative doesn't have a constant slope, and having the higher slope in the middle pushes y value predictions towards extremes which is particularly useful for binary classification problems. I mean, this is why we use it as the squishifier in logistic regression as well. It constrains output, but over repeated epochs pushes predictions towards a strong binary prediction. \n",
    "\n",
    "What's the biggest problem with the sigmoid function? The fact that its slope gets pretty flat so quickly after its departure from zero. This means that updating weights based on its gradient really diminishes the size of our weight updates as our model gets more confident about its classifications. This is why even after so many iterations with our test score example we couldn't reach the levels of fit that our gradient descent based model could reach in just a few epochs."
   ]
  },
  {
   "cell_type": "markdown",
   "metadata": {
    "colab_type": "text",
    "id": "hm6p1HWbEhYi"
   },
   "source": [
    "### Tanh Function\n",
    "\n",
    "![Tanh Function](http://mathworld.wolfram.com/images/interactive/TanhReal.gif)\n",
    "\n",
    "What if the sigmoid function didn't get so flat quite as soon when moving away from zero and was a little bit steeper in the middle? That's basically the Tanh function. The Tanh function can actually be created by scaling the sigmoid function by 2 in the y dimension and subtracting 1 from all values. It has basically the same properties as the sigmoid, still struggles from diminishingly flat gradients as we move away from 0, but its derivative is higher around 0 causing weights to move to the extremes a little faster. "
   ]
  },
  {
   "cell_type": "markdown",
   "metadata": {
    "colab_type": "text",
    "id": "sFOn_L6gEcz1"
   },
   "source": [
    "### ReLU Function\n",
    "\n",
    "![ReLU Function](https://cdn-images-1.medium.com/max/937/1*oePAhrm74RNnNEolprmTaQ.png)\n",
    "\n",
    "ReLU stands for Rectified Linear Units it is by far the most commonly used activation function in modern neural networks. It doesn't activate neurons that are being passed a negative signal and passes on positive signals. Think about why this might be useful. Remember how a lot of our initial weights got set to negative numbers by chance? This would have dealt with those negative weights a lot faster than the sigmoid function updating. What does the derivative of this function look like? It looks like the step function! This means that not all neurons are activated. With sigmoid basically all of our neurons are passing some amount of signal even if it's small making it hard for the network to differentiate important and less important connections. ReLU turns off a portion of our less important neurons which decreases computational load, but also helps the network learn what the most important connections are faster. \n",
    "\n",
    "What's the problem with relu? Well the left half of its derivative function shows that for neurons that are initialized with weights that cause them to have no activation, our gradient will not update those neuron's weights, this can lead to dead neurons that never fire and whose weights never get updated. We would probably want to update the weights of neurons that didn't fire even if it's just by a little bit in case we got unlucky with our initial weights and want to give those neurons a chance of turning back on in the future."
   ]
  },
  {
   "cell_type": "markdown",
   "metadata": {
    "colab_type": "text",
    "id": "XWdvWOBIETwk"
   },
   "source": [
    "### Leaky ReLU\n",
    "\n",
    "![Leaky ReLU](https://cdn-images-1.medium.com/max/1600/1*ypsvQH7kvtI2BhzR2eT_Sw.png)\n",
    "\n",
    "Leaky ReLU accomplishes exactly that! it avoids having a gradient of 0 on the left side of its derivative function. This means that even \"dead\" neurons have a chance of being revived over enough iterations. In some specifications the slope of the leaky left-hand side can also be experimented with as a hyperparameter of the model!"
   ]
  },
  {
   "cell_type": "markdown",
   "metadata": {
    "colab_type": "text",
    "id": "FcAxkNFREMFb"
   },
   "source": [
    "### Softmax Function\n",
    "\n",
    "![Softmax Function](https://cdn-images-1.medium.com/max/800/1*670CdxchunD-yAuUWdI7Bw.png)\n",
    "\n",
    "Like the sigmoid function but more useful for multi-class classification problems. The softmax function can take any set of inputs and translate them into probabilities that sum up to 1. This means that we can throw any list of outputs at it and it will translate them into probabilities, this is extremely useful for multi-class classification problems. Like MNIST for example..."
   ]
  },
  {
   "cell_type": "markdown",
   "metadata": {
    "colab_type": "text",
    "id": "23-XRRXKHs34"
   },
   "source": [
    "### Major takeaways\n",
    "\n",
    "- ReLU is generally better at obtaining the optimal model fit.\n",
    "- Sigmoid and its derivatives are usually better at classification problems.\n",
    "- Softmax for multi-class classification problems. \n",
    "\n",
    "You'll typically see ReLU used for all initial layers and then the final layer being sigmoid or softmax for classification problems. But you can experiment and tune these selections as hyperparameters as well!"
   ]
  },
  {
   "cell_type": "markdown",
   "metadata": {
    "colab_type": "text",
    "id": "TWuoXZCCKCI7"
   },
   "source": [
    "### MNIST with Keras \n",
    "\n",
    "#### This will be a good chance to bring up dropout regularization. :)"
   ]
  },
  {
   "cell_type": "code",
   "execution_count": 34,
   "metadata": {},
   "outputs": [],
   "source": [
    "### Let's do it!\n",
    "\n",
    "from tensorflow import keras\n",
    "from tensorflow.keras.datasets import mnist\n",
    "from tensorflow.keras.models import Sequential\n",
    "from tensorflow.keras.layers import Dense, Dropout\n",
    "\n",
    "# Stretch - use dropout \n",
    "import numpy as np"
   ]
  },
  {
   "cell_type": "code",
   "execution_count": 35,
   "metadata": {},
   "outputs": [],
   "source": [
    "# Hyper Parameters\n",
    "batch_size = 64\n",
    "num_classes = 10\n",
    "epochs = 20"
   ]
  },
  {
   "cell_type": "code",
   "execution_count": 36,
   "metadata": {},
   "outputs": [
    {
     "name": "stdout",
     "output_type": "stream",
     "text": "Downloading data from https://storage.googleapis.com/tensorflow/tf-keras-datasets/mnist.npz\n11493376/11490434 [==============================] - 1s 0us/step\n"
    }
   ],
   "source": [
    "# Load the Data\n",
    "(X_train, y_train), (X_test, y_test) = mnist.load_data()"
   ]
  },
  {
   "cell_type": "code",
   "execution_count": 37,
   "metadata": {},
   "outputs": [
    {
     "data": {
      "text/plain": "(28, 28)"
     },
     "execution_count": 37,
     "metadata": {},
     "output_type": "execute_result"
    }
   ],
   "source": [
    "X_train[0].shape"
   ]
  },
  {
   "cell_type": "code",
   "execution_count": 38,
   "metadata": {},
   "outputs": [
    {
     "data": {
      "text/plain": "(60000, 28, 28)"
     },
     "execution_count": 38,
     "metadata": {},
     "output_type": "execute_result"
    }
   ],
   "source": [
    "X_train.shape"
   ]
  },
  {
   "cell_type": "code",
   "execution_count": 39,
   "metadata": {},
   "outputs": [
    {
     "data": {
      "text/plain": "array([[  0,   0,   0,   0,   0,   0,   0,   0,   0,   0,   0,   0,   0,\n          0,   0,   0,   0,   0,   0,   0,   0,   0,   0,   0,   0,   0,\n          0,   0],\n       [  0,   0,   0,   0,   0,   0,   0,   0,   0,   0,   0,   0,   0,\n          0,   0,   0,   0,   0,   0,   0,   0,   0,   0,   0,   0,   0,\n          0,   0],\n       [  0,   0,   0,   0,   0,   0,   0,   0,   0,   0,   0,   0,   0,\n          0,   0,   0,   0,   0,   0,   0,   0,   0,   0,   0,   0,   0,\n          0,   0],\n       [  0,   0,   0,   0,   0,   0,   0,   0,   0,   0,   0,   0,   0,\n          0,   0,   0,   0,   0,   0,   0,   0,   0,   0,   0,   0,   0,\n          0,   0],\n       [  0,   0,   0,   0,   0,   0,   0,   0,   0,   0,   0,   0,   0,\n          0,   0,   0,   0,   0,   0,   0,   0,   0,   0,   0,   0,   0,\n          0,   0],\n       [  0,   0,   0,   0,   0,   0,   0,   0,   0,   0,   0,   0,   3,\n         18,  18,  18, 126, 136, 175,  26, 166, 255, 247, 127,   0,   0,\n          0,   0],\n       [  0,   0,   0,   0,   0,   0,   0,   0,  30,  36,  94, 154, 170,\n        253, 253, 253, 253, 253, 225, 172, 253, 242, 195,  64,   0,   0,\n          0,   0],\n       [  0,   0,   0,   0,   0,   0,   0,  49, 238, 253, 253, 253, 253,\n        253, 253, 253, 253, 251,  93,  82,  82,  56,  39,   0,   0,   0,\n          0,   0],\n       [  0,   0,   0,   0,   0,   0,   0,  18, 219, 253, 253, 253, 253,\n        253, 198, 182, 247, 241,   0,   0,   0,   0,   0,   0,   0,   0,\n          0,   0],\n       [  0,   0,   0,   0,   0,   0,   0,   0,  80, 156, 107, 253, 253,\n        205,  11,   0,  43, 154,   0,   0,   0,   0,   0,   0,   0,   0,\n          0,   0],\n       [  0,   0,   0,   0,   0,   0,   0,   0,   0,  14,   1, 154, 253,\n         90,   0,   0,   0,   0,   0,   0,   0,   0,   0,   0,   0,   0,\n          0,   0],\n       [  0,   0,   0,   0,   0,   0,   0,   0,   0,   0,   0, 139, 253,\n        190,   2,   0,   0,   0,   0,   0,   0,   0,   0,   0,   0,   0,\n          0,   0],\n       [  0,   0,   0,   0,   0,   0,   0,   0,   0,   0,   0,  11, 190,\n        253,  70,   0,   0,   0,   0,   0,   0,   0,   0,   0,   0,   0,\n          0,   0],\n       [  0,   0,   0,   0,   0,   0,   0,   0,   0,   0,   0,   0,  35,\n        241, 225, 160, 108,   1,   0,   0,   0,   0,   0,   0,   0,   0,\n          0,   0],\n       [  0,   0,   0,   0,   0,   0,   0,   0,   0,   0,   0,   0,   0,\n         81, 240, 253, 253, 119,  25,   0,   0,   0,   0,   0,   0,   0,\n          0,   0],\n       [  0,   0,   0,   0,   0,   0,   0,   0,   0,   0,   0,   0,   0,\n          0,  45, 186, 253, 253, 150,  27,   0,   0,   0,   0,   0,   0,\n          0,   0],\n       [  0,   0,   0,   0,   0,   0,   0,   0,   0,   0,   0,   0,   0,\n          0,   0,  16,  93, 252, 253, 187,   0,   0,   0,   0,   0,   0,\n          0,   0],\n       [  0,   0,   0,   0,   0,   0,   0,   0,   0,   0,   0,   0,   0,\n          0,   0,   0,   0, 249, 253, 249,  64,   0,   0,   0,   0,   0,\n          0,   0],\n       [  0,   0,   0,   0,   0,   0,   0,   0,   0,   0,   0,   0,   0,\n          0,  46, 130, 183, 253, 253, 207,   2,   0,   0,   0,   0,   0,\n          0,   0],\n       [  0,   0,   0,   0,   0,   0,   0,   0,   0,   0,   0,   0,  39,\n        148, 229, 253, 253, 253, 250, 182,   0,   0,   0,   0,   0,   0,\n          0,   0],\n       [  0,   0,   0,   0,   0,   0,   0,   0,   0,   0,  24, 114, 221,\n        253, 253, 253, 253, 201,  78,   0,   0,   0,   0,   0,   0,   0,\n          0,   0],\n       [  0,   0,   0,   0,   0,   0,   0,   0,  23,  66, 213, 253, 253,\n        253, 253, 198,  81,   2,   0,   0,   0,   0,   0,   0,   0,   0,\n          0,   0],\n       [  0,   0,   0,   0,   0,   0,  18, 171, 219, 253, 253, 253, 253,\n        195,  80,   9,   0,   0,   0,   0,   0,   0,   0,   0,   0,   0,\n          0,   0],\n       [  0,   0,   0,   0,  55, 172, 226, 253, 253, 253, 253, 244, 133,\n         11,   0,   0,   0,   0,   0,   0,   0,   0,   0,   0,   0,   0,\n          0,   0],\n       [  0,   0,   0,   0, 136, 253, 253, 253, 212, 135, 132,  16,   0,\n          0,   0,   0,   0,   0,   0,   0,   0,   0,   0,   0,   0,   0,\n          0,   0],\n       [  0,   0,   0,   0,   0,   0,   0,   0,   0,   0,   0,   0,   0,\n          0,   0,   0,   0,   0,   0,   0,   0,   0,   0,   0,   0,   0,\n          0,   0],\n       [  0,   0,   0,   0,   0,   0,   0,   0,   0,   0,   0,   0,   0,\n          0,   0,   0,   0,   0,   0,   0,   0,   0,   0,   0,   0,   0,\n          0,   0],\n       [  0,   0,   0,   0,   0,   0,   0,   0,   0,   0,   0,   0,   0,\n          0,   0,   0,   0,   0,   0,   0,   0,   0,   0,   0,   0,   0,\n          0,   0]], dtype=uint8)"
     },
     "execution_count": 39,
     "metadata": {},
     "output_type": "execute_result"
    }
   ],
   "source": [
    "X_train[0]"
   ]
  },
  {
   "cell_type": "code",
   "execution_count": 40,
   "metadata": {},
   "outputs": [],
   "source": [
    "# Reshape the data\n",
    "X_train = X_train.reshape(60000, 784)\n",
    "X_test = X_test.reshape(10000, 784)"
   ]
  },
  {
   "cell_type": "code",
   "execution_count": 41,
   "metadata": {},
   "outputs": [],
   "source": [
    "# X Variable Types\n",
    "X_train = X_train.astype('float32')\n",
    "X_test = X_test.astype('float32')"
   ]
  },
  {
   "cell_type": "code",
   "execution_count": 42,
   "metadata": {},
   "outputs": [
    {
     "data": {
      "text/plain": "4"
     },
     "execution_count": 42,
     "metadata": {},
     "output_type": "execute_result"
    }
   ],
   "source": [
    "y_train[2] "
   ]
  },
  {
   "cell_type": "code",
   "execution_count": 43,
   "metadata": {},
   "outputs": [
    {
     "data": {
      "text/plain": "4"
     },
     "execution_count": 43,
     "metadata": {},
     "output_type": "execute_result"
    }
   ],
   "source": [
    "y_train[2]"
   ]
  },
  {
   "cell_type": "code",
   "execution_count": 44,
   "metadata": {},
   "outputs": [],
   "source": [
    "# Correct Encoding on Y\n",
    "# What softmax expects = [0,0,0,0,0,1,0,0,0,0]\n",
    "\n",
    "y_train = keras.utils.to_categorical(y_train, num_classes)\n",
    "y_test = keras.utils.to_categorical(y_test, num_classes)"
   ]
  },
  {
   "cell_type": "code",
   "execution_count": 45,
   "metadata": {},
   "outputs": [
    {
     "data": {
      "text/plain": "array([0., 0., 0., 0., 1., 0., 0., 0., 0., 0.], dtype=float32)"
     },
     "execution_count": 45,
     "metadata": {},
     "output_type": "execute_result"
    }
   ],
   "source": [
    "y_train[2]"
   ]
  },
  {
   "cell_type": "code",
   "execution_count": 50,
   "metadata": {},
   "outputs": [
    {
     "name": "stdout",
     "output_type": "stream",
     "text": "Model: \"sequential_2\"\n_________________________________________________________________\nLayer (type)                 Output Shape              Param #   \n=================================================================\ndense_18 (Dense)             (None, 16)                12560     \n_________________________________________________________________\ndense_19 (Dense)             (None, 16)                272       \n_________________________________________________________________\ndense_20 (Dense)             (None, 16)                272       \n_________________________________________________________________\ndense_21 (Dense)             (None, 16)                272       \n_________________________________________________________________\ndense_22 (Dense)             (None, 10)                170       \n=================================================================\nTotal params: 13,546\nTrainable params: 13,546\nNon-trainable params: 0\n_________________________________________________________________\n"
    }
   ],
   "source": [
    "mnist_model = Sequential()\n",
    "\n",
    "# Input => Hidden\n",
    "mnist_model.add(Dense(16, input_dim=784, activation='relu'))\n",
    "# Hidden\n",
    "mnist_model.add(Dense(16, activation='relu'))\n",
    "# Hidden\n",
    "mnist_model.add(Dense(16, activation='relu'))\n",
    "# Hidden\n",
    "mnist_model.add(Dense(16, activation='relu'))\n",
    "# Output\n",
    "mnist_model.add(Dense(10,activation='softmax'))\n",
    "\n",
    "#Compile\n",
    "mnist_model.compile(loss='categorical_crossentropy',\n",
    "                    optimizer='adam',\n",
    "                    metrics=['accuracy'])\n",
    "\n",
    "mnist_model.summary()"
   ]
  },
  {
   "cell_type": "code",
   "execution_count": 51,
   "metadata": {},
   "outputs": [],
   "source": [
    "def neural_network(X):\n",
    "    \n",
    "    dense1 = Dense(8, activation='relu', input=X)\n",
    "    dense2 = Dense(8, activation='relu')(X)\n",
    "    \n",
    "    \n",
    "    return dense2 #or return model"
   ]
  },
  {
   "cell_type": "code",
   "execution_count": 52,
   "metadata": {},
   "outputs": [
    {
     "data": {
      "text/plain": "12544"
     },
     "execution_count": 52,
     "metadata": {},
     "output_type": "execute_result"
    }
   ],
   "source": [
    "16 *  784"
   ]
  },
  {
   "cell_type": "code",
   "execution_count": 53,
   "metadata": {},
   "outputs": [
    {
     "data": {
      "text/plain": "(10000, 10)"
     },
     "execution_count": 53,
     "metadata": {},
     "output_type": "execute_result"
    }
   ],
   "source": [
    "y_test.shape"
   ]
  },
  {
   "cell_type": "code",
   "execution_count": 54,
   "metadata": {},
   "outputs": [
    {
     "name": "stdout",
     "output_type": "stream",
     "text": "10000/10000 [==============================] - 0s 29us/sample - loss: 0.2522 - accuracy: 0.9497\n"
    }
   ],
   "source": [
    "history = mnist_model.fit(X_train, y_train, batch_size=32, epochs=100, verbose=False)\n",
    "scores = mnist_model.evaluate(X_test, y_test)\n",
    "#print(f'{mnist_model.metrics_names[1]}: {scores[1]*100}')"
   ]
  },
  {
   "cell_type": "markdown",
   "metadata": {
    "colab_type": "text",
    "id": "CKmx8153w9Ci"
   },
   "source": [
    "### Dropout Regularization\n",
    "\n",
    "![Regularization](https://upload.wikimedia.org/wikipedia/commons/thumb/0/02/Regularization.svg/354px-Regularization.svg.png)"
   ]
  },
  {
   "cell_type": "code",
   "execution_count": 55,
   "metadata": {},
   "outputs": [
    {
     "name": "stdout",
     "output_type": "stream",
     "text": "Model: \"sequential_3\"\n_________________________________________________________________\nLayer (type)                 Output Shape              Param #   \n=================================================================\ndense_23 (Dense)             (None, 32)                25120     \n_________________________________________________________________\ndropout (Dropout)            (None, 32)                0         \n_________________________________________________________________\ndense_24 (Dense)             (None, 16)                528       \n_________________________________________________________________\ndropout_1 (Dropout)          (None, 16)                0         \n_________________________________________________________________\ndense_25 (Dense)             (None, 10)                170       \n=================================================================\nTotal params: 25,818\nTrainable params: 25,818\nNon-trainable params: 0\n_________________________________________________________________\n"
    }
   ],
   "source": [
    "### Let's do it!\n",
    "from tensorflow import keras \n",
    "from tensorflow.keras.datasets import mnist\n",
    "from tensorflow.keras.models import Sequential\n",
    "from tensorflow.keras.layers import Dense, Dropout\n",
    "\n",
    "import numpy as np\n",
    "\n",
    "mnist_model = Sequential()\n",
    "\n",
    "# Hidden\n",
    "mnist_model.add(Dense(32, input_dim=784, activation='relu'))\n",
    "mnist_model.add(Dropout(0.2))\n",
    "mnist_model.add(Dense(16, activation='relu'))\n",
    "mnist_model.add(Dropout(0.2))\n",
    "# Output Layer\n",
    "mnist_model.add(Dense(10, activation='softmax'))\n",
    "\n",
    "mnist_model.compile(loss='categorical_crossentropy',\n",
    "                    optimizer='adam', \n",
    "                    metrics=['accuracy'])\n",
    "mnist_model.summary()"
   ]
  },
  {
   "cell_type": "code",
   "execution_count": 58,
   "metadata": {},
   "outputs": [
    {
     "name": "stdout",
     "output_type": "stream",
     "text": "Train on 54000 samples, validate on 6000 samples\nEpoch 1/10\n54000/54000 [==============================] - 2s 45us/sample - loss: 0.7847 - accuracy: 0.7385 - val_loss: 0.4589 - val_accuracy: 0.8830\nEpoch 2/10\n54000/54000 [==============================] - 2s 43us/sample - loss: 0.7826 - accuracy: 0.7381 - val_loss: 0.4369 - val_accuracy: 0.8925\nEpoch 3/10\n54000/54000 [==============================] - 2s 44us/sample - loss: 0.7873 - accuracy: 0.7383 - val_loss: 0.4425 - val_accuracy: 0.8818\nEpoch 4/10\n54000/54000 [==============================] - 2s 45us/sample - loss: 0.7879 - accuracy: 0.7369 - val_loss: 0.4905 - val_accuracy: 0.8625\nEpoch 5/10\n54000/54000 [==============================] - 2s 45us/sample - loss: 0.7932 - accuracy: 0.7360 - val_loss: 0.4381 - val_accuracy: 0.8878\nEpoch 6/10\n54000/54000 [==============================] - 2s 45us/sample - loss: 0.7763 - accuracy: 0.7427 - val_loss: 0.4413 - val_accuracy: 0.8883\nEpoch 7/10\n54000/54000 [==============================] - 2s 45us/sample - loss: 0.7877 - accuracy: 0.7385 - val_loss: 0.4299 - val_accuracy: 0.8838\nEpoch 8/10\n54000/54000 [==============================] - 2s 45us/sample - loss: 0.7844 - accuracy: 0.7380 - val_loss: 0.4652 - val_accuracy: 0.8732\nEpoch 9/10\n54000/54000 [==============================] - 2s 44us/sample - loss: 0.7855 - accuracy: 0.7399 - val_loss: 0.4343 - val_accuracy: 0.8922\nEpoch 10/10\n54000/54000 [==============================] - 2s 44us/sample - loss: 0.7754 - accuracy: 0.7425 - val_loss: 0.4567 - val_accuracy: 0.8857\n10000/10000 [==============================] - 0s 21us/sample - loss: 0.4774 - accuracy: 0.8714\naccuracy: 87.1399998664856\n"
    }
   ],
   "source": [
    "history = mnist_model.fit(X_train, y_train, batch_size=32, epochs=10, validation_split=.1, verbose=1)\n",
    "scores = mnist_model.evaluate(X_test, y_test)\n",
    "print(f'{mnist_model.metrics_names[1]}: {scores[1]*100}')"
   ]
  },
  {
   "cell_type": "markdown",
   "metadata": {},
   "source": [
    "## Challenge\n",
    "\n",
    "You will apply your choice of activation function inside two Keras Seqeuntial models today. "
   ]
  }
 ],
 "metadata": {
  "colab": {
   "collapsed_sections": [],
   "name": "LS_DS_433_Keras_Lecture.ipynb",
   "provenance": [],
   "version": "0.3.2"
  },
  "kernelspec": {
   "display_name": "Python (NN)",
   "language": "python",
   "name": "python-nn"
  },
  "language_info": {
   "codemirror_mode": {
    "name": "ipython",
    "version": 3
   },
   "file_extension": ".py",
   "mimetype": "text/x-python",
   "name": "python",
   "nbconvert_exporter": "python",
   "pygments_lexer": "ipython3",
   "version": "3.7.4-final"
  },
  "toc-autonumbering": false,
  "toc-showmarkdowntxt": false
 },
 "nbformat": 4,
 "nbformat_minor": 4
}