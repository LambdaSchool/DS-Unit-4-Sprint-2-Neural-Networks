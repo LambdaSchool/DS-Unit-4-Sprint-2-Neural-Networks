{
 "cells": [
  {
   "cell_type": "markdown",
   "metadata": {
    "colab_type": "text",
    "id": "HJzTIkYAsLxw"
   },
   "source": [
    "<img align=\"left\" src=\"https://lever-client-logos.s3.amazonaws.com/864372b1-534c-480e-acd5-9711f850815c-1524247202159.png\" width=200>\n",
    "<br></br>\n",
    "\n",
    "# Neural Network Frameworks (Keras)\n",
    "\n",
    "## *Data Science Unit 4 Sprint 2 Lesson 3*\n",
    "\n",
    "# Lets Use Libraries!\n",
    "\n",
    "The objective of the last two days has been to familiarize you with the fundamentals of neural networks: terminology, structure of networks, forward propagation, error/cost functions, backpropagation, epochs, and gradient descent. We have tried to reinforce these topics by requiring to you code some of the simplest neural networks by hand including Perceptrons (single node neural networks) and Multi-Layer Perceptrons also known as Feed-Forward Neural Networks. Continuing to do things by hand would not be the best use of our limited time. You're ready to graduate from doing things by hand and start using some powerful libraries to build cutting-edge predictive models. "
   ]
  },
  {
   "cell_type": "markdown",
   "metadata": {
    "colab_type": "text",
    "id": "MFYCXc5KdkPE"
   },
   "source": [
    "# Keras\n",
    "\n",
    "> \"Keras is a high-level neural networks API, written in Python and capable of running on top of TensorFlow, CNTK, or Theano. It was developed with a focus on enabling fast experimentation. Being able to go from idea to result with the least possible delay is key to doing good research. Use Keras if you need a deep learning library that:\n",
    "\n",
    "> Allows for easy and fast prototyping (through user friendliness, modularity, and extensibility).\n",
    "Supports both convolutional networks and recurrent networks, as well as combinations of the two.\n",
    "Runs seamlessly on CPU and GPU.\" "
   ]
  },
  {
   "cell_type": "code",
   "execution_count": 1,
   "metadata": {
    "colab": {},
    "colab_type": "code",
    "id": "QEncs0SOsFMT"
   },
   "outputs": [
    {
     "data": {
      "text/plain": [
       "'1.14.0'"
      ]
     },
     "execution_count": 1,
     "metadata": {},
     "output_type": "execute_result"
    }
   ],
   "source": [
    "# Use pip freeze to see what packages/libraries your notebook has access to\n",
    "# !pip freeze\n",
    "\n",
    "import tensorflow\n",
    "tensorflow.__version__"
   ]
  },
  {
   "cell_type": "markdown",
   "metadata": {
    "colab_type": "text",
    "id": "VxgUUpIKn54a"
   },
   "source": [
    "## Our First Keras Model - Perceptron, Batch epochs\n",
    "\n",
    "1) Load Data\n",
    "\n",
    "2) Define Model\n",
    "\n",
    "3) Compile Model\n",
    "\n",
    "4) Fit Model\n",
    "\n",
    "5) Evaluate Model"
   ]
  },
  {
   "cell_type": "markdown",
   "metadata": {
    "colab_type": "text",
    "id": "Md5D67XwqVAf"
   },
   "source": [
    "### Load Data\n",
    "\n",
    "Our life is going to be easier if our data is already cleaned up and numeric, so lets use this dataset from Jason Brownlee that is already numeric and has no column headers so we'll need to slice off the last column of data to act as our y values."
   ]
  },
  {
   "cell_type": "code",
   "execution_count": 2,
   "metadata": {
    "colab": {
     "base_uri": "https://localhost:8080/",
     "height": 109,
     "resources": {
      "http://localhost:8080/nbextensions/google.colab/files.js": {
       "data": "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",
       "headers": [
        [
         "content-type",
         "application/javascript"
        ]
       ],
       "ok": true,
       "status": 200,
       "status_text": ""
      }
     }
    },
    "colab_type": "code",
    "id": "bn09phMBpY1J",
    "outputId": "1c45fb6a-e3cb-4ec1-fb85-de52b3c60bae"
   },
   "outputs": [],
   "source": [
    "import pandas as pd\n",
    "\n",
    "url =\"https://raw.githubusercontent.com/jbrownlee/Datasets/master/pima-indians-diabetes.data.csv\"\n",
    "\n",
    "dataset = pd.read_csv(url, header=None)"
   ]
  },
  {
   "cell_type": "code",
   "execution_count": 3,
   "metadata": {},
   "outputs": [
    {
     "data": {
      "text/html": [
       "<div>\n",
       "<style scoped>\n",
       "    .dataframe tbody tr th:only-of-type {\n",
       "        vertical-align: middle;\n",
       "    }\n",
       "\n",
       "    .dataframe tbody tr th {\n",
       "        vertical-align: top;\n",
       "    }\n",
       "\n",
       "    .dataframe thead th {\n",
       "        text-align: right;\n",
       "    }\n",
       "</style>\n",
       "<table border=\"1\" class=\"dataframe\">\n",
       "  <thead>\n",
       "    <tr style=\"text-align: right;\">\n",
       "      <th></th>\n",
       "      <th>0</th>\n",
       "      <th>1</th>\n",
       "      <th>2</th>\n",
       "      <th>3</th>\n",
       "      <th>4</th>\n",
       "      <th>5</th>\n",
       "      <th>6</th>\n",
       "      <th>7</th>\n",
       "      <th>8</th>\n",
       "    </tr>\n",
       "  </thead>\n",
       "  <tbody>\n",
       "    <tr>\n",
       "      <th>0</th>\n",
       "      <td>6</td>\n",
       "      <td>148</td>\n",
       "      <td>72</td>\n",
       "      <td>35</td>\n",
       "      <td>0</td>\n",
       "      <td>33.6</td>\n",
       "      <td>0.627</td>\n",
       "      <td>50</td>\n",
       "      <td>1</td>\n",
       "    </tr>\n",
       "    <tr>\n",
       "      <th>1</th>\n",
       "      <td>1</td>\n",
       "      <td>85</td>\n",
       "      <td>66</td>\n",
       "      <td>29</td>\n",
       "      <td>0</td>\n",
       "      <td>26.6</td>\n",
       "      <td>0.351</td>\n",
       "      <td>31</td>\n",
       "      <td>0</td>\n",
       "    </tr>\n",
       "    <tr>\n",
       "      <th>2</th>\n",
       "      <td>8</td>\n",
       "      <td>183</td>\n",
       "      <td>64</td>\n",
       "      <td>0</td>\n",
       "      <td>0</td>\n",
       "      <td>23.3</td>\n",
       "      <td>0.672</td>\n",
       "      <td>32</td>\n",
       "      <td>1</td>\n",
       "    </tr>\n",
       "    <tr>\n",
       "      <th>3</th>\n",
       "      <td>1</td>\n",
       "      <td>89</td>\n",
       "      <td>66</td>\n",
       "      <td>23</td>\n",
       "      <td>94</td>\n",
       "      <td>28.1</td>\n",
       "      <td>0.167</td>\n",
       "      <td>21</td>\n",
       "      <td>0</td>\n",
       "    </tr>\n",
       "    <tr>\n",
       "      <th>4</th>\n",
       "      <td>0</td>\n",
       "      <td>137</td>\n",
       "      <td>40</td>\n",
       "      <td>35</td>\n",
       "      <td>168</td>\n",
       "      <td>43.1</td>\n",
       "      <td>2.288</td>\n",
       "      <td>33</td>\n",
       "      <td>1</td>\n",
       "    </tr>\n",
       "  </tbody>\n",
       "</table>\n",
       "</div>"
      ],
      "text/plain": [
       "   0    1   2   3    4     5      6   7  8\n",
       "0  6  148  72  35    0  33.6  0.627  50  1\n",
       "1  1   85  66  29    0  26.6  0.351  31  0\n",
       "2  8  183  64   0    0  23.3  0.672  32  1\n",
       "3  1   89  66  23   94  28.1  0.167  21  0\n",
       "4  0  137  40  35  168  43.1  2.288  33  1"
      ]
     },
     "execution_count": 3,
     "metadata": {},
     "output_type": "execute_result"
    }
   ],
   "source": [
    "dataset.head()"
   ]
  },
  {
   "cell_type": "code",
   "execution_count": 4,
   "metadata": {
    "colab": {
     "base_uri": "https://localhost:8080/",
     "height": 725
    },
    "colab_type": "code",
    "id": "FKuofD3Pogil",
    "outputId": "16c2f4fa-93c8-491d-b339-9f35f7918621"
   },
   "outputs": [
    {
     "name": "stdout",
     "output_type": "stream",
     "text": [
      "(768, 8)\n",
      "[[  6.    148.     72.    ...  33.6     0.627  50.   ]\n",
      " [  1.     85.     66.    ...  26.6     0.351  31.   ]\n",
      " [  8.    183.     64.    ...  23.3     0.672  32.   ]\n",
      " ...\n",
      " [  5.    121.     72.    ...  26.2     0.245  30.   ]\n",
      " [  1.    126.     60.    ...  30.1     0.349  47.   ]\n",
      " [  1.     93.     70.    ...  30.4     0.315  23.   ]]\n"
     ]
    }
   ],
   "source": [
    "X = dataset.values[:,0:8]\n",
    "print(X.shape)\n",
    "print(X)"
   ]
  },
  {
   "cell_type": "code",
   "execution_count": 5,
   "metadata": {},
   "outputs": [
    {
     "name": "stdout",
     "output_type": "stream",
     "text": [
      "(768,)\n",
      "[1. 0. 1. 0. 1. 0. 1. 0. 1. 1. 0. 1. 0. 1. 1. 1. 1. 1. 0. 1. 0. 0. 1. 1.\n",
      " 1. 1. 1. 0. 0. 0. 0. 1. 0. 0. 0. 0. 0. 1. 1. 1. 0. 0. 0. 1. 0. 1. 0. 0.\n",
      " 1. 0. 0. 0. 0. 1. 0. 0. 1. 0. 0. 0. 0. 1. 0. 0. 1. 0. 1. 0. 0. 0. 1. 0.\n",
      " 1. 0. 0. 0. 0. 0. 1. 0. 0. 0. 0. 0. 1. 0. 0. 0. 1. 0. 0. 0. 0. 1. 0. 0.\n",
      " 0. 0. 0. 1. 1. 0. 0. 0. 0. 0. 0. 0. 0. 1. 1. 1. 0. 0. 1. 1. 1. 0. 0. 0.\n",
      " 1. 0. 0. 0. 1. 1. 0. 0. 1. 1. 1. 1. 1. 0. 0. 0. 0. 0. 0. 0. 0. 0. 0. 1.\n",
      " 0. 0. 0. 0. 0. 0. 0. 0. 1. 0. 1. 1. 0. 0. 0. 1. 0. 0. 0. 0. 1. 1. 0. 0.\n",
      " 0. 0. 1. 1. 0. 0. 0. 1. 0. 1. 0. 1. 0. 0. 0. 0. 0. 1. 1. 1. 1. 1. 0. 0.\n",
      " 1. 1. 0. 1. 0. 1. 1. 1. 0. 0. 0. 0. 0. 0. 1. 1. 0. 1. 0. 0. 0. 1. 1. 1.\n",
      " 1. 0. 1. 1. 1. 1. 0. 0. 0. 0. 0. 1. 0. 0. 1. 1. 0. 0. 0. 1. 1. 1. 1. 0.\n",
      " 0. 0. 1. 1. 0. 1. 0. 0. 0. 0. 0. 0. 0. 0. 1. 1. 0. 0. 0. 1. 0. 1. 0. 0.\n",
      " 1. 0. 1. 0. 0. 1. 1. 0. 0. 0. 0. 0. 1. 0. 0. 0. 1. 0. 0. 1. 1. 0. 0. 1.\n",
      " 0. 0. 0. 1. 1. 1. 0. 0. 1. 0. 1. 0. 1. 1. 0. 1. 0. 0. 1. 0. 1. 1. 0. 0.\n",
      " 1. 0. 1. 0. 0. 1. 0. 1. 0. 1. 1. 1. 0. 0. 1. 0. 1. 0. 0. 0. 1. 0. 0. 0.\n",
      " 0. 1. 1. 1. 0. 0. 0. 0. 0. 0. 0. 0. 0. 1. 0. 0. 0. 0. 0. 1. 1. 1. 0. 1.\n",
      " 1. 0. 0. 1. 0. 0. 1. 0. 0. 1. 1. 0. 0. 0. 0. 1. 0. 0. 1. 0. 0. 0. 0. 0.\n",
      " 0. 0. 1. 1. 1. 0. 0. 1. 0. 0. 1. 0. 0. 1. 0. 1. 1. 0. 1. 0. 1. 0. 1. 0.\n",
      " 1. 1. 0. 0. 0. 0. 1. 1. 0. 1. 0. 1. 0. 0. 0. 0. 1. 1. 0. 1. 0. 1. 0. 0.\n",
      " 0. 0. 0. 1. 0. 0. 0. 0. 1. 0. 0. 1. 1. 1. 0. 0. 1. 0. 0. 1. 0. 0. 0. 1.\n",
      " 0. 0. 1. 0. 0. 0. 0. 0. 0. 0. 0. 0. 1. 0. 0. 0. 0. 0. 0. 0. 1. 0. 0. 0.\n",
      " 1. 0. 0. 0. 1. 1. 0. 0. 0. 0. 0. 0. 0. 1. 0. 0. 0. 0. 1. 0. 0. 0. 1. 0.\n",
      " 0. 0. 1. 0. 0. 0. 1. 0. 0. 0. 0. 1. 1. 0. 0. 0. 0. 0. 0. 1. 0. 0. 0. 0.\n",
      " 0. 0. 0. 0. 0. 0. 0. 1. 0. 0. 0. 1. 1. 1. 1. 0. 0. 1. 1. 0. 0. 0. 0. 0.\n",
      " 0. 0. 0. 0. 0. 0. 0. 0. 1. 1. 0. 0. 0. 0. 0. 0. 0. 1. 0. 0. 0. 0. 0. 0.\n",
      " 0. 1. 0. 1. 1. 0. 0. 0. 1. 0. 1. 0. 1. 0. 1. 0. 1. 0. 0. 1. 0. 0. 1. 0.\n",
      " 0. 0. 0. 1. 1. 0. 1. 0. 0. 0. 0. 1. 1. 0. 1. 0. 0. 0. 1. 1. 0. 0. 0. 0.\n",
      " 0. 0. 0. 0. 0. 0. 1. 0. 0. 0. 0. 1. 0. 0. 1. 0. 0. 0. 1. 0. 0. 0. 1. 1.\n",
      " 1. 0. 0. 0. 0. 0. 0. 1. 0. 0. 0. 1. 0. 1. 1. 1. 1. 0. 1. 1. 0. 0. 0. 0.\n",
      " 0. 0. 0. 1. 1. 0. 1. 0. 0. 1. 0. 1. 0. 0. 0. 0. 0. 1. 0. 1. 0. 1. 0. 1.\n",
      " 1. 0. 0. 0. 0. 1. 1. 0. 0. 0. 1. 0. 1. 1. 0. 0. 1. 0. 0. 1. 1. 0. 0. 1.\n",
      " 0. 0. 1. 0. 0. 0. 0. 0. 0. 0. 1. 1. 1. 0. 0. 0. 0. 0. 0. 1. 1. 0. 0. 1.\n",
      " 0. 0. 1. 0. 1. 1. 1. 0. 0. 1. 1. 1. 0. 1. 0. 1. 0. 1. 0. 0. 0. 0. 1. 0.]\n"
     ]
    }
   ],
   "source": [
    "y = dataset.values[:,-1]\n",
    "print(y.shape)\n",
    "print(y)"
   ]
  },
  {
   "cell_type": "markdown",
   "metadata": {
    "colab_type": "text",
    "id": "o0xMqOyTs5xt"
   },
   "source": [
    "### Define Model"
   ]
  },
  {
   "cell_type": "code",
   "execution_count": 6,
   "metadata": {
    "colab": {},
    "colab_type": "code",
    "id": "Bp9USczrfu6M"
   },
   "outputs": [],
   "source": [
    "from tensorflow.keras.models import Sequential\n",
    "from tensorflow.keras.layers import Dense\n",
    "import numpy as np\n",
    "\n",
    "np.random.seed(812)"
   ]
  },
  {
   "cell_type": "markdown",
   "metadata": {
    "colab_type": "text",
    "id": "wAzHLg27thoN"
   },
   "source": [
    "I'll instantiate my model as a \"sequential\" model. This just means that I'm going to tell Keras what my model's architecture should be one layer at a time."
   ]
  },
  {
   "cell_type": "code",
   "execution_count": 7,
   "metadata": {
    "colab": {},
    "colab_type": "code",
    "id": "DSNsL49Xp6KI"
   },
   "outputs": [],
   "source": [
    "# https://keras.io/getting-started/sequential-model-guide/\n",
    "model = Sequential()"
   ]
  },
  {
   "cell_type": "markdown",
   "metadata": {
    "colab_type": "text",
    "id": "ZCYX6QzJtvpG"
   },
   "source": [
    "Adding a \"Dense\" layer to our model is how we add \"vanilla\" perceptron-based layers to our neural network. These are also called \"fully-connected\" or \"densely-connected\" layers. They're used as a layer type in lots of other Neural Net Architectures but they're not referred to as perceptrons or multi-layer perceptrons very often in those situations even though that's what they are.\n",
    "\n",
    " > [\"Just your regular densely-connected NN layer.\"](https://keras.io/layers/core/)\n",
    " \n",
    " The first argument is how many neurons we want to have in that layer. To create a perceptron model we will just set it to 1. We will tell it that there will be 8 inputs coming into this layer from our dataset and set it to use the sigmoid activation function."
   ]
  },
  {
   "cell_type": "code",
   "execution_count": 11,
   "metadata": {
    "colab": {
     "base_uri": "https://localhost:8080/",
     "height": 89
    },
    "colab_type": "code",
    "id": "GNzOLidxtvFa",
    "outputId": "35b1457d-0189-49f1-aa6d-3ef15b29bd6e"
   },
   "outputs": [],
   "source": [
    "# Add a dense layer\n",
    "model.add(Dense(1, input_dim=8, activation=\"sigmoid\"))"
   ]
  },
  {
   "cell_type": "markdown",
   "metadata": {
    "colab_type": "text",
    "id": "EnI3jwKMtBL2"
   },
   "source": [
    "### Compile Model\n",
    "Using binary_crossentropy as the loss function here is just telling keras that I'm doing binary classification so that it can use the appropriate loss function accordingly. If we were predicting non-binary categories we might assign something like `categorical_crossentropy`. We're also telling keras that we want it to report model accuracy as our main error metric for each epoch. We will also be able to see the overall accuracy once the model has finished training."
   ]
  },
  {
   "cell_type": "code",
   "execution_count": 12,
   "metadata": {
    "colab": {},
    "colab_type": "code",
    "id": "qp6xwYaqurRO"
   },
   "outputs": [],
   "source": [
    "# Define loss function and compile\n",
    "model.compile(loss=\"binary_crossentropy\",\n",
    "              optimizer=\"adam\",\n",
    "              metrics=[\"accuracy\"])"
   ]
  },
  {
   "cell_type": "markdown",
   "metadata": {},
   "source": [
    "#### Adam Optimizer\n",
    "Check out this links for more background on the Adam optimizer and Stohastic Gradient Descent\n",
    "* [Adam Optimization Algorithm](https://machinelearningmastery.com/adam-optimization-algorithm-for-deep-learning/)\n",
    "* [Adam Optimizer - original paper](https://arxiv.org/abs/1412.6980)"
   ]
  },
  {
   "cell_type": "markdown",
   "metadata": {
    "colab_type": "text",
    "id": "5dW8SZ2Ls9SX"
   },
   "source": [
    "### Fit Model\n",
    "\n",
    "Lets train it up! `model.fit()` has a `batch_size` parameter that we can use if we want to do mini-batch epochs, but since this tabular dataset is pretty small we're just going to delete that parameter. Keras' default `batch_size` is `None` so omiting it will tell Keras to do batch epochs."
   ]
  },
  {
   "cell_type": "code",
   "execution_count": 13,
   "metadata": {},
   "outputs": [
    {
     "name": "stdout",
     "output_type": "stream",
     "text": [
      "Epoch 1/150\n",
      "768/768 [==============================] - 0s 167us/sample - loss: 0.6816 - acc: 0.6198\n",
      "Epoch 2/150\n",
      "768/768 [==============================] - 0s 98us/sample - loss: 0.6693 - acc: 0.6445\n",
      "Epoch 3/150\n",
      "768/768 [==============================] - 0s 54us/sample - loss: 0.6622 - acc: 0.6458\n",
      "Epoch 4/150\n",
      "768/768 [==============================] - 0s 72us/sample - loss: 0.6555 - acc: 0.6471\n",
      "Epoch 5/150\n",
      "768/768 [==============================] - 0s 81us/sample - loss: 0.6484 - acc: 0.6471\n",
      "Epoch 6/150\n",
      "768/768 [==============================] - 0s 76us/sample - loss: 0.6422 - acc: 0.6471\n",
      "Epoch 7/150\n",
      "768/768 [==============================] - 0s 55us/sample - loss: 0.6377 - acc: 0.6471\n",
      "Epoch 8/150\n",
      "768/768 [==============================] - 0s 41us/sample - loss: 0.6347 - acc: 0.6471\n",
      "Epoch 9/150\n",
      "768/768 [==============================] - 0s 69us/sample - loss: 0.6303 - acc: 0.6471\n",
      "Epoch 10/150\n",
      "768/768 [==============================] - 0s 72us/sample - loss: 0.6241 - acc: 0.6484\n",
      "Epoch 11/150\n",
      "768/768 [==============================] - 0s 79us/sample - loss: 0.6202 - acc: 0.6484\n",
      "Epoch 12/150\n",
      "768/768 [==============================] - 0s 55us/sample - loss: 0.6165 - acc: 0.6497\n",
      "Epoch 13/150\n",
      "768/768 [==============================] - 0s 58us/sample - loss: 0.6144 - acc: 0.6497\n",
      "Epoch 14/150\n",
      "768/768 [==============================] - 0s 52us/sample - loss: 0.6127 - acc: 0.6497\n",
      "Epoch 15/150\n",
      "768/768 [==============================] - 0s 59us/sample - loss: 0.6107 - acc: 0.6510\n",
      "Epoch 16/150\n",
      "768/768 [==============================] - 0s 63us/sample - loss: 0.6085 - acc: 0.6510\n",
      "Epoch 17/150\n",
      "768/768 [==============================] - 0s 55us/sample - loss: 0.6063 - acc: 0.6536\n",
      "Epoch 18/150\n",
      "768/768 [==============================] - 0s 62us/sample - loss: 0.6050 - acc: 0.6536\n",
      "Epoch 19/150\n",
      "768/768 [==============================] - 0s 61us/sample - loss: 0.6033 - acc: 0.6536\n",
      "Epoch 20/150\n",
      "768/768 [==============================] - 0s 90us/sample - loss: 0.6016 - acc: 0.6536\n",
      "Epoch 21/150\n",
      "768/768 [==============================] - 0s 76us/sample - loss: 0.6001 - acc: 0.6536\n",
      "Epoch 22/150\n",
      "768/768 [==============================] - 0s 70us/sample - loss: 0.5986 - acc: 0.6654\n",
      "Epoch 23/150\n",
      "768/768 [==============================] - 0s 51us/sample - loss: 0.5972 - acc: 0.6641\n",
      "Epoch 24/150\n",
      "768/768 [==============================] - 0s 89us/sample - loss: 0.5953 - acc: 0.6667\n",
      "Epoch 25/150\n",
      "768/768 [==============================] - 0s 84us/sample - loss: 0.5934 - acc: 0.6693\n",
      "Epoch 26/150\n",
      "768/768 [==============================] - 0s 96us/sample - loss: 0.5921 - acc: 0.6745\n",
      "Epoch 27/150\n",
      "768/768 [==============================] - 0s 86us/sample - loss: 0.5907 - acc: 0.6706\n",
      "Epoch 28/150\n",
      "768/768 [==============================] - 0s 113us/sample - loss: 0.5888 - acc: 0.6784\n",
      "Epoch 29/150\n",
      "768/768 [==============================] - 0s 198us/sample - loss: 0.5884 - acc: 0.6771\n",
      "Epoch 30/150\n",
      "768/768 [==============================] - 0s 340us/sample - loss: 0.5874 - acc: 0.6875\n",
      "Epoch 31/150\n",
      "768/768 [==============================] - 0s 80us/sample - loss: 0.5858 - acc: 0.6758\n",
      "Epoch 32/150\n",
      "768/768 [==============================] - 0s 79us/sample - loss: 0.5847 - acc: 0.6875\n",
      "Epoch 33/150\n",
      "768/768 [==============================] - 0s 136us/sample - loss: 0.5843 - acc: 0.6797\n",
      "Epoch 34/150\n",
      "768/768 [==============================] - 0s 103us/sample - loss: 0.5823 - acc: 0.6797\n",
      "Epoch 35/150\n",
      "768/768 [==============================] - 0s 79us/sample - loss: 0.5823 - acc: 0.6875\n",
      "Epoch 36/150\n",
      "768/768 [==============================] - 0s 94us/sample - loss: 0.5815 - acc: 0.6823\n",
      "Epoch 37/150\n",
      "768/768 [==============================] - 0s 167us/sample - loss: 0.5797 - acc: 0.6888\n",
      "Epoch 38/150\n",
      "768/768 [==============================] - 0s 152us/sample - loss: 0.5792 - acc: 0.6862\n",
      "Epoch 39/150\n",
      "768/768 [==============================] - 0s 60us/sample - loss: 0.5775 - acc: 0.6914\n",
      "Epoch 40/150\n",
      "768/768 [==============================] - 0s 38us/sample - loss: 0.5764 - acc: 0.6888\n",
      "Epoch 41/150\n",
      "768/768 [==============================] - 0s 60us/sample - loss: 0.5745 - acc: 0.6940\n",
      "Epoch 42/150\n",
      "768/768 [==============================] - 0s 41us/sample - loss: 0.5726 - acc: 0.6992\n",
      "Epoch 43/150\n",
      "768/768 [==============================] - 0s 62us/sample - loss: 0.5723 - acc: 0.7031\n",
      "Epoch 44/150\n",
      "768/768 [==============================] - 0s 68us/sample - loss: 0.5730 - acc: 0.6992\n",
      "Epoch 45/150\n",
      "768/768 [==============================] - 0s 36us/sample - loss: 0.5715 - acc: 0.7083\n",
      "Epoch 46/150\n",
      "768/768 [==============================] - 0s 75us/sample - loss: 0.5701 - acc: 0.6992\n",
      "Epoch 47/150\n",
      "768/768 [==============================] - 0s 104us/sample - loss: 0.5698 - acc: 0.7057\n",
      "Epoch 48/150\n",
      "768/768 [==============================] - 0s 91us/sample - loss: 0.5691 - acc: 0.7122\n",
      "Epoch 49/150\n",
      "768/768 [==============================] - 0s 65us/sample - loss: 0.5685 - acc: 0.7031\n",
      "Epoch 50/150\n",
      "768/768 [==============================] - 0s 59us/sample - loss: 0.5682 - acc: 0.7044\n",
      "Epoch 51/150\n",
      "768/768 [==============================] - 0s 79us/sample - loss: 0.5671 - acc: 0.7122\n",
      "Epoch 52/150\n",
      "768/768 [==============================] - 0s 61us/sample - loss: 0.5670 - acc: 0.7005\n",
      "Epoch 53/150\n",
      "768/768 [==============================] - 0s 61us/sample - loss: 0.5666 - acc: 0.7096\n",
      "Epoch 54/150\n",
      "768/768 [==============================] - 0s 72us/sample - loss: 0.5665 - acc: 0.7070\n",
      "Epoch 55/150\n",
      "768/768 [==============================] - 0s 41us/sample - loss: 0.5658 - acc: 0.7057\n",
      "Epoch 56/150\n",
      "768/768 [==============================] - 0s 73us/sample - loss: 0.5665 - acc: 0.7044\n",
      "Epoch 57/150\n",
      "768/768 [==============================] - 0s 91us/sample - loss: 0.5637 - acc: 0.7109\n",
      "Epoch 58/150\n",
      "768/768 [==============================] - 0s 73us/sample - loss: 0.5643 - acc: 0.7096\n",
      "Epoch 59/150\n",
      "768/768 [==============================] - 0s 79us/sample - loss: 0.5625 - acc: 0.7083\n",
      "Epoch 60/150\n",
      "768/768 [==============================] - 0s 48us/sample - loss: 0.5618 - acc: 0.7096\n",
      "Epoch 61/150\n",
      "768/768 [==============================] - 0s 113us/sample - loss: 0.5620 - acc: 0.7148\n",
      "Epoch 62/150\n",
      "768/768 [==============================] - 0s 115us/sample - loss: 0.5625 - acc: 0.7161\n",
      "Epoch 63/150\n",
      "768/768 [==============================] - 0s 61us/sample - loss: 0.5606 - acc: 0.7161\n",
      "Epoch 64/150\n",
      "768/768 [==============================] - 0s 52us/sample - loss: 0.5622 - acc: 0.7109\n",
      "Epoch 65/150\n",
      "768/768 [==============================] - 0s 65us/sample - loss: 0.5603 - acc: 0.7096\n",
      "Epoch 66/150\n",
      "768/768 [==============================] - 0s 68us/sample - loss: 0.5595 - acc: 0.7135\n",
      "Epoch 67/150\n",
      "768/768 [==============================] - 0s 51us/sample - loss: 0.5592 - acc: 0.7044\n",
      "Epoch 68/150\n",
      "768/768 [==============================] - 0s 69us/sample - loss: 0.5613 - acc: 0.7096\n",
      "Epoch 69/150\n",
      "768/768 [==============================] - 0s 38us/sample - loss: 0.5607 - acc: 0.7083\n",
      "Epoch 70/150\n",
      "768/768 [==============================] - 0s 98us/sample - loss: 0.5599 - acc: 0.7174\n",
      "Epoch 71/150\n",
      "768/768 [==============================] - 0s 75us/sample - loss: 0.5588 - acc: 0.7122\n",
      "Epoch 72/150\n",
      "768/768 [==============================] - 0s 48us/sample - loss: 0.5582 - acc: 0.7122\n",
      "Epoch 73/150\n",
      "768/768 [==============================] - 0s 67us/sample - loss: 0.5583 - acc: 0.7057\n",
      "Epoch 74/150\n",
      "768/768 [==============================] - 0s 78us/sample - loss: 0.5572 - acc: 0.7096\n",
      "Epoch 75/150\n",
      "768/768 [==============================] - 0s 40us/sample - loss: 0.5585 - acc: 0.7135\n",
      "Epoch 76/150\n",
      "768/768 [==============================] - 0s 61us/sample - loss: 0.5581 - acc: 0.7096\n",
      "Epoch 77/150\n",
      "768/768 [==============================] - 0s 52us/sample - loss: 0.5572 - acc: 0.7148\n",
      "Epoch 78/150\n",
      "768/768 [==============================] - 0s 42us/sample - loss: 0.5565 - acc: 0.7188\n",
      "Epoch 79/150\n",
      "768/768 [==============================] - 0s 79us/sample - loss: 0.5559 - acc: 0.7122\n",
      "Epoch 80/150\n",
      "768/768 [==============================] - 0s 61us/sample - loss: 0.5563 - acc: 0.7096\n",
      "Epoch 81/150\n",
      "768/768 [==============================] - 0s 59us/sample - loss: 0.5580 - acc: 0.7096\n",
      "Epoch 82/150\n",
      "768/768 [==============================] - 0s 42us/sample - loss: 0.5564 - acc: 0.7070\n",
      "Epoch 83/150\n",
      "768/768 [==============================] - 0s 77us/sample - loss: 0.5578 - acc: 0.7161\n",
      "Epoch 84/150\n",
      "768/768 [==============================] - 0s 53us/sample - loss: 0.5557 - acc: 0.7135\n",
      "Epoch 85/150\n",
      "768/768 [==============================] - 0s 75us/sample - loss: 0.5549 - acc: 0.7161\n",
      "Epoch 86/150\n",
      "768/768 [==============================] - 0s 66us/sample - loss: 0.5562 - acc: 0.7122\n",
      "Epoch 87/150\n",
      "768/768 [==============================] - 0s 41us/sample - loss: 0.5554 - acc: 0.7109\n",
      "Epoch 88/150\n",
      "768/768 [==============================] - 0s 69us/sample - loss: 0.5545 - acc: 0.7083\n",
      "Epoch 89/150\n",
      "768/768 [==============================] - 0s 37us/sample - loss: 0.5547 - acc: 0.7122\n",
      "Epoch 90/150\n",
      "768/768 [==============================] - 0s 75us/sample - loss: 0.5543 - acc: 0.7096\n",
      "Epoch 91/150\n",
      "768/768 [==============================] - 0s 61us/sample - loss: 0.5536 - acc: 0.7109\n",
      "Epoch 92/150\n",
      "768/768 [==============================] - 0s 37us/sample - loss: 0.5536 - acc: 0.7135\n",
      "Epoch 93/150\n",
      "768/768 [==============================] - 0s 91us/sample - loss: 0.5520 - acc: 0.7148\n",
      "Epoch 94/150\n",
      "768/768 [==============================] - 0s 49us/sample - loss: 0.5529 - acc: 0.7188\n",
      "Epoch 95/150\n",
      "768/768 [==============================] - 0s 73us/sample - loss: 0.5525 - acc: 0.7214\n",
      "Epoch 96/150\n",
      "768/768 [==============================] - 0s 53us/sample - loss: 0.5522 - acc: 0.7122\n",
      "Epoch 97/150\n",
      "768/768 [==============================] - 0s 76us/sample - loss: 0.5515 - acc: 0.7214\n",
      "Epoch 98/150\n",
      "768/768 [==============================] - 0s 58us/sample - loss: 0.5511 - acc: 0.7201\n",
      "Epoch 99/150\n",
      "768/768 [==============================] - 0s 66us/sample - loss: 0.5510 - acc: 0.7148\n",
      "Epoch 100/150\n",
      "768/768 [==============================] - 0s 45us/sample - loss: 0.5508 - acc: 0.7161\n",
      "Epoch 101/150\n",
      "768/768 [==============================] - 0s 67us/sample - loss: 0.5522 - acc: 0.7174\n",
      "Epoch 102/150\n",
      "768/768 [==============================] - 0s 79us/sample - loss: 0.5512 - acc: 0.7161\n",
      "Epoch 103/150\n",
      "768/768 [==============================] - 0s 75us/sample - loss: 0.5517 - acc: 0.7227\n",
      "Epoch 104/150\n",
      "768/768 [==============================] - 0s 46us/sample - loss: 0.5509 - acc: 0.7135\n",
      "Epoch 105/150\n",
      "768/768 [==============================] - 0s 78us/sample - loss: 0.5509 - acc: 0.7253\n",
      "Epoch 106/150\n",
      "768/768 [==============================] - 0s 49us/sample - loss: 0.5508 - acc: 0.7188\n",
      "Epoch 107/150\n",
      "768/768 [==============================] - 0s 59us/sample - loss: 0.5506 - acc: 0.7148\n",
      "Epoch 108/150\n",
      "768/768 [==============================] - 0s 72us/sample - loss: 0.5499 - acc: 0.7201\n",
      "Epoch 109/150\n",
      "768/768 [==============================] - 0s 58us/sample - loss: 0.5494 - acc: 0.7188\n",
      "Epoch 110/150\n",
      "768/768 [==============================] - 0s 64us/sample - loss: 0.5499 - acc: 0.7240\n",
      "Epoch 111/150\n",
      "768/768 [==============================] - 0s 64us/sample - loss: 0.5488 - acc: 0.7174\n",
      "Epoch 112/150\n",
      "768/768 [==============================] - 0s 51us/sample - loss: 0.5492 - acc: 0.7161\n",
      "Epoch 113/150\n",
      "768/768 [==============================] - 0s 43us/sample - loss: 0.5490 - acc: 0.7174\n",
      "Epoch 114/150\n",
      "768/768 [==============================] - 0s 69us/sample - loss: 0.5487 - acc: 0.7214\n",
      "Epoch 115/150\n",
      "768/768 [==============================] - 0s 54us/sample - loss: 0.5483 - acc: 0.7201\n",
      "Epoch 116/150\n",
      "768/768 [==============================] - 0s 56us/sample - loss: 0.5493 - acc: 0.7188\n",
      "Epoch 117/150\n",
      "768/768 [==============================] - 0s 50us/sample - loss: 0.5509 - acc: 0.7188\n",
      "Epoch 118/150\n",
      "768/768 [==============================] - 0s 63us/sample - loss: 0.5486 - acc: 0.7188\n",
      "Epoch 119/150\n",
      "768/768 [==============================] - 0s 65us/sample - loss: 0.5479 - acc: 0.7227\n",
      "Epoch 120/150\n",
      "768/768 [==============================] - 0s 46us/sample - loss: 0.5473 - acc: 0.7214\n",
      "Epoch 121/150\n",
      "768/768 [==============================] - 0s 60us/sample - loss: 0.5474 - acc: 0.7174\n",
      "Epoch 122/150\n",
      "768/768 [==============================] - 0s 65us/sample - loss: 0.5477 - acc: 0.7161\n",
      "Epoch 123/150\n",
      "768/768 [==============================] - 0s 61us/sample - loss: 0.5474 - acc: 0.7201\n",
      "Epoch 124/150\n",
      "768/768 [==============================] - 0s 59us/sample - loss: 0.5488 - acc: 0.7148\n",
      "Epoch 125/150\n",
      "768/768 [==============================] - 0s 57us/sample - loss: 0.5503 - acc: 0.7161\n",
      "Epoch 126/150\n",
      "768/768 [==============================] - 0s 54us/sample - loss: 0.5477 - acc: 0.7161\n",
      "Epoch 127/150\n",
      "768/768 [==============================] - 0s 69us/sample - loss: 0.5467 - acc: 0.7188\n",
      "Epoch 128/150\n",
      "768/768 [==============================] - 0s 82us/sample - loss: 0.5469 - acc: 0.7188\n",
      "Epoch 129/150\n",
      "768/768 [==============================] - 0s 60us/sample - loss: 0.5476 - acc: 0.7240\n",
      "Epoch 130/150\n",
      "768/768 [==============================] - 0s 50us/sample - loss: 0.5472 - acc: 0.7174\n",
      "Epoch 131/150\n",
      "768/768 [==============================] - 0s 66us/sample - loss: 0.5471 - acc: 0.7161\n",
      "Epoch 132/150\n",
      "768/768 [==============================] - 0s 53us/sample - loss: 0.5473 - acc: 0.7188\n",
      "Epoch 133/150\n",
      "768/768 [==============================] - 0s 87us/sample - loss: 0.5485 - acc: 0.7161\n",
      "Epoch 134/150\n",
      "768/768 [==============================] - 0s 61us/sample - loss: 0.5486 - acc: 0.7188\n",
      "Epoch 135/150\n",
      "768/768 [==============================] - 0s 77us/sample - loss: 0.5475 - acc: 0.7227\n",
      "Epoch 136/150\n",
      "768/768 [==============================] - 0s 68us/sample - loss: 0.5462 - acc: 0.7174\n",
      "Epoch 137/150\n",
      "768/768 [==============================] - 0s 49us/sample - loss: 0.5474 - acc: 0.7161\n",
      "Epoch 138/150\n",
      "768/768 [==============================] - 0s 73us/sample - loss: 0.5457 - acc: 0.7188\n",
      "Epoch 139/150\n",
      "768/768 [==============================] - 0s 55us/sample - loss: 0.5463 - acc: 0.7188\n",
      "Epoch 140/150\n",
      "768/768 [==============================] - 0s 39us/sample - loss: 0.5454 - acc: 0.7253\n",
      "Epoch 141/150\n",
      "768/768 [==============================] - 0s 86us/sample - loss: 0.5451 - acc: 0.7201\n",
      "Epoch 142/150\n",
      "768/768 [==============================] - 0s 90us/sample - loss: 0.5456 - acc: 0.7240\n",
      "Epoch 143/150\n",
      "768/768 [==============================] - 0s 81us/sample - loss: 0.5456 - acc: 0.7227\n",
      "Epoch 144/150\n",
      "768/768 [==============================] - 0s 59us/sample - loss: 0.5452 - acc: 0.7201\n",
      "Epoch 145/150\n",
      "768/768 [==============================] - 0s 47us/sample - loss: 0.5475 - acc: 0.7174\n",
      "Epoch 146/150\n",
      "768/768 [==============================] - 0s 62us/sample - loss: 0.5452 - acc: 0.7253\n",
      "Epoch 147/150\n",
      "768/768 [==============================] - 0s 82us/sample - loss: 0.5455 - acc: 0.7135\n",
      "Epoch 148/150\n",
      "768/768 [==============================] - 0s 79us/sample - loss: 0.5451 - acc: 0.7188\n",
      "Epoch 149/150\n",
      "768/768 [==============================] - 0s 68us/sample - loss: 0.5445 - acc: 0.7253\n",
      "Epoch 150/150\n",
      "768/768 [==============================] - 0s 86us/sample - loss: 0.5449 - acc: 0.7227\n"
     ]
    },
    {
     "data": {
      "text/plain": [
       "<tensorflow.python.keras.callbacks.History at 0xb2c3ef2e8>"
      ]
     },
     "execution_count": 13,
     "metadata": {},
     "output_type": "execute_result"
    }
   ],
   "source": [
    "model.fit(X, y, epochs=150)"
   ]
  },
  {
   "cell_type": "markdown",
   "metadata": {},
   "source": [
    "### Evaluate Model"
   ]
  },
  {
   "cell_type": "code",
   "execution_count": 11,
   "metadata": {},
   "outputs": [
    {
     "data": {
      "text/plain": [
       "0.3489583333333333"
      ]
     },
     "execution_count": 11,
     "metadata": {},
     "output_type": "execute_result"
    }
   ],
   "source": [
    "sum(y) / len(y) # Predicting never diabetes is 65%"
   ]
  },
  {
   "cell_type": "code",
   "execution_count": 12,
   "metadata": {},
   "outputs": [
    {
     "name": "stdout",
     "output_type": "stream",
     "text": [
      "768/768 [==============================] - 0s 101us/sample - loss: 0.5774 - acc: 0.7005\n",
      "acc: 70.05208134651184\n"
     ]
    }
   ],
   "source": [
    "scores = model.evaluate(X, y)\n",
    "print(f\"{model.metrics_names[1]}: {scores[1]*100}\")"
   ]
  },
  {
   "cell_type": "markdown",
   "metadata": {
    "colab_type": "text",
    "id": "AIJoRBxHy27n"
   },
   "source": [
    "# Keras MLP Model in 4 lines of code:"
   ]
  },
  {
   "cell_type": "code",
   "execution_count": 21,
   "metadata": {
    "colab": {
     "base_uri": "https://localhost:8080/",
     "height": 5216
    },
    "colab_type": "code",
    "id": "TQxyONqKvFxB",
    "outputId": "12966e66-2297-4f82-85b3-c275a9c38563"
   },
   "outputs": [
    {
     "name": "stdout",
     "output_type": "stream",
     "text": [
      "Model: \"sequential_3\"\n",
      "_________________________________________________________________\n",
      "Layer (type)                 Output Shape              Param #   \n",
      "=================================================================\n",
      "dense_8 (Dense)              (None, 128)               1152      \n",
      "_________________________________________________________________\n",
      "dense_9 (Dense)              (None, 128)               16512     \n",
      "_________________________________________________________________\n",
      "dense_10 (Dense)             (None, 1)                 129       \n",
      "=================================================================\n",
      "Total params: 17,793\n",
      "Trainable params: 17,793\n",
      "Non-trainable params: 0\n",
      "_________________________________________________________________\n"
     ]
    }
   ],
   "source": [
    "model = Sequential()\n",
    "model.add(Dense(128, input_dim=8, activation=\"relu\"))\n",
    "model.add(Dense(128, activation=\"sigmoid\"))\n",
    "model.add(Dense(1, activation=\"sigmoid\"))\n",
    "\n",
    "# Test\n",
    "model.summary()"
   ]
  },
  {
   "cell_type": "code",
   "execution_count": 22,
   "metadata": {},
   "outputs": [],
   "source": [
    "# Compile\n",
    "model.compile(loss = \"binary_crossentropy\",\n",
    "              optimizer=\"adam\",\n",
    "              metrics = [\"accuracy\"])"
   ]
  },
  {
   "cell_type": "code",
   "execution_count": 23,
   "metadata": {},
   "outputs": [
    {
     "name": "stdout",
     "output_type": "stream",
     "text": [
      "Epoch 1/150\n",
      "768/768 [==============================] - 0s 253us/sample - loss: 0.6431 - acc: 0.6445\n",
      "Epoch 2/150\n",
      "768/768 [==============================] - 0s 85us/sample - loss: 0.6022 - acc: 0.6680\n",
      "Epoch 3/150\n",
      "768/768 [==============================] - 0s 74us/sample - loss: 0.5912 - acc: 0.6849\n",
      "Epoch 4/150\n",
      "768/768 [==============================] - 0s 68us/sample - loss: 0.5791 - acc: 0.6888\n",
      "Epoch 5/150\n",
      "768/768 [==============================] - 0s 70us/sample - loss: 0.5678 - acc: 0.7005\n",
      "Epoch 6/150\n",
      "768/768 [==============================] - 0s 89us/sample - loss: 0.5746 - acc: 0.6940\n",
      "Epoch 7/150\n",
      "768/768 [==============================] - 0s 84us/sample - loss: 0.5616 - acc: 0.7018\n",
      "Epoch 8/150\n",
      "768/768 [==============================] - 0s 79us/sample - loss: 0.5657 - acc: 0.6862\n",
      "Epoch 9/150\n",
      "768/768 [==============================] - 0s 89us/sample - loss: 0.5551 - acc: 0.7174\n",
      "Epoch 10/150\n",
      "768/768 [==============================] - 0s 96us/sample - loss: 0.5557 - acc: 0.7096\n",
      "Epoch 11/150\n",
      "768/768 [==============================] - 0s 83us/sample - loss: 0.5494 - acc: 0.7253\n",
      "Epoch 12/150\n",
      "768/768 [==============================] - 0s 75us/sample - loss: 0.5456 - acc: 0.7174\n",
      "Epoch 13/150\n",
      "768/768 [==============================] - 0s 78us/sample - loss: 0.5463 - acc: 0.7201\n",
      "Epoch 14/150\n",
      "768/768 [==============================] - 0s 87us/sample - loss: 0.5456 - acc: 0.7135\n",
      "Epoch 15/150\n",
      "768/768 [==============================] - 0s 82us/sample - loss: 0.5459 - acc: 0.7109\n",
      "Epoch 16/150\n",
      "768/768 [==============================] - 0s 76us/sample - loss: 0.5368 - acc: 0.7201\n",
      "Epoch 17/150\n",
      "768/768 [==============================] - 0s 88us/sample - loss: 0.5290 - acc: 0.7279\n",
      "Epoch 18/150\n",
      "768/768 [==============================] - 0s 83us/sample - loss: 0.5310 - acc: 0.7370\n",
      "Epoch 19/150\n",
      "768/768 [==============================] - 0s 77us/sample - loss: 0.5272 - acc: 0.7279\n",
      "Epoch 20/150\n",
      "768/768 [==============================] - 0s 71us/sample - loss: 0.5263 - acc: 0.7279\n",
      "Epoch 21/150\n",
      "768/768 [==============================] - 0s 69us/sample - loss: 0.5332 - acc: 0.7292\n",
      "Epoch 22/150\n",
      "768/768 [==============================] - 0s 75us/sample - loss: 0.5294 - acc: 0.7370\n",
      "Epoch 23/150\n",
      "768/768 [==============================] - 0s 76us/sample - loss: 0.5299 - acc: 0.7435\n",
      "Epoch 24/150\n",
      "768/768 [==============================] - 0s 102us/sample - loss: 0.5258 - acc: 0.7344\n",
      "Epoch 25/150\n",
      "768/768 [==============================] - 0s 89us/sample - loss: 0.5250 - acc: 0.7331\n",
      "Epoch 26/150\n",
      "768/768 [==============================] - 0s 96us/sample - loss: 0.5246 - acc: 0.7409\n",
      "Epoch 27/150\n",
      "768/768 [==============================] - 0s 94us/sample - loss: 0.5238 - acc: 0.7331\n",
      "Epoch 28/150\n",
      "768/768 [==============================] - 0s 96us/sample - loss: 0.5291 - acc: 0.7292\n",
      "Epoch 29/150\n",
      "768/768 [==============================] - 0s 133us/sample - loss: 0.5204 - acc: 0.7370\n",
      "Epoch 30/150\n",
      "768/768 [==============================] - 0s 64us/sample - loss: 0.5179 - acc: 0.7409\n",
      "Epoch 31/150\n",
      "768/768 [==============================] - 0s 58us/sample - loss: 0.5156 - acc: 0.7383\n",
      "Epoch 32/150\n",
      "768/768 [==============================] - 0s 60us/sample - loss: 0.5159 - acc: 0.7396\n",
      "Epoch 33/150\n",
      "768/768 [==============================] - 0s 60us/sample - loss: 0.5129 - acc: 0.7435\n",
      "Epoch 34/150\n",
      "768/768 [==============================] - 0s 72us/sample - loss: 0.5097 - acc: 0.7513\n",
      "Epoch 35/150\n",
      "768/768 [==============================] - 0s 59us/sample - loss: 0.5088 - acc: 0.7474\n",
      "Epoch 36/150\n",
      "768/768 [==============================] - 0s 63us/sample - loss: 0.5221 - acc: 0.7344\n",
      "Epoch 37/150\n",
      "768/768 [==============================] - 0s 57us/sample - loss: 0.5093 - acc: 0.7500\n",
      "Epoch 38/150\n",
      "768/768 [==============================] - 0s 58us/sample - loss: 0.5019 - acc: 0.7591\n",
      "Epoch 39/150\n",
      "768/768 [==============================] - 0s 55us/sample - loss: 0.5059 - acc: 0.7461\n",
      "Epoch 40/150\n",
      "768/768 [==============================] - 0s 81us/sample - loss: 0.5087 - acc: 0.7487\n",
      "Epoch 41/150\n",
      "768/768 [==============================] - 0s 84us/sample - loss: 0.5076 - acc: 0.7435\n",
      "Epoch 42/150\n",
      "768/768 [==============================] - 0s 164us/sample - loss: 0.5085 - acc: 0.7435\n",
      "Epoch 43/150\n",
      "768/768 [==============================] - 0s 135us/sample - loss: 0.5046 - acc: 0.7513\n",
      "Epoch 44/150\n",
      "768/768 [==============================] - 0s 162us/sample - loss: 0.4974 - acc: 0.7591\n",
      "Epoch 45/150\n",
      "768/768 [==============================] - 0s 174us/sample - loss: 0.5003 - acc: 0.7474\n",
      "Epoch 46/150\n",
      "768/768 [==============================] - 0s 191us/sample - loss: 0.5054 - acc: 0.7253\n",
      "Epoch 47/150\n",
      "768/768 [==============================] - 0s 112us/sample - loss: 0.5013 - acc: 0.7552\n",
      "Epoch 48/150\n",
      "768/768 [==============================] - 0s 129us/sample - loss: 0.4968 - acc: 0.7474\n",
      "Epoch 49/150\n",
      "768/768 [==============================] - 0s 178us/sample - loss: 0.4990 - acc: 0.7448\n",
      "Epoch 50/150\n",
      "768/768 [==============================] - 0s 126us/sample - loss: 0.4867 - acc: 0.7565\n",
      "Epoch 51/150\n",
      "768/768 [==============================] - 0s 110us/sample - loss: 0.5045 - acc: 0.7604\n",
      "Epoch 52/150\n",
      "768/768 [==============================] - 0s 205us/sample - loss: 0.5016 - acc: 0.7435\n",
      "Epoch 53/150\n",
      "768/768 [==============================] - 0s 170us/sample - loss: 0.4975 - acc: 0.7552\n",
      "Epoch 54/150\n",
      "768/768 [==============================] - 0s 135us/sample - loss: 0.4947 - acc: 0.7747\n",
      "Epoch 55/150\n",
      "768/768 [==============================] - 0s 124us/sample - loss: 0.4877 - acc: 0.7682\n",
      "Epoch 56/150\n",
      "768/768 [==============================] - 0s 109us/sample - loss: 0.4843 - acc: 0.7591\n",
      "Epoch 57/150\n",
      "768/768 [==============================] - 0s 94us/sample - loss: 0.4811 - acc: 0.7578\n",
      "Epoch 58/150\n",
      "768/768 [==============================] - 0s 202us/sample - loss: 0.4782 - acc: 0.7773\n",
      "Epoch 59/150\n",
      "768/768 [==============================] - 0s 155us/sample - loss: 0.4790 - acc: 0.7682\n",
      "Epoch 60/150\n",
      "768/768 [==============================] - 0s 152us/sample - loss: 0.4898 - acc: 0.7565\n",
      "Epoch 61/150\n",
      "768/768 [==============================] - 0s 154us/sample - loss: 0.4826 - acc: 0.7682\n",
      "Epoch 62/150\n",
      "768/768 [==============================] - 0s 98us/sample - loss: 0.4893 - acc: 0.7591\n",
      "Epoch 63/150\n",
      "768/768 [==============================] - 0s 153us/sample - loss: 0.4829 - acc: 0.7656\n",
      "Epoch 64/150\n",
      "768/768 [==============================] - 0s 273us/sample - loss: 0.4769 - acc: 0.7695\n",
      "Epoch 65/150\n",
      "768/768 [==============================] - 0s 149us/sample - loss: 0.4812 - acc: 0.7682\n",
      "Epoch 66/150\n",
      "768/768 [==============================] - 0s 140us/sample - loss: 0.4727 - acc: 0.7617\n",
      "Epoch 67/150\n",
      "768/768 [==============================] - 0s 123us/sample - loss: 0.4759 - acc: 0.7617\n",
      "Epoch 68/150\n",
      "768/768 [==============================] - 0s 141us/sample - loss: 0.4722 - acc: 0.7682\n",
      "Epoch 69/150\n",
      "768/768 [==============================] - 0s 127us/sample - loss: 0.4745 - acc: 0.7786\n",
      "Epoch 70/150\n",
      "768/768 [==============================] - 0s 140us/sample - loss: 0.4797 - acc: 0.7643\n",
      "Epoch 71/150\n",
      "768/768 [==============================] - 0s 170us/sample - loss: 0.4711 - acc: 0.7734\n",
      "Epoch 72/150\n",
      "768/768 [==============================] - 0s 166us/sample - loss: 0.4702 - acc: 0.7747\n",
      "Epoch 73/150\n",
      "768/768 [==============================] - 0s 124us/sample - loss: 0.4560 - acc: 0.7839\n",
      "Epoch 74/150\n",
      "768/768 [==============================] - 0s 125us/sample - loss: 0.4691 - acc: 0.7656\n",
      "Epoch 75/150\n",
      "768/768 [==============================] - 0s 157us/sample - loss: 0.4578 - acc: 0.7747\n",
      "Epoch 76/150\n",
      "768/768 [==============================] - 0s 171us/sample - loss: 0.4652 - acc: 0.7721\n",
      "Epoch 77/150\n",
      "768/768 [==============================] - 0s 119us/sample - loss: 0.4613 - acc: 0.7734\n",
      "Epoch 78/150\n",
      "768/768 [==============================] - 0s 180us/sample - loss: 0.4667 - acc: 0.7643\n",
      "Epoch 79/150\n",
      "768/768 [==============================] - 0s 77us/sample - loss: 0.4644 - acc: 0.7682\n",
      "Epoch 80/150\n",
      "768/768 [==============================] - 0s 129us/sample - loss: 0.4508 - acc: 0.7747\n",
      "Epoch 81/150\n",
      "768/768 [==============================] - 0s 183us/sample - loss: 0.4636 - acc: 0.7747\n",
      "Epoch 82/150\n",
      "768/768 [==============================] - 0s 248us/sample - loss: 0.4670 - acc: 0.7708\n",
      "Epoch 83/150\n",
      "768/768 [==============================] - 0s 152us/sample - loss: 0.4624 - acc: 0.7865\n",
      "Epoch 84/150\n",
      "768/768 [==============================] - 0s 204us/sample - loss: 0.4588 - acc: 0.7799\n",
      "Epoch 85/150\n",
      "768/768 [==============================] - 0s 95us/sample - loss: 0.4629 - acc: 0.7708\n",
      "Epoch 86/150\n",
      "768/768 [==============================] - 0s 300us/sample - loss: 0.4524 - acc: 0.7760\n",
      "Epoch 87/150\n",
      "768/768 [==============================] - 0s 77us/sample - loss: 0.4545 - acc: 0.7812\n",
      "Epoch 88/150\n",
      "768/768 [==============================] - 0s 109us/sample - loss: 0.4525 - acc: 0.7812\n",
      "Epoch 89/150\n",
      "768/768 [==============================] - 0s 73us/sample - loss: 0.4543 - acc: 0.7773\n",
      "Epoch 90/150\n",
      "768/768 [==============================] - 0s 107us/sample - loss: 0.4455 - acc: 0.7878\n",
      "Epoch 91/150\n",
      "768/768 [==============================] - 0s 81us/sample - loss: 0.4612 - acc: 0.7812\n",
      "Epoch 92/150\n",
      "768/768 [==============================] - 0s 163us/sample - loss: 0.4624 - acc: 0.7617\n",
      "Epoch 93/150\n",
      "768/768 [==============================] - 0s 242us/sample - loss: 0.4511 - acc: 0.7865\n",
      "Epoch 94/150\n",
      "768/768 [==============================] - 0s 266us/sample - loss: 0.4479 - acc: 0.7839\n",
      "Epoch 95/150\n",
      "768/768 [==============================] - 0s 174us/sample - loss: 0.4399 - acc: 0.7904\n",
      "Epoch 96/150\n",
      "768/768 [==============================] - 0s 212us/sample - loss: 0.4407 - acc: 0.7826\n",
      "Epoch 97/150\n",
      "768/768 [==============================] - 0s 182us/sample - loss: 0.4324 - acc: 0.7904\n",
      "Epoch 98/150\n",
      "768/768 [==============================] - 0s 182us/sample - loss: 0.4470 - acc: 0.7930\n",
      "Epoch 99/150\n",
      "768/768 [==============================] - 0s 175us/sample - loss: 0.4375 - acc: 0.7839\n",
      "Epoch 100/150\n",
      "768/768 [==============================] - 0s 126us/sample - loss: 0.4323 - acc: 0.7812\n",
      "Epoch 101/150\n",
      "768/768 [==============================] - 0s 129us/sample - loss: 0.4365 - acc: 0.7878\n",
      "Epoch 102/150\n",
      "768/768 [==============================] - 0s 172us/sample - loss: 0.4342 - acc: 0.7786\n",
      "Epoch 103/150\n",
      "768/768 [==============================] - 0s 164us/sample - loss: 0.4321 - acc: 0.7943\n",
      "Epoch 104/150\n",
      "768/768 [==============================] - 0s 102us/sample - loss: 0.4310 - acc: 0.7917\n",
      "Epoch 105/150\n",
      "768/768 [==============================] - 0s 158us/sample - loss: 0.4290 - acc: 0.7917\n",
      "Epoch 106/150\n",
      "768/768 [==============================] - 0s 175us/sample - loss: 0.4304 - acc: 0.7891\n",
      "Epoch 107/150\n",
      "768/768 [==============================] - 0s 155us/sample - loss: 0.4307 - acc: 0.7995\n",
      "Epoch 108/150\n",
      "768/768 [==============================] - 0s 151us/sample - loss: 0.4268 - acc: 0.7904\n",
      "Epoch 109/150\n",
      "768/768 [==============================] - 0s 150us/sample - loss: 0.4264 - acc: 0.7969\n",
      "Epoch 110/150\n",
      "768/768 [==============================] - 0s 165us/sample - loss: 0.4192 - acc: 0.7917\n",
      "Epoch 111/150\n",
      "768/768 [==============================] - 0s 181us/sample - loss: 0.4301 - acc: 0.7982\n",
      "Epoch 112/150\n",
      "768/768 [==============================] - 0s 111us/sample - loss: 0.4278 - acc: 0.7982\n",
      "Epoch 113/150\n",
      "768/768 [==============================] - 0s 87us/sample - loss: 0.4213 - acc: 0.8021\n",
      "Epoch 114/150\n",
      "768/768 [==============================] - 0s 211us/sample - loss: 0.4296 - acc: 0.7826\n",
      "Epoch 115/150\n",
      "768/768 [==============================] - 0s 161us/sample - loss: 0.4292 - acc: 0.7930\n",
      "Epoch 116/150\n",
      "768/768 [==============================] - 0s 146us/sample - loss: 0.4145 - acc: 0.8021\n",
      "Epoch 117/150\n",
      "768/768 [==============================] - 0s 153us/sample - loss: 0.4066 - acc: 0.8060\n",
      "Epoch 118/150\n",
      "768/768 [==============================] - 0s 131us/sample - loss: 0.4232 - acc: 0.8008\n",
      "Epoch 119/150\n",
      "768/768 [==============================] - 0s 87us/sample - loss: 0.4267 - acc: 0.7878\n",
      "Epoch 120/150\n",
      "768/768 [==============================] - 0s 135us/sample - loss: 0.4128 - acc: 0.7982\n",
      "Epoch 121/150\n",
      "768/768 [==============================] - 0s 156us/sample - loss: 0.4149 - acc: 0.7943\n",
      "Epoch 122/150\n",
      "768/768 [==============================] - 0s 122us/sample - loss: 0.4114 - acc: 0.8008\n",
      "Epoch 123/150\n",
      "768/768 [==============================] - 0s 172us/sample - loss: 0.4027 - acc: 0.8047\n",
      "Epoch 124/150\n",
      "768/768 [==============================] - 0s 197us/sample - loss: 0.3954 - acc: 0.8060\n",
      "Epoch 125/150\n",
      "768/768 [==============================] - 0s 165us/sample - loss: 0.4023 - acc: 0.8112\n",
      "Epoch 126/150\n",
      "768/768 [==============================] - 0s 138us/sample - loss: 0.4033 - acc: 0.8034\n",
      "Epoch 127/150\n",
      "768/768 [==============================] - 0s 167us/sample - loss: 0.3934 - acc: 0.8008\n",
      "Epoch 128/150\n",
      "768/768 [==============================] - 0s 150us/sample - loss: 0.4081 - acc: 0.8047\n",
      "Epoch 129/150\n",
      "768/768 [==============================] - 0s 147us/sample - loss: 0.4054 - acc: 0.7956\n",
      "Epoch 130/150\n",
      "768/768 [==============================] - 0s 57us/sample - loss: 0.4022 - acc: 0.8125\n",
      "Epoch 131/150\n",
      "768/768 [==============================] - 0s 86us/sample - loss: 0.3984 - acc: 0.8086\n",
      "Epoch 132/150\n",
      "768/768 [==============================] - 0s 92us/sample - loss: 0.3960 - acc: 0.8190\n",
      "Epoch 133/150\n",
      "768/768 [==============================] - 0s 93us/sample - loss: 0.4095 - acc: 0.8047\n",
      "Epoch 134/150\n",
      "768/768 [==============================] - 0s 92us/sample - loss: 0.4012 - acc: 0.8047\n",
      "Epoch 135/150\n",
      "768/768 [==============================] - 0s 103us/sample - loss: 0.3962 - acc: 0.8177\n",
      "Epoch 136/150\n",
      "768/768 [==============================] - 0s 198us/sample - loss: 0.4016 - acc: 0.8060\n",
      "Epoch 137/150\n",
      "768/768 [==============================] - 0s 198us/sample - loss: 0.3959 - acc: 0.8112\n",
      "Epoch 138/150\n",
      "768/768 [==============================] - 0s 168us/sample - loss: 0.3916 - acc: 0.8216\n",
      "Epoch 139/150\n",
      "768/768 [==============================] - 0s 123us/sample - loss: 0.4069 - acc: 0.8086\n",
      "Epoch 140/150\n",
      "768/768 [==============================] - 0s 139us/sample - loss: 0.4083 - acc: 0.8034\n",
      "Epoch 141/150\n",
      "768/768 [==============================] - 0s 125us/sample - loss: 0.3886 - acc: 0.8177\n",
      "Epoch 142/150\n",
      "768/768 [==============================] - 0s 108us/sample - loss: 0.3962 - acc: 0.8112\n",
      "Epoch 143/150\n",
      "768/768 [==============================] - 0s 91us/sample - loss: 0.3974 - acc: 0.8112\n",
      "Epoch 144/150\n",
      "768/768 [==============================] - 0s 113us/sample - loss: 0.3894 - acc: 0.8242\n",
      "Epoch 145/150\n",
      "768/768 [==============================] - 0s 78us/sample - loss: 0.3974 - acc: 0.8073\n",
      "Epoch 146/150\n",
      "768/768 [==============================] - 0s 207us/sample - loss: 0.3922 - acc: 0.8099\n",
      "Epoch 147/150\n",
      "768/768 [==============================] - 0s 155us/sample - loss: 0.3870 - acc: 0.8177\n",
      "Epoch 148/150\n",
      "768/768 [==============================] - 0s 171us/sample - loss: 0.3897 - acc: 0.7995\n",
      "Epoch 149/150\n",
      "768/768 [==============================] - 0s 129us/sample - loss: 0.3840 - acc: 0.8099\n",
      "Epoch 150/150\n",
      "768/768 [==============================] - 0s 177us/sample - loss: 0.3851 - acc: 0.8164\n"
     ]
    },
    {
     "data": {
      "text/plain": [
       "<tensorflow.python.keras.callbacks.History at 0xb2d4d67b8>"
      ]
     },
     "execution_count": 23,
     "metadata": {},
     "output_type": "execute_result"
    }
   ],
   "source": [
    "# Fit model\n",
    "model.fit(X, y, epochs=150)"
   ]
  },
  {
   "cell_type": "code",
   "execution_count": 25,
   "metadata": {
    "colab": {
     "base_uri": "https://localhost:8080/",
     "height": 69
    },
    "colab_type": "code",
    "id": "Z1wfKUxszPKa",
    "outputId": "0cdacd1d-6e5a-4bbe-fabb-568cd94724be"
   },
   "outputs": [
    {
     "name": "stdout",
     "output_type": "stream",
     "text": [
      "768/768 [==============================] - 0s 105us/sample - loss: 0.3775 - acc: 0.8229\n",
      "acc: 82.29166865348816\n"
     ]
    }
   ],
   "source": [
    "# evaluate the model\n",
    "scores = model.evaluate(X, y)\n",
    "print(f\"{model.metrics_names[1]}: {scores[1]*100}\")"
   ]
  },
  {
   "cell_type": "markdown",
   "metadata": {
    "colab_type": "text",
    "id": "zHYB7k9q3O8T"
   },
   "source": [
    "### Why are we getting such different results if we re-run the model?\n",
    "\n",
    "<https://machinelearningmastery.com/randomness-in-machine-learning/>"
   ]
  },
  {
   "cell_type": "markdown",
   "metadata": {
    "colab_type": "text",
    "id": "ueDVpctAzvy8"
   },
   "source": [
    "# What architecture should we try?"
   ]
  },
  {
   "cell_type": "code",
   "execution_count": null,
   "metadata": {
    "colab": {},
    "colab_type": "code",
    "id": "6W2Sc7-LzQo_"
   },
   "outputs": [],
   "source": [
    "# Tell me your ideas\n",
    "\n",
    "model_improved = Sequential()\n",
    "\n",
    "\n",
    "# Let's inspect our new architecture\n",
    "model_improved.summary()"
   ]
  },
  {
   "cell_type": "code",
   "execution_count": null,
   "metadata": {},
   "outputs": [],
   "source": [
    "model_improved.fit() # What parameters can I specify here?"
   ]
  },
  {
   "cell_type": "code",
   "execution_count": null,
   "metadata": {},
   "outputs": [],
   "source": [
    "score = model_improved.evaluate(X,y)\n",
    "print(f\"{model_improved.metrics_names[1]}: {scores[1]*100}\")"
   ]
  },
  {
   "cell_type": "markdown",
   "metadata": {
    "colab_type": "text",
    "id": "tcjMuxtn6wIQ"
   },
   "source": [
    "# Activation Functions\n",
    "\n",
    "What is an activation function and how does it work?\n",
    "\n",
    "- Takes in a weighted sum of inputs + a bias from the previous layer and outputs an \"activation\" value.\n",
    "- Based its inputs the neuron decides how 'activated' it should be. This can be thought of as the neuron deciding how strongly to fire. You can also think of it as if the neuron is deciding how much of the signal that it has received to pass onto the next layer. \n",
    "- Our choice of activation function does not only affect signal that is passed forward but also affects the backpropagation algorithm. It affects how we update weights in reverse order since activated weight/input sums become the inputs of the next layer. \n"
   ]
  },
  {
   "cell_type": "markdown",
   "metadata": {
    "colab_type": "text",
    "id": "n_b0u8Ch60bA"
   },
   "source": [
    "## Step Function\n",
    "\n",
    "![Heaviside Step Function](https://upload.wikimedia.org/wikipedia/commons/thumb/d/d9/Dirac_distribution_CDF.svg/325px-Dirac_distribution_CDF.svg.png)\n",
    "\n",
    "All or nothing, a little extreme, which is fine, but makes updating weights through backpropagation impossible. Why? remember that during backpropagation we use derivatives in order to determine how much to update or not update weights. What is the derivative of the step function?"
   ]
  },
  {
   "cell_type": "markdown",
   "metadata": {
    "colab_type": "text",
    "id": "vKR0YhIVEnXZ"
   },
   "source": [
    "## Linear Function\n",
    "\n",
    "![Linear Function](http://www.roconnell.net/Parent%20function/linear.gif)\n",
    "\n",
    "The linear function takes the opposite tact from the step function and passes the signal onto the next layer by a constant factor. There are problems with this but the biggest problems again lie in backpropagation. The derivative of any linear function is a horizontal line which would indicate that we should update all weights by a constant amount every time -which on balance wouldn't change the behavior of our network. Linear functions are typically only used for very simple tasks where interpretability is important, but if interpretability is your highest priority, you probably shouldn't be using neural networks in the first place."
   ]
  },
  {
   "cell_type": "markdown",
   "metadata": {
    "colab_type": "text",
    "id": "JFurIVL6EkQ8"
   },
   "source": [
    "## Sigmoid Function\n",
    "\n",
    "![Sigmoid Function](https://upload.wikimedia.org/wikipedia/commons/thumb/8/88/Logistic-curve.svg/480px-Logistic-curve.svg.png)\n",
    "\n",
    "The sigmoid function works great as an activation function! it's continuously differentiable, its derivative doesn't have a constant slope, and having the higher slope in the middle pushes y value predictions towards extremes which is particularly useful for binary classification problems. I mean, this is why we use it as the squishifier in logistic regression as well. It constrains output, but over repeated epochs pushes predictions towards a strong binary prediction. \n",
    "\n",
    "What's the biggest problem with the sigmoid function? The fact that its slope gets pretty flat so quickly after its departure from zero. This means that updating weights based on its gradient really diminishes the size of our weight updates as our model gets more confident about its classifications. This is why even after so many iterations with our test score example we couldn't reach the levels of fit that our gradient descent based model could reach in just a few epochs."
   ]
  },
  {
   "cell_type": "markdown",
   "metadata": {
    "colab_type": "text",
    "id": "hm6p1HWbEhYi"
   },
   "source": [
    "## Tanh Function\n",
    "\n",
    "![Tanh Function](http://mathworld.wolfram.com/images/interactive/TanhReal.gif)\n",
    "\n",
    "What if the sigmoid function didn't get so flat quite as soon when moving away from zero and was a little bit steeper in the middle? That's basically the Tanh function. The Tanh function can actually be created by scaling the sigmoid function by 2 in the y dimension and subtracting 1 from all values. It has basically the same properties as the sigmoid, still struggles from diminishingly flat gradients as we move away from 0, but its derivative is higher around 0 causing weights to move to the extremes a little faster. "
   ]
  },
  {
   "cell_type": "markdown",
   "metadata": {
    "colab_type": "text",
    "id": "sFOn_L6gEcz1"
   },
   "source": [
    "## ReLU Function\n",
    "\n",
    "![ReLU Function](https://cdn-images-1.medium.com/max/937/1*oePAhrm74RNnNEolprmTaQ.png)\n",
    "\n",
    "ReLU stands for Rectified Linear Units it is by far the most commonly used activation function in modern neural networks. It doesn't activate neurons that are being passed a negative signal and passes on positive signals. Think about why this might be useful. Remember how a lot of our initial weights got set to negative numbers by chance? This would have dealt with those negative weights a lot faster than the sigmoid function updating. What does the derivative of this function look like? It looks like the step function! This means that not all neurons are activated. With sigmoid basically all of our neurons are passing some amount of signal even if it's small making it hard for the network to differentiate important and less important connections. ReLU turns off a portion of our less important neurons which decreases computational load, but also helps the network learn what the most important connections are faster. \n",
    "\n",
    "What's the problem with relu? Well the left half of its derivative function shows that for neurons that are initialized with weights that cause them to have no activation, our gradient will not update those neuron's weights, this can lead to dead neurons that never fire and whose weights never get updated. We would probably want to update the weights of neurons that didn't fire even if it's just by a little bit in case we got unlucky with our initial weights and want to give those neurons a chance of turning back on in the future."
   ]
  },
  {
   "cell_type": "markdown",
   "metadata": {
    "colab_type": "text",
    "id": "XWdvWOBIETwk"
   },
   "source": [
    "## Leaky ReLU\n",
    "\n",
    "![Leaky ReLU](https://cdn-images-1.medium.com/max/1600/1*ypsvQH7kvtI2BhzR2eT_Sw.png)\n",
    "\n",
    "Leaky ReLU accomplishes exactly that! it avoids having a gradient of 0 on the left side of its derivative function. This means that even \"dead\" neurons have a chance of being revived over enough iterations. In some specifications the slope of the leaky left-hand side can also be experimented with as a hyperparameter of the model!"
   ]
  },
  {
   "cell_type": "markdown",
   "metadata": {
    "colab_type": "text",
    "id": "FcAxkNFREMFb"
   },
   "source": [
    "## Softmax Function\n",
    "\n",
    "![Softmax Function](https://cdn-images-1.medium.com/max/800/1*670CdxchunD-yAuUWdI7Bw.png)\n",
    "\n",
    "Like the sigmoid function but more useful for multi-class classification problems. The softmax function can take any set of inputs and translate them into probabilities that sum up to 1. This means that we can throw any list of outputs at it and it will translate them into probabilities, this is extremely useful for multi-class classification problems. Like MNIST for example..."
   ]
  },
  {
   "cell_type": "markdown",
   "metadata": {
    "colab_type": "text",
    "id": "23-XRRXKHs34"
   },
   "source": [
    "## Major takeaways\n",
    "\n",
    "- ReLU is generally better at obtaining the optimal model fit.\n",
    "- Sigmoid and its derivatives are usually better at classification problems.\n",
    "- Softmax for multi-class classification problems. \n",
    "\n",
    "You'll typically see ReLU used for all initial layers and then the final layer being sigmoid or softmax for classification problems. But you can experiment and tune these selections as hyperparameters as well!"
   ]
  },
  {
   "cell_type": "markdown",
   "metadata": {
    "colab_type": "text",
    "id": "TWuoXZCCKCI7"
   },
   "source": [
    "## MNIST with Keras \n",
    "\n",
    "### This will be a good chance to bring up dropout regularization. :)"
   ]
  },
  {
   "cell_type": "code",
   "execution_count": 27,
   "metadata": {
    "colab": {},
    "colab_type": "code",
    "id": "jmJ_5azs04pU"
   },
   "outputs": [],
   "source": [
    "### Let's do it!\n",
    "\n",
    "from tensorflow import keras\n",
    "from tensorflow.keras.datasets import mnist\n",
    "from tensorflow.keras.utils import to_categorical\n",
    "\n",
    "import numpy as np"
   ]
  },
  {
   "cell_type": "code",
   "execution_count": 28,
   "metadata": {},
   "outputs": [],
   "source": [
    "# Hyper Parameters\n",
    "batch_size = 64\n",
    "num_classes = 10\n",
    "epochs = 20"
   ]
  },
  {
   "cell_type": "code",
   "execution_count": 3,
   "metadata": {},
   "outputs": [],
   "source": [
    "# the data, split between train and test sets\n",
    "(X_train, y_train), (X_test, y_test) = mnist.load_data()"
   ]
  },
  {
   "cell_type": "code",
   "execution_count": 4,
   "metadata": {},
   "outputs": [],
   "source": [
    "# Reshape the data\n",
    "X_train = X_train.reshape(60000, 784)\n",
    "X_test = X_test.reshape(10000, 784)"
   ]
  },
  {
   "cell_type": "code",
   "execution_count": 5,
   "metadata": {},
   "outputs": [],
   "source": [
    "# X Variable Types\n",
    "X_train = X_train.astype('float32')\n",
    "X_test = X_test.astype('float32')"
   ]
  },
  {
   "cell_type": "code",
   "execution_count": 34,
   "metadata": {},
   "outputs": [],
   "source": [
    "# Correct Encoding on Y\n",
    "y_train = tensorflow.keras.utils.to_categorical(y_train, num_classes)\n",
    "y_test = tensorflow.keras.utils.to_categorical(y_test, num_classes)\n",
    "\n",
    "# Softmax expects = [0, 0, 1, 0, 1, 1, 0]"
   ]
  },
  {
   "cell_type": "code",
   "execution_count": 35,
   "metadata": {},
   "outputs": [
    {
     "data": {
      "text/plain": [
       "array([[1., 0., 0., 0., 0., 0., 0., 0., 0., 0.],\n",
       "       [1., 0., 0., 0., 0., 0., 0., 0., 0., 0.],\n",
       "       [1., 0., 0., 0., 0., 0., 0., 0., 0., 0.],\n",
       "       [1., 0., 0., 0., 0., 0., 0., 0., 0., 0.],\n",
       "       [1., 0., 0., 0., 0., 0., 0., 0., 0., 0.],\n",
       "       [0., 1., 0., 0., 0., 0., 0., 0., 0., 0.],\n",
       "       [1., 0., 0., 0., 0., 0., 0., 0., 0., 0.],\n",
       "       [1., 0., 0., 0., 0., 0., 0., 0., 0., 0.],\n",
       "       [1., 0., 0., 0., 0., 0., 0., 0., 0., 0.],\n",
       "       [1., 0., 0., 0., 0., 0., 0., 0., 0., 0.]], dtype=float32)"
      ]
     },
     "execution_count": 35,
     "metadata": {},
     "output_type": "execute_result"
    }
   ],
   "source": [
    "y_train[0]"
   ]
  },
  {
   "cell_type": "code",
   "execution_count": 10,
   "metadata": {},
   "outputs": [
    {
     "name": "stdout",
     "output_type": "stream",
     "text": [
      "Model: \"sequential_2\"\n",
      "_________________________________________________________________\n",
      "Layer (type)                 Output Shape              Param #   \n",
      "=================================================================\n",
      "dense_6 (Dense)              (None, 16)                12560     \n",
      "_________________________________________________________________\n",
      "dense_7 (Dense)              (None, 16)                272       \n",
      "_________________________________________________________________\n",
      "dense_8 (Dense)              (None, 10)                170       \n",
      "=================================================================\n",
      "Total params: 13,002\n",
      "Trainable params: 13,002\n",
      "Non-trainable params: 0\n",
      "_________________________________________________________________\n"
     ]
    }
   ],
   "source": [
    "mnist_model = Sequential()\n",
    "\n",
    "\n",
    "mnist_model.add(Dense(16, input_dim=784, activation='relu'))\n",
    "# Hidden\n",
    "mnist_model.add(Dense(16, activation='relu'))\n",
    "# Output Layer\n",
    "mnist_model.add(Dense(10, activation='softmax'))\n",
    "\n",
    "# Compile\n",
    "mnist_model.compile(loss = 'sparse_categorical_crossentropy',\n",
    "                    optimizer = 'adam',\n",
    "                    metrics = ['accuracy'])\n",
    "\n",
    "mnist_model.summary()"
   ]
  },
  {
   "cell_type": "code",
   "execution_count": 12,
   "metadata": {},
   "outputs": [
    {
     "name": "stdout",
     "output_type": "stream",
     "text": [
      "Epoch 1/100\n",
      "60000/60000 [==============================] - 4s 59us/sample - loss: 2.3456 - acc: 0.2908\n",
      "Epoch 2/100\n",
      "60000/60000 [==============================] - 3s 47us/sample - loss: 1.2263 - acc: 0.5416\n",
      "Epoch 3/100\n",
      "60000/60000 [==============================] - 3s 47us/sample - loss: 1.0153 - acc: 0.6287\n",
      "Epoch 4/100\n",
      "60000/60000 [==============================] - 3s 56us/sample - loss: 0.9028 - acc: 0.6783\n",
      "Epoch 5/100\n",
      "60000/60000 [==============================] - 3s 47us/sample - loss: 0.7671 - acc: 0.7310\n",
      "Epoch 6/100\n",
      "60000/60000 [==============================] - 3s 48us/sample - loss: 0.7085 - acc: 0.7538\n",
      "Epoch 7/100\n",
      "60000/60000 [==============================] - 3s 48us/sample - loss: 0.6734 - acc: 0.7608\n",
      "Epoch 8/100\n",
      "60000/60000 [==============================] - 4s 72us/sample - loss: 0.6504 - acc: 0.7689\n",
      "Epoch 9/100\n",
      "60000/60000 [==============================] - 3s 48us/sample - loss: 0.6172 - acc: 0.7843\n",
      "Epoch 10/100\n",
      "60000/60000 [==============================] - 3s 52us/sample - loss: 0.5883 - acc: 0.7991\n",
      "Epoch 11/100\n",
      "60000/60000 [==============================] - 4s 59us/sample - loss: 0.5657 - acc: 0.8087\n",
      "Epoch 12/100\n",
      "60000/60000 [==============================] - 3s 50us/sample - loss: 0.5323 - acc: 0.8337\n",
      "Epoch 13/100\n",
      "60000/60000 [==============================] - 3s 48us/sample - loss: 0.4838 - acc: 0.8571\n",
      "Epoch 14/100\n",
      "60000/60000 [==============================] - 4s 63us/sample - loss: 0.4456 - acc: 0.8681\n",
      "Epoch 15/100\n",
      "60000/60000 [==============================] - 3s 49us/sample - loss: 0.4285 - acc: 0.8733\n",
      "Epoch 16/100\n",
      "60000/60000 [==============================] - 4s 74us/sample - loss: 0.4067 - acc: 0.8794\n",
      "Epoch 17/100\n",
      "60000/60000 [==============================] - 3s 58us/sample - loss: 0.3929 - acc: 0.8849\n",
      "Epoch 18/100\n",
      "60000/60000 [==============================] - 3s 48us/sample - loss: 0.3779 - acc: 0.8895\n",
      "Epoch 19/100\n",
      "60000/60000 [==============================] - 3s 48us/sample - loss: 0.3691 - acc: 0.8931\n",
      "Epoch 20/100\n",
      "60000/60000 [==============================] - 3s 50us/sample - loss: 0.3609 - acc: 0.8951\n",
      "Epoch 21/100\n",
      "60000/60000 [==============================] - 4s 59us/sample - loss: 0.3498 - acc: 0.8981\n",
      "Epoch 22/100\n",
      "60000/60000 [==============================] - 3s 46us/sample - loss: 0.3396 - acc: 0.9015\n",
      "Epoch 23/100\n",
      "60000/60000 [==============================] - 3s 47us/sample - loss: 0.3318 - acc: 0.9039\n",
      "Epoch 24/100\n",
      "60000/60000 [==============================] - 3s 54us/sample - loss: 0.3254 - acc: 0.9071\n",
      "Epoch 25/100\n",
      "60000/60000 [==============================] - 3s 52us/sample - loss: 0.3169 - acc: 0.9086\n",
      "Epoch 26/100\n",
      "60000/60000 [==============================] - 3s 48us/sample - loss: 0.3111 - acc: 0.9115\n",
      "Epoch 27/100\n",
      "60000/60000 [==============================] - 3s 48us/sample - loss: 0.3052 - acc: 0.9131\n",
      "Epoch 28/100\n",
      "60000/60000 [==============================] - 3s 56us/sample - loss: 0.3008 - acc: 0.9136\n",
      "Epoch 29/100\n",
      "60000/60000 [==============================] - 3s 48us/sample - loss: 0.2994 - acc: 0.9140\n",
      "Epoch 30/100\n",
      "60000/60000 [==============================] - 3s 50us/sample - loss: 0.2922 - acc: 0.9161\n",
      "Epoch 31/100\n",
      "60000/60000 [==============================] - 3s 58us/sample - loss: 0.2921 - acc: 0.9152\n",
      "Epoch 32/100\n",
      "60000/60000 [==============================] - 5s 77us/sample - loss: 0.2895 - acc: 0.9165\n",
      "Epoch 33/100\n",
      "60000/60000 [==============================] - 4s 63us/sample - loss: 0.2853 - acc: 0.9182\n",
      "Epoch 34/100\n",
      "60000/60000 [==============================] - 4s 63us/sample - loss: 0.2819 - acc: 0.9181\n",
      "Epoch 35/100\n",
      "60000/60000 [==============================] - 3s 50us/sample - loss: 0.2833 - acc: 0.9188\n",
      "Epoch 36/100\n",
      "60000/60000 [==============================] - 3s 50us/sample - loss: 0.2810 - acc: 0.9195\n",
      "Epoch 37/100\n",
      "60000/60000 [==============================] - 4s 59us/sample - loss: 0.2846 - acc: 0.9174\n",
      "Epoch 38/100\n",
      "60000/60000 [==============================] - 3s 51us/sample - loss: 0.2786 - acc: 0.9199\n",
      "Epoch 39/100\n",
      "60000/60000 [==============================] - 3s 56us/sample - loss: 0.2781 - acc: 0.9201\n",
      "Epoch 40/100\n",
      "60000/60000 [==============================] - 4s 61us/sample - loss: 0.2785 - acc: 0.9199\n",
      "Epoch 41/100\n",
      "60000/60000 [==============================] - 3s 52us/sample - loss: 0.2762 - acc: 0.9213\n",
      "Epoch 42/100\n",
      "60000/60000 [==============================] - 4s 65us/sample - loss: 0.2774 - acc: 0.9217\n",
      "Epoch 43/100\n",
      "60000/60000 [==============================] - 4s 69us/sample - loss: 0.2763 - acc: 0.9212\n",
      "Epoch 44/100\n",
      "60000/60000 [==============================] - 3s 48us/sample - loss: 0.2768 - acc: 0.9203\n",
      "Epoch 45/100\n",
      "60000/60000 [==============================] - 3s 46us/sample - loss: 0.2756 - acc: 0.9215\n",
      "Epoch 46/100\n",
      "60000/60000 [==============================] - 3s 55us/sample - loss: 0.2755 - acc: 0.9203\n",
      "Epoch 47/100\n",
      "60000/60000 [==============================] - 3s 52us/sample - loss: 0.2755 - acc: 0.9209\n",
      "Epoch 48/100\n",
      "60000/60000 [==============================] - 3s 49us/sample - loss: 0.2713 - acc: 0.9214\n",
      "Epoch 49/100\n",
      "60000/60000 [==============================] - 3s 49us/sample - loss: 0.2726 - acc: 0.9220\n",
      "Epoch 50/100\n",
      "60000/60000 [==============================] - 4s 61us/sample - loss: 0.2721 - acc: 0.9216\n",
      "Epoch 51/100\n",
      "60000/60000 [==============================] - 3s 49us/sample - loss: 0.2712 - acc: 0.9221\n",
      "Epoch 52/100\n",
      "60000/60000 [==============================] - 3s 49us/sample - loss: 0.2732 - acc: 0.9211\n",
      "Epoch 53/100\n",
      "60000/60000 [==============================] - 3s 53us/sample - loss: 0.2715 - acc: 0.9221\n",
      "Epoch 54/100\n",
      "60000/60000 [==============================] - 3s 53us/sample - loss: 0.2696 - acc: 0.9219\n",
      "Epoch 55/100\n",
      "60000/60000 [==============================] - 3s 50us/sample - loss: 0.2726 - acc: 0.9212\n",
      "Epoch 56/100\n",
      "60000/60000 [==============================] - 3s 48us/sample - loss: 0.2715 - acc: 0.9219\n",
      "Epoch 57/100\n",
      "60000/60000 [==============================] - 4s 60us/sample - loss: 0.2697 - acc: 0.9234\n",
      "Epoch 58/100\n",
      "60000/60000 [==============================] - 3s 48us/sample - loss: 0.2669 - acc: 0.9231\n",
      "Epoch 59/100\n",
      "60000/60000 [==============================] - 3s 49us/sample - loss: 0.2677 - acc: 0.9234\n",
      "Epoch 60/100\n",
      "60000/60000 [==============================] - 3s 56us/sample - loss: 0.2701 - acc: 0.9227\n",
      "Epoch 61/100\n",
      "60000/60000 [==============================] - 3s 53us/sample - loss: 0.2719 - acc: 0.9232\n",
      "Epoch 62/100\n",
      "60000/60000 [==============================] - 3s 51us/sample - loss: 0.2662 - acc: 0.9244\n",
      "Epoch 63/100\n",
      "60000/60000 [==============================] - 3s 50us/sample - loss: 0.2694 - acc: 0.9236\n",
      "Epoch 64/100\n",
      "60000/60000 [==============================] - 4s 61us/sample - loss: 0.2672 - acc: 0.9234\n",
      "Epoch 65/100\n",
      "60000/60000 [==============================] - 3s 51us/sample - loss: 0.2658 - acc: 0.9240\n",
      "Epoch 66/100\n",
      "60000/60000 [==============================] - 3s 52us/sample - loss: 0.2665 - acc: 0.9241\n",
      "Epoch 67/100\n",
      "60000/60000 [==============================] - 4s 60us/sample - loss: 0.2683 - acc: 0.9241\n",
      "Epoch 68/100\n",
      "60000/60000 [==============================] - 3s 50us/sample - loss: 0.2684 - acc: 0.9222\n",
      "Epoch 69/100\n",
      "60000/60000 [==============================] - 3s 50us/sample - loss: 0.2671 - acc: 0.9238\n",
      "Epoch 70/100\n",
      "60000/60000 [==============================] - 3s 51us/sample - loss: 0.2674 - acc: 0.9227\n",
      "Epoch 71/100\n",
      "60000/60000 [==============================] - 4s 61us/sample - loss: 0.2673 - acc: 0.9230\n",
      "Epoch 72/100\n",
      "60000/60000 [==============================] - 3s 51us/sample - loss: 0.2660 - acc: 0.9233\n",
      "Epoch 73/100\n",
      "60000/60000 [==============================] - 3s 49us/sample - loss: 0.2648 - acc: 0.9238\n",
      "Epoch 74/100\n",
      "60000/60000 [==============================] - 4s 62us/sample - loss: 0.2660 - acc: 0.9243\n",
      "Epoch 75/100\n",
      "60000/60000 [==============================] - 3s 50us/sample - loss: 0.2650 - acc: 0.9247\n",
      "Epoch 76/100\n",
      "60000/60000 [==============================] - 3s 51us/sample - loss: 0.2666 - acc: 0.9241\n",
      "Epoch 77/100\n",
      "60000/60000 [==============================] - 3s 52us/sample - loss: 0.2686 - acc: 0.9231\n",
      "Epoch 78/100\n",
      "60000/60000 [==============================] - 4s 59us/sample - loss: 0.2670 - acc: 0.9236\n",
      "Epoch 79/100\n",
      "60000/60000 [==============================] - 3s 54us/sample - loss: 0.2669 - acc: 0.9231\n",
      "Epoch 80/100\n",
      "60000/60000 [==============================] - 3s 51us/sample - loss: 0.2650 - acc: 0.9241\n",
      "Epoch 81/100\n",
      "60000/60000 [==============================] - 4s 59us/sample - loss: 0.2630 - acc: 0.9243\n",
      "Epoch 82/100\n",
      "60000/60000 [==============================] - 3s 52us/sample - loss: 0.2633 - acc: 0.9258\n",
      "Epoch 83/100\n",
      "60000/60000 [==============================] - 3s 51us/sample - loss: 0.2636 - acc: 0.9240\n",
      "Epoch 84/100\n",
      "60000/60000 [==============================] - 4s 62us/sample - loss: 0.2687 - acc: 0.9223\n",
      "Epoch 85/100\n",
      "60000/60000 [==============================] - 3s 54us/sample - loss: 0.2634 - acc: 0.9242\n",
      "Epoch 86/100\n",
      "60000/60000 [==============================] - 2s 40us/sample - loss: 0.2625 - acc: 0.9245\n",
      "Epoch 87/100\n",
      "60000/60000 [==============================] - 5s 90us/sample - loss: 0.2674 - acc: 0.9229\n",
      "Epoch 88/100\n",
      "60000/60000 [==============================] - 5s 76us/sample - loss: 0.2624 - acc: 0.9252\n",
      "Epoch 89/100\n",
      "60000/60000 [==============================] - 5s 88us/sample - loss: 0.2642 - acc: 0.9239\n",
      "Epoch 90/100\n",
      "60000/60000 [==============================] - 5s 88us/sample - loss: 0.2607 - acc: 0.9250\n",
      "Epoch 91/100\n",
      "60000/60000 [==============================] - 3s 57us/sample - loss: 0.2614 - acc: 0.9246\n",
      "Epoch 92/100\n",
      "60000/60000 [==============================] - 3s 48us/sample - loss: 0.2633 - acc: 0.9239\n",
      "Epoch 93/100\n",
      "60000/60000 [==============================] - 3s 51us/sample - loss: 0.2630 - acc: 0.9237\n",
      "Epoch 94/100\n",
      "60000/60000 [==============================] - 4s 61us/sample - loss: 0.2619 - acc: 0.9247\n",
      "Epoch 95/100\n",
      "60000/60000 [==============================] - 4s 66us/sample - loss: 0.2615 - acc: 0.9239\n",
      "Epoch 96/100\n",
      "60000/60000 [==============================] - 4s 62us/sample - loss: 0.2627 - acc: 0.9246\n",
      "Epoch 97/100\n",
      "60000/60000 [==============================] - 3s 58us/sample - loss: 0.2617 - acc: 0.9255\n",
      "Epoch 98/100\n",
      "60000/60000 [==============================] - 2s 40us/sample - loss: 0.2636 - acc: 0.9242\n",
      "Epoch 99/100\n",
      "60000/60000 [==============================] - 2s 38us/sample - loss: 0.2613 - acc: 0.9241\n",
      "Epoch 100/100\n",
      "60000/60000 [==============================] - 2s 38us/sample - loss: 0.2642 - acc: 0.9246\n"
     ]
    },
    {
     "data": {
      "text/plain": [
       "<tensorflow.python.keras.callbacks.History at 0x11372c4e0>"
      ]
     },
     "execution_count": 12,
     "metadata": {},
     "output_type": "execute_result"
    }
   ],
   "source": [
    "mnist_model.fit(X_train, y_train, epochs=100)\n",
    "# scores = mnist_model.evaluate(X_test, y_test)\n",
    "# print(f'{mnist_model.metrics_names[1]}: {scores[1]*100}')"
   ]
  },
  {
   "cell_type": "markdown",
   "metadata": {
    "colab_type": "text",
    "id": "CKmx8153w9Ci"
   },
   "source": [
    "## What if we use dropout techniques to prevent overfitting? How does that affect our model?\n",
    "\n",
    "![Regularization](https://upload.wikimedia.org/wikipedia/commons/thumb/0/02/Regularization.svg/354px-Regularization.svg.png)"
   ]
  },
  {
   "cell_type": "code",
   "execution_count": 8,
   "metadata": {},
   "outputs": [
    {
     "name": "stdout",
     "output_type": "stream",
     "text": [
      "Model: \"sequential_1\"\n",
      "_________________________________________________________________\n",
      "Layer (type)                 Output Shape              Param #   \n",
      "=================================================================\n",
      "dense_3 (Dense)              (None, 32)                25120     \n",
      "_________________________________________________________________\n",
      "dropout_2 (Dropout)          (None, 32)                0         \n",
      "_________________________________________________________________\n",
      "dense_4 (Dense)              (None, 16)                528       \n",
      "_________________________________________________________________\n",
      "dropout_3 (Dropout)          (None, 16)                0         \n",
      "_________________________________________________________________\n",
      "dense_5 (Dense)              (None, 10)                170       \n",
      "=================================================================\n",
      "Total params: 25,818\n",
      "Trainable params: 25,818\n",
      "Non-trainable params: 0\n",
      "_________________________________________________________________\n"
     ]
    }
   ],
   "source": [
    "### Let's do it!\n",
    "from tensorflow import keras \n",
    "from tensorflow.keras.datasets import mnist\n",
    "from tensorflow.keras.models import Sequential\n",
    "from tensorflow.keras.layers import Dense, Dropout\n",
    "\n",
    "import numpy as np\n",
    "\n",
    "mnist_model = Sequential()\n",
    "\n",
    "# Hidden\n",
    "mnist_model.add(Dense(32, input_dim=784, activation='relu'))\n",
    "mnist_model.add(Dropout(0.2))\n",
    "mnist_model.add(Dense(16, activation='relu'))\n",
    "mnist_model.add(Dropout(0.2))\n",
    "# Output Layer\n",
    "mnist_model.add(Dense(10, activation='softmax'))\n",
    "\n",
    "mnist_model.compile(loss='sparse_categorical_crossentropy',\n",
    "                    optimizer='adam', \n",
    "                    metrics=['accuracy'])\n",
    "mnist_model.summary()"
   ]
  },
  {
   "cell_type": "code",
   "execution_count": 9,
   "metadata": {},
   "outputs": [
    {
     "name": "stdout",
     "output_type": "stream",
     "text": [
      "10000/10000 [==============================] - 0s 27us/sample - loss: 0.7155 - acc: 0.7606\n",
      "acc: 76.05999708175659\n"
     ]
    }
   ],
   "source": [
    "history = mnist_model.fit(X_train, y_train, batch_size=32, epochs=20, validation_split=.1, verbose=0)\n",
    "scores = mnist_model.evaluate(X_test, y_test)\n",
    "print(f'{mnist_model.metrics_names[1]}: {scores[1]*100}')"
   ]
  },
  {
   "cell_type": "code",
   "execution_count": null,
   "metadata": {},
   "outputs": [],
   "source": []
  }
 ],
 "metadata": {
  "colab": {
   "collapsed_sections": [],
   "name": "LS_DS_433_Keras_Lecture.ipynb",
   "provenance": [],
   "version": "0.3.2"
  },
  "kernelspec": {
   "display_name": "Python 3",
   "language": "python",
   "name": "python3"
  },
  "language_info": {
   "codemirror_mode": {
    "name": "ipython",
    "version": 3
   },
   "file_extension": ".py",
   "mimetype": "text/x-python",
   "name": "python",
   "nbconvert_exporter": "python",
   "pygments_lexer": "ipython3",
   "version": "3.7.3"
  }
 },
 "nbformat": 4,
 "nbformat_minor": 2
}
