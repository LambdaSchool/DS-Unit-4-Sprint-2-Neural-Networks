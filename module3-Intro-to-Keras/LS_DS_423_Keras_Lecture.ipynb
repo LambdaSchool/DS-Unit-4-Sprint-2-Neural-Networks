{
 "cells": [
  {
   "cell_type": "markdown",
   "metadata": {
    "colab_type": "text",
    "id": "HJzTIkYAsLxw"
   },
   "source": [
    "<img align=\"left\" src=\"https://lever-client-logos.s3.amazonaws.com/864372b1-534c-480e-acd5-9711f850815c-1524247202159.png\" width=200>\n",
    "<br></br>\n",
    "\n",
    "# Neural Network Frameworks (Keras)\n",
    "\n",
    "## *Data Science Unit 4 Sprint 2 Lesson 3*\n",
    "\n",
    "# Lets Use Libraries!\n",
    "\n",
    "The objective of the last two days has been to familiarize you with the fundamentals of neural networks: terminology, structure of networks, forward propagation, error/cost functions, backpropagation, epochs, and gradient descent. We have tried to reinforce these topics by requiring to you code some of the simplest neural networks by hand including Perceptrons (single node neural networks) and Multi-Layer Perceptrons also known as Feed-Forward Neural Networks. Continuing to do things by hand would not be the best use of our limited time. You're ready to graduate from doing things by hand and start using some powerful libraries to build cutting-edge predictive models. "
   ]
  },
  {
   "cell_type": "markdown",
   "metadata": {
    "colab_type": "text",
    "id": "MFYCXc5KdkPE"
   },
   "source": [
    "# Keras\n",
    "\n",
    "> \"Keras is a high-level neural networks API, written in Python and capable of running on top of TensorFlow, CNTK, or Theano. It was developed with a focus on enabling fast experimentation. Being able to go from idea to result with the least possible delay is key to doing good research. Use Keras if you need a deep learning library that:\n",
    "\n",
    "> Allows for easy and fast prototyping (through user friendliness, modularity, and extensibility).\n",
    "Supports both convolutional networks and recurrent networks, as well as combinations of the two.\n",
    "Runs seamlessly on CPU and GPU.\" "
   ]
  },
  {
   "cell_type": "code",
   "execution_count": 1,
   "metadata": {
    "colab": {},
    "colab_type": "code",
    "id": "QEncs0SOsFMT"
   },
   "outputs": [
    {
     "data": {
      "text/plain": [
       "'1.14.0'"
      ]
     },
     "execution_count": 1,
     "metadata": {},
     "output_type": "execute_result"
    }
   ],
   "source": [
    "# Use pip freeze to see what packages/libraries your notebook has access to\n",
    "# !pip freeze\n",
    "\n",
    "import tensorflow\n",
    "tensorflow.__version__"
   ]
  },
  {
   "cell_type": "markdown",
   "metadata": {
    "colab_type": "text",
    "id": "VxgUUpIKn54a"
   },
   "source": [
    "## Our First Keras Model - Perceptron, Batch epochs\n",
    "\n",
    "1) Load Data\n",
    "\n",
    "2) Define Model\n",
    "\n",
    "3) Compile Model\n",
    "\n",
    "4) Fit Model\n",
    "\n",
    "5) Evaluate Model"
   ]
  },
  {
   "cell_type": "markdown",
   "metadata": {
    "colab_type": "text",
    "id": "Md5D67XwqVAf"
   },
   "source": [
    "### Load Data\n",
    "\n",
    "Our life is going to be easier if our data is already cleaned up and numeric, so lets use this dataset from Jason Brownlee that is already numeric and has no column headers so we'll need to slice off the last column of data to act as our y values."
   ]
  },
  {
   "cell_type": "code",
   "execution_count": 2,
   "metadata": {
    "colab": {
     "base_uri": "https://localhost:8080/",
     "height": 109,
     "resources": {
      "http://localhost:8080/nbextensions/google.colab/files.js": {
       "data": "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",
       "headers": [
        [
         "content-type",
         "application/javascript"
        ]
       ],
       "ok": true,
       "status": 200,
       "status_text": ""
      }
     }
    },
    "colab_type": "code",
    "id": "bn09phMBpY1J",
    "outputId": "1c45fb6a-e3cb-4ec1-fb85-de52b3c60bae"
   },
   "outputs": [],
   "source": [
    "import pandas as pd\n",
    "\n",
    "url =\"https://raw.githubusercontent.com/jbrownlee/Datasets/master/pima-indians-diabetes.data.csv\"\n",
    "\n",
    "dataset = pd.read_csv(url, header=None)"
   ]
  },
  {
   "cell_type": "code",
   "execution_count": 3,
   "metadata": {},
   "outputs": [
    {
     "data": {
      "text/html": [
       "<div>\n",
       "<style scoped>\n",
       "    .dataframe tbody tr th:only-of-type {\n",
       "        vertical-align: middle;\n",
       "    }\n",
       "\n",
       "    .dataframe tbody tr th {\n",
       "        vertical-align: top;\n",
       "    }\n",
       "\n",
       "    .dataframe thead th {\n",
       "        text-align: right;\n",
       "    }\n",
       "</style>\n",
       "<table border=\"1\" class=\"dataframe\">\n",
       "  <thead>\n",
       "    <tr style=\"text-align: right;\">\n",
       "      <th></th>\n",
       "      <th>0</th>\n",
       "      <th>1</th>\n",
       "      <th>2</th>\n",
       "      <th>3</th>\n",
       "      <th>4</th>\n",
       "      <th>5</th>\n",
       "      <th>6</th>\n",
       "      <th>7</th>\n",
       "      <th>8</th>\n",
       "    </tr>\n",
       "  </thead>\n",
       "  <tbody>\n",
       "    <tr>\n",
       "      <th>0</th>\n",
       "      <td>6</td>\n",
       "      <td>148</td>\n",
       "      <td>72</td>\n",
       "      <td>35</td>\n",
       "      <td>0</td>\n",
       "      <td>33.6</td>\n",
       "      <td>0.627</td>\n",
       "      <td>50</td>\n",
       "      <td>1</td>\n",
       "    </tr>\n",
       "    <tr>\n",
       "      <th>1</th>\n",
       "      <td>1</td>\n",
       "      <td>85</td>\n",
       "      <td>66</td>\n",
       "      <td>29</td>\n",
       "      <td>0</td>\n",
       "      <td>26.6</td>\n",
       "      <td>0.351</td>\n",
       "      <td>31</td>\n",
       "      <td>0</td>\n",
       "    </tr>\n",
       "    <tr>\n",
       "      <th>2</th>\n",
       "      <td>8</td>\n",
       "      <td>183</td>\n",
       "      <td>64</td>\n",
       "      <td>0</td>\n",
       "      <td>0</td>\n",
       "      <td>23.3</td>\n",
       "      <td>0.672</td>\n",
       "      <td>32</td>\n",
       "      <td>1</td>\n",
       "    </tr>\n",
       "    <tr>\n",
       "      <th>3</th>\n",
       "      <td>1</td>\n",
       "      <td>89</td>\n",
       "      <td>66</td>\n",
       "      <td>23</td>\n",
       "      <td>94</td>\n",
       "      <td>28.1</td>\n",
       "      <td>0.167</td>\n",
       "      <td>21</td>\n",
       "      <td>0</td>\n",
       "    </tr>\n",
       "    <tr>\n",
       "      <th>4</th>\n",
       "      <td>0</td>\n",
       "      <td>137</td>\n",
       "      <td>40</td>\n",
       "      <td>35</td>\n",
       "      <td>168</td>\n",
       "      <td>43.1</td>\n",
       "      <td>2.288</td>\n",
       "      <td>33</td>\n",
       "      <td>1</td>\n",
       "    </tr>\n",
       "  </tbody>\n",
       "</table>\n",
       "</div>"
      ],
      "text/plain": [
       "   0    1   2   3    4     5      6   7  8\n",
       "0  6  148  72  35    0  33.6  0.627  50  1\n",
       "1  1   85  66  29    0  26.6  0.351  31  0\n",
       "2  8  183  64   0    0  23.3  0.672  32  1\n",
       "3  1   89  66  23   94  28.1  0.167  21  0\n",
       "4  0  137  40  35  168  43.1  2.288  33  1"
      ]
     },
     "execution_count": 3,
     "metadata": {},
     "output_type": "execute_result"
    }
   ],
   "source": [
    "dataset.head()"
   ]
  },
  {
   "cell_type": "code",
   "execution_count": 4,
   "metadata": {
    "colab": {
     "base_uri": "https://localhost:8080/",
     "height": 725
    },
    "colab_type": "code",
    "id": "FKuofD3Pogil",
    "outputId": "16c2f4fa-93c8-491d-b339-9f35f7918621"
   },
   "outputs": [
    {
     "name": "stdout",
     "output_type": "stream",
     "text": [
      "(768, 8)\n",
      "[[  6.    148.     72.    ...  33.6     0.627  50.   ]\n",
      " [  1.     85.     66.    ...  26.6     0.351  31.   ]\n",
      " [  8.    183.     64.    ...  23.3     0.672  32.   ]\n",
      " ...\n",
      " [  5.    121.     72.    ...  26.2     0.245  30.   ]\n",
      " [  1.    126.     60.    ...  30.1     0.349  47.   ]\n",
      " [  1.     93.     70.    ...  30.4     0.315  23.   ]]\n"
     ]
    }
   ],
   "source": [
    "X = dataset.values[:,0:8]\n",
    "print(X.shape)\n",
    "print(X)"
   ]
  },
  {
   "cell_type": "code",
   "execution_count": 5,
   "metadata": {},
   "outputs": [
    {
     "name": "stdout",
     "output_type": "stream",
     "text": [
      "(768,)\n",
      "[1. 0. 1. 0. 1. 0. 1. 0. 1. 1. 0. 1. 0. 1. 1. 1. 1. 1. 0. 1. 0. 0. 1. 1.\n",
      " 1. 1. 1. 0. 0. 0. 0. 1. 0. 0. 0. 0. 0. 1. 1. 1. 0. 0. 0. 1. 0. 1. 0. 0.\n",
      " 1. 0. 0. 0. 0. 1. 0. 0. 1. 0. 0. 0. 0. 1. 0. 0. 1. 0. 1. 0. 0. 0. 1. 0.\n",
      " 1. 0. 0. 0. 0. 0. 1. 0. 0. 0. 0. 0. 1. 0. 0. 0. 1. 0. 0. 0. 0. 1. 0. 0.\n",
      " 0. 0. 0. 1. 1. 0. 0. 0. 0. 0. 0. 0. 0. 1. 1. 1. 0. 0. 1. 1. 1. 0. 0. 0.\n",
      " 1. 0. 0. 0. 1. 1. 0. 0. 1. 1. 1. 1. 1. 0. 0. 0. 0. 0. 0. 0. 0. 0. 0. 1.\n",
      " 0. 0. 0. 0. 0. 0. 0. 0. 1. 0. 1. 1. 0. 0. 0. 1. 0. 0. 0. 0. 1. 1. 0. 0.\n",
      " 0. 0. 1. 1. 0. 0. 0. 1. 0. 1. 0. 1. 0. 0. 0. 0. 0. 1. 1. 1. 1. 1. 0. 0.\n",
      " 1. 1. 0. 1. 0. 1. 1. 1. 0. 0. 0. 0. 0. 0. 1. 1. 0. 1. 0. 0. 0. 1. 1. 1.\n",
      " 1. 0. 1. 1. 1. 1. 0. 0. 0. 0. 0. 1. 0. 0. 1. 1. 0. 0. 0. 1. 1. 1. 1. 0.\n",
      " 0. 0. 1. 1. 0. 1. 0. 0. 0. 0. 0. 0. 0. 0. 1. 1. 0. 0. 0. 1. 0. 1. 0. 0.\n",
      " 1. 0. 1. 0. 0. 1. 1. 0. 0. 0. 0. 0. 1. 0. 0. 0. 1. 0. 0. 1. 1. 0. 0. 1.\n",
      " 0. 0. 0. 1. 1. 1. 0. 0. 1. 0. 1. 0. 1. 1. 0. 1. 0. 0. 1. 0. 1. 1. 0. 0.\n",
      " 1. 0. 1. 0. 0. 1. 0. 1. 0. 1. 1. 1. 0. 0. 1. 0. 1. 0. 0. 0. 1. 0. 0. 0.\n",
      " 0. 1. 1. 1. 0. 0. 0. 0. 0. 0. 0. 0. 0. 1. 0. 0. 0. 0. 0. 1. 1. 1. 0. 1.\n",
      " 1. 0. 0. 1. 0. 0. 1. 0. 0. 1. 1. 0. 0. 0. 0. 1. 0. 0. 1. 0. 0. 0. 0. 0.\n",
      " 0. 0. 1. 1. 1. 0. 0. 1. 0. 0. 1. 0. 0. 1. 0. 1. 1. 0. 1. 0. 1. 0. 1. 0.\n",
      " 1. 1. 0. 0. 0. 0. 1. 1. 0. 1. 0. 1. 0. 0. 0. 0. 1. 1. 0. 1. 0. 1. 0. 0.\n",
      " 0. 0. 0. 1. 0. 0. 0. 0. 1. 0. 0. 1. 1. 1. 0. 0. 1. 0. 0. 1. 0. 0. 0. 1.\n",
      " 0. 0. 1. 0. 0. 0. 0. 0. 0. 0. 0. 0. 1. 0. 0. 0. 0. 0. 0. 0. 1. 0. 0. 0.\n",
      " 1. 0. 0. 0. 1. 1. 0. 0. 0. 0. 0. 0. 0. 1. 0. 0. 0. 0. 1. 0. 0. 0. 1. 0.\n",
      " 0. 0. 1. 0. 0. 0. 1. 0. 0. 0. 0. 1. 1. 0. 0. 0. 0. 0. 0. 1. 0. 0. 0. 0.\n",
      " 0. 0. 0. 0. 0. 0. 0. 1. 0. 0. 0. 1. 1. 1. 1. 0. 0. 1. 1. 0. 0. 0. 0. 0.\n",
      " 0. 0. 0. 0. 0. 0. 0. 0. 1. 1. 0. 0. 0. 0. 0. 0. 0. 1. 0. 0. 0. 0. 0. 0.\n",
      " 0. 1. 0. 1. 1. 0. 0. 0. 1. 0. 1. 0. 1. 0. 1. 0. 1. 0. 0. 1. 0. 0. 1. 0.\n",
      " 0. 0. 0. 1. 1. 0. 1. 0. 0. 0. 0. 1. 1. 0. 1. 0. 0. 0. 1. 1. 0. 0. 0. 0.\n",
      " 0. 0. 0. 0. 0. 0. 1. 0. 0. 0. 0. 1. 0. 0. 1. 0. 0. 0. 1. 0. 0. 0. 1. 1.\n",
      " 1. 0. 0. 0. 0. 0. 0. 1. 0. 0. 0. 1. 0. 1. 1. 1. 1. 0. 1. 1. 0. 0. 0. 0.\n",
      " 0. 0. 0. 1. 1. 0. 1. 0. 0. 1. 0. 1. 0. 0. 0. 0. 0. 1. 0. 1. 0. 1. 0. 1.\n",
      " 1. 0. 0. 0. 0. 1. 1. 0. 0. 0. 1. 0. 1. 1. 0. 0. 1. 0. 0. 1. 1. 0. 0. 1.\n",
      " 0. 0. 1. 0. 0. 0. 0. 0. 0. 0. 1. 1. 1. 0. 0. 0. 0. 0. 0. 1. 1. 0. 0. 1.\n",
      " 0. 0. 1. 0. 1. 1. 1. 0. 0. 1. 1. 1. 0. 1. 0. 1. 0. 1. 0. 0. 0. 0. 1. 0.]\n"
     ]
    }
   ],
   "source": [
    "y = dataset.values[:,-1]\n",
    "print(y.shape)\n",
    "print(y)"
   ]
  },
  {
   "cell_type": "markdown",
   "metadata": {
    "colab_type": "text",
    "id": "o0xMqOyTs5xt"
   },
   "source": [
    "### Define Model"
   ]
  },
  {
   "cell_type": "code",
   "execution_count": 6,
   "metadata": {
    "colab": {},
    "colab_type": "code",
    "id": "Bp9USczrfu6M"
   },
   "outputs": [],
   "source": []
  },
  {
   "cell_type": "markdown",
   "metadata": {
    "colab_type": "text",
    "id": "wAzHLg27thoN"
   },
   "source": [
    "I'll instantiate my model as a \"sequential\" model. This just means that I'm going to tell Keras what my model's architecture should be one layer at a time."
   ]
  },
  {
   "cell_type": "code",
   "execution_count": 7,
   "metadata": {
    "colab": {},
    "colab_type": "code",
    "id": "DSNsL49Xp6KI"
   },
   "outputs": [],
   "source": [
    "# https://keras.io/getting-started/sequential-model-guide/\n",
    "model = ..."
   ]
  },
  {
   "cell_type": "markdown",
   "metadata": {
    "colab_type": "text",
    "id": "ZCYX6QzJtvpG"
   },
   "source": [
    "Adding a \"Dense\" layer to our model is how we add \"vanilla\" perceptron-based layers to our neural network. These are also called \"fully-connected\" or \"densely-connected\" layers. They're used as a layer type in lots of other Neural Net Architectures but they're not referred to as perceptrons or multi-layer perceptrons very often in those situations even though that's what they are.\n",
    "\n",
    " > [\"Just your regular densely-connected NN layer.\"](https://keras.io/layers/core/)\n",
    " \n",
    " The first argument is how many neurons we want to have in that layer. To create a perceptron model we will just set it to 1. We will tell it that there will be 8 inputs coming into this layer from our dataset and set it to use the sigmoid activation function."
   ]
  },
  {
   "cell_type": "code",
   "execution_count": 8,
   "metadata": {
    "colab": {
     "base_uri": "https://localhost:8080/",
     "height": 89
    },
    "colab_type": "code",
    "id": "GNzOLidxtvFa",
    "outputId": "35b1457d-0189-49f1-aa6d-3ef15b29bd6e"
   },
   "outputs": [
    {
     "name": "stderr",
     "output_type": "stream",
     "text": [
      "WARNING: Logging before flag parsing goes to stderr.\n",
      "W0814 11:45:36.617264 4469319104 deprecation.py:506] From /Users/jonathansokoll/anaconda3/envs/U4-S2-NNF/lib/python3.7/site-packages/tensorflow/python/ops/init_ops.py:1251: calling VarianceScaling.__init__ (from tensorflow.python.ops.init_ops) with dtype is deprecated and will be removed in a future version.\n",
      "Instructions for updating:\n",
      "Call initializer instance with the dtype argument instead of passing it to the constructor\n"
     ]
    }
   ],
   "source": []
  },
  {
   "cell_type": "markdown",
   "metadata": {
    "colab_type": "text",
    "id": "EnI3jwKMtBL2"
   },
   "source": [
    "### Compile Model\n",
    "Using binary_crossentropy as the loss function here is just telling keras that I'm doing binary classification so that it can use the appropriate loss function accordingly. If we were predicting non-binary categories we might assign something like `categorical_crossentropy`. We're also telling keras that we want it to report model accuracy as our main error metric for each epoch. We will also be able to see the overall accuracy once the model has finished training."
   ]
  },
  {
   "cell_type": "code",
   "execution_count": 9,
   "metadata": {
    "colab": {},
    "colab_type": "code",
    "id": "qp6xwYaqurRO"
   },
   "outputs": [
    {
     "name": "stderr",
     "output_type": "stream",
     "text": [
      "W0814 11:46:20.041589 4469319104 deprecation.py:323] From /Users/jonathansokoll/anaconda3/envs/U4-S2-NNF/lib/python3.7/site-packages/tensorflow/python/ops/nn_impl.py:180: add_dispatch_support.<locals>.wrapper (from tensorflow.python.ops.array_ops) is deprecated and will be removed in a future version.\n",
      "Instructions for updating:\n",
      "Use tf.where in 2.0, which has the same broadcast rule as np.where\n"
     ]
    }
   ],
   "source": []
  },
  {
   "cell_type": "markdown",
   "metadata": {},
   "source": [
    "#### Adam Optimizer\n",
    "Check out this links for more background on the Adam optimizer and Stohastic Gradient Descent\n",
    "* [Adam Optimization Algorithm](https://machinelearningmastery.com/adam-optimization-algorithm-for-deep-learning/)\n",
    "* [Adam Optimizer - original paper](https://arxiv.org/abs/1412.6980)"
   ]
  },
  {
   "cell_type": "markdown",
   "metadata": {
    "colab_type": "text",
    "id": "5dW8SZ2Ls9SX"
   },
   "source": [
    "### Fit Model\n",
    "\n",
    "Lets train it up! `model.fit()` has a `batch_size` parameter that we can use if we want to do mini-batch epochs, but since this tabular dataset is pretty small we're just going to delete that parameter. Keras' default `batch_size` is `None` so omiting it will tell Keras to do batch epochs."
   ]
  },
  {
   "cell_type": "code",
   "execution_count": 10,
   "metadata": {},
   "outputs": [
    {
     "name": "stdout",
     "output_type": "stream",
     "text": [
      "Epoch 1/150\n",
      "768/768 [==============================] - 0s 114us/sample - loss: 23.0172 - acc: 0.4036\n",
      "Epoch 2/150\n",
      "768/768 [==============================] - 0s 24us/sample - loss: 21.2741 - acc: 0.4102\n",
      "Epoch 3/150\n",
      "768/768 [==============================] - 0s 26us/sample - loss: 19.7530 - acc: 0.4154\n",
      "Epoch 4/150\n",
      "768/768 [==============================] - 0s 28us/sample - loss: 18.3387 - acc: 0.4284\n",
      "Epoch 5/150\n",
      "768/768 [==============================] - 0s 26us/sample - loss: 17.0709 - acc: 0.4401\n",
      "Epoch 6/150\n",
      "768/768 [==============================] - 0s 25us/sample - loss: 15.8875 - acc: 0.4518\n",
      "Epoch 7/150\n",
      "768/768 [==============================] - 0s 28us/sample - loss: 14.7784 - acc: 0.4544\n",
      "Epoch 8/150\n",
      "768/768 [==============================] - 0s 30us/sample - loss: 13.7252 - acc: 0.4661\n",
      "Epoch 9/150\n",
      "768/768 [==============================] - 0s 26us/sample - loss: 12.7436 - acc: 0.4635\n",
      "Epoch 10/150\n",
      "768/768 [==============================] - 0s 26us/sample - loss: 11.7647 - acc: 0.4714\n",
      "Epoch 11/150\n",
      "768/768 [==============================] - 0s 28us/sample - loss: 10.8670 - acc: 0.4661\n",
      "Epoch 12/150\n",
      "768/768 [==============================] - 0s 25us/sample - loss: 9.9726 - acc: 0.4688\n",
      "Epoch 13/150\n",
      "768/768 [==============================] - 0s 27us/sample - loss: 9.1263 - acc: 0.4635\n",
      "Epoch 14/150\n",
      "768/768 [==============================] - 0s 29us/sample - loss: 8.2917 - acc: 0.4570\n",
      "Epoch 15/150\n",
      "768/768 [==============================] - 0s 26us/sample - loss: 7.4914 - acc: 0.4583\n",
      "Epoch 16/150\n",
      "768/768 [==============================] - 0s 26us/sample - loss: 6.7627 - acc: 0.4453\n",
      "Epoch 17/150\n",
      "768/768 [==============================] - 0s 27us/sample - loss: 6.0885 - acc: 0.4401\n",
      "Epoch 18/150\n",
      "768/768 [==============================] - 0s 25us/sample - loss: 5.4889 - acc: 0.4557\n",
      "Epoch 19/150\n",
      "768/768 [==============================] - 0s 24us/sample - loss: 4.9678 - acc: 0.4635\n",
      "Epoch 20/150\n",
      "768/768 [==============================] - 0s 28us/sample - loss: 4.5782 - acc: 0.4674\n",
      "Epoch 21/150\n",
      "768/768 [==============================] - 0s 25us/sample - loss: 4.2987 - acc: 0.4661\n",
      "Epoch 22/150\n",
      "768/768 [==============================] - 0s 29us/sample - loss: 4.0861 - acc: 0.4648\n",
      "Epoch 23/150\n",
      "768/768 [==============================] - 0s 30us/sample - loss: 3.9175 - acc: 0.4805\n",
      "Epoch 24/150\n",
      "768/768 [==============================] - 0s 25us/sample - loss: 3.7781 - acc: 0.4844\n",
      "Epoch 25/150\n",
      "768/768 [==============================] - 0s 27us/sample - loss: 3.6595 - acc: 0.4779\n",
      "Epoch 26/150\n",
      "768/768 [==============================] - 0s 28us/sample - loss: 3.5285 - acc: 0.4792\n",
      "Epoch 27/150\n",
      "768/768 [==============================] - 0s 28us/sample - loss: 3.3893 - acc: 0.4818\n",
      "Epoch 28/150\n",
      "768/768 [==============================] - 0s 24us/sample - loss: 3.2576 - acc: 0.4922\n",
      "Epoch 29/150\n",
      "768/768 [==============================] - 0s 27us/sample - loss: 3.1472 - acc: 0.4857\n",
      "Epoch 30/150\n",
      "768/768 [==============================] - 0s 26us/sample - loss: 3.0191 - acc: 0.4870\n",
      "Epoch 31/150\n",
      "768/768 [==============================] - 0s 27us/sample - loss: 2.8899 - acc: 0.4935\n",
      "Epoch 32/150\n",
      "768/768 [==============================] - 0s 29us/sample - loss: 2.7641 - acc: 0.4818\n",
      "Epoch 33/150\n",
      "768/768 [==============================] - 0s 27us/sample - loss: 2.6450 - acc: 0.4961\n",
      "Epoch 34/150\n",
      "768/768 [==============================] - 0s 27us/sample - loss: 2.5145 - acc: 0.4909\n",
      "Epoch 35/150\n",
      "768/768 [==============================] - 0s 27us/sample - loss: 2.4055 - acc: 0.4857\n",
      "Epoch 36/150\n",
      "768/768 [==============================] - 0s 28us/sample - loss: 2.2863 - acc: 0.4935\n",
      "Epoch 37/150\n",
      "768/768 [==============================] - 0s 24us/sample - loss: 2.1613 - acc: 0.4974\n",
      "Epoch 38/150\n",
      "768/768 [==============================] - 0s 28us/sample - loss: 2.0545 - acc: 0.4935\n",
      "Epoch 39/150\n",
      "768/768 [==============================] - 0s 25us/sample - loss: 1.9507 - acc: 0.4870\n",
      "Epoch 40/150\n",
      "768/768 [==============================] - 0s 24us/sample - loss: 1.8372 - acc: 0.5182\n",
      "Epoch 41/150\n",
      "768/768 [==============================] - 0s 29us/sample - loss: 1.7382 - acc: 0.4805\n",
      "Epoch 42/150\n",
      "768/768 [==============================] - 0s 25us/sample - loss: 1.6333 - acc: 0.5130\n",
      "Epoch 43/150\n",
      "768/768 [==============================] - 0s 28us/sample - loss: 1.5395 - acc: 0.5026\n",
      "Epoch 44/150\n",
      "768/768 [==============================] - 0s 28us/sample - loss: 1.4555 - acc: 0.5247\n",
      "Epoch 45/150\n",
      "768/768 [==============================] - 0s 27us/sample - loss: 1.3692 - acc: 0.5065\n",
      "Epoch 46/150\n",
      "768/768 [==============================] - 0s 26us/sample - loss: 1.2889 - acc: 0.5039\n",
      "Epoch 47/150\n",
      "768/768 [==============================] - 0s 28us/sample - loss: 1.2080 - acc: 0.5221\n",
      "Epoch 48/150\n",
      "768/768 [==============================] - 0s 26us/sample - loss: 1.1432 - acc: 0.5169\n",
      "Epoch 49/150\n",
      "768/768 [==============================] - 0s 25us/sample - loss: 1.0878 - acc: 0.5365\n",
      "Epoch 50/150\n",
      "768/768 [==============================] - 0s 26us/sample - loss: 1.0275 - acc: 0.5326\n",
      "Epoch 51/150\n",
      "768/768 [==============================] - 0s 29us/sample - loss: 0.9797 - acc: 0.5430\n",
      "Epoch 52/150\n",
      "768/768 [==============================] - 0s 26us/sample - loss: 0.9356 - acc: 0.5820\n",
      "Epoch 53/150\n",
      "768/768 [==============================] - 0s 27us/sample - loss: 0.9012 - acc: 0.5664\n",
      "Epoch 54/150\n",
      "768/768 [==============================] - 0s 27us/sample - loss: 0.8615 - acc: 0.5885\n",
      "Epoch 55/150\n",
      "768/768 [==============================] - 0s 28us/sample - loss: 0.8296 - acc: 0.5768\n",
      "Epoch 56/150\n",
      "768/768 [==============================] - 0s 27us/sample - loss: 0.8046 - acc: 0.6042\n",
      "Epoch 57/150\n",
      "768/768 [==============================] - 0s 26us/sample - loss: 0.7790 - acc: 0.6081\n",
      "Epoch 58/150\n",
      "768/768 [==============================] - 0s 24us/sample - loss: 0.7549 - acc: 0.6224\n",
      "Epoch 59/150\n",
      "768/768 [==============================] - 0s 27us/sample - loss: 0.7481 - acc: 0.6185\n",
      "Epoch 60/150\n",
      "768/768 [==============================] - 0s 25us/sample - loss: 0.7231 - acc: 0.6419\n",
      "Epoch 61/150\n",
      "768/768 [==============================] - 0s 28us/sample - loss: 0.7099 - acc: 0.6471\n",
      "Epoch 62/150\n",
      "768/768 [==============================] - 0s 24us/sample - loss: 0.7033 - acc: 0.6471\n",
      "Epoch 63/150\n",
      "768/768 [==============================] - 0s 25us/sample - loss: 0.6908 - acc: 0.6328\n",
      "Epoch 64/150\n",
      "768/768 [==============================] - 0s 25us/sample - loss: 0.6823 - acc: 0.6406\n",
      "Epoch 65/150\n",
      "768/768 [==============================] - 0s 27us/sample - loss: 0.6713 - acc: 0.6484\n",
      "Epoch 66/150\n",
      "768/768 [==============================] - 0s 26us/sample - loss: 0.6754 - acc: 0.6628\n",
      "Epoch 67/150\n",
      "768/768 [==============================] - 0s 26us/sample - loss: 0.6605 - acc: 0.6680\n",
      "Epoch 68/150\n",
      "768/768 [==============================] - 0s 27us/sample - loss: 0.6543 - acc: 0.6589\n",
      "Epoch 69/150\n",
      "768/768 [==============================] - 0s 28us/sample - loss: 0.6578 - acc: 0.6615\n",
      "Epoch 70/150\n",
      "768/768 [==============================] - 0s 32us/sample - loss: 0.6504 - acc: 0.6523\n",
      "Epoch 71/150\n",
      "768/768 [==============================] - 0s 25us/sample - loss: 0.6349 - acc: 0.6758\n",
      "Epoch 72/150\n",
      "768/768 [==============================] - 0s 31us/sample - loss: 0.6396 - acc: 0.6602\n",
      "Epoch 73/150\n",
      "768/768 [==============================] - 0s 38us/sample - loss: 0.6366 - acc: 0.6706\n",
      "Epoch 74/150\n",
      "768/768 [==============================] - 0s 27us/sample - loss: 0.6200 - acc: 0.6810\n",
      "Epoch 75/150\n",
      "768/768 [==============================] - 0s 28us/sample - loss: 0.6280 - acc: 0.6667\n",
      "Epoch 76/150\n",
      "768/768 [==============================] - 0s 27us/sample - loss: 0.6201 - acc: 0.6797\n",
      "Epoch 77/150\n",
      "768/768 [==============================] - 0s 28us/sample - loss: 0.6206 - acc: 0.6719\n",
      "Epoch 78/150\n",
      "768/768 [==============================] - 0s 25us/sample - loss: 0.6146 - acc: 0.6823\n",
      "Epoch 79/150\n",
      "768/768 [==============================] - 0s 25us/sample - loss: 0.6115 - acc: 0.6901\n",
      "Epoch 80/150\n",
      "768/768 [==============================] - 0s 28us/sample - loss: 0.6169 - acc: 0.6745\n",
      "Epoch 81/150\n",
      "768/768 [==============================] - 0s 26us/sample - loss: 0.6135 - acc: 0.6706\n",
      "Epoch 82/150\n",
      "768/768 [==============================] - 0s 27us/sample - loss: 0.6261 - acc: 0.6719\n",
      "Epoch 83/150\n",
      "768/768 [==============================] - 0s 26us/sample - loss: 0.6233 - acc: 0.6484\n",
      "Epoch 84/150\n",
      "768/768 [==============================] - 0s 28us/sample - loss: 0.6095 - acc: 0.6810\n",
      "Epoch 85/150\n",
      "768/768 [==============================] - 0s 23us/sample - loss: 0.5980 - acc: 0.6914\n",
      "Epoch 86/150\n",
      "768/768 [==============================] - 0s 27us/sample - loss: 0.6033 - acc: 0.7057\n",
      "Epoch 87/150\n",
      "768/768 [==============================] - 0s 22us/sample - loss: 0.6084 - acc: 0.6797\n",
      "Epoch 88/150\n",
      "768/768 [==============================] - 0s 25us/sample - loss: 0.5961 - acc: 0.6979\n",
      "Epoch 89/150\n",
      "768/768 [==============================] - 0s 27us/sample - loss: 0.6031 - acc: 0.6953\n",
      "Epoch 90/150\n",
      "768/768 [==============================] - 0s 23us/sample - loss: 0.6033 - acc: 0.6888\n",
      "Epoch 91/150\n",
      "768/768 [==============================] - 0s 27us/sample - loss: 0.5999 - acc: 0.6797\n",
      "Epoch 92/150\n",
      "768/768 [==============================] - 0s 23us/sample - loss: 0.5976 - acc: 0.6927\n",
      "Epoch 93/150\n",
      "768/768 [==============================] - 0s 23us/sample - loss: 0.5979 - acc: 0.6940\n",
      "Epoch 94/150\n",
      "768/768 [==============================] - 0s 25us/sample - loss: 0.5959 - acc: 0.6836\n",
      "Epoch 95/150\n",
      "768/768 [==============================] - 0s 26us/sample - loss: 0.5936 - acc: 0.6966\n",
      "Epoch 96/150\n",
      "768/768 [==============================] - 0s 25us/sample - loss: 0.5902 - acc: 0.7044\n",
      "Epoch 97/150\n",
      "768/768 [==============================] - 0s 26us/sample - loss: 0.5887 - acc: 0.7005\n",
      "Epoch 98/150\n",
      "768/768 [==============================] - 0s 23us/sample - loss: 0.5919 - acc: 0.6953\n",
      "Epoch 99/150\n",
      "768/768 [==============================] - 0s 27us/sample - loss: 0.5938 - acc: 0.6953\n",
      "Epoch 100/150\n",
      "768/768 [==============================] - 0s 23us/sample - loss: 0.5919 - acc: 0.7018\n",
      "Epoch 101/150\n",
      "768/768 [==============================] - 0s 23us/sample - loss: 0.5898 - acc: 0.7031\n",
      "Epoch 102/150\n",
      "768/768 [==============================] - 0s 24us/sample - loss: 0.5868 - acc: 0.7057\n",
      "Epoch 103/150\n",
      "768/768 [==============================] - 0s 23us/sample - loss: 0.5911 - acc: 0.6953\n",
      "Epoch 104/150\n",
      "768/768 [==============================] - 0s 23us/sample - loss: 0.5892 - acc: 0.7031\n",
      "Epoch 105/150\n",
      "768/768 [==============================] - 0s 25us/sample - loss: 0.5877 - acc: 0.7083\n",
      "Epoch 106/150\n",
      "768/768 [==============================] - 0s 22us/sample - loss: 0.5884 - acc: 0.6888\n",
      "Epoch 107/150\n",
      "768/768 [==============================] - 0s 23us/sample - loss: 0.5853 - acc: 0.7083\n",
      "Epoch 108/150\n",
      "768/768 [==============================] - 0s 24us/sample - loss: 0.5859 - acc: 0.7018\n",
      "Epoch 109/150\n",
      "768/768 [==============================] - 0s 27us/sample - loss: 0.5869 - acc: 0.7031\n",
      "Epoch 110/150\n",
      "768/768 [==============================] - 0s 27us/sample - loss: 0.5901 - acc: 0.7057\n",
      "Epoch 111/150\n",
      "768/768 [==============================] - 0s 27us/sample - loss: 0.5904 - acc: 0.7018\n",
      "Epoch 112/150\n",
      "768/768 [==============================] - 0s 28us/sample - loss: 0.5847 - acc: 0.7070\n",
      "Epoch 113/150\n",
      "768/768 [==============================] - 0s 24us/sample - loss: 0.5893 - acc: 0.6940\n",
      "Epoch 114/150\n",
      "768/768 [==============================] - 0s 27us/sample - loss: 0.5928 - acc: 0.6849\n",
      "Epoch 115/150\n",
      "768/768 [==============================] - 0s 29us/sample - loss: 0.5833 - acc: 0.7135\n",
      "Epoch 116/150\n",
      "768/768 [==============================] - 0s 28us/sample - loss: 0.5830 - acc: 0.7031\n",
      "Epoch 117/150\n",
      "768/768 [==============================] - 0s 26us/sample - loss: 0.5833 - acc: 0.7148\n",
      "Epoch 118/150\n",
      "768/768 [==============================] - 0s 27us/sample - loss: 0.5823 - acc: 0.7031\n",
      "Epoch 119/150\n",
      "768/768 [==============================] - 0s 25us/sample - loss: 0.5914 - acc: 0.6979\n",
      "Epoch 120/150\n",
      "768/768 [==============================] - 0s 30us/sample - loss: 0.5843 - acc: 0.7057\n",
      "Epoch 121/150\n",
      "768/768 [==============================] - 0s 27us/sample - loss: 0.5851 - acc: 0.7044\n",
      "Epoch 122/150\n",
      "768/768 [==============================] - 0s 29us/sample - loss: 0.5907 - acc: 0.7044\n",
      "Epoch 123/150\n",
      "768/768 [==============================] - 0s 31us/sample - loss: 0.5950 - acc: 0.6979\n",
      "Epoch 124/150\n",
      "768/768 [==============================] - 0s 25us/sample - loss: 0.5915 - acc: 0.7005\n",
      "Epoch 125/150\n",
      "768/768 [==============================] - 0s 27us/sample - loss: 0.5783 - acc: 0.7135\n",
      "Epoch 126/150\n",
      "768/768 [==============================] - 0s 26us/sample - loss: 0.5931 - acc: 0.6927\n",
      "Epoch 127/150\n",
      "768/768 [==============================] - 0s 26us/sample - loss: 0.5801 - acc: 0.7253\n",
      "Epoch 128/150\n",
      "768/768 [==============================] - 0s 23us/sample - loss: 0.5796 - acc: 0.6979\n",
      "Epoch 129/150\n",
      "768/768 [==============================] - 0s 28us/sample - loss: 0.5770 - acc: 0.7188\n",
      "Epoch 130/150\n",
      "768/768 [==============================] - 0s 24us/sample - loss: 0.5828 - acc: 0.7044\n",
      "Epoch 131/150\n",
      "768/768 [==============================] - 0s 24us/sample - loss: 0.6071 - acc: 0.6771\n",
      "Epoch 132/150\n",
      "768/768 [==============================] - 0s 25us/sample - loss: 0.5963 - acc: 0.6810\n",
      "Epoch 133/150\n",
      "768/768 [==============================] - 0s 22us/sample - loss: 0.5948 - acc: 0.7005\n",
      "Epoch 134/150\n",
      "768/768 [==============================] - 0s 23us/sample - loss: 0.5818 - acc: 0.7135\n",
      "Epoch 135/150\n",
      "768/768 [==============================] - 0s 22us/sample - loss: 0.5845 - acc: 0.7096\n",
      "Epoch 136/150\n",
      "768/768 [==============================] - 0s 26us/sample - loss: 0.5824 - acc: 0.7109\n",
      "Epoch 137/150\n",
      "768/768 [==============================] - 0s 25us/sample - loss: 0.5784 - acc: 0.7214\n",
      "Epoch 138/150\n",
      "768/768 [==============================] - 0s 25us/sample - loss: 0.5885 - acc: 0.7005\n",
      "Epoch 139/150\n",
      "768/768 [==============================] - 0s 25us/sample - loss: 0.5832 - acc: 0.7161\n",
      "Epoch 140/150\n",
      "768/768 [==============================] - 0s 24us/sample - loss: 0.5880 - acc: 0.6966\n",
      "Epoch 141/150\n",
      "768/768 [==============================] - 0s 22us/sample - loss: 0.5754 - acc: 0.7279\n",
      "Epoch 142/150\n",
      "768/768 [==============================] - 0s 23us/sample - loss: 0.5763 - acc: 0.7148\n",
      "Epoch 143/150\n",
      "768/768 [==============================] - 0s 23us/sample - loss: 0.5766 - acc: 0.7161\n",
      "Epoch 144/150\n",
      "768/768 [==============================] - 0s 25us/sample - loss: 0.5735 - acc: 0.7266\n",
      "Epoch 145/150\n",
      "768/768 [==============================] - 0s 22us/sample - loss: 0.5761 - acc: 0.6992\n",
      "Epoch 146/150\n",
      "768/768 [==============================] - 0s 23us/sample - loss: 0.5878 - acc: 0.7083\n",
      "Epoch 147/150\n",
      "768/768 [==============================] - 0s 23us/sample - loss: 0.5770 - acc: 0.7305\n",
      "Epoch 148/150\n",
      "768/768 [==============================] - 0s 22us/sample - loss: 0.5754 - acc: 0.7240\n",
      "Epoch 149/150\n",
      "768/768 [==============================] - 0s 23us/sample - loss: 0.5744 - acc: 0.7214\n",
      "Epoch 150/150\n",
      "768/768 [==============================] - 0s 24us/sample - loss: 0.5770 - acc: 0.7083\n"
     ]
    },
    {
     "data": {
      "text/plain": [
       "<tensorflow.python.keras.callbacks.History at 0xb2a0f0ba8>"
      ]
     },
     "execution_count": 10,
     "metadata": {},
     "output_type": "execute_result"
    }
   ],
   "source": []
  },
  {
   "cell_type": "code",
   "execution_count": 11,
   "metadata": {},
   "outputs": [
    {
     "data": {
      "text/plain": [
       "(768,)"
      ]
     },
     "execution_count": 11,
     "metadata": {},
     "output_type": "execute_result"
    }
   ],
   "source": [
    "y.shape"
   ]
  },
  {
   "cell_type": "markdown",
   "metadata": {},
   "source": [
    "### Evaluate Model"
   ]
  },
  {
   "cell_type": "code",
   "execution_count": 12,
   "metadata": {},
   "outputs": [
    {
     "data": {
      "text/plain": [
       "array([1., 0., 1., 0., 1., 0., 1., 0., 1., 1., 0., 1., 0., 1., 1., 1., 1.,\n",
       "       1., 0., 1., 0., 0., 1., 1., 1., 1., 1., 0., 0., 0., 0., 1., 0., 0.,\n",
       "       0., 0., 0., 1., 1., 1., 0., 0., 0., 1., 0., 1., 0., 0., 1., 0.])"
      ]
     },
     "execution_count": 12,
     "metadata": {},
     "output_type": "execute_result"
    }
   ],
   "source": [
    "y[:50]"
   ]
  },
  {
   "cell_type": "code",
   "execution_count": 1,
   "metadata": {},
   "outputs": [],
   "source": [
    "# Predicting never diabetes\n"
   ]
  },
  {
   "cell_type": "code",
   "execution_count": 14,
   "metadata": {},
   "outputs": [
    {
     "name": "stdout",
     "output_type": "stream",
     "text": [
      "768/768 [==============================] - 0s 38us/sample - loss: 0.5727 - acc: 0.7122\n",
      "acc: 71.22395634651184\n"
     ]
    }
   ],
   "source": [
    "scores = model.evaluate(X,y)\n",
    "print(f\"{model.metrics_names[1]}: {scores[1]*100}\")"
   ]
  },
  {
   "cell_type": "markdown",
   "metadata": {
    "colab_type": "text",
    "id": "AIJoRBxHy27n"
   },
   "source": [
    "# Keras MLP Model in 4 lines of code:"
   ]
  },
  {
   "cell_type": "code",
   "execution_count": 16,
   "metadata": {
    "colab": {
     "base_uri": "https://localhost:8080/",
     "height": 5216
    },
    "colab_type": "code",
    "id": "TQxyONqKvFxB",
    "outputId": "12966e66-2297-4f82-85b3-c275a9c38563"
   },
   "outputs": [
    {
     "name": "stdout",
     "output_type": "stream",
     "text": [
      "Epoch 1/150\n",
      "768/768 [==============================] - 0s 95us/sample - loss: 29.5401 - acc: 0.5117\n",
      "Epoch 2/150\n",
      "768/768 [==============================] - 0s 23us/sample - loss: 28.2657 - acc: 0.5247\n",
      "Epoch 3/150\n",
      "768/768 [==============================] - 0s 25us/sample - loss: 27.0813 - acc: 0.5378\n",
      "Epoch 4/150\n",
      "768/768 [==============================] - 0s 25us/sample - loss: 26.0313 - acc: 0.5404\n",
      "Epoch 5/150\n",
      "768/768 [==============================] - 0s 26us/sample - loss: 25.1287 - acc: 0.5495\n",
      "Epoch 6/150\n",
      "768/768 [==============================] - 0s 26us/sample - loss: 24.2378 - acc: 0.5573\n",
      "Epoch 7/150\n",
      "768/768 [==============================] - 0s 26us/sample - loss: 23.4281 - acc: 0.5586\n",
      "Epoch 8/150\n",
      "768/768 [==============================] - 0s 27us/sample - loss: 22.6516 - acc: 0.5612\n",
      "Epoch 9/150\n",
      "768/768 [==============================] - 0s 28us/sample - loss: 21.8796 - acc: 0.5638\n",
      "Epoch 10/150\n",
      "768/768 [==============================] - 0s 29us/sample - loss: 21.1629 - acc: 0.5703\n",
      "Epoch 11/150\n",
      "768/768 [==============================] - 0s 26us/sample - loss: 20.3676 - acc: 0.5703\n",
      "Epoch 12/150\n",
      "768/768 [==============================] - 0s 29us/sample - loss: 19.5942 - acc: 0.5677\n",
      "Epoch 13/150\n",
      "768/768 [==============================] - 0s 28us/sample - loss: 18.8276 - acc: 0.5664\n",
      "Epoch 14/150\n",
      "768/768 [==============================] - 0s 27us/sample - loss: 18.0537 - acc: 0.5651\n",
      "Epoch 15/150\n",
      "768/768 [==============================] - 0s 27us/sample - loss: 17.2974 - acc: 0.5677\n",
      "Epoch 16/150\n",
      "768/768 [==============================] - 0s 26us/sample - loss: 16.5129 - acc: 0.5651\n",
      "Epoch 17/150\n",
      "768/768 [==============================] - 0s 28us/sample - loss: 15.7357 - acc: 0.5677\n",
      "Epoch 18/150\n",
      "768/768 [==============================] - 0s 24us/sample - loss: 14.9809 - acc: 0.5612\n",
      "Epoch 19/150\n",
      "768/768 [==============================] - 0s 29us/sample - loss: 14.1883 - acc: 0.5599\n",
      "Epoch 20/150\n",
      "768/768 [==============================] - 0s 27us/sample - loss: 13.4188 - acc: 0.5573\n",
      "Epoch 21/150\n",
      "768/768 [==============================] - 0s 25us/sample - loss: 12.6567 - acc: 0.5547\n",
      "Epoch 22/150\n",
      "768/768 [==============================] - 0s 29us/sample - loss: 11.8916 - acc: 0.5534\n",
      "Epoch 23/150\n",
      "768/768 [==============================] - 0s 28us/sample - loss: 11.1112 - acc: 0.5495\n",
      "Epoch 24/150\n",
      "768/768 [==============================] - 0s 26us/sample - loss: 10.3590 - acc: 0.5456\n",
      "Epoch 25/150\n",
      "768/768 [==============================] - 0s 26us/sample - loss: 9.6087 - acc: 0.5404\n",
      "Epoch 26/150\n",
      "768/768 [==============================] - 0s 28us/sample - loss: 8.8459 - acc: 0.5352\n",
      "Epoch 27/150\n",
      "768/768 [==============================] - 0s 25us/sample - loss: 8.1068 - acc: 0.5352\n",
      "Epoch 28/150\n",
      "768/768 [==============================] - 0s 27us/sample - loss: 7.4106 - acc: 0.5299\n",
      "Epoch 29/150\n",
      "768/768 [==============================] - 0s 27us/sample - loss: 6.7105 - acc: 0.5326\n",
      "Epoch 30/150\n",
      "768/768 [==============================] - 0s 26us/sample - loss: 6.0595 - acc: 0.5312\n",
      "Epoch 31/150\n",
      "768/768 [==============================] - 0s 28us/sample - loss: 5.4731 - acc: 0.5286\n",
      "Epoch 32/150\n",
      "768/768 [==============================] - 0s 28us/sample - loss: 4.9245 - acc: 0.5312\n",
      "Epoch 33/150\n",
      "768/768 [==============================] - 0s 30us/sample - loss: 4.4562 - acc: 0.5156\n",
      "Epoch 34/150\n",
      "768/768 [==============================] - 0s 27us/sample - loss: 4.0569 - acc: 0.5195\n",
      "Epoch 35/150\n",
      "768/768 [==============================] - 0s 26us/sample - loss: 3.7395 - acc: 0.5065\n",
      "Epoch 36/150\n",
      "768/768 [==============================] - 0s 28us/sample - loss: 3.4891 - acc: 0.4987\n",
      "Epoch 37/150\n",
      "768/768 [==============================] - 0s 26us/sample - loss: 3.2887 - acc: 0.5078\n",
      "Epoch 38/150\n",
      "768/768 [==============================] - 0s 29us/sample - loss: 3.1211 - acc: 0.5078\n",
      "Epoch 39/150\n",
      "768/768 [==============================] - 0s 25us/sample - loss: 2.9822 - acc: 0.5117\n",
      "Epoch 40/150\n",
      "768/768 [==============================] - 0s 26us/sample - loss: 2.8477 - acc: 0.5052\n",
      "Epoch 41/150\n",
      "768/768 [==============================] - 0s 28us/sample - loss: 2.7278 - acc: 0.5078\n",
      "Epoch 42/150\n",
      "768/768 [==============================] - 0s 25us/sample - loss: 2.6219 - acc: 0.5182\n",
      "Epoch 43/150\n",
      "768/768 [==============================] - 0s 28us/sample - loss: 2.5334 - acc: 0.5221\n",
      "Epoch 44/150\n",
      "768/768 [==============================] - 0s 25us/sample - loss: 2.4328 - acc: 0.5299\n",
      "Epoch 45/150\n",
      "768/768 [==============================] - 0s 27us/sample - loss: 2.3433 - acc: 0.5286\n",
      "Epoch 46/150\n",
      "768/768 [==============================] - 0s 25us/sample - loss: 2.2712 - acc: 0.5417\n",
      "Epoch 47/150\n",
      "768/768 [==============================] - 0s 27us/sample - loss: 2.1921 - acc: 0.5339\n",
      "Epoch 48/150\n",
      "768/768 [==============================] - 0s 26us/sample - loss: 2.1125 - acc: 0.5352\n",
      "Epoch 49/150\n",
      "768/768 [==============================] - 0s 29us/sample - loss: 2.0479 - acc: 0.5573\n",
      "Epoch 50/150\n",
      "768/768 [==============================] - 0s 25us/sample - loss: 1.9794 - acc: 0.5378\n",
      "Epoch 51/150\n",
      "768/768 [==============================] - 0s 28us/sample - loss: 1.9286 - acc: 0.5742\n",
      "Epoch 52/150\n",
      "768/768 [==============================] - 0s 27us/sample - loss: 1.8672 - acc: 0.5378\n",
      "Epoch 53/150\n",
      "768/768 [==============================] - 0s 26us/sample - loss: 1.7992 - acc: 0.5560\n",
      "Epoch 54/150\n",
      "768/768 [==============================] - 0s 28us/sample - loss: 1.7465 - acc: 0.5638\n",
      "Epoch 55/150\n",
      "768/768 [==============================] - 0s 27us/sample - loss: 1.7171 - acc: 0.5690\n",
      "Epoch 56/150\n",
      "768/768 [==============================] - 0s 33us/sample - loss: 1.6763 - acc: 0.5794\n",
      "Epoch 57/150\n",
      "768/768 [==============================] - 0s 30us/sample - loss: 1.6164 - acc: 0.5755\n",
      "Epoch 58/150\n",
      "768/768 [==============================] - 0s 30us/sample - loss: 1.5801 - acc: 0.5729\n",
      "Epoch 59/150\n",
      "768/768 [==============================] - 0s 30us/sample - loss: 1.5596 - acc: 0.5938\n",
      "Epoch 60/150\n",
      "768/768 [==============================] - 0s 31us/sample - loss: 1.5086 - acc: 0.5807\n",
      "Epoch 61/150\n",
      "768/768 [==============================] - 0s 30us/sample - loss: 1.4813 - acc: 0.5951\n",
      "Epoch 62/150\n",
      "768/768 [==============================] - 0s 30us/sample - loss: 1.4381 - acc: 0.5951\n",
      "Epoch 63/150\n",
      "768/768 [==============================] - 0s 30us/sample - loss: 1.4153 - acc: 0.5990\n",
      "Epoch 64/150\n",
      "768/768 [==============================] - 0s 30us/sample - loss: 1.3822 - acc: 0.6003\n",
      "Epoch 65/150\n",
      "768/768 [==============================] - 0s 30us/sample - loss: 1.3633 - acc: 0.6185\n",
      "Epoch 66/150\n",
      "768/768 [==============================] - 0s 27us/sample - loss: 1.3434 - acc: 0.5964\n",
      "Epoch 67/150\n",
      "768/768 [==============================] - 0s 30us/sample - loss: 1.3115 - acc: 0.6133\n",
      "Epoch 68/150\n",
      "768/768 [==============================] - 0s 27us/sample - loss: 1.2858 - acc: 0.6263\n",
      "Epoch 69/150\n",
      "768/768 [==============================] - 0s 29us/sample - loss: 1.2704 - acc: 0.6172\n",
      "Epoch 70/150\n",
      "768/768 [==============================] - 0s 28us/sample - loss: 1.2404 - acc: 0.6185\n",
      "Epoch 71/150\n",
      "768/768 [==============================] - 0s 26us/sample - loss: 1.2431 - acc: 0.6302\n",
      "Epoch 72/150\n",
      "768/768 [==============================] - 0s 29us/sample - loss: 1.1996 - acc: 0.6198\n",
      "Epoch 73/150\n",
      "768/768 [==============================] - 0s 27us/sample - loss: 1.1860 - acc: 0.6276\n",
      "Epoch 74/150\n",
      "768/768 [==============================] - 0s 29us/sample - loss: 1.1680 - acc: 0.6393\n",
      "Epoch 75/150\n",
      "768/768 [==============================] - 0s 28us/sample - loss: 1.1425 - acc: 0.6224\n",
      "Epoch 76/150\n",
      "768/768 [==============================] - 0s 26us/sample - loss: 1.1315 - acc: 0.6380\n",
      "Epoch 77/150\n",
      "768/768 [==============================] - 0s 25us/sample - loss: 1.1203 - acc: 0.6341\n",
      "Epoch 78/150\n",
      "768/768 [==============================] - 0s 24us/sample - loss: 1.1001 - acc: 0.6432\n",
      "Epoch 79/150\n",
      "768/768 [==============================] - 0s 27us/sample - loss: 1.0776 - acc: 0.6458\n",
      "Epoch 80/150\n",
      "768/768 [==============================] - 0s 26us/sample - loss: 1.0573 - acc: 0.6419\n",
      "Epoch 81/150\n",
      "768/768 [==============================] - 0s 31us/sample - loss: 1.0391 - acc: 0.6471\n",
      "Epoch 82/150\n",
      "768/768 [==============================] - 0s 26us/sample - loss: 1.0339 - acc: 0.6419\n",
      "Epoch 83/150\n",
      "768/768 [==============================] - 0s 28us/sample - loss: 1.0134 - acc: 0.6484\n",
      "Epoch 84/150\n",
      "768/768 [==============================] - 0s 29us/sample - loss: 1.0005 - acc: 0.6497\n",
      "Epoch 85/150\n",
      "768/768 [==============================] - 0s 25us/sample - loss: 0.9837 - acc: 0.6549\n",
      "Epoch 86/150\n",
      "768/768 [==============================] - 0s 29us/sample - loss: 0.9682 - acc: 0.6536\n",
      "Epoch 87/150\n",
      "768/768 [==============================] - 0s 30us/sample - loss: 0.9605 - acc: 0.6589\n",
      "Epoch 88/150\n",
      "768/768 [==============================] - 0s 30us/sample - loss: 0.9383 - acc: 0.6641\n",
      "Epoch 89/150\n",
      "768/768 [==============================] - 0s 29us/sample - loss: 0.9335 - acc: 0.6562\n",
      "Epoch 90/150\n",
      "768/768 [==============================] - 0s 27us/sample - loss: 0.9328 - acc: 0.6706\n",
      "Epoch 91/150\n",
      "768/768 [==============================] - 0s 29us/sample - loss: 0.8995 - acc: 0.6628\n",
      "Epoch 92/150\n",
      "768/768 [==============================] - 0s 24us/sample - loss: 0.8943 - acc: 0.6680\n",
      "Epoch 93/150\n",
      "768/768 [==============================] - 0s 29us/sample - loss: 0.8771 - acc: 0.6693\n",
      "Epoch 94/150\n",
      "768/768 [==============================] - 0s 28us/sample - loss: 0.8724 - acc: 0.6628\n",
      "Epoch 95/150\n",
      "768/768 [==============================] - 0s 26us/sample - loss: 0.8579 - acc: 0.6706\n",
      "Epoch 96/150\n",
      "768/768 [==============================] - 0s 27us/sample - loss: 0.8430 - acc: 0.6732\n",
      "Epoch 97/150\n",
      "768/768 [==============================] - 0s 25us/sample - loss: 0.8307 - acc: 0.6784\n",
      "Epoch 98/150\n",
      "768/768 [==============================] - 0s 27us/sample - loss: 0.8294 - acc: 0.6680\n",
      "Epoch 99/150\n",
      "768/768 [==============================] - 0s 24us/sample - loss: 0.8158 - acc: 0.6602\n",
      "Epoch 100/150\n",
      "768/768 [==============================] - 0s 24us/sample - loss: 0.8061 - acc: 0.6758\n",
      "Epoch 101/150\n",
      "768/768 [==============================] - 0s 23us/sample - loss: 0.8047 - acc: 0.6549\n",
      "Epoch 102/150\n",
      "768/768 [==============================] - 0s 25us/sample - loss: 0.7797 - acc: 0.6693\n",
      "Epoch 103/150\n",
      "768/768 [==============================] - 0s 23us/sample - loss: 0.7765 - acc: 0.6706\n",
      "Epoch 104/150\n",
      "768/768 [==============================] - 0s 26us/sample - loss: 0.7631 - acc: 0.6823\n",
      "Epoch 105/150\n",
      "768/768 [==============================] - 0s 23us/sample - loss: 0.7570 - acc: 0.6758\n",
      "Epoch 106/150\n",
      "768/768 [==============================] - 0s 24us/sample - loss: 0.7467 - acc: 0.6667\n",
      "Epoch 107/150\n",
      "768/768 [==============================] - 0s 25us/sample - loss: 0.7345 - acc: 0.6797\n",
      "Epoch 108/150\n",
      "768/768 [==============================] - 0s 32us/sample - loss: 0.7270 - acc: 0.6875\n",
      "Epoch 109/150\n",
      "768/768 [==============================] - 0s 27us/sample - loss: 0.7206 - acc: 0.6849\n",
      "Epoch 110/150\n",
      "768/768 [==============================] - 0s 27us/sample - loss: 0.7239 - acc: 0.6706\n",
      "Epoch 111/150\n",
      "768/768 [==============================] - 0s 26us/sample - loss: 0.7061 - acc: 0.6810\n",
      "Epoch 112/150\n",
      "768/768 [==============================] - 0s 24us/sample - loss: 0.7059 - acc: 0.6810\n",
      "Epoch 113/150\n",
      "768/768 [==============================] - 0s 31us/sample - loss: 0.7031 - acc: 0.6706\n",
      "Epoch 114/150\n",
      "768/768 [==============================] - 0s 26us/sample - loss: 0.6888 - acc: 0.6862\n",
      "Epoch 115/150\n",
      "768/768 [==============================] - 0s 25us/sample - loss: 0.6877 - acc: 0.6927\n",
      "Epoch 116/150\n",
      "768/768 [==============================] - 0s 24us/sample - loss: 0.6916 - acc: 0.6836\n",
      "Epoch 117/150\n",
      "768/768 [==============================] - 0s 33us/sample - loss: 0.6674 - acc: 0.7018\n",
      "Epoch 118/150\n",
      "768/768 [==============================] - 0s 29us/sample - loss: 0.6600 - acc: 0.7005\n",
      "Epoch 119/150\n",
      "768/768 [==============================] - 0s 25us/sample - loss: 0.6563 - acc: 0.6940\n",
      "Epoch 120/150\n",
      "768/768 [==============================] - 0s 32us/sample - loss: 0.6574 - acc: 0.6849\n",
      "Epoch 121/150\n",
      "768/768 [==============================] - 0s 31us/sample - loss: 0.6678 - acc: 0.6953\n",
      "Epoch 122/150\n",
      "768/768 [==============================] - 0s 28us/sample - loss: 0.6487 - acc: 0.7057\n",
      "Epoch 123/150\n",
      "768/768 [==============================] - 0s 27us/sample - loss: 0.6428 - acc: 0.7005\n",
      "Epoch 124/150\n",
      "768/768 [==============================] - 0s 25us/sample - loss: 0.6392 - acc: 0.6953\n",
      "Epoch 125/150\n",
      "768/768 [==============================] - 0s 27us/sample - loss: 0.6319 - acc: 0.7070\n",
      "Epoch 126/150\n",
      "768/768 [==============================] - 0s 29us/sample - loss: 0.6332 - acc: 0.7122\n",
      "Epoch 127/150\n",
      "768/768 [==============================] - 0s 27us/sample - loss: 0.6272 - acc: 0.7005\n",
      "Epoch 128/150\n",
      "768/768 [==============================] - 0s 26us/sample - loss: 0.6189 - acc: 0.7070\n",
      "Epoch 129/150\n",
      "768/768 [==============================] - 0s 27us/sample - loss: 0.6155 - acc: 0.7096\n",
      "Epoch 130/150\n",
      "768/768 [==============================] - 0s 28us/sample - loss: 0.6144 - acc: 0.7174\n",
      "Epoch 131/150\n",
      "768/768 [==============================] - 0s 28us/sample - loss: 0.6116 - acc: 0.7083\n",
      "Epoch 132/150\n",
      "768/768 [==============================] - 0s 32us/sample - loss: 0.6101 - acc: 0.7096\n",
      "Epoch 133/150\n",
      "768/768 [==============================] - 0s 26us/sample - loss: 0.6096 - acc: 0.7057\n",
      "Epoch 134/150\n",
      "768/768 [==============================] - 0s 26us/sample - loss: 0.6168 - acc: 0.7057\n",
      "Epoch 135/150\n",
      "768/768 [==============================] - 0s 24us/sample - loss: 0.6045 - acc: 0.7122\n",
      "Epoch 136/150\n",
      "768/768 [==============================] - 0s 24us/sample - loss: 0.6002 - acc: 0.7083\n",
      "Epoch 137/150\n",
      "768/768 [==============================] - 0s 22us/sample - loss: 0.6021 - acc: 0.7057\n",
      "Epoch 138/150\n",
      "768/768 [==============================] - 0s 23us/sample - loss: 0.5961 - acc: 0.7161\n",
      "Epoch 139/150\n",
      "768/768 [==============================] - 0s 26us/sample - loss: 0.5934 - acc: 0.7109\n",
      "Epoch 140/150\n",
      "768/768 [==============================] - 0s 23us/sample - loss: 0.5939 - acc: 0.7188\n",
      "Epoch 141/150\n",
      "768/768 [==============================] - 0s 22us/sample - loss: 0.6097 - acc: 0.7122\n",
      "Epoch 142/150\n",
      "768/768 [==============================] - 0s 23us/sample - loss: 0.5897 - acc: 0.7201\n",
      "Epoch 143/150\n",
      "768/768 [==============================] - 0s 22us/sample - loss: 0.5903 - acc: 0.7174\n",
      "Epoch 144/150\n",
      "768/768 [==============================] - 0s 25us/sample - loss: 0.5893 - acc: 0.7109\n",
      "Epoch 145/150\n",
      "768/768 [==============================] - 0s 21us/sample - loss: 0.5932 - acc: 0.7122\n",
      "Epoch 146/150\n",
      "768/768 [==============================] - 0s 24us/sample - loss: 0.5873 - acc: 0.7201\n",
      "Epoch 147/150\n",
      "768/768 [==============================] - 0s 23us/sample - loss: 0.5847 - acc: 0.7240\n",
      "Epoch 148/150\n",
      "768/768 [==============================] - 0s 23us/sample - loss: 0.5839 - acc: 0.7188\n",
      "Epoch 149/150\n",
      "768/768 [==============================] - 0s 26us/sample - loss: 0.5875 - acc: 0.7148\n",
      "Epoch 150/150\n",
      "768/768 [==============================] - 0s 27us/sample - loss: 0.5865 - acc: 0.7005\n"
     ]
    },
    {
     "data": {
      "text/plain": [
       "<tensorflow.python.keras.callbacks.History at 0xb2a909128>"
      ]
     },
     "execution_count": 16,
     "metadata": {},
     "output_type": "execute_result"
    }
   ],
   "source": []
  },
  {
   "cell_type": "code",
   "execution_count": 17,
   "metadata": {
    "colab": {
     "base_uri": "https://localhost:8080/",
     "height": 69
    },
    "colab_type": "code",
    "id": "Z1wfKUxszPKa",
    "outputId": "0cdacd1d-6e5a-4bbe-fabb-568cd94724be"
   },
   "outputs": [
    {
     "name": "stdout",
     "output_type": "stream",
     "text": [
      "768/768 [==============================] - 0s 40us/sample - loss: 0.5857 - acc: 0.7070\n",
      "acc: 70.703125\n"
     ]
    }
   ],
   "source": [
    "# evaluate the model\n",
    "scores = model.evaluate(X, y)\n",
    "print(f\"{model.metrics_names[1]}: {scores[1]*100}\")"
   ]
  },
  {
   "cell_type": "markdown",
   "metadata": {
    "colab_type": "text",
    "id": "zHYB7k9q3O8T"
   },
   "source": [
    "### Why are we getting such different results if we re-run the model?\n",
    "\n",
    "<https://machinelearningmastery.com/randomness-in-machine-learning/>"
   ]
  },
  {
   "cell_type": "markdown",
   "metadata": {
    "colab_type": "text",
    "id": "ueDVpctAzvy8"
   },
   "source": [
    "# What architecture should we try?"
   ]
  },
  {
   "cell_type": "code",
   "execution_count": 18,
   "metadata": {
    "colab": {},
    "colab_type": "code",
    "id": "6W2Sc7-LzQo_"
   },
   "outputs": [
    {
     "name": "stdout",
     "output_type": "stream",
     "text": [
      "Model: \"sequential_3\"\n",
      "_________________________________________________________________\n",
      "Layer (type)                 Output Shape              Param #   \n",
      "=================================================================\n",
      "dense_3 (Dense)              (None, 4)                 36        \n",
      "_________________________________________________________________\n",
      "dense_4 (Dense)              (None, 3)                 15        \n",
      "_________________________________________________________________\n",
      "dense_5 (Dense)              (None, 1)                 4         \n",
      "=================================================================\n",
      "Total params: 55\n",
      "Trainable params: 55\n",
      "Non-trainable params: 0\n",
      "_________________________________________________________________\n"
     ]
    }
   ],
   "source": [
    "# Tell me your ideas\n",
    "\n",
    "model_improved = Sequential()\n",
    "\n",
    "\n",
    "# Let's inspect our new architecture\n",
    "model_improved.summary()"
   ]
  },
  {
   "cell_type": "code",
   "execution_count": 21,
   "metadata": {},
   "outputs": [
    {
     "data": {
      "text/plain": [
       "<tensorflow.python.keras.callbacks.History at 0xb2b061550>"
      ]
     },
     "execution_count": 21,
     "metadata": {},
     "output_type": "execute_result"
    }
   ],
   "source": [
    "model_improved.fit() # What parameters can I specify here?"
   ]
  },
  {
   "cell_type": "code",
   "execution_count": 23,
   "metadata": {},
   "outputs": [
    {
     "name": "stdout",
     "output_type": "stream",
     "text": [
      "768/768 [==============================] - 0s 16us/sample - loss: 0.6181 - acc: 0.6771\n",
      "acc: 70.703125\n"
     ]
    }
   ],
   "source": [
    "score = model_improved.evaluate(X,y)\n",
    "print(f\"{model_improved.metrics_names[1]}: {scores[1]*100}\")"
   ]
  },
  {
   "cell_type": "markdown",
   "metadata": {
    "colab_type": "text",
    "id": "tcjMuxtn6wIQ"
   },
   "source": [
    "# Activation Functions\n",
    "\n",
    "What is an activation function and how does it work?\n",
    "\n",
    "- Takes in a weighted sum of inputs + a bias from the previous layer and outputs an \"activation\" value.\n",
    "- Based its inputs the neuron decides how 'activated' it should be. This can be thought of as the neuron deciding how strongly to fire. You can also think of it as if the neuron is deciding how much of the signal that it has received to pass onto the next layer. \n",
    "- Our choice of activation function does not only affect signal that is passed forward but also affects the backpropagation algorithm. It affects how we update weights in reverse order since activated weight/input sums become the inputs of the next layer. \n"
   ]
  },
  {
   "cell_type": "markdown",
   "metadata": {
    "colab_type": "text",
    "id": "n_b0u8Ch60bA"
   },
   "source": [
    "## Step Function\n",
    "\n",
    "![Heaviside Step Function](https://upload.wikimedia.org/wikipedia/commons/thumb/d/d9/Dirac_distribution_CDF.svg/325px-Dirac_distribution_CDF.svg.png)\n",
    "\n",
    "All or nothing, a little extreme, which is fine, but makes updating weights through backpropagation impossible. Why? remember that during backpropagation we use derivatives in order to determine how much to update or not update weights. What is the derivative of the step function?"
   ]
  },
  {
   "cell_type": "markdown",
   "metadata": {
    "colab_type": "text",
    "id": "vKR0YhIVEnXZ"
   },
   "source": [
    "## Linear Function\n",
    "\n",
    "![Linear Function](http://www.roconnell.net/Parent%20function/linear.gif)\n",
    "\n",
    "The linear function takes the opposite tact from the step function and passes the signal onto the next layer by a constant factor. There are problems with this but the biggest problems again lie in backpropagation. The derivative of any linear function is a horizontal line which would indicate that we should update all weights by a constant amount every time -which on balance wouldn't change the behavior of our network. Linear functions are typically only used for very simple tasks where interpretability is important, but if interpretability is your highest priority, you probably shouldn't be using neural networks in the first place."
   ]
  },
  {
   "cell_type": "markdown",
   "metadata": {
    "colab_type": "text",
    "id": "JFurIVL6EkQ8"
   },
   "source": [
    "## Sigmoid Function\n",
    "\n",
    "![Sigmoid Function](https://upload.wikimedia.org/wikipedia/commons/thumb/8/88/Logistic-curve.svg/480px-Logistic-curve.svg.png)\n",
    "\n",
    "The sigmoid function works great as an activation function! it's continuously differentiable, its derivative doesn't have a constant slope, and having the higher slope in the middle pushes y value predictions towards extremes which is particularly useful for binary classification problems. I mean, this is why we use it as the squishifier in logistic regression as well. It constrains output, but over repeated epochs pushes predictions towards a strong binary prediction. \n",
    "\n",
    "What's the biggest problem with the sigmoid function? The fact that its slope gets pretty flat so quickly after its departure from zero. This means that updating weights based on its gradient really diminishes the size of our weight updates as our model gets more confident about its classifications. This is why even after so many iterations with our test score example we couldn't reach the levels of fit that our gradient descent based model could reach in just a few epochs."
   ]
  },
  {
   "cell_type": "markdown",
   "metadata": {
    "colab_type": "text",
    "id": "hm6p1HWbEhYi"
   },
   "source": [
    "## Tanh Function\n",
    "\n",
    "![Tanh Function](http://mathworld.wolfram.com/images/interactive/TanhReal.gif)\n",
    "\n",
    "What if the sigmoid function didn't get so flat quite as soon when moving away from zero and was a little bit steeper in the middle? That's basically the Tanh function. The Tanh function can actually be created by scaling the sigmoid function by 2 in the y dimension and subtracting 1 from all values. It has basically the same properties as the sigmoid, still struggles from diminishingly flat gradients as we move away from 0, but its derivative is higher around 0 causing weights to move to the extremes a little faster. "
   ]
  },
  {
   "cell_type": "markdown",
   "metadata": {
    "colab_type": "text",
    "id": "sFOn_L6gEcz1"
   },
   "source": [
    "## ReLU Function\n",
    "\n",
    "![ReLU Function](https://cdn-images-1.medium.com/max/937/1*oePAhrm74RNnNEolprmTaQ.png)\n",
    "\n",
    "ReLU stands for Rectified Linear Units it is by far the most commonly used activation function in modern neural networks. It doesn't activate neurons that are being passed a negative signal and passes on positive signals. Think about why this might be useful. Remember how a lot of our initial weights got set to negative numbers by chance? This would have dealt with those negative weights a lot faster than the sigmoid function updating. What does the derivative of this function look like? It looks like the step function! This means that not all neurons are activated. With sigmoid basically all of our neurons are passing some amount of signal even if it's small making it hard for the network to differentiate important and less important connections. ReLU turns off a portion of our less important neurons which decreases computational load, but also helps the network learn what the most important connections are faster. \n",
    "\n",
    "What's the problem with relu? Well the left half of its derivative function shows that for neurons that are initialized with weights that cause them to have no activation, our gradient will not update those neuron's weights, this can lead to dead neurons that never fire and whose weights never get updated. We would probably want to update the weights of neurons that didn't fire even if it's just by a little bit in case we got unlucky with our initial weights and want to give those neurons a chance of turning back on in the future."
   ]
  },
  {
   "cell_type": "markdown",
   "metadata": {
    "colab_type": "text",
    "id": "XWdvWOBIETwk"
   },
   "source": [
    "## Leaky ReLU\n",
    "\n",
    "![Leaky ReLU](https://cdn-images-1.medium.com/max/1600/1*ypsvQH7kvtI2BhzR2eT_Sw.png)\n",
    "\n",
    "Leaky ReLU accomplishes exactly that! it avoids having a gradient of 0 on the left side of its derivative function. This means that even \"dead\" neurons have a chance of being revived over enough iterations. In some specifications the slope of the leaky left-hand side can also be experimented with as a hyperparameter of the model!"
   ]
  },
  {
   "cell_type": "markdown",
   "metadata": {
    "colab_type": "text",
    "id": "FcAxkNFREMFb"
   },
   "source": [
    "## Softmax Function\n",
    "\n",
    "![Softmax Function](https://cdn-images-1.medium.com/max/800/1*670CdxchunD-yAuUWdI7Bw.png)\n",
    "\n",
    "Like the sigmoid function but more useful for multi-class classification problems. The softmax function can take any set of inputs and translate them into probabilities that sum up to 1. This means that we can throw any list of outputs at it and it will translate them into probabilities, this is extremely useful for multi-class classification problems. Like MNIST for example..."
   ]
  },
  {
   "cell_type": "markdown",
   "metadata": {
    "colab_type": "text",
    "id": "23-XRRXKHs34"
   },
   "source": [
    "## Major takeaways\n",
    "\n",
    "- ReLU is generally better at obtaining the optimal model fit.\n",
    "- Sigmoid and its derivatives are usually better at classification problems.\n",
    "- Softmax for multi-class classification problems. \n",
    "\n",
    "You'll typically see ReLU used for all initial layers and then the final layer being sigmoid or softmax for classification problems. But you can experiment and tune these selections as hyperparameters as well!"
   ]
  },
  {
   "cell_type": "markdown",
   "metadata": {
    "colab_type": "text",
    "id": "TWuoXZCCKCI7"
   },
   "source": [
    "## MNIST with Keras \n",
    "\n",
    "### This will be a good chance to bring up dropout regularization. :)"
   ]
  },
  {
   "cell_type": "code",
   "execution_count": 25,
   "metadata": {
    "colab": {},
    "colab_type": "code",
    "id": "jmJ_5azs04pU"
   },
   "outputs": [],
   "source": [
    "### Let's do it!\n",
    "\n",
    "from tensorflow import keras\n",
    "from tensorflow.keras.datasets import mnist\n",
    "from tensorflow.keras.models import Sequential\n",
    "from tensorflow.keras.layers import Dense, Dropout\n",
    "\n",
    "# Stretch - use dropout \n",
    "import numpy as np`"
   ]
  },
  {
   "cell_type": "code",
   "execution_count": 53,
   "metadata": {},
   "outputs": [],
   "source": [
    "# Hyper Parameters\n",
    "batch_size = 64\n",
    "num_classes = 10\n",
    "epochs = 20"
   ]
  },
  {
   "cell_type": "code",
   "execution_count": 32,
   "metadata": {},
   "outputs": [],
   "source": [
    "# Load the Data\n",
    "(X_train, y_train), (X_test, y_test) = mnist.load_data()"
   ]
  },
  {
   "cell_type": "code",
   "execution_count": 33,
   "metadata": {},
   "outputs": [
    {
     "data": {
      "text/plain": [
       "(28, 28)"
      ]
     },
     "execution_count": 33,
     "metadata": {},
     "output_type": "execute_result"
    }
   ],
   "source": [
    "X_train[0].shape"
   ]
  },
  {
   "cell_type": "code",
   "execution_count": 29,
   "metadata": {},
   "outputs": [
    {
     "data": {
      "text/plain": [
       "(60000, 28, 28)"
      ]
     },
     "execution_count": 29,
     "metadata": {},
     "output_type": "execute_result"
    }
   ],
   "source": [
    "X_train.shape"
   ]
  },
  {
   "cell_type": "code",
   "execution_count": 34,
   "metadata": {},
   "outputs": [
    {
     "data": {
      "text/plain": [
       "array([[  0,   0,   0,   0,   0,   0,   0,   0,   0,   0,   0,   0,   0,\n",
       "          0,   0,   0,   0,   0,   0,   0,   0,   0,   0,   0,   0,   0,\n",
       "          0,   0],\n",
       "       [  0,   0,   0,   0,   0,   0,   0,   0,   0,   0,   0,   0,   0,\n",
       "          0,   0,   0,   0,   0,   0,   0,   0,   0,   0,   0,   0,   0,\n",
       "          0,   0],\n",
       "       [  0,   0,   0,   0,   0,   0,   0,   0,   0,   0,   0,   0,   0,\n",
       "          0,   0,   0,   0,   0,   0,   0,   0,   0,   0,   0,   0,   0,\n",
       "          0,   0],\n",
       "       [  0,   0,   0,   0,   0,   0,   0,   0,   0,   0,   0,   0,   0,\n",
       "          0,   0,   0,   0,   0,   0,   0,   0,   0,   0,   0,   0,   0,\n",
       "          0,   0],\n",
       "       [  0,   0,   0,   0,   0,   0,   0,   0,   0,   0,   0,   0,   0,\n",
       "          0,   0,   0,   0,   0,   0,   0,   0,   0,   0,   0,   0,   0,\n",
       "          0,   0],\n",
       "       [  0,   0,   0,   0,   0,   0,   0,   0,   0,   0,   0,   0,   3,\n",
       "         18,  18,  18, 126, 136, 175,  26, 166, 255, 247, 127,   0,   0,\n",
       "          0,   0],\n",
       "       [  0,   0,   0,   0,   0,   0,   0,   0,  30,  36,  94, 154, 170,\n",
       "        253, 253, 253, 253, 253, 225, 172, 253, 242, 195,  64,   0,   0,\n",
       "          0,   0],\n",
       "       [  0,   0,   0,   0,   0,   0,   0,  49, 238, 253, 253, 253, 253,\n",
       "        253, 253, 253, 253, 251,  93,  82,  82,  56,  39,   0,   0,   0,\n",
       "          0,   0],\n",
       "       [  0,   0,   0,   0,   0,   0,   0,  18, 219, 253, 253, 253, 253,\n",
       "        253, 198, 182, 247, 241,   0,   0,   0,   0,   0,   0,   0,   0,\n",
       "          0,   0],\n",
       "       [  0,   0,   0,   0,   0,   0,   0,   0,  80, 156, 107, 253, 253,\n",
       "        205,  11,   0,  43, 154,   0,   0,   0,   0,   0,   0,   0,   0,\n",
       "          0,   0],\n",
       "       [  0,   0,   0,   0,   0,   0,   0,   0,   0,  14,   1, 154, 253,\n",
       "         90,   0,   0,   0,   0,   0,   0,   0,   0,   0,   0,   0,   0,\n",
       "          0,   0],\n",
       "       [  0,   0,   0,   0,   0,   0,   0,   0,   0,   0,   0, 139, 253,\n",
       "        190,   2,   0,   0,   0,   0,   0,   0,   0,   0,   0,   0,   0,\n",
       "          0,   0],\n",
       "       [  0,   0,   0,   0,   0,   0,   0,   0,   0,   0,   0,  11, 190,\n",
       "        253,  70,   0,   0,   0,   0,   0,   0,   0,   0,   0,   0,   0,\n",
       "          0,   0],\n",
       "       [  0,   0,   0,   0,   0,   0,   0,   0,   0,   0,   0,   0,  35,\n",
       "        241, 225, 160, 108,   1,   0,   0,   0,   0,   0,   0,   0,   0,\n",
       "          0,   0],\n",
       "       [  0,   0,   0,   0,   0,   0,   0,   0,   0,   0,   0,   0,   0,\n",
       "         81, 240, 253, 253, 119,  25,   0,   0,   0,   0,   0,   0,   0,\n",
       "          0,   0],\n",
       "       [  0,   0,   0,   0,   0,   0,   0,   0,   0,   0,   0,   0,   0,\n",
       "          0,  45, 186, 253, 253, 150,  27,   0,   0,   0,   0,   0,   0,\n",
       "          0,   0],\n",
       "       [  0,   0,   0,   0,   0,   0,   0,   0,   0,   0,   0,   0,   0,\n",
       "          0,   0,  16,  93, 252, 253, 187,   0,   0,   0,   0,   0,   0,\n",
       "          0,   0],\n",
       "       [  0,   0,   0,   0,   0,   0,   0,   0,   0,   0,   0,   0,   0,\n",
       "          0,   0,   0,   0, 249, 253, 249,  64,   0,   0,   0,   0,   0,\n",
       "          0,   0],\n",
       "       [  0,   0,   0,   0,   0,   0,   0,   0,   0,   0,   0,   0,   0,\n",
       "          0,  46, 130, 183, 253, 253, 207,   2,   0,   0,   0,   0,   0,\n",
       "          0,   0],\n",
       "       [  0,   0,   0,   0,   0,   0,   0,   0,   0,   0,   0,   0,  39,\n",
       "        148, 229, 253, 253, 253, 250, 182,   0,   0,   0,   0,   0,   0,\n",
       "          0,   0],\n",
       "       [  0,   0,   0,   0,   0,   0,   0,   0,   0,   0,  24, 114, 221,\n",
       "        253, 253, 253, 253, 201,  78,   0,   0,   0,   0,   0,   0,   0,\n",
       "          0,   0],\n",
       "       [  0,   0,   0,   0,   0,   0,   0,   0,  23,  66, 213, 253, 253,\n",
       "        253, 253, 198,  81,   2,   0,   0,   0,   0,   0,   0,   0,   0,\n",
       "          0,   0],\n",
       "       [  0,   0,   0,   0,   0,   0,  18, 171, 219, 253, 253, 253, 253,\n",
       "        195,  80,   9,   0,   0,   0,   0,   0,   0,   0,   0,   0,   0,\n",
       "          0,   0],\n",
       "       [  0,   0,   0,   0,  55, 172, 226, 253, 253, 253, 253, 244, 133,\n",
       "         11,   0,   0,   0,   0,   0,   0,   0,   0,   0,   0,   0,   0,\n",
       "          0,   0],\n",
       "       [  0,   0,   0,   0, 136, 253, 253, 253, 212, 135, 132,  16,   0,\n",
       "          0,   0,   0,   0,   0,   0,   0,   0,   0,   0,   0,   0,   0,\n",
       "          0,   0],\n",
       "       [  0,   0,   0,   0,   0,   0,   0,   0,   0,   0,   0,   0,   0,\n",
       "          0,   0,   0,   0,   0,   0,   0,   0,   0,   0,   0,   0,   0,\n",
       "          0,   0],\n",
       "       [  0,   0,   0,   0,   0,   0,   0,   0,   0,   0,   0,   0,   0,\n",
       "          0,   0,   0,   0,   0,   0,   0,   0,   0,   0,   0,   0,   0,\n",
       "          0,   0],\n",
       "       [  0,   0,   0,   0,   0,   0,   0,   0,   0,   0,   0,   0,   0,\n",
       "          0,   0,   0,   0,   0,   0,   0,   0,   0,   0,   0,   0,   0,\n",
       "          0,   0]], dtype=uint8)"
      ]
     },
     "execution_count": 34,
     "metadata": {},
     "output_type": "execute_result"
    }
   ],
   "source": [
    "X_train[0]"
   ]
  },
  {
   "cell_type": "code",
   "execution_count": 43,
   "metadata": {},
   "outputs": [],
   "source": [
    "# Reshape the data\n",
    "X_train = X_train.reshape(60000, 784)\n",
    "X_test = X_test.reshape(10000, 784)"
   ]
  },
  {
   "cell_type": "code",
   "execution_count": 44,
   "metadata": {},
   "outputs": [],
   "source": [
    "# X Variable Types\n",
    "X_train = X_train.astype('float32')\n",
    "X_test = X_test.astype('float32')"
   ]
  },
  {
   "cell_type": "code",
   "execution_count": 36,
   "metadata": {},
   "outputs": [
    {
     "data": {
      "text/plain": [
       "5"
      ]
     },
     "execution_count": 36,
     "metadata": {},
     "output_type": "execute_result"
    }
   ],
   "source": [
    "y_train[0] "
   ]
  },
  {
   "cell_type": "code",
   "execution_count": 45,
   "metadata": {},
   "outputs": [],
   "source": [
    "# Correct Encoding on Y\n",
    "# What softmax expects = [0,0,0,0,0,1,0,0,0,0]\n",
    "\n",
    "y_train = keras.utils.to_categorical(y_train, num_classes)\n",
    "y_test = keras.utils.to_categorical(y_test, num_classes)"
   ]
  },
  {
   "cell_type": "code",
   "execution_count": 54,
   "metadata": {},
   "outputs": [
    {
     "name": "stdout",
     "output_type": "stream",
     "text": [
      "Model: \"sequential_6\"\n",
      "_________________________________________________________________\n",
      "Layer (type)                 Output Shape              Param #   \n",
      "=================================================================\n",
      "dense_12 (Dense)             (None, 16)                12560     \n",
      "_________________________________________________________________\n",
      "dense_13 (Dense)             (None, 16)                272       \n",
      "_________________________________________________________________\n",
      "dense_14 (Dense)             (None, 10)                170       \n",
      "=================================================================\n",
      "Total params: 13,002\n",
      "Trainable params: 13,002\n",
      "Non-trainable params: 0\n",
      "_________________________________________________________________\n"
     ]
    }
   ],
   "source": [
    "mnist_model = Sequential()\n",
    "\n",
    "# Input => Hidden\n",
    "mnist_model.add(Dense(16, input_dim=784, activation='relu'))\n",
    "# Hidden\n",
    "mnist_model.add(Dense(16, activation='relu')) \n",
    "# Output\n",
    "mnist_model.add(Dense(10,activation='softmax'))\n",
    "\n",
    "#Compile\n",
    "mnist_model.compile(loss='categorical_crossentropy',\n",
    "                    optimizer='adam',\n",
    "                    metrics=['accuracy'])\n",
    "\n",
    "mnist_model.summary()"
   ]
  },
  {
   "cell_type": "code",
   "execution_count": 51,
   "metadata": {},
   "outputs": [
    {
     "data": {
      "text/plain": [
       "(10000, 10, 10)"
      ]
     },
     "execution_count": 51,
     "metadata": {},
     "output_type": "execute_result"
    }
   ],
   "source": [
    "y_test.shape"
   ]
  },
  {
   "cell_type": "code",
   "execution_count": 58,
   "metadata": {},
   "outputs": [
    {
     "name": "stdout",
     "output_type": "stream",
     "text": [
      "Epoch 1/20\n"
     ]
    },
    {
     "ename": "InvalidArgumentError",
     "evalue": "Incompatible shapes: [32,10] vs. [32]\n\t [[{{node metrics_10/acc/Equal}}]]",
     "output_type": "error",
     "traceback": [
      "\u001b[0;31m---------------------------------------------------------------------------\u001b[0m",
      "\u001b[0;31mInvalidArgumentError\u001b[0m                      Traceback (most recent call last)",
      "\u001b[0;32m<ipython-input-58-e171ff419c70>\u001b[0m in \u001b[0;36m<module>\u001b[0;34m\u001b[0m\n\u001b[0;32m----> 1\u001b[0;31m \u001b[0mhistory\u001b[0m \u001b[0;34m=\u001b[0m \u001b[0mmnist_model\u001b[0m\u001b[0;34m.\u001b[0m\u001b[0mfit\u001b[0m\u001b[0;34m(\u001b[0m\u001b[0mX_train\u001b[0m\u001b[0;34m,\u001b[0m \u001b[0my_train\u001b[0m\u001b[0;34m,\u001b[0m \u001b[0mbatch_size\u001b[0m\u001b[0;34m=\u001b[0m\u001b[0;36m32\u001b[0m\u001b[0;34m,\u001b[0m \u001b[0mepochs\u001b[0m\u001b[0;34m=\u001b[0m\u001b[0mepochs\u001b[0m\u001b[0;34m)\u001b[0m\u001b[0;34m\u001b[0m\u001b[0;34m\u001b[0m\u001b[0m\n\u001b[0m\u001b[1;32m      2\u001b[0m \u001b[0mscores\u001b[0m \u001b[0;34m=\u001b[0m \u001b[0mmnist_model\u001b[0m\u001b[0;34m.\u001b[0m\u001b[0mevaluate\u001b[0m\u001b[0;34m(\u001b[0m\u001b[0mX_test\u001b[0m\u001b[0;34m,\u001b[0m \u001b[0my_test\u001b[0m\u001b[0;34m)\u001b[0m\u001b[0;34m\u001b[0m\u001b[0;34m\u001b[0m\u001b[0m\n\u001b[1;32m      3\u001b[0m \u001b[0;31m#print(f'{mnist_model.metrics_names[1]}: {scores[1]*100}')\u001b[0m\u001b[0;34m\u001b[0m\u001b[0;34m\u001b[0m\u001b[0;34m\u001b[0m\u001b[0m\n",
      "\u001b[0;32m~/anaconda3/envs/U4-S2-NNF/lib/python3.7/site-packages/tensorflow/python/keras/engine/training.py\u001b[0m in \u001b[0;36mfit\u001b[0;34m(self, x, y, batch_size, epochs, verbose, callbacks, validation_split, validation_data, shuffle, class_weight, sample_weight, initial_epoch, steps_per_epoch, validation_steps, validation_freq, max_queue_size, workers, use_multiprocessing, **kwargs)\u001b[0m\n\u001b[1;32m    778\u001b[0m           \u001b[0mvalidation_steps\u001b[0m\u001b[0;34m=\u001b[0m\u001b[0mvalidation_steps\u001b[0m\u001b[0;34m,\u001b[0m\u001b[0;34m\u001b[0m\u001b[0;34m\u001b[0m\u001b[0m\n\u001b[1;32m    779\u001b[0m           \u001b[0mvalidation_freq\u001b[0m\u001b[0;34m=\u001b[0m\u001b[0mvalidation_freq\u001b[0m\u001b[0;34m,\u001b[0m\u001b[0;34m\u001b[0m\u001b[0;34m\u001b[0m\u001b[0m\n\u001b[0;32m--> 780\u001b[0;31m           steps_name='steps_per_epoch')\n\u001b[0m\u001b[1;32m    781\u001b[0m \u001b[0;34m\u001b[0m\u001b[0m\n\u001b[1;32m    782\u001b[0m   def evaluate(self,\n",
      "\u001b[0;32m~/anaconda3/envs/U4-S2-NNF/lib/python3.7/site-packages/tensorflow/python/keras/engine/training_arrays.py\u001b[0m in \u001b[0;36mmodel_iteration\u001b[0;34m(model, inputs, targets, sample_weights, batch_size, epochs, verbose, callbacks, val_inputs, val_targets, val_sample_weights, shuffle, initial_epoch, steps_per_epoch, validation_steps, validation_freq, mode, validation_in_fit, prepared_feed_values_from_dataset, steps_name, **kwargs)\u001b[0m\n\u001b[1;32m    361\u001b[0m \u001b[0;34m\u001b[0m\u001b[0m\n\u001b[1;32m    362\u001b[0m         \u001b[0;31m# Get outputs.\u001b[0m\u001b[0;34m\u001b[0m\u001b[0;34m\u001b[0m\u001b[0;34m\u001b[0m\u001b[0m\n\u001b[0;32m--> 363\u001b[0;31m         \u001b[0mbatch_outs\u001b[0m \u001b[0;34m=\u001b[0m \u001b[0mf\u001b[0m\u001b[0;34m(\u001b[0m\u001b[0mins_batch\u001b[0m\u001b[0;34m)\u001b[0m\u001b[0;34m\u001b[0m\u001b[0;34m\u001b[0m\u001b[0m\n\u001b[0m\u001b[1;32m    364\u001b[0m         \u001b[0;32mif\u001b[0m \u001b[0;32mnot\u001b[0m \u001b[0misinstance\u001b[0m\u001b[0;34m(\u001b[0m\u001b[0mbatch_outs\u001b[0m\u001b[0;34m,\u001b[0m \u001b[0mlist\u001b[0m\u001b[0;34m)\u001b[0m\u001b[0;34m:\u001b[0m\u001b[0;34m\u001b[0m\u001b[0;34m\u001b[0m\u001b[0m\n\u001b[1;32m    365\u001b[0m           \u001b[0mbatch_outs\u001b[0m \u001b[0;34m=\u001b[0m \u001b[0;34m[\u001b[0m\u001b[0mbatch_outs\u001b[0m\u001b[0;34m]\u001b[0m\u001b[0;34m\u001b[0m\u001b[0;34m\u001b[0m\u001b[0m\n",
      "\u001b[0;32m~/anaconda3/envs/U4-S2-NNF/lib/python3.7/site-packages/tensorflow/python/keras/backend.py\u001b[0m in \u001b[0;36m__call__\u001b[0;34m(self, inputs)\u001b[0m\n\u001b[1;32m   3290\u001b[0m \u001b[0;34m\u001b[0m\u001b[0m\n\u001b[1;32m   3291\u001b[0m     fetched = self._callable_fn(*array_vals,\n\u001b[0;32m-> 3292\u001b[0;31m                                 run_metadata=self.run_metadata)\n\u001b[0m\u001b[1;32m   3293\u001b[0m     \u001b[0mself\u001b[0m\u001b[0;34m.\u001b[0m\u001b[0m_call_fetch_callbacks\u001b[0m\u001b[0;34m(\u001b[0m\u001b[0mfetched\u001b[0m\u001b[0;34m[\u001b[0m\u001b[0;34m-\u001b[0m\u001b[0mlen\u001b[0m\u001b[0;34m(\u001b[0m\u001b[0mself\u001b[0m\u001b[0;34m.\u001b[0m\u001b[0m_fetches\u001b[0m\u001b[0;34m)\u001b[0m\u001b[0;34m:\u001b[0m\u001b[0;34m]\u001b[0m\u001b[0;34m)\u001b[0m\u001b[0;34m\u001b[0m\u001b[0;34m\u001b[0m\u001b[0m\n\u001b[1;32m   3294\u001b[0m     output_structure = nest.pack_sequence_as(\n",
      "\u001b[0;32m~/anaconda3/envs/U4-S2-NNF/lib/python3.7/site-packages/tensorflow/python/client/session.py\u001b[0m in \u001b[0;36m__call__\u001b[0;34m(self, *args, **kwargs)\u001b[0m\n\u001b[1;32m   1456\u001b[0m         ret = tf_session.TF_SessionRunCallable(self._session._session,\n\u001b[1;32m   1457\u001b[0m                                                \u001b[0mself\u001b[0m\u001b[0;34m.\u001b[0m\u001b[0m_handle\u001b[0m\u001b[0;34m,\u001b[0m \u001b[0margs\u001b[0m\u001b[0;34m,\u001b[0m\u001b[0;34m\u001b[0m\u001b[0;34m\u001b[0m\u001b[0m\n\u001b[0;32m-> 1458\u001b[0;31m                                                run_metadata_ptr)\n\u001b[0m\u001b[1;32m   1459\u001b[0m         \u001b[0;32mif\u001b[0m \u001b[0mrun_metadata\u001b[0m\u001b[0;34m:\u001b[0m\u001b[0;34m\u001b[0m\u001b[0;34m\u001b[0m\u001b[0m\n\u001b[1;32m   1460\u001b[0m           \u001b[0mproto_data\u001b[0m \u001b[0;34m=\u001b[0m \u001b[0mtf_session\u001b[0m\u001b[0;34m.\u001b[0m\u001b[0mTF_GetBuffer\u001b[0m\u001b[0;34m(\u001b[0m\u001b[0mrun_metadata_ptr\u001b[0m\u001b[0;34m)\u001b[0m\u001b[0;34m\u001b[0m\u001b[0;34m\u001b[0m\u001b[0m\n",
      "\u001b[0;31mInvalidArgumentError\u001b[0m: Incompatible shapes: [32,10] vs. [32]\n\t [[{{node metrics_10/acc/Equal}}]]"
     ]
    }
   ],
   "source": [
    "history = mnist_model.fit(X_train, y_train, batch_size=32, epochs=epochs)\n",
    "scores = mnist_model.evaluate(X_test, y_test)\n",
    "#print(f'{mnist_model.metrics_names[1]}: {scores[1]*100}')"
   ]
  },
  {
   "cell_type": "markdown",
   "metadata": {
    "colab_type": "text",
    "id": "CKmx8153w9Ci"
   },
   "source": [
    "## What if we use dropout techniques to prevent overfitting? How does that affect our model?\n",
    "\n",
    "![Regularization](https://upload.wikimedia.org/wikipedia/commons/thumb/0/02/Regularization.svg/354px-Regularization.svg.png)"
   ]
  },
  {
   "cell_type": "code",
   "execution_count": null,
   "metadata": {},
   "outputs": [],
   "source": [
    "### Let's do it!\n",
    "from tensorflow import keras \n",
    "from tensorflow.keras.datasets import mnist\n",
    "from tensorflow.keras.models import Sequential\n",
    "from tensorflow.keras.layers import Dense, Dropout\n",
    "\n",
    "import numpy as np\n",
    "\n",
    "mnist_model = Sequential()\n",
    "\n",
    "# Hidden\n",
    "mnist_model.add(Dense(32, input_dim=784, activation='relu'))\n",
    "mnist_model.add(Dropout(0.2))\n",
    "mnist_model.add(Dense(16, activation='relu'))\n",
    "mnist_model.add(Dropout(0.2))\n",
    "# Output Layer\n",
    "mnist_model.add(Dense(10, activation='softmax'))\n",
    "\n",
    "mnist_model.compile(loss='categorical_crossentropy',\n",
    "                    optimizer='adam', \n",
    "                    metrics=['accuracy'])\n",
    "mnist_model.summary()"
   ]
  },
  {
   "cell_type": "code",
   "execution_count": null,
   "metadata": {},
   "outputs": [],
   "source": [
    "history = mnist_model.fit(X_train, y_train, batch_size=32, epochs=epochs, validation_split=.1, verbose=0)\n",
    "scores = mnist_model.evaluate(X_test, y_test)\n",
    "print(f'{mnist_model.metrics_names[1]}: {scores[1]*100}')"
   ]
  }
 ],
 "metadata": {
  "colab": {
   "collapsed_sections": [],
   "name": "LS_DS_433_Keras_Lecture.ipynb",
   "provenance": [],
   "version": "0.3.2"
  },
  "kernelspec": {
   "display_name": "Python 3",
   "language": "python",
   "name": "python3"
  },
  "language_info": {
   "codemirror_mode": {
    "name": "ipython",
    "version": 3
   },
   "file_extension": ".py",
   "mimetype": "text/x-python",
   "name": "python",
   "nbconvert_exporter": "python",
   "pygments_lexer": "ipython3",
   "version": "3.7.3"
  }
 },
 "nbformat": 4,
 "nbformat_minor": 2
}
