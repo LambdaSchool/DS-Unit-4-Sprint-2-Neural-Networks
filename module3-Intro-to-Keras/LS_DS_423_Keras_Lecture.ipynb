{
 "cells": [
  {
   "cell_type": "markdown",
   "metadata": {
    "colab_type": "text",
    "id": "HJzTIkYAsLxw"
   },
   "source": [
    "Lambda School Data Science\n",
    "\n",
    "*Unit 4, Sprint 2, Module 3*\n",
    "\n",
    "---"
   ]
  },
  {
   "cell_type": "markdown",
   "metadata": {
    "colab_type": "text",
    "id": "HJzTIkYAsLxw"
   },
   "source": [
    "# Neural Network Frameworks (Prepare)"
   ]
  },
  {
   "cell_type": "markdown",
   "metadata": {
    "colab_type": "text",
    "id": "HJzTIkYAsLxw"
   },
   "source": [
    "## Learning Objectives\n",
    "* <a href=\"#p1\">Part 1</a>: Introduce the Keras Sequential Model API\n",
    "* <a href=\"#p2\">Part 2</a>: Learn How to Select Model Architecture \n",
    "* <a href=\"#p3\">Part 3</a>: Discuss the trade-off between various activation functions\n",
    "* <a href=\"#p4\">Part 4</a>: Regularization Strategies\n",
    "\n",
    "## Lets Use Libraries!\n",
    "\n",
    "The objective of the last two days has been to familiarize you with the fundamentals of neural networks: terminology, structure of networks, forward propagation, error/cost functions, backpropagation, epochs, and gradient descent. We have tried to reinforce these topics by requiring to you code some of the simplest neural networks by hand including Perceptrons (single node neural networks) and Multi-Layer Perceptrons also known as Feed-Forward Neural Networks. Continuing to do things by hand would not be the best use of our limited time. You're ready to graduate from doing things by hand and start using some powerful libraries to build cutting-edge predictive models. "
   ]
  },
  {
   "cell_type": "markdown",
   "metadata": {},
   "source": [
    "# Keras Sequential API (Learn)"
   ]
  },
  {
   "cell_type": "markdown",
   "metadata": {
    "toc-hr-collapsed": true
   },
   "source": [
    "## Overview\n",
    "\n",
    "> \"Keras is a high-level neural networks API, written in Python and capable of running on top of TensorFlow, CNTK, or Theano. It was developed with a focus on enabling fast experimentation. Being able to go from idea to result with the least possible delay is key to doing good research. Use Keras if you need a deep learning library that:\n",
    "\n",
    "> Allows for easy and fast prototyping (through user friendliness, modularity, and extensibility).\n",
    "Supports both convolutional networks and recurrent networks, as well as combinations of the two.\n",
    "Runs seamlessly on CPU and GPU.\" "
   ]
  },
  {
   "cell_type": "markdown",
   "metadata": {
    "colab_type": "text",
    "id": "AIJoRBxHy27n"
   },
   "source": [
    "### Keras Perceptron Sample"
   ]
  },
  {
   "cell_type": "code",
   "execution_count": 1,
   "metadata": {},
   "outputs": [],
   "source": [
    "import pandas as pd\n",
    "\n",
    "data = { 'x1': [0,1,0,1],\n",
    "         'x2': [0,0,1,1],\n",
    "         'y':  [1,1,1,0]\n",
    "       }\n",
    "\n",
    "df = pd.DataFrame.from_dict(data).astype('int')\n",
    "X = df[['x1', 'x2']].values\n",
    "y = df['y'].values"
   ]
  },
  {
   "cell_type": "code",
   "execution_count": 2,
   "metadata": {
    "colab": {
     "base_uri": "https://localhost:8080/",
     "height": 5216
    },
    "colab_type": "code",
    "id": "TQxyONqKvFxB",
    "outputId": "12966e66-2297-4f82-85b3-c275a9c38563"
   },
   "outputs": [
    {
     "name": "stderr",
     "output_type": "stream",
     "text": [
      "WARNING: Logging before flag parsing goes to stderr.\n",
      "W0416 10:27:03.043085 139856158365504 deprecation.py:506] From /home/ivan/anaconda3/envs/Unit4Sprint2/lib/python3.7/site-packages/tensorflow/python/ops/init_ops.py:1251: calling VarianceScaling.__init__ (from tensorflow.python.ops.init_ops) with dtype is deprecated and will be removed in a future version.\n",
      "Instructions for updating:\n",
      "Call initializer instance with the dtype argument instead of passing it to the constructor\n"
     ]
    },
    {
     "name": "stdout",
     "output_type": "stream",
     "text": [
      "Epoch 1/20\n",
      "4/4 [==============================] - 0s 22ms/sample - loss: 0.3041 - acc: 0.2500\n",
      "Epoch 2/20\n",
      "4/4 [==============================] - 0s 365us/sample - loss: 0.3037 - acc: 0.2500\n",
      "Epoch 3/20\n",
      "4/4 [==============================] - 0s 480us/sample - loss: 0.3034 - acc: 0.2500\n",
      "Epoch 4/20\n",
      "4/4 [==============================] - 0s 453us/sample - loss: 0.3030 - acc: 0.2500\n",
      "Epoch 5/20\n",
      "4/4 [==============================] - 0s 394us/sample - loss: 0.3027 - acc: 0.2500\n",
      "Epoch 6/20\n",
      "4/4 [==============================] - 0s 475us/sample - loss: 0.3024 - acc: 0.2500\n",
      "Epoch 7/20\n",
      "4/4 [==============================] - 0s 472us/sample - loss: 0.3020 - acc: 0.2500\n",
      "Epoch 8/20\n",
      "4/4 [==============================] - 0s 567us/sample - loss: 0.3017 - acc: 0.2500\n",
      "Epoch 9/20\n",
      "4/4 [==============================] - 0s 487us/sample - loss: 0.3013 - acc: 0.2500\n",
      "Epoch 10/20\n",
      "4/4 [==============================] - 0s 418us/sample - loss: 0.3010 - acc: 0.2500\n",
      "Epoch 11/20\n",
      "4/4 [==============================] - 0s 423us/sample - loss: 0.3007 - acc: 0.2500\n",
      "Epoch 12/20\n",
      "4/4 [==============================] - 0s 866us/sample - loss: 0.3003 - acc: 0.2500\n",
      "Epoch 13/20\n",
      "4/4 [==============================] - 0s 604us/sample - loss: 0.3000 - acc: 0.2500\n",
      "Epoch 14/20\n",
      "4/4 [==============================] - 0s 396us/sample - loss: 0.2996 - acc: 0.2500\n",
      "Epoch 15/20\n",
      "4/4 [==============================] - 0s 539us/sample - loss: 0.2993 - acc: 0.2500\n",
      "Epoch 16/20\n",
      "4/4 [==============================] - 0s 397us/sample - loss: 0.2990 - acc: 0.2500\n",
      "Epoch 17/20\n",
      "4/4 [==============================] - 0s 415us/sample - loss: 0.2986 - acc: 0.2500\n",
      "Epoch 18/20\n",
      "4/4 [==============================] - 0s 610us/sample - loss: 0.2983 - acc: 0.2500\n",
      "Epoch 19/20\n",
      "4/4 [==============================] - 0s 464us/sample - loss: 0.2980 - acc: 0.2500\n",
      "Epoch 20/20\n",
      "4/4 [==============================] - 0s 868us/sample - loss: 0.2976 - acc: 0.2500\n"
     ]
    },
    {
     "data": {
      "text/plain": [
       "<tensorflow.python.keras.callbacks.History at 0x7f3288fc1128>"
      ]
     },
     "execution_count": 2,
     "metadata": {},
     "output_type": "execute_result"
    }
   ],
   "source": [
    "from tensorflow.keras.models import Sequential\n",
    "from tensorflow.keras.layers import Dense\n",
    "\n",
    "# This is our perceptron from Monday's by-hand: \n",
    "model = Sequential()\n",
    "model.add(Dense(2,input_dim=2, activation='sigmoid'))\n",
    "model.add(Dense(1, activation='sigmoid'))\n",
    "model.compile(loss='mse', optimizer='adam', metrics=['accuracy'])\n",
    "model.fit(X,y, epochs=20)"
   ]
  },
  {
   "cell_type": "code",
   "execution_count": 3,
   "metadata": {
    "colab": {
     "base_uri": "https://localhost:8080/",
     "height": 69
    },
    "colab_type": "code",
    "id": "Z1wfKUxszPKa",
    "outputId": "0cdacd1d-6e5a-4bbe-fabb-568cd94724be"
   },
   "outputs": [
    {
     "name": "stdout",
     "output_type": "stream",
     "text": [
      "4/4 [==============================] - 0s 7ms/sample - loss: 0.2973 - acc: 0.2500\n",
      "acc: 25.0\n"
     ]
    }
   ],
   "source": [
    "# evaluate the model\n",
    "scores = model.evaluate(X, y)\n",
    "print(f\"{model.metrics_names[1]}: {scores[1]*100}\")"
   ]
  },
  {
   "cell_type": "code",
   "execution_count": 4,
   "metadata": {},
   "outputs": [
    {
     "name": "stdout",
     "output_type": "stream",
     "text": [
      "Model: \"sequential\"\n",
      "_________________________________________________________________\n",
      "Layer (type)                 Output Shape              Param #   \n",
      "=================================================================\n",
      "dense (Dense)                (None, 2)                 6         \n",
      "_________________________________________________________________\n",
      "dense_1 (Dense)              (None, 1)                 3         \n",
      "=================================================================\n",
      "Total params: 9\n",
      "Trainable params: 9\n",
      "Non-trainable params: 0\n",
      "_________________________________________________________________\n"
     ]
    }
   ],
   "source": [
    "model.summary()"
   ]
  },
  {
   "cell_type": "markdown",
   "metadata": {
    "toc-hr-collapsed": true
   },
   "source": [
    "## Follow Along\n",
    "\n",
    "In the `Sequential` api model, you specify a model architecture by 'sequentially specifying layers. This type of specification works well for feed forward neural networks in which the data flows in one direction (forward propagation) and the error flows in the opposite direction (backwards propagation). The Keras `Sequential` API follows a standardarized worklow to estimate a 'net: \n",
    "\n",
    "1. Load Data\n",
    "2. Define Model\n",
    "3. Compile Model\n",
    "4. Fit Model\n",
    "5. Evaluate Model\n",
    "\n",
    "You saw these steps in our Keras Perceptron Sample, but let's walk thru each step in detail."
   ]
  },
  {
   "cell_type": "markdown",
   "metadata": {
    "colab_type": "text",
    "id": "Md5D67XwqVAf",
    "toc-hr-collapsed": false
   },
   "source": [
    "### Load Data\n",
    "\n",
    "Our life is going to be easier if our data is already cleaned up and numeric, so lets use this dataset from Jason Brownlee that is already numeric and has no column headers so we'll need to slice off the last column of data to act as our y values."
   ]
  },
  {
   "cell_type": "code",
   "execution_count": 5,
   "metadata": {
    "colab": {
     "base_uri": "https://localhost:8080/",
     "height": 109,
     "resources": {
      "http://localhost:8080/nbextensions/google.colab/files.js": {
       "data": "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",
       "headers": [
        [
         "content-type",
         "application/javascript"
        ]
       ],
       "ok": true,
       "status": 200,
       "status_text": ""
      }
     }
    },
    "colab_type": "code",
    "id": "bn09phMBpY1J",
    "outputId": "1c45fb6a-e3cb-4ec1-fb85-de52b3c60bae"
   },
   "outputs": [],
   "source": [
    "from tensorflow import keras\n",
    "from tensorflow.keras.datasets import mnist\n",
    "from tensorflow.keras.models import Sequential\n",
    "from tensorflow.keras.layers import Dense, Dropout\n",
    "\n",
    "# Stretch - use dropout \n",
    "import numpy as np"
   ]
  },
  {
   "cell_type": "code",
   "execution_count": 6,
   "metadata": {},
   "outputs": [],
   "source": [
    "# Load the Data\n",
    "(X_train, y_train), (X_test, y_test) = mnist.load_data()"
   ]
  },
  {
   "cell_type": "code",
   "execution_count": 7,
   "metadata": {},
   "outputs": [
    {
     "data": {
      "text/plain": [
       "(28, 28)"
      ]
     },
     "execution_count": 7,
     "metadata": {},
     "output_type": "execute_result"
    }
   ],
   "source": [
    "X_train[0].shape"
   ]
  },
  {
   "cell_type": "code",
   "execution_count": 8,
   "metadata": {},
   "outputs": [
    {
     "data": {
      "text/plain": [
       "(60000, 28, 28)"
      ]
     },
     "execution_count": 8,
     "metadata": {},
     "output_type": "execute_result"
    }
   ],
   "source": [
    "X_train.shape"
   ]
  },
  {
   "cell_type": "code",
   "execution_count": 9,
   "metadata": {},
   "outputs": [
    {
     "data": {
      "text/plain": [
       "array([[  0,   0,   0,   0,   0,   0,   0,   0,   0,   0,   0,   0,   0,\n",
       "          0,   0,   0,   0,   0,   0,   0,   0,   0,   0,   0,   0,   0,\n",
       "          0,   0],\n",
       "       [  0,   0,   0,   0,   0,   0,   0,   0,   0,   0,   0,   0,   0,\n",
       "          0,   0,   0,   0,   0,   0,   0,   0,   0,   0,   0,   0,   0,\n",
       "          0,   0],\n",
       "       [  0,   0,   0,   0,   0,   0,   0,   0,   0,   0,   0,   0,   0,\n",
       "          0,   0,   0,   0,   0,   0,   0,   0,   0,   0,   0,   0,   0,\n",
       "          0,   0],\n",
       "       [  0,   0,   0,   0,   0,   0,   0,   0,   0,   0,   0,   0,   0,\n",
       "          0,   0,   0,   0,   0,   0,   0,   0,   0,   0,   0,   0,   0,\n",
       "          0,   0],\n",
       "       [  0,   0,   0,   0,   0,   0,   0,   0,   0,   0,   0,   0,   0,\n",
       "          0,   0,   0,   0,   0,   0,   0,   0,   0,   0,   0,   0,   0,\n",
       "          0,   0],\n",
       "       [  0,   0,   0,   0,   0,   0,   0,   0,   0,   0,   0,   0,   3,\n",
       "         18,  18,  18, 126, 136, 175,  26, 166, 255, 247, 127,   0,   0,\n",
       "          0,   0],\n",
       "       [  0,   0,   0,   0,   0,   0,   0,   0,  30,  36,  94, 154, 170,\n",
       "        253, 253, 253, 253, 253, 225, 172, 253, 242, 195,  64,   0,   0,\n",
       "          0,   0],\n",
       "       [  0,   0,   0,   0,   0,   0,   0,  49, 238, 253, 253, 253, 253,\n",
       "        253, 253, 253, 253, 251,  93,  82,  82,  56,  39,   0,   0,   0,\n",
       "          0,   0],\n",
       "       [  0,   0,   0,   0,   0,   0,   0,  18, 219, 253, 253, 253, 253,\n",
       "        253, 198, 182, 247, 241,   0,   0,   0,   0,   0,   0,   0,   0,\n",
       "          0,   0],\n",
       "       [  0,   0,   0,   0,   0,   0,   0,   0,  80, 156, 107, 253, 253,\n",
       "        205,  11,   0,  43, 154,   0,   0,   0,   0,   0,   0,   0,   0,\n",
       "          0,   0],\n",
       "       [  0,   0,   0,   0,   0,   0,   0,   0,   0,  14,   1, 154, 253,\n",
       "         90,   0,   0,   0,   0,   0,   0,   0,   0,   0,   0,   0,   0,\n",
       "          0,   0],\n",
       "       [  0,   0,   0,   0,   0,   0,   0,   0,   0,   0,   0, 139, 253,\n",
       "        190,   2,   0,   0,   0,   0,   0,   0,   0,   0,   0,   0,   0,\n",
       "          0,   0],\n",
       "       [  0,   0,   0,   0,   0,   0,   0,   0,   0,   0,   0,  11, 190,\n",
       "        253,  70,   0,   0,   0,   0,   0,   0,   0,   0,   0,   0,   0,\n",
       "          0,   0],\n",
       "       [  0,   0,   0,   0,   0,   0,   0,   0,   0,   0,   0,   0,  35,\n",
       "        241, 225, 160, 108,   1,   0,   0,   0,   0,   0,   0,   0,   0,\n",
       "          0,   0],\n",
       "       [  0,   0,   0,   0,   0,   0,   0,   0,   0,   0,   0,   0,   0,\n",
       "         81, 240, 253, 253, 119,  25,   0,   0,   0,   0,   0,   0,   0,\n",
       "          0,   0],\n",
       "       [  0,   0,   0,   0,   0,   0,   0,   0,   0,   0,   0,   0,   0,\n",
       "          0,  45, 186, 253, 253, 150,  27,   0,   0,   0,   0,   0,   0,\n",
       "          0,   0],\n",
       "       [  0,   0,   0,   0,   0,   0,   0,   0,   0,   0,   0,   0,   0,\n",
       "          0,   0,  16,  93, 252, 253, 187,   0,   0,   0,   0,   0,   0,\n",
       "          0,   0],\n",
       "       [  0,   0,   0,   0,   0,   0,   0,   0,   0,   0,   0,   0,   0,\n",
       "          0,   0,   0,   0, 249, 253, 249,  64,   0,   0,   0,   0,   0,\n",
       "          0,   0],\n",
       "       [  0,   0,   0,   0,   0,   0,   0,   0,   0,   0,   0,   0,   0,\n",
       "          0,  46, 130, 183, 253, 253, 207,   2,   0,   0,   0,   0,   0,\n",
       "          0,   0],\n",
       "       [  0,   0,   0,   0,   0,   0,   0,   0,   0,   0,   0,   0,  39,\n",
       "        148, 229, 253, 253, 253, 250, 182,   0,   0,   0,   0,   0,   0,\n",
       "          0,   0],\n",
       "       [  0,   0,   0,   0,   0,   0,   0,   0,   0,   0,  24, 114, 221,\n",
       "        253, 253, 253, 253, 201,  78,   0,   0,   0,   0,   0,   0,   0,\n",
       "          0,   0],\n",
       "       [  0,   0,   0,   0,   0,   0,   0,   0,  23,  66, 213, 253, 253,\n",
       "        253, 253, 198,  81,   2,   0,   0,   0,   0,   0,   0,   0,   0,\n",
       "          0,   0],\n",
       "       [  0,   0,   0,   0,   0,   0,  18, 171, 219, 253, 253, 253, 253,\n",
       "        195,  80,   9,   0,   0,   0,   0,   0,   0,   0,   0,   0,   0,\n",
       "          0,   0],\n",
       "       [  0,   0,   0,   0,  55, 172, 226, 253, 253, 253, 253, 244, 133,\n",
       "         11,   0,   0,   0,   0,   0,   0,   0,   0,   0,   0,   0,   0,\n",
       "          0,   0],\n",
       "       [  0,   0,   0,   0, 136, 253, 253, 253, 212, 135, 132,  16,   0,\n",
       "          0,   0,   0,   0,   0,   0,   0,   0,   0,   0,   0,   0,   0,\n",
       "          0,   0],\n",
       "       [  0,   0,   0,   0,   0,   0,   0,   0,   0,   0,   0,   0,   0,\n",
       "          0,   0,   0,   0,   0,   0,   0,   0,   0,   0,   0,   0,   0,\n",
       "          0,   0],\n",
       "       [  0,   0,   0,   0,   0,   0,   0,   0,   0,   0,   0,   0,   0,\n",
       "          0,   0,   0,   0,   0,   0,   0,   0,   0,   0,   0,   0,   0,\n",
       "          0,   0],\n",
       "       [  0,   0,   0,   0,   0,   0,   0,   0,   0,   0,   0,   0,   0,\n",
       "          0,   0,   0,   0,   0,   0,   0,   0,   0,   0,   0,   0,   0,\n",
       "          0,   0]], dtype=uint8)"
      ]
     },
     "execution_count": 9,
     "metadata": {},
     "output_type": "execute_result"
    }
   ],
   "source": [
    "X_train[0] # these are pixels of the picture, 0-255 diff colors"
   ]
  },
  {
   "cell_type": "code",
   "execution_count": 10,
   "metadata": {},
   "outputs": [
    {
     "data": {
      "text/plain": [
       "5"
      ]
     },
     "execution_count": 10,
     "metadata": {},
     "output_type": "execute_result"
    }
   ],
   "source": [
    "y_train[0]"
   ]
  },
  {
   "cell_type": "code",
   "execution_count": 11,
   "metadata": {},
   "outputs": [],
   "source": [
    "# X Variable Types\n",
    "num_classes = 10\n",
    "\n",
    "X_train = X_train.astype('float32') / 255.\n",
    "X_test = X_test.astype('float32') /255.\n",
    "\n",
    "# Correct Encoding on Y\n",
    "# What softmax expects = [0,0,0,0,0,1,0,0,0,0]\n",
    "y_train = keras.utils.to_categorical(y_train, num_classes)\n",
    "y_test = keras.utils.to_categorical(y_test, num_classes)"
   ]
  },
  {
   "cell_type": "code",
   "execution_count": 12,
   "metadata": {},
   "outputs": [
    {
     "data": {
      "text/plain": [
       "array([0., 0., 0., 0., 0., 1., 0., 0., 0., 0.], dtype=float32)"
      ]
     },
     "execution_count": 12,
     "metadata": {},
     "output_type": "execute_result"
    }
   ],
   "source": [
    "y_train[0]"
   ]
  },
  {
   "cell_type": "markdown",
   "metadata": {
    "colab_type": "text",
    "id": "o0xMqOyTs5xt"
   },
   "source": [
    "### Define Model"
   ]
  },
  {
   "cell_type": "code",
   "execution_count": 13,
   "metadata": {
    "colab": {},
    "colab_type": "code",
    "id": "Bp9USczrfu6M"
   },
   "outputs": [],
   "source": [
    "from tensorflow.keras.models import Sequential\n",
    "from tensorflow.keras.layers import Dense\n",
    "\n",
    "import numpy as np\n",
    "\n",
    "np.random.seed(812)"
   ]
  },
  {
   "cell_type": "markdown",
   "metadata": {
    "colab_type": "text",
    "id": "wAzHLg27thoN"
   },
   "source": [
    "I'll instantiate my model as a \"sequential\" model. This just means that I'm going to tell Keras what my model's architecture should be one layer at a time."
   ]
  },
  {
   "cell_type": "code",
   "execution_count": 14,
   "metadata": {
    "colab": {},
    "colab_type": "code",
    "id": "DSNsL49Xp6KI"
   },
   "outputs": [],
   "source": [
    "# https://keras.io/getting-started/sequential-model-guide/\n",
    "model = Sequential()"
   ]
  },
  {
   "cell_type": "markdown",
   "metadata": {
    "colab_type": "text",
    "id": "ZCYX6QzJtvpG"
   },
   "source": [
    "Adding a \"Dense\" layer to our model is how we add \"vanilla\" perceptron-based layers to our neural network. These are also called \"fully-connected\" or \"densely-connected\" layers. They're used as a layer type in lots of other Neural Net Architectures but they're not referred to as perceptrons or multi-layer perceptrons very often in those situations even though that's what they are.\n",
    "\n",
    " > [\"Just your regular densely-connected NN layer.\"](https://keras.io/layers/core/)\n",
    " \n",
    " The first argument is how many neurons we want to have in that layer. To create a perceptron model we will just set it to 1. We will tell it that there will be 8 inputs coming into this layer from our dataset and set it to use the sigmoid activation function."
   ]
  },
  {
   "cell_type": "code",
   "execution_count": 15,
   "metadata": {
    "colab": {
     "base_uri": "https://localhost:8080/",
     "height": 89
    },
    "colab_type": "code",
    "id": "GNzOLidxtvFa",
    "outputId": "35b1457d-0189-49f1-aa6d-3ef15b29bd6e"
   },
   "outputs": [],
   "source": [
    "from tensorflow.keras.layers import Flatten\n",
    "\n",
    "model.add(Flatten())\n",
    "model.add(Dense(10, input_dim=784, activation=\"softmax\"))"
   ]
  },
  {
   "cell_type": "markdown",
   "metadata": {
    "colab_type": "text",
    "id": "EnI3jwKMtBL2",
    "toc-hr-collapsed": false
   },
   "source": [
    "### Compile Model\n",
    "Using binary_crossentropy as the loss function here is just telling keras that I'm doing binary classification so that it can use the appropriate loss function accordingly. If we were predicting non-binary categories we might assign something like `categorical_crossentropy`. We're also telling keras that we want it to report model accuracy as our main error metric for each epoch. We will also be able to see the overall accuracy once the model has finished training.\n",
    "\n",
    "#### Adam Optimizer\n",
    "Check out this links for more background on the Adam optimizer and Stohastic Gradient Descent\n",
    "* [Adam Optimization Algorithm](https://machinelearningmastery.com/adam-optimization-algorithm-for-deep-learning/)\n",
    "* [Adam Optimizer - original paper](https://arxiv.org/abs/1412.6980)"
   ]
  },
  {
   "cell_type": "code",
   "execution_count": 16,
   "metadata": {
    "colab": {},
    "colab_type": "code",
    "id": "qp6xwYaqurRO"
   },
   "outputs": [],
   "source": [
    "model.compile(loss='categorical_crossentropy', optimizer='adam', metrics=['accuracy'])"
   ]
  },
  {
   "cell_type": "markdown",
   "metadata": {
    "colab_type": "text",
    "id": "5dW8SZ2Ls9SX",
    "toc-hr-collapsed": false
   },
   "source": [
    "### Fit Model\n",
    "\n",
    "Lets train it up! `model.fit()` has a `batch_size` parameter that we can use if we want to do mini-batch epochs, but since this tabular dataset is pretty small we're just going to delete that parameter. Keras' default `batch_size` is `None` so omiting it will tell Keras to do batch epochs."
   ]
  },
  {
   "cell_type": "code",
   "execution_count": 17,
   "metadata": {},
   "outputs": [
    {
     "name": "stdout",
     "output_type": "stream",
     "text": [
      "Epoch 1/10\n",
      "60000/60000 [==============================] - 2s 41us/sample - loss: 0.4708 - acc: 0.8768\n",
      "Epoch 2/10\n",
      "60000/60000 [==============================] - 3s 43us/sample - loss: 0.3037 - acc: 0.9153\n",
      "Epoch 3/10\n",
      "60000/60000 [==============================] - 3s 44us/sample - loss: 0.2836 - acc: 0.9204\n",
      "Epoch 4/10\n",
      "60000/60000 [==============================] - 3s 44us/sample - loss: 0.2733 - acc: 0.9237\n",
      "Epoch 5/10\n",
      "60000/60000 [==============================] - 3s 44us/sample - loss: 0.2666 - acc: 0.9259\n",
      "Epoch 6/10\n",
      "60000/60000 [==============================] - 3s 43us/sample - loss: 0.2619 - acc: 0.9273\n",
      "Epoch 7/10\n",
      "60000/60000 [==============================] - 3s 43us/sample - loss: 0.2580 - acc: 0.92830s - loss: 0.2576 - a\n",
      "Epoch 8/10\n",
      "60000/60000 [==============================] - 3s 44us/sample - loss: 0.2553 - acc: 0.9289\n",
      "Epoch 9/10\n",
      "60000/60000 [==============================] - 3s 45us/sample - loss: 0.2527 - acc: 0.9301\n",
      "Epoch 10/10\n",
      "60000/60000 [==============================] - 3s 43us/sample - loss: 0.2510 - acc: 0.9309\n"
     ]
    },
    {
     "data": {
      "text/plain": [
       "<tensorflow.python.keras.callbacks.History at 0x7f32c556bd30>"
      ]
     },
     "execution_count": 17,
     "metadata": {},
     "output_type": "execute_result"
    }
   ],
   "source": [
    "model.fit(X_train, y_train, epochs=10)"
   ]
  },
  {
   "cell_type": "code",
   "execution_count": 18,
   "metadata": {},
   "outputs": [
    {
     "name": "stdout",
     "output_type": "stream",
     "text": [
      "Train on 60000 samples, validate on 10000 samples\n",
      "Epoch 1/3\n",
      "60000/60000 [==============================] - 3s 51us/sample - loss: 0.2492 - acc: 0.9309 - val_loss: 0.2703 - val_acc: 0.9260\n",
      "Epoch 2/3\n",
      "60000/60000 [==============================] - 3s 48us/sample - loss: 0.2479 - acc: 0.9315 - val_loss: 0.2651 - val_acc: 0.9265\n",
      "Epoch 3/3\n",
      "60000/60000 [==============================] - 3s 52us/sample - loss: 0.2465 - acc: 0.9312 - val_loss: 0.2679 - val_acc: 0.9252\n"
     ]
    },
    {
     "data": {
      "text/plain": [
       "<tensorflow.python.keras.callbacks.History at 0x7f32c4d13ac8>"
      ]
     },
     "execution_count": 18,
     "metadata": {},
     "output_type": "execute_result"
    }
   ],
   "source": [
    "model.fit(X_train, y_train,\n",
    "         epochs=3,\n",
    "         validation_data=(X_test, y_test))"
   ]
  },
  {
   "cell_type": "code",
   "execution_count": 19,
   "metadata": {},
   "outputs": [
    {
     "name": "stdout",
     "output_type": "stream",
     "text": [
      "Model: \"sequential_1\"\n",
      "_________________________________________________________________\n",
      "Layer (type)                 Output Shape              Param #   \n",
      "=================================================================\n",
      "flatten (Flatten)            multiple                  0         \n",
      "_________________________________________________________________\n",
      "dense_2 (Dense)              multiple                  7850      \n",
      "=================================================================\n",
      "Total params: 7,850\n",
      "Trainable params: 7,850\n",
      "Non-trainable params: 0\n",
      "_________________________________________________________________\n"
     ]
    }
   ],
   "source": [
    "model.summary()"
   ]
  },
  {
   "cell_type": "markdown",
   "metadata": {},
   "source": [
    "### Evaluate Model"
   ]
  },
  {
   "cell_type": "code",
   "execution_count": 20,
   "metadata": {},
   "outputs": [
    {
     "name": "stdout",
     "output_type": "stream",
     "text": [
      "10000/10000 [==============================] - 0s 39us/sample - loss: 0.2679 - acc: 0.9252\n",
      "\n",
      "\n",
      "Validation Data Metrics:\n",
      "loss: 0.2679327243819833\n",
      "acc: 92.51999855041504\n"
     ]
    }
   ],
   "source": [
    "scores = model.evaluate(X_test,y_test)\n",
    "print(\"\\n\")\n",
    "print(\"Validation Data Metrics:\")\n",
    "print(f\"{model.metrics_names[0]}: {scores[0]}\")\n",
    "print(f\"{model.metrics_names[1]}: {scores[1]*100}\")"
   ]
  },
  {
   "cell_type": "code",
   "execution_count": 21,
   "metadata": {},
   "outputs": [
    {
     "data": {
      "text/plain": [
       "array([[5.0863187e-04, 6.3772022e-06, 9.7271659e-05, 4.5748174e-02,\n",
       "        9.0732929e-06, 8.8213247e-01, 4.6084228e-05, 3.4822110e-09,\n",
       "        7.1451090e-02, 7.8304487e-07]], dtype=float32)"
      ]
     },
     "execution_count": 21,
     "metadata": {},
     "output_type": "execute_result"
    }
   ],
   "source": [
    "model.predict(np.array([X_test[15]]))"
   ]
  },
  {
   "cell_type": "code",
   "execution_count": 22,
   "metadata": {},
   "outputs": [
    {
     "data": {
      "text/plain": [
       "array([0., 0., 1., 0., 0., 0., 0., 0., 0., 0.], dtype=float32)"
      ]
     },
     "execution_count": 22,
     "metadata": {},
     "output_type": "execute_result"
    }
   ],
   "source": [
    "y_test[1]"
   ]
  },
  {
   "cell_type": "code",
   "execution_count": 23,
   "metadata": {},
   "outputs": [
    {
     "data": {
      "text/plain": [
       "<matplotlib.image.AxesImage at 0x7f3278465da0>"
      ]
     },
     "execution_count": 23,
     "metadata": {},
     "output_type": "execute_result"
    },
    {
     "data": {
      "image/png": "[encoded data removed]",
      "text/plain": [
       "<Figure size 432x288 with 1 Axes>"
      ]
     },
     "metadata": {
      "needs_background": "light"
     },
     "output_type": "display_data"
    }
   ],
   "source": [
    "import matplotlib.pyplot as plt\n",
    "\n",
    "plt.imshow(X_test[15])"
   ]
  },
  {
   "cell_type": "markdown",
   "metadata": {
    "colab_type": "text",
    "id": "zHYB7k9q3O8T"
   },
   "source": [
    "### Unstable Results\n",
    "\n",
    "You'll notice that if we rerun the results might differ from the origin run. This can be explain by a bunch of factors. Check out some of them in this article: \n",
    "\n",
    "<https://machinelearningmastery.com/randomness-in-machine-learning/>"
   ]
  },
  {
   "cell_type": "markdown",
   "metadata": {},
   "source": [
    "## Challenge\n",
    "\n",
    "You will be expected to leverage the Keras `Sequential` api to estimate a feed forward neural networks on a dataset.\n",
    "\n",
    "---"
   ]
  },
  {
   "cell_type": "markdown",
   "metadata": {
    "colab_type": "text",
    "id": "ueDVpctAzvy8"
   },
   "source": [
    "# Choosing Architecture (Learn)"
   ]
  },
  {
   "cell_type": "markdown",
   "metadata": {},
   "source": [
    "## Overview\n",
    "\n",
    "Choosing an architecture for a neural network is almost more an art than a science. The best way to choose an architecture is through research and experimentation. \n",
    "\n",
    "Let's do a few experiments, and track our results using a tool called TensorBoard which is a way to interactively visualize the results of our various experiences. Here is our previous model with TensorBoard incorporated: "
   ]
  },
  {
   "cell_type": "code",
   "execution_count": 24,
   "metadata": {},
   "outputs": [
    {
     "data": {
      "text/plain": [
       "'/home/ivan/Desktop/Lambda/Unit4/Sprint2/DS-Unit-4-Sprint-2-Neural-Networks/module3-Intro-to-Keras'"
      ]
     },
     "execution_count": 24,
     "metadata": {},
     "output_type": "execute_result"
    }
   ],
   "source": [
    "%pwd"
   ]
  },
  {
   "cell_type": "code",
   "execution_count": 25,
   "metadata": {},
   "outputs": [],
   "source": [
    "%load_ext tensorboard\n",
    "\n",
    "import os\n",
    "import datetime\n",
    "import tensorflow as tf\n",
    "\n",
    "logdir = os.path.join(\"logs\", datetime.datetime.now().strftime(\"%Y%m%d-%H%M%S\"))\n",
    "tensorboard_callback = tf.keras.callbacks.TensorBoard(logdir, histogram_freq=1)"
   ]
  },
  {
   "cell_type": "code",
   "execution_count": 26,
   "metadata": {},
   "outputs": [
    {
     "name": "stdout",
     "output_type": "stream",
     "text": [
      "Train on 60000 samples, validate on 10000 samples\n",
      "Epoch 1/5\n",
      "60000/60000 [==============================] - 6s 103us/sample - loss: 0.2555 - acc: 0.9266 - val_loss: 0.1510 - val_acc: 0.9547\n",
      "Epoch 2/5\n",
      "60000/60000 [==============================] - 6s 106us/sample - loss: 0.1129 - acc: 0.9656 - val_loss: 0.1059 - val_acc: 0.9687\n",
      "Epoch 3/5\n",
      "60000/60000 [==============================] - 7s 116us/sample - loss: 0.0783 - acc: 0.9766 - val_loss: 0.0895 - val_acc: 0.9729\n",
      "Epoch 4/5\n",
      "60000/60000 [==============================] - 6s 100us/sample - loss: 0.0594 - acc: 0.9825 - val_loss: 0.0808 - val_acc: 0.9740\n",
      "Epoch 5/5\n",
      "60000/60000 [==============================] - 6s 101us/sample - loss: 0.0457 - acc: 0.9862 - val_loss: 0.0791 - val_acc: 0.9745\n"
     ]
    },
    {
     "data": {
      "text/plain": [
       "<tensorflow.python.keras.callbacks.History at 0x7f328001c3c8>"
      ]
     },
     "execution_count": 26,
     "metadata": {},
     "output_type": "execute_result"
    }
   ],
   "source": [
    "model = Sequential([\n",
    "    Flatten(input_shape=(28,28)),\n",
    "    Dense(128, activation='relu'),\n",
    "    Dense(10, activation=\"softmax\")\n",
    "])\n",
    "\n",
    "model.compile(loss='categorical_crossentropy', optimizer='adam', metrics=['accuracy'])\n",
    "\n",
    "model.fit(x=X_train, \n",
    "        y=y_train, \n",
    "        epochs=5, \n",
    "        validation_data=(X_test, y_test), \n",
    "        callbacks=[tensorboard_callback])"
   ]
  },
  {
   "cell_type": "code",
   "execution_count": 27,
   "metadata": {},
   "outputs": [
    {
     "data": {
      "text/plain": [
       "Launching TensorBoard..."
      ]
     },
     "metadata": {},
     "output_type": "display_data"
    },
    {
     "name": "stderr",
     "output_type": "stream",
     "text": [
      "W0416 10:28:36.632690 139856158365504 manager.py:321] invalid info file: '/tmp/.tensorboard-info/pid-13979.info'\n",
      "Traceback (most recent call last):\n",
      "  File \"/home/ivan/anaconda3/envs/Unit4Sprint2/lib/python3.7/site-packages/tensorboard/manager.py\", line 316, in get_all\n",
      "    info = _info_from_string(contents)\n",
      "  File \"/home/ivan/anaconda3/envs/Unit4Sprint2/lib/python3.7/site-packages/tensorboard/manager.py\", line 155, in _info_from_string\n",
      "    raise ValueError(\"incompatible version: %r\" % (json_value,))\n",
      "ValueError: incompatible version: {'cache_key': 'eyJhcmd1bWVudHMiOlsiLS1sb2dkaXIiLCJsb2dzIl0sImNvbmZpZ3VyZV9rd2FyZ3MiOnt9LCJ3b3JraW5nX2RpcmVjdG9yeSI6Ii9ob21lL2l2YW4vRGVza3RvcC9MYW1iZGEvVW5pdDQvU3ByaW50Mi9EUy1Vbml0LTQtU3ByaW50LTItTmV1cmFsLU5ldHdvcmtzL21vZHVsZTMtSW50cm8tdG8tS2VyYXMifQ==', 'db': '', 'logdir': 'logs', 'path_prefix': '', 'pid': 13979, 'port': 6006, 'start_time': 1587047316, 'version': '2.2.0'}\n",
      "W0416 10:28:37.135831 139856158365504 manager.py:321] invalid info file: '/tmp/.tensorboard-info/pid-13979.info'\n",
      "Traceback (most recent call last):\n",
      "  File \"/home/ivan/anaconda3/envs/Unit4Sprint2/lib/python3.7/site-packages/tensorboard/manager.py\", line 316, in get_all\n",
      "    info = _info_from_string(contents)\n",
      "  File \"/home/ivan/anaconda3/envs/Unit4Sprint2/lib/python3.7/site-packages/tensorboard/manager.py\", line 155, in _info_from_string\n",
      "    raise ValueError(\"incompatible version: %r\" % (json_value,))\n",
      "ValueError: incompatible version: {'cache_key': 'eyJhcmd1bWVudHMiOlsiLS1sb2dkaXIiLCJsb2dzIl0sImNvbmZpZ3VyZV9rd2FyZ3MiOnt9LCJ3b3JraW5nX2RpcmVjdG9yeSI6Ii9ob21lL2l2YW4vRGVza3RvcC9MYW1iZGEvVW5pdDQvU3ByaW50Mi9EUy1Vbml0LTQtU3ByaW50LTItTmV1cmFsLU5ldHdvcmtzL21vZHVsZTMtSW50cm8tdG8tS2VyYXMifQ==', 'db': '', 'logdir': 'logs', 'path_prefix': '', 'pid': 13979, 'port': 6006, 'start_time': 1587047316, 'version': '2.2.0'}\n",
      "W0416 10:28:37.637974 139856158365504 manager.py:321] invalid info file: '/tmp/.tensorboard-info/pid-13979.info'\n",
      "Traceback (most recent call last):\n",
      "  File \"/home/ivan/anaconda3/envs/Unit4Sprint2/lib/python3.7/site-packages/tensorboard/manager.py\", line 316, in get_all\n",
      "    info = _info_from_string(contents)\n",
      "  File \"/home/ivan/anaconda3/envs/Unit4Sprint2/lib/python3.7/site-packages/tensorboard/manager.py\", line 155, in _info_from_string\n",
      "    raise ValueError(\"incompatible version: %r\" % (json_value,))\n",
      "ValueError: incompatible version: {'cache_key': 'eyJhcmd1bWVudHMiOlsiLS1sb2dkaXIiLCJsb2dzIl0sImNvbmZpZ3VyZV9rd2FyZ3MiOnt9LCJ3b3JraW5nX2RpcmVjdG9yeSI6Ii9ob21lL2l2YW4vRGVza3RvcC9MYW1iZGEvVW5pdDQvU3ByaW50Mi9EUy1Vbml0LTQtU3ByaW50LTItTmV1cmFsLU5ldHdvcmtzL21vZHVsZTMtSW50cm8tdG8tS2VyYXMifQ==', 'db': '', 'logdir': 'logs', 'path_prefix': '', 'pid': 13979, 'port': 6006, 'start_time': 1587047316, 'version': '2.2.0'}\n",
      "W0416 10:28:38.140343 139856158365504 manager.py:321] invalid info file: '/tmp/.tensorboard-info/pid-13979.info'\n",
      "Traceback (most recent call last):\n",
      "  File \"/home/ivan/anaconda3/envs/Unit4Sprint2/lib/python3.7/site-packages/tensorboard/manager.py\", line 316, in get_all\n",
      "    info = _info_from_string(contents)\n",
      "  File \"/home/ivan/anaconda3/envs/Unit4Sprint2/lib/python3.7/site-packages/tensorboard/manager.py\", line 155, in _info_from_string\n",
      "    raise ValueError(\"incompatible version: %r\" % (json_value,))\n",
      "ValueError: incompatible version: {'cache_key': 'eyJhcmd1bWVudHMiOlsiLS1sb2dkaXIiLCJsb2dzIl0sImNvbmZpZ3VyZV9rd2FyZ3MiOnt9LCJ3b3JraW5nX2RpcmVjdG9yeSI6Ii9ob21lL2l2YW4vRGVza3RvcC9MYW1iZGEvVW5pdDQvU3ByaW50Mi9EUy1Vbml0LTQtU3ByaW50LTItTmV1cmFsLU5ldHdvcmtzL21vZHVsZTMtSW50cm8tdG8tS2VyYXMifQ==', 'db': '', 'logdir': 'logs', 'path_prefix': '', 'pid': 13979, 'port': 6006, 'start_time': 1587047316, 'version': '2.2.0'}\n",
      "W0416 10:28:38.642257 139856158365504 manager.py:321] invalid info file: '/tmp/.tensorboard-info/pid-13979.info'\n",
      "Traceback (most recent call last):\n",
      "  File \"/home/ivan/anaconda3/envs/Unit4Sprint2/lib/python3.7/site-packages/tensorboard/manager.py\", line 316, in get_all\n",
      "    info = _info_from_string(contents)\n",
      "  File \"/home/ivan/anaconda3/envs/Unit4Sprint2/lib/python3.7/site-packages/tensorboard/manager.py\", line 155, in _info_from_string\n",
      "    raise ValueError(\"incompatible version: %r\" % (json_value,))\n",
      "ValueError: incompatible version: {'cache_key': 'eyJhcmd1bWVudHMiOlsiLS1sb2dkaXIiLCJsb2dzIl0sImNvbmZpZ3VyZV9rd2FyZ3MiOnt9LCJ3b3JraW5nX2RpcmVjdG9yeSI6Ii9ob21lL2l2YW4vRGVza3RvcC9MYW1iZGEvVW5pdDQvU3ByaW50Mi9EUy1Vbml0LTQtU3ByaW50LTItTmV1cmFsLU5ldHdvcmtzL21vZHVsZTMtSW50cm8tdG8tS2VyYXMifQ==', 'db': '', 'logdir': 'logs', 'path_prefix': '', 'pid': 13979, 'port': 6006, 'start_time': 1587047316, 'version': '2.2.0'}\n",
      "W0416 10:28:39.144274 139856158365504 manager.py:321] invalid info file: '/tmp/.tensorboard-info/pid-13979.info'\n",
      "Traceback (most recent call last):\n",
      "  File \"/home/ivan/anaconda3/envs/Unit4Sprint2/lib/python3.7/site-packages/tensorboard/manager.py\", line 316, in get_all\n",
      "    info = _info_from_string(contents)\n",
      "  File \"/home/ivan/anaconda3/envs/Unit4Sprint2/lib/python3.7/site-packages/tensorboard/manager.py\", line 155, in _info_from_string\n",
      "    raise ValueError(\"incompatible version: %r\" % (json_value,))\n",
      "ValueError: incompatible version: {'cache_key': 'eyJhcmd1bWVudHMiOlsiLS1sb2dkaXIiLCJsb2dzIl0sImNvbmZpZ3VyZV9rd2FyZ3MiOnt9LCJ3b3JraW5nX2RpcmVjdG9yeSI6Ii9ob21lL2l2YW4vRGVza3RvcC9MYW1iZGEvVW5pdDQvU3ByaW50Mi9EUy1Vbml0LTQtU3ByaW50LTItTmV1cmFsLU5ldHdvcmtzL21vZHVsZTMtSW50cm8tdG8tS2VyYXMifQ==', 'db': '', 'logdir': 'logs', 'path_prefix': '', 'pid': 13979, 'port': 6006, 'start_time': 1587047316, 'version': '2.2.0'}\n",
      "W0416 10:28:39.646120 139856158365504 manager.py:321] invalid info file: '/tmp/.tensorboard-info/pid-13979.info'\n",
      "Traceback (most recent call last):\n",
      "  File \"/home/ivan/anaconda3/envs/Unit4Sprint2/lib/python3.7/site-packages/tensorboard/manager.py\", line 316, in get_all\n",
      "    info = _info_from_string(contents)\n",
      "  File \"/home/ivan/anaconda3/envs/Unit4Sprint2/lib/python3.7/site-packages/tensorboard/manager.py\", line 155, in _info_from_string\n",
      "    raise ValueError(\"incompatible version: %r\" % (json_value,))\n",
      "ValueError: incompatible version: {'cache_key': 'eyJhcmd1bWVudHMiOlsiLS1sb2dkaXIiLCJsb2dzIl0sImNvbmZpZ3VyZV9rd2FyZ3MiOnt9LCJ3b3JraW5nX2RpcmVjdG9yeSI6Ii9ob21lL2l2YW4vRGVza3RvcC9MYW1iZGEvVW5pdDQvU3ByaW50Mi9EUy1Vbml0LTQtU3ByaW50LTItTmV1cmFsLU5ldHdvcmtzL21vZHVsZTMtSW50cm8tdG8tS2VyYXMifQ==', 'db': '', 'logdir': 'logs', 'path_prefix': '', 'pid': 13979, 'port': 6006, 'start_time': 1587047316, 'version': '2.2.0'}\n",
      "W0416 10:28:40.147752 139856158365504 manager.py:321] invalid info file: '/tmp/.tensorboard-info/pid-13979.info'\n",
      "Traceback (most recent call last):\n",
      "  File \"/home/ivan/anaconda3/envs/Unit4Sprint2/lib/python3.7/site-packages/tensorboard/manager.py\", line 316, in get_all\n",
      "    info = _info_from_string(contents)\n",
      "  File \"/home/ivan/anaconda3/envs/Unit4Sprint2/lib/python3.7/site-packages/tensorboard/manager.py\", line 155, in _info_from_string\n",
      "    raise ValueError(\"incompatible version: %r\" % (json_value,))\n",
      "ValueError: incompatible version: {'cache_key': 'eyJhcmd1bWVudHMiOlsiLS1sb2dkaXIiLCJsb2dzIl0sImNvbmZpZ3VyZV9rd2FyZ3MiOnt9LCJ3b3JraW5nX2RpcmVjdG9yeSI6Ii9ob21lL2l2YW4vRGVza3RvcC9MYW1iZGEvVW5pdDQvU3ByaW50Mi9EUy1Vbml0LTQtU3ByaW50LTItTmV1cmFsLU5ldHdvcmtzL21vZHVsZTMtSW50cm8tdG8tS2VyYXMifQ==', 'db': '', 'logdir': 'logs', 'path_prefix': '', 'pid': 13979, 'port': 6006, 'start_time': 1587047316, 'version': '2.2.0'}\n",
      "W0416 10:28:40.649839 139856158365504 manager.py:321] invalid info file: '/tmp/.tensorboard-info/pid-13979.info'\n",
      "Traceback (most recent call last):\n",
      "  File \"/home/ivan/anaconda3/envs/Unit4Sprint2/lib/python3.7/site-packages/tensorboard/manager.py\", line 316, in get_all\n",
      "    info = _info_from_string(contents)\n",
      "  File \"/home/ivan/anaconda3/envs/Unit4Sprint2/lib/python3.7/site-packages/tensorboard/manager.py\", line 155, in _info_from_string\n",
      "    raise ValueError(\"incompatible version: %r\" % (json_value,))\n",
      "ValueError: incompatible version: {'cache_key': 'eyJhcmd1bWVudHMiOlsiLS1sb2dkaXIiLCJsb2dzIl0sImNvbmZpZ3VyZV9rd2FyZ3MiOnt9LCJ3b3JraW5nX2RpcmVjdG9yeSI6Ii9ob21lL2l2YW4vRGVza3RvcC9MYW1iZGEvVW5pdDQvU3ByaW50Mi9EUy1Vbml0LTQtU3ByaW50LTItTmV1cmFsLU5ldHdvcmtzL21vZHVsZTMtSW50cm8tdG8tS2VyYXMifQ==', 'db': '', 'logdir': 'logs', 'path_prefix': '', 'pid': 13979, 'port': 6006, 'start_time': 1587047316, 'version': '2.2.0'}\n",
      "W0416 10:28:41.151762 139856158365504 manager.py:321] invalid info file: '/tmp/.tensorboard-info/pid-13979.info'\n",
      "Traceback (most recent call last):\n",
      "  File \"/home/ivan/anaconda3/envs/Unit4Sprint2/lib/python3.7/site-packages/tensorboard/manager.py\", line 316, in get_all\n",
      "    info = _info_from_string(contents)\n",
      "  File \"/home/ivan/anaconda3/envs/Unit4Sprint2/lib/python3.7/site-packages/tensorboard/manager.py\", line 155, in _info_from_string\n",
      "    raise ValueError(\"incompatible version: %r\" % (json_value,))\n",
      "ValueError: incompatible version: {'cache_key': 'eyJhcmd1bWVudHMiOlsiLS1sb2dkaXIiLCJsb2dzIl0sImNvbmZpZ3VyZV9rd2FyZ3MiOnt9LCJ3b3JraW5nX2RpcmVjdG9yeSI6Ii9ob21lL2l2YW4vRGVza3RvcC9MYW1iZGEvVW5pdDQvU3ByaW50Mi9EUy1Vbml0LTQtU3ByaW50LTItTmV1cmFsLU5ldHdvcmtzL21vZHVsZTMtSW50cm8tdG8tS2VyYXMifQ==', 'db': '', 'logdir': 'logs', 'path_prefix': '', 'pid': 13979, 'port': 6006, 'start_time': 1587047316, 'version': '2.2.0'}\n",
      "W0416 10:28:41.653805 139856158365504 manager.py:321] invalid info file: '/tmp/.tensorboard-info/pid-13979.info'\n",
      "Traceback (most recent call last):\n",
      "  File \"/home/ivan/anaconda3/envs/Unit4Sprint2/lib/python3.7/site-packages/tensorboard/manager.py\", line 316, in get_all\n",
      "    info = _info_from_string(contents)\n",
      "  File \"/home/ivan/anaconda3/envs/Unit4Sprint2/lib/python3.7/site-packages/tensorboard/manager.py\", line 155, in _info_from_string\n",
      "    raise ValueError(\"incompatible version: %r\" % (json_value,))\n",
      "ValueError: incompatible version: {'cache_key': 'eyJhcmd1bWVudHMiOlsiLS1sb2dkaXIiLCJsb2dzIl0sImNvbmZpZ3VyZV9rd2FyZ3MiOnt9LCJ3b3JraW5nX2RpcmVjdG9yeSI6Ii9ob21lL2l2YW4vRGVza3RvcC9MYW1iZGEvVW5pdDQvU3ByaW50Mi9EUy1Vbml0LTQtU3ByaW50LTItTmV1cmFsLU5ldHdvcmtzL21vZHVsZTMtSW50cm8tdG8tS2VyYXMifQ==', 'db': '', 'logdir': 'logs', 'path_prefix': '', 'pid': 13979, 'port': 6006, 'start_time': 1587047316, 'version': '2.2.0'}\n",
      "W0416 10:28:42.157332 139856158365504 manager.py:321] invalid info file: '/tmp/.tensorboard-info/pid-13979.info'\n",
      "Traceback (most recent call last):\n",
      "  File \"/home/ivan/anaconda3/envs/Unit4Sprint2/lib/python3.7/site-packages/tensorboard/manager.py\", line 316, in get_all\n",
      "    info = _info_from_string(contents)\n",
      "  File \"/home/ivan/anaconda3/envs/Unit4Sprint2/lib/python3.7/site-packages/tensorboard/manager.py\", line 155, in _info_from_string\n",
      "    raise ValueError(\"incompatible version: %r\" % (json_value,))\n",
      "ValueError: incompatible version: {'cache_key': 'eyJhcmd1bWVudHMiOlsiLS1sb2dkaXIiLCJsb2dzIl0sImNvbmZpZ3VyZV9rd2FyZ3MiOnt9LCJ3b3JraW5nX2RpcmVjdG9yeSI6Ii9ob21lL2l2YW4vRGVza3RvcC9MYW1iZGEvVW5pdDQvU3ByaW50Mi9EUy1Vbml0LTQtU3ByaW50LTItTmV1cmFsLU5ldHdvcmtzL21vZHVsZTMtSW50cm8tdG8tS2VyYXMifQ==', 'db': '', 'logdir': 'logs', 'path_prefix': '', 'pid': 13979, 'port': 6006, 'start_time': 1587047316, 'version': '2.2.0'}\n",
      "W0416 10:28:42.659782 139856158365504 manager.py:321] invalid info file: '/tmp/.tensorboard-info/pid-13979.info'\n",
      "Traceback (most recent call last):\n",
      "  File \"/home/ivan/anaconda3/envs/Unit4Sprint2/lib/python3.7/site-packages/tensorboard/manager.py\", line 316, in get_all\n",
      "    info = _info_from_string(contents)\n",
      "  File \"/home/ivan/anaconda3/envs/Unit4Sprint2/lib/python3.7/site-packages/tensorboard/manager.py\", line 155, in _info_from_string\n",
      "    raise ValueError(\"incompatible version: %r\" % (json_value,))\n",
      "ValueError: incompatible version: {'cache_key': 'eyJhcmd1bWVudHMiOlsiLS1sb2dkaXIiLCJsb2dzIl0sImNvbmZpZ3VyZV9rd2FyZ3MiOnt9LCJ3b3JraW5nX2RpcmVjdG9yeSI6Ii9ob21lL2l2YW4vRGVza3RvcC9MYW1iZGEvVW5pdDQvU3ByaW50Mi9EUy1Vbml0LTQtU3ByaW50LTItTmV1cmFsLU5ldHdvcmtzL21vZHVsZTMtSW50cm8tdG8tS2VyYXMifQ==', 'db': '', 'logdir': 'logs', 'path_prefix': '', 'pid': 13979, 'port': 6006, 'start_time': 1587047316, 'version': '2.2.0'}\n",
      "W0416 10:28:43.161562 139856158365504 manager.py:321] invalid info file: '/tmp/.tensorboard-info/pid-13979.info'\n",
      "Traceback (most recent call last):\n",
      "  File \"/home/ivan/anaconda3/envs/Unit4Sprint2/lib/python3.7/site-packages/tensorboard/manager.py\", line 316, in get_all\n",
      "    info = _info_from_string(contents)\n",
      "  File \"/home/ivan/anaconda3/envs/Unit4Sprint2/lib/python3.7/site-packages/tensorboard/manager.py\", line 155, in _info_from_string\n",
      "    raise ValueError(\"incompatible version: %r\" % (json_value,))\n",
      "ValueError: incompatible version: {'cache_key': 'eyJhcmd1bWVudHMiOlsiLS1sb2dkaXIiLCJsb2dzIl0sImNvbmZpZ3VyZV9rd2FyZ3MiOnt9LCJ3b3JraW5nX2RpcmVjdG9yeSI6Ii9ob21lL2l2YW4vRGVza3RvcC9MYW1iZGEvVW5pdDQvU3ByaW50Mi9EUy1Vbml0LTQtU3ByaW50LTItTmV1cmFsLU5ldHdvcmtzL21vZHVsZTMtSW50cm8tdG8tS2VyYXMifQ==', 'db': '', 'logdir': 'logs', 'path_prefix': '', 'pid': 13979, 'port': 6006, 'start_time': 1587047316, 'version': '2.2.0'}\n",
      "W0416 10:28:43.663548 139856158365504 manager.py:321] invalid info file: '/tmp/.tensorboard-info/pid-13979.info'\n",
      "Traceback (most recent call last):\n",
      "  File \"/home/ivan/anaconda3/envs/Unit4Sprint2/lib/python3.7/site-packages/tensorboard/manager.py\", line 316, in get_all\n",
      "    info = _info_from_string(contents)\n",
      "  File \"/home/ivan/anaconda3/envs/Unit4Sprint2/lib/python3.7/site-packages/tensorboard/manager.py\", line 155, in _info_from_string\n",
      "    raise ValueError(\"incompatible version: %r\" % (json_value,))\n",
      "ValueError: incompatible version: {'cache_key': 'eyJhcmd1bWVudHMiOlsiLS1sb2dkaXIiLCJsb2dzIl0sImNvbmZpZ3VyZV9rd2FyZ3MiOnt9LCJ3b3JraW5nX2RpcmVjdG9yeSI6Ii9ob21lL2l2YW4vRGVza3RvcC9MYW1iZGEvVW5pdDQvU3ByaW50Mi9EUy1Vbml0LTQtU3ByaW50LTItTmV1cmFsLU5ldHdvcmtzL21vZHVsZTMtSW50cm8tdG8tS2VyYXMifQ==', 'db': '', 'logdir': 'logs', 'path_prefix': '', 'pid': 13979, 'port': 6006, 'start_time': 1587047316, 'version': '2.2.0'}\n",
      "W0416 10:28:44.165434 139856158365504 manager.py:321] invalid info file: '/tmp/.tensorboard-info/pid-13979.info'\n",
      "Traceback (most recent call last):\n",
      "  File \"/home/ivan/anaconda3/envs/Unit4Sprint2/lib/python3.7/site-packages/tensorboard/manager.py\", line 316, in get_all\n",
      "    info = _info_from_string(contents)\n",
      "  File \"/home/ivan/anaconda3/envs/Unit4Sprint2/lib/python3.7/site-packages/tensorboard/manager.py\", line 155, in _info_from_string\n",
      "    raise ValueError(\"incompatible version: %r\" % (json_value,))\n",
      "ValueError: incompatible version: {'cache_key': 'eyJhcmd1bWVudHMiOlsiLS1sb2dkaXIiLCJsb2dzIl0sImNvbmZpZ3VyZV9rd2FyZ3MiOnt9LCJ3b3JraW5nX2RpcmVjdG9yeSI6Ii9ob21lL2l2YW4vRGVza3RvcC9MYW1iZGEvVW5pdDQvU3ByaW50Mi9EUy1Vbml0LTQtU3ByaW50LTItTmV1cmFsLU5ldHdvcmtzL21vZHVsZTMtSW50cm8tdG8tS2VyYXMifQ==', 'db': '', 'logdir': 'logs', 'path_prefix': '', 'pid': 13979, 'port': 6006, 'start_time': 1587047316, 'version': '2.2.0'}\n",
      "W0416 10:28:44.667521 139856158365504 manager.py:321] invalid info file: '/tmp/.tensorboard-info/pid-13979.info'\n",
      "Traceback (most recent call last):\n",
      "  File \"/home/ivan/anaconda3/envs/Unit4Sprint2/lib/python3.7/site-packages/tensorboard/manager.py\", line 316, in get_all\n",
      "    info = _info_from_string(contents)\n",
      "  File \"/home/ivan/anaconda3/envs/Unit4Sprint2/lib/python3.7/site-packages/tensorboard/manager.py\", line 155, in _info_from_string\n",
      "    raise ValueError(\"incompatible version: %r\" % (json_value,))\n",
      "ValueError: incompatible version: {'cache_key': 'eyJhcmd1bWVudHMiOlsiLS1sb2dkaXIiLCJsb2dzIl0sImNvbmZpZ3VyZV9rd2FyZ3MiOnt9LCJ3b3JraW5nX2RpcmVjdG9yeSI6Ii9ob21lL2l2YW4vRGVza3RvcC9MYW1iZGEvVW5pdDQvU3ByaW50Mi9EUy1Vbml0LTQtU3ByaW50LTItTmV1cmFsLU5ldHdvcmtzL21vZHVsZTMtSW50cm8tdG8tS2VyYXMifQ==', 'db': '', 'logdir': 'logs', 'path_prefix': '', 'pid': 13979, 'port': 6006, 'start_time': 1587047316, 'version': '2.2.0'}\n",
      "W0416 10:28:45.169866 139856158365504 manager.py:321] invalid info file: '/tmp/.tensorboard-info/pid-13979.info'\n",
      "Traceback (most recent call last):\n",
      "  File \"/home/ivan/anaconda3/envs/Unit4Sprint2/lib/python3.7/site-packages/tensorboard/manager.py\", line 316, in get_all\n",
      "    info = _info_from_string(contents)\n",
      "  File \"/home/ivan/anaconda3/envs/Unit4Sprint2/lib/python3.7/site-packages/tensorboard/manager.py\", line 155, in _info_from_string\n",
      "    raise ValueError(\"incompatible version: %r\" % (json_value,))\n",
      "ValueError: incompatible version: {'cache_key': 'eyJhcmd1bWVudHMiOlsiLS1sb2dkaXIiLCJsb2dzIl0sImNvbmZpZ3VyZV9rd2FyZ3MiOnt9LCJ3b3JraW5nX2RpcmVjdG9yeSI6Ii9ob21lL2l2YW4vRGVza3RvcC9MYW1iZGEvVW5pdDQvU3ByaW50Mi9EUy1Vbml0LTQtU3ByaW50LTItTmV1cmFsLU5ldHdvcmtzL21vZHVsZTMtSW50cm8tdG8tS2VyYXMifQ==', 'db': '', 'logdir': 'logs', 'path_prefix': '', 'pid': 13979, 'port': 6006, 'start_time': 1587047316, 'version': '2.2.0'}\n",
      "W0416 10:28:45.673582 139856158365504 manager.py:321] invalid info file: '/tmp/.tensorboard-info/pid-13979.info'\n",
      "Traceback (most recent call last):\n",
      "  File \"/home/ivan/anaconda3/envs/Unit4Sprint2/lib/python3.7/site-packages/tensorboard/manager.py\", line 316, in get_all\n",
      "    info = _info_from_string(contents)\n",
      "  File \"/home/ivan/anaconda3/envs/Unit4Sprint2/lib/python3.7/site-packages/tensorboard/manager.py\", line 155, in _info_from_string\n",
      "    raise ValueError(\"incompatible version: %r\" % (json_value,))\n",
      "ValueError: incompatible version: {'cache_key': 'eyJhcmd1bWVudHMiOlsiLS1sb2dkaXIiLCJsb2dzIl0sImNvbmZpZ3VyZV9rd2FyZ3MiOnt9LCJ3b3JraW5nX2RpcmVjdG9yeSI6Ii9ob21lL2l2YW4vRGVza3RvcC9MYW1iZGEvVW5pdDQvU3ByaW50Mi9EUy1Vbml0LTQtU3ByaW50LTItTmV1cmFsLU5ldHdvcmtzL21vZHVsZTMtSW50cm8tdG8tS2VyYXMifQ==', 'db': '', 'logdir': 'logs', 'path_prefix': '', 'pid': 13979, 'port': 6006, 'start_time': 1587047316, 'version': '2.2.0'}\n",
      "W0416 10:28:46.176480 139856158365504 manager.py:321] invalid info file: '/tmp/.tensorboard-info/pid-13979.info'\n",
      "Traceback (most recent call last):\n",
      "  File \"/home/ivan/anaconda3/envs/Unit4Sprint2/lib/python3.7/site-packages/tensorboard/manager.py\", line 316, in get_all\n",
      "    info = _info_from_string(contents)\n",
      "  File \"/home/ivan/anaconda3/envs/Unit4Sprint2/lib/python3.7/site-packages/tensorboard/manager.py\", line 155, in _info_from_string\n",
      "    raise ValueError(\"incompatible version: %r\" % (json_value,))\n",
      "ValueError: incompatible version: {'cache_key': 'eyJhcmd1bWVudHMiOlsiLS1sb2dkaXIiLCJsb2dzIl0sImNvbmZpZ3VyZV9rd2FyZ3MiOnt9LCJ3b3JraW5nX2RpcmVjdG9yeSI6Ii9ob21lL2l2YW4vRGVza3RvcC9MYW1iZGEvVW5pdDQvU3ByaW50Mi9EUy1Vbml0LTQtU3ByaW50LTItTmV1cmFsLU5ldHdvcmtzL21vZHVsZTMtSW50cm8tdG8tS2VyYXMifQ==', 'db': '', 'logdir': 'logs', 'path_prefix': '', 'pid': 13979, 'port': 6006, 'start_time': 1587047316, 'version': '2.2.0'}\n",
      "W0416 10:28:46.678460 139856158365504 manager.py:321] invalid info file: '/tmp/.tensorboard-info/pid-13979.info'\n",
      "Traceback (most recent call last):\n",
      "  File \"/home/ivan/anaconda3/envs/Unit4Sprint2/lib/python3.7/site-packages/tensorboard/manager.py\", line 316, in get_all\n",
      "    info = _info_from_string(contents)\n",
      "  File \"/home/ivan/anaconda3/envs/Unit4Sprint2/lib/python3.7/site-packages/tensorboard/manager.py\", line 155, in _info_from_string\n",
      "    raise ValueError(\"incompatible version: %r\" % (json_value,))\n",
      "ValueError: incompatible version: {'cache_key': 'eyJhcmd1bWVudHMiOlsiLS1sb2dkaXIiLCJsb2dzIl0sImNvbmZpZ3VyZV9rd2FyZ3MiOnt9LCJ3b3JraW5nX2RpcmVjdG9yeSI6Ii9ob21lL2l2YW4vRGVza3RvcC9MYW1iZGEvVW5pdDQvU3ByaW50Mi9EUy1Vbml0LTQtU3ByaW50LTItTmV1cmFsLU5ldHdvcmtzL21vZHVsZTMtSW50cm8tdG8tS2VyYXMifQ==', 'db': '', 'logdir': 'logs', 'path_prefix': '', 'pid': 13979, 'port': 6006, 'start_time': 1587047316, 'version': '2.2.0'}\n",
      "W0416 10:28:47.181021 139856158365504 manager.py:321] invalid info file: '/tmp/.tensorboard-info/pid-13979.info'\n",
      "Traceback (most recent call last):\n",
      "  File \"/home/ivan/anaconda3/envs/Unit4Sprint2/lib/python3.7/site-packages/tensorboard/manager.py\", line 316, in get_all\n",
      "    info = _info_from_string(contents)\n",
      "  File \"/home/ivan/anaconda3/envs/Unit4Sprint2/lib/python3.7/site-packages/tensorboard/manager.py\", line 155, in _info_from_string\n",
      "    raise ValueError(\"incompatible version: %r\" % (json_value,))\n",
      "ValueError: incompatible version: {'cache_key': 'eyJhcmd1bWVudHMiOlsiLS1sb2dkaXIiLCJsb2dzIl0sImNvbmZpZ3VyZV9rd2FyZ3MiOnt9LCJ3b3JraW5nX2RpcmVjdG9yeSI6Ii9ob21lL2l2YW4vRGVza3RvcC9MYW1iZGEvVW5pdDQvU3ByaW50Mi9EUy1Vbml0LTQtU3ByaW50LTItTmV1cmFsLU5ldHdvcmtzL21vZHVsZTMtSW50cm8tdG8tS2VyYXMifQ==', 'db': '', 'logdir': 'logs', 'path_prefix': '', 'pid': 13979, 'port': 6006, 'start_time': 1587047316, 'version': '2.2.0'}\n",
      "W0416 10:28:47.683105 139856158365504 manager.py:321] invalid info file: '/tmp/.tensorboard-info/pid-13979.info'\n",
      "Traceback (most recent call last):\n",
      "  File \"/home/ivan/anaconda3/envs/Unit4Sprint2/lib/python3.7/site-packages/tensorboard/manager.py\", line 316, in get_all\n",
      "    info = _info_from_string(contents)\n",
      "  File \"/home/ivan/anaconda3/envs/Unit4Sprint2/lib/python3.7/site-packages/tensorboard/manager.py\", line 155, in _info_from_string\n",
      "    raise ValueError(\"incompatible version: %r\" % (json_value,))\n",
      "ValueError: incompatible version: {'cache_key': 'eyJhcmd1bWVudHMiOlsiLS1sb2dkaXIiLCJsb2dzIl0sImNvbmZpZ3VyZV9rd2FyZ3MiOnt9LCJ3b3JraW5nX2RpcmVjdG9yeSI6Ii9ob21lL2l2YW4vRGVza3RvcC9MYW1iZGEvVW5pdDQvU3ByaW50Mi9EUy1Vbml0LTQtU3ByaW50LTItTmV1cmFsLU5ldHdvcmtzL21vZHVsZTMtSW50cm8tdG8tS2VyYXMifQ==', 'db': '', 'logdir': 'logs', 'path_prefix': '', 'pid': 13979, 'port': 6006, 'start_time': 1587047316, 'version': '2.2.0'}\n",
      "W0416 10:28:48.185710 139856158365504 manager.py:321] invalid info file: '/tmp/.tensorboard-info/pid-13979.info'\n",
      "Traceback (most recent call last):\n",
      "  File \"/home/ivan/anaconda3/envs/Unit4Sprint2/lib/python3.7/site-packages/tensorboard/manager.py\", line 316, in get_all\n",
      "    info = _info_from_string(contents)\n",
      "  File \"/home/ivan/anaconda3/envs/Unit4Sprint2/lib/python3.7/site-packages/tensorboard/manager.py\", line 155, in _info_from_string\n",
      "    raise ValueError(\"incompatible version: %r\" % (json_value,))\n",
      "ValueError: incompatible version: {'cache_key': 'eyJhcmd1bWVudHMiOlsiLS1sb2dkaXIiLCJsb2dzIl0sImNvbmZpZ3VyZV9rd2FyZ3MiOnt9LCJ3b3JraW5nX2RpcmVjdG9yeSI6Ii9ob21lL2l2YW4vRGVza3RvcC9MYW1iZGEvVW5pdDQvU3ByaW50Mi9EUy1Vbml0LTQtU3ByaW50LTItTmV1cmFsLU5ldHdvcmtzL21vZHVsZTMtSW50cm8tdG8tS2VyYXMifQ==', 'db': '', 'logdir': 'logs', 'path_prefix': '', 'pid': 13979, 'port': 6006, 'start_time': 1587047316, 'version': '2.2.0'}\n",
      "W0416 10:28:48.687381 139856158365504 manager.py:321] invalid info file: '/tmp/.tensorboard-info/pid-13979.info'\n",
      "Traceback (most recent call last):\n",
      "  File \"/home/ivan/anaconda3/envs/Unit4Sprint2/lib/python3.7/site-packages/tensorboard/manager.py\", line 316, in get_all\n",
      "    info = _info_from_string(contents)\n",
      "  File \"/home/ivan/anaconda3/envs/Unit4Sprint2/lib/python3.7/site-packages/tensorboard/manager.py\", line 155, in _info_from_string\n",
      "    raise ValueError(\"incompatible version: %r\" % (json_value,))\n",
      "ValueError: incompatible version: {'cache_key': 'eyJhcmd1bWVudHMiOlsiLS1sb2dkaXIiLCJsb2dzIl0sImNvbmZpZ3VyZV9rd2FyZ3MiOnt9LCJ3b3JraW5nX2RpcmVjdG9yeSI6Ii9ob21lL2l2YW4vRGVza3RvcC9MYW1iZGEvVW5pdDQvU3ByaW50Mi9EUy1Vbml0LTQtU3ByaW50LTItTmV1cmFsLU5ldHdvcmtzL21vZHVsZTMtSW50cm8tdG8tS2VyYXMifQ==', 'db': '', 'logdir': 'logs', 'path_prefix': '', 'pid': 13979, 'port': 6006, 'start_time': 1587047316, 'version': '2.2.0'}\n",
      "W0416 10:28:49.190436 139856158365504 manager.py:321] invalid info file: '/tmp/.tensorboard-info/pid-13979.info'\n",
      "Traceback (most recent call last):\n",
      "  File \"/home/ivan/anaconda3/envs/Unit4Sprint2/lib/python3.7/site-packages/tensorboard/manager.py\", line 316, in get_all\n",
      "    info = _info_from_string(contents)\n",
      "  File \"/home/ivan/anaconda3/envs/Unit4Sprint2/lib/python3.7/site-packages/tensorboard/manager.py\", line 155, in _info_from_string\n",
      "    raise ValueError(\"incompatible version: %r\" % (json_value,))\n",
      "ValueError: incompatible version: {'cache_key': 'eyJhcmd1bWVudHMiOlsiLS1sb2dkaXIiLCJsb2dzIl0sImNvbmZpZ3VyZV9rd2FyZ3MiOnt9LCJ3b3JraW5nX2RpcmVjdG9yeSI6Ii9ob21lL2l2YW4vRGVza3RvcC9MYW1iZGEvVW5pdDQvU3ByaW50Mi9EUy1Vbml0LTQtU3ByaW50LTItTmV1cmFsLU5ldHdvcmtzL21vZHVsZTMtSW50cm8tdG8tS2VyYXMifQ==', 'db': '', 'logdir': 'logs', 'path_prefix': '', 'pid': 13979, 'port': 6006, 'start_time': 1587047316, 'version': '2.2.0'}\n",
      "W0416 10:28:49.691924 139856158365504 manager.py:321] invalid info file: '/tmp/.tensorboard-info/pid-13979.info'\n",
      "Traceback (most recent call last):\n",
      "  File \"/home/ivan/anaconda3/envs/Unit4Sprint2/lib/python3.7/site-packages/tensorboard/manager.py\", line 316, in get_all\n",
      "    info = _info_from_string(contents)\n",
      "  File \"/home/ivan/anaconda3/envs/Unit4Sprint2/lib/python3.7/site-packages/tensorboard/manager.py\", line 155, in _info_from_string\n",
      "    raise ValueError(\"incompatible version: %r\" % (json_value,))\n",
      "ValueError: incompatible version: {'cache_key': 'eyJhcmd1bWVudHMiOlsiLS1sb2dkaXIiLCJsb2dzIl0sImNvbmZpZ3VyZV9rd2FyZ3MiOnt9LCJ3b3JraW5nX2RpcmVjdG9yeSI6Ii9ob21lL2l2YW4vRGVza3RvcC9MYW1iZGEvVW5pdDQvU3ByaW50Mi9EUy1Vbml0LTQtU3ByaW50LTItTmV1cmFsLU5ldHdvcmtzL21vZHVsZTMtSW50cm8tdG8tS2VyYXMifQ==', 'db': '', 'logdir': 'logs', 'path_prefix': '', 'pid': 13979, 'port': 6006, 'start_time': 1587047316, 'version': '2.2.0'}\n",
      "W0416 10:28:50.194259 139856158365504 manager.py:321] invalid info file: '/tmp/.tensorboard-info/pid-13979.info'\n",
      "Traceback (most recent call last):\n",
      "  File \"/home/ivan/anaconda3/envs/Unit4Sprint2/lib/python3.7/site-packages/tensorboard/manager.py\", line 316, in get_all\n",
      "    info = _info_from_string(contents)\n",
      "  File \"/home/ivan/anaconda3/envs/Unit4Sprint2/lib/python3.7/site-packages/tensorboard/manager.py\", line 155, in _info_from_string\n",
      "    raise ValueError(\"incompatible version: %r\" % (json_value,))\n",
      "ValueError: incompatible version: {'cache_key': 'eyJhcmd1bWVudHMiOlsiLS1sb2dkaXIiLCJsb2dzIl0sImNvbmZpZ3VyZV9rd2FyZ3MiOnt9LCJ3b3JraW5nX2RpcmVjdG9yeSI6Ii9ob21lL2l2YW4vRGVza3RvcC9MYW1iZGEvVW5pdDQvU3ByaW50Mi9EUy1Vbml0LTQtU3ByaW50LTItTmV1cmFsLU5ldHdvcmtzL21vZHVsZTMtSW50cm8tdG8tS2VyYXMifQ==', 'db': '', 'logdir': 'logs', 'path_prefix': '', 'pid': 13979, 'port': 6006, 'start_time': 1587047316, 'version': '2.2.0'}\n",
      "W0416 10:28:50.698154 139856158365504 manager.py:321] invalid info file: '/tmp/.tensorboard-info/pid-13979.info'\n",
      "Traceback (most recent call last):\n",
      "  File \"/home/ivan/anaconda3/envs/Unit4Sprint2/lib/python3.7/site-packages/tensorboard/manager.py\", line 316, in get_all\n",
      "    info = _info_from_string(contents)\n",
      "  File \"/home/ivan/anaconda3/envs/Unit4Sprint2/lib/python3.7/site-packages/tensorboard/manager.py\", line 155, in _info_from_string\n",
      "    raise ValueError(\"incompatible version: %r\" % (json_value,))\n",
      "ValueError: incompatible version: {'cache_key': 'eyJhcmd1bWVudHMiOlsiLS1sb2dkaXIiLCJsb2dzIl0sImNvbmZpZ3VyZV9rd2FyZ3MiOnt9LCJ3b3JraW5nX2RpcmVjdG9yeSI6Ii9ob21lL2l2YW4vRGVza3RvcC9MYW1iZGEvVW5pdDQvU3ByaW50Mi9EUy1Vbml0LTQtU3ByaW50LTItTmV1cmFsLU5ldHdvcmtzL21vZHVsZTMtSW50cm8tdG8tS2VyYXMifQ==', 'db': '', 'logdir': 'logs', 'path_prefix': '', 'pid': 13979, 'port': 6006, 'start_time': 1587047316, 'version': '2.2.0'}\n",
      "W0416 10:28:51.201477 139856158365504 manager.py:321] invalid info file: '/tmp/.tensorboard-info/pid-13979.info'\n",
      "Traceback (most recent call last):\n",
      "  File \"/home/ivan/anaconda3/envs/Unit4Sprint2/lib/python3.7/site-packages/tensorboard/manager.py\", line 316, in get_all\n",
      "    info = _info_from_string(contents)\n",
      "  File \"/home/ivan/anaconda3/envs/Unit4Sprint2/lib/python3.7/site-packages/tensorboard/manager.py\", line 155, in _info_from_string\n",
      "    raise ValueError(\"incompatible version: %r\" % (json_value,))\n",
      "ValueError: incompatible version: {'cache_key': 'eyJhcmd1bWVudHMiOlsiLS1sb2dkaXIiLCJsb2dzIl0sImNvbmZpZ3VyZV9rd2FyZ3MiOnt9LCJ3b3JraW5nX2RpcmVjdG9yeSI6Ii9ob21lL2l2YW4vRGVza3RvcC9MYW1iZGEvVW5pdDQvU3ByaW50Mi9EUy1Vbml0LTQtU3ByaW50LTItTmV1cmFsLU5ldHdvcmtzL21vZHVsZTMtSW50cm8tdG8tS2VyYXMifQ==', 'db': '', 'logdir': 'logs', 'path_prefix': '', 'pid': 13979, 'port': 6006, 'start_time': 1587047316, 'version': '2.2.0'}\n",
      "W0416 10:28:51.704035 139856158365504 manager.py:321] invalid info file: '/tmp/.tensorboard-info/pid-13979.info'\n",
      "Traceback (most recent call last):\n",
      "  File \"/home/ivan/anaconda3/envs/Unit4Sprint2/lib/python3.7/site-packages/tensorboard/manager.py\", line 316, in get_all\n",
      "    info = _info_from_string(contents)\n",
      "  File \"/home/ivan/anaconda3/envs/Unit4Sprint2/lib/python3.7/site-packages/tensorboard/manager.py\", line 155, in _info_from_string\n",
      "    raise ValueError(\"incompatible version: %r\" % (json_value,))\n",
      "ValueError: incompatible version: {'cache_key': 'eyJhcmd1bWVudHMiOlsiLS1sb2dkaXIiLCJsb2dzIl0sImNvbmZpZ3VyZV9rd2FyZ3MiOnt9LCJ3b3JraW5nX2RpcmVjdG9yeSI6Ii9ob21lL2l2YW4vRGVza3RvcC9MYW1iZGEvVW5pdDQvU3ByaW50Mi9EUy1Vbml0LTQtU3ByaW50LTItTmV1cmFsLU5ldHdvcmtzL21vZHVsZTMtSW50cm8tdG8tS2VyYXMifQ==', 'db': '', 'logdir': 'logs', 'path_prefix': '', 'pid': 13979, 'port': 6006, 'start_time': 1587047316, 'version': '2.2.0'}\n",
      "W0416 10:28:52.207823 139856158365504 manager.py:321] invalid info file: '/tmp/.tensorboard-info/pid-13979.info'\n",
      "Traceback (most recent call last):\n",
      "  File \"/home/ivan/anaconda3/envs/Unit4Sprint2/lib/python3.7/site-packages/tensorboard/manager.py\", line 316, in get_all\n",
      "    info = _info_from_string(contents)\n",
      "  File \"/home/ivan/anaconda3/envs/Unit4Sprint2/lib/python3.7/site-packages/tensorboard/manager.py\", line 155, in _info_from_string\n",
      "    raise ValueError(\"incompatible version: %r\" % (json_value,))\n",
      "ValueError: incompatible version: {'cache_key': 'eyJhcmd1bWVudHMiOlsiLS1sb2dkaXIiLCJsb2dzIl0sImNvbmZpZ3VyZV9rd2FyZ3MiOnt9LCJ3b3JraW5nX2RpcmVjdG9yeSI6Ii9ob21lL2l2YW4vRGVza3RvcC9MYW1iZGEvVW5pdDQvU3ByaW50Mi9EUy1Vbml0LTQtU3ByaW50LTItTmV1cmFsLU5ldHdvcmtzL21vZHVsZTMtSW50cm8tdG8tS2VyYXMifQ==', 'db': '', 'logdir': 'logs', 'path_prefix': '', 'pid': 13979, 'port': 6006, 'start_time': 1587047316, 'version': '2.2.0'}\n",
      "W0416 10:28:52.710015 139856158365504 manager.py:321] invalid info file: '/tmp/.tensorboard-info/pid-13979.info'\n",
      "Traceback (most recent call last):\n",
      "  File \"/home/ivan/anaconda3/envs/Unit4Sprint2/lib/python3.7/site-packages/tensorboard/manager.py\", line 316, in get_all\n",
      "    info = _info_from_string(contents)\n",
      "  File \"/home/ivan/anaconda3/envs/Unit4Sprint2/lib/python3.7/site-packages/tensorboard/manager.py\", line 155, in _info_from_string\n",
      "    raise ValueError(\"incompatible version: %r\" % (json_value,))\n",
      "ValueError: incompatible version: {'cache_key': 'eyJhcmd1bWVudHMiOlsiLS1sb2dkaXIiLCJsb2dzIl0sImNvbmZpZ3VyZV9rd2FyZ3MiOnt9LCJ3b3JraW5nX2RpcmVjdG9yeSI6Ii9ob21lL2l2YW4vRGVza3RvcC9MYW1iZGEvVW5pdDQvU3ByaW50Mi9EUy1Vbml0LTQtU3ByaW50LTItTmV1cmFsLU5ldHdvcmtzL21vZHVsZTMtSW50cm8tdG8tS2VyYXMifQ==', 'db': '', 'logdir': 'logs', 'path_prefix': '', 'pid': 13979, 'port': 6006, 'start_time': 1587047316, 'version': '2.2.0'}\n",
      "W0416 10:28:53.212867 139856158365504 manager.py:321] invalid info file: '/tmp/.tensorboard-info/pid-13979.info'\n",
      "Traceback (most recent call last):\n",
      "  File \"/home/ivan/anaconda3/envs/Unit4Sprint2/lib/python3.7/site-packages/tensorboard/manager.py\", line 316, in get_all\n",
      "    info = _info_from_string(contents)\n",
      "  File \"/home/ivan/anaconda3/envs/Unit4Sprint2/lib/python3.7/site-packages/tensorboard/manager.py\", line 155, in _info_from_string\n",
      "    raise ValueError(\"incompatible version: %r\" % (json_value,))\n",
      "ValueError: incompatible version: {'cache_key': 'eyJhcmd1bWVudHMiOlsiLS1sb2dkaXIiLCJsb2dzIl0sImNvbmZpZ3VyZV9rd2FyZ3MiOnt9LCJ3b3JraW5nX2RpcmVjdG9yeSI6Ii9ob21lL2l2YW4vRGVza3RvcC9MYW1iZGEvVW5pdDQvU3ByaW50Mi9EUy1Vbml0LTQtU3ByaW50LTItTmV1cmFsLU5ldHdvcmtzL21vZHVsZTMtSW50cm8tdG8tS2VyYXMifQ==', 'db': '', 'logdir': 'logs', 'path_prefix': '', 'pid': 13979, 'port': 6006, 'start_time': 1587047316, 'version': '2.2.0'}\n",
      "W0416 10:28:53.715701 139856158365504 manager.py:321] invalid info file: '/tmp/.tensorboard-info/pid-13979.info'\n",
      "Traceback (most recent call last):\n",
      "  File \"/home/ivan/anaconda3/envs/Unit4Sprint2/lib/python3.7/site-packages/tensorboard/manager.py\", line 316, in get_all\n",
      "    info = _info_from_string(contents)\n",
      "  File \"/home/ivan/anaconda3/envs/Unit4Sprint2/lib/python3.7/site-packages/tensorboard/manager.py\", line 155, in _info_from_string\n",
      "    raise ValueError(\"incompatible version: %r\" % (json_value,))\n",
      "ValueError: incompatible version: {'cache_key': 'eyJhcmd1bWVudHMiOlsiLS1sb2dkaXIiLCJsb2dzIl0sImNvbmZpZ3VyZV9rd2FyZ3MiOnt9LCJ3b3JraW5nX2RpcmVjdG9yeSI6Ii9ob21lL2l2YW4vRGVza3RvcC9MYW1iZGEvVW5pdDQvU3ByaW50Mi9EUy1Vbml0LTQtU3ByaW50LTItTmV1cmFsLU5ldHdvcmtzL21vZHVsZTMtSW50cm8tdG8tS2VyYXMifQ==', 'db': '', 'logdir': 'logs', 'path_prefix': '', 'pid': 13979, 'port': 6006, 'start_time': 1587047316, 'version': '2.2.0'}\n",
      "W0416 10:28:54.219038 139856158365504 manager.py:321] invalid info file: '/tmp/.tensorboard-info/pid-13979.info'\n",
      "Traceback (most recent call last):\n",
      "  File \"/home/ivan/anaconda3/envs/Unit4Sprint2/lib/python3.7/site-packages/tensorboard/manager.py\", line 316, in get_all\n",
      "    info = _info_from_string(contents)\n",
      "  File \"/home/ivan/anaconda3/envs/Unit4Sprint2/lib/python3.7/site-packages/tensorboard/manager.py\", line 155, in _info_from_string\n",
      "    raise ValueError(\"incompatible version: %r\" % (json_value,))\n",
      "ValueError: incompatible version: {'cache_key': 'eyJhcmd1bWVudHMiOlsiLS1sb2dkaXIiLCJsb2dzIl0sImNvbmZpZ3VyZV9rd2FyZ3MiOnt9LCJ3b3JraW5nX2RpcmVjdG9yeSI6Ii9ob21lL2l2YW4vRGVza3RvcC9MYW1iZGEvVW5pdDQvU3ByaW50Mi9EUy1Vbml0LTQtU3ByaW50LTItTmV1cmFsLU5ldHdvcmtzL21vZHVsZTMtSW50cm8tdG8tS2VyYXMifQ==', 'db': '', 'logdir': 'logs', 'path_prefix': '', 'pid': 13979, 'port': 6006, 'start_time': 1587047316, 'version': '2.2.0'}\n",
      "W0416 10:28:54.721060 139856158365504 manager.py:321] invalid info file: '/tmp/.tensorboard-info/pid-13979.info'\n",
      "Traceback (most recent call last):\n",
      "  File \"/home/ivan/anaconda3/envs/Unit4Sprint2/lib/python3.7/site-packages/tensorboard/manager.py\", line 316, in get_all\n",
      "    info = _info_from_string(contents)\n",
      "  File \"/home/ivan/anaconda3/envs/Unit4Sprint2/lib/python3.7/site-packages/tensorboard/manager.py\", line 155, in _info_from_string\n",
      "    raise ValueError(\"incompatible version: %r\" % (json_value,))\n",
      "ValueError: incompatible version: {'cache_key': 'eyJhcmd1bWVudHMiOlsiLS1sb2dkaXIiLCJsb2dzIl0sImNvbmZpZ3VyZV9rd2FyZ3MiOnt9LCJ3b3JraW5nX2RpcmVjdG9yeSI6Ii9ob21lL2l2YW4vRGVza3RvcC9MYW1iZGEvVW5pdDQvU3ByaW50Mi9EUy1Vbml0LTQtU3ByaW50LTItTmV1cmFsLU5ldHdvcmtzL21vZHVsZTMtSW50cm8tdG8tS2VyYXMifQ==', 'db': '', 'logdir': 'logs', 'path_prefix': '', 'pid': 13979, 'port': 6006, 'start_time': 1587047316, 'version': '2.2.0'}\n",
      "W0416 10:28:55.222896 139856158365504 manager.py:321] invalid info file: '/tmp/.tensorboard-info/pid-13979.info'\n",
      "Traceback (most recent call last):\n",
      "  File \"/home/ivan/anaconda3/envs/Unit4Sprint2/lib/python3.7/site-packages/tensorboard/manager.py\", line 316, in get_all\n",
      "    info = _info_from_string(contents)\n",
      "  File \"/home/ivan/anaconda3/envs/Unit4Sprint2/lib/python3.7/site-packages/tensorboard/manager.py\", line 155, in _info_from_string\n",
      "    raise ValueError(\"incompatible version: %r\" % (json_value,))\n",
      "ValueError: incompatible version: {'cache_key': 'eyJhcmd1bWVudHMiOlsiLS1sb2dkaXIiLCJsb2dzIl0sImNvbmZpZ3VyZV9rd2FyZ3MiOnt9LCJ3b3JraW5nX2RpcmVjdG9yeSI6Ii9ob21lL2l2YW4vRGVza3RvcC9MYW1iZGEvVW5pdDQvU3ByaW50Mi9EUy1Vbml0LTQtU3ByaW50LTItTmV1cmFsLU5ldHdvcmtzL21vZHVsZTMtSW50cm8tdG8tS2VyYXMifQ==', 'db': '', 'logdir': 'logs', 'path_prefix': '', 'pid': 13979, 'port': 6006, 'start_time': 1587047316, 'version': '2.2.0'}\n",
      "W0416 10:28:55.725346 139856158365504 manager.py:321] invalid info file: '/tmp/.tensorboard-info/pid-13979.info'\n",
      "Traceback (most recent call last):\n",
      "  File \"/home/ivan/anaconda3/envs/Unit4Sprint2/lib/python3.7/site-packages/tensorboard/manager.py\", line 316, in get_all\n",
      "    info = _info_from_string(contents)\n",
      "  File \"/home/ivan/anaconda3/envs/Unit4Sprint2/lib/python3.7/site-packages/tensorboard/manager.py\", line 155, in _info_from_string\n",
      "    raise ValueError(\"incompatible version: %r\" % (json_value,))\n",
      "ValueError: incompatible version: {'cache_key': 'eyJhcmd1bWVudHMiOlsiLS1sb2dkaXIiLCJsb2dzIl0sImNvbmZpZ3VyZV9rd2FyZ3MiOnt9LCJ3b3JraW5nX2RpcmVjdG9yeSI6Ii9ob21lL2l2YW4vRGVza3RvcC9MYW1iZGEvVW5pdDQvU3ByaW50Mi9EUy1Vbml0LTQtU3ByaW50LTItTmV1cmFsLU5ldHdvcmtzL21vZHVsZTMtSW50cm8tdG8tS2VyYXMifQ==', 'db': '', 'logdir': 'logs', 'path_prefix': '', 'pid': 13979, 'port': 6006, 'start_time': 1587047316, 'version': '2.2.0'}\n",
      "W0416 10:28:56.229088 139856158365504 manager.py:321] invalid info file: '/tmp/.tensorboard-info/pid-13979.info'\n",
      "Traceback (most recent call last):\n",
      "  File \"/home/ivan/anaconda3/envs/Unit4Sprint2/lib/python3.7/site-packages/tensorboard/manager.py\", line 316, in get_all\n",
      "    info = _info_from_string(contents)\n",
      "  File \"/home/ivan/anaconda3/envs/Unit4Sprint2/lib/python3.7/site-packages/tensorboard/manager.py\", line 155, in _info_from_string\n",
      "    raise ValueError(\"incompatible version: %r\" % (json_value,))\n",
      "ValueError: incompatible version: {'cache_key': 'eyJhcmd1bWVudHMiOlsiLS1sb2dkaXIiLCJsb2dzIl0sImNvbmZpZ3VyZV9rd2FyZ3MiOnt9LCJ3b3JraW5nX2RpcmVjdG9yeSI6Ii9ob21lL2l2YW4vRGVza3RvcC9MYW1iZGEvVW5pdDQvU3ByaW50Mi9EUy1Vbml0LTQtU3ByaW50LTItTmV1cmFsLU5ldHdvcmtzL21vZHVsZTMtSW50cm8tdG8tS2VyYXMifQ==', 'db': '', 'logdir': 'logs', 'path_prefix': '', 'pid': 13979, 'port': 6006, 'start_time': 1587047316, 'version': '2.2.0'}\n",
      "W0416 10:28:56.731793 139856158365504 manager.py:321] invalid info file: '/tmp/.tensorboard-info/pid-13979.info'\n",
      "Traceback (most recent call last):\n",
      "  File \"/home/ivan/anaconda3/envs/Unit4Sprint2/lib/python3.7/site-packages/tensorboard/manager.py\", line 316, in get_all\n",
      "    info = _info_from_string(contents)\n",
      "  File \"/home/ivan/anaconda3/envs/Unit4Sprint2/lib/python3.7/site-packages/tensorboard/manager.py\", line 155, in _info_from_string\n",
      "    raise ValueError(\"incompatible version: %r\" % (json_value,))\n",
      "ValueError: incompatible version: {'cache_key': 'eyJhcmd1bWVudHMiOlsiLS1sb2dkaXIiLCJsb2dzIl0sImNvbmZpZ3VyZV9rd2FyZ3MiOnt9LCJ3b3JraW5nX2RpcmVjdG9yeSI6Ii9ob21lL2l2YW4vRGVza3RvcC9MYW1iZGEvVW5pdDQvU3ByaW50Mi9EUy1Vbml0LTQtU3ByaW50LTItTmV1cmFsLU5ldHdvcmtzL21vZHVsZTMtSW50cm8tdG8tS2VyYXMifQ==', 'db': '', 'logdir': 'logs', 'path_prefix': '', 'pid': 13979, 'port': 6006, 'start_time': 1587047316, 'version': '2.2.0'}\n",
      "W0416 10:28:57.233820 139856158365504 manager.py:321] invalid info file: '/tmp/.tensorboard-info/pid-13979.info'\n",
      "Traceback (most recent call last):\n",
      "  File \"/home/ivan/anaconda3/envs/Unit4Sprint2/lib/python3.7/site-packages/tensorboard/manager.py\", line 316, in get_all\n",
      "    info = _info_from_string(contents)\n",
      "  File \"/home/ivan/anaconda3/envs/Unit4Sprint2/lib/python3.7/site-packages/tensorboard/manager.py\", line 155, in _info_from_string\n",
      "    raise ValueError(\"incompatible version: %r\" % (json_value,))\n",
      "ValueError: incompatible version: {'cache_key': 'eyJhcmd1bWVudHMiOlsiLS1sb2dkaXIiLCJsb2dzIl0sImNvbmZpZ3VyZV9rd2FyZ3MiOnt9LCJ3b3JraW5nX2RpcmVjdG9yeSI6Ii9ob21lL2l2YW4vRGVza3RvcC9MYW1iZGEvVW5pdDQvU3ByaW50Mi9EUy1Vbml0LTQtU3ByaW50LTItTmV1cmFsLU5ldHdvcmtzL21vZHVsZTMtSW50cm8tdG8tS2VyYXMifQ==', 'db': '', 'logdir': 'logs', 'path_prefix': '', 'pid': 13979, 'port': 6006, 'start_time': 1587047316, 'version': '2.2.0'}\n",
      "W0416 10:28:57.736873 139856158365504 manager.py:321] invalid info file: '/tmp/.tensorboard-info/pid-13979.info'\n",
      "Traceback (most recent call last):\n",
      "  File \"/home/ivan/anaconda3/envs/Unit4Sprint2/lib/python3.7/site-packages/tensorboard/manager.py\", line 316, in get_all\n",
      "    info = _info_from_string(contents)\n",
      "  File \"/home/ivan/anaconda3/envs/Unit4Sprint2/lib/python3.7/site-packages/tensorboard/manager.py\", line 155, in _info_from_string\n",
      "    raise ValueError(\"incompatible version: %r\" % (json_value,))\n",
      "ValueError: incompatible version: {'cache_key': 'eyJhcmd1bWVudHMiOlsiLS1sb2dkaXIiLCJsb2dzIl0sImNvbmZpZ3VyZV9rd2FyZ3MiOnt9LCJ3b3JraW5nX2RpcmVjdG9yeSI6Ii9ob21lL2l2YW4vRGVza3RvcC9MYW1iZGEvVW5pdDQvU3ByaW50Mi9EUy1Vbml0LTQtU3ByaW50LTItTmV1cmFsLU5ldHdvcmtzL21vZHVsZTMtSW50cm8tdG8tS2VyYXMifQ==', 'db': '', 'logdir': 'logs', 'path_prefix': '', 'pid': 13979, 'port': 6006, 'start_time': 1587047316, 'version': '2.2.0'}\n",
      "W0416 10:28:58.240103 139856158365504 manager.py:321] invalid info file: '/tmp/.tensorboard-info/pid-13979.info'\n",
      "Traceback (most recent call last):\n",
      "  File \"/home/ivan/anaconda3/envs/Unit4Sprint2/lib/python3.7/site-packages/tensorboard/manager.py\", line 316, in get_all\n",
      "    info = _info_from_string(contents)\n",
      "  File \"/home/ivan/anaconda3/envs/Unit4Sprint2/lib/python3.7/site-packages/tensorboard/manager.py\", line 155, in _info_from_string\n",
      "    raise ValueError(\"incompatible version: %r\" % (json_value,))\n",
      "ValueError: incompatible version: {'cache_key': 'eyJhcmd1bWVudHMiOlsiLS1sb2dkaXIiLCJsb2dzIl0sImNvbmZpZ3VyZV9rd2FyZ3MiOnt9LCJ3b3JraW5nX2RpcmVjdG9yeSI6Ii9ob21lL2l2YW4vRGVza3RvcC9MYW1iZGEvVW5pdDQvU3ByaW50Mi9EUy1Vbml0LTQtU3ByaW50LTItTmV1cmFsLU5ldHdvcmtzL21vZHVsZTMtSW50cm8tdG8tS2VyYXMifQ==', 'db': '', 'logdir': 'logs', 'path_prefix': '', 'pid': 13979, 'port': 6006, 'start_time': 1587047316, 'version': '2.2.0'}\n",
      "W0416 10:28:58.742634 139856158365504 manager.py:321] invalid info file: '/tmp/.tensorboard-info/pid-13979.info'\n",
      "Traceback (most recent call last):\n",
      "  File \"/home/ivan/anaconda3/envs/Unit4Sprint2/lib/python3.7/site-packages/tensorboard/manager.py\", line 316, in get_all\n",
      "    info = _info_from_string(contents)\n",
      "  File \"/home/ivan/anaconda3/envs/Unit4Sprint2/lib/python3.7/site-packages/tensorboard/manager.py\", line 155, in _info_from_string\n",
      "    raise ValueError(\"incompatible version: %r\" % (json_value,))\n",
      "ValueError: incompatible version: {'cache_key': 'eyJhcmd1bWVudHMiOlsiLS1sb2dkaXIiLCJsb2dzIl0sImNvbmZpZ3VyZV9rd2FyZ3MiOnt9LCJ3b3JraW5nX2RpcmVjdG9yeSI6Ii9ob21lL2l2YW4vRGVza3RvcC9MYW1iZGEvVW5pdDQvU3ByaW50Mi9EUy1Vbml0LTQtU3ByaW50LTItTmV1cmFsLU5ldHdvcmtzL21vZHVsZTMtSW50cm8tdG8tS2VyYXMifQ==', 'db': '', 'logdir': 'logs', 'path_prefix': '', 'pid': 13979, 'port': 6006, 'start_time': 1587047316, 'version': '2.2.0'}\n",
      "W0416 10:28:59.244696 139856158365504 manager.py:321] invalid info file: '/tmp/.tensorboard-info/pid-13979.info'\n",
      "Traceback (most recent call last):\n",
      "  File \"/home/ivan/anaconda3/envs/Unit4Sprint2/lib/python3.7/site-packages/tensorboard/manager.py\", line 316, in get_all\n",
      "    info = _info_from_string(contents)\n",
      "  File \"/home/ivan/anaconda3/envs/Unit4Sprint2/lib/python3.7/site-packages/tensorboard/manager.py\", line 155, in _info_from_string\n",
      "    raise ValueError(\"incompatible version: %r\" % (json_value,))\n",
      "ValueError: incompatible version: {'cache_key': 'eyJhcmd1bWVudHMiOlsiLS1sb2dkaXIiLCJsb2dzIl0sImNvbmZpZ3VyZV9rd2FyZ3MiOnt9LCJ3b3JraW5nX2RpcmVjdG9yeSI6Ii9ob21lL2l2YW4vRGVza3RvcC9MYW1iZGEvVW5pdDQvU3ByaW50Mi9EUy1Vbml0LTQtU3ByaW50LTItTmV1cmFsLU5ldHdvcmtzL21vZHVsZTMtSW50cm8tdG8tS2VyYXMifQ==', 'db': '', 'logdir': 'logs', 'path_prefix': '', 'pid': 13979, 'port': 6006, 'start_time': 1587047316, 'version': '2.2.0'}\n",
      "W0416 10:28:59.746441 139856158365504 manager.py:321] invalid info file: '/tmp/.tensorboard-info/pid-13979.info'\n",
      "Traceback (most recent call last):\n",
      "  File \"/home/ivan/anaconda3/envs/Unit4Sprint2/lib/python3.7/site-packages/tensorboard/manager.py\", line 316, in get_all\n",
      "    info = _info_from_string(contents)\n",
      "  File \"/home/ivan/anaconda3/envs/Unit4Sprint2/lib/python3.7/site-packages/tensorboard/manager.py\", line 155, in _info_from_string\n",
      "    raise ValueError(\"incompatible version: %r\" % (json_value,))\n",
      "ValueError: incompatible version: {'cache_key': 'eyJhcmd1bWVudHMiOlsiLS1sb2dkaXIiLCJsb2dzIl0sImNvbmZpZ3VyZV9rd2FyZ3MiOnt9LCJ3b3JraW5nX2RpcmVjdG9yeSI6Ii9ob21lL2l2YW4vRGVza3RvcC9MYW1iZGEvVW5pdDQvU3ByaW50Mi9EUy1Vbml0LTQtU3ByaW50LTItTmV1cmFsLU5ldHdvcmtzL21vZHVsZTMtSW50cm8tdG8tS2VyYXMifQ==', 'db': '', 'logdir': 'logs', 'path_prefix': '', 'pid': 13979, 'port': 6006, 'start_time': 1587047316, 'version': '2.2.0'}\n",
      "W0416 10:29:00.248320 139856158365504 manager.py:321] invalid info file: '/tmp/.tensorboard-info/pid-13979.info'\n",
      "Traceback (most recent call last):\n",
      "  File \"/home/ivan/anaconda3/envs/Unit4Sprint2/lib/python3.7/site-packages/tensorboard/manager.py\", line 316, in get_all\n",
      "    info = _info_from_string(contents)\n",
      "  File \"/home/ivan/anaconda3/envs/Unit4Sprint2/lib/python3.7/site-packages/tensorboard/manager.py\", line 155, in _info_from_string\n",
      "    raise ValueError(\"incompatible version: %r\" % (json_value,))\n",
      "ValueError: incompatible version: {'cache_key': 'eyJhcmd1bWVudHMiOlsiLS1sb2dkaXIiLCJsb2dzIl0sImNvbmZpZ3VyZV9rd2FyZ3MiOnt9LCJ3b3JraW5nX2RpcmVjdG9yeSI6Ii9ob21lL2l2YW4vRGVza3RvcC9MYW1iZGEvVW5pdDQvU3ByaW50Mi9EUy1Vbml0LTQtU3ByaW50LTItTmV1cmFsLU5ldHdvcmtzL21vZHVsZTMtSW50cm8tdG8tS2VyYXMifQ==', 'db': '', 'logdir': 'logs', 'path_prefix': '', 'pid': 13979, 'port': 6006, 'start_time': 1587047316, 'version': '2.2.0'}\n",
      "W0416 10:29:00.750183 139856158365504 manager.py:321] invalid info file: '/tmp/.tensorboard-info/pid-13979.info'\n",
      "Traceback (most recent call last):\n",
      "  File \"/home/ivan/anaconda3/envs/Unit4Sprint2/lib/python3.7/site-packages/tensorboard/manager.py\", line 316, in get_all\n",
      "    info = _info_from_string(contents)\n",
      "  File \"/home/ivan/anaconda3/envs/Unit4Sprint2/lib/python3.7/site-packages/tensorboard/manager.py\", line 155, in _info_from_string\n",
      "    raise ValueError(\"incompatible version: %r\" % (json_value,))\n",
      "ValueError: incompatible version: {'cache_key': 'eyJhcmd1bWVudHMiOlsiLS1sb2dkaXIiLCJsb2dzIl0sImNvbmZpZ3VyZV9rd2FyZ3MiOnt9LCJ3b3JraW5nX2RpcmVjdG9yeSI6Ii9ob21lL2l2YW4vRGVza3RvcC9MYW1iZGEvVW5pdDQvU3ByaW50Mi9EUy1Vbml0LTQtU3ByaW50LTItTmV1cmFsLU5ldHdvcmtzL21vZHVsZTMtSW50cm8tdG8tS2VyYXMifQ==', 'db': '', 'logdir': 'logs', 'path_prefix': '', 'pid': 13979, 'port': 6006, 'start_time': 1587047316, 'version': '2.2.0'}\n",
      "W0416 10:29:01.251765 139856158365504 manager.py:321] invalid info file: '/tmp/.tensorboard-info/pid-13979.info'\n",
      "Traceback (most recent call last):\n",
      "  File \"/home/ivan/anaconda3/envs/Unit4Sprint2/lib/python3.7/site-packages/tensorboard/manager.py\", line 316, in get_all\n",
      "    info = _info_from_string(contents)\n",
      "  File \"/home/ivan/anaconda3/envs/Unit4Sprint2/lib/python3.7/site-packages/tensorboard/manager.py\", line 155, in _info_from_string\n",
      "    raise ValueError(\"incompatible version: %r\" % (json_value,))\n",
      "ValueError: incompatible version: {'cache_key': 'eyJhcmd1bWVudHMiOlsiLS1sb2dkaXIiLCJsb2dzIl0sImNvbmZpZ3VyZV9rd2FyZ3MiOnt9LCJ3b3JraW5nX2RpcmVjdG9yeSI6Ii9ob21lL2l2YW4vRGVza3RvcC9MYW1iZGEvVW5pdDQvU3ByaW50Mi9EUy1Vbml0LTQtU3ByaW50LTItTmV1cmFsLU5ldHdvcmtzL21vZHVsZTMtSW50cm8tdG8tS2VyYXMifQ==', 'db': '', 'logdir': 'logs', 'path_prefix': '', 'pid': 13979, 'port': 6006, 'start_time': 1587047316, 'version': '2.2.0'}\n",
      "W0416 10:29:01.754168 139856158365504 manager.py:321] invalid info file: '/tmp/.tensorboard-info/pid-13979.info'\n",
      "Traceback (most recent call last):\n",
      "  File \"/home/ivan/anaconda3/envs/Unit4Sprint2/lib/python3.7/site-packages/tensorboard/manager.py\", line 316, in get_all\n",
      "    info = _info_from_string(contents)\n",
      "  File \"/home/ivan/anaconda3/envs/Unit4Sprint2/lib/python3.7/site-packages/tensorboard/manager.py\", line 155, in _info_from_string\n",
      "    raise ValueError(\"incompatible version: %r\" % (json_value,))\n",
      "ValueError: incompatible version: {'cache_key': 'eyJhcmd1bWVudHMiOlsiLS1sb2dkaXIiLCJsb2dzIl0sImNvbmZpZ3VyZV9rd2FyZ3MiOnt9LCJ3b3JraW5nX2RpcmVjdG9yeSI6Ii9ob21lL2l2YW4vRGVza3RvcC9MYW1iZGEvVW5pdDQvU3ByaW50Mi9EUy1Vbml0LTQtU3ByaW50LTItTmV1cmFsLU5ldHdvcmtzL21vZHVsZTMtSW50cm8tdG8tS2VyYXMifQ==', 'db': '', 'logdir': 'logs', 'path_prefix': '', 'pid': 13979, 'port': 6006, 'start_time': 1587047316, 'version': '2.2.0'}\n",
      "W0416 10:29:02.256254 139856158365504 manager.py:321] invalid info file: '/tmp/.tensorboard-info/pid-13979.info'\n",
      "Traceback (most recent call last):\n",
      "  File \"/home/ivan/anaconda3/envs/Unit4Sprint2/lib/python3.7/site-packages/tensorboard/manager.py\", line 316, in get_all\n",
      "    info = _info_from_string(contents)\n",
      "  File \"/home/ivan/anaconda3/envs/Unit4Sprint2/lib/python3.7/site-packages/tensorboard/manager.py\", line 155, in _info_from_string\n",
      "    raise ValueError(\"incompatible version: %r\" % (json_value,))\n",
      "ValueError: incompatible version: {'cache_key': 'eyJhcmd1bWVudHMiOlsiLS1sb2dkaXIiLCJsb2dzIl0sImNvbmZpZ3VyZV9rd2FyZ3MiOnt9LCJ3b3JraW5nX2RpcmVjdG9yeSI6Ii9ob21lL2l2YW4vRGVza3RvcC9MYW1iZGEvVW5pdDQvU3ByaW50Mi9EUy1Vbml0LTQtU3ByaW50LTItTmV1cmFsLU5ldHdvcmtzL21vZHVsZTMtSW50cm8tdG8tS2VyYXMifQ==', 'db': '', 'logdir': 'logs', 'path_prefix': '', 'pid': 13979, 'port': 6006, 'start_time': 1587047316, 'version': '2.2.0'}\n",
      "W0416 10:29:02.759676 139856158365504 manager.py:321] invalid info file: '/tmp/.tensorboard-info/pid-13979.info'\n",
      "Traceback (most recent call last):\n",
      "  File \"/home/ivan/anaconda3/envs/Unit4Sprint2/lib/python3.7/site-packages/tensorboard/manager.py\", line 316, in get_all\n",
      "    info = _info_from_string(contents)\n",
      "  File \"/home/ivan/anaconda3/envs/Unit4Sprint2/lib/python3.7/site-packages/tensorboard/manager.py\", line 155, in _info_from_string\n",
      "    raise ValueError(\"incompatible version: %r\" % (json_value,))\n",
      "ValueError: incompatible version: {'cache_key': 'eyJhcmd1bWVudHMiOlsiLS1sb2dkaXIiLCJsb2dzIl0sImNvbmZpZ3VyZV9rd2FyZ3MiOnt9LCJ3b3JraW5nX2RpcmVjdG9yeSI6Ii9ob21lL2l2YW4vRGVza3RvcC9MYW1iZGEvVW5pdDQvU3ByaW50Mi9EUy1Vbml0LTQtU3ByaW50LTItTmV1cmFsLU5ldHdvcmtzL21vZHVsZTMtSW50cm8tdG8tS2VyYXMifQ==', 'db': '', 'logdir': 'logs', 'path_prefix': '', 'pid': 13979, 'port': 6006, 'start_time': 1587047316, 'version': '2.2.0'}\n",
      "W0416 10:29:03.262415 139856158365504 manager.py:321] invalid info file: '/tmp/.tensorboard-info/pid-13979.info'\n",
      "Traceback (most recent call last):\n",
      "  File \"/home/ivan/anaconda3/envs/Unit4Sprint2/lib/python3.7/site-packages/tensorboard/manager.py\", line 316, in get_all\n",
      "    info = _info_from_string(contents)\n",
      "  File \"/home/ivan/anaconda3/envs/Unit4Sprint2/lib/python3.7/site-packages/tensorboard/manager.py\", line 155, in _info_from_string\n",
      "    raise ValueError(\"incompatible version: %r\" % (json_value,))\n",
      "ValueError: incompatible version: {'cache_key': 'eyJhcmd1bWVudHMiOlsiLS1sb2dkaXIiLCJsb2dzIl0sImNvbmZpZ3VyZV9rd2FyZ3MiOnt9LCJ3b3JraW5nX2RpcmVjdG9yeSI6Ii9ob21lL2l2YW4vRGVza3RvcC9MYW1iZGEvVW5pdDQvU3ByaW50Mi9EUy1Vbml0LTQtU3ByaW50LTItTmV1cmFsLU5ldHdvcmtzL21vZHVsZTMtSW50cm8tdG8tS2VyYXMifQ==', 'db': '', 'logdir': 'logs', 'path_prefix': '', 'pid': 13979, 'port': 6006, 'start_time': 1587047316, 'version': '2.2.0'}\n",
      "W0416 10:29:03.764134 139856158365504 manager.py:321] invalid info file: '/tmp/.tensorboard-info/pid-13979.info'\n",
      "Traceback (most recent call last):\n",
      "  File \"/home/ivan/anaconda3/envs/Unit4Sprint2/lib/python3.7/site-packages/tensorboard/manager.py\", line 316, in get_all\n",
      "    info = _info_from_string(contents)\n",
      "  File \"/home/ivan/anaconda3/envs/Unit4Sprint2/lib/python3.7/site-packages/tensorboard/manager.py\", line 155, in _info_from_string\n",
      "    raise ValueError(\"incompatible version: %r\" % (json_value,))\n",
      "ValueError: incompatible version: {'cache_key': 'eyJhcmd1bWVudHMiOlsiLS1sb2dkaXIiLCJsb2dzIl0sImNvbmZpZ3VyZV9rd2FyZ3MiOnt9LCJ3b3JraW5nX2RpcmVjdG9yeSI6Ii9ob21lL2l2YW4vRGVza3RvcC9MYW1iZGEvVW5pdDQvU3ByaW50Mi9EUy1Vbml0LTQtU3ByaW50LTItTmV1cmFsLU5ldHdvcmtzL21vZHVsZTMtSW50cm8tdG8tS2VyYXMifQ==', 'db': '', 'logdir': 'logs', 'path_prefix': '', 'pid': 13979, 'port': 6006, 'start_time': 1587047316, 'version': '2.2.0'}\n",
      "W0416 10:29:04.266291 139856158365504 manager.py:321] invalid info file: '/tmp/.tensorboard-info/pid-13979.info'\n",
      "Traceback (most recent call last):\n",
      "  File \"/home/ivan/anaconda3/envs/Unit4Sprint2/lib/python3.7/site-packages/tensorboard/manager.py\", line 316, in get_all\n",
      "    info = _info_from_string(contents)\n",
      "  File \"/home/ivan/anaconda3/envs/Unit4Sprint2/lib/python3.7/site-packages/tensorboard/manager.py\", line 155, in _info_from_string\n",
      "    raise ValueError(\"incompatible version: %r\" % (json_value,))\n",
      "ValueError: incompatible version: {'cache_key': 'eyJhcmd1bWVudHMiOlsiLS1sb2dkaXIiLCJsb2dzIl0sImNvbmZpZ3VyZV9rd2FyZ3MiOnt9LCJ3b3JraW5nX2RpcmVjdG9yeSI6Ii9ob21lL2l2YW4vRGVza3RvcC9MYW1iZGEvVW5pdDQvU3ByaW50Mi9EUy1Vbml0LTQtU3ByaW50LTItTmV1cmFsLU5ldHdvcmtzL21vZHVsZTMtSW50cm8tdG8tS2VyYXMifQ==', 'db': '', 'logdir': 'logs', 'path_prefix': '', 'pid': 13979, 'port': 6006, 'start_time': 1587047316, 'version': '2.2.0'}\n",
      "W0416 10:29:04.767839 139856158365504 manager.py:321] invalid info file: '/tmp/.tensorboard-info/pid-13979.info'\n",
      "Traceback (most recent call last):\n",
      "  File \"/home/ivan/anaconda3/envs/Unit4Sprint2/lib/python3.7/site-packages/tensorboard/manager.py\", line 316, in get_all\n",
      "    info = _info_from_string(contents)\n",
      "  File \"/home/ivan/anaconda3/envs/Unit4Sprint2/lib/python3.7/site-packages/tensorboard/manager.py\", line 155, in _info_from_string\n",
      "    raise ValueError(\"incompatible version: %r\" % (json_value,))\n",
      "ValueError: incompatible version: {'cache_key': 'eyJhcmd1bWVudHMiOlsiLS1sb2dkaXIiLCJsb2dzIl0sImNvbmZpZ3VyZV9rd2FyZ3MiOnt9LCJ3b3JraW5nX2RpcmVjdG9yeSI6Ii9ob21lL2l2YW4vRGVza3RvcC9MYW1iZGEvVW5pdDQvU3ByaW50Mi9EUy1Vbml0LTQtU3ByaW50LTItTmV1cmFsLU5ldHdvcmtzL21vZHVsZTMtSW50cm8tdG8tS2VyYXMifQ==', 'db': '', 'logdir': 'logs', 'path_prefix': '', 'pid': 13979, 'port': 6006, 'start_time': 1587047316, 'version': '2.2.0'}\n",
      "W0416 10:29:05.270314 139856158365504 manager.py:321] invalid info file: '/tmp/.tensorboard-info/pid-13979.info'\n",
      "Traceback (most recent call last):\n",
      "  File \"/home/ivan/anaconda3/envs/Unit4Sprint2/lib/python3.7/site-packages/tensorboard/manager.py\", line 316, in get_all\n",
      "    info = _info_from_string(contents)\n",
      "  File \"/home/ivan/anaconda3/envs/Unit4Sprint2/lib/python3.7/site-packages/tensorboard/manager.py\", line 155, in _info_from_string\n",
      "    raise ValueError(\"incompatible version: %r\" % (json_value,))\n",
      "ValueError: incompatible version: {'cache_key': 'eyJhcmd1bWVudHMiOlsiLS1sb2dkaXIiLCJsb2dzIl0sImNvbmZpZ3VyZV9rd2FyZ3MiOnt9LCJ3b3JraW5nX2RpcmVjdG9yeSI6Ii9ob21lL2l2YW4vRGVza3RvcC9MYW1iZGEvVW5pdDQvU3ByaW50Mi9EUy1Vbml0LTQtU3ByaW50LTItTmV1cmFsLU5ldHdvcmtzL21vZHVsZTMtSW50cm8tdG8tS2VyYXMifQ==', 'db': '', 'logdir': 'logs', 'path_prefix': '', 'pid': 13979, 'port': 6006, 'start_time': 1587047316, 'version': '2.2.0'}\n",
      "W0416 10:29:05.772715 139856158365504 manager.py:321] invalid info file: '/tmp/.tensorboard-info/pid-13979.info'\n",
      "Traceback (most recent call last):\n",
      "  File \"/home/ivan/anaconda3/envs/Unit4Sprint2/lib/python3.7/site-packages/tensorboard/manager.py\", line 316, in get_all\n",
      "    info = _info_from_string(contents)\n",
      "  File \"/home/ivan/anaconda3/envs/Unit4Sprint2/lib/python3.7/site-packages/tensorboard/manager.py\", line 155, in _info_from_string\n",
      "    raise ValueError(\"incompatible version: %r\" % (json_value,))\n",
      "ValueError: incompatible version: {'cache_key': 'eyJhcmd1bWVudHMiOlsiLS1sb2dkaXIiLCJsb2dzIl0sImNvbmZpZ3VyZV9rd2FyZ3MiOnt9LCJ3b3JraW5nX2RpcmVjdG9yeSI6Ii9ob21lL2l2YW4vRGVza3RvcC9MYW1iZGEvVW5pdDQvU3ByaW50Mi9EUy1Vbml0LTQtU3ByaW50LTItTmV1cmFsLU5ldHdvcmtzL21vZHVsZTMtSW50cm8tdG8tS2VyYXMifQ==', 'db': '', 'logdir': 'logs', 'path_prefix': '', 'pid': 13979, 'port': 6006, 'start_time': 1587047316, 'version': '2.2.0'}\n",
      "W0416 10:29:06.275769 139856158365504 manager.py:321] invalid info file: '/tmp/.tensorboard-info/pid-13979.info'\n",
      "Traceback (most recent call last):\n",
      "  File \"/home/ivan/anaconda3/envs/Unit4Sprint2/lib/python3.7/site-packages/tensorboard/manager.py\", line 316, in get_all\n",
      "    info = _info_from_string(contents)\n",
      "  File \"/home/ivan/anaconda3/envs/Unit4Sprint2/lib/python3.7/site-packages/tensorboard/manager.py\", line 155, in _info_from_string\n",
      "    raise ValueError(\"incompatible version: %r\" % (json_value,))\n",
      "ValueError: incompatible version: {'cache_key': 'eyJhcmd1bWVudHMiOlsiLS1sb2dkaXIiLCJsb2dzIl0sImNvbmZpZ3VyZV9rd2FyZ3MiOnt9LCJ3b3JraW5nX2RpcmVjdG9yeSI6Ii9ob21lL2l2YW4vRGVza3RvcC9MYW1iZGEvVW5pdDQvU3ByaW50Mi9EUy1Vbml0LTQtU3ByaW50LTItTmV1cmFsLU5ldHdvcmtzL21vZHVsZTMtSW50cm8tdG8tS2VyYXMifQ==', 'db': '', 'logdir': 'logs', 'path_prefix': '', 'pid': 13979, 'port': 6006, 'start_time': 1587047316, 'version': '2.2.0'}\n",
      "W0416 10:29:06.777568 139856158365504 manager.py:321] invalid info file: '/tmp/.tensorboard-info/pid-13979.info'\n",
      "Traceback (most recent call last):\n",
      "  File \"/home/ivan/anaconda3/envs/Unit4Sprint2/lib/python3.7/site-packages/tensorboard/manager.py\", line 316, in get_all\n",
      "    info = _info_from_string(contents)\n",
      "  File \"/home/ivan/anaconda3/envs/Unit4Sprint2/lib/python3.7/site-packages/tensorboard/manager.py\", line 155, in _info_from_string\n",
      "    raise ValueError(\"incompatible version: %r\" % (json_value,))\n",
      "ValueError: incompatible version: {'cache_key': 'eyJhcmd1bWVudHMiOlsiLS1sb2dkaXIiLCJsb2dzIl0sImNvbmZpZ3VyZV9rd2FyZ3MiOnt9LCJ3b3JraW5nX2RpcmVjdG9yeSI6Ii9ob21lL2l2YW4vRGVza3RvcC9MYW1iZGEvVW5pdDQvU3ByaW50Mi9EUy1Vbml0LTQtU3ByaW50LTItTmV1cmFsLU5ldHdvcmtzL21vZHVsZTMtSW50cm8tdG8tS2VyYXMifQ==', 'db': '', 'logdir': 'logs', 'path_prefix': '', 'pid': 13979, 'port': 6006, 'start_time': 1587047316, 'version': '2.2.0'}\n",
      "W0416 10:29:07.279346 139856158365504 manager.py:321] invalid info file: '/tmp/.tensorboard-info/pid-13979.info'\n",
      "Traceback (most recent call last):\n",
      "  File \"/home/ivan/anaconda3/envs/Unit4Sprint2/lib/python3.7/site-packages/tensorboard/manager.py\", line 316, in get_all\n",
      "    info = _info_from_string(contents)\n",
      "  File \"/home/ivan/anaconda3/envs/Unit4Sprint2/lib/python3.7/site-packages/tensorboard/manager.py\", line 155, in _info_from_string\n",
      "    raise ValueError(\"incompatible version: %r\" % (json_value,))\n",
      "ValueError: incompatible version: {'cache_key': 'eyJhcmd1bWVudHMiOlsiLS1sb2dkaXIiLCJsb2dzIl0sImNvbmZpZ3VyZV9rd2FyZ3MiOnt9LCJ3b3JraW5nX2RpcmVjdG9yeSI6Ii9ob21lL2l2YW4vRGVza3RvcC9MYW1iZGEvVW5pdDQvU3ByaW50Mi9EUy1Vbml0LTQtU3ByaW50LTItTmV1cmFsLU5ldHdvcmtzL21vZHVsZTMtSW50cm8tdG8tS2VyYXMifQ==', 'db': '', 'logdir': 'logs', 'path_prefix': '', 'pid': 13979, 'port': 6006, 'start_time': 1587047316, 'version': '2.2.0'}\n",
      "W0416 10:29:07.781643 139856158365504 manager.py:321] invalid info file: '/tmp/.tensorboard-info/pid-13979.info'\n",
      "Traceback (most recent call last):\n",
      "  File \"/home/ivan/anaconda3/envs/Unit4Sprint2/lib/python3.7/site-packages/tensorboard/manager.py\", line 316, in get_all\n",
      "    info = _info_from_string(contents)\n",
      "  File \"/home/ivan/anaconda3/envs/Unit4Sprint2/lib/python3.7/site-packages/tensorboard/manager.py\", line 155, in _info_from_string\n",
      "    raise ValueError(\"incompatible version: %r\" % (json_value,))\n",
      "ValueError: incompatible version: {'cache_key': 'eyJhcmd1bWVudHMiOlsiLS1sb2dkaXIiLCJsb2dzIl0sImNvbmZpZ3VyZV9rd2FyZ3MiOnt9LCJ3b3JraW5nX2RpcmVjdG9yeSI6Ii9ob21lL2l2YW4vRGVza3RvcC9MYW1iZGEvVW5pdDQvU3ByaW50Mi9EUy1Vbml0LTQtU3ByaW50LTItTmV1cmFsLU5ldHdvcmtzL21vZHVsZTMtSW50cm8tdG8tS2VyYXMifQ==', 'db': '', 'logdir': 'logs', 'path_prefix': '', 'pid': 13979, 'port': 6006, 'start_time': 1587047316, 'version': '2.2.0'}\n",
      "W0416 10:29:08.284871 139856158365504 manager.py:321] invalid info file: '/tmp/.tensorboard-info/pid-13979.info'\n",
      "Traceback (most recent call last):\n",
      "  File \"/home/ivan/anaconda3/envs/Unit4Sprint2/lib/python3.7/site-packages/tensorboard/manager.py\", line 316, in get_all\n",
      "    info = _info_from_string(contents)\n",
      "  File \"/home/ivan/anaconda3/envs/Unit4Sprint2/lib/python3.7/site-packages/tensorboard/manager.py\", line 155, in _info_from_string\n",
      "    raise ValueError(\"incompatible version: %r\" % (json_value,))\n",
      "ValueError: incompatible version: {'cache_key': 'eyJhcmd1bWVudHMiOlsiLS1sb2dkaXIiLCJsb2dzIl0sImNvbmZpZ3VyZV9rd2FyZ3MiOnt9LCJ3b3JraW5nX2RpcmVjdG9yeSI6Ii9ob21lL2l2YW4vRGVza3RvcC9MYW1iZGEvVW5pdDQvU3ByaW50Mi9EUy1Vbml0LTQtU3ByaW50LTItTmV1cmFsLU5ldHdvcmtzL21vZHVsZTMtSW50cm8tdG8tS2VyYXMifQ==', 'db': '', 'logdir': 'logs', 'path_prefix': '', 'pid': 13979, 'port': 6006, 'start_time': 1587047316, 'version': '2.2.0'}\n",
      "W0416 10:29:08.786720 139856158365504 manager.py:321] invalid info file: '/tmp/.tensorboard-info/pid-13979.info'\n",
      "Traceback (most recent call last):\n",
      "  File \"/home/ivan/anaconda3/envs/Unit4Sprint2/lib/python3.7/site-packages/tensorboard/manager.py\", line 316, in get_all\n",
      "    info = _info_from_string(contents)\n",
      "  File \"/home/ivan/anaconda3/envs/Unit4Sprint2/lib/python3.7/site-packages/tensorboard/manager.py\", line 155, in _info_from_string\n",
      "    raise ValueError(\"incompatible version: %r\" % (json_value,))\n",
      "ValueError: incompatible version: {'cache_key': 'eyJhcmd1bWVudHMiOlsiLS1sb2dkaXIiLCJsb2dzIl0sImNvbmZpZ3VyZV9rd2FyZ3MiOnt9LCJ3b3JraW5nX2RpcmVjdG9yeSI6Ii9ob21lL2l2YW4vRGVza3RvcC9MYW1iZGEvVW5pdDQvU3ByaW50Mi9EUy1Vbml0LTQtU3ByaW50LTItTmV1cmFsLU5ldHdvcmtzL21vZHVsZTMtSW50cm8tdG8tS2VyYXMifQ==', 'db': '', 'logdir': 'logs', 'path_prefix': '', 'pid': 13979, 'port': 6006, 'start_time': 1587047316, 'version': '2.2.0'}\n",
      "W0416 10:29:09.288616 139856158365504 manager.py:321] invalid info file: '/tmp/.tensorboard-info/pid-13979.info'\n",
      "Traceback (most recent call last):\n",
      "  File \"/home/ivan/anaconda3/envs/Unit4Sprint2/lib/python3.7/site-packages/tensorboard/manager.py\", line 316, in get_all\n",
      "    info = _info_from_string(contents)\n",
      "  File \"/home/ivan/anaconda3/envs/Unit4Sprint2/lib/python3.7/site-packages/tensorboard/manager.py\", line 155, in _info_from_string\n",
      "    raise ValueError(\"incompatible version: %r\" % (json_value,))\n",
      "ValueError: incompatible version: {'cache_key': 'eyJhcmd1bWVudHMiOlsiLS1sb2dkaXIiLCJsb2dzIl0sImNvbmZpZ3VyZV9rd2FyZ3MiOnt9LCJ3b3JraW5nX2RpcmVjdG9yeSI6Ii9ob21lL2l2YW4vRGVza3RvcC9MYW1iZGEvVW5pdDQvU3ByaW50Mi9EUy1Vbml0LTQtU3ByaW50LTItTmV1cmFsLU5ldHdvcmtzL21vZHVsZTMtSW50cm8tdG8tS2VyYXMifQ==', 'db': '', 'logdir': 'logs', 'path_prefix': '', 'pid': 13979, 'port': 6006, 'start_time': 1587047316, 'version': '2.2.0'}\n",
      "W0416 10:29:09.790469 139856158365504 manager.py:321] invalid info file: '/tmp/.tensorboard-info/pid-13979.info'\n",
      "Traceback (most recent call last):\n",
      "  File \"/home/ivan/anaconda3/envs/Unit4Sprint2/lib/python3.7/site-packages/tensorboard/manager.py\", line 316, in get_all\n",
      "    info = _info_from_string(contents)\n",
      "  File \"/home/ivan/anaconda3/envs/Unit4Sprint2/lib/python3.7/site-packages/tensorboard/manager.py\", line 155, in _info_from_string\n",
      "    raise ValueError(\"incompatible version: %r\" % (json_value,))\n",
      "ValueError: incompatible version: {'cache_key': 'eyJhcmd1bWVudHMiOlsiLS1sb2dkaXIiLCJsb2dzIl0sImNvbmZpZ3VyZV9rd2FyZ3MiOnt9LCJ3b3JraW5nX2RpcmVjdG9yeSI6Ii9ob21lL2l2YW4vRGVza3RvcC9MYW1iZGEvVW5pdDQvU3ByaW50Mi9EUy1Vbml0LTQtU3ByaW50LTItTmV1cmFsLU5ldHdvcmtzL21vZHVsZTMtSW50cm8tdG8tS2VyYXMifQ==', 'db': '', 'logdir': 'logs', 'path_prefix': '', 'pid': 13979, 'port': 6006, 'start_time': 1587047316, 'version': '2.2.0'}\n",
      "W0416 10:29:10.292221 139856158365504 manager.py:321] invalid info file: '/tmp/.tensorboard-info/pid-13979.info'\n",
      "Traceback (most recent call last):\n",
      "  File \"/home/ivan/anaconda3/envs/Unit4Sprint2/lib/python3.7/site-packages/tensorboard/manager.py\", line 316, in get_all\n",
      "    info = _info_from_string(contents)\n",
      "  File \"/home/ivan/anaconda3/envs/Unit4Sprint2/lib/python3.7/site-packages/tensorboard/manager.py\", line 155, in _info_from_string\n",
      "    raise ValueError(\"incompatible version: %r\" % (json_value,))\n",
      "ValueError: incompatible version: {'cache_key': 'eyJhcmd1bWVudHMiOlsiLS1sb2dkaXIiLCJsb2dzIl0sImNvbmZpZ3VyZV9rd2FyZ3MiOnt9LCJ3b3JraW5nX2RpcmVjdG9yeSI6Ii9ob21lL2l2YW4vRGVza3RvcC9MYW1iZGEvVW5pdDQvU3ByaW50Mi9EUy1Vbml0LTQtU3ByaW50LTItTmV1cmFsLU5ldHdvcmtzL21vZHVsZTMtSW50cm8tdG8tS2VyYXMifQ==', 'db': '', 'logdir': 'logs', 'path_prefix': '', 'pid': 13979, 'port': 6006, 'start_time': 1587047316, 'version': '2.2.0'}\n",
      "W0416 10:29:10.796026 139856158365504 manager.py:321] invalid info file: '/tmp/.tensorboard-info/pid-13979.info'\n",
      "Traceback (most recent call last):\n",
      "  File \"/home/ivan/anaconda3/envs/Unit4Sprint2/lib/python3.7/site-packages/tensorboard/manager.py\", line 316, in get_all\n",
      "    info = _info_from_string(contents)\n",
      "  File \"/home/ivan/anaconda3/envs/Unit4Sprint2/lib/python3.7/site-packages/tensorboard/manager.py\", line 155, in _info_from_string\n",
      "    raise ValueError(\"incompatible version: %r\" % (json_value,))\n",
      "ValueError: incompatible version: {'cache_key': 'eyJhcmd1bWVudHMiOlsiLS1sb2dkaXIiLCJsb2dzIl0sImNvbmZpZ3VyZV9rd2FyZ3MiOnt9LCJ3b3JraW5nX2RpcmVjdG9yeSI6Ii9ob21lL2l2YW4vRGVza3RvcC9MYW1iZGEvVW5pdDQvU3ByaW50Mi9EUy1Vbml0LTQtU3ByaW50LTItTmV1cmFsLU5ldHdvcmtzL21vZHVsZTMtSW50cm8tdG8tS2VyYXMifQ==', 'db': '', 'logdir': 'logs', 'path_prefix': '', 'pid': 13979, 'port': 6006, 'start_time': 1587047316, 'version': '2.2.0'}\n",
      "W0416 10:29:11.298722 139856158365504 manager.py:321] invalid info file: '/tmp/.tensorboard-info/pid-13979.info'\n",
      "Traceback (most recent call last):\n",
      "  File \"/home/ivan/anaconda3/envs/Unit4Sprint2/lib/python3.7/site-packages/tensorboard/manager.py\", line 316, in get_all\n",
      "    info = _info_from_string(contents)\n",
      "  File \"/home/ivan/anaconda3/envs/Unit4Sprint2/lib/python3.7/site-packages/tensorboard/manager.py\", line 155, in _info_from_string\n",
      "    raise ValueError(\"incompatible version: %r\" % (json_value,))\n",
      "ValueError: incompatible version: {'cache_key': 'eyJhcmd1bWVudHMiOlsiLS1sb2dkaXIiLCJsb2dzIl0sImNvbmZpZ3VyZV9rd2FyZ3MiOnt9LCJ3b3JraW5nX2RpcmVjdG9yeSI6Ii9ob21lL2l2YW4vRGVza3RvcC9MYW1iZGEvVW5pdDQvU3ByaW50Mi9EUy1Vbml0LTQtU3ByaW50LTItTmV1cmFsLU5ldHdvcmtzL21vZHVsZTMtSW50cm8tdG8tS2VyYXMifQ==', 'db': '', 'logdir': 'logs', 'path_prefix': '', 'pid': 13979, 'port': 6006, 'start_time': 1587047316, 'version': '2.2.0'}\n"
     ]
    },
    {
     "ename": "KeyboardInterrupt",
     "evalue": "",
     "output_type": "error",
     "traceback": [
      "\u001b[0;31m---------------------------------------------------------------------------\u001b[0m",
      "\u001b[0;31mKeyboardInterrupt\u001b[0m                         Traceback (most recent call last)",
      "\u001b[0;32m<ipython-input-27-d46782f9619b>\u001b[0m in \u001b[0;36m<module>\u001b[0;34m\u001b[0m\n\u001b[0;32m----> 1\u001b[0;31m \u001b[0mget_ipython\u001b[0m\u001b[0;34m(\u001b[0m\u001b[0;34m)\u001b[0m\u001b[0;34m.\u001b[0m\u001b[0mrun_line_magic\u001b[0m\u001b[0;34m(\u001b[0m\u001b[0;34m'tensorboard'\u001b[0m\u001b[0;34m,\u001b[0m \u001b[0;34m'--logdir logs'\u001b[0m\u001b[0;34m)\u001b[0m\u001b[0;34m\u001b[0m\u001b[0;34m\u001b[0m\u001b[0m\n\u001b[0m",
      "\u001b[0;32m~/.local/lib/python3.7/site-packages/IPython/core/interactiveshell.py\u001b[0m in \u001b[0;36mrun_line_magic\u001b[0;34m(self, magic_name, line, _stack_depth)\u001b[0m\n\u001b[1;32m   2315\u001b[0m                 \u001b[0mkwargs\u001b[0m\u001b[0;34m[\u001b[0m\u001b[0;34m'local_ns'\u001b[0m\u001b[0;34m]\u001b[0m \u001b[0;34m=\u001b[0m \u001b[0msys\u001b[0m\u001b[0;34m.\u001b[0m\u001b[0m_getframe\u001b[0m\u001b[0;34m(\u001b[0m\u001b[0mstack_depth\u001b[0m\u001b[0;34m)\u001b[0m\u001b[0;34m.\u001b[0m\u001b[0mf_locals\u001b[0m\u001b[0;34m\u001b[0m\u001b[0;34m\u001b[0m\u001b[0m\n\u001b[1;32m   2316\u001b[0m             \u001b[0;32mwith\u001b[0m \u001b[0mself\u001b[0m\u001b[0;34m.\u001b[0m\u001b[0mbuiltin_trap\u001b[0m\u001b[0;34m:\u001b[0m\u001b[0;34m\u001b[0m\u001b[0;34m\u001b[0m\u001b[0m\n\u001b[0;32m-> 2317\u001b[0;31m                 \u001b[0mresult\u001b[0m \u001b[0;34m=\u001b[0m \u001b[0mfn\u001b[0m\u001b[0;34m(\u001b[0m\u001b[0;34m*\u001b[0m\u001b[0margs\u001b[0m\u001b[0;34m,\u001b[0m \u001b[0;34m**\u001b[0m\u001b[0mkwargs\u001b[0m\u001b[0;34m)\u001b[0m\u001b[0;34m\u001b[0m\u001b[0;34m\u001b[0m\u001b[0m\n\u001b[0m\u001b[1;32m   2318\u001b[0m             \u001b[0;32mreturn\u001b[0m \u001b[0mresult\u001b[0m\u001b[0;34m\u001b[0m\u001b[0;34m\u001b[0m\u001b[0m\n\u001b[1;32m   2319\u001b[0m \u001b[0;34m\u001b[0m\u001b[0m\n",
      "\u001b[0;32m~/anaconda3/envs/Unit4Sprint2/lib/python3.7/site-packages/tensorboard/notebook.py\u001b[0m in \u001b[0;36m_start_magic\u001b[0;34m(line)\u001b[0m\n\u001b[1;32m    113\u001b[0m \u001b[0;32mdef\u001b[0m \u001b[0m_start_magic\u001b[0m\u001b[0;34m(\u001b[0m\u001b[0mline\u001b[0m\u001b[0;34m)\u001b[0m\u001b[0;34m:\u001b[0m\u001b[0;34m\u001b[0m\u001b[0;34m\u001b[0m\u001b[0m\n\u001b[1;32m    114\u001b[0m   \u001b[0;34m\"\"\"Implementation of the `%tensorboard` line magic.\"\"\"\u001b[0m\u001b[0;34m\u001b[0m\u001b[0;34m\u001b[0m\u001b[0m\n\u001b[0;32m--> 115\u001b[0;31m   \u001b[0;32mreturn\u001b[0m \u001b[0mstart\u001b[0m\u001b[0;34m(\u001b[0m\u001b[0mline\u001b[0m\u001b[0;34m)\u001b[0m\u001b[0;34m\u001b[0m\u001b[0;34m\u001b[0m\u001b[0m\n\u001b[0m\u001b[1;32m    116\u001b[0m \u001b[0;34m\u001b[0m\u001b[0m\n\u001b[1;32m    117\u001b[0m \u001b[0;34m\u001b[0m\u001b[0m\n",
      "\u001b[0;32m~/anaconda3/envs/Unit4Sprint2/lib/python3.7/site-packages/tensorboard/notebook.py\u001b[0m in \u001b[0;36mstart\u001b[0;34m(args_string)\u001b[0m\n\u001b[1;32m    148\u001b[0m \u001b[0;34m\u001b[0m\u001b[0m\n\u001b[1;32m    149\u001b[0m   \u001b[0mparsed_args\u001b[0m \u001b[0;34m=\u001b[0m \u001b[0mshlex\u001b[0m\u001b[0;34m.\u001b[0m\u001b[0msplit\u001b[0m\u001b[0;34m(\u001b[0m\u001b[0margs_string\u001b[0m\u001b[0;34m,\u001b[0m \u001b[0mcomments\u001b[0m\u001b[0;34m=\u001b[0m\u001b[0;32mTrue\u001b[0m\u001b[0;34m,\u001b[0m \u001b[0mposix\u001b[0m\u001b[0;34m=\u001b[0m\u001b[0;32mTrue\u001b[0m\u001b[0;34m)\u001b[0m\u001b[0;34m\u001b[0m\u001b[0;34m\u001b[0m\u001b[0m\n\u001b[0;32m--> 150\u001b[0;31m   \u001b[0mstart_result\u001b[0m \u001b[0;34m=\u001b[0m \u001b[0mmanager\u001b[0m\u001b[0;34m.\u001b[0m\u001b[0mstart\u001b[0m\u001b[0;34m(\u001b[0m\u001b[0mparsed_args\u001b[0m\u001b[0;34m)\u001b[0m\u001b[0;34m\u001b[0m\u001b[0;34m\u001b[0m\u001b[0m\n\u001b[0m\u001b[1;32m    151\u001b[0m \u001b[0;34m\u001b[0m\u001b[0m\n\u001b[1;32m    152\u001b[0m   \u001b[0;32mif\u001b[0m \u001b[0misinstance\u001b[0m\u001b[0;34m(\u001b[0m\u001b[0mstart_result\u001b[0m\u001b[0;34m,\u001b[0m \u001b[0mmanager\u001b[0m\u001b[0;34m.\u001b[0m\u001b[0mStartLaunched\u001b[0m\u001b[0;34m)\u001b[0m\u001b[0;34m:\u001b[0m\u001b[0;34m\u001b[0m\u001b[0;34m\u001b[0m\u001b[0m\n",
      "\u001b[0;32m~/anaconda3/envs/Unit4Sprint2/lib/python3.7/site-packages/tensorboard/manager.py\u001b[0m in \u001b[0;36mstart\u001b[0;34m(arguments, timeout)\u001b[0m\n\u001b[1;32m    411\u001b[0m   \u001b[0mend_time_seconds\u001b[0m \u001b[0;34m=\u001b[0m \u001b[0mstart_time_seconds\u001b[0m \u001b[0;34m+\u001b[0m \u001b[0mtimeout\u001b[0m\u001b[0;34m.\u001b[0m\u001b[0mtotal_seconds\u001b[0m\u001b[0;34m(\u001b[0m\u001b[0;34m)\u001b[0m\u001b[0;34m\u001b[0m\u001b[0;34m\u001b[0m\u001b[0m\n\u001b[1;32m    412\u001b[0m   \u001b[0;32mwhile\u001b[0m \u001b[0mtime\u001b[0m\u001b[0;34m.\u001b[0m\u001b[0mtime\u001b[0m\u001b[0;34m(\u001b[0m\u001b[0;34m)\u001b[0m \u001b[0;34m<\u001b[0m \u001b[0mend_time_seconds\u001b[0m\u001b[0;34m:\u001b[0m\u001b[0;34m\u001b[0m\u001b[0;34m\u001b[0m\u001b[0m\n\u001b[0;32m--> 413\u001b[0;31m     \u001b[0mtime\u001b[0m\u001b[0;34m.\u001b[0m\u001b[0msleep\u001b[0m\u001b[0;34m(\u001b[0m\u001b[0mpoll_interval_seconds\u001b[0m\u001b[0;34m)\u001b[0m\u001b[0;34m\u001b[0m\u001b[0;34m\u001b[0m\u001b[0m\n\u001b[0m\u001b[1;32m    414\u001b[0m     \u001b[0msubprocess_result\u001b[0m \u001b[0;34m=\u001b[0m \u001b[0mp\u001b[0m\u001b[0;34m.\u001b[0m\u001b[0mpoll\u001b[0m\u001b[0;34m(\u001b[0m\u001b[0;34m)\u001b[0m\u001b[0;34m\u001b[0m\u001b[0;34m\u001b[0m\u001b[0m\n\u001b[1;32m    415\u001b[0m     \u001b[0;32mif\u001b[0m \u001b[0msubprocess_result\u001b[0m \u001b[0;32mis\u001b[0m \u001b[0;32mnot\u001b[0m \u001b[0;32mNone\u001b[0m\u001b[0;34m:\u001b[0m\u001b[0;34m\u001b[0m\u001b[0;34m\u001b[0m\u001b[0m\n",
      "\u001b[0;31mKeyboardInterrupt\u001b[0m: "
     ]
    }
   ],
   "source": [
    "%tensorboard --logdir logs"
   ]
  },
  {
   "cell_type": "markdown",
   "metadata": {},
   "source": [
    "## Follow Along\n",
    "\n",
    "Let's run a couple of experiments in groups based on your birthday: \n",
    "1. Jan - March:  Try adding an additional layer to the model\n",
    "2. April - June: Add 2 hidden layers with identical number of neurons\n",
    "3. July - Sept: Change the activation functions in the hidden layers (used as many layers as you want)\n",
    "4. Oct - December: Try changing the optimization function and use any architecture that you want. "
   ]
  },
  {
   "cell_type": "markdown",
   "metadata": {},
   "source": [
    "### Additional Hidden Layer"
   ]
  },
  {
   "cell_type": "code",
   "execution_count": null,
   "metadata": {},
   "outputs": [],
   "source": [
    "model = Sequential([\n",
    "    Flatten(),\n",
    "    Dense(128, input_dim=784, activation='relu'),\n",
    "    Dense(10, activation='softmax')\n",
    "])\n",
    "\n",
    "model.compile(loss='categorical_crossentropy', optimizer='adam', metrics=['accuracy'])\n",
    "\n",
    "model.fit(X_train, y_train, epochs=10, \n",
    "          validation_data=(X_test,y_test),\n",
    "          callbacks=[tensorboard_callback])"
   ]
  },
  {
   "cell_type": "code",
   "execution_count": null,
   "metadata": {},
   "outputs": [],
   "source": [
    "%tensorboard --logdir logs"
   ]
  },
  {
   "cell_type": "markdown",
   "metadata": {},
   "source": [
    "### 2 Additional Hidden Layers"
   ]
  },
  {
   "cell_type": "code",
   "execution_count": null,
   "metadata": {},
   "outputs": [],
   "source": [
    "logdir = os.path.join(\"logs\", datetime.datetime.now().strftime(\"%Y%m%d-%H%M%S\"))\n",
    "tensorboard_callback = tf.keras.callbacks.TensorBoard(logdir, histogram_freq=1)\n",
    "\n",
    "model = Sequential([\n",
    "    Flatten(),\n",
    "    Dense(1280, input_dim=784, activation='relu'),\n",
    "    Dense(1280, activation='relu'),\n",
    "    Dense(10, activation='softmax')\n",
    "])\n",
    "\n",
    "model.compile(loss='categorical_crossentropy', optimizer='adam', metrics=['accuracy'])\n",
    "\n",
    "model.fit(X_train, y_train, epochs=5, \n",
    "          validation_data=(X_test,y_test),\n",
    "          callbacks=[tensorboard_callback])"
   ]
  },
  {
   "cell_type": "code",
   "execution_count": null,
   "metadata": {},
   "outputs": [],
   "source": [
    "!pip install tensorboard"
   ]
  },
  {
   "cell_type": "code",
   "execution_count": null,
   "metadata": {},
   "outputs": [],
   "source": [
    "%tensorboard --logdir logs"
   ]
  },
  {
   "cell_type": "markdown",
   "metadata": {},
   "source": [
    "### Different Activation Functions"
   ]
  },
  {
   "cell_type": "code",
   "execution_count": null,
   "metadata": {},
   "outputs": [],
   "source": []
  },
  {
   "cell_type": "code",
   "execution_count": null,
   "metadata": {},
   "outputs": [],
   "source": [
    "%tensorboard --logdir logs"
   ]
  },
  {
   "cell_type": "markdown",
   "metadata": {},
   "source": [
    "### Different Optimization Functions"
   ]
  },
  {
   "cell_type": "code",
   "execution_count": null,
   "metadata": {},
   "outputs": [],
   "source": [
    "logdir = os.path.join(\"logs\", datetime.datetime.now().strftime(\"%Y%m%d-%H%M%S\"))\n",
    "tensorboard_callback = tf.keras.callbacks.TensorBoard(logdir, histogram_freq=1)\n",
    "\n",
    "model = Sequential([\n",
    "    Flatten(),\n",
    "    Dense(128, input_dim=784, activation='relu'),\n",
    "    Dense(128, activation='relu'),\n",
    "    Dense(10, activation='softmax')\n",
    "])\n",
    "\n",
    "model.compile(loss='categorical_crossentropy', optimizer='nadam', metrics=['accuracy'])\n",
    "\n",
    "model.fit(X_train, y_train, epochs=5, \n",
    "          validation_data=(X_test,y_test),\n",
    "          callbacks=[tensorboard_callback])"
   ]
  },
  {
   "cell_type": "code",
   "execution_count": null,
   "metadata": {},
   "outputs": [],
   "source": [
    "%tensorboard --logdir logs"
   ]
  },
  {
   "cell_type": "markdown",
   "metadata": {},
   "source": [
    "## Challenge\n",
    "\n",
    "You will have to choose your own architectures in today's module project. In the next module, we will discuss hyperparameter optimization which can help you handle these numerous choices. \n",
    "\n",
    "---"
   ]
  },
  {
   "cell_type": "markdown",
   "metadata": {
    "colab_type": "text",
    "id": "tcjMuxtn6wIQ",
    "toc-hr-collapsed": false
   },
   "source": [
    "# Activation Functions (Learn)"
   ]
  },
  {
   "cell_type": "markdown",
   "metadata": {
    "colab_type": "text",
    "id": "tcjMuxtn6wIQ",
    "toc-hr-collapsed": false
   },
   "source": [
    "## Overview\n",
    "What is an activation function and how does it work?\n",
    "\n",
    "- Takes in a weighted sum of inputs + a bias from the previous layer and outputs an \"activation\" value.\n",
    "- Based its inputs the neuron decides how 'activated' it should be. This can be thought of as the neuron deciding how strongly to fire. You can also think of it as if the neuron is deciding how much of the signal that it has received to pass onto the next layer. \n",
    "- Our choice of activation function does not only affect signal that is passed forward but also affects the backpropagation algorithm. It affects how we update weights in reverse order since activated weight/input sums become the inputs of the next layer. "
   ]
  },
  {
   "cell_type": "markdown",
   "metadata": {
    "toc-hr-collapsed": true
   },
   "source": [
    "## Follow Along"
   ]
  },
  {
   "cell_type": "markdown",
   "metadata": {
    "colab_type": "text",
    "id": "n_b0u8Ch60bA"
   },
   "source": [
    "### Step Function\n",
    "\n",
    "![Heaviside Step Function](https://upload.wikimedia.org/wikipedia/commons/thumb/d/d9/Dirac_distribution_CDF.svg/2560px-Dirac_distribution_CDF.svg.png)\n",
    "\n",
    "All or nothing, a little extreme, which is fine, but makes updating weights through backpropagation impossible. Why? remember that during backpropagation we use derivatives in order to determine how much to update or not update weights. What is the derivative of the step function?"
   ]
  },
  {
   "cell_type": "markdown",
   "metadata": {
    "colab_type": "text",
    "id": "vKR0YhIVEnXZ"
   },
   "source": [
    "### Linear Function\n",
    "\n",
    "![Linear Function](http://www.roconnell.net/Parent%20function/linear.gif)\n",
    "\n",
    "The linear function takes the opposite tact from the step function and passes the signal onto the next layer by a constant factor. There are problems with this but the biggest problems again lie in backpropagation. The derivative of any linear function is a horizontal line which would indicate that we should update all weights by a constant amount every time -which on balance wouldn't change the behavior of our network. Linear functions are typically only used for very simple tasks where interpretability is important, but if interpretability is your highest priority, you probably shouldn't be using neural networks in the first place."
   ]
  },
  {
   "cell_type": "markdown",
   "metadata": {
    "colab_type": "text",
    "id": "JFurIVL6EkQ8"
   },
   "source": [
    "### Sigmoid Function\n",
    "\n",
    "![Sigmoid Function](https://upload.wikimedia.org/wikipedia/commons/thumb/8/88/Logistic-curve.svg/480px-Logistic-curve.svg.png)\n",
    "\n",
    "The sigmoid function works great as an activation function! it's continuously differentiable, its derivative doesn't have a constant slope, and having the higher slope in the middle pushes y value predictions towards extremes which is particularly useful for binary classification problems. I mean, this is why we use it as the squishifier in logistic regression as well. It constrains output, but over repeated epochs pushes predictions towards a strong binary prediction. \n",
    "\n",
    "What's the biggest problem with the sigmoid function? The fact that its slope gets pretty flat so quickly after its departure from zero. This means that updating weights based on its gradient really diminishes the size of our weight updates as our model gets more confident about its classifications. This is why even after so many iterations with our test score example we couldn't reach the levels of fit that our gradient descent based model could reach in just a few epochs."
   ]
  },
  {
   "cell_type": "markdown",
   "metadata": {
    "colab_type": "text",
    "id": "hm6p1HWbEhYi"
   },
   "source": [
    "### Tanh Function\n",
    "\n",
    "![Tanh Function](http://mathworld.wolfram.com/images/interactive/TanhReal.gif)\n",
    "\n",
    "What if the sigmoid function didn't get so flat quite as soon when moving away from zero and was a little bit steeper in the middle? That's basically the Tanh function. The Tanh function can actually be created by scaling the sigmoid function by 2 in the y dimension and subtracting 1 from all values. It has basically the same properties as the sigmoid, still struggles from diminishingly flat gradients as we move away from 0, but its derivative is higher around 0 causing weights to move to the extremes a little faster. "
   ]
  },
  {
   "cell_type": "markdown",
   "metadata": {
    "colab_type": "text",
    "id": "sFOn_L6gEcz1"
   },
   "source": [
    "### ReLU Function\n",
    "\n",
    "![ReLU Function](https://cdn-images-1.medium.com/max/937/1*oePAhrm74RNnNEolprmTaQ.png)\n",
    "\n",
    "ReLU stands for Rectified Linear Units it is by far the most commonly used activation function in modern neural networks. It doesn't activate neurons that are being passed a negative signal and passes on positive signals. Think about why this might be useful. Remember how a lot of our initial weights got set to negative numbers by chance? This would have dealt with those negative weights a lot faster than the sigmoid function updating. What does the derivative of this function look like? It looks like the step function! This means that not all neurons are activated. With sigmoid basically all of our neurons are passing some amount of signal even if it's small making it hard for the network to differentiate important and less important connections. ReLU turns off a portion of our less important neurons which decreases computational load, but also helps the network learn what the most important connections are faster. \n",
    "\n",
    "What's the problem with relu? Well the left half of its derivative function shows that for neurons that are initialized with weights that cause them to have no activation, our gradient will not update those neuron's weights, this can lead to dead neurons that never fire and whose weights never get updated. We would probably want to update the weights of neurons that didn't fire even if it's just by a little bit in case we got unlucky with our initial weights and want to give those neurons a chance of turning back on in the future."
   ]
  },
  {
   "cell_type": "markdown",
   "metadata": {
    "colab_type": "text",
    "id": "XWdvWOBIETwk"
   },
   "source": [
    "### Leaky ReLU\n",
    "\n",
    "![Leaky ReLU](https://cdn-images-1.medium.com/max/1600/1*ypsvQH7kvtI2BhzR2eT_Sw.png)\n",
    "\n",
    "Leaky ReLU accomplishes exactly that! it avoids having a gradient of 0 on the left side of its derivative function. This means that even \"dead\" neurons have a chance of being revived over enough iterations. In some specifications the slope of the leaky left-hand side can also be experimented with as a hyperparameter of the model!"
   ]
  },
  {
   "cell_type": "markdown",
   "metadata": {
    "colab_type": "text",
    "id": "FcAxkNFREMFb"
   },
   "source": [
    "### Softmax Function\n",
    "\n",
    "![Softmax Function](https://cdn-images-1.medium.com/max/800/1*670CdxchunD-yAuUWdI7Bw.png)\n",
    "\n",
    "Like the sigmoid function but more useful for multi-class classification problems. The softmax function can take any set of inputs and translate them into probabilities that sum up to 1. This means that we can throw any list of outputs at it and it will translate them into probabilities, this is extremely useful for multi-class classification problems. Like MNIST for example..."
   ]
  },
  {
   "cell_type": "markdown",
   "metadata": {
    "colab_type": "text",
    "id": "23-XRRXKHs34"
   },
   "source": [
    "### Major takeaways\n",
    "\n",
    "- ReLU is generally better at obtaining the optimal model fit.\n",
    "- Sigmoid and its derivatives are usually better at classification problems.\n",
    "- Softmax for multi-class classification problems. \n",
    "\n",
    "You'll typically see ReLU used for all initial layers and then the final layer being sigmoid or softmax for classification problems. But you can experiment and tune these selections as hyperparameters as well!"
   ]
  },
  {
   "cell_type": "markdown",
   "metadata": {},
   "source": [
    "## Challenge\n",
    "\n",
    "You will apply your choice of activation function inside two Keras Seqeuntial models today. \n",
    "\n",
    "---"
   ]
  },
  {
   "cell_type": "markdown",
   "metadata": {
    "colab_type": "text",
    "id": "TWuoXZCCKCI7"
   },
   "source": [
    "# Regularization Strategies (Learn)"
   ]
  },
  {
   "cell_type": "markdown",
   "metadata": {},
   "source": [
    "## Overview\n",
    "\n",
    "Neural Networks are highly parameterized models and can be easily overfit to the training data. The most salient way to combat this problem is with regularization strategies.  \n",
    "\n",
    "![](https://upload.wikimedia.org/wikipedia/commons/thumb/0/02/Regularization.svg/1920px-Regularization.svg.png)\n",
    "\n",
    "There are four common ways of regularization in neural networks which we cover briefly. Here's a quick summary of how to apply them: \n",
    "\n",
    "1. Always use EarlyStopping. This strategy will prevent your weights from being updated well past the point of their peak usefulness.\n",
    "2. Use EarlyStopping, Weight Decay and Dropout\n",
    "3. Use EarlyStopping, Weight Constraint and Dropout\n",
    "\n",
    "Weight Decay and Weigh Constraint accomplish similar purposes - preventing over fitting the parameters by regularizing the values. The mechanics are just slightly different. That's why you would not necessary want to apply them together."
   ]
  },
  {
   "cell_type": "markdown",
   "metadata": {},
   "source": [
    "## Follow Along"
   ]
  },
  {
   "cell_type": "markdown",
   "metadata": {},
   "source": [
    "### Early Stopping"
   ]
  },
  {
   "cell_type": "code",
   "execution_count": null,
   "metadata": {},
   "outputs": [],
   "source": [
    "from tensorflow.keras.callbacks import EarlyStopping\n",
    "\n",
    "logdir = os.path.join(\"logs\", datetime.datetime.now().strftime(\"%Y%m%d-%H%M%S\"))\n",
    "tensorboard_callback = tf.keras.callbacks.TensorBoard(logdir, histogram_freq=1)\n",
    "\n",
    "stop = EarlyStopping(monitor='val_accuracy', min_delta=0.01, patience=3)\n",
    "\n",
    "model = Sequential([\n",
    "    Flatten(),\n",
    "    Dense(128, input_dim=784, activation='relu'),\n",
    "    Dense(128, activation='relu'),\n",
    "    Dense(128, activation='relu'),\n",
    "    Dense(10, activation='softmax')\n",
    "])\n",
    "\n",
    "model.compile(loss='categorical_crossentropy', optimizer='nadam', metrics=['accuracy'])\n",
    "\n",
    "model.fit(X_train, y_train, epochs=50, \n",
    "          validation_data=(X_test,y_test),\n",
    "          callbacks=[tensorboard_callback, stop])"
   ]
  },
  {
   "cell_type": "markdown",
   "metadata": {},
   "source": [
    "### Weight Decay\n",
    "\n",
    "```python\n",
    "Dense(64, input_dim=64,\n",
    "            kernel_regularizer=regularizers.l2(0.01),\n",
    "            activity_regularizer=regularizers.l1(0.01)))\n",
    "```"
   ]
  },
  {
   "cell_type": "code",
   "execution_count": null,
   "metadata": {},
   "outputs": [],
   "source": [
    "from tensorflow.keras import regularizers\n",
    "\n"
   ]
  },
  {
   "cell_type": "markdown",
   "metadata": {},
   "source": [
    "### Weight Constraint\n",
    "\n",
    "```python\n",
    "tf.keras.constraints.MaxNorm(\n",
    "    max_value=2, axis=0\n",
    ")\n",
    "```"
   ]
  },
  {
   "cell_type": "code",
   "execution_count": null,
   "metadata": {},
   "outputs": [],
   "source": [
    "from tensorflow.keras.constraints import MaxNorm\n",
    "\n"
   ]
  },
  {
   "cell_type": "markdown",
   "metadata": {},
   "source": [
    "### Dropout"
   ]
  },
  {
   "cell_type": "code",
   "execution_count": null,
   "metadata": {},
   "outputs": [],
   "source": [
    "from tensorflow.keras.layers import Dropout\n",
    "\n",
    "logdir = os.path.join(\"logs\", datetime.datetime.now().strftime(\"%Y%m%d-%H%M%S\"))\n",
    "tensorboard_callback = tf.keras.callbacks.TensorBoard(logdir, histogram_freq=1)\n",
    "\n",
    "stop = EarlyStopping(monitor='val_accuracy', min_delta=0.01, patience=3)\n",
    "\n",
    "model = Sequential([\n",
    "    Flatten(),\n",
    "    Dense(128, input_dim=784, activation='relu'),\n",
    "    Dropout(.2),\n",
    "    Dense(128, activation='relu'),\n",
    "    Dropout(.2),\n",
    "    Dense(128, activation='relu'),\n",
    "    Dropout(.2),\n",
    "    Dense(10, activation='softmax')\n",
    "])\n",
    "\n",
    "model.compile(loss='categorical_crossentropy', optimizer='nadam', metrics=['accuracy'])\n",
    "\n",
    "model.fit(X_train, y_train, epochs=50, \n",
    "          validation_data=(X_test,y_test),\n",
    "          callbacks=[tensorboard_callback, stop])"
   ]
  },
  {
   "cell_type": "code",
   "execution_count": null,
   "metadata": {},
   "outputs": [],
   "source": [
    "%tensorboard --logdir logs"
   ]
  },
  {
   "cell_type": "markdown",
   "metadata": {},
   "source": [
    "## Challenge\n",
    "\n",
    "You will apply regularization strategies inside your neural network today, as you try to avoid overfitting it. \n",
    "\n",
    "---"
   ]
  }
 ],
 "metadata": {
  "colab": {
   "collapsed_sections": [],
   "name": "LS_DS_433_Keras_Lecture.ipynb",
   "provenance": [],
   "version": "0.3.2"
  },
  "kernelspec": {
   "display_name": "Unit 4 Sprint 2",
   "language": "python",
   "name": "unit4sprint2"
  },
  "language_info": {
   "codemirror_mode": {
    "name": "ipython",
    "version": 3
   },
   "file_extension": ".py",
   "mimetype": "text/x-python",
   "name": "python",
   "nbconvert_exporter": "python",
   "pygments_lexer": "ipython3",
   "version": "3.7.3"
  },
  "toc-autonumbering": false,
  "toc-showmarkdowntxt": false
 },
 "nbformat": 4,
 "nbformat_minor": 4
}
