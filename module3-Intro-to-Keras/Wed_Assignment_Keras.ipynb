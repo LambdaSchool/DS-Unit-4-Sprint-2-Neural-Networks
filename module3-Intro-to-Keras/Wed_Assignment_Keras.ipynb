{
  "nbformat": 4,
  "nbformat_minor": 0,
  "metadata": {
    "colab": {
      "name": "Wed_Assignment_Keras.ipynb",
      "version": "0.3.2",
      "provenance": []
    },
    "kernelspec": {
      "display_name": "Python 3",
      "language": "python",
      "name": "python3"
    },
    "language_info": {
      "codemirror_mode": {
        "name": "ipython",
        "version": 3
      },
      "file_extension": ".py",
      "mimetype": "text/x-python",
      "name": "python",
      "nbconvert_exporter": "python",
      "pygments_lexer": "ipython3",
      "version": "3.6.8"
    }
  },
  "cells": [
    {
      "cell_type": "markdown",
      "metadata": {
        "colab_type": "text",
        "id": "pBQsZEJmubLs"
      },
      "source": [
        "## Use the Keras Library to build a Multi-Layer Perceptron Model on the Boston Housing dataset\n",
        "\n",
        "- The Boston Housing dataset comes with the Keras library so use Keras to import it into your notebook. \n",
        "- Normalize the data (all features should have roughly the same scale)\n",
        "- Import the type of model and layers that you will need from Keras.\n",
        "- Instantiate a model object and use `model.add()` to add layers to your model\n",
        "- Since this is a regression model you will have a single output node in the final layer.\n",
        "- Use activation functions that are appropriate for this task\n",
        "- Compile your model\n",
        "- Fit your model and report its accuracy in terms of Mean Squared Error\n",
        "- Use the history object that is returned from model.fit to make graphs of the model's loss or train/validation accuracies by epoch. \n",
        "- Run this same data through a linear regression model. Which achieves higher accuracy?\n",
        "- Do a little bit of feature engineering and see how that affects your neural network model. (you will need to change your model to accept more inputs)\n",
        "- After feature engineering, which model sees a greater accuracy boost due to the new features?"
      ]
    },
    {
      "cell_type": "code",
      "metadata": {
        "id": "RTL9f8yiWYmJ",
        "colab_type": "code",
        "colab": {
          "base_uri": "https://localhost:8080/",
          "height": 35
        },
        "outputId": "8b734b71-7c8f-4863-9cfd-d89d829ffafc"
      },
      "source": [
        "import numpy as np\n",
        "import pandas as pd\n",
        "import tensorflow\n",
        "from keras.models import Sequential\n",
        "from keras.layers import Dense, Dropout\n",
        "from sklearn.linear_model import LinearRegression\n",
        "from sklearn.preprocessing import MinMaxScaler\n",
        "from keras.datasets import boston_housing\n",
        "from sklearn.metrics import mean_squared_error"
      ],
      "execution_count": 1,
      "outputs": [
        {
          "output_type": "stream",
          "text": [
            "Using TensorFlow backend.\n"
          ],
          "name": "stderr"
        }
      ]
    },
    {
      "cell_type": "code",
      "metadata": {
        "colab_type": "code",
        "id": "8NLTAR87uYJ-",
        "colab": {}
      },
      "source": [
        "#Load the data\n",
        "(X_train, y_train), (X_test, y_test) = boston_housing.load_data()"
      ],
      "execution_count": 0,
      "outputs": []
    },
    {
      "cell_type": "code",
      "metadata": {
        "id": "tRidCoFZWYmc",
        "colab_type": "code",
        "colab": {}
      },
      "source": [
        "#Normalize the data\n",
        "scaler = MinMaxScaler()\n",
        "X_train = scaler.fit_transform(X_train)\n",
        "X_test = scaler.transform(X_test)\n",
        "\n",
        "y_train = scaler.fit_transform(y_train.reshape(-1,1))\n",
        "y_test = scaler.transform(y_test.reshape(-1,1))"
      ],
      "execution_count": 0,
      "outputs": []
    },
    {
      "cell_type": "code",
      "metadata": {
        "id": "7c_sBJ0rWYml",
        "colab_type": "code",
        "colab": {},
        "outputId": "2485ee90-8fdb-4514-cd5a-32aedff5a39d"
      },
      "source": [
        "#instantiate model\n",
        "k_model = Sequential()\n",
        "\n",
        "#hidden layer\n",
        "k_model.add(Dense(5, input_dim=13, activation=\"relu\"))\n",
        "\n",
        "#output layer\n",
        "k_model.add(Dense(1, activation='relu'))\n",
        "\n",
        "#compile the model            \n",
        "k_model.compile(loss='mean_squared_error', optimizer='adam', metrics=['mse'])\n",
        "\n",
        "#inspect the model summary\n",
        "k_model.summary()"
      ],
      "execution_count": 0,
      "outputs": [
        {
          "output_type": "stream",
          "text": [
            "_________________________________________________________________\n",
            "Layer (type)                 Output Shape              Param #   \n",
            "=================================================================\n",
            "dense_134 (Dense)            (None, 5)                 70        \n",
            "_________________________________________________________________\n",
            "dense_135 (Dense)            (None, 1)                 6         \n",
            "=================================================================\n",
            "Total params: 76\n",
            "Trainable params: 76\n",
            "Non-trainable params: 0\n",
            "_________________________________________________________________\n"
          ],
          "name": "stdout"
        }
      ]
    },
    {
      "cell_type": "code",
      "metadata": {
        "id": "1bjdlR2MWYmz",
        "colab_type": "code",
        "colab": {},
        "outputId": "e2cfd30e-4507-434b-a16c-1fecd5e5e8e7"
      },
      "source": [
        "#fit the model\n",
        "history = k_model.fit(X_train, y_train, epochs=300, verbose=0)\n",
        "\n",
        "#get y_pred\n",
        "kmodel_y_pred = k_model.predict(X_test)\n",
        "\n",
        "#get the mean squared error of the test set predictions\n",
        "k_model_mse = mean_squared_error(y_test, kmodel_y_pred)\n",
        "k_model_mse"
      ],
      "execution_count": 0,
      "outputs": [
        {
          "output_type": "execute_result",
          "data": {
            "text/plain": [
              "0.00914412987037168"
            ]
          },
          "metadata": {
            "tags": []
          },
          "execution_count": 340
        }
      ]
    },
    {
      "cell_type": "code",
      "metadata": {
        "id": "8tKVmbCRWYnB",
        "colab_type": "code",
        "colab": {},
        "outputId": "6cfc936a-35ba-419e-c980-97fdcef70a27"
      },
      "source": [
        "#Linear Regression Model:\n",
        "lin_reg = LinearRegression()\n",
        "lin_reg.fit(X_train, y_train)\n",
        "lr_y_pred = lin_reg.predict(X_test)\n",
        "lr_mse = mean_squared_error(y_test, lr_y_pred)\n",
        "lr_mse"
      ],
      "execution_count": 0,
      "outputs": [
        {
          "output_type": "execute_result",
          "data": {
            "text/plain": [
              "0.011454616916752059"
            ]
          },
          "metadata": {
            "tags": []
          },
          "execution_count": 333
        }
      ]
    },
    {
      "cell_type": "code",
      "metadata": {
        "id": "pasQlccgWYnO",
        "colab_type": "code",
        "colab": {},
        "outputId": "f2b1449c-5c57-4cd0-a18d-a895e5b0879f"
      },
      "source": [
        "from matplotlib import pyplot as plt\n",
        "\n",
        "x_vals = list(range(300))\n",
        "y_vals = history.history['mean_squared_error']\n",
        "\n",
        "plt.plot(x_vals, y_vals)\n",
        "plt.xlabel('Epochs')\n",
        "plt.ylabel('Mean Squared Error')\n",
        "plt.show()"
      ],
      "execution_count": 0,
      "outputs": [
        {
          "output_type": "display_data",
          "data": {
            "image/png": "[encoded data removed]",
            "text/plain": [
              "<Figure size 432x288 with 1 Axes>"
            ]
          },
          "metadata": {
            "tags": [],
            "needs_background": "light"
          }
        }
      ]
    },
    {
      "cell_type": "markdown",
      "metadata": {
        "colab_type": "text",
        "id": "SfcFnOONyuNm"
      },
      "source": [
        "## Use the Keras Library to build an image recognition network using the Fashion-MNIST dataset (also comes with keras)\n",
        "\n",
        "- Load and preprocess the image data similar to how we preprocessed the MNIST data in class.\n",
        "- Make sure to one-hot encode your category labels\n",
        "- Make sure to have your final layer have as many nodes as the number of classes that you want to predict.\n",
        "- Try different hyperparameters. What is the highest accuracy that you are able to achieve.\n",
        "- Use the history object that is returned from model.fit to make graphs of the model's loss or train/validation accuracies by epoch. \n",
        "- Remember that neural networks fall prey to randomness so you may need to run your model multiple times (or use Cross Validation) in order to tell if a change to a hyperparameter is truly producing better results."
      ]
    },
    {
      "cell_type": "code",
      "metadata": {
        "colab_type": "code",
        "id": "szi6-IpuzaH1",
        "colab": {}
      },
      "source": [
        "from keras.datasets import fashion_mnist\n",
        "\n",
        "(X_train, y_train), (X_test, y_test) = fashion_mnist.load_data()"
      ],
      "execution_count": 0,
      "outputs": []
    },
    {
      "cell_type": "code",
      "metadata": {
        "id": "WkASXA-LWYno",
        "colab_type": "code",
        "colab": {}
      },
      "source": [
        "from keras import utils\n",
        "\n",
        "#reshape\n",
        "X_train = X_train.reshape(60000, 784)\n",
        "X_test = X_test.reshape(10000, 784)\n",
        "\n",
        "#normalize and convert to float\n",
        "X_train = X_train / 255.0\n",
        "X_test = X_test/ 255.0\n",
        "\n",
        "X_train = X_train.astype('float32')\n",
        "X_test = X_test.astype('float32')\n",
        "\n",
        "#convert y to categorical\n",
        "y_train = utils.to_categorical(y_train, 10)\n",
        "y_test = utils.to_categorical(y_test, 10)"
      ],
      "execution_count": 0,
      "outputs": []
    },
    {
      "cell_type": "code",
      "metadata": {
        "id": "mb-SUCAyWYnz",
        "colab_type": "code",
        "colab": {},
        "outputId": "3eb2d18b-2911-405a-88eb-a8bc42e2b880"
      },
      "source": [
        "mnist_model = Sequential()\n",
        "\n",
        "#Hidden Layers\n",
        "mnist_model.add(Dense(128, input_dim=784, activation='relu'))\n",
        "\n",
        "#Output layer\n",
        "mnist_model.add(Dense(10, activation='softmax'))\n",
        "\n",
        "mnist_model.compile(loss='categorical_crossentropy',\n",
        "                   optimizer='adam', metrics=['accuracy'])\n",
        "mnist_model.summary()"
      ],
      "execution_count": 0,
      "outputs": [
        {
          "output_type": "stream",
          "text": [
            "_________________________________________________________________\n",
            "Layer (type)                 Output Shape              Param #   \n",
            "=================================================================\n",
            "dense_138 (Dense)            (None, 128)               100480    \n",
            "_________________________________________________________________\n",
            "dense_139 (Dense)            (None, 10)                1290      \n",
            "=================================================================\n",
            "Total params: 101,770\n",
            "Trainable params: 101,770\n",
            "Non-trainable params: 0\n",
            "_________________________________________________________________\n"
          ],
          "name": "stdout"
        }
      ]
    },
    {
      "cell_type": "code",
      "metadata": {
        "id": "z_2PPMrnWYoD",
        "colab_type": "code",
        "colab": {},
        "outputId": "069a2667-2c70-4d8d-8a9f-f9da6cb3db5b"
      },
      "source": [
        "%%time\n",
        "history = mnist_model.fit(X_train, y_train, epochs=10, \n",
        "                          validation_split=.1, verbose=1)"
      ],
      "execution_count": 0,
      "outputs": [
        {
          "output_type": "stream",
          "text": [
            "Train on 54000 samples, validate on 6000 samples\n",
            "Epoch 1/10\n",
            "54000/54000 [==============================] - 20s 361us/step - loss: 0.5077 - acc: 0.8226 - val_loss: 0.4127 - val_acc: 0.8532\n",
            "Epoch 2/10\n",
            "54000/54000 [==============================] - 15s 280us/step - loss: 0.3835 - acc: 0.8625 - val_loss: 0.3605 - val_acc: 0.8695\n",
            "Epoch 3/10\n",
            "54000/54000 [==============================] - 15s 274us/step - loss: 0.3442 - acc: 0.8764 - val_loss: 0.3810 - val_acc: 0.8515\n",
            "Epoch 4/10\n",
            "54000/54000 [==============================] - 16s 297us/step - loss: 0.3181 - acc: 0.8834 - val_loss: 0.3386 - val_acc: 0.8687\n",
            "Epoch 5/10\n",
            "54000/54000 [==============================] - 15s 285us/step - loss: 0.2992 - acc: 0.8912 - val_loss: 0.3306 - val_acc: 0.8838\n",
            "Epoch 6/10\n",
            "54000/54000 [==============================] - 15s 284us/step - loss: 0.2839 - acc: 0.8960 - val_loss: 0.3238 - val_acc: 0.8833\n",
            "Epoch 7/10\n",
            "54000/54000 [==============================] - 15s 281us/step - loss: 0.2729 - acc: 0.8983 - val_loss: 0.3208 - val_acc: 0.8818\n",
            "Epoch 8/10\n",
            "54000/54000 [==============================] - 16s 292us/step - loss: 0.2595 - acc: 0.9043 - val_loss: 0.3407 - val_acc: 0.8762\n",
            "Epoch 9/10\n",
            "54000/54000 [==============================] - 16s 289us/step - loss: 0.2525 - acc: 0.9067 - val_loss: 0.3152 - val_acc: 0.8880\n",
            "Epoch 10/10\n",
            "54000/54000 [==============================] - 16s 298us/step - loss: 0.2423 - acc: 0.9109 - val_loss: 0.3276 - val_acc: 0.8838\n",
            "CPU times: user 3min 21s, sys: 10.7 s, total: 3min 32s\n",
            "Wall time: 2min 39s\n"
          ],
          "name": "stdout"
        }
      ]
    },
    {
      "cell_type": "code",
      "metadata": {
        "id": "UXycLD7mWYoP",
        "colab_type": "code",
        "colab": {},
        "outputId": "8cc93812-cf52-4449-d3d9-0a16f64de2f7"
      },
      "source": [
        "scores = mnist_model.evaluate(X_test, y_test)\n",
        "print(f'{mnist_model.metrics_names[1]}: {scores[1]*100}')"
      ],
      "execution_count": 0,
      "outputs": [
        {
          "output_type": "stream",
          "text": [
            "10000/10000 [==============================] - 1s 136us/step\n",
            "acc: 87.81\n"
          ],
          "name": "stdout"
        }
      ]
    },
    {
      "cell_type": "code",
      "metadata": {
        "id": "XEzFS7bEWYoi",
        "colab_type": "code",
        "colab": {},
        "outputId": "c7ff8454-3336-4d5b-e168-c8e1895fae54"
      },
      "source": [
        "x_vals = list(range(10))\n",
        "y_vals = history.history['loss']\n",
        "\n",
        "plt.plot(x_vals, y_vals)\n",
        "plt.xlabel('Epochs')\n",
        "plt.ylabel('Loss')\n",
        "plt.show()"
      ],
      "execution_count": 0,
      "outputs": [
        {
          "output_type": "display_data",
          "data": {
            "image/png": "[encoded data removed]",
            "text/plain": [
              "<Figure size 432x288 with 1 Axes>"
            ]
          },
          "metadata": {
            "tags": [],
            "needs_background": "light"
          }
        }
      ]
    },
    {
      "cell_type": "code",
      "metadata": {
        "id": "ZUqHGanUWYow",
        "colab_type": "code",
        "colab": {},
        "outputId": "df9363bb-546e-4980-8fc0-4f1be4a920ff"
      },
      "source": [
        "x_vals = list(range(10))\n",
        "y_vals = history.history['acc']\n",
        "\n",
        "plt.plot(x_vals, y_vals)\n",
        "plt.xlabel('Epochs')\n",
        "plt.ylabel('Accuracy')\n",
        "plt.show()"
      ],
      "execution_count": 0,
      "outputs": [
        {
          "output_type": "display_data",
          "data": {
            "image/png": "[encoded data removed]",
            "text/plain": [
              "<Figure size 432x288 with 1 Axes>"
            ]
          },
          "metadata": {
            "tags": [],
            "needs_background": "light"
          }
        }
      ]
    },
    {
      "cell_type": "markdown",
      "metadata": {
        "id": "lqZA9GnZWYo8",
        "colab_type": "text"
      },
      "source": [
        "## Same Model but w/ batch size of 32"
      ]
    },
    {
      "cell_type": "code",
      "metadata": {
        "id": "gk8i_GJMWYo-",
        "colab_type": "code",
        "colab": {},
        "outputId": "3e1dccc4-b1a0-4d0b-d0cd-df4bd619b570"
      },
      "source": [
        "mnist_model = Sequential()\n",
        "\n",
        "#Hidden Layers\n",
        "mnist_model.add(Dense(128, input_dim=784, activation='relu'))\n",
        "\n",
        "#Output layer\n",
        "mnist_model.add(Dense(10, activation='softmax'))\n",
        "\n",
        "mnist_model.compile(loss='categorical_crossentropy',\n",
        "                   optimizer='adam', metrics=['accuracy'])\n",
        "mnist_model.summary()"
      ],
      "execution_count": 0,
      "outputs": [
        {
          "output_type": "stream",
          "text": [
            "_________________________________________________________________\n",
            "Layer (type)                 Output Shape              Param #   \n",
            "=================================================================\n",
            "dense_140 (Dense)            (None, 128)               100480    \n",
            "_________________________________________________________________\n",
            "dense_141 (Dense)            (None, 10)                1290      \n",
            "=================================================================\n",
            "Total params: 101,770\n",
            "Trainable params: 101,770\n",
            "Non-trainable params: 0\n",
            "_________________________________________________________________\n"
          ],
          "name": "stdout"
        }
      ]
    },
    {
      "cell_type": "code",
      "metadata": {
        "id": "JxXwtZYeWYpQ",
        "colab_type": "code",
        "colab": {},
        "outputId": "f46ec96d-8cc2-4e9e-b566-d4d8ca33cb7d"
      },
      "source": [
        "%%time\n",
        "#run again w/ 10 epochs and try w/ batch_size=32\n",
        "history = mnist_model.fit(X_train, y_train, batch_size=32, epochs=10, \n",
        "                          validation_split=.1, verbose=1)"
      ],
      "execution_count": 0,
      "outputs": [
        {
          "output_type": "stream",
          "text": [
            "Train on 54000 samples, validate on 6000 samples\n",
            "Epoch 1/10\n",
            "54000/54000 [==============================] - 21s 381us/step - loss: 0.5107 - acc: 0.8199 - val_loss: 0.4058 - val_acc: 0.8577\n",
            "Epoch 2/10\n",
            "54000/54000 [==============================] - 15s 276us/step - loss: 0.3834 - acc: 0.8626 - val_loss: 0.3742 - val_acc: 0.8640\n",
            "Epoch 3/10\n",
            "54000/54000 [==============================] - 16s 287us/step - loss: 0.3413 - acc: 0.8762 - val_loss: 0.3898 - val_acc: 0.8620\n",
            "Epoch 4/10\n",
            "54000/54000 [==============================] - 15s 276us/step - loss: 0.3155 - acc: 0.8839 - val_loss: 0.3358 - val_acc: 0.8790\n",
            "Epoch 5/10\n",
            "54000/54000 [==============================] - 18s 341us/step - loss: 0.2995 - acc: 0.8915 - val_loss: 0.3298 - val_acc: 0.8822\n",
            "Epoch 6/10\n",
            "54000/54000 [==============================] - 16s 305us/step - loss: 0.2828 - acc: 0.8971 - val_loss: 0.3307 - val_acc: 0.8853\n",
            "Epoch 7/10\n",
            "54000/54000 [==============================] - 16s 288us/step - loss: 0.2724 - acc: 0.8987 - val_loss: 0.3238 - val_acc: 0.8835\n",
            "Epoch 8/10\n",
            "54000/54000 [==============================] - 15s 271us/step - loss: 0.2608 - acc: 0.9039 - val_loss: 0.3211 - val_acc: 0.8855\n",
            "Epoch 9/10\n",
            "54000/54000 [==============================] - 15s 282us/step - loss: 0.2495 - acc: 0.9074 - val_loss: 0.3236 - val_acc: 0.8850\n",
            "Epoch 10/10\n",
            "54000/54000 [==============================] - 16s 288us/step - loss: 0.2422 - acc: 0.9100 - val_loss: 0.3143 - val_acc: 0.8897\n",
            "CPU times: user 3min 21s, sys: 11.5 s, total: 3min 32s\n",
            "Wall time: 2min 42s\n"
          ],
          "name": "stdout"
        }
      ]
    },
    {
      "cell_type": "code",
      "metadata": {
        "id": "eHtQe4sbWYpd",
        "colab_type": "code",
        "colab": {},
        "outputId": "2693d69c-cf62-4e29-f6bb-a9fb2ce9f7d2"
      },
      "source": [
        "scores = mnist_model.evaluate(X_test, y_test)\n",
        "print(f'{mnist_model.metrics_names[1]}: {scores[1]*100}')"
      ],
      "execution_count": 0,
      "outputs": [
        {
          "output_type": "stream",
          "text": [
            "10000/10000 [==============================] - 1s 117us/step\n",
            "acc: 88.26\n"
          ],
          "name": "stdout"
        }
      ]
    },
    {
      "cell_type": "markdown",
      "metadata": {
        "id": "POH1NfPUWYpr",
        "colab_type": "text"
      },
      "source": [
        "## Extra Hidden Layer + Dropout"
      ]
    },
    {
      "cell_type": "code",
      "metadata": {
        "id": "E3ptRC0FWYpt",
        "colab_type": "code",
        "colab": {},
        "outputId": "e2bf746c-b166-4130-c096-6b8cded19587"
      },
      "source": [
        "mnist_model = Sequential()\n",
        "\n",
        "# Hidden\n",
        "mnist_model.add(Dense(128, input_dim=784, activation='relu'))\n",
        "mnist_model.add(Dropout(0.2))\n",
        "mnist_model.add(Dense(16, activation='relu'))\n",
        "mnist_model.add(Dropout(0.2))\n",
        "\n",
        "# Output Layer\n",
        "mnist_model.add(Dense(10, activation='softmax'))\n",
        "\n",
        "mnist_model.compile(loss='categorical_crossentropy',\n",
        "                    optimizer='adam', \n",
        "                    metrics=['accuracy'])\n",
        "mnist_model.summary()"
      ],
      "execution_count": 0,
      "outputs": [
        {
          "output_type": "stream",
          "text": [
            "_________________________________________________________________\n",
            "Layer (type)                 Output Shape              Param #   \n",
            "=================================================================\n",
            "dense_142 (Dense)            (None, 128)               100480    \n",
            "_________________________________________________________________\n",
            "dropout_28 (Dropout)         (None, 128)               0         \n",
            "_________________________________________________________________\n",
            "dense_143 (Dense)            (None, 16)                2064      \n",
            "_________________________________________________________________\n",
            "dropout_29 (Dropout)         (None, 16)                0         \n",
            "_________________________________________________________________\n",
            "dense_144 (Dense)            (None, 10)                170       \n",
            "=================================================================\n",
            "Total params: 102,714\n",
            "Trainable params: 102,714\n",
            "Non-trainable params: 0\n",
            "_________________________________________________________________\n"
          ],
          "name": "stdout"
        }
      ]
    },
    {
      "cell_type": "code",
      "metadata": {
        "id": "lNTyxkmfWYp3",
        "colab_type": "code",
        "colab": {},
        "outputId": "780a1412-9bda-43c6-ea05-7b1bca1188bb"
      },
      "source": [
        "%%time\n",
        "history = mnist_model.fit(X_train, y_train, epochs=10, \n",
        "                          validation_split=.1, verbose=1)"
      ],
      "execution_count": 0,
      "outputs": [
        {
          "output_type": "stream",
          "text": [
            "Train on 54000 samples, validate on 6000 samples\n",
            "Epoch 1/10\n",
            "54000/54000 [==============================] - 22s 403us/step - loss: 0.7312 - acc: 0.7397 - val_loss: 0.4315 - val_acc: 0.8442\n",
            "Epoch 2/10\n",
            "54000/54000 [==============================] - 17s 318us/step - loss: 0.5060 - acc: 0.8225 - val_loss: 0.3843 - val_acc: 0.8607\n",
            "Epoch 3/10\n",
            "54000/54000 [==============================] - 18s 325us/step - loss: 0.4582 - acc: 0.8388 - val_loss: 0.3734 - val_acc: 0.8647\n",
            "Epoch 4/10\n",
            "54000/54000 [==============================] - 17s 321us/step - loss: 0.4312 - acc: 0.8475 - val_loss: 0.3619 - val_acc: 0.8668\n",
            "Epoch 5/10\n",
            "54000/54000 [==============================] - 18s 337us/step - loss: 0.4141 - acc: 0.8529 - val_loss: 0.3584 - val_acc: 0.8705\n",
            "Epoch 6/10\n",
            "54000/54000 [==============================] - 17s 313us/step - loss: 0.3994 - acc: 0.8578 - val_loss: 0.3701 - val_acc: 0.8695\n",
            "Epoch 7/10\n",
            "54000/54000 [==============================] - 19s 343us/step - loss: 0.3868 - acc: 0.8633 - val_loss: 0.3549 - val_acc: 0.8742\n",
            "Epoch 8/10\n",
            "54000/54000 [==============================] - 18s 335us/step - loss: 0.3765 - acc: 0.8653 - val_loss: 0.3490 - val_acc: 0.8757\n",
            "Epoch 9/10\n",
            "54000/54000 [==============================] - 18s 326us/step - loss: 0.3677 - acc: 0.8674 - val_loss: 0.3444 - val_acc: 0.8763\n",
            "Epoch 10/10\n",
            "54000/54000 [==============================] - 17s 315us/step - loss: 0.3601 - acc: 0.8712 - val_loss: 0.3498 - val_acc: 0.8747\n",
            "CPU times: user 3min 48s, sys: 12.9 s, total: 4min 1s\n",
            "Wall time: 3min\n"
          ],
          "name": "stdout"
        }
      ]
    },
    {
      "cell_type": "code",
      "metadata": {
        "id": "RgCaUX0OWYp_",
        "colab_type": "code",
        "colab": {},
        "outputId": "d4c8a26b-84b4-476d-86af-0c7966418c03"
      },
      "source": [
        "scores = mnist_model.evaluate(X_test, y_test)\n",
        "print(f'{mnist_model.metrics_names[1]}: {scores[1]*100}')"
      ],
      "execution_count": 0,
      "outputs": [
        {
          "output_type": "stream",
          "text": [
            "10000/10000 [==============================] - 1s 144us/step\n",
            "acc: 86.92999999999999\n"
          ],
          "name": "stdout"
        }
      ]
    },
    {
      "cell_type": "code",
      "metadata": {
        "id": "KI_xpVwvWYqL",
        "colab_type": "code",
        "colab": {},
        "outputId": "08b0dbd8-82f5-4c3f-df98-61c97339c0cf"
      },
      "source": [
        "x_vals = list(range(10))\n",
        "y_vals = history.history['loss']\n",
        "\n",
        "plt.plot(x_vals, y_vals)\n",
        "plt.xlabel('Epochs')\n",
        "plt.ylabel('Loss')\n",
        "plt.show()"
      ],
      "execution_count": 0,
      "outputs": [
        {
          "output_type": "display_data",
          "data": {
            "image/png": "[encoded data removed]",
            "text/plain": [
              "<Figure size 432x288 with 1 Axes>"
            ]
          },
          "metadata": {
            "tags": [],
            "needs_background": "light"
          }
        }
      ]
    },
    {
      "cell_type": "code",
      "metadata": {
        "id": "I7gqxKw-WYqY",
        "colab_type": "code",
        "colab": {},
        "outputId": "5011524a-684f-4b1e-e3cb-e49d57fbb757"
      },
      "source": [
        "x_vals = list(range(10))\n",
        "y_vals = history.history['acc']\n",
        "\n",
        "plt.plot(x_vals, y_vals)\n",
        "plt.xlabel('Epochs')\n",
        "plt.ylabel('Accuracy')\n",
        "plt.show()"
      ],
      "execution_count": 0,
      "outputs": [
        {
          "output_type": "display_data",
          "data": {
            "image/png": "[encoded data removed]",
            "text/plain": [
              "<Figure size 432x288 with 1 Axes>"
            ]
          },
          "metadata": {
            "tags": [],
            "needs_background": "light"
          }
        }
      ]
    },
    {
      "cell_type": "markdown",
      "metadata": {
        "id": "BcdaOhbQWYqh",
        "colab_type": "text"
      },
      "source": [
        "## Extra Layer + Batch size = 16"
      ]
    },
    {
      "cell_type": "code",
      "metadata": {
        "id": "AqtC8RXJWYqj",
        "colab_type": "code",
        "colab": {
          "base_uri": "https://localhost:8080/",
          "height": 328
        },
        "outputId": "dbabd5fe-4b98-465b-da78-c51a44504cb8"
      },
      "source": [
        "mnist_model = Sequential()\n",
        "\n",
        "# Hidden\n",
        "mnist_model.add(Dense(128, input_dim=784, activation='relu'))\n",
        "mnist_model.add(Dropout(0.2))\n",
        "mnist_model.add(Dense(16, activation='relu'))\n",
        "mnist_model.add(Dropout(0.2))\n",
        "\n",
        "# Output Layer\n",
        "mnist_model.add(Dense(10, activation='softmax'))\n",
        "\n",
        "mnist_model.compile(loss='categorical_crossentropy',\n",
        "                    optimizer='adam', \n",
        "                    metrics=['accuracy'])"
      ],
      "execution_count": 4,
      "outputs": [
        {
          "output_type": "stream",
          "text": [
            "WARNING: Logging before flag parsing goes to stderr.\n",
            "W0717 23:53:34.186381 139916529063808 deprecation_wrapper.py:119] From /usr/local/lib/python3.6/dist-packages/keras/backend/tensorflow_backend.py:74: The name tf.get_default_graph is deprecated. Please use tf.compat.v1.get_default_graph instead.\n",
            "\n",
            "W0717 23:53:34.209363 139916529063808 deprecation_wrapper.py:119] From /usr/local/lib/python3.6/dist-packages/keras/backend/tensorflow_backend.py:517: The name tf.placeholder is deprecated. Please use tf.compat.v1.placeholder instead.\n",
            "\n",
            "W0717 23:53:34.213424 139916529063808 deprecation_wrapper.py:119] From /usr/local/lib/python3.6/dist-packages/keras/backend/tensorflow_backend.py:4138: The name tf.random_uniform is deprecated. Please use tf.random.uniform instead.\n",
            "\n",
            "W0717 23:53:34.234465 139916529063808 deprecation_wrapper.py:119] From /usr/local/lib/python3.6/dist-packages/keras/backend/tensorflow_backend.py:133: The name tf.placeholder_with_default is deprecated. Please use tf.compat.v1.placeholder_with_default instead.\n",
            "\n",
            "W0717 23:53:34.246846 139916529063808 deprecation.py:506] From /usr/local/lib/python3.6/dist-packages/keras/backend/tensorflow_backend.py:3445: calling dropout (from tensorflow.python.ops.nn_ops) with keep_prob is deprecated and will be removed in a future version.\n",
            "Instructions for updating:\n",
            "Please use `rate` instead of `keep_prob`. Rate should be set to `rate = 1 - keep_prob`.\n",
            "W0717 23:53:34.314201 139916529063808 deprecation_wrapper.py:119] From /usr/local/lib/python3.6/dist-packages/keras/optimizers.py:790: The name tf.train.Optimizer is deprecated. Please use tf.compat.v1.train.Optimizer instead.\n",
            "\n",
            "W0717 23:53:34.341127 139916529063808 deprecation_wrapper.py:119] From /usr/local/lib/python3.6/dist-packages/keras/backend/tensorflow_backend.py:3295: The name tf.log is deprecated. Please use tf.math.log instead.\n",
            "\n"
          ],
          "name": "stderr"
        }
      ]
    },
    {
      "cell_type": "code",
      "metadata": {
        "id": "WTiIBItOWYqs",
        "colab_type": "code",
        "colab": {
          "base_uri": "https://localhost:8080/",
          "height": 510
        },
        "outputId": "9398b93a-d33e-4636-9c0d-9804bdf8f876"
      },
      "source": [
        "%%time\n",
        "history = mnist_model.fit(X_train, y_train, epochs=10, batch_size=16,\n",
        "                          validation_split=.1, verbose=1)"
      ],
      "execution_count": 5,
      "outputs": [
        {
          "output_type": "stream",
          "text": [
            "W0717 23:53:40.490031 139916529063808 deprecation.py:323] From /usr/local/lib/python3.6/dist-packages/tensorflow/python/ops/math_grad.py:1250: add_dispatch_support.<locals>.wrapper (from tensorflow.python.ops.array_ops) is deprecated and will be removed in a future version.\n",
            "Instructions for updating:\n",
            "Use tf.where in 2.0, which has the same broadcast rule as np.where\n"
          ],
          "name": "stderr"
        },
        {
          "output_type": "stream",
          "text": [
            "Train on 54000 samples, validate on 6000 samples\n",
            "Epoch 1/10\n",
            "54000/54000 [==============================] - 11s 212us/step - loss: 0.6751 - acc: 0.7580 - val_loss: 0.4321 - val_acc: 0.8425\n",
            "Epoch 2/10\n",
            "54000/54000 [==============================] - 11s 203us/step - loss: 0.4992 - acc: 0.8225 - val_loss: 0.4015 - val_acc: 0.8552\n",
            "Epoch 3/10\n",
            "54000/54000 [==============================] - 11s 196us/step - loss: 0.4612 - acc: 0.8385 - val_loss: 0.3779 - val_acc: 0.8625\n",
            "Epoch 4/10\n",
            "54000/54000 [==============================] - 11s 201us/step - loss: 0.4365 - acc: 0.8455 - val_loss: 0.3741 - val_acc: 0.8643\n",
            "Epoch 5/10\n",
            "54000/54000 [==============================] - 10s 194us/step - loss: 0.4165 - acc: 0.8509 - val_loss: 0.3607 - val_acc: 0.8682\n",
            "Epoch 6/10\n",
            "54000/54000 [==============================] - 11s 209us/step - loss: 0.4049 - acc: 0.8564 - val_loss: 0.3540 - val_acc: 0.8672\n",
            "Epoch 7/10\n",
            "54000/54000 [==============================] - 11s 196us/step - loss: 0.3905 - acc: 0.8615 - val_loss: 0.3475 - val_acc: 0.8765\n",
            "Epoch 8/10\n",
            "54000/54000 [==============================] - 10s 193us/step - loss: 0.3775 - acc: 0.8655 - val_loss: 0.3514 - val_acc: 0.8750\n",
            "Epoch 9/10\n",
            "54000/54000 [==============================] - 11s 205us/step - loss: 0.3756 - acc: 0.8650 - val_loss: 0.3732 - val_acc: 0.8673\n",
            "Epoch 10/10\n",
            "54000/54000 [==============================] - 11s 198us/step - loss: 0.3662 - acc: 0.8699 - val_loss: 0.3471 - val_acc: 0.8768\n",
            "CPU times: user 2min 26s, sys: 13.1 s, total: 2min 39s\n",
            "Wall time: 1min 48s\n"
          ],
          "name": "stdout"
        }
      ]
    },
    {
      "cell_type": "code",
      "metadata": {
        "id": "5iaNXJhiWYq2",
        "colab_type": "code",
        "colab": {
          "base_uri": "https://localhost:8080/",
          "height": 54
        },
        "outputId": "efa2bfb6-d0d5-4cef-989f-bbd2933b8579"
      },
      "source": [
        "scores = mnist_model.evaluate(X_test, y_test)\n",
        "print(f'{mnist_model.metrics_names[1]}: {scores[1]*100}')"
      ],
      "execution_count": 6,
      "outputs": [
        {
          "output_type": "stream",
          "text": [
            "10000/10000 [==============================] - 0s 28us/step\n",
            "acc: 86.71\n"
          ],
          "name": "stdout"
        }
      ]
    },
    {
      "cell_type": "markdown",
      "metadata": {
        "id": "l4y6OC2UWYq_",
        "colab_type": "text"
      },
      "source": [
        "## Try more epochs:"
      ]
    },
    {
      "cell_type": "code",
      "metadata": {
        "id": "JneXP0UiWYrB",
        "colab_type": "code",
        "colab": {
          "base_uri": "https://localhost:8080/",
          "height": 326
        },
        "outputId": "f9960647-337a-4914-da26-7981c76b3940"
      },
      "source": [
        "mnist_model = Sequential()\n",
        "\n",
        "# Hidden\n",
        "mnist_model.add(Dense(260, input_dim=784, activation='relu'))\n",
        "mnist_model.add(Dropout(0.15))\n",
        "mnist_model.add(Dense(32, activation='relu'))\n",
        "mnist_model.add(Dropout(0.15))\n",
        "\n",
        "# Output Layer\n",
        "mnist_model.add(Dense(10, activation='softmax'))\n",
        "\n",
        "mnist_model.compile(loss='categorical_crossentropy',\n",
        "                    optimizer='adam', \n",
        "                    metrics=['accuracy'])\n",
        "mnist_model.summary()"
      ],
      "execution_count": 28,
      "outputs": [
        {
          "output_type": "stream",
          "text": [
            "_________________________________________________________________\n",
            "Layer (type)                 Output Shape              Param #   \n",
            "=================================================================\n",
            "dense_18 (Dense)             (None, 260)               204100    \n",
            "_________________________________________________________________\n",
            "dropout_11 (Dropout)         (None, 260)               0         \n",
            "_________________________________________________________________\n",
            "dense_19 (Dense)             (None, 32)                8352      \n",
            "_________________________________________________________________\n",
            "dropout_12 (Dropout)         (None, 32)                0         \n",
            "_________________________________________________________________\n",
            "dense_20 (Dense)             (None, 10)                330       \n",
            "=================================================================\n",
            "Total params: 212,782\n",
            "Trainable params: 212,782\n",
            "Non-trainable params: 0\n",
            "_________________________________________________________________\n"
          ],
          "name": "stdout"
        }
      ]
    },
    {
      "cell_type": "code",
      "metadata": {
        "id": "7LXcu8A5WYrI",
        "colab_type": "code",
        "colab": {
          "base_uri": "https://localhost:8080/",
          "height": 1000
        },
        "outputId": "9fac7582-f047-400c-825f-cd7ead74dd3e"
      },
      "source": [
        "%%time\n",
        "history = mnist_model.fit(X_train, y_train, epochs=50, batch_size=128,\n",
        "                          validation_split=.15, verbose=1)"
      ],
      "execution_count": 29,
      "outputs": [
        {
          "output_type": "stream",
          "text": [
            "Train on 51000 samples, validate on 9000 samples\n",
            "Epoch 1/50\n",
            "51000/51000 [==============================] - 8s 164us/step - loss: 0.6842 - acc: 0.7629 - val_loss: 0.4382 - val_acc: 0.8447\n",
            "Epoch 2/50\n",
            "51000/51000 [==============================] - 7s 137us/step - loss: 0.4444 - acc: 0.8422 - val_loss: 0.4103 - val_acc: 0.8487\n",
            "Epoch 3/50\n",
            "51000/51000 [==============================] - 7s 138us/step - loss: 0.3944 - acc: 0.8591 - val_loss: 0.3600 - val_acc: 0.8711\n",
            "Epoch 4/50\n",
            "51000/51000 [==============================] - 7s 142us/step - loss: 0.3637 - acc: 0.8685 - val_loss: 0.3467 - val_acc: 0.8767\n",
            "Epoch 5/50\n",
            "51000/51000 [==============================] - 7s 136us/step - loss: 0.3464 - acc: 0.8744 - val_loss: 0.3383 - val_acc: 0.8813\n",
            "Epoch 6/50\n",
            "51000/51000 [==============================] - 7s 130us/step - loss: 0.3339 - acc: 0.8763 - val_loss: 0.3404 - val_acc: 0.8781\n",
            "Epoch 7/50\n",
            "51000/51000 [==============================] - 7s 131us/step - loss: 0.3214 - acc: 0.8831 - val_loss: 0.3286 - val_acc: 0.8832\n",
            "Epoch 8/50\n",
            "51000/51000 [==============================] - 7s 134us/step - loss: 0.3058 - acc: 0.8884 - val_loss: 0.3228 - val_acc: 0.8866\n",
            "Epoch 9/50\n",
            "51000/51000 [==============================] - 8s 149us/step - loss: 0.2967 - acc: 0.8908 - val_loss: 0.3247 - val_acc: 0.8843\n",
            "Epoch 10/50\n",
            "51000/51000 [==============================] - 7s 145us/step - loss: 0.2894 - acc: 0.8934 - val_loss: 0.3184 - val_acc: 0.8874\n",
            "Epoch 11/50\n",
            "51000/51000 [==============================] - 7s 139us/step - loss: 0.2813 - acc: 0.8945 - val_loss: 0.3321 - val_acc: 0.8813\n",
            "Epoch 12/50\n",
            "51000/51000 [==============================] - 7s 135us/step - loss: 0.2757 - acc: 0.8985 - val_loss: 0.3199 - val_acc: 0.8879\n",
            "Epoch 13/50\n",
            "51000/51000 [==============================] - 7s 136us/step - loss: 0.2673 - acc: 0.9014 - val_loss: 0.3203 - val_acc: 0.8850\n",
            "Epoch 14/50\n",
            "51000/51000 [==============================] - 7s 133us/step - loss: 0.2644 - acc: 0.9018 - val_loss: 0.3062 - val_acc: 0.8917\n",
            "Epoch 15/50\n",
            "51000/51000 [==============================] - 7s 134us/step - loss: 0.2580 - acc: 0.9040 - val_loss: 0.3132 - val_acc: 0.8898\n",
            "Epoch 16/50\n",
            "51000/51000 [==============================] - 7s 138us/step - loss: 0.2517 - acc: 0.9069 - val_loss: 0.3033 - val_acc: 0.8927\n",
            "Epoch 17/50\n",
            "51000/51000 [==============================] - 7s 145us/step - loss: 0.2445 - acc: 0.9095 - val_loss: 0.3109 - val_acc: 0.8937\n",
            "Epoch 18/50\n",
            "51000/51000 [==============================] - 8s 155us/step - loss: 0.2420 - acc: 0.9096 - val_loss: 0.3118 - val_acc: 0.8921\n",
            "Epoch 19/50\n",
            "51000/51000 [==============================] - 7s 140us/step - loss: 0.2374 - acc: 0.9119 - val_loss: 0.3121 - val_acc: 0.8943\n",
            "Epoch 20/50\n",
            "51000/51000 [==============================] - 7s 146us/step - loss: 0.2340 - acc: 0.9127 - val_loss: 0.3011 - val_acc: 0.8953\n",
            "Epoch 21/50\n",
            "51000/51000 [==============================] - 7s 147us/step - loss: 0.2277 - acc: 0.9141 - val_loss: 0.3143 - val_acc: 0.8926\n",
            "Epoch 22/50\n",
            "51000/51000 [==============================] - 7s 143us/step - loss: 0.2254 - acc: 0.9148 - val_loss: 0.3091 - val_acc: 0.8912\n",
            "Epoch 23/50\n",
            "51000/51000 [==============================] - 7s 131us/step - loss: 0.2207 - acc: 0.9171 - val_loss: 0.3032 - val_acc: 0.8971\n",
            "Epoch 24/50\n",
            "51000/51000 [==============================] - 7s 143us/step - loss: 0.2194 - acc: 0.9178 - val_loss: 0.3108 - val_acc: 0.8917\n",
            "Epoch 25/50\n",
            "51000/51000 [==============================] - 7s 140us/step - loss: 0.2167 - acc: 0.9178 - val_loss: 0.3167 - val_acc: 0.8933\n",
            "Epoch 26/50\n",
            "51000/51000 [==============================] - 7s 142us/step - loss: 0.2098 - acc: 0.9210 - val_loss: 0.3208 - val_acc: 0.8918\n",
            "Epoch 27/50\n",
            "51000/51000 [==============================] - 7s 143us/step - loss: 0.2090 - acc: 0.9220 - val_loss: 0.3432 - val_acc: 0.8940\n",
            "Epoch 28/50\n",
            "51000/51000 [==============================] - 7s 138us/step - loss: 0.2052 - acc: 0.9238 - val_loss: 0.3192 - val_acc: 0.8947\n",
            "Epoch 29/50\n",
            "51000/51000 [==============================] - 7s 133us/step - loss: 0.2008 - acc: 0.9250 - val_loss: 0.3196 - val_acc: 0.8948\n",
            "Epoch 30/50\n",
            "51000/51000 [==============================] - 7s 140us/step - loss: 0.2002 - acc: 0.9240 - val_loss: 0.3203 - val_acc: 0.8941\n",
            "Epoch 31/50\n",
            "51000/51000 [==============================] - 7s 143us/step - loss: 0.1946 - acc: 0.9261 - val_loss: 0.3164 - val_acc: 0.8951\n",
            "Epoch 32/50\n",
            "51000/51000 [==============================] - 7s 141us/step - loss: 0.1938 - acc: 0.9274 - val_loss: 0.3300 - val_acc: 0.8964\n",
            "Epoch 33/50\n",
            "51000/51000 [==============================] - 7s 133us/step - loss: 0.1890 - acc: 0.9299 - val_loss: 0.3390 - val_acc: 0.8931\n",
            "Epoch 34/50\n",
            "51000/51000 [==============================] - 7s 144us/step - loss: 0.1911 - acc: 0.9267 - val_loss: 0.3169 - val_acc: 0.8971\n",
            "Epoch 35/50\n",
            "51000/51000 [==============================] - 8s 156us/step - loss: 0.1837 - acc: 0.9297 - val_loss: 0.3199 - val_acc: 0.8969\n",
            "Epoch 36/50\n",
            "51000/51000 [==============================] - 7s 147us/step - loss: 0.1852 - acc: 0.9300 - val_loss: 0.3349 - val_acc: 0.8936\n",
            "Epoch 37/50\n",
            "51000/51000 [==============================] - 7s 147us/step - loss: 0.1802 - acc: 0.9318 - val_loss: 0.3290 - val_acc: 0.8990\n",
            "Epoch 38/50\n",
            "51000/51000 [==============================] - 7s 133us/step - loss: 0.1776 - acc: 0.9337 - val_loss: 0.3247 - val_acc: 0.8967\n",
            "Epoch 39/50\n",
            "51000/51000 [==============================] - 7s 130us/step - loss: 0.1782 - acc: 0.9319 - val_loss: 0.3238 - val_acc: 0.8952\n",
            "Epoch 40/50\n",
            "51000/51000 [==============================] - 7s 135us/step - loss: 0.1745 - acc: 0.9340 - val_loss: 0.3387 - val_acc: 0.8961\n",
            "Epoch 41/50\n",
            "51000/51000 [==============================] - 7s 135us/step - loss: 0.1684 - acc: 0.9354 - val_loss: 0.3420 - val_acc: 0.8932\n",
            "Epoch 42/50\n",
            "51000/51000 [==============================] - 7s 130us/step - loss: 0.1738 - acc: 0.9340 - val_loss: 0.3389 - val_acc: 0.8940\n",
            "Epoch 43/50\n",
            "51000/51000 [==============================] - 7s 142us/step - loss: 0.1682 - acc: 0.9365 - val_loss: 0.3343 - val_acc: 0.8976\n",
            "Epoch 44/50\n",
            "51000/51000 [==============================] - 7s 141us/step - loss: 0.1677 - acc: 0.9362 - val_loss: 0.3433 - val_acc: 0.8947\n",
            "Epoch 45/50\n",
            "51000/51000 [==============================] - 7s 140us/step - loss: 0.1647 - acc: 0.9375 - val_loss: 0.3349 - val_acc: 0.8981\n",
            "Epoch 46/50\n",
            "51000/51000 [==============================] - 7s 137us/step - loss: 0.1586 - acc: 0.9394 - val_loss: 0.3467 - val_acc: 0.8968\n",
            "Epoch 47/50\n",
            "51000/51000 [==============================] - 7s 134us/step - loss: 0.1621 - acc: 0.9384 - val_loss: 0.3625 - val_acc: 0.8968\n",
            "Epoch 48/50\n",
            "51000/51000 [==============================] - 7s 139us/step - loss: 0.1589 - acc: 0.9402 - val_loss: 0.3591 - val_acc: 0.8937\n",
            "Epoch 49/50\n",
            "51000/51000 [==============================] - 7s 135us/step - loss: 0.1564 - acc: 0.9403 - val_loss: 0.3648 - val_acc: 0.8914\n",
            "Epoch 50/50\n",
            "51000/51000 [==============================] - 7s 137us/step - loss: 0.1556 - acc: 0.9407 - val_loss: 0.3588 - val_acc: 0.8999\n",
            "CPU times: user 5min 6s, sys: 2min 44s, total: 7min 51s\n",
            "Wall time: 5min 56s\n"
          ],
          "name": "stdout"
        }
      ]
    },
    {
      "cell_type": "code",
      "metadata": {
        "id": "8N_J9t-ZWYrS",
        "colab_type": "code",
        "colab": {
          "base_uri": "https://localhost:8080/",
          "height": 54
        },
        "outputId": "3e1e261d-82fd-4a72-ee87-1b7a2e6d6c93"
      },
      "source": [
        "scores = mnist_model.evaluate(X_test, y_test)\n",
        "print(f'{mnist_model.metrics_names[1]}: {scores[1]*100}')"
      ],
      "execution_count": 30,
      "outputs": [
        {
          "output_type": "stream",
          "text": [
            "10000/10000 [==============================] - 0s 41us/step\n",
            "acc: 89.53\n"
          ],
          "name": "stdout"
        }
      ]
    },
    {
      "cell_type": "markdown",
      "metadata": {
        "colab_type": "text",
        "id": "zv_3xNMjzdLI"
      },
      "source": [
        "## Stretch Goals:\n",
        "\n",
        "- Use Hyperparameter Tuning to make the accuracy of your models as high as possible. (error as low as possible)\n",
        "- Use Cross Validation techniques to get more consistent results with your model.\n",
        "- Use GridSearchCV to try different combinations of hyperparameters. \n",
        "- Start looking into other types of Keras layers for CNNs and RNNs maybe try and build a CNN model for fashion-MNIST to see how the results compare."
      ]
    }
  ]
}