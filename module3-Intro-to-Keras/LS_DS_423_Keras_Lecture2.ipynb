{
 "cells": [
  {
   "cell_type": "code",
   "execution_count": 0,
   "metadata": {
    "colab": {},
    "colab_type": "code",
    "id": "n5XQT6Pc287U"
   },
   "outputs": [],
   "source": [
    "# changed by nov05 on 2019-09-11"
   ]
  },
  {
   "cell_type": "markdown",
   "metadata": {
    "colab_type": "text",
    "id": "Fohm7B9Q8Fe7"
   },
   "source": [
    "https://machinelearningmastery.com/tutorial-first-neural-network-python-keras/   "
   ]
  },
  {
   "cell_type": "markdown",
   "metadata": {
    "colab_type": "text",
    "id": "8cbjDKhiBJj_"
   },
   "source": [
    "### Imports"
   ]
  },
  {
   "cell_type": "code",
   "execution_count": 1,
   "metadata": {
    "colab": {
     "base_uri": "https://localhost:8080/",
     "height": 35
    },
    "colab_type": "code",
    "executionInfo": {
     "elapsed": 2182,
     "status": "ok",
     "timestamp": 1568262796910,
     "user": {
      "displayName": "Wenjing Liu",
      "photoUrl": "https://lh3.googleusercontent.com/a-/AAuE7mA15lvs7VR-FATIP9sDKyrrrxUQZ3P-Lq8wQnof=s64",
      "userId": "16067106733028664591"
     },
     "user_tz": 300
    },
    "id": "QEncs0SOsFMT",
    "outputId": "f4b5e9a3-bf27-4481-f072-0f4d0f069ab7"
   },
   "outputs": [
    {
     "data": {
      "text/plain": [
       "'1.14.0'"
      ]
     },
     "execution_count": 1,
     "metadata": {
      "tags": []
     },
     "output_type": "execute_result"
    }
   ],
   "source": [
    "# Use pip freeze to see what packages/libraries your notebook has access to\n",
    "# !pip freeze\n",
    "\n",
    "import tensorflow\n",
    "tensorflow.__version__"
   ]
  },
  {
   "cell_type": "code",
   "execution_count": 0,
   "metadata": {
    "colab": {},
    "colab_type": "code",
    "id": "WaN098cS5w88"
   },
   "outputs": [],
   "source": [
    "import numpy as np\n",
    "import matplotlib.pyplot as plt\n",
    "\n",
    "from tensorflow.keras.models import Sequential\n",
    "from tensorflow.keras.layers import Dense\n",
    "from tensorflow.keras.layers import Dropout\n",
    "from tensorflow.keras.optimizers import SGD\n",
    "\n",
    "np.random.seed(812)"
   ]
  },
  {
   "cell_type": "markdown",
   "metadata": {
    "colab_type": "text",
    "id": "HJzTIkYAsLxw"
   },
   "source": [
    "<img align=\"left\" src=\"https://lever-client-logos.s3.amazonaws.com/864372b1-534c-480e-acd5-9711f850815c-1524247202159.png\" width=200>\n",
    "<br></br>\n",
    "\n",
    "# Neural Network Frameworks (Keras)\n",
    "\n",
    "## *Data Science Unit 4 Sprint 2 Lesson 3*\n",
    "\n",
    "# Lets Use Libraries!\n",
    "\n",
    "The objective of the last two days has been to familiarize you with the fundamentals of neural networks: terminology, structure of networks, forward propagation, error/cost functions, backpropagation, epochs, and gradient descent. We have tried to reinforce these topics by requiring to you code some of the simplest neural networks by hand including Perceptrons (single node neural networks) and Multi-Layer Perceptrons also known as Feed-Forward Neural Networks. Continuing to do things by hand would not be the best use of our limited time. You're ready to graduate from doing things by hand and start using some powerful libraries to build cutting-edge predictive models. "
   ]
  },
  {
   "cell_type": "markdown",
   "metadata": {
    "colab_type": "text",
    "id": "MFYCXc5KdkPE"
   },
   "source": [
    "# Keras\n",
    "\n",
    "> \"Keras is a high-level neural networks API, written in Python and capable of running on top of TensorFlow, CNTK, or Theano. It was developed with a focus on enabling fast experimentation. Being able to go from idea to result with the least possible delay is key to doing good research. Use Keras if you need a deep learning library that:\n",
    "\n",
    "> Allows for easy and fast prototyping (through user friendliness, modularity, and extensibility).\n",
    "Supports both convolutional networks and recurrent networks, as well as combinations of the two.\n",
    "Runs seamlessly on CPU and GPU.\" "
   ]
  },
  {
   "cell_type": "markdown",
   "metadata": {
    "colab_type": "text",
    "id": "VxgUUpIKn54a"
   },
   "source": [
    "## Our First Keras Model - Perceptron, Batch epochs\n",
    "\n",
    "1) Load Data\n",
    "\n",
    "2) Define Model\n",
    "\n",
    "3) Compile Model\n",
    "\n",
    "4) Fit Model\n",
    "\n",
    "5) Evaluate Model"
   ]
  },
  {
   "cell_type": "markdown",
   "metadata": {
    "colab_type": "text",
    "id": "Md5D67XwqVAf"
   },
   "source": [
    "### Load Data - Diabetes data\n",
    "\n",
    "Our life is going to be easier if our data is already cleaned up and numeric, so lets use this dataset from Jason Brownlee that is already numeric and has no column headers so we'll need to slice off the last column of data to act as our y values."
   ]
  },
  {
   "cell_type": "code",
   "execution_count": 3,
   "metadata": {
    "colab": {
     "base_uri": "https://localhost:8080/",
     "height": 203
    },
    "colab_type": "code",
    "executionInfo": {
     "elapsed": 1076,
     "status": "ok",
     "timestamp": 1568262802300,
     "user": {
      "displayName": "Wenjing Liu",
      "photoUrl": "https://lh3.googleusercontent.com/a-/AAuE7mA15lvs7VR-FATIP9sDKyrrrxUQZ3P-Lq8wQnof=s64",
      "userId": "16067106733028664591"
     },
     "user_tz": 300
    },
    "id": "bn09phMBpY1J",
    "outputId": "34759fc1-dd20-42b2-9430-4b94ecbe7373"
   },
   "outputs": [
    {
     "data": {
      "text/html": [
       "<div>\n",
       "<style scoped>\n",
       "    .dataframe tbody tr th:only-of-type {\n",
       "        vertical-align: middle;\n",
       "    }\n",
       "\n",
       "    .dataframe tbody tr th {\n",
       "        vertical-align: top;\n",
       "    }\n",
       "\n",
       "    .dataframe thead th {\n",
       "        text-align: right;\n",
       "    }\n",
       "</style>\n",
       "<table border=\"1\" class=\"dataframe\">\n",
       "  <thead>\n",
       "    <tr style=\"text-align: right;\">\n",
       "      <th></th>\n",
       "      <th>0</th>\n",
       "      <th>1</th>\n",
       "      <th>2</th>\n",
       "      <th>3</th>\n",
       "      <th>4</th>\n",
       "      <th>5</th>\n",
       "      <th>6</th>\n",
       "      <th>7</th>\n",
       "      <th>8</th>\n",
       "    </tr>\n",
       "  </thead>\n",
       "  <tbody>\n",
       "    <tr>\n",
       "      <th>0</th>\n",
       "      <td>6</td>\n",
       "      <td>148</td>\n",
       "      <td>72</td>\n",
       "      <td>35</td>\n",
       "      <td>0</td>\n",
       "      <td>33.6</td>\n",
       "      <td>0.627</td>\n",
       "      <td>50</td>\n",
       "      <td>1</td>\n",
       "    </tr>\n",
       "    <tr>\n",
       "      <th>1</th>\n",
       "      <td>1</td>\n",
       "      <td>85</td>\n",
       "      <td>66</td>\n",
       "      <td>29</td>\n",
       "      <td>0</td>\n",
       "      <td>26.6</td>\n",
       "      <td>0.351</td>\n",
       "      <td>31</td>\n",
       "      <td>0</td>\n",
       "    </tr>\n",
       "    <tr>\n",
       "      <th>2</th>\n",
       "      <td>8</td>\n",
       "      <td>183</td>\n",
       "      <td>64</td>\n",
       "      <td>0</td>\n",
       "      <td>0</td>\n",
       "      <td>23.3</td>\n",
       "      <td>0.672</td>\n",
       "      <td>32</td>\n",
       "      <td>1</td>\n",
       "    </tr>\n",
       "    <tr>\n",
       "      <th>3</th>\n",
       "      <td>1</td>\n",
       "      <td>89</td>\n",
       "      <td>66</td>\n",
       "      <td>23</td>\n",
       "      <td>94</td>\n",
       "      <td>28.1</td>\n",
       "      <td>0.167</td>\n",
       "      <td>21</td>\n",
       "      <td>0</td>\n",
       "    </tr>\n",
       "    <tr>\n",
       "      <th>4</th>\n",
       "      <td>0</td>\n",
       "      <td>137</td>\n",
       "      <td>40</td>\n",
       "      <td>35</td>\n",
       "      <td>168</td>\n",
       "      <td>43.1</td>\n",
       "      <td>2.288</td>\n",
       "      <td>33</td>\n",
       "      <td>1</td>\n",
       "    </tr>\n",
       "  </tbody>\n",
       "</table>\n",
       "</div>"
      ],
      "text/plain": [
       "   0    1   2   3    4     5      6   7  8\n",
       "0  6  148  72  35    0  33.6  0.627  50  1\n",
       "1  1   85  66  29    0  26.6  0.351  31  0\n",
       "2  8  183  64   0    0  23.3  0.672  32  1\n",
       "3  1   89  66  23   94  28.1  0.167  21  0\n",
       "4  0  137  40  35  168  43.1  2.288  33  1"
      ]
     },
     "execution_count": 3,
     "metadata": {
      "tags": []
     },
     "output_type": "execute_result"
    }
   ],
   "source": [
    "import pandas as pd\n",
    "\n",
    "url =\"https://raw.githubusercontent.com/jbrownlee/Datasets/master/pima-indians-diabetes.data.csv\"\n",
    "dataset = pd.read_csv(url, header=None)\n",
    "dataset.head()"
   ]
  },
  {
   "cell_type": "code",
   "execution_count": 4,
   "metadata": {
    "colab": {
     "base_uri": "https://localhost:8080/",
     "height": 158
    },
    "colab_type": "code",
    "executionInfo": {
     "elapsed": 867,
     "status": "ok",
     "timestamp": 1568262805380,
     "user": {
      "displayName": "Wenjing Liu",
      "photoUrl": "https://lh3.googleusercontent.com/a-/AAuE7mA15lvs7VR-FATIP9sDKyrrrxUQZ3P-Lq8wQnof=s64",
      "userId": "16067106733028664591"
     },
     "user_tz": 300
    },
    "id": "FKuofD3Pogil",
    "outputId": "a70db0ab-99bc-499d-d138-767f2735b046"
   },
   "outputs": [
    {
     "name": "stdout",
     "output_type": "stream",
     "text": [
      "(768, 8)\n",
      "[[  6.    148.     72.    ...  33.6     0.627  50.   ]\n",
      " [  1.     85.     66.    ...  26.6     0.351  31.   ]\n",
      " [  8.    183.     64.    ...  23.3     0.672  32.   ]\n",
      " ...\n",
      " [  5.    121.     72.    ...  26.2     0.245  30.   ]\n",
      " [  1.    126.     60.    ...  30.1     0.349  47.   ]\n",
      " [  1.     93.     70.    ...  30.4     0.315  23.   ]]\n"
     ]
    }
   ],
   "source": [
    "X = dataset.values[:,0:8]\n",
    "print(X.shape)\n",
    "print(X)"
   ]
  },
  {
   "cell_type": "code",
   "execution_count": 5,
   "metadata": {
    "colab": {
     "base_uri": "https://localhost:8080/",
     "height": 52
    },
    "colab_type": "code",
    "executionInfo": {
     "elapsed": 860,
     "status": "ok",
     "timestamp": 1568262808216,
     "user": {
      "displayName": "Wenjing Liu",
      "photoUrl": "https://lh3.googleusercontent.com/a-/AAuE7mA15lvs7VR-FATIP9sDKyrrrxUQZ3P-Lq8wQnof=s64",
      "userId": "16067106733028664591"
     },
     "user_tz": 300
    },
    "id": "_TWuOjKcJ1No",
    "outputId": "8dd587c9-bbe0-4725-e0cf-504e4d219a27"
   },
   "outputs": [
    {
     "name": "stdout",
     "output_type": "stream",
     "text": [
      "(768,)\n",
      "[1. 0. 1. 0. 1. 0. 1. 0. 1. 1. 0. 1. 0. 1. 1. 1. 1. 1. 0. 1.]\n"
     ]
    }
   ],
   "source": [
    "y = dataset.values[:,-1]\n",
    "print(y.shape)\n",
    "print(y[:20])"
   ]
  },
  {
   "cell_type": "markdown",
   "metadata": {
    "colab_type": "text",
    "id": "o0xMqOyTs5xt"
   },
   "source": [
    "### Define Model"
   ]
  },
  {
   "cell_type": "markdown",
   "metadata": {
    "colab_type": "text",
    "id": "wAzHLg27thoN"
   },
   "source": [
    "I'll instantiate my model as a \"sequential\" model. This just means that I'm going to tell Keras what my model's architecture should be one layer at a time."
   ]
  },
  {
   "cell_type": "code",
   "execution_count": 0,
   "metadata": {
    "colab": {},
    "colab_type": "code",
    "id": "DSNsL49Xp6KI"
   },
   "outputs": [],
   "source": [
    "# https://keras.io/getting-started/sequential-model-guide/\n",
    "model = Sequential()"
   ]
  },
  {
   "cell_type": "markdown",
   "metadata": {
    "colab_type": "text",
    "id": "ZCYX6QzJtvpG"
   },
   "source": [
    "Adding a \"Dense\" layer to our model is how we add \"vanilla\" perceptron-based layers to our neural network. These are also called \"fully-connected\" or \"densely-connected\" layers. They're used as a layer type in lots of other Neural Net Architectures but they're not referred to as perceptrons or multi-layer perceptrons very often in those situations even though that's what they are.\n",
    "\n",
    " > [\"Just your regular densely-connected NN layer.\"](https://keras.io/layers/core/)\n",
    " \n",
    " The first argument is how many neurons we want to have in that layer. To create a perceptron model we will just set it to 1. We will tell it that there will be 8 inputs coming into this layer from our dataset and set it to use the sigmoid activation function."
   ]
  },
  {
   "cell_type": "code",
   "execution_count": 9,
   "metadata": {
    "colab": {
     "base_uri": "https://localhost:8080/",
     "height": 90
    },
    "colab_type": "code",
    "executionInfo": {
     "elapsed": 3672,
     "status": "ok",
     "timestamp": 1568235990929,
     "user": {
      "displayName": "Wenjing Liu",
      "photoUrl": "https://lh3.googleusercontent.com/a-/AAuE7mA15lvs7VR-FATIP9sDKyrrrxUQZ3P-Lq8wQnof=s64",
      "userId": "16067106733028664591"
     },
     "user_tz": 300
    },
    "id": "GNzOLidxtvFa",
    "outputId": "44958d28-a8c6-41dc-bf36-df9800593521"
   },
   "outputs": [
    {
     "name": "stdout",
     "output_type": "stream",
     "text": [
      "WARNING:tensorflow:From /usr/local/lib/python3.6/dist-packages/tensorflow/python/ops/init_ops.py:1251: calling VarianceScaling.__init__ (from tensorflow.python.ops.init_ops) with dtype is deprecated and will be removed in a future version.\n",
      "Instructions for updating:\n",
      "Call initializer instance with the dtype argument instead of passing it to the constructor\n"
     ]
    }
   ],
   "source": [
    "model.add(Dense(12, input_dim=8, activation='relu'))\n",
    "model.add(Dense(8, activation='relu'))\n",
    "model.add(Dense(1, activation='sigmoid'))"
   ]
  },
  {
   "cell_type": "markdown",
   "metadata": {
    "colab_type": "text",
    "id": "EnI3jwKMtBL2"
   },
   "source": [
    "### Compile Model\n",
    "Using binary_crossentropy as the loss function here is just telling keras that I'm doing binary classification so that it can use the appropriate loss function accordingly. If we were predicting non-binary categories we might assign something like `categorical_crossentropy`. We're also telling keras that we want it to report model accuracy as our main error metric for each epoch. We will also be able to see the overall accuracy once the model has finished training."
   ]
  },
  {
   "cell_type": "code",
   "execution_count": 10,
   "metadata": {
    "colab": {
     "base_uri": "https://localhost:8080/",
     "height": 336
    },
    "colab_type": "code",
    "executionInfo": {
     "elapsed": 2939,
     "status": "ok",
     "timestamp": 1568235995639,
     "user": {
      "displayName": "Wenjing Liu",
      "photoUrl": "https://lh3.googleusercontent.com/a-/AAuE7mA15lvs7VR-FATIP9sDKyrrrxUQZ3P-Lq8wQnof=s64",
      "userId": "16067106733028664591"
     },
     "user_tz": 300
    },
    "id": "qp6xwYaqurRO",
    "outputId": "1f8fbc8a-6b0d-4322-96a8-95647829427b"
   },
   "outputs": [
    {
     "name": "stdout",
     "output_type": "stream",
     "text": [
      "WARNING:tensorflow:From /usr/local/lib/python3.6/dist-packages/tensorflow/python/ops/nn_impl.py:180: add_dispatch_support.<locals>.wrapper (from tensorflow.python.ops.array_ops) is deprecated and will be removed in a future version.\n",
      "Instructions for updating:\n",
      "Use tf.where in 2.0, which has the same broadcast rule as np.where\n",
      "Model: \"sequential\"\n",
      "_________________________________________________________________\n",
      "Layer (type)                 Output Shape              Param #   \n",
      "=================================================================\n",
      "dense (Dense)                (None, 12)                108       \n",
      "_________________________________________________________________\n",
      "dense_1 (Dense)              (None, 8)                 104       \n",
      "_________________________________________________________________\n",
      "dense_2 (Dense)              (None, 1)                 9         \n",
      "=================================================================\n",
      "Total params: 221\n",
      "Trainable params: 221\n",
      "Non-trainable params: 0\n",
      "_________________________________________________________________\n"
     ]
    }
   ],
   "source": [
    "# compile the keras model\n",
    "model.compile(loss='binary_crossentropy', \n",
    "              optimizer='adam', \n",
    "              metrics=['accuracy'])\n",
    "model.summary()"
   ]
  },
  {
   "cell_type": "markdown",
   "metadata": {
    "colab_type": "text",
    "id": "RFGsTlgrJ1OG"
   },
   "source": [
    "### Adam Optimizer\n",
    "Check out this links for more background on the Adam optimizer and Stohastic Gradient Descent\n",
    "* [Adam Optimization Algorithm](https://machinelearningmastery.com/adam-optimization-algorithm-for-deep-learning/)\n",
    "* [Adam Optimizer - original paper](https://arxiv.org/abs/1412.6980)"
   ]
  },
  {
   "cell_type": "markdown",
   "metadata": {
    "colab_type": "text",
    "id": "5dW8SZ2Ls9SX"
   },
   "source": [
    "### Fit Model\n",
    "\n",
    "Lets train it up! `model.fit()` has a `batch_size` parameter that we can use if we want to do mini-batch epochs, but since this tabular dataset is pretty small we're just going to delete that parameter. Keras' default `batch_size` is `None` so omiting it will tell Keras to do batch epochs."
   ]
  },
  {
   "cell_type": "code",
   "execution_count": 11,
   "metadata": {
    "colab": {
     "base_uri": "https://localhost:8080/",
     "height": 1000
    },
    "colab_type": "code",
    "executionInfo": {
     "elapsed": 16098,
     "status": "ok",
     "timestamp": 1568236068285,
     "user": {
      "displayName": "Wenjing Liu",
      "photoUrl": "https://lh3.googleusercontent.com/a-/AAuE7mA15lvs7VR-FATIP9sDKyrrrxUQZ3P-Lq8wQnof=s64",
      "userId": "16067106733028664591"
     },
     "user_tz": 300
    },
    "id": "jUa38Q7AJ1OI",
    "outputId": "03b96edb-8ca6-4532-fb11-88d7935d6383"
   },
   "outputs": [
    {
     "name": "stdout",
     "output_type": "stream",
     "text": [
      "Epoch 1/150\n",
      "768/768 [==============================] - 1s 1ms/sample - loss: 11.0151 - acc: 0.3555\n",
      "Epoch 2/150\n",
      "768/768 [==============================] - 0s 55us/sample - loss: 6.9323 - acc: 0.3698\n",
      "Epoch 3/150\n",
      "768/768 [==============================] - 0s 54us/sample - loss: 4.6641 - acc: 0.3958\n",
      "Epoch 4/150\n",
      "768/768 [==============================] - 0s 53us/sample - loss: 3.3222 - acc: 0.4453\n",
      "Epoch 5/150\n",
      "768/768 [==============================] - 0s 56us/sample - loss: 2.4102 - acc: 0.4857\n",
      "Epoch 6/150\n",
      "768/768 [==============================] - 0s 59us/sample - loss: 1.7192 - acc: 0.4258\n",
      "Epoch 7/150\n",
      "768/768 [==============================] - 0s 58us/sample - loss: 1.4391 - acc: 0.4414\n",
      "Epoch 8/150\n",
      "768/768 [==============================] - 0s 55us/sample - loss: 1.3144 - acc: 0.4948\n",
      "Epoch 9/150\n",
      "768/768 [==============================] - 0s 62us/sample - loss: 1.2021 - acc: 0.4883\n",
      "Epoch 10/150\n",
      "768/768 [==============================] - 0s 55us/sample - loss: 1.1303 - acc: 0.4805\n",
      "Epoch 11/150\n",
      "768/768 [==============================] - 0s 58us/sample - loss: 1.0728 - acc: 0.4961\n",
      "Epoch 12/150\n",
      "768/768 [==============================] - 0s 58us/sample - loss: 1.0216 - acc: 0.4974\n",
      "Epoch 13/150\n",
      "768/768 [==============================] - 0s 56us/sample - loss: 0.9795 - acc: 0.5169\n",
      "Epoch 14/150\n",
      "768/768 [==============================] - 0s 56us/sample - loss: 0.9452 - acc: 0.5521\n",
      "Epoch 15/150\n",
      "768/768 [==============================] - 0s 55us/sample - loss: 0.9132 - acc: 0.5286\n",
      "Epoch 16/150\n",
      "768/768 [==============================] - 0s 55us/sample - loss: 0.8760 - acc: 0.5273\n",
      "Epoch 17/150\n",
      "768/768 [==============================] - 0s 61us/sample - loss: 0.8511 - acc: 0.5495\n",
      "Epoch 18/150\n",
      "768/768 [==============================] - 0s 64us/sample - loss: 0.8265 - acc: 0.5729\n",
      "Epoch 19/150\n",
      "768/768 [==============================] - 0s 57us/sample - loss: 0.8081 - acc: 0.5521\n",
      "Epoch 20/150\n",
      "768/768 [==============================] - 0s 58us/sample - loss: 0.7911 - acc: 0.5846\n",
      "Epoch 21/150\n",
      "768/768 [==============================] - 0s 54us/sample - loss: 0.7721 - acc: 0.5859\n",
      "Epoch 22/150\n",
      "768/768 [==============================] - 0s 67us/sample - loss: 0.7544 - acc: 0.5859\n",
      "Epoch 23/150\n",
      "768/768 [==============================] - 0s 57us/sample - loss: 0.7388 - acc: 0.6029\n",
      "Epoch 24/150\n",
      "768/768 [==============================] - 0s 64us/sample - loss: 0.7357 - acc: 0.5951\n",
      "Epoch 25/150\n",
      "768/768 [==============================] - 0s 59us/sample - loss: 0.7208 - acc: 0.5990\n",
      "Epoch 26/150\n",
      "768/768 [==============================] - 0s 60us/sample - loss: 0.7101 - acc: 0.6055\n",
      "Epoch 27/150\n",
      "768/768 [==============================] - 0s 56us/sample - loss: 0.6995 - acc: 0.6081\n",
      "Epoch 28/150\n",
      "768/768 [==============================] - 0s 58us/sample - loss: 0.6869 - acc: 0.6120\n",
      "Epoch 29/150\n",
      "768/768 [==============================] - 0s 66us/sample - loss: 0.6882 - acc: 0.6094\n",
      "Epoch 30/150\n",
      "768/768 [==============================] - 0s 59us/sample - loss: 0.6919 - acc: 0.6003\n",
      "Epoch 31/150\n",
      "768/768 [==============================] - 0s 52us/sample - loss: 0.6697 - acc: 0.6133\n",
      "Epoch 32/150\n",
      "768/768 [==============================] - 0s 55us/sample - loss: 0.6638 - acc: 0.6276\n",
      "Epoch 33/150\n",
      "768/768 [==============================] - 0s 58us/sample - loss: 0.6611 - acc: 0.6198\n",
      "Epoch 34/150\n",
      "768/768 [==============================] - 0s 64us/sample - loss: 0.6555 - acc: 0.6263\n",
      "Epoch 35/150\n",
      "768/768 [==============================] - 0s 60us/sample - loss: 0.6488 - acc: 0.6211\n",
      "Epoch 36/150\n",
      "768/768 [==============================] - 0s 53us/sample - loss: 0.6457 - acc: 0.6185\n",
      "Epoch 37/150\n",
      "768/768 [==============================] - 0s 58us/sample - loss: 0.6441 - acc: 0.6237\n",
      "Epoch 38/150\n",
      "768/768 [==============================] - 0s 58us/sample - loss: 0.6352 - acc: 0.6341\n",
      "Epoch 39/150\n",
      "768/768 [==============================] - 0s 57us/sample - loss: 0.6353 - acc: 0.6419\n",
      "Epoch 40/150\n",
      "768/768 [==============================] - 0s 61us/sample - loss: 0.6362 - acc: 0.6367\n",
      "Epoch 41/150\n",
      "768/768 [==============================] - 0s 58us/sample - loss: 0.6275 - acc: 0.6445\n",
      "Epoch 42/150\n",
      "768/768 [==============================] - 0s 53us/sample - loss: 0.6234 - acc: 0.6406\n",
      "Epoch 43/150\n",
      "768/768 [==============================] - 0s 57us/sample - loss: 0.6180 - acc: 0.6406\n",
      "Epoch 44/150\n",
      "768/768 [==============================] - 0s 59us/sample - loss: 0.6281 - acc: 0.6484\n",
      "Epoch 45/150\n",
      "768/768 [==============================] - 0s 56us/sample - loss: 0.6232 - acc: 0.6289\n",
      "Epoch 46/150\n",
      "768/768 [==============================] - 0s 55us/sample - loss: 0.6138 - acc: 0.6549\n",
      "Epoch 47/150\n",
      "768/768 [==============================] - 0s 57us/sample - loss: 0.6139 - acc: 0.6536\n",
      "Epoch 48/150\n",
      "768/768 [==============================] - 0s 57us/sample - loss: 0.6134 - acc: 0.6641\n",
      "Epoch 49/150\n",
      "768/768 [==============================] - 0s 62us/sample - loss: 0.6133 - acc: 0.6471\n",
      "Epoch 50/150\n",
      "768/768 [==============================] - 0s 73us/sample - loss: 0.6048 - acc: 0.6628\n",
      "Epoch 51/150\n",
      "768/768 [==============================] - 0s 57us/sample - loss: 0.6013 - acc: 0.6576\n",
      "Epoch 52/150\n",
      "768/768 [==============================] - 0s 57us/sample - loss: 0.5990 - acc: 0.6576\n",
      "Epoch 53/150\n",
      "768/768 [==============================] - 0s 54us/sample - loss: 0.5987 - acc: 0.6667\n",
      "Epoch 54/150\n",
      "768/768 [==============================] - 0s 55us/sample - loss: 0.5964 - acc: 0.6706\n",
      "Epoch 55/150\n",
      "768/768 [==============================] - 0s 58us/sample - loss: 0.6006 - acc: 0.6745\n",
      "Epoch 56/150\n",
      "768/768 [==============================] - 0s 56us/sample - loss: 0.5929 - acc: 0.6654\n",
      "Epoch 57/150\n",
      "768/768 [==============================] - 0s 64us/sample - loss: 0.5964 - acc: 0.6680\n",
      "Epoch 58/150\n",
      "768/768 [==============================] - 0s 52us/sample - loss: 0.5893 - acc: 0.6745\n",
      "Epoch 59/150\n",
      "768/768 [==============================] - 0s 57us/sample - loss: 0.5942 - acc: 0.6797\n",
      "Epoch 60/150\n",
      "768/768 [==============================] - 0s 60us/sample - loss: 0.5836 - acc: 0.6745\n",
      "Epoch 61/150\n",
      "768/768 [==============================] - 0s 63us/sample - loss: 0.5858 - acc: 0.6862\n",
      "Epoch 62/150\n",
      "768/768 [==============================] - 0s 65us/sample - loss: 0.5863 - acc: 0.6745\n",
      "Epoch 63/150\n",
      "768/768 [==============================] - 0s 56us/sample - loss: 0.5816 - acc: 0.6810\n",
      "Epoch 64/150\n",
      "768/768 [==============================] - 0s 56us/sample - loss: 0.5862 - acc: 0.6745\n",
      "Epoch 65/150\n",
      "768/768 [==============================] - 0s 63us/sample - loss: 0.5769 - acc: 0.6901\n",
      "Epoch 66/150\n",
      "768/768 [==============================] - 0s 60us/sample - loss: 0.5813 - acc: 0.6888\n",
      "Epoch 67/150\n",
      "768/768 [==============================] - 0s 58us/sample - loss: 0.5776 - acc: 0.6914\n",
      "Epoch 68/150\n",
      "768/768 [==============================] - 0s 63us/sample - loss: 0.5804 - acc: 0.6823\n",
      "Epoch 69/150\n",
      "768/768 [==============================] - 0s 61us/sample - loss: 0.5745 - acc: 0.6992\n",
      "Epoch 70/150\n",
      "768/768 [==============================] - 0s 71us/sample - loss: 0.5724 - acc: 0.6875\n",
      "Epoch 71/150\n",
      "768/768 [==============================] - 0s 59us/sample - loss: 0.5757 - acc: 0.7018\n",
      "Epoch 72/150\n",
      "768/768 [==============================] - 0s 62us/sample - loss: 0.5784 - acc: 0.6979\n",
      "Epoch 73/150\n",
      "768/768 [==============================] - 0s 54us/sample - loss: 0.5743 - acc: 0.6901\n",
      "Epoch 74/150\n",
      "768/768 [==============================] - 0s 59us/sample - loss: 0.5700 - acc: 0.6836\n",
      "Epoch 75/150\n",
      "768/768 [==============================] - 0s 57us/sample - loss: 0.5802 - acc: 0.6758\n",
      "Epoch 76/150\n",
      "768/768 [==============================] - 0s 55us/sample - loss: 0.5730 - acc: 0.6966\n",
      "Epoch 77/150\n",
      "768/768 [==============================] - 0s 59us/sample - loss: 0.5661 - acc: 0.6953\n",
      "Epoch 78/150\n",
      "768/768 [==============================] - 0s 58us/sample - loss: 0.5654 - acc: 0.7044\n",
      "Epoch 79/150\n",
      "768/768 [==============================] - 0s 54us/sample - loss: 0.5642 - acc: 0.7109\n",
      "Epoch 80/150\n",
      "768/768 [==============================] - 0s 61us/sample - loss: 0.5719 - acc: 0.7044\n",
      "Epoch 81/150\n",
      "768/768 [==============================] - 0s 60us/sample - loss: 0.5812 - acc: 0.7096\n",
      "Epoch 82/150\n",
      "768/768 [==============================] - 0s 58us/sample - loss: 0.5658 - acc: 0.6927\n",
      "Epoch 83/150\n",
      "768/768 [==============================] - 0s 60us/sample - loss: 0.5656 - acc: 0.7044\n",
      "Epoch 84/150\n",
      "768/768 [==============================] - 0s 57us/sample - loss: 0.5587 - acc: 0.7161\n",
      "Epoch 85/150\n",
      "768/768 [==============================] - 0s 56us/sample - loss: 0.5559 - acc: 0.7253\n",
      "Epoch 86/150\n",
      "768/768 [==============================] - 0s 62us/sample - loss: 0.5709 - acc: 0.7070\n",
      "Epoch 87/150\n",
      "768/768 [==============================] - 0s 63us/sample - loss: 0.5562 - acc: 0.7279\n",
      "Epoch 88/150\n",
      "768/768 [==============================] - 0s 57us/sample - loss: 0.5534 - acc: 0.7148\n",
      "Epoch 89/150\n",
      "768/768 [==============================] - 0s 58us/sample - loss: 0.5615 - acc: 0.7109\n",
      "Epoch 90/150\n",
      "768/768 [==============================] - 0s 73us/sample - loss: 0.5540 - acc: 0.7174\n",
      "Epoch 91/150\n",
      "768/768 [==============================] - 0s 59us/sample - loss: 0.5547 - acc: 0.7096\n",
      "Epoch 92/150\n",
      "768/768 [==============================] - 0s 54us/sample - loss: 0.5547 - acc: 0.7109\n",
      "Epoch 93/150\n",
      "768/768 [==============================] - 0s 62us/sample - loss: 0.5494 - acc: 0.7318\n",
      "Epoch 94/150\n",
      "768/768 [==============================] - 0s 56us/sample - loss: 0.5509 - acc: 0.7279\n",
      "Epoch 95/150\n",
      "768/768 [==============================] - 0s 57us/sample - loss: 0.5482 - acc: 0.7292\n",
      "Epoch 96/150\n",
      "768/768 [==============================] - 0s 55us/sample - loss: 0.5531 - acc: 0.7266\n",
      "Epoch 97/150\n",
      "768/768 [==============================] - 0s 48us/sample - loss: 0.5444 - acc: 0.7174\n",
      "Epoch 98/150\n",
      "768/768 [==============================] - 0s 58us/sample - loss: 0.5587 - acc: 0.7031\n",
      "Epoch 99/150\n",
      "768/768 [==============================] - 0s 55us/sample - loss: 0.5480 - acc: 0.7201\n",
      "Epoch 100/150\n",
      "768/768 [==============================] - 0s 60us/sample - loss: 0.5479 - acc: 0.7292\n",
      "Epoch 101/150\n",
      "768/768 [==============================] - 0s 58us/sample - loss: 0.5481 - acc: 0.7331\n",
      "Epoch 102/150\n",
      "768/768 [==============================] - 0s 54us/sample - loss: 0.5508 - acc: 0.7227\n",
      "Epoch 103/150\n",
      "768/768 [==============================] - 0s 62us/sample - loss: 0.5501 - acc: 0.7174\n",
      "Epoch 104/150\n",
      "768/768 [==============================] - 0s 77us/sample - loss: 0.5551 - acc: 0.7227\n",
      "Epoch 105/150\n",
      "768/768 [==============================] - 0s 61us/sample - loss: 0.5467 - acc: 0.7344\n",
      "Epoch 106/150\n",
      "768/768 [==============================] - 0s 56us/sample - loss: 0.5509 - acc: 0.7188\n",
      "Epoch 107/150\n",
      "768/768 [==============================] - 0s 59us/sample - loss: 0.5411 - acc: 0.7318\n",
      "Epoch 108/150\n",
      "768/768 [==============================] - 0s 54us/sample - loss: 0.5389 - acc: 0.7422\n",
      "Epoch 109/150\n",
      "768/768 [==============================] - 0s 61us/sample - loss: 0.5398 - acc: 0.7383\n",
      "Epoch 110/150\n",
      "768/768 [==============================] - 0s 70us/sample - loss: 0.5370 - acc: 0.7461\n",
      "Epoch 111/150\n",
      "768/768 [==============================] - 0s 54us/sample - loss: 0.5390 - acc: 0.7357\n",
      "Epoch 112/150\n",
      "768/768 [==============================] - 0s 53us/sample - loss: 0.5400 - acc: 0.7383\n",
      "Epoch 113/150\n",
      "768/768 [==============================] - 0s 57us/sample - loss: 0.5368 - acc: 0.7357\n",
      "Epoch 114/150\n",
      "768/768 [==============================] - 0s 58us/sample - loss: 0.5379 - acc: 0.7396\n",
      "Epoch 115/150\n",
      "768/768 [==============================] - 0s 63us/sample - loss: 0.5431 - acc: 0.7318\n",
      "Epoch 116/150\n",
      "768/768 [==============================] - 0s 56us/sample - loss: 0.5401 - acc: 0.7331\n",
      "Epoch 117/150\n",
      "768/768 [==============================] - 0s 56us/sample - loss: 0.5368 - acc: 0.7435\n",
      "Epoch 118/150\n",
      "768/768 [==============================] - 0s 58us/sample - loss: 0.5303 - acc: 0.7513\n",
      "Epoch 119/150\n",
      "768/768 [==============================] - 0s 56us/sample - loss: 0.5387 - acc: 0.7409\n",
      "Epoch 120/150\n",
      "768/768 [==============================] - 0s 54us/sample - loss: 0.5376 - acc: 0.7305\n",
      "Epoch 121/150\n",
      "768/768 [==============================] - 0s 54us/sample - loss: 0.5297 - acc: 0.7422\n",
      "Epoch 122/150\n",
      "768/768 [==============================] - 0s 56us/sample - loss: 0.5313 - acc: 0.7448\n",
      "Epoch 123/150\n",
      "768/768 [==============================] - 0s 63us/sample - loss: 0.5357 - acc: 0.7435\n",
      "Epoch 124/150\n",
      "768/768 [==============================] - 0s 58us/sample - loss: 0.5362 - acc: 0.7331\n",
      "Epoch 125/150\n",
      "768/768 [==============================] - 0s 59us/sample - loss: 0.5407 - acc: 0.7227\n",
      "Epoch 126/150\n",
      "768/768 [==============================] - 0s 60us/sample - loss: 0.5423 - acc: 0.7266\n",
      "Epoch 127/150\n",
      "768/768 [==============================] - 0s 56us/sample - loss: 0.5365 - acc: 0.7487\n",
      "Epoch 128/150\n",
      "768/768 [==============================] - 0s 55us/sample - loss: 0.5307 - acc: 0.7331\n",
      "Epoch 129/150\n",
      "768/768 [==============================] - 0s 56us/sample - loss: 0.5242 - acc: 0.7539\n",
      "Epoch 130/150\n",
      "768/768 [==============================] - 0s 68us/sample - loss: 0.5450 - acc: 0.7292\n",
      "Epoch 131/150\n",
      "768/768 [==============================] - 0s 55us/sample - loss: 0.5323 - acc: 0.7422\n",
      "Epoch 132/150\n",
      "768/768 [==============================] - 0s 55us/sample - loss: 0.5280 - acc: 0.7461\n",
      "Epoch 133/150\n",
      "768/768 [==============================] - 0s 64us/sample - loss: 0.5264 - acc: 0.7370\n",
      "Epoch 134/150\n",
      "768/768 [==============================] - 0s 55us/sample - loss: 0.5275 - acc: 0.7435\n",
      "Epoch 135/150\n",
      "768/768 [==============================] - 0s 58us/sample - loss: 0.5294 - acc: 0.7448\n",
      "Epoch 136/150\n",
      "768/768 [==============================] - 0s 52us/sample - loss: 0.5234 - acc: 0.7552\n",
      "Epoch 137/150\n",
      "768/768 [==============================] - 0s 59us/sample - loss: 0.5248 - acc: 0.7383\n",
      "Epoch 138/150\n",
      "768/768 [==============================] - 0s 61us/sample - loss: 0.5271 - acc: 0.7448\n",
      "Epoch 139/150\n",
      "768/768 [==============================] - 0s 54us/sample - loss: 0.5244 - acc: 0.7487\n",
      "Epoch 140/150\n",
      "768/768 [==============================] - 0s 61us/sample - loss: 0.5237 - acc: 0.7383\n",
      "Epoch 141/150\n",
      "768/768 [==============================] - 0s 54us/sample - loss: 0.5180 - acc: 0.7565\n",
      "Epoch 142/150\n",
      "768/768 [==============================] - 0s 58us/sample - loss: 0.5232 - acc: 0.7383\n",
      "Epoch 143/150\n",
      "768/768 [==============================] - 0s 56us/sample - loss: 0.5196 - acc: 0.7487\n",
      "Epoch 144/150\n",
      "768/768 [==============================] - 0s 60us/sample - loss: 0.5190 - acc: 0.7526\n",
      "Epoch 145/150\n",
      "768/768 [==============================] - 0s 52us/sample - loss: 0.5231 - acc: 0.7526\n",
      "Epoch 146/150\n",
      "768/768 [==============================] - 0s 56us/sample - loss: 0.5317 - acc: 0.7409\n",
      "Epoch 147/150\n",
      "768/768 [==============================] - 0s 53us/sample - loss: 0.5195 - acc: 0.7487\n",
      "Epoch 148/150\n",
      "768/768 [==============================] - 0s 51us/sample - loss: 0.5198 - acc: 0.7474\n",
      "Epoch 149/150\n",
      "768/768 [==============================] - 0s 53us/sample - loss: 0.5176 - acc: 0.7526\n",
      "Epoch 150/150\n",
      "768/768 [==============================] - 0s 55us/sample - loss: 0.5172 - acc: 0.7591\n"
     ]
    },
    {
     "data": {
      "text/plain": [
       "<tensorflow.python.keras.callbacks.History at 0x7feda48a3cf8>"
      ]
     },
     "execution_count": 11,
     "metadata": {
      "tags": []
     },
     "output_type": "execute_result"
    }
   ],
   "source": [
    "# fit the keras model on the dataset\n",
    "model.fit(X, y, epochs=150, batch_size=64)"
   ]
  },
  {
   "cell_type": "markdown",
   "metadata": {
    "colab_type": "text",
    "id": "UEpJzKe0J1OL"
   },
   "source": [
    "### Evaluate Model"
   ]
  },
  {
   "cell_type": "code",
   "execution_count": 12,
   "metadata": {
    "colab": {
     "base_uri": "https://localhost:8080/",
     "height": 35
    },
    "colab_type": "code",
    "executionInfo": {
     "elapsed": 1098,
     "status": "ok",
     "timestamp": 1568236079630,
     "user": {
      "displayName": "Wenjing Liu",
      "photoUrl": "https://lh3.googleusercontent.com/a-/AAuE7mA15lvs7VR-FATIP9sDKyrrrxUQZ3P-Lq8wQnof=s64",
      "userId": "16067106733028664591"
     },
     "user_tz": 300
    },
    "id": "V5MGzgLKJ1OM",
    "outputId": "b79919e7-56a2-4aba-e06a-a4688be59bb3"
   },
   "outputs": [
    {
     "data": {
      "text/plain": [
       "0.3489583333333333"
      ]
     },
     "execution_count": 12,
     "metadata": {
      "tags": []
     },
     "output_type": "execute_result"
    }
   ],
   "source": [
    "sum(y) / len(y) # Predicting never diabetes is 65%"
   ]
  },
  {
   "cell_type": "code",
   "execution_count": 31,
   "metadata": {
    "colab": {
     "base_uri": "https://localhost:8080/",
     "height": 52
    },
    "colab_type": "code",
    "executionInfo": {
     "elapsed": 5323,
     "status": "ok",
     "timestamp": 1568236459401,
     "user": {
      "displayName": "Wenjing Liu",
      "photoUrl": "https://lh3.googleusercontent.com/a-/AAuE7mA15lvs7VR-FATIP9sDKyrrrxUQZ3P-Lq8wQnof=s64",
      "userId": "16067106733028664591"
     },
     "user_tz": 300
    },
    "id": "jo1JUwfmLLrL",
    "outputId": "f64ae17f-9b5e-465a-f077-18a69dff388e"
   },
   "outputs": [
    {
     "name": "stdout",
     "output_type": "stream",
     "text": [
      "768/768 [==============================] - 0s 62us/sample - loss: 0.5169 - acc: 0.7539\n",
      "Accuracy: 75.39\n"
     ]
    }
   ],
   "source": [
    "# evaluate the keras model\n",
    "_, accuracy = model.evaluate(X, y)\n",
    "print('Accuracy: %.2f' % (accuracy*100))"
   ]
  },
  {
   "cell_type": "code",
   "execution_count": 33,
   "metadata": {
    "colab": {
     "base_uri": "https://localhost:8080/",
     "height": 35
    },
    "colab_type": "code",
    "executionInfo": {
     "elapsed": 808,
     "status": "ok",
     "timestamp": 1568236573284,
     "user": {
      "displayName": "Wenjing Liu",
      "photoUrl": "https://lh3.googleusercontent.com/a-/AAuE7mA15lvs7VR-FATIP9sDKyrrrxUQZ3P-Lq8wQnof=s64",
      "userId": "16067106733028664591"
     },
     "user_tz": 300
    },
    "id": "dk9WWlbHJ1OW",
    "outputId": "e819b3a0-d0bc-461c-9148-b2bd4fff58ed"
   },
   "outputs": [
    {
     "data": {
      "text/plain": [
       "0.75390625"
      ]
     },
     "execution_count": 33,
     "metadata": {
      "tags": []
     },
     "output_type": "execute_result"
    }
   ],
   "source": [
    "# y_hat = model.predict(X)\n",
    "## make class predictions with the mode\n",
    "y_hat = model.predict_classes(X)\n",
    "y_hat = y_hat.reshape(-1)\n",
    "sum(y_hat==y) / len(y)"
   ]
  },
  {
   "cell_type": "markdown",
   "metadata": {
    "colab_type": "text",
    "id": "AIJoRBxHy27n"
   },
   "source": [
    "# Keras MLP Model in 4 lines of code:"
   ]
  },
  {
   "cell_type": "code",
   "execution_count": 34,
   "metadata": {
    "colab": {
     "base_uri": "https://localhost:8080/",
     "height": 1000
    },
    "colab_type": "code",
    "executionInfo": {
     "elapsed": 12363,
     "status": "ok",
     "timestamp": 1568239322331,
     "user": {
      "displayName": "Wenjing Liu",
      "photoUrl": "https://lh3.googleusercontent.com/a-/AAuE7mA15lvs7VR-FATIP9sDKyrrrxUQZ3P-Lq8wQnof=s64",
      "userId": "16067106733028664591"
     },
     "user_tz": 300
    },
    "id": "TQxyONqKvFxB",
    "outputId": "79defe0c-7aa3-4e0d-ccb8-d51bf04ebdef"
   },
   "outputs": [
    {
     "name": "stdout",
     "output_type": "stream",
     "text": [
      "Epoch 1/150\n",
      "768/768 [==============================] - 0s 185us/sample - loss: 119.9304 - acc: 0.3490\n",
      "Epoch 2/150\n",
      "768/768 [==============================] - 0s 102us/sample - loss: 114.8367 - acc: 0.3490\n",
      "Epoch 3/150\n",
      "768/768 [==============================] - 0s 95us/sample - loss: 109.6833 - acc: 0.3490\n",
      "Epoch 4/150\n",
      "768/768 [==============================] - 0s 98us/sample - loss: 104.5752 - acc: 0.3490\n",
      "Epoch 5/150\n",
      "768/768 [==============================] - 0s 99us/sample - loss: 99.4865 - acc: 0.3490\n",
      "Epoch 6/150\n",
      "768/768 [==============================] - 0s 96us/sample - loss: 94.3359 - acc: 0.3490\n",
      "Epoch 7/150\n",
      "768/768 [==============================] - 0s 101us/sample - loss: 89.2161 - acc: 0.3490\n",
      "Epoch 8/150\n",
      "768/768 [==============================] - 0s 101us/sample - loss: 84.1622 - acc: 0.3490\n",
      "Epoch 9/150\n",
      "768/768 [==============================] - 0s 103us/sample - loss: 79.0572 - acc: 0.3490\n",
      "Epoch 10/150\n",
      "768/768 [==============================] - 0s 105us/sample - loss: 73.9786 - acc: 0.3490\n",
      "Epoch 11/150\n",
      "768/768 [==============================] - 0s 100us/sample - loss: 68.8077 - acc: 0.3490\n",
      "Epoch 12/150\n",
      "768/768 [==============================] - 0s 102us/sample - loss: 63.7650 - acc: 0.3490\n",
      "Epoch 13/150\n",
      "768/768 [==============================] - 0s 100us/sample - loss: 58.6382 - acc: 0.3490\n",
      "Epoch 14/150\n",
      "768/768 [==============================] - 0s 111us/sample - loss: 53.5863 - acc: 0.3490\n",
      "Epoch 15/150\n",
      "768/768 [==============================] - 0s 105us/sample - loss: 48.4357 - acc: 0.3490\n",
      "Epoch 16/150\n",
      "768/768 [==============================] - 0s 103us/sample - loss: 43.3784 - acc: 0.3490\n",
      "Epoch 17/150\n",
      "768/768 [==============================] - 0s 96us/sample - loss: 38.2738 - acc: 0.3490\n",
      "Epoch 18/150\n",
      "768/768 [==============================] - 0s 101us/sample - loss: 33.1420 - acc: 0.3490\n",
      "Epoch 19/150\n",
      "768/768 [==============================] - 0s 100us/sample - loss: 28.0771 - acc: 0.3477\n",
      "Epoch 20/150\n",
      "768/768 [==============================] - 0s 96us/sample - loss: 23.0235 - acc: 0.3490\n",
      "Epoch 21/150\n",
      "768/768 [==============================] - 0s 95us/sample - loss: 17.9106 - acc: 0.3503\n",
      "Epoch 22/150\n",
      "768/768 [==============================] - 0s 93us/sample - loss: 12.8931 - acc: 0.3490\n",
      "Epoch 23/150\n",
      "768/768 [==============================] - 0s 94us/sample - loss: 7.9969 - acc: 0.3659\n",
      "Epoch 24/150\n",
      "768/768 [==============================] - 0s 95us/sample - loss: 4.3124 - acc: 0.4544\n",
      "Epoch 25/150\n",
      "768/768 [==============================] - 0s 94us/sample - loss: 3.0383 - acc: 0.5169\n",
      "Epoch 26/150\n",
      "768/768 [==============================] - 0s 110us/sample - loss: 2.7699 - acc: 0.5391\n",
      "Epoch 27/150\n",
      "768/768 [==============================] - 0s 95us/sample - loss: 2.6266 - acc: 0.5534\n",
      "Epoch 28/150\n",
      "768/768 [==============================] - 0s 92us/sample - loss: 2.5310 - acc: 0.5612\n",
      "Epoch 29/150\n",
      "768/768 [==============================] - 0s 93us/sample - loss: 2.4616 - acc: 0.5638\n",
      "Epoch 30/150\n",
      "768/768 [==============================] - 0s 90us/sample - loss: 2.4100 - acc: 0.5664\n",
      "Epoch 31/150\n",
      "768/768 [==============================] - 0s 97us/sample - loss: 2.3729 - acc: 0.5781\n",
      "Epoch 32/150\n",
      "768/768 [==============================] - 0s 89us/sample - loss: 2.3418 - acc: 0.5781\n",
      "Epoch 33/150\n",
      "768/768 [==============================] - 0s 92us/sample - loss: 2.3154 - acc: 0.5820\n",
      "Epoch 34/150\n",
      "768/768 [==============================] - 0s 90us/sample - loss: 2.2914 - acc: 0.5820\n",
      "Epoch 35/150\n",
      "768/768 [==============================] - 0s 97us/sample - loss: 2.2696 - acc: 0.5846\n",
      "Epoch 36/150\n",
      "768/768 [==============================] - 0s 106us/sample - loss: 2.2448 - acc: 0.5846\n",
      "Epoch 37/150\n",
      "768/768 [==============================] - 0s 87us/sample - loss: 2.2243 - acc: 0.5820\n",
      "Epoch 38/150\n",
      "768/768 [==============================] - 0s 98us/sample - loss: 2.2047 - acc: 0.5846\n",
      "Epoch 39/150\n",
      "768/768 [==============================] - 0s 102us/sample - loss: 2.1817 - acc: 0.5859\n",
      "Epoch 40/150\n",
      "768/768 [==============================] - 0s 92us/sample - loss: 2.1584 - acc: 0.5885\n",
      "Epoch 41/150\n",
      "768/768 [==============================] - 0s 85us/sample - loss: 2.1385 - acc: 0.5755\n",
      "Epoch 42/150\n",
      "768/768 [==============================] - 0s 95us/sample - loss: 2.1148 - acc: 0.5781\n",
      "Epoch 43/150\n",
      "768/768 [==============================] - 0s 88us/sample - loss: 2.0894 - acc: 0.5820\n",
      "Epoch 44/150\n",
      "768/768 [==============================] - 0s 90us/sample - loss: 2.0696 - acc: 0.5924\n",
      "Epoch 45/150\n",
      "768/768 [==============================] - 0s 90us/sample - loss: 2.0451 - acc: 0.5833\n",
      "Epoch 46/150\n",
      "768/768 [==============================] - 0s 96us/sample - loss: 2.0295 - acc: 0.5729\n",
      "Epoch 47/150\n",
      "768/768 [==============================] - 0s 87us/sample - loss: 2.0059 - acc: 0.5859\n",
      "Epoch 48/150\n",
      "768/768 [==============================] - 0s 97us/sample - loss: 1.9837 - acc: 0.5794\n",
      "Epoch 49/150\n",
      "768/768 [==============================] - 0s 107us/sample - loss: 1.9659 - acc: 0.5859\n",
      "Epoch 50/150\n",
      "768/768 [==============================] - 0s 97us/sample - loss: 1.9360 - acc: 0.5833\n",
      "Epoch 51/150\n",
      "768/768 [==============================] - 0s 91us/sample - loss: 1.9135 - acc: 0.5872\n",
      "Epoch 52/150\n",
      "768/768 [==============================] - 0s 90us/sample - loss: 1.8955 - acc: 0.5924\n",
      "Epoch 53/150\n",
      "768/768 [==============================] - 0s 107us/sample - loss: 1.8801 - acc: 0.5872\n",
      "Epoch 54/150\n",
      "768/768 [==============================] - 0s 92us/sample - loss: 1.8558 - acc: 0.5846\n",
      "Epoch 55/150\n",
      "768/768 [==============================] - 0s 92us/sample - loss: 1.8290 - acc: 0.5898\n",
      "Epoch 56/150\n",
      "768/768 [==============================] - 0s 95us/sample - loss: 1.8133 - acc: 0.5872\n",
      "Epoch 57/150\n",
      "768/768 [==============================] - 0s 92us/sample - loss: 1.7896 - acc: 0.5951\n",
      "Epoch 58/150\n",
      "768/768 [==============================] - 0s 91us/sample - loss: 1.7672 - acc: 0.5911\n",
      "Epoch 59/150\n",
      "768/768 [==============================] - 0s 94us/sample - loss: 1.7478 - acc: 0.5977\n",
      "Epoch 60/150\n",
      "768/768 [==============================] - 0s 98us/sample - loss: 1.7279 - acc: 0.5951\n",
      "Epoch 61/150\n",
      "768/768 [==============================] - 0s 102us/sample - loss: 1.7075 - acc: 0.5964\n",
      "Epoch 62/150\n",
      "768/768 [==============================] - 0s 88us/sample - loss: 1.6885 - acc: 0.5938\n",
      "Epoch 63/150\n",
      "768/768 [==============================] - 0s 95us/sample - loss: 1.6695 - acc: 0.5924\n",
      "Epoch 64/150\n",
      "768/768 [==============================] - 0s 95us/sample - loss: 1.6512 - acc: 0.5938\n",
      "Epoch 65/150\n",
      "768/768 [==============================] - 0s 87us/sample - loss: 1.6354 - acc: 0.5977\n",
      "Epoch 66/150\n",
      "768/768 [==============================] - 0s 109us/sample - loss: 1.6205 - acc: 0.5898\n",
      "Epoch 67/150\n",
      "768/768 [==============================] - 0s 93us/sample - loss: 1.5959 - acc: 0.6042\n",
      "Epoch 68/150\n",
      "768/768 [==============================] - 0s 101us/sample - loss: 1.5788 - acc: 0.5951\n",
      "Epoch 69/150\n",
      "768/768 [==============================] - 0s 110us/sample - loss: 1.5560 - acc: 0.6029\n",
      "Epoch 70/150\n",
      "768/768 [==============================] - 0s 101us/sample - loss: 1.5399 - acc: 0.5990\n",
      "Epoch 71/150\n",
      "768/768 [==============================] - 0s 92us/sample - loss: 1.5231 - acc: 0.6003\n",
      "Epoch 72/150\n",
      "768/768 [==============================] - 0s 95us/sample - loss: 1.5037 - acc: 0.6003\n",
      "Epoch 73/150\n",
      "768/768 [==============================] - 0s 87us/sample - loss: 1.4889 - acc: 0.5951\n",
      "Epoch 74/150\n",
      "768/768 [==============================] - 0s 95us/sample - loss: 1.4709 - acc: 0.5990\n",
      "Epoch 75/150\n",
      "768/768 [==============================] - 0s 97us/sample - loss: 1.4506 - acc: 0.5990\n",
      "Epoch 76/150\n",
      "768/768 [==============================] - 0s 94us/sample - loss: 1.4337 - acc: 0.5964\n",
      "Epoch 77/150\n",
      "768/768 [==============================] - 0s 94us/sample - loss: 1.4242 - acc: 0.5977\n",
      "Epoch 78/150\n",
      "768/768 [==============================] - 0s 93us/sample - loss: 1.4073 - acc: 0.5977\n",
      "Epoch 79/150\n",
      "768/768 [==============================] - 0s 104us/sample - loss: 1.3858 - acc: 0.6016\n",
      "Epoch 80/150\n",
      "768/768 [==============================] - 0s 99us/sample - loss: 1.3681 - acc: 0.6003\n",
      "Epoch 81/150\n",
      "768/768 [==============================] - 0s 99us/sample - loss: 1.3498 - acc: 0.6003\n",
      "Epoch 82/150\n",
      "768/768 [==============================] - 0s 93us/sample - loss: 1.3407 - acc: 0.5911\n",
      "Epoch 83/150\n",
      "768/768 [==============================] - 0s 90us/sample - loss: 1.3275 - acc: 0.5990\n",
      "Epoch 84/150\n",
      "768/768 [==============================] - 0s 92us/sample - loss: 1.3039 - acc: 0.6055\n",
      "Epoch 85/150\n",
      "768/768 [==============================] - 0s 96us/sample - loss: 1.2869 - acc: 0.6042\n",
      "Epoch 86/150\n",
      "768/768 [==============================] - 0s 91us/sample - loss: 1.2720 - acc: 0.5951\n",
      "Epoch 87/150\n",
      "768/768 [==============================] - 0s 87us/sample - loss: 1.2628 - acc: 0.6055\n",
      "Epoch 88/150\n",
      "768/768 [==============================] - 0s 87us/sample - loss: 1.2367 - acc: 0.6068\n",
      "Epoch 89/150\n",
      "768/768 [==============================] - 0s 85us/sample - loss: 1.2240 - acc: 0.6016\n",
      "Epoch 90/150\n",
      "768/768 [==============================] - 0s 91us/sample - loss: 1.2055 - acc: 0.6094\n",
      "Epoch 91/150\n",
      "768/768 [==============================] - 0s 103us/sample - loss: 1.1975 - acc: 0.5977\n",
      "Epoch 92/150\n",
      "768/768 [==============================] - 0s 107us/sample - loss: 1.1820 - acc: 0.6094\n",
      "Epoch 93/150\n",
      "768/768 [==============================] - 0s 96us/sample - loss: 1.1630 - acc: 0.5990\n",
      "Epoch 94/150\n",
      "768/768 [==============================] - 0s 90us/sample - loss: 1.1458 - acc: 0.6016\n",
      "Epoch 95/150\n",
      "768/768 [==============================] - 0s 89us/sample - loss: 1.1267 - acc: 0.6107\n",
      "Epoch 96/150\n",
      "768/768 [==============================] - 0s 94us/sample - loss: 1.1133 - acc: 0.6042\n",
      "Epoch 97/150\n",
      "768/768 [==============================] - 0s 90us/sample - loss: 1.0967 - acc: 0.6107\n",
      "Epoch 98/150\n",
      "768/768 [==============================] - 0s 88us/sample - loss: 1.0868 - acc: 0.6094\n",
      "Epoch 99/150\n",
      "768/768 [==============================] - 0s 94us/sample - loss: 1.0660 - acc: 0.6107\n",
      "Epoch 100/150\n",
      "768/768 [==============================] - 0s 90us/sample - loss: 1.0542 - acc: 0.6146\n",
      "Epoch 101/150\n",
      "768/768 [==============================] - 0s 92us/sample - loss: 1.0393 - acc: 0.6107\n",
      "Epoch 102/150\n",
      "768/768 [==============================] - 0s 100us/sample - loss: 1.0242 - acc: 0.6120\n",
      "Epoch 103/150\n",
      "768/768 [==============================] - 0s 88us/sample - loss: 1.0080 - acc: 0.6133\n",
      "Epoch 104/150\n",
      "768/768 [==============================] - 0s 89us/sample - loss: 0.9915 - acc: 0.6211\n",
      "Epoch 105/150\n",
      "768/768 [==============================] - 0s 93us/sample - loss: 0.9831 - acc: 0.6133\n",
      "Epoch 106/150\n",
      "768/768 [==============================] - 0s 108us/sample - loss: 0.9641 - acc: 0.6146\n",
      "Epoch 107/150\n",
      "768/768 [==============================] - 0s 95us/sample - loss: 0.9449 - acc: 0.6159\n",
      "Epoch 108/150\n",
      "768/768 [==============================] - 0s 95us/sample - loss: 0.9387 - acc: 0.6250\n",
      "Epoch 109/150\n",
      "768/768 [==============================] - 0s 94us/sample - loss: 0.9203 - acc: 0.6211\n",
      "Epoch 110/150\n",
      "768/768 [==============================] - 0s 85us/sample - loss: 0.9144 - acc: 0.6211\n",
      "Epoch 111/150\n",
      "768/768 [==============================] - 0s 87us/sample - loss: 0.8922 - acc: 0.6263\n",
      "Epoch 112/150\n",
      "768/768 [==============================] - 0s 89us/sample - loss: 0.8857 - acc: 0.6276\n",
      "Epoch 113/150\n",
      "768/768 [==============================] - 0s 94us/sample - loss: 0.8739 - acc: 0.6276\n",
      "Epoch 114/150\n",
      "768/768 [==============================] - 0s 91us/sample - loss: 0.8594 - acc: 0.6237\n",
      "Epoch 115/150\n",
      "768/768 [==============================] - 0s 85us/sample - loss: 0.8472 - acc: 0.6198\n",
      "Epoch 116/150\n",
      "768/768 [==============================] - 0s 95us/sample - loss: 0.8360 - acc: 0.6471\n",
      "Epoch 117/150\n",
      "768/768 [==============================] - 0s 99us/sample - loss: 0.8209 - acc: 0.6393\n",
      "Epoch 118/150\n",
      "768/768 [==============================] - 0s 91us/sample - loss: 0.8062 - acc: 0.6341\n",
      "Epoch 119/150\n",
      "768/768 [==============================] - 0s 106us/sample - loss: 0.7971 - acc: 0.6445\n",
      "Epoch 120/150\n",
      "768/768 [==============================] - 0s 88us/sample - loss: 0.7879 - acc: 0.6341\n",
      "Epoch 121/150\n",
      "768/768 [==============================] - 0s 87us/sample - loss: 0.7748 - acc: 0.6380\n",
      "Epoch 122/150\n",
      "768/768 [==============================] - 0s 88us/sample - loss: 0.7603 - acc: 0.6406\n",
      "Epoch 123/150\n",
      "768/768 [==============================] - 0s 99us/sample - loss: 0.7543 - acc: 0.6419\n",
      "Epoch 124/150\n",
      "768/768 [==============================] - 0s 89us/sample - loss: 0.7478 - acc: 0.6510\n",
      "Epoch 125/150\n",
      "768/768 [==============================] - 0s 88us/sample - loss: 0.7295 - acc: 0.6549\n",
      "Epoch 126/150\n",
      "768/768 [==============================] - 0s 90us/sample - loss: 0.7266 - acc: 0.6589\n",
      "Epoch 127/150\n",
      "768/768 [==============================] - 0s 93us/sample - loss: 0.7161 - acc: 0.6549\n",
      "Epoch 128/150\n",
      "768/768 [==============================] - 0s 95us/sample - loss: 0.7051 - acc: 0.6602\n",
      "Epoch 129/150\n",
      "768/768 [==============================] - 0s 88us/sample - loss: 0.6958 - acc: 0.6549\n",
      "Epoch 130/150\n",
      "768/768 [==============================] - 0s 99us/sample - loss: 0.6853 - acc: 0.6562\n",
      "Epoch 131/150\n",
      "768/768 [==============================] - 0s 89us/sample - loss: 0.6828 - acc: 0.6719\n",
      "Epoch 132/150\n",
      "768/768 [==============================] - 0s 87us/sample - loss: 0.6808 - acc: 0.6576\n",
      "Epoch 133/150\n",
      "768/768 [==============================] - 0s 113us/sample - loss: 0.6691 - acc: 0.6706\n",
      "Epoch 134/150\n",
      "768/768 [==============================] - 0s 93us/sample - loss: 0.6653 - acc: 0.6745\n",
      "Epoch 135/150\n",
      "768/768 [==============================] - 0s 95us/sample - loss: 0.6554 - acc: 0.6875\n",
      "Epoch 136/150\n",
      "768/768 [==============================] - 0s 93us/sample - loss: 0.6493 - acc: 0.6719\n",
      "Epoch 137/150\n",
      "768/768 [==============================] - 0s 89us/sample - loss: 0.6439 - acc: 0.6706\n",
      "Epoch 138/150\n",
      "768/768 [==============================] - 0s 94us/sample - loss: 0.6367 - acc: 0.6875\n",
      "Epoch 139/150\n",
      "768/768 [==============================] - 0s 90us/sample - loss: 0.6311 - acc: 0.6784\n",
      "Epoch 140/150\n",
      "768/768 [==============================] - 0s 90us/sample - loss: 0.6282 - acc: 0.6823\n",
      "Epoch 141/150\n",
      "768/768 [==============================] - 0s 97us/sample - loss: 0.6304 - acc: 0.6901\n",
      "Epoch 142/150\n",
      "768/768 [==============================] - 0s 89us/sample - loss: 0.6194 - acc: 0.6836\n",
      "Epoch 143/150\n",
      "768/768 [==============================] - 0s 91us/sample - loss: 0.6168 - acc: 0.6901\n",
      "Epoch 144/150\n",
      "768/768 [==============================] - 0s 97us/sample - loss: 0.6129 - acc: 0.6992\n",
      "Epoch 145/150\n",
      "768/768 [==============================] - 0s 90us/sample - loss: 0.6123 - acc: 0.6888\n",
      "Epoch 146/150\n",
      "768/768 [==============================] - 0s 105us/sample - loss: 0.6068 - acc: 0.6888\n",
      "Epoch 147/150\n",
      "768/768 [==============================] - 0s 92us/sample - loss: 0.6032 - acc: 0.6927\n",
      "Epoch 148/150\n",
      "768/768 [==============================] - 0s 88us/sample - loss: 0.6028 - acc: 0.6901\n",
      "Epoch 149/150\n",
      "768/768 [==============================] - 0s 96us/sample - loss: 0.6022 - acc: 0.7005\n",
      "Epoch 150/150\n",
      "768/768 [==============================] - 0s 97us/sample - loss: 0.5997 - acc: 0.6966\n"
     ]
    },
    {
     "data": {
      "text/plain": [
       "<tensorflow.python.keras.callbacks.History at 0x7fed9038e278>"
      ]
     },
     "execution_count": 34,
     "metadata": {
      "tags": []
     },
     "output_type": "execute_result"
    }
   ],
   "source": [
    "model = Sequential()\n",
    "model.add(Dense(1, input_dim=8, activation=\"sigmoid\"))\n",
    "model.compile(loss='binary_crossentropy', \n",
    "              optimizer='adam', \n",
    "              metrics=['accuracy'])\n",
    "model.fit(X, y, epochs=150)"
   ]
  },
  {
   "cell_type": "code",
   "execution_count": 36,
   "metadata": {
    "colab": {
     "base_uri": "https://localhost:8080/",
     "height": 52
    },
    "colab_type": "code",
    "executionInfo": {
     "elapsed": 812,
     "status": "ok",
     "timestamp": 1568240658748,
     "user": {
      "displayName": "Wenjing Liu",
      "photoUrl": "https://lh3.googleusercontent.com/a-/AAuE7mA15lvs7VR-FATIP9sDKyrrrxUQZ3P-Lq8wQnof=s64",
      "userId": "16067106733028664591"
     },
     "user_tz": 300
    },
    "id": "Z1wfKUxszPKa",
    "outputId": "27f90b59-eedb-4389-f4e6-e5d6c3084d84"
   },
   "outputs": [
    {
     "name": "stdout",
     "output_type": "stream",
     "text": [
      "768/768 [==============================] - 0s 86us/sample - loss: 0.5960 - acc: 0.6953\n",
      "acc: 69.53125\n"
     ]
    }
   ],
   "source": [
    "# evaluate the model\n",
    "scores = model.evaluate(X, y)\n",
    "print(f\"{model.metrics_names[1]}: {scores[1]*100}\")"
   ]
  },
  {
   "cell_type": "markdown",
   "metadata": {
    "colab_type": "text",
    "id": "zHYB7k9q3O8T"
   },
   "source": [
    "### Why are we getting such different results if we re-run the model?\n",
    "\n",
    "<https://machinelearningmastery.com/randomness-in-machine-learning/>"
   ]
  },
  {
   "cell_type": "markdown",
   "metadata": {
    "colab_type": "text",
    "id": "ueDVpctAzvy8"
   },
   "source": [
    "# What architecture should we try?"
   ]
  },
  {
   "cell_type": "code",
   "execution_count": 204,
   "metadata": {
    "colab": {
     "base_uri": "https://localhost:8080/",
     "height": 299
    },
    "colab_type": "code",
    "executionInfo": {
     "elapsed": 843,
     "status": "ok",
     "timestamp": 1568256065655,
     "user": {
      "displayName": "Wenjing Liu",
      "photoUrl": "https://lh3.googleusercontent.com/a-/AAuE7mA15lvs7VR-FATIP9sDKyrrrxUQZ3P-Lq8wQnof=s64",
      "userId": "16067106733028664591"
     },
     "user_tz": 300
    },
    "id": "6W2Sc7-LzQo_",
    "outputId": "6d1f4458-8f72-47cb-8d1c-090809942ded"
   },
   "outputs": [
    {
     "name": "stdout",
     "output_type": "stream",
     "text": [
      "Model: \"sequential_30\"\n",
      "_________________________________________________________________\n",
      "Layer (type)                 Output Shape              Param #   \n",
      "=================================================================\n",
      "dense_84 (Dense)             (None, 1024)              9216      \n",
      "_________________________________________________________________\n",
      "dense_85 (Dense)             (None, 128)               131200    \n",
      "_________________________________________________________________\n",
      "dropout_8 (Dropout)          (None, 128)               0         \n",
      "_________________________________________________________________\n",
      "dense_86 (Dense)             (None, 1)                 129       \n",
      "=================================================================\n",
      "Total params: 140,545\n",
      "Trainable params: 140,545\n",
      "Non-trainable params: 0\n",
      "_________________________________________________________________\n"
     ]
    }
   ],
   "source": [
    "# Tell me your ideas\n",
    "model = Sequential()\n",
    "model.add(Dense(1024, input_dim=8, activation='sigmoid'))\n",
    "model.add(Dense(128, activation='sigmoid'))\n",
    "model.add(Dropout(0.1))\n",
    "model.add(Dense(1, activation='sigmoid'))\n",
    "# Let's inspect our new architecture\n",
    "model.summary()"
   ]
  },
  {
   "cell_type": "code",
   "execution_count": 205,
   "metadata": {
    "colab": {
     "base_uri": "https://localhost:8080/",
     "height": 52
    },
    "colab_type": "code",
    "executionInfo": {
     "elapsed": 8228,
     "status": "ok",
     "timestamp": 1568256079077,
     "user": {
      "displayName": "Wenjing Liu",
      "photoUrl": "https://lh3.googleusercontent.com/a-/AAuE7mA15lvs7VR-FATIP9sDKyrrrxUQZ3P-Lq8wQnof=s64",
      "userId": "16067106733028664591"
     },
     "user_tz": 300
    },
    "id": "gnE7VYcfJ1Oz",
    "outputId": "ffb2d9cc-6bc7-4325-be5a-0fc3dec4d94e"
   },
   "outputs": [
    {
     "name": "stdout",
     "output_type": "stream",
     "text": [
      "768/768 [==============================] - 0s 83us/step\n",
      "acc: 69.53125\n"
     ]
    }
   ],
   "source": [
    "model.compile(loss='binary_crossentropy', \n",
    "              optimizer='adam', \n",
    "              metrics=['accuracy'])\n",
    "# model.fit(X, y, epochs=150, verbose=0) # What parameters can I specify here?\n",
    "history = model.fit(X, y, epochs=200, batch_size=1024,\n",
    "                    validation_split=0.2, shuffle=True, \n",
    "                    verbose=0)\n",
    "score = model.evaluate(X,y)\n",
    "print(f\"{model.metrics_names[1]}: {scores[1]*100}\")"
   ]
  },
  {
   "cell_type": "markdown",
   "metadata": {
    "colab_type": "text",
    "id": "WeGk7U-TA74L"
   },
   "source": [
    "https://machinelearningmastery.com/display-deep-learning-model-training-history-in-keras/  "
   ]
  },
  {
   "cell_type": "code",
   "execution_count": 206,
   "metadata": {
    "colab": {
     "base_uri": "https://localhost:8080/",
     "height": 591
    },
    "colab_type": "code",
    "executionInfo": {
     "elapsed": 1460,
     "status": "ok",
     "timestamp": 1568256082454,
     "user": {
      "displayName": "Wenjing Liu",
      "photoUrl": "https://lh3.googleusercontent.com/a-/AAuE7mA15lvs7VR-FATIP9sDKyrrrxUQZ3P-Lq8wQnof=s64",
      "userId": "16067106733028664591"
     },
     "user_tz": 300
    },
    "id": "e_JjrWmIA_o3",
    "outputId": "dc8a52e5-9495-4692-89e8-0884572f5f41"
   },
   "outputs": [
    {
     "name": "stdout",
     "output_type": "stream",
     "text": [
      "dict_keys(['val_loss', 'val_acc', 'loss', 'acc'])\n"
     ]
    },
    {
     "data": {
      "image/png": "[encoded data removed]",
      "text/plain": [
       "<Figure size 432x288 with 1 Axes>"
      ]
     },
     "metadata": {
      "tags": []
     },
     "output_type": "display_data"
    },
    {
     "data": {
      "image/png": "[encoded data removed]",
      "text/plain": [
       "<Figure size 432x288 with 1 Axes>"
      ]
     },
     "metadata": {
      "tags": []
     },
     "output_type": "display_data"
    }
   ],
   "source": [
    "# list all data in history\n",
    "print(history.history.keys())\n",
    "# summarize history for accuracy\n",
    "plt.plot(history.history['acc'])\n",
    "plt.plot(history.history['val_acc'])\n",
    "plt.title('model accuracy')\n",
    "plt.ylabel('accuracy')\n",
    "plt.xlabel('epoch')\n",
    "plt.legend(['train', 'test'], loc='upper left')\n",
    "plt.show()\n",
    "# summarize history for loss\n",
    "plt.plot(history.history['loss'])\n",
    "plt.plot(history.history['val_loss'])\n",
    "plt.title('model loss')\n",
    "plt.ylabel('loss')\n",
    "plt.xlabel('epoch')\n",
    "plt.legend(['train', 'test'], loc='upper left')\n",
    "plt.show()"
   ]
  },
  {
   "cell_type": "markdown",
   "metadata": {
    "colab_type": "text",
    "id": "SsBjvKMAC-QR"
   },
   "source": [
    "# Learning rate optimizer  \n",
    "\n",
    "https://www.pyimagesearch.com/2019/07/22/keras-learning-rate-schedules-and-decay/   \n",
    "https://machinelearningmastery.com/how-to-choose-loss-functions-when-training-deep-learning-neural-networks/   \n",
    "https://towardsdatascience.com/machine-learning-for-diabetes-562dd7df4d42    "
   ]
  },
  {
   "cell_type": "code",
   "execution_count": 2,
   "metadata": {
    "colab": {
     "base_uri": "https://localhost:8080/",
     "height": 733
    },
    "colab_type": "code",
    "executionInfo": {
     "elapsed": 4153,
     "status": "ok",
     "timestamp": 1568267036423,
     "user": {
      "displayName": "Wenjing Liu",
      "photoUrl": "https://lh3.googleusercontent.com/a-/AAuE7mA15lvs7VR-FATIP9sDKyrrrxUQZ3P-Lq8wQnof=s64",
      "userId": "16067106733028664591"
     },
     "user_tz": 300
    },
    "id": "6iq2FiQ0RCXc",
    "outputId": "997ec64b-9044-4b31-e274-a94c657b8440"
   },
   "outputs": [
    {
     "name": "stdout",
     "output_type": "stream",
     "text": [
      "Train: 0.788, Test: 0.734\n"
     ]
    },
    {
     "data": {
      "image/png": "[encoded data removed]",
      "text/plain": [
       "<Figure size 720x864 with 2 Axes>"
      ]
     },
     "metadata": {
      "tags": []
     },
     "output_type": "display_data"
    }
   ],
   "source": [
    "import numpy as np\n",
    "import pandas as pd\n",
    "from matplotlib import pyplot\n",
    "from sklearn.datasets import make_circles\n",
    "from sklearn.model_selection import train_test_split\n",
    "from sklearn.preprocessing import StandardScaler\n",
    "from keras.models import Sequential\n",
    "from keras.layers import Dense\n",
    "from keras.layers import Dropout\n",
    "from keras.layers import ReLU\n",
    "from keras.layers import LeakyReLU\n",
    "from keras.optimizers import SGD\n",
    "\n",
    "np.random.seed(812)\n",
    "\n",
    "url =\"https://raw.githubusercontent.com/jbrownlee/Datasets/master/pima-indians-diabetes.data.csv\"\n",
    "dataset = pd.read_csv(url, header=None)\n",
    "X = dataset.values[:,0:8]\n",
    "y = dataset.values[:,-1]\n",
    "\n",
    "# define model\n",
    "trainX, testX, trainy, testy = train_test_split(X, y, test_size=0.2, random_state=42)\n",
    "scaler = StandardScaler()\n",
    "trainX_ = scaler.fit_transform(trainX)\n",
    "testX_ = scaler.fit_transform(testX)\n",
    "\n",
    "model = Sequential()\n",
    "model.add(Dense(512, activation='tanh',\n",
    "                input_dim=8, kernel_initializer='he_uniform'))\n",
    "model.add(Dropout(0.01))\n",
    "model.add(Dense(512, activation='tanh',))\n",
    "model.add(Dropout(0.05))\n",
    "model.add(Dense(512, activation='tanh',))\n",
    "model.add(Dropout(0.1))\n",
    "model.add(Dense(512, activation='tanh',))\n",
    "model.add(Dropout(0.15))\n",
    "model.add(Dense(512, activation='tanh',))\n",
    "model.add(Dropout(0.2))\n",
    "model.add(Dense(8))\n",
    "model.add(ReLU())\n",
    "# model.add(LeakyReLU(alpha=0.01))\n",
    "model.add(Dropout(0.2))\n",
    "model.add(Dense(1, activation='sigmoid'))\n",
    "opt = SGD(lr=0.001, momentum=0.8)\n",
    "model.compile(loss='binary_crossentropy', optimizer=opt, metrics=['accuracy'])\n",
    "\n",
    "# fit model\n",
    "history = model.fit(trainX_, trainy, validation_data=(testX_, testy), \n",
    "                    epochs=50, batch_size=128, verbose=0)\n",
    "# evaluate the model\n",
    "_, train_acc = model.evaluate(trainX_, trainy, verbose=0)\n",
    "_, test_acc = model.evaluate(testX_, testy, verbose=0)\n",
    "print('Train: %.3f, Test: %.3f' % (train_acc, test_acc))\n",
    "\n",
    "# plot loss during training\n",
    "pyplot.figure(figsize=(10, 12))\n",
    "pyplot.subplot(211)\n",
    "pyplot.title('Loss')\n",
    "pyplot.plot(history.history['loss'], label='train')\n",
    "pyplot.plot(history.history['val_loss'], label='test')\n",
    "pyplot.legend()\n",
    "# plot accuracy during training\n",
    "pyplot.subplot(212)\n",
    "pyplot.title('Accuracy')\n",
    "pyplot.plot(history.history['acc'], label='train')\n",
    "pyplot.plot(history.history['val_acc'], label='test')\n",
    "pyplot.legend()\n",
    "pyplot.show()"
   ]
  },
  {
   "cell_type": "markdown",
   "metadata": {
    "colab_type": "text",
    "id": "tcjMuxtn6wIQ"
   },
   "source": [
    "# Activation Functions\n",
    "\n",
    "What is an activation function and how does it work?\n",
    "\n",
    "- Takes in a weighted sum of inputs + a bias from the previous layer and outputs an \"activation\" value.\n",
    "- Based its inputs the neuron decides how 'activated' it should be. This can be thought of as the neuron deciding how strongly to fire. You can also think of it as if the neuron is deciding how much of the signal that it has received to pass onto the next layer. \n",
    "- Our choice of activation function does not only affect signal that is passed forward but also affects the backpropagation algorithm. It affects how we update weights in reverse order since activated weight/input sums become the inputs of the next layer. \n"
   ]
  },
  {
   "cell_type": "markdown",
   "metadata": {
    "colab_type": "text",
    "id": "n_b0u8Ch60bA"
   },
   "source": [
    "## Step Function\n",
    "\n",
    "![Heaviside Step Function](https://upload.wikimedia.org/wikipedia/commons/thumb/d/d9/Dirac_distribution_CDF.svg/325px-Dirac_distribution_CDF.svg.png)\n",
    "\n",
    "All or nothing, a little extreme, which is fine, but makes updating weights through backpropagation impossible. Why? remember that during backpropagation we use derivatives in order to determine how much to update or not update weights. What is the derivative of the step function?"
   ]
  },
  {
   "cell_type": "markdown",
   "metadata": {
    "colab_type": "text",
    "id": "vKR0YhIVEnXZ"
   },
   "source": [
    "## Linear Function\n",
    "\n",
    "![Linear Function](http://www.roconnell.net/Parent%20function/linear.gif)\n",
    "\n",
    "The linear function takes the opposite tact from the step function and passes the signal onto the next layer by a constant factor. There are problems with this but the biggest problems again lie in backpropagation. The derivative of any linear function is a horizontal line which would indicate that we should update all weights by a constant amount every time -which on balance wouldn't change the behavior of our network. Linear functions are typically only used for very simple tasks where interpretability is important, but if interpretability is your highest priority, you probably shouldn't be using neural networks in the first place."
   ]
  },
  {
   "cell_type": "markdown",
   "metadata": {
    "colab_type": "text",
    "id": "JFurIVL6EkQ8"
   },
   "source": [
    "## Sigmoid Function\n",
    "\n",
    "![Sigmoid Function](https://upload.wikimedia.org/wikipedia/commons/thumb/8/88/Logistic-curve.svg/480px-Logistic-curve.svg.png)\n",
    "\n",
    "The sigmoid function works great as an activation function! it's continuously differentiable, its derivative doesn't have a constant slope, and having the higher slope in the middle pushes y value predictions towards extremes which is particularly useful for binary classification problems. I mean, this is why we use it as the squishifier in logistic regression as well. It constrains output, but over repeated epochs pushes predictions towards a strong binary prediction. \n",
    "\n",
    "What's the biggest problem with the sigmoid function? The fact that its slope gets pretty flat so quickly after its departure from zero. This means that updating weights based on its gradient really diminishes the size of our weight updates as our model gets more confident about its classifications. This is why even after so many iterations with our test score example we couldn't reach the levels of fit that our gradient descent based model could reach in just a few epochs."
   ]
  },
  {
   "cell_type": "markdown",
   "metadata": {
    "colab_type": "text",
    "id": "hm6p1HWbEhYi"
   },
   "source": [
    "## Tanh Function\n",
    "\n",
    "![Tanh Function](http://mathworld.wolfram.com/images/interactive/TanhReal.gif)\n",
    "\n",
    "What if the sigmoid function didn't get so flat quite as soon when moving away from zero and was a little bit steeper in the middle? That's basically the Tanh function. The Tanh function can actually be created by scaling the sigmoid function by 2 in the y dimension and subtracting 1 from all values. It has basically the same properties as the sigmoid, still struggles from diminishingly flat gradients as we move away from 0, but its derivative is higher around 0 causing weights to move to the extremes a little faster. "
   ]
  },
  {
   "cell_type": "markdown",
   "metadata": {
    "colab_type": "text",
    "id": "sFOn_L6gEcz1"
   },
   "source": [
    "## ReLU Function\n",
    "\n",
    "![ReLU Function](https://cdn-images-1.medium.com/max/937/1*oePAhrm74RNnNEolprmTaQ.png)\n",
    "\n",
    "ReLU stands for Rectified Linear Units it is by far the most commonly used activation function in modern neural networks. It doesn't activate neurons that are being passed a negative signal and passes on positive signals. Think about why this might be useful. Remember how a lot of our initial weights got set to negative numbers by chance? This would have dealt with those negative weights a lot faster than the sigmoid function updating. What does the derivative of this function look like? It looks like the step function! This means that not all neurons are activated. With sigmoid basically all of our neurons are passing some amount of signal even if it's small making it hard for the network to differentiate important and less important connections. ReLU turns off a portion of our less important neurons which decreases computational load, but also helps the network learn what the most important connections are faster. \n",
    "\n",
    "What's the problem with relu? Well the left half of its derivative function shows that for neurons that are initialized with weights that cause them to have no activation, our gradient will not update those neuron's weights, this can lead to dead neurons that never fire and whose weights never get updated. We would probably want to update the weights of neurons that didn't fire even if it's just by a little bit in case we got unlucky with our initial weights and want to give those neurons a chance of turning back on in the future."
   ]
  },
  {
   "cell_type": "markdown",
   "metadata": {
    "colab_type": "text",
    "id": "XWdvWOBIETwk"
   },
   "source": [
    "## Leaky ReLU\n",
    "\n",
    "![Leaky ReLU](https://cdn-images-1.medium.com/max/1600/1*ypsvQH7kvtI2BhzR2eT_Sw.png)\n",
    "\n",
    "Leaky ReLU accomplishes exactly that! it avoids having a gradient of 0 on the left side of its derivative function. This means that even \"dead\" neurons have a chance of being revived over enough iterations. In some specifications the slope of the leaky left-hand side can also be experimented with as a hyperparameter of the model!"
   ]
  },
  {
   "cell_type": "markdown",
   "metadata": {
    "colab_type": "text",
    "id": "FcAxkNFREMFb"
   },
   "source": [
    "## Softmax Function\n",
    "\n",
    "![Softmax Function](https://cdn-images-1.medium.com/max/800/1*670CdxchunD-yAuUWdI7Bw.png)\n",
    "\n",
    "Like the sigmoid function but more useful for multi-class classification problems. The softmax function can take any set of inputs and translate them into probabilities that sum up to 1. This means that we can throw any list of outputs at it and it will translate them into probabilities, this is extremely useful for multi-class classification problems. Like MNIST for example..."
   ]
  },
  {
   "cell_type": "markdown",
   "metadata": {
    "colab_type": "text",
    "id": "23-XRRXKHs34"
   },
   "source": [
    "## Major takeaways\n",
    "\n",
    "- ReLU is generally better at obtaining the optimal model fit.\n",
    "- Sigmoid and its derivatives are usually better at classification problems.\n",
    "- Softmax for multi-class classification problems. \n",
    "\n",
    "You'll typically see ReLU used for all initial layers and then the final layer being sigmoid or softmax for classification problems. But you can experiment and tune these selections as hyperparameters as well!"
   ]
  },
  {
   "cell_type": "markdown",
   "metadata": {
    "colab_type": "text",
    "id": "TWuoXZCCKCI7"
   },
   "source": [
    "## MNIST with Keras \n",
    "\n",
    "### This will be a good chance to bring up dropout regularization. :)"
   ]
  },
  {
   "cell_type": "code",
   "execution_count": 0,
   "metadata": {
    "colab": {},
    "colab_type": "code",
    "id": "jmJ_5azs04pU"
   },
   "outputs": [],
   "source": [
    "### Let's do it!\n"
   ]
  },
  {
   "cell_type": "code",
   "execution_count": 0,
   "metadata": {
    "colab": {},
    "colab_type": "code",
    "id": "wo_BWYP9J1Pb"
   },
   "outputs": [],
   "source": [
    "# Hyper Parameters\n"
   ]
  },
  {
   "cell_type": "code",
   "execution_count": 0,
   "metadata": {
    "colab": {},
    "colab_type": "code",
    "id": "DHFQAbRyJ1Q7"
   },
   "outputs": [],
   "source": [
    "# Load the Data\n"
   ]
  },
  {
   "cell_type": "code",
   "execution_count": 0,
   "metadata": {
    "colab": {},
    "colab_type": "code",
    "id": "WVgUOHfQJ1Q9"
   },
   "outputs": [],
   "source": [
    "# Reshape the data\n",
    "X_train = X_train.reshape(60000, 784)\n",
    "X_test = X_test.reshape(10000, 784)"
   ]
  },
  {
   "cell_type": "code",
   "execution_count": 0,
   "metadata": {
    "colab": {},
    "colab_type": "code",
    "id": "VshuNWe-J1RA"
   },
   "outputs": [],
   "source": [
    "# X Variable Types\n"
   ]
  },
  {
   "cell_type": "code",
   "execution_count": 0,
   "metadata": {
    "colab": {},
    "colab_type": "code",
    "id": "-c04EBhVJ1RD"
   },
   "outputs": [],
   "source": [
    "# Correct Encoding on Y\n",
    "\n"
   ]
  },
  {
   "cell_type": "code",
   "execution_count": 0,
   "metadata": {
    "colab": {},
    "colab_type": "code",
    "id": "_6HLTIwbJ1RG"
   },
   "outputs": [],
   "source": [
    "y_train[0]"
   ]
  },
  {
   "cell_type": "code",
   "execution_count": 0,
   "metadata": {
    "colab": {},
    "colab_type": "code",
    "id": "tUh6_bmNJ1RJ"
   },
   "outputs": [],
   "source": [
    "mnist_model = Sequential()\n",
    "\n",
    "# Hidden\n",
    "\n",
    "# Output Layer\n",
    "\n",
    "mnist_model.summary()"
   ]
  },
  {
   "cell_type": "code",
   "execution_count": 0,
   "metadata": {
    "colab": {},
    "colab_type": "code",
    "id": "Piap_YLuJ1RP"
   },
   "outputs": [],
   "source": [
    "history = mnist_model.fit(X_train, y_train, batch_size=32, epochs=epochs, validation_split=.1, verbose=0)\n",
    "scores = mnist_model.evaluate(X_test, y_test)\n",
    "print(f'{mnist_model.metrics_names[1]}: {scores[1]*100}')"
   ]
  },
  {
   "cell_type": "markdown",
   "metadata": {
    "colab_type": "text",
    "id": "CKmx8153w9Ci"
   },
   "source": [
    "## What if we use dropout techniques to prevent overfitting? How does that affect our model?\n",
    "\n",
    "![Regularization](https://upload.wikimedia.org/wikipedia/commons/thumb/0/02/Regularization.svg/354px-Regularization.svg.png)"
   ]
  },
  {
   "cell_type": "code",
   "execution_count": 0,
   "metadata": {
    "colab": {},
    "colab_type": "code",
    "id": "uhQi8W2XJ1RW"
   },
   "outputs": [],
   "source": [
    "### Let's do it!\n",
    "from tensorflow import keras \n",
    "from tensorflow.keras.datasets import mnist\n",
    "from tensorflow.keras.models import Sequential\n",
    "from tensorflow.keras.layers import Dense, Dropout\n",
    "\n",
    "import numpy as np\n",
    "\n",
    "mnist_model = Sequential()\n",
    "\n",
    "# Hidden\n",
    "mnist_model.add(Dense(32, input_dim=784, activation='relu'))\n",
    "mnist_model.add(Dropout(0.2))\n",
    "mnist_model.add(Dense(16, activation='relu'))\n",
    "mnist_model.add(Dropout(0.2))\n",
    "# Output Layer\n",
    "mnist_model.add(Dense(10, activation='softmax'))\n",
    "\n",
    "mnist_model.compile(loss='categorical_crossentropy',\n",
    "                    optimizer='adam', \n",
    "                    metrics=['accuracy'])\n",
    "mnist_model.summary()"
   ]
  },
  {
   "cell_type": "code",
   "execution_count": 0,
   "metadata": {
    "colab": {},
    "colab_type": "code",
    "id": "nkFm8c0KJ1Re"
   },
   "outputs": [],
   "source": [
    "history = mnist_model.fit(X_train, y_train, batch_size=32, epochs=epochs, validation_split=.1, verbose=0)\n",
    "scores = mnist_model.evaluate(X_test, y_test)\n",
    "print(f'{mnist_model.metrics_names[1]}: {scores[1]*100}')"
   ]
  }
 ],
 "metadata": {
  "accelerator": "GPU",
  "colab": {
   "collapsed_sections": [],
   "name": "LS_DS_423_Keras_Lecture.ipynb",
   "provenance": [],
   "toc_visible": true,
   "version": "0.3.2"
  },
  "kernelspec": {
   "display_name": "Python 3",
   "language": "python",
   "name": "python3"
  },
  "language_info": {
   "codemirror_mode": {
    "name": "ipython",
    "version": 3
   },
   "file_extension": ".py",
   "mimetype": "text/x-python",
   "name": "python",
   "nbconvert_exporter": "python",
   "pygments_lexer": "ipython3",
   "version": "3.7.3"
  }
 },
 "nbformat": 4,
 "nbformat_minor": 1
}
