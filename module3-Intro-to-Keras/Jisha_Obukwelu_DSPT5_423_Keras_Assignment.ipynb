{
 "cells": [
  {
   "cell_type": "markdown",
   "metadata": {
    "colab_type": "text",
    "id": "pBQsZEJmubLs"
   },
   "source": [
    "<img align=\"left\" src=\"https://lever-client-logos.s3.amazonaws.com/864372b1-534c-480e-acd5-9711f850815c-1524247202159.png\" width=200>\n",
    "<br></br>\n",
    "\n",
    "# Neural Network Framework (Keras)\n",
    "\n",
    "## *Data Science Unit 4 Sprint 2 Assignment 3*\n",
    "\n",
    "## Use the Keras Library to build a Multi-Layer Perceptron Model on the Boston Housing dataset\n",
    "\n",
    "- The Boston Housing dataset comes with the Keras library so use Keras to import it into your notebook. \n",
    "- Normalize the data (all features should have roughly the same scale)\n",
    "- Import the type of model and layers that you will need from Keras.\n",
    "- Instantiate a model object and use `model.add()` to add layers to your model\n",
    "- Since this is a regression model you will have a single output node in the final layer.\n",
    "- Use activation functions that are appropriate for this task\n",
    "- Compile your model\n",
    "- Fit your model and report its accuracy in terms of Mean Squared Error\n",
    "- Use the history object that is returned from model.fit to make graphs of the model's loss or train/validation accuracies by epoch. \n",
    "- Run this same data through a linear regression model. Which achieves higher accuracy?\n",
    "- Do a little bit of feature engineering and see how that affects your neural network model. (you will need to change your model to accept more inputs)\n",
    "- After feature engineering, which model sees a greater accuracy boost due to the new features?"
   ]
  },
  {
   "cell_type": "markdown",
   "metadata": {},
   "source": [
    "### **The Boston Housing dataset comes with the Keras library so use Keras to import it into your notebook.**"
   ]
  },
  {
   "cell_type": "code",
   "execution_count": 1,
   "metadata": {},
   "outputs": [],
   "source": [
    "# from sklearn.preprocessing import MinMaxScaler\n",
    "# from sklearn.pipeline import make_pipeline\n",
    "# from tensorflow.keras.models import Sequential\n",
    "# from tensorflow.keras.layers import Dense, Dropout\n",
    "\n",
    "# def create_model():\n",
    "#     model = Sequential([\n",
    "#         Dense(128, activation='relu', input_dim=13),\n",
    "#         Dense(128, activation='relu'),\n",
    "#         Dense(128, activation='relu'),\n",
    "#         Dropout(0.5),\n",
    "#         Dense(1, activation='relu')\n",
    "#     ])\n",
    "\n",
    "#     model.compile(optimizer='adam', loss='mse', metrics=['mae', 'mse'])\n",
    "\n",
    "#     return model\n",
    "\n",
    "# # results = model.fit(X,y, epochs=100)\n",
    "\n",
    "# from tensorflow.keras.wrappers.scikit_learn import KerasRegressor\n",
    "\n",
    "# regressor = KerasRegressor(create_model, epochs=100)\n",
    "\n",
    "# clf = make_pipeline(MinMaxScaler(), regressor)\n",
    "\n",
    "# clf.fit(X_train, y_train)"
   ]
  },
  {
   "cell_type": "code",
   "execution_count": 2,
   "metadata": {},
   "outputs": [],
   "source": [
    "import warnings\n",
    "warnings.filterwarnings(\"ignore\")"
   ]
  },
  {
   "cell_type": "code",
   "execution_count": 3,
   "metadata": {
    "colab": {},
    "colab_type": "code",
    "id": "8NLTAR87uYJ-"
   },
   "outputs": [],
   "source": [
    "from tensorflow.keras.datasets import boston_housing"
   ]
  },
  {
   "cell_type": "code",
   "execution_count": 4,
   "metadata": {},
   "outputs": [],
   "source": [
    "(train_data, train_targets), (test_data, test_targets) = boston_housing.load_data()"
   ]
  },
  {
   "cell_type": "code",
   "execution_count": 5,
   "metadata": {},
   "outputs": [
    {
     "name": "stdout",
     "output_type": "stream",
     "text": [
      "Training data : (404, 13)\n",
      "Target : (404,)\n",
      "Test data : (102, 13)\n",
      "Target data : (102,)\n"
     ]
    }
   ],
   "source": [
    "print(f'Training data : {train_data.shape}')\n",
    "print(f'Target : {train_targets.shape}')\n",
    "print(f'Test data : {test_data.shape}')\n",
    "print(f'Target data : {test_targets.shape}')\n"
   ]
  },
  {
   "cell_type": "code",
   "execution_count": 6,
   "metadata": {},
   "outputs": [
    {
     "data": {
      "text/plain": [
       "array([[1.23247e+00, 0.00000e+00, 8.14000e+00, ..., 2.10000e+01,\n",
       "        3.96900e+02, 1.87200e+01],\n",
       "       [2.17700e-02, 8.25000e+01, 2.03000e+00, ..., 1.47000e+01,\n",
       "        3.95380e+02, 3.11000e+00],\n",
       "       [4.89822e+00, 0.00000e+00, 1.81000e+01, ..., 2.02000e+01,\n",
       "        3.75520e+02, 3.26000e+00],\n",
       "       ...,\n",
       "       [3.46600e-02, 3.50000e+01, 6.06000e+00, ..., 1.69000e+01,\n",
       "        3.62250e+02, 7.83000e+00],\n",
       "       [2.14918e+00, 0.00000e+00, 1.95800e+01, ..., 1.47000e+01,\n",
       "        2.61950e+02, 1.57900e+01],\n",
       "       [1.43900e-02, 6.00000e+01, 2.93000e+00, ..., 1.56000e+01,\n",
       "        3.76700e+02, 4.38000e+00]])"
      ]
     },
     "execution_count": 6,
     "metadata": {},
     "output_type": "execute_result"
    }
   ],
   "source": [
    "train_data"
   ]
  },
  {
   "cell_type": "markdown",
   "metadata": {},
   "source": [
    "### **Normalize the data (all features should have roughly the same scale)**"
   ]
  },
  {
   "cell_type": "code",
   "execution_count": 7,
   "metadata": {},
   "outputs": [],
   "source": [
    "from sklearn.preprocessing import MinMaxScaler"
   ]
  },
  {
   "cell_type": "code",
   "execution_count": 8,
   "metadata": {},
   "outputs": [],
   "source": [
    "mm_scaler = MinMaxScaler()\n",
    "X_train = mm_scaler.fit_transform(train_data)\n",
    "X_test = mm_scaler.transform(test_data)\n",
    "\n",
    "y_train = train_targets\n",
    "y_test = test_targets"
   ]
  },
  {
   "cell_type": "code",
   "execution_count": 9,
   "metadata": {},
   "outputs": [
    {
     "data": {
      "text/plain": [
       "array([[1.37816304e-02, 0.00000000e+00, 2.81524927e-01, ...,\n",
       "        8.93617021e-01, 1.00000000e+00, 4.68818985e-01],\n",
       "       [1.73654275e-04, 8.25000000e-01, 5.75513196e-02, ...,\n",
       "        2.23404255e-01, 9.96167230e-01, 3.80794702e-02],\n",
       "       [5.49837765e-02, 0.00000000e+00, 6.46627566e-01, ...,\n",
       "        8.08510638e-01, 9.46089061e-01, 4.22185430e-02],\n",
       "       ...,\n",
       "       [3.18534767e-04, 3.50000000e-01, 2.05278592e-01, ...,\n",
       "        4.57446809e-01, 9.12627969e-01, 1.68322296e-01],\n",
       "       [2.40852297e-02, 0.00000000e+00, 7.00879765e-01, ...,\n",
       "        2.23404255e-01, 6.59715568e-01, 3.87969095e-01],\n",
       "       [9.07048543e-05, 6.00000000e-01, 9.05425220e-02, ...,\n",
       "        3.19148936e-01, 9.49064501e-01, 7.31236203e-02]])"
      ]
     },
     "execution_count": 9,
     "metadata": {},
     "output_type": "execute_result"
    }
   ],
   "source": [
    "X_train"
   ]
  },
  {
   "cell_type": "markdown",
   "metadata": {},
   "source": [
    "### **Import the type of model and layers that you will need from Keras.**"
   ]
  },
  {
   "cell_type": "code",
   "execution_count": 10,
   "metadata": {},
   "outputs": [],
   "source": [
    "from tensorflow.keras import Sequential\n",
    "from tensorflow.keras.layers import Dense, Flatten, Dropout"
   ]
  },
  {
   "cell_type": "markdown",
   "metadata": {},
   "source": [
    "### **Instantiate a model object and use model.add() to add layers to your model**\n",
    "### **Since this is a regression model you will have a single output node in the final layer**\n",
    "### **Use activation functions that are appropriate for this task**"
   ]
  },
  {
   "cell_type": "code",
   "execution_count": 11,
   "metadata": {},
   "outputs": [],
   "source": [
    "model = Sequential()\n",
    "model.add(Dense(100, activation = 'relu', input_dim = 13))\n",
    "model.add(Dense(100, activation = 'relu'))\n",
    "model.add(Dense(100, activation = 'relu'))\n",
    "model.add(Dense(1))"
   ]
  },
  {
   "cell_type": "markdown",
   "metadata": {},
   "source": [
    "### **Compile your model**"
   ]
  },
  {
   "cell_type": "code",
   "execution_count": 12,
   "metadata": {},
   "outputs": [],
   "source": [
    "model.compile(optimizer = 'nadam', loss='mse', metrics=['mae', 'mse'])"
   ]
  },
  {
   "cell_type": "markdown",
   "metadata": {},
   "source": [
    "### **Fit your model and report its accuracy in terms of Mean Squared Error**"
   ]
  },
  {
   "cell_type": "code",
   "execution_count": 13,
   "metadata": {},
   "outputs": [
    {
     "name": "stdout",
     "output_type": "stream",
     "text": [
      "Train on 404 samples, validate on 102 samples\n",
      "Epoch 1/100\n",
      "404/404 [==============================] - 1s 2ms/sample - loss: 554.4633 - mae: 21.6494 - mse: 554.4633 - val_loss: 522.1727 - val_mae: 20.8671 - val_mse: 522.1727\n",
      "Epoch 2/100\n",
      "404/404 [==============================] - 0s 72us/sample - loss: 388.0178 - mae: 17.1266 - mse: 388.0178 - val_loss: 236.3025 - val_mae: 12.7608 - val_mse: 236.3025\n",
      "Epoch 3/100\n",
      "404/404 [==============================] - 0s 356us/sample - loss: 147.8572 - mae: 9.2121 - mse: 147.8572 - val_loss: 107.2009 - val_mae: 7.8047 - val_mse: 107.2009\n",
      "Epoch 4/100\n",
      "404/404 [==============================] - 0s 107us/sample - loss: 87.4986 - mae: 7.0141 - mse: 87.4987 - val_loss: 80.4775 - val_mae: 6.7470 - val_mse: 80.4775\n",
      "Epoch 5/100\n",
      "404/404 [==============================] - 0s 126us/sample - loss: 66.7602 - mae: 6.0084 - mse: 66.7601 - val_loss: 62.1051 - val_mae: 5.7446 - val_mse: 62.1051\n",
      "Epoch 6/100\n",
      "404/404 [==============================] - 0s 375us/sample - loss: 54.8545 - mae: 5.1629 - mse: 54.8545 - val_loss: 51.1679 - val_mae: 5.3029 - val_mse: 51.1679\n",
      "Epoch 7/100\n",
      "404/404 [==============================] - 0s 248us/sample - loss: 47.4283 - mae: 4.8341 - mse: 47.4283 - val_loss: 45.2807 - val_mae: 4.9765 - val_mse: 45.2807\n",
      "Epoch 8/100\n",
      "404/404 [==============================] - 0s 265us/sample - loss: 42.5576 - mae: 4.5111 - mse: 42.5576 - val_loss: 40.2138 - val_mae: 4.7177 - val_mse: 40.2138\n",
      "Epoch 9/100\n",
      "404/404 [==============================] - 0s 239us/sample - loss: 38.5864 - mae: 4.2589 - mse: 38.5864 - val_loss: 36.0479 - val_mae: 4.4603 - val_mse: 36.0479\n",
      "Epoch 10/100\n",
      "404/404 [==============================] - 0s 228us/sample - loss: 34.0598 - mae: 3.9926 - mse: 34.0598 - val_loss: 33.3051 - val_mae: 4.4179 - val_mse: 33.3051\n",
      "Epoch 11/100\n",
      "404/404 [==============================] - 0s 248us/sample - loss: 29.9283 - mae: 3.7523 - mse: 29.9283 - val_loss: 29.6279 - val_mae: 4.0894 - val_mse: 29.6279\n",
      "Epoch 12/100\n",
      "404/404 [==============================] - 0s 254us/sample - loss: 27.4958 - mae: 3.5604 - mse: 27.4958 - val_loss: 26.9427 - val_mae: 3.8413 - val_mse: 26.9427\n",
      "Epoch 13/100\n",
      "404/404 [==============================] - 0s 221us/sample - loss: 24.5690 - mae: 3.3699 - mse: 24.5690 - val_loss: 26.2094 - val_mae: 3.7868 - val_mse: 26.2094\n",
      "Epoch 14/100\n",
      "404/404 [==============================] - 0s 243us/sample - loss: 22.4362 - mae: 3.1451 - mse: 22.4362 - val_loss: 23.8098 - val_mae: 3.5970 - val_mse: 23.8098\n",
      "Epoch 15/100\n",
      "404/404 [==============================] - 0s 342us/sample - loss: 21.0700 - mae: 3.0419 - mse: 21.0700 - val_loss: 23.6245 - val_mae: 3.5629 - val_mse: 23.6245\n",
      "Epoch 16/100\n",
      "404/404 [==============================] - 0s 127us/sample - loss: 20.0624 - mae: 3.0170 - mse: 20.0624 - val_loss: 22.5002 - val_mae: 3.4583 - val_mse: 22.5002\n",
      "Epoch 17/100\n",
      "404/404 [==============================] - 0s 340us/sample - loss: 18.4874 - mae: 2.8303 - mse: 18.4874 - val_loss: 21.6318 - val_mae: 3.3319 - val_mse: 21.6318\n",
      "Epoch 18/100\n",
      "404/404 [==============================] - 0s 123us/sample - loss: 17.6490 - mae: 2.8316 - mse: 17.6490 - val_loss: 21.9679 - val_mae: 3.3463 - val_mse: 21.9679\n",
      "Epoch 19/100\n",
      "404/404 [==============================] - 0s 338us/sample - loss: 16.9310 - mae: 2.7963 - mse: 16.9310 - val_loss: 21.7699 - val_mae: 3.2983 - val_mse: 21.7699\n",
      "Epoch 20/100\n",
      "404/404 [==============================] - 0s 160us/sample - loss: 16.3329 - mae: 2.7262 - mse: 16.3329 - val_loss: 27.0433 - val_mae: 3.7910 - val_mse: 27.0433\n",
      "Epoch 21/100\n",
      "404/404 [==============================] - 0s 221us/sample - loss: 16.1148 - mae: 2.8023 - mse: 16.1148 - val_loss: 24.6715 - val_mae: 3.5377 - val_mse: 24.6715\n",
      "Epoch 22/100\n",
      "404/404 [==============================] - 0s 317us/sample - loss: 15.2750 - mae: 2.6780 - mse: 15.2750 - val_loss: 22.3366 - val_mae: 3.2421 - val_mse: 22.3366\n",
      "Epoch 23/100\n",
      "404/404 [==============================] - 0s 177us/sample - loss: 14.4885 - mae: 2.5545 - mse: 14.4885 - val_loss: 24.7812 - val_mae: 3.4068 - val_mse: 24.7812\n",
      "Epoch 24/100\n",
      "404/404 [==============================] - 0s 432us/sample - loss: 14.2250 - mae: 2.5679 - mse: 14.2250 - val_loss: 23.6350 - val_mae: 3.2673 - val_mse: 23.6350\n",
      "Epoch 25/100\n",
      "404/404 [==============================] - 0s 173us/sample - loss: 13.9790 - mae: 2.5144 - mse: 13.9790 - val_loss: 24.1672 - val_mae: 3.3436 - val_mse: 24.1672\n",
      "Epoch 26/100\n",
      "404/404 [==============================] - 0s 227us/sample - loss: 13.3246 - mae: 2.5625 - mse: 13.3246 - val_loss: 24.4568 - val_mae: 3.3163 - val_mse: 24.4568\n",
      "Epoch 27/100\n",
      "404/404 [==============================] - 0s 218us/sample - loss: 12.6319 - mae: 2.4725 - mse: 12.6319 - val_loss: 23.8731 - val_mae: 3.2366 - val_mse: 23.8731\n",
      "Epoch 28/100\n",
      "404/404 [==============================] - 0s 289us/sample - loss: 12.2247 - mae: 2.4039 - mse: 12.2247 - val_loss: 28.5554 - val_mae: 3.5899 - val_mse: 28.5554\n",
      "Epoch 29/100\n",
      "404/404 [==============================] - 0s 233us/sample - loss: 12.6544 - mae: 2.4594 - mse: 12.6544 - val_loss: 24.7786 - val_mae: 3.2445 - val_mse: 24.7786\n",
      "Epoch 30/100\n",
      "404/404 [==============================] - 0s 224us/sample - loss: 12.0653 - mae: 2.4005 - mse: 12.0653 - val_loss: 25.5460 - val_mae: 3.3513 - val_mse: 25.5460\n",
      "Epoch 31/100\n",
      "404/404 [==============================] - 0s 224us/sample - loss: 11.9280 - mae: 2.4351 - mse: 11.9280 - val_loss: 24.7631 - val_mae: 3.1745 - val_mse: 24.7631\n",
      "Epoch 32/100\n",
      "404/404 [==============================] - 0s 237us/sample - loss: 11.2220 - mae: 2.3867 - mse: 11.2220 - val_loss: 24.3685 - val_mae: 3.1584 - val_mse: 24.3685\n",
      "Epoch 33/100\n",
      "404/404 [==============================] - 0s 215us/sample - loss: 10.6902 - mae: 2.2504 - mse: 10.6902 - val_loss: 25.0946 - val_mae: 3.2896 - val_mse: 25.0946\n",
      "Epoch 34/100\n",
      "404/404 [==============================] - 0s 213us/sample - loss: 10.5573 - mae: 2.2893 - mse: 10.5573 - val_loss: 24.9010 - val_mae: 3.1713 - val_mse: 24.9010\n",
      "Epoch 35/100\n",
      "404/404 [==============================] - 0s 197us/sample - loss: 10.3136 - mae: 2.2348 - mse: 10.3136 - val_loss: 29.6998 - val_mae: 3.5409 - val_mse: 29.6998\n",
      "Epoch 36/100\n",
      "404/404 [==============================] - 0s 446us/sample - loss: 10.5464 - mae: 2.3049 - mse: 10.5464 - val_loss: 25.7183 - val_mae: 3.2412 - val_mse: 25.7183\n",
      "Epoch 37/100\n",
      "404/404 [==============================] - 0s 156us/sample - loss: 10.0583 - mae: 2.2084 - mse: 10.0583 - val_loss: 28.0602 - val_mae: 3.3346 - val_mse: 28.0602\n",
      "Epoch 38/100\n",
      "404/404 [==============================] - 0s 286us/sample - loss: 9.8397 - mae: 2.2324 - mse: 9.8397 - val_loss: 26.1177 - val_mae: 3.2325 - val_mse: 26.1177\n",
      "Epoch 39/100\n",
      "404/404 [==============================] - 0s 224us/sample - loss: 10.0413 - mae: 2.2544 - mse: 10.0413 - val_loss: 24.9643 - val_mae: 3.1639 - val_mse: 24.9643\n",
      "Epoch 40/100\n",
      "404/404 [==============================] - 0s 235us/sample - loss: 10.2710 - mae: 2.2465 - mse: 10.2710 - val_loss: 25.7376 - val_mae: 3.2244 - val_mse: 25.7376\n",
      "Epoch 41/100\n",
      "404/404 [==============================] - 0s 236us/sample - loss: 9.7491 - mae: 2.2232 - mse: 9.7491 - val_loss: 23.8619 - val_mae: 3.1454 - val_mse: 23.8619\n",
      "Epoch 42/100\n",
      "404/404 [==============================] - 0s 256us/sample - loss: 9.1192 - mae: 2.1677 - mse: 9.1192 - val_loss: 24.5312 - val_mae: 3.0947 - val_mse: 24.5312\n",
      "Epoch 43/100\n",
      "404/404 [==============================] - 0s 238us/sample - loss: 9.3175 - mae: 2.1944 - mse: 9.3175 - val_loss: 24.1857 - val_mae: 3.0558 - val_mse: 24.1857\n",
      "Epoch 44/100\n",
      "404/404 [==============================] - 0s 235us/sample - loss: 8.9059 - mae: 2.1281 - mse: 8.9059 - val_loss: 23.9895 - val_mae: 3.0615 - val_mse: 23.9895\n",
      "Epoch 45/100\n",
      "404/404 [==============================] - 0s 251us/sample - loss: 8.7007 - mae: 2.1263 - mse: 8.7007 - val_loss: 24.7058 - val_mae: 3.1048 - val_mse: 24.7058\n",
      "Epoch 46/100\n",
      "404/404 [==============================] - 0s 218us/sample - loss: 9.1323 - mae: 2.1230 - mse: 9.1323 - val_loss: 27.9060 - val_mae: 3.3122 - val_mse: 27.9060\n",
      "Epoch 47/100\n",
      "404/404 [==============================] - 0s 273us/sample - loss: 8.5496 - mae: 2.1326 - mse: 8.5496 - val_loss: 27.5945 - val_mae: 3.2644 - val_mse: 27.5945\n",
      "Epoch 48/100\n",
      "404/404 [==============================] - 0s 281us/sample - loss: 8.6241 - mae: 2.1688 - mse: 8.6241 - val_loss: 24.0568 - val_mae: 3.0507 - val_mse: 24.0568\n",
      "Epoch 49/100\n",
      "404/404 [==============================] - 0s 257us/sample - loss: 8.3389 - mae: 2.0613 - mse: 8.3389 - val_loss: 25.0958 - val_mae: 3.0954 - val_mse: 25.0958\n",
      "Epoch 50/100\n",
      "404/404 [==============================] - 0s 253us/sample - loss: 8.6293 - mae: 2.1020 - mse: 8.6293 - val_loss: 28.8408 - val_mae: 3.4366 - val_mse: 28.8408\n",
      "Epoch 51/100\n",
      "404/404 [==============================] - 0s 238us/sample - loss: 8.6411 - mae: 2.1609 - mse: 8.6411 - val_loss: 22.5215 - val_mae: 2.9561 - val_mse: 22.5215\n",
      "Epoch 52/100\n",
      "404/404 [==============================] - 0s 253us/sample - loss: 8.3564 - mae: 2.0629 - mse: 8.3564 - val_loss: 23.2283 - val_mae: 2.9961 - val_mse: 23.2283\n",
      "Epoch 53/100\n",
      "404/404 [==============================] - 0s 230us/sample - loss: 8.7508 - mae: 2.1216 - mse: 8.7508 - val_loss: 23.7328 - val_mae: 3.1222 - val_mse: 23.7328\n",
      "Epoch 54/100\n",
      "404/404 [==============================] - 0s 249us/sample - loss: 8.0738 - mae: 2.0668 - mse: 8.0738 - val_loss: 22.0023 - val_mae: 2.9233 - val_mse: 22.0023\n",
      "Epoch 55/100\n",
      "404/404 [==============================] - 0s 241us/sample - loss: 8.6415 - mae: 2.1601 - mse: 8.6415 - val_loss: 23.0837 - val_mae: 3.0594 - val_mse: 23.0837\n",
      "Epoch 56/100\n",
      "404/404 [==============================] - 0s 227us/sample - loss: 7.9214 - mae: 2.0190 - mse: 7.9214 - val_loss: 23.7283 - val_mae: 3.0294 - val_mse: 23.7283\n",
      "Epoch 57/100\n",
      "404/404 [==============================] - 0s 393us/sample - loss: 7.9208 - mae: 2.0624 - mse: 7.9208 - val_loss: 23.8650 - val_mae: 3.0356 - val_mse: 23.8650\n",
      "Epoch 58/100\n",
      "404/404 [==============================] - 0s 234us/sample - loss: 7.6600 - mae: 2.0105 - mse: 7.6600 - val_loss: 24.5573 - val_mae: 3.1495 - val_mse: 24.5573\n",
      "Epoch 59/100\n",
      "404/404 [==============================] - 0s 233us/sample - loss: 7.7175 - mae: 1.9928 - mse: 7.7175 - val_loss: 22.3955 - val_mae: 2.9858 - val_mse: 22.3955\n",
      "Epoch 60/100\n",
      "404/404 [==============================] - 0s 212us/sample - loss: 8.3273 - mae: 2.0766 - mse: 8.3273 - val_loss: 22.8341 - val_mae: 2.9900 - val_mse: 22.8341\n",
      "Epoch 61/100\n",
      "404/404 [==============================] - 0s 149us/sample - loss: 7.7045 - mae: 2.0248 - mse: 7.7045 - val_loss: 22.3834 - val_mae: 2.9596 - val_mse: 22.3834\n",
      "Epoch 62/100\n",
      "404/404 [==============================] - 0s 654us/sample - loss: 7.7739 - mae: 2.0412 - mse: 7.7739 - val_loss: 26.8770 - val_mae: 3.3007 - val_mse: 26.8770\n",
      "Epoch 63/100\n",
      "404/404 [==============================] - 0s 228us/sample - loss: 8.4209 - mae: 2.1357 - mse: 8.4209 - val_loss: 22.3462 - val_mae: 2.9757 - val_mse: 22.3462\n",
      "Epoch 64/100\n",
      "404/404 [==============================] - 0s 96us/sample - loss: 7.3675 - mae: 1.9806 - mse: 7.3675 - val_loss: 31.2025 - val_mae: 3.7127 - val_mse: 31.2025\n",
      "Epoch 65/100\n",
      "404/404 [==============================] - 0s 312us/sample - loss: 8.3971 - mae: 2.1589 - mse: 8.3971 - val_loss: 23.0424 - val_mae: 3.1050 - val_mse: 23.0424\n",
      "Epoch 66/100\n",
      "404/404 [==============================] - 0s 82us/sample - loss: 7.6821 - mae: 2.0053 - mse: 7.6821 - val_loss: 21.8414 - val_mae: 2.9536 - val_mse: 21.8414\n",
      "Epoch 67/100\n",
      "404/404 [==============================] - 0s 213us/sample - loss: 8.1004 - mae: 2.0687 - mse: 8.1004 - val_loss: 22.9255 - val_mae: 3.0179 - val_mse: 22.9255\n",
      "Epoch 68/100\n",
      "404/404 [==============================] - 0s 128us/sample - loss: 7.6832 - mae: 2.0191 - mse: 7.6832 - val_loss: 22.8444 - val_mae: 2.9916 - val_mse: 22.8444\n",
      "Epoch 69/100\n",
      "404/404 [==============================] - 0s 294us/sample - loss: 7.2864 - mae: 1.9969 - mse: 7.2864 - val_loss: 21.3551 - val_mae: 2.9285 - val_mse: 21.3551\n",
      "Epoch 70/100\n",
      "404/404 [==============================] - 0s 218us/sample - loss: 7.7056 - mae: 2.0184 - mse: 7.7056 - val_loss: 20.7676 - val_mae: 2.8640 - val_mse: 20.7676\n",
      "Epoch 71/100\n",
      "404/404 [==============================] - 0s 137us/sample - loss: 7.7013 - mae: 2.0383 - mse: 7.7013 - val_loss: 23.8154 - val_mae: 3.1154 - val_mse: 23.8154\n",
      "Epoch 72/100\n",
      "404/404 [==============================] - 0s 323us/sample - loss: 7.6580 - mae: 2.0301 - mse: 7.6580 - val_loss: 22.8241 - val_mae: 3.0611 - val_mse: 22.8241\n",
      "Epoch 73/100\n",
      "404/404 [==============================] - 0s 319us/sample - loss: 7.2235 - mae: 1.9583 - mse: 7.2235 - val_loss: 23.9488 - val_mae: 3.1361 - val_mse: 23.9488\n",
      "Epoch 74/100\n",
      "404/404 [==============================] - 0s 174us/sample - loss: 7.1696 - mae: 1.9862 - mse: 7.1696 - val_loss: 21.5599 - val_mae: 2.8905 - val_mse: 21.5599\n",
      "Epoch 75/100\n",
      "404/404 [==============================] - 0s 77us/sample - loss: 7.5223 - mae: 2.0274 - mse: 7.5223 - val_loss: 21.2249 - val_mae: 3.0269 - val_mse: 21.2249\n",
      "Epoch 76/100\n",
      "404/404 [==============================] - 0s 338us/sample - loss: 7.5321 - mae: 1.9851 - mse: 7.5321 - val_loss: 23.2077 - val_mae: 3.0289 - val_mse: 23.2077\n",
      "Epoch 77/100\n",
      "404/404 [==============================] - 0s 163us/sample - loss: 7.8162 - mae: 2.0521 - mse: 7.8162 - val_loss: 20.7821 - val_mae: 2.8654 - val_mse: 20.7821\n",
      "Epoch 78/100\n",
      "404/404 [==============================] - 0s 80us/sample - loss: 7.2636 - mae: 1.9852 - mse: 7.2636 - val_loss: 21.3295 - val_mae: 2.9661 - val_mse: 21.3295\n",
      "Epoch 79/100\n",
      "404/404 [==============================] - 0s 222us/sample - loss: 7.5695 - mae: 1.9803 - mse: 7.5695 - val_loss: 22.1917 - val_mae: 2.9617 - val_mse: 22.1917\n",
      "Epoch 80/100\n",
      "404/404 [==============================] - 0s 117us/sample - loss: 7.0148 - mae: 1.8935 - mse: 7.0148 - val_loss: 20.6402 - val_mae: 2.8646 - val_mse: 20.6402\n",
      "Epoch 81/100\n",
      "404/404 [==============================] - 0s 183us/sample - loss: 7.0603 - mae: 1.9320 - mse: 7.0603 - val_loss: 20.3101 - val_mae: 2.8166 - val_mse: 20.3101\n",
      "Epoch 82/100\n",
      "404/404 [==============================] - 0s 123us/sample - loss: 7.2455 - mae: 1.9617 - mse: 7.2455 - val_loss: 21.0996 - val_mae: 2.8418 - val_mse: 21.0996\n",
      "Epoch 83/100\n",
      "404/404 [==============================] - 0s 329us/sample - loss: 6.8693 - mae: 1.9380 - mse: 6.8693 - val_loss: 20.5000 - val_mae: 2.8509 - val_mse: 20.5000\n",
      "Epoch 84/100\n",
      "404/404 [==============================] - 0s 290us/sample - loss: 6.9372 - mae: 1.9316 - mse: 6.9372 - val_loss: 20.1822 - val_mae: 2.8290 - val_mse: 20.1822\n",
      "Epoch 85/100\n",
      "404/404 [==============================] - 0s 137us/sample - loss: 6.9148 - mae: 1.9072 - mse: 6.9148 - val_loss: 20.7456 - val_mae: 2.9879 - val_mse: 20.7456\n",
      "Epoch 86/100\n",
      "404/404 [==============================] - 0s 110us/sample - loss: 6.5426 - mae: 1.8455 - mse: 6.5426 - val_loss: 21.9625 - val_mae: 2.9373 - val_mse: 21.9625\n",
      "Epoch 87/100\n",
      "404/404 [==============================] - 0s 185us/sample - loss: 6.9259 - mae: 1.9321 - mse: 6.9259 - val_loss: 20.8063 - val_mae: 2.8917 - val_mse: 20.8063\n",
      "Epoch 88/100\n",
      "404/404 [==============================] - 0s 212us/sample - loss: 7.1033 - mae: 1.9420 - mse: 7.1033 - val_loss: 20.5666 - val_mae: 2.8460 - val_mse: 20.5666\n",
      "Epoch 89/100\n",
      "404/404 [==============================] - 0s 242us/sample - loss: 6.6786 - mae: 1.8715 - mse: 6.6786 - val_loss: 21.1008 - val_mae: 2.9221 - val_mse: 21.1008\n",
      "Epoch 90/100\n",
      "404/404 [==============================] - 0s 127us/sample - loss: 6.6528 - mae: 1.8491 - mse: 6.6528 - val_loss: 19.1353 - val_mae: 2.7401 - val_mse: 19.1353\n",
      "Epoch 91/100\n",
      "404/404 [==============================] - 0s 291us/sample - loss: 7.2912 - mae: 1.9550 - mse: 7.2912 - val_loss: 20.7080 - val_mae: 2.8920 - val_mse: 20.7080\n",
      "Epoch 92/100\n",
      "404/404 [==============================] - 0s 150us/sample - loss: 6.3203 - mae: 1.8733 - mse: 6.3203 - val_loss: 19.4484 - val_mae: 2.8440 - val_mse: 19.4484\n",
      "Epoch 93/100\n",
      "404/404 [==============================] - 0s 92us/sample - loss: 6.8554 - mae: 1.9038 - mse: 6.8554 - val_loss: 20.6973 - val_mae: 2.8653 - val_mse: 20.6973\n",
      "Epoch 94/100\n",
      "404/404 [==============================] - 0s 420us/sample - loss: 6.5185 - mae: 1.8552 - mse: 6.5185 - val_loss: 19.2079 - val_mae: 2.7139 - val_mse: 19.2079\n",
      "Epoch 95/100\n",
      "404/404 [==============================] - 0s 249us/sample - loss: 6.6715 - mae: 1.8606 - mse: 6.6715 - val_loss: 23.5587 - val_mae: 3.0853 - val_mse: 23.5587\n",
      "Epoch 96/100\n",
      "404/404 [==============================] - 0s 74us/sample - loss: 6.7331 - mae: 1.8510 - mse: 6.7331 - val_loss: 20.9073 - val_mae: 2.8514 - val_mse: 20.9073\n",
      "Epoch 97/100\n",
      "404/404 [==============================] - 0s 295us/sample - loss: 6.5907 - mae: 1.8517 - mse: 6.5907 - val_loss: 21.8256 - val_mae: 3.0603 - val_mse: 21.8256\n",
      "Epoch 98/100\n",
      "404/404 [==============================] - 0s 215us/sample - loss: 6.7680 - mae: 1.8916 - mse: 6.7680 - val_loss: 19.5980 - val_mae: 2.8538 - val_mse: 19.5980\n",
      "Epoch 99/100\n",
      "404/404 [==============================] - 0s 119us/sample - loss: 6.9154 - mae: 1.9019 - mse: 6.9154 - val_loss: 18.4429 - val_mae: 2.6941 - val_mse: 18.4429\n",
      "Epoch 100/100\n",
      "404/404 [==============================] - 0s 290us/sample - loss: 6.5396 - mae: 1.8479 - mse: 6.5396 - val_loss: 19.0113 - val_mae: 2.7274 - val_mse: 19.0113\n"
     ]
    }
   ],
   "source": [
    "results = model.fit(X_train, y_train, epochs = 100, \n",
    "                   validation_data = (X_test, y_test))"
   ]
  },
  {
   "cell_type": "markdown",
   "metadata": {},
   "source": [
    "### **Use the history object that is returned from model.fit to make graphs of the model's loss or train/validation accuracies by epoch.**"
   ]
  },
  {
   "cell_type": "code",
   "execution_count": 14,
   "metadata": {},
   "outputs": [],
   "source": [
    "import seaborn as sns\n",
    "import matplotlib.pyplot as plt"
   ]
  },
  {
   "cell_type": "code",
   "execution_count": 15,
   "metadata": {},
   "outputs": [
    {
     "data": {
      "text/plain": [
       "dict_keys(['loss', 'mae', 'mse', 'val_loss', 'val_mae', 'val_mse'])"
      ]
     },
     "execution_count": 15,
     "metadata": {},
     "output_type": "execute_result"
    }
   ],
   "source": [
    "results.history.keys()"
   ]
  },
  {
   "cell_type": "code",
   "execution_count": 16,
   "metadata": {},
   "outputs": [
    {
     "data": {
      "image/png": "[encoded data removed]",
      "text/plain": [
       "<Figure size 432x288 with 1 Axes>"
      ]
     },
     "metadata": {
      "needs_background": "light"
     },
     "output_type": "display_data"
    }
   ],
   "source": [
    "sns.lineplot(range(100), results.history['loss']);\n",
    "sns.lineplot(range(100), results.history['val_loss']);\n",
    "plt.title('Model Loss')\n",
    "plt.ylabel('Loss')\n",
    "plt.xlabel('Epoch')\n",
    "plt.legend(['Train', 'Test'], loc='upper right')\n",
    "plt.show()"
   ]
  },
  {
   "cell_type": "markdown",
   "metadata": {},
   "source": [
    "### **Run this same data through a linear regression model. Which achieves higher accuracy?**"
   ]
  },
  {
   "cell_type": "code",
   "execution_count": 17,
   "metadata": {},
   "outputs": [
    {
     "data": {
      "text/plain": [
       "LinearRegression(copy_X=True, fit_intercept=True, n_jobs=None, normalize=False)"
      ]
     },
     "execution_count": 17,
     "metadata": {},
     "output_type": "execute_result"
    }
   ],
   "source": [
    "from sklearn.linear_model import LinearRegression\n",
    "from sklearn.metrics import mean_squared_error\n",
    "\n",
    "\n",
    "model2 = LinearRegression()\n",
    "model2.fit(X_train, y_train)"
   ]
  },
  {
   "cell_type": "code",
   "execution_count": 18,
   "metadata": {},
   "outputs": [
    {
     "name": "stdout",
     "output_type": "stream",
     "text": [
      "----Train----\n",
      "training data linear regression : 22.00480083834814\n",
      "training data neural network : 5.9898606158665535\n",
      "----Test----\n",
      "test data linear regression : 23.19559925642293\n",
      "test data neural network : 19.011328485598636\n"
     ]
    }
   ],
   "source": [
    "print('----Train----')\n",
    "print(f'training data linear regression : {mean_squared_error(model2.predict(X_train), y_train)}')\n",
    "print(f'training data neural network : {mean_squared_error(model.predict(X_train), y_train)}')\n",
    "print('----Test----')\n",
    "print(f'test data linear regression : {mean_squared_error(model2.predict(X_test), y_test)}')\n",
    "print(f'test data neural network : { mean_squared_error(model.predict(X_test), y_test)}')"
   ]
  },
  {
   "cell_type": "markdown",
   "metadata": {
    "colab_type": "text",
    "id": "SfcFnOONyuNm"
   },
   "source": [
    "## Use the Keras Library to build an image recognition network using the Fashion-MNIST dataset (also comes with keras)\n",
    "\n",
    "- Load and preprocess the image data similar to how we preprocessed the MNIST data in class.\n",
    "- Make sure to one-hot encode your category labels\n",
    "- The number of nodes in your output layer should equal the number of classes you want to predict for Fashion-MNIST.\n",
    "- Try different hyperparameters. What is the highest accuracy that you are able to achieve.\n",
    "- Use the history object that is returned from model.fit to make graphs of the model's loss or train/validation accuracies by epoch. \n",
    "- Remember that neural networks fall prey to randomness so you may need to run your model multiple times (or use Cross Validation) in order to tell if a change to a hyperparameter is truly producing better results."
   ]
  },
  {
   "cell_type": "markdown",
   "metadata": {
    "colab": {},
    "colab_type": "code",
    "id": "szi6-IpuzaH1"
   },
   "source": [
    "### **Load and preprocess the image data similar to how we preprocessed the MNIST data in class.**"
   ]
  },
  {
   "cell_type": "code",
   "execution_count": 19,
   "metadata": {},
   "outputs": [],
   "source": [
    "from tensorflow import keras\n",
    "from tensorflow.keras.datasets import fashion_mnist"
   ]
  },
  {
   "cell_type": "code",
   "execution_count": 20,
   "metadata": {},
   "outputs": [],
   "source": [
    "(train_images, train_labels), (test_images, test_labels) = fashion_mnist.load_data()"
   ]
  },
  {
   "cell_type": "code",
   "execution_count": 21,
   "metadata": {},
   "outputs": [],
   "source": [
    "# Normalize Our Data\n",
    "X_train = train_images / 255\n",
    "X_test = test_images / 25"
   ]
  },
  {
   "cell_type": "code",
   "execution_count": 22,
   "metadata": {},
   "outputs": [
    {
     "data": {
      "text/plain": [
       "((60000, 28, 28), (60000,), (10000, 28, 28), (10000,))"
      ]
     },
     "execution_count": 22,
     "metadata": {},
     "output_type": "execute_result"
    }
   ],
   "source": [
    "X_train.shape, train_labels.shape, X_test.shape, test_labels.shape"
   ]
  },
  {
   "cell_type": "markdown",
   "metadata": {},
   "source": [
    "### **Make sure to one-hot encode your category labels**"
   ]
  },
  {
   "cell_type": "code",
   "execution_count": 23,
   "metadata": {},
   "outputs": [],
   "source": [
    "num_classes = 10\n",
    "y_train = keras.utils.to_categorical(train_labels, num_classes) #keras encoding here\n",
    "y_test = keras.utils.to_categorical(test_labels, num_classes)"
   ]
  },
  {
   "cell_type": "code",
   "execution_count": 24,
   "metadata": {},
   "outputs": [
    {
     "data": {
      "image/png": "[encoded data removed]",
      "text/plain": [
       "<Figure size 720x720 with 25 Axes>"
      ]
     },
     "metadata": {},
     "output_type": "display_data"
    }
   ],
   "source": [
    "plt.figure(figsize=(10,10))\n",
    "for i in range(25):\n",
    "    plt.subplot(5,5,i+1)\n",
    "    plt.xticks([])\n",
    "    plt.yticks([])\n",
    "    plt.grid(False)\n",
    "    plt.imshow(X_train[i], cmap=plt.cm.binary)\n",
    "plt.show()"
   ]
  },
  {
   "cell_type": "markdown",
   "metadata": {},
   "source": [
    "### **The number of nodes in your output layer should equal the number of classes you want to predict for Fashion-MNIST.**"
   ]
  },
  {
   "cell_type": "code",
   "execution_count": 25,
   "metadata": {},
   "outputs": [],
   "source": [
    "model = Sequential()\n",
    "model.add(Flatten(input_shape=(28,28))) #images for 2 dimensions (after number of observations for input shape)\n",
    "model.add(Dense(128, activation='relu'))\n",
    "model.add(Dense(10, activation=\"softmax\")) #always last layer before compile model and only classification"
   ]
  },
  {
   "cell_type": "code",
   "execution_count": 26,
   "metadata": {},
   "outputs": [],
   "source": [
    "model.compile(loss='categorical_crossentropy', optimizer='adam', metrics=['accuracy'])"
   ]
  },
  {
   "cell_type": "code",
   "execution_count": 27,
   "metadata": {},
   "outputs": [
    {
     "name": "stdout",
     "output_type": "stream",
     "text": [
      "WARNING:tensorflow:From /Applications/anaconda3/lib/python3.7/site-packages/tensorflow/python/ops/math_grad.py:1250: add_dispatch_support.<locals>.wrapper (from tensorflow.python.ops.array_ops) is deprecated and will be removed in a future version.\n",
      "Instructions for updating:\n",
      "Use tf.where in 2.0, which has the same broadcast rule as np.where\n",
      "Train on 60000 samples, validate on 10000 samples\n",
      "Epoch 1/10\n",
      "60000/60000 [==============================] - 10s 161us/sample - loss: 0.4963 - accuracy: 0.8249 - val_loss: 1.6941 - val_accuracy: 0.8395\n",
      "Epoch 2/10\n",
      "60000/60000 [==============================] - 10s 173us/sample - loss: 0.3737 - accuracy: 0.8644 - val_loss: 1.4712 - val_accuracy: 0.8546\n",
      "Epoch 3/10\n",
      "60000/60000 [==============================] - 14s 233us/sample - loss: 0.3372 - accuracy: 0.8762 - val_loss: 1.5190 - val_accuracy: 0.8535\n",
      "Epoch 4/10\n",
      "60000/60000 [==============================] - 9s 150us/sample - loss: 0.3127 - accuracy: 0.8849 - val_loss: 1.7994 - val_accuracy: 0.8383\n",
      "Epoch 5/10\n",
      "60000/60000 [==============================] - 8s 132us/sample - loss: 0.2926 - accuracy: 0.8914 - val_loss: 1.4222 - val_accuracy: 0.8608\n",
      "Epoch 6/10\n",
      "60000/60000 [==============================] - 10s 168us/sample - loss: 0.2792 - accuracy: 0.8960 - val_loss: 1.4372 - val_accuracy: 0.8642\n",
      "Epoch 7/10\n",
      "60000/60000 [==============================] - 9s 144us/sample - loss: 0.2676 - accuracy: 0.9006 - val_loss: 1.5067 - val_accuracy: 0.8601\n",
      "Epoch 8/10\n",
      "60000/60000 [==============================] - 9s 142us/sample - loss: 0.2572 - accuracy: 0.9043 - val_loss: 1.7548 - val_accuracy: 0.8467\n",
      "Epoch 9/10\n",
      "60000/60000 [==============================] - 9s 147us/sample - loss: 0.2475 - accuracy: 0.9075 - val_loss: 1.2654 - val_accuracy: 0.8771\n",
      "Epoch 10/10\n",
      "60000/60000 [==============================] - 9s 146us/sample - loss: 0.2380 - accuracy: 0.9114 - val_loss: 1.5495 - val_accuracy: 0.8562\n"
     ]
    }
   ],
   "source": [
    "results = model.fit(X_train, y_train, epochs=10, validation_data =(X_test, y_test))"
   ]
  },
  {
   "cell_type": "code",
   "execution_count": 28,
   "metadata": {},
   "outputs": [
    {
     "name": "stdout",
     "output_type": "stream",
     "text": [
      "60000/60000 [==============================] - 3s 57us/sample - loss: 0.2378 - accuracy: 0.9114\n"
     ]
    },
    {
     "data": {
      "text/plain": [
       "[0.2377637138148149, 0.91135]"
      ]
     },
     "execution_count": 28,
     "metadata": {},
     "output_type": "execute_result"
    }
   ],
   "source": [
    "model.evaluate(X_train, y_train)"
   ]
  },
  {
   "cell_type": "code",
   "execution_count": 29,
   "metadata": {},
   "outputs": [
    {
     "name": "stdout",
     "output_type": "stream",
     "text": [
      "10000/10000 [==============================] - 1s 70us/sample - loss: 1.5495 - accuracy: 0.8562\n"
     ]
    },
    {
     "data": {
      "text/plain": [
       "[1.549465855652839, 0.8562]"
      ]
     },
     "execution_count": 29,
     "metadata": {},
     "output_type": "execute_result"
    }
   ],
   "source": [
    "model.evaluate(X_test, y_test)"
   ]
  },
  {
   "cell_type": "markdown",
   "metadata": {},
   "source": [
    "### **Use the history object that is returned from model.fit to make graphs of the model's loss or train/validation accuracies by epoch.**"
   ]
  },
  {
   "cell_type": "code",
   "execution_count": 30,
   "metadata": {},
   "outputs": [
    {
     "data": {
      "text/plain": [
       "dict_keys(['loss', 'accuracy', 'val_loss', 'val_accuracy'])"
      ]
     },
     "execution_count": 30,
     "metadata": {},
     "output_type": "execute_result"
    }
   ],
   "source": [
    "results.history.keys()"
   ]
  },
  {
   "cell_type": "code",
   "execution_count": 31,
   "metadata": {},
   "outputs": [
    {
     "data": {
      "image/png": "[encoded data removed]",
      "text/plain": [
       "<Figure size 432x288 with 1 Axes>"
      ]
     },
     "metadata": {
      "needs_background": "light"
     },
     "output_type": "display_data"
    }
   ],
   "source": [
    "sns.lineplot(range(10), results.history['loss']);\n",
    "sns.lineplot(range(10), results.history['val_loss']);\n",
    "plt.title('Model Loss')\n",
    "plt.ylabel('Loss')\n",
    "plt.xlabel('Epoch')\n",
    "plt.legend(['Train', 'Test'], loc='upper right')\n",
    "plt.show()"
   ]
  },
  {
   "cell_type": "code",
   "execution_count": 32,
   "metadata": {},
   "outputs": [],
   "source": [
    "import numpy as np"
   ]
  },
  {
   "cell_type": "code",
   "execution_count": 33,
   "metadata": {},
   "outputs": [],
   "source": [
    "predictions = model.predict(np.array(X_test))"
   ]
  },
  {
   "cell_type": "code",
   "execution_count": 34,
   "metadata": {},
   "outputs": [
    {
     "data": {
      "text/plain": [
       "array([0.0000000e+00, 0.0000000e+00, 0.0000000e+00, 0.0000000e+00,\n",
       "       0.0000000e+00, 0.0000000e+00, 0.0000000e+00, 5.0621953e-36,\n",
       "       0.0000000e+00, 1.0000000e+00], dtype=float32)"
      ]
     },
     "execution_count": 34,
     "metadata": {},
     "output_type": "execute_result"
    }
   ],
   "source": [
    "predictions[0] #9 is predicted "
   ]
  },
  {
   "cell_type": "code",
   "execution_count": 35,
   "metadata": {},
   "outputs": [
    {
     "data": {
      "text/plain": [
       "9"
      ]
     },
     "execution_count": 35,
     "metadata": {},
     "output_type": "execute_result"
    }
   ],
   "source": [
    "np.argmax(predictions[0])"
   ]
  },
  {
   "cell_type": "code",
   "execution_count": 36,
   "metadata": {},
   "outputs": [
    {
     "data": {
      "text/plain": [
       "array([0., 0., 0., 0., 0., 0., 0., 0., 0., 1.], dtype=float32)"
      ]
     },
     "execution_count": 36,
     "metadata": {},
     "output_type": "execute_result"
    }
   ],
   "source": [
    "y_test[0] #and we get 9"
   ]
  },
  {
   "cell_type": "markdown",
   "metadata": {
    "colab_type": "text",
    "id": "zv_3xNMjzdLI"
   },
   "source": [
    "## Stretch Goals:\n",
    "\n",
    "- Use Hyperparameter Tuning to make the accuracy of your models as high as possible. (error as low as possible)\n",
    "- Use Cross Validation techniques to get more consistent results with your model.\n",
    "- Use GridSearchCV to try different combinations of hyperparameters. \n",
    "- Start looking into other types of Keras layers for CNNs and RNNs maybe try and build a CNN model for fashion-MNIST to see how the results compare."
   ]
  },
  {
   "cell_type": "markdown",
   "metadata": {},
   "source": [
    "https://mlfromscratch.com/gridsearch-keras-sklearn/#/\n",
    "https://github.com/lakshayg/tensorflow-build"
   ]
  },
  {
   "cell_type": "code",
   "execution_count": 37,
   "metadata": {},
   "outputs": [],
   "source": [
    "from tensorflow.keras.layers import Conv2D, MaxPooling2D\n",
    "from sklearn.model_selection import GridSearchCV, RandomizedSearchCV\n",
    "from tensorflow.keras.wrappers.scikit_learn import KerasClassifier"
   ]
  },
  {
   "cell_type": "code",
   "execution_count": 38,
   "metadata": {},
   "outputs": [],
   "source": [
    "# LOAD DATA\n",
    "(x_train, y_train), (x_test, y_test) = fashion_mnist.load_data()\n",
    "\n",
    "# PREPROCESSING\n",
    "def preprocess_mnist(x_train, y_train, x_test, y_test):\n",
    "    # Normalizing all images of 28x28 pixels\n",
    "    x_train = x_train.reshape(x_train.shape[0], 28, 28, 1)\n",
    "    x_test = x_test.reshape(x_test.shape[0], 28, 28, 1)\n",
    "    input_shape = (28, 28, 1)\n",
    "    \n",
    "    # Float values for division\n",
    "    x_train = x_train.astype('float32')\n",
    "    x_test = x_test.astype('float32')\n",
    "    \n",
    "    # Normalizing the RGB codes by dividing it to the max RGB value\n",
    "    x_train /= 255\n",
    "    x_test /= 255\n",
    "    \n",
    "    # Categorical y values\n",
    "    y_train = keras.utils.to_categorical(y_train)\n",
    "    y_test= keras.utils.to_categorical(y_test)\n",
    "    \n",
    "    return x_train, y_train, x_test, y_test, input_shape\n",
    "    \n",
    "X_train, y_train, X_test, y_test, input_shape = preprocess_mnist(x_train, y_train, x_test, y_test)\n"
   ]
  },
  {
   "cell_type": "code",
   "execution_count": 39,
   "metadata": {},
   "outputs": [],
   "source": [
    "# Readying neural network model\n",
    "def build_cnn(activation = 'relu',\n",
    "              dropout_rate = 0.2,\n",
    "              optimizer = 'adam'):\n",
    "    model = Sequential()\n",
    "    \n",
    "    model.add(Conv2D(32, kernel_size=(3, 3),\n",
    "              activation=activation,\n",
    "              input_shape=input_shape))\n",
    "    model.add(Conv2D(64, (3, 3), activation=activation))\n",
    "    model.add(MaxPooling2D(pool_size=(2, 2)))\n",
    "    model.add(Dropout(dropout_rate))\n",
    "    model.add(Flatten())\n",
    "    model.add(Dense(128, activation=activation))\n",
    "    model.add(Dropout(dropout_rate))\n",
    "    model.add(Dense(10, activation='softmax'))\n",
    "    \n",
    "    model.compile(\n",
    "        loss='categorical_crossentropy', \n",
    "        optimizer=optimizer, \n",
    "        metrics=['accuracy']\n",
    "    )\n",
    "    \n",
    "    return model"
   ]
  },
  {
   "cell_type": "code",
   "execution_count": 40,
   "metadata": {},
   "outputs": [],
   "source": [
    "def algorithm_pipeline(X_train_data, X_test_data, y_train_data, y_test_data, \n",
    "                       model, param_grid, cv=10, scoring_fit='neg_mean_squared_error',\n",
    "                       do_probabilities = False):\n",
    "    gs = GridSearchCV(\n",
    "        estimator=model,\n",
    "        param_grid=param_grid, \n",
    "        cv=cv, \n",
    "        n_jobs=-1, \n",
    "        scoring=scoring_fit,\n",
    "        verbose=2\n",
    "    )\n",
    "    fitted_model = gs.fit(X_train_data, y_train_data)\n",
    "    \n",
    "    if do_probabilities:\n",
    "      pred = fitted_model.predict_proba(X_test_data)\n",
    "    else:\n",
    "      pred = fitted_model.predict(X_test_data)\n",
    "    \n",
    "    return fitted_model, pred"
   ]
  },
  {
   "cell_type": "code",
   "execution_count": 42,
   "metadata": {},
   "outputs": [
    {
     "name": "stdout",
     "output_type": "stream",
     "text": [
      "Fitting 5 folds for each of 3 candidates, totalling 15 fits\n"
     ]
    },
    {
     "name": "stderr",
     "output_type": "stream",
     "text": [
      "[Parallel(n_jobs=-1)]: Using backend LokyBackend with 4 concurrent workers.\n",
      "[Parallel(n_jobs=-1)]: Done  15 out of  15 | elapsed: 30.4min finished\n"
     ]
    },
    {
     "name": "stdout",
     "output_type": "stream",
     "text": [
      "Train on 60000 samples\n",
      "Epoch 1/3\n",
      "60000/60000 [==============================] - 72s 1ms/sample - loss: 0.4492 - accuracy: 0.8410\n",
      "Epoch 2/3\n",
      "60000/60000 [==============================] - 71s 1ms/sample - loss: 0.2863 - accuracy: 0.8972\n",
      "Epoch 3/3\n",
      "60000/60000 [==============================] - 71s 1ms/sample - loss: 0.2405 - accuracy: 0.9130\n",
      "-0.2450875526281989\n",
      "{'batch_size': 128, 'epochs': 3}\n"
     ]
    }
   ],
   "source": [
    "param_grid = {\n",
    "              'epochs':[1,2,3],\n",
    "              'batch_size':[128]\n",
    "              #'epochs' :              [100,150,200],\n",
    "              #'batch_size' :          [32, 128],\n",
    "              #'optimizer' :           ['Adam', 'Nadam'],\n",
    "              #'dropout_rate' :        [0.2, 0.3],\n",
    "              #'activation' :          ['relu', 'elu']\n",
    "             }\n",
    "\n",
    "model = KerasClassifier(build_fn = build_cnn)\n",
    "\n",
    "model, pred = algorithm_pipeline(X_train, X_test, y_train, y_test, model, \n",
    "                                        param_grid, cv=5, scoring_fit='neg_log_loss')\n",
    "\n",
    "print(model.best_score_)\n",
    "print(model.best_params_)"
   ]
  }
 ],
 "metadata": {
  "colab": {
   "name": "LS_DS_433_Keras_Assignment.ipynb",
   "provenance": [],
   "version": "0.3.2"
  },
  "kernelspec": {
   "display_name": "Python 3",
   "language": "python",
   "name": "python3"
  },
  "language_info": {
   "codemirror_mode": {
    "name": "ipython",
    "version": 3
   },
   "file_extension": ".py",
   "mimetype": "text/x-python",
   "name": "python",
   "nbconvert_exporter": "python",
   "pygments_lexer": "ipython3",
   "version": "3.7.6"
  }
 },
 "nbformat": 4,
 "nbformat_minor": 4
}
