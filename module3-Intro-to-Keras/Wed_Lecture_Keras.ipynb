{
  "nbformat": 4,
  "nbformat_minor": 0,
  "metadata": {
    "colab": {
      "name": "LS_DS_433_Keras_Lecture.ipynb",
      "version": "0.3.2",
      "provenance": [],
      "collapsed_sections": []
    },
    "kernelspec": {
      "display_name": "U4-S2-NNF (Python 3.7)",
      "language": "python",
      "name": "u4-s2-nnf"
    },
    "language_info": {
      "codemirror_mode": {
        "name": "ipython",
        "version": 3
      },
      "file_extension": ".py",
      "mimetype": "text/x-python",
      "name": "python",
      "nbconvert_exporter": "python",
      "pygments_lexer": "ipython3",
      "version": "3.7.3"
    }
  },
  "cells": [
    {
      "cell_type": "markdown",
      "metadata": {
        "colab_type": "text",
        "id": "HJzTIkYAsLxw"
      },
      "source": [
        "<img align=\"left\" src=\"https://lever-client-logos.s3.amazonaws.com/864372b1-534c-480e-acd5-9711f850815c-1524247202159.png\" width=200>\n",
        "<br></br>\n",
        "\n",
        "# Neural Network Frameworks (Keras)\n",
        "\n",
        "## *Data Science Unit 4 Sprint 2 Lesson 3*\n",
        "\n",
        "# Lets Use Libraries!\n",
        "\n",
        "The objective of the last two days has been to familiarize you with the fundamentals of neural networks: terminology, structure of networks, forward propagation, error/cost functions, backpropagation, epochs, and gradient descent. We have tried to reinforce these topics by requiring to you code some of the simplest neural networks by hand including Perceptrons (single node neural networks) and Multi-Layer Perceptrons also known as Feed-Forward Neural Networks. Continuing to do things by hand would not be the best use of our limited time. You're ready to graduate from doing things by hand and start using some powerful libraries to build cutting-edge predictive models. "
      ]
    },
    {
      "cell_type": "markdown",
      "metadata": {
        "colab_type": "text",
        "id": "MFYCXc5KdkPE"
      },
      "source": [
        "# Keras\n",
        "\n",
        "> \"Keras is a high-level neural networks API, written in Python and capable of running on top of TensorFlow, CNTK, or Theano. It was developed with a focus on enabling fast experimentation. Being able to go from idea to result with the least possible delay is key to doing good research. Use Keras if you need a deep learning library that:\n",
        "\n",
        "> Allows for easy and fast prototyping (through user friendliness, modularity, and extensibility).\n",
        "Supports both convolutional networks and recurrent networks, as well as combinations of the two.\n",
        "Runs seamlessly on CPU and GPU.\" \n",
        "\n",
        "## Installation\n",
        "\n",
        "The Keras API is particularly straightforward and it already comes pre-installed on Google Colab! \n",
        "\n",
        "<img src=\"http://www.ryanleeallred.com/wp-content/uploads/2019/04/pip-freeze-keras.png\" width=\"300\">\n",
        "\n",
        "If you're not on Google Colab you'll need to install one of the \"backend\" engines that Keras runs on top of. I recommend Tensorflow:\n",
        "\n",
        "> `pip install tensorflow`\n",
        "\n",
        "Google Colab does not have the latest Tensorflow 2.0 installation, so you'll need to upgrade to that if you want to experiment with it. However Tensorflow 2.0 was just released last month and is still in \"alpha\" so if you **really** want to use the latest and greatest be prepared for odd bugs that you don't have control over every once in a while. <https://www.tensorflow.org/install/>"
      ]
    },
    {
      "cell_type": "code",
      "metadata": {
        "colab_type": "code",
        "id": "QEncs0SOsFMT",
        "colab": {},
        "outputId": "6c89161b-f0ed-4034-c54b-dc12437e3786"
      },
      "source": [
        "# Use pip freeze to see what packages/libraries your notebook has access to\n",
        "# !pip freeze\n",
        "\n",
        "import tensorflow\n",
        "tensorflow.__version__"
      ],
      "execution_count": 0,
      "outputs": [
        {
          "output_type": "execute_result",
          "data": {
            "text/plain": [
              "'1.14.0'"
            ]
          },
          "metadata": {
            "tags": []
          },
          "execution_count": 1
        }
      ]
    },
    {
      "cell_type": "markdown",
      "metadata": {
        "colab_type": "text",
        "id": "VxgUUpIKn54a"
      },
      "source": [
        "## Our First Keras Model - Perceptron, Batch epochs\n",
        "\n",
        "1) Load Data\n",
        "\n",
        "2) Define Model\n",
        "\n",
        "3) Compile Model\n",
        "\n",
        "4) Fit Model\n",
        "\n",
        "5) Evaluate Model"
      ]
    },
    {
      "cell_type": "markdown",
      "metadata": {
        "colab_type": "text",
        "id": "Md5D67XwqVAf"
      },
      "source": [
        "### Load Data\n",
        "\n",
        "Our life is going to be easier if our data is already cleaned up and numeric, so lets use this dataset from Jason Brownlee that is already numeric and has no column headers so we'll need to slice off the last column of data to act as our y values."
      ]
    },
    {
      "cell_type": "code",
      "metadata": {
        "colab_type": "code",
        "id": "bn09phMBpY1J",
        "colab": {}
      },
      "source": [
        "import pandas as pd\n",
        "\n",
        "url =\"https://raw.githubusercontent.com/jbrownlee/Datasets/master/pima-indians-diabetes.data.csv\"\n",
        "\n",
        "dataset = pd.read_csv(url, header=None)"
      ],
      "execution_count": 0,
      "outputs": []
    },
    {
      "cell_type": "code",
      "metadata": {
        "id": "cnCMi6lLcIA4",
        "colab_type": "code",
        "colab": {},
        "outputId": "1db24494-f62f-4036-92c4-5d66ddfbd794"
      },
      "source": [
        "dataset.head()"
      ],
      "execution_count": 0,
      "outputs": [
        {
          "output_type": "execute_result",
          "data": {
            "text/html": [
              "<div>\n",
              "<style scoped>\n",
              "    .dataframe tbody tr th:only-of-type {\n",
              "        vertical-align: middle;\n",
              "    }\n",
              "\n",
              "    .dataframe tbody tr th {\n",
              "        vertical-align: top;\n",
              "    }\n",
              "\n",
              "    .dataframe thead th {\n",
              "        text-align: right;\n",
              "    }\n",
              "</style>\n",
              "<table border=\"1\" class=\"dataframe\">\n",
              "  <thead>\n",
              "    <tr style=\"text-align: right;\">\n",
              "      <th></th>\n",
              "      <th>0</th>\n",
              "      <th>1</th>\n",
              "      <th>2</th>\n",
              "      <th>3</th>\n",
              "      <th>4</th>\n",
              "      <th>5</th>\n",
              "      <th>6</th>\n",
              "      <th>7</th>\n",
              "      <th>8</th>\n",
              "    </tr>\n",
              "  </thead>\n",
              "  <tbody>\n",
              "    <tr>\n",
              "      <th>0</th>\n",
              "      <td>6</td>\n",
              "      <td>148</td>\n",
              "      <td>72</td>\n",
              "      <td>35</td>\n",
              "      <td>0</td>\n",
              "      <td>33.6</td>\n",
              "      <td>0.627</td>\n",
              "      <td>50</td>\n",
              "      <td>1</td>\n",
              "    </tr>\n",
              "    <tr>\n",
              "      <th>1</th>\n",
              "      <td>1</td>\n",
              "      <td>85</td>\n",
              "      <td>66</td>\n",
              "      <td>29</td>\n",
              "      <td>0</td>\n",
              "      <td>26.6</td>\n",
              "      <td>0.351</td>\n",
              "      <td>31</td>\n",
              "      <td>0</td>\n",
              "    </tr>\n",
              "    <tr>\n",
              "      <th>2</th>\n",
              "      <td>8</td>\n",
              "      <td>183</td>\n",
              "      <td>64</td>\n",
              "      <td>0</td>\n",
              "      <td>0</td>\n",
              "      <td>23.3</td>\n",
              "      <td>0.672</td>\n",
              "      <td>32</td>\n",
              "      <td>1</td>\n",
              "    </tr>\n",
              "    <tr>\n",
              "      <th>3</th>\n",
              "      <td>1</td>\n",
              "      <td>89</td>\n",
              "      <td>66</td>\n",
              "      <td>23</td>\n",
              "      <td>94</td>\n",
              "      <td>28.1</td>\n",
              "      <td>0.167</td>\n",
              "      <td>21</td>\n",
              "      <td>0</td>\n",
              "    </tr>\n",
              "    <tr>\n",
              "      <th>4</th>\n",
              "      <td>0</td>\n",
              "      <td>137</td>\n",
              "      <td>40</td>\n",
              "      <td>35</td>\n",
              "      <td>168</td>\n",
              "      <td>43.1</td>\n",
              "      <td>2.288</td>\n",
              "      <td>33</td>\n",
              "      <td>1</td>\n",
              "    </tr>\n",
              "  </tbody>\n",
              "</table>\n",
              "</div>"
            ],
            "text/plain": [
              "   0    1   2   3    4     5      6   7  8\n",
              "0  6  148  72  35    0  33.6  0.627  50  1\n",
              "1  1   85  66  29    0  26.6  0.351  31  0\n",
              "2  8  183  64   0    0  23.3  0.672  32  1\n",
              "3  1   89  66  23   94  28.1  0.167  21  0\n",
              "4  0  137  40  35  168  43.1  2.288  33  1"
            ]
          },
          "metadata": {
            "tags": []
          },
          "execution_count": 3
        }
      ]
    },
    {
      "cell_type": "code",
      "metadata": {
        "colab_type": "code",
        "id": "FKuofD3Pogil",
        "outputId": "16c2f4fa-93c8-491d-b339-9f35f7918621",
        "colab": {
          "base_uri": "https://localhost:8080/",
          "height": 725
        }
      },
      "source": [
        "X = dataset.values[:,0:8]\n",
        "print(X.shape)\n",
        "print(X)"
      ],
      "execution_count": 0,
      "outputs": [
        {
          "output_type": "stream",
          "text": [
            "(768, 8)\n",
            "[[  6.    148.     72.    ...  33.6     0.627  50.   ]\n",
            " [  1.     85.     66.    ...  26.6     0.351  31.   ]\n",
            " [  8.    183.     64.    ...  23.3     0.672  32.   ]\n",
            " ...\n",
            " [  5.    121.     72.    ...  26.2     0.245  30.   ]\n",
            " [  1.    126.     60.    ...  30.1     0.349  47.   ]\n",
            " [  1.     93.     70.    ...  30.4     0.315  23.   ]]\n"
          ],
          "name": "stdout"
        }
      ]
    },
    {
      "cell_type": "code",
      "metadata": {
        "id": "iZQXnWYHcIBU",
        "colab_type": "code",
        "colab": {},
        "outputId": "49be7776-6d1f-4b29-e558-910c28f6186f"
      },
      "source": [
        "y = dataset.values[:,-1]\n",
        "print(y.shape)\n",
        "print(y)"
      ],
      "execution_count": 0,
      "outputs": [
        {
          "output_type": "stream",
          "text": [
            "(768,)\n",
            "[1. 0. 1. 0. 1. 0. 1. 0. 1. 1. 0. 1. 0. 1. 1. 1. 1. 1. 0. 1. 0. 0. 1. 1.\n",
            " 1. 1. 1. 0. 0. 0. 0. 1. 0. 0. 0. 0. 0. 1. 1. 1. 0. 0. 0. 1. 0. 1. 0. 0.\n",
            " 1. 0. 0. 0. 0. 1. 0. 0. 1. 0. 0. 0. 0. 1. 0. 0. 1. 0. 1. 0. 0. 0. 1. 0.\n",
            " 1. 0. 0. 0. 0. 0. 1. 0. 0. 0. 0. 0. 1. 0. 0. 0. 1. 0. 0. 0. 0. 1. 0. 0.\n",
            " 0. 0. 0. 1. 1. 0. 0. 0. 0. 0. 0. 0. 0. 1. 1. 1. 0. 0. 1. 1. 1. 0. 0. 0.\n",
            " 1. 0. 0. 0. 1. 1. 0. 0. 1. 1. 1. 1. 1. 0. 0. 0. 0. 0. 0. 0. 0. 0. 0. 1.\n",
            " 0. 0. 0. 0. 0. 0. 0. 0. 1. 0. 1. 1. 0. 0. 0. 1. 0. 0. 0. 0. 1. 1. 0. 0.\n",
            " 0. 0. 1. 1. 0. 0. 0. 1. 0. 1. 0. 1. 0. 0. 0. 0. 0. 1. 1. 1. 1. 1. 0. 0.\n",
            " 1. 1. 0. 1. 0. 1. 1. 1. 0. 0. 0. 0. 0. 0. 1. 1. 0. 1. 0. 0. 0. 1. 1. 1.\n",
            " 1. 0. 1. 1. 1. 1. 0. 0. 0. 0. 0. 1. 0. 0. 1. 1. 0. 0. 0. 1. 1. 1. 1. 0.\n",
            " 0. 0. 1. 1. 0. 1. 0. 0. 0. 0. 0. 0. 0. 0. 1. 1. 0. 0. 0. 1. 0. 1. 0. 0.\n",
            " 1. 0. 1. 0. 0. 1. 1. 0. 0. 0. 0. 0. 1. 0. 0. 0. 1. 0. 0. 1. 1. 0. 0. 1.\n",
            " 0. 0. 0. 1. 1. 1. 0. 0. 1. 0. 1. 0. 1. 1. 0. 1. 0. 0. 1. 0. 1. 1. 0. 0.\n",
            " 1. 0. 1. 0. 0. 1. 0. 1. 0. 1. 1. 1. 0. 0. 1. 0. 1. 0. 0. 0. 1. 0. 0. 0.\n",
            " 0. 1. 1. 1. 0. 0. 0. 0. 0. 0. 0. 0. 0. 1. 0. 0. 0. 0. 0. 1. 1. 1. 0. 1.\n",
            " 1. 0. 0. 1. 0. 0. 1. 0. 0. 1. 1. 0. 0. 0. 0. 1. 0. 0. 1. 0. 0. 0. 0. 0.\n",
            " 0. 0. 1. 1. 1. 0. 0. 1. 0. 0. 1. 0. 0. 1. 0. 1. 1. 0. 1. 0. 1. 0. 1. 0.\n",
            " 1. 1. 0. 0. 0. 0. 1. 1. 0. 1. 0. 1. 0. 0. 0. 0. 1. 1. 0. 1. 0. 1. 0. 0.\n",
            " 0. 0. 0. 1. 0. 0. 0. 0. 1. 0. 0. 1. 1. 1. 0. 0. 1. 0. 0. 1. 0. 0. 0. 1.\n",
            " 0. 0. 1. 0. 0. 0. 0. 0. 0. 0. 0. 0. 1. 0. 0. 0. 0. 0. 0. 0. 1. 0. 0. 0.\n",
            " 1. 0. 0. 0. 1. 1. 0. 0. 0. 0. 0. 0. 0. 1. 0. 0. 0. 0. 1. 0. 0. 0. 1. 0.\n",
            " 0. 0. 1. 0. 0. 0. 1. 0. 0. 0. 0. 1. 1. 0. 0. 0. 0. 0. 0. 1. 0. 0. 0. 0.\n",
            " 0. 0. 0. 0. 0. 0. 0. 1. 0. 0. 0. 1. 1. 1. 1. 0. 0. 1. 1. 0. 0. 0. 0. 0.\n",
            " 0. 0. 0. 0. 0. 0. 0. 0. 1. 1. 0. 0. 0. 0. 0. 0. 0. 1. 0. 0. 0. 0. 0. 0.\n",
            " 0. 1. 0. 1. 1. 0. 0. 0. 1. 0. 1. 0. 1. 0. 1. 0. 1. 0. 0. 1. 0. 0. 1. 0.\n",
            " 0. 0. 0. 1. 1. 0. 1. 0. 0. 0. 0. 1. 1. 0. 1. 0. 0. 0. 1. 1. 0. 0. 0. 0.\n",
            " 0. 0. 0. 0. 0. 0. 1. 0. 0. 0. 0. 1. 0. 0. 1. 0. 0. 0. 1. 0. 0. 0. 1. 1.\n",
            " 1. 0. 0. 0. 0. 0. 0. 1. 0. 0. 0. 1. 0. 1. 1. 1. 1. 0. 1. 1. 0. 0. 0. 0.\n",
            " 0. 0. 0. 1. 1. 0. 1. 0. 0. 1. 0. 1. 0. 0. 0. 0. 0. 1. 0. 1. 0. 1. 0. 1.\n",
            " 1. 0. 0. 0. 0. 1. 1. 0. 0. 0. 1. 0. 1. 1. 0. 0. 1. 0. 0. 1. 1. 0. 0. 1.\n",
            " 0. 0. 1. 0. 0. 0. 0. 0. 0. 0. 1. 1. 1. 0. 0. 0. 0. 0. 0. 1. 1. 0. 0. 1.\n",
            " 0. 0. 1. 0. 1. 1. 1. 0. 0. 1. 1. 1. 0. 1. 0. 1. 0. 1. 0. 0. 0. 0. 1. 0.]\n"
          ],
          "name": "stdout"
        }
      ]
    },
    {
      "cell_type": "markdown",
      "metadata": {
        "colab_type": "text",
        "id": "o0xMqOyTs5xt"
      },
      "source": [
        "### Define Model"
      ]
    },
    {
      "cell_type": "code",
      "metadata": {
        "colab_type": "code",
        "id": "Bp9USczrfu6M",
        "colab": {}
      },
      "source": [
        "from tensorflow.keras.models import Sequential\n",
        "from tensorflow.keras.layers import Dense\n",
        "import numpy as np\n",
        "\n",
        "np.random.seed(812)"
      ],
      "execution_count": 0,
      "outputs": []
    },
    {
      "cell_type": "markdown",
      "metadata": {
        "colab_type": "text",
        "id": "wAzHLg27thoN"
      },
      "source": [
        "I'll instantiate my model as a \"sequential\" model. This just means that I'm going to tell Keras what my model's architecture should be one layer at a time."
      ]
    },
    {
      "cell_type": "code",
      "metadata": {
        "colab_type": "code",
        "id": "DSNsL49Xp6KI",
        "colab": {}
      },
      "source": [
        "# https://keras.io/getting-started/sequential-model-guide/\n",
        "model = Sequential()"
      ],
      "execution_count": 0,
      "outputs": []
    },
    {
      "cell_type": "markdown",
      "metadata": {
        "colab_type": "text",
        "id": "ZCYX6QzJtvpG"
      },
      "source": [
        "Adding a \"Dense\" layer to our model is how we add \"vanilla\" perceptron-based layers to our neural network. These are also called \"fully-connected\" or \"densely-connected\" layers. They're used as a layer type in lots of other Neural Net Architectures but they're not referred to as perceptrons or multi-layer perceptrons very often in those situations even though that's what they are.\n",
        "\n",
        " > [\"Just your regular densely-connected NN layer.\"](https://keras.io/layers/core/)\n",
        " \n",
        " The first argument is how many neurons we want to have in that layer. To create a perceptron model we will just set it to 1. We will tell it that there will be 8 inputs coming into this layer from our dataset and set it to use the sigmoid activation function."
      ]
    },
    {
      "cell_type": "code",
      "metadata": {
        "colab_type": "code",
        "id": "GNzOLidxtvFa",
        "colab": {}
      },
      "source": [
        "model.add(Dense(1,input_dim=8,activation='sigmoid'))"
      ],
      "execution_count": 0,
      "outputs": []
    },
    {
      "cell_type": "markdown",
      "metadata": {
        "colab_type": "text",
        "id": "EnI3jwKMtBL2"
      },
      "source": [
        "### Compile Model\n",
        "Using binary_crossentropy as the loss function here is just telling keras that I'm doing binary classification so that it can use the appropriate loss function accordingly. If we were predicting non-binary categories we might assign something like `categorical_crossentropy`. We're also telling keras that we want it to report model accuracy as our main error metric for each epoch. We will also be able to see the overall accuracy once the model has finished training."
      ]
    },
    {
      "cell_type": "code",
      "metadata": {
        "colab_type": "code",
        "id": "qp6xwYaqurRO",
        "colab": {},
        "outputId": "82769364-df06-4ab8-eeab-ae7dea5e0cd7"
      },
      "source": [
        "model.compile(loss='binary_crossentropy', optimizer='adam', metrics=['accuracy'])"
      ],
      "execution_count": 0,
      "outputs": [
        {
          "output_type": "stream",
          "text": [
            "W0717 12:51:26.990810 4573779392 deprecation.py:323] From /Users/jonathansokoll/anaconda3/envs/U4-S2-NNF/lib/python3.7/site-packages/tensorflow/python/ops/nn_impl.py:180: add_dispatch_support.<locals>.wrapper (from tensorflow.python.ops.array_ops) is deprecated and will be removed in a future version.\n",
            "Instructions for updating:\n",
            "Use tf.where in 2.0, which has the same broadcast rule as np.where\n"
          ],
          "name": "stderr"
        }
      ]
    },
    {
      "cell_type": "code",
      "metadata": {
        "id": "yTGMN7LxcICQ",
        "colab_type": "code",
        "colab": {},
        "outputId": "f54c2dc7-0c27-45d2-ca8b-79610a9fd4f9"
      },
      "source": [
        "model.fit(X,y, epochs = 150)"
      ],
      "execution_count": 0,
      "outputs": [
        {
          "output_type": "stream",
          "text": [
            "Epoch 1/150\n",
            "768/768 [==============================] - 0s 159us/sample - loss: 50.4290 - acc: 0.6523\n",
            "Epoch 2/150\n",
            "768/768 [==============================] - 0s 32us/sample - loss: 46.1695 - acc: 0.6497\n",
            "Epoch 3/150\n",
            "768/768 [==============================] - 0s 35us/sample - loss: 42.4080 - acc: 0.6510\n",
            "Epoch 4/150\n",
            "768/768 [==============================] - 0s 35us/sample - loss: 39.0858 - acc: 0.6484\n",
            "Epoch 5/150\n",
            "768/768 [==============================] - 0s 31us/sample - loss: 36.2430 - acc: 0.6484\n",
            "Epoch 6/150\n",
            "768/768 [==============================] - 0s 32us/sample - loss: 33.8371 - acc: 0.6445\n",
            "Epoch 7/150\n",
            "768/768 [==============================] - 0s 31us/sample - loss: 31.7044 - acc: 0.6354\n",
            "Epoch 8/150\n",
            "768/768 [==============================] - 0s 34us/sample - loss: 29.7321 - acc: 0.6367\n",
            "Epoch 9/150\n",
            "768/768 [==============================] - 0s 32us/sample - loss: 27.8615 - acc: 0.6380\n",
            "Epoch 10/150\n",
            "768/768 [==============================] - 0s 32us/sample - loss: 26.1975 - acc: 0.6367\n",
            "Epoch 11/150\n",
            "768/768 [==============================] - 0s 31us/sample - loss: 24.5830 - acc: 0.6328\n",
            "Epoch 12/150\n",
            "768/768 [==============================] - 0s 38us/sample - loss: 23.0649 - acc: 0.6302\n",
            "Epoch 13/150\n",
            "768/768 [==============================] - 0s 38us/sample - loss: 21.6174 - acc: 0.6250\n",
            "Epoch 14/150\n",
            "768/768 [==============================] - 0s 35us/sample - loss: 20.2525 - acc: 0.6198\n",
            "Epoch 15/150\n",
            "768/768 [==============================] - 0s 38us/sample - loss: 18.9342 - acc: 0.6146\n",
            "Epoch 16/150\n",
            "768/768 [==============================] - 0s 34us/sample - loss: 17.6842 - acc: 0.6081\n",
            "Epoch 17/150\n",
            "768/768 [==============================] - 0s 31us/sample - loss: 16.4893 - acc: 0.6107\n",
            "Epoch 18/150\n",
            "768/768 [==============================] - 0s 32us/sample - loss: 15.3514 - acc: 0.6055\n",
            "Epoch 19/150\n",
            "768/768 [==============================] - 0s 33us/sample - loss: 14.2603 - acc: 0.6003\n",
            "Epoch 20/150\n",
            "768/768 [==============================] - 0s 32us/sample - loss: 13.2088 - acc: 0.6016\n",
            "Epoch 21/150\n",
            "768/768 [==============================] - 0s 36us/sample - loss: 12.2133 - acc: 0.5964\n",
            "Epoch 22/150\n",
            "768/768 [==============================] - 0s 35us/sample - loss: 11.2733 - acc: 0.5938\n",
            "Epoch 23/150\n",
            "768/768 [==============================] - 0s 33us/sample - loss: 10.3822 - acc: 0.5859\n",
            "Epoch 24/150\n",
            "768/768 [==============================] - 0s 37us/sample - loss: 9.5476 - acc: 0.5833\n",
            "Epoch 25/150\n",
            "768/768 [==============================] - 0s 38us/sample - loss: 8.8237 - acc: 0.5846\n",
            "Epoch 26/150\n",
            "768/768 [==============================] - 0s 36us/sample - loss: 8.0890 - acc: 0.5807\n",
            "Epoch 27/150\n",
            "768/768 [==============================] - 0s 31us/sample - loss: 7.4372 - acc: 0.5703\n",
            "Epoch 28/150\n",
            "768/768 [==============================] - 0s 35us/sample - loss: 6.8760 - acc: 0.5638\n",
            "Epoch 29/150\n",
            "768/768 [==============================] - 0s 35us/sample - loss: 6.3816 - acc: 0.5664\n",
            "Epoch 30/150\n",
            "768/768 [==============================] - 0s 33us/sample - loss: 5.9467 - acc: 0.5651\n",
            "Epoch 31/150\n",
            "768/768 [==============================] - 0s 36us/sample - loss: 5.5707 - acc: 0.5755\n",
            "Epoch 32/150\n",
            "768/768 [==============================] - 0s 29us/sample - loss: 5.2359 - acc: 0.5742\n",
            "Epoch 33/150\n",
            "768/768 [==============================] - 0s 35us/sample - loss: 4.9448 - acc: 0.5716\n",
            "Epoch 34/150\n",
            "768/768 [==============================] - 0s 39us/sample - loss: 4.7003 - acc: 0.5677\n",
            "Epoch 35/150\n",
            "768/768 [==============================] - 0s 36us/sample - loss: 4.4906 - acc: 0.5573\n",
            "Epoch 36/150\n",
            "768/768 [==============================] - 0s 36us/sample - loss: 4.3099 - acc: 0.5586\n",
            "Epoch 37/150\n",
            "768/768 [==============================] - 0s 35us/sample - loss: 4.1519 - acc: 0.5586\n",
            "Epoch 38/150\n",
            "768/768 [==============================] - 0s 35us/sample - loss: 4.0148 - acc: 0.5495\n",
            "Epoch 39/150\n",
            "768/768 [==============================] - 0s 34us/sample - loss: 3.9237 - acc: 0.5339\n",
            "Epoch 40/150\n",
            "768/768 [==============================] - 0s 39us/sample - loss: 3.7855 - acc: 0.5482\n",
            "Epoch 41/150\n",
            "768/768 [==============================] - 0s 34us/sample - loss: 3.6888 - acc: 0.5547\n",
            "Epoch 42/150\n",
            "768/768 [==============================] - 0s 37us/sample - loss: 3.5914 - acc: 0.5456\n",
            "Epoch 43/150\n",
            "768/768 [==============================] - 0s 37us/sample - loss: 3.4956 - acc: 0.5547\n",
            "Epoch 44/150\n",
            "768/768 [==============================] - 0s 41us/sample - loss: 3.4114 - acc: 0.5560\n",
            "Epoch 45/150\n",
            "768/768 [==============================] - 0s 34us/sample - loss: 3.3214 - acc: 0.5417\n",
            "Epoch 46/150\n",
            "768/768 [==============================] - 0s 43us/sample - loss: 3.2272 - acc: 0.5508\n",
            "Epoch 47/150\n",
            "768/768 [==============================] - 0s 35us/sample - loss: 3.1481 - acc: 0.5547\n",
            "Epoch 48/150\n",
            "768/768 [==============================] - 0s 42us/sample - loss: 3.0759 - acc: 0.5417\n",
            "Epoch 49/150\n",
            "768/768 [==============================] - 0s 43us/sample - loss: 2.9873 - acc: 0.5586\n",
            "Epoch 50/150\n",
            "768/768 [==============================] - 0s 37us/sample - loss: 2.9109 - acc: 0.5599\n",
            "Epoch 51/150\n",
            "768/768 [==============================] - 0s 35us/sample - loss: 2.8381 - acc: 0.5638\n",
            "Epoch 52/150\n",
            "768/768 [==============================] - 0s 37us/sample - loss: 2.7711 - acc: 0.5651\n",
            "Epoch 53/150\n",
            "768/768 [==============================] - 0s 43us/sample - loss: 2.6971 - acc: 0.5638\n",
            "Epoch 54/150\n",
            "768/768 [==============================] - 0s 36us/sample - loss: 2.6298 - acc: 0.5638\n",
            "Epoch 55/150\n",
            "768/768 [==============================] - 0s 34us/sample - loss: 2.5836 - acc: 0.5638\n",
            "Epoch 56/150\n",
            "768/768 [==============================] - 0s 32us/sample - loss: 2.5186 - acc: 0.5716\n",
            "Epoch 57/150\n",
            "768/768 [==============================] - 0s 35us/sample - loss: 2.4399 - acc: 0.5664\n",
            "Epoch 58/150\n",
            "768/768 [==============================] - 0s 32us/sample - loss: 2.3941 - acc: 0.5586\n",
            "Epoch 59/150\n",
            "768/768 [==============================] - 0s 34us/sample - loss: 2.3362 - acc: 0.5625\n",
            "Epoch 60/150\n",
            "768/768 [==============================] - 0s 31us/sample - loss: 2.2807 - acc: 0.5651\n",
            "Epoch 61/150\n",
            "768/768 [==============================] - 0s 34us/sample - loss: 2.2245 - acc: 0.5625\n",
            "Epoch 62/150\n",
            "768/768 [==============================] - 0s 31us/sample - loss: 2.1786 - acc: 0.5612\n",
            "Epoch 63/150\n",
            "768/768 [==============================] - 0s 37us/sample - loss: 2.1308 - acc: 0.5586\n",
            "Epoch 64/150\n",
            "768/768 [==============================] - 0s 34us/sample - loss: 2.0852 - acc: 0.5651\n",
            "Epoch 65/150\n",
            "768/768 [==============================] - 0s 38us/sample - loss: 2.0353 - acc: 0.5586\n",
            "Epoch 66/150\n",
            "768/768 [==============================] - 0s 34us/sample - loss: 1.9904 - acc: 0.5664\n",
            "Epoch 67/150\n",
            "768/768 [==============================] - 0s 37us/sample - loss: 1.9533 - acc: 0.5690\n",
            "Epoch 68/150\n",
            "768/768 [==============================] - 0s 32us/sample - loss: 1.9076 - acc: 0.5625\n",
            "Epoch 69/150\n",
            "768/768 [==============================] - 0s 34us/sample - loss: 1.8729 - acc: 0.5690\n",
            "Epoch 70/150\n",
            "768/768 [==============================] - 0s 39us/sample - loss: 1.8365 - acc: 0.5677\n",
            "Epoch 71/150\n",
            "768/768 [==============================] - 0s 35us/sample - loss: 1.8066 - acc: 0.5768\n",
            "Epoch 72/150\n",
            "768/768 [==============================] - 0s 31us/sample - loss: 1.7663 - acc: 0.5703\n",
            "Epoch 73/150\n",
            "768/768 [==============================] - 0s 33us/sample - loss: 1.7285 - acc: 0.5807\n",
            "Epoch 74/150\n",
            "768/768 [==============================] - 0s 40us/sample - loss: 1.6918 - acc: 0.5768\n",
            "Epoch 75/150\n",
            "768/768 [==============================] - 0s 35us/sample - loss: 1.6624 - acc: 0.5768\n",
            "Epoch 76/150\n",
            "768/768 [==============================] - 0s 34us/sample - loss: 1.6291 - acc: 0.5781\n",
            "Epoch 77/150\n",
            "768/768 [==============================] - 0s 33us/sample - loss: 1.5978 - acc: 0.5872\n",
            "Epoch 78/150\n",
            "768/768 [==============================] - 0s 40us/sample - loss: 1.5728 - acc: 0.5872\n",
            "Epoch 79/150\n",
            "768/768 [==============================] - 0s 33us/sample - loss: 1.5430 - acc: 0.5924\n",
            "Epoch 80/150\n",
            "768/768 [==============================] - 0s 39us/sample - loss: 1.5178 - acc: 0.5951\n",
            "Epoch 81/150\n",
            "768/768 [==============================] - 0s 37us/sample - loss: 1.4936 - acc: 0.5964\n",
            "Epoch 82/150\n",
            "768/768 [==============================] - 0s 42us/sample - loss: 1.4688 - acc: 0.6003\n",
            "Epoch 83/150\n",
            "768/768 [==============================] - 0s 37us/sample - loss: 1.4387 - acc: 0.5990\n",
            "Epoch 84/150\n",
            "768/768 [==============================] - 0s 37us/sample - loss: 1.4194 - acc: 0.6094\n",
            "Epoch 85/150\n",
            "768/768 [==============================] - 0s 33us/sample - loss: 1.3932 - acc: 0.6003\n",
            "Epoch 86/150\n",
            "768/768 [==============================] - 0s 37us/sample - loss: 1.3681 - acc: 0.5951\n",
            "Epoch 87/150\n",
            "768/768 [==============================] - 0s 35us/sample - loss: 1.3497 - acc: 0.6068\n",
            "Epoch 88/150\n",
            "768/768 [==============================] - 0s 32us/sample - loss: 1.3230 - acc: 0.6133\n",
            "Epoch 89/150\n",
            "768/768 [==============================] - 0s 30us/sample - loss: 1.3043 - acc: 0.6042\n",
            "Epoch 90/150\n",
            "768/768 [==============================] - 0s 33us/sample - loss: 1.2822 - acc: 0.6094\n",
            "Epoch 91/150\n",
            "768/768 [==============================] - 0s 28us/sample - loss: 1.2604 - acc: 0.6146\n",
            "Epoch 92/150\n",
            "768/768 [==============================] - 0s 32us/sample - loss: 1.2436 - acc: 0.6094\n",
            "Epoch 93/150\n",
            "768/768 [==============================] - 0s 28us/sample - loss: 1.2224 - acc: 0.6146\n",
            "Epoch 94/150\n",
            "768/768 [==============================] - 0s 32us/sample - loss: 1.2073 - acc: 0.6120\n",
            "Epoch 95/150\n",
            "768/768 [==============================] - 0s 33us/sample - loss: 1.1877 - acc: 0.6146\n",
            "Epoch 96/150\n",
            "768/768 [==============================] - 0s 32us/sample - loss: 1.1693 - acc: 0.6224\n",
            "Epoch 97/150\n",
            "768/768 [==============================] - 0s 33us/sample - loss: 1.1539 - acc: 0.6133\n",
            "Epoch 98/150\n",
            "768/768 [==============================] - 0s 29us/sample - loss: 1.1359 - acc: 0.6159\n",
            "Epoch 99/150\n",
            "768/768 [==============================] - 0s 32us/sample - loss: 1.1200 - acc: 0.6159\n",
            "Epoch 100/150\n",
            "768/768 [==============================] - 0s 28us/sample - loss: 1.1033 - acc: 0.6185\n",
            "Epoch 101/150\n",
            "768/768 [==============================] - 0s 33us/sample - loss: 1.0898 - acc: 0.6146\n",
            "Epoch 102/150\n",
            "768/768 [==============================] - 0s 32us/sample - loss: 1.0746 - acc: 0.6185\n",
            "Epoch 103/150\n",
            "768/768 [==============================] - 0s 26us/sample - loss: 1.0619 - acc: 0.6146\n",
            "Epoch 104/150\n",
            "768/768 [==============================] - 0s 30us/sample - loss: 1.0479 - acc: 0.6172\n",
            "Epoch 105/150\n",
            "768/768 [==============================] - 0s 26us/sample - loss: 1.0332 - acc: 0.6172\n",
            "Epoch 106/150\n",
            "768/768 [==============================] - 0s 34us/sample - loss: 1.0207 - acc: 0.6224\n",
            "Epoch 107/150\n",
            "768/768 [==============================] - 0s 28us/sample - loss: 1.0071 - acc: 0.6198\n",
            "Epoch 108/150\n",
            "768/768 [==============================] - 0s 26us/sample - loss: 0.9943 - acc: 0.6250\n",
            "Epoch 109/150\n",
            "768/768 [==============================] - 0s 32us/sample - loss: 0.9822 - acc: 0.6120\n",
            "Epoch 110/150\n",
            "768/768 [==============================] - 0s 29us/sample - loss: 0.9732 - acc: 0.6302\n",
            "Epoch 111/150\n",
            "768/768 [==============================] - 0s 34us/sample - loss: 0.9599 - acc: 0.6133\n",
            "Epoch 112/150\n",
            "768/768 [==============================] - 0s 30us/sample - loss: 0.9483 - acc: 0.6250\n",
            "Epoch 113/150\n",
            "768/768 [==============================] - 0s 29us/sample - loss: 0.9382 - acc: 0.6263\n",
            "Epoch 114/150\n",
            "768/768 [==============================] - 0s 31us/sample - loss: 0.9274 - acc: 0.6172\n",
            "Epoch 115/150\n",
            "768/768 [==============================] - 0s 32us/sample - loss: 0.9189 - acc: 0.6211\n",
            "Epoch 116/150\n",
            "768/768 [==============================] - 0s 31us/sample - loss: 0.9080 - acc: 0.6328\n",
            "Epoch 117/150\n",
            "768/768 [==============================] - 0s 29us/sample - loss: 0.9009 - acc: 0.6159\n",
            "Epoch 118/150\n",
            "768/768 [==============================] - 0s 29us/sample - loss: 0.8867 - acc: 0.6289\n",
            "Epoch 119/150\n",
            "768/768 [==============================] - 0s 30us/sample - loss: 0.8789 - acc: 0.6198\n",
            "Epoch 120/150\n",
            "768/768 [==============================] - 0s 26us/sample - loss: 0.8679 - acc: 0.6250\n",
            "Epoch 121/150\n",
            "768/768 [==============================] - 0s 33us/sample - loss: 0.8596 - acc: 0.6263\n",
            "Epoch 122/150\n",
            "768/768 [==============================] - 0s 34us/sample - loss: 0.8520 - acc: 0.6237\n",
            "Epoch 123/150\n",
            "768/768 [==============================] - 0s 29us/sample - loss: 0.8436 - acc: 0.6250\n",
            "Epoch 124/150\n",
            "768/768 [==============================] - 0s 30us/sample - loss: 0.8361 - acc: 0.6302\n",
            "Epoch 125/150\n",
            "768/768 [==============================] - 0s 30us/sample - loss: 0.8312 - acc: 0.6302\n",
            "Epoch 126/150\n",
            "768/768 [==============================] - 0s 30us/sample - loss: 0.8204 - acc: 0.6276\n",
            "Epoch 127/150\n",
            "768/768 [==============================] - 0s 28us/sample - loss: 0.8114 - acc: 0.6315\n",
            "Epoch 128/150\n",
            "768/768 [==============================] - 0s 34us/sample - loss: 0.8045 - acc: 0.6302\n",
            "Epoch 129/150\n",
            "768/768 [==============================] - 0s 34us/sample - loss: 0.7982 - acc: 0.6250\n",
            "Epoch 130/150\n",
            "768/768 [==============================] - 0s 30us/sample - loss: 0.7944 - acc: 0.6341\n",
            "Epoch 131/150\n",
            "768/768 [==============================] - 0s 34us/sample - loss: 0.7872 - acc: 0.6406\n",
            "Epoch 132/150\n",
            "768/768 [==============================] - 0s 28us/sample - loss: 0.7782 - acc: 0.6315\n",
            "Epoch 133/150\n",
            "768/768 [==============================] - 0s 31us/sample - loss: 0.7715 - acc: 0.6471\n",
            "Epoch 134/150\n",
            "768/768 [==============================] - 0s 30us/sample - loss: 0.7645 - acc: 0.6302\n",
            "Epoch 135/150\n",
            "768/768 [==============================] - 0s 27us/sample - loss: 0.7595 - acc: 0.6393\n",
            "Epoch 136/150\n",
            "768/768 [==============================] - 0s 35us/sample - loss: 0.7536 - acc: 0.6589\n",
            "Epoch 137/150\n",
            "768/768 [==============================] - 0s 34us/sample - loss: 0.7490 - acc: 0.6276\n",
            "Epoch 138/150\n",
            "768/768 [==============================] - 0s 30us/sample - loss: 0.7432 - acc: 0.6523\n",
            "Epoch 139/150\n",
            "768/768 [==============================] - 0s 34us/sample - loss: 0.7376 - acc: 0.6445\n",
            "Epoch 140/150\n",
            "768/768 [==============================] - 0s 33us/sample - loss: 0.7344 - acc: 0.6510\n",
            "Epoch 141/150\n",
            "768/768 [==============================] - 0s 28us/sample - loss: 0.7296 - acc: 0.6354\n",
            "Epoch 142/150\n",
            "768/768 [==============================] - 0s 29us/sample - loss: 0.7234 - acc: 0.6523\n",
            "Epoch 143/150\n",
            "768/768 [==============================] - 0s 33us/sample - loss: 0.7168 - acc: 0.6484\n",
            "Epoch 144/150\n",
            "768/768 [==============================] - 0s 28us/sample - loss: 0.7128 - acc: 0.6562\n",
            "Epoch 145/150\n",
            "768/768 [==============================] - 0s 30us/sample - loss: 0.7117 - acc: 0.6432\n",
            "Epoch 146/150\n",
            "768/768 [==============================] - 0s 32us/sample - loss: 0.7045 - acc: 0.6536\n",
            "Epoch 147/150\n",
            "768/768 [==============================] - 0s 28us/sample - loss: 0.7000 - acc: 0.6510\n",
            "Epoch 148/150\n",
            "768/768 [==============================] - 0s 31us/sample - loss: 0.6956 - acc: 0.6510\n",
            "Epoch 149/150\n",
            "768/768 [==============================] - 0s 29us/sample - loss: 0.6907 - acc: 0.6576\n",
            "Epoch 150/150\n",
            "768/768 [==============================] - 0s 31us/sample - loss: 0.6880 - acc: 0.6589\n"
          ],
          "name": "stdout"
        },
        {
          "output_type": "execute_result",
          "data": {
            "text/plain": [
              "<tensorflow.python.keras.callbacks.History at 0xb30643be0>"
            ]
          },
          "metadata": {
            "tags": []
          },
          "execution_count": 12
        }
      ]
    },
    {
      "cell_type": "code",
      "metadata": {
        "id": "VLWpWasucICb",
        "colab_type": "code",
        "colab": {},
        "outputId": "574baaec-dc61-4f22-adee-c1c0c1d601e4"
      },
      "source": [
        "sum(y) / len(y) # Predicting never diabetes is 65%"
      ],
      "execution_count": 0,
      "outputs": [
        {
          "output_type": "execute_result",
          "data": {
            "text/plain": [
              "0.3489583333333333"
            ]
          },
          "metadata": {
            "tags": []
          },
          "execution_count": 14
        }
      ]
    },
    {
      "cell_type": "code",
      "metadata": {
        "id": "pZRJ8HTxcICm",
        "colab_type": "code",
        "colab": {},
        "outputId": "fc26c2e8-9495-4486-fe92-7ad3b4543433"
      },
      "source": [
        "scores = model.evaluate(X,y)\n",
        "print(f\"{model.metrics_names[1]}: {scores[1]*100}\")"
      ],
      "execution_count": 0,
      "outputs": [
        {
          "output_type": "stream",
          "text": [
            "768/768 [==============================] - 0s 42us/sample - loss: 0.6848 - acc: 0.6576\n",
            "acc: 65.75520634651184\n"
          ],
          "name": "stdout"
        }
      ]
    },
    {
      "cell_type": "markdown",
      "metadata": {
        "id": "8IrXFuyScICw",
        "colab_type": "text"
      },
      "source": [
        "#### Adam Optimizer\n",
        "Check out this links for more background on the Adam optimizer and Stohastic Gradient Descent\n",
        "* [Adam Optimization Algorithm](https://machinelearningmastery.com/adam-optimization-algorithm-for-deep-learning/)\n",
        "* [Adam Optimizer - original paper](https://arxiv.org/abs/1412.6980)"
      ]
    },
    {
      "cell_type": "markdown",
      "metadata": {
        "colab_type": "text",
        "id": "5dW8SZ2Ls9SX"
      },
      "source": [
        "### Fit Model\n",
        "\n",
        "Lets train it up! `model.fit()` has a `batch_size` parameter that we can use if we want to do mini-batch epochs, but since this tabular dataset is pretty small we're just going to delete that parameter. Keras' default `batch_size` is `None` so omiting it will tell Keras to do batch epochs. "
      ]
    },
    {
      "cell_type": "code",
      "metadata": {
        "colab_type": "code",
        "id": "nJxdmX_-u5MJ",
        "outputId": "ae78a80d-5b9a-46e0-a8c2-45b41e40bdfd",
        "colab": {
          "base_uri": "https://localhost:8080/",
          "height": 5288
        }
      },
      "source": [
        "model.fit(X,y, epochs=150, batch_size=32)"
      ],
      "execution_count": 0,
      "outputs": [
        {
          "output_type": "stream",
          "text": [
            "Epoch 1/150\n",
            "768/768 [==============================] - 0s 34us/sample - loss: 0.6861 - acc: 0.6523\n",
            "Epoch 2/150\n",
            "768/768 [==============================] - 0s 33us/sample - loss: 0.6801 - acc: 0.6523\n",
            "Epoch 3/150\n",
            "768/768 [==============================] - 0s 34us/sample - loss: 0.6768 - acc: 0.6602\n",
            "Epoch 4/150\n",
            "768/768 [==============================] - 0s 33us/sample - loss: 0.6742 - acc: 0.6536\n",
            "Epoch 5/150\n",
            "768/768 [==============================] - 0s 31us/sample - loss: 0.6704 - acc: 0.6615\n",
            "Epoch 6/150\n",
            "768/768 [==============================] - 0s 33us/sample - loss: 0.6679 - acc: 0.6576\n",
            "Epoch 7/150\n",
            "768/768 [==============================] - 0s 33us/sample - loss: 0.6652 - acc: 0.6602\n",
            "Epoch 8/150\n",
            "768/768 [==============================] - 0s 31us/sample - loss: 0.6595 - acc: 0.6654\n",
            "Epoch 9/150\n",
            "768/768 [==============================] - 0s 34us/sample - loss: 0.6584 - acc: 0.6706\n",
            "Epoch 10/150\n",
            "768/768 [==============================] - 0s 39us/sample - loss: 0.6528 - acc: 0.6654\n",
            "Epoch 11/150\n",
            "768/768 [==============================] - 0s 31us/sample - loss: 0.6519 - acc: 0.6615\n",
            "Epoch 12/150\n",
            "768/768 [==============================] - 0s 36us/sample - loss: 0.6498 - acc: 0.6732\n",
            "Epoch 13/150\n",
            "768/768 [==============================] - 0s 37us/sample - loss: 0.6466 - acc: 0.6667\n",
            "Epoch 14/150\n",
            "768/768 [==============================] - 0s 32us/sample - loss: 0.6432 - acc: 0.6667\n",
            "Epoch 15/150\n",
            "768/768 [==============================] - 0s 33us/sample - loss: 0.6424 - acc: 0.6719\n",
            "Epoch 16/150\n",
            "768/768 [==============================] - 0s 35us/sample - loss: 0.6395 - acc: 0.6771\n",
            "Epoch 17/150\n",
            "768/768 [==============================] - 0s 37us/sample - loss: 0.6357 - acc: 0.6706\n",
            "Epoch 18/150\n",
            "768/768 [==============================] - 0s 32us/sample - loss: 0.6347 - acc: 0.6771\n",
            "Epoch 19/150\n",
            "768/768 [==============================] - 0s 36us/sample - loss: 0.6322 - acc: 0.6771\n",
            "Epoch 20/150\n",
            "768/768 [==============================] - 0s 35us/sample - loss: 0.6304 - acc: 0.6706\n",
            "Epoch 21/150\n",
            "768/768 [==============================] - 0s 35us/sample - loss: 0.6300 - acc: 0.6823\n",
            "Epoch 22/150\n",
            "768/768 [==============================] - 0s 40us/sample - loss: 0.6252 - acc: 0.6784\n",
            "Epoch 23/150\n",
            "768/768 [==============================] - 0s 36us/sample - loss: 0.6241 - acc: 0.6797\n",
            "Epoch 24/150\n",
            "768/768 [==============================] - 0s 38us/sample - loss: 0.6217 - acc: 0.6823\n",
            "Epoch 25/150\n",
            "768/768 [==============================] - 0s 36us/sample - loss: 0.6206 - acc: 0.6810\n",
            "Epoch 26/150\n",
            "768/768 [==============================] - 0s 34us/sample - loss: 0.6189 - acc: 0.6823\n",
            "Epoch 27/150\n",
            "768/768 [==============================] - 0s 30us/sample - loss: 0.6167 - acc: 0.6836\n",
            "Epoch 28/150\n",
            "768/768 [==============================] - 0s 32us/sample - loss: 0.6154 - acc: 0.6797\n",
            "Epoch 29/150\n",
            "768/768 [==============================] - 0s 29us/sample - loss: 0.6159 - acc: 0.6810\n",
            "Epoch 30/150\n",
            "768/768 [==============================] - 0s 35us/sample - loss: 0.6105 - acc: 0.6901\n",
            "Epoch 31/150\n",
            "768/768 [==============================] - 0s 33us/sample - loss: 0.6103 - acc: 0.6836\n",
            "Epoch 32/150\n",
            "768/768 [==============================] - 0s 36us/sample - loss: 0.6085 - acc: 0.6914\n",
            "Epoch 33/150\n",
            "768/768 [==============================] - 0s 34us/sample - loss: 0.6069 - acc: 0.6862\n",
            "Epoch 34/150\n",
            "768/768 [==============================] - 0s 33us/sample - loss: 0.6054 - acc: 0.6862\n",
            "Epoch 35/150\n",
            "768/768 [==============================] - 0s 33us/sample - loss: 0.6045 - acc: 0.6810\n",
            "Epoch 36/150\n",
            "768/768 [==============================] - 0s 34us/sample - loss: 0.6025 - acc: 0.6914\n",
            "Epoch 37/150\n",
            "768/768 [==============================] - 0s 38us/sample - loss: 0.6015 - acc: 0.6849\n",
            "Epoch 38/150\n",
            "768/768 [==============================] - 0s 37us/sample - loss: 0.6003 - acc: 0.6901\n",
            "Epoch 39/150\n",
            "768/768 [==============================] - 0s 33us/sample - loss: 0.5999 - acc: 0.6966\n",
            "Epoch 40/150\n",
            "768/768 [==============================] - 0s 32us/sample - loss: 0.5980 - acc: 0.6888\n",
            "Epoch 41/150\n",
            "768/768 [==============================] - 0s 33us/sample - loss: 0.5976 - acc: 0.6979\n",
            "Epoch 42/150\n",
            "768/768 [==============================] - 0s 34us/sample - loss: 0.5964 - acc: 0.6888\n",
            "Epoch 43/150\n",
            "768/768 [==============================] - 0s 33us/sample - loss: 0.5953 - acc: 0.6914\n",
            "Epoch 44/150\n",
            "768/768 [==============================] - 0s 32us/sample - loss: 0.5940 - acc: 0.6953\n",
            "Epoch 45/150\n",
            "768/768 [==============================] - 0s 35us/sample - loss: 0.5922 - acc: 0.6927\n",
            "Epoch 46/150\n",
            "768/768 [==============================] - 0s 32us/sample - loss: 0.5909 - acc: 0.6966\n",
            "Epoch 47/150\n",
            "768/768 [==============================] - 0s 33us/sample - loss: 0.5906 - acc: 0.6966\n",
            "Epoch 48/150\n",
            "768/768 [==============================] - 0s 33us/sample - loss: 0.5897 - acc: 0.7044\n",
            "Epoch 49/150\n",
            "768/768 [==============================] - 0s 37us/sample - loss: 0.5893 - acc: 0.6875\n",
            "Epoch 50/150\n",
            "768/768 [==============================] - 0s 33us/sample - loss: 0.5881 - acc: 0.7044\n",
            "Epoch 51/150\n",
            "768/768 [==============================] - 0s 33us/sample - loss: 0.5879 - acc: 0.6966\n",
            "Epoch 52/150\n",
            "768/768 [==============================] - 0s 33us/sample - loss: 0.5866 - acc: 0.6940\n",
            "Epoch 53/150\n",
            "768/768 [==============================] - 0s 33us/sample - loss: 0.5863 - acc: 0.7057\n",
            "Epoch 54/150\n",
            "768/768 [==============================] - 0s 30us/sample - loss: 0.5843 - acc: 0.6940\n",
            "Epoch 55/150\n",
            "768/768 [==============================] - 0s 34us/sample - loss: 0.5859 - acc: 0.6940\n",
            "Epoch 56/150\n",
            "768/768 [==============================] - 0s 35us/sample - loss: 0.5844 - acc: 0.7018\n",
            "Epoch 57/150\n",
            "768/768 [==============================] - 0s 30us/sample - loss: 0.5812 - acc: 0.6940\n",
            "Epoch 58/150\n",
            "768/768 [==============================] - 0s 34us/sample - loss: 0.5824 - acc: 0.7161\n",
            "Epoch 59/150\n",
            "768/768 [==============================] - 0s 33us/sample - loss: 0.5828 - acc: 0.6901\n",
            "Epoch 60/150\n",
            "768/768 [==============================] - 0s 34us/sample - loss: 0.5794 - acc: 0.7005\n",
            "Epoch 61/150\n",
            "768/768 [==============================] - 0s 32us/sample - loss: 0.5796 - acc: 0.7031\n",
            "Epoch 62/150\n",
            "768/768 [==============================] - 0s 33us/sample - loss: 0.5773 - acc: 0.7031\n",
            "Epoch 63/150\n",
            "768/768 [==============================] - 0s 33us/sample - loss: 0.5784 - acc: 0.6992\n",
            "Epoch 64/150\n",
            "768/768 [==============================] - 0s 37us/sample - loss: 0.5766 - acc: 0.7057\n",
            "Epoch 65/150\n",
            "768/768 [==============================] - 0s 32us/sample - loss: 0.5776 - acc: 0.7005\n",
            "Epoch 66/150\n",
            "768/768 [==============================] - 0s 29us/sample - loss: 0.5772 - acc: 0.7135\n",
            "Epoch 67/150\n",
            "768/768 [==============================] - 0s 37us/sample - loss: 0.5753 - acc: 0.7057\n",
            "Epoch 68/150\n",
            "768/768 [==============================] - 0s 35us/sample - loss: 0.5749 - acc: 0.7096\n",
            "Epoch 69/150\n",
            "768/768 [==============================] - 0s 33us/sample - loss: 0.5750 - acc: 0.7083\n",
            "Epoch 70/150\n",
            "768/768 [==============================] - 0s 30us/sample - loss: 0.5726 - acc: 0.7135\n",
            "Epoch 71/150\n",
            "768/768 [==============================] - 0s 34us/sample - loss: 0.5740 - acc: 0.7031\n",
            "Epoch 72/150\n",
            "768/768 [==============================] - 0s 30us/sample - loss: 0.5719 - acc: 0.7122\n",
            "Epoch 73/150\n",
            "768/768 [==============================] - 0s 30us/sample - loss: 0.5727 - acc: 0.7148\n",
            "Epoch 74/150\n",
            "768/768 [==============================] - 0s 34us/sample - loss: 0.5714 - acc: 0.7109\n",
            "Epoch 75/150\n",
            "768/768 [==============================] - 0s 31us/sample - loss: 0.5695 - acc: 0.7174\n",
            "Epoch 76/150\n",
            "768/768 [==============================] - 0s 32us/sample - loss: 0.5696 - acc: 0.7240\n",
            "Epoch 77/150\n",
            "768/768 [==============================] - 0s 34us/sample - loss: 0.5717 - acc: 0.7096\n",
            "Epoch 78/150\n",
            "768/768 [==============================] - 0s 32us/sample - loss: 0.5702 - acc: 0.7057\n",
            "Epoch 79/150\n",
            "768/768 [==============================] - 0s 31us/sample - loss: 0.5681 - acc: 0.7201\n",
            "Epoch 80/150\n",
            "768/768 [==============================] - 0s 33us/sample - loss: 0.5678 - acc: 0.7188\n",
            "Epoch 81/150\n",
            "768/768 [==============================] - 0s 37us/sample - loss: 0.5663 - acc: 0.7174\n",
            "Epoch 82/150\n",
            "768/768 [==============================] - 0s 30us/sample - loss: 0.5681 - acc: 0.7161\n",
            "Epoch 83/150\n",
            "768/768 [==============================] - 0s 32us/sample - loss: 0.5670 - acc: 0.7188\n",
            "Epoch 84/150\n",
            "768/768 [==============================] - 0s 33us/sample - loss: 0.5661 - acc: 0.7201\n",
            "Epoch 85/150\n",
            "768/768 [==============================] - 0s 33us/sample - loss: 0.5647 - acc: 0.7227\n",
            "Epoch 86/150\n",
            "768/768 [==============================] - 0s 31us/sample - loss: 0.5647 - acc: 0.7266\n",
            "Epoch 87/150\n",
            "768/768 [==============================] - 0s 31us/sample - loss: 0.5661 - acc: 0.7214\n",
            "Epoch 88/150\n",
            "768/768 [==============================] - 0s 29us/sample - loss: 0.5632 - acc: 0.7292\n",
            "Epoch 89/150\n",
            "768/768 [==============================] - 0s 40us/sample - loss: 0.5667 - acc: 0.7161\n",
            "Epoch 90/150\n",
            "768/768 [==============================] - 0s 30us/sample - loss: 0.5666 - acc: 0.7109\n",
            "Epoch 91/150\n",
            "768/768 [==============================] - 0s 36us/sample - loss: 0.5625 - acc: 0.7266\n",
            "Epoch 92/150\n",
            "768/768 [==============================] - 0s 35us/sample - loss: 0.5631 - acc: 0.7161\n",
            "Epoch 93/150\n",
            "768/768 [==============================] - 0s 32us/sample - loss: 0.5619 - acc: 0.7279\n",
            "Epoch 94/150\n",
            "768/768 [==============================] - 0s 29us/sample - loss: 0.5614 - acc: 0.7253\n",
            "Epoch 95/150\n",
            "768/768 [==============================] - 0s 31us/sample - loss: 0.5609 - acc: 0.7161\n",
            "Epoch 96/150\n",
            "768/768 [==============================] - 0s 33us/sample - loss: 0.5605 - acc: 0.7279\n",
            "Epoch 97/150\n",
            "768/768 [==============================] - 0s 32us/sample - loss: 0.5593 - acc: 0.7240\n",
            "Epoch 98/150\n",
            "768/768 [==============================] - 0s 29us/sample - loss: 0.5619 - acc: 0.7227\n",
            "Epoch 99/150\n",
            "768/768 [==============================] - 0s 30us/sample - loss: 0.5590 - acc: 0.7305\n",
            "Epoch 100/150\n",
            "768/768 [==============================] - 0s 35us/sample - loss: 0.5605 - acc: 0.7148\n",
            "Epoch 101/150\n",
            "768/768 [==============================] - 0s 33us/sample - loss: 0.5591 - acc: 0.7305\n",
            "Epoch 102/150\n",
            "768/768 [==============================] - 0s 30us/sample - loss: 0.5574 - acc: 0.7253\n",
            "Epoch 103/150\n",
            "768/768 [==============================] - 0s 30us/sample - loss: 0.5584 - acc: 0.7161\n",
            "Epoch 104/150\n",
            "768/768 [==============================] - 0s 29us/sample - loss: 0.5572 - acc: 0.7240\n",
            "Epoch 105/150\n",
            "768/768 [==============================] - 0s 33us/sample - loss: 0.5587 - acc: 0.7266\n",
            "Epoch 106/150\n",
            "768/768 [==============================] - 0s 33us/sample - loss: 0.5568 - acc: 0.7318\n",
            "Epoch 107/150\n",
            "768/768 [==============================] - 0s 30us/sample - loss: 0.5552 - acc: 0.7305\n",
            "Epoch 108/150\n",
            "768/768 [==============================] - 0s 30us/sample - loss: 0.5568 - acc: 0.7227\n",
            "Epoch 109/150\n",
            "768/768 [==============================] - 0s 29us/sample - loss: 0.5573 - acc: 0.7422\n",
            "Epoch 110/150\n",
            "768/768 [==============================] - 0s 35us/sample - loss: 0.5575 - acc: 0.7253\n",
            "Epoch 111/150\n",
            "768/768 [==============================] - 0s 34us/sample - loss: 0.5553 - acc: 0.7357\n",
            "Epoch 112/150\n",
            "768/768 [==============================] - 0s 30us/sample - loss: 0.5565 - acc: 0.7344\n",
            "Epoch 113/150\n",
            "768/768 [==============================] - 0s 32us/sample - loss: 0.5550 - acc: 0.7383\n",
            "Epoch 114/150\n",
            "768/768 [==============================] - 0s 33us/sample - loss: 0.5551 - acc: 0.7279\n",
            "Epoch 115/150\n",
            "768/768 [==============================] - 0s 33us/sample - loss: 0.5559 - acc: 0.7357\n",
            "Epoch 116/150\n",
            "768/768 [==============================] - 0s 30us/sample - loss: 0.5557 - acc: 0.7161\n",
            "Epoch 117/150\n",
            "768/768 [==============================] - 0s 31us/sample - loss: 0.5527 - acc: 0.7305\n",
            "Epoch 118/150\n",
            "768/768 [==============================] - 0s 29us/sample - loss: 0.5524 - acc: 0.7305\n",
            "Epoch 119/150\n",
            "768/768 [==============================] - 0s 30us/sample - loss: 0.5525 - acc: 0.7305\n",
            "Epoch 120/150\n",
            "768/768 [==============================] - 0s 30us/sample - loss: 0.5547 - acc: 0.7461\n",
            "Epoch 121/150\n",
            "768/768 [==============================] - 0s 31us/sample - loss: 0.5533 - acc: 0.7344\n",
            "Epoch 122/150\n",
            "768/768 [==============================] - 0s 33us/sample - loss: 0.5512 - acc: 0.7318\n",
            "Epoch 123/150\n",
            "768/768 [==============================] - 0s 28us/sample - loss: 0.5516 - acc: 0.7383\n",
            "Epoch 124/150\n",
            "768/768 [==============================] - 0s 30us/sample - loss: 0.5516 - acc: 0.7292\n",
            "Epoch 125/150\n",
            "768/768 [==============================] - 0s 37us/sample - loss: 0.5506 - acc: 0.7318\n",
            "Epoch 126/150\n",
            "768/768 [==============================] - 0s 31us/sample - loss: 0.5528 - acc: 0.7370\n",
            "Epoch 127/150\n",
            "768/768 [==============================] - 0s 34us/sample - loss: 0.5511 - acc: 0.7409\n",
            "Epoch 128/150\n",
            "768/768 [==============================] - 0s 30us/sample - loss: 0.5488 - acc: 0.7266\n",
            "Epoch 129/150\n",
            "768/768 [==============================] - 0s 35us/sample - loss: 0.5484 - acc: 0.7331\n",
            "Epoch 130/150\n",
            "768/768 [==============================] - 0s 32us/sample - loss: 0.5486 - acc: 0.7370\n",
            "Epoch 131/150\n",
            "768/768 [==============================] - 0s 27us/sample - loss: 0.5488 - acc: 0.7344\n",
            "Epoch 132/150\n",
            "768/768 [==============================] - 0s 35us/sample - loss: 0.5490 - acc: 0.7357\n",
            "Epoch 133/150\n",
            "768/768 [==============================] - 0s 34us/sample - loss: 0.5505 - acc: 0.7344\n",
            "Epoch 134/150\n",
            "768/768 [==============================] - 0s 31us/sample - loss: 0.5492 - acc: 0.7318\n",
            "Epoch 135/150\n",
            "768/768 [==============================] - 0s 30us/sample - loss: 0.5474 - acc: 0.7422\n",
            "Epoch 136/150\n",
            "768/768 [==============================] - 0s 36us/sample - loss: 0.5491 - acc: 0.7409\n",
            "Epoch 137/150\n",
            "768/768 [==============================] - 0s 34us/sample - loss: 0.5468 - acc: 0.7383\n",
            "Epoch 138/150\n",
            "768/768 [==============================] - 0s 29us/sample - loss: 0.5464 - acc: 0.7383\n",
            "Epoch 139/150\n",
            "768/768 [==============================] - 0s 33us/sample - loss: 0.5461 - acc: 0.7344\n",
            "Epoch 140/150\n",
            "768/768 [==============================] - 0s 32us/sample - loss: 0.5484 - acc: 0.7357\n",
            "Epoch 141/150\n",
            "768/768 [==============================] - 0s 29us/sample - loss: 0.5469 - acc: 0.7383\n",
            "Epoch 142/150\n",
            "768/768 [==============================] - 0s 34us/sample - loss: 0.5462 - acc: 0.7422\n",
            "Epoch 143/150\n",
            "768/768 [==============================] - 0s 30us/sample - loss: 0.5451 - acc: 0.7396\n",
            "Epoch 144/150\n",
            "768/768 [==============================] - 0s 34us/sample - loss: 0.5447 - acc: 0.7344\n",
            "Epoch 145/150\n",
            "768/768 [==============================] - 0s 35us/sample - loss: 0.5450 - acc: 0.7422\n",
            "Epoch 146/150\n",
            "768/768 [==============================] - 0s 31us/sample - loss: 0.5440 - acc: 0.7383\n",
            "Epoch 147/150\n",
            "768/768 [==============================] - 0s 31us/sample - loss: 0.5433 - acc: 0.7409\n",
            "Epoch 148/150\n",
            "768/768 [==============================] - 0s 33us/sample - loss: 0.5437 - acc: 0.7435\n",
            "Epoch 149/150\n",
            "768/768 [==============================] - 0s 33us/sample - loss: 0.5434 - acc: 0.7435\n",
            "Epoch 150/150\n",
            "768/768 [==============================] - 0s 36us/sample - loss: 0.5432 - acc: 0.7383\n"
          ],
          "name": "stdout"
        },
        {
          "output_type": "execute_result",
          "data": {
            "text/plain": [
              "<tensorflow.python.keras.callbacks.History at 0xb3093aeb8>"
            ]
          },
          "metadata": {
            "tags": []
          },
          "execution_count": 16
        }
      ]
    },
    {
      "cell_type": "code",
      "metadata": {
        "id": "MwiiHGuZcIDG",
        "colab_type": "code",
        "colab": {},
        "outputId": "5ee5c01a-075d-4618-9d70-1f40b4a233e5"
      },
      "source": [
        ""
      ],
      "execution_count": 0,
      "outputs": [
        {
          "output_type": "execute_result",
          "data": {
            "text/plain": [
              "(768, 8)"
            ]
          },
          "metadata": {
            "tags": []
          },
          "execution_count": 19
        }
      ]
    },
    {
      "cell_type": "code",
      "metadata": {
        "id": "1lDqMttbcIDQ",
        "colab_type": "code",
        "colab": {},
        "outputId": "7caa65fa-b10e-49f1-eafb-9f2e44b06e1b"
      },
      "source": [
        ""
      ],
      "execution_count": 0,
      "outputs": [
        {
          "output_type": "execute_result",
          "data": {
            "text/plain": [
              "0.3489583333333333"
            ]
          },
          "metadata": {
            "tags": []
          },
          "execution_count": 20
        }
      ]
    },
    {
      "cell_type": "markdown",
      "metadata": {
        "colab_type": "text",
        "id": "BSybwWEJtGFm"
      },
      "source": [
        "### Evaluate Model"
      ]
    },
    {
      "cell_type": "code",
      "metadata": {
        "colab_type": "code",
        "id": "34wh8z9MvFMp",
        "outputId": "f55fa2e8-59fe-4072-a8d3-6f2b9b8aa9c0",
        "colab": {
          "base_uri": "https://localhost:8080/",
          "height": 52
        }
      },
      "source": [
        ""
      ],
      "execution_count": 0,
      "outputs": [
        {
          "output_type": "stream",
          "text": [
            "768/768 [==============================] - 0s 28us/step\n",
            "acc: 69.27083333333334%\n"
          ],
          "name": "stdout"
        }
      ]
    },
    {
      "cell_type": "markdown",
      "metadata": {
        "colab_type": "text",
        "id": "AIJoRBxHy27n"
      },
      "source": [
        "# Keras Perceptron Model in 4 lines of code:"
      ]
    },
    {
      "cell_type": "code",
      "metadata": {
        "colab_type": "code",
        "id": "TQxyONqKvFxB",
        "outputId": "12966e66-2297-4f82-85b3-c275a9c38563",
        "colab": {
          "base_uri": "https://localhost:8080/",
          "height": 5216
        }
      },
      "source": [
        ""
      ],
      "execution_count": 0,
      "outputs": [
        {
          "output_type": "stream",
          "text": [
            "Epoch 1/150\n",
            "768/768 [==============================] - 0s 136us/sample - loss: 22.7294 - acc: 0.6406\n",
            "Epoch 2/150\n",
            "768/768 [==============================] - 0s 26us/sample - loss: 21.3631 - acc: 0.6380\n",
            "Epoch 3/150\n",
            "768/768 [==============================] - 0s 25us/sample - loss: 20.0952 - acc: 0.6315\n",
            "Epoch 4/150\n",
            "768/768 [==============================] - 0s 25us/sample - loss: 18.8854 - acc: 0.6328\n",
            "Epoch 5/150\n",
            "768/768 [==============================] - 0s 24us/sample - loss: 17.7174 - acc: 0.6393\n",
            "Epoch 6/150\n",
            "768/768 [==============================] - 0s 24us/sample - loss: 16.6509 - acc: 0.6419\n",
            "Epoch 7/150\n",
            "768/768 [==============================] - 0s 25us/sample - loss: 15.6339 - acc: 0.6380\n",
            "Epoch 8/150\n",
            "768/768 [==============================] - 0s 26us/sample - loss: 14.6817 - acc: 0.6432\n",
            "Epoch 9/150\n",
            "768/768 [==============================] - 0s 25us/sample - loss: 13.7930 - acc: 0.6484\n",
            "Epoch 10/150\n",
            "768/768 [==============================] - 0s 25us/sample - loss: 12.9592 - acc: 0.6445\n",
            "Epoch 11/150\n",
            "768/768 [==============================] - 0s 24us/sample - loss: 12.1468 - acc: 0.6393\n",
            "Epoch 12/150\n",
            "768/768 [==============================] - 0s 26us/sample - loss: 11.3390 - acc: 0.6328\n",
            "Epoch 13/150\n",
            "768/768 [==============================] - 0s 25us/sample - loss: 10.5535 - acc: 0.6367\n",
            "Epoch 14/150\n",
            "768/768 [==============================] - 0s 24us/sample - loss: 9.8117 - acc: 0.6367\n",
            "Epoch 15/150\n",
            "768/768 [==============================] - 0s 25us/sample - loss: 9.0918 - acc: 0.6328\n",
            "Epoch 16/150\n",
            "768/768 [==============================] - 0s 24us/sample - loss: 8.3945 - acc: 0.6367\n",
            "Epoch 17/150\n",
            "768/768 [==============================] - 0s 25us/sample - loss: 7.7571 - acc: 0.6393\n",
            "Epoch 18/150\n",
            "768/768 [==============================] - 0s 24us/sample - loss: 7.1795 - acc: 0.6406\n",
            "Epoch 19/150\n",
            "768/768 [==============================] - 0s 24us/sample - loss: 6.6509 - acc: 0.6419\n",
            "Epoch 20/150\n",
            "768/768 [==============================] - 0s 23us/sample - loss: 6.1921 - acc: 0.6419\n",
            "Epoch 21/150\n",
            "768/768 [==============================] - 0s 25us/sample - loss: 5.7899 - acc: 0.6523\n",
            "Epoch 22/150\n",
            "768/768 [==============================] - 0s 26us/sample - loss: 5.4369 - acc: 0.6536\n",
            "Epoch 23/150\n",
            "768/768 [==============================] - 0s 25us/sample - loss: 5.1051 - acc: 0.6549\n",
            "Epoch 24/150\n",
            "768/768 [==============================] - 0s 27us/sample - loss: 4.8381 - acc: 0.6549\n",
            "Epoch 25/150\n",
            "768/768 [==============================] - 0s 25us/sample - loss: 4.5881 - acc: 0.6536\n",
            "Epoch 26/150\n",
            "768/768 [==============================] - 0s 25us/sample - loss: 4.3488 - acc: 0.6484\n",
            "Epoch 27/150\n",
            "768/768 [==============================] - 0s 25us/sample - loss: 4.1443 - acc: 0.6549\n",
            "Epoch 28/150\n",
            "768/768 [==============================] - 0s 25us/sample - loss: 3.9658 - acc: 0.6497\n",
            "Epoch 29/150\n",
            "768/768 [==============================] - 0s 25us/sample - loss: 3.7958 - acc: 0.6536\n",
            "Epoch 30/150\n",
            "768/768 [==============================] - 0s 25us/sample - loss: 3.6394 - acc: 0.6576\n",
            "Epoch 31/150\n",
            "768/768 [==============================] - 0s 25us/sample - loss: 3.5137 - acc: 0.6602\n",
            "Epoch 32/150\n",
            "768/768 [==============================] - 0s 25us/sample - loss: 3.3749 - acc: 0.6576\n",
            "Epoch 33/150\n",
            "768/768 [==============================] - 0s 24us/sample - loss: 3.2576 - acc: 0.6615\n",
            "Epoch 34/150\n",
            "768/768 [==============================] - 0s 24us/sample - loss: 3.1513 - acc: 0.6641\n",
            "Epoch 35/150\n",
            "768/768 [==============================] - 0s 23us/sample - loss: 3.0349 - acc: 0.6667\n",
            "Epoch 36/150\n",
            "768/768 [==============================] - 0s 23us/sample - loss: 2.9325 - acc: 0.6654\n",
            "Epoch 37/150\n",
            "768/768 [==============================] - 0s 23us/sample - loss: 2.8307 - acc: 0.6589\n",
            "Epoch 38/150\n",
            "768/768 [==============================] - 0s 24us/sample - loss: 2.7398 - acc: 0.6680\n",
            "Epoch 39/150\n",
            "768/768 [==============================] - 0s 23us/sample - loss: 2.6446 - acc: 0.6576\n",
            "Epoch 40/150\n",
            "768/768 [==============================] - 0s 23us/sample - loss: 2.5500 - acc: 0.6732\n",
            "Epoch 41/150\n",
            "768/768 [==============================] - 0s 25us/sample - loss: 2.4688 - acc: 0.6693\n",
            "Epoch 42/150\n",
            "768/768 [==============================] - 0s 24us/sample - loss: 2.3852 - acc: 0.6602\n",
            "Epoch 43/150\n",
            "768/768 [==============================] - 0s 24us/sample - loss: 2.2889 - acc: 0.6732\n",
            "Epoch 44/150\n",
            "768/768 [==============================] - 0s 24us/sample - loss: 2.2106 - acc: 0.6667\n",
            "Epoch 45/150\n",
            "768/768 [==============================] - 0s 24us/sample - loss: 2.1257 - acc: 0.6667\n",
            "Epoch 46/150\n",
            "768/768 [==============================] - 0s 23us/sample - loss: 2.0531 - acc: 0.6706\n",
            "Epoch 47/150\n",
            "768/768 [==============================] - 0s 23us/sample - loss: 1.9743 - acc: 0.6719\n",
            "Epoch 48/150\n",
            "768/768 [==============================] - 0s 25us/sample - loss: 1.9052 - acc: 0.6745\n",
            "Epoch 49/150\n",
            "768/768 [==============================] - 0s 24us/sample - loss: 1.8393 - acc: 0.6771\n",
            "Epoch 50/150\n",
            "768/768 [==============================] - 0s 24us/sample - loss: 1.7765 - acc: 0.6654\n",
            "Epoch 51/150\n",
            "768/768 [==============================] - 0s 24us/sample - loss: 1.7120 - acc: 0.6810\n",
            "Epoch 52/150\n",
            "768/768 [==============================] - 0s 23us/sample - loss: 1.6583 - acc: 0.6875\n",
            "Epoch 53/150\n",
            "768/768 [==============================] - 0s 23us/sample - loss: 1.6018 - acc: 0.6693\n",
            "Epoch 54/150\n",
            "768/768 [==============================] - 0s 23us/sample - loss: 1.5400 - acc: 0.6836\n",
            "Epoch 55/150\n",
            "768/768 [==============================] - 0s 23us/sample - loss: 1.5016 - acc: 0.6745\n",
            "Epoch 56/150\n",
            "768/768 [==============================] - 0s 24us/sample - loss: 1.4510 - acc: 0.6745\n",
            "Epoch 57/150\n",
            "768/768 [==============================] - 0s 23us/sample - loss: 1.3902 - acc: 0.6927\n",
            "Epoch 58/150\n",
            "768/768 [==============================] - 0s 23us/sample - loss: 1.3516 - acc: 0.6719\n",
            "Epoch 59/150\n",
            "768/768 [==============================] - 0s 23us/sample - loss: 1.3241 - acc: 0.6823\n",
            "Epoch 60/150\n",
            "768/768 [==============================] - 0s 24us/sample - loss: 1.2665 - acc: 0.6862\n",
            "Epoch 61/150\n",
            "768/768 [==============================] - 0s 24us/sample - loss: 1.2320 - acc: 0.6823\n",
            "Epoch 62/150\n",
            "768/768 [==============================] - 0s 23us/sample - loss: 1.1958 - acc: 0.6810\n",
            "Epoch 63/150\n",
            "768/768 [==============================] - 0s 22us/sample - loss: 1.1606 - acc: 0.6849\n",
            "Epoch 64/150\n",
            "768/768 [==============================] - 0s 24us/sample - loss: 1.1273 - acc: 0.6836\n",
            "Epoch 65/150\n",
            "768/768 [==============================] - 0s 23us/sample - loss: 1.1082 - acc: 0.6953\n",
            "Epoch 66/150\n",
            "768/768 [==============================] - 0s 23us/sample - loss: 1.0792 - acc: 0.6797\n",
            "Epoch 67/150\n",
            "768/768 [==============================] - 0s 23us/sample - loss: 1.0442 - acc: 0.6901\n",
            "Epoch 68/150\n",
            "768/768 [==============================] - 0s 22us/sample - loss: 1.0129 - acc: 0.6810\n",
            "Epoch 69/150\n",
            "768/768 [==============================] - 0s 23us/sample - loss: 1.0032 - acc: 0.6927\n",
            "Epoch 70/150\n",
            "768/768 [==============================] - 0s 22us/sample - loss: 0.9585 - acc: 0.6810\n",
            "Epoch 71/150\n",
            "768/768 [==============================] - 0s 22us/sample - loss: 0.9485 - acc: 0.6888\n",
            "Epoch 72/150\n",
            "768/768 [==============================] - 0s 23us/sample - loss: 0.9205 - acc: 0.6888\n",
            "Epoch 73/150\n",
            "768/768 [==============================] - 0s 21us/sample - loss: 0.9012 - acc: 0.6862\n",
            "Epoch 74/150\n",
            "768/768 [==============================] - 0s 22us/sample - loss: 0.8811 - acc: 0.6823\n",
            "Epoch 75/150\n",
            "768/768 [==============================] - 0s 22us/sample - loss: 0.8624 - acc: 0.6875\n",
            "Epoch 76/150\n",
            "768/768 [==============================] - 0s 23us/sample - loss: 0.8433 - acc: 0.6862\n",
            "Epoch 77/150\n",
            "768/768 [==============================] - 0s 23us/sample - loss: 0.8375 - acc: 0.6927\n",
            "Epoch 78/150\n",
            "768/768 [==============================] - 0s 23us/sample - loss: 0.8264 - acc: 0.6927\n",
            "Epoch 79/150\n",
            "768/768 [==============================] - 0s 22us/sample - loss: 0.8026 - acc: 0.6901\n",
            "Epoch 80/150\n",
            "768/768 [==============================] - 0s 24us/sample - loss: 0.7855 - acc: 0.6901\n",
            "Epoch 81/150\n",
            "768/768 [==============================] - 0s 23us/sample - loss: 0.7769 - acc: 0.6849\n",
            "Epoch 82/150\n",
            "768/768 [==============================] - 0s 23us/sample - loss: 0.7696 - acc: 0.6966\n",
            "Epoch 83/150\n",
            "768/768 [==============================] - 0s 22us/sample - loss: 0.7548 - acc: 0.6901\n",
            "Epoch 84/150\n",
            "768/768 [==============================] - 0s 21us/sample - loss: 0.7487 - acc: 0.6875\n",
            "Epoch 85/150\n",
            "768/768 [==============================] - 0s 22us/sample - loss: 0.7354 - acc: 0.6940\n",
            "Epoch 86/150\n",
            "768/768 [==============================] - 0s 23us/sample - loss: 0.7271 - acc: 0.6992\n",
            "Epoch 87/150\n",
            "768/768 [==============================] - 0s 23us/sample - loss: 0.7236 - acc: 0.6927\n",
            "Epoch 88/150\n",
            "768/768 [==============================] - 0s 24us/sample - loss: 0.7124 - acc: 0.6992\n",
            "Epoch 89/150\n",
            "768/768 [==============================] - 0s 22us/sample - loss: 0.7052 - acc: 0.6927\n",
            "Epoch 90/150\n",
            "768/768 [==============================] - 0s 21us/sample - loss: 0.7165 - acc: 0.6875\n",
            "Epoch 91/150\n",
            "768/768 [==============================] - 0s 21us/sample - loss: 0.6901 - acc: 0.6992\n",
            "Epoch 92/150\n",
            "768/768 [==============================] - 0s 23us/sample - loss: 0.6898 - acc: 0.6966\n",
            "Epoch 93/150\n",
            "768/768 [==============================] - 0s 23us/sample - loss: 0.6791 - acc: 0.6953\n",
            "Epoch 94/150\n",
            "768/768 [==============================] - 0s 22us/sample - loss: 0.6776 - acc: 0.6979\n",
            "Epoch 95/150\n",
            "768/768 [==============================] - 0s 22us/sample - loss: 0.6714 - acc: 0.6940\n",
            "Epoch 96/150\n",
            "768/768 [==============================] - 0s 22us/sample - loss: 0.6658 - acc: 0.6953\n",
            "Epoch 97/150\n",
            "768/768 [==============================] - 0s 25us/sample - loss: 0.6601 - acc: 0.6927\n",
            "Epoch 98/150\n",
            "768/768 [==============================] - 0s 23us/sample - loss: 0.6669 - acc: 0.6888\n",
            "Epoch 99/150\n",
            "768/768 [==============================] - 0s 23us/sample - loss: 0.6632 - acc: 0.6758\n",
            "Epoch 100/150\n",
            "768/768 [==============================] - 0s 21us/sample - loss: 0.6534 - acc: 0.7057\n",
            "Epoch 101/150\n",
            "768/768 [==============================] - 0s 21us/sample - loss: 0.6655 - acc: 0.6771\n",
            "Epoch 102/150\n",
            "768/768 [==============================] - 0s 23us/sample - loss: 0.6503 - acc: 0.6901\n",
            "Epoch 103/150\n",
            "768/768 [==============================] - 0s 22us/sample - loss: 0.6438 - acc: 0.6875\n",
            "Epoch 104/150\n",
            "768/768 [==============================] - 0s 23us/sample - loss: 0.6386 - acc: 0.6927\n",
            "Epoch 105/150\n",
            "768/768 [==============================] - 0s 20us/sample - loss: 0.6427 - acc: 0.6810\n",
            "Epoch 106/150\n",
            "768/768 [==============================] - 0s 23us/sample - loss: 0.6367 - acc: 0.6901\n",
            "Epoch 107/150\n",
            "768/768 [==============================] - 0s 22us/sample - loss: 0.6322 - acc: 0.6979\n",
            "Epoch 108/150\n",
            "768/768 [==============================] - 0s 23us/sample - loss: 0.6313 - acc: 0.6966\n",
            "Epoch 109/150\n",
            "768/768 [==============================] - 0s 20us/sample - loss: 0.6258 - acc: 0.6888\n",
            "Epoch 110/150\n",
            "768/768 [==============================] - 0s 21us/sample - loss: 0.6343 - acc: 0.6810\n",
            "Epoch 111/150\n",
            "768/768 [==============================] - 0s 22us/sample - loss: 0.6195 - acc: 0.6992\n",
            "Epoch 112/150\n",
            "768/768 [==============================] - 0s 22us/sample - loss: 0.6292 - acc: 0.6940\n",
            "Epoch 113/150\n",
            "768/768 [==============================] - 0s 21us/sample - loss: 0.6368 - acc: 0.6745\n",
            "Epoch 114/150\n",
            "768/768 [==============================] - 0s 22us/sample - loss: 0.6279 - acc: 0.6771\n",
            "Epoch 115/150\n",
            "768/768 [==============================] - 0s 23us/sample - loss: 0.6326 - acc: 0.7005\n",
            "Epoch 116/150\n",
            "768/768 [==============================] - 0s 22us/sample - loss: 0.6390 - acc: 0.6862\n",
            "Epoch 117/150\n",
            "768/768 [==============================] - 0s 21us/sample - loss: 0.6140 - acc: 0.7031\n",
            "Epoch 118/150\n",
            "768/768 [==============================] - 0s 22us/sample - loss: 0.6108 - acc: 0.6940\n",
            "Epoch 119/150\n",
            "768/768 [==============================] - 0s 23us/sample - loss: 0.6116 - acc: 0.6992\n",
            "Epoch 120/150\n",
            "768/768 [==============================] - 0s 20us/sample - loss: 0.6133 - acc: 0.6979\n",
            "Epoch 121/150\n",
            "768/768 [==============================] - 0s 22us/sample - loss: 0.6272 - acc: 0.6914\n",
            "Epoch 122/150\n",
            "768/768 [==============================] - 0s 22us/sample - loss: 0.6120 - acc: 0.6979\n",
            "Epoch 123/150\n",
            "768/768 [==============================] - 0s 21us/sample - loss: 0.6103 - acc: 0.7057\n",
            "Epoch 124/150\n",
            "768/768 [==============================] - 0s 23us/sample - loss: 0.6139 - acc: 0.6875\n",
            "Epoch 125/150\n",
            "768/768 [==============================] - 0s 24us/sample - loss: 0.6078 - acc: 0.6992\n",
            "Epoch 126/150\n",
            "768/768 [==============================] - 0s 27us/sample - loss: 0.6145 - acc: 0.6940\n",
            "Epoch 127/150\n",
            "768/768 [==============================] - 0s 20us/sample - loss: 0.6083 - acc: 0.6927\n",
            "Epoch 128/150\n",
            "768/768 [==============================] - 0s 25us/sample - loss: 0.6048 - acc: 0.6875\n",
            "Epoch 129/150\n",
            "768/768 [==============================] - 0s 23us/sample - loss: 0.6038 - acc: 0.6914\n",
            "Epoch 130/150\n",
            "768/768 [==============================] - 0s 23us/sample - loss: 0.6029 - acc: 0.6953\n",
            "Epoch 131/150\n",
            "768/768 [==============================] - 0s 21us/sample - loss: 0.6033 - acc: 0.6979\n",
            "Epoch 132/150\n",
            "768/768 [==============================] - 0s 22us/sample - loss: 0.6029 - acc: 0.6992\n",
            "Epoch 133/150\n",
            "768/768 [==============================] - 0s 22us/sample - loss: 0.6050 - acc: 0.6953\n",
            "Epoch 134/150\n",
            "768/768 [==============================] - 0s 21us/sample - loss: 0.6086 - acc: 0.7070\n",
            "Epoch 135/150\n",
            "768/768 [==============================] - 0s 23us/sample - loss: 0.6017 - acc: 0.6927\n",
            "Epoch 136/150\n",
            "768/768 [==============================] - 0s 22us/sample - loss: 0.5996 - acc: 0.6940\n",
            "Epoch 137/150\n",
            "768/768 [==============================] - 0s 21us/sample - loss: 0.6021 - acc: 0.6927\n",
            "Epoch 138/150\n",
            "768/768 [==============================] - 0s 22us/sample - loss: 0.5982 - acc: 0.7096\n",
            "Epoch 139/150\n",
            "768/768 [==============================] - 0s 22us/sample - loss: 0.5965 - acc: 0.6927\n",
            "Epoch 140/150\n",
            "768/768 [==============================] - 0s 21us/sample - loss: 0.5976 - acc: 0.6888\n",
            "Epoch 141/150\n",
            "768/768 [==============================] - 0s 22us/sample - loss: 0.6167 - acc: 0.6940\n",
            "Epoch 142/150\n",
            "768/768 [==============================] - 0s 20us/sample - loss: 0.5959 - acc: 0.7031\n",
            "Epoch 143/150\n",
            "768/768 [==============================] - 0s 21us/sample - loss: 0.5967 - acc: 0.7057\n",
            "Epoch 144/150\n",
            "768/768 [==============================] - 0s 22us/sample - loss: 0.5961 - acc: 0.7005\n",
            "Epoch 145/150\n",
            "768/768 [==============================] - 0s 22us/sample - loss: 0.6016 - acc: 0.7018\n",
            "Epoch 146/150\n",
            "768/768 [==============================] - 0s 22us/sample - loss: 0.5960 - acc: 0.6979\n",
            "Epoch 147/150\n",
            "768/768 [==============================] - 0s 21us/sample - loss: 0.5937 - acc: 0.7044\n",
            "Epoch 148/150\n",
            "768/768 [==============================] - 0s 22us/sample - loss: 0.5930 - acc: 0.7005\n",
            "Epoch 149/150\n",
            "768/768 [==============================] - 0s 22us/sample - loss: 0.5967 - acc: 0.6992\n",
            "Epoch 150/150\n",
            "768/768 [==============================] - 0s 21us/sample - loss: 0.5954 - acc: 0.6927\n"
          ],
          "name": "stdout"
        },
        {
          "output_type": "execute_result",
          "data": {
            "text/plain": [
              "<tensorflow.python.keras.callbacks.History at 0xb37702e80>"
            ]
          },
          "metadata": {
            "tags": []
          },
          "execution_count": 21
        }
      ]
    },
    {
      "cell_type": "code",
      "metadata": {
        "colab_type": "code",
        "id": "Z1wfKUxszPKa",
        "outputId": "0cdacd1d-6e5a-4bbe-fabb-568cd94724be",
        "colab": {
          "base_uri": "https://localhost:8080/",
          "height": 69
        }
      },
      "source": [
        "# evaluate the model\n",
        "scores = model.evaluate(X, Y)\n",
        "print(f\"{model.metrics_names[1]}: {scores[1]*100}\")"
      ],
      "execution_count": 0,
      "outputs": [
        {
          "output_type": "stream",
          "text": [
            "768/768 [==============================] - 0s 43us/sample - loss: 0.5944 - acc: 0.6836\n",
            "acc: 68.359375\n"
          ],
          "name": "stdout"
        }
      ]
    },
    {
      "cell_type": "markdown",
      "metadata": {
        "colab_type": "text",
        "id": "zHYB7k9q3O8T"
      },
      "source": [
        "### Why are we getting such different results if we re-run the model?\n",
        "\n",
        "<https://machinelearningmastery.com/randomness-in-machine-learning/>"
      ]
    },
    {
      "cell_type": "markdown",
      "metadata": {
        "colab_type": "text",
        "id": "ueDVpctAzvy8"
      },
      "source": [
        "# What architecture should we try?"
      ]
    },
    {
      "cell_type": "code",
      "metadata": {
        "colab_type": "code",
        "id": "6W2Sc7-LzQo_",
        "colab": {},
        "outputId": "5bea72cd-4519-428b-cd7d-0cc6d5bb20ac"
      },
      "source": [
        "model_improved = Sequential()\n",
        "\n",
        "# Input + 1 First Hidden\n",
        "model_improved.add(Dense(10, input_dim=8, activation='relu'))\n",
        "# Hidden\n",
        "model_improved.add(Dense(3, activation='sigmoid'))\n",
        "# Output\n",
        "model_improved.add(Dense(1, activation='sigmoid'))\n",
        "\n",
        "model_improved.compile(loss='binary_crossentropy', \n",
        "                       optimizer='adam',\n",
        "                       metrics=['accuracy'])\n",
        "\n",
        "model_improved.summary()"
      ],
      "execution_count": 0,
      "outputs": [
        {
          "output_type": "stream",
          "text": [
            "Model: \"sequential_1\"\n",
            "_________________________________________________________________\n",
            "Layer (type)                 Output Shape              Param #   \n",
            "=================================================================\n",
            "dense_2 (Dense)              (None, 10)                90        \n",
            "_________________________________________________________________\n",
            "dense_3 (Dense)              (None, 3)                 33        \n",
            "_________________________________________________________________\n",
            "dense_4 (Dense)              (None, 1)                 4         \n",
            "=================================================================\n",
            "Total params: 127\n",
            "Trainable params: 127\n",
            "Non-trainable params: 0\n",
            "_________________________________________________________________\n"
          ],
          "name": "stdout"
        }
      ]
    },
    {
      "cell_type": "code",
      "metadata": {
        "id": "AC3UuHNMcIEU",
        "colab_type": "code",
        "colab": {},
        "outputId": "9b2631d0-fc41-4cb8-92ac-746edb6f0d65"
      },
      "source": [
        "model_improved.fit(X,y, epochs=150, batch_size=32, verbose=0)"
      ],
      "execution_count": 0,
      "outputs": [
        {
          "output_type": "execute_result",
          "data": {
            "text/plain": [
              "<tensorflow.python.keras.callbacks.History at 0xb32187710>"
            ]
          },
          "metadata": {
            "tags": []
          },
          "execution_count": 25
        }
      ]
    },
    {
      "cell_type": "code",
      "metadata": {
        "id": "HK3yEuzKcIEc",
        "colab_type": "code",
        "colab": {},
        "outputId": "3b1d856a-317b-40de-dbae-1c6220b1c21f"
      },
      "source": [
        "score = model_improved.evaluate(X,y)\n",
        "print(f\"{model_improved.metrics_names[1]}: {scores[1]*100}\")"
      ],
      "execution_count": 0,
      "outputs": [
        {
          "output_type": "stream",
          "text": [
            "768/768 [==============================] - 0s 17us/sample - loss: 0.3969 - acc: 0.8164\n",
            "acc: 65.75520634651184\n"
          ],
          "name": "stdout"
        }
      ]
    },
    {
      "cell_type": "markdown",
      "metadata": {
        "colab_type": "text",
        "id": "tcjMuxtn6wIQ"
      },
      "source": [
        "# Activation Functions\n",
        "\n",
        "What is an activation function and how does it work?\n",
        "\n",
        "- Takes in a weighted sum of inputs + a bias from the previous layer and outputs an \"activation\" value.\n",
        "- Based its inputs the neuron decides how 'activated' it should be. This can be thought of as the neuron deciding how strongly to fire. You can also think of it as if the neuron is deciding how much of the signal that it has received to pass onto the next layer. \n",
        "- Our choice of activation function does not only affect signal that is passed forward but also affects the backpropagation algorithm. It affects how we update weights in reverse order since activated weight/input sums become the inputs of the next layer. \n"
      ]
    },
    {
      "cell_type": "markdown",
      "metadata": {
        "colab_type": "text",
        "id": "n_b0u8Ch60bA"
      },
      "source": [
        "## Step Function\n",
        "\n",
        "![Heaviside Step Function](https://upload.wikimedia.org/wikipedia/commons/thumb/d/d9/Dirac_distribution_CDF.svg/325px-Dirac_distribution_CDF.svg.png)\n",
        "\n",
        "All or nothing, a little extreme, which is fine, but makes updating weights through backpropagation impossible. Why? remember that during backpropagation we use derivatives in order to determine how much to update or not update weights. What is the derivative of the step function?"
      ]
    },
    {
      "cell_type": "markdown",
      "metadata": {
        "colab_type": "text",
        "id": "vKR0YhIVEnXZ"
      },
      "source": [
        "## Linear Function\n",
        "\n",
        "![Linear Function](http://www.roconnell.net/Parent%20function/linear.gif)\n",
        "\n",
        "The linear function takes the opposite tact from the step function and passes the signal onto the next layer by a constant factor. There are problems with this but the biggest problems again lie in backpropagation. The derivative of any linear function is a horizontal line which would indicate that we should update all weights by a constant amount every time -which on balance wouldn't change the behavior of our network. Linear functions are typically only used for very simple tasks where interpretability is important, but if interpretability is your highest priority, you probably shouldn't be using neural networks in the first place."
      ]
    },
    {
      "cell_type": "markdown",
      "metadata": {
        "colab_type": "text",
        "id": "JFurIVL6EkQ8"
      },
      "source": [
        "## Sigmoid Function\n",
        "\n",
        "![Sigmoid Function](https://upload.wikimedia.org/wikipedia/commons/thumb/8/88/Logistic-curve.svg/480px-Logistic-curve.svg.png)\n",
        "\n",
        "The sigmoid function works great as an activation function! it's continuously differentiable, its derivative doesn't have a constant slope, and having the higher slope in the middle pushes y value predictions towards extremes which is particularly useful for binary classification problems. I mean, this is why we use it as the squishifier in logistic regression as well. It constrains output, but over repeated epochs pushes predictions towards a strong binary prediction. \n",
        "\n",
        "What's the biggest problem with the sigmoid function? The fact that its slope gets pretty flat so quickly after its departure from zero. This means that updating weights based on its gradient really diminishes the size of our weight updates as our model gets more confident about its classifications. This is why even after so many iterations with our test score example we couldn't reach the levels of fit that our gradient descent based model could reach in just a few epochs."
      ]
    },
    {
      "cell_type": "markdown",
      "metadata": {
        "colab_type": "text",
        "id": "hm6p1HWbEhYi"
      },
      "source": [
        "## Tanh Function\n",
        "\n",
        "![Tanh Function](http://mathworld.wolfram.com/images/interactive/TanhReal.gif)\n",
        "\n",
        "What if the sigmoid function didn't get so flat quite as soon when moving away from zero and was a little bit steeper in the middle? That's basically the Tanh function. The Tanh function can actually be created by scaling the sigmoid function by 2 in the y dimension and subtracting 1 from all values. It has basically the same properties as the sigmoid, still struggles from diminishingly flat gradients as we move away from 0, but its derivative is higher around 0 causing weights to move to the extremes a little faster. "
      ]
    },
    {
      "cell_type": "markdown",
      "metadata": {
        "colab_type": "text",
        "id": "sFOn_L6gEcz1"
      },
      "source": [
        "## ReLU Function\n",
        "\n",
        "![ReLU Function](https://cdn-images-1.medium.com/max/937/1*oePAhrm74RNnNEolprmTaQ.png)\n",
        "\n",
        "ReLU stands for Rectified Linear Units it is by far the most commonly used activation function in modern neural networks. It doesn't activate neurons that are being passed a negative signal and passes on positive signals. Think about why this might be useful. Remember how a lot of our initial weights got set to negative numbers by chance? This would have dealt with those negative weights a lot faster than the sigmoid function updating. What does the derivative of this function look like? It looks like the step function! This means that not all neurons are activated. With sigmoid basically all of our neurons are passing some amount of signal even if it's small making it hard for the network to differentiate important and less important connections. ReLU turns off a portion of our less important neurons which decreases computational load, but also helps the network learn what the most important connections are faster. \n",
        "\n",
        "What's the problem with relu? Well the left half of its derivative function shows that for neurons that are initialized with weights that cause them to have no activation, our gradient will not update those neuron's weights, this can lead to dead neurons that never fire and whose weights never get updated. We would probably want to update the weights of neurons that didn't fire even if it's just by a little bit in case we got unlucky with our initial weights and want to give those neurons a chance of turning back on in the future."
      ]
    },
    {
      "cell_type": "markdown",
      "metadata": {
        "colab_type": "text",
        "id": "XWdvWOBIETwk"
      },
      "source": [
        "## Leaky ReLU\n",
        "\n",
        "![Leaky ReLU](https://cdn-images-1.medium.com/max/1600/1*ypsvQH7kvtI2BhzR2eT_Sw.png)\n",
        "\n",
        "Leaky ReLU accomplishes exactly that! it avoids having a gradient of 0 on the left side of its derivative function. This means that even \"dead\" neurons have a chance of being revived over enough iterations. In some specifications the slope of the leaky left-hand side can also be experimented with as a hyperparameter of the model!"
      ]
    },
    {
      "cell_type": "markdown",
      "metadata": {
        "colab_type": "text",
        "id": "FcAxkNFREMFb"
      },
      "source": [
        "## Softmax Function\n",
        "\n",
        "![Softmax Function](https://cdn-images-1.medium.com/max/800/1*670CdxchunD-yAuUWdI7Bw.png)\n",
        "\n",
        "Like the sigmoid function but more useful for multi-class classification problems. The softmax function can take any set of inputs and translate them into probabilities that sum up to 1. This means that we can throw any list of outputs at it and it will translate them into probabilities, this is extremely useful for multi-class classification problems. Like MNIST for example..."
      ]
    },
    {
      "cell_type": "markdown",
      "metadata": {
        "colab_type": "text",
        "id": "23-XRRXKHs34"
      },
      "source": [
        "## Major takeaways\n",
        "\n",
        "- ReLU is generally better at obtaining the optimal model fit.\n",
        "- Sigmoid and its derivatives are usually better at classification problems.\n",
        "- Softmax for multi-class classification problems. \n",
        "\n",
        "You'll typically see ReLU used for all initial layers and then the final layer being sigmoid or softmax for classification problems. But you can experiment and tune these selections as hyperparameters as well!"
      ]
    },
    {
      "cell_type": "markdown",
      "metadata": {
        "colab_type": "text",
        "id": "TWuoXZCCKCI7"
      },
      "source": [
        "## MNIST with Keras \n",
        "\n",
        "### This will be a good chance to bring up dropout regularization. :)"
      ]
    },
    {
      "cell_type": "code",
      "metadata": {
        "colab_type": "code",
        "id": "jmJ_5azs04pU",
        "colab": {}
      },
      "source": [
        "### Let's do it!\n",
        "from tensorflow import keras \n",
        "from tensorflow.keras.datasets import mnist\n",
        "from tensorflow.keras.models import Sequential\n",
        "from tensorflow.keras.layers import Dense\n",
        "\n",
        "import numpy as np"
      ],
      "execution_count": 0,
      "outputs": []
    },
    {
      "cell_type": "code",
      "metadata": {
        "id": "yZin_1gHcIFE",
        "colab_type": "code",
        "colab": {}
      },
      "source": [
        "batch_size = 64\n",
        "num_class = 10\n",
        "epochs = 150\n",
        "\n",
        "(X_train, y_train), (X_test, y_test) = mnist.load_data()"
      ],
      "execution_count": 0,
      "outputs": []
    },
    {
      "cell_type": "code",
      "metadata": {
        "id": "PaJE6Cx9cIFN",
        "colab_type": "code",
        "colab": {},
        "outputId": "abe76159-01ca-4ab8-c479-cbbd4d729eae"
      },
      "source": [
        "X_train.shape"
      ],
      "execution_count": 0,
      "outputs": [
        {
          "output_type": "execute_result",
          "data": {
            "text/plain": [
              "(60000, 28, 28)"
            ]
          },
          "metadata": {
            "tags": []
          },
          "execution_count": 32
        }
      ]
    },
    {
      "cell_type": "code",
      "metadata": {
        "id": "ue9IHIzycIFT",
        "colab_type": "code",
        "colab": {}
      },
      "source": [
        "# Hyperparameters\n",
        "X_train = X_train.reshape(60000, 784)\n",
        "X_test = X_test.reshape(10000, 784)"
      ],
      "execution_count": 0,
      "outputs": []
    },
    {
      "cell_type": "code",
      "metadata": {
        "id": "UU7C9m1PcIFd",
        "colab_type": "code",
        "colab": {}
      },
      "source": [
        "X_train = X_train.astype('float32')\n",
        "X_test = X_test.astype('float32')"
      ],
      "execution_count": 0,
      "outputs": []
    },
    {
      "cell_type": "code",
      "metadata": {
        "id": "8an5lNUtcIFk",
        "colab_type": "code",
        "colab": {}
      },
      "source": [
        "y_train = keras.utils.to_categorical(y_train, num_class)\n",
        "y_test = keras.utils.to_categorical(y_test, num_class)"
      ],
      "execution_count": 0,
      "outputs": []
    },
    {
      "cell_type": "code",
      "metadata": {
        "id": "aDEZrrymcIFw",
        "colab_type": "code",
        "colab": {},
        "outputId": "6da0c754-8fb5-477d-87e2-cedd03d149e7"
      },
      "source": [
        "y_train[0]"
      ],
      "execution_count": 0,
      "outputs": [
        {
          "output_type": "execute_result",
          "data": {
            "text/plain": [
              "array([0., 0., 0., 0., 0., 1., 0., 0., 0., 0.], dtype=float32)"
            ]
          },
          "metadata": {
            "tags": []
          },
          "execution_count": 47
        }
      ]
    },
    {
      "cell_type": "code",
      "metadata": {
        "id": "9_NPyMV5cIF4",
        "colab_type": "code",
        "colab": {},
        "outputId": "ad25d86f-9815-4c7e-fcf7-b72337df32bc"
      },
      "source": [
        "mnist_model = Sequential()\n",
        "\n",
        "# Hidden\n",
        "mnist_model.add(Dense(16, input_dim=784, activation='relu'))\n",
        "mnist_model.add(Dense(16, activation='relu'))\n",
        "# Output Layer\n",
        "mnist_model.add(Dense(10, activation='softmax'))\n",
        "\n",
        "mnist_model.compile(loss='categorical_crossentropy',\n",
        "                    optimizer='adam', \n",
        "                    metrics=['accuracy'])\n",
        "mnist_model.summary()"
      ],
      "execution_count": 0,
      "outputs": [
        {
          "output_type": "stream",
          "text": [
            "Model: \"sequential_4\"\n",
            "_________________________________________________________________\n",
            "Layer (type)                 Output Shape              Param #   \n",
            "=================================================================\n",
            "dense_9 (Dense)              (None, 16)                12560     \n",
            "_________________________________________________________________\n",
            "dense_10 (Dense)             (None, 16)                272       \n",
            "_________________________________________________________________\n",
            "dense_11 (Dense)             (None, 10)                170       \n",
            "=================================================================\n",
            "Total params: 13,002\n",
            "Trainable params: 13,002\n",
            "Non-trainable params: 0\n",
            "_________________________________________________________________\n"
          ],
          "name": "stdout"
        }
      ]
    },
    {
      "cell_type": "code",
      "metadata": {
        "id": "nNOpjT8-cIGC",
        "colab_type": "code",
        "colab": {}
      },
      "source": [
        "]"
      ],
      "execution_count": 0,
      "outputs": []
    },
    {
      "cell_type": "code",
      "metadata": {
        "id": "X_2-LQu0cIGG",
        "colab_type": "code",
        "colab": {},
        "outputId": "3bf0aede-cccc-495e-f3ff-ebfa1a6ecb6e"
      },
      "source": [
        "history = mnist_model.fit(X_train, y_train, batch_size=32, epochs=epochs, validation_split=.1, verbose=0)\n",
        "scores = mnist_model.evaluate(X_test, y_test)\n",
        "print(f'{mnist_model.metrics_names[1]}: {scores[1]*100}')"
      ],
      "execution_count": 0,
      "outputs": [
        {
          "output_type": "stream",
          "text": [
            "10000/10000 [==============================] - 0s 14us/sample - loss: 0.4054 - acc: 0.9254\n",
            "acc: 92.54000186920166\n"
          ],
          "name": "stdout"
        }
      ]
    },
    {
      "cell_type": "code",
      "metadata": {
        "colab_type": "code",
        "id": "CWDopERJ16yJ",
        "colab": {}
      },
      "source": [
        "### Try it with dropout\n",
        "\n",
        "def prepare_data(X):\n",
        "    \n",
        "    # Reshape x\n",
        "    # make sure everything a float\n",
        "    # etc.\n",
        "    return X_prepared\n",
        "\n",
        "y_pred = mnist_model.predict_classes(X_test)"
      ],
      "execution_count": 0,
      "outputs": []
    },
    {
      "cell_type": "markdown",
      "metadata": {
        "colab_type": "text",
        "id": "CKmx8153w9Ci"
      },
      "source": [
        "## What if we use dropout techniques to prevent overfitting? How does that affect our model?\n",
        "\n",
        "![Regularization](https://upload.wikimedia.org/wikipedia/commons/thumb/0/02/Regularization.svg/354px-Regularization.svg.png)"
      ]
    },
    {
      "cell_type": "code",
      "metadata": {
        "id": "WtL9cwDAcIGo",
        "colab_type": "code",
        "colab": {},
        "outputId": "cdb11ba2-5c83-4563-fd0c-8ca037fdfa19"
      },
      "source": [
        "### Let's do it!\n",
        "from tensorflow import keras \n",
        "from tensorflow.keras.datasets import mnist\n",
        "from tensorflow.keras.models import Sequential\n",
        "from tensorflow.keras.layers import Dense, Dropout\n",
        "\n",
        "import numpy as np\n",
        "\n",
        "mnist_model = Sequential()\n",
        "\n",
        "# Hidden\n",
        "mnist_model.add(Dense(32, input_dim=784, activation='relu'))\n",
        "mnist_model.add(Dropout(0.2))\n",
        "mnist_model.add(Dense(16, activation='relu'))\n",
        "mnist_model.add(Dropout(0.2))\n",
        "# Output Layer\n",
        "mnist_model.add(Dense(10, activation='softmax'))\n",
        "\n",
        "mnist_model.compile(loss='categorical_crossentropy',\n",
        "                    optimizer='adam', \n",
        "                    metrics=['accuracy'])\n",
        "mnist_model.summary()"
      ],
      "execution_count": 0,
      "outputs": [
        {
          "output_type": "stream",
          "text": [
            "Model: \"sequential_6\"\n",
            "_________________________________________________________________\n",
            "Layer (type)                 Output Shape              Param #   \n",
            "=================================================================\n",
            "dense_13 (Dense)             (None, 32)                25120     \n",
            "_________________________________________________________________\n",
            "dropout (Dropout)            (None, 32)                0         \n",
            "_________________________________________________________________\n",
            "dense_14 (Dense)             (None, 16)                528       \n",
            "_________________________________________________________________\n",
            "dropout_1 (Dropout)          (None, 16)                0         \n",
            "_________________________________________________________________\n",
            "dense_15 (Dense)             (None, 10)                170       \n",
            "=================================================================\n",
            "Total params: 25,818\n",
            "Trainable params: 25,818\n",
            "Non-trainable params: 0\n",
            "_________________________________________________________________\n"
          ],
          "name": "stdout"
        }
      ]
    },
    {
      "cell_type": "code",
      "metadata": {
        "id": "oQIT-T3dcIGz",
        "colab_type": "code",
        "colab": {}
      },
      "source": [
        "history = mnist_model.fit(X_train, y_train, batch_size=32, epochs=epochs, validation_split=.1, verbose=0)\n",
        "scores = mnist_model.evaluate(X_test, y_test)\n",
        "print(f'{mnist_model.metrics_names[1]}: {scores[1]*100}')"
      ],
      "execution_count": 0,
      "outputs": []
    }
  ]
}