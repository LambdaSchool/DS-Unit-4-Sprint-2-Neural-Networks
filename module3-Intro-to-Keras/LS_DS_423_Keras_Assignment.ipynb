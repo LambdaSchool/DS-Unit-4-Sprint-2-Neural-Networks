{
 "cells": [
  {
   "cell_type": "markdown",
   "metadata": {
    "colab_type": "text",
    "id": "pBQsZEJmubLs"
   },
   "source": [
    "## Use the Keras Library to build a Multi-Layer Perceptron Model on the Boston Housing dataset\n",
    "\n",
    "- The Boston Housing dataset comes with the Keras library so use Keras to import it into your notebook. \n",
    "- Normalize the data (all features should have roughly the same scale)\n",
    "- Import the type of model and layers that you will need from Keras.\n",
    "- Instantiate a model object and use `model.add()` to add layers to your model\n",
    "- Since this is a regression model you will have a single output node in the final layer.\n",
    "- Use activation functions that are appropriate for this task\n",
    "- Compile your model\n",
    "- Fit your model and report its accuracy in terms of Mean Squared Error\n",
    "- Use the history object that is returned from model.fit to make graphs of the model's loss or train/validation accuracies by epoch. \n",
    "- Run this same data through a linear regression model. Which achieves higher accuracy?\n",
    "- Do a little bit of feature engineering and see how that affects your neural network model. (you will need to change your model to accept more inputs)\n",
    "- After feature engineering, which model sees a greater accuracy boost due to the new features?"
   ]
  },
  {
   "cell_type": "code",
   "execution_count": 120,
   "metadata": {
    "colab": {},
    "colab_type": "code",
    "id": "8NLTAR87uYJ-"
   },
   "outputs": [],
   "source": [
    "from tensorflow import keras\n",
    "from tensorflow.keras.datasets import mnist\n",
    "from tensorflow.keras.models import Sequential\n",
    "from keras.layers import Dense, Dropout, Activation, Reshape, Conv2D, AveragePooling2D, Flatten\n",
    "from keras.layers import MaxPooling2D\n",
    "\n",
    "from sklearn.preprocessing import StandardScaler\n",
    "\n",
    "import numpy as np\n",
    "import pandas as pd"
   ]
  },
  {
   "cell_type": "code",
   "execution_count": 106,
   "metadata": {},
   "outputs": [],
   "source": [
    "from keras.datasets import boston_housing\n",
    "\n",
    "(train_data, train_targets), (test_data, test_targets) = boston_housing.load_data()"
   ]
  },
  {
   "cell_type": "code",
   "execution_count": 107,
   "metadata": {},
   "outputs": [
    {
     "data": {
      "text/plain": [
       "(404, 13)"
      ]
     },
     "execution_count": 107,
     "metadata": {},
     "output_type": "execute_result"
    }
   ],
   "source": [
    "train_data.shape"
   ]
  },
  {
   "cell_type": "markdown",
   "metadata": {},
   "source": [
    "## Normalize the Data"
   ]
  },
  {
   "cell_type": "code",
   "execution_count": 88,
   "metadata": {},
   "outputs": [],
   "source": [
    "scaler = StandardScaler()"
   ]
  },
  {
   "cell_type": "code",
   "execution_count": 89,
   "metadata": {},
   "outputs": [],
   "source": [
    "train_data = scaler.fit_transform(train_data)\n",
    "test_data = scaler.transform(test_data)"
   ]
  },
  {
   "cell_type": "code",
   "execution_count": 90,
   "metadata": {},
   "outputs": [
    {
     "data": {
      "text/plain": [
       "array([-0.27224633, -0.48361547, -0.43576161, -0.25683275, -0.1652266 ,\n",
       "       -0.1764426 ,  0.81306188,  0.1166983 , -0.62624905, -0.59517003,\n",
       "        1.14850044,  0.44807713,  0.8252202 ])"
      ]
     },
     "execution_count": 90,
     "metadata": {},
     "output_type": "execute_result"
    }
   ],
   "source": [
    "train_data[0]"
   ]
  },
  {
   "cell_type": "code",
   "execution_count": 91,
   "metadata": {},
   "outputs": [],
   "source": [
    "train_targets = train_targets.reshape(-1,1)\n",
    "test_targets = test_targets.reshape(-1,1)"
   ]
  },
  {
   "cell_type": "code",
   "execution_count": 95,
   "metadata": {},
   "outputs": [
    {
     "data": {
      "text/plain": [
       "array([[15.2],\n",
       "       [42.3],\n",
       "       [50. ],\n",
       "       [21.1],\n",
       "       [17.7],\n",
       "       [18.5],\n",
       "       [11.3],\n",
       "       [15.6],\n",
       "       [15.6],\n",
       "       [14.4],\n",
       "       [12.1],\n",
       "       [17.9],\n",
       "       [23.1],\n",
       "       [19.9],\n",
       "       [15.7],\n",
       "       [ 8.8],\n",
       "       [50. ],\n",
       "       [22.5],\n",
       "       [24.1],\n",
       "       [27.5],\n",
       "       [10.9],\n",
       "       [30.8],\n",
       "       [32.9],\n",
       "       [24. ],\n",
       "       [18.5],\n",
       "       [13.3],\n",
       "       [22.9],\n",
       "       [34.7],\n",
       "       [16.6],\n",
       "       [17.5],\n",
       "       [22.3],\n",
       "       [16.1],\n",
       "       [14.9],\n",
       "       [23.1],\n",
       "       [34.9],\n",
       "       [25. ],\n",
       "       [13.9],\n",
       "       [13.1],\n",
       "       [20.4],\n",
       "       [20. ],\n",
       "       [15.2],\n",
       "       [24.7],\n",
       "       [22.2],\n",
       "       [16.7],\n",
       "       [12.7],\n",
       "       [15.6],\n",
       "       [18.4],\n",
       "       [21. ],\n",
       "       [30.1],\n",
       "       [15.1],\n",
       "       [18.7],\n",
       "       [ 9.6],\n",
       "       [31.5],\n",
       "       [24.8],\n",
       "       [19.1],\n",
       "       [22. ],\n",
       "       [14.5],\n",
       "       [11. ],\n",
       "       [32. ],\n",
       "       [29.4],\n",
       "       [20.3],\n",
       "       [24.4],\n",
       "       [14.6],\n",
       "       [19.5],\n",
       "       [14.1],\n",
       "       [14.3],\n",
       "       [15.6],\n",
       "       [10.5],\n",
       "       [ 6.3],\n",
       "       [19.3],\n",
       "       [19.3],\n",
       "       [13.4],\n",
       "       [36.4],\n",
       "       [17.8],\n",
       "       [13.5],\n",
       "       [16.5],\n",
       "       [ 8.3],\n",
       "       [14.3],\n",
       "       [16. ],\n",
       "       [13.4],\n",
       "       [28.6],\n",
       "       [43.5],\n",
       "       [20.2],\n",
       "       [22. ],\n",
       "       [23. ],\n",
       "       [20.7],\n",
       "       [12.5],\n",
       "       [48.5],\n",
       "       [14.6],\n",
       "       [13.4],\n",
       "       [23.7],\n",
       "       [50. ],\n",
       "       [21.7],\n",
       "       [39.8],\n",
       "       [38.7],\n",
       "       [22.2],\n",
       "       [34.9],\n",
       "       [22.5],\n",
       "       [31.1],\n",
       "       [28.7],\n",
       "       [46. ],\n",
       "       [41.7],\n",
       "       [21. ],\n",
       "       [26.6],\n",
       "       [15. ],\n",
       "       [24.4],\n",
       "       [13.3],\n",
       "       [21.2],\n",
       "       [11.7],\n",
       "       [21.7],\n",
       "       [19.4],\n",
       "       [50. ],\n",
       "       [22.8],\n",
       "       [19.7],\n",
       "       [24.7],\n",
       "       [36.2],\n",
       "       [14.2],\n",
       "       [18.9],\n",
       "       [18.3],\n",
       "       [20.6],\n",
       "       [24.6],\n",
       "       [18.2],\n",
       "       [ 8.7],\n",
       "       [44. ],\n",
       "       [10.4],\n",
       "       [13.2],\n",
       "       [21.2],\n",
       "       [37. ],\n",
       "       [30.7],\n",
       "       [22.9],\n",
       "       [20. ],\n",
       "       [19.3],\n",
       "       [31.7],\n",
       "       [32. ],\n",
       "       [23.1],\n",
       "       [18.8],\n",
       "       [10.9],\n",
       "       [50. ],\n",
       "       [19.6],\n",
       "       [ 5. ],\n",
       "       [14.4],\n",
       "       [19.8],\n",
       "       [13.8],\n",
       "       [19.6],\n",
       "       [23.9],\n",
       "       [24.5],\n",
       "       [25. ],\n",
       "       [19.9],\n",
       "       [17.2],\n",
       "       [24.6],\n",
       "       [13.5],\n",
       "       [26.6],\n",
       "       [21.4],\n",
       "       [11.9],\n",
       "       [22.6],\n",
       "       [19.6],\n",
       "       [ 8.5],\n",
       "       [23.7],\n",
       "       [23.1],\n",
       "       [22.4],\n",
       "       [20.5],\n",
       "       [23.6],\n",
       "       [18.4],\n",
       "       [35.2],\n",
       "       [23.1],\n",
       "       [27.9],\n",
       "       [20.6],\n",
       "       [23.7],\n",
       "       [28. ],\n",
       "       [13.6],\n",
       "       [27.1],\n",
       "       [23.6],\n",
       "       [20.6],\n",
       "       [18.2],\n",
       "       [21.7],\n",
       "       [17.1],\n",
       "       [ 8.4],\n",
       "       [25.3],\n",
       "       [13.8],\n",
       "       [22.2],\n",
       "       [18.4],\n",
       "       [20.7],\n",
       "       [31.6],\n",
       "       [30.5],\n",
       "       [20.3],\n",
       "       [ 8.8],\n",
       "       [19.2],\n",
       "       [19.4],\n",
       "       [23.1],\n",
       "       [23. ],\n",
       "       [14.8],\n",
       "       [48.8],\n",
       "       [22.6],\n",
       "       [33.4],\n",
       "       [21.1],\n",
       "       [13.6],\n",
       "       [32.2],\n",
       "       [13.1],\n",
       "       [23.4],\n",
       "       [18.9],\n",
       "       [23.9],\n",
       "       [11.8],\n",
       "       [23.3],\n",
       "       [22.8],\n",
       "       [19.6],\n",
       "       [16.7],\n",
       "       [13.4],\n",
       "       [22.2],\n",
       "       [20.4],\n",
       "       [21.8],\n",
       "       [26.4],\n",
       "       [14.9],\n",
       "       [24.1],\n",
       "       [23.8],\n",
       "       [12.3],\n",
       "       [29.1],\n",
       "       [21. ],\n",
       "       [19.5],\n",
       "       [23.3],\n",
       "       [23.8],\n",
       "       [17.8],\n",
       "       [11.5],\n",
       "       [21.7],\n",
       "       [19.9],\n",
       "       [25. ],\n",
       "       [33.4],\n",
       "       [28.5],\n",
       "       [21.4],\n",
       "       [24.3],\n",
       "       [27.5],\n",
       "       [33.1],\n",
       "       [16.2],\n",
       "       [23.3],\n",
       "       [48.3],\n",
       "       [22.9],\n",
       "       [22.8],\n",
       "       [13.1],\n",
       "       [12.7],\n",
       "       [22.6],\n",
       "       [15. ],\n",
       "       [15.3],\n",
       "       [10.5],\n",
       "       [24. ],\n",
       "       [18.5],\n",
       "       [21.7],\n",
       "       [19.5],\n",
       "       [33.2],\n",
       "       [23.2],\n",
       "       [ 5. ],\n",
       "       [19.1],\n",
       "       [12.7],\n",
       "       [22.3],\n",
       "       [10.2],\n",
       "       [13.9],\n",
       "       [16.3],\n",
       "       [17. ],\n",
       "       [20.1],\n",
       "       [29.9],\n",
       "       [17.2],\n",
       "       [37.3],\n",
       "       [45.4],\n",
       "       [17.8],\n",
       "       [23.2],\n",
       "       [29. ],\n",
       "       [22. ],\n",
       "       [18. ],\n",
       "       [17.4],\n",
       "       [34.6],\n",
       "       [20.1],\n",
       "       [25. ],\n",
       "       [15.6],\n",
       "       [24.8],\n",
       "       [28.2],\n",
       "       [21.2],\n",
       "       [21.4],\n",
       "       [23.8],\n",
       "       [31. ],\n",
       "       [26.2],\n",
       "       [17.4],\n",
       "       [37.9],\n",
       "       [17.5],\n",
       "       [20. ],\n",
       "       [ 8.3],\n",
       "       [23.9],\n",
       "       [ 8.4],\n",
       "       [13.8],\n",
       "       [ 7.2],\n",
       "       [11.7],\n",
       "       [17.1],\n",
       "       [21.6],\n",
       "       [50. ],\n",
       "       [16.1],\n",
       "       [20.4],\n",
       "       [20.6],\n",
       "       [21.4],\n",
       "       [20.6],\n",
       "       [36.5],\n",
       "       [ 8.5],\n",
       "       [24.8],\n",
       "       [10.8],\n",
       "       [21.9],\n",
       "       [17.3],\n",
       "       [18.9],\n",
       "       [36.2],\n",
       "       [14.9],\n",
       "       [18.2],\n",
       "       [33.3],\n",
       "       [21.8],\n",
       "       [19.7],\n",
       "       [31.6],\n",
       "       [24.8],\n",
       "       [19.4],\n",
       "       [22.8],\n",
       "       [ 7.5],\n",
       "       [44.8],\n",
       "       [16.8],\n",
       "       [18.7],\n",
       "       [50. ],\n",
       "       [50. ],\n",
       "       [19.5],\n",
       "       [20.1],\n",
       "       [50. ],\n",
       "       [17.2],\n",
       "       [20.8],\n",
       "       [19.3],\n",
       "       [41.3],\n",
       "       [20.4],\n",
       "       [20.5],\n",
       "       [13.8],\n",
       "       [16.5],\n",
       "       [23.9],\n",
       "       [20.6],\n",
       "       [31.5],\n",
       "       [23.3],\n",
       "       [16.8],\n",
       "       [14. ],\n",
       "       [33.8],\n",
       "       [36.1],\n",
       "       [12.8],\n",
       "       [18.3],\n",
       "       [18.7],\n",
       "       [19.1],\n",
       "       [29. ],\n",
       "       [30.1],\n",
       "       [50. ],\n",
       "       [50. ],\n",
       "       [22. ],\n",
       "       [11.9],\n",
       "       [37.6],\n",
       "       [50. ],\n",
       "       [22.7],\n",
       "       [20.8],\n",
       "       [23.5],\n",
       "       [27.9],\n",
       "       [50. ],\n",
       "       [19.3],\n",
       "       [23.9],\n",
       "       [22.6],\n",
       "       [15.2],\n",
       "       [21.7],\n",
       "       [19.2],\n",
       "       [43.8],\n",
       "       [20.3],\n",
       "       [33.2],\n",
       "       [19.9],\n",
       "       [22.5],\n",
       "       [32.7],\n",
       "       [22. ],\n",
       "       [17.1],\n",
       "       [19. ],\n",
       "       [15. ],\n",
       "       [16.1],\n",
       "       [25.1],\n",
       "       [23.7],\n",
       "       [28.7],\n",
       "       [37.2],\n",
       "       [22.6],\n",
       "       [16.4],\n",
       "       [25. ],\n",
       "       [29.8],\n",
       "       [22.1],\n",
       "       [17.4],\n",
       "       [18.1],\n",
       "       [30.3],\n",
       "       [17.5],\n",
       "       [24.7],\n",
       "       [12.6],\n",
       "       [26.5],\n",
       "       [28.7],\n",
       "       [13.3],\n",
       "       [10.4],\n",
       "       [24.4],\n",
       "       [23. ],\n",
       "       [20. ],\n",
       "       [17.8],\n",
       "       [ 7. ],\n",
       "       [11.8],\n",
       "       [24.4],\n",
       "       [13.8],\n",
       "       [19.4],\n",
       "       [25.2],\n",
       "       [19.4],\n",
       "       [19.4],\n",
       "       [29.1]])"
      ]
     },
     "execution_count": 95,
     "metadata": {},
     "output_type": "execute_result"
    }
   ],
   "source": [
    "train_targets"
   ]
  },
  {
   "cell_type": "code",
   "execution_count": null,
   "metadata": {},
   "outputs": [],
   "source": []
  },
  {
   "cell_type": "markdown",
   "metadata": {},
   "source": [
    "## Modeling"
   ]
  },
  {
   "cell_type": "code",
   "execution_count": 185,
   "metadata": {},
   "outputs": [],
   "source": [
    "def build_model():\n",
    "    model = Sequential()\n",
    "    \n",
    "    model.add(keras.layers.Dense(64, input_dim=13, activation=\"sigmoid\"))\n",
    "    model.add(keras.layers.Dense(64, activation=\"sigmoid\"))\n",
    "    model.add(keras.layers.Dense(1, activation='sigmoid'))\n",
    "    \n",
    "    \n",
    "    model.compile(loss='binary_crossentropy',\n",
    "                  optimizer='adam',\n",
    "                  metrics=['MSE'])\n",
    "    return model"
   ]
  },
  {
   "cell_type": "code",
   "execution_count": 109,
   "metadata": {},
   "outputs": [
    {
     "name": "stdout",
     "output_type": "stream",
     "text": [
      "Processing fold # 0\n",
      "Processing fold # 1\n",
      "Processing fold # 2\n",
      "Processing fold # 3\n"
     ]
    }
   ],
   "source": [
    "k = 4\n",
    "num_val_samples = len(train_data) // k\n",
    "num_epochs = 100\n",
    "all_scores = []\n",
    "\n",
    "for i in range(k):\n",
    "    print(f'Processing fold # {i}')\n",
    "    val_data = train_data[i * num_val_samples: (i+1) * num_val_samples]\n",
    "    val_targets = train_targets[i * num_val_samples: (i+1) * num_val_samples]\n",
    "    \n",
    "    partial_train_data = np.concatenate(\n",
    "                            [train_data[:i * num_val_samples],\n",
    "                            train_data[(i+1) * num_val_samples:]],\n",
    "                            axis=0)\n",
    "    partial_train_targets = np.concatenate(\n",
    "                            [train_targets[:i * num_val_samples],\n",
    "                            train_targets[(i+1)*num_val_samples:]],\n",
    "                            axis=0)\n",
    "    model = build_model()\n",
    "    model.fit(partial_train_data,\n",
    "              partial_train_targets,\n",
    "              epochs=num_epochs,\n",
    "              batch_size=1,\n",
    "              verbose=0)\n",
    "    val_mse, val_mae = model.evaluate(val_data, val_targets, verbose=0)\n",
    "    all_scores.append([val_mse, val_mae])"
   ]
  },
  {
   "cell_type": "code",
   "execution_count": 187,
   "metadata": {},
   "outputs": [],
   "source": [
    "scores = []"
   ]
  },
  {
   "cell_type": "code",
   "execution_count": 188,
   "metadata": {},
   "outputs": [],
   "source": [
    "model = build_model()\n",
    "model.fit(partial_train_data,\n",
    "          partial_train_targets,\n",
    "          epochs=num_epochs,\n",
    "          batch_size=1,\n",
    "          verbose=0)\n",
    "val_mse, val_mae = model.evaluate(val_data, val_targets, verbose=0)\n",
    "scores.append([val_mse, val_mae])"
   ]
  },
  {
   "cell_type": "code",
   "execution_count": 189,
   "metadata": {},
   "outputs": [
    {
     "data": {
      "text/plain": [
       "[[-371.1892289265548, 643.0856]]"
      ]
     },
     "execution_count": 189,
     "metadata": {},
     "output_type": "execute_result"
    }
   ],
   "source": [
    "scores"
   ]
  },
  {
   "cell_type": "markdown",
   "metadata": {},
   "source": [
    "### Evaluate Model"
   ]
  },
  {
   "cell_type": "code",
   "execution_count": 111,
   "metadata": {},
   "outputs": [
    {
     "name": "stdout",
     "output_type": "stream",
     "text": [
      "102/102 [==============================] - 0s 3ms/sample - loss: -351.9829 - mean_squared_error: 570.7010\n"
     ]
    }
   ],
   "source": [
    "model = build_model()\n",
    "model.fit(train_data, train_targets, epochs=100, batch_size=16, verbose=0)\n",
    "test_mse_score, test_mae_score = model.evaluate(test_data, test_targets)"
   ]
  },
  {
   "cell_type": "markdown",
   "metadata": {
    "colab_type": "text",
    "id": "SfcFnOONyuNm"
   },
   "source": [
    "## Use the Keras Library to build an image recognition network using the Fashion-MNIST dataset (also comes with keras)\n",
    "\n",
    "- Load and preprocess the image data similar to how we preprocessed the MNIST data in class.\n",
    "- Make sure to one-hot encode your category labels\n",
    "- Make sure to have your final layer have as many nodes as the number of classes that you want to predict.\n",
    "- Try different hyperparameters. What is the highest accuracy that you are able to achieve.\n",
    "- Use the history object that is returned from model.fit to make graphs of the model's loss or train/validation accuracies by epoch. \n",
    "- Remember that neural networks fall prey to randomness so you may need to run your model multiple times (or use Cross Validation) in order to tell if a change to a hyperparameter is truly producing better results."
   ]
  },
  {
   "cell_type": "code",
   "execution_count": 175,
   "metadata": {},
   "outputs": [],
   "source": [
    "import matplotlib.pyplot as plt\n",
    "import tensorflow"
   ]
  },
  {
   "cell_type": "code",
   "execution_count": 176,
   "metadata": {
    "colab": {},
    "colab_type": "code",
    "id": "szi6-IpuzaH1"
   },
   "outputs": [],
   "source": [
    "from keras.datasets import mnist\n",
    "\n",
    "(train_data, train_targets), (test_data, test_targets) = mnist.load_data()"
   ]
  },
  {
   "cell_type": "code",
   "execution_count": 199,
   "metadata": {},
   "outputs": [
    {
     "data": {
      "text/plain": [
       "60000"
      ]
     },
     "execution_count": 199,
     "metadata": {},
     "output_type": "execute_result"
    }
   ],
   "source": [
    "train_data.shape[0]"
   ]
  },
  {
   "cell_type": "code",
   "execution_count": 178,
   "metadata": {},
   "outputs": [
    {
     "data": {
      "text/plain": [
       "(28, 28)"
      ]
     },
     "execution_count": 178,
     "metadata": {},
     "output_type": "execute_result"
    }
   ],
   "source": [
    "train_data[0].shape"
   ]
  },
  {
   "cell_type": "code",
   "execution_count": 203,
   "metadata": {},
   "outputs": [],
   "source": [
    "trainX2 = train_data.reshape((train_data.shape[0], 28, 28, 1))\n",
    "testX2 = test_data.reshape((test_data.shape[0], 28, 28, 1))"
   ]
  },
  {
   "cell_type": "code",
   "execution_count": 212,
   "metadata": {},
   "outputs": [],
   "source": [
    "model = Sequential()\n",
    "#model.add(keras.layers.Reshape(target_shape = (28,28),input_shape=(784,)))\n",
    "model.add(keras.layers.Flatten())\n",
    "model.add(keras.layers.Dense(120, activation='sigmoid'))\n",
    "model.add(keras.layers.Dense(120, activation='sigmoid'))\n",
    "model.add(keras.layers.Dense(120, activation='sigmoid'))\n",
    "model.add(keras.layers.Dense(120, activation='sigmoid'))\n",
    "model.add(keras.layers.Dense(10, activation='softmax'))"
   ]
  },
  {
   "cell_type": "code",
   "execution_count": 215,
   "metadata": {},
   "outputs": [
    {
     "name": "stdout",
     "output_type": "stream",
     "text": [
      "Epoch 1/30\n",
      "60000/60000 [==============================] - 4s 70us/sample - loss: 102.5560 - acc: 0.1056\n",
      "Epoch 2/30\n",
      "60000/60000 [==============================] - 4s 59us/sample - loss: 102.5557 - acc: 0.0373\n",
      "Epoch 3/30\n",
      "60000/60000 [==============================] - 4s 59us/sample - loss: 102.5558 - acc: 0.1984\n",
      "Epoch 4/30\n",
      "60000/60000 [==============================] - 4s 59us/sample - loss: 102.5557 - acc: 0.0672\n",
      "Epoch 5/30\n",
      "60000/60000 [==============================] - 4s 60us/sample - loss: 102.5558 - acc: 0.1083\n",
      "Epoch 6/30\n",
      "60000/60000 [==============================] - 4s 60us/sample - loss: 102.5558 - acc: 0.1333\n",
      "Epoch 7/30\n",
      "60000/60000 [==============================] - 4s 62us/sample - loss: 102.5557 - acc: 0.0064\n",
      "Epoch 8/30\n",
      "60000/60000 [==============================] - 4s 61us/sample - loss: 102.5558 - acc: 0.1429\n",
      "Epoch 9/30\n",
      "60000/60000 [==============================] - 4s 62us/sample - loss: 102.5558 - acc: 0.1067\n",
      "Epoch 10/30\n",
      "60000/60000 [==============================] - 4s 61us/sample - loss: 102.5558 - acc: 0.0725\n",
      "Epoch 11/30\n",
      "60000/60000 [==============================] - 4s 66us/sample - loss: 102.5558 - acc: 0.1984\n",
      "Epoch 12/30\n",
      "60000/60000 [==============================] - 4s 64us/sample - loss: 102.5558 - acc: 0.0437\n",
      "Epoch 13/30\n",
      "60000/60000 [==============================] - 4s 66us/sample - loss: 102.5558 - acc: 0.1200\n",
      "Epoch 14/30\n",
      "60000/60000 [==============================] - 4s 71us/sample - loss: 102.5557 - acc: 0.0485\n",
      "Epoch 15/30\n",
      "60000/60000 [==============================] - 5s 83us/sample - loss: 102.5558 - acc: 0.0672\n",
      "Epoch 16/30\n",
      "60000/60000 [==============================] - 4s 67us/sample - loss: 102.5558 - acc: 0.1013\n",
      "Epoch 17/30\n",
      "60000/60000 [==============================] - 4s 66us/sample - loss: 102.5557 - acc: 0.0149\n",
      "Epoch 18/30\n",
      "60000/60000 [==============================] - 3s 58us/sample - loss: 102.5558 - acc: 0.1013\n",
      "Epoch 19/30\n",
      "60000/60000 [==============================] - 5s 83us/sample - loss: 102.5558 - acc: 0.0747\n",
      "Epoch 20/30\n",
      "60000/60000 [==============================] - 3s 57us/sample - loss: 102.5557 - acc: 0.1365\n",
      "Epoch 21/30\n",
      "60000/60000 [==============================] - 3s 53us/sample - loss: 102.5558 - acc: 0.0832\n",
      "Epoch 22/30\n",
      "60000/60000 [==============================] - 3s 56us/sample - loss: 102.5558 - acc: 0.1131\n",
      "Epoch 23/30\n",
      "60000/60000 [==============================] - 3s 52us/sample - loss: 102.5558 - acc: 0.0949\n",
      "Epoch 24/30\n",
      "60000/60000 [==============================] - 3s 56us/sample - loss: 102.5558 - acc: 0.0384\n",
      "Epoch 25/30\n",
      "60000/60000 [==============================] - 3s 56us/sample - loss: 102.5557 - acc: 0.0843\n",
      "Epoch 26/30\n",
      "60000/60000 [==============================] - 3s 54us/sample - loss: 102.5558 - acc: 0.0875\n",
      "Epoch 27/30\n",
      "60000/60000 [==============================] - 3s 52us/sample - loss: 102.5558 - acc: 0.0491\n",
      "Epoch 28/30\n",
      "60000/60000 [==============================] - 3s 54us/sample - loss: 102.5558 - acc: 0.0245\n",
      "Epoch 29/30\n",
      "60000/60000 [==============================] - 3s 58us/sample - loss: 102.5558 - acc: 0.1323\n",
      "Epoch 30/30\n",
      "60000/60000 [==============================] - 4s 71us/sample - loss: 102.5557 - acc: 0.1365\n"
     ]
    }
   ],
   "source": [
    "adam = keras.optimizers.Adam(lr=0.01, beta_1=0.9, beta_2=0.999, epsilon=1e-08)\n",
    "model.compile(loss='categorical_crossentropy', optimizer=adam, metrics=['accuracy'])\n",
    "\n",
    "model.fit(trainX2, train_targets, epochs=30, batch_size=64)\n",
    "y_pred = model.predict_classes(testX2)\n"
   ]
  },
  {
   "cell_type": "markdown",
   "metadata": {
    "colab_type": "text",
    "id": "zv_3xNMjzdLI"
   },
   "source": [
    "## Stretch Goals:\n",
    "\n",
    "- Use Hyperparameter Tuning to make the accuracy of your models as high as possible. (error as low as possible)\n",
    "- Use Cross Validation techniques to get more consistent results with your model.\n",
    "- Use GridSearchCV to try different combinations of hyperparameters. \n",
    "- Start looking into other types of Keras layers for CNNs and RNNs maybe try and build a CNN model for fashion-MNIST to see how the results compare."
   ]
  }
 ],
 "metadata": {
  "colab": {
   "name": "LS_DS_433_Keras_Assignment.ipynb",
   "provenance": [],
   "version": "0.3.2"
  },
  "kernelspec": {
   "display_name": "Python 3",
   "language": "python",
   "name": "python3"
  },
  "language_info": {
   "codemirror_mode": {
    "name": "ipython",
    "version": 3
   },
   "file_extension": ".py",
   "mimetype": "text/x-python",
   "name": "python",
   "nbconvert_exporter": "python",
   "pygments_lexer": "ipython3",
   "version": "3.7.1"
  }
 },
 "nbformat": 4,
 "nbformat_minor": 2
}
