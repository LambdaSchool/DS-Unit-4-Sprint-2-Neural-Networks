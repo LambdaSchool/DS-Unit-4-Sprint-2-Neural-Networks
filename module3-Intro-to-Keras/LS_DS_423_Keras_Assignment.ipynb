{
 "cells": [
  {
   "cell_type": "markdown",
   "metadata": {
    "colab_type": "text",
    "id": "pBQsZEJmubLs"
   },
   "source": [
    "<img align=\"left\" src=\"https://lever-client-logos.s3.amazonaws.com/864372b1-534c-480e-acd5-9711f850815c-1524247202159.png\" width=200>\n",
    "<br></br>\n",
    "\n",
    "# Neural Network Framework (Keras)\n",
    "\n",
    "## *Data Science Unit 4 Sprint 2 Assignmnet 3*\n",
    "\n",
    "## Use the Keras Library to build a Multi-Layer Perceptron Model on the Boston Housing dataset\n",
    "\n",
    "- The Boston Housing dataset comes with the Keras library so use Keras to import it into your notebook. \n",
    "- Normalize the data (all features should have roughly the same scale)\n",
    "- Import the type of model and layers that you will need from Keras.\n",
    "- Instantiate a model object and use `model.add()` to add layers to your model\n",
    "- Since this is a regression model you will have a single output node in the final layer.\n",
    "- Use activation functions that are appropriate for this task\n",
    "- Compile your model\n",
    "- Fit your model and report its accuracy in terms of Mean Squared Error\n",
    "- Use the history object that is returned from model.fit to make graphs of the model's loss or train/validation accuracies by epoch. \n",
    "- Run this same data through a linear regression model. Which achieves higher accuracy?\n",
    "- Do a little bit of feature engineering and see how that affects your neural network model. (you will need to change your model to accept more inputs)\n",
    "- After feature engineering, which model sees a greater accuracy boost due to the new features?"
   ]
  },
  {
   "cell_type": "code",
   "execution_count": 14,
   "metadata": {},
   "outputs": [],
   "source": [
    "import tensorflow as tf\n",
    "data = tf.contrib.learn.datasets.load_dataset('boston')\n",
    "from tensorflow.keras.models import Sequential\n",
    "from tensorflow.keras.layers import Dense\n",
    "import numpy as np"
   ]
  },
  {
   "cell_type": "code",
   "execution_count": 15,
   "metadata": {},
   "outputs": [
    {
     "data": {
      "text/plain": [
       "'1.14.0'"
      ]
     },
     "execution_count": 15,
     "metadata": {},
     "output_type": "execute_result"
    }
   ],
   "source": [
    "tensorflow.__version__"
   ]
  },
  {
   "cell_type": "code",
   "execution_count": 16,
   "metadata": {},
   "outputs": [
    {
     "data": {
      "text/plain": [
       "<module 'tensorflow' from '/usr/local/anaconda3/envs/dl/lib/python3.7/site-packages/tensorflow/__init__.py'>"
      ]
     },
     "execution_count": 16,
     "metadata": {},
     "output_type": "execute_result"
    }
   ],
   "source": [
    "tensorflow"
   ]
  },
  {
   "cell_type": "code",
   "execution_count": 17,
   "metadata": {},
   "outputs": [],
   "source": [
    "X_train,y_train = data.data, data.target"
   ]
  },
  {
   "cell_type": "code",
   "execution_count": 18,
   "metadata": {},
   "outputs": [
    {
     "data": {
      "text/plain": [
       "array([[6.3200e-03, 1.8000e+01, 2.3100e+00, ..., 1.5300e+01, 3.9690e+02,\n",
       "        4.9800e+00],\n",
       "       [2.7310e-02, 0.0000e+00, 7.0700e+00, ..., 1.7800e+01, 3.9690e+02,\n",
       "        9.1400e+00],\n",
       "       [2.7290e-02, 0.0000e+00, 7.0700e+00, ..., 1.7800e+01, 3.9283e+02,\n",
       "        4.0300e+00],\n",
       "       ...,\n",
       "       [6.0760e-02, 0.0000e+00, 1.1930e+01, ..., 2.1000e+01, 3.9690e+02,\n",
       "        5.6400e+00],\n",
       "       [1.0959e-01, 0.0000e+00, 1.1930e+01, ..., 2.1000e+01, 3.9345e+02,\n",
       "        6.4800e+00],\n",
       "       [4.7410e-02, 0.0000e+00, 1.1930e+01, ..., 2.1000e+01, 3.9690e+02,\n",
       "        7.8800e+00]])"
      ]
     },
     "execution_count": 18,
     "metadata": {},
     "output_type": "execute_result"
    }
   ],
   "source": [
    "X_train"
   ]
  },
  {
   "cell_type": "code",
   "execution_count": 30,
   "metadata": {},
   "outputs": [],
   "source": [
    "model = Sequential()"
   ]
  },
  {
   "cell_type": "code",
   "execution_count": 31,
   "metadata": {},
   "outputs": [
    {
     "data": {
      "text/plain": [
       "(506, 13)"
      ]
     },
     "execution_count": 31,
     "metadata": {},
     "output_type": "execute_result"
    }
   ],
   "source": [
    "X_train.shape"
   ]
  },
  {
   "cell_type": "code",
   "execution_count": 63,
   "metadata": {},
   "outputs": [
    {
     "data": {
      "text/plain": [
       "array([24. , 21.6, 34.7, 33.4, 36.2, 28.7, 22.9, 27.1, 16.5, 18.9, 15. ,\n",
       "       18.9, 21.7, 20.4, 18.2, 19.9, 23.1, 17.5, 20.2, 18.2, 13.6, 19.6,\n",
       "       15.2, 14.5, 15.6, 13.9, 16.6, 14.8, 18.4, 21. , 12.7, 14.5, 13.2,\n",
       "       13.1, 13.5, 18.9, 20. , 21. , 24.7, 30.8, 34.9, 26.6, 25.3, 24.7,\n",
       "       21.2, 19.3, 20. , 16.6, 14.4, 19.4, 19.7, 20.5, 25. , 23.4, 18.9,\n",
       "       35.4, 24.7, 31.6, 23.3, 19.6, 18.7, 16. , 22.2, 25. , 33. , 23.5,\n",
       "       19.4, 22. , 17.4, 20.9, 24.2, 21.7, 22.8, 23.4, 24.1, 21.4, 20. ,\n",
       "       20.8, 21.2, 20.3, 28. , 23.9, 24.8, 22.9, 23.9, 26.6, 22.5, 22.2,\n",
       "       23.6, 28.7, 22.6, 22. , 22.9, 25. , 20.6, 28.4, 21.4, 38.7, 43.8,\n",
       "       33.2, 27.5, 26.5, 18.6, 19.3, 20.1, 19.5, 19.5, 20.4, 19.8, 19.4,\n",
       "       21.7, 22.8, 18.8, 18.7, 18.5, 18.3, 21.2, 19.2, 20.4, 19.3, 22. ,\n",
       "       20.3, 20.5, 17.3, 18.8, 21.4, 15.7, 16.2, 18. , 14.3, 19.2, 19.6,\n",
       "       23. , 18.4, 15.6, 18.1, 17.4, 17.1, 13.3, 17.8, 14. , 14.4, 13.4,\n",
       "       15.6, 11.8, 13.8, 15.6, 14.6, 17.8, 15.4, 21.5, 19.6, 15.3, 19.4,\n",
       "       17. , 15.6, 13.1, 41.3, 24.3, 23.3, 27. , 50. , 50. , 50. , 22.7,\n",
       "       25. , 50. , 23.8, 23.8, 22.3, 17.4, 19.1, 23.1, 23.6, 22.6, 29.4,\n",
       "       23.2, 24.6, 29.9, 37.2, 39.8, 36.2, 37.9, 32.5, 26.4, 29.6, 50. ,\n",
       "       32. , 29.8, 34.9, 37. , 30.5, 36.4, 31.1, 29.1, 50. , 33.3, 30.3,\n",
       "       34.6, 34.9, 32.9, 24.1, 42.3, 48.5, 50. , 22.6, 24.4, 22.5, 24.4,\n",
       "       20. , 21.7, 19.3, 22.4, 28.1, 23.7, 25. , 23.3, 28.7, 21.5, 23. ,\n",
       "       26.7, 21.7, 27.5, 30.1, 44.8, 50. , 37.6, 31.6, 46.7, 31.5, 24.3,\n",
       "       31.7, 41.7, 48.3, 29. , 24. , 25.1, 31.5, 23.7, 23.3, 22. , 20.1,\n",
       "       22.2, 23.7, 17.6, 18.5, 24.3, 20.5, 24.5, 26.2, 24.4, 24.8, 29.6,\n",
       "       42.8, 21.9, 20.9, 44. , 50. , 36. , 30.1, 33.8, 43.1, 48.8, 31. ,\n",
       "       36.5, 22.8, 30.7, 50. , 43.5, 20.7, 21.1, 25.2, 24.4, 35.2, 32.4,\n",
       "       32. , 33.2, 33.1, 29.1, 35.1, 45.4, 35.4, 46. , 50. , 32.2, 22. ,\n",
       "       20.1, 23.2, 22.3, 24.8, 28.5, 37.3, 27.9, 23.9, 21.7, 28.6, 27.1,\n",
       "       20.3, 22.5, 29. , 24.8, 22. , 26.4, 33.1, 36.1, 28.4, 33.4, 28.2,\n",
       "       22.8, 20.3, 16.1, 22.1, 19.4, 21.6, 23.8, 16.2, 17.8, 19.8, 23.1,\n",
       "       21. , 23.8, 23.1, 20.4, 18.5, 25. , 24.6, 23. , 22.2, 19.3, 22.6,\n",
       "       19.8, 17.1, 19.4, 22.2, 20.7, 21.1, 19.5, 18.5, 20.6, 19. , 18.7,\n",
       "       32.7, 16.5, 23.9, 31.2, 17.5, 17.2, 23.1, 24.5, 26.6, 22.9, 24.1,\n",
       "       18.6, 30.1, 18.2, 20.6, 17.8, 21.7, 22.7, 22.6, 25. , 19.9, 20.8,\n",
       "       16.8, 21.9, 27.5, 21.9, 23.1, 50. , 50. , 50. , 50. , 50. , 13.8,\n",
       "       13.8, 15. , 13.9, 13.3, 13.1, 10.2, 10.4, 10.9, 11.3, 12.3,  8.8,\n",
       "        7.2, 10.5,  7.4, 10.2, 11.5, 15.1, 23.2,  9.7, 13.8, 12.7, 13.1,\n",
       "       12.5,  8.5,  5. ,  6.3,  5.6,  7.2, 12.1,  8.3,  8.5,  5. , 11.9,\n",
       "       27.9, 17.2, 27.5, 15. , 17.2, 17.9, 16.3,  7. ,  7.2,  7.5, 10.4,\n",
       "        8.8,  8.4, 16.7, 14.2, 20.8, 13.4, 11.7,  8.3, 10.2, 10.9, 11. ,\n",
       "        9.5, 14.5, 14.1, 16.1, 14.3, 11.7, 13.4,  9.6,  8.7,  8.4, 12.8,\n",
       "       10.5, 17.1, 18.4, 15.4, 10.8, 11.8, 14.9, 12.6, 14.1, 13. , 13.4,\n",
       "       15.2, 16.1, 17.8, 14.9, 14.1, 12.7, 13.5, 14.9, 20. , 16.4, 17.7,\n",
       "       19.5, 20.2, 21.4, 19.9, 19. , 19.1, 19.1, 20.1, 19.9, 19.6, 23.2,\n",
       "       29.8, 13.8, 13.3, 16.7, 12. , 14.6, 21.4, 23. , 23.7, 25. , 21.8,\n",
       "       20.6, 21.2, 19.1, 20.6, 15.2,  7. ,  8.1, 13.6, 20.1, 21.8, 24.5,\n",
       "       23.1, 19.7, 18.3, 21.2, 17.5, 16.8, 22.4, 20.6, 23.9, 22. , 11.9])"
      ]
     },
     "execution_count": 63,
     "metadata": {},
     "output_type": "execute_result"
    }
   ],
   "source": [
    "y_train"
   ]
  },
  {
   "cell_type": "code",
   "execution_count": 71,
   "metadata": {},
   "outputs": [],
   "source": [
    "model.add(Dense(20,input_dim=13,activation='relu'))\n",
    "model.add(Dense(20,activation='relu'))\n",
    "model.add(Dense(1,activation='relu'))"
   ]
  },
  {
   "cell_type": "code",
   "execution_count": 72,
   "metadata": {},
   "outputs": [],
   "source": [
    "model.compile(loss='mean_squared_error', optimizer='adam', metrics=['accuracy'])"
   ]
  },
  {
   "cell_type": "code",
   "execution_count": 73,
   "metadata": {},
   "outputs": [
    {
     "name": "stdout",
     "output_type": "stream",
     "text": [
      "Epoch 1/150\n",
      "506/506 [==============================] - 0s 798us/sample - loss: 592.1469 - acc: 0.0000e+00\n",
      "Epoch 2/150\n",
      "506/506 [==============================] - 0s 79us/sample - loss: 592.1469 - acc: 0.0000e+00\n",
      "Epoch 3/150\n",
      "506/506 [==============================] - 0s 79us/sample - loss: 592.1469 - acc: 0.0000e+00\n",
      "Epoch 4/150\n",
      "506/506 [==============================] - 0s 81us/sample - loss: 592.1469 - acc: 0.0000e+00\n",
      "Epoch 5/150\n",
      "506/506 [==============================] - 0s 81us/sample - loss: 592.1469 - acc: 0.0000e+00\n",
      "Epoch 6/150\n",
      "506/506 [==============================] - 0s 89us/sample - loss: 592.1469 - acc: 0.0000e+00\n",
      "Epoch 7/150\n",
      "506/506 [==============================] - 0s 65us/sample - loss: 592.1469 - acc: 0.0000e+00\n",
      "Epoch 8/150\n",
      "506/506 [==============================] - 0s 65us/sample - loss: 592.1469 - acc: 0.0000e+00\n",
      "Epoch 9/150\n",
      "506/506 [==============================] - 0s 62us/sample - loss: 592.1469 - acc: 0.0000e+00\n",
      "Epoch 10/150\n",
      "506/506 [==============================] - 0s 62us/sample - loss: 592.1469 - acc: 0.0000e+00\n",
      "Epoch 11/150\n",
      "506/506 [==============================] - 0s 64us/sample - loss: 592.1469 - acc: 0.0000e+00\n",
      "Epoch 12/150\n",
      "506/506 [==============================] - 0s 63us/sample - loss: 592.1469 - acc: 0.0000e+00\n",
      "Epoch 13/150\n",
      "506/506 [==============================] - 0s 58us/sample - loss: 592.1469 - acc: 0.0000e+00\n",
      "Epoch 14/150\n",
      "506/506 [==============================] - 0s 64us/sample - loss: 592.1469 - acc: 0.0000e+00\n",
      "Epoch 15/150\n",
      "506/506 [==============================] - 0s 61us/sample - loss: 592.1469 - acc: 0.0000e+00\n",
      "Epoch 16/150\n",
      "506/506 [==============================] - 0s 63us/sample - loss: 592.1469 - acc: 0.0000e+00\n",
      "Epoch 17/150\n",
      "506/506 [==============================] - 0s 65us/sample - loss: 592.1469 - acc: 0.0000e+00\n",
      "Epoch 18/150\n",
      "506/506 [==============================] - 0s 61us/sample - loss: 592.1469 - acc: 0.0000e+00\n",
      "Epoch 19/150\n",
      "506/506 [==============================] - 0s 61us/sample - loss: 592.1469 - acc: 0.0000e+00\n",
      "Epoch 20/150\n",
      "506/506 [==============================] - 0s 66us/sample - loss: 592.1469 - acc: 0.0000e+00\n",
      "Epoch 21/150\n",
      "506/506 [==============================] - 0s 61us/sample - loss: 592.1469 - acc: 0.0000e+00\n",
      "Epoch 22/150\n",
      "506/506 [==============================] - 0s 64us/sample - loss: 592.1469 - acc: 0.0000e+00\n",
      "Epoch 23/150\n",
      "506/506 [==============================] - 0s 65us/sample - loss: 592.1469 - acc: 0.0000e+00\n",
      "Epoch 24/150\n",
      "506/506 [==============================] - 0s 67us/sample - loss: 592.1469 - acc: 0.0000e+00\n",
      "Epoch 25/150\n",
      "506/506 [==============================] - 0s 68us/sample - loss: 592.1469 - acc: 0.0000e+00\n",
      "Epoch 26/150\n",
      "506/506 [==============================] - 0s 66us/sample - loss: 592.1469 - acc: 0.0000e+00\n",
      "Epoch 27/150\n",
      "506/506 [==============================] - 0s 67us/sample - loss: 592.1469 - acc: 0.0000e+00\n",
      "Epoch 28/150\n",
      "506/506 [==============================] - 0s 65us/sample - loss: 592.1469 - acc: 0.0000e+00\n",
      "Epoch 29/150\n",
      "506/506 [==============================] - 0s 65us/sample - loss: 592.1469 - acc: 0.0000e+00\n",
      "Epoch 30/150\n",
      "506/506 [==============================] - 0s 66us/sample - loss: 592.1469 - acc: 0.0000e+00\n",
      "Epoch 31/150\n",
      "506/506 [==============================] - 0s 64us/sample - loss: 592.1469 - acc: 0.0000e+00\n",
      "Epoch 32/150\n",
      "506/506 [==============================] - 0s 65us/sample - loss: 592.1469 - acc: 0.0000e+00\n",
      "Epoch 33/150\n",
      "506/506 [==============================] - 0s 65us/sample - loss: 592.1469 - acc: 0.0000e+00\n",
      "Epoch 34/150\n",
      "506/506 [==============================] - 0s 65us/sample - loss: 592.1469 - acc: 0.0000e+00\n",
      "Epoch 35/150\n",
      "506/506 [==============================] - 0s 64us/sample - loss: 592.1469 - acc: 0.0000e+00\n",
      "Epoch 36/150\n",
      "506/506 [==============================] - 0s 62us/sample - loss: 592.1469 - acc: 0.0000e+00\n",
      "Epoch 37/150\n",
      "506/506 [==============================] - 0s 62us/sample - loss: 592.1469 - acc: 0.0000e+00\n",
      "Epoch 38/150\n",
      "506/506 [==============================] - 0s 61us/sample - loss: 592.1469 - acc: 0.0000e+00\n",
      "Epoch 39/150\n",
      "506/506 [==============================] - 0s 62us/sample - loss: 592.1469 - acc: 0.0000e+00\n",
      "Epoch 40/150\n",
      "506/506 [==============================] - 0s 64us/sample - loss: 592.1469 - acc: 0.0000e+00\n",
      "Epoch 41/150\n",
      "506/506 [==============================] - 0s 62us/sample - loss: 592.1469 - acc: 0.0000e+00\n",
      "Epoch 42/150\n",
      "506/506 [==============================] - 0s 63us/sample - loss: 592.1469 - acc: 0.0000e+00\n",
      "Epoch 43/150\n",
      "506/506 [==============================] - 0s 63us/sample - loss: 592.1469 - acc: 0.0000e+00\n",
      "Epoch 44/150\n",
      "506/506 [==============================] - 0s 64us/sample - loss: 592.1469 - acc: 0.0000e+00\n",
      "Epoch 45/150\n",
      "506/506 [==============================] - 0s 63us/sample - loss: 592.1469 - acc: 0.0000e+00\n",
      "Epoch 46/150\n",
      "506/506 [==============================] - 0s 62us/sample - loss: 592.1469 - acc: 0.0000e+00\n",
      "Epoch 47/150\n",
      "506/506 [==============================] - 0s 64us/sample - loss: 592.1469 - acc: 0.0000e+00\n",
      "Epoch 48/150\n",
      "506/506 [==============================] - 0s 63us/sample - loss: 592.1469 - acc: 0.0000e+00\n",
      "Epoch 49/150\n",
      "506/506 [==============================] - 0s 65us/sample - loss: 592.1469 - acc: 0.0000e+00\n",
      "Epoch 50/150\n",
      "506/506 [==============================] - 0s 66us/sample - loss: 592.1469 - acc: 0.0000e+00\n",
      "Epoch 51/150\n",
      "506/506 [==============================] - 0s 69us/sample - loss: 592.1469 - acc: 0.0000e+00\n",
      "Epoch 52/150\n",
      "506/506 [==============================] - 0s 68us/sample - loss: 592.1469 - acc: 0.0000e+00\n",
      "Epoch 53/150\n",
      "506/506 [==============================] - 0s 64us/sample - loss: 592.1469 - acc: 0.0000e+00\n",
      "Epoch 54/150\n",
      "506/506 [==============================] - 0s 65us/sample - loss: 592.1469 - acc: 0.0000e+00\n",
      "Epoch 55/150\n",
      "506/506 [==============================] - 0s 65us/sample - loss: 592.1469 - acc: 0.0000e+00\n",
      "Epoch 56/150\n",
      "506/506 [==============================] - 0s 65us/sample - loss: 592.1469 - acc: 0.0000e+00\n",
      "Epoch 57/150\n",
      "506/506 [==============================] - 0s 64us/sample - loss: 592.1469 - acc: 0.0000e+00\n",
      "Epoch 58/150\n",
      "506/506 [==============================] - 0s 67us/sample - loss: 592.1469 - acc: 0.0000e+00\n",
      "Epoch 59/150\n",
      "506/506 [==============================] - 0s 67us/sample - loss: 592.1469 - acc: 0.0000e+00\n",
      "Epoch 60/150\n",
      "506/506 [==============================] - 0s 63us/sample - loss: 592.1469 - acc: 0.0000e+00\n",
      "Epoch 61/150\n",
      "506/506 [==============================] - 0s 68us/sample - loss: 592.1469 - acc: 0.0000e+00\n",
      "Epoch 62/150\n",
      "506/506 [==============================] - 0s 62us/sample - loss: 592.1469 - acc: 0.0000e+00\n",
      "Epoch 63/150\n",
      "506/506 [==============================] - 0s 65us/sample - loss: 592.1469 - acc: 0.0000e+00\n",
      "Epoch 64/150\n",
      "506/506 [==============================] - 0s 64us/sample - loss: 592.1469 - acc: 0.0000e+00\n",
      "Epoch 65/150\n",
      "506/506 [==============================] - 0s 65us/sample - loss: 592.1469 - acc: 0.0000e+00\n",
      "Epoch 66/150\n",
      "506/506 [==============================] - 0s 67us/sample - loss: 592.1469 - acc: 0.0000e+00\n",
      "Epoch 67/150\n",
      "506/506 [==============================] - 0s 65us/sample - loss: 592.1469 - acc: 0.0000e+00\n",
      "Epoch 68/150\n",
      "506/506 [==============================] - 0s 69us/sample - loss: 592.1469 - acc: 0.0000e+00\n",
      "Epoch 69/150\n",
      "506/506 [==============================] - 0s 72us/sample - loss: 592.1469 - acc: 0.0000e+00\n",
      "Epoch 70/150\n",
      "506/506 [==============================] - 0s 66us/sample - loss: 592.1469 - acc: 0.0000e+00\n",
      "Epoch 71/150\n",
      "506/506 [==============================] - 0s 64us/sample - loss: 592.1469 - acc: 0.0000e+00\n",
      "Epoch 72/150\n",
      "506/506 [==============================] - 0s 66us/sample - loss: 592.1469 - acc: 0.0000e+00\n",
      "Epoch 73/150\n",
      "506/506 [==============================] - 0s 66us/sample - loss: 592.1469 - acc: 0.0000e+00\n",
      "Epoch 74/150\n",
      "506/506 [==============================] - 0s 65us/sample - loss: 592.1469 - acc: 0.0000e+00\n",
      "Epoch 75/150\n",
      "506/506 [==============================] - 0s 64us/sample - loss: 592.1469 - acc: 0.0000e+00\n",
      "Epoch 76/150\n",
      "506/506 [==============================] - 0s 64us/sample - loss: 592.1469 - acc: 0.0000e+00\n",
      "Epoch 77/150\n",
      "506/506 [==============================] - 0s 64us/sample - loss: 592.1469 - acc: 0.0000e+00\n",
      "Epoch 78/150\n",
      "506/506 [==============================] - 0s 64us/sample - loss: 592.1469 - acc: 0.0000e+00\n",
      "Epoch 79/150\n",
      "506/506 [==============================] - 0s 64us/sample - loss: 592.1469 - acc: 0.0000e+00\n",
      "Epoch 80/150\n",
      "506/506 [==============================] - 0s 62us/sample - loss: 592.1469 - acc: 0.0000e+00\n",
      "Epoch 81/150\n",
      "506/506 [==============================] - 0s 62us/sample - loss: 592.1469 - acc: 0.0000e+00\n",
      "Epoch 82/150\n",
      "506/506 [==============================] - 0s 63us/sample - loss: 592.1469 - acc: 0.0000e+00\n",
      "Epoch 83/150\n",
      "506/506 [==============================] - 0s 60us/sample - loss: 592.1469 - acc: 0.0000e+00\n",
      "Epoch 84/150\n",
      "506/506 [==============================] - 0s 61us/sample - loss: 592.1469 - acc: 0.0000e+00\n",
      "Epoch 85/150\n",
      "506/506 [==============================] - 0s 60us/sample - loss: 592.1469 - acc: 0.0000e+00\n",
      "Epoch 86/150\n",
      "506/506 [==============================] - 0s 61us/sample - loss: 592.1469 - acc: 0.0000e+00\n",
      "Epoch 87/150\n",
      "506/506 [==============================] - 0s 64us/sample - loss: 592.1469 - acc: 0.0000e+00\n",
      "Epoch 88/150\n",
      "506/506 [==============================] - 0s 63us/sample - loss: 592.1469 - acc: 0.0000e+00\n",
      "Epoch 89/150\n",
      "506/506 [==============================] - 0s 62us/sample - loss: 592.1469 - acc: 0.0000e+00\n",
      "Epoch 90/150\n",
      "506/506 [==============================] - 0s 63us/sample - loss: 592.1469 - acc: 0.0000e+00\n",
      "Epoch 91/150\n",
      "506/506 [==============================] - 0s 65us/sample - loss: 592.1469 - acc: 0.0000e+00\n",
      "Epoch 92/150\n",
      "506/506 [==============================] - 0s 66us/sample - loss: 592.1469 - acc: 0.0000e+00\n",
      "Epoch 93/150\n",
      "506/506 [==============================] - 0s 62us/sample - loss: 592.1469 - acc: 0.0000e+00\n",
      "Epoch 94/150\n",
      "506/506 [==============================] - 0s 63us/sample - loss: 592.1469 - acc: 0.0000e+00\n",
      "Epoch 95/150\n",
      "506/506 [==============================] - 0s 63us/sample - loss: 592.1469 - acc: 0.0000e+00\n",
      "Epoch 96/150\n",
      "506/506 [==============================] - 0s 63us/sample - loss: 592.1469 - acc: 0.0000e+00\n",
      "Epoch 97/150\n",
      "506/506 [==============================] - 0s 62us/sample - loss: 592.1469 - acc: 0.0000e+00\n",
      "Epoch 98/150\n",
      "506/506 [==============================] - 0s 63us/sample - loss: 592.1469 - acc: 0.0000e+00\n",
      "Epoch 99/150\n",
      "506/506 [==============================] - 0s 62us/sample - loss: 592.1469 - acc: 0.0000e+00\n",
      "Epoch 100/150\n",
      "506/506 [==============================] - 0s 62us/sample - loss: 592.1469 - acc: 0.0000e+00\n",
      "Epoch 101/150\n",
      "506/506 [==============================] - 0s 63us/sample - loss: 592.1469 - acc: 0.0000e+00\n",
      "Epoch 102/150\n",
      "506/506 [==============================] - 0s 64us/sample - loss: 592.1469 - acc: 0.0000e+00\n",
      "Epoch 103/150\n",
      "506/506 [==============================] - 0s 62us/sample - loss: 592.1469 - acc: 0.0000e+00\n",
      "Epoch 104/150\n",
      "506/506 [==============================] - 0s 65us/sample - loss: 592.1469 - acc: 0.0000e+00\n",
      "Epoch 105/150\n",
      "506/506 [==============================] - 0s 65us/sample - loss: 592.1469 - acc: 0.0000e+00\n",
      "Epoch 106/150\n",
      "506/506 [==============================] - 0s 63us/sample - loss: 592.1469 - acc: 0.0000e+00\n",
      "Epoch 107/150\n",
      "506/506 [==============================] - 0s 64us/sample - loss: 592.1469 - acc: 0.0000e+00\n",
      "Epoch 108/150\n",
      "506/506 [==============================] - 0s 65us/sample - loss: 592.1469 - acc: 0.0000e+00\n",
      "Epoch 109/150\n",
      "506/506 [==============================] - 0s 59us/sample - loss: 592.1469 - acc: 0.0000e+00\n",
      "Epoch 110/150\n",
      "506/506 [==============================] - 0s 64us/sample - loss: 592.1469 - acc: 0.0000e+00\n",
      "Epoch 111/150\n",
      "506/506 [==============================] - 0s 65us/sample - loss: 592.1469 - acc: 0.0000e+00\n",
      "Epoch 112/150\n",
      "506/506 [==============================] - 0s 62us/sample - loss: 592.1469 - acc: 0.0000e+00\n",
      "Epoch 113/150\n",
      "506/506 [==============================] - 0s 65us/sample - loss: 592.1469 - acc: 0.0000e+00\n",
      "Epoch 114/150\n",
      "506/506 [==============================] - 0s 64us/sample - loss: 592.1469 - acc: 0.0000e+00\n",
      "Epoch 115/150\n",
      "506/506 [==============================] - 0s 64us/sample - loss: 592.1469 - acc: 0.0000e+00\n",
      "Epoch 116/150\n",
      "506/506 [==============================] - 0s 65us/sample - loss: 592.1469 - acc: 0.0000e+00\n",
      "Epoch 117/150\n",
      "506/506 [==============================] - 0s 62us/sample - loss: 592.1469 - acc: 0.0000e+00\n",
      "Epoch 118/150\n",
      "506/506 [==============================] - 0s 64us/sample - loss: 592.1469 - acc: 0.0000e+00\n",
      "Epoch 119/150\n",
      "506/506 [==============================] - 0s 65us/sample - loss: 592.1469 - acc: 0.0000e+00\n",
      "Epoch 120/150\n",
      "506/506 [==============================] - 0s 64us/sample - loss: 592.1469 - acc: 0.0000e+00\n",
      "Epoch 121/150\n",
      "506/506 [==============================] - 0s 66us/sample - loss: 592.1469 - acc: 0.0000e+00\n",
      "Epoch 122/150\n",
      "506/506 [==============================] - 0s 64us/sample - loss: 592.1469 - acc: 0.0000e+00\n",
      "Epoch 123/150\n",
      "506/506 [==============================] - 0s 63us/sample - loss: 592.1469 - acc: 0.0000e+00\n",
      "Epoch 124/150\n",
      "506/506 [==============================] - 0s 64us/sample - loss: 592.1469 - acc: 0.0000e+00\n",
      "Epoch 125/150\n",
      "506/506 [==============================] - 0s 63us/sample - loss: 592.1469 - acc: 0.0000e+00\n",
      "Epoch 126/150\n",
      "506/506 [==============================] - 0s 66us/sample - loss: 592.1469 - acc: 0.0000e+00\n",
      "Epoch 127/150\n",
      "506/506 [==============================] - 0s 64us/sample - loss: 592.1469 - acc: 0.0000e+00\n",
      "Epoch 128/150\n",
      "506/506 [==============================] - 0s 65us/sample - loss: 592.1469 - acc: 0.0000e+00\n",
      "Epoch 129/150\n",
      "506/506 [==============================] - 0s 66us/sample - loss: 592.1469 - acc: 0.0000e+00\n",
      "Epoch 130/150\n",
      "506/506 [==============================] - 0s 65us/sample - loss: 592.1469 - acc: 0.0000e+00\n",
      "Epoch 131/150\n",
      "506/506 [==============================] - 0s 65us/sample - loss: 592.1469 - acc: 0.0000e+00\n",
      "Epoch 132/150\n",
      "506/506 [==============================] - 0s 67us/sample - loss: 592.1469 - acc: 0.0000e+00\n",
      "Epoch 133/150\n",
      "506/506 [==============================] - 0s 65us/sample - loss: 592.1469 - acc: 0.0000e+00\n",
      "Epoch 134/150\n",
      "506/506 [==============================] - 0s 66us/sample - loss: 592.1469 - acc: 0.0000e+00\n",
      "Epoch 135/150\n",
      "506/506 [==============================] - 0s 64us/sample - loss: 592.1469 - acc: 0.0000e+00\n",
      "Epoch 136/150\n",
      "506/506 [==============================] - 0s 62us/sample - loss: 592.1469 - acc: 0.0000e+00\n",
      "Epoch 137/150\n",
      "506/506 [==============================] - 0s 63us/sample - loss: 592.1469 - acc: 0.0000e+00\n",
      "Epoch 138/150\n",
      "506/506 [==============================] - 0s 64us/sample - loss: 592.1469 - acc: 0.0000e+00\n",
      "Epoch 139/150\n",
      "506/506 [==============================] - 0s 65us/sample - loss: 592.1469 - acc: 0.0000e+00\n",
      "Epoch 140/150\n",
      "506/506 [==============================] - 0s 64us/sample - loss: 592.1469 - acc: 0.0000e+00\n",
      "Epoch 141/150\n",
      "506/506 [==============================] - 0s 64us/sample - loss: 592.1469 - acc: 0.0000e+00\n",
      "Epoch 142/150\n",
      "506/506 [==============================] - 0s 64us/sample - loss: 592.1469 - acc: 0.0000e+00\n",
      "Epoch 143/150\n",
      "506/506 [==============================] - 0s 63us/sample - loss: 592.1469 - acc: 0.0000e+00\n",
      "Epoch 144/150\n",
      "506/506 [==============================] - 0s 65us/sample - loss: 592.1469 - acc: 0.0000e+00\n",
      "Epoch 145/150\n",
      "506/506 [==============================] - 0s 63us/sample - loss: 592.1469 - acc: 0.0000e+00\n",
      "Epoch 146/150\n",
      "506/506 [==============================] - 0s 60us/sample - loss: 592.1469 - acc: 0.0000e+00\n",
      "Epoch 147/150\n",
      "506/506 [==============================] - 0s 61us/sample - loss: 592.1469 - acc: 0.0000e+00\n",
      "Epoch 148/150\n",
      "506/506 [==============================] - 0s 62us/sample - loss: 592.1469 - acc: 0.0000e+00\n",
      "Epoch 149/150\n",
      "506/506 [==============================] - 0s 61us/sample - loss: 592.1469 - acc: 0.0000e+00\n",
      "Epoch 150/150\n",
      "506/506 [==============================] - 0s 62us/sample - loss: 592.1469 - acc: 0.0000e+00\n"
     ]
    },
    {
     "data": {
      "text/plain": [
       "<tensorflow.python.keras.callbacks.History at 0xb35aa26d8>"
      ]
     },
     "execution_count": 73,
     "metadata": {},
     "output_type": "execute_result"
    }
   ],
   "source": [
    "model.fit(X_train,y_train,epochs=150)"
   ]
  },
  {
   "cell_type": "code",
   "execution_count": 74,
   "metadata": {},
   "outputs": [
    {
     "name": "stdout",
     "output_type": "stream",
     "text": [
      "Model: \"sequential_1\"\n",
      "_________________________________________________________________\n",
      "Layer (type)                 Output Shape              Param #   \n",
      "=================================================================\n",
      "dense_5 (Dense)              (None, 4)                 56        \n",
      "_________________________________________________________________\n",
      "dense_6 (Dense)              (None, 4)                 20        \n",
      "_________________________________________________________________\n",
      "dense_7 (Dense)              (None, 1)                 5         \n",
      "_________________________________________________________________\n",
      "dense_8 (Dense)              (None, 4)                 8         \n",
      "_________________________________________________________________\n",
      "dense_9 (Dense)              (None, 4)                 20        \n",
      "_________________________________________________________________\n",
      "dense_10 (Dense)             (None, 1)                 5         \n",
      "_________________________________________________________________\n",
      "dense_11 (Dense)             (None, 20)                40        \n",
      "_________________________________________________________________\n",
      "dense_12 (Dense)             (None, 20)                420       \n",
      "_________________________________________________________________\n",
      "dense_13 (Dense)             (None, 20)                420       \n",
      "_________________________________________________________________\n",
      "dense_14 (Dense)             (None, 20)                420       \n",
      "_________________________________________________________________\n",
      "dense_15 (Dense)             (None, 20)                420       \n",
      "_________________________________________________________________\n",
      "dense_16 (Dense)             (None, 1)                 21        \n",
      "_________________________________________________________________\n",
      "dense_17 (Dense)             (None, 20)                40        \n",
      "_________________________________________________________________\n",
      "dense_18 (Dense)             (None, 20)                420       \n",
      "_________________________________________________________________\n",
      "dense_19 (Dense)             (None, 1)                 21        \n",
      "_________________________________________________________________\n",
      "dense_20 (Dense)             (None, 20)                40        \n",
      "_________________________________________________________________\n",
      "dense_21 (Dense)             (None, 20)                420       \n",
      "_________________________________________________________________\n",
      "dense_22 (Dense)             (None, 1)                 21        \n",
      "_________________________________________________________________\n",
      "dense_23 (Dense)             (None, 20)                40        \n",
      "_________________________________________________________________\n",
      "dense_24 (Dense)             (None, 20)                420       \n",
      "_________________________________________________________________\n",
      "dense_25 (Dense)             (None, 1)                 21        \n",
      "_________________________________________________________________\n",
      "dense_26 (Dense)             (None, 20)                40        \n",
      "_________________________________________________________________\n",
      "dense_27 (Dense)             (None, 20)                420       \n",
      "_________________________________________________________________\n",
      "dense_28 (Dense)             (None, 1)                 21        \n",
      "_________________________________________________________________\n",
      "dense_29 (Dense)             (None, 20)                40        \n",
      "_________________________________________________________________\n",
      "dense_30 (Dense)             (None, 20)                420       \n",
      "_________________________________________________________________\n",
      "dense_31 (Dense)             (None, 1)                 21        \n",
      "=================================================================\n",
      "Total params: 4,260\n",
      "Trainable params: 4,260\n",
      "Non-trainable params: 0\n",
      "_________________________________________________________________\n"
     ]
    }
   ],
   "source": [
    "model.summary()"
   ]
  },
  {
   "cell_type": "code",
   "execution_count": 49,
   "metadata": {},
   "outputs": [
    {
     "data": {
      "text/plain": [
       "(506,)"
      ]
     },
     "execution_count": 49,
     "metadata": {},
     "output_type": "execute_result"
    }
   ],
   "source": [
    "y_train.shape"
   ]
  },
  {
   "cell_type": "code",
   "execution_count": 50,
   "metadata": {},
   "outputs": [
    {
     "data": {
      "text/plain": [
       "(506, 13)"
      ]
     },
     "execution_count": 50,
     "metadata": {},
     "output_type": "execute_result"
    }
   ],
   "source": [
    "X_train.shape"
   ]
  },
  {
   "cell_type": "code",
   "execution_count": null,
   "metadata": {
    "colab": {},
    "colab_type": "code",
    "id": "8NLTAR87uYJ-"
   },
   "outputs": [],
   "source": [
    "##### Your Code Here #####"
   ]
  },
  {
   "cell_type": "markdown",
   "metadata": {
    "colab_type": "text",
    "id": "SfcFnOONyuNm"
   },
   "source": [
    "## Use the Keras Library to build an image recognition network using the Fashion-MNIST dataset (also comes with keras)\n",
    "\n",
    "- Load and preprocess the image data similar to how we preprocessed the MNIST data in class.\n",
    "- Make sure to one-hot encode your category labels\n",
    "- Make sure to have your final layer have as many nodes as the number of classes that you want to predict.\n",
    "- Try different hyperparameters. What is the highest accuracy that you are able to achieve.\n",
    "- Use the history object that is returned from model.fit to make graphs of the model's loss or train/validation accuracies by epoch. \n",
    "- Remember that neural networks fall prey to randomness so you may need to run your model multiple times (or use Cross Validation) in order to tell if a change to a hyperparameter is truly producing better results."
   ]
  },
  {
   "cell_type": "code",
   "execution_count": null,
   "metadata": {
    "colab": {},
    "colab_type": "code",
    "id": "szi6-IpuzaH1"
   },
   "outputs": [],
   "source": [
    "##### Your Code Here #####"
   ]
  },
  {
   "cell_type": "markdown",
   "metadata": {
    "colab_type": "text",
    "id": "zv_3xNMjzdLI"
   },
   "source": [
    "## Stretch Goals:\n",
    "\n",
    "- Use Hyperparameter Tuning to make the accuracy of your models as high as possible. (error as low as possible)\n",
    "- Use Cross Validation techniques to get more consistent results with your model.\n",
    "- Use GridSearchCV to try different combinations of hyperparameters. \n",
    "- Start looking into other types of Keras layers for CNNs and RNNs maybe try and build a CNN model for fashion-MNIST to see how the results compare."
   ]
  }
 ],
 "metadata": {
  "colab": {
   "name": "LS_DS_433_Keras_Assignment.ipynb",
   "provenance": [],
   "version": "0.3.2"
  },
  "kernelspec": {
   "display_name": "dl",
   "language": "python",
   "name": "dl"
  },
  "language_info": {
   "codemirror_mode": {
    "name": "ipython",
    "version": 3
   },
   "file_extension": ".py",
   "mimetype": "text/x-python",
   "name": "python",
   "nbconvert_exporter": "python",
   "pygments_lexer": "ipython3",
   "version": "3.7.3"
  }
 },
 "nbformat": 4,
 "nbformat_minor": 2
}
