{
 "cells": [
  {
   "cell_type": "markdown",
   "metadata": {
    "colab_type": "text",
    "id": "pBQsZEJmubLs"
   },
   "source": [
    "<img align=\"left\" src=\"https://lever-client-logos.s3.amazonaws.com/864372b1-534c-480e-acd5-9711f850815c-1524247202159.png\" width=200>\n",
    "<br></br>\n",
    "\n",
    "# Neural Network Framework (Keras)\n",
    "\n",
    "## *Data Science Unit 4 Sprint 2 Assignment 3*\n",
    "\n",
    "## Use the Keras Library to build a Multi-Layer Perceptron Model on the Boston Housing dataset\n",
    "\n",
    "- The Boston Housing dataset comes with the Keras library so use Keras to import it into your notebook. \n",
    "- Normalize the data (all features should have roughly the same scale)\n",
    "- Import the type of model and layers that you will need from Keras.\n",
    "- Instantiate a model object and use `model.add()` to add layers to your model\n",
    "- Since this is a regression model you will have a single output node in the final layer.\n",
    "- Use activation functions that are appropriate for this task\n",
    "- Compile your model\n",
    "- Fit your model and report its accuracy in terms of Mean Squared Error\n",
    "- Use the history object that is returned from model.fit to make graphs of the model's loss or train/validation accuracies by epoch. \n",
    "- Run this same data through a linear regression model. Which achieves higher accuracy?\n",
    "- Do a little bit of feature engineering and see how that affects your neural network model. (you will need to change your model to accept more inputs)\n",
    "- After feature engineering, which model sees a greater accuracy boost due to the new features?"
   ]
  },
  {
   "cell_type": "code",
   "execution_count": 2,
   "metadata": {
    "colab": {},
    "colab_type": "code",
    "id": "8NLTAR87uYJ-"
   },
   "outputs": [
    {
     "name": "stdout",
     "output_type": "stream",
     "text": [
      "Downloading data from https://storage.googleapis.com/tensorflow/tf-keras-datasets/boston_housing.npz\n",
      "57344/57026 [==============================] - 0s 1us/step\n"
     ]
    }
   ],
   "source": [
    "from tensorflow.keras.datasets import boston_housing\n",
    "\n",
    "(X_train, y_train), (X_test, y_test) = boston_housing.load_data()"
   ]
  },
  {
   "cell_type": "code",
   "execution_count": 9,
   "metadata": {},
   "outputs": [
    {
     "data": {
      "text/plain": [
       "((404, 13), (102, 13), (404,), (102,))"
      ]
     },
     "execution_count": 9,
     "metadata": {},
     "output_type": "execute_result"
    }
   ],
   "source": [
    "from sklearn.preprocessing import Normalizer\n",
    "\n",
    "transformer = Normalizer().fit(X_train)\n",
    "\n",
    "X_train = transformer.transform(X_train)\n",
    "X_test = transformer.transform(X_test)\n",
    "\n",
    "X_train.shape, X_test.shape, y_train.shape, y_test.shape"
   ]
  },
  {
   "cell_type": "code",
   "execution_count": 63,
   "metadata": {},
   "outputs": [
    {
     "name": "stdout",
     "output_type": "stream",
     "text": [
      "Epoch 1/100\n",
      "13/13 [==============================] - 0s 7ms/step - loss: 577.0759 - mse: 577.0759 - val_loss: 604.1099 - val_mse: 604.1099\n",
      "Epoch 2/100\n",
      "13/13 [==============================] - 0s 3ms/step - loss: 572.6740 - mse: 572.6740 - val_loss: 599.5097 - val_mse: 599.5097\n",
      "Epoch 3/100\n",
      "13/13 [==============================] - 0s 3ms/step - loss: 568.1003 - mse: 568.1003 - val_loss: 594.8647 - val_mse: 594.8647\n",
      "Epoch 4/100\n",
      "13/13 [==============================] - 0s 3ms/step - loss: 563.4932 - mse: 563.4932 - val_loss: 589.9260 - val_mse: 589.9260\n",
      "Epoch 5/100\n",
      "13/13 [==============================] - 0s 3ms/step - loss: 558.4160 - mse: 558.4160 - val_loss: 584.5078 - val_mse: 584.5078\n",
      "Epoch 6/100\n",
      "13/13 [==============================] - 0s 3ms/step - loss: 552.8389 - mse: 552.8389 - val_loss: 578.3608 - val_mse: 578.3608\n",
      "Epoch 7/100\n",
      "13/13 [==============================] - 0s 3ms/step - loss: 546.6018 - mse: 546.6018 - val_loss: 571.6057 - val_mse: 571.6057\n",
      "Epoch 8/100\n",
      "13/13 [==============================] - 0s 3ms/step - loss: 539.8691 - mse: 539.8691 - val_loss: 564.2880 - val_mse: 564.2880\n",
      "Epoch 9/100\n",
      "13/13 [==============================] - 0s 3ms/step - loss: 532.5506 - mse: 532.5506 - val_loss: 556.5024 - val_mse: 556.5024\n",
      "Epoch 10/100\n",
      "13/13 [==============================] - 0s 3ms/step - loss: 524.7479 - mse: 524.7479 - val_loss: 548.0600 - val_mse: 548.0600\n",
      "Epoch 11/100\n",
      "13/13 [==============================] - 0s 3ms/step - loss: 516.3429 - mse: 516.3429 - val_loss: 539.0461 - val_mse: 539.0461\n",
      "Epoch 12/100\n",
      "13/13 [==============================] - 0s 3ms/step - loss: 507.3676 - mse: 507.3676 - val_loss: 529.5266 - val_mse: 529.5266\n",
      "Epoch 13/100\n",
      "13/13 [==============================] - 0s 3ms/step - loss: 497.8482 - mse: 497.8482 - val_loss: 519.5692 - val_mse: 519.5692\n",
      "Epoch 14/100\n",
      "13/13 [==============================] - 0s 3ms/step - loss: 488.0392 - mse: 488.0392 - val_loss: 509.0224 - val_mse: 509.0224\n",
      "Epoch 15/100\n",
      "13/13 [==============================] - 0s 3ms/step - loss: 477.6357 - mse: 477.6357 - val_loss: 498.1578 - val_mse: 498.1578\n",
      "Epoch 16/100\n",
      "13/13 [==============================] - 0s 3ms/step - loss: 466.9911 - mse: 466.9911 - val_loss: 486.8688 - val_mse: 486.8688\n",
      "Epoch 17/100\n",
      "13/13 [==============================] - 0s 3ms/step - loss: 455.8983 - mse: 455.8983 - val_loss: 475.2320 - val_mse: 475.2320\n",
      "Epoch 18/100\n",
      "13/13 [==============================] - 0s 3ms/step - loss: 444.5471 - mse: 444.5471 - val_loss: 463.3232 - val_mse: 463.3232\n",
      "Epoch 19/100\n",
      "13/13 [==============================] - 0s 3ms/step - loss: 432.8868 - mse: 432.8868 - val_loss: 451.2448 - val_mse: 451.2448\n",
      "Epoch 20/100\n",
      "13/13 [==============================] - 0s 3ms/step - loss: 421.0628 - mse: 421.0628 - val_loss: 438.8759 - val_mse: 438.8759\n",
      "Epoch 21/100\n",
      "13/13 [==============================] - 0s 3ms/step - loss: 409.1108 - mse: 409.1108 - val_loss: 426.2251 - val_mse: 426.2251\n",
      "Epoch 22/100\n",
      "13/13 [==============================] - 0s 3ms/step - loss: 396.8067 - mse: 396.8067 - val_loss: 413.5276 - val_mse: 413.5276\n",
      "Epoch 23/100\n",
      "13/13 [==============================] - 0s 3ms/step - loss: 384.5761 - mse: 384.5761 - val_loss: 400.6564 - val_mse: 400.6564\n",
      "Epoch 24/100\n",
      "13/13 [==============================] - 0s 3ms/step - loss: 372.0550 - mse: 372.0550 - val_loss: 387.9757 - val_mse: 387.9757\n",
      "Epoch 25/100\n",
      "13/13 [==============================] - 0s 3ms/step - loss: 359.8074 - mse: 359.8074 - val_loss: 375.0806 - val_mse: 375.0806\n",
      "Epoch 26/100\n",
      "13/13 [==============================] - 0s 3ms/step - loss: 347.4296 - mse: 347.4296 - val_loss: 362.2690 - val_mse: 362.2690\n",
      "Epoch 27/100\n",
      "13/13 [==============================] - 0s 3ms/step - loss: 335.1193 - mse: 335.1193 - val_loss: 349.4252 - val_mse: 349.4252\n",
      "Epoch 28/100\n",
      "13/13 [==============================] - 0s 3ms/step - loss: 322.8467 - mse: 322.8467 - val_loss: 336.7152 - val_mse: 336.7152\n",
      "Epoch 29/100\n",
      "13/13 [==============================] - 0s 3ms/step - loss: 310.7108 - mse: 310.7108 - val_loss: 324.1345 - val_mse: 324.1345\n",
      "Epoch 30/100\n",
      "13/13 [==============================] - 0s 3ms/step - loss: 298.7372 - mse: 298.7372 - val_loss: 311.7009 - val_mse: 311.7009\n",
      "Epoch 31/100\n",
      "13/13 [==============================] - 0s 3ms/step - loss: 286.9530 - mse: 286.9530 - val_loss: 299.4695 - val_mse: 299.4695\n",
      "Epoch 32/100\n",
      "13/13 [==============================] - 0s 3ms/step - loss: 275.3469 - mse: 275.3469 - val_loss: 287.4787 - val_mse: 287.4787\n",
      "Epoch 33/100\n",
      "13/13 [==============================] - 0s 3ms/step - loss: 263.9988 - mse: 263.9988 - val_loss: 275.7468 - val_mse: 275.7468\n",
      "Epoch 34/100\n",
      "13/13 [==============================] - 0s 3ms/step - loss: 252.9561 - mse: 252.9561 - val_loss: 264.2809 - val_mse: 264.2809\n",
      "Epoch 35/100\n",
      "13/13 [==============================] - 0s 3ms/step - loss: 242.1718 - mse: 242.1718 - val_loss: 253.1258 - val_mse: 253.1258\n",
      "Epoch 36/100\n",
      "13/13 [==============================] - 0s 3ms/step - loss: 231.7504 - mse: 231.7504 - val_loss: 242.2279 - val_mse: 242.2279\n",
      "Epoch 37/100\n",
      "13/13 [==============================] - 0s 3ms/step - loss: 221.6322 - mse: 221.6322 - val_loss: 231.6354 - val_mse: 231.6354\n",
      "Epoch 38/100\n",
      "13/13 [==============================] - 0s 3ms/step - loss: 211.5226 - mse: 211.5226 - val_loss: 221.8372 - val_mse: 221.8372\n",
      "Epoch 39/100\n",
      "13/13 [==============================] - 0s 3ms/step - loss: 202.3702 - mse: 202.3702 - val_loss: 212.0741 - val_mse: 212.0741\n",
      "Epoch 40/100\n",
      "13/13 [==============================] - 0s 3ms/step - loss: 193.3686 - mse: 193.3686 - val_loss: 202.6919 - val_mse: 202.6919\n",
      "Epoch 41/100\n",
      "13/13 [==============================] - 0s 3ms/step - loss: 184.9803 - mse: 184.9803 - val_loss: 193.3839 - val_mse: 193.3839\n",
      "Epoch 42/100\n",
      "13/13 [==============================] - 0s 3ms/step - loss: 176.2842 - mse: 176.2842 - val_loss: 185.1611 - val_mse: 185.1611\n",
      "Epoch 43/100\n",
      "13/13 [==============================] - 0s 3ms/step - loss: 168.7223 - mse: 168.7223 - val_loss: 176.9756 - val_mse: 176.9756\n",
      "Epoch 44/100\n",
      "13/13 [==============================] - 0s 3ms/step - loss: 161.3539 - mse: 161.3539 - val_loss: 169.2304 - val_mse: 169.2304\n",
      "Epoch 45/100\n",
      "13/13 [==============================] - 0s 3ms/step - loss: 154.2990 - mse: 154.2990 - val_loss: 161.9765 - val_mse: 161.9765\n",
      "Epoch 46/100\n",
      "13/13 [==============================] - 0s 3ms/step - loss: 147.8503 - mse: 147.8503 - val_loss: 155.0031 - val_mse: 155.0031\n",
      "Epoch 47/100\n",
      "13/13 [==============================] - 0s 3ms/step - loss: 141.6077 - mse: 141.6077 - val_loss: 148.5660 - val_mse: 148.5660\n",
      "Epoch 48/100\n",
      "13/13 [==============================] - 0s 3ms/step - loss: 135.7970 - mse: 135.7970 - val_loss: 142.6651 - val_mse: 142.6651\n",
      "Epoch 49/100\n",
      "13/13 [==============================] - 0s 4ms/step - loss: 130.5252 - mse: 130.5252 - val_loss: 137.0554 - val_mse: 137.0554\n",
      "Epoch 50/100\n",
      "13/13 [==============================] - 0s 3ms/step - loss: 125.6712 - mse: 125.6712 - val_loss: 131.7430 - val_mse: 131.7430\n",
      "Epoch 51/100\n",
      "13/13 [==============================] - 0s 3ms/step - loss: 121.0008 - mse: 121.0008 - val_loss: 126.9467 - val_mse: 126.9467\n",
      "Epoch 52/100\n",
      "13/13 [==============================] - 0s 3ms/step - loss: 116.8963 - mse: 116.8963 - val_loss: 122.4263 - val_mse: 122.4263\n",
      "Epoch 53/100\n",
      "13/13 [==============================] - 0s 3ms/step - loss: 112.8780 - mse: 112.8780 - val_loss: 118.5239 - val_mse: 118.5239\n",
      "Epoch 54/100\n",
      "13/13 [==============================] - 0s 3ms/step - loss: 109.5867 - mse: 109.5867 - val_loss: 114.5800 - val_mse: 114.5800\n",
      "Epoch 55/100\n",
      "13/13 [==============================] - 0s 3ms/step - loss: 106.2490 - mse: 106.2490 - val_loss: 111.1996 - val_mse: 111.1996\n",
      "Epoch 56/100\n",
      "13/13 [==============================] - 0s 3ms/step - loss: 103.3271 - mse: 103.3271 - val_loss: 108.0638 - val_mse: 108.0638\n",
      "Epoch 57/100\n",
      "13/13 [==============================] - 0s 3ms/step - loss: 100.7769 - mse: 100.7769 - val_loss: 105.0787 - val_mse: 105.0787\n",
      "Epoch 58/100\n",
      "13/13 [==============================] - 0s 3ms/step - loss: 98.4275 - mse: 98.4275 - val_loss: 102.3577 - val_mse: 102.3577\n",
      "Epoch 59/100\n",
      "13/13 [==============================] - 0s 3ms/step - loss: 96.1898 - mse: 96.1898 - val_loss: 100.0396 - val_mse: 100.0396\n",
      "Epoch 60/100\n",
      "13/13 [==============================] - 0s 3ms/step - loss: 94.2570 - mse: 94.2570 - val_loss: 97.9633 - val_mse: 97.9633\n",
      "Epoch 61/100\n",
      "13/13 [==============================] - 0s 3ms/step - loss: 92.6145 - mse: 92.6145 - val_loss: 96.0258 - val_mse: 96.0258\n",
      "Epoch 62/100\n",
      "13/13 [==============================] - 0s 3ms/step - loss: 90.9990 - mse: 90.9990 - val_loss: 94.3808 - val_mse: 94.3808\n",
      "Epoch 63/100\n",
      "13/13 [==============================] - 0s 3ms/step - loss: 89.7271 - mse: 89.7271 - val_loss: 92.7488 - val_mse: 92.7488\n",
      "Epoch 64/100\n",
      "13/13 [==============================] - 0s 3ms/step - loss: 88.4656 - mse: 88.4656 - val_loss: 91.3708 - val_mse: 91.3708\n",
      "Epoch 65/100\n",
      "13/13 [==============================] - 0s 3ms/step - loss: 87.4092 - mse: 87.4092 - val_loss: 90.0822 - val_mse: 90.0822\n",
      "Epoch 66/100\n",
      "13/13 [==============================] - 0s 3ms/step - loss: 86.4872 - mse: 86.4872 - val_loss: 88.9058 - val_mse: 88.9058\n",
      "Epoch 67/100\n",
      "13/13 [==============================] - 0s 3ms/step - loss: 85.6138 - mse: 85.6138 - val_loss: 87.9838 - val_mse: 87.9838\n",
      "Epoch 68/100\n",
      "13/13 [==============================] - 0s 4ms/step - loss: 84.9318 - mse: 84.9318 - val_loss: 87.0660 - val_mse: 87.0660\n",
      "Epoch 69/100\n",
      "13/13 [==============================] - 0s 3ms/step - loss: 84.2873 - mse: 84.2873 - val_loss: 86.2453 - val_mse: 86.2453\n",
      "Epoch 70/100\n",
      "13/13 [==============================] - 0s 3ms/step - loss: 83.6843 - mse: 83.6843 - val_loss: 85.5760 - val_mse: 85.5760\n",
      "Epoch 71/100\n",
      "13/13 [==============================] - 0s 3ms/step - loss: 83.2006 - mse: 83.2006 - val_loss: 84.9430 - val_mse: 84.9430\n",
      "Epoch 72/100\n",
      "13/13 [==============================] - 0s 3ms/step - loss: 82.7493 - mse: 82.7493 - val_loss: 84.3553 - val_mse: 84.3553\n",
      "Epoch 73/100\n",
      "13/13 [==============================] - 0s 3ms/step - loss: 82.3540 - mse: 82.3540 - val_loss: 83.8527 - val_mse: 83.8527\n",
      "Epoch 74/100\n",
      "13/13 [==============================] - 0s 3ms/step - loss: 82.0112 - mse: 82.0112 - val_loss: 83.3867 - val_mse: 83.3867\n",
      "Epoch 75/100\n",
      "13/13 [==============================] - 0s 3ms/step - loss: 81.7206 - mse: 81.7206 - val_loss: 82.9367 - val_mse: 82.9367\n",
      "Epoch 76/100\n",
      "13/13 [==============================] - 0s 3ms/step - loss: 81.4120 - mse: 81.4120 - val_loss: 82.5851 - val_mse: 82.5851\n",
      "Epoch 77/100\n",
      "13/13 [==============================] - 0s 3ms/step - loss: 81.1631 - mse: 81.1631 - val_loss: 82.2191 - val_mse: 82.2191\n",
      "Epoch 78/100\n",
      "13/13 [==============================] - 0s 3ms/step - loss: 80.9144 - mse: 80.9144 - val_loss: 81.8986 - val_mse: 81.8986\n",
      "Epoch 79/100\n",
      "13/13 [==============================] - 0s 3ms/step - loss: 80.7513 - mse: 80.7513 - val_loss: 81.5288 - val_mse: 81.5288\n",
      "Epoch 80/100\n",
      "13/13 [==============================] - 0s 3ms/step - loss: 80.4992 - mse: 80.4992 - val_loss: 81.3111 - val_mse: 81.3111\n",
      "Epoch 81/100\n",
      "13/13 [==============================] - 0s 3ms/step - loss: 80.3328 - mse: 80.3328 - val_loss: 81.0841 - val_mse: 81.0841\n",
      "Epoch 82/100\n",
      "13/13 [==============================] - 0s 3ms/step - loss: 80.1700 - mse: 80.1700 - val_loss: 80.8467 - val_mse: 80.8467\n",
      "Epoch 83/100\n",
      "13/13 [==============================] - 0s 3ms/step - loss: 80.0108 - mse: 80.0108 - val_loss: 80.6451 - val_mse: 80.6451\n",
      "Epoch 84/100\n",
      "13/13 [==============================] - 0s 3ms/step - loss: 79.8723 - mse: 79.8723 - val_loss: 80.4099 - val_mse: 80.4099\n",
      "Epoch 85/100\n",
      "13/13 [==============================] - 0s 3ms/step - loss: 79.7353 - mse: 79.7353 - val_loss: 80.2146 - val_mse: 80.2146\n",
      "Epoch 86/100\n",
      "13/13 [==============================] - 0s 3ms/step - loss: 79.5958 - mse: 79.5958 - val_loss: 80.0863 - val_mse: 80.0863\n",
      "Epoch 87/100\n",
      "13/13 [==============================] - 0s 3ms/step - loss: 79.4792 - mse: 79.4792 - val_loss: 79.9047 - val_mse: 79.9047\n",
      "Epoch 88/100\n",
      "13/13 [==============================] - 0s 3ms/step - loss: 79.3444 - mse: 79.3444 - val_loss: 79.7196 - val_mse: 79.7196\n",
      "Epoch 89/100\n",
      "13/13 [==============================] - 0s 3ms/step - loss: 79.2114 - mse: 79.2114 - val_loss: 79.5449 - val_mse: 79.5449\n",
      "Epoch 90/100\n",
      "13/13 [==============================] - 0s 3ms/step - loss: 79.0889 - mse: 79.0889 - val_loss: 79.3850 - val_mse: 79.3850\n",
      "Epoch 91/100\n",
      "13/13 [==============================] - 0s 3ms/step - loss: 78.9661 - mse: 78.9661 - val_loss: 79.2328 - val_mse: 79.2328\n",
      "Epoch 92/100\n",
      "13/13 [==============================] - 0s 3ms/step - loss: 78.8371 - mse: 78.8371 - val_loss: 79.1087 - val_mse: 79.1087\n",
      "Epoch 93/100\n",
      "13/13 [==============================] - 0s 3ms/step - loss: 78.7114 - mse: 78.7114 - val_loss: 78.9658 - val_mse: 78.9658\n",
      "Epoch 94/100\n",
      "13/13 [==============================] - 0s 3ms/step - loss: 78.5957 - mse: 78.5957 - val_loss: 78.8130 - val_mse: 78.8130\n",
      "Epoch 95/100\n",
      "13/13 [==============================] - 0s 3ms/step - loss: 78.4656 - mse: 78.4656 - val_loss: 78.6673 - val_mse: 78.6673\n",
      "Epoch 96/100\n",
      "13/13 [==============================] - 0s 3ms/step - loss: 78.3252 - mse: 78.3252 - val_loss: 78.5423 - val_mse: 78.5423\n",
      "Epoch 97/100\n",
      "13/13 [==============================] - 0s 3ms/step - loss: 78.1939 - mse: 78.1939 - val_loss: 78.4122 - val_mse: 78.4122\n",
      "Epoch 98/100\n",
      "13/13 [==============================] - 0s 3ms/step - loss: 78.0674 - mse: 78.0674 - val_loss: 78.2769 - val_mse: 78.2769\n",
      "Epoch 99/100\n",
      "13/13 [==============================] - 0s 3ms/step - loss: 77.9212 - mse: 77.9212 - val_loss: 78.0888 - val_mse: 78.0888\n",
      "Epoch 100/100\n",
      "13/13 [==============================] - 0s 3ms/step - loss: 77.7825 - mse: 77.7825 - val_loss: 77.9837 - val_mse: 77.9837\n"
     ]
    },
    {
     "data": {
      "text/plain": [
       "<tensorflow.python.keras.callbacks.History at 0x138ffd12518>"
      ]
     },
     "execution_count": 63,
     "metadata": {},
     "output_type": "execute_result"
    }
   ],
   "source": [
    "import os\n",
    "import datetime\n",
    "import tensorflow as tf\n",
    "\n",
    "from tensorflow.keras.callbacks import EarlyStopping\n",
    "\n",
    "from tensorflow.keras import regularizers\n",
    "from tensorflow.keras.layers import Dropout\n",
    "\n",
    "model = Sequential([\n",
    "    Flatten(),\n",
    "    Dense(16, input_dim=13, activation=\"relu\"),\n",
    "    Dense(1, activation=\"relu\")\n",
    "])\n",
    "\n",
    "model.compile(loss='mean_squared_error', optimizer='adam', metrics=['mse'])\n",
    "\n",
    "model.fit(X_train, y_train, epochs=100, validation_data=(X_test, y_test))"
   ]
  },
  {
   "cell_type": "code",
   "execution_count": 64,
   "metadata": {},
   "outputs": [
    {
     "data": {
      "text/html": [
       "<div>\n",
       "<style scoped>\n",
       "    .dataframe tbody tr th:only-of-type {\n",
       "        vertical-align: middle;\n",
       "    }\n",
       "\n",
       "    .dataframe tbody tr th {\n",
       "        vertical-align: top;\n",
       "    }\n",
       "\n",
       "    .dataframe thead th {\n",
       "        text-align: right;\n",
       "    }\n",
       "</style>\n",
       "<table border=\"1\" class=\"dataframe\">\n",
       "  <thead>\n",
       "    <tr style=\"text-align: right;\">\n",
       "      <th></th>\n",
       "      <th>loss</th>\n",
       "      <th>mse</th>\n",
       "      <th>val_loss</th>\n",
       "      <th>val_mse</th>\n",
       "    </tr>\n",
       "  </thead>\n",
       "  <tbody>\n",
       "    <tr>\n",
       "      <th>0</th>\n",
       "      <td>577.075867</td>\n",
       "      <td>577.075867</td>\n",
       "      <td>604.109924</td>\n",
       "      <td>604.109924</td>\n",
       "    </tr>\n",
       "    <tr>\n",
       "      <th>1</th>\n",
       "      <td>572.673950</td>\n",
       "      <td>572.673950</td>\n",
       "      <td>599.509705</td>\n",
       "      <td>599.509705</td>\n",
       "    </tr>\n",
       "    <tr>\n",
       "      <th>2</th>\n",
       "      <td>568.100342</td>\n",
       "      <td>568.100342</td>\n",
       "      <td>594.864685</td>\n",
       "      <td>594.864685</td>\n",
       "    </tr>\n",
       "    <tr>\n",
       "      <th>3</th>\n",
       "      <td>563.493164</td>\n",
       "      <td>563.493164</td>\n",
       "      <td>589.925964</td>\n",
       "      <td>589.925964</td>\n",
       "    </tr>\n",
       "    <tr>\n",
       "      <th>4</th>\n",
       "      <td>558.415955</td>\n",
       "      <td>558.415955</td>\n",
       "      <td>584.507751</td>\n",
       "      <td>584.507751</td>\n",
       "    </tr>\n",
       "  </tbody>\n",
       "</table>\n",
       "</div>"
      ],
      "text/plain": [
       "         loss         mse    val_loss     val_mse\n",
       "0  577.075867  577.075867  604.109924  604.109924\n",
       "1  572.673950  572.673950  599.509705  599.509705\n",
       "2  568.100342  568.100342  594.864685  594.864685\n",
       "3  563.493164  563.493164  589.925964  589.925964\n",
       "4  558.415955  558.415955  584.507751  584.507751"
      ]
     },
     "execution_count": 64,
     "metadata": {},
     "output_type": "execute_result"
    }
   ],
   "source": [
    "import pandas as pd\n",
    "\n",
    "hist = pd.DataFrame(model.history.history) \n",
    "hist.head()"
   ]
  },
  {
   "cell_type": "code",
   "execution_count": 65,
   "metadata": {},
   "outputs": [
    {
     "data": {
      "image/png": "[encoded data removed]",
      "text/plain": [
       "<Figure size 432x288 with 1 Axes>"
      ]
     },
     "metadata": {
      "needs_background": "light"
     },
     "output_type": "display_data"
    }
   ],
   "source": [
    "import numpy as np\n",
    "\n",
    "plt.plot(hist['loss'], label='loss (train)')\n",
    "plt.plot(hist['val_loss'], label='loss (test)')\n",
    "plt.xlabel('epochs')\n",
    "plt.ylabel('loss values')\n",
    "plt.legend();"
   ]
  },
  {
   "cell_type": "code",
   "execution_count": 70,
   "metadata": {},
   "outputs": [
    {
     "data": {
      "text/plain": [
       "(22.77423909605731, 18.165510493496438)"
      ]
     },
     "execution_count": 70,
     "metadata": {},
     "output_type": "execute_result"
    }
   ],
   "source": [
    "from sklearn.linear_model import LinearRegression\n",
    "from sklearn.metrics import mean_squared_error\n",
    "\n",
    "model = LinearRegression()\n",
    "\n",
    "model.fit(X_train, y_train)\n",
    "\n",
    "y_pred_train = model.predict(X_train)\n",
    "y_pred = model.predict(X_test)\n",
    "\n",
    "mean_squared_error(y_train, y_pred_train), mean_squared_error(y_test, y_pred)"
   ]
  },
  {
   "cell_type": "markdown",
   "metadata": {
    "colab_type": "text",
    "id": "SfcFnOONyuNm"
   },
   "source": [
    "## Use the Keras Library to build an image recognition network using the Fashion-MNIST dataset (also comes with keras)\n",
    "\n",
    "- Load and preprocess the image data similar to how we preprocessed the MNIST data in class.\n",
    "- Make sure to one-hot encode your category labels\n",
    "- The number of nodes in your output layer should equal the number of classes you want to predict for Fashion-MNIST.\n",
    "- Try different hyperparameters. What is the highest accuracy that you are able to achieve.\n",
    "- Use the history object that is returned from model.fit to make graphs of the model's loss or train/validation accuracies by epoch. \n",
    "- Remember that neural networks fall prey to randomness so you may need to run your model multiple times (or use Cross Validation) in order to tell if a change to a hyperparameter is truly producing better results."
   ]
  },
  {
   "cell_type": "code",
   "execution_count": 73,
   "metadata": {
    "colab": {},
    "colab_type": "code",
    "id": "szi6-IpuzaH1"
   },
   "outputs": [],
   "source": [
    "from tensorflow.keras.datasets import fashion_mnist"
   ]
  },
  {
   "cell_type": "code",
   "execution_count": 75,
   "metadata": {},
   "outputs": [
    {
     "data": {
      "text/plain": [
       "((60000, 28, 28), (60000, 10), (10000, 28, 28), (10000, 10))"
      ]
     },
     "execution_count": 75,
     "metadata": {},
     "output_type": "execute_result"
    }
   ],
   "source": [
    "from tensorflow.keras.utils import to_categorical\n",
    "\n",
    "\n",
    "stop = EarlyStopping(monitor='val_accuracy', min_delta=0.004, patience=6)\n",
    "\n",
    "(X_train, y_train), (X_test, y_test) = fashion_mnist.load_data()\n",
    "y_train = to_categorical(y_train)\n",
    "y_test = to_categorical(y_test)\n",
    "\n",
    "X_train.shape, y_train.shape, X_test.shape, y_test.shape"
   ]
  },
  {
   "cell_type": "code",
   "execution_count": null,
   "metadata": {},
   "outputs": [
    {
     "name": "stdout",
     "output_type": "stream",
     "text": [
      "Epoch 1/50\n",
      "1875/1875 [==============================] - 23s 12ms/step - loss: 1.5201 - accuracy: 0.7807 - val_loss: 0.5736 - val_accuracy: 0.8012\n",
      "Epoch 2/50\n",
      "1875/1875 [==============================] - 23s 12ms/step - loss: 0.4570 - accuracy: 0.8370 - val_loss: 0.5054 - val_accuracy: 0.8241\n",
      "Epoch 3/50\n",
      "1875/1875 [==============================] - 23s 12ms/step - loss: 0.4166 - accuracy: 0.8499 - val_loss: 0.4325 - val_accuracy: 0.8420\n",
      "Epoch 4/50\n",
      "1875/1875 [==============================] - 23s 12ms/step - loss: 0.3839 - accuracy: 0.8643 - val_loss: 0.4507 - val_accuracy: 0.8457\n",
      "Epoch 5/50\n",
      "1875/1875 [==============================] - 22s 12ms/step - loss: 0.3682 - accuracy: 0.8691 - val_loss: 0.4019 - val_accuracy: 0.8629\n",
      "Epoch 6/50\n",
      "1875/1875 [==============================] - 22s 12ms/step - loss: 0.3540 - accuracy: 0.8746 - val_loss: 0.3860 - val_accuracy: 0.8661\n",
      "Epoch 7/50\n",
      "1875/1875 [==============================] - 22s 12ms/step - loss: 0.3411 - accuracy: 0.8778 - val_loss: 0.4091 - val_accuracy: 0.8599\n",
      "Epoch 8/50\n",
      "1875/1875 [==============================] - 22s 12ms/step - loss: 0.3315 - accuracy: 0.8806 - val_loss: 0.4054 - val_accuracy: 0.8571\n",
      "Epoch 9/50\n",
      "1875/1875 [==============================] - 22s 12ms/step - loss: 0.3239 - accuracy: 0.8839 - val_loss: 0.3725 - val_accuracy: 0.8732\n",
      "Epoch 10/50\n",
      "1875/1875 [==============================] - 22s 12ms/step - loss: 0.3151 - accuracy: 0.8874 - val_loss: 0.4090 - val_accuracy: 0.8575\n",
      "Epoch 11/50\n",
      "1875/1875 [==============================] - 22s 12ms/step - loss: 0.3096 - accuracy: 0.8884 - val_loss: 0.3855 - val_accuracy: 0.8687\n",
      "Epoch 12/50\n",
      "1875/1875 [==============================] - 22s 12ms/step - loss: 0.3025 - accuracy: 0.8913 - val_loss: 0.3749 - val_accuracy: 0.8706\n",
      "Epoch 13/50\n",
      "1875/1875 [==============================] - 22s 12ms/step - loss: 0.2968 - accuracy: 0.8936 - val_loss: 0.4019 - val_accuracy: 0.8706\n",
      "Epoch 14/50\n",
      "1875/1875 [==============================] - 22s 12ms/step - loss: 0.3013 - accuracy: 0.8942 - val_loss: 0.3863 - val_accuracy: 0.8752\n",
      "Epoch 15/50\n",
      "1875/1875 [==============================] - 23s 12ms/step - loss: 0.2858 - accuracy: 0.8982 - val_loss: 0.3844 - val_accuracy: 0.8714\n",
      "Epoch 16/50\n",
      "1875/1875 [==============================] - 23s 12ms/step - loss: 0.2981 - accuracy: 0.8970 - val_loss: 0.3749 - val_accuracy: 0.8812\n",
      "Epoch 17/50\n",
      "1875/1875 [==============================] - 22s 12ms/step - loss: 0.2776 - accuracy: 0.9008 - val_loss: 0.3819 - val_accuracy: 0.8766\n",
      "Epoch 18/50\n",
      "1875/1875 [==============================] - 23s 12ms/step - loss: 0.2890 - accuracy: 0.8987 - val_loss: 0.3961 - val_accuracy: 0.8707\n",
      "Epoch 19/50\n",
      "1875/1875 [==============================] - 22s 12ms/step - loss: 0.2748 - accuracy: 0.9020 - val_loss: 0.4094 - val_accuracy: 0.8779\n",
      "Epoch 20/50\n",
      "1875/1875 [==============================] - 23s 12ms/step - loss: 0.2724 - accuracy: 0.9026 - val_loss: 0.4625 - val_accuracy: 0.8717\n",
      "Epoch 21/50\n",
      "1875/1875 [==============================] - 23s 12ms/step - loss: 0.2673 - accuracy: 0.9039 - val_loss: 0.4291 - val_accuracy: 0.8683\n",
      "Epoch 22/50\n",
      "1875/1875 [==============================] - 23s 12ms/step - loss: 0.2793 - accuracy: 0.9037 - val_loss: 0.4002 - val_accuracy: 0.8675\n",
      "Epoch 23/50\n",
      "1875/1875 [==============================] - 23s 12ms/step - loss: 0.2587 - accuracy: 0.9072 - val_loss: 0.4377 - val_accuracy: 0.8761\n",
      "Epoch 24/50\n",
      "1875/1875 [==============================] - 23s 12ms/step - loss: 0.2654 - accuracy: 0.9064 - val_loss: 0.3676 - val_accuracy: 0.8826\n",
      "Epoch 25/50\n",
      "1875/1875 [==============================] - 23s 12ms/step - loss: 0.2545 - accuracy: 0.9089 - val_loss: 0.3956 - val_accuracy: 0.8781\n",
      "Epoch 26/50\n",
      "1875/1875 [==============================] - 23s 12ms/step - loss: 0.2580 - accuracy: 0.9080 - val_loss: 0.6036 - val_accuracy: 0.8701\n",
      "Epoch 27/50\n",
      "1875/1875 [==============================] - 23s 12ms/step - loss: 0.2674 - accuracy: 0.9068 - val_loss: 0.3934 - val_accuracy: 0.8805\n",
      "Epoch 28/50\n",
      "1875/1875 [==============================] - 22s 12ms/step - loss: 0.2482 - accuracy: 0.9125 - val_loss: 0.4273 - val_accuracy: 0.8745\n",
      "Epoch 29/50\n",
      "1875/1875 [==============================] - 23s 12ms/step - loss: 0.2505 - accuracy: 0.9104 - val_loss: 0.4204 - val_accuracy: 0.8756\n",
      "Epoch 30/50\n",
      "1875/1875 [==============================] - 22s 12ms/step - loss: 0.2490 - accuracy: 0.9115 - val_loss: 0.4647 - val_accuracy: 0.8766\n",
      "Epoch 31/50\n",
      "1875/1875 [==============================] - 22s 12ms/step - loss: 0.2600 - accuracy: 0.9103 - val_loss: 0.3925 - val_accuracy: 0.8738\n",
      "Epoch 32/50\n",
      "1875/1875 [==============================] - 23s 12ms/step - loss: 0.2441 - accuracy: 0.9143 - val_loss: 0.4083 - val_accuracy: 0.8814\n",
      "Epoch 33/50\n",
      "1875/1875 [==============================] - 23s 12ms/step - loss: 0.2441 - accuracy: 0.9137 - val_loss: 0.4224 - val_accuracy: 0.8745\n",
      "Epoch 34/50\n",
      "1875/1875 [==============================] - 22s 12ms/step - loss: 0.2560 - accuracy: 0.9141 - val_loss: 0.4816 - val_accuracy: 0.8605\n",
      "Epoch 35/50\n",
      "1875/1875 [==============================] - 22s 12ms/step - loss: 0.2519 - accuracy: 0.9129 - val_loss: 0.5651 - val_accuracy: 0.8695\n",
      "Epoch 36/50\n",
      "1863/1875 [============================>.] - ETA: 0s - loss: 0.2450 - accuracy: 0.91 - ETA: 0s - loss: 0.2450 - accuracy: 0.9153"
     ]
    }
   ],
   "source": [
    "from tensorflow.keras.models import Sequential\n",
    "from tensorflow.keras.layers import Flatten, Dense\n",
    "model = Sequential([\n",
    "    Flatten(),\n",
    "    Dense(512, input_dim=28, activation=\"relu\"),\n",
    "    Dense(512, activation=\"relu\"),\n",
    "    Dense(512, activation=\"relu\"),\n",
    "    Dense(10, activation=\"softmax\")\n",
    "])\n",
    "\n",
    "model.compile(loss='categorical_crossentropy', optimizer='nadam', metrics=['accuracy'])\n",
    "\n",
    "model.fit(X_train, y_train, epochs=50, validation_data=(X_test, y_test))"
   ]
  },
  {
   "cell_type": "code",
   "execution_count": 82,
   "metadata": {},
   "outputs": [],
   "source": [
    "hist = model.history.history"
   ]
  },
  {
   "cell_type": "code",
   "execution_count": 84,
   "metadata": {},
   "outputs": [
    {
     "data": {
      "image/png": "[encoded data removed]",
      "text/plain": [
       "<Figure size 432x288 with 1 Axes>"
      ]
     },
     "metadata": {
      "needs_background": "light"
     },
     "output_type": "display_data"
    }
   ],
   "source": [
    "plt.plot(hist['loss'], label='loss (train)')\n",
    "plt.plot(hist['val_loss'], label='loss (test)')\n",
    "plt.xlabel('epochs')\n",
    "plt.ylabel('loss values')\n",
    "plt.legend();\n"
   ]
  },
  {
   "cell_type": "markdown",
   "metadata": {
    "colab_type": "text",
    "id": "zv_3xNMjzdLI"
   },
   "source": [
    "## Stretch Goals:\n",
    "\n",
    "- Use Hyperparameter Tuning to make the accuracy of your models as high as possible. (error as low as possible)\n",
    "- Use Cross Validation techniques to get more consistent results with your model.\n",
    "- Use GridSearchCV to try different combinations of hyperparameters. \n",
    "- Start looking into other types of Keras layers for CNNs and RNNs maybe try and build a CNN model for fashion-MNIST to see how the results compare."
   ]
  }
 ],
 "metadata": {
  "colab": {
   "name": "LS_DS_433_Keras_Assignment.ipynb",
   "provenance": [],
   "version": "0.3.2"
  },
  "kernelspec": {
   "display_name": "U4S1NLP (Python3)",
   "language": "python",
   "name": "u4s1nlp"
  },
  "language_info": {
   "codemirror_mode": {
    "name": "ipython",
    "version": 3
   },
   "file_extension": ".py",
   "mimetype": "text/x-python",
   "name": "python",
   "nbconvert_exporter": "python",
   "pygments_lexer": "ipython3",
   "version": "3.7.0"
  }
 },
 "nbformat": 4,
 "nbformat_minor": 4
}
