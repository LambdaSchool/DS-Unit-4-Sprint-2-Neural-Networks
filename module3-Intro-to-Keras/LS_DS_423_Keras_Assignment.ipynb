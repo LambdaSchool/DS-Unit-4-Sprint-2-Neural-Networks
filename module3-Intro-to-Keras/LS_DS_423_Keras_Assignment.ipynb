{
 "cells": [
  {
   "cell_type": "markdown",
   "metadata": {
    "colab_type": "text",
    "id": "pBQsZEJmubLs"
   },
   "source": [
    "<img align=\"left\" src=\"https://lever-client-logos.s3.amazonaws.com/864372b1-534c-480e-acd5-9711f850815c-1524247202159.png\" width=200>\n",
    "<br></br>\n",
    "\n",
    "# Neural Network Framework (Keras)\n",
    "\n",
    "## *Data Science Unit 4 Sprint 2 Assignmnet 3*\n",
    "\n",
    "## Use the Keras Library to build a Multi-Layer Perceptron Model on the Boston Housing dataset\n",
    "\n",
    "- The Boston Housing dataset comes with the Keras library so use Keras to import it into your notebook. \n",
    "- Normalize the data (all features should have roughly the same scale)\n",
    "- Import the type of model and layers that you will need from Keras.\n",
    "- Instantiate a model object and use `model.add()` to add layers to your model\n",
    "- Since this is a regression model you will have a single output node in the final layer.\n",
    "- Use activation functions that are appropriate for this task\n",
    "- Compile your model\n",
    "- Fit your model and report its accuracy in terms of Mean Squared Error\n",
    "- Use the history object that is returned from model.fit to make graphs of the model's loss or train/validation accuracies by epoch. \n",
    "- Run this same data through a linear regression model. Which achieves higher accuracy?\n",
    "- Do a little bit of feature engineering and see how that affects your neural network model. (you will need to change your model to accept more inputs)\n",
    "- After feature engineering, which model sees a greater accuracy boost due to the new features?"
   ]
  },
  {
   "cell_type": "code",
   "execution_count": 1,
   "metadata": {
    "colab": {},
    "colab_type": "code",
    "id": "8NLTAR87uYJ-"
   },
   "outputs": [],
   "source": [
    "from tensorflow.keras.datasets import boston_housing\n",
    "\n",
    "import tensorflow as tf"
   ]
  },
  {
   "cell_type": "markdown",
   "metadata": {},
   "source": [
    "### Import Data"
   ]
  },
  {
   "cell_type": "code",
   "execution_count": 2,
   "metadata": {},
   "outputs": [],
   "source": [
    "(train_data, train_targets), (test_data, test_targets) = boston_housing.load_data()"
   ]
  },
  {
   "cell_type": "markdown",
   "metadata": {},
   "source": [
    "### Normalize"
   ]
  },
  {
   "cell_type": "code",
   "execution_count": 3,
   "metadata": {},
   "outputs": [],
   "source": [
    "# Normalize data\n",
    "X_train = tf.keras.utils.normalize(train_data, axis=1)\n",
    "X_test = tf.keras.utils.normalize(test_data, axis=1)"
   ]
  },
  {
   "cell_type": "code",
   "execution_count": 4,
   "metadata": {},
   "outputs": [
    {
     "data": {
      "text/plain": [
       "(404, 13)"
      ]
     },
     "execution_count": 4,
     "metadata": {},
     "output_type": "execute_result"
    }
   ],
   "source": [
    "X_train.shape"
   ]
  },
  {
   "cell_type": "markdown",
   "metadata": {},
   "source": [
    "### Import Models & Layers"
   ]
  },
  {
   "cell_type": "code",
   "execution_count": 5,
   "metadata": {},
   "outputs": [],
   "source": [
    "from tensorflow.keras.models import Sequential\n",
    "from tensorflow.keras.layers import Dense"
   ]
  },
  {
   "cell_type": "code",
   "execution_count": 6,
   "metadata": {},
   "outputs": [
    {
     "name": "stdout",
     "output_type": "stream",
     "text": [
      "WARNING:tensorflow:From /anaconda3/lib/python3.7/site-packages/tensorflow/python/ops/init_ops.py:1251: calling VarianceScaling.__init__ (from tensorflow.python.ops.init_ops) with dtype is deprecated and will be removed in a future version.\n",
      "Instructions for updating:\n",
      "Call initializer instance with the dtype argument instead of passing it to the constructor\n"
     ]
    }
   ],
   "source": [
    "# Instantiate Model\n",
    "model = Sequential()\n",
    "\n",
    "# Add layers\n",
    "model.add(Dense(64, input_dim=13, activation=\"relu\"))\n",
    "model.add(Dense(64, activation=\"relu\"))\n",
    "model.add(Dense(1, activation=\"sigmoid\"))\n",
    "\n",
    "# Compile\n",
    "model.compile(loss=\"mean_squared_error\",\n",
    "              optimizer=\"adam\",\n",
    "              metrics=[\"mean_squared_error\"])"
   ]
  },
  {
   "cell_type": "code",
   "execution_count": 7,
   "metadata": {},
   "outputs": [
    {
     "name": "stdout",
     "output_type": "stream",
     "text": [
      "Epoch 1/20\n",
      "404/404 [==============================] - 0s 234us/sample - loss: 560.0203 - mean_squared_error: 560.0203\n",
      "Epoch 2/20\n",
      "404/404 [==============================] - 0s 55us/sample - loss: 554.2070 - mean_squared_error: 554.2070\n",
      "Epoch 3/20\n",
      "404/404 [==============================] - 0s 75us/sample - loss: 548.5621 - mean_squared_error: 548.5621\n",
      "Epoch 4/20\n",
      "404/404 [==============================] - 0s 112us/sample - loss: 544.7645 - mean_squared_error: 544.7644\n",
      "Epoch 5/20\n",
      "404/404 [==============================] - 0s 86us/sample - loss: 543.2650 - mean_squared_error: 543.2651\n",
      "Epoch 6/20\n",
      "404/404 [==============================] - 0s 84us/sample - loss: 542.7863 - mean_squared_error: 542.7863\n",
      "Epoch 7/20\n",
      "404/404 [==============================] - 0s 94us/sample - loss: 542.6135 - mean_squared_error: 542.6135\n",
      "Epoch 8/20\n",
      "404/404 [==============================] - 0s 94us/sample - loss: 542.5384 - mean_squared_error: 542.5385\n",
      "Epoch 9/20\n",
      "404/404 [==============================] - 0s 89us/sample - loss: 542.4965 - mean_squared_error: 542.4965\n",
      "Epoch 10/20\n",
      "404/404 [==============================] - 0s 95us/sample - loss: 542.4702 - mean_squared_error: 542.4702\n",
      "Epoch 11/20\n",
      "404/404 [==============================] - 0s 129us/sample - loss: 542.4518 - mean_squared_error: 542.4518\n",
      "Epoch 12/20\n",
      "404/404 [==============================] - 0s 76us/sample - loss: 542.4382 - mean_squared_error: 542.4382\n",
      "Epoch 13/20\n",
      "404/404 [==============================] - 0s 83us/sample - loss: 542.4280 - mean_squared_error: 542.4279\n",
      "Epoch 14/20\n",
      "404/404 [==============================] - 0s 68us/sample - loss: 542.4200 - mean_squared_error: 542.4200\n",
      "Epoch 15/20\n",
      "404/404 [==============================] - 0s 115us/sample - loss: 542.4135 - mean_squared_error: 542.4135\n",
      "Epoch 16/20\n",
      "404/404 [==============================] - 0s 78us/sample - loss: 542.4082 - mean_squared_error: 542.4083\n",
      "Epoch 17/20\n",
      "404/404 [==============================] - 0s 94us/sample - loss: 542.4039 - mean_squared_error: 542.4039\n",
      "Epoch 18/20\n",
      "404/404 [==============================] - 0s 65us/sample - loss: 542.4003 - mean_squared_error: 542.4003\n",
      "Epoch 19/20\n",
      "404/404 [==============================] - 0s 100us/sample - loss: 542.3973 - mean_squared_error: 542.3973\n",
      "Epoch 20/20\n",
      "404/404 [==============================] - 0s 82us/sample - loss: 542.3946 - mean_squared_error: 542.3947\n"
     ]
    },
    {
     "data": {
      "text/plain": [
       "<tensorflow.python.keras.callbacks.History at 0x1073cc668>"
      ]
     },
     "execution_count": 7,
     "metadata": {},
     "output_type": "execute_result"
    }
   ],
   "source": [
    "model.fit(X_train, train_targets, epochs=20)"
   ]
  },
  {
   "cell_type": "code",
   "execution_count": 8,
   "metadata": {},
   "outputs": [
    {
     "name": "stdout",
     "output_type": "stream",
     "text": [
      "102/102 [==============================] - 0s 360us/sample - loss: 570.7250 - mean_squared_error: 570.7250\n",
      "mean_squared_error: 570.7250366210938\n"
     ]
    }
   ],
   "source": [
    "# Assess model\n",
    "scores = model.evaluate(X_test, test_targets)\n",
    "print(f\"{model.metrics_names[1]}: {scores[1]}\")"
   ]
  },
  {
   "cell_type": "markdown",
   "metadata": {},
   "source": [
    "## Second Model"
   ]
  },
  {
   "cell_type": "code",
   "execution_count": 34,
   "metadata": {},
   "outputs": [],
   "source": [
    "# Instantiate Model\n",
    "model = Sequential()\n",
    "\n",
    "# Add layers\n",
    "model.add(Dense(64, input_dim=13, activation=\"relu\"))\n",
    "model.add(Dense(64, activation=\"relu\"))\n",
    "model.add(Dense(1, activation=\"sigmoid\"))\n",
    "\n",
    "# Compile\n",
    "model.compile(loss=\"mean_squared_error\",\n",
    "              optimizer=\"rmsprop\",\n",
    "              metrics=[\"mean_squared_error\"])"
   ]
  },
  {
   "cell_type": "code",
   "execution_count": 35,
   "metadata": {},
   "outputs": [
    {
     "name": "stdout",
     "output_type": "stream",
     "text": [
      "Epoch 1/20\n",
      "404/404 [==============================] - 0s 341us/sample - loss: 557.5742 - mean_squared_error: 557.5742\n",
      "Epoch 2/20\n",
      "404/404 [==============================] - 0s 78us/sample - loss: 549.5525 - mean_squared_error: 549.5526\n",
      "Epoch 3/20\n",
      "404/404 [==============================] - 0s 93us/sample - loss: 545.5746 - mean_squared_error: 545.5746\n",
      "Epoch 4/20\n",
      "404/404 [==============================] - 0s 112us/sample - loss: 543.7571 - mean_squared_error: 543.7571\n",
      "Epoch 5/20\n",
      "404/404 [==============================] - 0s 124us/sample - loss: 542.9802 - mean_squared_error: 542.9801\n",
      "Epoch 6/20\n",
      "404/404 [==============================] - 0s 106us/sample - loss: 542.6422 - mean_squared_error: 542.6423\n",
      "Epoch 7/20\n",
      "404/404 [==============================] - 0s 149us/sample - loss: 542.4936 - mean_squared_error: 542.4936\n",
      "Epoch 8/20\n",
      "404/404 [==============================] - 0s 112us/sample - loss: 542.4272 - mean_squared_error: 542.4272\n",
      "Epoch 9/20\n",
      "404/404 [==============================] - 0s 122us/sample - loss: 542.3968 - mean_squared_error: 542.3969\n",
      "Epoch 10/20\n",
      "404/404 [==============================] - 0s 128us/sample - loss: 542.3828 - mean_squared_error: 542.3829\n",
      "Epoch 11/20\n",
      "404/404 [==============================] - 0s 100us/sample - loss: 542.3763 - mean_squared_error: 542.3763\n",
      "Epoch 12/20\n",
      "404/404 [==============================] - 0s 67us/sample - loss: 542.3732 - mean_squared_error: 542.3732\n",
      "Epoch 13/20\n",
      "404/404 [==============================] - 0s 100us/sample - loss: 542.3717 - mean_squared_error: 542.3717\n",
      "Epoch 14/20\n",
      "404/404 [==============================] - 0s 75us/sample - loss: 542.3710 - mean_squared_error: 542.3710\n",
      "Epoch 15/20\n",
      "404/404 [==============================] - 0s 88us/sample - loss: 542.3707 - mean_squared_error: 542.3707\n",
      "Epoch 16/20\n",
      "404/404 [==============================] - 0s 81us/sample - loss: 542.3706 - mean_squared_error: 542.3706\n",
      "Epoch 17/20\n",
      "404/404 [==============================] - 0s 75us/sample - loss: 542.3705 - mean_squared_error: 542.3704\n",
      "Epoch 18/20\n",
      "404/404 [==============================] - 0s 61us/sample - loss: 542.3704 - mean_squared_error: 542.3704\n",
      "Epoch 19/20\n",
      "404/404 [==============================] - 0s 97us/sample - loss: 542.3704 - mean_squared_error: 542.3705\n",
      "Epoch 20/20\n",
      "404/404 [==============================] - 0s 81us/sample - loss: 542.3704 - mean_squared_error: 542.3704\n"
     ]
    },
    {
     "data": {
      "text/plain": [
       "<tensorflow.python.keras.callbacks.History at 0x1a289baef0>"
      ]
     },
     "execution_count": 35,
     "metadata": {},
     "output_type": "execute_result"
    }
   ],
   "source": [
    "model.fit(X_train, train_targets, epochs=20)"
   ]
  },
  {
   "cell_type": "markdown",
   "metadata": {},
   "source": [
    "## GridSearchCV"
   ]
  },
  {
   "cell_type": "code",
   "execution_count": 9,
   "metadata": {},
   "outputs": [],
   "source": [
    "from tensorflow.keras.wrappers.scikit_learn import KerasRegressor"
   ]
  },
  {
   "cell_type": "code",
   "execution_count": 23,
   "metadata": {},
   "outputs": [],
   "source": [
    "def create_model():\n",
    "    # Instantiate Model\n",
    "    model = Sequential()\n",
    "\n",
    "    # Add layers\n",
    "    model.add(Dense(64, input_dim=13, activation=\"relu\"))\n",
    "    model.add(Dense(64, activation=\"relu\"))\n",
    "    model.add(Dense(1, activation=\"sigmoid\"))\n",
    "\n",
    "    # Compile\n",
    "    model.compile(loss=\"mean_squared_error\",\n",
    "                  optimizer=\"adam\",\n",
    "                  metrics=[\"mean_squared_error\"])\n",
    "    \n",
    "    return model\n",
    "\n",
    "# MSE: $542"
   ]
  },
  {
   "cell_type": "code",
   "execution_count": 24,
   "metadata": {},
   "outputs": [],
   "source": [
    "model = KerasRegressor(build_fn = create_model)"
   ]
  },
  {
   "cell_type": "code",
   "execution_count": 28,
   "metadata": {},
   "outputs": [],
   "source": [
    "params = dict(epochs=[10, 20, 50, 100],\n",
    "              batch_size=[10, 20, 40, 60, 80, 100])"
   ]
  },
  {
   "cell_type": "code",
   "execution_count": 29,
   "metadata": {},
   "outputs": [],
   "source": [
    "from sklearn.model_selection import GridSearchCV"
   ]
  },
  {
   "cell_type": "code",
   "execution_count": 30,
   "metadata": {},
   "outputs": [
    {
     "name": "stderr",
     "output_type": "stream",
     "text": [
      "/anaconda3/lib/python3.7/site-packages/sklearn/model_selection/_search.py:842: DeprecationWarning: The default of the `iid` parameter will change from True to False in version 0.22 and will be removed in 0.24. This will change numeric results when test-set sizes are unequal.\n",
      "  DeprecationWarning)\n"
     ]
    },
    {
     "name": "stdout",
     "output_type": "stream",
     "text": [
      "Epoch 1/10\n",
      "404/404 [==============================] - 0s 630us/sample - loss: 561.9009 - mean_squared_error: 561.9009\n",
      "Epoch 2/10\n",
      "404/404 [==============================] - 0s 78us/sample - loss: 555.0263 - mean_squared_error: 555.0262\n",
      "Epoch 3/10\n",
      "404/404 [==============================] - 0s 121us/sample - loss: 545.3324 - mean_squared_error: 545.3324\n",
      "Epoch 4/10\n",
      "404/404 [==============================] - 0s 99us/sample - loss: 542.4590 - mean_squared_error: 542.4590\n",
      "Epoch 5/10\n",
      "404/404 [==============================] - 0s 121us/sample - loss: 542.3713 - mean_squared_error: 542.3713\n",
      "Epoch 6/10\n",
      "404/404 [==============================] - 0s 158us/sample - loss: 542.3704 - mean_squared_error: 542.3704\n",
      "Epoch 7/10\n",
      "404/404 [==============================] - 0s 74us/sample - loss: 542.3704 - mean_squared_error: 542.3704\n",
      "Epoch 8/10\n",
      "404/404 [==============================] - 0s 101us/sample - loss: 542.3704 - mean_squared_error: 542.3704\n",
      "Epoch 9/10\n",
      "404/404 [==============================] - 0s 103us/sample - loss: 542.3704 - mean_squared_error: 542.3704\n",
      "Epoch 10/10\n",
      "404/404 [==============================] - 0s 70us/sample - loss: 542.3704 - mean_squared_error: 542.3704\n"
     ]
    }
   ],
   "source": [
    "grid = GridSearchCV(estimator=model, param_grid=params, n_jobs=-1)\n",
    "grid_result = grid.fit(X_train, train_targets)"
   ]
  },
  {
   "cell_type": "code",
   "execution_count": 31,
   "metadata": {},
   "outputs": [
    {
     "data": {
      "text/plain": [
       "{'batch_size': 60, 'epochs': 10}"
      ]
     },
     "execution_count": 31,
     "metadata": {},
     "output_type": "execute_result"
    }
   ],
   "source": [
    "grid.best_params_"
   ]
  },
  {
   "cell_type": "code",
   "execution_count": 32,
   "metadata": {},
   "outputs": [
    {
     "name": "stdout",
     "output_type": "stream",
     "text": [
      "Epoch 1/10\n",
      "404/404 [==============================] - 0s 414us/sample - loss: 563.1301 - mean_squared_error: 563.1301\n",
      "Epoch 2/10\n",
      "404/404 [==============================] - 0s 36us/sample - loss: 559.6331 - mean_squared_error: 559.6331\n",
      "Epoch 3/10\n",
      "404/404 [==============================] - 0s 97us/sample - loss: 551.7246 - mean_squared_error: 551.7246\n",
      "Epoch 4/10\n",
      "404/404 [==============================] - 0s 73us/sample - loss: 543.6646 - mean_squared_error: 543.6646\n",
      "Epoch 5/10\n",
      "404/404 [==============================] - 0s 78us/sample - loss: 542.3922 - mean_squared_error: 542.3922\n",
      "Epoch 6/10\n",
      "404/404 [==============================] - 0s 80us/sample - loss: 542.3707 - mean_squared_error: 542.3707\n",
      "Epoch 7/10\n",
      "404/404 [==============================] - 0s 102us/sample - loss: 542.3704 - mean_squared_error: 542.3704\n",
      "Epoch 8/10\n",
      "404/404 [==============================] - 0s 107us/sample - loss: 542.3704 - mean_squared_error: 542.3704\n",
      "Epoch 9/10\n",
      "404/404 [==============================] - 0s 134us/sample - loss: 542.3704 - mean_squared_error: 542.3704\n",
      "Epoch 10/10\n",
      "404/404 [==============================] - 0s 129us/sample - loss: 542.3704 - mean_squared_error: 542.3704\n"
     ]
    },
    {
     "data": {
      "text/plain": [
       "<tensorflow.python.keras.callbacks.History at 0x1a29253dd8>"
      ]
     },
     "execution_count": 32,
     "metadata": {},
     "output_type": "execute_result"
    }
   ],
   "source": [
    "model.fit(X_train, train_targets, batch_size=60, epochs=10)"
   ]
  },
  {
   "cell_type": "markdown",
   "metadata": {
    "colab_type": "text",
    "id": "SfcFnOONyuNm"
   },
   "source": [
    "## Use the Keras Library to build an image recognition network using the Fashion-MNIST dataset (also comes with keras)\n",
    "\n",
    "- Load and preprocess the image data similar to how we preprocessed the MNIST data in class.\n",
    "- Make sure to one-hot encode your category labels\n",
    "- Make sure to have your final layer have as many nodes as the number of classes that you want to predict.\n",
    "- Try different hyperparameters. What is the highest accuracy that you are able to achieve.\n",
    "- Use the history object that is returned from model.fit to make graphs of the model's loss or train/validation accuracies by epoch. \n",
    "- Remember that neural networks fall prey to randomness so you may need to run your model multiple times (or use Cross Validation) in order to tell if a change to a hyperparameter is truly producing better results."
   ]
  },
  {
   "cell_type": "code",
   "execution_count": 12,
   "metadata": {
    "colab": {},
    "colab_type": "code",
    "id": "szi6-IpuzaH1"
   },
   "outputs": [],
   "source": [
    "from tensorflow.keras.datasets import fashion_mnist"
   ]
  },
  {
   "cell_type": "code",
   "execution_count": 13,
   "metadata": {},
   "outputs": [
    {
     "name": "stdout",
     "output_type": "stream",
     "text": [
      "Downloading data from https://storage.googleapis.com/tensorflow/tf-keras-datasets/train-labels-idx1-ubyte.gz\n",
      "32768/29515 [=================================] - 0s 1us/step\n",
      "Downloading data from https://storage.googleapis.com/tensorflow/tf-keras-datasets/train-images-idx3-ubyte.gz\n",
      "26427392/26421880 [==============================] - 7s 0us/step\n",
      "Downloading data from https://storage.googleapis.com/tensorflow/tf-keras-datasets/t10k-labels-idx1-ubyte.gz\n",
      "8192/5148 [===============================================] - 0s 0us/step\n",
      "Downloading data from https://storage.googleapis.com/tensorflow/tf-keras-datasets/t10k-images-idx3-ubyte.gz\n",
      "4423680/4422102 [==============================] - 1s 0us/step\n"
     ]
    }
   ],
   "source": [
    "# Import Data\n",
    "(X_train, y_train), (X_test, y_test) = fashion_mnist.load_data()"
   ]
  },
  {
   "cell_type": "code",
   "execution_count": 14,
   "metadata": {},
   "outputs": [],
   "source": [
    "import matplotlib.pyplot as plt"
   ]
  },
  {
   "cell_type": "code",
   "execution_count": 18,
   "metadata": {},
   "outputs": [
    {
     "data": {
      "text/plain": [
       "<matplotlib.image.AxesImage at 0x10b332ef0>"
      ]
     },
     "execution_count": 18,
     "metadata": {},
     "output_type": "execute_result"
    },
    {
     "data": {
      "image/png": "[encoded data removed]",
      "text/plain": [
       "<Figure size 432x288 with 1 Axes>"
      ]
     },
     "metadata": {
      "needs_background": "light"
     },
     "output_type": "display_data"
    }
   ],
   "source": [
    "plt.imshow(X_train[205])"
   ]
  },
  {
   "cell_type": "code",
   "execution_count": 19,
   "metadata": {},
   "outputs": [
    {
     "name": "stdout",
     "output_type": "stream",
     "text": [
      "(60000, 28, 28)\n"
     ]
    },
    {
     "data": {
      "text/plain": [
       "(10000, 28, 28)"
      ]
     },
     "execution_count": 19,
     "metadata": {},
     "output_type": "execute_result"
    }
   ],
   "source": [
    "print(X_train.shape)\n",
    "X_test.shape"
   ]
  },
  {
   "cell_type": "code",
   "execution_count": 22,
   "metadata": {},
   "outputs": [],
   "source": [
    "# Normalize\n",
    "from tensorflow.keras.utils import normalize\n",
    "X_train = normalize(X_train)\n",
    "X_test = normalize(X_test)"
   ]
  },
  {
   "cell_type": "code",
   "execution_count": 23,
   "metadata": {},
   "outputs": [
    {
     "data": {
      "text/plain": [
       "<matplotlib.image.AxesImage at 0x10afd9e80>"
      ]
     },
     "execution_count": 23,
     "metadata": {},
     "output_type": "execute_result"
    },
    {
     "data": {
      "image/png": "[encoded data removed]",
      "text/plain": [
       "<Figure size 432x288 with 1 Axes>"
      ]
     },
     "metadata": {
      "needs_background": "light"
     },
     "output_type": "display_data"
    }
   ],
   "source": [
    "plt.imshow(X_train[205])"
   ]
  },
  {
   "cell_type": "code",
   "execution_count": 24,
   "metadata": {},
   "outputs": [],
   "source": [
    "# Define Architecture #\n",
    "model = tf.keras.models.Sequential()\n",
    "\n",
    "# Flatten Data - Input Layer\n",
    "model.add(tf.keras.layers.Flatten())\n",
    "\n",
    "# Two hidden layers\n",
    "model.add(tf.keras.layers.Dense(128, activation=tf.nn.relu))\n",
    "model.add(tf.keras.layers.Dense(128, activation=tf.nn.relu))\n",
    "model.add(tf.keras.layers.Dense(10, activation=tf.nn.softmax))"
   ]
  },
  {
   "cell_type": "code",
   "execution_count": 25,
   "metadata": {},
   "outputs": [],
   "source": [
    "# Training Params\n",
    "model.compile(optimizer='adam',\n",
    "              loss='sparse_categorical_crossentropy',\n",
    "              metrics=['accuracy'])"
   ]
  },
  {
   "cell_type": "code",
   "execution_count": 26,
   "metadata": {},
   "outputs": [
    {
     "name": "stdout",
     "output_type": "stream",
     "text": [
      "Epoch 1/50\n",
      "60000/60000 [==============================] - 4s 74us/sample - loss: 0.4740 - acc: 0.8276\n",
      "Epoch 2/50\n",
      "60000/60000 [==============================] - 4s 65us/sample - loss: 0.3503 - acc: 0.8711\n",
      "Epoch 3/50\n",
      "60000/60000 [==============================] - 5s 79us/sample - loss: 0.3145 - acc: 0.8838\n",
      "Epoch 4/50\n",
      "60000/60000 [==============================] - 3s 54us/sample - loss: 0.2927 - acc: 0.8910\n",
      "Epoch 5/50\n",
      "60000/60000 [==============================] - 5s 76us/sample - loss: 0.2761 - acc: 0.8962\n",
      "Epoch 6/50\n",
      "60000/60000 [==============================] - 5s 76us/sample - loss: 0.2594 - acc: 0.9015\n",
      "Epoch 7/50\n",
      "60000/60000 [==============================] - 4s 67us/sample - loss: 0.2467 - acc: 0.9068\n",
      "Epoch 8/50\n",
      "60000/60000 [==============================] - 5s 75us/sample - loss: 0.2366 - acc: 0.9104\n",
      "Epoch 9/50\n",
      "60000/60000 [==============================] - 4s 69us/sample - loss: 0.2248 - acc: 0.9145\n",
      "Epoch 10/50\n",
      "60000/60000 [==============================] - 4s 67us/sample - loss: 0.2164 - acc: 0.9175\n",
      "Epoch 11/50\n",
      "60000/60000 [==============================] - 5s 76us/sample - loss: 0.2074 - acc: 0.9208\n",
      "Epoch 12/50\n",
      "60000/60000 [==============================] - 4s 67us/sample - loss: 0.2004 - acc: 0.9230\n",
      "Epoch 13/50\n",
      "60000/60000 [==============================] - 4s 69us/sample - loss: 0.1932 - acc: 0.9263\n",
      "Epoch 14/50\n",
      "60000/60000 [==============================] - 5s 76us/sample - loss: 0.1846 - acc: 0.9293\n",
      "Epoch 15/50\n",
      "60000/60000 [==============================] - 4s 67us/sample - loss: 0.1802 - acc: 0.9304\n",
      "Epoch 16/50\n",
      "60000/60000 [==============================] - 5s 84us/sample - loss: 0.1728 - acc: 0.9343\n",
      "Epoch 17/50\n",
      "60000/60000 [==============================] - 5s 75us/sample - loss: 0.1688 - acc: 0.9347\n",
      "Epoch 18/50\n",
      "60000/60000 [==============================] - 4s 68us/sample - loss: 0.1616 - acc: 0.9380\n",
      "Epoch 19/50\n",
      "60000/60000 [==============================] - 5s 88us/sample - loss: 0.1574 - acc: 0.9402\n",
      "Epoch 20/50\n",
      "60000/60000 [==============================] - 4s 60us/sample - loss: 0.1521 - acc: 0.9418\n",
      "Epoch 21/50\n",
      "60000/60000 [==============================] - 5s 83us/sample - loss: 0.1481 - acc: 0.9442\n",
      "Epoch 22/50\n",
      "60000/60000 [==============================] - 7s 120us/sample - loss: 0.1422 - acc: 0.9451\n",
      "Epoch 23/50\n",
      "60000/60000 [==============================] - 7s 119us/sample - loss: 0.1384 - acc: 0.9462\n",
      "Epoch 24/50\n",
      "60000/60000 [==============================] - 3s 53us/sample - loss: 0.1347 - acc: 0.9485\n",
      "Epoch 25/50\n",
      "60000/60000 [==============================] - 4s 62us/sample - loss: 0.1295 - acc: 0.9494\n",
      "Epoch 26/50\n",
      "60000/60000 [==============================] - 3s 50us/sample - loss: 0.1257 - acc: 0.9524\n",
      "Epoch 27/50\n",
      "60000/60000 [==============================] - 3s 50us/sample - loss: 0.1230 - acc: 0.9529\n",
      "Epoch 28/50\n",
      "60000/60000 [==============================] - 4s 72us/sample - loss: 0.1186 - acc: 0.9543\n",
      "Epoch 29/50\n",
      "60000/60000 [==============================] - 3s 52us/sample - loss: 0.1158 - acc: 0.9547\n",
      "Epoch 30/50\n",
      "60000/60000 [==============================] - 3s 51us/sample - loss: 0.1116 - acc: 0.9574\n",
      "Epoch 31/50\n",
      "60000/60000 [==============================] - 4s 61us/sample - loss: 0.1086 - acc: 0.9583\n",
      "Epoch 32/50\n",
      "60000/60000 [==============================] - 3s 51us/sample - loss: 0.1077 - acc: 0.9588\n",
      "Epoch 33/50\n",
      "60000/60000 [==============================] - 3s 52us/sample - loss: 0.1042 - acc: 0.9598\n",
      "Epoch 34/50\n",
      "60000/60000 [==============================] - 4s 62us/sample - loss: 0.0999 - acc: 0.9614\n",
      "Epoch 35/50\n",
      "60000/60000 [==============================] - 3s 52us/sample - loss: 0.0976 - acc: 0.9621\n",
      "Epoch 36/50\n",
      "60000/60000 [==============================] - 3s 51us/sample - loss: 0.0958 - acc: 0.9627\n",
      "Epoch 37/50\n",
      "60000/60000 [==============================] - 4s 61us/sample - loss: 0.0927 - acc: 0.9649\n",
      "Epoch 38/50\n",
      "60000/60000 [==============================] - 3s 58us/sample - loss: 0.0923 - acc: 0.9642\n",
      "Epoch 39/50\n",
      "60000/60000 [==============================] - 4s 59us/sample - loss: 0.0894 - acc: 0.9656\n",
      "Epoch 40/50\n",
      "60000/60000 [==============================] - 3s 58us/sample - loss: 0.0901 - acc: 0.9650\n",
      "Epoch 41/50\n",
      "60000/60000 [==============================] - 3s 56us/sample - loss: 0.0834 - acc: 0.9680\n",
      "Epoch 42/50\n",
      "60000/60000 [==============================] - 3s 53us/sample - loss: 0.0830 - acc: 0.9686\n",
      "Epoch 43/50\n",
      "60000/60000 [==============================] - 3s 52us/sample - loss: 0.0782 - acc: 0.9697\n",
      "Epoch 44/50\n",
      "60000/60000 [==============================] - 5s 89us/sample - loss: 0.0800 - acc: 0.9689\n",
      "Epoch 45/50\n",
      "60000/60000 [==============================] - 3s 51us/sample - loss: 0.0779 - acc: 0.9703\n",
      "Epoch 46/50\n",
      "60000/60000 [==============================] - 3s 52us/sample - loss: 0.0764 - acc: 0.9710\n",
      "Epoch 47/50\n",
      "60000/60000 [==============================] - 4s 59us/sample - loss: 0.0736 - acc: 0.9721\n",
      "Epoch 48/50\n",
      "60000/60000 [==============================] - 3s 52us/sample - loss: 0.0724 - acc: 0.9718\n",
      "Epoch 49/50\n",
      "60000/60000 [==============================] - 5s 84us/sample - loss: 0.0713 - acc: 0.9731\n",
      "Epoch 50/50\n",
      "60000/60000 [==============================] - 5s 87us/sample - loss: 0.0701 - acc: 0.9730\n"
     ]
    },
    {
     "data": {
      "text/plain": [
       "<tensorflow.python.keras.callbacks.History at 0x10b00d080>"
      ]
     },
     "execution_count": 26,
     "metadata": {},
     "output_type": "execute_result"
    }
   ],
   "source": [
    "# Train Model\n",
    "model.fit(X_train, y_train, epochs=50)"
   ]
  },
  {
   "cell_type": "code",
   "execution_count": 29,
   "metadata": {},
   "outputs": [
    {
     "data": {
      "text/plain": [
       "4"
      ]
     },
     "execution_count": 29,
     "metadata": {},
     "output_type": "execute_result"
    }
   ],
   "source": [
    "import numpy as np\n",
    "predictions = model.predict(X_train)"
   ]
  },
  {
   "cell_type": "code",
   "execution_count": 36,
   "metadata": {},
   "outputs": [
    {
     "data": {
      "text/plain": [
       "9"
      ]
     },
     "execution_count": 36,
     "metadata": {},
     "output_type": "execute_result"
    }
   ],
   "source": [
    "# 0 - T-shirt\n",
    "# 1 - Trousers\n",
    "# 2 - Pullover\n",
    "# 3 - Skirt\n",
    "# 4 - Coat\n",
    "# 5 - Sandal\n",
    "# 6 - Shirt\n",
    "# 7 - Sneaker\n",
    "# 8 - Bag\n",
    "# 9 - Boot\n",
    "np.argmax(predictions[150])"
   ]
  },
  {
   "cell_type": "code",
   "execution_count": 37,
   "metadata": {},
   "outputs": [
    {
     "data": {
      "text/plain": [
       "<matplotlib.image.AxesImage at 0xb2d5bfe48>"
      ]
     },
     "execution_count": 37,
     "metadata": {},
     "output_type": "execute_result"
    },
    {
     "data": {
      "image/png": "[encoded data removed]",
      "text/plain": [
       "<Figure size 432x288 with 1 Axes>"
      ]
     },
     "metadata": {
      "needs_background": "light"
     },
     "output_type": "display_data"
    }
   ],
   "source": [
    "plt.imshow(X_train[150])"
   ]
  },
  {
   "cell_type": "markdown",
   "metadata": {
    "colab_type": "text",
    "id": "zv_3xNMjzdLI"
   },
   "source": [
    "## Stretch Goals:\n",
    "\n",
    "- Use Hyperparameter Tuning to make the accuracy of your models as high as possible. (error as low as possible)\n",
    "- Use Cross Validation techniques to get more consistent results with your model.\n",
    "- Use GridSearchCV to try different combinations of hyperparameters. \n",
    "- Start looking into other types of Keras layers for CNNs and RNNs maybe try and build a CNN model for fashion-MNIST to see how the results compare."
   ]
  }
 ],
 "metadata": {
  "colab": {
   "name": "LS_DS_433_Keras_Assignment.ipynb",
   "provenance": [],
   "version": "0.3.2"
  },
  "kernelspec": {
   "display_name": "Python 3",
   "language": "python",
   "name": "python3"
  },
  "language_info": {
   "codemirror_mode": {
    "name": "ipython",
    "version": 3
   },
   "file_extension": ".py",
   "mimetype": "text/x-python",
   "name": "python",
   "nbconvert_exporter": "python",
   "pygments_lexer": "ipython3",
   "version": "3.7.3"
  }
 },
 "nbformat": 4,
 "nbformat_minor": 2
}
