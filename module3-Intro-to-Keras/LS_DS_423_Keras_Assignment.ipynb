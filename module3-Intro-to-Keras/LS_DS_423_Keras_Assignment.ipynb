{
 "cells": [
  {
   "cell_type": "markdown",
   "metadata": {
    "colab_type": "text",
    "id": "pBQsZEJmubLs"
   },
   "source": [
    "<img align=\"left\" src=\"https://lever-client-logos.s3.amazonaws.com/864372b1-534c-480e-acd5-9711f850815c-1524247202159.png\" width=200>\n",
    "<br></br>\n",
    "\n",
    "# Neural Network Framework (Keras)\n",
    "\n",
    "## *Data Science Unit 4 Sprint 2 Assignmnet 3*\n",
    "\n",
    "## Use the Keras Library to build a Multi-Layer Perceptron Model on the Boston Housing dataset\n",
    "\n",
    "- The Boston Housing dataset comes with the Keras library so use Keras to import it into your notebook. \n",
    "- Normalize the data (all features should have roughly the same scale)\n",
    "- Import the type of model and layers that you will need from Keras.\n",
    "- Instantiate a model object and use `model.add()` to add layers to your model\n",
    "- Since this is a regression model you will have a single output node in the final layer.\n",
    "- Use activation functions that are appropriate for this task\n",
    "- Compile your model\n",
    "- Fit your model and report its accuracy in terms of Mean Squared Error\n",
    "- Use the history object that is returned from model.fit to make graphs of the model's loss or train/validation accuracies by epoch. \n",
    "- Run this same data through a linear regression model. Which achieves higher accuracy?\n",
    "- Do a little bit of feature engineering and see how that affects your neural network model. (you will need to change your model to accept more inputs)\n",
    "- After feature engineering, which model sees a greater accuracy boost due to the new features?"
   ]
  },
  {
   "cell_type": "code",
   "execution_count": 68,
   "metadata": {},
   "outputs": [
    {
     "name": "stdout",
     "output_type": "stream",
     "text": "(404, 13) (404,) (102, 13) (102,)\n"
    }
   ],
   "source": [
    "import numpy as np\n",
    "from tensorflow.keras.models import Sequential\n",
    "from tensorflow.keras.layers import Dense\n",
    "from keras.datasets import boston_housing\n",
    "from sklearn.preprocessing import StandardScaler\n",
    "\n",
    "(X_train, y_train), (X_test, y_test) = boston_housing.load_data()\n",
    "print(X_train.shape, y_train.shape, X_test.shape, y_test.shape)"
   ]
  },
  {
   "cell_type": "code",
   "execution_count": 69,
   "metadata": {},
   "outputs": [],
   "source": [
    "scaler = StandardScaler()\n",
    "scaler.fit(X_train)\n",
    "X_train_scaled = scaler.transform(X_train)\n",
    "X_test_scaled = scaler.transform(X_test)"
   ]
  },
  {
   "cell_type": "code",
   "execution_count": 83,
   "metadata": {},
   "outputs": [
    {
     "name": "stdout",
     "output_type": "stream",
     "text": "5495 - mean_squared_error: 39.5495\nEpoch 32/200\n404/404 [==============================] - 0s 30us/sample - loss: 37.2367 - mean_squared_error: 37.2367\nEpoch 33/200\n404/404 [==============================] - 0s 30us/sample - loss: 35.2714 - mean_squared_error: 35.2714\nEpoch 34/200\n404/404 [==============================] - 0s 27us/sample - loss: 33.5759 - mean_squared_error: 33.5759\nEpoch 35/200\n404/404 [==============================] - 0s 32us/sample - loss: 32.1767 - mean_squared_error: 32.1767\nEpoch 36/200\n404/404 [==============================] - 0s 30us/sample - loss: 30.8372 - mean_squared_error: 30.8372\nEpoch 37/200\n404/404 [==============================] - 0s 30us/sample - loss: 29.7395 - mean_squared_error: 29.7395\nEpoch 38/200\n404/404 [==============================] - 0s 30us/sample - loss: 28.9784 - mean_squared_error: 28.9784\nEpoch 39/200\n404/404 [==============================] - 0s 27us/sample - loss: 28.1106 - mean_squared_error: 28.1106\nEpoch 40/200\n404/404 [==============================] - 0s 25us/sample - loss: 27.2263 - mean_squared_error: 27.2263\nEpoch 41/200\n404/404 [==============================] - 0s 30us/sample - loss: 26.5808 - mean_squared_error: 26.5808\nEpoch 42/200\n404/404 [==============================] - 0s 25us/sample - loss: 25.9844 - mean_squared_error: 25.9844\nEpoch 43/200\n404/404 [==============================] - 0s 32us/sample - loss: 25.4326 - mean_squared_error: 25.4326\nEpoch 44/200\n404/404 [==============================] - 0s 27us/sample - loss: 24.8777 - mean_squared_error: 24.8777\nEpoch 45/200\n404/404 [==============================] - 0s 30us/sample - loss: 24.3068 - mean_squared_error: 24.3068\nEpoch 46/200\n404/404 [==============================] - 0s 27us/sample - loss: 23.8448 - mean_squared_error: 23.8448\nEpoch 47/200\n404/404 [==============================] - 0s 30us/sample - loss: 23.3785 - mean_squared_error: 23.3785\nEpoch 48/200\n404/404 [==============================] - 0s 25us/sample - loss: 22.9268 - mean_squared_error: 22.9268\nEpoch 49/200\n404/404 [==============================] - 0s 30us/sample - loss: 22.5325 - mean_squared_error: 22.5325\nEpoch 50/200\n404/404 [==============================] - 0s 30us/sample - loss: 22.2443 - mean_squared_error: 22.2443\nEpoch 51/200\n404/404 [==============================] - 0s 27us/sample - loss: 21.8089 - mean_squared_error: 21.8089\nEpoch 52/200\n404/404 [==============================] - 0s 27us/sample - loss: 21.4515 - mean_squared_error: 21.4515\nEpoch 53/200\n404/404 [==============================] - 0s 30us/sample - loss: 21.2029 - mean_squared_error: 21.2029\nEpoch 54/200\n404/404 [==============================] - 0s 27us/sample - loss: 20.8179 - mean_squared_error: 20.8179\nEpoch 55/200\n404/404 [==============================] - 0s 27us/sample - loss: 20.6121 - mean_squared_error: 20.6121\nEpoch 56/200\n404/404 [==============================] - 0s 27us/sample - loss: 20.3296 - mean_squared_error: 20.3296\nEpoch 57/200\n404/404 [==============================] - 0s 30us/sample - loss: 20.0220 - mean_squared_error: 20.0220\nEpoch 58/200\n404/404 [==============================] - 0s 27us/sample - loss: 19.6799 - mean_squared_error: 19.6799\nEpoch 59/200\n404/404 [==============================] - 0s 30us/sample - loss: 19.3962 - mean_squared_error: 19.3962\nEpoch 60/200\n404/404 [==============================] - 0s 30us/sample - loss: 19.0474 - mean_squared_error: 19.0474\nEpoch 61/200\n404/404 [==============================] - 0s 27us/sample - loss: 18.8094 - mean_squared_error: 18.8094\nEpoch 62/200\n404/404 [==============================] - 0s 27us/sample - loss: 18.5486 - mean_squared_error: 18.5486\nEpoch 63/200\n404/404 [==============================] - 0s 27us/sample - loss: 18.2489 - mean_squared_error: 18.2489\nEpoch 64/200\n404/404 [==============================] - 0s 27us/sample - loss: 18.0325 - mean_squared_error: 18.0325\nEpoch 65/200\n404/404 [==============================] - 0s 30us/sample - loss: 17.7480 - mean_squared_error: 17.7480\nEpoch 66/200\n404/404 [==============================] - 0s 30us/sample - loss: 17.5225 - mean_squared_error: 17.5225\nEpoch 67/200\n404/404 [==============================] - 0s 27us/sample - loss: 17.2607 - mean_squared_error: 17.2607\nEpoch 68/200\n404/404 [==============================] - 0s 30us/sample - loss: 17.1027 - mean_squared_error: 17.1027\nEpoch 69/200\n404/404 [==============================] - 0s 30us/sample - loss: 16.8144 - mean_squared_error: 16.8144\nEpoch 70/200\n404/404 [==============================] - 0s 27us/sample - loss: 16.6703 - mean_squared_error: 16.6703\nEpoch 71/200\n404/404 [==============================] - 0s 27us/sample - loss: 16.4264 - mean_squared_error: 16.4264\nEpoch 72/200\n404/404 [==============================] - 0s 30us/sample - loss: 16.3352 - mean_squared_error: 16.3352\nEpoch 73/200\n404/404 [==============================] - 0s 27us/sample - loss: 16.0593 - mean_squared_error: 16.0593\nEpoch 74/200\n404/404 [==============================] - 0s 30us/sample - loss: 15.9827 - mean_squared_error: 15.9827\nEpoch 75/200\n404/404 [==============================] - 0s 27us/sample - loss: 15.9106 - mean_squared_error: 15.9106\nEpoch 76/200\n404/404 [==============================] - 0s 27us/sample - loss: 15.6404 - mean_squared_error: 15.6404\nEpoch 77/200\n404/404 [==============================] - 0s 27us/sample - loss: 15.5318 - mean_squared_error: 15.5318\nEpoch 78/200\n404/404 [==============================] - 0s 30us/sample - loss: 15.3211 - mean_squared_error: 15.3211\nEpoch 79/200\n404/404 [==============================] - 0s 27us/sample - loss: 15.2385 - mean_squared_error: 15.2385\nEpoch 80/200\n404/404 [==============================] - 0s 27us/sample - loss: 15.0952 - mean_squared_error: 15.0952\nEpoch 81/200\n404/404 [==============================] - 0s 27us/sample - loss: 15.0596 - mean_squared_error: 15.0596\nEpoch 82/200\n404/404 [==============================] - 0s 27us/sample - loss: 14.9034 - mean_squared_error: 14.9034\nEpoch 83/200\n404/404 [==============================] - 0s 27us/sample - loss: 14.6719 - mean_squared_error: 14.6719\nEpoch 84/200\n404/404 [==============================] - 0s 30us/sample - loss: 14.6635 - mean_squared_error: 14.6635\nEpoch 85/200\n404/404 [==============================] - 0s 27us/sample - loss: 14.5747 - mean_squared_error: 14.5747\nEpoch 86/200\n404/404 [==============================] - 0s 30us/sample - loss: 14.4476 - mean_squared_error: 14.4476\nEpoch 87/200\n404/404 [==============================] - 0s 27us/sample - loss: 14.2806 - mean_squared_error: 14.2806\nEpoch 88/200\n404/404 [==============================] - 0s 32us/sample - loss: 14.1987 - mean_squared_error: 14.1987\nEpoch 89/200\n404/404 [==============================] - 0s 25us/sample - loss: 14.1433 - mean_squared_error: 14.1433\nEpoch 90/200\n404/404 [==============================] - 0s 27us/sample - loss: 14.1122 - mean_squared_error: 14.1122\nEpoch 91/200\n404/404 [==============================] - 0s 27us/sample - loss: 13.9525 - mean_squared_error: 13.9525\nEpoch 92/200\n404/404 [==============================] - 0s 25us/sample - loss: 13.9260 - mean_squared_error: 13.9260\nEpoch 93/200\n404/404 [==============================] - 0s 27us/sample - loss: 13.7035 - mean_squared_error: 13.7035\nEpoch 94/200\n404/404 [==============================] - 0s 30us/sample - loss: 13.6477 - mean_squared_error: 13.6477\nEpoch 95/200\n404/404 [==============================] - 0s 27us/sample - loss: 13.6110 - mean_squared_error: 13.6110\nEpoch 96/200\n404/404 [==============================] - 0s 30us/sample - loss: 13.4948 - mean_squared_error: 13.4948\nEpoch 97/200\n404/404 [==============================] - 0s 27us/sample - loss: 13.3736 - mean_squared_error: 13.3736\nEpoch 98/200\n404/404 [==============================] - 0s 27us/sample - loss: 13.3255 - mean_squared_error: 13.3255\nEpoch 99/200\n404/404 [==============================] - 0s 27us/sample - loss: 13.3065 - mean_squared_error: 13.3065\nEpoch 100/200\n404/404 [==============================] - 0s 27us/sample - loss: 13.1404 - mean_squared_error: 13.1404\nEpoch 101/200\n404/404 [==============================] - 0s 25us/sample - loss: 13.0509 - mean_squared_error: 13.0509\nEpoch 102/200\n404/404 [==============================] - 0s 27us/sample - loss: 13.0305 - mean_squared_error: 13.0305\nEpoch 103/200\n404/404 [==============================] - 0s 27us/sample - loss: 12.8966 - mean_squared_error: 12.8966\nEpoch 104/200\n404/404 [==============================] - 0s 27us/sample - loss: 12.7800 - mean_squared_error: 12.7800\nEpoch 105/200\n404/404 [==============================] - 0s 30us/sample - loss: 12.7392 - mean_squared_error: 12.7392\nEpoch 106/200\n404/404 [==============================] - 0s 27us/sample - loss: 12.6971 - mean_squared_error: 12.6971\nEpoch 107/200\n404/404 [==============================] - 0s 30us/sample - loss: 12.5551 - mean_squared_error: 12.5551\nEpoch 108/200\n404/404 [==============================] - 0s 27us/sample - loss: 12.4835 - mean_squared_error: 12.4835\nEpoch 109/200\n404/404 [==============================] - 0s 27us/sample - loss: 12.4335 - mean_squared_error: 12.4335\nEpoch 110/200\n404/404 [==============================] - 0s 32us/sample - loss: 12.3410 - mean_squared_error: 12.3410\nEpoch 111/200\n404/404 [==============================] - 0s 30us/sample - loss: 12.3418 - mean_squared_error: 12.3418\nEpoch 112/200\n404/404 [==============================] - 0s 27us/sample - loss: 12.1802 - mean_squared_error: 12.1802\nEpoch 113/200\n404/404 [==============================] - 0s 27us/sample - loss: 12.2090 - mean_squared_error: 12.2090\nEpoch 114/200\n404/404 [==============================] - 0s 27us/sample - loss: 12.0481 - mean_squared_error: 12.0481\nEpoch 115/200\n404/404 [==============================] - 0s 27us/sample - loss: 12.1167 - mean_squared_error: 12.1167\nEpoch 116/200\n404/404 [==============================] - 0s 25us/sample - loss: 11.9911 - mean_squared_error: 11.9911\nEpoch 117/200\n404/404 [==============================] - 0s 27us/sample - loss: 11.8946 - mean_squared_error: 11.8946\nEpoch 118/200\n404/404 [==============================] - 0s 27us/sample - loss: 11.9094 - mean_squared_error: 11.9094\nEpoch 119/200\n404/404 [==============================] - 0s 30us/sample - loss: 11.8193 - mean_squared_error: 11.8193\nEpoch 120/200\n404/404 [==============================] - 0s 32us/sample - loss: 11.7553 - mean_squared_error: 11.7553\nEpoch 121/200\n404/404 [==============================] - 0s 32us/sample - loss: 11.7665 - mean_squared_error: 11.7665\nEpoch 122/200\n404/404 [==============================] - 0s 30us/sample - loss: 11.6736 - mean_squared_error: 11.6736\nEpoch 123/200\n404/404 [==============================] - 0s 30us/sample - loss: 11.6993 - mean_squared_error: 11.6993\nEpoch 124/200\n404/404 [==============================] - 0s 27us/sample - loss: 11.6515 - mean_squared_error: 11.6515\nEpoch 125/200\n404/404 [==============================] - 0s 30us/sample - loss: 11.6025 - mean_squared_error: 11.6025\nEpoch 126/200\n404/404 [==============================] - 0s 30us/sample - loss: 11.5360 - mean_squared_error: 11.5360\nEpoch 127/200\n404/404 [==============================] - 0s 32us/sample - loss: 11.4909 - mean_squared_error: 11.4909\nEpoch 128/200\n404/404 [==============================] - 0s 25us/sample - loss: 11.4683 - mean_squared_error: 11.4683\nEpoch 129/200\n404/404 [==============================] - 0s 27us/sample - loss: 11.4201 - mean_squared_error: 11.4201\nEpoch 130/200\n404/404 [==============================] - 0s 27us/sample - loss: 11.4311 - mean_squared_error: 11.4311\nEpoch 131/200\n404/404 [==============================] - 0s 27us/sample - loss: 11.3701 - mean_squared_error: 11.3701\nEpoch 132/200\n404/404 [==============================] - 0s 30us/sample - loss: 11.2773 - mean_squared_error: 11.2773\nEpoch 133/200\n404/404 [==============================] - 0s 27us/sample - loss: 11.3410 - mean_squared_error: 11.3410\nEpoch 134/200\n404/404 [==============================] - 0s 27us/sample - loss: 11.2399 - mean_squared_error: 11.2399\nEpoch 135/200\n404/404 [==============================] - 0s 27us/sample - loss: 11.2652 - mean_squared_error: 11.2652\nEpoch 136/200\n404/404 [==============================] - 0s 27us/sample - loss: 11.2578 - mean_squared_error: 11.2578\nEpoch 137/200\n404/404 [==============================] - 0s 27us/sample - loss: 11.1691 - mean_squared_error: 11.1691\nEpoch 138/200\n404/404 [==============================] - 0s 27us/sample - loss: 11.1257 - mean_squared_error: 11.1257\nEpoch 139/200\n404/404 [==============================] - 0s 25us/sample - loss: 11.0872 - mean_squared_error: 11.0872\nEpoch 140/200\n404/404 [==============================] - 0s 30us/sample - loss: 11.1141 - mean_squared_error: 11.1141\nEpoch 141/200\n404/404 [==============================] - 0s 27us/sample - loss: 11.0600 - mean_squared_error: 11.0600\nEpoch 142/200\n404/404 [==============================] - 0s 30us/sample - loss: 11.0726 - mean_squared_error: 11.0726\nEpoch 143/200\n404/404 [==============================] - 0s 25us/sample - loss: 10.9686 - mean_squared_error: 10.9686\nEpoch 144/200\n404/404 [==============================] - 0s 30us/sample - loss: 11.0131 - mean_squared_error: 11.0131\nEpoch 145/200\n404/404 [==============================] - 0s 25us/sample - loss: 11.0126 - mean_squared_error: 11.0126\nEpoch 146/200\n404/404 [==============================] - 0s 27us/sample - loss: 11.0175 - mean_squared_error: 11.0175\nEpoch 147/200\n404/404 [==============================] - 0s 27us/sample - loss: 10.8694 - mean_squared_error: 10.8694\nEpoch 148/200\n404/404 [==============================] - 0s 25us/sample - loss: 10.9433 - mean_squared_error: 10.9433\nEpoch 149/200\n404/404 [==============================] - 0s 25us/sample - loss: 10.9268 - mean_squared_error: 10.9268\nEpoch 150/200\n404/404 [==============================] - 0s 30us/sample - loss: 10.8413 - mean_squared_error: 10.8413\nEpoch 151/200\n404/404 [==============================] - 0s 27us/sample - loss: 10.8109 - mean_squared_error: 10.8109\nEpoch 152/200\n404/404 [==============================] - 0s 32us/sample - loss: 10.8110 - mean_squared_error: 10.8110\nEpoch 153/200\n404/404 [==============================] - 0s 27us/sample - loss: 10.7812 - mean_squared_error: 10.7812\nEpoch 154/200\n404/404 [==============================] - 0s 30us/sample - loss: 10.7901 - mean_squared_error: 10.7901\nEpoch 155/200\n404/404 [==============================] - 0s 27us/sample - loss: 10.7541 - mean_squared_error: 10.7541\nEpoch 156/200\n404/404 [==============================] - 0s 30us/sample - loss: 10.7557 - mean_squared_error: 10.7557\nEpoch 157/200\n404/404 [==============================] - 0s 27us/sample - loss: 10.7075 - mean_squared_error: 10.7075\nEpoch 158/200\n404/404 [==============================] - 0s 27us/sample - loss: 10.6785 - mean_squared_error: 10.6785\nEpoch 159/200\n404/404 [==============================] - 0s 25us/sample - loss: 10.7047 - mean_squared_error: 10.7047\nEpoch 160/200\n404/404 [==============================] - 0s 27us/sample - loss: 10.6102 - mean_squared_error: 10.6102\nEpoch 161/200\n404/404 [==============================] - 0s 30us/sample - loss: 10.6590 - mean_squared_error: 10.6590\nEpoch 162/200\n404/404 [==============================] - 0s 25us/sample - loss: 10.6424 - mean_squared_error: 10.6424\nEpoch 163/200\n404/404 [==============================] - 0s 30us/sample - loss: 10.5284 - mean_squared_error: 10.5284\nEpoch 164/200\n404/404 [==============================] - 0s 30us/sample - loss: 10.5668 - mean_squared_error: 10.5668\nEpoch 165/200\n404/404 [==============================] - 0s 27us/sample - loss: 10.6015 - mean_squared_error: 10.6015\nEpoch 166/200\n404/404 [==============================] - 0s 30us/sample - loss: 10.4810 - mean_squared_error: 10.4810\nEpoch 167/200\n404/404 [==============================] - 0s 30us/sample - loss: 10.5401 - mean_squared_error: 10.5401\nEpoch 168/200\n404/404 [==============================] - 0s 27us/sample - loss: 10.5225 - mean_squared_error: 10.5225\nEpoch 169/200\n404/404 [==============================] - 0s 25us/sample - loss: 10.4315 - mean_squared_error: 10.4315\nEpoch 170/200\n404/404 [==============================] - 0s 30us/sample - loss: 10.4929 - mean_squared_error: 10.4930\nEpoch 171/200\n404/404 [==============================] - 0s 30us/sample - loss: 10.4311 - mean_squared_error: 10.4311\nEpoch 172/200\n404/404 [==============================] - 0s 30us/sample - loss: 10.3765 - mean_squared_error: 10.3765\nEpoch 173/200\n404/404 [==============================] - 0s 30us/sample - loss: 10.3406 - mean_squared_error: 10.3406\nEpoch 174/200\n404/404 [==============================] - 0s 27us/sample - loss: 10.3420 - mean_squared_error: 10.3420\nEpoch 175/200\n404/404 [==============================] - 0s 32us/sample - loss: 10.3467 - mean_squared_error: 10.3467\nEpoch 176/200\n404/404 [==============================] - 0s 32us/sample - loss: 10.2997 - mean_squared_error: 10.2997\nEpoch 177/200\n404/404 [==============================] - 0s 30us/sample - loss: 10.3209 - mean_squared_error: 10.3209\nEpoch 178/200\n404/404 [==============================] - 0s 30us/sample - loss: 10.3107 - mean_squared_error: 10.3107\nEpoch 179/200\n404/404 [==============================] - 0s 30us/sample - loss: 10.2526 - mean_squared_error: 10.2526\nEpoch 180/200\n404/404 [==============================] - 0s 30us/sample - loss: 10.2092 - mean_squared_error: 10.2092\nEpoch 181/200\n404/404 [==============================] - 0s 30us/sample - loss: 10.2640 - mean_squared_error: 10.2640\nEpoch 182/200\n404/404 [==============================] - 0s 25us/sample - loss: 10.2027 - mean_squared_error: 10.2027\nEpoch 183/200\n404/404 [==============================] - 0s 27us/sample - loss: 10.1476 - mean_squared_error: 10.1476\nEpoch 184/200\n404/404 [==============================] - 0s 30us/sample - loss: 10.1731 - mean_squared_error: 10.1731\nEpoch 185/200\n404/404 [==============================] - 0s 27us/sample - loss: 10.1914 - mean_squared_error: 10.1914\nEpoch 186/200\n404/404 [==============================] - 0s 27us/sample - loss: 10.1178 - mean_squared_error: 10.1178\nEpoch 187/200\n404/404 [==============================] - 0s 30us/sample - loss: 10.1151 - mean_squared_error: 10.1151\nEpoch 188/200\n404/404 [==============================] - 0s 27us/sample - loss: 10.1835 - mean_squared_error: 10.1835\nEpoch 189/200\n404/404 [==============================] - 0s 27us/sample - loss: 10.1303 - mean_squared_error: 10.1303\nEpoch 190/200\n404/404 [==============================] - 0s 30us/sample - loss: 10.0620 - mean_squared_error: 10.0620\nEpoch 191/200\n404/404 [==============================] - 0s 27us/sample - loss: 10.0784 - mean_squared_error: 10.0784\nEpoch 192/200\n404/404 [==============================] - 0s 30us/sample - loss: 10.1294 - mean_squared_error: 10.1294\nEpoch 193/200\n404/404 [==============================] - 0s 27us/sample - loss: 10.0231 - mean_squared_error: 10.0231\nEpoch 194/200\n404/404 [==============================] - 0s 30us/sample - loss: 9.9783 - mean_squared_error: 9.9783\nEpoch 195/200\n404/404 [==============================] - 0s 27us/sample - loss: 9.9726 - mean_squared_error: 9.9726\nEpoch 196/200\n404/404 [==============================] - 0s 32us/sample - loss: 10.0209 - mean_squared_error: 10.0209\nEpoch 197/200\n404/404 [==============================] - 0s 25us/sample - loss: 9.9849 - mean_squared_error: 9.9849\nEpoch 198/200\n404/404 [==============================] - 0s 30us/sample - loss: 9.8875 - mean_squared_error: 9.8875\nEpoch 199/200\n404/404 [==============================] - 0s 32us/sample - loss: 9.9234 - mean_squared_error: 9.9234\nEpoch 200/200\n404/404 [==============================] - 0s 30us/sample - loss: 9.8637 - mean_squared_error: 9.8637\n404/404 [==============================] - 0s 121us/sample - loss: 9.7750 - mean_squared_error: 9.7750\n"
    }
   ],
   "source": [
    "model = Sequential()\n",
    "model.add(Dense(8, input_shape=[X_train.shape[1]], activation='relu'))\n",
    "model.add(Dense(16, activation='relu'))\n",
    "model.add(Dense(1))\n",
    "model.compile(\n",
    "    loss='mse', \n",
    "    optimizer='rmsprop', \n",
    "    metrics=['mean_squared_error']\n",
    "    )\n",
    "model.fit(X_train_scaled, y_train, epochs=200)\n",
    "scores = model.evaluate(X_train_scaled, y_train)"
   ]
  },
  {
   "cell_type": "code",
   "execution_count": 84,
   "metadata": {},
   "outputs": [
    {
     "name": "stdout",
     "output_type": "stream",
     "text": "102/102 [==============================] - 0s 49us/sample - loss: 26.6063 - mean_squared_error: 26.6063\n"
    },
    {
     "data": {
      "text/plain": "[26.60631097531786, 26.606312]"
     },
     "execution_count": 84,
     "metadata": {},
     "output_type": "execute_result"
    }
   ],
   "source": [
    "model.evaluate(X_test_scaled, y_test)"
   ]
  },
  {
   "cell_type": "markdown",
   "metadata": {
    "colab_type": "text",
    "id": "SfcFnOONyuNm"
   },
   "source": [
    "## Use the Keras Library to build an image recognition network using the Fashion-MNIST dataset (also comes with keras)\n",
    "\n",
    "- Load and preprocess the image data similar to how we preprocessed the MNIST data in class.\n",
    "- Make sure to one-hot encode your category labels\n",
    "- Make sure to have your final layer have as many nodes as the number of classes that you want to predict.\n",
    "- Try different hyperparameters. What is the highest accuracy that you are able to achieve.\n",
    "- Use the history object that is returned from model.fit to make graphs of the model's loss or train/validation accuracies by epoch. \n",
    "- Remember that neural networks fall prey to randomness so you may need to run your model multiple times (or use Cross Validation) in order to tell if a change to a hyperparameter is truly producing better results."
   ]
  },
  {
   "cell_type": "code",
   "execution_count": null,
   "metadata": {
    "colab": {},
    "colab_type": "code",
    "id": "szi6-IpuzaH1"
   },
   "outputs": [],
   "source": [
    "##### Your Code Here #####"
   ]
  },
  {
   "cell_type": "markdown",
   "metadata": {
    "colab_type": "text",
    "id": "zv_3xNMjzdLI"
   },
   "source": [
    "## Stretch Goals:\n",
    "\n",
    "- Use Hyperparameter Tuning to make the accuracy of your models as high as possible. (error as low as possible)\n",
    "- Use Cross Validation techniques to get more consistent results with your model.\n",
    "- Use GridSearchCV to try different combinations of hyperparameters. \n",
    "- Start looking into other types of Keras layers for CNNs and RNNs maybe try and build a CNN model for fashion-MNIST to see how the results compare."
   ]
  }
 ],
 "metadata": {
  "colab": {
   "name": "LS_DS_433_Keras_Assignment.ipynb",
   "provenance": [],
   "version": "0.3.2"
  },
  "kernelspec": {
   "display_name": "Python (NN)",
   "language": "python",
   "name": "python-nn"
  },
  "language_info": {
   "codemirror_mode": {
    "name": "ipython",
    "version": 3
   },
   "file_extension": ".py",
   "mimetype": "text/x-python",
   "name": "python",
   "nbconvert_exporter": "python",
   "pygments_lexer": "ipython3",
   "version": "3.7.4-final"
  }
 },
 "nbformat": 4,
 "nbformat_minor": 2
}