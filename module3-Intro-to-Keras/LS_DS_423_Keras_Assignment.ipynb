{
 "cells": [
  {
   "cell_type": "markdown",
   "metadata": {
    "colab_type": "text",
    "id": "pBQsZEJmubLs"
   },
   "source": [
    "<img align=\"left\" src=\"https://lever-client-logos.s3.amazonaws.com/864372b1-534c-480e-acd5-9711f850815c-1524247202159.png\" width=200>\n",
    "<br></br>\n",
    "\n",
    "# Neural Network Framework (Keras)\n",
    "\n",
    "## *Data Science Unit 4 Sprint 2 Assignment 3*\n",
    "\n",
    "## Use the Keras Library to build a Multi-Layer Perceptron Model on the Boston Housing dataset\n",
    "\n",
    "- The Boston Housing dataset comes with the Keras library so use Keras to import it into your notebook. \n",
    "- Normalize the data (all features should have roughly the same scale)\n",
    "- Import the type of model and layers that you will need from Keras.\n",
    "- Instantiate a model object and use `model.add()` to add layers to your model\n",
    "- Since this is a regression model you will have a single output node in the final layer.\n",
    "- Use activation functions that are appropriate for this task\n",
    "- Compile your model\n",
    "- Fit your model and report its accuracy in terms of Mean Squared Error\n",
    "- Use the history object that is returned from model.fit to make graphs of the model's loss or train/validation accuracies by epoch. \n",
    "- Run this same data through a linear regression model. Which achieves higher accuracy?\n",
    "- Do a little bit of feature engineering and see how that affects your neural network model. (you will need to change your model to accept more inputs)\n",
    "- After feature engineering, which model sees a greater accuracy boost due to the new features?"
   ]
  },
  {
   "cell_type": "code",
   "execution_count": null,
   "metadata": {
    "colab": {},
    "colab_type": "code",
    "id": "8NLTAR87uYJ-"
   },
   "outputs": [],
   "source": [
    "##### Your Code Here #####\n",
    "import tensorflow as tf\n",
    "from tensorflow.keras.datasets import boston_housing\n",
    "from tensorflow.keras.models import Sequential\n",
    "from tensorflow.keras.layers import Dense, Dropout, Flatten\n",
    "from tensorflow.keras.callbacks import EarlyStopping\n",
    "import numpy as np\n"
   ]
  },
  {
   "cell_type": "code",
   "execution_count": null,
   "metadata": {
    "colab": {},
    "colab_type": "code",
    "id": "g1T6kvI-c09C"
   },
   "outputs": [],
   "source": [
    "(X_train, y_train), (X_test, y_test) = boston_housing.load_data()"
   ]
  },
  {
   "cell_type": "code",
   "execution_count": 48,
   "metadata": {
    "colab": {
     "base_uri": "https://localhost:8080/",
     "height": 35
    },
    "colab_type": "code",
    "id": "S0PhYVy3dp2g",
    "outputId": "8c5cbfc9-101d-494a-e50d-e7dd65a9b3a6"
   },
   "outputs": [
    {
     "data": {
      "text/plain": [
       "(404, 13)"
      ]
     },
     "execution_count": 48,
     "metadata": {
      "tags": []
     },
     "output_type": "execute_result"
    }
   ],
   "source": [
    "X_train.shape"
   ]
  },
  {
   "cell_type": "code",
   "execution_count": 49,
   "metadata": {
    "colab": {
     "base_uri": "https://localhost:8080/",
     "height": 35
    },
    "colab_type": "code",
    "id": "sKf6Vyi6e98L",
    "outputId": "0ea5afb9-3531-4d93-c42e-87cef7657abb"
   },
   "outputs": [
    {
     "data": {
      "text/plain": [
       "(404,)"
      ]
     },
     "execution_count": 49,
     "metadata": {
      "tags": []
     },
     "output_type": "execute_result"
    }
   ],
   "source": [
    "y_train.shape"
   ]
  },
  {
   "cell_type": "code",
   "execution_count": null,
   "metadata": {
    "colab": {},
    "colab_type": "code",
    "id": "fuImqiswdvMl"
   },
   "outputs": [],
   "source": [
    "model = Sequential()\n",
    "model.add(Dense(10, input_dim=13, activation='relu'))\n",
    "model.add(Dense(1, activation='linear'))"
   ]
  },
  {
   "cell_type": "code",
   "execution_count": 124,
   "metadata": {
    "colab": {
     "base_uri": "https://localhost:8080/",
     "height": 237
    },
    "colab_type": "code",
    "id": "-fVyBx2koapj",
    "outputId": "81f5cff7-6314-45f5-e64c-df991cda3387"
   },
   "outputs": [
    {
     "name": "stdout",
     "output_type": "stream",
     "text": [
      "Model: \"sequential_22\"\n",
      "_________________________________________________________________\n",
      "Layer (type)                 Output Shape              Param #   \n",
      "=================================================================\n",
      "dense_26 (Dense)             (None, 10)                140       \n",
      "_________________________________________________________________\n",
      "dense_27 (Dense)             (None, 1)                 11        \n",
      "=================================================================\n",
      "Total params: 151\n",
      "Trainable params: 151\n",
      "Non-trainable params: 0\n",
      "_________________________________________________________________\n"
     ]
    }
   ],
   "source": [
    "model.summary()"
   ]
  },
  {
   "cell_type": "code",
   "execution_count": null,
   "metadata": {
    "colab": {},
    "colab_type": "code",
    "id": "E1BC2MgxeoxR"
   },
   "outputs": [],
   "source": [
    "model.compile(optimizer='adam', loss='mean_squared_error')"
   ]
  },
  {
   "cell_type": "code",
   "execution_count": null,
   "metadata": {
    "colab": {},
    "colab_type": "code",
    "id": "czuSlpbrhivw"
   },
   "outputs": [],
   "source": [
    "stop = EarlyStopping(monitor='val_loss', min_delta=0.01, patience=3)"
   ]
  },
  {
   "cell_type": "code",
   "execution_count": 128,
   "metadata": {
    "colab": {
     "base_uri": "https://localhost:8080/",
     "height": 844
    },
    "colab_type": "code",
    "id": "M4zXKk7AfXiO",
    "outputId": "2dac7e6e-debd-4133-a9e7-4a643496334e"
   },
   "outputs": [
    {
     "name": "stdout",
     "output_type": "stream",
     "text": [
      "Epoch 1/1000\n",
      "13/13 [==============================] - 0s 4ms/step - loss: 50.9286 - val_loss: 77.9889\n",
      "Epoch 2/1000\n",
      "13/13 [==============================] - 0s 4ms/step - loss: 48.2102 - val_loss: 72.3350\n",
      "Epoch 3/1000\n",
      "13/13 [==============================] - 0s 3ms/step - loss: 49.1157 - val_loss: 71.9377\n",
      "Epoch 4/1000\n",
      "13/13 [==============================] - 0s 4ms/step - loss: 48.0077 - val_loss: 70.0210\n",
      "Epoch 5/1000\n",
      "13/13 [==============================] - 0s 4ms/step - loss: 47.0645 - val_loss: 70.2594\n",
      "Epoch 6/1000\n",
      "13/13 [==============================] - 0s 4ms/step - loss: 44.3818 - val_loss: 69.5050\n",
      "Epoch 7/1000\n",
      "13/13 [==============================] - 0s 3ms/step - loss: 45.1011 - val_loss: 69.1705\n",
      "Epoch 8/1000\n",
      "13/13 [==============================] - 0s 4ms/step - loss: 45.4941 - val_loss: 69.3652\n",
      "Epoch 9/1000\n",
      "13/13 [==============================] - 0s 3ms/step - loss: 45.3454 - val_loss: 68.2810\n",
      "Epoch 10/1000\n",
      "13/13 [==============================] - 0s 4ms/step - loss: 44.0489 - val_loss: 69.0505\n",
      "Epoch 11/1000\n",
      "13/13 [==============================] - 0s 3ms/step - loss: 45.3706 - val_loss: 67.8777\n",
      "Epoch 12/1000\n",
      "13/13 [==============================] - 0s 3ms/step - loss: 43.3250 - val_loss: 68.8376\n",
      "Epoch 13/1000\n",
      "13/13 [==============================] - 0s 4ms/step - loss: 43.8880 - val_loss: 67.2288\n",
      "Epoch 14/1000\n",
      "13/13 [==============================] - 0s 4ms/step - loss: 43.5540 - val_loss: 67.7171\n",
      "Epoch 15/1000\n",
      "13/13 [==============================] - 0s 4ms/step - loss: 44.7787 - val_loss: 66.9456\n",
      "Epoch 16/1000\n",
      "13/13 [==============================] - 0s 4ms/step - loss: 43.9646 - val_loss: 67.1651\n",
      "Epoch 17/1000\n",
      "13/13 [==============================] - 0s 4ms/step - loss: 43.2249 - val_loss: 68.0661\n",
      "Epoch 18/1000\n",
      "13/13 [==============================] - 0s 4ms/step - loss: 44.3958 - val_loss: 65.7758\n",
      "Epoch 19/1000\n",
      "13/13 [==============================] - 0s 4ms/step - loss: 42.8683 - val_loss: 65.0430\n",
      "Epoch 20/1000\n",
      "13/13 [==============================] - 0s 4ms/step - loss: 42.3999 - val_loss: 65.8106\n",
      "Epoch 21/1000\n",
      "13/13 [==============================] - 0s 4ms/step - loss: 42.2438 - val_loss: 65.8842\n",
      "Epoch 22/1000\n",
      "13/13 [==============================] - 0s 4ms/step - loss: 43.1531 - val_loss: 66.2233\n"
     ]
    },
    {
     "data": {
      "text/plain": [
       "<tensorflow.python.keras.callbacks.History at 0x7f18c9525400>"
      ]
     },
     "execution_count": 128,
     "metadata": {
      "tags": []
     },
     "output_type": "execute_result"
    }
   ],
   "source": [
    "model.fit(X_train, y_train, epochs=1000, validation_data=(X_test, y_test), callbacks=[stop])"
   ]
  },
  {
   "cell_type": "code",
   "execution_count": null,
   "metadata": {
    "colab": {},
    "colab_type": "code",
    "id": "bs5RKjMbplyN"
   },
   "outputs": [],
   "source": []
  },
  {
   "cell_type": "markdown",
   "metadata": {
    "colab_type": "text",
    "id": "SfcFnOONyuNm"
   },
   "source": [
    "## Use the Keras Library to build an image recognition network using the Fashion-MNIST dataset (also comes with keras)\n",
    "\n",
    "- Load and preprocess the image data similar to how we preprocessed the MNIST data in class.\n",
    "- Make sure to one-hot encode your category labels\n",
    "- The number of nodes in your output layer should equal the number of classes you want to predict for Fashion-MNIST.\n",
    "- Try different hyperparameters. What is the highest accuracy that you are able to achieve.\n",
    "- Use the history object that is returned from model.fit to make graphs of the model's loss or train/validation accuracies by epoch. \n",
    "- Remember that neural networks fall prey to randomness so you may need to run your model multiple times (or use Cross Validation) in order to tell if a change to a hyperparameter is truly producing better results."
   ]
  },
  {
   "cell_type": "code",
   "execution_count": 129,
   "metadata": {
    "colab": {
     "base_uri": "https://localhost:8080/",
     "height": 164
    },
    "colab_type": "code",
    "id": "szi6-IpuzaH1",
    "outputId": "3b74c77c-b312-4b97-c766-52e3ccf17c34"
   },
   "outputs": [
    {
     "name": "stdout",
     "output_type": "stream",
     "text": [
      "Downloading data from https://storage.googleapis.com/tensorflow/tf-keras-datasets/train-labels-idx1-ubyte.gz\n",
      "32768/29515 [=================================] - 0s 0us/step\n",
      "Downloading data from https://storage.googleapis.com/tensorflow/tf-keras-datasets/train-images-idx3-ubyte.gz\n",
      "26427392/26421880 [==============================] - 0s 0us/step\n",
      "Downloading data from https://storage.googleapis.com/tensorflow/tf-keras-datasets/t10k-labels-idx1-ubyte.gz\n",
      "8192/5148 [===============================================] - 0s 0us/step\n",
      "Downloading data from https://storage.googleapis.com/tensorflow/tf-keras-datasets/t10k-images-idx3-ubyte.gz\n",
      "4423680/4422102 [==============================] - 0s 0us/step\n"
     ]
    }
   ],
   "source": [
    "from tensorflow.keras.datasets import fashion_mnist\n",
    "\n",
    "(X_train, y_train), (X_test, y_test) = fashion_mnist.load_data()"
   ]
  },
  {
   "cell_type": "code",
   "execution_count": 130,
   "metadata": {
    "colab": {
     "base_uri": "https://localhost:8080/",
     "height": 35
    },
    "colab_type": "code",
    "id": "oMlB23t8qfua",
    "outputId": "07208dcb-8176-4994-9c99-aa04df52093d"
   },
   "outputs": [
    {
     "data": {
      "text/plain": [
       "(60000, 28, 28)"
      ]
     },
     "execution_count": 130,
     "metadata": {
      "tags": []
     },
     "output_type": "execute_result"
    }
   ],
   "source": [
    "X_train.shape"
   ]
  },
  {
   "cell_type": "code",
   "execution_count": 134,
   "metadata": {
    "colab": {
     "base_uri": "https://localhost:8080/",
     "height": 35
    },
    "colab_type": "code",
    "id": "fmq_5XuEtU89",
    "outputId": "eff89bcb-1358-4622-bdbc-cc9fedb31677"
   },
   "outputs": [
    {
     "data": {
      "text/plain": [
       "(60000,)"
      ]
     },
     "execution_count": 134,
     "metadata": {
      "tags": []
     },
     "output_type": "execute_result"
    }
   ],
   "source": [
    "y_train.shape"
   ]
  },
  {
   "cell_type": "code",
   "execution_count": 148,
   "metadata": {
    "colab": {
     "base_uri": "https://localhost:8080/",
     "height": 35
    },
    "colab_type": "code",
    "id": "O3R3dFC4vU5a",
    "outputId": "e1ee87b4-27a9-408f-defc-81623985b506"
   },
   "outputs": [
    {
     "data": {
      "text/plain": [
       "array([9, 0, 0, ..., 3, 0, 5], dtype=uint8)"
      ]
     },
     "execution_count": 148,
     "metadata": {
      "tags": []
     },
     "output_type": "execute_result"
    }
   ],
   "source": [
    "y_train"
   ]
  },
  {
   "cell_type": "code",
   "execution_count": 151,
   "metadata": {
    "colab": {
     "base_uri": "https://localhost:8080/",
     "height": 256
    },
    "colab_type": "code",
    "id": "eMqYJwLDq4ee",
    "outputId": "baae1b1c-b708-4484-a8cb-58bd8188068b"
   },
   "outputs": [
    {
     "name": "stdout",
     "output_type": "stream",
     "text": [
      "Epoch 1/100\n",
      "1875/1875 [==============================] - 14s 8ms/step - loss: 4.6219 - accuracy: 0.7810 - val_loss: 0.6177 - val_accuracy: 0.7925\n",
      "Epoch 2/100\n",
      "1875/1875 [==============================] - 14s 7ms/step - loss: 0.5310 - accuracy: 0.8259 - val_loss: 1.2024 - val_accuracy: 0.7893\n",
      "Epoch 3/100\n",
      "1875/1875 [==============================] - 14s 7ms/step - loss: 0.5252 - accuracy: 0.8301 - val_loss: 0.6053 - val_accuracy: 0.8180\n",
      "Epoch 4/100\n",
      "1875/1875 [==============================] - 14s 7ms/step - loss: 0.4982 - accuracy: 0.8363 - val_loss: 0.5702 - val_accuracy: 0.8237\n",
      "Epoch 5/100\n",
      "1875/1875 [==============================] - 14s 8ms/step - loss: 0.4866 - accuracy: 0.8395 - val_loss: 0.5765 - val_accuracy: 0.8192\n",
      "Epoch 6/100\n",
      "1875/1875 [==============================] - 14s 8ms/step - loss: 0.4657 - accuracy: 0.8453 - val_loss: 0.5360 - val_accuracy: 0.8214\n"
     ]
    },
    {
     "data": {
      "text/plain": [
       "<tensorflow.python.keras.callbacks.History at 0x7f18c091f898>"
      ]
     },
     "execution_count": 151,
     "metadata": {
      "tags": []
     },
     "output_type": "execute_result"
    }
   ],
   "source": [
    "model = Sequential()\n",
    "model.add(Flatten(input_shape=(28,28)))\n",
    "model.add(Dense(1280, activation='relu'))\n",
    "model.add(Dense(10, activation='softmax'))\n",
    "model.compile(optimizer='adam', loss='sparse_categorical_crossentropy', metrics=['accuracy'])\n",
    "stop = EarlyStopping(monitor='val_accuracy', min_delta=0.01, patience=3)\n",
    "model.fit(X_train, y_train, epochs = 100, validation_data=(X_test, y_test), callbacks=[stop])"
   ]
  },
  {
   "cell_type": "code",
   "execution_count": 140,
   "metadata": {
    "colab": {
     "base_uri": "https://localhost:8080/",
     "height": 274
    },
    "colab_type": "code",
    "id": "j9qJr8ICt6YE",
    "outputId": "9ccc24b4-fd0f-40e3-f431-2eb07a6a5889"
   },
   "outputs": [
    {
     "name": "stdout",
     "output_type": "stream",
     "text": [
      "Model: \"sequential_29\"\n",
      "_________________________________________________________________\n",
      "Layer (type)                 Output Shape              Param #   \n",
      "=================================================================\n",
      "flatten_12 (Flatten)         (None, 784)               0         \n",
      "_________________________________________________________________\n",
      "dense_37 (Dense)             (None, 128)               100480    \n",
      "_________________________________________________________________\n",
      "dense_38 (Dense)             (None, 1)                 129       \n",
      "=================================================================\n",
      "Total params: 100,609\n",
      "Trainable params: 100,609\n",
      "Non-trainable params: 0\n",
      "_________________________________________________________________\n"
     ]
    }
   ],
   "source": [
    "model.summary()"
   ]
  },
  {
   "cell_type": "code",
   "execution_count": 152,
   "metadata": {
    "colab": {
     "base_uri": "https://localhost:8080/",
     "height": 1000
    },
    "colab_type": "code",
    "id": "H9TOMDS1w3Yv",
    "outputId": "1fd1131a-1979-41da-8b29-92df30c8dd1e"
   },
   "outputs": [
    {
     "data": {
      "text/plain": [
       "array([[  0,   0,   0,   0,   0,   0,   0,   0,  33,  96, 175, 156,  64,\n",
       "         14,  54, 137, 204, 194, 102,   0,   0,   0,   0,   0,   0,   0,\n",
       "          0,   0],\n",
       "       [  0,   0,   0,   0,   0,   0,  73, 186, 177, 183, 175, 188, 232,\n",
       "        255, 223, 219, 194, 179, 186, 213, 146,   0,   0,   0,   0,   0,\n",
       "          0,   0],\n",
       "       [  0,   0,   0,   0,   0,  35, 163, 140, 150, 152, 150, 146, 175,\n",
       "        175, 173, 171, 156, 152, 148, 129, 156, 140,   0,   0,   0,   0,\n",
       "          0,   0],\n",
       "       [  0,   0,   0,   0,   0, 150, 142, 140, 152, 160, 156, 146, 142,\n",
       "        127, 135, 133, 140, 140, 137, 133, 125, 169,  75,   0,   0,   0,\n",
       "          0,   0],\n",
       "       [  0,   0,   0,   0,   0,  54, 167, 146, 129, 142, 137, 137, 131,\n",
       "        148, 148, 133, 131, 131, 131, 125, 140, 140,   0,   0,   0,   0,\n",
       "          0,   0],\n",
       "       [  0,   0,   0,   0,   0,   0, 110, 188, 133, 146, 152, 133, 125,\n",
       "        127, 119, 129, 133, 119, 140, 131, 150,  14,   0,   0,   0,   0,\n",
       "          0,   0],\n",
       "       [  0,   0,   0,   0,   0,   0,   0, 221, 158, 137, 135, 123, 110,\n",
       "        110, 114, 108, 112, 117, 127, 142,  77,   0,   0,   0,   0,   0,\n",
       "          0,   0],\n",
       "       [  0,   0,   0,   0,   0,   4,   0,  25, 158, 137, 125, 119, 119,\n",
       "        110, 117, 117, 110, 119, 127, 144,   0,   0,   0,   0,   0,   0,\n",
       "          0,   0],\n",
       "       [  0,   0,   0,   0,   0,   0,   0,   0, 123, 156, 129, 112, 110,\n",
       "        102, 112, 100, 121, 117, 129, 114,   0,   0,   0,   0,   0,   0,\n",
       "          0,   0],\n",
       "       [  0,   0,   0,   0,   0,   0,   0,   0, 125, 169, 127, 119, 106,\n",
       "        108, 104,  94, 121, 114, 129,  91,   0,   0,   0,   0,   0,   0,\n",
       "          0,   0],\n",
       "       [  0,   0,   0,   0,   0,   0,   2,   0,  98, 171, 129, 112, 104,\n",
       "        114, 106, 102, 112, 104, 133,  64,   0,   4,   0,   0,   0,   0,\n",
       "          0,   0],\n",
       "       [  0,   0,   0,   0,   0,   0,   2,   0,  66, 173, 135, 129,  98,\n",
       "        100, 119, 102, 108,  98, 135,  60,   0,   4,   0,   0,   0,   0,\n",
       "          0,   0],\n",
       "       [  0,   0,   0,   0,   0,   0,   2,   0,  56, 171, 135, 127, 100,\n",
       "        108, 117,  85, 106, 110, 135,  66,   0,   4,   0,   0,   0,   0,\n",
       "          0,   0],\n",
       "       [  0,   0,   0,   0,   0,   0,   0,   0,  52, 150, 129, 110, 100,\n",
       "         91, 102,  94,  83, 104, 123,  66,   0,   4,   0,   0,   0,   0,\n",
       "          0,   0],\n",
       "       [  0,   0,   0,   0,   0,   0,   2,   0,  66, 167, 140, 148, 148,\n",
       "        127, 137, 152, 146, 146, 148,  96,   0,   0,   0,   0,   0,   0,\n",
       "          0,   0],\n",
       "       [  0,   0,   0,   0,   0,   0,   0,   0,  45, 123,  94, 104,  96,\n",
       "        119, 121, 106,  98, 112,  87, 114,   0,   0,   0,   0,   0,   0,\n",
       "          0,   0],\n",
       "       [  0,   0,   0,   0,   0,   0,   0,   0, 106,  89,  58,  50,  37,\n",
       "         50,  66,  56,  50,  75,  75, 137,  22,   0,   2,   0,   0,   0,\n",
       "          0,   0],\n",
       "       [  0,   0,   0,   0,   0,   2,   0,  29, 148, 114, 106, 125,  89,\n",
       "        100, 133, 117, 131, 131, 131, 125, 112,   0,   0,   0,   0,   0,\n",
       "          0,   0],\n",
       "       [  0,   0,   0,   0,   0,   0,   0, 100, 106, 114,  91, 137,  62,\n",
       "        102, 131,  89, 135, 112, 131, 108, 135,  37,   0,   0,   0,   0,\n",
       "          0,   0],\n",
       "       [  0,   0,   0,   0,   0,   0,   0, 146, 100, 108,  98, 144,  62,\n",
       "        106, 131,  87, 133, 104, 160, 117, 121,  68,   0,   0,   0,   0,\n",
       "          0,   0],\n",
       "       [  0,   0,   0,   0,   0,   0,  33, 121, 108,  96, 100, 140,  71,\n",
       "        106, 127,  85, 140, 104, 150, 140, 114,  89,   0,   0,   0,   0,\n",
       "          0,   0],\n",
       "       [  0,   0,   0,   0,   0,   0,  62, 119, 112, 102, 110, 137,  75,\n",
       "        106, 144,  81, 144, 108, 117, 154, 117, 104,  18,   0,   0,   0,\n",
       "          0,   0],\n",
       "       [  0,   0,   0,   0,   0,   0,  66, 121, 102, 112, 117, 131,  73,\n",
       "        104, 156,  77, 137, 135,  83, 179, 129, 121,  35,   0,   0,   0,\n",
       "          0,   0],\n",
       "       [  0,   0,   0,   0,   0,   0,  85, 127,  81, 125, 133, 119,  79,\n",
       "        100, 169,  83, 129, 175,  60, 163, 135, 146,  39,   0,   0,   0,\n",
       "          0,   0],\n",
       "       [  0,   0,   0,   0,   0,   0, 106, 129,  62, 140, 144, 108,  85,\n",
       "         83, 158,  85, 129, 175,  48, 146, 133, 135,  64,   0,   0,   0,\n",
       "          0,   0],\n",
       "       [  0,   0,   0,   0,   0,   0, 117, 119,  79, 140, 152, 102,  89,\n",
       "        110, 137,  96, 150, 196,  83, 144, 135, 133,  77,   0,   0,   0,\n",
       "          0,   0],\n",
       "       [  0,   0,   0,   0,   0,   0, 154, 121,  87, 140, 154, 112,  94,\n",
       "         52, 142, 100,  83, 152,  85, 160, 133, 100,  12,   0,   0,   0,\n",
       "          0,   0],\n",
       "       [  0,   0,   0,   0,   0,   0,   4,   0,   2,   0,  35,   4,  33,\n",
       "          0,   0,   0,   0,   0,   0,   0,   0,   0,   0,   0,   0,   0,\n",
       "          0,   0]], dtype=uint8)"
      ]
     },
     "execution_count": 152,
     "metadata": {
      "tags": []
     },
     "output_type": "execute_result"
    }
   ],
   "source": [
    "X_train[3]"
   ]
  },
  {
   "cell_type": "code",
   "execution_count": 153,
   "metadata": {
    "colab": {
     "base_uri": "https://localhost:8080/",
     "height": 283
    },
    "colab_type": "code",
    "id": "Uz8rf5dsxPYA",
    "outputId": "4f7921e3-839b-478f-926a-0eb88d0db1bc"
   },
   "outputs": [
    {
     "data": {
      "text/plain": [
       "<matplotlib.image.AxesImage at 0x7f18b7f401d0>"
      ]
     },
     "execution_count": 153,
     "metadata": {
      "tags": []
     },
     "output_type": "execute_result"
    },
    {
     "data": {
      "image/png": "[encoded data removed]",
      "text/plain": [
       "<Figure size 432x288 with 1 Axes>"
      ]
     },
     "metadata": {
      "needs_background": "light",
      "tags": []
     },
     "output_type": "display_data"
    }
   ],
   "source": [
    "import matplotlib.pyplot as plt\n",
    "plt.imshow(X_train[3])"
   ]
  },
  {
   "cell_type": "code",
   "execution_count": 194,
   "metadata": {
    "colab": {
     "base_uri": "https://localhost:8080/",
     "height": 35
    },
    "colab_type": "code",
    "id": "M_RIsv7sxWsu",
    "outputId": "aee7f986-4e51-4e08-a413-087f249c646a"
   },
   "outputs": [
    {
     "data": {
      "text/plain": [
       "array([[0., 0., 0., 1., 0., 0., 0., 0., 0., 0.]], dtype=float32)"
      ]
     },
     "execution_count": 194,
     "metadata": {
      "tags": []
     },
     "output_type": "execute_result"
    }
   ],
   "source": [
    "np.round(model.predict(X_train[3].reshape(1,28,28)))"
   ]
  },
  {
   "cell_type": "code",
   "execution_count": null,
   "metadata": {
    "colab": {},
    "colab_type": "code",
    "id": "M_SieUFnx0Zd"
   },
   "outputs": [],
   "source": []
  },
  {
   "cell_type": "markdown",
   "metadata": {
    "colab_type": "text",
    "id": "zv_3xNMjzdLI"
   },
   "source": [
    "## Stretch Goals:\n",
    "\n",
    "- Use Hyperparameter Tuning to make the accuracy of your models as high as possible. (error as low as possible)\n",
    "- Use Cross Validation techniques to get more consistent results with your model.\n",
    "- Use GridSearchCV to try different combinations of hyperparameters. \n",
    "- Start looking into other types of Keras layers for CNNs and RNNs maybe try and build a CNN model for fashion-MNIST to see how the results compare."
   ]
  },
  {
   "cell_type": "code",
   "execution_count": null,
   "metadata": {
    "colab": {},
    "colab_type": "code",
    "id": "5MgXimFEyNJn"
   },
   "outputs": [],
   "source": [
    "url = 'https://lh3.googleusercontent.com/proxy/a5kfzEpv1e8lsHKsEbqpCDSysdmAHMNUBZ7uFgoLXhhE1kgYk8URVMStjyX1HOsd4RlKocVX79IYYMahfEg1QOcxkO-CRec1eC9RrU4'"
   ]
  },
  {
   "cell_type": "code",
   "execution_count": null,
   "metadata": {
    "colab": {},
    "colab_type": "code",
    "id": "fjmiKUbeyPM8"
   },
   "outputs": [],
   "source": [
    "from PIL import Image\n",
    "from PIL.ImageOps import solarize\n",
    "import requests\n",
    "from io import BytesIO\n",
    "\n",
    "response = requests.get(url)\n",
    "img = Image.open(BytesIO(response.content)).convert('L')\n",
    "#opens the image and converts image to grayscale"
   ]
  },
  {
   "cell_type": "code",
   "execution_count": 180,
   "metadata": {
    "colab": {
     "base_uri": "https://localhost:8080/",
     "height": 529
    },
    "colab_type": "code",
    "id": "gdJxD9mLySD8",
    "outputId": "aa620b83-ed3f-40dd-b636-129cd4fdeff0"
   },
   "outputs": [
    {
     "data": {
      "image/png": "[encoded data removed]",
      "text/plain": [
       "<PIL.Image.Image image mode=L size=385x512 at 0x7F18B537D5F8>"
      ]
     },
     "execution_count": 180,
     "metadata": {
      "tags": []
     },
     "output_type": "execute_result"
    }
   ],
   "source": [
    "img"
   ]
  },
  {
   "cell_type": "code",
   "execution_count": null,
   "metadata": {
    "colab": {},
    "colab_type": "code",
    "id": "GjNKpIm_yS-a"
   },
   "outputs": [],
   "source": [
    "resized = img.resize((28,28))\n",
    "#converts it to square 28 by 28"
   ]
  },
  {
   "cell_type": "code",
   "execution_count": 182,
   "metadata": {
    "colab": {
     "base_uri": "https://localhost:8080/",
     "height": 45
    },
    "colab_type": "code",
    "id": "Oerel3A-y5JS",
    "outputId": "616555d1-06fe-42c7-e806-c06514e29856"
   },
   "outputs": [
    {
     "data": {
      "image/png": "[encoded data removed]",
      "text/plain": [
       "<PIL.Image.Image image mode=L size=28x28 at 0x7F18B537D630>"
      ]
     },
     "execution_count": 182,
     "metadata": {
      "tags": []
     },
     "output_type": "execute_result"
    }
   ],
   "source": [
    "resized"
   ]
  },
  {
   "cell_type": "code",
   "execution_count": 183,
   "metadata": {
    "colab": {
     "base_uri": "https://localhost:8080/",
     "height": 283
    },
    "colab_type": "code",
    "id": "FeS8Os8Uy6CG",
    "outputId": "c6ff5180-1fb8-4920-9af4-7c0f7844b37e"
   },
   "outputs": [
    {
     "data": {
      "text/plain": [
       "<matplotlib.image.AxesImage at 0x7f18b53399b0>"
      ]
     },
     "execution_count": 183,
     "metadata": {
      "tags": []
     },
     "output_type": "execute_result"
    },
    {
     "data": {
      "image/png": "[encoded data removed]",
      "text/plain": [
       "<Figure size 432x288 with 1 Axes>"
      ]
     },
     "metadata": {
      "needs_background": "light",
      "tags": []
     },
     "output_type": "display_data"
    }
   ],
   "source": [
    "plt.imshow(resized)"
   ]
  },
  {
   "cell_type": "code",
   "execution_count": null,
   "metadata": {
    "colab": {},
    "colab_type": "code",
    "id": "rzXVUI7gy--P"
   },
   "outputs": [],
   "source": [
    "test_array = np.array(resized.getdata())"
   ]
  },
  {
   "cell_type": "code",
   "execution_count": null,
   "metadata": {
    "colab": {},
    "colab_type": "code",
    "id": "ipP1NS4w1IDL"
   },
   "outputs": [],
   "source": [
    "pred = model.predict(test_array.reshape(1,28,28))"
   ]
  },
  {
   "cell_type": "code",
   "execution_count": 192,
   "metadata": {
    "colab": {
     "base_uri": "https://localhost:8080/",
     "height": 35
    },
    "colab_type": "code",
    "id": "nYBaZk6K1QsA",
    "outputId": "8eb4a063-f172-4c71-b8bf-6ed0311c4797"
   },
   "outputs": [
    {
     "data": {
      "text/plain": [
       "array([[0., 0., 0., 0., 0., 0., 0., 0., 1., 0.]], dtype=float32)"
      ]
     },
     "execution_count": 192,
     "metadata": {
      "tags": []
     },
     "output_type": "execute_result"
    }
   ],
   "source": [
    "np.round(pred)"
   ]
  },
  {
   "cell_type": "code",
   "execution_count": 199,
   "metadata": {
    "colab": {
     "base_uri": "https://localhost:8080/",
     "height": 35
    },
    "colab_type": "code",
    "id": "ZI7SjiZf3WBS",
    "outputId": "dd12eb6a-f7a3-4ed6-e4af-29e2bc42d85f"
   },
   "outputs": [
    {
     "data": {
      "text/plain": [
       "numpy.int64"
      ]
     },
     "execution_count": 199,
     "metadata": {
      "tags": []
     },
     "output_type": "execute_result"
    }
   ],
   "source": [
    "prediction = np.round(pred)\n",
    "np.nonzero(prediction)[1][0]"
   ]
  },
  {
   "cell_type": "code",
   "execution_count": null,
   "metadata": {
    "colab": {},
    "colab_type": "code",
    "id": "PzjQu3Xv1olR"
   },
   "outputs": [],
   "source": [
    "sandal = 'https://assets.hermes.com/is/image/hermesproduct/oran-sandal--021056Z%2001-front-1-300-0-600-600_b.jpg'"
   ]
  },
  {
   "cell_type": "code",
   "execution_count": 1,
   "metadata": {
    "colab": {},
    "colab_type": "code",
    "id": "Mdx25UVa2CeK"
   },
   "outputs": [],
   "source": [
    "def predict_on_photo(url, model):\n",
    "    response = requests.get(url)\n",
    "    img = Image.open(BytesIO(response.content)).convert('L')\n",
    "    #opens the image and converts image to grayscale\n",
    "    inverted = solarize(img)\n",
    "    #inverts pixels above 128 threshold\n",
    "    resized = img.resize((28,28))\n",
    "#converts it to square 28 by 28\n",
    "    test_array = np.array(resized.getdata())\n",
    "  #reshapes into a 1x28x28 array for the model\n",
    "    pred = np.round(model.predict(test_array.reshape(1,28,28)))\n",
    "    final = int(np.nonzero(pred)[1][0])\n",
    "    labels = {0 : 'T-shirt/top', 1 : 'Trousers', 2 : 'Pullover', 3: 'Dress', 4: 'Coat', 5: 'Sandal', 6: 'Shirt', 7: 'Sneaker', 8: 'Bag', 9: 'Ankle Boot'}\n",
    "    print(\"Model predicts that this image is a\", labels[final])\n",
    "    return img"
   ]
  },
  {
   "cell_type": "code",
   "execution_count": 229,
   "metadata": {
    "colab": {
     "base_uri": "https://localhost:8080/",
     "height": 635
    },
    "colab_type": "code",
    "id": "XAzY703t4NoA",
    "outputId": "9abaed5d-5692-4d81-b07e-c7041e98daf8"
   },
   "outputs": [
    {
     "name": "stdout",
     "output_type": "stream",
     "text": [
      "Model predicts that this image is a Bag\n"
     ]
    },
    {
     "data": {
      "image/png": "[encoded data removed]",
      "text/plain": [
       "<PIL.Image.Image image mode=L size=600x600 at 0x7F18B30CF9E8>"
      ]
     },
     "execution_count": 229,
     "metadata": {
      "tags": []
     },
     "output_type": "execute_result"
    }
   ],
   "source": [
    "predict_on_photo(sandal, model)"
   ]
  },
  {
   "cell_type": "code",
   "execution_count": null,
   "metadata": {
    "colab": {},
    "colab_type": "code",
    "id": "LmhGnFOL4RRk"
   },
   "outputs": [],
   "source": [
    "dress = \"https://www.how-to-draw-funny-cartoons.com/images/cartoon-dress-003.jpg\""
   ]
  },
  {
   "cell_type": "code",
   "execution_count": 212,
   "metadata": {
    "colab": {
     "base_uri": "https://localhost:8080/",
     "height": 35
    },
    "colab_type": "code",
    "id": "kFdpTo1o4mmR",
    "outputId": "99e6b7d9-7960-4893-b86e-786fd999aa12"
   },
   "outputs": [
    {
     "name": "stdout",
     "output_type": "stream",
     "text": [
      "Model predicts that this image is a Bag\n"
     ]
    }
   ],
   "source": [
    "predict_on_photo(dress, model)"
   ]
  },
  {
   "cell_type": "code",
   "execution_count": null,
   "metadata": {
    "colab": {},
    "colab_type": "code",
    "id": "pzyBAMot4pky"
   },
   "outputs": [],
   "source": [
    "shoe = \"https://www.brooksrunning.com/dw/image/v2/aaev_prd/on/demandware.static/-/Sites-BrooksCatalog/default/dwbb729ac9/images/ProductImages/120283/120283_097_l_WR.jpg?sw=900\""
   ]
  },
  {
   "cell_type": "code",
   "execution_count": 214,
   "metadata": {
    "colab": {
     "base_uri": "https://localhost:8080/",
     "height": 35
    },
    "colab_type": "code",
    "id": "2424FWuO4xVh",
    "outputId": "50b353b9-0aed-4acc-ab93-01e8972ad2d8"
   },
   "outputs": [
    {
     "name": "stdout",
     "output_type": "stream",
     "text": [
      "Model predicts that this image is a Bag\n"
     ]
    }
   ],
   "source": [
    "predict_on_photo(shoe, model)"
   ]
  },
  {
   "cell_type": "markdown",
   "metadata": {
    "colab_type": "text",
    "id": "1YQWDTlA5XkG"
   },
   "source": [
    "Is it just going to predict that for everything? "
   ]
  },
  {
   "cell_type": "code",
   "execution_count": 215,
   "metadata": {
    "colab": {
     "base_uri": "https://localhost:8080/",
     "height": 35
    },
    "colab_type": "code",
    "id": "QJw8A6RG4zd3",
    "outputId": "23a75f7b-cdfa-4b93-ee35-a633047e702c"
   },
   "outputs": [
    {
     "name": "stdout",
     "output_type": "stream",
     "text": [
      "Model predicts that this image is a Dress\n"
     ]
    }
   ],
   "source": [
    "\n",
    "pred = np.round(model.predict(X_train[3].reshape(1,28,28)))\n",
    "final = int(np.nonzero(pred)[1][0])\n",
    "labels = {0 : 'T-shirt/top', 1 : 'Trousers', 2 : 'Pullover', 3: 'Dress', 4: 'Coat', 5: 'Sandal', 6: 'Shirt', 7: 'Sneaker', 8: 'Bag', 9: 'Ankle Boot'}\n",
    "print(\"Model predicts that this image is a\", labels[final])"
   ]
  },
  {
   "cell_type": "code",
   "execution_count": 222,
   "metadata": {
    "colab": {
     "base_uri": "https://localhost:8080/",
     "height": 1000
    },
    "colab_type": "code",
    "id": "jQr3WvHm5DW2",
    "outputId": "a457704c-011c-4473-b2f9-a2ee0a16e95f"
   },
   "outputs": [
    {
     "name": "stdout",
     "output_type": "stream",
     "text": [
      "Model predicts that this image is a Bag\n"
     ]
    },
    {
     "data": {
      "text/plain": [
       "array([255, 255, 255, 255, 206, 152, 233, 255, 255, 255, 255, 255, 255,\n",
       "       255, 255, 255, 255, 255, 255, 255, 255, 255, 255, 255, 255, 255,\n",
       "       255, 255, 255, 255, 255, 255, 115,  32,  91, 223, 255, 255, 255,\n",
       "       255, 255, 255, 255, 255, 255, 255, 255, 255, 255, 255, 255, 255,\n",
       "       255, 255, 255, 255, 255, 255, 255, 250,  85,  38,  43,  87, 213,\n",
       "       255, 255, 255, 255, 255, 255, 255, 255, 255, 255, 255, 255, 255,\n",
       "       255, 255, 255, 255, 255, 255, 255, 255, 255, 232,  66,  48,  51,\n",
       "        55,  77, 179, 252, 247, 225, 253, 255, 255, 255, 255, 255, 255,\n",
       "       255, 255, 255, 255, 255, 255, 255, 255, 255, 255, 255, 204,  58,\n",
       "        53,  49,  60,  61,  61, 120, 170, 183, 170, 249, 255, 255, 255,\n",
       "       255, 255, 255, 255, 255, 255, 255, 255, 255, 255, 255, 255, 255,\n",
       "       171,  65,  58,  45,  54,  63,  63,  77, 142, 172, 101, 192, 255,\n",
       "       255, 255, 255, 255, 255, 255, 255, 255, 255, 255, 255, 255, 255,\n",
       "       255, 255, 131,  71,  68,  54,  40,  52,  77, 117, 134, 160, 109,\n",
       "       113, 243, 255, 255, 255, 255, 255, 255, 255, 255, 255, 255, 255,\n",
       "       255, 255, 255, 253, 101,  77,  84,  70,  70,  76, 102, 113, 116,\n",
       "       151, 152,  83, 174, 255, 255, 255, 255, 255, 255, 255, 255, 255,\n",
       "       255, 255, 255, 255, 255, 246,  82,  77,  97,  81,  78,  87,  97,\n",
       "       110, 118, 138, 163, 104, 113, 231, 255, 255, 255, 255, 255, 255,\n",
       "       255, 255, 255, 255, 255, 255, 255, 248,  81,  78, 104,  99,  85,\n",
       "        88,  94, 103, 124, 130, 157, 118,  82, 177, 255, 255, 255, 255,\n",
       "       255, 255, 255, 255, 255, 255, 255, 255, 255, 245, 105,  74, 106,\n",
       "       107,  98,  90,  91, 103, 119, 126, 139, 171,  85, 120, 231, 255,\n",
       "       255, 255, 255, 255, 255, 255, 255, 255, 255, 255, 255, 199,  92,\n",
       "        88, 100, 108, 106,  95,  93, 105, 117, 117, 143, 163, 112,  85,\n",
       "       171, 255, 255, 255, 255, 255, 255, 255, 255, 255, 255, 255, 255,\n",
       "       219,  53, 111, 101, 104, 112, 115, 111, 112, 123, 122, 144, 162,\n",
       "       128,  94, 134, 228, 255, 255, 255, 255, 255, 255, 255, 255, 255,\n",
       "       255, 255, 242, 108,  53, 110, 107, 110, 100, 103, 124, 129, 122,\n",
       "       139, 178, 193, 144, 115, 165, 255, 255, 255, 255, 255, 255, 255,\n",
       "       255, 255, 255, 255, 238, 160,  94,  62, 127, 106, 105, 104, 106,\n",
       "       129, 129, 136, 170, 211, 158, 116, 132, 227, 255, 255, 255, 255,\n",
       "       255, 255, 255, 255, 255, 255, 243, 159, 148,  93,  79, 121, 107,\n",
       "       118, 114, 108, 116, 122, 154, 210, 189, 151, 124, 158, 253, 255,\n",
       "       255, 255, 255, 255, 255, 255, 255, 255, 255, 218, 142, 151,  87,\n",
       "       114, 120, 110, 118, 123, 126, 133, 160, 224, 216, 167, 140, 116,\n",
       "       177, 253, 255, 255, 255, 255, 255, 255, 255, 255, 255, 255, 207,\n",
       "       121, 104,  75, 135, 106, 115, 122, 133, 135, 147, 188, 210, 188,\n",
       "       156, 137, 123, 184, 255, 255, 255, 255, 255, 255, 255, 255, 255,\n",
       "       255, 255, 181, 154, 129,  95, 116, 109, 121, 126, 128, 131, 153,\n",
       "       198, 200, 181, 155, 123, 104, 175, 254, 255, 255, 255, 255, 255,\n",
       "       255, 255, 255, 255, 255, 255, 218,  84, 115, 108, 121, 124, 118,\n",
       "       114, 126, 147, 181, 193, 168, 136, 117,  98, 192, 255, 255, 255,\n",
       "       255, 255, 255, 255, 255, 255, 255, 255, 255, 154,  87, 121, 114,\n",
       "       122, 111, 109, 118, 121, 133, 161, 189, 191, 149, 101, 117, 235,\n",
       "       255, 255, 255, 255, 255, 255, 255, 255, 255, 255, 255, 227,  94,\n",
       "       101, 118, 114, 111, 111, 100, 106,  91,  93, 127, 210, 207, 109,\n",
       "        77, 177, 255, 255, 255, 255, 255, 255, 255, 255, 255, 255, 255,\n",
       "       254, 173,  73,  99, 118, 110, 103,  85,  86,  69,  54,  57,  92,\n",
       "       130,  85,  49, 124, 255, 255, 255, 255, 255, 255, 255, 255, 255,\n",
       "       255, 255, 255, 237, 141,  70,  77, 104, 107,  90,  84,  64,  52,\n",
       "        35,  22,  20,  23,  21,  77, 208, 255, 255, 255, 255, 255, 255,\n",
       "       255, 255, 255, 255, 255, 255, 225, 139,  83,  60,  60,  75,  95,\n",
       "        93,  84,  71,  49,  31,  26,  29,  37, 181, 255, 255, 255, 255,\n",
       "       255, 255, 255, 255, 255, 255, 255, 255, 255, 239, 169, 108,  76,\n",
       "        56,  44,  43,  45,  45,  42,  41,  43,  36,  54, 209, 255, 255,\n",
       "       255, 255, 255, 255, 255, 255, 255, 255, 255, 255, 255, 255, 255,\n",
       "       230, 178, 128,  96,  77,  64,  56,  53,  47,  47,  55, 140, 247,\n",
       "       255, 255, 255, 255, 255, 255, 255, 255, 255, 255, 255, 255, 255,\n",
       "       255, 255, 255, 255, 253, 230, 201, 174, 153, 139, 137, 164, 218,\n",
       "       255, 255, 255, 255])"
      ]
     },
     "execution_count": 222,
     "metadata": {
      "tags": []
     },
     "output_type": "execute_result"
    }
   ],
   "source": [
    "shoe = \"https://hips.hearstapps.com/vader-prod.s3.amazonaws.com/1562710823-brogue-1562710816.jpg\"\n",
    "\n",
    "predict_on_photo(shoe, model)"
   ]
  },
  {
   "cell_type": "code",
   "execution_count": null,
   "metadata": {
    "colab": {},
    "colab_type": "code",
    "id": "FlEyG92O5k0w"
   },
   "outputs": [],
   "source": [
    "shirt = \"https://store.sabaton.net/wp-content/uploads/2015/11/wings-of-glory-tshirt-back-sabaton-T15003.png\""
   ]
  },
  {
   "cell_type": "code",
   "execution_count": 230,
   "metadata": {
    "colab": {
     "base_uri": "https://localhost:8080/",
     "height": 338
    },
    "colab_type": "code",
    "id": "XHjHRk-T66gW",
    "outputId": "848f2372-367f-43cc-9dae-cfb9175471b0"
   },
   "outputs": [
    {
     "name": "stderr",
     "output_type": "stream",
     "text": [
      "/usr/local/lib/python3.6/dist-packages/PIL/Image.py:932: UserWarning: Palette images with Transparency expressed in bytes should be converted to RGBA images\n",
      "  \"Palette images with Transparency expressed in bytes should be \"\n"
     ]
    },
    {
     "ename": "IndexError",
     "evalue": "ignored",
     "output_type": "error",
     "traceback": [
      "\u001b[0;31m---------------------------------------------------------------------------\u001b[0m",
      "\u001b[0;31mIndexError\u001b[0m                                Traceback (most recent call last)",
      "\u001b[0;32m<ipython-input-230-c6cc93f4455a>\u001b[0m in \u001b[0;36m<module>\u001b[0;34m()\u001b[0m\n\u001b[0;32m----> 1\u001b[0;31m \u001b[0mpredict_on_photo\u001b[0m\u001b[0;34m(\u001b[0m\u001b[0mshirt\u001b[0m\u001b[0;34m,\u001b[0m \u001b[0mmodel\u001b[0m\u001b[0;34m)\u001b[0m\u001b[0;34m\u001b[0m\u001b[0;34m\u001b[0m\u001b[0m\n\u001b[0m",
      "\u001b[0;32m<ipython-input-228-0e6041d9ec25>\u001b[0m in \u001b[0;36mpredict_on_photo\u001b[0;34m(url, model)\u001b[0m\n\u001b[1;32m      8\u001b[0m   \u001b[0;31m#reshapes into a 1x28x28 array for the model\u001b[0m\u001b[0;34m\u001b[0m\u001b[0;34m\u001b[0m\u001b[0;34m\u001b[0m\u001b[0m\n\u001b[1;32m      9\u001b[0m   \u001b[0mpred\u001b[0m \u001b[0;34m=\u001b[0m \u001b[0mnp\u001b[0m\u001b[0;34m.\u001b[0m\u001b[0mround\u001b[0m\u001b[0;34m(\u001b[0m\u001b[0mmodel\u001b[0m\u001b[0;34m.\u001b[0m\u001b[0mpredict\u001b[0m\u001b[0;34m(\u001b[0m\u001b[0mtest_array\u001b[0m\u001b[0;34m.\u001b[0m\u001b[0mreshape\u001b[0m\u001b[0;34m(\u001b[0m\u001b[0;36m1\u001b[0m\u001b[0;34m,\u001b[0m\u001b[0;36m28\u001b[0m\u001b[0;34m,\u001b[0m\u001b[0;36m28\u001b[0m\u001b[0;34m)\u001b[0m\u001b[0;34m)\u001b[0m\u001b[0;34m)\u001b[0m\u001b[0;34m\u001b[0m\u001b[0;34m\u001b[0m\u001b[0m\n\u001b[0;32m---> 10\u001b[0;31m   \u001b[0mfinal\u001b[0m \u001b[0;34m=\u001b[0m \u001b[0mint\u001b[0m\u001b[0;34m(\u001b[0m\u001b[0mnp\u001b[0m\u001b[0;34m.\u001b[0m\u001b[0mnonzero\u001b[0m\u001b[0;34m(\u001b[0m\u001b[0mpred\u001b[0m\u001b[0;34m)\u001b[0m\u001b[0;34m[\u001b[0m\u001b[0;36m1\u001b[0m\u001b[0;34m]\u001b[0m\u001b[0;34m[\u001b[0m\u001b[0;36m0\u001b[0m\u001b[0;34m]\u001b[0m\u001b[0;34m)\u001b[0m\u001b[0;34m\u001b[0m\u001b[0;34m\u001b[0m\u001b[0m\n\u001b[0m\u001b[1;32m     11\u001b[0m   \u001b[0mlabels\u001b[0m \u001b[0;34m=\u001b[0m \u001b[0;34m{\u001b[0m\u001b[0;36m0\u001b[0m \u001b[0;34m:\u001b[0m \u001b[0;34m'T-shirt/top'\u001b[0m\u001b[0;34m,\u001b[0m \u001b[0;36m1\u001b[0m \u001b[0;34m:\u001b[0m \u001b[0;34m'Trousers'\u001b[0m\u001b[0;34m,\u001b[0m \u001b[0;36m2\u001b[0m \u001b[0;34m:\u001b[0m \u001b[0;34m'Pullover'\u001b[0m\u001b[0;34m,\u001b[0m \u001b[0;36m3\u001b[0m\u001b[0;34m:\u001b[0m \u001b[0;34m'Dress'\u001b[0m\u001b[0;34m,\u001b[0m \u001b[0;36m4\u001b[0m\u001b[0;34m:\u001b[0m \u001b[0;34m'Coat'\u001b[0m\u001b[0;34m,\u001b[0m \u001b[0;36m5\u001b[0m\u001b[0;34m:\u001b[0m \u001b[0;34m'Sandal'\u001b[0m\u001b[0;34m,\u001b[0m \u001b[0;36m6\u001b[0m\u001b[0;34m:\u001b[0m \u001b[0;34m'Shirt'\u001b[0m\u001b[0;34m,\u001b[0m \u001b[0;36m7\u001b[0m\u001b[0;34m:\u001b[0m \u001b[0;34m'Sneaker'\u001b[0m\u001b[0;34m,\u001b[0m \u001b[0;36m8\u001b[0m\u001b[0;34m:\u001b[0m \u001b[0;34m'Bag'\u001b[0m\u001b[0;34m,\u001b[0m \u001b[0;36m9\u001b[0m\u001b[0;34m:\u001b[0m \u001b[0;34m'Ankle Boot'\u001b[0m\u001b[0;34m}\u001b[0m\u001b[0;34m\u001b[0m\u001b[0;34m\u001b[0m\u001b[0m\n\u001b[1;32m     12\u001b[0m   \u001b[0mprint\u001b[0m\u001b[0;34m(\u001b[0m\u001b[0;34m\"Model predicts that this image is a\"\u001b[0m\u001b[0;34m,\u001b[0m \u001b[0mlabels\u001b[0m\u001b[0;34m[\u001b[0m\u001b[0mfinal\u001b[0m\u001b[0;34m]\u001b[0m\u001b[0;34m)\u001b[0m\u001b[0;34m\u001b[0m\u001b[0;34m\u001b[0m\u001b[0m\n",
      "\u001b[0;31mIndexError\u001b[0m: index 0 is out of bounds for axis 0 with size 0"
     ]
    }
   ],
   "source": [
    "predict_on_photo(shirt, model)"
   ]
  },
  {
   "cell_type": "code",
   "execution_count": null,
   "metadata": {
    "colab": {},
    "colab_type": "code",
    "id": "UUR2e6hR69Lg"
   },
   "outputs": [],
   "source": []
  }
 ],
 "metadata": {
  "colab": {
   "name": "LS_DS_433_Keras_Assignment.ipynb",
   "provenance": []
  },
  "kernelspec": {
   "display_name": "Python 3",
   "language": "python",
   "name": "python3"
  },
  "language_info": {
   "codemirror_mode": {
    "name": "ipython",
    "version": 3
   },
   "file_extension": ".py",
   "mimetype": "text/x-python",
   "name": "python",
   "nbconvert_exporter": "python",
   "pygments_lexer": "ipython3",
   "version": "3.7.4"
  }
 },
 "nbformat": 4,
 "nbformat_minor": 4
}
