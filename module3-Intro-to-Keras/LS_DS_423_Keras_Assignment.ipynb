{
 "cells": [
  {
   "cell_type": "markdown",
   "metadata": {
    "colab_type": "text",
    "id": "pBQsZEJmubLs"
   },
   "source": [
    "<img align=\"left\" src=\"https://lever-client-logos.s3.amazonaws.com/864372b1-534c-480e-acd5-9711f850815c-1524247202159.png\" width=200>\n",
    "<br></br>\n",
    "\n",
    "# Neural Network Framework (Keras)\n",
    "\n",
    "## *Data Science Unit 4 Sprint 2 Assignmnet 3*\n",
    "\n",
    "## Use the Keras Library to build a Multi-Layer Perceptron Model on the Boston Housing dataset\n",
    "\n",
    "- The Boston Housing dataset comes with the Keras library so use Keras to import it into your notebook. \n",
    "- Normalize the data (all features should have roughly the same scale)\n",
    "- Import the type of model and layers that you will need from Keras.\n",
    "- Instantiate a model object and use `model.add()` to add layers to your model\n",
    "- Since this is a regression model you will have a single output node in the final layer.\n",
    "- Use activation functions that are appropriate for this task\n",
    "- Compile your model\n",
    "- Fit your model and report its accuracy in terms of Mean Squared Error\n",
    "- Use the history object that is returned from model.fit to make graphs of the model's loss or train/validation accuracies by epoch. \n",
    "- Run this same data through a linear regression model. Which achieves higher accuracy?\n",
    "- Do a little bit of feature engineering and see how that affects your neural network model. (you will need to change your model to accept more inputs)\n",
    "- After feature engineering, which model sees a greater accuracy boost due to the new features?"
   ]
  },
  {
   "cell_type": "code",
   "execution_count": 1,
   "metadata": {
    "colab": {},
    "colab_type": "code",
    "id": "8NLTAR87uYJ-"
   },
   "outputs": [
    {
     "name": "stderr",
     "output_type": "stream",
     "text": [
      "Using TensorFlow backend.\n"
     ]
    }
   ],
   "source": [
    "import keras\n",
    "from keras.datasets import boston_housing\n",
    "from keras.models import Sequential\n",
    "from keras.layers import Dense, Dropout\n",
    "import numpy as np\n",
    "from sklearn.preprocessing import normalize"
   ]
  },
  {
   "cell_type": "code",
   "execution_count": 2,
   "metadata": {},
   "outputs": [],
   "source": [
    "# Load the data\n",
    "(X_train, y_train), (X_test, y_test) = boston_housing.load_data()"
   ]
  },
  {
   "cell_type": "code",
   "execution_count": 3,
   "metadata": {},
   "outputs": [
    {
     "data": {
      "text/plain": [
       "((404, 13), (404,), (102, 13), (102,))"
      ]
     },
     "execution_count": 3,
     "metadata": {},
     "output_type": "execute_result"
    }
   ],
   "source": [
    "# Shapes of the data\n",
    "X_train.shape, y_train.shape, X_test.shape, y_test.shape"
   ]
  },
  {
   "cell_type": "code",
   "execution_count": 4,
   "metadata": {},
   "outputs": [],
   "source": [
    "# Normalize the data\n",
    "X_train = normalize(X_train)\n",
    "X_test = normalize(X_test)\n"
   ]
  },
  {
   "cell_type": "code",
   "execution_count": 28,
   "metadata": {},
   "outputs": [
    {
     "name": "stdout",
     "output_type": "stream",
     "text": [
      "_________________________________________________________________\n",
      "Layer (type)                 Output Shape              Param #   \n",
      "=================================================================\n",
      "dense_4 (Dense)              (None, 1)                 14        \n",
      "_________________________________________________________________\n",
      "dense_5 (Dense)              (None, 15)                30        \n",
      "_________________________________________________________________\n",
      "dense_6 (Dense)              (None, 15)                240       \n",
      "_________________________________________________________________\n",
      "dense_7 (Dense)              (None, 1)                 16        \n",
      "=================================================================\n",
      "Total params: 300\n",
      "Trainable params: 300\n",
      "Non-trainable params: 0\n",
      "_________________________________________________________________\n"
     ]
    }
   ],
   "source": [
    "# instantiate the model and adding layers\n",
    "model = Sequential()\n",
    "# Input\n",
    "model.add(Dense(1, input_dim=13, activation='sigmoid'))\n",
    "# hidden\n",
    "# model.add(Dense(15, activation='sigmoid'))\n",
    "model.add(Dense(15, activation='sigmoid'))\n",
    "model.add(Dense(15, activation='sigmoid'))\n",
    "# Output\n",
    "model.add(Dense(1, activation='linear'))\n",
    "# Compile\n",
    "model.compile(optimizer='adam',\n",
    "              loss=\"mean_squared_error\",\n",
    "              metrics=['mean_squared_error'])\n",
    "# Summary\n",
    "model.summary()"
   ]
  },
  {
   "cell_type": "code",
   "execution_count": 30,
   "metadata": {},
   "outputs": [],
   "source": [
    "# Hyperparams\n",
    "batch_size= 50\n",
    "epochs = 4000"
   ]
  },
  {
   "cell_type": "code",
   "execution_count": 31,
   "metadata": {},
   "outputs": [
    {
     "name": "stdout",
     "output_type": "stream",
     "text": [
      "102/102 [==============================] - 0s 23us/step\n",
      "mean_squared_error: 2655.428658279718\n"
     ]
    }
   ],
   "source": [
    "# fit the model\n",
    "history = model.fit(X_train, y_train, batch_size=batch_size, epochs=epochs, validation_split=.1, verbose=0)\n",
    "scores = model.evaluate(X_test, y_test)\n",
    "print(f'{model.metrics_names[1]}: {scores[1]*100}')"
   ]
  },
  {
   "cell_type": "code",
   "execution_count": 33,
   "metadata": {},
   "outputs": [
    {
     "data": {
      "text/plain": [
       "[<matplotlib.lines.Line2D at 0x134f95e48>]"
      ]
     },
     "execution_count": 33,
     "metadata": {},
     "output_type": "execute_result"
    },
    {
     "data": {
      "image/png": "[encoded data removed]",
      "text/plain": [
       "<Figure size 432x288 with 1 Axes>"
      ]
     },
     "metadata": {
      "needs_background": "light"
     },
     "output_type": "display_data"
    }
   ],
   "source": [
    "import matplotlib.pyplot as plt\n",
    "\n",
    "plt.plot(history.history['loss'], color='r')"
   ]
  },
  {
   "cell_type": "code",
   "execution_count": null,
   "metadata": {},
   "outputs": [],
   "source": []
  },
  {
   "cell_type": "code",
   "execution_count": null,
   "metadata": {},
   "outputs": [],
   "source": []
  },
  {
   "cell_type": "code",
   "execution_count": null,
   "metadata": {},
   "outputs": [],
   "source": []
  },
  {
   "cell_type": "markdown",
   "metadata": {
    "colab_type": "text",
    "id": "SfcFnOONyuNm"
   },
   "source": [
    "## Use the Keras Library to build an image recognition network using the Fashion-MNIST dataset (also comes with keras)\n",
    "\n",
    "- Load and preprocess the image data similar to how we preprocessed the MNIST data in class.\n",
    "- Make sure to one-hot encode your category labels\n",
    "- Make sure to have your final layer have as many nodes as the number of classes that you want to predict.\n",
    "- Try different hyperparameters. What is the highest accuracy that you are able to achieve.\n",
    "- Use the history object that is returned from model.fit to make graphs of the model's loss or train/validation accuracies by epoch. \n",
    "- Remember that neural networks fall prey to randomness so you may need to run your model multiple times (or use Cross Validation) in order to tell if a change to a hyperparameter is truly producing better results."
   ]
  },
  {
   "cell_type": "code",
   "execution_count": 37,
   "metadata": {
    "colab": {},
    "colab_type": "code",
    "id": "szi6-IpuzaH1"
   },
   "outputs": [],
   "source": [
    "from keras.datasets import fashion_mnist\n",
    "import keras\n",
    "\n",
    "train, test = fashion_mnist.load_data()"
   ]
  },
  {
   "cell_type": "code",
   "execution_count": 38,
   "metadata": {},
   "outputs": [],
   "source": [
    "epochs = 25\n",
    "batch_size = 42\n",
    "num_classes = 10"
   ]
  },
  {
   "cell_type": "code",
   "execution_count": 39,
   "metadata": {},
   "outputs": [],
   "source": [
    "X_train = train[0]\n",
    "y_train = train[1]\n",
    "X_test = test[0]\n",
    "y_test = test[1]"
   ]
  },
  {
   "cell_type": "code",
   "execution_count": 40,
   "metadata": {},
   "outputs": [],
   "source": [
    "X_train = X_train.reshape(60000, 784)\n",
    "X_test = X_test.reshape(10000, 784)"
   ]
  },
  {
   "cell_type": "code",
   "execution_count": 41,
   "metadata": {},
   "outputs": [],
   "source": [
    "y_train = keras.utils.to_categorical(y_train, num_classes)\n",
    "y_test = keras.utils.to_categorical(y_test, num_classes)"
   ]
  },
  {
   "cell_type": "code",
   "execution_count": 46,
   "metadata": {},
   "outputs": [
    {
     "name": "stdout",
     "output_type": "stream",
     "text": [
      "Epoch 1/25\n",
      "60000/60000 [==============================] - 5s 77us/step - loss: 1.8043 - acc: 0.3815\n",
      "Epoch 2/25\n",
      "60000/60000 [==============================] - 4s 62us/step - loss: 1.2466 - acc: 0.5852\n",
      "Epoch 3/25\n",
      "60000/60000 [==============================] - 4s 62us/step - loss: 1.0355 - acc: 0.6061\n",
      "Epoch 4/25\n",
      "60000/60000 [==============================] - 4s 63us/step - loss: 0.9737 - acc: 0.6151\n",
      "Epoch 5/25\n",
      "60000/60000 [==============================] - 4s 62us/step - loss: 0.9591 - acc: 0.6171\n",
      "Epoch 6/25\n",
      "60000/60000 [==============================] - 4s 63us/step - loss: 0.9377 - acc: 0.6238\n",
      "Epoch 7/25\n",
      "60000/60000 [==============================] - 4s 62us/step - loss: 0.9105 - acc: 0.6310\n",
      "Epoch 8/25\n",
      "60000/60000 [==============================] - 4s 62us/step - loss: 0.9310 - acc: 0.6239\n",
      "Epoch 9/25\n",
      "60000/60000 [==============================] - 4s 65us/step - loss: 0.9008 - acc: 0.6293\n",
      "Epoch 10/25\n",
      "60000/60000 [==============================] - 4s 66us/step - loss: 0.8867 - acc: 0.6387\n",
      "Epoch 11/25\n",
      "60000/60000 [==============================] - 4s 63us/step - loss: 0.9246 - acc: 0.6391\n",
      "Epoch 12/25\n",
      "60000/60000 [==============================] - 4s 65us/step - loss: 0.8888 - acc: 0.6414\n",
      "Epoch 13/25\n",
      "60000/60000 [==============================] - 4s 65us/step - loss: 0.8936 - acc: 0.6547\n",
      "Epoch 14/25\n",
      "60000/60000 [==============================] - 4s 62us/step - loss: 0.8872 - acc: 0.6525\n",
      "Epoch 15/25\n",
      "60000/60000 [==============================] - 4s 62us/step - loss: 0.8703 - acc: 0.6622\n",
      "Epoch 16/25\n",
      "60000/60000 [==============================] - 4s 64us/step - loss: 0.8792 - acc: 0.6641\n",
      "Epoch 17/25\n",
      "60000/60000 [==============================] - 4s 62us/step - loss: 0.8583 - acc: 0.6698\n",
      "Epoch 18/25\n",
      "60000/60000 [==============================] - 4s 62us/step - loss: 0.8597 - acc: 0.6670\n",
      "Epoch 19/25\n",
      "60000/60000 [==============================] - 4s 62us/step - loss: 0.8756 - acc: 0.6584\n",
      "Epoch 20/25\n",
      "60000/60000 [==============================] - 4s 62us/step - loss: 0.8476 - acc: 0.6586\n",
      "Epoch 21/25\n",
      "60000/60000 [==============================] - 4s 63us/step - loss: 0.8398 - acc: 0.6700\n",
      "Epoch 22/25\n",
      "60000/60000 [==============================] - 4s 64us/step - loss: 0.8631 - acc: 0.6605\n",
      "Epoch 23/25\n",
      "60000/60000 [==============================] - 4s 64us/step - loss: 0.8602 - acc: 0.6700\n",
      "Epoch 24/25\n",
      "60000/60000 [==============================] - 4s 64us/step - loss: 0.8348 - acc: 0.6754\n",
      "Epoch 25/25\n",
      "60000/60000 [==============================] - 4s 67us/step - loss: 0.8604 - acc: 0.6480\n",
      "10000/10000 [==============================] - 0s 36us/step\n",
      "acc: 64.74\n"
     ]
    }
   ],
   "source": [
    "model = Sequential()\n",
    "model.add(Dense(10, input_dim=784, activation='relu'))\n",
    "model.add(Dense(5, activation='sigmoid'))\n",
    "model.add(Dense(10, input_dim=784, activation='softmax'))\n",
    "\n",
    "model.compile(loss='categorical_crossentropy', optimizer='adam', metrics=['accuracy'])\n",
    "history = model.fit(X_train, y_train, epochs=epochs)\n",
    "scores = model.evaluate(X_test, y_test)\n",
    "print(f'{model.metrics_names[1]}: {scores[1]*100}')"
   ]
  },
  {
   "cell_type": "code",
   "execution_count": 47,
   "metadata": {},
   "outputs": [
    {
     "data": {
      "text/plain": [
       "[<matplotlib.lines.Line2D at 0x1a4e48d080>]"
      ]
     },
     "execution_count": 47,
     "metadata": {},
     "output_type": "execute_result"
    },
    {
     "data": {
      "image/png": "[encoded data removed]",
      "text/plain": [
       "<Figure size 432x288 with 1 Axes>"
      ]
     },
     "metadata": {
      "needs_background": "light"
     },
     "output_type": "display_data"
    }
   ],
   "source": [
    "import matplotlib.pyplot as plt\n",
    "\n",
    "plt.plot(history.history['loss'], color='r')"
   ]
  },
  {
   "cell_type": "markdown",
   "metadata": {
    "colab_type": "text",
    "id": "zv_3xNMjzdLI"
   },
   "source": [
    "## Stretch Goals:\n",
    "\n",
    "- Use Hyperparameter Tuning to make the accuracy of your models as high as possible. (error as low as possible)\n",
    "- Use Cross Validation techniques to get more consistent results with your model.\n",
    "- Use GridSearchCV to try different combinations of hyperparameters. \n",
    "- Start looking into other types of Keras layers for CNNs and RNNs maybe try and build a CNN model for fashion-MNIST to see how the results compare."
   ]
  },
  {
   "cell_type": "code",
   "execution_count": 55,
   "metadata": {},
   "outputs": [
    {
     "data": {
      "text/plain": [
       "[<matplotlib.lines.Line2D at 0x1a4ec42c18>]"
      ]
     },
     "execution_count": 55,
     "metadata": {},
     "output_type": "execute_result"
    },
    {
     "data": {
      "image/png": "[encoded data removed]",
      "text/plain": [
       "<Figure size 432x288 with 1 Axes>"
      ]
     },
     "metadata": {
      "needs_background": "light"
     },
     "output_type": "display_data"
    }
   ],
   "source": [
    "plt.plot(history.history['acc'])"
   ]
  }
 ],
 "metadata": {
  "colab": {
   "name": "LS_DS_433_Keras_Assignment.ipynb",
   "provenance": [],
   "version": "0.3.2"
  },
  "kernelspec": {
   "display_name": "U4-S2-NN (Python3)",
   "language": "python",
   "name": "u4-s2-nn"
  },
  "language_info": {
   "codemirror_mode": {
    "name": "ipython",
    "version": 3
   },
   "file_extension": ".py",
   "mimetype": "text/x-python",
   "name": "python",
   "nbconvert_exporter": "python",
   "pygments_lexer": "ipython3",
   "version": "3.7.3"
  }
 },
 "nbformat": 4,
 "nbformat_minor": 4
}
