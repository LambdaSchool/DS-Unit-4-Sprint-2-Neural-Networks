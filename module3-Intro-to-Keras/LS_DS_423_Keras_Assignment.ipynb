{
 "cells": [
  {
   "cell_type": "markdown",
   "metadata": {
    "colab_type": "text",
    "id": "pBQsZEJmubLs"
   },
   "source": [
    "<img align=\"left\" src=\"https://lever-client-logos.s3.amazonaws.com/864372b1-534c-480e-acd5-9711f850815c-1524247202159.png\" width=200>\n",
    "<br></br>\n",
    "\n",
    "# Neural Network Framework (Keras)\n",
    "\n",
    "## *Data Science Unit 4 Sprint 2 Assignmnet 3*\n",
    "\n",
    "## Use the Keras Library to build a Multi-Layer Perceptron Model on the Boston Housing dataset\n",
    "\n",
    "- The Boston Housing dataset comes with the Keras library so use Keras to import it into your notebook. \n",
    "- Normalize the data (all features should have roughly the same scale)\n",
    "- Import the type of model and layers that you will need from Keras.\n",
    "- Instantiate a model object and use `model.add()` to add layers to your model\n",
    "- Since this is a regression model you will have a single output node in the final layer.\n",
    "- Use activation functions that are appropriate for this task\n",
    "- Compile your model\n",
    "- Fit your model and report its accuracy in terms of Mean Squared Error\n",
    "- Use the history object that is returned from model.fit to make graphs of the model's loss or train/validation accuracies by epoch. \n",
    "- Run this same data through a linear regression model. Which achieves higher accuracy?\n",
    "- Do a little bit of feature engineering and see how that affects your neural network model. (you will need to change your model to accept more inputs)\n",
    "- After feature engineering, which model sees a greater accuracy boost due to the new features?"
   ]
  },
  {
   "cell_type": "code",
   "execution_count": 1,
   "metadata": {
    "colab": {},
    "colab_type": "code",
    "id": "8NLTAR87uYJ-"
   },
   "outputs": [
    {
     "name": "stderr",
     "output_type": "stream",
     "text": [
      "/anaconda3/lib/python3.7/site-packages/tensorflow/python/framework/dtypes.py:516: FutureWarning: Passing (type, 1) or '1type' as a synonym of type is deprecated; in a future version of numpy, it will be understood as (type, (1,)) / '(1,)type'.\n",
      "  _np_qint8 = np.dtype([(\"qint8\", np.int8, 1)])\n",
      "/anaconda3/lib/python3.7/site-packages/tensorflow/python/framework/dtypes.py:517: FutureWarning: Passing (type, 1) or '1type' as a synonym of type is deprecated; in a future version of numpy, it will be understood as (type, (1,)) / '(1,)type'.\n",
      "  _np_quint8 = np.dtype([(\"quint8\", np.uint8, 1)])\n",
      "/anaconda3/lib/python3.7/site-packages/tensorflow/python/framework/dtypes.py:518: FutureWarning: Passing (type, 1) or '1type' as a synonym of type is deprecated; in a future version of numpy, it will be understood as (type, (1,)) / '(1,)type'.\n",
      "  _np_qint16 = np.dtype([(\"qint16\", np.int16, 1)])\n",
      "/anaconda3/lib/python3.7/site-packages/tensorflow/python/framework/dtypes.py:519: FutureWarning: Passing (type, 1) or '1type' as a synonym of type is deprecated; in a future version of numpy, it will be understood as (type, (1,)) / '(1,)type'.\n",
      "  _np_quint16 = np.dtype([(\"quint16\", np.uint16, 1)])\n",
      "/anaconda3/lib/python3.7/site-packages/tensorflow/python/framework/dtypes.py:520: FutureWarning: Passing (type, 1) or '1type' as a synonym of type is deprecated; in a future version of numpy, it will be understood as (type, (1,)) / '(1,)type'.\n",
      "  _np_qint32 = np.dtype([(\"qint32\", np.int32, 1)])\n",
      "/anaconda3/lib/python3.7/site-packages/tensorflow/python/framework/dtypes.py:525: FutureWarning: Passing (type, 1) or '1type' as a synonym of type is deprecated; in a future version of numpy, it will be understood as (type, (1,)) / '(1,)type'.\n",
      "  np_resource = np.dtype([(\"resource\", np.ubyte, 1)])\n",
      "/anaconda3/lib/python3.7/site-packages/tensorboard/compat/tensorflow_stub/dtypes.py:541: FutureWarning: Passing (type, 1) or '1type' as a synonym of type is deprecated; in a future version of numpy, it will be understood as (type, (1,)) / '(1,)type'.\n",
      "  _np_qint8 = np.dtype([(\"qint8\", np.int8, 1)])\n",
      "/anaconda3/lib/python3.7/site-packages/tensorboard/compat/tensorflow_stub/dtypes.py:542: FutureWarning: Passing (type, 1) or '1type' as a synonym of type is deprecated; in a future version of numpy, it will be understood as (type, (1,)) / '(1,)type'.\n",
      "  _np_quint8 = np.dtype([(\"quint8\", np.uint8, 1)])\n",
      "/anaconda3/lib/python3.7/site-packages/tensorboard/compat/tensorflow_stub/dtypes.py:543: FutureWarning: Passing (type, 1) or '1type' as a synonym of type is deprecated; in a future version of numpy, it will be understood as (type, (1,)) / '(1,)type'.\n",
      "  _np_qint16 = np.dtype([(\"qint16\", np.int16, 1)])\n",
      "/anaconda3/lib/python3.7/site-packages/tensorboard/compat/tensorflow_stub/dtypes.py:544: FutureWarning: Passing (type, 1) or '1type' as a synonym of type is deprecated; in a future version of numpy, it will be understood as (type, (1,)) / '(1,)type'.\n",
      "  _np_quint16 = np.dtype([(\"quint16\", np.uint16, 1)])\n",
      "/anaconda3/lib/python3.7/site-packages/tensorboard/compat/tensorflow_stub/dtypes.py:545: FutureWarning: Passing (type, 1) or '1type' as a synonym of type is deprecated; in a future version of numpy, it will be understood as (type, (1,)) / '(1,)type'.\n",
      "  _np_qint32 = np.dtype([(\"qint32\", np.int32, 1)])\n",
      "/anaconda3/lib/python3.7/site-packages/tensorboard/compat/tensorflow_stub/dtypes.py:550: FutureWarning: Passing (type, 1) or '1type' as a synonym of type is deprecated; in a future version of numpy, it will be understood as (type, (1,)) / '(1,)type'.\n",
      "  np_resource = np.dtype([(\"resource\", np.ubyte, 1)])\n",
      "Using TensorFlow backend.\n"
     ]
    }
   ],
   "source": [
    "import tensorflow as tf\n",
    "from tensorflow import keras\n",
    "from keras.datasets import boston_housing\n",
    "\n",
    "(x_train, y_train), (x_test, y_test) = boston_housing.load_data()"
   ]
  },
  {
   "cell_type": "code",
   "execution_count": 24,
   "metadata": {},
   "outputs": [
    {
     "data": {
      "text/plain": [
       "((404, 13), (102, 13), (404,), (102,))"
      ]
     },
     "execution_count": 24,
     "metadata": {},
     "output_type": "execute_result"
    }
   ],
   "source": [
    "# input_shape = 13\n",
    "x_train.shape, x_test.shape, y_train.shape, y_test.shape"
   ]
  },
  {
   "cell_type": "code",
   "execution_count": 25,
   "metadata": {},
   "outputs": [],
   "source": [
    "from sklearn.preprocessing import MinMaxScaler\n",
    "\n",
    "Scaler = MinMaxScaler()\n",
    "\n",
    "x_train = Scaler.fit_transform(x_train)\n",
    "x_test = Scaler.fit_transform(x_test)"
   ]
  },
  {
   "cell_type": "code",
   "execution_count": 31,
   "metadata": {},
   "outputs": [],
   "source": [
    "from keras.models import Sequential\n",
    "from keras.layers import Dense\n",
    "\n",
    "boston_model = Sequential()\n",
    "boston_model.add(Dense(64, input_shape=(13,), activation='relu'))\n",
    "boston_model.add(Dense(64, activation='relu'))\n",
    "# Don't use activation function on last layer because we don't want it to be bound\n",
    "boston_model.add(Dense(1))\n",
    "boston_model.compile(loss='mean_squared_error', optimizer='adam', metrics=['mse'])"
   ]
  },
  {
   "cell_type": "code",
   "execution_count": 32,
   "metadata": {},
   "outputs": [
    {
     "name": "stdout",
     "output_type": "stream",
     "text": [
      "Model: \"sequential_6\"\n",
      "_________________________________________________________________\n",
      "Layer (type)                 Output Shape              Param #   \n",
      "=================================================================\n",
      "dense_16 (Dense)             (None, 64)                896       \n",
      "_________________________________________________________________\n",
      "dense_17 (Dense)             (None, 64)                4160      \n",
      "_________________________________________________________________\n",
      "dense_18 (Dense)             (None, 1)                 65        \n",
      "=================================================================\n",
      "Total params: 5,121\n",
      "Trainable params: 5,121\n",
      "Non-trainable params: 0\n",
      "_________________________________________________________________\n"
     ]
    }
   ],
   "source": [
    "boston_model.summary()"
   ]
  },
  {
   "cell_type": "code",
   "execution_count": 33,
   "metadata": {},
   "outputs": [
    {
     "name": "stdout",
     "output_type": "stream",
     "text": [
      "Train on 404 samples, validate on 102 samples\n",
      "Epoch 1/50\n",
      "404/404 [==============================] - 0s 519us/step - loss: 588.4854 - mse: 588.4854 - val_loss: 610.5839 - val_mse: 610.5839\n",
      "Epoch 2/50\n",
      "404/404 [==============================] - 0s 20us/step - loss: 576.4037 - mse: 576.4037 - val_loss: 598.4999 - val_mse: 598.4998\n",
      "Epoch 3/50\n",
      "404/404 [==============================] - 0s 23us/step - loss: 564.6424 - mse: 564.6424 - val_loss: 586.3249 - val_mse: 586.3249\n",
      "Epoch 4/50\n",
      "404/404 [==============================] - 0s 21us/step - loss: 552.6990 - mse: 552.6990 - val_loss: 573.5997 - val_mse: 573.5997\n",
      "Epoch 5/50\n",
      "404/404 [==============================] - 0s 24us/step - loss: 540.2160 - mse: 540.2160 - val_loss: 559.8668 - val_mse: 559.8667\n",
      "Epoch 6/50\n",
      "404/404 [==============================] - 0s 20us/step - loss: 526.4949 - mse: 526.4949 - val_loss: 544.4786 - val_mse: 544.4786\n",
      "Epoch 7/50\n",
      "404/404 [==============================] - 0s 25us/step - loss: 510.6022 - mse: 510.6021 - val_loss: 526.7759 - val_mse: 526.7759\n",
      "Epoch 8/50\n",
      "404/404 [==============================] - 0s 30us/step - loss: 492.5735 - mse: 492.5735 - val_loss: 506.3051 - val_mse: 506.3050\n",
      "Epoch 9/50\n",
      "404/404 [==============================] - 0s 33us/step - loss: 471.8191 - mse: 471.8191 - val_loss: 483.0515 - val_mse: 483.0515\n",
      "Epoch 10/50\n",
      "404/404 [==============================] - 0s 21us/step - loss: 448.1278 - mse: 448.1278 - val_loss: 456.6093 - val_mse: 456.6092\n",
      "Epoch 11/50\n",
      "404/404 [==============================] - 0s 24us/step - loss: 421.4524 - mse: 421.4524 - val_loss: 427.1063 - val_mse: 427.1063\n",
      "Epoch 12/50\n",
      "404/404 [==============================] - 0s 26us/step - loss: 391.5166 - mse: 391.5166 - val_loss: 394.7287 - val_mse: 394.7287\n",
      "Epoch 13/50\n",
      "404/404 [==============================] - 0s 21us/step - loss: 359.1237 - mse: 359.1237 - val_loss: 359.8939 - val_mse: 359.8938\n",
      "Epoch 14/50\n",
      "404/404 [==============================] - 0s 21us/step - loss: 324.2980 - mse: 324.2980 - val_loss: 323.0776 - val_mse: 323.0776\n",
      "Epoch 15/50\n",
      "404/404 [==============================] - 0s 20us/step - loss: 288.2481 - mse: 288.2481 - val_loss: 285.7872 - val_mse: 285.7872\n",
      "Epoch 16/50\n",
      "404/404 [==============================] - 0s 21us/step - loss: 251.8199 - mse: 251.8199 - val_loss: 250.0004 - val_mse: 250.0004\n",
      "Epoch 17/50\n",
      "404/404 [==============================] - 0s 32us/step - loss: 217.6264 - mse: 217.6264 - val_loss: 217.4034 - val_mse: 217.4034\n",
      "Epoch 18/50\n",
      "404/404 [==============================] - 0s 20us/step - loss: 186.8952 - mse: 186.8952 - val_loss: 190.2538 - val_mse: 190.2538\n",
      "Epoch 19/50\n",
      "404/404 [==============================] - 0s 19us/step - loss: 161.8261 - mse: 161.8261 - val_loss: 169.6304 - val_mse: 169.6304\n",
      "Epoch 20/50\n",
      "404/404 [==============================] - 0s 23us/step - loss: 144.3717 - mse: 144.3717 - val_loss: 155.1040 - val_mse: 155.1040\n",
      "Epoch 21/50\n",
      "404/404 [==============================] - 0s 20us/step - loss: 132.8279 - mse: 132.8279 - val_loss: 146.6432 - val_mse: 146.6432\n",
      "Epoch 22/50\n",
      "404/404 [==============================] - 0s 27us/step - loss: 126.8844 - mse: 126.8844 - val_loss: 141.9622 - val_mse: 141.9622\n",
      "Epoch 23/50\n",
      "404/404 [==============================] - 0s 22us/step - loss: 123.6303 - mse: 123.6303 - val_loss: 138.0888 - val_mse: 138.0888\n",
      "Epoch 24/50\n",
      "404/404 [==============================] - 0s 19us/step - loss: 121.1586 - mse: 121.1586 - val_loss: 133.8186 - val_mse: 133.8186\n",
      "Epoch 25/50\n",
      "404/404 [==============================] - 0s 21us/step - loss: 117.8779 - mse: 117.8779 - val_loss: 128.7193 - val_mse: 128.7193\n",
      "Epoch 26/50\n",
      "404/404 [==============================] - 0s 24us/step - loss: 113.5086 - mse: 113.5086 - val_loss: 123.1284 - val_mse: 123.1284\n",
      "Epoch 27/50\n",
      "404/404 [==============================] - 0s 19us/step - loss: 108.2985 - mse: 108.2985 - val_loss: 118.1643 - val_mse: 118.1643\n",
      "Epoch 28/50\n",
      "404/404 [==============================] - 0s 29us/step - loss: 104.0018 - mse: 104.0018 - val_loss: 113.6500 - val_mse: 113.6500\n",
      "Epoch 29/50\n",
      "404/404 [==============================] - 0s 23us/step - loss: 100.0786 - mse: 100.0786 - val_loss: 109.7387 - val_mse: 109.7387\n",
      "Epoch 30/50\n",
      "404/404 [==============================] - 0s 27us/step - loss: 96.3940 - mse: 96.3940 - val_loss: 106.1242 - val_mse: 106.1242\n",
      "Epoch 31/50\n",
      "404/404 [==============================] - 0s 21us/step - loss: 93.2026 - mse: 93.2026 - val_loss: 102.8135 - val_mse: 102.8135\n",
      "Epoch 32/50\n",
      "404/404 [==============================] - 0s 24us/step - loss: 90.2116 - mse: 90.2116 - val_loss: 99.7303 - val_mse: 99.7303\n",
      "Epoch 33/50\n",
      "404/404 [==============================] - 0s 21us/step - loss: 87.4089 - mse: 87.4089 - val_loss: 96.7530 - val_mse: 96.7530\n",
      "Epoch 34/50\n",
      "404/404 [==============================] - 0s 20us/step - loss: 84.8656 - mse: 84.8656 - val_loss: 93.7082 - val_mse: 93.7082\n",
      "Epoch 35/50\n",
      "404/404 [==============================] - 0s 34us/step - loss: 82.2474 - mse: 82.2474 - val_loss: 90.5682 - val_mse: 90.5682\n",
      "Epoch 36/50\n",
      "404/404 [==============================] - 0s 19us/step - loss: 79.6661 - mse: 79.6661 - val_loss: 87.3719 - val_mse: 87.3719\n",
      "Epoch 37/50\n",
      "404/404 [==============================] - 0s 19us/step - loss: 77.2766 - mse: 77.2766 - val_loss: 84.4325 - val_mse: 84.4325\n",
      "Epoch 38/50\n",
      "404/404 [==============================] - 0s 22us/step - loss: 74.9172 - mse: 74.9172 - val_loss: 81.7760 - val_mse: 81.7760\n",
      "Epoch 39/50\n",
      "404/404 [==============================] - 0s 20us/step - loss: 72.7768 - mse: 72.7768 - val_loss: 79.4601 - val_mse: 79.4601\n",
      "Epoch 40/50\n",
      "404/404 [==============================] - 0s 22us/step - loss: 70.5721 - mse: 70.5721 - val_loss: 77.3975 - val_mse: 77.3975\n",
      "Epoch 41/50\n",
      "404/404 [==============================] - 0s 28us/step - loss: 68.6846 - mse: 68.6846 - val_loss: 75.7110 - val_mse: 75.7110\n",
      "Epoch 42/50\n",
      "404/404 [==============================] - 0s 22us/step - loss: 66.9874 - mse: 66.9874 - val_loss: 73.7164 - val_mse: 73.7164\n",
      "Epoch 43/50\n",
      "404/404 [==============================] - 0s 20us/step - loss: 65.4177 - mse: 65.4177 - val_loss: 71.4167 - val_mse: 71.4167\n",
      "Epoch 44/50\n",
      "404/404 [==============================] - 0s 24us/step - loss: 63.7337 - mse: 63.7337 - val_loss: 69.2490 - val_mse: 69.2490\n",
      "Epoch 45/50\n",
      "404/404 [==============================] - 0s 29us/step - loss: 62.3597 - mse: 62.3597 - val_loss: 67.1391 - val_mse: 67.1391\n",
      "Epoch 46/50\n",
      "404/404 [==============================] - 0s 19us/step - loss: 61.1083 - mse: 61.1083 - val_loss: 65.4461 - val_mse: 65.4461\n",
      "Epoch 47/50\n",
      "404/404 [==============================] - 0s 22us/step - loss: 60.1203 - mse: 60.1203 - val_loss: 63.6980 - val_mse: 63.6980\n",
      "Epoch 48/50\n",
      "404/404 [==============================] - 0s 22us/step - loss: 59.0918 - mse: 59.0918 - val_loss: 62.7490 - val_mse: 62.7490\n",
      "Epoch 49/50\n",
      "404/404 [==============================] - 0s 37us/step - loss: 57.8954 - mse: 57.8954 - val_loss: 62.1755 - val_mse: 62.1755\n",
      "Epoch 50/50\n",
      "404/404 [==============================] - 0s 22us/step - loss: 56.8327 - mse: 56.8327 - val_loss: 61.6844 - val_mse: 61.6844\n"
     ]
    },
    {
     "data": {
      "text/plain": [
       "<keras.callbacks.callbacks.History at 0x1a36d68390>"
      ]
     },
     "execution_count": 33,
     "metadata": {},
     "output_type": "execute_result"
    }
   ],
   "source": [
    "boston_model.fit(x_train, y_train,\n",
    " batch_size=128, epochs=50, validation_data=(x_test, y_test), verbose=True)"
   ]
  },
  {
   "cell_type": "code",
   "execution_count": 34,
   "metadata": {},
   "outputs": [
    {
     "name": "stdout",
     "output_type": "stream",
     "text": [
      "102/102 [==============================] - 0s 831us/step\n"
     ]
    }
   ],
   "source": [
    "scores = boston_model.evaluate(x_test, y_test)"
   ]
  },
  {
   "cell_type": "code",
   "execution_count": 35,
   "metadata": {},
   "outputs": [
    {
     "name": "stdout",
     "output_type": "stream",
     "text": [
      "Mean Squared Error: 61.68441390991211\n"
     ]
    }
   ],
   "source": [
    "print('Mean Squared Error:', scores[1])"
   ]
  },
  {
   "cell_type": "raw",
   "metadata": {},
   "source": [
    "Run this same data through a linear regression model. Which achieves higher accuracy?\n",
    "Do a little bit of feature engineering and see how that affects your neural network model. (you will need to change your model to accept more inputs)\n",
    "After feature engineering, which model sees a greater accuracy boost due to the new features?"
   ]
  },
  {
   "cell_type": "markdown",
   "metadata": {
    "colab_type": "text",
    "id": "SfcFnOONyuNm"
   },
   "source": [
    "## Use the Keras Library to build an image recognition network using the Fashion-MNIST dataset (also comes with keras)\n",
    "\n",
    "- Load and preprocess the image data similar to how we preprocessed the MNIST data in class.\n",
    "- Make sure to one-hot encode your category labels\n",
    "- Make sure to have your final layer have as many nodes as the number of classes that you want to predict.\n",
    "- Try different hyperparameters. What is the highest accuracy that you are able to achieve.\n",
    "- Use the history object that is returned from model.fit to make graphs of the model's loss or train/validation accuracies by epoch. \n",
    "- Remember that neural networks fall prey to randomness so you may need to run your model multiple times (or use Cross Validation) in order to tell if a change to a hyperparameter is truly producing better results."
   ]
  },
  {
   "cell_type": "code",
   "execution_count": 14,
   "metadata": {
    "colab": {},
    "colab_type": "code",
    "id": "szi6-IpuzaH1"
   },
   "outputs": [],
   "source": [
    "# load the data\n",
    "\n",
    "from keras.datasets import fashion_mnist\n",
    "\n",
    "(X_train, y_train), (X_test, y_test) = fashion_mnist.load_data()"
   ]
  },
  {
   "cell_type": "code",
   "execution_count": 15,
   "metadata": {},
   "outputs": [
    {
     "data": {
      "text/plain": [
       "((60000, 28, 28), (10000, 28, 28), (60000,), (10000,))"
      ]
     },
     "execution_count": 15,
     "metadata": {},
     "output_type": "execute_result"
    }
   ],
   "source": [
    "X_train.shape, X_test.shape, y_train.shape, y_test.shape"
   ]
  },
  {
   "cell_type": "code",
   "execution_count": 16,
   "metadata": {},
   "outputs": [],
   "source": [
    "batch_size = 128\n",
    "num_classes = 10\n",
    "epochs = 12"
   ]
  },
  {
   "cell_type": "code",
   "execution_count": 17,
   "metadata": {},
   "outputs": [],
   "source": [
    "# one-hot encode the training and testing labels\n",
    "y_train = keras.utils.to_categorical(y_train, num_classes)\n",
    "y_test = keras.utils.to_categorical(y_test, num_classes)"
   ]
  },
  {
   "cell_type": "code",
   "execution_count": 18,
   "metadata": {},
   "outputs": [
    {
     "data": {
      "text/plain": [
       "array([0., 0., 0., 0., 0., 0., 0., 0., 1., 0.], dtype=float32)"
      ]
     },
     "execution_count": 18,
     "metadata": {},
     "output_type": "execute_result"
    }
   ],
   "source": [
    "# Transformed integer into a 10 element binary vector with a 1 for the index of the class value \n",
    "y_train[100]"
   ]
  },
  {
   "cell_type": "code",
   "execution_count": 19,
   "metadata": {},
   "outputs": [],
   "source": [
    "X_train = X_train.reshape(60000, 28*28)\n",
    "X_test = X_test.reshape(10000, 28*28)\n",
    "# X_train = X_train.reshape(X_train.shape[0], 28, 28, 1)\n",
    "# X_test = X_test.reshape(X_test.shape[0], 28, 28, 1)\n",
    "# input_shape = (28, 28, 1)\n",
    "\n",
    "# Convert integers to floats\n",
    "X_train = X_train.astype('float32') / 255\n",
    "X_test = X_test.astype('float32') / 255"
   ]
  },
  {
   "cell_type": "code",
   "execution_count": 20,
   "metadata": {},
   "outputs": [
    {
     "data": {
      "text/plain": [
       "((60000, 784), (60000, 10))"
      ]
     },
     "execution_count": 20,
     "metadata": {},
     "output_type": "execute_result"
    }
   ],
   "source": [
    "X_train.shape, y_train.shape"
   ]
  },
  {
   "cell_type": "code",
   "execution_count": 21,
   "metadata": {},
   "outputs": [],
   "source": [
    "from tensorflow.keras.models import Sequential\n",
    "from tensorflow.keras.layers import Dense, Dropout\n",
    "from tensorflow.keras.layers import Flatten, InputLayer, Activation"
   ]
  },
  {
   "cell_type": "code",
   "execution_count": 32,
   "metadata": {},
   "outputs": [],
   "source": [
    "model = Sequential()\n",
    "model.add(Dense(64, activation='relu', input_shape=(784,)))\n",
    "model.add(Dropout(0.2))\n",
    "model.add(Dense(32, activation='relu'))\n",
    "model.add(Dropout(0.2))\n",
    "model.add(Dense(10, activation='softmax'))\n",
    "model.compile(loss='categorical_crossentropy',\n",
    "              optimizer='adam',\n",
    "              metrics=['accuracy'])"
   ]
  },
  {
   "cell_type": "code",
   "execution_count": 33,
   "metadata": {},
   "outputs": [
    {
     "name": "stdout",
     "output_type": "stream",
     "text": [
      "Model: \"sequential_2\"\n",
      "_________________________________________________________________\n",
      "Layer (type)                 Output Shape              Param #   \n",
      "=================================================================\n",
      "dense_6 (Dense)              (None, 64)                50240     \n",
      "_________________________________________________________________\n",
      "dropout_2 (Dropout)          (None, 64)                0         \n",
      "_________________________________________________________________\n",
      "dense_7 (Dense)              (None, 32)                2080      \n",
      "_________________________________________________________________\n",
      "dropout_3 (Dropout)          (None, 32)                0         \n",
      "_________________________________________________________________\n",
      "dense_8 (Dense)              (None, 10)                330       \n",
      "=================================================================\n",
      "Total params: 52,650\n",
      "Trainable params: 52,650\n",
      "Non-trainable params: 0\n",
      "_________________________________________________________________\n"
     ]
    }
   ],
   "source": [
    "model.summary()"
   ]
  },
  {
   "cell_type": "code",
   "execution_count": 34,
   "metadata": {},
   "outputs": [],
   "source": [
    "history = model.fit(X_train, y_train,\n",
    " batch_size=batch_size, epochs=epochs, validation_data=(X_test, y_test), verbose=False)"
   ]
  },
  {
   "cell_type": "code",
   "execution_count": 35,
   "metadata": {},
   "outputs": [],
   "source": [
    "score = model.evaluate(X_test, y_test, verbose=0)"
   ]
  },
  {
   "cell_type": "code",
   "execution_count": 36,
   "metadata": {},
   "outputs": [
    {
     "name": "stdout",
     "output_type": "stream",
     "text": [
      "Test accuracy: 0.8738\n"
     ]
    }
   ],
   "source": [
    "# Print test accuracy\n",
    "print('Test accuracy:', score[1])"
   ]
  },
  {
   "cell_type": "code",
   "execution_count": 95,
   "metadata": {},
   "outputs": [
    {
     "data": {
      "image/png": "[encoded data removed]",
      "text/plain": [
       "<Figure size 432x288 with 1 Axes>"
      ]
     },
     "metadata": {
      "needs_background": "light"
     },
     "output_type": "display_data"
    }
   ],
   "source": [
    "import matplotlib.pyplot as plt\n",
    "plt.plot(history.history['loss'])\n",
    "plt.plot(history.history['val_loss'])\n",
    "plt.title('Model loss')\n",
    "plt.ylabel('Loss')\n",
    "plt.xlabel('Epoch')\n",
    "plt.legend(['Train', 'Test'])\n",
    "plt.show()"
   ]
  },
  {
   "cell_type": "code",
   "execution_count": 96,
   "metadata": {},
   "outputs": [
    {
     "data": {
      "text/plain": [
       "array([[6.32808678e-07, 1.07063023e-07, 5.39801817e-07, ...,\n",
       "        3.02898347e-01, 4.41482151e-03, 5.45746863e-01],\n",
       "       [8.58573243e-04, 1.93027226e-05, 7.24853516e-01, ...,\n",
       "        1.22529354e-17, 2.10001279e-04, 1.28785207e-13],\n",
       "       [9.07651520e-06, 9.99940991e-01, 4.61609915e-07, ...,\n",
       "        2.28192021e-09, 6.72618794e-10, 2.45695356e-11],\n",
       "       ...,\n",
       "       [1.42443646e-02, 9.85847237e-06, 2.33460436e-04, ...,\n",
       "        3.66189597e-05, 9.23373878e-01, 1.06076086e-05],\n",
       "       [3.57072931e-05, 9.98607218e-01, 7.47139029e-06, ...,\n",
       "        2.21488222e-07, 1.58172409e-08, 6.74480916e-09],\n",
       "       [1.00880294e-04, 1.15082403e-04, 2.53981649e-04, ...,\n",
       "        5.98839112e-02, 1.07124150e-02, 2.40203831e-03]], dtype=float32)"
      ]
     },
     "execution_count": 96,
     "metadata": {},
     "output_type": "execute_result"
    }
   ],
   "source": [
    "model.predict(X_test)"
   ]
  },
  {
   "cell_type": "markdown",
   "metadata": {
    "colab_type": "text",
    "id": "zv_3xNMjzdLI"
   },
   "source": [
    "## Stretch Goals:\n",
    "\n",
    "- Use Hyperparameter Tuning to make the accuracy of your models as high as possible. (error as low as possible)\n",
    "- Use Cross Validation techniques to get more consistent results with your model.\n",
    "- Use GridSearchCV to try different combinations of hyperparameters. \n",
    "- Start looking into other types of Keras layers for CNNs and RNNs maybe try and build a CNN model for fashion-MNIST to see how the results compare."
   ]
  }
 ],
 "metadata": {
  "colab": {
   "name": "LS_DS_433_Keras_Assignment.ipynb",
   "provenance": [],
   "version": "0.3.2"
  },
  "kernelspec": {
   "display_name": "Python 3",
   "language": "python",
   "name": "python3"
  },
  "language_info": {
   "codemirror_mode": {
    "name": "ipython",
    "version": 3
   },
   "file_extension": ".py",
   "mimetype": "text/x-python",
   "name": "python",
   "nbconvert_exporter": "python",
   "pygments_lexer": "ipython3",
   "version": "3.7.6"
  }
 },
 "nbformat": 4,
 "nbformat_minor": 4
}
