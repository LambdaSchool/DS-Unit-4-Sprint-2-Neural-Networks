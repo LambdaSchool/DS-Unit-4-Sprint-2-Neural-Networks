{
 "cells": [
  {
   "cell_type": "markdown",
   "metadata": {
    "colab_type": "text",
    "id": "pBQsZEJmubLs"
   },
   "source": [
    "<img align=\"left\" src=\"https://lever-client-logos.s3.amazonaws.com/864372b1-534c-480e-acd5-9711f850815c-1524247202159.png\" width=200>\n",
    "<br></br>\n",
    "\n",
    "# Neural Network Framework (Keras)\n",
    "\n",
    "## *Data Science Unit 4 Sprint 2 Assignmnet 3*\n",
    "\n",
    "## Use the Keras Library to build a Multi-Layer Perceptron Model on the Boston Housing dataset\n",
    "\n",
    "- The Boston Housing dataset comes with the Keras library so use Keras to import it into your notebook. \n",
    "- Normalize the data (all features should have roughly the same scale)\n",
    "- Import the type of model and layers that you will need from Keras.\n",
    "- Instantiate a model object and use `model.add()` to add layers to your model\n",
    "- Since this is a regression model you will have a single output node in the final layer.\n",
    "- Use activation functions that are appropriate for this task\n",
    "- Compile your model\n",
    "- Fit your model and report its accuracy in terms of Mean Squared Error\n",
    "- Use the history object that is returned from model.fit to make graphs of the model's loss or train/validation accuracies by epoch. \n",
    "- Run this same data through a linear regression model. Which achieves higher accuracy?\n",
    "- Do a little bit of feature engineering and see how that affects your neural network model. (you will need to change your model to accept more inputs)\n",
    "- After feature engineering, which model sees a greater accuracy boost due to the new features?"
   ]
  },
  {
   "cell_type": "code",
   "execution_count": null,
   "metadata": {},
   "outputs": [],
   "source": []
  },
  {
   "cell_type": "code",
   "execution_count": 17,
   "metadata": {
    "colab": {},
    "colab_type": "code",
    "id": "8NLTAR87uYJ-"
   },
   "outputs": [],
   "source": [
    "##### Your Code Here #####\n",
    "from keras.datasets import boston_housing\n",
    "import pandas as pd\n",
    "\n",
    "(x_train, y_train), (x_test, y_test) = boston_housing.load_data()\n"
   ]
  },
  {
   "cell_type": "code",
   "execution_count": 18,
   "metadata": {},
   "outputs": [
    {
     "data": {
      "text/plain": [
       "((404, 13), (404,), (102, 13), (102,))"
      ]
     },
     "execution_count": 18,
     "metadata": {},
     "output_type": "execute_result"
    }
   ],
   "source": [
    "x_train.shape, y_train.shape, x_test.shape, y_test.shape"
   ]
  },
  {
   "cell_type": "code",
   "execution_count": 19,
   "metadata": {},
   "outputs": [
    {
     "data": {
      "text/plain": [
       "array([[1.23247e+00, 0.00000e+00, 8.14000e+00, ..., 2.10000e+01,\n",
       "        3.96900e+02, 1.87200e+01],\n",
       "       [2.17700e-02, 8.25000e+01, 2.03000e+00, ..., 1.47000e+01,\n",
       "        3.95380e+02, 3.11000e+00],\n",
       "       [4.89822e+00, 0.00000e+00, 1.81000e+01, ..., 2.02000e+01,\n",
       "        3.75520e+02, 3.26000e+00],\n",
       "       ...,\n",
       "       [3.46600e-02, 3.50000e+01, 6.06000e+00, ..., 1.69000e+01,\n",
       "        3.62250e+02, 7.83000e+00],\n",
       "       [2.14918e+00, 0.00000e+00, 1.95800e+01, ..., 1.47000e+01,\n",
       "        2.61950e+02, 1.57900e+01],\n",
       "       [1.43900e-02, 6.00000e+01, 2.93000e+00, ..., 1.56000e+01,\n",
       "        3.76700e+02, 4.38000e+00]])"
      ]
     },
     "execution_count": 19,
     "metadata": {},
     "output_type": "execute_result"
    }
   ],
   "source": [
    "x_train"
   ]
  },
  {
   "cell_type": "code",
   "execution_count": 20,
   "metadata": {},
   "outputs": [],
   "source": [
    "y = y_train\n",
    "\n",
    "y = y_train / y_train.max()\n",
    "\n",
    "x = x_train"
   ]
  },
  {
   "cell_type": "code",
   "execution_count": 21,
   "metadata": {},
   "outputs": [
    {
     "data": {
      "text/plain": [
       "array([[6.15626701e-03, 0.00000000e+00, 3.10983151e-02, ...,\n",
       "        5.61526372e-02, 5.38018011e-02, 6.35435054e-02],\n",
       "       [1.08742552e-04, 1.55659962e-01, 7.75547662e-03, ...,\n",
       "        3.93068460e-02, 5.35957574e-02, 1.05566401e-02],\n",
       "       [2.44669243e-02, 0.00000000e+00, 6.91498162e-02, ...,\n",
       "        5.40134891e-02, 5.09036340e-02, 1.10658028e-02],\n",
       "       ...,\n",
       "       [1.73128932e-04, 6.60375595e-02, 2.31518169e-02, ...,\n",
       "        4.51895032e-02, 4.91048185e-02, 2.65782931e-02],\n",
       "       [1.07352925e-02, 0.00000000e+00, 7.48040553e-02, ...,\n",
       "        3.93068460e-02, 3.55086465e-02, 5.35978606e-02],\n",
       "       [7.18789766e-05, 1.13207245e-01, 1.11938653e-02, ...,\n",
       "        4.17133876e-02, 5.10635890e-02, 1.48675509e-02]])"
      ]
     },
     "execution_count": 21,
     "metadata": {},
     "output_type": "execute_result"
    }
   ],
   "source": [
    "#normalize\n",
    "import keras\n",
    "keras.utils.normalize(x_train, axis=0, order=2)"
   ]
  },
  {
   "cell_type": "code",
   "execution_count": 37,
   "metadata": {},
   "outputs": [
    {
     "name": "stdout",
     "output_type": "stream",
     "text": [
      "Model: \"sequential_7\"\n",
      "_________________________________________________________________\n",
      "Layer (type)                 Output Shape              Param #   \n",
      "=================================================================\n",
      "dense_24 (Dense)             (None, 13)                182       \n",
      "_________________________________________________________________\n",
      "dense_25 (Dense)             (None, 13)                182       \n",
      "_________________________________________________________________\n",
      "dense_26 (Dense)             (None, 13)                182       \n",
      "_________________________________________________________________\n",
      "dense_27 (Dense)             (None, 1)                 14        \n",
      "=================================================================\n",
      "Total params: 560\n",
      "Trainable params: 560\n",
      "Non-trainable params: 0\n",
      "_________________________________________________________________\n"
     ]
    }
   ],
   "source": [
    "from keras.models import Sequential\n",
    "from keras.layers import Dense, Activation\n",
    "\n",
    "\n",
    "model = Sequential([\n",
    "    Dense(13, input_shape=(13,)),\n",
    "    Dense(13),\n",
    "    Dense(13),\n",
    "])\n",
    "\n",
    "model.add(Dense(1, input_shape=(13,)))\n",
    "\n",
    "\n",
    "model.compile(optimizer='rmsprop',\n",
    "             loss='mse', \n",
    "             metrics=['mae'])\n",
    "\n",
    "\n",
    "\n",
    "model.summary()"
   ]
  },
  {
   "cell_type": "code",
   "execution_count": 38,
   "metadata": {},
   "outputs": [
    {
     "name": "stdout",
     "output_type": "stream",
     "text": [
      "Train on 363 samples, validate on 41 samples\n",
      "Epoch 1/100\n",
      "363/363 [==============================] - 0s 223us/step - loss: 18732.2124 - mae: 127.6806 - val_loss: 2818.5950 - val_mae: 51.8938\n",
      "Epoch 2/100\n",
      "363/363 [==============================] - 0s 16us/step - loss: 1883.3209 - mae: 39.2981 - val_loss: 528.9257 - val_mae: 20.4769\n",
      "Epoch 3/100\n",
      "363/363 [==============================] - 0s 14us/step - loss: 574.1859 - mae: 20.5311 - val_loss: 251.5125 - val_mae: 13.5506\n",
      "Epoch 4/100\n",
      "363/363 [==============================] - 0s 17us/step - loss: 372.7321 - mae: 15.9052 - val_loss: 166.3416 - val_mae: 10.8690\n",
      "Epoch 5/100\n",
      "363/363 [==============================] - 0s 17us/step - loss: 279.9379 - mae: 13.3852 - val_loss: 129.1844 - val_mae: 9.7394\n",
      "Epoch 6/100\n",
      "363/363 [==============================] - 0s 17us/step - loss: 236.6748 - mae: 12.2264 - val_loss: 127.1764 - val_mae: 9.5642\n",
      "Epoch 7/100\n",
      "363/363 [==============================] - 0s 17us/step - loss: 223.7457 - mae: 11.8114 - val_loss: 114.3024 - val_mae: 8.8909\n",
      "Epoch 8/100\n",
      "363/363 [==============================] - 0s 16us/step - loss: 197.6881 - mae: 11.0621 - val_loss: 113.9900 - val_mae: 8.7686\n",
      "Epoch 9/100\n",
      "363/363 [==============================] - 0s 16us/step - loss: 188.8499 - mae: 10.7106 - val_loss: 115.1124 - val_mae: 8.7598\n",
      "Epoch 10/100\n",
      "363/363 [==============================] - 0s 19us/step - loss: 189.4860 - mae: 10.6857 - val_loss: 112.3061 - val_mae: 8.5993\n",
      "Epoch 11/100\n",
      "363/363 [==============================] - 0s 19us/step - loss: 187.2169 - mae: 10.4967 - val_loss: 152.7678 - val_mae: 9.6755\n",
      "Epoch 12/100\n",
      "363/363 [==============================] - 0s 22us/step - loss: 272.3997 - mae: 13.0592 - val_loss: 141.3397 - val_mae: 9.3331\n",
      "Epoch 13/100\n",
      "363/363 [==============================] - 0s 16us/step - loss: 165.7015 - mae: 9.9242 - val_loss: 203.6425 - val_mae: 10.9495\n",
      "Epoch 14/100\n",
      "363/363 [==============================] - 0s 19us/step - loss: 197.8630 - mae: 11.1267 - val_loss: 243.6777 - val_mae: 12.3017\n",
      "Epoch 15/100\n",
      "363/363 [==============================] - 0s 19us/step - loss: 404.2688 - mae: 16.2412 - val_loss: 318.9228 - val_mae: 14.9984\n",
      "Epoch 16/100\n",
      "363/363 [==============================] - 0s 19us/step - loss: 200.0804 - mae: 11.2209 - val_loss: 86.1319 - val_mae: 7.4730\n",
      "Epoch 17/100\n",
      "363/363 [==============================] - 0s 17us/step - loss: 130.0293 - mae: 8.7088 - val_loss: 82.6698 - val_mae: 7.1490\n",
      "Epoch 18/100\n",
      "363/363 [==============================] - 0s 17us/step - loss: 175.1541 - mae: 10.0037 - val_loss: 366.1774 - val_mae: 16.0398\n",
      "Epoch 19/100\n",
      "363/363 [==============================] - 0s 17us/step - loss: 369.2168 - mae: 15.7530 - val_loss: 68.5715 - val_mae: 6.5032\n",
      "Epoch 20/100\n",
      "363/363 [==============================] - 0s 19us/step - loss: 113.1726 - mae: 8.0231 - val_loss: 68.6744 - val_mae: 6.4203\n",
      "Epoch 21/100\n",
      "363/363 [==============================] - 0s 17us/step - loss: 130.4186 - mae: 8.8189 - val_loss: 165.1878 - val_mae: 10.6853\n",
      "Epoch 22/100\n",
      "363/363 [==============================] - 0s 19us/step - loss: 217.0479 - mae: 12.3651 - val_loss: 174.0023 - val_mae: 10.9506\n",
      "Epoch 23/100\n",
      "363/363 [==============================] - 0s 19us/step - loss: 224.9214 - mae: 12.1065 - val_loss: 192.1617 - val_mae: 11.5030\n",
      "Epoch 24/100\n",
      "363/363 [==============================] - 0s 19us/step - loss: 173.3258 - mae: 10.6203 - val_loss: 143.3081 - val_mae: 9.7585\n",
      "Epoch 25/100\n",
      "363/363 [==============================] - 0s 14us/step - loss: 184.2145 - mae: 10.7602 - val_loss: 92.9078 - val_mae: 7.8103\n",
      "Epoch 26/100\n",
      "363/363 [==============================] - 0s 17us/step - loss: 160.1742 - mae: 10.1068 - val_loss: 88.7598 - val_mae: 7.6032\n",
      "Epoch 27/100\n",
      "363/363 [==============================] - 0s 19us/step - loss: 103.0084 - mae: 7.7812 - val_loss: 71.9773 - val_mae: 6.8810\n",
      "Epoch 28/100\n",
      "363/363 [==============================] - 0s 19us/step - loss: 218.2687 - mae: 11.8219 - val_loss: 223.2734 - val_mae: 12.8448\n",
      "Epoch 29/100\n",
      "363/363 [==============================] - 0s 14us/step - loss: 198.4924 - mae: 11.5112 - val_loss: 62.7107 - val_mae: 6.3521\n",
      "Epoch 30/100\n",
      "363/363 [==============================] - 0s 17us/step - loss: 99.4073 - mae: 7.5294 - val_loss: 83.6372 - val_mae: 7.4435\n",
      "Epoch 31/100\n",
      "363/363 [==============================] - 0s 19us/step - loss: 89.7277 - mae: 7.2195 - val_loss: 63.9961 - val_mae: 6.3715\n",
      "Epoch 32/100\n",
      "363/363 [==============================] - 0s 22us/step - loss: 211.0483 - mae: 11.8894 - val_loss: 247.9849 - val_mae: 13.5350\n",
      "Epoch 33/100\n",
      "363/363 [==============================] - 0s 17us/step - loss: 210.8213 - mae: 11.8687 - val_loss: 70.2421 - val_mae: 6.7453\n",
      "Epoch 34/100\n",
      "363/363 [==============================] - 0s 17us/step - loss: 116.1965 - mae: 8.6886 - val_loss: 73.5716 - val_mae: 7.0491\n",
      "Epoch 35/100\n",
      "363/363 [==============================] - 0s 17us/step - loss: 131.7994 - mae: 9.2715 - val_loss: 98.1655 - val_mae: 8.1819\n",
      "Epoch 36/100\n",
      "363/363 [==============================] - 0s 17us/step - loss: 131.6009 - mae: 9.0054 - val_loss: 92.5751 - val_mae: 7.6011\n",
      "Epoch 37/100\n",
      "363/363 [==============================] - 0s 14us/step - loss: 200.4793 - mae: 11.7771 - val_loss: 146.4488 - val_mae: 10.1137\n",
      "Epoch 38/100\n",
      "363/363 [==============================] - 0s 22us/step - loss: 152.6088 - mae: 9.9824 - val_loss: 57.7842 - val_mae: 6.0076\n",
      "Epoch 39/100\n",
      "363/363 [==============================] - 0s 17us/step - loss: 90.5633 - mae: 7.2760 - val_loss: 100.9328 - val_mae: 8.2218\n",
      "Epoch 40/100\n",
      "363/363 [==============================] - 0s 19us/step - loss: 187.4399 - mae: 11.5329 - val_loss: 129.0633 - val_mae: 9.4016\n",
      "Epoch 41/100\n",
      "363/363 [==============================] - 0s 17us/step - loss: 175.5922 - mae: 11.0418 - val_loss: 109.8446 - val_mae: 8.5834\n",
      "Epoch 42/100\n",
      "363/363 [==============================] - 0s 19us/step - loss: 132.3892 - mae: 9.2078 - val_loss: 60.4731 - val_mae: 6.2462\n",
      "Epoch 43/100\n",
      "363/363 [==============================] - 0s 14us/step - loss: 61.6756 - mae: 5.9418 - val_loss: 79.7704 - val_mae: 6.7764\n",
      "Epoch 44/100\n",
      "363/363 [==============================] - 0s 17us/step - loss: 81.8853 - mae: 6.9851 - val_loss: 201.9779 - val_mae: 12.6000\n",
      "Epoch 45/100\n",
      "363/363 [==============================] - 0s 17us/step - loss: 280.9054 - mae: 14.3189 - val_loss: 157.7132 - val_mae: 11.1253\n",
      "Epoch 46/100\n",
      "363/363 [==============================] - 0s 14us/step - loss: 149.7303 - mae: 10.2276 - val_loss: 77.0073 - val_mae: 6.6941\n",
      "Epoch 47/100\n",
      "363/363 [==============================] - 0s 19us/step - loss: 73.6558 - mae: 6.5318 - val_loss: 57.6390 - val_mae: 5.3948\n",
      "Epoch 48/100\n",
      "363/363 [==============================] - 0s 22us/step - loss: 74.8822 - mae: 6.6606 - val_loss: 133.0634 - val_mae: 9.8158\n",
      "Epoch 49/100\n",
      "363/363 [==============================] - 0s 17us/step - loss: 231.4334 - mae: 12.8041 - val_loss: 188.5101 - val_mae: 12.2427\n",
      "Epoch 50/100\n",
      "363/363 [==============================] - 0s 17us/step - loss: 95.8337 - mae: 7.7839 - val_loss: 83.9346 - val_mae: 7.1351\n",
      "Epoch 51/100\n",
      "363/363 [==============================] - 0s 22us/step - loss: 103.0346 - mae: 7.8384 - val_loss: 170.8951 - val_mae: 11.4310\n",
      "Epoch 52/100\n",
      "363/363 [==============================] - 0s 19us/step - loss: 143.9659 - mae: 9.6958 - val_loss: 148.8490 - val_mae: 10.4201\n",
      "Epoch 53/100\n",
      "363/363 [==============================] - 0s 17us/step - loss: 133.7708 - mae: 9.7603 - val_loss: 72.6689 - val_mae: 6.2482\n",
      "Epoch 54/100\n",
      "363/363 [==============================] - 0s 17us/step - loss: 78.3880 - mae: 6.8026 - val_loss: 122.9604 - val_mae: 9.0321\n",
      "Epoch 55/100\n",
      "363/363 [==============================] - 0s 17us/step - loss: 122.8867 - mae: 9.0417 - val_loss: 179.9262 - val_mae: 11.7657\n",
      "Epoch 56/100\n",
      "363/363 [==============================] - 0s 22us/step - loss: 126.4750 - mae: 9.2827 - val_loss: 174.3409 - val_mae: 11.5080\n",
      "Epoch 57/100\n",
      "363/363 [==============================] - 0s 17us/step - loss: 186.8869 - mae: 11.6032 - val_loss: 130.3356 - val_mae: 9.4671\n",
      "Epoch 58/100\n",
      "363/363 [==============================] - 0s 17us/step - loss: 111.2366 - mae: 8.5034 - val_loss: 113.7660 - val_mae: 9.0220\n",
      "Epoch 59/100\n",
      "363/363 [==============================] - 0s 19us/step - loss: 88.9806 - mae: 7.4774 - val_loss: 86.8943 - val_mae: 7.2009\n",
      "Epoch 60/100\n",
      "363/363 [==============================] - 0s 17us/step - loss: 67.9779 - mae: 6.2997 - val_loss: 148.9281 - val_mae: 10.4910\n",
      "Epoch 61/100\n",
      "363/363 [==============================] - 0s 19us/step - loss: 223.1242 - mae: 12.8909 - val_loss: 245.4094 - val_mae: 13.9241\n",
      "Epoch 62/100\n",
      "363/363 [==============================] - 0s 19us/step - loss: 135.1934 - mae: 9.4182 - val_loss: 58.9023 - val_mae: 5.7318\n",
      "Epoch 63/100\n",
      "363/363 [==============================] - 0s 19us/step - loss: 75.3033 - mae: 6.7493 - val_loss: 82.8125 - val_mae: 7.0871\n",
      "Epoch 64/100\n",
      "363/363 [==============================] - 0s 19us/step - loss: 71.4456 - mae: 6.6263 - val_loss: 107.9537 - val_mae: 8.5313\n",
      "Epoch 65/100\n",
      "363/363 [==============================] - 0s 21us/step - loss: 171.8236 - mae: 10.9943 - val_loss: 168.8678 - val_mae: 11.3486\n",
      "Epoch 66/100\n",
      "363/363 [==============================] - 0s 19us/step - loss: 122.5711 - mae: 9.1415 - val_loss: 118.6353 - val_mae: 8.9086\n",
      "Epoch 67/100\n",
      "363/363 [==============================] - 0s 17us/step - loss: 94.6208 - mae: 7.7937 - val_loss: 251.0777 - val_mae: 14.1747\n",
      "Epoch 68/100\n",
      "363/363 [==============================] - 0s 22us/step - loss: 164.2272 - mae: 10.8774 - val_loss: 134.2005 - val_mae: 10.0079\n",
      "Epoch 69/100\n",
      "363/363 [==============================] - 0s 17us/step - loss: 93.8331 - mae: 7.7451 - val_loss: 133.4488 - val_mae: 9.6827\n",
      "Epoch 70/100\n",
      "363/363 [==============================] - 0s 25us/step - loss: 169.0494 - mae: 10.9511 - val_loss: 85.6334 - val_mae: 7.2175\n",
      "Epoch 71/100\n",
      "363/363 [==============================] - 0s 397us/step - loss: 66.9076 - mae: 6.2023 - val_loss: 101.3261 - val_mae: 8.1005\n",
      "Epoch 72/100\n",
      "363/363 [==============================] - 0s 17us/step - loss: 89.2779 - mae: 7.2778 - val_loss: 174.0544 - val_mae: 11.5484\n",
      "Epoch 73/100\n",
      "363/363 [==============================] - 0s 19us/step - loss: 218.9561 - mae: 12.7513 - val_loss: 90.6297 - val_mae: 7.5117\n",
      "Epoch 74/100\n",
      "363/363 [==============================] - 0s 17us/step - loss: 85.0406 - mae: 7.2180 - val_loss: 84.6562 - val_mae: 6.8727\n",
      "Epoch 75/100\n",
      "363/363 [==============================] - 0s 17us/step - loss: 88.5457 - mae: 7.2251 - val_loss: 166.4005 - val_mae: 11.3132\n",
      "Epoch 76/100\n",
      "363/363 [==============================] - 0s 17us/step - loss: 152.2822 - mae: 10.3180 - val_loss: 101.3909 - val_mae: 8.2804\n",
      "Epoch 77/100\n",
      "363/363 [==============================] - 0s 22us/step - loss: 104.2479 - mae: 8.2414 - val_loss: 100.8103 - val_mae: 8.1551\n",
      "Epoch 78/100\n",
      "363/363 [==============================] - 0s 22us/step - loss: 163.3310 - mae: 10.8647 - val_loss: 145.9830 - val_mae: 10.3272\n",
      "Epoch 79/100\n",
      "363/363 [==============================] - 0s 19us/step - loss: 131.5194 - mae: 9.5145 - val_loss: 62.2863 - val_mae: 6.0069\n",
      "Epoch 80/100\n",
      "363/363 [==============================] - 0s 17us/step - loss: 50.4845 - mae: 5.4127 - val_loss: 42.3695 - val_mae: 4.8112\n",
      "Epoch 81/100\n",
      "363/363 [==============================] - 0s 17us/step - loss: 64.1200 - mae: 6.3601 - val_loss: 155.9525 - val_mae: 10.5107\n",
      "Epoch 82/100\n",
      "363/363 [==============================] - 0s 19us/step - loss: 250.8447 - mae: 13.8945 - val_loss: 127.2783 - val_mae: 9.4549\n",
      "Epoch 83/100\n",
      "363/363 [==============================] - 0s 17us/step - loss: 93.9227 - mae: 7.5378 - val_loss: 40.5600 - val_mae: 4.6149\n",
      "Epoch 84/100\n",
      "363/363 [==============================] - 0s 17us/step - loss: 48.2284 - mae: 5.3493 - val_loss: 41.7273 - val_mae: 4.7758\n",
      "Epoch 85/100\n",
      "363/363 [==============================] - 0s 19us/step - loss: 123.5951 - mae: 8.8630 - val_loss: 170.8623 - val_mae: 11.3621\n",
      "Epoch 86/100\n",
      "363/363 [==============================] - 0s 17us/step - loss: 166.2158 - mae: 10.9547 - val_loss: 99.5405 - val_mae: 7.9240\n",
      "Epoch 87/100\n",
      "363/363 [==============================] - 0s 17us/step - loss: 120.1611 - mae: 9.1429 - val_loss: 62.4148 - val_mae: 6.0210\n",
      "Epoch 88/100\n",
      "363/363 [==============================] - 0s 14us/step - loss: 87.6954 - mae: 7.4488 - val_loss: 71.0527 - val_mae: 6.5704\n",
      "Epoch 89/100\n",
      "363/363 [==============================] - 0s 14us/step - loss: 112.2080 - mae: 8.6467 - val_loss: 51.6351 - val_mae: 5.5252\n",
      "Epoch 90/100\n",
      "363/363 [==============================] - 0s 17us/step - loss: 66.7811 - mae: 6.4243 - val_loss: 54.0288 - val_mae: 5.6182\n",
      "Epoch 91/100\n",
      "363/363 [==============================] - 0s 17us/step - loss: 107.6483 - mae: 8.4804 - val_loss: 145.5412 - val_mae: 10.4052\n",
      "Epoch 92/100\n",
      "363/363 [==============================] - 0s 36us/step - loss: 159.0311 - mae: 10.6413 - val_loss: 78.3960 - val_mae: 6.7968\n",
      "Epoch 93/100\n",
      "363/363 [==============================] - 0s 14us/step - loss: 109.2410 - mae: 8.4877 - val_loss: 58.7295 - val_mae: 5.8126\n",
      "Epoch 94/100\n",
      "363/363 [==============================] - 0s 17us/step - loss: 86.9857 - mae: 7.3856 - val_loss: 87.5974 - val_mae: 7.5699\n",
      "Epoch 95/100\n",
      "363/363 [==============================] - 0s 17us/step - loss: 123.1043 - mae: 9.2950 - val_loss: 74.0209 - val_mae: 6.9895\n",
      "Epoch 96/100\n",
      "363/363 [==============================] - 0s 17us/step - loss: 114.8164 - mae: 8.7113 - val_loss: 74.1930 - val_mae: 6.8767\n",
      "Epoch 97/100\n",
      "363/363 [==============================] - 0s 17us/step - loss: 101.1318 - mae: 8.3153 - val_loss: 62.1281 - val_mae: 6.0804\n",
      "Epoch 98/100\n",
      "363/363 [==============================] - 0s 17us/step - loss: 83.1167 - mae: 7.2949 - val_loss: 105.6034 - val_mae: 8.3446\n",
      "Epoch 99/100\n",
      "363/363 [==============================] - 0s 17us/step - loss: 159.9781 - mae: 10.9113 - val_loss: 84.3666 - val_mae: 7.4728\n",
      "Epoch 100/100\n",
      "363/363 [==============================] - 0s 16us/step - loss: 87.4110 - mae: 7.5325 - val_loss: 40.3495 - val_mae: 4.6226\n",
      "102/102 [==============================] - 0s 29us/step\n",
      "['loss', 'mae']\n"
     ]
    }
   ],
   "source": [
    "history = model.fit(x_train, y_train, batch_size=100, epochs=100, validation_split=.10)\n",
    "scores = model.evaluate(x_test, y_test)\n",
    "print(model.metrics_names)\n"
   ]
  },
  {
   "cell_type": "code",
   "execution_count": 41,
   "metadata": {},
   "outputs": [],
   "source": [
    "import matplotlib.pyplot as plt"
   ]
  },
  {
   "cell_type": "code",
   "execution_count": 50,
   "metadata": {},
   "outputs": [
    {
     "data": {
      "image/png": "[encoded data removed]",
      "text/plain": [
       "<Figure size 432x288 with 1 Axes>"
      ]
     },
     "metadata": {
      "needs_background": "light"
     },
     "output_type": "display_data"
    }
   ],
   "source": [
    "plt.plot(history.history['mae'])\n",
    "plt.plot(history.history['val_mae'])\n",
    "plt.title('Model accuracy')\n",
    "plt.ylabel('Mean Absolute Error')\n",
    "plt.xlabel('Epoch')\n",
    "plt.legend(['Train', 'Test'], loc='upper left')\n",
    "plt.show()"
   ]
  },
  {
   "cell_type": "code",
   "execution_count": 49,
   "metadata": {},
   "outputs": [
    {
     "data": {
      "image/png": "[encoded data removed]",
      "text/plain": [
       "<Figure size 432x288 with 1 Axes>"
      ]
     },
     "metadata": {
      "needs_background": "light"
     },
     "output_type": "display_data"
    }
   ],
   "source": [
    "plt.plot(history.history['loss'])\n",
    "plt.plot(history.history['val_loss'])\n",
    "plt.title('Model loss')\n",
    "plt.ylabel('Loss')\n",
    "plt.xlabel('Epoch')\n",
    "plt.legend(['Train', 'Test'], loc='upper left')\n",
    "plt.show()"
   ]
  },
  {
   "cell_type": "markdown",
   "metadata": {
    "colab_type": "text",
    "id": "SfcFnOONyuNm"
   },
   "source": [
    "## Use the Keras Library to build an image recognition network using the Fashion-MNIST dataset (also comes with keras)\n",
    "\n",
    "- Load and preprocess the image data similar to how we preprocessed the MNIST data in class.\n",
    "- Make sure to one-hot encode your category labels\n",
    "- Make sure to have your final layer have as many nodes as the number of classes that you want to predict.\n",
    "- Try different hyperparameters. What is the highest accuracy that you are able to achieve.\n",
    "- Use the history object that is returned from model.fit to make graphs of the model's loss or train/validation accuracies by epoch. \n",
    "- Remember that neural networks fall prey to randomness so you may need to run your model multiple times (or use Cross Validation) in order to tell if a change to a hyperparameter is truly producing better results."
   ]
  },
  {
   "cell_type": "code",
   "execution_count": null,
   "metadata": {
    "colab": {},
    "colab_type": "code",
    "id": "szi6-IpuzaH1"
   },
   "outputs": [],
   "source": [
    "##### Your Code Here #####"
   ]
  },
  {
   "cell_type": "markdown",
   "metadata": {
    "colab_type": "text",
    "id": "zv_3xNMjzdLI"
   },
   "source": [
    "## Stretch Goals:\n",
    "\n",
    "- Use Hyperparameter Tuning to make the accuracy of your models as high as possible. (error as low as possible)\n",
    "- Use Cross Validation techniques to get more consistent results with your model.\n",
    "- Use GridSearchCV to try different combinations of hyperparameters. \n",
    "- Start looking into other types of Keras layers for CNNs and RNNs maybe try and build a CNN model for fashion-MNIST to see how the results compare."
   ]
  }
 ],
 "metadata": {
  "colab": {
   "name": "LS_DS_433_Keras_Assignment.ipynb",
   "provenance": [],
   "version": "0.3.2"
  },
  "kernelspec": {
   "display_name": "Python 3",
   "language": "python",
   "name": "python3"
  },
  "language_info": {
   "codemirror_mode": {
    "name": "ipython",
    "version": 3
   },
   "file_extension": ".py",
   "mimetype": "text/x-python",
   "name": "python",
   "nbconvert_exporter": "python",
   "pygments_lexer": "ipython3",
   "version": "3.7.6"
  }
 },
 "nbformat": 4,
 "nbformat_minor": 2
}
