{
  "nbformat": 4,
  "nbformat_minor": 0,
  "metadata": {
    "colab": {
      "name": "LS_DS_433_Keras_Assignment.ipynb",
      "provenance": []
    },
    "kernelspec": {
      "display_name": "Python 3",
      "language": "python",
      "name": "python3"
    },
    "language_info": {
      "codemirror_mode": {
        "name": "ipython",
        "version": 3
      },
      "file_extension": ".py",
      "mimetype": "text/x-python",
      "name": "python",
      "nbconvert_exporter": "python",
      "pygments_lexer": "ipython3",
      "version": "3.7.3"
    }
  },
  "cells": [
    {
      "cell_type": "markdown",
      "metadata": {
        "colab_type": "text",
        "id": "pBQsZEJmubLs"
      },
      "source": [
        "<img align=\"left\" src=\"https://lever-client-logos.s3.amazonaws.com/864372b1-534c-480e-acd5-9711f850815c-1524247202159.png\" width=200>\n",
        "<br></br>\n",
        "\n",
        "# Neural Network Framework (Keras)\n",
        "\n",
        "## *Data Science Unit 4 Sprint 2 Assignmnet 3*\n",
        "\n",
        "## Use the Keras Library to build a Multi-Layer Perceptron Model on the Boston Housing dataset\n",
        "\n",
        "- The Boston Housing dataset comes with the Keras library so use Keras to import it into your notebook. \n",
        "- Normalize the data (all features should have roughly the same scale)\n",
        "- Import the type of model and layers that you will need from Keras.\n",
        "- Instantiate a model object and use `model.add()` to add layers to your model\n",
        "- Since this is a regression model you will have a single output node in the final layer.\n",
        "- Use activation functions that are appropriate for this task\n",
        "- Compile your model\n",
        "- Fit your model and report its accuracy in terms of Mean Squared Error\n",
        "- Use the history object that is returned from model.fit to make graphs of the model's loss or train/validation accuracies by epoch. \n",
        "- Run this same data through a linear regression model. Which achieves higher accuracy?\n",
        "- Do a little bit of feature engineering and see how that affects your neural network model. (you will need to change your model to accept more inputs)\n",
        "- After feature engineering, which model sees a greater accuracy boost due to the new features?"
      ]
    },
    {
      "cell_type": "code",
      "metadata": {
        "colab_type": "code",
        "id": "8NLTAR87uYJ-",
        "outputId": "a867c273-2035-4b75-a734-1fc1590dbfad",
        "colab": {
          "base_uri": "https://localhost:8080/",
          "height": 101
        }
      },
      "source": [
        "# Scikit-learn\n",
        "from sklearn.linear_model import LinearRegression\n",
        "from sklearn.metrics import accuracy_score, mean_squared_error\n",
        "from sklearn.preprocessing import Normalizer\n",
        "\n",
        "# TensorFlow and tf.keras\n",
        "import tensorflow as tf\n",
        "from tensorflow import keras\n",
        "\n",
        "# Helper libraries\n",
        "import numpy as np\n",
        "import matplotlib.pyplot as plt\n",
        "\n",
        "print(tf.__version__)"
      ],
      "execution_count": 1,
      "outputs": [
        {
          "output_type": "display_data",
          "data": {
            "text/html": [
              "<p style=\"color: red;\">\n",
              "The default version of TensorFlow in Colab will soon switch to TensorFlow 2.x.<br>\n",
              "We recommend you <a href=\"https://www.tensorflow.org/guide/migrate\" target=\"_blank\">upgrade</a> now \n",
              "or ensure your notebook will continue to use TensorFlow 1.x via the <code>%tensorflow_version 1.x</code> magic:\n",
              "<a href=\"https://colab.research.google.com/notebooks/tensorflow_version.ipynb\" target=\"_blank\">more info</a>.</p>\n"
            ],
            "text/plain": [
              "<IPython.core.display.HTML object>"
            ]
          },
          "metadata": {
            "tags": []
          }
        },
        {
          "output_type": "stream",
          "text": [
            "1.15.0\n"
          ],
          "name": "stdout"
        }
      ]
    },
    {
      "cell_type": "markdown",
      "metadata": {
        "id": "OKwraUEFlrx3",
        "colab_type": "text"
      },
      "source": [
        "### Import the  Boston Housing dataset.\n",
        "\n",
        "The Boston Housing dataset comes with the Keras library, so use Keras to import it into your notebook."
      ]
    },
    {
      "cell_type": "code",
      "metadata": {
        "id": "0PPe9YMmFp0L",
        "colab_type": "code",
        "colab": {}
      },
      "source": [
        "# Load housing data.\n",
        "boston_housing = keras.datasets.boston_housing\n",
        "(x_train_bh, y_train_bh), (x_test_bh, y_test_bh) = boston_housing.load_data()"
      ],
      "execution_count": 0,
      "outputs": []
    },
    {
      "cell_type": "code",
      "metadata": {
        "id": "6nc8rS8rp464",
        "colab_type": "code",
        "outputId": "9172fcc4-9572-4f3d-e0f4-05ad8724139e",
        "colab": {
          "base_uri": "https://localhost:8080/",
          "height": 35
        }
      },
      "source": [
        "x_train_bh.shape"
      ],
      "execution_count": 3,
      "outputs": [
        {
          "output_type": "execute_result",
          "data": {
            "text/plain": [
              "(404, 13)"
            ]
          },
          "metadata": {
            "tags": []
          },
          "execution_count": 3
        }
      ]
    },
    {
      "cell_type": "code",
      "metadata": {
        "id": "PEggbEcCp7W4",
        "colab_type": "code",
        "outputId": "5b3d0bf2-8fc5-4ae2-ff93-41affa39e53f",
        "colab": {
          "base_uri": "https://localhost:8080/",
          "height": 35
        }
      },
      "source": [
        "x_test_bh.shape"
      ],
      "execution_count": 4,
      "outputs": [
        {
          "output_type": "execute_result",
          "data": {
            "text/plain": [
              "(102, 13)"
            ]
          },
          "metadata": {
            "tags": []
          },
          "execution_count": 4
        }
      ]
    },
    {
      "cell_type": "markdown",
      "metadata": {
        "id": "Dt3W99wwl2p5",
        "colab_type": "text"
      },
      "source": [
        "### Normalize the data.\n",
        "\n",
        "All features should have roughly the same scale."
      ]
    },
    {
      "cell_type": "code",
      "metadata": {
        "id": "2a5sn0xBloMp",
        "colab_type": "code",
        "colab": {}
      },
      "source": [
        "normalizer = Normalizer()"
      ],
      "execution_count": 0,
      "outputs": []
    },
    {
      "cell_type": "code",
      "metadata": {
        "id": "z1zLgZvEmdg6",
        "colab_type": "code",
        "colab": {}
      },
      "source": [
        "x_train_bh = normalizer.fit_transform(x_train_bh)\n",
        "x_test_bh = normalizer.transform(x_test_bh)"
      ],
      "execution_count": 0,
      "outputs": []
    },
    {
      "cell_type": "markdown",
      "metadata": {
        "id": "fEtXUWMXmoaH",
        "colab_type": "text"
      },
      "source": [
        "### Instantiate a model object and use model.add() to add layers to your model.\n",
        "\n",
        "Since this is a regression model you will have a single output node in the final layer. Use activation functions that are appropriate for this task."
      ]
    },
    {
      "cell_type": "code",
      "metadata": {
        "id": "St1QKu_Sosj4",
        "colab_type": "code",
        "colab": {}
      },
      "source": [
        "model = keras.Sequential()"
      ],
      "execution_count": 0,
      "outputs": []
    },
    {
      "cell_type": "code",
      "metadata": {
        "id": "YMNucHslphFw",
        "colab_type": "code",
        "colab": {
          "base_uri": "https://localhost:8080/",
          "height": 92
        },
        "outputId": "e8b3e2a5-69fb-4597-db3d-361b4d1a6cff"
      },
      "source": [
        "model.add(keras.layers.Dense(1, input_dim=13, activation='relu'))\n",
        "model.add(keras.layers.Dense(1))"
      ],
      "execution_count": 8,
      "outputs": [
        {
          "output_type": "stream",
          "text": [
            "WARNING:tensorflow:From /usr/local/lib/python3.6/dist-packages/tensorflow_core/python/ops/resource_variable_ops.py:1630: calling BaseResourceVariable.__init__ (from tensorflow.python.ops.resource_variable_ops) with constraint is deprecated and will be removed in a future version.\n",
            "Instructions for updating:\n",
            "If using Keras pass *_constraint arguments to layers.\n"
          ],
          "name": "stdout"
        }
      ]
    },
    {
      "cell_type": "markdown",
      "metadata": {
        "id": "skfynbF180fU",
        "colab_type": "text"
      },
      "source": [
        "### Compile your model."
      ]
    },
    {
      "cell_type": "code",
      "metadata": {
        "id": "NtUEago382Gr",
        "colab_type": "code",
        "colab": {}
      },
      "source": [
        "model.compile(loss='mean_squared_error', optimizer='adam')"
      ],
      "execution_count": 0,
      "outputs": []
    },
    {
      "cell_type": "markdown",
      "metadata": {
        "id": "HhofTZGc82QL",
        "colab_type": "text"
      },
      "source": [
        "### Fit your model.\n",
        "\n",
        "Report its accuracy in terms of Mean Squared Error."
      ]
    },
    {
      "cell_type": "code",
      "metadata": {
        "id": "RHOC0lBA81pz",
        "colab_type": "code",
        "colab": {}
      },
      "source": [
        "history_bh = model.fit(x_train_bh, y_train_bh, epochs=50, validation_split=0.2, verbose=False)"
      ],
      "execution_count": 0,
      "outputs": []
    },
    {
      "cell_type": "code",
      "metadata": {
        "id": "eSaSmTVC9cKG",
        "colab_type": "code",
        "colab": {}
      },
      "source": [
        "predictions_bh_nn = model.predict(x_train_bh)"
      ],
      "execution_count": 0,
      "outputs": []
    },
    {
      "cell_type": "code",
      "metadata": {
        "id": "7ZopDMts9sGb",
        "colab_type": "code",
        "colab": {
          "base_uri": "https://localhost:8080/",
          "height": 35
        },
        "outputId": "7ef358b3-f7fe-4ad0-e538-80d89061dc2d"
      },
      "source": [
        "# Neural network training set error.\n",
        "mean_squared_error(y_train_bh, predictions_bh_nn)"
      ],
      "execution_count": 12,
      "outputs": [
        {
          "output_type": "execute_result",
          "data": {
            "text/plain": [
              "472.1028108652082"
            ]
          },
          "metadata": {
            "tags": []
          },
          "execution_count": 12
        }
      ]
    },
    {
      "cell_type": "code",
      "metadata": {
        "id": "GndIOnq4_91l",
        "colab_type": "code",
        "colab": {
          "base_uri": "https://localhost:8080/",
          "height": 35
        },
        "outputId": "3b74010e-e87f-4f45-fb43-017f7d508d62"
      },
      "source": [
        "# Neural network test set error.\n",
        "mean_squared_error(y_test_bh, model.predict(x_test_bh))"
      ],
      "execution_count": 13,
      "outputs": [
        {
          "output_type": "execute_result",
          "data": {
            "text/plain": [
              "498.36918387964676"
            ]
          },
          "metadata": {
            "tags": []
          },
          "execution_count": 13
        }
      ]
    },
    {
      "cell_type": "markdown",
      "metadata": {
        "id": "Z6b8dn4w8157",
        "colab_type": "text"
      },
      "source": [
        "### Make graphs of the model's loss or train/validation accuracies by epoch.\n",
        "\n",
        "Use the history object that is returned from model.fit to generate your graphs."
      ]
    },
    {
      "cell_type": "code",
      "metadata": {
        "id": "sfGlnfu09M17",
        "colab_type": "code",
        "colab": {
          "base_uri": "https://localhost:8080/",
          "height": 295
        },
        "outputId": "090c74b6-f12f-40f7-9942-470b6e27662e"
      },
      "source": [
        "# Plot training & validation loss values\n",
        "plt.plot(history_bh.history['loss'])\n",
        "plt.plot(history_bh.history['val_loss'])\n",
        "plt.title('Model loss')\n",
        "plt.ylabel('Loss')\n",
        "plt.xlabel('Epoch')\n",
        "plt.legend(['Train', 'Validation'], loc='best')\n",
        "plt.show()"
      ],
      "execution_count": 14,
      "outputs": [
        {
          "output_type": "display_data",
          "data": {
            "image/png": "[encoded data removed]",
            "text/plain": [
              "<Figure size 432x288 with 1 Axes>"
            ]
          },
          "metadata": {
            "tags": []
          }
        }
      ]
    },
    {
      "cell_type": "markdown",
      "metadata": {
        "id": "YaP6RW9G9w5T",
        "colab_type": "text"
      },
      "source": [
        "### Run this same data through a linear regression model.\n",
        "\n",
        "Which achieves higher accuracy?"
      ]
    },
    {
      "cell_type": "code",
      "metadata": {
        "id": "KJTb1U1u9xDE",
        "colab_type": "code",
        "colab": {}
      },
      "source": [
        "lr_model = LinearRegression()"
      ],
      "execution_count": 0,
      "outputs": []
    },
    {
      "cell_type": "code",
      "metadata": {
        "id": "wJEuKQEK-VN0",
        "colab_type": "code",
        "colab": {
          "base_uri": "https://localhost:8080/",
          "height": 35
        },
        "outputId": "7c377469-4c1d-43ea-bc69-3efb64eef085"
      },
      "source": [
        "lr_model.fit(x_train_bh, y_train_bh)"
      ],
      "execution_count": 16,
      "outputs": [
        {
          "output_type": "execute_result",
          "data": {
            "text/plain": [
              "LinearRegression(copy_X=True, fit_intercept=True, n_jobs=None, normalize=False)"
            ]
          },
          "metadata": {
            "tags": []
          },
          "execution_count": 16
        }
      ]
    },
    {
      "cell_type": "code",
      "metadata": {
        "id": "SjkUD-M4-ni8",
        "colab_type": "code",
        "colab": {}
      },
      "source": [
        "predictions_bh_lr = lr_model.predict(x_train_bh)"
      ],
      "execution_count": 0,
      "outputs": []
    },
    {
      "cell_type": "code",
      "metadata": {
        "id": "l82OXFRC-wmU",
        "colab_type": "code",
        "colab": {
          "base_uri": "https://localhost:8080/",
          "height": 35
        },
        "outputId": "c47ff699-8e70-4e14-b52a-c3890240ed20"
      },
      "source": [
        "# Linear regression training set error.\n",
        "mean_squared_error(y_train_bh, predictions_bh_lr)"
      ],
      "execution_count": 18,
      "outputs": [
        {
          "output_type": "execute_result",
          "data": {
            "text/plain": [
              "22.77423909605731"
            ]
          },
          "metadata": {
            "tags": []
          },
          "execution_count": 18
        }
      ]
    },
    {
      "cell_type": "code",
      "metadata": {
        "id": "EfNrphviEhNc",
        "colab_type": "code",
        "colab": {
          "base_uri": "https://localhost:8080/",
          "height": 35
        },
        "outputId": "6c4f2883-3057-4b5e-f58e-8b64fbbc3a7a"
      },
      "source": [
        "# Linear regression test set error.\n",
        "mean_squared_error(y_test_bh, lr_model.predict(x_test_bh))"
      ],
      "execution_count": 19,
      "outputs": [
        {
          "output_type": "execute_result",
          "data": {
            "text/plain": [
              "18.16551049349646"
            ]
          },
          "metadata": {
            "tags": []
          },
          "execution_count": 19
        }
      ]
    },
    {
      "cell_type": "markdown",
      "metadata": {
        "id": "C8nhkvuhErxP",
        "colab_type": "text"
      },
      "source": [
        "### Do a little bit of feature engineering.\n",
        "\n",
        "See how it affects your neural network model. (You will need to change your model to accept more inputs.) After feature engineering, which model sees a greater accuracy boost due to the new features?\n",
        "\n",
        "The dataset contains 13 different features:\n",
        " * Per capita crime rate.\n",
        " * The proportion of residential land zoned for lots over 25,000 square feet.\n",
        " * The proportion of non-retail business acres per town.\n",
        " * Charles River dummy variable (= 1 if tract bounds river; 0 otherwise).\n",
        " * Nitric oxides concentration (parts per 10 million).\n",
        " * The average number of rooms per dwelling.\n",
        " * The proportion of owner-occupied units built before 1940.\n",
        " * Weighted distances to five Boston employment centers.\n",
        " * Index of accessibility to radial highways.\n",
        " * Full-value property-tax rate per $10,000.\n",
        " * Pupil-teacher ratio by town.\n",
        " * 1000 * (Bk - 0.63) ** 2 where Bk is the proportion of Black people by town.\n",
        " * Percentage lower status of the population.\n"
      ]
    },
    {
      "cell_type": "code",
      "metadata": {
        "id": "9TudsV4LGA9V",
        "colab_type": "code",
        "colab": {}
      },
      "source": [
        ""
      ],
      "execution_count": 0,
      "outputs": []
    },
    {
      "cell_type": "markdown",
      "metadata": {
        "colab_type": "text",
        "id": "SfcFnOONyuNm"
      },
      "source": [
        "## Use the Keras Library to build an image recognition network using the Fashion-MNIST dataset (also comes with keras)\n",
        "\n",
        "- Load and preprocess the image data similar to how we preprocessed the MNIST data in class.\n",
        "- Make sure to one-hot encode your category labels\n",
        "- Make sure to have your final layer have as many nodes as the number of classes that you want to predict.\n",
        "- Try different hyperparameters. What is the highest accuracy that you are able to achieve?\n",
        "- Use the history object that is returned from model.fit to make graphs of the model's loss or train/validation accuracies by epoch. \n",
        "- Remember that neural networks fall prey to randomness so you may need to run your model multiple times (or use Cross Validation) in order to tell if a change to a hyperparameter is truly producing better results."
      ]
    },
    {
      "cell_type": "markdown",
      "metadata": {
        "id": "Ab7-K_d9Gb_l",
        "colab_type": "text"
      },
      "source": [
        "### Load and preprocess the image data.\n",
        "\n",
        "(similar to how we preprocessed the MNIST data in class)"
      ]
    },
    {
      "cell_type": "code",
      "metadata": {
        "id": "yz9aSyueFTFF",
        "colab_type": "code",
        "colab": {}
      },
      "source": [
        "# Load data.\n",
        "fashion_mnist = keras.datasets.fashion_mnist\n",
        "(x_train_f, y_train_f), (x_test_f, y_test_f) = fashion_mnist.load_data()"
      ],
      "execution_count": 0,
      "outputs": []
    },
    {
      "cell_type": "code",
      "metadata": {
        "colab_type": "code",
        "id": "szi6-IpuzaH1",
        "colab": {}
      },
      "source": [
        "# Each category of image corresponds to a type of clothing or accessory.\n",
        "class_names = ['T-shirt/top', 'Trouser', 'Pullover', 'Dress', 'Coat',\n",
        "               'Sandal', 'Shirt', 'Sneaker', 'Bag', 'Ankle boot']"
      ],
      "execution_count": 0,
      "outputs": []
    },
    {
      "cell_type": "code",
      "metadata": {
        "id": "Qba5PeKLIwVs",
        "colab_type": "code",
        "outputId": "dde3b328-e9c6-4a4f-e994-4d679000066e",
        "colab": {
          "base_uri": "https://localhost:8080/",
          "height": 589
        }
      },
      "source": [
        "# Preview sample data.\n",
        "plt.figure(figsize=(10,10))\n",
        "for i in range(25):\n",
        "    plt.subplot(5,5,i+1)\n",
        "    plt.xticks([])\n",
        "    plt.yticks([])\n",
        "    plt.grid(False)\n",
        "    plt.imshow(x_train_f[i], cmap=plt.cm.binary)\n",
        "    plt.xlabel(class_names[y_train_f[i]])\n",
        "plt.show()"
      ],
      "execution_count": 22,
      "outputs": [
        {
          "output_type": "display_data",
          "data": {
            "image/png": "[encoded data removed]",
            "text/plain": [
              "<Figure size 720x720 with 25 Axes>"
            ]
          },
          "metadata": {
            "tags": []
          }
        }
      ]
    },
    {
      "cell_type": "code",
      "metadata": {
        "id": "UoYPyB-WHg_c",
        "colab_type": "code",
        "outputId": "86e759e5-b725-447b-dc52-a7935e47b6d3",
        "colab": {
          "base_uri": "https://localhost:8080/",
          "height": 35
        }
      },
      "source": [
        "# Check pre-scaling max value.\n",
        "np.amax(x_train_f)"
      ],
      "execution_count": 23,
      "outputs": [
        {
          "output_type": "execute_result",
          "data": {
            "text/plain": [
              "255"
            ]
          },
          "metadata": {
            "tags": []
          },
          "execution_count": 23
        }
      ]
    },
    {
      "cell_type": "code",
      "metadata": {
        "id": "Ar0Nn-9MGqzj",
        "colab_type": "code",
        "colab": {}
      },
      "source": [
        "# Scale values.\n",
        "x_train_f = x_train_f / 255.0\n",
        "x_test_f = x_test_f / 255.0"
      ],
      "execution_count": 0,
      "outputs": []
    },
    {
      "cell_type": "code",
      "metadata": {
        "id": "jrf9Co-jHR9E",
        "colab_type": "code",
        "outputId": "d8130e7e-93dd-43e1-89c6-0f02b5d7ea7f",
        "colab": {
          "base_uri": "https://localhost:8080/",
          "height": 35
        }
      },
      "source": [
        "# Calculate post-scaling maximum (for train set).\n",
        "np.amax(x_train_f)"
      ],
      "execution_count": 25,
      "outputs": [
        {
          "output_type": "execute_result",
          "data": {
            "text/plain": [
              "1.0"
            ]
          },
          "metadata": {
            "tags": []
          },
          "execution_count": 25
        }
      ]
    },
    {
      "cell_type": "code",
      "metadata": {
        "id": "b3QpWRgWHxpz",
        "colab_type": "code",
        "outputId": "b604b86e-9d45-4a03-862a-6948b158bf6c",
        "colab": {
          "base_uri": "https://localhost:8080/",
          "height": 35
        }
      },
      "source": [
        "# Check post-scaling maximum for test set.\n",
        "np.amax(x_test_f)"
      ],
      "execution_count": 26,
      "outputs": [
        {
          "output_type": "execute_result",
          "data": {
            "text/plain": [
              "1.0"
            ]
          },
          "metadata": {
            "tags": []
          },
          "execution_count": 26
        }
      ]
    },
    {
      "cell_type": "markdown",
      "metadata": {
        "id": "m7VIU2ovIIP0",
        "colab_type": "text"
      },
      "source": [
        "### One-hot encode your category labels."
      ]
    },
    {
      "cell_type": "code",
      "metadata": {
        "id": "vhazn-U-IEqz",
        "colab_type": "code",
        "outputId": "ed9dc808-c76c-4665-c1a5-64e9228283a2",
        "colab": {
          "base_uri": "https://localhost:8080/",
          "height": 35
        }
      },
      "source": [
        "# This isn't actually necessary.\n",
        "y_train_f[:6]"
      ],
      "execution_count": 27,
      "outputs": [
        {
          "output_type": "execute_result",
          "data": {
            "text/plain": [
              "array([9, 0, 0, 3, 0, 2], dtype=uint8)"
            ]
          },
          "metadata": {
            "tags": []
          },
          "execution_count": 27
        }
      ]
    },
    {
      "cell_type": "markdown",
      "metadata": {
        "id": "kpkespWAIQcs",
        "colab_type": "text"
      },
      "source": [
        "### Define neural network architecture.\n",
        "\n",
        "Make sure to have your final layer have as many nodes as the number of classes that you want to predict."
      ]
    },
    {
      "cell_type": "code",
      "metadata": {
        "id": "94JylDoLITu1",
        "colab_type": "code",
        "colab": {}
      },
      "source": [
        "model = keras.Sequential([\n",
        "    keras.layers.Flatten(input_shape=(28, 28)),\n",
        "    keras.layers.Dense(128, activation='relu'),\n",
        "    keras.layers.Dense(10, activation='softmax')\n",
        "])"
      ],
      "execution_count": 0,
      "outputs": []
    },
    {
      "cell_type": "code",
      "metadata": {
        "id": "vkYf4zx2JeZE",
        "colab_type": "code",
        "colab": {}
      },
      "source": [
        "model.compile(optimizer='adam',\n",
        "              loss='sparse_categorical_crossentropy',\n",
        "              metrics=['accuracy'])"
      ],
      "execution_count": 0,
      "outputs": []
    },
    {
      "cell_type": "markdown",
      "metadata": {
        "id": "zx_6gkICJi-8",
        "colab_type": "text"
      },
      "source": [
        "### Try different hyperparameters.\n",
        "\n",
        "What is the highest accuracy that you are able to achieve?"
      ]
    },
    {
      "cell_type": "code",
      "metadata": {
        "id": "odajN7QyJmI-",
        "colab_type": "code",
        "colab": {}
      },
      "source": [
        "history_f = model.fit(x_train_f, y_train_f, validation_split=0.1, epochs=10, verbose=False)"
      ],
      "execution_count": 0,
      "outputs": []
    },
    {
      "cell_type": "code",
      "metadata": {
        "id": "BwTWg7qSKsJt",
        "colab_type": "code",
        "outputId": "597977ff-e91a-41e8-93b9-6d13682a581c",
        "colab": {
          "base_uri": "https://localhost:8080/",
          "height": 72
        }
      },
      "source": [
        "train_loss, train_acc = model.evaluate(x_train_f, y_train_f, verbose=2)\n",
        "print('\\nTrain accuracy:', train_acc)"
      ],
      "execution_count": 31,
      "outputs": [
        {
          "output_type": "stream",
          "text": [
            "60000/60000 - 2s - loss: 0.2415 - acc: 0.9109\n",
            "\n",
            "Train accuracy: 0.9108667\n"
          ],
          "name": "stdout"
        }
      ]
    },
    {
      "cell_type": "code",
      "metadata": {
        "id": "zvH2iEQRKLl0",
        "colab_type": "code",
        "outputId": "185bf061-d36e-4c80-a724-dfbc2fabb035",
        "colab": {
          "base_uri": "https://localhost:8080/",
          "height": 72
        }
      },
      "source": [
        "test_loss, test_acc = model.evaluate(x_test_f, y_test_f, verbose=2)\n",
        "print('\\nTest accuracy:', test_acc)"
      ],
      "execution_count": 32,
      "outputs": [
        {
          "output_type": "stream",
          "text": [
            "10000/10000 - 0s - loss: 0.3546 - acc: 0.8808\n",
            "\n",
            "Test accuracy: 0.8808\n"
          ],
          "name": "stdout"
        }
      ]
    },
    {
      "cell_type": "code",
      "metadata": {
        "id": "XUENN4tULOZN",
        "colab_type": "code",
        "colab": {}
      },
      "source": [
        "predictions_f = model.predict(x_test_f)"
      ],
      "execution_count": 0,
      "outputs": []
    },
    {
      "cell_type": "code",
      "metadata": {
        "id": "3DFU9DYMLVMM",
        "colab_type": "code",
        "colab": {}
      },
      "source": [
        "def plot_image(i, predictions_array, true_label, img):\n",
        "  predictions_array, true_label, img = predictions_array, true_label[i], img[i]\n",
        "  plt.grid(False)\n",
        "  plt.xticks([])\n",
        "  plt.yticks([])\n",
        "\n",
        "  plt.imshow(img, cmap=plt.cm.binary)\n",
        "\n",
        "  predicted_label = np.argmax(predictions_array)\n",
        "  if predicted_label == true_label:\n",
        "    color = 'blue'\n",
        "  else:\n",
        "    color = 'red'\n",
        "\n",
        "  plt.xlabel(\"{} {:2.0f}% ({})\".format(class_names[predicted_label],\n",
        "                                100*np.max(predictions_array),\n",
        "                                class_names[true_label]),\n",
        "                                color=color)\n",
        "\n",
        "def plot_value_array(i, predictions_array, true_label):\n",
        "  predictions_array, true_label = predictions_array, true_label[i]\n",
        "  plt.grid(False)\n",
        "  plt.xticks(range(10))\n",
        "  plt.yticks([])\n",
        "  thisplot = plt.bar(range(10), predictions_array, color=\"#777777\")\n",
        "  plt.ylim([0, 1])\n",
        "  predicted_label = np.argmax(predictions_array)\n",
        "\n",
        "  thisplot[predicted_label].set_color('red')\n",
        "  thisplot[true_label].set_color('blue')"
      ],
      "execution_count": 0,
      "outputs": []
    },
    {
      "cell_type": "code",
      "metadata": {
        "id": "pAxXjBSnLcYM",
        "colab_type": "code",
        "outputId": "447848a9-c5df-4c86-8cda-22dc5fa689b3",
        "colab": {
          "base_uri": "https://localhost:8080/",
          "height": 749
        }
      },
      "source": [
        "# Plot the first X test images, their predicted labels, and the true labels.\n",
        "# Color correct predictions in blue and incorrect predictions in red.\n",
        "num_rows = 5\n",
        "num_cols = 3\n",
        "num_images = num_rows*num_cols\n",
        "plt.figure(figsize=(2*2*num_cols, 2*num_rows))\n",
        "for i in range(num_images):\n",
        "  plt.subplot(num_rows, 2*num_cols, 2*i+1)\n",
        "  plot_image(i, predictions_f[i], y_test_f, x_test_f)\n",
        "  plt.subplot(num_rows, 2*num_cols, 2*i+2)\n",
        "  plot_value_array(i, predictions_f[i], y_test_f)\n",
        "plt.tight_layout()\n",
        "plt.show()"
      ],
      "execution_count": 35,
      "outputs": [
        {
          "output_type": "display_data",
          "data": {
            "image/png": "[encoded data removed]",
            "text/plain": [
              "<Figure size 864x720 with 30 Axes>"
            ]
          },
          "metadata": {
            "tags": []
          }
        }
      ]
    },
    {
      "cell_type": "markdown",
      "metadata": {
        "id": "mQdLir5PKPr9",
        "colab_type": "text"
      },
      "source": [
        "### Graph the model's loss or train/validation accuracies by epoch.\n",
        "\n",
        "Use the history object that is returned from model.fit."
      ]
    },
    {
      "cell_type": "code",
      "metadata": {
        "id": "I6EBauOUKY1r",
        "colab_type": "code",
        "outputId": "450f562c-6ba6-429e-f4f5-a40d8137606d",
        "colab": {
          "base_uri": "https://localhost:8080/",
          "height": 295
        }
      },
      "source": [
        "# Plot training & validation loss values\n",
        "plt.plot(history_f.history['loss'])\n",
        "plt.plot(history_f.history['val_loss'])\n",
        "plt.title('Model loss')\n",
        "plt.ylabel('Loss')\n",
        "plt.xlabel('Epoch')\n",
        "plt.legend(['Train', 'Validation'], loc='best')\n",
        "plt.show()"
      ],
      "execution_count": 36,
      "outputs": [
        {
          "output_type": "display_data",
          "data": {
            "image/png": "[encoded data removed]",
            "text/plain": [
              "<Figure size 432x288 with 1 Axes>"
            ]
          },
          "metadata": {
            "tags": []
          }
        }
      ]
    },
    {
      "cell_type": "markdown",
      "metadata": {
        "colab_type": "text",
        "id": "zv_3xNMjzdLI"
      },
      "source": [
        "## Stretch Goals:\n",
        "\n",
        "- Use Hyperparameter Tuning to make the accuracy of your models as high as possible. (error as low as possible)\n",
        "- Use Cross Validation techniques to get more consistent results with your model.\n",
        "- Use GridSearchCV to try different combinations of hyperparameters. \n",
        "- Start looking into other types of Keras layers for CNNs and RNNs maybe try and build a CNN model for fashion-MNIST to see how the results compare."
      ]
    }
  ]
}