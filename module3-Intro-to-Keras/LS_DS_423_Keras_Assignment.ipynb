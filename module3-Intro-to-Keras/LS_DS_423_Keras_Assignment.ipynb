{
 "cells": [
  {
   "cell_type": "markdown",
   "metadata": {
    "colab_type": "text",
    "id": "pBQsZEJmubLs"
   },
   "source": [
    "<img align=\"left\" src=\"https://lever-client-logos.s3.amazonaws.com/864372b1-534c-480e-acd5-9711f850815c-1524247202159.png\" width=200>\n",
    "<br></br>\n",
    "\n",
    "# Neural Network Framework (Keras)\n",
    "\n",
    "## *Data Science Unit 4 Sprint 2 Assignment 3*\n",
    "\n",
    "## Use the Keras Library to build a Multi-Layer Perceptron Model on the Boston Housing dataset\n",
    "\n",
    "- The Boston Housing dataset comes with the Keras library so use Keras to import it into your notebook. \n",
    "- Normalize the data (all features should have roughly the same scale)\n",
    "- Import the type of model and layers that you will need from Keras.\n",
    "- Instantiate a model object and use `model.add()` to add layers to your model\n",
    "- Since this is a regression model you will have a single output node in the final layer.\n",
    "- Use activation functions that are appropriate for this task\n",
    "- Compile your model\n",
    "- Fit your model and report its accuracy in terms of Mean Squared Error\n",
    "- Use the history object that is returned from model.fit to make graphs of the model's loss or train/validation accuracies by epoch. \n",
    "- Run this same data through a linear regression model. Which achieves higher accuracy?\n",
    "- Do a little bit of feature engineering and see how that affects your neural network model. (you will need to change your model to accept more inputs)\n",
    "- After feature engineering, which model sees a greater accuracy boost due to the new features?"
   ]
  },
  {
   "cell_type": "code",
   "execution_count": 2,
   "metadata": {},
   "outputs": [
    {
     "name": "stdout",
     "output_type": "stream",
     "text": [
      "Collecting category_encoders\n",
      "  Using cached category_encoders-2.1.0-py2.py3-none-any.whl (100 kB)\n",
      "Requirement already satisfied, skipping upgrade: scipy>=0.19.0 in c:\\users\\predator\\anaconda3\\envs\\u4-s1-nlp\\lib\\site-packages (from category_encoders) (1.4.1)\n",
      "Note: you may need to restart the kernel to use updated packages.\n",
      "Requirement already satisfied, skipping upgrade: patsy>=0.4.1 in c:\\users\\predator\\anaconda3\\envs\\u4-s1-nlp\\lib\\site-packages (from category_encoders) (0.5.1)\n",
      "Requirement already satisfied, skipping upgrade: numpy>=1.11.3 in c:\\users\\predator\\anaconda3\\envs\\u4-s1-nlp\\lib\\site-packages (from category_encoders) (1.18.1)\n",
      "Requirement already satisfied, skipping upgrade: pandas>=0.21.1 in c:\\users\\predator\\anaconda3\\envs\\u4-s1-nlp\\lib\\site-packages (from category_encoders) (1.0.3)\n",
      "Requirement already satisfied, skipping upgrade: statsmodels>=0.6.1 in c:\\users\\predator\\anaconda3\\envs\\u4-s1-nlp\\lib\\site-packages (from category_encoders) (0.11.0)\n",
      "Requirement already satisfied, skipping upgrade: scikit-learn>=0.20.0 in c:\\users\\predator\\anaconda3\\envs\\u4-s1-nlp\\lib\\site-packages (from category_encoders) (0.22.2)\n",
      "Requirement already satisfied, skipping upgrade: six in c:\\users\\predator\\anaconda3\\envs\\u4-s1-nlp\\lib\\site-packages (from patsy>=0.4.1->category_encoders) (1.14.0)\n",
      "Requirement already satisfied, skipping upgrade: pytz>=2017.2 in c:\\users\\predator\\anaconda3\\envs\\u4-s1-nlp\\lib\\site-packages (from pandas>=0.21.1->category_encoders) (2019.3)\n",
      "Requirement already satisfied, skipping upgrade: python-dateutil>=2.6.1 in c:\\users\\predator\\anaconda3\\envs\\u4-s1-nlp\\lib\\site-packages (from pandas>=0.21.1->category_encoders) (2.8.1)\n",
      "Requirement already satisfied, skipping upgrade: joblib>=0.11 in c:\\users\\predator\\anaconda3\\envs\\u4-s1-nlp\\lib\\site-packages (from scikit-learn>=0.20.0->category_encoders) (0.14.1)\n",
      "Installing collected packages: category-encoders\n",
      "Successfully installed category-encoders-2.1.0\n"
     ]
    }
   ],
   "source": [
    "pip install --upgrade category_encoders"
   ]
  },
  {
   "cell_type": "code",
   "execution_count": 25,
   "metadata": {
    "colab": {},
    "colab_type": "code",
    "id": "8NLTAR87uYJ-"
   },
   "outputs": [],
   "source": [
    "##### Your Code Here #####\n",
    "\n",
    "#Packages for KNeighborsRegressor model\n",
    "import category_encoders as ce\n",
    "from sklearn.impute import SimpleImputer \n",
    "from sklearn.neighbors import KNeighborsRegressor\n",
    "from sklearn.pipeline import make_pipeline\n",
    "from sklearn.preprocessing import StandardScaler\n",
    "from sklearn.metrics import mean_squared_error\n",
    "\n",
    "#Packages for neural network model\n",
    "import tensorflow as tf\n",
    "from tensorflow.keras.datasets import boston_housing\n",
    "from tensorflow.keras.models import Sequential\n",
    "from tensorflow.keras.layers import Dense, Dropout, Flatten\n",
    "import pandas as pd\n",
    "import numpy as np\n",
    "import matplotlib.pyplot as plt"
   ]
  },
  {
   "cell_type": "code",
   "execution_count": 4,
   "metadata": {},
   "outputs": [],
   "source": [
    "#Load data\n",
    "(X_train, y_train), (X_test, y_test) = boston_housing.load_data()"
   ]
  },
  {
   "cell_type": "code",
   "execution_count": 5,
   "metadata": {},
   "outputs": [
    {
     "name": "stdout",
     "output_type": "stream",
     "text": [
      "(404, 13)\n",
      "(404,)\n",
      "(102, 13)\n",
      "(102,)\n"
     ]
    }
   ],
   "source": [
    "#Checking data set shape\n",
    "for i in X_train, y_train, X_test, y_test:\n",
    "    print(i.shape)"
   ]
  },
  {
   "cell_type": "code",
   "execution_count": 6,
   "metadata": {},
   "outputs": [
    {
     "data": {
      "text/plain": [
       "array([[1.23247e+00, 0.00000e+00, 8.14000e+00, 0.00000e+00, 5.38000e-01,\n",
       "        6.14200e+00, 9.17000e+01, 3.97690e+00, 4.00000e+00, 3.07000e+02,\n",
       "        2.10000e+01, 3.96900e+02, 1.87200e+01],\n",
       "       [2.17700e-02, 8.25000e+01, 2.03000e+00, 0.00000e+00, 4.15000e-01,\n",
       "        7.61000e+00, 1.57000e+01, 6.27000e+00, 2.00000e+00, 3.48000e+02,\n",
       "        1.47000e+01, 3.95380e+02, 3.11000e+00],\n",
       "       [4.89822e+00, 0.00000e+00, 1.81000e+01, 0.00000e+00, 6.31000e-01,\n",
       "        4.97000e+00, 1.00000e+02, 1.33250e+00, 2.40000e+01, 6.66000e+02,\n",
       "        2.02000e+01, 3.75520e+02, 3.26000e+00],\n",
       "       [3.96100e-02, 0.00000e+00, 5.19000e+00, 0.00000e+00, 5.15000e-01,\n",
       "        6.03700e+00, 3.45000e+01, 5.98530e+00, 5.00000e+00, 2.24000e+02,\n",
       "        2.02000e+01, 3.96900e+02, 8.01000e+00],\n",
       "       [3.69311e+00, 0.00000e+00, 1.81000e+01, 0.00000e+00, 7.13000e-01,\n",
       "        6.37600e+00, 8.84000e+01, 2.56710e+00, 2.40000e+01, 6.66000e+02,\n",
       "        2.02000e+01, 3.91430e+02, 1.46500e+01],\n",
       "       [2.83920e-01, 0.00000e+00, 7.38000e+00, 0.00000e+00, 4.93000e-01,\n",
       "        5.70800e+00, 7.43000e+01, 4.72110e+00, 5.00000e+00, 2.87000e+02,\n",
       "        1.96000e+01, 3.91130e+02, 1.17400e+01],\n",
       "       [9.18702e+00, 0.00000e+00, 1.81000e+01, 0.00000e+00, 7.00000e-01,\n",
       "        5.53600e+00, 1.00000e+02, 1.58040e+00, 2.40000e+01, 6.66000e+02,\n",
       "        2.02000e+01, 3.96900e+02, 2.36000e+01],\n",
       "       [4.09740e+00, 0.00000e+00, 1.95800e+01, 0.00000e+00, 8.71000e-01,\n",
       "        5.46800e+00, 1.00000e+02, 1.41180e+00, 5.00000e+00, 4.03000e+02,\n",
       "        1.47000e+01, 3.96900e+02, 2.64200e+01],\n",
       "       [2.15505e+00, 0.00000e+00, 1.95800e+01, 0.00000e+00, 8.71000e-01,\n",
       "        5.62800e+00, 1.00000e+02, 1.51660e+00, 5.00000e+00, 4.03000e+02,\n",
       "        1.47000e+01, 1.69270e+02, 1.66500e+01],\n",
       "       [1.62864e+00, 0.00000e+00, 2.18900e+01, 0.00000e+00, 6.24000e-01,\n",
       "        5.01900e+00, 1.00000e+02, 1.43940e+00, 4.00000e+00, 4.37000e+02,\n",
       "        2.12000e+01, 3.96900e+02, 3.44100e+01]])"
      ]
     },
     "execution_count": 6,
     "metadata": {},
     "output_type": "execute_result"
    }
   ],
   "source": [
    "X_train[:10]"
   ]
  },
  {
   "cell_type": "code",
   "execution_count": 7,
   "metadata": {},
   "outputs": [
    {
     "data": {
      "text/plain": [
       "array([15.2, 42.3, 50. , 21.1, 17.7, 18.5, 11.3, 15.6, 15.6, 14.4])"
      ]
     },
     "execution_count": 7,
     "metadata": {},
     "output_type": "execute_result"
    }
   ],
   "source": [
    "y_train[:10]"
   ]
  },
  {
   "cell_type": "code",
   "execution_count": 21,
   "metadata": {},
   "outputs": [
    {
     "data": {
      "text/plain": [
       "Pipeline(memory=None,\n",
       "         steps=[('standardscaler',\n",
       "                 StandardScaler(copy=True, with_mean=True, with_std=True)),\n",
       "                ('kneighborsregressor',\n",
       "                 KNeighborsRegressor(algorithm='auto', leaf_size=30,\n",
       "                                     metric='minkowski', metric_params=None,\n",
       "                                     n_jobs=1, n_neighbors=20, p=2,\n",
       "                                     weights='uniform'))],\n",
       "         verbose=False)"
      ]
     },
     "execution_count": 21,
     "metadata": {},
     "output_type": "execute_result"
    }
   ],
   "source": [
    "#KNeighborsRegressor model\n",
    "KNR = make_pipeline(\n",
    "    StandardScaler(),\n",
    "    KNeighborsRegressor(leaf_size=30, n_neighbors=20 , n_jobs=1)\n",
    ")\n",
    "#Fit the model\n",
    "KNR.fit(X_train, y_train)"
   ]
  },
  {
   "cell_type": "code",
   "execution_count": 29,
   "metadata": {},
   "outputs": [
    {
     "name": "stdout",
     "output_type": "stream",
     "text": [
      "The accuracy score using KNeighborsRegressor is 0.7262209788711986, Mean Squared Error is 22.79041936274509\n"
     ]
    }
   ],
   "source": [
    "#Accuracy score\n",
    "y_pred = KNR.predict(X_test)\n",
    "mse = mean_squared_error(y_pred, y_test)\n",
    "ac = KNR.score(X_test, y_test)\n",
    "\n",
    "print(f'The accuracy score using KNeighborsRegressor is {ac}, Mean Squared Error is {mse}')"
   ]
  },
  {
   "cell_type": "code",
   "execution_count": 30,
   "metadata": {},
   "outputs": [],
   "source": [
    "#Scale and fit data\n",
    "ss = StandardScaler()\n",
    "ss.fit(X_train)\n",
    "X_train = ss.transform(X_train)\n",
    "X_test = ss.transform(X_test)"
   ]
  },
  {
   "cell_type": "code",
   "execution_count": 34,
   "metadata": {},
   "outputs": [
    {
     "data": {
      "text/plain": [
       "array([[-0.27224633, -0.48361547, -0.43576161, ...,  1.14850044,\n",
       "         0.44807713,  0.8252202 ],\n",
       "       [-0.40342651,  2.99178419, -1.33391162, ..., -1.71818909,\n",
       "         0.43190599, -1.32920239],\n",
       "       [ 0.1249402 , -0.48361547,  1.0283258 , ...,  0.78447637,\n",
       "         0.22061726, -1.30850006],\n",
       "       ...,\n",
       "       [-0.40202987,  0.99079651, -0.7415148 , ..., -0.71712291,\n",
       "         0.07943894, -0.67776904],\n",
       "       [-0.17292018, -0.48361547,  1.24588095, ..., -1.71818909,\n",
       "        -0.98764362,  0.42083466],\n",
       "       [-0.40422614,  2.04394792, -1.20161456, ..., -1.30866202,\n",
       "         0.23317118, -1.15392266]])"
      ]
     },
     "execution_count": 34,
     "metadata": {},
     "output_type": "execute_result"
    }
   ],
   "source": [
    "X_train"
   ]
  },
  {
   "cell_type": "code",
   "execution_count": 52,
   "metadata": {},
   "outputs": [
    {
     "name": "stdout",
     "output_type": "stream",
     "text": [
      "Train on 323 samples, validate on 81 samples\n",
      "Epoch 1/50\n",
      "323/323 [==============================] - 0s 2ms/sample - loss: 533.9118 - mse: 533.9118 - mae: 21.2683 - val_loss: 544.3128 - val_mse: 544.3129 - val_mae: 21.6724\n",
      "Epoch 2/50\n",
      "323/323 [==============================] - 0s 87us/sample - loss: 445.7969 - mse: 445.7969 - mae: 19.3336 - val_loss: 443.5097 - val_mse: 443.5097 - val_mae: 19.3497\n",
      "Epoch 3/50\n",
      "323/323 [==============================] - 0s 87us/sample - loss: 340.1158 - mse: 340.1158 - mae: 16.6217 - val_loss: 323.2161 - val_mse: 323.2161 - val_mae: 15.9608\n",
      "Epoch 4/50\n",
      "323/323 [==============================] - 0s 90us/sample - loss: 221.9175 - mse: 221.9175 - mae: 12.8732 - val_loss: 202.2982 - val_mse: 202.2982 - val_mae: 11.4090\n",
      "Epoch 5/50\n",
      "323/323 [==============================] - 0s 83us/sample - loss: 124.9470 - mse: 124.9470 - mae: 8.9393 - val_loss: 131.9155 - val_mse: 131.9155 - val_mae: 8.6763\n",
      "Epoch 6/50\n",
      "323/323 [==============================] - 0s 80us/sample - loss: 91.0359 - mse: 91.0359 - mae: 7.4000 - val_loss: 104.6727 - val_mse: 104.6726 - val_mae: 7.7824\n",
      "Epoch 7/50\n",
      "323/323 [==============================] - 0s 83us/sample - loss: 70.8075 - mse: 70.8075 - mae: 6.3163 - val_loss: 81.8384 - val_mse: 81.8384 - val_mae: 6.7693\n",
      "Epoch 8/50\n",
      "323/323 [==============================] - 0s 89us/sample - loss: 53.9297 - mse: 53.9297 - mae: 5.4193 - val_loss: 65.1815 - val_mse: 65.1815 - val_mae: 5.9755\n",
      "Epoch 9/50\n",
      "323/323 [==============================] - 0s 86us/sample - loss: 42.6860 - mse: 42.6860 - mae: 4.6668 - val_loss: 52.8726 - val_mse: 52.8726 - val_mae: 5.2778\n",
      "Epoch 10/50\n",
      "323/323 [==============================] - 0s 80us/sample - loss: 36.7875 - mse: 36.7875 - mae: 4.2144 - val_loss: 46.8280 - val_mse: 46.8280 - val_mae: 4.8830\n",
      "Epoch 11/50\n",
      "323/323 [==============================] - 0s 105us/sample - loss: 34.0727 - mse: 34.0727 - mae: 4.0532 - val_loss: 43.8730 - val_mse: 43.8730 - val_mae: 4.8404\n",
      "Epoch 12/50\n",
      "323/323 [==============================] - 0s 86us/sample - loss: 32.3193 - mse: 32.3193 - mae: 3.9663 - val_loss: 42.3490 - val_mse: 42.3490 - val_mae: 4.7947\n",
      "Epoch 13/50\n",
      "323/323 [==============================] - 0s 86us/sample - loss: 30.4181 - mse: 30.4181 - mae: 3.8696 - val_loss: 40.7702 - val_mse: 40.7702 - val_mae: 4.6773\n",
      "Epoch 14/50\n",
      "323/323 [==============================] - 0s 86us/sample - loss: 29.0465 - mse: 29.0466 - mae: 3.7659 - val_loss: 39.4450 - val_mse: 39.4450 - val_mae: 4.5682\n",
      "Epoch 15/50\n",
      "323/323 [==============================] - 0s 105us/sample - loss: 27.8446 - mse: 27.8446 - mae: 3.7246 - val_loss: 38.3155 - val_mse: 38.3155 - val_mae: 4.5394\n",
      "Epoch 16/50\n",
      "323/323 [==============================] - 0s 90us/sample - loss: 26.7097 - mse: 26.7097 - mae: 3.6573 - val_loss: 36.9735 - val_mse: 36.9735 - val_mae: 4.4801\n",
      "Epoch 17/50\n",
      "323/323 [==============================] - 0s 74us/sample - loss: 25.9611 - mse: 25.9611 - mae: 3.6332 - val_loss: 36.6990 - val_mse: 36.6990 - val_mae: 4.4879\n",
      "Epoch 18/50\n",
      "323/323 [==============================] - 0s 80us/sample - loss: 24.9544 - mse: 24.9544 - mae: 3.5670 - val_loss: 35.0328 - val_mse: 35.0328 - val_mae: 4.3559\n",
      "Epoch 19/50\n",
      "323/323 [==============================] - 0s 86us/sample - loss: 24.2393 - mse: 24.2393 - mae: 3.5071 - val_loss: 33.8216 - val_mse: 33.8216 - val_mae: 4.2727\n",
      "Epoch 20/50\n",
      "323/323 [==============================] - 0s 80us/sample - loss: 23.2922 - mse: 23.2922 - mae: 3.4645 - val_loss: 33.5590 - val_mse: 33.5590 - val_mae: 4.2956\n",
      "Epoch 21/50\n",
      "323/323 [==============================] - 0s 77us/sample - loss: 22.8091 - mse: 22.8091 - mae: 3.4786 - val_loss: 32.4914 - val_mse: 32.4914 - val_mae: 4.2453\n",
      "Epoch 22/50\n",
      "323/323 [==============================] - 0s 77us/sample - loss: 21.9891 - mse: 21.9891 - mae: 3.3850 - val_loss: 31.6376 - val_mse: 31.6376 - val_mae: 4.1794\n",
      "Epoch 23/50\n",
      "323/323 [==============================] - 0s 74us/sample - loss: 21.5901 - mse: 21.5901 - mae: 3.3304 - val_loss: 30.8896 - val_mse: 30.8896 - val_mae: 4.1263\n",
      "Epoch 24/50\n",
      "323/323 [==============================] - 0s 74us/sample - loss: 20.8927 - mse: 20.8927 - mae: 3.3101 - val_loss: 31.5429 - val_mse: 31.5429 - val_mae: 4.2171\n",
      "Epoch 25/50\n",
      "323/323 [==============================] - 0s 74us/sample - loss: 21.0036 - mse: 21.0036 - mae: 3.3765 - val_loss: 29.9810 - val_mse: 29.9810 - val_mae: 4.0929\n",
      "Epoch 26/50\n",
      "323/323 [==============================] - 0s 74us/sample - loss: 19.5474 - mse: 19.5474 - mae: 3.1726 - val_loss: 30.1637 - val_mse: 30.1637 - val_mae: 4.1110\n",
      "Epoch 27/50\n",
      "323/323 [==============================] - 0s 74us/sample - loss: 18.8867 - mse: 18.8867 - mae: 3.0853 - val_loss: 29.4069 - val_mse: 29.4069 - val_mae: 4.0124\n",
      "Epoch 28/50\n",
      "323/323 [==============================] - 0s 71us/sample - loss: 19.6840 - mse: 19.6840 - mae: 3.2573 - val_loss: 30.3223 - val_mse: 30.3223 - val_mae: 4.0397\n",
      "Epoch 29/50\n",
      "323/323 [==============================] - 0s 71us/sample - loss: 18.7153 - mse: 18.7153 - mae: 3.1856 - val_loss: 29.7371 - val_mse: 29.7371 - val_mae: 4.0869\n",
      "Epoch 30/50\n",
      "323/323 [==============================] - 0s 74us/sample - loss: 18.1594 - mse: 18.1594 - mae: 3.1204 - val_loss: 27.0064 - val_mse: 27.0064 - val_mae: 3.8383\n",
      "Epoch 31/50\n",
      "323/323 [==============================] - 0s 74us/sample - loss: 17.7235 - mse: 17.7235 - mae: 3.0622 - val_loss: 25.4930 - val_mse: 25.4930 - val_mae: 3.7443\n",
      "Epoch 32/50\n",
      "323/323 [==============================] - 0s 77us/sample - loss: 16.5183 - mse: 16.5183 - mae: 2.9505 - val_loss: 26.2110 - val_mse: 26.2110 - val_mae: 3.7978\n",
      "Epoch 33/50\n",
      "323/323 [==============================] - 0s 80us/sample - loss: 16.4105 - mse: 16.4105 - mae: 2.8902 - val_loss: 25.3258 - val_mse: 25.3258 - val_mae: 3.6898\n",
      "Epoch 34/50\n",
      "323/323 [==============================] - 0s 71us/sample - loss: 15.7455 - mse: 15.7455 - mae: 2.8724 - val_loss: 25.4746 - val_mse: 25.4746 - val_mae: 3.7173\n",
      "Epoch 35/50\n",
      "323/323 [==============================] - 0s 71us/sample - loss: 15.5913 - mse: 15.5913 - mae: 2.8134 - val_loss: 24.8976 - val_mse: 24.8976 - val_mae: 3.6603\n",
      "Epoch 36/50\n",
      "323/323 [==============================] - 0s 68us/sample - loss: 15.1398 - mse: 15.1398 - mae: 2.7588 - val_loss: 24.5447 - val_mse: 24.5447 - val_mae: 3.5880\n",
      "Epoch 37/50\n",
      "323/323 [==============================] - 0s 68us/sample - loss: 14.6772 - mse: 14.6772 - mae: 2.7516 - val_loss: 24.5180 - val_mse: 24.5180 - val_mae: 3.6053\n",
      "Epoch 38/50\n",
      "323/323 [==============================] - 0s 71us/sample - loss: 14.3965 - mse: 14.3965 - mae: 2.6863 - val_loss: 24.3582 - val_mse: 24.3582 - val_mae: 3.5865\n",
      "Epoch 39/50\n",
      "323/323 [==============================] - 0s 74us/sample - loss: 14.0753 - mse: 14.0753 - mae: 2.6880 - val_loss: 23.5128 - val_mse: 23.5128 - val_mae: 3.5083\n",
      "Epoch 40/50\n",
      "323/323 [==============================] - 0s 77us/sample - loss: 13.9834 - mse: 13.9834 - mae: 2.6260 - val_loss: 23.0651 - val_mse: 23.0651 - val_mae: 3.4498\n",
      "Epoch 41/50\n",
      "323/323 [==============================] - 0s 68us/sample - loss: 13.5074 - mse: 13.5074 - mae: 2.6227 - val_loss: 23.4061 - val_mse: 23.4061 - val_mae: 3.4611\n",
      "Epoch 42/50\n",
      "323/323 [==============================] - 0s 77us/sample - loss: 13.4392 - mse: 13.4392 - mae: 2.6145 - val_loss: 22.8435 - val_mse: 22.8435 - val_mae: 3.4546\n",
      "Epoch 43/50\n",
      "323/323 [==============================] - 0s 74us/sample - loss: 12.8896 - mse: 12.8896 - mae: 2.5382 - val_loss: 22.5681 - val_mse: 22.5681 - val_mae: 3.4098\n",
      "Epoch 44/50\n",
      "323/323 [==============================] - 0s 68us/sample - loss: 12.8157 - mse: 12.8157 - mae: 2.4856 - val_loss: 22.6585 - val_mse: 22.6585 - val_mae: 3.4403\n",
      "Epoch 45/50\n",
      "323/323 [==============================] - 0s 71us/sample - loss: 13.0516 - mse: 13.0516 - mae: 2.5519 - val_loss: 23.6426 - val_mse: 23.6426 - val_mae: 3.4786\n",
      "Epoch 46/50\n",
      "323/323 [==============================] - 0s 65us/sample - loss: 12.1251 - mse: 12.1251 - mae: 2.4676 - val_loss: 21.7133 - val_mse: 21.7133 - val_mae: 3.3544\n",
      "Epoch 47/50\n",
      "323/323 [==============================] - 0s 71us/sample - loss: 11.9939 - mse: 11.9939 - mae: 2.3808 - val_loss: 21.9284 - val_mse: 21.9284 - val_mae: 3.4172\n",
      "Epoch 48/50\n",
      "323/323 [==============================] - 0s 71us/sample - loss: 12.1206 - mse: 12.1206 - mae: 2.4894 - val_loss: 22.3692 - val_mse: 22.3692 - val_mae: 3.3737\n",
      "Epoch 49/50\n",
      "323/323 [==============================] - 0s 83us/sample - loss: 11.3739 - mse: 11.3739 - mae: 2.3743 - val_loss: 20.9036 - val_mse: 20.9035 - val_mae: 3.2936\n",
      "Epoch 50/50\n",
      "323/323 [==============================] - 0s 77us/sample - loss: 11.1195 - mse: 11.1195 - mae: 2.3237 - val_loss: 21.0827 - val_mse: 21.0827 - val_mae: 3.2366\n"
     ]
    },
    {
     "data": {
      "text/plain": [
       "<tensorflow.python.keras.callbacks.History at 0x2852b50f908>"
      ]
     },
     "execution_count": 52,
     "metadata": {},
     "output_type": "execute_result"
    }
   ],
   "source": [
    "#Neural Network framework\n",
    "model = Sequential()\n",
    "model.add(Dense(128, input_shape = [X_train.shape[1]], activation='selu'))\n",
    "model.add(Dense(128, activation='relu'))\n",
    "model.add(Dense(1))\n",
    "model.compile(loss='mse', optimizer='adam', metrics=['mse', 'mae'])\n",
    "model.fit(X_train, y_train, validation_split=0.2, epochs=50, verbose=1)"
   ]
  },
  {
   "cell_type": "code",
   "execution_count": 56,
   "metadata": {},
   "outputs": [
    {
     "name": "stdout",
     "output_type": "stream",
     "text": [
      "102/102 [==============================] - 0s 58us/sample - loss: 17.8519 - mse: 17.8519 - mae: 2.9920\n",
      "Validation Data Metrics:\n",
      "loss: 17.851917266845703\n",
      "mse: 17.851917266845703\n",
      "mae: 2.992023468017578\n"
     ]
    }
   ],
   "source": [
    "score = model.evaluate(X_test, y_test)\n",
    "print(\"Validation Data Metrics:\")\n",
    "print(f\"{model.metrics_names[0]}: {score[0]}\")\n",
    "print(f\"{model.metrics_names[1]}: {score[1]}\")\n",
    "print(f\"{model.metrics_names[2]}: {score[2]}\")"
   ]
  },
  {
   "cell_type": "code",
   "execution_count": 57,
   "metadata": {},
   "outputs": [
    {
     "name": "stdout",
     "output_type": "stream",
     "text": [
      "Train on 323 samples, validate on 81 samples\n",
      "Epoch 1/50\n",
      "323/323 [==============================] - 0s 130us/sample - loss: 11.0155 - mse: 11.0155 - mae: 2.3526 - val_loss: 21.1434 - val_mse: 21.1434 - val_mae: 3.2988\n",
      "Epoch 2/50\n",
      "323/323 [==============================] - 0s 90us/sample - loss: 10.9219 - mse: 10.9219 - mae: 2.3462 - val_loss: 20.7881 - val_mse: 20.7881 - val_mae: 3.2544\n",
      "Epoch 3/50\n",
      "323/323 [==============================] - 0s 74us/sample - loss: 10.9138 - mse: 10.9138 - mae: 2.2739 - val_loss: 20.9041 - val_mse: 20.9041 - val_mae: 3.2286\n",
      "Epoch 4/50\n",
      "323/323 [==============================] - 0s 74us/sample - loss: 10.3359 - mse: 10.3359 - mae: 2.2764 - val_loss: 21.2892 - val_mse: 21.2892 - val_mae: 3.2130\n",
      "Epoch 5/50\n",
      "323/323 [==============================] - 0s 77us/sample - loss: 10.6894 - mse: 10.6894 - mae: 2.2755 - val_loss: 20.0023 - val_mse: 20.0023 - val_mae: 3.0990\n",
      "Epoch 6/50\n",
      "323/323 [==============================] - 0s 71us/sample - loss: 11.0964 - mse: 11.0964 - mae: 2.3981 - val_loss: 20.1034 - val_mse: 20.1034 - val_mae: 3.1893\n",
      "Epoch 7/50\n",
      "323/323 [==============================] - 0s 68us/sample - loss: 9.9294 - mse: 9.9294 - mae: 2.2148 - val_loss: 19.5104 - val_mse: 19.5104 - val_mae: 3.0955\n",
      "Epoch 8/50\n",
      "323/323 [==============================] - 0s 68us/sample - loss: 9.7457 - mse: 9.7457 - mae: 2.2022 - val_loss: 19.4307 - val_mse: 19.4307 - val_mae: 3.0828\n",
      "Epoch 9/50\n",
      "323/323 [==============================] - 0s 74us/sample - loss: 9.6935 - mse: 9.6935 - mae: 2.2229 - val_loss: 19.2810 - val_mse: 19.2810 - val_mae: 3.0670\n",
      "Epoch 10/50\n",
      "323/323 [==============================] - 0s 80us/sample - loss: 9.5461 - mse: 9.5461 - mae: 2.1888 - val_loss: 19.4505 - val_mse: 19.4505 - val_mae: 3.0869\n",
      "Epoch 11/50\n",
      "323/323 [==============================] - 0s 77us/sample - loss: 9.2482 - mse: 9.2482 - mae: 2.1490 - val_loss: 19.3500 - val_mse: 19.3500 - val_mae: 3.0383\n",
      "Epoch 12/50\n",
      "323/323 [==============================] - 0s 74us/sample - loss: 9.2689 - mse: 9.2689 - mae: 2.1616 - val_loss: 19.2768 - val_mse: 19.2768 - val_mae: 3.0449\n",
      "Epoch 13/50\n",
      "323/323 [==============================] - 0s 74us/sample - loss: 9.2989 - mse: 9.2989 - mae: 2.2084 - val_loss: 19.2278 - val_mse: 19.2278 - val_mae: 3.0657\n",
      "Epoch 14/50\n",
      "323/323 [==============================] - 0s 77us/sample - loss: 9.1191 - mse: 9.1191 - mae: 2.1219 - val_loss: 18.7367 - val_mse: 18.7367 - val_mae: 3.0287\n",
      "Epoch 15/50\n",
      "323/323 [==============================] - 0s 68us/sample - loss: 8.9559 - mse: 8.9559 - mae: 2.1380 - val_loss: 18.9808 - val_mse: 18.9808 - val_mae: 3.0009\n",
      "Epoch 16/50\n",
      "323/323 [==============================] - 0s 74us/sample - loss: 8.9824 - mse: 8.9824 - mae: 2.1461 - val_loss: 18.6032 - val_mse: 18.6032 - val_mae: 3.0586\n",
      "Epoch 17/50\n",
      "323/323 [==============================] - 0s 77us/sample - loss: 8.9306 - mse: 8.9306 - mae: 2.0960 - val_loss: 19.1379 - val_mse: 19.1379 - val_mae: 3.0351\n",
      "Epoch 18/50\n",
      "323/323 [==============================] - 0s 68us/sample - loss: 8.7663 - mse: 8.7663 - mae: 2.1214 - val_loss: 19.5415 - val_mse: 19.5415 - val_mae: 3.0847\n",
      "Epoch 19/50\n",
      "323/323 [==============================] - 0s 74us/sample - loss: 8.5020 - mse: 8.5020 - mae: 2.0483 - val_loss: 19.2365 - val_mse: 19.2365 - val_mae: 2.9642\n",
      "Epoch 20/50\n",
      "323/323 [==============================] - 0s 83us/sample - loss: 8.5870 - mse: 8.5870 - mae: 2.1032 - val_loss: 18.5530 - val_mse: 18.5530 - val_mae: 3.0303\n",
      "Epoch 21/50\n",
      "323/323 [==============================] - 0s 90us/sample - loss: 8.2483 - mse: 8.2483 - mae: 2.0308 - val_loss: 18.2179 - val_mse: 18.2179 - val_mae: 2.9192\n",
      "Epoch 22/50\n",
      "323/323 [==============================] - 0s 90us/sample - loss: 8.1223 - mse: 8.1223 - mae: 2.0224 - val_loss: 18.5889 - val_mse: 18.5889 - val_mae: 2.9743\n",
      "Epoch 23/50\n",
      "323/323 [==============================] - 0s 102us/sample - loss: 7.9919 - mse: 7.9919 - mae: 1.9979 - val_loss: 19.5080 - val_mse: 19.5080 - val_mae: 2.8939\n",
      "Epoch 24/50\n",
      "323/323 [==============================] - 0s 108us/sample - loss: 9.6011 - mse: 9.6011 - mae: 2.2496 - val_loss: 21.0395 - val_mse: 21.0395 - val_mae: 3.1445\n",
      "Epoch 25/50\n",
      "323/323 [==============================] - 0s 74us/sample - loss: 8.8058 - mse: 8.8058 - mae: 2.1048 - val_loss: 19.4636 - val_mse: 19.4636 - val_mae: 2.9209\n",
      "Epoch 26/50\n",
      "323/323 [==============================] - 0s 74us/sample - loss: 8.2767 - mse: 8.2767 - mae: 2.0893 - val_loss: 18.1572 - val_mse: 18.1572 - val_mae: 3.0686\n",
      "Epoch 27/50\n",
      "323/323 [==============================] - 0s 71us/sample - loss: 9.0290 - mse: 9.0290 - mae: 2.1199 - val_loss: 18.0419 - val_mse: 18.0419 - val_mae: 2.8366\n",
      "Epoch 28/50\n",
      "323/323 [==============================] - 0s 117us/sample - loss: 7.9771 - mse: 7.9771 - mae: 2.0478 - val_loss: 18.4112 - val_mse: 18.4112 - val_mae: 2.9598\n",
      "Epoch 29/50\n",
      "323/323 [==============================] - 0s 108us/sample - loss: 7.7582 - mse: 7.7582 - mae: 1.9723 - val_loss: 18.4670 - val_mse: 18.4670 - val_mae: 2.8066\n",
      "Epoch 30/50\n",
      "323/323 [==============================] - 0s 105us/sample - loss: 7.8050 - mse: 7.8050 - mae: 1.9486 - val_loss: 18.4012 - val_mse: 18.4012 - val_mae: 2.9183\n",
      "Epoch 31/50\n",
      "323/323 [==============================] - 0s 86us/sample - loss: 7.5807 - mse: 7.5807 - mae: 1.9613 - val_loss: 18.3957 - val_mse: 18.3957 - val_mae: 2.8127\n",
      "Epoch 32/50\n",
      "323/323 [==============================] - 0s 71us/sample - loss: 8.3182 - mse: 8.3182 - mae: 2.1029 - val_loss: 17.8178 - val_mse: 17.8178 - val_mae: 2.9706\n",
      "Epoch 33/50\n",
      "323/323 [==============================] - 0s 65us/sample - loss: 8.1590 - mse: 8.1590 - mae: 2.0612 - val_loss: 18.1528 - val_mse: 18.1528 - val_mae: 2.6913\n",
      "Epoch 34/50\n",
      "323/323 [==============================] - 0s 71us/sample - loss: 8.4403 - mse: 8.4403 - mae: 2.0856 - val_loss: 18.0311 - val_mse: 18.0311 - val_mae: 3.0163\n",
      "Epoch 35/50\n",
      "323/323 [==============================] - 0s 83us/sample - loss: 8.1717 - mse: 8.1717 - mae: 2.0133 - val_loss: 18.9302 - val_mse: 18.9302 - val_mae: 2.7451\n",
      "Epoch 36/50\n",
      "323/323 [==============================] - 0s 71us/sample - loss: 7.1972 - mse: 7.1972 - mae: 1.9258 - val_loss: 18.2078 - val_mse: 18.2078 - val_mae: 3.0148\n",
      "Epoch 37/50\n",
      "323/323 [==============================] - 0s 74us/sample - loss: 7.3737 - mse: 7.3737 - mae: 1.9189 - val_loss: 17.7477 - val_mse: 17.7477 - val_mae: 2.8106\n",
      "Epoch 38/50\n",
      "323/323 [==============================] - 0s 65us/sample - loss: 7.0823 - mse: 7.0823 - mae: 1.8676 - val_loss: 17.5050 - val_mse: 17.5050 - val_mae: 2.8679\n",
      "Epoch 39/50\n",
      "323/323 [==============================] - 0s 83us/sample - loss: 6.9164 - mse: 6.9164 - mae: 1.8349 - val_loss: 17.1640 - val_mse: 17.1640 - val_mae: 2.7360\n",
      "Epoch 40/50\n",
      "323/323 [==============================] - 0s 83us/sample - loss: 7.0181 - mse: 7.0181 - mae: 1.8255 - val_loss: 16.9345 - val_mse: 16.9345 - val_mae: 2.7543\n",
      "Epoch 41/50\n",
      "323/323 [==============================] - 0s 77us/sample - loss: 6.8083 - mse: 6.8083 - mae: 1.8399 - val_loss: 17.6554 - val_mse: 17.6554 - val_mae: 2.7781\n",
      "Epoch 42/50\n",
      "323/323 [==============================] - 0s 65us/sample - loss: 6.8018 - mse: 6.8018 - mae: 1.8325 - val_loss: 17.0595 - val_mse: 17.0595 - val_mae: 2.7726\n",
      "Epoch 43/50\n",
      "323/323 [==============================] - 0s 68us/sample - loss: 6.7938 - mse: 6.7938 - mae: 1.8032 - val_loss: 16.8739 - val_mse: 16.8739 - val_mae: 2.6979\n",
      "Epoch 44/50\n",
      "323/323 [==============================] - 0s 62us/sample - loss: 6.6734 - mse: 6.6734 - mae: 1.7994 - val_loss: 17.1963 - val_mse: 17.1963 - val_mae: 2.7356\n",
      "Epoch 45/50\n",
      "323/323 [==============================] - 0s 65us/sample - loss: 6.5869 - mse: 6.5869 - mae: 1.8096 - val_loss: 17.7169 - val_mse: 17.7169 - val_mae: 2.7952\n",
      "Epoch 46/50\n",
      "323/323 [==============================] - 0s 65us/sample - loss: 6.5094 - mse: 6.5094 - mae: 1.7945 - val_loss: 17.1417 - val_mse: 17.1417 - val_mae: 2.7579\n",
      "Epoch 47/50\n",
      "323/323 [==============================] - 0s 71us/sample - loss: 6.6183 - mse: 6.6183 - mae: 1.8061 - val_loss: 17.2058 - val_mse: 17.2058 - val_mae: 2.6718\n",
      "Epoch 48/50\n",
      "323/323 [==============================] - 0s 71us/sample - loss: 6.6899 - mse: 6.6899 - mae: 1.8283 - val_loss: 16.9351 - val_mse: 16.9351 - val_mae: 2.8038\n",
      "Epoch 49/50\n",
      "323/323 [==============================] - 0s 71us/sample - loss: 7.1941 - mse: 7.1941 - mae: 1.8313 - val_loss: 17.2514 - val_mse: 17.2514 - val_mae: 2.6289\n",
      "Epoch 50/50\n",
      "323/323 [==============================] - 0s 74us/sample - loss: 7.5155 - mse: 7.5155 - mae: 1.9677 - val_loss: 17.1279 - val_mse: 17.1279 - val_mae: 2.8847\n"
     ]
    }
   ],
   "source": [
    "history = model.fit(X_train, y_train, validation_split=0.2, epochs=50, verbose=1)"
   ]
  },
  {
   "cell_type": "code",
   "execution_count": 61,
   "metadata": {},
   "outputs": [
    {
     "data": {
      "image/png": "[encoded data removed]",
      "text/plain": [
       "<Figure size 432x288 with 1 Axes>"
      ]
     },
     "metadata": {
      "needs_background": "light"
     },
     "output_type": "display_data"
    },
    {
     "data": {
      "image/png": "[encoded data removed]",
      "text/plain": [
       "<Figure size 432x288 with 1 Axes>"
      ]
     },
     "metadata": {
      "needs_background": "light"
     },
     "output_type": "display_data"
    }
   ],
   "source": [
    "#Plot training and validation accuracy\n",
    "plt.plot(history.history['mse'])\n",
    "plt.plot(history.history['val_mse'])\n",
    "plt.title('Mean Squared Error')\n",
    "plt.ylabel('MSE')\n",
    "plt.xlabel('Epoch')\n",
    "plt.legend(['Train', 'Test'], loc = 'upper right')\n",
    "plt.show()\n",
    "\n",
    "#Plot training and loss values\n",
    "plt.plot(history.history['loss'])\n",
    "plt.plot(history.history['val_loss'])\n",
    "plt.title('Loss')\n",
    "plt.ylabel('Loss')\n",
    "plt.xlabel('Epoch')\n",
    "plt.legend(['Train', 'Test'], loc = 'upper right')\n",
    "plt.show()"
   ]
  },
  {
   "cell_type": "markdown",
   "metadata": {
    "colab_type": "text",
    "id": "SfcFnOONyuNm"
   },
   "source": [
    "## Use the Keras Library to build an image recognition network using the Fashion-MNIST dataset (also comes with keras)\n",
    "\n",
    "- Load and preprocess the image data similar to how we preprocessed the MNIST data in class.\n",
    "- Make sure to one-hot encode your category labels\n",
    "- The number of nodes in your output layer should equal the number of classes you want to predict for Fashion-MNIST.\n",
    "- Try different hyperparameters. What is the highest accuracy that you are able to achieve.\n",
    "- Use the history object that is returned from model.fit to make graphs of the model's loss or train/validation accuracies by epoch. \n",
    "- Remember that neural networks fall prey to randomness so you may need to run your model multiple times (or use Cross Validation) in order to tell if a change to a hyperparameter is truly producing better results."
   ]
  },
  {
   "cell_type": "code",
   "execution_count": 99,
   "metadata": {
    "colab": {},
    "colab_type": "code",
    "id": "szi6-IpuzaH1"
   },
   "outputs": [],
   "source": [
    "##### Your Code Here #####\n",
    "#Load data\n",
    "from tensorflow.keras.datasets import fashion_mnist\n",
    "(x_train, y_train), (x_test, y_test) = fashion_mnist.load_data()"
   ]
  },
  {
   "cell_type": "code",
   "execution_count": 100,
   "metadata": {},
   "outputs": [
    {
     "name": "stdout",
     "output_type": "stream",
     "text": [
      "(60000, 28, 28)\n",
      "(60000,)\n",
      "(10000, 28, 28)\n",
      "(10000,)\n"
     ]
    }
   ],
   "source": [
    "for data in x_train, y_train, x_test, y_test:\n",
    "    print(data.shape)"
   ]
  },
  {
   "cell_type": "code",
   "execution_count": 101,
   "metadata": {},
   "outputs": [],
   "source": [
    "#Reshape data\n",
    "x_train = x_train.reshape(60000,784)\n",
    "x_test = x_test.reshape(10000, 784)\n",
    "#Data normalization\n",
    "x_train = x_train/255\n",
    "x_test = x_test/255"
   ]
  },
  {
   "cell_type": "code",
   "execution_count": 114,
   "metadata": {},
   "outputs": [
    {
     "name": "stdout",
     "output_type": "stream",
     "text": [
      "Train on 48000 samples, validate on 12000 samples\n",
      "Epoch 1/100\n",
      "48000/48000 [==============================] - 3s 57us/sample - loss: 1.4252 - mse: 27.7041 - accuracy: 0.4770 - val_loss: 0.8029 - val_mse: 27.3639 - val_accuracy: 0.7345\n",
      "Epoch 2/100\n",
      "48000/48000 [==============================] - 2s 50us/sample - loss: 1.0163 - mse: 27.7197 - accuracy: 0.6057 - val_loss: 0.6648 - val_mse: 27.3721 - val_accuracy: 0.7714\n",
      "Epoch 3/100\n",
      "48000/48000 [==============================] - 2s 49us/sample - loss: 0.8958 - mse: 27.7246 - accuracy: 0.6549 - val_loss: 0.6121 - val_mse: 27.3758 - val_accuracy: 0.7857\n",
      "Epoch 4/100\n",
      "48000/48000 [==============================] - 2s 47us/sample - loss: 0.8267 - mse: 27.7278 - accuracy: 0.6890 - val_loss: 0.5835 - val_mse: 27.3776 - val_accuracy: 0.7924\n",
      "Epoch 5/100\n",
      "48000/48000 [==============================] - 2s 48us/sample - loss: 0.7884 - mse: 27.7300 - accuracy: 0.7060 - val_loss: 0.5486 - val_mse: 27.3813 - val_accuracy: 0.7990\n",
      "Epoch 6/100\n",
      "48000/48000 [==============================] - 2s 49us/sample - loss: 0.7670 - mse: 27.7311 - accuracy: 0.7132 - val_loss: 0.5390 - val_mse: 27.3820 - val_accuracy: 0.8018\n",
      "Epoch 7/100\n",
      "48000/48000 [==============================] - 2s 48us/sample - loss: 0.7392 - mse: 27.7325 - accuracy: 0.7274 - val_loss: 0.5264 - val_mse: 27.3837 - val_accuracy: 0.8062\n",
      "Epoch 8/100\n",
      "48000/48000 [==============================] - 2s 49us/sample - loss: 0.7314 - mse: 27.7332 - accuracy: 0.7301 - val_loss: 0.5218 - val_mse: 27.3831 - val_accuracy: 0.8110\n",
      "Epoch 9/100\n",
      "48000/48000 [==============================] - 2s 48us/sample - loss: 0.7120 - mse: 27.7341 - accuracy: 0.7392 - val_loss: 0.5050 - val_mse: 27.3848 - val_accuracy: 0.8133\n",
      "Epoch 10/100\n",
      "48000/48000 [==============================] - 2s 50us/sample - loss: 0.7039 - mse: 27.7345 - accuracy: 0.7434 - val_loss: 0.5053 - val_mse: 27.3845 - val_accuracy: 0.8218\n",
      "Epoch 11/100\n",
      "48000/48000 [==============================] - 2s 47us/sample - loss: 0.6979 - mse: 27.7350 - accuracy: 0.7494 - val_loss: 0.4922 - val_mse: 27.3855 - val_accuracy: 0.8242\n",
      "Epoch 12/100\n",
      "48000/48000 [==============================] - 2s 49us/sample - loss: 0.6895 - mse: 27.7355 - accuracy: 0.7531 - val_loss: 0.4915 - val_mse: 27.3861 - val_accuracy: 0.8241\n",
      "Epoch 13/100\n",
      "48000/48000 [==============================] - 2s 49us/sample - loss: 0.6851 - mse: 27.7357 - accuracy: 0.7534 - val_loss: 0.4926 - val_mse: 27.3853 - val_accuracy: 0.8233\n",
      "Epoch 14/100\n",
      "48000/48000 [==============================] - 2s 48us/sample - loss: 0.6723 - mse: 27.7363 - accuracy: 0.7592 - val_loss: 0.4762 - val_mse: 27.3869 - val_accuracy: 0.8322\n",
      "Epoch 15/100\n",
      "48000/48000 [==============================] - 2s 49us/sample - loss: 0.6653 - mse: 27.7366 - accuracy: 0.7611 - val_loss: 0.4829 - val_mse: 27.3851 - val_accuracy: 0.8325\n",
      "Epoch 16/100\n",
      "48000/48000 [==============================] - 2s 49us/sample - loss: 0.6639 - mse: 27.7368 - accuracy: 0.7628 - val_loss: 0.4709 - val_mse: 27.3869 - val_accuracy: 0.8328\n",
      "Epoch 17/100\n",
      "48000/48000 [==============================] - 2s 47us/sample - loss: 0.6634 - mse: 27.7370 - accuracy: 0.7645 - val_loss: 0.4715 - val_mse: 27.3868 - val_accuracy: 0.8356\n",
      "Epoch 18/100\n",
      "48000/48000 [==============================] - 2s 48us/sample - loss: 0.6555 - mse: 27.7371 - accuracy: 0.7664 - val_loss: 0.4652 - val_mse: 27.3875 - val_accuracy: 0.8367\n",
      "Epoch 19/100\n",
      "48000/48000 [==============================] - 2s 48us/sample - loss: 0.6519 - mse: 27.7374 - accuracy: 0.7675 - val_loss: 0.4612 - val_mse: 27.3877 - val_accuracy: 0.8358\n",
      "Epoch 20/100\n",
      "48000/48000 [==============================] - 2s 49us/sample - loss: 0.6497 - mse: 27.7376 - accuracy: 0.7670 - val_loss: 0.4687 - val_mse: 27.3870 - val_accuracy: 0.8372\n",
      "Epoch 21/100\n",
      "48000/48000 [==============================] - 2s 48us/sample - loss: 0.6468 - mse: 27.7378 - accuracy: 0.7697 - val_loss: 0.4688 - val_mse: 27.3862 - val_accuracy: 0.8365\n",
      "Epoch 22/100\n",
      "48000/48000 [==============================] - 2s 48us/sample - loss: 0.6472 - mse: 27.7378 - accuracy: 0.7698 - val_loss: 0.4655 - val_mse: 27.3880 - val_accuracy: 0.8342\n",
      "Epoch 23/100\n",
      "48000/48000 [==============================] - 2s 49us/sample - loss: 0.6428 - mse: 27.7378 - accuracy: 0.7711 - val_loss: 0.4621 - val_mse: 27.3882 - val_accuracy: 0.8380\n",
      "Epoch 24/100\n",
      "48000/48000 [==============================] - 2s 48us/sample - loss: 0.6347 - mse: 27.7384 - accuracy: 0.7746 - val_loss: 0.4594 - val_mse: 27.3879 - val_accuracy: 0.8393\n",
      "Epoch 25/100\n",
      "48000/48000 [==============================] - 2s 48us/sample - loss: 0.6348 - mse: 27.7383 - accuracy: 0.7759 - val_loss: 0.4540 - val_mse: 27.3888 - val_accuracy: 0.8379\n",
      "Epoch 26/100\n",
      "48000/48000 [==============================] - 2s 48us/sample - loss: 0.6341 - mse: 27.7386 - accuracy: 0.7759 - val_loss: 0.4581 - val_mse: 27.3878 - val_accuracy: 0.8416\n",
      "Epoch 27/100\n",
      "48000/48000 [==============================] - 2s 48us/sample - loss: 0.6265 - mse: 27.7389 - accuracy: 0.7761 - val_loss: 0.4471 - val_mse: 27.3895 - val_accuracy: 0.8418\n",
      "Epoch 28/100\n",
      "48000/48000 [==============================] - 2s 48us/sample - loss: 0.6293 - mse: 27.7390 - accuracy: 0.7772 - val_loss: 0.4530 - val_mse: 27.3884 - val_accuracy: 0.8436\n",
      "Epoch 29/100\n",
      "48000/48000 [==============================] - 2s 49us/sample - loss: 0.6272 - mse: 27.7391 - accuracy: 0.7780 - val_loss: 0.4486 - val_mse: 27.3884 - val_accuracy: 0.8443\n",
      "Epoch 30/100\n",
      "48000/48000 [==============================] - 2s 47us/sample - loss: 0.6230 - mse: 27.7391 - accuracy: 0.7779 - val_loss: 0.4500 - val_mse: 27.3889 - val_accuracy: 0.8420\n",
      "Epoch 31/100\n",
      "48000/48000 [==============================] - 2s 49us/sample - loss: 0.6184 - mse: 27.7392 - accuracy: 0.7820 - val_loss: 0.4479 - val_mse: 27.3900 - val_accuracy: 0.8444\n",
      "Epoch 32/100\n",
      "48000/48000 [==============================] - 2s 49us/sample - loss: 0.6211 - mse: 27.7393 - accuracy: 0.7811 - val_loss: 0.4475 - val_mse: 27.3892 - val_accuracy: 0.8437\n",
      "Epoch 33/100\n",
      "48000/48000 [==============================] - 2s 48us/sample - loss: 0.6203 - mse: 27.7395 - accuracy: 0.7819 - val_loss: 0.4492 - val_mse: 27.3884 - val_accuracy: 0.8434\n",
      "Epoch 34/100\n",
      "48000/48000 [==============================] - 2s 47us/sample - loss: 0.6126 - mse: 27.7396 - accuracy: 0.7832 - val_loss: 0.4486 - val_mse: 27.3894 - val_accuracy: 0.8432\n",
      "Epoch 35/100\n",
      "48000/48000 [==============================] - 2s 47us/sample - loss: 0.6119 - mse: 27.7397 - accuracy: 0.7831 - val_loss: 0.4493 - val_mse: 27.3887 - val_accuracy: 0.8438\n",
      "Epoch 36/100\n",
      "48000/48000 [==============================] - 2s 49us/sample - loss: 0.6144 - mse: 27.7397 - accuracy: 0.7842 - val_loss: 0.4434 - val_mse: 27.3900 - val_accuracy: 0.8440\n",
      "Epoch 37/100\n",
      "48000/48000 [==============================] - 2s 48us/sample - loss: 0.6103 - mse: 27.7400 - accuracy: 0.7852 - val_loss: 0.4457 - val_mse: 27.3891 - val_accuracy: 0.8453 0.6141 - mse: 27.7635 - accurac\n",
      "Epoch 38/100\n",
      "48000/48000 [==============================] - 2s 48us/sample - loss: 0.6035 - mse: 27.7402 - accuracy: 0.7873 - val_loss: 0.4484 - val_mse: 27.3895 - val_accuracy: 0.8423\n",
      "Epoch 39/100\n",
      "48000/48000 [==============================] - 2s 48us/sample - loss: 0.6080 - mse: 27.7401 - accuracy: 0.7842 - val_loss: 0.4479 - val_mse: 27.3885 - val_accuracy: 0.8442\n",
      "Epoch 40/100\n",
      "48000/48000 [==============================] - 2s 48us/sample - loss: 0.6032 - mse: 27.7402 - accuracy: 0.7886 - val_loss: 0.4468 - val_mse: 27.3900 - val_accuracy: 0.8422\n",
      "Epoch 41/100\n",
      "48000/48000 [==============================] - 2s 47us/sample - loss: 0.6005 - mse: 27.7403 - accuracy: 0.7910 - val_loss: 0.4439 - val_mse: 27.3897 - val_accuracy: 0.8459\n",
      "Epoch 42/100\n",
      "48000/48000 [==============================] - 2s 48us/sample - loss: 0.6118 - mse: 27.7402 - accuracy: 0.7838 - val_loss: 0.4416 - val_mse: 27.3888 - val_accuracy: 0.8447\n",
      "Epoch 43/100\n",
      "48000/48000 [==============================] - 2s 47us/sample - loss: 0.6028 - mse: 27.7402 - accuracy: 0.7892 - val_loss: 0.4468 - val_mse: 27.3891 - val_accuracy: 0.8438\n",
      "Epoch 44/100\n",
      "48000/48000 [==============================] - 2s 48us/sample - loss: 0.6056 - mse: 27.7403 - accuracy: 0.7858 - val_loss: 0.4369 - val_mse: 27.3897 - val_accuracy: 0.8478\n",
      "Epoch 45/100\n",
      "48000/48000 [==============================] - 2s 47us/sample - loss: 0.6002 - mse: 27.7402 - accuracy: 0.7896 - val_loss: 0.4394 - val_mse: 27.3894 - val_accuracy: 0.8474\n",
      "Epoch 46/100\n",
      "48000/48000 [==============================] - 2s 47us/sample - loss: 0.6053 - mse: 27.7403 - accuracy: 0.7883 - val_loss: 0.4385 - val_mse: 27.3904 - val_accuracy: 0.8451\n",
      "Epoch 47/100\n",
      "48000/48000 [==============================] - 2s 47us/sample - loss: 0.5974 - mse: 27.7405 - accuracy: 0.7892 - val_loss: 0.4359 - val_mse: 27.3903 - val_accuracy: 0.8478\n",
      "Epoch 48/100\n",
      "48000/48000 [==============================] - 2s 47us/sample - loss: 0.5928 - mse: 27.7408 - accuracy: 0.7918 - val_loss: 0.4379 - val_mse: 27.3899 - val_accuracy: 0.8468\n",
      "Epoch 49/100\n",
      "48000/48000 [==============================] - 2s 46us/sample - loss: 0.5967 - mse: 27.7404 - accuracy: 0.7901 - val_loss: 0.4402 - val_mse: 27.3898 - val_accuracy: 0.8462\n",
      "Epoch 50/100\n",
      "48000/48000 [==============================] - 2s 45us/sample - loss: 0.5928 - mse: 27.7408 - accuracy: 0.7916 - val_loss: 0.4357 - val_mse: 27.3910 - val_accuracy: 0.8464\n",
      "Epoch 51/100\n",
      "48000/48000 [==============================] - 2s 48us/sample - loss: 0.5948 - mse: 27.7407 - accuracy: 0.7917 - val_loss: 0.4368 - val_mse: 27.3900 - val_accuracy: 0.8493\n",
      "Epoch 52/100\n",
      "48000/48000 [==============================] - 2s 45us/sample - loss: 0.5906 - mse: 27.7407 - accuracy: 0.7936 - val_loss: 0.4391 - val_mse: 27.3903 - val_accuracy: 0.8443\n",
      "Epoch 53/100\n",
      "48000/48000 [==============================] - 2s 45us/sample - loss: 0.5908 - mse: 27.7408 - accuracy: 0.7924 - val_loss: 0.4357 - val_mse: 27.3902 - val_accuracy: 0.8478\n",
      "Epoch 54/100\n",
      "48000/48000 [==============================] - 2s 46us/sample - loss: 0.5838 - mse: 27.7410 - accuracy: 0.7944 - val_loss: 0.4327 - val_mse: 27.3910 - val_accuracy: 0.8499\n",
      "Epoch 55/100\n",
      "48000/48000 [==============================] - 2s 47us/sample - loss: 0.5893 - mse: 27.7411 - accuracy: 0.7936 - val_loss: 0.4330 - val_mse: 27.3912 - val_accuracy: 0.8493\n",
      "Epoch 56/100\n",
      "48000/48000 [==============================] - 2s 44us/sample - loss: 0.5844 - mse: 27.7411 - accuracy: 0.7948 - val_loss: 0.4298 - val_mse: 27.3914 - val_accuracy: 0.8504\n",
      "Epoch 57/100\n",
      "48000/48000 [==============================] - 2s 47us/sample - loss: 0.5865 - mse: 27.7411 - accuracy: 0.7952 - val_loss: 0.4355 - val_mse: 27.3913 - val_accuracy: 0.8460\n",
      "Epoch 58/100\n",
      "48000/48000 [==============================] - 2s 47us/sample - loss: 0.5899 - mse: 27.7412 - accuracy: 0.7933 - val_loss: 0.4314 - val_mse: 27.3922 - val_accuracy: 0.8480\n",
      "Epoch 59/100\n",
      "48000/48000 [==============================] - 2s 46us/sample - loss: 0.5865 - mse: 27.7409 - accuracy: 0.7937 - val_loss: 0.4331 - val_mse: 27.3900 - val_accuracy: 0.8477\n",
      "Epoch 60/100\n",
      "48000/48000 [==============================] - 2s 43us/sample - loss: 0.5844 - mse: 27.7411 - accuracy: 0.7944 - val_loss: 0.4288 - val_mse: 27.3909 - val_accuracy: 0.8516\n",
      "Epoch 61/100\n",
      "48000/48000 [==============================] - 2s 47us/sample - loss: 0.5838 - mse: 27.7413 - accuracy: 0.7965 - val_loss: 0.4326 - val_mse: 27.3909 - val_accuracy: 0.8489\n",
      "Epoch 62/100\n",
      "48000/48000 [==============================] - 2s 50us/sample - loss: 0.5817 - mse: 27.7413 - accuracy: 0.7952 - val_loss: 0.4309 - val_mse: 27.3911 - val_accuracy: 0.8496\n",
      "Epoch 63/100\n",
      "48000/48000 [==============================] - 2s 51us/sample - loss: 0.5840 - mse: 27.7414 - accuracy: 0.7962 - val_loss: 0.4292 - val_mse: 27.3912 - val_accuracy: 0.8479\n",
      "Epoch 64/100\n",
      "48000/48000 [==============================] - 2s 48us/sample - loss: 0.5829 - mse: 27.7412 - accuracy: 0.7974 - val_loss: 0.4299 - val_mse: 27.3915 - val_accuracy: 0.8493\n",
      "Epoch 65/100\n",
      "48000/48000 [==============================] - 2s 45us/sample - loss: 0.5848 - mse: 27.7413 - accuracy: 0.7967 - val_loss: 0.4274 - val_mse: 27.3910 - val_accuracy: 0.8512\n",
      "Epoch 66/100\n",
      "48000/48000 [==============================] - 2s 43us/sample - loss: 0.5808 - mse: 27.7414 - accuracy: 0.7965 - val_loss: 0.4347 - val_mse: 27.3907 - val_accuracy: 0.8507\n",
      "Epoch 67/100\n",
      "48000/48000 [==============================] - 2s 47us/sample - loss: 0.5811 - mse: 27.7413 - accuracy: 0.7983 - val_loss: 0.4325 - val_mse: 27.3914 - val_accuracy: 0.8482\n",
      "Epoch 68/100\n",
      "48000/48000 [==============================] - 2s 45us/sample - loss: 0.5815 - mse: 27.7415 - accuracy: 0.7998 - val_loss: 0.4308 - val_mse: 27.3909 - val_accuracy: 0.8541\n",
      "Epoch 69/100\n",
      "48000/48000 [==============================] - 2s 48us/sample - loss: 0.5777 - mse: 27.7415 - accuracy: 0.7978 - val_loss: 0.4231 - val_mse: 27.3925 - val_accuracy: 0.8551\n",
      "Epoch 70/100\n",
      "48000/48000 [==============================] - 2s 44us/sample - loss: 0.5771 - mse: 27.7416 - accuracy: 0.7977 - val_loss: 0.4281 - val_mse: 27.3908 - val_accuracy: 0.8528\n",
      "Epoch 71/100\n",
      "48000/48000 [==============================] - 2s 45us/sample - loss: 0.5794 - mse: 27.7415 - accuracy: 0.7997 - val_loss: 0.4329 - val_mse: 27.3920 - val_accuracy: 0.8486\n",
      "Epoch 72/100\n",
      "48000/48000 [==============================] - 2s 46us/sample - loss: 0.5783 - mse: 27.7414 - accuracy: 0.7991 - val_loss: 0.4278 - val_mse: 27.3906 - val_accuracy: 0.8533\n",
      "Epoch 73/100\n",
      "48000/48000 [==============================] - 2s 46us/sample - loss: 0.5776 - mse: 27.7416 - accuracy: 0.7984 - val_loss: 0.4293 - val_mse: 27.3911 - val_accuracy: 0.8509\n",
      "Epoch 74/100\n",
      "48000/48000 [==============================] - 2s 47us/sample - loss: 0.5756 - mse: 27.7417 - accuracy: 0.8019 - val_loss: 0.4292 - val_mse: 27.3904 - val_accuracy: 0.8494\n",
      "Epoch 75/100\n",
      "48000/48000 [==============================] - 2s 47us/sample - loss: 0.5773 - mse: 27.7416 - accuracy: 0.8000 - val_loss: 0.4370 - val_mse: 27.3910 - val_accuracy: 0.8479\n",
      "Epoch 76/100\n",
      "48000/48000 [==============================] - 2s 46us/sample - loss: 0.5731 - mse: 27.7418 - accuracy: 0.8014 - val_loss: 0.4282 - val_mse: 27.3916 - val_accuracy: 0.8499\n",
      "Epoch 77/100\n",
      "48000/48000 [==============================] - 2s 44us/sample - loss: 0.5755 - mse: 27.7418 - accuracy: 0.8012 - val_loss: 0.4261 - val_mse: 27.3908 - val_accuracy: 0.8527\n",
      "Epoch 78/100\n",
      "48000/48000 [==============================] - 2s 47us/sample - loss: 0.5738 - mse: 27.7419 - accuracy: 0.8020 - val_loss: 0.4281 - val_mse: 27.3905 - val_accuracy: 0.8526\n",
      "Epoch 79/100\n",
      "48000/48000 [==============================] - 2s 50us/sample - loss: 0.5721 - mse: 27.7416 - accuracy: 0.8019 - val_loss: 0.4273 - val_mse: 27.3921 - val_accuracy: 0.8514\n",
      "Epoch 80/100\n",
      "48000/48000 [==============================] - 2s 48us/sample - loss: 0.5709 - mse: 27.7419 - accuracy: 0.8011 - val_loss: 0.4251 - val_mse: 27.3918 - val_accuracy: 0.8501\n",
      "Epoch 81/100\n",
      "48000/48000 [==============================] - 2s 45us/sample - loss: 0.5727 - mse: 27.7418 - accuracy: 0.7998 - val_loss: 0.4260 - val_mse: 27.3910 - val_accuracy: 0.8525\n",
      "Epoch 82/100\n",
      "48000/48000 [==============================] - 2s 47us/sample - loss: 0.5679 - mse: 27.7419 - accuracy: 0.8002 - val_loss: 0.4274 - val_mse: 27.3906 - val_accuracy: 0.8514\n",
      "Epoch 83/100\n",
      "48000/48000 [==============================] - 2s 46us/sample - loss: 0.5674 - mse: 27.7422 - accuracy: 0.8024 - val_loss: 0.4265 - val_mse: 27.3922 - val_accuracy: 0.8513\n",
      "Epoch 84/100\n",
      "48000/48000 [==============================] - 2s 45us/sample - loss: 0.5672 - mse: 27.7420 - accuracy: 0.8026 - val_loss: 0.4230 - val_mse: 27.3924 - val_accuracy: 0.8533\n",
      "Epoch 85/100\n",
      "48000/48000 [==============================] - 2s 44us/sample - loss: 0.5671 - mse: 27.7421 - accuracy: 0.8033 - val_loss: 0.4256 - val_mse: 27.3912 - val_accuracy: 0.8547\n",
      "Epoch 86/100\n",
      "48000/48000 [==============================] - 2s 48us/sample - loss: 0.5629 - mse: 27.7421 - accuracy: 0.8049 - val_loss: 0.4268 - val_mse: 27.3909 - val_accuracy: 0.8533\n",
      "Epoch 87/100\n",
      "48000/48000 [==============================] - 2s 47us/sample - loss: 0.5697 - mse: 27.7419 - accuracy: 0.8024 - val_loss: 0.4332 - val_mse: 27.3905 - val_accuracy: 0.8503\n",
      "Epoch 88/100\n",
      "48000/48000 [==============================] - 2s 47us/sample - loss: 0.5704 - mse: 27.7420 - accuracy: 0.8017 - val_loss: 0.4253 - val_mse: 27.3911 - val_accuracy: 0.8512\n",
      "Epoch 89/100\n",
      "48000/48000 [==============================] - 2s 47us/sample - loss: 0.5672 - mse: 27.7421 - accuracy: 0.8033 - val_loss: 0.4252 - val_mse: 27.3918 - val_accuracy: 0.8518\n",
      "Epoch 90/100\n",
      "48000/48000 [==============================] - 2s 47us/sample - loss: 0.5664 - mse: 27.7422 - accuracy: 0.8030 - val_loss: 0.4249 - val_mse: 27.3925 - val_accuracy: 0.8511\n",
      "Epoch 91/100\n",
      "48000/48000 [==============================] - 2s 45us/sample - loss: 0.5637 - mse: 27.7422 - accuracy: 0.8030 - val_loss: 0.4251 - val_mse: 27.3923 - val_accuracy: 0.8519\n",
      "Epoch 92/100\n",
      "48000/48000 [==============================] - 2s 47us/sample - loss: 0.5649 - mse: 27.7421 - accuracy: 0.8018 - val_loss: 0.4237 - val_mse: 27.3918 - val_accuracy: 0.8543\n",
      "Epoch 93/100\n",
      "48000/48000 [==============================] - 2s 45us/sample - loss: 0.5674 - mse: 27.7421 - accuracy: 0.8023 - val_loss: 0.4277 - val_mse: 27.3928 - val_accuracy: 0.8510\n",
      "Epoch 94/100\n",
      "48000/48000 [==============================] - 2s 47us/sample - loss: 0.5661 - mse: 27.7422 - accuracy: 0.8036 - val_loss: 0.4242 - val_mse: 27.3921 - val_accuracy: 0.8534\n",
      "Epoch 95/100\n",
      "48000/48000 [==============================] - 2s 44us/sample - loss: 0.5639 - mse: 27.7423 - accuracy: 0.8057 - val_loss: 0.4267 - val_mse: 27.3910 - val_accuracy: 0.8524\n",
      "Epoch 96/100\n",
      "48000/48000 [==============================] - 2s 49us/sample - loss: 0.5604 - mse: 27.7423 - accuracy: 0.8050 - val_loss: 0.4205 - val_mse: 27.3922 - val_accuracy: 0.8533\n",
      "Epoch 97/100\n",
      "48000/48000 [==============================] - 2s 47us/sample - loss: 0.5631 - mse: 27.7422 - accuracy: 0.8048 - val_loss: 0.4258 - val_mse: 27.3917 - val_accuracy: 0.8523\n",
      "Epoch 98/100\n",
      "48000/48000 [==============================] - 2s 46us/sample - loss: 0.5648 - mse: 27.7420 - accuracy: 0.8037 - val_loss: 0.4235 - val_mse: 27.3923 - val_accuracy: 0.8537\n",
      "Epoch 99/100\n",
      "48000/48000 [==============================] - 2s 46us/sample - loss: 0.5631 - mse: 27.7424 - accuracy: 0.8069 - val_loss: 0.4210 - val_mse: 27.3923 - val_accuracy: 0.8533\n",
      "Epoch 100/100\n",
      "48000/48000 [==============================] - 2s 45us/sample - loss: 0.5592 - mse: 27.7424 - accuracy: 0.8059 - val_loss: 0.4247 - val_mse: 27.3922 - val_accuracy: 0.8524\n"
     ]
    }
   ],
   "source": [
    "#Build a neral network model\n",
    "\n",
    "model = Sequential([\n",
    "    Flatten(),\n",
    "    Dense(16, input_dim=784, activation='selu'),\n",
    "    Dropout(.2),\n",
    "    Dense(16, activation='relu'),\n",
    "    Dropout(.2),\n",
    "    Dense(16, activation='relu'),\n",
    "    Dropout(.2),\n",
    "    Dense(10, activation='softmax')\n",
    "])\n",
    "\n",
    "model.compile(loss='sparse_categorical_crossentropy', optimizer='adamax', metrics=['mse', 'accuracy'])\n",
    "history = model.fit(x_train, y_train, validation_split = 0.2, epochs = 100, verbose=1)"
   ]
  },
  {
   "cell_type": "code",
   "execution_count": 115,
   "metadata": {},
   "outputs": [
    {
     "name": "stdout",
     "output_type": "stream",
     "text": [
      "10000/10000 [==============================] - 0s 39us/sample - loss: 0.4496 - mse: 27.6769 - accuracy: 0.8414\n",
      "Validation Data Metrics:\n",
      "loss: 0.4496271329402924\n",
      "mse: 27.676891326904297\n",
      "accuracy: 84.0%\n"
     ]
    }
   ],
   "source": [
    "score = model.evaluate(x_test, y_test)\n",
    "print(\"Validation Data Metrics:\")\n",
    "print(f'{model.metrics_names[0]}: {score[0]}')\n",
    "print(f'{model.metrics_names[1]}: {score[1]}')\n",
    "print(f'{model.metrics_names[2]}: {np.round(score[2]*100)}%')"
   ]
  },
  {
   "cell_type": "code",
   "execution_count": 116,
   "metadata": {},
   "outputs": [
    {
     "data": {
      "text/plain": [
       "dict_keys(['loss', 'mse', 'accuracy', 'val_loss', 'val_mse', 'val_accuracy'])"
      ]
     },
     "execution_count": 116,
     "metadata": {},
     "output_type": "execute_result"
    }
   ],
   "source": [
    "history.history.keys()"
   ]
  },
  {
   "cell_type": "code",
   "execution_count": 118,
   "metadata": {},
   "outputs": [
    {
     "data": {
      "image/png": "[encoded data removed]",
      "text/plain": [
       "<Figure size 432x288 with 1 Axes>"
      ]
     },
     "metadata": {
      "needs_background": "light"
     },
     "output_type": "display_data"
    },
    {
     "data": {
      "image/png": "[encoded data removed]",
      "text/plain": [
       "<Figure size 432x288 with 1 Axes>"
      ]
     },
     "metadata": {
      "needs_background": "light"
     },
     "output_type": "display_data"
    },
    {
     "data": {
      "image/png": "[encoded data removed]",
      "text/plain": [
       "<Figure size 432x288 with 1 Axes>"
      ]
     },
     "metadata": {
      "needs_background": "light"
     },
     "output_type": "display_data"
    }
   ],
   "source": [
    "#Plot validation accuracy\n",
    "plt.plot(history.history['accuracy'])\n",
    "plt.plot(history.history['val_accuracy'])\n",
    "plt.title('Accuracy')\n",
    "plt.ylabel('Accuracy')\n",
    "plt.xlabel('Epoch')\n",
    "plt.legend(['Train', 'Test'], loc = 'upper right')\n",
    "plt.show()\n",
    "\n",
    "#Plot validation loss\n",
    "plt.plot(history.history['loss'])\n",
    "plt.plot(history.history['val_loss'])\n",
    "plt.title('Loss')\n",
    "plt.ylabel('Loss')\n",
    "plt.xlabel('Epoch')\n",
    "plt.legend(['Train', 'Test'], loc = 'upper right')\n",
    "plt.show()\n",
    "\n",
    "#Plot validation loss\n",
    "plt.plot(history.history['mse'])\n",
    "plt.plot(history.history['val_mse'])\n",
    "plt.title('Mean Squared Error')\n",
    "plt.ylabel('MSE')\n",
    "plt.xlabel('Epoch')\n",
    "plt.legend(['Train', 'Test'], loc = 'upper right')\n",
    "plt.show()"
   ]
  },
  {
   "cell_type": "markdown",
   "metadata": {
    "colab_type": "text",
    "id": "zv_3xNMjzdLI"
   },
   "source": [
    "## Stretch Goals:\n",
    "\n",
    "- Use Hyperparameter Tuning to make the accuracy of your models as high as possible. (error as low as possible)\n",
    "- Use Cross Validation techniques to get more consistent results with your model.\n",
    "- Use GridSearchCV to try different combinations of hyperparameters. \n",
    "- Start looking into other types of Keras layers for CNNs and RNNs maybe try and build a CNN model for fashion-MNIST to see how the results compare."
   ]
  }
 ],
 "metadata": {
  "colab": {
   "name": "LS_DS_433_Keras_Assignment.ipynb",
   "provenance": [],
   "version": "0.3.2"
  },
  "kernelspec": {
   "display_name": "U4-S1-NLP (Python3)",
   "language": "python",
   "name": "u4-s1-nlp"
  },
  "language_info": {
   "codemirror_mode": {
    "name": "ipython",
    "version": 3
   },
   "file_extension": ".py",
   "mimetype": "text/x-python",
   "name": "python",
   "nbconvert_exporter": "python",
   "pygments_lexer": "ipython3",
   "version": "3.7.0"
  }
 },
 "nbformat": 4,
 "nbformat_minor": 4
}
