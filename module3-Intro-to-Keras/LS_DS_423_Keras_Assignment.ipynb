{
 "cells": [
  {
   "cell_type": "markdown",
   "metadata": {
    "colab_type": "text",
    "id": "pBQsZEJmubLs"
   },
   "source": [
    "## Use the Keras Library to build a Multi-Layer Perceptron Model on the Boston Housing dataset\n",
    "\n",
    "- The Boston Housing dataset comes with the Keras library so use Keras to import it into your notebook. \n",
    "- Normalize the data (all features should have roughly the same scale)\n",
    "- Import the type of model and layers that you will need from Keras.\n",
    "- Instantiate a model object and use `model.add()` to add layers to your model\n",
    "- Since this is a regression model you will have a single output node in the final layer.\n",
    "- Use activation functions that are appropriate for this task\n",
    "- Compile your model\n",
    "- Fit your model and report its accuracy in terms of Mean Squared Error\n",
    "- Use the history object that is returned from model.fit to make graphs of the model's loss or train/validation accuracies by epoch. \n",
    "- Run this same data through a linear regression model. Which achieves higher accuracy?\n",
    "- Do a little bit of feature engineering and see how that affects your neural network model. (you will need to change your model to accept more inputs)\n",
    "- After feature engineering, which model sees a greater accuracy boost due to the new features?"
   ]
  },
  {
   "cell_type": "code",
   "execution_count": 123,
   "metadata": {
    "colab": {},
    "colab_type": "code",
    "id": "8NLTAR87uYJ-"
   },
   "outputs": [],
   "source": [
    "from keras.datasets import boston_housing\n",
    "\n",
    "(x_train, y_train), (x_test, y_test) = boston_housing.load_data()"
   ]
  },
  {
   "cell_type": "code",
   "execution_count": 124,
   "metadata": {},
   "outputs": [
    {
     "data": {
      "text/plain": [
       "((404, 13), (404, 1), (102, 13), (102, 1))"
      ]
     },
     "execution_count": 124,
     "metadata": {},
     "output_type": "execute_result"
    }
   ],
   "source": [
    "import pandas as pd\n",
    "\n",
    "x_train = pd.DataFrame(x_train)\n",
    "y_train = pd.DataFrame(y_train)\n",
    "x_test = pd.DataFrame(x_test)\n",
    "y_test = pd.DataFrame(y_test)\n",
    "\n",
    "x_train.shape, y_train.shape, x_test.shape, y_test.shape"
   ]
  },
  {
   "cell_type": "code",
   "execution_count": 125,
   "metadata": {},
   "outputs": [],
   "source": [
    "from sklearn.preprocessing import MinMaxScaler\n",
    "\n",
    "scaler = MinMaxScaler()\n",
    "x_train = scaler.fit_transform(x_train, y_train)\n",
    "x_test = scaler.fit_transform(x_test, y_test)"
   ]
  },
  {
   "cell_type": "code",
   "execution_count": 126,
   "metadata": {},
   "outputs": [],
   "source": [
    "from tensorflow.keras.models import Sequential\n",
    "from tensorflow.keras.layers import Dense\n",
    "import numpy as np\n",
    "\n",
    "model = Sequential()\n",
    "# input layer\n",
    "model.add(Dense(1, input_dim=13, activation='sigmoid'))\n",
    "# hidden layet\n",
    "model.add(Dense(1, activation=\"sigmoid\"))\n",
    "#output layer\n",
    "model.add(Dense(1, activation=\"linear\"))\n",
    "\n",
    "model.compile(loss='mean_squared_error', optimizer=\"adam\")"
   ]
  },
  {
   "cell_type": "code",
   "execution_count": 127,
   "metadata": {},
   "outputs": [],
   "source": [
    "history = model.fit(x_train, y_train, epochs=500, verbose=0)"
   ]
  },
  {
   "cell_type": "code",
   "execution_count": 128,
   "metadata": {},
   "outputs": [
    {
     "name": "stdout",
     "output_type": "stream",
     "text": [
      "102/102 [==============================] - 0s 2ms/sample - loss: 178.5899\n"
     ]
    }
   ],
   "source": [
    "scores = model.evaluate(x_test, y_test)"
   ]
  },
  {
   "cell_type": "code",
   "execution_count": 129,
   "metadata": {},
   "outputs": [
    {
     "name": "stdout",
     "output_type": "stream",
     "text": [
      "dict_keys(['loss'])\n"
     ]
    }
   ],
   "source": [
    "print(history.history.keys())"
   ]
  },
  {
   "cell_type": "code",
   "execution_count": 130,
   "metadata": {},
   "outputs": [
    {
     "name": "stdout",
     "output_type": "stream",
     "text": [
      "[568.0981203589109, 566.8388671875, 565.5639346283261, 564.2612631014078, 562.9604105430075, 561.6459864248144, 560.3060610931699, 558.9781312848081, 557.632936383238, 556.2946535620359]\n"
     ]
    }
   ],
   "source": [
    "print(history.history['loss'][0:10])"
   ]
  },
  {
   "cell_type": "code",
   "execution_count": 131,
   "metadata": {},
   "outputs": [
    {
     "data": {
      "image/png": "[encoded data removed]",
      "text/plain": [
       "<Figure size 432x288 with 1 Axes>"
      ]
     },
     "metadata": {
      "needs_background": "light"
     },
     "output_type": "display_data"
    }
   ],
   "source": [
    "import matplotlib.pyplot as plt\n",
    "\n",
    "plt.plot(history.history['loss'])\n",
    "plt.title('Model loss')\n",
    "plt.ylabel('Loss')\n",
    "plt.xlabel('Epoch')\n",
    "plt.show()"
   ]
  },
  {
   "cell_type": "code",
   "execution_count": 79,
   "metadata": {},
   "outputs": [
    {
     "data": {
      "text/plain": [
       "40.6014544667151"
      ]
     },
     "execution_count": 79,
     "metadata": {},
     "output_type": "execute_result"
    }
   ],
   "source": [
    "from sklearn.linear_model import LinearRegression\n",
    "from sklearn.metrics import mean_squared_error\n",
    "\n",
    "lin_reg = LinearRegression()\n",
    "lin_reg.fit(x_train, y_train)\n",
    "y_pred = lin_reg.predict(x_test)\n",
    "\n",
    "mean_squared_error(y_test, y_pred)"
   ]
  },
  {
   "cell_type": "markdown",
   "metadata": {
    "colab_type": "text",
    "id": "SfcFnOONyuNm"
   },
   "source": [
    "## Use the Keras Library to build an image recognition network using the Fashion-MNIST dataset (also comes with keras)\n",
    "\n",
    "- Load and preprocess the image data similar to how we preprocessed the MNIST data in class.\n",
    "- Make sure to one-hot encode your category labels\n",
    "- Make sure to have your final layer have as many nodes as the number of classes that you want to predict.\n",
    "- Try different hyperparameters. What is the highest accuracy that you are able to achieve.\n",
    "- Use the history object that is returned from model.fit to make graphs of the model's loss or train/validation accuracies by epoch. \n",
    "- Remember that neural networks fall prey to randomness so you may need to run your model multiple times (or use Cross Validation) in order to tell if a change to a hyperparameter is truly producing better results."
   ]
  },
  {
   "cell_type": "code",
   "execution_count": 134,
   "metadata": {
    "colab": {},
    "colab_type": "code",
    "id": "szi6-IpuzaH1"
   },
   "outputs": [],
   "source": [
    "import tensorflow as tf\n",
    "(X_train, y_train), (X_test, y_test) = tf.keras.datasets.mnist.load_data()"
   ]
  },
  {
   "cell_type": "code",
   "execution_count": 135,
   "metadata": {},
   "outputs": [
    {
     "data": {
      "text/plain": [
       "(60000, 28, 28)"
      ]
     },
     "execution_count": 135,
     "metadata": {},
     "output_type": "execute_result"
    }
   ],
   "source": [
    "X_train.shape"
   ]
  },
  {
   "cell_type": "code",
   "execution_count": 136,
   "metadata": {},
   "outputs": [],
   "source": [
    "# reshape\n",
    "X_train = X_train.reshape(60000, 784)\n",
    "X_test = X_test.reshape(10000, 784)"
   ]
  },
  {
   "cell_type": "code",
   "execution_count": 138,
   "metadata": {},
   "outputs": [],
   "source": [
    "# set to floats\n",
    "X_train = X_train.astype('float32')\n",
    "X_test = X_test.astype('float32')"
   ]
  },
  {
   "cell_type": "code",
   "execution_count": 141,
   "metadata": {},
   "outputs": [],
   "source": [
    "# set outputs to categorical\n",
    "import keras\n",
    "\n",
    "y_train = keras.utils.to_categorical(y_train, 10)\n",
    "y_test = keras.utils.to_categorical(y_test, 10)"
   ]
  },
  {
   "cell_type": "code",
   "execution_count": 142,
   "metadata": {},
   "outputs": [
    {
     "data": {
      "text/plain": [
       "array([0., 0., 0., 0., 0., 1., 0., 0., 0., 0.], dtype=float32)"
      ]
     },
     "execution_count": 142,
     "metadata": {},
     "output_type": "execute_result"
    }
   ],
   "source": [
    "y_train[0]"
   ]
  },
  {
   "cell_type": "code",
   "execution_count": 143,
   "metadata": {},
   "outputs": [],
   "source": [
    "mnist_model = Sequential()\n",
    "\n",
    "# hidden layer\n",
    "mnist_model.add(Dense(16, input_dim=784, activation='relu'))\n",
    "mnist_model.add(Dense(16, activation='relu'))\n",
    "# output layer\n",
    "mnist_model.add(Dense(10, activation='softmax'))\n",
    "\n",
    "mnist_model.compile(loss='categorical_crossentropy', optimizer='adam', metrics=['accuracy'])"
   ]
  },
  {
   "cell_type": "code",
   "execution_count": 146,
   "metadata": {},
   "outputs": [
    {
     "name": "stdout",
     "output_type": "stream",
     "text": [
      "Epoch 1/150\n",
      "60000/60000 [==============================] - 3s 51us/sample - loss: 0.2820 - acc: 0.9189\n",
      "Epoch 2/150\n",
      "60000/60000 [==============================] - 3s 49us/sample - loss: 0.2797 - acc: 0.9200\n",
      "Epoch 3/150\n",
      "60000/60000 [==============================] - 3s 48us/sample - loss: 0.2832 - acc: 0.9186\n",
      "Epoch 4/150\n",
      "60000/60000 [==============================] - 3s 49us/sample - loss: 0.2830 - acc: 0.9190\n",
      "Epoch 5/150\n",
      "60000/60000 [==============================] - 3s 50us/sample - loss: 0.2841 - acc: 0.9187\n",
      "Epoch 6/150\n",
      "60000/60000 [==============================] - 3s 51us/sample - loss: 0.2837 - acc: 0.9191\n",
      "Epoch 7/150\n",
      "60000/60000 [==============================] - 3s 52us/sample - loss: 0.2811 - acc: 0.9204\n",
      "Epoch 8/150\n",
      "60000/60000 [==============================] - 3s 56us/sample - loss: 0.2817 - acc: 0.9196\n",
      "Epoch 9/150\n",
      "60000/60000 [==============================] - 3s 51us/sample - loss: 0.2837 - acc: 0.9198\n",
      "Epoch 10/150\n",
      "60000/60000 [==============================] - 3s 57us/sample - loss: 0.2816 - acc: 0.9194\n",
      "Epoch 11/150\n",
      "60000/60000 [==============================] - 4s 60us/sample - loss: 0.2840 - acc: 0.9193\n",
      "Epoch 12/150\n",
      "60000/60000 [==============================] - 3s 51us/sample - loss: 0.2803 - acc: 0.9196\n",
      "Epoch 13/150\n",
      "60000/60000 [==============================] - 3s 51us/sample - loss: 0.2818 - acc: 0.9201\n",
      "Epoch 14/150\n",
      "60000/60000 [==============================] - 3s 54us/sample - loss: 0.2832 - acc: 0.9176\n",
      "Epoch 15/150\n",
      "60000/60000 [==============================] - 3s 52us/sample - loss: 0.2821 - acc: 0.9199\n",
      "Epoch 16/150\n",
      "60000/60000 [==============================] - 3s 52us/sample - loss: 0.2782 - acc: 0.9207\n",
      "Epoch 17/150\n",
      "60000/60000 [==============================] - 3s 52us/sample - loss: 0.2823 - acc: 0.9195\n",
      "Epoch 18/150\n",
      "60000/60000 [==============================] - 3s 52us/sample - loss: 0.2828 - acc: 0.9191\n",
      "Epoch 19/150\n",
      "60000/60000 [==============================] - 3s 54us/sample - loss: 0.2786 - acc: 0.9208\n",
      "Epoch 20/150\n",
      "60000/60000 [==============================] - 3s 53us/sample - loss: 0.2817 - acc: 0.9196\n",
      "Epoch 21/150\n",
      "60000/60000 [==============================] - 3s 53us/sample - loss: 0.2811 - acc: 0.9190\n",
      "Epoch 22/150\n",
      "60000/60000 [==============================] - 3s 53us/sample - loss: 0.2835 - acc: 0.9189\n",
      "Epoch 23/150\n",
      "60000/60000 [==============================] - 3s 53us/sample - loss: 0.2804 - acc: 0.9198\n",
      "Epoch 24/150\n",
      "60000/60000 [==============================] - 3s 55us/sample - loss: 0.2795 - acc: 0.9203\n",
      "Epoch 25/150\n",
      "60000/60000 [==============================] - 3s 53us/sample - loss: 0.2824 - acc: 0.9194\n",
      "Epoch 26/150\n",
      "60000/60000 [==============================] - 3s 54us/sample - loss: 0.2806 - acc: 0.9199\n",
      "Epoch 27/150\n",
      "60000/60000 [==============================] - 3s 54us/sample - loss: 0.2828 - acc: 0.9187\n",
      "Epoch 28/150\n",
      "60000/60000 [==============================] - 3s 56us/sample - loss: 0.2812 - acc: 0.9194\n",
      "Epoch 29/150\n",
      "60000/60000 [==============================] - 3s 55us/sample - loss: 0.2805 - acc: 0.9197\n",
      "Epoch 30/150\n",
      "60000/60000 [==============================] - 3s 55us/sample - loss: 0.2800 - acc: 0.9201\n",
      "Epoch 31/150\n",
      "60000/60000 [==============================] - 3s 55us/sample - loss: 0.2809 - acc: 0.9186\n",
      "Epoch 32/150\n",
      "60000/60000 [==============================] - 3s 55us/sample - loss: 0.2819 - acc: 0.9195\n",
      "Epoch 33/150\n",
      "60000/60000 [==============================] - 3s 58us/sample - loss: 0.2787 - acc: 0.9204\n",
      "Epoch 34/150\n",
      "60000/60000 [==============================] - 3s 58us/sample - loss: 0.2806 - acc: 0.9202\n",
      "Epoch 35/150\n",
      "60000/60000 [==============================] - 3s 55us/sample - loss: 0.2802 - acc: 0.9192\n",
      "Epoch 36/150\n",
      "60000/60000 [==============================] - 3s 54us/sample - loss: 0.2813 - acc: 0.9199\n",
      "Epoch 37/150\n",
      "60000/60000 [==============================] - 3s 54us/sample - loss: 0.2817 - acc: 0.9194\n",
      "Epoch 38/150\n",
      "60000/60000 [==============================] - 4s 59us/sample - loss: 0.2813 - acc: 0.9195\n",
      "Epoch 39/150\n",
      "60000/60000 [==============================] - 3s 56us/sample - loss: 0.2807 - acc: 0.9207\n",
      "Epoch 40/150\n",
      "60000/60000 [==============================] - 3s 55us/sample - loss: 0.2822 - acc: 0.9194\n",
      "Epoch 41/150\n",
      "60000/60000 [==============================] - 3s 55us/sample - loss: 0.2785 - acc: 0.9203\n",
      "Epoch 42/150\n",
      "60000/60000 [==============================] - 4s 58us/sample - loss: 0.2815 - acc: 0.9192\n",
      "Epoch 43/150\n",
      "60000/60000 [==============================] - 3s 56us/sample - loss: 0.2831 - acc: 0.9198\n",
      "Epoch 44/150\n",
      "60000/60000 [==============================] - 3s 56us/sample - loss: 0.2842 - acc: 0.9188\n",
      "Epoch 45/150\n",
      "60000/60000 [==============================] - 4s 70us/sample - loss: 0.2796 - acc: 0.9198\n",
      "Epoch 46/150\n",
      "60000/60000 [==============================] - 4s 63us/sample - loss: 0.2835 - acc: 0.9188\n",
      "Epoch 47/150\n",
      "60000/60000 [==============================] - 3s 56us/sample - loss: 0.2803 - acc: 0.9188\n",
      "Epoch 48/150\n",
      "60000/60000 [==============================] - 3s 56us/sample - loss: 0.2807 - acc: 0.9184\n",
      "Epoch 49/150\n",
      "60000/60000 [==============================] - 3s 58us/sample - loss: 0.2797 - acc: 0.9204\n",
      "Epoch 50/150\n",
      "60000/60000 [==============================] - 3s 58us/sample - loss: 0.2807 - acc: 0.9202\n",
      "Epoch 51/150\n",
      "60000/60000 [==============================] - 4s 59us/sample - loss: 0.2819 - acc: 0.9186\n",
      "Epoch 52/150\n",
      "60000/60000 [==============================] - 3s 58us/sample - loss: 0.2792 - acc: 0.9204\n",
      "Epoch 53/150\n",
      "60000/60000 [==============================] - 3s 56us/sample - loss: 0.2816 - acc: 0.9195\n",
      "Epoch 54/150\n",
      "60000/60000 [==============================] - 3s 58us/sample - loss: 0.2808 - acc: 0.9186\n",
      "Epoch 55/150\n",
      "60000/60000 [==============================] - 3s 57us/sample - loss: 0.2800 - acc: 0.9203\n",
      "Epoch 56/150\n",
      "60000/60000 [==============================] - 4s 59us/sample - loss: 0.2796 - acc: 0.9199\n",
      "Epoch 57/150\n",
      "60000/60000 [==============================] - 3s 58us/sample - loss: 0.2818 - acc: 0.9193\n",
      "Epoch 58/150\n",
      "60000/60000 [==============================] - 4s 59us/sample - loss: 0.2815 - acc: 0.9198\n",
      "Epoch 59/150\n",
      "60000/60000 [==============================] - 4s 62us/sample - loss: 0.2827 - acc: 0.9192\n",
      "Epoch 60/150\n",
      "60000/60000 [==============================] - 4s 61us/sample - loss: 0.2798 - acc: 0.9192\n",
      "Epoch 61/150\n",
      "60000/60000 [==============================] - 4s 60us/sample - loss: 0.2796 - acc: 0.9198\n",
      "Epoch 62/150\n",
      "60000/60000 [==============================] - 4s 62us/sample - loss: 0.2839 - acc: 0.9182\n",
      "Epoch 63/150\n",
      "60000/60000 [==============================] - 4s 61us/sample - loss: 0.2826 - acc: 0.9193\n",
      "Epoch 64/150\n",
      "60000/60000 [==============================] - 4s 59us/sample - loss: 0.2809 - acc: 0.9198\n",
      "Epoch 65/150\n",
      "60000/60000 [==============================] - 4s 73us/sample - loss: 0.2802 - acc: 0.9193\n",
      "Epoch 66/150\n",
      "60000/60000 [==============================] - 4s 61us/sample - loss: 0.2794 - acc: 0.9204\n",
      "Epoch 67/150\n",
      "60000/60000 [==============================] - 4s 66us/sample - loss: 0.2816 - acc: 0.9203\n",
      "Epoch 68/150\n",
      "60000/60000 [==============================] - 3s 54us/sample - loss: 0.2820 - acc: 0.9193\n",
      "Epoch 69/150\n",
      "60000/60000 [==============================] - 4s 58us/sample - loss: 0.2806 - acc: 0.9191\n",
      "Epoch 70/150\n",
      "60000/60000 [==============================] - 4s 70us/sample - loss: 0.2796 - acc: 0.9205\n",
      "Epoch 71/150\n",
      "60000/60000 [==============================] - 3s 54us/sample - loss: 0.2795 - acc: 0.9207\n",
      "Epoch 72/150\n",
      "60000/60000 [==============================] - 3s 51us/sample - loss: 0.2826 - acc: 0.9198\n",
      "Epoch 73/150\n",
      "60000/60000 [==============================] - 3s 49us/sample - loss: 0.2806 - acc: 0.9193\n",
      "Epoch 74/150\n",
      "60000/60000 [==============================] - 3s 46us/sample - loss: 0.2840 - acc: 0.9191\n",
      "Epoch 75/150\n",
      "60000/60000 [==============================] - 3s 47us/sample - loss: 0.2811 - acc: 0.9197\n",
      "Epoch 76/150\n",
      "60000/60000 [==============================] - 3s 48us/sample - loss: 0.2817 - acc: 0.9190\n",
      "Epoch 77/150\n",
      "60000/60000 [==============================] - 3s 48us/sample - loss: 0.2811 - acc: 0.9198\n",
      "Epoch 78/150\n",
      "60000/60000 [==============================] - 3s 47us/sample - loss: 0.2823 - acc: 0.9191\n",
      "Epoch 79/150\n",
      "60000/60000 [==============================] - 3s 48us/sample - loss: 0.2838 - acc: 0.9186\n",
      "Epoch 80/150\n",
      "60000/60000 [==============================] - 3s 48us/sample - loss: 0.2802 - acc: 0.9196\n",
      "Epoch 81/150\n",
      "60000/60000 [==============================] - 3s 47us/sample - loss: 0.2812 - acc: 0.9193\n",
      "Epoch 82/150\n",
      "60000/60000 [==============================] - 3s 49us/sample - loss: 0.2791 - acc: 0.9208\n",
      "Epoch 83/150\n",
      "60000/60000 [==============================] - 3s 47us/sample - loss: 0.2783 - acc: 0.9204\n",
      "Epoch 84/150\n",
      "60000/60000 [==============================] - 3s 48us/sample - loss: 0.2787 - acc: 0.9204\n",
      "Epoch 85/150\n",
      "60000/60000 [==============================] - 3s 47us/sample - loss: 0.2873 - acc: 0.9191\n",
      "Epoch 86/150\n",
      "60000/60000 [==============================] - 3s 48us/sample - loss: 0.2815 - acc: 0.9192\n",
      "Epoch 87/150\n",
      "60000/60000 [==============================] - 3s 51us/sample - loss: 0.2807 - acc: 0.9199\n",
      "Epoch 88/150\n",
      "60000/60000 [==============================] - 3s 47us/sample - loss: 0.2798 - acc: 0.9201\n",
      "Epoch 89/150\n",
      "60000/60000 [==============================] - 3s 49us/sample - loss: 0.2819 - acc: 0.9193\n",
      "Epoch 90/150\n",
      "60000/60000 [==============================] - 3s 48us/sample - loss: 0.2796 - acc: 0.9205\n",
      "Epoch 91/150\n",
      "60000/60000 [==============================] - 3s 48us/sample - loss: 0.2785 - acc: 0.9204\n",
      "Epoch 92/150\n",
      "60000/60000 [==============================] - 3s 48us/sample - loss: 0.2822 - acc: 0.9195\n",
      "Epoch 93/150\n",
      "60000/60000 [==============================] - 3s 48us/sample - loss: 0.2803 - acc: 0.9202\n",
      "Epoch 94/150\n",
      "60000/60000 [==============================] - 3s 47us/sample - loss: 0.2803 - acc: 0.9205\n",
      "Epoch 95/150\n",
      "60000/60000 [==============================] - 3s 48us/sample - loss: 0.2807 - acc: 0.9197\n",
      "Epoch 96/150\n",
      "60000/60000 [==============================] - 3s 49us/sample - loss: 0.2811 - acc: 0.9199\n",
      "Epoch 97/150\n",
      "60000/60000 [==============================] - 3s 50us/sample - loss: 0.2780 - acc: 0.9211\n",
      "Epoch 98/150\n",
      "60000/60000 [==============================] - 3s 50us/sample - loss: 0.2798 - acc: 0.9197\n",
      "Epoch 99/150\n",
      "60000/60000 [==============================] - 3s 49us/sample - loss: 0.2788 - acc: 0.9202\n",
      "Epoch 100/150\n",
      "60000/60000 [==============================] - 3s 48us/sample - loss: 0.2793 - acc: 0.9202\n",
      "Epoch 101/150\n",
      "60000/60000 [==============================] - 3s 48us/sample - loss: 0.2783 - acc: 0.9201\n",
      "Epoch 102/150\n",
      "60000/60000 [==============================] - 3s 51us/sample - loss: 0.2798 - acc: 0.9201\n",
      "Epoch 103/150\n",
      "60000/60000 [==============================] - 3s 49us/sample - loss: 0.2785 - acc: 0.9206\n",
      "Epoch 104/150\n",
      "60000/60000 [==============================] - 3s 49us/sample - loss: 0.2806 - acc: 0.9203\n",
      "Epoch 105/150\n",
      "60000/60000 [==============================] - 3s 49us/sample - loss: 0.2805 - acc: 0.9194\n",
      "Epoch 106/150\n",
      "60000/60000 [==============================] - 3s 51us/sample - loss: 0.2777 - acc: 0.9211\n",
      "Epoch 107/150\n",
      "60000/60000 [==============================] - 3s 50us/sample - loss: 0.2770 - acc: 0.9207\n",
      "Epoch 108/150\n",
      "60000/60000 [==============================] - 3s 49us/sample - loss: 0.2787 - acc: 0.9201\n",
      "Epoch 109/150\n",
      "60000/60000 [==============================] - 3s 50us/sample - loss: 0.2792 - acc: 0.9200\n",
      "Epoch 110/150\n",
      "60000/60000 [==============================] - 3s 49us/sample - loss: 0.2815 - acc: 0.9203\n",
      "Epoch 111/150\n",
      "60000/60000 [==============================] - 3s 48us/sample - loss: 0.2807 - acc: 0.9207\n",
      "Epoch 112/150\n",
      "60000/60000 [==============================] - 3s 49us/sample - loss: 0.2796 - acc: 0.9201\n",
      "Epoch 113/150\n",
      "60000/60000 [==============================] - 3s 49us/sample - loss: 0.2799 - acc: 0.9201\n",
      "Epoch 114/150\n",
      "60000/60000 [==============================] - 3s 51us/sample - loss: 0.2810 - acc: 0.9204\n",
      "Epoch 115/150\n",
      "60000/60000 [==============================] - 4s 64us/sample - loss: 0.2810 - acc: 0.9194\n",
      "Epoch 116/150\n",
      "60000/60000 [==============================] - 4s 74us/sample - loss: 0.2816 - acc: 0.9188\n",
      "Epoch 117/150\n",
      "60000/60000 [==============================] - 4s 59us/sample - loss: 0.2802 - acc: 0.9199\n",
      "Epoch 118/150\n",
      "60000/60000 [==============================] - 4s 60us/sample - loss: 0.2762 - acc: 0.9215\n",
      "Epoch 119/150\n",
      "60000/60000 [==============================] - 4s 60us/sample - loss: 0.2799 - acc: 0.9204\n",
      "Epoch 120/150\n",
      "60000/60000 [==============================] - 4s 60us/sample - loss: 0.2810 - acc: 0.9202\n",
      "Epoch 121/150\n",
      "60000/60000 [==============================] - 4s 64us/sample - loss: 0.2785 - acc: 0.9210\n",
      "Epoch 122/150\n",
      "60000/60000 [==============================] - 4s 60us/sample - loss: 0.2810 - acc: 0.9200\n",
      "Epoch 123/150\n",
      "60000/60000 [==============================] - 4s 60us/sample - loss: 0.2781 - acc: 0.9198\n",
      "Epoch 124/150\n",
      "60000/60000 [==============================] - 5s 79us/sample - loss: 0.2800 - acc: 0.9201\n",
      "Epoch 125/150\n",
      "60000/60000 [==============================] - 4s 74us/sample - loss: 0.2782 - acc: 0.9203\n",
      "Epoch 126/150\n",
      "60000/60000 [==============================] - 5s 76us/sample - loss: 0.2797 - acc: 0.9204\n",
      "Epoch 127/150\n",
      "60000/60000 [==============================] - 4s 69us/sample - loss: 0.2781 - acc: 0.9210\n",
      "Epoch 128/150\n",
      "60000/60000 [==============================] - 4s 65us/sample - loss: 0.2787 - acc: 0.9202\n",
      "Epoch 129/150\n",
      "60000/60000 [==============================] - 4s 65us/sample - loss: 0.2797 - acc: 0.9201\n",
      "Epoch 130/150\n",
      "60000/60000 [==============================] - 4s 65us/sample - loss: 0.2793 - acc: 0.9207\n",
      "Epoch 131/150\n",
      "60000/60000 [==============================] - 4s 69us/sample - loss: 0.2804 - acc: 0.9200\n",
      "Epoch 132/150\n",
      "60000/60000 [==============================] - 4s 71us/sample - loss: 0.2784 - acc: 0.9202\n",
      "Epoch 133/150\n",
      "60000/60000 [==============================] - 4s 62us/sample - loss: 0.2817 - acc: 0.9199\n",
      "Epoch 134/150\n",
      "60000/60000 [==============================] - 4s 69us/sample - loss: 0.2785 - acc: 0.9207\n",
      "Epoch 135/150\n",
      "60000/60000 [==============================] - 4s 64us/sample - loss: 0.2786 - acc: 0.9200\n",
      "Epoch 136/150\n",
      "60000/60000 [==============================] - 4s 63us/sample - loss: 0.2785 - acc: 0.9201\n",
      "Epoch 137/150\n",
      "60000/60000 [==============================] - 4s 65us/sample - loss: 0.2796 - acc: 0.9200\n",
      "Epoch 138/150\n",
      "60000/60000 [==============================] - 4s 66us/sample - loss: 0.2794 - acc: 0.9203\n",
      "Epoch 139/150\n",
      "60000/60000 [==============================] - 4s 65us/sample - loss: 0.2802 - acc: 0.9208\n",
      "Epoch 140/150\n",
      "60000/60000 [==============================] - 4s 65us/sample - loss: 0.2789 - acc: 0.9201\n",
      "Epoch 141/150\n",
      "60000/60000 [==============================] - 4s 66us/sample - loss: 0.2791 - acc: 0.9204\n",
      "Epoch 142/150\n",
      "60000/60000 [==============================] - 4s 62us/sample - loss: 0.2816 - acc: 0.9199\n",
      "Epoch 143/150\n",
      "60000/60000 [==============================] - 4s 63us/sample - loss: 0.2816 - acc: 0.9191\n",
      "Epoch 144/150\n",
      "60000/60000 [==============================] - 4s 64us/sample - loss: 0.2779 - acc: 0.9210\n",
      "Epoch 145/150\n",
      "60000/60000 [==============================] - 4s 63us/sample - loss: 0.2790 - acc: 0.9209\n",
      "Epoch 146/150\n",
      "60000/60000 [==============================] - 4s 64us/sample - loss: 0.2795 - acc: 0.9196\n",
      "Epoch 147/150\n",
      "60000/60000 [==============================] - 4s 67us/sample - loss: 0.2782 - acc: 0.9197\n",
      "Epoch 148/150\n",
      "60000/60000 [==============================] - 4s 64us/sample - loss: 0.2788 - acc: 0.9210\n",
      "Epoch 149/150\n",
      "60000/60000 [==============================] - 4s 63us/sample - loss: 0.2794 - acc: 0.9200\n",
      "Epoch 150/150\n",
      "60000/60000 [==============================] - 4s 64us/sample - loss: 0.2776 - acc: 0.9213\n"
     ]
    }
   ],
   "source": [
    "history = mnist_model.fit(X_train, y_train, batch_size=32, epochs=150, verbose=1)"
   ]
  },
  {
   "cell_type": "code",
   "execution_count": 147,
   "metadata": {},
   "outputs": [
    {
     "name": "stdout",
     "output_type": "stream",
     "text": [
      "10000/10000 [==============================] - 0s 45us/sample - loss: 0.5778 - acc: 0.8970\n"
     ]
    }
   ],
   "source": [
    "score = mnist_model.evaluate(X_test, y_test)"
   ]
  },
  {
   "cell_type": "code",
   "execution_count": 150,
   "metadata": {},
   "outputs": [
    {
     "data": {
      "image/png": "[encoded data removed]",
      "text/plain": [
       "<Figure size 432x288 with 1 Axes>"
      ]
     },
     "metadata": {
      "needs_background": "light"
     },
     "output_type": "display_data"
    }
   ],
   "source": [
    "plt.plot(history.history['acc'])\n",
    "plt.title('Model accuracy')\n",
    "plt.ylabel('Accuracy')\n",
    "plt.xlabel('Epoch')\n",
    "plt.show()"
   ]
  },
  {
   "cell_type": "markdown",
   "metadata": {},
   "source": [
    "## Working on by hand model from yesterday's assignment"
   ]
  },
  {
   "cell_type": "code",
   "execution_count": 151,
   "metadata": {},
   "outputs": [
    {
     "data": {
      "text/plain": [
       "array([  0.,   0.,   0.,   0.,   0.,   0.,   0.,   0.,   0.,   0.,   0.,\n",
       "         0.,   0.,   0.,   0.,   0.,   0.,   0.,   0.,   0.,   0.,   0.,\n",
       "         0.,   0.,   0.,   0.,   0.,   0.,   0.,   0.,   0.,   0.,   0.,\n",
       "         0.,   0.,   0.,   0.,   0.,   0.,   0.,   0.,   0.,   0.,   0.,\n",
       "         0.,   0.,   0.,   0.,   0.,   0.,   0.,   0.,   0.,   0.,   0.,\n",
       "         0.,   0.,   0.,   0.,   0.,   0.,   0.,   0.,   0.,   0.,   0.,\n",
       "         0.,   0.,   0.,   0.,   0.,   0.,   0.,   0.,   0.,   0.,   0.,\n",
       "         0.,   0.,   0.,   0.,   0.,   0.,   0.,   0.,   0.,   0.,   0.,\n",
       "         0.,   0.,   0.,   0.,   0.,   0.,   0.,   0.,   0.,   0.,   0.,\n",
       "         0.,   0.,   0.,   0.,   0.,   0.,   0.,   0.,   0.,   0.,   0.,\n",
       "         0.,   0.,   0.,   0.,   0.,   0.,   0.,   0.,   0.,   0.,   0.,\n",
       "         0.,   0.,   0.,   0.,   0.,   0.,   0.,   0.,   0.,   0.,   0.,\n",
       "         0.,   0.,   0.,   0.,   0.,   0.,   0.,   0.,   0.,   0.,   0.,\n",
       "         0.,   0.,   0.,   0.,   0.,   0.,   0.,   0.,   0.,   3.,  18.,\n",
       "        18.,  18., 126., 136., 175.,  26., 166., 255., 247., 127.,   0.,\n",
       "         0.,   0.,   0.,   0.,   0.,   0.,   0.,   0.,   0.,   0.,   0.,\n",
       "        30.,  36.,  94., 154., 170., 253., 253., 253., 253., 253., 225.,\n",
       "       172., 253., 242., 195.,  64.,   0.,   0.,   0.,   0.,   0.,   0.,\n",
       "         0.,   0.,   0.,   0.,   0.,  49., 238., 253., 253., 253., 253.,\n",
       "       253., 253., 253., 253., 251.,  93.,  82.,  82.,  56.,  39.,   0.,\n",
       "         0.,   0.,   0.,   0.,   0.,   0.,   0.,   0.,   0.,   0.,   0.,\n",
       "        18., 219., 253., 253., 253., 253., 253., 198., 182., 247., 241.,\n",
       "         0.,   0.,   0.,   0.,   0.,   0.,   0.,   0.,   0.,   0.,   0.,\n",
       "         0.,   0.,   0.,   0.,   0.,   0.,   0.,  80., 156., 107., 253.,\n",
       "       253., 205.,  11.,   0.,  43., 154.,   0.,   0.,   0.,   0.,   0.,\n",
       "         0.,   0.,   0.,   0.,   0.,   0.,   0.,   0.,   0.,   0.,   0.,\n",
       "         0.,   0.,   0.,  14.,   1., 154., 253.,  90.,   0.,   0.,   0.,\n",
       "         0.,   0.,   0.,   0.,   0.,   0.,   0.,   0.,   0.,   0.,   0.,\n",
       "         0.,   0.,   0.,   0.,   0.,   0.,   0.,   0.,   0.,   0.,   0.,\n",
       "       139., 253., 190.,   2.,   0.,   0.,   0.,   0.,   0.,   0.,   0.,\n",
       "         0.,   0.,   0.,   0.,   0.,   0.,   0.,   0.,   0.,   0.,   0.,\n",
       "         0.,   0.,   0.,   0.,   0.,   0.,  11., 190., 253.,  70.,   0.,\n",
       "         0.,   0.,   0.,   0.,   0.,   0.,   0.,   0.,   0.,   0.,   0.,\n",
       "         0.,   0.,   0.,   0.,   0.,   0.,   0.,   0.,   0.,   0.,   0.,\n",
       "         0.,   0.,  35., 241., 225., 160., 108.,   1.,   0.,   0.,   0.,\n",
       "         0.,   0.,   0.,   0.,   0.,   0.,   0.,   0.,   0.,   0.,   0.,\n",
       "         0.,   0.,   0.,   0.,   0.,   0.,   0.,   0.,   0.,  81., 240.,\n",
       "       253., 253., 119.,  25.,   0.,   0.,   0.,   0.,   0.,   0.,   0.,\n",
       "         0.,   0.,   0.,   0.,   0.,   0.,   0.,   0.,   0.,   0.,   0.,\n",
       "         0.,   0.,   0.,   0.,   0.,  45., 186., 253., 253., 150.,  27.,\n",
       "         0.,   0.,   0.,   0.,   0.,   0.,   0.,   0.,   0.,   0.,   0.,\n",
       "         0.,   0.,   0.,   0.,   0.,   0.,   0.,   0.,   0.,   0.,   0.,\n",
       "         0.,  16.,  93., 252., 253., 187.,   0.,   0.,   0.,   0.,   0.,\n",
       "         0.,   0.,   0.,   0.,   0.,   0.,   0.,   0.,   0.,   0.,   0.,\n",
       "         0.,   0.,   0.,   0.,   0.,   0.,   0.,   0.,   0., 249., 253.,\n",
       "       249.,  64.,   0.,   0.,   0.,   0.,   0.,   0.,   0.,   0.,   0.,\n",
       "         0.,   0.,   0.,   0.,   0.,   0.,   0.,   0.,   0.,   0.,   0.,\n",
       "         0.,  46., 130., 183., 253., 253., 207.,   2.,   0.,   0.,   0.,\n",
       "         0.,   0.,   0.,   0.,   0.,   0.,   0.,   0.,   0.,   0.,   0.,\n",
       "         0.,   0.,   0.,   0.,   0.,  39., 148., 229., 253., 253., 253.,\n",
       "       250., 182.,   0.,   0.,   0.,   0.,   0.,   0.,   0.,   0.,   0.,\n",
       "         0.,   0.,   0.,   0.,   0.,   0.,   0.,   0.,   0.,  24., 114.,\n",
       "       221., 253., 253., 253., 253., 201.,  78.,   0.,   0.,   0.,   0.,\n",
       "         0.,   0.,   0.,   0.,   0.,   0.,   0.,   0.,   0.,   0.,   0.,\n",
       "         0.,   0.,  23.,  66., 213., 253., 253., 253., 253., 198.,  81.,\n",
       "         2.,   0.,   0.,   0.,   0.,   0.,   0.,   0.,   0.,   0.,   0.,\n",
       "         0.,   0.,   0.,   0.,   0.,   0.,  18., 171., 219., 253., 253.,\n",
       "       253., 253., 195.,  80.,   9.,   0.,   0.,   0.,   0.,   0.,   0.,\n",
       "         0.,   0.,   0.,   0.,   0.,   0.,   0.,   0.,   0.,   0.,  55.,\n",
       "       172., 226., 253., 253., 253., 253., 244., 133.,  11.,   0.,   0.,\n",
       "         0.,   0.,   0.,   0.,   0.,   0.,   0.,   0.,   0.,   0.,   0.,\n",
       "         0.,   0.,   0.,   0.,   0., 136., 253., 253., 253., 212., 135.,\n",
       "       132.,  16.,   0.,   0.,   0.,   0.,   0.,   0.,   0.,   0.,   0.,\n",
       "         0.,   0.,   0.,   0.,   0.,   0.,   0.,   0.,   0.,   0.,   0.,\n",
       "         0.,   0.,   0.,   0.,   0.,   0.,   0.,   0.,   0.,   0.,   0.,\n",
       "         0.,   0.,   0.,   0.,   0.,   0.,   0.,   0.,   0.,   0.,   0.,\n",
       "         0.,   0.,   0.,   0.,   0.,   0.,   0.,   0.,   0.,   0.,   0.,\n",
       "         0.,   0.,   0.,   0.,   0.,   0.,   0.,   0.,   0.,   0.,   0.,\n",
       "         0.,   0.,   0.,   0.,   0.,   0.,   0.,   0.,   0.,   0.,   0.,\n",
       "         0.,   0.,   0.,   0.,   0.,   0.,   0.,   0.,   0.,   0.,   0.,\n",
       "         0.,   0.,   0.,   0.,   0.,   0.,   0.,   0.,   0.,   0.,   0.,\n",
       "         0.,   0.,   0.], dtype=float32)"
      ]
     },
     "execution_count": 151,
     "metadata": {},
     "output_type": "execute_result"
    }
   ],
   "source": [
    "X_train[0]"
   ]
  },
  {
   "cell_type": "code",
   "execution_count": 152,
   "metadata": {},
   "outputs": [
    {
     "data": {
      "text/plain": [
       "array([0., 0., 0., 0., 0., 1., 0., 0., 0., 0.], dtype=float32)"
      ]
     },
     "execution_count": 152,
     "metadata": {},
     "output_type": "execute_result"
    }
   ],
   "source": [
    "y_train[0]"
   ]
  },
  {
   "cell_type": "code",
   "execution_count": 153,
   "metadata": {},
   "outputs": [],
   "source": [
    "class NeuralNetwork:\n",
    "    def __init__(self):\n",
    "        # Set up Architecture of Neural Network\n",
    "        self.input = 784\n",
    "        self.hiddenNodes = 16\n",
    "        self.outputNodes = 10\n",
    "        \n",
    "        # Initial Weights\n",
    "        # 784x16 Matrix Array for the First Layer\n",
    "        self.weights1 = np.random.randn(self.input,self.hiddenNodes)\n",
    "        # 16x10 Matrix Array for Hidden to Output\n",
    "        self.weights2 = np.random.randn(self.hiddenNodes, self.outputNodes)"
   ]
  },
  {
   "cell_type": "code",
   "execution_count": 154,
   "metadata": {},
   "outputs": [
    {
     "name": "stdout",
     "output_type": "stream",
     "text": [
      "Layer 1 weights: \n",
      " [[ 0.74295742  1.35425249 -0.66096164 ... -0.38064626 -1.24225685\n",
      "   1.09956934]\n",
      " [-1.35914001 -1.40447274  0.44109855 ...  0.01670077  1.88507483\n",
      "   0.8397642 ]\n",
      " [-0.32250438  0.55706315 -0.82318112 ...  2.19978861 -0.38889093\n",
      "   0.20263106]\n",
      " ...\n",
      " [-0.90890511  0.11015592 -3.08956061 ...  0.42676175  0.82640372\n",
      "   1.40771947]\n",
      " [-0.42931636  1.1528452   0.02888413 ...  0.60833287  0.57351557\n",
      "  -0.15724336]\n",
      " [ 1.42754249  0.13084623 -1.06059479 ... -1.13779337 -0.79211192\n",
      "   0.30359371]]\n",
      "Layer 2 weights: \n",
      " [[ 1.58188961 -0.04600316 -0.89608967 -1.10721735  1.89100972 -0.5216377\n",
      "  -0.02303224 -0.9559424   0.58288368  0.60753178]\n",
      " [-1.81263001  0.70024494  0.16099348  0.61084239  0.94679019 -1.42757899\n",
      "   1.23202168 -0.59567051  1.32097272  0.41485716]\n",
      " [-0.34334402 -0.85882011 -2.04636574 -0.22957551  0.65335963 -0.25102628\n",
      "  -0.03240604 -2.56623327  1.68551522 -0.90013139]\n",
      " [ 0.76067754 -1.51313504  0.12519015 -0.32513864  1.27440999  0.65196029\n",
      "  -0.46586424 -0.85217069 -1.01042303  0.94821283]\n",
      " [-1.08585346  0.16040898  0.46613906 -0.87526277 -0.51864634  0.3792016\n",
      "  -1.22169635 -1.16776307 -0.94315871 -1.14896512]\n",
      " [ 0.30226029 -0.49464832 -0.78831444  0.54263029  0.22233831 -0.80541193\n",
      "   0.06630455 -1.466612    0.97702398  2.59436148]\n",
      " [ 0.06790746  0.17663838  0.47272515 -0.3589608   0.58630745  1.17179201\n",
      "  -0.38758816 -0.39620893 -0.10585406 -0.74538136]\n",
      " [ 0.26631459  0.14261535 -2.42980496 -0.329704   -0.46988386  0.8955565\n",
      "  -1.3341994  -0.83914607 -2.46161     0.41808204]\n",
      " [ 0.89217316  0.96286101  0.10106116 -1.21339942  0.13101632  0.91880836\n",
      "   1.26575542  0.90965789  0.39253726  0.11897013]\n",
      " [ 0.19630527  0.40351783 -0.31293502  0.6278363   0.46179594 -0.4855913\n",
      "  -0.03162751  0.22433111  1.10327749  1.24197686]\n",
      " [ 0.84980767  0.43210897  1.83927591 -0.77433883  1.18543767 -1.87965548\n",
      "  -0.58696185 -0.34062242  1.13921827  0.84385861]\n",
      " [ 0.25617319 -0.41790837  0.4014171   2.44835933 -0.83782123 -0.56180938\n",
      "   1.27243898 -2.10743809 -1.19711742 -0.21569253]\n",
      " [ 0.20445295  0.4882132  -0.64135983  0.83798429 -0.80686624 -2.18506228\n",
      "  -1.27769081 -0.15163438  0.90892892 -1.38013416]\n",
      " [ 1.01845327 -0.76049348  1.87090029 -0.03228471  0.66506683  0.91562497\n",
      "   0.1648685   0.09405687 -0.19290985  0.50044032]\n",
      " [-0.75472138 -1.49537829 -0.43535068  1.48160298 -1.04363628  0.03095391\n",
      "  -0.5992332  -1.33077425 -0.00943766  0.73045846]\n",
      " [-0.99232651  1.0919779   0.90059731  0.52665636 -0.94743313 -0.01359925\n",
      "   1.16930044 -0.67049402 -0.72514971 -1.07082871]]\n"
     ]
    }
   ],
   "source": [
    "nn = NeuralNetwork()\n",
    "\n",
    "print(\"Layer 1 weights: \\n\", nn.weights1)\n",
    "print(\"Layer 2 weights: \\n\", nn.weights2)"
   ]
  },
  {
   "cell_type": "code",
   "execution_count": 155,
   "metadata": {},
   "outputs": [],
   "source": [
    "class NeuralNetwork:\n",
    "    def __init__(self):\n",
    "        # Set up Architecture of Neural Network\n",
    "        self.input = 784\n",
    "        self.hiddenNodes = 16\n",
    "        self.outputNodes = 10\n",
    "        \n",
    "        # Initial Weights\n",
    "        #7843x16 Matrix Array for the First Layer\n",
    "        self.weights1 = np.random.randn(self.input,self.hiddenNodes)\n",
    "        # 16x10 Matrix Array for Hidden to Output\n",
    "        self.weights2 = np.random.randn(self.hiddenNodes, self.outputNodes)\n",
    "    \n",
    "    def sigmoid(self, x):\n",
    "        return 1 / (1+np.exp(-x))\n",
    "    \n",
    "    def feed_forward(self,X):\n",
    "        \"\"\"\n",
    "        Calculate the NN inference using feed forward.\n",
    "        \"\"\"\n",
    "        \n",
    "        # Weighted sum of inputs & hidden\n",
    "        self.hidden_sum = np.dot(X, self.weights1)\n",
    "        \n",
    "        # Activations of weighted sum\n",
    "        self.activated_hidden = self.sigmoid(self.hidden_sum)\n",
    "        \n",
    "        # Weighted sum between hidden and output\n",
    "        self.output_sum = np.dot(self.activated_hidden, self.weights2)\n",
    "        \n",
    "        # Final Activation of output\n",
    "        self.activated_output = self.sigmoid(self.output_sum)\n",
    "        \n",
    "        return self.activated_output"
   ]
  },
  {
   "cell_type": "code",
   "execution_count": 158,
   "metadata": {},
   "outputs": [
    {
     "name": "stdout",
     "output_type": "stream",
     "text": [
      "[  0.   0.   0.   0.   0.   0.   0.   0.   0.   0.   0.   0.   0.   0.\n",
      "   0.   0.   0.   0.   0.   0.   0.   0.   0.   0.   0.   0.   0.   0.\n",
      "   0.   0.   0.   0.   0.   0.   0.   0.   0.   0.   0.   0.   0.   0.\n",
      "   0.   0.   0.   0.   0.   0.   0.   0.   0.   0.   0.   0.   0.   0.\n",
      "   0.   0.   0.   0.   0.   0.   0.   0.   0.   0.   0.   0.   0.   0.\n",
      "   0.   0.   0.   0.   0.   0.   0.   0.   0.   0.   0.   0.   0.   0.\n",
      "   0.   0.   0.   0.   0.   0.   0.   0.   0.   0.   0.   0.   0.   0.\n",
      "   0.   0.   0.   0.   0.   0.   0.   0.   0.   0.   0.   0.   0.   0.\n",
      "   0.   0.   0.   0.   0.   0.   0.   0.   0.   0.   0.   0.   0.   0.\n",
      "   0.   0.   0.   0.   0.   0.   0.   0.   0.   0.   0.   0.   0.   0.\n",
      "   0.   0.   0.   0.   0.   0.   0.   0.   0.   0.   0.   0.   3.  18.\n",
      "  18.  18. 126. 136. 175.  26. 166. 255. 247. 127.   0.   0.   0.   0.\n",
      "   0.   0.   0.   0.   0.   0.   0.   0.  30.  36.  94. 154. 170. 253.\n",
      " 253. 253. 253. 253. 225. 172. 253. 242. 195.  64.   0.   0.   0.   0.\n",
      "   0.   0.   0.   0.   0.   0.   0.  49. 238. 253. 253. 253. 253. 253.\n",
      " 253. 253. 253. 251.  93.  82.  82.  56.  39.   0.   0.   0.   0.   0.\n",
      "   0.   0.   0.   0.   0.   0.   0.  18. 219. 253. 253. 253. 253. 253.\n",
      " 198. 182. 247. 241.   0.   0.   0.   0.   0.   0.   0.   0.   0.   0.\n",
      "   0.   0.   0.   0.   0.   0.   0.   0.  80. 156. 107. 253. 253. 205.\n",
      "  11.   0.  43. 154.   0.   0.   0.   0.   0.   0.   0.   0.   0.   0.\n",
      "   0.   0.   0.   0.   0.   0.   0.   0.   0.  14.   1. 154. 253.  90.\n",
      "   0.   0.   0.   0.   0.   0.   0.   0.   0.   0.   0.   0.   0.   0.\n",
      "   0.   0.   0.   0.   0.   0.   0.   0.   0.   0.   0. 139. 253. 190.\n",
      "   2.   0.   0.   0.   0.   0.   0.   0.   0.   0.   0.   0.   0.   0.\n",
      "   0.   0.   0.   0.   0.   0.   0.   0.   0.   0.   0.  11. 190. 253.\n",
      "  70.   0.   0.   0.   0.   0.   0.   0.   0.   0.   0.   0.   0.   0.\n",
      "   0.   0.   0.   0.   0.   0.   0.   0.   0.   0.   0.   0.  35. 241.\n",
      " 225. 160. 108.   1.   0.   0.   0.   0.   0.   0.   0.   0.   0.   0.\n",
      "   0.   0.   0.   0.   0.   0.   0.   0.   0.   0.   0.   0.   0.  81.\n",
      " 240. 253. 253. 119.  25.   0.   0.   0.   0.   0.   0.   0.   0.   0.\n",
      "   0.   0.   0.   0.   0.   0.   0.   0.   0.   0.   0.   0.   0.   0.\n",
      "  45. 186. 253. 253. 150.  27.   0.   0.   0.   0.   0.   0.   0.   0.\n",
      "   0.   0.   0.   0.   0.   0.   0.   0.   0.   0.   0.   0.   0.   0.\n",
      "   0.  16.  93. 252. 253. 187.   0.   0.   0.   0.   0.   0.   0.   0.\n",
      "   0.   0.   0.   0.   0.   0.   0.   0.   0.   0.   0.   0.   0.   0.\n",
      "   0.   0.   0. 249. 253. 249.  64.   0.   0.   0.   0.   0.   0.   0.\n",
      "   0.   0.   0.   0.   0.   0.   0.   0.   0.   0.   0.   0.   0.   0.\n",
      "  46. 130. 183. 253. 253. 207.   2.   0.   0.   0.   0.   0.   0.   0.\n",
      "   0.   0.   0.   0.   0.   0.   0.   0.   0.   0.   0.   0.  39. 148.\n",
      " 229. 253. 253. 253. 250. 182.   0.   0.   0.   0.   0.   0.   0.   0.\n",
      "   0.   0.   0.   0.   0.   0.   0.   0.   0.   0.  24. 114. 221. 253.\n",
      " 253. 253. 253. 201.  78.   0.   0.   0.   0.   0.   0.   0.   0.   0.\n",
      "   0.   0.   0.   0.   0.   0.   0.   0.  23.  66. 213. 253. 253. 253.\n",
      " 253. 198.  81.   2.   0.   0.   0.   0.   0.   0.   0.   0.   0.   0.\n",
      "   0.   0.   0.   0.   0.   0.  18. 171. 219. 253. 253. 253. 253. 195.\n",
      "  80.   9.   0.   0.   0.   0.   0.   0.   0.   0.   0.   0.   0.   0.\n",
      "   0.   0.   0.   0.  55. 172. 226. 253. 253. 253. 253. 244. 133.  11.\n",
      "   0.   0.   0.   0.   0.   0.   0.   0.   0.   0.   0.   0.   0.   0.\n",
      "   0.   0.   0.   0. 136. 253. 253. 253. 212. 135. 132.  16.   0.   0.\n",
      "   0.   0.   0.   0.   0.   0.   0.   0.   0.   0.   0.   0.   0.   0.\n",
      "   0.   0.   0.   0.   0.   0.   0.   0.   0.   0.   0.   0.   0.   0.\n",
      "   0.   0.   0.   0.   0.   0.   0.   0.   0.   0.   0.   0.   0.   0.\n",
      "   0.   0.   0.   0.   0.   0.   0.   0.   0.   0.   0.   0.   0.   0.\n",
      "   0.   0.   0.   0.   0.   0.   0.   0.   0.   0.   0.   0.   0.   0.\n",
      "   0.   0.   0.   0.   0.   0.   0.   0.   0.   0.   0.   0.   0.   0.\n",
      "   0.   0.   0.   0.   0.   0.   0.   0.   0.   0.   0.   0.   0.   0.]\n",
      "output [3.53560535e-01 9.53173198e-01 9.69206531e-01 2.00901140e-02\n",
      " 3.99410732e-04 2.74117829e-01 8.89055329e-01 9.76390566e-02\n",
      " 1.30750537e-01 4.38840060e-02]\n"
     ]
    }
   ],
   "source": [
    "# generate an output\n",
    "\n",
    "nn = NeuralNetwork()\n",
    "\n",
    "print(X_train[0])\n",
    "output = nn.feed_forward(X_train[0])\n",
    "print(\"output\", output)"
   ]
  },
  {
   "cell_type": "code",
   "execution_count": 159,
   "metadata": {},
   "outputs": [
    {
     "name": "stdout",
     "output_type": "stream",
     "text": [
      "[[0.35356054 0.9531732  0.96920653 ... 0.09763906 0.13075054 0.04388401]\n",
      " [0.51837313 0.98547123 0.36164695 ... 0.10585943 0.16308648 0.001513  ]\n",
      " [0.89231858 0.97368006 0.61363123 ... 0.22342737 0.01109771 0.00278112]\n",
      " ...\n",
      " [0.81473056 0.67851118 0.50120537 ... 0.10307234 0.15627677 0.01031645]\n",
      " [0.3455534  0.99751133 0.35450978 ... 0.01631821 0.10826003 0.002515  ]\n",
      " [0.0891342  0.99287955 0.47843571 ... 0.01758363 0.21478979 0.01353846]]\n",
      "[[-0.35356054 -0.9531732  -0.96920653 ... -0.09763906 -0.13075054\n",
      "  -0.04388401]\n",
      " [ 0.48162687 -0.98547123 -0.36164695 ... -0.10585943 -0.16308648\n",
      "  -0.001513  ]\n",
      " [-0.89231858 -0.97368006 -0.61363123 ... -0.22342737 -0.01109771\n",
      "  -0.00278112]\n",
      " ...\n",
      " [-0.81473056 -0.67851118 -0.50120537 ... -0.10307234 -0.15627677\n",
      "  -0.01031645]\n",
      " [-0.3455534  -0.99751133 -0.35450978 ... -0.01631821 -0.10826003\n",
      "  -0.002515  ]\n",
      " [-0.0891342  -0.99287955 -0.47843571 ... -0.01758363  0.78521021\n",
      "  -0.01353846]]\n"
     ]
    }
   ],
   "source": [
    "# calculate error\n",
    "\n",
    "output_all = nn.feed_forward(X_train)\n",
    "error_all = y_train - output_all\n",
    "print(output_all)\n",
    "print(error_all)"
   ]
  },
  {
   "cell_type": "code",
   "execution_count": 160,
   "metadata": {},
   "outputs": [],
   "source": [
    "class NeuralNetwork:\n",
    "    def __init__(self):\n",
    "        # Set up Architecture of Neural Network\n",
    "        self.input = 784\n",
    "        self.hiddenNodes = 16\n",
    "        self.outputNodes = 10\n",
    "        \n",
    "        # Initial Weights\n",
    "        # 3x4 Matrix Array for the First Layer\n",
    "        self.weights1 = np.random.randn(self.input,self.hiddenNodes)\n",
    "        # 4x1 Matrix Array for Hidden to Output\n",
    "        self.weights2 = np.random.randn(self.hiddenNodes, self.outputNodes)\n",
    "    \n",
    "    def sigmoid(self, x):\n",
    "        return 1 / (1+np.exp(-x))\n",
    "    \n",
    "    def sigmoidPrime(self, x):\n",
    "        return x * (1 - x)\n",
    "    \n",
    "    def feed_forward(self,X):\n",
    "        \"\"\"\n",
    "        Calculate the NN inference using feed forward.\n",
    "        \"\"\"\n",
    "        \n",
    "        # Weighted sum of inputs & hidden\n",
    "        self.hidden_sum = np.dot(X, self.weights1)\n",
    "        \n",
    "        # Activations of weighted sum\n",
    "        self.activated_hidden = self.sigmoid(self.hidden_sum)\n",
    "        \n",
    "        # Weighted sum between hidden and output\n",
    "        self.output_sum = np.dot(self.activated_hidden, self.weights2)\n",
    "        \n",
    "        # Final Activation of output\n",
    "        self.activated_output = self.sigmoid(self.output_sum)\n",
    "        \n",
    "        return self.activated_output\n",
    "    \n",
    "    def backward(self, X, y, o):\n",
    "        \"\"\"\n",
    "        Backward propagate through the network\n",
    "        \"\"\"\n",
    "        self.o_error = y - o #error in output\n",
    "        self.o_delta = self.o_error * self.sigmoidPrime(o) # apply derivative of sigmoid to error\n",
    "        \n",
    "        self.z2_error = self.o_delta.dot(self.weights2.T) # z2 error: how much our hidden layer weights were off\n",
    "        self.z2_delta = self.z2_error*self.sigmoidPrime(self.activated_hidden)\n",
    "        \n",
    "        self.weights1 += X.T.dot(self.z2_delta) #Adjust first set (input => hidden) weights\n",
    "        self.weights2 += self.activated_hidden.T.dot(self.o_delta) #adjust second set (hidden => output) weights\n",
    "        \n",
    "    def train(self, X, y):\n",
    "        o = self.feed_forward(X)\n",
    "        self.backward(X, y, o)"
   ]
  },
  {
   "cell_type": "code",
   "execution_count": 162,
   "metadata": {},
   "outputs": [
    {
     "name": "stdout",
     "output_type": "stream",
     "text": [
      "+---------EPOCH 100---------+\n",
      "Predicted Output: \n",
      " [[0. 0. 0. ... 0. 0. 0.]\n",
      " [0. 0. 0. ... 0. 0. 0.]\n",
      " [0. 0. 0. ... 0. 0. 0.]\n",
      " ...\n",
      " [0. 0. 0. ... 0. 0. 0.]\n",
      " [0. 0. 0. ... 0. 0. 0.]\n",
      " [0. 0. 0. ... 0. 0. 0.]]\n",
      "Loss: \n",
      " 0.1\n",
      "+---------EPOCH 200---------+\n",
      "Predicted Output: \n",
      " [[0. 0. 0. ... 0. 0. 0.]\n",
      " [0. 0. 0. ... 0. 0. 0.]\n",
      " [0. 0. 0. ... 0. 0. 0.]\n",
      " ...\n",
      " [0. 0. 0. ... 0. 0. 0.]\n",
      " [0. 0. 0. ... 0. 0. 0.]\n",
      " [0. 0. 0. ... 0. 0. 0.]]\n",
      "Loss: \n",
      " 0.1\n",
      "+---------EPOCH 300---------+\n",
      "Predicted Output: \n",
      " [[0. 0. 0. ... 0. 0. 0.]\n",
      " [0. 0. 0. ... 0. 0. 0.]\n",
      " [0. 0. 0. ... 0. 0. 0.]\n",
      " ...\n",
      " [0. 0. 0. ... 0. 0. 0.]\n",
      " [0. 0. 0. ... 0. 0. 0.]\n",
      " [0. 0. 0. ... 0. 0. 0.]]\n",
      "Loss: \n",
      " 0.1\n",
      "+---------EPOCH 400---------+\n",
      "Predicted Output: \n",
      " [[0. 0. 0. ... 0. 0. 0.]\n",
      " [0. 0. 0. ... 0. 0. 0.]\n",
      " [0. 0. 0. ... 0. 0. 0.]\n",
      " ...\n",
      " [0. 0. 0. ... 0. 0. 0.]\n",
      " [0. 0. 0. ... 0. 0. 0.]\n",
      " [0. 0. 0. ... 0. 0. 0.]]\n",
      "Loss: \n",
      " 0.1\n",
      "+---------EPOCH 500---------+\n",
      "Predicted Output: \n",
      " [[0. 0. 0. ... 0. 0. 0.]\n",
      " [0. 0. 0. ... 0. 0. 0.]\n",
      " [0. 0. 0. ... 0. 0. 0.]\n",
      " ...\n",
      " [0. 0. 0. ... 0. 0. 0.]\n",
      " [0. 0. 0. ... 0. 0. 0.]\n",
      " [0. 0. 0. ... 0. 0. 0.]]\n",
      "Loss: \n",
      " 0.1\n",
      "+---------EPOCH 600---------+\n",
      "Predicted Output: \n",
      " [[0. 0. 0. ... 0. 0. 0.]\n",
      " [0. 0. 0. ... 0. 0. 0.]\n",
      " [0. 0. 0. ... 0. 0. 0.]\n",
      " ...\n",
      " [0. 0. 0. ... 0. 0. 0.]\n",
      " [0. 0. 0. ... 0. 0. 0.]\n",
      " [0. 0. 0. ... 0. 0. 0.]]\n",
      "Loss: \n",
      " 0.1\n",
      "+---------EPOCH 700---------+\n",
      "Predicted Output: \n",
      " [[0. 0. 0. ... 0. 0. 0.]\n",
      " [0. 0. 0. ... 0. 0. 0.]\n",
      " [0. 0. 0. ... 0. 0. 0.]\n",
      " ...\n",
      " [0. 0. 0. ... 0. 0. 0.]\n",
      " [0. 0. 0. ... 0. 0. 0.]\n",
      " [0. 0. 0. ... 0. 0. 0.]]\n",
      "Loss: \n",
      " 0.1\n",
      "+---------EPOCH 800---------+\n",
      "Predicted Output: \n",
      " [[0. 0. 0. ... 0. 0. 0.]\n",
      " [0. 0. 0. ... 0. 0. 0.]\n",
      " [0. 0. 0. ... 0. 0. 0.]\n",
      " ...\n",
      " [0. 0. 0. ... 0. 0. 0.]\n",
      " [0. 0. 0. ... 0. 0. 0.]\n",
      " [0. 0. 0. ... 0. 0. 0.]]\n",
      "Loss: \n",
      " 0.1\n",
      "+---------EPOCH 900---------+\n",
      "Predicted Output: \n",
      " [[0. 0. 0. ... 0. 0. 0.]\n",
      " [0. 0. 0. ... 0. 0. 0.]\n",
      " [0. 0. 0. ... 0. 0. 0.]\n",
      " ...\n",
      " [0. 0. 0. ... 0. 0. 0.]\n",
      " [0. 0. 0. ... 0. 0. 0.]\n",
      " [0. 0. 0. ... 0. 0. 0.]]\n",
      "Loss: \n",
      " 0.1\n",
      "+---------EPOCH 1000---------+\n",
      "Predicted Output: \n",
      " [[0. 0. 0. ... 0. 0. 0.]\n",
      " [0. 0. 0. ... 0. 0. 0.]\n",
      " [0. 0. 0. ... 0. 0. 0.]\n",
      " ...\n",
      " [0. 0. 0. ... 0. 0. 0.]\n",
      " [0. 0. 0. ... 0. 0. 0.]\n",
      " [0. 0. 0. ... 0. 0. 0.]]\n",
      "Loss: \n",
      " 0.1\n"
     ]
    }
   ],
   "source": [
    "nn = NeuralNetwork()\n",
    "\n",
    "for i in range(1000):\n",
    "    if ((i+1) % 100 ==0):\n",
    "        print('+' + '---' * 3 + f'EPOCH {i+1}' + '---'*3 + '+')\n",
    "        print('Predicted Output: \\n', str(nn.feed_forward(X_train)))\n",
    "        print(\"Loss: \\n\", str(np.mean(np.square(y_train - nn.feed_forward(X_train)))))\n",
    "    nn.train(X_train, y_train)"
   ]
  },
  {
   "cell_type": "markdown",
   "metadata": {
    "colab_type": "text",
    "id": "zv_3xNMjzdLI"
   },
   "source": [
    "## Stretch Goals:\n",
    "\n",
    "- Use Hyperparameter Tuning to make the accuracy of your models as high as possible. (error as low as possible)\n",
    "- Use Cross Validation techniques to get more consistent results with your model.\n",
    "- Use GridSearchCV to try different combinations of hyperparameters. \n",
    "- Start looking into other types of Keras layers for CNNs and RNNs maybe try and build a CNN model for fashion-MNIST to see how the results compare."
   ]
  }
 ],
 "metadata": {
  "colab": {
   "name": "LS_DS_433_Keras_Assignment.ipynb",
   "provenance": [],
   "version": "0.3.2"
  },
  "kernelspec": {
   "display_name": "Python 3",
   "language": "python",
   "name": "python3"
  },
  "language_info": {
   "codemirror_mode": {
    "name": "ipython",
    "version": 3
   },
   "file_extension": ".py",
   "mimetype": "text/x-python",
   "name": "python",
   "nbconvert_exporter": "python",
   "pygments_lexer": "ipython3",
   "version": "3.7.3"
  }
 },
 "nbformat": 4,
 "nbformat_minor": 2
}
