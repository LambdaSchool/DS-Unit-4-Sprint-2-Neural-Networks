{
 "cells": [
  {
   "cell_type": "markdown",
   "metadata": {
    "colab_type": "text",
    "id": "pBQsZEJmubLs"
   },
   "source": [
    "<img align=\"left\" src=\"https://lever-client-logos.s3.amazonaws.com/864372b1-534c-480e-acd5-9711f850815c-1524247202159.png\" width=200>\n",
    "<br></br>\n",
    "\n",
    "# Neural Network Framework (Keras)\n",
    "\n",
    "## *Data Science Unit 4 Sprint 2 Assignmnet 3*\n",
    "\n",
    "## Use the Keras Library to build a Multi-Layer Perceptron Model on the Boston Housing dataset\n",
    "\n",
    "- The Boston Housing dataset comes with the Keras library so use Keras to import it into your notebook. \n",
    "- Normalize the data (all features should have roughly the same scale)\n",
    "- Import the type of model and layers that you will need from Keras.\n",
    "- Instantiate a model object and use `model.add()` to add layers to your model\n",
    "- Since this is a regression model you will have a single output node in the final layer.\n",
    "- Use activation functions that are appropriate for this task\n",
    "- Compile your model\n",
    "- Fit your model and report its accuracy in terms of Mean Squared Error\n",
    "- Use the history object that is returned from model.fit to make graphs of the model's loss or train/validation accuracies by epoch. \n",
    "- Run this same data through a linear regression model. Which achieves higher accuracy?\n",
    "- Do a little bit of feature engineering and see how that affects your neural network model. (you will need to change your model to accept more inputs)\n",
    "- After feature engineering, which model sees a greater accuracy boost due to the new features?"
   ]
  },
  {
   "cell_type": "code",
   "execution_count": 1,
   "metadata": {},
   "outputs": [
    {
     "data": {
      "text/plain": [
       "'1.14.0'"
      ]
     },
     "execution_count": 1,
     "metadata": {},
     "output_type": "execute_result"
    }
   ],
   "source": [
    "import tensorflow\n",
    "tensorflow.__version__\n"
   ]
  },
  {
   "cell_type": "code",
   "execution_count": 117,
   "metadata": {},
   "outputs": [],
   "source": [
    "from tensorflow import keras \n",
    "from tensorflow.keras.models import Sequential\n",
    "from tensorflow.keras.layers import Dense\n",
    "import numpy as np\n",
    "\n",
    "np.random.seed(812)"
   ]
  },
  {
   "cell_type": "code",
   "execution_count": 118,
   "metadata": {
    "colab": {},
    "colab_type": "code",
    "id": "8NLTAR87uYJ-"
   },
   "outputs": [],
   "source": [
    "from tensorflow.keras.datasets import boston_housing"
   ]
  },
  {
   "cell_type": "code",
   "execution_count": 176,
   "metadata": {},
   "outputs": [],
   "source": [
    "batch_size = 32\n",
    "#num_class = 10\n",
    "epochs = 150\n",
    "\n",
    "(X_train, y_train), (X_test, y_test) = boston_housing.load_data()"
   ]
  },
  {
   "cell_type": "code",
   "execution_count": 120,
   "metadata": {},
   "outputs": [
    {
     "data": {
      "text/plain": [
       "((404, 13), (102, 13))"
      ]
     },
     "execution_count": 120,
     "metadata": {},
     "output_type": "execute_result"
    }
   ],
   "source": [
    "X_train.shape, X_test.shape"
   ]
  },
  {
   "cell_type": "code",
   "execution_count": 121,
   "metadata": {},
   "outputs": [
    {
     "data": {
      "text/plain": [
       "array([[1.23247e+00, 0.00000e+00, 8.14000e+00, 0.00000e+00, 5.38000e-01,\n",
       "        6.14200e+00, 9.17000e+01, 3.97690e+00, 4.00000e+00, 3.07000e+02,\n",
       "        2.10000e+01, 3.96900e+02, 1.87200e+01],\n",
       "       [2.17700e-02, 8.25000e+01, 2.03000e+00, 0.00000e+00, 4.15000e-01,\n",
       "        7.61000e+00, 1.57000e+01, 6.27000e+00, 2.00000e+00, 3.48000e+02,\n",
       "        1.47000e+01, 3.95380e+02, 3.11000e+00]])"
      ]
     },
     "execution_count": 121,
     "metadata": {},
     "output_type": "execute_result"
    }
   ],
   "source": [
    "X_train[0:2]"
   ]
  },
  {
   "cell_type": "code",
   "execution_count": 122,
   "metadata": {},
   "outputs": [],
   "source": [
    "X_train = X_train.astype('float32')\n",
    "X_test = X_test.astype('float32')"
   ]
  },
  {
   "cell_type": "code",
   "execution_count": 101,
   "metadata": {},
   "outputs": [],
   "source": [
    "#from sklearn import preprocessing"
   ]
  },
  {
   "cell_type": "code",
   "execution_count": 102,
   "metadata": {},
   "outputs": [],
   "source": [
    "# def normalize(array):\n",
    "#     mean=array.mean(axis=0)\n",
    "#     std=array.std(axis=0)\n",
    "#     array = (array-mean)/std\n",
    "#     return array"
   ]
  },
  {
   "cell_type": "code",
   "execution_count": 103,
   "metadata": {},
   "outputs": [],
   "source": [
    "# X_train = normalize(X_train)\n",
    "# X_test = normalize(X_test)"
   ]
  },
  {
   "cell_type": "code",
   "execution_count": 106,
   "metadata": {},
   "outputs": [],
   "source": [
    "#X_train = X_train.reshape(404, 13)\n",
    "#X_test = X_test.reshape(102, 13)"
   ]
  },
  {
   "cell_type": "code",
   "execution_count": 107,
   "metadata": {},
   "outputs": [
    {
     "data": {
      "text/plain": [
       "array([[1.23247e+00, 0.00000e+00, 8.14000e+00, 0.00000e+00, 5.38000e-01,\n",
       "        6.14200e+00, 9.17000e+01, 3.97690e+00, 4.00000e+00, 3.07000e+02,\n",
       "        2.10000e+01, 3.96900e+02, 1.87200e+01],\n",
       "       [2.17700e-02, 8.25000e+01, 2.03000e+00, 0.00000e+00, 4.15000e-01,\n",
       "        7.61000e+00, 1.57000e+01, 6.27000e+00, 2.00000e+00, 3.48000e+02,\n",
       "        1.47000e+01, 3.95380e+02, 3.11000e+00]], dtype=float32)"
      ]
     },
     "execution_count": 107,
     "metadata": {},
     "output_type": "execute_result"
    }
   ],
   "source": [
    "X_train[0:2]"
   ]
  },
  {
   "cell_type": "code",
   "execution_count": 108,
   "metadata": {},
   "outputs": [
    {
     "data": {
      "text/plain": [
       "(404, 13)"
      ]
     },
     "execution_count": 108,
     "metadata": {},
     "output_type": "execute_result"
    }
   ],
   "source": [
    "X_train.shape"
   ]
  },
  {
   "cell_type": "code",
   "execution_count": 140,
   "metadata": {},
   "outputs": [
    {
     "data": {
      "text/plain": [
       "(404,)"
      ]
     },
     "execution_count": 140,
     "metadata": {},
     "output_type": "execute_result"
    }
   ],
   "source": [
    "y_train.shape"
   ]
  },
  {
   "cell_type": "code",
   "execution_count": 142,
   "metadata": {},
   "outputs": [
    {
     "data": {
      "text/plain": [
       "50.0"
      ]
     },
     "execution_count": 142,
     "metadata": {},
     "output_type": "execute_result"
    }
   ],
   "source": [
    "y_train.max()"
   ]
  },
  {
   "cell_type": "code",
   "execution_count": 143,
   "metadata": {},
   "outputs": [
    {
     "data": {
      "text/plain": [
       "5.0"
      ]
     },
     "execution_count": 143,
     "metadata": {},
     "output_type": "execute_result"
    }
   ],
   "source": [
    "y_train.min()"
   ]
  },
  {
   "cell_type": "code",
   "execution_count": 144,
   "metadata": {},
   "outputs": [
    {
     "data": {
      "text/plain": [
       "array([15.2, 42.3, 50. , 21.1])"
      ]
     },
     "execution_count": 144,
     "metadata": {},
     "output_type": "execute_result"
    }
   ],
   "source": [
    "y_train[:4]"
   ]
  },
  {
   "cell_type": "code",
   "execution_count": 110,
   "metadata": {},
   "outputs": [
    {
     "data": {
      "text/plain": [
       "169"
      ]
     },
     "execution_count": 110,
     "metadata": {},
     "output_type": "execute_result"
    }
   ],
   "source": [
    "13*13"
   ]
  },
  {
   "cell_type": "code",
   "execution_count": 186,
   "metadata": {},
   "outputs": [],
   "source": [
    "(X_train, y_train), (X_test, y_test) = boston_housing.load_data()"
   ]
  },
  {
   "cell_type": "code",
   "execution_count": null,
   "metadata": {},
   "outputs": [],
   "source": []
  },
  {
   "cell_type": "code",
   "execution_count": 198,
   "metadata": {},
   "outputs": [
    {
     "name": "stdout",
     "output_type": "stream",
     "text": [
      "Model: \"sequential_55\"\n",
      "_________________________________________________________________\n",
      "Layer (type)                 Output Shape              Param #   \n",
      "=================================================================\n",
      "dense_164 (Dense)            (None, 64)                896       \n",
      "_________________________________________________________________\n",
      "dense_165 (Dense)            (None, 32)                2080      \n",
      "_________________________________________________________________\n",
      "dense_166 (Dense)            (None, 16)                528       \n",
      "_________________________________________________________________\n",
      "dense_167 (Dense)            (None, 1)                 17        \n",
      "=================================================================\n",
      "Total params: 3,521\n",
      "Trainable params: 3,521\n",
      "Non-trainable params: 0\n",
      "_________________________________________________________________\n"
     ]
    }
   ],
   "source": [
    "model = Sequential()\n",
    "\n",
    "# Hidden\n",
    "model.add(Dense(64, input_dim=13, activation='relu'))\n",
    "model.add(Dense(32, activation='relu'))\n",
    "model.add(Dense(16, activation='relu'))\n",
    "# Output Layer\n",
    "model.add(Dense(1, activation='linear'))\n",
    "\n",
    "model.compile(loss='MSE',\n",
    "                    optimizer='adam', \n",
    "                    metrics=['MSE'])\n",
    "model.summary()"
   ]
  },
  {
   "cell_type": "code",
   "execution_count": 199,
   "metadata": {},
   "outputs": [
    {
     "name": "stdout",
     "output_type": "stream",
     "text": [
      "Train on 404 samples, validate on 102 samples\n",
      "Epoch 1/250\n",
      "404/404 [==============================] - 1s 2ms/sample - loss: 523.8586 - mean_squared_error: 523.8586 - val_loss: 137.9906 - val_mean_squared_error: 137.9906\n",
      "Epoch 2/250\n",
      "404/404 [==============================] - 0s 94us/sample - loss: 104.1735 - mean_squared_error: 104.1735 - val_loss: 75.9779 - val_mean_squared_error: 75.9779\n",
      "Epoch 3/250\n",
      "404/404 [==============================] - 0s 91us/sample - loss: 74.0022 - mean_squared_error: 74.0022 - val_loss: 74.7882 - val_mean_squared_error: 74.7882\n",
      "Epoch 4/250\n",
      "404/404 [==============================] - 0s 89us/sample - loss: 67.1365 - mean_squared_error: 67.1365 - val_loss: 65.2329 - val_mean_squared_error: 65.2329\n",
      "Epoch 5/250\n",
      "404/404 [==============================] - 0s 109us/sample - loss: 64.8478 - mean_squared_error: 64.8478 - val_loss: 62.9250 - val_mean_squared_error: 62.9250\n",
      "Epoch 6/250\n",
      "404/404 [==============================] - 0s 101us/sample - loss: 63.3151 - mean_squared_error: 63.3151 - val_loss: 63.6470 - val_mean_squared_error: 63.6470\n",
      "Epoch 7/250\n",
      "404/404 [==============================] - 0s 99us/sample - loss: 62.4789 - mean_squared_error: 62.4789 - val_loss: 62.6522 - val_mean_squared_error: 62.6522\n",
      "Epoch 8/250\n",
      "404/404 [==============================] - 0s 89us/sample - loss: 61.4075 - mean_squared_error: 61.4075 - val_loss: 62.2445 - val_mean_squared_error: 62.2445\n",
      "Epoch 9/250\n",
      "404/404 [==============================] - 0s 84us/sample - loss: 60.9549 - mean_squared_error: 60.9549 - val_loss: 61.8593 - val_mean_squared_error: 61.8593\n",
      "Epoch 10/250\n",
      "404/404 [==============================] - 0s 101us/sample - loss: 62.6170 - mean_squared_error: 62.6170 - val_loss: 62.0076 - val_mean_squared_error: 62.0076\n",
      "Epoch 11/250\n",
      "404/404 [==============================] - 0s 86us/sample - loss: 60.2452 - mean_squared_error: 60.2452 - val_loss: 61.1398 - val_mean_squared_error: 61.1398\n",
      "Epoch 12/250\n",
      "404/404 [==============================] - 0s 101us/sample - loss: 59.0940 - mean_squared_error: 59.0940 - val_loss: 60.0537 - val_mean_squared_error: 60.0537\n",
      "Epoch 13/250\n",
      "404/404 [==============================] - 0s 94us/sample - loss: 58.0980 - mean_squared_error: 58.0980 - val_loss: 59.3521 - val_mean_squared_error: 59.3521\n",
      "Epoch 14/250\n",
      "404/404 [==============================] - 0s 101us/sample - loss: 57.5051 - mean_squared_error: 57.5051 - val_loss: 59.1821 - val_mean_squared_error: 59.1821\n",
      "Epoch 15/250\n",
      "404/404 [==============================] - 0s 123us/sample - loss: 56.8584 - mean_squared_error: 56.8584 - val_loss: 58.1079 - val_mean_squared_error: 58.1079\n",
      "Epoch 16/250\n",
      "404/404 [==============================] - 0s 84us/sample - loss: 56.0968 - mean_squared_error: 56.0968 - val_loss: 58.2044 - val_mean_squared_error: 58.2044\n",
      "Epoch 17/250\n",
      "404/404 [==============================] - 0s 94us/sample - loss: 55.5459 - mean_squared_error: 55.5459 - val_loss: 58.2264 - val_mean_squared_error: 58.2264\n",
      "Epoch 18/250\n",
      "404/404 [==============================] - 0s 96us/sample - loss: 55.1152 - mean_squared_error: 55.1152 - val_loss: 57.2997 - val_mean_squared_error: 57.2997\n",
      "Epoch 19/250\n",
      "404/404 [==============================] - 0s 111us/sample - loss: 54.4186 - mean_squared_error: 54.4186 - val_loss: 56.5830 - val_mean_squared_error: 56.5830\n",
      "Epoch 20/250\n",
      "404/404 [==============================] - 0s 119us/sample - loss: 53.7914 - mean_squared_error: 53.7914 - val_loss: 56.5351 - val_mean_squared_error: 56.5351\n",
      "Epoch 21/250\n",
      "404/404 [==============================] - 0s 84us/sample - loss: 53.8057 - mean_squared_error: 53.8057 - val_loss: 57.1761 - val_mean_squared_error: 57.1761\n",
      "Epoch 22/250\n",
      "404/404 [==============================] - 0s 77us/sample - loss: 53.5888 - mean_squared_error: 53.5888 - val_loss: 54.5681 - val_mean_squared_error: 54.5681\n",
      "Epoch 23/250\n",
      "404/404 [==============================] - 0s 120us/sample - loss: 53.1184 - mean_squared_error: 53.1183 - val_loss: 56.2217 - val_mean_squared_error: 56.2217\n",
      "Epoch 24/250\n",
      "404/404 [==============================] - 0s 96us/sample - loss: 51.7538 - mean_squared_error: 51.7539 - val_loss: 54.6194 - val_mean_squared_error: 54.6194\n",
      "Epoch 25/250\n",
      "404/404 [==============================] - 0s 79us/sample - loss: 50.5924 - mean_squared_error: 50.5924 - val_loss: 54.4673 - val_mean_squared_error: 54.4673\n",
      "Epoch 26/250\n",
      "404/404 [==============================] - 0s 82us/sample - loss: 49.9832 - mean_squared_error: 49.9832 - val_loss: 54.6469 - val_mean_squared_error: 54.6469\n",
      "Epoch 27/250\n",
      "404/404 [==============================] - 0s 91us/sample - loss: 50.7339 - mean_squared_error: 50.7339 - val_loss: 53.6319 - val_mean_squared_error: 53.6319\n",
      "Epoch 28/250\n",
      "404/404 [==============================] - 0s 104us/sample - loss: 49.8080 - mean_squared_error: 49.8080 - val_loss: 53.3645 - val_mean_squared_error: 53.3645\n",
      "Epoch 29/250\n",
      "404/404 [==============================] - 0s 91us/sample - loss: 48.4835 - mean_squared_error: 48.4835 - val_loss: 52.0222 - val_mean_squared_error: 52.0222\n",
      "Epoch 30/250\n",
      "404/404 [==============================] - 0s 110us/sample - loss: 47.5701 - mean_squared_error: 47.5701 - val_loss: 51.2696 - val_mean_squared_error: 51.2696\n",
      "Epoch 31/250\n",
      "404/404 [==============================] - 0s 101us/sample - loss: 47.1322 - mean_squared_error: 47.1322 - val_loss: 50.8478 - val_mean_squared_error: 50.8478\n",
      "Epoch 32/250\n",
      "404/404 [==============================] - 0s 86us/sample - loss: 46.8618 - mean_squared_error: 46.8618 - val_loss: 50.1928 - val_mean_squared_error: 50.1928\n",
      "Epoch 33/250\n",
      "404/404 [==============================] - 0s 143us/sample - loss: 45.5890 - mean_squared_error: 45.5890 - val_loss: 49.4676 - val_mean_squared_error: 49.4676\n",
      "Epoch 34/250\n",
      "404/404 [==============================] - 0s 109us/sample - loss: 48.3736 - mean_squared_error: 48.3736 - val_loss: 48.9565 - val_mean_squared_error: 48.9565\n",
      "Epoch 35/250\n",
      "404/404 [==============================] - 0s 84us/sample - loss: 45.0119 - mean_squared_error: 45.0119 - val_loss: 53.1773 - val_mean_squared_error: 53.1773\n",
      "Epoch 36/250\n",
      "404/404 [==============================] - 0s 121us/sample - loss: 46.1497 - mean_squared_error: 46.1497 - val_loss: 48.6439 - val_mean_squared_error: 48.6439\n",
      "Epoch 37/250\n",
      "404/404 [==============================] - 0s 84us/sample - loss: 42.4698 - mean_squared_error: 42.4698 - val_loss: 47.1418 - val_mean_squared_error: 47.1418\n",
      "Epoch 38/250\n",
      "404/404 [==============================] - 0s 109us/sample - loss: 42.2304 - mean_squared_error: 42.2304 - val_loss: 44.8786 - val_mean_squared_error: 44.8786\n",
      "Epoch 39/250\n",
      "404/404 [==============================] - 0s 89us/sample - loss: 41.9440 - mean_squared_error: 41.9440 - val_loss: 44.8448 - val_mean_squared_error: 44.8448\n",
      "Epoch 40/250\n",
      "404/404 [==============================] - 0s 126us/sample - loss: 40.0214 - mean_squared_error: 40.0214 - val_loss: 42.3063 - val_mean_squared_error: 42.3063\n",
      "Epoch 41/250\n",
      "404/404 [==============================] - 0s 99us/sample - loss: 40.0732 - mean_squared_error: 40.0732 - val_loss: 41.3825 - val_mean_squared_error: 41.3825\n",
      "Epoch 42/250\n",
      "404/404 [==============================] - 0s 116us/sample - loss: 39.3488 - mean_squared_error: 39.3488 - val_loss: 42.9941 - val_mean_squared_error: 42.9941\n",
      "Epoch 43/250\n",
      "404/404 [==============================] - 0s 101us/sample - loss: 38.0515 - mean_squared_error: 38.0515 - val_loss: 40.7761 - val_mean_squared_error: 40.7761\n",
      "Epoch 44/250\n",
      "404/404 [==============================] - 0s 86us/sample - loss: 37.6892 - mean_squared_error: 37.6892 - val_loss: 44.3932 - val_mean_squared_error: 44.3932\n",
      "Epoch 45/250\n",
      "404/404 [==============================] - 0s 104us/sample - loss: 36.6093 - mean_squared_error: 36.6093 - val_loss: 38.0084 - val_mean_squared_error: 38.0084\n",
      "Epoch 46/250\n",
      "404/404 [==============================] - 0s 104us/sample - loss: 34.9535 - mean_squared_error: 34.9535 - val_loss: 39.1507 - val_mean_squared_error: 39.1507\n",
      "Epoch 47/250\n",
      "404/404 [==============================] - 0s 104us/sample - loss: 35.2068 - mean_squared_error: 35.2068 - val_loss: 38.0581 - val_mean_squared_error: 38.0581\n",
      "Epoch 48/250\n",
      "404/404 [==============================] - 0s 113us/sample - loss: 34.8364 - mean_squared_error: 34.8364 - val_loss: 37.7924 - val_mean_squared_error: 37.7924\n",
      "Epoch 49/250\n",
      "404/404 [==============================] - 0s 94us/sample - loss: 39.6314 - mean_squared_error: 39.6314 - val_loss: 37.7438 - val_mean_squared_error: 37.7438\n",
      "Epoch 50/250\n",
      "404/404 [==============================] - 0s 151us/sample - loss: 35.6527 - mean_squared_error: 35.6527 - val_loss: 35.5492 - val_mean_squared_error: 35.5492\n",
      "Epoch 51/250\n",
      "404/404 [==============================] - 0s 119us/sample - loss: 32.8893 - mean_squared_error: 32.8893 - val_loss: 37.5843 - val_mean_squared_error: 37.5843\n",
      "Epoch 52/250\n",
      "404/404 [==============================] - 0s 101us/sample - loss: 31.3739 - mean_squared_error: 31.3739 - val_loss: 36.4447 - val_mean_squared_error: 36.4447\n",
      "Epoch 53/250\n",
      "404/404 [==============================] - 0s 114us/sample - loss: 32.2171 - mean_squared_error: 32.2171 - val_loss: 47.1663 - val_mean_squared_error: 47.1663\n",
      "Epoch 54/250\n",
      "404/404 [==============================] - 0s 132us/sample - loss: 35.1700 - mean_squared_error: 35.1700 - val_loss: 34.7576 - val_mean_squared_error: 34.7576\n",
      "Epoch 55/250\n",
      "404/404 [==============================] - 0s 114us/sample - loss: 33.1690 - mean_squared_error: 33.1690 - val_loss: 38.6935 - val_mean_squared_error: 38.6935\n",
      "Epoch 56/250\n",
      "404/404 [==============================] - 0s 96us/sample - loss: 36.3182 - mean_squared_error: 36.3182 - val_loss: 36.5625 - val_mean_squared_error: 36.5625\n",
      "Epoch 57/250\n",
      "404/404 [==============================] - 0s 101us/sample - loss: 30.8005 - mean_squared_error: 30.8005 - val_loss: 34.1262 - val_mean_squared_error: 34.1262\n",
      "Epoch 58/250\n",
      "404/404 [==============================] - 0s 151us/sample - loss: 32.4336 - mean_squared_error: 32.4336 - val_loss: 40.4261 - val_mean_squared_error: 40.4261\n",
      "Epoch 59/250\n",
      "404/404 [==============================] - 0s 106us/sample - loss: 32.5695 - mean_squared_error: 32.5695 - val_loss: 36.3518 - val_mean_squared_error: 36.3518\n",
      "Epoch 60/250\n",
      "404/404 [==============================] - 0s 94us/sample - loss: 32.0962 - mean_squared_error: 32.0962 - val_loss: 36.1422 - val_mean_squared_error: 36.1422\n",
      "Epoch 61/250\n",
      "404/404 [==============================] - 0s 91us/sample - loss: 28.3752 - mean_squared_error: 28.3752 - val_loss: 35.8290 - val_mean_squared_error: 35.8290\n",
      "Epoch 62/250\n",
      "404/404 [==============================] - 0s 136us/sample - loss: 29.2537 - mean_squared_error: 29.2537 - val_loss: 32.9199 - val_mean_squared_error: 32.9199\n",
      "Epoch 63/250\n",
      "404/404 [==============================] - 0s 99us/sample - loss: 28.6885 - mean_squared_error: 28.6885 - val_loss: 34.6957 - val_mean_squared_error: 34.6957\n",
      "Epoch 64/250\n",
      "404/404 [==============================] - 0s 106us/sample - loss: 28.1511 - mean_squared_error: 28.1511 - val_loss: 33.2533 - val_mean_squared_error: 33.2533\n",
      "Epoch 65/250\n",
      "404/404 [==============================] - 0s 106us/sample - loss: 29.0417 - mean_squared_error: 29.0417 - val_loss: 32.2089 - val_mean_squared_error: 32.2090\n",
      "Epoch 66/250\n",
      "404/404 [==============================] - 0s 113us/sample - loss: 27.0206 - mean_squared_error: 27.0206 - val_loss: 33.1815 - val_mean_squared_error: 33.1815\n",
      "Epoch 67/250\n",
      "404/404 [==============================] - 0s 99us/sample - loss: 27.7537 - mean_squared_error: 27.7537 - val_loss: 32.1618 - val_mean_squared_error: 32.1618\n",
      "Epoch 68/250\n",
      "404/404 [==============================] - 0s 114us/sample - loss: 29.4121 - mean_squared_error: 29.4121 - val_loss: 34.0379 - val_mean_squared_error: 34.0379\n",
      "Epoch 69/250\n",
      "404/404 [==============================] - 0s 86us/sample - loss: 30.4189 - mean_squared_error: 30.4189 - val_loss: 31.8134 - val_mean_squared_error: 31.8134\n",
      "Epoch 70/250\n",
      "404/404 [==============================] - 0s 94us/sample - loss: 27.3566 - mean_squared_error: 27.3566 - val_loss: 33.7857 - val_mean_squared_error: 33.7857\n",
      "Epoch 71/250\n",
      "404/404 [==============================] - 0s 109us/sample - loss: 30.2073 - mean_squared_error: 30.2073 - val_loss: 31.0644 - val_mean_squared_error: 31.0644\n",
      "Epoch 72/250\n",
      "404/404 [==============================] - 0s 104us/sample - loss: 27.6915 - mean_squared_error: 27.6915 - val_loss: 35.3741 - val_mean_squared_error: 35.3741\n",
      "Epoch 73/250\n",
      "404/404 [==============================] - 0s 96us/sample - loss: 27.7783 - mean_squared_error: 27.7783 - val_loss: 31.4839 - val_mean_squared_error: 31.4839\n",
      "Epoch 74/250\n",
      "404/404 [==============================] - 0s 111us/sample - loss: 27.4956 - mean_squared_error: 27.4956 - val_loss: 31.7914 - val_mean_squared_error: 31.7914\n",
      "Epoch 75/250\n",
      "404/404 [==============================] - 0s 96us/sample - loss: 26.7220 - mean_squared_error: 26.7220 - val_loss: 30.6496 - val_mean_squared_error: 30.6496\n",
      "Epoch 76/250\n",
      "404/404 [==============================] - 0s 91us/sample - loss: 26.3757 - mean_squared_error: 26.3757 - val_loss: 39.2456 - val_mean_squared_error: 39.2456\n",
      "Epoch 77/250\n",
      "404/404 [==============================] - 0s 94us/sample - loss: 28.9342 - mean_squared_error: 28.9342 - val_loss: 30.2197 - val_mean_squared_error: 30.2197\n",
      "Epoch 78/250\n",
      "404/404 [==============================] - 0s 109us/sample - loss: 26.2572 - mean_squared_error: 26.2572 - val_loss: 30.9933 - val_mean_squared_error: 30.9933\n",
      "Epoch 79/250\n",
      "404/404 [==============================] - 0s 138us/sample - loss: 25.5600 - mean_squared_error: 25.5600 - val_loss: 30.3303 - val_mean_squared_error: 30.3303\n",
      "Epoch 80/250\n",
      "404/404 [==============================] - 0s 74us/sample - loss: 28.4919 - mean_squared_error: 28.4919 - val_loss: 29.9477 - val_mean_squared_error: 29.9477\n",
      "Epoch 81/250\n",
      "404/404 [==============================] - 0s 112us/sample - loss: 27.3341 - mean_squared_error: 27.3341 - val_loss: 31.2811 - val_mean_squared_error: 31.2811\n",
      "Epoch 82/250\n",
      "404/404 [==============================] - 0s 121us/sample - loss: 27.4548 - mean_squared_error: 27.4548 - val_loss: 33.6408 - val_mean_squared_error: 33.6408\n",
      "Epoch 83/250\n",
      "404/404 [==============================] - 0s 109us/sample - loss: 25.9972 - mean_squared_error: 25.9972 - val_loss: 33.2504 - val_mean_squared_error: 33.2504\n",
      "Epoch 84/250\n",
      "404/404 [==============================] - 0s 96us/sample - loss: 25.2382 - mean_squared_error: 25.2382 - val_loss: 30.9659 - val_mean_squared_error: 30.9659\n",
      "Epoch 85/250\n",
      "404/404 [==============================] - 0s 109us/sample - loss: 24.8629 - mean_squared_error: 24.8629 - val_loss: 31.4882 - val_mean_squared_error: 31.4882\n",
      "Epoch 86/250\n",
      "404/404 [==============================] - 0s 104us/sample - loss: 28.4062 - mean_squared_error: 28.4062 - val_loss: 30.5538 - val_mean_squared_error: 30.5538\n",
      "Epoch 87/250\n",
      "404/404 [==============================] - 0s 79us/sample - loss: 23.8704 - mean_squared_error: 23.8704 - val_loss: 30.0630 - val_mean_squared_error: 30.0630\n",
      "Epoch 88/250\n",
      "404/404 [==============================] - 0s 86us/sample - loss: 24.6716 - mean_squared_error: 24.6716 - val_loss: 29.1139 - val_mean_squared_error: 29.1139\n",
      "Epoch 89/250\n",
      "404/404 [==============================] - 0s 89us/sample - loss: 24.3286 - mean_squared_error: 24.3286 - val_loss: 29.5246 - val_mean_squared_error: 29.5246\n",
      "Epoch 90/250\n",
      "404/404 [==============================] - 0s 101us/sample - loss: 22.7638 - mean_squared_error: 22.7638 - val_loss: 29.4323 - val_mean_squared_error: 29.4323\n",
      "Epoch 91/250\n",
      "404/404 [==============================] - 0s 101us/sample - loss: 23.2579 - mean_squared_error: 23.2579 - val_loss: 29.8938 - val_mean_squared_error: 29.8938\n",
      "Epoch 92/250\n",
      "404/404 [==============================] - 0s 96us/sample - loss: 24.3035 - mean_squared_error: 24.3035 - val_loss: 29.7362 - val_mean_squared_error: 29.7362\n",
      "Epoch 93/250\n",
      "404/404 [==============================] - 0s 103us/sample - loss: 24.9402 - mean_squared_error: 24.9402 - val_loss: 38.6963 - val_mean_squared_error: 38.6963\n",
      "Epoch 94/250\n",
      "404/404 [==============================] - 0s 84us/sample - loss: 26.6192 - mean_squared_error: 26.6192 - val_loss: 34.9099 - val_mean_squared_error: 34.9099\n",
      "Epoch 95/250\n",
      "404/404 [==============================] - 0s 110us/sample - loss: 26.9576 - mean_squared_error: 26.9576 - val_loss: 41.1535 - val_mean_squared_error: 41.1535\n",
      "Epoch 96/250\n",
      "404/404 [==============================] - 0s 86us/sample - loss: 31.9738 - mean_squared_error: 31.9738 - val_loss: 28.8810 - val_mean_squared_error: 28.8810\n",
      "Epoch 97/250\n",
      "404/404 [==============================] - 0s 106us/sample - loss: 26.0437 - mean_squared_error: 26.0437 - val_loss: 29.5947 - val_mean_squared_error: 29.5947\n",
      "Epoch 98/250\n",
      "404/404 [==============================] - 0s 104us/sample - loss: 22.0012 - mean_squared_error: 22.0012 - val_loss: 30.7038 - val_mean_squared_error: 30.7038\n",
      "Epoch 99/250\n",
      "404/404 [==============================] - 0s 96us/sample - loss: 26.8190 - mean_squared_error: 26.8190 - val_loss: 30.7613 - val_mean_squared_error: 30.7612\n",
      "Epoch 100/250\n",
      "404/404 [==============================] - 0s 89us/sample - loss: 24.6670 - mean_squared_error: 24.6670 - val_loss: 40.6887 - val_mean_squared_error: 40.6887\n",
      "Epoch 101/250\n",
      "404/404 [==============================] - 0s 114us/sample - loss: 24.3178 - mean_squared_error: 24.3178 - val_loss: 28.6893 - val_mean_squared_error: 28.6893\n",
      "Epoch 102/250\n",
      "404/404 [==============================] - 0s 86us/sample - loss: 21.6237 - mean_squared_error: 21.6237 - val_loss: 28.4977 - val_mean_squared_error: 28.4977\n",
      "Epoch 103/250\n",
      "404/404 [==============================] - 0s 123us/sample - loss: 21.2107 - mean_squared_error: 21.2107 - val_loss: 29.4050 - val_mean_squared_error: 29.4050\n",
      "Epoch 104/250\n",
      "404/404 [==============================] - 0s 106us/sample - loss: 21.2958 - mean_squared_error: 21.2958 - val_loss: 30.7785 - val_mean_squared_error: 30.7785\n",
      "Epoch 105/250\n",
      "404/404 [==============================] - 0s 94us/sample - loss: 22.9201 - mean_squared_error: 22.9201 - val_loss: 37.0986 - val_mean_squared_error: 37.0986\n",
      "Epoch 106/250\n",
      "404/404 [==============================] - 0s 106us/sample - loss: 21.8270 - mean_squared_error: 21.8270 - val_loss: 30.4554 - val_mean_squared_error: 30.4554\n",
      "Epoch 107/250\n",
      "404/404 [==============================] - 0s 104us/sample - loss: 20.0744 - mean_squared_error: 20.0744 - val_loss: 27.5739 - val_mean_squared_error: 27.5739\n",
      "Epoch 108/250\n",
      "404/404 [==============================] - 0s 101us/sample - loss: 19.7895 - mean_squared_error: 19.7895 - val_loss: 28.7936 - val_mean_squared_error: 28.7936\n",
      "Epoch 109/250\n",
      "404/404 [==============================] - 0s 101us/sample - loss: 19.8495 - mean_squared_error: 19.8495 - val_loss: 28.1670 - val_mean_squared_error: 28.1670\n",
      "Epoch 110/250\n",
      "404/404 [==============================] - 0s 96us/sample - loss: 20.6052 - mean_squared_error: 20.6052 - val_loss: 32.0491 - val_mean_squared_error: 32.0491\n",
      "Epoch 111/250\n",
      "404/404 [==============================] - 0s 89us/sample - loss: 19.9567 - mean_squared_error: 19.9567 - val_loss: 28.6153 - val_mean_squared_error: 28.6153\n",
      "Epoch 112/250\n",
      "404/404 [==============================] - 0s 99us/sample - loss: 20.2710 - mean_squared_error: 20.2710 - val_loss: 28.6117 - val_mean_squared_error: 28.6117\n",
      "Epoch 113/250\n",
      "404/404 [==============================] - 0s 106us/sample - loss: 21.4661 - mean_squared_error: 21.4661 - val_loss: 29.0731 - val_mean_squared_error: 29.0731\n",
      "Epoch 114/250\n",
      "404/404 [==============================] - 0s 99us/sample - loss: 19.7200 - mean_squared_error: 19.7200 - val_loss: 28.4885 - val_mean_squared_error: 28.4885\n",
      "Epoch 115/250\n",
      "404/404 [==============================] - 0s 111us/sample - loss: 18.6972 - mean_squared_error: 18.6972 - val_loss: 28.2838 - val_mean_squared_error: 28.2838\n",
      "Epoch 116/250\n",
      "404/404 [==============================] - 0s 84us/sample - loss: 18.5144 - mean_squared_error: 18.5144 - val_loss: 27.7722 - val_mean_squared_error: 27.7722\n",
      "Epoch 117/250\n",
      "404/404 [==============================] - 0s 81us/sample - loss: 19.2951 - mean_squared_error: 19.2951 - val_loss: 28.8957 - val_mean_squared_error: 28.8957\n",
      "Epoch 118/250\n",
      "404/404 [==============================] - 0s 96us/sample - loss: 18.8244 - mean_squared_error: 18.8244 - val_loss: 29.0092 - val_mean_squared_error: 29.0092\n",
      "Epoch 119/250\n",
      "404/404 [==============================] - 0s 91us/sample - loss: 18.5436 - mean_squared_error: 18.5436 - val_loss: 28.3981 - val_mean_squared_error: 28.3981\n",
      "Epoch 120/250\n",
      "404/404 [==============================] - 0s 104us/sample - loss: 18.5884 - mean_squared_error: 18.5884 - val_loss: 29.4975 - val_mean_squared_error: 29.4975\n",
      "Epoch 121/250\n",
      "404/404 [==============================] - 0s 78us/sample - loss: 18.1542 - mean_squared_error: 18.1542 - val_loss: 27.5714 - val_mean_squared_error: 27.5714\n",
      "Epoch 122/250\n",
      "404/404 [==============================] - 0s 67us/sample - loss: 17.2464 - mean_squared_error: 17.2464 - val_loss: 31.0320 - val_mean_squared_error: 31.0320\n",
      "Epoch 123/250\n",
      "404/404 [==============================] - 0s 106us/sample - loss: 19.2269 - mean_squared_error: 19.2269 - val_loss: 37.3820 - val_mean_squared_error: 37.3820\n",
      "Epoch 124/250\n",
      "404/404 [==============================] - 0s 101us/sample - loss: 21.1207 - mean_squared_error: 21.1207 - val_loss: 31.4057 - val_mean_squared_error: 31.4057\n",
      "Epoch 125/250\n",
      "404/404 [==============================] - 0s 101us/sample - loss: 18.4431 - mean_squared_error: 18.4431 - val_loss: 28.3960 - val_mean_squared_error: 28.3960\n",
      "Epoch 126/250\n",
      "404/404 [==============================] - 0s 89us/sample - loss: 17.9444 - mean_squared_error: 17.9444 - val_loss: 35.6520 - val_mean_squared_error: 35.6520\n",
      "Epoch 127/250\n",
      "404/404 [==============================] - 0s 69us/sample - loss: 20.4916 - mean_squared_error: 20.4916 - val_loss: 28.8365 - val_mean_squared_error: 28.8365\n",
      "Epoch 128/250\n",
      "404/404 [==============================] - 0s 89us/sample - loss: 17.1239 - mean_squared_error: 17.1239 - val_loss: 28.8798 - val_mean_squared_error: 28.8798\n",
      "Epoch 129/250\n",
      "404/404 [==============================] - 0s 99us/sample - loss: 16.6234 - mean_squared_error: 16.6234 - val_loss: 31.2815 - val_mean_squared_error: 31.2815\n",
      "Epoch 130/250\n",
      "404/404 [==============================] - 0s 111us/sample - loss: 18.1513 - mean_squared_error: 18.1513 - val_loss: 28.0503 - val_mean_squared_error: 28.0503\n",
      "Epoch 131/250\n",
      "404/404 [==============================] - 0s 94us/sample - loss: 17.3128 - mean_squared_error: 17.3128 - val_loss: 28.4536 - val_mean_squared_error: 28.4536\n",
      "Epoch 132/250\n",
      "404/404 [==============================] - 0s 118us/sample - loss: 17.0405 - mean_squared_error: 17.0405 - val_loss: 28.2496 - val_mean_squared_error: 28.2496\n",
      "Epoch 133/250\n",
      "404/404 [==============================] - 0s 112us/sample - loss: 16.3840 - mean_squared_error: 16.3840 - val_loss: 30.4996 - val_mean_squared_error: 30.4996\n",
      "Epoch 134/250\n",
      "404/404 [==============================] - 0s 128us/sample - loss: 16.2275 - mean_squared_error: 16.2275 - val_loss: 28.1566 - val_mean_squared_error: 28.1566\n",
      "Epoch 135/250\n",
      "404/404 [==============================] - 0s 79us/sample - loss: 16.4209 - mean_squared_error: 16.4209 - val_loss: 27.6027 - val_mean_squared_error: 27.6027\n",
      "Epoch 136/250\n",
      "404/404 [==============================] - 0s 77us/sample - loss: 16.0434 - mean_squared_error: 16.0434 - val_loss: 31.8388 - val_mean_squared_error: 31.8388\n",
      "Epoch 137/250\n",
      "404/404 [==============================] - 0s 94us/sample - loss: 16.3588 - mean_squared_error: 16.3588 - val_loss: 28.8317 - val_mean_squared_error: 28.8317\n",
      "Epoch 138/250\n",
      "404/404 [==============================] - 0s 91us/sample - loss: 19.4460 - mean_squared_error: 19.4460 - val_loss: 33.9599 - val_mean_squared_error: 33.9599\n",
      "Epoch 139/250\n",
      "404/404 [==============================] - 0s 109us/sample - loss: 16.3838 - mean_squared_error: 16.3838 - val_loss: 30.4968 - val_mean_squared_error: 30.4968\n",
      "Epoch 140/250\n",
      "404/404 [==============================] - 0s 94us/sample - loss: 16.4645 - mean_squared_error: 16.4645 - val_loss: 32.7129 - val_mean_squared_error: 32.7129\n",
      "Epoch 141/250\n",
      "404/404 [==============================] - 0s 99us/sample - loss: 17.6700 - mean_squared_error: 17.6700 - val_loss: 35.0638 - val_mean_squared_error: 35.0638\n",
      "Epoch 142/250\n",
      "404/404 [==============================] - 0s 91us/sample - loss: 17.6619 - mean_squared_error: 17.6619 - val_loss: 29.3918 - val_mean_squared_error: 29.3918\n",
      "Epoch 143/250\n",
      "404/404 [==============================] - 0s 86us/sample - loss: 15.0903 - mean_squared_error: 15.0903 - val_loss: 28.8187 - val_mean_squared_error: 28.8187\n",
      "Epoch 144/250\n",
      "404/404 [==============================] - 0s 101us/sample - loss: 14.5811 - mean_squared_error: 14.5811 - val_loss: 29.6343 - val_mean_squared_error: 29.6343\n",
      "Epoch 145/250\n",
      "404/404 [==============================] - 0s 89us/sample - loss: 16.0242 - mean_squared_error: 16.0242 - val_loss: 29.1068 - val_mean_squared_error: 29.1068\n",
      "Epoch 146/250\n",
      "404/404 [==============================] - 0s 96us/sample - loss: 16.2420 - mean_squared_error: 16.2420 - val_loss: 29.4232 - val_mean_squared_error: 29.4232\n",
      "Epoch 147/250\n",
      "404/404 [==============================] - 0s 123us/sample - loss: 15.6876 - mean_squared_error: 15.6876 - val_loss: 35.5132 - val_mean_squared_error: 35.5132\n",
      "Epoch 148/250\n",
      "404/404 [==============================] - 0s 91us/sample - loss: 16.0187 - mean_squared_error: 16.0187 - val_loss: 28.1280 - val_mean_squared_error: 28.1280\n",
      "Epoch 149/250\n",
      "404/404 [==============================] - 0s 77us/sample - loss: 14.9977 - mean_squared_error: 14.9977 - val_loss: 29.9460 - val_mean_squared_error: 29.9460\n",
      "Epoch 150/250\n",
      "404/404 [==============================] - 0s 79us/sample - loss: 15.6161 - mean_squared_error: 15.6161 - val_loss: 29.4218 - val_mean_squared_error: 29.4218\n",
      "Epoch 151/250\n",
      "404/404 [==============================] - 0s 111us/sample - loss: 15.6946 - mean_squared_error: 15.6946 - val_loss: 30.9473 - val_mean_squared_error: 30.9473\n",
      "Epoch 152/250\n",
      "404/404 [==============================] - 0s 91us/sample - loss: 16.5466 - mean_squared_error: 16.5466 - val_loss: 30.0657 - val_mean_squared_error: 30.0657\n",
      "Epoch 153/250\n",
      "404/404 [==============================] - 0s 86us/sample - loss: 15.6663 - mean_squared_error: 15.6663 - val_loss: 29.6956 - val_mean_squared_error: 29.6956\n",
      "Epoch 154/250\n",
      "404/404 [==============================] - 0s 85us/sample - loss: 15.8857 - mean_squared_error: 15.8857 - val_loss: 30.4293 - val_mean_squared_error: 30.4293\n",
      "Epoch 155/250\n",
      "404/404 [==============================] - 0s 126us/sample - loss: 14.9162 - mean_squared_error: 14.9162 - val_loss: 30.8788 - val_mean_squared_error: 30.8788\n",
      "Epoch 156/250\n",
      "404/404 [==============================] - 0s 88us/sample - loss: 15.3586 - mean_squared_error: 15.3586 - val_loss: 27.8074 - val_mean_squared_error: 27.8074\n",
      "Epoch 157/250\n",
      "404/404 [==============================] - 0s 94us/sample - loss: 14.4317 - mean_squared_error: 14.4317 - val_loss: 29.9276 - val_mean_squared_error: 29.9276\n",
      "Epoch 158/250\n",
      "404/404 [==============================] - 0s 116us/sample - loss: 16.0731 - mean_squared_error: 16.0731 - val_loss: 32.7180 - val_mean_squared_error: 32.7179\n",
      "Epoch 159/250\n",
      "404/404 [==============================] - 0s 89us/sample - loss: 16.3576 - mean_squared_error: 16.3576 - val_loss: 32.3559 - val_mean_squared_error: 32.3559\n",
      "Epoch 160/250\n",
      "404/404 [==============================] - 0s 99us/sample - loss: 16.3383 - mean_squared_error: 16.3383 - val_loss: 29.3635 - val_mean_squared_error: 29.3635\n",
      "Epoch 161/250\n",
      "404/404 [==============================] - 0s 116us/sample - loss: 15.9020 - mean_squared_error: 15.9020 - val_loss: 29.8782 - val_mean_squared_error: 29.8782\n",
      "Epoch 162/250\n",
      "404/404 [==============================] - 0s 150us/sample - loss: 15.4859 - mean_squared_error: 15.4859 - val_loss: 28.0734 - val_mean_squared_error: 28.0734\n",
      "Epoch 163/250\n",
      "404/404 [==============================] - 0s 91us/sample - loss: 14.2755 - mean_squared_error: 14.2755 - val_loss: 28.5475 - val_mean_squared_error: 28.5475\n",
      "Epoch 164/250\n",
      "404/404 [==============================] - 0s 104us/sample - loss: 14.7214 - mean_squared_error: 14.7214 - val_loss: 28.8336 - val_mean_squared_error: 28.8336\n",
      "Epoch 165/250\n",
      "404/404 [==============================] - 0s 79us/sample - loss: 14.8686 - mean_squared_error: 14.8686 - val_loss: 34.2057 - val_mean_squared_error: 34.2057\n",
      "Epoch 166/250\n",
      "404/404 [==============================] - 0s 84us/sample - loss: 16.1505 - mean_squared_error: 16.1505 - val_loss: 29.5919 - val_mean_squared_error: 29.5919\n",
      "Epoch 167/250\n",
      "404/404 [==============================] - 0s 116us/sample - loss: 14.4661 - mean_squared_error: 14.4661 - val_loss: 28.8922 - val_mean_squared_error: 28.8922\n",
      "Epoch 168/250\n",
      "404/404 [==============================] - 0s 104us/sample - loss: 13.6891 - mean_squared_error: 13.6891 - val_loss: 29.7580 - val_mean_squared_error: 29.7580\n",
      "Epoch 169/250\n",
      "404/404 [==============================] - 0s 154us/sample - loss: 13.4606 - mean_squared_error: 13.4606 - val_loss: 32.5066 - val_mean_squared_error: 32.5066\n",
      "Epoch 170/250\n",
      "404/404 [==============================] - 0s 99us/sample - loss: 14.7571 - mean_squared_error: 14.7571 - val_loss: 28.0139 - val_mean_squared_error: 28.0139\n",
      "Epoch 171/250\n",
      "404/404 [==============================] - 0s 104us/sample - loss: 13.0876 - mean_squared_error: 13.0876 - val_loss: 29.2393 - val_mean_squared_error: 29.2393\n",
      "Epoch 172/250\n",
      "404/404 [==============================] - 0s 95us/sample - loss: 13.5572 - mean_squared_error: 13.5572 - val_loss: 30.2017 - val_mean_squared_error: 30.2017\n",
      "Epoch 173/250\n",
      "404/404 [==============================] - 0s 109us/sample - loss: 13.2285 - mean_squared_error: 13.2285 - val_loss: 30.6347 - val_mean_squared_error: 30.6347\n",
      "Epoch 174/250\n",
      "404/404 [==============================] - 0s 141us/sample - loss: 14.1152 - mean_squared_error: 14.1152 - val_loss: 30.6285 - val_mean_squared_error: 30.6285\n",
      "Epoch 175/250\n",
      "404/404 [==============================] - 0s 111us/sample - loss: 15.0330 - mean_squared_error: 15.0330 - val_loss: 27.7709 - val_mean_squared_error: 27.7709\n",
      "Epoch 176/250\n",
      "404/404 [==============================] - 0s 89us/sample - loss: 13.5927 - mean_squared_error: 13.5927 - val_loss: 28.0365 - val_mean_squared_error: 28.0365\n",
      "Epoch 177/250\n",
      "404/404 [==============================] - 0s 114us/sample - loss: 13.1172 - mean_squared_error: 13.1172 - val_loss: 30.4482 - val_mean_squared_error: 30.4482\n",
      "Epoch 178/250\n",
      "404/404 [==============================] - 0s 104us/sample - loss: 13.8698 - mean_squared_error: 13.8698 - val_loss: 28.8948 - val_mean_squared_error: 28.8948\n",
      "Epoch 179/250\n",
      "404/404 [==============================] - 0s 81us/sample - loss: 13.2739 - mean_squared_error: 13.2739 - val_loss: 28.7542 - val_mean_squared_error: 28.7542\n",
      "Epoch 180/250\n",
      "404/404 [==============================] - 0s 101us/sample - loss: 13.0331 - mean_squared_error: 13.0331 - val_loss: 30.7022 - val_mean_squared_error: 30.7022\n",
      "Epoch 181/250\n",
      "404/404 [==============================] - 0s 89us/sample - loss: 14.1071 - mean_squared_error: 14.1071 - val_loss: 29.7697 - val_mean_squared_error: 29.7697\n",
      "Epoch 182/250\n",
      "404/404 [==============================] - 0s 133us/sample - loss: 13.7707 - mean_squared_error: 13.7707 - val_loss: 28.7308 - val_mean_squared_error: 28.7308\n",
      "Epoch 183/250\n",
      "404/404 [==============================] - 0s 104us/sample - loss: 13.5311 - mean_squared_error: 13.5311 - val_loss: 30.4028 - val_mean_squared_error: 30.4028\n",
      "Epoch 184/250\n",
      "404/404 [==============================] - 0s 104us/sample - loss: 13.3093 - mean_squared_error: 13.3093 - val_loss: 30.3310 - val_mean_squared_error: 30.3310\n",
      "Epoch 185/250\n",
      "404/404 [==============================] - 0s 89us/sample - loss: 14.3289 - mean_squared_error: 14.3289 - val_loss: 36.0176 - val_mean_squared_error: 36.0176\n",
      "Epoch 186/250\n",
      "404/404 [==============================] - 0s 116us/sample - loss: 15.2177 - mean_squared_error: 15.2177 - val_loss: 29.2728 - val_mean_squared_error: 29.2728\n",
      "Epoch 187/250\n",
      "404/404 [==============================] - 0s 84us/sample - loss: 15.2048 - mean_squared_error: 15.2048 - val_loss: 31.7234 - val_mean_squared_error: 31.7234\n",
      "Epoch 188/250\n",
      "404/404 [==============================] - 0s 99us/sample - loss: 15.1007 - mean_squared_error: 15.1007 - val_loss: 28.8490 - val_mean_squared_error: 28.8490\n",
      "Epoch 189/250\n",
      "404/404 [==============================] - 0s 91us/sample - loss: 15.3394 - mean_squared_error: 15.3394 - val_loss: 31.4296 - val_mean_squared_error: 31.4296\n",
      "Epoch 190/250\n",
      "404/404 [==============================] - 0s 84us/sample - loss: 13.0369 - mean_squared_error: 13.0369 - val_loss: 29.1649 - val_mean_squared_error: 29.1649\n",
      "Epoch 191/250\n",
      "404/404 [==============================] - 0s 91us/sample - loss: 14.6121 - mean_squared_error: 14.6121 - val_loss: 33.5060 - val_mean_squared_error: 33.5060\n",
      "Epoch 192/250\n",
      "404/404 [==============================] - 0s 91us/sample - loss: 14.8465 - mean_squared_error: 14.8465 - val_loss: 27.8107 - val_mean_squared_error: 27.8107\n",
      "Epoch 193/250\n",
      "404/404 [==============================] - 0s 91us/sample - loss: 12.9781 - mean_squared_error: 12.9781 - val_loss: 34.8399 - val_mean_squared_error: 34.8399\n",
      "Epoch 194/250\n",
      "404/404 [==============================] - 0s 82us/sample - loss: 14.9239 - mean_squared_error: 14.9239 - val_loss: 30.7219 - val_mean_squared_error: 30.7219\n",
      "Epoch 195/250\n",
      "404/404 [==============================] - 0s 89us/sample - loss: 13.8558 - mean_squared_error: 13.8558 - val_loss: 34.6479 - val_mean_squared_error: 34.6479\n",
      "Epoch 196/250\n",
      "404/404 [==============================] - 0s 84us/sample - loss: 15.8590 - mean_squared_error: 15.8590 - val_loss: 31.6036 - val_mean_squared_error: 31.6036\n",
      "Epoch 197/250\n",
      "404/404 [==============================] - 0s 79us/sample - loss: 14.3814 - mean_squared_error: 14.3814 - val_loss: 28.4728 - val_mean_squared_error: 28.4728\n",
      "Epoch 198/250\n",
      "404/404 [==============================] - 0s 96us/sample - loss: 12.3378 - mean_squared_error: 12.3378 - val_loss: 28.8187 - val_mean_squared_error: 28.8187\n",
      "Epoch 199/250\n",
      "404/404 [==============================] - 0s 104us/sample - loss: 12.5195 - mean_squared_error: 12.5195 - val_loss: 30.1912 - val_mean_squared_error: 30.1912\n",
      "Epoch 200/250\n",
      "404/404 [==============================] - 0s 86us/sample - loss: 13.7968 - mean_squared_error: 13.7968 - val_loss: 30.3192 - val_mean_squared_error: 30.3192\n",
      "Epoch 201/250\n",
      "404/404 [==============================] - 0s 111us/sample - loss: 14.4333 - mean_squared_error: 14.4333 - val_loss: 28.9559 - val_mean_squared_error: 28.9559\n",
      "Epoch 202/250\n",
      "404/404 [==============================] - 0s 89us/sample - loss: 13.7619 - mean_squared_error: 13.7619 - val_loss: 30.1601 - val_mean_squared_error: 30.1601\n",
      "Epoch 203/250\n",
      "404/404 [==============================] - 0s 87us/sample - loss: 14.0553 - mean_squared_error: 14.0553 - val_loss: 28.4449 - val_mean_squared_error: 28.4449\n",
      "Epoch 204/250\n",
      "404/404 [==============================] - 0s 91us/sample - loss: 14.2869 - mean_squared_error: 14.2869 - val_loss: 30.3551 - val_mean_squared_error: 30.3551\n",
      "Epoch 205/250\n",
      "404/404 [==============================] - 0s 103us/sample - loss: 12.5029 - mean_squared_error: 12.5029 - val_loss: 27.8985 - val_mean_squared_error: 27.8985\n",
      "Epoch 206/250\n",
      "404/404 [==============================] - 0s 106us/sample - loss: 12.2652 - mean_squared_error: 12.2652 - val_loss: 30.6215 - val_mean_squared_error: 30.6215\n",
      "Epoch 207/250\n",
      "404/404 [==============================] - 0s 104us/sample - loss: 15.2748 - mean_squared_error: 15.2748 - val_loss: 31.9463 - val_mean_squared_error: 31.9463\n",
      "Epoch 208/250\n",
      "404/404 [==============================] - 0s 106us/sample - loss: 14.8946 - mean_squared_error: 14.8946 - val_loss: 27.7688 - val_mean_squared_error: 27.7688\n",
      "Epoch 209/250\n",
      "404/404 [==============================] - 0s 86us/sample - loss: 11.8869 - mean_squared_error: 11.8869 - val_loss: 28.1117 - val_mean_squared_error: 28.1117\n",
      "Epoch 210/250\n",
      "404/404 [==============================] - 0s 79us/sample - loss: 13.2121 - mean_squared_error: 13.2121 - val_loss: 31.9042 - val_mean_squared_error: 31.9042\n",
      "Epoch 211/250\n",
      "404/404 [==============================] - 0s 104us/sample - loss: 12.2006 - mean_squared_error: 12.2006 - val_loss: 28.3155 - val_mean_squared_error: 28.3155\n",
      "Epoch 212/250\n",
      "404/404 [==============================] - 0s 99us/sample - loss: 14.8324 - mean_squared_error: 14.8324 - val_loss: 32.9717 - val_mean_squared_error: 32.9717\n",
      "Epoch 213/250\n",
      "404/404 [==============================] - 0s 121us/sample - loss: 12.7119 - mean_squared_error: 12.7119 - val_loss: 29.5429 - val_mean_squared_error: 29.5429\n",
      "Epoch 214/250\n",
      "404/404 [==============================] - 0s 81us/sample - loss: 12.4402 - mean_squared_error: 12.4402 - val_loss: 28.8428 - val_mean_squared_error: 28.8428\n",
      "Epoch 215/250\n",
      "404/404 [==============================] - 0s 67us/sample - loss: 12.2562 - mean_squared_error: 12.2562 - val_loss: 31.2391 - val_mean_squared_error: 31.2391\n",
      "Epoch 216/250\n",
      "404/404 [==============================] - 0s 96us/sample - loss: 11.8863 - mean_squared_error: 11.8863 - val_loss: 28.9169 - val_mean_squared_error: 28.9169\n",
      "Epoch 217/250\n",
      "404/404 [==============================] - 0s 101us/sample - loss: 11.6767 - mean_squared_error: 11.6767 - val_loss: 28.8263 - val_mean_squared_error: 28.8263\n",
      "Epoch 218/250\n",
      "404/404 [==============================] - 0s 84us/sample - loss: 12.2128 - mean_squared_error: 12.2128 - val_loss: 28.7043 - val_mean_squared_error: 28.7043\n",
      "Epoch 219/250\n",
      "404/404 [==============================] - 0s 91us/sample - loss: 11.9176 - mean_squared_error: 11.9176 - val_loss: 28.7858 - val_mean_squared_error: 28.7858\n",
      "Epoch 220/250\n",
      "404/404 [==============================] - 0s 59us/sample - loss: 12.2619 - mean_squared_error: 12.2619 - val_loss: 31.7799 - val_mean_squared_error: 31.7799\n",
      "Epoch 221/250\n",
      "404/404 [==============================] - 0s 99us/sample - loss: 12.5698 - mean_squared_error: 12.5698 - val_loss: 28.1327 - val_mean_squared_error: 28.1327\n",
      "Epoch 222/250\n",
      "404/404 [==============================] - 0s 151us/sample - loss: 12.6174 - mean_squared_error: 12.6174 - val_loss: 30.6760 - val_mean_squared_error: 30.6760\n",
      "Epoch 223/250\n",
      "404/404 [==============================] - 0s 99us/sample - loss: 11.7381 - mean_squared_error: 11.7381 - val_loss: 31.6780 - val_mean_squared_error: 31.6780\n",
      "Epoch 224/250\n",
      "404/404 [==============================] - 0s 109us/sample - loss: 13.4948 - mean_squared_error: 13.4948 - val_loss: 30.2180 - val_mean_squared_error: 30.2180\n",
      "Epoch 225/250\n",
      "404/404 [==============================] - 0s 96us/sample - loss: 13.0817 - mean_squared_error: 13.0817 - val_loss: 28.7616 - val_mean_squared_error: 28.7616\n",
      "Epoch 226/250\n",
      "404/404 [==============================] - 0s 113us/sample - loss: 11.8195 - mean_squared_error: 11.8195 - val_loss: 28.6909 - val_mean_squared_error: 28.6909\n",
      "Epoch 227/250\n",
      "404/404 [==============================] - 0s 94us/sample - loss: 11.1681 - mean_squared_error: 11.1681 - val_loss: 30.3410 - val_mean_squared_error: 30.3410\n",
      "Epoch 228/250\n",
      "404/404 [==============================] - 0s 77us/sample - loss: 11.6486 - mean_squared_error: 11.6486 - val_loss: 30.2469 - val_mean_squared_error: 30.2469\n",
      "Epoch 229/250\n",
      "404/404 [==============================] - 0s 89us/sample - loss: 13.7378 - mean_squared_error: 13.7378 - val_loss: 32.6700 - val_mean_squared_error: 32.6700\n",
      "Epoch 230/250\n",
      "404/404 [==============================] - 0s 96us/sample - loss: 13.8609 - mean_squared_error: 13.8609 - val_loss: 28.7634 - val_mean_squared_error: 28.7634\n",
      "Epoch 231/250\n",
      "404/404 [==============================] - 0s 88us/sample - loss: 13.0060 - mean_squared_error: 13.0060 - val_loss: 31.6300 - val_mean_squared_error: 31.6300\n",
      "Epoch 232/250\n",
      "404/404 [==============================] - 0s 116us/sample - loss: 13.0841 - mean_squared_error: 13.0841 - val_loss: 30.5381 - val_mean_squared_error: 30.5381\n",
      "Epoch 233/250\n",
      "404/404 [==============================] - 0s 84us/sample - loss: 13.1439 - mean_squared_error: 13.1439 - val_loss: 29.1543 - val_mean_squared_error: 29.1543\n",
      "Epoch 234/250\n",
      "404/404 [==============================] - 0s 79us/sample - loss: 13.0968 - mean_squared_error: 13.0968 - val_loss: 27.6552 - val_mean_squared_error: 27.6552\n",
      "Epoch 235/250\n",
      "404/404 [==============================] - 0s 109us/sample - loss: 12.0018 - mean_squared_error: 12.0018 - val_loss: 30.2907 - val_mean_squared_error: 30.2907\n",
      "Epoch 236/250\n",
      "404/404 [==============================] - 0s 99us/sample - loss: 13.0028 - mean_squared_error: 13.0028 - val_loss: 30.0087 - val_mean_squared_error: 30.0087\n",
      "Epoch 237/250\n",
      "404/404 [==============================] - 0s 101us/sample - loss: 11.9762 - mean_squared_error: 11.9762 - val_loss: 27.7045 - val_mean_squared_error: 27.7045\n",
      "Epoch 238/250\n",
      "404/404 [==============================] - 0s 79us/sample - loss: 11.8242 - mean_squared_error: 11.8242 - val_loss: 27.3003 - val_mean_squared_error: 27.3003\n",
      "Epoch 239/250\n",
      "404/404 [==============================] - 0s 96us/sample - loss: 13.2167 - mean_squared_error: 13.2167 - val_loss: 29.0929 - val_mean_squared_error: 29.0929\n",
      "Epoch 240/250\n",
      "404/404 [==============================] - 0s 96us/sample - loss: 15.1739 - mean_squared_error: 15.1739 - val_loss: 35.3096 - val_mean_squared_error: 35.3096\n",
      "Epoch 241/250\n",
      "404/404 [==============================] - 0s 138us/sample - loss: 14.3709 - mean_squared_error: 14.3709 - val_loss: 28.0329 - val_mean_squared_error: 28.0329\n",
      "Epoch 242/250\n",
      "404/404 [==============================] - 0s 86us/sample - loss: 12.3702 - mean_squared_error: 12.3702 - val_loss: 28.1764 - val_mean_squared_error: 28.1764\n",
      "Epoch 243/250\n",
      "404/404 [==============================] - 0s 90us/sample - loss: 12.0720 - mean_squared_error: 12.0720 - val_loss: 30.0791 - val_mean_squared_error: 30.0791\n",
      "Epoch 244/250\n",
      "404/404 [==============================] - 0s 84us/sample - loss: 12.8681 - mean_squared_error: 12.8681 - val_loss: 28.4624 - val_mean_squared_error: 28.4624\n",
      "Epoch 245/250\n",
      "404/404 [==============================] - 0s 91us/sample - loss: 14.2205 - mean_squared_error: 14.2205 - val_loss: 34.1560 - val_mean_squared_error: 34.1560\n",
      "Epoch 246/250\n",
      "404/404 [==============================] - 0s 82us/sample - loss: 14.1636 - mean_squared_error: 14.1636 - val_loss: 29.8674 - val_mean_squared_error: 29.8674\n",
      "Epoch 247/250\n",
      "404/404 [==============================] - 0s 89us/sample - loss: 13.6346 - mean_squared_error: 13.6346 - val_loss: 27.5441 - val_mean_squared_error: 27.5441\n",
      "Epoch 248/250\n",
      "404/404 [==============================] - 0s 91us/sample - loss: 11.5595 - mean_squared_error: 11.5595 - val_loss: 27.4958 - val_mean_squared_error: 27.4958\n",
      "Epoch 249/250\n",
      "404/404 [==============================] - 0s 111us/sample - loss: 12.8645 - mean_squared_error: 12.8645 - val_loss: 31.7956 - val_mean_squared_error: 31.7956\n",
      "Epoch 250/250\n",
      "404/404 [==============================] - 0s 86us/sample - loss: 12.8515 - mean_squared_error: 12.8515 - val_loss: 28.2538 - val_mean_squared_error: 28.2538\n",
      "102/102 [==============================] - 0s 69us/sample - loss: 28.2538 - mean_squared_error: 28.2538\n",
      "mean_squared_error: 2825.375747680664\n"
     ]
    }
   ],
   "source": [
    "history = model.fit(X_train, y_train, batch_size=32, epochs=250, validation_data=(X_test, y_test))\n",
    "scores = model.evaluate(X_test, y_test)\n",
    "print(f'{model.metrics_names[1]}: {scores[1]*100}')"
   ]
  },
  {
   "cell_type": "code",
   "execution_count": 162,
   "metadata": {},
   "outputs": [
    {
     "name": "stdout",
     "output_type": "stream",
     "text": [
      "102/102 [==============================] - 0s 323us/sample - loss: 58.9425 - mean_absolute_error: 5.8551\n"
     ]
    },
    {
     "data": {
      "text/plain": [
       "[58.94245132745481, 5.855076]"
      ]
     },
     "execution_count": 162,
     "metadata": {},
     "output_type": "execute_result"
    }
   ],
   "source": [
    "model.evaluate(X_test, y_test)"
   ]
  },
  {
   "cell_type": "code",
   "execution_count": 175,
   "metadata": {},
   "outputs": [
    {
     "data": {
      "text/plain": [
       "array([[10.266075],\n",
       "       [19.99579 ],\n",
       "       [23.501333],\n",
       "       [20.617815],\n",
       "       [26.58225 ],\n",
       "       [19.82672 ],\n",
       "       [27.322773],\n",
       "       [26.391207],\n",
       "       [24.073795],\n",
       "       [19.549234],\n",
       "       [10.625614],\n",
       "       [23.28123 ],\n",
       "       [20.043257],\n",
       "       [25.22055 ],\n",
       "       [18.21826 ],\n",
       "       [24.062431],\n",
       "       [22.285292],\n",
       "       [18.055967],\n",
       "       [19.424314],\n",
       "       [20.85766 ],\n",
       "       [15.419973],\n",
       "       [12.124071],\n",
       "       [22.480616],\n",
       "       [22.095377],\n",
       "       [28.618475],\n",
       "       [20.677221],\n",
       "       [23.833483],\n",
       "       [42.364902],\n",
       "       [12.317089],\n",
       "       [23.135923],\n",
       "       [20.578154],\n",
       "       [13.608746],\n",
       "       [29.99462 ],\n",
       "       [21.58353 ],\n",
       "       [18.981829],\n",
       "       [13.355734],\n",
       "       [15.738132],\n",
       "       [11.921438],\n",
       "       [20.07689 ],\n",
       "       [31.707346],\n",
       "       [30.351286],\n",
       "       [21.630232],\n",
       "       [18.576807],\n",
       "       [22.864367],\n",
       "       [31.632807],\n",
       "       [24.104988],\n",
       "       [33.396343],\n",
       "       [22.047277],\n",
       "       [21.188242],\n",
       "       [23.687622],\n",
       "       [37.595024],\n",
       "       [22.256166],\n",
       "       [15.745577],\n",
       "       [22.59091 ],\n",
       "       [26.92876 ],\n",
       "       [26.913431],\n",
       "       [17.768698],\n",
       "       [26.84043 ],\n",
       "       [30.772453],\n",
       "       [28.576273],\n",
       "       [20.11431 ],\n",
       "       [18.842813],\n",
       "       [15.530594],\n",
       "       [20.875347],\n",
       "       [24.933588],\n",
       "       [29.65    ],\n",
       "       [16.95614 ],\n",
       "       [28.583458],\n",
       "       [13.548708],\n",
       "       [15.465879],\n",
       "       [20.341192],\n",
       "       [25.302458],\n",
       "       [20.353403],\n",
       "       [15.861898],\n",
       "       [23.811026],\n",
       "       [24.032375],\n",
       "       [23.177864],\n",
       "       [22.764664],\n",
       "       [28.210642],\n",
       "       [13.721674],\n",
       "       [21.554382],\n",
       "       [28.683714],\n",
       "       [23.319475],\n",
       "       [18.217958],\n",
       "       [23.676476],\n",
       "       [23.160141],\n",
       "       [19.872099],\n",
       "       [25.039608],\n",
       "       [25.527819],\n",
       "       [22.253233],\n",
       "       [26.231483],\n",
       "       [26.156088],\n",
       "       [25.078516],\n",
       "       [26.161425],\n",
       "       [27.618612],\n",
       "       [19.885635],\n",
       "       [28.748247],\n",
       "       [22.6849  ],\n",
       "       [21.710276],\n",
       "       [25.92255 ],\n",
       "       [24.618801],\n",
       "       [12.760586]], dtype=float32)"
      ]
     },
     "execution_count": 175,
     "metadata": {},
     "output_type": "execute_result"
    }
   ],
   "source": [
    "model.predict(X_test)"
   ]
  },
  {
   "cell_type": "code",
   "execution_count": null,
   "metadata": {},
   "outputs": [],
   "source": [
    "y_train"
   ]
  },
  {
   "cell_type": "markdown",
   "metadata": {
    "colab_type": "text",
    "id": "SfcFnOONyuNm"
   },
   "source": [
    "## Use the Keras Library to build an image recognition network using the Fashion-MNIST dataset (also comes with keras)\n",
    "\n",
    "- Load and preprocess the image data similar to how we preprocessed the MNIST data in class.\n",
    "- Make sure to one-hot encode your category labels\n",
    "- Make sure to have your final layer have as many nodes as the number of classes that you want to predict.\n",
    "- Try different hyperparameters. What is the highest accuracy that you are able to achieve.\n",
    "- Use the history object that is returned from model.fit to make graphs of the model's loss or train/validation accuracies by epoch. \n",
    "- Remember that neural networks fall prey to randomness so you may need to run your model multiple times (or use Cross Validation) in order to tell if a change to a hyperparameter is truly producing better results."
   ]
  },
  {
   "cell_type": "code",
   "execution_count": 200,
   "metadata": {
    "colab": {},
    "colab_type": "code",
    "id": "szi6-IpuzaH1"
   },
   "outputs": [
    {
     "name": "stdout",
     "output_type": "stream",
     "text": [
      "Model: \"sequential_56\"\n",
      "_________________________________________________________________\n",
      "Layer (type)                 Output Shape              Param #   \n",
      "=================================================================\n",
      "dense_168 (Dense)            (None, 16)                12560     \n",
      "_________________________________________________________________\n",
      "dense_169 (Dense)            (None, 16)                272       \n",
      "_________________________________________________________________\n",
      "dense_170 (Dense)            (None, 10)                170       \n",
      "=================================================================\n",
      "Total params: 13,002\n",
      "Trainable params: 13,002\n",
      "Non-trainable params: 0\n",
      "_________________________________________________________________\n"
     ]
    }
   ],
   "source": [
    "### Let's do it!\n",
    "from tensorflow import keras \n",
    "from tensorflow.keras.datasets import mnist\n",
    "from tensorflow.keras.models import Sequential\n",
    "from tensorflow.keras.layers import Dense, Dropout\n",
    "\n",
    "import numpy as np\n",
    "\n",
    "mnist_model = Sequential()\n",
    "batch_size = 64\n",
    "num_class = 10\n",
    "epochs = 150\n",
    "\n",
    "(X_train, y_train), (X_test, y_test) = mnist.load_data()\n",
    "X_train = X_train.reshape(60000, 784)\n",
    "X_test = X_test.reshape(10000, 784)\n",
    "X_train = X_train.astype('float32')\n",
    "X_test = X_test.astype('float32')\n",
    "y_train = keras.utils.to_categorical(y_train, num_class)\n",
    "y_test = keras.utils.to_categorical(y_test, num_class)\n",
    "# Hidden\n",
    "mnist_model.add(Dense(16, input_dim=784, activation='relu'))\n",
    "mnist_model.add(Dense(16, activation='relu'))\n",
    "# Output Layer\n",
    "mnist_model.add(Dense(10, activation='softmax'))\n",
    "\n",
    "mnist_model.compile(loss='categorical_crossentropy',\n",
    "                    optimizer='adam', \n",
    "                    metrics=['accuracy'])\n",
    "mnist_model.summary()"
   ]
  },
  {
   "cell_type": "code",
   "execution_count": 201,
   "metadata": {},
   "outputs": [
    {
     "name": "stdout",
     "output_type": "stream",
     "text": [
      "Epoch 1/10\n",
      "60000/60000 [==============================] - 8s 128us/sample - loss: 2.1024 - acc: 0.3081\n",
      "Epoch 2/10\n",
      "60000/60000 [==============================] - 7s 120us/sample - loss: 1.3057 - acc: 0.5041\n",
      "Epoch 3/10\n",
      "60000/60000 [==============================] - 7s 120us/sample - loss: 1.0891 - acc: 0.5929\n",
      "Epoch 4/10\n",
      "60000/60000 [==============================] - 7s 114us/sample - loss: 0.9831 - acc: 0.6408\n",
      "Epoch 5/10\n",
      "60000/60000 [==============================] - 7s 124us/sample - loss: 0.9040 - acc: 0.6861\n",
      "Epoch 6/10\n",
      "60000/60000 [==============================] - 7s 113us/sample - loss: 0.8416 - acc: 0.7114\n",
      "Epoch 7/10\n",
      "60000/60000 [==============================] - 7s 120us/sample - loss: 0.6663 - acc: 0.8131\n",
      "Epoch 8/10\n",
      "60000/60000 [==============================] - 7s 115us/sample - loss: 0.5553 - acc: 0.8487\n",
      "Epoch 9/10\n",
      "60000/60000 [==============================] - 7s 114us/sample - loss: 0.5093 - acc: 0.8625\n",
      "Epoch 10/10\n",
      "60000/60000 [==============================] - 8s 131us/sample - loss: 0.4919 - acc: 0.8688\n",
      "10000/10000 [==============================] - 1s 100us/sample - loss: 0.4522 - acc: 0.8821\n",
      "acc: 88.2099986076355\n"
     ]
    }
   ],
   "source": [
    "history = mnist_model.fit(X_train, y_train, batch_size=32, epochs=10)\n",
    "scores = mnist_model.evaluate(X_test, y_test)\n",
    "print(f'{mnist_model.metrics_names[1]}: {scores[1]*100}')"
   ]
  },
  {
   "cell_type": "code",
   "execution_count": 59,
   "metadata": {},
   "outputs": [
    {
     "data": {
      "text/plain": [
       "[0.4055367617368698, 0.8934]"
      ]
     },
     "execution_count": 59,
     "metadata": {},
     "output_type": "execute_result"
    }
   ],
   "source": [
    "scores"
   ]
  },
  {
   "cell_type": "code",
   "execution_count": 19,
   "metadata": {},
   "outputs": [
    {
     "data": {
      "image/png": "[encoded data removed]",
      "text/plain": [
       "<Figure size 432x288 with 1 Axes>"
      ]
     },
     "metadata": {
      "needs_background": "light"
     },
     "output_type": "display_data"
    }
   ],
   "source": [
    "import matplotlib.pyplot as plt\n",
    "plt.plot(history.history['acc'])\n",
    "plt.plot(history.history['val_acc'])\n",
    "plt.title('Model accuracy')\n",
    "plt.ylabel('Accuracy')\n",
    "plt.xlabel('Epoch')\n",
    "plt.legend(['Train', 'Test'], loc='upper left')\n",
    "plt.show()"
   ]
  },
  {
   "cell_type": "code",
   "execution_count": 22,
   "metadata": {},
   "outputs": [
    {
     "data": {
      "image/png": "[encoded data removed]",
      "text/plain": [
       "<Figure size 432x288 with 1 Axes>"
      ]
     },
     "metadata": {
      "needs_background": "light"
     },
     "output_type": "display_data"
    }
   ],
   "source": [
    "plt.plot(history.history['loss'])\n",
    "plt.plot(history.history['val_loss'])\n",
    "plt.title('Model loss')\n",
    "plt.ylabel('Loss')\n",
    "plt.xlabel('Epoch')\n",
    "plt.legend(['Train', 'Test'], loc='upper left')\n",
    "plt.show()"
   ]
  },
  {
   "cell_type": "code",
   "execution_count": 84,
   "metadata": {},
   "outputs": [
    {
     "name": "stdout",
     "output_type": "stream",
     "text": [
      "<tensorflow.python.keras.engine.sequential.Sequential object at 0x00000190A1FBC710>\n",
      "<tensorflow.python.keras.engine.sequential.Sequential object at 0x00000190A1FBC710>\n",
      "<tensorflow.python.keras.engine.sequential.Sequential object at 0x00000190A1FBC710>\n",
      "10000/10000 [==============================] - 0s 32us/sample - loss: 0.6520 - acc: 0.7934\n",
      "10000/10000 [==============================] - 0s 26us/sample - loss: 0.6520 - acc: 0.7934\n",
      "[0.6520065719127655, 0.7934]\n",
      "<tensorflow.python.keras.engine.sequential.Sequential object at 0x00000190A24C0E10>\n",
      "<tensorflow.python.keras.engine.sequential.Sequential object at 0x00000190A24C0E10>\n",
      "<tensorflow.python.keras.engine.sequential.Sequential object at 0x00000190A24C0E10>\n",
      "10000/10000 [==============================] - 0s 30us/sample - loss: 0.5997 - acc: 0.8003\n",
      "10000/10000 [==============================] - 0s 24us/sample - loss: 0.5997 - acc: 0.8003\n",
      "[0.5996944411277771, 0.8003]\n",
      "<tensorflow.python.keras.engine.sequential.Sequential object at 0x00000190A2708438>\n",
      "<tensorflow.python.keras.engine.sequential.Sequential object at 0x00000190A2708438>\n",
      "<tensorflow.python.keras.engine.sequential.Sequential object at 0x00000190A2708438>\n",
      "10000/10000 [==============================] - 0s 36us/sample - loss: 0.6688 - acc: 0.7941\n",
      "10000/10000 [==============================] - 0s 25us/sample - loss: 0.6688 - acc: 0.7941\n",
      "[0.6687782524108886, 0.7941]\n",
      "<tensorflow.python.keras.engine.sequential.Sequential object at 0x00000190A3BB4DA0>\n",
      "<tensorflow.python.keras.engine.sequential.Sequential object at 0x00000190A3BB4DA0>\n",
      "<tensorflow.python.keras.engine.sequential.Sequential object at 0x00000190A3BB4DA0>\n",
      "10000/10000 [==============================] - 0s 35us/sample - loss: 0.3756 - acc: 0.8971\n",
      "10000/10000 [==============================] - 0s 24us/sample - loss: 0.3756 - acc: 0.8971\n",
      "[0.3755904079258442, 0.8971]\n",
      "<tensorflow.python.keras.engine.sequential.Sequential object at 0x00000190A3F17E48>\n",
      "<tensorflow.python.keras.engine.sequential.Sequential object at 0x00000190A3F17E48>\n",
      "<tensorflow.python.keras.engine.sequential.Sequential object at 0x00000190A3F17E48>\n",
      "10000/10000 [==============================] - 0s 33us/sample - loss: 0.3873 - acc: 0.8918\n",
      "10000/10000 [==============================] - 0s 25us/sample - loss: 0.3873 - acc: 0.8918\n",
      "[0.38730874280929567, 0.8918]\n",
      "<tensorflow.python.keras.engine.sequential.Sequential object at 0x00000190A41C6AC8>\n",
      "<tensorflow.python.keras.engine.sequential.Sequential object at 0x00000190A41C6AC8>\n",
      "<tensorflow.python.keras.engine.sequential.Sequential object at 0x00000190A41C6AC8>\n",
      "10000/10000 [==============================] - 0s 32us/sample - loss: 0.7338 - acc: 0.7680\n",
      "10000/10000 [==============================] - 0s 22us/sample - loss: 0.7338 - acc: 0.7680\n",
      "[0.7337811107635498, 0.768]\n",
      "<tensorflow.python.keras.engine.sequential.Sequential object at 0x00000190A45F9F98>\n",
      "<tensorflow.python.keras.engine.sequential.Sequential object at 0x00000190A45F9F98>\n",
      "<tensorflow.python.keras.engine.sequential.Sequential object at 0x00000190A45F9F98>\n",
      "10000/10000 [==============================] - 0s 41us/sample - loss: 0.5953 - acc: 0.8234\n",
      "10000/10000 [==============================] - 0s 23us/sample - loss: 0.5953 - acc: 0.8234\n",
      "[0.5953382644414902, 0.8234]\n",
      "<tensorflow.python.keras.engine.sequential.Sequential object at 0x00000190A79E5F28>\n",
      "<tensorflow.python.keras.engine.sequential.Sequential object at 0x00000190A79E5F28>\n",
      "<tensorflow.python.keras.engine.sequential.Sequential object at 0x00000190A79E5F28>\n",
      "10000/10000 [==============================] - 0s 41us/sample - loss: 0.3687 - acc: 0.8963\n",
      "10000/10000 [==============================] - 0s 31us/sample - loss: 0.3687 - acc: 0.8963\n",
      "[0.3687231377542019, 0.8963]\n",
      "<tensorflow.python.keras.engine.sequential.Sequential object at 0x00000190A8CC4358>\n",
      "<tensorflow.python.keras.engine.sequential.Sequential object at 0x00000190A8CC4358>\n",
      "<tensorflow.python.keras.engine.sequential.Sequential object at 0x00000190A8CC4358>\n",
      "10000/10000 [==============================] - 0s 32us/sample - loss: 0.3771 - acc: 0.8992\n",
      "10000/10000 [==============================] - 0s 25us/sample - loss: 0.3771 - acc: 0.8992\n",
      "[0.37708127195239066, 0.8992]\n",
      "<tensorflow.python.keras.engine.sequential.Sequential object at 0x00000190AA1F2208>\n",
      "<tensorflow.python.keras.engine.sequential.Sequential object at 0x00000190AA1F2208>\n",
      "<tensorflow.python.keras.engine.sequential.Sequential object at 0x00000190AA1F2208>\n",
      "10000/10000 [==============================] - 0s 37us/sample - loss: 0.6400 - acc: 0.8033\n",
      "10000/10000 [==============================] - 0s 25us/sample - loss: 0.6400 - acc: 0.8033\n",
      "[0.6399739914417267, 0.8033]\n",
      "Estimated Accuracy 0.688 (0.181)\n"
     ]
    }
   ],
   "source": [
    "n_folds = 10\n",
    "cv_scores, model_history = list(), list()\n",
    "for _ in range(n_folds):\n",
    "    # split data\n",
    "    (X_train, y_train), (X_test, y_test) = mnist.load_data()\n",
    "    # evaluate model\n",
    "    \n",
    "    batch_size = 64\n",
    "    num_class = 10\n",
    "    epochs = 150\n",
    "\n",
    "    (X_train, y_train), (X_test, y_test) = mnist.load_data()\n",
    "    X_train = X_train.reshape(60000, 784)\n",
    "    X_test = X_test.reshape(10000, 784)\n",
    "    X_train = X_train.astype('float32')\n",
    "    X_test = X_test.astype('float32')\n",
    "    y_train = keras.utils.to_categorical(y_train, num_class)\n",
    "    y_test = keras.utils.to_categorical(y_test, num_class)\n",
    "    model = Sequential()\n",
    "    print(model)\n",
    "    model.add(Dense(16, input_dim=784, activation='relu'))\n",
    "    model.add(Dense(16, activation='relu'))\n",
    "    # Output Layer\n",
    "    model.add(Dense(10, activation='softmax'))\n",
    "    print(model)\n",
    "    model.compile(loss='categorical_crossentropy',\n",
    "                    optimizer='adam', \n",
    "                    metrics=['accuracy'])\n",
    "    print(model)\n",
    "    model.fit(X_train, y_train, batch_size=32, epochs=10, verbose=0)\n",
    "    test_acc = model.evaluate(X_test, y_test)\n",
    "    val_acc = model.evaluate(X_test, y_test)\n",
    "    print(val_acc)\n",
    "    cv_scores.append(val_acc)\n",
    "    model_history.append(model)\n",
    "    \n",
    "print('Estimated Accuracy %.3f (%.3f)' % (np.mean(cv_scores), np.std(cv_scores)))"
   ]
  },
  {
   "cell_type": "code",
   "execution_count": 94,
   "metadata": {},
   "outputs": [
    {
     "data": {
      "text/plain": [
       "[<matplotlib.lines.Line2D at 0x190acb5be80>,\n",
       " <matplotlib.lines.Line2D at 0x190acb5bfd0>]"
      ]
     },
     "execution_count": 94,
     "metadata": {},
     "output_type": "execute_result"
    },
    {
     "data": {
      "image/png": "[encoded data removed]",
      "text/plain": [
       "<Figure size 432x288 with 1 Axes>"
      ]
     },
     "metadata": {
      "needs_background": "light"
     },
     "output_type": "display_data"
    }
   ],
   "source": [
    "plt.plot(cv_scores)\n"
   ]
  },
  {
   "cell_type": "code",
   "execution_count": 54,
   "metadata": {},
   "outputs": [
    {
     "ename": "TypeError",
     "evalue": "'StratifiedKFold' object is not iterable",
     "output_type": "error",
     "traceback": [
      "\u001b[1;31m---------------------------------------------------------------------------\u001b[0m",
      "\u001b[1;31mTypeError\u001b[0m                                 Traceback (most recent call last)",
      "\u001b[1;32m<ipython-input-54-05d0fbd6df88>\u001b[0m in \u001b[0;36m<module>\u001b[1;34m\u001b[0m\n\u001b[0;32m     15\u001b[0m     \u001b[0mskf\u001b[0m \u001b[1;33m=\u001b[0m \u001b[0mStratifiedKFold\u001b[0m\u001b[1;33m(\u001b[0m\u001b[1;33m)\u001b[0m\u001b[1;33m\u001b[0m\u001b[1;33m\u001b[0m\u001b[0m\n\u001b[0;32m     16\u001b[0m \u001b[1;33m\u001b[0m\u001b[0m\n\u001b[1;32m---> 17\u001b[1;33m     \u001b[1;32mfor\u001b[0m \u001b[0mi\u001b[0m\u001b[1;33m,\u001b[0m \u001b[1;33m(\u001b[0m\u001b[0mtrain\u001b[0m\u001b[1;33m,\u001b[0m \u001b[0mtest\u001b[0m\u001b[1;33m)\u001b[0m \u001b[1;32min\u001b[0m \u001b[0menumerate\u001b[0m\u001b[1;33m(\u001b[0m\u001b[0mskf\u001b[0m\u001b[1;33m)\u001b[0m\u001b[1;33m:\u001b[0m\u001b[1;33m\u001b[0m\u001b[1;33m\u001b[0m\u001b[0m\n\u001b[0m\u001b[0;32m     18\u001b[0m             \u001b[0mprint\u001b[0m\u001b[1;33m(\u001b[0m\u001b[1;34m\"Running Fold\"\u001b[0m\u001b[1;33m,\u001b[0m \u001b[0mi\u001b[0m\u001b[1;33m+\u001b[0m\u001b[1;36m1\u001b[0m\u001b[1;33m,\u001b[0m \u001b[1;34m\"/\"\u001b[0m\u001b[1;33m,\u001b[0m \u001b[0mn_folds\u001b[0m\u001b[1;33m)\u001b[0m\u001b[1;33m\u001b[0m\u001b[1;33m\u001b[0m\u001b[0m\n\u001b[0;32m     19\u001b[0m             \u001b[0mmodel\u001b[0m \u001b[1;33m=\u001b[0m \u001b[1;32mNone\u001b[0m \u001b[1;31m# Clearing the NN.\u001b[0m\u001b[1;33m\u001b[0m\u001b[1;33m\u001b[0m\u001b[0m\n",
      "\u001b[1;31mTypeError\u001b[0m: 'StratifiedKFold' object is not iterable"
     ]
    }
   ],
   "source": [
    "from sklearn.cross_validation import StratifiedKFold\n",
    "\n",
    "def load_data():\n",
    "    # load your data using this function\n",
    "\n",
    "def create model():\n",
    "    # create your model using this function\n",
    "\n",
    "def train_and_evaluate__model(model, data[train], labels[train], data[test], labels[test)):\n",
    "    model.fit...\n",
    "    # fit and evaluate here.\n",
    "\n",
    "if __name__ == \"__main__\":\n",
    "    n_folds = 10\n",
    "    data, labels, header_info = load_data()\n",
    "    skf = StratifiedKFold(labels, n_folds=n_folds, shuffle=True)\n",
    "\n",
    "    for i, (train, test) in enumerate(skf):\n",
    "            print \"Running Fold\", i+1, \"/\", n_folds\n",
    "            model = None # Clearing the NN.\n",
    "            model = create_model()\n",
    "            train_and_evaluate_model(model, data[train], labels[train], data[test], labels[test))"
   ]
  },
  {
   "cell_type": "code",
   "execution_count": 24,
   "metadata": {},
   "outputs": [],
   "source": [
    "from sklearn.model_selection import StratifiedKFold\n"
   ]
  },
  {
   "cell_type": "markdown",
   "metadata": {
    "colab_type": "text",
    "id": "zv_3xNMjzdLI"
   },
   "source": [
    "## Stretch Goals:\n",
    "\n",
    "- Use Hyperparameter Tuning to make the accuracy of your models as high as possible. (error as low as possible)\n",
    "- Use Cross Validation techniques to get more consistent results with your model.\n",
    "- Use GridSearchCV to try different combinations of hyperparameters. \n",
    "- Start looking into other types of Keras layers for CNNs and RNNs maybe try and build a CNN model for fashion-MNIST to see how the results compare."
   ]
  }
 ],
 "metadata": {
  "colab": {
   "name": "LS_DS_433_Keras_Assignment.ipynb",
   "provenance": [],
   "version": "0.3.2"
  },
  "kernelspec": {
   "display_name": "Python [conda env:lambda-neural]",
   "language": "python",
   "name": "conda-env-lambda-neural-py"
  },
  "language_info": {
   "codemirror_mode": {
    "name": "ipython",
    "version": 3
   },
   "file_extension": ".py",
   "mimetype": "text/x-python",
   "name": "python",
   "nbconvert_exporter": "python",
   "pygments_lexer": "ipython3",
   "version": "3.7.3"
  }
 },
 "nbformat": 4,
 "nbformat_minor": 2
}
