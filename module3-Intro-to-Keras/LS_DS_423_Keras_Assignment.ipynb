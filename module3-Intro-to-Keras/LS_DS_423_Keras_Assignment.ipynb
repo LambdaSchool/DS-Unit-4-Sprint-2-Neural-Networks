{
 "cells": [
  {
   "cell_type": "markdown",
   "metadata": {
    "colab_type": "text",
    "id": "pBQsZEJmubLs"
   },
   "source": [
    "<img align=\"left\" src=\"https://lever-client-logos.s3.amazonaws.com/864372b1-534c-480e-acd5-9711f850815c-1524247202159.png\" width=200>\n",
    "<br></br>\n",
    "\n",
    "# Neural Network Framework (Keras)\n",
    "\n",
    "## *Data Science Unit 4 Sprint 2 Assignment 3*\n",
    "\n",
    "## Use the Keras Library to build a Multi-Layer Perceptron Model on the Boston Housing dataset\n",
    "\n",
    "- The Boston Housing dataset comes with the Keras library so use Keras to import it into your notebook. \n",
    "- Normalize the data (all features should have roughly the same scale)\n",
    "- Import the type of model and layers that you will need from Keras.\n",
    "- Instantiate a model object and use `model.add()` to add layers to your model\n",
    "- Since this is a regression model you will have a single output node in the final layer.\n",
    "- Use activation functions that are appropriate for this task\n",
    "- Compile your model\n",
    "- Fit your model and report its accuracy in terms of Mean Squared Error\n",
    "- Use the history object that is returned from model.fit to make graphs of the model's loss or train/validation accuracies by epoch. \n",
    "- Run this same data through a linear regression model. Which achieves higher accuracy?\n",
    "- Do a little bit of feature engineering and see how that affects your neural network model. (you will need to change your model to accept more inputs)\n",
    "- After feature engineering, which model sees a greater accuracy boost due to the new features?"
   ]
  },
  {
   "cell_type": "code",
   "execution_count": 10,
   "metadata": {
    "colab": {},
    "colab_type": "code",
    "id": "8NLTAR87uYJ-",
    "tags": [
     "outputPrepend"
    ]
   },
   "outputs": [],
   "source": [
    "##### Your Code Here #####\n",
    "from tensorflow.keras.models import Sequential\n",
    "from tensorflow.keras.layers import Dense\n",
    "from tensorflow.keras.datasets import boston_housing\n",
    "import numpy as np\n",
    "from tensorflow.keras.callbacks import EarlyStopping"
   ]
  },
  {
   "cell_type": "code",
   "execution_count": 32,
   "metadata": {},
   "outputs": [],
   "source": [
    "(x_train, y_train), (x_test, y_test) = boston_housing.load_data()"
   ]
  },
  {
   "cell_type": "code",
   "execution_count": 33,
   "metadata": {},
   "outputs": [
    {
     "name": "stdout",
     "output_type": "stream",
     "text": [
      "The shape of the x train is:  (404, 13)\n",
      "The shape of the y_train is: (404,)\n",
      "The shape of the x_test is : (102, 13)\n",
      "The shape of the y_test is: (102,)\n"
     ]
    }
   ],
   "source": [
    "print(f\"The shape of the x train is:  {x_train.shape}\")\n",
    "print(f\"The shape of the y_train is: {y_train.shape}\")\n",
    "print(f\"The shape of the x_test is : {x_test.shape}\")\n",
    "print(f\"The shape of the y_test is: {y_test.shape}\")\n",
    "# Will not need to flatten anything becuase it is only a two dimensional array"
   ]
  },
  {
   "cell_type": "code",
   "execution_count": 34,
   "metadata": {},
   "outputs": [
    {
     "data": {
      "text/plain": [
       "array([[  1.23247,   0.     ,   8.14   ,   0.     ,   0.538  ,   6.142  ,\n",
       "         91.7    ,   3.9769 ,   4.     , 307.     ,  21.     , 396.9    ,\n",
       "         18.72   ]])"
      ]
     },
     "execution_count": 34,
     "metadata": {},
     "output_type": "execute_result"
    }
   ],
   "source": [
    "# looking at the shape of one row of the data\n",
    "# and what is in it\n",
    "x_train[:1]"
   ]
  },
  {
   "cell_type": "code",
   "execution_count": 35,
   "metadata": {},
   "outputs": [
    {
     "data": {
      "text/plain": [
       "numpy.ndarray"
      ]
     },
     "execution_count": 35,
     "metadata": {},
     "output_type": "execute_result"
    }
   ],
   "source": [
    "type(x_train)"
   ]
  },
  {
   "cell_type": "code",
   "execution_count": 36,
   "metadata": {},
   "outputs": [],
   "source": [
    "# function that will do the normalization\n",
    "def normalization(num_array):\n",
    "     arr =  num_array/np.amax(num_array, axis=0)\n",
    "     return arr"
   ]
  },
  {
   "cell_type": "code",
   "execution_count": 37,
   "metadata": {},
   "outputs": [],
   "source": [
    "# Doing the normalization\n",
    "x_train_norm = normalization(x_train)\n",
    "x_test_norm = normalization(x_test)"
   ]
  },
  {
   "cell_type": "code",
   "execution_count": 38,
   "metadata": {},
   "outputs": [
    {
     "data": {
      "text/plain": [
       "array([  1.23247,   0.     ,   8.14   ,   0.     ,   0.538  ,   6.142  ,\n",
       "        91.7    ,   3.9769 ,   4.     , 307.     ,  21.     , 396.9    ,\n",
       "        18.72   ])"
      ]
     },
     "execution_count": 38,
     "metadata": {},
     "output_type": "execute_result"
    }
   ],
   "source": [
    "# Looking at the difference between the non normalized and the \n",
    "# normalized version\n",
    "x_train[0]"
   ]
  },
  {
   "cell_type": "code",
   "execution_count": 39,
   "metadata": {},
   "outputs": [
    {
     "data": {
      "text/plain": [
       "array([0.72205254, 0.        , 0.65248738, 0.        , 0.77956372,\n",
       "       0.73280182, 1.        , 0.15129675, 1.        , 0.93670886,\n",
       "       0.95283019, 0.06865709, 0.90809628])"
      ]
     },
     "execution_count": 39,
     "metadata": {},
     "output_type": "execute_result"
    }
   ],
   "source": [
    "x_test_norm[0]"
   ]
  },
  {
   "cell_type": "code",
   "execution_count": 40,
   "metadata": {},
   "outputs": [],
   "source": [
    "# Instanciating the model\n",
    "model = Sequential()"
   ]
  },
  {
   "cell_type": "code",
   "execution_count": 41,
   "metadata": {},
   "outputs": [],
   "source": [
    "# getting the callback function that I want to use\n",
    "the_callback = EarlyStopping(patience=1, monitor=\"loss\")"
   ]
  },
  {
   "cell_type": "code",
   "execution_count": 42,
   "metadata": {},
   "outputs": [],
   "source": [
    "# Builing the model\n",
    "# adding layers to the model\n",
    "model.add(Dense(64, input_shape=(13,), activation=\"relu\"))\n",
    "model.add(Dense(128, activation=\"relu\"))\n",
    "#model.add(Dense(128, activation=\"relu\"))\n",
    "#model.add(Dense(64, activation=\"relu\"))\n",
    "model.add(Dense(1, activation=\"linear\"))\n",
    "\n",
    "# Doing the compiliation of the model\n",
    "model.compile(optimizer=\"adam\", loss=\"mse\", metrics=['mse', \"mae\", ] )"
   ]
  },
  {
   "cell_type": "code",
   "execution_count": 43,
   "metadata": {},
   "outputs": [
    {
     "name": "stdout",
     "output_type": "stream",
     "text": [
      "Model: \"sequential_3\"\n",
      "_________________________________________________________________\n",
      "Layer (type)                 Output Shape              Param #   \n",
      "=================================================================\n",
      "dense_7 (Dense)              (None, 64)                896       \n",
      "_________________________________________________________________\n",
      "dense_8 (Dense)              (None, 128)               8320      \n",
      "_________________________________________________________________\n",
      "dense_9 (Dense)              (None, 1)                 129       \n",
      "=================================================================\n",
      "Total params: 9,345\n",
      "Trainable params: 9,345\n",
      "Non-trainable params: 0\n",
      "_________________________________________________________________\n"
     ]
    }
   ],
   "source": [
    "# looking at the summary of the model\n",
    "model.summary()"
   ]
  },
  {
   "cell_type": "code",
   "execution_count": 46,
   "metadata": {},
   "outputs": [
    {
     "name": "stdout",
     "output_type": "stream",
     "text": [
      "Train on 404 samples, validate on 102 samples\n",
      "Epoch 1/50\n",
      "404/404 [==============================] - 0s 99us/sample - loss: 39.2661 - mse: 39.2661 - mae: 4.3589 - val_loss: 44.1775 - val_mse: 44.1775 - val_mae: 4.6121\n",
      "Epoch 2/50\n",
      "404/404 [==============================] - 0s 87us/sample - loss: 38.3772 - mse: 38.3772 - mae: 4.2263 - val_loss: 42.6666 - val_mse: 42.6666 - val_mae: 4.5657\n",
      "Epoch 3/50\n",
      "404/404 [==============================] - 0s 99us/sample - loss: 37.5357 - mse: 37.5357 - mae: 4.1851 - val_loss: 42.5357 - val_mse: 42.5357 - val_mae: 4.5502\n",
      "Epoch 4/50\n",
      "404/404 [==============================] - 0s 84us/sample - loss: 36.8657 - mse: 36.8657 - mae: 4.3162 - val_loss: 41.3122 - val_mse: 41.3122 - val_mae: 4.5070\n",
      "Epoch 5/50\n",
      "404/404 [==============================] - 0s 79us/sample - loss: 36.4913 - mse: 36.4913 - mae: 4.0538 - val_loss: 41.4079 - val_mse: 41.4079 - val_mae: 4.5069\n",
      "Epoch 6/50\n",
      "404/404 [==============================] - 0s 92us/sample - loss: 34.8087 - mse: 34.8087 - mae: 4.2258 - val_loss: 39.5570 - val_mse: 39.5570 - val_mae: 4.4272\n",
      "Epoch 7/50\n",
      "404/404 [==============================] - 0s 99us/sample - loss: 33.6766 - mse: 33.6766 - mae: 4.0015 - val_loss: 41.2610 - val_mse: 41.2610 - val_mae: 4.5420\n",
      "Epoch 8/50\n",
      "404/404 [==============================] - 0s 94us/sample - loss: 32.7614 - mse: 32.7614 - mae: 4.0118 - val_loss: 38.3197 - val_mse: 38.3197 - val_mae: 4.3857\n",
      "Epoch 9/50\n",
      "404/404 [==============================] - 0s 104us/sample - loss: 31.9091 - mse: 31.9091 - mae: 3.9506 - val_loss: 39.7091 - val_mse: 39.7091 - val_mae: 4.4738\n",
      "Epoch 10/50\n",
      "404/404 [==============================] - 0s 114us/sample - loss: 30.9345 - mse: 30.9345 - mae: 3.8909 - val_loss: 37.3896 - val_mse: 37.3896 - val_mae: 4.3553\n",
      "Epoch 11/50\n",
      "404/404 [==============================] - 0s 97us/sample - loss: 30.4731 - mse: 30.4731 - mae: 3.9691 - val_loss: 39.0123 - val_mse: 39.0123 - val_mae: 4.4885\n",
      "Epoch 12/50\n",
      "404/404 [==============================] - 0s 106us/sample - loss: 29.8510 - mse: 29.8510 - mae: 3.7958 - val_loss: 37.1329 - val_mse: 37.1329 - val_mae: 4.3795\n",
      "Epoch 13/50\n",
      "404/404 [==============================] - 0s 97us/sample - loss: 28.8081 - mse: 28.8081 - mae: 3.7807 - val_loss: 37.0655 - val_mse: 37.0655 - val_mae: 4.3847\n",
      "Epoch 14/50\n",
      "404/404 [==============================] - 0s 97us/sample - loss: 28.1589 - mse: 28.1589 - mae: 3.7232 - val_loss: 36.1589 - val_mse: 36.1589 - val_mae: 4.3310\n",
      "Epoch 15/50\n",
      "404/404 [==============================] - 0s 77us/sample - loss: 27.6191 - mse: 27.6191 - mae: 3.7962 - val_loss: 36.4973 - val_mse: 36.4973 - val_mae: 4.3583\n",
      "Epoch 16/50\n",
      "404/404 [==============================] - 0s 111us/sample - loss: 27.0964 - mse: 27.0964 - mae: 3.6330 - val_loss: 35.3483 - val_mse: 35.3483 - val_mae: 4.2836\n",
      "Epoch 17/50\n",
      "404/404 [==============================] - 0s 92us/sample - loss: 26.3854 - mse: 26.3854 - mae: 3.7009 - val_loss: 35.8822 - val_mse: 35.8822 - val_mae: 4.3512\n",
      "Epoch 18/50\n",
      "404/404 [==============================] - 0s 92us/sample - loss: 25.8818 - mse: 25.8818 - mae: 3.6296 - val_loss: 35.8580 - val_mse: 35.8580 - val_mae: 4.3620\n",
      "Epoch 19/50\n",
      "404/404 [==============================] - 0s 101us/sample - loss: 25.8825 - mse: 25.8825 - mae: 3.5412 - val_loss: 33.6661 - val_mse: 33.6661 - val_mae: 4.2013\n"
     ]
    },
    {
     "data": {
      "text/plain": [
       "<tensorflow.python.keras.callbacks.History at 0x2573d961080>"
      ]
     },
     "execution_count": 46,
     "metadata": {},
     "output_type": "execute_result"
    }
   ],
   "source": [
    "# Doing the fitting of the model\n",
    "model.fit(x=x_train_norm, y=y_train, epochs=50,  validation_data=(x_test_norm, y_test),\n",
    "callbacks=[the_callback]\n",
    ") "
   ]
  },
  {
   "cell_type": "markdown",
   "metadata": {
    "colab_type": "text",
    "id": "SfcFnOONyuNm"
   },
   "source": [
    "## Use the Keras Library to build an image recognition network using the Fashion-MNIST dataset (also comes with keras)\n",
    "\n",
    "- Load and preprocess the image data similar to how we preprocessed the MNIST data in class.\n",
    "- Make sure to one-hot encode your category labels\n",
    "- The number of nodes in your output layer should equal the number of classes you want to predict for Fashion-MNIST.\n",
    "- Try different hyperparameters. What is the highest accuracy that you are able to achieve.\n",
    "- Use the history object that is returned from model.fit to make graphs of the model's loss or train/validation accuracies by epoch. \n",
    "- Remember that neural networks fall prey to randomness so you may need to run your model multiple times (or use Cross Validation) in order to tell if a change to a hyperparameter is truly producing better results."
   ]
  },
  {
   "cell_type": "code",
   "execution_count": 2,
   "metadata": {
    "colab": {},
    "colab_type": "code",
    "id": "szi6-IpuzaH1"
   },
   "outputs": [],
   "source": [
    "# Doing the Fashion-Minst\n",
    "from tensorflow.keras.datasets import fashion_mnist\n",
    "from tensorflow.keras.layers import Flatten\n",
    "# Doing an import to show an image\n",
    "import matplotlib.pyplot as plt"
   ]
  },
  {
   "cell_type": "code",
   "execution_count": 3,
   "metadata": {},
   "outputs": [],
   "source": [
    "# Loading the data set \n",
    "(x_train, y_train), (x_test, y_test) =  fashion_mnist.load_data()"
   ]
  },
  {
   "cell_type": "code",
   "execution_count": 4,
   "metadata": {},
   "outputs": [
    {
     "name": "stdout",
     "output_type": "stream",
     "text": [
      "The shape of the x_train is:  (60000, 28, 28)\n",
      "The shape of the y_train is: (60000,)\n",
      "The shape of the x_test is: (10000, 28, 28)\n",
      "The shape of the y_test is: (10000,)\n"
     ]
    }
   ],
   "source": [
    "# Looking at the shapes of the data\n",
    "print(f\"The shape of the x_train is:  {x_train.shape}\")\n",
    "print(f\"The shape of the y_train is: {y_train.shape}\")\n",
    "print(f\"The shape of the x_test is: {x_test.shape}\")\n",
    "print(f\"The shape of the y_test is: {y_test.shape}\")"
   ]
  },
  {
   "cell_type": "code",
   "execution_count": 5,
   "metadata": {},
   "outputs": [
    {
     "data": {
      "text/plain": [
       "<matplotlib.image.AxesImage at 0x19f9dac2208>"
      ]
     },
     "execution_count": 5,
     "metadata": {},
     "output_type": "execute_result"
    },
    {
     "data": {
      "image/png": "[encoded data removed]",
      "text/plain": [
       "<Figure size 432x288 with 1 Axes>"
      ]
     },
     "metadata": {
      "needs_background": "light"
     },
     "output_type": "display_data"
    }
   ],
   "source": [
    "# Looking at the shoe, this is just one of the images\n",
    "plt.imshow(x_train[0])"
   ]
  },
  {
   "cell_type": "code",
   "execution_count": 6,
   "metadata": {},
   "outputs": [
    {
     "data": {
      "text/plain": [
       "array([[  0,   0,   0,   0,   0,   0,   0,   0,   0,   0,   0,   0,   0,\n",
       "          0,   0,   0,   0,   0,   0,   0,   0,   0,   0,   0,   0,   0,\n",
       "          0,   0],\n",
       "       [  0,   0,   0,   0,   0,   0,   0,   0,   0,   0,   0,   0,   0,\n",
       "          0,   0,   0,   0,   0,   0,   0,   0,   0,   0,   0,   0,   0,\n",
       "          0,   0],\n",
       "       [  0,   0,   0,   0,   0,   0,   0,   0,   0,   0,   0,   0,   0,\n",
       "          0,   0,   0,   0,   0,   0,   0,   0,   0,   0,   0,   0,   0,\n",
       "          0,   0],\n",
       "       [  0,   0,   0,   0,   0,   0,   0,   0,   0,   0,   0,   0,   1,\n",
       "          0,   0,  13,  73,   0,   0,   1,   4,   0,   0,   0,   0,   1,\n",
       "          1,   0],\n",
       "       [  0,   0,   0,   0,   0,   0,   0,   0,   0,   0,   0,   0,   3,\n",
       "          0,  36, 136, 127,  62,  54,   0,   0,   0,   1,   3,   4,   0,\n",
       "          0,   3],\n",
       "       [  0,   0,   0,   0,   0,   0,   0,   0,   0,   0,   0,   0,   6,\n",
       "          0, 102, 204, 176, 134, 144, 123,  23,   0,   0,   0,   0,  12,\n",
       "         10,   0],\n",
       "       [  0,   0,   0,   0,   0,   0,   0,   0,   0,   0,   0,   0,   0,\n",
       "          0, 155, 236, 207, 178, 107, 156, 161, 109,  64,  23,  77, 130,\n",
       "         72,  15],\n",
       "       [  0,   0,   0,   0,   0,   0,   0,   0,   0,   0,   0,   1,   0,\n",
       "         69, 207, 223, 218, 216, 216, 163, 127, 121, 122, 146, 141,  88,\n",
       "        172,  66],\n",
       "       [  0,   0,   0,   0,   0,   0,   0,   0,   0,   1,   1,   1,   0,\n",
       "        200, 232, 232, 233, 229, 223, 223, 215, 213, 164, 127, 123, 196,\n",
       "        229,   0],\n",
       "       [  0,   0,   0,   0,   0,   0,   0,   0,   0,   0,   0,   0,   0,\n",
       "        183, 225, 216, 223, 228, 235, 227, 224, 222, 224, 221, 223, 245,\n",
       "        173,   0],\n",
       "       [  0,   0,   0,   0,   0,   0,   0,   0,   0,   0,   0,   0,   0,\n",
       "        193, 228, 218, 213, 198, 180, 212, 210, 211, 213, 223, 220, 243,\n",
       "        202,   0],\n",
       "       [  0,   0,   0,   0,   0,   0,   0,   0,   0,   1,   3,   0,  12,\n",
       "        219, 220, 212, 218, 192, 169, 227, 208, 218, 224, 212, 226, 197,\n",
       "        209,  52],\n",
       "       [  0,   0,   0,   0,   0,   0,   0,   0,   0,   0,   6,   0,  99,\n",
       "        244, 222, 220, 218, 203, 198, 221, 215, 213, 222, 220, 245, 119,\n",
       "        167,  56],\n",
       "       [  0,   0,   0,   0,   0,   0,   0,   0,   0,   4,   0,   0,  55,\n",
       "        236, 228, 230, 228, 240, 232, 213, 218, 223, 234, 217, 217, 209,\n",
       "         92,   0],\n",
       "       [  0,   0,   1,   4,   6,   7,   2,   0,   0,   0,   0,   0, 237,\n",
       "        226, 217, 223, 222, 219, 222, 221, 216, 223, 229, 215, 218, 255,\n",
       "         77,   0],\n",
       "       [  0,   3,   0,   0,   0,   0,   0,   0,   0,  62, 145, 204, 228,\n",
       "        207, 213, 221, 218, 208, 211, 218, 224, 223, 219, 215, 224, 244,\n",
       "        159,   0],\n",
       "       [  0,   0,   0,   0,  18,  44,  82, 107, 189, 228, 220, 222, 217,\n",
       "        226, 200, 205, 211, 230, 224, 234, 176, 188, 250, 248, 233, 238,\n",
       "        215,   0],\n",
       "       [  0,  57, 187, 208, 224, 221, 224, 208, 204, 214, 208, 209, 200,\n",
       "        159, 245, 193, 206, 223, 255, 255, 221, 234, 221, 211, 220, 232,\n",
       "        246,   0],\n",
       "       [  3, 202, 228, 224, 221, 211, 211, 214, 205, 205, 205, 220, 240,\n",
       "         80, 150, 255, 229, 221, 188, 154, 191, 210, 204, 209, 222, 228,\n",
       "        225,   0],\n",
       "       [ 98, 233, 198, 210, 222, 229, 229, 234, 249, 220, 194, 215, 217,\n",
       "        241,  65,  73, 106, 117, 168, 219, 221, 215, 217, 223, 223, 224,\n",
       "        229,  29],\n",
       "       [ 75, 204, 212, 204, 193, 205, 211, 225, 216, 185, 197, 206, 198,\n",
       "        213, 240, 195, 227, 245, 239, 223, 218, 212, 209, 222, 220, 221,\n",
       "        230,  67],\n",
       "       [ 48, 203, 183, 194, 213, 197, 185, 190, 194, 192, 202, 214, 219,\n",
       "        221, 220, 236, 225, 216, 199, 206, 186, 181, 177, 172, 181, 205,\n",
       "        206, 115],\n",
       "       [  0, 122, 219, 193, 179, 171, 183, 196, 204, 210, 213, 207, 211,\n",
       "        210, 200, 196, 194, 191, 195, 191, 198, 192, 176, 156, 167, 177,\n",
       "        210,  92],\n",
       "       [  0,   0,  74, 189, 212, 191, 175, 172, 175, 181, 185, 188, 189,\n",
       "        188, 193, 198, 204, 209, 210, 210, 211, 188, 188, 194, 192, 216,\n",
       "        170,   0],\n",
       "       [  2,   0,   0,   0,  66, 200, 222, 237, 239, 242, 246, 243, 244,\n",
       "        221, 220, 193, 191, 179, 182, 182, 181, 176, 166, 168,  99,  58,\n",
       "          0,   0],\n",
       "       [  0,   0,   0,   0,   0,   0,   0,  40,  61,  44,  72,  41,  35,\n",
       "          0,   0,   0,   0,   0,   0,   0,   0,   0,   0,   0,   0,   0,\n",
       "          0,   0],\n",
       "       [  0,   0,   0,   0,   0,   0,   0,   0,   0,   0,   0,   0,   0,\n",
       "          0,   0,   0,   0,   0,   0,   0,   0,   0,   0,   0,   0,   0,\n",
       "          0,   0],\n",
       "       [  0,   0,   0,   0,   0,   0,   0,   0,   0,   0,   0,   0,   0,\n",
       "          0,   0,   0,   0,   0,   0,   0,   0,   0,   0,   0,   0,   0,\n",
       "          0,   0]], dtype=uint8)"
      ]
     },
     "execution_count": 6,
     "metadata": {},
     "output_type": "execute_result"
    }
   ],
   "source": [
    "# Looking at one the arrays\n",
    "x_train[0]"
   ]
  },
  {
   "cell_type": "code",
   "execution_count": 7,
   "metadata": {},
   "outputs": [],
   "source": [
    "# Function used to normalize the data\n",
    "def normalize_img(num_array):\n",
    "    arry = num_array/255\n",
    "    return arry"
   ]
  },
  {
   "cell_type": "code",
   "execution_count": 8,
   "metadata": {},
   "outputs": [
    {
     "name": "stdout",
     "output_type": "stream",
     "text": [
      "(60000, 28, 28) (10000, 28, 28)\n"
     ]
    }
   ],
   "source": [
    "x_train_norm = normalize_img(x_train)\n",
    "x_test_norm = normalize_img(x_test)\n",
    "print(x_train_norm.shape, x_test_norm.shape)"
   ]
  },
  {
   "cell_type": "code",
   "execution_count": null,
   "metadata": {},
   "outputs": [],
   "source": []
  },
  {
   "cell_type": "code",
   "execution_count": 11,
   "metadata": {},
   "outputs": [],
   "source": [
    "model = Sequential()"
   ]
  },
  {
   "cell_type": "code",
   "execution_count": 12,
   "metadata": {},
   "outputs": [],
   "source": [
    "# Creating a function that will create the model\n",
    "def create_model(input_shape = (28,28), flatten=False ):\n",
    "    model = Sequential()\n",
    "   \n",
    "    \n",
    "    \n",
    "    # if the flatten flage is set to true will flatten the array\n",
    "    if flatten == True:\n",
    "        model.add(Flatten(input_shape=input_shape))\n",
    "        input_shape = None\n",
    "    if input_shape != None:\n",
    "        model.add(Dense(128, input_shape=input_shape,  activation=\"relu\"))\n",
    "    else:\n",
    "        None\n",
    "        model.add(Dense(128, activation=\"relu\"))\n",
    "    #model.add(Dense(64, activation=\"relu\"))\n",
    "    model.add(Dense(10, activation=\"softmax\"))\n",
    "\n",
    "    model.compile(loss='sparse_categorical_crossentropy', optimizer='adam', metrics=['accuracy'])\n",
    "\n",
    "    return model\n",
    " "
   ]
  },
  {
   "cell_type": "code",
   "execution_count": 13,
   "metadata": {},
   "outputs": [],
   "source": [
    "import tensorflow as tf\n"
   ]
  },
  {
   "cell_type": "code",
   "execution_count": 14,
   "metadata": {},
   "outputs": [],
   "source": [
    "the_callback = tf.keras.callbacks.EarlyStopping(monitor=\"loss\", patience=2)"
   ]
  },
  {
   "cell_type": "code",
   "execution_count": 15,
   "metadata": {},
   "outputs": [],
   "source": [
    "# Creating the model\n",
    "model = create_model(flatten=True)"
   ]
  },
  {
   "cell_type": "code",
   "execution_count": 16,
   "metadata": {},
   "outputs": [
    {
     "name": "stdout",
     "output_type": "stream",
     "text": [
      "Model: \"sequential_1\"\n",
      "_________________________________________________________________\n",
      "Layer (type)                 Output Shape              Param #   \n",
      "=================================================================\n",
      "flatten (Flatten)            (None, 784)               0         \n",
      "_________________________________________________________________\n",
      "dense (Dense)                (None, 128)               100480    \n",
      "_________________________________________________________________\n",
      "dense_1 (Dense)              (None, 10)                1290      \n",
      "=================================================================\n",
      "Total params: 101,770\n",
      "Trainable params: 101,770\n",
      "Non-trainable params: 0\n",
      "_________________________________________________________________\n"
     ]
    }
   ],
   "source": [
    "model.summary()"
   ]
  },
  {
   "cell_type": "code",
   "execution_count": 17,
   "metadata": {},
   "outputs": [],
   "source": [
    "%load_ext tensorboard\n",
    "\n",
    "import os\n",
    "import datetime\n"
   ]
  },
  {
   "cell_type": "code",
   "execution_count": 18,
   "metadata": {},
   "outputs": [],
   "source": [
    "logdir = os.path.join(\"logs\", datetime.datetime.now().strftime(\"%Y%m%d-%H%M%S\"))\n",
    "tensorboard_callback = tf.keras.callbacks.TensorBoard(logdir, histogram_freq=1)"
   ]
  },
  {
   "cell_type": "code",
   "execution_count": 19,
   "metadata": {},
   "outputs": [
    {
     "name": "stdout",
     "output_type": "stream",
     "text": [
      "Train on 60000 samples, validate on 10000 samples\n",
      "Epoch 1/20\n",
      "60000/60000 [==============================] - 4s 74us/sample - loss: 0.5055 - accuracy: 0.8218 - val_loss: 0.4410 - val_accuracy: 0.8443\n",
      "Epoch 2/20\n",
      "60000/60000 [==============================] - 4s 59us/sample - loss: 0.3813 - accuracy: 0.8618 - val_loss: 0.3847 - val_accuracy: 0.8627\n",
      "Epoch 3/20\n",
      "60000/60000 [==============================] - 4s 60us/sample - loss: 0.3401 - accuracy: 0.8751 - val_loss: 0.3759 - val_accuracy: 0.8676\n",
      "Epoch 4/20\n",
      "60000/60000 [==============================] - 4s 62us/sample - loss: 0.3154 - accuracy: 0.8840 - val_loss: 0.3866 - val_accuracy: 0.8619\n",
      "Epoch 5/20\n",
      "60000/60000 [==============================] - 4s 62us/sample - loss: 0.2979 - accuracy: 0.8893 - val_loss: 0.3664 - val_accuracy: 0.8690\n",
      "Epoch 6/20\n",
      "60000/60000 [==============================] - 4s 59us/sample - loss: 0.2811 - accuracy: 0.8960 - val_loss: 0.3606 - val_accuracy: 0.8687\n",
      "Epoch 7/20\n",
      "60000/60000 [==============================] - 4s 66us/sample - loss: 0.2679 - accuracy: 0.9007 - val_loss: 0.3497 - val_accuracy: 0.8750\n",
      "Epoch 8/20\n",
      "60000/60000 [==============================] - 4s 60us/sample - loss: 0.2579 - accuracy: 0.9032 - val_loss: 0.3402 - val_accuracy: 0.8814\n",
      "Epoch 9/20\n",
      "60000/60000 [==============================] - 4s 71us/sample - loss: 0.2484 - accuracy: 0.9072 - val_loss: 0.3486 - val_accuracy: 0.8767\n",
      "Epoch 10/20\n",
      "60000/60000 [==============================] - 4s 66us/sample - loss: 0.2393 - accuracy: 0.9106 - val_loss: 0.3600 - val_accuracy: 0.8792\n",
      "Epoch 11/20\n",
      "60000/60000 [==============================] - 4s 63us/sample - loss: 0.2317 - accuracy: 0.9139 - val_loss: 0.3485 - val_accuracy: 0.8790\n",
      "Epoch 12/20\n",
      "60000/60000 [==============================] - 3s 58us/sample - loss: 0.2238 - accuracy: 0.9163 - val_loss: 0.3454 - val_accuracy: 0.8819\n",
      "Epoch 13/20\n",
      "60000/60000 [==============================] - 4s 65us/sample - loss: 0.2163 - accuracy: 0.9186 - val_loss: 0.3587 - val_accuracy: 0.8786\n",
      "Epoch 14/20\n",
      "60000/60000 [==============================] - 4s 60us/sample - loss: 0.2102 - accuracy: 0.9202 - val_loss: 0.3401 - val_accuracy: 0.8864\n",
      "Epoch 15/20\n",
      "60000/60000 [==============================] - 4s 58us/sample - loss: 0.2040 - accuracy: 0.9237 - val_loss: 0.3475 - val_accuracy: 0.8857\n",
      "Epoch 16/20\n",
      "60000/60000 [==============================] - 4s 63us/sample - loss: 0.1971 - accuracy: 0.9264 - val_loss: 0.3722 - val_accuracy: 0.8815\n",
      "Epoch 17/20\n",
      "60000/60000 [==============================] - 4s 63us/sample - loss: 0.1929 - accuracy: 0.9274 - val_loss: 0.3526 - val_accuracy: 0.8875\n",
      "Epoch 18/20\n",
      "60000/60000 [==============================] - 4s 61us/sample - loss: 0.1875 - accuracy: 0.9294 - val_loss: 0.3424 - val_accuracy: 0.8897\n",
      "Epoch 19/20\n",
      "60000/60000 [==============================] - 4s 60us/sample - loss: 0.1824 - accuracy: 0.9305 - val_loss: 0.3559 - val_accuracy: 0.8865\n",
      "Epoch 20/20\n",
      "60000/60000 [==============================] - 4s 63us/sample - loss: 0.1770 - accuracy: 0.9338 - val_loss: 0.3721 - val_accuracy: 0.8882\n"
     ]
    }
   ],
   "source": [
    "# Doing some of the training on the model\n",
    "results = model.fit(x=x_train_norm, y=y_train, callbacks=[the_callback, tensorboard_callback], validation_data=(x_test_norm, y_test), epochs=20 )"
   ]
  },
  {
   "cell_type": "code",
   "execution_count": 21,
   "metadata": {},
   "outputs": [
    {
     "data": {
      "text/plain": [
       "Reusing TensorBoard on port 6006 (pid 7516), started 0:01:50 ago. (Use '!kill 7516' to kill it.)"
      ]
     },
     "metadata": {},
     "output_type": "display_data"
    },
    {
     "data": {
      "text/html": [
       "\n",
       "      <iframe id=\"tensorboard-frame-a24a22967ca4b129\" width=\"100%\" height=\"800\" frameborder=\"0\">\n",
       "      </iframe>\n",
       "      <script>\n",
       "        (function() {\n",
       "          const frame = document.getElementById(\"tensorboard-frame-a24a22967ca4b129\");\n",
       "          const url = new URL(\"/\", window.location);\n",
       "          url.port = 6006;\n",
       "          frame.src = url;\n",
       "        })();\n",
       "      </script>\n",
       "  "
      ],
      "text/plain": [
       "<IPython.core.display.HTML object>"
      ]
     },
     "metadata": {},
     "output_type": "display_data"
    }
   ],
   "source": [
    "# showing he tensorboard\n",
    "%tensorboard --logdir logs"
   ]
  },
  {
   "cell_type": "markdown",
   "metadata": {
    "colab_type": "text",
    "id": "zv_3xNMjzdLI"
   },
   "source": [
    "## Stretch Goals:\n",
    "\n",
    "- Use Hyperparameter Tuning to make the accuracy of your models as high as possible. (error as low as possible)\n",
    "- Use Cross Validation techniques to get more consistent results with your model.\n",
    "- Use GridSearchCV to try different combinations of hyperparameters. \n",
    "- Start looking into other types of Keras layers for CNNs and RNNs maybe try and build a CNN model for fashion-MNIST to see how the results compare."
   ]
  }
 ],
 "metadata": {
  "colab": {
   "name": "LS_DS_433_Keras_Assignment.ipynb",
   "provenance": [],
   "version": "0.3.2"
  },
  "kernelspec": {
   "display_name": "Python 3.7.0 64-bit ('lam4-nnf-s2': conda)",
   "language": "python",
   "name": "python37064bitlam4nnfs2condaa223e28e4e5343f49ecebf6cc0bb1d2c"
  },
  "language_info": {
   "codemirror_mode": {
    "name": "ipython",
    "version": 3
   },
   "file_extension": ".py",
   "mimetype": "text/x-python",
   "name": "python",
   "nbconvert_exporter": "python",
   "pygments_lexer": "ipython3",
   "version": "3.7.0"
  }
 },
 "nbformat": 4,
 "nbformat_minor": 4
}
