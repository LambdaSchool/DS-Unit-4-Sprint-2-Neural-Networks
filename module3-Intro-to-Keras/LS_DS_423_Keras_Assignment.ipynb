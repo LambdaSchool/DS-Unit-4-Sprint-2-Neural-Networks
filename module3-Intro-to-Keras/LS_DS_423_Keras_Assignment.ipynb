{
 "cells": [
  {
   "cell_type": "markdown",
   "metadata": {
    "colab_type": "text",
    "id": "pBQsZEJmubLs"
   },
   "source": [
    "<img align=\"left\" src=\"https://lever-client-logos.s3.amazonaws.com/864372b1-534c-480e-acd5-9711f850815c-1524247202159.png\" width=200>\n",
    "<br></br>\n",
    "\n",
    "# Neural Network Framework (Keras)\n",
    "\n",
    "## *Data Science Unit 4 Sprint 2 Assignmnet 3*\n",
    "\n",
    "## Use the Keras Library to build a Multi-Layer Perceptron Model on the Boston Housing dataset\n",
    "\n",
    "- The Boston Housing dataset comes with the Keras library so use Keras to import it into your notebook. \n",
    "- Normalize the data (all features should have roughly the same scale)\n",
    "- Import the type of model and layers that you will need from Keras.\n",
    "- Instantiate a model object and use `model.add()` to add layers to your model\n",
    "- Since this is a regression model you will have a single output node in the final layer.\n",
    "- Use activation functions that are appropriate for this task\n",
    "- Compile your model\n",
    "- Fit your model and report its accuracy in terms of Mean Squared Error\n",
    "- Use the history object that is returned from model.fit to make graphs of the model's loss or train/validation accuracies by epoch. \n",
    "- Run this same data through a linear regression model. Which achieves higher accuracy?\n",
    "- Do a little bit of feature engineering and see how that affects your neural network model. (you will need to change your model to accept more inputs)\n",
    "- After feature engineering, which model sees a greater accuracy boost due to the new features?"
   ]
  },
  {
   "cell_type": "code",
   "execution_count": 2,
   "metadata": {},
   "outputs": [
    {
     "name": "stdout",
     "output_type": "stream",
     "text": [
      "Downloading data from https://storage.googleapis.com/tensorflow/tf-keras-datasets/boston_housing.npz\n",
      "57344/57026 [==============================] - 0s 1us/step\n"
     ]
    }
   ],
   "source": [
    "import tensorflow as tf\n",
    "from tensorflow.keras.models import Sequential\n",
    "from tensorflow.keras.layers import Dense\n",
    "import numpy as np\n",
    "from tensorflow.keras.datasets import boston_housing\n",
    "\n",
    "(X_train, y_train), (X_test, y_test) = boston_housing.load_data()"
   ]
  },
  {
   "cell_type": "code",
   "execution_count": 4,
   "metadata": {},
   "outputs": [
    {
     "data": {
      "text/plain": [
       "'1.14.0'"
      ]
     },
     "execution_count": 4,
     "metadata": {},
     "output_type": "execute_result"
    }
   ],
   "source": [
    "tf.__version__"
   ]
  },
  {
   "cell_type": "code",
   "execution_count": 6,
   "metadata": {},
   "outputs": [
    {
     "data": {
      "text/plain": [
       "<module 'tensorflow' from '/usr/local/anaconda3/envs/dl/lib/python3.7/site-packages/tensorflow/__init__.py'>"
      ]
     },
     "execution_count": 6,
     "metadata": {},
     "output_type": "execute_result"
    }
   ],
   "source": [
    "tf"
   ]
  },
  {
   "cell_type": "code",
   "execution_count": 7,
   "metadata": {},
   "outputs": [],
   "source": []
  },
  {
   "cell_type": "code",
   "execution_count": 8,
   "metadata": {},
   "outputs": [
    {
     "data": {
      "text/plain": [
       "(404, 13)"
      ]
     },
     "execution_count": 8,
     "metadata": {},
     "output_type": "execute_result"
    }
   ],
   "source": [
    "X_train.shape"
   ]
  },
  {
   "cell_type": "code",
   "execution_count": 9,
   "metadata": {},
   "outputs": [
    {
     "data": {
      "text/plain": [
       "array([15.2, 42.3, 50. , 21.1, 17.7, 18.5, 11.3, 15.6, 15.6, 14.4, 12.1,\n",
       "       17.9, 23.1, 19.9, 15.7,  8.8, 50. , 22.5, 24.1, 27.5, 10.9, 30.8,\n",
       "       32.9, 24. , 18.5, 13.3, 22.9, 34.7, 16.6, 17.5, 22.3, 16.1, 14.9,\n",
       "       23.1, 34.9, 25. , 13.9, 13.1, 20.4, 20. , 15.2, 24.7, 22.2, 16.7,\n",
       "       12.7, 15.6, 18.4, 21. , 30.1, 15.1, 18.7,  9.6, 31.5, 24.8, 19.1,\n",
       "       22. , 14.5, 11. , 32. , 29.4, 20.3, 24.4, 14.6, 19.5, 14.1, 14.3,\n",
       "       15.6, 10.5,  6.3, 19.3, 19.3, 13.4, 36.4, 17.8, 13.5, 16.5,  8.3,\n",
       "       14.3, 16. , 13.4, 28.6, 43.5, 20.2, 22. , 23. , 20.7, 12.5, 48.5,\n",
       "       14.6, 13.4, 23.7, 50. , 21.7, 39.8, 38.7, 22.2, 34.9, 22.5, 31.1,\n",
       "       28.7, 46. , 41.7, 21. , 26.6, 15. , 24.4, 13.3, 21.2, 11.7, 21.7,\n",
       "       19.4, 50. , 22.8, 19.7, 24.7, 36.2, 14.2, 18.9, 18.3, 20.6, 24.6,\n",
       "       18.2,  8.7, 44. , 10.4, 13.2, 21.2, 37. , 30.7, 22.9, 20. , 19.3,\n",
       "       31.7, 32. , 23.1, 18.8, 10.9, 50. , 19.6,  5. , 14.4, 19.8, 13.8,\n",
       "       19.6, 23.9, 24.5, 25. , 19.9, 17.2, 24.6, 13.5, 26.6, 21.4, 11.9,\n",
       "       22.6, 19.6,  8.5, 23.7, 23.1, 22.4, 20.5, 23.6, 18.4, 35.2, 23.1,\n",
       "       27.9, 20.6, 23.7, 28. , 13.6, 27.1, 23.6, 20.6, 18.2, 21.7, 17.1,\n",
       "        8.4, 25.3, 13.8, 22.2, 18.4, 20.7, 31.6, 30.5, 20.3,  8.8, 19.2,\n",
       "       19.4, 23.1, 23. , 14.8, 48.8, 22.6, 33.4, 21.1, 13.6, 32.2, 13.1,\n",
       "       23.4, 18.9, 23.9, 11.8, 23.3, 22.8, 19.6, 16.7, 13.4, 22.2, 20.4,\n",
       "       21.8, 26.4, 14.9, 24.1, 23.8, 12.3, 29.1, 21. , 19.5, 23.3, 23.8,\n",
       "       17.8, 11.5, 21.7, 19.9, 25. , 33.4, 28.5, 21.4, 24.3, 27.5, 33.1,\n",
       "       16.2, 23.3, 48.3, 22.9, 22.8, 13.1, 12.7, 22.6, 15. , 15.3, 10.5,\n",
       "       24. , 18.5, 21.7, 19.5, 33.2, 23.2,  5. , 19.1, 12.7, 22.3, 10.2,\n",
       "       13.9, 16.3, 17. , 20.1, 29.9, 17.2, 37.3, 45.4, 17.8, 23.2, 29. ,\n",
       "       22. , 18. , 17.4, 34.6, 20.1, 25. , 15.6, 24.8, 28.2, 21.2, 21.4,\n",
       "       23.8, 31. , 26.2, 17.4, 37.9, 17.5, 20. ,  8.3, 23.9,  8.4, 13.8,\n",
       "        7.2, 11.7, 17.1, 21.6, 50. , 16.1, 20.4, 20.6, 21.4, 20.6, 36.5,\n",
       "        8.5, 24.8, 10.8, 21.9, 17.3, 18.9, 36.2, 14.9, 18.2, 33.3, 21.8,\n",
       "       19.7, 31.6, 24.8, 19.4, 22.8,  7.5, 44.8, 16.8, 18.7, 50. , 50. ,\n",
       "       19.5, 20.1, 50. , 17.2, 20.8, 19.3, 41.3, 20.4, 20.5, 13.8, 16.5,\n",
       "       23.9, 20.6, 31.5, 23.3, 16.8, 14. , 33.8, 36.1, 12.8, 18.3, 18.7,\n",
       "       19.1, 29. , 30.1, 50. , 50. , 22. , 11.9, 37.6, 50. , 22.7, 20.8,\n",
       "       23.5, 27.9, 50. , 19.3, 23.9, 22.6, 15.2, 21.7, 19.2, 43.8, 20.3,\n",
       "       33.2, 19.9, 22.5, 32.7, 22. , 17.1, 19. , 15. , 16.1, 25.1, 23.7,\n",
       "       28.7, 37.2, 22.6, 16.4, 25. , 29.8, 22.1, 17.4, 18.1, 30.3, 17.5,\n",
       "       24.7, 12.6, 26.5, 28.7, 13.3, 10.4, 24.4, 23. , 20. , 17.8,  7. ,\n",
       "       11.8, 24.4, 13.8, 19.4, 25.2, 19.4, 19.4, 29.1])"
      ]
     },
     "execution_count": 9,
     "metadata": {},
     "output_type": "execute_result"
    }
   ],
   "source": [
    "y_train"
   ]
  },
  {
   "cell_type": "code",
   "execution_count": 25,
   "metadata": {},
   "outputs": [
    {
     "data": {
      "text/plain": [
       "(404, 13)"
      ]
     },
     "execution_count": 25,
     "metadata": {},
     "output_type": "execute_result"
    }
   ],
   "source": [
    "X_train.shape"
   ]
  },
  {
   "cell_type": "code",
   "execution_count": 26,
   "metadata": {},
   "outputs": [
    {
     "data": {
      "text/plain": [
       "(404,)"
      ]
     },
     "execution_count": 26,
     "metadata": {},
     "output_type": "execute_result"
    }
   ],
   "source": [
    "y_train.shape"
   ]
  },
  {
   "cell_type": "code",
   "execution_count": 40,
   "metadata": {},
   "outputs": [],
   "source": [
    "model = Sequential()\n",
    "model.add(Dense(10,input_dim=13,activation='relu'))\n",
    "model.add(Dense(20,activation='relu'))\n",
    "model.add(Dense(1,))"
   ]
  },
  {
   "cell_type": "code",
   "execution_count": 44,
   "metadata": {},
   "outputs": [],
   "source": [
    "model.compile(loss='mse', optimizer='adam', metrics=['accuracy'])"
   ]
  },
  {
   "cell_type": "code",
   "execution_count": 45,
   "metadata": {},
   "outputs": [
    {
     "name": "stdout",
     "output_type": "stream",
     "text": [
      "Epoch 1/150\n",
      "404/404 [==============================] - 0s 220us/sample - loss: 33.1498 - acc: 0.0000e+00\n",
      "Epoch 2/150\n",
      "404/404 [==============================] - 0s 29us/sample - loss: 30.7596 - acc: 0.0000e+00\n",
      "Epoch 3/150\n",
      "404/404 [==============================] - 0s 29us/sample - loss: 30.2004 - acc: 0.0000e+00\n",
      "Epoch 4/150\n",
      "404/404 [==============================] - 0s 29us/sample - loss: 30.2527 - acc: 0.0000e+00\n",
      "Epoch 5/150\n",
      "404/404 [==============================] - 0s 29us/sample - loss: 30.5386 - acc: 0.0000e+00\n",
      "Epoch 6/150\n",
      "404/404 [==============================] - 0s 27us/sample - loss: 30.9344 - acc: 0.0000e+00\n",
      "Epoch 7/150\n",
      "404/404 [==============================] - 0s 30us/sample - loss: 30.2039 - acc: 0.0000e+00\n",
      "Epoch 8/150\n",
      "404/404 [==============================] - 0s 28us/sample - loss: 30.6512 - acc: 0.0000e+00\n",
      "Epoch 9/150\n",
      "404/404 [==============================] - 0s 28us/sample - loss: 31.3870 - acc: 0.0000e+00\n",
      "Epoch 10/150\n",
      "404/404 [==============================] - 0s 26us/sample - loss: 30.3720 - acc: 0.0000e+00\n",
      "Epoch 11/150\n",
      "404/404 [==============================] - 0s 26us/sample - loss: 30.6449 - acc: 0.0000e+00\n",
      "Epoch 12/150\n",
      "404/404 [==============================] - 0s 27us/sample - loss: 31.2278 - acc: 0.0000e+00\n",
      "Epoch 13/150\n",
      "404/404 [==============================] - 0s 27us/sample - loss: 31.1621 - acc: 0.0000e+00\n",
      "Epoch 14/150\n",
      "404/404 [==============================] - 0s 25us/sample - loss: 30.9567 - acc: 0.0000e+00\n",
      "Epoch 15/150\n",
      "404/404 [==============================] - 0s 27us/sample - loss: 30.1600 - acc: 0.0000e+00\n",
      "Epoch 16/150\n",
      "404/404 [==============================] - 0s 27us/sample - loss: 29.6581 - acc: 0.0000e+00\n",
      "Epoch 17/150\n",
      "404/404 [==============================] - 0s 28us/sample - loss: 29.8168 - acc: 0.0000e+00\n",
      "Epoch 18/150\n",
      "404/404 [==============================] - 0s 25us/sample - loss: 29.7737 - acc: 0.0000e+00\n",
      "Epoch 19/150\n",
      "404/404 [==============================] - 0s 26us/sample - loss: 30.5505 - acc: 0.0000e+00\n",
      "Epoch 20/150\n",
      "404/404 [==============================] - 0s 27us/sample - loss: 31.1859 - acc: 0.0000e+00\n",
      "Epoch 21/150\n",
      "404/404 [==============================] - 0s 25us/sample - loss: 31.8262 - acc: 0.0000e+00\n",
      "Epoch 22/150\n",
      "404/404 [==============================] - 0s 26us/sample - loss: 32.8760 - acc: 0.0000e+00\n",
      "Epoch 23/150\n",
      "404/404 [==============================] - 0s 26us/sample - loss: 31.3974 - acc: 0.0000e+00\n",
      "Epoch 24/150\n",
      "404/404 [==============================] - 0s 29us/sample - loss: 30.7281 - acc: 0.0000e+00\n",
      "Epoch 25/150\n",
      "404/404 [==============================] - 0s 27us/sample - loss: 31.4043 - acc: 0.0000e+00\n",
      "Epoch 26/150\n",
      "404/404 [==============================] - 0s 28us/sample - loss: 30.4831 - acc: 0.0000e+00\n",
      "Epoch 27/150\n",
      "404/404 [==============================] - 0s 27us/sample - loss: 29.1395 - acc: 0.0000e+00\n",
      "Epoch 28/150\n",
      "404/404 [==============================] - 0s 28us/sample - loss: 29.3276 - acc: 0.0000e+00\n",
      "Epoch 29/150\n",
      "404/404 [==============================] - 0s 35us/sample - loss: 29.0554 - acc: 0.0000e+00\n",
      "Epoch 30/150\n",
      "404/404 [==============================] - 0s 32us/sample - loss: 30.4046 - acc: 0.0000e+00\n",
      "Epoch 31/150\n",
      "404/404 [==============================] - 0s 29us/sample - loss: 30.5165 - acc: 0.0000e+00\n",
      "Epoch 32/150\n",
      "404/404 [==============================] - 0s 31us/sample - loss: 29.8483 - acc: 0.0000e+00\n",
      "Epoch 33/150\n",
      "404/404 [==============================] - 0s 29us/sample - loss: 29.5510 - acc: 0.0000e+00\n",
      "Epoch 34/150\n",
      "404/404 [==============================] - 0s 28us/sample - loss: 30.6088 - acc: 0.0000e+00\n",
      "Epoch 35/150\n",
      "404/404 [==============================] - 0s 27us/sample - loss: 29.4475 - acc: 0.0000e+00\n",
      "Epoch 36/150\n",
      "404/404 [==============================] - 0s 28us/sample - loss: 29.4964 - acc: 0.0000e+00\n",
      "Epoch 37/150\n",
      "404/404 [==============================] - 0s 27us/sample - loss: 29.8665 - acc: 0.0000e+00\n",
      "Epoch 38/150\n",
      "404/404 [==============================] - 0s 29us/sample - loss: 29.3454 - acc: 0.0000e+00\n",
      "Epoch 39/150\n",
      "404/404 [==============================] - 0s 28us/sample - loss: 29.5858 - acc: 0.0000e+00\n",
      "Epoch 40/150\n",
      "404/404 [==============================] - 0s 28us/sample - loss: 29.0214 - acc: 0.0000e+00\n",
      "Epoch 41/150\n",
      "404/404 [==============================] - 0s 29us/sample - loss: 29.3343 - acc: 0.0000e+00\n",
      "Epoch 42/150\n",
      "404/404 [==============================] - 0s 28us/sample - loss: 29.2314 - acc: 0.0000e+00\n",
      "Epoch 43/150\n",
      "404/404 [==============================] - 0s 28us/sample - loss: 28.7026 - acc: 0.0000e+00\n",
      "Epoch 44/150\n",
      "404/404 [==============================] - 0s 25us/sample - loss: 28.2909 - acc: 0.0000e+00\n",
      "Epoch 45/150\n",
      "404/404 [==============================] - 0s 28us/sample - loss: 30.9941 - acc: 0.0000e+00\n",
      "Epoch 46/150\n",
      "404/404 [==============================] - 0s 27us/sample - loss: 30.6119 - acc: 0.0000e+00\n",
      "Epoch 47/150\n",
      "404/404 [==============================] - 0s 27us/sample - loss: 31.9115 - acc: 0.0000e+00\n",
      "Epoch 48/150\n",
      "404/404 [==============================] - 0s 26us/sample - loss: 29.2558 - acc: 0.0000e+00\n",
      "Epoch 49/150\n",
      "404/404 [==============================] - 0s 30us/sample - loss: 29.1490 - acc: 0.0000e+00\n",
      "Epoch 50/150\n",
      "404/404 [==============================] - 0s 41us/sample - loss: 29.5231 - acc: 0.0000e+00\n",
      "Epoch 51/150\n",
      "404/404 [==============================] - 0s 33us/sample - loss: 29.3599 - acc: 0.0000e+00\n",
      "Epoch 52/150\n",
      "404/404 [==============================] - 0s 32us/sample - loss: 33.1439 - acc: 0.0000e+00\n",
      "Epoch 53/150\n",
      "404/404 [==============================] - 0s 33us/sample - loss: 30.5814 - acc: 0.0000e+00\n",
      "Epoch 54/150\n",
      "404/404 [==============================] - 0s 29us/sample - loss: 28.9504 - acc: 0.0000e+00\n",
      "Epoch 55/150\n",
      "404/404 [==============================] - 0s 27us/sample - loss: 29.8462 - acc: 0.0000e+00\n",
      "Epoch 56/150\n",
      "404/404 [==============================] - 0s 30us/sample - loss: 28.6427 - acc: 0.0000e+00\n",
      "Epoch 57/150\n",
      "404/404 [==============================] - 0s 30us/sample - loss: 29.4085 - acc: 0.0000e+00\n",
      "Epoch 58/150\n",
      "404/404 [==============================] - 0s 28us/sample - loss: 29.6246 - acc: 0.0000e+00\n",
      "Epoch 59/150\n",
      "404/404 [==============================] - 0s 27us/sample - loss: 29.6696 - acc: 0.0000e+00\n",
      "Epoch 60/150\n",
      "404/404 [==============================] - 0s 31us/sample - loss: 29.2528 - acc: 0.0000e+00\n",
      "Epoch 61/150\n",
      "404/404 [==============================] - 0s 31us/sample - loss: 29.2975 - acc: 0.0000e+00\n",
      "Epoch 62/150\n",
      "404/404 [==============================] - 0s 28us/sample - loss: 28.5613 - acc: 0.0000e+00\n",
      "Epoch 63/150\n",
      "404/404 [==============================] - 0s 29us/sample - loss: 28.6941 - acc: 0.0000e+00\n",
      "Epoch 64/150\n",
      "404/404 [==============================] - 0s 26us/sample - loss: 29.1762 - acc: 0.0000e+00\n",
      "Epoch 65/150\n",
      "404/404 [==============================] - 0s 28us/sample - loss: 28.7578 - acc: 0.0000e+00\n",
      "Epoch 66/150\n",
      "404/404 [==============================] - 0s 26us/sample - loss: 28.4873 - acc: 0.0000e+00\n",
      "Epoch 67/150\n",
      "404/404 [==============================] - 0s 24us/sample - loss: 28.3238 - acc: 0.0000e+00\n",
      "Epoch 68/150\n",
      "404/404 [==============================] - 0s 29us/sample - loss: 29.4767 - acc: 0.0000e+00\n",
      "Epoch 69/150\n",
      "404/404 [==============================] - 0s 28us/sample - loss: 29.9584 - acc: 0.0000e+00\n",
      "Epoch 70/150\n",
      "404/404 [==============================] - 0s 31us/sample - loss: 29.4270 - acc: 0.0000e+00\n",
      "Epoch 71/150\n",
      "404/404 [==============================] - 0s 28us/sample - loss: 29.0553 - acc: 0.0000e+00\n",
      "Epoch 72/150\n",
      "404/404 [==============================] - 0s 27us/sample - loss: 28.6340 - acc: 0.0000e+00\n",
      "Epoch 73/150\n",
      "404/404 [==============================] - 0s 29us/sample - loss: 28.2713 - acc: 0.0000e+00\n",
      "Epoch 74/150\n",
      "404/404 [==============================] - 0s 28us/sample - loss: 28.8986 - acc: 0.0000e+00\n",
      "Epoch 75/150\n",
      "404/404 [==============================] - 0s 29us/sample - loss: 27.8689 - acc: 0.0000e+00\n",
      "Epoch 76/150\n",
      "404/404 [==============================] - 0s 26us/sample - loss: 28.2756 - acc: 0.0000e+00\n",
      "Epoch 77/150\n",
      "404/404 [==============================] - 0s 29us/sample - loss: 28.9162 - acc: 0.0000e+00\n",
      "Epoch 78/150\n",
      "404/404 [==============================] - 0s 30us/sample - loss: 28.1087 - acc: 0.0000e+00\n",
      "Epoch 79/150\n",
      "404/404 [==============================] - 0s 31us/sample - loss: 28.2008 - acc: 0.0000e+00\n",
      "Epoch 80/150\n",
      "404/404 [==============================] - 0s 30us/sample - loss: 30.3187 - acc: 0.0000e+00\n",
      "Epoch 81/150\n",
      "404/404 [==============================] - 0s 26us/sample - loss: 34.9812 - acc: 0.0000e+00\n",
      "Epoch 82/150\n",
      "404/404 [==============================] - 0s 29us/sample - loss: 30.9109 - acc: 0.0000e+00\n",
      "Epoch 83/150\n",
      "404/404 [==============================] - 0s 29us/sample - loss: 28.9351 - acc: 0.0000e+00\n",
      "Epoch 84/150\n",
      "404/404 [==============================] - 0s 29us/sample - loss: 27.7296 - acc: 0.0000e+00\n",
      "Epoch 85/150\n",
      "404/404 [==============================] - 0s 25us/sample - loss: 28.5766 - acc: 0.0000e+00\n",
      "Epoch 86/150\n",
      "404/404 [==============================] - 0s 28us/sample - loss: 28.0011 - acc: 0.0000e+00\n",
      "Epoch 87/150\n",
      "404/404 [==============================] - 0s 29us/sample - loss: 28.0825 - acc: 0.0000e+00\n",
      "Epoch 88/150\n",
      "404/404 [==============================] - 0s 28us/sample - loss: 27.3494 - acc: 0.0000e+00\n",
      "Epoch 89/150\n",
      "404/404 [==============================] - 0s 26us/sample - loss: 28.3145 - acc: 0.0000e+00\n",
      "Epoch 90/150\n",
      "404/404 [==============================] - 0s 26us/sample - loss: 27.6112 - acc: 0.0000e+00\n",
      "Epoch 91/150\n",
      "404/404 [==============================] - 0s 35us/sample - loss: 27.8771 - acc: 0.0000e+00\n",
      "Epoch 92/150\n",
      "404/404 [==============================] - 0s 29us/sample - loss: 27.6452 - acc: 0.0000e+00\n",
      "Epoch 93/150\n",
      "404/404 [==============================] - 0s 27us/sample - loss: 28.1097 - acc: 0.0000e+00\n",
      "Epoch 94/150\n",
      "404/404 [==============================] - 0s 26us/sample - loss: 28.5362 - acc: 0.0000e+00\n",
      "Epoch 95/150\n",
      "404/404 [==============================] - 0s 29us/sample - loss: 29.0415 - acc: 0.0000e+00\n",
      "Epoch 96/150\n",
      "404/404 [==============================] - 0s 27us/sample - loss: 27.8826 - acc: 0.0000e+00\n",
      "Epoch 97/150\n",
      "404/404 [==============================] - 0s 28us/sample - loss: 27.1549 - acc: 0.0000e+00\n",
      "Epoch 98/150\n",
      "404/404 [==============================] - 0s 28us/sample - loss: 27.1703 - acc: 0.0000e+00\n",
      "Epoch 99/150\n",
      "404/404 [==============================] - 0s 24us/sample - loss: 27.2308 - acc: 0.0000e+00\n",
      "Epoch 100/150\n",
      "404/404 [==============================] - 0s 29us/sample - loss: 27.4661 - acc: 0.0000e+00\n",
      "Epoch 101/150\n",
      "404/404 [==============================] - 0s 25us/sample - loss: 28.1578 - acc: 0.0000e+00\n",
      "Epoch 102/150\n",
      "404/404 [==============================] - 0s 28us/sample - loss: 27.6814 - acc: 0.0000e+00\n",
      "Epoch 103/150\n",
      "404/404 [==============================] - 0s 28us/sample - loss: 27.9044 - acc: 0.0000e+00\n",
      "Epoch 104/150\n",
      "404/404 [==============================] - 0s 28us/sample - loss: 28.2865 - acc: 0.0000e+00\n",
      "Epoch 105/150\n",
      "404/404 [==============================] - 0s 27us/sample - loss: 27.5426 - acc: 0.0000e+00\n",
      "Epoch 106/150\n",
      "404/404 [==============================] - 0s 28us/sample - loss: 30.5216 - acc: 0.0000e+00\n",
      "Epoch 107/150\n",
      "404/404 [==============================] - 0s 28us/sample - loss: 29.3209 - acc: 0.0000e+00\n",
      "Epoch 108/150\n",
      "404/404 [==============================] - 0s 29us/sample - loss: 28.8189 - acc: 0.0000e+00\n",
      "Epoch 109/150\n",
      "404/404 [==============================] - 0s 29us/sample - loss: 28.2060 - acc: 0.0000e+00\n",
      "Epoch 110/150\n",
      "404/404 [==============================] - 0s 28us/sample - loss: 28.3713 - acc: 0.0000e+00\n",
      "Epoch 111/150\n",
      "404/404 [==============================] - 0s 25us/sample - loss: 28.3545 - acc: 0.0000e+00\n",
      "Epoch 112/150\n",
      "404/404 [==============================] - 0s 26us/sample - loss: 27.3721 - acc: 0.0000e+00\n",
      "Epoch 113/150\n",
      "404/404 [==============================] - 0s 29us/sample - loss: 27.9290 - acc: 0.0000e+00\n",
      "Epoch 114/150\n",
      "404/404 [==============================] - 0s 27us/sample - loss: 27.4790 - acc: 0.0000e+00\n",
      "Epoch 115/150\n",
      "404/404 [==============================] - 0s 25us/sample - loss: 28.9460 - acc: 0.0000e+00\n",
      "Epoch 116/150\n",
      "404/404 [==============================] - 0s 30us/sample - loss: 31.5453 - acc: 0.0000e+00\n",
      "Epoch 117/150\n",
      "404/404 [==============================] - 0s 29us/sample - loss: 27.7923 - acc: 0.0000e+00\n",
      "Epoch 118/150\n",
      "404/404 [==============================] - 0s 27us/sample - loss: 26.7436 - acc: 0.0000e+00\n",
      "Epoch 119/150\n",
      "404/404 [==============================] - 0s 28us/sample - loss: 26.9609 - acc: 0.0000e+00\n",
      "Epoch 120/150\n",
      "404/404 [==============================] - 0s 27us/sample - loss: 27.1638 - acc: 0.0000e+00\n",
      "Epoch 121/150\n",
      "404/404 [==============================] - 0s 30us/sample - loss: 27.2418 - acc: 0.0000e+00\n",
      "Epoch 122/150\n",
      "404/404 [==============================] - 0s 28us/sample - loss: 27.4494 - acc: 0.0000e+00\n",
      "Epoch 123/150\n",
      "404/404 [==============================] - 0s 27us/sample - loss: 27.0119 - acc: 0.0000e+00\n",
      "Epoch 124/150\n",
      "404/404 [==============================] - 0s 28us/sample - loss: 27.8651 - acc: 0.0000e+00\n",
      "Epoch 125/150\n",
      "404/404 [==============================] - 0s 28us/sample - loss: 29.6834 - acc: 0.0000e+00\n",
      "Epoch 126/150\n",
      "404/404 [==============================] - 0s 28us/sample - loss: 27.2343 - acc: 0.0000e+00\n",
      "Epoch 127/150\n",
      "404/404 [==============================] - 0s 29us/sample - loss: 27.1253 - acc: 0.0000e+00\n",
      "Epoch 128/150\n",
      "404/404 [==============================] - 0s 25us/sample - loss: 28.1037 - acc: 0.0000e+00\n",
      "Epoch 129/150\n",
      "404/404 [==============================] - 0s 28us/sample - loss: 26.6564 - acc: 0.0000e+00\n",
      "Epoch 130/150\n",
      "404/404 [==============================] - 0s 29us/sample - loss: 26.6761 - acc: 0.0000e+00\n",
      "Epoch 131/150\n",
      "404/404 [==============================] - 0s 30us/sample - loss: 26.5890 - acc: 0.0000e+00\n",
      "Epoch 132/150\n",
      "404/404 [==============================] - 0s 24us/sample - loss: 27.1729 - acc: 0.0000e+00\n",
      "Epoch 133/150\n",
      "404/404 [==============================] - 0s 27us/sample - loss: 28.0326 - acc: 0.0000e+00\n",
      "Epoch 134/150\n",
      "404/404 [==============================] - 0s 26us/sample - loss: 27.6364 - acc: 0.0000e+00\n",
      "Epoch 135/150\n",
      "404/404 [==============================] - 0s 29us/sample - loss: 26.7263 - acc: 0.0000e+00\n",
      "Epoch 136/150\n",
      "404/404 [==============================] - 0s 24us/sample - loss: 27.3049 - acc: 0.0000e+00\n",
      "Epoch 137/150\n",
      "404/404 [==============================] - 0s 28us/sample - loss: 26.3502 - acc: 0.0000e+00\n",
      "Epoch 138/150\n",
      "404/404 [==============================] - 0s 28us/sample - loss: 26.6855 - acc: 0.0000e+00\n",
      "Epoch 139/150\n",
      "404/404 [==============================] - 0s 32us/sample - loss: 26.2910 - acc: 0.0000e+00\n",
      "Epoch 140/150\n",
      "404/404 [==============================] - 0s 27us/sample - loss: 27.0093 - acc: 0.0000e+00\n",
      "Epoch 141/150\n",
      "404/404 [==============================] - 0s 27us/sample - loss: 26.3162 - acc: 0.0000e+00\n",
      "Epoch 142/150\n",
      "404/404 [==============================] - 0s 28us/sample - loss: 26.1385 - acc: 0.0000e+00\n",
      "Epoch 143/150\n",
      "404/404 [==============================] - 0s 28us/sample - loss: 26.6525 - acc: 0.0000e+00\n",
      "Epoch 144/150\n",
      "404/404 [==============================] - 0s 27us/sample - loss: 27.1101 - acc: 0.0000e+00\n",
      "Epoch 145/150\n",
      "404/404 [==============================] - 0s 26us/sample - loss: 27.0021 - acc: 0.0000e+00\n",
      "Epoch 146/150\n",
      "404/404 [==============================] - 0s 27us/sample - loss: 29.3343 - acc: 0.0000e+00\n",
      "Epoch 147/150\n",
      "404/404 [==============================] - 0s 27us/sample - loss: 28.1582 - acc: 0.0000e+00\n",
      "Epoch 148/150\n",
      "404/404 [==============================] - 0s 32us/sample - loss: 28.9225 - acc: 0.0000e+00\n",
      "Epoch 149/150\n",
      "404/404 [==============================] - 0s 26us/sample - loss: 27.3592 - acc: 0.0000e+00\n",
      "Epoch 150/150\n",
      "404/404 [==============================] - 0s 27us/sample - loss: 28.0687 - acc: 0.0000e+00\n"
     ]
    },
    {
     "data": {
      "text/plain": [
       "<tensorflow.python.keras.callbacks.History at 0xb38dd80f0>"
      ]
     },
     "execution_count": 45,
     "metadata": {},
     "output_type": "execute_result"
    }
   ],
   "source": [
    "model.fit(X_train,y_train,epochs=150)"
   ]
  },
  {
   "cell_type": "code",
   "execution_count": 43,
   "metadata": {},
   "outputs": [
    {
     "name": "stdout",
     "output_type": "stream",
     "text": [
      "Model: \"sequential_5\"\n",
      "_________________________________________________________________\n",
      "Layer (type)                 Output Shape              Param #   \n",
      "=================================================================\n",
      "dense_27 (Dense)             (None, 10)                140       \n",
      "_________________________________________________________________\n",
      "dense_28 (Dense)             (None, 20)                220       \n",
      "_________________________________________________________________\n",
      "dense_29 (Dense)             (None, 1)                 21        \n",
      "=================================================================\n",
      "Total params: 381\n",
      "Trainable params: 381\n",
      "Non-trainable params: 0\n",
      "_________________________________________________________________\n"
     ]
    }
   ],
   "source": [
    "model.summary()"
   ]
  },
  {
   "cell_type": "code",
   "execution_count": null,
   "metadata": {},
   "outputs": [],
   "source": []
  },
  {
   "cell_type": "code",
   "execution_count": null,
   "metadata": {},
   "outputs": [],
   "source": []
  },
  {
   "cell_type": "markdown",
   "metadata": {
    "colab_type": "text",
    "id": "SfcFnOONyuNm"
   },
   "source": [
    "## Use the Keras Library to build an image recognition network using the Fashion-MNIST dataset (also comes with keras)\n",
    "\n",
    "- Load and preprocess the image data similar to how we preprocessed the MNIST data in class.\n",
    "- Make sure to one-hot encode your category labels\n",
    "- Make sure to have your final layer have as many nodes as the number of classes that you want to predict.\n",
    "- Try different hyperparameters. What is the highest accuracy that you are able to achieve.\n",
    "- Use the history object that is returned from model.fit to make graphs of the model's loss or train/validation accuracies by epoch. \n",
    "- Remember that neural networks fall prey to randomness so you may need to run your model multiple times (or use Cross Validation) in order to tell if a change to a hyperparameter is truly producing better results."
   ]
  },
  {
   "cell_type": "code",
   "execution_count": null,
   "metadata": {
    "colab": {},
    "colab_type": "code",
    "id": "szi6-IpuzaH1"
   },
   "outputs": [],
   "source": [
    "##### Your Code Here #####"
   ]
  },
  {
   "cell_type": "markdown",
   "metadata": {
    "colab_type": "text",
    "id": "zv_3xNMjzdLI"
   },
   "source": [
    "## Stretch Goals:\n",
    "\n",
    "- Use Hyperparameter Tuning to make the accuracy of your models as high as possible. (error as low as possible)\n",
    "- Use Cross Validation techniques to get more consistent results with your model.\n",
    "- Use GridSearchCV to try different combinations of hyperparameters. \n",
    "- Start looking into other types of Keras layers for CNNs and RNNs maybe try and build a CNN model for fashion-MNIST to see how the results compare."
   ]
  }
 ],
 "metadata": {
  "colab": {
   "name": "LS_DS_433_Keras_Assignment.ipynb",
   "provenance": [],
   "version": "0.3.2"
  },
  "kernelspec": {
   "display_name": "dl",
   "language": "python",
   "name": "dl"
  },
  "language_info": {
   "codemirror_mode": {
    "name": "ipython",
    "version": 3
   },
   "file_extension": ".py",
   "mimetype": "text/x-python",
   "name": "python",
   "nbconvert_exporter": "python",
   "pygments_lexer": "ipython3",
   "version": "3.7.3"
  }
 },
 "nbformat": 4,
 "nbformat_minor": 2
}
