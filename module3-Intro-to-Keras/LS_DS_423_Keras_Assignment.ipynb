{
 "cells": [
  {
   "cell_type": "markdown",
   "metadata": {
    "colab_type": "text",
    "id": "pBQsZEJmubLs"
   },
   "source": [
    "<img align=\"left\" src=\"https://lever-client-logos.s3.amazonaws.com/864372b1-534c-480e-acd5-9711f850815c-1524247202159.png\" width=200>\n",
    "<br></br>\n",
    "\n",
    "# Neural Network Framework (Keras)\n",
    "\n",
    "## *Data Science Unit 4 Sprint 2 Assignment 3*\n",
    "\n",
    "## Use the Keras Library to build a Multi-Layer Perceptron Model on the Boston Housing dataset\n",
    "\n",
    "- The Boston Housing dataset comes with the Keras library so use Keras to import it into your notebook. \n",
    "- Normalize the data (all features should have roughly the same scale)\n",
    "- Import the type of model and layers that you will need from Keras.\n",
    "- Instantiate a model object and use `model.add()` to add layers to your model\n",
    "- Since this is a regression model you will have a single output node in the final layer.\n",
    "- Use activation functions that are appropriate for this task\n",
    "- Compile your model\n",
    "- Fit your model and report its accuracy in terms of Mean Squared Error\n",
    "- Use the history object that is returned from model.fit to make graphs of the model's loss or train/validation accuracies by epoch. \n",
    "- Run this same data through a linear regression model. Which achieves higher accuracy?\n",
    "- Do a little bit of feature engineering and see how that affects your neural network model. (you will need to change your model to accept more inputs)\n",
    "- After feature engineering, which model sees a greater accuracy boost due to the new features?"
   ]
  },
  {
   "cell_type": "code",
   "execution_count": 1,
   "metadata": {
    "colab": {},
    "colab_type": "code",
    "id": "8NLTAR87uYJ-"
   },
   "outputs": [],
   "source": [
    "from tensorflow.keras.datasets import boston_housing"
   ]
  },
  {
   "cell_type": "code",
   "execution_count": 39,
   "metadata": {},
   "outputs": [],
   "source": [
    "(X_train, y_train), (X_test, y_test) = boston_housing.load_data()"
   ]
  },
  {
   "cell_type": "code",
   "execution_count": 3,
   "metadata": {},
   "outputs": [
    {
     "data": {
      "text/plain": [
       "array([15.2, 42.3, 50. , 21.1, 17.7, 18.5, 11.3, 15.6, 15.6, 14.4, 12.1,\n",
       "       17.9, 23.1, 19.9, 15.7,  8.8, 50. , 22.5, 24.1, 27.5, 10.9, 30.8,\n",
       "       32.9, 24. , 18.5, 13.3, 22.9, 34.7, 16.6, 17.5, 22.3, 16.1, 14.9,\n",
       "       23.1, 34.9, 25. , 13.9, 13.1, 20.4, 20. , 15.2, 24.7, 22.2, 16.7,\n",
       "       12.7, 15.6, 18.4, 21. , 30.1, 15.1, 18.7,  9.6, 31.5, 24.8, 19.1,\n",
       "       22. , 14.5, 11. , 32. , 29.4, 20.3, 24.4, 14.6, 19.5, 14.1, 14.3,\n",
       "       15.6, 10.5,  6.3, 19.3, 19.3, 13.4, 36.4, 17.8, 13.5, 16.5,  8.3,\n",
       "       14.3, 16. , 13.4, 28.6, 43.5, 20.2, 22. , 23. , 20.7, 12.5, 48.5,\n",
       "       14.6, 13.4, 23.7, 50. , 21.7, 39.8, 38.7, 22.2, 34.9, 22.5, 31.1,\n",
       "       28.7, 46. , 41.7, 21. , 26.6, 15. , 24.4, 13.3, 21.2, 11.7, 21.7,\n",
       "       19.4, 50. , 22.8, 19.7, 24.7, 36.2, 14.2, 18.9, 18.3, 20.6, 24.6,\n",
       "       18.2,  8.7, 44. , 10.4, 13.2, 21.2, 37. , 30.7, 22.9, 20. , 19.3,\n",
       "       31.7, 32. , 23.1, 18.8, 10.9, 50. , 19.6,  5. , 14.4, 19.8, 13.8,\n",
       "       19.6, 23.9, 24.5, 25. , 19.9, 17.2, 24.6, 13.5, 26.6, 21.4, 11.9,\n",
       "       22.6, 19.6,  8.5, 23.7, 23.1, 22.4, 20.5, 23.6, 18.4, 35.2, 23.1,\n",
       "       27.9, 20.6, 23.7, 28. , 13.6, 27.1, 23.6, 20.6, 18.2, 21.7, 17.1,\n",
       "        8.4, 25.3, 13.8, 22.2, 18.4, 20.7, 31.6, 30.5, 20.3,  8.8, 19.2,\n",
       "       19.4, 23.1, 23. , 14.8, 48.8, 22.6, 33.4, 21.1, 13.6, 32.2, 13.1,\n",
       "       23.4, 18.9, 23.9, 11.8, 23.3, 22.8, 19.6, 16.7, 13.4, 22.2, 20.4,\n",
       "       21.8, 26.4, 14.9, 24.1, 23.8, 12.3, 29.1, 21. , 19.5, 23.3, 23.8,\n",
       "       17.8, 11.5, 21.7, 19.9, 25. , 33.4, 28.5, 21.4, 24.3, 27.5, 33.1,\n",
       "       16.2, 23.3, 48.3, 22.9, 22.8, 13.1, 12.7, 22.6, 15. , 15.3, 10.5,\n",
       "       24. , 18.5, 21.7, 19.5, 33.2, 23.2,  5. , 19.1, 12.7, 22.3, 10.2,\n",
       "       13.9, 16.3, 17. , 20.1, 29.9, 17.2, 37.3, 45.4, 17.8, 23.2, 29. ,\n",
       "       22. , 18. , 17.4, 34.6, 20.1, 25. , 15.6, 24.8, 28.2, 21.2, 21.4,\n",
       "       23.8, 31. , 26.2, 17.4, 37.9, 17.5, 20. ,  8.3, 23.9,  8.4, 13.8,\n",
       "        7.2, 11.7, 17.1, 21.6, 50. , 16.1, 20.4, 20.6, 21.4, 20.6, 36.5,\n",
       "        8.5, 24.8, 10.8, 21.9, 17.3, 18.9, 36.2, 14.9, 18.2, 33.3, 21.8,\n",
       "       19.7, 31.6, 24.8, 19.4, 22.8,  7.5, 44.8, 16.8, 18.7, 50. , 50. ,\n",
       "       19.5, 20.1, 50. , 17.2, 20.8, 19.3, 41.3, 20.4, 20.5, 13.8, 16.5,\n",
       "       23.9, 20.6, 31.5, 23.3, 16.8, 14. , 33.8, 36.1, 12.8, 18.3, 18.7,\n",
       "       19.1, 29. , 30.1, 50. , 50. , 22. , 11.9, 37.6, 50. , 22.7, 20.8,\n",
       "       23.5, 27.9, 50. , 19.3, 23.9, 22.6, 15.2, 21.7, 19.2, 43.8, 20.3,\n",
       "       33.2, 19.9, 22.5, 32.7, 22. , 17.1, 19. , 15. , 16.1, 25.1, 23.7,\n",
       "       28.7, 37.2, 22.6, 16.4, 25. , 29.8, 22.1, 17.4, 18.1, 30.3, 17.5,\n",
       "       24.7, 12.6, 26.5, 28.7, 13.3, 10.4, 24.4, 23. , 20. , 17.8,  7. ,\n",
       "       11.8, 24.4, 13.8, 19.4, 25.2, 19.4, 19.4, 29.1])"
      ]
     },
     "execution_count": 3,
     "metadata": {},
     "output_type": "execute_result"
    }
   ],
   "source": [
    "y_train"
   ]
  },
  {
   "cell_type": "code",
   "execution_count": 17,
   "metadata": {},
   "outputs": [],
   "source": [
    "import seaborn as sns"
   ]
  },
  {
   "cell_type": "code",
   "execution_count": 20,
   "metadata": {},
   "outputs": [],
   "source": [
    "import numpy as np"
   ]
  },
  {
   "cell_type": "code",
   "execution_count": 24,
   "metadata": {},
   "outputs": [
    {
     "data": {
      "text/plain": [
       "<matplotlib.axes._subplots.AxesSubplot at 0x13cabca49b0>"
      ]
     },
     "execution_count": 24,
     "metadata": {},
     "output_type": "execute_result"
    },
    {
     "data": {
      "image/png": "[encoded data removed]",
      "text/plain": [
       "<Figure size 432x288 with 1 Axes>"
      ]
     },
     "metadata": {
      "needs_background": "light"
     },
     "output_type": "display_data"
    }
   ],
   "source": [
    "sns.distplot(np.log(y_train))"
   ]
  },
  {
   "cell_type": "code",
   "execution_count": 23,
   "metadata": {},
   "outputs": [
    {
     "data": {
      "image/png": "[encoded data removed]",
      "text/plain": [
       "<Figure size 432x288 with 1 Axes>"
      ]
     },
     "metadata": {
      "needs_background": "light"
     },
     "output_type": "display_data"
    }
   ],
   "source": [
    "sns.distplot(y_train);"
   ]
  },
  {
   "cell_type": "code",
   "execution_count": 4,
   "metadata": {},
   "outputs": [],
   "source": [
    "from sklearn.preprocessing import Normalizer"
   ]
  },
  {
   "cell_type": "code",
   "execution_count": 111,
   "metadata": {},
   "outputs": [],
   "source": [
    "normalizer = Normalizer()\n",
    "X_train = normalizer.fit_transform(X_train, y_train)\n",
    "X_test = normalizer.transform(X_test)"
   ]
  },
  {
   "cell_type": "code",
   "execution_count": 35,
   "metadata": {},
   "outputs": [
    {
     "data": {
      "text/plain": [
       "(404, 13)"
      ]
     },
     "execution_count": 35,
     "metadata": {},
     "output_type": "execute_result"
    }
   ],
   "source": [
    "X_train.shape"
   ]
  },
  {
   "cell_type": "code",
   "execution_count": 7,
   "metadata": {},
   "outputs": [],
   "source": [
    "from tensorflow.keras.models import Sequential\n",
    "from tensorflow.keras.layers import Dense"
   ]
  },
  {
   "cell_type": "code",
   "execution_count": 103,
   "metadata": {},
   "outputs": [],
   "source": [
    "from tensorflow.keras.callbacks import EarlyStopping"
   ]
  },
  {
   "cell_type": "code",
   "execution_count": 120,
   "metadata": {},
   "outputs": [],
   "source": [
    "model = Sequential([\n",
    "    Dense(13, input_dim=13, activation='relu'),\n",
    "    Dense(6, activation='relu'),\n",
    "    Dense(3, activation='relu'),\n",
    "    Dense(1, activation='linear')\n",
    "])"
   ]
  },
  {
   "cell_type": "code",
   "execution_count": 121,
   "metadata": {},
   "outputs": [],
   "source": [
    "model.compile(optimizer='nadam', loss='mean_absolute_error', metrics=['mean_squared_error'])"
   ]
  },
  {
   "cell_type": "code",
   "execution_count": 122,
   "metadata": {},
   "outputs": [],
   "source": [
    "stop = EarlyStopping(monitor='val_mean_squared_error',\n",
    "                     min_delta=0.01,\n",
    "                     patience=3)"
   ]
  },
  {
   "cell_type": "code",
   "execution_count": 123,
   "metadata": {},
   "outputs": [
    {
     "name": "stdout",
     "output_type": "stream",
     "text": [
      "Train on 404 samples, validate on 102 samples\n",
      "Epoch 1/999\n",
      "404/404 [==============================] - 1s 2ms/sample - loss: 22.3867 - mean_squared_error: 585.7935 - val_loss: 23.0553 - val_mean_squared_error: 614.7875\n",
      "Epoch 2/999\n",
      "404/404 [==============================] - 0s 126us/sample - loss: 22.3593 - mean_squared_error: 584.5558 - val_loss: 23.0264 - val_mean_squared_error: 613.4471\n",
      "Epoch 3/999\n",
      "404/404 [==============================] - 0s 92us/sample - loss: 22.3282 - mean_squared_error: 583.1483 - val_loss: 22.9925 - val_mean_squared_error: 611.8857\n",
      "Epoch 4/999\n",
      "404/404 [==============================] - 0s 87us/sample - loss: 22.2925 - mean_squared_error: 581.5775 - val_loss: 22.9543 - val_mean_squared_error: 610.1372\n",
      "Epoch 5/999\n",
      "404/404 [==============================] - 0s 96us/sample - loss: 22.2524 - mean_squared_error: 579.7782 - val_loss: 22.9117 - val_mean_squared_error: 608.1878\n",
      "Epoch 6/999\n",
      "404/404 [==============================] - 0s 92us/sample - loss: 22.2073 - mean_squared_error: 577.7804 - val_loss: 22.8632 - val_mean_squared_error: 605.9679\n",
      "Epoch 7/999\n",
      "404/404 [==============================] - 0s 94us/sample - loss: 22.1551 - mean_squared_error: 575.4528 - val_loss: 22.8051 - val_mean_squared_error: 603.3145\n",
      "Epoch 8/999\n",
      "404/404 [==============================] - 0s 99us/sample - loss: 22.0880 - mean_squared_error: 572.5043 - val_loss: 22.7231 - val_mean_squared_error: 599.5626\n",
      "Epoch 9/999\n",
      "404/404 [==============================] - 0s 100us/sample - loss: 21.9871 - mean_squared_error: 568.0493 - val_loss: 22.5951 - val_mean_squared_error: 593.7118\n",
      "Epoch 10/999\n",
      "404/404 [==============================] - 0s 94us/sample - loss: 21.8325 - mean_squared_error: 561.1329 - val_loss: 22.4081 - val_mean_squared_error: 585.2373\n",
      "Epoch 11/999\n",
      "404/404 [==============================] - 0s 92us/sample - loss: 21.6191 - mean_squared_error: 551.7264 - val_loss: 22.1604 - val_mean_squared_error: 574.1390\n",
      "Epoch 12/999\n",
      "404/404 [==============================] - 0s 92us/sample - loss: 21.3434 - mean_squared_error: 540.0179 - val_loss: 21.8487 - val_mean_squared_error: 560.3535\n",
      "Epoch 13/999\n",
      "404/404 [==============================] - 0s 94us/sample - loss: 21.0004 - mean_squared_error: 525.2227 - val_loss: 21.4659 - val_mean_squared_error: 543.6860\n",
      "Epoch 14/999\n",
      "404/404 [==============================] - 0s 99us/sample - loss: 20.5827 - mean_squared_error: 507.8234 - val_loss: 21.0042 - val_mean_squared_error: 523.9869\n",
      "Epoch 15/999\n",
      "404/404 [==============================] - 0s 103us/sample - loss: 20.0827 - mean_squared_error: 487.2546 - val_loss: 20.4562 - val_mean_squared_error: 501.1668\n",
      "Epoch 16/999\n",
      "404/404 [==============================] - 0s 106us/sample - loss: 19.4933 - mean_squared_error: 464.1185 - val_loss: 19.8155 - val_mean_squared_error: 475.2551\n",
      "Epoch 17/999\n",
      "404/404 [==============================] - 0s 117us/sample - loss: 18.8081 - mean_squared_error: 437.6111 - val_loss: 19.0749 - val_mean_squared_error: 446.3366\n",
      "Epoch 18/999\n",
      "404/404 [==============================] - 0s 116us/sample - loss: 18.0202 - mean_squared_error: 408.6137 - val_loss: 18.2278 - val_mean_squared_error: 414.6120\n",
      "Epoch 19/999\n",
      "404/404 [==============================] - 0s 114us/sample - loss: 17.1294 - mean_squared_error: 377.0455 - val_loss: 17.2775 - val_mean_squared_error: 380.5829\n",
      "Epoch 20/999\n",
      "404/404 [==============================] - 0s 111us/sample - loss: 16.1317 - mean_squared_error: 343.2020 - val_loss: 16.2289 - val_mean_squared_error: 344.6253\n",
      "Epoch 21/999\n",
      "404/404 [==============================] - 0s 101us/sample - loss: 15.0272 - mean_squared_error: 308.1665 - val_loss: 15.1099 - val_mean_squared_error: 307.3533\n",
      "Epoch 22/999\n",
      "404/404 [==============================] - 0s 99us/sample - loss: 13.8169 - mean_squared_error: 272.2891 - val_loss: 13.9432 - val_mean_squared_error: 269.5774\n",
      "Epoch 23/999\n",
      "404/404 [==============================] - 0s 89us/sample - loss: 12.5323 - mean_squared_error: 236.3480 - val_loss: 12.7217 - val_mean_squared_error: 232.5097\n",
      "Epoch 24/999\n",
      "404/404 [==============================] - 0s 94us/sample - loss: 11.2014 - mean_squared_error: 202.0604 - val_loss: 11.4933 - val_mean_squared_error: 197.8202\n",
      "Epoch 25/999\n",
      "404/404 [==============================] - 0s 97us/sample - loss: 9.9126 - mean_squared_error: 170.9943 - val_loss: 10.3049 - val_mean_squared_error: 166.9667\n",
      "Epoch 26/999\n",
      "404/404 [==============================] - 0s 97us/sample - loss: 8.8000 - mean_squared_error: 144.9185 - val_loss: 9.2688 - val_mean_squared_error: 141.5680\n",
      "Epoch 27/999\n",
      "404/404 [==============================] - 0s 97us/sample - loss: 7.8858 - mean_squared_error: 123.9354 - val_loss: 8.4147 - val_mean_squared_error: 122.0452\n",
      "Epoch 28/999\n",
      "404/404 [==============================] - 0s 94us/sample - loss: 7.1954 - mean_squared_error: 107.8907 - val_loss: 7.7082 - val_mean_squared_error: 107.5207\n",
      "Epoch 29/999\n",
      "404/404 [==============================] - 0s 94us/sample - loss: 6.7324 - mean_squared_error: 97.4585 - val_loss: 7.1867 - val_mean_squared_error: 97.6760\n",
      "Epoch 30/999\n",
      "404/404 [==============================] - 0s 92us/sample - loss: 6.4633 - mean_squared_error: 90.2900 - val_loss: 6.8319 - val_mean_squared_error: 91.4984\n",
      "Epoch 31/999\n",
      "404/404 [==============================] - 0s 92us/sample - loss: 6.3407 - mean_squared_error: 86.4251 - val_loss: 6.6334 - val_mean_squared_error: 87.9284\n",
      "Epoch 32/999\n",
      "404/404 [==============================] - 0s 99us/sample - loss: 6.2933 - mean_squared_error: 84.1086 - val_loss: 6.5430 - val_mean_squared_error: 86.0691\n",
      "Epoch 33/999\n",
      "404/404 [==============================] - 0s 97us/sample - loss: 6.2718 - mean_squared_error: 82.9671 - val_loss: 6.4861 - val_mean_squared_error: 84.9304\n",
      "Epoch 34/999\n",
      "404/404 [==============================] - 0s 94us/sample - loss: 6.2489 - mean_squared_error: 82.2181 - val_loss: 6.4545 - val_mean_squared_error: 84.2741\n",
      "Epoch 35/999\n",
      "404/404 [==============================] - 0s 99us/sample - loss: 6.2348 - mean_squared_error: 81.7303 - val_loss: 6.4237 - val_mean_squared_error: 83.6303\n",
      "Epoch 36/999\n",
      "404/404 [==============================] - 0s 97us/sample - loss: 6.2180 - mean_squared_error: 81.2640 - val_loss: 6.4050 - val_mean_squared_error: 83.2055\n",
      "Epoch 37/999\n",
      "404/404 [==============================] - 0s 94us/sample - loss: 6.2035 - mean_squared_error: 81.2096 - val_loss: 6.3971 - val_mean_squared_error: 83.0409\n",
      "Epoch 38/999\n",
      "404/404 [==============================] - 0s 94us/sample - loss: 6.1864 - mean_squared_error: 80.9391 - val_loss: 6.3809 - val_mean_squared_error: 82.6727\n",
      "Epoch 39/999\n",
      "404/404 [==============================] - 0s 98us/sample - loss: 6.1685 - mean_squared_error: 80.4399 - val_loss: 6.3627 - val_mean_squared_error: 82.2370\n",
      "Epoch 40/999\n",
      "404/404 [==============================] - 0s 87us/sample - loss: 6.1502 - mean_squared_error: 80.0544 - val_loss: 6.3424 - val_mean_squared_error: 81.7474\n",
      "Epoch 41/999\n",
      "404/404 [==============================] - 0s 87us/sample - loss: 6.1314 - mean_squared_error: 79.7066 - val_loss: 6.3259 - val_mean_squared_error: 81.3582\n",
      "Epoch 42/999\n",
      "404/404 [==============================] - 0s 87us/sample - loss: 6.1116 - mean_squared_error: 79.3474 - val_loss: 6.3066 - val_mean_squared_error: 80.9119\n",
      "Epoch 43/999\n",
      "404/404 [==============================] - 0s 84us/sample - loss: 6.0909 - mean_squared_error: 78.8551 - val_loss: 6.2903 - val_mean_squared_error: 80.5413\n",
      "Epoch 44/999\n",
      "404/404 [==============================] - 0s 89us/sample - loss: 6.0718 - mean_squared_error: 78.6480 - val_loss: 6.2842 - val_mean_squared_error: 80.4083\n",
      "Epoch 45/999\n",
      "404/404 [==============================] - 0s 94us/sample - loss: 6.0498 - mean_squared_error: 78.2099 - val_loss: 6.2756 - val_mean_squared_error: 80.1603\n",
      "Epoch 46/999\n",
      "404/404 [==============================] - 0s 92us/sample - loss: 6.0316 - mean_squared_error: 78.3241 - val_loss: 6.2684 - val_mean_squared_error: 79.9271\n",
      "Epoch 47/999\n",
      "404/404 [==============================] - 0s 131us/sample - loss: 6.0087 - mean_squared_error: 77.8700 - val_loss: 6.2486 - val_mean_squared_error: 79.4585\n",
      "Epoch 48/999\n"
     ]
    },
    {
     "name": "stdout",
     "output_type": "stream",
     "text": [
      "404/404 [==============================] - 0s 134us/sample - loss: 5.9880 - mean_squared_error: 77.5268 - val_loss: 6.2373 - val_mean_squared_error: 79.1492\n",
      "Epoch 49/999\n",
      "404/404 [==============================] - 0s 124us/sample - loss: 5.9716 - mean_squared_error: 77.2623 - val_loss: 6.2314 - val_mean_squared_error: 78.9421\n",
      "Epoch 50/999\n",
      "404/404 [==============================] - 0s 97us/sample - loss: 5.9506 - mean_squared_error: 76.8761 - val_loss: 6.2230 - val_mean_squared_error: 78.6896\n",
      "Epoch 51/999\n",
      "404/404 [==============================] - 0s 97us/sample - loss: 5.9286 - mean_squared_error: 76.8303 - val_loss: 6.2139 - val_mean_squared_error: 78.4263\n",
      "Epoch 52/999\n",
      "404/404 [==============================] - 0s 84us/sample - loss: 5.9064 - mean_squared_error: 76.4086 - val_loss: 6.2011 - val_mean_squared_error: 78.0755\n",
      "Epoch 53/999\n",
      "404/404 [==============================] - 0s 89us/sample - loss: 5.8884 - mean_squared_error: 76.3006 - val_loss: 6.1873 - val_mean_squared_error: 77.6992\n",
      "Epoch 54/999\n",
      "404/404 [==============================] - 0s 89us/sample - loss: 5.8649 - mean_squared_error: 75.6612 - val_loss: 6.1694 - val_mean_squared_error: 77.2283\n",
      "Epoch 55/999\n",
      "404/404 [==============================] - 0s 99us/sample - loss: 5.8470 - mean_squared_error: 75.5923 - val_loss: 6.1587 - val_mean_squared_error: 76.9268\n",
      "Epoch 56/999\n",
      "404/404 [==============================] - 0s 97us/sample - loss: 5.8272 - mean_squared_error: 74.9838 - val_loss: 6.1554 - val_mean_squared_error: 76.7991\n",
      "Epoch 57/999\n",
      "404/404 [==============================] - 0s 120us/sample - loss: 5.8015 - mean_squared_error: 74.6781 - val_loss: 6.1575 - val_mean_squared_error: 76.8081\n",
      "Epoch 58/999\n",
      "404/404 [==============================] - 0s 145us/sample - loss: 5.7805 - mean_squared_error: 74.7728 - val_loss: 6.1524 - val_mean_squared_error: 76.6275\n",
      "Epoch 59/999\n",
      "404/404 [==============================] - 0s 136us/sample - loss: 5.7568 - mean_squared_error: 74.5639 - val_loss: 6.1258 - val_mean_squared_error: 75.9770\n",
      "Epoch 60/999\n",
      "404/404 [==============================] - 0s 116us/sample - loss: 5.7411 - mean_squared_error: 73.9199 - val_loss: 6.1094 - val_mean_squared_error: 75.5578\n",
      "Epoch 61/999\n",
      "404/404 [==============================] - 0s 116us/sample - loss: 5.7188 - mean_squared_error: 73.6119 - val_loss: 6.1041 - val_mean_squared_error: 75.3821\n",
      "Epoch 62/999\n",
      "404/404 [==============================] - 0s 104us/sample - loss: 5.6981 - mean_squared_error: 73.6074 - val_loss: 6.0923 - val_mean_squared_error: 75.0726\n",
      "Epoch 63/999\n",
      "404/404 [==============================] - 0s 94us/sample - loss: 5.6841 - mean_squared_error: 73.0679 - val_loss: 6.0757 - val_mean_squared_error: 74.6639\n",
      "Epoch 64/999\n",
      "404/404 [==============================] - 0s 92us/sample - loss: 5.6631 - mean_squared_error: 72.9809 - val_loss: 6.0656 - val_mean_squared_error: 74.4012\n",
      "Epoch 65/999\n",
      "404/404 [==============================] - 0s 111us/sample - loss: 5.6480 - mean_squared_error: 72.8371 - val_loss: 6.0462 - val_mean_squared_error: 73.9427\n",
      "Epoch 66/999\n",
      "404/404 [==============================] - 0s 106us/sample - loss: 5.6285 - mean_squared_error: 72.1933 - val_loss: 6.0342 - val_mean_squared_error: 73.6475\n",
      "Epoch 67/999\n",
      "404/404 [==============================] - 0s 99us/sample - loss: 5.6105 - mean_squared_error: 72.0583 - val_loss: 6.0292 - val_mean_squared_error: 73.5016\n",
      "Epoch 68/999\n",
      "404/404 [==============================] - 0s 99us/sample - loss: 5.5922 - mean_squared_error: 71.8021 - val_loss: 6.0105 - val_mean_squared_error: 73.0678\n",
      "Epoch 69/999\n",
      "404/404 [==============================] - 0s 87us/sample - loss: 5.5748 - mean_squared_error: 71.3122 - val_loss: 6.0050 - val_mean_squared_error: 72.9201\n",
      "Epoch 70/999\n",
      "404/404 [==============================] - 0s 84us/sample - loss: 5.5595 - mean_squared_error: 71.3638 - val_loss: 6.0053 - val_mean_squared_error: 72.8822\n",
      "Epoch 71/999\n",
      "404/404 [==============================] - 0s 92us/sample - loss: 5.5400 - mean_squared_error: 71.2336 - val_loss: 5.9974 - val_mean_squared_error: 72.6708\n",
      "Epoch 72/999\n",
      "404/404 [==============================] - 0s 99us/sample - loss: 5.5194 - mean_squared_error: 70.8516 - val_loss: 5.9917 - val_mean_squared_error: 72.5100\n",
      "Epoch 73/999\n",
      "404/404 [==============================] - 0s 97us/sample - loss: 5.5028 - mean_squared_error: 70.8749 - val_loss: 5.9732 - val_mean_squared_error: 72.0691\n",
      "Epoch 74/999\n",
      "404/404 [==============================] - 0s 97us/sample - loss: 5.4870 - mean_squared_error: 70.3739 - val_loss: 5.9600 - val_mean_squared_error: 71.7402\n",
      "Epoch 75/999\n",
      "404/404 [==============================] - 0s 89us/sample - loss: 5.4752 - mean_squared_error: 70.2735 - val_loss: 5.9510 - val_mean_squared_error: 71.5087\n",
      "Epoch 76/999\n",
      "404/404 [==============================] - 0s 104us/sample - loss: 5.4598 - mean_squared_error: 69.8753 - val_loss: 5.9437 - val_mean_squared_error: 71.3216\n",
      "Epoch 77/999\n",
      "404/404 [==============================] - 0s 97us/sample - loss: 5.4427 - mean_squared_error: 69.7102 - val_loss: 5.9455 - val_mean_squared_error: 71.3375\n",
      "Epoch 78/999\n",
      "404/404 [==============================] - 0s 100us/sample - loss: 5.4313 - mean_squared_error: 69.7327 - val_loss: 5.9362 - val_mean_squared_error: 71.1109\n",
      "Epoch 79/999\n",
      "404/404 [==============================] - 0s 100us/sample - loss: 5.4253 - mean_squared_error: 69.4722 - val_loss: 5.9211 - val_mean_squared_error: 70.7447\n",
      "Epoch 80/999\n",
      "404/404 [==============================] - 0s 101us/sample - loss: 5.4076 - mean_squared_error: 69.1875 - val_loss: 5.9068 - val_mean_squared_error: 70.3531\n",
      "Epoch 81/999\n",
      "404/404 [==============================] - 0s 88us/sample - loss: 5.3981 - mean_squared_error: 68.7114 - val_loss: 5.8981 - val_mean_squared_error: 70.1042\n",
      "Epoch 82/999\n",
      "404/404 [==============================] - 0s 89us/sample - loss: 5.3821 - mean_squared_error: 68.5720 - val_loss: 5.9018 - val_mean_squared_error: 70.1411\n",
      "Epoch 83/999\n",
      "404/404 [==============================] - 0s 89us/sample - loss: 5.3729 - mean_squared_error: 68.8044 - val_loss: 5.8975 - val_mean_squared_error: 69.9692\n",
      "Epoch 84/999\n",
      "404/404 [==============================] - 0s 87us/sample - loss: 5.3645 - mean_squared_error: 68.6990 - val_loss: 5.8834 - val_mean_squared_error: 69.5182\n",
      "Epoch 85/999\n",
      "404/404 [==============================] - 0s 92us/sample - loss: 5.3501 - mean_squared_error: 68.2361 - val_loss: 5.8649 - val_mean_squared_error: 68.9617\n",
      "Epoch 86/999\n",
      "404/404 [==============================] - 0s 97us/sample - loss: 5.3428 - mean_squared_error: 67.6778 - val_loss: 5.8588 - val_mean_squared_error: 68.7330\n",
      "Epoch 87/999\n",
      "404/404 [==============================] - 0s 97us/sample - loss: 5.3337 - mean_squared_error: 67.6499 - val_loss: 5.8660 - val_mean_squared_error: 68.8957\n",
      "Epoch 88/999\n",
      "404/404 [==============================] - 0s 87us/sample - loss: 5.3241 - mean_squared_error: 67.7432 - val_loss: 5.8634 - val_mean_squared_error: 68.7781\n",
      "Epoch 89/999\n",
      "404/404 [==============================] - 0s 87us/sample - loss: 5.3123 - mean_squared_error: 67.4644 - val_loss: 5.8720 - val_mean_squared_error: 68.9772\n"
     ]
    },
    {
     "data": {
      "text/plain": [
       "<tensorflow.python.keras.callbacks.History at 0x13cb84906d8>"
      ]
     },
     "execution_count": 123,
     "metadata": {},
     "output_type": "execute_result"
    }
   ],
   "source": [
    "model.fit(X_train, y_train,\n",
    "          epochs=999,\n",
    "          verbose=1,\n",
    "          validation_data=(X_test,y_test),\n",
    "          callbacks=[stop])"
   ]
  },
  {
   "cell_type": "markdown",
   "metadata": {
    "colab_type": "text",
    "id": "SfcFnOONyuNm"
   },
   "source": [
    "## Use the Keras Library to build an image recognition network using the Fashion-MNIST dataset (also comes with keras)\n",
    "\n",
    "- Load and preprocess the image data similar to how we preprocessed the MNIST data in class.\n",
    "- Make sure to one-hot encode your category labels\n",
    "- The number of nodes in your output layer should equal the number of classes you want to predict for Fashion-MNIST.\n",
    "- Try different hyperparameters. What is the highest accuracy that you are able to achieve.\n",
    "- Use the history object that is returned from model.fit to make graphs of the model's loss or train/validation accuracies by epoch. \n",
    "- Remember that neural networks fall prey to randomness so you may need to run your model multiple times (or use Cross Validation) in order to tell if a change to a hyperparameter is truly producing better results."
   ]
  },
  {
   "cell_type": "code",
   "execution_count": 9,
   "metadata": {
    "colab": {},
    "colab_type": "code",
    "id": "szi6-IpuzaH1"
   },
   "outputs": [],
   "source": [
    "##### Your Code Here #####"
   ]
  },
  {
   "cell_type": "markdown",
   "metadata": {
    "colab_type": "text",
    "id": "zv_3xNMjzdLI"
   },
   "source": [
    "## Stretch Goals:\n",
    "\n",
    "- Use Hyperparameter Tuning to make the accuracy of your models as high as possible. (error as low as possible)\n",
    "- Use Cross Validation techniques to get more consistent results with your model.\n",
    "- Use GridSearchCV to try different combinations of hyperparameters. \n",
    "- Start looking into other types of Keras layers for CNNs and RNNs maybe try and build a CNN model for fashion-MNIST to see how the results compare."
   ]
  }
 ],
 "metadata": {
  "celltoolbar": "Raw Cell Format",
  "colab": {
   "name": "LS_DS_433_Keras_Assignment.ipynb",
   "provenance": [],
   "version": "0.3.2"
  },
  "kernelspec": {
   "display_name": "U4-S1-NLP (Python3)",
   "language": "python",
   "name": "u4-s1-nlp"
  },
  "language_info": {
   "codemirror_mode": {
    "name": "ipython",
    "version": 3
   },
   "file_extension": ".py",
   "mimetype": "text/x-python",
   "name": "python",
   "nbconvert_exporter": "python",
   "pygments_lexer": "ipython3",
   "version": "3.7.0"
  }
 },
 "nbformat": 4,
 "nbformat_minor": 4
}
