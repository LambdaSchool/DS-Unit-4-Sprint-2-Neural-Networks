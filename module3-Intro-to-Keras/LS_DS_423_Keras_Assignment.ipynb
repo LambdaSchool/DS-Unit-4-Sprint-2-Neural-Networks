{
 "cells": [
  {
   "cell_type": "markdown",
   "metadata": {
    "colab_type": "text",
    "id": "pBQsZEJmubLs"
   },
   "source": [
    "<img align=\"left\" src=\"https://lever-client-logos.s3.amazonaws.com/864372b1-534c-480e-acd5-9711f850815c-1524247202159.png\" width=200>\n",
    "<br></br>\n",
    "\n",
    "# Neural Network Framework (Keras)\n",
    "\n",
    "## *Data Science Unit 4 Sprint 2 Assignment 3*\n",
    "\n",
    "## Use the Keras Library to build a Multi-Layer Perceptron Model on the Boston Housing dataset\n",
    "\n",
    "- The Boston Housing dataset comes with the Keras library so use Keras to import it into your notebook. \n",
    "- Normalize the data (all features should have roughly the same scale)\n",
    "- Import the type of model and layers that you will need from Keras.\n",
    "- Instantiate a model object and use `model.add()` to add layers to your model\n",
    "- Since this is a regression model you will have a single output node in the final layer.\n",
    "- Use activation functions that are appropriate for this task\n",
    "- Compile your model\n",
    "- Fit your model and report its accuracy in terms of Mean Squared Error\n",
    "- Use the history object that is returned from model.fit to make graphs of the model's loss or train/validation accuracies by epoch. \n",
    "- Run this same data through a linear regression model. Which achieves higher accuracy?\n",
    "- Do a little bit of feature engineering and see how that affects your neural network model. (you will need to change your model to accept more inputs)\n",
    "- After feature engineering, which model sees a greater accuracy boost due to the new features?"
   ]
  },
  {
   "cell_type": "code",
   "execution_count": 24,
   "metadata": {
    "colab": {},
    "colab_type": "code",
    "id": "8NLTAR87uYJ-"
   },
   "outputs": [],
   "source": [
    "##### Your Code Here #####\n",
    "from tensorflow.keras.models import Sequential\n",
    "from tensorflow.keras.layers import Dense\n",
    "from tensorflow.keras.datasets import boston_housing\n",
    "import numpy as np\n",
    "from tensorflow.keras.callbacks import EarlyStopping"
   ]
  },
  {
   "cell_type": "code",
   "execution_count": 2,
   "metadata": {},
   "outputs": [],
   "source": [
    "(x_train, y_train), (x_test, y_test) = boston_housing.load_data()"
   ]
  },
  {
   "cell_type": "code",
   "execution_count": 4,
   "metadata": {},
   "outputs": [
    {
     "output_type": "stream",
     "name": "stdout",
     "text": "The shape of the x train is:  (404, 13)\nThe shape of the y_train is: (404,)\nThe shape of the x_test is : (102, 13)\nThe shape of the y_test is: (102,)\n"
    }
   ],
   "source": [
    "print(f\"The shape of the x train is:  {x_train.shape}\")\n",
    "print(f\"The shape of the y_train is: {y_train.shape}\")\n",
    "print(f\"The shape of the x_test is : {x_test.shape}\")\n",
    "print(f\"The shape of the y_test is: {y_test.shape}\")\n",
    "# Will not need to flatten anything becuase it is only a two dimensional array"
   ]
  },
  {
   "cell_type": "code",
   "execution_count": 5,
   "metadata": {},
   "outputs": [
    {
     "output_type": "execute_result",
     "data": {
      "text/plain": "array([[  1.23247,   0.     ,   8.14   ,   0.     ,   0.538  ,   6.142  ,\n         91.7    ,   3.9769 ,   4.     , 307.     ,  21.     , 396.9    ,\n         18.72   ]])"
     },
     "metadata": {},
     "execution_count": 5
    }
   ],
   "source": [
    "# looking at the shape of one row of the data\n",
    "# and what is in it\n",
    "x_train[:1]"
   ]
  },
  {
   "cell_type": "code",
   "execution_count": 6,
   "metadata": {},
   "outputs": [
    {
     "output_type": "execute_result",
     "data": {
      "text/plain": "numpy.ndarray"
     },
     "metadata": {},
     "execution_count": 6
    }
   ],
   "source": [
    "type(x_train)"
   ]
  },
  {
   "cell_type": "code",
   "execution_count": 7,
   "metadata": {},
   "outputs": [],
   "source": [
    "# function that will do the normalization\n",
    "def normalization(num_array):\n",
    "     arr =  num_array/np.amax(num_array, axis=0)\n",
    "     return arr"
   ]
  },
  {
   "cell_type": "code",
   "execution_count": 8,
   "metadata": {},
   "outputs": [],
   "source": [
    "# Doing the normalization\n",
    "x_train_norm = normalization(x_train)\n",
    "x_test_norm = normalization(x_test)"
   ]
  },
  {
   "cell_type": "code",
   "execution_count": 10,
   "metadata": {},
   "outputs": [
    {
     "output_type": "execute_result",
     "data": {
      "text/plain": "array([  1.23247,   0.     ,   8.14   ,   0.     ,   0.538  ,   6.142  ,\n        91.7    ,   3.9769 ,   4.     , 307.     ,  21.     , 396.9    ,\n        18.72   ])"
     },
     "metadata": {},
     "execution_count": 10
    }
   ],
   "source": [
    "# Looking at the difference between the non normalized and the \n",
    "# normalized version\n",
    "x_train[0]"
   ]
  },
  {
   "cell_type": "code",
   "execution_count": 11,
   "metadata": {},
   "outputs": [
    {
     "output_type": "execute_result",
     "data": {
      "text/plain": "array([0.72205254, 0.        , 0.65248738, 0.        , 0.77956372,\n       0.73280182, 1.        , 0.15129675, 1.        , 0.93670886,\n       0.95283019, 0.06865709, 0.90809628])"
     },
     "metadata": {},
     "execution_count": 11
    }
   ],
   "source": [
    "x_test_norm[0]"
   ]
  },
  {
   "cell_type": "code",
   "execution_count": 12,
   "metadata": {},
   "outputs": [],
   "source": [
    "# Instanciating the model\n",
    "model = Sequential()"
   ]
  },
  {
   "cell_type": "code",
   "execution_count": 51,
   "metadata": {},
   "outputs": [],
   "source": [
    "# getting the callback function that I want to use\n",
    "the_callback = EarlyStopping(patience=1, monitor=\"loss\")"
   ]
  },
  {
   "cell_type": "code",
   "execution_count": 82,
   "metadata": {},
   "outputs": [],
   "source": [
    "# Builing the model\n",
    "# adding layers to the model\n",
    "model.add(Dense(64, input_shape=(13,), activation=\"relu\"))\n",
    "model.add(Dense(64, activation=\"relu\"))\n",
    "#model.add(Dense(128, activation=\"relu\"))\n",
    "#model.add(Dense(64, activation=\"relu\"))\n",
    "model.add(Dense(1, activation=\"linear\"))\n",
    "\n",
    "# Doing the compiliation of the model\n",
    "model.compile(optimizer=\"adam\", loss=\"mse\", metrics=['mse', \"mae\", ], callbacks=[the_callback] )"
   ]
  },
  {
   "cell_type": "code",
   "execution_count": 72,
   "metadata": {},
   "outputs": [
    {
     "output_type": "stream",
     "name": "stdout",
     "text": "Model: \"sequential\"\n_________________________________________________________________\nLayer (type)                 Output Shape              Param #   \n=================================================================\ndense (Dense)                (None, 26)                364       \n_________________________________________________________________\ndense_1 (Dense)              (None, 13)                351       \n_________________________________________________________________\ndense_2 (Dense)              (None, 7)                 98        \n_________________________________________________________________\ndense_3 (Dense)              (None, 1)                 8         \n_________________________________________________________________\ndense_4 (Dense)              (None, 26)                52        \n_________________________________________________________________\ndense_5 (Dense)              (None, 13)                351       \n_________________________________________________________________\ndense_6 (Dense)              (None, 7)                 98        \n_________________________________________________________________\ndense_7 (Dense)              (None, 1)                 8         \n_________________________________________________________________\ndense_8 (Dense)              (None, 13)                26        \n_________________________________________________________________\ndense_9 (Dense)              (None, 13)                182       \n_________________________________________________________________\ndense_10 (Dense)             (None, 7)                 98        \n_________________________________________________________________\ndense_11 (Dense)             (None, 1)                 8         \n_________________________________________________________________\ndense_12 (Dense)             (None, 13)                26        \n_________________________________________________________________\ndense_13 (Dense)             (None, 13)                182       \n_________________________________________________________________\ndense_14 (Dense)             (None, 7)                 98        \n_________________________________________________________________\ndense_15 (Dense)             (None, 1)                 8         \n_________________________________________________________________\ndense_16 (Dense)             (None, 64)                128       \n_________________________________________________________________\ndense_17 (Dense)             (None, 64)                4160      \n_________________________________________________________________\ndense_18 (Dense)             (None, 128)               8320      \n_________________________________________________________________\ndense_19 (Dense)             (None, 1)                 129       \n_________________________________________________________________\ndense_20 (Dense)             (None, 64)                128       \n_________________________________________________________________\ndense_21 (Dense)             (None, 64)                4160      \n_________________________________________________________________\ndense_22 (Dense)             (None, 128)               8320      \n_________________________________________________________________\ndense_23 (Dense)             (None, 1)                 129       \n_________________________________________________________________\ndense_24 (Dense)             (None, 64)                128       \n_________________________________________________________________\ndense_25 (Dense)             (None, 64)                4160      \n_________________________________________________________________\ndense_26 (Dense)             (None, 1)                 65        \n_________________________________________________________________\ndense_27 (Dense)             (None, 64)                128       \n_________________________________________________________________\ndense_28 (Dense)             (None, 64)                4160      \n_________________________________________________________________\ndense_29 (Dense)             (None, 1)                 65        \n_________________________________________________________________\ndense_30 (Dense)             (None, 64)                128       \n_________________________________________________________________\ndense_31 (Dense)             (None, 64)                4160      \n_________________________________________________________________\ndense_32 (Dense)             (None, 1)                 65        \n_________________________________________________________________\ndense_33 (Dense)             (None, 64)                128       \n_________________________________________________________________\ndense_34 (Dense)             (None, 64)                4160      \n_________________________________________________________________\ndense_35 (Dense)             (None, 1)                 65        \n_________________________________________________________________\ndense_36 (Dense)             (None, 64)                128       \n_________________________________________________________________\ndense_37 (Dense)             (None, 64)                4160      \n_________________________________________________________________\ndense_38 (Dense)             (None, 1)                 65        \n_________________________________________________________________\ndense_39 (Dense)             (None, 64)                128       \n_________________________________________________________________\ndense_40 (Dense)             (None, 64)                4160      \n_________________________________________________________________\ndense_41 (Dense)             (None, 1)                 65        \n_________________________________________________________________\ndense_42 (Dense)             (None, 64)                128       \n_________________________________________________________________\ndense_43 (Dense)             (None, 64)                4160      \n_________________________________________________________________\ndense_44 (Dense)             (None, 1)                 65        \n_________________________________________________________________\ndense_45 (Dense)             (None, 64)                128       \n_________________________________________________________________\ndense_46 (Dense)             (None, 64)                4160      \n_________________________________________________________________\ndense_47 (Dense)             (None, 1)                 65        \n_________________________________________________________________\ndense_48 (Dense)             (None, 64)                128       \n_________________________________________________________________\ndense_49 (Dense)             (None, 64)                4160      \n_________________________________________________________________\ndense_50 (Dense)             (None, 1)                 65        \n_________________________________________________________________\ndense_51 (Dense)             (None, 64)                128       \n_________________________________________________________________\ndense_52 (Dense)             (None, 1)                 65        \n_________________________________________________________________\ndense_53 (Dense)             (None, 64)                128       \n_________________________________________________________________\ndense_54 (Dense)             (None, 64)                4160      \n_________________________________________________________________\ndense_55 (Dense)             (None, 1)                 65        \n_________________________________________________________________\ndense_56 (Dense)             (None, 64)                128       \n_________________________________________________________________\ndense_57 (Dense)             (None, 64)                4160      \n_________________________________________________________________\ndense_58 (Dense)             (None, 64)                4160      \n_________________________________________________________________\ndense_59 (Dense)             (None, 1)                 65        \n_________________________________________________________________\ndense_60 (Dense)             (None, 64)                128       \n_________________________________________________________________\ndense_61 (Dense)             (None, 1)                 65        \n_________________________________________________________________\ndense_62 (Dense)             (None, 64)                128       \n_________________________________________________________________\ndense_63 (Dense)             (None, 128)               8320      \n_________________________________________________________________\ndense_64 (Dense)             (None, 64)                8256      \n_________________________________________________________________\ndense_65 (Dense)             (None, 1)                 65        \n_________________________________________________________________\ndense_66 (Dense)             (None, 64)                128       \n_________________________________________________________________\ndense_67 (Dense)             (None, 128)               8320      \n_________________________________________________________________\ndense_68 (Dense)             (None, 128)               16512     \n_________________________________________________________________\ndense_69 (Dense)             (None, 64)                8256      \n_________________________________________________________________\ndense_70 (Dense)             (None, 1)                 65        \n=================================================================\nTotal params: 129,911\nTrainable params: 129,911\nNon-trainable params: 0\n_________________________________________________________________\n"
    }
   ],
   "source": [
    "# looking at the summary of the model\n",
    "model.summary()"
   ]
  },
  {
   "cell_type": "code",
   "execution_count": 85,
   "metadata": {},
   "outputs": [
    {
     "output_type": "stream",
     "name": "stdout",
     "text": "Train on 404 samples, validate on 102 samples\nEpoch 1/10\n404/404 [==============================] - 0s 319us/sample - loss: 6.6618 - mse: 6.6618 - mae: 1.9164 - val_loss: 41.6104 - val_mse: 41.6104 - val_mae: 5.0742\nEpoch 2/10\n404/404 [==============================] - 0s 351us/sample - loss: 8.0327 - mse: 8.0327 - mae: 2.0819 - val_loss: 29.6711 - val_mse: 29.6711 - val_mae: 3.8374\nEpoch 3/10\n404/404 [==============================] - 0s 347us/sample - loss: 5.7822 - mse: 5.7822 - mae: 1.7712 - val_loss: 27.7126 - val_mse: 27.7126 - val_mae: 3.6473\nEpoch 4/10\n404/404 [==============================] - 0s 332us/sample - loss: 6.5720 - mse: 6.5720 - mae: 1.9249 - val_loss: 40.2494 - val_mse: 40.2494 - val_mae: 4.9329\nEpoch 5/10\n404/404 [==============================] - 0s 356us/sample - loss: 8.5346 - mse: 8.5346 - mae: 2.2752 - val_loss: 30.4549 - val_mse: 30.4549 - val_mae: 3.9000\nEpoch 6/10\n404/404 [==============================] - 0s 389us/sample - loss: 6.1204 - mse: 6.1204 - mae: 1.8206 - val_loss: 28.7280 - val_mse: 28.7280 - val_mae: 3.7383\nEpoch 7/10\n404/404 [==============================] - 0s 324us/sample - loss: 6.2401 - mse: 6.2401 - mae: 1.8466 - val_loss: 29.6485 - val_mse: 29.6485 - val_mae: 3.8253\nEpoch 8/10\n404/404 [==============================] - 0s 317us/sample - loss: 11.5392 - mse: 11.5392 - mae: 2.4814 - val_loss: 59.6288 - val_mse: 59.6288 - val_mae: 6.5918\nEpoch 9/10\n404/404 [==============================] - 0s 339us/sample - loss: 10.9295 - mse: 10.9295 - mae: 2.5186 - val_loss: 25.2979 - val_mse: 25.2979 - val_mae: 3.4534\nEpoch 10/10\n404/404 [==============================] - 0s 376us/sample - loss: 11.0334 - mse: 11.0334 - mae: 2.5606 - val_loss: 39.4003 - val_mse: 39.4003 - val_mae: 4.8400\n"
    },
    {
     "output_type": "execute_result",
     "data": {
      "text/plain": "<tensorflow.python.keras.callbacks.History at 0x1715c30af60>"
     },
     "metadata": {},
     "execution_count": 85
    }
   ],
   "source": [
    "# Doing the fitting of the model\n",
    "model.fit(x=x_train_norm, y=y_train, epochs=10,  validation_data=(x_test_norm, y_test)\n",
    ") "
   ]
  },
  {
   "cell_type": "code",
   "execution_count": null,
   "metadata": {},
   "outputs": [],
   "source": [
    "# Will be training the model\n"
   ]
  },
  {
   "cell_type": "markdown",
   "metadata": {
    "colab_type": "text",
    "id": "SfcFnOONyuNm"
   },
   "source": [
    "## Use the Keras Library to build an image recognition network using the Fashion-MNIST dataset (also comes with keras)\n",
    "\n",
    "- Load and preprocess the image data similar to how we preprocessed the MNIST data in class.\n",
    "- Make sure to one-hot encode your category labels\n",
    "- The number of nodes in your output layer should equal the number of classes you want to predict for Fashion-MNIST.\n",
    "- Try different hyperparameters. What is the highest accuracy that you are able to achieve.\n",
    "- Use the history object that is returned from model.fit to make graphs of the model's loss or train/validation accuracies by epoch. \n",
    "- Remember that neural networks fall prey to randomness so you may need to run your model multiple times (or use Cross Validation) in order to tell if a change to a hyperparameter is truly producing better results."
   ]
  },
  {
   "cell_type": "code",
   "execution_count": null,
   "metadata": {
    "colab": {},
    "colab_type": "code",
    "id": "szi6-IpuzaH1"
   },
   "outputs": [],
   "source": [
    "##### Your Code Here #####"
   ]
  },
  {
   "cell_type": "markdown",
   "metadata": {
    "colab_type": "text",
    "id": "zv_3xNMjzdLI"
   },
   "source": [
    "## Stretch Goals:\n",
    "\n",
    "- Use Hyperparameter Tuning to make the accuracy of your models as high as possible. (error as low as possible)\n",
    "- Use Cross Validation techniques to get more consistent results with your model.\n",
    "- Use GridSearchCV to try different combinations of hyperparameters. \n",
    "- Start looking into other types of Keras layers for CNNs and RNNs maybe try and build a CNN model for fashion-MNIST to see how the results compare."
   ]
  }
 ],
 "metadata": {
  "colab": {
   "name": "LS_DS_433_Keras_Assignment.ipynb",
   "provenance": [],
   "version": "0.3.2"
  },
  "kernelspec": {
   "display_name": "Python 3.7.0 64-bit ('lam4-nnf-s2': conda)",
   "language": "python",
   "name": "python37064bitlam4nnfs2condaa223e28e4e5343f49ecebf6cc0bb1d2c"
  },
  "language_info": {
   "codemirror_mode": {
    "name": "ipython",
    "version": 3
   },
   "file_extension": ".py",
   "mimetype": "text/x-python",
   "name": "python",
   "nbconvert_exporter": "python",
   "pygments_lexer": "ipython3",
   "version": "3.7.0-final"
  }
 },
 "nbformat": 4,
 "nbformat_minor": 4
}