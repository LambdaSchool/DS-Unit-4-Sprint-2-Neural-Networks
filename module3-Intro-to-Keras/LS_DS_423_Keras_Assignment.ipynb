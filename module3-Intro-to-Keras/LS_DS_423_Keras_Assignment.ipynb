{
 "cells": [
  {
   "cell_type": "markdown",
   "metadata": {
    "colab_type": "text",
    "id": "pBQsZEJmubLs"
   },
   "source": [
    "<img align=\"left\" src=\"https://lever-client-logos.s3.amazonaws.com/864372b1-534c-480e-acd5-9711f850815c-1524247202159.png\" width=200>\n",
    "<br></br>\n",
    "\n",
    "# Neural Network Framework (Keras)\n",
    "\n",
    "## *Data Science Unit 4 Sprint 2 Assignment 3*\n",
    "\n",
    "## Use the Keras Library to build a Multi-Layer Perceptron Model on the Boston Housing dataset\n",
    "\n",
    "- The Boston Housing dataset comes with the Keras library so use Keras to import it into your notebook. \n",
    "- Normalize the data (all features should have roughly the same scale)\n",
    "- Import the type of model and layers that you will need from Keras.\n",
    "- Instantiate a model object and use `model.add()` to add layers to your model\n",
    "- Since this is a regression model you will have a single output node in the final layer.\n",
    "- Use activation functions that are appropriate for this task\n",
    "- Compile your model\n",
    "- Fit your model and report its accuracy in terms of Mean Squared Error\n",
    "- Use the history object that is returned from model.fit to make graphs of the model's loss or train/validation accuracies by epoch. \n",
    "- Run this same data through a linear regression model. Which achieves higher accuracy?\n",
    "- Do a little bit of feature engineering and see how that affects your neural network model. (you will need to change your model to accept more inputs)\n",
    "- After feature engineering, which model sees a greater accuracy boost due to the new features?"
   ]
  },
  {
   "cell_type": "code",
   "execution_count": 75,
   "metadata": {
    "colab": {},
    "colab_type": "code",
    "id": "8NLTAR87uYJ-"
   },
   "outputs": [],
   "source": [
    "##### Your Code Here #####\n",
    "\n",
    "from tensorflow.keras.datasets import boston_housing\n",
    "\n",
    "(X_train, y_train), (X_test, y_test) = boston_housing.load_data()"
   ]
  },
  {
   "cell_type": "code",
   "execution_count": 76,
   "metadata": {},
   "outputs": [],
   "source": [
    "from sklearn.preprocessing import Normalizer\n",
    "\n",
    "transformer = Normalizer().fit(X_train)\n",
    "\n",
    "X_train = transformer.transform(X_train)\n",
    "X_test = transformer.transform(X_test)"
   ]
  },
  {
   "cell_type": "code",
   "execution_count": 83,
   "metadata": {},
   "outputs": [
    {
     "data": {
      "text/plain": [
       "((404, 13), (102, 13), (404,), (102,))"
      ]
     },
     "execution_count": 83,
     "metadata": {},
     "output_type": "execute_result"
    }
   ],
   "source": [
    "X_train.shape, X_test.shape, y_train.shape, y_test.shape"
   ]
  },
  {
   "cell_type": "code",
   "execution_count": 35,
   "metadata": {
    "collapsed": true,
    "jupyter": {
     "outputs_hidden": true
    }
   },
   "outputs": [
    {
     "name": "stdout",
     "output_type": "stream",
     "text": [
      "Train on 404 samples, validate on 102 samples\n",
      "Epoch 1/150\n",
      "404/404 [==============================] - 0s 696us/sample - loss: 586.1605 - mse: 586.1605 - val_loss: 615.8578 - val_mse: 615.8578\n",
      "Epoch 2/150\n",
      "404/404 [==============================] - 0s 75us/sample - loss: 586.1605 - mse: 586.1605 - val_loss: 615.8578 - val_mse: 615.8578\n",
      "Epoch 3/150\n",
      "404/404 [==============================] - 0s 90us/sample - loss: 586.1605 - mse: 586.1605 - val_loss: 615.8578 - val_mse: 615.8578\n",
      "Epoch 4/150\n",
      "404/404 [==============================] - 0s 46us/sample - loss: 586.1605 - mse: 586.1604 - val_loss: 615.8578 - val_mse: 615.8578\n",
      "Epoch 5/150\n",
      "404/404 [==============================] - 0s 69us/sample - loss: 586.1605 - mse: 586.1605 - val_loss: 615.8578 - val_mse: 615.8578\n",
      "Epoch 6/150\n",
      "404/404 [==============================] - 0s 73us/sample - loss: 586.1605 - mse: 586.1605 - val_loss: 615.8578 - val_mse: 615.8578\n",
      "Epoch 7/150\n",
      "404/404 [==============================] - 0s 103us/sample - loss: 586.1605 - mse: 586.1605 - val_loss: 615.8578 - val_mse: 615.8578\n",
      "Epoch 8/150\n",
      "404/404 [==============================] - 0s 56us/sample - loss: 586.1605 - mse: 586.1604 - val_loss: 615.8578 - val_mse: 615.8578\n",
      "Epoch 9/150\n",
      "404/404 [==============================] - 0s 88us/sample - loss: 586.1605 - mse: 586.1605 - val_loss: 615.8578 - val_mse: 615.8578\n",
      "Epoch 10/150\n",
      "404/404 [==============================] - 0s 64us/sample - loss: 586.1605 - mse: 586.1605 - val_loss: 615.8578 - val_mse: 615.8578\n",
      "Epoch 11/150\n",
      "404/404 [==============================] - 0s 51us/sample - loss: 586.1605 - mse: 586.1606 - val_loss: 615.8578 - val_mse: 615.8578\n",
      "Epoch 12/150\n",
      "404/404 [==============================] - 0s 91us/sample - loss: 586.1605 - mse: 586.1605 - val_loss: 615.8578 - val_mse: 615.8578\n",
      "Epoch 13/150\n",
      "404/404 [==============================] - 0s 71us/sample - loss: 586.1605 - mse: 586.1605 - val_loss: 615.8578 - val_mse: 615.8578\n",
      "Epoch 14/150\n",
      "404/404 [==============================] - 0s 86us/sample - loss: 586.1605 - mse: 586.1605 - val_loss: 615.8578 - val_mse: 615.8578\n",
      "Epoch 15/150\n",
      "404/404 [==============================] - 0s 108us/sample - loss: 586.1605 - mse: 586.1605 - val_loss: 615.8578 - val_mse: 615.8578\n",
      "Epoch 16/150\n",
      "404/404 [==============================] - 0s 52us/sample - loss: 586.1605 - mse: 586.1605 - val_loss: 615.8578 - val_mse: 615.8578\n",
      "Epoch 17/150\n",
      "404/404 [==============================] - 0s 76us/sample - loss: 586.1605 - mse: 586.1605 - val_loss: 615.8578 - val_mse: 615.8578\n",
      "Epoch 18/150\n",
      "404/404 [==============================] - 0s 95us/sample - loss: 586.1605 - mse: 586.1605 - val_loss: 615.8578 - val_mse: 615.8578\n",
      "Epoch 19/150\n",
      "404/404 [==============================] - 0s 64us/sample - loss: 586.1605 - mse: 586.1605 - val_loss: 615.8578 - val_mse: 615.8578\n",
      "Epoch 20/150\n",
      "404/404 [==============================] - 0s 74us/sample - loss: 586.1605 - mse: 586.1605 - val_loss: 615.8578 - val_mse: 615.8578\n",
      "Epoch 21/150\n",
      "404/404 [==============================] - 0s 76us/sample - loss: 586.1605 - mse: 586.1605 - val_loss: 615.8578 - val_mse: 615.8578\n",
      "Epoch 22/150\n",
      "404/404 [==============================] - 0s 95us/sample - loss: 586.1605 - mse: 586.1605 - val_loss: 615.8578 - val_mse: 615.8578\n",
      "Epoch 23/150\n",
      "404/404 [==============================] - 0s 73us/sample - loss: 586.1605 - mse: 586.1605 - val_loss: 615.8578 - val_mse: 615.8578\n",
      "Epoch 24/150\n",
      "404/404 [==============================] - 0s 97us/sample - loss: 586.1605 - mse: 586.1605 - val_loss: 615.8578 - val_mse: 615.8578\n",
      "Epoch 25/150\n",
      "404/404 [==============================] - 0s 84us/sample - loss: 586.1605 - mse: 586.1605 - val_loss: 615.8578 - val_mse: 615.8578\n",
      "Epoch 26/150\n",
      "404/404 [==============================] - 0s 72us/sample - loss: 586.1605 - mse: 586.1605 - val_loss: 615.8578 - val_mse: 615.8578\n",
      "Epoch 27/150\n",
      "404/404 [==============================] - 0s 55us/sample - loss: 586.1605 - mse: 586.1605 - val_loss: 615.8578 - val_mse: 615.8578\n",
      "Epoch 28/150\n",
      "404/404 [==============================] - 0s 91us/sample - loss: 586.1605 - mse: 586.1605 - val_loss: 615.8578 - val_mse: 615.8578\n",
      "Epoch 29/150\n",
      "404/404 [==============================] - 0s 83us/sample - loss: 586.1605 - mse: 586.1605 - val_loss: 615.8578 - val_mse: 615.8578\n",
      "Epoch 30/150\n",
      "404/404 [==============================] - 0s 91us/sample - loss: 586.1605 - mse: 586.1605 - val_loss: 615.8578 - val_mse: 615.8578\n",
      "Epoch 31/150\n",
      "404/404 [==============================] - 0s 56us/sample - loss: 586.1605 - mse: 586.1605 - val_loss: 615.8578 - val_mse: 615.8578\n",
      "Epoch 32/150\n",
      "404/404 [==============================] - 0s 87us/sample - loss: 586.1605 - mse: 586.1605 - val_loss: 615.8578 - val_mse: 615.8578\n",
      "Epoch 33/150\n",
      "404/404 [==============================] - 0s 77us/sample - loss: 586.1605 - mse: 586.1605 - val_loss: 615.8578 - val_mse: 615.8578\n",
      "Epoch 34/150\n",
      "404/404 [==============================] - 0s 67us/sample - loss: 586.1605 - mse: 586.1605 - val_loss: 615.8578 - val_mse: 615.8578\n",
      "Epoch 35/150\n",
      "404/404 [==============================] - 0s 85us/sample - loss: 586.1605 - mse: 586.1605 - val_loss: 615.8578 - val_mse: 615.8578\n",
      "Epoch 36/150\n",
      "404/404 [==============================] - 0s 84us/sample - loss: 586.1605 - mse: 586.1605 - val_loss: 615.8578 - val_mse: 615.8578\n",
      "Epoch 37/150\n",
      "404/404 [==============================] - 0s 61us/sample - loss: 586.1605 - mse: 586.1605 - val_loss: 615.8578 - val_mse: 615.8578\n",
      "Epoch 38/150\n",
      "404/404 [==============================] - 0s 124us/sample - loss: 586.1605 - mse: 586.1604 - val_loss: 615.8578 - val_mse: 615.8578\n",
      "Epoch 39/150\n",
      "404/404 [==============================] - 0s 79us/sample - loss: 586.1605 - mse: 586.1605 - val_loss: 615.8578 - val_mse: 615.8578\n",
      "Epoch 40/150\n",
      "404/404 [==============================] - 0s 101us/sample - loss: 586.1605 - mse: 586.1606 - val_loss: 615.8578 - val_mse: 615.8578\n",
      "Epoch 41/150\n",
      "404/404 [==============================] - 0s 81us/sample - loss: 586.1605 - mse: 586.1605 - val_loss: 615.8578 - val_mse: 615.8578\n",
      "Epoch 42/150\n",
      "404/404 [==============================] - 0s 91us/sample - loss: 586.1605 - mse: 586.1605 - val_loss: 615.8578 - val_mse: 615.8578\n",
      "Epoch 43/150\n",
      "404/404 [==============================] - 0s 95us/sample - loss: 586.1605 - mse: 586.1605 - val_loss: 615.8578 - val_mse: 615.8578\n",
      "Epoch 44/150\n",
      "404/404 [==============================] - 0s 85us/sample - loss: 586.1605 - mse: 586.1605 - val_loss: 615.8578 - val_mse: 615.8578\n",
      "Epoch 45/150\n",
      "404/404 [==============================] - 0s 52us/sample - loss: 586.1605 - mse: 586.1605 - val_loss: 615.8578 - val_mse: 615.8578\n",
      "Epoch 46/150\n",
      "404/404 [==============================] - 0s 90us/sample - loss: 586.1605 - mse: 586.1605 - val_loss: 615.8578 - val_mse: 615.8578\n",
      "Epoch 47/150\n",
      "404/404 [==============================] - 0s 62us/sample - loss: 586.1605 - mse: 586.1605 - val_loss: 615.8578 - val_mse: 615.8578\n",
      "Epoch 48/150\n",
      "404/404 [==============================] - 0s 61us/sample - loss: 586.1605 - mse: 586.1604 - val_loss: 615.8578 - val_mse: 615.8578\n",
      "Epoch 49/150\n",
      "404/404 [==============================] - 0s 108us/sample - loss: 586.1605 - mse: 586.1605 - val_loss: 615.8578 - val_mse: 615.8578\n",
      "Epoch 50/150\n",
      "404/404 [==============================] - 0s 48us/sample - loss: 586.1605 - mse: 586.1605 - val_loss: 615.8578 - val_mse: 615.8578\n",
      "Epoch 51/150\n",
      "404/404 [==============================] - 0s 47us/sample - loss: 586.1605 - mse: 586.1605 - val_loss: 615.8578 - val_mse: 615.8578\n",
      "Epoch 52/150\n",
      "404/404 [==============================] - 0s 72us/sample - loss: 586.1605 - mse: 586.1604 - val_loss: 615.8578 - val_mse: 615.8578\n",
      "Epoch 53/150\n",
      "404/404 [==============================] - 0s 79us/sample - loss: 586.1605 - mse: 586.1605 - val_loss: 615.8578 - val_mse: 615.8578\n",
      "Epoch 54/150\n",
      "404/404 [==============================] - 0s 57us/sample - loss: 586.1605 - mse: 586.1605 - val_loss: 615.8578 - val_mse: 615.8578\n",
      "Epoch 55/150\n",
      "404/404 [==============================] - 0s 90us/sample - loss: 586.1605 - mse: 586.1605 - val_loss: 615.8578 - val_mse: 615.8578\n",
      "Epoch 56/150\n",
      "404/404 [==============================] - 0s 77us/sample - loss: 586.1605 - mse: 586.1605 - val_loss: 615.8578 - val_mse: 615.8578\n",
      "Epoch 57/150\n",
      "404/404 [==============================] - 0s 83us/sample - loss: 586.1605 - mse: 586.1605 - val_loss: 615.8578 - val_mse: 615.8578\n",
      "Epoch 58/150\n",
      "404/404 [==============================] - 0s 65us/sample - loss: 586.1605 - mse: 586.1605 - val_loss: 615.8578 - val_mse: 615.8578\n",
      "Epoch 59/150\n",
      "404/404 [==============================] - 0s 70us/sample - loss: 586.1605 - mse: 586.1605 - val_loss: 615.8578 - val_mse: 615.8578\n",
      "Epoch 60/150\n",
      "404/404 [==============================] - 0s 84us/sample - loss: 586.1605 - mse: 586.1605 - val_loss: 615.8578 - val_mse: 615.8578\n",
      "Epoch 61/150\n",
      "404/404 [==============================] - 0s 89us/sample - loss: 586.1605 - mse: 586.1605 - val_loss: 615.8578 - val_mse: 615.8578\n",
      "Epoch 62/150\n",
      "404/404 [==============================] - 0s 64us/sample - loss: 586.1605 - mse: 586.1605 - val_loss: 615.8578 - val_mse: 615.8578\n",
      "Epoch 63/150\n",
      "404/404 [==============================] - 0s 69us/sample - loss: 586.1605 - mse: 586.1605 - val_loss: 615.8578 - val_mse: 615.8578\n",
      "Epoch 64/150\n",
      "404/404 [==============================] - 0s 64us/sample - loss: 586.1605 - mse: 586.1605 - val_loss: 615.8578 - val_mse: 615.8578\n",
      "Epoch 65/150\n",
      "404/404 [==============================] - 0s 67us/sample - loss: 586.1605 - mse: 586.1605 - val_loss: 615.8578 - val_mse: 615.8578\n",
      "Epoch 66/150\n",
      "404/404 [==============================] - 0s 90us/sample - loss: 586.1605 - mse: 586.1604 - val_loss: 615.8578 - val_mse: 615.8578\n",
      "Epoch 67/150\n",
      "404/404 [==============================] - 0s 55us/sample - loss: 586.1605 - mse: 586.1605 - val_loss: 615.8578 - val_mse: 615.8578\n",
      "Epoch 68/150\n",
      "404/404 [==============================] - 0s 111us/sample - loss: 586.1605 - mse: 586.1605 - val_loss: 615.8578 - val_mse: 615.8578\n",
      "Epoch 69/150\n",
      "404/404 [==============================] - 0s 64us/sample - loss: 586.1605 - mse: 586.1604 - val_loss: 615.8578 - val_mse: 615.8578\n",
      "Epoch 70/150\n",
      "404/404 [==============================] - 0s 58us/sample - loss: 586.1605 - mse: 586.1605 - val_loss: 615.8578 - val_mse: 615.8578\n",
      "Epoch 71/150\n",
      "404/404 [==============================] - 0s 76us/sample - loss: 586.1605 - mse: 586.1605 - val_loss: 615.8578 - val_mse: 615.8578\n",
      "Epoch 72/150\n",
      "404/404 [==============================] - 0s 100us/sample - loss: 586.1605 - mse: 586.1605 - val_loss: 615.8578 - val_mse: 615.8578\n",
      "Epoch 73/150\n",
      "404/404 [==============================] - 0s 60us/sample - loss: 586.1605 - mse: 586.1605 - val_loss: 615.8578 - val_mse: 615.8578\n",
      "Epoch 74/150\n",
      "404/404 [==============================] - 0s 89us/sample - loss: 586.1605 - mse: 586.1605 - val_loss: 615.8578 - val_mse: 615.8578\n",
      "Epoch 75/150\n",
      "404/404 [==============================] - 0s 51us/sample - loss: 586.1605 - mse: 586.1605 - val_loss: 615.8578 - val_mse: 615.8578\n",
      "Epoch 76/150\n",
      "404/404 [==============================] - 0s 85us/sample - loss: 586.1605 - mse: 586.1605 - val_loss: 615.8578 - val_mse: 615.8578\n",
      "Epoch 77/150\n",
      "404/404 [==============================] - 0s 71us/sample - loss: 586.1605 - mse: 586.1605 - val_loss: 615.8578 - val_mse: 615.8578\n",
      "Epoch 78/150\n",
      "404/404 [==============================] - 0s 100us/sample - loss: 586.1605 - mse: 586.1605 - val_loss: 615.8578 - val_mse: 615.8578\n",
      "Epoch 79/150\n",
      "404/404 [==============================] - 0s 73us/sample - loss: 586.1605 - mse: 586.1605 - val_loss: 615.8578 - val_mse: 615.8578\n",
      "Epoch 80/150\n",
      "404/404 [==============================] - 0s 55us/sample - loss: 586.1605 - mse: 586.1605 - val_loss: 615.8578 - val_mse: 615.8578\n",
      "Epoch 81/150\n",
      "404/404 [==============================] - 0s 59us/sample - loss: 586.1605 - mse: 586.1605 - val_loss: 615.8578 - val_mse: 615.8578\n",
      "Epoch 82/150\n",
      "404/404 [==============================] - 0s 94us/sample - loss: 586.1605 - mse: 586.1605 - val_loss: 615.8578 - val_mse: 615.8578\n",
      "Epoch 83/150\n",
      "404/404 [==============================] - 0s 62us/sample - loss: 586.1605 - mse: 586.1605 - val_loss: 615.8578 - val_mse: 615.8578\n",
      "Epoch 84/150\n",
      "404/404 [==============================] - 0s 60us/sample - loss: 586.1605 - mse: 586.1605 - val_loss: 615.8578 - val_mse: 615.8578\n",
      "Epoch 85/150\n",
      "404/404 [==============================] - 0s 59us/sample - loss: 586.1605 - mse: 586.1605 - val_loss: 615.8578 - val_mse: 615.8578\n",
      "Epoch 86/150\n",
      "404/404 [==============================] - 0s 60us/sample - loss: 586.1605 - mse: 586.1605 - val_loss: 615.8578 - val_mse: 615.8578\n",
      "Epoch 87/150\n",
      "404/404 [==============================] - 0s 78us/sample - loss: 586.1605 - mse: 586.1605 - val_loss: 615.8578 - val_mse: 615.8578\n",
      "Epoch 88/150\n",
      "404/404 [==============================] - 0s 53us/sample - loss: 586.1605 - mse: 586.1605 - val_loss: 615.8578 - val_mse: 615.8578\n",
      "Epoch 89/150\n",
      "404/404 [==============================] - 0s 79us/sample - loss: 586.1605 - mse: 586.1605 - val_loss: 615.8578 - val_mse: 615.8578\n",
      "Epoch 90/150\n",
      "404/404 [==============================] - 0s 53us/sample - loss: 586.1605 - mse: 586.1605 - val_loss: 615.8578 - val_mse: 615.8578\n",
      "Epoch 91/150\n",
      "404/404 [==============================] - 0s 62us/sample - loss: 586.1605 - mse: 586.1605 - val_loss: 615.8578 - val_mse: 615.8578\n",
      "Epoch 92/150\n",
      "404/404 [==============================] - 0s 77us/sample - loss: 586.1605 - mse: 586.1605 - val_loss: 615.8578 - val_mse: 615.8578\n",
      "Epoch 93/150\n",
      "404/404 [==============================] - 0s 46us/sample - loss: 586.1605 - mse: 586.1605 - val_loss: 615.8578 - val_mse: 615.8578\n",
      "Epoch 94/150\n",
      "404/404 [==============================] - 0s 100us/sample - loss: 586.1605 - mse: 586.1605 - val_loss: 615.8578 - val_mse: 615.8578\n",
      "Epoch 95/150\n",
      "404/404 [==============================] - 0s 73us/sample - loss: 586.1605 - mse: 586.1605 - val_loss: 615.8578 - val_mse: 615.8578\n",
      "Epoch 96/150\n",
      "404/404 [==============================] - 0s 54us/sample - loss: 586.1605 - mse: 586.1605 - val_loss: 615.8578 - val_mse: 615.8578\n",
      "Epoch 97/150\n",
      "404/404 [==============================] - 0s 58us/sample - loss: 586.1605 - mse: 586.1605 - val_loss: 615.8578 - val_mse: 615.8578\n",
      "Epoch 98/150\n",
      "404/404 [==============================] - 0s 61us/sample - loss: 586.1605 - mse: 586.1605 - val_loss: 615.8578 - val_mse: 615.8578\n",
      "Epoch 99/150\n",
      "404/404 [==============================] - 0s 91us/sample - loss: 586.1605 - mse: 586.1605 - val_loss: 615.8578 - val_mse: 615.8578\n",
      "Epoch 100/150\n",
      "404/404 [==============================] - 0s 61us/sample - loss: 586.1605 - mse: 586.1605 - val_loss: 615.8578 - val_mse: 615.8578\n",
      "Epoch 101/150\n",
      "404/404 [==============================] - 0s 54us/sample - loss: 586.1605 - mse: 586.1605 - val_loss: 615.8578 - val_mse: 615.8578\n",
      "Epoch 102/150\n",
      "404/404 [==============================] - 0s 50us/sample - loss: 586.1605 - mse: 586.1605 - val_loss: 615.8578 - val_mse: 615.8578\n",
      "Epoch 103/150\n",
      "404/404 [==============================] - 0s 71us/sample - loss: 586.1605 - mse: 586.1605 - val_loss: 615.8578 - val_mse: 615.8578\n",
      "Epoch 104/150\n",
      "404/404 [==============================] - 0s 80us/sample - loss: 586.1605 - mse: 586.1605 - val_loss: 615.8578 - val_mse: 615.8578\n",
      "Epoch 105/150\n",
      "404/404 [==============================] - 0s 50us/sample - loss: 586.1605 - mse: 586.1605 - val_loss: 615.8578 - val_mse: 615.8578\n",
      "Epoch 106/150\n",
      "404/404 [==============================] - 0s 73us/sample - loss: 586.1605 - mse: 586.1605 - val_loss: 615.8578 - val_mse: 615.8578\n",
      "Epoch 107/150\n",
      "404/404 [==============================] - 0s 71us/sample - loss: 586.1605 - mse: 586.1605 - val_loss: 615.8578 - val_mse: 615.8578\n",
      "Epoch 108/150\n",
      "404/404 [==============================] - 0s 47us/sample - loss: 586.1605 - mse: 586.1605 - val_loss: 615.8578 - val_mse: 615.8578\n",
      "Epoch 109/150\n",
      "404/404 [==============================] - 0s 66us/sample - loss: 586.1605 - mse: 586.1605 - val_loss: 615.8578 - val_mse: 615.8578\n",
      "Epoch 110/150\n",
      "404/404 [==============================] - 0s 63us/sample - loss: 586.1605 - mse: 586.1605 - val_loss: 615.8578 - val_mse: 615.8578\n",
      "Epoch 111/150\n",
      "404/404 [==============================] - 0s 86us/sample - loss: 586.1605 - mse: 586.1605 - val_loss: 615.8578 - val_mse: 615.8578\n",
      "Epoch 112/150\n",
      "404/404 [==============================] - 0s 46us/sample - loss: 586.1605 - mse: 586.1605 - val_loss: 615.8578 - val_mse: 615.8578\n",
      "Epoch 113/150\n",
      "404/404 [==============================] - 0s 57us/sample - loss: 586.1605 - mse: 586.1605 - val_loss: 615.8578 - val_mse: 615.8578\n",
      "Epoch 114/150\n",
      "404/404 [==============================] - 0s 57us/sample - loss: 586.1605 - mse: 586.1605 - val_loss: 615.8578 - val_mse: 615.8578\n",
      "Epoch 115/150\n",
      "404/404 [==============================] - 0s 69us/sample - loss: 586.1605 - mse: 586.1605 - val_loss: 615.8578 - val_mse: 615.8578\n",
      "Epoch 116/150\n",
      "404/404 [==============================] - 0s 62us/sample - loss: 586.1605 - mse: 586.1605 - val_loss: 615.8578 - val_mse: 615.8578\n",
      "Epoch 117/150\n",
      "404/404 [==============================] - 0s 69us/sample - loss: 586.1605 - mse: 586.1605 - val_loss: 615.8578 - val_mse: 615.8578\n",
      "Epoch 118/150\n",
      "404/404 [==============================] - 0s 58us/sample - loss: 586.1605 - mse: 586.1605 - val_loss: 615.8578 - val_mse: 615.8578\n",
      "Epoch 119/150\n",
      "404/404 [==============================] - 0s 49us/sample - loss: 586.1605 - mse: 586.1605 - val_loss: 615.8578 - val_mse: 615.8578\n",
      "Epoch 120/150\n",
      "404/404 [==============================] - 0s 64us/sample - loss: 586.1605 - mse: 586.1605 - val_loss: 615.8578 - val_mse: 615.8578\n",
      "Epoch 121/150\n",
      "404/404 [==============================] - 0s 60us/sample - loss: 586.1605 - mse: 586.1605 - val_loss: 615.8578 - val_mse: 615.8578\n",
      "Epoch 122/150\n",
      "404/404 [==============================] - 0s 84us/sample - loss: 586.1605 - mse: 586.1605 - val_loss: 615.8578 - val_mse: 615.8578\n",
      "Epoch 123/150\n",
      "404/404 [==============================] - 0s 60us/sample - loss: 586.1605 - mse: 586.1605 - val_loss: 615.8578 - val_mse: 615.8578\n",
      "Epoch 124/150\n",
      "404/404 [==============================] - 0s 70us/sample - loss: 586.1605 - mse: 586.1605 - val_loss: 615.8578 - val_mse: 615.8578\n",
      "Epoch 125/150\n",
      "404/404 [==============================] - 0s 84us/sample - loss: 586.1605 - mse: 586.1605 - val_loss: 615.8578 - val_mse: 615.8578\n",
      "Epoch 126/150\n",
      "404/404 [==============================] - 0s 53us/sample - loss: 586.1605 - mse: 586.1605 - val_loss: 615.8578 - val_mse: 615.8578\n",
      "Epoch 127/150\n",
      "404/404 [==============================] - 0s 57us/sample - loss: 586.1605 - mse: 586.1605 - val_loss: 615.8578 - val_mse: 615.8578\n",
      "Epoch 128/150\n",
      "404/404 [==============================] - 0s 74us/sample - loss: 586.1605 - mse: 586.1605 - val_loss: 615.8578 - val_mse: 615.8578\n",
      "Epoch 129/150\n",
      "404/404 [==============================] - 0s 83us/sample - loss: 586.1605 - mse: 586.1605 - val_loss: 615.8578 - val_mse: 615.8578\n",
      "Epoch 130/150\n",
      "404/404 [==============================] - 0s 57us/sample - loss: 586.1605 - mse: 586.1605 - val_loss: 615.8578 - val_mse: 615.8578\n",
      "Epoch 131/150\n",
      "404/404 [==============================] - 0s 77us/sample - loss: 586.1605 - mse: 586.1605 - val_loss: 615.8578 - val_mse: 615.8578\n",
      "Epoch 132/150\n",
      "404/404 [==============================] - 0s 96us/sample - loss: 586.1605 - mse: 586.1605 - val_loss: 615.8578 - val_mse: 615.8578\n",
      "Epoch 133/150\n",
      "404/404 [==============================] - 0s 61us/sample - loss: 586.1605 - mse: 586.1605 - val_loss: 615.8578 - val_mse: 615.8578\n",
      "Epoch 134/150\n",
      "404/404 [==============================] - 0s 63us/sample - loss: 586.1605 - mse: 586.1605 - val_loss: 615.8578 - val_mse: 615.8578\n",
      "Epoch 135/150\n",
      "404/404 [==============================] - 0s 60us/sample - loss: 586.1605 - mse: 586.1605 - val_loss: 615.8578 - val_mse: 615.8578\n",
      "Epoch 136/150\n",
      "404/404 [==============================] - 0s 82us/sample - loss: 586.1605 - mse: 586.1605 - val_loss: 615.8578 - val_mse: 615.8578\n",
      "Epoch 137/150\n",
      "404/404 [==============================] - 0s 61us/sample - loss: 586.1605 - mse: 586.1605 - val_loss: 615.8578 - val_mse: 615.8578\n",
      "Epoch 138/150\n",
      "404/404 [==============================] - 0s 68us/sample - loss: 586.1605 - mse: 586.1605 - val_loss: 615.8578 - val_mse: 615.8578\n",
      "Epoch 139/150\n",
      "404/404 [==============================] - 0s 82us/sample - loss: 586.1605 - mse: 586.1605 - val_loss: 615.8578 - val_mse: 615.8578\n",
      "Epoch 140/150\n",
      "404/404 [==============================] - 0s 64us/sample - loss: 586.1605 - mse: 586.1605 - val_loss: 615.8578 - val_mse: 615.8578\n",
      "Epoch 141/150\n",
      "404/404 [==============================] - 0s 72us/sample - loss: 586.1605 - mse: 586.1605 - val_loss: 615.8578 - val_mse: 615.8578\n",
      "Epoch 142/150\n",
      "404/404 [==============================] - 0s 53us/sample - loss: 586.1605 - mse: 586.1605 - val_loss: 615.8578 - val_mse: 615.8578\n",
      "Epoch 143/150\n",
      "404/404 [==============================] - 0s 78us/sample - loss: 586.1605 - mse: 586.1605 - val_loss: 615.8578 - val_mse: 615.8578\n",
      "Epoch 144/150\n",
      "404/404 [==============================] - 0s 64us/sample - loss: 586.1605 - mse: 586.1605 - val_loss: 615.8578 - val_mse: 615.8578\n",
      "Epoch 145/150\n",
      "404/404 [==============================] - 0s 84us/sample - loss: 586.1605 - mse: 586.1605 - val_loss: 615.8578 - val_mse: 615.8578\n",
      "Epoch 146/150\n",
      "404/404 [==============================] - 0s 71us/sample - loss: 586.1605 - mse: 586.1605 - val_loss: 615.8578 - val_mse: 615.8578\n",
      "Epoch 147/150\n",
      "404/404 [==============================] - 0s 78us/sample - loss: 586.1605 - mse: 586.1605 - val_loss: 615.8578 - val_mse: 615.8578\n",
      "Epoch 148/150\n",
      "404/404 [==============================] - 0s 74us/sample - loss: 586.1605 - mse: 586.1605 - val_loss: 615.8578 - val_mse: 615.8578\n",
      "Epoch 149/150\n",
      "404/404 [==============================] - 0s 81us/sample - loss: 586.1605 - mse: 586.1605 - val_loss: 615.8578 - val_mse: 615.8578\n",
      "Epoch 150/150\n",
      "404/404 [==============================] - 0s 55us/sample - loss: 586.1605 - mse: 586.1605 - val_loss: 615.8578 - val_mse: 615.8578\n"
     ]
    },
    {
     "data": {
      "text/plain": [
       "<tensorflow.python.keras.callbacks.History at 0x7f2ca8356be0>"
      ]
     },
     "execution_count": 35,
     "metadata": {},
     "output_type": "execute_result"
    }
   ],
   "source": [
    "from tensorflow.keras.models import Sequential\n",
    "from tensorflow.keras.layers import Flatten, Dense\n",
    "model = Sequential([\n",
    "    Flatten(),\n",
    "    Dense(15, input_dim=13, activation=\"relu\"),\n",
    "    Dense(1, activation=\"relu\")\n",
    "])\n",
    "\n",
    "\n",
    "model.compile(loss='mean_squared_error', optimizer='adam', metrics=['mse'])\n",
    "\n",
    "model.fit(x=X_train, \n",
    "        y=y_train, \n",
    "        epochs=150, \n",
    "        validation_data=(X_test, y_test))"
   ]
  },
  {
   "cell_type": "code",
   "execution_count": 5,
   "metadata": {},
   "outputs": [],
   "source": [
    "hist = model.history.history"
   ]
  },
  {
   "cell_type": "code",
   "execution_count": 30,
   "metadata": {},
   "outputs": [
    {
     "data": {
      "image/png": "[encoded data removed]",
      "text/plain": [
       "<Figure size 432x288 with 1 Axes>"
      ]
     },
     "metadata": {
      "needs_background": "light"
     },
     "output_type": "display_data"
    }
   ],
   "source": [
    "import matplotlib.pyplot as plt\n",
    "import numpy as np\n",
    "\n",
    "plt.plot(hist['loss'], label='loss (train)')\n",
    "plt.plot(hist['val_loss'], label='loss (test)')\n",
    "# plt.xticks(np.arange(0, 5), ('1','2','3','4','5'))\n",
    "plt.xlabel('# of epochs')\n",
    "plt.ylabel('loss values')\n",
    "plt.legend();"
   ]
  },
  {
   "cell_type": "code",
   "execution_count": 8,
   "metadata": {},
   "outputs": [
    {
     "data": {
      "text/plain": [
       "(22.77423909605731, 18.16551049349646)"
      ]
     },
     "execution_count": 8,
     "metadata": {},
     "output_type": "execute_result"
    }
   ],
   "source": [
    "from sklearn.linear_model import LinearRegression\n",
    "from sklearn.metrics import mean_squared_error\n",
    "\n",
    "model = LinearRegression()\n",
    "\n",
    "\n",
    "model.fit(X_train, y_train)\n",
    "\n",
    "y_pred_train = model.predict(X_train)\n",
    "y_pred = model.predict(X_test)\n",
    "\n",
    "mean_squared_error(y_train, y_pred_train), mean_squared_error(y_test, y_pred)"
   ]
  },
  {
   "cell_type": "markdown",
   "metadata": {
    "colab_type": "text",
    "id": "SfcFnOONyuNm"
   },
   "source": [
    "## Use the Keras Library to build an image recognition network using the Fashion-MNIST dataset (also comes with keras)\n",
    "\n",
    "- Load and preprocess the image data similar to how we preprocessed the MNIST data in class.\n",
    "- Make sure to one-hot encode your category labels\n",
    "- The number of nodes in your output layer should equal the number of classes you want to predict for Fashion-MNIST.\n",
    "- Try different hyperparameters. What is the highest accuracy that you are able to achieve.\n",
    "- Use the history object that is returned from model.fit to make graphs of the model's loss or train/validation accuracies by epoch. \n",
    "- Remember that neural networks fall prey to randomness so you may need to run your model multiple times (or use Cross Validation) in order to tell if a change to a hyperparameter is truly producing better results."
   ]
  },
  {
   "cell_type": "code",
   "execution_count": 55,
   "metadata": {
    "colab": {},
    "colab_type": "code",
    "id": "szi6-IpuzaH1"
   },
   "outputs": [],
   "source": [
    "##### Your Code Here #####\n",
    "from tensorflow.keras.datasets import fashion_mnist\n",
    "\n",
    "(X_train, y_train), (X_test, y_test) = fashion_mnist.load_data()"
   ]
  },
  {
   "cell_type": "code",
   "execution_count": 56,
   "metadata": {},
   "outputs": [],
   "source": [
    "from tensorflow.keras.utils import to_categorical\n",
    "\n",
    "y_train = to_categorical(y_train)\n",
    "y_test = to_categorical(y_test)"
   ]
  },
  {
   "cell_type": "code",
   "execution_count": 57,
   "metadata": {},
   "outputs": [
    {
     "data": {
      "text/plain": [
       "(60000, 28, 28)"
      ]
     },
     "execution_count": 57,
     "metadata": {},
     "output_type": "execute_result"
    }
   ],
   "source": [
    "X_train.shape"
   ]
  },
  {
   "cell_type": "code",
   "execution_count": 58,
   "metadata": {},
   "outputs": [
    {
     "name": "stdout",
     "output_type": "stream",
     "text": [
      "Train on 60000 samples, validate on 10000 samples\n",
      "Epoch 1/15\n",
      "60000/60000 [==============================] - 17s 285us/sample - loss: 1.5518 - accuracy: 0.7848 - val_loss: 0.5136 - val_accuracy: 0.8202\n",
      "Epoch 2/15\n",
      "60000/60000 [==============================] - 17s 278us/sample - loss: 0.4627 - accuracy: 0.8346 - val_loss: 0.4370 - val_accuracy: 0.8495\n",
      "Epoch 3/15\n",
      "60000/60000 [==============================] - 16s 269us/sample - loss: 0.4186 - accuracy: 0.8518 - val_loss: 0.4441 - val_accuracy: 0.8454\n",
      "Epoch 4/15\n",
      "60000/60000 [==============================] - 16s 268us/sample - loss: 0.3964 - accuracy: 0.8590 - val_loss: 0.4084 - val_accuracy: 0.8555\n",
      "Epoch 5/15\n",
      "60000/60000 [==============================] - 17s 278us/sample - loss: 0.3790 - accuracy: 0.8670 - val_loss: 0.4300 - val_accuracy: 0.8541\n",
      "Epoch 6/15\n",
      "60000/60000 [==============================] - 16s 273us/sample - loss: 0.3673 - accuracy: 0.8701 - val_loss: 0.4231 - val_accuracy: 0.8447\n",
      "Epoch 7/15\n",
      "60000/60000 [==============================] - 16s 269us/sample - loss: 0.3526 - accuracy: 0.8753 - val_loss: 0.4054 - val_accuracy: 0.8592\n",
      "Epoch 8/15\n",
      "60000/60000 [==============================] - 16s 273us/sample - loss: 0.3501 - accuracy: 0.8793 - val_loss: 0.4719 - val_accuracy: 0.8383\n",
      "Epoch 9/15\n",
      "60000/60000 [==============================] - 17s 277us/sample - loss: 0.3294 - accuracy: 0.8835 - val_loss: 0.3983 - val_accuracy: 0.8696\n",
      "Epoch 10/15\n",
      "60000/60000 [==============================] - 17s 284us/sample - loss: 0.3315 - accuracy: 0.8827 - val_loss: 0.3926 - val_accuracy: 0.8712\n",
      "Epoch 11/15\n",
      "60000/60000 [==============================] - 17s 276us/sample - loss: 0.3235 - accuracy: 0.8856 - val_loss: 0.4190 - val_accuracy: 0.8644\n",
      "Epoch 12/15\n",
      "60000/60000 [==============================] - 17s 281us/sample - loss: 0.3131 - accuracy: 0.8896 - val_loss: 0.3916 - val_accuracy: 0.8735\n",
      "Epoch 13/15\n",
      "60000/60000 [==============================] - 17s 284us/sample - loss: 0.3101 - accuracy: 0.8915 - val_loss: 0.4481 - val_accuracy: 0.8651\n",
      "Epoch 14/15\n",
      "60000/60000 [==============================] - 16s 272us/sample - loss: 0.2999 - accuracy: 0.8934 - val_loss: 0.4546 - val_accuracy: 0.8527\n",
      "Epoch 15/15\n",
      "60000/60000 [==============================] - 17s 284us/sample - loss: 0.2943 - accuracy: 0.8957 - val_loss: 0.4655 - val_accuracy: 0.8653\n"
     ]
    },
    {
     "data": {
      "text/plain": [
       "<tensorflow.python.keras.callbacks.History at 0x7f2c3c647780>"
      ]
     },
     "execution_count": 58,
     "metadata": {},
     "output_type": "execute_result"
    }
   ],
   "source": [
    "from tensorflow.keras.models import Sequential\n",
    "from tensorflow.keras.layers import Flatten, Dense\n",
    "model = Sequential([\n",
    "    Flatten(),\n",
    "    Dense(784, input_dim=28, activation=\"relu\"),\n",
    "    Dense(784, activation=\"relu\"),\n",
    "    Dense(784, activation=\"relu\"),\n",
    "    Dense(10, activation=\"softmax\")\n",
    "])\n",
    "\n",
    "\n",
    "model.compile(loss='categorical_crossentropy', optimizer='adam', metrics=['accuracy'])\n",
    "\n",
    "model.fit(x=X_train, \n",
    "        y=y_train, \n",
    "        epochs=15, \n",
    "        validation_data=(X_test, y_test))"
   ]
  },
  {
   "cell_type": "code",
   "execution_count": 60,
   "metadata": {},
   "outputs": [],
   "source": [
    "hist1 = model.history.history"
   ]
  },
  {
   "cell_type": "code",
   "execution_count": 64,
   "metadata": {},
   "outputs": [
    {
     "data": {
      "image/png": "[encoded data removed]",
      "text/plain": [
       "<Figure size 432x288 with 1 Axes>"
      ]
     },
     "metadata": {
      "needs_background": "light"
     },
     "output_type": "display_data"
    }
   ],
   "source": [
    "plt.plot(hist1['loss'], label='loss (train)')\n",
    "plt.plot(hist1['val_loss'], label='loss (test)')\n",
    "# plt.xticks(np.arange(0, 5), ('1','2','3','4','5'))\n",
    "plt.xlabel('# of epochs')\n",
    "plt.ylabel('loss values')\n",
    "plt.legend();"
   ]
  },
  {
   "cell_type": "markdown",
   "metadata": {
    "colab_type": "text",
    "id": "zv_3xNMjzdLI"
   },
   "source": [
    "## Stretch Goals:\n",
    "\n",
    "- Use Hyperparameter Tuning to make the accuracy of your models as high as possible. (error as low as possible)\n",
    "- Use Cross Validation techniques to get more consistent results with your model.\n",
    "- Use GridSearchCV to try different combinations of hyperparameters. \n",
    "- Start looking into other types of Keras layers for CNNs and RNNs maybe try and build a CNN model for fashion-MNIST to see how the results compare."
   ]
  }
 ],
 "metadata": {
  "colab": {
   "name": "LS_DS_433_Keras_Assignment.ipynb",
   "provenance": [],
   "version": "0.3.2"
  },
  "kernelspec": {
   "display_name": "U4-S2-NN (Python3)",
   "language": "python",
   "name": "u4-sprint2"
  },
  "language_info": {
   "codemirror_mode": {
    "name": "ipython",
    "version": 3
   },
   "file_extension": ".py",
   "mimetype": "text/x-python",
   "name": "python",
   "nbconvert_exporter": "python",
   "pygments_lexer": "ipython3",
   "version": "3.7.0"
  }
 },
 "nbformat": 4,
 "nbformat_minor": 4
}
