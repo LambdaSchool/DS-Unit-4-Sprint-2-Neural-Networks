{
 "cells": [
  {
   "cell_type": "markdown",
   "metadata": {
    "colab_type": "text",
    "id": "pBQsZEJmubLs"
   },
   "source": [
    "<img align=\"left\" src=\"https://lever-client-logos.s3.amazonaws.com/864372b1-534c-480e-acd5-9711f850815c-1524247202159.png\" width=200>\n",
    "<br></br>\n",
    "\n",
    "# Neural Network Framework (Keras)\n",
    "\n",
    "## *Data Science Unit 4 Sprint 2 Assignmnet 3*\n",
    "\n",
    "## Use the Keras Library to build a Multi-Layer Perceptron Model on the Boston Housing dataset\n",
    "\n",
    "- The Boston Housing dataset comes with the Keras library so use Keras to import it into your notebook. \n",
    "- Normalize the data (all features should have roughly the same scale)\n",
    "- Import the type of model and layers that you will need from Keras.\n",
    "- Instantiate a model object and use `model.add()` to add layers to your model\n",
    "- Since this is a regression model you will have a single output node in the final layer.\n",
    "- Use activation functions that are appropriate for this task\n",
    "- Compile your model\n",
    "- Fit your model and report its accuracy in terms of Mean Squared Error\n",
    "- Use the history object that is returned from model.fit to make graphs of the model's loss or train/validation accuracies by epoch. \n",
    "- Run this same data through a linear regression model. Which achieves higher accuracy?\n",
    "- Do a little bit of feature engineering and see how that affects your neural network model. (you will need to change your model to accept more inputs)\n",
    "- After feature engineering, which model sees a greater accuracy boost due to the new features?"
   ]
  },
  {
   "cell_type": "code",
   "execution_count": 20,
   "metadata": {
    "colab": {},
    "colab_type": "code",
    "id": "8NLTAR87uYJ-"
   },
   "outputs": [],
   "source": [
    "import numpy as np \n",
    "import pandas as pd \n",
    "import matplotlib.pyplot as plt\n",
    "import keras\n",
    "from keras.models import Sequential\n",
    "from keras.layers import Dense\n",
    "from sklearn.metrics import mean_squared_error, mean_absolute_error\n",
    "from keras.wrappers.scikit_learn import KerasRegressor\n",
    "from sklearn.model_selection import cross_val_score\n",
    "from sklearn.model_selection import KFold\n",
    "from sklearn.preprocessing import StandardScaler\n",
    "from sklearn.pipeline import Pipeline\n",
    "from keras.datasets import boston_housing\n",
    "from tensorflow.keras.datasets import mnist\n",
    "from tensorflow.keras.models import Sequential\n",
    "from tensorflow.keras.layers import Dense, Dropout\n",
    "from sklearn.model_selection import GridSearchCV"
   ]
  },
  {
   "cell_type": "code",
   "execution_count": 2,
   "metadata": {},
   "outputs": [],
   "source": [
    "(X_train, y_train), (X_test, y_test) = boston_housing.load_data()\n",
    "\n",
    "scaler = StandardScaler()\n",
    "\n",
    "X_train = scaler.fit_transform(X_train)\n",
    "X_test = scaler.transform(X_test)"
   ]
  },
  {
   "cell_type": "code",
   "execution_count": 3,
   "metadata": {},
   "outputs": [],
   "source": [
    "def model_structure():\n",
    "    model = Sequential()\n",
    "    model.add(Dense(64, activation='relu', input_shape=(X_train.shape[1],)))\n",
    "    model.add(Dropout(0.2))\n",
    "    model.add(Dense(64, activation='relu'))\n",
    "    model.add(Dropout(0.2))\n",
    "    model.add(Dense(32, activation='relu'))\n",
    "    model.add(Dense(1))\n",
    "\n",
    "    model.compile(optimizer='rmsprop', loss='mse', metrics=['mse', 'mae'])\n",
    "    return model"
   ]
  },
  {
   "cell_type": "code",
   "execution_count": 4,
   "metadata": {},
   "outputs": [],
   "source": [
    "model = KerasRegressor(build_fn=model_structure, verbose=0)"
   ]
  },
  {
   "cell_type": "code",
   "execution_count": 5,
   "metadata": {},
   "outputs": [
    {
     "name": "stderr",
     "output_type": "stream",
     "text": [
      "/home/j_m/.local/lib/python3.6/site-packages/sklearn/model_selection/_split.py:2053: FutureWarning: You should specify a value for 'cv' instead of relying on the default value. The default value will change from 3 to 5 in version 0.22.\n",
      "  warnings.warn(CV_WARNING, FutureWarning)\n",
      "/home/j_m/.local/lib/python3.6/site-packages/sklearn/model_selection/_search.py:841: DeprecationWarning: The default of the `iid` parameter will change from True to False in version 0.22 and will be removed in 0.24. This will change numeric results when test-set sizes are unequal.\n",
      "  DeprecationWarning)\n"
     ]
    },
    {
     "name": "stdout",
     "output_type": "stream",
     "text": [
      "Best: -11.793835601299117 using {'batch_size': 10, 'epochs': 50}\n",
      "Means: -16.09443866055791, Stdev: 3.065640012993628 with: {'batch_size': 10, 'epochs': 20}\n",
      "Means: -11.793835601299117, Stdev: 2.773117878126645 with: {'batch_size': 10, 'epochs': 50}\n",
      "Means: -12.124990610202941, Stdev: 2.934892038495527 with: {'batch_size': 10, 'epochs': 100}\n",
      "Means: -17.390336209004467, Stdev: 3.9657931251372203 with: {'batch_size': 20, 'epochs': 20}\n",
      "Means: -14.338109790688694, Stdev: 4.968053624547526 with: {'batch_size': 20, 'epochs': 50}\n",
      "Means: -11.973049737439297, Stdev: 3.6644838253923955 with: {'batch_size': 20, 'epochs': 100}\n",
      "Means: -20.063210107312344, Stdev: 5.973770164149739 with: {'batch_size': 40, 'epochs': 20}\n",
      "Means: -14.511469527046279, Stdev: 1.9951885402322558 with: {'batch_size': 40, 'epochs': 50}\n",
      "Means: -13.368844676725935, Stdev: 1.7703436610146182 with: {'batch_size': 40, 'epochs': 100}\n",
      "Means: -26.592097591645647, Stdev: 10.92038890501889 with: {'batch_size': 60, 'epochs': 20}\n",
      "Means: -14.28780730880133, Stdev: 2.2898492462187745 with: {'batch_size': 60, 'epochs': 50}\n",
      "Means: -14.716347812425973, Stdev: 5.09951953797793 with: {'batch_size': 60, 'epochs': 100}\n",
      "Means: -30.70096695777213, Stdev: 7.1835489828938695 with: {'batch_size': 80, 'epochs': 20}\n",
      "Means: -15.964295403792127, Stdev: 4.264263231264206 with: {'batch_size': 80, 'epochs': 50}\n",
      "Means: -13.89518710174183, Stdev: 3.712612846780157 with: {'batch_size': 80, 'epochs': 100}\n",
      "Means: -47.666328014713706, Stdev: 20.006562888146647 with: {'batch_size': 100, 'epochs': 20}\n",
      "Means: -17.892361442641455, Stdev: 5.125386184277488 with: {'batch_size': 100, 'epochs': 50}\n",
      "Means: -13.643640076760018, Stdev: 2.643834657794395 with: {'batch_size': 100, 'epochs': 100}\n"
     ]
    }
   ],
   "source": [
    "grid_params = {'batch_size': [10, 20, 40, 60, 80, 100],\n",
    "                  'epochs': [20,50,100]}\n",
    "\n",
    "grid = GridSearchCV(estimator=model, param_grid=grid_params, n_jobs=6)\n",
    "grid_result = grid.fit(X_train, y_train)\n",
    "\n",
    "# Report Results\n",
    "print(f\"Best: {grid_result.best_score_} using {grid_result.best_params_}\")\n",
    "means = grid_result.cv_results_['mean_test_score']\n",
    "stds = grid_result.cv_results_['std_test_score']\n",
    "params = grid_result.cv_results_['params']\n",
    "for mean, stdev, param in zip(means, stds, params):\n",
    "    print(f\"Means: {mean}, Stdev: {stdev} with: {param}\") "
   ]
  },
  {
   "cell_type": "code",
   "execution_count": 6,
   "metadata": {},
   "outputs": [
    {
     "data": {
      "text/plain": [
       "(19.886206795335266, 2.9848311424255374)"
      ]
     },
     "execution_count": 6,
     "metadata": {},
     "output_type": "execute_result"
    }
   ],
   "source": [
    "pred = grid_result.predict(X_test)\n",
    "mse = mean_squared_error(y_test, pred)\n",
    "mae = mean_absolute_error(y_test, pred)\n",
    "mse, mae"
   ]
  },
  {
   "cell_type": "code",
   "execution_count": 9,
   "metadata": {},
   "outputs": [
    {
     "name": "stdout",
     "output_type": "stream",
     "text": [
      "Train on 343 samples, validate on 61 samples\n",
      "Epoch 1/100\n",
      "343/343 [==============================] - 1s 2ms/sample - loss: 402.4059 - mse: 402.4058 - mae: 17.5013 - val_loss: 285.8745 - val_mse: 285.8745 - val_mae: 14.2246\n",
      "Epoch 2/100\n",
      "343/343 [==============================] - 0s 210us/sample - loss: 121.2744 - mse: 121.2744 - mae: 8.3069 - val_loss: 88.0289 - val_mse: 88.0289 - val_mae: 6.8244\n",
      "Epoch 3/100\n",
      "343/343 [==============================] - 0s 218us/sample - loss: 61.9851 - mse: 61.9851 - mae: 5.6964 - val_loss: 47.6506 - val_mse: 47.6506 - val_mae: 5.0495\n",
      "Epoch 4/100\n",
      "343/343 [==============================] - 0s 214us/sample - loss: 42.9380 - mse: 42.9380 - mae: 4.7284 - val_loss: 32.3369 - val_mse: 32.3369 - val_mae: 4.0968\n",
      "Epoch 5/100\n",
      "343/343 [==============================] - 0s 209us/sample - loss: 34.0459 - mse: 34.0459 - mae: 4.1530 - val_loss: 21.9833 - val_mse: 21.9833 - val_mae: 3.4727\n",
      "Epoch 6/100\n",
      "343/343 [==============================] - 0s 215us/sample - loss: 30.8120 - mse: 30.8120 - mae: 4.1309 - val_loss: 23.3435 - val_mse: 23.3435 - val_mae: 3.3421\n",
      "Epoch 7/100\n",
      "343/343 [==============================] - 0s 197us/sample - loss: 24.9085 - mse: 24.9085 - mae: 3.5829 - val_loss: 19.4063 - val_mse: 19.4063 - val_mae: 3.1929\n",
      "Epoch 8/100\n",
      "343/343 [==============================] - 0s 201us/sample - loss: 32.4929 - mse: 32.4930 - mae: 4.0080 - val_loss: 15.3396 - val_mse: 15.3396 - val_mae: 2.9233\n",
      "Epoch 9/100\n",
      "343/343 [==============================] - 0s 208us/sample - loss: 26.0342 - mse: 26.0342 - mae: 3.7473 - val_loss: 14.1487 - val_mse: 14.1487 - val_mae: 2.8123\n",
      "Epoch 10/100\n",
      "343/343 [==============================] - 0s 206us/sample - loss: 20.6784 - mse: 20.6784 - mae: 3.2674 - val_loss: 15.5675 - val_mse: 15.5675 - val_mae: 2.9467\n",
      "Epoch 11/100\n",
      "343/343 [==============================] - 0s 205us/sample - loss: 22.9831 - mse: 22.9831 - mae: 3.5559 - val_loss: 13.4758 - val_mse: 13.4758 - val_mae: 2.8019\n",
      "Epoch 12/100\n",
      "343/343 [==============================] - 0s 195us/sample - loss: 22.6411 - mse: 22.6411 - mae: 3.5448 - val_loss: 11.9566 - val_mse: 11.9566 - val_mae: 2.7646\n",
      "Epoch 13/100\n",
      "343/343 [==============================] - 0s 209us/sample - loss: 23.1707 - mse: 23.1707 - mae: 3.4649 - val_loss: 12.5137 - val_mse: 12.5137 - val_mae: 2.8711\n",
      "Epoch 14/100\n",
      "343/343 [==============================] - 0s 208us/sample - loss: 20.6476 - mse: 20.6476 - mae: 3.3414 - val_loss: 10.9823 - val_mse: 10.9823 - val_mae: 2.5881\n",
      "Epoch 15/100\n",
      "343/343 [==============================] - 0s 205us/sample - loss: 20.5850 - mse: 20.5850 - mae: 3.3407 - val_loss: 11.8207 - val_mse: 11.8207 - val_mae: 2.6411\n",
      "Epoch 16/100\n",
      "343/343 [==============================] - 0s 207us/sample - loss: 18.7283 - mse: 18.7283 - mae: 3.2272 - val_loss: 13.0262 - val_mse: 13.0262 - val_mae: 2.9999\n",
      "Epoch 17/100\n",
      "343/343 [==============================] - 0s 208us/sample - loss: 18.0752 - mse: 18.0752 - mae: 3.1848 - val_loss: 10.8801 - val_mse: 10.8801 - val_mae: 2.7017\n",
      "Epoch 18/100\n",
      "343/343 [==============================] - 0s 212us/sample - loss: 19.7700 - mse: 19.7700 - mae: 3.3473 - val_loss: 12.5356 - val_mse: 12.5356 - val_mae: 2.6732\n",
      "Epoch 19/100\n",
      "343/343 [==============================] - 0s 204us/sample - loss: 22.8575 - mse: 22.8575 - mae: 3.3839 - val_loss: 10.4037 - val_mse: 10.4037 - val_mae: 2.6394\n",
      "Epoch 20/100\n",
      "343/343 [==============================] - 0s 202us/sample - loss: 17.9895 - mse: 17.9895 - mae: 3.2008 - val_loss: 11.0411 - val_mse: 11.0411 - val_mae: 2.7473\n",
      "Epoch 21/100\n",
      "343/343 [==============================] - 0s 201us/sample - loss: 18.8876 - mse: 18.8876 - mae: 3.1088 - val_loss: 11.3479 - val_mse: 11.3479 - val_mae: 2.6346\n",
      "Epoch 22/100\n",
      "343/343 [==============================] - 0s 206us/sample - loss: 18.3665 - mse: 18.3665 - mae: 3.1848 - val_loss: 9.6084 - val_mse: 9.6084 - val_mae: 2.4274\n",
      "Epoch 23/100\n",
      "343/343 [==============================] - 0s 204us/sample - loss: 17.7996 - mse: 17.7996 - mae: 3.0189 - val_loss: 11.9986 - val_mse: 11.9986 - val_mae: 2.6548\n",
      "Epoch 24/100\n",
      "343/343 [==============================] - 0s 206us/sample - loss: 18.5563 - mse: 18.5563 - mae: 3.2435 - val_loss: 15.4051 - val_mse: 15.4051 - val_mae: 3.0859\n",
      "Epoch 25/100\n",
      "343/343 [==============================] - 0s 206us/sample - loss: 18.0106 - mse: 18.0106 - mae: 3.0758 - val_loss: 9.9615 - val_mse: 9.9615 - val_mae: 2.4684\n",
      "Epoch 26/100\n",
      "343/343 [==============================] - 0s 204us/sample - loss: 16.5789 - mse: 16.5788 - mae: 2.9770 - val_loss: 9.9969 - val_mse: 9.9969 - val_mae: 2.6337\n",
      "Epoch 27/100\n",
      "343/343 [==============================] - 0s 205us/sample - loss: 16.6347 - mse: 16.6347 - mae: 2.9821 - val_loss: 8.7801 - val_mse: 8.7801 - val_mae: 2.4440\n",
      "Epoch 28/100\n",
      "343/343 [==============================] - 0s 206us/sample - loss: 18.5600 - mse: 18.5600 - mae: 3.0220 - val_loss: 14.3088 - val_mse: 14.3088 - val_mae: 2.8332\n",
      "Epoch 29/100\n",
      "343/343 [==============================] - 0s 202us/sample - loss: 15.5426 - mse: 15.5426 - mae: 2.8785 - val_loss: 12.0527 - val_mse: 12.0527 - val_mae: 2.5751\n",
      "Epoch 30/100\n",
      "343/343 [==============================] - 0s 210us/sample - loss: 17.9623 - mse: 17.9623 - mae: 2.9112 - val_loss: 8.7942 - val_mse: 8.7942 - val_mae: 2.4630\n",
      "Epoch 31/100\n",
      "343/343 [==============================] - 0s 209us/sample - loss: 16.3938 - mse: 16.3938 - mae: 2.9730 - val_loss: 9.1568 - val_mse: 9.1568 - val_mae: 2.4501\n",
      "Epoch 32/100\n",
      "343/343 [==============================] - 0s 209us/sample - loss: 17.5519 - mse: 17.5519 - mae: 2.9772 - val_loss: 9.1757 - val_mse: 9.1757 - val_mae: 2.4267\n",
      "Epoch 33/100\n",
      "343/343 [==============================] - 0s 206us/sample - loss: 15.8626 - mse: 15.8626 - mae: 2.9024 - val_loss: 9.5466 - val_mse: 9.5466 - val_mae: 2.6260\n",
      "Epoch 34/100\n",
      "343/343 [==============================] - 0s 205us/sample - loss: 16.9295 - mse: 16.9295 - mae: 2.9703 - val_loss: 10.1180 - val_mse: 10.1180 - val_mae: 2.4508\n",
      "Epoch 35/100\n",
      "343/343 [==============================] - 0s 206us/sample - loss: 18.1873 - mse: 18.1873 - mae: 3.0119 - val_loss: 11.3840 - val_mse: 11.3840 - val_mae: 2.7979\n",
      "Epoch 36/100\n",
      "343/343 [==============================] - 0s 206us/sample - loss: 16.9598 - mse: 16.9598 - mae: 2.8953 - val_loss: 10.6326 - val_mse: 10.6326 - val_mae: 2.5723\n",
      "Epoch 37/100\n",
      "343/343 [==============================] - 0s 209us/sample - loss: 17.0610 - mse: 17.0610 - mae: 2.9467 - val_loss: 9.8109 - val_mse: 9.8109 - val_mae: 2.4649\n",
      "Epoch 38/100\n",
      "343/343 [==============================] - 0s 207us/sample - loss: 14.1924 - mse: 14.1924 - mae: 2.8277 - val_loss: 8.7167 - val_mse: 8.7167 - val_mae: 2.4854\n",
      "Epoch 39/100\n",
      "343/343 [==============================] - 0s 202us/sample - loss: 15.5589 - mse: 15.5589 - mae: 2.9193 - val_loss: 7.8806 - val_mse: 7.8806 - val_mae: 2.2856\n",
      "Epoch 40/100\n",
      "343/343 [==============================] - 0s 206us/sample - loss: 17.0471 - mse: 17.0471 - mae: 3.0074 - val_loss: 8.7336 - val_mse: 8.7337 - val_mae: 2.5010\n",
      "Epoch 41/100\n",
      "343/343 [==============================] - 0s 204us/sample - loss: 15.5605 - mse: 15.5605 - mae: 2.8748 - val_loss: 8.1247 - val_mse: 8.1247 - val_mae: 2.2861\n",
      "Epoch 42/100\n",
      "343/343 [==============================] - 0s 206us/sample - loss: 15.8589 - mse: 15.8589 - mae: 3.0052 - val_loss: 9.0706 - val_mse: 9.0706 - val_mae: 2.3600\n",
      "Epoch 43/100\n",
      "343/343 [==============================] - 0s 210us/sample - loss: 16.0779 - mse: 16.0779 - mae: 2.9135 - val_loss: 10.7463 - val_mse: 10.7463 - val_mae: 2.5419\n",
      "Epoch 44/100\n",
      "343/343 [==============================] - 0s 200us/sample - loss: 14.7126 - mse: 14.7126 - mae: 2.7734 - val_loss: 9.8678 - val_mse: 9.8678 - val_mae: 2.6359\n",
      "Epoch 45/100\n",
      "343/343 [==============================] - 0s 203us/sample - loss: 16.5741 - mse: 16.5741 - mae: 2.8762 - val_loss: 8.3645 - val_mse: 8.3645 - val_mae: 2.4716\n",
      "Epoch 46/100\n",
      "343/343 [==============================] - 0s 209us/sample - loss: 14.3242 - mse: 14.3242 - mae: 2.7533 - val_loss: 8.0954 - val_mse: 8.0954 - val_mae: 2.3078\n",
      "Epoch 47/100\n",
      "343/343 [==============================] - 0s 210us/sample - loss: 14.2380 - mse: 14.2380 - mae: 2.6029 - val_loss: 8.2254 - val_mse: 8.2254 - val_mae: 2.3264\n",
      "Epoch 48/100\n",
      "343/343 [==============================] - 0s 207us/sample - loss: 14.7698 - mse: 14.7698 - mae: 2.7951 - val_loss: 9.9874 - val_mse: 9.9874 - val_mae: 2.5140\n",
      "Epoch 49/100\n",
      "343/343 [==============================] - 0s 208us/sample - loss: 14.9058 - mse: 14.9058 - mae: 2.7106 - val_loss: 8.1472 - val_mse: 8.1472 - val_mae: 2.3722\n",
      "Epoch 50/100\n",
      "343/343 [==============================] - 0s 211us/sample - loss: 18.6122 - mse: 18.6122 - mae: 3.0793 - val_loss: 9.3386 - val_mse: 9.3386 - val_mae: 2.4372\n",
      "Epoch 51/100\n",
      "343/343 [==============================] - 0s 204us/sample - loss: 13.8954 - mse: 13.8954 - mae: 2.6910 - val_loss: 7.3994 - val_mse: 7.3994 - val_mae: 2.2894\n",
      "Epoch 52/100\n",
      "343/343 [==============================] - 0s 210us/sample - loss: 13.2592 - mse: 13.2592 - mae: 2.6868 - val_loss: 11.1610 - val_mse: 11.1610 - val_mae: 2.5444\n",
      "Epoch 53/100\n",
      "343/343 [==============================] - 0s 208us/sample - loss: 13.1686 - mse: 13.1686 - mae: 2.7258 - val_loss: 7.6291 - val_mse: 7.6291 - val_mae: 2.3230\n",
      "Epoch 54/100\n",
      "343/343 [==============================] - 0s 207us/sample - loss: 13.0519 - mse: 13.0519 - mae: 2.6604 - val_loss: 10.2309 - val_mse: 10.2309 - val_mae: 2.4989\n",
      "Epoch 55/100\n",
      "343/343 [==============================] - 0s 206us/sample - loss: 14.8377 - mse: 14.8377 - mae: 2.7094 - val_loss: 6.8900 - val_mse: 6.8900 - val_mae: 2.1344\n",
      "Epoch 56/100\n",
      "343/343 [==============================] - 0s 205us/sample - loss: 16.7618 - mse: 16.7618 - mae: 2.9181 - val_loss: 9.9171 - val_mse: 9.9171 - val_mae: 2.5466\n",
      "Epoch 57/100\n",
      "343/343 [==============================] - 0s 205us/sample - loss: 12.8384 - mse: 12.8384 - mae: 2.5754 - val_loss: 7.3840 - val_mse: 7.3840 - val_mae: 2.2232\n",
      "Epoch 58/100\n",
      "343/343 [==============================] - 0s 204us/sample - loss: 15.6771 - mse: 15.6771 - mae: 2.8580 - val_loss: 8.1042 - val_mse: 8.1042 - val_mae: 2.3064\n",
      "Epoch 59/100\n",
      "343/343 [==============================] - 0s 211us/sample - loss: 12.0585 - mse: 12.0585 - mae: 2.5501 - val_loss: 8.3985 - val_mse: 8.3985 - val_mae: 2.3450\n",
      "Epoch 60/100\n",
      "343/343 [==============================] - 0s 213us/sample - loss: 15.1748 - mse: 15.1748 - mae: 2.7640 - val_loss: 10.0607 - val_mse: 10.0607 - val_mae: 2.4410\n",
      "Epoch 61/100\n",
      "343/343 [==============================] - 0s 208us/sample - loss: 11.6824 - mse: 11.6824 - mae: 2.4952 - val_loss: 8.3204 - val_mse: 8.3204 - val_mae: 2.4268\n",
      "Epoch 62/100\n",
      "343/343 [==============================] - 0s 204us/sample - loss: 13.9634 - mse: 13.9634 - mae: 2.6789 - val_loss: 9.5677 - val_mse: 9.5677 - val_mae: 2.4512\n",
      "Epoch 63/100\n",
      "343/343 [==============================] - 0s 202us/sample - loss: 15.5885 - mse: 15.5885 - mae: 2.9026 - val_loss: 7.6015 - val_mse: 7.6015 - val_mae: 2.3262\n",
      "Epoch 64/100\n",
      "343/343 [==============================] - 0s 214us/sample - loss: 16.1740 - mse: 16.1740 - mae: 2.7688 - val_loss: 10.5385 - val_mse: 10.5385 - val_mae: 2.5601\n",
      "Epoch 65/100\n",
      "343/343 [==============================] - 0s 203us/sample - loss: 13.1178 - mse: 13.1178 - mae: 2.6110 - val_loss: 8.3031 - val_mse: 8.3031 - val_mae: 2.3477\n",
      "Epoch 66/100\n",
      "343/343 [==============================] - 0s 205us/sample - loss: 13.6375 - mse: 13.6375 - mae: 2.5524 - val_loss: 7.7912 - val_mse: 7.7912 - val_mae: 2.2722\n",
      "Epoch 67/100\n",
      "343/343 [==============================] - 0s 202us/sample - loss: 13.6343 - mse: 13.6342 - mae: 2.5853 - val_loss: 8.9025 - val_mse: 8.9025 - val_mae: 2.4376\n",
      "Epoch 68/100\n",
      "343/343 [==============================] - 0s 207us/sample - loss: 14.2273 - mse: 14.2273 - mae: 2.6877 - val_loss: 7.5185 - val_mse: 7.5185 - val_mae: 2.2402\n",
      "Epoch 69/100\n",
      "343/343 [==============================] - 0s 204us/sample - loss: 13.8386 - mse: 13.8386 - mae: 2.6268 - val_loss: 9.0691 - val_mse: 9.0691 - val_mae: 2.4016\n",
      "Epoch 70/100\n",
      "343/343 [==============================] - 0s 204us/sample - loss: 13.3333 - mse: 13.3333 - mae: 2.6719 - val_loss: 8.4073 - val_mse: 8.4073 - val_mae: 2.4459\n",
      "Epoch 71/100\n",
      "343/343 [==============================] - 0s 212us/sample - loss: 12.3924 - mse: 12.3924 - mae: 2.4620 - val_loss: 8.1585 - val_mse: 8.1585 - val_mae: 2.3940\n",
      "Epoch 72/100\n",
      "343/343 [==============================] - 0s 202us/sample - loss: 10.2282 - mse: 10.2282 - mae: 2.3221 - val_loss: 9.1000 - val_mse: 9.1000 - val_mae: 2.4081\n",
      "Epoch 73/100\n",
      "343/343 [==============================] - 0s 202us/sample - loss: 13.1714 - mse: 13.1714 - mae: 2.6201 - val_loss: 9.8166 - val_mse: 9.8166 - val_mae: 2.6791\n",
      "Epoch 74/100\n",
      "343/343 [==============================] - 0s 212us/sample - loss: 13.7953 - mse: 13.7953 - mae: 2.6154 - val_loss: 7.3213 - val_mse: 7.3213 - val_mae: 2.2498\n",
      "Epoch 75/100\n",
      "343/343 [==============================] - 0s 215us/sample - loss: 13.4990 - mse: 13.4990 - mae: 2.6185 - val_loss: 8.8910 - val_mse: 8.8910 - val_mae: 2.3630\n",
      "Epoch 76/100\n",
      "343/343 [==============================] - 0s 208us/sample - loss: 11.5424 - mse: 11.5424 - mae: 2.4841 - val_loss: 8.6180 - val_mse: 8.6180 - val_mae: 2.3039\n",
      "Epoch 77/100\n",
      "343/343 [==============================] - 0s 208us/sample - loss: 10.1549 - mse: 10.1549 - mae: 2.3569 - val_loss: 8.3470 - val_mse: 8.3470 - val_mae: 2.3406\n",
      "Epoch 78/100\n",
      "343/343 [==============================] - 0s 204us/sample - loss: 11.3025 - mse: 11.3025 - mae: 2.4433 - val_loss: 8.6461 - val_mse: 8.6461 - val_mae: 2.3546\n",
      "Epoch 79/100\n",
      "343/343 [==============================] - 0s 202us/sample - loss: 12.6893 - mse: 12.6893 - mae: 2.5904 - val_loss: 7.3533 - val_mse: 7.3533 - val_mae: 2.2438\n",
      "Epoch 80/100\n",
      "343/343 [==============================] - 0s 203us/sample - loss: 11.8389 - mse: 11.8389 - mae: 2.6037 - val_loss: 8.2029 - val_mse: 8.2029 - val_mae: 2.2928\n",
      "Epoch 81/100\n",
      "343/343 [==============================] - 0s 211us/sample - loss: 10.5280 - mse: 10.5280 - mae: 2.4153 - val_loss: 7.0410 - val_mse: 7.0410 - val_mae: 2.1733\n",
      "Epoch 82/100\n",
      "343/343 [==============================] - 0s 203us/sample - loss: 11.3970 - mse: 11.3970 - mae: 2.5130 - val_loss: 7.6666 - val_mse: 7.6666 - val_mae: 2.3471\n",
      "Epoch 83/100\n",
      "343/343 [==============================] - 0s 198us/sample - loss: 11.6608 - mse: 11.6608 - mae: 2.5487 - val_loss: 8.3707 - val_mse: 8.3707 - val_mae: 2.3659\n",
      "Epoch 84/100\n",
      "343/343 [==============================] - 0s 201us/sample - loss: 11.9169 - mse: 11.9169 - mae: 2.4229 - val_loss: 7.1950 - val_mse: 7.1950 - val_mae: 2.1477\n",
      "Epoch 85/100\n",
      "343/343 [==============================] - 0s 214us/sample - loss: 11.5570 - mse: 11.5570 - mae: 2.4036 - val_loss: 8.8179 - val_mse: 8.8179 - val_mae: 2.4373\n",
      "Epoch 86/100\n",
      "343/343 [==============================] - 0s 200us/sample - loss: 11.4583 - mse: 11.4583 - mae: 2.4260 - val_loss: 7.8771 - val_mse: 7.8771 - val_mae: 2.3062\n",
      "Epoch 87/100\n",
      "343/343 [==============================] - 0s 202us/sample - loss: 12.6224 - mse: 12.6224 - mae: 2.5284 - val_loss: 7.3213 - val_mse: 7.3213 - val_mae: 2.2034\n",
      "Epoch 88/100\n",
      "343/343 [==============================] - 0s 213us/sample - loss: 10.9229 - mse: 10.9229 - mae: 2.3602 - val_loss: 6.8778 - val_mse: 6.8778 - val_mae: 2.1486\n",
      "Epoch 89/100\n",
      "343/343 [==============================] - 0s 205us/sample - loss: 11.9441 - mse: 11.9441 - mae: 2.5171 - val_loss: 9.0213 - val_mse: 9.0213 - val_mae: 2.4475\n",
      "Epoch 90/100\n",
      "343/343 [==============================] - 0s 207us/sample - loss: 11.2696 - mse: 11.2696 - mae: 2.4991 - val_loss: 6.8816 - val_mse: 6.8816 - val_mae: 2.1159\n",
      "Epoch 91/100\n",
      "343/343 [==============================] - 0s 208us/sample - loss: 13.3767 - mse: 13.3767 - mae: 2.6309 - val_loss: 6.4537 - val_mse: 6.4537 - val_mae: 2.0600\n",
      "Epoch 92/100\n",
      "343/343 [==============================] - 0s 200us/sample - loss: 12.7751 - mse: 12.7751 - mae: 2.4996 - val_loss: 7.1664 - val_mse: 7.1664 - val_mae: 2.2647\n",
      "Epoch 93/100\n",
      "343/343 [==============================] - 0s 197us/sample - loss: 12.9311 - mse: 12.9311 - mae: 2.6042 - val_loss: 7.3303 - val_mse: 7.3303 - val_mae: 2.2550\n",
      "Epoch 94/100\n",
      "343/343 [==============================] - 0s 203us/sample - loss: 12.2736 - mse: 12.2736 - mae: 2.4279 - val_loss: 7.5013 - val_mse: 7.5013 - val_mae: 2.2269\n",
      "Epoch 95/100\n",
      "343/343 [==============================] - 0s 210us/sample - loss: 12.4149 - mse: 12.4148 - mae: 2.5295 - val_loss: 7.1768 - val_mse: 7.1768 - val_mae: 2.1867\n",
      "Epoch 96/100\n",
      "343/343 [==============================] - 0s 208us/sample - loss: 10.8676 - mse: 10.8676 - mae: 2.4173 - val_loss: 9.8357 - val_mse: 9.8357 - val_mae: 2.4548\n",
      "Epoch 97/100\n",
      "343/343 [==============================] - 0s 204us/sample - loss: 12.4260 - mse: 12.4260 - mae: 2.4556 - val_loss: 10.5325 - val_mse: 10.5325 - val_mae: 2.5645\n",
      "Epoch 98/100\n",
      "343/343 [==============================] - 0s 196us/sample - loss: 12.4345 - mse: 12.4345 - mae: 2.4732 - val_loss: 7.9255 - val_mse: 7.9255 - val_mae: 2.2478\n",
      "Epoch 99/100\n",
      "343/343 [==============================] - 0s 210us/sample - loss: 10.9666 - mse: 10.9666 - mae: 2.3979 - val_loss: 8.8200 - val_mse: 8.8200 - val_mae: 2.3473\n",
      "Epoch 100/100\n",
      "343/343 [==============================] - 0s 204us/sample - loss: 12.0202 - mse: 12.0202 - mae: 2.4401 - val_loss: 7.6745 - val_mse: 7.6745 - val_mae: 2.2091\n"
     ]
    }
   ],
   "source": [
    "history = model.fit(X_train, y_train, validation_split=0.15, epochs=100, batch_size=10, verbose=1)"
   ]
  },
  {
   "cell_type": "code",
   "execution_count": 13,
   "metadata": {},
   "outputs": [
    {
     "data": {
      "image/png": "[encoded data removed]",
      "text/plain": [
       "<Figure size 432x288 with 1 Axes>"
      ]
     },
     "metadata": {
      "needs_background": "light"
     },
     "output_type": "display_data"
    },
    {
     "data": {
      "image/png": "[encoded data removed]",
      "text/plain": [
       "<Figure size 432x288 with 1 Axes>"
      ]
     },
     "metadata": {
      "needs_background": "light"
     },
     "output_type": "display_data"
    }
   ],
   "source": [
    "# Plot training & validation accuracy values\n",
    "plt.plot(history.history['mse'])\n",
    "plt.plot(history.history['val_mse'])\n",
    "plt.title('Model accuracy')\n",
    "plt.ylabel('MSE')\n",
    "plt.xlabel('Epoch')\n",
    "plt.legend(['Train', 'Val'], loc='upper left')\n",
    "plt.show()\n",
    "\n",
    "# Plot training & validation loss values\n",
    "plt.plot(history.history['loss'])\n",
    "plt.plot(history.history['val_loss'])\n",
    "plt.title('Model loss')\n",
    "plt.ylabel('Loss')\n",
    "plt.xlabel('Epoch')\n",
    "plt.legend(['Train', 'Val'], loc='upper left')\n",
    "plt.show()"
   ]
  },
  {
   "cell_type": "markdown",
   "metadata": {
    "colab_type": "text",
    "id": "SfcFnOONyuNm"
   },
   "source": [
    "## Use the Keras Library to build an image recognition network using the Fashion-MNIST dataset (also comes with keras)\n",
    "\n",
    "- Load and preprocess the image data similar to how we preprocessed the MNIST data in class.\n",
    "- Make sure to one-hot encode your category labels\n",
    "- Make sure to have your final layer have as many nodes as the number of classes that you want to predict.\n",
    "- Try different hyperparameters. What is the highest accuracy that you are able to achieve.\n",
    "- Use the history object that is returned from model.fit to make graphs of the model's loss or train/validation accuracies by epoch. \n",
    "- Remember that neural networks fall prey to randomness so you may need to run your model multiple times (or use Cross Validation) in order to tell if a change to a hyperparameter is truly producing better results."
   ]
  },
  {
   "cell_type": "code",
   "execution_count": 23,
   "metadata": {},
   "outputs": [],
   "source": [
    "(X_train, y_train), (X_test, y_test) = mnist.load_data()"
   ]
  },
  {
   "cell_type": "code",
   "execution_count": 24,
   "metadata": {},
   "outputs": [],
   "source": [
    "epochs = 20\n",
    "num_classes = 10\n",
    "batch_size = 64\n",
    "\n",
    "X_train = X_train.reshape(60000, 784)\n",
    "X_test = X_test.reshape(10000, 784)\n",
    "\n",
    "X_train = X_train.astype('float32')\n",
    "X_test = X_test.astype('float32')\n",
    "\n",
    "y_train = keras.utils.to_categorical(y_train, num_classes)\n",
    "y_test = keras.utils.to_categorical(y_test, num_classes)"
   ]
  },
  {
   "cell_type": "code",
   "execution_count": 22,
   "metadata": {
    "colab": {},
    "colab_type": "code",
    "id": "szi6-IpuzaH1"
   },
   "outputs": [],
   "source": [
    "mnist_model = Sequential()\n",
    "\n",
    "# Input => Hidden\n",
    "mnist_model.add(Dense(16, input_dim=784, activation='relu'))\n",
    "# Hidden\n",
    "mnist_model.add(Dense(16, activation='relu'))\n",
    "# Hidden\n",
    "mnist_model.add(Dense(16, activation='relu'))\n",
    "# Hidden\n",
    "mnist_model.add(Dense(16, activation='relu'))\n",
    "# Output\n",
    "mnist_model.add(Dense(10,activation='softmax'))\n",
    "\n",
    "#Compile\n",
    "mnist_model.compile(loss='categorical_crossentropy',\n",
    "                    optimizer='adam',\n",
    "                    metrics=['accuracy'])\n",
    "\n",
    "mnist_model.summary()\n"
   ]
  },
  {
   "cell_type": "code",
   "execution_count": 21,
   "metadata": {
    "colab": {},
    "colab_type": "code",
    "id": "szi6-IpuzaH1"
   },
   "outputs": [
    {
     "ename": "NameError",
     "evalue": "name 'num_classes' is not defined",
     "output_type": "error",
     "traceback": [
      "\u001b[0;31m---------------------------------------------------------------------------\u001b[0m",
      "\u001b[0;31mNameError\u001b[0m                                 Traceback (most recent call last)",
      "\u001b[0;32m<ipython-input-21-57cbd20b12a0>\u001b[0m in \u001b[0;36m<module>\u001b[0;34m\u001b[0m\n\u001b[0;32m----> 1\u001b[0;31m \u001b[0my_train\u001b[0m \u001b[0;34m=\u001b[0m \u001b[0mkeras\u001b[0m\u001b[0;34m.\u001b[0m\u001b[0mutils\u001b[0m\u001b[0;34m.\u001b[0m\u001b[0mto_categorical\u001b[0m\u001b[0;34m(\u001b[0m\u001b[0my_train\u001b[0m\u001b[0;34m,\u001b[0m \u001b[0mnum_classes\u001b[0m\u001b[0;34m)\u001b[0m\u001b[0;34m\u001b[0m\u001b[0;34m\u001b[0m\u001b[0m\n\u001b[0m\u001b[1;32m      2\u001b[0m \u001b[0my_test\u001b[0m \u001b[0;34m=\u001b[0m \u001b[0mkeras\u001b[0m\u001b[0;34m.\u001b[0m\u001b[0mutils\u001b[0m\u001b[0;34m.\u001b[0m\u001b[0mto_categorical\u001b[0m\u001b[0;34m(\u001b[0m\u001b[0my_test\u001b[0m\u001b[0;34m,\u001b[0m \u001b[0mnum_classes\u001b[0m\u001b[0;34m)\u001b[0m\u001b[0;34m\u001b[0m\u001b[0;34m\u001b[0m\u001b[0m\n",
      "\u001b[0;31mNameError\u001b[0m: name 'num_classes' is not defined"
     ]
    }
   ],
   "source": [
    "\n",
    "\n"
   ]
  },
  {
   "cell_type": "markdown",
   "metadata": {
    "colab_type": "text",
    "id": "zv_3xNMjzdLI"
   },
   "source": [
    "## Stretch Goals:\n",
    "\n",
    "- Use Hyperparameter Tuning to make the accuracy of your models as high as possible. (error as low as possible)\n",
    "- Use Cross Validation techniques to get more consistent results with your model.\n",
    "- Use GridSearchCV to try different combinations of hyperparameters. \n",
    "- Start looking into other types of Keras layers for CNNs and RNNs maybe try and build a CNN model for fashion-MNIST to see how the results compare."
   ]
  }
 ],
 "metadata": {
  "colab": {
   "name": "LS_DS_433_Keras_Assignment.ipynb",
   "provenance": [],
   "version": "0.3.2"
  },
  "kernelspec": {
   "display_name": "Python 3",
   "language": "python",
   "name": "python3"
  },
  "language_info": {
   "codemirror_mode": {
    "name": "ipython",
    "version": 3
   },
   "file_extension": ".py",
   "mimetype": "text/x-python",
   "name": "python",
   "nbconvert_exporter": "python",
   "pygments_lexer": "ipython3",
   "version": "3.6.9"
  }
 },
 "nbformat": 4,
 "nbformat_minor": 4
}
