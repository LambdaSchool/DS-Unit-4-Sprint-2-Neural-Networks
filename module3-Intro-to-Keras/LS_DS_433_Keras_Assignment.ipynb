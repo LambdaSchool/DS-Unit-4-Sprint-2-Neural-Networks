{
  "nbformat": 4,
  "nbformat_minor": 0,
  "metadata": {
    "colab": {
      "name": "LS_DS_433_Keras_Assignment.ipynb",
      "version": "0.3.2",
      "provenance": [],
      "collapsed_sections": []
    },
    "kernelspec": {
      "name": "python3",
      "display_name": "Python 3"
    }
  },
  "cells": [
    {
      "metadata": {
        "id": "pBQsZEJmubLs",
        "colab_type": "text"
      },
      "cell_type": "markdown",
      "source": [
        "## Use the Keras Library to build a Multi-Layer Perceptron Model on the Boston Housing dataset\n",
        "\n",
        "- The Boston Housing dataset comes with the Keras library so use Keras to import it into your notebook. \n",
        "- Normalize the data (all features should have roughly the same scale)\n",
        "- Import the type of model and layers that you will need from Keras.\n",
        "- Instantiate a model object and use `model.add()` to add layers to your model\n",
        "- Since this is a regression model you will have a single output node in the final layer.\n",
        "- Use activation functions that are appropriate for this task\n",
        "- Compile your model\n",
        "- Fit your model and report its accuracy in terms of Mean Squared Error\n",
        "- Use the history object that is returned from model.fit to make graphs of the model's loss or train/validation accuracies by epoch. \n",
        "- Run this same data through a linear regression model. Which achieves higher accuracy?\n",
        "- Do a little bit of feature engineering and see how that affects your neural network model. (you will need to change your model to accept more inputs)\n",
        "- After feature engineering, which model sees a greater accuracy boost due to the new features?"
      ]
    },
    {
      "metadata": {
        "id": "8NLTAR87uYJ-",
        "colab_type": "code",
        "outputId": "5d600eac-ec7f-4696-b163-eb0664e17e4e",
        "colab": {
          "base_uri": "https://localhost:8080/",
          "height": 34
        }
      },
      "cell_type": "code",
      "source": [
        "##### Your Code Here #####\n",
        "# The Boston Housing dataset comes with the Keras library so use Keras to import it into your notebook.\n",
        "import keras\n",
        "import numpy as np\n",
        "from keras.datasets import boston_housing\n",
        "\n",
        "(X_train, y_train),(X_test, y_test) = boston_housing.load_data()"
      ],
      "execution_count": 0,
      "outputs": [
        {
          "output_type": "stream",
          "text": [
            "Using TensorFlow backend.\n"
          ],
          "name": "stderr"
        }
      ]
    },
    {
      "metadata": {
        "id": "Jy8ghBZ65qZp",
        "colab_type": "code",
        "outputId": "e1af3c2f-ee36-40a2-aaac-6cd5181febd6",
        "colab": {
          "base_uri": "https://localhost:8080/",
          "height": 87
        }
      },
      "cell_type": "code",
      "source": [
        "print(f'X_train shape: {X_train.shape}')\n",
        "print(f'y_train shape: {y_train.shape}')\n",
        "print(f'X_test shape: {X_test.shape}')\n",
        "print(f'y_test shape: {y_test.shape}')\n",
        "\n",
        "input_shape = 13"
      ],
      "execution_count": 0,
      "outputs": [
        {
          "output_type": "stream",
          "text": [
            "X_train shape: (404, 13)\n",
            "y_train shape: (404,)\n",
            "X_test shape: (102, 13)\n",
            "y_test shape: (102,)\n"
          ],
          "name": "stdout"
        }
      ]
    },
    {
      "metadata": {
        "id": "aoIsnrwwVdpF",
        "colab_type": "code",
        "outputId": "6c747e29-5d37-4a53-94b9-10cb5c9cdb78",
        "colab": {
          "base_uri": "https://localhost:8080/",
          "height": 87
        }
      },
      "cell_type": "code",
      "source": [
        "# Do a little bit of feature engineering and see how that affects your \n",
        "# neural network model. (you will need to change your model to accept \n",
        "# more inputs)\n",
        "\n",
        "# Feature engineering by introducing few interaction variables\n",
        "f1 = X_train[:,0]*X_train[:,2]\n",
        "f2 = X_train[:,4]*X_train[:,6]\n",
        "f3 = X_train[:,8]*X_train[:,10]\n",
        "f4 = X_train[:,1]*X_train[:,3]\n",
        "f5 = X_train[:,1]*X_train[:,3]\n",
        "f6 = X_train[:,5]*X_train[:,7]\n",
        "f7 = X_train[:,9]*X_train[:,11]\n",
        "f8 = X_train[:,12]**2\n",
        "\n",
        "X_train = np.column_stack((X_train, f1, f2, f3, f4, f5, f6, f7, f8))\n",
        "\n",
        "f1 = X_test[:,0]*X_test[:,2]\n",
        "f2 = X_test[:,4]*X_test[:,6]\n",
        "f3 = X_test[:,8]*X_test[:,10]\n",
        "f4 = X_test[:,1]*X_test[:,3]\n",
        "f5 = X_test[:,1]*X_test[:,3]\n",
        "f6 = X_test[:,5]*X_test[:,7]\n",
        "f7 = X_test[:,9]*X_test[:,11]\n",
        "f8 = X_test[:,12]**2\n",
        "\n",
        "X_test = np.column_stack((X_test, f1, f2, f3, f4, f5, f6, f7, f8))\n",
        "\n",
        "print(f'X_train shape: {X_train.shape}')\n",
        "print(f'y_train shape: {y_train.shape}')\n",
        "print(f'X_test shape: {X_test.shape}')\n",
        "print(f'y_test shape: {y_test.shape}')\n",
        "\n",
        "input_shape = 21"
      ],
      "execution_count": 0,
      "outputs": [
        {
          "output_type": "stream",
          "text": [
            "X_train shape: (404, 21)\n",
            "y_train shape: (404,)\n",
            "X_test shape: (102, 21)\n",
            "y_test shape: (102,)\n"
          ],
          "name": "stdout"
        }
      ]
    },
    {
      "metadata": {
        "id": "MfYjFYNj6Iqc",
        "colab_type": "code",
        "colab": {}
      },
      "cell_type": "code",
      "source": [
        "# Normalize the data (all features should have roughly the same scale)\n",
        "mean = X_train.mean(axis=0)\n",
        "std = X_train.std(axis=0)\n",
        "\n",
        "X_train -= mean\n",
        "X_train /= std\n",
        "\n",
        "# Normalize the test data using the same training quantities\n",
        "X_test -= mean\n",
        "X_test /= std"
      ],
      "execution_count": 0,
      "outputs": []
    },
    {
      "metadata": {
        "id": "SqMYGfgh8JYy",
        "colab_type": "code",
        "colab": {}
      },
      "cell_type": "code",
      "source": [
        "# Import the type of model and layers that you will need from Keras.\n",
        "from keras.models import Sequential\n",
        "from keras.layers import Dense, Dropout\n",
        "from keras.callbacks import EarlyStopping, ModelCheckpoint"
      ],
      "execution_count": 0,
      "outputs": []
    },
    {
      "metadata": {
        "id": "vhPnWl4y8a4N",
        "colab_type": "code",
        "outputId": "e522a8ec-ab3b-424e-c425-a9a90d903e2d",
        "colab": {
          "base_uri": "https://localhost:8080/",
          "height": 142
        }
      },
      "cell_type": "code",
      "source": [
        "# Instantiate a model object and use model.add() to add layers to your model\n",
        "# Since this is a regression model you will have a single output node in the final layer.\n",
        "# Use activation functions that are appropriate for this task\n",
        "model = Sequential()\n",
        "model.add(Dense(64, activation='sigmoid', input_shape=(input_shape,)))\n",
        "model.add(Dropout(0.1))\n",
        "model.add(Dense(16, activation='sigmoid'))\n",
        "model.add(Dropout(0.1))\n",
        "model.add(Dense(1))"
      ],
      "execution_count": 0,
      "outputs": [
        {
          "output_type": "stream",
          "text": [
            "WARNING:tensorflow:From /usr/local/lib/python3.6/dist-packages/tensorflow/python/framework/op_def_library.py:263: colocate_with (from tensorflow.python.framework.ops) is deprecated and will be removed in a future version.\n",
            "Instructions for updating:\n",
            "Colocations handled automatically by placer.\n",
            "WARNING:tensorflow:From /usr/local/lib/python3.6/dist-packages/keras/backend/tensorflow_backend.py:3445: calling dropout (from tensorflow.python.ops.nn_ops) with keep_prob is deprecated and will be removed in a future version.\n",
            "Instructions for updating:\n",
            "Please use `rate` instead of `keep_prob`. Rate should be set to `rate = 1 - keep_prob`.\n"
          ],
          "name": "stdout"
        }
      ]
    },
    {
      "metadata": {
        "id": "CEkxPNTb_-4r",
        "colab_type": "code",
        "outputId": "40ad11d8-d719-44ef-87e7-a306927506ef",
        "colab": {
          "base_uri": "https://localhost:8080/",
          "height": 316
        }
      },
      "cell_type": "code",
      "source": [
        "# Compile your model\n",
        "model.compile(optimizer='rmsprop',\n",
        "              loss='mse',\n",
        "              metrics=['mse'])\n",
        "model.summary()"
      ],
      "execution_count": 0,
      "outputs": [
        {
          "output_type": "stream",
          "text": [
            "_________________________________________________________________\n",
            "Layer (type)                 Output Shape              Param #   \n",
            "=================================================================\n",
            "dense_1 (Dense)              (None, 64)                1408      \n",
            "_________________________________________________________________\n",
            "dropout_1 (Dropout)          (None, 64)                0         \n",
            "_________________________________________________________________\n",
            "dense_2 (Dense)              (None, 16)                1040      \n",
            "_________________________________________________________________\n",
            "dropout_2 (Dropout)          (None, 16)                0         \n",
            "_________________________________________________________________\n",
            "dense_3 (Dense)              (None, 1)                 17        \n",
            "=================================================================\n",
            "Total params: 2,465\n",
            "Trainable params: 2,465\n",
            "Non-trainable params: 0\n",
            "_________________________________________________________________\n"
          ],
          "name": "stdout"
        }
      ]
    },
    {
      "metadata": {
        "id": "k1qkqnSj2SnM",
        "colab_type": "code",
        "colab": {}
      },
      "cell_type": "code",
      "source": [
        "# Set callback functions to early stop training and save the best model so far\n",
        "callbacks = [EarlyStopping(monitor='val_loss', patience=2),\n",
        "             ModelCheckpoint(filepath='best_model.h5', monitor='val_loss', save_best_only=True)]"
      ],
      "execution_count": 0,
      "outputs": []
    },
    {
      "metadata": {
        "id": "9IGZtfgrBa7x",
        "colab_type": "code",
        "outputId": "9d3b1a9c-6713-4fed-d1b2-56b7891ec95a",
        "colab": {
          "base_uri": "https://localhost:8080/",
          "height": 7155
        }
      },
      "cell_type": "code",
      "source": [
        "# Fit your model and report its accuracy in terms of Mean Squared Error\n",
        "fit = model.fit(X_train, y_train, epochs=200, validation_split=0.1)\n",
        "scores = model.evaluate(X_test, y_test)"
      ],
      "execution_count": 0,
      "outputs": [
        {
          "output_type": "stream",
          "text": [
            "WARNING:tensorflow:From /usr/local/lib/python3.6/dist-packages/tensorflow/python/ops/math_ops.py:3066: to_int32 (from tensorflow.python.ops.math_ops) is deprecated and will be removed in a future version.\n",
            "Instructions for updating:\n",
            "Use tf.cast instead.\n",
            "Train on 363 samples, validate on 41 samples\n",
            "Epoch 1/200\n",
            "363/363 [==============================] - 0s 560us/step - loss: 581.4643 - mean_squared_error: 581.4643 - val_loss: 476.3349 - val_mean_squared_error: 476.3349\n",
            "Epoch 2/200\n",
            "363/363 [==============================] - 0s 58us/step - loss: 554.7662 - mean_squared_error: 554.7662 - val_loss: 457.5874 - val_mean_squared_error: 457.5874\n",
            "Epoch 3/200\n",
            "363/363 [==============================] - 0s 59us/step - loss: 538.5820 - mean_squared_error: 538.5820 - val_loss: 442.8529 - val_mean_squared_error: 442.8529\n",
            "Epoch 4/200\n",
            "363/363 [==============================] - 0s 55us/step - loss: 523.9611 - mean_squared_error: 523.9611 - val_loss: 430.6845 - val_mean_squared_error: 430.6845\n",
            "Epoch 5/200\n",
            "363/363 [==============================] - 0s 58us/step - loss: 513.3131 - mean_squared_error: 513.3131 - val_loss: 420.6884 - val_mean_squared_error: 420.6884\n",
            "Epoch 6/200\n",
            "363/363 [==============================] - 0s 54us/step - loss: 502.2472 - mean_squared_error: 502.2472 - val_loss: 412.0493 - val_mean_squared_error: 412.0493\n",
            "Epoch 7/200\n",
            "363/363 [==============================] - 0s 55us/step - loss: 494.7125 - mean_squared_error: 494.7125 - val_loss: 404.3496 - val_mean_squared_error: 404.3496\n",
            "Epoch 8/200\n",
            "363/363 [==============================] - 0s 54us/step - loss: 485.1224 - mean_squared_error: 485.1224 - val_loss: 397.2108 - val_mean_squared_error: 397.2108\n",
            "Epoch 9/200\n",
            "363/363 [==============================] - 0s 60us/step - loss: 479.9951 - mean_squared_error: 479.9951 - val_loss: 390.5732 - val_mean_squared_error: 390.5732\n",
            "Epoch 10/200\n",
            "363/363 [==============================] - 0s 64us/step - loss: 472.7150 - mean_squared_error: 472.7150 - val_loss: 383.9119 - val_mean_squared_error: 383.9119\n",
            "Epoch 11/200\n",
            "363/363 [==============================] - 0s 61us/step - loss: 464.7370 - mean_squared_error: 464.7370 - val_loss: 377.4775 - val_mean_squared_error: 377.4775\n",
            "Epoch 12/200\n",
            "363/363 [==============================] - 0s 56us/step - loss: 458.1816 - mean_squared_error: 458.1816 - val_loss: 371.2253 - val_mean_squared_error: 371.2253\n",
            "Epoch 13/200\n",
            "363/363 [==============================] - 0s 59us/step - loss: 451.5600 - mean_squared_error: 451.5600 - val_loss: 365.2016 - val_mean_squared_error: 365.2016\n",
            "Epoch 14/200\n",
            "363/363 [==============================] - 0s 59us/step - loss: 443.9552 - mean_squared_error: 443.9552 - val_loss: 359.5123 - val_mean_squared_error: 359.5123\n",
            "Epoch 15/200\n",
            "363/363 [==============================] - 0s 59us/step - loss: 438.0511 - mean_squared_error: 438.0511 - val_loss: 353.9599 - val_mean_squared_error: 353.9599\n",
            "Epoch 16/200\n",
            "363/363 [==============================] - 0s 55us/step - loss: 433.7972 - mean_squared_error: 433.7972 - val_loss: 348.5530 - val_mean_squared_error: 348.5530\n",
            "Epoch 17/200\n",
            "363/363 [==============================] - 0s 58us/step - loss: 428.4096 - mean_squared_error: 428.4096 - val_loss: 343.2673 - val_mean_squared_error: 343.2673\n",
            "Epoch 18/200\n",
            "363/363 [==============================] - 0s 58us/step - loss: 422.0992 - mean_squared_error: 422.0992 - val_loss: 338.1230 - val_mean_squared_error: 338.1230\n",
            "Epoch 19/200\n",
            "363/363 [==============================] - 0s 60us/step - loss: 417.0948 - mean_squared_error: 417.0948 - val_loss: 333.1838 - val_mean_squared_error: 333.1838\n",
            "Epoch 20/200\n",
            "363/363 [==============================] - 0s 59us/step - loss: 413.6188 - mean_squared_error: 413.6188 - val_loss: 328.1866 - val_mean_squared_error: 328.1866\n",
            "Epoch 21/200\n",
            "363/363 [==============================] - 0s 56us/step - loss: 407.0283 - mean_squared_error: 407.0283 - val_loss: 323.3191 - val_mean_squared_error: 323.3191\n",
            "Epoch 22/200\n",
            "363/363 [==============================] - 0s 57us/step - loss: 402.6903 - mean_squared_error: 402.6903 - val_loss: 318.3591 - val_mean_squared_error: 318.3591\n",
            "Epoch 23/200\n",
            "363/363 [==============================] - 0s 64us/step - loss: 395.4993 - mean_squared_error: 395.4993 - val_loss: 313.6196 - val_mean_squared_error: 313.6196\n",
            "Epoch 24/200\n",
            "363/363 [==============================] - 0s 56us/step - loss: 390.1627 - mean_squared_error: 390.1627 - val_loss: 308.8931 - val_mean_squared_error: 308.8931\n",
            "Epoch 25/200\n",
            "363/363 [==============================] - 0s 64us/step - loss: 385.9452 - mean_squared_error: 385.9452 - val_loss: 304.2880 - val_mean_squared_error: 304.2880\n",
            "Epoch 26/200\n",
            "363/363 [==============================] - 0s 60us/step - loss: 381.1528 - mean_squared_error: 381.1528 - val_loss: 299.6836 - val_mean_squared_error: 299.6836\n",
            "Epoch 27/200\n",
            "363/363 [==============================] - 0s 59us/step - loss: 377.7268 - mean_squared_error: 377.7268 - val_loss: 295.1620 - val_mean_squared_error: 295.1620\n",
            "Epoch 28/200\n",
            "363/363 [==============================] - 0s 57us/step - loss: 372.9809 - mean_squared_error: 372.9809 - val_loss: 290.6580 - val_mean_squared_error: 290.6580\n",
            "Epoch 29/200\n",
            "363/363 [==============================] - 0s 56us/step - loss: 365.8448 - mean_squared_error: 365.8448 - val_loss: 286.2001 - val_mean_squared_error: 286.2001\n",
            "Epoch 30/200\n",
            "363/363 [==============================] - 0s 61us/step - loss: 361.6771 - mean_squared_error: 361.6771 - val_loss: 281.6920 - val_mean_squared_error: 281.6920\n",
            "Epoch 31/200\n",
            "363/363 [==============================] - 0s 55us/step - loss: 359.3380 - mean_squared_error: 359.3380 - val_loss: 277.3345 - val_mean_squared_error: 277.3345\n",
            "Epoch 32/200\n",
            "363/363 [==============================] - 0s 56us/step - loss: 352.8713 - mean_squared_error: 352.8713 - val_loss: 272.9788 - val_mean_squared_error: 272.9788\n",
            "Epoch 33/200\n",
            "363/363 [==============================] - 0s 57us/step - loss: 346.4240 - mean_squared_error: 346.4240 - val_loss: 268.6678 - val_mean_squared_error: 268.6678\n",
            "Epoch 34/200\n",
            "363/363 [==============================] - 0s 56us/step - loss: 343.5924 - mean_squared_error: 343.5924 - val_loss: 264.4689 - val_mean_squared_error: 264.4689\n",
            "Epoch 35/200\n",
            "363/363 [==============================] - 0s 64us/step - loss: 339.1546 - mean_squared_error: 339.1546 - val_loss: 260.3072 - val_mean_squared_error: 260.3072\n",
            "Epoch 36/200\n",
            "363/363 [==============================] - 0s 56us/step - loss: 335.1185 - mean_squared_error: 335.1185 - val_loss: 256.1559 - val_mean_squared_error: 256.1559\n",
            "Epoch 37/200\n",
            "363/363 [==============================] - 0s 56us/step - loss: 329.6608 - mean_squared_error: 329.6608 - val_loss: 252.0746 - val_mean_squared_error: 252.0746\n",
            "Epoch 38/200\n",
            "363/363 [==============================] - 0s 59us/step - loss: 325.0899 - mean_squared_error: 325.0899 - val_loss: 247.9669 - val_mean_squared_error: 247.9669\n",
            "Epoch 39/200\n",
            "363/363 [==============================] - 0s 57us/step - loss: 323.4557 - mean_squared_error: 323.4557 - val_loss: 244.0162 - val_mean_squared_error: 244.0162\n",
            "Epoch 40/200\n",
            "363/363 [==============================] - 0s 61us/step - loss: 318.8848 - mean_squared_error: 318.8848 - val_loss: 240.0020 - val_mean_squared_error: 240.0020\n",
            "Epoch 41/200\n",
            "363/363 [==============================] - 0s 59us/step - loss: 314.6724 - mean_squared_error: 314.6724 - val_loss: 235.9538 - val_mean_squared_error: 235.9538\n",
            "Epoch 42/200\n",
            "363/363 [==============================] - 0s 57us/step - loss: 311.8242 - mean_squared_error: 311.8242 - val_loss: 231.8733 - val_mean_squared_error: 231.8733\n",
            "Epoch 43/200\n",
            "363/363 [==============================] - 0s 54us/step - loss: 303.9772 - mean_squared_error: 303.9772 - val_loss: 227.5434 - val_mean_squared_error: 227.5434\n",
            "Epoch 44/200\n",
            "363/363 [==============================] - 0s 57us/step - loss: 302.9241 - mean_squared_error: 302.9241 - val_loss: 223.3005 - val_mean_squared_error: 223.3005\n",
            "Epoch 45/200\n",
            "363/363 [==============================] - 0s 60us/step - loss: 294.8070 - mean_squared_error: 294.8070 - val_loss: 218.8007 - val_mean_squared_error: 218.8007\n",
            "Epoch 46/200\n",
            "363/363 [==============================] - 0s 54us/step - loss: 290.8741 - mean_squared_error: 290.8741 - val_loss: 214.4450 - val_mean_squared_error: 214.4450\n",
            "Epoch 47/200\n",
            "363/363 [==============================] - 0s 56us/step - loss: 287.5189 - mean_squared_error: 287.5189 - val_loss: 210.1003 - val_mean_squared_error: 210.1003\n",
            "Epoch 48/200\n",
            "363/363 [==============================] - 0s 61us/step - loss: 281.8518 - mean_squared_error: 281.8518 - val_loss: 205.8241 - val_mean_squared_error: 205.8241\n",
            "Epoch 49/200\n",
            "363/363 [==============================] - 0s 60us/step - loss: 278.2040 - mean_squared_error: 278.2040 - val_loss: 201.5806 - val_mean_squared_error: 201.5806\n",
            "Epoch 50/200\n",
            "363/363 [==============================] - 0s 60us/step - loss: 272.6356 - mean_squared_error: 272.6356 - val_loss: 197.4602 - val_mean_squared_error: 197.4602\n",
            "Epoch 51/200\n",
            "363/363 [==============================] - 0s 55us/step - loss: 268.9286 - mean_squared_error: 268.9286 - val_loss: 193.4096 - val_mean_squared_error: 193.4096\n",
            "Epoch 52/200\n",
            "363/363 [==============================] - 0s 58us/step - loss: 263.6873 - mean_squared_error: 263.6873 - val_loss: 189.4228 - val_mean_squared_error: 189.4228\n",
            "Epoch 53/200\n",
            "363/363 [==============================] - 0s 59us/step - loss: 260.4120 - mean_squared_error: 260.4120 - val_loss: 185.5799 - val_mean_squared_error: 185.5799\n",
            "Epoch 54/200\n",
            "363/363 [==============================] - 0s 56us/step - loss: 256.3646 - mean_squared_error: 256.3646 - val_loss: 181.6239 - val_mean_squared_error: 181.6239\n",
            "Epoch 55/200\n",
            "363/363 [==============================] - 0s 58us/step - loss: 251.7699 - mean_squared_error: 251.7699 - val_loss: 177.9370 - val_mean_squared_error: 177.9370\n",
            "Epoch 56/200\n",
            "363/363 [==============================] - 0s 57us/step - loss: 247.6915 - mean_squared_error: 247.6915 - val_loss: 174.1420 - val_mean_squared_error: 174.1420\n",
            "Epoch 57/200\n",
            "363/363 [==============================] - 0s 52us/step - loss: 244.1007 - mean_squared_error: 244.1007 - val_loss: 170.3583 - val_mean_squared_error: 170.3583\n",
            "Epoch 58/200\n",
            "363/363 [==============================] - 0s 60us/step - loss: 237.7940 - mean_squared_error: 237.7940 - val_loss: 166.8995 - val_mean_squared_error: 166.8995\n",
            "Epoch 59/200\n",
            "363/363 [==============================] - 0s 53us/step - loss: 234.2581 - mean_squared_error: 234.2581 - val_loss: 163.3620 - val_mean_squared_error: 163.3620\n",
            "Epoch 60/200\n",
            "363/363 [==============================] - 0s 52us/step - loss: 233.3966 - mean_squared_error: 233.3966 - val_loss: 159.9831 - val_mean_squared_error: 159.9831\n",
            "Epoch 61/200\n",
            "363/363 [==============================] - 0s 53us/step - loss: 227.1479 - mean_squared_error: 227.1479 - val_loss: 156.5572 - val_mean_squared_error: 156.5572\n",
            "Epoch 62/200\n",
            "363/363 [==============================] - 0s 65us/step - loss: 223.4026 - mean_squared_error: 223.4026 - val_loss: 152.9816 - val_mean_squared_error: 152.9816\n",
            "Epoch 63/200\n",
            "363/363 [==============================] - 0s 62us/step - loss: 219.3147 - mean_squared_error: 219.3147 - val_loss: 149.2201 - val_mean_squared_error: 149.2201\n",
            "Epoch 64/200\n",
            "363/363 [==============================] - 0s 53us/step - loss: 216.2772 - mean_squared_error: 216.2772 - val_loss: 145.5521 - val_mean_squared_error: 145.5521\n",
            "Epoch 65/200\n",
            "363/363 [==============================] - 0s 55us/step - loss: 210.1216 - mean_squared_error: 210.1216 - val_loss: 141.9065 - val_mean_squared_error: 141.9065\n",
            "Epoch 66/200\n",
            "363/363 [==============================] - 0s 57us/step - loss: 210.3549 - mean_squared_error: 210.3549 - val_loss: 138.1818 - val_mean_squared_error: 138.1818\n",
            "Epoch 67/200\n",
            "363/363 [==============================] - 0s 57us/step - loss: 203.9848 - mean_squared_error: 203.9848 - val_loss: 134.4675 - val_mean_squared_error: 134.4675\n",
            "Epoch 68/200\n",
            "363/363 [==============================] - 0s 62us/step - loss: 200.9857 - mean_squared_error: 200.9857 - val_loss: 130.8599 - val_mean_squared_error: 130.8599\n",
            "Epoch 69/200\n",
            "363/363 [==============================] - 0s 54us/step - loss: 195.1440 - mean_squared_error: 195.1440 - val_loss: 127.4532 - val_mean_squared_error: 127.4532\n",
            "Epoch 70/200\n",
            "363/363 [==============================] - 0s 56us/step - loss: 195.8797 - mean_squared_error: 195.8797 - val_loss: 124.0918 - val_mean_squared_error: 124.0918\n",
            "Epoch 71/200\n",
            "363/363 [==============================] - 0s 53us/step - loss: 190.1280 - mean_squared_error: 190.1280 - val_loss: 120.9018 - val_mean_squared_error: 120.9018\n",
            "Epoch 72/200\n",
            "363/363 [==============================] - 0s 52us/step - loss: 187.3668 - mean_squared_error: 187.3668 - val_loss: 117.8031 - val_mean_squared_error: 117.8031\n",
            "Epoch 73/200\n",
            "363/363 [==============================] - 0s 61us/step - loss: 181.0354 - mean_squared_error: 181.0354 - val_loss: 114.4974 - val_mean_squared_error: 114.4974\n",
            "Epoch 74/200\n",
            "363/363 [==============================] - 0s 54us/step - loss: 176.9229 - mean_squared_error: 176.9229 - val_loss: 111.6512 - val_mean_squared_error: 111.6512\n",
            "Epoch 75/200\n",
            "363/363 [==============================] - 0s 59us/step - loss: 175.7498 - mean_squared_error: 175.7498 - val_loss: 108.6159 - val_mean_squared_error: 108.6159\n",
            "Epoch 76/200\n",
            "363/363 [==============================] - 0s 59us/step - loss: 172.6632 - mean_squared_error: 172.6632 - val_loss: 105.5865 - val_mean_squared_error: 105.5865\n",
            "Epoch 77/200\n",
            "363/363 [==============================] - 0s 52us/step - loss: 165.2772 - mean_squared_error: 165.2772 - val_loss: 102.6555 - val_mean_squared_error: 102.6555\n",
            "Epoch 78/200\n",
            "363/363 [==============================] - 0s 55us/step - loss: 166.5108 - mean_squared_error: 166.5108 - val_loss: 99.8029 - val_mean_squared_error: 99.8029\n",
            "Epoch 79/200\n",
            "363/363 [==============================] - 0s 68us/step - loss: 161.0131 - mean_squared_error: 161.0131 - val_loss: 96.7855 - val_mean_squared_error: 96.7855\n",
            "Epoch 80/200\n",
            "363/363 [==============================] - 0s 57us/step - loss: 159.6044 - mean_squared_error: 159.6044 - val_loss: 93.9189 - val_mean_squared_error: 93.9189\n",
            "Epoch 81/200\n",
            "363/363 [==============================] - 0s 54us/step - loss: 156.0946 - mean_squared_error: 156.0946 - val_loss: 91.1995 - val_mean_squared_error: 91.1995\n",
            "Epoch 82/200\n",
            "363/363 [==============================] - 0s 55us/step - loss: 151.9873 - mean_squared_error: 151.9873 - val_loss: 88.3850 - val_mean_squared_error: 88.3850\n",
            "Epoch 83/200\n",
            "363/363 [==============================] - 0s 61us/step - loss: 150.2989 - mean_squared_error: 150.2989 - val_loss: 85.7459 - val_mean_squared_error: 85.7459\n",
            "Epoch 84/200\n",
            "363/363 [==============================] - 0s 56us/step - loss: 147.3758 - mean_squared_error: 147.3758 - val_loss: 83.1140 - val_mean_squared_error: 83.1140\n",
            "Epoch 85/200\n",
            "363/363 [==============================] - 0s 62us/step - loss: 143.9091 - mean_squared_error: 143.9091 - val_loss: 80.5215 - val_mean_squared_error: 80.5215\n",
            "Epoch 86/200\n",
            "363/363 [==============================] - 0s 59us/step - loss: 142.4338 - mean_squared_error: 142.4338 - val_loss: 78.2367 - val_mean_squared_error: 78.2367\n",
            "Epoch 87/200\n",
            "363/363 [==============================] - 0s 64us/step - loss: 136.7187 - mean_squared_error: 136.7187 - val_loss: 75.9057 - val_mean_squared_error: 75.9057\n",
            "Epoch 88/200\n",
            "363/363 [==============================] - 0s 72us/step - loss: 136.4916 - mean_squared_error: 136.4916 - val_loss: 73.7595 - val_mean_squared_error: 73.7595\n",
            "Epoch 89/200\n",
            "363/363 [==============================] - 0s 59us/step - loss: 134.3875 - mean_squared_error: 134.3875 - val_loss: 71.6553 - val_mean_squared_error: 71.6553\n",
            "Epoch 90/200\n",
            "363/363 [==============================] - 0s 56us/step - loss: 130.3973 - mean_squared_error: 130.3973 - val_loss: 69.8046 - val_mean_squared_error: 69.8046\n",
            "Epoch 91/200\n",
            "363/363 [==============================] - 0s 57us/step - loss: 129.4612 - mean_squared_error: 129.4612 - val_loss: 67.9395 - val_mean_squared_error: 67.9395\n",
            "Epoch 92/200\n",
            "363/363 [==============================] - 0s 58us/step - loss: 125.5708 - mean_squared_error: 125.5708 - val_loss: 66.0644 - val_mean_squared_error: 66.0644\n",
            "Epoch 93/200\n",
            "363/363 [==============================] - 0s 51us/step - loss: 123.0982 - mean_squared_error: 123.0982 - val_loss: 64.2221 - val_mean_squared_error: 64.2221\n",
            "Epoch 94/200\n",
            "363/363 [==============================] - 0s 55us/step - loss: 124.1469 - mean_squared_error: 124.1469 - val_loss: 62.4548 - val_mean_squared_error: 62.4548\n",
            "Epoch 95/200\n",
            "363/363 [==============================] - 0s 70us/step - loss: 121.7820 - mean_squared_error: 121.7820 - val_loss: 60.7758 - val_mean_squared_error: 60.7758\n",
            "Epoch 96/200\n",
            "363/363 [==============================] - 0s 63us/step - loss: 115.3978 - mean_squared_error: 115.3978 - val_loss: 59.1802 - val_mean_squared_error: 59.1802\n",
            "Epoch 97/200\n",
            "363/363 [==============================] - 0s 69us/step - loss: 116.0093 - mean_squared_error: 116.0093 - val_loss: 57.3665 - val_mean_squared_error: 57.3665\n",
            "Epoch 98/200\n",
            "363/363 [==============================] - 0s 59us/step - loss: 113.6536 - mean_squared_error: 113.6536 - val_loss: 55.6858 - val_mean_squared_error: 55.6858\n",
            "Epoch 99/200\n",
            "363/363 [==============================] - 0s 58us/step - loss: 111.7904 - mean_squared_error: 111.7904 - val_loss: 53.9552 - val_mean_squared_error: 53.9552\n",
            "Epoch 100/200\n",
            "363/363 [==============================] - 0s 51us/step - loss: 106.5033 - mean_squared_error: 106.5033 - val_loss: 52.2815 - val_mean_squared_error: 52.2815\n",
            "Epoch 101/200\n",
            "363/363 [==============================] - 0s 58us/step - loss: 108.6148 - mean_squared_error: 108.6148 - val_loss: 50.4680 - val_mean_squared_error: 50.4680\n",
            "Epoch 102/200\n",
            "363/363 [==============================] - 0s 53us/step - loss: 103.5950 - mean_squared_error: 103.5950 - val_loss: 48.8075 - val_mean_squared_error: 48.8075\n",
            "Epoch 103/200\n",
            "363/363 [==============================] - 0s 60us/step - loss: 103.5776 - mean_squared_error: 103.5776 - val_loss: 47.2100 - val_mean_squared_error: 47.2100\n",
            "Epoch 104/200\n",
            "363/363 [==============================] - 0s 54us/step - loss: 101.7443 - mean_squared_error: 101.7443 - val_loss: 45.6433 - val_mean_squared_error: 45.6433\n",
            "Epoch 105/200\n",
            "363/363 [==============================] - 0s 56us/step - loss: 97.3396 - mean_squared_error: 97.3396 - val_loss: 44.0812 - val_mean_squared_error: 44.0812\n",
            "Epoch 106/200\n",
            "363/363 [==============================] - 0s 57us/step - loss: 98.4699 - mean_squared_error: 98.4699 - val_loss: 42.6796 - val_mean_squared_error: 42.6796\n",
            "Epoch 107/200\n",
            "363/363 [==============================] - 0s 61us/step - loss: 98.1427 - mean_squared_error: 98.1427 - val_loss: 41.3626 - val_mean_squared_error: 41.3626\n",
            "Epoch 108/200\n",
            "363/363 [==============================] - 0s 58us/step - loss: 96.0347 - mean_squared_error: 96.0347 - val_loss: 40.1952 - val_mean_squared_error: 40.1952\n",
            "Epoch 109/200\n",
            "363/363 [==============================] - 0s 54us/step - loss: 91.6978 - mean_squared_error: 91.6978 - val_loss: 39.0072 - val_mean_squared_error: 39.0072\n",
            "Epoch 110/200\n",
            "363/363 [==============================] - 0s 55us/step - loss: 92.2500 - mean_squared_error: 92.2500 - val_loss: 37.9693 - val_mean_squared_error: 37.9693\n",
            "Epoch 111/200\n",
            "363/363 [==============================] - 0s 61us/step - loss: 87.9651 - mean_squared_error: 87.9651 - val_loss: 37.1508 - val_mean_squared_error: 37.1508\n",
            "Epoch 112/200\n",
            "363/363 [==============================] - 0s 55us/step - loss: 87.7349 - mean_squared_error: 87.7349 - val_loss: 36.4075 - val_mean_squared_error: 36.4075\n",
            "Epoch 113/200\n",
            "363/363 [==============================] - 0s 52us/step - loss: 87.2887 - mean_squared_error: 87.2887 - val_loss: 35.6394 - val_mean_squared_error: 35.6394\n",
            "Epoch 114/200\n",
            "363/363 [==============================] - 0s 54us/step - loss: 82.0709 - mean_squared_error: 82.0709 - val_loss: 35.0652 - val_mean_squared_error: 35.0652\n",
            "Epoch 115/200\n",
            "363/363 [==============================] - 0s 52us/step - loss: 87.8977 - mean_squared_error: 87.8977 - val_loss: 34.5903 - val_mean_squared_error: 34.5903\n",
            "Epoch 116/200\n",
            "363/363 [==============================] - 0s 54us/step - loss: 83.7077 - mean_squared_error: 83.7077 - val_loss: 34.1044 - val_mean_squared_error: 34.1044\n",
            "Epoch 117/200\n",
            "363/363 [==============================] - 0s 56us/step - loss: 84.8504 - mean_squared_error: 84.8504 - val_loss: 33.7322 - val_mean_squared_error: 33.7322\n",
            "Epoch 118/200\n",
            "363/363 [==============================] - 0s 58us/step - loss: 85.4967 - mean_squared_error: 85.4967 - val_loss: 33.3283 - val_mean_squared_error: 33.3283\n",
            "Epoch 119/200\n",
            "363/363 [==============================] - 0s 55us/step - loss: 81.8289 - mean_squared_error: 81.8289 - val_loss: 33.0263 - val_mean_squared_error: 33.0263\n",
            "Epoch 120/200\n",
            "363/363 [==============================] - 0s 61us/step - loss: 82.6736 - mean_squared_error: 82.6736 - val_loss: 32.7330 - val_mean_squared_error: 32.7330\n",
            "Epoch 121/200\n",
            "363/363 [==============================] - 0s 59us/step - loss: 81.1269 - mean_squared_error: 81.1269 - val_loss: 32.4374 - val_mean_squared_error: 32.4374\n",
            "Epoch 122/200\n",
            "363/363 [==============================] - 0s 58us/step - loss: 78.6156 - mean_squared_error: 78.6156 - val_loss: 32.1701 - val_mean_squared_error: 32.1701\n",
            "Epoch 123/200\n",
            "363/363 [==============================] - 0s 64us/step - loss: 81.0265 - mean_squared_error: 81.0265 - val_loss: 31.9623 - val_mean_squared_error: 31.9623\n",
            "Epoch 124/200\n",
            "363/363 [==============================] - 0s 53us/step - loss: 76.7481 - mean_squared_error: 76.7481 - val_loss: 31.7959 - val_mean_squared_error: 31.7959\n",
            "Epoch 125/200\n",
            "363/363 [==============================] - 0s 57us/step - loss: 83.1795 - mean_squared_error: 83.1795 - val_loss: 31.6226 - val_mean_squared_error: 31.6226\n",
            "Epoch 126/200\n",
            "363/363 [==============================] - 0s 57us/step - loss: 80.5502 - mean_squared_error: 80.5502 - val_loss: 31.4619 - val_mean_squared_error: 31.4619\n",
            "Epoch 127/200\n",
            "363/363 [==============================] - 0s 61us/step - loss: 76.6362 - mean_squared_error: 76.6362 - val_loss: 31.2945 - val_mean_squared_error: 31.2945\n",
            "Epoch 128/200\n",
            "363/363 [==============================] - 0s 59us/step - loss: 75.5913 - mean_squared_error: 75.5913 - val_loss: 31.1525 - val_mean_squared_error: 31.1525\n",
            "Epoch 129/200\n",
            "363/363 [==============================] - 0s 63us/step - loss: 78.1943 - mean_squared_error: 78.1943 - val_loss: 31.0179 - val_mean_squared_error: 31.0179\n",
            "Epoch 130/200\n",
            "363/363 [==============================] - 0s 62us/step - loss: 78.1559 - mean_squared_error: 78.1559 - val_loss: 30.8988 - val_mean_squared_error: 30.8988\n",
            "Epoch 131/200\n",
            "363/363 [==============================] - 0s 64us/step - loss: 78.7921 - mean_squared_error: 78.7921 - val_loss: 30.7328 - val_mean_squared_error: 30.7328\n",
            "Epoch 132/200\n",
            "363/363 [==============================] - 0s 64us/step - loss: 76.5706 - mean_squared_error: 76.5706 - val_loss: 30.5804 - val_mean_squared_error: 30.5804\n",
            "Epoch 133/200\n",
            "363/363 [==============================] - 0s 55us/step - loss: 75.8598 - mean_squared_error: 75.8598 - val_loss: 30.4570 - val_mean_squared_error: 30.4570\n",
            "Epoch 134/200\n",
            "363/363 [==============================] - 0s 62us/step - loss: 75.8293 - mean_squared_error: 75.8293 - val_loss: 30.2734 - val_mean_squared_error: 30.2734\n",
            "Epoch 135/200\n",
            "363/363 [==============================] - 0s 61us/step - loss: 78.0975 - mean_squared_error: 78.0975 - val_loss: 30.1533 - val_mean_squared_error: 30.1533\n",
            "Epoch 136/200\n",
            "363/363 [==============================] - 0s 91us/step - loss: 74.0495 - mean_squared_error: 74.0495 - val_loss: 30.0209 - val_mean_squared_error: 30.0209\n",
            "Epoch 137/200\n",
            "363/363 [==============================] - 0s 58us/step - loss: 75.8937 - mean_squared_error: 75.8937 - val_loss: 29.9256 - val_mean_squared_error: 29.9256\n",
            "Epoch 138/200\n",
            "363/363 [==============================] - 0s 59us/step - loss: 71.8347 - mean_squared_error: 71.8347 - val_loss: 29.8065 - val_mean_squared_error: 29.8065\n",
            "Epoch 139/200\n",
            "363/363 [==============================] - 0s 66us/step - loss: 74.1358 - mean_squared_error: 74.1358 - val_loss: 29.6820 - val_mean_squared_error: 29.6820\n",
            "Epoch 140/200\n",
            "363/363 [==============================] - 0s 55us/step - loss: 78.6777 - mean_squared_error: 78.6777 - val_loss: 29.5363 - val_mean_squared_error: 29.5363\n",
            "Epoch 141/200\n",
            "363/363 [==============================] - 0s 64us/step - loss: 73.7851 - mean_squared_error: 73.7851 - val_loss: 29.4065 - val_mean_squared_error: 29.4065\n",
            "Epoch 142/200\n",
            "363/363 [==============================] - 0s 57us/step - loss: 73.8565 - mean_squared_error: 73.8565 - val_loss: 29.2683 - val_mean_squared_error: 29.2683\n",
            "Epoch 143/200\n",
            "363/363 [==============================] - 0s 64us/step - loss: 74.3259 - mean_squared_error: 74.3259 - val_loss: 29.1340 - val_mean_squared_error: 29.1340\n",
            "Epoch 144/200\n",
            "363/363 [==============================] - 0s 57us/step - loss: 75.2178 - mean_squared_error: 75.2178 - val_loss: 29.0263 - val_mean_squared_error: 29.0263\n",
            "Epoch 145/200\n",
            "363/363 [==============================] - 0s 54us/step - loss: 74.1009 - mean_squared_error: 74.1009 - val_loss: 28.8672 - val_mean_squared_error: 28.8672\n",
            "Epoch 146/200\n",
            "363/363 [==============================] - 0s 59us/step - loss: 74.2499 - mean_squared_error: 74.2499 - val_loss: 28.6761 - val_mean_squared_error: 28.6761\n",
            "Epoch 147/200\n",
            "363/363 [==============================] - 0s 58us/step - loss: 74.9481 - mean_squared_error: 74.9481 - val_loss: 28.5191 - val_mean_squared_error: 28.5191\n",
            "Epoch 148/200\n",
            "363/363 [==============================] - 0s 59us/step - loss: 68.8704 - mean_squared_error: 68.8704 - val_loss: 28.4768 - val_mean_squared_error: 28.4768\n",
            "Epoch 149/200\n",
            "363/363 [==============================] - 0s 64us/step - loss: 70.7627 - mean_squared_error: 70.7627 - val_loss: 28.3609 - val_mean_squared_error: 28.3609\n",
            "Epoch 150/200\n",
            "363/363 [==============================] - 0s 56us/step - loss: 73.9236 - mean_squared_error: 73.9236 - val_loss: 28.1761 - val_mean_squared_error: 28.1761\n",
            "Epoch 151/200\n",
            "363/363 [==============================] - 0s 56us/step - loss: 71.2928 - mean_squared_error: 71.2928 - val_loss: 28.0280 - val_mean_squared_error: 28.0280\n",
            "Epoch 152/200\n",
            "363/363 [==============================] - 0s 55us/step - loss: 72.1084 - mean_squared_error: 72.1084 - val_loss: 27.8683 - val_mean_squared_error: 27.8683\n",
            "Epoch 153/200\n",
            "363/363 [==============================] - 0s 52us/step - loss: 73.3317 - mean_squared_error: 73.3317 - val_loss: 27.6045 - val_mean_squared_error: 27.6045\n",
            "Epoch 154/200\n",
            "363/363 [==============================] - 0s 54us/step - loss: 72.4847 - mean_squared_error: 72.4847 - val_loss: 27.4072 - val_mean_squared_error: 27.4072\n",
            "Epoch 155/200\n",
            "363/363 [==============================] - 0s 67us/step - loss: 71.6431 - mean_squared_error: 71.6431 - val_loss: 27.2058 - val_mean_squared_error: 27.2058\n",
            "Epoch 156/200\n",
            "363/363 [==============================] - 0s 56us/step - loss: 70.9938 - mean_squared_error: 70.9938 - val_loss: 26.9777 - val_mean_squared_error: 26.9777\n",
            "Epoch 157/200\n",
            "363/363 [==============================] - 0s 54us/step - loss: 70.7612 - mean_squared_error: 70.7612 - val_loss: 26.7224 - val_mean_squared_error: 26.7224\n",
            "Epoch 158/200\n",
            "363/363 [==============================] - 0s 61us/step - loss: 70.8690 - mean_squared_error: 70.8690 - val_loss: 26.4004 - val_mean_squared_error: 26.4004\n",
            "Epoch 159/200\n",
            "363/363 [==============================] - 0s 67us/step - loss: 65.7006 - mean_squared_error: 65.7006 - val_loss: 26.0032 - val_mean_squared_error: 26.0032\n",
            "Epoch 160/200\n",
            "363/363 [==============================] - 0s 57us/step - loss: 69.9574 - mean_squared_error: 69.9574 - val_loss: 25.5865 - val_mean_squared_error: 25.5865\n",
            "Epoch 161/200\n",
            "363/363 [==============================] - 0s 57us/step - loss: 65.8206 - mean_squared_error: 65.8206 - val_loss: 25.1303 - val_mean_squared_error: 25.1303\n",
            "Epoch 162/200\n",
            "363/363 [==============================] - 0s 56us/step - loss: 66.6068 - mean_squared_error: 66.6068 - val_loss: 24.7767 - val_mean_squared_error: 24.7767\n",
            "Epoch 163/200\n",
            "363/363 [==============================] - 0s 57us/step - loss: 64.7723 - mean_squared_error: 64.7723 - val_loss: 24.3777 - val_mean_squared_error: 24.3777\n",
            "Epoch 164/200\n",
            "363/363 [==============================] - 0s 58us/step - loss: 67.2132 - mean_squared_error: 67.2132 - val_loss: 23.9927 - val_mean_squared_error: 23.9927\n",
            "Epoch 165/200\n",
            "363/363 [==============================] - 0s 64us/step - loss: 65.9754 - mean_squared_error: 65.9754 - val_loss: 23.6813 - val_mean_squared_error: 23.6813\n",
            "Epoch 166/200\n",
            "363/363 [==============================] - 0s 59us/step - loss: 65.0182 - mean_squared_error: 65.0182 - val_loss: 23.3420 - val_mean_squared_error: 23.3420\n",
            "Epoch 167/200\n",
            "363/363 [==============================] - 0s 65us/step - loss: 62.4998 - mean_squared_error: 62.4998 - val_loss: 23.0857 - val_mean_squared_error: 23.0857\n",
            "Epoch 168/200\n",
            "363/363 [==============================] - 0s 62us/step - loss: 63.6818 - mean_squared_error: 63.6818 - val_loss: 22.8207 - val_mean_squared_error: 22.8207\n",
            "Epoch 169/200\n",
            "363/363 [==============================] - 0s 58us/step - loss: 64.0509 - mean_squared_error: 64.0509 - val_loss: 22.5464 - val_mean_squared_error: 22.5464\n",
            "Epoch 170/200\n",
            "363/363 [==============================] - 0s 57us/step - loss: 63.7379 - mean_squared_error: 63.7379 - val_loss: 22.3142 - val_mean_squared_error: 22.3142\n",
            "Epoch 171/200\n",
            "363/363 [==============================] - 0s 57us/step - loss: 63.9724 - mean_squared_error: 63.9724 - val_loss: 22.0993 - val_mean_squared_error: 22.0993\n",
            "Epoch 172/200\n",
            "363/363 [==============================] - 0s 55us/step - loss: 63.0720 - mean_squared_error: 63.0720 - val_loss: 21.8933 - val_mean_squared_error: 21.8933\n",
            "Epoch 173/200\n",
            "363/363 [==============================] - 0s 54us/step - loss: 62.0157 - mean_squared_error: 62.0157 - val_loss: 21.7384 - val_mean_squared_error: 21.7384\n",
            "Epoch 174/200\n",
            "363/363 [==============================] - 0s 55us/step - loss: 60.2963 - mean_squared_error: 60.2963 - val_loss: 21.6062 - val_mean_squared_error: 21.6062\n",
            "Epoch 175/200\n",
            "363/363 [==============================] - 0s 60us/step - loss: 61.5781 - mean_squared_error: 61.5781 - val_loss: 21.5076 - val_mean_squared_error: 21.5076\n",
            "Epoch 176/200\n",
            "363/363 [==============================] - 0s 61us/step - loss: 60.2210 - mean_squared_error: 60.2210 - val_loss: 21.4059 - val_mean_squared_error: 21.4059\n",
            "Epoch 177/200\n",
            "363/363 [==============================] - 0s 66us/step - loss: 61.8776 - mean_squared_error: 61.8776 - val_loss: 21.3092 - val_mean_squared_error: 21.3092\n",
            "Epoch 178/200\n",
            "363/363 [==============================] - 0s 59us/step - loss: 59.8798 - mean_squared_error: 59.8798 - val_loss: 21.2077 - val_mean_squared_error: 21.2077\n",
            "Epoch 179/200\n",
            "363/363 [==============================] - 0s 56us/step - loss: 59.7391 - mean_squared_error: 59.7391 - val_loss: 21.0850 - val_mean_squared_error: 21.0850\n",
            "Epoch 180/200\n",
            "363/363 [==============================] - 0s 59us/step - loss: 60.3004 - mean_squared_error: 60.3004 - val_loss: 21.0279 - val_mean_squared_error: 21.0279\n",
            "Epoch 181/200\n",
            "363/363 [==============================] - 0s 57us/step - loss: 59.7499 - mean_squared_error: 59.7499 - val_loss: 20.9216 - val_mean_squared_error: 20.9216\n",
            "Epoch 182/200\n",
            "363/363 [==============================] - 0s 60us/step - loss: 61.6404 - mean_squared_error: 61.6404 - val_loss: 20.7932 - val_mean_squared_error: 20.7932\n",
            "Epoch 183/200\n",
            "363/363 [==============================] - 0s 56us/step - loss: 56.1596 - mean_squared_error: 56.1596 - val_loss: 20.7115 - val_mean_squared_error: 20.7115\n",
            "Epoch 184/200\n",
            "363/363 [==============================] - 0s 57us/step - loss: 57.2653 - mean_squared_error: 57.2653 - val_loss: 20.6082 - val_mean_squared_error: 20.6082\n",
            "Epoch 185/200\n",
            "363/363 [==============================] - 0s 55us/step - loss: 62.1257 - mean_squared_error: 62.1257 - val_loss: 20.5675 - val_mean_squared_error: 20.5675\n",
            "Epoch 186/200\n",
            "363/363 [==============================] - 0s 51us/step - loss: 58.6816 - mean_squared_error: 58.6816 - val_loss: 20.5110 - val_mean_squared_error: 20.5110\n",
            "Epoch 187/200\n",
            "363/363 [==============================] - 0s 55us/step - loss: 59.5045 - mean_squared_error: 59.5045 - val_loss: 20.4418 - val_mean_squared_error: 20.4418\n",
            "Epoch 188/200\n",
            "363/363 [==============================] - 0s 56us/step - loss: 58.8579 - mean_squared_error: 58.8579 - val_loss: 20.3362 - val_mean_squared_error: 20.3362\n",
            "Epoch 189/200\n",
            "363/363 [==============================] - 0s 57us/step - loss: 56.3584 - mean_squared_error: 56.3584 - val_loss: 20.2397 - val_mean_squared_error: 20.2397\n",
            "Epoch 190/200\n",
            "363/363 [==============================] - 0s 56us/step - loss: 56.3023 - mean_squared_error: 56.3023 - val_loss: 20.1487 - val_mean_squared_error: 20.1487\n",
            "Epoch 191/200\n",
            "363/363 [==============================] - 0s 60us/step - loss: 59.0579 - mean_squared_error: 59.0579 - val_loss: 20.0728 - val_mean_squared_error: 20.0728\n",
            "Epoch 192/200\n",
            "363/363 [==============================] - 0s 57us/step - loss: 55.5759 - mean_squared_error: 55.5759 - val_loss: 19.9500 - val_mean_squared_error: 19.9500\n",
            "Epoch 193/200\n",
            "363/363 [==============================] - 0s 62us/step - loss: 60.0369 - mean_squared_error: 60.0369 - val_loss: 19.8984 - val_mean_squared_error: 19.8984\n",
            "Epoch 194/200\n",
            "363/363 [==============================] - 0s 59us/step - loss: 57.3058 - mean_squared_error: 57.3058 - val_loss: 19.8139 - val_mean_squared_error: 19.8139\n",
            "Epoch 195/200\n",
            "363/363 [==============================] - 0s 56us/step - loss: 54.1935 - mean_squared_error: 54.1935 - val_loss: 19.7243 - val_mean_squared_error: 19.7243\n",
            "Epoch 196/200\n",
            "363/363 [==============================] - 0s 58us/step - loss: 56.7574 - mean_squared_error: 56.7574 - val_loss: 19.6729 - val_mean_squared_error: 19.6729\n",
            "Epoch 197/200\n",
            "363/363 [==============================] - 0s 55us/step - loss: 52.3272 - mean_squared_error: 52.3272 - val_loss: 19.5672 - val_mean_squared_error: 19.5672\n",
            "Epoch 198/200\n",
            "363/363 [==============================] - 0s 60us/step - loss: 54.7995 - mean_squared_error: 54.7995 - val_loss: 19.5032 - val_mean_squared_error: 19.5032\n",
            "Epoch 199/200\n",
            "363/363 [==============================] - 0s 59us/step - loss: 59.1478 - mean_squared_error: 59.1478 - val_loss: 19.4378 - val_mean_squared_error: 19.4378\n",
            "Epoch 200/200\n",
            "363/363 [==============================] - 0s 57us/step - loss: 56.5986 - mean_squared_error: 56.5986 - val_loss: 19.3847 - val_mean_squared_error: 19.3847\n",
            "102/102 [==============================] - 0s 38us/step\n"
          ],
          "name": "stdout"
        }
      ]
    },
    {
      "metadata": {
        "id": "ueTpLgK_Sg8o",
        "colab_type": "code",
        "outputId": "210f6c19-6398-48cf-f8cb-0718a7f1fb86",
        "colab": {
          "base_uri": "https://localhost:8080/",
          "height": 52
        }
      },
      "cell_type": "code",
      "source": [
        "print(f\"{model.metrics_names[1]}: {scores[1]}\")\n",
        "mse = scores[1]\n",
        "print(f'Root Mean Square Error from NN is {np.sqrt(mse)}')"
      ],
      "execution_count": 0,
      "outputs": [
        {
          "output_type": "stream",
          "text": [
            "mean_squared_error: 50.008289262360215\n",
            "Root Mean Square Error from NN is 7.071653926936769\n"
          ],
          "name": "stdout"
        }
      ]
    },
    {
      "metadata": {
        "id": "ekZ0YrbiUXVb",
        "colab_type": "text"
      },
      "cell_type": "markdown",
      "source": [
        "**Without Feature Engineering:**\n",
        "\n",
        "mean_squared_error: 17.787841497683058\n",
        "\n",
        "Root Mean Square Error from NN is 4.217563455086723\n",
        "\n",
        "**With Feature Engineering:**\n",
        "\n",
        "mean_squared_error: 17.462280871821385\n",
        "\n",
        "Root Mean Square Error from NN is 4.17878940266453\n",
        "\n",
        "**With Dropout:**\n",
        "\n",
        "mean_squared_error: 21.483923519358914\n",
        "\n",
        "Root Mean Square Error from NN is 4.635075352069146\n",
        "\n",
        "**Using sigmoid instead of ReLU:**\n",
        "\n",
        "mean_squared_error: 63.61017174814262\n",
        "\n",
        "Root Mean Square Error from NN is 7.975598519743996"
      ]
    },
    {
      "metadata": {
        "id": "pRduI6uDCO6V",
        "colab_type": "code",
        "outputId": "6a18020d-68a7-4fd5-d33c-c6356ef882e6",
        "colab": {
          "base_uri": "https://localhost:8080/",
          "height": 347
        }
      },
      "cell_type": "code",
      "source": [
        "# Use the history object that is returned from model.fit to make graphs of \n",
        "# the model's loss or train/validation accuracies by epoch.\n",
        "import matplotlib.pyplot as plt\n",
        "training_loss = fit.history['loss']\n",
        "epoch_count = range(1, len(training_loss) + 1)\n",
        "\n",
        "plt.plot(epoch_count, training_loss, 'r--')\n",
        "plt.show();"
      ],
      "execution_count": 0,
      "outputs": [
        {
          "output_type": "display_data",
          "data": {
            "image/png": "[encoded data removed]",
            "text/plain": [
              "<Figure size 576x396 with 1 Axes>"
            ]
          },
          "metadata": {
            "tags": []
          }
        }
      ]
    },
    {
      "metadata": {
        "id": "rytujh4oMbBc",
        "colab_type": "code",
        "outputId": "5bac588d-0ad3-4b31-b012-fcdaa63db7fd",
        "colab": {
          "base_uri": "https://localhost:8080/",
          "height": 347
        }
      },
      "cell_type": "code",
      "source": [
        "training_rmse = np.sqrt(fit.history['mean_squared_error'])\n",
        "epoch_count = range(1, len(training_rmse) + 1)\n",
        "\n",
        "plt.plot(epoch_count, training_rmse, 'r--')\n",
        "plt.show();"
      ],
      "execution_count": 0,
      "outputs": [
        {
          "output_type": "display_data",
          "data": {
            "image/png": "[encoded data removed]",
            "text/plain": [
              "<Figure size 576x396 with 1 Axes>"
            ]
          },
          "metadata": {
            "tags": []
          }
        }
      ]
    },
    {
      "metadata": {
        "id": "sv_z9VCMQ3lg",
        "colab_type": "code",
        "outputId": "124b60f5-f6e1-4a9c-a285-c3b25438ae76",
        "colab": {
          "base_uri": "https://localhost:8080/",
          "height": 52
        }
      },
      "cell_type": "code",
      "source": [
        "# Run this same data through a linear regression model. Which achieves higher accuracy?\n",
        "from sklearn.linear_model import LinearRegression\n",
        "from sklearn.metrics import mean_squared_error\n",
        "reg = LinearRegression().fit(X_train, y_train)\n",
        "y_pred = reg.predict(X_test)\n",
        "\n",
        "mse = mean_squared_error(y_test, y_pred)\n",
        "print(f'mean_squared_error: {mse}')\n",
        "print(f'Root Mean Square Error from Linear Regression is {np.sqrt(mse)}')"
      ],
      "execution_count": 0,
      "outputs": [
        {
          "output_type": "stream",
          "text": [
            "mean_squared_error: 22.497612801529737\n",
            "Root Mean Square Error from Linear Regression is 4.7431648507647015\n"
          ],
          "name": "stdout"
        }
      ]
    },
    {
      "metadata": {
        "id": "sF1NxNfQUOOM",
        "colab_type": "text"
      },
      "cell_type": "markdown",
      "source": [
        "**Without Feature Engineering:**\n",
        "\n",
        "mean_squared_error: 23.195599256423\n",
        "\n",
        "Root Mean Square Error from Linear Regression is 4.816180982523705\n",
        "\n",
        "**With Feature Engineering:**\n",
        "\n",
        "mean_squared_error: 22.497612801529737\n",
        "\n",
        "Root Mean Square Error from Linear Regression is 4.7431648507647015\n"
      ]
    },
    {
      "metadata": {
        "id": "SfcFnOONyuNm",
        "colab_type": "text"
      },
      "cell_type": "markdown",
      "source": [
        "## Use the Keras Library to build an image recognition network using the Fashion-MNIST dataset (also comes with keras)\n",
        "\n",
        "- Load and preprocess the image data similar to how we preprocessed the MNIST data in class.\n",
        "- Make sure to one-hot encode your category labels\n",
        "- Make sure to have your final layer have as many nodes as the number of classes that you want to predict.\n",
        "- Try different hyperparameters. What is the highest accuracy that you are able to achieve.\n",
        "- Use the history object that is returned from model.fit to make graphs of the model's loss or train/validation accuracies by epoch. \n",
        "- Remember that neural networks fall prey to randomness so you may need to run your model multiple times (or use Cross Validation) in order to tell if a change to a hyperparameter is truly producing better results."
      ]
    },
    {
      "metadata": {
        "id": "szi6-IpuzaH1",
        "colab_type": "code",
        "colab": {}
      },
      "cell_type": "code",
      "source": [
        "##### Your Code Here #####\n",
        "# Load and preprocess the image data similar to how we preprocessed the MNIST data in class.\n",
        "import keras\n",
        "import numpy as np\n",
        "from keras.datasets import fashion_mnist\n",
        "\n",
        "(X_train, y_train),(X_test, y_test) = fashion_mnist.load_data()"
      ],
      "execution_count": 0,
      "outputs": []
    },
    {
      "metadata": {
        "id": "gZPM7i1scurE",
        "colab_type": "code",
        "outputId": "c9575ba3-7f99-4602-9df0-50240d7fd034",
        "colab": {
          "base_uri": "https://localhost:8080/",
          "height": 87
        }
      },
      "cell_type": "code",
      "source": [
        "print(f'X_train shape: {X_train.shape}')\n",
        "print(f'y_train shape: {y_train.shape}')\n",
        "print(f'X_test shape: {X_test.shape}')\n",
        "print(f'y_test shape: {y_test.shape}')"
      ],
      "execution_count": 0,
      "outputs": [
        {
          "output_type": "stream",
          "text": [
            "X_train shape: (60000, 28, 28)\n",
            "y_train shape: (60000,)\n",
            "X_test shape: (10000, 28, 28)\n",
            "y_test shape: (10000,)\n"
          ],
          "name": "stdout"
        }
      ]
    },
    {
      "metadata": {
        "id": "PYqCC7fSwUwB",
        "colab_type": "code",
        "colab": {}
      },
      "cell_type": "code",
      "source": [
        "# Make sure to have your final layer have as many nodes as the number of classes\n",
        "# that you want to predict.\n",
        "\n",
        "# global hyperparameters\n",
        "batch_size = 64\n",
        "num_classes = 10\n",
        "epochs = 20"
      ],
      "execution_count": 0,
      "outputs": []
    },
    {
      "metadata": {
        "id": "bS5GfPXWuzgi",
        "colab_type": "code",
        "outputId": "ce1c6e30-ad92-4baa-affa-595da59f0146",
        "colab": {
          "base_uri": "https://localhost:8080/",
          "height": 87
        }
      },
      "cell_type": "code",
      "source": [
        "# Flatten the images\n",
        "X_train = X_train.reshape(60000, 784)\n",
        "X_test = X_test.reshape(10000, 784)\n",
        "\n",
        "X_train = X_train.astype('float32')\n",
        "X_test = X_test.astype('float32')\n",
        "\n",
        "# Make sure to one-hot encode your category labels\n",
        "# This is needed to ensure it is multinomial classification\n",
        "print(np.unique(y_train))\n",
        "print(np.unique(y_test))\n",
        "y_train = keras.utils.to_categorical(y_train, num_classes)\n",
        "y_test = keras.utils.to_categorical(y_test, num_classes)\n",
        "\n",
        "X_train /= 255\n",
        "X_test /= 255\n",
        "\n",
        "print(X_train.shape[0], 'train samples')\n",
        "print(X_test.shape[0], 'test samples')"
      ],
      "execution_count": 0,
      "outputs": [
        {
          "output_type": "stream",
          "text": [
            "[0 1 2 3 4 5 6 7 8 9]\n",
            "[0 1 2 3 4 5 6 7 8 9]\n",
            "60000 train samples\n",
            "10000 test samples\n"
          ],
          "name": "stdout"
        }
      ]
    },
    {
      "metadata": {
        "id": "o6-FP2V5wraG",
        "colab_type": "code",
        "outputId": "da52cee1-3885-4fe0-d653-c88a2b02e356",
        "colab": {
          "base_uri": "https://localhost:8080/",
          "height": 316
        }
      },
      "cell_type": "code",
      "source": [
        "# Try different hyperparameters. What is the highest accuracy that you \n",
        "# are able to achieve.\n",
        "# activation function\n",
        "# number of layers (depth)\n",
        "# and number of neurons in each layer\n",
        "model = Sequential()\n",
        "model.add(Dense(16, activation='relu', input_shape=(784,)))\n",
        "model.add(Dropout(0.1))\n",
        "model.add(Dense(16, activation='relu'))\n",
        "model.add(Dropout(0.1))\n",
        "model.add(Dense(num_classes, activation='softmax'))\n",
        "model.compile(loss='categorical_crossentropy', optimizer='adam', metrics=['accuracy'])\n",
        "model.summary()"
      ],
      "execution_count": 0,
      "outputs": [
        {
          "output_type": "stream",
          "text": [
            "_________________________________________________________________\n",
            "Layer (type)                 Output Shape              Param #   \n",
            "=================================================================\n",
            "dense_4 (Dense)              (None, 16)                12560     \n",
            "_________________________________________________________________\n",
            "dropout_3 (Dropout)          (None, 16)                0         \n",
            "_________________________________________________________________\n",
            "dense_5 (Dense)              (None, 16)                272       \n",
            "_________________________________________________________________\n",
            "dropout_4 (Dropout)          (None, 16)                0         \n",
            "_________________________________________________________________\n",
            "dense_6 (Dense)              (None, 10)                170       \n",
            "=================================================================\n",
            "Total params: 13,002\n",
            "Trainable params: 13,002\n",
            "Non-trainable params: 0\n",
            "_________________________________________________________________\n"
          ],
          "name": "stdout"
        }
      ]
    },
    {
      "metadata": {
        "id": "VV5HOwiYw3Hp",
        "colab_type": "code",
        "outputId": "e50099d2-f2f9-47bb-f6a5-dc57e38e81f4",
        "colab": {
          "base_uri": "https://localhost:8080/",
          "height": 773
        }
      },
      "cell_type": "code",
      "source": [
        "fit = model.fit(X_train, y_train, epochs=epochs, validation_split=.1)\n",
        "scores = model.evaluate(X_test,y_test)\n",
        "print(f'{model.metrics_names[1]}: {scores[1]*100}')"
      ],
      "execution_count": 0,
      "outputs": [
        {
          "output_type": "stream",
          "text": [
            "Train on 54000 samples, validate on 6000 samples\n",
            "Epoch 1/20\n",
            "54000/54000 [==============================] - 3s 64us/step - loss: 0.8669 - acc: 0.6871 - val_loss: 0.5112 - val_acc: 0.8258\n",
            "Epoch 2/20\n",
            "54000/54000 [==============================] - 3s 55us/step - loss: 0.5930 - acc: 0.7871 - val_loss: 0.4600 - val_acc: 0.8367\n",
            "Epoch 3/20\n",
            "54000/54000 [==============================] - 3s 55us/step - loss: 0.5414 - acc: 0.8041 - val_loss: 0.4377 - val_acc: 0.8433\n",
            "Epoch 4/20\n",
            "54000/54000 [==============================] - 3s 55us/step - loss: 0.5190 - acc: 0.8149 - val_loss: 0.4398 - val_acc: 0.8418\n",
            "Epoch 5/20\n",
            "54000/54000 [==============================] - 3s 54us/step - loss: 0.5017 - acc: 0.8214 - val_loss: 0.4290 - val_acc: 0.8473\n",
            "Epoch 6/20\n",
            "54000/54000 [==============================] - 3s 55us/step - loss: 0.4879 - acc: 0.8250 - val_loss: 0.4186 - val_acc: 0.8518\n",
            "Epoch 7/20\n",
            "54000/54000 [==============================] - 3s 55us/step - loss: 0.4819 - acc: 0.8270 - val_loss: 0.4351 - val_acc: 0.8410\n",
            "Epoch 8/20\n",
            "54000/54000 [==============================] - 3s 57us/step - loss: 0.4721 - acc: 0.8323 - val_loss: 0.4302 - val_acc: 0.8432\n",
            "Epoch 9/20\n",
            "54000/54000 [==============================] - 3s 56us/step - loss: 0.4646 - acc: 0.8346 - val_loss: 0.4147 - val_acc: 0.8497\n",
            "Epoch 10/20\n",
            "54000/54000 [==============================] - 3s 58us/step - loss: 0.4641 - acc: 0.8348 - val_loss: 0.4084 - val_acc: 0.8552\n",
            "Epoch 11/20\n",
            "54000/54000 [==============================] - 3s 56us/step - loss: 0.4584 - acc: 0.8368 - val_loss: 0.4000 - val_acc: 0.8582\n",
            "Epoch 12/20\n",
            "54000/54000 [==============================] - 3s 56us/step - loss: 0.4545 - acc: 0.8374 - val_loss: 0.4072 - val_acc: 0.8562\n",
            "Epoch 13/20\n",
            "54000/54000 [==============================] - 3s 55us/step - loss: 0.4520 - acc: 0.8383 - val_loss: 0.4158 - val_acc: 0.8520\n",
            "Epoch 14/20\n",
            "54000/54000 [==============================] - 3s 57us/step - loss: 0.4481 - acc: 0.8398 - val_loss: 0.4018 - val_acc: 0.8565\n",
            "Epoch 15/20\n",
            "54000/54000 [==============================] - 3s 57us/step - loss: 0.4426 - acc: 0.8426 - val_loss: 0.3929 - val_acc: 0.8605\n",
            "Epoch 16/20\n",
            "54000/54000 [==============================] - 3s 56us/step - loss: 0.4418 - acc: 0.8430 - val_loss: 0.4113 - val_acc: 0.8563\n",
            "Epoch 17/20\n",
            "54000/54000 [==============================] - 3s 55us/step - loss: 0.4387 - acc: 0.8435 - val_loss: 0.4152 - val_acc: 0.8562\n",
            "Epoch 18/20\n",
            "54000/54000 [==============================] - 3s 56us/step - loss: 0.4361 - acc: 0.8424 - val_loss: 0.4018 - val_acc: 0.8562\n",
            "Epoch 19/20\n",
            "54000/54000 [==============================] - 3s 56us/step - loss: 0.4331 - acc: 0.8465 - val_loss: 0.3915 - val_acc: 0.8598\n",
            "Epoch 20/20\n",
            "54000/54000 [==============================] - 3s 56us/step - loss: 0.4314 - acc: 0.8465 - val_loss: 0.4168 - val_acc: 0.8528\n",
            "10000/10000 [==============================] - 0s 25us/step\n",
            "acc: 84.47\n"
          ],
          "name": "stdout"
        }
      ]
    },
    {
      "metadata": {
        "id": "eRiLWiIfyiBr",
        "colab_type": "code",
        "outputId": "5e11b625-d337-44c5-8df2-a5954f9d396d",
        "colab": {
          "base_uri": "https://localhost:8080/",
          "height": 347
        }
      },
      "cell_type": "code",
      "source": [
        "# Use the history object that is returned from model.fit to make graphs of \n",
        "# the model's loss or train/validation accuracies by epoch.\n",
        "import matplotlib.pyplot as plt\n",
        "training_loss = fit.history['loss']\n",
        "epoch_count = range(1, len(training_loss) + 1)\n",
        "\n",
        "plt.plot(epoch_count, training_loss, 'r--')\n",
        "plt.show();"
      ],
      "execution_count": 0,
      "outputs": [
        {
          "output_type": "display_data",
          "data": {
            "image/png": "[encoded data removed]",
            "text/plain": [
              "<Figure size 576x396 with 1 Axes>"
            ]
          },
          "metadata": {
            "tags": []
          }
        }
      ]
    },
    {
      "metadata": {
        "id": "7GcmDKDNypNd",
        "colab_type": "code",
        "outputId": "5a5193ce-35f1-4627-b22c-525f3375c6f1",
        "colab": {
          "base_uri": "https://localhost:8080/",
          "height": 347
        }
      },
      "cell_type": "code",
      "source": [
        "training_acc = np.sqrt(fit.history['acc'])\n",
        "epoch_count = range(1, len(training_acc) + 1)\n",
        "\n",
        "plt.plot(epoch_count, training_acc, 'r--')\n",
        "plt.show();"
      ],
      "execution_count": 0,
      "outputs": [
        {
          "output_type": "display_data",
          "data": {
            "image/png": "[encoded data removed]",
            "text/plain": [
              "<Figure size 576x396 with 1 Axes>"
            ]
          },
          "metadata": {
            "tags": []
          }
        }
      ]
    },
    {
      "metadata": {
        "id": "zv_3xNMjzdLI",
        "colab_type": "text"
      },
      "cell_type": "markdown",
      "source": [
        "## Stretch Goals:\n",
        "\n",
        "- Use Hyperparameter Tuning to make the accuracy of your models as high as possible. (error as low as possible)\n",
        "- Use Cross Validation techniques to get more consistent results with your model.\n",
        "- Use GridSearchCV to try different combinations of hyperparameters. \n",
        "- Start looking into other types of Keras layers for CNNs and RNNs maybe try and build a CNN model for fashion-MNIST to see how the results compare."
      ]
    }
  ]
}