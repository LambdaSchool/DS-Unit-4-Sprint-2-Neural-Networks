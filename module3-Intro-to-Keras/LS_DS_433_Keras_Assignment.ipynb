{
 "cells": [
  {
   "cell_type": "markdown",
   "metadata": {
    "colab_type": "text",
    "id": "pBQsZEJmubLs"
   },
   "source": [
    "## Use the Keras Library to build a Multi-Layer Perceptron Model on the Boston Housing dataset\n",
    "\n",
    "- The Boston Housing dataset comes with the Keras library so use Keras to import it into your notebook. \n",
    "- Normalize the data (all features should have roughly the same scale)\n",
    "- Import the type of model and layers that you will need from Keras.\n",
    "- Instantiate a model object and use `model.add()` to add layers to your model\n",
    "- Since this is a regression model you will have a single output node in the final layer.\n",
    "- Use activation functions that are appropriate for this task\n",
    "- Compile your model\n",
    "- Fit your model and report its accuracy in terms of Mean Squared Error\n",
    "- Use the history object that is returned from model.fit to make graphs of the model's loss or train/validation accuracies by epoch. \n",
    "- Run this same data through a linear regression model. Which achieves higher accuracy?\n",
    "- Do a little bit of feature engineering and see how that affects your neural network model. (you will need to change your model to accept more inputs)\n",
    "- After feature engineering, which model sees a greater accuracy boost due to the new features?"
   ]
  },
  {
   "cell_type": "code",
   "execution_count": null,
   "metadata": {},
   "outputs": [],
   "source": []
  },
  {
   "cell_type": "code",
   "execution_count": 67,
   "metadata": {
    "colab": {},
    "colab_type": "code",
    "id": "8NLTAR87uYJ-"
   },
   "outputs": [
    {
     "name": "stdout",
     "output_type": "stream",
     "text": [
      "(404, 13)\n",
      "(404,)\n",
      "(102, 13)\n",
      "(102,)\n"
     ]
    }
   ],
   "source": [
    "##### Your Code Here #####\n",
    "\n",
    "# =====Upload the data\n",
    "\n",
    "from keras.datasets import boston_housing\n",
    "(x_train, y_train), (x_test, y_test) = boston_housing.load_data()\n",
    "print(x_train.shape)\n",
    "print(y_train.shape)\n",
    "print(x_test.shape)\n",
    "print(y_test.shape)"
   ]
  },
  {
   "cell_type": "code",
   "execution_count": 16,
   "metadata": {},
   "outputs": [
    {
     "data": {
      "text/plain": [
       "array([[1.23247e+00, 0.00000e+00, 8.14000e+00, ..., 2.10000e+01,\n",
       "        3.96900e+02, 1.87200e+01],\n",
       "       [2.17700e-02, 8.25000e+01, 2.03000e+00, ..., 1.47000e+01,\n",
       "        3.95380e+02, 3.11000e+00],\n",
       "       [4.89822e+00, 0.00000e+00, 1.81000e+01, ..., 2.02000e+01,\n",
       "        3.75520e+02, 3.26000e+00],\n",
       "       ...,\n",
       "       [3.46600e-02, 3.50000e+01, 6.06000e+00, ..., 1.69000e+01,\n",
       "        3.62250e+02, 7.83000e+00],\n",
       "       [2.14918e+00, 0.00000e+00, 1.95800e+01, ..., 1.47000e+01,\n",
       "        2.61950e+02, 1.57900e+01],\n",
       "       [1.43900e-02, 6.00000e+01, 2.93000e+00, ..., 1.56000e+01,\n",
       "        3.76700e+02, 4.38000e+00]])"
      ]
     },
     "execution_count": 16,
     "metadata": {},
     "output_type": "execute_result"
    }
   ],
   "source": [
    "x_train"
   ]
  },
  {
   "cell_type": "code",
   "execution_count": 68,
   "metadata": {},
   "outputs": [
    {
     "name": "stdout",
     "output_type": "stream",
     "text": [
      "(404, 13)\n",
      "(102, 13)\n"
     ]
    }
   ],
   "source": [
    "# =====> Normalize Dataset\n",
    "\n",
    "# Find the min and max values for each column\n",
    "def dataset_minmax(dataset):\n",
    "    minmax = list()\n",
    "    stats = [[min(column), max(column)] for column in zip(*dataset)]\n",
    "    return stats\n",
    "minmax_train = dataset_minmax(x_train)\n",
    "minmax_test = dataset_minmax(x_test)\n",
    "\n",
    "# Rescale dataset columns to the range 0-1\n",
    "def normalize_dataset(dataset, minmax):\n",
    "    for row in dataset:\n",
    "        for i in range(len(row)-1):\n",
    "            row[i] = (row[i] - minmax[i][0]) / (minmax[i][1] - minmax[i][0])\n",
    "    return dataset\n",
    "\n",
    "x_train_normalized = normalize_dataset(x_train, minmax_train) \n",
    "x_test_normalized = normalize_dataset(x_test, minmax_test) \n",
    "\n",
    "print(x_train_normalized.shape)\n",
    "print(x_test_normalized.shape)"
   ]
  },
  {
   "cell_type": "code",
   "execution_count": 69,
   "metadata": {},
   "outputs": [
    {
     "data": {
      "text/plain": [
       "30.73121368467795"
      ]
     },
     "execution_count": 69,
     "metadata": {},
     "output_type": "execute_result"
    }
   ],
   "source": [
    "# ===== > Using linear regression model\n",
    "\n",
    "import numpy as np\n",
    "from sklearn.linear_model import LinearRegression\n",
    "from sklearn.metrics import mean_squared_error\n",
    "\n",
    "lin_model = LinearRegression()\n",
    "lin_model.fit(x_train_normalized, y_train)\n",
    "\n",
    "y_test_predict = lin_model.predict(x_test_normalized)\n",
    "mse = mean_squared_error(y_test, y_test_predict)\n",
    "mse\n"
   ]
  },
  {
   "cell_type": "code",
   "execution_count": 100,
   "metadata": {},
   "outputs": [],
   "source": [
    "# ===== > Using keras NN model\n",
    "import keras\n",
    "from keras.models import Sequential\n",
    "from keras.layers import Dense, Dropout\n",
    "import numpy as np\n",
    "\n",
    "# global hyperparameters\n",
    "\n",
    "batch_size = 64\n",
    "epochs = 150"
   ]
  },
  {
   "cell_type": "code",
   "execution_count": 101,
   "metadata": {},
   "outputs": [
    {
     "name": "stdout",
     "output_type": "stream",
     "text": [
      "_________________________________________________________________\n",
      "Layer (type)                 Output Shape              Param #   \n",
      "=================================================================\n",
      "dense_99 (Dense)             (None, 12)                168       \n",
      "_________________________________________________________________\n",
      "dense_100 (Dense)            (None, 8)                 104       \n",
      "_________________________________________________________________\n",
      "dense_101 (Dense)            (None, 6)                 54        \n",
      "_________________________________________________________________\n",
      "dense_102 (Dense)            (None, 2)                 14        \n",
      "_________________________________________________________________\n",
      "dense_103 (Dense)            (None, 1)                 3         \n",
      "=================================================================\n",
      "Total params: 343\n",
      "Trainable params: 343\n",
      "Non-trainable params: 0\n",
      "_________________________________________________________________\n"
     ]
    }
   ],
   "source": [
    "from keras.layers.advanced_activations import LeakyReLU, PReLU\n",
    "\n",
    "model = Sequential()\n",
    "model.add(Dense(12, activation='relu',input_shape=(13,)))\n",
    "#model.add(LeakyReLU(alpha=.001)) \n",
    "model.add(Dense(8, activation='relu'))\n",
    "model.add(Dense(6, activation='relu'))\n",
    "model.add(Dense(2, activation='relu'))\n",
    "model.add(Dense(1, activation='relu'))\n",
    "#model.add(LeakyReLU(alpha=.001)) \n",
    "model.compile(loss='mean_squared_error', optimizer='adam', metrics=['mse','accuracy'])\n",
    "model.summary()\n"
   ]
  },
  {
   "cell_type": "code",
   "execution_count": 102,
   "metadata": {},
   "outputs": [
    {
     "name": "stdout",
     "output_type": "stream",
     "text": [
      "Epoch 1/150\n",
      "404/404 [==============================] - 2s 5ms/step - loss: 546.9463 - mean_squared_error: 546.9463 - acc: 0.0000e+00\n",
      "Epoch 2/150\n",
      "404/404 [==============================] - 0s 142us/step - loss: 520.3705 - mean_squared_error: 520.3705 - acc: 0.0025\n",
      "Epoch 3/150\n",
      "404/404 [==============================] - 0s 163us/step - loss: 493.7073 - mean_squared_error: 493.7073 - acc: 0.0025\n",
      "Epoch 4/150\n",
      "404/404 [==============================] - 0s 108us/step - loss: 463.9865 - mean_squared_error: 463.9865 - acc: 0.0000e+00\n",
      "Epoch 5/150\n",
      "404/404 [==============================] - 0s 161us/step - loss: 430.1369 - mean_squared_error: 430.1369 - acc: 0.0000e+00\n",
      "Epoch 6/150\n",
      "404/404 [==============================] - 0s 145us/step - loss: 393.5933 - mean_squared_error: 393.5933 - acc: 0.0000e+00\n",
      "Epoch 7/150\n",
      "404/404 [==============================] - 0s 126us/step - loss: 356.9449 - mean_squared_error: 356.9449 - acc: 0.0025\n",
      "Epoch 8/150\n",
      "404/404 [==============================] - 0s 115us/step - loss: 325.2673 - mean_squared_error: 325.2673 - acc: 0.0025\n",
      "Epoch 9/150\n",
      "404/404 [==============================] - 0s 113us/step - loss: 301.8164 - mean_squared_error: 301.8164 - acc: 0.0000e+00\n",
      "Epoch 10/150\n",
      "404/404 [==============================] - 0s 120us/step - loss: 286.6969 - mean_squared_error: 286.6969 - acc: 0.0050\n",
      "Epoch 11/150\n",
      "404/404 [==============================] - 0s 131us/step - loss: 279.5700 - mean_squared_error: 279.5700 - acc: 0.0025\n",
      "Epoch 12/150\n",
      "404/404 [==============================] - 0s 133us/step - loss: 273.9981 - mean_squared_error: 273.9981 - acc: 0.0025\n",
      "Epoch 13/150\n",
      "404/404 [==============================] - 0s 127us/step - loss: 268.4077 - mean_squared_error: 268.4077 - acc: 0.0000e+00\n",
      "Epoch 14/150\n",
      "404/404 [==============================] - 0s 135us/step - loss: 263.0117 - mean_squared_error: 263.0117 - acc: 0.0000e+00\n",
      "Epoch 15/150\n",
      "404/404 [==============================] - 0s 130us/step - loss: 257.1611 - mean_squared_error: 257.1611 - acc: 0.0000e+00\n",
      "Epoch 16/150\n",
      "404/404 [==============================] - 0s 131us/step - loss: 251.1794 - mean_squared_error: 251.1794 - acc: 0.0000e+00\n",
      "Epoch 17/150\n",
      "404/404 [==============================] - 0s 120us/step - loss: 244.6102 - mean_squared_error: 244.6102 - acc: 0.0000e+00\n",
      "Epoch 18/150\n",
      "404/404 [==============================] - 0s 128us/step - loss: 233.8978 - mean_squared_error: 233.8978 - acc: 0.0025\n",
      "Epoch 19/150\n",
      "404/404 [==============================] - 0s 127us/step - loss: 224.5335 - mean_squared_error: 224.5335 - acc: 0.0050\n",
      "Epoch 20/150\n",
      "404/404 [==============================] - 0s 153us/step - loss: 214.5992 - mean_squared_error: 214.5992 - acc: 0.0025\n",
      "Epoch 21/150\n",
      "404/404 [==============================] - 0s 248us/step - loss: 205.0002 - mean_squared_error: 205.0002 - acc: 0.0025\n",
      "Epoch 22/150\n",
      "404/404 [==============================] - 0s 181us/step - loss: 194.4655 - mean_squared_error: 194.4655 - acc: 0.0050\n",
      "Epoch 23/150\n",
      "404/404 [==============================] - 0s 169us/step - loss: 182.7390 - mean_squared_error: 182.7390 - acc: 0.0025\n",
      "Epoch 24/150\n",
      "404/404 [==============================] - 0s 127us/step - loss: 170.9980 - mean_squared_error: 170.9980 - acc: 0.0000e+00\n",
      "Epoch 25/150\n",
      "404/404 [==============================] - 0s 117us/step - loss: 158.7092 - mean_squared_error: 158.7092 - acc: 0.0074\n",
      "Epoch 26/150\n",
      "404/404 [==============================] - 0s 137us/step - loss: 145.9509 - mean_squared_error: 145.9509 - acc: 0.0025\n",
      "Epoch 27/150\n",
      "404/404 [==============================] - 0s 117us/step - loss: 132.4884 - mean_squared_error: 132.4884 - acc: 0.0050\n",
      "Epoch 28/150\n",
      "404/404 [==============================] - 0s 142us/step - loss: 120.1426 - mean_squared_error: 120.1426 - acc: 0.0025\n",
      "Epoch 29/150\n",
      "404/404 [==============================] - 0s 129us/step - loss: 106.2167 - mean_squared_error: 106.2167 - acc: 0.0025\n",
      "Epoch 30/150\n",
      "404/404 [==============================] - 0s 115us/step - loss: 94.7992 - mean_squared_error: 94.7992 - acc: 0.0050\n",
      "Epoch 31/150\n",
      "404/404 [==============================] - 0s 128us/step - loss: 83.9568 - mean_squared_error: 83.9568 - acc: 0.0074\n",
      "Epoch 32/150\n",
      "404/404 [==============================] - 0s 158us/step - loss: 74.7141 - mean_squared_error: 74.7141 - acc: 0.0124\n",
      "Epoch 33/150\n",
      "404/404 [==============================] - 0s 132us/step - loss: 66.4688 - mean_squared_error: 66.4688 - acc: 0.0124\n",
      "Epoch 34/150\n",
      "404/404 [==============================] - 0s 121us/step - loss: 60.8913 - mean_squared_error: 60.8913 - acc: 0.0173\n",
      "Epoch 35/150\n",
      "404/404 [==============================] - 0s 180us/step - loss: 56.4038 - mean_squared_error: 56.4038 - acc: 0.0124\n",
      "Epoch 36/150\n",
      "404/404 [==============================] - 0s 178us/step - loss: 52.6131 - mean_squared_error: 52.6131 - acc: 0.0149\n",
      "Epoch 37/150\n",
      "404/404 [==============================] - 0s 131us/step - loss: 49.4326 - mean_squared_error: 49.4326 - acc: 0.0149\n",
      "Epoch 38/150\n",
      "404/404 [==============================] - 0s 142us/step - loss: 47.3163 - mean_squared_error: 47.3163 - acc: 0.0124\n",
      "Epoch 39/150\n",
      "404/404 [==============================] - 0s 188us/step - loss: 46.0512 - mean_squared_error: 46.0512 - acc: 0.0124\n",
      "Epoch 40/150\n",
      "404/404 [==============================] - 0s 162us/step - loss: 44.4381 - mean_squared_error: 44.4381 - acc: 0.0149\n",
      "Epoch 41/150\n",
      "404/404 [==============================] - 0s 132us/step - loss: 42.8383 - mean_squared_error: 42.8383 - acc: 0.0124\n",
      "Epoch 42/150\n",
      "404/404 [==============================] - 0s 166us/step - loss: 41.7234 - mean_squared_error: 41.7234 - acc: 0.0074\n",
      "Epoch 43/150\n",
      "404/404 [==============================] - 0s 129us/step - loss: 40.5577 - mean_squared_error: 40.5577 - acc: 0.0025\n",
      "Epoch 44/150\n",
      "404/404 [==============================] - 0s 173us/step - loss: 39.6051 - mean_squared_error: 39.6051 - acc: 0.0124\n",
      "Epoch 45/150\n",
      "404/404 [==============================] - 0s 155us/step - loss: 40.3941 - mean_squared_error: 40.3941 - acc: 0.0074\n",
      "Epoch 46/150\n",
      "404/404 [==============================] - 0s 156us/step - loss: 38.1632 - mean_squared_error: 38.1632 - acc: 0.0050\n",
      "Epoch 47/150\n",
      "404/404 [==============================] - 0s 176us/step - loss: 37.9408 - mean_squared_error: 37.9408 - acc: 0.0124\n",
      "Epoch 48/150\n",
      "404/404 [==============================] - 0s 141us/step - loss: 36.8268 - mean_squared_error: 36.8268 - acc: 0.0124\n",
      "Epoch 49/150\n",
      "404/404 [==============================] - 0s 162us/step - loss: 36.4801 - mean_squared_error: 36.4801 - acc: 0.0050\n",
      "Epoch 50/150\n",
      "404/404 [==============================] - 0s 143us/step - loss: 36.1940 - mean_squared_error: 36.1940 - acc: 0.0074\n",
      "Epoch 51/150\n",
      "404/404 [==============================] - 0s 114us/step - loss: 35.3594 - mean_squared_error: 35.3594 - acc: 0.0074\n",
      "Epoch 52/150\n",
      "404/404 [==============================] - 0s 123us/step - loss: 34.8356 - mean_squared_error: 34.8356 - acc: 0.0050\n",
      "Epoch 53/150\n",
      "404/404 [==============================] - 0s 134us/step - loss: 34.7547 - mean_squared_error: 34.7547 - acc: 0.0074\n",
      "Epoch 54/150\n",
      "404/404 [==============================] - 0s 116us/step - loss: 34.7944 - mean_squared_error: 34.7944 - acc: 0.0025\n",
      "Epoch 55/150\n",
      "404/404 [==============================] - 0s 124us/step - loss: 33.5992 - mean_squared_error: 33.5992 - acc: 0.0025\n",
      "Epoch 56/150\n",
      "404/404 [==============================] - 0s 135us/step - loss: 33.2437 - mean_squared_error: 33.2437 - acc: 0.0074\n",
      "Epoch 57/150\n",
      "404/404 [==============================] - 0s 108us/step - loss: 32.7580 - mean_squared_error: 32.7580 - acc: 0.0025\n",
      "Epoch 58/150\n",
      "404/404 [==============================] - 0s 122us/step - loss: 32.6735 - mean_squared_error: 32.6735 - acc: 0.0074\n",
      "Epoch 59/150\n",
      "404/404 [==============================] - 0s 103us/step - loss: 32.4533 - mean_squared_error: 32.4533 - acc: 0.0025\n",
      "Epoch 60/150\n",
      "404/404 [==============================] - 0s 109us/step - loss: 32.1131 - mean_squared_error: 32.1131 - acc: 0.0025\n",
      "Epoch 61/150\n",
      "404/404 [==============================] - 0s 112us/step - loss: 31.9043 - mean_squared_error: 31.9043 - acc: 0.0050\n",
      "Epoch 62/150\n",
      "404/404 [==============================] - 0s 112us/step - loss: 31.6974 - mean_squared_error: 31.6974 - acc: 0.0074\n",
      "Epoch 63/150\n"
     ]
    },
    {
     "name": "stdout",
     "output_type": "stream",
     "text": [
      "404/404 [==============================] - 0s 120us/step - loss: 30.8390 - mean_squared_error: 30.8390 - acc: 0.0025\n",
      "Epoch 64/150\n",
      "404/404 [==============================] - 0s 124us/step - loss: 30.2388 - mean_squared_error: 30.2388 - acc: 0.0025\n",
      "Epoch 65/150\n",
      "404/404 [==============================] - 0s 150us/step - loss: 30.0153 - mean_squared_error: 30.0153 - acc: 0.0050\n",
      "Epoch 66/150\n",
      "404/404 [==============================] - 0s 129us/step - loss: 29.7904 - mean_squared_error: 29.7904 - acc: 0.0000e+00\n",
      "Epoch 67/150\n",
      "404/404 [==============================] - 0s 133us/step - loss: 29.3445 - mean_squared_error: 29.3445 - acc: 0.0050\n",
      "Epoch 68/150\n",
      "404/404 [==============================] - 0s 106us/step - loss: 29.2727 - mean_squared_error: 29.2727 - acc: 0.0000e+00\n",
      "Epoch 69/150\n",
      "404/404 [==============================] - 0s 124us/step - loss: 29.0373 - mean_squared_error: 29.0373 - acc: 0.0025\n",
      "Epoch 70/150\n",
      "404/404 [==============================] - 0s 119us/step - loss: 28.4995 - mean_squared_error: 28.4995 - acc: 0.0025\n",
      "Epoch 71/150\n",
      "404/404 [==============================] - 0s 141us/step - loss: 28.6441 - mean_squared_error: 28.6441 - acc: 0.0074\n",
      "Epoch 72/150\n",
      "404/404 [==============================] - 0s 162us/step - loss: 28.6038 - mean_squared_error: 28.6038 - acc: 0.0074\n",
      "Epoch 73/150\n",
      "404/404 [==============================] - 0s 123us/step - loss: 28.0829 - mean_squared_error: 28.0829 - acc: 0.0025\n",
      "Epoch 74/150\n",
      "404/404 [==============================] - 0s 133us/step - loss: 28.0044 - mean_squared_error: 28.0044 - acc: 0.0074\n",
      "Epoch 75/150\n",
      "404/404 [==============================] - 0s 126us/step - loss: 28.2504 - mean_squared_error: 28.2504 - acc: 0.0025\n",
      "Epoch 76/150\n",
      "404/404 [==============================] - 0s 147us/step - loss: 27.1670 - mean_squared_error: 27.1670 - acc: 0.0025\n",
      "Epoch 77/150\n",
      "404/404 [==============================] - 0s 129us/step - loss: 27.3359 - mean_squared_error: 27.3359 - acc: 0.0074\n",
      "Epoch 78/150\n",
      "404/404 [==============================] - 0s 127us/step - loss: 26.7466 - mean_squared_error: 26.7466 - acc: 0.0074\n",
      "Epoch 79/150\n",
      "404/404 [==============================] - 0s 142us/step - loss: 26.4971 - mean_squared_error: 26.4971 - acc: 0.0050\n",
      "Epoch 80/150\n",
      "404/404 [==============================] - 0s 139us/step - loss: 26.3833 - mean_squared_error: 26.3833 - acc: 0.0099\n",
      "Epoch 81/150\n",
      "404/404 [==============================] - 0s 139us/step - loss: 26.2727 - mean_squared_error: 26.2727 - acc: 0.0000e+00\n",
      "Epoch 82/150\n",
      "404/404 [==============================] - 0s 136us/step - loss: 26.5088 - mean_squared_error: 26.5088 - acc: 0.0025\n",
      "Epoch 83/150\n",
      "404/404 [==============================] - 0s 132us/step - loss: 26.1336 - mean_squared_error: 26.1336 - acc: 0.0025\n",
      "Epoch 84/150\n",
      "404/404 [==============================] - 0s 124us/step - loss: 25.5585 - mean_squared_error: 25.5585 - acc: 0.0074\n",
      "Epoch 85/150\n",
      "404/404 [==============================] - 0s 136us/step - loss: 25.3105 - mean_squared_error: 25.3105 - acc: 0.0025\n",
      "Epoch 86/150\n",
      "404/404 [==============================] - 0s 149us/step - loss: 25.5733 - mean_squared_error: 25.5733 - acc: 0.0050\n",
      "Epoch 87/150\n",
      "404/404 [==============================] - 0s 132us/step - loss: 25.1913 - mean_squared_error: 25.1913 - acc: 0.0074\n",
      "Epoch 88/150\n",
      "404/404 [==============================] - 0s 116us/step - loss: 25.0019 - mean_squared_error: 25.0019 - acc: 0.0074\n",
      "Epoch 89/150\n",
      "404/404 [==============================] - 0s 165us/step - loss: 24.7629 - mean_squared_error: 24.7629 - acc: 0.0099\n",
      "Epoch 90/150\n",
      "404/404 [==============================] - 0s 132us/step - loss: 24.4437 - mean_squared_error: 24.4437 - acc: 0.0074\n",
      "Epoch 91/150\n",
      "404/404 [==============================] - 0s 136us/step - loss: 24.2608 - mean_squared_error: 24.2608 - acc: 0.0074\n",
      "Epoch 92/150\n",
      "404/404 [==============================] - 0s 135us/step - loss: 24.4661 - mean_squared_error: 24.4661 - acc: 0.0050\n",
      "Epoch 93/150\n",
      "404/404 [==============================] - 0s 127us/step - loss: 24.4266 - mean_squared_error: 24.4266 - acc: 0.0074\n",
      "Epoch 94/150\n",
      "404/404 [==============================] - 0s 126us/step - loss: 23.9469 - mean_squared_error: 23.9469 - acc: 0.0050\n",
      "Epoch 95/150\n",
      "404/404 [==============================] - 0s 120us/step - loss: 23.7478 - mean_squared_error: 23.7478 - acc: 0.0099\n",
      "Epoch 96/150\n",
      "404/404 [==============================] - 0s 121us/step - loss: 23.5355 - mean_squared_error: 23.5355 - acc: 0.0074\n",
      "Epoch 97/150\n",
      "404/404 [==============================] - 0s 120us/step - loss: 23.3290 - mean_squared_error: 23.3290 - acc: 0.0074\n",
      "Epoch 98/150\n",
      "404/404 [==============================] - 0s 143us/step - loss: 23.8592 - mean_squared_error: 23.8592 - acc: 0.0074\n",
      "Epoch 99/150\n",
      "404/404 [==============================] - 0s 130us/step - loss: 23.2806 - mean_squared_error: 23.2806 - acc: 0.0050\n",
      "Epoch 100/150\n",
      "404/404 [==============================] - 0s 117us/step - loss: 22.9327 - mean_squared_error: 22.9327 - acc: 0.0050\n",
      "Epoch 101/150\n",
      "404/404 [==============================] - 0s 130us/step - loss: 22.6713 - mean_squared_error: 22.6713 - acc: 0.0050\n",
      "Epoch 102/150\n",
      "404/404 [==============================] - 0s 118us/step - loss: 22.4860 - mean_squared_error: 22.4860 - acc: 0.0074\n",
      "Epoch 103/150\n",
      "404/404 [==============================] - 0s 123us/step - loss: 22.4466 - mean_squared_error: 22.4466 - acc: 0.0050\n",
      "Epoch 104/150\n",
      "404/404 [==============================] - 0s 112us/step - loss: 22.9065 - mean_squared_error: 22.9065 - acc: 0.0124\n",
      "Epoch 105/150\n",
      "404/404 [==============================] - 0s 128us/step - loss: 22.6142 - mean_squared_error: 22.6142 - acc: 0.0099\n",
      "Epoch 106/150\n",
      "404/404 [==============================] - 0s 117us/step - loss: 22.0324 - mean_squared_error: 22.0324 - acc: 0.0074\n",
      "Epoch 107/150\n",
      "404/404 [==============================] - 0s 114us/step - loss: 22.2733 - mean_squared_error: 22.2733 - acc: 0.0074\n",
      "Epoch 108/150\n",
      "404/404 [==============================] - 0s 116us/step - loss: 22.2147 - mean_squared_error: 22.2147 - acc: 0.0074\n",
      "Epoch 109/150\n",
      "404/404 [==============================] - 0s 124us/step - loss: 21.9908 - mean_squared_error: 21.9908 - acc: 0.0050\n",
      "Epoch 110/150\n",
      "404/404 [==============================] - 0s 131us/step - loss: 21.8648 - mean_squared_error: 21.8648 - acc: 0.0050\n",
      "Epoch 111/150\n",
      "404/404 [==============================] - 0s 129us/step - loss: 21.8064 - mean_squared_error: 21.8064 - acc: 0.0074\n",
      "Epoch 112/150\n",
      "404/404 [==============================] - 0s 101us/step - loss: 22.8128 - mean_squared_error: 22.8128 - acc: 0.0025\n",
      "Epoch 113/150\n",
      "404/404 [==============================] - 0s 111us/step - loss: 21.9349 - mean_squared_error: 21.9349 - acc: 0.0149\n",
      "Epoch 114/150\n",
      "404/404 [==============================] - 0s 134us/step - loss: 22.4597 - mean_squared_error: 22.4597 - acc: 0.0025\n",
      "Epoch 115/150\n",
      "404/404 [==============================] - 0s 99us/step - loss: 21.1304 - mean_squared_error: 21.1304 - acc: 0.0124\n",
      "Epoch 116/150\n",
      "404/404 [==============================] - 0s 106us/step - loss: 20.9694 - mean_squared_error: 20.9694 - acc: 0.0074\n",
      "Epoch 117/150\n",
      "404/404 [==============================] - 0s 123us/step - loss: 20.8627 - mean_squared_error: 20.8627 - acc: 0.0074\n",
      "Epoch 118/150\n",
      "404/404 [==============================] - 0s 126us/step - loss: 21.9385 - mean_squared_error: 21.9385 - acc: 0.0099\n",
      "Epoch 119/150\n",
      "404/404 [==============================] - 0s 124us/step - loss: 21.2053 - mean_squared_error: 21.2053 - acc: 0.0099\n",
      "Epoch 120/150\n",
      "404/404 [==============================] - 0s 122us/step - loss: 20.5992 - mean_squared_error: 20.5992 - acc: 0.0050\n",
      "Epoch 121/150\n",
      "404/404 [==============================] - 0s 126us/step - loss: 20.3805 - mean_squared_error: 20.3805 - acc: 0.0124\n",
      "Epoch 122/150\n",
      "404/404 [==============================] - 0s 103us/step - loss: 20.1588 - mean_squared_error: 20.1588 - acc: 0.0149\n",
      "Epoch 123/150\n",
      "404/404 [==============================] - 0s 117us/step - loss: 19.9498 - mean_squared_error: 19.9498 - acc: 0.0149\n",
      "Epoch 124/150\n",
      "404/404 [==============================] - 0s 108us/step - loss: 20.4287 - mean_squared_error: 20.4287 - acc: 0.0074\n",
      "Epoch 125/150\n"
     ]
    },
    {
     "name": "stdout",
     "output_type": "stream",
     "text": [
      "404/404 [==============================] - 0s 100us/step - loss: 19.8519 - mean_squared_error: 19.8519 - acc: 0.0149\n",
      "Epoch 126/150\n",
      "404/404 [==============================] - 0s 110us/step - loss: 20.0688 - mean_squared_error: 20.0688 - acc: 0.0149\n",
      "Epoch 127/150\n",
      "404/404 [==============================] - 0s 84us/step - loss: 20.4864 - mean_squared_error: 20.4864 - acc: 0.0124\n",
      "Epoch 128/150\n",
      "404/404 [==============================] - 0s 113us/step - loss: 19.5485 - mean_squared_error: 19.5485 - acc: 0.0124\n",
      "Epoch 129/150\n",
      "404/404 [==============================] - 0s 98us/step - loss: 19.4230 - mean_squared_error: 19.4230 - acc: 0.0124\n",
      "Epoch 130/150\n",
      "404/404 [==============================] - 0s 105us/step - loss: 19.5808 - mean_squared_error: 19.5808 - acc: 0.0124\n",
      "Epoch 131/150\n",
      "404/404 [==============================] - 0s 117us/step - loss: 19.2446 - mean_squared_error: 19.2446 - acc: 0.0099\n",
      "Epoch 132/150\n",
      "404/404 [==============================] - 0s 109us/step - loss: 19.5305 - mean_squared_error: 19.5305 - acc: 0.0099\n",
      "Epoch 133/150\n",
      "404/404 [==============================] - 0s 117us/step - loss: 19.3987 - mean_squared_error: 19.3987 - acc: 0.0124\n",
      "Epoch 134/150\n",
      "404/404 [==============================] - 0s 109us/step - loss: 18.9176 - mean_squared_error: 18.9176 - acc: 0.0124\n",
      "Epoch 135/150\n",
      "404/404 [==============================] - 0s 114us/step - loss: 19.1118 - mean_squared_error: 19.1118 - acc: 0.0124\n",
      "Epoch 136/150\n",
      "404/404 [==============================] - 0s 116us/step - loss: 18.9676 - mean_squared_error: 18.9676 - acc: 0.0124\n",
      "Epoch 137/150\n",
      "404/404 [==============================] - 0s 124us/step - loss: 18.8917 - mean_squared_error: 18.8917 - acc: 0.0074\n",
      "Epoch 138/150\n",
      "404/404 [==============================] - 0s 116us/step - loss: 18.5642 - mean_squared_error: 18.5642 - acc: 0.0149\n",
      "Epoch 139/150\n",
      "404/404 [==============================] - 0s 113us/step - loss: 18.5372 - mean_squared_error: 18.5372 - acc: 0.0074\n",
      "Epoch 140/150\n",
      "404/404 [==============================] - 0s 115us/step - loss: 18.6234 - mean_squared_error: 18.6234 - acc: 0.0099\n",
      "Epoch 141/150\n",
      "404/404 [==============================] - 0s 121us/step - loss: 19.0119 - mean_squared_error: 19.0119 - acc: 0.0149\n",
      "Epoch 142/150\n",
      "404/404 [==============================] - 0s 123us/step - loss: 19.4074 - mean_squared_error: 19.4074 - acc: 0.0099\n",
      "Epoch 143/150\n",
      "404/404 [==============================] - 0s 119us/step - loss: 18.4783 - mean_squared_error: 18.4783 - acc: 0.0124\n",
      "Epoch 144/150\n",
      "404/404 [==============================] - 0s 114us/step - loss: 18.1338 - mean_squared_error: 18.1338 - acc: 0.0074\n",
      "Epoch 145/150\n",
      "404/404 [==============================] - 0s 105us/step - loss: 18.0744 - mean_squared_error: 18.0744 - acc: 0.0099\n",
      "Epoch 146/150\n",
      "404/404 [==============================] - 0s 113us/step - loss: 17.9978 - mean_squared_error: 17.9978 - acc: 0.0124\n",
      "Epoch 147/150\n",
      "404/404 [==============================] - 0s 112us/step - loss: 18.0460 - mean_squared_error: 18.0460 - acc: 0.0099\n",
      "Epoch 148/150\n",
      "404/404 [==============================] - 0s 110us/step - loss: 17.8795 - mean_squared_error: 17.8795 - acc: 0.0074\n",
      "Epoch 149/150\n",
      "404/404 [==============================] - 0s 135us/step - loss: 17.6722 - mean_squared_error: 17.6722 - acc: 0.0099\n",
      "Epoch 150/150\n",
      "404/404 [==============================] - 0s 105us/step - loss: 17.9456 - mean_squared_error: 17.9456 - acc: 0.0149\n",
      "102/102 [==============================] - 1s 7ms/step\n",
      "mean_squared_error: 39.7491553811466\n"
     ]
    }
   ],
   "source": [
    "history4 = model.fit(x_train_normalized, y_train, epochs=epochs)\n",
    "scores = model.evaluate(x_test_normalized, y_test) \n",
    "print(f\"{model.metrics_names[1]}: {scores[1]}\")"
   ]
  },
  {
   "cell_type": "code",
   "execution_count": null,
   "metadata": {},
   "outputs": [],
   "source": [
    "print(f\"{model.metrics_names[1]}: {scores[1]}\")"
   ]
  },
  {
   "cell_type": "code",
   "execution_count": 103,
   "metadata": {},
   "outputs": [
    {
     "data": {
      "image/png": "[encoded data removed]",
      "text/plain": [
       "<Figure size 432x288 with 1 Axes>"
      ]
     },
     "metadata": {
      "needs_background": "light"
     },
     "output_type": "display_data"
    }
   ],
   "source": [
    "import matplotlib.pyplot as plt\n",
    "training_loss = history4.history['loss']\n",
    "epoch_count = range(1, len(training_loss) + 1)\n",
    "\n",
    "plt.plot(epoch_count, training_loss, 'r--')\n",
    "plt.show()"
   ]
  },
  {
   "cell_type": "code",
   "execution_count": 104,
   "metadata": {},
   "outputs": [
    {
     "data": {
      "image/png": "[encoded data removed]",
      "text/plain": [
       "<Figure size 432x288 with 1 Axes>"
      ]
     },
     "metadata": {
      "needs_background": "light"
     },
     "output_type": "display_data"
    }
   ],
   "source": [
    "import matplotlib.pyplot as plt\n",
    "training_loss = history4.history['acc']\n",
    "epoch_count = range(1, len(training_loss) + 1)\n",
    "\n",
    "plt.plot(epoch_count, training_loss, 'b-')\n",
    "plt.show()"
   ]
  },
  {
   "cell_type": "markdown",
   "metadata": {
    "colab_type": "text",
    "id": "SfcFnOONyuNm"
   },
   "source": [
    "## Use the Keras Library to build an image recognition network using the Fashion-MNIST dataset (also comes with keras)\n",
    "\n",
    "- Load and preprocess the image data similar to how we preprocessed the MNIST data in class.\n",
    "- Make sure to one-hot encode your category labels\n",
    "- Make sure to have your final layer have as many nodes as the number of classes that you want to predict.\n",
    "- Try different hyperparameters. What is the highest accuracy that you are able to achieve.\n",
    "- Use the history object that is returned from model.fit to make graphs of the model's loss or train/validation accuracies by epoch. \n",
    "- Remember that neural networks fall prey to randomness so you may need to run your model multiple times (or use Cross Validation) in order to tell if a change to a hyperparameter is truly producing better results."
   ]
  },
  {
   "cell_type": "code",
   "execution_count": 0,
   "metadata": {
    "colab": {},
    "colab_type": "code",
    "id": "szi6-IpuzaH1"
   },
   "outputs": [],
   "source": [
    "##### Your Code Here #####\n"
   ]
  },
  {
   "cell_type": "markdown",
   "metadata": {
    "colab_type": "text",
    "id": "zv_3xNMjzdLI"
   },
   "source": [
    "## Stretch Goals:\n",
    "\n",
    "- Use Hyperparameter Tuning to make the accuracy of your models as high as possible. (error as low as possible)\n",
    "- Use Cross Validation techniques to get more consistent results with your model.\n",
    "- Use GridSearchCV to try different combinations of hyperparameters. \n",
    "- Start looking into other types of Keras layers for CNNs and RNNs maybe try and build a CNN model for fashion-MNIST to see how the results compare."
   ]
  }
 ],
 "metadata": {
  "colab": {
   "name": "LS_DS_433_Keras_Assignment.ipynb",
   "provenance": [],
   "version": "0.3.2"
  },
  "kernelspec": {
   "display_name": "Python 3",
   "language": "python",
   "name": "python3"
  },
  "language_info": {
   "codemirror_mode": {
    "name": "ipython",
    "version": 3
   },
   "file_extension": ".py",
   "mimetype": "text/x-python",
   "name": "python",
   "nbconvert_exporter": "python",
   "pygments_lexer": "ipython3",
   "version": "3.7.2"
  }
 },
 "nbformat": 4,
 "nbformat_minor": 1
}
