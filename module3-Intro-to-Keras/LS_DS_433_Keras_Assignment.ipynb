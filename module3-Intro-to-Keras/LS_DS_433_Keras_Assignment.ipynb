{
 "cells": [
  {
   "cell_type": "markdown",
   "metadata": {
    "colab_type": "text",
    "id": "pBQsZEJmubLs"
   },
   "source": [
    "<img align=\"left\" src=\"https://lever-client-logos.s3.amazonaws.com/864372b1-534c-480e-acd5-9711f850815c-1524247202159.png\" width=200>\n",
    "<br></br>\n",
    "\n",
    "# Neural Network Framework (Keras)\n",
    "\n",
    "## *Data Science Unit 4 Sprint 2 Assignment 3*\n",
    "\n",
    "## Use the Keras Library to build a Multi-Layer Perceptron Model on the Boston Housing dataset\n",
    "\n",
    "- The Boston Housing dataset comes with the Keras library so use Keras to import it into your notebook. \n",
    "- Normalize the data (all features should have roughly the same scale)\n",
    "- Import the type of model and layers that you will need from Keras.\n",
    "- Instantiate a model object and use `model.add()` to add layers to your model\n",
    "- Since this is a regression model you will have a single output node in the final layer.\n",
    "- Use activation functions that are appropriate for this task\n",
    "- Compile your model\n",
    "- Fit your model and report its accuracy in terms of Mean Squared Error\n",
    "- Use the history object that is returned from model.fit to make graphs of the model's loss or train/validation accuracies by epoch. \n",
    "- Run this same data through a linear regression model. Which achieves higher accuracy?\n",
    "- Do a little bit of feature engineering and see how that affects your neural network model. (you will need to change your model to accept more inputs)\n",
    "- After feature engineering, which model sees a greater accuracy boost due to the new features?"
   ]
  },
  {
   "cell_type": "code",
   "execution_count": 9,
   "metadata": {
    "colab": {},
    "colab_type": "code",
    "id": "8NLTAR87uYJ-"
   },
   "outputs": [],
   "source": [
    "##### Your Code Here #####\n",
    "import pandas as pd\n",
    "# import numpy as np\n",
    "from sklearn.preprocessing import StandardScaler\n",
    "from tensorflow.keras.datasets import boston_housing\n",
    "from tensorflow.keras.models import Sequential\n",
    "from tensorflow.keras.layers import Dense, Dropout, Activation, Flatten\n",
    "from tensorflow.keras.optimizers import RMSprop, Adam\n",
    "from tensorflow.keras.losses import mean_squared_error, categorical_crossentropy\n",
    "\n",
    "(X_train, y_train), (X_test, y_test) = boston_housing.load_data()"
   ]
  },
  {
   "cell_type": "code",
   "execution_count": 3,
   "metadata": {
    "colab": {},
    "colab_type": "code",
    "id": "HARj7Rx1lKkh"
   },
   "outputs": [],
   "source": [
    "scaler = StandardScaler()\n",
    "scaler.fit(X_train)\n",
    "X_train = scaler.transform(X_train)\n",
    "X_test = scaler.transform(X_test)"
   ]
  },
  {
   "cell_type": "code",
   "execution_count": 4,
   "metadata": {
    "colab": {
     "base_uri": "https://localhost:8080/",
     "height": 1000
    },
    "colab_type": "code",
    "id": "0e2Ts5ycsYB1",
    "outputId": "438aef72-5041-4232-fe71-bfe9f44c5716"
   },
   "outputs": [
    {
     "name": "stdout",
     "output_type": "stream",
     "text": [
      "Train on 323 samples, validate on 81 samples\n",
      "Epoch 1/100\n",
      "323/323 [==============================] - 1s 2ms/sample - loss: 564.4512 - mse: 564.4514 - val_loss: 632.6626 - val_mse: 632.6627\n",
      "Epoch 2/100\n",
      "323/323 [==============================] - 0s 75us/sample - loss: 559.3019 - mse: 559.3019 - val_loss: 627.0813 - val_mse: 627.0813\n",
      "Epoch 3/100\n",
      "323/323 [==============================] - 0s 71us/sample - loss: 553.3193 - mse: 553.3193 - val_loss: 620.9599 - val_mse: 620.9599\n",
      "Epoch 4/100\n",
      "323/323 [==============================] - 0s 87us/sample - loss: 547.3224 - mse: 547.3224 - val_loss: 613.9551 - val_mse: 613.9551\n",
      "Epoch 5/100\n",
      "323/323 [==============================] - 0s 71us/sample - loss: 538.6002 - mse: 538.6002 - val_loss: 605.4276 - val_mse: 605.4276\n",
      "Epoch 6/100\n",
      "323/323 [==============================] - 0s 75us/sample - loss: 532.6532 - mse: 532.6532 - val_loss: 596.9815 - val_mse: 596.9815\n",
      "Epoch 7/100\n",
      "323/323 [==============================] - 0s 72us/sample - loss: 522.9650 - mse: 522.9650 - val_loss: 588.1682 - val_mse: 588.1682\n",
      "Epoch 8/100\n",
      "323/323 [==============================] - 0s 64us/sample - loss: 515.5973 - mse: 515.5974 - val_loss: 577.1937 - val_mse: 577.1938\n",
      "Epoch 9/100\n",
      "323/323 [==============================] - 0s 82us/sample - loss: 505.1598 - mse: 505.1598 - val_loss: 564.8050 - val_mse: 564.8051\n",
      "Epoch 10/100\n",
      "323/323 [==============================] - 0s 68us/sample - loss: 489.9140 - mse: 489.9140 - val_loss: 551.1799 - val_mse: 551.1799\n",
      "Epoch 11/100\n",
      "323/323 [==============================] - 0s 70us/sample - loss: 476.5081 - mse: 476.5082 - val_loss: 535.6727 - val_mse: 535.6727\n",
      "Epoch 12/100\n",
      "323/323 [==============================] - 0s 67us/sample - loss: 462.7323 - mse: 462.7322 - val_loss: 519.1749 - val_mse: 519.1749\n",
      "Epoch 13/100\n",
      "323/323 [==============================] - 0s 63us/sample - loss: 445.4627 - mse: 445.4627 - val_loss: 500.2194 - val_mse: 500.2193\n",
      "Epoch 14/100\n",
      "323/323 [==============================] - 0s 77us/sample - loss: 429.3380 - mse: 429.3380 - val_loss: 479.3489 - val_mse: 479.3489\n",
      "Epoch 15/100\n",
      "323/323 [==============================] - 0s 79us/sample - loss: 410.2347 - mse: 410.2347 - val_loss: 455.8634 - val_mse: 455.8634\n",
      "Epoch 16/100\n",
      "323/323 [==============================] - 0s 71us/sample - loss: 388.6753 - mse: 388.6753 - val_loss: 428.6972 - val_mse: 428.6972\n",
      "Epoch 17/100\n",
      "323/323 [==============================] - 0s 71us/sample - loss: 363.2305 - mse: 363.2305 - val_loss: 403.9125 - val_mse: 403.9125\n",
      "Epoch 18/100\n",
      "323/323 [==============================] - 0s 80us/sample - loss: 344.6059 - mse: 344.6059 - val_loss: 374.7332 - val_mse: 374.7332\n",
      "Epoch 19/100\n",
      "323/323 [==============================] - 0s 82us/sample - loss: 319.1106 - mse: 319.1106 - val_loss: 344.7958 - val_mse: 344.7958\n",
      "Epoch 20/100\n",
      "323/323 [==============================] - 0s 70us/sample - loss: 284.8356 - mse: 284.8355 - val_loss: 315.2343 - val_mse: 315.2343\n",
      "Epoch 21/100\n",
      "323/323 [==============================] - 0s 70us/sample - loss: 266.6273 - mse: 266.6273 - val_loss: 286.4864 - val_mse: 286.4864\n",
      "Epoch 22/100\n",
      "323/323 [==============================] - 0s 83us/sample - loss: 234.8611 - mse: 234.8611 - val_loss: 254.3530 - val_mse: 254.3530\n",
      "Epoch 23/100\n",
      "323/323 [==============================] - 0s 69us/sample - loss: 217.4614 - mse: 217.4614 - val_loss: 221.4806 - val_mse: 221.4806\n",
      "Epoch 24/100\n",
      "323/323 [==============================] - 0s 77us/sample - loss: 190.6660 - mse: 190.6660 - val_loss: 189.5776 - val_mse: 189.5777\n",
      "Epoch 25/100\n",
      "323/323 [==============================] - 0s 70us/sample - loss: 150.1197 - mse: 150.1197 - val_loss: 161.2043 - val_mse: 161.2043\n",
      "Epoch 26/100\n",
      "323/323 [==============================] - 0s 78us/sample - loss: 133.6049 - mse: 133.6049 - val_loss: 135.2783 - val_mse: 135.2783\n",
      "Epoch 27/100\n",
      "323/323 [==============================] - 0s 71us/sample - loss: 118.1183 - mse: 118.1183 - val_loss: 114.4696 - val_mse: 114.4696\n",
      "Epoch 28/100\n",
      "323/323 [==============================] - 0s 74us/sample - loss: 106.8647 - mse: 106.8647 - val_loss: 90.9936 - val_mse: 90.9936\n",
      "Epoch 29/100\n",
      "323/323 [==============================] - 0s 72us/sample - loss: 87.2003 - mse: 87.2003 - val_loss: 77.1940 - val_mse: 77.1940\n",
      "Epoch 30/100\n",
      "323/323 [==============================] - 0s 64us/sample - loss: 74.4263 - mse: 74.4263 - val_loss: 64.5805 - val_mse: 64.5805\n",
      "Epoch 31/100\n",
      "323/323 [==============================] - 0s 78us/sample - loss: 62.7872 - mse: 62.7872 - val_loss: 53.6676 - val_mse: 53.6676\n",
      "Epoch 32/100\n",
      "323/323 [==============================] - 0s 80us/sample - loss: 60.1260 - mse: 60.1260 - val_loss: 47.5760 - val_mse: 47.5760\n",
      "Epoch 33/100\n",
      "323/323 [==============================] - 0s 87us/sample - loss: 63.6743 - mse: 63.6743 - val_loss: 44.4359 - val_mse: 44.4359\n",
      "Epoch 34/100\n",
      "323/323 [==============================] - 0s 97us/sample - loss: 50.9917 - mse: 50.9917 - val_loss: 43.4740 - val_mse: 43.4740\n",
      "Epoch 35/100\n",
      "323/323 [==============================] - 0s 76us/sample - loss: 56.4402 - mse: 56.4402 - val_loss: 37.7741 - val_mse: 37.7741\n",
      "Epoch 36/100\n",
      "323/323 [==============================] - 0s 79us/sample - loss: 58.1770 - mse: 58.1771 - val_loss: 37.1414 - val_mse: 37.1414\n",
      "Epoch 37/100\n",
      "323/323 [==============================] - 0s 79us/sample - loss: 53.4349 - mse: 53.4349 - val_loss: 35.4072 - val_mse: 35.4072\n",
      "Epoch 38/100\n",
      "323/323 [==============================] - 0s 74us/sample - loss: 53.0318 - mse: 53.0318 - val_loss: 35.2369 - val_mse: 35.2369\n",
      "Epoch 39/100\n",
      "323/323 [==============================] - 0s 68us/sample - loss: 53.6461 - mse: 53.6461 - val_loss: 33.9962 - val_mse: 33.9962\n",
      "Epoch 40/100\n",
      "323/323 [==============================] - 0s 65us/sample - loss: 52.5136 - mse: 52.5136 - val_loss: 31.5690 - val_mse: 31.5690\n",
      "Epoch 41/100\n",
      "323/323 [==============================] - 0s 73us/sample - loss: 51.5584 - mse: 51.5584 - val_loss: 30.7897 - val_mse: 30.7897\n",
      "Epoch 42/100\n",
      "323/323 [==============================] - 0s 71us/sample - loss: 50.8447 - mse: 50.8447 - val_loss: 29.9547 - val_mse: 29.9547\n",
      "Epoch 43/100\n",
      "323/323 [==============================] - 0s 68us/sample - loss: 46.6072 - mse: 46.6072 - val_loss: 30.3100 - val_mse: 30.3100\n",
      "Epoch 44/100\n",
      "323/323 [==============================] - 0s 71us/sample - loss: 48.7203 - mse: 48.7203 - val_loss: 29.7034 - val_mse: 29.7034\n",
      "Epoch 45/100\n",
      "323/323 [==============================] - 0s 74us/sample - loss: 42.2558 - mse: 42.2558 - val_loss: 27.4417 - val_mse: 27.4417\n",
      "Epoch 46/100\n",
      "323/323 [==============================] - 0s 77us/sample - loss: 42.5948 - mse: 42.5948 - val_loss: 26.9970 - val_mse: 26.9970\n",
      "Epoch 47/100\n",
      "323/323 [==============================] - 0s 79us/sample - loss: 48.9590 - mse: 48.9590 - val_loss: 25.4025 - val_mse: 25.4025\n",
      "Epoch 48/100\n",
      "323/323 [==============================] - 0s 78us/sample - loss: 43.2547 - mse: 43.2547 - val_loss: 25.2501 - val_mse: 25.2501\n",
      "Epoch 49/100\n",
      "323/323 [==============================] - 0s 78us/sample - loss: 39.0188 - mse: 39.0188 - val_loss: 24.8726 - val_mse: 24.8726\n",
      "Epoch 50/100\n",
      "323/323 [==============================] - 0s 87us/sample - loss: 45.8707 - mse: 45.8707 - val_loss: 24.6221 - val_mse: 24.6221\n",
      "Epoch 51/100\n",
      "323/323 [==============================] - 0s 85us/sample - loss: 40.3241 - mse: 40.3241 - val_loss: 24.5066 - val_mse: 24.5066\n",
      "Epoch 52/100\n",
      "323/323 [==============================] - 0s 95us/sample - loss: 41.9261 - mse: 41.9261 - val_loss: 24.7642 - val_mse: 24.7642\n",
      "Epoch 53/100\n",
      "323/323 [==============================] - 0s 91us/sample - loss: 38.7959 - mse: 38.7959 - val_loss: 23.9296 - val_mse: 23.9296\n",
      "Epoch 54/100\n",
      "323/323 [==============================] - 0s 95us/sample - loss: 42.2806 - mse: 42.2806 - val_loss: 22.6186 - val_mse: 22.6186\n",
      "Epoch 55/100\n",
      "323/323 [==============================] - 0s 79us/sample - loss: 38.9662 - mse: 38.9662 - val_loss: 22.2645 - val_mse: 22.2645\n",
      "Epoch 56/100\n",
      "323/323 [==============================] - 0s 73us/sample - loss: 40.1850 - mse: 40.1850 - val_loss: 21.7752 - val_mse: 21.7752\n",
      "Epoch 57/100\n",
      "323/323 [==============================] - 0s 84us/sample - loss: 38.5823 - mse: 38.5824 - val_loss: 21.4224 - val_mse: 21.4224\n",
      "Epoch 58/100\n",
      "323/323 [==============================] - 0s 89us/sample - loss: 43.9565 - mse: 43.9565 - val_loss: 21.4410 - val_mse: 21.4410\n",
      "Epoch 59/100\n",
      "323/323 [==============================] - 0s 70us/sample - loss: 39.8934 - mse: 39.8934 - val_loss: 21.8176 - val_mse: 21.8176\n",
      "Epoch 60/100\n",
      "323/323 [==============================] - 0s 85us/sample - loss: 41.8023 - mse: 41.8023 - val_loss: 20.7405 - val_mse: 20.7405\n",
      "Epoch 61/100\n",
      "323/323 [==============================] - 0s 95us/sample - loss: 44.7390 - mse: 44.7390 - val_loss: 19.9631 - val_mse: 19.9631\n",
      "Epoch 62/100\n",
      "323/323 [==============================] - 0s 75us/sample - loss: 29.9060 - mse: 29.9060 - val_loss: 20.0472 - val_mse: 20.0472\n",
      "Epoch 63/100\n",
      "323/323 [==============================] - 0s 77us/sample - loss: 46.6685 - mse: 46.6685 - val_loss: 20.3576 - val_mse: 20.3576\n",
      "Epoch 64/100\n",
      "323/323 [==============================] - 0s 74us/sample - loss: 38.9164 - mse: 38.9164 - val_loss: 19.4408 - val_mse: 19.4408\n",
      "Epoch 65/100\n",
      "323/323 [==============================] - 0s 69us/sample - loss: 38.4453 - mse: 38.4453 - val_loss: 20.0916 - val_mse: 20.0916\n",
      "Epoch 66/100\n",
      "323/323 [==============================] - 0s 79us/sample - loss: 39.9059 - mse: 39.9059 - val_loss: 19.5900 - val_mse: 19.5900\n",
      "Epoch 67/100\n",
      "323/323 [==============================] - 0s 77us/sample - loss: 32.9083 - mse: 32.9083 - val_loss: 20.4055 - val_mse: 20.4055\n",
      "Epoch 68/100\n",
      "323/323 [==============================] - 0s 73us/sample - loss: 41.4156 - mse: 41.4156 - val_loss: 18.7483 - val_mse: 18.7483\n",
      "Epoch 69/100\n",
      "323/323 [==============================] - 0s 74us/sample - loss: 35.8504 - mse: 35.8504 - val_loss: 19.1382 - val_mse: 19.1382\n",
      "Epoch 70/100\n",
      "323/323 [==============================] - 0s 96us/sample - loss: 30.6258 - mse: 30.6258 - val_loss: 17.7765 - val_mse: 17.7765\n",
      "Epoch 71/100\n",
      "323/323 [==============================] - 0s 72us/sample - loss: 35.3794 - mse: 35.3794 - val_loss: 17.7454 - val_mse: 17.7454\n",
      "Epoch 72/100\n",
      "323/323 [==============================] - 0s 72us/sample - loss: 32.5195 - mse: 32.5195 - val_loss: 17.7221 - val_mse: 17.7221\n",
      "Epoch 73/100\n",
      "323/323 [==============================] - 0s 75us/sample - loss: 31.8553 - mse: 31.8553 - val_loss: 17.4039 - val_mse: 17.4039\n",
      "Epoch 74/100\n",
      "323/323 [==============================] - 0s 69us/sample - loss: 35.0490 - mse: 35.0490 - val_loss: 17.1486 - val_mse: 17.1486\n",
      "Epoch 75/100\n",
      "323/323 [==============================] - 0s 92us/sample - loss: 39.1448 - mse: 39.1448 - val_loss: 17.3662 - val_mse: 17.3662\n",
      "Epoch 76/100\n",
      "323/323 [==============================] - 0s 75us/sample - loss: 30.6830 - mse: 30.6830 - val_loss: 16.9513 - val_mse: 16.9513\n",
      "Epoch 77/100\n",
      "323/323 [==============================] - 0s 75us/sample - loss: 33.0716 - mse: 33.0716 - val_loss: 17.2065 - val_mse: 17.2065\n",
      "Epoch 78/100\n",
      "323/323 [==============================] - 0s 77us/sample - loss: 29.8965 - mse: 29.8965 - val_loss: 16.7664 - val_mse: 16.7664\n",
      "Epoch 79/100\n",
      "323/323 [==============================] - 0s 82us/sample - loss: 33.2298 - mse: 33.2298 - val_loss: 15.8138 - val_mse: 15.8138\n",
      "Epoch 80/100\n",
      "323/323 [==============================] - 0s 78us/sample - loss: 33.0518 - mse: 33.0518 - val_loss: 15.4002 - val_mse: 15.4002\n",
      "Epoch 81/100\n",
      "323/323 [==============================] - 0s 70us/sample - loss: 29.1756 - mse: 29.1756 - val_loss: 15.4626 - val_mse: 15.4626\n",
      "Epoch 82/100\n",
      "323/323 [==============================] - 0s 72us/sample - loss: 29.8538 - mse: 29.8538 - val_loss: 15.6373 - val_mse: 15.6373\n",
      "Epoch 83/100\n",
      "323/323 [==============================] - 0s 71us/sample - loss: 31.7640 - mse: 31.7640 - val_loss: 15.2346 - val_mse: 15.2346\n",
      "Epoch 84/100\n",
      "323/323 [==============================] - 0s 84us/sample - loss: 34.7777 - mse: 34.7777 - val_loss: 15.1042 - val_mse: 15.1042\n",
      "Epoch 85/100\n",
      "323/323 [==============================] - 0s 76us/sample - loss: 35.2160 - mse: 35.2160 - val_loss: 14.8065 - val_mse: 14.8065\n",
      "Epoch 86/100\n",
      "323/323 [==============================] - 0s 80us/sample - loss: 28.0350 - mse: 28.0350 - val_loss: 14.8612 - val_mse: 14.8612\n",
      "Epoch 87/100\n",
      "323/323 [==============================] - 0s 84us/sample - loss: 27.4121 - mse: 27.4121 - val_loss: 14.7473 - val_mse: 14.7473\n",
      "Epoch 88/100\n",
      "323/323 [==============================] - 0s 76us/sample - loss: 33.0949 - mse: 33.0948 - val_loss: 15.1065 - val_mse: 15.1065\n",
      "Epoch 89/100\n",
      "323/323 [==============================] - 0s 77us/sample - loss: 31.4384 - mse: 31.4384 - val_loss: 14.1397 - val_mse: 14.1397\n",
      "Epoch 90/100\n",
      "323/323 [==============================] - 0s 79us/sample - loss: 32.9957 - mse: 32.9957 - val_loss: 13.7724 - val_mse: 13.7724\n",
      "Epoch 91/100\n",
      "323/323 [==============================] - 0s 80us/sample - loss: 28.6138 - mse: 28.6138 - val_loss: 13.7408 - val_mse: 13.7408\n",
      "Epoch 92/100\n",
      "323/323 [==============================] - 0s 71us/sample - loss: 26.2440 - mse: 26.2440 - val_loss: 13.6833 - val_mse: 13.6833\n",
      "Epoch 93/100\n",
      "323/323 [==============================] - 0s 83us/sample - loss: 29.6220 - mse: 29.6220 - val_loss: 13.3960 - val_mse: 13.3960\n",
      "Epoch 94/100\n",
      "323/323 [==============================] - 0s 79us/sample - loss: 29.6517 - mse: 29.6517 - val_loss: 13.4143 - val_mse: 13.4143\n",
      "Epoch 95/100\n",
      "323/323 [==============================] - 0s 77us/sample - loss: 31.3639 - mse: 31.3639 - val_loss: 13.5826 - val_mse: 13.5826\n",
      "Epoch 96/100\n",
      "323/323 [==============================] - 0s 92us/sample - loss: 26.5107 - mse: 26.5107 - val_loss: 13.5358 - val_mse: 13.5358\n",
      "Epoch 97/100\n",
      "323/323 [==============================] - 0s 66us/sample - loss: 29.1860 - mse: 29.1860 - val_loss: 13.3972 - val_mse: 13.3972\n",
      "Epoch 98/100\n",
      "323/323 [==============================] - 0s 86us/sample - loss: 27.8839 - mse: 27.8839 - val_loss: 13.5084 - val_mse: 13.5084\n",
      "Epoch 99/100\n",
      "323/323 [==============================] - 0s 89us/sample - loss: 29.4515 - mse: 29.4515 - val_loss: 13.2407 - val_mse: 13.2407\n",
      "Epoch 100/100\n",
      "323/323 [==============================] - 0s 81us/sample - loss: 27.8376 - mse: 27.8376 - val_loss: 12.7146 - val_mse: 12.7146\n"
     ]
    },
    {
     "data": {
      "text/plain": [
       "<tensorflow.python.keras.callbacks.History at 0x13a37f7d0>"
      ]
     },
     "execution_count": 4,
     "metadata": {},
     "output_type": "execute_result"
    }
   ],
   "source": [
    "opt = RMSprop()\n",
    "model = Sequential()\n",
    "\n",
    "model.add(Dense(13, input_shape=[X_train.shape[1]]))\n",
    "model.add(Activation('relu'))\n",
    "model.add(Dropout(.2))\n",
    "model.add(Dense(7))\n",
    "model.add(Activation('relu'))\n",
    "model.add(Dense(4))\n",
    "model.add(Activation('relu'))\n",
    "model.add(Dense(2))\n",
    "model.add(Activation('relu'))\n",
    "model.add(Dense(1))\n",
    "model.add(Activation('linear'))\n",
    "\n",
    "model.compile(optimizer=opt, loss=mean_squared_error, metrics=['mse'])\n",
    "\n",
    "model.fit(X_train, y_train, epochs=100, validation_split=.2)"
   ]
  },
  {
   "cell_type": "code",
   "execution_count": 5,
   "metadata": {
    "colab": {
     "base_uri": "https://localhost:8080/",
     "height": 50
    },
    "colab_type": "code",
    "id": "LU1kNDgBwAnv",
    "outputId": "6c93dce4-09ec-43af-a075-f5929d3f13d8"
   },
   "outputs": [
    {
     "name": "stdout",
     "output_type": "stream",
     "text": [
      "102/102 [==============================] - 0s 49us/sample - loss: 20.4577 - mse: 20.4577\n"
     ]
    },
    {
     "data": {
      "text/plain": [
       "[20.457703983082492, 20.457705]"
      ]
     },
     "execution_count": 5,
     "metadata": {},
     "output_type": "execute_result"
    }
   ],
   "source": [
    "model.evaluate(X_test, y_test)"
   ]
  },
  {
   "cell_type": "markdown",
   "metadata": {
    "colab_type": "text",
    "id": "SfcFnOONyuNm"
   },
   "source": [
    "## Use the Keras Library to build an image recognition network using the Fashion-MNIST dataset (also comes with keras)\n",
    "\n",
    "- Load and preprocess the image data similar to how we preprocessed the MNIST data in class.\n",
    "- Make sure to one-hot encode your category labels\n",
    "- The number of nodes in your output layer should equal the number of classes you want to predict for Fashion-MNIST.\n",
    "- Try different hyperparameters. What is the highest accuracy that you are able to achieve.\n",
    "- Use the history object that is returned from model.fit to make graphs of the model's loss or train/validation accuracies by epoch. \n",
    "- Remember that neural networks fall prey to randomness so you may need to run your model multiple times (or use Cross Validation) in order to tell if a change to a hyperparameter is truly producing better results."
   ]
  },
  {
   "cell_type": "code",
   "execution_count": 31,
   "metadata": {
    "colab": {},
    "colab_type": "code",
    "id": "szi6-IpuzaH1"
   },
   "outputs": [],
   "source": [
    "##### Your Code Here #####\n",
    "from tensorflow.keras.datasets import mnist\n",
    "from tensorflow.keras.utils import to_categorical\n",
    "from tensorflow.keras.callbacks import EarlyStopping, TensorBoard\n",
    "import os, datetime\n",
    "\n",
    "(X_train, y_train), (X_test, y_test) = mnist.load_data()"
   ]
  },
  {
   "cell_type": "code",
   "execution_count": 32,
   "metadata": {
    "colab": {},
    "colab_type": "code",
    "id": "04t6IyHK1udX"
   },
   "outputs": [],
   "source": [
    "num_classes = 10\n",
    "\n",
    "X_train = X_train.astype('float32') / 255.\n",
    "X_test = X_test.astype('float32') /255.\n",
    "\n",
    "y_train = to_categorical(y_train, num_classes)\n",
    "y_test = to_categorical(y_test, num_classes)"
   ]
  },
  {
   "cell_type": "code",
   "execution_count": 80,
   "metadata": {
    "colab": {
     "base_uri": "https://localhost:8080/",
     "height": 104
    },
    "colab_type": "code",
    "id": "cnV82pVb2B7Q",
    "outputId": "7f24ff6a-7066-40ec-fa90-9148572bf3d2"
   },
   "outputs": [
    {
     "name": "stdout",
     "output_type": "stream",
     "text": [
      "Train on 48000 samples, validate on 12000 samples\n",
      "Epoch 1/999\n",
      "48000/48000 [==============================] - 9s 180us/sample - loss: 0.8324 - accuracy: 0.7264 - val_loss: 0.3009 - val_accuracy: 0.9317\n",
      "Epoch 2/999\n",
      "48000/48000 [==============================] - 8s 170us/sample - loss: 0.3901 - accuracy: 0.8882 - val_loss: 0.1660 - val_accuracy: 0.9642\n",
      "Epoch 3/999\n",
      "48000/48000 [==============================] - 8s 169us/sample - loss: 0.3147 - accuracy: 0.9106 - val_loss: 0.1469 - val_accuracy: 0.9684\n",
      "Epoch 4/999\n",
      "48000/48000 [==============================] - 8s 168us/sample - loss: 0.2807 - accuracy: 0.9200 - val_loss: 0.1582 - val_accuracy: 0.9700\n",
      "Epoch 5/999\n",
      "48000/48000 [==============================] - 8s 169us/sample - loss: 0.2581 - accuracy: 0.9247 - val_loss: 0.1489 - val_accuracy: 0.9696\n"
     ]
    },
    {
     "data": {
      "text/plain": [
       "<tensorflow.python.keras.callbacks.History at 0x15eabea10>"
      ]
     },
     "execution_count": 80,
     "metadata": {},
     "output_type": "execute_result"
    }
   ],
   "source": [
    "logdir = os.path.join(\"logs\", datetime.datetime.now().strftime(\"%Y%m%d-%H%M%S\"))\n",
    "tensorboard_callback = TensorBoard(logdir, histogram_freq=1)\n",
    "\n",
    "stop = EarlyStopping(monitor='val_accuracy', min_delta=0.01, patience=3)\n",
    "\n",
    "model = Sequential()\n",
    "opt = Adam()\n",
    "\n",
    "model.add(Flatten())\n",
    "\n",
    "model.add(Dropout(.2))\n",
    "model.add(Dense(728, input_dim=728))\n",
    "model.add(Activation('relu'))\n",
    "\n",
    "# model.add(Dropout(.2))\n",
    "model.add(Dense(369))\n",
    "model.add(Activation('relu'))\n",
    "\n",
    "# model.add(Dropout(.2))\n",
    "model.add(Dense(190)),\n",
    "model.add(Activation('relu'))\n",
    "\n",
    "# model.add(Dropout(.2))\n",
    "model.add(Dense(100))\n",
    "model.add(Activation('relu'))\n",
    "\n",
    "# model.add(Dropout(.2))\n",
    "model.add(Dense(55))\n",
    "model.add(Activation('relu'))\n",
    "\n",
    "# model.add(Dropout(.2))\n",
    "model.add(Dense(32))\n",
    "model.add(Activation('relu'))\n",
    "\n",
    "# model.add(Dropout(.2))\n",
    "model.add(Dense(21))\n",
    "model.add(Activation('relu'))\n",
    "\n",
    "# model.add(Dropout(.2))\n",
    "model.add(Dense(15))\n",
    "model.add(Activation('relu'))\n",
    "\n",
    "# model.add(Dropout(.2))\n",
    "model.add(Dense(12))\n",
    "model.add(Activation('relu'))\n",
    "\n",
    "# model.add(Dropout(.2))\n",
    "model.add(Dense(11))\n",
    "model.add(Activation('relu'))\n",
    "\n",
    "model.add(Dropout(.2))\n",
    "model.add(Dense(10))\n",
    "model.add(Activation('softmax'))\n",
    "\n",
    "model.compile(loss=categorical_crossentropy, optimizer=opt, metrics=['accuracy'])\n",
    "\n",
    "model.fit(X_train, y_train, epochs=999, validation_split=.2, verbose=1,\n",
    "          callbacks=[tensorboard_callback, stop])"
   ]
  },
  {
   "cell_type": "code",
   "execution_count": 81,
   "metadata": {
    "colab": {},
    "colab_type": "code",
    "id": "O-XOaajl6Y1w"
   },
   "outputs": [
    {
     "name": "stdout",
     "output_type": "stream",
     "text": [
      "10000/10000 [==============================] - 1s 55us/sample - loss: 0.1468 - accuracy: 0.9685\n"
     ]
    },
    {
     "data": {
      "text/plain": [
       "[0.1467601068132557, 0.9685]"
      ]
     },
     "execution_count": 81,
     "metadata": {},
     "output_type": "execute_result"
    }
   ],
   "source": [
    "model.evaluate(X_test, y_test)"
   ]
  },
  {
   "cell_type": "code",
   "execution_count": 82,
   "metadata": {},
   "outputs": [
    {
     "name": "stdout",
     "output_type": "stream",
     "text": [
      "Train on 48000 samples, validate on 12000 samples\n",
      "Epoch 1/999\n",
      "48000/48000 [==============================] - 8s 167us/sample - loss: 0.2384 - accuracy: 0.9308 - val_loss: 0.1324 - val_accuracy: 0.9738\n",
      "Epoch 2/999\n",
      "48000/48000 [==============================] - 8s 169us/sample - loss: 0.2179 - accuracy: 0.9371 - val_loss: 0.1377 - val_accuracy: 0.9703\n",
      "Epoch 3/999\n",
      "48000/48000 [==============================] - 8s 169us/sample - loss: 0.1992 - accuracy: 0.9406 - val_loss: 0.1498 - val_accuracy: 0.9699\n",
      "Epoch 4/999\n",
      "48000/48000 [==============================] - 8s 169us/sample - loss: 0.1947 - accuracy: 0.9428 - val_loss: 0.1179 - val_accuracy: 0.9768\n"
     ]
    },
    {
     "data": {
      "image/png": "[encoded data removed]",
      "text/plain": [
       "<Figure size 432x288 with 1 Axes>"
      ]
     },
     "metadata": {
      "needs_background": "light"
     },
     "output_type": "display_data"
    },
    {
     "data": {
      "image/png": "[encoded data removed]",
      "text/plain": [
       "<Figure size 432x288 with 1 Axes>"
      ]
     },
     "metadata": {
      "needs_background": "light"
     },
     "output_type": "display_data"
    }
   ],
   "source": [
    "import matplotlib.pyplot as plt\n",
    "\n",
    "history = model.fit(X_train, y_train, epochs=999, validation_split=.2, verbose=1,\n",
    "          callbacks=[tensorboard_callback, stop])\n",
    "\n",
    "# Plot training & validation accuracy values\n",
    "plt.plot(history.history['accuracy'])\n",
    "plt.plot(history.history['val_accuracy'])\n",
    "plt.title('Model accuracy')\n",
    "plt.ylabel('Accuracy')\n",
    "plt.xlabel('Epoch')\n",
    "plt.legend(['Train', 'Test'], loc='upper left')\n",
    "plt.show()\n",
    "\n",
    "# Plot training & validation loss values\n",
    "plt.plot(history.history['loss'])\n",
    "plt.plot(history.history['val_loss'])\n",
    "plt.title('Model loss')\n",
    "plt.ylabel('Loss')\n",
    "plt.xlabel('Epoch')\n",
    "plt.legend(['Train', 'Test'], loc='upper left')\n",
    "plt.show()"
   ]
  },
  {
   "cell_type": "markdown",
   "metadata": {
    "colab_type": "text",
    "id": "zv_3xNMjzdLI"
   },
   "source": [
    "## Stretch Goals:\n",
    "\n",
    "- Use Hyperparameter Tuning to make the accuracy of your models as high as possible. (error as low as possible)\n",
    "- Use Cross Validation techniques to get more consistent results with your model.\n",
    "- Use GridSearchCV to try different combinations of hyperparameters. \n",
    "- Start looking into other types of Keras layers for CNNs and RNNs maybe try and build a CNN model for fashion-MNIST to see how the results compare."
   ]
  },
  {
   "cell_type": "code",
   "execution_count": null,
   "metadata": {},
   "outputs": [],
   "source": []
  }
 ],
 "metadata": {
  "colab": {
   "name": "LS_DS_433_Keras_Assignment.ipynb",
   "provenance": []
  },
  "kernelspec": {
   "display_name": "U4-S2",
   "language": "python",
   "name": "ds-12-unit-4-sprint-2"
  },
  "language_info": {
   "codemirror_mode": {
    "name": "ipython",
    "version": 3
   },
   "file_extension": ".py",
   "mimetype": "text/x-python",
   "name": "python",
   "nbconvert_exporter": "python",
   "pygments_lexer": "ipython3",
   "version": "3.7.7"
  }
 },
 "nbformat": 4,
 "nbformat_minor": 4
}
