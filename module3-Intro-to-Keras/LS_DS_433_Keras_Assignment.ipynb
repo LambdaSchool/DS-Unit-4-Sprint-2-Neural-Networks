{
 "cells": [
  {
   "cell_type": "markdown",
   "metadata": {
    "colab_type": "text",
    "id": "pBQsZEJmubLs"
   },
   "source": [
    "## Use the Keras Library to build a Multi-Layer Perceptron Model on the Boston Housing dataset\n",
    "\n",
    "- The Boston Housing dataset comes with the Keras library so use Keras to import it into your notebook. \n",
    "- Normalize the data (all features should have roughly the same scale)\n",
    "- Import the type of model and layers that you will need from Keras.\n",
    "- Instantiate a model object and use `model.add()` to add layers to your model\n",
    "- Since this is a regression model you will have a single output node in the final layer.\n",
    "- Use activation functions that are appropriate for this task\n",
    "- Compile your model\n",
    "- Fit your model and report its accuracy in terms of Mean Squared Error\n",
    "- Use the history object that is returned from model.fit to make graphs of the model's loss or train/validation accuracies by epoch. \n",
    "- Run this same data through a linear regression model. Which achieves higher accuracy?\n",
    "- Do a little bit of feature engineering and see how that affects your neural network model. (you will need to change your model to accept more inputs)\n",
    "- After feature engineering, which model sees a greater accuracy boost due to the new features?"
   ]
  },
  {
   "cell_type": "code",
   "execution_count": 39,
   "metadata": {},
   "outputs": [],
   "source": [
    "from keras.datasets import boston_housing\n",
    "\n",
    "(x_train, y_train), (x_test, y_test) = boston_housing.load_data()"
   ]
  },
  {
   "cell_type": "code",
   "execution_count": 40,
   "metadata": {},
   "outputs": [],
   "source": [
    "x_train = x_train/x_train.max(axis=0)"
   ]
  },
  {
   "cell_type": "code",
   "execution_count": 41,
   "metadata": {},
   "outputs": [],
   "source": [
    "import keras\n",
    "from keras.models import Sequential\n",
    "from keras.layers import Dense, Dropout\n"
   ]
  },
  {
   "cell_type": "code",
   "execution_count": 42,
   "metadata": {
    "colab": {},
    "colab_type": "code",
    "id": "8NLTAR87uYJ-"
   },
   "outputs": [
    {
     "name": "stdout",
     "output_type": "stream",
     "text": [
      "_________________________________________________________________\n",
      "Layer (type)                 Output Shape              Param #   \n",
      "=================================================================\n",
      "dense_35 (Dense)             (None, 13)                182       \n",
      "_________________________________________________________________\n",
      "dense_36 (Dense)             (None, 26)                364       \n",
      "_________________________________________________________________\n",
      "dense_37 (Dense)             (None, 1)                 27        \n",
      "=================================================================\n",
      "Total params: 573\n",
      "Trainable params: 573\n",
      "Non-trainable params: 0\n",
      "_________________________________________________________________\n"
     ]
    }
   ],
   "source": [
    "model = Sequential()\n",
    "model.add(Dense(13,input_shape=(13,), kernel_initializer='normal', activation='relu'))\n",
    "model.add(Dense(26, kernel_initializer='normal', activation='relu'))\n",
    "model.add(Dense(1, kernel_initializer='normal'))\n",
    "model.compile(loss='mean_squared_error', optimizer='adam')\n",
    "model.summary()"
   ]
  },
  {
   "cell_type": "code",
   "execution_count": 43,
   "metadata": {},
   "outputs": [
    {
     "name": "stdout",
     "output_type": "stream",
     "text": [
      "Train on 363 samples, validate on 41 samples\n",
      "Epoch 1/50\n",
      "363/363 [==============================] - 1s 3ms/step - loss: 594.7248 - val_loss: 504.5224\n",
      "Epoch 2/50\n",
      "363/363 [==============================] - 0s 83us/step - loss: 592.9912 - val_loss: 502.2562\n",
      "Epoch 3/50\n",
      "363/363 [==============================] - 0s 78us/step - loss: 589.7669 - val_loss: 497.8933\n",
      "Epoch 4/50\n",
      "363/363 [==============================] - 0s 79us/step - loss: 583.6124 - val_loss: 489.9293\n",
      "Epoch 5/50\n",
      "363/363 [==============================] - 0s 79us/step - loss: 572.6428 - val_loss: 476.5375\n",
      "Epoch 6/50\n",
      "363/363 [==============================] - 0s 74us/step - loss: 555.0499 - val_loss: 455.7753\n",
      "Epoch 7/50\n",
      "363/363 [==============================] - 0s 79us/step - loss: 528.4816 - val_loss: 426.2463\n",
      "Epoch 8/50\n",
      "363/363 [==============================] - 0s 75us/step - loss: 492.5568 - val_loss: 386.7364\n",
      "Epoch 9/50\n",
      "363/363 [==============================] - 0s 81us/step - loss: 445.4162 - val_loss: 338.3528\n",
      "Epoch 10/50\n",
      "363/363 [==============================] - 0s 79us/step - loss: 388.9738 - val_loss: 283.2086\n",
      "Epoch 11/50\n",
      "363/363 [==============================] - 0s 77us/step - loss: 326.9859 - val_loss: 224.6537\n",
      "Epoch 12/50\n",
      "363/363 [==============================] - 0s 75us/step - loss: 263.7111 - val_loss: 170.7371\n",
      "Epoch 13/50\n",
      "363/363 [==============================] - 0s 77us/step - loss: 207.9943 - val_loss: 126.9658\n",
      "Epoch 14/50\n",
      "363/363 [==============================] - 0s 75us/step - loss: 165.1854 - val_loss: 97.6533\n",
      "Epoch 15/50\n",
      "363/363 [==============================] - 0s 74us/step - loss: 139.2076 - val_loss: 82.9037\n",
      "Epoch 16/50\n",
      "363/363 [==============================] - 0s 78us/step - loss: 124.4322 - val_loss: 77.5282\n",
      "Epoch 17/50\n",
      "363/363 [==============================] - 0s 78us/step - loss: 119.2019 - val_loss: 75.5443\n",
      "Epoch 18/50\n",
      "363/363 [==============================] - 0s 74us/step - loss: 116.2876 - val_loss: 73.7153\n",
      "Epoch 19/50\n",
      "363/363 [==============================] - 0s 77us/step - loss: 114.1303 - val_loss: 71.9411\n",
      "Epoch 20/50\n",
      "363/363 [==============================] - 0s 78us/step - loss: 111.9617 - val_loss: 69.7914\n",
      "Epoch 21/50\n",
      "363/363 [==============================] - 0s 77us/step - loss: 109.7803 - val_loss: 67.8143\n",
      "Epoch 22/50\n",
      "363/363 [==============================] - 0s 77us/step - loss: 107.6862 - val_loss: 65.8041\n",
      "Epoch 23/50\n",
      "363/363 [==============================] - 0s 79us/step - loss: 105.7892 - val_loss: 64.0135\n",
      "Epoch 24/50\n",
      "363/363 [==============================] - 0s 76us/step - loss: 103.7061 - val_loss: 62.0687\n",
      "Epoch 25/50\n",
      "363/363 [==============================] - 0s 75us/step - loss: 101.9000 - val_loss: 60.3029\n",
      "Epoch 26/50\n",
      "363/363 [==============================] - 0s 77us/step - loss: 100.0196 - val_loss: 58.8934\n",
      "Epoch 27/50\n",
      "363/363 [==============================] - 0s 75us/step - loss: 98.2862 - val_loss: 57.2877\n",
      "Epoch 28/50\n",
      "363/363 [==============================] - 0s 76us/step - loss: 96.5074 - val_loss: 55.8133\n",
      "Epoch 29/50\n",
      "363/363 [==============================] - 0s 78us/step - loss: 94.9405 - val_loss: 54.2241\n",
      "Epoch 30/50\n",
      "363/363 [==============================] - 0s 83us/step - loss: 93.1631 - val_loss: 52.9246\n",
      "Epoch 31/50\n",
      "363/363 [==============================] - 0s 83us/step - loss: 91.6289 - val_loss: 51.4688\n",
      "Epoch 32/50\n",
      "363/363 [==============================] - 0s 72us/step - loss: 90.0145 - val_loss: 49.8168\n",
      "Epoch 33/50\n",
      "363/363 [==============================] - 0s 74us/step - loss: 88.4169 - val_loss: 48.3913\n",
      "Epoch 34/50\n",
      "363/363 [==============================] - 0s 70us/step - loss: 86.9153 - val_loss: 46.9792\n",
      "Epoch 35/50\n",
      "363/363 [==============================] - 0s 71us/step - loss: 85.4571 - val_loss: 45.6791\n",
      "Epoch 36/50\n",
      "363/363 [==============================] - 0s 72us/step - loss: 84.3083 - val_loss: 44.5849\n",
      "Epoch 37/50\n",
      "363/363 [==============================] - 0s 74us/step - loss: 82.6248 - val_loss: 43.1476\n",
      "Epoch 38/50\n",
      "363/363 [==============================] - 0s 71us/step - loss: 81.2298 - val_loss: 41.8154\n",
      "Epoch 39/50\n",
      "363/363 [==============================] - 0s 72us/step - loss: 79.9643 - val_loss: 40.6443\n",
      "Epoch 40/50\n",
      "363/363 [==============================] - 0s 71us/step - loss: 78.6377 - val_loss: 39.6445\n",
      "Epoch 41/50\n",
      "363/363 [==============================] - 0s 71us/step - loss: 77.4117 - val_loss: 38.7032\n",
      "Epoch 42/50\n",
      "363/363 [==============================] - 0s 70us/step - loss: 76.1549 - val_loss: 37.5806\n",
      "Epoch 43/50\n",
      "363/363 [==============================] - 0s 75us/step - loss: 74.9399 - val_loss: 36.5863\n",
      "Epoch 44/50\n",
      "363/363 [==============================] - 0s 71us/step - loss: 73.8057 - val_loss: 35.7892\n",
      "Epoch 45/50\n",
      "363/363 [==============================] - 0s 70us/step - loss: 72.7328 - val_loss: 34.9229\n",
      "Epoch 46/50\n",
      "363/363 [==============================] - 0s 71us/step - loss: 71.7663 - val_loss: 33.9010\n",
      "Epoch 47/50\n",
      "363/363 [==============================] - 0s 70us/step - loss: 70.5991 - val_loss: 32.9931\n",
      "Epoch 48/50\n",
      "363/363 [==============================] - 0s 74us/step - loss: 69.6283 - val_loss: 32.2200\n",
      "Epoch 49/50\n",
      "363/363 [==============================] - 0s 75us/step - loss: 68.7180 - val_loss: 31.2783\n",
      "Epoch 50/50\n",
      "363/363 [==============================] - 0s 71us/step - loss: 67.7237 - val_loss: 30.8817\n"
     ]
    }
   ],
   "source": [
    "blackbox = model.fit(x_train,y_train, epochs = 50, validation_split=.1)"
   ]
  },
  {
   "cell_type": "markdown",
   "metadata": {},
   "source": [
    "# Julia"
   ]
  },
  {
   "cell_type": "code",
   "execution_count": null,
   "metadata": {},
   "outputs": [],
   "source": []
  },
  {
   "cell_type": "code",
   "execution_count": null,
   "metadata": {},
   "outputs": [],
   "source": []
  },
  {
   "cell_type": "code",
   "execution_count": null,
   "metadata": {},
   "outputs": [],
   "source": []
  },
  {
   "cell_type": "code",
   "execution_count": null,
   "metadata": {},
   "outputs": [],
   "source": []
  },
  {
   "cell_type": "code",
   "execution_count": null,
   "metadata": {},
   "outputs": [],
   "source": []
  },
  {
   "cell_type": "code",
   "execution_count": null,
   "metadata": {},
   "outputs": [],
   "source": []
  },
  {
   "cell_type": "markdown",
   "metadata": {
    "colab_type": "text",
    "id": "SfcFnOONyuNm"
   },
   "source": [
    "## Use the Keras Library to build an image recognition network using the Fashion-MNIST dataset (also comes with keras)\n",
    "\n",
    "- Load and preprocess the image data similar to how we preprocessed the MNIST data in class.\n",
    "- Make sure to one-hot encode your category labels\n",
    "- Make sure to have your final layer have as many nodes as the number of classes that you want to predict.\n",
    "- Try different hyperparameters. What is the highest accuracy that you are able to achieve.\n",
    "- Use the history object that is returned from model.fit to make graphs of the model's loss or train/validation accuracies by epoch. \n",
    "- Remember that neural networks fall prey to randomness so you may need to run your model multiple times (or use Cross Validation) in order to tell if a change to a hyperparameter is truly producing better results."
   ]
  },
  {
   "cell_type": "code",
   "execution_count": 65,
   "metadata": {},
   "outputs": [],
   "source": [
    "from keras.datasets import fashion_mnist\n",
    "\n",
    "(x_train, y_train), (x_test, y_test) = fashion_mnist.load_data()"
   ]
  },
  {
   "cell_type": "code",
   "execution_count": 78,
   "metadata": {},
   "outputs": [],
   "source": [
    "y_train = keras.utils.to_categorical(y_train, 10)\n",
    "y_test = keras.utils.to_categorical(y_test, 10)"
   ]
  },
  {
   "cell_type": "code",
   "execution_count": 79,
   "metadata": {},
   "outputs": [
    {
     "data": {
      "text/plain": [
       "array([[0., 0., 0., ..., 0., 0., 1.],\n",
       "       [1., 0., 0., ..., 0., 0., 0.],\n",
       "       [1., 0., 0., ..., 0., 0., 0.],\n",
       "       ...,\n",
       "       [0., 0., 0., ..., 0., 0., 0.],\n",
       "       [1., 0., 0., ..., 0., 0., 0.],\n",
       "       [0., 0., 0., ..., 0., 0., 0.]], dtype=float32)"
      ]
     },
     "execution_count": 79,
     "metadata": {},
     "output_type": "execute_result"
    }
   ],
   "source": [
    "y_train"
   ]
  },
  {
   "cell_type": "code",
   "execution_count": 80,
   "metadata": {},
   "outputs": [],
   "source": [
    "x_train = x_train.reshape(60000,784)"
   ]
  },
  {
   "cell_type": "code",
   "execution_count": 81,
   "metadata": {},
   "outputs": [],
   "source": [
    "x_train = x_train/x_train.max(axis=0)"
   ]
  },
  {
   "cell_type": "code",
   "execution_count": 84,
   "metadata": {
    "colab": {},
    "colab_type": "code",
    "id": "szi6-IpuzaH1"
   },
   "outputs": [
    {
     "name": "stdout",
     "output_type": "stream",
     "text": [
      "_________________________________________________________________\n",
      "Layer (type)                 Output Shape              Param #   \n",
      "=================================================================\n",
      "dense_75 (Dense)             (None, 16)                12560     \n",
      "_________________________________________________________________\n",
      "dropout_22 (Dropout)         (None, 16)                0         \n",
      "_________________________________________________________________\n",
      "dense_76 (Dense)             (None, 32)                544       \n",
      "_________________________________________________________________\n",
      "dropout_23 (Dropout)         (None, 32)                0         \n",
      "_________________________________________________________________\n",
      "dense_77 (Dense)             (None, 10)                330       \n",
      "=================================================================\n",
      "Total params: 13,434\n",
      "Trainable params: 13,434\n",
      "Non-trainable params: 0\n",
      "_________________________________________________________________\n"
     ]
    }
   ],
   "source": [
    "##### Your Code Here #####\n",
    "model = Sequential()\n",
    "model.add(Dense(16,input_shape=(784,), kernel_initializer='normal', activation='relu'))\n",
    "model.add(Dropout(0.2))\n",
    "model.add(Dense(32, kernel_initializer='normal', activation='relu'))\n",
    "model.add(Dropout(0.2))\n",
    "model.add(Dense(10, activation='softmax'))\n",
    "model.compile(loss='categorical_crossentropy', optimizer='adam', metrics=['accuracy'])\n",
    "model.summary()"
   ]
  },
  {
   "cell_type": "code",
   "execution_count": 85,
   "metadata": {},
   "outputs": [
    {
     "name": "stdout",
     "output_type": "stream",
     "text": [
      "Train on 54000 samples, validate on 6000 samples\n",
      "Epoch 1/50\n",
      "54000/54000 [==============================] - 5s 96us/step - loss: 0.9172 - acc: 0.6659 - val_loss: 0.5262 - val_acc: 0.8228\n",
      "Epoch 2/50\n",
      "54000/54000 [==============================] - 5s 86us/step - loss: 0.6436 - acc: 0.7696 - val_loss: 0.4903 - val_acc: 0.8232\n",
      "Epoch 3/50\n",
      "54000/54000 [==============================] - 5s 84us/step - loss: 0.6038 - acc: 0.7860 - val_loss: 0.4594 - val_acc: 0.8317\n",
      "Epoch 4/50\n",
      "54000/54000 [==============================] - 5s 84us/step - loss: 0.5791 - acc: 0.7925 - val_loss: 0.4410 - val_acc: 0.8383\n",
      "Epoch 5/50\n",
      "54000/54000 [==============================] - 5s 83us/step - loss: 0.5671 - acc: 0.7973 - val_loss: 0.4530 - val_acc: 0.8355\n",
      "Epoch 6/50\n",
      "54000/54000 [==============================] - 4s 83us/step - loss: 0.5552 - acc: 0.8013 - val_loss: 0.4315 - val_acc: 0.8418\n",
      "Epoch 7/50\n",
      "54000/54000 [==============================] - 5s 83us/step - loss: 0.5508 - acc: 0.8032 - val_loss: 0.4418 - val_acc: 0.8292\n",
      "Epoch 8/50\n",
      "54000/54000 [==============================] - 5s 87us/step - loss: 0.5396 - acc: 0.8062 - val_loss: 0.4256 - val_acc: 0.8458\n",
      "Epoch 9/50\n",
      "54000/54000 [==============================] - 5s 84us/step - loss: 0.5303 - acc: 0.8107 - val_loss: 0.4233 - val_acc: 0.8447\n",
      "Epoch 10/50\n",
      "54000/54000 [==============================] - 5s 86us/step - loss: 0.5278 - acc: 0.8104 - val_loss: 0.4231 - val_acc: 0.8460\n",
      "Epoch 11/50\n",
      "54000/54000 [==============================] - 5s 84us/step - loss: 0.5221 - acc: 0.8123 - val_loss: 0.4294 - val_acc: 0.8432\n",
      "Epoch 12/50\n",
      "54000/54000 [==============================] - 5s 89us/step - loss: 0.5167 - acc: 0.8147 - val_loss: 0.4207 - val_acc: 0.8465\n",
      "Epoch 13/50\n",
      "54000/54000 [==============================] - 5s 96us/step - loss: 0.5090 - acc: 0.8173 - val_loss: 0.4178 - val_acc: 0.8493\n",
      "Epoch 14/50\n",
      "54000/54000 [==============================] - 5s 87us/step - loss: 0.5083 - acc: 0.8176 - val_loss: 0.4367 - val_acc: 0.8408\n",
      "Epoch 15/50\n",
      "54000/54000 [==============================] - 4s 83us/step - loss: 0.5024 - acc: 0.8173 - val_loss: 0.4222 - val_acc: 0.8463\n",
      "Epoch 16/50\n",
      "54000/54000 [==============================] - 4s 82us/step - loss: 0.5025 - acc: 0.8185 - val_loss: 0.4134 - val_acc: 0.8513\n",
      "Epoch 17/50\n",
      "54000/54000 [==============================] - 5s 85us/step - loss: 0.5001 - acc: 0.8194 - val_loss: 0.4222 - val_acc: 0.8462\n",
      "Epoch 18/50\n",
      "54000/54000 [==============================] - 4s 81us/step - loss: 0.4961 - acc: 0.8209 - val_loss: 0.4209 - val_acc: 0.8467\n",
      "Epoch 19/50\n",
      "54000/54000 [==============================] - 4s 80us/step - loss: 0.4973 - acc: 0.8209 - val_loss: 0.4128 - val_acc: 0.8508\n",
      "Epoch 20/50\n",
      "54000/54000 [==============================] - 4s 82us/step - loss: 0.4939 - acc: 0.8221 - val_loss: 0.4303 - val_acc: 0.8488\n",
      "Epoch 21/50\n",
      "54000/54000 [==============================] - 4s 80us/step - loss: 0.4880 - acc: 0.8244 - val_loss: 0.4148 - val_acc: 0.8453\n",
      "Epoch 22/50\n",
      "54000/54000 [==============================] - 4s 82us/step - loss: 0.4881 - acc: 0.8246 - val_loss: 0.4097 - val_acc: 0.8480\n",
      "Epoch 23/50\n",
      "54000/54000 [==============================] - 4s 82us/step - loss: 0.4893 - acc: 0.8225 - val_loss: 0.4080 - val_acc: 0.8528\n",
      "Epoch 24/50\n",
      "54000/54000 [==============================] - 4s 80us/step - loss: 0.4833 - acc: 0.8273 - val_loss: 0.4148 - val_acc: 0.8535\n",
      "Epoch 25/50\n",
      "54000/54000 [==============================] - 4s 82us/step - loss: 0.4830 - acc: 0.8251 - val_loss: 0.4474 - val_acc: 0.8365\n",
      "Epoch 26/50\n",
      "54000/54000 [==============================] - 4s 81us/step - loss: 0.4826 - acc: 0.8248 - val_loss: 0.4172 - val_acc: 0.8498\n",
      "Epoch 27/50\n",
      "54000/54000 [==============================] - 4s 81us/step - loss: 0.4840 - acc: 0.8242 - val_loss: 0.4111 - val_acc: 0.8513\n",
      "Epoch 28/50\n",
      "54000/54000 [==============================] - 4s 82us/step - loss: 0.4770 - acc: 0.8272 - val_loss: 0.4280 - val_acc: 0.8462\n",
      "Epoch 29/50\n",
      "54000/54000 [==============================] - 5s 84us/step - loss: 0.4793 - acc: 0.8261 - val_loss: 0.4061 - val_acc: 0.8548\n",
      "Epoch 30/50\n",
      "54000/54000 [==============================] - 4s 81us/step - loss: 0.4761 - acc: 0.8273 - val_loss: 0.4085 - val_acc: 0.8537\n",
      "Epoch 31/50\n",
      "54000/54000 [==============================] - 4s 80us/step - loss: 0.4776 - acc: 0.8281 - val_loss: 0.4244 - val_acc: 0.8472\n",
      "Epoch 32/50\n",
      "54000/54000 [==============================] - 4s 80us/step - loss: 0.4741 - acc: 0.8284 - val_loss: 0.4388 - val_acc: 0.8390\n",
      "Epoch 33/50\n",
      "54000/54000 [==============================] - 4s 80us/step - loss: 0.4763 - acc: 0.8293 - val_loss: 0.4064 - val_acc: 0.8548\n",
      "Epoch 34/50\n",
      "54000/54000 [==============================] - 4s 80us/step - loss: 0.4727 - acc: 0.8285 - val_loss: 0.4130 - val_acc: 0.8470\n",
      "Epoch 35/50\n",
      "54000/54000 [==============================] - 4s 82us/step - loss: 0.4749 - acc: 0.8280 - val_loss: 0.4391 - val_acc: 0.8382\n",
      "Epoch 36/50\n",
      "54000/54000 [==============================] - 4s 82us/step - loss: 0.4702 - acc: 0.8283 - val_loss: 0.4128 - val_acc: 0.8538\n",
      "Epoch 37/50\n",
      "54000/54000 [==============================] - 4s 83us/step - loss: 0.4708 - acc: 0.8295 - val_loss: 0.4006 - val_acc: 0.8575\n",
      "Epoch 38/50\n",
      "54000/54000 [==============================] - 4s 82us/step - loss: 0.4669 - acc: 0.8314 - val_loss: 0.4073 - val_acc: 0.8503\n",
      "Epoch 39/50\n",
      "54000/54000 [==============================] - 4s 82us/step - loss: 0.4666 - acc: 0.8309 - val_loss: 0.4153 - val_acc: 0.8462\n",
      "Epoch 40/50\n",
      "54000/54000 [==============================] - 4s 82us/step - loss: 0.4672 - acc: 0.8314 - val_loss: 0.4095 - val_acc: 0.8547\n",
      "Epoch 41/50\n",
      "54000/54000 [==============================] - 4s 82us/step - loss: 0.4692 - acc: 0.8296 - val_loss: 0.4111 - val_acc: 0.8518\n",
      "Epoch 42/50\n",
      "54000/54000 [==============================] - 4s 82us/step - loss: 0.4648 - acc: 0.8316 - val_loss: 0.4224 - val_acc: 0.8457\n",
      "Epoch 43/50\n",
      "54000/54000 [==============================] - 4s 82us/step - loss: 0.4647 - acc: 0.8319 - val_loss: 0.4080 - val_acc: 0.8540\n",
      "Epoch 44/50\n",
      "54000/54000 [==============================] - 4s 82us/step - loss: 0.4653 - acc: 0.8321 - val_loss: 0.4165 - val_acc: 0.8473\n",
      "Epoch 45/50\n",
      "54000/54000 [==============================] - 4s 82us/step - loss: 0.4594 - acc: 0.8307 - val_loss: 0.4176 - val_acc: 0.8485\n",
      "Epoch 46/50\n",
      "54000/54000 [==============================] - 4s 82us/step - loss: 0.4658 - acc: 0.8317 - val_loss: 0.4239 - val_acc: 0.8493\n",
      "Epoch 47/50\n",
      "54000/54000 [==============================] - 4s 82us/step - loss: 0.4627 - acc: 0.8318 - val_loss: 0.4130 - val_acc: 0.8497\n",
      "Epoch 48/50\n",
      "54000/54000 [==============================] - 4s 82us/step - loss: 0.4641 - acc: 0.8324 - val_loss: 0.4344 - val_acc: 0.8403\n",
      "Epoch 49/50\n",
      "54000/54000 [==============================] - 4s 82us/step - loss: 0.4642 - acc: 0.8313 - val_loss: 0.4001 - val_acc: 0.8542\n",
      "Epoch 50/50\n",
      "54000/54000 [==============================] - 4s 83us/step - loss: 0.4613 - acc: 0.8320 - val_loss: 0.4276 - val_acc: 0.8410\n"
     ]
    }
   ],
   "source": [
    "blackbox = model.fit(x_train,y_train, epochs = 50, validation_split=.1)"
   ]
  },
  {
   "cell_type": "code",
   "execution_count": null,
   "metadata": {},
   "outputs": [],
   "source": []
  },
  {
   "cell_type": "code",
   "execution_count": 97,
   "metadata": {},
   "outputs": [
    {
     "ename": "NameError",
     "evalue": "name 'pydot' is not defined",
     "output_type": "error",
     "traceback": [
      "\u001b[1;31m---------------------------------------------------------------------------\u001b[0m",
      "\u001b[1;31mNameError\u001b[0m                                 Traceback (most recent call last)",
      "\u001b[1;32m<ipython-input-97-6a4322bc65b1>\u001b[0m in \u001b[0;36m<module>\u001b[1;34m()\u001b[0m\n\u001b[0;32m      3\u001b[0m \u001b[1;32mfrom\u001b[0m \u001b[0mkeras\u001b[0m\u001b[1;33m.\u001b[0m\u001b[0mutils\u001b[0m\u001b[1;33m.\u001b[0m\u001b[0mvis_utils\u001b[0m \u001b[1;32mimport\u001b[0m \u001b[0mmodel_to_dot\u001b[0m\u001b[1;33m\u001b[0m\u001b[0m\n\u001b[0;32m      4\u001b[0m \u001b[1;33m\u001b[0m\u001b[0m\n\u001b[1;32m----> 5\u001b[1;33m \u001b[0mkeras\u001b[0m\u001b[1;33m.\u001b[0m\u001b[0mutils\u001b[0m\u001b[1;33m.\u001b[0m\u001b[0mvis_utils\u001b[0m\u001b[1;33m.\u001b[0m\u001b[0mpydot\u001b[0m \u001b[1;33m=\u001b[0m \u001b[0mpydot\u001b[0m\u001b[1;33m\u001b[0m\u001b[0m\n\u001b[0m\u001b[0;32m      6\u001b[0m \u001b[1;33m\u001b[0m\u001b[0m\n\u001b[0;32m      7\u001b[0m \u001b[0mSVG\u001b[0m\u001b[1;33m(\u001b[0m\u001b[0mmodel_to_dot\u001b[0m\u001b[1;33m(\u001b[0m\u001b[0mmodel\u001b[0m\u001b[1;33m)\u001b[0m\u001b[1;33m.\u001b[0m\u001b[0mcreate\u001b[0m\u001b[1;33m(\u001b[0m\u001b[0mprog\u001b[0m\u001b[1;33m=\u001b[0m\u001b[1;34m'dot'\u001b[0m\u001b[1;33m,\u001b[0m \u001b[0mformat\u001b[0m\u001b[1;33m=\u001b[0m\u001b[1;34m'svg'\u001b[0m\u001b[1;33m)\u001b[0m\u001b[1;33m)\u001b[0m\u001b[1;33m\u001b[0m\u001b[0m\n",
      "\u001b[1;31mNameError\u001b[0m: name 'pydot' is not defined"
     ]
    }
   ],
   "source": [
    "import pydot as pyd\n",
    "from IPython.display import SVG\n",
    "from keras.utils.vis_utils import model_to_dot\n",
    "\n",
    "keras.utils.vis_utils.pydot = pydot\n",
    "\n",
    "SVG(model_to_dot(model).create(prog='dot', format='svg'))"
   ]
  },
  {
   "cell_type": "code",
   "execution_count": 87,
   "metadata": {},
   "outputs": [
    {
     "data": {
      "text/plain": [
       "['__class__',\n",
       " '__delattr__',\n",
       " '__dict__',\n",
       " '__dir__',\n",
       " '__doc__',\n",
       " '__eq__',\n",
       " '__format__',\n",
       " '__ge__',\n",
       " '__getattribute__',\n",
       " '__gt__',\n",
       " '__hash__',\n",
       " '__init__',\n",
       " '__init_subclass__',\n",
       " '__le__',\n",
       " '__lt__',\n",
       " '__module__',\n",
       " '__ne__',\n",
       " '__new__',\n",
       " '__reduce__',\n",
       " '__reduce_ex__',\n",
       " '__repr__',\n",
       " '__setattr__',\n",
       " '__sizeof__',\n",
       " '__str__',\n",
       " '__subclasshook__',\n",
       " '__weakref__',\n",
       " 'epoch',\n",
       " 'history',\n",
       " 'model',\n",
       " 'on_batch_begin',\n",
       " 'on_batch_end',\n",
       " 'on_epoch_begin',\n",
       " 'on_epoch_end',\n",
       " 'on_train_begin',\n",
       " 'on_train_end',\n",
       " 'params',\n",
       " 'set_model',\n",
       " 'set_params',\n",
       " 'validation_data']"
      ]
     },
     "execution_count": 87,
     "metadata": {},
     "output_type": "execute_result"
    }
   ],
   "source": [
    "dir(blackbox)"
   ]
  },
  {
   "cell_type": "code",
   "execution_count": 99,
   "metadata": {},
   "outputs": [
    {
     "data": {
      "image/png": "[encoded data removed]",
      "text/plain": [
       "<Figure size 432x288 with 1 Axes>"
      ]
     },
     "metadata": {},
     "output_type": "display_data"
    },
    {
     "data": {
      "image/png": "[encoded data removed]",
      "text/plain": [
       "<Figure size 432x288 with 1 Axes>"
      ]
     },
     "metadata": {},
     "output_type": "display_data"
    }
   ],
   "source": [
    "import matplotlib.pyplot as plt\n",
    "\n",
    "\n",
    "# Plot training & validation accuracy values\n",
    "plt.plot(blackbox.history['acc'])\n",
    "plt.plot(blackbox.history['val_acc'])\n",
    "plt.title('Model accuracy')\n",
    "plt.ylabel('Accuracy')\n",
    "plt.xlabel('Epoch')\n",
    "plt.legend(['Train', 'Test'], loc='upper left')\n",
    "plt.show()\n",
    "\n",
    "# Plot training & validation loss values\n",
    "plt.plot(blackbox.history['loss'])\n",
    "plt.plot(blackbox.history['val_loss'])\n",
    "plt.title('Model loss')\n",
    "plt.ylabel('Loss')\n",
    "plt.xlabel('Epoch')\n",
    "plt.legend(['Train', 'Test'], loc='upper left')\n",
    "plt.show()"
   ]
  },
  {
   "cell_type": "code",
   "execution_count": 103,
   "metadata": {},
   "outputs": [
    {
     "name": "stdout",
     "output_type": "stream",
     "text": [
      "_________________________________________________________________\n",
      "Layer (type)                 Output Shape              Param #   \n",
      "=================================================================\n",
      "dense_84 (Dense)             (None, 16)                12560     \n",
      "_________________________________________________________________\n",
      "dense_85 (Dense)             (None, 32)                544       \n",
      "_________________________________________________________________\n",
      "dense_86 (Dense)             (None, 10)                330       \n",
      "=================================================================\n",
      "Total params: 13,434\n",
      "Trainable params: 13,434\n",
      "Non-trainable params: 0\n",
      "_________________________________________________________________\n",
      "Train on 54000 samples, validate on 6000 samples\n",
      "Epoch 1/50\n",
      "54000/54000 [==============================] - 5s 96us/step - loss: 0.6594 - acc: 0.7686 - val_loss: 0.4746 - val_acc: 0.8308\n",
      "Epoch 2/50\n",
      "54000/54000 [==============================] - 5s 84us/step - loss: 0.4493 - acc: 0.8417 - val_loss: 0.4186 - val_acc: 0.8532\n",
      "Epoch 3/50\n",
      "54000/54000 [==============================] - 5s 84us/step - loss: 0.4106 - acc: 0.8524 - val_loss: 0.4147 - val_acc: 0.8460\n",
      "Epoch 4/50\n",
      "54000/54000 [==============================] - 5s 84us/step - loss: 0.3866 - acc: 0.8616 - val_loss: 0.3842 - val_acc: 0.8615\n",
      "Epoch 5/50\n",
      "54000/54000 [==============================] - 4s 83us/step - loss: 0.3706 - acc: 0.8659 - val_loss: 0.3824 - val_acc: 0.8602\n",
      "Epoch 6/50\n",
      "54000/54000 [==============================] - 5s 85us/step - loss: 0.3581 - acc: 0.8697 - val_loss: 0.3887 - val_acc: 0.8550\n",
      "Epoch 7/50\n",
      "54000/54000 [==============================] - 5s 84us/step - loss: 0.3470 - acc: 0.8727 - val_loss: 0.3687 - val_acc: 0.8643\n",
      "Epoch 8/50\n",
      "54000/54000 [==============================] - 5s 88us/step - loss: 0.3378 - acc: 0.8748 - val_loss: 0.3652 - val_acc: 0.8645\n",
      "Epoch 9/50\n",
      "54000/54000 [==============================] - 5s 86us/step - loss: 0.3308 - acc: 0.8776 - val_loss: 0.3546 - val_acc: 0.8700\n",
      "Epoch 10/50\n",
      "54000/54000 [==============================] - 4s 83us/step - loss: 0.3235 - acc: 0.8806 - val_loss: 0.3671 - val_acc: 0.8660\n",
      "Epoch 11/50\n",
      "54000/54000 [==============================] - 4s 83us/step - loss: 0.3188 - acc: 0.8819 - val_loss: 0.3754 - val_acc: 0.8633\n",
      "Epoch 12/50\n",
      "54000/54000 [==============================] - 5s 84us/step - loss: 0.3124 - acc: 0.8839 - val_loss: 0.3988 - val_acc: 0.8492\n",
      "Epoch 13/50\n",
      "54000/54000 [==============================] - 5s 89us/step - loss: 0.3088 - acc: 0.8851 - val_loss: 0.3731 - val_acc: 0.8707\n",
      "Epoch 14/50\n",
      "54000/54000 [==============================] - 5s 85us/step - loss: 0.3045 - acc: 0.8879 - val_loss: 0.3644 - val_acc: 0.8697\n",
      "Epoch 15/50\n",
      "54000/54000 [==============================] - 5s 85us/step - loss: 0.3012 - acc: 0.8889 - val_loss: 0.3741 - val_acc: 0.8628\n",
      "Epoch 16/50\n",
      "54000/54000 [==============================] - ETA: 0s - loss: 0.2988 - acc: 0.889 - 5s 86us/step - loss: 0.2987 - acc: 0.8890 - val_loss: 0.3618 - val_acc: 0.8717\n",
      "Epoch 17/50\n",
      "54000/54000 [==============================] - 5s 87us/step - loss: 0.2934 - acc: 0.8907 - val_loss: 0.3658 - val_acc: 0.8730\n",
      "Epoch 18/50\n",
      "54000/54000 [==============================] - 5s 87us/step - loss: 0.2909 - acc: 0.8917 - val_loss: 0.3580 - val_acc: 0.8705\n",
      "Epoch 19/50\n",
      "54000/54000 [==============================] - 5s 88us/step - loss: 0.2882 - acc: 0.8916 - val_loss: 0.3630 - val_acc: 0.8672\n",
      "Epoch 20/50\n",
      "54000/54000 [==============================] - 5s 90us/step - loss: 0.2843 - acc: 0.8941 - val_loss: 0.3862 - val_acc: 0.8625\n",
      "Epoch 21/50\n",
      "54000/54000 [==============================] - 5s 89us/step - loss: 0.2821 - acc: 0.8937 - val_loss: 0.3604 - val_acc: 0.8708\n",
      "Epoch 22/50\n",
      "54000/54000 [==============================] - 5s 89us/step - loss: 0.2797 - acc: 0.8958 - val_loss: 0.3598 - val_acc: 0.8700\n",
      "Epoch 23/50\n",
      "54000/54000 [==============================] - 5s 97us/step - loss: 0.2770 - acc: 0.8957 - val_loss: 0.3903 - val_acc: 0.8638\n",
      "Epoch 24/50\n",
      "54000/54000 [==============================] - 5s 100us/step - loss: 0.2743 - acc: 0.8987 - val_loss: 0.3737 - val_acc: 0.8760\n",
      "Epoch 25/50\n",
      "54000/54000 [==============================] - 5s 86us/step - loss: 0.2725 - acc: 0.8985 - val_loss: 0.3568 - val_acc: 0.8700\n",
      "Epoch 26/50\n",
      "54000/54000 [==============================] - 4s 83us/step - loss: 0.2708 - acc: 0.8990 - val_loss: 0.3719 - val_acc: 0.8690\n",
      "Epoch 27/50\n",
      "54000/54000 [==============================] - 4s 83us/step - loss: 0.2693 - acc: 0.8992 - val_loss: 0.3670 - val_acc: 0.8710\n",
      "Epoch 28/50\n",
      "54000/54000 [==============================] - 4s 83us/step - loss: 0.2656 - acc: 0.9011 - val_loss: 0.3813 - val_acc: 0.8650\n",
      "Epoch 29/50\n",
      "54000/54000 [==============================] - 5s 84us/step - loss: 0.2653 - acc: 0.9002 - val_loss: 0.3763 - val_acc: 0.8708\n",
      "Epoch 30/50\n",
      "54000/54000 [==============================] - 4s 83us/step - loss: 0.2634 - acc: 0.9009 - val_loss: 0.3718 - val_acc: 0.8677\n",
      "Epoch 31/50\n",
      "54000/54000 [==============================] - 4s 83us/step - loss: 0.2606 - acc: 0.9026 - val_loss: 0.3640 - val_acc: 0.8702\n",
      "Epoch 32/50\n",
      "54000/54000 [==============================] - 4s 83us/step - loss: 0.2597 - acc: 0.9028 - val_loss: 0.3763 - val_acc: 0.8703\n",
      "Epoch 33/50\n",
      "54000/54000 [==============================] - 5s 84us/step - loss: 0.2581 - acc: 0.9048 - val_loss: 0.3791 - val_acc: 0.8715\n",
      "Epoch 34/50\n",
      "54000/54000 [==============================] - 5s 85us/step - loss: 0.2571 - acc: 0.9036 - val_loss: 0.3809 - val_acc: 0.8705\n",
      "Epoch 35/50\n",
      "54000/54000 [==============================] - 5s 86us/step - loss: 0.2561 - acc: 0.9039 - val_loss: 0.3991 - val_acc: 0.8660\n",
      "Epoch 36/50\n",
      "54000/54000 [==============================] - 5s 91us/step - loss: 0.2550 - acc: 0.9046 - val_loss: 0.3846 - val_acc: 0.8703\n",
      "Epoch 37/50\n",
      "54000/54000 [==============================] - 5s 91us/step - loss: 0.2553 - acc: 0.9049 - val_loss: 0.3827 - val_acc: 0.8663\n",
      "Epoch 38/50\n",
      "54000/54000 [==============================] - 5s 86us/step - loss: 0.2521 - acc: 0.9047 - val_loss: 0.3806 - val_acc: 0.8702\n",
      "Epoch 39/50\n",
      "54000/54000 [==============================] - 5s 88us/step - loss: 0.2508 - acc: 0.9059 - val_loss: 0.3887 - val_acc: 0.8690\n",
      "Epoch 40/50\n",
      "54000/54000 [==============================] - 5s 94us/step - loss: 0.2497 - acc: 0.9064 - val_loss: 0.3997 - val_acc: 0.8623\n",
      "Epoch 41/50\n",
      "54000/54000 [==============================] - 5s 93us/step - loss: 0.2491 - acc: 0.9069 - val_loss: 0.3957 - val_acc: 0.8688\n",
      "Epoch 42/50\n",
      "54000/54000 [==============================] - 6s 110us/step - loss: 0.2468 - acc: 0.9079 - val_loss: 0.3872 - val_acc: 0.8715\n",
      "Epoch 43/50\n",
      "54000/54000 [==============================] - 5s 95us/step - loss: 0.2456 - acc: 0.9082 - val_loss: 0.3888 - val_acc: 0.8717\n",
      "Epoch 44/50\n",
      "54000/54000 [==============================] - 5s 85us/step - loss: 0.2442 - acc: 0.9092 - val_loss: 0.4087 - val_acc: 0.8723\n",
      "Epoch 45/50\n",
      "54000/54000 [==============================] - 5s 85us/step - loss: 0.2451 - acc: 0.9090 - val_loss: 0.4106 - val_acc: 0.8675\n",
      "Epoch 46/50\n",
      "54000/54000 [==============================] - 5s 84us/step - loss: 0.2417 - acc: 0.9091 - val_loss: 0.3916 - val_acc: 0.8770\n",
      "Epoch 47/50\n",
      "54000/54000 [==============================] - 5s 84us/step - loss: 0.2404 - acc: 0.9093 - val_loss: 0.3914 - val_acc: 0.8680\n",
      "Epoch 48/50\n",
      "54000/54000 [==============================] - 5s 84us/step - loss: 0.2415 - acc: 0.9096 - val_loss: 0.3928 - val_acc: 0.8735\n",
      "Epoch 49/50\n",
      "54000/54000 [==============================] - 5s 84us/step - loss: 0.2382 - acc: 0.9109 - val_loss: 0.4167 - val_acc: 0.8650\n",
      "Epoch 50/50\n",
      "54000/54000 [==============================] - 5s 96us/step - loss: 0.2377 - acc: 0.9112 - val_loss: 0.4106 - val_acc: 0.8667\n"
     ]
    },
    {
     "data": {
      "image/png": "[encoded data removed]",
      "text/plain": [
       "<Figure size 432x288 with 1 Axes>"
      ]
     },
     "metadata": {},
     "output_type": "display_data"
    },
    {
     "data": {
      "image/png": "[encoded data removed]",
      "text/plain": [
       "<Figure size 432x288 with 1 Axes>"
      ]
     },
     "metadata": {},
     "output_type": "display_data"
    }
   ],
   "source": [
    "model = Sequential()\n",
    "model.add(Dense(16,input_shape=(784,), kernel_initializer='normal', activation='relu'))\n",
    "\n",
    "model.add(Dense(32, kernel_initializer='normal', activation='relu'))\n",
    "\n",
    "model.add(Dense(10, activation='softmax'))\n",
    "model.compile(loss='categorical_crossentropy', optimizer='adam', metrics=['accuracy'])\n",
    "model.summary()\n",
    "\n",
    "blackbox_no_dropout = model.fit(x_train,y_train, epochs = 50, validation_split=.1)\n",
    "\n",
    "import matplotlib.pyplot as plt\n",
    "\n",
    "\n",
    "# Plot training & validation accuracy values\n",
    "plt.plot(blackbox.history['acc'])\n",
    "plt.plot(blackbox.history['val_acc'])\n",
    "plt.title('Model accuracy')\n",
    "plt.ylabel('Accuracy')\n",
    "plt.xlabel('Epoch')\n",
    "plt.legend(['Train', 'Test'], loc='upper left')\n",
    "plt.show()\n",
    "\n",
    "# Plot training & validation loss values\n",
    "plt.plot(blackbox.history['loss'])\n",
    "plt.plot(blackbox.history['val_loss'])\n",
    "plt.title('Model loss')\n",
    "plt.ylabel('Loss')\n",
    "plt.xlabel('Epoch')\n",
    "plt.legend(['Train', 'Test'], loc='upper left')\n",
    "plt.show()"
   ]
  },
  {
   "cell_type": "markdown",
   "metadata": {},
   "source": [
    "## Julia\n"
   ]
  },
  {
   "cell_type": "code",
   "execution_count": null,
   "metadata": {},
   "outputs": [],
   "source": []
  },
  {
   "cell_type": "code",
   "execution_count": null,
   "metadata": {},
   "outputs": [],
   "source": []
  },
  {
   "cell_type": "code",
   "execution_count": null,
   "metadata": {},
   "outputs": [],
   "source": []
  },
  {
   "cell_type": "code",
   "execution_count": null,
   "metadata": {},
   "outputs": [],
   "source": []
  },
  {
   "cell_type": "markdown",
   "metadata": {
    "colab_type": "text",
    "id": "zv_3xNMjzdLI"
   },
   "source": [
    "## Stretch Goals:\n",
    "\n",
    "- Use Hyperparameter Tuning to make the accuracy of your models as high as possible. (error as low as possible)\n",
    "- Use Cross Validation techniques to get more consistent results with your model.\n",
    "- Use GridSearchCV to try different combinations of hyperparameters. \n",
    "- Start looking into other types of Keras layers for CNNs and RNNs maybe try and build a CNN model for fashion-MNIST to see how the results compare."
   ]
  },
  {
   "cell_type": "code",
   "execution_count": null,
   "metadata": {},
   "outputs": [],
   "source": []
  }
 ],
 "metadata": {
  "colab": {
   "name": "LS_DS_433_Keras_Assignment.ipynb",
   "provenance": [],
   "version": "0.3.2"
  },
  "kernelspec": {
   "display_name": "Julia 1.0.0",
   "language": "julia",
   "name": "julia-1.0"
  },
  "language_info": {
   "file_extension": ".jl",
   "mimetype": "application/julia",
   "name": "julia",
   "version": "1.0.0"
  }
 },
 "nbformat": 4,
 "nbformat_minor": 1
}
