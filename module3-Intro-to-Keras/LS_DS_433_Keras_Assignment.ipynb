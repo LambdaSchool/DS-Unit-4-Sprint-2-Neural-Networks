{
  "nbformat": 4,
  "nbformat_minor": 0,
  "metadata": {
    "colab": {
      "name": "LS_DS_433_Keras_Assignment.ipynb",
      "version": "0.3.2",
      "provenance": [],
      "include_colab_link": true
    },
    "kernelspec": {
      "name": "python3",
      "display_name": "Python 3"
    },
    "accelerator": "TPU"
  },
  "cells": [
    {
      "cell_type": "markdown",
      "metadata": {
        "id": "view-in-github",
        "colab_type": "text"
      },
      "source": [
        "<a href=\"https://colab.research.google.com/github/DimaKav/DS-Unit-4-Sprint-3-Neural-Networks/blob/master/module3-Intro-to-Keras/LS_DS_433_Keras_Assignment.ipynb\" target=\"_parent\"><img src=\"https://colab.research.google.com/assets/colab-badge.svg\" alt=\"Open In Colab\"/></a>"
      ]
    },
    {
      "cell_type": "markdown",
      "metadata": {
        "id": "pBQsZEJmubLs",
        "colab_type": "text"
      },
      "source": [
        "## Use the Keras Library to build a Multi-Layer Perceptron Model on the Boston Housing dataset\n",
        "\n",
        "- The Boston Housing dataset comes with the Keras library so use Keras to import it into your notebook. \n",
        "- Normalize the data (all features should have roughly the same scale)\n",
        "- Import the type of model and layers that you will need from Keras.\n",
        "- Instantiate a model object and use `model.add()` to add layers to your model\n",
        "- Since this is a regression model you will have a single output node in the final layer.\n",
        "- Use activation functions that are appropriate for this task\n",
        "- Compile your model\n",
        "- Fit your model and report its accuracy in terms of Mean Squared Error\n",
        "- Use the history object that is returned from model.fit to make graphs of the model's loss or train/validation accuracies by epoch. \n",
        "- Run this same data through a linear regression model. Which achieves higher accuracy?\n",
        "- Do a little bit of feature engineering and see how that affects your neural network model. (you will need to change your model to accept more inputs)\n",
        "- After feature engineering, which model sees a greater accuracy boost due to the new features?"
      ]
    },
    {
      "cell_type": "markdown",
      "metadata": {
        "id": "Ri35azDdmR_j",
        "colab_type": "text"
      },
      "source": [
        "# Scope out the data"
      ]
    },
    {
      "cell_type": "code",
      "metadata": {
        "id": "8NLTAR87uYJ-",
        "colab_type": "code",
        "colab": {}
      },
      "source": [
        "import keras\n",
        "from keras.datasets import boston_housing"
      ],
      "execution_count": 0,
      "outputs": []
    },
    {
      "cell_type": "code",
      "metadata": {
        "id": "gL2pf6STkxMS",
        "colab_type": "code",
        "colab": {}
      },
      "source": [
        "(X_train, y_train),(X_test,y_test)=boston_housing.load_data()"
      ],
      "execution_count": 0,
      "outputs": []
    },
    {
      "cell_type": "code",
      "metadata": {
        "id": "BZh0F6KfkzMK",
        "colab_type": "code",
        "colab": {
          "base_uri": "https://localhost:8080/",
          "height": 68
        },
        "outputId": "bca5cbef-2654-4af2-d66d-079c25ef41c0"
      },
      "source": [
        "X_train[1], y_train[1]"
      ],
      "execution_count": 80,
      "outputs": [
        {
          "output_type": "execute_result",
          "data": {
            "text/plain": [
              "(array([2.1770e-02, 8.2500e+01, 2.0300e+00, 0.0000e+00, 4.1500e-01,\n",
              "        7.6100e+00, 1.5700e+01, 6.2700e+00, 2.0000e+00, 3.4800e+02,\n",
              "        1.4700e+01, 3.9538e+02, 3.1100e+00]), 42.3)"
            ]
          },
          "metadata": {
            "tags": []
          },
          "execution_count": 80
        }
      ]
    },
    {
      "cell_type": "code",
      "metadata": {
        "id": "EK7nw9Aofcrq",
        "colab_type": "code",
        "colab": {
          "base_uri": "https://localhost:8080/",
          "height": 34
        },
        "outputId": "0071685f-682a-4ae4-c972-81f636acea78"
      },
      "source": [
        "X_train.shape, y_train.shape, X_test.shape, y_test.shape"
      ],
      "execution_count": 81,
      "outputs": [
        {
          "output_type": "execute_result",
          "data": {
            "text/plain": [
              "((404, 13), (404,), (102, 13), (102,))"
            ]
          },
          "metadata": {
            "tags": []
          },
          "execution_count": 81
        }
      ]
    },
    {
      "cell_type": "code",
      "metadata": {
        "id": "NmkwDpr7iUzV",
        "colab_type": "code",
        "colab": {
          "base_uri": "https://localhost:8080/",
          "height": 34
        },
        "outputId": "0ae741eb-6c74-420f-da61-e523cabc8299"
      },
      "source": [
        "X_train.dtype"
      ],
      "execution_count": 82,
      "outputs": [
        {
          "output_type": "execute_result",
          "data": {
            "text/plain": [
              "dtype('float64')"
            ]
          },
          "metadata": {
            "tags": []
          },
          "execution_count": 82
        }
      ]
    },
    {
      "cell_type": "code",
      "metadata": {
        "id": "QSxqancnk-kt",
        "colab_type": "code",
        "colab": {}
      },
      "source": [
        "column_names=['CRIM','ZN','INDUS','CHAS','NOX','RM','AGE','DIS','RAD','TAX',\n",
        "              'PTRATIO','B','LSTAT']\n",
        "              \n",
        "key= ['Per capita crime rate.',\n",
        "    'The proportion of residential land zoned for lots over 25,000\\\n",
        "     square feet.',\n",
        "    'The proportion of non-retail business acres per town.',\n",
        "    'Charles River dummy variable (=1 if tract bounds river; 0\\\n",
        "     otherwise).',\n",
        "    'Nitric oxides concentration (parts per 10 million).',\n",
        "    'The average number of rooms per dwelling.',\n",
        "    'The porportion of owner-occupied units built before 1940.',\n",
        "    'Weighted distances to five Boston employment centers.',\n",
        "    'Index of accessibility to radial highways.',\n",
        "    'Full-value property tax rate per $10,000.',\n",
        "    'Pupil-Teacher ratio by town.',\n",
        "    '1000*(Bk-0.63)**2 where Bk is the proportion of Black people by\\\n",
        "     town.',\n",
        "    'Percentage lower status of the population.']"
      ],
      "execution_count": 0,
      "outputs": []
    },
    {
      "cell_type": "code",
      "metadata": {
        "id": "qm1XQqhRk-iJ",
        "colab_type": "code",
        "colab": {
          "base_uri": "https://localhost:8080/",
          "height": 204
        },
        "outputId": "2b064a97-b17b-427d-d21a-44be7ef139d0"
      },
      "source": [
        "import pandas as pd\n",
        "df= pd.DataFrame(X_train, columns=column_names)\n",
        "df.head()"
      ],
      "execution_count": 84,
      "outputs": [
        {
          "output_type": "execute_result",
          "data": {
            "text/html": [
              "<div>\n",
              "<style scoped>\n",
              "    .dataframe tbody tr th:only-of-type {\n",
              "        vertical-align: middle;\n",
              "    }\n",
              "\n",
              "    .dataframe tbody tr th {\n",
              "        vertical-align: top;\n",
              "    }\n",
              "\n",
              "    .dataframe thead th {\n",
              "        text-align: right;\n",
              "    }\n",
              "</style>\n",
              "<table border=\"1\" class=\"dataframe\">\n",
              "  <thead>\n",
              "    <tr style=\"text-align: right;\">\n",
              "      <th></th>\n",
              "      <th>CRIM</th>\n",
              "      <th>ZN</th>\n",
              "      <th>INDUS</th>\n",
              "      <th>CHAS</th>\n",
              "      <th>NOX</th>\n",
              "      <th>RM</th>\n",
              "      <th>AGE</th>\n",
              "      <th>DIS</th>\n",
              "      <th>RAD</th>\n",
              "      <th>TAX</th>\n",
              "      <th>PTRATIO</th>\n",
              "      <th>B</th>\n",
              "      <th>LSTAT</th>\n",
              "    </tr>\n",
              "  </thead>\n",
              "  <tbody>\n",
              "    <tr>\n",
              "      <th>0</th>\n",
              "      <td>1.23247</td>\n",
              "      <td>0.0</td>\n",
              "      <td>8.14</td>\n",
              "      <td>0.0</td>\n",
              "      <td>0.538</td>\n",
              "      <td>6.142</td>\n",
              "      <td>91.7</td>\n",
              "      <td>3.9769</td>\n",
              "      <td>4.0</td>\n",
              "      <td>307.0</td>\n",
              "      <td>21.0</td>\n",
              "      <td>396.90</td>\n",
              "      <td>18.72</td>\n",
              "    </tr>\n",
              "    <tr>\n",
              "      <th>1</th>\n",
              "      <td>0.02177</td>\n",
              "      <td>82.5</td>\n",
              "      <td>2.03</td>\n",
              "      <td>0.0</td>\n",
              "      <td>0.415</td>\n",
              "      <td>7.610</td>\n",
              "      <td>15.7</td>\n",
              "      <td>6.2700</td>\n",
              "      <td>2.0</td>\n",
              "      <td>348.0</td>\n",
              "      <td>14.7</td>\n",
              "      <td>395.38</td>\n",
              "      <td>3.11</td>\n",
              "    </tr>\n",
              "    <tr>\n",
              "      <th>2</th>\n",
              "      <td>4.89822</td>\n",
              "      <td>0.0</td>\n",
              "      <td>18.10</td>\n",
              "      <td>0.0</td>\n",
              "      <td>0.631</td>\n",
              "      <td>4.970</td>\n",
              "      <td>100.0</td>\n",
              "      <td>1.3325</td>\n",
              "      <td>24.0</td>\n",
              "      <td>666.0</td>\n",
              "      <td>20.2</td>\n",
              "      <td>375.52</td>\n",
              "      <td>3.26</td>\n",
              "    </tr>\n",
              "    <tr>\n",
              "      <th>3</th>\n",
              "      <td>0.03961</td>\n",
              "      <td>0.0</td>\n",
              "      <td>5.19</td>\n",
              "      <td>0.0</td>\n",
              "      <td>0.515</td>\n",
              "      <td>6.037</td>\n",
              "      <td>34.5</td>\n",
              "      <td>5.9853</td>\n",
              "      <td>5.0</td>\n",
              "      <td>224.0</td>\n",
              "      <td>20.2</td>\n",
              "      <td>396.90</td>\n",
              "      <td>8.01</td>\n",
              "    </tr>\n",
              "    <tr>\n",
              "      <th>4</th>\n",
              "      <td>3.69311</td>\n",
              "      <td>0.0</td>\n",
              "      <td>18.10</td>\n",
              "      <td>0.0</td>\n",
              "      <td>0.713</td>\n",
              "      <td>6.376</td>\n",
              "      <td>88.4</td>\n",
              "      <td>2.5671</td>\n",
              "      <td>24.0</td>\n",
              "      <td>666.0</td>\n",
              "      <td>20.2</td>\n",
              "      <td>391.43</td>\n",
              "      <td>14.65</td>\n",
              "    </tr>\n",
              "  </tbody>\n",
              "</table>\n",
              "</div>"
            ],
            "text/plain": [
              "      CRIM    ZN  INDUS  CHAS    NOX     RM    AGE     DIS   RAD    TAX  \\\n",
              "0  1.23247   0.0   8.14   0.0  0.538  6.142   91.7  3.9769   4.0  307.0   \n",
              "1  0.02177  82.5   2.03   0.0  0.415  7.610   15.7  6.2700   2.0  348.0   \n",
              "2  4.89822   0.0  18.10   0.0  0.631  4.970  100.0  1.3325  24.0  666.0   \n",
              "3  0.03961   0.0   5.19   0.0  0.515  6.037   34.5  5.9853   5.0  224.0   \n",
              "4  3.69311   0.0  18.10   0.0  0.713  6.376   88.4  2.5671  24.0  666.0   \n",
              "\n",
              "   PTRATIO       B  LSTAT  \n",
              "0     21.0  396.90  18.72  \n",
              "1     14.7  395.38   3.11  \n",
              "2     20.2  375.52   3.26  \n",
              "3     20.2  396.90   8.01  \n",
              "4     20.2  391.43  14.65  "
            ]
          },
          "metadata": {
            "tags": []
          },
          "execution_count": 84
        }
      ]
    },
    {
      "cell_type": "code",
      "metadata": {
        "id": "s7-sckPbD9NV",
        "colab_type": "code",
        "colab": {}
      },
      "source": [
        ""
      ],
      "execution_count": 0,
      "outputs": []
    },
    {
      "cell_type": "markdown",
      "metadata": {
        "id": "jUCDxHBUk-dJ",
        "colab_type": "text"
      },
      "source": [
        "# Build the model"
      ]
    },
    {
      "cell_type": "code",
      "metadata": {
        "id": "88GZwe9p6uQn",
        "colab_type": "code",
        "colab": {
          "base_uri": "https://localhost:8080/",
          "height": 68
        },
        "outputId": "fbeccbc8-42ba-4720-b150-88cd62a6de0e"
      },
      "source": [
        "mean = X_train.mean(axis=0)\n",
        "std = X_train.std(axis=0)\n",
        "X_train = (X_train - mean)/std\n",
        "X_test = (X_test - mean)/std\n",
        "print(x_train[0])"
      ],
      "execution_count": 85,
      "outputs": [
        {
          "output_type": "stream",
          "text": [
            "[-0.27224633 -0.48361547 -0.43576161 -0.25683275 -0.1652266  -0.1764426\n",
            "  0.81306188  0.1166983  -0.62624905 -0.59517003  1.14850044  0.44807713\n",
            "  0.8252202 ]\n"
          ],
          "name": "stdout"
        }
      ]
    },
    {
      "cell_type": "markdown",
      "metadata": {
        "id": "XCVfmolfEBXe",
        "colab_type": "text"
      },
      "source": [
        "#### Linear regression first..."
      ]
    },
    {
      "cell_type": "code",
      "metadata": {
        "id": "0EuU_ZJsEEhc",
        "colab_type": "code",
        "colab": {
          "base_uri": "https://localhost:8080/",
          "height": 34
        },
        "outputId": "b444fd9c-d7d1-4c7d-dff4-7628975b830b"
      },
      "source": [
        "from sklearn.linear_model import LinearRegression\n",
        "from sklearn.metrics import mean_squared_error\n",
        "\n",
        "lr = LinearRegression()\n",
        "lr.fit(X_train, y_train)\n",
        "y_pred = lr.predict(X_test)\n",
        "mean_squared_error(y_test, y_pred)"
      ],
      "execution_count": 86,
      "outputs": [
        {
          "output_type": "execute_result",
          "data": {
            "text/plain": [
              "23.195599256423"
            ]
          },
          "metadata": {
            "tags": []
          },
          "execution_count": 86
        }
      ]
    },
    {
      "cell_type": "markdown",
      "metadata": {
        "id": "iY2MmDJnE9v3",
        "colab_type": "text"
      },
      "source": [
        "Should not be hard to beast this score..."
      ]
    },
    {
      "cell_type": "code",
      "metadata": {
        "id": "V36h0_9L6uNp",
        "colab_type": "code",
        "colab": {}
      },
      "source": [
        "from keras.layers import Dense, Dropout\n",
        "from keras.models import Sequential\n",
        "model= Sequential()\n",
        "model.add(Dense(26, activation='relu',input_shape=(13,)))\n",
        "model.add(Dense(26, activation='relu'))\n",
        "model.add(Dense(12, activation='relu'))\n",
        "model.add(Dense(1))"
      ],
      "execution_count": 0,
      "outputs": []
    },
    {
      "cell_type": "code",
      "metadata": {
        "id": "MLvvSZXe6uDW",
        "colab_type": "code",
        "colab": {
          "base_uri": "https://localhost:8080/",
          "height": 272
        },
        "outputId": "f5285817-df57-4604-c354-ace595164541"
      },
      "source": [
        "from keras import optimizers\n",
        "model.compile(optimizer=optimizers.RMSprop(lr=0.001),\n",
        "              loss='mse', metrics=['mae'])\n",
        "model.summary()"
      ],
      "execution_count": 88,
      "outputs": [
        {
          "output_type": "stream",
          "text": [
            "_________________________________________________________________\n",
            "Layer (type)                 Output Shape              Param #   \n",
            "=================================================================\n",
            "dense_9 (Dense)              (None, 26)                364       \n",
            "_________________________________________________________________\n",
            "dense_10 (Dense)             (None, 26)                702       \n",
            "_________________________________________________________________\n",
            "dense_11 (Dense)             (None, 12)                324       \n",
            "_________________________________________________________________\n",
            "dense_12 (Dense)             (None, 1)                 13        \n",
            "=================================================================\n",
            "Total params: 1,403\n",
            "Trainable params: 1,403\n",
            "Non-trainable params: 0\n",
            "_________________________________________________________________\n"
          ],
          "name": "stdout"
        }
      ]
    },
    {
      "cell_type": "code",
      "metadata": {
        "id": "cgupgzN67u_S",
        "colab_type": "code",
        "colab": {
          "base_uri": "https://localhost:8080/",
          "height": 3471
        },
        "outputId": "e2b088e9-ed57-4fc7-9117-95c742ec2cb0"
      },
      "source": [
        "history = model.fit(X_train, y_train, epochs=100, validation_split=.1)\n",
        "scores = model.evaluate(X_test, y_test)"
      ],
      "execution_count": 89,
      "outputs": [
        {
          "output_type": "stream",
          "text": [
            "Train on 363 samples, validate on 41 samples\n",
            "Epoch 1/100\n",
            "363/363 [==============================] - 0s 1ms/step - loss: 559.3300 - mean_absolute_error: 21.7249 - val_loss: 454.1082 - val_mean_absolute_error: 20.2988\n",
            "Epoch 2/100\n",
            "363/363 [==============================] - 0s 57us/step - loss: 519.3410 - mean_absolute_error: 20.8331 - val_loss: 413.6596 - val_mean_absolute_error: 19.2965\n",
            "Epoch 3/100\n",
            "363/363 [==============================] - 0s 52us/step - loss: 466.1051 - mean_absolute_error: 19.6154 - val_loss: 356.1211 - val_mean_absolute_error: 17.7789\n",
            "Epoch 4/100\n",
            "363/363 [==============================] - 0s 52us/step - loss: 400.0661 - mean_absolute_error: 17.9490 - val_loss: 291.6543 - val_mean_absolute_error: 15.9165\n",
            "Epoch 5/100\n",
            "363/363 [==============================] - 0s 50us/step - loss: 321.6712 - mean_absolute_error: 15.8134 - val_loss: 216.1832 - val_mean_absolute_error: 13.5057\n",
            "Epoch 6/100\n",
            "363/363 [==============================] - 0s 51us/step - loss: 236.7825 - mean_absolute_error: 13.1963 - val_loss: 141.1629 - val_mean_absolute_error: 10.4782\n",
            "Epoch 7/100\n",
            "363/363 [==============================] - 0s 52us/step - loss: 159.0119 - mean_absolute_error: 10.2426 - val_loss: 84.5858 - val_mean_absolute_error: 7.6460\n",
            "Epoch 8/100\n",
            "363/363 [==============================] - 0s 53us/step - loss: 105.4772 - mean_absolute_error: 7.8777 - val_loss: 54.9437 - val_mean_absolute_error: 6.3282\n",
            "Epoch 9/100\n",
            "363/363 [==============================] - 0s 50us/step - loss: 75.8853 - mean_absolute_error: 6.5791 - val_loss: 42.7651 - val_mean_absolute_error: 5.4379\n",
            "Epoch 10/100\n",
            "363/363 [==============================] - 0s 50us/step - loss: 60.0169 - mean_absolute_error: 5.8535 - val_loss: 35.5638 - val_mean_absolute_error: 4.9462\n",
            "Epoch 11/100\n",
            "363/363 [==============================] - 0s 52us/step - loss: 48.4345 - mean_absolute_error: 5.1956 - val_loss: 29.1292 - val_mean_absolute_error: 4.4002\n",
            "Epoch 12/100\n",
            "363/363 [==============================] - 0s 54us/step - loss: 39.4884 - mean_absolute_error: 4.6428 - val_loss: 28.5413 - val_mean_absolute_error: 4.3630\n",
            "Epoch 13/100\n",
            "363/363 [==============================] - 0s 51us/step - loss: 34.2196 - mean_absolute_error: 4.3182 - val_loss: 24.0032 - val_mean_absolute_error: 3.9532\n",
            "Epoch 14/100\n",
            "363/363 [==============================] - 0s 54us/step - loss: 30.0213 - mean_absolute_error: 4.0005 - val_loss: 22.9491 - val_mean_absolute_error: 3.8409\n",
            "Epoch 15/100\n",
            "363/363 [==============================] - 0s 50us/step - loss: 26.8744 - mean_absolute_error: 3.7571 - val_loss: 21.3446 - val_mean_absolute_error: 3.6092\n",
            "Epoch 16/100\n",
            "363/363 [==============================] - 0s 49us/step - loss: 24.6404 - mean_absolute_error: 3.5705 - val_loss: 20.7033 - val_mean_absolute_error: 3.4974\n",
            "Epoch 17/100\n",
            "363/363 [==============================] - 0s 53us/step - loss: 22.9767 - mean_absolute_error: 3.3885 - val_loss: 20.2614 - val_mean_absolute_error: 3.3309\n",
            "Epoch 18/100\n",
            "363/363 [==============================] - 0s 47us/step - loss: 21.3664 - mean_absolute_error: 3.3157 - val_loss: 20.6718 - val_mean_absolute_error: 3.3761\n",
            "Epoch 19/100\n",
            "363/363 [==============================] - 0s 52us/step - loss: 20.1784 - mean_absolute_error: 3.1956 - val_loss: 21.9927 - val_mean_absolute_error: 3.5053\n",
            "Epoch 20/100\n",
            "363/363 [==============================] - 0s 56us/step - loss: 19.0970 - mean_absolute_error: 3.1518 - val_loss: 19.9210 - val_mean_absolute_error: 3.2853\n",
            "Epoch 21/100\n",
            "363/363 [==============================] - 0s 49us/step - loss: 18.5160 - mean_absolute_error: 3.0935 - val_loss: 18.2241 - val_mean_absolute_error: 3.0658\n",
            "Epoch 22/100\n",
            "363/363 [==============================] - 0s 60us/step - loss: 17.6715 - mean_absolute_error: 2.9669 - val_loss: 18.8198 - val_mean_absolute_error: 3.1453\n",
            "Epoch 23/100\n",
            "363/363 [==============================] - 0s 49us/step - loss: 17.0187 - mean_absolute_error: 2.9077 - val_loss: 19.9994 - val_mean_absolute_error: 3.2248\n",
            "Epoch 24/100\n",
            "363/363 [==============================] - 0s 51us/step - loss: 16.3496 - mean_absolute_error: 2.8642 - val_loss: 18.6297 - val_mean_absolute_error: 3.1301\n",
            "Epoch 25/100\n",
            "363/363 [==============================] - 0s 52us/step - loss: 15.6793 - mean_absolute_error: 2.8089 - val_loss: 16.8216 - val_mean_absolute_error: 2.8702\n",
            "Epoch 26/100\n",
            "363/363 [==============================] - 0s 47us/step - loss: 15.2415 - mean_absolute_error: 2.7331 - val_loss: 17.0363 - val_mean_absolute_error: 2.9742\n",
            "Epoch 27/100\n",
            "363/363 [==============================] - 0s 49us/step - loss: 14.4486 - mean_absolute_error: 2.6205 - val_loss: 17.8882 - val_mean_absolute_error: 3.1778\n",
            "Epoch 28/100\n",
            "363/363 [==============================] - 0s 48us/step - loss: 14.3853 - mean_absolute_error: 2.6710 - val_loss: 15.9371 - val_mean_absolute_error: 2.9095\n",
            "Epoch 29/100\n",
            "363/363 [==============================] - 0s 53us/step - loss: 13.9485 - mean_absolute_error: 2.5907 - val_loss: 16.5060 - val_mean_absolute_error: 2.9749\n",
            "Epoch 30/100\n",
            "363/363 [==============================] - 0s 49us/step - loss: 13.4550 - mean_absolute_error: 2.5670 - val_loss: 17.4108 - val_mean_absolute_error: 3.1507\n",
            "Epoch 31/100\n",
            "363/363 [==============================] - 0s 52us/step - loss: 13.1709 - mean_absolute_error: 2.5472 - val_loss: 15.0406 - val_mean_absolute_error: 2.7805\n",
            "Epoch 32/100\n",
            "363/363 [==============================] - 0s 52us/step - loss: 12.8655 - mean_absolute_error: 2.5281 - val_loss: 14.1125 - val_mean_absolute_error: 2.6725\n",
            "Epoch 33/100\n",
            "363/363 [==============================] - 0s 63us/step - loss: 12.3957 - mean_absolute_error: 2.4976 - val_loss: 13.7744 - val_mean_absolute_error: 2.7055\n",
            "Epoch 34/100\n",
            "363/363 [==============================] - 0s 48us/step - loss: 12.4211 - mean_absolute_error: 2.4475 - val_loss: 12.7977 - val_mean_absolute_error: 2.5712\n",
            "Epoch 35/100\n",
            "363/363 [==============================] - 0s 66us/step - loss: 12.2156 - mean_absolute_error: 2.4461 - val_loss: 13.0654 - val_mean_absolute_error: 2.6207\n",
            "Epoch 36/100\n",
            "363/363 [==============================] - 0s 54us/step - loss: 11.8008 - mean_absolute_error: 2.4207 - val_loss: 14.3213 - val_mean_absolute_error: 2.9668\n",
            "Epoch 37/100\n",
            "363/363 [==============================] - 0s 50us/step - loss: 11.5121 - mean_absolute_error: 2.4019 - val_loss: 12.5618 - val_mean_absolute_error: 2.7086\n",
            "Epoch 38/100\n",
            "363/363 [==============================] - 0s 50us/step - loss: 11.3870 - mean_absolute_error: 2.3493 - val_loss: 11.8195 - val_mean_absolute_error: 2.4832\n",
            "Epoch 39/100\n",
            "363/363 [==============================] - 0s 53us/step - loss: 11.3414 - mean_absolute_error: 2.3436 - val_loss: 12.7374 - val_mean_absolute_error: 2.7341\n",
            "Epoch 40/100\n",
            "363/363 [==============================] - 0s 52us/step - loss: 10.9328 - mean_absolute_error: 2.3096 - val_loss: 11.6532 - val_mean_absolute_error: 2.6055\n",
            "Epoch 41/100\n",
            "363/363 [==============================] - 0s 49us/step - loss: 10.7688 - mean_absolute_error: 2.2782 - val_loss: 11.6563 - val_mean_absolute_error: 2.6351\n",
            "Epoch 42/100\n",
            "363/363 [==============================] - 0s 49us/step - loss: 10.5804 - mean_absolute_error: 2.2240 - val_loss: 11.2701 - val_mean_absolute_error: 2.4380\n",
            "Epoch 43/100\n",
            "363/363 [==============================] - 0s 51us/step - loss: 10.5257 - mean_absolute_error: 2.3217 - val_loss: 11.2682 - val_mean_absolute_error: 2.6790\n",
            "Epoch 44/100\n",
            "363/363 [==============================] - 0s 50us/step - loss: 10.4689 - mean_absolute_error: 2.2463 - val_loss: 11.1197 - val_mean_absolute_error: 2.5929\n",
            "Epoch 45/100\n",
            "363/363 [==============================] - 0s 58us/step - loss: 10.0725 - mean_absolute_error: 2.1868 - val_loss: 10.6383 - val_mean_absolute_error: 2.4955\n",
            "Epoch 46/100\n",
            "363/363 [==============================] - 0s 57us/step - loss: 10.1640 - mean_absolute_error: 2.2117 - val_loss: 10.5307 - val_mean_absolute_error: 2.5339\n",
            "Epoch 47/100\n",
            "363/363 [==============================] - 0s 60us/step - loss: 10.1295 - mean_absolute_error: 2.1784 - val_loss: 10.6724 - val_mean_absolute_error: 2.4769\n",
            "Epoch 48/100\n",
            "363/363 [==============================] - 0s 56us/step - loss: 9.8739 - mean_absolute_error: 2.1657 - val_loss: 12.6948 - val_mean_absolute_error: 2.7156\n",
            "Epoch 49/100\n",
            "363/363 [==============================] - 0s 52us/step - loss: 9.6826 - mean_absolute_error: 2.2061 - val_loss: 10.3159 - val_mean_absolute_error: 2.5108\n",
            "Epoch 50/100\n",
            "363/363 [==============================] - 0s 48us/step - loss: 9.6897 - mean_absolute_error: 2.1153 - val_loss: 10.4239 - val_mean_absolute_error: 2.5853\n",
            "Epoch 51/100\n",
            "363/363 [==============================] - 0s 54us/step - loss: 9.7065 - mean_absolute_error: 2.1483 - val_loss: 10.4149 - val_mean_absolute_error: 2.5646\n",
            "Epoch 52/100\n",
            "363/363 [==============================] - 0s 53us/step - loss: 9.5704 - mean_absolute_error: 2.1312 - val_loss: 10.7122 - val_mean_absolute_error: 2.5321\n",
            "Epoch 53/100\n",
            "363/363 [==============================] - 0s 58us/step - loss: 9.4760 - mean_absolute_error: 2.1157 - val_loss: 12.1548 - val_mean_absolute_error: 2.7375\n",
            "Epoch 54/100\n",
            "363/363 [==============================] - 0s 57us/step - loss: 9.2602 - mean_absolute_error: 2.0950 - val_loss: 10.5926 - val_mean_absolute_error: 2.6142\n",
            "Epoch 55/100\n",
            "363/363 [==============================] - 0s 61us/step - loss: 9.0919 - mean_absolute_error: 2.0723 - val_loss: 11.4057 - val_mean_absolute_error: 2.5245\n",
            "Epoch 56/100\n",
            "363/363 [==============================] - 0s 56us/step - loss: 9.2976 - mean_absolute_error: 2.0926 - val_loss: 10.1564 - val_mean_absolute_error: 2.3554\n",
            "Epoch 57/100\n",
            "363/363 [==============================] - 0s 58us/step - loss: 9.0057 - mean_absolute_error: 2.0718 - val_loss: 10.4116 - val_mean_absolute_error: 2.5322\n",
            "Epoch 58/100\n",
            "363/363 [==============================] - 0s 67us/step - loss: 8.9983 - mean_absolute_error: 2.0579 - val_loss: 9.9917 - val_mean_absolute_error: 2.5221\n",
            "Epoch 59/100\n",
            "363/363 [==============================] - 0s 57us/step - loss: 8.8223 - mean_absolute_error: 2.0506 - val_loss: 10.2014 - val_mean_absolute_error: 2.4155\n",
            "Epoch 60/100\n",
            "363/363 [==============================] - 0s 51us/step - loss: 9.1519 - mean_absolute_error: 2.0771 - val_loss: 9.9831 - val_mean_absolute_error: 2.3574\n",
            "Epoch 61/100\n",
            "363/363 [==============================] - 0s 52us/step - loss: 9.0196 - mean_absolute_error: 2.0472 - val_loss: 10.0234 - val_mean_absolute_error: 2.4296\n",
            "Epoch 62/100\n",
            "363/363 [==============================] - 0s 60us/step - loss: 8.7807 - mean_absolute_error: 2.0184 - val_loss: 10.1186 - val_mean_absolute_error: 2.5921\n",
            "Epoch 63/100\n",
            "363/363 [==============================] - 0s 60us/step - loss: 8.7039 - mean_absolute_error: 2.0318 - val_loss: 10.6826 - val_mean_absolute_error: 2.6993\n",
            "Epoch 64/100\n",
            "363/363 [==============================] - 0s 53us/step - loss: 8.5988 - mean_absolute_error: 2.0219 - val_loss: 9.4539 - val_mean_absolute_error: 2.4197\n",
            "Epoch 65/100\n",
            "363/363 [==============================] - 0s 58us/step - loss: 8.5883 - mean_absolute_error: 2.0211 - val_loss: 10.9604 - val_mean_absolute_error: 2.6935\n",
            "Epoch 66/100\n",
            "363/363 [==============================] - 0s 51us/step - loss: 8.4621 - mean_absolute_error: 2.0078 - val_loss: 9.6095 - val_mean_absolute_error: 2.5386\n",
            "Epoch 67/100\n",
            "363/363 [==============================] - 0s 54us/step - loss: 8.4086 - mean_absolute_error: 1.9915 - val_loss: 9.3641 - val_mean_absolute_error: 2.4150\n",
            "Epoch 68/100\n",
            "363/363 [==============================] - 0s 55us/step - loss: 8.5450 - mean_absolute_error: 1.9895 - val_loss: 8.9214 - val_mean_absolute_error: 2.2882\n",
            "Epoch 69/100\n",
            "363/363 [==============================] - 0s 52us/step - loss: 8.3411 - mean_absolute_error: 1.9972 - val_loss: 10.9906 - val_mean_absolute_error: 2.6691\n",
            "Epoch 70/100\n",
            "363/363 [==============================] - 0s 49us/step - loss: 8.2844 - mean_absolute_error: 1.9641 - val_loss: 10.2101 - val_mean_absolute_error: 2.6059\n",
            "Epoch 71/100\n",
            "363/363 [==============================] - 0s 53us/step - loss: 8.1972 - mean_absolute_error: 1.9991 - val_loss: 9.1590 - val_mean_absolute_error: 2.3738\n",
            "Epoch 72/100\n",
            "363/363 [==============================] - 0s 49us/step - loss: 8.3406 - mean_absolute_error: 1.9675 - val_loss: 9.0334 - val_mean_absolute_error: 2.2606\n",
            "Epoch 73/100\n",
            "363/363 [==============================] - 0s 50us/step - loss: 8.0036 - mean_absolute_error: 1.9532 - val_loss: 8.9770 - val_mean_absolute_error: 2.2471\n",
            "Epoch 74/100\n",
            "363/363 [==============================] - 0s 49us/step - loss: 8.0009 - mean_absolute_error: 1.9398 - val_loss: 9.9109 - val_mean_absolute_error: 2.6085\n",
            "Epoch 75/100\n",
            "363/363 [==============================] - 0s 46us/step - loss: 8.2528 - mean_absolute_error: 1.9750 - val_loss: 9.1595 - val_mean_absolute_error: 2.4312\n",
            "Epoch 76/100\n",
            "363/363 [==============================] - 0s 42us/step - loss: 8.0182 - mean_absolute_error: 1.9413 - val_loss: 9.1994 - val_mean_absolute_error: 2.2553\n",
            "Epoch 77/100\n",
            "363/363 [==============================] - 0s 74us/step - loss: 7.9587 - mean_absolute_error: 1.9322 - val_loss: 9.8680 - val_mean_absolute_error: 2.4096\n",
            "Epoch 78/100\n",
            "363/363 [==============================] - 0s 48us/step - loss: 7.8736 - mean_absolute_error: 1.9529 - val_loss: 9.1070 - val_mean_absolute_error: 2.2403\n",
            "Epoch 79/100\n",
            "363/363 [==============================] - 0s 48us/step - loss: 7.9030 - mean_absolute_error: 1.9322 - val_loss: 9.0020 - val_mean_absolute_error: 2.3526\n",
            "Epoch 80/100\n",
            "363/363 [==============================] - 0s 62us/step - loss: 7.9273 - mean_absolute_error: 1.9368 - val_loss: 8.7947 - val_mean_absolute_error: 2.3290\n",
            "Epoch 81/100\n",
            "363/363 [==============================] - 0s 54us/step - loss: 7.8158 - mean_absolute_error: 1.9193 - val_loss: 8.9786 - val_mean_absolute_error: 2.3651\n",
            "Epoch 82/100\n",
            "363/363 [==============================] - 0s 55us/step - loss: 7.8014 - mean_absolute_error: 1.9354 - val_loss: 9.2943 - val_mean_absolute_error: 2.3993\n",
            "Epoch 83/100\n",
            "363/363 [==============================] - 0s 52us/step - loss: 7.8569 - mean_absolute_error: 1.9094 - val_loss: 8.9322 - val_mean_absolute_error: 2.3006\n",
            "Epoch 84/100\n",
            "363/363 [==============================] - 0s 57us/step - loss: 7.9560 - mean_absolute_error: 1.9654 - val_loss: 8.6553 - val_mean_absolute_error: 2.2841\n",
            "Epoch 85/100\n",
            "363/363 [==============================] - 0s 51us/step - loss: 7.6835 - mean_absolute_error: 1.9226 - val_loss: 8.7265 - val_mean_absolute_error: 2.3126\n",
            "Epoch 86/100\n",
            "363/363 [==============================] - 0s 52us/step - loss: 7.8331 - mean_absolute_error: 1.9501 - val_loss: 8.5391 - val_mean_absolute_error: 2.3300\n",
            "Epoch 87/100\n",
            "363/363 [==============================] - 0s 49us/step - loss: 7.5398 - mean_absolute_error: 1.8653 - val_loss: 8.4162 - val_mean_absolute_error: 2.2435\n",
            "Epoch 88/100\n",
            "363/363 [==============================] - 0s 51us/step - loss: 7.4855 - mean_absolute_error: 1.8793 - val_loss: 9.8332 - val_mean_absolute_error: 2.6914\n",
            "Epoch 89/100\n",
            "363/363 [==============================] - 0s 48us/step - loss: 7.4872 - mean_absolute_error: 1.8544 - val_loss: 8.4518 - val_mean_absolute_error: 2.2586\n",
            "Epoch 90/100\n",
            "363/363 [==============================] - 0s 49us/step - loss: 7.5140 - mean_absolute_error: 1.8726 - val_loss: 8.5997 - val_mean_absolute_error: 2.3894\n",
            "Epoch 91/100\n",
            "363/363 [==============================] - 0s 61us/step - loss: 7.4844 - mean_absolute_error: 1.8963 - val_loss: 8.8673 - val_mean_absolute_error: 2.4875\n",
            "Epoch 92/100\n",
            "363/363 [==============================] - 0s 51us/step - loss: 7.4097 - mean_absolute_error: 1.8536 - val_loss: 8.5726 - val_mean_absolute_error: 2.3230\n",
            "Epoch 93/100\n",
            "363/363 [==============================] - 0s 50us/step - loss: 7.4400 - mean_absolute_error: 1.8711 - val_loss: 8.3063 - val_mean_absolute_error: 2.3275\n",
            "Epoch 94/100\n",
            "363/363 [==============================] - 0s 47us/step - loss: 7.3312 - mean_absolute_error: 1.8634 - val_loss: 8.2465 - val_mean_absolute_error: 2.2898\n",
            "Epoch 95/100\n",
            "363/363 [==============================] - 0s 56us/step - loss: 7.2888 - mean_absolute_error: 1.8615 - val_loss: 8.5377 - val_mean_absolute_error: 2.3062\n",
            "Epoch 96/100\n",
            "363/363 [==============================] - 0s 51us/step - loss: 7.1667 - mean_absolute_error: 1.8787 - val_loss: 8.7052 - val_mean_absolute_error: 2.4484\n",
            "Epoch 97/100\n",
            "363/363 [==============================] - 0s 61us/step - loss: 7.3192 - mean_absolute_error: 1.8513 - val_loss: 8.3704 - val_mean_absolute_error: 2.3614\n",
            "Epoch 98/100\n",
            "363/363 [==============================] - 0s 59us/step - loss: 7.1321 - mean_absolute_error: 1.8225 - val_loss: 8.6300 - val_mean_absolute_error: 2.3981\n",
            "Epoch 99/100\n",
            "363/363 [==============================] - 0s 56us/step - loss: 7.1402 - mean_absolute_error: 1.8238 - val_loss: 9.2111 - val_mean_absolute_error: 2.5002\n",
            "Epoch 100/100\n",
            "363/363 [==============================] - 0s 59us/step - loss: 7.1359 - mean_absolute_error: 1.8541 - val_loss: 8.9321 - val_mean_absolute_error: 2.5085\n",
            "102/102 [==============================] - 0s 49us/step\n"
          ],
          "name": "stdout"
        }
      ]
    },
    {
      "cell_type": "code",
      "metadata": {
        "id": "tO8z4HXy7xPm",
        "colab_type": "code",
        "colab": {
          "base_uri": "https://localhost:8080/",
          "height": 286
        },
        "outputId": "1078da66-e796-4f78-b1c6-3ee89b240f8e"
      },
      "source": [
        "import matplotlib.pyplot as plt\n",
        "import numpy as np\n",
        "\n",
        "plt.plot(history.epoch, np.array(history.history['loss']))"
      ],
      "execution_count": 90,
      "outputs": [
        {
          "output_type": "execute_result",
          "data": {
            "text/plain": [
              "[<matplotlib.lines.Line2D at 0x7f3cbe1b7e80>]"
            ]
          },
          "metadata": {
            "tags": []
          },
          "execution_count": 90
        },
        {
          "output_type": "display_data",
          "data": {
            "image/png": "[encoded data removed]",
            "text/plain": [
              "<Figure size 432x288 with 1 Axes>"
            ]
          },
          "metadata": {
            "tags": []
          }
        }
      ]
    },
    {
      "cell_type": "code",
      "metadata": {
        "id": "iglJBIn67xT_",
        "colab_type": "code",
        "colab": {
          "base_uri": "https://localhost:8080/",
          "height": 283
        },
        "outputId": "839716a1-7bff-440f-b465-4c4de14788ea"
      },
      "source": [
        "# Predict some housing prices using data from the test set\n",
        "\n",
        "test_predictions = model.predict(X_test).flatten()\n",
        "\n",
        "plt.scatter(y_test, test_predictions)\n",
        "plt.xlabel('True values')\n",
        "plt.ylabel('Predictions')\n",
        "plt.axis('equal')\n",
        "plt.xlim(plt.xlim())\n",
        "plt.ylim(plt.ylim())\n",
        "_ = plt.plot([-100,100],[-100,100])"
      ],
      "execution_count": 91,
      "outputs": [
        {
          "output_type": "display_data",
          "data": {
            "image/png": "[encoded data removed]",
            "text/plain": [
              "<Figure size 432x288 with 1 Axes>"
            ]
          },
          "metadata": {
            "tags": []
          }
        }
      ]
    },
    {
      "cell_type": "markdown",
      "metadata": {
        "id": "STPqN9767xX3",
        "colab_type": "text"
      },
      "source": [
        "The model seems to capture the general trend in the data. Let's plot a histogram that shows the distribution of our prediction errors."
      ]
    },
    {
      "cell_type": "code",
      "metadata": {
        "id": "-vZqbGuNBGCF",
        "colab_type": "code",
        "colab": {
          "base_uri": "https://localhost:8080/",
          "height": 283
        },
        "outputId": "250aa4bf-618e-4a48-8422-9c6bdb1679af"
      },
      "source": [
        "error = test_predictions - y_test\n",
        "plt.hist(error, bins=50)\n",
        "plt.xlabel(\"Prediction Error\")\n",
        "_ = plt.ylabel('Count')"
      ],
      "execution_count": 92,
      "outputs": [
        {
          "output_type": "display_data",
          "data": {
            "image/png": "[encoded data removed]",
            "text/plain": [
              "<Figure size 432x288 with 1 Axes>"
            ]
          },
          "metadata": {
            "tags": []
          }
        }
      ]
    },
    {
      "cell_type": "markdown",
      "metadata": {
        "id": "0GH-Ajds4TK8",
        "colab_type": "text"
      },
      "source": [
        "# Cross validate the model\n",
        "There isn't very much data so repeated sub-sampling via cross validation over all observations (train+test) needs to happen. Here, we train the model on four random split and test it on the fifth."
      ]
    },
    {
      "cell_type": "code",
      "metadata": {
        "id": "zo0fUU1muNrS",
        "colab_type": "code",
        "colab": {
          "base_uri": "https://localhost:8080/",
          "height": 34
        },
        "outputId": "41fb6d55-63fe-49d9-f471-fc493b62074e"
      },
      "source": [
        "import numpy as np\n",
        "import pandas as pd\n",
        "from keras.models import Sequential\n",
        "from keras.layers import Dense\n",
        "from keras.wrappers.scikit_learn import KerasRegressor\n",
        "from sklearn.model_selection import cross_val_score\n",
        "from sklearn.model_selection import KFold\n",
        "from sklearn.preprocessing import StandardScaler\n",
        "from sklearn.pipeline import Pipeline\n",
        "from keras.datasets import boston_housing\n",
        "\n",
        "(X_train,y_train),(X_test,y_test) = boston_housing.load_data()\n",
        "\n",
        "X_train.shape, X_test.shape"
      ],
      "execution_count": 27,
      "outputs": [
        {
          "output_type": "execute_result",
          "data": {
            "text/plain": [
              "((404, 13), (102, 13))"
            ]
          },
          "metadata": {
            "tags": []
          },
          "execution_count": 27
        }
      ]
    },
    {
      "cell_type": "code",
      "metadata": {
        "id": "W4JPLUpSw6SY",
        "colab_type": "code",
        "colab": {
          "base_uri": "https://localhost:8080/",
          "height": 34
        },
        "outputId": "dde8802b-8b8c-4263-cb89-1ef08044a9e8"
      },
      "source": [
        "import numpy as np\n",
        "\n",
        "X_train = np.concatenate((X_train,X_test), axis=0)\n",
        "y_train = np.concatenate((y_train,y_test), axis=0)\n",
        "\n",
        "X_train.shape, y_train.shape"
      ],
      "execution_count": 28,
      "outputs": [
        {
          "output_type": "execute_result",
          "data": {
            "text/plain": [
              "((506, 13), (506,))"
            ]
          },
          "metadata": {
            "tags": []
          },
          "execution_count": 28
        }
      ]
    },
    {
      "cell_type": "code",
      "metadata": {
        "id": "AR--T5iHw6Pk",
        "colab_type": "code",
        "colab": {}
      },
      "source": [
        "def baseline_model():\n",
        "    model = Sequential()\n",
        "    model.add(Dense(13, input_dim=13, kernel_initializer='normal', \n",
        "              activation='relu'))\n",
        "    model.add(Dense(1, kernel_initializer='normal'))\n",
        "    model.compile(loss='mean_squared_error', optimizer='adam')\n",
        "    return model"
      ],
      "execution_count": 0,
      "outputs": []
    },
    {
      "cell_type": "code",
      "metadata": {
        "id": "K2Tdqq5ow6M7",
        "colab_type": "code",
        "colab": {
          "base_uri": "https://localhost:8080/",
          "height": 105
        },
        "outputId": "1d945561-c4af-4ec3-b676-7551b9f62ba8"
      },
      "source": [
        "# Initialize random number generator with a constant random seed\n",
        "# to ensure consistency in initializing model weights and the model\n",
        "\n",
        "np.random.seed(42)\n",
        "\n",
        "# Add scaler and Keras regressor with the model\n",
        "\n",
        "estimators = []\n",
        "estimators.append(('standardize', StandardScaler()))\n",
        "estimators.append(('mlp', KerasRegressor(build_fn=baseline_model,   \n",
        "                    epochs=100, batch_size=5, verbose=0)))\n",
        "    \n",
        "# Add estimator list to a Sklearn pipeline\n",
        "\n",
        "pipeline = Pipeline(estimators)\n",
        " \n",
        "# Initialize instance of k-fold validation from sklearn api\n",
        "\n",
        "kfold = KFold(n_splits=5, random_state=42)\n",
        "\n",
        "# Pass pipeline instance, training data and labels, and k-fold crossvalidator instance to evaluate score\n",
        "\n",
        "results = cross_val_score(pipeline, X_train, y_train, cv=kfold)\n",
        "print(\"Average MSE of all 5 runs: %.2f, with standard dev: (%.2f)\" %   \n",
        "      (-1*(results.mean()), results.std()))"
      ],
      "execution_count": 30,
      "outputs": [
        {
          "output_type": "stream",
          "text": [
            "WARNING:tensorflow:From /usr/local/lib/python3.6/dist-packages/tensorflow/python/ops/math_ops.py:3066: to_int32 (from tensorflow.python.ops.math_ops) is deprecated and will be removed in a future version.\n",
            "Instructions for updating:\n",
            "Use tf.cast instead.\n",
            "Average MSE of all 5 runs: 14.96, with standard dev: (2.56)\n"
          ],
          "name": "stdout"
        }
      ]
    },
    {
      "cell_type": "markdown",
      "metadata": {
        "id": "SfcFnOONyuNm",
        "colab_type": "text"
      },
      "source": [
        "## Use the Keras Library to build an image recognition network using the Fashion-MNIST dataset (also comes with keras)\n",
        "\n",
        "- Load and preprocess the image data similar to how we preprocessed the MNIST data in class.\n",
        "- Make sure to one-hot encode your category labels\n",
        "- Make sure to have your final layer have as many nodes as the number of classes that you want to predict.\n",
        "- Try different hyperparameters. What is the highest accuracy that you are able to achieve.\n",
        "- Use the history object that is returned from model.fit to make graphs of the model's loss or train/validation accuracies by epoch. \n",
        "- Remember that neural networks fall prey to randomness so you may need to run your model multiple times (or use Cross Validation) in order to tell if a change to a hyperparameter is truly producing better results."
      ]
    },
    {
      "cell_type": "code",
      "metadata": {
        "id": "cSAuKYAjuMtZ",
        "colab_type": "code",
        "colab": {
          "base_uri": "https://localhost:8080/",
          "height": 34
        },
        "outputId": "06a641d4-6d07-49df-ade7-7c2d517f4470"
      },
      "source": [
        "import keras\n",
        "from keras.datasets import fashion_mnist\n",
        "from keras.models import Sequential\n",
        "from keras.layers import Dense, Dropout \n",
        "import numpy as np\n",
        "import pandas as pd"
      ],
      "execution_count": 1,
      "outputs": [
        {
          "output_type": "stream",
          "text": [
            "Using TensorFlow backend.\n"
          ],
          "name": "stderr"
        }
      ]
    },
    {
      "cell_type": "code",
      "metadata": {
        "id": "szi6-IpuzaH1",
        "colab_type": "code",
        "colab": {}
      },
      "source": [
        "(X_train, y_train),(X_test,y_test)=fashion_mnist.load_data()"
      ],
      "execution_count": 0,
      "outputs": []
    },
    {
      "cell_type": "code",
      "metadata": {
        "id": "_PgImNU8FsAN",
        "colab_type": "code",
        "colab": {
          "base_uri": "https://localhost:8080/",
          "height": 34
        },
        "outputId": "605b166e-ce12-44f6-b350-40111f9ab5e1"
      },
      "source": [
        "X_train.shape, X_test.shape, y_train.shape"
      ],
      "execution_count": 23,
      "outputs": [
        {
          "output_type": "execute_result",
          "data": {
            "text/plain": [
              "((60000, 28, 28), (10000, 28, 28), (60000,))"
            ]
          },
          "metadata": {
            "tags": []
          },
          "execution_count": 23
        }
      ]
    },
    {
      "cell_type": "code",
      "metadata": {
        "id": "7oCIbm1UHNm_",
        "colab_type": "code",
        "colab": {
          "base_uri": "https://localhost:8080/",
          "height": 34
        },
        "outputId": "f9c91f21-3968-4adf-9316-991323479e91"
      },
      "source": [
        "len(np.unique(y_train))"
      ],
      "execution_count": 24,
      "outputs": [
        {
          "output_type": "execute_result",
          "data": {
            "text/plain": [
              "10"
            ]
          },
          "metadata": {
            "tags": []
          },
          "execution_count": 24
        }
      ]
    },
    {
      "cell_type": "code",
      "metadata": {
        "id": "xxpF8CZkro7a",
        "colab_type": "code",
        "colab": {
          "base_uri": "https://localhost:8080/",
          "height": 34
        },
        "outputId": "f0e3cd6d-fa85-4f24-8206-84c1e2343ce5"
      },
      "source": [
        "X_train.dtype"
      ],
      "execution_count": 25,
      "outputs": [
        {
          "output_type": "execute_result",
          "data": {
            "text/plain": [
              "dtype('uint8')"
            ]
          },
          "metadata": {
            "tags": []
          },
          "execution_count": 25
        }
      ]
    },
    {
      "cell_type": "code",
      "metadata": {
        "id": "NUnf1tiwrDpM",
        "colab_type": "code",
        "colab": {}
      },
      "source": [
        "# Reshape the 3d arrays and cast as float\n",
        "\n",
        "X_train = X_train.reshape(60000, 784).astype('float32') # 28 * 28 = 784\n",
        "X_test = X_test.reshape(10000, 784).astype('float32')"
      ],
      "execution_count": 0,
      "outputs": []
    },
    {
      "cell_type": "code",
      "metadata": {
        "id": "J-5A21Wyr4K2",
        "colab_type": "code",
        "colab": {
          "base_uri": "https://localhost:8080/",
          "height": 204
        },
        "outputId": "2cc8a2c8-9165-4514-b30f-4a84e2b3bd48"
      },
      "source": [
        "pd.DataFrame(y_train)[0].value_counts()"
      ],
      "execution_count": 27,
      "outputs": [
        {
          "output_type": "execute_result",
          "data": {
            "text/plain": [
              "9    6000\n",
              "8    6000\n",
              "7    6000\n",
              "6    6000\n",
              "5    6000\n",
              "4    6000\n",
              "3    6000\n",
              "2    6000\n",
              "1    6000\n",
              "0    6000\n",
              "Name: 0, dtype: int64"
            ]
          },
          "metadata": {
            "tags": []
          },
          "execution_count": 27
        }
      ]
    },
    {
      "cell_type": "code",
      "metadata": {
        "id": "b-xJh0bqtvmX",
        "colab_type": "code",
        "colab": {}
      },
      "source": [
        "# Hyperparameters\n",
        "\n",
        "batch_size = 64\n",
        "num_classes = 10\n",
        "epochs = 20"
      ],
      "execution_count": 0,
      "outputs": []
    },
    {
      "cell_type": "code",
      "metadata": {
        "id": "ob8Kmeukr4IM",
        "colab_type": "code",
        "colab": {
          "base_uri": "https://localhost:8080/",
          "height": 187
        },
        "outputId": "07fef4cd-d545-4af3-b44d-afc9b8422670"
      },
      "source": [
        "# One hot encode the category labels to a binary class matrix\n",
        "\n",
        "y_train = keras.utils.to_categorical(y_train, num_classes)\n",
        "y_test = keras.utils.to_categorical(y_test, num_classes)\n",
        "y_train[:10]"
      ],
      "execution_count": 29,
      "outputs": [
        {
          "output_type": "execute_result",
          "data": {
            "text/plain": [
              "array([[0., 0., 0., 0., 0., 0., 0., 0., 0., 1.],\n",
              "       [1., 0., 0., 0., 0., 0., 0., 0., 0., 0.],\n",
              "       [1., 0., 0., 0., 0., 0., 0., 0., 0., 0.],\n",
              "       [0., 0., 0., 1., 0., 0., 0., 0., 0., 0.],\n",
              "       [1., 0., 0., 0., 0., 0., 0., 0., 0., 0.],\n",
              "       [0., 0., 1., 0., 0., 0., 0., 0., 0., 0.],\n",
              "       [0., 0., 0., 0., 0., 0., 0., 1., 0., 0.],\n",
              "       [0., 0., 1., 0., 0., 0., 0., 0., 0., 0.],\n",
              "       [0., 0., 0., 0., 0., 1., 0., 0., 0., 0.],\n",
              "       [0., 0., 0., 0., 0., 1., 0., 0., 0., 0.]], dtype=float32)"
            ]
          },
          "metadata": {
            "tags": []
          },
          "execution_count": 29
        }
      ]
    },
    {
      "cell_type": "code",
      "metadata": {
        "id": "b8AKu5uNr4Fj",
        "colab_type": "code",
        "colab": {}
      },
      "source": [
        "# Scale the data\n",
        "\n",
        "from sklearn.preprocessing import MinMaxScaler\n",
        "\n",
        "X_train = MinMaxScaler().fit_transform(X_train)\n",
        "X_test = MinMaxScaler().fit_transform(X_test)"
      ],
      "execution_count": 0,
      "outputs": []
    },
    {
      "cell_type": "code",
      "metadata": {
        "id": "ZQhueZ0nveYL",
        "colab_type": "code",
        "colab": {
          "base_uri": "https://localhost:8080/",
          "height": 253
        },
        "outputId": "26f4f729-d5c8-4e79-ec01-ba77785a2d74"
      },
      "source": [
        "pd.DataFrame(X_train).sample(5)"
      ],
      "execution_count": 31,
      "outputs": [
        {
          "output_type": "execute_result",
          "data": {
            "text/html": [
              "<div>\n",
              "<style scoped>\n",
              "    .dataframe tbody tr th:only-of-type {\n",
              "        vertical-align: middle;\n",
              "    }\n",
              "\n",
              "    .dataframe tbody tr th {\n",
              "        vertical-align: top;\n",
              "    }\n",
              "\n",
              "    .dataframe thead th {\n",
              "        text-align: right;\n",
              "    }\n",
              "</style>\n",
              "<table border=\"1\" class=\"dataframe\">\n",
              "  <thead>\n",
              "    <tr style=\"text-align: right;\">\n",
              "      <th></th>\n",
              "      <th>0</th>\n",
              "      <th>1</th>\n",
              "      <th>2</th>\n",
              "      <th>3</th>\n",
              "      <th>4</th>\n",
              "      <th>5</th>\n",
              "      <th>6</th>\n",
              "      <th>7</th>\n",
              "      <th>8</th>\n",
              "      <th>9</th>\n",
              "      <th>...</th>\n",
              "      <th>774</th>\n",
              "      <th>775</th>\n",
              "      <th>776</th>\n",
              "      <th>777</th>\n",
              "      <th>778</th>\n",
              "      <th>779</th>\n",
              "      <th>780</th>\n",
              "      <th>781</th>\n",
              "      <th>782</th>\n",
              "      <th>783</th>\n",
              "    </tr>\n",
              "  </thead>\n",
              "  <tbody>\n",
              "    <tr>\n",
              "      <th>34420</th>\n",
              "      <td>0.0</td>\n",
              "      <td>0.0</td>\n",
              "      <td>0.0</td>\n",
              "      <td>0.000000</td>\n",
              "      <td>0.000000</td>\n",
              "      <td>0.000000</td>\n",
              "      <td>0.0</td>\n",
              "      <td>0.000000</td>\n",
              "      <td>0.027559</td>\n",
              "      <td>0.011765</td>\n",
              "      <td>...</td>\n",
              "      <td>0.149020</td>\n",
              "      <td>0.125490</td>\n",
              "      <td>0.133333</td>\n",
              "      <td>0.043137</td>\n",
              "      <td>0.000000</td>\n",
              "      <td>0.000000</td>\n",
              "      <td>0.0</td>\n",
              "      <td>0.0</td>\n",
              "      <td>0.0</td>\n",
              "      <td>0.0</td>\n",
              "    </tr>\n",
              "    <tr>\n",
              "      <th>23303</th>\n",
              "      <td>0.0</td>\n",
              "      <td>0.0</td>\n",
              "      <td>0.0</td>\n",
              "      <td>0.000000</td>\n",
              "      <td>0.000000</td>\n",
              "      <td>0.013043</td>\n",
              "      <td>0.0</td>\n",
              "      <td>0.000000</td>\n",
              "      <td>0.000000</td>\n",
              "      <td>0.000000</td>\n",
              "      <td>...</td>\n",
              "      <td>0.074510</td>\n",
              "      <td>0.043137</td>\n",
              "      <td>0.000000</td>\n",
              "      <td>0.000000</td>\n",
              "      <td>0.000000</td>\n",
              "      <td>0.003922</td>\n",
              "      <td>0.0</td>\n",
              "      <td>0.0</td>\n",
              "      <td>0.0</td>\n",
              "      <td>0.0</td>\n",
              "    </tr>\n",
              "    <tr>\n",
              "      <th>38419</th>\n",
              "      <td>0.0</td>\n",
              "      <td>0.0</td>\n",
              "      <td>0.0</td>\n",
              "      <td>0.006098</td>\n",
              "      <td>0.004464</td>\n",
              "      <td>0.000000</td>\n",
              "      <td>0.0</td>\n",
              "      <td>0.000000</td>\n",
              "      <td>0.000000</td>\n",
              "      <td>0.074510</td>\n",
              "      <td>...</td>\n",
              "      <td>0.407843</td>\n",
              "      <td>0.435294</td>\n",
              "      <td>0.000000</td>\n",
              "      <td>0.000000</td>\n",
              "      <td>0.007843</td>\n",
              "      <td>0.003922</td>\n",
              "      <td>0.0</td>\n",
              "      <td>0.0</td>\n",
              "      <td>0.0</td>\n",
              "      <td>0.0</td>\n",
              "    </tr>\n",
              "    <tr>\n",
              "      <th>49670</th>\n",
              "      <td>0.0</td>\n",
              "      <td>0.0</td>\n",
              "      <td>0.0</td>\n",
              "      <td>0.000000</td>\n",
              "      <td>0.000000</td>\n",
              "      <td>0.000000</td>\n",
              "      <td>0.0</td>\n",
              "      <td>0.000000</td>\n",
              "      <td>0.007874</td>\n",
              "      <td>0.007843</td>\n",
              "      <td>...</td>\n",
              "      <td>0.000000</td>\n",
              "      <td>0.000000</td>\n",
              "      <td>0.000000</td>\n",
              "      <td>0.705882</td>\n",
              "      <td>0.752941</td>\n",
              "      <td>0.392157</td>\n",
              "      <td>0.0</td>\n",
              "      <td>0.0</td>\n",
              "      <td>0.0</td>\n",
              "      <td>0.0</td>\n",
              "    </tr>\n",
              "    <tr>\n",
              "      <th>43133</th>\n",
              "      <td>0.0</td>\n",
              "      <td>0.0</td>\n",
              "      <td>0.0</td>\n",
              "      <td>0.000000</td>\n",
              "      <td>0.000000</td>\n",
              "      <td>0.000000</td>\n",
              "      <td>0.0</td>\n",
              "      <td>0.004525</td>\n",
              "      <td>0.003937</td>\n",
              "      <td>0.000000</td>\n",
              "      <td>...</td>\n",
              "      <td>0.000000</td>\n",
              "      <td>0.000000</td>\n",
              "      <td>0.000000</td>\n",
              "      <td>0.000000</td>\n",
              "      <td>0.000000</td>\n",
              "      <td>0.000000</td>\n",
              "      <td>0.0</td>\n",
              "      <td>0.0</td>\n",
              "      <td>0.0</td>\n",
              "      <td>0.0</td>\n",
              "    </tr>\n",
              "  </tbody>\n",
              "</table>\n",
              "<p>5 rows × 784 columns</p>\n",
              "</div>"
            ],
            "text/plain": [
              "       0    1    2         3         4         5    6         7         8    \\\n",
              "34420  0.0  0.0  0.0  0.000000  0.000000  0.000000  0.0  0.000000  0.027559   \n",
              "23303  0.0  0.0  0.0  0.000000  0.000000  0.013043  0.0  0.000000  0.000000   \n",
              "38419  0.0  0.0  0.0  0.006098  0.004464  0.000000  0.0  0.000000  0.000000   \n",
              "49670  0.0  0.0  0.0  0.000000  0.000000  0.000000  0.0  0.000000  0.007874   \n",
              "43133  0.0  0.0  0.0  0.000000  0.000000  0.000000  0.0  0.004525  0.003937   \n",
              "\n",
              "            9    ...       774       775       776       777       778  \\\n",
              "34420  0.011765  ...  0.149020  0.125490  0.133333  0.043137  0.000000   \n",
              "23303  0.000000  ...  0.074510  0.043137  0.000000  0.000000  0.000000   \n",
              "38419  0.074510  ...  0.407843  0.435294  0.000000  0.000000  0.007843   \n",
              "49670  0.007843  ...  0.000000  0.000000  0.000000  0.705882  0.752941   \n",
              "43133  0.000000  ...  0.000000  0.000000  0.000000  0.000000  0.000000   \n",
              "\n",
              "            779  780  781  782  783  \n",
              "34420  0.000000  0.0  0.0  0.0  0.0  \n",
              "23303  0.003922  0.0  0.0  0.0  0.0  \n",
              "38419  0.003922  0.0  0.0  0.0  0.0  \n",
              "49670  0.392157  0.0  0.0  0.0  0.0  \n",
              "43133  0.000000  0.0  0.0  0.0  0.0  \n",
              "\n",
              "[5 rows x 784 columns]"
            ]
          },
          "metadata": {
            "tags": []
          },
          "execution_count": 31
        }
      ]
    },
    {
      "cell_type": "code",
      "metadata": {
        "id": "8ZfPZ9GSvjqM",
        "colab_type": "code",
        "colab": {
          "base_uri": "https://localhost:8080/",
          "height": 306
        },
        "outputId": "24e5edf8-1844-417a-a491-2d1602232d8f"
      },
      "source": [
        "mnist_model = Sequential()\n",
        "mnist_model.add(Dense(16, input_shape=(784,), activation='relu'))  # input\n",
        "\n",
        "mnist_model.add(Dropout(0.1))\n",
        "\n",
        "mnist_model.add(Dense(16, activation='sigmoid'))  # hidden\n",
        "\n",
        "mnist_model.add(Dropout(0.1))\n",
        "\n",
        "mnist_model.add(Dense(num_classes, activation='softmax'))  # output\n",
        "mnist_model.compile(loss='binary_crossentropy', optimizer='adadelta',\n",
        "                    metrics=['accuracy'])\n",
        "mnist_model.summary()"
      ],
      "execution_count": 37,
      "outputs": [
        {
          "output_type": "stream",
          "text": [
            "_________________________________________________________________\n",
            "Layer (type)                 Output Shape              Param #   \n",
            "=================================================================\n",
            "dense_11 (Dense)             (None, 16)                12560     \n",
            "_________________________________________________________________\n",
            "dropout_3 (Dropout)          (None, 16)                0         \n",
            "_________________________________________________________________\n",
            "dense_12 (Dense)             (None, 16)                272       \n",
            "_________________________________________________________________\n",
            "dropout_4 (Dropout)          (None, 16)                0         \n",
            "_________________________________________________________________\n",
            "dense_13 (Dense)             (None, 10)                170       \n",
            "=================================================================\n",
            "Total params: 13,002\n",
            "Trainable params: 13,002\n",
            "Non-trainable params: 0\n",
            "_________________________________________________________________\n"
          ],
          "name": "stdout"
        }
      ]
    },
    {
      "cell_type": "code",
      "metadata": {
        "id": "-6MrMSI0vjn6",
        "colab_type": "code",
        "colab": {
          "base_uri": "https://localhost:8080/",
          "height": 751
        },
        "outputId": "3a8756d9-cad1-4f80-ff52-562fef334dec"
      },
      "source": [
        "history = mnist_model.fit(X_train, y_train, epochs=epochs, validation_split=.1)\n",
        "scores = mnist_model.evaluate(X_test, y_test)"
      ],
      "execution_count": 38,
      "outputs": [
        {
          "output_type": "stream",
          "text": [
            "Train on 54000 samples, validate on 6000 samples\n",
            "Epoch 1/20\n",
            "54000/54000 [==============================] - 3s 64us/step - loss: 0.1748 - acc: 0.9323 - val_loss: 0.1035 - val_acc: 0.9609\n",
            "Epoch 2/20\n",
            "54000/54000 [==============================] - 3s 56us/step - loss: 0.1111 - acc: 0.9569 - val_loss: 0.0880 - val_acc: 0.9663\n",
            "Epoch 3/20\n",
            "54000/54000 [==============================] - 3s 56us/step - loss: 0.0995 - acc: 0.9613 - val_loss: 0.0807 - val_acc: 0.9677\n",
            "Epoch 4/20\n",
            "54000/54000 [==============================] - 3s 56us/step - loss: 0.0941 - acc: 0.9634 - val_loss: 0.0779 - val_acc: 0.9692\n",
            "Epoch 5/20\n",
            "54000/54000 [==============================] - 3s 57us/step - loss: 0.0916 - acc: 0.9645 - val_loss: 0.0758 - val_acc: 0.9703\n",
            "Epoch 6/20\n",
            "54000/54000 [==============================] - 3s 58us/step - loss: 0.0887 - acc: 0.9657 - val_loss: 0.0751 - val_acc: 0.9708\n",
            "Epoch 7/20\n",
            "54000/54000 [==============================] - 3s 56us/step - loss: 0.0873 - acc: 0.9662 - val_loss: 0.0740 - val_acc: 0.9708\n",
            "Epoch 8/20\n",
            "54000/54000 [==============================] - 3s 56us/step - loss: 0.0857 - acc: 0.9667 - val_loss: 0.0728 - val_acc: 0.9716\n",
            "Epoch 9/20\n",
            "54000/54000 [==============================] - 3s 57us/step - loss: 0.0844 - acc: 0.9674 - val_loss: 0.0733 - val_acc: 0.9711\n",
            "Epoch 10/20\n",
            "54000/54000 [==============================] - 3s 57us/step - loss: 0.0833 - acc: 0.9676 - val_loss: 0.0733 - val_acc: 0.9707\n",
            "Epoch 11/20\n",
            "54000/54000 [==============================] - 3s 57us/step - loss: 0.0821 - acc: 0.9682 - val_loss: 0.0760 - val_acc: 0.9700\n",
            "Epoch 12/20\n",
            "54000/54000 [==============================] - 3s 57us/step - loss: 0.0815 - acc: 0.9681 - val_loss: 0.0713 - val_acc: 0.9721\n",
            "Epoch 13/20\n",
            "54000/54000 [==============================] - 3s 58us/step - loss: 0.0804 - acc: 0.9689 - val_loss: 0.0738 - val_acc: 0.9710\n",
            "Epoch 14/20\n",
            "54000/54000 [==============================] - 3s 56us/step - loss: 0.0800 - acc: 0.9692 - val_loss: 0.0703 - val_acc: 0.9725\n",
            "Epoch 15/20\n",
            "54000/54000 [==============================] - 3s 56us/step - loss: 0.0792 - acc: 0.9691 - val_loss: 0.0746 - val_acc: 0.9702\n",
            "Epoch 16/20\n",
            "54000/54000 [==============================] - 3s 56us/step - loss: 0.0787 - acc: 0.9696 - val_loss: 0.0731 - val_acc: 0.9710\n",
            "Epoch 17/20\n",
            "54000/54000 [==============================] - 3s 56us/step - loss: 0.0785 - acc: 0.9695 - val_loss: 0.0722 - val_acc: 0.9717\n",
            "Epoch 18/20\n",
            "54000/54000 [==============================] - 3s 57us/step - loss: 0.0780 - acc: 0.9699 - val_loss: 0.0715 - val_acc: 0.9718\n",
            "Epoch 19/20\n",
            "54000/54000 [==============================] - 3s 57us/step - loss: 0.0771 - acc: 0.9701 - val_loss: 0.0709 - val_acc: 0.9722\n",
            "Epoch 20/20\n",
            "54000/54000 [==============================] - 3s 57us/step - loss: 0.0774 - acc: 0.9698 - val_loss: 0.0709 - val_acc: 0.9723\n",
            "10000/10000 [==============================] - 0s 24us/step\n"
          ],
          "name": "stdout"
        }
      ]
    },
    {
      "cell_type": "code",
      "metadata": {
        "id": "-E1Bmqtm0Km5",
        "colab_type": "code",
        "colab": {
          "base_uri": "https://localhost:8080/",
          "height": 34
        },
        "outputId": "be3460a9-d3df-4374-f155-01ed7390abfd"
      },
      "source": [
        "scores"
      ],
      "execution_count": 39,
      "outputs": [
        {
          "output_type": "execute_result",
          "data": {
            "text/plain": [
              "[0.07445742788612843, 0.9714200055122375]"
            ]
          },
          "metadata": {
            "tags": []
          },
          "execution_count": 39
        }
      ]
    },
    {
      "cell_type": "code",
      "metadata": {
        "id": "Y7ymDWeP0oO5",
        "colab_type": "code",
        "colab": {
          "base_uri": "https://localhost:8080/",
          "height": 357
        },
        "outputId": "b49020f0-03e2-4aa4-e1b3-629687b69494"
      },
      "source": [
        "history.history['acc']"
      ],
      "execution_count": 40,
      "outputs": [
        {
          "output_type": "execute_result",
          "data": {
            "text/plain": [
              "[0.9323425837622749,\n",
              " 0.9568629653718737,\n",
              " 0.9613462982530947,\n",
              " 0.9633814826541477,\n",
              " 0.9644962986840142,\n",
              " 0.9657388912836711,\n",
              " 0.9662203733656142,\n",
              " 0.9666574109042132,\n",
              " 0.9673722242779202,\n",
              " 0.9676296323317068,\n",
              " 0.9682425952134309,\n",
              " 0.9680611139756662,\n",
              " 0.968944447905929,\n",
              " 0.9691722262700398,\n",
              " 0.9691462997860378,\n",
              " 0.9696333367206432,\n",
              " 0.9695388920042249,\n",
              " 0.9698648182904279,\n",
              " 0.9700555587168093,\n",
              " 0.9698333376072071]"
            ]
          },
          "metadata": {
            "tags": []
          },
          "execution_count": 40
        }
      ]
    },
    {
      "cell_type": "code",
      "metadata": {
        "id": "8PLr0S7b0mb7",
        "colab_type": "code",
        "colab": {
          "base_uri": "https://localhost:8080/",
          "height": 286
        },
        "outputId": "0fc2b4f0-47bc-46e4-a834-7f08826a47a0"
      },
      "source": [
        "import matplotlib.pyplot as plt\n",
        "plt.plot(history.epoch, np.array(history.history['acc']))"
      ],
      "execution_count": 41,
      "outputs": [
        {
          "output_type": "execute_result",
          "data": {
            "text/plain": [
              "[<matplotlib.lines.Line2D at 0x7f85953f2b00>]"
            ]
          },
          "metadata": {
            "tags": []
          },
          "execution_count": 41
        },
        {
          "output_type": "display_data",
          "data": {
            "image/png": "[encoded data removed]",
            "text/plain": [
              "<Figure size 432x288 with 1 Axes>"
            ]
          },
          "metadata": {
            "tags": []
          }
        }
      ]
    },
    {
      "cell_type": "markdown",
      "metadata": {
        "id": "zv_3xNMjzdLI",
        "colab_type": "text"
      },
      "source": [
        "## Stretch Goals:\n",
        "\n",
        "- Use Hyperparameter Tuning to make the accuracy of your models as high as possible. (error as low as possible)\n",
        "- Use Cross Validation techniques to get more consistent results with your model.\n",
        "- Use GridSearchCV to try different combinations of hyperparameters. \n",
        "- Start looking into other types of Keras layers for CNNs and RNNs maybe try and build a CNN model for fashion-MNIST to see how the results compare."
      ]
    }
  ]
}