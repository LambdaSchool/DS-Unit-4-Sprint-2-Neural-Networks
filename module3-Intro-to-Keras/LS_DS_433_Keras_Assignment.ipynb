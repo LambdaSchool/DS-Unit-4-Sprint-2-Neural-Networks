{
 "cells": [
  {
   "cell_type": "markdown",
   "metadata": {
    "colab_type": "text",
    "id": "pBQsZEJmubLs"
   },
   "source": [
    "## Use the Keras Library to build a Multi-Layer Perceptron Model on the Boston Housing dataset\n",
    "\n",
    "- The Boston Housing dataset comes with the Keras library so use Keras to import it into your notebook. \n",
    "- Normalize the data (all features should have roughly the same scale)\n",
    "- Import the type of model and layers that you will need from Keras.\n",
    "- Instantiate a model object and use `model.add()` to add layers to your model\n",
    "- Since this is a regression model you will have a single output node in the final layer.\n",
    "- Use activation functions that are appropriate for this task\n",
    "- Compile your model\n",
    "- Fit your model and report its accuracy in terms of Mean Squared Error\n",
    "- Use the history object that is returned from model.fit to make graphs of the model's loss or train/validation accuracies by epoch. \n",
    "- Run this same data through a linear regression model. Which achieves higher accuracy?\n",
    "- Do a little bit of feature engineering and see how that affects your neural network model. (you will need to change your model to accept more inputs)\n",
    "- After feature engineering, which model sees a greater accuracy boost due to the new features?"
   ]
  },
  {
   "cell_type": "code",
   "execution_count": null,
   "metadata": {},
   "outputs": [],
   "source": []
  },
  {
   "cell_type": "code",
   "execution_count": 67,
   "metadata": {
    "colab": {},
    "colab_type": "code",
    "id": "8NLTAR87uYJ-"
   },
   "outputs": [
    {
     "name": "stdout",
     "output_type": "stream",
     "text": [
      "(404, 13)\n",
      "(404,)\n",
      "(102, 13)\n",
      "(102,)\n"
     ]
    }
   ],
   "source": [
    "##### Your Code Here #####\n",
    "\n",
    "# =====Upload the data\n",
    "\n",
    "from keras.datasets import boston_housing\n",
    "(x_train, y_train), (x_test, y_test) = boston_housing.load_data()\n",
    "print(x_train.shape)\n",
    "print(y_train.shape)\n",
    "print(x_test.shape)\n",
    "print(y_test.shape)"
   ]
  },
  {
   "cell_type": "code",
   "execution_count": 16,
   "metadata": {},
   "outputs": [
    {
     "data": {
      "text/plain": [
       "array([[1.23247e+00, 0.00000e+00, 8.14000e+00, ..., 2.10000e+01,\n",
       "        3.96900e+02, 1.87200e+01],\n",
       "       [2.17700e-02, 8.25000e+01, 2.03000e+00, ..., 1.47000e+01,\n",
       "        3.95380e+02, 3.11000e+00],\n",
       "       [4.89822e+00, 0.00000e+00, 1.81000e+01, ..., 2.02000e+01,\n",
       "        3.75520e+02, 3.26000e+00],\n",
       "       ...,\n",
       "       [3.46600e-02, 3.50000e+01, 6.06000e+00, ..., 1.69000e+01,\n",
       "        3.62250e+02, 7.83000e+00],\n",
       "       [2.14918e+00, 0.00000e+00, 1.95800e+01, ..., 1.47000e+01,\n",
       "        2.61950e+02, 1.57900e+01],\n",
       "       [1.43900e-02, 6.00000e+01, 2.93000e+00, ..., 1.56000e+01,\n",
       "        3.76700e+02, 4.38000e+00]])"
      ]
     },
     "execution_count": 16,
     "metadata": {},
     "output_type": "execute_result"
    }
   ],
   "source": [
    "x_train"
   ]
  },
  {
   "cell_type": "code",
   "execution_count": 68,
   "metadata": {},
   "outputs": [
    {
     "name": "stdout",
     "output_type": "stream",
     "text": [
      "(404, 13)\n",
      "(102, 13)\n"
     ]
    }
   ],
   "source": [
    "# =====> Normalize Dataset\n",
    "\n",
    "# Find the min and max values for each column\n",
    "def dataset_minmax(dataset):\n",
    "    minmax = list()\n",
    "    stats = [[min(column), max(column)] for column in zip(*dataset)]\n",
    "    return stats\n",
    "minmax_train = dataset_minmax(x_train)\n",
    "minmax_test = dataset_minmax(x_test)\n",
    "\n",
    "# Rescale dataset columns to the range 0-1\n",
    "def normalize_dataset(dataset, minmax):\n",
    "    for row in dataset:\n",
    "        for i in range(len(row)-1):\n",
    "            row[i] = (row[i] - minmax[i][0]) / (minmax[i][1] - minmax[i][0])\n",
    "    return dataset\n",
    "\n",
    "x_train_normalized = normalize_dataset(x_train, minmax_train) \n",
    "x_test_normalized = normalize_dataset(x_test, minmax_test) \n",
    "\n",
    "print(x_train_normalized.shape)\n",
    "print(x_test_normalized.shape)"
   ]
  },
  {
   "cell_type": "code",
   "execution_count": 69,
   "metadata": {},
   "outputs": [
    {
     "data": {
      "text/plain": [
       "30.73121368467795"
      ]
     },
     "execution_count": 69,
     "metadata": {},
     "output_type": "execute_result"
    }
   ],
   "source": [
    "# ===== > Using linear regression model\n",
    "\n",
    "import numpy as np\n",
    "from sklearn.linear_model import LinearRegression\n",
    "from sklearn.metrics import mean_squared_error\n",
    "\n",
    "lin_model = LinearRegression()\n",
    "lin_model.fit(x_train_normalized, y_train)\n",
    "\n",
    "y_test_predict = lin_model.predict(x_test_normalized)\n",
    "mse = mean_squared_error(y_test, y_test_predict)\n",
    "mse\n"
   ]
  },
  {
   "cell_type": "code",
   "execution_count": 100,
   "metadata": {},
   "outputs": [],
   "source": [
    "# ===== > Using keras NN model\n",
    "import keras\n",
    "from keras.models import Sequential\n",
    "from keras.layers import Dense, Dropout\n",
    "import numpy as np\n",
    "\n",
    "# global hyperparameters\n",
    "\n",
    "batch_size = 64\n",
    "epochs = 150"
   ]
  },
  {
   "cell_type": "code",
   "execution_count": 108,
   "metadata": {},
   "outputs": [
    {
     "name": "stdout",
     "output_type": "stream",
     "text": [
      "_________________________________________________________________\n",
      "Layer (type)                 Output Shape              Param #   \n",
      "=================================================================\n",
      "dense_109 (Dense)            (None, 12)                168       \n",
      "_________________________________________________________________\n",
      "dense_110 (Dense)            (None, 8)                 104       \n",
      "_________________________________________________________________\n",
      "dense_111 (Dense)            (None, 6)                 54        \n",
      "_________________________________________________________________\n",
      "dense_112 (Dense)            (None, 2)                 14        \n",
      "_________________________________________________________________\n",
      "dense_113 (Dense)            (None, 1)                 3         \n",
      "=================================================================\n",
      "Total params: 343\n",
      "Trainable params: 343\n",
      "Non-trainable params: 0\n",
      "_________________________________________________________________\n"
     ]
    }
   ],
   "source": [
    "from keras.layers.advanced_activations import LeakyReLU, PReLU\n",
    "\n",
    "model = Sequential()\n",
    "model.add(Dense(12, activation='relu',input_shape=(13,)))\n",
    "#model.add(LeakyReLU(alpha=.001)) \n",
    "model.add(Dense(8, activation='relu'))\n",
    "model.add(Dense(6, activation='relu'))\n",
    "model.add(Dense(2, activation='relu'))\n",
    "model.add(Dense(1, activation='relu'))\n",
    "#model.add(LeakyReLU(alpha=.001)) \n",
    "model.compile(loss='mean_squared_error', optimizer='adam', metrics=['mse','accuracy'])\n",
    "model.summary()\n"
   ]
  },
  {
   "cell_type": "code",
   "execution_count": 109,
   "metadata": {},
   "outputs": [
    {
     "name": "stdout",
     "output_type": "stream",
     "text": [
      "Epoch 1/150\n",
      "404/404 [==============================] - 4s 11ms/step - loss: 586.1179 - mean_squared_error: 586.1179 - acc: 0.0000e+00\n",
      "Epoch 2/150\n",
      "404/404 [==============================] - 0s 183us/step - loss: 585.2080 - mean_squared_error: 585.2080 - acc: 0.0000e+00\n",
      "Epoch 3/150\n",
      "404/404 [==============================] - 0s 185us/step - loss: 582.5588 - mean_squared_error: 582.5588 - acc: 0.0000e+00\n",
      "Epoch 4/150\n",
      "404/404 [==============================] - 0s 179us/step - loss: 560.4559 - mean_squared_error: 560.4559 - acc: 0.0000e+00\n",
      "Epoch 5/150\n",
      "404/404 [==============================] - 0s 164us/step - loss: 515.5682 - mean_squared_error: 515.5682 - acc: 0.0000e+00\n",
      "Epoch 6/150\n",
      "404/404 [==============================] - 0s 204us/step - loss: 468.0790 - mean_squared_error: 468.0790 - acc: 0.0000e+000s - loss: 469.0913 - mean_squared_error: 469.0913 - acc: 0.0000e+\n",
      "Epoch 7/150\n",
      "404/404 [==============================] - 0s 205us/step - loss: 420.9104 - mean_squared_error: 420.9104 - acc: 0.0000e+00\n",
      "Epoch 8/150\n",
      "404/404 [==============================] - 0s 197us/step - loss: 376.5499 - mean_squared_error: 376.5499 - acc: 0.0000e+00\n",
      "Epoch 9/150\n",
      "404/404 [==============================] - 0s 193us/step - loss: 338.5019 - mean_squared_error: 338.5019 - acc: 0.0000e+00\n",
      "Epoch 10/150\n",
      "404/404 [==============================] - 0s 179us/step - loss: 309.6015 - mean_squared_error: 309.6015 - acc: 0.0000e+00\n",
      "Epoch 11/150\n",
      "404/404 [==============================] - 0s 243us/step - loss: 288.7809 - mean_squared_error: 288.7809 - acc: 0.0000e+00\n",
      "Epoch 12/150\n",
      "404/404 [==============================] - 0s 175us/step - loss: 279.3767 - mean_squared_error: 279.3767 - acc: 0.0050\n",
      "Epoch 13/150\n",
      "404/404 [==============================] - 0s 205us/step - loss: 273.4544 - mean_squared_error: 273.4544 - acc: 0.0000e+00\n",
      "Epoch 14/150\n",
      "404/404 [==============================] - 0s 224us/step - loss: 268.2392 - mean_squared_error: 268.2392 - acc: 0.0000e+00\n",
      "Epoch 15/150\n",
      "404/404 [==============================] - 0s 218us/step - loss: 261.3239 - mean_squared_error: 261.3239 - acc: 0.0000e+00\n",
      "Epoch 16/150\n",
      "404/404 [==============================] - 0s 174us/step - loss: 254.4063 - mean_squared_error: 254.4063 - acc: 0.0000e+00\n",
      "Epoch 17/150\n",
      "404/404 [==============================] - 0s 180us/step - loss: 247.9620 - mean_squared_error: 247.9620 - acc: 0.0000e+00\n",
      "Epoch 18/150\n",
      "404/404 [==============================] - 0s 169us/step - loss: 241.5578 - mean_squared_error: 241.5578 - acc: 0.0000e+00\n",
      "Epoch 19/150\n",
      "404/404 [==============================] - 0s 200us/step - loss: 235.0660 - mean_squared_error: 235.0660 - acc: 0.0000e+00\n",
      "Epoch 20/150\n",
      "404/404 [==============================] - 0s 207us/step - loss: 228.0612 - mean_squared_error: 228.0612 - acc: 0.0025\n",
      "Epoch 21/150\n",
      "404/404 [==============================] - 0s 194us/step - loss: 221.1486 - mean_squared_error: 221.1486 - acc: 0.0025\n",
      "Epoch 22/150\n",
      "404/404 [==============================] - 0s 187us/step - loss: 213.3423 - mean_squared_error: 213.3423 - acc: 0.0025\n",
      "Epoch 23/150\n",
      "404/404 [==============================] - 0s 231us/step - loss: 205.6470 - mean_squared_error: 205.6470 - acc: 0.0050\n",
      "Epoch 24/150\n",
      "404/404 [==============================] - 0s 187us/step - loss: 196.9927 - mean_squared_error: 196.9927 - acc: 0.0050\n",
      "Epoch 25/150\n",
      "404/404 [==============================] - 0s 251us/step - loss: 187.9998 - mean_squared_error: 187.9998 - acc: 0.0074\n",
      "Epoch 26/150\n",
      "404/404 [==============================] - 0s 319us/step - loss: 178.5807 - mean_squared_error: 178.5807 - acc: 0.0074\n",
      "Epoch 27/150\n",
      "404/404 [==============================] - 0s 219us/step - loss: 168.5359 - mean_squared_error: 168.5359 - acc: 0.0074TA: 0s - loss: 156.5242 - mean_squared_error: 156.5242 - acc: 0.0085  \n",
      "Epoch 28/150\n",
      "404/404 [==============================] - 0s 178us/step - loss: 158.3598 - mean_squared_error: 158.3598 - acc: 0.0025\n",
      "Epoch 29/150\n",
      "404/404 [==============================] - 0s 202us/step - loss: 147.1872 - mean_squared_error: 147.1872 - acc: 0.0050\n",
      "Epoch 30/150\n",
      "404/404 [==============================] - 0s 198us/step - loss: 135.5783 - mean_squared_error: 135.5783 - acc: 0.0025\n",
      "Epoch 31/150\n",
      "404/404 [==============================] - 0s 176us/step - loss: 124.4938 - mean_squared_error: 124.4938 - acc: 0.0025\n",
      "Epoch 32/150\n",
      "404/404 [==============================] - 0s 280us/step - loss: 113.3522 - mean_squared_error: 113.3522 - acc: 0.0025\n",
      "Epoch 33/150\n",
      "404/404 [==============================] - 0s 180us/step - loss: 101.7236 - mean_squared_error: 101.7236 - acc: 0.0000e+00\n",
      "Epoch 34/150\n",
      "404/404 [==============================] - 0s 176us/step - loss: 91.1793 - mean_squared_error: 91.1793 - acc: 0.0050\n",
      "Epoch 35/150\n",
      "404/404 [==============================] - 0s 172us/step - loss: 80.1835 - mean_squared_error: 80.1835 - acc: 0.0050\n",
      "Epoch 36/150\n",
      "404/404 [==============================] - 0s 208us/step - loss: 70.7994 - mean_squared_error: 70.7994 - acc: 0.0124\n",
      "Epoch 37/150\n",
      "404/404 [==============================] - 0s 198us/step - loss: 61.9477 - mean_squared_error: 61.9477 - acc: 0.0149\n",
      "Epoch 38/150\n",
      "404/404 [==============================] - 0s 230us/step - loss: 55.5976 - mean_squared_error: 55.5976 - acc: 0.0099\n",
      "Epoch 39/150\n",
      "404/404 [==============================] - 0s 206us/step - loss: 49.5954 - mean_squared_error: 49.5954 - acc: 0.0074\n",
      "Epoch 40/150\n",
      "404/404 [==============================] - 0s 184us/step - loss: 45.2163 - mean_squared_error: 45.2163 - acc: 0.0124\n",
      "Epoch 41/150\n",
      "404/404 [==============================] - 0s 176us/step - loss: 41.5259 - mean_squared_error: 41.5259 - acc: 0.0124\n",
      "Epoch 42/150\n",
      "404/404 [==============================] - 0s 162us/step - loss: 39.0383 - mean_squared_error: 39.0383 - acc: 0.0149\n",
      "Epoch 43/150\n",
      "404/404 [==============================] - 0s 251us/step - loss: 37.2780 - mean_squared_error: 37.2780 - acc: 0.0149\n",
      "Epoch 44/150\n",
      "404/404 [==============================] - 0s 190us/step - loss: 36.0056 - mean_squared_error: 36.0056 - acc: 0.0074\n",
      "Epoch 45/150\n",
      "404/404 [==============================] - 0s 208us/step - loss: 34.7508 - mean_squared_error: 34.7508 - acc: 0.0149\n",
      "Epoch 46/150\n",
      "404/404 [==============================] - 0s 188us/step - loss: 33.6282 - mean_squared_error: 33.6282 - acc: 0.0050\n",
      "Epoch 47/150\n",
      "404/404 [==============================] - 0s 170us/step - loss: 32.7399 - mean_squared_error: 32.7399 - acc: 0.0074\n",
      "Epoch 48/150\n",
      "404/404 [==============================] - 0s 166us/step - loss: 32.1470 - mean_squared_error: 32.1470 - acc: 0.0050\n",
      "Epoch 49/150\n",
      "404/404 [==============================] - 0s 217us/step - loss: 31.5194 - mean_squared_error: 31.5194 - acc: 0.0074\n",
      "Epoch 50/150\n",
      "404/404 [==============================] - 0s 198us/step - loss: 30.9487 - mean_squared_error: 30.9487 - acc: 0.0074\n",
      "Epoch 51/150\n",
      "404/404 [==============================] - 0s 194us/step - loss: 30.6289 - mean_squared_error: 30.6289 - acc: 0.0099\n",
      "Epoch 52/150\n",
      "404/404 [==============================] - 0s 278us/step - loss: 30.1583 - mean_squared_error: 30.1583 - acc: 0.0074\n",
      "Epoch 53/150\n",
      "404/404 [==============================] - 0s 194us/step - loss: 29.7686 - mean_squared_error: 29.7686 - acc: 0.0050\n",
      "Epoch 54/150\n",
      "404/404 [==============================] - 0s 220us/step - loss: 29.2738 - mean_squared_error: 29.2738 - acc: 0.0074\n",
      "Epoch 55/150\n",
      "404/404 [==============================] - 0s 184us/step - loss: 28.9914 - mean_squared_error: 28.9914 - acc: 0.0050\n",
      "Epoch 56/150\n",
      "404/404 [==============================] - 0s 172us/step - loss: 28.7380 - mean_squared_error: 28.7380 - acc: 0.0050\n",
      "Epoch 57/150\n",
      "404/404 [==============================] - 0s 188us/step - loss: 28.7217 - mean_squared_error: 28.7217 - acc: 0.0025\n",
      "Epoch 58/150\n",
      "404/404 [==============================] - 0s 150us/step - loss: 28.6765 - mean_squared_error: 28.6765 - acc: 0.0074\n",
      "Epoch 59/150\n",
      "404/404 [==============================] - 0s 142us/step - loss: 28.3323 - mean_squared_error: 28.3323 - acc: 0.0025\n",
      "Epoch 60/150\n",
      "404/404 [==============================] - 0s 198us/step - loss: 27.9862 - mean_squared_error: 27.9862 - acc: 0.0074\n",
      "Epoch 61/150\n"
     ]
    },
    {
     "name": "stdout",
     "output_type": "stream",
     "text": [
      "404/404 [==============================] - 0s 234us/step - loss: 27.6860 - mean_squared_error: 27.6860 - acc: 0.0000e+00\n",
      "Epoch 62/150\n",
      "404/404 [==============================] - 0s 229us/step - loss: 27.1937 - mean_squared_error: 27.1937 - acc: 0.0074\n",
      "Epoch 63/150\n",
      "404/404 [==============================] - 0s 239us/step - loss: 27.1590 - mean_squared_error: 27.1590 - acc: 0.0025\n",
      "Epoch 64/150\n",
      "404/404 [==============================] - 0s 228us/step - loss: 26.9181 - mean_squared_error: 26.9181 - acc: 0.0074\n",
      "Epoch 65/150\n",
      "404/404 [==============================] - 0s 224us/step - loss: 26.6451 - mean_squared_error: 26.6451 - acc: 0.0025\n",
      "Epoch 66/150\n",
      "404/404 [==============================] - 0s 152us/step - loss: 26.5972 - mean_squared_error: 26.5972 - acc: 0.0074\n",
      "Epoch 67/150\n",
      "404/404 [==============================] - 0s 169us/step - loss: 26.7083 - mean_squared_error: 26.7083 - acc: 0.0025\n",
      "Epoch 68/150\n",
      "404/404 [==============================] - 0s 163us/step - loss: 26.6591 - mean_squared_error: 26.6591 - acc: 0.0099\n",
      "Epoch 69/150\n",
      "404/404 [==============================] - 0s 248us/step - loss: 26.5270 - mean_squared_error: 26.5270 - acc: 0.0074\n",
      "Epoch 70/150\n",
      "404/404 [==============================] - 0s 317us/step - loss: 26.0332 - mean_squared_error: 26.0332 - acc: 0.0000e+00\n",
      "Epoch 71/150\n",
      "404/404 [==============================] - 0s 429us/step - loss: 26.0869 - mean_squared_error: 26.0869 - acc: 0.0124\n",
      "Epoch 72/150\n",
      "404/404 [==============================] - 0s 278us/step - loss: 25.8506 - mean_squared_error: 25.8506 - acc: 0.0050\n",
      "Epoch 73/150\n",
      "404/404 [==============================] - 0s 260us/step - loss: 25.6770 - mean_squared_error: 25.6770 - acc: 0.0025\n",
      "Epoch 74/150\n",
      "404/404 [==============================] - 0s 241us/step - loss: 25.3829 - mean_squared_error: 25.3829 - acc: 0.0050\n",
      "Epoch 75/150\n",
      "404/404 [==============================] - 0s 203us/step - loss: 25.3511 - mean_squared_error: 25.3511 - acc: 0.0050\n",
      "Epoch 76/150\n",
      "404/404 [==============================] - 0s 226us/step - loss: 25.2001 - mean_squared_error: 25.2001 - acc: 0.0050\n",
      "Epoch 77/150\n",
      "404/404 [==============================] - 0s 231us/step - loss: 25.1149 - mean_squared_error: 25.1149 - acc: 0.0074\n",
      "Epoch 78/150\n",
      "404/404 [==============================] - 0s 237us/step - loss: 24.9897 - mean_squared_error: 24.9897 - acc: 0.0025\n",
      "Epoch 79/150\n",
      "404/404 [==============================] - 0s 237us/step - loss: 24.9500 - mean_squared_error: 24.9500 - acc: 0.0025\n",
      "Epoch 80/150\n",
      "404/404 [==============================] - 0s 251us/step - loss: 24.7600 - mean_squared_error: 24.7600 - acc: 0.0099\n",
      "Epoch 81/150\n",
      "404/404 [==============================] - 0s 250us/step - loss: 24.7059 - mean_squared_error: 24.7059 - acc: 0.0050\n",
      "Epoch 82/150\n",
      "404/404 [==============================] - 0s 244us/step - loss: 24.5278 - mean_squared_error: 24.5278 - acc: 0.0099\n",
      "Epoch 83/150\n",
      "404/404 [==============================] - 0s 200us/step - loss: 24.6200 - mean_squared_error: 24.6200 - acc: 0.0074\n",
      "Epoch 84/150\n",
      "404/404 [==============================] - 0s 226us/step - loss: 24.3321 - mean_squared_error: 24.3321 - acc: 0.0124\n",
      "Epoch 85/150\n",
      "404/404 [==============================] - 0s 266us/step - loss: 24.4631 - mean_squared_error: 24.4631 - acc: 0.0124\n",
      "Epoch 86/150\n",
      "404/404 [==============================] - 0s 208us/step - loss: 24.4632 - mean_squared_error: 24.4632 - acc: 0.0099\n",
      "Epoch 87/150\n",
      "404/404 [==============================] - 0s 196us/step - loss: 24.0151 - mean_squared_error: 24.0151 - acc: 0.0050\n",
      "Epoch 88/150\n",
      "404/404 [==============================] - 0s 244us/step - loss: 24.2046 - mean_squared_error: 24.2046 - acc: 0.0074\n",
      "Epoch 89/150\n",
      "404/404 [==============================] - 0s 211us/step - loss: 24.2106 - mean_squared_error: 24.2106 - acc: 0.0099\n",
      "Epoch 90/150\n",
      "404/404 [==============================] - 0s 236us/step - loss: 23.9954 - mean_squared_error: 23.9954 - acc: 0.0074\n",
      "Epoch 91/150\n",
      "404/404 [==============================] - 0s 204us/step - loss: 23.8315 - mean_squared_error: 23.8315 - acc: 0.0074\n",
      "Epoch 92/150\n",
      "404/404 [==============================] - 0s 183us/step - loss: 24.1098 - mean_squared_error: 24.1098 - acc: 0.0074\n",
      "Epoch 93/150\n",
      "404/404 [==============================] - 0s 185us/step - loss: 24.0115 - mean_squared_error: 24.0115 - acc: 0.0050\n",
      "Epoch 94/150\n",
      "404/404 [==============================] - 0s 165us/step - loss: 23.7806 - mean_squared_error: 23.7806 - acc: 0.0124\n",
      "Epoch 95/150\n",
      "404/404 [==============================] - 0s 195us/step - loss: 23.6288 - mean_squared_error: 23.6288 - acc: 0.0124\n",
      "Epoch 96/150\n",
      "404/404 [==============================] - 0s 171us/step - loss: 23.4878 - mean_squared_error: 23.4878 - acc: 0.0074\n",
      "Epoch 97/150\n",
      "404/404 [==============================] - 0s 182us/step - loss: 23.5072 - mean_squared_error: 23.5072 - acc: 0.0074\n",
      "Epoch 98/150\n",
      "404/404 [==============================] - 0s 195us/step - loss: 23.4539 - mean_squared_error: 23.4539 - acc: 0.0074\n",
      "Epoch 99/150\n",
      "404/404 [==============================] - 0s 172us/step - loss: 23.5592 - mean_squared_error: 23.5592 - acc: 0.0074\n",
      "Epoch 100/150\n",
      "404/404 [==============================] - 0s 206us/step - loss: 23.6194 - mean_squared_error: 23.6194 - acc: 0.0099\n",
      "Epoch 101/150\n",
      "404/404 [==============================] - 0s 165us/step - loss: 23.2365 - mean_squared_error: 23.2365 - acc: 0.0025\n",
      "Epoch 102/150\n",
      "404/404 [==============================] - 0s 176us/step - loss: 23.2542 - mean_squared_error: 23.2542 - acc: 0.0099\n",
      "Epoch 103/150\n",
      "404/404 [==============================] - 0s 186us/step - loss: 22.9318 - mean_squared_error: 22.9318 - acc: 0.0074\n",
      "Epoch 104/150\n",
      "404/404 [==============================] - 0s 187us/step - loss: 22.9960 - mean_squared_error: 22.9960 - acc: 0.0074\n",
      "Epoch 105/150\n",
      "404/404 [==============================] - 0s 190us/step - loss: 22.8457 - mean_squared_error: 22.8457 - acc: 0.0074\n",
      "Epoch 106/150\n",
      "404/404 [==============================] - 0s 176us/step - loss: 23.0512 - mean_squared_error: 23.0512 - acc: 0.0099\n",
      "Epoch 107/150\n",
      "404/404 [==============================] - 0s 198us/step - loss: 22.7979 - mean_squared_error: 22.7979 - acc: 0.0124\n",
      "Epoch 108/150\n",
      "404/404 [==============================] - 0s 182us/step - loss: 22.3800 - mean_squared_error: 22.3800 - acc: 0.0050\n",
      "Epoch 109/150\n",
      "404/404 [==============================] - 0s 162us/step - loss: 22.4282 - mean_squared_error: 22.4282 - acc: 0.0050\n",
      "Epoch 110/150\n",
      "404/404 [==============================] - 0s 206us/step - loss: 22.2438 - mean_squared_error: 22.2438 - acc: 0.0050\n",
      "Epoch 111/150\n",
      "404/404 [==============================] - 0s 160us/step - loss: 22.2908 - mean_squared_error: 22.2908 - acc: 0.0074\n",
      "Epoch 112/150\n",
      "404/404 [==============================] - 0s 145us/step - loss: 22.3231 - mean_squared_error: 22.3231 - acc: 0.0050\n",
      "Epoch 113/150\n",
      "404/404 [==============================] - 0s 156us/step - loss: 22.4252 - mean_squared_error: 22.4252 - acc: 0.0099\n",
      "Epoch 114/150\n",
      "404/404 [==============================] - 0s 176us/step - loss: 22.2078 - mean_squared_error: 22.2078 - acc: 0.0099\n",
      "Epoch 115/150\n",
      "404/404 [==============================] - 0s 184us/step - loss: 22.3285 - mean_squared_error: 22.3285 - acc: 0.0025\n",
      "Epoch 116/150\n",
      "404/404 [==============================] - 0s 174us/step - loss: 22.0129 - mean_squared_error: 22.0129 - acc: 0.0099\n",
      "Epoch 117/150\n",
      "404/404 [==============================] - 0s 182us/step - loss: 21.9983 - mean_squared_error: 21.9983 - acc: 0.0050\n",
      "Epoch 118/150\n",
      "404/404 [==============================] - 0s 142us/step - loss: 21.5792 - mean_squared_error: 21.5792 - acc: 0.0074\n",
      "Epoch 119/150\n",
      "404/404 [==============================] - 0s 209us/step - loss: 21.7299 - mean_squared_error: 21.7299 - acc: 0.0050\n",
      "Epoch 120/150\n",
      "404/404 [==============================] - 0s 178us/step - loss: 21.6095 - mean_squared_error: 21.6095 - acc: 0.0074\n",
      "Epoch 121/150\n",
      "404/404 [==============================] - 0s 166us/step - loss: 21.4635 - mean_squared_error: 21.4635 - acc: 0.0050\n",
      "Epoch 122/150\n",
      "404/404 [==============================] - 0s 147us/step - loss: 21.3148 - mean_squared_error: 21.3148 - acc: 0.0050\n",
      "Epoch 123/150\n"
     ]
    },
    {
     "name": "stdout",
     "output_type": "stream",
     "text": [
      "404/404 [==============================] - 0s 184us/step - loss: 21.2698 - mean_squared_error: 21.2698 - acc: 0.0099\n",
      "Epoch 124/150\n",
      "404/404 [==============================] - 0s 137us/step - loss: 21.2434 - mean_squared_error: 21.2434 - acc: 0.0050\n",
      "Epoch 125/150\n",
      "404/404 [==============================] - 0s 276us/step - loss: 21.1202 - mean_squared_error: 21.1202 - acc: 0.0074\n",
      "Epoch 126/150\n",
      "404/404 [==============================] - 0s 256us/step - loss: 21.2413 - mean_squared_error: 21.2413 - acc: 0.0050\n",
      "Epoch 127/150\n",
      "404/404 [==============================] - 0s 208us/step - loss: 21.2194 - mean_squared_error: 21.2194 - acc: 0.0074\n",
      "Epoch 128/150\n",
      "404/404 [==============================] - 0s 211us/step - loss: 21.0816 - mean_squared_error: 21.0816 - acc: 0.0074\n",
      "Epoch 129/150\n",
      "404/404 [==============================] - 0s 232us/step - loss: 20.6922 - mean_squared_error: 20.6922 - acc: 0.0025\n",
      "Epoch 130/150\n",
      "404/404 [==============================] - 0s 206us/step - loss: 20.7406 - mean_squared_error: 20.7406 - acc: 0.0000e+00\n",
      "Epoch 131/150\n",
      "404/404 [==============================] - 0s 208us/step - loss: 20.7268 - mean_squared_error: 20.7268 - acc: 0.0050\n",
      "Epoch 132/150\n",
      "404/404 [==============================] - 0s 226us/step - loss: 20.4429 - mean_squared_error: 20.4429 - acc: 0.0074\n",
      "Epoch 133/150\n",
      "404/404 [==============================] - 0s 216us/step - loss: 20.6046 - mean_squared_error: 20.6046 - acc: 0.0000e+00\n",
      "Epoch 134/150\n",
      "404/404 [==============================] - 0s 232us/step - loss: 20.3761 - mean_squared_error: 20.3761 - acc: 0.0074\n",
      "Epoch 135/150\n",
      "404/404 [==============================] - 0s 224us/step - loss: 20.3361 - mean_squared_error: 20.3361 - acc: 0.0025\n",
      "Epoch 136/150\n",
      "404/404 [==============================] - 0s 175us/step - loss: 20.1077 - mean_squared_error: 20.1077 - acc: 0.0025\n",
      "Epoch 137/150\n",
      "404/404 [==============================] - 0s 164us/step - loss: 20.0516 - mean_squared_error: 20.0516 - acc: 0.0050\n",
      "Epoch 138/150\n",
      "404/404 [==============================] - 0s 183us/step - loss: 20.0071 - mean_squared_error: 20.0071 - acc: 0.0025\n",
      "Epoch 139/150\n",
      "404/404 [==============================] - 0s 188us/step - loss: 19.8885 - mean_squared_error: 19.8885 - acc: 0.0025\n",
      "Epoch 140/150\n",
      "404/404 [==============================] - 0s 186us/step - loss: 19.8345 - mean_squared_error: 19.8345 - acc: 0.0025\n",
      "Epoch 141/150\n",
      "404/404 [==============================] - 0s 244us/step - loss: 19.8559 - mean_squared_error: 19.8559 - acc: 0.0025\n",
      "Epoch 142/150\n",
      "404/404 [==============================] - 0s 205us/step - loss: 20.0719 - mean_squared_error: 20.0719 - acc: 0.0050\n",
      "Epoch 143/150\n",
      "404/404 [==============================] - 0s 181us/step - loss: 19.7524 - mean_squared_error: 19.7524 - acc: 0.0025\n",
      "Epoch 144/150\n",
      "404/404 [==============================] - 0s 213us/step - loss: 19.4605 - mean_squared_error: 19.4605 - acc: 0.0074\n",
      "Epoch 145/150\n",
      "404/404 [==============================] - 0s 235us/step - loss: 19.4433 - mean_squared_error: 19.4433 - acc: 0.0025\n",
      "Epoch 146/150\n",
      "404/404 [==============================] - 0s 184us/step - loss: 19.3435 - mean_squared_error: 19.3435 - acc: 0.0000e+00\n",
      "Epoch 147/150\n",
      "404/404 [==============================] - 0s 189us/step - loss: 19.3412 - mean_squared_error: 19.3412 - acc: 0.0074\n",
      "Epoch 148/150\n",
      "404/404 [==============================] - 0s 201us/step - loss: 19.1172 - mean_squared_error: 19.1172 - acc: 0.0000e+00\n",
      "Epoch 149/150\n",
      "404/404 [==============================] - 0s 183us/step - loss: 19.0570 - mean_squared_error: 19.0570 - acc: 0.0099\n",
      "Epoch 150/150\n",
      "404/404 [==============================] - 0s 180us/step - loss: 18.9428 - mean_squared_error: 18.9428 - acc: 0.0074\n",
      "102/102 [==============================] - 2s 15ms/step\n",
      "mean_squared_error: 42.58260659610524\n"
     ]
    }
   ],
   "source": [
    "history5 = model.fit(x_train_normalized, y_train, epochs=epochs)\n",
    "scores = model.evaluate(x_test_normalized, y_test) \n",
    "print(f\"{model.metrics_names[1]}: {scores[1]}\")"
   ]
  },
  {
   "cell_type": "code",
   "execution_count": 110,
   "metadata": {},
   "outputs": [
    {
     "name": "stdout",
     "output_type": "stream",
     "text": [
      "mean_squared_error: 42.58260659610524\n"
     ]
    }
   ],
   "source": [
    "print(f\"{model.metrics_names[1]}: {scores[1]}\")"
   ]
  },
  {
   "cell_type": "code",
   "execution_count": 103,
   "metadata": {},
   "outputs": [
    {
     "data": {
      "image/png": "[encoded data removed]",
      "text/plain": [
       "<Figure size 432x288 with 1 Axes>"
      ]
     },
     "metadata": {
      "needs_background": "light"
     },
     "output_type": "display_data"
    }
   ],
   "source": [
    "import matplotlib.pyplot as plt\n",
    "training_loss = history4.history['loss']\n",
    "epoch_count = range(1, len(training_loss) + 1)\n",
    "\n",
    "plt.plot(epoch_count, training_loss, 'r--')\n",
    "plt.show()"
   ]
  },
  {
   "cell_type": "code",
   "execution_count": 104,
   "metadata": {},
   "outputs": [
    {
     "data": {
      "image/png": "[encoded data removed]",
      "text/plain": [
       "<Figure size 432x288 with 1 Axes>"
      ]
     },
     "metadata": {
      "needs_background": "light"
     },
     "output_type": "display_data"
    }
   ],
   "source": [
    "import matplotlib.pyplot as plt\n",
    "training_loss = history4.history['acc']\n",
    "epoch_count = range(1, len(training_loss) + 1)\n",
    "\n",
    "plt.plot(epoch_count, training_loss, 'b-')\n",
    "plt.show()"
   ]
  },
  {
   "cell_type": "markdown",
   "metadata": {
    "colab_type": "text",
    "id": "SfcFnOONyuNm"
   },
   "source": [
    "## Use the Keras Library to build an image recognition network using the Fashion-MNIST dataset (also comes with keras)\n",
    "\n",
    "- Load and preprocess the image data similar to how we preprocessed the MNIST data in class.\n",
    "- Make sure to one-hot encode your category labels\n",
    "- Make sure to have your final layer have as many nodes as the number of classes that you want to predict.\n",
    "- Try different hyperparameters. What is the highest accuracy that you are able to achieve.\n",
    "- Use the history object that is returned from model.fit to make graphs of the model's loss or train/validation accuracies by epoch. \n",
    "- Remember that neural networks fall prey to randomness so you may need to run your model multiple times (or use Cross Validation) in order to tell if a change to a hyperparameter is truly producing better results."
   ]
  },
  {
   "cell_type": "code",
   "execution_count": 121,
   "metadata": {
    "colab": {},
    "colab_type": "code",
    "id": "szi6-IpuzaH1"
   },
   "outputs": [
    {
     "name": "stdout",
     "output_type": "stream",
     "text": [
      "(60000, 28, 28)\n",
      "(60000,)\n",
      "(10000, 28, 28)\n",
      "(10000,)\n"
     ]
    }
   ],
   "source": [
    "##### Your Code Here #####\n",
    "from keras.datasets import fashion_mnist\n",
    "(X_train, Y_train), (X_test, Y_test) = fashion_mnist.load_data()\n",
    "print(X_train.shape)\n",
    "print(Y_train.shape)\n",
    "print(X_test.shape)\n",
    "print(Y_test.shape)"
   ]
  },
  {
   "cell_type": "code",
   "execution_count": 124,
   "metadata": {},
   "outputs": [
    {
     "name": "stdout",
     "output_type": "stream",
     "text": [
      "60000 train samples\n",
      "10000 test samples\n"
     ]
    }
   ],
   "source": [
    "# Flatten the images\n",
    "X_train = X_train.reshape(60000, 784)\n",
    "X_test = X_test.reshape(10000, 784)\n",
    "\n",
    "X_train = X_train.astype('float32')\n",
    "X_test = X_test.astype('float32')\n",
    "\n",
    "Y_train = keras.utils.to_categorical(Y_train, 10)\n",
    "Y_test = keras.utils.to_categorical(Y_test, 10)\n",
    "\n",
    "X_train /= 255\n",
    "X_test /= 255\n",
    "\n",
    "print(X_train.shape[0], 'train samples')\n",
    "print(X_test.shape[0], 'test samples')"
   ]
  },
  {
   "cell_type": "code",
   "execution_count": 136,
   "metadata": {},
   "outputs": [
    {
     "name": "stdout",
     "output_type": "stream",
     "text": [
      "_________________________________________________________________\n",
      "Layer (type)                 Output Shape              Param #   \n",
      "=================================================================\n",
      "dense_142 (Dense)            (None, 16)                12560     \n",
      "_________________________________________________________________\n",
      "leaky_re_lu_16 (LeakyReLU)   (None, 16)                0         \n",
      "_________________________________________________________________\n",
      "dense_143 (Dense)            (None, 16)                272       \n",
      "_________________________________________________________________\n",
      "leaky_re_lu_17 (LeakyReLU)   (None, 16)                0         \n",
      "_________________________________________________________________\n",
      "dense_144 (Dense)            (None, 12)                204       \n",
      "_________________________________________________________________\n",
      "leaky_re_lu_18 (LeakyReLU)   (None, 12)                0         \n",
      "_________________________________________________________________\n",
      "dense_145 (Dense)            (None, 10)                130       \n",
      "=================================================================\n",
      "Total params: 13,166\n",
      "Trainable params: 13,166\n",
      "Non-trainable params: 0\n",
      "_________________________________________________________________\n"
     ]
    }
   ],
   "source": [
    "model2 = Sequential()\n",
    "model2.add(Dense(16, input_shape=(784,)))\n",
    "model2.add(LeakyReLU(alpha=.003)) \n",
    "model.add(Dropout(0.1))\n",
    "model2.add(Dense(16))\n",
    "model2.add(LeakyReLU(alpha=.003)) \n",
    "model.add(Dropout(0.1))\n",
    "model2.add(Dense(12))\n",
    "model2.add(LeakyReLU(alpha=.003)) \n",
    "model.add(Dropout(0.1))\n",
    "model2.add(Dense(10, activation='softmax')) \n",
    "model2.compile(loss='sparse_categorical_crossentropy', optimizer='adam', metrics=['accuracy'])\n",
    "model2.summary()\n"
   ]
  },
  {
   "cell_type": "code",
   "execution_count": 137,
   "metadata": {},
   "outputs": [
    {
     "name": "stdout",
     "output_type": "stream",
     "text": [
      "Epoch 1/20\n",
      "60000/60000 [==============================] - 14s 227us/step - loss: 0.6983 - acc: 0.7622\n",
      "Epoch 2/20\n",
      "60000/60000 [==============================] - 9s 150us/step - loss: 0.4716 - acc: 0.8353\n",
      "Epoch 3/20\n",
      "60000/60000 [==============================] - 8s 137us/step - loss: 0.4342 - acc: 0.8493\n",
      "Epoch 4/20\n",
      "60000/60000 [==============================] - 9s 143us/step - loss: 0.4093 - acc: 0.8563\n",
      "Epoch 5/20\n",
      "60000/60000 [==============================] - 9s 157us/step - loss: 0.3908 - acc: 0.8628\n",
      "Epoch 6/20\n",
      "60000/60000 [==============================] - 9s 149us/step - loss: 0.3751 - acc: 0.8672\n",
      "Epoch 7/20\n",
      "60000/60000 [==============================] - 13s 218us/step - loss: 0.3641 - acc: 0.8695\n",
      "Epoch 8/20\n",
      "60000/60000 [==============================] - 12s 204us/step - loss: 0.3528 - acc: 0.8738\n",
      "Epoch 9/20\n",
      "60000/60000 [==============================] - 15s 253us/step - loss: 0.3467 - acc: 0.8755\n",
      "Epoch 10/20\n",
      "60000/60000 [==============================] - 11s 184us/step - loss: 0.3412 - acc: 0.8767\n",
      "Epoch 11/20\n",
      "60000/60000 [==============================] - 11s 187us/step - loss: 0.3347 - acc: 0.8783\n",
      "Epoch 12/20\n",
      "60000/60000 [==============================] - 11s 179us/step - loss: 0.3303 - acc: 0.8808\n",
      "Epoch 13/20\n",
      "60000/60000 [==============================] - 10s 166us/step - loss: 0.3232 - acc: 0.8833\n",
      "Epoch 14/20\n",
      "60000/60000 [==============================] - 9s 152us/step - loss: 0.3199 - acc: 0.8843 0s - loss: 0.3208 -\n",
      "Epoch 15/20\n",
      "60000/60000 [==============================] - 11s 192us/step - loss: 0.3167 - acc: 0.8850\n",
      "Epoch 16/20\n",
      "60000/60000 [==============================] - 12s 195us/step - loss: 0.3131 - acc: 0.8860\n",
      "Epoch 17/20\n",
      "60000/60000 [==============================] - 11s 185us/step - loss: 0.3097 - acc: 0.8865\n",
      "Epoch 18/20\n",
      "60000/60000 [==============================] - 8s 140us/step - loss: 0.3067 - acc: 0.8877\n",
      "Epoch 19/20\n",
      "60000/60000 [==============================] - 9s 147us/step - loss: 0.3026 - acc: 0.8896\n",
      "Epoch 20/20\n",
      "60000/60000 [==============================] - 8s 131us/step - loss: 0.3015 - acc: 0.8903\n",
      "10000/10000 [==============================] - 2s 219us/step\n",
      "acc: 0.8623\n"
     ]
    }
   ],
   "source": [
    "history_mnist_fashion4 = model2.fit(X_train, Y_train, epochs=20)\n",
    "scores = model2.evaluate(X_test, Y_test) \n",
    "print(f\"{model2.metrics_names[1]}: {scores[1]}\")"
   ]
  },
  {
   "cell_type": "code",
   "execution_count": 138,
   "metadata": {},
   "outputs": [
    {
     "data": {
      "image/png": "[encoded data removed]",
      "text/plain": [
       "<Figure size 432x288 with 1 Axes>"
      ]
     },
     "metadata": {
      "needs_background": "light"
     },
     "output_type": "display_data"
    }
   ],
   "source": [
    "training_accuracy = history_mnist_fashion3.history['acc']\n",
    "epoch_count = range(1, len(training_accuracy) + 1)\n",
    "\n",
    "plt.plot(epoch_count, training_accuracy, 'r--')\n",
    "plt.show()"
   ]
  },
  {
   "cell_type": "markdown",
   "metadata": {
    "colab_type": "text",
    "id": "zv_3xNMjzdLI"
   },
   "source": [
    "## Stretch Goals:\n",
    "\n",
    "- Use Hyperparameter Tuning to make the accuracy of your models as high as possible. (error as low as possible)\n",
    "- Use Cross Validation techniques to get more consistent results with your model.\n",
    "- Use GridSearchCV to try different combinations of hyperparameters. \n",
    "- Start looking into other types of Keras layers for CNNs and RNNs maybe try and build a CNN model for fashion-MNIST to see how the results compare."
   ]
  }
 ],
 "metadata": {
  "colab": {
   "name": "LS_DS_433_Keras_Assignment.ipynb",
   "provenance": [],
   "version": "0.3.2"
  },
  "kernelspec": {
   "display_name": "Python 3",
   "language": "python",
   "name": "python3"
  },
  "language_info": {
   "codemirror_mode": {
    "name": "ipython",
    "version": 3
   },
   "file_extension": ".py",
   "mimetype": "text/x-python",
   "name": "python",
   "nbconvert_exporter": "python",
   "pygments_lexer": "ipython3",
   "version": "3.7.2"
  }
 },
 "nbformat": 4,
 "nbformat_minor": 1
}
