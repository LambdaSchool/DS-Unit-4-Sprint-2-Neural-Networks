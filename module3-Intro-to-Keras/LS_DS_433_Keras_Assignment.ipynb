{
  "nbformat": 4,
  "nbformat_minor": 0,
  "metadata": {
    "colab": {
      "name": "LS_DS_433_Keras_Assignment.ipynb",
      "version": "0.3.2",
      "provenance": [],
      "include_colab_link": true
    },
    "kernelspec": {
      "name": "python3",
      "display_name": "Python 3"
    }
  },
  "cells": [
    {
      "cell_type": "markdown",
      "metadata": {
        "id": "view-in-github",
        "colab_type": "text"
      },
      "source": [
        "<a href=\"https://colab.research.google.com/github/derek-shing/DS-Unit-4-Sprint-3-Neural-Networks/blob/master/module3-Intro-to-Keras/LS_DS_433_Keras_Assignment.ipynb\" target=\"_parent\"><img src=\"https://colab.research.google.com/assets/colab-badge.svg\" alt=\"Open In Colab\"/></a>"
      ]
    },
    {
      "cell_type": "markdown",
      "metadata": {
        "id": "pBQsZEJmubLs",
        "colab_type": "text"
      },
      "source": [
        "## Use the Keras Library to build a Multi-Layer Perceptron Model on the Boston Housing dataset\n",
        "\n",
        "- The Boston Housing dataset comes with the Keras library so use Keras to import it into your notebook. \n",
        "- Normalize the data (all features should have roughly the same scale)\n",
        "- Import the type of model and layers that you will need from Keras.\n",
        "- Instantiate a model object and use `model.add()` to add layers to your model\n",
        "- Since this is a regression model you will have a single output node in the final layer.\n",
        "- Use activation functions that are appropriate for this task\n",
        "- Compile your model\n",
        "- Fit your model and report its accuracy in terms of Mean Squared Error\n",
        "- Use the history object that is returned from model.fit to make graphs of the model's loss or train/validation accuracies by epoch. \n",
        "- Run this same data through a linear regression model. Which achieves higher accuracy?\n",
        "- Do a little bit of feature engineering and see how that affects your neural network model. (you will need to change your model to accept more inputs)\n",
        "- After feature engineering, which model sees a greater accuracy boost due to the new features?"
      ]
    },
    {
      "cell_type": "code",
      "metadata": {
        "id": "8NLTAR87uYJ-",
        "colab_type": "code",
        "colab": {}
      },
      "source": [
        "##### Your Code Here #####\n",
        "from keras.models import Sequential\n",
        "from keras.layers import Dense\n",
        "from keras.datasets import boston_housing\n",
        "import numpy\n",
        "import pandas as pd"
      ],
      "execution_count": 0,
      "outputs": []
    },
    {
      "cell_type": "code",
      "metadata": {
        "id": "vOJoG5DjRPZD",
        "colab_type": "code",
        "colab": {
          "base_uri": "https://localhost:8080/",
          "height": 51
        },
        "outputId": "19787c75-b484-46b2-8a91-c9fe65ceef18"
      },
      "source": [
        "(X_train,y_train),(X_test,y_test)=boston_housing.load_data()"
      ],
      "execution_count": 3,
      "outputs": [
        {
          "output_type": "stream",
          "text": [
            "Downloading data from https://s3.amazonaws.com/keras-datasets/boston_housing.npz\n",
            "57344/57026 [==============================] - 0s 0us/step\n"
          ],
          "name": "stdout"
        }
      ]
    },
    {
      "cell_type": "code",
      "metadata": {
        "id": "hoVrm_4EReYD",
        "colab_type": "code",
        "colab": {
          "base_uri": "https://localhost:8080/",
          "height": 34
        },
        "outputId": "639e7d96-fa15-4048-9ef1-2f17bda47a55"
      },
      "source": [
        "X_train.shape,y_train.shape"
      ],
      "execution_count": 7,
      "outputs": [
        {
          "output_type": "execute_result",
          "data": {
            "text/plain": [
              "((404, 13), (404,))"
            ]
          },
          "metadata": {
            "tags": []
          },
          "execution_count": 7
        }
      ]
    },
    {
      "cell_type": "code",
      "metadata": {
        "id": "mRBNOUhdRq_Y",
        "colab_type": "code",
        "colab": {
          "base_uri": "https://localhost:8080/",
          "height": 204
        },
        "outputId": "f7b73145-e47a-4938-d1fc-a621e923360c"
      },
      "source": [
        "pd.DataFrame(X_train).head()"
      ],
      "execution_count": 12,
      "outputs": [
        {
          "output_type": "execute_result",
          "data": {
            "text/html": [
              "<div>\n",
              "<style scoped>\n",
              "    .dataframe tbody tr th:only-of-type {\n",
              "        vertical-align: middle;\n",
              "    }\n",
              "\n",
              "    .dataframe tbody tr th {\n",
              "        vertical-align: top;\n",
              "    }\n",
              "\n",
              "    .dataframe thead th {\n",
              "        text-align: right;\n",
              "    }\n",
              "</style>\n",
              "<table border=\"1\" class=\"dataframe\">\n",
              "  <thead>\n",
              "    <tr style=\"text-align: right;\">\n",
              "      <th></th>\n",
              "      <th>0</th>\n",
              "      <th>1</th>\n",
              "      <th>2</th>\n",
              "      <th>3</th>\n",
              "      <th>4</th>\n",
              "      <th>5</th>\n",
              "      <th>6</th>\n",
              "      <th>7</th>\n",
              "      <th>8</th>\n",
              "      <th>9</th>\n",
              "      <th>10</th>\n",
              "      <th>11</th>\n",
              "      <th>12</th>\n",
              "    </tr>\n",
              "  </thead>\n",
              "  <tbody>\n",
              "    <tr>\n",
              "      <th>0</th>\n",
              "      <td>1.23247</td>\n",
              "      <td>0.0</td>\n",
              "      <td>8.14</td>\n",
              "      <td>0.0</td>\n",
              "      <td>0.538</td>\n",
              "      <td>6.142</td>\n",
              "      <td>91.7</td>\n",
              "      <td>3.9769</td>\n",
              "      <td>4.0</td>\n",
              "      <td>307.0</td>\n",
              "      <td>21.0</td>\n",
              "      <td>396.90</td>\n",
              "      <td>18.72</td>\n",
              "    </tr>\n",
              "    <tr>\n",
              "      <th>1</th>\n",
              "      <td>0.02177</td>\n",
              "      <td>82.5</td>\n",
              "      <td>2.03</td>\n",
              "      <td>0.0</td>\n",
              "      <td>0.415</td>\n",
              "      <td>7.610</td>\n",
              "      <td>15.7</td>\n",
              "      <td>6.2700</td>\n",
              "      <td>2.0</td>\n",
              "      <td>348.0</td>\n",
              "      <td>14.7</td>\n",
              "      <td>395.38</td>\n",
              "      <td>3.11</td>\n",
              "    </tr>\n",
              "    <tr>\n",
              "      <th>2</th>\n",
              "      <td>4.89822</td>\n",
              "      <td>0.0</td>\n",
              "      <td>18.10</td>\n",
              "      <td>0.0</td>\n",
              "      <td>0.631</td>\n",
              "      <td>4.970</td>\n",
              "      <td>100.0</td>\n",
              "      <td>1.3325</td>\n",
              "      <td>24.0</td>\n",
              "      <td>666.0</td>\n",
              "      <td>20.2</td>\n",
              "      <td>375.52</td>\n",
              "      <td>3.26</td>\n",
              "    </tr>\n",
              "    <tr>\n",
              "      <th>3</th>\n",
              "      <td>0.03961</td>\n",
              "      <td>0.0</td>\n",
              "      <td>5.19</td>\n",
              "      <td>0.0</td>\n",
              "      <td>0.515</td>\n",
              "      <td>6.037</td>\n",
              "      <td>34.5</td>\n",
              "      <td>5.9853</td>\n",
              "      <td>5.0</td>\n",
              "      <td>224.0</td>\n",
              "      <td>20.2</td>\n",
              "      <td>396.90</td>\n",
              "      <td>8.01</td>\n",
              "    </tr>\n",
              "    <tr>\n",
              "      <th>4</th>\n",
              "      <td>3.69311</td>\n",
              "      <td>0.0</td>\n",
              "      <td>18.10</td>\n",
              "      <td>0.0</td>\n",
              "      <td>0.713</td>\n",
              "      <td>6.376</td>\n",
              "      <td>88.4</td>\n",
              "      <td>2.5671</td>\n",
              "      <td>24.0</td>\n",
              "      <td>666.0</td>\n",
              "      <td>20.2</td>\n",
              "      <td>391.43</td>\n",
              "      <td>14.65</td>\n",
              "    </tr>\n",
              "  </tbody>\n",
              "</table>\n",
              "</div>"
            ],
            "text/plain": [
              "        0     1      2    3      4      5      6       7     8      9     10  \\\n",
              "0  1.23247   0.0   8.14  0.0  0.538  6.142   91.7  3.9769   4.0  307.0  21.0   \n",
              "1  0.02177  82.5   2.03  0.0  0.415  7.610   15.7  6.2700   2.0  348.0  14.7   \n",
              "2  4.89822   0.0  18.10  0.0  0.631  4.970  100.0  1.3325  24.0  666.0  20.2   \n",
              "3  0.03961   0.0   5.19  0.0  0.515  6.037   34.5  5.9853   5.0  224.0  20.2   \n",
              "4  3.69311   0.0  18.10  0.0  0.713  6.376   88.4  2.5671  24.0  666.0  20.2   \n",
              "\n",
              "       11     12  \n",
              "0  396.90  18.72  \n",
              "1  395.38   3.11  \n",
              "2  375.52   3.26  \n",
              "3  396.90   8.01  \n",
              "4  391.43  14.65  "
            ]
          },
          "metadata": {
            "tags": []
          },
          "execution_count": 12
        }
      ]
    },
    {
      "cell_type": "code",
      "metadata": {
        "id": "r03ToLR1Sn91",
        "colab_type": "code",
        "colab": {}
      },
      "source": [
        "from sklearn import preprocessing\n"
      ],
      "execution_count": 0,
      "outputs": []
    },
    {
      "cell_type": "code",
      "metadata": {
        "id": "HDH6KEcLTNJd",
        "colab_type": "code",
        "colab": {
          "base_uri": "https://localhost:8080/",
          "height": 204
        },
        "outputId": "519c37f8-416f-4b38-d969-3935da19088e"
      },
      "source": [
        "scaler = preprocessing.StandardScaler()\n",
        "X_train = scaler.fit_transform(X_train)\n",
        "X_test = scaler.transform(X_test)\n",
        "pd.DataFrame(X_train).head()"
      ],
      "execution_count": 17,
      "outputs": [
        {
          "output_type": "execute_result",
          "data": {
            "text/html": [
              "<div>\n",
              "<style scoped>\n",
              "    .dataframe tbody tr th:only-of-type {\n",
              "        vertical-align: middle;\n",
              "    }\n",
              "\n",
              "    .dataframe tbody tr th {\n",
              "        vertical-align: top;\n",
              "    }\n",
              "\n",
              "    .dataframe thead th {\n",
              "        text-align: right;\n",
              "    }\n",
              "</style>\n",
              "<table border=\"1\" class=\"dataframe\">\n",
              "  <thead>\n",
              "    <tr style=\"text-align: right;\">\n",
              "      <th></th>\n",
              "      <th>0</th>\n",
              "      <th>1</th>\n",
              "      <th>2</th>\n",
              "      <th>3</th>\n",
              "      <th>4</th>\n",
              "      <th>5</th>\n",
              "      <th>6</th>\n",
              "      <th>7</th>\n",
              "      <th>8</th>\n",
              "      <th>9</th>\n",
              "      <th>10</th>\n",
              "      <th>11</th>\n",
              "      <th>12</th>\n",
              "    </tr>\n",
              "  </thead>\n",
              "  <tbody>\n",
              "    <tr>\n",
              "      <th>0</th>\n",
              "      <td>-0.272246</td>\n",
              "      <td>-0.483615</td>\n",
              "      <td>-0.435762</td>\n",
              "      <td>-0.256833</td>\n",
              "      <td>-0.165227</td>\n",
              "      <td>-0.176443</td>\n",
              "      <td>0.813062</td>\n",
              "      <td>0.116698</td>\n",
              "      <td>-0.626249</td>\n",
              "      <td>-0.595170</td>\n",
              "      <td>1.148500</td>\n",
              "      <td>0.448077</td>\n",
              "      <td>0.825220</td>\n",
              "    </tr>\n",
              "    <tr>\n",
              "      <th>1</th>\n",
              "      <td>-0.403427</td>\n",
              "      <td>2.991784</td>\n",
              "      <td>-1.333912</td>\n",
              "      <td>-0.256833</td>\n",
              "      <td>-1.215182</td>\n",
              "      <td>1.894346</td>\n",
              "      <td>-1.910361</td>\n",
              "      <td>1.247585</td>\n",
              "      <td>-0.856463</td>\n",
              "      <td>-0.348433</td>\n",
              "      <td>-1.718189</td>\n",
              "      <td>0.431906</td>\n",
              "      <td>-1.329202</td>\n",
              "    </tr>\n",
              "    <tr>\n",
              "      <th>2</th>\n",
              "      <td>0.124940</td>\n",
              "      <td>-0.483615</td>\n",
              "      <td>1.028326</td>\n",
              "      <td>-0.256833</td>\n",
              "      <td>0.628642</td>\n",
              "      <td>-1.829688</td>\n",
              "      <td>1.110488</td>\n",
              "      <td>-1.187439</td>\n",
              "      <td>1.675886</td>\n",
              "      <td>1.565287</td>\n",
              "      <td>0.784476</td>\n",
              "      <td>0.220617</td>\n",
              "      <td>-1.308500</td>\n",
              "    </tr>\n",
              "    <tr>\n",
              "      <th>3</th>\n",
              "      <td>-0.401494</td>\n",
              "      <td>-0.483615</td>\n",
              "      <td>-0.869402</td>\n",
              "      <td>-0.256833</td>\n",
              "      <td>-0.361560</td>\n",
              "      <td>-0.324558</td>\n",
              "      <td>-1.236672</td>\n",
              "      <td>1.107180</td>\n",
              "      <td>-0.511142</td>\n",
              "      <td>-1.094663</td>\n",
              "      <td>0.784476</td>\n",
              "      <td>0.448077</td>\n",
              "      <td>-0.652926</td>\n",
              "    </tr>\n",
              "    <tr>\n",
              "      <th>4</th>\n",
              "      <td>-0.005634</td>\n",
              "      <td>-0.483615</td>\n",
              "      <td>1.028326</td>\n",
              "      <td>-0.256833</td>\n",
              "      <td>1.328612</td>\n",
              "      <td>0.153642</td>\n",
              "      <td>0.694808</td>\n",
              "      <td>-0.578572</td>\n",
              "      <td>1.675886</td>\n",
              "      <td>1.565287</td>\n",
              "      <td>0.784476</td>\n",
              "      <td>0.389882</td>\n",
              "      <td>0.263497</td>\n",
              "    </tr>\n",
              "  </tbody>\n",
              "</table>\n",
              "</div>"
            ],
            "text/plain": [
              "         0         1         2         3         4         5         6   \\\n",
              "0 -0.272246 -0.483615 -0.435762 -0.256833 -0.165227 -0.176443  0.813062   \n",
              "1 -0.403427  2.991784 -1.333912 -0.256833 -1.215182  1.894346 -1.910361   \n",
              "2  0.124940 -0.483615  1.028326 -0.256833  0.628642 -1.829688  1.110488   \n",
              "3 -0.401494 -0.483615 -0.869402 -0.256833 -0.361560 -0.324558 -1.236672   \n",
              "4 -0.005634 -0.483615  1.028326 -0.256833  1.328612  0.153642  0.694808   \n",
              "\n",
              "         7         8         9         10        11        12  \n",
              "0  0.116698 -0.626249 -0.595170  1.148500  0.448077  0.825220  \n",
              "1  1.247585 -0.856463 -0.348433 -1.718189  0.431906 -1.329202  \n",
              "2 -1.187439  1.675886  1.565287  0.784476  0.220617 -1.308500  \n",
              "3  1.107180 -0.511142 -1.094663  0.784476  0.448077 -0.652926  \n",
              "4 -0.578572  1.675886  1.565287  0.784476  0.389882  0.263497  "
            ]
          },
          "metadata": {
            "tags": []
          },
          "execution_count": 17
        }
      ]
    },
    {
      "cell_type": "code",
      "metadata": {
        "id": "khEnQn4tZzz7",
        "colab_type": "code",
        "colab": {
          "base_uri": "https://localhost:8080/",
          "height": 34
        },
        "outputId": "2c535aa5-75be-4458-823f-5c7bb4e9cfb8"
      },
      "source": [
        "X_train.shape"
      ],
      "execution_count": 20,
      "outputs": [
        {
          "output_type": "execute_result",
          "data": {
            "text/plain": [
              "(404, 13)"
            ]
          },
          "metadata": {
            "tags": []
          },
          "execution_count": 20
        }
      ]
    },
    {
      "cell_type": "code",
      "metadata": {
        "id": "TyflflQMUNe9",
        "colab_type": "code",
        "colab": {
          "base_uri": "https://localhost:8080/",
          "height": 238
        },
        "outputId": "06282ff7-09ea-417f-bc75-8c771c5097c9"
      },
      "source": [
        "model = Sequential()\n",
        "model.add(Dense(16, input_dim=13, activation='relu'))\n",
        "model.add(Dense(16, activation='relu'))\n",
        "model.add(Dense(1, activation='linear'))\n",
        "model.compile(loss='mean_squared_error', optimizer='adam',metrics=['mean_squared_error'])\n",
        "model.summary()"
      ],
      "execution_count": 24,
      "outputs": [
        {
          "output_type": "stream",
          "text": [
            "_________________________________________________________________\n",
            "Layer (type)                 Output Shape              Param #   \n",
            "=================================================================\n",
            "dense_5 (Dense)              (None, 16)                224       \n",
            "_________________________________________________________________\n",
            "dense_6 (Dense)              (None, 16)                272       \n",
            "_________________________________________________________________\n",
            "dense_7 (Dense)              (None, 1)                 17        \n",
            "=================================================================\n",
            "Total params: 513\n",
            "Trainable params: 513\n",
            "Non-trainable params: 0\n",
            "_________________________________________________________________\n"
          ],
          "name": "stdout"
        }
      ]
    },
    {
      "cell_type": "code",
      "metadata": {
        "id": "m5kUCCslcyDl",
        "colab_type": "code",
        "colab": {}
      },
      "source": [
        ""
      ],
      "execution_count": 0,
      "outputs": []
    },
    {
      "cell_type": "code",
      "metadata": {
        "id": "CSBuGoJxaQO-",
        "colab_type": "code",
        "colab": {}
      },
      "source": [
        "model.fit(X_train, y_train, epochs=150)\n",
        "\n"
      ],
      "execution_count": 0,
      "outputs": []
    },
    {
      "cell_type": "code",
      "metadata": {
        "id": "O_sT4r32ac-o",
        "colab_type": "code",
        "colab": {
          "base_uri": "https://localhost:8080/",
          "height": 51
        },
        "outputId": "dd22e544-022e-4c78-d322-02688b6dcc59"
      },
      "source": [
        "scores = model.evaluate(X_test, y_test)\n",
        "scores"
      ],
      "execution_count": 26,
      "outputs": [
        {
          "output_type": "stream",
          "text": [
            "102/102 [==============================] - 0s 478us/step\n"
          ],
          "name": "stdout"
        },
        {
          "output_type": "execute_result",
          "data": {
            "text/plain": [
              "[5866197.68627451, 5866197.68627451]"
            ]
          },
          "metadata": {
            "tags": []
          },
          "execution_count": 26
        }
      ]
    },
    {
      "cell_type": "markdown",
      "metadata": {
        "id": "SfcFnOONyuNm",
        "colab_type": "text"
      },
      "source": [
        "## Use the Keras Library to build an image recognition network using the Fashion-MNIST dataset (also comes with keras)\n",
        "\n",
        "- Load and preprocess the image data similar to how we preprocessed the MNIST data in class.\n",
        "- Make sure to one-hot encode your category labels\n",
        "- Make sure to have your final layer have as many nodes as the number of classes that you want to predict.\n",
        "- Try different hyperparameters. What is the highest accuracy that you are able to achieve.\n",
        "- Use the history object that is returned from model.fit to make graphs of the model's loss or train/validation accuracies by epoch. \n",
        "- Remember that neural networks fall prey to randomness so you may need to run your model multiple times (or use Cross Validation) in order to tell if a change to a hyperparameter is truly producing better results."
      ]
    },
    {
      "cell_type": "code",
      "metadata": {
        "id": "szi6-IpuzaH1",
        "colab_type": "code",
        "colab": {
          "base_uri": "https://localhost:8080/",
          "height": 153
        },
        "outputId": "50ffd277-2947-4fc5-954e-3e7efb9e81e6"
      },
      "source": [
        "##### Your Code Here #####\n",
        "from keras.datasets import fashion_mnist\n",
        "\n",
        "(X_train, y_train),(X_test,y_test) = fashion_mnist.load_data()"
      ],
      "execution_count": 28,
      "outputs": [
        {
          "output_type": "stream",
          "text": [
            "Downloading data from http://fashion-mnist.s3-website.eu-central-1.amazonaws.com/train-labels-idx1-ubyte.gz\n",
            "32768/29515 [=================================] - 0s 3us/step\n",
            "Downloading data from http://fashion-mnist.s3-website.eu-central-1.amazonaws.com/train-images-idx3-ubyte.gz\n",
            "26427392/26421880 [==============================] - 2s 0us/step\n",
            "Downloading data from http://fashion-mnist.s3-website.eu-central-1.amazonaws.com/t10k-labels-idx1-ubyte.gz\n",
            "8192/5148 [===============================================] - 0s 0us/step\n",
            "Downloading data from http://fashion-mnist.s3-website.eu-central-1.amazonaws.com/t10k-images-idx3-ubyte.gz\n",
            "4423680/4422102 [==============================] - 1s 0us/step\n"
          ],
          "name": "stdout"
        }
      ]
    },
    {
      "cell_type": "code",
      "metadata": {
        "id": "eq7sgXhkfqK-",
        "colab_type": "code",
        "colab": {}
      },
      "source": [
        "pd.Series(y_train).value_counts()"
      ],
      "execution_count": 0,
      "outputs": []
    },
    {
      "cell_type": "code",
      "metadata": {
        "id": "A96_5EKBg7bc",
        "colab_type": "code",
        "colab": {}
      },
      "source": [
        "import keras\n",
        "y_train = keras.utils.to_categorical(y_train, 10)\n",
        "y_test = keras.utils.to_categorical(y_test, 10)"
      ],
      "execution_count": 0,
      "outputs": []
    },
    {
      "cell_type": "code",
      "metadata": {
        "id": "x-3z8xtjhOfm",
        "colab_type": "code",
        "colab": {
          "base_uri": "https://localhost:8080/",
          "height": 34
        },
        "outputId": "5cf19e2e-7236-4a17-d8d7-35c222b9936d"
      },
      "source": [
        "X_train.shape"
      ],
      "execution_count": 35,
      "outputs": [
        {
          "output_type": "execute_result",
          "data": {
            "text/plain": [
              "(60000, 28, 28)"
            ]
          },
          "metadata": {
            "tags": []
          },
          "execution_count": 35
        }
      ]
    },
    {
      "cell_type": "code",
      "metadata": {
        "id": "o9fOs-2shX51",
        "colab_type": "code",
        "colab": {}
      },
      "source": [
        "X_train = X_train.reshape(60000, 784)\n",
        "X_test = X_test.reshape(10000, 784)"
      ],
      "execution_count": 0,
      "outputs": []
    },
    {
      "cell_type": "code",
      "metadata": {
        "id": "2yldvfgphg-j",
        "colab_type": "code",
        "colab": {}
      },
      "source": [
        "X_train[10]"
      ],
      "execution_count": 0,
      "outputs": []
    },
    {
      "cell_type": "code",
      "metadata": {
        "id": "Y8wGuZP9hts-",
        "colab_type": "code",
        "colab": {}
      },
      "source": [
        "X_train /= 255\n",
        "X_test /= 255"
      ],
      "execution_count": 0,
      "outputs": []
    },
    {
      "cell_type": "code",
      "metadata": {
        "id": "XKyORdBTh39Z",
        "colab_type": "code",
        "colab": {
          "base_uri": "https://localhost:8080/",
          "height": 238
        },
        "outputId": "eba05d83-fd31-4614-ceae-de0cfca0d050"
      },
      "source": [
        "mnist_model = Sequential()\n",
        "mnist_model.add(Dense(16, input_shape=(784,), activation='relu'))  # input\n",
        "\n",
        "# model.add(Dropout(0.1))\n",
        "\n",
        "mnist_model.add(Dense(16, activation='relu'))  # hidden\n",
        "\n",
        "# model.add(Dropout(0.1))\n",
        "\n",
        "mnist_model.add(Dense(10, activation='softmax'))  # output\n",
        "mnist_model.compile(loss='categorical_crossentropy', optimizer='adam',\n",
        "                    metrics=['accuracy'])\n",
        "mnist_model.summary()"
      ],
      "execution_count": 41,
      "outputs": [
        {
          "output_type": "stream",
          "text": [
            "_________________________________________________________________\n",
            "Layer (type)                 Output Shape              Param #   \n",
            "=================================================================\n",
            "dense_10 (Dense)             (None, 16)                12560     \n",
            "_________________________________________________________________\n",
            "dense_11 (Dense)             (None, 16)                272       \n",
            "_________________________________________________________________\n",
            "dense_12 (Dense)             (None, 10)                170       \n",
            "=================================================================\n",
            "Total params: 13,002\n",
            "Trainable params: 13,002\n",
            "Non-trainable params: 0\n",
            "_________________________________________________________________\n"
          ],
          "name": "stdout"
        }
      ]
    },
    {
      "cell_type": "code",
      "metadata": {
        "id": "GA-kz98ziDZ-",
        "colab_type": "code",
        "colab": {
          "base_uri": "https://localhost:8080/",
          "height": 731
        },
        "outputId": "64cbe749-038a-42d6-b463-d8e2511410f4"
      },
      "source": [
        "history = mnist_model.fit(X_train, y_train, epochs=20, validation_split=.1)\n",
        "scores = mnist_model.evaluate(X_test, y_test)"
      ],
      "execution_count": 44,
      "outputs": [
        {
          "output_type": "stream",
          "text": [
            "Train on 54000 samples, validate on 6000 samples\n",
            "Epoch 1/20\n",
            "54000/54000 [==============================] - 3s 50us/step - loss: 1.2628 - acc: 0.4443 - val_loss: 1.2194 - val_acc: 0.4495\n",
            "Epoch 2/20\n",
            "54000/54000 [==============================] - 3s 50us/step - loss: 1.2579 - acc: 0.4499 - val_loss: 1.2051 - val_acc: 0.4635\n",
            "Epoch 3/20\n",
            "54000/54000 [==============================] - 3s 51us/step - loss: 1.2404 - acc: 0.4530 - val_loss: 1.3056 - val_acc: 0.4405\n",
            "Epoch 4/20\n",
            "54000/54000 [==============================] - 3s 48us/step - loss: 1.2429 - acc: 0.4526 - val_loss: 1.2213 - val_acc: 0.4503\n",
            "Epoch 5/20\n",
            "54000/54000 [==============================] - 3s 48us/step - loss: 1.2684 - acc: 0.4551 - val_loss: 2.0471 - val_acc: 0.3878\n",
            "Epoch 6/20\n",
            "54000/54000 [==============================] - 3s 48us/step - loss: 1.2598 - acc: 0.4416 - val_loss: 1.2240 - val_acc: 0.4678\n",
            "Epoch 7/20\n",
            "54000/54000 [==============================] - 3s 48us/step - loss: 1.2141 - acc: 0.4500 - val_loss: 1.2285 - val_acc: 0.4430\n",
            "Epoch 8/20\n",
            "54000/54000 [==============================] - 3s 48us/step - loss: 1.3056 - acc: 0.4324 - val_loss: 1.2402 - val_acc: 0.4527\n",
            "Epoch 9/20\n",
            "54000/54000 [==============================] - 3s 48us/step - loss: 1.2514 - acc: 0.4450 - val_loss: 2.7272 - val_acc: 0.3760\n",
            "Epoch 10/20\n",
            "54000/54000 [==============================] - 3s 47us/step - loss: 1.2610 - acc: 0.4366 - val_loss: 1.2085 - val_acc: 0.4448\n",
            "Epoch 11/20\n",
            "54000/54000 [==============================] - 3s 47us/step - loss: 1.2195 - acc: 0.4453 - val_loss: 1.2164 - val_acc: 0.4415\n",
            "Epoch 12/20\n",
            "54000/54000 [==============================] - 3s 47us/step - loss: 1.2498 - acc: 0.4418 - val_loss: 1.2254 - val_acc: 0.4432\n",
            "Epoch 13/20\n",
            "54000/54000 [==============================] - 3s 48us/step - loss: 1.2062 - acc: 0.4588 - val_loss: 1.1930 - val_acc: 0.4585\n",
            "Epoch 14/20\n",
            "54000/54000 [==============================] - 3s 47us/step - loss: 1.2419 - acc: 0.4503 - val_loss: 1.2313 - val_acc: 0.4615\n",
            "Epoch 15/20\n",
            "54000/54000 [==============================] - 3s 48us/step - loss: 1.1892 - acc: 0.4736 - val_loss: 1.2333 - val_acc: 0.4722\n",
            "Epoch 16/20\n",
            "54000/54000 [==============================] - 3s 55us/step - loss: 1.2657 - acc: 0.4629 - val_loss: 1.3060 - val_acc: 0.4418\n",
            "Epoch 17/20\n",
            "54000/54000 [==============================] - 3s 49us/step - loss: 1.2077 - acc: 0.4756 - val_loss: 1.2058 - val_acc: 0.4867\n",
            "Epoch 18/20\n",
            "54000/54000 [==============================] - 3s 49us/step - loss: 1.3121 - acc: 0.4606 - val_loss: 1.2123 - val_acc: 0.4687\n",
            "Epoch 19/20\n",
            "54000/54000 [==============================] - 3s 50us/step - loss: 1.2064 - acc: 0.4838 - val_loss: 1.2116 - val_acc: 0.4817\n",
            "Epoch 20/20\n",
            "54000/54000 [==============================] - 3s 50us/step - loss: 1.3387 - acc: 0.4760 - val_loss: 1.5241 - val_acc: 0.4307\n",
            "10000/10000 [==============================] - 0s 23us/step\n"
          ],
          "name": "stdout"
        }
      ]
    },
    {
      "cell_type": "code",
      "metadata": {
        "id": "os3WfzhLilgf",
        "colab_type": "code",
        "colab": {
          "base_uri": "https://localhost:8080/",
          "height": 34
        },
        "outputId": "0c04d030-9019-4772-c77d-d042205f4f79"
      },
      "source": [
        "scores"
      ],
      "execution_count": 45,
      "outputs": [
        {
          "output_type": "execute_result",
          "data": {
            "text/plain": [
              "[1.5437485486984253, 0.4309]"
            ]
          },
          "metadata": {
            "tags": []
          },
          "execution_count": 45
        }
      ]
    },
    {
      "cell_type": "markdown",
      "metadata": {
        "id": "zv_3xNMjzdLI",
        "colab_type": "text"
      },
      "source": [
        "## Stretch Goals:\n",
        "\n",
        "- Use Hyperparameter Tuning to make the accuracy of your models as high as possible. (error as low as possible)\n",
        "- Use Cross Validation techniques to get more consistent results with your model.\n",
        "- Use GridSearchCV to try different combinations of hyperparameters. \n",
        "- Start looking into other types of Keras layers for CNNs and RNNs maybe try and build a CNN model for fashion-MNIST to see how the results compare."
      ]
    }
  ]
}