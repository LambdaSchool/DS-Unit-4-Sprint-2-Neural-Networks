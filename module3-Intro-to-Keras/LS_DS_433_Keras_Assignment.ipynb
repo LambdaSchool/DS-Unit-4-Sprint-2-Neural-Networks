{
 "cells": [
  {
   "cell_type": "markdown",
   "metadata": {
    "colab_type": "text",
    "id": "pBQsZEJmubLs"
   },
   "source": [
    "<img align=\"left\" src=\"https://lever-client-logos.s3.amazonaws.com/864372b1-534c-480e-acd5-9711f850815c-1524247202159.png\" width=200>\n",
    "<br></br>\n",
    "\n",
    "# Neural Network Framework (Keras)\n",
    "\n",
    "## *Data Science Unit 4 Sprint 2 Assignment 3*\n",
    "\n",
    "## Use the Keras Library to build a Multi-Layer Perceptron Model on the Boston Housing dataset\n",
    "\n",
    "- The Boston Housing dataset comes with the Keras library so use Keras to import it into your notebook. \n",
    "- Normalize the data (all features should have roughly the same scale)\n",
    "- Import the type of model and layers that you will need from Keras.\n",
    "- Instantiate a model object and use `model.add()` to add layers to your model\n",
    "- Since this is a regression model you will have a single output node in the final layer.\n",
    "- Use activation functions that are appropriate for this task\n",
    "- Compile your model\n",
    "- Fit your model and report its accuracy in terms of Mean Squared Error\n",
    "- Use the history object that is returned from model.fit to make graphs of the model's loss or train/validation accuracies by epoch. \n",
    "- Run this same data through a linear regression model. Which achieves higher accuracy?\n",
    "- Do a little bit of feature engineering and see how that affects your neural network model. (you will need to change your model to accept more inputs)\n",
    "- After feature engineering, which model sees a greater accuracy boost due to the new features?"
   ]
  },
  {
   "cell_type": "code",
   "execution_count": 47,
   "metadata": {
    "colab": {},
    "colab_type": "code",
    "id": "8NLTAR87uYJ-"
   },
   "outputs": [],
   "source": [
    "##### Your Code Here #####\n",
    "import pandas as pd\n",
    "# import numpy as np\n",
    "from sklearn.preprocessing import StandardScaler\n",
    "from tensorflow.keras.datasets import boston_housing\n",
    "from tensorflow.keras.models import Sequential\n",
    "from tensorflow.keras.layers import Dense, Dropout, Activation, Flatten\n",
    "from tensorflow.keras.optimizers import RMSprop, Adam\n",
    "from tensorflow.keras.losses import mean_squared_error, categorical_crossentropy\n",
    "from tensorflow.keras.callbacks import EarlyStopping, TensorBoard\n",
    "import os, datetime\n",
    "\n",
    "(X_train, y_train), (X_test, y_test) = boston_housing.load_data()"
   ]
  },
  {
   "cell_type": "code",
   "execution_count": 48,
   "metadata": {
    "colab": {},
    "colab_type": "code",
    "id": "HARj7Rx1lKkh"
   },
   "outputs": [],
   "source": [
    "scaler = StandardScaler()\n",
    "scaler.fit(X_train)\n",
    "X_train = scaler.transform(X_train)\n",
    "X_test = scaler.transform(X_test)"
   ]
  },
  {
   "cell_type": "code",
   "execution_count": 57,
   "metadata": {
    "colab": {
     "base_uri": "https://localhost:8080/",
     "height": 1000
    },
    "colab_type": "code",
    "id": "0e2Ts5ycsYB1",
    "outputId": "438aef72-5041-4232-fe71-bfe9f44c5716"
   },
   "outputs": [
    {
     "name": "stdout",
     "output_type": "stream",
     "text": [
      "Train on 323 samples, validate on 81 samples\n",
      "Epoch 1/999\n",
      "323/323 [==============================] - 0s 1ms/sample - loss: 562.9315 - mse: 562.9315 - val_loss: 628.3121 - val_mse: 628.3121\n",
      "Epoch 2/999\n",
      "323/323 [==============================] - 0s 82us/sample - loss: 557.4299 - mse: 557.4299 - val_loss: 621.4601 - val_mse: 621.4601\n",
      "Epoch 3/999\n",
      "323/323 [==============================] - 0s 78us/sample - loss: 551.3923 - mse: 551.3924 - val_loss: 613.4703 - val_mse: 613.4703\n",
      "Epoch 4/999\n",
      "323/323 [==============================] - 0s 71us/sample - loss: 543.4337 - mse: 543.4337 - val_loss: 603.6888 - val_mse: 603.6888\n",
      "Epoch 5/999\n",
      "323/323 [==============================] - 0s 71us/sample - loss: 533.8894 - mse: 533.8893 - val_loss: 592.2891 - val_mse: 592.2891\n",
      "Epoch 6/999\n",
      "323/323 [==============================] - 0s 68us/sample - loss: 523.7153 - mse: 523.7153 - val_loss: 579.1562 - val_mse: 579.1561\n",
      "Epoch 7/999\n",
      "323/323 [==============================] - 0s 77us/sample - loss: 509.8452 - mse: 509.8452 - val_loss: 563.2378 - val_mse: 563.2377\n",
      "Epoch 8/999\n",
      "323/323 [==============================] - 0s 64us/sample - loss: 491.8573 - mse: 491.8572 - val_loss: 542.8840 - val_mse: 542.8840\n",
      "Epoch 9/999\n",
      "323/323 [==============================] - 0s 67us/sample - loss: 470.3892 - mse: 470.3892 - val_loss: 517.1504 - val_mse: 517.1505\n",
      "Epoch 10/999\n",
      "323/323 [==============================] - 0s 69us/sample - loss: 443.4838 - mse: 443.4838 - val_loss: 485.5727 - val_mse: 485.5727\n",
      "Epoch 11/999\n",
      "323/323 [==============================] - 0s 66us/sample - loss: 413.4169 - mse: 413.4169 - val_loss: 448.5031 - val_mse: 448.5031\n",
      "Epoch 12/999\n",
      "323/323 [==============================] - 0s 69us/sample - loss: 373.7121 - mse: 373.7120 - val_loss: 408.9209 - val_mse: 408.9209\n",
      "Epoch 13/999\n",
      "323/323 [==============================] - 0s 71us/sample - loss: 337.1367 - mse: 337.1367 - val_loss: 366.7246 - val_mse: 366.7246\n",
      "Epoch 14/999\n",
      "323/323 [==============================] - 0s 63us/sample - loss: 300.1670 - mse: 300.1670 - val_loss: 323.0016 - val_mse: 323.0016\n",
      "Epoch 15/999\n",
      "323/323 [==============================] - 0s 63us/sample - loss: 261.0739 - mse: 261.0739 - val_loss: 280.3257 - val_mse: 280.3257\n",
      "Epoch 16/999\n",
      "323/323 [==============================] - 0s 66us/sample - loss: 220.9244 - mse: 220.9244 - val_loss: 239.2170 - val_mse: 239.2170\n",
      "Epoch 17/999\n",
      "323/323 [==============================] - 0s 63us/sample - loss: 187.8301 - mse: 187.8301 - val_loss: 200.2826 - val_mse: 200.2826\n",
      "Epoch 18/999\n",
      "323/323 [==============================] - 0s 65us/sample - loss: 161.2274 - mse: 161.2274 - val_loss: 167.9020 - val_mse: 167.9021\n",
      "Epoch 19/999\n",
      "323/323 [==============================] - 0s 65us/sample - loss: 131.2451 - mse: 131.2451 - val_loss: 141.4704 - val_mse: 141.4704\n",
      "Epoch 20/999\n",
      "323/323 [==============================] - 0s 63us/sample - loss: 125.9815 - mse: 125.9815 - val_loss: 121.3408 - val_mse: 121.3408\n",
      "Epoch 21/999\n",
      "323/323 [==============================] - 0s 60us/sample - loss: 107.3650 - mse: 107.3650 - val_loss: 105.7988 - val_mse: 105.7988\n",
      "Epoch 22/999\n",
      "323/323 [==============================] - 0s 61us/sample - loss: 95.0659 - mse: 95.0659 - val_loss: 93.4808 - val_mse: 93.4808\n",
      "Epoch 23/999\n",
      "323/323 [==============================] - 0s 64us/sample - loss: 93.5030 - mse: 93.5030 - val_loss: 86.0357 - val_mse: 86.0357\n",
      "Epoch 24/999\n",
      "323/323 [==============================] - 0s 60us/sample - loss: 96.4728 - mse: 96.4728 - val_loss: 79.4702 - val_mse: 79.4702\n",
      "Epoch 25/999\n",
      "323/323 [==============================] - 0s 61us/sample - loss: 80.2264 - mse: 80.2264 - val_loss: 74.1082 - val_mse: 74.1082\n",
      "Epoch 26/999\n",
      "323/323 [==============================] - 0s 62us/sample - loss: 79.7845 - mse: 79.7845 - val_loss: 68.6115 - val_mse: 68.6115\n",
      "Epoch 27/999\n",
      "323/323 [==============================] - 0s 61us/sample - loss: 69.9151 - mse: 69.9151 - val_loss: 64.3965 - val_mse: 64.3965\n",
      "Epoch 28/999\n",
      "323/323 [==============================] - 0s 61us/sample - loss: 78.3158 - mse: 78.3158 - val_loss: 59.4915 - val_mse: 59.4915\n",
      "Epoch 29/999\n",
      "323/323 [==============================] - 0s 63us/sample - loss: 67.2637 - mse: 67.2637 - val_loss: 55.0369 - val_mse: 55.0369\n",
      "Epoch 30/999\n",
      "323/323 [==============================] - 0s 62us/sample - loss: 53.8246 - mse: 53.8246 - val_loss: 51.0942 - val_mse: 51.0942\n",
      "Epoch 31/999\n",
      "323/323 [==============================] - 0s 60us/sample - loss: 64.7134 - mse: 64.7134 - val_loss: 48.1931 - val_mse: 48.1931\n",
      "Epoch 32/999\n",
      "323/323 [==============================] - 0s 62us/sample - loss: 65.5828 - mse: 65.5828 - val_loss: 45.6218 - val_mse: 45.6218\n",
      "Epoch 33/999\n",
      "323/323 [==============================] - 0s 60us/sample - loss: 65.2973 - mse: 65.2973 - val_loss: 43.8105 - val_mse: 43.8105\n",
      "Epoch 34/999\n",
      "323/323 [==============================] - 0s 60us/sample - loss: 52.5772 - mse: 52.5772 - val_loss: 41.5638 - val_mse: 41.5638\n",
      "Epoch 35/999\n",
      "323/323 [==============================] - 0s 62us/sample - loss: 53.9365 - mse: 53.9365 - val_loss: 39.5562 - val_mse: 39.5562\n",
      "Epoch 36/999\n",
      "323/323 [==============================] - 0s 65us/sample - loss: 49.9212 - mse: 49.9212 - val_loss: 38.2292 - val_mse: 38.2292\n",
      "Epoch 37/999\n",
      "323/323 [==============================] - 0s 73us/sample - loss: 54.2469 - mse: 54.2469 - val_loss: 36.9002 - val_mse: 36.9002\n",
      "Epoch 38/999\n",
      "323/323 [==============================] - 0s 61us/sample - loss: 52.0035 - mse: 52.0035 - val_loss: 34.9404 - val_mse: 34.9404\n",
      "Epoch 39/999\n",
      "323/323 [==============================] - 0s 68us/sample - loss: 44.6979 - mse: 44.6979 - val_loss: 33.2050 - val_mse: 33.2050\n",
      "Epoch 40/999\n",
      "323/323 [==============================] - 0s 62us/sample - loss: 52.9018 - mse: 52.9018 - val_loss: 31.1500 - val_mse: 31.1500\n",
      "Epoch 41/999\n",
      "323/323 [==============================] - 0s 60us/sample - loss: 43.6454 - mse: 43.6454 - val_loss: 30.6693 - val_mse: 30.6693\n",
      "Epoch 42/999\n",
      "323/323 [==============================] - 0s 61us/sample - loss: 40.4139 - mse: 40.4139 - val_loss: 30.5301 - val_mse: 30.5301\n",
      "Epoch 43/999\n",
      "323/323 [==============================] - 0s 60us/sample - loss: 55.2288 - mse: 55.2288 - val_loss: 29.6795 - val_mse: 29.6795\n",
      "Epoch 44/999\n",
      "323/323 [==============================] - 0s 61us/sample - loss: 51.9206 - mse: 51.9206 - val_loss: 29.2904 - val_mse: 29.2904\n",
      "Epoch 45/999\n",
      "323/323 [==============================] - 0s 62us/sample - loss: 46.6976 - mse: 46.6976 - val_loss: 28.1252 - val_mse: 28.1252\n",
      "Epoch 46/999\n",
      "323/323 [==============================] - 0s 61us/sample - loss: 43.1427 - mse: 43.1427 - val_loss: 27.1080 - val_mse: 27.1080\n",
      "Epoch 47/999\n",
      "323/323 [==============================] - 0s 59us/sample - loss: 49.1306 - mse: 49.1306 - val_loss: 26.0174 - val_mse: 26.0174\n",
      "Epoch 48/999\n",
      "323/323 [==============================] - 0s 63us/sample - loss: 47.5026 - mse: 47.5026 - val_loss: 25.3913 - val_mse: 25.3913\n",
      "Epoch 49/999\n",
      "323/323 [==============================] - 0s 57us/sample - loss: 42.1784 - mse: 42.1784 - val_loss: 24.9898 - val_mse: 24.9898\n",
      "Epoch 50/999\n",
      "323/323 [==============================] - 0s 65us/sample - loss: 42.6733 - mse: 42.6733 - val_loss: 24.7673 - val_mse: 24.7673\n",
      "Epoch 51/999\n",
      "323/323 [==============================] - 0s 64us/sample - loss: 34.7097 - mse: 34.7097 - val_loss: 24.3625 - val_mse: 24.3625\n",
      "Epoch 52/999\n",
      "323/323 [==============================] - 0s 65us/sample - loss: 42.3736 - mse: 42.3736 - val_loss: 23.9614 - val_mse: 23.9614\n",
      "Epoch 53/999\n",
      "323/323 [==============================] - 0s 58us/sample - loss: 36.4915 - mse: 36.4915 - val_loss: 24.0034 - val_mse: 24.0034\n",
      "Epoch 54/999\n",
      "323/323 [==============================] - 0s 60us/sample - loss: 36.7295 - mse: 36.7295 - val_loss: 24.0430 - val_mse: 24.0430\n",
      "Epoch 55/999\n",
      "323/323 [==============================] - 0s 62us/sample - loss: 43.4990 - mse: 43.4990 - val_loss: 23.1954 - val_mse: 23.1954\n",
      "Epoch 56/999\n",
      "323/323 [==============================] - 0s 63us/sample - loss: 35.5796 - mse: 35.5796 - val_loss: 22.6421 - val_mse: 22.6421\n",
      "Epoch 57/999\n",
      "323/323 [==============================] - 0s 67us/sample - loss: 35.2235 - mse: 35.2235 - val_loss: 22.5257 - val_mse: 22.5257\n",
      "Epoch 58/999\n",
      "323/323 [==============================] - 0s 60us/sample - loss: 37.0872 - mse: 37.0872 - val_loss: 22.1506 - val_mse: 22.1506\n",
      "Epoch 59/999\n",
      "323/323 [==============================] - 0s 64us/sample - loss: 31.6032 - mse: 31.6032 - val_loss: 22.1599 - val_mse: 22.1599\n",
      "Epoch 60/999\n",
      "323/323 [==============================] - 0s 68us/sample - loss: 33.0036 - mse: 33.0036 - val_loss: 22.6088 - val_mse: 22.6088\n",
      "Epoch 61/999\n",
      "323/323 [==============================] - 0s 64us/sample - loss: 41.1733 - mse: 41.1733 - val_loss: 22.1212 - val_mse: 22.1212\n",
      "Epoch 62/999\n",
      "323/323 [==============================] - 0s 65us/sample - loss: 32.7872 - mse: 32.7872 - val_loss: 21.5925 - val_mse: 21.5925\n",
      "Epoch 63/999\n",
      "323/323 [==============================] - 0s 64us/sample - loss: 37.0359 - mse: 37.0359 - val_loss: 21.1434 - val_mse: 21.1434\n",
      "Epoch 64/999\n",
      "323/323 [==============================] - 0s 64us/sample - loss: 33.3588 - mse: 33.3588 - val_loss: 20.7542 - val_mse: 20.7542\n",
      "Epoch 65/999\n",
      "323/323 [==============================] - 0s 75us/sample - loss: 31.5650 - mse: 31.5650 - val_loss: 20.0397 - val_mse: 20.0397\n",
      "Epoch 66/999\n",
      "323/323 [==============================] - 0s 67us/sample - loss: 32.9634 - mse: 32.9634 - val_loss: 19.8192 - val_mse: 19.8192\n",
      "Epoch 67/999\n",
      "323/323 [==============================] - 0s 68us/sample - loss: 29.7678 - mse: 29.7678 - val_loss: 19.8858 - val_mse: 19.8858\n",
      "Epoch 68/999\n",
      "323/323 [==============================] - 0s 66us/sample - loss: 35.4763 - mse: 35.4763 - val_loss: 19.6514 - val_mse: 19.6514\n",
      "Epoch 69/999\n",
      "323/323 [==============================] - 0s 65us/sample - loss: 33.5959 - mse: 33.5959 - val_loss: 19.1921 - val_mse: 19.1921\n",
      "Epoch 70/999\n",
      "323/323 [==============================] - 0s 64us/sample - loss: 33.2303 - mse: 33.2303 - val_loss: 19.1109 - val_mse: 19.1109\n",
      "Epoch 71/999\n",
      "323/323 [==============================] - 0s 64us/sample - loss: 36.3824 - mse: 36.3824 - val_loss: 19.1093 - val_mse: 19.1093\n",
      "Epoch 72/999\n",
      "323/323 [==============================] - 0s 67us/sample - loss: 33.5749 - mse: 33.5749 - val_loss: 18.7342 - val_mse: 18.7342\n",
      "Epoch 73/999\n",
      "323/323 [==============================] - 0s 66us/sample - loss: 35.7387 - mse: 35.7387 - val_loss: 18.4648 - val_mse: 18.4648\n",
      "Epoch 74/999\n",
      "323/323 [==============================] - 0s 65us/sample - loss: 32.8491 - mse: 32.8491 - val_loss: 18.4014 - val_mse: 18.4014\n",
      "Epoch 75/999\n",
      "323/323 [==============================] - 0s 70us/sample - loss: 32.4774 - mse: 32.4774 - val_loss: 18.2446 - val_mse: 18.2446\n",
      "Epoch 76/999\n",
      "323/323 [==============================] - 0s 68us/sample - loss: 37.0143 - mse: 37.0143 - val_loss: 17.9673 - val_mse: 17.9673\n",
      "Epoch 77/999\n",
      "323/323 [==============================] - 0s 69us/sample - loss: 30.5216 - mse: 30.5216 - val_loss: 17.9087 - val_mse: 17.9087\n",
      "Epoch 78/999\n",
      "323/323 [==============================] - 0s 70us/sample - loss: 31.1396 - mse: 31.1396 - val_loss: 17.8543 - val_mse: 17.8543\n",
      "Epoch 79/999\n",
      "323/323 [==============================] - 0s 69us/sample - loss: 35.4878 - mse: 35.4878 - val_loss: 17.4904 - val_mse: 17.4904\n",
      "Epoch 80/999\n",
      "323/323 [==============================] - 0s 66us/sample - loss: 31.9752 - mse: 31.9752 - val_loss: 17.2013 - val_mse: 17.2013\n",
      "Epoch 81/999\n",
      "323/323 [==============================] - 0s 67us/sample - loss: 35.3405 - mse: 35.3405 - val_loss: 17.1603 - val_mse: 17.1603\n",
      "Epoch 82/999\n",
      "323/323 [==============================] - 0s 70us/sample - loss: 34.7415 - mse: 34.7415 - val_loss: 17.2939 - val_mse: 17.2939\n",
      "Epoch 83/999\n",
      "323/323 [==============================] - 0s 69us/sample - loss: 40.8506 - mse: 40.8506 - val_loss: 17.0261 - val_mse: 17.0261\n",
      "Epoch 84/999\n",
      "323/323 [==============================] - 0s 67us/sample - loss: 28.9847 - mse: 28.9847 - val_loss: 17.0761 - val_mse: 17.0761\n",
      "Epoch 85/999\n",
      "323/323 [==============================] - 0s 71us/sample - loss: 31.8232 - mse: 31.8232 - val_loss: 17.9013 - val_mse: 17.9013\n",
      "Epoch 86/999\n",
      "323/323 [==============================] - 0s 70us/sample - loss: 29.2979 - mse: 29.2979 - val_loss: 18.5110 - val_mse: 18.5110\n",
      "Epoch 87/999\n",
      "323/323 [==============================] - 0s 65us/sample - loss: 38.0965 - mse: 38.0965 - val_loss: 17.4668 - val_mse: 17.4668\n",
      "Epoch 88/999\n",
      "323/323 [==============================] - 0s 65us/sample - loss: 30.8255 - mse: 30.8254 - val_loss: 16.4889 - val_mse: 16.4889\n",
      "Epoch 89/999\n",
      "323/323 [==============================] - 0s 64us/sample - loss: 28.0469 - mse: 28.0469 - val_loss: 16.1547 - val_mse: 16.1547\n",
      "Epoch 90/999\n",
      "323/323 [==============================] - 0s 82us/sample - loss: 27.9233 - mse: 27.9233 - val_loss: 16.5647 - val_mse: 16.5647\n",
      "Epoch 91/999\n",
      "323/323 [==============================] - 0s 75us/sample - loss: 30.2524 - mse: 30.2524 - val_loss: 16.4228 - val_mse: 16.4228\n",
      "Epoch 92/999\n",
      "323/323 [==============================] - 0s 73us/sample - loss: 27.5745 - mse: 27.5745 - val_loss: 16.1963 - val_mse: 16.1963\n",
      "Epoch 93/999\n",
      "323/323 [==============================] - 0s 66us/sample - loss: 31.8269 - mse: 31.8269 - val_loss: 15.5685 - val_mse: 15.5685\n",
      "Epoch 94/999\n",
      "323/323 [==============================] - 0s 63us/sample - loss: 32.1851 - mse: 32.1851 - val_loss: 15.4741 - val_mse: 15.4741\n",
      "Epoch 95/999\n",
      "323/323 [==============================] - 0s 65us/sample - loss: 25.6561 - mse: 25.6561 - val_loss: 15.6936 - val_mse: 15.6936\n",
      "Epoch 96/999\n",
      "323/323 [==============================] - 0s 65us/sample - loss: 25.2787 - mse: 25.2787 - val_loss: 15.7626 - val_mse: 15.7626\n",
      "Epoch 97/999\n",
      "323/323 [==============================] - 0s 66us/sample - loss: 30.2221 - mse: 30.2221 - val_loss: 16.2383 - val_mse: 16.2383\n",
      "Epoch 98/999\n",
      "323/323 [==============================] - 0s 60us/sample - loss: 25.8323 - mse: 25.8323 - val_loss: 15.4606 - val_mse: 15.4606\n",
      "Epoch 99/999\n",
      "323/323 [==============================] - 0s 65us/sample - loss: 35.9915 - mse: 35.9915 - val_loss: 15.1291 - val_mse: 15.1291\n",
      "Epoch 100/999\n",
      "323/323 [==============================] - 0s 61us/sample - loss: 21.9035 - mse: 21.9035 - val_loss: 15.1697 - val_mse: 15.1697\n",
      "Epoch 101/999\n",
      "323/323 [==============================] - 0s 62us/sample - loss: 28.8807 - mse: 28.8807 - val_loss: 15.2876 - val_mse: 15.2876\n",
      "Epoch 102/999\n",
      "323/323 [==============================] - 0s 60us/sample - loss: 26.2075 - mse: 26.2075 - val_loss: 15.2658 - val_mse: 15.2658\n",
      "Epoch 103/999\n",
      "323/323 [==============================] - 0s 64us/sample - loss: 24.5095 - mse: 24.5095 - val_loss: 15.8396 - val_mse: 15.8396\n",
      "Epoch 104/999\n",
      "323/323 [==============================] - 0s 61us/sample - loss: 30.6166 - mse: 30.6166 - val_loss: 15.8135 - val_mse: 15.8135\n"
     ]
    },
    {
     "data": {
      "text/plain": [
       "<tensorflow.python.keras.callbacks.History at 0x1480a21d0>"
      ]
     },
     "execution_count": 57,
     "metadata": {},
     "output_type": "execute_result"
    }
   ],
   "source": [
    "opt = Adam()\n",
    "model = Sequential()\n",
    "stop = EarlyStopping(monitor='val_mse', min_delta=1, patience=10)\n",
    "\n",
    "model.add(Dense(13, input_shape=[X_train.shape[1]]))\n",
    "model.add(Activation('relu'))\n",
    "model.add(Dropout(.2))\n",
    "model.add(Dense(7))\n",
    "model.add(Activation('relu'))\n",
    "model.add(Dense(4))\n",
    "model.add(Activation('relu'))\n",
    "model.add(Dense(2))\n",
    "model.add(Activation('relu'))\n",
    "model.add(Dense(1))\n",
    "model.add(Activation('linear'))\n",
    "\n",
    "model.compile(optimizer=opt, loss=mean_squared_error, metrics=['mse'])\n",
    "\n",
    "model.fit(X_train, y_train, epochs=999, validation_split=.2, callbacks=[stop])"
   ]
  },
  {
   "cell_type": "code",
   "execution_count": 58,
   "metadata": {
    "colab": {
     "base_uri": "https://localhost:8080/",
     "height": 50
    },
    "colab_type": "code",
    "id": "LU1kNDgBwAnv",
    "outputId": "6c93dce4-09ec-43af-a075-f5929d3f13d8"
   },
   "outputs": [
    {
     "name": "stdout",
     "output_type": "stream",
     "text": [
      "102/102 [==============================] - 0s 47us/sample - loss: 27.7277 - mse: 27.7277\n"
     ]
    },
    {
     "data": {
      "text/plain": [
       "[27.72769613826976, 27.727697]"
      ]
     },
     "execution_count": 58,
     "metadata": {},
     "output_type": "execute_result"
    }
   ],
   "source": [
    "model.evaluate(X_test, y_test)"
   ]
  },
  {
   "cell_type": "markdown",
   "metadata": {
    "colab_type": "text",
    "id": "SfcFnOONyuNm"
   },
   "source": [
    "## Use the Keras Library to build an image recognition network using the Fashion-MNIST dataset (also comes with keras)\n",
    "\n",
    "- Load and preprocess the image data similar to how we preprocessed the MNIST data in class.\n",
    "- Make sure to one-hot encode your category labels\n",
    "- The number of nodes in your output layer should equal the number of classes you want to predict for Fashion-MNIST.\n",
    "- Try different hyperparameters. What is the highest accuracy that you are able to achieve.\n",
    "- Use the history object that is returned from model.fit to make graphs of the model's loss or train/validation accuracies by epoch. \n",
    "- Remember that neural networks fall prey to randomness so you may need to run your model multiple times (or use Cross Validation) in order to tell if a change to a hyperparameter is truly producing better results."
   ]
  },
  {
   "cell_type": "code",
   "execution_count": 31,
   "metadata": {
    "colab": {},
    "colab_type": "code",
    "id": "szi6-IpuzaH1"
   },
   "outputs": [],
   "source": [
    "##### Your Code Here #####\n",
    "from tensorflow.keras.datasets import mnist\n",
    "from tensorflow.keras.utils import to_categorical\n",
    "\n",
    "(X_train, y_train), (X_test, y_test) = mnist.load_data()"
   ]
  },
  {
   "cell_type": "code",
   "execution_count": 32,
   "metadata": {
    "colab": {},
    "colab_type": "code",
    "id": "04t6IyHK1udX"
   },
   "outputs": [],
   "source": [
    "num_classes = 10\n",
    "\n",
    "X_train = X_train.astype('float32') / 255.\n",
    "X_test = X_test.astype('float32') /255.\n",
    "\n",
    "y_train = to_categorical(y_train, num_classes)\n",
    "y_test = to_categorical(y_test, num_classes)"
   ]
  },
  {
   "cell_type": "code",
   "execution_count": 80,
   "metadata": {
    "colab": {
     "base_uri": "https://localhost:8080/",
     "height": 104
    },
    "colab_type": "code",
    "id": "cnV82pVb2B7Q",
    "outputId": "7f24ff6a-7066-40ec-fa90-9148572bf3d2"
   },
   "outputs": [
    {
     "name": "stdout",
     "output_type": "stream",
     "text": [
      "Train on 48000 samples, validate on 12000 samples\n",
      "Epoch 1/999\n",
      "48000/48000 [==============================] - 9s 180us/sample - loss: 0.8324 - accuracy: 0.7264 - val_loss: 0.3009 - val_accuracy: 0.9317\n",
      "Epoch 2/999\n",
      "48000/48000 [==============================] - 8s 170us/sample - loss: 0.3901 - accuracy: 0.8882 - val_loss: 0.1660 - val_accuracy: 0.9642\n",
      "Epoch 3/999\n",
      "48000/48000 [==============================] - 8s 169us/sample - loss: 0.3147 - accuracy: 0.9106 - val_loss: 0.1469 - val_accuracy: 0.9684\n",
      "Epoch 4/999\n",
      "48000/48000 [==============================] - 8s 168us/sample - loss: 0.2807 - accuracy: 0.9200 - val_loss: 0.1582 - val_accuracy: 0.9700\n",
      "Epoch 5/999\n",
      "48000/48000 [==============================] - 8s 169us/sample - loss: 0.2581 - accuracy: 0.9247 - val_loss: 0.1489 - val_accuracy: 0.9696\n"
     ]
    },
    {
     "data": {
      "text/plain": [
       "<tensorflow.python.keras.callbacks.History at 0x15eabea10>"
      ]
     },
     "execution_count": 80,
     "metadata": {},
     "output_type": "execute_result"
    }
   ],
   "source": [
    "logdir = os.path.join(\"logs\", datetime.datetime.now().strftime(\"%Y%m%d-%H%M%S\"))\n",
    "tensorboard_callback = TensorBoard(logdir, histogram_freq=1)\n",
    "\n",
    "stop = EarlyStopping(monitor='val_accuracy', min_delta=0.01, patience=3)\n",
    "\n",
    "model = Sequential()\n",
    "opt = Adam()\n",
    "\n",
    "model.add(Flatten())\n",
    "\n",
    "model.add(Dropout(.2))\n",
    "model.add(Dense(728, input_dim=728))\n",
    "model.add(Activation('relu'))\n",
    "\n",
    "# model.add(Dropout(.2))\n",
    "model.add(Dense(369))\n",
    "model.add(Activation('relu'))\n",
    "\n",
    "# model.add(Dropout(.2))\n",
    "model.add(Dense(190)),\n",
    "model.add(Activation('relu'))\n",
    "\n",
    "# model.add(Dropout(.2))\n",
    "model.add(Dense(100))\n",
    "model.add(Activation('relu'))\n",
    "\n",
    "# model.add(Dropout(.2))\n",
    "model.add(Dense(55))\n",
    "model.add(Activation('relu'))\n",
    "\n",
    "# model.add(Dropout(.2))\n",
    "model.add(Dense(32))\n",
    "model.add(Activation('relu'))\n",
    "\n",
    "# model.add(Dropout(.2))\n",
    "model.add(Dense(21))\n",
    "model.add(Activation('relu'))\n",
    "\n",
    "# model.add(Dropout(.2))\n",
    "model.add(Dense(15))\n",
    "model.add(Activation('relu'))\n",
    "\n",
    "# model.add(Dropout(.2))\n",
    "model.add(Dense(12))\n",
    "model.add(Activation('relu'))\n",
    "\n",
    "# model.add(Dropout(.2))\n",
    "model.add(Dense(11))\n",
    "model.add(Activation('relu'))\n",
    "\n",
    "model.add(Dropout(.2))\n",
    "model.add(Dense(10))\n",
    "model.add(Activation('softmax'))\n",
    "\n",
    "model.compile(loss=categorical_crossentropy, optimizer=opt, metrics=['accuracy'])\n",
    "\n",
    "model.fit(X_train, y_train, epochs=999, validation_split=.2, verbose=1,\n",
    "          callbacks=[tensorboard_callback, stop])"
   ]
  },
  {
   "cell_type": "code",
   "execution_count": 81,
   "metadata": {
    "colab": {},
    "colab_type": "code",
    "id": "O-XOaajl6Y1w"
   },
   "outputs": [
    {
     "name": "stdout",
     "output_type": "stream",
     "text": [
      "10000/10000 [==============================] - 1s 55us/sample - loss: 0.1468 - accuracy: 0.9685\n"
     ]
    },
    {
     "data": {
      "text/plain": [
       "[0.1467601068132557, 0.9685]"
      ]
     },
     "execution_count": 81,
     "metadata": {},
     "output_type": "execute_result"
    }
   ],
   "source": [
    "model.evaluate(X_test, y_test)"
   ]
  },
  {
   "cell_type": "code",
   "execution_count": 82,
   "metadata": {},
   "outputs": [
    {
     "name": "stdout",
     "output_type": "stream",
     "text": [
      "Train on 48000 samples, validate on 12000 samples\n",
      "Epoch 1/999\n",
      "48000/48000 [==============================] - 8s 167us/sample - loss: 0.2384 - accuracy: 0.9308 - val_loss: 0.1324 - val_accuracy: 0.9738\n",
      "Epoch 2/999\n",
      "48000/48000 [==============================] - 8s 169us/sample - loss: 0.2179 - accuracy: 0.9371 - val_loss: 0.1377 - val_accuracy: 0.9703\n",
      "Epoch 3/999\n",
      "48000/48000 [==============================] - 8s 169us/sample - loss: 0.1992 - accuracy: 0.9406 - val_loss: 0.1498 - val_accuracy: 0.9699\n",
      "Epoch 4/999\n",
      "48000/48000 [==============================] - 8s 169us/sample - loss: 0.1947 - accuracy: 0.9428 - val_loss: 0.1179 - val_accuracy: 0.9768\n"
     ]
    },
    {
     "data": {
      "image/png": "[encoded data removed]",
      "text/plain": [
       "<Figure size 432x288 with 1 Axes>"
      ]
     },
     "metadata": {
      "needs_background": "light"
     },
     "output_type": "display_data"
    },
    {
     "data": {
      "image/png": "[encoded data removed]",
      "text/plain": [
       "<Figure size 432x288 with 1 Axes>"
      ]
     },
     "metadata": {
      "needs_background": "light"
     },
     "output_type": "display_data"
    }
   ],
   "source": [
    "import matplotlib.pyplot as plt\n",
    "\n",
    "history = model.fit(X_train, y_train, epochs=999, validation_split=.2, verbose=1,\n",
    "          callbacks=[tensorboard_callback, stop])\n",
    "\n",
    "# Plot training & validation accuracy values\n",
    "plt.plot(history.history['accuracy'])\n",
    "plt.plot(history.history['val_accuracy'])\n",
    "plt.title('Model accuracy')\n",
    "plt.ylabel('Accuracy')\n",
    "plt.xlabel('Epoch')\n",
    "plt.legend(['Train', 'Test'], loc='upper left')\n",
    "plt.show()\n",
    "\n",
    "# Plot training & validation loss values\n",
    "plt.plot(history.history['loss'])\n",
    "plt.plot(history.history['val_loss'])\n",
    "plt.title('Model loss')\n",
    "plt.ylabel('Loss')\n",
    "plt.xlabel('Epoch')\n",
    "plt.legend(['Train', 'Test'], loc='upper left')\n",
    "plt.show()"
   ]
  },
  {
   "cell_type": "markdown",
   "metadata": {
    "colab_type": "text",
    "id": "zv_3xNMjzdLI"
   },
   "source": [
    "## Stretch Goals:\n",
    "\n",
    "- Use Hyperparameter Tuning to make the accuracy of your models as high as possible. (error as low as possible)\n",
    "- Use Cross Validation techniques to get more consistent results with your model.\n",
    "- Use GridSearchCV to try different combinations of hyperparameters. \n",
    "- Start looking into other types of Keras layers for CNNs and RNNs maybe try and build a CNN model for fashion-MNIST to see how the results compare."
   ]
  },
  {
   "cell_type": "code",
   "execution_count": null,
   "metadata": {},
   "outputs": [],
   "source": []
  }
 ],
 "metadata": {
  "colab": {
   "name": "LS_DS_433_Keras_Assignment.ipynb",
   "provenance": []
  },
  "kernelspec": {
   "display_name": "U4-S2",
   "language": "python",
   "name": "ds-12-unit-4-sprint-2"
  },
  "language_info": {
   "codemirror_mode": {
    "name": "ipython",
    "version": 3
   },
   "file_extension": ".py",
   "mimetype": "text/x-python",
   "name": "python",
   "nbconvert_exporter": "python",
   "pygments_lexer": "ipython3",
   "version": "3.7.7"
  }
 },
 "nbformat": 4,
 "nbformat_minor": 4
}
