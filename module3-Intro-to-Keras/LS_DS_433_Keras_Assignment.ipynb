{
  "nbformat": 4,
  "nbformat_minor": 0,
  "metadata": {
    "colab": {
      "name": "LS_DS_433_Keras_Assignment.ipynb",
      "version": "0.3.2",
      "provenance": [],
      "include_colab_link": true
    },
    "kernelspec": {
      "name": "python3",
      "display_name": "Python 3"
    },
    "accelerator": "TPU"
  },
  "cells": [
    {
      "cell_type": "markdown",
      "metadata": {
        "id": "view-in-github",
        "colab_type": "text"
      },
      "source": [
        "<a href=\"https://colab.research.google.com/github/samirgadkari/DS-Unit-4-Sprint-3-Neural-Networks/blob/master/module3-Intro-to-Keras/LS_DS_433_Keras_Assignment.ipynb\" target=\"_parent\"><img src=\"https://colab.research.google.com/assets/colab-badge.svg\" alt=\"Open In Colab\"/></a>"
      ]
    },
    {
      "metadata": {
        "id": "pBQsZEJmubLs",
        "colab_type": "text"
      },
      "cell_type": "markdown",
      "source": [
        "## Use the Keras Library to build a Multi-Layer Perceptron Model on the Boston Housing dataset\n",
        "\n",
        "- The Boston Housing dataset comes with the Keras library so use Keras to import it into your notebook. \n",
        "- Normalize the data (all features should have roughly the same scale)\n",
        "- Import the type of model and layers that you will need from Keras.\n",
        "- Instantiate a model object and use `model.add()` to add layers to your model\n",
        "- Since this is a regression model you will have a single output node in the final layer.\n",
        "- Use activation functions that are appropriate for this task\n",
        "- Compile your model\n",
        "- Fit your model and report its accuracy in terms of Mean Squared Error\n",
        "- Use the history object that is returned from model.fit to make graphs of the model's loss or train/validation accuracies by epoch. \n",
        "- Run this same data through a linear regression model. Which achieves higher accuracy?\n",
        "- Do a little bit of feature engineering and see how that affects your neural network model. (you will need to change your model to accept more inputs)\n",
        "- After feature engineering, which model sees a greater accuracy boost due to the new features?"
      ]
    },
    {
      "metadata": {
        "id": "8NLTAR87uYJ-",
        "colab_type": "code",
        "colab": {}
      },
      "cell_type": "code",
      "source": [
        "import matplotlib.pyplot as plt\n",
        "import numpy as np\n",
        "import pandas as pd\n",
        "\n",
        "from sklearn.preprocessing import StandardScaler, MinMaxScaler\n",
        "from sklearn.linear_model import LinearRegression\n",
        "\n",
        "import keras\n",
        "from keras.datasets import boston_housing\n",
        "from keras.models import Sequential\n",
        "from keras.layers import Dense"
      ],
      "execution_count": 0,
      "outputs": []
    },
    {
      "metadata": {
        "id": "qinWfaIwKQl6",
        "colab_type": "code",
        "colab": {}
      },
      "cell_type": "code",
      "source": [
        "np.random.seed(101)  # Set a fixed seed, so our values each time we run\n",
        "                     # through the same steps are similar. There is still\n",
        "                     # randomness inside the keras functions, so the values\n",
        "                     # will not always be exactly the same."
      ],
      "execution_count": 0,
      "outputs": []
    },
    {
      "metadata": {
        "id": "o0wil-dcwmSo",
        "colab_type": "code",
        "colab": {
          "base_uri": "https://localhost:8080/",
          "height": 85
        },
        "outputId": "1a80a7cd-053b-43e2-f5ee-1d64272d5124"
      },
      "cell_type": "code",
      "source": [
        "(train_data, train_targets), (test_data, test_targets) = boston_housing.load_data()\n",
        "print('train_data.shape:', train_data.shape)\n",
        "print('train_targets.shape:', train_targets.shape)\n",
        "print('test_data.shape:', test_data.shape)\n",
        "print('test_targets.shape:', test_targets.shape)"
      ],
      "execution_count": 92,
      "outputs": [
        {
          "output_type": "stream",
          "text": [
            "train_data.shape: (404, 13)\n",
            "train_targets.shape: (404,)\n",
            "test_data.shape: (102, 13)\n",
            "test_targets.shape: (102,)\n"
          ],
          "name": "stdout"
        }
      ]
    },
    {
      "metadata": {
        "id": "tBhlO7XWwmWZ",
        "colab_type": "code",
        "colab": {
          "base_uri": "https://localhost:8080/",
          "height": 204
        },
        "outputId": "860794ec-4e36-4f03-9a82-e16e1aa5c08c"
      },
      "cell_type": "code",
      "source": [
        "train_X_df = pd.DataFrame(data=train_data)\n",
        "train_X_df.head()"
      ],
      "execution_count": 93,
      "outputs": [
        {
          "output_type": "execute_result",
          "data": {
            "text/html": [
              "<div>\n",
              "<style scoped>\n",
              "    .dataframe tbody tr th:only-of-type {\n",
              "        vertical-align: middle;\n",
              "    }\n",
              "\n",
              "    .dataframe tbody tr th {\n",
              "        vertical-align: top;\n",
              "    }\n",
              "\n",
              "    .dataframe thead th {\n",
              "        text-align: right;\n",
              "    }\n",
              "</style>\n",
              "<table border=\"1\" class=\"dataframe\">\n",
              "  <thead>\n",
              "    <tr style=\"text-align: right;\">\n",
              "      <th></th>\n",
              "      <th>0</th>\n",
              "      <th>1</th>\n",
              "      <th>2</th>\n",
              "      <th>3</th>\n",
              "      <th>4</th>\n",
              "      <th>5</th>\n",
              "      <th>6</th>\n",
              "      <th>7</th>\n",
              "      <th>8</th>\n",
              "      <th>9</th>\n",
              "      <th>10</th>\n",
              "      <th>11</th>\n",
              "      <th>12</th>\n",
              "    </tr>\n",
              "  </thead>\n",
              "  <tbody>\n",
              "    <tr>\n",
              "      <th>0</th>\n",
              "      <td>1.23247</td>\n",
              "      <td>0.0</td>\n",
              "      <td>8.14</td>\n",
              "      <td>0.0</td>\n",
              "      <td>0.538</td>\n",
              "      <td>6.142</td>\n",
              "      <td>91.7</td>\n",
              "      <td>3.9769</td>\n",
              "      <td>4.0</td>\n",
              "      <td>307.0</td>\n",
              "      <td>21.0</td>\n",
              "      <td>396.90</td>\n",
              "      <td>18.72</td>\n",
              "    </tr>\n",
              "    <tr>\n",
              "      <th>1</th>\n",
              "      <td>0.02177</td>\n",
              "      <td>82.5</td>\n",
              "      <td>2.03</td>\n",
              "      <td>0.0</td>\n",
              "      <td>0.415</td>\n",
              "      <td>7.610</td>\n",
              "      <td>15.7</td>\n",
              "      <td>6.2700</td>\n",
              "      <td>2.0</td>\n",
              "      <td>348.0</td>\n",
              "      <td>14.7</td>\n",
              "      <td>395.38</td>\n",
              "      <td>3.11</td>\n",
              "    </tr>\n",
              "    <tr>\n",
              "      <th>2</th>\n",
              "      <td>4.89822</td>\n",
              "      <td>0.0</td>\n",
              "      <td>18.10</td>\n",
              "      <td>0.0</td>\n",
              "      <td>0.631</td>\n",
              "      <td>4.970</td>\n",
              "      <td>100.0</td>\n",
              "      <td>1.3325</td>\n",
              "      <td>24.0</td>\n",
              "      <td>666.0</td>\n",
              "      <td>20.2</td>\n",
              "      <td>375.52</td>\n",
              "      <td>3.26</td>\n",
              "    </tr>\n",
              "    <tr>\n",
              "      <th>3</th>\n",
              "      <td>0.03961</td>\n",
              "      <td>0.0</td>\n",
              "      <td>5.19</td>\n",
              "      <td>0.0</td>\n",
              "      <td>0.515</td>\n",
              "      <td>6.037</td>\n",
              "      <td>34.5</td>\n",
              "      <td>5.9853</td>\n",
              "      <td>5.0</td>\n",
              "      <td>224.0</td>\n",
              "      <td>20.2</td>\n",
              "      <td>396.90</td>\n",
              "      <td>8.01</td>\n",
              "    </tr>\n",
              "    <tr>\n",
              "      <th>4</th>\n",
              "      <td>3.69311</td>\n",
              "      <td>0.0</td>\n",
              "      <td>18.10</td>\n",
              "      <td>0.0</td>\n",
              "      <td>0.713</td>\n",
              "      <td>6.376</td>\n",
              "      <td>88.4</td>\n",
              "      <td>2.5671</td>\n",
              "      <td>24.0</td>\n",
              "      <td>666.0</td>\n",
              "      <td>20.2</td>\n",
              "      <td>391.43</td>\n",
              "      <td>14.65</td>\n",
              "    </tr>\n",
              "  </tbody>\n",
              "</table>\n",
              "</div>"
            ],
            "text/plain": [
              "        0     1      2    3      4      5      6       7     8      9     10  \\\n",
              "0  1.23247   0.0   8.14  0.0  0.538  6.142   91.7  3.9769   4.0  307.0  21.0   \n",
              "1  0.02177  82.5   2.03  0.0  0.415  7.610   15.7  6.2700   2.0  348.0  14.7   \n",
              "2  4.89822   0.0  18.10  0.0  0.631  4.970  100.0  1.3325  24.0  666.0  20.2   \n",
              "3  0.03961   0.0   5.19  0.0  0.515  6.037   34.5  5.9853   5.0  224.0  20.2   \n",
              "4  3.69311   0.0  18.10  0.0  0.713  6.376   88.4  2.5671  24.0  666.0  20.2   \n",
              "\n",
              "       11     12  \n",
              "0  396.90  18.72  \n",
              "1  395.38   3.11  \n",
              "2  375.52   3.26  \n",
              "3  396.90   8.01  \n",
              "4  391.43  14.65  "
            ]
          },
          "metadata": {
            "tags": []
          },
          "execution_count": 93
        }
      ]
    },
    {
      "metadata": {
        "id": "v28osFLywmZu",
        "colab_type": "code",
        "colab": {
          "base_uri": "https://localhost:8080/",
          "height": 255
        },
        "outputId": "c43716db-1c69-40b1-a33f-53134519be75"
      },
      "cell_type": "code",
      "source": [
        "train_X_df.dtypes"
      ],
      "execution_count": 94,
      "outputs": [
        {
          "output_type": "execute_result",
          "data": {
            "text/plain": [
              "0     float64\n",
              "1     float64\n",
              "2     float64\n",
              "3     float64\n",
              "4     float64\n",
              "5     float64\n",
              "6     float64\n",
              "7     float64\n",
              "8     float64\n",
              "9     float64\n",
              "10    float64\n",
              "11    float64\n",
              "12    float64\n",
              "dtype: object"
            ]
          },
          "metadata": {
            "tags": []
          },
          "execution_count": 94
        }
      ]
    },
    {
      "metadata": {
        "id": "g2QlRfFt1V9N",
        "colab_type": "code",
        "colab": {
          "base_uri": "https://localhost:8080/",
          "height": 51
        },
        "outputId": "82de6074-bc7e-491a-a51e-dd38f4778cc1"
      },
      "cell_type": "code",
      "source": [
        "train_targets[:20]"
      ],
      "execution_count": 95,
      "outputs": [
        {
          "output_type": "execute_result",
          "data": {
            "text/plain": [
              "array([15.2, 42.3, 50. , 21.1, 17.7, 18.5, 11.3, 15.6, 15.6, 14.4, 12.1,\n",
              "       17.9, 23.1, 19.9, 15.7,  8.8, 50. , 22.5, 24.1, 27.5])"
            ]
          },
          "metadata": {
            "tags": []
          },
          "execution_count": 95
        }
      ]
    },
    {
      "metadata": {
        "id": "uxG4wYvk1W3U",
        "colab_type": "code",
        "colab": {
          "base_uri": "https://localhost:8080/",
          "height": 34
        },
        "outputId": "60472a01-de84-4a26-f2ba-491ce4faa5be"
      },
      "cell_type": "code",
      "source": [
        "train_targets[0].dtype"
      ],
      "execution_count": 96,
      "outputs": [
        {
          "output_type": "execute_result",
          "data": {
            "text/plain": [
              "dtype('float64')"
            ]
          },
          "metadata": {
            "tags": []
          },
          "execution_count": 96
        }
      ]
    },
    {
      "metadata": {
        "id": "OVt1pLPmHlzE",
        "colab_type": "code",
        "colab": {
          "base_uri": "https://localhost:8080/",
          "height": 527
        },
        "outputId": "7e144197-60cb-4de7-99e3-e701278a01e5"
      },
      "cell_type": "code",
      "source": [
        "test_data[:10]"
      ],
      "execution_count": 97,
      "outputs": [
        {
          "output_type": "execute_result",
          "data": {
            "text/plain": [
              "array([[1.80846e+01, 0.00000e+00, 1.81000e+01, 0.00000e+00, 6.79000e-01,\n",
              "        6.43400e+00, 1.00000e+02, 1.83470e+00, 2.40000e+01, 6.66000e+02,\n",
              "        2.02000e+01, 2.72500e+01, 2.90500e+01],\n",
              "       [1.23290e-01, 0.00000e+00, 1.00100e+01, 0.00000e+00, 5.47000e-01,\n",
              "        5.91300e+00, 9.29000e+01, 2.35340e+00, 6.00000e+00, 4.32000e+02,\n",
              "        1.78000e+01, 3.94950e+02, 1.62100e+01],\n",
              "       [5.49700e-02, 0.00000e+00, 5.19000e+00, 0.00000e+00, 5.15000e-01,\n",
              "        5.98500e+00, 4.54000e+01, 4.81220e+00, 5.00000e+00, 2.24000e+02,\n",
              "        2.02000e+01, 3.96900e+02, 9.74000e+00],\n",
              "       [1.27346e+00, 0.00000e+00, 1.95800e+01, 1.00000e+00, 6.05000e-01,\n",
              "        6.25000e+00, 9.26000e+01, 1.79840e+00, 5.00000e+00, 4.03000e+02,\n",
              "        1.47000e+01, 3.38920e+02, 5.50000e+00],\n",
              "       [7.15100e-02, 0.00000e+00, 4.49000e+00, 0.00000e+00, 4.49000e-01,\n",
              "        6.12100e+00, 5.68000e+01, 3.74760e+00, 3.00000e+00, 2.47000e+02,\n",
              "        1.85000e+01, 3.95150e+02, 8.44000e+00],\n",
              "       [2.79570e-01, 0.00000e+00, 9.69000e+00, 0.00000e+00, 5.85000e-01,\n",
              "        5.92600e+00, 4.26000e+01, 2.38170e+00, 6.00000e+00, 3.91000e+02,\n",
              "        1.92000e+01, 3.96900e+02, 1.35900e+01],\n",
              "       [3.04900e-02, 5.50000e+01, 3.78000e+00, 0.00000e+00, 4.84000e-01,\n",
              "        6.87400e+00, 2.81000e+01, 6.46540e+00, 5.00000e+00, 3.70000e+02,\n",
              "        1.76000e+01, 3.87970e+02, 4.61000e+00],\n",
              "       [3.55100e-02, 2.50000e+01, 4.86000e+00, 0.00000e+00, 4.26000e-01,\n",
              "        6.16700e+00, 4.67000e+01, 5.40070e+00, 4.00000e+00, 2.81000e+02,\n",
              "        1.90000e+01, 3.90640e+02, 7.51000e+00],\n",
              "       [9.29900e-02, 0.00000e+00, 2.56500e+01, 0.00000e+00, 5.81000e-01,\n",
              "        5.96100e+00, 9.29000e+01, 2.08690e+00, 2.00000e+00, 1.88000e+02,\n",
              "        1.91000e+01, 3.78090e+02, 1.79300e+01],\n",
              "       [3.56868e+00, 0.00000e+00, 1.81000e+01, 0.00000e+00, 5.80000e-01,\n",
              "        6.43700e+00, 7.50000e+01, 2.89650e+00, 2.40000e+01, 6.66000e+02,\n",
              "        2.02000e+01, 3.93370e+02, 1.43600e+01]])"
            ]
          },
          "metadata": {
            "tags": []
          },
          "execution_count": 97
        }
      ]
    },
    {
      "metadata": {
        "id": "OSdJTN43HpKz",
        "colab_type": "code",
        "colab": {
          "base_uri": "https://localhost:8080/",
          "height": 34
        },
        "outputId": "a9af50fa-f4fd-4c9e-99a7-a39251e84ad5"
      },
      "cell_type": "code",
      "source": [
        "test_targets[:10]"
      ],
      "execution_count": 98,
      "outputs": [
        {
          "output_type": "execute_result",
          "data": {
            "text/plain": [
              "array([ 7.2, 18.8, 19. , 27. , 22.2, 24.5, 31.2, 22.9, 20.5, 23.2])"
            ]
          },
          "metadata": {
            "tags": []
          },
          "execution_count": 98
        }
      ]
    },
    {
      "metadata": {
        "id": "_-xoNwkV1k1S",
        "colab_type": "text"
      },
      "cell_type": "markdown",
      "source": [
        "### All of our inputs/outputs are floats\n",
        "\n",
        "## Normalize the data"
      ]
    },
    {
      "metadata": {
        "id": "gmj84k3mHue0",
        "colab_type": "code",
        "colab": {}
      },
      "cell_type": "code",
      "source": [
        "def wrangle(data):\n",
        "  return MinMaxScaler().fit_transform(data)"
      ],
      "execution_count": 0,
      "outputs": []
    },
    {
      "metadata": {
        "id": "I88D3iC61V_a",
        "colab_type": "code",
        "colab": {}
      },
      "cell_type": "code",
      "source": [
        "train_normalized_data = wrangle(train_data)\n",
        "test_normalized_data  = wrangle(test_data)"
      ],
      "execution_count": 0,
      "outputs": []
    },
    {
      "metadata": {
        "id": "FBxMPGbg1j8g",
        "colab_type": "code",
        "colab": {
          "base_uri": "https://localhost:8080/",
          "height": 238
        },
        "outputId": "31f19543-efb2-49b4-9196-5b9040ae3b5a"
      },
      "cell_type": "code",
      "source": [
        "model = Sequential()\n",
        "model.add(Dense(3, input_dim=13, activation='relu'))\n",
        "model.add(Dense(2, activation='relu'))\n",
        "model.add(Dense(1, activation='linear'))\n",
        "model.compile(loss='mean_squared_error', optimizer='sgd', metrics=['mae'])\n",
        "model.summary()"
      ],
      "execution_count": 101,
      "outputs": [
        {
          "output_type": "stream",
          "text": [
            "_________________________________________________________________\n",
            "Layer (type)                 Output Shape              Param #   \n",
            "=================================================================\n",
            "dense_19 (Dense)             (None, 3)                 42        \n",
            "_________________________________________________________________\n",
            "dense_20 (Dense)             (None, 2)                 8         \n",
            "_________________________________________________________________\n",
            "dense_21 (Dense)             (None, 1)                 3         \n",
            "=================================================================\n",
            "Total params: 53\n",
            "Trainable params: 53\n",
            "Non-trainable params: 0\n",
            "_________________________________________________________________\n"
          ],
          "name": "stdout"
        }
      ]
    },
    {
      "metadata": {
        "id": "sHQYjGBQ1j-1",
        "colab_type": "code",
        "colab": {
          "base_uri": "https://localhost:8080/",
          "height": 1734
        },
        "outputId": "2401e50c-2ba2-42c2-c60f-8c9d9fca4a63"
      },
      "cell_type": "code",
      "source": [
        "model.fit(train_data, train_targets, epochs=50)"
      ],
      "execution_count": 102,
      "outputs": [
        {
          "output_type": "stream",
          "text": [
            "Epoch 1/50\n",
            "404/404 [==============================] - 0s 833us/step - loss: 485.4597 - mean_absolute_error: 19.9630\n",
            "Epoch 2/50\n",
            "404/404 [==============================] - 0s 46us/step - loss: 321.6359 - mean_absolute_error: 15.3408\n",
            "Epoch 3/50\n",
            "404/404 [==============================] - 0s 50us/step - loss: 225.1457 - mean_absolute_error: 12.0247\n",
            "Epoch 4/50\n",
            "404/404 [==============================] - 0s 41us/step - loss: 167.9033 - mean_absolute_error: 9.7614\n",
            "Epoch 5/50\n",
            "404/404 [==============================] - 0s 38us/step - loss: 134.1261 - mean_absolute_error: 8.3505\n",
            "Epoch 6/50\n",
            "404/404 [==============================] - 0s 45us/step - loss: 113.7699 - mean_absolute_error: 7.4979\n",
            "Epoch 7/50\n",
            "404/404 [==============================] - 0s 40us/step - loss: 101.8972 - mean_absolute_error: 7.0014\n",
            "Epoch 8/50\n",
            "404/404 [==============================] - 0s 58us/step - loss: 95.0035 - mean_absolute_error: 6.7149\n",
            "Epoch 9/50\n",
            "404/404 [==============================] - 0s 46us/step - loss: 90.6749 - mean_absolute_error: 6.5625\n",
            "Epoch 10/50\n",
            "404/404 [==============================] - 0s 44us/step - loss: 88.1646 - mean_absolute_error: 6.5118\n",
            "Epoch 11/50\n",
            "404/404 [==============================] - 0s 41us/step - loss: 86.7397 - mean_absolute_error: 6.5182\n",
            "Epoch 12/50\n",
            "404/404 [==============================] - 0s 43us/step - loss: 85.8190 - mean_absolute_error: 6.5235\n",
            "Epoch 13/50\n",
            "404/404 [==============================] - 0s 41us/step - loss: 85.3368 - mean_absolute_error: 6.5508\n",
            "Epoch 14/50\n",
            "404/404 [==============================] - 0s 43us/step - loss: 85.0628 - mean_absolute_error: 6.5636\n",
            "Epoch 15/50\n",
            "404/404 [==============================] - 0s 37us/step - loss: 84.9354 - mean_absolute_error: 6.5769\n",
            "Epoch 16/50\n",
            "404/404 [==============================] - 0s 38us/step - loss: 84.8153 - mean_absolute_error: 6.5892\n",
            "Epoch 17/50\n",
            "404/404 [==============================] - 0s 39us/step - loss: 84.7828 - mean_absolute_error: 6.6014\n",
            "Epoch 18/50\n",
            "404/404 [==============================] - 0s 36us/step - loss: 84.7228 - mean_absolute_error: 6.6114\n",
            "Epoch 19/50\n",
            "404/404 [==============================] - 0s 40us/step - loss: 84.7044 - mean_absolute_error: 6.6143\n",
            "Epoch 20/50\n",
            "404/404 [==============================] - 0s 44us/step - loss: 84.6977 - mean_absolute_error: 6.6129\n",
            "Epoch 21/50\n",
            "404/404 [==============================] - 0s 46us/step - loss: 84.6597 - mean_absolute_error: 6.6227\n",
            "Epoch 22/50\n",
            "404/404 [==============================] - 0s 42us/step - loss: 84.6911 - mean_absolute_error: 6.6490\n",
            "Epoch 23/50\n",
            "404/404 [==============================] - 0s 47us/step - loss: 84.7045 - mean_absolute_error: 6.6451\n",
            "Epoch 24/50\n",
            "404/404 [==============================] - 0s 46us/step - loss: 84.6638 - mean_absolute_error: 6.6367\n",
            "Epoch 25/50\n",
            "404/404 [==============================] - 0s 41us/step - loss: 84.6416 - mean_absolute_error: 6.6333\n",
            "Epoch 26/50\n",
            "404/404 [==============================] - 0s 41us/step - loss: 84.6636 - mean_absolute_error: 6.6430\n",
            "Epoch 27/50\n",
            "404/404 [==============================] - 0s 42us/step - loss: 84.6652 - mean_absolute_error: 6.6378\n",
            "Epoch 28/50\n",
            "404/404 [==============================] - 0s 41us/step - loss: 84.6812 - mean_absolute_error: 6.6509\n",
            "Epoch 29/50\n",
            "404/404 [==============================] - 0s 42us/step - loss: 84.6918 - mean_absolute_error: 6.6446\n",
            "Epoch 30/50\n",
            "404/404 [==============================] - 0s 38us/step - loss: 84.6701 - mean_absolute_error: 6.6397\n",
            "Epoch 31/50\n",
            "404/404 [==============================] - 0s 36us/step - loss: 84.6824 - mean_absolute_error: 6.6500\n",
            "Epoch 32/50\n",
            "404/404 [==============================] - 0s 43us/step - loss: 84.6815 - mean_absolute_error: 6.6301\n",
            "Epoch 33/50\n",
            "404/404 [==============================] - 0s 38us/step - loss: 84.7021 - mean_absolute_error: 6.6576\n",
            "Epoch 34/50\n",
            "404/404 [==============================] - 0s 53us/step - loss: 84.6597 - mean_absolute_error: 6.6286\n",
            "Epoch 35/50\n",
            "404/404 [==============================] - 0s 49us/step - loss: 84.6788 - mean_absolute_error: 6.6522\n",
            "Epoch 36/50\n",
            "404/404 [==============================] - 0s 40us/step - loss: 84.6712 - mean_absolute_error: 6.6497\n",
            "Epoch 37/50\n",
            "404/404 [==============================] - 0s 41us/step - loss: 84.6691 - mean_absolute_error: 6.6429\n",
            "Epoch 38/50\n",
            "404/404 [==============================] - 0s 40us/step - loss: 84.6681 - mean_absolute_error: 6.6427\n",
            "Epoch 39/50\n",
            "404/404 [==============================] - 0s 38us/step - loss: 84.6663 - mean_absolute_error: 6.6519\n",
            "Epoch 40/50\n",
            "404/404 [==============================] - 0s 45us/step - loss: 84.6533 - mean_absolute_error: 6.6437\n",
            "Epoch 41/50\n",
            "404/404 [==============================] - 0s 38us/step - loss: 84.7021 - mean_absolute_error: 6.6515\n",
            "Epoch 42/50\n",
            "404/404 [==============================] - 0s 36us/step - loss: 84.6553 - mean_absolute_error: 6.6499\n",
            "Epoch 43/50\n",
            "404/404 [==============================] - 0s 43us/step - loss: 84.6750 - mean_absolute_error: 6.6538\n",
            "Epoch 44/50\n",
            "404/404 [==============================] - 0s 40us/step - loss: 84.6735 - mean_absolute_error: 6.6474\n",
            "Epoch 45/50\n",
            "404/404 [==============================] - 0s 39us/step - loss: 84.6775 - mean_absolute_error: 6.6506\n",
            "Epoch 46/50\n",
            "404/404 [==============================] - 0s 58us/step - loss: 84.6948 - mean_absolute_error: 6.6458\n",
            "Epoch 47/50\n",
            "404/404 [==============================] - 0s 40us/step - loss: 84.6835 - mean_absolute_error: 6.6464\n",
            "Epoch 48/50\n",
            "404/404 [==============================] - 0s 37us/step - loss: 84.6955 - mean_absolute_error: 6.6480\n",
            "Epoch 49/50\n",
            "404/404 [==============================] - 0s 36us/step - loss: 84.6669 - mean_absolute_error: 6.6522\n",
            "Epoch 50/50\n",
            "404/404 [==============================] - 0s 40us/step - loss: 84.6604 - mean_absolute_error: 6.6459\n"
          ],
          "name": "stdout"
        },
        {
          "output_type": "execute_result",
          "data": {
            "text/plain": [
              "<keras.callbacks.History at 0x7fcc3442de48>"
            ]
          },
          "metadata": {
            "tags": []
          },
          "execution_count": 102
        }
      ]
    },
    {
      "metadata": {
        "id": "QDs6G6uP1kBW",
        "colab_type": "code",
        "colab": {
          "base_uri": "https://localhost:8080/",
          "height": 136
        },
        "outputId": "a432ef54-696b-4662-adca-1d9c634789b1"
      },
      "cell_type": "code",
      "source": [
        "scores = model.evaluate(train_normalized_data, train_targets)\n",
        "print(f'{model.metrics_names[0]}: {scores[0]}')\n",
        "print(f'{model.metrics_names[1]}: {scores[1]}')\n",
        "scores  = model.evaluate(test_normalized_data, test_targets)\n",
        "print('scores:', scores)\n",
        "print(f'{model.metrics_names[0]}: {scores[0]}')\n",
        "print(f'{model.metrics_names[1]}: {scores[1]}')"
      ],
      "execution_count": 103,
      "outputs": [
        {
          "output_type": "stream",
          "text": [
            "404/404 [==============================] - 0s 244us/step\n",
            "loss: 84.62254412811582\n",
            "mean_absolute_error: 6.650726932110173\n",
            "102/102 [==============================] - 0s 31us/step\n",
            "scores: [83.68787787942325, 6.534280515184589]\n",
            "loss: 83.68787787942325\n",
            "mean_absolute_error: 6.534280515184589\n"
          ],
          "name": "stdout"
        }
      ]
    },
    {
      "metadata": {
        "id": "RF1dHJUIPwGT",
        "colab_type": "text"
      },
      "cell_type": "markdown",
      "source": [
        "## Linear Regression"
      ]
    },
    {
      "metadata": {
        "id": "S9sMfSgr1kDp",
        "colab_type": "code",
        "colab": {}
      },
      "cell_type": "code",
      "source": [
        "model = LinearRegression().fit(train_normalized_data, train_targets)\n",
        "model.predict(test_normalized_data)"
      ],
      "execution_count": 0,
      "outputs": []
    },
    {
      "metadata": {
        "id": "iHlL64kj1kGC",
        "colab_type": "code",
        "colab": {}
      },
      "cell_type": "code",
      "source": [
        ""
      ],
      "execution_count": 0,
      "outputs": []
    },
    {
      "metadata": {
        "id": "Dfi9Ey1h1kIY",
        "colab_type": "code",
        "colab": {}
      },
      "cell_type": "code",
      "source": [
        ""
      ],
      "execution_count": 0,
      "outputs": []
    },
    {
      "metadata": {
        "id": "FrSN04O81kKw",
        "colab_type": "code",
        "colab": {}
      },
      "cell_type": "code",
      "source": [
        ""
      ],
      "execution_count": 0,
      "outputs": []
    },
    {
      "metadata": {
        "id": "Tjqlu0Gh1kM1",
        "colab_type": "code",
        "colab": {}
      },
      "cell_type": "code",
      "source": [
        ""
      ],
      "execution_count": 0,
      "outputs": []
    },
    {
      "metadata": {
        "id": "HIpJHPE01WB4",
        "colab_type": "code",
        "colab": {}
      },
      "cell_type": "code",
      "source": [
        ""
      ],
      "execution_count": 0,
      "outputs": []
    },
    {
      "metadata": {
        "id": "SfcFnOONyuNm",
        "colab_type": "text"
      },
      "cell_type": "markdown",
      "source": [
        "## Use the Keras Library to build an image recognition network using the Fashion-MNIST dataset (also comes with keras)\n",
        "\n",
        "- Load and preprocess the image data similar to how we preprocessed the MNIST data in class.\n",
        "- Make sure to one-hot encode your category labels\n",
        "- Make sure to have your final layer have as many nodes as the number of classes that you want to predict.\n",
        "- Try different hyperparameters. What is the highest accuracy that you are able to achieve.\n",
        "- Use the history object that is returned from model.fit to make graphs of the model's loss or train/validation accuracies by epoch. \n",
        "- Remember that neural networks fall prey to randomness so you may need to run your model multiple times (or use Cross Validation) in order to tell if a change to a hyperparameter is truly producing better results."
      ]
    },
    {
      "metadata": {
        "id": "kpKYs8Agwku0",
        "colab_type": "code",
        "colab": {}
      },
      "cell_type": "code",
      "source": [
        ""
      ],
      "execution_count": 0,
      "outputs": []
    },
    {
      "metadata": {
        "id": "szi6-IpuzaH1",
        "colab_type": "code",
        "colab": {}
      },
      "cell_type": "code",
      "source": [
        "##### Your Code Here #####"
      ],
      "execution_count": 0,
      "outputs": []
    },
    {
      "metadata": {
        "id": "zv_3xNMjzdLI",
        "colab_type": "text"
      },
      "cell_type": "markdown",
      "source": [
        "## Stretch Goals:\n",
        "\n",
        "- Use Hyperparameter Tuning to make the accuracy of your models as high as possible. (error as low as possible)\n",
        "- Use Cross Validation techniques to get more consistent results with your model.\n",
        "- Use GridSearchCV to try different combinations of hyperparameters. \n",
        "- Start looking into other types of Keras layers for CNNs and RNNs maybe try and build a CNN model for fashion-MNIST to see how the results compare."
      ]
    }
  ]
}