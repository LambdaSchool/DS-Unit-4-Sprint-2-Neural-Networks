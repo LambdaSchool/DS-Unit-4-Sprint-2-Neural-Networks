{
  "nbformat": 4,
  "nbformat_minor": 0,
  "metadata": {
    "colab": {
      "name": "LS_DS_423_Keras_Assignment_ALEX_KAISER.ipynb",
      "provenance": [],
      "collapsed_sections": [],
      "include_colab_link": true
    },
    "kernelspec": {
      "display_name": "Python 3",
      "language": "python",
      "name": "python3"
    },
    "language_info": {
      "codemirror_mode": {
        "name": "ipython",
        "version": 3
      },
      "file_extension": ".py",
      "mimetype": "text/x-python",
      "name": "python",
      "nbconvert_exporter": "python",
      "pygments_lexer": "ipython3",
      "version": "3.7.3"
    }
  },
  "cells": [
    {
      "cell_type": "markdown",
      "metadata": {
        "id": "view-in-github",
        "colab_type": "text"
      },
      "source": [
        "<a href=\"https://colab.research.google.com/github/Lord-Kanzler/DS-Unit-4-Sprint-2-Neural-Networks/blob/master/module3-Intro-to-Keras/LS_DS_423_Keras_Assignment_ALEX_KAISER.ipynb\" target=\"_parent\"><img src=\"https://colab.research.google.com/assets/colab-badge.svg\" alt=\"Open In Colab\"/></a>"
      ]
    },
    {
      "cell_type": "markdown",
      "metadata": {
        "colab_type": "text",
        "id": "pBQsZEJmubLs"
      },
      "source": [
        "<img align=\"left\" src=\"https://lever-client-logos.s3.amazonaws.com/864372b1-534c-480e-acd5-9711f850815c-1524247202159.png\" width=200>\n",
        "<br></br>\n",
        "\n",
        "# Neural Network Framework (Keras)\n",
        "\n",
        "## *Data Science Unit 4 Sprint 2 Assignment 3*\n",
        "\n",
        "## Use the Keras Library to build a Multi-Layer Perceptron Model on the Boston Housing dataset\n",
        "\n",
        "- The Boston Housing dataset comes with the Keras library so use Keras to import it into your notebook. \n",
        "- Normalize the data (all features should have roughly the same scale)\n",
        "- Import the type of model and layers that you will need from Keras.\n",
        "- Instantiate a model object and use `model.add()` to add layers to your model\n",
        "- Since this is a regression model you will have a single output node in the final layer.\n",
        "- Use activation functions that are appropriate for this task\n",
        "- Compile your model\n",
        "- Fit your model and report its accuracy in terms of Mean Squared Error\n",
        "- Use the history object that is returned from model.fit to make graphs of the model's loss or train/validation accuracies by epoch. \n",
        "- Run this same data through a linear regression model. Which achieves higher accuracy?\n",
        "- Do a little bit of feature engineering and see how that affects your neural network model. (you will need to change your model to accept more inputs)\n",
        "- After feature engineering, which model sees a greater accuracy boost due to the new features?"
      ]
    },
    {
      "cell_type": "code",
      "metadata": {
        "colab_type": "code",
        "id": "8NLTAR87uYJ-",
        "colab": {}
      },
      "source": [
        "##### Your Code Here #####\n",
        "import numpy as np\n",
        "from tensorflow import keras\n",
        "from tensorflow.keras.datasets import boston_housing"
      ],
      "execution_count": 0,
      "outputs": []
    },
    {
      "cell_type": "code",
      "metadata": {
        "id": "GkhNehYwwQG8",
        "colab_type": "code",
        "colab": {
          "base_uri": "https://localhost:8080/",
          "height": 52
        },
        "outputId": "a4a5bfb0-1298-4914-a06d-80a3c1415cee"
      },
      "source": [
        "# train/test split\n",
        "(X_train, y_train), (X_test, y_test) = boston_housing.load_data()"
      ],
      "execution_count": 3,
      "outputs": [
        {
          "output_type": "stream",
          "text": [
            "Downloading data from https://storage.googleapis.com/tensorflow/tf-keras-datasets/boston_housing.npz\n",
            "57344/57026 [==============================] - 0s 0us/step\n"
          ],
          "name": "stdout"
        }
      ]
    },
    {
      "cell_type": "code",
      "metadata": {
        "id": "aJdmpwBrwxuE",
        "colab_type": "code",
        "colab": {
          "base_uri": "https://localhost:8080/",
          "height": 247
        },
        "outputId": "b7fb7f9b-ec20-4c37-e373-509b429c7c2e"
      },
      "source": [
        "X_train"
      ],
      "execution_count": 4,
      "outputs": [
        {
          "output_type": "execute_result",
          "data": {
            "text/plain": [
              "array([[1.23247e+00, 0.00000e+00, 8.14000e+00, ..., 2.10000e+01,\n",
              "        3.96900e+02, 1.87200e+01],\n",
              "       [2.17700e-02, 8.25000e+01, 2.03000e+00, ..., 1.47000e+01,\n",
              "        3.95380e+02, 3.11000e+00],\n",
              "       [4.89822e+00, 0.00000e+00, 1.81000e+01, ..., 2.02000e+01,\n",
              "        3.75520e+02, 3.26000e+00],\n",
              "       ...,\n",
              "       [3.46600e-02, 3.50000e+01, 6.06000e+00, ..., 1.69000e+01,\n",
              "        3.62250e+02, 7.83000e+00],\n",
              "       [2.14918e+00, 0.00000e+00, 1.95800e+01, ..., 1.47000e+01,\n",
              "        2.61950e+02, 1.57900e+01],\n",
              "       [1.43900e-02, 6.00000e+01, 2.93000e+00, ..., 1.56000e+01,\n",
              "        3.76700e+02, 4.38000e+00]])"
            ]
          },
          "metadata": {
            "tags": []
          },
          "execution_count": 4
        }
      ]
    },
    {
      "cell_type": "code",
      "metadata": {
        "id": "rpXghg7nwxyG",
        "colab_type": "code",
        "colab": {
          "base_uri": "https://localhost:8080/",
          "height": 674
        },
        "outputId": "7f2fada1-0e63-4e93-e59b-7bea2c4e1902"
      },
      "source": [
        "y_train"
      ],
      "execution_count": 5,
      "outputs": [
        {
          "output_type": "execute_result",
          "data": {
            "text/plain": [
              "array([15.2, 42.3, 50. , 21.1, 17.7, 18.5, 11.3, 15.6, 15.6, 14.4, 12.1,\n",
              "       17.9, 23.1, 19.9, 15.7,  8.8, 50. , 22.5, 24.1, 27.5, 10.9, 30.8,\n",
              "       32.9, 24. , 18.5, 13.3, 22.9, 34.7, 16.6, 17.5, 22.3, 16.1, 14.9,\n",
              "       23.1, 34.9, 25. , 13.9, 13.1, 20.4, 20. , 15.2, 24.7, 22.2, 16.7,\n",
              "       12.7, 15.6, 18.4, 21. , 30.1, 15.1, 18.7,  9.6, 31.5, 24.8, 19.1,\n",
              "       22. , 14.5, 11. , 32. , 29.4, 20.3, 24.4, 14.6, 19.5, 14.1, 14.3,\n",
              "       15.6, 10.5,  6.3, 19.3, 19.3, 13.4, 36.4, 17.8, 13.5, 16.5,  8.3,\n",
              "       14.3, 16. , 13.4, 28.6, 43.5, 20.2, 22. , 23. , 20.7, 12.5, 48.5,\n",
              "       14.6, 13.4, 23.7, 50. , 21.7, 39.8, 38.7, 22.2, 34.9, 22.5, 31.1,\n",
              "       28.7, 46. , 41.7, 21. , 26.6, 15. , 24.4, 13.3, 21.2, 11.7, 21.7,\n",
              "       19.4, 50. , 22.8, 19.7, 24.7, 36.2, 14.2, 18.9, 18.3, 20.6, 24.6,\n",
              "       18.2,  8.7, 44. , 10.4, 13.2, 21.2, 37. , 30.7, 22.9, 20. , 19.3,\n",
              "       31.7, 32. , 23.1, 18.8, 10.9, 50. , 19.6,  5. , 14.4, 19.8, 13.8,\n",
              "       19.6, 23.9, 24.5, 25. , 19.9, 17.2, 24.6, 13.5, 26.6, 21.4, 11.9,\n",
              "       22.6, 19.6,  8.5, 23.7, 23.1, 22.4, 20.5, 23.6, 18.4, 35.2, 23.1,\n",
              "       27.9, 20.6, 23.7, 28. , 13.6, 27.1, 23.6, 20.6, 18.2, 21.7, 17.1,\n",
              "        8.4, 25.3, 13.8, 22.2, 18.4, 20.7, 31.6, 30.5, 20.3,  8.8, 19.2,\n",
              "       19.4, 23.1, 23. , 14.8, 48.8, 22.6, 33.4, 21.1, 13.6, 32.2, 13.1,\n",
              "       23.4, 18.9, 23.9, 11.8, 23.3, 22.8, 19.6, 16.7, 13.4, 22.2, 20.4,\n",
              "       21.8, 26.4, 14.9, 24.1, 23.8, 12.3, 29.1, 21. , 19.5, 23.3, 23.8,\n",
              "       17.8, 11.5, 21.7, 19.9, 25. , 33.4, 28.5, 21.4, 24.3, 27.5, 33.1,\n",
              "       16.2, 23.3, 48.3, 22.9, 22.8, 13.1, 12.7, 22.6, 15. , 15.3, 10.5,\n",
              "       24. , 18.5, 21.7, 19.5, 33.2, 23.2,  5. , 19.1, 12.7, 22.3, 10.2,\n",
              "       13.9, 16.3, 17. , 20.1, 29.9, 17.2, 37.3, 45.4, 17.8, 23.2, 29. ,\n",
              "       22. , 18. , 17.4, 34.6, 20.1, 25. , 15.6, 24.8, 28.2, 21.2, 21.4,\n",
              "       23.8, 31. , 26.2, 17.4, 37.9, 17.5, 20. ,  8.3, 23.9,  8.4, 13.8,\n",
              "        7.2, 11.7, 17.1, 21.6, 50. , 16.1, 20.4, 20.6, 21.4, 20.6, 36.5,\n",
              "        8.5, 24.8, 10.8, 21.9, 17.3, 18.9, 36.2, 14.9, 18.2, 33.3, 21.8,\n",
              "       19.7, 31.6, 24.8, 19.4, 22.8,  7.5, 44.8, 16.8, 18.7, 50. , 50. ,\n",
              "       19.5, 20.1, 50. , 17.2, 20.8, 19.3, 41.3, 20.4, 20.5, 13.8, 16.5,\n",
              "       23.9, 20.6, 31.5, 23.3, 16.8, 14. , 33.8, 36.1, 12.8, 18.3, 18.7,\n",
              "       19.1, 29. , 30.1, 50. , 50. , 22. , 11.9, 37.6, 50. , 22.7, 20.8,\n",
              "       23.5, 27.9, 50. , 19.3, 23.9, 22.6, 15.2, 21.7, 19.2, 43.8, 20.3,\n",
              "       33.2, 19.9, 22.5, 32.7, 22. , 17.1, 19. , 15. , 16.1, 25.1, 23.7,\n",
              "       28.7, 37.2, 22.6, 16.4, 25. , 29.8, 22.1, 17.4, 18.1, 30.3, 17.5,\n",
              "       24.7, 12.6, 26.5, 28.7, 13.3, 10.4, 24.4, 23. , 20. , 17.8,  7. ,\n",
              "       11.8, 24.4, 13.8, 19.4, 25.2, 19.4, 19.4, 29.1])"
            ]
          },
          "metadata": {
            "tags": []
          },
          "execution_count": 5
        }
      ]
    },
    {
      "cell_type": "code",
      "metadata": {
        "id": "rVPUTIb8xveg",
        "colab_type": "code",
        "colab": {
          "base_uri": "https://localhost:8080/",
          "height": 34
        },
        "outputId": "1bc36553-11d0-4761-c36c-dd3391417295"
      },
      "source": [
        "# Normalize the data\n",
        "X_train = keras.utils.normalize(X_train)\n",
        "X_test = keras.utils.normalize(X_test)\n",
        "X_train.shape, y_train.shape"
      ],
      "execution_count": 6,
      "outputs": [
        {
          "output_type": "execute_result",
          "data": {
            "text/plain": [
              "((404, 13), (404,))"
            ]
          },
          "metadata": {
            "tags": []
          },
          "execution_count": 6
        }
      ]
    },
    {
      "cell_type": "code",
      "metadata": {
        "id": "NlGBfTGezyXg",
        "colab_type": "code",
        "colab": {}
      },
      "source": [
        "# Import the type of model and layers that you will need from Keras.\n",
        "import os\n",
        "import datetime\n",
        "import tensorflow as tf\n",
        "from tensorflow.keras import regularizers\n",
        "from tensorflow.keras.models import Sequential\n",
        "from tensorflow.keras.layers import Dense, Flatten, Dropout\n",
        "from tensorflow.keras.callbacks import EarlyStopping\n",
        "from sklearn.preprocessing import MinMaxScaler"
      ],
      "execution_count": 0,
      "outputs": []
    },
    {
      "cell_type": "code",
      "metadata": {
        "id": "hGYNNZqg0QK3",
        "colab_type": "code",
        "colab": {
          "base_uri": "https://localhost:8080/",
          "height": 1000
        },
        "outputId": "9e84fd81-ec03-4474-d76e-5773f95179d6"
      },
      "source": [
        "# Instantiate a model object and use model.add() to add layers to your model\n",
        "logdir = os.path.join(\"logs\", datetime.datetime.now().strftime(\"%Y%m%d-%H%M%S\"))\n",
        "tensorboard_callback = tf.keras.callbacks.TensorBoard(logdir, histogram_freq=1)\n",
        "\n",
        "stop = EarlyStopping(monitor='val_loss', min_delta=0.01, patience=3)\n",
        "\n",
        "model = Sequential()\n",
        "model.add(Dense(14, input_shape=(13,), activation='relu')) #elu 10\n",
        "model.add(Dense(54, activation='relu')) \n",
        "model.add(Dense(1, activation='relu'))\n",
        "\n",
        "# Compile your model\n",
        "model.compile(loss='mean_absolute_error', optimizer='adam', metrics=['MeanSquaredError'])\n",
        "\n",
        "# Fit your model and report its accuracy in terms of Mean Squared Error\n",
        "history = model.fit(X_train, y_train, epochs=100, validation_data=(X_test, y_test), callbacks=[tensorboard_callback, stop])"
      ],
      "execution_count": 9,
      "outputs": [
        {
          "output_type": "stream",
          "text": [
            "Epoch 1/100\n",
            "13/13 [==============================] - 0s 11ms/step - loss: 22.0407 - mean_squared_error: 570.0743 - val_loss: 22.5634 - val_mean_squared_error: 592.0007\n",
            "Epoch 2/100\n",
            "13/13 [==============================] - 0s 5ms/step - loss: 21.7380 - mean_squared_error: 556.8893 - val_loss: 22.2312 - val_mean_squared_error: 577.0222\n",
            "Epoch 3/100\n",
            "13/13 [==============================] - 0s 4ms/step - loss: 21.3715 - mean_squared_error: 540.9238 - val_loss: 21.8157 - val_mean_squared_error: 558.6172\n",
            "Epoch 4/100\n",
            "13/13 [==============================] - 0s 4ms/step - loss: 20.9037 - mean_squared_error: 521.0770 - val_loss: 21.2752 - val_mean_squared_error: 535.1965\n",
            "Epoch 5/100\n",
            "13/13 [==============================] - 0s 5ms/step - loss: 20.2849 - mean_squared_error: 495.3878 - val_loss: 20.5497 - val_mean_squared_error: 504.6200\n",
            "Epoch 6/100\n",
            "13/13 [==============================] - 0s 4ms/step - loss: 19.4487 - mean_squared_error: 461.7192 - val_loss: 19.5674 - val_mean_squared_error: 464.9369\n",
            "Epoch 7/100\n",
            "13/13 [==============================] - 0s 4ms/step - loss: 18.3313 - mean_squared_error: 419.3800 - val_loss: 18.2737 - val_mean_squared_error: 415.6544\n",
            "Epoch 8/100\n",
            "13/13 [==============================] - 0s 5ms/step - loss: 16.8831 - mean_squared_error: 367.8734 - val_loss: 16.6374 - val_mean_squared_error: 357.6396\n",
            "Epoch 9/100\n",
            "13/13 [==============================] - 0s 5ms/step - loss: 15.0703 - mean_squared_error: 308.6666 - val_loss: 14.6641 - val_mean_squared_error: 292.2228\n",
            "Epoch 10/100\n",
            "13/13 [==============================] - 0s 4ms/step - loss: 12.8659 - mean_squared_error: 243.5578 - val_loss: 12.4243 - val_mean_squared_error: 223.6231\n",
            "Epoch 11/100\n",
            "13/13 [==============================] - 0s 4ms/step - loss: 10.3616 - mean_squared_error: 181.0293 - val_loss: 10.0372 - val_mean_squared_error: 160.4198\n",
            "Epoch 12/100\n",
            "13/13 [==============================] - 0s 4ms/step - loss: 8.1004 - mean_squared_error: 129.5878 - val_loss: 8.0098 - val_mean_squared_error: 113.5222\n",
            "Epoch 13/100\n",
            "13/13 [==============================] - 0s 4ms/step - loss: 6.6320 - mean_squared_error: 94.6496 - val_loss: 6.6514 - val_mean_squared_error: 88.0339\n",
            "Epoch 14/100\n",
            "13/13 [==============================] - 0s 4ms/step - loss: 6.2313 - mean_squared_error: 82.0118 - val_loss: 6.3075 - val_mean_squared_error: 80.1907\n",
            "Epoch 15/100\n",
            "13/13 [==============================] - 0s 5ms/step - loss: 6.1618 - mean_squared_error: 78.4558 - val_loss: 6.2644 - val_mean_squared_error: 79.1869\n",
            "Epoch 16/100\n",
            "13/13 [==============================] - 0s 4ms/step - loss: 6.0889 - mean_squared_error: 77.9793 - val_loss: 6.2498 - val_mean_squared_error: 79.5638\n",
            "Epoch 17/100\n",
            "13/13 [==============================] - 0s 4ms/step - loss: 6.0180 - mean_squared_error: 78.0856 - val_loss: 6.2674 - val_mean_squared_error: 79.6593\n",
            "Epoch 18/100\n",
            "13/13 [==============================] - 0s 4ms/step - loss: 5.9603 - mean_squared_error: 77.1413 - val_loss: 6.1901 - val_mean_squared_error: 77.8291\n",
            "Epoch 19/100\n",
            "13/13 [==============================] - 0s 4ms/step - loss: 5.8997 - mean_squared_error: 75.8334 - val_loss: 6.1507 - val_mean_squared_error: 76.7838\n",
            "Epoch 20/100\n",
            "13/13 [==============================] - 0s 4ms/step - loss: 5.8449 - mean_squared_error: 75.1580 - val_loss: 6.1339 - val_mean_squared_error: 76.2599\n",
            "Epoch 21/100\n",
            "13/13 [==============================] - 0s 4ms/step - loss: 5.7968 - mean_squared_error: 74.8351 - val_loss: 6.1116 - val_mean_squared_error: 75.6272\n",
            "Epoch 22/100\n",
            "13/13 [==============================] - 0s 4ms/step - loss: 5.7402 - mean_squared_error: 73.9376 - val_loss: 6.0797 - val_mean_squared_error: 74.7835\n",
            "Epoch 23/100\n",
            "13/13 [==============================] - 0s 5ms/step - loss: 5.6917 - mean_squared_error: 72.8288 - val_loss: 6.0468 - val_mean_squared_error: 73.9517\n",
            "Epoch 24/100\n",
            "13/13 [==============================] - 0s 5ms/step - loss: 5.6469 - mean_squared_error: 72.6392 - val_loss: 6.0628 - val_mean_squared_error: 74.1771\n",
            "Epoch 25/100\n",
            "13/13 [==============================] - 0s 4ms/step - loss: 5.6151 - mean_squared_error: 71.9291 - val_loss: 5.9707 - val_mean_squared_error: 72.1403\n",
            "Epoch 26/100\n",
            "13/13 [==============================] - 0s 5ms/step - loss: 5.5716 - mean_squared_error: 71.9141 - val_loss: 6.0612 - val_mean_squared_error: 73.9305\n",
            "Epoch 27/100\n",
            "13/13 [==============================] - 0s 4ms/step - loss: 5.5234 - mean_squared_error: 71.4541 - val_loss: 5.9699 - val_mean_squared_error: 71.9066\n",
            "Epoch 28/100\n",
            "13/13 [==============================] - 0s 4ms/step - loss: 5.4855 - mean_squared_error: 70.0356 - val_loss: 5.9380 - val_mean_squared_error: 71.1007\n",
            "Epoch 29/100\n",
            "13/13 [==============================] - 0s 4ms/step - loss: 5.4455 - mean_squared_error: 69.7188 - val_loss: 5.9292 - val_mean_squared_error: 70.8224\n",
            "Epoch 30/100\n",
            "13/13 [==============================] - 0s 4ms/step - loss: 5.4088 - mean_squared_error: 69.4978 - val_loss: 5.9344 - val_mean_squared_error: 70.8961\n",
            "Epoch 31/100\n",
            "13/13 [==============================] - 0s 4ms/step - loss: 5.3834 - mean_squared_error: 69.4120 - val_loss: 5.9090 - val_mean_squared_error: 70.2435\n",
            "Epoch 32/100\n",
            "13/13 [==============================] - 0s 4ms/step - loss: 5.3501 - mean_squared_error: 68.8209 - val_loss: 5.8931 - val_mean_squared_error: 69.8091\n",
            "Epoch 33/100\n",
            "13/13 [==============================] - 0s 5ms/step - loss: 5.3271 - mean_squared_error: 68.5035 - val_loss: 5.8882 - val_mean_squared_error: 69.6169\n",
            "Epoch 34/100\n",
            "13/13 [==============================] - 0s 4ms/step - loss: 5.3028 - mean_squared_error: 68.3398 - val_loss: 5.8624 - val_mean_squared_error: 68.7668\n",
            "Epoch 35/100\n",
            "13/13 [==============================] - 0s 4ms/step - loss: 5.2895 - mean_squared_error: 66.7932 - val_loss: 5.8268 - val_mean_squared_error: 67.5851\n",
            "Epoch 36/100\n",
            "13/13 [==============================] - 0s 4ms/step - loss: 5.2706 - mean_squared_error: 67.5352 - val_loss: 5.8840 - val_mean_squared_error: 69.2594\n",
            "Epoch 37/100\n",
            "13/13 [==============================] - 0s 4ms/step - loss: 5.2349 - mean_squared_error: 67.3796 - val_loss: 5.8276 - val_mean_squared_error: 67.4509\n",
            "Epoch 38/100\n",
            "13/13 [==============================] - 0s 4ms/step - loss: 5.2281 - mean_squared_error: 66.4556 - val_loss: 5.8201 - val_mean_squared_error: 67.1454\n"
          ],
          "name": "stdout"
        }
      ]
    },
    {
      "cell_type": "code",
      "metadata": {
        "id": "TjCJBpUGBcYF",
        "colab_type": "code",
        "colab": {
          "base_uri": "https://localhost:8080/",
          "height": 1000
        },
        "outputId": "29dd7788-c7d7-4cad-fd41-95231c609766"
      },
      "source": [
        "# Second try:\n",
        "\n",
        "scaler = MinMaxScaler()\n",
        "\n",
        "X_train_scaled = scaler.fit_transform(X_train)\n",
        "X_test_scaled = scaler.transform(X_test)\n",
        "\n",
        "\n",
        "ogdir = os.path.join(\"logs\", datetime.datetime.now().strftime(\"%Y%m%d-%H%M%S\"))\n",
        "tensorboard_callback = tf.keras.callbacks.TensorBoard(logdir, histogram_freq=1)\n",
        "\n",
        "stop = EarlyStopping(monitor='mse', min_delta=0.01, patience=3)\n",
        "\n",
        "model = Sequential([\n",
        "    Flatten(),\n",
        "    Dense(32, input_dim = 404, activation='elu'),\n",
        "    Dense(32, activation='elu'),\n",
        "    Dense(1)\n",
        "])\n",
        "\n",
        "# Complile the model (report accuracy in terms of Mean Squared Error)\n",
        "model.compile(loss='mae', optimizer='adam', metrics=['mse'])\n",
        "\n",
        "# Fit the model \n",
        "history = model.fit(\n",
        "    x = X_train_scaled,\n",
        "    y = y_train,\n",
        "    epochs = 100,\n",
        "    validation_data = (X_test_scaled, y_test),\n",
        "    callbacks = [tensorboard_callback, stop], \n",
        ")"
      ],
      "execution_count": 16,
      "outputs": [
        {
          "output_type": "stream",
          "text": [
            "Epoch 1/100\n",
            "13/13 [==============================] - 0s 12ms/step - loss: 21.2885 - mse: 537.2308 - val_loss: 21.4032 - val_mse: 540.1642\n",
            "Epoch 2/100\n",
            "13/13 [==============================] - 0s 5ms/step - loss: 20.1940 - mse: 491.6189 - val_loss: 20.2188 - val_mse: 490.7188\n",
            "Epoch 3/100\n",
            "13/13 [==============================] - 0s 4ms/step - loss: 18.8702 - mse: 440.8823 - val_loss: 18.7007 - val_mse: 431.1510\n",
            "Epoch 4/100\n",
            "13/13 [==============================] - 0s 4ms/step - loss: 17.1415 - mse: 377.9901 - val_loss: 16.7155 - val_mse: 359.8513\n",
            "Epoch 5/100\n",
            "13/13 [==============================] - 0s 4ms/step - loss: 14.9209 - mse: 307.4774 - val_loss: 14.2880 - val_mse: 280.1032\n",
            "Epoch 6/100\n",
            "13/13 [==============================] - 0s 4ms/step - loss: 12.2476 - mse: 231.0892 - val_loss: 11.6103 - val_mse: 200.6504\n",
            "Epoch 7/100\n",
            "13/13 [==============================] - 0s 4ms/step - loss: 9.5119 - mse: 162.3895 - val_loss: 9.0718 - val_mse: 135.1858\n",
            "Epoch 8/100\n",
            "13/13 [==============================] - 0s 4ms/step - loss: 7.4496 - mse: 113.5359 - val_loss: 7.2934 - val_mse: 95.4662\n",
            "Epoch 9/100\n",
            "13/13 [==============================] - 0s 4ms/step - loss: 6.6837 - mse: 91.4502 - val_loss: 6.5354 - val_mse: 81.0025\n",
            "Epoch 10/100\n",
            "13/13 [==============================] - 0s 4ms/step - loss: 6.5187 - mse: 84.3748 - val_loss: 6.3739 - val_mse: 77.5449\n",
            "Epoch 11/100\n",
            "13/13 [==============================] - 0s 5ms/step - loss: 6.3546 - mse: 81.6070 - val_loss: 6.3532 - val_mse: 76.4042\n",
            "Epoch 12/100\n",
            "13/13 [==============================] - 0s 4ms/step - loss: 6.2068 - mse: 80.2184 - val_loss: 6.3638 - val_mse: 76.1373\n",
            "Epoch 13/100\n",
            "13/13 [==============================] - 0s 4ms/step - loss: 6.0644 - mse: 78.4071 - val_loss: 6.2569 - val_mse: 73.7307\n",
            "Epoch 14/100\n",
            "13/13 [==============================] - 0s 4ms/step - loss: 5.9166 - mse: 75.9172 - val_loss: 6.1598 - val_mse: 71.5936\n",
            "Epoch 15/100\n",
            "13/13 [==============================] - 0s 5ms/step - loss: 5.7764 - mse: 73.5452 - val_loss: 6.0887 - val_mse: 69.9121\n",
            "Epoch 16/100\n",
            "13/13 [==============================] - 0s 4ms/step - loss: 5.6525 - mse: 71.4085 - val_loss: 5.9999 - val_mse: 67.7375\n",
            "Epoch 17/100\n",
            "13/13 [==============================] - 0s 4ms/step - loss: 5.5550 - mse: 70.8002 - val_loss: 5.9739 - val_mse: 67.2261\n",
            "Epoch 18/100\n",
            "13/13 [==============================] - 0s 4ms/step - loss: 5.4215 - mse: 68.2058 - val_loss: 5.8596 - val_mse: 64.0716\n",
            "Epoch 19/100\n",
            "13/13 [==============================] - 0s 4ms/step - loss: 5.3364 - mse: 66.6524 - val_loss: 5.8367 - val_mse: 64.0155\n",
            "Epoch 20/100\n",
            "13/13 [==============================] - 0s 4ms/step - loss: 5.2427 - mse: 65.4943 - val_loss: 5.7609 - val_mse: 62.3364\n",
            "Epoch 21/100\n",
            "13/13 [==============================] - 0s 5ms/step - loss: 5.1555 - mse: 64.5287 - val_loss: 5.7462 - val_mse: 62.7394\n",
            "Epoch 22/100\n",
            "13/13 [==============================] - 0s 4ms/step - loss: 5.1083 - mse: 64.4330 - val_loss: 5.6718 - val_mse: 61.2904\n",
            "Epoch 23/100\n",
            "13/13 [==============================] - 0s 4ms/step - loss: 5.0508 - mse: 61.9520 - val_loss: 5.5859 - val_mse: 58.9612\n",
            "Epoch 24/100\n",
            "13/13 [==============================] - 0s 4ms/step - loss: 4.9841 - mse: 61.3906 - val_loss: 5.5710 - val_mse: 59.4367\n",
            "Epoch 25/100\n",
            "13/13 [==============================] - 0s 4ms/step - loss: 4.9228 - mse: 60.4520 - val_loss: 5.4885 - val_mse: 57.2818\n",
            "Epoch 26/100\n",
            "13/13 [==============================] - 0s 4ms/step - loss: 4.8879 - mse: 59.0251 - val_loss: 5.4443 - val_mse: 56.7153\n",
            "Epoch 27/100\n",
            "13/13 [==============================] - 0s 4ms/step - loss: 4.8381 - mse: 58.7139 - val_loss: 5.4002 - val_mse: 56.1087\n",
            "Epoch 28/100\n",
            "13/13 [==============================] - 0s 4ms/step - loss: 4.7800 - mse: 57.2097 - val_loss: 5.3344 - val_mse: 54.8336\n",
            "Epoch 29/100\n",
            "13/13 [==============================] - 0s 4ms/step - loss: 4.7375 - mse: 56.7767 - val_loss: 5.2813 - val_mse: 53.9543\n",
            "Epoch 30/100\n",
            "13/13 [==============================] - 0s 5ms/step - loss: 4.6888 - mse: 55.1510 - val_loss: 5.2152 - val_mse: 52.6956\n",
            "Epoch 31/100\n",
            "13/13 [==============================] - 0s 4ms/step - loss: 4.6401 - mse: 54.7671 - val_loss: 5.1893 - val_mse: 52.6460\n",
            "Epoch 32/100\n",
            "13/13 [==============================] - 0s 5ms/step - loss: 4.5841 - mse: 53.2826 - val_loss: 5.0969 - val_mse: 50.6038\n",
            "Epoch 33/100\n",
            "13/13 [==============================] - 0s 4ms/step - loss: 4.5439 - mse: 52.2561 - val_loss: 5.0779 - val_mse: 50.7507\n",
            "Epoch 34/100\n",
            "13/13 [==============================] - 0s 4ms/step - loss: 4.4851 - mse: 52.0546 - val_loss: 5.0229 - val_mse: 49.7873\n",
            "Epoch 35/100\n",
            "13/13 [==============================] - 0s 4ms/step - loss: 4.4417 - mse: 50.4443 - val_loss: 4.9399 - val_mse: 48.1185\n",
            "Epoch 36/100\n",
            "13/13 [==============================] - 0s 4ms/step - loss: 4.3896 - mse: 49.7750 - val_loss: 4.8974 - val_mse: 47.6189\n",
            "Epoch 37/100\n",
            "13/13 [==============================] - 0s 4ms/step - loss: 4.3418 - mse: 48.5505 - val_loss: 4.8471 - val_mse: 46.8272\n",
            "Epoch 38/100\n",
            "13/13 [==============================] - 0s 4ms/step - loss: 4.3028 - mse: 48.2205 - val_loss: 4.7659 - val_mse: 45.3875\n",
            "Epoch 39/100\n",
            "13/13 [==============================] - 0s 5ms/step - loss: 4.2537 - mse: 46.4834 - val_loss: 4.7158 - val_mse: 44.7510\n",
            "Epoch 40/100\n",
            "13/13 [==============================] - 0s 4ms/step - loss: 4.2153 - mse: 46.0488 - val_loss: 4.6394 - val_mse: 43.4163\n",
            "Epoch 41/100\n",
            "13/13 [==============================] - 0s 4ms/step - loss: 4.1727 - mse: 44.9176 - val_loss: 4.6055 - val_mse: 43.1593\n",
            "Epoch 42/100\n",
            "13/13 [==============================] - 0s 4ms/step - loss: 4.1341 - mse: 43.9901 - val_loss: 4.5237 - val_mse: 41.7798\n",
            "Epoch 43/100\n",
            "13/13 [==============================] - 0s 4ms/step - loss: 4.0827 - mse: 43.4299 - val_loss: 4.4718 - val_mse: 40.9890\n",
            "Epoch 44/100\n",
            "13/13 [==============================] - 0s 4ms/step - loss: 4.0439 - mse: 42.4468 - val_loss: 4.4333 - val_mse: 40.5121\n",
            "Epoch 45/100\n",
            "13/13 [==============================] - 0s 4ms/step - loss: 3.9999 - mse: 42.1369 - val_loss: 4.3417 - val_mse: 39.0625\n",
            "Epoch 46/100\n",
            "13/13 [==============================] - 0s 4ms/step - loss: 3.9664 - mse: 40.4631 - val_loss: 4.2840 - val_mse: 38.2877\n",
            "Epoch 47/100\n",
            "13/13 [==============================] - 0s 5ms/step - loss: 3.9149 - mse: 40.5206 - val_loss: 4.2142 - val_mse: 37.2223\n",
            "Epoch 48/100\n",
            "13/13 [==============================] - 0s 5ms/step - loss: 3.8965 - mse: 39.2508 - val_loss: 4.2144 - val_mse: 37.4662\n",
            "Epoch 49/100\n",
            "13/13 [==============================] - 0s 5ms/step - loss: 3.8566 - mse: 39.1907 - val_loss: 4.0630 - val_mse: 34.9157\n",
            "Epoch 50/100\n",
            "13/13 [==============================] - 0s 4ms/step - loss: 3.7904 - mse: 37.4691 - val_loss: 4.0217 - val_mse: 34.4755\n",
            "Epoch 51/100\n",
            "13/13 [==============================] - 0s 4ms/step - loss: 3.7544 - mse: 36.9314 - val_loss: 3.9316 - val_mse: 33.1013\n",
            "Epoch 52/100\n",
            "13/13 [==============================] - 0s 4ms/step - loss: 3.7128 - mse: 36.0397 - val_loss: 3.8940 - val_mse: 32.6129\n",
            "Epoch 53/100\n",
            "13/13 [==============================] - 0s 4ms/step - loss: 3.7010 - mse: 35.2030 - val_loss: 3.8790 - val_mse: 32.5917\n",
            "Epoch 54/100\n",
            "13/13 [==============================] - 0s 4ms/step - loss: 3.6638 - mse: 35.4474 - val_loss: 3.7686 - val_mse: 30.8779\n",
            "Epoch 55/100\n",
            "13/13 [==============================] - 0s 4ms/step - loss: 3.6193 - mse: 33.9739 - val_loss: 3.6991 - val_mse: 29.8109\n",
            "Epoch 56/100\n",
            "13/13 [==============================] - 0s 4ms/step - loss: 3.5914 - mse: 33.2274 - val_loss: 3.6599 - val_mse: 29.4160\n",
            "Epoch 57/100\n",
            "13/13 [==============================] - 0s 4ms/step - loss: 3.5614 - mse: 33.1666 - val_loss: 3.6168 - val_mse: 28.7079\n",
            "Epoch 58/100\n",
            "13/13 [==============================] - 0s 4ms/step - loss: 3.5200 - mse: 32.0113 - val_loss: 3.5930 - val_mse: 28.3621\n",
            "Epoch 59/100\n",
            "13/13 [==============================] - 0s 4ms/step - loss: 3.4940 - mse: 31.4837 - val_loss: 3.5653 - val_mse: 28.1055\n",
            "Epoch 60/100\n",
            "13/13 [==============================] - 0s 5ms/step - loss: 3.4616 - mse: 31.8329 - val_loss: 3.5018 - val_mse: 26.9220\n",
            "Epoch 61/100\n",
            "13/13 [==============================] - 0s 4ms/step - loss: 3.4297 - mse: 30.4312 - val_loss: 3.5042 - val_mse: 27.3873\n",
            "Epoch 62/100\n",
            "13/13 [==============================] - 0s 4ms/step - loss: 3.4026 - mse: 30.7429 - val_loss: 3.4351 - val_mse: 25.6127\n",
            "Epoch 63/100\n",
            "13/13 [==============================] - 0s 4ms/step - loss: 3.3878 - mse: 29.2586 - val_loss: 3.4333 - val_mse: 26.3228\n",
            "Epoch 64/100\n",
            "13/13 [==============================] - 0s 4ms/step - loss: 3.3877 - mse: 29.8180 - val_loss: 3.3705 - val_mse: 24.3266\n",
            "Epoch 65/100\n",
            "13/13 [==============================] - 0s 5ms/step - loss: 3.3742 - mse: 29.4649 - val_loss: 3.3485 - val_mse: 23.7734\n",
            "Epoch 66/100\n",
            "13/13 [==============================] - 0s 4ms/step - loss: 3.3314 - mse: 28.2124 - val_loss: 3.3130 - val_mse: 24.0074\n",
            "Epoch 67/100\n",
            "13/13 [==============================] - 0s 5ms/step - loss: 3.3075 - mse: 28.7831 - val_loss: 3.3016 - val_mse: 23.7698\n",
            "Epoch 68/100\n",
            "13/13 [==============================] - 0s 4ms/step - loss: 3.3120 - mse: 27.7238 - val_loss: 3.2974 - val_mse: 23.9801\n",
            "Epoch 69/100\n",
            "13/13 [==============================] - 0s 4ms/step - loss: 3.3476 - mse: 29.5001 - val_loss: 3.2791 - val_mse: 21.8088\n",
            "Epoch 70/100\n",
            "13/13 [==============================] - 0s 4ms/step - loss: 3.3635 - mse: 28.2299 - val_loss: 3.3087 - val_mse: 24.0549\n",
            "Epoch 71/100\n",
            "13/13 [==============================] - 0s 4ms/step - loss: 3.3124 - mse: 27.4261 - val_loss: 3.1919 - val_mse: 22.0155\n",
            "Epoch 72/100\n",
            "13/13 [==============================] - 0s 4ms/step - loss: 3.2633 - mse: 27.9402 - val_loss: 3.1921 - val_mse: 21.7833\n",
            "Epoch 73/100\n",
            "13/13 [==============================] - 0s 4ms/step - loss: 3.2600 - mse: 26.6585 - val_loss: 3.2010 - val_mse: 22.3833\n",
            "Epoch 74/100\n",
            "13/13 [==============================] - 0s 4ms/step - loss: 3.2338 - mse: 27.4151 - val_loss: 3.1667 - val_mse: 21.5301\n",
            "Epoch 75/100\n",
            "13/13 [==============================] - 0s 4ms/step - loss: 3.2297 - mse: 27.0702 - val_loss: 3.1636 - val_mse: 21.5626\n",
            "Epoch 76/100\n",
            "13/13 [==============================] - 0s 4ms/step - loss: 3.2188 - mse: 26.4948 - val_loss: 3.1684 - val_mse: 21.6027\n",
            "Epoch 77/100\n",
            "13/13 [==============================] - 0s 5ms/step - loss: 3.2070 - mse: 26.9821 - val_loss: 3.1576 - val_mse: 21.1160\n",
            "Epoch 78/100\n",
            "13/13 [==============================] - 0s 4ms/step - loss: 3.1989 - mse: 26.2067 - val_loss: 3.1754 - val_mse: 21.7073\n",
            "Epoch 79/100\n",
            "13/13 [==============================] - 0s 4ms/step - loss: 3.1981 - mse: 26.7752 - val_loss: 3.1524 - val_mse: 20.4788\n",
            "Epoch 80/100\n",
            "13/13 [==============================] - 0s 4ms/step - loss: 3.2222 - mse: 25.9656 - val_loss: 3.1982 - val_mse: 21.9969\n",
            "Epoch 81/100\n",
            "13/13 [==============================] - 0s 5ms/step - loss: 3.1984 - mse: 26.1729 - val_loss: 3.1369 - val_mse: 20.5634\n",
            "Epoch 82/100\n",
            "13/13 [==============================] - 0s 5ms/step - loss: 3.1735 - mse: 26.2347 - val_loss: 3.1211 - val_mse: 20.5869\n",
            "Epoch 83/100\n",
            "13/13 [==============================] - 0s 4ms/step - loss: 3.1632 - mse: 25.9011 - val_loss: 3.0970 - val_mse: 20.0737\n",
            "Epoch 84/100\n",
            "13/13 [==============================] - 0s 4ms/step - loss: 3.1585 - mse: 26.0764 - val_loss: 3.1278 - val_mse: 20.8610\n",
            "Epoch 85/100\n",
            "13/13 [==============================] - 0s 4ms/step - loss: 3.1690 - mse: 25.6724 - val_loss: 3.0849 - val_mse: 19.8666\n",
            "Epoch 86/100\n",
            "13/13 [==============================] - 0s 5ms/step - loss: 3.1551 - mse: 26.2609 - val_loss: 3.0829 - val_mse: 19.5744\n",
            "Epoch 87/100\n",
            "13/13 [==============================] - 0s 4ms/step - loss: 3.1480 - mse: 25.4125 - val_loss: 3.1021 - val_mse: 20.2952\n",
            "Epoch 88/100\n",
            "13/13 [==============================] - 0s 4ms/step - loss: 3.1633 - mse: 26.3821 - val_loss: 3.0766 - val_mse: 19.4192\n",
            "Epoch 89/100\n",
            "13/13 [==============================] - 0s 5ms/step - loss: 3.1589 - mse: 25.7875 - val_loss: 3.0698 - val_mse: 19.5940\n",
            "Epoch 90/100\n",
            "13/13 [==============================] - 0s 4ms/step - loss: 3.1649 - mse: 25.3592 - val_loss: 3.1143 - val_mse: 20.7102\n",
            "Epoch 91/100\n",
            "13/13 [==============================] - 0s 4ms/step - loss: 3.1395 - mse: 25.8875 - val_loss: 3.0689 - val_mse: 19.4678\n",
            "Epoch 92/100\n",
            "13/13 [==============================] - 0s 4ms/step - loss: 3.1266 - mse: 25.6452 - val_loss: 3.0733 - val_mse: 19.5747\n",
            "Epoch 93/100\n",
            "13/13 [==============================] - 0s 4ms/step - loss: 3.1429 - mse: 25.6641 - val_loss: 3.1460 - val_mse: 20.9468\n"
          ],
          "name": "stdout"
        }
      ]
    },
    {
      "cell_type": "code",
      "metadata": {
        "id": "xcFpabzg-I8Y",
        "colab_type": "code",
        "colab": {
          "base_uri": "https://localhost:8080/",
          "height": 34
        },
        "outputId": "855f76a4-469f-41d9-fdd8-19004b61c04c"
      },
      "source": [
        "history"
      ],
      "execution_count": 17,
      "outputs": [
        {
          "output_type": "execute_result",
          "data": {
            "text/plain": [
              "<tensorflow.python.keras.callbacks.History at 0x7f5e0068a1d0>"
            ]
          },
          "metadata": {
            "tags": []
          },
          "execution_count": 17
        }
      ]
    },
    {
      "cell_type": "code",
      "metadata": {
        "id": "Pn5qu8_q-nB0",
        "colab_type": "code",
        "colab": {
          "base_uri": "https://localhost:8080/",
          "height": 34
        },
        "outputId": "2ed1c833-af01-4804-e38e-c4f4948631b0"
      },
      "source": [
        "print(history.history.keys())"
      ],
      "execution_count": 18,
      "outputs": [
        {
          "output_type": "stream",
          "text": [
            "dict_keys(['loss', 'mse', 'val_loss', 'val_mse'])\n"
          ],
          "name": "stdout"
        }
      ]
    },
    {
      "cell_type": "code",
      "metadata": {
        "id": "to_wWaIY-2e9",
        "colab_type": "code",
        "colab": {
          "base_uri": "https://localhost:8080/",
          "height": 294
        },
        "outputId": "55242c01-c29a-4cdb-97b6-e3e5e546a004"
      },
      "source": [
        "# Use the history object that is returned from model.fit to make graphs of the model's loss or train/validation accuracies by epoch.\n",
        "import matplotlib.pyplot as plt\n",
        "\n",
        "plt.plot(history.history['loss'])\n",
        "plt.plot(history.history['val_loss'])\n",
        "# plt.plot(history.history['mean_squared_error'])\n",
        "# plt.plot(history.history['val_mean_squared_error'])\n",
        "plt.title('Model Loss and MSE')\n",
        "plt.ylabel('Loss')\n",
        "plt.xlabel('Epoch')\n",
        "plt.legend(['train', 'test'], loc='upper right')\n",
        "plt.show();"
      ],
      "execution_count": 19,
      "outputs": [
        {
          "output_type": "display_data",
          "data": {
            "image/png": "[encoded data removed]",
            "text/plain": [
              "<Figure size 432x288 with 1 Axes>"
            ]
          },
          "metadata": {
            "tags": [],
            "needs_background": "light"
          }
        }
      ]
    },
    {
      "cell_type": "code",
      "metadata": {
        "id": "g1T9OanIC2W6",
        "colab_type": "code",
        "colab": {
          "base_uri": "https://localhost:8080/",
          "height": 34
        },
        "outputId": "c1093116-0162-4b59-a701-511fcd4b132f"
      },
      "source": [
        "# Run this same data through a linear regression model. Which achieves higher accuracy?\n",
        "from sklearn.linear_model import LinearRegression\n",
        "from sklearn.metrics import mean_squared_error as mse\n",
        "\n",
        "(X_train, y_train), (X_test, y_test) = boston_housing.load_data()\n",
        "\n",
        "scaler = MinMaxScaler()\n",
        "\n",
        "X_train_scaled = scaler.fit_transform(X_train)\n",
        "X_test_scaled = scaler.transform(X_test)\n",
        "\n",
        "model = LinearRegression()\n",
        "model.fit(X_train_scaled, y_train)\n"
      ],
      "execution_count": 20,
      "outputs": [
        {
          "output_type": "execute_result",
          "data": {
            "text/plain": [
              "LinearRegression(copy_X=True, fit_intercept=True, n_jobs=None, normalize=False)"
            ]
          },
          "metadata": {
            "tags": []
          },
          "execution_count": 20
        }
      ]
    },
    {
      "cell_type": "code",
      "metadata": {
        "id": "1nOTZkiID90m",
        "colab_type": "code",
        "colab": {
          "base_uri": "https://localhost:8080/",
          "height": 34
        },
        "outputId": "40880563-68e2-4bc6-de97-acb4c99ff527"
      },
      "source": [
        "y_predict = model.predict(X_test_scaled)\n",
        "print(f'MSE: {mse(y_test, y_predict)}')"
      ],
      "execution_count": 21,
      "outputs": [
        {
          "output_type": "stream",
          "text": [
            "MSE: 23.19559925642293\n"
          ],
          "name": "stdout"
        }
      ]
    },
    {
      "cell_type": "markdown",
      "metadata": {
        "id": "SGnAyPwYFqVK",
        "colab_type": "text"
      },
      "source": [
        "mse: 25.6641 - val_loss: 3.1460 - val_mse: 20.9468 is a significant improvement from my first attempt.\n",
        "\n",
        "val_mse: 20.9468 < MSE: 23.19559925642293\n"
      ]
    },
    {
      "cell_type": "markdown",
      "metadata": {
        "colab_type": "text",
        "id": "SfcFnOONyuNm"
      },
      "source": [
        "## Use the Keras Library to build an image recognition network using the Fashion-MNIST dataset (also comes with keras)\n",
        "\n",
        "- Load and preprocess the image data similar to how we preprocessed the MNIST data in class.\n",
        "- Make sure to one-hot encode your category labels\n",
        "- The number of nodes in your output layer should equal the number of classes you want to predict for Fashion-MNIST.\n",
        "- Try different hyperparameters. What is the highest accuracy that you are able to achieve.\n",
        "- Use the history object that is returned from model.fit to make graphs of the model's loss or train/validation accuracies by epoch. \n",
        "- Remember that neural networks fall prey to randomness so you may need to run your model multiple times (or use Cross Validation) in order to tell if a change to a hyperparameter is truly producing better results."
      ]
    },
    {
      "cell_type": "code",
      "metadata": {
        "colab_type": "code",
        "id": "szi6-IpuzaH1",
        "colab": {}
      },
      "source": [
        "##### Your Code Here #####\n",
        "from tensorflow.keras.datasets import  fashion_mnist"
      ],
      "execution_count": 0,
      "outputs": []
    },
    {
      "cell_type": "code",
      "metadata": {
        "id": "iTY2cHx1GbT8",
        "colab_type": "code",
        "colab": {
          "base_uri": "https://localhost:8080/",
          "height": 34
        },
        "outputId": "8f0bb82d-ad30-4e81-a621-8914b7e39697"
      },
      "source": [
        "# Load and preprocess the image data similar to how we preprocessed the MNIST data in class.\n",
        "(X_train, y_train), (X_test, y_test) = fashion_mnist.load_data()\n",
        "\n",
        "# X variable types\n",
        "X_train = X_train.astype('float32') / 255.\n",
        "X_test = X_test.astype('float32') / 255.\n",
        "\n",
        "# Encode categorical labels\n",
        "num_classes = 10\n",
        "y_train = keras.utils.to_categorical(y_train, num_classes)\n",
        "y_test = keras.utils.to_categorical(y_test, num_classes)\n",
        "\n",
        "X_train.shape, y_train.shape"
      ],
      "execution_count": 26,
      "outputs": [
        {
          "output_type": "execute_result",
          "data": {
            "text/plain": [
              "((60000, 28, 28), (60000, 10))"
            ]
          },
          "metadata": {
            "tags": []
          },
          "execution_count": 26
        }
      ]
    },
    {
      "cell_type": "code",
      "metadata": {
        "id": "Ak2RRROVGbZ9",
        "colab_type": "code",
        "colab": {
          "base_uri": "https://localhost:8080/",
          "height": 1000
        },
        "outputId": "14e9cba7-8b05-4ac3-c3c7-e9ccb503152c"
      },
      "source": [
        "# Define the Model, Complile and Fit the model\n",
        "\n",
        "functions = ['relu', 'elu', 'selu', 'softplus', 'softsign', 'swish', 'tanh']\n",
        "\n",
        "for activation in functions:\n",
        "  model2 = Sequential([\n",
        "      Flatten(input_shape=(28, 28)),\n",
        "      Dense(15, activation=activation),\n",
        "      Dense(10, activation='softmax')\n",
        "  ])\n",
        "\n",
        "  model2.compile(loss = 'categorical_crossentropy', optimizer='nadam', metrics=['accuracy'])\n",
        "\n",
        "  model2.fit(\n",
        "      x = X_train, \n",
        "      y = y_train,\n",
        "      epochs = 10,\n",
        "      validation_data = (X_test, y_test)\n",
        "  )"
      ],
      "execution_count": 27,
      "outputs": [
        {
          "output_type": "stream",
          "text": [
            "Epoch 1/10\n",
            "1875/1875 [==============================] - 3s 2ms/step - loss: 0.5959 - accuracy: 0.7989 - val_loss: 0.4819 - val_accuracy: 0.8322\n",
            "Epoch 2/10\n",
            "1875/1875 [==============================] - 3s 2ms/step - loss: 0.4353 - accuracy: 0.8484 - val_loss: 0.4545 - val_accuracy: 0.8386\n",
            "Epoch 3/10\n",
            "1875/1875 [==============================] - 3s 2ms/step - loss: 0.4067 - accuracy: 0.8566 - val_loss: 0.4401 - val_accuracy: 0.8440\n",
            "Epoch 4/10\n",
            "1875/1875 [==============================] - 3s 2ms/step - loss: 0.3903 - accuracy: 0.8631 - val_loss: 0.4164 - val_accuracy: 0.8530\n",
            "Epoch 5/10\n",
            "1875/1875 [==============================] - 3s 2ms/step - loss: 0.3771 - accuracy: 0.8667 - val_loss: 0.4236 - val_accuracy: 0.8509\n",
            "Epoch 6/10\n",
            "1875/1875 [==============================] - 3s 2ms/step - loss: 0.3655 - accuracy: 0.8698 - val_loss: 0.4163 - val_accuracy: 0.8542\n",
            "Epoch 7/10\n",
            "1875/1875 [==============================] - 3s 1ms/step - loss: 0.3601 - accuracy: 0.8720 - val_loss: 0.3975 - val_accuracy: 0.8567\n",
            "Epoch 8/10\n",
            "1875/1875 [==============================] - 3s 2ms/step - loss: 0.3529 - accuracy: 0.8739 - val_loss: 0.3971 - val_accuracy: 0.8569\n",
            "Epoch 9/10\n",
            "1875/1875 [==============================] - 3s 2ms/step - loss: 0.3467 - accuracy: 0.8762 - val_loss: 0.3993 - val_accuracy: 0.8564\n",
            "Epoch 10/10\n",
            "1875/1875 [==============================] - 3s 2ms/step - loss: 0.3414 - accuracy: 0.8777 - val_loss: 0.3955 - val_accuracy: 0.8612\n",
            "Epoch 1/10\n",
            "1875/1875 [==============================] - 3s 2ms/step - loss: 0.5887 - accuracy: 0.7996 - val_loss: 0.5011 - val_accuracy: 0.8225\n",
            "Epoch 2/10\n",
            "1875/1875 [==============================] - 3s 2ms/step - loss: 0.4384 - accuracy: 0.8465 - val_loss: 0.4455 - val_accuracy: 0.8401\n",
            "Epoch 3/10\n",
            "1875/1875 [==============================] - 3s 2ms/step - loss: 0.4078 - accuracy: 0.8560 - val_loss: 0.4395 - val_accuracy: 0.8435\n",
            "Epoch 4/10\n",
            "1875/1875 [==============================] - 3s 2ms/step - loss: 0.3897 - accuracy: 0.8617 - val_loss: 0.4208 - val_accuracy: 0.8502\n",
            "Epoch 5/10\n",
            "1875/1875 [==============================] - 3s 2ms/step - loss: 0.3785 - accuracy: 0.8658 - val_loss: 0.4192 - val_accuracy: 0.8520\n",
            "Epoch 6/10\n",
            "1875/1875 [==============================] - 3s 2ms/step - loss: 0.3677 - accuracy: 0.8682 - val_loss: 0.4103 - val_accuracy: 0.8566\n",
            "Epoch 7/10\n",
            "1875/1875 [==============================] - 3s 2ms/step - loss: 0.3617 - accuracy: 0.8707 - val_loss: 0.4120 - val_accuracy: 0.8484\n",
            "Epoch 8/10\n",
            "1875/1875 [==============================] - 3s 2ms/step - loss: 0.3545 - accuracy: 0.8730 - val_loss: 0.4217 - val_accuracy: 0.8502\n",
            "Epoch 9/10\n",
            "1875/1875 [==============================] - 3s 2ms/step - loss: 0.3489 - accuracy: 0.8753 - val_loss: 0.4001 - val_accuracy: 0.8571\n",
            "Epoch 10/10\n",
            "1875/1875 [==============================] - 3s 2ms/step - loss: 0.3430 - accuracy: 0.8766 - val_loss: 0.3998 - val_accuracy: 0.8554\n",
            "Epoch 1/10\n",
            "1875/1875 [==============================] - 3s 2ms/step - loss: 0.5666 - accuracy: 0.8084 - val_loss: 0.4834 - val_accuracy: 0.8313\n",
            "Epoch 2/10\n",
            "1875/1875 [==============================] - 3s 2ms/step - loss: 0.4277 - accuracy: 0.8507 - val_loss: 0.4344 - val_accuracy: 0.8489\n",
            "Epoch 3/10\n",
            "1875/1875 [==============================] - 3s 2ms/step - loss: 0.3988 - accuracy: 0.8596 - val_loss: 0.4309 - val_accuracy: 0.8479\n",
            "Epoch 4/10\n",
            "1875/1875 [==============================] - 3s 2ms/step - loss: 0.3821 - accuracy: 0.8653 - val_loss: 0.4253 - val_accuracy: 0.8475\n",
            "Epoch 5/10\n",
            "1875/1875 [==============================] - 3s 2ms/step - loss: 0.3702 - accuracy: 0.8677 - val_loss: 0.4135 - val_accuracy: 0.8549\n",
            "Epoch 6/10\n",
            "1875/1875 [==============================] - 3s 2ms/step - loss: 0.3604 - accuracy: 0.8711 - val_loss: 0.4015 - val_accuracy: 0.8595\n",
            "Epoch 7/10\n",
            "1875/1875 [==============================] - 3s 2ms/step - loss: 0.3534 - accuracy: 0.8732 - val_loss: 0.4201 - val_accuracy: 0.8526\n",
            "Epoch 8/10\n",
            "1875/1875 [==============================] - 3s 2ms/step - loss: 0.3479 - accuracy: 0.8747 - val_loss: 0.4135 - val_accuracy: 0.8521\n",
            "Epoch 9/10\n",
            "1875/1875 [==============================] - 3s 2ms/step - loss: 0.3407 - accuracy: 0.8771 - val_loss: 0.4132 - val_accuracy: 0.8525\n",
            "Epoch 10/10\n",
            "1875/1875 [==============================] - 3s 2ms/step - loss: 0.3362 - accuracy: 0.8792 - val_loss: 0.3947 - val_accuracy: 0.8601\n",
            "Epoch 1/10\n",
            "1875/1875 [==============================] - 3s 2ms/step - loss: 0.5978 - accuracy: 0.8026 - val_loss: 0.4921 - val_accuracy: 0.8271\n",
            "Epoch 2/10\n",
            "1875/1875 [==============================] - 3s 2ms/step - loss: 0.4422 - accuracy: 0.8464 - val_loss: 0.4524 - val_accuracy: 0.8440\n",
            "Epoch 3/10\n",
            "1875/1875 [==============================] - 3s 2ms/step - loss: 0.4108 - accuracy: 0.8561 - val_loss: 0.4308 - val_accuracy: 0.8506\n",
            "Epoch 4/10\n",
            "1875/1875 [==============================] - 3s 2ms/step - loss: 0.3916 - accuracy: 0.8626 - val_loss: 0.4242 - val_accuracy: 0.8504\n",
            "Epoch 5/10\n",
            "1875/1875 [==============================] - 3s 2ms/step - loss: 0.3794 - accuracy: 0.8672 - val_loss: 0.4108 - val_accuracy: 0.8568\n",
            "Epoch 6/10\n",
            "1875/1875 [==============================] - 3s 2ms/step - loss: 0.3696 - accuracy: 0.8706 - val_loss: 0.4032 - val_accuracy: 0.8569\n",
            "Epoch 7/10\n",
            "1875/1875 [==============================] - 3s 2ms/step - loss: 0.3611 - accuracy: 0.8719 - val_loss: 0.4003 - val_accuracy: 0.8620\n",
            "Epoch 8/10\n",
            "1875/1875 [==============================] - 3s 2ms/step - loss: 0.3540 - accuracy: 0.8750 - val_loss: 0.4013 - val_accuracy: 0.8588\n",
            "Epoch 9/10\n",
            "1875/1875 [==============================] - 3s 2ms/step - loss: 0.3478 - accuracy: 0.8767 - val_loss: 0.3977 - val_accuracy: 0.8601\n",
            "Epoch 10/10\n",
            "1875/1875 [==============================] - 3s 2ms/step - loss: 0.3424 - accuracy: 0.8785 - val_loss: 0.3962 - val_accuracy: 0.8601\n",
            "Epoch 1/10\n",
            "1875/1875 [==============================] - 3s 2ms/step - loss: 0.6712 - accuracy: 0.7878 - val_loss: 0.5093 - val_accuracy: 0.8223\n",
            "Epoch 2/10\n",
            "1875/1875 [==============================] - 3s 2ms/step - loss: 0.4395 - accuracy: 0.8470 - val_loss: 0.4605 - val_accuracy: 0.8352\n",
            "Epoch 3/10\n",
            "1875/1875 [==============================] - 3s 2ms/step - loss: 0.4046 - accuracy: 0.8580 - val_loss: 0.4357 - val_accuracy: 0.8463\n",
            "Epoch 4/10\n",
            "1875/1875 [==============================] - 3s 2ms/step - loss: 0.3853 - accuracy: 0.8634 - val_loss: 0.4284 - val_accuracy: 0.8488\n",
            "Epoch 5/10\n",
            "1875/1875 [==============================] - 3s 2ms/step - loss: 0.3728 - accuracy: 0.8675 - val_loss: 0.4147 - val_accuracy: 0.8556\n",
            "Epoch 6/10\n",
            "1875/1875 [==============================] - 3s 2ms/step - loss: 0.3632 - accuracy: 0.8696 - val_loss: 0.4130 - val_accuracy: 0.8553\n",
            "Epoch 7/10\n",
            "1875/1875 [==============================] - 3s 2ms/step - loss: 0.3555 - accuracy: 0.8731 - val_loss: 0.4169 - val_accuracy: 0.8487\n",
            "Epoch 8/10\n",
            "1875/1875 [==============================] - 3s 2ms/step - loss: 0.3489 - accuracy: 0.8752 - val_loss: 0.4034 - val_accuracy: 0.8584\n",
            "Epoch 9/10\n",
            "1875/1875 [==============================] - 3s 2ms/step - loss: 0.3437 - accuracy: 0.8764 - val_loss: 0.4001 - val_accuracy: 0.8597\n",
            "Epoch 10/10\n",
            "1875/1875 [==============================] - 3s 2ms/step - loss: 0.3388 - accuracy: 0.8790 - val_loss: 0.3999 - val_accuracy: 0.8575\n",
            "Epoch 1/10\n",
            "1875/1875 [==============================] - 3s 2ms/step - loss: 0.5868 - accuracy: 0.7985 - val_loss: 0.4786 - val_accuracy: 0.8332\n",
            "Epoch 2/10\n",
            "1875/1875 [==============================] - 3s 2ms/step - loss: 0.4370 - accuracy: 0.8474 - val_loss: 0.4538 - val_accuracy: 0.8409\n",
            "Epoch 3/10\n",
            "1875/1875 [==============================] - 3s 2ms/step - loss: 0.4084 - accuracy: 0.8571 - val_loss: 0.4372 - val_accuracy: 0.8450\n",
            "Epoch 4/10\n",
            "1875/1875 [==============================] - 3s 2ms/step - loss: 0.3910 - accuracy: 0.8620 - val_loss: 0.4314 - val_accuracy: 0.8451\n",
            "Epoch 5/10\n",
            "1875/1875 [==============================] - 3s 2ms/step - loss: 0.3792 - accuracy: 0.8669 - val_loss: 0.4176 - val_accuracy: 0.8504\n",
            "Epoch 6/10\n",
            "1875/1875 [==============================] - 3s 2ms/step - loss: 0.3702 - accuracy: 0.8696 - val_loss: 0.4116 - val_accuracy: 0.8526\n",
            "Epoch 7/10\n",
            "1875/1875 [==============================] - 3s 2ms/step - loss: 0.3620 - accuracy: 0.8717 - val_loss: 0.4062 - val_accuracy: 0.8539\n",
            "Epoch 8/10\n",
            "1875/1875 [==============================] - 3s 2ms/step - loss: 0.3558 - accuracy: 0.8738 - val_loss: 0.4059 - val_accuracy: 0.8578\n",
            "Epoch 9/10\n",
            "1875/1875 [==============================] - 3s 2ms/step - loss: 0.3495 - accuracy: 0.8752 - val_loss: 0.3980 - val_accuracy: 0.8598\n",
            "Epoch 10/10\n",
            "1875/1875 [==============================] - 3s 2ms/step - loss: 0.3447 - accuracy: 0.8772 - val_loss: 0.4150 - val_accuracy: 0.8550\n",
            "Epoch 1/10\n",
            "1875/1875 [==============================] - 3s 2ms/step - loss: 0.6005 - accuracy: 0.8081 - val_loss: 0.4668 - val_accuracy: 0.8410\n",
            "Epoch 2/10\n",
            "1875/1875 [==============================] - 3s 2ms/step - loss: 0.4178 - accuracy: 0.8543 - val_loss: 0.4409 - val_accuracy: 0.8473\n",
            "Epoch 3/10\n",
            "1875/1875 [==============================] - 3s 2ms/step - loss: 0.3882 - accuracy: 0.8632 - val_loss: 0.4177 - val_accuracy: 0.8550\n",
            "Epoch 4/10\n",
            "1875/1875 [==============================] - 3s 2ms/step - loss: 0.3711 - accuracy: 0.8687 - val_loss: 0.4284 - val_accuracy: 0.8505\n",
            "Epoch 5/10\n",
            "1875/1875 [==============================] - 3s 2ms/step - loss: 0.3605 - accuracy: 0.8725 - val_loss: 0.4087 - val_accuracy: 0.8523\n",
            "Epoch 6/10\n",
            "1875/1875 [==============================] - 3s 2ms/step - loss: 0.3516 - accuracy: 0.8748 - val_loss: 0.4222 - val_accuracy: 0.8483\n",
            "Epoch 7/10\n",
            "1875/1875 [==============================] - 3s 2ms/step - loss: 0.3454 - accuracy: 0.8772 - val_loss: 0.4024 - val_accuracy: 0.8581\n",
            "Epoch 8/10\n",
            "1875/1875 [==============================] - 3s 2ms/step - loss: 0.3390 - accuracy: 0.8788 - val_loss: 0.4007 - val_accuracy: 0.8597\n",
            "Epoch 9/10\n",
            "1875/1875 [==============================] - 3s 2ms/step - loss: 0.3337 - accuracy: 0.8801 - val_loss: 0.4036 - val_accuracy: 0.8583\n",
            "Epoch 10/10\n",
            "1875/1875 [==============================] - 3s 2ms/step - loss: 0.3271 - accuracy: 0.8831 - val_loss: 0.3936 - val_accuracy: 0.8616\n"
          ],
          "name": "stdout"
        }
      ]
    },
    {
      "cell_type": "code",
      "metadata": {
        "id": "_VS9cg1HIPjM",
        "colab_type": "code",
        "colab": {
          "base_uri": "https://localhost:8080/",
          "height": 265
        },
        "outputId": "9e195478-7e49-4652-cfb1-df2369a92f64"
      },
      "source": [
        "stop = EarlyStopping(monitor='val_accuracy', min_delta=0.01, patience=3)\n",
        "\n",
        "model2 = Sequential([\n",
        "      Flatten(input_shape=(28, 28)),\n",
        "      Dense(15, activation='relu'),\n",
        "      Dense(10, activation='softmax')\n",
        "  ])\n",
        "\n",
        "model2.compile(loss = 'categorical_crossentropy', optimizer='nadam', metrics=['accuracy'])\n",
        "\n",
        "history = model2.fit(\n",
        "      x = X_train, \n",
        "      y = y_train,\n",
        "      epochs = 100,\n",
        "      validation_data = (X_test, y_test),\n",
        "      callbacks = [stop]\n",
        "  )"
      ],
      "execution_count": 29,
      "outputs": [
        {
          "output_type": "stream",
          "text": [
            "Epoch 1/100\n",
            "1875/1875 [==============================] - 3s 2ms/step - loss: 0.5960 - accuracy: 0.7984 - val_loss: 0.4925 - val_accuracy: 0.8327\n",
            "Epoch 2/100\n",
            "1875/1875 [==============================] - 3s 2ms/step - loss: 0.4342 - accuracy: 0.8491 - val_loss: 0.4548 - val_accuracy: 0.8405\n",
            "Epoch 3/100\n",
            "1875/1875 [==============================] - 3s 2ms/step - loss: 0.4054 - accuracy: 0.8583 - val_loss: 0.4499 - val_accuracy: 0.8403\n",
            "Epoch 4/100\n",
            "1875/1875 [==============================] - 3s 1ms/step - loss: 0.3900 - accuracy: 0.8625 - val_loss: 0.4193 - val_accuracy: 0.8513\n",
            "Epoch 5/100\n",
            "1875/1875 [==============================] - 3s 2ms/step - loss: 0.3752 - accuracy: 0.8660 - val_loss: 0.4191 - val_accuracy: 0.8503\n",
            "Epoch 6/100\n",
            "1875/1875 [==============================] - 3s 2ms/step - loss: 0.3644 - accuracy: 0.8705 - val_loss: 0.4036 - val_accuracy: 0.8581\n",
            "Epoch 7/100\n",
            "1875/1875 [==============================] - 3s 2ms/step - loss: 0.3560 - accuracy: 0.8730 - val_loss: 0.4001 - val_accuracy: 0.8573\n"
          ],
          "name": "stdout"
        }
      ]
    },
    {
      "cell_type": "code",
      "metadata": {
        "id": "8Pa42VEKI-u-",
        "colab_type": "code",
        "colab": {
          "base_uri": "https://localhost:8080/",
          "height": 34
        },
        "outputId": "165f009f-3ba8-4d42-e75f-1f0ed3feceef"
      },
      "source": [
        "history.history.keys()"
      ],
      "execution_count": 30,
      "outputs": [
        {
          "output_type": "execute_result",
          "data": {
            "text/plain": [
              "dict_keys(['loss', 'accuracy', 'val_loss', 'val_accuracy'])"
            ]
          },
          "metadata": {
            "tags": []
          },
          "execution_count": 30
        }
      ]
    },
    {
      "cell_type": "code",
      "metadata": {
        "id": "TsPOnJ3-JAEi",
        "colab_type": "code",
        "colab": {
          "base_uri": "https://localhost:8080/",
          "height": 294
        },
        "outputId": "b52caf80-76e6-4232-aae4-00b4940667e9"
      },
      "source": [
        "plt.plot(history.history['loss'])\n",
        "plt.plot(history.history['val_loss'])\n",
        "plt.title('Model Loss')\n",
        "plt.ylabel('Loss')\n",
        "plt.xlabel('Epoch')\n",
        "plt.legend(['train', 'test'], loc='upper right')\n",
        "plt.show();"
      ],
      "execution_count": 31,
      "outputs": [
        {
          "output_type": "display_data",
          "data": {
            "image/png": "[encoded data removed]",
            "text/plain": [
              "<Figure size 432x288 with 1 Axes>"
            ]
          },
          "metadata": {
            "tags": [],
            "needs_background": "light"
          }
        }
      ]
    },
    {
      "cell_type": "code",
      "metadata": {
        "id": "BAxYyqvBJEpl",
        "colab_type": "code",
        "colab": {
          "base_uri": "https://localhost:8080/",
          "height": 294
        },
        "outputId": "47d836df-512c-4acf-d0bd-5efd10bb6284"
      },
      "source": [
        "plt.plot(history.history['accuracy'])\n",
        "plt.plot(history.history['val_accuracy'])\n",
        "plt.title('Model Accuracy')\n",
        "plt.ylabel('Accuracy')\n",
        "plt.xlabel('Epoch')\n",
        "plt.legend(['train', 'test'], loc='upper left')\n",
        "plt.show();"
      ],
      "execution_count": 32,
      "outputs": [
        {
          "output_type": "display_data",
          "data": {
            "image/png": "[encoded data removed]",
            "text/plain": [
              "<Figure size 432x288 with 1 Axes>"
            ]
          },
          "metadata": {
            "tags": [],
            "needs_background": "light"
          }
        }
      ]
    },
    {
      "cell_type": "markdown",
      "metadata": {
        "colab_type": "text",
        "id": "zv_3xNMjzdLI"
      },
      "source": [
        "## Stretch Goals:\n",
        "\n",
        "- Use Hyperparameter Tuning to make the accuracy of your models as high as possible. (error as low as possible)\n",
        "- Use Cross Validation techniques to get more consistent results with your model.\n",
        "- Use GridSearchCV to try different combinations of hyperparameters. \n",
        "- Start looking into other types of Keras layers for CNNs and RNNs maybe try and build a CNN model for fashion-MNIST to see how the results compare."
      ]
    }
  ]
}